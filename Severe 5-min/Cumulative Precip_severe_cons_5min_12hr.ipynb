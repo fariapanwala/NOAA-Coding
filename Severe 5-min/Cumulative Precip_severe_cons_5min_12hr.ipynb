{
 "cells": [
  {
   "cell_type": "code",
   "execution_count": 1,
   "id": "83d28093",
   "metadata": {},
   "outputs": [],
   "source": [
    "import numpy as np\n",
    "import matplotlib.pyplot as plt\n",
    "import math"
   ]
  },
  {
   "cell_type": "markdown",
   "id": "18ad22a0",
   "metadata": {},
   "source": [
    "<font size=\"3\">Salem, MO: 1200 UTC 22 March 2022-1200 UTC 23 March 2022</font>"
   ]
  },
  {
   "cell_type": "code",
   "execution_count": 2,
   "id": "9236619f",
   "metadata": {},
   "outputs": [
    {
     "name": "stdout",
     "output_type": "stream",
     "text": [
      "[0.016 0.016 0.023 0.216 0.244 0.552 0.8   2.537 4.085 4.167 4.176 4.193\n",
      " 4.513 4.513 4.621 6.475 8.791 8.791 8.791 8.791 8.791 8.828 8.828 8.83\n",
      " 8.835]\n"
     ]
    }
   ],
   "source": [
    "#12 hr hrrr:\n",
    "with open('hrrr_f12_Salem_MO.txt') as f:\n",
    "    lst=[line.split()[2] for line in f]\n",
    "    temp=[]\n",
    "    for i in lst:\n",
    "        new=i.replace(',',\"\")\n",
    "        temp.append(new)\n",
    "    temp.pop(0)\n",
    "    temp=[float(x) for x in temp]\n",
    "    temp=temp[1920:1945]\n",
    "    #temp=temp[2015:2063]\n",
    "    temp=np.cumsum(temp)\n",
    "    print(temp)\n",
    "#full time period is [2015:2112]"
   ]
  },
  {
   "cell_type": "code",
   "execution_count": 3,
   "id": "e9d4dbcc",
   "metadata": {},
   "outputs": [
    {
     "name": "stdout",
     "output_type": "stream",
     "text": [
      "[-9999.0, -9999.0, -9999.0, -9999.0, -9999.0, -9999.0, -9999.0, -9999.0, -9999.0, -9999.0, -9999.0, -9999.0, -9999.0, -9999.0, -9999.0, -9999.0, -9999.0, -9999.0, -9999.0, -9999.0, -9999.0, -9999.0, -9999.0, -9999.0, -9999.0]\n"
     ]
    }
   ],
   "source": [
    "#Air Temp CRN:\n",
    "with open('CRNS0101-05-2022-MO_Salem_10_W.txt') as f:\n",
    "    lst=[line.split()[9] for line in f]\n",
    "\n",
    "    a=(float(lst[23183])+float(lst[23184]))/2\n",
    "    b=(float(lst[23195])+float(lst[23196]))/2\n",
    "    c=(float(lst[23207])+float(lst[23208]))/2\n",
    "    d=(float(lst[23219])+float(lst[23220]))/2\n",
    "    e=(float(lst[23231])+float(lst[23232]))/2\n",
    "    f=(float(lst[23243])+float(lst[23244]))/2\n",
    "    g=(float(lst[23255])+float(lst[23256]))/2\n",
    "    h=(float(lst[23267])+float(lst[23268]))/2\n",
    "    i=(float(lst[23279])+float(lst[23280]))/2\n",
    "    j=(float(lst[23291])+float(lst[23292]))/2\n",
    "    k=(float(lst[23303])+float(lst[23304]))/2\n",
    "    l=(float(lst[23315])+float(lst[23316]))/2\n",
    "    m=(float(lst[23327])+float(lst[23328]))/2\n",
    "    n=(float(lst[23339])+float(lst[23340]))/2\n",
    "    o=(float(lst[23351])+float(lst[23352]))/2\n",
    "    p=(float(lst[23363])+float(lst[23364]))/2\n",
    "    q=(float(lst[23375])+float(lst[23376]))/2\n",
    "    r=(float(lst[23387])+float(lst[23388]))/2\n",
    "    s=(float(lst[23399])+float(lst[23400]))/2\n",
    "    t=(float(lst[23411])+float(lst[23412]))/2\n",
    "    u=(float(lst[23423])+float(lst[23424]))/2\n",
    "    v=(float(lst[23435])+float(lst[23436]))/2\n",
    "    w=(float(lst[23447])+float(lst[23448]))/2\n",
    "    x=(float(lst[23459])+float(lst[23460]))/2\n",
    "    y=(float(lst[23471])+float(lst[23472]))/2\n",
    "    temp_crn=[a,b,c,d,e,f,g,h,i,j,k,l,m,n,o,p,q,r,s,t,u,v,w,x,y]\n",
    "    #temp_crn=np.cumsum(temp_crn)\n",
    "    print(temp_crn)"
   ]
  },
  {
   "cell_type": "code",
   "execution_count": 4,
   "id": "1e9aed03-d99c-4045-812a-e26bcc99b84f",
   "metadata": {},
   "outputs": [],
   "source": [
    "# difference1_sal = []\n",
    "\n",
    "# zip_object = zip(temp, temp_crn)\n",
    "# for temp_i, temp_crn_i in zip_object:\n",
    "#     difference1_sal.append(temp_i-temp_crn_i)\n",
    "\n",
    "# print(difference1_sal)"
   ]
  },
  {
   "cell_type": "markdown",
   "id": "9043c519",
   "metadata": {},
   "source": [
    "<font size=\"3\">Batesville, AR: 1200 UTC 22 March 2022-1200 UTC 23 March 2022</font>"
   ]
  },
  {
   "cell_type": "code",
   "execution_count": 5,
   "id": "ee5d006f",
   "metadata": {},
   "outputs": [
    {
     "name": "stdout",
     "output_type": "stream",
     "text": [
      "[ 3.538  6.409  7.051  8.284  9.755 12.057 14.2   16.233 16.98  17.007\n",
      " 17.007 17.211 17.211 17.212 17.286 26.38  26.38  26.38  26.38  26.38\n",
      " 26.38  26.38  26.382 26.382 26.385]\n"
     ]
    }
   ],
   "source": [
    "#12 hr hrrr:\n",
    "with open('hrrr_f12_Batesville_AR.txt') as f:\n",
    "    lst=[line.split()[2] for line in f]\n",
    "    temp=[]\n",
    "    for i in lst:\n",
    "        new=i.replace(',',\"\")\n",
    "        temp.append(new)\n",
    "    temp.pop(0)\n",
    "    temp=[float(x) for x in temp]\n",
    "    temp=temp[1920:1945]\n",
    "    #temp=temp[2015:2063]\n",
    "    temp=np.cumsum(temp)\n",
    "    print(temp)\n",
    "#full time period is [2015:2112]"
   ]
  },
  {
   "cell_type": "code",
   "execution_count": 6,
   "id": "1eabebb5",
   "metadata": {},
   "outputs": [
    {
     "name": "stdout",
     "output_type": "stream",
     "text": [
      "[0.1  0.1  0.4  0.5  0.5  0.9  1.05 1.05 1.05 1.05 1.05 1.05 1.05 1.05\n",
      " 1.05 1.05 1.05 1.05 1.05 1.05 1.05 1.05 1.05 1.05 1.05]\n"
     ]
    }
   ],
   "source": [
    "#Air Temp CRN:\n",
    "with open('CRNS0101-05-2022-AR_Batesville_8_WNW.txt') as f:\n",
    "    lst=[line.split()[9] for line in f]\n",
    "\n",
    "    a=(float(lst[23183])+float(lst[23184]))/2\n",
    "    b=(float(lst[23195])+float(lst[23196]))/2\n",
    "    c=(float(lst[23207])+float(lst[23208]))/2\n",
    "    d=(float(lst[23219])+float(lst[23220]))/2\n",
    "    e=(float(lst[23231])+float(lst[23232]))/2\n",
    "    f=(float(lst[23243])+float(lst[23244]))/2\n",
    "    g=(float(lst[23255])+float(lst[23256]))/2\n",
    "    h=(float(lst[23267])+float(lst[23268]))/2\n",
    "    i=(float(lst[23279])+float(lst[23280]))/2\n",
    "    j=(float(lst[23291])+float(lst[23292]))/2\n",
    "    k=(float(lst[23303])+float(lst[23304]))/2\n",
    "    l=(float(lst[23315])+float(lst[23316]))/2\n",
    "    m=(float(lst[23327])+float(lst[23328]))/2\n",
    "    n=(float(lst[23339])+float(lst[23340]))/2\n",
    "    o=(float(lst[23351])+float(lst[23352]))/2\n",
    "    p=(float(lst[23363])+float(lst[23364]))/2\n",
    "    q=(float(lst[23375])+float(lst[23376]))/2\n",
    "    r=(float(lst[23387])+float(lst[23388]))/2\n",
    "    s=(float(lst[23399])+float(lst[23400]))/2\n",
    "    t=(float(lst[23411])+float(lst[23412]))/2\n",
    "    u=(float(lst[23423])+float(lst[23424]))/2\n",
    "    v=(float(lst[23435])+float(lst[23436]))/2\n",
    "    w=(float(lst[23447])+float(lst[23448]))/2\n",
    "    x=(float(lst[23459])+float(lst[23460]))/2\n",
    "    y=(float(lst[23471])+float(lst[23472]))/2\n",
    "    temp_crn=[a,b,c,d,e,f,g,h,i,j,k,l,m,n,o,p,q,r,s,t,u,v,w,x,y]\n",
    "    temp_crn=np.cumsum(temp_crn)\n",
    "    print(temp_crn)"
   ]
  },
  {
   "cell_type": "code",
   "execution_count": 7,
   "id": "62a46873",
   "metadata": {},
   "outputs": [
    {
     "name": "stdout",
     "output_type": "stream",
     "text": [
      "[3.4379999999999997, 6.309, 6.651, 7.784000000000001, 9.255, 11.157, 13.149999999999999, 15.183, 15.93, 15.957, 15.957, 16.161, 16.161, 16.162000000000003, 16.236000000000004, 25.330000000000002, 25.330000000000002, 25.330000000000002, 25.330000000000002, 25.330000000000002, 25.330000000000002, 25.330000000000002, 25.332, 25.332, 25.335]\n"
     ]
    }
   ],
   "source": [
    "difference1_bat = []\n",
    "\n",
    "zip_object = zip(temp, temp_crn)\n",
    "for temp_i, temp_crn_i in zip_object:\n",
    "    difference1_bat.append(temp_i-temp_crn_i)\n",
    "\n",
    "print(difference1_bat)"
   ]
  },
  {
   "cell_type": "markdown",
   "id": "2a2589df",
   "metadata": {},
   "source": [
    "<font size=\"3\">Lafayette, LA: 1500 UTC 22 March 2022-1500 UTC 23 March 2022</font>"
   ]
  },
  {
   "cell_type": "code",
   "execution_count": 8,
   "id": "94433671",
   "metadata": {},
   "outputs": [
    {
     "name": "stdout",
     "output_type": "stream",
     "text": [
      "[0.0000e+00 0.0000e+00 0.0000e+00 8.0000e-03 7.4780e+00 3.0718e+01\n",
      " 3.6762e+01 3.6762e+01 3.6762e+01 3.6762e+01 3.6762e+01 3.6762e+01\n",
      " 3.6764e+01 3.6764e+01 3.6764e+01 3.6764e+01 3.6764e+01 3.6764e+01\n",
      " 3.6764e+01 3.6764e+01 3.6764e+01 3.6764e+01 3.6764e+01 3.6764e+01\n",
      " 3.6764e+01]\n"
     ]
    }
   ],
   "source": [
    "#12 hr hrrr:\n",
    "with open('hrrr_f12_Lafayette_LA.txt') as f:\n",
    "    lst=[line.split()[2] for line in f]\n",
    "    temp=[]\n",
    "    for i in lst:\n",
    "        new=i.replace(',',\"\")\n",
    "        temp.append(new)\n",
    "    temp.pop(0)\n",
    "    temp=[float(x) for x in temp]\n",
    "    temp=temp[1923:1948]\n",
    "    #temp=temp[2015:2063]\n",
    "    temp=np.cumsum(temp)\n",
    "    print(temp)\n",
    "#full time period is [2015:2112]"
   ]
  },
  {
   "cell_type": "code",
   "execution_count": 9,
   "id": "f946394b",
   "metadata": {},
   "outputs": [
    {
     "name": "stdout",
     "output_type": "stream",
     "text": [
      "[0.   0.   0.   0.   0.   2.45 2.45 2.45 2.45 2.45 2.45 2.45 2.45 2.45\n",
      " 2.45 2.45 2.45 2.45 2.45 2.45 2.45 2.45 2.45 2.45 2.45]\n"
     ]
    }
   ],
   "source": [
    "#Air Temp CRN:\n",
    "with open('CRNS0101-05-2022-LA_Lafayette_13_SE.txt') as f:\n",
    "    lst=[line.split()[9] for line in f]\n",
    "\n",
    "    a=(float(lst[23219])+float(lst[23220]))/2\n",
    "    b=(float(lst[23231])+float(lst[23232]))/2\n",
    "    c=(float(lst[23243])+float(lst[23244]))/2\n",
    "    d=(float(lst[23255])+float(lst[23256]))/2\n",
    "    e=(float(lst[23267])+float(lst[23268]))/2\n",
    "    f=(float(lst[23279])+float(lst[23280]))/2\n",
    "    g=(float(lst[23291])+float(lst[23292]))/2\n",
    "    h=(float(lst[23303])+float(lst[23304]))/2\n",
    "    i=(float(lst[23315])+float(lst[23316]))/2\n",
    "    j=(float(lst[23327])+float(lst[23328]))/2\n",
    "    k=(float(lst[23339])+float(lst[23340]))/2\n",
    "    l=(float(lst[23351])+float(lst[23352]))/2\n",
    "    m=(float(lst[23363])+float(lst[23364]))/2\n",
    "    n=(float(lst[23375])+float(lst[23376]))/2\n",
    "    o=(float(lst[23387])+float(lst[23388]))/2\n",
    "    p=(float(lst[23399])+float(lst[23400]))/2\n",
    "    q=(float(lst[23411])+float(lst[23412]))/2\n",
    "    r=(float(lst[23423])+float(lst[23424]))/2\n",
    "    s=(float(lst[23435])+float(lst[23436]))/2\n",
    "    t=(float(lst[23447])+float(lst[23448]))/2\n",
    "    u=(float(lst[23459])+float(lst[23460]))/2\n",
    "    v=(float(lst[23471])+float(lst[23472]))/2\n",
    "    w=(float(lst[23483])+float(lst[23484]))/2\n",
    "    x=(float(lst[23495])+float(lst[23496]))/2\n",
    "    y=(float(lst[23507])+float(lst[23508]))/2\n",
    "    temp_crn=[a,b,c,d,e,f,g,h,i,j,k,l,m,n,o,p,q,r,s,t,u,v,w,x,y]\n",
    "    temp_crn=np.cumsum(temp_crn)\n",
    "    print(temp_crn)"
   ]
  },
  {
   "cell_type": "code",
   "execution_count": 10,
   "id": "9b94d0f9",
   "metadata": {},
   "outputs": [
    {
     "name": "stdout",
     "output_type": "stream",
     "text": [
      "[0.0, 0.0, 0.0, 0.008, 7.478, 28.267999999999997, 34.31199999999999, 34.31199999999999, 34.31199999999999, 34.31199999999999, 34.31199999999999, 34.31199999999999, 34.31399999999999, 34.31399999999999, 34.31399999999999, 34.31399999999999, 34.31399999999999, 34.31399999999999, 34.31399999999999, 34.31399999999999, 34.31399999999999, 34.31399999999999, 34.31399999999999, 34.31399999999999, 34.31399999999999]\n"
     ]
    }
   ],
   "source": [
    "difference1_laf = []\n",
    "\n",
    "zip_object = zip(temp, temp_crn)\n",
    "for temp_i, temp_crn_i in zip_object:\n",
    "    difference1_laf.append(temp_i-temp_crn_i)\n",
    "\n",
    "print(difference1_laf)"
   ]
  },
  {
   "cell_type": "markdown",
   "id": "7a8d079f",
   "metadata": {},
   "source": [
    "<font size=\"3\">Monroe, LA: 1500 UTC 22 March 2022-1500 UTC 23 March 2022</font>"
   ]
  },
  {
   "cell_type": "code",
   "execution_count": 11,
   "id": "821d447a",
   "metadata": {},
   "outputs": [
    {
     "name": "stdout",
     "output_type": "stream",
     "text": [
      "[ 3.221 10.496 15.125 20.29  20.369 20.37  20.37  20.37  20.37  20.37\n",
      " 20.592 21.28  21.29  21.29  21.296 21.306 21.321 21.34  21.34  21.34\n",
      " 21.341 21.341 21.342 21.342 21.347]\n"
     ]
    }
   ],
   "source": [
    "#12 hr hrrr:\n",
    "with open('hrrr_f12_Monroe_LA.txt') as f:\n",
    "    lst=[line.split()[2] for line in f]\n",
    "    temp=[]\n",
    "    for i in lst:\n",
    "        new=i.replace(',',\"\")\n",
    "        temp.append(new)\n",
    "    temp.pop(0)\n",
    "    temp=[float(x) for x in temp]\n",
    "    temp=temp[1923:1948]\n",
    "    #temp=temp[2015:2063]\n",
    "    temp=np.cumsum(temp)\n",
    "    print(temp)\n",
    "#full time period is [2015:2112]"
   ]
  },
  {
   "cell_type": "code",
   "execution_count": 12,
   "id": "210341da",
   "metadata": {},
   "outputs": [
    {
     "name": "stdout",
     "output_type": "stream",
     "text": [
      "[0.35 0.65 1.25 1.25 1.25 1.25 1.25 1.25 1.25 1.25 1.25 1.25 1.25 1.25\n",
      " 1.25 1.25 1.25 1.25 1.25 1.25 1.25 1.25 1.25 1.25 1.25]\n"
     ]
    }
   ],
   "source": [
    "#Air Temp CRN:\n",
    "with open('CRNS0101-05-2022-LA_Monroe_26_N.txt') as f:\n",
    "    lst=[line.split()[9] for line in f]\n",
    "\n",
    "    a=(float(lst[23219])+float(lst[23220]))/2\n",
    "    b=(float(lst[23231])+float(lst[23232]))/2\n",
    "    c=(float(lst[23243])+float(lst[23244]))/2\n",
    "    d=(float(lst[23255])+float(lst[23256]))/2\n",
    "    e=(float(lst[23267])+float(lst[23268]))/2\n",
    "    f=(float(lst[23279])+float(lst[23280]))/2\n",
    "    g=(float(lst[23291])+float(lst[23292]))/2\n",
    "    h=(float(lst[23303])+float(lst[23304]))/2\n",
    "    i=(float(lst[23315])+float(lst[23316]))/2\n",
    "    j=(float(lst[23327])+float(lst[23328]))/2\n",
    "    k=(float(lst[23339])+float(lst[23340]))/2\n",
    "    l=(float(lst[23351])+float(lst[23352]))/2\n",
    "    m=(float(lst[23363])+float(lst[23364]))/2\n",
    "    n=(float(lst[23375])+float(lst[23376]))/2\n",
    "    o=(float(lst[23387])+float(lst[23388]))/2\n",
    "    p=(float(lst[23399])+float(lst[23400]))/2\n",
    "    q=(float(lst[23411])+float(lst[23412]))/2\n",
    "    r=(float(lst[23423])+float(lst[23424]))/2\n",
    "    s=(float(lst[23435])+float(lst[23436]))/2\n",
    "    t=(float(lst[23447])+float(lst[23448]))/2\n",
    "    u=(float(lst[23459])+float(lst[23460]))/2\n",
    "    v=(float(lst[23471])+float(lst[23472]))/2\n",
    "    w=(float(lst[23483])+float(lst[23484]))/2\n",
    "    x=(float(lst[23495])+float(lst[23496]))/2\n",
    "    y=(float(lst[23507])+float(lst[23508]))/2\n",
    "    temp_crn=[a,b,c,d,e,f,g,h,i,j,k,l,m,n,o,p,q,r,s,t,u,v,w,x,y]\n",
    "    temp_crn=np.cumsum(temp_crn)\n",
    "    print(temp_crn)"
   ]
  },
  {
   "cell_type": "code",
   "execution_count": 13,
   "id": "2b4e383a",
   "metadata": {},
   "outputs": [
    {
     "name": "stdout",
     "output_type": "stream",
     "text": [
      "[2.871, 9.846, 13.875, 19.04, 19.119, 19.12, 19.12, 19.12, 19.12, 19.12, 19.342000000000002, 20.03, 20.040000000000003, 20.040000000000003, 20.046000000000003, 20.056000000000004, 20.071000000000005, 20.090000000000003, 20.090000000000003, 20.090000000000003, 20.091000000000005, 20.091000000000005, 20.092000000000006, 20.092000000000006, 20.097000000000005]\n"
     ]
    }
   ],
   "source": [
    "difference1_mon = []\n",
    "\n",
    "zip_object = zip(temp, temp_crn)\n",
    "for temp_i, temp_crn_i in zip_object:\n",
    "    difference1_mon.append(temp_i-temp_crn_i)\n",
    "\n",
    "print(difference1_mon)"
   ]
  },
  {
   "cell_type": "markdown",
   "id": "26c585ff",
   "metadata": {},
   "source": [
    "<font size=\"3\">Holly Springs, MS: 1800 UTC 22 March 2022-1800 UTC 23 March 2022</font>"
   ]
  },
  {
   "cell_type": "code",
   "execution_count": 14,
   "id": "4504c8c6",
   "metadata": {},
   "outputs": [
    {
     "name": "stdout",
     "output_type": "stream",
     "text": [
      "[3.0000e-03 6.0000e-03 2.0595e+01 3.8752e+01 4.4081e+01 5.0746e+01\n",
      " 5.2160e+01 5.2160e+01 5.2161e+01 5.2170e+01 5.2170e+01 5.2171e+01\n",
      " 5.2277e+01 5.2395e+01 5.2397e+01 5.2422e+01 5.2430e+01 5.2437e+01\n",
      " 5.2437e+01 5.2437e+01 5.2440e+01 5.2440e+01 5.2446e+01 5.2471e+01\n",
      " 5.2513e+01]\n"
     ]
    }
   ],
   "source": [
    "#12 hr hrrr:\n",
    "with open('hrrr_f12_Holly Springs_MS.txt') as f:\n",
    "    lst=[line.split()[2] for line in f]\n",
    "    temp=[]\n",
    "    for i in lst:\n",
    "        new=i.replace(',',\"\")\n",
    "        temp.append(new)\n",
    "    temp.pop(0)\n",
    "    temp=[float(x) for x in temp]\n",
    "    temp=temp[1926:1951]\n",
    "    #temp=temp[2015:2063]\n",
    "    temp=np.cumsum(temp)\n",
    "    print(temp)\n",
    "#full time period is [2015:2112]"
   ]
  },
  {
   "cell_type": "code",
   "execution_count": 15,
   "id": "d0ee337a",
   "metadata": {},
   "outputs": [
    {
     "name": "stdout",
     "output_type": "stream",
     "text": [
      "[0.15 1.75 3.5  3.75 3.9  3.9  3.9  3.9  3.9  3.9  3.9  3.9  3.9  3.9\n",
      " 3.9  3.9  3.9  3.9  3.9  3.9  3.9  3.9  3.9  3.9  3.9 ]\n"
     ]
    }
   ],
   "source": [
    "#Air Temp CRN:\n",
    "with open('CRNS0101-05-2022-MS_Holly_Springs_4_N.txt') as f:\n",
    "    lst=[line.split()[9] for line in f]\n",
    "\n",
    "    a=(float(lst[23255])+float(lst[23256]))/2\n",
    "    b=(float(lst[23267])+float(lst[23268]))/2\n",
    "    c=(float(lst[23279])+float(lst[23280]))/2\n",
    "    d=(float(lst[23291])+float(lst[23292]))/2\n",
    "    e=(float(lst[23303])+float(lst[23304]))/2\n",
    "    f=(float(lst[23315])+float(lst[23316]))/2\n",
    "    g=(float(lst[23327])+float(lst[23328]))/2\n",
    "    h=(float(lst[23339])+float(lst[23340]))/2\n",
    "    i=(float(lst[23351])+float(lst[23352]))/2\n",
    "    j=(float(lst[23363])+float(lst[23364]))/2\n",
    "    k=(float(lst[23375])+float(lst[23376]))/2\n",
    "    l=(float(lst[23387])+float(lst[23388]))/2\n",
    "    m=(float(lst[23399])+float(lst[23400]))/2\n",
    "    n=(float(lst[23411])+float(lst[23412]))/2\n",
    "    o=(float(lst[23423])+float(lst[23424]))/2\n",
    "    p=(float(lst[23435])+float(lst[23436]))/2\n",
    "    q=(float(lst[23447])+float(lst[23448]))/2\n",
    "    r=(float(lst[23459])+float(lst[23460]))/2\n",
    "    s=(float(lst[23471])+float(lst[23472]))/2\n",
    "    t=(float(lst[23483])+float(lst[23484]))/2\n",
    "    u=(float(lst[23495])+float(lst[23496]))/2\n",
    "    v=(float(lst[23507])+float(lst[23508]))/2\n",
    "    w=(float(lst[23519])+float(lst[23520]))/2\n",
    "    x=(float(lst[23531])+float(lst[23532]))/2\n",
    "    y=(float(lst[23543])+float(lst[23544]))/2\n",
    "    temp_crn=[a,b,c,d,e,f,g,h,i,j,k,l,m,n,o,p,q,r,s,t,u,v,w,x,y]\n",
    "    temp_crn=np.cumsum(temp_crn)\n",
    "    print(temp_crn)"
   ]
  },
  {
   "cell_type": "code",
   "execution_count": 16,
   "id": "46b095cb",
   "metadata": {},
   "outputs": [
    {
     "name": "stdout",
     "output_type": "stream",
     "text": [
      "[-0.147, -1.744, 17.095, 35.001999999999995, 40.181, 46.846, 48.26, 48.26, 48.260999999999996, 48.269999999999996, 48.269999999999996, 48.270999999999994, 48.376999999999995, 48.495, 48.497, 48.522, 48.53, 48.537, 48.537, 48.537, 48.54, 48.54, 48.546, 48.571, 48.613]\n"
     ]
    }
   ],
   "source": [
    "difference1_hol = []\n",
    "\n",
    "zip_object = zip(temp, temp_crn)\n",
    "for temp_i, temp_crn_i in zip_object:\n",
    "    difference1_hol.append(temp_i-temp_crn_i)\n",
    "\n",
    "print(difference1_hol)"
   ]
  },
  {
   "cell_type": "markdown",
   "id": "1c76c308",
   "metadata": {},
   "source": [
    "<font size=\"3\">Newton, MS: 1800 UTC 22 March 2022-1800 UTC 23 March 2022</font>"
   ]
  },
  {
   "cell_type": "code",
   "execution_count": 17,
   "id": "a6fc5b55",
   "metadata": {},
   "outputs": [
    {
     "name": "stdout",
     "output_type": "stream",
     "text": [
      "[ 4.916  5.748 16.862 16.896 18.941 18.948 19.104 25.372 32.546 32.58\n",
      " 32.58  32.58  32.58  32.58  32.609 32.609 32.609 32.609 32.609 32.609\n",
      " 32.609 32.609 32.609 32.609 32.609]\n"
     ]
    }
   ],
   "source": [
    "#12 hr hrrr:\n",
    "with open('hrrr_f12_Newton_MS.txt') as f:\n",
    "    lst=[line.split()[2] for line in f]\n",
    "    temp=[]\n",
    "    for i in lst:\n",
    "        new=i.replace(',',\"\")\n",
    "        temp.append(new)\n",
    "    temp.pop(0)\n",
    "    temp=[float(x) for x in temp]\n",
    "    temp=temp[1926:1951]\n",
    "    #temp=temp[2015:2063]\n",
    "    temp=np.cumsum(temp)\n",
    "    print(temp)\n",
    "#full time period is [2015:2112]"
   ]
  },
  {
   "cell_type": "code",
   "execution_count": 18,
   "id": "449e8daa",
   "metadata": {},
   "outputs": [
    {
     "name": "stdout",
     "output_type": "stream",
     "text": [
      "[0.   0.15 0.5  2.4  6.4  7.55 8.15 8.3  9.   9.   9.   9.   9.   9.\n",
      " 9.   9.   9.   9.   9.   9.   9.   9.   9.   9.   9.  ]\n"
     ]
    }
   ],
   "source": [
    "#Air Temp CRN:\n",
    "with open('CRNS0101-05-2022-MS_Newton_5_ENE.txt') as f:\n",
    "    lst=[line.split()[9] for line in f]\n",
    "\n",
    "    a=(float(lst[23255])+float(lst[23256]))/2\n",
    "    b=(float(lst[23267])+float(lst[23268]))/2\n",
    "    c=(float(lst[23279])+float(lst[23280]))/2\n",
    "    d=(float(lst[23291])+float(lst[23292]))/2\n",
    "    e=(float(lst[23303])+float(lst[23304]))/2\n",
    "    f=(float(lst[23315])+float(lst[23316]))/2\n",
    "    g=(float(lst[23327])+float(lst[23328]))/2\n",
    "    h=(float(lst[23339])+float(lst[23340]))/2\n",
    "    i=(float(lst[23351])+float(lst[23352]))/2\n",
    "    j=(float(lst[23363])+float(lst[23364]))/2\n",
    "    k=(float(lst[23375])+float(lst[23376]))/2\n",
    "    l=(float(lst[23387])+float(lst[23388]))/2\n",
    "    m=(float(lst[23399])+float(lst[23400]))/2\n",
    "    n=(float(lst[23411])+float(lst[23412]))/2\n",
    "    o=(float(lst[23423])+float(lst[23424]))/2\n",
    "    p=(float(lst[23435])+float(lst[23436]))/2\n",
    "    q=(float(lst[23447])+float(lst[23448]))/2\n",
    "    r=(float(lst[23459])+float(lst[23460]))/2\n",
    "    s=(float(lst[23471])+float(lst[23472]))/2\n",
    "    t=(float(lst[23483])+float(lst[23484]))/2\n",
    "    u=(float(lst[23495])+float(lst[23496]))/2\n",
    "    v=(float(lst[23507])+float(lst[23508]))/2\n",
    "    w=(float(lst[23519])+float(lst[23520]))/2\n",
    "    x=(float(lst[23531])+float(lst[23532]))/2\n",
    "    y=(float(lst[23543])+float(lst[23544]))/2\n",
    "    temp_crn=[a,b,c,d,e,f,g,h,i,j,k,l,m,n,o,p,q,r,s,t,u,v,w,x,y]\n",
    "    temp_crn=np.cumsum(temp_crn)\n",
    "    print(temp_crn)"
   ]
  },
  {
   "cell_type": "code",
   "execution_count": 19,
   "id": "e588ab70",
   "metadata": {},
   "outputs": [
    {
     "name": "stdout",
     "output_type": "stream",
     "text": [
      "[4.916, 5.598, 16.362000000000002, 14.496, 12.541000000000002, 11.398000000000003, 10.954000000000002, 17.072000000000003, 23.546000000000006, 23.580000000000005, 23.580000000000005, 23.580000000000005, 23.580000000000005, 23.580000000000005, 23.60900000000001, 23.60900000000001, 23.60900000000001, 23.60900000000001, 23.60900000000001, 23.60900000000001, 23.60900000000001, 23.60900000000001, 23.60900000000001, 23.60900000000001, 23.60900000000001]\n"
     ]
    }
   ],
   "source": [
    "difference1_new = []\n",
    "\n",
    "zip_object = zip(temp, temp_crn)\n",
    "for temp_i, temp_crn_i in zip_object:\n",
    "    difference1_new.append(temp_i-temp_crn_i)\n",
    "\n",
    "print(difference1_new)"
   ]
  },
  {
   "cell_type": "markdown",
   "id": "c9620694",
   "metadata": {},
   "source": [
    "<font size=\"3\">Gainesville, AL: 2200 UTC 22 March 2022-2200 UTC 23 March 2022</font>"
   ]
  },
  {
   "cell_type": "code",
   "execution_count": 20,
   "id": "038fabb5",
   "metadata": {},
   "outputs": [
    {
     "name": "stdout",
     "output_type": "stream",
     "text": [
      "[ 5.362  6.041  6.158  7.299 10.02  13.871 17.492 17.549 17.585 17.585\n",
      " 17.585 17.585 17.585 17.585 17.585 17.585 17.585 17.585 17.585 17.585\n",
      " 17.585 17.585 17.585 17.585 17.585]\n"
     ]
    }
   ],
   "source": [
    "#12 hr hrrr:\n",
    "with open('hrrr_f12_Gainesville_AL.txt') as f:\n",
    "    lst=[line.split()[2] for line in f]\n",
    "    temp=[]\n",
    "    for i in lst:\n",
    "        new=i.replace(',',\"\")\n",
    "        temp.append(new)\n",
    "    temp.pop(0)\n",
    "    temp=[float(x) for x in temp]\n",
    "    temp=temp[1930:1955]\n",
    "    #temp=temp[2015:2063]\n",
    "    temp=np.cumsum(temp)\n",
    "    print(temp)\n",
    "#full time period is [2015:2112]"
   ]
  },
  {
   "cell_type": "code",
   "execution_count": 21,
   "id": "dc289aee",
   "metadata": {},
   "outputs": [
    {
     "name": "stdout",
     "output_type": "stream",
     "text": [
      "[2.75 6.1  6.9  7.45 7.45 7.45 7.45 7.45 7.45 7.45 7.45 7.45 7.45 7.45\n",
      " 7.45 7.45 7.45 7.45 7.45 7.45 7.45 7.45 7.45 7.45 7.45]\n"
     ]
    }
   ],
   "source": [
    "#Air Temp CRN:\n",
    "with open('CRNS0101-05-2022-AL_Gainesville_2_NE.txt') as f:\n",
    "    lst=[line.split()[9] for line in f]\n",
    "\n",
    "    a=(float(lst[23303])+float(lst[23304]))/2\n",
    "    b=(float(lst[23315])+float(lst[23316]))/2\n",
    "    c=(float(lst[23327])+float(lst[23328]))/2\n",
    "    d=(float(lst[23339])+float(lst[23340]))/2\n",
    "    e=(float(lst[23351])+float(lst[23352]))/2\n",
    "    f=(float(lst[23363])+float(lst[23364]))/2\n",
    "    g=(float(lst[23375])+float(lst[23376]))/2\n",
    "    h=(float(lst[23387])+float(lst[23388]))/2\n",
    "    i=(float(lst[23399])+float(lst[23400]))/2\n",
    "    j=(float(lst[23411])+float(lst[23412]))/2\n",
    "    k=(float(lst[23423])+float(lst[23424]))/2\n",
    "    l=(float(lst[23435])+float(lst[23436]))/2\n",
    "    m=(float(lst[23447])+float(lst[23448]))/2\n",
    "    n=(float(lst[23459])+float(lst[23460]))/2\n",
    "    o=(float(lst[23471])+float(lst[23472]))/2\n",
    "    p=(float(lst[23483])+float(lst[23484]))/2\n",
    "    q=(float(lst[23495])+float(lst[23496]))/2\n",
    "    r=(float(lst[23507])+float(lst[23508]))/2\n",
    "    s=(float(lst[23519])+float(lst[23520]))/2\n",
    "    t=(float(lst[23531])+float(lst[23532]))/2\n",
    "    u=(float(lst[23543])+float(lst[23544]))/2\n",
    "    v=(float(lst[23555])+float(lst[23556]))/2\n",
    "    w=(float(lst[23567])+float(lst[23568]))/2\n",
    "    x=(float(lst[23579])+float(lst[23580]))/2\n",
    "    y=(float(lst[23591])+float(lst[23592]))/2\n",
    "    temp_crn=[a,b,c,d,e,f,g,h,i,j,k,l,m,n,o,p,q,r,s,t,u,v,w,x,y]\n",
    "    temp_crn=np.cumsum(temp_crn)\n",
    "    print(temp_crn)"
   ]
  },
  {
   "cell_type": "code",
   "execution_count": 22,
   "id": "8df76a7b",
   "metadata": {},
   "outputs": [
    {
     "name": "stdout",
     "output_type": "stream",
     "text": [
      "[2.612, -0.058999999999999275, -0.7419999999999991, -0.1509999999999989, 2.5700000000000003, 6.420999999999999, 10.041999999999998, 10.098999999999997, 10.134999999999998, 10.134999999999998, 10.134999999999998, 10.134999999999998, 10.134999999999998, 10.134999999999998, 10.134999999999998, 10.134999999999998, 10.134999999999998, 10.134999999999998, 10.134999999999998, 10.134999999999998, 10.134999999999998, 10.134999999999998, 10.134999999999998, 10.134999999999998, 10.134999999999998]\n"
     ]
    }
   ],
   "source": [
    "difference1_gai = []\n",
    "\n",
    "zip_object = zip(temp, temp_crn)\n",
    "for temp_i, temp_crn_i in zip_object:\n",
    "    difference1_gai.append(temp_i-temp_crn_i)\n",
    "\n",
    "print(difference1_gai)"
   ]
  },
  {
   "cell_type": "markdown",
   "id": "2711dc15",
   "metadata": {},
   "source": [
    "<font size=\"3\">Fairhope, AL: 2200 UTC 22 March 2022-2200 UTC 23 March 2022</font>"
   ]
  },
  {
   "cell_type": "code",
   "execution_count": 23,
   "id": "b97b4753",
   "metadata": {},
   "outputs": [
    {
     "name": "stdout",
     "output_type": "stream",
     "text": [
      "[0.183 0.568 0.69  1.024 1.347 4.711 4.725 4.747 6.904 6.934 6.934 6.934\n",
      " 6.934 6.934 6.934 6.934 6.934 6.934 6.934 6.934 6.934 6.934 6.934 6.934\n",
      " 6.934]\n"
     ]
    }
   ],
   "source": [
    "#12 hr hrrr:\n",
    "with open('hrrr_f12_Fairhope_AL.txt') as f:\n",
    "    lst=[line.split()[2] for line in f]\n",
    "    temp=[]\n",
    "    for i in lst:\n",
    "        new=i.replace(',',\"\")\n",
    "        temp.append(new)\n",
    "    temp.pop(0)\n",
    "    temp=[float(x) for x in temp]\n",
    "    temp=temp[1930:1955]\n",
    "    #temp=temp[2015:2063]\n",
    "    temp=np.cumsum(temp)\n",
    "    print(temp)\n",
    "#full time period is [2015:2112]"
   ]
  },
  {
   "cell_type": "code",
   "execution_count": 24,
   "id": "439b18c0",
   "metadata": {},
   "outputs": [
    {
     "name": "stdout",
     "output_type": "stream",
     "text": [
      "[0.   0.   0.   0.   0.   0.   0.   0.45 0.45 0.45 0.45 0.45 0.45 0.45\n",
      " 0.45 0.45 0.45 0.45 0.45 0.45 0.45 0.45 0.45 0.45 0.45]\n"
     ]
    }
   ],
   "source": [
    "#Air Temp CRN:\n",
    "with open('CRNS0101-05-2022-AL_Fairhope_3_NE.txt') as f:\n",
    "    lst=[line.split()[9] for line in f]\n",
    "\n",
    "    a=(float(lst[23303])+float(lst[23304]))/2\n",
    "    b=(float(lst[23315])+float(lst[23316]))/2\n",
    "    c=(float(lst[23327])+float(lst[23328]))/2\n",
    "    d=(float(lst[23339])+float(lst[23340]))/2\n",
    "    e=(float(lst[23351])+float(lst[23352]))/2\n",
    "    f=(float(lst[23363])+float(lst[23364]))/2\n",
    "    g=(float(lst[23375])+float(lst[23376]))/2\n",
    "    h=(float(lst[23387])+float(lst[23388]))/2\n",
    "    i=(float(lst[23399])+float(lst[23400]))/2\n",
    "    j=(float(lst[23411])+float(lst[23412]))/2\n",
    "    k=(float(lst[23423])+float(lst[23424]))/2\n",
    "    l=(float(lst[23435])+float(lst[23436]))/2\n",
    "    m=(float(lst[23447])+float(lst[23448]))/2\n",
    "    n=(float(lst[23459])+float(lst[23460]))/2\n",
    "    o=(float(lst[23471])+float(lst[23472]))/2\n",
    "    p=(float(lst[23483])+float(lst[23484]))/2\n",
    "    q=(float(lst[23495])+float(lst[23496]))/2\n",
    "    r=(float(lst[23507])+float(lst[23508]))/2\n",
    "    s=(float(lst[23519])+float(lst[23520]))/2\n",
    "    t=(float(lst[23531])+float(lst[23532]))/2\n",
    "    u=(float(lst[23543])+float(lst[23544]))/2\n",
    "    v=(float(lst[23555])+float(lst[23556]))/2\n",
    "    w=(float(lst[23567])+float(lst[23568]))/2\n",
    "    x=(float(lst[23579])+float(lst[23580]))/2\n",
    "    y=(float(lst[23591])+float(lst[23592]))/2\n",
    "    temp_crn=[a,b,c,d,e,f,g,h,i,j,k,l,m,n,o,p,q,r,s,t,u,v,w,x,y]\n",
    "    temp_crn=np.cumsum(temp_crn)\n",
    "    print(temp_crn)"
   ]
  },
  {
   "cell_type": "code",
   "execution_count": 25,
   "id": "a9ff3306",
   "metadata": {},
   "outputs": [
    {
     "name": "stdout",
     "output_type": "stream",
     "text": [
      "[0.183, 0.5680000000000001, 0.6900000000000001, 1.024, 1.347, 4.711, 4.7250000000000005, 4.297000000000001, 6.454000000000001, 6.484000000000001, 6.484000000000001, 6.484000000000001, 6.484000000000001, 6.484000000000001, 6.484000000000001, 6.484000000000001, 6.484000000000001, 6.484000000000001, 6.484000000000001, 6.484000000000001, 6.484000000000001, 6.484000000000001, 6.484000000000001, 6.484000000000001, 6.484000000000001]\n"
     ]
    }
   ],
   "source": [
    "difference1_fai = []\n",
    "\n",
    "zip_object = zip(temp, temp_crn)\n",
    "for temp_i, temp_crn_i in zip_object:\n",
    "    difference1_fai.append(temp_i-temp_crn_i)\n",
    "\n",
    "print(difference1_fai)"
   ]
  },
  {
   "cell_type": "markdown",
   "id": "f5dd4e4b",
   "metadata": {},
   "source": [
    "<font size=\"3\">**Selma, AL: 2200 UTC 22 March 2022-2200 UTC 23 March 2022</font>"
   ]
  },
  {
   "cell_type": "code",
   "execution_count": 26,
   "id": "af6b46b1",
   "metadata": {},
   "outputs": [
    {
     "name": "stdout",
     "output_type": "stream",
     "text": [
      "[ 0.     0.942  1.384  1.386  1.423  1.756  2.951  7.152  9.625  9.91\n",
      " 10.056 10.19  10.191 10.191 10.191 10.191 10.191 10.191 10.191 10.191\n",
      " 10.191 10.191 10.191 10.191 10.191]\n"
     ]
    }
   ],
   "source": [
    "#1 hr hrrr:\n",
    "import numpy as np\n",
    "import numpy.ma as ma\n",
    "with open('hrrr_f12_Selma_AL.txt') as f:\n",
    "    lst=[line.split()[2] for line in f]\n",
    "    temp=[]\n",
    "    for i in lst:\n",
    "        new=i.replace(',',\"\")\n",
    "        temp.append(new)\n",
    "    temp.pop(0)\n",
    "    temp=[float(x) for x in temp]\n",
    "    temp=temp[1930:1955]\n",
    "\n",
    "#     x = np.array(temp)\n",
    "#     temp = ma.masked_array(x, mask=[0, 0, 0, 0, 0,0,0,0,0,0,0,0,0,0,0,0,0,1,1,1,1,0,0,0,0])\n",
    "    temp=np.cumsum(temp)\n",
    "    print(temp)"
   ]
  },
  {
   "cell_type": "code",
   "execution_count": 27,
   "id": "455c7133",
   "metadata": {},
   "outputs": [
    {
     "name": "stdout",
     "output_type": "stream",
     "text": [
      "[0.   0.   0.   0.1  1.4  1.4  2.15 6.1  6.1  6.1  6.1  6.1  6.1  6.1\n",
      " 6.1  6.1  6.1  6.1  6.1  6.1  6.1  6.1  6.1  6.1  6.1 ]\n"
     ]
    }
   ],
   "source": [
    "#Air Temp CRN:\n",
    "with open('CRNS0101-05-2022-AL_Selma_13_WNW.txt') as f:\n",
    "    lst=[line.split()[9] for line in f]\n",
    "\n",
    "    a=(float(lst[23303])+float(lst[23304]))/2\n",
    "    b=(float(lst[23315])+float(lst[23316]))/2\n",
    "    c=(float(lst[23327])+float(lst[23328]))/2\n",
    "    d=(float(lst[23339])+float(lst[23340]))/2\n",
    "    e=(float(lst[23351])+float(lst[23352]))/2\n",
    "    f=(float(lst[23363])+float(lst[23364]))/2\n",
    "    g=(float(lst[23375])+float(lst[23376]))/2\n",
    "    h=(float(lst[23387])+float(lst[23388]))/2\n",
    "    i=(float(lst[23399])+float(lst[23400]))/2\n",
    "    j=(float(lst[23411])+float(lst[23412]))/2\n",
    "    k=(float(lst[23423])+float(lst[23424]))/2\n",
    "    l=(float(lst[23435])+float(lst[23436]))/2\n",
    "    m=(float(lst[23447])+float(lst[23448]))/2\n",
    "    n=(float(lst[23459])+float(lst[23460]))/2\n",
    "    o=(float(lst[23471])+float(lst[23472]))/2\n",
    "    p=(float(lst[23483])+float(lst[23484]))/2\n",
    "    q=(float(lst[23495])+float(lst[23496]))/2\n",
    "    r=(float(lst[23507])+float(lst[23508]))/2\n",
    "    s=(float(lst[23519])+float(lst[23520]))/2\n",
    "    t=(float(lst[23531])+float(lst[23532]))/2\n",
    "    u=(float(lst[23543])+float(lst[23544]))/2\n",
    "    v=(float(lst[23555])+float(lst[23556]))/2\n",
    "    w=(float(lst[23567])+float(lst[23568]))/2\n",
    "    x=(float(lst[23579])+float(lst[23580]))/2\n",
    "    y=(float(lst[23591])+float(lst[23592]))/2\n",
    "    temp_crn=[a,b,c,d,e,f,g,h,i,j,k,l,m,n,o,p,q,r,s,t,u,v,w,x,y]\n",
    "#     y = np.array(temp_crn)\n",
    "#     temp_crn = ma.masked_array(y, mask=[0, 0, 0, 0, 0,0,0,0,0,0,0,0,0,0,0,0,1,1,1,1,1,0,0,0,0])\n",
    "    temp_crn=np.cumsum(temp_crn)\n",
    "    print(temp_crn)"
   ]
  },
  {
   "cell_type": "code",
   "execution_count": 28,
   "id": "3f4814e5",
   "metadata": {},
   "outputs": [
    {
     "name": "stdout",
     "output_type": "stream",
     "text": [
      "[0.0, 0.942, 1.384, 1.2859999999999998, 0.022999999999999687, 0.35599999999999965, 0.8009999999999993, 1.0519999999999996, 3.5250000000000004, 3.8100000000000005, 3.9560000000000013, 4.090000000000002, 4.091000000000001, 4.091000000000001, 4.091000000000001, 4.091000000000001, 4.091000000000001, 4.091000000000001, 4.091000000000001, 4.091000000000001, 4.091000000000001, 4.091000000000001, 4.091000000000001, 4.091000000000001, 4.091000000000001]\n"
     ]
    }
   ],
   "source": [
    "difference1_sel = []\n",
    "\n",
    "zip_object = zip(temp, temp_crn)\n",
    "for temp_i, temp_crn_i in zip_object:\n",
    "    difference1_sel.append(temp_i-temp_crn_i)\n",
    "\n",
    "print(difference1_sel)\n",
    "#print(len(difference1_sel))"
   ]
  },
  {
   "cell_type": "markdown",
   "id": "8fab4bdc",
   "metadata": {},
   "source": [
    "<font size=\"3\">Bowling Green, KY: 2300 UTC 22 March 2022-2300 UTC 23 March 2022</font>"
   ]
  },
  {
   "cell_type": "code",
   "execution_count": 29,
   "id": "ce9bcf66",
   "metadata": {},
   "outputs": [
    {
     "name": "stdout",
     "output_type": "stream",
     "text": [
      "[ 0.     0.123  2.246  5.1    8.146 10.929 12.436 12.436 12.461 13.154\n",
      " 14.504 14.507 14.507 14.507 14.509 14.592 14.592 16.052 16.455 17.302\n",
      " 17.311 17.315 17.336 17.488 17.511]\n"
     ]
    }
   ],
   "source": [
    "#12 hr hrrr:\n",
    "with open('hrrr_f12_Bowling Green_KY.txt') as f:\n",
    "    lst=[line.split()[2] for line in f]\n",
    "    temp=[]\n",
    "    for i in lst:\n",
    "        new=i.replace(',',\"\")\n",
    "        temp.append(new)\n",
    "    temp.pop(0)\n",
    "    temp=[float(x) for x in temp]\n",
    "    temp=temp[1931:1956]\n",
    "    #temp=temp[2015:2063]\n",
    "    temp=np.cumsum(temp)\n",
    "    print(temp)\n",
    "#full time period is [2015:2112]"
   ]
  },
  {
   "cell_type": "code",
   "execution_count": 30,
   "id": "a1ea712c",
   "metadata": {},
   "outputs": [
    {
     "name": "stdout",
     "output_type": "stream",
     "text": [
      "[0.   0.   0.45 0.45 0.55 1.15 1.35 1.35 1.35 1.35 1.35 1.35 1.35 1.35\n",
      " 1.35 1.35 1.35 1.35 1.35 1.35 1.35 1.35 1.35 1.35 1.35]\n"
     ]
    }
   ],
   "source": [
    "#Air Temp CRN:\n",
    "with open('CRNS0101-05-2022-KY_Bowling_Green_21_NNE.txt') as f:\n",
    "    lst=[line.split()[9] for line in f]\n",
    "    \n",
    "    a=(float(lst[23315])+float(lst[23316]))/2\n",
    "    b=(float(lst[23327])+float(lst[23328]))/2\n",
    "    c=(float(lst[23339])+float(lst[23340]))/2\n",
    "    d=(float(lst[23351])+float(lst[23352]))/2\n",
    "    e=(float(lst[23363])+float(lst[23364]))/2\n",
    "    f=(float(lst[23375])+float(lst[23376]))/2\n",
    "    g=(float(lst[23387])+float(lst[23388]))/2\n",
    "    h=(float(lst[23399])+float(lst[23400]))/2\n",
    "    i=(float(lst[23411])+float(lst[23412]))/2\n",
    "    j=(float(lst[23423])+float(lst[23424]))/2\n",
    "    k=(float(lst[23435])+float(lst[23436]))/2\n",
    "    l=(float(lst[23447])+float(lst[23448]))/2\n",
    "    m=(float(lst[23459])+float(lst[23460]))/2\n",
    "    n=(float(lst[23471])+float(lst[23472]))/2\n",
    "    o=(float(lst[23483])+float(lst[23484]))/2\n",
    "    p=(float(lst[23495])+float(lst[23496]))/2\n",
    "    q=(float(lst[23507])+float(lst[23508]))/2\n",
    "    r=(float(lst[23519])+float(lst[23520]))/2\n",
    "    s=(float(lst[23531])+float(lst[23532]))/2\n",
    "    t=(float(lst[23543])+float(lst[23544]))/2\n",
    "    u=(float(lst[23555])+float(lst[23556]))/2\n",
    "    v=(float(lst[23567])+float(lst[23568]))/2\n",
    "    w=(float(lst[23579])+float(lst[23580]))/2\n",
    "    x=(float(lst[23591])+float(lst[23592]))/2\n",
    "    y=(float(lst[23603])+float(lst[23604]))/2\n",
    "    temp_crn=[a,b,c,d,e,f,g,h,i,j,k,l,m,n,o,p,q,r,s,t,u,v,w,x,y]\n",
    "    temp_crn=np.cumsum(temp_crn)\n",
    "    print(temp_crn)"
   ]
  },
  {
   "cell_type": "code",
   "execution_count": 31,
   "id": "c1e72531",
   "metadata": {},
   "outputs": [
    {
     "name": "stdout",
     "output_type": "stream",
     "text": [
      "[0.0, 0.123, 1.7960000000000005, 4.65, 7.596000000000001, 9.779, 11.086, 11.086, 11.111, 11.804, 13.154, 13.157, 13.157, 13.157, 13.159, 13.242, 13.242, 14.702, 15.104999999999999, 15.952, 15.961, 15.965000000000002, 15.986000000000002, 16.138, 16.161]\n"
     ]
    }
   ],
   "source": [
    "difference1_bow = []\n",
    "\n",
    "zip_object = zip(temp, temp_crn)\n",
    "for temp_i, temp_crn_i in zip_object:\n",
    "    difference1_bow.append(temp_i-temp_crn_i)\n",
    "\n",
    "print(difference1_bow)"
   ]
  },
  {
   "cell_type": "markdown",
   "id": "d1be2cc0",
   "metadata": {},
   "source": [
    "<font size=\"3\">Gadsden, AL: 0100 UTC 23 March 2022-0100 UTC 24 March 2022</font>"
   ]
  },
  {
   "cell_type": "code",
   "execution_count": 32,
   "id": "6d2be172",
   "metadata": {},
   "outputs": [
    {
     "name": "stdout",
     "output_type": "stream",
     "text": [
      "[ 0.     0.     0.222  3.429  6.109  7.322 17.076 28.37  28.963 29.078\n",
      " 29.187 29.457 29.464 29.464 29.464 29.464 29.464 29.464 29.464 29.464\n",
      " 29.464 29.464 29.464 29.464 29.464]\n"
     ]
    }
   ],
   "source": [
    "#12 hr hrrr:\n",
    "with open('hrrr_f12_Gadsden_AL.txt') as f:\n",
    "    lst=[line.split()[2] for line in f]\n",
    "    temp=[]\n",
    "    for i in lst:\n",
    "        new=i.replace(',',\"\")\n",
    "        temp.append(new)\n",
    "    temp.pop(0)\n",
    "    temp=[float(x) for x in temp]\n",
    "    temp=temp[1933:1958]\n",
    "    #temp=temp[2015:2063]\n",
    "    temp=np.cumsum(temp)\n",
    "    print(temp)\n",
    "#full time period is [2015:2112]"
   ]
  },
  {
   "cell_type": "code",
   "execution_count": 33,
   "id": "3bcebe7b",
   "metadata": {},
   "outputs": [
    {
     "name": "stdout",
     "output_type": "stream",
     "text": [
      "[  -9999.    -19998.    -24997.1   -24996.9   -24996.1   -24996.1\n",
      "  -24995.5   -24995.35  -24995.35  -24995.35  -24995.35  -24995.35\n",
      "  -24995.35  -29994.85  -39993.85  -49992.85  -59991.85  -69990.85\n",
      "  -79989.85  -89988.85  -99987.85 -109986.85 -119985.85 -129984.85\n",
      " -139983.85]\n"
     ]
    }
   ],
   "source": [
    "#Air Temp CRN:\n",
    "with open('CRNS0101-05-2022-AL_Gadsden_19_N.txt') as f:\n",
    "    lst=[line.split()[9] for line in f]\n",
    "    \n",
    "    a=(float(lst[23339])+float(lst[23340]))/2\n",
    "    b=(float(lst[23351])+float(lst[23352]))/2\n",
    "    c=(float(lst[23363])+float(lst[23364]))/2\n",
    "    d=(float(lst[23375])+float(lst[23376]))/2\n",
    "    e=(float(lst[23387])+float(lst[23388]))/2\n",
    "    f=(float(lst[23399])+float(lst[23400]))/2\n",
    "    g=(float(lst[23411])+float(lst[23412]))/2\n",
    "    h=(float(lst[23423])+float(lst[23424]))/2\n",
    "    i=(float(lst[23435])+float(lst[23436]))/2\n",
    "    j=(float(lst[23447])+float(lst[23448]))/2\n",
    "    k=(float(lst[23459])+float(lst[23460]))/2\n",
    "    l=(float(lst[23471])+float(lst[23472]))/2\n",
    "    m=(float(lst[23483])+float(lst[23484]))/2\n",
    "    n=(float(lst[23495])+float(lst[23496]))/2\n",
    "    o=(float(lst[23507])+float(lst[23508]))/2\n",
    "    p=(float(lst[23519])+float(lst[23520]))/2\n",
    "    q=(float(lst[23531])+float(lst[23532]))/2\n",
    "    r=(float(lst[23543])+float(lst[23544]))/2\n",
    "    s=(float(lst[23555])+float(lst[23556]))/2\n",
    "    t=(float(lst[23567])+float(lst[23568]))/2\n",
    "    u=(float(lst[23579])+float(lst[23580]))/2\n",
    "    v=(float(lst[23591])+float(lst[23592]))/2\n",
    "    w=(float(lst[23603])+float(lst[23604]))/2\n",
    "    x=(float(lst[23615])+float(lst[23616]))/2\n",
    "    y=(float(lst[23627])+float(lst[23628]))/2\n",
    "    temp_crn=[a,b,c,d,e,f,g,h,i,j,k,l,m,n,o,p,q,r,s,t,u,v,w,x,y]\n",
    "    temp_crn=np.cumsum(temp_crn)\n",
    "    print(temp_crn)"
   ]
  },
  {
   "cell_type": "code",
   "execution_count": 34,
   "id": "c002ac76",
   "metadata": {},
   "outputs": [],
   "source": [
    "# difference1_gad = []\n",
    "\n",
    "# zip_object = zip(temp, temp_crn)\n",
    "# for temp_i, temp_crn_i in zip_object:\n",
    "#     difference1_gad.append(temp_i-temp_crn_i)\n",
    "\n",
    "# print(difference1_gad)"
   ]
  },
  {
   "cell_type": "markdown",
   "id": "d430f7c6",
   "metadata": {},
   "source": [
    "<font size=\"3\">Newton, GA: 0900 UTC 23 March 2022-0900 UTC 24 March 2022</font>"
   ]
  },
  {
   "cell_type": "code",
   "execution_count": 35,
   "id": "25095753",
   "metadata": {},
   "outputs": [
    {
     "name": "stdout",
     "output_type": "stream",
     "text": [
      "[ 0.03   2.463  3.872  9.221 11.006 18.119 22.989 24.368 24.886 24.886\n",
      " 24.887 24.887 24.887 24.887 24.887 24.887 24.887 24.887 24.887 24.887\n",
      " 24.887 24.887 24.887 24.887 24.92 ]\n"
     ]
    }
   ],
   "source": [
    "#12 hr hrrr:\n",
    "with open('hrrr_f12_Newton_GA.txt') as f:\n",
    "    lst=[line.split()[2] for line in f]\n",
    "    temp=[]\n",
    "    for i in lst:\n",
    "        new=i.replace(',',\"\")\n",
    "        temp.append(new)\n",
    "    temp.pop(0)\n",
    "    temp=[float(x) for x in temp]\n",
    "    temp=temp[1941:1966]\n",
    "    #temp=temp[2015:2063]\n",
    "    temp=np.cumsum(temp)\n",
    "    print(temp)\n",
    "#full time period is [2015:2112]"
   ]
  },
  {
   "cell_type": "code",
   "execution_count": 36,
   "id": "f4925cb9",
   "metadata": {},
   "outputs": [
    {
     "name": "stdout",
     "output_type": "stream",
     "text": [
      "[0.   0.25 0.45 0.45 0.45 0.45 0.45 0.45 0.45 0.45 0.45 0.45 0.45 0.45\n",
      " 0.45 0.45 0.45 0.45 0.45 0.45 0.45 0.45 0.45 0.45 0.45]\n"
     ]
    }
   ],
   "source": [
    "#Air Temp CRN:\n",
    "with open('CRNS0101-05-2022-GA_Newton_11_SW.txt') as f:\n",
    "    lst=[line.split()[9] for line in f]\n",
    "    \n",
    "    a=(float(lst[23435])+float(lst[23436]))/2\n",
    "    b=(float(lst[23447])+float(lst[23448]))/2\n",
    "    c=(float(lst[23459])+float(lst[23460]))/2\n",
    "    d=(float(lst[23471])+float(lst[23472]))/2\n",
    "    e=(float(lst[23483])+float(lst[23484]))/2\n",
    "    f=(float(lst[23495])+float(lst[23496]))/2\n",
    "    g=(float(lst[23507])+float(lst[23508]))/2\n",
    "    h=(float(lst[23519])+float(lst[23520]))/2\n",
    "    i=(float(lst[23531])+float(lst[23532]))/2\n",
    "    j=(float(lst[23543])+float(lst[23544]))/2\n",
    "    k=(float(lst[23555])+float(lst[23556]))/2\n",
    "    l=(float(lst[23567])+float(lst[23568]))/2\n",
    "    m=(float(lst[23579])+float(lst[23580]))/2\n",
    "    n=(float(lst[23591])+float(lst[23592]))/2\n",
    "    o=(float(lst[23603])+float(lst[23604]))/2\n",
    "    p=(float(lst[23615])+float(lst[23616]))/2\n",
    "    q=(float(lst[23627])+float(lst[23628]))/2\n",
    "    r=(float(lst[23639])+float(lst[23640]))/2\n",
    "    s=(float(lst[23651])+float(lst[23652]))/2\n",
    "    t=(float(lst[23663])+float(lst[23664]))/2\n",
    "    u=(float(lst[23675])+float(lst[23676]))/2\n",
    "    v=(float(lst[23687])+float(lst[23688]))/2\n",
    "    w=(float(lst[23699])+float(lst[23700]))/2\n",
    "    x=(float(lst[23711])+float(lst[23712]))/2\n",
    "    y=(float(lst[23723])+float(lst[23724]))/2\n",
    "    temp_crn=[a,b,c,d,e,f,g,h,i,j,k,l,m,n,o,p,q,r,s,t,u,v,w,x,y]\n",
    "    temp_crn=np.cumsum(temp_crn)\n",
    "    print(temp_crn)"
   ]
  },
  {
   "cell_type": "code",
   "execution_count": 37,
   "id": "f2141c03",
   "metadata": {},
   "outputs": [
    {
     "name": "stdout",
     "output_type": "stream",
     "text": [
      "[0.03, 2.2129999999999996, 3.4219999999999997, 8.771, 10.556000000000001, 17.669, 22.539, 23.918000000000003, 24.436000000000003, 24.436000000000003, 24.437000000000005, 24.437000000000005, 24.437000000000005, 24.437000000000005, 24.437000000000005, 24.437000000000005, 24.437000000000005, 24.437000000000005, 24.437000000000005, 24.437000000000005, 24.437000000000005, 24.437000000000005, 24.437000000000005, 24.437000000000005, 24.470000000000006]\n"
     ]
    }
   ],
   "source": [
    "difference1_newt = []\n",
    "\n",
    "zip_object = zip(temp, temp_crn)\n",
    "for temp_i, temp_crn_i in zip_object:\n",
    "    difference1_newt.append(temp_i-temp_crn_i)\n",
    "\n",
    "print(difference1_newt)"
   ]
  },
  {
   "cell_type": "markdown",
   "id": "ab4663ab",
   "metadata": {},
   "source": [
    "<font size=\"3\">Salem, MO: 1300 UTC 30 March 2022-1300 UTC 31 March 2022</font>"
   ]
  },
  {
   "cell_type": "code",
   "execution_count": 38,
   "id": "ede1cb39",
   "metadata": {},
   "outputs": [
    {
     "name": "stdout",
     "output_type": "stream",
     "text": [
      "[ 0.891  3.161 17.939 37.004 48.857 59.848 64.78  66.746 69.752 73.234\n",
      " 73.281 73.364 73.54  73.711 73.724 73.869 73.91  73.931 73.939 73.939\n",
      " 73.959 73.965 73.965 74.008 74.008]\n"
     ]
    }
   ],
   "source": [
    "#12 hr hrrr:\n",
    "with open('hrrr_f12_Salem_MO.txt') as f:\n",
    "    lst=[line.split()[2] for line in f]\n",
    "    temp=[]\n",
    "    for i in lst:\n",
    "        new=i.replace(',',\"\")\n",
    "        temp.append(new)\n",
    "    temp.pop(0)\n",
    "    temp=[float(x) for x in temp]\n",
    "    temp=temp[2113:2138]\n",
    "    #temp=temp[2015:2063]\n",
    "    temp=np.cumsum(temp)\n",
    "    print(temp)\n",
    "#full time period is [2015:2112]"
   ]
  },
  {
   "cell_type": "code",
   "execution_count": 39,
   "id": "d27b98bf",
   "metadata": {},
   "outputs": [
    {
     "name": "stdout",
     "output_type": "stream",
     "text": [
      "[0.   2.   2.45 2.85 3.2  3.2  3.3  3.6  3.85 3.95 4.1  4.35 4.45 4.6\n",
      " 4.6  4.6  4.6  4.6  4.6  4.6  4.6  4.6  4.6  4.6  4.6 ]\n"
     ]
    }
   ],
   "source": [
    "#Air Temp CRN:\n",
    "with open('CRNS0101-05-2022-MO_Salem_10_W.txt') as f:\n",
    "    lst=[line.split()[9] for line in f]\n",
    "    \n",
    "    a=(float(lst[25499])+float(lst[25500]))/2\n",
    "    b=(float(lst[25511])+float(lst[25512]))/2\n",
    "    c=(float(lst[25523])+float(lst[25524]))/2\n",
    "    d=(float(lst[25535])+float(lst[25536]))/2\n",
    "    e=(float(lst[25547])+float(lst[25548]))/2\n",
    "    f=(float(lst[25559])+float(lst[25560]))/2\n",
    "    g=(float(lst[25571])+float(lst[25572]))/2\n",
    "    h=(float(lst[25583])+float(lst[25584]))/2\n",
    "    i=(float(lst[25595])+float(lst[25596]))/2\n",
    "    j=(float(lst[25607])+float(lst[25608]))/2\n",
    "    k=(float(lst[25619])+float(lst[25620]))/2\n",
    "    l=(float(lst[25631])+float(lst[25632]))/2\n",
    "    m=(float(lst[25643])+float(lst[25644]))/2\n",
    "    n=(float(lst[25655])+float(lst[25656]))/2\n",
    "    o=(float(lst[25667])+float(lst[25668]))/2\n",
    "    p=(float(lst[25679])+float(lst[25680]))/2\n",
    "    q=(float(lst[25691])+float(lst[25692]))/2\n",
    "    r=(float(lst[25703])+float(lst[25704]))/2\n",
    "    s=(float(lst[25715])+float(lst[25716]))/2\n",
    "    t=(float(lst[25727])+float(lst[25728]))/2\n",
    "    u=(float(lst[25739])+float(lst[25740]))/2\n",
    "    v=(float(lst[25751])+float(lst[25752]))/2\n",
    "    w=(float(lst[25763])+float(lst[25764]))/2\n",
    "    x=(float(lst[25775])+float(lst[25776]))/2\n",
    "    y=(float(lst[25787])+float(lst[25788]))/2\n",
    "    temp_crn=[a,b,c,d,e,f,g,h,i,j,k,l,m,n,o,p,q,r,s,t,u,v,w,x,y]\n",
    "    temp_crn=np.cumsum(temp_crn)\n",
    "    print(temp_crn)"
   ]
  },
  {
   "cell_type": "code",
   "execution_count": 40,
   "id": "80548ed7",
   "metadata": {},
   "outputs": [
    {
     "name": "stdout",
     "output_type": "stream",
     "text": [
      "25\n"
     ]
    }
   ],
   "source": [
    "hour=[]\n",
    "for i in range(-12,13,1):\n",
    "    hour.append(i)\n",
    "    i+=1\n",
    "print(len(hour))"
   ]
  },
  {
   "cell_type": "code",
   "execution_count": 41,
   "id": "e426b6a3",
   "metadata": {},
   "outputs": [
    {
     "name": "stdout",
     "output_type": "stream",
     "text": [
      "[0.891, 1.161, 15.489, 34.154, 45.657000000000004, 56.648, 61.480000000000004, 63.145999999999994, 65.902, 69.28399999999999, 69.181, 69.014, 69.08999999999999, 69.111, 69.12400000000001, 69.269, 69.31, 69.331, 69.339, 69.339, 69.359, 69.365, 69.365, 69.408, 69.408]\n"
     ]
    }
   ],
   "source": [
    "difference2_sal = []\n",
    "\n",
    "zip_object = zip(temp, temp_crn)\n",
    "for temp_i, temp_crn_i in zip_object:\n",
    "    difference2_sal.append(temp_i-temp_crn_i)\n",
    "\n",
    "print(difference2_sal)"
   ]
  },
  {
   "cell_type": "markdown",
   "id": "e17a19ca",
   "metadata": {},
   "source": [
    "<font size=\"3\">Batesville, AR: 1300 UTC 30 March 2022-1300 UTC 31 March 2022</font>"
   ]
  },
  {
   "cell_type": "code",
   "execution_count": 42,
   "id": "382cdc03",
   "metadata": {},
   "outputs": [
    {
     "name": "stdout",
     "output_type": "stream",
     "text": [
      "[2.3000e-02 4.2000e-02 3.8000e-01 8.3500e-01 2.0580e+00 3.8540e+00\n",
      " 1.6922e+01 2.0045e+01 2.4687e+01 2.4744e+01 2.5073e+01 2.5139e+01\n",
      " 2.5139e+01 2.5139e+01 2.5139e+01 2.5139e+01 2.5139e+01 2.5139e+01\n",
      " 2.5139e+01 2.5139e+01 2.5139e+01 2.5139e+01 2.5139e+01 2.5139e+01\n",
      " 2.5139e+01]\n"
     ]
    }
   ],
   "source": [
    "#12 hr hrrr:\n",
    "with open('hrrr_f12_Batesville_AR.txt') as f:\n",
    "    lst=[line.split()[2] for line in f]\n",
    "    temp=[]\n",
    "    for i in lst:\n",
    "        new=i.replace(',',\"\")\n",
    "        temp.append(new)\n",
    "    temp.pop(0)\n",
    "    temp=[float(x) for x in temp]\n",
    "    temp=temp[2113:2138]\n",
    "    #temp=temp[2015:2063]\n",
    "    temp=np.cumsum(temp)\n",
    "    print(temp)\n",
    "#full time period is [2015:2112]"
   ]
  },
  {
   "cell_type": "code",
   "execution_count": 43,
   "id": "bfa93776",
   "metadata": {},
   "outputs": [
    {
     "name": "stdout",
     "output_type": "stream",
     "text": [
      "[0.   0.   0.   0.   0.   0.3  0.8  1.15 2.15 2.15 2.15 2.15 2.15 2.15\n",
      " 2.15 2.15 2.15 2.15 2.15 2.15 2.15 2.15 2.15 2.15 2.15]\n"
     ]
    }
   ],
   "source": [
    "#Air Temp CRN:\n",
    "with open('CRNS0101-05-2022-AR_Batesville_8_WNW.txt') as f:\n",
    "    lst=[line.split()[9] for line in f]\n",
    "    \n",
    "    a=(float(lst[25499])+float(lst[25500]))/2\n",
    "    b=(float(lst[25511])+float(lst[25512]))/2\n",
    "    c=(float(lst[25523])+float(lst[25524]))/2\n",
    "    d=(float(lst[25535])+float(lst[25536]))/2\n",
    "    e=(float(lst[25547])+float(lst[25548]))/2\n",
    "    f=(float(lst[25559])+float(lst[25560]))/2\n",
    "    g=(float(lst[25571])+float(lst[25572]))/2\n",
    "    h=(float(lst[25583])+float(lst[25584]))/2\n",
    "    i=(float(lst[25595])+float(lst[25596]))/2\n",
    "    j=(float(lst[25607])+float(lst[25608]))/2\n",
    "    k=(float(lst[25619])+float(lst[25620]))/2\n",
    "    l=(float(lst[25631])+float(lst[25632]))/2\n",
    "    m=(float(lst[25643])+float(lst[25644]))/2\n",
    "    n=(float(lst[25655])+float(lst[25656]))/2\n",
    "    o=(float(lst[25667])+float(lst[25668]))/2\n",
    "    p=(float(lst[25679])+float(lst[25680]))/2\n",
    "    q=(float(lst[25691])+float(lst[25692]))/2\n",
    "    r=(float(lst[25703])+float(lst[25704]))/2\n",
    "    s=(float(lst[25715])+float(lst[25716]))/2\n",
    "    t=(float(lst[25727])+float(lst[25728]))/2\n",
    "    u=(float(lst[25739])+float(lst[25740]))/2\n",
    "    v=(float(lst[25751])+float(lst[25752]))/2\n",
    "    w=(float(lst[25763])+float(lst[25764]))/2\n",
    "    x=(float(lst[25775])+float(lst[25776]))/2\n",
    "    y=(float(lst[25787])+float(lst[25788]))/2\n",
    "    temp_crn=[a,b,c,d,e,f,g,h,i,j,k,l,m,n,o,p,q,r,s,t,u,v,w,x,y]\n",
    "    temp_crn=np.cumsum(temp_crn)\n",
    "    print(temp_crn)"
   ]
  },
  {
   "cell_type": "code",
   "execution_count": 44,
   "id": "12f91aa0",
   "metadata": {},
   "outputs": [
    {
     "name": "stdout",
     "output_type": "stream",
     "text": [
      "[0.023, 0.041999999999999996, 0.38, 0.835, 2.058, 3.5540000000000003, 16.122, 18.895000000000003, 22.537000000000003, 22.594, 22.923000000000002, 22.989, 22.989, 22.989, 22.989, 22.989, 22.989, 22.989, 22.989, 22.989, 22.989, 22.989, 22.989, 22.989, 22.989]\n"
     ]
    }
   ],
   "source": [
    "difference2_bat = []\n",
    "\n",
    "zip_object = zip(temp, temp_crn)\n",
    "for temp_i, temp_crn_i in zip_object:\n",
    "    difference2_bat.append(temp_i-temp_crn_i)\n",
    "\n",
    "print(difference2_bat)"
   ]
  },
  {
   "cell_type": "markdown",
   "id": "cda99a3a",
   "metadata": {},
   "source": [
    "<font size=\"3\">Lafayette, LA: 1700 UTC 30 March 2022-1700 UTC 31 March 2022</font>"
   ]
  },
  {
   "cell_type": "code",
   "execution_count": 45,
   "id": "3617c9ac",
   "metadata": {},
   "outputs": [
    {
     "name": "stdout",
     "output_type": "stream",
     "text": [
      "[0.    0.    0.007 0.077 3.923 4.407 4.411 4.412 4.412 4.412 4.412 4.412\n",
      " 4.412 4.412 4.412 4.412 4.412 4.412 4.412 4.412 4.412 4.412 4.412 4.412\n",
      " 4.412]\n"
     ]
    }
   ],
   "source": [
    "#12 hr hrrr:\n",
    "with open('hrrr_f12_Lafayette_LA.txt') as f:\n",
    "    lst=[line.split()[2] for line in f]\n",
    "    temp=[]\n",
    "    for i in lst:\n",
    "        new=i.replace(',',\"\")\n",
    "        temp.append(new)\n",
    "    temp.pop(0)\n",
    "    temp=[float(x) for x in temp]\n",
    "    temp=temp[2117:2142]\n",
    "    #temp=temp[2015:2063]\n",
    "    temp=np.cumsum(temp)\n",
    "    print(temp)\n",
    "#full time period is [2015:2112]"
   ]
  },
  {
   "cell_type": "code",
   "execution_count": 46,
   "id": "a99a4e51",
   "metadata": {},
   "outputs": [
    {
     "name": "stdout",
     "output_type": "stream",
     "text": [
      "[0.  0.  0.  0.  0.  0.3 0.3 0.3 0.3 0.3 0.3 0.3 0.3 0.3 0.3 0.3 0.3 0.3\n",
      " 0.3 0.3 0.3 0.3 0.3 0.3 0.3]\n"
     ]
    }
   ],
   "source": [
    "#Air Temp CRN:\n",
    "with open('CRNS0101-05-2022-LA_Lafayette_13_SE.txt') as f:\n",
    "    lst=[line.split()[9] for line in f]\n",
    "    \n",
    "    a=(float(lst[25547])+float(lst[25548]))/2\n",
    "    b=(float(lst[25559])+float(lst[25560]))/2\n",
    "    c=(float(lst[25571])+float(lst[25572]))/2\n",
    "    d=(float(lst[25583])+float(lst[25584]))/2\n",
    "    e=(float(lst[25595])+float(lst[25596]))/2\n",
    "    f=(float(lst[25607])+float(lst[25608]))/2\n",
    "    g=(float(lst[25619])+float(lst[25620]))/2\n",
    "    h=(float(lst[25631])+float(lst[25632]))/2\n",
    "    i=(float(lst[25643])+float(lst[25644]))/2\n",
    "    j=(float(lst[25655])+float(lst[25656]))/2\n",
    "    k=(float(lst[25667])+float(lst[25668]))/2\n",
    "    l=(float(lst[25679])+float(lst[25680]))/2\n",
    "    m=(float(lst[25691])+float(lst[25692]))/2\n",
    "    n=(float(lst[25703])+float(lst[25704]))/2\n",
    "    o=(float(lst[25715])+float(lst[25716]))/2\n",
    "    p=(float(lst[25727])+float(lst[25728]))/2\n",
    "    q=(float(lst[25739])+float(lst[25740]))/2\n",
    "    r=(float(lst[25751])+float(lst[25752]))/2\n",
    "    s=(float(lst[25763])+float(lst[25764]))/2\n",
    "    t=(float(lst[25775])+float(lst[25776]))/2\n",
    "    u=(float(lst[25787])+float(lst[25788]))/2\n",
    "    v=(float(lst[25799])+float(lst[25800]))/2\n",
    "    w=(float(lst[25811])+float(lst[25812]))/2\n",
    "    x=(float(lst[25823])+float(lst[25824]))/2\n",
    "    y=(float(lst[25835])+float(lst[25836]))/2\n",
    "    temp_crn=[a,b,c,d,e,f,g,h,i,j,k,l,m,n,o,p,q,r,s,t,u,v,w,x,y]\n",
    "    temp_crn=np.cumsum(temp_crn)\n",
    "    print(temp_crn)"
   ]
  },
  {
   "cell_type": "code",
   "execution_count": 47,
   "id": "ad9e49f7",
   "metadata": {},
   "outputs": [
    {
     "name": "stdout",
     "output_type": "stream",
     "text": [
      "[0.0, 0.0, 0.007, 0.07700000000000001, 3.923, 4.107, 4.111, 4.112, 4.112, 4.112, 4.112, 4.112, 4.112, 4.112, 4.112, 4.112, 4.112, 4.112, 4.112, 4.112, 4.112, 4.112, 4.112, 4.112, 4.112]\n"
     ]
    }
   ],
   "source": [
    "difference2_laf = []\n",
    "\n",
    "zip_object = zip(temp, temp_crn)\n",
    "for temp_i, temp_crn_i in zip_object:\n",
    "    difference2_laf.append(temp_i-temp_crn_i)\n",
    "\n",
    "print(difference2_laf)"
   ]
  },
  {
   "cell_type": "markdown",
   "id": "5bdd017c",
   "metadata": {},
   "source": [
    "<font size=\"3\">Monroe, LA: 1700 UTC 30 March 2022-1700 UTC 31 March 2022</font>"
   ]
  },
  {
   "cell_type": "code",
   "execution_count": 48,
   "id": "10e3c873",
   "metadata": {},
   "outputs": [
    {
     "name": "stdout",
     "output_type": "stream",
     "text": [
      "[2.7000e-02 3.2900e+00 2.0035e+01 2.3491e+01 2.4016e+01 2.4016e+01\n",
      " 2.4016e+01 2.4016e+01 2.4016e+01 2.7358e+01 2.7358e+01 2.7358e+01\n",
      " 2.7358e+01 2.7358e+01 2.7358e+01 2.7358e+01 2.7358e+01 2.7358e+01\n",
      " 2.7358e+01 2.7358e+01 2.7358e+01 2.7358e+01 2.7358e+01 2.7358e+01\n",
      " 2.7358e+01]\n"
     ]
    }
   ],
   "source": [
    "#12 hr hrrr:\n",
    "with open('hrrr_f12_Monroe_LA.txt') as f:\n",
    "    lst=[line.split()[2] for line in f]\n",
    "    temp=[]\n",
    "    for i in lst:\n",
    "        new=i.replace(',',\"\")\n",
    "        temp.append(new)\n",
    "    temp.pop(0)\n",
    "    temp=[float(x) for x in temp]\n",
    "    temp=temp[2117:2142]\n",
    "    #temp=temp[2015:2063]\n",
    "    temp=np.cumsum(temp)\n",
    "    print(temp)\n",
    "#full time period is [2015:2112]"
   ]
  },
  {
   "cell_type": "code",
   "execution_count": 49,
   "id": "13a6a15b",
   "metadata": {},
   "outputs": [
    {
     "name": "stdout",
     "output_type": "stream",
     "text": [
      "[0.   0.   0.25 0.7  0.7  0.7  0.7  0.7  0.7  0.7  0.7  0.7  0.7  0.7\n",
      " 0.7  0.7  0.7  0.7  0.7  0.7  0.7  0.7  0.7  0.7  0.7 ]\n"
     ]
    }
   ],
   "source": [
    "#Air Temp CRN:\n",
    "with open('CRNS0101-05-2022-LA_Monroe_26_N.txt') as f:\n",
    "    lst=[line.split()[9] for line in f]\n",
    "    \n",
    "    a=(float(lst[25547])+float(lst[25548]))/2\n",
    "    b=(float(lst[25559])+float(lst[25560]))/2\n",
    "    c=(float(lst[25571])+float(lst[25572]))/2\n",
    "    d=(float(lst[25583])+float(lst[25584]))/2\n",
    "    e=(float(lst[25595])+float(lst[25596]))/2\n",
    "    f=(float(lst[25607])+float(lst[25608]))/2\n",
    "    g=(float(lst[25619])+float(lst[25620]))/2\n",
    "    h=(float(lst[25631])+float(lst[25632]))/2\n",
    "    i=(float(lst[25643])+float(lst[25644]))/2\n",
    "    j=(float(lst[25655])+float(lst[25656]))/2\n",
    "    k=(float(lst[25667])+float(lst[25668]))/2\n",
    "    l=(float(lst[25679])+float(lst[25680]))/2\n",
    "    m=(float(lst[25691])+float(lst[25692]))/2\n",
    "    n=(float(lst[25703])+float(lst[25704]))/2\n",
    "    o=(float(lst[25715])+float(lst[25716]))/2\n",
    "    p=(float(lst[25727])+float(lst[25728]))/2\n",
    "    q=(float(lst[25739])+float(lst[25740]))/2\n",
    "    r=(float(lst[25751])+float(lst[25752]))/2\n",
    "    s=(float(lst[25763])+float(lst[25764]))/2\n",
    "    t=(float(lst[25775])+float(lst[25776]))/2\n",
    "    u=(float(lst[25787])+float(lst[25788]))/2\n",
    "    v=(float(lst[25799])+float(lst[25800]))/2\n",
    "    w=(float(lst[25811])+float(lst[25812]))/2\n",
    "    x=(float(lst[25823])+float(lst[25824]))/2\n",
    "    y=(float(lst[25835])+float(lst[25836]))/2\n",
    "    temp_crn=[a,b,c,d,e,f,g,h,i,j,k,l,m,n,o,p,q,r,s,t,u,v,w,x,y]\n",
    "    temp_crn=np.cumsum(temp_crn)\n",
    "    print(temp_crn)"
   ]
  },
  {
   "cell_type": "code",
   "execution_count": 50,
   "id": "178b8e52",
   "metadata": {},
   "outputs": [
    {
     "name": "stdout",
     "output_type": "stream",
     "text": [
      "[0.027, 3.29, 19.785, 22.791, 23.316, 23.316, 23.316, 23.316, 23.316, 26.657999999999998, 26.657999999999998, 26.657999999999998, 26.657999999999998, 26.657999999999998, 26.657999999999998, 26.657999999999998, 26.657999999999998, 26.657999999999998, 26.657999999999998, 26.657999999999998, 26.657999999999998, 26.657999999999998, 26.657999999999998, 26.657999999999998, 26.657999999999998]\n"
     ]
    }
   ],
   "source": [
    "difference2_mon = []\n",
    "\n",
    "zip_object = zip(temp, temp_crn)\n",
    "for temp_i, temp_crn_i in zip_object:\n",
    "    difference2_mon.append(temp_i-temp_crn_i)\n",
    "\n",
    "print(difference2_mon)"
   ]
  },
  {
   "cell_type": "markdown",
   "id": "3e401515",
   "metadata": {},
   "source": [
    "<font size=\"3\">Holly Springs, MS: 2000 UTC 30 March 2022-2000 UTC 31 March 2022</font>"
   ]
  },
  {
   "cell_type": "code",
   "execution_count": 51,
   "id": "581a9384",
   "metadata": {},
   "outputs": [
    {
     "name": "stdout",
     "output_type": "stream",
     "text": [
      "[0.0000e+00 4.0000e-03 1.1300e-01 1.3200e-01 3.5400e-01 5.9410e+00\n",
      " 2.7356e+01 3.3814e+01 3.6972e+01 3.6973e+01 3.6973e+01 3.6973e+01\n",
      " 3.8345e+01 3.8349e+01 3.8349e+01 3.8352e+01 3.8353e+01 3.8353e+01\n",
      " 3.8353e+01 3.8353e+01 3.8353e+01 3.8353e+01 3.8353e+01 3.8353e+01\n",
      " 3.8353e+01]\n"
     ]
    }
   ],
   "source": [
    "#12 hr hrrr:\n",
    "with open('hrrr_f12_Holly Springs_MS.txt') as f:\n",
    "    lst=[line.split()[2] for line in f]\n",
    "    temp=[]\n",
    "    for i in lst:\n",
    "        new=i.replace(',',\"\")\n",
    "        temp.append(new)\n",
    "    temp.pop(0)\n",
    "    temp=[float(x) for x in temp]\n",
    "    temp=temp[2117:2142]\n",
    "    #temp=temp[2015:2063]\n",
    "    temp=np.cumsum(temp)\n",
    "    print(temp)\n",
    "#full time period is [2015:2112]"
   ]
  },
  {
   "cell_type": "code",
   "execution_count": 52,
   "id": "82820f6a",
   "metadata": {},
   "outputs": [
    {
     "name": "stdout",
     "output_type": "stream",
     "text": [
      "[0.   0.2  0.5  1.05 1.2  1.2  1.2  1.2  1.2  1.35 1.35 1.35 1.35 1.35\n",
      " 1.35 1.35 1.35 1.35 1.35 1.35 1.35 1.35 1.35 1.35 1.35]\n"
     ]
    }
   ],
   "source": [
    "#Air Temp CRN:\n",
    "with open('CRNS0101-05-2022-MS_Holly_Springs_4_N.txt') as f:\n",
    "    lst=[line.split()[9] for line in f]\n",
    "\n",
    "    a=(float(lst[25583])+float(lst[25584]))/2\n",
    "    b=(float(lst[25595])+float(lst[25596]))/2\n",
    "    c=(float(lst[25607])+float(lst[25608]))/2\n",
    "    d=(float(lst[25619])+float(lst[25620]))/2\n",
    "    e=(float(lst[25631])+float(lst[25632]))/2\n",
    "    f=(float(lst[25643])+float(lst[25644]))/2\n",
    "    g=(float(lst[25655])+float(lst[25656]))/2\n",
    "    h=(float(lst[25667])+float(lst[25668]))/2\n",
    "    i=(float(lst[25679])+float(lst[25680]))/2\n",
    "    j=(float(lst[25691])+float(lst[25692]))/2\n",
    "    k=(float(lst[25703])+float(lst[25704]))/2\n",
    "    l=(float(lst[25715])+float(lst[25716]))/2\n",
    "    m=(float(lst[25727])+float(lst[25728]))/2\n",
    "    n=(float(lst[25739])+float(lst[25740]))/2\n",
    "    o=(float(lst[25751])+float(lst[25752]))/2\n",
    "    p=(float(lst[25763])+float(lst[25764]))/2\n",
    "    q=(float(lst[25775])+float(lst[25776]))/2\n",
    "    r=(float(lst[25787])+float(lst[25788]))/2\n",
    "    s=(float(lst[25799])+float(lst[25800]))/2\n",
    "    t=(float(lst[25811])+float(lst[25812]))/2\n",
    "    u=(float(lst[25823])+float(lst[25824]))/2\n",
    "    v=(float(lst[25835])+float(lst[25836]))/2\n",
    "    w=(float(lst[25847])+float(lst[25848]))/2\n",
    "    x=(float(lst[25859])+float(lst[25860]))/2\n",
    "    y=(float(lst[25871])+float(lst[25872]))/2\n",
    "    temp_crn=[a,b,c,d,e,f,g,h,i,j,k,l,m,n,o,p,q,r,s,t,u,v,w,x,y]\n",
    "    temp_crn=np.cumsum(temp_crn)\n",
    "    print(temp_crn)"
   ]
  },
  {
   "cell_type": "code",
   "execution_count": 53,
   "id": "b348cd62",
   "metadata": {},
   "outputs": [
    {
     "name": "stdout",
     "output_type": "stream",
     "text": [
      "[0.0, -0.196, -0.387, -0.918, -0.846, 4.741, 26.156, 32.614, 35.772, 35.623, 35.623, 35.623, 36.995, 36.998999999999995, 36.998999999999995, 37.001999999999995, 37.00299999999999, 37.00299999999999, 37.00299999999999, 37.00299999999999, 37.00299999999999, 37.00299999999999, 37.00299999999999, 37.00299999999999, 37.00299999999999]\n"
     ]
    }
   ],
   "source": [
    "difference2_hol = []\n",
    "\n",
    "zip_object = zip(temp, temp_crn)\n",
    "for temp_i, temp_crn_i in zip_object:\n",
    "    difference2_hol.append(temp_i-temp_crn_i)\n",
    "\n",
    "print(difference2_hol)"
   ]
  },
  {
   "cell_type": "markdown",
   "id": "b5225197",
   "metadata": {},
   "source": [
    "<font size=\"3\">Newton, MS: 2000 UTC 30 March 2022-2000 UTC 31 March 2022</font>"
   ]
  },
  {
   "cell_type": "code",
   "execution_count": 54,
   "id": "7639cfdd",
   "metadata": {},
   "outputs": [
    {
     "name": "stdout",
     "output_type": "stream",
     "text": [
      "[ 0.     0.     0.     0.     0.06  25.544 29.902 30.691 30.691 30.691\n",
      " 30.691 30.691 30.691 30.691 30.691 30.694 30.698 30.698 30.698 30.698\n",
      " 30.698 30.698 30.698 30.698 30.698]\n"
     ]
    }
   ],
   "source": [
    "#12 hr hrrr:\n",
    "with open('hrrr_f12_Newton_MS.txt') as f:\n",
    "    lst=[line.split()[2] for line in f]\n",
    "    temp=[]\n",
    "    for i in lst:\n",
    "        new=i.replace(',',\"\")\n",
    "        temp.append(new)\n",
    "    temp.pop(0)\n",
    "    temp=[float(x) for x in temp]\n",
    "    temp=temp[2120:2145]\n",
    "    #temp=temp[2015:2063]\n",
    "    temp=np.cumsum(temp)\n",
    "    print(temp)\n",
    "#full time period is [2015:2112]"
   ]
  },
  {
   "cell_type": "code",
   "execution_count": 55,
   "id": "32b82de3",
   "metadata": {},
   "outputs": [
    {
     "name": "stdout",
     "output_type": "stream",
     "text": [
      "[0.   0.   0.   0.   0.3  0.85 0.85 0.85 0.85 0.85 0.85 0.85 0.85 0.85\n",
      " 0.85 0.85 0.85 0.85 0.85 0.85 0.85 0.85 0.85 0.85 0.85]\n"
     ]
    }
   ],
   "source": [
    "#Air Temp CRN:\n",
    "with open('CRNS0101-05-2022-MS_Newton_5_ENE.txt') as f:\n",
    "    lst=[line.split()[9] for line in f]\n",
    "\n",
    "    a=(float(lst[25583])+float(lst[25584]))/2\n",
    "    b=(float(lst[25595])+float(lst[25596]))/2\n",
    "    c=(float(lst[25607])+float(lst[25608]))/2\n",
    "    d=(float(lst[25619])+float(lst[25620]))/2\n",
    "    e=(float(lst[25631])+float(lst[25632]))/2\n",
    "    f=(float(lst[25643])+float(lst[25644]))/2\n",
    "    g=(float(lst[25655])+float(lst[25656]))/2\n",
    "    h=(float(lst[25667])+float(lst[25668]))/2\n",
    "    i=(float(lst[25679])+float(lst[25680]))/2\n",
    "    j=(float(lst[25691])+float(lst[25692]))/2\n",
    "    k=(float(lst[25703])+float(lst[25704]))/2\n",
    "    l=(float(lst[25715])+float(lst[25716]))/2\n",
    "    m=(float(lst[25727])+float(lst[25728]))/2\n",
    "    n=(float(lst[25739])+float(lst[25740]))/2\n",
    "    o=(float(lst[25751])+float(lst[25752]))/2\n",
    "    p=(float(lst[25763])+float(lst[25764]))/2\n",
    "    q=(float(lst[25775])+float(lst[25776]))/2\n",
    "    r=(float(lst[25787])+float(lst[25788]))/2\n",
    "    s=(float(lst[25799])+float(lst[25800]))/2\n",
    "    t=(float(lst[25811])+float(lst[25812]))/2\n",
    "    u=(float(lst[25823])+float(lst[25824]))/2\n",
    "    v=(float(lst[25835])+float(lst[25836]))/2\n",
    "    w=(float(lst[25847])+float(lst[25848]))/2\n",
    "    x=(float(lst[25859])+float(lst[25860]))/2\n",
    "    y=(float(lst[25871])+float(lst[25872]))/2\n",
    "    temp_crn=[a,b,c,d,e,f,g,h,i,j,k,l,m,n,o,p,q,r,s,t,u,v,w,x,y]\n",
    "    temp_crn=np.cumsum(temp_crn)\n",
    "    print(temp_crn)"
   ]
  },
  {
   "cell_type": "code",
   "execution_count": 56,
   "id": "cd6de2b7",
   "metadata": {},
   "outputs": [
    {
     "name": "stdout",
     "output_type": "stream",
     "text": [
      "[0.0, 0.0, 0.0, 0.0, -0.24000000000000005, 24.694, 29.052, 29.841, 29.841, 29.841, 29.841, 29.841, 29.841, 29.841, 29.841, 29.844, 29.848000000000003, 29.848000000000003, 29.848000000000003, 29.848000000000003, 29.848000000000003, 29.848000000000003, 29.848000000000003, 29.848000000000003, 29.848000000000003]\n"
     ]
    }
   ],
   "source": [
    "difference2_new = []\n",
    "\n",
    "zip_object = zip(temp, temp_crn)\n",
    "for temp_i, temp_crn_i in zip_object:\n",
    "    difference2_new.append(temp_i-temp_crn_i)\n",
    "\n",
    "print(difference2_new)"
   ]
  },
  {
   "cell_type": "markdown",
   "id": "bfaeb78c",
   "metadata": {},
   "source": [
    "<font size=\"3\">Gainesville, AL: 2300 UTC 30 March 2022-2300 UTC 31 March 2022</font>"
   ]
  },
  {
   "cell_type": "code",
   "execution_count": 57,
   "id": "6ad50471",
   "metadata": {},
   "outputs": [
    {
     "name": "stdout",
     "output_type": "stream",
     "text": [
      "[ 0.     0.197  1.435 30.257 34.512 36.645 36.645 36.645 36.645 36.646\n",
      " 36.655 36.655 36.655 36.655 36.655 36.655 36.655 36.655 36.655 36.655\n",
      " 36.655 36.655 36.655 36.655 36.655]\n"
     ]
    }
   ],
   "source": [
    "#12 hr hrrr:\n",
    "with open('hrrr_f12_Gainesville_AL.txt') as f:\n",
    "    lst=[line.split()[2] for line in f]\n",
    "    temp=[]\n",
    "    for i in lst:\n",
    "        new=i.replace(',',\"\")\n",
    "        temp.append(new)\n",
    "    temp.pop(0)\n",
    "    temp=[float(x) for x in temp]\n",
    "    temp=temp[2123:2148]\n",
    "    #temp=temp[2015:2063]\n",
    "    temp=np.cumsum(temp)\n",
    "    print(temp)\n",
    "#full time period is [2015:2112]"
   ]
  },
  {
   "cell_type": "code",
   "execution_count": 58,
   "id": "99d8adcd",
   "metadata": {},
   "outputs": [
    {
     "name": "stdout",
     "output_type": "stream",
     "text": [
      "[0.   0.   0.4  2.8  3.15 3.15 3.15 3.15 3.15 3.15 3.15 3.15 3.15 3.15\n",
      " 3.15 3.15 3.15 3.15 3.15 3.15 3.15 3.15 3.15 3.15 3.15]\n"
     ]
    }
   ],
   "source": [
    "#Air Temp CRN:\n",
    "with open('CRNS0101-05-2022-AL_Gainesville_2_NE.txt') as f:\n",
    "    lst=[line.split()[9] for line in f]\n",
    "\n",
    "    a=(float(lst[25619])+float(lst[25620]))/2\n",
    "    b=(float(lst[25631])+float(lst[25632]))/2\n",
    "    c=(float(lst[25643])+float(lst[25644]))/2\n",
    "    d=(float(lst[25655])+float(lst[25656]))/2\n",
    "    e=(float(lst[25667])+float(lst[25668]))/2\n",
    "    f=(float(lst[25679])+float(lst[25680]))/2\n",
    "    g=(float(lst[25691])+float(lst[25692]))/2\n",
    "    h=(float(lst[25703])+float(lst[25704]))/2\n",
    "    i=(float(lst[25715])+float(lst[25716]))/2\n",
    "    j=(float(lst[25727])+float(lst[25728]))/2\n",
    "    k=(float(lst[25739])+float(lst[25740]))/2\n",
    "    l=(float(lst[25751])+float(lst[25752]))/2\n",
    "    m=(float(lst[25763])+float(lst[25764]))/2\n",
    "    n=(float(lst[25775])+float(lst[25776]))/2\n",
    "    o=(float(lst[25787])+float(lst[25788]))/2\n",
    "    p=(float(lst[25799])+float(lst[25800]))/2\n",
    "    q=(float(lst[25811])+float(lst[25812]))/2\n",
    "    r=(float(lst[25823])+float(lst[25824]))/2\n",
    "    s=(float(lst[25835])+float(lst[25836]))/2\n",
    "    t=(float(lst[25847])+float(lst[25848]))/2\n",
    "    u=(float(lst[25859])+float(lst[25860]))/2\n",
    "    v=(float(lst[25871])+float(lst[25872]))/2\n",
    "    w=(float(lst[25883])+float(lst[25884]))/2\n",
    "    x=(float(lst[25895])+float(lst[25896]))/2\n",
    "    y=(float(lst[25907])+float(lst[25908]))/2\n",
    "    temp_crn=[a,b,c,d,e,f,g,h,i,j,k,l,m,n,o,p,q,r,s,t,u,v,w,x,y]\n",
    "    temp_crn=np.cumsum(temp_crn)\n",
    "    print(temp_crn)"
   ]
  },
  {
   "cell_type": "code",
   "execution_count": 59,
   "id": "82a257d7",
   "metadata": {},
   "outputs": [
    {
     "name": "stdout",
     "output_type": "stream",
     "text": [
      "[0.0, 0.197, 1.0350000000000001, 27.456999999999997, 31.362000000000002, 33.495000000000005, 33.495000000000005, 33.495000000000005, 33.495000000000005, 33.496, 33.505, 33.505, 33.505, 33.505, 33.505, 33.505, 33.505, 33.505, 33.505, 33.505, 33.505, 33.505, 33.505, 33.505, 33.505]\n"
     ]
    }
   ],
   "source": [
    "difference2_gai = []\n",
    "\n",
    "zip_object = zip(temp, temp_crn)\n",
    "for temp_i, temp_crn_i in zip_object:\n",
    "    difference2_gai.append(temp_i-temp_crn_i)\n",
    "\n",
    "print(difference2_gai)"
   ]
  },
  {
   "cell_type": "markdown",
   "id": "0917b86d",
   "metadata": {},
   "source": [
    "<font size=\"3\">Fairhope, AL: 0100 UTC 31 March 2022-0100 UTC 1 April 2022</font>"
   ]
  },
  {
   "cell_type": "code",
   "execution_count": 60,
   "id": "102e4d08",
   "metadata": {},
   "outputs": [
    {
     "name": "stdout",
     "output_type": "stream",
     "text": [
      "[ 0.     0.     4.343  4.55   4.811 14.191 17.893 19.111 19.783 19.784\n",
      " 19.784 19.784 19.784 19.784 19.784 19.784 19.784 19.784 19.784 19.784\n",
      " 19.784 19.784 19.784 19.784 19.784]\n"
     ]
    }
   ],
   "source": [
    "#12 hr hrrr:\n",
    "with open('hrrr_f12_Fairhope_AL.txt') as f:\n",
    "    lst=[line.split()[2] for line in f]\n",
    "    temp=[]\n",
    "    for i in lst:\n",
    "        new=i.replace(',',\"\")\n",
    "        temp.append(new)\n",
    "    temp.pop(0)\n",
    "    temp=[float(x) for x in temp]\n",
    "    temp=temp[2125:2150]\n",
    "    #temp=temp[2015:2063]\n",
    "    temp=np.cumsum(temp)\n",
    "    print(temp)\n",
    "#full time period is [2015:2112]"
   ]
  },
  {
   "cell_type": "code",
   "execution_count": 61,
   "id": "70c7a360",
   "metadata": {},
   "outputs": [
    {
     "name": "stdout",
     "output_type": "stream",
     "text": [
      "[0.  0.  0.  0.  0.2 0.2 0.3 0.3 0.3 0.3 0.3 0.3 0.3 0.3 0.3 0.3 0.3 0.3\n",
      " 0.3 0.3 0.3 0.3 0.3 0.3 0.3]\n"
     ]
    }
   ],
   "source": [
    "#Air Temp CRN:\n",
    "with open('CRNS0101-05-2022-AL_Fairhope_3_NE.txt') as f:\n",
    "    lst=[line.split()[9] for line in f]\n",
    "    \n",
    "    a=(float(lst[25643])+float(lst[25644]))/2\n",
    "    b=(float(lst[25655])+float(lst[25656]))/2\n",
    "    c=(float(lst[25667])+float(lst[25668]))/2\n",
    "    d=(float(lst[25679])+float(lst[25680]))/2\n",
    "    e=(float(lst[25691])+float(lst[25692]))/2\n",
    "    f=(float(lst[25703])+float(lst[25704]))/2\n",
    "    g=(float(lst[25715])+float(lst[25716]))/2\n",
    "    h=(float(lst[25727])+float(lst[25728]))/2\n",
    "    i=(float(lst[25739])+float(lst[25740]))/2\n",
    "    j=(float(lst[25751])+float(lst[25752]))/2\n",
    "    k=(float(lst[25763])+float(lst[25764]))/2\n",
    "    l=(float(lst[25775])+float(lst[25776]))/2\n",
    "    m=(float(lst[25787])+float(lst[25788]))/2\n",
    "    n=(float(lst[25799])+float(lst[25800]))/2\n",
    "    o=(float(lst[25811])+float(lst[25812]))/2\n",
    "    p=(float(lst[25823])+float(lst[25824]))/2\n",
    "    q=(float(lst[25835])+float(lst[25836]))/2\n",
    "    r=(float(lst[25847])+float(lst[25848]))/2\n",
    "    s=(float(lst[25859])+float(lst[25860]))/2\n",
    "    t=(float(lst[25871])+float(lst[25872]))/2\n",
    "    u=(float(lst[25883])+float(lst[25884]))/2\n",
    "    v=(float(lst[25895])+float(lst[25896]))/2\n",
    "    w=(float(lst[25907])+float(lst[25908]))/2\n",
    "    x=(float(lst[25919])+float(lst[25920]))/2\n",
    "    y=(float(lst[25931])+float(lst[25932]))/2\n",
    "    temp_crn=[a,b,c,d,e,f,g,h,i,j,k,l,m,n,o,p,q,r,s,t,u,v,w,x,y]\n",
    "    temp_crn=np.cumsum(temp_crn)\n",
    "    print(temp_crn)"
   ]
  },
  {
   "cell_type": "code",
   "execution_count": 62,
   "id": "f15c30e0",
   "metadata": {},
   "outputs": [
    {
     "name": "stdout",
     "output_type": "stream",
     "text": [
      "[0.0, 0.0, 4.343, 4.55, 4.611, 13.991000000000001, 17.593, 18.811, 19.483, 19.484, 19.484, 19.484, 19.484, 19.484, 19.484, 19.484, 19.484, 19.484, 19.484, 19.484, 19.484, 19.484, 19.484, 19.484, 19.484]\n"
     ]
    }
   ],
   "source": [
    "difference2_fai = []\n",
    "\n",
    "zip_object = zip(temp, temp_crn)\n",
    "for temp_i, temp_crn_i in zip_object:\n",
    "    difference2_fai.append(temp_i-temp_crn_i)\n",
    "\n",
    "print(difference2_fai)"
   ]
  },
  {
   "cell_type": "markdown",
   "id": "e9530edf",
   "metadata": {},
   "source": [
    "<font size=\"3\">**Selma, AL: 0100 UTC 31 March 2022-0100 UTC 1 April 2022</font>"
   ]
  },
  {
   "cell_type": "code",
   "execution_count": 63,
   "id": "15e7e080",
   "metadata": {},
   "outputs": [
    {
     "name": "stdout",
     "output_type": "stream",
     "text": [
      "[ 0.     0.168  0.18   3.535 33.412 35.15  35.437 35.457 35.457 35.457\n",
      " 35.457 35.457 35.457 35.457 35.457 35.457 35.457 35.457 35.457 35.457\n",
      " 35.457 35.457 35.457 35.457 35.457]\n"
     ]
    }
   ],
   "source": [
    "#1 hr hrrr:\n",
    "with open('hrrr_f12_Selma_AL.txt') as f:\n",
    "    lst=[line.split()[2] for line in f]\n",
    "    temp=[]\n",
    "    for i in lst:\n",
    "        new=i.replace(',',\"\")\n",
    "        temp.append(new)\n",
    "    temp.pop(0)\n",
    "    temp=[float(x) for x in temp]\n",
    "    temp=temp[2125:2150]\n",
    "    temp=np.cumsum(temp)\n",
    "    print(temp)"
   ]
  },
  {
   "cell_type": "code",
   "execution_count": 64,
   "id": "56b6cfa3",
   "metadata": {},
   "outputs": [
    {
     "name": "stdout",
     "output_type": "stream",
     "text": [
      "[0.   0.1  0.95 3.7  4.4  4.7  4.7  4.7  4.7  4.7  4.7  4.7  4.7  4.7\n",
      " 4.7  4.7  4.7  4.7  4.7  4.7  4.7  4.7  4.7  4.7  4.7 ]\n"
     ]
    }
   ],
   "source": [
    "#Air Temp CRN:\n",
    "with open('CRNS0101-05-2022-AL_Selma_13_WNW.txt') as f:\n",
    "    lst=[line.split()[9] for line in f]\n",
    "    \n",
    "    a=(float(lst[25643])+float(lst[25644]))/2\n",
    "    b=(float(lst[25655])+float(lst[25656]))/2\n",
    "    c=(float(lst[25667])+float(lst[25668]))/2\n",
    "    d=(float(lst[25679])+float(lst[25680]))/2\n",
    "    e=(float(lst[25691])+float(lst[25692]))/2\n",
    "    f=(float(lst[25703])+float(lst[25704]))/2\n",
    "    g=(float(lst[25715])+float(lst[25716]))/2\n",
    "    h=(float(lst[25727])+float(lst[25728]))/2\n",
    "    i=(float(lst[25739])+float(lst[25740]))/2\n",
    "    j=(float(lst[25751])+float(lst[25752]))/2\n",
    "    k=(float(lst[25763])+float(lst[25764]))/2\n",
    "    l=(float(lst[25775])+float(lst[25776]))/2\n",
    "    m=(float(lst[25787])+float(lst[25788]))/2\n",
    "    n=(float(lst[25799])+float(lst[25800]))/2\n",
    "    o=(float(lst[25811])+float(lst[25812]))/2\n",
    "    p=(float(lst[25823])+float(lst[25824]))/2\n",
    "    q=(float(lst[25835])+float(lst[25836]))/2\n",
    "    r=(float(lst[25847])+float(lst[25848]))/2\n",
    "    s=(float(lst[25859])+float(lst[25860]))/2\n",
    "    t=(float(lst[25871])+float(lst[25872]))/2\n",
    "    u=(float(lst[25883])+float(lst[25884]))/2\n",
    "    v=(float(lst[25895])+float(lst[25896]))/2\n",
    "    w=(float(lst[25907])+float(lst[25908]))/2\n",
    "    x=(float(lst[25919])+float(lst[25920]))/2\n",
    "    y=(float(lst[25931])+float(lst[25932]))/2\n",
    "    temp_crn=[a,b,c,d,e,f,g,h,i,j,k,l,m,n,o,p,q,r,s,t,u,v,w,x,y]\n",
    "    temp_crn=np.cumsum(temp_crn)\n",
    "    print(temp_crn)"
   ]
  },
  {
   "cell_type": "code",
   "execution_count": 65,
   "id": "1cd371ed",
   "metadata": {},
   "outputs": [
    {
     "name": "stdout",
     "output_type": "stream",
     "text": [
      "[0.0, 0.068, -0.7699999999999999, -0.16500000000000004, 29.012, 30.45, 30.737, 30.757, 30.757, 30.757, 30.757, 30.757, 30.757, 30.757, 30.757, 30.757, 30.757, 30.757, 30.757, 30.757, 30.757, 30.757, 30.757, 30.757, 30.757]\n",
      "25\n"
     ]
    }
   ],
   "source": [
    "difference2_sel = []\n",
    "\n",
    "zip_object = zip(temp, temp_crn)\n",
    "for temp_i, temp_crn_i in zip_object:\n",
    "    difference2_sel.append(temp_i-temp_crn_i)\n",
    "\n",
    "print(difference2_sel)\n",
    "print(len(difference2_sel))"
   ]
  },
  {
   "cell_type": "markdown",
   "id": "96c13278",
   "metadata": {},
   "source": [
    "<font size=\"3\">Bowling Green, KY: 0100 UTC 31 March 2022-0100 UTC 1 April 2022</font>"
   ]
  },
  {
   "cell_type": "code",
   "execution_count": 66,
   "id": "20079007",
   "metadata": {},
   "outputs": [
    {
     "name": "stdout",
     "output_type": "stream",
     "text": [
      "[ 0.     0.084  0.547  9.146 11.084 13.279 13.653 13.653 13.653 13.654\n",
      " 13.66  13.66  13.852 13.905 13.908 13.908 13.925 13.927 13.927 13.931\n",
      " 13.931 13.938 13.953 13.996 14.587]\n"
     ]
    }
   ],
   "source": [
    "#12 hr hrrr:\n",
    "with open('hrrr_f12_Bowling Green_KY.txt') as f:\n",
    "    lst=[line.split()[2] for line in f]\n",
    "    temp=[]\n",
    "    for i in lst:\n",
    "        new=i.replace(',',\"\")\n",
    "        temp.append(new)\n",
    "    temp.pop(0)\n",
    "    temp=[float(x) for x in temp]\n",
    "    temp=temp[2125:2150]\n",
    "#     x = np.array(temp)\n",
    "#     temp= ma.masked_array(x, mask=[0, 0, 0, 0, 0,0,1,0,0,0,0,0,0,0,0,0,0,0,0,0,0,0,0,0,0])\n",
    "    #temp=temp[2015:2063]\n",
    "    temp=np.cumsum(temp)\n",
    "    print(temp)\n",
    "#full time period is [2015:2112]"
   ]
  },
  {
   "cell_type": "code",
   "execution_count": 67,
   "id": "40c7254e",
   "metadata": {},
   "outputs": [
    {
     "name": "stdout",
     "output_type": "stream",
     "text": [
      "[0.0 0.0 1.15 1.7999999999999998 1.7999999999999998 -- -- --\n",
      " 1.7999999999999998 1.7999999999999998 1.9 1.9 1.9 1.9 1.9 1.9 1.9 1.9 1.9\n",
      " 1.9 1.9 1.9 1.9 1.9 1.9]\n"
     ]
    }
   ],
   "source": [
    "#Air Temp CRN:\n",
    "with open('CRNS0101-05-2022-KY_Bowling_Green_21_NNE.txt') as f:\n",
    "    lst=[line.split()[9] for line in f]\n",
    "    \n",
    "    a=(float(lst[25643])+float(lst[25644]))/2\n",
    "    b=(float(lst[25655])+float(lst[25656]))/2\n",
    "    c=(float(lst[25667])+float(lst[25668]))/2\n",
    "    d=(float(lst[25679])+float(lst[25680]))/2\n",
    "    e=(float(lst[25691])+float(lst[25692]))/2\n",
    "    f=(float(lst[25703])+float(lst[25704]))/2\n",
    "    g=(float(lst[25715])+float(lst[25716]))/2\n",
    "    h=(float(lst[25727])+float(lst[25728]))/2\n",
    "    i=(float(lst[25739])+float(lst[25740]))/2\n",
    "    j=(float(lst[25751])+float(lst[25752]))/2\n",
    "    k=(float(lst[25763])+float(lst[25764]))/2\n",
    "    l=(float(lst[25775])+float(lst[25776]))/2\n",
    "    m=(float(lst[25787])+float(lst[25788]))/2\n",
    "    n=(float(lst[25799])+float(lst[25800]))/2\n",
    "    o=(float(lst[25811])+float(lst[25812]))/2\n",
    "    p=(float(lst[25823])+float(lst[25824]))/2\n",
    "    q=(float(lst[25835])+float(lst[25836]))/2\n",
    "    r=(float(lst[25847])+float(lst[25848]))/2\n",
    "    s=(float(lst[25859])+float(lst[25860]))/2\n",
    "    t=(float(lst[25871])+float(lst[25872]))/2\n",
    "    u=(float(lst[25883])+float(lst[25884]))/2\n",
    "    v=(float(lst[25895])+float(lst[25896]))/2\n",
    "    w=(float(lst[25907])+float(lst[25908]))/2\n",
    "    x=(float(lst[25919])+float(lst[25920]))/2\n",
    "    y=(float(lst[25931])+float(lst[25932]))/2\n",
    "    temp_crn=[a,b,c,d,e,f,g,h,i,j,k,l,m,n,o,p,q,r,s,t,u,v,w,x,y]\n",
    "    y= np.array(temp_crn)\n",
    "    temp_crn= ma.masked_array(y, mask=[0, 0, 0, 0, 0,1,1,1,0,0,0,0,0,0,0,0,0,0,0,0,0,0,0,0,0])\n",
    "    temp_crn=np.cumsum(temp_crn)\n",
    "    print(temp_crn)"
   ]
  },
  {
   "cell_type": "code",
   "execution_count": 68,
   "id": "90cedfd2",
   "metadata": {},
   "outputs": [
    {
     "name": "stdout",
     "output_type": "stream",
     "text": [
      "[0.0, 0.084, -0.6029999999999999, 7.346000000000001, 9.284000000000002, masked, masked, masked, 11.853000000000002, 11.854000000000003, 11.760000000000002, 11.760000000000002, 11.952000000000002, 12.005000000000003, 12.008000000000003, 12.008000000000003, 12.025000000000002, 12.027000000000003, 12.027000000000003, 12.031000000000002, 12.031000000000002, 12.038000000000002, 12.053000000000003, 12.096000000000002, 12.687000000000001]\n"
     ]
    }
   ],
   "source": [
    "difference2_bow = []\n",
    "\n",
    "zip_object = zip(temp, temp_crn)\n",
    "for temp_i, temp_crn_i in zip_object:\n",
    "    difference2_bow.append(temp_i-temp_crn_i)\n",
    "\n",
    "print(difference2_bow)"
   ]
  },
  {
   "cell_type": "markdown",
   "id": "770eb1f1",
   "metadata": {},
   "source": [
    "<font size=\"3\">Gadsden, AL: 0200 UTC 31 March 2022-0200 UTC 1 April 2022</font>"
   ]
  },
  {
   "cell_type": "code",
   "execution_count": 69,
   "id": "b06370d2",
   "metadata": {},
   "outputs": [
    {
     "name": "stdout",
     "output_type": "stream",
     "text": [
      "[0.0000e+00 1.7000e-02 1.4940e+00 8.2020e+00 2.7169e+01 3.0991e+01\n",
      " 3.0991e+01 3.0991e+01 3.0991e+01 3.0991e+01 3.0991e+01 3.0991e+01\n",
      " 3.0991e+01 3.0991e+01 3.0991e+01 3.0991e+01 3.1003e+01 3.1003e+01\n",
      " 3.1003e+01 3.1003e+01 3.1003e+01 3.1003e+01 3.1003e+01 3.1003e+01\n",
      " 3.1003e+01]\n"
     ]
    }
   ],
   "source": [
    "#12 hr hrrr:\n",
    "with open('hrrr_f12_Gadsden_AL.txt') as f:\n",
    "    lst=[line.split()[2] for line in f]\n",
    "    temp=[]\n",
    "    for i in lst:\n",
    "        new=i.replace(',',\"\")\n",
    "        temp.append(new)\n",
    "    temp.pop(0)\n",
    "    temp=[float(x) for x in temp]\n",
    "    temp=temp[2126:2151]\n",
    "    #temp=temp[2015:2063]\n",
    "    temp=np.cumsum(temp)\n",
    "    print(temp)\n",
    "#full time period is [2015:2112]"
   ]
  },
  {
   "cell_type": "code",
   "execution_count": 70,
   "id": "28243f45",
   "metadata": {},
   "outputs": [
    {
     "name": "stdout",
     "output_type": "stream",
     "text": [
      "[  -4999.5  -14998.5  -24997.5  -34996.5  -44995.5  -54994.5  -64993.5\n",
      "  -74992.5  -79992.   -79992.   -79992.   -79992.   -79992.   -79992.\n",
      "  -79992.   -79992.   -79992.   -79992.   -79992.   -79992.   -79992.\n",
      "  -84991.5  -94990.5 -104989.5 -109989. ]\n"
     ]
    }
   ],
   "source": [
    "#Air Temp CRN:\n",
    "with open('CRNS0101-05-2022-AL_Gadsden_19_N.txt') as f:\n",
    "    lst=[line.split()[9] for line in f]\n",
    "    \n",
    "    a=(float(lst[25655])+float(lst[25656]))/2\n",
    "    b=(float(lst[25667])+float(lst[25668]))/2\n",
    "    c=(float(lst[25679])+float(lst[25680]))/2\n",
    "    d=(float(lst[25691])+float(lst[25692]))/2\n",
    "    e=(float(lst[25703])+float(lst[25704]))/2\n",
    "    f=(float(lst[25715])+float(lst[25716]))/2\n",
    "    g=(float(lst[25727])+float(lst[25728]))/2\n",
    "    h=(float(lst[25739])+float(lst[25740]))/2\n",
    "    i=(float(lst[25751])+float(lst[25752]))/2\n",
    "    j=(float(lst[25763])+float(lst[25764]))/2\n",
    "    k=(float(lst[25775])+float(lst[25776]))/2\n",
    "    l=(float(lst[25787])+float(lst[25788]))/2\n",
    "    m=(float(lst[25799])+float(lst[25800]))/2\n",
    "    n=(float(lst[25811])+float(lst[25812]))/2\n",
    "    o=(float(lst[25823])+float(lst[25824]))/2\n",
    "    p=(float(lst[25835])+float(lst[25836]))/2\n",
    "    q=(float(lst[25847])+float(lst[25848]))/2\n",
    "    r=(float(lst[25859])+float(lst[25860]))/2\n",
    "    s=(float(lst[25871])+float(lst[25872]))/2\n",
    "    t=(float(lst[25883])+float(lst[25884]))/2\n",
    "    u=(float(lst[25895])+float(lst[25896]))/2\n",
    "    v=(float(lst[25907])+float(lst[25908]))/2\n",
    "    w=(float(lst[25919])+float(lst[25920]))/2\n",
    "    x=(float(lst[25931])+float(lst[25932]))/2\n",
    "    y=(float(lst[25943])+float(lst[25944]))/2\n",
    "    temp_crn=[a,b,c,d,e,f,g,h,i,j,k,l,m,n,o,p,q,r,s,t,u,v,w,x,y]\n",
    "    temp_crn=np.cumsum(temp_crn)\n",
    "    print(temp_crn)"
   ]
  },
  {
   "cell_type": "code",
   "execution_count": 71,
   "id": "d63723fd",
   "metadata": {},
   "outputs": [],
   "source": [
    "# difference2_gad = []\n",
    "\n",
    "# zip_object = zip(temp, temp_crn)\n",
    "# for temp_i, temp_crn_i in zip_object:\n",
    "#     difference2_gad.append(temp_i-temp_crn_i)\n",
    "\n",
    "# print(difference2_gad)"
   ]
  },
  {
   "cell_type": "markdown",
   "id": "cd4a8f77",
   "metadata": {},
   "source": [
    "<font size=\"3\">Newton, GA: 0700 UTC 31 March 2022-0700 UTC 1 April 2022</font>"
   ]
  },
  {
   "cell_type": "code",
   "execution_count": 72,
   "id": "29be0aef",
   "metadata": {},
   "outputs": [
    {
     "name": "stdout",
     "output_type": "stream",
     "text": [
      "[0.0000e+00 0.0000e+00 0.0000e+00 0.0000e+00 1.0000e-03 6.8260e+00\n",
      " 1.5502e+01 1.5516e+01 1.5516e+01 1.5517e+01 1.5517e+01 1.5517e+01\n",
      " 1.5517e+01 1.5517e+01 1.5517e+01 1.5517e+01 1.5517e+01 1.5517e+01\n",
      " 1.5517e+01 1.5517e+01 1.5517e+01 1.5517e+01 1.5517e+01 1.5517e+01\n",
      " 1.5517e+01]\n"
     ]
    }
   ],
   "source": [
    "#12 hr hrrr:\n",
    "with open('hrrr_f12_Newton_GA.txt') as f:\n",
    "    lst=[line.split()[2] for line in f]\n",
    "    temp=[]\n",
    "    for i in lst:\n",
    "        new=i.replace(',',\"\")\n",
    "        temp.append(new)\n",
    "    temp.pop(0)\n",
    "    temp=[float(x) for x in temp]\n",
    "    temp=temp[2131:2156]\n",
    "    #temp=temp[2015:2063]\n",
    "    temp=np.cumsum(temp)\n",
    "    print(temp)\n",
    "#full time period is [2015:2112]"
   ]
  },
  {
   "cell_type": "code",
   "execution_count": 73,
   "id": "28c28e01",
   "metadata": {},
   "outputs": [
    {
     "name": "stdout",
     "output_type": "stream",
     "text": [
      "[0.   0.   0.   0.   0.3  1.7  2.65 3.15 3.15 3.15 3.15 3.15 3.15 3.15\n",
      " 3.15 3.15 3.15 3.15 3.15 3.15 3.15 3.15 3.15 3.15 3.15]\n"
     ]
    }
   ],
   "source": [
    "#Air Temp CRN:\n",
    "with open('CRNS0101-05-2022-GA_Newton_11_SW.txt') as f:\n",
    "    lst=[line.split()[9] for line in f]\n",
    "    \n",
    "    a=(float(lst[25715])+float(lst[25716]))/2\n",
    "    b=(float(lst[25727])+float(lst[25728]))/2\n",
    "    c=(float(lst[25739])+float(lst[25740]))/2\n",
    "    d=(float(lst[25751])+float(lst[25752]))/2\n",
    "    e=(float(lst[25763])+float(lst[25764]))/2\n",
    "    f=(float(lst[25775])+float(lst[25776]))/2\n",
    "    g=(float(lst[25787])+float(lst[25788]))/2\n",
    "    h=(float(lst[25799])+float(lst[25800]))/2\n",
    "    i=(float(lst[25811])+float(lst[25812]))/2\n",
    "    j=(float(lst[25823])+float(lst[25824]))/2\n",
    "    k=(float(lst[25835])+float(lst[25836]))/2\n",
    "    l=(float(lst[25847])+float(lst[25848]))/2\n",
    "    m=(float(lst[25859])+float(lst[25860]))/2\n",
    "    n=(float(lst[25871])+float(lst[25872]))/2\n",
    "    o=(float(lst[25883])+float(lst[25884]))/2\n",
    "    p=(float(lst[25895])+float(lst[25896]))/2\n",
    "    q=(float(lst[25907])+float(lst[25908]))/2\n",
    "    r=(float(lst[25919])+float(lst[25920]))/2\n",
    "    s=(float(lst[25931])+float(lst[25932]))/2\n",
    "    t=(float(lst[25943])+float(lst[25944]))/2\n",
    "    u=(float(lst[25955])+float(lst[25956]))/2\n",
    "    v=(float(lst[25967])+float(lst[25968]))/2\n",
    "    w=(float(lst[25979])+float(lst[25980]))/2\n",
    "    x=(float(lst[25991])+float(lst[25992]))/2\n",
    "    y=(float(lst[26003])+float(lst[26004]))/2\n",
    "    temp_crn=[a,b,c,d,e,f,g,h,i,j,k,l,m,n,o,p,q,r,s,t,u,v,w,x,y]\n",
    "    temp_crn=np.cumsum(temp_crn)\n",
    "    print(temp_crn)"
   ]
  },
  {
   "cell_type": "code",
   "execution_count": 74,
   "id": "4bcfa192",
   "metadata": {},
   "outputs": [
    {
     "name": "stdout",
     "output_type": "stream",
     "text": [
      "[0.0, 0.0, 0.0, 0.0, -0.299, 5.126, 12.852, 12.366, 12.366, 12.366999999999999, 12.366999999999999, 12.366999999999999, 12.366999999999999, 12.366999999999999, 12.366999999999999, 12.366999999999999, 12.366999999999999, 12.366999999999999, 12.366999999999999, 12.366999999999999, 12.366999999999999, 12.366999999999999, 12.366999999999999, 12.366999999999999, 12.366999999999999]\n"
     ]
    }
   ],
   "source": [
    "difference2_newt = []\n",
    "\n",
    "zip_object = zip(temp, temp_crn)\n",
    "for temp_i, temp_crn_i in zip_object:\n",
    "    difference2_newt.append(temp_i-temp_crn_i)\n",
    "\n",
    "print(difference2_newt)"
   ]
  },
  {
   "cell_type": "markdown",
   "id": "8148ba77",
   "metadata": {},
   "source": [
    "<font size=\"3\">Salem, MO: 1000 UTC 5 April 2022-1000 UTC 6 April 2022</font>"
   ]
  },
  {
   "cell_type": "code",
   "execution_count": 75,
   "id": "52be5eab",
   "metadata": {},
   "outputs": [
    {
     "name": "stdout",
     "output_type": "stream",
     "text": [
      "[0.071 0.071 0.071 0.071 0.071 0.071 0.071 0.071 0.071 0.071 0.071 0.071\n",
      " 0.071 0.071 0.071 0.071 0.262 0.28  0.281 3.271 5.159 5.597 5.747 5.834\n",
      " 5.913]\n"
     ]
    }
   ],
   "source": [
    "#12 hr hrrr:\n",
    "with open('hrrr_f12_Salem_MO.txt') as f:\n",
    "    lst=[line.split()[2] for line in f]\n",
    "    temp=[]\n",
    "    for i in lst:\n",
    "        new=i.replace(',',\"\")\n",
    "        temp.append(new)\n",
    "    temp.pop(0)\n",
    "    temp=[float(x) for x in temp]\n",
    "    temp=temp[2254:2279]\n",
    "    #temp=temp[2015:2063]\n",
    "    temp=np.cumsum(temp)\n",
    "    print(temp)\n",
    "#full time period is [2015:2112]"
   ]
  },
  {
   "cell_type": "code",
   "execution_count": 76,
   "id": "3d591709",
   "metadata": {},
   "outputs": [
    {
     "name": "stdout",
     "output_type": "stream",
     "text": [
      "[0.   0.   0.   0.   0.   0.   0.   0.   0.   0.   0.   0.   0.   0.\n",
      " 0.   0.   0.   0.   0.   0.   0.   0.   0.15 0.15 0.15]\n"
     ]
    }
   ],
   "source": [
    "#Air Temp CRN:\n",
    "with open('CRNS0101-05-2022-MO_Salem_10_W.txt') as f:\n",
    "    lst=[line.split()[9] for line in f]\n",
    "    \n",
    "    a=(float(lst[27191])+float(lst[27192]))/2\n",
    "    b=(float(lst[27203])+float(lst[27204]))/2\n",
    "    c=(float(lst[27215])+float(lst[27216]))/2\n",
    "    d=(float(lst[27227])+float(lst[27228]))/2\n",
    "    e=(float(lst[27239])+float(lst[27240]))/2\n",
    "    f=(float(lst[27251])+float(lst[27252]))/2\n",
    "    g=(float(lst[27263])+float(lst[27264]))/2\n",
    "    h=(float(lst[27275])+float(lst[27276]))/2\n",
    "    i=(float(lst[27287])+float(lst[27288]))/2\n",
    "    j=(float(lst[27299])+float(lst[27300]))/2\n",
    "    k=(float(lst[27311])+float(lst[27312]))/2\n",
    "    l=(float(lst[27323])+float(lst[27324]))/2\n",
    "    m=(float(lst[27335])+float(lst[27336]))/2\n",
    "    n=(float(lst[27347])+float(lst[27348]))/2\n",
    "    o=(float(lst[27359])+float(lst[27360]))/2\n",
    "    p=(float(lst[27371])+float(lst[27372]))/2\n",
    "    q=(float(lst[27383])+float(lst[27384]))/2\n",
    "    r=(float(lst[27395])+float(lst[27396]))/2\n",
    "    s=(float(lst[27407])+float(lst[27408]))/2\n",
    "    t=(float(lst[27419])+float(lst[27420]))/2\n",
    "    u=(float(lst[27431])+float(lst[27432]))/2\n",
    "    v=(float(lst[27443])+float(lst[27444]))/2\n",
    "    w=(float(lst[27455])+float(lst[27456]))/2\n",
    "    x=(float(lst[27467])+float(lst[27468]))/2\n",
    "    y=(float(lst[27479])+float(lst[27480]))/2\n",
    "    temp_crn=[a,b,c,d,e,f,g,h,i,j,k,l,m,n,o,p,q,r,s,t,u,v,w,x,y]\n",
    "    temp_crn=np.cumsum(temp_crn)\n",
    "    print(temp_crn)"
   ]
  },
  {
   "cell_type": "code",
   "execution_count": 77,
   "id": "d9f71702",
   "metadata": {},
   "outputs": [
    {
     "name": "stdout",
     "output_type": "stream",
     "text": [
      "[0.071, 0.071, 0.071, 0.071, 0.071, 0.071, 0.071, 0.071, 0.071, 0.071, 0.071, 0.071, 0.071, 0.071, 0.071, 0.071, 0.262, 0.28, 0.281, 3.2710000000000004, 5.159000000000001, 5.597, 5.597, 5.684, 5.763]\n"
     ]
    }
   ],
   "source": [
    "difference3_sal = []\n",
    "\n",
    "zip_object = zip(temp, temp_crn)\n",
    "for temp_i, temp_crn_i in zip_object:\n",
    "    difference3_sal.append(temp_i-temp_crn_i)\n",
    "\n",
    "print(difference3_sal)"
   ]
  },
  {
   "cell_type": "markdown",
   "id": "cc4a44b1",
   "metadata": {},
   "source": [
    "<font size=\"3\">Batesville, AR: 1000 UTC 5 April 2022-1000 UTC 6 April 2022</font>"
   ]
  },
  {
   "cell_type": "code",
   "execution_count": 78,
   "id": "4fcfb5db",
   "metadata": {},
   "outputs": [
    {
     "name": "stdout",
     "output_type": "stream",
     "text": [
      "[0.591 1.214 1.218 1.222 1.222 1.225 1.225 1.225 1.225 1.225 1.225 1.225\n",
      " 1.225 1.225 1.225 1.225 1.225 1.226 1.226 1.229 1.232 1.234 1.235 5.378\n",
      " 6.518]\n"
     ]
    }
   ],
   "source": [
    "#12 hr hrrr:\n",
    "with open('hrrr_f12_Batesville_AR.txt') as f:\n",
    "    lst=[line.split()[2] for line in f]\n",
    "    temp=[]\n",
    "    for i in lst:\n",
    "        new=i.replace(',',\"\")\n",
    "        temp.append(new)\n",
    "    temp.pop(0)\n",
    "    temp=[float(x) for x in temp]\n",
    "    temp=temp[2254:2279]\n",
    "    #temp=temp[2015:2063]\n",
    "    temp=np.cumsum(temp)\n",
    "    print(temp)\n",
    "#full time period is [2015:2112]"
   ]
  },
  {
   "cell_type": "code",
   "execution_count": 79,
   "id": "b1e964e8",
   "metadata": {},
   "outputs": [
    {
     "name": "stdout",
     "output_type": "stream",
     "text": [
      "[0.25 0.25 0.25 0.25 0.25 0.25 0.25 0.25 0.25 0.25 0.25 0.25 0.25 0.25\n",
      " 0.25 0.25 0.25 0.25 0.25 0.25 0.25 0.25 1.4  1.4  1.4 ]\n"
     ]
    }
   ],
   "source": [
    "#Air Temp CRN:\n",
    "with open('CRNS0101-05-2022-AR_Batesville_8_WNW.txt') as f:\n",
    "    lst=[line.split()[9] for line in f]\n",
    "    \n",
    "    a=(float(lst[27191])+float(lst[27192]))/2\n",
    "    b=(float(lst[27203])+float(lst[27204]))/2\n",
    "    c=(float(lst[27215])+float(lst[27216]))/2\n",
    "    d=(float(lst[27227])+float(lst[27228]))/2\n",
    "    e=(float(lst[27239])+float(lst[27240]))/2\n",
    "    f=(float(lst[27251])+float(lst[27252]))/2\n",
    "    g=(float(lst[27263])+float(lst[27264]))/2\n",
    "    h=(float(lst[27275])+float(lst[27276]))/2\n",
    "    i=(float(lst[27287])+float(lst[27288]))/2\n",
    "    j=(float(lst[27299])+float(lst[27300]))/2\n",
    "    k=(float(lst[27311])+float(lst[27312]))/2\n",
    "    l=(float(lst[27323])+float(lst[27324]))/2\n",
    "    m=(float(lst[27335])+float(lst[27336]))/2\n",
    "    n=(float(lst[27347])+float(lst[27348]))/2\n",
    "    o=(float(lst[27359])+float(lst[27360]))/2\n",
    "    p=(float(lst[27371])+float(lst[27372]))/2\n",
    "    q=(float(lst[27383])+float(lst[27384]))/2\n",
    "    r=(float(lst[27395])+float(lst[27396]))/2\n",
    "    s=(float(lst[27407])+float(lst[27408]))/2\n",
    "    t=(float(lst[27419])+float(lst[27420]))/2\n",
    "    u=(float(lst[27431])+float(lst[27432]))/2\n",
    "    v=(float(lst[27443])+float(lst[27444]))/2\n",
    "    w=(float(lst[27455])+float(lst[27456]))/2\n",
    "    x=(float(lst[27467])+float(lst[27468]))/2\n",
    "    y=(float(lst[27479])+float(lst[27480]))/2\n",
    "    temp_crn=[a,b,c,d,e,f,g,h,i,j,k,l,m,n,o,p,q,r,s,t,u,v,w,x,y]\n",
    "    temp_crn=np.cumsum(temp_crn)\n",
    "    print(temp_crn)"
   ]
  },
  {
   "cell_type": "code",
   "execution_count": 80,
   "id": "c5f712f8",
   "metadata": {},
   "outputs": [
    {
     "name": "stdout",
     "output_type": "stream",
     "text": [
      "[0.34099999999999997, 0.964, 0.968, 0.972, 0.972, 0.9749999999999999, 0.9749999999999999, 0.9749999999999999, 0.9749999999999999, 0.9749999999999999, 0.9749999999999999, 0.9749999999999999, 0.9749999999999999, 0.9749999999999999, 0.9749999999999999, 0.9749999999999999, 0.9749999999999999, 0.9759999999999998, 0.9759999999999998, 0.9789999999999996, 0.9819999999999995, 0.9839999999999995, -0.16500000000000048, 3.9779999999999993, 5.1179999999999986]\n"
     ]
    }
   ],
   "source": [
    "difference3_bat = []\n",
    "\n",
    "zip_object = zip(temp, temp_crn)\n",
    "for temp_i, temp_crn_i in zip_object:\n",
    "    difference3_bat.append(temp_i-temp_crn_i)\n",
    "\n",
    "print(difference3_bat)"
   ]
  },
  {
   "cell_type": "markdown",
   "id": "9f92620f",
   "metadata": {},
   "source": [
    "<font size=\"3\">Lafayette, LA: 1000 UTC 5 April 2022-1000 UTC 6 April 2022</font>"
   ]
  },
  {
   "cell_type": "code",
   "execution_count": 81,
   "id": "24bdf2f2",
   "metadata": {},
   "outputs": [
    {
     "name": "stdout",
     "output_type": "stream",
     "text": [
      "[0.03  0.232 0.232 0.387 0.47  0.47  0.47  0.47  0.47  0.47  0.47  0.47\n",
      " 0.47  0.47  0.47  0.476 0.476 0.476 0.476 0.476 0.476 0.476 0.476 0.476\n",
      " 0.476]\n"
     ]
    }
   ],
   "source": [
    "#12 hr hrrr:\n",
    "with open('hrrr_f12_Lafayette_LA.txt') as f:\n",
    "    lst=[line.split()[2] for line in f]\n",
    "    temp=[]\n",
    "    for i in lst:\n",
    "        new=i.replace(',',\"\")\n",
    "        temp.append(new)\n",
    "    temp.pop(0)\n",
    "    temp=[float(x) for x in temp]\n",
    "    temp=temp[2254:2279]\n",
    "    #temp=temp[2015:2063]\n",
    "    temp=np.cumsum(temp)\n",
    "    print(temp)\n",
    "#full time period is [2015:2112]"
   ]
  },
  {
   "cell_type": "code",
   "execution_count": 82,
   "id": "e208411d",
   "metadata": {},
   "outputs": [
    {
     "name": "stdout",
     "output_type": "stream",
     "text": [
      "[0. 0. 0. 0. 0. 0. 0. 0. 0. 0. 0. 0. 0. 0. 0. 0. 0. 0. 0. 0. 0. 0. 0. 0.\n",
      " 0.]\n"
     ]
    }
   ],
   "source": [
    "#Air Temp CRN:\n",
    "with open('CRNS0101-05-2022-LA_Lafayette_13_SE.txt') as f:\n",
    "    lst=[line.split()[9] for line in f]\n",
    "    \n",
    "    a=(float(lst[27191])+float(lst[27192]))/2\n",
    "    b=(float(lst[27203])+float(lst[27204]))/2\n",
    "    c=(float(lst[27215])+float(lst[27216]))/2\n",
    "    d=(float(lst[27227])+float(lst[27228]))/2\n",
    "    e=(float(lst[27239])+float(lst[27240]))/2\n",
    "    f=(float(lst[27251])+float(lst[27252]))/2\n",
    "    g=(float(lst[27263])+float(lst[27264]))/2\n",
    "    h=(float(lst[27275])+float(lst[27276]))/2\n",
    "    i=(float(lst[27287])+float(lst[27288]))/2\n",
    "    j=(float(lst[27299])+float(lst[27300]))/2\n",
    "    k=(float(lst[27311])+float(lst[27312]))/2\n",
    "    l=(float(lst[27323])+float(lst[27324]))/2\n",
    "    m=(float(lst[27335])+float(lst[27336]))/2\n",
    "    n=(float(lst[27347])+float(lst[27348]))/2\n",
    "    o=(float(lst[27359])+float(lst[27360]))/2\n",
    "    p=(float(lst[27371])+float(lst[27372]))/2\n",
    "    q=(float(lst[27383])+float(lst[27384]))/2\n",
    "    r=(float(lst[27395])+float(lst[27396]))/2\n",
    "    s=(float(lst[27407])+float(lst[27408]))/2\n",
    "    t=(float(lst[27419])+float(lst[27420]))/2\n",
    "    u=(float(lst[27431])+float(lst[27432]))/2\n",
    "    v=(float(lst[27443])+float(lst[27444]))/2\n",
    "    w=(float(lst[27455])+float(lst[27456]))/2\n",
    "    x=(float(lst[27467])+float(lst[27468]))/2\n",
    "    y=(float(lst[27479])+float(lst[27480]))/2\n",
    "    temp_crn=[a,b,c,d,e,f,g,h,i,j,k,l,m,n,o,p,q,r,s,t,u,v,w,x,y]\n",
    "    temp_crn=np.cumsum(temp_crn)\n",
    "    print(temp_crn)"
   ]
  },
  {
   "cell_type": "code",
   "execution_count": 83,
   "id": "18c37a9b",
   "metadata": {},
   "outputs": [
    {
     "name": "stdout",
     "output_type": "stream",
     "text": [
      "[0.03, 0.232, 0.232, 0.387, 0.47000000000000003, 0.47000000000000003, 0.47000000000000003, 0.47000000000000003, 0.47000000000000003, 0.47000000000000003, 0.47000000000000003, 0.47000000000000003, 0.47000000000000003, 0.47000000000000003, 0.47000000000000003, 0.47600000000000003, 0.47600000000000003, 0.47600000000000003, 0.47600000000000003, 0.47600000000000003, 0.47600000000000003, 0.47600000000000003, 0.47600000000000003, 0.47600000000000003, 0.47600000000000003]\n"
     ]
    }
   ],
   "source": [
    "difference3_laf = []\n",
    "\n",
    "zip_object = zip(temp, temp_crn)\n",
    "for temp_i, temp_crn_i in zip_object:\n",
    "    difference3_laf.append(temp_i-temp_crn_i)\n",
    "\n",
    "print(difference3_laf)"
   ]
  },
  {
   "cell_type": "markdown",
   "id": "6bc47d22",
   "metadata": {},
   "source": [
    "<font size=\"3\">Monroe, LA: 1000 UTC 5 April 2022-1000 UTC 6 April 2022</font>"
   ]
  },
  {
   "cell_type": "code",
   "execution_count": 84,
   "id": "ff3754c7",
   "metadata": {},
   "outputs": [
    {
     "name": "stdout",
     "output_type": "stream",
     "text": [
      "[21.159 25.334 25.955 25.955 25.955 25.955 25.955 25.955 25.955 25.955\n",
      " 25.955 25.955 25.955 25.955 25.955 25.955 25.955 25.955 25.955 25.955\n",
      " 25.955 25.955 25.955 25.955 25.955]\n"
     ]
    }
   ],
   "source": [
    "#12 hr hrrr:\n",
    "with open('hrrr_f12_Monroe_LA.txt') as f:\n",
    "    lst=[line.split()[2] for line in f]\n",
    "    temp=[]\n",
    "    for i in lst:\n",
    "        new=i.replace(',',\"\")\n",
    "        temp.append(new)\n",
    "    temp.pop(0)\n",
    "    temp=[float(x) for x in temp]\n",
    "    temp=temp[2254:2279]\n",
    "    #temp=temp[2015:2063]\n",
    "    temp=np.cumsum(temp)\n",
    "    print(temp)\n",
    "#full time period is [2015:2112]"
   ]
  },
  {
   "cell_type": "code",
   "execution_count": 85,
   "id": "91eb6091",
   "metadata": {},
   "outputs": [
    {
     "name": "stdout",
     "output_type": "stream",
     "text": [
      "[0.2 0.3 0.3 0.3 0.3 0.3 0.3 0.3 0.3 0.3 0.3 0.3 0.3 0.3 0.3 0.3 0.3 0.3\n",
      " 0.3 0.3 0.3 0.3 0.3 0.3 0.3]\n"
     ]
    }
   ],
   "source": [
    "#Air Temp CRN:\n",
    "with open('CRNS0101-05-2022-LA_Monroe_26_N.txt') as f:\n",
    "    lst=[line.split()[9] for line in f]\n",
    "    \n",
    "    a=(float(lst[27191])+float(lst[27192]))/2\n",
    "    b=(float(lst[27203])+float(lst[27204]))/2\n",
    "    c=(float(lst[27215])+float(lst[27216]))/2\n",
    "    d=(float(lst[27227])+float(lst[27228]))/2\n",
    "    e=(float(lst[27239])+float(lst[27240]))/2\n",
    "    f=(float(lst[27251])+float(lst[27252]))/2\n",
    "    g=(float(lst[27263])+float(lst[27264]))/2\n",
    "    h=(float(lst[27275])+float(lst[27276]))/2\n",
    "    i=(float(lst[27287])+float(lst[27288]))/2\n",
    "    j=(float(lst[27299])+float(lst[27300]))/2\n",
    "    k=(float(lst[27311])+float(lst[27312]))/2\n",
    "    l=(float(lst[27323])+float(lst[27324]))/2\n",
    "    m=(float(lst[27335])+float(lst[27336]))/2\n",
    "    n=(float(lst[27347])+float(lst[27348]))/2\n",
    "    o=(float(lst[27359])+float(lst[27360]))/2\n",
    "    p=(float(lst[27371])+float(lst[27372]))/2\n",
    "    q=(float(lst[27383])+float(lst[27384]))/2\n",
    "    r=(float(lst[27395])+float(lst[27396]))/2\n",
    "    s=(float(lst[27407])+float(lst[27408]))/2\n",
    "    t=(float(lst[27419])+float(lst[27420]))/2\n",
    "    u=(float(lst[27431])+float(lst[27432]))/2\n",
    "    v=(float(lst[27443])+float(lst[27444]))/2\n",
    "    w=(float(lst[27455])+float(lst[27456]))/2\n",
    "    x=(float(lst[27467])+float(lst[27468]))/2\n",
    "    y=(float(lst[27479])+float(lst[27480]))/2\n",
    "    temp_crn=[a,b,c,d,e,f,g,h,i,j,k,l,m,n,o,p,q,r,s,t,u,v,w,x,y]\n",
    "    temp_crn=np.cumsum(temp_crn)\n",
    "    print(temp_crn)"
   ]
  },
  {
   "cell_type": "code",
   "execution_count": 86,
   "id": "cc1402aa",
   "metadata": {},
   "outputs": [
    {
     "name": "stdout",
     "output_type": "stream",
     "text": [
      "[20.959, 25.034, 25.654999999999998, 25.654999999999998, 25.654999999999998, 25.654999999999998, 25.654999999999998, 25.654999999999998, 25.654999999999998, 25.654999999999998, 25.654999999999998, 25.654999999999998, 25.654999999999998, 25.654999999999998, 25.654999999999998, 25.654999999999998, 25.654999999999998, 25.654999999999998, 25.654999999999998, 25.654999999999998, 25.654999999999998, 25.654999999999998, 25.654999999999998, 25.654999999999998, 25.654999999999998]\n"
     ]
    }
   ],
   "source": [
    "difference3_mon = []\n",
    "\n",
    "zip_object = zip(temp, temp_crn)\n",
    "for temp_i, temp_crn_i in zip_object:\n",
    "    difference3_mon.append(temp_i-temp_crn_i)\n",
    "\n",
    "print(difference3_mon)"
   ]
  },
  {
   "cell_type": "markdown",
   "id": "8e498386",
   "metadata": {},
   "source": [
    "<font size=\"3\">Holly Springs, MS: 1100 UTC 5 April 2022-1100 UTC 6 April 2022</font>"
   ]
  },
  {
   "cell_type": "code",
   "execution_count": 87,
   "id": "4b862993",
   "metadata": {},
   "outputs": [
    {
     "name": "stdout",
     "output_type": "stream",
     "text": [
      "[ 1.171  4.742  9.94   9.981  9.982 10.054 10.289 10.289 10.289 10.289\n",
      " 10.289 10.289 10.289 10.289 10.289 10.289 10.289 10.289 10.289 10.289\n",
      " 10.289 10.289 10.289 10.289 10.292]\n"
     ]
    }
   ],
   "source": [
    "#12 hr hrrr:\n",
    "with open('hrrr_f12_Holly Springs_MS.txt') as f:\n",
    "    lst=[line.split()[2] for line in f]\n",
    "    temp=[]\n",
    "    for i in lst:\n",
    "        new=i.replace(',',\"\")\n",
    "        temp.append(new)\n",
    "    temp.pop(0)\n",
    "    temp=[float(x) for x in temp]\n",
    "    temp=temp[2255:2280]\n",
    "    #temp=temp[2015:2063]\n",
    "    temp=np.cumsum(temp)\n",
    "    print(temp)\n",
    "#full time period is [2015:2112]"
   ]
  },
  {
   "cell_type": "code",
   "execution_count": 88,
   "id": "321afed1",
   "metadata": {},
   "outputs": [
    {
     "name": "stdout",
     "output_type": "stream",
     "text": [
      "[0.25 0.7  0.7  0.7  0.7  0.7  0.7  0.7  0.7  0.7  0.7  0.7  0.7  0.7\n",
      " 0.7  0.7  0.7  0.7  0.7  0.7  0.7  0.7  0.7  0.7  0.7 ]\n"
     ]
    }
   ],
   "source": [
    "#Air Temp CRN:\n",
    "with open('CRNS0101-05-2022-MS_Holly_Springs_4_N.txt') as f:\n",
    "    lst=[line.split()[9] for line in f]\n",
    "    \n",
    "    a=(float(lst[27203])+float(lst[27204]))/2\n",
    "    b=(float(lst[27215])+float(lst[27216]))/2\n",
    "    c=(float(lst[27227])+float(lst[27228]))/2\n",
    "    d=(float(lst[27239])+float(lst[27240]))/2\n",
    "    e=(float(lst[27251])+float(lst[27252]))/2\n",
    "    f=(float(lst[27263])+float(lst[27264]))/2\n",
    "    g=(float(lst[27275])+float(lst[27276]))/2\n",
    "    h=(float(lst[27287])+float(lst[27288]))/2\n",
    "    i=(float(lst[27299])+float(lst[27300]))/2\n",
    "    j=(float(lst[27311])+float(lst[27312]))/2\n",
    "    k=(float(lst[27323])+float(lst[27324]))/2\n",
    "    l=(float(lst[27335])+float(lst[27336]))/2\n",
    "    m=(float(lst[27347])+float(lst[27348]))/2\n",
    "    n=(float(lst[27359])+float(lst[27360]))/2\n",
    "    o=(float(lst[27371])+float(lst[27372]))/2\n",
    "    p=(float(lst[27383])+float(lst[27384]))/2\n",
    "    q=(float(lst[27395])+float(lst[27396]))/2\n",
    "    r=(float(lst[27407])+float(lst[27408]))/2\n",
    "    s=(float(lst[27419])+float(lst[27420]))/2\n",
    "    t=(float(lst[27431])+float(lst[27432]))/2\n",
    "    u=(float(lst[27443])+float(lst[27444]))/2\n",
    "    v=(float(lst[27455])+float(lst[27456]))/2\n",
    "    w=(float(lst[27467])+float(lst[27468]))/2\n",
    "    x=(float(lst[27479])+float(lst[27480]))/2\n",
    "    y=(float(lst[27491])+float(lst[27492]))/2\n",
    "    temp_crn=[a,b,c,d,e,f,g,h,i,j,k,l,m,n,o,p,q,r,s,t,u,v,w,x,y]\n",
    "    temp_crn=np.cumsum(temp_crn)\n",
    "    print(temp_crn)"
   ]
  },
  {
   "cell_type": "code",
   "execution_count": 89,
   "id": "9625595c",
   "metadata": {},
   "outputs": [
    {
     "name": "stdout",
     "output_type": "stream",
     "text": [
      "[0.921, 4.042, 9.240000000000002, 9.281000000000002, 9.282000000000002, 9.354000000000001, 9.589, 9.589, 9.589, 9.589, 9.589, 9.589, 9.589, 9.589, 9.589, 9.589, 9.589, 9.589, 9.589, 9.589, 9.589, 9.589, 9.589, 9.589, 9.592]\n"
     ]
    }
   ],
   "source": [
    "difference3_hol = []\n",
    "\n",
    "zip_object = zip(temp, temp_crn)\n",
    "for temp_i, temp_crn_i in zip_object:\n",
    "    difference3_hol.append(temp_i-temp_crn_i)\n",
    "\n",
    "print(difference3_hol)"
   ]
  },
  {
   "cell_type": "markdown",
   "id": "cec214d2",
   "metadata": {},
   "source": [
    "<font size=\"3\">Newton, MS: 1100 UTC 5 April 2022-1100 UTC 6 April 2022</font>"
   ]
  },
  {
   "cell_type": "code",
   "execution_count": 90,
   "id": "503148e4",
   "metadata": {},
   "outputs": [
    {
     "name": "stdout",
     "output_type": "stream",
     "text": [
      "[4.0000e-03 6.5640e+00 1.3095e+01 3.3126e+01 3.5101e+01 3.7173e+01\n",
      " 3.7236e+01 3.7280e+01 3.7280e+01 3.7280e+01 3.7280e+01 3.7280e+01\n",
      " 3.7280e+01 3.7280e+01 3.7280e+01 3.7280e+01 3.7280e+01 3.7280e+01\n",
      " 3.7280e+01 3.7280e+01 3.7280e+01 3.7280e+01 3.7280e+01 3.7282e+01\n",
      " 3.7288e+01]\n"
     ]
    }
   ],
   "source": [
    "#12 hr hrrr:\n",
    "with open('hrrr_f12_Newton_MS.txt') as f:\n",
    "    lst=[line.split()[2] for line in f]\n",
    "    temp=[]\n",
    "    for i in lst:\n",
    "        new=i.replace(',',\"\")\n",
    "        temp.append(new)\n",
    "    temp.pop(0)\n",
    "    temp=[float(x) for x in temp]\n",
    "    temp=temp[2255:2280]\n",
    "    #temp=temp[2015:2063]\n",
    "    temp=np.cumsum(temp)\n",
    "    print(temp)\n",
    "#full time period is [2015:2112]"
   ]
  },
  {
   "cell_type": "code",
   "execution_count": 91,
   "id": "07926657",
   "metadata": {},
   "outputs": [
    {
     "name": "stdout",
     "output_type": "stream",
     "text": [
      "[0.   0.15 0.15 0.5  0.5  0.85 0.85 0.85 0.85 0.85 0.85 0.85 0.85 0.85\n",
      " 0.85 0.85 0.85 0.85 0.85 0.85 0.85 0.85 0.85 0.85 0.85]\n"
     ]
    }
   ],
   "source": [
    "#Air Temp CRN:\n",
    "with open('CRNS0101-05-2022-MS_Newton_5_ENE.txt') as f:\n",
    "    lst=[line.split()[9] for line in f]\n",
    "    \n",
    "    a=(float(lst[27203])+float(lst[27204]))/2\n",
    "    b=(float(lst[27215])+float(lst[27216]))/2\n",
    "    c=(float(lst[27227])+float(lst[27228]))/2\n",
    "    d=(float(lst[27239])+float(lst[27240]))/2\n",
    "    e=(float(lst[27251])+float(lst[27252]))/2\n",
    "    f=(float(lst[27263])+float(lst[27264]))/2\n",
    "    g=(float(lst[27275])+float(lst[27276]))/2\n",
    "    h=(float(lst[27287])+float(lst[27288]))/2\n",
    "    i=(float(lst[27299])+float(lst[27300]))/2\n",
    "    j=(float(lst[27311])+float(lst[27312]))/2\n",
    "    k=(float(lst[27323])+float(lst[27324]))/2\n",
    "    l=(float(lst[27335])+float(lst[27336]))/2\n",
    "    m=(float(lst[27347])+float(lst[27348]))/2\n",
    "    n=(float(lst[27359])+float(lst[27360]))/2\n",
    "    o=(float(lst[27371])+float(lst[27372]))/2\n",
    "    p=(float(lst[27383])+float(lst[27384]))/2\n",
    "    q=(float(lst[27395])+float(lst[27396]))/2\n",
    "    r=(float(lst[27407])+float(lst[27408]))/2\n",
    "    s=(float(lst[27419])+float(lst[27420]))/2\n",
    "    t=(float(lst[27431])+float(lst[27432]))/2\n",
    "    u=(float(lst[27443])+float(lst[27444]))/2\n",
    "    v=(float(lst[27455])+float(lst[27456]))/2\n",
    "    w=(float(lst[27467])+float(lst[27468]))/2\n",
    "    x=(float(lst[27479])+float(lst[27480]))/2\n",
    "    y=(float(lst[27491])+float(lst[27492]))/2\n",
    "    temp_crn=[a,b,c,d,e,f,g,h,i,j,k,l,m,n,o,p,q,r,s,t,u,v,w,x,y]\n",
    "    temp_crn=np.cumsum(temp_crn)\n",
    "    print(temp_crn)"
   ]
  },
  {
   "cell_type": "code",
   "execution_count": 92,
   "id": "a83781b3",
   "metadata": {},
   "outputs": [
    {
     "name": "stdout",
     "output_type": "stream",
     "text": [
      "[0.004, 6.413999999999999, 12.944999999999999, 32.626, 34.601, 36.323, 36.386, 36.43, 36.43, 36.43, 36.43, 36.43, 36.43, 36.43, 36.43, 36.43, 36.43, 36.43, 36.43, 36.43, 36.43, 36.43, 36.43, 36.432, 36.438]\n"
     ]
    }
   ],
   "source": [
    "difference3_new = []\n",
    "\n",
    "zip_object = zip(temp, temp_crn)\n",
    "for temp_i, temp_crn_i in zip_object:\n",
    "    difference3_new.append(temp_i-temp_crn_i)\n",
    "\n",
    "print(difference3_new)"
   ]
  },
  {
   "cell_type": "markdown",
   "id": "576090a5",
   "metadata": {},
   "source": [
    "<font size=\"3\">Gainesville, AL: 1300 UTC 5 April 2022-1300 UTC 6 April 2022</font>"
   ]
  },
  {
   "cell_type": "code",
   "execution_count": 93,
   "id": "48d4bab2",
   "metadata": {},
   "outputs": [
    {
     "name": "stdout",
     "output_type": "stream",
     "text": [
      "[ 2.792 36.023 39.551 42.521 43.234 43.678 43.678 43.678 43.678 43.678\n",
      " 43.678 43.678 43.678 43.678 43.678 43.678 43.678 43.678 43.678 43.678\n",
      " 43.682 43.682 43.682 43.682 43.682]\n"
     ]
    }
   ],
   "source": [
    "#12 hr hrrr:\n",
    "with open('hrrr_f12_Gainesville_AL.txt') as f:\n",
    "    lst=[line.split()[2] for line in f]\n",
    "    temp=[]\n",
    "    for i in lst:\n",
    "        new=i.replace(',',\"\")\n",
    "        temp.append(new)\n",
    "    temp.pop(0)\n",
    "    temp=[float(x) for x in temp]\n",
    "    temp=temp[2257:2282]\n",
    "    #temp=temp[2015:2063]\n",
    "    temp=np.cumsum(temp)\n",
    "    print(temp)\n",
    "#full time period is [2015:2112]"
   ]
  },
  {
   "cell_type": "code",
   "execution_count": 94,
   "id": "cff6042c",
   "metadata": {},
   "outputs": [
    {
     "name": "stdout",
     "output_type": "stream",
     "text": [
      "[1.2  1.45 1.45 1.45 1.45 1.45 1.45 1.45 1.45 1.45 1.45 1.45 1.45 1.45\n",
      " 1.45 1.45 1.45 1.45 1.45 1.45 1.45 1.45 1.45 1.45 1.45]\n"
     ]
    }
   ],
   "source": [
    "#Air Temp CRN:\n",
    "with open('CRNS0101-05-2022-AL_Gainesville_2_NE.txt') as f:\n",
    "    lst=[line.split()[9] for line in f]\n",
    "    \n",
    "    a=(float(lst[27227])+float(lst[27228]))/2\n",
    "    b=(float(lst[27239])+float(lst[27240]))/2\n",
    "    c=(float(lst[27251])+float(lst[27252]))/2\n",
    "    d=(float(lst[27263])+float(lst[27264]))/2\n",
    "    e=(float(lst[27275])+float(lst[27276]))/2\n",
    "    f=(float(lst[27287])+float(lst[27288]))/2\n",
    "    g=(float(lst[27299])+float(lst[27300]))/2\n",
    "    h=(float(lst[27311])+float(lst[27312]))/2\n",
    "    i=(float(lst[27323])+float(lst[27324]))/2\n",
    "    j=(float(lst[27335])+float(lst[27336]))/2\n",
    "    k=(float(lst[27347])+float(lst[27348]))/2\n",
    "    l=(float(lst[27359])+float(lst[27360]))/2\n",
    "    m=(float(lst[27371])+float(lst[27372]))/2\n",
    "    n=(float(lst[27383])+float(lst[27384]))/2\n",
    "    o=(float(lst[27395])+float(lst[27396]))/2\n",
    "    p=(float(lst[27407])+float(lst[27408]))/2\n",
    "    q=(float(lst[27419])+float(lst[27420]))/2\n",
    "    r=(float(lst[27431])+float(lst[27432]))/2\n",
    "    s=(float(lst[27443])+float(lst[27444]))/2\n",
    "    t=(float(lst[27455])+float(lst[27456]))/2\n",
    "    u=(float(lst[27467])+float(lst[27468]))/2\n",
    "    v=(float(lst[27479])+float(lst[27480]))/2\n",
    "    w=(float(lst[27491])+float(lst[27492]))/2\n",
    "    x=(float(lst[27503])+float(lst[27504]))/2\n",
    "    y=(float(lst[27515])+float(lst[27516]))/2\n",
    "    temp_crn=[a,b,c,d,e,f,g,h,i,j,k,l,m,n,o,p,q,r,s,t,u,v,w,x,y]\n",
    "    temp_crn=np.cumsum(temp_crn)\n",
    "    print(temp_crn)"
   ]
  },
  {
   "cell_type": "code",
   "execution_count": 95,
   "id": "b1176cf2",
   "metadata": {},
   "outputs": [
    {
     "name": "stdout",
     "output_type": "stream",
     "text": [
      "[1.5919999999999996, 34.573, 38.101, 41.071, 41.784, 42.228, 42.228, 42.228, 42.228, 42.228, 42.228, 42.228, 42.228, 42.228, 42.228, 42.228, 42.228, 42.228, 42.228, 42.228, 42.232, 42.232, 42.232, 42.232, 42.232]\n"
     ]
    }
   ],
   "source": [
    "difference3_gai = []\n",
    "\n",
    "zip_object = zip(temp, temp_crn)\n",
    "for temp_i, temp_crn_i in zip_object:\n",
    "    difference3_gai.append(temp_i-temp_crn_i)\n",
    "\n",
    "print(difference3_gai)"
   ]
  },
  {
   "cell_type": "markdown",
   "id": "0a541e7a",
   "metadata": {},
   "source": [
    "<font size=\"3\">Fairhope, AL: 1300 UTC 5 April 2022-1300 UTC 6 April 2022</font>"
   ]
  },
  {
   "cell_type": "code",
   "execution_count": 96,
   "id": "26818932",
   "metadata": {},
   "outputs": [
    {
     "name": "stdout",
     "output_type": "stream",
     "text": [
      "[ 0.     0.     0.     0.083  0.085  0.085  0.091  3.574  7.085  7.546\n",
      "  7.818 26.055 26.055 26.055 26.056 26.056 26.056 26.058 26.075 26.078\n",
      " 26.079 26.084 26.101 26.111 26.111]\n"
     ]
    }
   ],
   "source": [
    "#12 hr hrrr:\n",
    "with open('hrrr_f12_Fairhope_AL.txt') as f:\n",
    "    lst=[line.split()[2] for line in f]\n",
    "    temp=[]\n",
    "    for i in lst:\n",
    "        new=i.replace(',',\"\")\n",
    "        temp.append(new)\n",
    "    temp.pop(0)\n",
    "    temp=[float(x) for x in temp]\n",
    "    temp=temp[2257:2282]\n",
    "    #temp=temp[2015:2063]\n",
    "    temp=np.cumsum(temp)\n",
    "    print(temp)\n",
    "#full time period is [2015:2112]"
   ]
  },
  {
   "cell_type": "code",
   "execution_count": 97,
   "id": "aacaaf75",
   "metadata": {},
   "outputs": [
    {
     "name": "stdout",
     "output_type": "stream",
     "text": [
      "[0.   0.   0.   0.   0.   2.5  4.25 4.25 4.25 4.25 4.25 4.25 4.25 4.25\n",
      " 4.25 4.25 4.25 4.25 4.25 4.25 4.25 4.25 4.25 4.25 4.25]\n"
     ]
    }
   ],
   "source": [
    "#Air Temp CRN:\n",
    "with open('CRNS0101-05-2022-AL_Fairhope_3_NE.txt') as f:\n",
    "    lst=[line.split()[9] for line in f]\n",
    "    \n",
    "    a=(float(lst[27227])+float(lst[27228]))/2\n",
    "    b=(float(lst[27239])+float(lst[27240]))/2\n",
    "    c=(float(lst[27251])+float(lst[27252]))/2\n",
    "    d=(float(lst[27263])+float(lst[27264]))/2\n",
    "    e=(float(lst[27275])+float(lst[27276]))/2\n",
    "    f=(float(lst[27287])+float(lst[27288]))/2\n",
    "    g=(float(lst[27299])+float(lst[27300]))/2\n",
    "    h=(float(lst[27311])+float(lst[27312]))/2\n",
    "    i=(float(lst[27323])+float(lst[27324]))/2\n",
    "    j=(float(lst[27335])+float(lst[27336]))/2\n",
    "    k=(float(lst[27347])+float(lst[27348]))/2\n",
    "    l=(float(lst[27359])+float(lst[27360]))/2\n",
    "    m=(float(lst[27371])+float(lst[27372]))/2\n",
    "    n=(float(lst[27383])+float(lst[27384]))/2\n",
    "    o=(float(lst[27395])+float(lst[27396]))/2\n",
    "    p=(float(lst[27407])+float(lst[27408]))/2\n",
    "    q=(float(lst[27419])+float(lst[27420]))/2\n",
    "    r=(float(lst[27431])+float(lst[27432]))/2\n",
    "    s=(float(lst[27443])+float(lst[27444]))/2\n",
    "    t=(float(lst[27455])+float(lst[27456]))/2\n",
    "    u=(float(lst[27467])+float(lst[27468]))/2\n",
    "    v=(float(lst[27479])+float(lst[27480]))/2\n",
    "    w=(float(lst[27491])+float(lst[27492]))/2\n",
    "    x=(float(lst[27503])+float(lst[27504]))/2\n",
    "    y=(float(lst[27515])+float(lst[27516]))/2\n",
    "    temp_crn=[a,b,c,d,e,f,g,h,i,j,k,l,m,n,o,p,q,r,s,t,u,v,w,x,y]\n",
    "    temp_crn=np.cumsum(temp_crn)\n",
    "    print(temp_crn)"
   ]
  },
  {
   "cell_type": "code",
   "execution_count": 98,
   "id": "e08d6481",
   "metadata": {},
   "outputs": [
    {
     "name": "stdout",
     "output_type": "stream",
     "text": [
      "[0.0, 0.0, 0.0, 0.083, 0.085, -2.415, -4.159, -0.6759999999999997, 2.835000000000001, 3.296000000000001, 3.5680000000000014, 21.805, 21.805, 21.805, 21.806, 21.806, 21.806, 21.808, 21.825, 21.828, 21.829, 21.834, 21.851, 21.861, 21.861]\n"
     ]
    }
   ],
   "source": [
    "difference3_fai = []\n",
    "\n",
    "zip_object = zip(temp, temp_crn)\n",
    "for temp_i, temp_crn_i in zip_object:\n",
    "    difference3_fai.append(temp_i-temp_crn_i)\n",
    "\n",
    "print(difference3_fai)"
   ]
  },
  {
   "cell_type": "markdown",
   "id": "817a1997",
   "metadata": {},
   "source": [
    "<font size=\"3\">Selma, AL: 1300 UTC 5 April 2022-1300 UTC 6 April 2022</font>"
   ]
  },
  {
   "cell_type": "code",
   "execution_count": 99,
   "id": "3850a5ea",
   "metadata": {},
   "outputs": [
    {
     "name": "stdout",
     "output_type": "stream",
     "text": [
      "[0.0000e+00 0.0000e+00 6.3000e-02 3.2832e+01 5.2113e+01 6.1267e+01\n",
      " 6.5530e+01 6.5629e+01 6.5679e+01 6.5679e+01 6.5679e+01 6.5679e+01\n",
      " 6.5679e+01 6.5679e+01 6.5679e+01 6.5679e+01 6.5679e+01 6.5679e+01\n",
      " 6.5679e+01 6.5679e+01 6.5679e+01 6.5679e+01 6.5686e+01 6.5686e+01\n",
      " 6.5686e+01]\n"
     ]
    }
   ],
   "source": [
    "#1 hr hrrr:\n",
    "with open('hrrr_f12_Selma_AL.txt') as f:\n",
    "    lst=[line.split()[2] for line in f]\n",
    "    temp=[]\n",
    "    for i in lst:\n",
    "        new=i.replace(',',\"\")\n",
    "        temp.append(new)\n",
    "    temp.pop(0)\n",
    "    temp=[float(x) for x in temp]\n",
    "    temp=temp[2257:2282]\n",
    "    temp=np.cumsum(temp)\n",
    "    print(temp)"
   ]
  },
  {
   "cell_type": "code",
   "execution_count": 100,
   "id": "a77fd0d0",
   "metadata": {},
   "outputs": [
    {
     "name": "stdout",
     "output_type": "stream",
     "text": [
      "[1.   1.9  2.   2.35 2.35 2.35 2.35 2.35 2.35 2.35 2.35 2.35 2.35 2.35\n",
      " 2.35 2.35 2.35 2.35 2.35 2.35 2.35 2.35 2.35 2.35 2.35]\n"
     ]
    }
   ],
   "source": [
    "#Air Temp CRN:\n",
    "with open('CRNS0101-05-2022-AL_Selma_13_WNW.txt') as f:\n",
    "    lst=[line.split()[9] for line in f]\n",
    "    \n",
    "    a=(float(lst[27227])+float(lst[27228]))/2\n",
    "    b=(float(lst[27239])+float(lst[27240]))/2\n",
    "    c=(float(lst[27251])+float(lst[27252]))/2\n",
    "    d=(float(lst[27263])+float(lst[27264]))/2\n",
    "    e=(float(lst[27275])+float(lst[27276]))/2\n",
    "    f=(float(lst[27287])+float(lst[27288]))/2\n",
    "    g=(float(lst[27299])+float(lst[27300]))/2\n",
    "    h=(float(lst[27311])+float(lst[27312]))/2\n",
    "    i=(float(lst[27323])+float(lst[27324]))/2\n",
    "    j=(float(lst[27335])+float(lst[27336]))/2\n",
    "    k=(float(lst[27347])+float(lst[27348]))/2\n",
    "    l=(float(lst[27359])+float(lst[27360]))/2\n",
    "    m=(float(lst[27371])+float(lst[27372]))/2\n",
    "    n=(float(lst[27383])+float(lst[27384]))/2\n",
    "    o=(float(lst[27395])+float(lst[27396]))/2\n",
    "    p=(float(lst[27407])+float(lst[27408]))/2\n",
    "    q=(float(lst[27419])+float(lst[27420]))/2\n",
    "    r=(float(lst[27431])+float(lst[27432]))/2\n",
    "    s=(float(lst[27443])+float(lst[27444]))/2\n",
    "    t=(float(lst[27455])+float(lst[27456]))/2\n",
    "    u=(float(lst[27467])+float(lst[27468]))/2\n",
    "    v=(float(lst[27479])+float(lst[27480]))/2\n",
    "    w=(float(lst[27491])+float(lst[27492]))/2\n",
    "    x=(float(lst[27503])+float(lst[27504]))/2\n",
    "    y=(float(lst[27515])+float(lst[27516]))/2\n",
    "    temp_crn=[a,b,c,d,e,f,g,h,i,j,k,l,m,n,o,p,q,r,s,t,u,v,w,x,y]\n",
    "    temp_crn=np.cumsum(temp_crn)\n",
    "    print(temp_crn)"
   ]
  },
  {
   "cell_type": "code",
   "execution_count": 101,
   "id": "6b41efd2",
   "metadata": {},
   "outputs": [
    {
     "name": "stdout",
     "output_type": "stream",
     "text": [
      "[-1.0, -1.9, -1.937, 30.482, 49.763, 58.916999999999994, 63.18, 63.279, 63.329, 63.329, 63.329, 63.329, 63.329, 63.329, 63.329, 63.329, 63.329, 63.329, 63.329, 63.329, 63.329, 63.329, 63.336000000000006, 63.336000000000006, 63.336000000000006]\n",
      "25\n"
     ]
    }
   ],
   "source": [
    "difference3_sel = []\n",
    "\n",
    "zip_object = zip(temp, temp_crn)\n",
    "for temp_i, temp_crn_i in zip_object:\n",
    "    difference3_sel.append(temp_i-temp_crn_i)\n",
    "\n",
    "print(difference3_sel)\n",
    "print(len(difference3_sel))"
   ]
  },
  {
   "cell_type": "markdown",
   "id": "8492b45b",
   "metadata": {},
   "source": [
    "<font size=\"3\">Bowling Green, KY: 1500 UTC 5 April 2022-1500 UTC 6 April 2022</font>"
   ]
  },
  {
   "cell_type": "code",
   "execution_count": 102,
   "id": "f04dad03",
   "metadata": {},
   "outputs": [
    {
     "name": "stdout",
     "output_type": "stream",
     "text": [
      "[1.9000e-02 9.8000e-02 1.2800e-01 8.1200e-01 1.7120e+00 2.0660e+00\n",
      " 2.5290e+00 2.5310e+00 2.5310e+00 2.5310e+00 2.5310e+00 2.5310e+00\n",
      " 2.5310e+00 2.5310e+00 2.5310e+00 2.5310e+00 2.5310e+00 2.5310e+00\n",
      " 2.5310e+00 2.5310e+00 2.5310e+00 2.5310e+00 3.9620e+00 1.5843e+01\n",
      " 2.2046e+01]\n"
     ]
    }
   ],
   "source": [
    "#12 hr hrrr:\n",
    "with open('hrrr_f12_Bowling Green_KY.txt') as f:\n",
    "    lst=[line.split()[2] for line in f]\n",
    "    temp=[]\n",
    "    for i in lst:\n",
    "        new=i.replace(',',\"\")\n",
    "        temp.append(new)\n",
    "    temp.pop(0)\n",
    "    temp=[float(x) for x in temp]\n",
    "    temp=temp[2259:2284]\n",
    "    #temp=temp[2015:2063]\n",
    "    temp=np.cumsum(temp)\n",
    "    print(temp)"
   ]
  },
  {
   "cell_type": "code",
   "execution_count": 103,
   "id": "51bfc81e",
   "metadata": {},
   "outputs": [
    {
     "name": "stdout",
     "output_type": "stream",
     "text": [
      "[0.   0.   0.   0.2  0.55 0.55 0.65 0.65 0.65 0.65 0.65 0.65 0.65 0.65\n",
      " 0.65 0.65 0.65 0.65 0.65 0.65 0.65 0.85 1.2  1.55 1.55]\n"
     ]
    }
   ],
   "source": [
    "#Air Temp CRN:\n",
    "with open('CRNS0101-05-2022-KY_Bowling_Green_21_NNE.txt') as f:\n",
    "    lst=[line.split()[9] for line in f]\n",
    "    \n",
    "    a=(float(lst[27251])+float(lst[27252]))/2\n",
    "    b=(float(lst[27263])+float(lst[27264]))/2\n",
    "    c=(float(lst[27275])+float(lst[27276]))/2\n",
    "    d=(float(lst[27287])+float(lst[27288]))/2\n",
    "    e=(float(lst[27299])+float(lst[27300]))/2\n",
    "    f=(float(lst[27311])+float(lst[27312]))/2\n",
    "    g=(float(lst[27323])+float(lst[27324]))/2\n",
    "    h=(float(lst[27335])+float(lst[27336]))/2\n",
    "    i=(float(lst[27347])+float(lst[27348]))/2\n",
    "    j=(float(lst[27359])+float(lst[27360]))/2\n",
    "    k=(float(lst[27371])+float(lst[27372]))/2\n",
    "    l=(float(lst[27383])+float(lst[27384]))/2\n",
    "    m=(float(lst[27395])+float(lst[27396]))/2\n",
    "    n=(float(lst[27407])+float(lst[27408]))/2\n",
    "    o=(float(lst[27419])+float(lst[27420]))/2\n",
    "    p=(float(lst[27431])+float(lst[27432]))/2\n",
    "    q=(float(lst[27443])+float(lst[27444]))/2\n",
    "    r=(float(lst[27455])+float(lst[27456]))/2\n",
    "    s=(float(lst[27467])+float(lst[27468]))/2\n",
    "    t=(float(lst[27479])+float(lst[27480]))/2\n",
    "    u=(float(lst[27491])+float(lst[27492]))/2\n",
    "    v=(float(lst[27503])+float(lst[27504]))/2\n",
    "    w=(float(lst[27515])+float(lst[27516]))/2\n",
    "    x=(float(lst[27527])+float(lst[27528]))/2\n",
    "    y=(float(lst[27539])+float(lst[27540]))/2\n",
    "    temp_crn=[a,b,c,d,e,f,g,h,i,j,k,l,m,n,o,p,q,r,s,t,u,v,w,x,y]\n",
    "    temp_crn=np.cumsum(temp_crn)\n",
    "    print(temp_crn)"
   ]
  },
  {
   "cell_type": "code",
   "execution_count": 104,
   "id": "8047270f",
   "metadata": {},
   "outputs": [
    {
     "name": "stdout",
     "output_type": "stream",
     "text": [
      "[0.019, 0.098, 0.128, 0.6120000000000001, 1.1620000000000001, 1.5160000000000002, 1.8790000000000004, 1.8810000000000002, 1.8810000000000002, 1.8810000000000002, 1.8810000000000002, 1.8810000000000002, 1.8810000000000002, 1.8810000000000002, 1.8810000000000002, 1.8810000000000002, 1.8810000000000002, 1.8810000000000002, 1.8810000000000002, 1.8810000000000002, 1.8810000000000002, 1.681, 2.762, 14.293, 20.496]\n"
     ]
    }
   ],
   "source": [
    "difference3_bow = []\n",
    "\n",
    "zip_object = zip(temp, temp_crn)\n",
    "for temp_i, temp_crn_i in zip_object:\n",
    "    difference3_bow.append(temp_i-temp_crn_i)\n",
    "\n",
    "print(difference3_bow)"
   ]
  },
  {
   "cell_type": "markdown",
   "id": "e3343352",
   "metadata": {},
   "source": [
    "<font size=\"3\">Gadsden, AL: 1500 UTC 5 April 2022-1500 UTC 6 April 2022</font>"
   ]
  },
  {
   "cell_type": "code",
   "execution_count": 105,
   "id": "b5d956b1",
   "metadata": {},
   "outputs": [
    {
     "name": "stdout",
     "output_type": "stream",
     "text": [
      "[ 9.826 22.187 30.896 31.543 31.608 31.608 31.683 31.683 32.146 32.281\n",
      " 32.311 32.348 32.348 32.348 32.348 32.348 32.348 32.348 32.348 32.392\n",
      " 32.399 32.429 32.444 32.453 32.456]\n"
     ]
    }
   ],
   "source": [
    "#12 hr hrrr:\n",
    "with open('hrrr_f12_Gadsden_AL.txt') as f:\n",
    "    lst=[line.split()[2] for line in f]\n",
    "    temp=[]\n",
    "    for i in lst:\n",
    "        new=i.replace(',',\"\")\n",
    "        temp.append(new)\n",
    "    temp.pop(0)\n",
    "    temp=[float(x) for x in temp]\n",
    "    temp=temp[2259:2284]\n",
    "    #temp=temp[2015:2063]\n",
    "    temp=np.cumsum(temp)\n",
    "    print(temp)\n",
    "#full time period is [2015:2112]"
   ]
  },
  {
   "cell_type": "code",
   "execution_count": 106,
   "id": "e7df9414",
   "metadata": {},
   "outputs": [
    {
     "name": "stdout",
     "output_type": "stream",
     "text": [
      "[ 1.3000000e+00  1.7500000e+00  1.7500000e+00  1.7500000e+00\n",
      " -4.9977500e+03 -1.4996750e+04 -2.4995750e+04 -3.4994750e+04\n",
      " -4.4993750e+04 -5.4992750e+04 -6.4991750e+04 -7.4990750e+04\n",
      " -8.4989750e+04 -8.9989250e+04 -8.9989250e+04 -8.9989250e+04\n",
      " -8.9989250e+04 -8.9989250e+04 -8.9989250e+04 -8.9989250e+04\n",
      " -8.9989250e+04 -8.9989250e+04 -9.4988750e+04 -1.0498775e+05\n",
      " -1.1498675e+05]\n"
     ]
    }
   ],
   "source": [
    "#Air Temp CRN:\n",
    "with open('CRNS0101-05-2022-AL_Gadsden_19_N.txt') as f:\n",
    "    lst=[line.split()[9] for line in f]\n",
    "    \n",
    "    a=(float(lst[27251])+float(lst[27252]))/2\n",
    "    b=(float(lst[27263])+float(lst[27264]))/2\n",
    "    c=(float(lst[27275])+float(lst[27276]))/2\n",
    "    d=(float(lst[27287])+float(lst[27288]))/2\n",
    "    e=(float(lst[27299])+float(lst[27300]))/2\n",
    "    f=(float(lst[27311])+float(lst[27312]))/2\n",
    "    g=(float(lst[27323])+float(lst[27324]))/2\n",
    "    h=(float(lst[27335])+float(lst[27336]))/2\n",
    "    i=(float(lst[27347])+float(lst[27348]))/2\n",
    "    j=(float(lst[27359])+float(lst[27360]))/2\n",
    "    k=(float(lst[27371])+float(lst[27372]))/2\n",
    "    l=(float(lst[27383])+float(lst[27384]))/2\n",
    "    m=(float(lst[27395])+float(lst[27396]))/2\n",
    "    n=(float(lst[27407])+float(lst[27408]))/2\n",
    "    o=(float(lst[27419])+float(lst[27420]))/2\n",
    "    p=(float(lst[27431])+float(lst[27432]))/2\n",
    "    q=(float(lst[27443])+float(lst[27444]))/2\n",
    "    r=(float(lst[27455])+float(lst[27456]))/2\n",
    "    s=(float(lst[27467])+float(lst[27468]))/2\n",
    "    t=(float(lst[27479])+float(lst[27480]))/2\n",
    "    u=(float(lst[27491])+float(lst[27492]))/2\n",
    "    v=(float(lst[27503])+float(lst[27504]))/2\n",
    "    w=(float(lst[27515])+float(lst[27516]))/2\n",
    "    x=(float(lst[27527])+float(lst[27528]))/2\n",
    "    y=(float(lst[27539])+float(lst[27540]))/2\n",
    "    temp_crn=[a,b,c,d,e,f,g,h,i,j,k,l,m,n,o,p,q,r,s,t,u,v,w,x,y]\n",
    "    temp_crn=np.cumsum(temp_crn)\n",
    "    print(temp_crn)"
   ]
  },
  {
   "cell_type": "code",
   "execution_count": 107,
   "id": "9ac3a61b",
   "metadata": {},
   "outputs": [],
   "source": [
    "# difference3_gad = []\n",
    "\n",
    "# zip_object = zip(temp, temp_crn)\n",
    "# for temp_i, temp_crn_i in zip_object:\n",
    "#     difference3_gad.append(temp_i-temp_crn_i)\n",
    "\n",
    "# print(difference3_gad)"
   ]
  },
  {
   "cell_type": "markdown",
   "id": "24b41c3d",
   "metadata": {},
   "source": [
    "<font size=\"3\">Newton, GA: 1800 UTC 5 April 2022-1800 UTC 6 April 2022</font>"
   ]
  },
  {
   "cell_type": "code",
   "execution_count": 108,
   "id": "a8841de8",
   "metadata": {},
   "outputs": [
    {
     "name": "stdout",
     "output_type": "stream",
     "text": [
      "[ 0.     0.     0.     0.091  4.352  8.26   8.961 10.214 10.226 10.226\n",
      " 10.594 10.594 10.651 10.651 10.652 10.652 10.656 10.656 10.656 10.656\n",
      " 10.656 10.656 10.656 10.656 11.717]\n"
     ]
    }
   ],
   "source": [
    "#12 hr hrrr:\n",
    "with open('hrrr_f12_Newton_GA.txt') as f:\n",
    "    lst=[line.split()[2] for line in f]\n",
    "    temp=[]\n",
    "    for i in lst:\n",
    "        new=i.replace(',',\"\")\n",
    "        temp.append(new)\n",
    "    temp.pop(0)\n",
    "    temp=[float(x) for x in temp]\n",
    "    temp=temp[2262:2287]\n",
    "    #temp=temp[2015:2063]\n",
    "    temp=np.cumsum(temp)\n",
    "    print(temp)\n",
    "#full time period is [2015:2112]"
   ]
  },
  {
   "cell_type": "code",
   "execution_count": 109,
   "id": "263bc114",
   "metadata": {},
   "outputs": [
    {
     "name": "stdout",
     "output_type": "stream",
     "text": [
      "[0.   0.   2.65 3.45 4.1  4.45 4.6  4.6  4.6  4.6  4.6  4.6  4.6  4.6\n",
      " 4.6  4.6  4.6  4.6  4.6  4.6  4.6  4.6  4.6  4.6  4.6 ]\n"
     ]
    }
   ],
   "source": [
    "#Air Temp CRN:\n",
    "with open('CRNS0101-05-2022-GA_Newton_11_SW.txt') as f:\n",
    "    lst=[line.split()[9] for line in f]\n",
    "    \n",
    "    a=(float(lst[27287])+float(lst[27288]))/2\n",
    "    b=(float(lst[27299])+float(lst[27300]))/2\n",
    "    c=(float(lst[27311])+float(lst[27312]))/2\n",
    "    d=(float(lst[27323])+float(lst[27324]))/2\n",
    "    e=(float(lst[27335])+float(lst[27336]))/2\n",
    "    f=(float(lst[27347])+float(lst[27348]))/2\n",
    "    g=(float(lst[27359])+float(lst[27360]))/2\n",
    "    h=(float(lst[27371])+float(lst[27372]))/2\n",
    "    i=(float(lst[27383])+float(lst[27384]))/2\n",
    "    j=(float(lst[27395])+float(lst[27396]))/2\n",
    "    k=(float(lst[27407])+float(lst[27408]))/2\n",
    "    l=(float(lst[27419])+float(lst[27420]))/2\n",
    "    m=(float(lst[27431])+float(lst[27432]))/2\n",
    "    n=(float(lst[27443])+float(lst[27444]))/2\n",
    "    o=(float(lst[27455])+float(lst[27456]))/2\n",
    "    p=(float(lst[27467])+float(lst[27468]))/2\n",
    "    q=(float(lst[27479])+float(lst[27480]))/2\n",
    "    r=(float(lst[27491])+float(lst[27492]))/2\n",
    "    s=(float(lst[27503])+float(lst[27504]))/2\n",
    "    t=(float(lst[27515])+float(lst[27516]))/2\n",
    "    u=(float(lst[27527])+float(lst[27528]))/2\n",
    "    v=(float(lst[27539])+float(lst[27540]))/2\n",
    "    w=(float(lst[27551])+float(lst[27552]))/2\n",
    "    x=(float(lst[27563])+float(lst[27564]))/2\n",
    "    y=(float(lst[27575])+float(lst[27576]))/2\n",
    "    temp_crn=[a,b,c,d,e,f,g,h,i,j,k,l,m,n,o,p,q,r,s,t,u,v,w,x,y]\n",
    "    temp_crn=np.cumsum(temp_crn)\n",
    "    print(temp_crn)"
   ]
  },
  {
   "cell_type": "code",
   "execution_count": 110,
   "id": "474e5fae",
   "metadata": {},
   "outputs": [
    {
     "name": "stdout",
     "output_type": "stream",
     "text": [
      "[0.0, 0.0, -2.6500000000000004, -3.359, 0.25200000000000067, 3.8100000000000005, 4.361000000000001, 5.614000000000001, 5.626000000000001, 5.626000000000001, 5.9940000000000015, 5.9940000000000015, 6.051000000000002, 6.051000000000002, 6.052000000000001, 6.052000000000001, 6.056000000000001, 6.056000000000001, 6.056000000000001, 6.056000000000001, 6.056000000000001, 6.056000000000001, 6.056000000000001, 6.056000000000001, 7.117000000000001]\n"
     ]
    }
   ],
   "source": [
    "difference3_newt = []\n",
    "\n",
    "zip_object = zip(temp, temp_crn)\n",
    "for temp_i, temp_crn_i in zip_object:\n",
    "    difference3_newt.append(temp_i-temp_crn_i)\n",
    "\n",
    "print(difference3_newt)"
   ]
  },
  {
   "cell_type": "markdown",
   "id": "e079df5d",
   "metadata": {},
   "source": [
    "<font size=\"3\">Salem, MO: 1500 UTC 13 April 2022-1500 UTC 14 April 2022</font>"
   ]
  },
  {
   "cell_type": "code",
   "execution_count": 111,
   "id": "8a544d44",
   "metadata": {},
   "outputs": [
    {
     "name": "stdout",
     "output_type": "stream",
     "text": [
      "[ 7.185 30.543 51.394 54.968 59.611 61.329 67.102 67.326 67.4   67.4\n",
      " 67.4   67.4   67.4   67.4   67.4   67.4   67.4   67.4   67.4   67.4\n",
      " 67.4   67.4   67.4   67.4   67.4  ]\n"
     ]
    }
   ],
   "source": [
    "#12 hr hrrr:\n",
    "with open('hrrr_f12_Salem_MO.txt') as f:\n",
    "    lst=[line.split()[2] for line in f]\n",
    "    temp=[]\n",
    "    for i in lst:\n",
    "        new=i.replace(',',\"\")\n",
    "        temp.append(new)\n",
    "    temp.pop(0)\n",
    "    temp=[float(x) for x in temp]\n",
    "    temp=temp[2451:2476]\n",
    "    #temp=temp[2015:2063]\n",
    "    temp=np.cumsum(temp)\n",
    "    print(temp)\n",
    "#full time period is [2015:2112]"
   ]
  },
  {
   "cell_type": "code",
   "execution_count": 112,
   "id": "11955714",
   "metadata": {},
   "outputs": [
    {
     "name": "stdout",
     "output_type": "stream",
     "text": [
      "[1.55 2.15 2.85 3.   3.9  4.1  4.1  4.1  4.1  4.1  4.1  4.1  4.1  4.1\n",
      " 4.1  4.1  4.1  4.1  4.1  4.1  4.1  4.1  4.1  4.1  4.1 ]\n"
     ]
    }
   ],
   "source": [
    "#Air Temp CRN:\n",
    "with open('CRNS0101-05-2022-MO_Salem_10_W.txt') as f:\n",
    "    lst=[line.split()[9] for line in f]\n",
    "    \n",
    "    a=(float(lst[29555])+float(lst[29556]))/2\n",
    "    b=(float(lst[29567])+float(lst[29568]))/2\n",
    "    c=(float(lst[29579])+float(lst[29580]))/2\n",
    "    d=(float(lst[29591])+float(lst[29592]))/2\n",
    "    e=(float(lst[29603])+float(lst[29604]))/2\n",
    "    f=(float(lst[29615])+float(lst[29616]))/2\n",
    "    g=(float(lst[29627])+float(lst[29628]))/2\n",
    "    h=(float(lst[29639])+float(lst[29640]))/2\n",
    "    i=(float(lst[29651])+float(lst[29652]))/2\n",
    "    j=(float(lst[29663])+float(lst[29664]))/2\n",
    "    k=(float(lst[29675])+float(lst[29676]))/2\n",
    "    l=(float(lst[29687])+float(lst[29688]))/2\n",
    "    m=(float(lst[29699])+float(lst[29700]))/2\n",
    "    n=(float(lst[29711])+float(lst[29712]))/2\n",
    "    o=(float(lst[29723])+float(lst[29724]))/2\n",
    "    p=(float(lst[29735])+float(lst[29736]))/2\n",
    "    q=(float(lst[29747])+float(lst[29748]))/2\n",
    "    r=(float(lst[29759])+float(lst[29760]))/2\n",
    "    s=(float(lst[29771])+float(lst[29772]))/2\n",
    "    t=(float(lst[29783])+float(lst[29784]))/2\n",
    "    u=(float(lst[29795])+float(lst[29796]))/2\n",
    "    v=(float(lst[29807])+float(lst[29808]))/2\n",
    "    w=(float(lst[29819])+float(lst[29820]))/2\n",
    "    x=(float(lst[29831])+float(lst[29832]))/2\n",
    "    y=(float(lst[29843])+float(lst[29844]))/2\n",
    "    temp_crn=[a,b,c,d,e,f,g,h,i,j,k,l,m,n,o,p,q,r,s,t,u,v,w,x,y]\n",
    "    temp_crn=np.cumsum(temp_crn)\n",
    "    print(temp_crn)"
   ]
  },
  {
   "cell_type": "code",
   "execution_count": 113,
   "id": "cfc37d3d",
   "metadata": {},
   "outputs": [
    {
     "name": "stdout",
     "output_type": "stream",
     "text": [
      "[5.635, 28.393, 48.544, 51.967999999999996, 55.711, 57.22899999999999, 63.00199999999999, 63.22599999999999, 63.29999999999999, 63.29999999999999, 63.29999999999999, 63.29999999999999, 63.29999999999999, 63.29999999999999, 63.29999999999999, 63.29999999999999, 63.29999999999999, 63.29999999999999, 63.29999999999999, 63.29999999999999, 63.29999999999999, 63.29999999999999, 63.29999999999999, 63.29999999999999, 63.29999999999999]\n"
     ]
    }
   ],
   "source": [
    "difference4_sal = []\n",
    "\n",
    "zip_object = zip(temp, temp_crn)\n",
    "for temp_i, temp_crn_i in zip_object:\n",
    "    difference4_sal.append(temp_i-temp_crn_i)\n",
    "\n",
    "print(difference4_sal)"
   ]
  },
  {
   "cell_type": "markdown",
   "id": "1baa8356",
   "metadata": {},
   "source": [
    "<font size=\"3\">Batesville, AR: 1500 UTC 13 April 2022-1500 UTC 14 April 2022</font>"
   ]
  },
  {
   "cell_type": "code",
   "execution_count": 114,
   "id": "50af2a53",
   "metadata": {},
   "outputs": [
    {
     "name": "stdout",
     "output_type": "stream",
     "text": [
      "[0.    2.342 2.35  2.389 2.664 2.84  3.946 4.655 4.656 4.656 4.656 4.656\n",
      " 4.656 4.656 4.656 4.656 4.656 4.656 4.656 4.656 4.656 4.656 4.656 4.656\n",
      " 4.656]\n"
     ]
    }
   ],
   "source": [
    "#12 hr hrrr:\n",
    "with open('hrrr_f12_Batesville_AR.txt') as f:\n",
    "    lst=[line.split()[2] for line in f]\n",
    "    temp=[]\n",
    "    for i in lst:\n",
    "        new=i.replace(',',\"\")\n",
    "        temp.append(new)\n",
    "    temp.pop(0)\n",
    "    temp=[float(x) for x in temp]\n",
    "    temp=temp[2451:2476]\n",
    "    #temp=temp[2015:2063]\n",
    "    temp=np.cumsum(temp)\n",
    "    print(temp)\n",
    "#full time period is [2015:2112]"
   ]
  },
  {
   "cell_type": "code",
   "execution_count": 115,
   "id": "006ec050",
   "metadata": {},
   "outputs": [
    {
     "name": "stdout",
     "output_type": "stream",
     "text": [
      "[0.   0.   0.   0.55 0.75 0.75 0.75 0.75 0.75 0.75 0.75 0.75 0.75 0.75\n",
      " 0.75 0.75 0.75 0.75 0.75 0.75 0.75 0.75 0.75 0.75 0.75]\n"
     ]
    }
   ],
   "source": [
    "#Air Temp CRN:\n",
    "with open('CRNS0101-05-2022-AR_Batesville_8_WNW.txt') as f:\n",
    "    lst=[line.split()[9] for line in f]\n",
    "    \n",
    "    a=(float(lst[29555])+float(lst[29556]))/2\n",
    "    b=(float(lst[29567])+float(lst[29568]))/2\n",
    "    c=(float(lst[29579])+float(lst[29580]))/2\n",
    "    d=(float(lst[29591])+float(lst[29592]))/2\n",
    "    e=(float(lst[29603])+float(lst[29604]))/2\n",
    "    f=(float(lst[29615])+float(lst[29616]))/2\n",
    "    g=(float(lst[29627])+float(lst[29628]))/2\n",
    "    h=(float(lst[29639])+float(lst[29640]))/2\n",
    "    i=(float(lst[29651])+float(lst[29652]))/2\n",
    "    j=(float(lst[29663])+float(lst[29664]))/2\n",
    "    k=(float(lst[29675])+float(lst[29676]))/2\n",
    "    l=(float(lst[29687])+float(lst[29688]))/2\n",
    "    m=(float(lst[29699])+float(lst[29700]))/2\n",
    "    n=(float(lst[29711])+float(lst[29712]))/2\n",
    "    o=(float(lst[29723])+float(lst[29724]))/2\n",
    "    p=(float(lst[29735])+float(lst[29736]))/2\n",
    "    q=(float(lst[29747])+float(lst[29748]))/2\n",
    "    r=(float(lst[29759])+float(lst[29760]))/2\n",
    "    s=(float(lst[29771])+float(lst[29772]))/2\n",
    "    t=(float(lst[29783])+float(lst[29784]))/2\n",
    "    u=(float(lst[29795])+float(lst[29796]))/2\n",
    "    v=(float(lst[29807])+float(lst[29808]))/2\n",
    "    w=(float(lst[29819])+float(lst[29820]))/2\n",
    "    x=(float(lst[29831])+float(lst[29832]))/2\n",
    "    y=(float(lst[29843])+float(lst[29844]))/2\n",
    "    temp_crn=[a,b,c,d,e,f,g,h,i,j,k,l,m,n,o,p,q,r,s,t,u,v,w,x,y]\n",
    "    temp_crn=np.cumsum(temp_crn)\n",
    "    print(temp_crn)"
   ]
  },
  {
   "cell_type": "code",
   "execution_count": 116,
   "id": "3ca802b3",
   "metadata": {},
   "outputs": [
    {
     "name": "stdout",
     "output_type": "stream",
     "text": [
      "[0.0, 2.342, 2.35, 1.8390000000000002, 1.9140000000000001, 2.0900000000000003, 3.1960000000000006, 3.9050000000000002, 3.9060000000000006, 3.9060000000000006, 3.9060000000000006, 3.9060000000000006, 3.9060000000000006, 3.9060000000000006, 3.9060000000000006, 3.9060000000000006, 3.9060000000000006, 3.9060000000000006, 3.9060000000000006, 3.9060000000000006, 3.9060000000000006, 3.9060000000000006, 3.9060000000000006, 3.9060000000000006, 3.9060000000000006]\n"
     ]
    }
   ],
   "source": [
    "difference4_bat = []\n",
    "\n",
    "zip_object = zip(temp, temp_crn)\n",
    "for temp_i, temp_crn_i in zip_object:\n",
    "    difference4_bat.append(temp_i-temp_crn_i)\n",
    "\n",
    "print(difference4_bat)"
   ]
  },
  {
   "cell_type": "markdown",
   "id": "7089dff9",
   "metadata": {},
   "source": [
    "<font size=\"3\">Lafayette, LA: 2000 UTC 13 April 2022-2000 UTC 14 April 2022</font>"
   ]
  },
  {
   "cell_type": "code",
   "execution_count": 117,
   "id": "8be3433b",
   "metadata": {},
   "outputs": [
    {
     "name": "stdout",
     "output_type": "stream",
     "text": [
      "[0.0000e+00 0.0000e+00 1.0000e-03 1.3000e-02 5.7600e-01 6.2900e-01\n",
      " 8.7400e-01 1.0240e+00 1.8196e+01 2.6099e+01 2.6103e+01 2.6108e+01\n",
      " 2.6109e+01 2.6117e+01 2.6119e+01 2.6119e+01 2.6119e+01 2.6119e+01\n",
      " 2.6119e+01 2.6119e+01 2.6119e+01 2.6119e+01 2.6119e+01 2.6119e+01\n",
      " 2.6119e+01]\n"
     ]
    }
   ],
   "source": [
    "#12 hr hrrr:\n",
    "with open('hrrr_f12_Lafayette_LA.txt') as f:\n",
    "    lst=[line.split()[2] for line in f]\n",
    "    temp=[]\n",
    "    for i in lst:\n",
    "        new=i.replace(',',\"\")\n",
    "        temp.append(new)\n",
    "    temp.pop(0)\n",
    "    temp=[float(x) for x in temp]\n",
    "    temp=temp[2456:2481]\n",
    "    #temp=temp[2015:2063]\n",
    "    temp=np.cumsum(temp)\n",
    "    print(temp)\n",
    "#full time period is [2015:2112]"
   ]
  },
  {
   "cell_type": "code",
   "execution_count": 118,
   "id": "4cb24849",
   "metadata": {},
   "outputs": [
    {
     "name": "stdout",
     "output_type": "stream",
     "text": [
      "[0.   0.   0.   0.   0.   0.   0.   6.35 6.95 6.95 6.95 6.95 6.95 6.95\n",
      " 6.95 6.95 6.95 6.95 6.95 6.95 6.95 6.95 6.95 6.95 6.95]\n"
     ]
    }
   ],
   "source": [
    "#Air Temp CRN:\n",
    "with open('CRNS0101-05-2022-LA_Lafayette_13_SE.txt') as f:\n",
    "    lst=[line.split()[9] for line in f]\n",
    "    \n",
    "    a=(float(lst[29615])+float(lst[29616]))/2\n",
    "    b=(float(lst[29627])+float(lst[29628]))/2\n",
    "    c=(float(lst[29639])+float(lst[29640]))/2\n",
    "    d=(float(lst[29651])+float(lst[29652]))/2\n",
    "    e=(float(lst[29663])+float(lst[29664]))/2\n",
    "    f=(float(lst[29675])+float(lst[29676]))/2\n",
    "    g=(float(lst[29687])+float(lst[29688]))/2\n",
    "    h=(float(lst[29699])+float(lst[29700]))/2\n",
    "    i=(float(lst[29711])+float(lst[29712]))/2\n",
    "    j=(float(lst[29723])+float(lst[29724]))/2\n",
    "    k=(float(lst[29735])+float(lst[29736]))/2\n",
    "    l=(float(lst[29747])+float(lst[29748]))/2\n",
    "    m=(float(lst[29759])+float(lst[29760]))/2\n",
    "    n=(float(lst[29771])+float(lst[29772]))/2\n",
    "    o=(float(lst[29783])+float(lst[29784]))/2\n",
    "    p=(float(lst[29795])+float(lst[29796]))/2\n",
    "    q=(float(lst[29807])+float(lst[29808]))/2\n",
    "    r=(float(lst[29819])+float(lst[29820]))/2\n",
    "    s=(float(lst[29831])+float(lst[29832]))/2\n",
    "    t=(float(lst[29843])+float(lst[29844]))/2\n",
    "    u=(float(lst[29855])+float(lst[29856]))/2\n",
    "    v=(float(lst[29867])+float(lst[29868]))/2\n",
    "    w=(float(lst[29879])+float(lst[29880]))/2\n",
    "    x=(float(lst[29891])+float(lst[29892]))/2\n",
    "    y=(float(lst[29903])+float(lst[29904]))/2\n",
    "    temp_crn=[a,b,c,d,e,f,g,h,i,j,k,l,m,n,o,p,q,r,s,t,u,v,w,x,y]\n",
    "    temp_crn=np.cumsum(temp_crn)\n",
    "    print(temp_crn)"
   ]
  },
  {
   "cell_type": "code",
   "execution_count": 119,
   "id": "f0730891",
   "metadata": {},
   "outputs": [
    {
     "name": "stdout",
     "output_type": "stream",
     "text": [
      "[0.0, 0.0, 0.001, 0.013000000000000001, 0.576, 0.629, 0.874, -5.326, 11.246000000000002, 19.149, 19.153000000000002, 19.158, 19.159000000000002, 19.167, 19.169, 19.169, 19.169, 19.169, 19.169, 19.169, 19.169, 19.169, 19.169, 19.169, 19.169]\n"
     ]
    }
   ],
   "source": [
    "difference4_laf = []\n",
    "\n",
    "zip_object = zip(temp, temp_crn)\n",
    "for temp_i, temp_crn_i in zip_object:\n",
    "    difference4_laf.append(temp_i-temp_crn_i)\n",
    "\n",
    "print(difference4_laf)"
   ]
  },
  {
   "cell_type": "markdown",
   "id": "a4cb46d7",
   "metadata": {},
   "source": [
    "<font size=\"3\">Monroe, LA: 2000 UTC 13 April 2022-2000 UTC 14 April 2022</font>"
   ]
  },
  {
   "cell_type": "code",
   "execution_count": 120,
   "id": "bc9822b1",
   "metadata": {},
   "outputs": [
    {
     "name": "stdout",
     "output_type": "stream",
     "text": [
      "[0.59  0.875 0.97  0.974 4.539 4.55  4.55  4.55  4.55  4.55  4.55  4.55\n",
      " 4.55  4.55  4.55  4.55  4.55  4.55  4.55  4.55  4.55  4.55  4.55  4.55\n",
      " 4.55 ]\n"
     ]
    }
   ],
   "source": [
    "#12 hr hrrr:\n",
    "with open('hrrr_f12_Monroe_LA.txt') as f:\n",
    "    lst=[line.split()[2] for line in f]\n",
    "    temp=[]\n",
    "    for i in lst:\n",
    "        new=i.replace(',',\"\")\n",
    "        temp.append(new)\n",
    "    temp.pop(0)\n",
    "    temp=[float(x) for x in temp]\n",
    "    temp=temp[2456:2481]\n",
    "    #temp=temp[2015:2063]\n",
    "    temp=np.cumsum(temp)\n",
    "    print(temp)\n",
    "#full time period is [2015:2112]"
   ]
  },
  {
   "cell_type": "code",
   "execution_count": 121,
   "id": "1718f471",
   "metadata": {},
   "outputs": [
    {
     "name": "stdout",
     "output_type": "stream",
     "text": [
      "[0. 0. 0. 0. 0. 0. 0. 0. 0. 0. 0. 0. 0. 0. 0. 0. 0. 0. 0. 0. 0. 0. 0. 0.\n",
      " 0.]\n"
     ]
    }
   ],
   "source": [
    "#Air Temp CRN:\n",
    "with open('CRNS0101-05-2022-LA_Monroe_26_N.txt') as f:\n",
    "    lst=[line.split()[9] for line in f]\n",
    "    \n",
    "    a=(float(lst[29615])+float(lst[29616]))/2\n",
    "    b=(float(lst[29627])+float(lst[29628]))/2\n",
    "    c=(float(lst[29639])+float(lst[29640]))/2\n",
    "    d=(float(lst[29651])+float(lst[29652]))/2\n",
    "    e=(float(lst[29663])+float(lst[29664]))/2\n",
    "    f=(float(lst[29675])+float(lst[29676]))/2\n",
    "    g=(float(lst[29687])+float(lst[29688]))/2\n",
    "    h=(float(lst[29699])+float(lst[29700]))/2\n",
    "    i=(float(lst[29711])+float(lst[29712]))/2\n",
    "    j=(float(lst[29723])+float(lst[29724]))/2\n",
    "    k=(float(lst[29735])+float(lst[29736]))/2\n",
    "    l=(float(lst[29747])+float(lst[29748]))/2\n",
    "    m=(float(lst[29759])+float(lst[29760]))/2\n",
    "    n=(float(lst[29771])+float(lst[29772]))/2\n",
    "    o=(float(lst[29783])+float(lst[29784]))/2\n",
    "    p=(float(lst[29795])+float(lst[29796]))/2\n",
    "    q=(float(lst[29807])+float(lst[29808]))/2\n",
    "    r=(float(lst[29819])+float(lst[29820]))/2\n",
    "    s=(float(lst[29831])+float(lst[29832]))/2\n",
    "    t=(float(lst[29843])+float(lst[29844]))/2\n",
    "    u=(float(lst[29855])+float(lst[29856]))/2\n",
    "    v=(float(lst[29867])+float(lst[29868]))/2\n",
    "    w=(float(lst[29879])+float(lst[29880]))/2\n",
    "    x=(float(lst[29891])+float(lst[29892]))/2\n",
    "    y=(float(lst[29903])+float(lst[29904]))/2\n",
    "    temp_crn=[a,b,c,d,e,f,g,h,i,j,k,l,m,n,o,p,q,r,s,t,u,v,w,x,y]\n",
    "    temp_crn=np.cumsum(temp_crn)\n",
    "    print(temp_crn)"
   ]
  },
  {
   "cell_type": "code",
   "execution_count": 122,
   "id": "91696836",
   "metadata": {},
   "outputs": [
    {
     "name": "stdout",
     "output_type": "stream",
     "text": [
      "[0.59, 0.875, 0.97, 0.974, 4.539, 4.55, 4.55, 4.55, 4.55, 4.55, 4.55, 4.55, 4.55, 4.55, 4.55, 4.55, 4.55, 4.55, 4.55, 4.55, 4.55, 4.55, 4.55, 4.55, 4.55]\n"
     ]
    }
   ],
   "source": [
    "difference4_mon = []\n",
    "\n",
    "zip_object = zip(temp, temp_crn)\n",
    "for temp_i, temp_crn_i in zip_object:\n",
    "    difference4_mon.append(temp_i-temp_crn_i)\n",
    "\n",
    "print(difference4_mon)"
   ]
  },
  {
   "cell_type": "markdown",
   "id": "797ab9bf",
   "metadata": {},
   "source": [
    "<font size=\"3\">Holly Springs, MS: 2300 UTC 13 April 2022-2300 UTC 14 April 2022</font>"
   ]
  },
  {
   "cell_type": "code",
   "execution_count": 123,
   "id": "25958065",
   "metadata": {},
   "outputs": [
    {
     "name": "stdout",
     "output_type": "stream",
     "text": [
      "[0.095 0.347 0.921 0.941 3.991 4.575 4.575 4.575 4.575 4.575 4.575 4.575\n",
      " 4.575 4.575 4.575 4.575 4.575 4.575 4.575 4.575 4.575 4.575 4.575 4.575\n",
      " 4.575]\n"
     ]
    }
   ],
   "source": [
    "#12 hr hrrr:\n",
    "with open('hrrr_f12_Holly Springs_MS.txt') as f:\n",
    "    lst=[line.split()[2] for line in f]\n",
    "    temp=[]\n",
    "    for i in lst:\n",
    "        new=i.replace(',',\"\")\n",
    "        temp.append(new)\n",
    "    temp.pop(0)\n",
    "    temp=[float(x) for x in temp]\n",
    "    temp=temp[2459:2484]\n",
    "    #temp=temp[2015:2063]\n",
    "    temp=np.cumsum(temp)\n",
    "    print(temp)\n",
    "#full time period is [2015:2112]"
   ]
  },
  {
   "cell_type": "code",
   "execution_count": 124,
   "id": "a1f0089e",
   "metadata": {},
   "outputs": [
    {
     "name": "stdout",
     "output_type": "stream",
     "text": [
      "[2.45 2.55 2.55 2.55 2.55 2.55 2.55 2.55 2.55 2.55 2.55 2.55 2.55 2.55\n",
      " 2.55 2.55 2.55 2.55 2.55 2.55 2.55 2.55 2.55 2.55 2.55]\n"
     ]
    }
   ],
   "source": [
    "#Air Temp CRN:\n",
    "with open('CRNS0101-05-2022-MS_Holly_Springs_4_N.txt') as f:\n",
    "    lst=[line.split()[9] for line in f]\n",
    "    \n",
    "    a=(float(lst[29651])+float(lst[29652]))/2\n",
    "    b=(float(lst[29663])+float(lst[29664]))/2\n",
    "    c=(float(lst[29675])+float(lst[29676]))/2\n",
    "    d=(float(lst[29687])+float(lst[29688]))/2\n",
    "    e=(float(lst[29699])+float(lst[29700]))/2\n",
    "    f=(float(lst[29711])+float(lst[29712]))/2\n",
    "    g=(float(lst[29723])+float(lst[29724]))/2\n",
    "    h=(float(lst[29735])+float(lst[29736]))/2\n",
    "    i=(float(lst[29747])+float(lst[29748]))/2\n",
    "    j=(float(lst[29759])+float(lst[29760]))/2\n",
    "    k=(float(lst[29771])+float(lst[29772]))/2\n",
    "    l=(float(lst[29783])+float(lst[29784]))/2\n",
    "    m=(float(lst[29795])+float(lst[29796]))/2\n",
    "    n=(float(lst[29807])+float(lst[29808]))/2\n",
    "    o=(float(lst[29819])+float(lst[29820]))/2\n",
    "    p=(float(lst[29831])+float(lst[29832]))/2\n",
    "    q=(float(lst[29843])+float(lst[29844]))/2\n",
    "    r=(float(lst[29855])+float(lst[29856]))/2\n",
    "    s=(float(lst[29867])+float(lst[29868]))/2\n",
    "    t=(float(lst[29879])+float(lst[29880]))/2\n",
    "    u=(float(lst[29891])+float(lst[29892]))/2\n",
    "    v=(float(lst[29903])+float(lst[29904]))/2\n",
    "    w=(float(lst[29915])+float(lst[29916]))/2\n",
    "    x=(float(lst[29927])+float(lst[29928]))/2\n",
    "    y=(float(lst[29939])+float(lst[29940]))/2\n",
    "    temp_crn=[a,b,c,d,e,f,g,h,i,j,k,l,m,n,o,p,q,r,s,t,u,v,w,x,y]\n",
    "    temp_crn=np.cumsum(temp_crn)\n",
    "    print(temp_crn)"
   ]
  },
  {
   "cell_type": "code",
   "execution_count": 125,
   "id": "6226fdc5",
   "metadata": {},
   "outputs": [
    {
     "name": "stdout",
     "output_type": "stream",
     "text": [
      "[-2.355, -2.2030000000000003, -1.6290000000000004, -1.6090000000000004, 1.4409999999999994, 2.024999999999999, 2.024999999999999, 2.024999999999999, 2.024999999999999, 2.024999999999999, 2.024999999999999, 2.024999999999999, 2.024999999999999, 2.024999999999999, 2.024999999999999, 2.024999999999999, 2.024999999999999, 2.024999999999999, 2.024999999999999, 2.024999999999999, 2.024999999999999, 2.024999999999999, 2.024999999999999, 2.024999999999999, 2.024999999999999]\n"
     ]
    }
   ],
   "source": [
    "difference4_hol = []\n",
    "\n",
    "zip_object = zip(temp, temp_crn)\n",
    "for temp_i, temp_crn_i in zip_object:\n",
    "    difference4_hol.append(temp_i-temp_crn_i)\n",
    "\n",
    "print(difference4_hol)"
   ]
  },
  {
   "cell_type": "markdown",
   "id": "2580ca75",
   "metadata": {},
   "source": [
    "<font size=\"3\">Newton, MS: 2300 UTC 13 April 2022-2300 UTC 14 April 2022</font>"
   ]
  },
  {
   "cell_type": "code",
   "execution_count": 126,
   "id": "2d759922",
   "metadata": {},
   "outputs": [
    {
     "name": "stdout",
     "output_type": "stream",
     "text": [
      "[0.0000e+00 0.0000e+00 3.5000e-02 1.9831e+01 2.6892e+01 2.7979e+01\n",
      " 2.8174e+01 3.7121e+01 3.8778e+01 3.9979e+01 3.9979e+01 3.9979e+01\n",
      " 3.9979e+01 3.9979e+01 3.9979e+01 3.9979e+01 3.9979e+01 3.9979e+01\n",
      " 3.9979e+01 3.9979e+01 3.9979e+01 3.9979e+01 3.9979e+01 3.9979e+01\n",
      " 3.9979e+01]\n"
     ]
    }
   ],
   "source": [
    "#12 hr hrrr:\n",
    "with open('hrrr_f12_Newton_MS.txt') as f:\n",
    "    lst=[line.split()[2] for line in f]\n",
    "    temp=[]\n",
    "    for i in lst:\n",
    "        new=i.replace(',',\"\")\n",
    "        temp.append(new)\n",
    "    temp.pop(0)\n",
    "    temp=[float(x) for x in temp]\n",
    "    temp=temp[2459:2484]\n",
    "    #temp=temp[2015:2063]\n",
    "    temp=np.cumsum(temp)\n",
    "    print(temp)\n",
    "#full time period is [2015:2112]"
   ]
  },
  {
   "cell_type": "code",
   "execution_count": 127,
   "id": "8cd5b339",
   "metadata": {},
   "outputs": [
    {
     "name": "stdout",
     "output_type": "stream",
     "text": [
      "[0.   0.   0.   0.5  0.95 1.2  1.2  1.2  1.3  1.3  1.3  1.3  1.3  1.3\n",
      " 1.3  1.3  1.3  1.3  1.3  1.3  1.3  1.3  1.3  1.3  1.3 ]\n"
     ]
    }
   ],
   "source": [
    "#Air Temp CRN:\n",
    "with open('CRNS0101-05-2022-MS_Newton_5_ENE.txt') as f:\n",
    "    lst=[line.split()[9] for line in f]\n",
    "    \n",
    "    a=(float(lst[29651])+float(lst[29652]))/2\n",
    "    b=(float(lst[29663])+float(lst[29664]))/2\n",
    "    c=(float(lst[29675])+float(lst[29676]))/2\n",
    "    d=(float(lst[29687])+float(lst[29688]))/2\n",
    "    e=(float(lst[29699])+float(lst[29700]))/2\n",
    "    f=(float(lst[29711])+float(lst[29712]))/2\n",
    "    g=(float(lst[29723])+float(lst[29724]))/2\n",
    "    h=(float(lst[29735])+float(lst[29736]))/2\n",
    "    i=(float(lst[29747])+float(lst[29748]))/2\n",
    "    j=(float(lst[29759])+float(lst[29760]))/2\n",
    "    k=(float(lst[29771])+float(lst[29772]))/2\n",
    "    l=(float(lst[29783])+float(lst[29784]))/2\n",
    "    m=(float(lst[29795])+float(lst[29796]))/2\n",
    "    n=(float(lst[29807])+float(lst[29808]))/2\n",
    "    o=(float(lst[29819])+float(lst[29820]))/2\n",
    "    p=(float(lst[29831])+float(lst[29832]))/2\n",
    "    q=(float(lst[29843])+float(lst[29844]))/2\n",
    "    r=(float(lst[29855])+float(lst[29856]))/2\n",
    "    s=(float(lst[29867])+float(lst[29868]))/2\n",
    "    t=(float(lst[29879])+float(lst[29880]))/2\n",
    "    u=(float(lst[29891])+float(lst[29892]))/2\n",
    "    v=(float(lst[29903])+float(lst[29904]))/2\n",
    "    w=(float(lst[29915])+float(lst[29916]))/2\n",
    "    x=(float(lst[29927])+float(lst[29928]))/2\n",
    "    y=(float(lst[29939])+float(lst[29940]))/2\n",
    "    temp_crn=[a,b,c,d,e,f,g,h,i,j,k,l,m,n,o,p,q,r,s,t,u,v,w,x,y]\n",
    "    temp_crn=np.cumsum(temp_crn)\n",
    "    print(temp_crn)"
   ]
  },
  {
   "cell_type": "code",
   "execution_count": 128,
   "id": "e75f9641",
   "metadata": {},
   "outputs": [
    {
     "name": "stdout",
     "output_type": "stream",
     "text": [
      "[0.0, 0.0, 0.035, 19.331, 25.942, 26.779, 26.974, 35.92099999999999, 37.477999999999994, 38.678999999999995, 38.678999999999995, 38.678999999999995, 38.678999999999995, 38.678999999999995, 38.678999999999995, 38.678999999999995, 38.678999999999995, 38.678999999999995, 38.678999999999995, 38.678999999999995, 38.678999999999995, 38.678999999999995, 38.678999999999995, 38.678999999999995, 38.678999999999995]\n"
     ]
    }
   ],
   "source": [
    "difference4_new = []\n",
    "\n",
    "zip_object = zip(temp, temp_crn)\n",
    "for temp_i, temp_crn_i in zip_object:\n",
    "    difference4_new.append(temp_i-temp_crn_i)\n",
    "\n",
    "print(difference4_new)"
   ]
  },
  {
   "cell_type": "markdown",
   "id": "a7d0e1e9",
   "metadata": {},
   "source": [
    "<font size=\"3\">Gainesville, AL: 0200 UTC 14 April 2022-0200 UTC 15 April 2022</font>"
   ]
  },
  {
   "cell_type": "code",
   "execution_count": 129,
   "id": "4bddcdb7",
   "metadata": {},
   "outputs": [
    {
     "name": "stdout",
     "output_type": "stream",
     "text": [
      "[18.041 23.347 23.75  24.192 25.131 28.455 31.36  32.801 33.074 33.094\n",
      " 33.11  33.113 33.113 33.113 33.113 33.113 33.113 33.113 33.113 33.113\n",
      " 33.113 33.113 33.113 33.113 33.113]\n"
     ]
    }
   ],
   "source": [
    "#12 hr hrrr:\n",
    "with open('hrrr_f12_Gainesville_AL.txt') as f:\n",
    "    lst=[line.split()[2] for line in f]\n",
    "    temp=[]\n",
    "    for i in lst:\n",
    "        new=i.replace(',',\"\")\n",
    "        temp.append(new)\n",
    "    temp.pop(0)\n",
    "    temp=[float(x) for x in temp]\n",
    "    temp=temp[2462:2487]\n",
    "    #temp=temp[2015:2063]\n",
    "    temp=np.cumsum(temp)\n",
    "    print(temp)\n",
    "#full time period is [2015:2112]"
   ]
  },
  {
   "cell_type": "code",
   "execution_count": 130,
   "id": "6792cddd",
   "metadata": {},
   "outputs": [
    {
     "name": "stdout",
     "output_type": "stream",
     "text": [
      "[0.   0.35 0.45 0.45 0.45 0.45 0.45 0.45 0.45 0.45 0.45 0.45 0.45 0.45\n",
      " 0.45 0.45 0.45 0.45 0.45 0.45 0.45 0.45 0.45 0.45 0.45]\n"
     ]
    }
   ],
   "source": [
    "#Air Temp CRN:\n",
    "with open('CRNS0101-05-2022-AL_Gainesville_2_NE.txt') as f:\n",
    "    lst=[line.split()[9] for line in f]\n",
    "    \n",
    "    a=(float(lst[29687])+float(lst[29688]))/2\n",
    "    b=(float(lst[29699])+float(lst[29700]))/2\n",
    "    c=(float(lst[29711])+float(lst[29712]))/2\n",
    "    d=(float(lst[29723])+float(lst[29724]))/2\n",
    "    e=(float(lst[29735])+float(lst[29736]))/2\n",
    "    f=(float(lst[29747])+float(lst[29748]))/2\n",
    "    g=(float(lst[29759])+float(lst[29760]))/2\n",
    "    h=(float(lst[29771])+float(lst[29772]))/2\n",
    "    i=(float(lst[29783])+float(lst[29784]))/2\n",
    "    j=(float(lst[29795])+float(lst[29796]))/2\n",
    "    k=(float(lst[29807])+float(lst[29808]))/2\n",
    "    l=(float(lst[29819])+float(lst[29820]))/2\n",
    "    m=(float(lst[29831])+float(lst[29832]))/2\n",
    "    n=(float(lst[29843])+float(lst[29844]))/2\n",
    "    o=(float(lst[29855])+float(lst[29856]))/2\n",
    "    p=(float(lst[29867])+float(lst[29868]))/2\n",
    "    q=(float(lst[29879])+float(lst[29880]))/2\n",
    "    r=(float(lst[29891])+float(lst[29892]))/2\n",
    "    s=(float(lst[29903])+float(lst[29904]))/2\n",
    "    t=(float(lst[29915])+float(lst[29916]))/2\n",
    "    u=(float(lst[29927])+float(lst[29928]))/2\n",
    "    v=(float(lst[29939])+float(lst[29940]))/2\n",
    "    w=(float(lst[29951])+float(lst[29952]))/2\n",
    "    x=(float(lst[29963])+float(lst[29964]))/2\n",
    "    y=(float(lst[29975])+float(lst[29976]))/2\n",
    "    temp_crn=[a,b,c,d,e,f,g,h,i,j,k,l,m,n,o,p,q,r,s,t,u,v,w,x,y]\n",
    "    temp_crn=np.cumsum(temp_crn)\n",
    "    print(temp_crn)"
   ]
  },
  {
   "cell_type": "code",
   "execution_count": 131,
   "id": "c9db90a8",
   "metadata": {},
   "outputs": [
    {
     "name": "stdout",
     "output_type": "stream",
     "text": [
      "[18.041, 22.997, 23.3, 23.742, 24.681, 28.005, 30.91, 32.351, 32.624, 32.644000000000005, 32.660000000000004, 32.663000000000004, 32.663000000000004, 32.663000000000004, 32.663000000000004, 32.663000000000004, 32.663000000000004, 32.663000000000004, 32.663000000000004, 32.663000000000004, 32.663000000000004, 32.663000000000004, 32.663000000000004, 32.663000000000004, 32.663000000000004]\n"
     ]
    }
   ],
   "source": [
    "difference4_gai = []\n",
    "\n",
    "zip_object = zip(temp, temp_crn)\n",
    "for temp_i, temp_crn_i in zip_object:\n",
    "    difference4_gai.append(temp_i-temp_crn_i)\n",
    "\n",
    "print(difference4_gai)"
   ]
  },
  {
   "cell_type": "markdown",
   "id": "cdbcd1b4",
   "metadata": {},
   "source": [
    "<font size=\"3\">Fairhope, AL: 0200 UTC 14 April 2022-0200 UTC 15 April 2022</font>"
   ]
  },
  {
   "cell_type": "code",
   "execution_count": 132,
   "id": "1a0b9a6b",
   "metadata": {},
   "outputs": [
    {
     "name": "stdout",
     "output_type": "stream",
     "text": [
      "[0.0000e+00 0.0000e+00 0.0000e+00 0.0000e+00 0.0000e+00 1.8000e-02\n",
      " 1.1388e+01 1.4741e+01 1.7130e+01 1.7600e+01 1.7858e+01 1.7858e+01\n",
      " 1.7858e+01 1.7971e+01 2.3291e+01 2.3948e+01 2.5482e+01 2.7532e+01\n",
      " 2.8472e+01 2.9862e+01 3.0024e+01 3.0024e+01 3.0024e+01 3.0024e+01\n",
      " 3.0024e+01]\n"
     ]
    }
   ],
   "source": [
    "#12 hr hrrr:\n",
    "with open('hrrr_f12_Fairhope_AL.txt') as f:\n",
    "    lst=[line.split()[2] for line in f]\n",
    "    temp=[]\n",
    "    for i in lst:\n",
    "        new=i.replace(',',\"\")\n",
    "        temp.append(new)\n",
    "    temp.pop(0)\n",
    "    temp=[float(x) for x in temp]\n",
    "    temp=temp[2462:2487]\n",
    "    #temp=temp[2015:2063]\n",
    "    temp=np.cumsum(temp)\n",
    "    print(temp)\n",
    "#full time period is [2015:2112]"
   ]
  },
  {
   "cell_type": "code",
   "execution_count": 133,
   "id": "39bb1d69",
   "metadata": {},
   "outputs": [
    {
     "name": "stdout",
     "output_type": "stream",
     "text": [
      "[0.   0.   0.1  0.1  2.35 2.55 2.95 3.25 3.55 3.55 3.55 3.55 3.55 3.55\n",
      " 3.55 3.55 3.55 3.55 3.55 3.55 3.55 3.55 3.55 3.55 3.55]\n"
     ]
    }
   ],
   "source": [
    "#Air Temp CRN:\n",
    "with open('CRNS0101-05-2022-AL_Fairhope_3_NE.txt') as f:\n",
    "    lst=[line.split()[9] for line in f]\n",
    "    \n",
    "    a=(float(lst[29687])+float(lst[29688]))/2\n",
    "    b=(float(lst[29699])+float(lst[29700]))/2\n",
    "    c=(float(lst[29711])+float(lst[29712]))/2\n",
    "    d=(float(lst[29723])+float(lst[29724]))/2\n",
    "    e=(float(lst[29735])+float(lst[29736]))/2\n",
    "    f=(float(lst[29747])+float(lst[29748]))/2\n",
    "    g=(float(lst[29759])+float(lst[29760]))/2\n",
    "    h=(float(lst[29771])+float(lst[29772]))/2\n",
    "    i=(float(lst[29783])+float(lst[29784]))/2\n",
    "    j=(float(lst[29795])+float(lst[29796]))/2\n",
    "    k=(float(lst[29807])+float(lst[29808]))/2\n",
    "    l=(float(lst[29819])+float(lst[29820]))/2\n",
    "    m=(float(lst[29831])+float(lst[29832]))/2\n",
    "    n=(float(lst[29843])+float(lst[29844]))/2\n",
    "    o=(float(lst[29855])+float(lst[29856]))/2\n",
    "    p=(float(lst[29867])+float(lst[29868]))/2\n",
    "    q=(float(lst[29879])+float(lst[29880]))/2\n",
    "    r=(float(lst[29891])+float(lst[29892]))/2\n",
    "    s=(float(lst[29903])+float(lst[29904]))/2\n",
    "    t=(float(lst[29915])+float(lst[29916]))/2\n",
    "    u=(float(lst[29927])+float(lst[29928]))/2\n",
    "    v=(float(lst[29939])+float(lst[29940]))/2\n",
    "    w=(float(lst[29951])+float(lst[29952]))/2\n",
    "    x=(float(lst[29963])+float(lst[29964]))/2\n",
    "    y=(float(lst[29975])+float(lst[29976]))/2\n",
    "    temp_crn=[a,b,c,d,e,f,g,h,i,j,k,l,m,n,o,p,q,r,s,t,u,v,w,x,y]\n",
    "    temp_crn=np.cumsum(temp_crn)\n",
    "    print(temp_crn)"
   ]
  },
  {
   "cell_type": "code",
   "execution_count": 134,
   "id": "2e2c6057",
   "metadata": {},
   "outputs": [
    {
     "name": "stdout",
     "output_type": "stream",
     "text": [
      "[0.0, 0.0, -0.1, -0.1, -2.35, -2.5320000000000005, 8.437999999999999, 11.491, 13.579999999999998, 14.049999999999997, 14.307999999999996, 14.307999999999996, 14.307999999999996, 14.420999999999996, 19.740999999999996, 20.397999999999996, 21.931999999999995, 23.981999999999996, 24.921999999999997, 26.311999999999998, 26.473999999999997, 26.473999999999997, 26.473999999999997, 26.473999999999997, 26.473999999999997]\n"
     ]
    }
   ],
   "source": [
    "difference4_fai = []\n",
    "\n",
    "zip_object = zip(temp, temp_crn)\n",
    "for temp_i, temp_crn_i in zip_object:\n",
    "    difference4_fai.append(temp_i-temp_crn_i)\n",
    "\n",
    "print(difference4_fai)"
   ]
  },
  {
   "cell_type": "markdown",
   "id": "ba62c881",
   "metadata": {},
   "source": [
    "<font size=\"3\">Selma, AL: 0200 UTC 14 April 2022-0200 UTC 15 April 2022\n",
    "</font>"
   ]
  },
  {
   "cell_type": "code",
   "execution_count": 135,
   "id": "935d8c80",
   "metadata": {},
   "outputs": [
    {
     "name": "stdout",
     "output_type": "stream",
     "text": [
      "[0.0000e+00 0.0000e+00 0.0000e+00 1.0000e-03 1.4893e+01 3.4938e+01\n",
      " 3.9613e+01 4.0263e+01 4.0265e+01 4.0265e+01 4.0782e+01 4.0946e+01\n",
      " 4.0994e+01 4.0994e+01 4.1214e+01 4.1372e+01 4.1372e+01 4.1372e+01\n",
      " 4.1372e+01 4.1372e+01 4.1372e+01 4.1372e+01 4.1372e+01 4.1372e+01\n",
      " 4.1372e+01]\n"
     ]
    }
   ],
   "source": [
    "#1 hr hrrr:\n",
    "with open('hrrr_f12_Selma_AL.txt') as f:\n",
    "    lst=[line.split()[2] for line in f]\n",
    "    temp=[]\n",
    "    for i in lst:\n",
    "        new=i.replace(',',\"\")\n",
    "        temp.append(new)\n",
    "    temp.pop(0)\n",
    "    temp=[float(x) for x in temp]\n",
    "    temp=temp[2462:2487]\n",
    "    temp=np.cumsum(temp)\n",
    "    print(temp)"
   ]
  },
  {
   "cell_type": "code",
   "execution_count": 136,
   "id": "2fea209b",
   "metadata": {},
   "outputs": [
    {
     "name": "stdout",
     "output_type": "stream",
     "text": [
      "[0.   0.   0.15 0.75 0.95 0.95 0.95 0.95 0.95 0.95 1.05 1.05 1.05 1.05\n",
      " 1.05 1.05 1.05 1.05 1.05 1.05 1.05 1.05 1.05 1.05 1.05]\n"
     ]
    }
   ],
   "source": [
    "#Air Temp CRN:\n",
    "with open('CRNS0101-05-2022-AL_Selma_13_WNW.txt') as f:\n",
    "    lst=[line.split()[9] for line in f]\n",
    "    \n",
    "    a=(float(lst[29687])+float(lst[29688]))/2\n",
    "    b=(float(lst[29699])+float(lst[29700]))/2\n",
    "    c=(float(lst[29711])+float(lst[29712]))/2\n",
    "    d=(float(lst[29723])+float(lst[29724]))/2\n",
    "    e=(float(lst[29735])+float(lst[29736]))/2\n",
    "    f=(float(lst[29747])+float(lst[29748]))/2\n",
    "    g=(float(lst[29759])+float(lst[29760]))/2\n",
    "    h=(float(lst[29771])+float(lst[29772]))/2\n",
    "    i=(float(lst[29783])+float(lst[29784]))/2\n",
    "    j=(float(lst[29795])+float(lst[29796]))/2\n",
    "    k=(float(lst[29807])+float(lst[29808]))/2\n",
    "    l=(float(lst[29819])+float(lst[29820]))/2\n",
    "    m=(float(lst[29831])+float(lst[29832]))/2\n",
    "    n=(float(lst[29843])+float(lst[29844]))/2\n",
    "    o=(float(lst[29855])+float(lst[29856]))/2\n",
    "    p=(float(lst[29867])+float(lst[29868]))/2\n",
    "    q=(float(lst[29879])+float(lst[29880]))/2\n",
    "    r=(float(lst[29891])+float(lst[29892]))/2\n",
    "    s=(float(lst[29903])+float(lst[29904]))/2\n",
    "    t=(float(lst[29915])+float(lst[29916]))/2\n",
    "    u=(float(lst[29927])+float(lst[29928]))/2\n",
    "    v=(float(lst[29939])+float(lst[29940]))/2\n",
    "    w=(float(lst[29951])+float(lst[29952]))/2\n",
    "    x=(float(lst[29963])+float(lst[29964]))/2\n",
    "    y=(float(lst[29975])+float(lst[29976]))/2\n",
    "    temp_crn=[a,b,c,d,e,f,g,h,i,j,k,l,m,n,o,p,q,r,s,t,u,v,w,x,y]\n",
    "    temp_crn=np.cumsum(temp_crn)\n",
    "    print(temp_crn)"
   ]
  },
  {
   "cell_type": "code",
   "execution_count": 137,
   "id": "72c720a0",
   "metadata": {},
   "outputs": [
    {
     "name": "stdout",
     "output_type": "stream",
     "text": [
      "[0.0, 0.0, -0.15, -0.749, 13.943, 33.988, 38.663, 39.312999999999995, 39.315, 39.315, 39.732000000000006, 39.89600000000001, 39.94400000000001, 39.94400000000001, 40.16400000000001, 40.32200000000001, 40.32200000000001, 40.32200000000001, 40.32200000000001, 40.32200000000001, 40.32200000000001, 40.32200000000001, 40.32200000000001, 40.32200000000001, 40.32200000000001]\n",
      "25\n"
     ]
    }
   ],
   "source": [
    "difference4_sel = []\n",
    "\n",
    "zip_object = zip(temp, temp_crn)\n",
    "for temp_i, temp_crn_i in zip_object:\n",
    "    difference4_sel.append(temp_i-temp_crn_i)\n",
    "\n",
    "print(difference4_sel)\n",
    "print(len(difference4_sel))"
   ]
  },
  {
   "cell_type": "markdown",
   "id": "3a2e6fc9",
   "metadata": {},
   "source": [
    "<font size=\"3\">Bowling Green, KY: 0200 UTC 14 April 2022-0200 UTC 15 April 2022</font>"
   ]
  },
  {
   "cell_type": "code",
   "execution_count": 138,
   "id": "c761d214",
   "metadata": {},
   "outputs": [
    {
     "name": "stdout",
     "output_type": "stream",
     "text": [
      "[ 6.04   9.683  9.727  9.728 11.123 13.36  13.519 13.519 13.519 13.519\n",
      " 13.519 13.519 13.519 13.519 13.519 13.519 13.519 13.519 13.519 13.519\n",
      " 13.519 13.519 13.519 13.519 13.519]\n"
     ]
    }
   ],
   "source": [
    "#12 hr hrrr:\n",
    "with open('hrrr_f12_Bowling Green_KY.txt') as f:\n",
    "    lst=[line.split()[2] for line in f]\n",
    "    temp=[]\n",
    "    for i in lst:\n",
    "        new=i.replace(',',\"\")\n",
    "        temp.append(new)\n",
    "    temp.pop(0)\n",
    "    temp=[float(x) for x in temp]\n",
    "    temp=temp[2462:2487]\n",
    "    #temp=temp[2015:2063]\n",
    "    temp=np.cumsum(temp)\n",
    "    print(temp)\n",
    "#full time period is [2015:2112]"
   ]
  },
  {
   "cell_type": "code",
   "execution_count": 139,
   "id": "5a571109",
   "metadata": {},
   "outputs": [
    {
     "name": "stdout",
     "output_type": "stream",
     "text": [
      "[0.55 0.55 0.55 0.55 0.65 0.65 0.75 0.75 0.75 0.75 0.75 0.75 0.75 0.75\n",
      " 0.75 0.75 0.75 0.75 0.75 0.75 0.75 0.75 0.75 0.75 0.75]\n"
     ]
    }
   ],
   "source": [
    "#Air Temp CRN:\n",
    "with open('CRNS0101-05-2022-KY_Bowling_Green_21_NNE.txt') as f:\n",
    "    lst=[line.split()[9] for line in f]\n",
    "    \n",
    "    a=(float(lst[29687])+float(lst[29688]))/2\n",
    "    b=(float(lst[29699])+float(lst[29700]))/2\n",
    "    c=(float(lst[29711])+float(lst[29712]))/2\n",
    "    d=(float(lst[29723])+float(lst[29724]))/2\n",
    "    e=(float(lst[29735])+float(lst[29736]))/2\n",
    "    f=(float(lst[29747])+float(lst[29748]))/2\n",
    "    g=(float(lst[29759])+float(lst[29760]))/2\n",
    "    h=(float(lst[29771])+float(lst[29772]))/2\n",
    "    i=(float(lst[29783])+float(lst[29784]))/2\n",
    "    j=(float(lst[29795])+float(lst[29796]))/2\n",
    "    k=(float(lst[29807])+float(lst[29808]))/2\n",
    "    l=(float(lst[29819])+float(lst[29820]))/2\n",
    "    m=(float(lst[29831])+float(lst[29832]))/2\n",
    "    n=(float(lst[29843])+float(lst[29844]))/2\n",
    "    o=(float(lst[29855])+float(lst[29856]))/2\n",
    "    p=(float(lst[29867])+float(lst[29868]))/2\n",
    "    q=(float(lst[29879])+float(lst[29880]))/2\n",
    "    r=(float(lst[29891])+float(lst[29892]))/2\n",
    "    s=(float(lst[29903])+float(lst[29904]))/2\n",
    "    t=(float(lst[29915])+float(lst[29916]))/2\n",
    "    u=(float(lst[29927])+float(lst[29928]))/2\n",
    "    v=(float(lst[29939])+float(lst[29940]))/2\n",
    "    w=(float(lst[29951])+float(lst[29952]))/2\n",
    "    x=(float(lst[29963])+float(lst[29964]))/2\n",
    "    y=(float(lst[29975])+float(lst[29976]))/2\n",
    "    temp_crn=[a,b,c,d,e,f,g,h,i,j,k,l,m,n,o,p,q,r,s,t,u,v,w,x,y]\n",
    "    temp_crn=np.cumsum(temp_crn)\n",
    "    print(temp_crn)"
   ]
  },
  {
   "cell_type": "code",
   "execution_count": 140,
   "id": "214cf6fd",
   "metadata": {},
   "outputs": [
    {
     "name": "stdout",
     "output_type": "stream",
     "text": [
      "[5.49, 9.133, 9.177, 9.177999999999999, 10.472999999999999, 12.709999999999999, 12.769, 12.769, 12.769, 12.769, 12.769, 12.769, 12.769, 12.769, 12.769, 12.769, 12.769, 12.769, 12.769, 12.769, 12.769, 12.769, 12.769, 12.769, 12.769]\n"
     ]
    }
   ],
   "source": [
    "difference4_bow = []\n",
    "\n",
    "zip_object = zip(temp, temp_crn)\n",
    "for temp_i, temp_crn_i in zip_object:\n",
    "    difference4_bow.append(temp_i-temp_crn_i)\n",
    "\n",
    "print(difference4_bow)"
   ]
  },
  {
   "cell_type": "markdown",
   "id": "d5df1525",
   "metadata": {},
   "source": [
    "<font size=\"3\">Gadsden, AL: 0200 UTC 14 April 2022-0200 UTC 15 April 2022\n",
    "</font>"
   ]
  },
  {
   "cell_type": "code",
   "execution_count": 141,
   "id": "d0c17372",
   "metadata": {},
   "outputs": [
    {
     "name": "stdout",
     "output_type": "stream",
     "text": [
      "[ 0.     0.032  0.106  1.829 11.919 12.821 12.898 12.898 14.107 14.377\n",
      " 14.785 15.207 15.322 15.322 15.322 15.322 15.322 15.322 15.322 15.322\n",
      " 15.322 15.322 15.322 15.322 15.322]\n"
     ]
    }
   ],
   "source": [
    "#12 hr hrrr:\n",
    "with open('hrrr_f12_Gadsden_AL.txt') as f:\n",
    "    lst=[line.split()[2] for line in f]\n",
    "    temp=[]\n",
    "    for i in lst:\n",
    "        new=i.replace(',',\"\")\n",
    "        temp.append(new)\n",
    "    temp.pop(0)\n",
    "    temp=[float(x) for x in temp]\n",
    "    temp=temp[2462:2487]\n",
    "    #temp=temp[2015:2063]\n",
    "    temp=np.cumsum(temp)\n",
    "    print(temp)\n",
    "#full time period is [2015:2112]"
   ]
  },
  {
   "cell_type": "code",
   "execution_count": 142,
   "id": "920d128d",
   "metadata": {},
   "outputs": [
    {
     "name": "stdout",
     "output_type": "stream",
     "text": [
      "[  -9999.    -19998.    -29997.    -39996.    -44995.35  -44995.35\n",
      "  -44995.35  -44995.35  -44995.35  -44995.35  -44995.35  -44995.35\n",
      "  -44995.35  -44995.35  -49994.85  -59993.85  -69992.85  -74992.35\n",
      "  -74992.35  -74992.35  -79991.85  -89990.85  -99989.85 -109988.85\n",
      " -119987.85]\n"
     ]
    }
   ],
   "source": [
    "#Air Temp CRN:\n",
    "with open('CRNS0101-05-2022-AL_Gadsden_19_N.txt') as f:\n",
    "    lst=[line.split()[9] for line in f]\n",
    "    \n",
    "    a=(float(lst[29687])+float(lst[29688]))/2\n",
    "    b=(float(lst[29699])+float(lst[29700]))/2\n",
    "    c=(float(lst[29711])+float(lst[29712]))/2\n",
    "    d=(float(lst[29723])+float(lst[29724]))/2\n",
    "    e=(float(lst[29735])+float(lst[29736]))/2\n",
    "    f=(float(lst[29747])+float(lst[29748]))/2\n",
    "    g=(float(lst[29759])+float(lst[29760]))/2\n",
    "    h=(float(lst[29771])+float(lst[29772]))/2\n",
    "    i=(float(lst[29783])+float(lst[29784]))/2\n",
    "    j=(float(lst[29795])+float(lst[29796]))/2\n",
    "    k=(float(lst[29807])+float(lst[29808]))/2\n",
    "    l=(float(lst[29819])+float(lst[29820]))/2\n",
    "    m=(float(lst[29831])+float(lst[29832]))/2\n",
    "    n=(float(lst[29843])+float(lst[29844]))/2\n",
    "    o=(float(lst[29855])+float(lst[29856]))/2\n",
    "    p=(float(lst[29867])+float(lst[29868]))/2\n",
    "    q=(float(lst[29879])+float(lst[29880]))/2\n",
    "    r=(float(lst[29891])+float(lst[29892]))/2\n",
    "    s=(float(lst[29903])+float(lst[29904]))/2\n",
    "    t=(float(lst[29915])+float(lst[29916]))/2\n",
    "    u=(float(lst[29927])+float(lst[29928]))/2\n",
    "    v=(float(lst[29939])+float(lst[29940]))/2\n",
    "    w=(float(lst[29951])+float(lst[29952]))/2\n",
    "    x=(float(lst[29963])+float(lst[29964]))/2\n",
    "    y=(float(lst[29975])+float(lst[29976]))/2\n",
    "    temp_crn=[a,b,c,d,e,f,g,h,i,j,k,l,m,n,o,p,q,r,s,t,u,v,w,x,y]\n",
    "    temp_crn=np.cumsum(temp_crn)\n",
    "    print(temp_crn)"
   ]
  },
  {
   "cell_type": "code",
   "execution_count": 143,
   "id": "7476701f",
   "metadata": {},
   "outputs": [],
   "source": [
    "# difference4_gad = []\n",
    "\n",
    "# zip_object = zip(temp, temp_crn)\n",
    "# for temp_i, temp_crn_i in zip_object:\n",
    "#     difference4_gad.append(temp_i-temp_crn_i)\n",
    "\n",
    "# print(difference4_gad)"
   ]
  },
  {
   "cell_type": "markdown",
   "id": "047f5261",
   "metadata": {},
   "source": [
    "<font size=\"3\">Newton, GA: 0600 UTC 14 April 2022-0600 UTC 15 April 2022\n",
    "</font>"
   ]
  },
  {
   "cell_type": "code",
   "execution_count": 144,
   "id": "4eb1aeae",
   "metadata": {},
   "outputs": [
    {
     "name": "stdout",
     "output_type": "stream",
     "text": [
      "[0.    0.    0.    0.    0.    0.    0.001 0.001 0.001 0.001 0.001 0.001\n",
      " 0.001 0.001 0.001 0.001 0.001 0.001 0.001 0.001 0.001 0.001 0.001 0.001\n",
      " 0.001]\n"
     ]
    }
   ],
   "source": [
    "#12 hr hrrr:\n",
    "with open('hrrr_f12_Newton_GA.txt') as f:\n",
    "    lst=[line.split()[2] for line in f]\n",
    "    temp=[]\n",
    "    for i in lst:\n",
    "        new=i.replace(',',\"\")\n",
    "        temp.append(new)\n",
    "    temp.pop(0)\n",
    "    temp=[float(x) for x in temp]\n",
    "    temp=temp[2466:2491]\n",
    "    #temp=temp[2015:2063]\n",
    "    temp=np.cumsum(temp)\n",
    "    print(temp)\n",
    "#full time period is [2015:2112]"
   ]
  },
  {
   "cell_type": "code",
   "execution_count": 145,
   "id": "4fd3dae9",
   "metadata": {},
   "outputs": [
    {
     "name": "stdout",
     "output_type": "stream",
     "text": [
      "[-4999.35, 0.0, 0.0, 0.0, 0.0, 0.0, 0.0, 0.0, 0.0, 0.0, -4999.5, -9999.0, -9999.0, -4999.5, 0.0, 0.0, -4999.5, -9999.0, -9999.0, -9999.0, -9999.0, -9999.0, -9999.0, -4999.5, 0.0]\n"
     ]
    }
   ],
   "source": [
    "#Air Temp CRN:\n",
    "with open('CRNS0101-05-2022-AL_Gadsden_19_N.txt') as f:\n",
    "    lst=[line.split()[9] for line in f]\n",
    "    \n",
    "    a=(float(lst[29735])+float(lst[29736]))/2\n",
    "    b=(float(lst[29747])+float(lst[29748]))/2\n",
    "    c=(float(lst[29759])+float(lst[29760]))/2\n",
    "    d=(float(lst[29771])+float(lst[29772]))/2\n",
    "    e=(float(lst[29783])+float(lst[29784]))/2\n",
    "    f=(float(lst[29795])+float(lst[29796]))/2\n",
    "    g=(float(lst[29807])+float(lst[29808]))/2\n",
    "    h=(float(lst[29819])+float(lst[29820]))/2\n",
    "    i=(float(lst[29831])+float(lst[29832]))/2\n",
    "    j=(float(lst[29843])+float(lst[29844]))/2\n",
    "    k=(float(lst[29855])+float(lst[29856]))/2\n",
    "    l=(float(lst[29867])+float(lst[29868]))/2\n",
    "    m=(float(lst[29879])+float(lst[29880]))/2\n",
    "    n=(float(lst[29891])+float(lst[29892]))/2\n",
    "    o=(float(lst[29903])+float(lst[29904]))/2\n",
    "    p=(float(lst[29915])+float(lst[29916]))/2\n",
    "    q=(float(lst[29927])+float(lst[29928]))/2\n",
    "    r=(float(lst[29939])+float(lst[29940]))/2\n",
    "    s=(float(lst[29951])+float(lst[29952]))/2\n",
    "    t=(float(lst[29963])+float(lst[29964]))/2\n",
    "    u=(float(lst[29975])+float(lst[29976]))/2\n",
    "    v=(float(lst[29987])+float(lst[29988]))/2\n",
    "    w=(float(lst[29999])+float(lst[30000]))/2\n",
    "    x=(float(lst[30011])+float(lst[30012]))/2\n",
    "    y=(float(lst[30023])+float(lst[30024]))/2\n",
    "    temp_crn=[a,b,c,d,e,f,g,h,i,j,k,l,m,n,o,p,q,r,s,t,u,v,w,x,y]\n",
    "    #temp_crn=np.cumsum(temp_crn)\n",
    "    print(temp_crn)"
   ]
  },
  {
   "cell_type": "code",
   "execution_count": 146,
   "id": "37b874ca",
   "metadata": {},
   "outputs": [],
   "source": [
    "# difference4_newt = []\n",
    "\n",
    "# zip_object = zip(temp, temp_crn)\n",
    "# for temp_i, temp_crn_i in zip_object:\n",
    "#     difference4_newt.append(temp_i-temp_crn_i)\n",
    "\n",
    "# print(difference4_newt)"
   ]
  },
  {
   "cell_type": "code",
   "execution_count": 147,
   "id": "d5fd370b",
   "metadata": {},
   "outputs": [
    {
     "name": "stdout",
     "output_type": "stream",
     "text": [
      "[ 1.3903  2.3796  6.0533  9.191  11.0666 15.5725 17.4989 18.4399 19.683\n",
      " 19.7908 19.9627 20.0657 20.0776 20.0895 20.1008 21.022  21.0243 21.1729\n",
      " 21.2132 21.2979 21.2992 21.2996 21.3026 21.3203 21.3309]\n",
      "[ 1.78265931  3.47314472  6.69446716 10.55897554 11.09843659 12.88386328\n",
      " 13.62874849 13.45408388 12.97442243 12.89377501 12.79676774 12.77198904\n",
      " 12.79551018 12.82159952 12.82047465 12.83682769 12.83842945 12.75848125\n",
      " 12.73859906 12.70046234 12.70071771 12.70054964 12.70100996 12.70009079\n",
      " 12.70902638]\n"
     ]
    },
    {
     "data": {
      "text/plain": [
       "25"
      ]
     },
     "execution_count": 147,
     "metadata": {},
     "output_type": "execute_result"
    }
   ],
   "source": [
    "# data = np.array([difference1_sal,difference1_sel,difference1_mon])\n",
    "# np.ma.average(data, axis=0)\n",
    "c1 = np.array([difference1_bat,difference1_laf,difference1_mon,difference1_hol,difference1_new,difference1_gai,difference1_fai,difference1_sel,difference1_bow,difference1_newt])\n",
    "c1=np.nanmean(c1, axis=0)\n",
    "print(c1)\n",
    "len(c1)\n",
    "\n",
    "b1 = np.array([difference1_bat,difference1_laf,difference1_mon,difference1_hol,difference1_new,difference1_gai,difference1_fai,difference1_sel,difference1_bow,difference1_newt])\n",
    "b1=np.nanstd(b1, axis=0)\n",
    "print(b1)\n",
    "len(b1)"
   ]
  },
  {
   "cell_type": "code",
   "execution_count": 148,
   "id": "7d6e3e43",
   "metadata": {},
   "outputs": [
    {
     "data": {
      "image/png": "[encoded data removed]",
      "text/plain": [
       "<Figure size 792x396 with 1 Axes>"
      ]
     },
     "metadata": {},
     "output_type": "display_data"
    }
   ],
   "source": [
    "plt.style.use('seaborn-whitegrid')\n",
    "plt.rcParams[\"figure.figsize\"] = [11.00, 5.50]\n",
    "plt.rcParams[\"figure.autolayout\"] = True\n",
    "plt.yticks(np.arange(-5,6,1))\n",
    "plt.ylim(-5,5)\n",
    "# c[6]=None\n",
    "# b[6]=None\n",
    "\n",
    "plt.plot(hour,c1,c=\"black\")\n",
    "plt.errorbar(hour,c1,yerr=b1,linestyle='None', marker='s')\n",
    "# c[6]=None\n",
    "# b[6]=None\n",
    "\n",
    "plt.title(\"12-hr Avg. MBE All Stations\")\n",
    "plt.xlabel(\"Time Relative to Event Passage\")\n",
    "plt.ylabel(\"MBE Air Temperature (C)\")\n",
    "#plt.plot(hour,c)\n",
    "#plt.errorbar(hour,c,yerr=b,ecolor='r',elinewidth=5,fmt='s',color='k')\n",
    "#plt.grid()\n",
    "plt.xticks(np.arange(min(hour), max(hour)+1, 1.0))\n",
    "plt.show()\n",
    "#plt.axvspan(-4, 4, color='green', alpha=0.2, lw=0)"
   ]
  },
  {
   "cell_type": "code",
   "execution_count": 149,
   "id": "3931d44b",
   "metadata": {},
   "outputs": [
    {
     "name": "stdout",
     "output_type": "stream",
     "text": [
      "[ 0.08554545  0.42236364  3.57081818  8.73881818 13.43981818 20.0122\n",
      " 25.4914     26.7353     26.31218182 26.91545455 26.92827273 26.91909091\n",
      " 27.06818182 27.07527273 27.07672727 27.09045455 27.09618182 27.09827273\n",
      " 27.099      27.09936364 27.10118182 27.10236364 27.10372727 27.11154545\n",
      " 27.16527273]\n",
      "[ 0.25488691  0.96767709  6.82429337 12.34362253 15.35783732 16.37272377\n",
      " 14.73652438 15.11971596 15.68706049 16.43169086 16.40817322 16.36765059\n",
      " 16.44008743 16.44076406 16.44353593 16.4774706  16.48571482 16.4904375\n",
      " 16.49230013 16.49196785 16.49662497 16.49744104 16.49619637 16.50265151\n",
      " 16.45457032]\n"
     ]
    },
    {
     "name": "stderr",
     "output_type": "stream",
     "text": [
      "C:\\Users\\panwalaf\\AppData\\Local\\Temp\\ipykernel_22424\\1983168745.py:1: UserWarning: Warning: converting a masked element to nan.\n",
      "  c2 = np.array([difference2_sal,difference2_bat,difference2_laf,difference2_mon,difference2_hol,difference2_new,difference2_gai,difference2_fai,difference2_sel,difference2_bow,difference2_newt])\n",
      "C:\\Users\\panwalaf\\AppData\\Local\\Temp\\ipykernel_22424\\1983168745.py:6: UserWarning: Warning: converting a masked element to nan.\n",
      "  b2 = np.array([difference2_sal,difference2_bat,difference2_laf,difference2_mon,difference2_hol,difference2_new,difference2_gai,difference2_fai,difference2_sel,difference2_bow,difference2_newt])\n"
     ]
    },
    {
     "data": {
      "text/plain": [
       "25"
      ]
     },
     "execution_count": 149,
     "metadata": {},
     "output_type": "execute_result"
    }
   ],
   "source": [
    "c2 = np.array([difference2_sal,difference2_bat,difference2_laf,difference2_mon,difference2_hol,difference2_new,difference2_gai,difference2_fai,difference2_sel,difference2_bow,difference2_newt])\n",
    "c2=np.nanmean(c2, axis=0)\n",
    "print(c2)\n",
    "len(c2)\n",
    "\n",
    "b2 = np.array([difference2_sal,difference2_bat,difference2_laf,difference2_mon,difference2_hol,difference2_new,difference2_gai,difference2_fai,difference2_sel,difference2_bow,difference2_newt])\n",
    "b2=np.nanstd(b2, axis=0)\n",
    "print(b2)\n",
    "len(b2)"
   ]
  },
  {
   "cell_type": "code",
   "execution_count": 150,
   "id": "4c8ac8a3",
   "metadata": {},
   "outputs": [
    {
     "data": {
      "image/png": "[encoded data removed]",
      "text/plain": [
       "<Figure size 792x396 with 1 Axes>"
      ]
     },
     "metadata": {},
     "output_type": "display_data"
    }
   ],
   "source": [
    "plt.style.use('seaborn-whitegrid')\n",
    "plt.rcParams[\"figure.figsize\"] = [11.00, 5.50]\n",
    "plt.rcParams[\"figure.autolayout\"] = True\n",
    "plt.yticks(np.arange(-5,6,1))\n",
    "plt.ylim(-5,5)\n",
    "# c[6]=None\n",
    "# b[6]=None\n",
    "\n",
    "plt.plot(hour,c2,c=\"black\")\n",
    "plt.errorbar(hour,c2,c=\"r\",yerr=b2,linestyle='None', marker='s')\n",
    "# c[6]=None\n",
    "# b[6]=None\n",
    "\n",
    "plt.title(\"12-hr Avg. MBE All Stations\")\n",
    "plt.xlabel(\"Time Relative to Event Passage\")\n",
    "plt.ylabel(\"MBE Air Temperature (C)\")\n",
    "#plt.plot(hour,c)\n",
    "#plt.errorbar(hour,c,yerr=b,ecolor='r',elinewidth=5,fmt='s',color='k')\n",
    "#plt.grid()\n",
    "plt.xticks(np.arange(min(hour), max(hour)+1, 1.0))\n",
    "plt.show()\n",
    "#plt.axvspan(-4, 4, color='green', alpha=0.2, lw=0)"
   ]
  },
  {
   "cell_type": "code",
   "execution_count": 151,
   "id": "e7aee5e0",
   "metadata": {},
   "outputs": [
    {
     "name": "stdout",
     "output_type": "stream",
     "text": [
      "[ 2.08518182  6.32072727  7.523      12.53463636 14.91790909 16.08218182\n",
      " 16.42136364 16.86509091 17.18990909 17.23181818 17.29       18.94790909\n",
      " 18.95309091 18.95309091 18.95327273 18.95381818 18.97154545 18.97345455\n",
      " 18.97509091 19.24745455 19.41981818 19.44209091 19.43809091 20.872\n",
      " 21.644     ]\n",
      "[ 5.99967552 11.45985437 12.62051639 15.69373627 18.38583977 20.2221175\n",
      " 21.15684956 20.82972781 20.59351217 20.56470532 20.52941871 20.08591549\n",
      " 20.08258001 20.08258001 20.08253452 20.08203257 20.06554021 20.06395917\n",
      " 20.06409339 19.82764103 19.6965131  19.6842778  19.70090122 18.70243613\n",
      " 18.40970014]\n"
     ]
    },
    {
     "data": {
      "text/plain": [
       "25"
      ]
     },
     "execution_count": 151,
     "metadata": {},
     "output_type": "execute_result"
    }
   ],
   "source": [
    "c3 = np.array([difference3_sal,difference3_bat,difference3_laf,difference3_mon,difference3_hol,difference3_new,difference3_gai,difference3_fai,difference3_sel,difference3_bow,difference3_newt])\n",
    "c3=np.nanmean(c3, axis=0)\n",
    "print(c3)\n",
    "len(c3)\n",
    "\n",
    "b3 = np.array([difference3_sal,difference3_bat,difference3_laf,difference3_mon,difference3_hol,difference3_new,difference3_gai,difference3_fai,difference3_sel,difference3_bow,difference3_newt])\n",
    "b3=np.nanstd(b3, axis=0)\n",
    "print(b3)\n",
    "len(b3)"
   ]
  },
  {
   "cell_type": "code",
   "execution_count": 152,
   "id": "00a5e783",
   "metadata": {},
   "outputs": [
    {
     "data": {
      "image/png": "[encoded data removed]",
      "text/plain": [
       "<Figure size 792x396 with 1 Axes>"
      ]
     },
     "metadata": {},
     "output_type": "display_data"
    }
   ],
   "source": [
    "plt.style.use('seaborn-whitegrid')\n",
    "plt.rcParams[\"figure.figsize\"] = [11.00, 5.50]\n",
    "plt.rcParams[\"figure.autolayout\"] = True\n",
    "plt.yticks(np.arange(-5,6,1))\n",
    "plt.ylim(-5,5)\n",
    "# c[6]=None\n",
    "# b[6]=None\n",
    "\n",
    "plt.plot(hour,c3,c=\"green\")\n",
    "plt.errorbar(hour,c3,c=\"green\",yerr=b3,linestyle='None', marker='s')\n",
    "# c[6]=None\n",
    "# b[6]=None\n",
    "\n",
    "plt.title(\"12-hr Avg. MBE All Stations\")\n",
    "plt.xlabel(\"Time Relative to Event Passage\")\n",
    "plt.ylabel(\"MBE Air Temperature (C)\")\n",
    "#plt.plot(hour,c)\n",
    "#plt.errorbar(hour,c,yerr=b,ecolor='r',elinewidth=5,fmt='s',color='k')\n",
    "#plt.grid()\n",
    "plt.xticks(np.arange(min(hour), max(hour)+1, 1.0))\n",
    "plt.show()\n",
    "#plt.axvspan(-4, 4, color='green', alpha=0.2, lw=0)"
   ]
  },
  {
   "cell_type": "code",
   "execution_count": 153,
   "id": "b2d7f7dd",
   "metadata": {},
   "outputs": [
    {
     "name": "stdout",
     "output_type": "stream",
     "text": [
      "[ 2.7401  6.1537  8.2498 10.4587 13.687  16.5473 19.1401 20.0225 22.0793\n",
      " 23.0387 23.1082 23.1254 23.1303 23.1424 23.6966 23.7781 23.9315 24.1365\n",
      " 24.2305 24.3695 24.3857 24.3857 24.3857 24.3857 24.3857]\n",
      "[ 5.64077699 10.25114485 15.20587397 16.23553333 16.87839627 18.4150158\n",
      " 19.37446436 20.57777513 19.13250229 18.9040526  18.92891172 18.94341924\n",
      " 18.94765271 18.94225282 18.78283779 18.78389253 18.76191322 18.75014181\n",
      " 18.75148783 18.76124788 18.76298806 18.76298806 18.76298806 18.76298806\n",
      " 18.76298806]\n"
     ]
    },
    {
     "data": {
      "text/plain": [
       "25"
      ]
     },
     "execution_count": 153,
     "metadata": {},
     "output_type": "execute_result"
    }
   ],
   "source": [
    "c4 = np.array([difference4_sal,difference4_bat,difference4_laf,difference4_mon,difference4_hol,difference4_new,difference4_gai,difference4_fai,difference4_sel,difference4_bow])\n",
    "c4=np.nanmean(c4, axis=0)\n",
    "print(c4)\n",
    "len(c4)\n",
    "\n",
    "b4 = np.array([difference4_sal,difference4_bat,difference4_laf,difference4_mon,difference4_hol,difference4_new,difference4_gai,difference4_fai,difference4_sel,difference4_bow])\n",
    "b4=np.nanstd(b4, axis=0)\n",
    "print(b4)\n",
    "len(b4)"
   ]
  },
  {
   "cell_type": "code",
   "execution_count": 154,
   "id": "e70a6cef",
   "metadata": {},
   "outputs": [
    {
     "data": {
      "image/png": "[encoded data removed]",
      "text/plain": [
       "<Figure size 792x396 with 1 Axes>"
      ]
     },
     "metadata": {},
     "output_type": "display_data"
    }
   ],
   "source": [
    "plt.style.use('seaborn-whitegrid')\n",
    "plt.rcParams[\"figure.figsize\"] = [11.00, 5.50]\n",
    "plt.rcParams[\"figure.autolayout\"] = True\n",
    "plt.yticks(np.arange(-5,6,1))\n",
    "plt.ylim(-5,5)\n",
    "# c[6]=None\n",
    "# b[6]=None\n",
    "\n",
    "plt.plot(hour,c4,c=\"orange\")\n",
    "plt.errorbar(hour,c4,c=\"orange\",yerr=b4,linestyle='None', marker='s')\n",
    "# c[6]=None\n",
    "# b[6]=None\n",
    "\n",
    "plt.title(\"12-hr Avg. MBE All Stations\")\n",
    "plt.xlabel(\"Time Relative to Event Passage\")\n",
    "plt.ylabel(\"MBE Air Temperature (C)\")\n",
    "#plt.plot(hour,c)\n",
    "#plt.errorbar(hour,c,yerr=b,ecolor='r',elinewidth=5,fmt='s',color='k')\n",
    "#plt.grid()\n",
    "plt.xticks(np.arange(min(hour), max(hour)+1, 1.0))\n",
    "plt.show()\n",
    "#plt.axvspan(-4, 4, color='green', alpha=0.2, lw=0)"
   ]
  },
  {
   "cell_type": "code",
   "execution_count": 155,
   "id": "240eafe4",
   "metadata": {},
   "outputs": [
    {
     "data": {
      "image/png": "[encoded data removed]",
      "text/plain": [
       "<Figure size 792x396 with 1 Axes>"
      ]
     },
     "metadata": {},
     "output_type": "display_data"
    }
   ],
   "source": [
    "plt.style.use('seaborn-whitegrid')\n",
    "plt.rcParams[\"figure.figsize\"] = [11.00, 5.50]\n",
    "plt.rcParams[\"figure.autolayout\"] = True\n",
    "plt.yticks(np.arange(-60,75,15))\n",
    "plt.ylim(-60,60)\n",
    "\n",
    "plt.plot(hour,c1,c=\"b\",label=\"IOP 1\")\n",
    "plt.errorbar(hour,c1,c=\"b\",yerr=b1,linestyle='None', marker='s')\n",
    "\n",
    "plt.plot(hour,c2,c=\"r\",label=\"IOP 2\")\n",
    "plt.errorbar(hour,c2,c=\"r\",yerr=b2,linestyle='None', marker='s')\n",
    "\n",
    "plt.plot(hour,c3,c=\"green\")\n",
    "plt.errorbar(hour,c3,c=\"green\",yerr=b3,linestyle='None', marker='s')\n",
    "\n",
    "plt.plot(hour,c4,c=\"orange\")\n",
    "plt.errorbar(hour,c4,c=\"orange\",yerr=b4,linestyle='None', marker='s')\n",
    "\n",
    "plt.title(\"12-hr Avg. MBE All Stations\")\n",
    "plt.xlabel(\"Time Relative to Event Passage\")\n",
    "plt.ylabel(\"MBE Cumulative Precipitation (mm)\")\n",
    "#plt.plot(hour,c)\n",
    "#plt.errorbar(hour,c,yerr=b,ecolor='r',elinewidth=5,fmt='s',color='k')\n",
    "#plt.grid()\n",
    "plt.xticks(np.arange(min(hour), max(hour)+1, 1.0))\n",
    "plt.legend([\"IOP 1\", \"IOP 2\",\"IOP 3\",\"IOP 4\"], loc =\"lower right\")\n",
    "plt.show()"
   ]
  }
 ],
 "metadata": {
  "kernelspec": {
   "display_name": "Python 3 (ipykernel)",
   "language": "python",
   "name": "python3"
  },
  "language_info": {
   "codemirror_mode": {
    "name": "ipython",
    "version": 3
   },
   "file_extension": ".py",
   "mimetype": "text/x-python",
   "name": "python",
   "nbconvert_exporter": "python",
   "pygments_lexer": "ipython3",
   "version": "3.9.12"
  }
 },
 "nbformat": 4,
 "nbformat_minor": 5
}
