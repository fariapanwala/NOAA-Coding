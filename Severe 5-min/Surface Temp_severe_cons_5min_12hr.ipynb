{
 "cells": [
  {
   "cell_type": "code",
   "execution_count": 1,
   "id": "83d28093",
   "metadata": {},
   "outputs": [],
   "source": [
    "import numpy as np\n",
    "import matplotlib.pyplot as plt\n",
    "import math"
   ]
  },
  {
   "cell_type": "markdown",
   "id": "18ad22a0",
   "metadata": {},
   "source": [
    "<font size=\"3\">Salem, MO: 1200 UTC 22 March 2022-1200 UTC 23 March 2022</font>"
   ]
  },
  {
   "cell_type": "code",
   "execution_count": 2,
   "id": "9236619f",
   "metadata": {},
   "outputs": [
    {
     "name": "stdout",
     "output_type": "stream",
     "text": [
      "[10.83, 11.96, 12.46, 13.43, 14.24, 15.52, 16.08, 15.86, 15.7, 14.59, 13.11, 13.32, 12.68, 11.95, 12.22, 12.24, 11.43, 9.89999, 10.02, 9.37, 7.67001, 7.70999, 6.31, 6.81, 6.39001]\n",
      "25\n"
     ]
    }
   ],
   "source": [
    "#12 hr hrrr:\n",
    "with open('hrrr_f12_Salem_MO.txt') as f:\n",
    "    lst=[line.split()[4] for line in f]\n",
    "    temp=[]\n",
    "    for i in lst:\n",
    "        new=i.replace(',',\"\")\n",
    "        temp.append(new)\n",
    "    temp.pop(0)\n",
    "    temp=[float(x) for x in temp]\n",
    "    temp=temp[1920:1945]\n",
    "    #temp=temp[2015:2063]\n",
    "    print(temp)\n",
    "    print(len(temp))\n",
    "#full time period is [2015:2112]"
   ]
  },
  {
   "cell_type": "code",
   "execution_count": 3,
   "id": "e9d4dbcc",
   "metadata": {},
   "outputs": [
    {
     "name": "stdout",
     "output_type": "stream",
     "text": [
      "[9.75, 10.95, 11.4, 11.7, 12.149999999999999, 12.850000000000001, 13.85, 14.7, 14.2, 12.8, 13.25, 12.1, 11.7, 11.05, 10.75, 10.95, 9.5, 9.6, 8.1, 9.0, 6.85, 6.95, 6.4, 6.2, 6.3]\n"
     ]
    }
   ],
   "source": [
    "#Air Temp CRN:\n",
    "with open('CRNS0101-05-2022-MO_Salem_10_W.txt') as f:\n",
    "    lst=[line.split()[12] for line in f]\n",
    "\n",
    "    a=(float(lst[23183])+float(lst[23184]))/2\n",
    "    b=(float(lst[23195])+float(lst[23196]))/2\n",
    "    c=(float(lst[23207])+float(lst[23208]))/2\n",
    "    d=(float(lst[23219])+float(lst[23220]))/2\n",
    "    e=(float(lst[23231])+float(lst[23232]))/2\n",
    "    f=(float(lst[23243])+float(lst[23244]))/2\n",
    "    g=(float(lst[23255])+float(lst[23256]))/2\n",
    "    h=(float(lst[23267])+float(lst[23268]))/2\n",
    "    i=(float(lst[23279])+float(lst[23280]))/2\n",
    "    j=(float(lst[23291])+float(lst[23292]))/2\n",
    "    k=(float(lst[23303])+float(lst[23304]))/2\n",
    "    l=(float(lst[23315])+float(lst[23316]))/2\n",
    "    m=(float(lst[23327])+float(lst[23328]))/2\n",
    "    n=(float(lst[23339])+float(lst[23340]))/2\n",
    "    o=(float(lst[23351])+float(lst[23352]))/2\n",
    "    p=(float(lst[23363])+float(lst[23364]))/2\n",
    "    q=(float(lst[23375])+float(lst[23376]))/2\n",
    "    r=(float(lst[23387])+float(lst[23388]))/2\n",
    "    s=(float(lst[23399])+float(lst[23400]))/2\n",
    "    t=(float(lst[23411])+float(lst[23412]))/2\n",
    "    u=(float(lst[23423])+float(lst[23424]))/2\n",
    "    v=(float(lst[23435])+float(lst[23436]))/2\n",
    "    w=(float(lst[23447])+float(lst[23448]))/2\n",
    "    x=(float(lst[23459])+float(lst[23460]))/2\n",
    "    y=(float(lst[23471])+float(lst[23472]))/2\n",
    "    temp_crn=[a,b,c,d,e,f,g,h,i,j,k,l,m,n,o,p,q,r,s,t,u,v,w,x,y]\n",
    "    print(temp_crn)"
   ]
  },
  {
   "cell_type": "code",
   "execution_count": 4,
   "id": "1e9aed03-d99c-4045-812a-e26bcc99b84f",
   "metadata": {},
   "outputs": [
    {
     "name": "stdout",
     "output_type": "stream",
     "text": [
      "[1.08, 1.0100000000000016, 1.0600000000000005, 1.7300000000000004, 2.0900000000000016, 2.669999999999998, 2.2299999999999986, 1.1600000000000001, 1.5, 1.7899999999999991, -0.14000000000000057, 1.2200000000000006, 0.9800000000000004, 0.8999999999999986, 1.4700000000000006, 1.290000000000001, 1.9299999999999997, 0.2999900000000011, 1.92, 0.3699999999999992, 0.8200100000000008, 0.7599900000000002, -0.09000000000000075, 0.6099999999999994, 0.09001000000000037]\n"
     ]
    }
   ],
   "source": [
    "difference1_sal = []\n",
    "\n",
    "zip_object = zip(temp, temp_crn)\n",
    "for temp_i, temp_crn_i in zip_object:\n",
    "    difference1_sal.append(temp_i-temp_crn_i)\n",
    "\n",
    "print(difference1_sal)"
   ]
  },
  {
   "cell_type": "markdown",
   "id": "9043c519",
   "metadata": {},
   "source": [
    "<font size=\"3\">Batesville, AR: 1200 UTC 22 March 2022-1200 UTC 23 March 2022</font>"
   ]
  },
  {
   "cell_type": "code",
   "execution_count": 5,
   "id": "ee5d006f",
   "metadata": {},
   "outputs": [
    {
     "name": "stdout",
     "output_type": "stream",
     "text": [
      "[13.38, 13.29, 13.96, 16.33, 15.37, 16.24, 15.21, 14.41, 17.11, 16.5, 16.6, 14.61, 13.87, 13.46, 13.54, 13.62, 11.15, 9.32001, 8.64001, 8.61002, 7.61002, 6.16, 6.55002, 6.61002, 6.66]\n",
      "25\n"
     ]
    }
   ],
   "source": [
    "#12 hr hrrr:\n",
    "with open('hrrr_f12_Batesville_AR.txt') as f:\n",
    "    lst=[line.split()[4] for line in f]\n",
    "    temp=[]\n",
    "    for i in lst:\n",
    "        new=i.replace(',',\"\")\n",
    "        temp.append(new)\n",
    "    temp.pop(0)\n",
    "    temp=[float(x) for x in temp]\n",
    "    temp=temp[1920:1945]\n",
    "    #temp=temp[2015:2063]\n",
    "    print(temp)\n",
    "    print(len(temp))\n",
    "#full time period is [2015:2112]"
   ]
  },
  {
   "cell_type": "code",
   "execution_count": 6,
   "id": "1eabebb5",
   "metadata": {},
   "outputs": [
    {
     "name": "stdout",
     "output_type": "stream",
     "text": [
      "[12.7, 12.9, 12.9, 13.4, 13.05, 13.1, 13.1, 13.3, 14.5, 15.0, 13.8, 13.4, 12.9, 10.1, 12.5, 11.05, 9.850000000000001, 9.95, 9.05, 7.25, 7.0, 6.95, 6.75, 6.6, 6.6]\n"
     ]
    }
   ],
   "source": [
    "#Air Temp CRN:\n",
    "with open('CRNS0101-05-2022-AR_Batesville_8_WNW.txt') as f:\n",
    "    lst=[line.split()[12] for line in f]\n",
    "\n",
    "    a=(float(lst[23183])+float(lst[23184]))/2\n",
    "    b=(float(lst[23195])+float(lst[23196]))/2\n",
    "    c=(float(lst[23207])+float(lst[23208]))/2\n",
    "    d=(float(lst[23219])+float(lst[23220]))/2\n",
    "    e=(float(lst[23231])+float(lst[23232]))/2\n",
    "    f=(float(lst[23243])+float(lst[23244]))/2\n",
    "    g=(float(lst[23255])+float(lst[23256]))/2\n",
    "    h=(float(lst[23267])+float(lst[23268]))/2\n",
    "    i=(float(lst[23279])+float(lst[23280]))/2\n",
    "    j=(float(lst[23291])+float(lst[23292]))/2\n",
    "    k=(float(lst[23303])+float(lst[23304]))/2\n",
    "    l=(float(lst[23315])+float(lst[23316]))/2\n",
    "    m=(float(lst[23327])+float(lst[23328]))/2\n",
    "    n=(float(lst[23339])+float(lst[23340]))/2\n",
    "    o=(float(lst[23351])+float(lst[23352]))/2\n",
    "    p=(float(lst[23363])+float(lst[23364]))/2\n",
    "    q=(float(lst[23375])+float(lst[23376]))/2\n",
    "    r=(float(lst[23387])+float(lst[23388]))/2\n",
    "    s=(float(lst[23399])+float(lst[23400]))/2\n",
    "    t=(float(lst[23411])+float(lst[23412]))/2\n",
    "    u=(float(lst[23423])+float(lst[23424]))/2\n",
    "    v=(float(lst[23435])+float(lst[23436]))/2\n",
    "    w=(float(lst[23447])+float(lst[23448]))/2\n",
    "    x=(float(lst[23459])+float(lst[23460]))/2\n",
    "    y=(float(lst[23471])+float(lst[23472]))/2\n",
    "    temp_crn=[a,b,c,d,e,f,g,h,i,j,k,l,m,n,o,p,q,r,s,t,u,v,w,x,y]\n",
    "    print(temp_crn)"
   ]
  },
  {
   "cell_type": "code",
   "execution_count": 7,
   "id": "62a46873",
   "metadata": {},
   "outputs": [
    {
     "name": "stdout",
     "output_type": "stream",
     "text": [
      "[0.6800000000000015, 0.3899999999999988, 1.0600000000000005, 2.929999999999998, 2.3199999999999985, 3.139999999999999, 2.110000000000001, 1.1099999999999994, 2.6099999999999994, 1.5, 2.8000000000000007, 1.209999999999999, 0.9699999999999989, 3.360000000000001, 1.0399999999999991, 2.5699999999999985, 1.299999999999999, -0.6299899999999994, -0.4099900000000005, 1.3600200000000005, 0.6100199999999996, -0.79, -0.19998000000000005, 0.010019999999999918, 0.0600000000000005]\n"
     ]
    }
   ],
   "source": [
    "difference1_bat = []\n",
    "\n",
    "zip_object = zip(temp, temp_crn)\n",
    "for temp_i, temp_crn_i in zip_object:\n",
    "    difference1_bat.append(temp_i-temp_crn_i)\n",
    "\n",
    "print(difference1_bat)"
   ]
  },
  {
   "cell_type": "markdown",
   "id": "2a2589df",
   "metadata": {},
   "source": [
    "<font size=\"3\">Lafayette, LA: 1500 UTC 22 March 2022-1500 UTC 23 March 2022</font>"
   ]
  },
  {
   "cell_type": "code",
   "execution_count": 8,
   "id": "94433671",
   "metadata": {},
   "outputs": [
    {
     "name": "stdout",
     "output_type": "stream",
     "text": [
      "[25.7, 28.64, 26.55, 24.88, 22.65, 21.24, 22.64, 22.86, 19.85, 19.51, 18.74, 17.76, 17.6, 13.94, 11.62, 10.99, 10.1, 9.5, 8.76001, 8.34, 7.95999, 7.59, 8.42001, 10.73, 13.35]\n",
      "25\n"
     ]
    }
   ],
   "source": [
    "#12 hr hrrr:\n",
    "with open('hrrr_f12_Lafayette_LA.txt') as f:\n",
    "    lst=[line.split()[4] for line in f]\n",
    "    temp=[]\n",
    "    for i in lst:\n",
    "        new=i.replace(',',\"\")\n",
    "        temp.append(new)\n",
    "    temp.pop(0)\n",
    "    temp=[float(x) for x in temp]\n",
    "    temp=temp[1923:1948]\n",
    "    #temp=temp[2015:2063]\n",
    "    print(temp)\n",
    "    print(len(temp))\n",
    "#full time period is [2015:2112]"
   ]
  },
  {
   "cell_type": "code",
   "execution_count": 9,
   "id": "f946394b",
   "metadata": {},
   "outputs": [
    {
     "name": "stdout",
     "output_type": "stream",
     "text": [
      "[23.65, 23.25, 24.25, 23.4, 22.4, 19.85, 20.3, 21.1, 21.200000000000003, 17.049999999999997, 13.45, 12.45, 12.05, 14.75, 13.05, 10.850000000000001, 9.350000000000001, 7.65, 7.45, 5.65, 7.15, 6.7, 8.65, 11.850000000000001, 15.45]\n"
     ]
    }
   ],
   "source": [
    "#Air Temp CRN:\n",
    "with open('CRNS0101-05-2022-LA_Lafayette_13_SE.txt') as f:\n",
    "    lst=[line.split()[12] for line in f]\n",
    "\n",
    "    a=(float(lst[23219])+float(lst[23220]))/2\n",
    "    b=(float(lst[23231])+float(lst[23232]))/2\n",
    "    c=(float(lst[23243])+float(lst[23244]))/2\n",
    "    d=(float(lst[23255])+float(lst[23256]))/2\n",
    "    e=(float(lst[23267])+float(lst[23268]))/2\n",
    "    f=(float(lst[23279])+float(lst[23280]))/2\n",
    "    g=(float(lst[23291])+float(lst[23292]))/2\n",
    "    h=(float(lst[23303])+float(lst[23304]))/2\n",
    "    i=(float(lst[23315])+float(lst[23316]))/2\n",
    "    j=(float(lst[23327])+float(lst[23328]))/2\n",
    "    k=(float(lst[23339])+float(lst[23340]))/2\n",
    "    l=(float(lst[23351])+float(lst[23352]))/2\n",
    "    m=(float(lst[23363])+float(lst[23364]))/2\n",
    "    n=(float(lst[23375])+float(lst[23376]))/2\n",
    "    o=(float(lst[23387])+float(lst[23388]))/2\n",
    "    p=(float(lst[23399])+float(lst[23400]))/2\n",
    "    q=(float(lst[23411])+float(lst[23412]))/2\n",
    "    r=(float(lst[23423])+float(lst[23424]))/2\n",
    "    s=(float(lst[23435])+float(lst[23436]))/2\n",
    "    t=(float(lst[23447])+float(lst[23448]))/2\n",
    "    u=(float(lst[23459])+float(lst[23460]))/2\n",
    "    v=(float(lst[23471])+float(lst[23472]))/2\n",
    "    w=(float(lst[23483])+float(lst[23484]))/2\n",
    "    x=(float(lst[23495])+float(lst[23496]))/2\n",
    "    y=(float(lst[23507])+float(lst[23508]))/2\n",
    "    temp_crn=[a,b,c,d,e,f,g,h,i,j,k,l,m,n,o,p,q,r,s,t,u,v,w,x,y]\n",
    "    print(temp_crn)"
   ]
  },
  {
   "cell_type": "code",
   "execution_count": 10,
   "id": "9b94d0f9",
   "metadata": {},
   "outputs": [
    {
     "name": "stdout",
     "output_type": "stream",
     "text": [
      "[2.0500000000000007, 5.390000000000001, 2.3000000000000007, 1.4800000000000004, 0.25, 1.389999999999997, 2.34, 1.759999999999998, -1.3500000000000014, 2.4600000000000044, 5.289999999999999, 5.310000000000002, 5.550000000000001, -0.8100000000000005, -1.4300000000000015, 0.1399999999999988, 0.7499999999999982, 1.8499999999999996, 1.3100099999999992, 2.6899999999999995, 0.80999, 0.8899999999999997, -0.2299900000000008, -1.120000000000001, -2.0999999999999996]\n"
     ]
    }
   ],
   "source": [
    "difference1_laf = []\n",
    "\n",
    "zip_object = zip(temp, temp_crn)\n",
    "for temp_i, temp_crn_i in zip_object:\n",
    "    difference1_laf.append(temp_i-temp_crn_i)\n",
    "\n",
    "print(difference1_laf)"
   ]
  },
  {
   "cell_type": "markdown",
   "id": "7a8d079f",
   "metadata": {},
   "source": [
    "<font size=\"3\">Monroe, LA: 1500 UTC 22 March 2022-1500 UTC 23 March 2022</font>"
   ]
  },
  {
   "cell_type": "code",
   "execution_count": 11,
   "id": "821d447a",
   "metadata": {},
   "outputs": [
    {
     "name": "stdout",
     "output_type": "stream",
     "text": [
      "[16.29, 15.93, 15.74, 16.74, 20.68, 17.72, 19.43, 19.81, 18.04, 16.12, 16.08, 14.39, 11.92, 10.33, 9.92999, 9.39999, 8.5, 7.95999, 7.29001, 6.38, 6.73001, 6.47, 6.53, 7.35001, 8.39001]\n",
      "25\n"
     ]
    }
   ],
   "source": [
    "#12 hr hrrr:\n",
    "with open('hrrr_f12_Monroe_LA.txt') as f:\n",
    "    lst=[line.split()[4] for line in f]\n",
    "    temp=[]\n",
    "    for i in lst:\n",
    "        new=i.replace(',',\"\")\n",
    "        temp.append(new)\n",
    "    temp.pop(0)\n",
    "    temp=[float(x) for x in temp]\n",
    "    temp=temp[1923:1948]\n",
    "    #temp=temp[2015:2063]\n",
    "    print(temp)\n",
    "    print(len(temp))\n",
    "#full time period is [2015:2112]"
   ]
  },
  {
   "cell_type": "code",
   "execution_count": 12,
   "id": "210341da",
   "metadata": {},
   "outputs": [
    {
     "name": "stdout",
     "output_type": "stream",
     "text": [
      "[14.0, 14.0, 13.7, 13.649999999999999, 15.3, 15.5, 15.5, 15.600000000000001, 15.1, 14.7, 14.5, 11.5, 10.25, 9.55, 9.7, 9.5, 8.850000000000001, 8.350000000000001, 8.3, 8.2, 8.2, 8.2, 8.25, 9.0, 9.95]\n"
     ]
    }
   ],
   "source": [
    "#Air Temp CRN:\n",
    "with open('CRNS0101-05-2022-LA_Monroe_26_N.txt') as f:\n",
    "    lst=[line.split()[12] for line in f]\n",
    "\n",
    "    a=(float(lst[23219])+float(lst[23220]))/2\n",
    "    b=(float(lst[23231])+float(lst[23232]))/2\n",
    "    c=(float(lst[23243])+float(lst[23244]))/2\n",
    "    d=(float(lst[23255])+float(lst[23256]))/2\n",
    "    e=(float(lst[23267])+float(lst[23268]))/2\n",
    "    f=(float(lst[23279])+float(lst[23280]))/2\n",
    "    g=(float(lst[23291])+float(lst[23292]))/2\n",
    "    h=(float(lst[23303])+float(lst[23304]))/2\n",
    "    i=(float(lst[23315])+float(lst[23316]))/2\n",
    "    j=(float(lst[23327])+float(lst[23328]))/2\n",
    "    k=(float(lst[23339])+float(lst[23340]))/2\n",
    "    l=(float(lst[23351])+float(lst[23352]))/2\n",
    "    m=(float(lst[23363])+float(lst[23364]))/2\n",
    "    n=(float(lst[23375])+float(lst[23376]))/2\n",
    "    o=(float(lst[23387])+float(lst[23388]))/2\n",
    "    p=(float(lst[23399])+float(lst[23400]))/2\n",
    "    q=(float(lst[23411])+float(lst[23412]))/2\n",
    "    r=(float(lst[23423])+float(lst[23424]))/2\n",
    "    s=(float(lst[23435])+float(lst[23436]))/2\n",
    "    t=(float(lst[23447])+float(lst[23448]))/2\n",
    "    u=(float(lst[23459])+float(lst[23460]))/2\n",
    "    v=(float(lst[23471])+float(lst[23472]))/2\n",
    "    w=(float(lst[23483])+float(lst[23484]))/2\n",
    "    x=(float(lst[23495])+float(lst[23496]))/2\n",
    "    y=(float(lst[23507])+float(lst[23508]))/2\n",
    "    temp_crn=[a,b,c,d,e,f,g,h,i,j,k,l,m,n,o,p,q,r,s,t,u,v,w,x,y]\n",
    "    print(temp_crn)"
   ]
  },
  {
   "cell_type": "code",
   "execution_count": 13,
   "id": "2b4e383a",
   "metadata": {},
   "outputs": [
    {
     "name": "stdout",
     "output_type": "stream",
     "text": [
      "[2.289999999999999, 1.9299999999999997, 2.040000000000001, 3.09, 5.379999999999999, 2.219999999999999, 3.9299999999999997, 4.209999999999997, 2.9399999999999995, 1.4200000000000017, 1.5799999999999983, 2.8900000000000006, 1.67, 0.7799999999999994, 0.2299900000000008, -0.10000999999999927, -0.3500000000000014, -0.3900100000000011, -1.009990000000001, -1.8199999999999994, -1.4699899999999992, -1.7299999999999995, -1.7199999999999998, -1.6499899999999998, -1.559989999999999]\n"
     ]
    }
   ],
   "source": [
    "difference1_mon = []\n",
    "\n",
    "zip_object = zip(temp, temp_crn)\n",
    "for temp_i, temp_crn_i in zip_object:\n",
    "    difference1_mon.append(temp_i-temp_crn_i)\n",
    "\n",
    "print(difference1_mon)"
   ]
  },
  {
   "cell_type": "markdown",
   "id": "26c585ff",
   "metadata": {},
   "source": [
    "<font size=\"3\">Holly Springs, MS: 1800 UTC 22 March 2022-1800 UTC 23 March 2022</font>"
   ]
  },
  {
   "cell_type": "code",
   "execution_count": 14,
   "id": "4504c8c6",
   "metadata": {},
   "outputs": [
    {
     "name": "stdout",
     "output_type": "stream",
     "text": [
      "[19.24, 22.83, 16.24, 17.67, 17.09, 16.47, 16.69, 16.38, 16.72, 16.75, 15.73, 14.49, 14.46, 13.66, 12.09, 10.84, 10.66, 9.08002, 7.92001, 7.63, 7.51001, 9.45001, 8.81, 7.95999, 7.91]\n",
      "25\n"
     ]
    }
   ],
   "source": [
    "#12 hr hrrr:\n",
    "with open('hrrr_f12_Holly Springs_MS.txt') as f:\n",
    "    lst=[line.split()[4] for line in f]\n",
    "    temp=[]\n",
    "    for i in lst:\n",
    "        new=i.replace(',',\"\")\n",
    "        temp.append(new)\n",
    "    temp.pop(0)\n",
    "    temp=[float(x) for x in temp]\n",
    "    temp=temp[1926:1951]\n",
    "    #temp=temp[2015:2063]\n",
    "    print(temp)\n",
    "    print(len(temp))\n",
    "#full time period is [2015:2112]"
   ]
  },
  {
   "cell_type": "code",
   "execution_count": 15,
   "id": "d0ee337a",
   "metadata": {},
   "outputs": [
    {
     "name": "stdout",
     "output_type": "stream",
     "text": [
      "[13.8, 12.6, 12.6, 12.6, 12.7, 13.7, 13.5, 13.25, 13.7, 14.1, 13.75, 13.45, 13.2, 12.6, 12.25, 11.3, 10.4, 9.649999999999999, 9.1, 9.1, 9.149999999999999, 8.95, 8.75, 11.7, 11.149999999999999]\n"
     ]
    }
   ],
   "source": [
    "#Air Temp CRN:\n",
    "with open('CRNS0101-05-2022-MS_Holly_Springs_4_N.txt') as f:\n",
    "    lst=[line.split()[12] for line in f]\n",
    "\n",
    "    a=(float(lst[23255])+float(lst[23256]))/2\n",
    "    b=(float(lst[23267])+float(lst[23268]))/2\n",
    "    c=(float(lst[23279])+float(lst[23280]))/2\n",
    "    d=(float(lst[23291])+float(lst[23292]))/2\n",
    "    e=(float(lst[23303])+float(lst[23304]))/2\n",
    "    f=(float(lst[23315])+float(lst[23316]))/2\n",
    "    g=(float(lst[23327])+float(lst[23328]))/2\n",
    "    h=(float(lst[23339])+float(lst[23340]))/2\n",
    "    i=(float(lst[23351])+float(lst[23352]))/2\n",
    "    j=(float(lst[23363])+float(lst[23364]))/2\n",
    "    k=(float(lst[23375])+float(lst[23376]))/2\n",
    "    l=(float(lst[23387])+float(lst[23388]))/2\n",
    "    m=(float(lst[23399])+float(lst[23400]))/2\n",
    "    n=(float(lst[23411])+float(lst[23412]))/2\n",
    "    o=(float(lst[23423])+float(lst[23424]))/2\n",
    "    p=(float(lst[23435])+float(lst[23436]))/2\n",
    "    q=(float(lst[23447])+float(lst[23448]))/2\n",
    "    r=(float(lst[23459])+float(lst[23460]))/2\n",
    "    s=(float(lst[23471])+float(lst[23472]))/2\n",
    "    t=(float(lst[23483])+float(lst[23484]))/2\n",
    "    u=(float(lst[23495])+float(lst[23496]))/2\n",
    "    v=(float(lst[23507])+float(lst[23508]))/2\n",
    "    w=(float(lst[23519])+float(lst[23520]))/2\n",
    "    x=(float(lst[23531])+float(lst[23532]))/2\n",
    "    y=(float(lst[23543])+float(lst[23544]))/2\n",
    "    temp_crn=[a,b,c,d,e,f,g,h,i,j,k,l,m,n,o,p,q,r,s,t,u,v,w,x,y]\n",
    "    print(temp_crn)"
   ]
  },
  {
   "cell_type": "code",
   "execution_count": 16,
   "id": "46b095cb",
   "metadata": {},
   "outputs": [
    {
     "name": "stdout",
     "output_type": "stream",
     "text": [
      "[5.439999999999998, 10.229999999999999, 3.639999999999999, 5.070000000000002, 4.390000000000001, 2.7699999999999996, 3.1900000000000013, 3.129999999999999, 3.0199999999999996, 2.6500000000000004, 1.9800000000000004, 1.040000000000001, 1.2600000000000016, 1.0600000000000005, -0.16000000000000014, -0.46000000000000085, 0.2599999999999998, -0.5699799999999993, -1.1799899999999992, -1.4699999999999998, -1.6399899999999983, 0.5000100000000014, 0.0600000000000005, -3.740009999999999, -3.2399999999999984]\n"
     ]
    }
   ],
   "source": [
    "difference1_hol = []\n",
    "\n",
    "zip_object = zip(temp, temp_crn)\n",
    "for temp_i, temp_crn_i in zip_object:\n",
    "    difference1_hol.append(temp_i-temp_crn_i)\n",
    "\n",
    "print(difference1_hol)"
   ]
  },
  {
   "cell_type": "markdown",
   "id": "1c76c308",
   "metadata": {},
   "source": [
    "<font size=\"3\">Newton, MS: 1800 UTC 22 March 2022-1800 UTC 23 March 2022</font>"
   ]
  },
  {
   "cell_type": "code",
   "execution_count": 17,
   "id": "a6fc5b55",
   "metadata": {},
   "outputs": [
    {
     "name": "stdout",
     "output_type": "stream",
     "text": [
      "[21.14, 21.16, 21.8, 22.28, 22.19, 21.75, 22.48, 20.91, 18.56, 19.48, 18.48, 16.68, 16.11, 15.51, 15.09, 12.05, 11.98, 11.84, 10.71, 9.55002, 10.91, 11.72, 13.57, 14.77, 13.51]\n",
      "25\n"
     ]
    }
   ],
   "source": [
    "#12 hr hrrr:\n",
    "with open('hrrr_f12_Newton_MS.txt') as f:\n",
    "    lst=[line.split()[4] for line in f]\n",
    "    temp=[]\n",
    "    for i in lst:\n",
    "        new=i.replace(',',\"\")\n",
    "        temp.append(new)\n",
    "    temp.pop(0)\n",
    "    temp=[float(x) for x in temp]\n",
    "    temp=temp[1926:1951]\n",
    "    #temp=temp[2015:2063]\n",
    "    print(temp)\n",
    "    print(len(temp))\n",
    "#full time period is [2015:2112]"
   ]
  },
  {
   "cell_type": "code",
   "execution_count": 18,
   "id": "449e8daa",
   "metadata": {},
   "outputs": [
    {
     "name": "stdout",
     "output_type": "stream",
     "text": [
      "[23.25, 20.0, 19.8, 16.5, 15.7, 15.8, 15.8, 15.7, 15.9, 15.95, 16.75, 15.5, 15.2, 14.45, 12.65, 12.35, 13.05, 11.75, 11.75, 11.4, 11.55, 12.3, 15.4, 21.799999999999997, 21.6]\n"
     ]
    }
   ],
   "source": [
    "#Air Temp CRN:\n",
    "with open('CRNS0101-05-2022-MS_Newton_5_ENE.txt') as f:\n",
    "    lst=[line.split()[12] for line in f]\n",
    "\n",
    "    a=(float(lst[23255])+float(lst[23256]))/2\n",
    "    b=(float(lst[23267])+float(lst[23268]))/2\n",
    "    c=(float(lst[23279])+float(lst[23280]))/2\n",
    "    d=(float(lst[23291])+float(lst[23292]))/2\n",
    "    e=(float(lst[23303])+float(lst[23304]))/2\n",
    "    f=(float(lst[23315])+float(lst[23316]))/2\n",
    "    g=(float(lst[23327])+float(lst[23328]))/2\n",
    "    h=(float(lst[23339])+float(lst[23340]))/2\n",
    "    i=(float(lst[23351])+float(lst[23352]))/2\n",
    "    j=(float(lst[23363])+float(lst[23364]))/2\n",
    "    k=(float(lst[23375])+float(lst[23376]))/2\n",
    "    l=(float(lst[23387])+float(lst[23388]))/2\n",
    "    m=(float(lst[23399])+float(lst[23400]))/2\n",
    "    n=(float(lst[23411])+float(lst[23412]))/2\n",
    "    o=(float(lst[23423])+float(lst[23424]))/2\n",
    "    p=(float(lst[23435])+float(lst[23436]))/2\n",
    "    q=(float(lst[23447])+float(lst[23448]))/2\n",
    "    r=(float(lst[23459])+float(lst[23460]))/2\n",
    "    s=(float(lst[23471])+float(lst[23472]))/2\n",
    "    t=(float(lst[23483])+float(lst[23484]))/2\n",
    "    u=(float(lst[23495])+float(lst[23496]))/2\n",
    "    v=(float(lst[23507])+float(lst[23508]))/2\n",
    "    w=(float(lst[23519])+float(lst[23520]))/2\n",
    "    x=(float(lst[23531])+float(lst[23532]))/2\n",
    "    y=(float(lst[23543])+float(lst[23544]))/2\n",
    "    temp_crn=[a,b,c,d,e,f,g,h,i,j,k,l,m,n,o,p,q,r,s,t,u,v,w,x,y]\n",
    "    print(temp_crn)"
   ]
  },
  {
   "cell_type": "code",
   "execution_count": 19,
   "id": "e588ab70",
   "metadata": {},
   "outputs": [
    {
     "name": "stdout",
     "output_type": "stream",
     "text": [
      "[-2.1099999999999994, 1.1600000000000001, 2.0, 5.780000000000001, 6.490000000000002, 5.949999999999999, 6.68, 5.210000000000001, 2.6599999999999984, 3.530000000000001, 1.7300000000000004, 1.1799999999999997, 0.9100000000000001, 1.0600000000000005, 2.4399999999999995, -0.29999999999999893, -1.0700000000000003, 0.08999999999999986, -1.0399999999999991, -1.8499800000000004, -0.6400000000000006, -0.5800000000000001, -1.83, -7.029999999999998, -8.090000000000002]\n"
     ]
    }
   ],
   "source": [
    "difference1_new = []\n",
    "\n",
    "zip_object = zip(temp, temp_crn)\n",
    "for temp_i, temp_crn_i in zip_object:\n",
    "    difference1_new.append(temp_i-temp_crn_i)\n",
    "\n",
    "print(difference1_new)"
   ]
  },
  {
   "cell_type": "markdown",
   "id": "c9620694",
   "metadata": {},
   "source": [
    "<font size=\"3\">Gainesville, AL: 2200 UTC 22 March 2022-2200 UTC 23 March 2022</font>"
   ]
  },
  {
   "cell_type": "code",
   "execution_count": 20,
   "id": "038fabb5",
   "metadata": {},
   "outputs": [
    {
     "name": "stdout",
     "output_type": "stream",
     "text": [
      "[21.09, 20.66, 20.48, 20.2, 20.31, 20.54, 19.4, 19.31, 18.87, 16.3, 15.74, 15.85, 14.9, 14.01, 13.42, 12.93, 12.46, 13.8, 14.01, 15.86, 16.42, 16.05, 15.88, 14.62, 12.55]\n",
      "25\n"
     ]
    }
   ],
   "source": [
    "#12 hr hrrr:\n",
    "with open('hrrr_f12_Gainesville_AL.txt') as f:\n",
    "    lst=[line.split()[4] for line in f]\n",
    "    temp=[]\n",
    "    for i in lst:\n",
    "        new=i.replace(',',\"\")\n",
    "        temp.append(new)\n",
    "    temp.pop(0)\n",
    "    temp=[float(x) for x in temp]\n",
    "    temp=temp[1930:1955]\n",
    "    #temp=temp[2015:2063]\n",
    "    print(temp)\n",
    "    print(len(temp))\n",
    "#full time period is [2015:2112]"
   ]
  },
  {
   "cell_type": "code",
   "execution_count": 21,
   "id": "dc289aee",
   "metadata": {},
   "outputs": [
    {
     "name": "stdout",
     "output_type": "stream",
     "text": [
      "[-9999.0, -9999.0, -9999.0, -9999.0, -9999.0, -9999.0, -9999.0, -9999.0, -9999.0, -9999.0, -9999.0, -9999.0, -9999.0, -9999.0, -9999.0, -9999.0, -9999.0, -9999.0, -9999.0, -9999.0, -9999.0, -9999.0, -9999.0, -9999.0, -9999.0]\n"
     ]
    }
   ],
   "source": [
    "#Air Temp CRN:\n",
    "with open('CRNS0101-05-2022-AL_Gainesville_2_NE.txt') as f:\n",
    "    lst=[line.split()[12] for line in f]\n",
    "\n",
    "    a=(float(lst[23303])+float(lst[23304]))/2\n",
    "    b=(float(lst[23315])+float(lst[23316]))/2\n",
    "    c=(float(lst[23327])+float(lst[23328]))/2\n",
    "    d=(float(lst[23339])+float(lst[23340]))/2\n",
    "    e=(float(lst[23351])+float(lst[23352]))/2\n",
    "    f=(float(lst[23363])+float(lst[23364]))/2\n",
    "    g=(float(lst[23375])+float(lst[23376]))/2\n",
    "    h=(float(lst[23387])+float(lst[23388]))/2\n",
    "    i=(float(lst[23399])+float(lst[23400]))/2\n",
    "    j=(float(lst[23411])+float(lst[23412]))/2\n",
    "    k=(float(lst[23423])+float(lst[23424]))/2\n",
    "    l=(float(lst[23435])+float(lst[23436]))/2\n",
    "    m=(float(lst[23447])+float(lst[23448]))/2\n",
    "    n=(float(lst[23459])+float(lst[23460]))/2\n",
    "    o=(float(lst[23471])+float(lst[23472]))/2\n",
    "    p=(float(lst[23483])+float(lst[23484]))/2\n",
    "    q=(float(lst[23495])+float(lst[23496]))/2\n",
    "    r=(float(lst[23507])+float(lst[23508]))/2\n",
    "    s=(float(lst[23519])+float(lst[23520]))/2\n",
    "    t=(float(lst[23531])+float(lst[23532]))/2\n",
    "    u=(float(lst[23543])+float(lst[23544]))/2\n",
    "    v=(float(lst[23555])+float(lst[23556]))/2\n",
    "    w=(float(lst[23567])+float(lst[23568]))/2\n",
    "    x=(float(lst[23579])+float(lst[23580]))/2\n",
    "    y=(float(lst[23591])+float(lst[23592]))/2\n",
    "    temp_crn=[a,b,c,d,e,f,g,h,i,j,k,l,m,n,o,p,q,r,s,t,u,v,w,x,y]\n",
    "    print(temp_crn)"
   ]
  },
  {
   "cell_type": "code",
   "execution_count": 22,
   "id": "8df76a7b",
   "metadata": {},
   "outputs": [],
   "source": [
    "# difference1_gai = []\n",
    "\n",
    "# zip_object = zip(temp, temp_crn)\n",
    "# for temp_i, temp_crn_i in zip_object:\n",
    "#     difference1_gai.append(temp_i-temp_crn_i)\n",
    "\n",
    "# print(difference1_gai)"
   ]
  },
  {
   "cell_type": "markdown",
   "id": "2711dc15",
   "metadata": {},
   "source": [
    "<font size=\"3\">Fairhope, AL: 2200 UTC 22 March 2022-2200 UTC 23 March 2022</font>"
   ]
  },
  {
   "cell_type": "code",
   "execution_count": 23,
   "id": "b97b4753",
   "metadata": {},
   "outputs": [
    {
     "name": "stdout",
     "output_type": "stream",
     "text": [
      "[22.45, 22.3, 21.92, 21.87, 22.07, 22.11, 21.58, 21.9, 18.54, 16.29, 16.73, 16.93, 17.41, 18.08, 17.93, 17.8, 17.99, 16.96, 17.49, 15.73, 15.97, 18.63, 18.34, 18.72, 18.37]\n",
      "25\n"
     ]
    }
   ],
   "source": [
    "#12 hr hrrr:\n",
    "with open('hrrr_f12_Fairhope_AL.txt') as f:\n",
    "    lst=[line.split()[4] for line in f]\n",
    "    temp=[]\n",
    "    for i in lst:\n",
    "        new=i.replace(',',\"\")\n",
    "        temp.append(new)\n",
    "    temp.pop(0)\n",
    "    temp=[float(x) for x in temp]\n",
    "    temp=temp[1930:1955]\n",
    "    #temp=temp[2015:2063]\n",
    "    print(temp)\n",
    "    print(len(temp))\n",
    "#full time period is [2015:2112]"
   ]
  },
  {
   "cell_type": "code",
   "execution_count": 24,
   "id": "439b18c0",
   "metadata": {},
   "outputs": [
    {
     "name": "stdout",
     "output_type": "stream",
     "text": [
      "[23.049999999999997, 22.15, 22.0, 22.35, 22.200000000000003, 21.85, 20.049999999999997, 21.25, 18.35, 17.45, 17.200000000000003, 17.15, 16.15, 15.95, 15.6, 17.9, 20.05, 20.8, 21.8, 21.8, 25.15, 23.75, 22.6, 22.4, 19.75]\n"
     ]
    }
   ],
   "source": [
    "#Air Temp CRN:\n",
    "with open('CRNS0101-05-2022-AL_Fairhope_3_NE.txt') as f:\n",
    "    lst=[line.split()[12] for line in f]\n",
    "\n",
    "    a=(float(lst[23303])+float(lst[23304]))/2\n",
    "    b=(float(lst[23315])+float(lst[23316]))/2\n",
    "    c=(float(lst[23327])+float(lst[23328]))/2\n",
    "    d=(float(lst[23339])+float(lst[23340]))/2\n",
    "    e=(float(lst[23351])+float(lst[23352]))/2\n",
    "    f=(float(lst[23363])+float(lst[23364]))/2\n",
    "    g=(float(lst[23375])+float(lst[23376]))/2\n",
    "    h=(float(lst[23387])+float(lst[23388]))/2\n",
    "    i=(float(lst[23399])+float(lst[23400]))/2\n",
    "    j=(float(lst[23411])+float(lst[23412]))/2\n",
    "    k=(float(lst[23423])+float(lst[23424]))/2\n",
    "    l=(float(lst[23435])+float(lst[23436]))/2\n",
    "    m=(float(lst[23447])+float(lst[23448]))/2\n",
    "    n=(float(lst[23459])+float(lst[23460]))/2\n",
    "    o=(float(lst[23471])+float(lst[23472]))/2\n",
    "    p=(float(lst[23483])+float(lst[23484]))/2\n",
    "    q=(float(lst[23495])+float(lst[23496]))/2\n",
    "    r=(float(lst[23507])+float(lst[23508]))/2\n",
    "    s=(float(lst[23519])+float(lst[23520]))/2\n",
    "    t=(float(lst[23531])+float(lst[23532]))/2\n",
    "    u=(float(lst[23543])+float(lst[23544]))/2\n",
    "    v=(float(lst[23555])+float(lst[23556]))/2\n",
    "    w=(float(lst[23567])+float(lst[23568]))/2\n",
    "    x=(float(lst[23579])+float(lst[23580]))/2\n",
    "    y=(float(lst[23591])+float(lst[23592]))/2\n",
    "    temp_crn=[a,b,c,d,e,f,g,h,i,j,k,l,m,n,o,p,q,r,s,t,u,v,w,x,y]\n",
    "    print(temp_crn)"
   ]
  },
  {
   "cell_type": "code",
   "execution_count": 25,
   "id": "a9ff3306",
   "metadata": {},
   "outputs": [
    {
     "name": "stdout",
     "output_type": "stream",
     "text": [
      "[-0.5999999999999979, 0.15000000000000213, -0.0799999999999983, -0.4800000000000004, -0.13000000000000256, 0.259999999999998, 1.5300000000000011, 0.6499999999999986, 0.18999999999999773, -1.1600000000000001, -0.4700000000000024, -0.21999999999999886, 1.2600000000000016, 2.129999999999999, 2.33, -0.09999999999999787, -2.0600000000000023, -3.84, -4.310000000000002, -6.07, -9.179999999999998, -5.120000000000001, -4.260000000000002, -3.6799999999999997, -1.379999999999999]\n"
     ]
    }
   ],
   "source": [
    "difference1_fai = []\n",
    "\n",
    "zip_object = zip(temp, temp_crn)\n",
    "for temp_i, temp_crn_i in zip_object:\n",
    "    difference1_fai.append(temp_i-temp_crn_i)\n",
    "\n",
    "print(difference1_fai)"
   ]
  },
  {
   "cell_type": "markdown",
   "id": "f5dd4e4b",
   "metadata": {},
   "source": [
    "<font size=\"3\">**Selma, AL: 2200 UTC 22 March 2022-2200 UTC 23 March 2022</font>"
   ]
  },
  {
   "cell_type": "code",
   "execution_count": 26,
   "id": "af6b46b1",
   "metadata": {},
   "outputs": [
    {
     "name": "stdout",
     "output_type": "stream",
     "text": [
      "[25.92, 20.89, 20.06, 20.24, 19.6, 19.57, 19.76, 19.94, 18.52, 18.79, 18.46, 18.3, 17.69, 16.31, 16.05, 16.09, 17.13, 18.39, 18.07, 18.41, 17.35, 18.74, 18.34, 17.99, 16.15]\n"
     ]
    }
   ],
   "source": [
    "#1 hr hrrr:\n",
    "import numpy as np\n",
    "import numpy.ma as ma\n",
    "with open('hrrr_f12_Selma_AL.txt') as f:\n",
    "    lst=[line.split()[4] for line in f]\n",
    "    temp=[]\n",
    "    for i in lst:\n",
    "        new=i.replace(',',\"\")\n",
    "        temp.append(new)\n",
    "    temp.pop(0)\n",
    "    temp=[float(x) for x in temp]\n",
    "    temp=temp[1930:1955]\n",
    "\n",
    "#     x = np.array(temp)\n",
    "#     temp = ma.masked_array(x, mask=[0, 0, 0, 0, 0,0,0,0,0,0,0,0,0,0,0,0,0,1,1,1,1,0,0,0,0])\n",
    "    print(temp)"
   ]
  },
  {
   "cell_type": "code",
   "execution_count": 27,
   "id": "455c7133",
   "metadata": {},
   "outputs": [
    {
     "name": "stdout",
     "output_type": "stream",
     "text": [
      "[22.700000000000003 21.85 21.4 19.7 19.45 19.5 19.7 19.2 19.65 19.3 19.3\n",
      " 19.4 17.6 16.15 15.8 17.65 -- -- -- -- -- 24.65 24.9 24.0 21.25]\n"
     ]
    }
   ],
   "source": [
    "#Air Temp CRN:\n",
    "with open('CRNS0101-05-2022-AL_Selma_13_WNW.txt') as f:\n",
    "    lst=[line.split()[12] for line in f]\n",
    "\n",
    "    a=(float(lst[23303])+float(lst[23304]))/2\n",
    "    b=(float(lst[23315])+float(lst[23316]))/2\n",
    "    c=(float(lst[23327])+float(lst[23328]))/2\n",
    "    d=(float(lst[23339])+float(lst[23340]))/2\n",
    "    e=(float(lst[23351])+float(lst[23352]))/2\n",
    "    f=(float(lst[23363])+float(lst[23364]))/2\n",
    "    g=(float(lst[23375])+float(lst[23376]))/2\n",
    "    h=(float(lst[23387])+float(lst[23388]))/2\n",
    "    i=(float(lst[23399])+float(lst[23400]))/2\n",
    "    j=(float(lst[23411])+float(lst[23412]))/2\n",
    "    k=(float(lst[23423])+float(lst[23424]))/2\n",
    "    l=(float(lst[23435])+float(lst[23436]))/2\n",
    "    m=(float(lst[23447])+float(lst[23448]))/2\n",
    "    n=(float(lst[23459])+float(lst[23460]))/2\n",
    "    o=(float(lst[23471])+float(lst[23472]))/2\n",
    "    p=(float(lst[23483])+float(lst[23484]))/2\n",
    "    q=(float(lst[23495])+float(lst[23496]))/2\n",
    "    r=(float(lst[23507])+float(lst[23508]))/2\n",
    "    s=(float(lst[23519])+float(lst[23520]))/2\n",
    "    t=(float(lst[23531])+float(lst[23532]))/2\n",
    "    u=(float(lst[23543])+float(lst[23544]))/2\n",
    "    v=(float(lst[23555])+float(lst[23556]))/2\n",
    "    w=(float(lst[23567])+float(lst[23568]))/2\n",
    "    x=(float(lst[23579])+float(lst[23580]))/2\n",
    "    y=(float(lst[23591])+float(lst[23592]))/2\n",
    "    temp_crn=[a,b,c,d,e,f,g,h,i,j,k,l,m,n,o,p,q,r,s,t,u,v,w,x,y]\n",
    "    y = np.array(temp_crn)\n",
    "    temp_crn = ma.masked_array(y, mask=[0, 0, 0, 0, 0,0,0,0,0,0,0,0,0,0,0,0,1,1,1,1,1,0,0,0,0])\n",
    "    print(temp_crn)"
   ]
  },
  {
   "cell_type": "code",
   "execution_count": 28,
   "id": "3f4814e5",
   "metadata": {},
   "outputs": [
    {
     "name": "stdout",
     "output_type": "stream",
     "text": [
      "[3.219999999999999, -0.9600000000000009, -1.3399999999999999, 0.5399999999999991, 0.15000000000000213, 0.07000000000000028, 0.060000000000002274, 0.740000000000002, -1.129999999999999, -0.5100000000000016, -0.8399999999999999, -1.0999999999999979, 0.08999999999999986, 0.16000000000000014, 0.25, -1.5599999999999987, masked, masked, masked, masked, masked, -5.91, -6.559999999999999, -6.010000000000002, -5.100000000000001]\n"
     ]
    }
   ],
   "source": [
    "difference1_sel = []\n",
    "\n",
    "zip_object = zip(temp, temp_crn)\n",
    "for temp_i, temp_crn_i in zip_object:\n",
    "    difference1_sel.append(temp_i-temp_crn_i)\n",
    "\n",
    "print(difference1_sel)\n",
    "#print(len(difference1_sel))"
   ]
  },
  {
   "cell_type": "markdown",
   "id": "8fab4bdc",
   "metadata": {},
   "source": [
    "<font size=\"3\">Bowling Green, KY: 2300 UTC 22 March 2022-2300 UTC 23 March 2022</font>"
   ]
  },
  {
   "cell_type": "code",
   "execution_count": 29,
   "id": "ce9bcf66",
   "metadata": {},
   "outputs": [
    {
     "name": "stdout",
     "output_type": "stream",
     "text": [
      "[22.4, 21.21, 16.5, 16.17, 15.0, 14.64, 14.47, 14.05, 14.55, 14.82, 15.41, 14.85, 14.88, 14.83, 15.02, 16.55, 17.14, 15.8, 14.39, 13.96, 16.25, 13.4, 13.31, 10.98, 9.33002]\n",
      "25\n"
     ]
    }
   ],
   "source": [
    "#12 hr hrrr:\n",
    "with open('hrrr_f12_Bowling Green_KY.txt') as f:\n",
    "    lst=[line.split()[4] for line in f]\n",
    "    temp=[]\n",
    "    for i in lst:\n",
    "        new=i.replace(',',\"\")\n",
    "        temp.append(new)\n",
    "    temp.pop(0)\n",
    "    temp=[float(x) for x in temp]\n",
    "    temp=temp[1931:1956]\n",
    "    #temp=temp[2015:2063]\n",
    "    print(temp)\n",
    "    print(len(temp))\n",
    "#full time period is [2015:2112]"
   ]
  },
  {
   "cell_type": "code",
   "execution_count": 30,
   "id": "a1ea712c",
   "metadata": {},
   "outputs": [
    {
     "name": "stdout",
     "output_type": "stream",
     "text": [
      "[19.55, 16.0, 14.5, 14.55, 14.6, 14.55, 14.5, 13.6, 13.4, 14.0, 14.0, 13.6, 12.25, 13.55, 15.1, 17.5, 19.75, 20.55, 17.35, 19.0, 22.8, 16.6, 17.05, 13.100000000000001, 10.25]\n"
     ]
    }
   ],
   "source": [
    "#Air Temp CRN:\n",
    "with open('CRNS0101-05-2022-KY_Bowling_Green_21_NNE.txt') as f:\n",
    "    lst=[line.split()[12] for line in f]\n",
    "    \n",
    "    a=(float(lst[23315])+float(lst[23316]))/2\n",
    "    b=(float(lst[23327])+float(lst[23328]))/2\n",
    "    c=(float(lst[23339])+float(lst[23340]))/2\n",
    "    d=(float(lst[23351])+float(lst[23352]))/2\n",
    "    e=(float(lst[23363])+float(lst[23364]))/2\n",
    "    f=(float(lst[23375])+float(lst[23376]))/2\n",
    "    g=(float(lst[23387])+float(lst[23388]))/2\n",
    "    h=(float(lst[23399])+float(lst[23400]))/2\n",
    "    i=(float(lst[23411])+float(lst[23412]))/2\n",
    "    j=(float(lst[23423])+float(lst[23424]))/2\n",
    "    k=(float(lst[23435])+float(lst[23436]))/2\n",
    "    l=(float(lst[23447])+float(lst[23448]))/2\n",
    "    m=(float(lst[23459])+float(lst[23460]))/2\n",
    "    n=(float(lst[23471])+float(lst[23472]))/2\n",
    "    o=(float(lst[23483])+float(lst[23484]))/2\n",
    "    p=(float(lst[23495])+float(lst[23496]))/2\n",
    "    q=(float(lst[23507])+float(lst[23508]))/2\n",
    "    r=(float(lst[23519])+float(lst[23520]))/2\n",
    "    s=(float(lst[23531])+float(lst[23532]))/2\n",
    "    t=(float(lst[23543])+float(lst[23544]))/2\n",
    "    u=(float(lst[23555])+float(lst[23556]))/2\n",
    "    v=(float(lst[23567])+float(lst[23568]))/2\n",
    "    w=(float(lst[23579])+float(lst[23580]))/2\n",
    "    x=(float(lst[23591])+float(lst[23592]))/2\n",
    "    y=(float(lst[23603])+float(lst[23604]))/2\n",
    "    temp_crn=[a,b,c,d,e,f,g,h,i,j,k,l,m,n,o,p,q,r,s,t,u,v,w,x,y]\n",
    "    print(temp_crn)"
   ]
  },
  {
   "cell_type": "code",
   "execution_count": 31,
   "id": "c1e72531",
   "metadata": {},
   "outputs": [
    {
     "name": "stdout",
     "output_type": "stream",
     "text": [
      "[2.849999999999998, 5.210000000000001, 2.0, 1.620000000000001, 0.40000000000000036, 0.08999999999999986, -0.02999999999999936, 0.45000000000000107, 1.1500000000000004, 0.8200000000000003, 1.4100000000000001, 1.25, 2.630000000000001, 1.2799999999999994, -0.08000000000000007, -0.9499999999999993, -2.6099999999999994, -4.75, -2.960000000000001, -5.039999999999999, -6.550000000000001, -3.200000000000001, -3.74, -2.120000000000001, -0.9199800000000007]\n"
     ]
    }
   ],
   "source": [
    "difference1_bow = []\n",
    "\n",
    "zip_object = zip(temp, temp_crn)\n",
    "for temp_i, temp_crn_i in zip_object:\n",
    "    difference1_bow.append(temp_i-temp_crn_i)\n",
    "\n",
    "print(difference1_bow)"
   ]
  },
  {
   "cell_type": "markdown",
   "id": "d1be2cc0",
   "metadata": {},
   "source": [
    "<font size=\"3\">Gadsden, AL: 0100 UTC 23 March 2022-0100 UTC 24 March 2022</font>"
   ]
  },
  {
   "cell_type": "code",
   "execution_count": 32,
   "id": "6d2be172",
   "metadata": {},
   "outputs": [
    {
     "name": "stdout",
     "output_type": "stream",
     "text": [
      "[20.61, 19.89, 18.63, 15.77, 15.68, 16.34, 16.7, 17.42, 17.6, 17.52, 16.76, 16.8, 16.09, 16.2, 17.63, 18.7, 18.09, 16.9, 15.83, 16.18, 15.7, 13.21, 11.67, 9.70001, 9.32001]\n",
      "25\n"
     ]
    }
   ],
   "source": [
    "#12 hr hrrr:\n",
    "with open('hrrr_f12_Gadsden_AL.txt') as f:\n",
    "    lst=[line.split()[4] for line in f]\n",
    "    temp=[]\n",
    "    for i in lst:\n",
    "        new=i.replace(',',\"\")\n",
    "        temp.append(new)\n",
    "    temp.pop(0)\n",
    "    temp=[float(x) for x in temp]\n",
    "    temp=temp[1933:1958]\n",
    "    #temp=temp[2015:2063]\n",
    "    print(temp)\n",
    "    print(len(temp))\n",
    "#full time period is [2015:2112]"
   ]
  },
  {
   "cell_type": "code",
   "execution_count": 33,
   "id": "3bcebe7b",
   "metadata": {},
   "outputs": [
    {
     "name": "stdout",
     "output_type": "stream",
     "text": [
      "[15.899999999999999, 14.649999999999999, 14.55, 14.350000000000001, 14.2, 14.2, 14.4, 14.55, 15.0, 15.55, 16.5, 17.0, 16.25, 15.8, 17.65, 20.65, 23.700000000000003, 21.35, 20.75, 21.3, 20.15, 17.8, 14.4, 11.5, 10.25]\n"
     ]
    }
   ],
   "source": [
    "#Air Temp CRN:\n",
    "with open('CRNS0101-05-2022-AL_Gadsden_19_N.txt') as f:\n",
    "    lst=[line.split()[12] for line in f]\n",
    "    \n",
    "    a=(float(lst[23339])+float(lst[23340]))/2\n",
    "    b=(float(lst[23351])+float(lst[23352]))/2\n",
    "    c=(float(lst[23363])+float(lst[23364]))/2\n",
    "    d=(float(lst[23375])+float(lst[23376]))/2\n",
    "    e=(float(lst[23387])+float(lst[23388]))/2\n",
    "    f=(float(lst[23399])+float(lst[23400]))/2\n",
    "    g=(float(lst[23411])+float(lst[23412]))/2\n",
    "    h=(float(lst[23423])+float(lst[23424]))/2\n",
    "    i=(float(lst[23435])+float(lst[23436]))/2\n",
    "    j=(float(lst[23447])+float(lst[23448]))/2\n",
    "    k=(float(lst[23459])+float(lst[23460]))/2\n",
    "    l=(float(lst[23471])+float(lst[23472]))/2\n",
    "    m=(float(lst[23483])+float(lst[23484]))/2\n",
    "    n=(float(lst[23495])+float(lst[23496]))/2\n",
    "    o=(float(lst[23507])+float(lst[23508]))/2\n",
    "    p=(float(lst[23519])+float(lst[23520]))/2\n",
    "    q=(float(lst[23531])+float(lst[23532]))/2\n",
    "    r=(float(lst[23543])+float(lst[23544]))/2\n",
    "    s=(float(lst[23555])+float(lst[23556]))/2\n",
    "    t=(float(lst[23567])+float(lst[23568]))/2\n",
    "    u=(float(lst[23579])+float(lst[23580]))/2\n",
    "    v=(float(lst[23591])+float(lst[23592]))/2\n",
    "    w=(float(lst[23603])+float(lst[23604]))/2\n",
    "    x=(float(lst[23615])+float(lst[23616]))/2\n",
    "    y=(float(lst[23627])+float(lst[23628]))/2\n",
    "    temp_crn=[a,b,c,d,e,f,g,h,i,j,k,l,m,n,o,p,q,r,s,t,u,v,w,x,y]\n",
    "    print(temp_crn)"
   ]
  },
  {
   "cell_type": "code",
   "execution_count": 34,
   "id": "c002ac76",
   "metadata": {},
   "outputs": [
    {
     "name": "stdout",
     "output_type": "stream",
     "text": [
      "[4.710000000000001, 5.240000000000002, 4.079999999999998, 1.4199999999999982, 1.4800000000000004, 2.1400000000000006, 2.299999999999999, 2.870000000000001, 2.6000000000000014, 1.9699999999999989, 0.26000000000000156, -0.1999999999999993, -0.16000000000000014, 0.3999999999999986, -0.019999999999999574, -1.9499999999999993, -5.610000000000003, -4.450000000000003, -4.92, -5.120000000000001, -4.449999999999999, -4.59, -2.7300000000000004, -1.7999899999999993, -0.9299900000000001]\n"
     ]
    }
   ],
   "source": [
    "difference1_gad = []\n",
    "\n",
    "zip_object = zip(temp, temp_crn)\n",
    "for temp_i, temp_crn_i in zip_object:\n",
    "    difference1_gad.append(temp_i-temp_crn_i)\n",
    "\n",
    "print(difference1_gad)"
   ]
  },
  {
   "cell_type": "markdown",
   "id": "d430f7c6",
   "metadata": {},
   "source": [
    "<font size=\"3\">Newton, GA: 0900 UTC 23 March 2022-0900 UTC 24 March 2022</font>"
   ]
  },
  {
   "cell_type": "code",
   "execution_count": 35,
   "id": "25095753",
   "metadata": {},
   "outputs": [
    {
     "name": "stdout",
     "output_type": "stream",
     "text": [
      "[19.76, 19.5, 20.32, 20.29, 20.45, 20.91, 20.87, 22.07, 24.37, 22.18, 25.1, 23.32, 23.27, 22.7, 20.99, 19.56, 18.27, 17.82, 18.2, 17.58, 16.81, 16.15, 15.56, 15.57, 15.76]\n",
      "25\n"
     ]
    }
   ],
   "source": [
    "#12 hr hrrr:\n",
    "with open('hrrr_f12_Newton_GA.txt') as f:\n",
    "    lst=[line.split()[4] for line in f]\n",
    "    temp=[]\n",
    "    for i in lst:\n",
    "        new=i.replace(',',\"\")\n",
    "        temp.append(new)\n",
    "    temp.pop(0)\n",
    "    temp=[float(x) for x in temp]\n",
    "    temp=temp[1941:1966]\n",
    "    #temp=temp[2015:2063]\n",
    "    print(temp)\n",
    "    print(len(temp))\n",
    "#full time period is [2015:2112]"
   ]
  },
  {
   "cell_type": "code",
   "execution_count": 36,
   "id": "f4925cb9",
   "metadata": {},
   "outputs": [
    {
     "name": "stdout",
     "output_type": "stream",
     "text": [
      "[20.25, 19.85, 19.5, 19.5, 19.8, 19.9, 20.55, 22.950000000000003, 23.05, 23.45, 26.0, 24.4, 24.450000000000003, 23.299999999999997, 21.65, 20.299999999999997, 18.65, 18.6, 17.799999999999997, 18.0, 17.1, 17.15, 16.45, 15.95, 15.7]\n"
     ]
    }
   ],
   "source": [
    "#Air Temp CRN:\n",
    "with open('CRNS0101-05-2022-GA_Newton_11_SW.txt') as f:\n",
    "    lst=[line.split()[12] for line in f]\n",
    "    \n",
    "    a=(float(lst[23435])+float(lst[23436]))/2\n",
    "    b=(float(lst[23447])+float(lst[23448]))/2\n",
    "    c=(float(lst[23459])+float(lst[23460]))/2\n",
    "    d=(float(lst[23471])+float(lst[23472]))/2\n",
    "    e=(float(lst[23483])+float(lst[23484]))/2\n",
    "    f=(float(lst[23495])+float(lst[23496]))/2\n",
    "    g=(float(lst[23507])+float(lst[23508]))/2\n",
    "    h=(float(lst[23519])+float(lst[23520]))/2\n",
    "    i=(float(lst[23531])+float(lst[23532]))/2\n",
    "    j=(float(lst[23543])+float(lst[23544]))/2\n",
    "    k=(float(lst[23555])+float(lst[23556]))/2\n",
    "    l=(float(lst[23567])+float(lst[23568]))/2\n",
    "    m=(float(lst[23579])+float(lst[23580]))/2\n",
    "    n=(float(lst[23591])+float(lst[23592]))/2\n",
    "    o=(float(lst[23603])+float(lst[23604]))/2\n",
    "    p=(float(lst[23615])+float(lst[23616]))/2\n",
    "    q=(float(lst[23627])+float(lst[23628]))/2\n",
    "    r=(float(lst[23639])+float(lst[23640]))/2\n",
    "    s=(float(lst[23651])+float(lst[23652]))/2\n",
    "    t=(float(lst[23663])+float(lst[23664]))/2\n",
    "    u=(float(lst[23675])+float(lst[23676]))/2\n",
    "    v=(float(lst[23687])+float(lst[23688]))/2\n",
    "    w=(float(lst[23699])+float(lst[23700]))/2\n",
    "    x=(float(lst[23711])+float(lst[23712]))/2\n",
    "    y=(float(lst[23723])+float(lst[23724]))/2\n",
    "    temp_crn=[a,b,c,d,e,f,g,h,i,j,k,l,m,n,o,p,q,r,s,t,u,v,w,x,y]\n",
    "    print(temp_crn)"
   ]
  },
  {
   "cell_type": "code",
   "execution_count": 37,
   "id": "f2141c03",
   "metadata": {},
   "outputs": [
    {
     "name": "stdout",
     "output_type": "stream",
     "text": [
      "[-0.48999999999999844, -0.3500000000000014, 0.8200000000000003, 0.7899999999999991, 0.6499999999999986, 1.0100000000000016, 0.3200000000000003, -0.8800000000000026, 1.3200000000000003, -1.2699999999999996, -0.8999999999999986, -1.0799999999999983, -1.1800000000000033, -0.5999999999999979, -0.6600000000000001, -0.7399999999999984, -0.379999999999999, -0.7800000000000011, 0.40000000000000213, -0.4200000000000017, -0.2900000000000027, -1.0, -0.8899999999999988, -0.379999999999999, 0.0600000000000005]\n"
     ]
    }
   ],
   "source": [
    "difference1_newt = []\n",
    "\n",
    "zip_object = zip(temp, temp_crn)\n",
    "for temp_i, temp_crn_i in zip_object:\n",
    "    difference1_newt.append(temp_i-temp_crn_i)\n",
    "\n",
    "print(difference1_newt)"
   ]
  },
  {
   "cell_type": "markdown",
   "id": "ab4663ab",
   "metadata": {},
   "source": [
    "<font size=\"3\">Salem, MO: 1300 UTC 30 March 2022-1300 UTC 31 March 2022</font>"
   ]
  },
  {
   "cell_type": "code",
   "execution_count": 38,
   "id": "ede1cb39",
   "metadata": {},
   "outputs": [
    {
     "name": "stdout",
     "output_type": "stream",
     "text": [
      "[16.7, 16.88, 15.0, 15.12, 16.09, 15.69, 17.86, 15.89, 17.07, 12.91, 11.08, 8.19, 7.56, 6.36002, 5.45001, 4.64999, 3.86002, 3.45999, 3.17001, 2.73001, 2.51001, 1.88, 1.69, 1.39999, 2.01001]\n",
      "25\n"
     ]
    }
   ],
   "source": [
    "#12 hr hrrr:\n",
    "with open('hrrr_f12_Salem_MO.txt') as f:\n",
    "    lst=[line.split()[4] for line in f]\n",
    "    temp=[]\n",
    "    for i in lst:\n",
    "        new=i.replace(',',\"\")\n",
    "        temp.append(new)\n",
    "    temp.pop(0)\n",
    "    temp=[float(x) for x in temp]\n",
    "    temp=temp[2113:2138]\n",
    "    #temp=temp[2015:2063]\n",
    "    print(temp)\n",
    "    print(len(temp))\n",
    "#full time period is [2015:2112]"
   ]
  },
  {
   "cell_type": "code",
   "execution_count": 39,
   "id": "d27b98bf",
   "metadata": {},
   "outputs": [
    {
     "name": "stdout",
     "output_type": "stream",
     "text": [
      "[15.1, 13.55, 13.3, 13.75, 15.2, 14.75, 13.850000000000001, 14.1, 13.6, 10.7, 8.25, 6.65, 6.2, 5.25, 4.4, 4.15, 3.8, 3.4, 2.8, 2.95, 3.1, 3.0, 2.75, 3.05, 3.25]\n"
     ]
    }
   ],
   "source": [
    "#Air Temp CRN:\n",
    "with open('CRNS0101-05-2022-MO_Salem_10_W.txt') as f:\n",
    "    lst=[line.split()[12] for line in f]\n",
    "    \n",
    "    a=(float(lst[25499])+float(lst[25500]))/2\n",
    "    b=(float(lst[25511])+float(lst[25512]))/2\n",
    "    c=(float(lst[25523])+float(lst[25524]))/2\n",
    "    d=(float(lst[25535])+float(lst[25536]))/2\n",
    "    e=(float(lst[25547])+float(lst[25548]))/2\n",
    "    f=(float(lst[25559])+float(lst[25560]))/2\n",
    "    g=(float(lst[25571])+float(lst[25572]))/2\n",
    "    h=(float(lst[25583])+float(lst[25584]))/2\n",
    "    i=(float(lst[25595])+float(lst[25596]))/2\n",
    "    j=(float(lst[25607])+float(lst[25608]))/2\n",
    "    k=(float(lst[25619])+float(lst[25620]))/2\n",
    "    l=(float(lst[25631])+float(lst[25632]))/2\n",
    "    m=(float(lst[25643])+float(lst[25644]))/2\n",
    "    n=(float(lst[25655])+float(lst[25656]))/2\n",
    "    o=(float(lst[25667])+float(lst[25668]))/2\n",
    "    p=(float(lst[25679])+float(lst[25680]))/2\n",
    "    q=(float(lst[25691])+float(lst[25692]))/2\n",
    "    r=(float(lst[25703])+float(lst[25704]))/2\n",
    "    s=(float(lst[25715])+float(lst[25716]))/2\n",
    "    t=(float(lst[25727])+float(lst[25728]))/2\n",
    "    u=(float(lst[25739])+float(lst[25740]))/2\n",
    "    v=(float(lst[25751])+float(lst[25752]))/2\n",
    "    w=(float(lst[25763])+float(lst[25764]))/2\n",
    "    x=(float(lst[25775])+float(lst[25776]))/2\n",
    "    y=(float(lst[25787])+float(lst[25788]))/2\n",
    "    temp_crn=[a,b,c,d,e,f,g,h,i,j,k,l,m,n,o,p,q,r,s,t,u,v,w,x,y]\n",
    "    print(temp_crn)"
   ]
  },
  {
   "cell_type": "code",
   "execution_count": 40,
   "id": "80548ed7",
   "metadata": {},
   "outputs": [
    {
     "name": "stdout",
     "output_type": "stream",
     "text": [
      "25\n"
     ]
    }
   ],
   "source": [
    "hour=[]\n",
    "for i in range(-12,13,1):\n",
    "    hour.append(i)\n",
    "    i+=1\n",
    "print(len(hour))"
   ]
  },
  {
   "cell_type": "code",
   "execution_count": 41,
   "id": "e426b6a3",
   "metadata": {},
   "outputs": [
    {
     "name": "stdout",
     "output_type": "stream",
     "text": [
      "[1.5999999999999996, 3.3299999999999983, 1.6999999999999993, 1.3699999999999992, 0.8900000000000006, 0.9399999999999995, 4.009999999999998, 1.790000000000001, 3.4700000000000006, 2.210000000000001, 2.83, 1.5399999999999991, 1.3599999999999994, 1.1100199999999996, 1.0500099999999994, 0.4999899999999995, 0.060020000000000184, 0.05998999999999999, 0.37001000000000017, -0.21999000000000013, -0.5899900000000002, -1.12, -1.06, -1.6500099999999998, -1.2399900000000001]\n"
     ]
    }
   ],
   "source": [
    "difference2_sal = []\n",
    "\n",
    "zip_object = zip(temp, temp_crn)\n",
    "for temp_i, temp_crn_i in zip_object:\n",
    "    difference2_sal.append(temp_i-temp_crn_i)\n",
    "\n",
    "print(difference2_sal)"
   ]
  },
  {
   "cell_type": "markdown",
   "id": "e17a19ca",
   "metadata": {},
   "source": [
    "<font size=\"3\">Batesville, AR: 1300 UTC 30 March 2022-1300 UTC 31 March 2022</font>"
   ]
  },
  {
   "cell_type": "code",
   "execution_count": 42,
   "id": "382cdc03",
   "metadata": {},
   "outputs": [
    {
     "name": "stdout",
     "output_type": "stream",
     "text": [
      "[17.59, 17.5, 17.81, 18.03, 18.2, 18.24, 15.94, 16.9, 17.56, 16.48, 16.34, 13.95, 12.01, 9.41, 8.22, 6.99002, 5.98001, 4.92001, 4.70999, 3.59, 4.70999, 3.35001, 2.39001, 1.98001, 3.60001]\n",
      "25\n"
     ]
    }
   ],
   "source": [
    "#12 hr hrrr:\n",
    "with open('hrrr_f12_Batesville_AR.txt') as f:\n",
    "    lst=[line.split()[4] for line in f]\n",
    "    temp=[]\n",
    "    for i in lst:\n",
    "        new=i.replace(',',\"\")\n",
    "        temp.append(new)\n",
    "    temp.pop(0)\n",
    "    temp=[float(x) for x in temp]\n",
    "    temp=temp[2113:2138]\n",
    "    #temp=temp[2015:2063]\n",
    "    print(temp)\n",
    "    print(len(temp))\n",
    "#full time period is [2015:2112]"
   ]
  },
  {
   "cell_type": "code",
   "execution_count": 43,
   "id": "bfa93776",
   "metadata": {},
   "outputs": [
    {
     "name": "stdout",
     "output_type": "stream",
     "text": [
      "[17.2, 17.4, 17.55, 16.9, 17.15, 16.85, 15.85, 14.9, 13.9, 17.1, 15.45, 13.8, 9.2, 8.149999999999999, 7.65, 6.25, 6.2, 6.1, 4.35, 5.25, 5.2, 3.95, 2.0, 0.8500000000000001, 4.85]\n"
     ]
    }
   ],
   "source": [
    "#Air Temp CRN:\n",
    "with open('CRNS0101-05-2022-AR_Batesville_8_WNW.txt') as f:\n",
    "    lst=[line.split()[12] for line in f]\n",
    "    \n",
    "    a=(float(lst[25499])+float(lst[25500]))/2\n",
    "    b=(float(lst[25511])+float(lst[25512]))/2\n",
    "    c=(float(lst[25523])+float(lst[25524]))/2\n",
    "    d=(float(lst[25535])+float(lst[25536]))/2\n",
    "    e=(float(lst[25547])+float(lst[25548]))/2\n",
    "    f=(float(lst[25559])+float(lst[25560]))/2\n",
    "    g=(float(lst[25571])+float(lst[25572]))/2\n",
    "    h=(float(lst[25583])+float(lst[25584]))/2\n",
    "    i=(float(lst[25595])+float(lst[25596]))/2\n",
    "    j=(float(lst[25607])+float(lst[25608]))/2\n",
    "    k=(float(lst[25619])+float(lst[25620]))/2\n",
    "    l=(float(lst[25631])+float(lst[25632]))/2\n",
    "    m=(float(lst[25643])+float(lst[25644]))/2\n",
    "    n=(float(lst[25655])+float(lst[25656]))/2\n",
    "    o=(float(lst[25667])+float(lst[25668]))/2\n",
    "    p=(float(lst[25679])+float(lst[25680]))/2\n",
    "    q=(float(lst[25691])+float(lst[25692]))/2\n",
    "    r=(float(lst[25703])+float(lst[25704]))/2\n",
    "    s=(float(lst[25715])+float(lst[25716]))/2\n",
    "    t=(float(lst[25727])+float(lst[25728]))/2\n",
    "    u=(float(lst[25739])+float(lst[25740]))/2\n",
    "    v=(float(lst[25751])+float(lst[25752]))/2\n",
    "    w=(float(lst[25763])+float(lst[25764]))/2\n",
    "    x=(float(lst[25775])+float(lst[25776]))/2\n",
    "    y=(float(lst[25787])+float(lst[25788]))/2\n",
    "    temp_crn=[a,b,c,d,e,f,g,h,i,j,k,l,m,n,o,p,q,r,s,t,u,v,w,x,y]\n",
    "    print(temp_crn)"
   ]
  },
  {
   "cell_type": "code",
   "execution_count": 44,
   "id": "12f91aa0",
   "metadata": {},
   "outputs": [
    {
     "name": "stdout",
     "output_type": "stream",
     "text": [
      "[0.39000000000000057, 0.10000000000000142, 0.259999999999998, 1.1300000000000026, 1.0500000000000007, 1.389999999999997, 0.08999999999999986, 1.9999999999999982, 3.6599999999999984, -0.620000000000001, 0.8900000000000006, 0.14999999999999858, 2.8100000000000005, 1.2600000000000016, 0.5700000000000003, 0.7400200000000003, -0.21999000000000013, -1.1799899999999992, 0.3599900000000007, -1.6600000000000001, -0.49000999999999983, -0.59999, 0.3900100000000002, 1.13001, -1.2499899999999995]\n"
     ]
    }
   ],
   "source": [
    "difference2_bat = []\n",
    "\n",
    "zip_object = zip(temp, temp_crn)\n",
    "for temp_i, temp_crn_i in zip_object:\n",
    "    difference2_bat.append(temp_i-temp_crn_i)\n",
    "\n",
    "print(difference2_bat)"
   ]
  },
  {
   "cell_type": "markdown",
   "id": "cda99a3a",
   "metadata": {},
   "source": [
    "<font size=\"3\">Lafayette, LA: 1700 UTC 30 March 2022-1700 UTC 31 March 2022</font>"
   ]
  },
  {
   "cell_type": "code",
   "execution_count": 45,
   "id": "3617c9ac",
   "metadata": {},
   "outputs": [
    {
     "name": "stdout",
     "output_type": "stream",
     "text": [
      "[30.61, 26.11, 24.77, 25.79, 22.87, 23.33, 21.77, 20.51, 18.2, 17.33, 17.7, 18.01, 16.25, 15.82, 14.32, 13.06, 12.63, 11.13, 9.99002, 9.48001, 10.82, 12.95, 16.09, 19.8, 23.68]\n",
      "25\n"
     ]
    }
   ],
   "source": [
    "#12 hr hrrr:\n",
    "with open('hrrr_f12_Lafayette_LA.txt') as f:\n",
    "    lst=[line.split()[4] for line in f]\n",
    "    temp=[]\n",
    "    for i in lst:\n",
    "        new=i.replace(',',\"\")\n",
    "        temp.append(new)\n",
    "    temp.pop(0)\n",
    "    temp=[float(x) for x in temp]\n",
    "    temp=temp[2117:2142]\n",
    "    #temp=temp[2015:2063]\n",
    "    print(temp)\n",
    "    print(len(temp))\n",
    "#full time period is [2015:2112]"
   ]
  },
  {
   "cell_type": "code",
   "execution_count": 46,
   "id": "a99a4e51",
   "metadata": {},
   "outputs": [
    {
     "name": "stdout",
     "output_type": "stream",
     "text": [
      "[23.950000000000003, 24.4, 24.6, 24.4, 22.65, 16.65, 17.799999999999997, 16.549999999999997, 12.5, 12.45, 12.55, 12.8, 13.15, 14.6, 12.25, 12.3, 9.600000000000001, 8.2, 6.6, 6.1, 11.05, 14.15, 17.9, 23.2, 25.450000000000003]\n"
     ]
    }
   ],
   "source": [
    "#Air Temp CRN:\n",
    "with open('CRNS0101-05-2022-LA_Lafayette_13_SE.txt') as f:\n",
    "    lst=[line.split()[12] for line in f]\n",
    "    \n",
    "    a=(float(lst[25547])+float(lst[25548]))/2\n",
    "    b=(float(lst[25559])+float(lst[25560]))/2\n",
    "    c=(float(lst[25571])+float(lst[25572]))/2\n",
    "    d=(float(lst[25583])+float(lst[25584]))/2\n",
    "    e=(float(lst[25595])+float(lst[25596]))/2\n",
    "    f=(float(lst[25607])+float(lst[25608]))/2\n",
    "    g=(float(lst[25619])+float(lst[25620]))/2\n",
    "    h=(float(lst[25631])+float(lst[25632]))/2\n",
    "    i=(float(lst[25643])+float(lst[25644]))/2\n",
    "    j=(float(lst[25655])+float(lst[25656]))/2\n",
    "    k=(float(lst[25667])+float(lst[25668]))/2\n",
    "    l=(float(lst[25679])+float(lst[25680]))/2\n",
    "    m=(float(lst[25691])+float(lst[25692]))/2\n",
    "    n=(float(lst[25703])+float(lst[25704]))/2\n",
    "    o=(float(lst[25715])+float(lst[25716]))/2\n",
    "    p=(float(lst[25727])+float(lst[25728]))/2\n",
    "    q=(float(lst[25739])+float(lst[25740]))/2\n",
    "    r=(float(lst[25751])+float(lst[25752]))/2\n",
    "    s=(float(lst[25763])+float(lst[25764]))/2\n",
    "    t=(float(lst[25775])+float(lst[25776]))/2\n",
    "    u=(float(lst[25787])+float(lst[25788]))/2\n",
    "    v=(float(lst[25799])+float(lst[25800]))/2\n",
    "    w=(float(lst[25811])+float(lst[25812]))/2\n",
    "    x=(float(lst[25823])+float(lst[25824]))/2\n",
    "    y=(float(lst[25835])+float(lst[25836]))/2\n",
    "    temp_crn=[a,b,c,d,e,f,g,h,i,j,k,l,m,n,o,p,q,r,s,t,u,v,w,x,y]\n",
    "    print(temp_crn)"
   ]
  },
  {
   "cell_type": "code",
   "execution_count": 47,
   "id": "ad9e49f7",
   "metadata": {},
   "outputs": [
    {
     "name": "stdout",
     "output_type": "stream",
     "text": [
      "[6.659999999999997, 1.7100000000000009, 0.16999999999999815, 1.3900000000000006, 0.22000000000000242, 6.68, 3.9700000000000024, 3.9600000000000044, 5.699999999999999, 4.879999999999999, 5.149999999999999, 5.210000000000001, 3.0999999999999996, 1.2200000000000006, 2.0700000000000003, 0.7599999999999998, 3.0299999999999994, 2.9300000000000015, 3.39002, 3.3800100000000004, -0.23000000000000043, -1.200000000000001, -1.8099999999999987, -3.3999999999999986, -1.7700000000000031]\n"
     ]
    }
   ],
   "source": [
    "difference2_laf = []\n",
    "\n",
    "zip_object = zip(temp, temp_crn)\n",
    "for temp_i, temp_crn_i in zip_object:\n",
    "    difference2_laf.append(temp_i-temp_crn_i)\n",
    "\n",
    "print(difference2_laf)"
   ]
  },
  {
   "cell_type": "markdown",
   "id": "5bdd017c",
   "metadata": {},
   "source": [
    "<font size=\"3\">Monroe, LA: 1700 UTC 30 March 2022-1700 UTC 31 March 2022</font>"
   ]
  },
  {
   "cell_type": "code",
   "execution_count": 48,
   "id": "10e3c873",
   "metadata": {},
   "outputs": [
    {
     "name": "stdout",
     "output_type": "stream",
     "text": [
      "[28.26, 22.36, 17.91, 16.71, 19.37, 19.09, 18.74, 16.62, 15.83, 15.16, 12.5, 10.85, 10.8, 10.04, 9.63, 8.03, 8.10001, 6.59, 6.47, 6.23001, 7.81, 10.24, 12.95, 15.14, 16.43]\n",
      "25\n"
     ]
    }
   ],
   "source": [
    "#12 hr hrrr:\n",
    "with open('hrrr_f12_Monroe_LA.txt') as f:\n",
    "    lst=[line.split()[4] for line in f]\n",
    "    temp=[]\n",
    "    for i in lst:\n",
    "        new=i.replace(',',\"\")\n",
    "        temp.append(new)\n",
    "    temp.pop(0)\n",
    "    temp=[float(x) for x in temp]\n",
    "    temp=temp[2117:2142]\n",
    "    #temp=temp[2015:2063]\n",
    "    print(temp)\n",
    "    print(len(temp))\n",
    "#full time period is [2015:2112]"
   ]
  },
  {
   "cell_type": "code",
   "execution_count": 49,
   "id": "13a6a15b",
   "metadata": {},
   "outputs": [
    {
     "name": "stdout",
     "output_type": "stream",
     "text": [
      "[20.450000000000003, 20.1, 16.65, 15.850000000000001, 17.5, 20.1, 16.75, 15.7, 15.05, 14.0, 12.7, 11.9, 10.0, 8.25, 8.05, 8.9, 6.300000000000001, 5.0, 4.3, 3.95, 7.7, 12.2, 14.5, 17.6, 19.6]\n"
     ]
    }
   ],
   "source": [
    "#Air Temp CRN:\n",
    "with open('CRNS0101-05-2022-LA_Monroe_26_N.txt') as f:\n",
    "    lst=[line.split()[12] for line in f]\n",
    "    \n",
    "    a=(float(lst[25547])+float(lst[25548]))/2\n",
    "    b=(float(lst[25559])+float(lst[25560]))/2\n",
    "    c=(float(lst[25571])+float(lst[25572]))/2\n",
    "    d=(float(lst[25583])+float(lst[25584]))/2\n",
    "    e=(float(lst[25595])+float(lst[25596]))/2\n",
    "    f=(float(lst[25607])+float(lst[25608]))/2\n",
    "    g=(float(lst[25619])+float(lst[25620]))/2\n",
    "    h=(float(lst[25631])+float(lst[25632]))/2\n",
    "    i=(float(lst[25643])+float(lst[25644]))/2\n",
    "    j=(float(lst[25655])+float(lst[25656]))/2\n",
    "    k=(float(lst[25667])+float(lst[25668]))/2\n",
    "    l=(float(lst[25679])+float(lst[25680]))/2\n",
    "    m=(float(lst[25691])+float(lst[25692]))/2\n",
    "    n=(float(lst[25703])+float(lst[25704]))/2\n",
    "    o=(float(lst[25715])+float(lst[25716]))/2\n",
    "    p=(float(lst[25727])+float(lst[25728]))/2\n",
    "    q=(float(lst[25739])+float(lst[25740]))/2\n",
    "    r=(float(lst[25751])+float(lst[25752]))/2\n",
    "    s=(float(lst[25763])+float(lst[25764]))/2\n",
    "    t=(float(lst[25775])+float(lst[25776]))/2\n",
    "    u=(float(lst[25787])+float(lst[25788]))/2\n",
    "    v=(float(lst[25799])+float(lst[25800]))/2\n",
    "    w=(float(lst[25811])+float(lst[25812]))/2\n",
    "    x=(float(lst[25823])+float(lst[25824]))/2\n",
    "    y=(float(lst[25835])+float(lst[25836]))/2\n",
    "    temp_crn=[a,b,c,d,e,f,g,h,i,j,k,l,m,n,o,p,q,r,s,t,u,v,w,x,y]\n",
    "    print(temp_crn)"
   ]
  },
  {
   "cell_type": "code",
   "execution_count": 50,
   "id": "178b8e52",
   "metadata": {},
   "outputs": [
    {
     "name": "stdout",
     "output_type": "stream",
     "text": [
      "[7.809999999999999, 2.259999999999998, 1.2600000000000016, 0.8599999999999994, 1.870000000000001, -1.0100000000000016, 1.9899999999999984, 0.9200000000000017, 0.7799999999999994, 1.1600000000000001, -0.1999999999999993, -1.0500000000000007, 0.8000000000000007, 1.7899999999999991, 1.58, -0.870000000000001, 1.8000099999999986, 1.5899999999999999, 2.17, 2.28001, 0.10999999999999943, -1.959999999999999, -1.5500000000000007, -2.460000000000001, -3.1700000000000017]\n"
     ]
    }
   ],
   "source": [
    "difference2_mon = []\n",
    "\n",
    "zip_object = zip(temp, temp_crn)\n",
    "for temp_i, temp_crn_i in zip_object:\n",
    "    difference2_mon.append(temp_i-temp_crn_i)\n",
    "\n",
    "print(difference2_mon)"
   ]
  },
  {
   "cell_type": "markdown",
   "id": "3e401515",
   "metadata": {},
   "source": [
    "<font size=\"3\">Holly Springs, MS: 2000 UTC 30 March 2022-2000 UTC 31 March 2022</font>"
   ]
  },
  {
   "cell_type": "code",
   "execution_count": 51,
   "id": "581a9384",
   "metadata": {},
   "outputs": [
    {
     "name": "stdout",
     "output_type": "stream",
     "text": [
      "[27.76, 26.97, 27.73, 27.36, 21.53, 19.53, 17.04, 15.73, 15.32, 14.56, 14.65, 14.88, 14.44, 12.32, 9.97, 8.52002, 7.23001, 5.92001, 6.36002, 5.31, 6.49002, 7.22, 8.17999, 10.28, 12.13]\n",
      "25\n"
     ]
    }
   ],
   "source": [
    "#12 hr hrrr:\n",
    "with open('hrrr_f12_Holly Springs_MS.txt') as f:\n",
    "    lst=[line.split()[4] for line in f]\n",
    "    temp=[]\n",
    "    for i in lst:\n",
    "        new=i.replace(',',\"\")\n",
    "        temp.append(new)\n",
    "    temp.pop(0)\n",
    "    temp=[float(x) for x in temp]\n",
    "    temp=temp[2117:2142]\n",
    "    #temp=temp[2015:2063]\n",
    "    print(temp)\n",
    "    print(len(temp))\n",
    "#full time period is [2015:2112]"
   ]
  },
  {
   "cell_type": "code",
   "execution_count": 52,
   "id": "82820f6a",
   "metadata": {},
   "outputs": [
    {
     "name": "stdout",
     "output_type": "stream",
     "text": [
      "[18.65, 18.5, 18.2, 15.0, 14.7, 14.350000000000001, 13.8, 13.350000000000001, 14.149999999999999, 13.8, 11.8, 11.0, 9.75, 8.55, 8.2, 7.9, 8.05, 8.4, 9.65, 14.5, 17.549999999999997, 20.549999999999997, 20.799999999999997, 21.45, 21.15]\n"
     ]
    }
   ],
   "source": [
    "#Air Temp CRN:\n",
    "with open('CRNS0101-05-2022-MS_Holly_Springs_4_N.txt') as f:\n",
    "    lst=[line.split()[12] for line in f]\n",
    "\n",
    "    a=(float(lst[25583])+float(lst[25584]))/2\n",
    "    b=(float(lst[25595])+float(lst[25596]))/2\n",
    "    c=(float(lst[25607])+float(lst[25608]))/2\n",
    "    d=(float(lst[25619])+float(lst[25620]))/2\n",
    "    e=(float(lst[25631])+float(lst[25632]))/2\n",
    "    f=(float(lst[25643])+float(lst[25644]))/2\n",
    "    g=(float(lst[25655])+float(lst[25656]))/2\n",
    "    h=(float(lst[25667])+float(lst[25668]))/2\n",
    "    i=(float(lst[25679])+float(lst[25680]))/2\n",
    "    j=(float(lst[25691])+float(lst[25692]))/2\n",
    "    k=(float(lst[25703])+float(lst[25704]))/2\n",
    "    l=(float(lst[25715])+float(lst[25716]))/2\n",
    "    m=(float(lst[25727])+float(lst[25728]))/2\n",
    "    n=(float(lst[25739])+float(lst[25740]))/2\n",
    "    o=(float(lst[25751])+float(lst[25752]))/2\n",
    "    p=(float(lst[25763])+float(lst[25764]))/2\n",
    "    q=(float(lst[25775])+float(lst[25776]))/2\n",
    "    r=(float(lst[25787])+float(lst[25788]))/2\n",
    "    s=(float(lst[25799])+float(lst[25800]))/2\n",
    "    t=(float(lst[25811])+float(lst[25812]))/2\n",
    "    u=(float(lst[25823])+float(lst[25824]))/2\n",
    "    v=(float(lst[25835])+float(lst[25836]))/2\n",
    "    w=(float(lst[25847])+float(lst[25848]))/2\n",
    "    x=(float(lst[25859])+float(lst[25860]))/2\n",
    "    y=(float(lst[25871])+float(lst[25872]))/2\n",
    "    temp_crn=[a,b,c,d,e,f,g,h,i,j,k,l,m,n,o,p,q,r,s,t,u,v,w,x,y]\n",
    "    print(temp_crn)"
   ]
  },
  {
   "cell_type": "code",
   "execution_count": 53,
   "id": "b348cd62",
   "metadata": {},
   "outputs": [
    {
     "name": "stdout",
     "output_type": "stream",
     "text": [
      "[9.110000000000003, 8.469999999999999, 9.530000000000001, 12.36, 6.830000000000002, 5.18, 3.2399999999999984, 2.379999999999999, 1.1700000000000017, 0.7599999999999998, 2.8499999999999996, 3.880000000000001, 4.6899999999999995, 3.7699999999999996, 1.7700000000000014, 0.6200200000000002, -0.8199900000000007, -2.47999, -3.289980000000001, -9.190000000000001, -11.059979999999996, -13.329999999999998, -12.620009999999997, -11.17, -9.019999999999998]\n"
     ]
    }
   ],
   "source": [
    "difference2_hol = []\n",
    "\n",
    "zip_object = zip(temp, temp_crn)\n",
    "for temp_i, temp_crn_i in zip_object:\n",
    "    difference2_hol.append(temp_i-temp_crn_i)\n",
    "\n",
    "print(difference2_hol)"
   ]
  },
  {
   "cell_type": "markdown",
   "id": "b5225197",
   "metadata": {},
   "source": [
    "<font size=\"3\">Newton, MS: 2000 UTC 30 March 2022-2000 UTC 31 March 2022</font>"
   ]
  },
  {
   "cell_type": "code",
   "execution_count": 54,
   "id": "7639cfdd",
   "metadata": {},
   "outputs": [
    {
     "name": "stdout",
     "output_type": "stream",
     "text": [
      "[26.39, 25.62, 25.84, 25.08, 23.55, 18.53, 17.37, 16.15, 16.26, 16.41, 15.83, 16.32, 13.39, 12.36, 10.99, 12.32, 10.59, 10.1, 11.05, 12.55, 14.05, 16.97, 17.59, 19.54, 19.54]\n",
      "25\n"
     ]
    }
   ],
   "source": [
    "#12 hr hrrr:\n",
    "with open('hrrr_f12_Newton_MS.txt') as f:\n",
    "    lst=[line.split()[4] for line in f]\n",
    "    temp=[]\n",
    "    for i in lst:\n",
    "        new=i.replace(',',\"\")\n",
    "        temp.append(new)\n",
    "    temp.pop(0)\n",
    "    temp=[float(x) for x in temp]\n",
    "    temp=temp[2120:2145]\n",
    "    #temp=temp[2015:2063]\n",
    "    print(temp)\n",
    "    print(len(temp))\n",
    "#full time period is [2015:2112]"
   ]
  },
  {
   "cell_type": "code",
   "execution_count": 55,
   "id": "32b82de3",
   "metadata": {},
   "outputs": [
    {
     "name": "stdout",
     "output_type": "stream",
     "text": [
      "[23.45, 22.9, 21.85, 21.450000000000003, 19.5, 15.75, 15.25, 14.8, 13.3, 11.75, 12.4, 12.149999999999999, 13.850000000000001, 12.2, 10.6, 10.8, 9.75, 11.9, 12.25, 17.4, 20.3, 23.299999999999997, 25.0, 27.85, 26.3]\n"
     ]
    }
   ],
   "source": [
    "#Air Temp CRN:\n",
    "with open('CRNS0101-05-2022-MS_Newton_5_ENE.txt') as f:\n",
    "    lst=[line.split()[12] for line in f]\n",
    "\n",
    "    a=(float(lst[25583])+float(lst[25584]))/2\n",
    "    b=(float(lst[25595])+float(lst[25596]))/2\n",
    "    c=(float(lst[25607])+float(lst[25608]))/2\n",
    "    d=(float(lst[25619])+float(lst[25620]))/2\n",
    "    e=(float(lst[25631])+float(lst[25632]))/2\n",
    "    f=(float(lst[25643])+float(lst[25644]))/2\n",
    "    g=(float(lst[25655])+float(lst[25656]))/2\n",
    "    h=(float(lst[25667])+float(lst[25668]))/2\n",
    "    i=(float(lst[25679])+float(lst[25680]))/2\n",
    "    j=(float(lst[25691])+float(lst[25692]))/2\n",
    "    k=(float(lst[25703])+float(lst[25704]))/2\n",
    "    l=(float(lst[25715])+float(lst[25716]))/2\n",
    "    m=(float(lst[25727])+float(lst[25728]))/2\n",
    "    n=(float(lst[25739])+float(lst[25740]))/2\n",
    "    o=(float(lst[25751])+float(lst[25752]))/2\n",
    "    p=(float(lst[25763])+float(lst[25764]))/2\n",
    "    q=(float(lst[25775])+float(lst[25776]))/2\n",
    "    r=(float(lst[25787])+float(lst[25788]))/2\n",
    "    s=(float(lst[25799])+float(lst[25800]))/2\n",
    "    t=(float(lst[25811])+float(lst[25812]))/2\n",
    "    u=(float(lst[25823])+float(lst[25824]))/2\n",
    "    v=(float(lst[25835])+float(lst[25836]))/2\n",
    "    w=(float(lst[25847])+float(lst[25848]))/2\n",
    "    x=(float(lst[25859])+float(lst[25860]))/2\n",
    "    y=(float(lst[25871])+float(lst[25872]))/2\n",
    "    temp_crn=[a,b,c,d,e,f,g,h,i,j,k,l,m,n,o,p,q,r,s,t,u,v,w,x,y]\n",
    "    print(temp_crn)"
   ]
  },
  {
   "cell_type": "code",
   "execution_count": 56,
   "id": "cd6de2b7",
   "metadata": {},
   "outputs": [
    {
     "name": "stdout",
     "output_type": "stream",
     "text": [
      "[2.9400000000000013, 2.7200000000000024, 3.9899999999999984, 3.6299999999999955, 4.050000000000001, 2.780000000000001, 2.120000000000001, 1.3499999999999979, 2.960000000000001, 4.66, 3.4299999999999997, 4.170000000000002, -0.46000000000000085, 0.16000000000000014, 0.39000000000000057, 1.5199999999999996, 0.8399999999999999, -1.8000000000000007, -1.1999999999999993, -4.849999999999998, -6.25, -6.329999999999998, -7.41, -8.310000000000002, -6.760000000000002]\n"
     ]
    }
   ],
   "source": [
    "difference2_new = []\n",
    "\n",
    "zip_object = zip(temp, temp_crn)\n",
    "for temp_i, temp_crn_i in zip_object:\n",
    "    difference2_new.append(temp_i-temp_crn_i)\n",
    "\n",
    "print(difference2_new)"
   ]
  },
  {
   "cell_type": "markdown",
   "id": "bfaeb78c",
   "metadata": {},
   "source": [
    "<font size=\"3\">Gainesville, AL: 2300 UTC 30 March 2022-2300 UTC 31 March 2022</font>"
   ]
  },
  {
   "cell_type": "code",
   "execution_count": 57,
   "id": "6ad50471",
   "metadata": {},
   "outputs": [
    {
     "name": "stdout",
     "output_type": "stream",
     "text": [
      "[25.21, 23.76, 20.89, 20.14, 16.64, 16.93, 17.47, 16.61, 16.44, 15.66, 15.85, 14.32, 13.33, 11.57, 12.0, 11.84, 12.88, 14.81, 16.2, 16.56, 17.41, 17.82, 17.2, 16.41, 14.88]\n",
      "25\n"
     ]
    }
   ],
   "source": [
    "#12 hr hrrr:\n",
    "with open('hrrr_f12_Gainesville_AL.txt') as f:\n",
    "    lst=[line.split()[4] for line in f]\n",
    "    temp=[]\n",
    "    for i in lst:\n",
    "        new=i.replace(',',\"\")\n",
    "        temp.append(new)\n",
    "    temp.pop(0)\n",
    "    temp=[float(x) for x in temp]\n",
    "    temp=temp[2123:2148]\n",
    "    #temp=temp[2015:2063]\n",
    "    print(temp)\n",
    "    print(len(temp))\n",
    "#full time period is [2015:2112]"
   ]
  },
  {
   "cell_type": "code",
   "execution_count": 58,
   "id": "99d8adcd",
   "metadata": {},
   "outputs": [
    {
     "name": "stdout",
     "output_type": "stream",
     "text": [
      "[-9999.0, -9999.0, -9999.0, -9999.0, -9999.0, -9999.0, -9999.0, -9999.0, -9999.0, -9999.0, -9999.0, -9999.0, -9999.0, -9999.0, -9999.0, -9999.0, -9999.0, -9999.0, -9999.0, -9999.0, -9999.0, -9999.0, -9999.0, -9999.0, -9999.0]\n"
     ]
    }
   ],
   "source": [
    "#Air Temp CRN:\n",
    "with open('CRNS0101-05-2022-AL_Gainesville_2_NE.txt') as f:\n",
    "    lst=[line.split()[12] for line in f]\n",
    "\n",
    "    a=(float(lst[25619])+float(lst[25620]))/2\n",
    "    b=(float(lst[25631])+float(lst[25632]))/2\n",
    "    c=(float(lst[25643])+float(lst[25644]))/2\n",
    "    d=(float(lst[25655])+float(lst[25656]))/2\n",
    "    e=(float(lst[25667])+float(lst[25668]))/2\n",
    "    f=(float(lst[25679])+float(lst[25680]))/2\n",
    "    g=(float(lst[25691])+float(lst[25692]))/2\n",
    "    h=(float(lst[25703])+float(lst[25704]))/2\n",
    "    i=(float(lst[25715])+float(lst[25716]))/2\n",
    "    j=(float(lst[25727])+float(lst[25728]))/2\n",
    "    k=(float(lst[25739])+float(lst[25740]))/2\n",
    "    l=(float(lst[25751])+float(lst[25752]))/2\n",
    "    m=(float(lst[25763])+float(lst[25764]))/2\n",
    "    n=(float(lst[25775])+float(lst[25776]))/2\n",
    "    o=(float(lst[25787])+float(lst[25788]))/2\n",
    "    p=(float(lst[25799])+float(lst[25800]))/2\n",
    "    q=(float(lst[25811])+float(lst[25812]))/2\n",
    "    r=(float(lst[25823])+float(lst[25824]))/2\n",
    "    s=(float(lst[25835])+float(lst[25836]))/2\n",
    "    t=(float(lst[25847])+float(lst[25848]))/2\n",
    "    u=(float(lst[25859])+float(lst[25860]))/2\n",
    "    v=(float(lst[25871])+float(lst[25872]))/2\n",
    "    w=(float(lst[25883])+float(lst[25884]))/2\n",
    "    x=(float(lst[25895])+float(lst[25896]))/2\n",
    "    y=(float(lst[25907])+float(lst[25908]))/2\n",
    "    temp_crn=[a,b,c,d,e,f,g,h,i,j,k,l,m,n,o,p,q,r,s,t,u,v,w,x,y]\n",
    "    print(temp_crn)"
   ]
  },
  {
   "cell_type": "code",
   "execution_count": 59,
   "id": "82a257d7",
   "metadata": {},
   "outputs": [],
   "source": [
    "# difference2_gai = []\n",
    "\n",
    "# zip_object = zip(temp, temp_crn)\n",
    "# for temp_i, temp_crn_i in zip_object:\n",
    "#     difference2_gai.append(temp_i-temp_crn_i)\n",
    "\n",
    "# print(difference2_gai)"
   ]
  },
  {
   "cell_type": "markdown",
   "id": "0917b86d",
   "metadata": {},
   "source": [
    "<font size=\"3\">Fairhope, AL: 0100 UTC 31 March 2022-0100 UTC 1 April 2022</font>"
   ]
  },
  {
   "cell_type": "code",
   "execution_count": 60,
   "id": "102e4d08",
   "metadata": {},
   "outputs": [
    {
     "name": "stdout",
     "output_type": "stream",
     "text": [
      "[22.78, 22.93, 22.02, 22.66, 22.43, 19.4, 17.95, 18.69, 18.81, 18.26, 18.27, 17.76, 18.28, 18.16, 19.51, 20.66, 24.28, 26.58, 28.28, 28.46, 27.35, 25.27, 22.03, 19.26, 17.7]\n",
      "25\n"
     ]
    }
   ],
   "source": [
    "#12 hr hrrr:\n",
    "with open('hrrr_f12_Fairhope_AL.txt') as f:\n",
    "    lst=[line.split()[4] for line in f]\n",
    "    temp=[]\n",
    "    for i in lst:\n",
    "        new=i.replace(',',\"\")\n",
    "        temp.append(new)\n",
    "    temp.pop(0)\n",
    "    temp=[float(x) for x in temp]\n",
    "    temp=temp[2125:2150]\n",
    "    #temp=temp[2015:2063]\n",
    "    print(temp)\n",
    "    print(len(temp))\n",
    "#full time period is [2015:2112]"
   ]
  },
  {
   "cell_type": "code",
   "execution_count": 61,
   "id": "70c7a360",
   "metadata": {},
   "outputs": [
    {
     "name": "stdout",
     "output_type": "stream",
     "text": [
      "[22.6, 22.35, 21.4, 21.9, 17.75, 16.5, 16.75, 16.65, 16.7, 16.75, 16.3, 16.9, 18.35, 19.1, 24.200000000000003, 26.450000000000003, 28.6, 29.75, 30.450000000000003, 30.049999999999997, 27.8, 24.9, 20.9, 14.75, 11.75]\n"
     ]
    }
   ],
   "source": [
    "#Air Temp CRN:\n",
    "with open('CRNS0101-05-2022-AL_Fairhope_3_NE.txt') as f:\n",
    "    lst=[line.split()[12] for line in f]\n",
    "    \n",
    "    a=(float(lst[25643])+float(lst[25644]))/2\n",
    "    b=(float(lst[25655])+float(lst[25656]))/2\n",
    "    c=(float(lst[25667])+float(lst[25668]))/2\n",
    "    d=(float(lst[25679])+float(lst[25680]))/2\n",
    "    e=(float(lst[25691])+float(lst[25692]))/2\n",
    "    f=(float(lst[25703])+float(lst[25704]))/2\n",
    "    g=(float(lst[25715])+float(lst[25716]))/2\n",
    "    h=(float(lst[25727])+float(lst[25728]))/2\n",
    "    i=(float(lst[25739])+float(lst[25740]))/2\n",
    "    j=(float(lst[25751])+float(lst[25752]))/2\n",
    "    k=(float(lst[25763])+float(lst[25764]))/2\n",
    "    l=(float(lst[25775])+float(lst[25776]))/2\n",
    "    m=(float(lst[25787])+float(lst[25788]))/2\n",
    "    n=(float(lst[25799])+float(lst[25800]))/2\n",
    "    o=(float(lst[25811])+float(lst[25812]))/2\n",
    "    p=(float(lst[25823])+float(lst[25824]))/2\n",
    "    q=(float(lst[25835])+float(lst[25836]))/2\n",
    "    r=(float(lst[25847])+float(lst[25848]))/2\n",
    "    s=(float(lst[25859])+float(lst[25860]))/2\n",
    "    t=(float(lst[25871])+float(lst[25872]))/2\n",
    "    u=(float(lst[25883])+float(lst[25884]))/2\n",
    "    v=(float(lst[25895])+float(lst[25896]))/2\n",
    "    w=(float(lst[25907])+float(lst[25908]))/2\n",
    "    x=(float(lst[25919])+float(lst[25920]))/2\n",
    "    y=(float(lst[25931])+float(lst[25932]))/2\n",
    "    temp_crn=[a,b,c,d,e,f,g,h,i,j,k,l,m,n,o,p,q,r,s,t,u,v,w,x,y]\n",
    "    print(temp_crn)"
   ]
  },
  {
   "cell_type": "code",
   "execution_count": 62,
   "id": "f15c30e0",
   "metadata": {},
   "outputs": [
    {
     "name": "stdout",
     "output_type": "stream",
     "text": [
      "[0.17999999999999972, 0.5799999999999983, 0.620000000000001, 0.7600000000000016, 4.68, 2.8999999999999986, 1.1999999999999993, 2.0400000000000027, 2.1099999999999994, 1.5100000000000016, 1.9699999999999989, 0.860000000000003, -0.07000000000000028, -0.9400000000000013, -4.690000000000001, -5.790000000000003, -4.32, -3.1700000000000017, -2.1700000000000017, -1.5899999999999963, -0.4499999999999993, 0.370000000000001, 1.1300000000000026, 4.510000000000002, 5.949999999999999]\n"
     ]
    }
   ],
   "source": [
    "difference2_fai = []\n",
    "\n",
    "zip_object = zip(temp, temp_crn)\n",
    "for temp_i, temp_crn_i in zip_object:\n",
    "    difference2_fai.append(temp_i-temp_crn_i)\n",
    "\n",
    "print(difference2_fai)"
   ]
  },
  {
   "cell_type": "markdown",
   "id": "e9530edf",
   "metadata": {},
   "source": [
    "<font size=\"3\">**Selma, AL: 0100 UTC 31 March 2022-0100 UTC 1 April 2022</font>"
   ]
  },
  {
   "cell_type": "code",
   "execution_count": 63,
   "id": "15e7e080",
   "metadata": {},
   "outputs": [
    {
     "name": "stdout",
     "output_type": "stream",
     "text": [
      "[23.19, 21.87, 22.02, 20.27, 16.75, 17.28, 17.58, 17.87, 17.21, 17.18, 16.42, 16.34, 15.52, 16.67, 16.05, 15.79, 17.08, 15.76, 18.32, 18.14, 18.05, 16.96, 15.14, 13.51, 12.14]\n"
     ]
    }
   ],
   "source": [
    "#1 hr hrrr:\n",
    "with open('hrrr_f12_Selma_AL.txt') as f:\n",
    "    lst=[line.split()[4] for line in f]\n",
    "    temp=[]\n",
    "    for i in lst:\n",
    "        new=i.replace(',',\"\")\n",
    "        temp.append(new)\n",
    "    temp.pop(0)\n",
    "    temp=[float(x) for x in temp]\n",
    "    temp=temp[2125:2150]\n",
    "    print(temp)"
   ]
  },
  {
   "cell_type": "code",
   "execution_count": 64,
   "id": "56b6cfa3",
   "metadata": {},
   "outputs": [
    {
     "name": "stdout",
     "output_type": "stream",
     "text": [
      "[22.55, 20.0, 19.7, 18.85, 17.75, 16.9, 16.35, 16.15, 15.350000000000001, 15.649999999999999, 15.4, 15.4, 14.55, 15.35, 17.65, 21.65, 22.75, 23.85, 25.3, 24.75, 24.549999999999997, 22.15, 20.200000000000003, 16.2, 13.149999999999999]\n"
     ]
    }
   ],
   "source": [
    "#Air Temp CRN:\n",
    "with open('CRNS0101-05-2022-AL_Selma_13_WNW.txt') as f:\n",
    "    lst=[line.split()[12] for line in f]\n",
    "    \n",
    "    a=(float(lst[25643])+float(lst[25644]))/2\n",
    "    b=(float(lst[25655])+float(lst[25656]))/2\n",
    "    c=(float(lst[25667])+float(lst[25668]))/2\n",
    "    d=(float(lst[25679])+float(lst[25680]))/2\n",
    "    e=(float(lst[25691])+float(lst[25692]))/2\n",
    "    f=(float(lst[25703])+float(lst[25704]))/2\n",
    "    g=(float(lst[25715])+float(lst[25716]))/2\n",
    "    h=(float(lst[25727])+float(lst[25728]))/2\n",
    "    i=(float(lst[25739])+float(lst[25740]))/2\n",
    "    j=(float(lst[25751])+float(lst[25752]))/2\n",
    "    k=(float(lst[25763])+float(lst[25764]))/2\n",
    "    l=(float(lst[25775])+float(lst[25776]))/2\n",
    "    m=(float(lst[25787])+float(lst[25788]))/2\n",
    "    n=(float(lst[25799])+float(lst[25800]))/2\n",
    "    o=(float(lst[25811])+float(lst[25812]))/2\n",
    "    p=(float(lst[25823])+float(lst[25824]))/2\n",
    "    q=(float(lst[25835])+float(lst[25836]))/2\n",
    "    r=(float(lst[25847])+float(lst[25848]))/2\n",
    "    s=(float(lst[25859])+float(lst[25860]))/2\n",
    "    t=(float(lst[25871])+float(lst[25872]))/2\n",
    "    u=(float(lst[25883])+float(lst[25884]))/2\n",
    "    v=(float(lst[25895])+float(lst[25896]))/2\n",
    "    w=(float(lst[25907])+float(lst[25908]))/2\n",
    "    x=(float(lst[25919])+float(lst[25920]))/2\n",
    "    y=(float(lst[25931])+float(lst[25932]))/2\n",
    "    temp_crn=[a,b,c,d,e,f,g,h,i,j,k,l,m,n,o,p,q,r,s,t,u,v,w,x,y]\n",
    "    print(temp_crn)"
   ]
  },
  {
   "cell_type": "code",
   "execution_count": 65,
   "id": "1cd371ed",
   "metadata": {},
   "outputs": [
    {
     "name": "stdout",
     "output_type": "stream",
     "text": [
      "[0.6400000000000006, 1.870000000000001, 2.3200000000000003, 1.4199999999999982, -1.0, 0.38000000000000256, 1.2299999999999969, 1.7200000000000024, 1.8599999999999994, 1.5300000000000011, 1.0200000000000014, 0.9399999999999995, 0.9699999999999989, 1.320000000000002, -1.5999999999999979, -5.859999999999999, -5.670000000000002, -8.090000000000002, -6.98, -6.609999999999999, -6.4999999999999964, -5.189999999999998, -5.060000000000002, -2.6899999999999995, -1.009999999999998]\n",
      "25\n"
     ]
    }
   ],
   "source": [
    "difference2_sel = []\n",
    "\n",
    "zip_object = zip(temp, temp_crn)\n",
    "for temp_i, temp_crn_i in zip_object:\n",
    "    difference2_sel.append(temp_i-temp_crn_i)\n",
    "\n",
    "print(difference2_sel)\n",
    "print(len(difference2_sel))"
   ]
  },
  {
   "cell_type": "markdown",
   "id": "96c13278",
   "metadata": {},
   "source": [
    "<font size=\"3\">Bowling Green, KY: 0100 UTC 31 March 2022-0100 UTC 1 April 2022</font>"
   ]
  },
  {
   "cell_type": "code",
   "execution_count": 66,
   "id": "20079007",
   "metadata": {},
   "outputs": [
    {
     "name": "stdout",
     "output_type": "stream",
     "text": [
      "[21.78, 21.19, 19.27, 16.01, 14.62, 15.64, 14.02, 13.04, 13.07, 12.29, 11.52, 10.96, 9.48001, 8.87, 7.67999, 8.61002, 6.94, 7.60001, 8.17001, 9.55002, 7.30002, 7.17001, 6.22, 6.20999, 5.89999]\n"
     ]
    }
   ],
   "source": [
    "#12 hr hrrr:\n",
    "with open('hrrr_f12_Bowling Green_KY.txt') as f:\n",
    "    lst=[line.split()[4] for line in f]\n",
    "    temp=[]\n",
    "    for i in lst:\n",
    "        new=i.replace(',',\"\")\n",
    "        temp.append(new)\n",
    "    temp.pop(0)\n",
    "    temp=[float(x) for x in temp]\n",
    "    temp=temp[2125:2150]\n",
    "#     x = np.array(temp)\n",
    "#     temp= ma.masked_array(x, mask=[0, 0, 0, 0, 0,0,1,0,0,0,0,0,0,0,0,0,0,0,0,0,0,0,0,0,0])\n",
    "    #temp=temp[2015:2063]\n",
    "    print(temp)\n",
    "    #print(len(temp))\n",
    "#full time period is [2015:2112]"
   ]
  },
  {
   "cell_type": "code",
   "execution_count": 67,
   "id": "40c7254e",
   "metadata": {},
   "outputs": [
    {
     "name": "stdout",
     "output_type": "stream",
     "text": [
      "[22.1 15.2 13.75 13.0 13.4 -- -- 13.350000000000001 13.1 10.65 9.05 8.4\n",
      " 7.65 7.6 7.45 8.3 8.15 7.550000000000001 7.6 8.350000000000001 8.3\n",
      " 7.050000000000001 6.75 5.699999999999999 5.3]\n"
     ]
    }
   ],
   "source": [
    "#Air Temp CRN:\n",
    "with open('CRNS0101-05-2022-KY_Bowling_Green_21_NNE.txt') as f:\n",
    "    lst=[line.split()[12] for line in f]\n",
    "    \n",
    "    a=(float(lst[25643])+float(lst[25644]))/2\n",
    "    b=(float(lst[25655])+float(lst[25656]))/2\n",
    "    c=(float(lst[25667])+float(lst[25668]))/2\n",
    "    d=(float(lst[25679])+float(lst[25680]))/2\n",
    "    e=(float(lst[25691])+float(lst[25692]))/2\n",
    "    f=(float(lst[25703])+float(lst[25704]))/2\n",
    "    g=(float(lst[25715])+float(lst[25716]))/2\n",
    "    h=(float(lst[25727])+float(lst[25728]))/2\n",
    "    i=(float(lst[25739])+float(lst[25740]))/2\n",
    "    j=(float(lst[25751])+float(lst[25752]))/2\n",
    "    k=(float(lst[25763])+float(lst[25764]))/2\n",
    "    l=(float(lst[25775])+float(lst[25776]))/2\n",
    "    m=(float(lst[25787])+float(lst[25788]))/2\n",
    "    n=(float(lst[25799])+float(lst[25800]))/2\n",
    "    o=(float(lst[25811])+float(lst[25812]))/2\n",
    "    p=(float(lst[25823])+float(lst[25824]))/2\n",
    "    q=(float(lst[25835])+float(lst[25836]))/2\n",
    "    r=(float(lst[25847])+float(lst[25848]))/2\n",
    "    s=(float(lst[25859])+float(lst[25860]))/2\n",
    "    t=(float(lst[25871])+float(lst[25872]))/2\n",
    "    u=(float(lst[25883])+float(lst[25884]))/2\n",
    "    v=(float(lst[25895])+float(lst[25896]))/2\n",
    "    w=(float(lst[25907])+float(lst[25908]))/2\n",
    "    x=(float(lst[25919])+float(lst[25920]))/2\n",
    "    y=(float(lst[25931])+float(lst[25932]))/2\n",
    "    temp_crn=[a,b,c,d,e,f,g,h,i,j,k,l,m,n,o,p,q,r,s,t,u,v,w,x,y]\n",
    "    y= np.array(temp_crn)\n",
    "    temp_crn= ma.masked_array(y, mask=[0, 0, 0, 0, 0,1,1,0,0,0,0,0,0,0,0,0,0,0,0,0,0,0,0,0,0])\n",
    "    print(temp_crn)"
   ]
  },
  {
   "cell_type": "code",
   "execution_count": 68,
   "id": "90cedfd2",
   "metadata": {},
   "outputs": [
    {
     "name": "stdout",
     "output_type": "stream",
     "text": [
      "[-0.3200000000000003, 5.990000000000002, 5.52, 3.0100000000000016, 1.2199999999999989, masked, masked, -0.3100000000000023, -0.02999999999999936, 1.6399999999999988, 2.469999999999999, 2.5600000000000005, 1.8300099999999997, 1.2699999999999996, 0.22998999999999992, 0.31001999999999974, -1.21, 0.050009999999999444, 0.5700099999999999, 1.2000199999999985, -0.9999800000000008, 0.12000999999999973, -0.5300000000000002, 0.509990000000001, 0.59999]\n"
     ]
    }
   ],
   "source": [
    "difference2_bow = []\n",
    "\n",
    "zip_object = zip(temp, temp_crn)\n",
    "for temp_i, temp_crn_i in zip_object:\n",
    "    difference2_bow.append(temp_i-temp_crn_i)\n",
    "\n",
    "print(difference2_bow)"
   ]
  },
  {
   "cell_type": "markdown",
   "id": "770eb1f1",
   "metadata": {},
   "source": [
    "<font size=\"3\">Gadsden, AL: 0200 UTC 31 March 2022-0200 UTC 1 April 2022</font>"
   ]
  },
  {
   "cell_type": "code",
   "execution_count": 69,
   "id": "b06370d2",
   "metadata": {},
   "outputs": [
    {
     "name": "stdout",
     "output_type": "stream",
     "text": [
      "[20.16, 19.63, 17.61, 17.23, 16.74, 15.71, 16.18, 14.97, 14.4, 14.66, 13.82, 14.47, 14.61, 13.63, 14.3, 13.93, 12.22, 13.2, 13.64, 14.24, 12.72, 11.54, 9.36002, 8.78, 9.74002]\n",
      "25\n"
     ]
    }
   ],
   "source": [
    "#12 hr hrrr:\n",
    "with open('hrrr_f12_Gadsden_AL.txt') as f:\n",
    "    lst=[line.split()[4] for line in f]\n",
    "    temp=[]\n",
    "    for i in lst:\n",
    "        new=i.replace(',',\"\")\n",
    "        temp.append(new)\n",
    "    temp.pop(0)\n",
    "    temp=[float(x) for x in temp]\n",
    "    temp=temp[2126:2151]\n",
    "    #temp=temp[2015:2063]\n",
    "    print(temp)\n",
    "    print(len(temp))\n",
    "#full time period is [2015:2112]"
   ]
  },
  {
   "cell_type": "code",
   "execution_count": 70,
   "id": "28243f45",
   "metadata": {},
   "outputs": [
    {
     "name": "stdout",
     "output_type": "stream",
     "text": [
      "[19.85, 16.7, 15.9, 15.8, 13.75, 15.05, 15.3, 14.350000000000001, 13.65, 13.45, 13.45, 14.8, 15.15, 15.8, 13.2, 14.8, 15.649999999999999, 17.65, 18.65, 18.1, 16.3, 13.5, 10.45, 8.2, 8.25]\n"
     ]
    }
   ],
   "source": [
    "#Air Temp CRN:\n",
    "with open('CRNS0101-05-2022-AL_Gadsden_19_N.txt') as f:\n",
    "    lst=[line.split()[12] for line in f]\n",
    "    \n",
    "    a=(float(lst[25655])+float(lst[25656]))/2\n",
    "    b=(float(lst[25667])+float(lst[25668]))/2\n",
    "    c=(float(lst[25679])+float(lst[25680]))/2\n",
    "    d=(float(lst[25691])+float(lst[25692]))/2\n",
    "    e=(float(lst[25703])+float(lst[25704]))/2\n",
    "    f=(float(lst[25715])+float(lst[25716]))/2\n",
    "    g=(float(lst[25727])+float(lst[25728]))/2\n",
    "    h=(float(lst[25739])+float(lst[25740]))/2\n",
    "    i=(float(lst[25751])+float(lst[25752]))/2\n",
    "    j=(float(lst[25763])+float(lst[25764]))/2\n",
    "    k=(float(lst[25775])+float(lst[25776]))/2\n",
    "    l=(float(lst[25787])+float(lst[25788]))/2\n",
    "    m=(float(lst[25799])+float(lst[25800]))/2\n",
    "    n=(float(lst[25811])+float(lst[25812]))/2\n",
    "    o=(float(lst[25823])+float(lst[25824]))/2\n",
    "    p=(float(lst[25835])+float(lst[25836]))/2\n",
    "    q=(float(lst[25847])+float(lst[25848]))/2\n",
    "    r=(float(lst[25859])+float(lst[25860]))/2\n",
    "    s=(float(lst[25871])+float(lst[25872]))/2\n",
    "    t=(float(lst[25883])+float(lst[25884]))/2\n",
    "    u=(float(lst[25895])+float(lst[25896]))/2\n",
    "    v=(float(lst[25907])+float(lst[25908]))/2\n",
    "    w=(float(lst[25919])+float(lst[25920]))/2\n",
    "    x=(float(lst[25931])+float(lst[25932]))/2\n",
    "    y=(float(lst[25943])+float(lst[25944]))/2\n",
    "    temp_crn=[a,b,c,d,e,f,g,h,i,j,k,l,m,n,o,p,q,r,s,t,u,v,w,x,y]\n",
    "    print(temp_crn)"
   ]
  },
  {
   "cell_type": "code",
   "execution_count": 71,
   "id": "d63723fd",
   "metadata": {},
   "outputs": [
    {
     "name": "stdout",
     "output_type": "stream",
     "text": [
      "[0.3099999999999987, 2.9299999999999997, 1.709999999999999, 1.4299999999999997, 2.9899999999999984, 0.6600000000000001, 0.879999999999999, 0.6199999999999992, 0.75, 1.2100000000000009, 0.370000000000001, -0.33000000000000007, -0.5400000000000009, -2.17, 1.1000000000000014, -0.870000000000001, -3.429999999999998, -4.449999999999999, -5.009999999999998, -3.860000000000001, -3.58, -1.9600000000000009, -1.0899799999999988, 0.5800000000000001, 1.4900199999999995]\n"
     ]
    }
   ],
   "source": [
    "difference2_gad = []\n",
    "\n",
    "zip_object = zip(temp, temp_crn)\n",
    "for temp_i, temp_crn_i in zip_object:\n",
    "    difference2_gad.append(temp_i-temp_crn_i)\n",
    "\n",
    "print(difference2_gad)"
   ]
  },
  {
   "cell_type": "markdown",
   "id": "cd4a8f77",
   "metadata": {},
   "source": [
    "<font size=\"3\">Newton, GA: 0700 UTC 31 March 2022-0700 UTC 1 April 2022</font>"
   ]
  },
  {
   "cell_type": "code",
   "execution_count": 72,
   "id": "29be0aef",
   "metadata": {},
   "outputs": [
    {
     "name": "stdout",
     "output_type": "stream",
     "text": [
      "[19.6, 20.82, 20.94, 20.71, 21.22, 20.41, 20.23, 19.51, 20.46, 20.75, 22.77, 23.68, 23.6, 23.98, 22.93, 22.7, 21.43, 19.68, 18.72, 17.82, 16.96, 16.28, 15.91, 15.06, 14.02]\n",
      "25\n"
     ]
    }
   ],
   "source": [
    "#12 hr hrrr:\n",
    "with open('hrrr_f12_Newton_GA.txt') as f:\n",
    "    lst=[line.split()[4] for line in f]\n",
    "    temp=[]\n",
    "    for i in lst:\n",
    "        new=i.replace(',',\"\")\n",
    "        temp.append(new)\n",
    "    temp.pop(0)\n",
    "    temp=[float(x) for x in temp]\n",
    "    temp=temp[2131:2156]\n",
    "    #temp=temp[2015:2063]\n",
    "    print(temp)\n",
    "    print(len(temp))\n",
    "#full time period is [2015:2112]"
   ]
  },
  {
   "cell_type": "code",
   "execution_count": 73,
   "id": "28c28e01",
   "metadata": {},
   "outputs": [
    {
     "name": "stdout",
     "output_type": "stream",
     "text": [
      "[20.25, 20.700000000000003, 20.85, 19.6, 19.7, 19.25, 17.65, 17.700000000000003, 18.7, 20.8, 28.65, 28.95, 29.75, 28.5, 27.85, 25.2, 22.4, 19.0, 17.85, 17.75, 17.1, 16.35, 15.8, 15.3, 15.55]\n"
     ]
    }
   ],
   "source": [
    "#Air Temp CRN:\n",
    "with open('CRNS0101-05-2022-GA_Newton_11_SW.txt') as f:\n",
    "    lst=[line.split()[12] for line in f]\n",
    "    \n",
    "    a=(float(lst[25715])+float(lst[25716]))/2\n",
    "    b=(float(lst[25727])+float(lst[25728]))/2\n",
    "    c=(float(lst[25739])+float(lst[25740]))/2\n",
    "    d=(float(lst[25751])+float(lst[25752]))/2\n",
    "    e=(float(lst[25763])+float(lst[25764]))/2\n",
    "    f=(float(lst[25775])+float(lst[25776]))/2\n",
    "    g=(float(lst[25787])+float(lst[25788]))/2\n",
    "    h=(float(lst[25799])+float(lst[25800]))/2\n",
    "    i=(float(lst[25811])+float(lst[25812]))/2\n",
    "    j=(float(lst[25823])+float(lst[25824]))/2\n",
    "    k=(float(lst[25835])+float(lst[25836]))/2\n",
    "    l=(float(lst[25847])+float(lst[25848]))/2\n",
    "    m=(float(lst[25859])+float(lst[25860]))/2\n",
    "    n=(float(lst[25871])+float(lst[25872]))/2\n",
    "    o=(float(lst[25883])+float(lst[25884]))/2\n",
    "    p=(float(lst[25895])+float(lst[25896]))/2\n",
    "    q=(float(lst[25907])+float(lst[25908]))/2\n",
    "    r=(float(lst[25919])+float(lst[25920]))/2\n",
    "    s=(float(lst[25931])+float(lst[25932]))/2\n",
    "    t=(float(lst[25943])+float(lst[25944]))/2\n",
    "    u=(float(lst[25955])+float(lst[25956]))/2\n",
    "    v=(float(lst[25967])+float(lst[25968]))/2\n",
    "    w=(float(lst[25979])+float(lst[25980]))/2\n",
    "    x=(float(lst[25991])+float(lst[25992]))/2\n",
    "    y=(float(lst[26003])+float(lst[26004]))/2\n",
    "    temp_crn=[a,b,c,d,e,f,g,h,i,j,k,l,m,n,o,p,q,r,s,t,u,v,w,x,y]\n",
    "    print(temp_crn)"
   ]
  },
  {
   "cell_type": "code",
   "execution_count": 74,
   "id": "4bcfa192",
   "metadata": {},
   "outputs": [
    {
     "name": "stdout",
     "output_type": "stream",
     "text": [
      "[-0.6499999999999986, 0.11999999999999744, 0.08999999999999986, 1.1099999999999994, 1.5199999999999996, 1.1600000000000001, 2.580000000000002, 1.8099999999999987, 1.7600000000000016, -0.05000000000000071, -5.879999999999999, -5.27, -6.149999999999999, -4.52, -4.920000000000002, -2.5, -0.9699999999999989, 0.6799999999999997, 0.8699999999999974, 0.07000000000000028, -0.14000000000000057, -0.07000000000000028, 0.10999999999999943, -0.2400000000000002, -1.5300000000000011]\n"
     ]
    }
   ],
   "source": [
    "difference2_newt = []\n",
    "\n",
    "zip_object = zip(temp, temp_crn)\n",
    "for temp_i, temp_crn_i in zip_object:\n",
    "    difference2_newt.append(temp_i-temp_crn_i)\n",
    "\n",
    "print(difference2_newt)"
   ]
  },
  {
   "cell_type": "markdown",
   "id": "8148ba77",
   "metadata": {},
   "source": [
    "<font size=\"3\">Salem, MO: 1000 UTC 5 April 2022-1000 UTC 6 April 2022</font>"
   ]
  },
  {
   "cell_type": "code",
   "execution_count": 75,
   "id": "52be5eab",
   "metadata": {},
   "outputs": [
    {
     "name": "stdout",
     "output_type": "stream",
     "text": [
      "[11.04, 11.63, 10.77, 11.26, 12.52, 12.28, 16.66, 20.85, 21.63, 23.7, 22.99, 22.07, 19.9, 18.48, 17.89, 15.48, 15.28, 14.41, 14.27, 14.04, 11.04, 9.61002, 8.51001, 8.29001, 7.70001]\n",
      "25\n"
     ]
    }
   ],
   "source": [
    "#12 hr hrrr:\n",
    "with open('hrrr_f12_Salem_MO.txt') as f:\n",
    "    lst=[line.split()[4] for line in f]\n",
    "    temp=[]\n",
    "    for i in lst:\n",
    "        new=i.replace(',',\"\")\n",
    "        temp.append(new)\n",
    "    temp.pop(0)\n",
    "    temp=[float(x) for x in temp]\n",
    "    temp=temp[2254:2279]\n",
    "    #temp=temp[2015:2063]\n",
    "    print(temp)\n",
    "    print(len(temp))\n",
    "#full time period is [2015:2112]"
   ]
  },
  {
   "cell_type": "code",
   "execution_count": 76,
   "id": "3d591709",
   "metadata": {},
   "outputs": [
    {
     "name": "stdout",
     "output_type": "stream",
     "text": [
      "[9.95, 10.2, 10.149999999999999, 10.149999999999999, 13.0, 19.049999999999997, 24.5, 30.6, 33.400000000000006, 26.45, 21.799999999999997, 28.200000000000003, 25.3, 21.15, 15.9, 11.3, 8.9, 13.399999999999999, 14.6, 12.05, 11.0, 10.7, 8.7, 7.85, 7.1]\n"
     ]
    }
   ],
   "source": [
    "#Air Temp CRN:\n",
    "with open('CRNS0101-05-2022-MO_Salem_10_W.txt') as f:\n",
    "    lst=[line.split()[12] for line in f]\n",
    "    \n",
    "    a=(float(lst[27191])+float(lst[27192]))/2\n",
    "    b=(float(lst[27203])+float(lst[27204]))/2\n",
    "    c=(float(lst[27215])+float(lst[27216]))/2\n",
    "    d=(float(lst[27227])+float(lst[27228]))/2\n",
    "    e=(float(lst[27239])+float(lst[27240]))/2\n",
    "    f=(float(lst[27251])+float(lst[27252]))/2\n",
    "    g=(float(lst[27263])+float(lst[27264]))/2\n",
    "    h=(float(lst[27275])+float(lst[27276]))/2\n",
    "    i=(float(lst[27287])+float(lst[27288]))/2\n",
    "    j=(float(lst[27299])+float(lst[27300]))/2\n",
    "    k=(float(lst[27311])+float(lst[27312]))/2\n",
    "    l=(float(lst[27323])+float(lst[27324]))/2\n",
    "    m=(float(lst[27335])+float(lst[27336]))/2\n",
    "    n=(float(lst[27347])+float(lst[27348]))/2\n",
    "    o=(float(lst[27359])+float(lst[27360]))/2\n",
    "    p=(float(lst[27371])+float(lst[27372]))/2\n",
    "    q=(float(lst[27383])+float(lst[27384]))/2\n",
    "    r=(float(lst[27395])+float(lst[27396]))/2\n",
    "    s=(float(lst[27407])+float(lst[27408]))/2\n",
    "    t=(float(lst[27419])+float(lst[27420]))/2\n",
    "    u=(float(lst[27431])+float(lst[27432]))/2\n",
    "    v=(float(lst[27443])+float(lst[27444]))/2\n",
    "    w=(float(lst[27455])+float(lst[27456]))/2\n",
    "    x=(float(lst[27467])+float(lst[27468]))/2\n",
    "    y=(float(lst[27479])+float(lst[27480]))/2\n",
    "    temp_crn=[a,b,c,d,e,f,g,h,i,j,k,l,m,n,o,p,q,r,s,t,u,v,w,x,y]\n",
    "    print(temp_crn)"
   ]
  },
  {
   "cell_type": "code",
   "execution_count": 77,
   "id": "d9f71702",
   "metadata": {},
   "outputs": [
    {
     "name": "stdout",
     "output_type": "stream",
     "text": [
      "[1.0899999999999999, 1.4300000000000015, 0.620000000000001, 1.1100000000000012, -0.4800000000000004, -6.769999999999998, -7.84, -9.75, -11.770000000000007, -2.75, 1.1900000000000013, -6.130000000000003, -5.400000000000002, -2.669999999999998, 1.9900000000000002, 4.18, 6.379999999999999, 1.0100000000000016, -0.33000000000000007, 1.9899999999999984, 0.03999999999999915, -1.0899799999999988, -0.18998999999999988, 0.4400100000000009, 0.6000100000000002]\n"
     ]
    }
   ],
   "source": [
    "difference3_sal = []\n",
    "\n",
    "zip_object = zip(temp, temp_crn)\n",
    "for temp_i, temp_crn_i in zip_object:\n",
    "    difference3_sal.append(temp_i-temp_crn_i)\n",
    "\n",
    "print(difference3_sal)"
   ]
  },
  {
   "cell_type": "markdown",
   "id": "cc4a44b1",
   "metadata": {},
   "source": [
    "<font size=\"3\">Batesville, AR: 1000 UTC 5 April 2022-1000 UTC 6 April 2022</font>"
   ]
  },
  {
   "cell_type": "code",
   "execution_count": 78,
   "id": "4fcfb5db",
   "metadata": {},
   "outputs": [
    {
     "name": "stdout",
     "output_type": "stream",
     "text": [
      "[11.07, 11.56, 10.7, 11.62, 14.7, 17.33, 16.91, 21.22, 20.87, 23.27, 22.91, 20.25, 20.3, 18.11, 18.07, 15.98, 16.01, 15.97, 15.36, 15.83, 15.98, 15.91, 16.06, 12.79, 11.52]\n",
      "25\n"
     ]
    }
   ],
   "source": [
    "#12 hr hrrr:\n",
    "with open('hrrr_f12_Batesville_AR.txt') as f:\n",
    "    lst=[line.split()[4] for line in f]\n",
    "    temp=[]\n",
    "    for i in lst:\n",
    "        new=i.replace(',',\"\")\n",
    "        temp.append(new)\n",
    "    temp.pop(0)\n",
    "    temp=[float(x) for x in temp]\n",
    "    temp=temp[2254:2279]\n",
    "    #temp=temp[2015:2063]\n",
    "    print(temp)\n",
    "    print(len(temp))\n",
    "#full time period is [2015:2112]"
   ]
  },
  {
   "cell_type": "code",
   "execution_count": 79,
   "id": "b1e964e8",
   "metadata": {},
   "outputs": [
    {
     "name": "stdout",
     "output_type": "stream",
     "text": [
      "[11.3, 11.6, 11.45, 11.75, 14.3, 20.0, 21.950000000000003, 23.45, 24.45, 23.9, 24.7, 23.6, 21.95, 19.799999999999997, 17.5, 16.9, 15.75, 15.45, 12.8, 13.8, 16.0, 17.05, 16.45, 12.4, 12.0]\n"
     ]
    }
   ],
   "source": [
    "#Air Temp CRN:\n",
    "with open('CRNS0101-05-2022-AR_Batesville_8_WNW.txt') as f:\n",
    "    lst=[line.split()[12] for line in f]\n",
    "    \n",
    "    a=(float(lst[27191])+float(lst[27192]))/2\n",
    "    b=(float(lst[27203])+float(lst[27204]))/2\n",
    "    c=(float(lst[27215])+float(lst[27216]))/2\n",
    "    d=(float(lst[27227])+float(lst[27228]))/2\n",
    "    e=(float(lst[27239])+float(lst[27240]))/2\n",
    "    f=(float(lst[27251])+float(lst[27252]))/2\n",
    "    g=(float(lst[27263])+float(lst[27264]))/2\n",
    "    h=(float(lst[27275])+float(lst[27276]))/2\n",
    "    i=(float(lst[27287])+float(lst[27288]))/2\n",
    "    j=(float(lst[27299])+float(lst[27300]))/2\n",
    "    k=(float(lst[27311])+float(lst[27312]))/2\n",
    "    l=(float(lst[27323])+float(lst[27324]))/2\n",
    "    m=(float(lst[27335])+float(lst[27336]))/2\n",
    "    n=(float(lst[27347])+float(lst[27348]))/2\n",
    "    o=(float(lst[27359])+float(lst[27360]))/2\n",
    "    p=(float(lst[27371])+float(lst[27372]))/2\n",
    "    q=(float(lst[27383])+float(lst[27384]))/2\n",
    "    r=(float(lst[27395])+float(lst[27396]))/2\n",
    "    s=(float(lst[27407])+float(lst[27408]))/2\n",
    "    t=(float(lst[27419])+float(lst[27420]))/2\n",
    "    u=(float(lst[27431])+float(lst[27432]))/2\n",
    "    v=(float(lst[27443])+float(lst[27444]))/2\n",
    "    w=(float(lst[27455])+float(lst[27456]))/2\n",
    "    x=(float(lst[27467])+float(lst[27468]))/2\n",
    "    y=(float(lst[27479])+float(lst[27480]))/2\n",
    "    temp_crn=[a,b,c,d,e,f,g,h,i,j,k,l,m,n,o,p,q,r,s,t,u,v,w,x,y]\n",
    "    print(temp_crn)"
   ]
  },
  {
   "cell_type": "code",
   "execution_count": 80,
   "id": "c5f712f8",
   "metadata": {},
   "outputs": [
    {
     "name": "stdout",
     "output_type": "stream",
     "text": [
      "[-0.23000000000000043, -0.03999999999999915, -0.75, -0.13000000000000078, 0.3999999999999986, -2.6700000000000017, -5.040000000000003, -2.2300000000000004, -3.5799999999999983, -0.629999999999999, -1.7899999999999991, -3.3500000000000014, -1.6499999999999986, -1.6899999999999977, 0.5700000000000003, -0.9199999999999982, 0.26000000000000156, 0.5200000000000014, 2.5599999999999987, 2.0299999999999994, -0.019999999999999574, -1.1400000000000006, -0.39000000000000057, 0.3899999999999988, -0.4800000000000004]\n"
     ]
    }
   ],
   "source": [
    "difference3_bat = []\n",
    "\n",
    "zip_object = zip(temp, temp_crn)\n",
    "for temp_i, temp_crn_i in zip_object:\n",
    "    difference3_bat.append(temp_i-temp_crn_i)\n",
    "\n",
    "print(difference3_bat)"
   ]
  },
  {
   "cell_type": "markdown",
   "id": "9f92620f",
   "metadata": {},
   "source": [
    "<font size=\"3\">Lafayette, LA: 1000 UTC 5 April 2022-1000 UTC 6 April 2022</font>"
   ]
  },
  {
   "cell_type": "code",
   "execution_count": 81,
   "id": "24bdf2f2",
   "metadata": {},
   "outputs": [
    {
     "name": "stdout",
     "output_type": "stream",
     "text": [
      "[22.24, 22.26, 22.34, 22.67, 23.54, 24.1, 28.11, 27.13, 28.68, 30.79, 33.05, 31.58, 28.09, 27.07, 24.39, 22.48, 21.65, 22.16, 21.91, 22.28, 22.11, 21.64, 21.84, 21.93, 21.95]\n",
      "25\n"
     ]
    }
   ],
   "source": [
    "#12 hr hrrr:\n",
    "with open('hrrr_f12_Lafayette_LA.txt') as f:\n",
    "    lst=[line.split()[4] for line in f]\n",
    "    temp=[]\n",
    "    for i in lst:\n",
    "        new=i.replace(',',\"\")\n",
    "        temp.append(new)\n",
    "    temp.pop(0)\n",
    "    temp=[float(x) for x in temp]\n",
    "    temp=temp[2254:2279]\n",
    "    #temp=temp[2015:2063]\n",
    "    print(temp)\n",
    "    print(len(temp))\n",
    "#full time period is [2015:2112]"
   ]
  },
  {
   "cell_type": "code",
   "execution_count": 82,
   "id": "e208411d",
   "metadata": {},
   "outputs": [
    {
     "name": "stdout",
     "output_type": "stream",
     "text": [
      "[21.9, 22.25, 22.25, 22.35, 23.1, 23.65, 26.65, 27.2, 25.65, 25.200000000000003, 25.9, 25.35, 26.15, 24.85, 23.4, 21.700000000000003, 21.9, 22.7, 22.9, 23.0, 23.0, 23.1, 23.0, 23.1, 23.1]\n"
     ]
    }
   ],
   "source": [
    "#Air Temp CRN:\n",
    "with open('CRNS0101-05-2022-LA_Lafayette_13_SE.txt') as f:\n",
    "    lst=[line.split()[12] for line in f]\n",
    "    \n",
    "    a=(float(lst[27191])+float(lst[27192]))/2\n",
    "    b=(float(lst[27203])+float(lst[27204]))/2\n",
    "    c=(float(lst[27215])+float(lst[27216]))/2\n",
    "    d=(float(lst[27227])+float(lst[27228]))/2\n",
    "    e=(float(lst[27239])+float(lst[27240]))/2\n",
    "    f=(float(lst[27251])+float(lst[27252]))/2\n",
    "    g=(float(lst[27263])+float(lst[27264]))/2\n",
    "    h=(float(lst[27275])+float(lst[27276]))/2\n",
    "    i=(float(lst[27287])+float(lst[27288]))/2\n",
    "    j=(float(lst[27299])+float(lst[27300]))/2\n",
    "    k=(float(lst[27311])+float(lst[27312]))/2\n",
    "    l=(float(lst[27323])+float(lst[27324]))/2\n",
    "    m=(float(lst[27335])+float(lst[27336]))/2\n",
    "    n=(float(lst[27347])+float(lst[27348]))/2\n",
    "    o=(float(lst[27359])+float(lst[27360]))/2\n",
    "    p=(float(lst[27371])+float(lst[27372]))/2\n",
    "    q=(float(lst[27383])+float(lst[27384]))/2\n",
    "    r=(float(lst[27395])+float(lst[27396]))/2\n",
    "    s=(float(lst[27407])+float(lst[27408]))/2\n",
    "    t=(float(lst[27419])+float(lst[27420]))/2\n",
    "    u=(float(lst[27431])+float(lst[27432]))/2\n",
    "    v=(float(lst[27443])+float(lst[27444]))/2\n",
    "    w=(float(lst[27455])+float(lst[27456]))/2\n",
    "    x=(float(lst[27467])+float(lst[27468]))/2\n",
    "    y=(float(lst[27479])+float(lst[27480]))/2\n",
    "    temp_crn=[a,b,c,d,e,f,g,h,i,j,k,l,m,n,o,p,q,r,s,t,u,v,w,x,y]\n",
    "    print(temp_crn)"
   ]
  },
  {
   "cell_type": "code",
   "execution_count": 83,
   "id": "18c37a9b",
   "metadata": {},
   "outputs": [
    {
     "name": "stdout",
     "output_type": "stream",
     "text": [
      "[0.33999999999999986, 0.010000000000001563, 0.08999999999999986, 0.3200000000000003, 0.4399999999999977, 0.45000000000000284, 1.4600000000000009, -0.07000000000000028, 3.030000000000001, 5.589999999999996, 7.149999999999999, 6.229999999999997, 1.9400000000000013, 2.219999999999999, 0.990000000000002, 0.7799999999999976, -0.25, -0.5399999999999991, -0.9899999999999984, -0.7199999999999989, -0.8900000000000006, -1.4600000000000009, -1.1600000000000001, -1.1700000000000017, -1.1500000000000021]\n"
     ]
    }
   ],
   "source": [
    "difference3_laf = []\n",
    "\n",
    "zip_object = zip(temp, temp_crn)\n",
    "for temp_i, temp_crn_i in zip_object:\n",
    "    difference3_laf.append(temp_i-temp_crn_i)\n",
    "\n",
    "print(difference3_laf)"
   ]
  },
  {
   "cell_type": "markdown",
   "id": "6bc47d22",
   "metadata": {},
   "source": [
    "<font size=\"3\">Monroe, LA: 1000 UTC 5 April 2022-1000 UTC 6 April 2022</font>"
   ]
  },
  {
   "cell_type": "code",
   "execution_count": 84,
   "id": "ff3754c7",
   "metadata": {},
   "outputs": [
    {
     "name": "stdout",
     "output_type": "stream",
     "text": [
      "[17.93, 17.57, 17.09, 17.39, 17.95, 20.66, 23.08, 24.36, 25.2, 25.99, 25.94, 26.28, 25.47, 24.44, 23.57, 21.72, 20.87, 20.01, 20.61, 20.39, 20.31, 21.35, 21.42, 21.4, 21.18]\n",
      "25\n"
     ]
    }
   ],
   "source": [
    "#12 hr hrrr:\n",
    "with open('hrrr_f12_Monroe_LA.txt') as f:\n",
    "    lst=[line.split()[4] for line in f]\n",
    "    temp=[]\n",
    "    for i in lst:\n",
    "        new=i.replace(',',\"\")\n",
    "        temp.append(new)\n",
    "    temp.pop(0)\n",
    "    temp=[float(x) for x in temp]\n",
    "    temp=temp[2254:2279]\n",
    "    #temp=temp[2015:2063]\n",
    "    print(temp)\n",
    "    print(len(temp))\n",
    "#full time period is [2015:2112]"
   ]
  },
  {
   "cell_type": "code",
   "execution_count": 85,
   "id": "91eb6091",
   "metadata": {},
   "outputs": [
    {
     "name": "stdout",
     "output_type": "stream",
     "text": [
      "[16.1, 16.0, 15.7, 15.95, 16.45, 18.25, 22.4, 26.35, 29.450000000000003, 30.3, 30.8, 30.049999999999997, 28.950000000000003, 24.4, 21.25, 18.3, 17.45, 18.950000000000003, 21.15, 21.15, 21.200000000000003, 21.55, 21.7, 21.25, 20.65]\n"
     ]
    }
   ],
   "source": [
    "#Air Temp CRN:\n",
    "with open('CRNS0101-05-2022-LA_Monroe_26_N.txt') as f:\n",
    "    lst=[line.split()[12] for line in f]\n",
    "    \n",
    "    a=(float(lst[27191])+float(lst[27192]))/2\n",
    "    b=(float(lst[27203])+float(lst[27204]))/2\n",
    "    c=(float(lst[27215])+float(lst[27216]))/2\n",
    "    d=(float(lst[27227])+float(lst[27228]))/2\n",
    "    e=(float(lst[27239])+float(lst[27240]))/2\n",
    "    f=(float(lst[27251])+float(lst[27252]))/2\n",
    "    g=(float(lst[27263])+float(lst[27264]))/2\n",
    "    h=(float(lst[27275])+float(lst[27276]))/2\n",
    "    i=(float(lst[27287])+float(lst[27288]))/2\n",
    "    j=(float(lst[27299])+float(lst[27300]))/2\n",
    "    k=(float(lst[27311])+float(lst[27312]))/2\n",
    "    l=(float(lst[27323])+float(lst[27324]))/2\n",
    "    m=(float(lst[27335])+float(lst[27336]))/2\n",
    "    n=(float(lst[27347])+float(lst[27348]))/2\n",
    "    o=(float(lst[27359])+float(lst[27360]))/2\n",
    "    p=(float(lst[27371])+float(lst[27372]))/2\n",
    "    q=(float(lst[27383])+float(lst[27384]))/2\n",
    "    r=(float(lst[27395])+float(lst[27396]))/2\n",
    "    s=(float(lst[27407])+float(lst[27408]))/2\n",
    "    t=(float(lst[27419])+float(lst[27420]))/2\n",
    "    u=(float(lst[27431])+float(lst[27432]))/2\n",
    "    v=(float(lst[27443])+float(lst[27444]))/2\n",
    "    w=(float(lst[27455])+float(lst[27456]))/2\n",
    "    x=(float(lst[27467])+float(lst[27468]))/2\n",
    "    y=(float(lst[27479])+float(lst[27480]))/2\n",
    "    temp_crn=[a,b,c,d,e,f,g,h,i,j,k,l,m,n,o,p,q,r,s,t,u,v,w,x,y]\n",
    "    print(temp_crn)"
   ]
  },
  {
   "cell_type": "code",
   "execution_count": 86,
   "id": "cc1402aa",
   "metadata": {},
   "outputs": [
    {
     "name": "stdout",
     "output_type": "stream",
     "text": [
      "[1.8299999999999983, 1.5700000000000003, 1.3900000000000006, 1.4400000000000013, 1.5, 2.41, 0.6799999999999997, -1.990000000000002, -4.2500000000000036, -4.310000000000002, -4.859999999999999, -3.769999999999996, -3.480000000000004, 0.0400000000000027, 2.3200000000000003, 3.419999999999998, 3.4200000000000017, 1.0599999999999987, -0.5399999999999991, -0.759999999999998, -0.8900000000000041, -0.1999999999999993, -0.2799999999999976, 0.14999999999999858, 0.5300000000000011]\n"
     ]
    }
   ],
   "source": [
    "difference3_mon = []\n",
    "\n",
    "zip_object = zip(temp, temp_crn)\n",
    "for temp_i, temp_crn_i in zip_object:\n",
    "    difference3_mon.append(temp_i-temp_crn_i)\n",
    "\n",
    "print(difference3_mon)"
   ]
  },
  {
   "cell_type": "markdown",
   "id": "8e498386",
   "metadata": {},
   "source": [
    "<font size=\"3\">Holly Springs, MS: 1100 UTC 5 April 2022-1100 UTC 6 April 2022</font>"
   ]
  },
  {
   "cell_type": "code",
   "execution_count": 87,
   "id": "4b862993",
   "metadata": {},
   "outputs": [
    {
     "name": "stdout",
     "output_type": "stream",
     "text": [
      "[14.08, 13.26, 13.18, 14.52, 15.29, 14.35, 16.06, 19.16, 19.47, 21.86, 19.13, 18.55, 17.24, 16.87, 16.64, 16.03, 15.41, 13.77, 13.57, 14.31, 15.05, 15.41, 16.59, 17.74, 17.94]\n",
      "25\n"
     ]
    }
   ],
   "source": [
    "#12 hr hrrr:\n",
    "with open('hrrr_f12_Holly Springs_MS.txt') as f:\n",
    "    lst=[line.split()[4] for line in f]\n",
    "    temp=[]\n",
    "    for i in lst:\n",
    "        new=i.replace(',',\"\")\n",
    "        temp.append(new)\n",
    "    temp.pop(0)\n",
    "    temp=[float(x) for x in temp]\n",
    "    temp=temp[2255:2280]\n",
    "    #temp=temp[2015:2063]\n",
    "    print(temp)\n",
    "    print(len(temp))\n",
    "#full time period is [2015:2112]"
   ]
  },
  {
   "cell_type": "code",
   "execution_count": 88,
   "id": "321afed1",
   "metadata": {},
   "outputs": [
    {
     "name": "stdout",
     "output_type": "stream",
     "text": [
      "[12.6, 12.55, 13.1, 13.350000000000001, 14.149999999999999, 15.55, 15.850000000000001, 19.85, 18.4, 22.799999999999997, 21.4, 22.549999999999997, 19.950000000000003, 14.65, 11.8, 11.850000000000001, 13.0, 12.55, 12.75, 12.5, 12.3, 13.35, 15.4, 16.1, 16.55]\n"
     ]
    }
   ],
   "source": [
    "#Air Temp CRN:\n",
    "with open('CRNS0101-05-2022-MS_Holly_Springs_4_N.txt') as f:\n",
    "    lst=[line.split()[12] for line in f]\n",
    "    \n",
    "    a=(float(lst[27203])+float(lst[27204]))/2\n",
    "    b=(float(lst[27215])+float(lst[27216]))/2\n",
    "    c=(float(lst[27227])+float(lst[27228]))/2\n",
    "    d=(float(lst[27239])+float(lst[27240]))/2\n",
    "    e=(float(lst[27251])+float(lst[27252]))/2\n",
    "    f=(float(lst[27263])+float(lst[27264]))/2\n",
    "    g=(float(lst[27275])+float(lst[27276]))/2\n",
    "    h=(float(lst[27287])+float(lst[27288]))/2\n",
    "    i=(float(lst[27299])+float(lst[27300]))/2\n",
    "    j=(float(lst[27311])+float(lst[27312]))/2\n",
    "    k=(float(lst[27323])+float(lst[27324]))/2\n",
    "    l=(float(lst[27335])+float(lst[27336]))/2\n",
    "    m=(float(lst[27347])+float(lst[27348]))/2\n",
    "    n=(float(lst[27359])+float(lst[27360]))/2\n",
    "    o=(float(lst[27371])+float(lst[27372]))/2\n",
    "    p=(float(lst[27383])+float(lst[27384]))/2\n",
    "    q=(float(lst[27395])+float(lst[27396]))/2\n",
    "    r=(float(lst[27407])+float(lst[27408]))/2\n",
    "    s=(float(lst[27419])+float(lst[27420]))/2\n",
    "    t=(float(lst[27431])+float(lst[27432]))/2\n",
    "    u=(float(lst[27443])+float(lst[27444]))/2\n",
    "    v=(float(lst[27455])+float(lst[27456]))/2\n",
    "    w=(float(lst[27467])+float(lst[27468]))/2\n",
    "    x=(float(lst[27479])+float(lst[27480]))/2\n",
    "    y=(float(lst[27491])+float(lst[27492]))/2\n",
    "    temp_crn=[a,b,c,d,e,f,g,h,i,j,k,l,m,n,o,p,q,r,s,t,u,v,w,x,y]\n",
    "    print(temp_crn)"
   ]
  },
  {
   "cell_type": "code",
   "execution_count": 89,
   "id": "9625595c",
   "metadata": {},
   "outputs": [
    {
     "name": "stdout",
     "output_type": "stream",
     "text": [
      "[1.4800000000000004, 0.7099999999999991, 0.08000000000000007, 1.1699999999999982, 1.1400000000000006, -1.200000000000001, 0.2099999999999973, -0.6900000000000013, 1.0700000000000003, -0.9399999999999977, -2.2699999999999996, -3.9999999999999964, -2.7100000000000044, 2.2200000000000006, 4.84, 4.18, 2.41, 1.2199999999999989, 0.8200000000000003, 1.8100000000000005, 2.75, 2.0600000000000005, 1.1899999999999995, 1.639999999999997, 1.3900000000000006]\n"
     ]
    }
   ],
   "source": [
    "difference3_hol = []\n",
    "\n",
    "zip_object = zip(temp, temp_crn)\n",
    "for temp_i, temp_crn_i in zip_object:\n",
    "    difference3_hol.append(temp_i-temp_crn_i)\n",
    "\n",
    "print(difference3_hol)"
   ]
  },
  {
   "cell_type": "markdown",
   "id": "cec214d2",
   "metadata": {},
   "source": [
    "<font size=\"3\">Newton, MS: 1100 UTC 5 April 2022-1100 UTC 6 April 2022</font>"
   ]
  },
  {
   "cell_type": "code",
   "execution_count": 90,
   "id": "503148e4",
   "metadata": {},
   "outputs": [
    {
     "name": "stdout",
     "output_type": "stream",
     "text": [
      "[18.06, 19.09, 20.51, 17.18, 17.5, 18.66, 22.57, 21.02, 25.32, 23.91, 24.4, 23.75, 22.76, 21.5, 20.84, 19.36, 19.23, 18.48, 19.07, 17.1, 19.11, 19.35, 20.09, 20.67, 20.38]\n",
      "25\n"
     ]
    }
   ],
   "source": [
    "#12 hr hrrr:\n",
    "with open('hrrr_f12_Newton_MS.txt') as f:\n",
    "    lst=[line.split()[4] for line in f]\n",
    "    temp=[]\n",
    "    for i in lst:\n",
    "        new=i.replace(',',\"\")\n",
    "        temp.append(new)\n",
    "    temp.pop(0)\n",
    "    temp=[float(x) for x in temp]\n",
    "    temp=temp[2255:2280]\n",
    "    #temp=temp[2015:2063]\n",
    "    print(temp)\n",
    "    print(len(temp))\n",
    "#full time period is [2015:2112]"
   ]
  },
  {
   "cell_type": "code",
   "execution_count": 91,
   "id": "07926657",
   "metadata": {},
   "outputs": [
    {
     "name": "stdout",
     "output_type": "stream",
     "text": [
      "[17.1, 18.35, 17.6, 17.5, 18.05, 16.85, 24.65, 27.200000000000003, 25.299999999999997, 29.85, 29.950000000000003, 26.2, 23.1, 20.15, 19.1, 18.8, 18.75, 19.3, 19.5, 19.6, 19.85, 20.5, 20.65, 20.55, 21.1]\n"
     ]
    }
   ],
   "source": [
    "#Air Temp CRN:\n",
    "with open('CRNS0101-05-2022-MS_Newton_5_ENE.txt') as f:\n",
    "    lst=[line.split()[12] for line in f]\n",
    "    \n",
    "    a=(float(lst[27203])+float(lst[27204]))/2\n",
    "    b=(float(lst[27215])+float(lst[27216]))/2\n",
    "    c=(float(lst[27227])+float(lst[27228]))/2\n",
    "    d=(float(lst[27239])+float(lst[27240]))/2\n",
    "    e=(float(lst[27251])+float(lst[27252]))/2\n",
    "    f=(float(lst[27263])+float(lst[27264]))/2\n",
    "    g=(float(lst[27275])+float(lst[27276]))/2\n",
    "    h=(float(lst[27287])+float(lst[27288]))/2\n",
    "    i=(float(lst[27299])+float(lst[27300]))/2\n",
    "    j=(float(lst[27311])+float(lst[27312]))/2\n",
    "    k=(float(lst[27323])+float(lst[27324]))/2\n",
    "    l=(float(lst[27335])+float(lst[27336]))/2\n",
    "    m=(float(lst[27347])+float(lst[27348]))/2\n",
    "    n=(float(lst[27359])+float(lst[27360]))/2\n",
    "    o=(float(lst[27371])+float(lst[27372]))/2\n",
    "    p=(float(lst[27383])+float(lst[27384]))/2\n",
    "    q=(float(lst[27395])+float(lst[27396]))/2\n",
    "    r=(float(lst[27407])+float(lst[27408]))/2\n",
    "    s=(float(lst[27419])+float(lst[27420]))/2\n",
    "    t=(float(lst[27431])+float(lst[27432]))/2\n",
    "    u=(float(lst[27443])+float(lst[27444]))/2\n",
    "    v=(float(lst[27455])+float(lst[27456]))/2\n",
    "    w=(float(lst[27467])+float(lst[27468]))/2\n",
    "    x=(float(lst[27479])+float(lst[27480]))/2\n",
    "    y=(float(lst[27491])+float(lst[27492]))/2\n",
    "    temp_crn=[a,b,c,d,e,f,g,h,i,j,k,l,m,n,o,p,q,r,s,t,u,v,w,x,y]\n",
    "    print(temp_crn)"
   ]
  },
  {
   "cell_type": "code",
   "execution_count": 92,
   "id": "a83781b3",
   "metadata": {},
   "outputs": [
    {
     "name": "stdout",
     "output_type": "stream",
     "text": [
      "[0.9599999999999973, 0.7399999999999984, 2.91, -0.3200000000000003, -0.5500000000000007, 1.8099999999999987, -2.0799999999999983, -6.180000000000003, 0.020000000000003126, -5.940000000000001, -5.550000000000004, -2.4499999999999993, -0.33999999999999986, 1.3500000000000014, 1.7399999999999984, 0.5599999999999987, 0.4800000000000004, -0.8200000000000003, -0.4299999999999997, -2.5, -0.740000000000002, -1.1499999999999986, -0.5599999999999987, 0.120000000000001, -0.7200000000000024]\n"
     ]
    }
   ],
   "source": [
    "difference3_new = []\n",
    "\n",
    "zip_object = zip(temp, temp_crn)\n",
    "for temp_i, temp_crn_i in zip_object:\n",
    "    difference3_new.append(temp_i-temp_crn_i)\n",
    "\n",
    "print(difference3_new)"
   ]
  },
  {
   "cell_type": "markdown",
   "id": "576090a5",
   "metadata": {},
   "source": [
    "<font size=\"3\">Gainesville, AL: 1300 UTC 5 April 2022-1300 UTC 6 April 2022</font>"
   ]
  },
  {
   "cell_type": "code",
   "execution_count": 93,
   "id": "48d4bab2",
   "metadata": {},
   "outputs": [
    {
     "name": "stdout",
     "output_type": "stream",
     "text": [
      "[18.27, 19.57, 18.0, 18.3, 19.43, 20.3, 23.52, 25.59, 23.32, 22.69, 22.65, 22.17, 20.39, 19.07, 19.96, 18.82, 17.78, 16.91, 17.3, 18.41, 18.53, 19.43, 19.67, 20.23, 20.79]\n",
      "25\n"
     ]
    }
   ],
   "source": [
    "#12 hr hrrr:\n",
    "with open('hrrr_f12_Gainesville_AL.txt') as f:\n",
    "    lst=[line.split()[4] for line in f]\n",
    "    temp=[]\n",
    "    for i in lst:\n",
    "        new=i.replace(',',\"\")\n",
    "        temp.append(new)\n",
    "    temp.pop(0)\n",
    "    temp=[float(x) for x in temp]\n",
    "    temp=temp[2257:2282]\n",
    "    #temp=temp[2015:2063]\n",
    "    print(temp)\n",
    "    print(len(temp))\n",
    "#full time period is [2015:2112]"
   ]
  },
  {
   "cell_type": "code",
   "execution_count": 94,
   "id": "cff6042c",
   "metadata": {},
   "outputs": [
    {
     "name": "stdout",
     "output_type": "stream",
     "text": [
      "[-9999.0, -9999.0, -9999.0, -9999.0, -9999.0, -9999.0, -9999.0, -9999.0, -9999.0, -9999.0, -9999.0, -9999.0, -9999.0, -9999.0, -9999.0, -9999.0, -9999.0, -9999.0, -9999.0, -9999.0, -9999.0, -9999.0, -9999.0, -9999.0, -9999.0]\n"
     ]
    }
   ],
   "source": [
    "#Air Temp CRN:\n",
    "with open('CRNS0101-05-2022-AL_Gainesville_2_NE.txt') as f:\n",
    "    lst=[line.split()[12] for line in f]\n",
    "    \n",
    "    a=(float(lst[27227])+float(lst[27228]))/2\n",
    "    b=(float(lst[27239])+float(lst[27240]))/2\n",
    "    c=(float(lst[27251])+float(lst[27252]))/2\n",
    "    d=(float(lst[27263])+float(lst[27264]))/2\n",
    "    e=(float(lst[27275])+float(lst[27276]))/2\n",
    "    f=(float(lst[27287])+float(lst[27288]))/2\n",
    "    g=(float(lst[27299])+float(lst[27300]))/2\n",
    "    h=(float(lst[27311])+float(lst[27312]))/2\n",
    "    i=(float(lst[27323])+float(lst[27324]))/2\n",
    "    j=(float(lst[27335])+float(lst[27336]))/2\n",
    "    k=(float(lst[27347])+float(lst[27348]))/2\n",
    "    l=(float(lst[27359])+float(lst[27360]))/2\n",
    "    m=(float(lst[27371])+float(lst[27372]))/2\n",
    "    n=(float(lst[27383])+float(lst[27384]))/2\n",
    "    o=(float(lst[27395])+float(lst[27396]))/2\n",
    "    p=(float(lst[27407])+float(lst[27408]))/2\n",
    "    q=(float(lst[27419])+float(lst[27420]))/2\n",
    "    r=(float(lst[27431])+float(lst[27432]))/2\n",
    "    s=(float(lst[27443])+float(lst[27444]))/2\n",
    "    t=(float(lst[27455])+float(lst[27456]))/2\n",
    "    u=(float(lst[27467])+float(lst[27468]))/2\n",
    "    v=(float(lst[27479])+float(lst[27480]))/2\n",
    "    w=(float(lst[27491])+float(lst[27492]))/2\n",
    "    x=(float(lst[27503])+float(lst[27504]))/2\n",
    "    y=(float(lst[27515])+float(lst[27516]))/2\n",
    "    temp_crn=[a,b,c,d,e,f,g,h,i,j,k,l,m,n,o,p,q,r,s,t,u,v,w,x,y]\n",
    "    print(temp_crn)"
   ]
  },
  {
   "cell_type": "code",
   "execution_count": 95,
   "id": "b1176cf2",
   "metadata": {},
   "outputs": [],
   "source": [
    "# difference3_gai = []\n",
    "\n",
    "# zip_object = zip(temp, temp_crn)\n",
    "# for temp_i, temp_crn_i in zip_object:\n",
    "#     difference3_gai.append(temp_i-temp_crn_i)\n",
    "\n",
    "# print(difference3_gai)"
   ]
  },
  {
   "cell_type": "markdown",
   "id": "0a541e7a",
   "metadata": {},
   "source": [
    "<font size=\"3\">Fairhope, AL: 1300 UTC 5 April 2022-1300 UTC 6 April 2022</font>"
   ]
  },
  {
   "cell_type": "code",
   "execution_count": 96,
   "id": "26818932",
   "metadata": {},
   "outputs": [
    {
     "name": "stdout",
     "output_type": "stream",
     "text": [
      "[22.78, 23.63, 24.47, 25.44, 25.72, 26.45, 24.51, 22.44, 20.39, 21.49, 20.26, 20.51, 21.71, 21.65, 21.72, 21.67, 21.69, 21.71, 21.62, 21.6, 21.64, 21.7, 21.87, 21.84, 22.21]\n",
      "25\n"
     ]
    }
   ],
   "source": [
    "#12 hr hrrr:\n",
    "with open('hrrr_f12_Fairhope_AL.txt') as f:\n",
    "    lst=[line.split()[4] for line in f]\n",
    "    temp=[]\n",
    "    for i in lst:\n",
    "        new=i.replace(',',\"\")\n",
    "        temp.append(new)\n",
    "    temp.pop(0)\n",
    "    temp=[float(x) for x in temp]\n",
    "    temp=temp[2257:2282]\n",
    "    #temp=temp[2015:2063]\n",
    "    print(temp)\n",
    "    print(len(temp))\n",
    "#full time period is [2015:2112]"
   ]
  },
  {
   "cell_type": "code",
   "execution_count": 97,
   "id": "aacaaf75",
   "metadata": {},
   "outputs": [
    {
     "name": "stdout",
     "output_type": "stream",
     "text": [
      "[22.9, 23.7, 25.5, 24.4, 24.1, 16.0, 16.9, 19.85, 21.15, 20.35, 20.5, 19.6, 19.65, 19.85, 20.55, 21.9, 21.9, 22.0, 22.1, 22.0, 22.05, 22.0, 22.0, 22.0, 24.0]\n"
     ]
    }
   ],
   "source": [
    "#Air Temp CRN:\n",
    "with open('CRNS0101-05-2022-AL_Fairhope_3_NE.txt') as f:\n",
    "    lst=[line.split()[12] for line in f]\n",
    "    \n",
    "    a=(float(lst[27227])+float(lst[27228]))/2\n",
    "    b=(float(lst[27239])+float(lst[27240]))/2\n",
    "    c=(float(lst[27251])+float(lst[27252]))/2\n",
    "    d=(float(lst[27263])+float(lst[27264]))/2\n",
    "    e=(float(lst[27275])+float(lst[27276]))/2\n",
    "    f=(float(lst[27287])+float(lst[27288]))/2\n",
    "    g=(float(lst[27299])+float(lst[27300]))/2\n",
    "    h=(float(lst[27311])+float(lst[27312]))/2\n",
    "    i=(float(lst[27323])+float(lst[27324]))/2\n",
    "    j=(float(lst[27335])+float(lst[27336]))/2\n",
    "    k=(float(lst[27347])+float(lst[27348]))/2\n",
    "    l=(float(lst[27359])+float(lst[27360]))/2\n",
    "    m=(float(lst[27371])+float(lst[27372]))/2\n",
    "    n=(float(lst[27383])+float(lst[27384]))/2\n",
    "    o=(float(lst[27395])+float(lst[27396]))/2\n",
    "    p=(float(lst[27407])+float(lst[27408]))/2\n",
    "    q=(float(lst[27419])+float(lst[27420]))/2\n",
    "    r=(float(lst[27431])+float(lst[27432]))/2\n",
    "    s=(float(lst[27443])+float(lst[27444]))/2\n",
    "    t=(float(lst[27455])+float(lst[27456]))/2\n",
    "    u=(float(lst[27467])+float(lst[27468]))/2\n",
    "    v=(float(lst[27479])+float(lst[27480]))/2\n",
    "    w=(float(lst[27491])+float(lst[27492]))/2\n",
    "    x=(float(lst[27503])+float(lst[27504]))/2\n",
    "    y=(float(lst[27515])+float(lst[27516]))/2\n",
    "    temp_crn=[a,b,c,d,e,f,g,h,i,j,k,l,m,n,o,p,q,r,s,t,u,v,w,x,y]\n",
    "    print(temp_crn)"
   ]
  },
  {
   "cell_type": "code",
   "execution_count": 98,
   "id": "e08d6481",
   "metadata": {},
   "outputs": [
    {
     "name": "stdout",
     "output_type": "stream",
     "text": [
      "[-0.11999999999999744, -0.07000000000000028, -1.0300000000000011, 1.0400000000000027, 1.6199999999999974, 10.45, 7.610000000000003, 2.59, -0.759999999999998, 1.139999999999997, -0.23999999999999844, 0.9100000000000001, 2.0600000000000023, 1.7999999999999972, 1.1699999999999982, -0.22999999999999687, -0.2099999999999973, -0.28999999999999915, -0.4800000000000004, -0.3999999999999986, -0.41000000000000014, -0.3000000000000007, -0.129999999999999, -0.16000000000000014, -1.7899999999999991]\n"
     ]
    }
   ],
   "source": [
    "difference3_fai = []\n",
    "\n",
    "zip_object = zip(temp, temp_crn)\n",
    "for temp_i, temp_crn_i in zip_object:\n",
    "    difference3_fai.append(temp_i-temp_crn_i)\n",
    "\n",
    "print(difference3_fai)"
   ]
  },
  {
   "cell_type": "markdown",
   "id": "817a1997",
   "metadata": {},
   "source": [
    "<font size=\"3\">Selma, AL: 1300 UTC 5 April 2022-1300 UTC 6 April 2022</font>"
   ]
  },
  {
   "cell_type": "code",
   "execution_count": 99,
   "id": "3850a5ea",
   "metadata": {},
   "outputs": [
    {
     "name": "stdout",
     "output_type": "stream",
     "text": [
      "[17.88, 19.23, 20.4, 19.96, 21.03, 20.31, 19.05, 21.46, 22.19, 20.38, 20.18, 18.67, 18.8, 18.48, 17.79, 18.32, 17.04, 17.89, 17.63, 17.67, 17.86, 18.17, 19.04, 18.97, 21.01]\n"
     ]
    }
   ],
   "source": [
    "#1 hr hrrr:\n",
    "with open('hrrr_f12_Selma_AL.txt') as f:\n",
    "    lst=[line.split()[4] for line in f]\n",
    "    temp=[]\n",
    "    for i in lst:\n",
    "        new=i.replace(',',\"\")\n",
    "        temp.append(new)\n",
    "    temp.pop(0)\n",
    "    temp=[float(x) for x in temp]\n",
    "    temp=temp[2257:2282]\n",
    "    print(temp)"
   ]
  },
  {
   "cell_type": "code",
   "execution_count": 100,
   "id": "a77fd0d0",
   "metadata": {},
   "outputs": [
    {
     "name": "stdout",
     "output_type": "stream",
     "text": [
      "[16.35, 16.75, 18.5, 18.55, 18.45, 17.85, 18.75, 20.0, 21.2, 22.35, 19.9, 18.700000000000003, 17.75, 17.55, 17.1, 17.55, 18.55, 19.0, 19.1, 18.9, 19.0, 19.3, 19.7, 19.9, 20.2]\n"
     ]
    }
   ],
   "source": [
    "#Air Temp CRN:\n",
    "with open('CRNS0101-05-2022-AL_Selma_13_WNW.txt') as f:\n",
    "    lst=[line.split()[12] for line in f]\n",
    "    \n",
    "    a=(float(lst[27227])+float(lst[27228]))/2\n",
    "    b=(float(lst[27239])+float(lst[27240]))/2\n",
    "    c=(float(lst[27251])+float(lst[27252]))/2\n",
    "    d=(float(lst[27263])+float(lst[27264]))/2\n",
    "    e=(float(lst[27275])+float(lst[27276]))/2\n",
    "    f=(float(lst[27287])+float(lst[27288]))/2\n",
    "    g=(float(lst[27299])+float(lst[27300]))/2\n",
    "    h=(float(lst[27311])+float(lst[27312]))/2\n",
    "    i=(float(lst[27323])+float(lst[27324]))/2\n",
    "    j=(float(lst[27335])+float(lst[27336]))/2\n",
    "    k=(float(lst[27347])+float(lst[27348]))/2\n",
    "    l=(float(lst[27359])+float(lst[27360]))/2\n",
    "    m=(float(lst[27371])+float(lst[27372]))/2\n",
    "    n=(float(lst[27383])+float(lst[27384]))/2\n",
    "    o=(float(lst[27395])+float(lst[27396]))/2\n",
    "    p=(float(lst[27407])+float(lst[27408]))/2\n",
    "    q=(float(lst[27419])+float(lst[27420]))/2\n",
    "    r=(float(lst[27431])+float(lst[27432]))/2\n",
    "    s=(float(lst[27443])+float(lst[27444]))/2\n",
    "    t=(float(lst[27455])+float(lst[27456]))/2\n",
    "    u=(float(lst[27467])+float(lst[27468]))/2\n",
    "    v=(float(lst[27479])+float(lst[27480]))/2\n",
    "    w=(float(lst[27491])+float(lst[27492]))/2\n",
    "    x=(float(lst[27503])+float(lst[27504]))/2\n",
    "    y=(float(lst[27515])+float(lst[27516]))/2\n",
    "    temp_crn=[a,b,c,d,e,f,g,h,i,j,k,l,m,n,o,p,q,r,s,t,u,v,w,x,y]\n",
    "    print(temp_crn)"
   ]
  },
  {
   "cell_type": "code",
   "execution_count": 101,
   "id": "6b41efd2",
   "metadata": {},
   "outputs": [
    {
     "name": "stdout",
     "output_type": "stream",
     "text": [
      "[1.5299999999999976, 2.4800000000000004, 1.8999999999999986, 1.4100000000000001, 2.580000000000002, 2.4599999999999973, 0.3000000000000007, 1.4600000000000009, 0.990000000000002, -1.9700000000000024, 0.28000000000000114, -0.030000000000001137, 1.0500000000000007, 0.9299999999999997, 0.6899999999999977, 0.7699999999999996, -1.5100000000000016, -1.1099999999999994, -1.4700000000000024, -1.2299999999999969, -1.1400000000000006, -1.129999999999999, -0.6600000000000001, -0.9299999999999997, 0.8100000000000023]\n",
      "25\n"
     ]
    }
   ],
   "source": [
    "difference3_sel = []\n",
    "\n",
    "zip_object = zip(temp, temp_crn)\n",
    "for temp_i, temp_crn_i in zip_object:\n",
    "    difference3_sel.append(temp_i-temp_crn_i)\n",
    "\n",
    "print(difference3_sel)\n",
    "print(len(difference3_sel))"
   ]
  },
  {
   "cell_type": "markdown",
   "id": "8492b45b",
   "metadata": {},
   "source": [
    "<font size=\"3\">Bowling Green, KY: 1500 UTC 5 April 2022-1500 UTC 6 April 2022</font>"
   ]
  },
  {
   "cell_type": "code",
   "execution_count": 102,
   "id": "f04dad03",
   "metadata": {},
   "outputs": [
    {
     "name": "stdout",
     "output_type": "stream",
     "text": [
      "[15.88, 17.28, 16.44, 14.4, 14.57, 16.08, 13.98, 13.32, 12.54, 11.99, 9.88, 9.06, 8.22, 8.14001, 9.28, 8.73001, 8.66, 9.02002, 8.98001, 9.60001, 9.77002, 10.39, 11.54, 13.18, 13.59]\n",
      "25\n"
     ]
    }
   ],
   "source": [
    "#12 hr hrrr:\n",
    "with open('hrrr_f12_Bowling Green_KY.txt') as f:\n",
    "    lst=[line.split()[4] for line in f]\n",
    "    temp=[]\n",
    "    for i in lst:\n",
    "        new=i.replace(',',\"\")\n",
    "        temp.append(new)\n",
    "    temp.pop(0)\n",
    "    temp=[float(x) for x in temp]\n",
    "    temp=temp[2259:2284]\n",
    "    #temp=temp[2015:2063]\n",
    "    print(temp)\n",
    "    print(len(temp))"
   ]
  },
  {
   "cell_type": "code",
   "execution_count": 103,
   "id": "51bfc81e",
   "metadata": {},
   "outputs": [
    {
     "name": "stdout",
     "output_type": "stream",
     "text": [
      "[11.1, 12.4, 13.65, 15.0, 12.75, 14.0, 13.9, 13.35, 12.6, 11.75, 11.05, 9.4, 5.85, 6.65, 9.4, 8.0, 10.45, 10.7, 10.9, 10.75, 10.7, 11.25, 12.2, 13.05, 14.45]\n"
     ]
    }
   ],
   "source": [
    "#Air Temp CRN:\n",
    "with open('CRNS0101-05-2022-KY_Bowling_Green_21_NNE.txt') as f:\n",
    "    lst=[line.split()[12] for line in f]\n",
    "    \n",
    "    a=(float(lst[27251])+float(lst[27252]))/2\n",
    "    b=(float(lst[27263])+float(lst[27264]))/2\n",
    "    c=(float(lst[27275])+float(lst[27276]))/2\n",
    "    d=(float(lst[27287])+float(lst[27288]))/2\n",
    "    e=(float(lst[27299])+float(lst[27300]))/2\n",
    "    f=(float(lst[27311])+float(lst[27312]))/2\n",
    "    g=(float(lst[27323])+float(lst[27324]))/2\n",
    "    h=(float(lst[27335])+float(lst[27336]))/2\n",
    "    i=(float(lst[27347])+float(lst[27348]))/2\n",
    "    j=(float(lst[27359])+float(lst[27360]))/2\n",
    "    k=(float(lst[27371])+float(lst[27372]))/2\n",
    "    l=(float(lst[27383])+float(lst[27384]))/2\n",
    "    m=(float(lst[27395])+float(lst[27396]))/2\n",
    "    n=(float(lst[27407])+float(lst[27408]))/2\n",
    "    o=(float(lst[27419])+float(lst[27420]))/2\n",
    "    p=(float(lst[27431])+float(lst[27432]))/2\n",
    "    q=(float(lst[27443])+float(lst[27444]))/2\n",
    "    r=(float(lst[27455])+float(lst[27456]))/2\n",
    "    s=(float(lst[27467])+float(lst[27468]))/2\n",
    "    t=(float(lst[27479])+float(lst[27480]))/2\n",
    "    u=(float(lst[27491])+float(lst[27492]))/2\n",
    "    v=(float(lst[27503])+float(lst[27504]))/2\n",
    "    w=(float(lst[27515])+float(lst[27516]))/2\n",
    "    x=(float(lst[27527])+float(lst[27528]))/2\n",
    "    y=(float(lst[27539])+float(lst[27540]))/2\n",
    "    temp_crn=[a,b,c,d,e,f,g,h,i,j,k,l,m,n,o,p,q,r,s,t,u,v,w,x,y]\n",
    "    print(temp_crn)"
   ]
  },
  {
   "cell_type": "code",
   "execution_count": 104,
   "id": "8047270f",
   "metadata": {},
   "outputs": [
    {
     "name": "stdout",
     "output_type": "stream",
     "text": [
      "[4.780000000000001, 4.880000000000001, 2.790000000000001, -0.5999999999999996, 1.8200000000000003, 2.0799999999999983, 0.08000000000000007, -0.02999999999999936, -0.0600000000000005, 0.2400000000000002, -1.17, -0.33999999999999986, 2.370000000000001, 1.4900099999999998, -0.120000000000001, 0.73001, -1.7899999999999991, -1.6799799999999987, -1.9199900000000003, -1.1499900000000007, -0.9299799999999987, -0.8599999999999994, -0.6600000000000001, 0.129999999999999, -0.8599999999999994]\n"
     ]
    }
   ],
   "source": [
    "difference3_bow = []\n",
    "\n",
    "zip_object = zip(temp, temp_crn)\n",
    "for temp_i, temp_crn_i in zip_object:\n",
    "    difference3_bow.append(temp_i-temp_crn_i)\n",
    "\n",
    "print(difference3_bow)"
   ]
  },
  {
   "cell_type": "markdown",
   "id": "e3343352",
   "metadata": {},
   "source": [
    "<font size=\"3\">Gadsden, AL: 1500 UTC 5 April 2022-1500 UTC 6 April 2022</font>"
   ]
  },
  {
   "cell_type": "code",
   "execution_count": 105,
   "id": "b5d956b1",
   "metadata": {},
   "outputs": [
    {
     "name": "stdout",
     "output_type": "stream",
     "text": [
      "[11.89, 11.96, 14.74, 14.41, 17.22, 19.16, 19.14, 19.12, 18.52, 17.11, 16.1, 14.7, 13.33, 12.09, 12.57, 12.32, 12.1, 11.98, 12.77, 13.62, 14.09, 14.47, 15.12, 16.45, 18.16]\n",
      "25\n"
     ]
    }
   ],
   "source": [
    "#12 hr hrrr:\n",
    "with open('hrrr_f12_Gadsden_AL.txt') as f:\n",
    "    lst=[line.split()[4] for line in f]\n",
    "    temp=[]\n",
    "    for i in lst:\n",
    "        new=i.replace(',',\"\")\n",
    "        temp.append(new)\n",
    "    temp.pop(0)\n",
    "    temp=[float(x) for x in temp]\n",
    "    temp=temp[2259:2284]\n",
    "    #temp=temp[2015:2063]\n",
    "    print(temp)\n",
    "    print(len(temp))\n",
    "#full time period is [2015:2112]"
   ]
  },
  {
   "cell_type": "code",
   "execution_count": 106,
   "id": "e7df9414",
   "metadata": {},
   "outputs": [
    {
     "name": "stdout",
     "output_type": "stream",
     "text": [
      "[11.0, 11.2, 12.05, 13.4, 17.6, 17.75, 17.4, 17.4, 17.35, 16.1, 14.5, 12.649999999999999, 10.850000000000001, 12.8, 13.350000000000001, 13.2, 13.7, 14.0, 14.2, 14.6, 14.7, 15.5, 16.55, 17.700000000000003, 18.3]\n"
     ]
    }
   ],
   "source": [
    "#Air Temp CRN:\n",
    "with open('CRNS0101-05-2022-AL_Gadsden_19_N.txt') as f:\n",
    "    lst=[line.split()[12] for line in f]\n",
    "    \n",
    "    a=(float(lst[27251])+float(lst[27252]))/2\n",
    "    b=(float(lst[27263])+float(lst[27264]))/2\n",
    "    c=(float(lst[27275])+float(lst[27276]))/2\n",
    "    d=(float(lst[27287])+float(lst[27288]))/2\n",
    "    e=(float(lst[27299])+float(lst[27300]))/2\n",
    "    f=(float(lst[27311])+float(lst[27312]))/2\n",
    "    g=(float(lst[27323])+float(lst[27324]))/2\n",
    "    h=(float(lst[27335])+float(lst[27336]))/2\n",
    "    i=(float(lst[27347])+float(lst[27348]))/2\n",
    "    j=(float(lst[27359])+float(lst[27360]))/2\n",
    "    k=(float(lst[27371])+float(lst[27372]))/2\n",
    "    l=(float(lst[27383])+float(lst[27384]))/2\n",
    "    m=(float(lst[27395])+float(lst[27396]))/2\n",
    "    n=(float(lst[27407])+float(lst[27408]))/2\n",
    "    o=(float(lst[27419])+float(lst[27420]))/2\n",
    "    p=(float(lst[27431])+float(lst[27432]))/2\n",
    "    q=(float(lst[27443])+float(lst[27444]))/2\n",
    "    r=(float(lst[27455])+float(lst[27456]))/2\n",
    "    s=(float(lst[27467])+float(lst[27468]))/2\n",
    "    t=(float(lst[27479])+float(lst[27480]))/2\n",
    "    u=(float(lst[27491])+float(lst[27492]))/2\n",
    "    v=(float(lst[27503])+float(lst[27504]))/2\n",
    "    w=(float(lst[27515])+float(lst[27516]))/2\n",
    "    x=(float(lst[27527])+float(lst[27528]))/2\n",
    "    y=(float(lst[27539])+float(lst[27540]))/2\n",
    "    temp_crn=[a,b,c,d,e,f,g,h,i,j,k,l,m,n,o,p,q,r,s,t,u,v,w,x,y]\n",
    "    print(temp_crn)"
   ]
  },
  {
   "cell_type": "code",
   "execution_count": 107,
   "id": "9ac3a61b",
   "metadata": {},
   "outputs": [
    {
     "name": "stdout",
     "output_type": "stream",
     "text": [
      "[0.8900000000000006, 0.7600000000000016, 2.6899999999999995, 1.0099999999999998, -0.38000000000000256, 1.4100000000000001, 1.740000000000002, 1.7200000000000024, 1.1699999999999982, 1.009999999999998, 1.6000000000000014, 2.0500000000000007, 2.4799999999999986, -0.7100000000000009, -0.7800000000000011, -0.879999999999999, -1.5999999999999996, -2.0199999999999996, -1.4299999999999997, -0.9800000000000004, -0.6099999999999994, -1.0299999999999994, -1.4300000000000015, -1.2500000000000036, -0.14000000000000057]\n"
     ]
    }
   ],
   "source": [
    "difference3_gad = []\n",
    "\n",
    "zip_object = zip(temp, temp_crn)\n",
    "for temp_i, temp_crn_i in zip_object:\n",
    "    difference3_gad.append(temp_i-temp_crn_i)\n",
    "\n",
    "print(difference3_gad)"
   ]
  },
  {
   "cell_type": "markdown",
   "id": "24b41c3d",
   "metadata": {},
   "source": [
    "<font size=\"3\">Newton, GA: 1800 UTC 5 April 2022-1800 UTC 6 April 2022</font>"
   ]
  },
  {
   "cell_type": "code",
   "execution_count": 108,
   "id": "a8841de8",
   "metadata": {},
   "outputs": [
    {
     "name": "stdout",
     "output_type": "stream",
     "text": [
      "[27.82, 30.89, 30.38, 27.61, 23.06, 19.27, 18.89, 18.78, 18.82, 18.41, 18.8, 18.52, 21.37, 20.77, 20.3, 18.65, 19.1, 18.01, 18.4, 21.15, 23.73, 24.64, 25.0, 26.86, 25.39]\n",
      "25\n"
     ]
    }
   ],
   "source": [
    "#12 hr hrrr:\n",
    "with open('hrrr_f12_Newton_GA.txt') as f:\n",
    "    lst=[line.split()[4] for line in f]\n",
    "    temp=[]\n",
    "    for i in lst:\n",
    "        new=i.replace(',',\"\")\n",
    "        temp.append(new)\n",
    "    temp.pop(0)\n",
    "    temp=[float(x) for x in temp]\n",
    "    temp=temp[2262:2287]\n",
    "    #temp=temp[2015:2063]\n",
    "    print(temp)\n",
    "    print(len(temp))\n",
    "#full time period is [2015:2112]"
   ]
  },
  {
   "cell_type": "code",
   "execution_count": 109,
   "id": "263bc114",
   "metadata": {},
   "outputs": [
    {
     "name": "stdout",
     "output_type": "stream",
     "text": [
      "[27.35, 25.0, 18.0, 17.5, 17.4, 17.5, 17.4, 17.4, 17.4, 16.6, 16.75, 17.1, 17.8, 18.2, 18.9, 19.5, 20.1, 20.6, 20.95, 22.05, 23.15, 25.3, 27.049999999999997, 28.299999999999997, 30.299999999999997]\n"
     ]
    }
   ],
   "source": [
    "#Air Temp CRN:\n",
    "with open('CRNS0101-05-2022-GA_Newton_11_SW.txt') as f:\n",
    "    lst=[line.split()[12] for line in f]\n",
    "    \n",
    "    a=(float(lst[27287])+float(lst[27288]))/2\n",
    "    b=(float(lst[27299])+float(lst[27300]))/2\n",
    "    c=(float(lst[27311])+float(lst[27312]))/2\n",
    "    d=(float(lst[27323])+float(lst[27324]))/2\n",
    "    e=(float(lst[27335])+float(lst[27336]))/2\n",
    "    f=(float(lst[27347])+float(lst[27348]))/2\n",
    "    g=(float(lst[27359])+float(lst[27360]))/2\n",
    "    h=(float(lst[27371])+float(lst[27372]))/2\n",
    "    i=(float(lst[27383])+float(lst[27384]))/2\n",
    "    j=(float(lst[27395])+float(lst[27396]))/2\n",
    "    k=(float(lst[27407])+float(lst[27408]))/2\n",
    "    l=(float(lst[27419])+float(lst[27420]))/2\n",
    "    m=(float(lst[27431])+float(lst[27432]))/2\n",
    "    n=(float(lst[27443])+float(lst[27444]))/2\n",
    "    o=(float(lst[27455])+float(lst[27456]))/2\n",
    "    p=(float(lst[27467])+float(lst[27468]))/2\n",
    "    q=(float(lst[27479])+float(lst[27480]))/2\n",
    "    r=(float(lst[27491])+float(lst[27492]))/2\n",
    "    s=(float(lst[27503])+float(lst[27504]))/2\n",
    "    t=(float(lst[27515])+float(lst[27516]))/2\n",
    "    u=(float(lst[27527])+float(lst[27528]))/2\n",
    "    v=(float(lst[27539])+float(lst[27540]))/2\n",
    "    w=(float(lst[27551])+float(lst[27552]))/2\n",
    "    x=(float(lst[27563])+float(lst[27564]))/2\n",
    "    y=(float(lst[27575])+float(lst[27576]))/2\n",
    "    temp_crn=[a,b,c,d,e,f,g,h,i,j,k,l,m,n,o,p,q,r,s,t,u,v,w,x,y]\n",
    "    print(temp_crn)"
   ]
  },
  {
   "cell_type": "code",
   "execution_count": 110,
   "id": "474e5fae",
   "metadata": {},
   "outputs": [
    {
     "name": "stdout",
     "output_type": "stream",
     "text": [
      "[0.46999999999999886, 5.890000000000001, 12.379999999999999, 10.11, 5.66, 1.7699999999999996, 1.490000000000002, 1.3800000000000026, 1.4200000000000017, 1.8099999999999987, 2.0500000000000007, 1.4199999999999982, 3.5700000000000003, 2.5700000000000003, 1.4000000000000021, -0.8500000000000014, -1.0, -2.59, -2.5500000000000007, -0.9000000000000021, 0.5800000000000018, -0.6600000000000001, -2.049999999999997, -1.4399999999999977, -4.909999999999997]\n"
     ]
    }
   ],
   "source": [
    "difference3_newt = []\n",
    "\n",
    "zip_object = zip(temp, temp_crn)\n",
    "for temp_i, temp_crn_i in zip_object:\n",
    "    difference3_newt.append(temp_i-temp_crn_i)\n",
    "\n",
    "print(difference3_newt)"
   ]
  },
  {
   "cell_type": "markdown",
   "id": "e079df5d",
   "metadata": {},
   "source": [
    "<font size=\"3\">Salem, MO: 1500 UTC 13 April 2022-1500 UTC 14 April 2022</font>"
   ]
  },
  {
   "cell_type": "code",
   "execution_count": 111,
   "id": "8a544d44",
   "metadata": {},
   "outputs": [
    {
     "name": "stdout",
     "output_type": "stream",
     "text": [
      "[17.43, 16.42, 16.25, 16.19, 16.89, 14.52, 10.05, 7.51001, 7.07001, 6.17001, 4.84, 4.36002, 3.26001, 3.19, 2.58002, 2.34, 1.75, 1.42001, 1.10001, 0.709991, 0.5, 0.660004, 3.66, 7.03, 9.73001]\n",
      "25\n"
     ]
    }
   ],
   "source": [
    "#12 hr hrrr:\n",
    "with open('hrrr_f12_Salem_MO.txt') as f:\n",
    "    lst=[line.split()[4] for line in f]\n",
    "    temp=[]\n",
    "    for i in lst:\n",
    "        new=i.replace(',',\"\")\n",
    "        temp.append(new)\n",
    "    temp.pop(0)\n",
    "    temp=[float(x) for x in temp]\n",
    "    temp=temp[2451:2476]\n",
    "    #temp=temp[2015:2063]\n",
    "    print(temp)\n",
    "    print(len(temp))\n",
    "#full time period is [2015:2112]"
   ]
  },
  {
   "cell_type": "code",
   "execution_count": 112,
   "id": "11955714",
   "metadata": {},
   "outputs": [
    {
     "name": "stdout",
     "output_type": "stream",
     "text": [
      "[16.6, 16.4, 14.649999999999999, 14.4, 14.3, 10.05, 9.5, 9.55, 7.95, 6.75, 4.8, 5.95, 5.25, 2.4, 0.9, -0.6, -1.5, -2.3499999999999996, -2.5, -2.1, -3.75, -2.05, 3.2, 10.1, 15.65]\n"
     ]
    }
   ],
   "source": [
    "#Air Temp CRN:\n",
    "with open('CRNS0101-05-2022-MO_Salem_10_W.txt') as f:\n",
    "    lst=[line.split()[12] for line in f]\n",
    "    \n",
    "    a=(float(lst[29555])+float(lst[29556]))/2\n",
    "    b=(float(lst[29567])+float(lst[29568]))/2\n",
    "    c=(float(lst[29579])+float(lst[29580]))/2\n",
    "    d=(float(lst[29591])+float(lst[29592]))/2\n",
    "    e=(float(lst[29603])+float(lst[29604]))/2\n",
    "    f=(float(lst[29615])+float(lst[29616]))/2\n",
    "    g=(float(lst[29627])+float(lst[29628]))/2\n",
    "    h=(float(lst[29639])+float(lst[29640]))/2\n",
    "    i=(float(lst[29651])+float(lst[29652]))/2\n",
    "    j=(float(lst[29663])+float(lst[29664]))/2\n",
    "    k=(float(lst[29675])+float(lst[29676]))/2\n",
    "    l=(float(lst[29687])+float(lst[29688]))/2\n",
    "    m=(float(lst[29699])+float(lst[29700]))/2\n",
    "    n=(float(lst[29711])+float(lst[29712]))/2\n",
    "    o=(float(lst[29723])+float(lst[29724]))/2\n",
    "    p=(float(lst[29735])+float(lst[29736]))/2\n",
    "    q=(float(lst[29747])+float(lst[29748]))/2\n",
    "    r=(float(lst[29759])+float(lst[29760]))/2\n",
    "    s=(float(lst[29771])+float(lst[29772]))/2\n",
    "    t=(float(lst[29783])+float(lst[29784]))/2\n",
    "    u=(float(lst[29795])+float(lst[29796]))/2\n",
    "    v=(float(lst[29807])+float(lst[29808]))/2\n",
    "    w=(float(lst[29819])+float(lst[29820]))/2\n",
    "    x=(float(lst[29831])+float(lst[29832]))/2\n",
    "    y=(float(lst[29843])+float(lst[29844]))/2\n",
    "    temp_crn=[a,b,c,d,e,f,g,h,i,j,k,l,m,n,o,p,q,r,s,t,u,v,w,x,y]\n",
    "    print(temp_crn)"
   ]
  },
  {
   "cell_type": "code",
   "execution_count": 113,
   "id": "cfc37d3d",
   "metadata": {},
   "outputs": [
    {
     "name": "stdout",
     "output_type": "stream",
     "text": [
      "[0.8299999999999983, 0.020000000000003126, 1.6000000000000014, 1.790000000000001, 2.59, 4.469999999999999, 0.5500000000000007, -2.0399900000000004, -0.8799900000000003, -0.5799899999999996, 0.040000000000000036, -1.5899800000000006, -1.9899900000000001, 0.79, 1.6800200000000003, 2.94, 3.25, 3.7700099999999996, 3.60001, 2.809991, 4.25, 2.7100039999999996, 0.45999999999999996, -3.0699999999999994, -5.91999]\n"
     ]
    }
   ],
   "source": [
    "difference4_sal = []\n",
    "\n",
    "zip_object = zip(temp, temp_crn)\n",
    "for temp_i, temp_crn_i in zip_object:\n",
    "    difference4_sal.append(temp_i-temp_crn_i)\n",
    "\n",
    "print(difference4_sal)"
   ]
  },
  {
   "cell_type": "markdown",
   "id": "1baa8356",
   "metadata": {},
   "source": [
    "<font size=\"3\">Batesville, AR: 1500 UTC 13 April 2022-1500 UTC 14 April 2022</font>"
   ]
  },
  {
   "cell_type": "code",
   "execution_count": 114,
   "id": "50af2a53",
   "metadata": {},
   "outputs": [
    {
     "name": "stdout",
     "output_type": "stream",
     "text": [
      "[20.01, 20.5, 22.25, 22.03, 21.59, 21.75, 19.71, 15.69, 13.25, 10.8, 8.39999, 7.62, 7.66, 7.38, 6.84, 6.39001, 5.16, 4.91, 4.35001, 3.66, 3.20999, 3.11002, 6.84, 10.97, 14.19]\n",
      "25\n"
     ]
    }
   ],
   "source": [
    "#12 hr hrrr:\n",
    "with open('hrrr_f12_Batesville_AR.txt') as f:\n",
    "    lst=[line.split()[4] for line in f]\n",
    "    temp=[]\n",
    "    for i in lst:\n",
    "        new=i.replace(',',\"\")\n",
    "        temp.append(new)\n",
    "    temp.pop(0)\n",
    "    temp=[float(x) for x in temp]\n",
    "    temp=temp[2451:2476]\n",
    "    #temp=temp[2015:2063]\n",
    "    print(temp)\n",
    "    print(len(temp))\n",
    "#full time period is [2015:2112]"
   ]
  },
  {
   "cell_type": "code",
   "execution_count": 115,
   "id": "006ec050",
   "metadata": {},
   "outputs": [
    {
     "name": "stdout",
     "output_type": "stream",
     "text": [
      "[17.75, 18.6, 17.75, 18.15, 16.95, 16.4, 16.5, 14.4, 11.7, 10.4, 9.5, 8.95, 8.35, 6.85, 6.85, 5.4, 2.7, 0.6, 0.45, 0.4, -0.3, 0.1, 5.5, 11.149999999999999, 14.5]\n"
     ]
    }
   ],
   "source": [
    "#Air Temp CRN:\n",
    "with open('CRNS0101-05-2022-AR_Batesville_8_WNW.txt') as f:\n",
    "    lst=[line.split()[12] for line in f]\n",
    "    \n",
    "    a=(float(lst[29555])+float(lst[29556]))/2\n",
    "    b=(float(lst[29567])+float(lst[29568]))/2\n",
    "    c=(float(lst[29579])+float(lst[29580]))/2\n",
    "    d=(float(lst[29591])+float(lst[29592]))/2\n",
    "    e=(float(lst[29603])+float(lst[29604]))/2\n",
    "    f=(float(lst[29615])+float(lst[29616]))/2\n",
    "    g=(float(lst[29627])+float(lst[29628]))/2\n",
    "    h=(float(lst[29639])+float(lst[29640]))/2\n",
    "    i=(float(lst[29651])+float(lst[29652]))/2\n",
    "    j=(float(lst[29663])+float(lst[29664]))/2\n",
    "    k=(float(lst[29675])+float(lst[29676]))/2\n",
    "    l=(float(lst[29687])+float(lst[29688]))/2\n",
    "    m=(float(lst[29699])+float(lst[29700]))/2\n",
    "    n=(float(lst[29711])+float(lst[29712]))/2\n",
    "    o=(float(lst[29723])+float(lst[29724]))/2\n",
    "    p=(float(lst[29735])+float(lst[29736]))/2\n",
    "    q=(float(lst[29747])+float(lst[29748]))/2\n",
    "    r=(float(lst[29759])+float(lst[29760]))/2\n",
    "    s=(float(lst[29771])+float(lst[29772]))/2\n",
    "    t=(float(lst[29783])+float(lst[29784]))/2\n",
    "    u=(float(lst[29795])+float(lst[29796]))/2\n",
    "    v=(float(lst[29807])+float(lst[29808]))/2\n",
    "    w=(float(lst[29819])+float(lst[29820]))/2\n",
    "    x=(float(lst[29831])+float(lst[29832]))/2\n",
    "    y=(float(lst[29843])+float(lst[29844]))/2\n",
    "    temp_crn=[a,b,c,d,e,f,g,h,i,j,k,l,m,n,o,p,q,r,s,t,u,v,w,x,y]\n",
    "    print(temp_crn)"
   ]
  },
  {
   "cell_type": "code",
   "execution_count": 116,
   "id": "3ca802b3",
   "metadata": {},
   "outputs": [
    {
     "name": "stdout",
     "output_type": "stream",
     "text": [
      "[2.2600000000000016, 1.8999999999999986, 4.5, 3.8800000000000026, 4.640000000000001, 5.350000000000001, 3.210000000000001, 1.2899999999999991, 1.5500000000000007, 0.40000000000000036, -1.1000099999999993, -1.3299999999999992, -0.6899999999999995, 0.5300000000000002, -0.009999999999999787, 0.9900099999999998, 2.46, 4.3100000000000005, 3.90001, 3.2600000000000002, 3.5099899999999997, 3.01002, 1.3399999999999999, -0.17999999999999794, -0.3100000000000005]\n"
     ]
    }
   ],
   "source": [
    "difference4_bat = []\n",
    "\n",
    "zip_object = zip(temp, temp_crn)\n",
    "for temp_i, temp_crn_i in zip_object:\n",
    "    difference4_bat.append(temp_i-temp_crn_i)\n",
    "\n",
    "print(difference4_bat)"
   ]
  },
  {
   "cell_type": "markdown",
   "id": "7089dff9",
   "metadata": {},
   "source": [
    "<font size=\"3\">Lafayette, LA: 2000 UTC 13 April 2022-2000 UTC 14 April 2022</font>"
   ]
  },
  {
   "cell_type": "code",
   "execution_count": 117,
   "id": "8be3433b",
   "metadata": {},
   "outputs": [
    {
     "name": "stdout",
     "output_type": "stream",
     "text": [
      "[31.28, 26.55, 25.86, 24.76, 23.51, 23.79, 22.95, 23.26, 22.69, 22.63, 18.71, 18.9, 18.61, 17.29, 15.6, 16.35, 15.44, 16.61, 16.52, 19.68, 20.38, 22.88, 24.38, 25.96, 27.81]\n",
      "25\n"
     ]
    }
   ],
   "source": [
    "#12 hr hrrr:\n",
    "with open('hrrr_f12_Lafayette_LA.txt') as f:\n",
    "    lst=[line.split()[4] for line in f]\n",
    "    temp=[]\n",
    "    for i in lst:\n",
    "        new=i.replace(',',\"\")\n",
    "        temp.append(new)\n",
    "    temp.pop(0)\n",
    "    temp=[float(x) for x in temp]\n",
    "    temp=temp[2456:2481]\n",
    "    #temp=temp[2015:2063]\n",
    "    print(temp)\n",
    "    print(len(temp))\n",
    "#full time period is [2015:2112]"
   ]
  },
  {
   "cell_type": "code",
   "execution_count": 118,
   "id": "4cb24849",
   "metadata": {},
   "outputs": [
    {
     "name": "stdout",
     "output_type": "stream",
     "text": [
      "[28.0, 26.3, 24.6, 24.6, 23.55, 23.1, 23.0, 16.1, 15.5, 15.45, 16.1, 16.25, 16.8, 16.55, 14.5, 14.35, 13.8, 15.25, 18.549999999999997, 22.9, 27.3, 30.9, 31.7, 33.9, 33.0]\n"
     ]
    }
   ],
   "source": [
    "#Air Temp CRN:\n",
    "with open('CRNS0101-05-2022-LA_Lafayette_13_SE.txt') as f:\n",
    "    lst=[line.split()[12] for line in f]\n",
    "    \n",
    "    a=(float(lst[29615])+float(lst[29616]))/2\n",
    "    b=(float(lst[29627])+float(lst[29628]))/2\n",
    "    c=(float(lst[29639])+float(lst[29640]))/2\n",
    "    d=(float(lst[29651])+float(lst[29652]))/2\n",
    "    e=(float(lst[29663])+float(lst[29664]))/2\n",
    "    f=(float(lst[29675])+float(lst[29676]))/2\n",
    "    g=(float(lst[29687])+float(lst[29688]))/2\n",
    "    h=(float(lst[29699])+float(lst[29700]))/2\n",
    "    i=(float(lst[29711])+float(lst[29712]))/2\n",
    "    j=(float(lst[29723])+float(lst[29724]))/2\n",
    "    k=(float(lst[29735])+float(lst[29736]))/2\n",
    "    l=(float(lst[29747])+float(lst[29748]))/2\n",
    "    m=(float(lst[29759])+float(lst[29760]))/2\n",
    "    n=(float(lst[29771])+float(lst[29772]))/2\n",
    "    o=(float(lst[29783])+float(lst[29784]))/2\n",
    "    p=(float(lst[29795])+float(lst[29796]))/2\n",
    "    q=(float(lst[29807])+float(lst[29808]))/2\n",
    "    r=(float(lst[29819])+float(lst[29820]))/2\n",
    "    s=(float(lst[29831])+float(lst[29832]))/2\n",
    "    t=(float(lst[29843])+float(lst[29844]))/2\n",
    "    u=(float(lst[29855])+float(lst[29856]))/2\n",
    "    v=(float(lst[29867])+float(lst[29868]))/2\n",
    "    w=(float(lst[29879])+float(lst[29880]))/2\n",
    "    x=(float(lst[29891])+float(lst[29892]))/2\n",
    "    y=(float(lst[29903])+float(lst[29904]))/2\n",
    "    temp_crn=[a,b,c,d,e,f,g,h,i,j,k,l,m,n,o,p,q,r,s,t,u,v,w,x,y]\n",
    "    print(temp_crn)"
   ]
  },
  {
   "cell_type": "code",
   "execution_count": 119,
   "id": "f0730891",
   "metadata": {},
   "outputs": [
    {
     "name": "stdout",
     "output_type": "stream",
     "text": [
      "[3.280000000000001, 0.25, 1.259999999999998, 0.16000000000000014, -0.03999999999999915, 0.6899999999999977, -0.05000000000000071, 7.16, 7.190000000000001, 7.18, 2.6099999999999994, 2.6499999999999986, 1.8099999999999987, 0.7399999999999984, 1.0999999999999996, 2.0000000000000018, 1.6399999999999988, 1.3599999999999994, -2.0299999999999976, -3.219999999999999, -6.920000000000002, -8.02, -7.32, -7.939999999999998, -5.190000000000001]\n"
     ]
    }
   ],
   "source": [
    "difference4_laf = []\n",
    "\n",
    "zip_object = zip(temp, temp_crn)\n",
    "for temp_i, temp_crn_i in zip_object:\n",
    "    difference4_laf.append(temp_i-temp_crn_i)\n",
    "\n",
    "print(difference4_laf)"
   ]
  },
  {
   "cell_type": "markdown",
   "id": "a4cb46d7",
   "metadata": {},
   "source": [
    "<font size=\"3\">Monroe, LA: 2000 UTC 13 April 2022-2000 UTC 14 April 2022</font>"
   ]
  },
  {
   "cell_type": "code",
   "execution_count": 120,
   "id": "bc9822b1",
   "metadata": {},
   "outputs": [
    {
     "name": "stdout",
     "output_type": "stream",
     "text": [
      "[27.84, 24.82, 24.77, 24.11, 19.22, 19.41, 16.89, 14.95, 13.0, 12.18, 11.56, 10.89, 10.56, 10.05, 9.13, 9.23001, 8.45999, 10.27, 12.69, 15.42, 18.02, 20.56, 22.6, 24.13, 24.53]\n",
      "25\n"
     ]
    }
   ],
   "source": [
    "#12 hr hrrr:\n",
    "with open('hrrr_f12_Monroe_LA.txt') as f:\n",
    "    lst=[line.split()[4] for line in f]\n",
    "    temp=[]\n",
    "    for i in lst:\n",
    "        new=i.replace(',',\"\")\n",
    "        temp.append(new)\n",
    "    temp.pop(0)\n",
    "    temp=[float(x) for x in temp]\n",
    "    temp=temp[2456:2481]\n",
    "    #temp=temp[2015:2063]\n",
    "    print(temp)\n",
    "    print(len(temp))\n",
    "#full time period is [2015:2112]"
   ]
  },
  {
   "cell_type": "code",
   "execution_count": 121,
   "id": "1718f471",
   "metadata": {},
   "outputs": [
    {
     "name": "stdout",
     "output_type": "stream",
     "text": [
      "[23.7, 22.799999999999997, 22.25, 22.05, 18.9, 18.0, 17.1, 13.1, 11.850000000000001, 10.649999999999999, 9.55, 8.6, 9.45, 9.25, 8.5, 8.5, 8.45, 11.3, 14.0, 16.5, 19.75, 22.450000000000003, 24.6, 25.9, 26.15]\n"
     ]
    }
   ],
   "source": [
    "#Air Temp CRN:\n",
    "with open('CRNS0101-05-2022-LA_Monroe_26_N.txt') as f:\n",
    "    lst=[line.split()[12] for line in f]\n",
    "    \n",
    "    a=(float(lst[29615])+float(lst[29616]))/2\n",
    "    b=(float(lst[29627])+float(lst[29628]))/2\n",
    "    c=(float(lst[29639])+float(lst[29640]))/2\n",
    "    d=(float(lst[29651])+float(lst[29652]))/2\n",
    "    e=(float(lst[29663])+float(lst[29664]))/2\n",
    "    f=(float(lst[29675])+float(lst[29676]))/2\n",
    "    g=(float(lst[29687])+float(lst[29688]))/2\n",
    "    h=(float(lst[29699])+float(lst[29700]))/2\n",
    "    i=(float(lst[29711])+float(lst[29712]))/2\n",
    "    j=(float(lst[29723])+float(lst[29724]))/2\n",
    "    k=(float(lst[29735])+float(lst[29736]))/2\n",
    "    l=(float(lst[29747])+float(lst[29748]))/2\n",
    "    m=(float(lst[29759])+float(lst[29760]))/2\n",
    "    n=(float(lst[29771])+float(lst[29772]))/2\n",
    "    o=(float(lst[29783])+float(lst[29784]))/2\n",
    "    p=(float(lst[29795])+float(lst[29796]))/2\n",
    "    q=(float(lst[29807])+float(lst[29808]))/2\n",
    "    r=(float(lst[29819])+float(lst[29820]))/2\n",
    "    s=(float(lst[29831])+float(lst[29832]))/2\n",
    "    t=(float(lst[29843])+float(lst[29844]))/2\n",
    "    u=(float(lst[29855])+float(lst[29856]))/2\n",
    "    v=(float(lst[29867])+float(lst[29868]))/2\n",
    "    w=(float(lst[29879])+float(lst[29880]))/2\n",
    "    x=(float(lst[29891])+float(lst[29892]))/2\n",
    "    y=(float(lst[29903])+float(lst[29904]))/2\n",
    "    temp_crn=[a,b,c,d,e,f,g,h,i,j,k,l,m,n,o,p,q,r,s,t,u,v,w,x,y]\n",
    "    print(temp_crn)"
   ]
  },
  {
   "cell_type": "code",
   "execution_count": 122,
   "id": "91696836",
   "metadata": {},
   "outputs": [
    {
     "name": "stdout",
     "output_type": "stream",
     "text": [
      "[4.140000000000001, 2.020000000000003, 2.5199999999999996, 2.0599999999999987, 0.3200000000000003, 1.4100000000000001, -0.21000000000000085, 1.8499999999999996, 1.1499999999999986, 1.5300000000000011, 2.01, 2.290000000000001, 1.1100000000000012, 0.8000000000000007, 0.6300000000000008, 0.73001, 0.009990000000000165, -1.0300000000000011, -1.3100000000000005, -1.08, -1.7300000000000004, -1.8900000000000041, -2.0, -1.7699999999999996, -1.6199999999999974]\n"
     ]
    }
   ],
   "source": [
    "difference4_mon = []\n",
    "\n",
    "zip_object = zip(temp, temp_crn)\n",
    "for temp_i, temp_crn_i in zip_object:\n",
    "    difference4_mon.append(temp_i-temp_crn_i)\n",
    "\n",
    "print(difference4_mon)"
   ]
  },
  {
   "cell_type": "markdown",
   "id": "797ab9bf",
   "metadata": {},
   "source": [
    "<font size=\"3\">Holly Springs, MS: 2300 UTC 13 April 2022-2300 UTC 14 April 2022</font>"
   ]
  },
  {
   "cell_type": "code",
   "execution_count": 123,
   "id": "25958065",
   "metadata": {},
   "outputs": [
    {
     "name": "stdout",
     "output_type": "stream",
     "text": [
      "[21.54, 18.52, 18.31, 17.8, 16.62, 13.33, 11.04, 9.23001, 8.56, 8.20001, 7.35001, 6.98001, 6.97, 6.59, 8.52002, 11.09, 13.12, 15.9, 18.4, 19.77, 20.95, 20.87, 20.13, 19.17, 17.12]\n",
      "25\n"
     ]
    }
   ],
   "source": [
    "#12 hr hrrr:\n",
    "with open('hrrr_f12_Holly Springs_MS.txt') as f:\n",
    "    lst=[line.split()[4] for line in f]\n",
    "    temp=[]\n",
    "    for i in lst:\n",
    "        new=i.replace(',',\"\")\n",
    "        temp.append(new)\n",
    "    temp.pop(0)\n",
    "    temp=[float(x) for x in temp]\n",
    "    temp=temp[2459:2484]\n",
    "    #temp=temp[2015:2063]\n",
    "    print(temp)\n",
    "    print(len(temp))\n",
    "#full time period is [2015:2112]"
   ]
  },
  {
   "cell_type": "code",
   "execution_count": 124,
   "id": "a1f0089e",
   "metadata": {},
   "outputs": [
    {
     "name": "stdout",
     "output_type": "stream",
     "text": [
      "[17.15, 17.0, 17.05, 17.45, 17.7, 14.850000000000001, 12.6, 11.7, 11.05, 8.649999999999999, 7.95, 7.3, 8.9, 7.0, 10.85, 13.850000000000001, 17.450000000000003, 21.45, 23.9, 25.299999999999997, 25.65, 25.35, 23.9, 22.1, 18.95]\n"
     ]
    }
   ],
   "source": [
    "#Air Temp CRN:\n",
    "with open('CRNS0101-05-2022-MS_Holly_Springs_4_N.txt') as f:\n",
    "    lst=[line.split()[12] for line in f]\n",
    "    \n",
    "    a=(float(lst[29651])+float(lst[29652]))/2\n",
    "    b=(float(lst[29663])+float(lst[29664]))/2\n",
    "    c=(float(lst[29675])+float(lst[29676]))/2\n",
    "    d=(float(lst[29687])+float(lst[29688]))/2\n",
    "    e=(float(lst[29699])+float(lst[29700]))/2\n",
    "    f=(float(lst[29711])+float(lst[29712]))/2\n",
    "    g=(float(lst[29723])+float(lst[29724]))/2\n",
    "    h=(float(lst[29735])+float(lst[29736]))/2\n",
    "    i=(float(lst[29747])+float(lst[29748]))/2\n",
    "    j=(float(lst[29759])+float(lst[29760]))/2\n",
    "    k=(float(lst[29771])+float(lst[29772]))/2\n",
    "    l=(float(lst[29783])+float(lst[29784]))/2\n",
    "    m=(float(lst[29795])+float(lst[29796]))/2\n",
    "    n=(float(lst[29807])+float(lst[29808]))/2\n",
    "    o=(float(lst[29819])+float(lst[29820]))/2\n",
    "    p=(float(lst[29831])+float(lst[29832]))/2\n",
    "    q=(float(lst[29843])+float(lst[29844]))/2\n",
    "    r=(float(lst[29855])+float(lst[29856]))/2\n",
    "    s=(float(lst[29867])+float(lst[29868]))/2\n",
    "    t=(float(lst[29879])+float(lst[29880]))/2\n",
    "    u=(float(lst[29891])+float(lst[29892]))/2\n",
    "    v=(float(lst[29903])+float(lst[29904]))/2\n",
    "    w=(float(lst[29915])+float(lst[29916]))/2\n",
    "    x=(float(lst[29927])+float(lst[29928]))/2\n",
    "    y=(float(lst[29939])+float(lst[29940]))/2\n",
    "    temp_crn=[a,b,c,d,e,f,g,h,i,j,k,l,m,n,o,p,q,r,s,t,u,v,w,x,y]\n",
    "    print(temp_crn)"
   ]
  },
  {
   "cell_type": "code",
   "execution_count": 125,
   "id": "6226fdc5",
   "metadata": {},
   "outputs": [
    {
     "name": "stdout",
     "output_type": "stream",
     "text": [
      "[4.390000000000001, 1.5199999999999996, 1.259999999999998, 0.3500000000000014, -1.0799999999999983, -1.5200000000000014, -1.5600000000000005, -2.4699899999999992, -2.49, -0.4499899999999979, -0.59999, -0.3199899999999998, -1.9300000000000006, -0.41000000000000014, -2.329979999999999, -2.7600000000000016, -4.330000000000004, -5.549999999999999, -5.5, -5.529999999999998, -4.699999999999999, -4.48, -3.7699999999999996, -2.9299999999999997, -1.8299999999999983]\n"
     ]
    }
   ],
   "source": [
    "difference4_hol = []\n",
    "\n",
    "zip_object = zip(temp, temp_crn)\n",
    "for temp_i, temp_crn_i in zip_object:\n",
    "    difference4_hol.append(temp_i-temp_crn_i)\n",
    "\n",
    "print(difference4_hol)"
   ]
  },
  {
   "cell_type": "markdown",
   "id": "2580ca75",
   "metadata": {},
   "source": [
    "<font size=\"3\">Newton, MS: 2300 UTC 13 April 2022-2300 UTC 14 April 2022</font>"
   ]
  },
  {
   "cell_type": "code",
   "execution_count": 126,
   "id": "2d759922",
   "metadata": {},
   "outputs": [
    {
     "name": "stdout",
     "output_type": "stream",
     "text": [
      "[27.17, 24.98, 23.95, 19.43, 20.66, 21.06, 18.84, 20.81, 19.2, 16.99, 14.88, 12.83, 14.04, 13.91, 14.08, 15.61, 19.22, 21.99, 25.9, 28.48, 29.48, 29.88, 28.41, 26.04, 23.5]\n",
      "25\n"
     ]
    }
   ],
   "source": [
    "#12 hr hrrr:\n",
    "with open('hrrr_f12_Newton_MS.txt') as f:\n",
    "    lst=[line.split()[4] for line in f]\n",
    "    temp=[]\n",
    "    for i in lst:\n",
    "        new=i.replace(',',\"\")\n",
    "        temp.append(new)\n",
    "    temp.pop(0)\n",
    "    temp=[float(x) for x in temp]\n",
    "    temp=temp[2459:2484]\n",
    "    #temp=temp[2015:2063]\n",
    "    print(temp)\n",
    "    print(len(temp))\n",
    "#full time period is [2015:2112]"
   ]
  },
  {
   "cell_type": "code",
   "execution_count": 127,
   "id": "8cd5b339",
   "metadata": {},
   "outputs": [
    {
     "name": "stdout",
     "output_type": "stream",
     "text": [
      "[23.25, 22.85, 22.05, 16.9, 16.95, 16.95, 17.2, 17.2, 17.15, 17.3, 16.0, 14.149999999999999, 11.55, 11.3, 14.65, 18.55, 23.1, 26.799999999999997, 28.65, 30.049999999999997, 30.6, 30.25, 29.65, 27.799999999999997, 24.1]\n"
     ]
    }
   ],
   "source": [
    "#Air Temp CRN:\n",
    "with open('CRNS0101-05-2022-MS_Newton_5_ENE.txt') as f:\n",
    "    lst=[line.split()[12] for line in f]\n",
    "    \n",
    "    a=(float(lst[29651])+float(lst[29652]))/2\n",
    "    b=(float(lst[29663])+float(lst[29664]))/2\n",
    "    c=(float(lst[29675])+float(lst[29676]))/2\n",
    "    d=(float(lst[29687])+float(lst[29688]))/2\n",
    "    e=(float(lst[29699])+float(lst[29700]))/2\n",
    "    f=(float(lst[29711])+float(lst[29712]))/2\n",
    "    g=(float(lst[29723])+float(lst[29724]))/2\n",
    "    h=(float(lst[29735])+float(lst[29736]))/2\n",
    "    i=(float(lst[29747])+float(lst[29748]))/2\n",
    "    j=(float(lst[29759])+float(lst[29760]))/2\n",
    "    k=(float(lst[29771])+float(lst[29772]))/2\n",
    "    l=(float(lst[29783])+float(lst[29784]))/2\n",
    "    m=(float(lst[29795])+float(lst[29796]))/2\n",
    "    n=(float(lst[29807])+float(lst[29808]))/2\n",
    "    o=(float(lst[29819])+float(lst[29820]))/2\n",
    "    p=(float(lst[29831])+float(lst[29832]))/2\n",
    "    q=(float(lst[29843])+float(lst[29844]))/2\n",
    "    r=(float(lst[29855])+float(lst[29856]))/2\n",
    "    s=(float(lst[29867])+float(lst[29868]))/2\n",
    "    t=(float(lst[29879])+float(lst[29880]))/2\n",
    "    u=(float(lst[29891])+float(lst[29892]))/2\n",
    "    v=(float(lst[29903])+float(lst[29904]))/2\n",
    "    w=(float(lst[29915])+float(lst[29916]))/2\n",
    "    x=(float(lst[29927])+float(lst[29928]))/2\n",
    "    y=(float(lst[29939])+float(lst[29940]))/2\n",
    "    temp_crn=[a,b,c,d,e,f,g,h,i,j,k,l,m,n,o,p,q,r,s,t,u,v,w,x,y]\n",
    "    print(temp_crn)"
   ]
  },
  {
   "cell_type": "code",
   "execution_count": 128,
   "id": "e75f9641",
   "metadata": {},
   "outputs": [
    {
     "name": "stdout",
     "output_type": "stream",
     "text": [
      "[3.9200000000000017, 2.129999999999999, 1.8999999999999986, 2.530000000000001, 3.710000000000001, 4.109999999999999, 1.6400000000000006, 3.6099999999999994, 2.0500000000000007, -0.3100000000000023, -1.1199999999999992, -1.3199999999999985, 2.4899999999999984, 2.6099999999999994, -0.5700000000000003, -2.9400000000000013, -3.8800000000000026, -4.809999999999999, -2.75, -1.5699999999999967, -1.120000000000001, -0.370000000000001, -1.2399999999999984, -1.759999999999998, -0.6000000000000014]\n"
     ]
    }
   ],
   "source": [
    "difference4_new = []\n",
    "\n",
    "zip_object = zip(temp, temp_crn)\n",
    "for temp_i, temp_crn_i in zip_object:\n",
    "    difference4_new.append(temp_i-temp_crn_i)\n",
    "\n",
    "print(difference4_new)"
   ]
  },
  {
   "cell_type": "markdown",
   "id": "a7d0e1e9",
   "metadata": {},
   "source": [
    "<font size=\"3\">Gainesville, AL: 0200 UTC 14 April 2022-0200 UTC 15 April 2022</font>"
   ]
  },
  {
   "cell_type": "code",
   "execution_count": 129,
   "id": "4bddcdb7",
   "metadata": {},
   "outputs": [
    {
     "name": "stdout",
     "output_type": "stream",
     "text": [
      "[19.08, 21.03, 20.84, 20.36, 20.47, 19.78, 19.57, 15.96, 14.64, 14.4, 14.08, 14.82, 16.12, 17.64, 18.6, 21.24, 20.85, 21.49, 22.82, 22.04, 20.96, 19.3, 17.89, 15.59, 14.76]\n",
      "25\n"
     ]
    }
   ],
   "source": [
    "#12 hr hrrr:\n",
    "with open('hrrr_f12_Gainesville_AL.txt') as f:\n",
    "    lst=[line.split()[4] for line in f]\n",
    "    temp=[]\n",
    "    for i in lst:\n",
    "        new=i.replace(',',\"\")\n",
    "        temp.append(new)\n",
    "    temp.pop(0)\n",
    "    temp=[float(x) for x in temp]\n",
    "    temp=temp[2462:2487]\n",
    "    #temp=temp[2015:2063]\n",
    "    print(temp)\n",
    "    print(len(temp))\n",
    "#full time period is [2015:2112]"
   ]
  },
  {
   "cell_type": "code",
   "execution_count": 130,
   "id": "6792cddd",
   "metadata": {},
   "outputs": [
    {
     "name": "stdout",
     "output_type": "stream",
     "text": [
      "[-9999.0, -9999.0, -9999.0, -9999.0, -9999.0, -9999.0, -9999.0, -9999.0, -9999.0, -9999.0, -9999.0, -9999.0, -9999.0, -9999.0, -9999.0, -9999.0, -9999.0, -9999.0, -9999.0, -9999.0, -9999.0, -9999.0, -9999.0, -9999.0, -9999.0]\n"
     ]
    }
   ],
   "source": [
    "#Air Temp CRN:\n",
    "with open('CRNS0101-05-2022-AL_Gainesville_2_NE.txt') as f:\n",
    "    lst=[line.split()[12] for line in f]\n",
    "    \n",
    "    a=(float(lst[29687])+float(lst[29688]))/2\n",
    "    b=(float(lst[29699])+float(lst[29700]))/2\n",
    "    c=(float(lst[29711])+float(lst[29712]))/2\n",
    "    d=(float(lst[29723])+float(lst[29724]))/2\n",
    "    e=(float(lst[29735])+float(lst[29736]))/2\n",
    "    f=(float(lst[29747])+float(lst[29748]))/2\n",
    "    g=(float(lst[29759])+float(lst[29760]))/2\n",
    "    h=(float(lst[29771])+float(lst[29772]))/2\n",
    "    i=(float(lst[29783])+float(lst[29784]))/2\n",
    "    j=(float(lst[29795])+float(lst[29796]))/2\n",
    "    k=(float(lst[29807])+float(lst[29808]))/2\n",
    "    l=(float(lst[29819])+float(lst[29820]))/2\n",
    "    m=(float(lst[29831])+float(lst[29832]))/2\n",
    "    n=(float(lst[29843])+float(lst[29844]))/2\n",
    "    o=(float(lst[29855])+float(lst[29856]))/2\n",
    "    p=(float(lst[29867])+float(lst[29868]))/2\n",
    "    q=(float(lst[29879])+float(lst[29880]))/2\n",
    "    r=(float(lst[29891])+float(lst[29892]))/2\n",
    "    s=(float(lst[29903])+float(lst[29904]))/2\n",
    "    t=(float(lst[29915])+float(lst[29916]))/2\n",
    "    u=(float(lst[29927])+float(lst[29928]))/2\n",
    "    v=(float(lst[29939])+float(lst[29940]))/2\n",
    "    w=(float(lst[29951])+float(lst[29952]))/2\n",
    "    x=(float(lst[29963])+float(lst[29964]))/2\n",
    "    y=(float(lst[29975])+float(lst[29976]))/2\n",
    "    temp_crn=[a,b,c,d,e,f,g,h,i,j,k,l,m,n,o,p,q,r,s,t,u,v,w,x,y]\n",
    "    print(temp_crn)"
   ]
  },
  {
   "cell_type": "code",
   "execution_count": 131,
   "id": "c9db90a8",
   "metadata": {},
   "outputs": [],
   "source": [
    "# difference4_gai = []\n",
    "\n",
    "# zip_object = zip(temp, temp_crn)\n",
    "# for temp_i, temp_crn_i in zip_object:\n",
    "#     difference4_gai.append(temp_i-temp_crn_i)\n",
    "\n",
    "# print(difference4_gai)"
   ]
  },
  {
   "cell_type": "markdown",
   "id": "cdbcd1b4",
   "metadata": {},
   "source": [
    "<font size=\"3\">Fairhope, AL: 0200 UTC 14 April 2022-0200 UTC 15 April 2022</font>"
   ]
  },
  {
   "cell_type": "code",
   "execution_count": 132,
   "id": "1a0b9a6b",
   "metadata": {},
   "outputs": [
    {
     "name": "stdout",
     "output_type": "stream",
     "text": [
      "[22.28, 22.05, 21.76, 21.71, 21.96, 22.07, 18.93, 18.36, 17.87, 18.25, 18.39, 19.08, 20.54, 21.73, 20.31, 22.17, 19.56, 21.79, 22.48, 21.83, 21.2, 21.51, 19.9, 19.44, 18.33]\n",
      "25\n"
     ]
    }
   ],
   "source": [
    "#12 hr hrrr:\n",
    "with open('hrrr_f12_Fairhope_AL.txt') as f:\n",
    "    lst=[line.split()[4] for line in f]\n",
    "    temp=[]\n",
    "    for i in lst:\n",
    "        new=i.replace(',',\"\")\n",
    "        temp.append(new)\n",
    "    temp.pop(0)\n",
    "    temp=[float(x) for x in temp]\n",
    "    temp=temp[2462:2487]\n",
    "    #temp=temp[2015:2063]\n",
    "    print(temp)\n",
    "    print(len(temp))\n",
    "#full time period is [2015:2112]"
   ]
  },
  {
   "cell_type": "code",
   "execution_count": 133,
   "id": "39bb1d69",
   "metadata": {},
   "outputs": [
    {
     "name": "stdout",
     "output_type": "stream",
     "text": [
      "[21.65, 21.65, 21.299999999999997, 21.0, 17.6, 17.7, 17.8, 17.7, 17.5, 17.4, 16.85, 18.75, 19.15, 20.15, 21.9, 20.95, 23.950000000000003, 26.049999999999997, 27.95, 25.1, 24.75, 22.700000000000003, 19.15, 16.05, 15.2]\n"
     ]
    }
   ],
   "source": [
    "#Air Temp CRN:\n",
    "with open('CRNS0101-05-2022-AL_Fairhope_3_NE.txt') as f:\n",
    "    lst=[line.split()[12] for line in f]\n",
    "    \n",
    "    a=(float(lst[29687])+float(lst[29688]))/2\n",
    "    b=(float(lst[29699])+float(lst[29700]))/2\n",
    "    c=(float(lst[29711])+float(lst[29712]))/2\n",
    "    d=(float(lst[29723])+float(lst[29724]))/2\n",
    "    e=(float(lst[29735])+float(lst[29736]))/2\n",
    "    f=(float(lst[29747])+float(lst[29748]))/2\n",
    "    g=(float(lst[29759])+float(lst[29760]))/2\n",
    "    h=(float(lst[29771])+float(lst[29772]))/2\n",
    "    i=(float(lst[29783])+float(lst[29784]))/2\n",
    "    j=(float(lst[29795])+float(lst[29796]))/2\n",
    "    k=(float(lst[29807])+float(lst[29808]))/2\n",
    "    l=(float(lst[29819])+float(lst[29820]))/2\n",
    "    m=(float(lst[29831])+float(lst[29832]))/2\n",
    "    n=(float(lst[29843])+float(lst[29844]))/2\n",
    "    o=(float(lst[29855])+float(lst[29856]))/2\n",
    "    p=(float(lst[29867])+float(lst[29868]))/2\n",
    "    q=(float(lst[29879])+float(lst[29880]))/2\n",
    "    r=(float(lst[29891])+float(lst[29892]))/2\n",
    "    s=(float(lst[29903])+float(lst[29904]))/2\n",
    "    t=(float(lst[29915])+float(lst[29916]))/2\n",
    "    u=(float(lst[29927])+float(lst[29928]))/2\n",
    "    v=(float(lst[29939])+float(lst[29940]))/2\n",
    "    w=(float(lst[29951])+float(lst[29952]))/2\n",
    "    x=(float(lst[29963])+float(lst[29964]))/2\n",
    "    y=(float(lst[29975])+float(lst[29976]))/2\n",
    "    temp_crn=[a,b,c,d,e,f,g,h,i,j,k,l,m,n,o,p,q,r,s,t,u,v,w,x,y]\n",
    "    print(temp_crn)"
   ]
  },
  {
   "cell_type": "code",
   "execution_count": 134,
   "id": "2e2c6057",
   "metadata": {},
   "outputs": [
    {
     "name": "stdout",
     "output_type": "stream",
     "text": [
      "[0.6300000000000026, 0.40000000000000213, 0.4600000000000044, 0.7100000000000009, 4.359999999999999, 4.370000000000001, 1.129999999999999, 0.6600000000000001, 0.370000000000001, 0.8500000000000014, 1.5399999999999991, 0.3299999999999983, 1.3900000000000006, 1.5800000000000018, -1.5899999999999999, 1.2200000000000024, -4.390000000000004, -4.259999999999998, -5.469999999999999, -3.270000000000003, -3.5500000000000007, -1.1900000000000013, 0.75, 3.3900000000000006, 3.129999999999999]\n"
     ]
    }
   ],
   "source": [
    "difference4_fai = []\n",
    "\n",
    "zip_object = zip(temp, temp_crn)\n",
    "for temp_i, temp_crn_i in zip_object:\n",
    "    difference4_fai.append(temp_i-temp_crn_i)\n",
    "\n",
    "print(difference4_fai)"
   ]
  },
  {
   "cell_type": "markdown",
   "id": "ba62c881",
   "metadata": {},
   "source": [
    "<font size=\"3\">Selma, AL: 0200 UTC 14 April 2022-0200 UTC 15 April 2022\n",
    "</font>"
   ]
  },
  {
   "cell_type": "code",
   "execution_count": 135,
   "id": "935d8c80",
   "metadata": {},
   "outputs": [
    {
     "name": "stdout",
     "output_type": "stream",
     "text": [
      "[20.39, 19.69, 20.01, 20.05, 19.45, 19.09, 18.08, 16.67, 17.41, 17.39, 17.53, 18.58, 17.1, 18.68, 17.13, 18.45, 17.58, 22.39, 22.94, 24.08, 22.53, 20.45, 17.95, 16.1, 15.16]\n"
     ]
    }
   ],
   "source": [
    "#1 hr hrrr:\n",
    "with open('hrrr_f12_Selma_AL.txt') as f:\n",
    "    lst=[line.split()[4] for line in f]\n",
    "    temp=[]\n",
    "    for i in lst:\n",
    "        new=i.replace(',',\"\")\n",
    "        temp.append(new)\n",
    "    temp.pop(0)\n",
    "    temp=[float(x) for x in temp]\n",
    "    temp=temp[2462:2487]\n",
    "    print(temp)"
   ]
  },
  {
   "cell_type": "code",
   "execution_count": 136,
   "id": "2fea209b",
   "metadata": {},
   "outputs": [
    {
     "name": "stdout",
     "output_type": "stream",
     "text": [
      "[21.6, 21.6, 17.9, 17.55, 17.05, 17.2, 17.35, 17.4, 17.4, 17.4, 16.950000000000003, 17.950000000000003, 21.200000000000003, 25.0, 28.5, 30.2, 31.6, 31.950000000000003, 32.1, 30.75, 28.4, 24.4, 20.0, 16.65, 15.05]\n"
     ]
    }
   ],
   "source": [
    "#Air Temp CRN:\n",
    "with open('CRNS0101-05-2022-AL_Selma_13_WNW.txt') as f:\n",
    "    lst=[line.split()[12] for line in f]\n",
    "    \n",
    "    a=(float(lst[29687])+float(lst[29688]))/2\n",
    "    b=(float(lst[29699])+float(lst[29700]))/2\n",
    "    c=(float(lst[29711])+float(lst[29712]))/2\n",
    "    d=(float(lst[29723])+float(lst[29724]))/2\n",
    "    e=(float(lst[29735])+float(lst[29736]))/2\n",
    "    f=(float(lst[29747])+float(lst[29748]))/2\n",
    "    g=(float(lst[29759])+float(lst[29760]))/2\n",
    "    h=(float(lst[29771])+float(lst[29772]))/2\n",
    "    i=(float(lst[29783])+float(lst[29784]))/2\n",
    "    j=(float(lst[29795])+float(lst[29796]))/2\n",
    "    k=(float(lst[29807])+float(lst[29808]))/2\n",
    "    l=(float(lst[29819])+float(lst[29820]))/2\n",
    "    m=(float(lst[29831])+float(lst[29832]))/2\n",
    "    n=(float(lst[29843])+float(lst[29844]))/2\n",
    "    o=(float(lst[29855])+float(lst[29856]))/2\n",
    "    p=(float(lst[29867])+float(lst[29868]))/2\n",
    "    q=(float(lst[29879])+float(lst[29880]))/2\n",
    "    r=(float(lst[29891])+float(lst[29892]))/2\n",
    "    s=(float(lst[29903])+float(lst[29904]))/2\n",
    "    t=(float(lst[29915])+float(lst[29916]))/2\n",
    "    u=(float(lst[29927])+float(lst[29928]))/2\n",
    "    v=(float(lst[29939])+float(lst[29940]))/2\n",
    "    w=(float(lst[29951])+float(lst[29952]))/2\n",
    "    x=(float(lst[29963])+float(lst[29964]))/2\n",
    "    y=(float(lst[29975])+float(lst[29976]))/2\n",
    "    temp_crn=[a,b,c,d,e,f,g,h,i,j,k,l,m,n,o,p,q,r,s,t,u,v,w,x,y]\n",
    "    print(temp_crn)"
   ]
  },
  {
   "cell_type": "code",
   "execution_count": 137,
   "id": "72c720a0",
   "metadata": {},
   "outputs": [
    {
     "name": "stdout",
     "output_type": "stream",
     "text": [
      "[-1.2100000000000009, -1.9100000000000001, 2.110000000000003, 2.5, 2.3999999999999986, 1.8900000000000006, 0.7299999999999969, -0.7299999999999969, 0.010000000000001563, -0.00999999999999801, 0.5799999999999983, 0.6299999999999955, -4.100000000000001, -6.32, -11.370000000000001, -11.75, -14.020000000000003, -9.560000000000002, -9.16, -6.670000000000002, -5.869999999999997, -3.9499999999999993, -2.0500000000000007, -0.5499999999999972, 0.10999999999999943]\n",
      "25\n"
     ]
    }
   ],
   "source": [
    "difference4_sel = []\n",
    "\n",
    "zip_object = zip(temp, temp_crn)\n",
    "for temp_i, temp_crn_i in zip_object:\n",
    "    difference4_sel.append(temp_i-temp_crn_i)\n",
    "\n",
    "print(difference4_sel)\n",
    "print(len(difference4_sel))"
   ]
  },
  {
   "cell_type": "markdown",
   "id": "3a2e6fc9",
   "metadata": {},
   "source": [
    "<font size=\"3\">Bowling Green, KY: 0200 UTC 14 April 2022-0200 UTC 15 April 2022</font>"
   ]
  },
  {
   "cell_type": "code",
   "execution_count": 138,
   "id": "c761d214",
   "metadata": {},
   "outputs": [
    {
     "name": "stdout",
     "output_type": "stream",
     "text": [
      "[17.8, 17.1, 16.37, 16.28, 12.02, 9.67999, 8.66, 7.42001, 6.67999, 5.54001, 6.20999, 8.01001, 10.84, 13.64, 15.84, 17.64, 18.11, 18.9, 18.61, 17.68, 16.18, 13.88, 11.78, 9.80002, 8.70001]\n"
     ]
    }
   ],
   "source": [
    "#12 hr hrrr:\n",
    "with open('hrrr_f12_Bowling Green_KY.txt') as f:\n",
    "    lst=[line.split()[4] for line in f]\n",
    "    temp=[]\n",
    "    for i in lst:\n",
    "        new=i.replace(',',\"\")\n",
    "        temp.append(new)\n",
    "    temp.pop(0)\n",
    "    temp=[float(x) for x in temp]\n",
    "    temp=temp[2462:2487]\n",
    "    #temp=temp[2015:2063]\n",
    "    print(temp)\n",
    "    #print(len(temp))\n",
    "#full time period is [2015:2112]"
   ]
  },
  {
   "cell_type": "code",
   "execution_count": 139,
   "id": "5a571109",
   "metadata": {},
   "outputs": [
    {
     "name": "stdout",
     "output_type": "stream",
     "text": [
      "[16.1, 15.649999999999999, 15.350000000000001, 15.5, 12.15, 9.95, 8.8, 8.05, 6.199999999999999, 4.3, 5.35, 9.95, 13.399999999999999, 16.85, 20.75, 23.3, 25.0, 25.95, 24.5, 23.05, 18.950000000000003, 14.1, 8.100000000000001, 5.9, 5.2]\n"
     ]
    }
   ],
   "source": [
    "#Air Temp CRN:\n",
    "with open('CRNS0101-05-2022-KY_Bowling_Green_21_NNE.txt') as f:\n",
    "    lst=[line.split()[12] for line in f]\n",
    "    \n",
    "    a=(float(lst[29687])+float(lst[29688]))/2\n",
    "    b=(float(lst[29699])+float(lst[29700]))/2\n",
    "    c=(float(lst[29711])+float(lst[29712]))/2\n",
    "    d=(float(lst[29723])+float(lst[29724]))/2\n",
    "    e=(float(lst[29735])+float(lst[29736]))/2\n",
    "    f=(float(lst[29747])+float(lst[29748]))/2\n",
    "    g=(float(lst[29759])+float(lst[29760]))/2\n",
    "    h=(float(lst[29771])+float(lst[29772]))/2\n",
    "    i=(float(lst[29783])+float(lst[29784]))/2\n",
    "    j=(float(lst[29795])+float(lst[29796]))/2\n",
    "    k=(float(lst[29807])+float(lst[29808]))/2\n",
    "    l=(float(lst[29819])+float(lst[29820]))/2\n",
    "    m=(float(lst[29831])+float(lst[29832]))/2\n",
    "    n=(float(lst[29843])+float(lst[29844]))/2\n",
    "    o=(float(lst[29855])+float(lst[29856]))/2\n",
    "    p=(float(lst[29867])+float(lst[29868]))/2\n",
    "    q=(float(lst[29879])+float(lst[29880]))/2\n",
    "    r=(float(lst[29891])+float(lst[29892]))/2\n",
    "    s=(float(lst[29903])+float(lst[29904]))/2\n",
    "    t=(float(lst[29915])+float(lst[29916]))/2\n",
    "    u=(float(lst[29927])+float(lst[29928]))/2\n",
    "    v=(float(lst[29939])+float(lst[29940]))/2\n",
    "    w=(float(lst[29951])+float(lst[29952]))/2\n",
    "    x=(float(lst[29963])+float(lst[29964]))/2\n",
    "    y=(float(lst[29975])+float(lst[29976]))/2\n",
    "    temp_crn=[a,b,c,d,e,f,g,h,i,j,k,l,m,n,o,p,q,r,s,t,u,v,w,x,y]\n",
    "    print(temp_crn)"
   ]
  },
  {
   "cell_type": "code",
   "execution_count": 140,
   "id": "214cf6fd",
   "metadata": {},
   "outputs": [
    {
     "name": "stdout",
     "output_type": "stream",
     "text": [
      "[1.6999999999999993, 1.4500000000000028, 1.0199999999999996, 0.7800000000000011, -0.13000000000000078, -0.2700099999999992, -0.14000000000000057, -0.6299900000000003, 0.4799900000000008, 1.2400099999999998, 0.8599900000000007, -1.9399899999999999, -2.5599999999999987, -3.210000000000001, -4.91, -5.66, -6.890000000000001, -7.050000000000001, -5.890000000000001, -5.370000000000001, -2.770000000000003, -0.21999999999999886, 3.679999999999998, 3.9000199999999996, 3.5000100000000005]\n"
     ]
    }
   ],
   "source": [
    "difference4_bow = []\n",
    "\n",
    "zip_object = zip(temp, temp_crn)\n",
    "for temp_i, temp_crn_i in zip_object:\n",
    "    difference4_bow.append(temp_i-temp_crn_i)\n",
    "\n",
    "print(difference4_bow)"
   ]
  },
  {
   "cell_type": "markdown",
   "id": "d5df1525",
   "metadata": {},
   "source": [
    "<font size=\"3\">Gadsden, AL: 0200 UTC 14 April 2022-0200 UTC 15 April 2022\n",
    "</font>"
   ]
  },
  {
   "cell_type": "code",
   "execution_count": 141,
   "id": "d0c17372",
   "metadata": {},
   "outputs": [
    {
     "name": "stdout",
     "output_type": "stream",
     "text": [
      "[22.06, 20.8, 20.02, 18.31, 16.65, 15.92, 16.21, 16.6, 17.34, 16.76, 13.6, 13.69, 13.68, 14.77, 16.73, 19.19, 21.12, 21.63, 21.29, 20.36, 18.74, 16.94, 13.92, 12.58, 11.42]\n",
      "25\n"
     ]
    }
   ],
   "source": [
    "#12 hr hrrr:\n",
    "with open('hrrr_f12_Gadsden_AL.txt') as f:\n",
    "    lst=[line.split()[4] for line in f]\n",
    "    temp=[]\n",
    "    for i in lst:\n",
    "        new=i.replace(',',\"\")\n",
    "        temp.append(new)\n",
    "    temp.pop(0)\n",
    "    temp=[float(x) for x in temp]\n",
    "    temp=temp[2462:2487]\n",
    "    #temp=temp[2015:2063]\n",
    "    print(temp)\n",
    "    print(len(temp))\n",
    "#full time period is [2015:2112]"
   ]
  },
  {
   "cell_type": "code",
   "execution_count": 142,
   "id": "920d128d",
   "metadata": {},
   "outputs": [
    {
     "name": "stdout",
     "output_type": "stream",
     "text": [
      "[18.45, 18.4, 17.200000000000003, 16.8, 15.45, 15.05, 15.0, 15.2, 15.2, 15.2, 13.4, 13.75, 16.05, 16.65, 22.700000000000003, 24.85, 24.85, 24.799999999999997, 25.05, 22.65, 20.549999999999997, 17.450000000000003, 13.8, 10.8, 9.5]\n"
     ]
    }
   ],
   "source": [
    "#Air Temp CRN:\n",
    "with open('CRNS0101-05-2022-AL_Gadsden_19_N.txt') as f:\n",
    "    lst=[line.split()[12] for line in f]\n",
    "    \n",
    "    a=(float(lst[29687])+float(lst[29688]))/2\n",
    "    b=(float(lst[29699])+float(lst[29700]))/2\n",
    "    c=(float(lst[29711])+float(lst[29712]))/2\n",
    "    d=(float(lst[29723])+float(lst[29724]))/2\n",
    "    e=(float(lst[29735])+float(lst[29736]))/2\n",
    "    f=(float(lst[29747])+float(lst[29748]))/2\n",
    "    g=(float(lst[29759])+float(lst[29760]))/2\n",
    "    h=(float(lst[29771])+float(lst[29772]))/2\n",
    "    i=(float(lst[29783])+float(lst[29784]))/2\n",
    "    j=(float(lst[29795])+float(lst[29796]))/2\n",
    "    k=(float(lst[29807])+float(lst[29808]))/2\n",
    "    l=(float(lst[29819])+float(lst[29820]))/2\n",
    "    m=(float(lst[29831])+float(lst[29832]))/2\n",
    "    n=(float(lst[29843])+float(lst[29844]))/2\n",
    "    o=(float(lst[29855])+float(lst[29856]))/2\n",
    "    p=(float(lst[29867])+float(lst[29868]))/2\n",
    "    q=(float(lst[29879])+float(lst[29880]))/2\n",
    "    r=(float(lst[29891])+float(lst[29892]))/2\n",
    "    s=(float(lst[29903])+float(lst[29904]))/2\n",
    "    t=(float(lst[29915])+float(lst[29916]))/2\n",
    "    u=(float(lst[29927])+float(lst[29928]))/2\n",
    "    v=(float(lst[29939])+float(lst[29940]))/2\n",
    "    w=(float(lst[29951])+float(lst[29952]))/2\n",
    "    x=(float(lst[29963])+float(lst[29964]))/2\n",
    "    y=(float(lst[29975])+float(lst[29976]))/2\n",
    "    temp_crn=[a,b,c,d,e,f,g,h,i,j,k,l,m,n,o,p,q,r,s,t,u,v,w,x,y]\n",
    "    print(temp_crn)"
   ]
  },
  {
   "cell_type": "code",
   "execution_count": 143,
   "id": "7476701f",
   "metadata": {},
   "outputs": [
    {
     "name": "stdout",
     "output_type": "stream",
     "text": [
      "[3.6099999999999994, 2.400000000000002, 2.8199999999999967, 1.509999999999998, 1.1999999999999993, 0.8699999999999992, 1.2100000000000009, 1.4000000000000021, 2.1400000000000006, 1.5600000000000023, 0.1999999999999993, -0.0600000000000005, -2.370000000000001, -1.879999999999999, -5.970000000000002, -5.66, -3.7300000000000004, -3.169999999999998, -3.7600000000000016, -2.289999999999999, -1.8099999999999987, -0.5100000000000016, 0.11999999999999922, 1.7799999999999994, 1.92]\n"
     ]
    }
   ],
   "source": [
    "difference4_gad = []\n",
    "\n",
    "zip_object = zip(temp, temp_crn)\n",
    "for temp_i, temp_crn_i in zip_object:\n",
    "    difference4_gad.append(temp_i-temp_crn_i)\n",
    "\n",
    "print(difference4_gad)"
   ]
  },
  {
   "cell_type": "markdown",
   "id": "047f5261",
   "metadata": {},
   "source": [
    "<font size=\"3\">Newton, GA: 0600 UTC 14 April 2022-0600 UTC 15 April 2022\n",
    "</font>"
   ]
  },
  {
   "cell_type": "code",
   "execution_count": 144,
   "id": "4eb1aeae",
   "metadata": {},
   "outputs": [
    {
     "name": "stdout",
     "output_type": "stream",
     "text": [
      "[16.23, 15.8, 15.14, 17.12, 15.99, 15.8, 17.4, 20.38, 24.23, 27.07, 30.48, 29.84, 33.06, 31.83, 32.78, 29.88, 27.04, 25.96, 22.73, 21.15, 20.55, 20.03, 19.17, 18.38, 17.89]\n",
      "25\n"
     ]
    }
   ],
   "source": [
    "#12 hr hrrr:\n",
    "with open('hrrr_f12_Newton_GA.txt') as f:\n",
    "    lst=[line.split()[4] for line in f]\n",
    "    temp=[]\n",
    "    for i in lst:\n",
    "        new=i.replace(',',\"\")\n",
    "        temp.append(new)\n",
    "    temp.pop(0)\n",
    "    temp=[float(x) for x in temp]\n",
    "    temp=temp[2466:2491]\n",
    "    #temp=temp[2015:2063]\n",
    "    print(temp)\n",
    "    print(len(temp))\n",
    "#full time period is [2015:2112]"
   ]
  },
  {
   "cell_type": "code",
   "execution_count": 145,
   "id": "4fd3dae9",
   "metadata": {},
   "outputs": [
    {
     "name": "stdout",
     "output_type": "stream",
     "text": [
      "[15.45, 15.05, 15.0, 15.2, 15.2, 15.2, 13.4, 13.75, 16.05, 16.65, 22.700000000000003, 24.85, 24.85, 24.799999999999997, 25.05, 22.65, 20.549999999999997, 17.450000000000003, 13.8, 10.8, 9.5, 8.5, 7.449999999999999, 6.800000000000001, 6.699999999999999]\n"
     ]
    }
   ],
   "source": [
    "#Air Temp CRN:\n",
    "with open('CRNS0101-05-2022-AL_Gadsden_19_N.txt') as f:\n",
    "    lst=[line.split()[12] for line in f]\n",
    "    \n",
    "    a=(float(lst[29735])+float(lst[29736]))/2\n",
    "    b=(float(lst[29747])+float(lst[29748]))/2\n",
    "    c=(float(lst[29759])+float(lst[29760]))/2\n",
    "    d=(float(lst[29771])+float(lst[29772]))/2\n",
    "    e=(float(lst[29783])+float(lst[29784]))/2\n",
    "    f=(float(lst[29795])+float(lst[29796]))/2\n",
    "    g=(float(lst[29807])+float(lst[29808]))/2\n",
    "    h=(float(lst[29819])+float(lst[29820]))/2\n",
    "    i=(float(lst[29831])+float(lst[29832]))/2\n",
    "    j=(float(lst[29843])+float(lst[29844]))/2\n",
    "    k=(float(lst[29855])+float(lst[29856]))/2\n",
    "    l=(float(lst[29867])+float(lst[29868]))/2\n",
    "    m=(float(lst[29879])+float(lst[29880]))/2\n",
    "    n=(float(lst[29891])+float(lst[29892]))/2\n",
    "    o=(float(lst[29903])+float(lst[29904]))/2\n",
    "    p=(float(lst[29915])+float(lst[29916]))/2\n",
    "    q=(float(lst[29927])+float(lst[29928]))/2\n",
    "    r=(float(lst[29939])+float(lst[29940]))/2\n",
    "    s=(float(lst[29951])+float(lst[29952]))/2\n",
    "    t=(float(lst[29963])+float(lst[29964]))/2\n",
    "    u=(float(lst[29975])+float(lst[29976]))/2\n",
    "    v=(float(lst[29987])+float(lst[29988]))/2\n",
    "    w=(float(lst[29999])+float(lst[30000]))/2\n",
    "    x=(float(lst[30011])+float(lst[30012]))/2\n",
    "    y=(float(lst[30023])+float(lst[30024]))/2\n",
    "    temp_crn=[a,b,c,d,e,f,g,h,i,j,k,l,m,n,o,p,q,r,s,t,u,v,w,x,y]\n",
    "    print(temp_crn)"
   ]
  },
  {
   "cell_type": "code",
   "execution_count": 146,
   "id": "37b874ca",
   "metadata": {},
   "outputs": [
    {
     "name": "stdout",
     "output_type": "stream",
     "text": [
      "[0.7800000000000011, 0.75, 0.14000000000000057, 1.9200000000000017, 0.7900000000000009, 0.6000000000000014, 3.9999999999999982, 6.629999999999999, 8.18, 10.420000000000002, 7.779999999999998, 4.989999999999998, 8.21, 7.030000000000001, 7.73, 7.23, 6.490000000000002, 8.509999999999998, 8.93, 10.349999999999998, 11.05, 11.530000000000001, 11.720000000000002, 11.579999999999998, 11.190000000000001]\n"
     ]
    }
   ],
   "source": [
    "difference4_newt = []\n",
    "\n",
    "zip_object = zip(temp, temp_crn)\n",
    "for temp_i, temp_crn_i in zip_object:\n",
    "    difference4_newt.append(temp_i-temp_crn_i)\n",
    "\n",
    "print(difference4_newt)"
   ]
  },
  {
   "cell_type": "code",
   "execution_count": 147,
   "id": "d5fd370b",
   "metadata": {},
   "outputs": [
    {
     "name": "stdout",
     "output_type": "stream",
     "text": [
      "[ 1.73818182  2.67272727  1.59818182  2.17909091  2.13363636  1.97363636\n",
      "  2.24181818  1.85545455  1.41        1.2         1.15454545  1.04545455\n",
      "  1.27090909  0.88363636  0.49181727 -0.19636455 -0.784      -1.316999\n",
      " -1.219996   -1.736996   -2.197996   -1.88818182 -2.01727    -2.44636091\n",
      " -2.10090455]\n",
      "[2.19839122 3.26187088 1.47627183 1.80865824 2.19266244 1.6447452\n",
      " 1.84879724 1.72295921 1.50734565 1.50566808 1.76796937 1.75756217\n",
      " 1.6534177  1.11775971 1.15178    1.20122107 2.09375357 2.11585923\n",
      " 2.14207544 2.76738377 3.25131202 2.33172114 2.02400428 2.32510816\n",
      " 2.40979849]\n"
     ]
    },
    {
     "name": "stderr",
     "output_type": "stream",
     "text": [
      "C:\\Users\\panwalaf\\AppData\\Local\\Temp\\ipykernel_15456\\2334402417.py:3: UserWarning: Warning: converting a masked element to nan.\n",
      "  c1 = np.array([difference1_sal,difference1_bat,difference1_laf,difference1_mon,difference1_hol,difference1_new,difference1_fai,difference1_sel,difference1_bow,difference1_gad,difference1_newt])\n",
      "C:\\Users\\panwalaf\\AppData\\Local\\Temp\\ipykernel_15456\\2334402417.py:8: UserWarning: Warning: converting a masked element to nan.\n",
      "  b1 = np.array([difference1_sal,difference1_bat,difference1_laf,difference1_mon,difference1_hol,difference1_new,difference1_fai,difference1_sel,difference1_bow,difference1_gad,difference1_newt])\n"
     ]
    },
    {
     "data": {
      "text/plain": [
       "25"
      ]
     },
     "execution_count": 147,
     "metadata": {},
     "output_type": "execute_result"
    }
   ],
   "source": [
    "# data = np.array([difference1_sal,difference1_sel,difference1_mon])\n",
    "# np.ma.average(data, axis=0)\n",
    "c1 = np.array([difference1_sal,difference1_bat,difference1_laf,difference1_mon,difference1_hol,difference1_new,difference1_fai,difference1_sel,difference1_bow,difference1_gad,difference1_newt])\n",
    "c1=np.nanmean(c1, axis=0)\n",
    "print(c1)\n",
    "len(c1)\n",
    "\n",
    "b1 = np.array([difference1_sal,difference1_bat,difference1_laf,difference1_mon,difference1_hol,difference1_new,difference1_fai,difference1_sel,difference1_bow,difference1_gad,difference1_newt])\n",
    "b1=np.nanstd(b1, axis=0)\n",
    "print(b1)\n",
    "len(b1)"
   ]
  },
  {
   "cell_type": "code",
   "execution_count": 148,
   "id": "7d6e3e43",
   "metadata": {},
   "outputs": [
    {
     "data": {
      "image/png": "[encoded data removed]",
      "text/plain": [
       "<Figure size 792x396 with 1 Axes>"
      ]
     },
     "metadata": {},
     "output_type": "display_data"
    }
   ],
   "source": [
    "plt.style.use('seaborn-whitegrid')\n",
    "plt.rcParams[\"figure.figsize\"] = [11.00, 5.50]\n",
    "plt.rcParams[\"figure.autolayout\"] = True\n",
    "plt.yticks(np.arange(-5,6,1))\n",
    "plt.ylim(-5,5)\n",
    "# c[6]=None\n",
    "# b[6]=None\n",
    "\n",
    "plt.plot(hour,c1,c=\"black\")\n",
    "plt.errorbar(hour,c1,yerr=b1,linestyle='None', marker='s')\n",
    "# c[6]=None\n",
    "# b[6]=None\n",
    "\n",
    "plt.title(\"12-hr Avg. MBE All Stations\")\n",
    "plt.xlabel(\"Time Relative to Event Passage\")\n",
    "plt.ylabel(\"MBE Air Temperature (C)\")\n",
    "#plt.plot(hour,c)\n",
    "#plt.errorbar(hour,c,yerr=b,ecolor='r',elinewidth=5,fmt='s',color='k')\n",
    "#plt.grid()\n",
    "plt.xticks(np.arange(min(hour), max(hour)+1, 1.0))\n",
    "plt.show()\n",
    "#plt.axvspan(-4, 4, color='green', alpha=0.2, lw=0)"
   ]
  },
  {
   "cell_type": "code",
   "execution_count": 149,
   "id": "3931d44b",
   "metadata": {},
   "outputs": [
    {
     "name": "stdout",
     "output_type": "stream",
     "text": [
      "[ 2.60636364  2.73454545  2.47        2.58818182  2.21090909  2.106\n",
      "  2.131       1.66181818  2.19909091  1.71727273  1.35454545  1.15090909\n",
      "  0.75818273  0.38818364 -0.22272727 -1.03999545 -0.99181364 -1.44181636\n",
      " -0.99272273 -1.91363182 -2.74363273 -2.84272545 -2.68181636 -2.10818273\n",
      " -1.60999727]\n",
      "[3.3849675  2.41825393 2.75309083 3.20535863 2.13973853 2.21364496\n",
      " 1.25591759 1.03210128 1.56791961 1.62535641 2.71027796 2.77279136\n",
      " 2.66780443 2.12070727 2.35436605 2.48442715 2.48653612 2.93562055\n",
      " 2.9772216  3.68890724 3.51004519 3.892834   3.9355615  4.20797475\n",
      " 3.76793281]\n"
     ]
    },
    {
     "name": "stderr",
     "output_type": "stream",
     "text": [
      "C:\\Users\\panwalaf\\AppData\\Local\\Temp\\ipykernel_15456\\4244075433.py:1: UserWarning: Warning: converting a masked element to nan.\n",
      "  c2 = np.array([difference2_sal,difference2_bat,difference2_laf,difference2_mon,difference2_hol,difference2_new,difference2_fai,difference2_sel,difference2_bow,difference2_gad,difference2_newt])\n",
      "C:\\Users\\panwalaf\\AppData\\Local\\Temp\\ipykernel_15456\\4244075433.py:6: UserWarning: Warning: converting a masked element to nan.\n",
      "  b2 = np.array([difference2_sal,difference2_bat,difference2_laf,difference2_mon,difference2_hol,difference2_new,difference2_fai,difference2_sel,difference2_bow,difference2_gad,difference2_newt])\n"
     ]
    },
    {
     "data": {
      "text/plain": [
       "25"
      ]
     },
     "execution_count": 149,
     "metadata": {},
     "output_type": "execute_result"
    }
   ],
   "source": [
    "c2 = np.array([difference2_sal,difference2_bat,difference2_laf,difference2_mon,difference2_hol,difference2_new,difference2_fai,difference2_sel,difference2_bow,difference2_gad,difference2_newt])\n",
    "c2=np.nanmean(c2, axis=0)\n",
    "print(c2)\n",
    "len(c2)\n",
    "\n",
    "b2 = np.array([difference2_sal,difference2_bat,difference2_laf,difference2_mon,difference2_hol,difference2_new,difference2_fai,difference2_sel,difference2_bow,difference2_gad,difference2_newt])\n",
    "b2=np.nanstd(b2, axis=0)\n",
    "print(b2)\n",
    "len(b2)"
   ]
  },
  {
   "cell_type": "code",
   "execution_count": 150,
   "id": "4c8ac8a3",
   "metadata": {},
   "outputs": [
    {
     "data": {
      "image/png": "[encoded data removed]",
      "text/plain": [
       "<Figure size 792x396 with 1 Axes>"
      ]
     },
     "metadata": {},
     "output_type": "display_data"
    }
   ],
   "source": [
    "plt.style.use('seaborn-whitegrid')\n",
    "plt.rcParams[\"figure.figsize\"] = [11.00, 5.50]\n",
    "plt.rcParams[\"figure.autolayout\"] = True\n",
    "plt.yticks(np.arange(-5,6,1))\n",
    "plt.ylim(-5,5)\n",
    "# c[6]=None\n",
    "# b[6]=None\n",
    "\n",
    "plt.plot(hour,c2,c=\"black\")\n",
    "plt.errorbar(hour,c2,c=\"r\",yerr=b2,linestyle='None', marker='s')\n",
    "# c[6]=None\n",
    "# b[6]=None\n",
    "\n",
    "plt.title(\"12-hr Avg. MBE All Stations\")\n",
    "plt.xlabel(\"Time Relative to Event Passage\")\n",
    "plt.ylabel(\"MBE Air Temperature (C)\")\n",
    "#plt.plot(hour,c)\n",
    "#plt.errorbar(hour,c,yerr=b,ecolor='r',elinewidth=5,fmt='s',color='k')\n",
    "#plt.grid()\n",
    "plt.xticks(np.arange(min(hour), max(hour)+1, 1.0))\n",
    "plt.show()\n",
    "#plt.axvspan(-4, 4, color='green', alpha=0.2, lw=0)"
   ]
  },
  {
   "cell_type": "code",
   "execution_count": 151,
   "id": "e7aee5e0",
   "metadata": {},
   "outputs": [
    {
     "name": "stdout",
     "output_type": "stream",
     "text": [
      "[ 1.18363636  1.66909091  2.09727273  1.50545455  1.25        1.10909091\n",
      " -0.12636364 -1.25363636 -1.15636364 -0.61363636 -0.32818182 -0.86\n",
      " -0.01        0.68636455  1.34636364  1.06727364  0.59909091 -0.47636182\n",
      " -0.61454455 -0.25545364 -0.20545273 -0.63272545 -0.57454455 -0.18909\n",
      " -0.61090818]\n",
      "[1.30116223 1.91068981 3.5153303  2.80628957 1.7061866  3.98701404\n",
      " 3.77687045 3.55584863 3.93094546 3.0051933  3.33576165 3.34195914\n",
      " 2.78099721 1.64918356 1.40093652 1.87217451 2.40661382 1.25399023\n",
      " 1.32329639 1.4381508  1.0562818  0.92562509 0.78891643 0.88375765\n",
      " 1.63113221]\n"
     ]
    },
    {
     "data": {
      "text/plain": [
       "25"
      ]
     },
     "execution_count": 151,
     "metadata": {},
     "output_type": "execute_result"
    }
   ],
   "source": [
    "c3 = np.array([difference3_sal,difference3_bat,difference3_laf,difference3_mon,difference3_hol,difference3_new,difference3_fai,difference3_sel,difference3_bow,difference3_gad,difference3_newt])\n",
    "c3=np.nanmean(c3, axis=0)\n",
    "print(c3)\n",
    "len(c3)\n",
    "\n",
    "b3 = np.array([difference3_sal,difference3_bat,difference3_laf,difference3_mon,difference3_hol,difference3_new,difference3_fai,difference3_sel,difference3_bow,difference3_gad,difference3_newt])\n",
    "b3=np.nanstd(b3, axis=0)\n",
    "print(b3)\n",
    "len(b3)"
   ]
  },
  {
   "cell_type": "code",
   "execution_count": 152,
   "id": "00a5e783",
   "metadata": {},
   "outputs": [
    {
     "data": {
      "image/png": "[encoded data removed]",
      "text/plain": [
       "<Figure size 792x396 with 1 Axes>"
      ]
     },
     "metadata": {},
     "output_type": "display_data"
    }
   ],
   "source": [
    "plt.style.use('seaborn-whitegrid')\n",
    "plt.rcParams[\"figure.figsize\"] = [11.00, 5.50]\n",
    "plt.rcParams[\"figure.autolayout\"] = True\n",
    "plt.yticks(np.arange(-5,6,1))\n",
    "plt.ylim(-5,5)\n",
    "# c[6]=None\n",
    "# b[6]=None\n",
    "\n",
    "plt.plot(hour,c3,c=\"green\")\n",
    "plt.errorbar(hour,c3,c=\"green\",yerr=b3,linestyle='None', marker='s')\n",
    "# c[6]=None\n",
    "# b[6]=None\n",
    "\n",
    "plt.title(\"12-hr Avg. MBE All Stations\")\n",
    "plt.xlabel(\"Time Relative to Event Passage\")\n",
    "plt.ylabel(\"MBE Air Temperature (C)\")\n",
    "#plt.plot(hour,c)\n",
    "#plt.errorbar(hour,c,yerr=b,ecolor='r',elinewidth=5,fmt='s',color='k')\n",
    "#plt.grid()\n",
    "plt.xticks(np.arange(min(hour), max(hour)+1, 1.0))\n",
    "plt.show()\n",
    "#plt.axvspan(-4, 4, color='green', alpha=0.2, lw=0)"
   ]
  },
  {
   "cell_type": "code",
   "execution_count": 153,
   "id": "b2d7f7dd",
   "metadata": {},
   "outputs": [
    {
     "name": "stdout",
     "output_type": "stream",
     "text": [
      "[ 2.21181818  0.99363636  1.78090909  1.65363636  1.70545455  1.99727182\n",
      "  0.95545455  1.52091182  1.79545455  1.98454818  1.16363545  0.39364\n",
      "  0.12454636  0.20545455 -1.41908727 -1.24181636 -2.12636455 -1.58909\n",
      " -1.76727091 -1.14363718 -0.87818273 -0.30727055  0.15363636  0.22272909\n",
      "  0.39818364]\n",
      "[1.72971263 1.20503695 1.15733593 1.0574607  1.86178001 2.13730637\n",
      " 1.50840291 3.03740465 3.05996503 3.36608429 2.38936413 2.04221169\n",
      " 3.26155889 3.2235874  4.66454888 4.94836656 5.41638098 5.25334178\n",
      " 5.04403373 4.72038696 5.0112045  4.80277926 4.58020101 4.77722024\n",
      " 4.44797502]\n"
     ]
    },
    {
     "data": {
      "text/plain": [
       "25"
      ]
     },
     "execution_count": 153,
     "metadata": {},
     "output_type": "execute_result"
    }
   ],
   "source": [
    "c4 = np.array([difference4_sal,difference4_bat,difference4_laf,difference4_mon,difference4_hol,difference4_new,difference4_fai,difference4_sel,difference4_bow,difference4_gad,difference4_newt])\n",
    "c4=np.nanmean(c4, axis=0)\n",
    "print(c4)\n",
    "len(c4)\n",
    "\n",
    "b4 = np.array([difference4_sal,difference4_bat,difference4_laf,difference4_mon,difference4_hol,difference4_new,difference4_fai,difference4_sel,difference4_bow,difference4_gad,difference4_newt])\n",
    "b4=np.nanstd(b4, axis=0)\n",
    "print(b4)\n",
    "len(b4)"
   ]
  },
  {
   "cell_type": "code",
   "execution_count": 154,
   "id": "e70a6cef",
   "metadata": {},
   "outputs": [
    {
     "data": {
      "image/png": "[encoded data removed]",
      "text/plain": [
       "<Figure size 792x396 with 1 Axes>"
      ]
     },
     "metadata": {},
     "output_type": "display_data"
    }
   ],
   "source": [
    "plt.style.use('seaborn-whitegrid')\n",
    "plt.rcParams[\"figure.figsize\"] = [11.00, 5.50]\n",
    "plt.rcParams[\"figure.autolayout\"] = True\n",
    "plt.yticks(np.arange(-5,6,1))\n",
    "plt.ylim(-5,5)\n",
    "# c[6]=None\n",
    "# b[6]=None\n",
    "\n",
    "plt.plot(hour,c4,c=\"orange\")\n",
    "plt.errorbar(hour,c4,c=\"orange\",yerr=b4,linestyle='None', marker='s')\n",
    "# c[6]=None\n",
    "# b[6]=None\n",
    "\n",
    "plt.title(\"12-hr Avg. MBE All Stations\")\n",
    "plt.xlabel(\"Time Relative to Event Passage\")\n",
    "plt.ylabel(\"MBE Air Temperature (C)\")\n",
    "#plt.plot(hour,c)\n",
    "#plt.errorbar(hour,c,yerr=b,ecolor='r',elinewidth=5,fmt='s',color='k')\n",
    "#plt.grid()\n",
    "plt.xticks(np.arange(min(hour), max(hour)+1, 1.0))\n",
    "plt.show()\n",
    "#plt.axvspan(-4, 4, color='green', alpha=0.2, lw=0)"
   ]
  },
  {
   "cell_type": "code",
   "execution_count": 157,
   "id": "240eafe4",
   "metadata": {},
   "outputs": [
    {
     "data": {
      "image/png": "[encoded data removed]",
      "text/plain": [
       "<Figure size 792x396 with 1 Axes>"
      ]
     },
     "metadata": {},
     "output_type": "display_data"
    }
   ],
   "source": [
    "plt.style.use('seaborn-whitegrid')\n",
    "plt.rcParams[\"figure.figsize\"] = [11.00, 5.50]\n",
    "plt.rcParams[\"figure.autolayout\"] = True\n",
    "plt.yticks(np.arange(-10,12.5,2.5))\n",
    "plt.ylim(-10,10)\n",
    "\n",
    "plt.plot(hour,c1,c=\"b\",label=\"IOP 1\")\n",
    "plt.errorbar(hour,c1,c=\"b\",yerr=b1,linestyle='None', marker='s')\n",
    "\n",
    "plt.plot(hour,c2,c=\"r\",label=\"IOP 2\")\n",
    "plt.errorbar(hour,c2,c=\"r\",yerr=b2,linestyle='None', marker='s')\n",
    "\n",
    "plt.plot(hour,c3,c=\"green\")\n",
    "plt.errorbar(hour,c3,c=\"green\",yerr=b3,linestyle='None', marker='s')\n",
    "\n",
    "plt.plot(hour,c4,c=\"orange\")\n",
    "plt.errorbar(hour,c4,c=\"orange\",yerr=b4,linestyle='None', marker='s')\n",
    "\n",
    "plt.title(\"12-hr Avg. MBE All Stations\")\n",
    "plt.xlabel(\"Time Relative to Event Passage\")\n",
    "plt.ylabel(\"MBE Surface Temperature (C)\")\n",
    "#plt.plot(hour,c)\n",
    "#plt.errorbar(hour,c,yerr=b,ecolor='r',elinewidth=5,fmt='s',color='k')\n",
    "#plt.grid()\n",
    "plt.xticks(np.arange(min(hour), max(hour)+1, 1.0))\n",
    "plt.legend([\"IOP 1\", \"IOP 2\",\"IOP 3\",\"IOP 4\"], loc =\"lower right\")\n",
    "plt.show()"
   ]
  },
  {
   "cell_type": "code",
   "execution_count": null,
   "id": "0a43b9bb",
   "metadata": {},
   "outputs": [],
   "source": []
  },
  {
   "cell_type": "code",
   "execution_count": null,
   "id": "820d3ed5",
   "metadata": {},
   "outputs": [],
   "source": []
  }
 ],
 "metadata": {
  "kernelspec": {
   "display_name": "Python 3 (ipykernel)",
   "language": "python",
   "name": "python3"
  },
  "language_info": {
   "codemirror_mode": {
    "name": "ipython",
    "version": 3
   },
   "file_extension": ".py",
   "mimetype": "text/x-python",
   "name": "python",
   "nbconvert_exporter": "python",
   "pygments_lexer": "ipython3",
   "version": "3.9.12"
  }
 },
 "nbformat": 4,
 "nbformat_minor": 5
}
