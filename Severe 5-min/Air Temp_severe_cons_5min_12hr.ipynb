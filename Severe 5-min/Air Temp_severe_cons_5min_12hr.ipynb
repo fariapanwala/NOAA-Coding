{
 "cells": [
  {
   "cell_type": "code",
   "execution_count": 1,
   "id": "83d28093",
   "metadata": {},
   "outputs": [],
   "source": [
    "import numpy as np\n",
    "import matplotlib.pyplot as plt\n",
    "import math"
   ]
  },
  {
   "cell_type": "markdown",
   "id": "18ad22a0",
   "metadata": {},
   "source": [
    "<font size=\"3\">Salem, MO: 1200 UTC 22 March 2022-1200 UTC 23 March 2022</font>"
   ]
  },
  {
   "cell_type": "code",
   "execution_count": 2,
   "id": "9236619f",
   "metadata": {},
   "outputs": [
    {
     "name": "stdout",
     "output_type": "stream",
     "text": [
      "[11.045, 12.4084, 12.9207, 13.5876, 14.0399, 14.7673, 14.8621, 14.7643, 14.7425, 14.4402, 13.1906, 13.3362, 12.7822, 12.2495, 12.368, 12.325, 11.4661, 10.2885, 10.0953, 9.58463, 7.87729, 7.60562, 6.36633, 6.72891, 6.3024]\n",
      "25\n"
     ]
    }
   ],
   "source": [
    "#12 hr hrrr:\n",
    "with open('hrrr_f12_Salem_MO.txt') as f:\n",
    "    lst=[line.split()[1] for line in f]\n",
    "    temp=[]\n",
    "    for i in lst:\n",
    "        new=i.replace(',',\"\")\n",
    "        temp.append(new)\n",
    "    temp.pop(0)\n",
    "    temp=[float(x) for x in temp]\n",
    "    temp=temp[1920:1945]\n",
    "    #temp=temp[2015:2063]\n",
    "    print(temp)\n",
    "    print(len(temp))\n",
    "#full time period is [2015:2112]"
   ]
  },
  {
   "cell_type": "code",
   "execution_count": 3,
   "id": "e9d4dbcc",
   "metadata": {},
   "outputs": [
    {
     "name": "stdout",
     "output_type": "stream",
     "text": [
      "[11.45, 12.9, 12.649999999999999, 12.6, 13.0, 13.6, 14.0, 14.6, 14.55, 13.95, 13.649999999999999, 12.25, 11.9, 11.7, 11.45, 11.5, 10.05, 9.9, 9.2, 9.1, 7.55, 6.75, 6.0, 6.0, 5.9]\n"
     ]
    }
   ],
   "source": [
    "#Air Temp CRN:\n",
    "with open('CRNS0101-05-2022-MO_Salem_10_W.txt') as f:\n",
    "    lst=[line.split()[8] for line in f]\n",
    "\n",
    "    a=(float(lst[23183])+float(lst[23184]))/2\n",
    "    b=(float(lst[23195])+float(lst[23196]))/2\n",
    "    c=(float(lst[23207])+float(lst[23208]))/2\n",
    "    d=(float(lst[23219])+float(lst[23220]))/2\n",
    "    e=(float(lst[23231])+float(lst[23232]))/2\n",
    "    f=(float(lst[23243])+float(lst[23244]))/2\n",
    "    g=(float(lst[23255])+float(lst[23256]))/2\n",
    "    h=(float(lst[23267])+float(lst[23268]))/2\n",
    "    i=(float(lst[23279])+float(lst[23280]))/2\n",
    "    j=(float(lst[23291])+float(lst[23292]))/2\n",
    "    k=(float(lst[23303])+float(lst[23304]))/2\n",
    "    l=(float(lst[23315])+float(lst[23316]))/2\n",
    "    m=(float(lst[23327])+float(lst[23328]))/2\n",
    "    n=(float(lst[23339])+float(lst[23340]))/2\n",
    "    o=(float(lst[23351])+float(lst[23352]))/2\n",
    "    p=(float(lst[23363])+float(lst[23364]))/2\n",
    "    q=(float(lst[23375])+float(lst[23376]))/2\n",
    "    r=(float(lst[23387])+float(lst[23388]))/2\n",
    "    s=(float(lst[23399])+float(lst[23400]))/2\n",
    "    t=(float(lst[23411])+float(lst[23412]))/2\n",
    "    u=(float(lst[23423])+float(lst[23424]))/2\n",
    "    v=(float(lst[23435])+float(lst[23436]))/2\n",
    "    w=(float(lst[23447])+float(lst[23448]))/2\n",
    "    x=(float(lst[23459])+float(lst[23460]))/2\n",
    "    y=(float(lst[23471])+float(lst[23472]))/2\n",
    "    temp_crn=[a,b,c,d,e,f,g,h,i,j,k,l,m,n,o,p,q,r,s,t,u,v,w,x,y]\n",
    "    print(temp_crn)"
   ]
  },
  {
   "cell_type": "code",
   "execution_count": 4,
   "id": "1e9aed03-d99c-4045-812a-e26bcc99b84f",
   "metadata": {},
   "outputs": [
    {
     "name": "stdout",
     "output_type": "stream",
     "text": [
      "[-0.40499999999999936, -0.49160000000000004, 0.2707000000000015, 0.9876000000000005, 1.0398999999999994, 1.167300000000001, 0.8620999999999999, 0.16430000000000078, 0.192499999999999, 0.4902000000000015, -0.4593999999999987, 1.0861999999999998, 0.8821999999999992, 0.5495000000000001, 0.918000000000001, 0.8249999999999993, 1.4161000000000001, 0.3885000000000005, 0.8953000000000007, 0.484630000000001, 0.3272900000000005, 0.85562, 0.3663299999999996, 0.72891, 0.4023999999999992]\n"
     ]
    }
   ],
   "source": [
    "difference1_sal = []\n",
    "\n",
    "zip_object = zip(temp, temp_crn)\n",
    "for temp_i, temp_crn_i in zip_object:\n",
    "    difference1_sal.append(temp_i-temp_crn_i)\n",
    "\n",
    "print(difference1_sal)"
   ]
  },
  {
   "cell_type": "markdown",
   "id": "9043c519",
   "metadata": {},
   "source": [
    "<font size=\"3\">Batesville, AR: 1200 UTC 22 March 2022-1200 UTC 23 March 2022</font>"
   ]
  },
  {
   "cell_type": "code",
   "execution_count": 5,
   "id": "ee5d006f",
   "metadata": {},
   "outputs": [
    {
     "name": "stdout",
     "output_type": "stream",
     "text": [
      "[13.42, 13.2834, 13.9832, 15.2751, 14.8524, 14.9548, 14.6746, 13.9518, 15.805, 15.0652, 15.6281, 14.5862, 14.0322, 13.812, 13.868, 13.7, 11.4661, 9.60104, 8.97034, 8.83463, 7.75229, 6.35562, 6.55383, 6.60391, 6.6774]\n",
      "25\n"
     ]
    }
   ],
   "source": [
    "#12 hr hrrr:\n",
    "with open('hrrr_f12_Batesville_AR.txt') as f:\n",
    "    lst=[line.split()[1] for line in f]\n",
    "    temp=[]\n",
    "    for i in lst:\n",
    "        new=i.replace(',',\"\")\n",
    "        temp.append(new)\n",
    "    temp.pop(0)\n",
    "    temp=[float(x) for x in temp]\n",
    "    temp=temp[1920:1945]\n",
    "    #temp=temp[2015:2063]\n",
    "    print(temp)\n",
    "    print(len(temp))\n",
    "#full time period is [2015:2112]"
   ]
  },
  {
   "cell_type": "code",
   "execution_count": 6,
   "id": "1eabebb5",
   "metadata": {},
   "outputs": [
    {
     "name": "stdout",
     "output_type": "stream",
     "text": [
      "[13.0, 13.2, 13.2, 13.4, 13.3, 13.4, 13.350000000000001, 13.25, 14.1, 14.45, 14.2, 13.850000000000001, 13.3, 12.45, 13.25, 11.95, 10.95, 10.649999999999999, 9.5, 7.85, 7.3, 7.15, 6.9, 6.8, 6.7]\n"
     ]
    }
   ],
   "source": [
    "#Air Temp CRN:\n",
    "with open('CRNS0101-05-2022-AR_Batesville_8_WNW.txt') as f:\n",
    "    lst=[line.split()[8] for line in f]\n",
    "\n",
    "    a=(float(lst[23183])+float(lst[23184]))/2\n",
    "    b=(float(lst[23195])+float(lst[23196]))/2\n",
    "    c=(float(lst[23207])+float(lst[23208]))/2\n",
    "    d=(float(lst[23219])+float(lst[23220]))/2\n",
    "    e=(float(lst[23231])+float(lst[23232]))/2\n",
    "    f=(float(lst[23243])+float(lst[23244]))/2\n",
    "    g=(float(lst[23255])+float(lst[23256]))/2\n",
    "    h=(float(lst[23267])+float(lst[23268]))/2\n",
    "    i=(float(lst[23279])+float(lst[23280]))/2\n",
    "    j=(float(lst[23291])+float(lst[23292]))/2\n",
    "    k=(float(lst[23303])+float(lst[23304]))/2\n",
    "    l=(float(lst[23315])+float(lst[23316]))/2\n",
    "    m=(float(lst[23327])+float(lst[23328]))/2\n",
    "    n=(float(lst[23339])+float(lst[23340]))/2\n",
    "    o=(float(lst[23351])+float(lst[23352]))/2\n",
    "    p=(float(lst[23363])+float(lst[23364]))/2\n",
    "    q=(float(lst[23375])+float(lst[23376]))/2\n",
    "    r=(float(lst[23387])+float(lst[23388]))/2\n",
    "    s=(float(lst[23399])+float(lst[23400]))/2\n",
    "    t=(float(lst[23411])+float(lst[23412]))/2\n",
    "    u=(float(lst[23423])+float(lst[23424]))/2\n",
    "    v=(float(lst[23435])+float(lst[23436]))/2\n",
    "    w=(float(lst[23447])+float(lst[23448]))/2\n",
    "    x=(float(lst[23459])+float(lst[23460]))/2\n",
    "    y=(float(lst[23471])+float(lst[23472]))/2\n",
    "    temp_crn=[a,b,c,d,e,f,g,h,i,j,k,l,m,n,o,p,q,r,s,t,u,v,w,x,y]\n",
    "    print(temp_crn)"
   ]
  },
  {
   "cell_type": "code",
   "execution_count": 7,
   "id": "62a46873",
   "metadata": {},
   "outputs": [
    {
     "name": "stdout",
     "output_type": "stream",
     "text": [
      "[0.41999999999999993, 0.08340000000000103, 0.7832000000000008, 1.8750999999999998, 1.5523999999999987, 1.5548000000000002, 1.3245999999999984, 0.7018000000000004, 1.705, 0.6152000000000015, 1.4281000000000006, 0.7361999999999984, 0.7321999999999989, 1.362, 0.6180000000000003, 1.75, 0.5161000000000016, -1.0489599999999992, -0.5296599999999998, 0.984630000000001, 0.4522900000000005, -0.7943800000000003, -0.34617000000000075, -0.19608999999999988, -0.02260000000000062]\n"
     ]
    }
   ],
   "source": [
    "difference1_bat = []\n",
    "\n",
    "zip_object = zip(temp, temp_crn)\n",
    "for temp_i, temp_crn_i in zip_object:\n",
    "    difference1_bat.append(temp_i-temp_crn_i)\n",
    "\n",
    "print(difference1_bat)"
   ]
  },
  {
   "cell_type": "markdown",
   "id": "2a2589df",
   "metadata": {},
   "source": [
    "<font size=\"3\">Lafayette, LA: 1500 UTC 22 March 2022-1500 UTC 23 March 2022</font>"
   ]
  },
  {
   "cell_type": "code",
   "execution_count": 8,
   "id": "94433671",
   "metadata": {},
   "outputs": [
    {
     "name": "stdout",
     "output_type": "stream",
     "text": [
      "[24.4626, 25.6649, 25.5798, 24.4871, 22.6393, 20.805, 22.3152, 22.1906, 19.9612, 19.8447, 19.1245, 18.118, 17.7, 13.9661, 11.7885, 11.1578, 10.2721, 9.68979, 8.98062, 8.49133, 8.16641, 7.8649, 8.48215, 10.2308, 11.5225]\n",
      "25\n"
     ]
    }
   ],
   "source": [
    "#12 hr hrrr:\n",
    "with open('hrrr_f12_Lafayette_LA.txt') as f:\n",
    "    lst=[line.split()[1] for line in f]\n",
    "    temp=[]\n",
    "    for i in lst:\n",
    "        new=i.replace(',',\"\")\n",
    "        temp.append(new)\n",
    "    temp.pop(0)\n",
    "    temp=[float(x) for x in temp]\n",
    "    temp=temp[1923:1948]\n",
    "    #temp=temp[2015:2063]\n",
    "    print(temp)\n",
    "    print(len(temp))\n",
    "#full time period is [2015:2112]"
   ]
  },
  {
   "cell_type": "code",
   "execution_count": 9,
   "id": "f946394b",
   "metadata": {},
   "outputs": [
    {
     "name": "stdout",
     "output_type": "stream",
     "text": [
      "[23.85, 23.6, 24.1, 23.95, 22.9, 19.95, 20.65, 20.95, 21.05, 20.1, 18.0, 15.65, 15.15, 15.2, 14.7, 12.7, 11.55, 10.45, 9.850000000000001, 7.65, 9.0, 8.7, 9.45, 11.15, 12.75]\n"
     ]
    }
   ],
   "source": [
    "#Air Temp CRN:\n",
    "with open('CRNS0101-05-2022-LA_Lafayette_13_SE.txt') as f:\n",
    "    lst=[line.split()[8] for line in f]\n",
    "\n",
    "    a=(float(lst[23219])+float(lst[23220]))/2\n",
    "    b=(float(lst[23231])+float(lst[23232]))/2\n",
    "    c=(float(lst[23243])+float(lst[23244]))/2\n",
    "    d=(float(lst[23255])+float(lst[23256]))/2\n",
    "    e=(float(lst[23267])+float(lst[23268]))/2\n",
    "    f=(float(lst[23279])+float(lst[23280]))/2\n",
    "    g=(float(lst[23291])+float(lst[23292]))/2\n",
    "    h=(float(lst[23303])+float(lst[23304]))/2\n",
    "    i=(float(lst[23315])+float(lst[23316]))/2\n",
    "    j=(float(lst[23327])+float(lst[23328]))/2\n",
    "    k=(float(lst[23339])+float(lst[23340]))/2\n",
    "    l=(float(lst[23351])+float(lst[23352]))/2\n",
    "    m=(float(lst[23363])+float(lst[23364]))/2\n",
    "    n=(float(lst[23375])+float(lst[23376]))/2\n",
    "    o=(float(lst[23387])+float(lst[23388]))/2\n",
    "    p=(float(lst[23399])+float(lst[23400]))/2\n",
    "    q=(float(lst[23411])+float(lst[23412]))/2\n",
    "    r=(float(lst[23423])+float(lst[23424]))/2\n",
    "    s=(float(lst[23435])+float(lst[23436]))/2\n",
    "    t=(float(lst[23447])+float(lst[23448]))/2\n",
    "    u=(float(lst[23459])+float(lst[23460]))/2\n",
    "    v=(float(lst[23471])+float(lst[23472]))/2\n",
    "    w=(float(lst[23483])+float(lst[23484]))/2\n",
    "    x=(float(lst[23495])+float(lst[23496]))/2\n",
    "    y=(float(lst[23507])+float(lst[23508]))/2\n",
    "    temp_crn=[a,b,c,d,e,f,g,h,i,j,k,l,m,n,o,p,q,r,s,t,u,v,w,x,y]\n",
    "    print(temp_crn)"
   ]
  },
  {
   "cell_type": "code",
   "execution_count": 10,
   "id": "9b94d0f9",
   "metadata": {},
   "outputs": [
    {
     "name": "stdout",
     "output_type": "stream",
     "text": [
      "[0.6125999999999969, 2.064899999999998, 1.4797999999999973, 0.5371000000000024, -0.26069999999999993, 0.8550000000000004, 1.6652000000000022, 1.2406000000000006, -1.088799999999999, -0.25530000000000186, 1.1245000000000012, 2.467999999999998, 2.549999999999999, -1.2338999999999984, -2.9114999999999984, -1.5421999999999993, -1.2779000000000007, -0.7602099999999989, -0.8693800000000014, 0.8413299999999992, -0.8335899999999992, -0.8350999999999997, -0.9678499999999985, -0.9192, -1.2274999999999991]\n"
     ]
    }
   ],
   "source": [
    "difference1_laf = []\n",
    "\n",
    "zip_object = zip(temp, temp_crn)\n",
    "for temp_i, temp_crn_i in zip_object:\n",
    "    difference1_laf.append(temp_i-temp_crn_i)\n",
    "\n",
    "print(difference1_laf)"
   ]
  },
  {
   "cell_type": "markdown",
   "id": "7a8d079f",
   "metadata": {},
   "source": [
    "<font size=\"3\">Monroe, LA: 1500 UTC 22 March 2022-1500 UTC 23 March 2022</font>"
   ]
  },
  {
   "cell_type": "code",
   "execution_count": 11,
   "id": "821d447a",
   "metadata": {},
   "outputs": [
    {
     "name": "stdout",
     "output_type": "stream",
     "text": [
      "[15.9001, 15.3524, 15.1423, 16.3621, 17.3268, 16.7425, 17.3152, 19.1281, 17.8987, 16.2822, 16.437, 14.368, 12.1375, 10.6536, 10.0385, 9.47034, 8.58463, 8.06479, 7.41812, 6.67883, 6.91641, 6.6149, 6.60715, 7.35577, 8.08499]\n",
      "25\n"
     ]
    }
   ],
   "source": [
    "#12 hr hrrr:\n",
    "with open('hrrr_f12_Monroe_LA.txt') as f:\n",
    "    lst=[line.split()[1] for line in f]\n",
    "    temp=[]\n",
    "    for i in lst:\n",
    "        new=i.replace(',',\"\")\n",
    "        temp.append(new)\n",
    "    temp.pop(0)\n",
    "    temp=[float(x) for x in temp]\n",
    "    temp=temp[1923:1948]\n",
    "    #temp=temp[2015:2063]\n",
    "    print(temp)\n",
    "    print(len(temp))\n",
    "#full time period is [2015:2112]"
   ]
  },
  {
   "cell_type": "code",
   "execution_count": 12,
   "id": "210341da",
   "metadata": {},
   "outputs": [
    {
     "name": "stdout",
     "output_type": "stream",
     "text": [
      "[14.1, 14.05, 13.8, 13.6, 14.0, 14.7, 15.0, 15.149999999999999, 15.0, 14.7, 14.7, 11.649999999999999, 10.75, 10.25, 10.149999999999999, 9.95, 9.55, 8.9, 8.649999999999999, 8.6, 8.55, 8.7, 8.7, 8.95, 9.649999999999999]\n"
     ]
    }
   ],
   "source": [
    "#Air Temp CRN:\n",
    "with open('CRNS0101-05-2022-LA_Monroe_26_N.txt') as f:\n",
    "    lst=[line.split()[8] for line in f]\n",
    "\n",
    "    a=(float(lst[23219])+float(lst[23220]))/2\n",
    "    b=(float(lst[23231])+float(lst[23232]))/2\n",
    "    c=(float(lst[23243])+float(lst[23244]))/2\n",
    "    d=(float(lst[23255])+float(lst[23256]))/2\n",
    "    e=(float(lst[23267])+float(lst[23268]))/2\n",
    "    f=(float(lst[23279])+float(lst[23280]))/2\n",
    "    g=(float(lst[23291])+float(lst[23292]))/2\n",
    "    h=(float(lst[23303])+float(lst[23304]))/2\n",
    "    i=(float(lst[23315])+float(lst[23316]))/2\n",
    "    j=(float(lst[23327])+float(lst[23328]))/2\n",
    "    k=(float(lst[23339])+float(lst[23340]))/2\n",
    "    l=(float(lst[23351])+float(lst[23352]))/2\n",
    "    m=(float(lst[23363])+float(lst[23364]))/2\n",
    "    n=(float(lst[23375])+float(lst[23376]))/2\n",
    "    o=(float(lst[23387])+float(lst[23388]))/2\n",
    "    p=(float(lst[23399])+float(lst[23400]))/2\n",
    "    q=(float(lst[23411])+float(lst[23412]))/2\n",
    "    r=(float(lst[23423])+float(lst[23424]))/2\n",
    "    s=(float(lst[23435])+float(lst[23436]))/2\n",
    "    t=(float(lst[23447])+float(lst[23448]))/2\n",
    "    u=(float(lst[23459])+float(lst[23460]))/2\n",
    "    v=(float(lst[23471])+float(lst[23472]))/2\n",
    "    w=(float(lst[23483])+float(lst[23484]))/2\n",
    "    x=(float(lst[23495])+float(lst[23496]))/2\n",
    "    y=(float(lst[23507])+float(lst[23508]))/2\n",
    "    temp_crn=[a,b,c,d,e,f,g,h,i,j,k,l,m,n,o,p,q,r,s,t,u,v,w,x,y]\n",
    "    print(temp_crn)"
   ]
  },
  {
   "cell_type": "code",
   "execution_count": 13,
   "id": "2b4e383a",
   "metadata": {},
   "outputs": [
    {
     "name": "stdout",
     "output_type": "stream",
     "text": [
      "[1.8001000000000005, 1.3023999999999987, 1.3422999999999998, 2.762100000000002, 3.3267999999999986, 2.0425000000000004, 2.315200000000001, 3.9781000000000013, 2.8987000000000016, 1.5822000000000003, 1.7370000000000019, 2.7180000000000017, 1.3874999999999993, 0.40360000000000085, -0.11149999999999771, -0.4796599999999991, -0.9653700000000001, -0.83521, -1.2318799999999985, -1.92117, -1.6335900000000008, -2.0850999999999997, -2.0928499999999994, -1.5942299999999996, -1.5650099999999991]\n"
     ]
    }
   ],
   "source": [
    "difference1_mon = []\n",
    "\n",
    "zip_object = zip(temp, temp_crn)\n",
    "for temp_i, temp_crn_i in zip_object:\n",
    "    difference1_mon.append(temp_i-temp_crn_i)\n",
    "\n",
    "print(difference1_mon)"
   ]
  },
  {
   "cell_type": "markdown",
   "id": "26c585ff",
   "metadata": {},
   "source": [
    "<font size=\"3\">Holly Springs, MS: 1800 UTC 22 March 2022-1800 UTC 23 March 2022</font>"
   ]
  },
  {
   "cell_type": "code",
   "execution_count": 14,
   "id": "4504c8c6",
   "metadata": {},
   "outputs": [
    {
     "name": "stdout",
     "output_type": "stream",
     "text": [
      "[19.3621, 22.5143, 15.7425, 17.3152, 17.1906, 16.5862, 16.8447, 16.562, 16.8055, 16.95, 15.7161, 14.601, 14.4703, 13.7721, 12.1273, 10.9181, 10.6163, 9.04141, 7.7399, 7.41965, 6.98077, 8.20999, 8.03226, 7.29306, 7.53381]\n",
      "25\n"
     ]
    }
   ],
   "source": [
    "#12 hr hrrr:\n",
    "with open('hrrr_f12_Holly Springs_MS.txt') as f:\n",
    "    lst=[line.split()[1] for line in f]\n",
    "    temp=[]\n",
    "    for i in lst:\n",
    "        new=i.replace(',',\"\")\n",
    "        temp.append(new)\n",
    "    temp.pop(0)\n",
    "    temp=[float(x) for x in temp]\n",
    "    temp=temp[1926:1951]\n",
    "    #temp=temp[2015:2063]\n",
    "    print(temp)\n",
    "    print(len(temp))\n",
    "#full time period is [2015:2112]"
   ]
  },
  {
   "cell_type": "code",
   "execution_count": 15,
   "id": "d0ee337a",
   "metadata": {},
   "outputs": [
    {
     "name": "stdout",
     "output_type": "stream",
     "text": [
      "[13.2, 12.55, 12.5, 12.3, 12.6, 14.4, 14.55, 14.2, 14.5, 14.95, 14.649999999999999, 14.3, 13.95, 13.55, 12.8, 11.3, 10.25, 9.6, 8.6, 8.7, 8.649999999999999, 8.3, 8.2, 8.9, 9.350000000000001]\n"
     ]
    }
   ],
   "source": [
    "#Air Temp CRN:\n",
    "with open('CRNS0101-05-2022-MS_Holly_Springs_4_N.txt') as f:\n",
    "    lst=[line.split()[8] for line in f]\n",
    "\n",
    "    a=(float(lst[23255])+float(lst[23256]))/2\n",
    "    b=(float(lst[23267])+float(lst[23268]))/2\n",
    "    c=(float(lst[23279])+float(lst[23280]))/2\n",
    "    d=(float(lst[23291])+float(lst[23292]))/2\n",
    "    e=(float(lst[23303])+float(lst[23304]))/2\n",
    "    f=(float(lst[23315])+float(lst[23316]))/2\n",
    "    g=(float(lst[23327])+float(lst[23328]))/2\n",
    "    h=(float(lst[23339])+float(lst[23340]))/2\n",
    "    i=(float(lst[23351])+float(lst[23352]))/2\n",
    "    j=(float(lst[23363])+float(lst[23364]))/2\n",
    "    k=(float(lst[23375])+float(lst[23376]))/2\n",
    "    l=(float(lst[23387])+float(lst[23388]))/2\n",
    "    m=(float(lst[23399])+float(lst[23400]))/2\n",
    "    n=(float(lst[23411])+float(lst[23412]))/2\n",
    "    o=(float(lst[23423])+float(lst[23424]))/2\n",
    "    p=(float(lst[23435])+float(lst[23436]))/2\n",
    "    q=(float(lst[23447])+float(lst[23448]))/2\n",
    "    r=(float(lst[23459])+float(lst[23460]))/2\n",
    "    s=(float(lst[23471])+float(lst[23472]))/2\n",
    "    t=(float(lst[23483])+float(lst[23484]))/2\n",
    "    u=(float(lst[23495])+float(lst[23496]))/2\n",
    "    v=(float(lst[23507])+float(lst[23508]))/2\n",
    "    w=(float(lst[23519])+float(lst[23520]))/2\n",
    "    x=(float(lst[23531])+float(lst[23532]))/2\n",
    "    y=(float(lst[23543])+float(lst[23544]))/2\n",
    "    temp_crn=[a,b,c,d,e,f,g,h,i,j,k,l,m,n,o,p,q,r,s,t,u,v,w,x,y]\n",
    "    print(temp_crn)"
   ]
  },
  {
   "cell_type": "code",
   "execution_count": 16,
   "id": "46b095cb",
   "metadata": {},
   "outputs": [
    {
     "name": "stdout",
     "output_type": "stream",
     "text": [
      "[6.162100000000002, 9.964299999999998, 3.2424999999999997, 5.0152, 4.5906, 2.1862000000000013, 2.294699999999999, 2.362000000000002, 2.3054999999999986, 2.0, 1.0661000000000023, 0.30100000000000016, 0.5203000000000007, 0.2220999999999993, -0.6727000000000007, -0.3818999999999999, 0.36630000000000074, -0.5585899999999988, -0.8601000000000001, -1.2803499999999994, -1.6692299999999989, -0.09001000000000126, -0.16773999999999845, -1.6069400000000007, -1.8161900000000015]\n"
     ]
    }
   ],
   "source": [
    "difference1_hol = []\n",
    "\n",
    "zip_object = zip(temp, temp_crn)\n",
    "for temp_i, temp_crn_i in zip_object:\n",
    "    difference1_hol.append(temp_i-temp_crn_i)\n",
    "\n",
    "print(difference1_hol)"
   ]
  },
  {
   "cell_type": "markdown",
   "id": "1c76c308",
   "metadata": {},
   "source": [
    "<font size=\"3\">Newton, MS: 1800 UTC 22 March 2022-1800 UTC 23 March 2022</font>"
   ]
  },
  {
   "cell_type": "code",
   "execution_count": 17,
   "id": "a6fc5b55",
   "metadata": {},
   "outputs": [
    {
     "name": "stdout",
     "output_type": "stream",
     "text": [
      "[21.2996, 21.5768, 21.9925, 22.6902, 22.6281, 22.3362, 22.6572, 21.1245, 18.6805, 19.8875, 18.6536, 16.851, 16.4078, 15.6471, 15.1898, 12.1056, 11.7413, 11.6039, 10.4899, 9.35715, 9.79327, 10.3975, 11.4073, 12.0431, 12.2838]\n",
      "25\n"
     ]
    }
   ],
   "source": [
    "#12 hr hrrr:\n",
    "with open('hrrr_f12_Newton_MS.txt') as f:\n",
    "    lst=[line.split()[1] for line in f]\n",
    "    temp=[]\n",
    "    for i in lst:\n",
    "        new=i.replace(',',\"\")\n",
    "        temp.append(new)\n",
    "    temp.pop(0)\n",
    "    temp=[float(x) for x in temp]\n",
    "    temp=temp[1926:1951]\n",
    "    #temp=temp[2015:2063]\n",
    "    print(temp)\n",
    "    print(len(temp))\n",
    "#full time period is [2015:2112]"
   ]
  },
  {
   "cell_type": "code",
   "execution_count": 18,
   "id": "449e8daa",
   "metadata": {},
   "outputs": [
    {
     "name": "stdout",
     "output_type": "stream",
     "text": [
      "[22.95, 22.25, 21.299999999999997, 16.65, 15.850000000000001, 15.9, 16.0, 15.9, 16.0, 16.85, 17.2, 16.7, 15.9, 14.9, 14.1, 13.45, 13.2, 11.55, 11.4, 10.5, 10.1, 10.5, 11.45, 13.2, 14.2]\n"
     ]
    }
   ],
   "source": [
    "#Air Temp CRN:\n",
    "with open('CRNS0101-05-2022-MS_Newton_5_ENE.txt') as f:\n",
    "    lst=[line.split()[8] for line in f]\n",
    "\n",
    "    a=(float(lst[23255])+float(lst[23256]))/2\n",
    "    b=(float(lst[23267])+float(lst[23268]))/2\n",
    "    c=(float(lst[23279])+float(lst[23280]))/2\n",
    "    d=(float(lst[23291])+float(lst[23292]))/2\n",
    "    e=(float(lst[23303])+float(lst[23304]))/2\n",
    "    f=(float(lst[23315])+float(lst[23316]))/2\n",
    "    g=(float(lst[23327])+float(lst[23328]))/2\n",
    "    h=(float(lst[23339])+float(lst[23340]))/2\n",
    "    i=(float(lst[23351])+float(lst[23352]))/2\n",
    "    j=(float(lst[23363])+float(lst[23364]))/2\n",
    "    k=(float(lst[23375])+float(lst[23376]))/2\n",
    "    l=(float(lst[23387])+float(lst[23388]))/2\n",
    "    m=(float(lst[23399])+float(lst[23400]))/2\n",
    "    n=(float(lst[23411])+float(lst[23412]))/2\n",
    "    o=(float(lst[23423])+float(lst[23424]))/2\n",
    "    p=(float(lst[23435])+float(lst[23436]))/2\n",
    "    q=(float(lst[23447])+float(lst[23448]))/2\n",
    "    r=(float(lst[23459])+float(lst[23460]))/2\n",
    "    s=(float(lst[23471])+float(lst[23472]))/2\n",
    "    t=(float(lst[23483])+float(lst[23484]))/2\n",
    "    u=(float(lst[23495])+float(lst[23496]))/2\n",
    "    v=(float(lst[23507])+float(lst[23508]))/2\n",
    "    w=(float(lst[23519])+float(lst[23520]))/2\n",
    "    x=(float(lst[23531])+float(lst[23532]))/2\n",
    "    y=(float(lst[23543])+float(lst[23544]))/2\n",
    "    temp_crn=[a,b,c,d,e,f,g,h,i,j,k,l,m,n,o,p,q,r,s,t,u,v,w,x,y]\n",
    "    print(temp_crn)"
   ]
  },
  {
   "cell_type": "code",
   "execution_count": 19,
   "id": "e588ab70",
   "metadata": {},
   "outputs": [
    {
     "name": "stdout",
     "output_type": "stream",
     "text": [
      "[-1.6503999999999976, -0.6732000000000014, 0.6925000000000026, 6.040200000000002, 6.7780999999999985, 6.436200000000001, 6.6572, 5.224500000000001, 2.6804999999999986, 3.037499999999998, 1.4536000000000016, 0.1509999999999998, 0.5078000000000014, 0.7470999999999997, 1.0898000000000003, -1.3443999999999985, -1.4586999999999986, 0.05389999999999873, -0.9100999999999999, -1.1428499999999993, -0.30672999999999995, -0.10249999999999915, -0.04269999999999996, -1.1568999999999985, -1.9162]\n"
     ]
    }
   ],
   "source": [
    "difference1_new = []\n",
    "\n",
    "zip_object = zip(temp, temp_crn)\n",
    "for temp_i, temp_crn_i in zip_object:\n",
    "    difference1_new.append(temp_i-temp_crn_i)\n",
    "\n",
    "print(difference1_new)"
   ]
  },
  {
   "cell_type": "markdown",
   "id": "c9620694",
   "metadata": {},
   "source": [
    "<font size=\"3\">Gainesville, AL: 2200 UTC 22 March 2022-2200 UTC 23 March 2022</font>"
   ]
  },
  {
   "cell_type": "code",
   "execution_count": 20,
   "id": "038fabb5",
   "metadata": {},
   "outputs": [
    {
     "name": "stdout",
     "output_type": "stream",
     "text": [
      "[21.1281, 21.1487, 20.9697, 20.6245, 20.6805, 20.825, 19.7161, 19.5385, 19.0328, 16.6471, 16.0023, 16.0431, 15.0538, 14.2289, 13.5524, 12.6696, 11.7933, 12.3975, 12.9073, 13.9181, 14.5338, 14.5995, 14.3845, 13.6761, 12.61]\n",
      "25\n"
     ]
    }
   ],
   "source": [
    "#12 hr hrrr:\n",
    "with open('hrrr_f12_Gainesville_AL.txt') as f:\n",
    "    lst=[line.split()[1] for line in f]\n",
    "    temp=[]\n",
    "    for i in lst:\n",
    "        new=i.replace(',',\"\")\n",
    "        temp.append(new)\n",
    "    temp.pop(0)\n",
    "    temp=[float(x) for x in temp]\n",
    "    temp=temp[1930:1955]\n",
    "    #temp=temp[2015:2063]\n",
    "    print(temp)\n",
    "    print(len(temp))\n",
    "#full time period is [2015:2112]"
   ]
  },
  {
   "cell_type": "code",
   "execution_count": 21,
   "id": "dc289aee",
   "metadata": {},
   "outputs": [
    {
     "name": "stdout",
     "output_type": "stream",
     "text": [
      "[17.35, 16.2, 16.1, 16.25, 16.35, 16.3, 16.65, 16.85, 16.7, 16.5, 16.35, 14.5, 13.3, 12.6, 12.7, 13.25, 13.2, 13.5, 12.3, 14.0, 15.05, 16.700000000000003, 16.65, 17.85, 17.75]\n"
     ]
    }
   ],
   "source": [
    "#Air Temp CRN:\n",
    "with open('CRNS0101-05-2022-AL_Gainesville_2_NE.txt') as f:\n",
    "    lst=[line.split()[8] for line in f]\n",
    "\n",
    "    a=(float(lst[23303])+float(lst[23304]))/2\n",
    "    b=(float(lst[23315])+float(lst[23316]))/2\n",
    "    c=(float(lst[23327])+float(lst[23328]))/2\n",
    "    d=(float(lst[23339])+float(lst[23340]))/2\n",
    "    e=(float(lst[23351])+float(lst[23352]))/2\n",
    "    f=(float(lst[23363])+float(lst[23364]))/2\n",
    "    g=(float(lst[23375])+float(lst[23376]))/2\n",
    "    h=(float(lst[23387])+float(lst[23388]))/2\n",
    "    i=(float(lst[23399])+float(lst[23400]))/2\n",
    "    j=(float(lst[23411])+float(lst[23412]))/2\n",
    "    k=(float(lst[23423])+float(lst[23424]))/2\n",
    "    l=(float(lst[23435])+float(lst[23436]))/2\n",
    "    m=(float(lst[23447])+float(lst[23448]))/2\n",
    "    n=(float(lst[23459])+float(lst[23460]))/2\n",
    "    o=(float(lst[23471])+float(lst[23472]))/2\n",
    "    p=(float(lst[23483])+float(lst[23484]))/2\n",
    "    q=(float(lst[23495])+float(lst[23496]))/2\n",
    "    r=(float(lst[23507])+float(lst[23508]))/2\n",
    "    s=(float(lst[23519])+float(lst[23520]))/2\n",
    "    t=(float(lst[23531])+float(lst[23532]))/2\n",
    "    u=(float(lst[23543])+float(lst[23544]))/2\n",
    "    v=(float(lst[23555])+float(lst[23556]))/2\n",
    "    w=(float(lst[23567])+float(lst[23568]))/2\n",
    "    x=(float(lst[23579])+float(lst[23580]))/2\n",
    "    y=(float(lst[23591])+float(lst[23592]))/2\n",
    "    temp_crn=[a,b,c,d,e,f,g,h,i,j,k,l,m,n,o,p,q,r,s,t,u,v,w,x,y]\n",
    "    print(temp_crn)"
   ]
  },
  {
   "cell_type": "code",
   "execution_count": 22,
   "id": "8df76a7b",
   "metadata": {},
   "outputs": [
    {
     "name": "stdout",
     "output_type": "stream",
     "text": [
      "[3.7780999999999985, 4.948700000000002, 4.869699999999998, 4.374500000000001, 4.330499999999997, 4.524999999999999, 3.0661000000000023, 2.6884999999999977, 2.3328000000000024, 0.14709999999999823, -0.3476999999999997, 1.543099999999999, 1.7538, 1.6288999999999998, 0.8524000000000012, -0.5803999999999991, -1.406699999999999, -1.1024999999999991, 0.6072999999999986, -0.0818999999999992, -0.5162000000000013, -2.100500000000002, -2.2654999999999994, -4.1739000000000015, -5.140000000000001]\n"
     ]
    }
   ],
   "source": [
    "difference1_gai = []\n",
    "\n",
    "zip_object = zip(temp, temp_crn)\n",
    "for temp_i, temp_crn_i in zip_object:\n",
    "    difference1_gai.append(temp_i-temp_crn_i)\n",
    "\n",
    "print(difference1_gai)"
   ]
  },
  {
   "cell_type": "markdown",
   "id": "2711dc15",
   "metadata": {},
   "source": [
    "<font size=\"3\">Fairhope, AL: 2200 UTC 22 March 2022-2200 UTC 23 March 2022</font>"
   ]
  },
  {
   "cell_type": "code",
   "execution_count": 23,
   "id": "b97b4753",
   "metadata": {},
   "outputs": [
    {
     "name": "stdout",
     "output_type": "stream",
     "text": [
      "[22.5031, 22.3362, 22.0322, 22.1245, 22.243, 22.325, 21.8411, 22.0385, 18.2828, 16.3971, 16.9398, 17.0431, 17.6788, 18.1664, 18.0524, 17.6071, 17.2308, 16.335, 16.3448, 15.4181, 15.6588, 17.037, 16.8845, 17.9261, 18.36]\n",
      "25\n"
     ]
    }
   ],
   "source": [
    "#12 hr hrrr:\n",
    "with open('hrrr_f12_Fairhope_AL.txt') as f:\n",
    "    lst=[line.split()[1] for line in f]\n",
    "    temp=[]\n",
    "    for i in lst:\n",
    "        new=i.replace(',',\"\")\n",
    "        temp.append(new)\n",
    "    temp.pop(0)\n",
    "    temp=[float(x) for x in temp]\n",
    "    temp=temp[1930:1955]\n",
    "    #temp=temp[2015:2063]\n",
    "    print(temp)\n",
    "    print(len(temp))\n",
    "#full time period is [2015:2112]"
   ]
  },
  {
   "cell_type": "code",
   "execution_count": 24,
   "id": "439b18c0",
   "metadata": {},
   "outputs": [
    {
     "name": "stdout",
     "output_type": "stream",
     "text": [
      "[22.6, 22.65, 22.7, 23.3, 23.25, 23.0, 21.4, 22.45, 19.2, 18.25, 18.25, 18.1, 17.85, 17.35, 16.65, 16.85, 17.1, 17.6, 17.8, 17.25, 17.549999999999997, 17.85, 18.6, 17.7, 17.05]\n"
     ]
    }
   ],
   "source": [
    "#Air Temp CRN:\n",
    "with open('CRNS0101-05-2022-AL_Fairhope_3_NE.txt') as f:\n",
    "    lst=[line.split()[8] for line in f]\n",
    "\n",
    "    a=(float(lst[23303])+float(lst[23304]))/2\n",
    "    b=(float(lst[23315])+float(lst[23316]))/2\n",
    "    c=(float(lst[23327])+float(lst[23328]))/2\n",
    "    d=(float(lst[23339])+float(lst[23340]))/2\n",
    "    e=(float(lst[23351])+float(lst[23352]))/2\n",
    "    f=(float(lst[23363])+float(lst[23364]))/2\n",
    "    g=(float(lst[23375])+float(lst[23376]))/2\n",
    "    h=(float(lst[23387])+float(lst[23388]))/2\n",
    "    i=(float(lst[23399])+float(lst[23400]))/2\n",
    "    j=(float(lst[23411])+float(lst[23412]))/2\n",
    "    k=(float(lst[23423])+float(lst[23424]))/2\n",
    "    l=(float(lst[23435])+float(lst[23436]))/2\n",
    "    m=(float(lst[23447])+float(lst[23448]))/2\n",
    "    n=(float(lst[23459])+float(lst[23460]))/2\n",
    "    o=(float(lst[23471])+float(lst[23472]))/2\n",
    "    p=(float(lst[23483])+float(lst[23484]))/2\n",
    "    q=(float(lst[23495])+float(lst[23496]))/2\n",
    "    r=(float(lst[23507])+float(lst[23508]))/2\n",
    "    s=(float(lst[23519])+float(lst[23520]))/2\n",
    "    t=(float(lst[23531])+float(lst[23532]))/2\n",
    "    u=(float(lst[23543])+float(lst[23544]))/2\n",
    "    v=(float(lst[23555])+float(lst[23556]))/2\n",
    "    w=(float(lst[23567])+float(lst[23568]))/2\n",
    "    x=(float(lst[23579])+float(lst[23580]))/2\n",
    "    y=(float(lst[23591])+float(lst[23592]))/2\n",
    "    temp_crn=[a,b,c,d,e,f,g,h,i,j,k,l,m,n,o,p,q,r,s,t,u,v,w,x,y]\n",
    "    print(temp_crn)"
   ]
  },
  {
   "cell_type": "code",
   "execution_count": 25,
   "id": "a9ff3306",
   "metadata": {},
   "outputs": [
    {
     "name": "stdout",
     "output_type": "stream",
     "text": [
      "[-0.09690000000000154, -0.31379999999999697, -0.6677999999999997, -1.1754999999999995, -1.0070000000000014, -0.6750000000000007, 0.44110000000000227, -0.4115000000000002, -0.9171999999999976, -1.8529000000000018, -1.3101999999999983, -1.0569000000000024, -0.17120000000000246, 0.816399999999998, 1.4024, 0.7570999999999977, 0.13079999999999714, -1.2650000000000006, -1.4552000000000014, -1.8318999999999992, -1.8911999999999978, -0.8130000000000024, -1.7155000000000022, 0.2261000000000024, 1.3099999999999987]\n"
     ]
    }
   ],
   "source": [
    "difference1_fai = []\n",
    "\n",
    "zip_object = zip(temp, temp_crn)\n",
    "for temp_i, temp_crn_i in zip_object:\n",
    "    difference1_fai.append(temp_i-temp_crn_i)\n",
    "\n",
    "print(difference1_fai)"
   ]
  },
  {
   "cell_type": "markdown",
   "id": "f5dd4e4b",
   "metadata": {},
   "source": [
    "<font size=\"3\">**Selma, AL: 2200 UTC 22 March 2022-2200 UTC 23 March 2022</font>"
   ]
  },
  {
   "cell_type": "code",
   "execution_count": 26,
   "id": "af6b46b1",
   "metadata": {},
   "outputs": [
    {
     "name": "stdout",
     "output_type": "stream",
     "text": [
      "[25.3156, 21.3987, 20.4697, 20.687, 20.118, 19.95, 20.0911, 20.226, 18.7203, 19.0846, 18.8148, 18.6681, 17.9288, 16.6039, 16.3024, 16.1071, 16.3558, 16.7725, 16.9698, 17.1056, 17.1588, 17.4745, 16.8845, 16.9261, 15.9225]\n"
     ]
    }
   ],
   "source": [
    "#1 hr hrrr:\n",
    "import numpy as np\n",
    "import numpy.ma as ma\n",
    "with open('hrrr_f12_Selma_AL.txt') as f:\n",
    "    lst=[line.split()[1] for line in f]\n",
    "    temp=[]\n",
    "    for i in lst:\n",
    "        new=i.replace(',',\"\")\n",
    "        temp.append(new)\n",
    "    temp.pop(0)\n",
    "    temp=[float(x) for x in temp]\n",
    "    temp=temp[1930:1955]\n",
    "\n",
    "#     x = np.array(temp)\n",
    "#     temp = ma.masked_array(x, mask=[0, 0, 0, 0, 0,0,0,0,0,0,0,0,0,0,0,0,0,1,1,1,1,0,0,0,0])\n",
    "    print(temp)"
   ]
  },
  {
   "cell_type": "code",
   "execution_count": 27,
   "id": "455c7133",
   "metadata": {},
   "outputs": [
    {
     "name": "stdout",
     "output_type": "stream",
     "text": [
      "[24.25 23.55 23.0 21.75 20.85 20.75 20.85 19.5 20.65 20.6 20.0 20.3 18.0\n",
      " 16.25 15.8 15.9 -- -- -- -- -- 18.85 18.55 18.55 18.700000000000003]\n"
     ]
    }
   ],
   "source": [
    "#Air Temp CRN:\n",
    "with open('CRNS0101-05-2022-AL_Selma_13_WNW.txt') as f:\n",
    "    lst=[line.split()[8] for line in f]\n",
    "\n",
    "    a=(float(lst[23303])+float(lst[23304]))/2\n",
    "    b=(float(lst[23315])+float(lst[23316]))/2\n",
    "    c=(float(lst[23327])+float(lst[23328]))/2\n",
    "    d=(float(lst[23339])+float(lst[23340]))/2\n",
    "    e=(float(lst[23351])+float(lst[23352]))/2\n",
    "    f=(float(lst[23363])+float(lst[23364]))/2\n",
    "    g=(float(lst[23375])+float(lst[23376]))/2\n",
    "    h=(float(lst[23387])+float(lst[23388]))/2\n",
    "    i=(float(lst[23399])+float(lst[23400]))/2\n",
    "    j=(float(lst[23411])+float(lst[23412]))/2\n",
    "    k=(float(lst[23423])+float(lst[23424]))/2\n",
    "    l=(float(lst[23435])+float(lst[23436]))/2\n",
    "    m=(float(lst[23447])+float(lst[23448]))/2\n",
    "    n=(float(lst[23459])+float(lst[23460]))/2\n",
    "    o=(float(lst[23471])+float(lst[23472]))/2\n",
    "    p=(float(lst[23483])+float(lst[23484]))/2\n",
    "    q=(float(lst[23495])+float(lst[23496]))/2\n",
    "    r=(float(lst[23507])+float(lst[23508]))/2\n",
    "    s=(float(lst[23519])+float(lst[23520]))/2\n",
    "    t=(float(lst[23531])+float(lst[23532]))/2\n",
    "    u=(float(lst[23543])+float(lst[23544]))/2\n",
    "    v=(float(lst[23555])+float(lst[23556]))/2\n",
    "    w=(float(lst[23567])+float(lst[23568]))/2\n",
    "    x=(float(lst[23579])+float(lst[23580]))/2\n",
    "    y=(float(lst[23591])+float(lst[23592]))/2\n",
    "    temp_crn=[a,b,c,d,e,f,g,h,i,j,k,l,m,n,o,p,q,r,s,t,u,v,w,x,y]\n",
    "    y = np.array(temp_crn)\n",
    "    temp_crn = ma.masked_array(y, mask=[0, 0, 0, 0, 0,0,0,0,0,0,0,0,0,0,0,0,1,1,1,1,1,0,0,0,0])\n",
    "    print(temp_crn)"
   ]
  },
  {
   "cell_type": "code",
   "execution_count": 28,
   "id": "3f4814e5",
   "metadata": {},
   "outputs": [
    {
     "name": "stdout",
     "output_type": "stream",
     "text": [
      "[1.0655999999999999, -2.151299999999999, -2.5303000000000004, -1.0629999999999988, -0.7320000000000029, -0.8000000000000007, -0.7589000000000006, 0.7259999999999991, -1.9296999999999969, -1.5154000000000032, -1.1851999999999983, -1.6319000000000017, -0.07120000000000104, 0.35389999999999944, 0.502399999999998, 0.20709999999999873, masked, masked, masked, masked, masked, -1.3755000000000024, -1.6655000000000015, -1.623899999999999, -2.7775000000000034]\n"
     ]
    }
   ],
   "source": [
    "difference1_sel = []\n",
    "\n",
    "zip_object = zip(temp, temp_crn)\n",
    "for temp_i, temp_crn_i in zip_object:\n",
    "    difference1_sel.append(temp_i-temp_crn_i)\n",
    "\n",
    "print(difference1_sel)\n",
    "#print(len(difference1_sel))"
   ]
  },
  {
   "cell_type": "markdown",
   "id": "8fab4bdc",
   "metadata": {},
   "source": [
    "<font size=\"3\">Bowling Green, KY: 2300 UTC 22 March 2022-2300 UTC 23 March 2022</font>"
   ]
  },
  {
   "cell_type": "code",
   "execution_count": 29,
   "id": "ce9bcf66",
   "metadata": {},
   "outputs": [
    {
     "name": "stdout",
     "output_type": "stream",
     "text": [
      "[22.7737, 21.7197, 16.7495, 16.118, 15.075, 14.7786, 14.851, 14.4703, 14.8346, 14.9398, 15.5431, 14.9913, 14.9789, 14.9274, 14.7946, 15.5433, 16.2725, 15.5323, 14.4806, 13.8463, 14.4745, 12.697, 12.1136, 10.61, 9.24072]\n",
      "25\n"
     ]
    }
   ],
   "source": [
    "#12 hr hrrr:\n",
    "with open('hrrr_f12_Bowling Green_KY.txt') as f:\n",
    "    lst=[line.split()[1] for line in f]\n",
    "    temp=[]\n",
    "    for i in lst:\n",
    "        new=i.replace(',',\"\")\n",
    "        temp.append(new)\n",
    "    temp.pop(0)\n",
    "    temp=[float(x) for x in temp]\n",
    "    temp=temp[1931:1956]\n",
    "    #temp=temp[2015:2063]\n",
    "    print(temp)\n",
    "    print(len(temp))\n",
    "#full time period is [2015:2112]"
   ]
  },
  {
   "cell_type": "code",
   "execution_count": 30,
   "id": "a1ea712c",
   "metadata": {},
   "outputs": [
    {
     "name": "stdout",
     "output_type": "stream",
     "text": [
      "[22.25, 20.700000000000003, 17.35, 15.45, 15.1, 15.0, 15.0, 14.95, 14.9, 15.1, 15.05, 14.8, 14.2, 14.3, 14.95, 15.8, 17.95, 17.85, 17.6, 17.65, 18.450000000000003, 15.350000000000001, 14.75, 12.55, 10.7]\n"
     ]
    }
   ],
   "source": [
    "#Air Temp CRN:\n",
    "with open('CRNS0101-05-2022-KY_Bowling_Green_21_NNE.txt') as f:\n",
    "    lst=[line.split()[8] for line in f]\n",
    "    \n",
    "    a=(float(lst[23315])+float(lst[23316]))/2\n",
    "    b=(float(lst[23327])+float(lst[23328]))/2\n",
    "    c=(float(lst[23339])+float(lst[23340]))/2\n",
    "    d=(float(lst[23351])+float(lst[23352]))/2\n",
    "    e=(float(lst[23363])+float(lst[23364]))/2\n",
    "    f=(float(lst[23375])+float(lst[23376]))/2\n",
    "    g=(float(lst[23387])+float(lst[23388]))/2\n",
    "    h=(float(lst[23399])+float(lst[23400]))/2\n",
    "    i=(float(lst[23411])+float(lst[23412]))/2\n",
    "    j=(float(lst[23423])+float(lst[23424]))/2\n",
    "    k=(float(lst[23435])+float(lst[23436]))/2\n",
    "    l=(float(lst[23447])+float(lst[23448]))/2\n",
    "    m=(float(lst[23459])+float(lst[23460]))/2\n",
    "    n=(float(lst[23471])+float(lst[23472]))/2\n",
    "    o=(float(lst[23483])+float(lst[23484]))/2\n",
    "    p=(float(lst[23495])+float(lst[23496]))/2\n",
    "    q=(float(lst[23507])+float(lst[23508]))/2\n",
    "    r=(float(lst[23519])+float(lst[23520]))/2\n",
    "    s=(float(lst[23531])+float(lst[23532]))/2\n",
    "    t=(float(lst[23543])+float(lst[23544]))/2\n",
    "    u=(float(lst[23555])+float(lst[23556]))/2\n",
    "    v=(float(lst[23567])+float(lst[23568]))/2\n",
    "    w=(float(lst[23579])+float(lst[23580]))/2\n",
    "    x=(float(lst[23591])+float(lst[23592]))/2\n",
    "    y=(float(lst[23603])+float(lst[23604]))/2\n",
    "    temp_crn=[a,b,c,d,e,f,g,h,i,j,k,l,m,n,o,p,q,r,s,t,u,v,w,x,y]\n",
    "    print(temp_crn)"
   ]
  },
  {
   "cell_type": "code",
   "execution_count": 31,
   "id": "c1e72531",
   "metadata": {},
   "outputs": [
    {
     "name": "stdout",
     "output_type": "stream",
     "text": [
      "[0.5237000000000016, 1.0196999999999967, -0.6005000000000003, 0.6679999999999993, -0.025000000000000355, -0.22139999999999915, -0.14899999999999913, -0.47969999999999935, -0.06540000000000035, -0.16019999999999968, 0.4931000000000001, 0.19130000000000003, 0.7789000000000001, 0.6273999999999997, -0.15539999999999843, -0.2567000000000004, -1.6774999999999984, -2.317700000000002, -3.1194000000000006, -3.803699999999999, -3.975500000000002, -2.6530000000000022, -2.6364, -1.9400000000000013, -1.4592799999999997]\n"
     ]
    }
   ],
   "source": [
    "difference1_bow = []\n",
    "\n",
    "zip_object = zip(temp, temp_crn)\n",
    "for temp_i, temp_crn_i in zip_object:\n",
    "    difference1_bow.append(temp_i-temp_crn_i)\n",
    "\n",
    "print(difference1_bow)"
   ]
  },
  {
   "cell_type": "markdown",
   "id": "d1be2cc0",
   "metadata": {},
   "source": [
    "<font size=\"3\">Gadsden, AL: 0100 UTC 23 March 2022-0100 UTC 24 March 2022</font>"
   ]
  },
  {
   "cell_type": "code",
   "execution_count": 32,
   "id": "6d2be172",
   "metadata": {},
   "outputs": [
    {
     "name": "stdout",
     "output_type": "stream",
     "text": [
      "[21.1245, 20.3055, 19.1375, 16.2786, 15.9135, 16.5328, 16.8346, 17.5648, 17.8556, 17.5538, 16.7914, 16.8649, 16.0446, 15.4183, 16.6475, 17.2823, 16.9181, 16.3463, 15.537, 15.072, 14.6761, 12.985, 11.7407, 9.90778, 9.52914]\n",
      "25\n"
     ]
    }
   ],
   "source": [
    "#12 hr hrrr:\n",
    "with open('hrrr_f12_Gadsden_AL.txt') as f:\n",
    "    lst=[line.split()[1] for line in f]\n",
    "    temp=[]\n",
    "    for i in lst:\n",
    "        new=i.replace(',',\"\")\n",
    "        temp.append(new)\n",
    "    temp.pop(0)\n",
    "    temp=[float(x) for x in temp]\n",
    "    temp=temp[1933:1958]\n",
    "    #temp=temp[2015:2063]\n",
    "    print(temp)\n",
    "    print(len(temp))\n",
    "#full time period is [2015:2112]"
   ]
  },
  {
   "cell_type": "code",
   "execution_count": 33,
   "id": "3bcebe7b",
   "metadata": {},
   "outputs": [
    {
     "name": "stdout",
     "output_type": "stream",
     "text": [
      "[20.3, 17.4, 15.5, 14.95, 14.6, 14.350000000000001, 14.6, 14.75, 15.3, 16.0, 17.55, 18.05, 17.0, 15.4, 15.9, 17.15, 18.9, 18.6, 18.9, 19.2, 18.2, 17.200000000000003, 15.4, 13.45, 12.05]\n"
     ]
    }
   ],
   "source": [
    "#Air Temp CRN:\n",
    "with open('CRNS0101-05-2022-AL_Gadsden_19_N.txt') as f:\n",
    "    lst=[line.split()[8] for line in f]\n",
    "    \n",
    "    a=(float(lst[23339])+float(lst[23340]))/2\n",
    "    b=(float(lst[23351])+float(lst[23352]))/2\n",
    "    c=(float(lst[23363])+float(lst[23364]))/2\n",
    "    d=(float(lst[23375])+float(lst[23376]))/2\n",
    "    e=(float(lst[23387])+float(lst[23388]))/2\n",
    "    f=(float(lst[23399])+float(lst[23400]))/2\n",
    "    g=(float(lst[23411])+float(lst[23412]))/2\n",
    "    h=(float(lst[23423])+float(lst[23424]))/2\n",
    "    i=(float(lst[23435])+float(lst[23436]))/2\n",
    "    j=(float(lst[23447])+float(lst[23448]))/2\n",
    "    k=(float(lst[23459])+float(lst[23460]))/2\n",
    "    l=(float(lst[23471])+float(lst[23472]))/2\n",
    "    m=(float(lst[23483])+float(lst[23484]))/2\n",
    "    n=(float(lst[23495])+float(lst[23496]))/2\n",
    "    o=(float(lst[23507])+float(lst[23508]))/2\n",
    "    p=(float(lst[23519])+float(lst[23520]))/2\n",
    "    q=(float(lst[23531])+float(lst[23532]))/2\n",
    "    r=(float(lst[23543])+float(lst[23544]))/2\n",
    "    s=(float(lst[23555])+float(lst[23556]))/2\n",
    "    t=(float(lst[23567])+float(lst[23568]))/2\n",
    "    u=(float(lst[23579])+float(lst[23580]))/2\n",
    "    v=(float(lst[23591])+float(lst[23592]))/2\n",
    "    w=(float(lst[23603])+float(lst[23604]))/2\n",
    "    x=(float(lst[23615])+float(lst[23616]))/2\n",
    "    y=(float(lst[23627])+float(lst[23628]))/2\n",
    "    temp_crn=[a,b,c,d,e,f,g,h,i,j,k,l,m,n,o,p,q,r,s,t,u,v,w,x,y]\n",
    "    print(temp_crn)"
   ]
  },
  {
   "cell_type": "code",
   "execution_count": 34,
   "id": "c002ac76",
   "metadata": {},
   "outputs": [
    {
     "name": "stdout",
     "output_type": "stream",
     "text": [
      "[0.8245000000000005, 2.9055, 3.6374999999999993, 1.3286000000000016, 1.3135000000000012, 2.1828000000000003, 2.2345999999999986, 2.8148000000000017, 2.5555999999999983, 1.553799999999999, -0.7586000000000013, -1.185100000000002, -0.9554000000000009, 0.018299999999999983, 0.7475000000000005, 0.13230000000000075, -1.9818999999999996, -2.253700000000002, -3.3629999999999978, -4.128, -3.5238999999999994, -4.215000000000003, -3.6593, -3.5422199999999986, -2.5208600000000008]\n"
     ]
    }
   ],
   "source": [
    "difference1_gad = []\n",
    "\n",
    "zip_object = zip(temp, temp_crn)\n",
    "for temp_i, temp_crn_i in zip_object:\n",
    "    difference1_gad.append(temp_i-temp_crn_i)\n",
    "\n",
    "print(difference1_gad)"
   ]
  },
  {
   "cell_type": "markdown",
   "id": "d430f7c6",
   "metadata": {},
   "source": [
    "<font size=\"3\">Newton, GA: 0900 UTC 23 March 2022-0900 UTC 24 March 2022</font>"
   ]
  },
  {
   "cell_type": "code",
   "execution_count": 35,
   "id": "25095753",
   "metadata": {},
   "outputs": [
    {
     "name": "stdout",
     "output_type": "stream",
     "text": [
      "[19.7931, 19.5538, 20.4789, 20.4274, 20.7321, 20.9183, 20.8975, 21.6573, 23.0431, 22.3463, 24.037, 22.5095, 22.8636, 22.6725, 21.2407, 19.8453, 18.5291, 18.1114, 18.2567, 17.7208, 16.9784, 16.3949, 15.8307, 15.7187, 15.7753]\n",
      "25\n"
     ]
    }
   ],
   "source": [
    "#12 hr hrrr:\n",
    "with open('hrrr_f12_Newton_GA.txt') as f:\n",
    "    lst=[line.split()[1] for line in f]\n",
    "    temp=[]\n",
    "    for i in lst:\n",
    "        new=i.replace(',',\"\")\n",
    "        temp.append(new)\n",
    "    temp.pop(0)\n",
    "    temp=[float(x) for x in temp]\n",
    "    temp=temp[1941:1966]\n",
    "    #temp=temp[2015:2063]\n",
    "    print(temp)\n",
    "    print(len(temp))\n",
    "#full time period is [2015:2112]"
   ]
  },
  {
   "cell_type": "code",
   "execution_count": 36,
   "id": "f4925cb9",
   "metadata": {},
   "outputs": [
    {
     "name": "stdout",
     "output_type": "stream",
     "text": [
      "[22.0, 21.1, 20.2, 20.3, 20.95, 21.05, 21.6, 22.6, 23.05, 23.1, 23.25, 23.85, 23.8, 23.35, 22.45, 21.45, 20.5, 19.95, 19.4, 18.8, 18.15, 17.6, 16.85, 16.25, 15.7]\n"
     ]
    }
   ],
   "source": [
    "#Air Temp CRN:\n",
    "with open('CRNS0101-05-2022-GA_Newton_11_SW.txt') as f:\n",
    "    lst=[line.split()[8] for line in f]\n",
    "    \n",
    "    a=(float(lst[23435])+float(lst[23436]))/2\n",
    "    b=(float(lst[23447])+float(lst[23448]))/2\n",
    "    c=(float(lst[23459])+float(lst[23460]))/2\n",
    "    d=(float(lst[23471])+float(lst[23472]))/2\n",
    "    e=(float(lst[23483])+float(lst[23484]))/2\n",
    "    f=(float(lst[23495])+float(lst[23496]))/2\n",
    "    g=(float(lst[23507])+float(lst[23508]))/2\n",
    "    h=(float(lst[23519])+float(lst[23520]))/2\n",
    "    i=(float(lst[23531])+float(lst[23532]))/2\n",
    "    j=(float(lst[23543])+float(lst[23544]))/2\n",
    "    k=(float(lst[23555])+float(lst[23556]))/2\n",
    "    l=(float(lst[23567])+float(lst[23568]))/2\n",
    "    m=(float(lst[23579])+float(lst[23580]))/2\n",
    "    n=(float(lst[23591])+float(lst[23592]))/2\n",
    "    o=(float(lst[23603])+float(lst[23604]))/2\n",
    "    p=(float(lst[23615])+float(lst[23616]))/2\n",
    "    q=(float(lst[23627])+float(lst[23628]))/2\n",
    "    r=(float(lst[23639])+float(lst[23640]))/2\n",
    "    s=(float(lst[23651])+float(lst[23652]))/2\n",
    "    t=(float(lst[23663])+float(lst[23664]))/2\n",
    "    u=(float(lst[23675])+float(lst[23676]))/2\n",
    "    v=(float(lst[23687])+float(lst[23688]))/2\n",
    "    w=(float(lst[23699])+float(lst[23700]))/2\n",
    "    x=(float(lst[23711])+float(lst[23712]))/2\n",
    "    y=(float(lst[23723])+float(lst[23724]))/2\n",
    "    temp_crn=[a,b,c,d,e,f,g,h,i,j,k,l,m,n,o,p,q,r,s,t,u,v,w,x,y]\n",
    "    print(temp_crn)"
   ]
  },
  {
   "cell_type": "code",
   "execution_count": 37,
   "id": "f2141c03",
   "metadata": {},
   "outputs": [
    {
     "name": "stdout",
     "output_type": "stream",
     "text": [
      "[-2.206900000000001, -1.5462000000000025, 0.27890000000000015, 0.12739999999999796, -0.2179000000000002, -0.13170000000000215, -0.7025000000000006, -0.9427000000000021, -0.0069000000000016826, -0.753700000000002, 0.786999999999999, -1.3405000000000022, -0.936399999999999, -0.677500000000002, -1.209299999999999, -1.6046999999999976, -1.9709000000000003, -1.8385999999999996, -1.1433, -1.0792000000000002, -1.171599999999998, -1.2051000000000016, -1.0193000000000012, -0.5312999999999999, 0.07530000000000037]\n"
     ]
    }
   ],
   "source": [
    "difference1_newt = []\n",
    "\n",
    "zip_object = zip(temp, temp_crn)\n",
    "for temp_i, temp_crn_i in zip_object:\n",
    "    difference1_newt.append(temp_i-temp_crn_i)\n",
    "\n",
    "print(difference1_newt)"
   ]
  },
  {
   "cell_type": "markdown",
   "id": "ab4663ab",
   "metadata": {},
   "source": [
    "<font size=\"3\">Salem, MO: 1300 UTC 30 March 2022-1300 UTC 31 March 2022</font>"
   ]
  },
  {
   "cell_type": "code",
   "execution_count": 38,
   "id": "ede1cb39",
   "metadata": {},
   "outputs": [
    {
     "name": "stdout",
     "output_type": "stream",
     "text": [
      "[16.9167, 17.1404, 14.5944, 14.6147, 14.7671, 14.7596, 15.7405, 15.1737, 15.1728, 11.946, 10.0304, 7.43417, 7.03113, 5.966, 4.9639, 4.41147, 3.68881, 3.34479, 3.14764, 2.77078, 2.56088, 1.9971, 1.72308, 1.32321, 1.94186]\n",
      "25\n"
     ]
    }
   ],
   "source": [
    "#12 hr hrrr:\n",
    "with open('hrrr_f12_Salem_MO.txt') as f:\n",
    "    lst=[line.split()[1] for line in f]\n",
    "    temp=[]\n",
    "    for i in lst:\n",
    "        new=i.replace(',',\"\")\n",
    "        temp.append(new)\n",
    "    temp.pop(0)\n",
    "    temp=[float(x) for x in temp]\n",
    "    temp=temp[2113:2138]\n",
    "    #temp=temp[2015:2063]\n",
    "    print(temp)\n",
    "    print(len(temp))\n",
    "#full time period is [2015:2112]"
   ]
  },
  {
   "cell_type": "code",
   "execution_count": 39,
   "id": "d27b98bf",
   "metadata": {},
   "outputs": [
    {
     "name": "stdout",
     "output_type": "stream",
     "text": [
      "[16.8, 14.1, 13.5, 13.95, 14.45, 14.4, 14.05, 14.0, 13.850000000000001, 9.4, 7.05, 5.4, 5.1, 4.1, 3.45, 3.1, 2.8499999999999996, 2.8, 2.3, 2.1, 2.1, 2.3499999999999996, 2.2, 2.2, 2.45]\n"
     ]
    }
   ],
   "source": [
    "#Air Temp CRN:\n",
    "with open('CRNS0101-05-2022-MO_Salem_10_W.txt') as f:\n",
    "    lst=[line.split()[8] for line in f]\n",
    "    \n",
    "    a=(float(lst[25499])+float(lst[25500]))/2\n",
    "    b=(float(lst[25511])+float(lst[25512]))/2\n",
    "    c=(float(lst[25523])+float(lst[25524]))/2\n",
    "    d=(float(lst[25535])+float(lst[25536]))/2\n",
    "    e=(float(lst[25547])+float(lst[25548]))/2\n",
    "    f=(float(lst[25559])+float(lst[25560]))/2\n",
    "    g=(float(lst[25571])+float(lst[25572]))/2\n",
    "    h=(float(lst[25583])+float(lst[25584]))/2\n",
    "    i=(float(lst[25595])+float(lst[25596]))/2\n",
    "    j=(float(lst[25607])+float(lst[25608]))/2\n",
    "    k=(float(lst[25619])+float(lst[25620]))/2\n",
    "    l=(float(lst[25631])+float(lst[25632]))/2\n",
    "    m=(float(lst[25643])+float(lst[25644]))/2\n",
    "    n=(float(lst[25655])+float(lst[25656]))/2\n",
    "    o=(float(lst[25667])+float(lst[25668]))/2\n",
    "    p=(float(lst[25679])+float(lst[25680]))/2\n",
    "    q=(float(lst[25691])+float(lst[25692]))/2\n",
    "    r=(float(lst[25703])+float(lst[25704]))/2\n",
    "    s=(float(lst[25715])+float(lst[25716]))/2\n",
    "    t=(float(lst[25727])+float(lst[25728]))/2\n",
    "    u=(float(lst[25739])+float(lst[25740]))/2\n",
    "    v=(float(lst[25751])+float(lst[25752]))/2\n",
    "    w=(float(lst[25763])+float(lst[25764]))/2\n",
    "    x=(float(lst[25775])+float(lst[25776]))/2\n",
    "    y=(float(lst[25787])+float(lst[25788]))/2\n",
    "    temp_crn=[a,b,c,d,e,f,g,h,i,j,k,l,m,n,o,p,q,r,s,t,u,v,w,x,y]\n",
    "    print(temp_crn)"
   ]
  },
  {
   "cell_type": "code",
   "execution_count": 40,
   "id": "80548ed7",
   "metadata": {},
   "outputs": [
    {
     "name": "stdout",
     "output_type": "stream",
     "text": [
      "25\n"
     ]
    }
   ],
   "source": [
    "hour=[]\n",
    "for i in range(-12,13,1):\n",
    "    hour.append(i)\n",
    "    i+=1\n",
    "print(len(hour))"
   ]
  },
  {
   "cell_type": "code",
   "execution_count": 41,
   "id": "e426b6a3",
   "metadata": {},
   "outputs": [
    {
     "name": "stdout",
     "output_type": "stream",
     "text": [
      "[0.11669999999999803, 3.0404, 1.0944000000000003, 0.6646999999999998, 0.31709999999999994, 0.35960000000000036, 1.6905000000000001, 1.1737000000000002, 1.322799999999999, 2.5459999999999994, 2.9804000000000004, 2.0341699999999996, 1.9311300000000005, 1.8660000000000005, 1.5138999999999996, 1.3114699999999995, 0.8388100000000005, 0.5447900000000003, 0.8476400000000002, 0.6707799999999997, 0.46087999999999996, -0.35289999999999955, -0.47692000000000023, -0.8767900000000002, -0.5081400000000003]\n"
     ]
    }
   ],
   "source": [
    "difference2_sal = []\n",
    "\n",
    "zip_object = zip(temp, temp_crn)\n",
    "for temp_i, temp_crn_i in zip_object:\n",
    "    difference2_sal.append(temp_i-temp_crn_i)\n",
    "\n",
    "print(difference2_sal)"
   ]
  },
  {
   "cell_type": "markdown",
   "id": "e17a19ca",
   "metadata": {},
   "source": [
    "<font size=\"3\">Batesville, AR: 1300 UTC 30 March 2022-1300 UTC 31 March 2022</font>"
   ]
  },
  {
   "cell_type": "code",
   "execution_count": 42,
   "id": "382cdc03",
   "metadata": {},
   "outputs": [
    {
     "name": "stdout",
     "output_type": "stream",
     "text": [
      "[17.9167, 17.8904, 18.0319, 18.1772, 18.3296, 18.4471, 15.803, 16.7362, 16.2978, 16.6335, 16.5304, 13.9967, 12.0311, 9.4035, 8.2764, 7.16147, 6.18881, 5.21979, 4.96014, 3.89578, 4.87338, 3.6846, 2.72308, 2.32321, 3.56686]\n",
      "25\n"
     ]
    }
   ],
   "source": [
    "#12 hr hrrr:\n",
    "with open('hrrr_f12_Batesville_AR.txt') as f:\n",
    "    lst=[line.split()[1] for line in f]\n",
    "    temp=[]\n",
    "    for i in lst:\n",
    "        new=i.replace(',',\"\")\n",
    "        temp.append(new)\n",
    "    temp.pop(0)\n",
    "    temp=[float(x) for x in temp]\n",
    "    temp=temp[2113:2138]\n",
    "    #temp=temp[2015:2063]\n",
    "    print(temp)\n",
    "    print(len(temp))\n",
    "#full time period is [2015:2112]"
   ]
  },
  {
   "cell_type": "code",
   "execution_count": 43,
   "id": "bfa93776",
   "metadata": {},
   "outputs": [
    {
     "name": "stdout",
     "output_type": "stream",
     "text": [
      "[19.25, 19.4, 19.7, 18.799999999999997, 18.2, 17.35, 16.25, 15.850000000000001, 14.5, 15.4, 16.25, 15.05, 9.399999999999999, 8.5, 8.149999999999999, 7.05, 6.6, 6.65, 5.45, 5.6, 5.35, 5.15, 3.8, 2.5, 4.55]\n"
     ]
    }
   ],
   "source": [
    "#Air Temp CRN:\n",
    "with open('CRNS0101-05-2022-AR_Batesville_8_WNW.txt') as f:\n",
    "    lst=[line.split()[8] for line in f]\n",
    "    \n",
    "    a=(float(lst[25499])+float(lst[25500]))/2\n",
    "    b=(float(lst[25511])+float(lst[25512]))/2\n",
    "    c=(float(lst[25523])+float(lst[25524]))/2\n",
    "    d=(float(lst[25535])+float(lst[25536]))/2\n",
    "    e=(float(lst[25547])+float(lst[25548]))/2\n",
    "    f=(float(lst[25559])+float(lst[25560]))/2\n",
    "    g=(float(lst[25571])+float(lst[25572]))/2\n",
    "    h=(float(lst[25583])+float(lst[25584]))/2\n",
    "    i=(float(lst[25595])+float(lst[25596]))/2\n",
    "    j=(float(lst[25607])+float(lst[25608]))/2\n",
    "    k=(float(lst[25619])+float(lst[25620]))/2\n",
    "    l=(float(lst[25631])+float(lst[25632]))/2\n",
    "    m=(float(lst[25643])+float(lst[25644]))/2\n",
    "    n=(float(lst[25655])+float(lst[25656]))/2\n",
    "    o=(float(lst[25667])+float(lst[25668]))/2\n",
    "    p=(float(lst[25679])+float(lst[25680]))/2\n",
    "    q=(float(lst[25691])+float(lst[25692]))/2\n",
    "    r=(float(lst[25703])+float(lst[25704]))/2\n",
    "    s=(float(lst[25715])+float(lst[25716]))/2\n",
    "    t=(float(lst[25727])+float(lst[25728]))/2\n",
    "    u=(float(lst[25739])+float(lst[25740]))/2\n",
    "    v=(float(lst[25751])+float(lst[25752]))/2\n",
    "    w=(float(lst[25763])+float(lst[25764]))/2\n",
    "    x=(float(lst[25775])+float(lst[25776]))/2\n",
    "    y=(float(lst[25787])+float(lst[25788]))/2\n",
    "    temp_crn=[a,b,c,d,e,f,g,h,i,j,k,l,m,n,o,p,q,r,s,t,u,v,w,x,y]\n",
    "    print(temp_crn)"
   ]
  },
  {
   "cell_type": "code",
   "execution_count": 44,
   "id": "12f91aa0",
   "metadata": {},
   "outputs": [
    {
     "name": "stdout",
     "output_type": "stream",
     "text": [
      "[-1.3333000000000013, -1.509599999999999, -1.668099999999999, -0.622799999999998, 0.12959999999999994, 1.0970999999999975, -0.4469999999999992, 0.8861999999999988, 1.7977999999999987, 1.2335000000000012, 0.2804000000000002, -1.0533000000000001, 2.6311000000000018, 0.9034999999999993, 0.12640000000000207, 0.11146999999999974, -0.4111899999999995, -1.4302100000000006, -0.4898600000000002, -1.7042199999999998, -0.4766199999999996, -1.4654000000000003, -1.0769199999999999, -0.17679, -0.9831399999999997]\n"
     ]
    }
   ],
   "source": [
    "difference2_bat = []\n",
    "\n",
    "zip_object = zip(temp, temp_crn)\n",
    "for temp_i, temp_crn_i in zip_object:\n",
    "    difference2_bat.append(temp_i-temp_crn_i)\n",
    "\n",
    "print(difference2_bat)"
   ]
  },
  {
   "cell_type": "markdown",
   "id": "cda99a3a",
   "metadata": {},
   "source": [
    "<font size=\"3\">Lafayette, LA: 1700 UTC 30 March 2022-1700 UTC 31 March 2022</font>"
   ]
  },
  {
   "cell_type": "code",
   "execution_count": 45,
   "id": "3617c9ac",
   "metadata": {},
   "outputs": [
    {
     "name": "stdout",
     "output_type": "stream",
     "text": [
      "[26.8296, 25.0721, 24.303, 24.6112, 22.4853, 23.071, 21.9054, 20.8092, 18.5936, 17.6535, 17.9014, 18.349, 16.7513, 16.1573, 14.6476, 13.3333, 12.7484, 11.3721, 10.1606, 9.69821, 10.6919, 11.8606, 13.4502, 15.3598, 17.2993]\n",
      "25\n"
     ]
    }
   ],
   "source": [
    "#12 hr hrrr:\n",
    "with open('hrrr_f12_Lafayette_LA.txt') as f:\n",
    "    lst=[line.split()[1] for line in f]\n",
    "    temp=[]\n",
    "    for i in lst:\n",
    "        new=i.replace(',',\"\")\n",
    "        temp.append(new)\n",
    "    temp.pop(0)\n",
    "    temp=[float(x) for x in temp]\n",
    "    temp=temp[2117:2142]\n",
    "    #temp=temp[2015:2063]\n",
    "    print(temp)\n",
    "    print(len(temp))\n",
    "#full time period is [2015:2112]"
   ]
  },
  {
   "cell_type": "code",
   "execution_count": 46,
   "id": "a99a4e51",
   "metadata": {},
   "outputs": [
    {
     "name": "stdout",
     "output_type": "stream",
     "text": [
      "[23.65, 24.05, 24.5, 24.1, 23.2, 16.35, 17.3, 17.6, 15.950000000000001, 15.3, 15.649999999999999, 15.55, 14.95, 16.65, 15.600000000000001, 14.6, 12.55, 11.5, 10.05, 9.45, 11.2, 12.85, 14.8, 16.95, 17.7]\n"
     ]
    }
   ],
   "source": [
    "#Air Temp CRN:\n",
    "with open('CRNS0101-05-2022-LA_Lafayette_13_SE.txt') as f:\n",
    "    lst=[line.split()[8] for line in f]\n",
    "    \n",
    "    a=(float(lst[25547])+float(lst[25548]))/2\n",
    "    b=(float(lst[25559])+float(lst[25560]))/2\n",
    "    c=(float(lst[25571])+float(lst[25572]))/2\n",
    "    d=(float(lst[25583])+float(lst[25584]))/2\n",
    "    e=(float(lst[25595])+float(lst[25596]))/2\n",
    "    f=(float(lst[25607])+float(lst[25608]))/2\n",
    "    g=(float(lst[25619])+float(lst[25620]))/2\n",
    "    h=(float(lst[25631])+float(lst[25632]))/2\n",
    "    i=(float(lst[25643])+float(lst[25644]))/2\n",
    "    j=(float(lst[25655])+float(lst[25656]))/2\n",
    "    k=(float(lst[25667])+float(lst[25668]))/2\n",
    "    l=(float(lst[25679])+float(lst[25680]))/2\n",
    "    m=(float(lst[25691])+float(lst[25692]))/2\n",
    "    n=(float(lst[25703])+float(lst[25704]))/2\n",
    "    o=(float(lst[25715])+float(lst[25716]))/2\n",
    "    p=(float(lst[25727])+float(lst[25728]))/2\n",
    "    q=(float(lst[25739])+float(lst[25740]))/2\n",
    "    r=(float(lst[25751])+float(lst[25752]))/2\n",
    "    s=(float(lst[25763])+float(lst[25764]))/2\n",
    "    t=(float(lst[25775])+float(lst[25776]))/2\n",
    "    u=(float(lst[25787])+float(lst[25788]))/2\n",
    "    v=(float(lst[25799])+float(lst[25800]))/2\n",
    "    w=(float(lst[25811])+float(lst[25812]))/2\n",
    "    x=(float(lst[25823])+float(lst[25824]))/2\n",
    "    y=(float(lst[25835])+float(lst[25836]))/2\n",
    "    temp_crn=[a,b,c,d,e,f,g,h,i,j,k,l,m,n,o,p,q,r,s,t,u,v,w,x,y]\n",
    "    print(temp_crn)"
   ]
  },
  {
   "cell_type": "code",
   "execution_count": 47,
   "id": "ad9e49f7",
   "metadata": {},
   "outputs": [
    {
     "name": "stdout",
     "output_type": "stream",
     "text": [
      "[3.1796000000000006, 1.0220999999999982, -0.19699999999999918, 0.5111999999999988, -0.7147000000000006, 6.721, 4.6053999999999995, 3.209199999999999, 2.6435999999999975, 2.3535000000000004, 2.2514000000000003, 2.7989999999999995, 1.8013000000000012, -0.49269999999999925, -0.9524000000000008, -1.2667000000000002, 0.19839999999999947, -0.12790000000000035, 0.11059999999999981, 0.24821000000000026, -0.5080999999999989, -0.9893999999999998, -1.3498, -1.5901999999999994, -0.4007000000000005]\n"
     ]
    }
   ],
   "source": [
    "difference2_laf = []\n",
    "\n",
    "zip_object = zip(temp, temp_crn)\n",
    "for temp_i, temp_crn_i in zip_object:\n",
    "    difference2_laf.append(temp_i-temp_crn_i)\n",
    "\n",
    "print(difference2_laf)"
   ]
  },
  {
   "cell_type": "markdown",
   "id": "5bdd017c",
   "metadata": {},
   "source": [
    "<font size=\"3\">Monroe, LA: 1700 UTC 30 March 2022-1700 UTC 31 March 2022</font>"
   ]
  },
  {
   "cell_type": "code",
   "execution_count": 48,
   "id": "10e3c873",
   "metadata": {},
   "outputs": [
    {
     "name": "stdout",
     "output_type": "stream",
     "text": [
      "[24.9546, 22.3846, 16.7405, 16.1112, 17.6728, 18.571, 19.0304, 17.0592, 16.4061, 15.591, 12.7764, 11.1615, 11.0638, 10.2823, 9.77264, 8.27078, 8.24838, 6.8096, 6.66058, 6.44821, 7.62936, 8.98563, 10.5127, 11.8598, 13.1118]\n",
      "25\n"
     ]
    }
   ],
   "source": [
    "#12 hr hrrr:\n",
    "with open('hrrr_f12_Monroe_LA.txt') as f:\n",
    "    lst=[line.split()[1] for line in f]\n",
    "    temp=[]\n",
    "    for i in lst:\n",
    "        new=i.replace(',',\"\")\n",
    "        temp.append(new)\n",
    "    temp.pop(0)\n",
    "    temp=[float(x) for x in temp]\n",
    "    temp=temp[2117:2142]\n",
    "    #temp=temp[2015:2063]\n",
    "    print(temp)\n",
    "    print(len(temp))\n",
    "#full time period is [2015:2112]"
   ]
  },
  {
   "cell_type": "code",
   "execution_count": 49,
   "id": "13a6a15b",
   "metadata": {},
   "outputs": [
    {
     "name": "stdout",
     "output_type": "stream",
     "text": [
      "[20.799999999999997, 21.4, 16.2, 15.6, 16.299999999999997, 17.65, 17.95, 17.1, 16.35, 15.950000000000001, 14.0, 13.2, 11.4, 9.45, 8.6, 8.95, 7.3, 5.65, 4.9, 4.199999999999999, 5.5, 9.25, 11.5, 13.8, 14.850000000000001]\n"
     ]
    }
   ],
   "source": [
    "#Air Temp CRN:\n",
    "with open('CRNS0101-05-2022-LA_Monroe_26_N.txt') as f:\n",
    "    lst=[line.split()[8] for line in f]\n",
    "    \n",
    "    a=(float(lst[25547])+float(lst[25548]))/2\n",
    "    b=(float(lst[25559])+float(lst[25560]))/2\n",
    "    c=(float(lst[25571])+float(lst[25572]))/2\n",
    "    d=(float(lst[25583])+float(lst[25584]))/2\n",
    "    e=(float(lst[25595])+float(lst[25596]))/2\n",
    "    f=(float(lst[25607])+float(lst[25608]))/2\n",
    "    g=(float(lst[25619])+float(lst[25620]))/2\n",
    "    h=(float(lst[25631])+float(lst[25632]))/2\n",
    "    i=(float(lst[25643])+float(lst[25644]))/2\n",
    "    j=(float(lst[25655])+float(lst[25656]))/2\n",
    "    k=(float(lst[25667])+float(lst[25668]))/2\n",
    "    l=(float(lst[25679])+float(lst[25680]))/2\n",
    "    m=(float(lst[25691])+float(lst[25692]))/2\n",
    "    n=(float(lst[25703])+float(lst[25704]))/2\n",
    "    o=(float(lst[25715])+float(lst[25716]))/2\n",
    "    p=(float(lst[25727])+float(lst[25728]))/2\n",
    "    q=(float(lst[25739])+float(lst[25740]))/2\n",
    "    r=(float(lst[25751])+float(lst[25752]))/2\n",
    "    s=(float(lst[25763])+float(lst[25764]))/2\n",
    "    t=(float(lst[25775])+float(lst[25776]))/2\n",
    "    u=(float(lst[25787])+float(lst[25788]))/2\n",
    "    v=(float(lst[25799])+float(lst[25800]))/2\n",
    "    w=(float(lst[25811])+float(lst[25812]))/2\n",
    "    x=(float(lst[25823])+float(lst[25824]))/2\n",
    "    y=(float(lst[25835])+float(lst[25836]))/2\n",
    "    temp_crn=[a,b,c,d,e,f,g,h,i,j,k,l,m,n,o,p,q,r,s,t,u,v,w,x,y]\n",
    "    print(temp_crn)"
   ]
  },
  {
   "cell_type": "code",
   "execution_count": 50,
   "id": "178b8e52",
   "metadata": {},
   "outputs": [
    {
     "name": "stdout",
     "output_type": "stream",
     "text": [
      "[4.154600000000002, 0.9846000000000004, 0.5405000000000015, 0.5112000000000005, 1.3728000000000016, 0.9210000000000029, 1.080400000000001, -0.040800000000000836, 0.05609999999999715, -0.35900000000000176, -1.2235999999999994, -2.038499999999999, -0.33619999999999983, 0.8323, 1.1726400000000012, -0.679219999999999, 0.9483799999999993, 1.1595999999999993, 1.76058, 2.248210000000001, 2.12936, -0.26436999999999955, -0.9872999999999994, -1.9402000000000008, -1.7382000000000009]\n"
     ]
    }
   ],
   "source": [
    "difference2_mon = []\n",
    "\n",
    "zip_object = zip(temp, temp_crn)\n",
    "for temp_i, temp_crn_i in zip_object:\n",
    "    difference2_mon.append(temp_i-temp_crn_i)\n",
    "\n",
    "print(difference2_mon)"
   ]
  },
  {
   "cell_type": "markdown",
   "id": "3e401515",
   "metadata": {},
   "source": [
    "<font size=\"3\">Holly Springs, MS: 2000 UTC 30 March 2022-2000 UTC 31 March 2022</font>"
   ]
  },
  {
   "cell_type": "code",
   "execution_count": 51,
   "id": "581a9384",
   "metadata": {},
   "outputs": [
    {
     "name": "stdout",
     "output_type": "stream",
     "text": [
      "[24.4546, 25.1971, 26.2405, 25.5487, 21.6728, 19.821, 16.8429, 15.4967, 15.2811, 14.7785, 14.9014, 15.1615, 14.4388, 12.0323, 9.77264, 8.20828, 6.93588, 5.9971, 6.22308, 5.32321, 5.94186, 6.04813, 7.01266, 8.1723, 9.11185]\n",
      "25\n"
     ]
    }
   ],
   "source": [
    "#12 hr hrrr:\n",
    "with open('hrrr_f12_Holly Springs_MS.txt') as f:\n",
    "    lst=[line.split()[1] for line in f]\n",
    "    temp=[]\n",
    "    for i in lst:\n",
    "        new=i.replace(',',\"\")\n",
    "        temp.append(new)\n",
    "    temp.pop(0)\n",
    "    temp=[float(x) for x in temp]\n",
    "    temp=temp[2117:2142]\n",
    "    #temp=temp[2015:2063]\n",
    "    print(temp)\n",
    "    print(len(temp))\n",
    "#full time period is [2015:2112]"
   ]
  },
  {
   "cell_type": "code",
   "execution_count": 52,
   "id": "82820f6a",
   "metadata": {},
   "outputs": [
    {
     "name": "stdout",
     "output_type": "stream",
     "text": [
      "[19.950000000000003, 19.85, 19.3, 14.8, 14.45, 14.8, 14.7, 14.5, 14.6, 14.2, 11.850000000000001, 10.5, 8.2, 7.1, 6.5, 6.2, 6.4, 6.55, 7.55, 8.95, 9.8, 11.25, 13.0, 13.75, 14.25]\n"
     ]
    }
   ],
   "source": [
    "#Air Temp CRN:\n",
    "with open('CRNS0101-05-2022-MS_Holly_Springs_4_N.txt') as f:\n",
    "    lst=[line.split()[8] for line in f]\n",
    "\n",
    "    a=(float(lst[25583])+float(lst[25584]))/2\n",
    "    b=(float(lst[25595])+float(lst[25596]))/2\n",
    "    c=(float(lst[25607])+float(lst[25608]))/2\n",
    "    d=(float(lst[25619])+float(lst[25620]))/2\n",
    "    e=(float(lst[25631])+float(lst[25632]))/2\n",
    "    f=(float(lst[25643])+float(lst[25644]))/2\n",
    "    g=(float(lst[25655])+float(lst[25656]))/2\n",
    "    h=(float(lst[25667])+float(lst[25668]))/2\n",
    "    i=(float(lst[25679])+float(lst[25680]))/2\n",
    "    j=(float(lst[25691])+float(lst[25692]))/2\n",
    "    k=(float(lst[25703])+float(lst[25704]))/2\n",
    "    l=(float(lst[25715])+float(lst[25716]))/2\n",
    "    m=(float(lst[25727])+float(lst[25728]))/2\n",
    "    n=(float(lst[25739])+float(lst[25740]))/2\n",
    "    o=(float(lst[25751])+float(lst[25752]))/2\n",
    "    p=(float(lst[25763])+float(lst[25764]))/2\n",
    "    q=(float(lst[25775])+float(lst[25776]))/2\n",
    "    r=(float(lst[25787])+float(lst[25788]))/2\n",
    "    s=(float(lst[25799])+float(lst[25800]))/2\n",
    "    t=(float(lst[25811])+float(lst[25812]))/2\n",
    "    u=(float(lst[25823])+float(lst[25824]))/2\n",
    "    v=(float(lst[25835])+float(lst[25836]))/2\n",
    "    w=(float(lst[25847])+float(lst[25848]))/2\n",
    "    x=(float(lst[25859])+float(lst[25860]))/2\n",
    "    y=(float(lst[25871])+float(lst[25872]))/2\n",
    "    temp_crn=[a,b,c,d,e,f,g,h,i,j,k,l,m,n,o,p,q,r,s,t,u,v,w,x,y]\n",
    "    print(temp_crn)"
   ]
  },
  {
   "cell_type": "code",
   "execution_count": 53,
   "id": "b348cd62",
   "metadata": {},
   "outputs": [
    {
     "name": "stdout",
     "output_type": "stream",
     "text": [
      "[4.504599999999996, 5.3470999999999975, 6.9405, 10.7487, 7.222799999999999, 5.021000000000001, 2.142900000000001, 0.9967000000000006, 0.6811000000000007, 0.5785, 3.0513999999999992, 4.6615, 6.238800000000001, 4.9323, 3.272640000000001, 2.00828, 0.5358799999999997, -0.5529000000000002, -1.3269199999999994, -3.626789999999999, -3.8581400000000006, -5.20187, -5.98734, -5.5777, -5.1381499999999996]\n"
     ]
    }
   ],
   "source": [
    "difference2_hol = []\n",
    "\n",
    "zip_object = zip(temp, temp_crn)\n",
    "for temp_i, temp_crn_i in zip_object:\n",
    "    difference2_hol.append(temp_i-temp_crn_i)\n",
    "\n",
    "print(difference2_hol)"
   ]
  },
  {
   "cell_type": "markdown",
   "id": "b5225197",
   "metadata": {},
   "source": [
    "<font size=\"3\">Newton, MS: 2000 UTC 30 March 2022-2000 UTC 31 March 2022</font>"
   ]
  },
  {
   "cell_type": "code",
   "execution_count": 54,
   "id": "7639cfdd",
   "metadata": {},
   "outputs": [
    {
     "name": "stdout",
     "output_type": "stream",
     "text": [
      "[26.0487, 25.4853, 25.696, 25.0929, 23.7467, 17.9686, 17.2785, 16.2764, 16.4115, 16.5638, 16.0323, 16.4601, 13.4583, 12.4359, 10.9971, 11.9106, 10.3232, 9.37936, 10.1731, 10.7002, 11.3598, 12.6743, 13.5604, 14.7877, 15.6379]\n",
      "25\n"
     ]
    }
   ],
   "source": [
    "#12 hr hrrr:\n",
    "with open('hrrr_f12_Newton_MS.txt') as f:\n",
    "    lst=[line.split()[1] for line in f]\n",
    "    temp=[]\n",
    "    for i in lst:\n",
    "        new=i.replace(',',\"\")\n",
    "        temp.append(new)\n",
    "    temp.pop(0)\n",
    "    temp=[float(x) for x in temp]\n",
    "    temp=temp[2120:2145]\n",
    "    #temp=temp[2015:2063]\n",
    "    print(temp)\n",
    "    print(len(temp))\n",
    "#full time period is [2015:2112]"
   ]
  },
  {
   "cell_type": "code",
   "execution_count": 55,
   "id": "32b82de3",
   "metadata": {},
   "outputs": [
    {
     "name": "stdout",
     "output_type": "stream",
     "text": [
      "[25.25, 24.9, 24.0, 23.85, 21.25, 16.0, 15.350000000000001, 15.05, 14.45, 13.649999999999999, 13.8, 13.4, 13.95, 12.45, 11.45, 11.0, 10.25, 10.7, 10.25, 11.45, 13.3, 14.7, 16.3, 17.4, 17.9]\n"
     ]
    }
   ],
   "source": [
    "#Air Temp CRN:\n",
    "with open('CRNS0101-05-2022-MS_Newton_5_ENE.txt') as f:\n",
    "    lst=[line.split()[8] for line in f]\n",
    "\n",
    "    a=(float(lst[25583])+float(lst[25584]))/2\n",
    "    b=(float(lst[25595])+float(lst[25596]))/2\n",
    "    c=(float(lst[25607])+float(lst[25608]))/2\n",
    "    d=(float(lst[25619])+float(lst[25620]))/2\n",
    "    e=(float(lst[25631])+float(lst[25632]))/2\n",
    "    f=(float(lst[25643])+float(lst[25644]))/2\n",
    "    g=(float(lst[25655])+float(lst[25656]))/2\n",
    "    h=(float(lst[25667])+float(lst[25668]))/2\n",
    "    i=(float(lst[25679])+float(lst[25680]))/2\n",
    "    j=(float(lst[25691])+float(lst[25692]))/2\n",
    "    k=(float(lst[25703])+float(lst[25704]))/2\n",
    "    l=(float(lst[25715])+float(lst[25716]))/2\n",
    "    m=(float(lst[25727])+float(lst[25728]))/2\n",
    "    n=(float(lst[25739])+float(lst[25740]))/2\n",
    "    o=(float(lst[25751])+float(lst[25752]))/2\n",
    "    p=(float(lst[25763])+float(lst[25764]))/2\n",
    "    q=(float(lst[25775])+float(lst[25776]))/2\n",
    "    r=(float(lst[25787])+float(lst[25788]))/2\n",
    "    s=(float(lst[25799])+float(lst[25800]))/2\n",
    "    t=(float(lst[25811])+float(lst[25812]))/2\n",
    "    u=(float(lst[25823])+float(lst[25824]))/2\n",
    "    v=(float(lst[25835])+float(lst[25836]))/2\n",
    "    w=(float(lst[25847])+float(lst[25848]))/2\n",
    "    x=(float(lst[25859])+float(lst[25860]))/2\n",
    "    y=(float(lst[25871])+float(lst[25872]))/2\n",
    "    temp_crn=[a,b,c,d,e,f,g,h,i,j,k,l,m,n,o,p,q,r,s,t,u,v,w,x,y]\n",
    "    print(temp_crn)"
   ]
  },
  {
   "cell_type": "code",
   "execution_count": 56,
   "id": "cd6de2b7",
   "metadata": {},
   "outputs": [
    {
     "name": "stdout",
     "output_type": "stream",
     "text": [
      "[0.7987000000000002, 0.5853000000000002, 1.6960000000000015, 1.2428999999999988, 2.4967000000000006, 1.9685999999999986, 1.9284999999999997, 1.2263999999999982, 1.961500000000001, 2.913800000000002, 2.2322999999999986, 3.0601000000000003, -0.4916999999999998, -0.014099999999999113, -0.45289999999999964, 0.9106000000000005, 0.07319999999999993, -1.3206399999999991, -0.07690000000000019, -0.7497999999999987, -1.9402000000000008, -2.0256999999999987, -2.739600000000001, -2.6122999999999994, -2.2620999999999984]\n"
     ]
    }
   ],
   "source": [
    "difference2_new = []\n",
    "\n",
    "zip_object = zip(temp, temp_crn)\n",
    "for temp_i, temp_crn_i in zip_object:\n",
    "    difference2_new.append(temp_i-temp_crn_i)\n",
    "\n",
    "print(difference2_new)"
   ]
  },
  {
   "cell_type": "markdown",
   "id": "bfaeb78c",
   "metadata": {},
   "source": [
    "<font size=\"3\">Gainesville, AL: 2300 UTC 30 March 2022-2300 UTC 31 March 2022</font>"
   ]
  },
  {
   "cell_type": "code",
   "execution_count": 57,
   "id": "6ad50471",
   "metadata": {},
   "outputs": [
    {
     "name": "stdout",
     "output_type": "stream",
     "text": [
      "[25.4679, 24.2467, 21.7811, 19.841, 16.5264, 16.9115, 17.5638, 16.9698, 16.7101, 15.9583, 15.9984, 14.4346, 13.4106, 11.5107, 11.5669, 10.4231, 10.6377, 11.5473, 12.3618, 12.9979, 14.2252, 14.9504, 15.2003, 15.6505, 15.0599]\n",
      "25\n"
     ]
    }
   ],
   "source": [
    "#12 hr hrrr:\n",
    "with open('hrrr_f12_Gainesville_AL.txt') as f:\n",
    "    lst=[line.split()[1] for line in f]\n",
    "    temp=[]\n",
    "    for i in lst:\n",
    "        new=i.replace(',',\"\")\n",
    "        temp.append(new)\n",
    "    temp.pop(0)\n",
    "    temp=[float(x) for x in temp]\n",
    "    temp=temp[2123:2148]\n",
    "    #temp=temp[2015:2063]\n",
    "    print(temp)\n",
    "    print(len(temp))\n",
    "#full time period is [2015:2112]"
   ]
  },
  {
   "cell_type": "code",
   "execution_count": 58,
   "id": "99d8adcd",
   "metadata": {},
   "outputs": [
    {
     "name": "stdout",
     "output_type": "stream",
     "text": [
      "[24.6, 23.5, 20.6, 17.15, 16.25, 15.55, 15.45, 14.75, 14.1, 13.3, 14.0, 12.9, 12.0, 11.7, 11.8, 11.6, 11.350000000000001, 12.1, 13.9, 15.25, 16.3, 17.15, 18.2, 19.0, 18.35]\n"
     ]
    }
   ],
   "source": [
    "#Air Temp CRN:\n",
    "with open('CRNS0101-05-2022-AL_Gainesville_2_NE.txt') as f:\n",
    "    lst=[line.split()[8] for line in f]\n",
    "\n",
    "    a=(float(lst[25619])+float(lst[25620]))/2\n",
    "    b=(float(lst[25631])+float(lst[25632]))/2\n",
    "    c=(float(lst[25643])+float(lst[25644]))/2\n",
    "    d=(float(lst[25655])+float(lst[25656]))/2\n",
    "    e=(float(lst[25667])+float(lst[25668]))/2\n",
    "    f=(float(lst[25679])+float(lst[25680]))/2\n",
    "    g=(float(lst[25691])+float(lst[25692]))/2\n",
    "    h=(float(lst[25703])+float(lst[25704]))/2\n",
    "    i=(float(lst[25715])+float(lst[25716]))/2\n",
    "    j=(float(lst[25727])+float(lst[25728]))/2\n",
    "    k=(float(lst[25739])+float(lst[25740]))/2\n",
    "    l=(float(lst[25751])+float(lst[25752]))/2\n",
    "    m=(float(lst[25763])+float(lst[25764]))/2\n",
    "    n=(float(lst[25775])+float(lst[25776]))/2\n",
    "    o=(float(lst[25787])+float(lst[25788]))/2\n",
    "    p=(float(lst[25799])+float(lst[25800]))/2\n",
    "    q=(float(lst[25811])+float(lst[25812]))/2\n",
    "    r=(float(lst[25823])+float(lst[25824]))/2\n",
    "    s=(float(lst[25835])+float(lst[25836]))/2\n",
    "    t=(float(lst[25847])+float(lst[25848]))/2\n",
    "    u=(float(lst[25859])+float(lst[25860]))/2\n",
    "    v=(float(lst[25871])+float(lst[25872]))/2\n",
    "    w=(float(lst[25883])+float(lst[25884]))/2\n",
    "    x=(float(lst[25895])+float(lst[25896]))/2\n",
    "    y=(float(lst[25907])+float(lst[25908]))/2\n",
    "    temp_crn=[a,b,c,d,e,f,g,h,i,j,k,l,m,n,o,p,q,r,s,t,u,v,w,x,y]\n",
    "    print(temp_crn)"
   ]
  },
  {
   "cell_type": "code",
   "execution_count": 59,
   "id": "82a257d7",
   "metadata": {},
   "outputs": [
    {
     "name": "stdout",
     "output_type": "stream",
     "text": [
      "[0.8678999999999988, 0.7467000000000006, 1.1810999999999972, 2.6910000000000025, 0.27639999999999887, 1.3614999999999995, 2.1138000000000012, 2.2197999999999993, 2.610100000000001, 2.6582999999999988, 1.9984000000000002, 1.5345999999999993, 1.4106000000000005, -0.18929999999999936, -0.2331000000000003, -1.1768999999999998, -0.7123000000000008, -0.5526999999999997, -1.5381999999999998, -2.2521000000000004, -2.0748000000000015, -2.1995999999999984, -2.999699999999999, -3.349500000000001, -3.2901000000000007]\n"
     ]
    }
   ],
   "source": [
    "difference2_gai = []\n",
    "\n",
    "zip_object = zip(temp, temp_crn)\n",
    "for temp_i, temp_crn_i in zip_object:\n",
    "    difference2_gai.append(temp_i-temp_crn_i)\n",
    "\n",
    "print(difference2_gai)"
   ]
  },
  {
   "cell_type": "markdown",
   "id": "0917b86d",
   "metadata": {},
   "source": [
    "<font size=\"3\">Fairhope, AL: 0100 UTC 31 March 2022-0100 UTC 1 April 2022</font>"
   ]
  },
  {
   "cell_type": "code",
   "execution_count": 60,
   "id": "102e4d08",
   "metadata": {},
   "outputs": [
    {
     "name": "stdout",
     "output_type": "stream",
     "text": [
      "[22.9686, 23.0285, 22.0889, 22.7865, 22.5638, 18.6573, 17.8351, 18.7708, 18.8109, 18.5596, 18.4731, 17.8232, 18.2544, 17.1731, 17.3877, 18.1098, 19.6743, 20.9354, 22.3502, 22.8879, 22.7628, 22.338, 20.9349, 19.3734, 17.8964]\n",
      "25\n"
     ]
    }
   ],
   "source": [
    "#12 hr hrrr:\n",
    "with open('hrrr_f12_Fairhope_AL.txt') as f:\n",
    "    lst=[line.split()[1] for line in f]\n",
    "    temp=[]\n",
    "    for i in lst:\n",
    "        new=i.replace(',',\"\")\n",
    "        temp.append(new)\n",
    "    temp.pop(0)\n",
    "    temp=[float(x) for x in temp]\n",
    "    temp=temp[2125:2150]\n",
    "    #temp=temp[2015:2063]\n",
    "    print(temp)\n",
    "    print(len(temp))\n",
    "#full time period is [2015:2112]"
   ]
  },
  {
   "cell_type": "code",
   "execution_count": 61,
   "id": "70c7a360",
   "metadata": {},
   "outputs": [
    {
     "name": "stdout",
     "output_type": "stream",
     "text": [
      "[23.5, 23.5, 23.1, 23.65, 18.049999999999997, 16.75, 17.0, 17.05, 17.0, 16.95, 17.35, 17.5, 17.5, 17.85, 19.0, 19.3, 19.9, 21.049999999999997, 21.9, 22.450000000000003, 22.6, 21.5, 20.45, 18.85, 16.0]\n"
     ]
    }
   ],
   "source": [
    "#Air Temp CRN:\n",
    "with open('CRNS0101-05-2022-AL_Fairhope_3_NE.txt') as f:\n",
    "    lst=[line.split()[8] for line in f]\n",
    "    \n",
    "    a=(float(lst[25643])+float(lst[25644]))/2\n",
    "    b=(float(lst[25655])+float(lst[25656]))/2\n",
    "    c=(float(lst[25667])+float(lst[25668]))/2\n",
    "    d=(float(lst[25679])+float(lst[25680]))/2\n",
    "    e=(float(lst[25691])+float(lst[25692]))/2\n",
    "    f=(float(lst[25703])+float(lst[25704]))/2\n",
    "    g=(float(lst[25715])+float(lst[25716]))/2\n",
    "    h=(float(lst[25727])+float(lst[25728]))/2\n",
    "    i=(float(lst[25739])+float(lst[25740]))/2\n",
    "    j=(float(lst[25751])+float(lst[25752]))/2\n",
    "    k=(float(lst[25763])+float(lst[25764]))/2\n",
    "    l=(float(lst[25775])+float(lst[25776]))/2\n",
    "    m=(float(lst[25787])+float(lst[25788]))/2\n",
    "    n=(float(lst[25799])+float(lst[25800]))/2\n",
    "    o=(float(lst[25811])+float(lst[25812]))/2\n",
    "    p=(float(lst[25823])+float(lst[25824]))/2\n",
    "    q=(float(lst[25835])+float(lst[25836]))/2\n",
    "    r=(float(lst[25847])+float(lst[25848]))/2\n",
    "    s=(float(lst[25859])+float(lst[25860]))/2\n",
    "    t=(float(lst[25871])+float(lst[25872]))/2\n",
    "    u=(float(lst[25883])+float(lst[25884]))/2\n",
    "    v=(float(lst[25895])+float(lst[25896]))/2\n",
    "    w=(float(lst[25907])+float(lst[25908]))/2\n",
    "    x=(float(lst[25919])+float(lst[25920]))/2\n",
    "    y=(float(lst[25931])+float(lst[25932]))/2\n",
    "    temp_crn=[a,b,c,d,e,f,g,h,i,j,k,l,m,n,o,p,q,r,s,t,u,v,w,x,y]\n",
    "    print(temp_crn)"
   ]
  },
  {
   "cell_type": "code",
   "execution_count": 62,
   "id": "f15c30e0",
   "metadata": {},
   "outputs": [
    {
     "name": "stdout",
     "output_type": "stream",
     "text": [
      "[-0.5314000000000014, -0.4714999999999989, -1.0111000000000026, -0.8634999999999984, 4.513800000000003, 1.9072999999999993, 0.8351000000000006, 1.7208000000000006, 1.8109000000000002, 1.6096000000000004, 1.1230999999999973, 0.32319999999999993, 0.7544000000000004, -0.6768999999999998, -1.6123000000000012, -1.1902000000000008, -0.2256999999999998, -0.11459999999999582, 0.4502000000000024, 0.4378999999999955, 0.16279999999999717, 0.838000000000001, 0.48489999999999966, 0.5233999999999988, 1.8963999999999999]\n"
     ]
    }
   ],
   "source": [
    "difference2_fai = []\n",
    "\n",
    "zip_object = zip(temp, temp_crn)\n",
    "for temp_i, temp_crn_i in zip_object:\n",
    "    difference2_fai.append(temp_i-temp_crn_i)\n",
    "\n",
    "print(difference2_fai)"
   ]
  },
  {
   "cell_type": "markdown",
   "id": "e9530edf",
   "metadata": {},
   "source": [
    "<font size=\"3\">**Selma, AL: 0100 UTC 31 March 2022-0100 UTC 1 April 2022</font>"
   ]
  },
  {
   "cell_type": "code",
   "execution_count": 63,
   "id": "15e7e080",
   "metadata": {},
   "outputs": [
    {
     "name": "stdout",
     "output_type": "stream",
     "text": [
      "[23.4061, 22.2785, 22.2764, 20.599, 16.3138, 17.3448, 17.6476, 17.9583, 17.4984, 17.3721, 16.6606, 16.4482, 15.3169, 15.3606, 14.7002, 14.7973, 14.7368, 14.4979, 15.4752, 16.0129, 16.6378, 16.463, 15.3724, 13.9359, 12.6464]\n"
     ]
    }
   ],
   "source": [
    "#1 hr hrrr:\n",
    "with open('hrrr_f12_Selma_AL.txt') as f:\n",
    "    lst=[line.split()[1] for line in f]\n",
    "    temp=[]\n",
    "    for i in lst:\n",
    "        new=i.replace(',',\"\")\n",
    "        temp.append(new)\n",
    "    temp.pop(0)\n",
    "    temp=[float(x) for x in temp]\n",
    "    temp=temp[2125:2150]\n",
    "    print(temp)"
   ]
  },
  {
   "cell_type": "code",
   "execution_count": 64,
   "id": "56b6cfa3",
   "metadata": {},
   "outputs": [
    {
     "name": "stdout",
     "output_type": "stream",
     "text": [
      "[23.8, 22.05, 20.55, 19.75, 18.1, 17.15, 16.7, 16.25, 15.7, 15.75, 15.5, 15.3, 14.149999999999999, 13.9, 14.8, 15.95, 16.3, 17.0, 17.35, 17.55, 17.9, 18.2, 18.0, 15.55, 12.75]\n"
     ]
    }
   ],
   "source": [
    "#Air Temp CRN:\n",
    "with open('CRNS0101-05-2022-AL_Selma_13_WNW.txt') as f:\n",
    "    lst=[line.split()[8] for line in f]\n",
    "    \n",
    "    a=(float(lst[25643])+float(lst[25644]))/2\n",
    "    b=(float(lst[25655])+float(lst[25656]))/2\n",
    "    c=(float(lst[25667])+float(lst[25668]))/2\n",
    "    d=(float(lst[25679])+float(lst[25680]))/2\n",
    "    e=(float(lst[25691])+float(lst[25692]))/2\n",
    "    f=(float(lst[25703])+float(lst[25704]))/2\n",
    "    g=(float(lst[25715])+float(lst[25716]))/2\n",
    "    h=(float(lst[25727])+float(lst[25728]))/2\n",
    "    i=(float(lst[25739])+float(lst[25740]))/2\n",
    "    j=(float(lst[25751])+float(lst[25752]))/2\n",
    "    k=(float(lst[25763])+float(lst[25764]))/2\n",
    "    l=(float(lst[25775])+float(lst[25776]))/2\n",
    "    m=(float(lst[25787])+float(lst[25788]))/2\n",
    "    n=(float(lst[25799])+float(lst[25800]))/2\n",
    "    o=(float(lst[25811])+float(lst[25812]))/2\n",
    "    p=(float(lst[25823])+float(lst[25824]))/2\n",
    "    q=(float(lst[25835])+float(lst[25836]))/2\n",
    "    r=(float(lst[25847])+float(lst[25848]))/2\n",
    "    s=(float(lst[25859])+float(lst[25860]))/2\n",
    "    t=(float(lst[25871])+float(lst[25872]))/2\n",
    "    u=(float(lst[25883])+float(lst[25884]))/2\n",
    "    v=(float(lst[25895])+float(lst[25896]))/2\n",
    "    w=(float(lst[25907])+float(lst[25908]))/2\n",
    "    x=(float(lst[25919])+float(lst[25920]))/2\n",
    "    y=(float(lst[25931])+float(lst[25932]))/2\n",
    "    temp_crn=[a,b,c,d,e,f,g,h,i,j,k,l,m,n,o,p,q,r,s,t,u,v,w,x,y]\n",
    "    print(temp_crn)"
   ]
  },
  {
   "cell_type": "code",
   "execution_count": 65,
   "id": "1cd371ed",
   "metadata": {},
   "outputs": [
    {
     "name": "stdout",
     "output_type": "stream",
     "text": [
      "[-0.39390000000000214, 0.22850000000000037, 1.7263999999999982, 0.8490000000000002, -1.786200000000001, 0.19480000000000075, 0.9476000000000013, 1.7083000000000013, 1.7984000000000009, 1.6220999999999997, 1.1605999999999987, 1.1481999999999992, 1.1669000000000018, 1.4605999999999995, -0.09980000000000011, -1.1526999999999994, -1.5632000000000001, -2.5021000000000004, -1.8748000000000022, -1.5371000000000024, -1.2622, -1.7369999999999983, -2.6275999999999993, -1.6141000000000005, -0.10360000000000014]\n",
      "25\n"
     ]
    }
   ],
   "source": [
    "difference2_sel = []\n",
    "\n",
    "zip_object = zip(temp, temp_crn)\n",
    "for temp_i, temp_crn_i in zip_object:\n",
    "    difference2_sel.append(temp_i-temp_crn_i)\n",
    "\n",
    "print(difference2_sel)\n",
    "print(len(difference2_sel))"
   ]
  },
  {
   "cell_type": "markdown",
   "id": "96c13278",
   "metadata": {},
   "source": [
    "<font size=\"3\">Bowling Green, KY: 0100 UTC 31 March 2022-0100 UTC 1 April 2022</font>"
   ]
  },
  {
   "cell_type": "code",
   "execution_count": 66,
   "id": "20079007",
   "metadata": {},
   "outputs": [
    {
     "name": "stdout",
     "output_type": "stream",
     "text": [
      "[22.3436, 21.7785, 19.9014, 16.0365, 14.8138, 15.8448, 14.5851, 13.3958, 13.0609, 12.1846, 11.4106, 10.8857, 8.94186, 8.29813, 6.57516, 6.7973, 5.73685, 6.18539, 7.03772, 7.26294, 6.70029, 6.52554, 6.24738, 6.24835, 5.77139]\n"
     ]
    }
   ],
   "source": [
    "#12 hr hrrr:\n",
    "with open('hrrr_f12_Bowling Green_KY.txt') as f:\n",
    "    lst=[line.split()[1] for line in f]\n",
    "    temp=[]\n",
    "    for i in lst:\n",
    "        new=i.replace(',',\"\")\n",
    "        temp.append(new)\n",
    "    temp.pop(0)\n",
    "    temp=[float(x) for x in temp]\n",
    "    temp=temp[2125:2150]\n",
    "#     x = np.array(temp)\n",
    "#     temp= ma.masked_array(x, mask=[0, 0, 0, 0, 0,0,1,0,0,0,0,0,0,0,0,0,0,0,0,0,0,0,0,0,0])\n",
    "    #temp=temp[2015:2063]\n",
    "    print(temp)\n",
    "    #print(len(temp))\n",
    "#full time period is [2015:2112]"
   ]
  },
  {
   "cell_type": "code",
   "execution_count": 67,
   "id": "40c7254e",
   "metadata": {},
   "outputs": [
    {
     "name": "stdout",
     "output_type": "stream",
     "text": [
      "[24.9 19.1 14.2 13.350000000000001 13.9 -- -- 14.5 14.3 11.15 9.6 8.75\n",
      " 7.65 7.05 6.9 7.25 7.15 6.85 6.5 6.800000000000001 7.15 6.95 7.1 6.25 5.5]\n"
     ]
    }
   ],
   "source": [
    "#Air Temp CRN:\n",
    "with open('CRNS0101-05-2022-KY_Bowling_Green_21_NNE.txt') as f:\n",
    "    lst=[line.split()[8] for line in f]\n",
    "    \n",
    "    a=(float(lst[25643])+float(lst[25644]))/2\n",
    "    b=(float(lst[25655])+float(lst[25656]))/2\n",
    "    c=(float(lst[25667])+float(lst[25668]))/2\n",
    "    d=(float(lst[25679])+float(lst[25680]))/2\n",
    "    e=(float(lst[25691])+float(lst[25692]))/2\n",
    "    f=(float(lst[25703])+float(lst[25704]))/2\n",
    "    g=(float(lst[25715])+float(lst[25716]))/2\n",
    "    h=(float(lst[25727])+float(lst[25728]))/2\n",
    "    i=(float(lst[25739])+float(lst[25740]))/2\n",
    "    j=(float(lst[25751])+float(lst[25752]))/2\n",
    "    k=(float(lst[25763])+float(lst[25764]))/2\n",
    "    l=(float(lst[25775])+float(lst[25776]))/2\n",
    "    m=(float(lst[25787])+float(lst[25788]))/2\n",
    "    n=(float(lst[25799])+float(lst[25800]))/2\n",
    "    o=(float(lst[25811])+float(lst[25812]))/2\n",
    "    p=(float(lst[25823])+float(lst[25824]))/2\n",
    "    q=(float(lst[25835])+float(lst[25836]))/2\n",
    "    r=(float(lst[25847])+float(lst[25848]))/2\n",
    "    s=(float(lst[25859])+float(lst[25860]))/2\n",
    "    t=(float(lst[25871])+float(lst[25872]))/2\n",
    "    u=(float(lst[25883])+float(lst[25884]))/2\n",
    "    v=(float(lst[25895])+float(lst[25896]))/2\n",
    "    w=(float(lst[25907])+float(lst[25908]))/2\n",
    "    x=(float(lst[25919])+float(lst[25920]))/2\n",
    "    y=(float(lst[25931])+float(lst[25932]))/2\n",
    "    temp_crn=[a,b,c,d,e,f,g,h,i,j,k,l,m,n,o,p,q,r,s,t,u,v,w,x,y]\n",
    "    y= np.array(temp_crn)\n",
    "    temp_crn= ma.masked_array(y, mask=[0, 0, 0, 0, 0,1,1,0,0,0,0,0,0,0,0,0,0,0,0,0,0,0,0,0,0])\n",
    "    print(temp_crn)"
   ]
  },
  {
   "cell_type": "code",
   "execution_count": 68,
   "id": "90cedfd2",
   "metadata": {},
   "outputs": [
    {
     "name": "stdout",
     "output_type": "stream",
     "text": [
      "[-2.5564, 2.6784999999999997, 5.7014, 2.6864999999999988, 0.9138000000000002, masked, masked, -1.1042000000000005, -1.2391000000000005, 1.0345999999999993, 1.8106000000000009, 2.1357, 1.2918599999999998, 1.2481300000000006, -0.32484, -0.4527000000000001, -1.4131500000000008, -0.6646099999999997, 0.5377200000000002, 0.4629399999999997, -0.4497100000000005, -0.42445999999999984, -0.8526199999999999, -0.0016499999999997073, 0.27139000000000024]\n"
     ]
    }
   ],
   "source": [
    "difference2_bow = []\n",
    "\n",
    "zip_object = zip(temp, temp_crn)\n",
    "for temp_i, temp_crn_i in zip_object:\n",
    "    difference2_bow.append(temp_i-temp_crn_i)\n",
    "\n",
    "print(difference2_bow)"
   ]
  },
  {
   "cell_type": "markdown",
   "id": "770eb1f1",
   "metadata": {},
   "source": [
    "<font size=\"3\">Gadsden, AL: 0200 UTC 31 March 2022-0200 UTC 1 April 2022</font>"
   ]
  },
  {
   "cell_type": "code",
   "execution_count": 69,
   "id": "b06370d2",
   "metadata": {},
   "outputs": [
    {
     "name": "stdout",
     "output_type": "stream",
     "text": [
      "[20.5285, 19.9014, 17.9115, 17.2513, 16.9073, 15.9601, 16.3333, 15.1859, 14.7471, 14.7856, 14.0107, 14.2544, 13.7981, 12.5127, 12.4223, 12.0493, 11.1229, 11.0377, 11.4504, 11.7628, 11.588, 11.4974, 9.56085, 9.08389, 9.8559]\n",
      "25\n"
     ]
    }
   ],
   "source": [
    "#12 hr hrrr:\n",
    "with open('hrrr_f12_Gadsden_AL.txt') as f:\n",
    "    lst=[line.split()[1] for line in f]\n",
    "    temp=[]\n",
    "    for i in lst:\n",
    "        new=i.replace(',',\"\")\n",
    "        temp.append(new)\n",
    "    temp.pop(0)\n",
    "    temp=[float(x) for x in temp]\n",
    "    temp=temp[2126:2151]\n",
    "    #temp=temp[2015:2063]\n",
    "    print(temp)\n",
    "    print(len(temp))\n",
    "#full time period is [2015:2112]"
   ]
  },
  {
   "cell_type": "code",
   "execution_count": 70,
   "id": "28243f45",
   "metadata": {},
   "outputs": [
    {
     "name": "stdout",
     "output_type": "stream",
     "text": [
      "[22.799999999999997, 20.75, 18.200000000000003, 16.85, 14.0, 15.350000000000001, 15.850000000000001, 15.4, 14.6, 14.2, 13.8, 14.1, 14.4, 14.15, 12.05, 12.7, 12.55, 13.55, 14.0, 14.1, 13.95, 13.350000000000001, 12.1, 10.05, 9.95]\n"
     ]
    }
   ],
   "source": [
    "#Air Temp CRN:\n",
    "with open('CRNS0101-05-2022-AL_Gadsden_19_N.txt') as f:\n",
    "    lst=[line.split()[8] for line in f]\n",
    "    \n",
    "    a=(float(lst[25655])+float(lst[25656]))/2\n",
    "    b=(float(lst[25667])+float(lst[25668]))/2\n",
    "    c=(float(lst[25679])+float(lst[25680]))/2\n",
    "    d=(float(lst[25691])+float(lst[25692]))/2\n",
    "    e=(float(lst[25703])+float(lst[25704]))/2\n",
    "    f=(float(lst[25715])+float(lst[25716]))/2\n",
    "    g=(float(lst[25727])+float(lst[25728]))/2\n",
    "    h=(float(lst[25739])+float(lst[25740]))/2\n",
    "    i=(float(lst[25751])+float(lst[25752]))/2\n",
    "    j=(float(lst[25763])+float(lst[25764]))/2\n",
    "    k=(float(lst[25775])+float(lst[25776]))/2\n",
    "    l=(float(lst[25787])+float(lst[25788]))/2\n",
    "    m=(float(lst[25799])+float(lst[25800]))/2\n",
    "    n=(float(lst[25811])+float(lst[25812]))/2\n",
    "    o=(float(lst[25823])+float(lst[25824]))/2\n",
    "    p=(float(lst[25835])+float(lst[25836]))/2\n",
    "    q=(float(lst[25847])+float(lst[25848]))/2\n",
    "    r=(float(lst[25859])+float(lst[25860]))/2\n",
    "    s=(float(lst[25871])+float(lst[25872]))/2\n",
    "    t=(float(lst[25883])+float(lst[25884]))/2\n",
    "    u=(float(lst[25895])+float(lst[25896]))/2\n",
    "    v=(float(lst[25907])+float(lst[25908]))/2\n",
    "    w=(float(lst[25919])+float(lst[25920]))/2\n",
    "    x=(float(lst[25931])+float(lst[25932]))/2\n",
    "    y=(float(lst[25943])+float(lst[25944]))/2\n",
    "    temp_crn=[a,b,c,d,e,f,g,h,i,j,k,l,m,n,o,p,q,r,s,t,u,v,w,x,y]\n",
    "    print(temp_crn)"
   ]
  },
  {
   "cell_type": "code",
   "execution_count": 71,
   "id": "d63723fd",
   "metadata": {},
   "outputs": [
    {
     "name": "stdout",
     "output_type": "stream",
     "text": [
      "[-2.271499999999996, -0.8486000000000011, -0.28850000000000264, 0.4012999999999991, 2.9072999999999993, 0.6100999999999992, 0.48329999999999984, -0.21410000000000018, 0.1471, 0.5856000000000012, 0.21069999999999922, 0.15440000000000076, -0.6019000000000005, -1.6372999999999998, 0.3722999999999992, -0.6506999999999987, -1.4271000000000011, -2.5123000000000015, -2.5496, -2.3371999999999993, -2.362, -1.8526000000000007, -2.5391499999999994, -0.9661100000000005, -0.09409999999999918]\n"
     ]
    }
   ],
   "source": [
    "difference2_gad = []\n",
    "\n",
    "zip_object = zip(temp, temp_crn)\n",
    "for temp_i, temp_crn_i in zip_object:\n",
    "    difference2_gad.append(temp_i-temp_crn_i)\n",
    "\n",
    "print(difference2_gad)"
   ]
  },
  {
   "cell_type": "markdown",
   "id": "cd4a8f77",
   "metadata": {},
   "source": [
    "<font size=\"3\">Newton, GA: 0700 UTC 31 March 2022-0700 UTC 1 April 2022</font>"
   ]
  },
  {
   "cell_type": "code",
   "execution_count": 72,
   "id": "29be0aef",
   "metadata": {},
   "outputs": [
    {
     "name": "stdout",
     "output_type": "stream",
     "text": [
      "[19.9601, 20.9583, 21.1234, 20.9346, 21.4106, 20.5107, 20.2544, 19.5481, 19.8877, 20.0473, 20.9868, 22.1229, 22.3502, 23.0129, 22.6378, 22.713, 21.8724, 20.2484, 19.2089, 18.2309, 17.3445, 16.635, 16.2623, 15.4491, 14.4879]\n",
      "25\n"
     ]
    }
   ],
   "source": [
    "#12 hr hrrr:\n",
    "with open('hrrr_f12_Newton_GA.txt') as f:\n",
    "    lst=[line.split()[1] for line in f]\n",
    "    temp=[]\n",
    "    for i in lst:\n",
    "        new=i.replace(',',\"\")\n",
    "        temp.append(new)\n",
    "    temp.pop(0)\n",
    "    temp=[float(x) for x in temp]\n",
    "    temp=temp[2131:2156]\n",
    "    #temp=temp[2015:2063]\n",
    "    print(temp)\n",
    "    print(len(temp))\n",
    "#full time period is [2015:2112]"
   ]
  },
  {
   "cell_type": "code",
   "execution_count": 73,
   "id": "28c28e01",
   "metadata": {},
   "outputs": [
    {
     "name": "stdout",
     "output_type": "stream",
     "text": [
      "[22.7, 22.85, 22.6, 20.55, 20.5, 19.6, 17.3, 17.05, 17.7, 18.6, 22.25, 23.700000000000003, 25.3, 25.65, 25.75, 25.6, 24.6, 22.5, 20.950000000000003, 20.65, 19.5, 18.25, 17.35, 16.6, 15.95]\n"
     ]
    }
   ],
   "source": [
    "#Air Temp CRN:\n",
    "with open('CRNS0101-05-2022-GA_Newton_11_SW.txt') as f:\n",
    "    lst=[line.split()[8] for line in f]\n",
    "    \n",
    "    a=(float(lst[25715])+float(lst[25716]))/2\n",
    "    b=(float(lst[25727])+float(lst[25728]))/2\n",
    "    c=(float(lst[25739])+float(lst[25740]))/2\n",
    "    d=(float(lst[25751])+float(lst[25752]))/2\n",
    "    e=(float(lst[25763])+float(lst[25764]))/2\n",
    "    f=(float(lst[25775])+float(lst[25776]))/2\n",
    "    g=(float(lst[25787])+float(lst[25788]))/2\n",
    "    h=(float(lst[25799])+float(lst[25800]))/2\n",
    "    i=(float(lst[25811])+float(lst[25812]))/2\n",
    "    j=(float(lst[25823])+float(lst[25824]))/2\n",
    "    k=(float(lst[25835])+float(lst[25836]))/2\n",
    "    l=(float(lst[25847])+float(lst[25848]))/2\n",
    "    m=(float(lst[25859])+float(lst[25860]))/2\n",
    "    n=(float(lst[25871])+float(lst[25872]))/2\n",
    "    o=(float(lst[25883])+float(lst[25884]))/2\n",
    "    p=(float(lst[25895])+float(lst[25896]))/2\n",
    "    q=(float(lst[25907])+float(lst[25908]))/2\n",
    "    r=(float(lst[25919])+float(lst[25920]))/2\n",
    "    s=(float(lst[25931])+float(lst[25932]))/2\n",
    "    t=(float(lst[25943])+float(lst[25944]))/2\n",
    "    u=(float(lst[25955])+float(lst[25956]))/2\n",
    "    v=(float(lst[25967])+float(lst[25968]))/2\n",
    "    w=(float(lst[25979])+float(lst[25980]))/2\n",
    "    x=(float(lst[25991])+float(lst[25992]))/2\n",
    "    y=(float(lst[26003])+float(lst[26004]))/2\n",
    "    temp_crn=[a,b,c,d,e,f,g,h,i,j,k,l,m,n,o,p,q,r,s,t,u,v,w,x,y]\n",
    "    print(temp_crn)"
   ]
  },
  {
   "cell_type": "code",
   "execution_count": 74,
   "id": "4bcfa192",
   "metadata": {},
   "outputs": [
    {
     "name": "stdout",
     "output_type": "stream",
     "text": [
      "[-2.7398999999999987, -1.8917000000000002, -1.4766000000000012, 0.38459999999999894, 0.9105999999999987, 0.9106999999999985, 2.9543999999999997, 2.498100000000001, 2.1876999999999995, 1.4472999999999985, -1.2632000000000012, -1.5771000000000015, -2.9497999999999998, -2.6371, -3.1122000000000014, -2.8870000000000005, -2.7276000000000025, -2.2516, -1.741100000000003, -2.4191000000000003, -2.1555, -1.6149999999999984, -1.0877000000000017, -1.1509000000000018, -1.4620999999999995]\n"
     ]
    }
   ],
   "source": [
    "difference2_newt = []\n",
    "\n",
    "zip_object = zip(temp, temp_crn)\n",
    "for temp_i, temp_crn_i in zip_object:\n",
    "    difference2_newt.append(temp_i-temp_crn_i)\n",
    "\n",
    "print(difference2_newt)"
   ]
  },
  {
   "cell_type": "markdown",
   "id": "8148ba77",
   "metadata": {},
   "source": [
    "<font size=\"3\">Salem, MO: 1000 UTC 5 April 2022-1000 UTC 6 April 2022</font>"
   ]
  },
  {
   "cell_type": "code",
   "execution_count": 75,
   "id": "52be5eab",
   "metadata": {},
   "outputs": [
    {
     "name": "stdout",
     "output_type": "stream",
     "text": [
      "[11.1378, 11.6931, 10.8264, 11.2671, 12.1022, 12.3876, 15.1745, 17.8014, 18.554, 19.9215, 20.3808, 19.3252, 18.554, 18.1644, 18.0953, 16.0568, 15.631, 14.764, 14.605, 13.5642, 11.0956, 9.65137, 8.5881, 8.259, 7.63846]\n",
      "25\n"
     ]
    }
   ],
   "source": [
    "#12 hr hrrr:\n",
    "with open('hrrr_f12_Salem_MO.txt') as f:\n",
    "    lst=[line.split()[1] for line in f]\n",
    "    temp=[]\n",
    "    for i in lst:\n",
    "        new=i.replace(',',\"\")\n",
    "        temp.append(new)\n",
    "    temp.pop(0)\n",
    "    temp=[float(x) for x in temp]\n",
    "    temp=temp[2254:2279]\n",
    "    #temp=temp[2015:2063]\n",
    "    print(temp)\n",
    "    print(len(temp))\n",
    "#full time period is [2015:2112]"
   ]
  },
  {
   "cell_type": "code",
   "execution_count": 76,
   "id": "3d591709",
   "metadata": {},
   "outputs": [
    {
     "name": "stdout",
     "output_type": "stream",
     "text": [
      "[11.2, 11.149999999999999, 11.0, 10.8, 11.25, 13.95, 16.65, 19.4, 21.450000000000003, 20.95, 20.299999999999997, 21.75, 21.25, 21.25, 20.1, 17.6, 12.95, 17.049999999999997, 16.95, 12.7, 11.3, 11.1, 9.350000000000001, 8.7, 7.5]\n"
     ]
    }
   ],
   "source": [
    "#Air Temp CRN:\n",
    "with open('CRNS0101-05-2022-MO_Salem_10_W.txt') as f:\n",
    "    lst=[line.split()[8] for line in f]\n",
    "    \n",
    "    a=(float(lst[27191])+float(lst[27192]))/2\n",
    "    b=(float(lst[27203])+float(lst[27204]))/2\n",
    "    c=(float(lst[27215])+float(lst[27216]))/2\n",
    "    d=(float(lst[27227])+float(lst[27228]))/2\n",
    "    e=(float(lst[27239])+float(lst[27240]))/2\n",
    "    f=(float(lst[27251])+float(lst[27252]))/2\n",
    "    g=(float(lst[27263])+float(lst[27264]))/2\n",
    "    h=(float(lst[27275])+float(lst[27276]))/2\n",
    "    i=(float(lst[27287])+float(lst[27288]))/2\n",
    "    j=(float(lst[27299])+float(lst[27300]))/2\n",
    "    k=(float(lst[27311])+float(lst[27312]))/2\n",
    "    l=(float(lst[27323])+float(lst[27324]))/2\n",
    "    m=(float(lst[27335])+float(lst[27336]))/2\n",
    "    n=(float(lst[27347])+float(lst[27348]))/2\n",
    "    o=(float(lst[27359])+float(lst[27360]))/2\n",
    "    p=(float(lst[27371])+float(lst[27372]))/2\n",
    "    q=(float(lst[27383])+float(lst[27384]))/2\n",
    "    r=(float(lst[27395])+float(lst[27396]))/2\n",
    "    s=(float(lst[27407])+float(lst[27408]))/2\n",
    "    t=(float(lst[27419])+float(lst[27420]))/2\n",
    "    u=(float(lst[27431])+float(lst[27432]))/2\n",
    "    v=(float(lst[27443])+float(lst[27444]))/2\n",
    "    w=(float(lst[27455])+float(lst[27456]))/2\n",
    "    x=(float(lst[27467])+float(lst[27468]))/2\n",
    "    y=(float(lst[27479])+float(lst[27480]))/2\n",
    "    temp_crn=[a,b,c,d,e,f,g,h,i,j,k,l,m,n,o,p,q,r,s,t,u,v,w,x,y]\n",
    "    print(temp_crn)"
   ]
  },
  {
   "cell_type": "code",
   "execution_count": 77,
   "id": "d9f71702",
   "metadata": {},
   "outputs": [
    {
     "name": "stdout",
     "output_type": "stream",
     "text": [
      "[-0.06219999999999892, 0.5431000000000008, -0.17360000000000042, 0.4670999999999985, 0.8521999999999998, -1.5623999999999985, -1.4754999999999985, -1.5985999999999976, -2.8960000000000043, -1.0284999999999975, 0.08080000000000354, -2.424800000000001, -2.6960000000000015, -3.0855999999999995, -2.0046999999999997, -1.5432000000000023, 2.681000000000001, -2.285999999999998, -2.344999999999999, 0.8642000000000003, -0.20440000000000147, -1.4486299999999996, -0.7619000000000007, -0.44099999999999895, 0.13846000000000025]\n"
     ]
    }
   ],
   "source": [
    "difference3_sal = []\n",
    "\n",
    "zip_object = zip(temp, temp_crn)\n",
    "for temp_i, temp_crn_i in zip_object:\n",
    "    difference3_sal.append(temp_i-temp_crn_i)\n",
    "\n",
    "print(difference3_sal)"
   ]
  },
  {
   "cell_type": "markdown",
   "id": "cc4a44b1",
   "metadata": {},
   "source": [
    "<font size=\"3\">Batesville, AR: 1000 UTC 5 April 2022-1000 UTC 6 April 2022</font>"
   ]
  },
  {
   "cell_type": "code",
   "execution_count": 78,
   "id": "4fcfb5db",
   "metadata": {},
   "outputs": [
    {
     "name": "stdout",
     "output_type": "stream",
     "text": [
      "[11.2628, 11.6306, 10.9514, 11.5171, 13.7272, 15.3876, 15.6745, 18.6139, 18.4915, 19.234, 20.2558, 19.5752, 19.679, 18.1644, 18.3453, 16.4943, 16.1935, 16.139, 15.5425, 15.9392, 16.0956, 15.9639, 16.3381, 12.8215, 11.7635]\n",
      "25\n"
     ]
    }
   ],
   "source": [
    "#12 hr hrrr:\n",
    "with open('hrrr_f12_Batesville_AR.txt') as f:\n",
    "    lst=[line.split()[1] for line in f]\n",
    "    temp=[]\n",
    "    for i in lst:\n",
    "        new=i.replace(',',\"\")\n",
    "        temp.append(new)\n",
    "    temp.pop(0)\n",
    "    temp=[float(x) for x in temp]\n",
    "    temp=temp[2254:2279]\n",
    "    #temp=temp[2015:2063]\n",
    "    print(temp)\n",
    "    print(len(temp))\n",
    "#full time period is [2015:2112]"
   ]
  },
  {
   "cell_type": "code",
   "execution_count": 79,
   "id": "b1e964e8",
   "metadata": {},
   "outputs": [
    {
     "name": "stdout",
     "output_type": "stream",
     "text": [
      "[11.6, 12.05, 11.9, 12.0, 12.65, 14.75, 16.4, 18.6, 19.65, 21.3, 22.1, 22.9, 23.1, 22.95, 20.95, 19.55, 18.5, 18.15, 16.75, 14.7, 17.4, 19.4, 17.15, 12.95, 12.649999999999999]\n"
     ]
    }
   ],
   "source": [
    "#Air Temp CRN:\n",
    "with open('CRNS0101-05-2022-AR_Batesville_8_WNW.txt') as f:\n",
    "    lst=[line.split()[8] for line in f]\n",
    "    \n",
    "    a=(float(lst[27191])+float(lst[27192]))/2\n",
    "    b=(float(lst[27203])+float(lst[27204]))/2\n",
    "    c=(float(lst[27215])+float(lst[27216]))/2\n",
    "    d=(float(lst[27227])+float(lst[27228]))/2\n",
    "    e=(float(lst[27239])+float(lst[27240]))/2\n",
    "    f=(float(lst[27251])+float(lst[27252]))/2\n",
    "    g=(float(lst[27263])+float(lst[27264]))/2\n",
    "    h=(float(lst[27275])+float(lst[27276]))/2\n",
    "    i=(float(lst[27287])+float(lst[27288]))/2\n",
    "    j=(float(lst[27299])+float(lst[27300]))/2\n",
    "    k=(float(lst[27311])+float(lst[27312]))/2\n",
    "    l=(float(lst[27323])+float(lst[27324]))/2\n",
    "    m=(float(lst[27335])+float(lst[27336]))/2\n",
    "    n=(float(lst[27347])+float(lst[27348]))/2\n",
    "    o=(float(lst[27359])+float(lst[27360]))/2\n",
    "    p=(float(lst[27371])+float(lst[27372]))/2\n",
    "    q=(float(lst[27383])+float(lst[27384]))/2\n",
    "    r=(float(lst[27395])+float(lst[27396]))/2\n",
    "    s=(float(lst[27407])+float(lst[27408]))/2\n",
    "    t=(float(lst[27419])+float(lst[27420]))/2\n",
    "    u=(float(lst[27431])+float(lst[27432]))/2\n",
    "    v=(float(lst[27443])+float(lst[27444]))/2\n",
    "    w=(float(lst[27455])+float(lst[27456]))/2\n",
    "    x=(float(lst[27467])+float(lst[27468]))/2\n",
    "    y=(float(lst[27479])+float(lst[27480]))/2\n",
    "    temp_crn=[a,b,c,d,e,f,g,h,i,j,k,l,m,n,o,p,q,r,s,t,u,v,w,x,y]\n",
    "    print(temp_crn)"
   ]
  },
  {
   "cell_type": "code",
   "execution_count": 80,
   "id": "c5f712f8",
   "metadata": {},
   "outputs": [
    {
     "name": "stdout",
     "output_type": "stream",
     "text": [
      "[-0.3371999999999993, -0.4194000000000013, -0.9486000000000008, -0.4829000000000008, 1.0771999999999995, 0.6376000000000008, -0.7254999999999985, 0.01389999999999958, -1.1585, -2.065999999999999, -1.8442000000000007, -3.3247999999999998, -3.421000000000003, -4.785599999999999, -2.6046999999999976, -3.0557000000000016, -2.3064999999999998, -2.0109999999999992, -1.2074999999999996, 1.2392000000000003, -1.3043999999999976, -3.436099999999998, -0.8118999999999978, -0.12849999999999895, -0.8864999999999981]\n"
     ]
    }
   ],
   "source": [
    "difference3_bat = []\n",
    "\n",
    "zip_object = zip(temp, temp_crn)\n",
    "for temp_i, temp_crn_i in zip_object:\n",
    "    difference3_bat.append(temp_i-temp_crn_i)\n",
    "\n",
    "print(difference3_bat)"
   ]
  },
  {
   "cell_type": "markdown",
   "id": "9f92620f",
   "metadata": {},
   "source": [
    "<font size=\"3\">Lafayette, LA: 1000 UTC 5 April 2022-1000 UTC 6 April 2022</font>"
   ]
  },
  {
   "cell_type": "code",
   "execution_count": 81,
   "id": "24bdf2f2",
   "metadata": {},
   "outputs": [
    {
     "name": "stdout",
     "output_type": "stream",
     "text": [
      "[22.3253, 22.3181, 22.3264, 22.4546, 23.0397, 23.3251, 25.2995, 25.8639, 26.4915, 27.109, 28.6933, 28.4502, 26.2415, 25.6019, 24.1578, 22.4943, 21.6935, 22.139, 21.9175, 22.3142, 22.0331, 21.7139, 21.8381, 21.8215, 21.951]\n",
      "25\n"
     ]
    }
   ],
   "source": [
    "#12 hr hrrr:\n",
    "with open('hrrr_f12_Lafayette_LA.txt') as f:\n",
    "    lst=[line.split()[1] for line in f]\n",
    "    temp=[]\n",
    "    for i in lst:\n",
    "        new=i.replace(',',\"\")\n",
    "        temp.append(new)\n",
    "    temp.pop(0)\n",
    "    temp=[float(x) for x in temp]\n",
    "    temp=temp[2254:2279]\n",
    "    #temp=temp[2015:2063]\n",
    "    print(temp)\n",
    "    print(len(temp))\n",
    "#full time period is [2015:2112]"
   ]
  },
  {
   "cell_type": "code",
   "execution_count": 82,
   "id": "e208411d",
   "metadata": {},
   "outputs": [
    {
     "name": "stdout",
     "output_type": "stream",
     "text": [
      "[22.1, 22.35, 22.6, 22.5, 23.05, 23.85, 25.25, 25.75, 25.65, 25.6, 25.9, 25.799999999999997, 26.0, 25.05, 24.15, 22.9, 22.9, 23.05, 23.2, 23.2, 23.2, 23.4, 23.35, 23.5, 23.4]\n"
     ]
    }
   ],
   "source": [
    "#Air Temp CRN:\n",
    "with open('CRNS0101-05-2022-LA_Lafayette_13_SE.txt') as f:\n",
    "    lst=[line.split()[8] for line in f]\n",
    "    \n",
    "    a=(float(lst[27191])+float(lst[27192]))/2\n",
    "    b=(float(lst[27203])+float(lst[27204]))/2\n",
    "    c=(float(lst[27215])+float(lst[27216]))/2\n",
    "    d=(float(lst[27227])+float(lst[27228]))/2\n",
    "    e=(float(lst[27239])+float(lst[27240]))/2\n",
    "    f=(float(lst[27251])+float(lst[27252]))/2\n",
    "    g=(float(lst[27263])+float(lst[27264]))/2\n",
    "    h=(float(lst[27275])+float(lst[27276]))/2\n",
    "    i=(float(lst[27287])+float(lst[27288]))/2\n",
    "    j=(float(lst[27299])+float(lst[27300]))/2\n",
    "    k=(float(lst[27311])+float(lst[27312]))/2\n",
    "    l=(float(lst[27323])+float(lst[27324]))/2\n",
    "    m=(float(lst[27335])+float(lst[27336]))/2\n",
    "    n=(float(lst[27347])+float(lst[27348]))/2\n",
    "    o=(float(lst[27359])+float(lst[27360]))/2\n",
    "    p=(float(lst[27371])+float(lst[27372]))/2\n",
    "    q=(float(lst[27383])+float(lst[27384]))/2\n",
    "    r=(float(lst[27395])+float(lst[27396]))/2\n",
    "    s=(float(lst[27407])+float(lst[27408]))/2\n",
    "    t=(float(lst[27419])+float(lst[27420]))/2\n",
    "    u=(float(lst[27431])+float(lst[27432]))/2\n",
    "    v=(float(lst[27443])+float(lst[27444]))/2\n",
    "    w=(float(lst[27455])+float(lst[27456]))/2\n",
    "    x=(float(lst[27467])+float(lst[27468]))/2\n",
    "    y=(float(lst[27479])+float(lst[27480]))/2\n",
    "    temp_crn=[a,b,c,d,e,f,g,h,i,j,k,l,m,n,o,p,q,r,s,t,u,v,w,x,y]\n",
    "    print(temp_crn)"
   ]
  },
  {
   "cell_type": "code",
   "execution_count": 83,
   "id": "18c37a9b",
   "metadata": {},
   "outputs": [
    {
     "name": "stdout",
     "output_type": "stream",
     "text": [
      "[0.22529999999999717, -0.03190000000000026, -0.27360000000000184, -0.04540000000000077, -0.010300000000000864, -0.5249000000000024, 0.04949999999999832, 0.113900000000001, 0.8414999999999999, 1.5090000000000003, 2.793300000000002, 2.6502000000000017, 0.2414999999999985, 0.5518999999999998, 0.007800000000003138, -0.4056999999999995, -1.2064999999999984, -0.9110000000000014, -1.2824999999999989, -0.8857999999999997, -1.1668999999999983, -1.6860999999999997, -1.5119000000000007, -1.6784999999999997, -1.448999999999998]\n"
     ]
    }
   ],
   "source": [
    "difference3_laf = []\n",
    "\n",
    "zip_object = zip(temp, temp_crn)\n",
    "for temp_i, temp_crn_i in zip_object:\n",
    "    difference3_laf.append(temp_i-temp_crn_i)\n",
    "\n",
    "print(difference3_laf)"
   ]
  },
  {
   "cell_type": "markdown",
   "id": "6bc47d22",
   "metadata": {},
   "source": [
    "<font size=\"3\">Monroe, LA: 1000 UTC 5 April 2022-1000 UTC 6 April 2022</font>"
   ]
  },
  {
   "cell_type": "code",
   "execution_count": 84,
   "id": "ff3754c7",
   "metadata": {},
   "outputs": [
    {
     "name": "stdout",
     "output_type": "stream",
     "text": [
      "[18.3878, 17.6306, 17.3264, 17.3921, 17.8522, 19.2001, 21.2995, 21.4889, 22.8665, 24.5465, 24.1308, 24.8877, 25.3665, 24.5394, 23.9078, 22.2443, 21.381, 20.4515, 20.9175, 20.6892, 20.5956, 21.5264, 21.7131, 21.5715, 21.3885]\n",
      "25\n"
     ]
    }
   ],
   "source": [
    "#12 hr hrrr:\n",
    "with open('hrrr_f12_Monroe_LA.txt') as f:\n",
    "    lst=[line.split()[1] for line in f]\n",
    "    temp=[]\n",
    "    for i in lst:\n",
    "        new=i.replace(',',\"\")\n",
    "        temp.append(new)\n",
    "    temp.pop(0)\n",
    "    temp=[float(x) for x in temp]\n",
    "    temp=temp[2254:2279]\n",
    "    #temp=temp[2015:2063]\n",
    "    print(temp)\n",
    "    print(len(temp))\n",
    "#full time period is [2015:2112]"
   ]
  },
  {
   "cell_type": "code",
   "execution_count": 85,
   "id": "91eb6091",
   "metadata": {},
   "outputs": [
    {
     "name": "stdout",
     "output_type": "stream",
     "text": [
      "[16.35, 16.2, 16.05, 16.1, 16.4, 17.45, 19.700000000000003, 22.45, 24.950000000000003, 26.35, 27.6, 28.45, 28.9, 28.3, 24.05, 20.65, 19.8, 21.950000000000003, 22.9, 22.65, 22.45, 22.5, 22.6, 22.4, 22.15]\n"
     ]
    }
   ],
   "source": [
    "#Air Temp CRN:\n",
    "with open('CRNS0101-05-2022-LA_Monroe_26_N.txt') as f:\n",
    "    lst=[line.split()[8] for line in f]\n",
    "    \n",
    "    a=(float(lst[27191])+float(lst[27192]))/2\n",
    "    b=(float(lst[27203])+float(lst[27204]))/2\n",
    "    c=(float(lst[27215])+float(lst[27216]))/2\n",
    "    d=(float(lst[27227])+float(lst[27228]))/2\n",
    "    e=(float(lst[27239])+float(lst[27240]))/2\n",
    "    f=(float(lst[27251])+float(lst[27252]))/2\n",
    "    g=(float(lst[27263])+float(lst[27264]))/2\n",
    "    h=(float(lst[27275])+float(lst[27276]))/2\n",
    "    i=(float(lst[27287])+float(lst[27288]))/2\n",
    "    j=(float(lst[27299])+float(lst[27300]))/2\n",
    "    k=(float(lst[27311])+float(lst[27312]))/2\n",
    "    l=(float(lst[27323])+float(lst[27324]))/2\n",
    "    m=(float(lst[27335])+float(lst[27336]))/2\n",
    "    n=(float(lst[27347])+float(lst[27348]))/2\n",
    "    o=(float(lst[27359])+float(lst[27360]))/2\n",
    "    p=(float(lst[27371])+float(lst[27372]))/2\n",
    "    q=(float(lst[27383])+float(lst[27384]))/2\n",
    "    r=(float(lst[27395])+float(lst[27396]))/2\n",
    "    s=(float(lst[27407])+float(lst[27408]))/2\n",
    "    t=(float(lst[27419])+float(lst[27420]))/2\n",
    "    u=(float(lst[27431])+float(lst[27432]))/2\n",
    "    v=(float(lst[27443])+float(lst[27444]))/2\n",
    "    w=(float(lst[27455])+float(lst[27456]))/2\n",
    "    x=(float(lst[27467])+float(lst[27468]))/2\n",
    "    y=(float(lst[27479])+float(lst[27480]))/2\n",
    "    temp_crn=[a,b,c,d,e,f,g,h,i,j,k,l,m,n,o,p,q,r,s,t,u,v,w,x,y]\n",
    "    print(temp_crn)"
   ]
  },
  {
   "cell_type": "code",
   "execution_count": 86,
   "id": "cc1402aa",
   "metadata": {},
   "outputs": [
    {
     "name": "stdout",
     "output_type": "stream",
     "text": [
      "[2.037799999999997, 1.4306000000000019, 1.2763999999999989, 1.2920999999999978, 1.4522000000000013, 1.7500999999999998, 1.5994999999999955, -0.9610999999999983, -2.0835000000000043, -1.8034999999999997, -3.4692000000000007, -3.5623000000000005, -3.5335, -3.7606, -0.142199999999999, 1.5943000000000005, 1.5809999999999995, -1.4985000000000035, -1.9824999999999982, -1.960799999999999, -1.8543999999999983, -0.9736000000000011, -0.8869000000000007, -0.8284999999999982, -0.7614999999999981]\n"
     ]
    }
   ],
   "source": [
    "difference3_mon = []\n",
    "\n",
    "zip_object = zip(temp, temp_crn)\n",
    "for temp_i, temp_crn_i in zip_object:\n",
    "    difference3_mon.append(temp_i-temp_crn_i)\n",
    "\n",
    "print(difference3_mon)"
   ]
  },
  {
   "cell_type": "markdown",
   "id": "8e498386",
   "metadata": {},
   "source": [
    "<font size=\"3\">Holly Springs, MS: 1100 UTC 5 April 2022-1100 UTC 6 April 2022</font>"
   ]
  },
  {
   "cell_type": "code",
   "execution_count": 87,
   "id": "4b862993",
   "metadata": {},
   "outputs": [
    {
     "name": "stdout",
     "output_type": "stream",
     "text": [
      "[14.8806, 13.3264, 13.2046, 14.0397, 14.5751, 14.1745, 14.3639, 16.2415, 17.234, 18.9433, 17.6377, 17.6165, 17.2894, 17.0953, 16.8693, 16.256, 15.639, 14.23, 13.9392, 14.5956, 15.2764, 15.7131, 16.8215, 17.8885, 18.1015]\n",
      "25\n"
     ]
    }
   ],
   "source": [
    "#12 hr hrrr:\n",
    "with open('hrrr_f12_Holly Springs_MS.txt') as f:\n",
    "    lst=[line.split()[1] for line in f]\n",
    "    temp=[]\n",
    "    for i in lst:\n",
    "        new=i.replace(',',\"\")\n",
    "        temp.append(new)\n",
    "    temp.pop(0)\n",
    "    temp=[float(x) for x in temp]\n",
    "    temp=temp[2255:2280]\n",
    "    #temp=temp[2015:2063]\n",
    "    print(temp)\n",
    "    print(len(temp))\n",
    "#full time period is [2015:2112]"
   ]
  },
  {
   "cell_type": "code",
   "execution_count": 88,
   "id": "321afed1",
   "metadata": {},
   "outputs": [
    {
     "name": "stdout",
     "output_type": "stream",
     "text": [
      "[12.6, 12.5, 12.9, 13.1, 13.05, 13.45, 13.95, 15.5, 16.5, 17.85, 18.55, 20.200000000000003, 20.3, 16.85, 14.2, 14.35, 15.1, 14.55, 14.3, 14.2, 13.8, 13.7, 15.9, 16.75, 17.45]\n"
     ]
    }
   ],
   "source": [
    "#Air Temp CRN:\n",
    "with open('CRNS0101-05-2022-MS_Holly_Springs_4_N.txt') as f:\n",
    "    lst=[line.split()[8] for line in f]\n",
    "    \n",
    "    a=(float(lst[27203])+float(lst[27204]))/2\n",
    "    b=(float(lst[27215])+float(lst[27216]))/2\n",
    "    c=(float(lst[27227])+float(lst[27228]))/2\n",
    "    d=(float(lst[27239])+float(lst[27240]))/2\n",
    "    e=(float(lst[27251])+float(lst[27252]))/2\n",
    "    f=(float(lst[27263])+float(lst[27264]))/2\n",
    "    g=(float(lst[27275])+float(lst[27276]))/2\n",
    "    h=(float(lst[27287])+float(lst[27288]))/2\n",
    "    i=(float(lst[27299])+float(lst[27300]))/2\n",
    "    j=(float(lst[27311])+float(lst[27312]))/2\n",
    "    k=(float(lst[27323])+float(lst[27324]))/2\n",
    "    l=(float(lst[27335])+float(lst[27336]))/2\n",
    "    m=(float(lst[27347])+float(lst[27348]))/2\n",
    "    n=(float(lst[27359])+float(lst[27360]))/2\n",
    "    o=(float(lst[27371])+float(lst[27372]))/2\n",
    "    p=(float(lst[27383])+float(lst[27384]))/2\n",
    "    q=(float(lst[27395])+float(lst[27396]))/2\n",
    "    r=(float(lst[27407])+float(lst[27408]))/2\n",
    "    s=(float(lst[27419])+float(lst[27420]))/2\n",
    "    t=(float(lst[27431])+float(lst[27432]))/2\n",
    "    u=(float(lst[27443])+float(lst[27444]))/2\n",
    "    v=(float(lst[27455])+float(lst[27456]))/2\n",
    "    w=(float(lst[27467])+float(lst[27468]))/2\n",
    "    x=(float(lst[27479])+float(lst[27480]))/2\n",
    "    y=(float(lst[27491])+float(lst[27492]))/2\n",
    "    temp_crn=[a,b,c,d,e,f,g,h,i,j,k,l,m,n,o,p,q,r,s,t,u,v,w,x,y]\n",
    "    print(temp_crn)"
   ]
  },
  {
   "cell_type": "code",
   "execution_count": 89,
   "id": "9625595c",
   "metadata": {},
   "outputs": [
    {
     "name": "stdout",
     "output_type": "stream",
     "text": [
      "[2.2805999999999997, 0.8263999999999996, 0.30459999999999887, 0.9397000000000002, 1.5251000000000001, 0.7245000000000008, 0.41389999999999993, 0.7414999999999985, 0.7340000000000018, 1.0932999999999993, -0.9123000000000019, -2.5835000000000043, -3.0106, 0.2453000000000003, 2.6693, 1.9060000000000006, 0.5389999999999997, -0.3200000000000003, -0.3608000000000011, 0.39559999999999995, 1.4764, 2.0131000000000014, 0.9215, 1.1385000000000005, 0.6515000000000022]\n"
     ]
    }
   ],
   "source": [
    "difference3_hol = []\n",
    "\n",
    "zip_object = zip(temp, temp_crn)\n",
    "for temp_i, temp_crn_i in zip_object:\n",
    "    difference3_hol.append(temp_i-temp_crn_i)\n",
    "\n",
    "print(difference3_hol)"
   ]
  },
  {
   "cell_type": "markdown",
   "id": "cec214d2",
   "metadata": {},
   "source": [
    "<font size=\"3\">Newton, MS: 1100 UTC 5 April 2022-1100 UTC 6 April 2022</font>"
   ]
  },
  {
   "cell_type": "code",
   "execution_count": 90,
   "id": "503148e4",
   "metadata": {},
   "outputs": [
    {
     "name": "stdout",
     "output_type": "stream",
     "text": [
      "[18.1306, 19.2014, 20.6421, 17.2272, 17.3876, 18.0495, 22.2389, 20.929, 23.7965, 24.0058, 23.6377, 23.429, 22.9769, 21.8453, 21.0568, 19.6935, 19.514, 18.73, 19.1892, 17.4081, 19.2139, 19.5256, 20.1965, 20.7635, 20.664]\n",
      "25\n"
     ]
    }
   ],
   "source": [
    "#12 hr hrrr:\n",
    "with open('hrrr_f12_Newton_MS.txt') as f:\n",
    "    lst=[line.split()[1] for line in f]\n",
    "    temp=[]\n",
    "    for i in lst:\n",
    "        new=i.replace(',',\"\")\n",
    "        temp.append(new)\n",
    "    temp.pop(0)\n",
    "    temp=[float(x) for x in temp]\n",
    "    temp=temp[2255:2280]\n",
    "    #temp=temp[2015:2063]\n",
    "    print(temp)\n",
    "    print(len(temp))\n",
    "#full time period is [2015:2112]"
   ]
  },
  {
   "cell_type": "code",
   "execution_count": 91,
   "id": "07926657",
   "metadata": {},
   "outputs": [
    {
     "name": "stdout",
     "output_type": "stream",
     "text": [
      "[17.299999999999997, 18.65, 18.4, 17.95, 17.9, 17.2, 18.75, 21.25, 22.65, 24.049999999999997, 24.549999999999997, 23.950000000000003, 22.8, 21.05, 19.9, 19.6, 19.35, 19.7, 19.6, 19.6, 19.95, 20.85, 21.2, 21.5, 21.85]\n"
     ]
    }
   ],
   "source": [
    "#Air Temp CRN:\n",
    "with open('CRNS0101-05-2022-MS_Newton_5_ENE.txt') as f:\n",
    "    lst=[line.split()[8] for line in f]\n",
    "    \n",
    "    a=(float(lst[27203])+float(lst[27204]))/2\n",
    "    b=(float(lst[27215])+float(lst[27216]))/2\n",
    "    c=(float(lst[27227])+float(lst[27228]))/2\n",
    "    d=(float(lst[27239])+float(lst[27240]))/2\n",
    "    e=(float(lst[27251])+float(lst[27252]))/2\n",
    "    f=(float(lst[27263])+float(lst[27264]))/2\n",
    "    g=(float(lst[27275])+float(lst[27276]))/2\n",
    "    h=(float(lst[27287])+float(lst[27288]))/2\n",
    "    i=(float(lst[27299])+float(lst[27300]))/2\n",
    "    j=(float(lst[27311])+float(lst[27312]))/2\n",
    "    k=(float(lst[27323])+float(lst[27324]))/2\n",
    "    l=(float(lst[27335])+float(lst[27336]))/2\n",
    "    m=(float(lst[27347])+float(lst[27348]))/2\n",
    "    n=(float(lst[27359])+float(lst[27360]))/2\n",
    "    o=(float(lst[27371])+float(lst[27372]))/2\n",
    "    p=(float(lst[27383])+float(lst[27384]))/2\n",
    "    q=(float(lst[27395])+float(lst[27396]))/2\n",
    "    r=(float(lst[27407])+float(lst[27408]))/2\n",
    "    s=(float(lst[27419])+float(lst[27420]))/2\n",
    "    t=(float(lst[27431])+float(lst[27432]))/2\n",
    "    u=(float(lst[27443])+float(lst[27444]))/2\n",
    "    v=(float(lst[27455])+float(lst[27456]))/2\n",
    "    w=(float(lst[27467])+float(lst[27468]))/2\n",
    "    x=(float(lst[27479])+float(lst[27480]))/2\n",
    "    y=(float(lst[27491])+float(lst[27492]))/2\n",
    "    temp_crn=[a,b,c,d,e,f,g,h,i,j,k,l,m,n,o,p,q,r,s,t,u,v,w,x,y]\n",
    "    print(temp_crn)"
   ]
  },
  {
   "cell_type": "code",
   "execution_count": 92,
   "id": "a83781b3",
   "metadata": {},
   "outputs": [
    {
     "name": "stdout",
     "output_type": "stream",
     "text": [
      "[0.830600000000004, 0.551400000000001, 2.2421000000000006, -0.7227999999999994, -0.5123999999999995, 0.849499999999999, 3.488900000000001, -0.3210000000000015, 1.1465000000000032, -0.044199999999996464, -0.9122999999999983, -0.5210000000000043, 0.17689999999999984, 0.795300000000001, 1.1568000000000005, 0.0934999999999988, 0.16399999999999793, -0.9699999999999989, -0.41080000000000183, -2.1919000000000004, -0.7361000000000004, -1.3244000000000007, -1.003499999999999, -0.7364999999999995, -1.186]\n"
     ]
    }
   ],
   "source": [
    "difference3_new = []\n",
    "\n",
    "zip_object = zip(temp, temp_crn)\n",
    "for temp_i, temp_crn_i in zip_object:\n",
    "    difference3_new.append(temp_i-temp_crn_i)\n",
    "\n",
    "print(difference3_new)"
   ]
  },
  {
   "cell_type": "markdown",
   "id": "576090a5",
   "metadata": {},
   "source": [
    "<font size=\"3\">Gainesville, AL: 1300 UTC 5 April 2022-1300 UTC 6 April 2022</font>"
   ]
  },
  {
   "cell_type": "code",
   "execution_count": 93,
   "id": "48d4bab2",
   "metadata": {},
   "outputs": [
    {
     "name": "stdout",
     "output_type": "stream",
     "text": [
      "[18.5171, 19.0397, 18.0126, 17.612, 19.2389, 20.554, 23.1715, 24.8808, 23.3252, 22.804, 22.7894, 22.4703, 21.0568, 19.6935, 20.2015, 19.1675, 18.0642, 17.2206, 17.5264, 18.5256, 18.509, 19.576, 19.789, 20.3433, 20.8504]\n",
      "25\n"
     ]
    }
   ],
   "source": [
    "#12 hr hrrr:\n",
    "with open('hrrr_f12_Gainesville_AL.txt') as f:\n",
    "    lst=[line.split()[1] for line in f]\n",
    "    temp=[]\n",
    "    for i in lst:\n",
    "        new=i.replace(',',\"\")\n",
    "        temp.append(new)\n",
    "    temp.pop(0)\n",
    "    temp=[float(x) for x in temp]\n",
    "    temp=temp[2257:2282]\n",
    "    #temp=temp[2015:2063]\n",
    "    print(temp)\n",
    "    print(len(temp))\n",
    "#full time period is [2015:2112]"
   ]
  },
  {
   "cell_type": "code",
   "execution_count": 94,
   "id": "cff6042c",
   "metadata": {},
   "outputs": [
    {
     "name": "stdout",
     "output_type": "stream",
     "text": [
      "[16.15, 15.9, 16.85, 18.0, 17.95, 20.45, 22.1, 24.35, 25.45, 25.45, 24.5, 22.4, 20.6, 19.5, 18.55, 18.2, 18.85, 19.0, 19.1, 19.8, 20.1, 20.2, 20.4, 20.8, 21.45]\n"
     ]
    }
   ],
   "source": [
    "#Air Temp CRN:\n",
    "with open('CRNS0101-05-2022-AL_Gainesville_2_NE.txt') as f:\n",
    "    lst=[line.split()[8] for line in f]\n",
    "    \n",
    "    a=(float(lst[27227])+float(lst[27228]))/2\n",
    "    b=(float(lst[27239])+float(lst[27240]))/2\n",
    "    c=(float(lst[27251])+float(lst[27252]))/2\n",
    "    d=(float(lst[27263])+float(lst[27264]))/2\n",
    "    e=(float(lst[27275])+float(lst[27276]))/2\n",
    "    f=(float(lst[27287])+float(lst[27288]))/2\n",
    "    g=(float(lst[27299])+float(lst[27300]))/2\n",
    "    h=(float(lst[27311])+float(lst[27312]))/2\n",
    "    i=(float(lst[27323])+float(lst[27324]))/2\n",
    "    j=(float(lst[27335])+float(lst[27336]))/2\n",
    "    k=(float(lst[27347])+float(lst[27348]))/2\n",
    "    l=(float(lst[27359])+float(lst[27360]))/2\n",
    "    m=(float(lst[27371])+float(lst[27372]))/2\n",
    "    n=(float(lst[27383])+float(lst[27384]))/2\n",
    "    o=(float(lst[27395])+float(lst[27396]))/2\n",
    "    p=(float(lst[27407])+float(lst[27408]))/2\n",
    "    q=(float(lst[27419])+float(lst[27420]))/2\n",
    "    r=(float(lst[27431])+float(lst[27432]))/2\n",
    "    s=(float(lst[27443])+float(lst[27444]))/2\n",
    "    t=(float(lst[27455])+float(lst[27456]))/2\n",
    "    u=(float(lst[27467])+float(lst[27468]))/2\n",
    "    v=(float(lst[27479])+float(lst[27480]))/2\n",
    "    w=(float(lst[27491])+float(lst[27492]))/2\n",
    "    x=(float(lst[27503])+float(lst[27504]))/2\n",
    "    y=(float(lst[27515])+float(lst[27516]))/2\n",
    "    temp_crn=[a,b,c,d,e,f,g,h,i,j,k,l,m,n,o,p,q,r,s,t,u,v,w,x,y]\n",
    "    print(temp_crn)"
   ]
  },
  {
   "cell_type": "code",
   "execution_count": 95,
   "id": "b1176cf2",
   "metadata": {},
   "outputs": [
    {
     "name": "stdout",
     "output_type": "stream",
     "text": [
      "[2.3671000000000006, 3.1396999999999995, 1.1625999999999976, -0.3880000000000017, 1.2889000000000017, 0.1039999999999992, 1.0715000000000003, 0.5307999999999993, -2.1248000000000005, -2.646000000000001, -1.7105999999999995, 0.07030000000000314, 0.45679999999999765, 0.19350000000000023, 1.6514999999999986, 0.9675000000000011, -0.7858000000000018, -1.779399999999999, -1.5736000000000026, -1.2744, -1.591000000000001, -0.6239999999999988, -0.6109999999999971, -0.45670000000000144, -0.5995999999999988]\n"
     ]
    }
   ],
   "source": [
    "difference3_gai = []\n",
    "\n",
    "zip_object = zip(temp, temp_crn)\n",
    "for temp_i, temp_crn_i in zip_object:\n",
    "    difference3_gai.append(temp_i-temp_crn_i)\n",
    "\n",
    "print(difference3_gai)"
   ]
  },
  {
   "cell_type": "markdown",
   "id": "0a541e7a",
   "metadata": {},
   "source": [
    "<font size=\"3\">Fairhope, AL: 1300 UTC 5 April 2022-1300 UTC 6 April 2022</font>"
   ]
  },
  {
   "cell_type": "code",
   "execution_count": 96,
   "id": "26818932",
   "metadata": {},
   "outputs": [
    {
     "name": "stdout",
     "output_type": "stream",
     "text": [
      "[22.5171, 23.2272, 23.9501, 24.237, 24.1764, 24.304, 23.609, 19.6933, 20.3877, 21.4915, 19.9144, 20.5953, 21.8693, 21.756, 21.8265, 21.7925, 21.8142, 21.7831, 21.7139, 21.7131, 21.6965, 21.7635, 21.9765, 21.9058, 22.2254]\n",
      "25\n"
     ]
    }
   ],
   "source": [
    "#12 hr hrrr:\n",
    "with open('hrrr_f12_Fairhope_AL.txt') as f:\n",
    "    lst=[line.split()[1] for line in f]\n",
    "    temp=[]\n",
    "    for i in lst:\n",
    "        new=i.replace(',',\"\")\n",
    "        temp.append(new)\n",
    "    temp.pop(0)\n",
    "    temp=[float(x) for x in temp]\n",
    "    temp=temp[2257:2282]\n",
    "    #temp=temp[2015:2063]\n",
    "    print(temp)\n",
    "    print(len(temp))\n",
    "#full time period is [2015:2112]"
   ]
  },
  {
   "cell_type": "code",
   "execution_count": 97,
   "id": "aacaaf75",
   "metadata": {},
   "outputs": [
    {
     "name": "stdout",
     "output_type": "stream",
     "text": [
      "[23.5, 23.9, 24.4, 23.9, 23.45, 16.1, 16.45, 17.3, 18.6, 18.45, 18.9, 19.5, 19.75, 20.15, 20.95, 22.8, 22.9, 22.8, 22.9, 22.6, 22.6, 22.7, 22.8, 22.7, 23.55]\n"
     ]
    }
   ],
   "source": [
    "#Air Temp CRN:\n",
    "with open('CRNS0101-05-2022-AL_Fairhope_3_NE.txt') as f:\n",
    "    lst=[line.split()[8] for line in f]\n",
    "    \n",
    "    a=(float(lst[27227])+float(lst[27228]))/2\n",
    "    b=(float(lst[27239])+float(lst[27240]))/2\n",
    "    c=(float(lst[27251])+float(lst[27252]))/2\n",
    "    d=(float(lst[27263])+float(lst[27264]))/2\n",
    "    e=(float(lst[27275])+float(lst[27276]))/2\n",
    "    f=(float(lst[27287])+float(lst[27288]))/2\n",
    "    g=(float(lst[27299])+float(lst[27300]))/2\n",
    "    h=(float(lst[27311])+float(lst[27312]))/2\n",
    "    i=(float(lst[27323])+float(lst[27324]))/2\n",
    "    j=(float(lst[27335])+float(lst[27336]))/2\n",
    "    k=(float(lst[27347])+float(lst[27348]))/2\n",
    "    l=(float(lst[27359])+float(lst[27360]))/2\n",
    "    m=(float(lst[27371])+float(lst[27372]))/2\n",
    "    n=(float(lst[27383])+float(lst[27384]))/2\n",
    "    o=(float(lst[27395])+float(lst[27396]))/2\n",
    "    p=(float(lst[27407])+float(lst[27408]))/2\n",
    "    q=(float(lst[27419])+float(lst[27420]))/2\n",
    "    r=(float(lst[27431])+float(lst[27432]))/2\n",
    "    s=(float(lst[27443])+float(lst[27444]))/2\n",
    "    t=(float(lst[27455])+float(lst[27456]))/2\n",
    "    u=(float(lst[27467])+float(lst[27468]))/2\n",
    "    v=(float(lst[27479])+float(lst[27480]))/2\n",
    "    w=(float(lst[27491])+float(lst[27492]))/2\n",
    "    x=(float(lst[27503])+float(lst[27504]))/2\n",
    "    y=(float(lst[27515])+float(lst[27516]))/2\n",
    "    temp_crn=[a,b,c,d,e,f,g,h,i,j,k,l,m,n,o,p,q,r,s,t,u,v,w,x,y]\n",
    "    print(temp_crn)"
   ]
  },
  {
   "cell_type": "code",
   "execution_count": 98,
   "id": "e08d6481",
   "metadata": {},
   "outputs": [
    {
     "name": "stdout",
     "output_type": "stream",
     "text": [
      "[-0.9829000000000008, -0.6727999999999987, -0.4498999999999995, 0.33699999999999974, 0.7264000000000017, 8.203999999999997, 7.1590000000000025, 2.3933, 1.7876999999999974, 3.041499999999999, 1.014400000000002, 1.0953000000000017, 2.119299999999999, 1.6060000000000016, 0.8765000000000001, -1.0075000000000003, -1.085799999999999, -1.0168999999999997, -1.1860999999999997, -0.8869000000000007, -0.9035000000000011, -0.9364999999999988, -0.8234999999999992, -0.7942, -1.3246000000000002]\n"
     ]
    }
   ],
   "source": [
    "difference3_fai = []\n",
    "\n",
    "zip_object = zip(temp, temp_crn)\n",
    "for temp_i, temp_crn_i in zip_object:\n",
    "    difference3_fai.append(temp_i-temp_crn_i)\n",
    "\n",
    "print(difference3_fai)"
   ]
  },
  {
   "cell_type": "markdown",
   "id": "817a1997",
   "metadata": {},
   "source": [
    "<font size=\"3\">Selma, AL: 1300 UTC 5 April 2022-1300 UTC 6 April 2022</font>"
   ]
  },
  {
   "cell_type": "code",
   "execution_count": 99,
   "id": "3850a5ea",
   "metadata": {},
   "outputs": [
    {
     "name": "stdout",
     "output_type": "stream",
     "text": [
      "[18.0171, 19.3522, 20.6376, 19.987, 20.9264, 19.554, 19.0465, 20.8183, 21.8877, 20.8665, 20.4144, 19.0328, 19.1193, 18.8185, 18.139, 18.605, 17.6267, 18.0331, 17.8389, 17.9006, 18.1965, 18.6385, 19.3515, 19.2183, 21.0379]\n"
     ]
    }
   ],
   "source": [
    "#1 hr hrrr:\n",
    "with open('hrrr_f12_Selma_AL.txt') as f:\n",
    "    lst=[line.split()[1] for line in f]\n",
    "    temp=[]\n",
    "    for i in lst:\n",
    "        new=i.replace(',',\"\")\n",
    "        temp.append(new)\n",
    "    temp.pop(0)\n",
    "    temp=[float(x) for x in temp]\n",
    "    temp=temp[2257:2282]\n",
    "    print(temp)"
   ]
  },
  {
   "cell_type": "code",
   "execution_count": 100,
   "id": "a77fd0d0",
   "metadata": {},
   "outputs": [
    {
     "name": "stdout",
     "output_type": "stream",
     "text": [
      "[16.55, 16.950000000000003, 19.75, 19.3, 18.55, 17.7, 18.1, 18.799999999999997, 19.65, 19.95, 19.2, 18.55, 17.95, 18.05, 17.4, 17.85, 19.05, 19.5, 19.55, 19.3, 19.35, 19.75, 20.15, 20.4, 20.55]\n"
     ]
    }
   ],
   "source": [
    "#Air Temp CRN:\n",
    "with open('CRNS0101-05-2022-AL_Selma_13_WNW.txt') as f:\n",
    "    lst=[line.split()[8] for line in f]\n",
    "    \n",
    "    a=(float(lst[27227])+float(lst[27228]))/2\n",
    "    b=(float(lst[27239])+float(lst[27240]))/2\n",
    "    c=(float(lst[27251])+float(lst[27252]))/2\n",
    "    d=(float(lst[27263])+float(lst[27264]))/2\n",
    "    e=(float(lst[27275])+float(lst[27276]))/2\n",
    "    f=(float(lst[27287])+float(lst[27288]))/2\n",
    "    g=(float(lst[27299])+float(lst[27300]))/2\n",
    "    h=(float(lst[27311])+float(lst[27312]))/2\n",
    "    i=(float(lst[27323])+float(lst[27324]))/2\n",
    "    j=(float(lst[27335])+float(lst[27336]))/2\n",
    "    k=(float(lst[27347])+float(lst[27348]))/2\n",
    "    l=(float(lst[27359])+float(lst[27360]))/2\n",
    "    m=(float(lst[27371])+float(lst[27372]))/2\n",
    "    n=(float(lst[27383])+float(lst[27384]))/2\n",
    "    o=(float(lst[27395])+float(lst[27396]))/2\n",
    "    p=(float(lst[27407])+float(lst[27408]))/2\n",
    "    q=(float(lst[27419])+float(lst[27420]))/2\n",
    "    r=(float(lst[27431])+float(lst[27432]))/2\n",
    "    s=(float(lst[27443])+float(lst[27444]))/2\n",
    "    t=(float(lst[27455])+float(lst[27456]))/2\n",
    "    u=(float(lst[27467])+float(lst[27468]))/2\n",
    "    v=(float(lst[27479])+float(lst[27480]))/2\n",
    "    w=(float(lst[27491])+float(lst[27492]))/2\n",
    "    x=(float(lst[27503])+float(lst[27504]))/2\n",
    "    y=(float(lst[27515])+float(lst[27516]))/2\n",
    "    temp_crn=[a,b,c,d,e,f,g,h,i,j,k,l,m,n,o,p,q,r,s,t,u,v,w,x,y]\n",
    "    print(temp_crn)"
   ]
  },
  {
   "cell_type": "code",
   "execution_count": 101,
   "id": "6b41efd2",
   "metadata": {},
   "outputs": [
    {
     "name": "stdout",
     "output_type": "stream",
     "text": [
      "[1.4670999999999985, 2.402199999999997, 0.8875999999999991, 0.6869999999999976, 2.3764000000000003, 1.8539999999999992, 0.9465000000000003, 2.0183000000000035, 2.2377000000000002, 0.9164999999999992, 1.2144000000000013, 0.482800000000001, 1.1692999999999998, 0.7684999999999995, 0.7390000000000008, 0.754999999999999, -1.4233000000000011, -1.466899999999999, -1.7111000000000018, -1.3994, -1.153500000000001, -1.1114999999999995, -0.7984999999999971, -1.1816999999999993, 0.4878999999999998]\n",
      "25\n"
     ]
    }
   ],
   "source": [
    "difference3_sel = []\n",
    "\n",
    "zip_object = zip(temp, temp_crn)\n",
    "for temp_i, temp_crn_i in zip_object:\n",
    "    difference3_sel.append(temp_i-temp_crn_i)\n",
    "\n",
    "print(difference3_sel)\n",
    "print(len(difference3_sel))"
   ]
  },
  {
   "cell_type": "markdown",
   "id": "8492b45b",
   "metadata": {},
   "source": [
    "<font size=\"3\">Bowling Green, KY: 1500 UTC 5 April 2022-1500 UTC 6 April 2022</font>"
   ]
  },
  {
   "cell_type": "code",
   "execution_count": 102,
   "id": "f04dad03",
   "metadata": {},
   "outputs": [
    {
     "name": "stdout",
     "output_type": "stream",
     "text": [
      "[15.2626, 17.112, 16.4264, 14.2415, 13.484, 14.5058, 13.3252, 13.304, 12.3519, 12.3453, 10.5568, 9.75601, 9.07651, 8.79248, 9.68918, 9.09561, 9.02637, 9.2756, 9.1965, 9.76346, 10.1015, 10.8433, 11.7254, 13.0771, 13.7357]\n",
      "25\n"
     ]
    }
   ],
   "source": [
    "#12 hr hrrr:\n",
    "with open('hrrr_f12_Bowling Green_KY.txt') as f:\n",
    "    lst=[line.split()[1] for line in f]\n",
    "    temp=[]\n",
    "    for i in lst:\n",
    "        new=i.replace(',',\"\")\n",
    "        temp.append(new)\n",
    "    temp.pop(0)\n",
    "    temp=[float(x) for x in temp]\n",
    "    temp=temp[2259:2284]\n",
    "    #temp=temp[2015:2063]\n",
    "    print(temp)\n",
    "    print(len(temp))"
   ]
  },
  {
   "cell_type": "code",
   "execution_count": 103,
   "id": "51bfc81e",
   "metadata": {},
   "outputs": [
    {
     "name": "stdout",
     "output_type": "stream",
     "text": [
      "[12.2, 11.7, 12.2, 12.649999999999999, 11.850000000000001, 12.2, 12.2, 12.55, 12.4, 12.149999999999999, 11.850000000000001, 11.149999999999999, 10.4, 10.1, 10.55, 10.4, 10.8, 11.0, 11.149999999999999, 11.0, 11.25, 11.6, 12.5, 13.149999999999999, 14.05]\n"
     ]
    }
   ],
   "source": [
    "#Air Temp CRN:\n",
    "with open('CRNS0101-05-2022-KY_Bowling_Green_21_NNE.txt') as f:\n",
    "    lst=[line.split()[8] for line in f]\n",
    "    \n",
    "    a=(float(lst[27251])+float(lst[27252]))/2\n",
    "    b=(float(lst[27263])+float(lst[27264]))/2\n",
    "    c=(float(lst[27275])+float(lst[27276]))/2\n",
    "    d=(float(lst[27287])+float(lst[27288]))/2\n",
    "    e=(float(lst[27299])+float(lst[27300]))/2\n",
    "    f=(float(lst[27311])+float(lst[27312]))/2\n",
    "    g=(float(lst[27323])+float(lst[27324]))/2\n",
    "    h=(float(lst[27335])+float(lst[27336]))/2\n",
    "    i=(float(lst[27347])+float(lst[27348]))/2\n",
    "    j=(float(lst[27359])+float(lst[27360]))/2\n",
    "    k=(float(lst[27371])+float(lst[27372]))/2\n",
    "    l=(float(lst[27383])+float(lst[27384]))/2\n",
    "    m=(float(lst[27395])+float(lst[27396]))/2\n",
    "    n=(float(lst[27407])+float(lst[27408]))/2\n",
    "    o=(float(lst[27419])+float(lst[27420]))/2\n",
    "    p=(float(lst[27431])+float(lst[27432]))/2\n",
    "    q=(float(lst[27443])+float(lst[27444]))/2\n",
    "    r=(float(lst[27455])+float(lst[27456]))/2\n",
    "    s=(float(lst[27467])+float(lst[27468]))/2\n",
    "    t=(float(lst[27479])+float(lst[27480]))/2\n",
    "    u=(float(lst[27491])+float(lst[27492]))/2\n",
    "    v=(float(lst[27503])+float(lst[27504]))/2\n",
    "    w=(float(lst[27515])+float(lst[27516]))/2\n",
    "    x=(float(lst[27527])+float(lst[27528]))/2\n",
    "    y=(float(lst[27539])+float(lst[27540]))/2\n",
    "    temp_crn=[a,b,c,d,e,f,g,h,i,j,k,l,m,n,o,p,q,r,s,t,u,v,w,x,y]\n",
    "    print(temp_crn)"
   ]
  },
  {
   "cell_type": "code",
   "execution_count": 104,
   "id": "8047270f",
   "metadata": {},
   "outputs": [
    {
     "name": "stdout",
     "output_type": "stream",
     "text": [
      "[3.0626000000000015, 5.411999999999999, 4.226400000000002, 1.5915000000000017, 1.6339999999999986, 2.3058000000000014, 1.1252000000000013, 0.7539999999999996, -0.04809999999999981, 0.19530000000000136, -1.2932000000000006, -1.3939899999999987, -1.3234899999999996, -1.3075200000000002, -0.8608200000000004, -1.3043899999999997, -1.7736300000000007, -1.7243999999999993, -1.9534999999999982, -1.2365399999999998, -1.1485000000000003, -0.7567000000000004, -0.7745999999999995, -0.07289999999999885, -0.31430000000000113]\n"
     ]
    }
   ],
   "source": [
    "difference3_bow = []\n",
    "\n",
    "zip_object = zip(temp, temp_crn)\n",
    "for temp_i, temp_crn_i in zip_object:\n",
    "    difference3_bow.append(temp_i-temp_crn_i)\n",
    "\n",
    "print(difference3_bow)"
   ]
  },
  {
   "cell_type": "markdown",
   "id": "e3343352",
   "metadata": {},
   "source": [
    "<font size=\"3\">Gadsden, AL: 1500 UTC 5 April 2022-1500 UTC 6 April 2022</font>"
   ]
  },
  {
   "cell_type": "code",
   "execution_count": 105,
   "id": "b5d956b1",
   "metadata": {},
   "outputs": [
    {
     "name": "stdout",
     "output_type": "stream",
     "text": [
      "[11.5751, 11.987, 13.3014, 13.429, 15.7965, 18.7558, 18.8877, 19.3665, 18.9144, 17.6578, 16.2443, 14.8185, 13.764, 12.6675, 12.8142, 12.5956, 12.4014, 12.5256, 13.3215, 14.0135, 14.4765, 14.7808, 15.2254, 16.2021, 17.4232]\n",
      "25\n"
     ]
    }
   ],
   "source": [
    "#12 hr hrrr:\n",
    "with open('hrrr_f12_Gadsden_AL.txt') as f:\n",
    "    lst=[line.split()[1] for line in f]\n",
    "    temp=[]\n",
    "    for i in lst:\n",
    "        new=i.replace(',',\"\")\n",
    "        temp.append(new)\n",
    "    temp.pop(0)\n",
    "    temp=[float(x) for x in temp]\n",
    "    temp=temp[2259:2284]\n",
    "    #temp=temp[2015:2063]\n",
    "    print(temp)\n",
    "    print(len(temp))\n",
    "#full time period is [2015:2112]"
   ]
  },
  {
   "cell_type": "code",
   "execution_count": 106,
   "id": "e7df9414",
   "metadata": {},
   "outputs": [
    {
     "name": "stdout",
     "output_type": "stream",
     "text": [
      "[11.1, 11.3, 11.9, 12.75, 15.5, 17.5, 18.05, 18.15, 18.5, 17.75, 16.3, 14.0, 12.45, 12.649999999999999, 13.4, 13.3, 13.9, 14.2, 14.350000000000001, 14.8, 14.95, 15.8, 16.45, 17.2, 17.9]\n"
     ]
    }
   ],
   "source": [
    "#Air Temp CRN:\n",
    "with open('CRNS0101-05-2022-AL_Gadsden_19_N.txt') as f:\n",
    "    lst=[line.split()[8] for line in f]\n",
    "    \n",
    "    a=(float(lst[27251])+float(lst[27252]))/2\n",
    "    b=(float(lst[27263])+float(lst[27264]))/2\n",
    "    c=(float(lst[27275])+float(lst[27276]))/2\n",
    "    d=(float(lst[27287])+float(lst[27288]))/2\n",
    "    e=(float(lst[27299])+float(lst[27300]))/2\n",
    "    f=(float(lst[27311])+float(lst[27312]))/2\n",
    "    g=(float(lst[27323])+float(lst[27324]))/2\n",
    "    h=(float(lst[27335])+float(lst[27336]))/2\n",
    "    i=(float(lst[27347])+float(lst[27348]))/2\n",
    "    j=(float(lst[27359])+float(lst[27360]))/2\n",
    "    k=(float(lst[27371])+float(lst[27372]))/2\n",
    "    l=(float(lst[27383])+float(lst[27384]))/2\n",
    "    m=(float(lst[27395])+float(lst[27396]))/2\n",
    "    n=(float(lst[27407])+float(lst[27408]))/2\n",
    "    o=(float(lst[27419])+float(lst[27420]))/2\n",
    "    p=(float(lst[27431])+float(lst[27432]))/2\n",
    "    q=(float(lst[27443])+float(lst[27444]))/2\n",
    "    r=(float(lst[27455])+float(lst[27456]))/2\n",
    "    s=(float(lst[27467])+float(lst[27468]))/2\n",
    "    t=(float(lst[27479])+float(lst[27480]))/2\n",
    "    u=(float(lst[27491])+float(lst[27492]))/2\n",
    "    v=(float(lst[27503])+float(lst[27504]))/2\n",
    "    w=(float(lst[27515])+float(lst[27516]))/2\n",
    "    x=(float(lst[27527])+float(lst[27528]))/2\n",
    "    y=(float(lst[27539])+float(lst[27540]))/2\n",
    "    temp_crn=[a,b,c,d,e,f,g,h,i,j,k,l,m,n,o,p,q,r,s,t,u,v,w,x,y]\n",
    "    print(temp_crn)"
   ]
  },
  {
   "cell_type": "code",
   "execution_count": 107,
   "id": "9ac3a61b",
   "metadata": {},
   "outputs": [
    {
     "name": "stdout",
     "output_type": "stream",
     "text": [
      "[0.4751000000000012, 0.6869999999999994, 1.4013999999999989, 0.6790000000000003, 0.2965, 1.2558000000000007, 0.8376999999999981, 1.2165, 0.41440000000000055, -0.09219999999999828, -0.05570000000000164, 0.8185000000000002, 1.314, 0.017500000000001847, -0.5858000000000008, -0.7044000000000015, -1.4985999999999997, -1.6743999999999986, -1.028500000000001, -0.7865000000000002, -0.4734999999999996, -1.0192000000000014, -1.2245999999999988, -0.9978999999999978, -0.4767999999999972]\n"
     ]
    }
   ],
   "source": [
    "difference3_gad = []\n",
    "\n",
    "zip_object = zip(temp, temp_crn)\n",
    "for temp_i, temp_crn_i in zip_object:\n",
    "    difference3_gad.append(temp_i-temp_crn_i)\n",
    "\n",
    "print(difference3_gad)"
   ]
  },
  {
   "cell_type": "markdown",
   "id": "24b41c3d",
   "metadata": {},
   "source": [
    "<font size=\"3\">Newton, GA: 1800 UTC 5 April 2022-1800 UTC 6 April 2022</font>"
   ]
  },
  {
   "cell_type": "code",
   "execution_count": 108,
   "id": "a8841de8",
   "metadata": {},
   "outputs": [
    {
     "name": "stdout",
     "output_type": "stream",
     "text": [
      "[25.7415, 27.6715, 28.2558, 26.9502, 22.8665, 18.9769, 18.9703, 19.1193, 19.131, 18.8265, 18.98, 18.7517, 21.5956, 21.0889, 20.5256, 19.009, 19.326, 18.2265, 18.5308, 21.0379, 23.1396, 24.2982, 25.0232, 26.2415, 25.5895]\n",
      "25\n"
     ]
    }
   ],
   "source": [
    "#12 hr hrrr:\n",
    "with open('hrrr_f12_Newton_GA.txt') as f:\n",
    "    lst=[line.split()[1] for line in f]\n",
    "    temp=[]\n",
    "    for i in lst:\n",
    "        new=i.replace(',',\"\")\n",
    "        temp.append(new)\n",
    "    temp.pop(0)\n",
    "    temp=[float(x) for x in temp]\n",
    "    temp=temp[2262:2287]\n",
    "    #temp=temp[2015:2063]\n",
    "    print(temp)\n",
    "    print(len(temp))\n",
    "#full time period is [2015:2112]"
   ]
  },
  {
   "cell_type": "code",
   "execution_count": 109,
   "id": "263bc114",
   "metadata": {},
   "outputs": [
    {
     "name": "stdout",
     "output_type": "stream",
     "text": [
      "[26.5, 26.85, 18.65, 17.2, 16.9, 16.9, 17.05, 17.1, 17.3, 16.9, 17.05, 17.3, 17.85, 18.45, 19.35, 20.05, 20.75, 21.3, 21.7, 22.85, 23.6, 24.95, 26.1, 26.85, 27.75]\n"
     ]
    }
   ],
   "source": [
    "#Air Temp CRN:\n",
    "with open('CRNS0101-05-2022-GA_Newton_11_SW.txt') as f:\n",
    "    lst=[line.split()[8] for line in f]\n",
    "    \n",
    "    a=(float(lst[27287])+float(lst[27288]))/2\n",
    "    b=(float(lst[27299])+float(lst[27300]))/2\n",
    "    c=(float(lst[27311])+float(lst[27312]))/2\n",
    "    d=(float(lst[27323])+float(lst[27324]))/2\n",
    "    e=(float(lst[27335])+float(lst[27336]))/2\n",
    "    f=(float(lst[27347])+float(lst[27348]))/2\n",
    "    g=(float(lst[27359])+float(lst[27360]))/2\n",
    "    h=(float(lst[27371])+float(lst[27372]))/2\n",
    "    i=(float(lst[27383])+float(lst[27384]))/2\n",
    "    j=(float(lst[27395])+float(lst[27396]))/2\n",
    "    k=(float(lst[27407])+float(lst[27408]))/2\n",
    "    l=(float(lst[27419])+float(lst[27420]))/2\n",
    "    m=(float(lst[27431])+float(lst[27432]))/2\n",
    "    n=(float(lst[27443])+float(lst[27444]))/2\n",
    "    o=(float(lst[27455])+float(lst[27456]))/2\n",
    "    p=(float(lst[27467])+float(lst[27468]))/2\n",
    "    q=(float(lst[27479])+float(lst[27480]))/2\n",
    "    r=(float(lst[27491])+float(lst[27492]))/2\n",
    "    s=(float(lst[27503])+float(lst[27504]))/2\n",
    "    t=(float(lst[27515])+float(lst[27516]))/2\n",
    "    u=(float(lst[27527])+float(lst[27528]))/2\n",
    "    v=(float(lst[27539])+float(lst[27540]))/2\n",
    "    w=(float(lst[27551])+float(lst[27552]))/2\n",
    "    x=(float(lst[27563])+float(lst[27564]))/2\n",
    "    y=(float(lst[27575])+float(lst[27576]))/2\n",
    "    temp_crn=[a,b,c,d,e,f,g,h,i,j,k,l,m,n,o,p,q,r,s,t,u,v,w,x,y]\n",
    "    print(temp_crn)"
   ]
  },
  {
   "cell_type": "code",
   "execution_count": 110,
   "id": "474e5fae",
   "metadata": {},
   "outputs": [
    {
     "name": "stdout",
     "output_type": "stream",
     "text": [
      "[-0.7585000000000015, 0.8215000000000003, 9.605800000000002, 9.7502, 5.9665, 2.076900000000002, 1.920300000000001, 2.0192999999999977, 1.8309999999999995, 1.9265000000000008, 1.9299999999999997, 1.4516999999999989, 3.7455999999999996, 2.6388999999999996, 1.1755999999999993, -1.0410000000000004, -1.4239999999999995, -3.0734999999999992, -3.1692, -1.812100000000001, -0.4603999999999999, -0.6517999999999979, -1.0768000000000022, -0.6085000000000029, -2.160499999999999]\n"
     ]
    }
   ],
   "source": [
    "difference3_newt = []\n",
    "\n",
    "zip_object = zip(temp, temp_crn)\n",
    "for temp_i, temp_crn_i in zip_object:\n",
    "    difference3_newt.append(temp_i-temp_crn_i)\n",
    "\n",
    "print(difference3_newt)"
   ]
  },
  {
   "cell_type": "markdown",
   "id": "e079df5d",
   "metadata": {},
   "source": [
    "<font size=\"3\">Salem, MO: 1500 UTC 13 April 2022-1500 UTC 14 April 2022</font>"
   ]
  },
  {
   "cell_type": "code",
   "execution_count": 111,
   "id": "8a544d44",
   "metadata": {},
   "outputs": [
    {
     "name": "stdout",
     "output_type": "stream",
     "text": [
      "[17.2982, 16.377, 15.7038, 15.963, 16.9752, 13.2426, 8.42667, 6.45584, 6.00217, 5.60703, 4.5051, 4.23022, 3.49191, 3.34857, 2.78616, 2.5134, 1.95633, 1.65671, 1.38589, 1.13782, 0.966736, 1.28647, 3.80338, 6.94391, 8.70554]\n",
      "25\n"
     ]
    }
   ],
   "source": [
    "#12 hr hrrr:\n",
    "with open('hrrr_f12_Salem_MO.txt') as f:\n",
    "    lst=[line.split()[1] for line in f]\n",
    "    temp=[]\n",
    "    for i in lst:\n",
    "        new=i.replace(',',\"\")\n",
    "        temp.append(new)\n",
    "    temp.pop(0)\n",
    "    temp=[float(x) for x in temp]\n",
    "    temp=temp[2451:2476]\n",
    "    #temp=temp[2015:2063]\n",
    "    print(temp)\n",
    "    print(len(temp))\n",
    "#full time period is [2015:2112]"
   ]
  },
  {
   "cell_type": "code",
   "execution_count": 112,
   "id": "11955714",
   "metadata": {},
   "outputs": [
    {
     "name": "stdout",
     "output_type": "stream",
     "text": [
      "[17.6, 17.25, 15.25, 14.7, 14.6, 8.2, 6.7, 6.2, 5.25, 5.45, 4.35, 5.1, 5.1, 3.6, 2.6500000000000004, 0.09999999999999999, -0.8, -1.1, -2.0, -0.75, -1.8499999999999999, -0.9, 2.95, 7.949999999999999, 10.899999999999999]\n"
     ]
    }
   ],
   "source": [
    "#Air Temp CRN:\n",
    "with open('CRNS0101-05-2022-MO_Salem_10_W.txt') as f:\n",
    "    lst=[line.split()[8] for line in f]\n",
    "    \n",
    "    a=(float(lst[29555])+float(lst[29556]))/2\n",
    "    b=(float(lst[29567])+float(lst[29568]))/2\n",
    "    c=(float(lst[29579])+float(lst[29580]))/2\n",
    "    d=(float(lst[29591])+float(lst[29592]))/2\n",
    "    e=(float(lst[29603])+float(lst[29604]))/2\n",
    "    f=(float(lst[29615])+float(lst[29616]))/2\n",
    "    g=(float(lst[29627])+float(lst[29628]))/2\n",
    "    h=(float(lst[29639])+float(lst[29640]))/2\n",
    "    i=(float(lst[29651])+float(lst[29652]))/2\n",
    "    j=(float(lst[29663])+float(lst[29664]))/2\n",
    "    k=(float(lst[29675])+float(lst[29676]))/2\n",
    "    l=(float(lst[29687])+float(lst[29688]))/2\n",
    "    m=(float(lst[29699])+float(lst[29700]))/2\n",
    "    n=(float(lst[29711])+float(lst[29712]))/2\n",
    "    o=(float(lst[29723])+float(lst[29724]))/2\n",
    "    p=(float(lst[29735])+float(lst[29736]))/2\n",
    "    q=(float(lst[29747])+float(lst[29748]))/2\n",
    "    r=(float(lst[29759])+float(lst[29760]))/2\n",
    "    s=(float(lst[29771])+float(lst[29772]))/2\n",
    "    t=(float(lst[29783])+float(lst[29784]))/2\n",
    "    u=(float(lst[29795])+float(lst[29796]))/2\n",
    "    v=(float(lst[29807])+float(lst[29808]))/2\n",
    "    w=(float(lst[29819])+float(lst[29820]))/2\n",
    "    x=(float(lst[29831])+float(lst[29832]))/2\n",
    "    y=(float(lst[29843])+float(lst[29844]))/2\n",
    "    temp_crn=[a,b,c,d,e,f,g,h,i,j,k,l,m,n,o,p,q,r,s,t,u,v,w,x,y]\n",
    "    print(temp_crn)"
   ]
  },
  {
   "cell_type": "code",
   "execution_count": 113,
   "id": "cfc37d3d",
   "metadata": {},
   "outputs": [
    {
     "name": "stdout",
     "output_type": "stream",
     "text": [
      "[-0.30180000000000007, -0.8730000000000011, 0.4537999999999993, 1.263, 2.3752000000000013, 5.0426, 1.7266699999999995, 0.25584000000000007, 0.7521699999999996, 0.15702999999999978, 0.15510000000000002, -0.8697799999999996, -1.6080899999999998, -0.25143000000000004, 0.13615999999999984, 2.4133999999999998, 2.75633, 2.75671, 3.38589, 1.88782, 2.8167359999999997, 2.18647, 0.85338, -1.0060899999999995, -2.1944599999999994]\n"
     ]
    }
   ],
   "source": [
    "difference4_sal = []\n",
    "\n",
    "zip_object = zip(temp, temp_crn)\n",
    "for temp_i, temp_crn_i in zip_object:\n",
    "    difference4_sal.append(temp_i-temp_crn_i)\n",
    "\n",
    "print(difference4_sal)"
   ]
  },
  {
   "cell_type": "markdown",
   "id": "1baa8356",
   "metadata": {},
   "source": [
    "<font size=\"3\">Batesville, AR: 1500 UTC 13 April 2022-1500 UTC 14 April 2022</font>"
   ]
  },
  {
   "cell_type": "code",
   "execution_count": 114,
   "id": "50af2a53",
   "metadata": {},
   "outputs": [
    {
     "name": "stdout",
     "output_type": "stream",
     "text": [
      "[20.1732, 20.502, 21.5788, 21.463, 21.4127, 21.5551, 19.8642, 15.3308, 12.5647, 10.6695, 8.5051, 7.85522, 7.86691, 7.53607, 7.03616, 6.6384, 5.39383, 5.40671, 4.82339, 4.26282, 3.90424, 4.03647, 6.17838, 9.06891, 10.8305]\n",
      "25\n"
     ]
    }
   ],
   "source": [
    "#12 hr hrrr:\n",
    "with open('hrrr_f12_Batesville_AR.txt') as f:\n",
    "    lst=[line.split()[1] for line in f]\n",
    "    temp=[]\n",
    "    for i in lst:\n",
    "        new=i.replace(',',\"\")\n",
    "        temp.append(new)\n",
    "    temp.pop(0)\n",
    "    temp=[float(x) for x in temp]\n",
    "    temp=temp[2451:2476]\n",
    "    #temp=temp[2015:2063]\n",
    "    print(temp)\n",
    "    print(len(temp))\n",
    "#full time period is [2015:2112]"
   ]
  },
  {
   "cell_type": "code",
   "execution_count": 115,
   "id": "006ec050",
   "metadata": {},
   "outputs": [
    {
     "name": "stdout",
     "output_type": "stream",
     "text": [
      "[18.4, 19.9, 20.5, 20.049999999999997, 18.05, 17.5, 17.75, 14.95, 11.3, 10.75, 10.5, 9.95, 9.6, 8.45, 8.149999999999999, 6.75, 4.95, 1.7000000000000002, 1.35, 1.1, 0.05, 0.09999999999999999, 3.0999999999999996, 7.5, 9.7]\n"
     ]
    }
   ],
   "source": [
    "#Air Temp CRN:\n",
    "with open('CRNS0101-05-2022-AR_Batesville_8_WNW.txt') as f:\n",
    "    lst=[line.split()[8] for line in f]\n",
    "    \n",
    "    a=(float(lst[29555])+float(lst[29556]))/2\n",
    "    b=(float(lst[29567])+float(lst[29568]))/2\n",
    "    c=(float(lst[29579])+float(lst[29580]))/2\n",
    "    d=(float(lst[29591])+float(lst[29592]))/2\n",
    "    e=(float(lst[29603])+float(lst[29604]))/2\n",
    "    f=(float(lst[29615])+float(lst[29616]))/2\n",
    "    g=(float(lst[29627])+float(lst[29628]))/2\n",
    "    h=(float(lst[29639])+float(lst[29640]))/2\n",
    "    i=(float(lst[29651])+float(lst[29652]))/2\n",
    "    j=(float(lst[29663])+float(lst[29664]))/2\n",
    "    k=(float(lst[29675])+float(lst[29676]))/2\n",
    "    l=(float(lst[29687])+float(lst[29688]))/2\n",
    "    m=(float(lst[29699])+float(lst[29700]))/2\n",
    "    n=(float(lst[29711])+float(lst[29712]))/2\n",
    "    o=(float(lst[29723])+float(lst[29724]))/2\n",
    "    p=(float(lst[29735])+float(lst[29736]))/2\n",
    "    q=(float(lst[29747])+float(lst[29748]))/2\n",
    "    r=(float(lst[29759])+float(lst[29760]))/2\n",
    "    s=(float(lst[29771])+float(lst[29772]))/2\n",
    "    t=(float(lst[29783])+float(lst[29784]))/2\n",
    "    u=(float(lst[29795])+float(lst[29796]))/2\n",
    "    v=(float(lst[29807])+float(lst[29808]))/2\n",
    "    w=(float(lst[29819])+float(lst[29820]))/2\n",
    "    x=(float(lst[29831])+float(lst[29832]))/2\n",
    "    y=(float(lst[29843])+float(lst[29844]))/2\n",
    "    temp_crn=[a,b,c,d,e,f,g,h,i,j,k,l,m,n,o,p,q,r,s,t,u,v,w,x,y]\n",
    "    print(temp_crn)"
   ]
  },
  {
   "cell_type": "code",
   "execution_count": 116,
   "id": "3ca802b3",
   "metadata": {},
   "outputs": [
    {
     "name": "stdout",
     "output_type": "stream",
     "text": [
      "[1.7732000000000028, 0.6020000000000003, 1.078800000000001, 1.4130000000000038, 3.3627000000000002, 4.0550999999999995, 2.1142000000000003, 0.3808000000000007, 1.2646999999999995, -0.08050000000000068, -1.9948999999999995, -2.094779999999999, -1.7330899999999998, -0.9139299999999997, -1.1138399999999988, -0.11160000000000014, 0.44383000000000017, 3.70671, 3.4733899999999998, 3.1628199999999995, 3.8542400000000003, 3.9364699999999995, 3.07838, 1.5689100000000007, 1.1305000000000014]\n"
     ]
    }
   ],
   "source": [
    "difference4_bat = []\n",
    "\n",
    "zip_object = zip(temp, temp_crn)\n",
    "for temp_i, temp_crn_i in zip_object:\n",
    "    difference4_bat.append(temp_i-temp_crn_i)\n",
    "\n",
    "print(difference4_bat)"
   ]
  },
  {
   "cell_type": "markdown",
   "id": "7089dff9",
   "metadata": {},
   "source": [
    "<font size=\"3\">Lafayette, LA: 2000 UTC 13 April 2022-2000 UTC 14 April 2022</font>"
   ]
  },
  {
   "cell_type": "code",
   "execution_count": 117,
   "id": "8be3433b",
   "metadata": {},
   "outputs": [
    {
     "name": "stdout",
     "output_type": "stream",
     "text": [
      "[27.3051, 25.4267, 24.7683, 24.1897, 23.482, 23.5676, 22.9802, 23.1794, 22.4736, 22.3487, 18.7009, 19.0188, 18.7817, 17.4484, 15.8253, 16.4042, 15.6615, 16.6784, 16.2564, 18.018, 18.9352, 20.6827, 22.0416, 23.1388, 24.6067]\n",
      "25\n"
     ]
    }
   ],
   "source": [
    "#12 hr hrrr:\n",
    "with open('hrrr_f12_Lafayette_LA.txt') as f:\n",
    "    lst=[line.split()[1] for line in f]\n",
    "    temp=[]\n",
    "    for i in lst:\n",
    "        new=i.replace(',',\"\")\n",
    "        temp.append(new)\n",
    "    temp.pop(0)\n",
    "    temp=[float(x) for x in temp]\n",
    "    temp=temp[2456:2481]\n",
    "    #temp=temp[2015:2063]\n",
    "    print(temp)\n",
    "    print(len(temp))\n",
    "#full time period is [2015:2112]"
   ]
  },
  {
   "cell_type": "code",
   "execution_count": 118,
   "id": "4cb24849",
   "metadata": {},
   "outputs": [
    {
     "name": "stdout",
     "output_type": "stream",
     "text": [
      "[25.05, 25.15, 24.65, 24.4, 24.0, 23.6, 23.5, 16.7, 15.4, 15.5, 15.8, 16.1, 16.85, 17.2, 15.8, 15.350000000000001, 14.95, 15.55, 17.200000000000003, 19.35, 20.85, 23.200000000000003, 24.4, 25.65, 26.05]\n"
     ]
    }
   ],
   "source": [
    "#Air Temp CRN:\n",
    "with open('CRNS0101-05-2022-LA_Lafayette_13_SE.txt') as f:\n",
    "    lst=[line.split()[8] for line in f]\n",
    "    \n",
    "    a=(float(lst[29615])+float(lst[29616]))/2\n",
    "    b=(float(lst[29627])+float(lst[29628]))/2\n",
    "    c=(float(lst[29639])+float(lst[29640]))/2\n",
    "    d=(float(lst[29651])+float(lst[29652]))/2\n",
    "    e=(float(lst[29663])+float(lst[29664]))/2\n",
    "    f=(float(lst[29675])+float(lst[29676]))/2\n",
    "    g=(float(lst[29687])+float(lst[29688]))/2\n",
    "    h=(float(lst[29699])+float(lst[29700]))/2\n",
    "    i=(float(lst[29711])+float(lst[29712]))/2\n",
    "    j=(float(lst[29723])+float(lst[29724]))/2\n",
    "    k=(float(lst[29735])+float(lst[29736]))/2\n",
    "    l=(float(lst[29747])+float(lst[29748]))/2\n",
    "    m=(float(lst[29759])+float(lst[29760]))/2\n",
    "    n=(float(lst[29771])+float(lst[29772]))/2\n",
    "    o=(float(lst[29783])+float(lst[29784]))/2\n",
    "    p=(float(lst[29795])+float(lst[29796]))/2\n",
    "    q=(float(lst[29807])+float(lst[29808]))/2\n",
    "    r=(float(lst[29819])+float(lst[29820]))/2\n",
    "    s=(float(lst[29831])+float(lst[29832]))/2\n",
    "    t=(float(lst[29843])+float(lst[29844]))/2\n",
    "    u=(float(lst[29855])+float(lst[29856]))/2\n",
    "    v=(float(lst[29867])+float(lst[29868]))/2\n",
    "    w=(float(lst[29879])+float(lst[29880]))/2\n",
    "    x=(float(lst[29891])+float(lst[29892]))/2\n",
    "    y=(float(lst[29903])+float(lst[29904]))/2\n",
    "    temp_crn=[a,b,c,d,e,f,g,h,i,j,k,l,m,n,o,p,q,r,s,t,u,v,w,x,y]\n",
    "    print(temp_crn)"
   ]
  },
  {
   "cell_type": "code",
   "execution_count": 119,
   "id": "f0730891",
   "metadata": {},
   "outputs": [
    {
     "name": "stdout",
     "output_type": "stream",
     "text": [
      "[2.2550999999999988, 0.2767000000000017, 0.1183000000000014, -0.21030000000000015, -0.5180000000000007, -0.03240000000000265, -0.5198, 6.479400000000002, 7.073600000000001, 6.848700000000001, 2.9009, 2.9187999999999974, 1.9316999999999993, 0.24840000000000018, 0.025299999999999656, 1.054199999999998, 0.7115000000000009, 1.1283999999999992, -0.9436000000000035, -1.3320000000000007, -1.9148000000000032, -2.5173000000000023, -2.3583999999999996, -2.5111999999999988, -1.4433000000000007]\n"
     ]
    }
   ],
   "source": [
    "difference4_laf = []\n",
    "\n",
    "zip_object = zip(temp, temp_crn)\n",
    "for temp_i, temp_crn_i in zip_object:\n",
    "    difference4_laf.append(temp_i-temp_crn_i)\n",
    "\n",
    "print(difference4_laf)"
   ]
  },
  {
   "cell_type": "markdown",
   "id": "a4cb46d7",
   "metadata": {},
   "source": [
    "<font size=\"3\">Monroe, LA: 2000 UTC 13 April 2022-2000 UTC 14 April 2022</font>"
   ]
  },
  {
   "cell_type": "code",
   "execution_count": 120,
   "id": "bc9822b1",
   "metadata": {},
   "outputs": [
    {
     "name": "stdout",
     "output_type": "stream",
     "text": [
      "[26.3676, 25.0517, 25.1433, 24.3772, 19.5445, 19.8176, 17.4177, 15.4294, 13.4111, 12.5987, 11.8884, 11.1438, 10.8442, 10.2609, 9.38782, 9.40424, 8.72397, 10.0534, 11.1314, 12.5805, 14.0602, 16.3702, 17.9166, 19.3263, 19.9817]\n",
      "25\n"
     ]
    }
   ],
   "source": [
    "#12 hr hrrr:\n",
    "with open('hrrr_f12_Monroe_LA.txt') as f:\n",
    "    lst=[line.split()[1] for line in f]\n",
    "    temp=[]\n",
    "    for i in lst:\n",
    "        new=i.replace(',',\"\")\n",
    "        temp.append(new)\n",
    "    temp.pop(0)\n",
    "    temp=[float(x) for x in temp]\n",
    "    temp=temp[2456:2481]\n",
    "    #temp=temp[2015:2063]\n",
    "    print(temp)\n",
    "    print(len(temp))\n",
    "#full time period is [2015:2112]"
   ]
  },
  {
   "cell_type": "code",
   "execution_count": 121,
   "id": "1718f471",
   "metadata": {},
   "outputs": [
    {
     "name": "stdout",
     "output_type": "stream",
     "text": [
      "[24.200000000000003, 23.35, 22.799999999999997, 22.9, 19.45, 18.75, 17.9, 14.4, 13.0, 11.8, 10.850000000000001, 9.65, 10.55, 10.3, 9.75, 10.149999999999999, 9.850000000000001, 11.149999999999999, 12.25, 13.75, 15.45, 17.2, 18.5, 20.05, 21.299999999999997]\n"
     ]
    }
   ],
   "source": [
    "#Air Temp CRN:\n",
    "with open('CRNS0101-05-2022-LA_Monroe_26_N.txt') as f:\n",
    "    lst=[line.split()[8] for line in f]\n",
    "    \n",
    "    a=(float(lst[29615])+float(lst[29616]))/2\n",
    "    b=(float(lst[29627])+float(lst[29628]))/2\n",
    "    c=(float(lst[29639])+float(lst[29640]))/2\n",
    "    d=(float(lst[29651])+float(lst[29652]))/2\n",
    "    e=(float(lst[29663])+float(lst[29664]))/2\n",
    "    f=(float(lst[29675])+float(lst[29676]))/2\n",
    "    g=(float(lst[29687])+float(lst[29688]))/2\n",
    "    h=(float(lst[29699])+float(lst[29700]))/2\n",
    "    i=(float(lst[29711])+float(lst[29712]))/2\n",
    "    j=(float(lst[29723])+float(lst[29724]))/2\n",
    "    k=(float(lst[29735])+float(lst[29736]))/2\n",
    "    l=(float(lst[29747])+float(lst[29748]))/2\n",
    "    m=(float(lst[29759])+float(lst[29760]))/2\n",
    "    n=(float(lst[29771])+float(lst[29772]))/2\n",
    "    o=(float(lst[29783])+float(lst[29784]))/2\n",
    "    p=(float(lst[29795])+float(lst[29796]))/2\n",
    "    q=(float(lst[29807])+float(lst[29808]))/2\n",
    "    r=(float(lst[29819])+float(lst[29820]))/2\n",
    "    s=(float(lst[29831])+float(lst[29832]))/2\n",
    "    t=(float(lst[29843])+float(lst[29844]))/2\n",
    "    u=(float(lst[29855])+float(lst[29856]))/2\n",
    "    v=(float(lst[29867])+float(lst[29868]))/2\n",
    "    w=(float(lst[29879])+float(lst[29880]))/2\n",
    "    x=(float(lst[29891])+float(lst[29892]))/2\n",
    "    y=(float(lst[29903])+float(lst[29904]))/2\n",
    "    temp_crn=[a,b,c,d,e,f,g,h,i,j,k,l,m,n,o,p,q,r,s,t,u,v,w,x,y]\n",
    "    print(temp_crn)"
   ]
  },
  {
   "cell_type": "code",
   "execution_count": 122,
   "id": "91696836",
   "metadata": {},
   "outputs": [
    {
     "name": "stdout",
     "output_type": "stream",
     "text": [
      "[2.1675999999999966, 1.7016999999999989, 2.343300000000003, 1.4771999999999998, 0.09450000000000003, 1.0675999999999988, -0.4822999999999986, 1.029399999999999, 0.41109999999999935, 0.7986999999999984, 1.0383999999999993, 1.4938000000000002, 0.2942, -0.039100000000001245, -0.3621800000000004, -0.7457599999999989, -1.1260300000000019, -1.0965999999999987, -1.1186000000000007, -1.1694999999999993, -1.3897999999999993, -0.8297999999999988, -0.583400000000001, -0.7237000000000009, -1.3182999999999971]\n"
     ]
    }
   ],
   "source": [
    "difference4_mon = []\n",
    "\n",
    "zip_object = zip(temp, temp_crn)\n",
    "for temp_i, temp_crn_i in zip_object:\n",
    "    difference4_mon.append(temp_i-temp_crn_i)\n",
    "\n",
    "print(difference4_mon)"
   ]
  },
  {
   "cell_type": "markdown",
   "id": "797ab9bf",
   "metadata": {},
   "source": [
    "<font size=\"3\">Holly Springs, MS: 2300 UTC 13 April 2022-2300 UTC 14 April 2022</font>"
   ]
  },
  {
   "cell_type": "code",
   "execution_count": 123,
   "id": "25958065",
   "metadata": {},
   "outputs": [
    {
     "name": "stdout",
     "output_type": "stream",
     "text": [
      "[22.2522, 19.0445, 18.5676, 18.1052, 16.0544, 12.9736, 10.8487, 9.3259, 8.70633, 8.34421, 7.51089, 7.13782, 6.96674, 6.59897, 7.86588, 9.50641, 10.643, 12.5602, 14.3702, 16.0416, 17.3888, 18.1692, 18.352, 18.1054, 17.2137]\n",
      "25\n"
     ]
    }
   ],
   "source": [
    "#12 hr hrrr:\n",
    "with open('hrrr_f12_Holly Springs_MS.txt') as f:\n",
    "    lst=[line.split()[1] for line in f]\n",
    "    temp=[]\n",
    "    for i in lst:\n",
    "        new=i.replace(',',\"\")\n",
    "        temp.append(new)\n",
    "    temp.pop(0)\n",
    "    temp=[float(x) for x in temp]\n",
    "    temp=temp[2459:2484]\n",
    "    #temp=temp[2015:2063]\n",
    "    print(temp)\n",
    "    print(len(temp))\n",
    "#full time period is [2015:2112]"
   ]
  },
  {
   "cell_type": "code",
   "execution_count": 124,
   "id": "a1f0089e",
   "metadata": {},
   "outputs": [
    {
     "name": "stdout",
     "output_type": "stream",
     "text": [
      "[16.4, 16.700000000000003, 17.35, 17.549999999999997, 18.1, 14.0, 12.1, 10.8, 10.05, 8.4, 7.6, 6.75, 7.6, 6.9, 8.45, 9.7, 11.8, 14.0, 15.950000000000001, 17.95, 18.85, 19.35, 19.95, 19.950000000000003, 19.8]\n"
     ]
    }
   ],
   "source": [
    "#Air Temp CRN:\n",
    "with open('CRNS0101-05-2022-MS_Holly_Springs_4_N.txt') as f:\n",
    "    lst=[line.split()[8] for line in f]\n",
    "    \n",
    "    a=(float(lst[29651])+float(lst[29652]))/2\n",
    "    b=(float(lst[29663])+float(lst[29664]))/2\n",
    "    c=(float(lst[29675])+float(lst[29676]))/2\n",
    "    d=(float(lst[29687])+float(lst[29688]))/2\n",
    "    e=(float(lst[29699])+float(lst[29700]))/2\n",
    "    f=(float(lst[29711])+float(lst[29712]))/2\n",
    "    g=(float(lst[29723])+float(lst[29724]))/2\n",
    "    h=(float(lst[29735])+float(lst[29736]))/2\n",
    "    i=(float(lst[29747])+float(lst[29748]))/2\n",
    "    j=(float(lst[29759])+float(lst[29760]))/2\n",
    "    k=(float(lst[29771])+float(lst[29772]))/2\n",
    "    l=(float(lst[29783])+float(lst[29784]))/2\n",
    "    m=(float(lst[29795])+float(lst[29796]))/2\n",
    "    n=(float(lst[29807])+float(lst[29808]))/2\n",
    "    o=(float(lst[29819])+float(lst[29820]))/2\n",
    "    p=(float(lst[29831])+float(lst[29832]))/2\n",
    "    q=(float(lst[29843])+float(lst[29844]))/2\n",
    "    r=(float(lst[29855])+float(lst[29856]))/2\n",
    "    s=(float(lst[29867])+float(lst[29868]))/2\n",
    "    t=(float(lst[29879])+float(lst[29880]))/2\n",
    "    u=(float(lst[29891])+float(lst[29892]))/2\n",
    "    v=(float(lst[29903])+float(lst[29904]))/2\n",
    "    w=(float(lst[29915])+float(lst[29916]))/2\n",
    "    x=(float(lst[29927])+float(lst[29928]))/2\n",
    "    y=(float(lst[29939])+float(lst[29940]))/2\n",
    "    temp_crn=[a,b,c,d,e,f,g,h,i,j,k,l,m,n,o,p,q,r,s,t,u,v,w,x,y]\n",
    "    print(temp_crn)"
   ]
  },
  {
   "cell_type": "code",
   "execution_count": 125,
   "id": "6226fdc5",
   "metadata": {},
   "outputs": [
    {
     "name": "stdout",
     "output_type": "stream",
     "text": [
      "[5.8522, 2.3444999999999965, 1.2175999999999974, 0.5552000000000028, -2.0456000000000003, -1.0264000000000006, -1.2513000000000005, -1.4741, -1.3436700000000013, -0.055790000000000006, -0.0891099999999998, 0.3878199999999996, -0.6332599999999999, -0.3010300000000008, -0.5841199999999995, -0.1935899999999986, -1.157, -1.4398, -1.5798000000000005, -1.9084000000000003, -1.4612000000000016, -1.1808000000000014, -1.597999999999999, -1.8446000000000033, -2.5863000000000014]\n"
     ]
    }
   ],
   "source": [
    "difference4_hol = []\n",
    "\n",
    "zip_object = zip(temp, temp_crn)\n",
    "for temp_i, temp_crn_i in zip_object:\n",
    "    difference4_hol.append(temp_i-temp_crn_i)\n",
    "\n",
    "print(difference4_hol)"
   ]
  },
  {
   "cell_type": "markdown",
   "id": "2580ca75",
   "metadata": {},
   "source": [
    "<font size=\"3\">Newton, MS: 2300 UTC 13 April 2022-2300 UTC 14 April 2022</font>"
   ]
  },
  {
   "cell_type": "code",
   "execution_count": 126,
   "id": "2d759922",
   "metadata": {},
   "outputs": [
    {
     "name": "stdout",
     "output_type": "stream",
     "text": [
      "[27.1272, 25.1695, 24.1301, 18.9802, 20.7419, 21.2236, 19.1612, 20.8259, 19.2063, 16.7192, 14.8234, 13.0128, 14.1542, 13.974, 13.8659, 13.9439, 15.8305, 17.3102, 19.5577, 21.2291, 22.5763, 23.5442, 23.352, 22.4179, 21.9012]\n",
      "25\n"
     ]
    }
   ],
   "source": [
    "#12 hr hrrr:\n",
    "with open('hrrr_f12_Newton_MS.txt') as f:\n",
    "    lst=[line.split()[1] for line in f]\n",
    "    temp=[]\n",
    "    for i in lst:\n",
    "        new=i.replace(',',\"\")\n",
    "        temp.append(new)\n",
    "    temp.pop(0)\n",
    "    temp=[float(x) for x in temp]\n",
    "    temp=temp[2459:2484]\n",
    "    #temp=temp[2015:2063]\n",
    "    print(temp)\n",
    "    print(len(temp))\n",
    "#full time period is [2015:2112]"
   ]
  },
  {
   "cell_type": "code",
   "execution_count": 127,
   "id": "8cd5b339",
   "metadata": {},
   "outputs": [
    {
     "name": "stdout",
     "output_type": "stream",
     "text": [
      "[25.200000000000003, 24.85, 24.1, 17.15, 16.85, 16.85, 17.0, 16.9, 16.9, 17.0, 16.0, 14.2, 12.149999999999999, 11.05, 11.95, 13.05, 15.15, 17.299999999999997, 19.6, 20.75, 22.0, 22.9, 23.2, 23.0, 22.799999999999997]\n"
     ]
    }
   ],
   "source": [
    "#Air Temp CRN:\n",
    "with open('CRNS0101-05-2022-MS_Newton_5_ENE.txt') as f:\n",
    "    lst=[line.split()[8] for line in f]\n",
    "    \n",
    "    a=(float(lst[29651])+float(lst[29652]))/2\n",
    "    b=(float(lst[29663])+float(lst[29664]))/2\n",
    "    c=(float(lst[29675])+float(lst[29676]))/2\n",
    "    d=(float(lst[29687])+float(lst[29688]))/2\n",
    "    e=(float(lst[29699])+float(lst[29700]))/2\n",
    "    f=(float(lst[29711])+float(lst[29712]))/2\n",
    "    g=(float(lst[29723])+float(lst[29724]))/2\n",
    "    h=(float(lst[29735])+float(lst[29736]))/2\n",
    "    i=(float(lst[29747])+float(lst[29748]))/2\n",
    "    j=(float(lst[29759])+float(lst[29760]))/2\n",
    "    k=(float(lst[29771])+float(lst[29772]))/2\n",
    "    l=(float(lst[29783])+float(lst[29784]))/2\n",
    "    m=(float(lst[29795])+float(lst[29796]))/2\n",
    "    n=(float(lst[29807])+float(lst[29808]))/2\n",
    "    o=(float(lst[29819])+float(lst[29820]))/2\n",
    "    p=(float(lst[29831])+float(lst[29832]))/2\n",
    "    q=(float(lst[29843])+float(lst[29844]))/2\n",
    "    r=(float(lst[29855])+float(lst[29856]))/2\n",
    "    s=(float(lst[29867])+float(lst[29868]))/2\n",
    "    t=(float(lst[29879])+float(lst[29880]))/2\n",
    "    u=(float(lst[29891])+float(lst[29892]))/2\n",
    "    v=(float(lst[29903])+float(lst[29904]))/2\n",
    "    w=(float(lst[29915])+float(lst[29916]))/2\n",
    "    x=(float(lst[29927])+float(lst[29928]))/2\n",
    "    y=(float(lst[29939])+float(lst[29940]))/2\n",
    "    temp_crn=[a,b,c,d,e,f,g,h,i,j,k,l,m,n,o,p,q,r,s,t,u,v,w,x,y]\n",
    "    print(temp_crn)"
   ]
  },
  {
   "cell_type": "code",
   "execution_count": 128,
   "id": "e75f9641",
   "metadata": {},
   "outputs": [
    {
     "name": "stdout",
     "output_type": "stream",
     "text": [
      "[1.9271999999999956, 0.3194999999999979, 0.03009999999999735, 1.8302000000000014, 3.8918999999999997, 4.3736, 2.161200000000001, 3.925900000000002, 2.3063000000000002, -0.2807999999999993, -1.1766000000000005, -1.187199999999999, 2.004200000000001, 2.9239999999999995, 1.9159000000000006, 0.8938999999999986, 0.6805000000000003, 0.010200000000001097, -0.04230000000000089, 0.47909999999999897, 0.5762999999999998, 0.6442000000000014, 0.15200000000000102, -0.5821000000000005, -0.8987999999999978]\n"
     ]
    }
   ],
   "source": [
    "difference4_new = []\n",
    "\n",
    "zip_object = zip(temp, temp_crn)\n",
    "for temp_i, temp_crn_i in zip_object:\n",
    "    difference4_new.append(temp_i-temp_crn_i)\n",
    "\n",
    "print(difference4_new)"
   ]
  },
  {
   "cell_type": "markdown",
   "id": "a7d0e1e9",
   "metadata": {},
   "source": [
    "<font size=\"3\">Gainesville, AL: 0200 UTC 14 April 2022-0200 UTC 15 April 2022</font>"
   ]
  },
  {
   "cell_type": "code",
   "execution_count": 129,
   "id": "4bddcdb7",
   "metadata": {},
   "outputs": [
    {
     "name": "stdout",
     "output_type": "stream",
     "text": [
      "[18.5427, 21.1794, 21.0986, 20.4737, 20.7009, 19.8313, 19.4067, 15.8234, 14.7003, 14.5292, 14.1615, 14.6159, 14.5689, 15.2055, 15.4977, 17.9952, 17.9166, 18.7013, 20.2317, 20.727, 20.6679, 19.5887, 18.4084, 16.2025, 15.368]\n",
      "25\n"
     ]
    }
   ],
   "source": [
    "#12 hr hrrr:\n",
    "with open('hrrr_f12_Gainesville_AL.txt') as f:\n",
    "    lst=[line.split()[1] for line in f]\n",
    "    temp=[]\n",
    "    for i in lst:\n",
    "        new=i.replace(',',\"\")\n",
    "        temp.append(new)\n",
    "    temp.pop(0)\n",
    "    temp=[float(x) for x in temp]\n",
    "    temp=temp[2462:2487]\n",
    "    #temp=temp[2015:2063]\n",
    "    print(temp)\n",
    "    print(len(temp))\n",
    "#full time period is [2015:2112]"
   ]
  },
  {
   "cell_type": "code",
   "execution_count": 130,
   "id": "6792cddd",
   "metadata": {},
   "outputs": [
    {
     "name": "stdout",
     "output_type": "stream",
     "text": [
      "[23.65, 17.8, 17.45, 17.25, 17.1, 17.0, 17.0, 17.0, 14.850000000000001, 13.5, 12.95, 13.25, 13.7, 15.3, 16.6, 18.049999999999997, 19.35, 20.95, 22.05, 22.6, 22.25, 21.4, 19.3, 15.850000000000001, 14.25]\n"
     ]
    }
   ],
   "source": [
    "#Air Temp CRN:\n",
    "with open('CRNS0101-05-2022-AL_Gainesville_2_NE.txt') as f:\n",
    "    lst=[line.split()[8] for line in f]\n",
    "    \n",
    "    a=(float(lst[29687])+float(lst[29688]))/2\n",
    "    b=(float(lst[29699])+float(lst[29700]))/2\n",
    "    c=(float(lst[29711])+float(lst[29712]))/2\n",
    "    d=(float(lst[29723])+float(lst[29724]))/2\n",
    "    e=(float(lst[29735])+float(lst[29736]))/2\n",
    "    f=(float(lst[29747])+float(lst[29748]))/2\n",
    "    g=(float(lst[29759])+float(lst[29760]))/2\n",
    "    h=(float(lst[29771])+float(lst[29772]))/2\n",
    "    i=(float(lst[29783])+float(lst[29784]))/2\n",
    "    j=(float(lst[29795])+float(lst[29796]))/2\n",
    "    k=(float(lst[29807])+float(lst[29808]))/2\n",
    "    l=(float(lst[29819])+float(lst[29820]))/2\n",
    "    m=(float(lst[29831])+float(lst[29832]))/2\n",
    "    n=(float(lst[29843])+float(lst[29844]))/2\n",
    "    o=(float(lst[29855])+float(lst[29856]))/2\n",
    "    p=(float(lst[29867])+float(lst[29868]))/2\n",
    "    q=(float(lst[29879])+float(lst[29880]))/2\n",
    "    r=(float(lst[29891])+float(lst[29892]))/2\n",
    "    s=(float(lst[29903])+float(lst[29904]))/2\n",
    "    t=(float(lst[29915])+float(lst[29916]))/2\n",
    "    u=(float(lst[29927])+float(lst[29928]))/2\n",
    "    v=(float(lst[29939])+float(lst[29940]))/2\n",
    "    w=(float(lst[29951])+float(lst[29952]))/2\n",
    "    x=(float(lst[29963])+float(lst[29964]))/2\n",
    "    y=(float(lst[29975])+float(lst[29976]))/2\n",
    "    temp_crn=[a,b,c,d,e,f,g,h,i,j,k,l,m,n,o,p,q,r,s,t,u,v,w,x,y]\n",
    "    print(temp_crn)"
   ]
  },
  {
   "cell_type": "code",
   "execution_count": 131,
   "id": "c9db90a8",
   "metadata": {},
   "outputs": [
    {
     "name": "stdout",
     "output_type": "stream",
     "text": [
      "[-5.107299999999999, 3.3794000000000004, 3.648600000000002, 3.223700000000001, 3.6008999999999993, 2.831299999999999, 2.4067000000000007, -1.1766000000000005, -0.14970000000000105, 1.0291999999999994, 1.211500000000001, 1.3659, 0.8689, -0.09450000000000003, -1.1023000000000014, -0.05479999999999663, -1.4334000000000024, -2.2486999999999995, -1.8183000000000007, -1.873000000000001, -1.5821000000000005, -1.8112999999999992, -0.8916000000000004, 0.35249999999999915, 1.1180000000000003]\n"
     ]
    }
   ],
   "source": [
    "difference4_gai = []\n",
    "\n",
    "zip_object = zip(temp, temp_crn)\n",
    "for temp_i, temp_crn_i in zip_object:\n",
    "    difference4_gai.append(temp_i-temp_crn_i)\n",
    "\n",
    "print(difference4_gai)"
   ]
  },
  {
   "cell_type": "markdown",
   "id": "cdbcd1b4",
   "metadata": {},
   "source": [
    "<font size=\"3\">Fairhope, AL: 0200 UTC 14 April 2022-0200 UTC 15 April 2022</font>"
   ]
  },
  {
   "cell_type": "code",
   "execution_count": 132,
   "id": "1a0b9a6b",
   "metadata": {},
   "outputs": [
    {
     "name": "stdout",
     "output_type": "stream",
     "text": [
      "[22.2927, 22.1169, 21.9111, 21.8487, 22.0134, 22.0813, 18.7817, 18.1359, 17.9503, 18.5292, 18.349, 19.1159, 20.2564, 20.5805, 18.4352, 19.9952, 19.0416, 21.8263, 20.8567, 21.102, 21.1679, 21.0887, 20.0334, 19.4525, 18.618]\n",
      "25\n"
     ]
    }
   ],
   "source": [
    "#12 hr hrrr:\n",
    "with open('hrrr_f12_Fairhope_AL.txt') as f:\n",
    "    lst=[line.split()[1] for line in f]\n",
    "    temp=[]\n",
    "    for i in lst:\n",
    "        new=i.replace(',',\"\")\n",
    "        temp.append(new)\n",
    "    temp.pop(0)\n",
    "    temp=[float(x) for x in temp]\n",
    "    temp=temp[2462:2487]\n",
    "    #temp=temp[2015:2063]\n",
    "    print(temp)\n",
    "    print(len(temp))\n",
    "#full time period is [2015:2112]"
   ]
  },
  {
   "cell_type": "code",
   "execution_count": 133,
   "id": "39bb1d69",
   "metadata": {},
   "outputs": [
    {
     "name": "stdout",
     "output_type": "stream",
     "text": [
      "[22.15, 22.35, 21.8, 21.45, 18.15, 17.95, 17.9, 17.9, 17.8, 17.7, 17.3, 18.299999999999997, 18.75, 19.2, 20.1, 19.9, 21.299999999999997, 23.0, 23.45, 23.35, 23.6, 23.55, 22.25, 19.45, 17.65]\n"
     ]
    }
   ],
   "source": [
    "#Air Temp CRN:\n",
    "with open('CRNS0101-05-2022-AL_Fairhope_3_NE.txt') as f:\n",
    "    lst=[line.split()[8] for line in f]\n",
    "    \n",
    "    a=(float(lst[29687])+float(lst[29688]))/2\n",
    "    b=(float(lst[29699])+float(lst[29700]))/2\n",
    "    c=(float(lst[29711])+float(lst[29712]))/2\n",
    "    d=(float(lst[29723])+float(lst[29724]))/2\n",
    "    e=(float(lst[29735])+float(lst[29736]))/2\n",
    "    f=(float(lst[29747])+float(lst[29748]))/2\n",
    "    g=(float(lst[29759])+float(lst[29760]))/2\n",
    "    h=(float(lst[29771])+float(lst[29772]))/2\n",
    "    i=(float(lst[29783])+float(lst[29784]))/2\n",
    "    j=(float(lst[29795])+float(lst[29796]))/2\n",
    "    k=(float(lst[29807])+float(lst[29808]))/2\n",
    "    l=(float(lst[29819])+float(lst[29820]))/2\n",
    "    m=(float(lst[29831])+float(lst[29832]))/2\n",
    "    n=(float(lst[29843])+float(lst[29844]))/2\n",
    "    o=(float(lst[29855])+float(lst[29856]))/2\n",
    "    p=(float(lst[29867])+float(lst[29868]))/2\n",
    "    q=(float(lst[29879])+float(lst[29880]))/2\n",
    "    r=(float(lst[29891])+float(lst[29892]))/2\n",
    "    s=(float(lst[29903])+float(lst[29904]))/2\n",
    "    t=(float(lst[29915])+float(lst[29916]))/2\n",
    "    u=(float(lst[29927])+float(lst[29928]))/2\n",
    "    v=(float(lst[29939])+float(lst[29940]))/2\n",
    "    w=(float(lst[29951])+float(lst[29952]))/2\n",
    "    x=(float(lst[29963])+float(lst[29964]))/2\n",
    "    y=(float(lst[29975])+float(lst[29976]))/2\n",
    "    temp_crn=[a,b,c,d,e,f,g,h,i,j,k,l,m,n,o,p,q,r,s,t,u,v,w,x,y]\n",
    "    print(temp_crn)"
   ]
  },
  {
   "cell_type": "code",
   "execution_count": 134,
   "id": "2e2c6057",
   "metadata": {},
   "outputs": [
    {
     "name": "stdout",
     "output_type": "stream",
     "text": [
      "[0.14270000000000138, -0.2331000000000003, 0.11110000000000042, 0.3987000000000016, 3.863400000000002, 4.1312999999999995, 0.8817000000000021, 0.2359000000000009, 0.15029999999999788, 0.8292000000000002, 1.0489999999999995, 0.8159000000000027, 1.5063999999999993, 1.3805000000000014, -1.6648000000000032, 0.09520000000000195, -2.258399999999998, -1.1737000000000002, -2.5932999999999993, -2.248000000000001, -2.432100000000002, -2.4613000000000014, -2.2165999999999997, 0.002500000000001279, 0.968]\n"
     ]
    }
   ],
   "source": [
    "difference4_fai = []\n",
    "\n",
    "zip_object = zip(temp, temp_crn)\n",
    "for temp_i, temp_crn_i in zip_object:\n",
    "    difference4_fai.append(temp_i-temp_crn_i)\n",
    "\n",
    "print(difference4_fai)"
   ]
  },
  {
   "cell_type": "markdown",
   "id": "ba62c881",
   "metadata": {},
   "source": [
    "<font size=\"3\">Selma, AL: 0200 UTC 14 April 2022-0200 UTC 15 April 2022\n",
    "</font>"
   ]
  },
  {
   "cell_type": "code",
   "execution_count": 135,
   "id": "935d8c80",
   "metadata": {},
   "outputs": [
    {
     "name": "stdout",
     "output_type": "stream",
     "text": [
      "[21.1052, 20.3044, 20.4111, 20.2862, 19.4509, 19.0188, 18.2192, 16.8859, 17.7628, 17.5917, 17.5365, 18.6159, 17.0689, 17.643, 16.9977, 17.9327, 17.5416, 19.4513, 20.7317, 22.1645, 22.2929, 20.7762, 18.5959, 17.265, 15.8055]\n"
     ]
    }
   ],
   "source": [
    "#1 hr hrrr:\n",
    "with open('hrrr_f12_Selma_AL.txt') as f:\n",
    "    lst=[line.split()[1] for line in f]\n",
    "    temp=[]\n",
    "    for i in lst:\n",
    "        new=i.replace(',',\"\")\n",
    "        temp.append(new)\n",
    "    temp.pop(0)\n",
    "    temp=[float(x) for x in temp]\n",
    "    temp=temp[2462:2487]\n",
    "    print(temp)"
   ]
  },
  {
   "cell_type": "code",
   "execution_count": 136,
   "id": "2fea209b",
   "metadata": {},
   "outputs": [
    {
     "name": "stdout",
     "output_type": "stream",
     "text": [
      "[22.6, 22.4, 18.35, 17.5, 17.0, 17.3, 17.3, 17.2, 17.2, 17.25, 16.799999999999997, 16.45, 17.35, 18.5, 19.55, 21.05, 22.4, 23.1, 24.15, 24.35, 24.05, 23.200000000000003, 20.15, 16.4, 14.95]\n"
     ]
    }
   ],
   "source": [
    "#Air Temp CRN:\n",
    "with open('CRNS0101-05-2022-AL_Selma_13_WNW.txt') as f:\n",
    "    lst=[line.split()[8] for line in f]\n",
    "    \n",
    "    a=(float(lst[29687])+float(lst[29688]))/2\n",
    "    b=(float(lst[29699])+float(lst[29700]))/2\n",
    "    c=(float(lst[29711])+float(lst[29712]))/2\n",
    "    d=(float(lst[29723])+float(lst[29724]))/2\n",
    "    e=(float(lst[29735])+float(lst[29736]))/2\n",
    "    f=(float(lst[29747])+float(lst[29748]))/2\n",
    "    g=(float(lst[29759])+float(lst[29760]))/2\n",
    "    h=(float(lst[29771])+float(lst[29772]))/2\n",
    "    i=(float(lst[29783])+float(lst[29784]))/2\n",
    "    j=(float(lst[29795])+float(lst[29796]))/2\n",
    "    k=(float(lst[29807])+float(lst[29808]))/2\n",
    "    l=(float(lst[29819])+float(lst[29820]))/2\n",
    "    m=(float(lst[29831])+float(lst[29832]))/2\n",
    "    n=(float(lst[29843])+float(lst[29844]))/2\n",
    "    o=(float(lst[29855])+float(lst[29856]))/2\n",
    "    p=(float(lst[29867])+float(lst[29868]))/2\n",
    "    q=(float(lst[29879])+float(lst[29880]))/2\n",
    "    r=(float(lst[29891])+float(lst[29892]))/2\n",
    "    s=(float(lst[29903])+float(lst[29904]))/2\n",
    "    t=(float(lst[29915])+float(lst[29916]))/2\n",
    "    u=(float(lst[29927])+float(lst[29928]))/2\n",
    "    v=(float(lst[29939])+float(lst[29940]))/2\n",
    "    w=(float(lst[29951])+float(lst[29952]))/2\n",
    "    x=(float(lst[29963])+float(lst[29964]))/2\n",
    "    y=(float(lst[29975])+float(lst[29976]))/2\n",
    "    temp_crn=[a,b,c,d,e,f,g,h,i,j,k,l,m,n,o,p,q,r,s,t,u,v,w,x,y]\n",
    "    print(temp_crn)"
   ]
  },
  {
   "cell_type": "code",
   "execution_count": 137,
   "id": "72c720a0",
   "metadata": {},
   "outputs": [
    {
     "name": "stdout",
     "output_type": "stream",
     "text": [
      "[-1.4948000000000015, -2.0955999999999975, 2.0610999999999997, 2.786200000000001, 2.4509000000000007, 1.718799999999998, 0.9192, -0.3140999999999998, 0.5627999999999993, 0.34169999999999945, 0.736500000000003, 2.1659000000000006, -0.2811000000000021, -0.8569999999999993, -2.5523000000000025, -3.1173, -4.8584, -3.6487000000000016, -3.4182999999999986, -2.185500000000001, -1.7571000000000012, -2.4238000000000035, -1.5540999999999983, 0.865000000000002, 0.855500000000001]\n",
      "25\n"
     ]
    }
   ],
   "source": [
    "difference4_sel = []\n",
    "\n",
    "zip_object = zip(temp, temp_crn)\n",
    "for temp_i, temp_crn_i in zip_object:\n",
    "    difference4_sel.append(temp_i-temp_crn_i)\n",
    "\n",
    "print(difference4_sel)\n",
    "print(len(difference4_sel))"
   ]
  },
  {
   "cell_type": "markdown",
   "id": "3a2e6fc9",
   "metadata": {},
   "source": [
    "<font size=\"3\">Bowling Green, KY: 0200 UTC 14 April 2022-0200 UTC 15 April 2022</font>"
   ]
  },
  {
   "cell_type": "code",
   "execution_count": 138,
   "id": "c761d214",
   "metadata": {},
   "outputs": [
    {
     "name": "stdout",
     "output_type": "stream",
     "text": [
      "[17.4802, 17.6169, 16.8486, 16.7237, 11.0759, 8.83133, 8.03171, 6.38589, 6.01282, 5.46674, 5.78647, 6.36588, 7.25641, 9.01804, 10.6852, 12.1827, 13.2291, 14.5138, 15.0442, 15.227, 14.9804, 14.0262, 12.2834, 10.7025, 9.74295]\n"
     ]
    }
   ],
   "source": [
    "#12 hr hrrr:\n",
    "with open('hrrr_f12_Bowling Green_KY.txt') as f:\n",
    "    lst=[line.split()[1] for line in f]\n",
    "    temp=[]\n",
    "    for i in lst:\n",
    "        new=i.replace(',',\"\")\n",
    "        temp.append(new)\n",
    "    temp.pop(0)\n",
    "    temp=[float(x) for x in temp]\n",
    "    temp=temp[2462:2487]\n",
    "    #temp=temp[2015:2063]\n",
    "    print(temp)\n",
    "    #print(len(temp))\n",
    "#full time period is [2015:2112]"
   ]
  },
  {
   "cell_type": "code",
   "execution_count": 139,
   "id": "5a571109",
   "metadata": {},
   "outputs": [
    {
     "name": "stdout",
     "output_type": "stream",
     "text": [
      "[16.4, 15.9, 15.8, 16.25, 12.3, 9.350000000000001, 8.149999999999999, 7.4, 6.2, 5.4, 4.449999999999999, 6.5, 7.75, 9.8, 12.0, 13.6, 15.2, 16.9, 17.75, 17.65, 17.45, 16.25, 14.350000000000001, 12.55, 11.75]\n"
     ]
    }
   ],
   "source": [
    "#Air Temp CRN:\n",
    "with open('CRNS0101-05-2022-KY_Bowling_Green_21_NNE.txt') as f:\n",
    "    lst=[line.split()[8] for line in f]\n",
    "    \n",
    "    a=(float(lst[29687])+float(lst[29688]))/2\n",
    "    b=(float(lst[29699])+float(lst[29700]))/2\n",
    "    c=(float(lst[29711])+float(lst[29712]))/2\n",
    "    d=(float(lst[29723])+float(lst[29724]))/2\n",
    "    e=(float(lst[29735])+float(lst[29736]))/2\n",
    "    f=(float(lst[29747])+float(lst[29748]))/2\n",
    "    g=(float(lst[29759])+float(lst[29760]))/2\n",
    "    h=(float(lst[29771])+float(lst[29772]))/2\n",
    "    i=(float(lst[29783])+float(lst[29784]))/2\n",
    "    j=(float(lst[29795])+float(lst[29796]))/2\n",
    "    k=(float(lst[29807])+float(lst[29808]))/2\n",
    "    l=(float(lst[29819])+float(lst[29820]))/2\n",
    "    m=(float(lst[29831])+float(lst[29832]))/2\n",
    "    n=(float(lst[29843])+float(lst[29844]))/2\n",
    "    o=(float(lst[29855])+float(lst[29856]))/2\n",
    "    p=(float(lst[29867])+float(lst[29868]))/2\n",
    "    q=(float(lst[29879])+float(lst[29880]))/2\n",
    "    r=(float(lst[29891])+float(lst[29892]))/2\n",
    "    s=(float(lst[29903])+float(lst[29904]))/2\n",
    "    t=(float(lst[29915])+float(lst[29916]))/2\n",
    "    u=(float(lst[29927])+float(lst[29928]))/2\n",
    "    v=(float(lst[29939])+float(lst[29940]))/2\n",
    "    w=(float(lst[29951])+float(lst[29952]))/2\n",
    "    x=(float(lst[29963])+float(lst[29964]))/2\n",
    "    y=(float(lst[29975])+float(lst[29976]))/2\n",
    "    temp_crn=[a,b,c,d,e,f,g,h,i,j,k,l,m,n,o,p,q,r,s,t,u,v,w,x,y]\n",
    "    print(temp_crn)"
   ]
  },
  {
   "cell_type": "code",
   "execution_count": 140,
   "id": "214cf6fd",
   "metadata": {},
   "outputs": [
    {
     "name": "stdout",
     "output_type": "stream",
     "text": [
      "[1.0802000000000014, 1.7169000000000008, 1.0486000000000004, 0.4737000000000009, -1.2241, -0.518670000000002, -0.11828999999999823, -1.0141100000000005, -0.18718000000000057, 0.06673999999999936, 1.3364700000000003, -0.13412000000000024, -0.4935900000000002, -0.7819600000000015, -1.3148, -1.4172999999999991, -1.9708999999999985, -2.3861999999999988, -2.7058, -2.4229999999999983, -2.4696, -2.2238000000000007, -2.066600000000001, -1.8475000000000001, -2.0070499999999996]\n"
     ]
    }
   ],
   "source": [
    "difference4_bow = []\n",
    "\n",
    "zip_object = zip(temp, temp_crn)\n",
    "for temp_i, temp_crn_i in zip_object:\n",
    "    difference4_bow.append(temp_i-temp_crn_i)\n",
    "\n",
    "print(difference4_bow)"
   ]
  },
  {
   "cell_type": "markdown",
   "id": "d5df1525",
   "metadata": {},
   "source": [
    "<font size=\"3\">Gadsden, AL: 0200 UTC 14 April 2022-0200 UTC 15 April 2022\n",
    "</font>"
   ]
  },
  {
   "cell_type": "code",
   "execution_count": 141,
   "id": "d0c17372",
   "metadata": {},
   "outputs": [
    {
     "name": "stdout",
     "output_type": "stream",
     "text": [
      "[22.3552, 21.1794, 20.3486, 18.4737, 16.2009, 16.0813, 16.4067, 16.8234, 17.3878, 17.0292, 13.5365, 13.6159, 13.3189, 13.893, 14.3102, 16.1202, 17.2916, 18.6388, 18.7942, 18.727, 17.8554, 17.0262, 14.5334, 13.265, 12.3055]\n",
      "25\n"
     ]
    }
   ],
   "source": [
    "#12 hr hrrr:\n",
    "with open('hrrr_f12_Gadsden_AL.txt') as f:\n",
    "    lst=[line.split()[1] for line in f]\n",
    "    temp=[]\n",
    "    for i in lst:\n",
    "        new=i.replace(',',\"\")\n",
    "        temp.append(new)\n",
    "    temp.pop(0)\n",
    "    temp=[float(x) for x in temp]\n",
    "    temp=temp[2462:2487]\n",
    "    #temp=temp[2015:2063]\n",
    "    print(temp)\n",
    "    print(len(temp))\n",
    "#full time period is [2015:2112]"
   ]
  },
  {
   "cell_type": "code",
   "execution_count": 142,
   "id": "920d128d",
   "metadata": {},
   "outputs": [
    {
     "name": "stdout",
     "output_type": "stream",
     "text": [
      "[20.700000000000003, 20.549999999999997, 18.4, 17.15, 15.55, 15.25, 15.2, 15.1, 15.1, 15.3, 13.05, 12.9, 13.6, 13.45, 15.05, 16.15, 17.35, 18.3, 18.799999999999997, 18.8, 18.5, 17.75, 15.4, 12.8, 12.15]\n"
     ]
    }
   ],
   "source": [
    "#Air Temp CRN:\n",
    "with open('CRNS0101-05-2022-AL_Gadsden_19_N.txt') as f:\n",
    "    lst=[line.split()[8] for line in f]\n",
    "    \n",
    "    a=(float(lst[29687])+float(lst[29688]))/2\n",
    "    b=(float(lst[29699])+float(lst[29700]))/2\n",
    "    c=(float(lst[29711])+float(lst[29712]))/2\n",
    "    d=(float(lst[29723])+float(lst[29724]))/2\n",
    "    e=(float(lst[29735])+float(lst[29736]))/2\n",
    "    f=(float(lst[29747])+float(lst[29748]))/2\n",
    "    g=(float(lst[29759])+float(lst[29760]))/2\n",
    "    h=(float(lst[29771])+float(lst[29772]))/2\n",
    "    i=(float(lst[29783])+float(lst[29784]))/2\n",
    "    j=(float(lst[29795])+float(lst[29796]))/2\n",
    "    k=(float(lst[29807])+float(lst[29808]))/2\n",
    "    l=(float(lst[29819])+float(lst[29820]))/2\n",
    "    m=(float(lst[29831])+float(lst[29832]))/2\n",
    "    n=(float(lst[29843])+float(lst[29844]))/2\n",
    "    o=(float(lst[29855])+float(lst[29856]))/2\n",
    "    p=(float(lst[29867])+float(lst[29868]))/2\n",
    "    q=(float(lst[29879])+float(lst[29880]))/2\n",
    "    r=(float(lst[29891])+float(lst[29892]))/2\n",
    "    s=(float(lst[29903])+float(lst[29904]))/2\n",
    "    t=(float(lst[29915])+float(lst[29916]))/2\n",
    "    u=(float(lst[29927])+float(lst[29928]))/2\n",
    "    v=(float(lst[29939])+float(lst[29940]))/2\n",
    "    w=(float(lst[29951])+float(lst[29952]))/2\n",
    "    x=(float(lst[29963])+float(lst[29964]))/2\n",
    "    y=(float(lst[29975])+float(lst[29976]))/2\n",
    "    temp_crn=[a,b,c,d,e,f,g,h,i,j,k,l,m,n,o,p,q,r,s,t,u,v,w,x,y]\n",
    "    print(temp_crn)"
   ]
  },
  {
   "cell_type": "code",
   "execution_count": 143,
   "id": "7476701f",
   "metadata": {},
   "outputs": [
    {
     "name": "stdout",
     "output_type": "stream",
     "text": [
      "[1.6551999999999971, 0.629400000000004, 1.9486000000000026, 1.3237000000000023, 0.6509, 0.8312999999999988, 1.2067000000000014, 1.7233999999999998, 2.287799999999999, 1.7291999999999987, 0.4864999999999995, 0.7158999999999995, -0.28110000000000035, 0.4430000000000014, -0.7398000000000007, -0.02979999999999805, -0.05840000000000245, 0.3387999999999991, -0.005799999999997141, -0.0730000000000004, -0.6446000000000005, -0.7238000000000007, -0.8666, 0.46499999999999986, 0.15549999999999997]\n"
     ]
    }
   ],
   "source": [
    "difference4_gad = []\n",
    "\n",
    "zip_object = zip(temp, temp_crn)\n",
    "for temp_i, temp_crn_i in zip_object:\n",
    "    difference4_gad.append(temp_i-temp_crn_i)\n",
    "\n",
    "print(difference4_gad)"
   ]
  },
  {
   "cell_type": "markdown",
   "id": "047f5261",
   "metadata": {},
   "source": [
    "<font size=\"3\">Newton, GA: 0600 UTC 14 April 2022-0600 UTC 15 April 2022\n",
    "</font>"
   ]
  },
  {
   "cell_type": "code",
   "execution_count": 144,
   "id": "4eb1aeae",
   "metadata": {},
   "outputs": [
    {
     "name": "stdout",
     "output_type": "stream",
     "text": [
      "[16.7009, 16.3938, 15.7817, 17.4484, 16.2628, 16.0292, 17.474, 19.8659, 22.3189, 23.143, 25.9352, 26.3702, 27.9166, 27.7638, 28.2942, 27.602, 26.2304, 25.1512, 22.9084, 21.7025, 21.118, 20.6088, 19.6458, 18.9479, 18.3534]\n",
      "25\n"
     ]
    }
   ],
   "source": [
    "#12 hr hrrr:\n",
    "with open('hrrr_f12_Newton_GA.txt') as f:\n",
    "    lst=[line.split()[1] for line in f]\n",
    "    temp=[]\n",
    "    for i in lst:\n",
    "        new=i.replace(',',\"\")\n",
    "        temp.append(new)\n",
    "    temp.pop(0)\n",
    "    temp=[float(x) for x in temp]\n",
    "    temp=temp[2466:2491]\n",
    "    #temp=temp[2015:2063]\n",
    "    print(temp)\n",
    "    print(len(temp))\n",
    "#full time period is [2015:2112]"
   ]
  },
  {
   "cell_type": "code",
   "execution_count": 145,
   "id": "4fd3dae9",
   "metadata": {},
   "outputs": [
    {
     "name": "stdout",
     "output_type": "stream",
     "text": [
      "[15.55, 15.25, 15.2, 15.1, 15.1, 15.3, 13.05, 12.9, 13.6, 13.45, 15.05, 16.15, 17.35, 18.3, 18.799999999999997, 18.8, 18.5, 17.75, 15.4, 12.8, 12.15, 10.45, 10.5, 8.5, 7.65]\n"
     ]
    }
   ],
   "source": [
    "#Air Temp CRN:\n",
    "with open('CRNS0101-05-2022-AL_Gadsden_19_N.txt') as f:\n",
    "    lst=[line.split()[8] for line in f]\n",
    "    \n",
    "    a=(float(lst[29735])+float(lst[29736]))/2\n",
    "    b=(float(lst[29747])+float(lst[29748]))/2\n",
    "    c=(float(lst[29759])+float(lst[29760]))/2\n",
    "    d=(float(lst[29771])+float(lst[29772]))/2\n",
    "    e=(float(lst[29783])+float(lst[29784]))/2\n",
    "    f=(float(lst[29795])+float(lst[29796]))/2\n",
    "    g=(float(lst[29807])+float(lst[29808]))/2\n",
    "    h=(float(lst[29819])+float(lst[29820]))/2\n",
    "    i=(float(lst[29831])+float(lst[29832]))/2\n",
    "    j=(float(lst[29843])+float(lst[29844]))/2\n",
    "    k=(float(lst[29855])+float(lst[29856]))/2\n",
    "    l=(float(lst[29867])+float(lst[29868]))/2\n",
    "    m=(float(lst[29879])+float(lst[29880]))/2\n",
    "    n=(float(lst[29891])+float(lst[29892]))/2\n",
    "    o=(float(lst[29903])+float(lst[29904]))/2\n",
    "    p=(float(lst[29915])+float(lst[29916]))/2\n",
    "    q=(float(lst[29927])+float(lst[29928]))/2\n",
    "    r=(float(lst[29939])+float(lst[29940]))/2\n",
    "    s=(float(lst[29951])+float(lst[29952]))/2\n",
    "    t=(float(lst[29963])+float(lst[29964]))/2\n",
    "    u=(float(lst[29975])+float(lst[29976]))/2\n",
    "    v=(float(lst[29987])+float(lst[29988]))/2\n",
    "    w=(float(lst[29999])+float(lst[30000]))/2\n",
    "    x=(float(lst[30011])+float(lst[30012]))/2\n",
    "    y=(float(lst[30023])+float(lst[30024]))/2\n",
    "    temp_crn=[a,b,c,d,e,f,g,h,i,j,k,l,m,n,o,p,q,r,s,t,u,v,w,x,y]\n",
    "    print(temp_crn)"
   ]
  },
  {
   "cell_type": "code",
   "execution_count": 146,
   "id": "37b874ca",
   "metadata": {},
   "outputs": [
    {
     "name": "stdout",
     "output_type": "stream",
     "text": [
      "[1.1509, 1.1437999999999988, 0.5817000000000014, 2.3484, 1.162799999999999, 0.7291999999999987, 4.4239999999999995, 6.9658999999999995, 8.7189, 9.693000000000001, 10.885199999999998, 10.220200000000002, 10.566599999999998, 9.463799999999999, 9.494200000000003, 8.802, 7.7303999999999995, 7.401199999999999, 7.5084, 8.9025, 8.967999999999998, 10.1588, 9.145800000000001, 10.4479, 10.7034]\n"
     ]
    }
   ],
   "source": [
    "difference4_newt = []\n",
    "\n",
    "zip_object = zip(temp, temp_crn)\n",
    "for temp_i, temp_crn_i in zip_object:\n",
    "    difference4_newt.append(temp_i-temp_crn_i)\n",
    "\n",
    "print(difference4_newt)"
   ]
  },
  {
   "cell_type": "code",
   "execution_count": 147,
   "id": "d5fd370b",
   "metadata": {},
   "outputs": [
    {
     "name": "stdout",
     "output_type": "stream",
     "text": [
      "[ 0.90229167  1.42606667  1.06654167  1.789775    1.7241      1.593475\n",
      "  1.6042      1.50555833  0.88855     0.407375    0.33569167  0.3317\n",
      "  0.58154167  0.40148333  0.089175   -0.20987167 -0.75542455 -1.04891545\n",
      " -1.08903818 -1.17804364 -1.34017818 -1.28446417 -1.35104    -1.36080583\n",
      " -1.38812   ]\n",
      "[2.16266039 3.19679279 1.96328024 2.2263833  2.38134048 2.05789622\n",
      " 1.93679082 1.83766596 1.63555688 1.38989183 1.04521336 1.39620805\n",
      " 0.98821586 0.75352826 1.1636761  0.97415349 1.10550741 0.81943942\n",
      " 1.23256719 1.63258289 1.3563638  1.2861622  1.15204209 1.36498591\n",
      " 1.64079253]\n"
     ]
    },
    {
     "name": "stderr",
     "output_type": "stream",
     "text": [
      "C:\\Users\\panwalaf\\AppData\\Local\\Temp\\ipykernel_18856\\2360887579.py:3: UserWarning: Warning: converting a masked element to nan.\n",
      "  c1 = np.array([difference1_sal,difference1_bat,difference1_laf,difference1_mon,difference1_hol,difference1_new,difference1_gai,difference1_fai,difference1_sel,difference1_bow,difference1_gad,difference1_newt])\n",
      "C:\\Users\\panwalaf\\AppData\\Local\\Temp\\ipykernel_18856\\2360887579.py:8: UserWarning: Warning: converting a masked element to nan.\n",
      "  b1 = np.array([difference1_sal,difference1_bat,difference1_laf,difference1_mon,difference1_hol,difference1_new,difference1_gai,difference1_fai,difference1_sel,difference1_bow,difference1_gad,difference1_newt])\n"
     ]
    },
    {
     "data": {
      "text/plain": [
       "25"
      ]
     },
     "execution_count": 147,
     "metadata": {},
     "output_type": "execute_result"
    }
   ],
   "source": [
    "# data = np.array([difference1_sal,difference1_sel,difference1_mon])\n",
    "# np.ma.average(data, axis=0)\n",
    "c1 = np.array([difference1_sal,difference1_bat,difference1_laf,difference1_mon,difference1_hol,difference1_new,difference1_gai,difference1_fai,difference1_sel,difference1_bow,difference1_gad,difference1_newt])\n",
    "c1=np.nanmean(c1, axis=0)\n",
    "print(c1)\n",
    "len(c1)\n",
    "\n",
    "b1 = np.array([difference1_sal,difference1_bat,difference1_laf,difference1_mon,difference1_hol,difference1_new,difference1_gai,difference1_fai,difference1_sel,difference1_bow,difference1_gad,difference1_newt])\n",
    "b1=np.nanstd(b1, axis=0)\n",
    "print(b1)\n",
    "len(b1)"
   ]
  },
  {
   "cell_type": "code",
   "execution_count": 148,
   "id": "7d6e3e43",
   "metadata": {},
   "outputs": [
    {
     "data": {
      "image/png": "[encoded data removed]",
      "text/plain": [
       "<Figure size 792x396 with 1 Axes>"
      ]
     },
     "metadata": {},
     "output_type": "display_data"
    }
   ],
   "source": [
    "plt.style.use('seaborn-whitegrid')\n",
    "plt.rcParams[\"figure.figsize\"] = [11.00, 5.50]\n",
    "plt.rcParams[\"figure.autolayout\"] = True\n",
    "plt.yticks(np.arange(-5,6,1))\n",
    "plt.ylim(-5,5)\n",
    "# c[6]=None\n",
    "# b[6]=None\n",
    "\n",
    "plt.plot(hour,c1,c=\"black\")\n",
    "plt.errorbar(hour,c1,yerr=b1,linestyle='None', marker='s')\n",
    "# c[6]=None\n",
    "# b[6]=None\n",
    "\n",
    "plt.title(\"12-hr Avg. MBE All Stations\")\n",
    "plt.xlabel(\"Time Relative to Event Passage\")\n",
    "plt.ylabel(\"MBE Air Temperature (C)\")\n",
    "#plt.plot(hour,c)\n",
    "#plt.errorbar(hour,c,yerr=b,ecolor='r',elinewidth=5,fmt='s',color='k')\n",
    "#plt.grid()\n",
    "plt.xticks(np.arange(min(hour), max(hour)+1, 1.0))\n",
    "plt.show()\n",
    "#plt.axvspan(-4, 4, color='green', alpha=0.2, lw=0)"
   ]
  },
  {
   "cell_type": "code",
   "execution_count": 149,
   "id": "3931d44b",
   "metadata": {},
   "outputs": [
    {
     "name": "stdout",
     "output_type": "stream",
     "text": [
      "[ 0.31630833  0.82598333  1.18658333  1.6004      1.54666667  1.9157\n",
      "  1.66680909  1.19000833  1.31483333  1.51865     1.21770833  1.0984975\n",
      "  1.07054083  0.46628583 -0.02747167 -0.42619167 -0.49046417 -0.86043083\n",
      " -0.49088667 -0.87985583 -1.0278525  -1.44085833 -1.8533125  -1.61107\n",
      " -1.151045  ]\n",
      "[2.40283401 1.97038958 2.55978081 2.94293649 2.34461894 1.97255942\n",
      " 1.28666142 1.16476517 1.12579061 0.94062841 1.40083722 1.93004149\n",
      " 2.12278194 1.84329221 1.52997765 1.27718637 1.06820122 1.1280956\n",
      " 1.25332793 1.63431096 1.51535691 1.42445749 1.6024803  1.58739242\n",
      " 1.7482745 ]\n"
     ]
    },
    {
     "name": "stderr",
     "output_type": "stream",
     "text": [
      "C:\\Users\\panwalaf\\AppData\\Local\\Temp\\ipykernel_18856\\2317409182.py:1: UserWarning: Warning: converting a masked element to nan.\n",
      "  c2 = np.array([difference2_sal,difference2_bat,difference2_laf,difference2_mon,difference2_hol,difference2_new,difference2_gai,difference2_fai,difference2_sel,difference2_bow,difference2_gad,difference2_newt])\n",
      "C:\\Users\\panwalaf\\AppData\\Local\\Temp\\ipykernel_18856\\2317409182.py:6: UserWarning: Warning: converting a masked element to nan.\n",
      "  b2 = np.array([difference2_sal,difference2_bat,difference2_laf,difference2_mon,difference2_hol,difference2_new,difference2_gai,difference2_fai,difference2_sel,difference2_bow,difference2_gad,difference2_newt])\n"
     ]
    },
    {
     "data": {
      "text/plain": [
       "25"
      ]
     },
     "execution_count": 149,
     "metadata": {},
     "output_type": "execute_result"
    }
   ],
   "source": [
    "c2 = np.array([difference2_sal,difference2_bat,difference2_laf,difference2_mon,difference2_hol,difference2_new,difference2_gai,difference2_fai,difference2_sel,difference2_bow,difference2_gad,difference2_newt])\n",
    "c2=np.nanmean(c2, axis=0)\n",
    "print(c2)\n",
    "len(c2)\n",
    "\n",
    "b2 = np.array([difference2_sal,difference2_bat,difference2_laf,difference2_mon,difference2_hol,difference2_new,difference2_gai,difference2_fai,difference2_sel,difference2_bow,difference2_gad,difference2_newt])\n",
    "b2=np.nanstd(b2, axis=0)\n",
    "print(b2)\n",
    "len(b2)"
   ]
  },
  {
   "cell_type": "code",
   "execution_count": 150,
   "id": "4c8ac8a3",
   "metadata": {},
   "outputs": [
    {
     "data": {
      "image/png": "[encoded data removed]",
      "text/plain": [
       "<Figure size 792x396 with 1 Axes>"
      ]
     },
     "metadata": {},
     "output_type": "display_data"
    }
   ],
   "source": [
    "plt.style.use('seaborn-whitegrid')\n",
    "plt.rcParams[\"figure.figsize\"] = [11.00, 5.50]\n",
    "plt.rcParams[\"figure.autolayout\"] = True\n",
    "plt.yticks(np.arange(-5,6,1))\n",
    "plt.ylim(-5,5)\n",
    "# c[6]=None\n",
    "# b[6]=None\n",
    "\n",
    "plt.plot(hour,c2,c=\"black\")\n",
    "plt.errorbar(hour,c2,c=\"r\",yerr=b2,linestyle='None', marker='s')\n",
    "# c[6]=None\n",
    "# b[6]=None\n",
    "\n",
    "plt.title(\"12-hr Avg. MBE All Stations\")\n",
    "plt.xlabel(\"Time Relative to Event Passage\")\n",
    "plt.ylabel(\"MBE Air Temperature (C)\")\n",
    "#plt.plot(hour,c)\n",
    "#plt.errorbar(hour,c,yerr=b,ecolor='r',elinewidth=5,fmt='s',color='k')\n",
    "#plt.grid()\n",
    "plt.xticks(np.arange(min(hour), max(hour)+1, 1.0))\n",
    "plt.show()\n",
    "#plt.axvspan(-4, 4, color='green', alpha=0.2, lw=0)"
   ]
  },
  {
   "cell_type": "code",
   "execution_count": 151,
   "id": "e7aee5e0",
   "metadata": {},
   "outputs": [
    {
     "name": "stdout",
     "output_type": "stream",
     "text": [
      "[ 0.88378333  1.22415     1.6051      1.175375    1.38939167  1.47290833\n",
      "  1.36758333  0.57673333  0.056825    0.083475   -0.26371667 -0.60346583\n",
      " -0.39676583 -0.51020167  0.17319    -0.3121325  -0.5449275  -1.561\n",
      " -1.51759167 -0.827945   -0.79335    -0.99628583 -0.7803     -0.56553333\n",
      " -0.656745  ]\n",
      "[1.28261831 1.6340253  2.75797827 2.67311854 1.57089031 2.29782595\n",
      " 2.12358289 1.1677235  1.6542131  1.65377242 1.70552525 1.94468626\n",
      " 2.27846133 2.16640225 1.4558792  1.37538003 1.42765948 0.69063418\n",
      " 0.75954098 1.05858292 0.82390439 1.15937379 0.56347788 0.66599433\n",
      " 0.78982233]\n"
     ]
    },
    {
     "data": {
      "text/plain": [
       "25"
      ]
     },
     "execution_count": 151,
     "metadata": {},
     "output_type": "execute_result"
    }
   ],
   "source": [
    "c3 = np.array([difference3_sal,difference3_bat,difference3_laf,difference3_mon,difference3_hol,difference3_new,difference3_gai,difference3_fai,difference3_sel,difference3_bow,difference3_gad,difference3_newt])\n",
    "c3=np.nanmean(c3, axis=0)\n",
    "print(c3)\n",
    "len(c3)\n",
    "\n",
    "b3 = np.array([difference3_sal,difference3_bat,difference3_laf,difference3_mon,difference3_hol,difference3_new,difference3_gai,difference3_fai,difference3_sel,difference3_bow,difference3_gad,difference3_newt])\n",
    "b3=np.nanstd(b3, axis=0)\n",
    "print(b3)\n",
    "len(b3)"
   ]
  },
  {
   "cell_type": "code",
   "execution_count": 152,
   "id": "00a5e783",
   "metadata": {},
   "outputs": [
    {
     "data": {
      "image/png": "[encoded data removed]",
      "text/plain": [
       "<Figure size 792x396 with 1 Axes>"
      ]
     },
     "metadata": {},
     "output_type": "display_data"
    }
   ],
   "source": [
    "plt.style.use('seaborn-whitegrid')\n",
    "plt.rcParams[\"figure.figsize\"] = [11.00, 5.50]\n",
    "plt.rcParams[\"figure.autolayout\"] = True\n",
    "plt.yticks(np.arange(-5,6,1))\n",
    "plt.ylim(-5,5)\n",
    "# c[6]=None\n",
    "# b[6]=None\n",
    "\n",
    "plt.plot(hour,c3,c=\"green\")\n",
    "plt.errorbar(hour,c3,c=\"green\",yerr=b3,linestyle='None', marker='s')\n",
    "# c[6]=None\n",
    "# b[6]=None\n",
    "\n",
    "plt.title(\"12-hr Avg. MBE All Stations\")\n",
    "plt.xlabel(\"Time Relative to Event Passage\")\n",
    "plt.ylabel(\"MBE Air Temperature (C)\")\n",
    "#plt.plot(hour,c)\n",
    "#plt.errorbar(hour,c,yerr=b,ecolor='r',elinewidth=5,fmt='s',color='k')\n",
    "#plt.grid()\n",
    "plt.xticks(np.arange(min(hour), max(hour)+1, 1.0))\n",
    "plt.show()\n",
    "#plt.axvspan(-4, 4, color='green', alpha=0.2, lw=0)"
   ]
  },
  {
   "cell_type": "code",
   "execution_count": 153,
   "id": "b2d7f7dd",
   "metadata": {},
   "outputs": [
    {
     "name": "stdout",
     "output_type": "stream",
     "text": [
      "[ 0.92503333  0.74268333  1.22013333  1.40689167  1.472125    1.93361083\n",
      "  1.12239     1.41813583  1.82059333  1.756365    1.37824667  1.31652833\n",
      "  1.01181417  0.9350625   0.17811833  0.63237917 -0.0449975   0.27902667\n",
      "  0.01182333  0.10165333  0.21366467  0.22950333  0.09118833  0.43221833\n",
      "  0.3735575 ]\n",
      "[2.48803446 1.40223288 1.05282487 0.98019993 1.99427447 1.99704193\n",
      " 1.51464747 2.75024373 2.90645575 3.02007612 3.10531423 3.01194602\n",
      " 3.11741243 2.77083606 2.99915051 2.7802368  2.96861284 2.96208762\n",
      " 3.07652223 3.14808914 3.27556071 3.56327375 3.10073906 3.23346799\n",
      " 3.38219592]\n"
     ]
    },
    {
     "data": {
      "text/plain": [
       "25"
      ]
     },
     "execution_count": 153,
     "metadata": {},
     "output_type": "execute_result"
    }
   ],
   "source": [
    "c4 = np.array([difference4_sal,difference4_bat,difference4_laf,difference4_mon,difference4_hol,difference4_new,difference4_gai,difference4_fai,difference4_sel,difference4_bow,difference4_gad,difference4_newt])\n",
    "c4=np.nanmean(c4, axis=0)\n",
    "print(c4)\n",
    "len(c4)\n",
    "\n",
    "b4 = np.array([difference4_sal,difference4_bat,difference4_laf,difference4_mon,difference4_hol,difference4_new,difference4_gai,difference4_fai,difference4_sel,difference4_bow,difference4_gad,difference4_newt])\n",
    "b4=np.nanstd(b4, axis=0)\n",
    "print(b4)\n",
    "len(b4)"
   ]
  },
  {
   "cell_type": "code",
   "execution_count": 154,
   "id": "e70a6cef",
   "metadata": {},
   "outputs": [
    {
     "data": {
      "image/png": "[encoded data removed]",
      "text/plain": [
       "<Figure size 792x396 with 1 Axes>"
      ]
     },
     "metadata": {},
     "output_type": "display_data"
    }
   ],
   "source": [
    "plt.style.use('seaborn-whitegrid')\n",
    "plt.rcParams[\"figure.figsize\"] = [11.00, 5.50]\n",
    "plt.rcParams[\"figure.autolayout\"] = True\n",
    "plt.yticks(np.arange(-5,6,1))\n",
    "plt.ylim(-5,5)\n",
    "# c[6]=None\n",
    "# b[6]=None\n",
    "\n",
    "plt.plot(hour,c4,c=\"orange\")\n",
    "plt.errorbar(hour,c4,c=\"orange\",yerr=b4,linestyle='None', marker='s')\n",
    "# c[6]=None\n",
    "# b[6]=None\n",
    "\n",
    "plt.title(\"12-hr Avg. MBE All Stations\")\n",
    "plt.xlabel(\"Time Relative to Event Passage\")\n",
    "plt.ylabel(\"MBE Air Temperature (C)\")\n",
    "#plt.plot(hour,c)\n",
    "#plt.errorbar(hour,c,yerr=b,ecolor='r',elinewidth=5,fmt='s',color='k')\n",
    "#plt.grid()\n",
    "plt.xticks(np.arange(min(hour), max(hour)+1, 1.0))\n",
    "plt.show()\n",
    "#plt.axvspan(-4, 4, color='green', alpha=0.2, lw=0)"
   ]
  },
  {
   "cell_type": "code",
   "execution_count": 155,
   "id": "240eafe4",
   "metadata": {},
   "outputs": [
    {
     "data": {
      "image/png": "[encoded data removed]",
      "text/plain": [
       "<Figure size 792x396 with 1 Axes>"
      ]
     },
     "metadata": {},
     "output_type": "display_data"
    }
   ],
   "source": [
    "plt.style.use('seaborn-whitegrid')\n",
    "plt.rcParams[\"figure.figsize\"] = [11.00, 5.50]\n",
    "plt.rcParams[\"figure.autolayout\"] = True\n",
    "plt.yticks(np.arange(-6,7,2))\n",
    "plt.ylim(-6,6)\n",
    "\n",
    "plt.plot(hour,c1,c=\"b\",label=\"IOP 1\")\n",
    "plt.errorbar(hour,c1,c=\"b\",yerr=b1,linestyle='None', marker='s')\n",
    "\n",
    "plt.plot(hour,c2,c=\"r\",label=\"IOP 2\")\n",
    "plt.errorbar(hour,c2,c=\"r\",yerr=b2,linestyle='None', marker='s')\n",
    "\n",
    "plt.plot(hour,c3,c=\"green\")\n",
    "plt.errorbar(hour,c3,c=\"green\",yerr=b3,linestyle='None', marker='s')\n",
    "\n",
    "plt.plot(hour,c4,c=\"orange\")\n",
    "plt.errorbar(hour,c4,c=\"orange\",yerr=b4,linestyle='None', marker='s')\n",
    "\n",
    "plt.title(\"12-hr Avg. MBE All Stations\")\n",
    "plt.xlabel(\"Time Relative to Event Passage\")\n",
    "plt.ylabel(\"MBE Air Temperature (C)\")\n",
    "#plt.plot(hour,c)\n",
    "#plt.errorbar(hour,c,yerr=b,ecolor='r',elinewidth=5,fmt='s',color='k')\n",
    "#plt.grid()\n",
    "plt.xticks(np.arange(min(hour), max(hour)+1, 1.0))\n",
    "plt.legend([\"IOP 1\", \"IOP 2\",\"IOP 3\",\"IOP 4\"], loc =\"lower right\")\n",
    "plt.show()"
   ]
  },
  {
   "cell_type": "code",
   "execution_count": null,
   "id": "0a43b9bb",
   "metadata": {},
   "outputs": [],
   "source": []
  },
  {
   "cell_type": "code",
   "execution_count": null,
   "id": "820d3ed5",
   "metadata": {},
   "outputs": [],
   "source": []
  }
 ],
 "metadata": {
  "kernelspec": {
   "display_name": "Python 3 (ipykernel)",
   "language": "python",
   "name": "python3"
  },
  "language_info": {
   "codemirror_mode": {
    "name": "ipython",
    "version": 3
   },
   "file_extension": ".py",
   "mimetype": "text/x-python",
   "name": "python",
   "nbconvert_exporter": "python",
   "pygments_lexer": "ipython3",
   "version": "3.9.12"
  }
 },
 "nbformat": 4,
 "nbformat_minor": 5
}
