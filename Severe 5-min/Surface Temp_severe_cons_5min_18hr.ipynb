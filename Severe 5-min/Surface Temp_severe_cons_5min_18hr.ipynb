{
 "cells": [
  {
   "cell_type": "code",
   "execution_count": 1,
   "id": "83d28093",
   "metadata": {},
   "outputs": [],
   "source": [
    "import numpy as np\n",
    "import matplotlib.pyplot as plt\n",
    "import math"
   ]
  },
  {
   "cell_type": "markdown",
   "id": "18ad22a0",
   "metadata": {},
   "source": [
    "<font size=\"3\">Salem, MO: 1200 UTC 22 March 2022-1200 UTC 23 March 2022</font>"
   ]
  },
  {
   "cell_type": "code",
   "execution_count": 2,
   "id": "1b19b289",
   "metadata": {},
   "outputs": [
    {
     "name": "stdout",
     "output_type": "stream",
     "text": [
      "[10.3, 10.67, 12.87, 13.98, 14.86, 15.66, 14.2, 14.27, 15.27, 16.16, 13.54, 14.37, 13.23, 13.14, 12.08, 11.86, 11.57, 10.89, 10.86, 10.51, 9.81, 9.64001, 6.35001, 6.35001, 6.49002]\n"
     ]
    }
   ],
   "source": [
    "#18 hr hrrr:\n",
    "with open('hrrr_f18_Salem_MO.txt') as f:\n",
    "    lst=[line.split()[4] for line in f]\n",
    "    temp=[]\n",
    "    for i in lst:\n",
    "        new=i.replace(',',\"\")\n",
    "        temp.append(new)\n",
    "    temp.pop(0)\n",
    "    temp=[float(x) for x in temp]\n",
    "    #print(temp.index(6.91541))\n",
    "    temp=temp[1914:1939]\n",
    "    print(temp)\n",
    "    #print(len(temp))\n",
    "#full time period is [2015:2112]"
   ]
  },
  {
   "cell_type": "code",
   "execution_count": 3,
   "id": "e9d4dbcc",
   "metadata": {},
   "outputs": [
    {
     "name": "stdout",
     "output_type": "stream",
     "text": [
      "[9.75, 10.95, 11.4, 11.7, 12.149999999999999, 12.850000000000001, 13.85, 14.7, 14.2, 12.8, 13.25, 12.1, 11.7, 11.05, 10.75, 10.95, 9.5, 9.6, 8.1, 9.0, 6.85, 6.95, 6.4, 6.2, 6.3]\n"
     ]
    }
   ],
   "source": [
    "#Air Temp CRN:\n",
    "with open('CRNS0101-05-2022-MO_Salem_10_W.txt') as f:\n",
    "    lst=[line.split()[12] for line in f]\n",
    "\n",
    "    a=(float(lst[23183])+float(lst[23184]))/2\n",
    "    b=(float(lst[23195])+float(lst[23196]))/2\n",
    "    c=(float(lst[23207])+float(lst[23208]))/2\n",
    "    d=(float(lst[23219])+float(lst[23220]))/2\n",
    "    e=(float(lst[23231])+float(lst[23232]))/2\n",
    "    f=(float(lst[23243])+float(lst[23244]))/2\n",
    "    g=(float(lst[23255])+float(lst[23256]))/2\n",
    "    h=(float(lst[23267])+float(lst[23268]))/2\n",
    "    i=(float(lst[23279])+float(lst[23280]))/2\n",
    "    j=(float(lst[23291])+float(lst[23292]))/2\n",
    "    k=(float(lst[23303])+float(lst[23304]))/2\n",
    "    l=(float(lst[23315])+float(lst[23316]))/2\n",
    "    m=(float(lst[23327])+float(lst[23328]))/2\n",
    "    n=(float(lst[23339])+float(lst[23340]))/2\n",
    "    o=(float(lst[23351])+float(lst[23352]))/2\n",
    "    p=(float(lst[23363])+float(lst[23364]))/2\n",
    "    q=(float(lst[23375])+float(lst[23376]))/2\n",
    "    r=(float(lst[23387])+float(lst[23388]))/2\n",
    "    s=(float(lst[23399])+float(lst[23400]))/2\n",
    "    t=(float(lst[23411])+float(lst[23412]))/2\n",
    "    u=(float(lst[23423])+float(lst[23424]))/2\n",
    "    v=(float(lst[23435])+float(lst[23436]))/2\n",
    "    w=(float(lst[23447])+float(lst[23448]))/2\n",
    "    x=(float(lst[23459])+float(lst[23460]))/2\n",
    "    y=(float(lst[23471])+float(lst[23472]))/2\n",
    "    temp_crn=[a,b,c,d,e,f,g,h,i,j,k,l,m,n,o,p,q,r,s,t,u,v,w,x,y]\n",
    "    print(temp_crn)"
   ]
  },
  {
   "cell_type": "code",
   "execution_count": 4,
   "id": "1e9aed03-d99c-4045-812a-e26bcc99b84f",
   "metadata": {},
   "outputs": [
    {
     "name": "stdout",
     "output_type": "stream",
     "text": [
      "[0.5500000000000007, -0.27999999999999936, 1.4699999999999989, 2.280000000000001, 2.710000000000001, 2.8099999999999987, 0.34999999999999964, -0.4299999999999997, 1.0700000000000003, 3.3599999999999994, 0.28999999999999915, 2.2699999999999996, 1.5300000000000011, 2.09, 1.33, 0.9100000000000001, 2.0700000000000003, 1.290000000000001, 2.76, 1.5099999999999998, 2.960000000000001, 2.69001, -0.0499900000000002, 0.15000999999999998, 0.19002000000000052]\n"
     ]
    }
   ],
   "source": [
    "difference1_sal = []\n",
    "\n",
    "zip_object = zip(temp, temp_crn)\n",
    "for temp_i, temp_crn_i in zip_object:\n",
    "    difference1_sal.append(temp_i-temp_crn_i)\n",
    "\n",
    "print(difference1_sal)"
   ]
  },
  {
   "cell_type": "markdown",
   "id": "9043c519",
   "metadata": {},
   "source": [
    "<font size=\"3\">Batesville, AR: 1200 UTC 22 March 2022-1200 UTC 23 March 2022</font>"
   ]
  },
  {
   "cell_type": "code",
   "execution_count": 5,
   "id": "394f1ff2",
   "metadata": {},
   "outputs": [
    {
     "name": "stdout",
     "output_type": "stream",
     "text": [
      "[12.75, 13.32, 15.08, 15.3, 15.57, 16.8, 17.5, 16.42, 16.65, 16.68, 16.79, 16.55, 15.26, 13.15, 13.17, 12.79, 10.8, 10.64, 10.45, 9.92001, 9.63, 8.27002, 7.26001, 7.05002, 6.91]\n"
     ]
    }
   ],
   "source": [
    "#18 hr hrrr:\n",
    "with open('hrrr_f18_Batesville_AR.txt') as f:\n",
    "    lst=[line.split()[4] for line in f]\n",
    "    temp=[]\n",
    "    for i in lst:\n",
    "        new=i.replace(',',\"\")\n",
    "        temp.append(new)\n",
    "    temp.pop(0)\n",
    "    temp=[float(x) for x in temp]\n",
    "    #print(temp.index(6.91541))\n",
    "    temp=temp[1914:1939]\n",
    "    print(temp)\n",
    "    #print(len(temp))\n",
    "#full time period is [2015:2112]"
   ]
  },
  {
   "cell_type": "code",
   "execution_count": 6,
   "id": "1eabebb5",
   "metadata": {},
   "outputs": [
    {
     "name": "stdout",
     "output_type": "stream",
     "text": [
      "[12.7, 12.9, 12.9, 13.4, 13.05, 13.1, 13.1, 13.3, 14.5, 15.0, 13.8, 13.4, 12.9, 10.1, 12.5, 11.05, 9.850000000000001, 9.95, 9.05, 7.25, 7.0, 6.95, 6.75, 6.6, 6.6]\n"
     ]
    }
   ],
   "source": [
    "#Air Temp CRN:\n",
    "with open('CRNS0101-05-2022-AR_Batesville_8_WNW.txt') as f:\n",
    "    lst=[line.split()[12] for line in f]\n",
    "\n",
    "    a=(float(lst[23183])+float(lst[23184]))/2\n",
    "    b=(float(lst[23195])+float(lst[23196]))/2\n",
    "    c=(float(lst[23207])+float(lst[23208]))/2\n",
    "    d=(float(lst[23219])+float(lst[23220]))/2\n",
    "    e=(float(lst[23231])+float(lst[23232]))/2\n",
    "    f=(float(lst[23243])+float(lst[23244]))/2\n",
    "    g=(float(lst[23255])+float(lst[23256]))/2\n",
    "    h=(float(lst[23267])+float(lst[23268]))/2\n",
    "    i=(float(lst[23279])+float(lst[23280]))/2\n",
    "    j=(float(lst[23291])+float(lst[23292]))/2\n",
    "    k=(float(lst[23303])+float(lst[23304]))/2\n",
    "    l=(float(lst[23315])+float(lst[23316]))/2\n",
    "    m=(float(lst[23327])+float(lst[23328]))/2\n",
    "    n=(float(lst[23339])+float(lst[23340]))/2\n",
    "    o=(float(lst[23351])+float(lst[23352]))/2\n",
    "    p=(float(lst[23363])+float(lst[23364]))/2\n",
    "    q=(float(lst[23375])+float(lst[23376]))/2\n",
    "    r=(float(lst[23387])+float(lst[23388]))/2\n",
    "    s=(float(lst[23399])+float(lst[23400]))/2\n",
    "    t=(float(lst[23411])+float(lst[23412]))/2\n",
    "    u=(float(lst[23423])+float(lst[23424]))/2\n",
    "    v=(float(lst[23435])+float(lst[23436]))/2\n",
    "    w=(float(lst[23447])+float(lst[23448]))/2\n",
    "    x=(float(lst[23459])+float(lst[23460]))/2\n",
    "    y=(float(lst[23471])+float(lst[23472]))/2\n",
    "    temp_crn=[a,b,c,d,e,f,g,h,i,j,k,l,m,n,o,p,q,r,s,t,u,v,w,x,y]\n",
    "    print(temp_crn)"
   ]
  },
  {
   "cell_type": "code",
   "execution_count": 7,
   "id": "62a46873",
   "metadata": {},
   "outputs": [
    {
     "name": "stdout",
     "output_type": "stream",
     "text": [
      "[0.05000000000000071, 0.41999999999999993, 2.1799999999999997, 1.9000000000000004, 2.5199999999999996, 3.700000000000001, 4.4, 3.120000000000001, 2.1499999999999986, 1.6799999999999997, 2.9899999999999984, 3.1500000000000004, 2.3599999999999994, 3.0500000000000007, 0.6699999999999999, 1.7399999999999984, 0.9499999999999993, 0.6900000000000013, 1.3999999999999986, 2.6700099999999996, 2.630000000000001, 1.3200200000000004, 0.5100100000000003, 0.4500200000000003, 0.3100000000000005]\n"
     ]
    }
   ],
   "source": [
    "difference1_bat = []\n",
    "\n",
    "zip_object = zip(temp, temp_crn)\n",
    "for temp_i, temp_crn_i in zip_object:\n",
    "    difference1_bat.append(temp_i-temp_crn_i)\n",
    "\n",
    "print(difference1_bat)"
   ]
  },
  {
   "cell_type": "markdown",
   "id": "2a2589df",
   "metadata": {},
   "source": [
    "<font size=\"3\">Lafayette, LA: 1500 UTC 22 March 2022-1500 UTC 23 March 2022</font>"
   ]
  },
  {
   "cell_type": "code",
   "execution_count": 8,
   "id": "9d0a0e7b",
   "metadata": {},
   "outputs": [
    {
     "name": "stdout",
     "output_type": "stream",
     "text": [
      "[25.98, 27.23, 28.78, 24.97, 25.83, 20.84, 20.99, 22.23, 17.95, 19.31, 18.33, 17.87, 16.49, 13.37, 11.87, 10.33, 10.16, 9.35001, 8.58002, 8.02002, 7.70999, 7.5, 7.88, 10.52, 13.09]\n"
     ]
    }
   ],
   "source": [
    "#18 hr hrrr:\n",
    "with open('hrrr_f18_Lafayette_LA.txt') as f:\n",
    "    lst=[line.split()[4] for line in f]\n",
    "    temp=[]\n",
    "    for i in lst:\n",
    "        new=i.replace(',',\"\")\n",
    "        temp.append(new)\n",
    "    temp.pop(0)\n",
    "    temp=[float(x) for x in temp]\n",
    "    #print(temp.index(6.91541))\n",
    "    temp=temp[1917:1942]\n",
    "    print(temp)\n",
    "    #print(len(temp))\n",
    "#full time period is [2015:2112]"
   ]
  },
  {
   "cell_type": "code",
   "execution_count": 9,
   "id": "f946394b",
   "metadata": {},
   "outputs": [
    {
     "name": "stdout",
     "output_type": "stream",
     "text": [
      "[23.65, 23.25, 24.25, 23.4, 22.4, 19.85, 20.3, 21.1, 21.200000000000003, 17.049999999999997, 13.45, 12.45, 12.05, 14.75, 13.05, 10.850000000000001, 9.350000000000001, 7.65, 7.45, 5.65, 7.15, 6.7, 8.65, 11.850000000000001, 15.45]\n"
     ]
    }
   ],
   "source": [
    "#Air Temp CRN:\n",
    "with open('CRNS0101-05-2022-LA_Lafayette_13_SE.txt') as f:\n",
    "    lst=[line.split()[12] for line in f]\n",
    "\n",
    "    a=(float(lst[23219])+float(lst[23220]))/2\n",
    "    b=(float(lst[23231])+float(lst[23232]))/2\n",
    "    c=(float(lst[23243])+float(lst[23244]))/2\n",
    "    d=(float(lst[23255])+float(lst[23256]))/2\n",
    "    e=(float(lst[23267])+float(lst[23268]))/2\n",
    "    f=(float(lst[23279])+float(lst[23280]))/2\n",
    "    g=(float(lst[23291])+float(lst[23292]))/2\n",
    "    h=(float(lst[23303])+float(lst[23304]))/2\n",
    "    i=(float(lst[23315])+float(lst[23316]))/2\n",
    "    j=(float(lst[23327])+float(lst[23328]))/2\n",
    "    k=(float(lst[23339])+float(lst[23340]))/2\n",
    "    l=(float(lst[23351])+float(lst[23352]))/2\n",
    "    m=(float(lst[23363])+float(lst[23364]))/2\n",
    "    n=(float(lst[23375])+float(lst[23376]))/2\n",
    "    o=(float(lst[23387])+float(lst[23388]))/2\n",
    "    p=(float(lst[23399])+float(lst[23400]))/2\n",
    "    q=(float(lst[23411])+float(lst[23412]))/2\n",
    "    r=(float(lst[23423])+float(lst[23424]))/2\n",
    "    s=(float(lst[23435])+float(lst[23436]))/2\n",
    "    t=(float(lst[23447])+float(lst[23448]))/2\n",
    "    u=(float(lst[23459])+float(lst[23460]))/2\n",
    "    v=(float(lst[23471])+float(lst[23472]))/2\n",
    "    w=(float(lst[23483])+float(lst[23484]))/2\n",
    "    x=(float(lst[23495])+float(lst[23496]))/2\n",
    "    y=(float(lst[23507])+float(lst[23508]))/2\n",
    "    temp_crn=[a,b,c,d,e,f,g,h,i,j,k,l,m,n,o,p,q,r,s,t,u,v,w,x,y]\n",
    "    print(temp_crn)"
   ]
  },
  {
   "cell_type": "code",
   "execution_count": 10,
   "id": "9b94d0f9",
   "metadata": {},
   "outputs": [
    {
     "name": "stdout",
     "output_type": "stream",
     "text": [
      "[2.330000000000002, 3.9800000000000004, 4.530000000000001, 1.5700000000000003, 3.4299999999999997, 0.9899999999999984, 0.6899999999999977, 1.129999999999999, -3.2500000000000036, 2.2600000000000016, 4.879999999999999, 5.420000000000002, 4.439999999999998, -1.3800000000000008, -1.1800000000000015, -0.5200000000000014, 0.8099999999999987, 1.700009999999999, 1.1300199999999991, 2.3700200000000002, 0.55999, 0.7999999999999998, -0.7700000000000005, -1.3300000000000018, -2.3599999999999994]\n"
     ]
    }
   ],
   "source": [
    "difference1_laf = []\n",
    "\n",
    "zip_object = zip(temp, temp_crn)\n",
    "for temp_i, temp_crn_i in zip_object:\n",
    "    difference1_laf.append(temp_i-temp_crn_i)\n",
    "\n",
    "print(difference1_laf)"
   ]
  },
  {
   "cell_type": "markdown",
   "id": "7a8d079f",
   "metadata": {},
   "source": [
    "<font size=\"3\">Monroe, LA: 1500 UTC 22 March 2022-1500 UTC 23 March 2022</font>"
   ]
  },
  {
   "cell_type": "code",
   "execution_count": 11,
   "id": "f4c20224",
   "metadata": {},
   "outputs": [
    {
     "name": "stdout",
     "output_type": "stream",
     "text": [
      "[20.65, 17.02, 17.09, 17.76, 18.32, 20.6, 18.66, 20.89, 18.73, 17.92, 16.62, 13.62, 11.67, 10.1, 9.16, 9.26001, 9.13, 8.33002, 8.02002, 7.49002, 7.14001, 7.07001, 7.25, 7.89001, 9.22]\n"
     ]
    }
   ],
   "source": [
    "#18 hr hrrr:\n",
    "with open('hrrr_f18_Monroe_LA.txt') as f:\n",
    "    lst=[line.split()[4] for line in f]\n",
    "    temp=[]\n",
    "    for i in lst:\n",
    "        new=i.replace(',',\"\")\n",
    "        temp.append(new)\n",
    "    temp.pop(0)\n",
    "    temp=[float(x) for x in temp]\n",
    "    #print(temp.index(6.91541))\n",
    "    temp=temp[1917:1942]\n",
    "    print(temp)\n",
    "    #print(len(temp))\n",
    "#full time period is [2015:2112]"
   ]
  },
  {
   "cell_type": "code",
   "execution_count": 12,
   "id": "210341da",
   "metadata": {},
   "outputs": [
    {
     "name": "stdout",
     "output_type": "stream",
     "text": [
      "[14.0, 14.0, 13.7, 13.649999999999999, 15.3, 15.5, 15.5, 15.600000000000001, 15.1, 14.7, 14.5, 11.5, 10.25, 9.55, 9.7, 9.5, 8.850000000000001, 8.350000000000001, 8.3, 8.2, 8.2, 8.2, 8.25, 9.0, 9.95]\n"
     ]
    }
   ],
   "source": [
    "#Air Temp CRN:\n",
    "with open('CRNS0101-05-2022-LA_Monroe_26_N.txt') as f:\n",
    "    lst=[line.split()[12] for line in f]\n",
    "\n",
    "    a=(float(lst[23219])+float(lst[23220]))/2\n",
    "    b=(float(lst[23231])+float(lst[23232]))/2\n",
    "    c=(float(lst[23243])+float(lst[23244]))/2\n",
    "    d=(float(lst[23255])+float(lst[23256]))/2\n",
    "    e=(float(lst[23267])+float(lst[23268]))/2\n",
    "    f=(float(lst[23279])+float(lst[23280]))/2\n",
    "    g=(float(lst[23291])+float(lst[23292]))/2\n",
    "    h=(float(lst[23303])+float(lst[23304]))/2\n",
    "    i=(float(lst[23315])+float(lst[23316]))/2\n",
    "    j=(float(lst[23327])+float(lst[23328]))/2\n",
    "    k=(float(lst[23339])+float(lst[23340]))/2\n",
    "    l=(float(lst[23351])+float(lst[23352]))/2\n",
    "    m=(float(lst[23363])+float(lst[23364]))/2\n",
    "    n=(float(lst[23375])+float(lst[23376]))/2\n",
    "    o=(float(lst[23387])+float(lst[23388]))/2\n",
    "    p=(float(lst[23399])+float(lst[23400]))/2\n",
    "    q=(float(lst[23411])+float(lst[23412]))/2\n",
    "    r=(float(lst[23423])+float(lst[23424]))/2\n",
    "    s=(float(lst[23435])+float(lst[23436]))/2\n",
    "    t=(float(lst[23447])+float(lst[23448]))/2\n",
    "    u=(float(lst[23459])+float(lst[23460]))/2\n",
    "    v=(float(lst[23471])+float(lst[23472]))/2\n",
    "    w=(float(lst[23483])+float(lst[23484]))/2\n",
    "    x=(float(lst[23495])+float(lst[23496]))/2\n",
    "    y=(float(lst[23507])+float(lst[23508]))/2\n",
    "    temp_crn=[a,b,c,d,e,f,g,h,i,j,k,l,m,n,o,p,q,r,s,t,u,v,w,x,y]\n",
    "    print(temp_crn)"
   ]
  },
  {
   "cell_type": "code",
   "execution_count": 13,
   "id": "2b4e383a",
   "metadata": {},
   "outputs": [
    {
     "name": "stdout",
     "output_type": "stream",
     "text": [
      "[6.649999999999999, 3.0199999999999996, 3.3900000000000006, 4.110000000000003, 3.0199999999999996, 5.100000000000001, 3.16, 5.289999999999999, 3.630000000000001, 3.2200000000000024, 2.120000000000001, 2.119999999999999, 1.42, 0.5499999999999989, -0.5399999999999991, -0.2399900000000006, 0.27999999999999936, -0.019980000000002107, -0.2799800000000001, -0.709979999999999, -1.059989999999999, -1.1299899999999994, -1.0, -1.1099899999999998, -0.7299999999999986]\n"
     ]
    }
   ],
   "source": [
    "difference1_mon = []\n",
    "\n",
    "zip_object = zip(temp, temp_crn)\n",
    "for temp_i, temp_crn_i in zip_object:\n",
    "    difference1_mon.append(temp_i-temp_crn_i)\n",
    "\n",
    "print(difference1_mon)"
   ]
  },
  {
   "cell_type": "markdown",
   "id": "26c585ff",
   "metadata": {},
   "source": [
    "<font size=\"3\">Holly Springs, MS: 1800 UTC 22 March 2022-1800 UTC 23 March 2022</font>"
   ]
  },
  {
   "cell_type": "code",
   "execution_count": 14,
   "id": "41fed7a9",
   "metadata": {},
   "outputs": [
    {
     "name": "stdout",
     "output_type": "stream",
     "text": [
      "[15.87, 17.2, 17.04, 16.65, 17.51, 16.99, 16.84, 16.88, 16.19, 15.12, 13.94, 14.65, 13.98, 14.65, 12.64, 11.48, 10.34, 8.92001, 8.75, 7.69, 7.05002, 7.16, 7.94, 7.67001, 7.78]\n"
     ]
    }
   ],
   "source": [
    "#18 hr hrrr:\n",
    "with open('hrrr_f18_Holly Springs_MS.txt') as f:\n",
    "    lst=[line.split()[4] for line in f]\n",
    "    temp=[]\n",
    "    for i in lst:\n",
    "        new=i.replace(',',\"\")\n",
    "        temp.append(new)\n",
    "    temp.pop(0)\n",
    "    temp=[float(x) for x in temp]\n",
    "    #print(temp.index(6.91541))\n",
    "    temp=temp[1920:1945]\n",
    "    print(temp)\n",
    "    #print(len(temp))\n",
    "#full time period is [2015:2112]"
   ]
  },
  {
   "cell_type": "code",
   "execution_count": 15,
   "id": "d0ee337a",
   "metadata": {},
   "outputs": [
    {
     "name": "stdout",
     "output_type": "stream",
     "text": [
      "[13.8, 12.6, 12.6, 12.6, 12.7, 13.7, 13.5, 13.25, 13.7, 14.1, 13.75, 13.45, 13.2, 12.6, 12.25, 11.3, 10.4, 9.649999999999999, 9.1, 9.1, 9.149999999999999, 8.95, 8.75, 11.7, 11.149999999999999]\n"
     ]
    }
   ],
   "source": [
    "#Air Temp CRN:\n",
    "with open('CRNS0101-05-2022-MS_Holly_Springs_4_N.txt') as f:\n",
    "    lst=[line.split()[12] for line in f]\n",
    "\n",
    "    a=(float(lst[23255])+float(lst[23256]))/2\n",
    "    b=(float(lst[23267])+float(lst[23268]))/2\n",
    "    c=(float(lst[23279])+float(lst[23280]))/2\n",
    "    d=(float(lst[23291])+float(lst[23292]))/2\n",
    "    e=(float(lst[23303])+float(lst[23304]))/2\n",
    "    f=(float(lst[23315])+float(lst[23316]))/2\n",
    "    g=(float(lst[23327])+float(lst[23328]))/2\n",
    "    h=(float(lst[23339])+float(lst[23340]))/2\n",
    "    i=(float(lst[23351])+float(lst[23352]))/2\n",
    "    j=(float(lst[23363])+float(lst[23364]))/2\n",
    "    k=(float(lst[23375])+float(lst[23376]))/2\n",
    "    l=(float(lst[23387])+float(lst[23388]))/2\n",
    "    m=(float(lst[23399])+float(lst[23400]))/2\n",
    "    n=(float(lst[23411])+float(lst[23412]))/2\n",
    "    o=(float(lst[23423])+float(lst[23424]))/2\n",
    "    p=(float(lst[23435])+float(lst[23436]))/2\n",
    "    q=(float(lst[23447])+float(lst[23448]))/2\n",
    "    r=(float(lst[23459])+float(lst[23460]))/2\n",
    "    s=(float(lst[23471])+float(lst[23472]))/2\n",
    "    t=(float(lst[23483])+float(lst[23484]))/2\n",
    "    u=(float(lst[23495])+float(lst[23496]))/2\n",
    "    v=(float(lst[23507])+float(lst[23508]))/2\n",
    "    w=(float(lst[23519])+float(lst[23520]))/2\n",
    "    x=(float(lst[23531])+float(lst[23532]))/2\n",
    "    y=(float(lst[23543])+float(lst[23544]))/2\n",
    "    temp_crn=[a,b,c,d,e,f,g,h,i,j,k,l,m,n,o,p,q,r,s,t,u,v,w,x,y]\n",
    "    print(temp_crn)"
   ]
  },
  {
   "cell_type": "code",
   "execution_count": 16,
   "id": "46b095cb",
   "metadata": {},
   "outputs": [
    {
     "name": "stdout",
     "output_type": "stream",
     "text": [
      "[2.0699999999999985, 4.6, 4.4399999999999995, 4.049999999999999, 4.810000000000002, 3.289999999999999, 3.34, 3.629999999999999, 2.490000000000002, 1.0199999999999996, 0.1899999999999995, 1.200000000000001, 0.7800000000000011, 2.0500000000000007, 0.39000000000000057, 0.17999999999999972, -0.0600000000000005, -0.729989999999999, -0.34999999999999964, -1.4099999999999993, -2.0999799999999986, -1.7899999999999991, -0.8099999999999996, -4.029989999999999, -3.3699999999999983]\n"
     ]
    }
   ],
   "source": [
    "difference1_hol = []\n",
    "\n",
    "zip_object = zip(temp, temp_crn)\n",
    "for temp_i, temp_crn_i in zip_object:\n",
    "    difference1_hol.append(temp_i-temp_crn_i)\n",
    "\n",
    "print(difference1_hol)"
   ]
  },
  {
   "cell_type": "markdown",
   "id": "1c76c308",
   "metadata": {},
   "source": [
    "<font size=\"3\">Newton, MS: 1800 UTC 22 March 2022-1800 UTC 23 March 2022</font>"
   ]
  },
  {
   "cell_type": "code",
   "execution_count": 17,
   "id": "e8171095",
   "metadata": {},
   "outputs": [
    {
     "name": "stdout",
     "output_type": "stream",
     "text": [
      "[27.82, 24.16, 21.65, 22.4, 21.68, 21.24, 20.9, 19.26, 18.65, 18.24, 18.34, 18.21, 16.63, 16.94, 14.28, 13.48, 12.88, 10.98, 9.58002, 9.98001, 9.88, 10.58, 11.37, 13.92, 13.91]\n"
     ]
    }
   ],
   "source": [
    "#18 hr hrrr:\n",
    "with open('hrrr_f18_Newton_MS.txt') as f:\n",
    "    lst=[line.split()[4] for line in f]\n",
    "    temp=[]\n",
    "    for i in lst:\n",
    "        new=i.replace(',',\"\")\n",
    "        temp.append(new)\n",
    "    temp.pop(0)\n",
    "    temp=[float(x) for x in temp]\n",
    "    #print(temp.index(6.91541))\n",
    "    temp=temp[1920:1945]\n",
    "    print(temp)\n",
    "    #print(len(temp))\n",
    "#full time period is [2015:2112]"
   ]
  },
  {
   "cell_type": "code",
   "execution_count": 18,
   "id": "449e8daa",
   "metadata": {},
   "outputs": [
    {
     "name": "stdout",
     "output_type": "stream",
     "text": [
      "[23.25, 20.0, 19.8, 16.5, 15.7, 15.8, 15.8, 15.7, 15.9, 15.95, 16.75, 15.5, 15.2, 14.45, 12.65, 12.35, 13.05, 11.75, 11.75, 11.4, 11.55, 12.3, 15.4, 21.799999999999997, 21.6]\n"
     ]
    }
   ],
   "source": [
    "#Air Temp CRN:\n",
    "with open('CRNS0101-05-2022-MS_Newton_5_ENE.txt') as f:\n",
    "    lst=[line.split()[12] for line in f]\n",
    "\n",
    "    a=(float(lst[23255])+float(lst[23256]))/2\n",
    "    b=(float(lst[23267])+float(lst[23268]))/2\n",
    "    c=(float(lst[23279])+float(lst[23280]))/2\n",
    "    d=(float(lst[23291])+float(lst[23292]))/2\n",
    "    e=(float(lst[23303])+float(lst[23304]))/2\n",
    "    f=(float(lst[23315])+float(lst[23316]))/2\n",
    "    g=(float(lst[23327])+float(lst[23328]))/2\n",
    "    h=(float(lst[23339])+float(lst[23340]))/2\n",
    "    i=(float(lst[23351])+float(lst[23352]))/2\n",
    "    j=(float(lst[23363])+float(lst[23364]))/2\n",
    "    k=(float(lst[23375])+float(lst[23376]))/2\n",
    "    l=(float(lst[23387])+float(lst[23388]))/2\n",
    "    m=(float(lst[23399])+float(lst[23400]))/2\n",
    "    n=(float(lst[23411])+float(lst[23412]))/2\n",
    "    o=(float(lst[23423])+float(lst[23424]))/2\n",
    "    p=(float(lst[23435])+float(lst[23436]))/2\n",
    "    q=(float(lst[23447])+float(lst[23448]))/2\n",
    "    r=(float(lst[23459])+float(lst[23460]))/2\n",
    "    s=(float(lst[23471])+float(lst[23472]))/2\n",
    "    t=(float(lst[23483])+float(lst[23484]))/2\n",
    "    u=(float(lst[23495])+float(lst[23496]))/2\n",
    "    v=(float(lst[23507])+float(lst[23508]))/2\n",
    "    w=(float(lst[23519])+float(lst[23520]))/2\n",
    "    x=(float(lst[23531])+float(lst[23532]))/2\n",
    "    y=(float(lst[23543])+float(lst[23544]))/2\n",
    "    temp_crn=[a,b,c,d,e,f,g,h,i,j,k,l,m,n,o,p,q,r,s,t,u,v,w,x,y]\n",
    "    print(temp_crn)"
   ]
  },
  {
   "cell_type": "code",
   "execution_count": 19,
   "id": "e588ab70",
   "metadata": {},
   "outputs": [
    {
     "name": "stdout",
     "output_type": "stream",
     "text": [
      "[4.57, 4.16, 1.8499999999999979, 5.899999999999999, 5.98, 5.439999999999998, 5.099999999999998, 3.5600000000000023, 2.7499999999999982, 2.289999999999999, 1.5899999999999999, 2.710000000000001, 1.4299999999999997, 2.490000000000002, 1.629999999999999, 1.1300000000000008, -0.16999999999999993, -0.7699999999999996, -2.1699800000000007, -1.4199900000000003, -1.67, -1.7200000000000006, -4.030000000000001, -7.879999999999997, -7.690000000000001]\n"
     ]
    }
   ],
   "source": [
    "difference1_new = []\n",
    "\n",
    "zip_object = zip(temp, temp_crn)\n",
    "for temp_i, temp_crn_i in zip_object:\n",
    "    difference1_new.append(temp_i-temp_crn_i)\n",
    "\n",
    "print(difference1_new)"
   ]
  },
  {
   "cell_type": "markdown",
   "id": "c9620694",
   "metadata": {},
   "source": [
    "<font size=\"3\">Gainesville, AL: 2200 UTC 22 March 2022-2200 UTC 23 March 2022</font>"
   ]
  },
  {
   "cell_type": "code",
   "execution_count": 20,
   "id": "a16fb94f",
   "metadata": {},
   "outputs": [
    {
     "name": "stdout",
     "output_type": "stream",
     "text": [
      "[24.37, 20.68, 20.57, 20.33, 19.98, 20.35, 18.49, 19.45, 18.71, 18.48, 16.57, 16.61, 14.49, 13.26, 12.48, 12.84, 13.15, 13.29, 13.42, 14.8, 14.56, 14.21, 15.07, 13.86, 12.41]\n"
     ]
    }
   ],
   "source": [
    "#18 hr hrrr:\n",
    "with open('hrrr_f18_Gainesville_AL (1).txt') as f:\n",
    "    lst=[line.split()[4] for line in f]\n",
    "    temp=[]\n",
    "    for i in lst:\n",
    "        new=i.replace(',',\"\")\n",
    "        temp.append(new)\n",
    "    temp.pop(0)\n",
    "    temp=[float(x) for x in temp]\n",
    "    #print(temp.index(6.91541))\n",
    "    temp=temp[1924:1949]\n",
    "    print(temp)\n",
    "    #print(len(temp))\n",
    "#full time period is [2015:2112]"
   ]
  },
  {
   "cell_type": "code",
   "execution_count": 21,
   "id": "dc289aee",
   "metadata": {},
   "outputs": [
    {
     "name": "stdout",
     "output_type": "stream",
     "text": [
      "[-9999.0, -9999.0, -9999.0, -9999.0, -9999.0, -9999.0, -9999.0, -9999.0, -9999.0, -9999.0, -9999.0, -9999.0, -9999.0, -9999.0, -9999.0, -9999.0, -9999.0, -9999.0, -9999.0, -9999.0, -9999.0, -9999.0, -9999.0, -9999.0, -9999.0]\n"
     ]
    }
   ],
   "source": [
    "#Air Temp CRN:\n",
    "with open('CRNS0101-05-2022-AL_Gainesville_2_NE.txt') as f:\n",
    "    lst=[line.split()[12] for line in f]\n",
    "\n",
    "    a=(float(lst[23303])+float(lst[23304]))/2\n",
    "    b=(float(lst[23315])+float(lst[23316]))/2\n",
    "    c=(float(lst[23327])+float(lst[23328]))/2\n",
    "    d=(float(lst[23339])+float(lst[23340]))/2\n",
    "    e=(float(lst[23351])+float(lst[23352]))/2\n",
    "    f=(float(lst[23363])+float(lst[23364]))/2\n",
    "    g=(float(lst[23375])+float(lst[23376]))/2\n",
    "    h=(float(lst[23387])+float(lst[23388]))/2\n",
    "    i=(float(lst[23399])+float(lst[23400]))/2\n",
    "    j=(float(lst[23411])+float(lst[23412]))/2\n",
    "    k=(float(lst[23423])+float(lst[23424]))/2\n",
    "    l=(float(lst[23435])+float(lst[23436]))/2\n",
    "    m=(float(lst[23447])+float(lst[23448]))/2\n",
    "    n=(float(lst[23459])+float(lst[23460]))/2\n",
    "    o=(float(lst[23471])+float(lst[23472]))/2\n",
    "    p=(float(lst[23483])+float(lst[23484]))/2\n",
    "    q=(float(lst[23495])+float(lst[23496]))/2\n",
    "    r=(float(lst[23507])+float(lst[23508]))/2\n",
    "    s=(float(lst[23519])+float(lst[23520]))/2\n",
    "    t=(float(lst[23531])+float(lst[23532]))/2\n",
    "    u=(float(lst[23543])+float(lst[23544]))/2\n",
    "    v=(float(lst[23555])+float(lst[23556]))/2\n",
    "    w=(float(lst[23567])+float(lst[23568]))/2\n",
    "    x=(float(lst[23579])+float(lst[23580]))/2\n",
    "    y=(float(lst[23591])+float(lst[23592]))/2\n",
    "    temp_crn=[a,b,c,d,e,f,g,h,i,j,k,l,m,n,o,p,q,r,s,t,u,v,w,x,y]\n",
    "    print(temp_crn)"
   ]
  },
  {
   "cell_type": "code",
   "execution_count": 22,
   "id": "8df76a7b",
   "metadata": {},
   "outputs": [],
   "source": [
    "# difference1_gai = []\n",
    "\n",
    "# zip_object = zip(temp, temp_crn)\n",
    "# for temp_i, temp_crn_i in zip_object:\n",
    "#     difference1_gai.append(temp_i-temp_crn_i)\n",
    "\n",
    "# print(difference1_gai)"
   ]
  },
  {
   "cell_type": "markdown",
   "id": "2711dc15",
   "metadata": {},
   "source": [
    "<font size=\"3\">Fairhope, AL: 2200 UTC 22 March 2022-2200 UTC 23 March 2022</font>"
   ]
  },
  {
   "cell_type": "code",
   "execution_count": 23,
   "id": "e9eb20f7",
   "metadata": {},
   "outputs": [
    {
     "name": "stdout",
     "output_type": "stream",
     "text": [
      "[24.63, 23.03, 22.1, 22.26, 22.15, 21.98, 21.62, 21.42, 18.32, 16.62, 18.38, 17.26, 17.83, 16.46, 16.81, 15.98, 17.34, 17.18, 18.56, 19.2, 19.05, 18.89, 18.97, 18.58, 17.73]\n"
     ]
    }
   ],
   "source": [
    "#18 hr hrrr:\n",
    "with open('hrrr_f18_Fairhope_AL.txt') as f:\n",
    "    lst=[line.split()[4] for line in f]\n",
    "    temp=[]\n",
    "    for i in lst:\n",
    "        new=i.replace(',',\"\")\n",
    "        temp.append(new)\n",
    "    temp.pop(0)\n",
    "    temp=[float(x) for x in temp]\n",
    "    #print(temp.index(6.91541))\n",
    "    temp=temp[1924:1949]\n",
    "    print(temp)\n",
    "    #print(len(temp))\n",
    "#full time period is [2015:2112]"
   ]
  },
  {
   "cell_type": "code",
   "execution_count": 24,
   "id": "439b18c0",
   "metadata": {},
   "outputs": [
    {
     "name": "stdout",
     "output_type": "stream",
     "text": [
      "[23.049999999999997, 22.15, 22.0, 22.35, 22.200000000000003, 21.85, 20.049999999999997, 21.25, 18.35, 17.45, 17.200000000000003, 17.15, 16.15, 15.95, 15.6, 17.9, 20.05, 20.8, 21.8, 21.8, 25.15, 23.75, 22.6, 22.4, 19.75]\n"
     ]
    }
   ],
   "source": [
    "#Air Temp CRN:\n",
    "with open('CRNS0101-05-2022-AL_Fairhope_3_NE.txt') as f:\n",
    "    lst=[line.split()[12] for line in f]\n",
    "\n",
    "    a=(float(lst[23303])+float(lst[23304]))/2\n",
    "    b=(float(lst[23315])+float(lst[23316]))/2\n",
    "    c=(float(lst[23327])+float(lst[23328]))/2\n",
    "    d=(float(lst[23339])+float(lst[23340]))/2\n",
    "    e=(float(lst[23351])+float(lst[23352]))/2\n",
    "    f=(float(lst[23363])+float(lst[23364]))/2\n",
    "    g=(float(lst[23375])+float(lst[23376]))/2\n",
    "    h=(float(lst[23387])+float(lst[23388]))/2\n",
    "    i=(float(lst[23399])+float(lst[23400]))/2\n",
    "    j=(float(lst[23411])+float(lst[23412]))/2\n",
    "    k=(float(lst[23423])+float(lst[23424]))/2\n",
    "    l=(float(lst[23435])+float(lst[23436]))/2\n",
    "    m=(float(lst[23447])+float(lst[23448]))/2\n",
    "    n=(float(lst[23459])+float(lst[23460]))/2\n",
    "    o=(float(lst[23471])+float(lst[23472]))/2\n",
    "    p=(float(lst[23483])+float(lst[23484]))/2\n",
    "    q=(float(lst[23495])+float(lst[23496]))/2\n",
    "    r=(float(lst[23507])+float(lst[23508]))/2\n",
    "    s=(float(lst[23519])+float(lst[23520]))/2\n",
    "    t=(float(lst[23531])+float(lst[23532]))/2\n",
    "    u=(float(lst[23543])+float(lst[23544]))/2\n",
    "    v=(float(lst[23555])+float(lst[23556]))/2\n",
    "    w=(float(lst[23567])+float(lst[23568]))/2\n",
    "    x=(float(lst[23579])+float(lst[23580]))/2\n",
    "    y=(float(lst[23591])+float(lst[23592]))/2\n",
    "    temp_crn=[a,b,c,d,e,f,g,h,i,j,k,l,m,n,o,p,q,r,s,t,u,v,w,x,y]\n",
    "    print(temp_crn)"
   ]
  },
  {
   "cell_type": "code",
   "execution_count": 25,
   "id": "a9ff3306",
   "metadata": {},
   "outputs": [
    {
     "name": "stdout",
     "output_type": "stream",
     "text": [
      "[1.5800000000000018, 0.8800000000000026, 0.10000000000000142, -0.08999999999999986, -0.05000000000000426, 0.129999999999999, 1.5700000000000038, 0.1700000000000017, -0.030000000000001137, -0.8299999999999983, 1.1799999999999962, 0.11000000000000298, 1.6799999999999997, 0.5100000000000016, 1.209999999999999, -1.9199999999999982, -2.710000000000001, -3.620000000000001, -3.240000000000002, -2.6000000000000014, -6.099999999999998, -4.859999999999999, -3.6300000000000026, -3.8200000000000003, -2.0199999999999996]\n"
     ]
    }
   ],
   "source": [
    "difference1_fai = []\n",
    "\n",
    "zip_object = zip(temp, temp_crn)\n",
    "for temp_i, temp_crn_i in zip_object:\n",
    "    difference1_fai.append(temp_i-temp_crn_i)\n",
    "\n",
    "print(difference1_fai)"
   ]
  },
  {
   "cell_type": "markdown",
   "id": "f5dd4e4b",
   "metadata": {},
   "source": [
    "<font size=\"3\">**Selma, AL: 2200 UTC 22 March 2022-2200 UTC 23 March 2022</font>"
   ]
  },
  {
   "cell_type": "code",
   "execution_count": 26,
   "id": "af6b46b1",
   "metadata": {},
   "outputs": [
    {
     "name": "stdout",
     "output_type": "stream",
     "text": [
      "[23.77, 22.66, 21.46, 20.77, 19.61, 19.53, 19.9, 19.46, 19.53, 20.44, 18.13, 17.21, 17.19, 16.93, 15.78, 16.67, 17.6, 17.73, 19.15, 19.92, 19.61, 19.66, 18.73, 17.89, 15.93]\n"
     ]
    }
   ],
   "source": [
    "import numpy as np\n",
    "import numpy.ma as ma\n",
    "#18 hr hrrr:\n",
    "with open('hrrr_f18_Selma_AL.txt') as f:\n",
    "    lst=[line.split()[4] for line in f]\n",
    "    temp=[]\n",
    "    for i in lst:\n",
    "        new=i.replace(',',\"\")\n",
    "        temp.append(new)\n",
    "    temp.pop(0)\n",
    "    temp=[float(x) for x in temp]\n",
    "    #print(temp.index(6.91541))\n",
    "    temp=temp[1924:1949]\n",
    "\n",
    "#     x = np.array(temp)\n",
    "#     temp = ma.masked_array(x, mask=[0, 0, 0, 0, 0,0,0,0,0,0,0,0,0,0,0,0,0,1,1,1,1,0,0,0,0])\n",
    "    print(temp)"
   ]
  },
  {
   "cell_type": "code",
   "execution_count": 27,
   "id": "455c7133",
   "metadata": {},
   "outputs": [
    {
     "name": "stdout",
     "output_type": "stream",
     "text": [
      "[22.700000000000003 21.85 21.4 19.7 19.45 19.5 19.7 19.2 19.65 19.3 19.3\n",
      " 19.4 17.6 16.15 15.8 17.65 -- -- -- -- -- 24.65 24.9 24.0 21.25]\n"
     ]
    }
   ],
   "source": [
    "#Air Temp CRN:\n",
    "with open('CRNS0101-05-2022-AL_Selma_13_WNW.txt') as f:\n",
    "    lst=[line.split()[12] for line in f]\n",
    "\n",
    "    a=(float(lst[23303])+float(lst[23304]))/2\n",
    "    b=(float(lst[23315])+float(lst[23316]))/2\n",
    "    c=(float(lst[23327])+float(lst[23328]))/2\n",
    "    d=(float(lst[23339])+float(lst[23340]))/2\n",
    "    e=(float(lst[23351])+float(lst[23352]))/2\n",
    "    f=(float(lst[23363])+float(lst[23364]))/2\n",
    "    g=(float(lst[23375])+float(lst[23376]))/2\n",
    "    h=(float(lst[23387])+float(lst[23388]))/2\n",
    "    i=(float(lst[23399])+float(lst[23400]))/2\n",
    "    j=(float(lst[23411])+float(lst[23412]))/2\n",
    "    k=(float(lst[23423])+float(lst[23424]))/2\n",
    "    l=(float(lst[23435])+float(lst[23436]))/2\n",
    "    m=(float(lst[23447])+float(lst[23448]))/2\n",
    "    n=(float(lst[23459])+float(lst[23460]))/2\n",
    "    o=(float(lst[23471])+float(lst[23472]))/2\n",
    "    p=(float(lst[23483])+float(lst[23484]))/2\n",
    "    q=(float(lst[23495])+float(lst[23496]))/2\n",
    "    r=(float(lst[23507])+float(lst[23508]))/2\n",
    "    s=(float(lst[23519])+float(lst[23520]))/2\n",
    "    t=(float(lst[23531])+float(lst[23532]))/2\n",
    "    u=(float(lst[23543])+float(lst[23544]))/2\n",
    "    v=(float(lst[23555])+float(lst[23556]))/2\n",
    "    w=(float(lst[23567])+float(lst[23568]))/2\n",
    "    x=(float(lst[23579])+float(lst[23580]))/2\n",
    "    y=(float(lst[23591])+float(lst[23592]))/2\n",
    "    temp_crn=[a,b,c,d,e,f,g,h,i,j,k,l,m,n,o,p,q,r,s,t,u,v,w,x,y]\n",
    "    y = np.array(temp_crn)\n",
    "    temp_crn = ma.masked_array(y, mask=[0, 0, 0, 0, 0,0,0,0,0,0,0,0,0,0,0,0,1,1,1,1,1,0,0,0,0])\n",
    "    print(temp_crn)"
   ]
  },
  {
   "cell_type": "code",
   "execution_count": 28,
   "id": "3f4814e5",
   "metadata": {},
   "outputs": [
    {
     "name": "stdout",
     "output_type": "stream",
     "text": [
      "[1.0699999999999967, 0.8099999999999987, 0.060000000000002274, 1.0700000000000003, 0.16000000000000014, 0.030000000000001137, 0.1999999999999993, 0.26000000000000156, -0.11999999999999744, 1.1400000000000006, -1.1700000000000017, -2.1899999999999977, -0.41000000000000014, 0.7800000000000011, -0.02000000000000135, -0.9799999999999969, masked, masked, masked, masked, masked, -4.989999999999998, -6.169999999999998, -6.109999999999999, -5.32]\n"
     ]
    }
   ],
   "source": [
    "difference1_sel = []\n",
    "\n",
    "zip_object = zip(temp, temp_crn)\n",
    "for temp_i, temp_crn_i in zip_object:\n",
    "    difference1_sel.append(temp_i-temp_crn_i)\n",
    "\n",
    "print(difference1_sel)\n",
    "#print(len(difference1_sel))"
   ]
  },
  {
   "cell_type": "markdown",
   "id": "8fab4bdc",
   "metadata": {},
   "source": [
    "<font size=\"3\">Bowling Green, KY: 2300 UTC 22 March 2022-2300 UTC 23 March 2022</font>"
   ]
  },
  {
   "cell_type": "code",
   "execution_count": 29,
   "id": "1caf0dec",
   "metadata": {},
   "outputs": [
    {
     "name": "stdout",
     "output_type": "stream",
     "text": [
      "[21.78, 18.83, 16.5, 16.62, 16.01, 15.24, 15.84, 14.73, 14.46, 15.1, 15.09, 16.04, 15.38, 15.32, 15.65, 16.6, 16.85, 14.54, 14.72, 13.9, 15.96, 12.66, 10.8, 10.38, 9.67001]\n"
     ]
    }
   ],
   "source": [
    "#18 hr hrrr:\n",
    "with open('hrrr_f18_Bowling Green_KY.txt') as f:\n",
    "    lst=[line.split()[4] for line in f]\n",
    "    temp=[]\n",
    "    for i in lst:\n",
    "        new=i.replace(',',\"\")\n",
    "        temp.append(new)\n",
    "    temp.pop(0)\n",
    "    temp=[float(x) for x in temp]\n",
    "    #print(temp.index(6.91541))\n",
    "    temp=temp[1925:1950]\n",
    "    print(temp)\n",
    "    #print(len(temp))\n",
    "#full time period is [2015:2112]"
   ]
  },
  {
   "cell_type": "code",
   "execution_count": 30,
   "id": "a1ea712c",
   "metadata": {},
   "outputs": [
    {
     "name": "stdout",
     "output_type": "stream",
     "text": [
      "[19.55, 16.0, 14.5, 14.55, 14.6, 14.55, 14.5, 13.6, 13.4, 14.0, 14.0, 13.6, 12.25, 13.55, 15.1, 17.5, 19.75, 20.55, 17.35, 19.0, 22.8, 16.6, 17.05, 13.100000000000001, 10.25]\n"
     ]
    }
   ],
   "source": [
    "#Air Temp CRN:\n",
    "with open('CRNS0101-05-2022-KY_Bowling_Green_21_NNE.txt') as f:\n",
    "    lst=[line.split()[12] for line in f]\n",
    "    \n",
    "    a=(float(lst[23315])+float(lst[23316]))/2\n",
    "    b=(float(lst[23327])+float(lst[23328]))/2\n",
    "    c=(float(lst[23339])+float(lst[23340]))/2\n",
    "    d=(float(lst[23351])+float(lst[23352]))/2\n",
    "    e=(float(lst[23363])+float(lst[23364]))/2\n",
    "    f=(float(lst[23375])+float(lst[23376]))/2\n",
    "    g=(float(lst[23387])+float(lst[23388]))/2\n",
    "    h=(float(lst[23399])+float(lst[23400]))/2\n",
    "    i=(float(lst[23411])+float(lst[23412]))/2\n",
    "    j=(float(lst[23423])+float(lst[23424]))/2\n",
    "    k=(float(lst[23435])+float(lst[23436]))/2\n",
    "    l=(float(lst[23447])+float(lst[23448]))/2\n",
    "    m=(float(lst[23459])+float(lst[23460]))/2\n",
    "    n=(float(lst[23471])+float(lst[23472]))/2\n",
    "    o=(float(lst[23483])+float(lst[23484]))/2\n",
    "    p=(float(lst[23495])+float(lst[23496]))/2\n",
    "    q=(float(lst[23507])+float(lst[23508]))/2\n",
    "    r=(float(lst[23519])+float(lst[23520]))/2\n",
    "    s=(float(lst[23531])+float(lst[23532]))/2\n",
    "    t=(float(lst[23543])+float(lst[23544]))/2\n",
    "    u=(float(lst[23555])+float(lst[23556]))/2\n",
    "    v=(float(lst[23567])+float(lst[23568]))/2\n",
    "    w=(float(lst[23579])+float(lst[23580]))/2\n",
    "    x=(float(lst[23591])+float(lst[23592]))/2\n",
    "    y=(float(lst[23603])+float(lst[23604]))/2\n",
    "    temp_crn=[a,b,c,d,e,f,g,h,i,j,k,l,m,n,o,p,q,r,s,t,u,v,w,x,y]\n",
    "    print(temp_crn)"
   ]
  },
  {
   "cell_type": "code",
   "execution_count": 31,
   "id": "c1e72531",
   "metadata": {},
   "outputs": [
    {
     "name": "stdout",
     "output_type": "stream",
     "text": [
      "[2.2300000000000004, 2.8299999999999983, 2.0, 2.0700000000000003, 1.410000000000002, 0.6899999999999995, 1.3399999999999999, 1.1300000000000008, 1.0600000000000005, 1.0999999999999996, 1.0899999999999999, 2.4399999999999995, 3.130000000000001, 1.7699999999999996, 0.5500000000000007, -0.8999999999999986, -2.8999999999999986, -6.010000000000002, -2.630000000000001, -5.1, -6.84, -3.9400000000000013, -6.25, -2.7200000000000006, -0.5799900000000004]\n"
     ]
    }
   ],
   "source": [
    "difference1_bow = []\n",
    "\n",
    "zip_object = zip(temp, temp_crn)\n",
    "for temp_i, temp_crn_i in zip_object:\n",
    "    difference1_bow.append(temp_i-temp_crn_i)\n",
    "\n",
    "print(difference1_bow)"
   ]
  },
  {
   "cell_type": "markdown",
   "id": "d1be2cc0",
   "metadata": {},
   "source": [
    "<font size=\"3\">Gadsden, AL: 0100 UTC 23 March 2022-0100 UTC 24 March 2022</font>"
   ]
  },
  {
   "cell_type": "code",
   "execution_count": 32,
   "id": "03235bce",
   "metadata": {},
   "outputs": [
    {
     "name": "stdout",
     "output_type": "stream",
     "text": [
      "[20.94, 19.18, 17.95, 16.71, 16.31, 16.89, 17.34, 18.0, 17.67, 17.55, 16.36, 16.0, 15.56, 16.17, 17.59, 17.42, 17.56, 18.0, 17.78, 15.23, 15.27, 13.52, 12.06, 10.51, 9.82001]\n"
     ]
    }
   ],
   "source": [
    "#18 hr hrrr:\n",
    "with open('hrrr_f18_Gadsden_AL.txt') as f:\n",
    "    lst=[line.split()[4] for line in f]\n",
    "    temp=[]\n",
    "    for i in lst:\n",
    "        new=i.replace(',',\"\")\n",
    "        temp.append(new)\n",
    "    temp.pop(0)\n",
    "    temp=[float(x) for x in temp]\n",
    "    #print(temp.index(6.91541))\n",
    "    temp=temp[1927:1952]\n",
    "    print(temp)\n",
    "    #print(len(temp))\n",
    "#full time period is [2015:2112]"
   ]
  },
  {
   "cell_type": "code",
   "execution_count": 33,
   "id": "3bcebe7b",
   "metadata": {},
   "outputs": [
    {
     "name": "stdout",
     "output_type": "stream",
     "text": [
      "[15.899999999999999, 14.649999999999999, 14.55, 14.350000000000001, 14.2, 14.2, 14.4, 14.55, 15.0, 15.55, 16.5, 17.0, 16.25, 15.8, 17.65, 20.65, 23.700000000000003, 21.35, 20.75, 21.3, 20.15, 17.8, 14.4, 11.5, 10.25]\n"
     ]
    }
   ],
   "source": [
    "#Air Temp CRN:\n",
    "with open('CRNS0101-05-2022-AL_Gadsden_19_N.txt') as f:\n",
    "    lst=[line.split()[12] for line in f]\n",
    "    \n",
    "    a=(float(lst[23339])+float(lst[23340]))/2\n",
    "    b=(float(lst[23351])+float(lst[23352]))/2\n",
    "    c=(float(lst[23363])+float(lst[23364]))/2\n",
    "    d=(float(lst[23375])+float(lst[23376]))/2\n",
    "    e=(float(lst[23387])+float(lst[23388]))/2\n",
    "    f=(float(lst[23399])+float(lst[23400]))/2\n",
    "    g=(float(lst[23411])+float(lst[23412]))/2\n",
    "    h=(float(lst[23423])+float(lst[23424]))/2\n",
    "    i=(float(lst[23435])+float(lst[23436]))/2\n",
    "    j=(float(lst[23447])+float(lst[23448]))/2\n",
    "    k=(float(lst[23459])+float(lst[23460]))/2\n",
    "    l=(float(lst[23471])+float(lst[23472]))/2\n",
    "    m=(float(lst[23483])+float(lst[23484]))/2\n",
    "    n=(float(lst[23495])+float(lst[23496]))/2\n",
    "    o=(float(lst[23507])+float(lst[23508]))/2\n",
    "    p=(float(lst[23519])+float(lst[23520]))/2\n",
    "    q=(float(lst[23531])+float(lst[23532]))/2\n",
    "    r=(float(lst[23543])+float(lst[23544]))/2\n",
    "    s=(float(lst[23555])+float(lst[23556]))/2\n",
    "    t=(float(lst[23567])+float(lst[23568]))/2\n",
    "    u=(float(lst[23579])+float(lst[23580]))/2\n",
    "    v=(float(lst[23591])+float(lst[23592]))/2\n",
    "    w=(float(lst[23603])+float(lst[23604]))/2\n",
    "    x=(float(lst[23615])+float(lst[23616]))/2\n",
    "    y=(float(lst[23627])+float(lst[23628]))/2\n",
    "    temp_crn=[a,b,c,d,e,f,g,h,i,j,k,l,m,n,o,p,q,r,s,t,u,v,w,x,y]\n",
    "    print(temp_crn)"
   ]
  },
  {
   "cell_type": "code",
   "execution_count": 34,
   "id": "c002ac76",
   "metadata": {},
   "outputs": [
    {
     "name": "stdout",
     "output_type": "stream",
     "text": [
      "[5.040000000000003, 4.530000000000001, 3.3999999999999986, 2.3599999999999994, 2.1099999999999994, 2.6900000000000013, 2.9399999999999995, 3.4499999999999993, 2.6700000000000017, 2.0, -0.14000000000000057, -1.0, -0.6899999999999995, 0.370000000000001, -0.05999999999999872, -3.229999999999997, -6.140000000000004, -3.3500000000000014, -2.969999999999999, -6.07, -4.879999999999999, -4.280000000000001, -2.34, -0.9900000000000002, -0.4299900000000001]\n"
     ]
    }
   ],
   "source": [
    "difference1_gad = []\n",
    "\n",
    "zip_object = zip(temp, temp_crn)\n",
    "for temp_i, temp_crn_i in zip_object:\n",
    "    difference1_gad.append(temp_i-temp_crn_i)\n",
    "\n",
    "print(difference1_gad)"
   ]
  },
  {
   "cell_type": "markdown",
   "id": "d430f7c6",
   "metadata": {},
   "source": [
    "<font size=\"3\">Newton, GA: 0900 UTC 23 March 2022-0900 UTC 24 March 2022</font>"
   ]
  },
  {
   "cell_type": "code",
   "execution_count": 35,
   "id": "13ffdd24",
   "metadata": {},
   "outputs": [
    {
     "name": "stdout",
     "output_type": "stream",
     "text": [
      "[19.68, 20.49, 20.05, 20.53, 20.68, 20.76, 22.83, 23.27, 25.11, 24.93, 23.02, 22.8, 20.88, 20.55, 19.79, 19.33, 18.41, 17.98, 17.56, 16.83, 16.42, 15.28, 14.37, 14.28, 13.97]\n"
     ]
    }
   ],
   "source": [
    "#18 hr hrrr:\n",
    "with open('hrrr_f18_Newton_GA.txt') as f:\n",
    "    lst=[line.split()[4] for line in f]\n",
    "    temp=[]\n",
    "    for i in lst:\n",
    "        new=i.replace(',',\"\")\n",
    "        temp.append(new)\n",
    "    temp.pop(0)\n",
    "    temp=[float(x) for x in temp]\n",
    "    #print(temp.index(6.91541))\n",
    "    temp=temp[1935:1960]\n",
    "    print(temp)\n",
    "    #print(len(temp))\n",
    "#full time period is [2015:2112]"
   ]
  },
  {
   "cell_type": "code",
   "execution_count": 36,
   "id": "f4925cb9",
   "metadata": {},
   "outputs": [
    {
     "name": "stdout",
     "output_type": "stream",
     "text": [
      "[20.25, 19.85, 19.5, 19.5, 19.8, 19.9, 20.55, 22.950000000000003, 23.05, 23.45, 26.0, 24.4, 24.450000000000003, 23.299999999999997, 21.65, 20.299999999999997, 18.65, 18.6, 17.799999999999997, 18.0, 17.1, 17.15, 16.45, 15.95, 15.7]\n"
     ]
    }
   ],
   "source": [
    "#Air Temp CRN:\n",
    "with open('CRNS0101-05-2022-GA_Newton_11_SW.txt') as f:\n",
    "    lst=[line.split()[12] for line in f]\n",
    "    \n",
    "    a=(float(lst[23435])+float(lst[23436]))/2\n",
    "    b=(float(lst[23447])+float(lst[23448]))/2\n",
    "    c=(float(lst[23459])+float(lst[23460]))/2\n",
    "    d=(float(lst[23471])+float(lst[23472]))/2\n",
    "    e=(float(lst[23483])+float(lst[23484]))/2\n",
    "    f=(float(lst[23495])+float(lst[23496]))/2\n",
    "    g=(float(lst[23507])+float(lst[23508]))/2\n",
    "    h=(float(lst[23519])+float(lst[23520]))/2\n",
    "    i=(float(lst[23531])+float(lst[23532]))/2\n",
    "    j=(float(lst[23543])+float(lst[23544]))/2\n",
    "    k=(float(lst[23555])+float(lst[23556]))/2\n",
    "    l=(float(lst[23567])+float(lst[23568]))/2\n",
    "    m=(float(lst[23579])+float(lst[23580]))/2\n",
    "    n=(float(lst[23591])+float(lst[23592]))/2\n",
    "    o=(float(lst[23603])+float(lst[23604]))/2\n",
    "    p=(float(lst[23615])+float(lst[23616]))/2\n",
    "    q=(float(lst[23627])+float(lst[23628]))/2\n",
    "    r=(float(lst[23639])+float(lst[23640]))/2\n",
    "    s=(float(lst[23651])+float(lst[23652]))/2\n",
    "    t=(float(lst[23663])+float(lst[23664]))/2\n",
    "    u=(float(lst[23675])+float(lst[23676]))/2\n",
    "    v=(float(lst[23687])+float(lst[23688]))/2\n",
    "    w=(float(lst[23699])+float(lst[23700]))/2\n",
    "    x=(float(lst[23711])+float(lst[23712]))/2\n",
    "    y=(float(lst[23723])+float(lst[23724]))/2\n",
    "    temp_crn=[a,b,c,d,e,f,g,h,i,j,k,l,m,n,o,p,q,r,s,t,u,v,w,x,y]\n",
    "    print(temp_crn)"
   ]
  },
  {
   "cell_type": "code",
   "execution_count": 37,
   "id": "f2141c03",
   "metadata": {},
   "outputs": [
    {
     "name": "stdout",
     "output_type": "stream",
     "text": [
      "[-0.5700000000000003, 0.639999999999997, 0.5500000000000007, 1.0300000000000011, 0.879999999999999, 0.860000000000003, 2.2799999999999976, 0.31999999999999673, 2.0599999999999987, 1.4800000000000004, -2.9800000000000004, -1.5999999999999979, -3.570000000000004, -2.7499999999999964, -1.8599999999999994, -0.9699999999999989, -0.23999999999999844, -0.620000000000001, -0.23999999999999844, -1.1700000000000017, -0.6799999999999997, -1.8699999999999992, -2.08, -1.67, -1.7299999999999986]\n"
     ]
    }
   ],
   "source": [
    "difference1_newt = []\n",
    "\n",
    "zip_object = zip(temp, temp_crn)\n",
    "for temp_i, temp_crn_i in zip_object:\n",
    "    difference1_newt.append(temp_i-temp_crn_i)\n",
    "\n",
    "print(difference1_newt)"
   ]
  },
  {
   "cell_type": "markdown",
   "id": "ab4663ab",
   "metadata": {},
   "source": [
    "<font size=\"3\">Salem, MO: 1300 UTC 30 March 2022-1300 UTC 31 March 2022</font>"
   ]
  },
  {
   "cell_type": "code",
   "execution_count": 38,
   "id": "99a04d39",
   "metadata": {},
   "outputs": [
    {
     "name": "stdout",
     "output_type": "stream",
     "text": [
      "[14.81, 13.82, 13.9, 16.98, 17.87, 16.42, 18.06, 16.72, 17.11, 11.34, 10.38, 8.20999, 7.63, 6.59, 5.38, 4.78, 4.36002, 3.70001, 3.39001, 3.34, 2.98001, 2.56, 2.30002, 1.82001, 1.82001]\n"
     ]
    }
   ],
   "source": [
    "#18 hr hrrr:\n",
    "with open('hrrr_f18_Salem_MO.txt') as f:\n",
    "    lst=[line.split()[4] for line in f]\n",
    "    temp=[]\n",
    "    for i in lst:\n",
    "        new=i.replace(',',\"\")\n",
    "        temp.append(new)\n",
    "    temp.pop(0)\n",
    "    temp=[float(x) for x in temp]\n",
    "    #print(temp.index(6.91541))\n",
    "    temp=temp[2107:2132]\n",
    "    print(temp)\n",
    "    #print(len(temp))\n",
    "#full time period is [2015:2112]"
   ]
  },
  {
   "cell_type": "code",
   "execution_count": 39,
   "id": "d27b98bf",
   "metadata": {},
   "outputs": [
    {
     "name": "stdout",
     "output_type": "stream",
     "text": [
      "[15.1, 13.55, 13.3, 13.75, 15.2, 14.75, 13.850000000000001, 14.1, 13.6, 10.7, 8.25, 6.65, 6.2, 5.25, 4.4, 4.15, 3.8, 3.4, 2.8, 2.95, 3.1, 3.0, 2.75, 3.05, 3.25]\n"
     ]
    }
   ],
   "source": [
    "#Air Temp CRN:\n",
    "with open('CRNS0101-05-2022-MO_Salem_10_W.txt') as f:\n",
    "    lst=[line.split()[12] for line in f]\n",
    "    \n",
    "    a=(float(lst[25499])+float(lst[25500]))/2\n",
    "    b=(float(lst[25511])+float(lst[25512]))/2\n",
    "    c=(float(lst[25523])+float(lst[25524]))/2\n",
    "    d=(float(lst[25535])+float(lst[25536]))/2\n",
    "    e=(float(lst[25547])+float(lst[25548]))/2\n",
    "    f=(float(lst[25559])+float(lst[25560]))/2\n",
    "    g=(float(lst[25571])+float(lst[25572]))/2\n",
    "    h=(float(lst[25583])+float(lst[25584]))/2\n",
    "    i=(float(lst[25595])+float(lst[25596]))/2\n",
    "    j=(float(lst[25607])+float(lst[25608]))/2\n",
    "    k=(float(lst[25619])+float(lst[25620]))/2\n",
    "    l=(float(lst[25631])+float(lst[25632]))/2\n",
    "    m=(float(lst[25643])+float(lst[25644]))/2\n",
    "    n=(float(lst[25655])+float(lst[25656]))/2\n",
    "    o=(float(lst[25667])+float(lst[25668]))/2\n",
    "    p=(float(lst[25679])+float(lst[25680]))/2\n",
    "    q=(float(lst[25691])+float(lst[25692]))/2\n",
    "    r=(float(lst[25703])+float(lst[25704]))/2\n",
    "    s=(float(lst[25715])+float(lst[25716]))/2\n",
    "    t=(float(lst[25727])+float(lst[25728]))/2\n",
    "    u=(float(lst[25739])+float(lst[25740]))/2\n",
    "    v=(float(lst[25751])+float(lst[25752]))/2\n",
    "    w=(float(lst[25763])+float(lst[25764]))/2\n",
    "    x=(float(lst[25775])+float(lst[25776]))/2\n",
    "    y=(float(lst[25787])+float(lst[25788]))/2\n",
    "    temp_crn=[a,b,c,d,e,f,g,h,i,j,k,l,m,n,o,p,q,r,s,t,u,v,w,x,y]\n",
    "    print(temp_crn)"
   ]
  },
  {
   "cell_type": "code",
   "execution_count": 40,
   "id": "e426b6a3",
   "metadata": {},
   "outputs": [
    {
     "name": "stdout",
     "output_type": "stream",
     "text": [
      "[-0.28999999999999915, 0.2699999999999996, 0.5999999999999996, 3.2300000000000004, 2.6700000000000017, 1.6700000000000017, 4.209999999999997, 2.619999999999999, 3.51, 0.6400000000000006, 2.130000000000001, 1.559989999999999, 1.4299999999999997, 1.3399999999999999, 0.9799999999999995, 0.6299999999999999, 0.5600199999999997, 0.3000099999999999, 0.5900100000000004, 0.3899999999999997, -0.11999000000000004, -0.43999999999999995, -0.44998000000000005, -1.22999, -1.42999]\n"
     ]
    }
   ],
   "source": [
    "difference2_sal = []\n",
    "\n",
    "zip_object = zip(temp, temp_crn)\n",
    "for temp_i, temp_crn_i in zip_object:\n",
    "    difference2_sal.append(temp_i-temp_crn_i)\n",
    "\n",
    "print(difference2_sal)"
   ]
  },
  {
   "cell_type": "markdown",
   "id": "e17a19ca",
   "metadata": {},
   "source": [
    "<font size=\"3\">Batesville, AR: 1300 UTC 30 March 2022-1300 UTC 31 March 2022</font>"
   ]
  },
  {
   "cell_type": "code",
   "execution_count": 41,
   "id": "eba099f6",
   "metadata": {},
   "outputs": [
    {
     "name": "stdout",
     "output_type": "stream",
     "text": [
      "[17.74, 18.94, 18.21, 18.18, 18.64, 17.6, 19.09, 19.55, 17.2, 17.16, 16.83, 13.51, 11.35, 8.84, 7.60001, 7.25, 6.25, 6.07001, 5.03, 4.48001, 4.01001, 3.23001, 2.77002, 3.24002, 4.04001]\n"
     ]
    }
   ],
   "source": [
    "#18 hr hrrr:\n",
    "with open('hrrr_f18_Batesville_AR.txt') as f:\n",
    "    lst=[line.split()[4] for line in f]\n",
    "    temp=[]\n",
    "    for i in lst:\n",
    "        new=i.replace(',',\"\")\n",
    "        temp.append(new)\n",
    "    temp.pop(0)\n",
    "    temp=[float(x) for x in temp]\n",
    "    #print(temp.index(6.91541))\n",
    "    temp=temp[2107:2132]\n",
    "    print(temp)\n",
    "    #print(len(temp))\n",
    "#full time period is [2015:2112]"
   ]
  },
  {
   "cell_type": "code",
   "execution_count": 42,
   "id": "bfa93776",
   "metadata": {},
   "outputs": [
    {
     "name": "stdout",
     "output_type": "stream",
     "text": [
      "[17.2, 17.4, 17.55, 16.9, 17.15, 16.85, 15.85, 14.9, 13.9, 17.1, 15.45, 13.8, 9.2, 8.149999999999999, 7.65, 6.25, 6.2, 6.1, 4.35, 5.25, 5.2, 3.95, 2.0, 0.8500000000000001, 4.85]\n"
     ]
    }
   ],
   "source": [
    "#Air Temp CRN:\n",
    "with open('CRNS0101-05-2022-AR_Batesville_8_WNW.txt') as f:\n",
    "    lst=[line.split()[12] for line in f]\n",
    "    \n",
    "    a=(float(lst[25499])+float(lst[25500]))/2\n",
    "    b=(float(lst[25511])+float(lst[25512]))/2\n",
    "    c=(float(lst[25523])+float(lst[25524]))/2\n",
    "    d=(float(lst[25535])+float(lst[25536]))/2\n",
    "    e=(float(lst[25547])+float(lst[25548]))/2\n",
    "    f=(float(lst[25559])+float(lst[25560]))/2\n",
    "    g=(float(lst[25571])+float(lst[25572]))/2\n",
    "    h=(float(lst[25583])+float(lst[25584]))/2\n",
    "    i=(float(lst[25595])+float(lst[25596]))/2\n",
    "    j=(float(lst[25607])+float(lst[25608]))/2\n",
    "    k=(float(lst[25619])+float(lst[25620]))/2\n",
    "    l=(float(lst[25631])+float(lst[25632]))/2\n",
    "    m=(float(lst[25643])+float(lst[25644]))/2\n",
    "    n=(float(lst[25655])+float(lst[25656]))/2\n",
    "    o=(float(lst[25667])+float(lst[25668]))/2\n",
    "    p=(float(lst[25679])+float(lst[25680]))/2\n",
    "    q=(float(lst[25691])+float(lst[25692]))/2\n",
    "    r=(float(lst[25703])+float(lst[25704]))/2\n",
    "    s=(float(lst[25715])+float(lst[25716]))/2\n",
    "    t=(float(lst[25727])+float(lst[25728]))/2\n",
    "    u=(float(lst[25739])+float(lst[25740]))/2\n",
    "    v=(float(lst[25751])+float(lst[25752]))/2\n",
    "    w=(float(lst[25763])+float(lst[25764]))/2\n",
    "    x=(float(lst[25775])+float(lst[25776]))/2\n",
    "    y=(float(lst[25787])+float(lst[25788]))/2\n",
    "    temp_crn=[a,b,c,d,e,f,g,h,i,j,k,l,m,n,o,p,q,r,s,t,u,v,w,x,y]\n",
    "    print(temp_crn)"
   ]
  },
  {
   "cell_type": "code",
   "execution_count": 43,
   "id": "12f91aa0",
   "metadata": {},
   "outputs": [
    {
     "name": "stdout",
     "output_type": "stream",
     "text": [
      "[0.5399999999999991, 1.5400000000000027, 0.6600000000000001, 1.2800000000000011, 1.490000000000002, 0.75, 3.24, 4.65, 3.299999999999999, 0.05999999999999872, 1.379999999999999, -0.2900000000000009, 2.1500000000000004, 0.6900000000000013, -0.0499900000000002, 1.0, 0.04999999999999982, -0.02998999999999974, 0.6800000000000006, -0.76999, -1.1899899999999999, -0.7199900000000001, 0.7700200000000001, 2.39002, -0.80999]\n"
     ]
    }
   ],
   "source": [
    "difference2_bat = []\n",
    "\n",
    "zip_object = zip(temp, temp_crn)\n",
    "for temp_i, temp_crn_i in zip_object:\n",
    "    difference2_bat.append(temp_i-temp_crn_i)\n",
    "\n",
    "print(difference2_bat)"
   ]
  },
  {
   "cell_type": "markdown",
   "id": "cda99a3a",
   "metadata": {},
   "source": [
    "<font size=\"3\">Lafayette, LA: 1700 UTC 30 March 2022-1700 UTC 31 March 2022</font>"
   ]
  },
  {
   "cell_type": "code",
   "execution_count": 44,
   "id": "26376511",
   "metadata": {},
   "outputs": [
    {
     "name": "stdout",
     "output_type": "stream",
     "text": [
      "[27.8, 25.83, 24.62, 25.08, 22.09, 23.29, 22.93, 21.49, 19.89, 19.03, 18.61, 17.85, 16.37, 15.45, 15.17, 14.02, 13.15, 11.71, 11.16, 10.06, 11.48, 13.35, 15.73, 19.06, 22.26]\n"
     ]
    }
   ],
   "source": [
    "#18 hr hrrr:\n",
    "with open('hrrr_f18_Lafayette_LA.txt') as f:\n",
    "    lst=[line.split()[4] for line in f]\n",
    "    temp=[]\n",
    "    for i in lst:\n",
    "        new=i.replace(',',\"\")\n",
    "        temp.append(new)\n",
    "    temp.pop(0)\n",
    "    temp=[float(x) for x in temp]\n",
    "    #print(temp.index(6.91541))\n",
    "    temp=temp[2111:2136]\n",
    "    print(temp)\n",
    "    #print(len(temp))\n",
    "#full time period is [2015:2112]"
   ]
  },
  {
   "cell_type": "code",
   "execution_count": 45,
   "id": "a99a4e51",
   "metadata": {},
   "outputs": [
    {
     "name": "stdout",
     "output_type": "stream",
     "text": [
      "[23.950000000000003, 24.4, 24.6, 24.4, 22.65, 16.65, 17.799999999999997, 16.549999999999997, 12.5, 12.45, 12.55, 12.8, 13.15, 14.6, 12.25, 12.3, 9.600000000000001, 8.2, 6.6, 6.1, 11.05, 14.15, 17.9, 23.2, 25.450000000000003]\n"
     ]
    }
   ],
   "source": [
    "#Air Temp CRN:\n",
    "with open('CRNS0101-05-2022-LA_Lafayette_13_SE.txt') as f:\n",
    "    lst=[line.split()[12] for line in f]\n",
    "    \n",
    "    a=(float(lst[25547])+float(lst[25548]))/2\n",
    "    b=(float(lst[25559])+float(lst[25560]))/2\n",
    "    c=(float(lst[25571])+float(lst[25572]))/2\n",
    "    d=(float(lst[25583])+float(lst[25584]))/2\n",
    "    e=(float(lst[25595])+float(lst[25596]))/2\n",
    "    f=(float(lst[25607])+float(lst[25608]))/2\n",
    "    g=(float(lst[25619])+float(lst[25620]))/2\n",
    "    h=(float(lst[25631])+float(lst[25632]))/2\n",
    "    i=(float(lst[25643])+float(lst[25644]))/2\n",
    "    j=(float(lst[25655])+float(lst[25656]))/2\n",
    "    k=(float(lst[25667])+float(lst[25668]))/2\n",
    "    l=(float(lst[25679])+float(lst[25680]))/2\n",
    "    m=(float(lst[25691])+float(lst[25692]))/2\n",
    "    n=(float(lst[25703])+float(lst[25704]))/2\n",
    "    o=(float(lst[25715])+float(lst[25716]))/2\n",
    "    p=(float(lst[25727])+float(lst[25728]))/2\n",
    "    q=(float(lst[25739])+float(lst[25740]))/2\n",
    "    r=(float(lst[25751])+float(lst[25752]))/2\n",
    "    s=(float(lst[25763])+float(lst[25764]))/2\n",
    "    t=(float(lst[25775])+float(lst[25776]))/2\n",
    "    u=(float(lst[25787])+float(lst[25788]))/2\n",
    "    v=(float(lst[25799])+float(lst[25800]))/2\n",
    "    w=(float(lst[25811])+float(lst[25812]))/2\n",
    "    x=(float(lst[25823])+float(lst[25824]))/2\n",
    "    y=(float(lst[25835])+float(lst[25836]))/2\n",
    "    temp_crn=[a,b,c,d,e,f,g,h,i,j,k,l,m,n,o,p,q,r,s,t,u,v,w,x,y]\n",
    "    print(temp_crn)"
   ]
  },
  {
   "cell_type": "code",
   "execution_count": 46,
   "id": "ad9e49f7",
   "metadata": {},
   "outputs": [
    {
     "name": "stdout",
     "output_type": "stream",
     "text": [
      "[3.849999999999998, 1.4299999999999997, 0.019999999999999574, 0.6799999999999997, -0.5599999999999987, 6.640000000000001, 5.130000000000003, 4.940000000000001, 7.390000000000001, 6.580000000000002, 6.059999999999999, 5.050000000000001, 3.2200000000000006, 0.8499999999999996, 2.92, 1.7199999999999989, 3.549999999999999, 3.5100000000000016, 4.5600000000000005, 3.960000000000001, 0.4299999999999997, -0.8000000000000007, -2.169999999999998, -4.140000000000001, -3.1900000000000013]\n"
     ]
    }
   ],
   "source": [
    "difference2_laf = []\n",
    "\n",
    "zip_object = zip(temp, temp_crn)\n",
    "for temp_i, temp_crn_i in zip_object:\n",
    "    difference2_laf.append(temp_i-temp_crn_i)\n",
    "\n",
    "print(difference2_laf)"
   ]
  },
  {
   "cell_type": "markdown",
   "id": "5bdd017c",
   "metadata": {},
   "source": [
    "<font size=\"3\">Monroe, LA: 1700 UTC 30 March 2022-1700 UTC 31 March 2022</font>"
   ]
  },
  {
   "cell_type": "code",
   "execution_count": 47,
   "id": "5ef5ec6e",
   "metadata": {},
   "outputs": [
    {
     "name": "stdout",
     "output_type": "stream",
     "text": [
      "[21.62, 16.47, 17.08, 17.69, 18.03, 19.89, 19.58, 17.75, 15.5, 13.47, 11.93, 11.05, 9.55002, 10.58, 10.19, 8.45001, 7.95001, 7.28, 6.88, 6.77002, 7.79001, 10.11, 12.54, 14.18, 15.57]\n"
     ]
    }
   ],
   "source": [
    "#18 hr hrrr:\n",
    "with open('hrrr_f18_Monroe_LA.txt') as f:\n",
    "    lst=[line.split()[4] for line in f]\n",
    "    temp=[]\n",
    "    for i in lst:\n",
    "        new=i.replace(',',\"\")\n",
    "        temp.append(new)\n",
    "    temp.pop(0)\n",
    "    temp=[float(x) for x in temp]\n",
    "    #print(temp.index(6.91541))\n",
    "    temp=temp[2111:2136]\n",
    "    print(temp)\n",
    "    #print(len(temp))\n",
    "#full time period is [2015:2112]"
   ]
  },
  {
   "cell_type": "code",
   "execution_count": 48,
   "id": "13a6a15b",
   "metadata": {},
   "outputs": [
    {
     "name": "stdout",
     "output_type": "stream",
     "text": [
      "[20.450000000000003, 20.1, 16.65, 15.850000000000001, 17.5, 20.1, 16.75, 15.7, 15.05, 14.0, 12.7, 11.9, 10.0, 8.25, 8.05, 8.9, 6.300000000000001, 5.0, 4.3, 3.95, 7.7, 12.2, 14.5, 17.6, 19.6]\n"
     ]
    }
   ],
   "source": [
    "#Air Temp CRN:\n",
    "with open('CRNS0101-05-2022-LA_Monroe_26_N.txt') as f:\n",
    "    lst=[line.split()[12] for line in f]\n",
    "    \n",
    "    a=(float(lst[25547])+float(lst[25548]))/2\n",
    "    b=(float(lst[25559])+float(lst[25560]))/2\n",
    "    c=(float(lst[25571])+float(lst[25572]))/2\n",
    "    d=(float(lst[25583])+float(lst[25584]))/2\n",
    "    e=(float(lst[25595])+float(lst[25596]))/2\n",
    "    f=(float(lst[25607])+float(lst[25608]))/2\n",
    "    g=(float(lst[25619])+float(lst[25620]))/2\n",
    "    h=(float(lst[25631])+float(lst[25632]))/2\n",
    "    i=(float(lst[25643])+float(lst[25644]))/2\n",
    "    j=(float(lst[25655])+float(lst[25656]))/2\n",
    "    k=(float(lst[25667])+float(lst[25668]))/2\n",
    "    l=(float(lst[25679])+float(lst[25680]))/2\n",
    "    m=(float(lst[25691])+float(lst[25692]))/2\n",
    "    n=(float(lst[25703])+float(lst[25704]))/2\n",
    "    o=(float(lst[25715])+float(lst[25716]))/2\n",
    "    p=(float(lst[25727])+float(lst[25728]))/2\n",
    "    q=(float(lst[25739])+float(lst[25740]))/2\n",
    "    r=(float(lst[25751])+float(lst[25752]))/2\n",
    "    s=(float(lst[25763])+float(lst[25764]))/2\n",
    "    t=(float(lst[25775])+float(lst[25776]))/2\n",
    "    u=(float(lst[25787])+float(lst[25788]))/2\n",
    "    v=(float(lst[25799])+float(lst[25800]))/2\n",
    "    w=(float(lst[25811])+float(lst[25812]))/2\n",
    "    x=(float(lst[25823])+float(lst[25824]))/2\n",
    "    y=(float(lst[25835])+float(lst[25836]))/2\n",
    "    temp_crn=[a,b,c,d,e,f,g,h,i,j,k,l,m,n,o,p,q,r,s,t,u,v,w,x,y]\n",
    "    print(temp_crn)"
   ]
  },
  {
   "cell_type": "code",
   "execution_count": 49,
   "id": "178b8e52",
   "metadata": {},
   "outputs": [
    {
     "name": "stdout",
     "output_type": "stream",
     "text": [
      "[1.1699999999999982, -3.6300000000000026, 0.4299999999999997, 1.8399999999999999, 0.5300000000000011, -0.21000000000000085, 2.8299999999999983, 2.0500000000000007, 0.4499999999999993, -0.5299999999999994, -0.7699999999999996, -0.8499999999999996, -0.44998000000000005, 2.33, 2.139999999999999, -0.44998999999999967, 1.650009999999999, 2.2800000000000002, 2.58, 2.8200199999999995, 0.09000999999999948, -2.09, -1.9600000000000009, -3.4200000000000017, -4.030000000000001]\n"
     ]
    }
   ],
   "source": [
    "difference2_mon = []\n",
    "\n",
    "zip_object = zip(temp, temp_crn)\n",
    "for temp_i, temp_crn_i in zip_object:\n",
    "    difference2_mon.append(temp_i-temp_crn_i)\n",
    "\n",
    "print(difference2_mon)"
   ]
  },
  {
   "cell_type": "markdown",
   "id": "3e401515",
   "metadata": {},
   "source": [
    "<font size=\"3\">Holly Springs, MS: 2000 UTC 30 March 2022-2000 UTC 31 March 2022</font>"
   ]
  },
  {
   "cell_type": "code",
   "execution_count": 50,
   "id": "d634b795",
   "metadata": {},
   "outputs": [
    {
     "name": "stdout",
     "output_type": "stream",
     "text": [
      "[23.89, 20.75, 20.09, 15.99, 15.73, 15.45, 14.8, 14.62, 13.9, 11.55, 11.68, 10.76, 9.56, 7.92999, 6.61002, 6.70001, 5.83002, 6.01001, 7.44, 8.36002, 10.25, 11.75, 11.64, 12.21, 11.28]\n"
     ]
    }
   ],
   "source": [
    "#18 hr hrrr:\n",
    "with open('hrrr_f18_Holly Springs_MS.txt') as f:\n",
    "    lst=[line.split()[4] for line in f]\n",
    "    temp=[]\n",
    "    for i in lst:\n",
    "        new=i.replace(',',\"\")\n",
    "        temp.append(new)\n",
    "    temp.pop(0)\n",
    "    temp=[float(x) for x in temp]\n",
    "    #print(temp.index(6.91541))\n",
    "    temp=temp[2114:2139]\n",
    "    print(temp)\n",
    "    #print(len(temp))\n",
    "#full time period is [2015:2112]"
   ]
  },
  {
   "cell_type": "code",
   "execution_count": 51,
   "id": "82820f6a",
   "metadata": {},
   "outputs": [
    {
     "name": "stdout",
     "output_type": "stream",
     "text": [
      "[18.65, 18.5, 18.2, 15.0, 14.7, 14.350000000000001, 13.8, 13.350000000000001, 14.149999999999999, 13.8, 11.8, 11.0, 9.75, 8.55, 8.2, 7.9, 8.05, 8.4, 9.65, 14.5, 17.549999999999997, 20.549999999999997, 20.799999999999997, 21.45, 21.15]\n"
     ]
    }
   ],
   "source": [
    "#Air Temp CRN:\n",
    "with open('CRNS0101-05-2022-MS_Holly_Springs_4_N.txt') as f:\n",
    "    lst=[line.split()[12] for line in f]\n",
    "\n",
    "    a=(float(lst[25583])+float(lst[25584]))/2\n",
    "    b=(float(lst[25595])+float(lst[25596]))/2\n",
    "    c=(float(lst[25607])+float(lst[25608]))/2\n",
    "    d=(float(lst[25619])+float(lst[25620]))/2\n",
    "    e=(float(lst[25631])+float(lst[25632]))/2\n",
    "    f=(float(lst[25643])+float(lst[25644]))/2\n",
    "    g=(float(lst[25655])+float(lst[25656]))/2\n",
    "    h=(float(lst[25667])+float(lst[25668]))/2\n",
    "    i=(float(lst[25679])+float(lst[25680]))/2\n",
    "    j=(float(lst[25691])+float(lst[25692]))/2\n",
    "    k=(float(lst[25703])+float(lst[25704]))/2\n",
    "    l=(float(lst[25715])+float(lst[25716]))/2\n",
    "    m=(float(lst[25727])+float(lst[25728]))/2\n",
    "    n=(float(lst[25739])+float(lst[25740]))/2\n",
    "    o=(float(lst[25751])+float(lst[25752]))/2\n",
    "    p=(float(lst[25763])+float(lst[25764]))/2\n",
    "    q=(float(lst[25775])+float(lst[25776]))/2\n",
    "    r=(float(lst[25787])+float(lst[25788]))/2\n",
    "    s=(float(lst[25799])+float(lst[25800]))/2\n",
    "    t=(float(lst[25811])+float(lst[25812]))/2\n",
    "    u=(float(lst[25823])+float(lst[25824]))/2\n",
    "    v=(float(lst[25835])+float(lst[25836]))/2\n",
    "    w=(float(lst[25847])+float(lst[25848]))/2\n",
    "    x=(float(lst[25859])+float(lst[25860]))/2\n",
    "    y=(float(lst[25871])+float(lst[25872]))/2\n",
    "    temp_crn=[a,b,c,d,e,f,g,h,i,j,k,l,m,n,o,p,q,r,s,t,u,v,w,x,y]\n",
    "    print(temp_crn)"
   ]
  },
  {
   "cell_type": "code",
   "execution_count": 52,
   "id": "b348cd62",
   "metadata": {},
   "outputs": [
    {
     "name": "stdout",
     "output_type": "stream",
     "text": [
      "[5.240000000000002, 2.25, 1.8900000000000006, 0.9900000000000002, 1.0300000000000011, 1.0999999999999979, 1.0, 1.2699999999999978, -0.24999999999999822, -2.25, -0.120000000000001, -0.2400000000000002, -0.1899999999999995, -0.6200100000000006, -1.5899799999999997, -1.1999900000000006, -2.2199800000000005, -2.38999, -2.21, -6.1399799999999995, -7.299999999999997, -8.799999999999997, -9.159999999999997, -9.239999999999998, -9.87]\n"
     ]
    }
   ],
   "source": [
    "difference2_hol = []\n",
    "\n",
    "zip_object = zip(temp, temp_crn)\n",
    "for temp_i, temp_crn_i in zip_object:\n",
    "    difference2_hol.append(temp_i-temp_crn_i)\n",
    "\n",
    "print(difference2_hol)"
   ]
  },
  {
   "cell_type": "markdown",
   "id": "b5225197",
   "metadata": {},
   "source": [
    "<font size=\"3\">Newton, MS: 2000 UTC 30 March 2022-2000 UTC 31 March 2022</font>"
   ]
  },
  {
   "cell_type": "code",
   "execution_count": 53,
   "id": "62c8df7f",
   "metadata": {},
   "outputs": [
    {
     "name": "stdout",
     "output_type": "stream",
     "text": [
      "[28.61, 26.26, 25.66, 21.53, 20.67, 18.07, 16.8, 16.67, 15.83, 16.57, 16.22, 16.2, 14.52, 11.97, 11.51, 11.43, 10.73, 10.22, 10.2, 11.73, 14.09, 16.03, 17.67, 19.44, 19.89]\n"
     ]
    }
   ],
   "source": [
    "#18 hr hrrr:\n",
    "with open('hrrr_f18_Newton_MS.txt') as f:\n",
    "    lst=[line.split()[4] for line in f]\n",
    "    temp=[]\n",
    "    for i in lst:\n",
    "        new=i.replace(',',\"\")\n",
    "        temp.append(new)\n",
    "    temp.pop(0)\n",
    "    temp=[float(x) for x in temp]\n",
    "    #print(temp.index(6.91541))\n",
    "    temp=temp[2114:2139]\n",
    "    print(temp)\n",
    "    #print(len(temp))\n",
    "#full time period is [2015:2112]"
   ]
  },
  {
   "cell_type": "code",
   "execution_count": 54,
   "id": "32b82de3",
   "metadata": {},
   "outputs": [
    {
     "name": "stdout",
     "output_type": "stream",
     "text": [
      "[23.45, 22.9, 21.85, 21.450000000000003, 19.5, 15.75, 15.25, 14.8, 13.3, 11.75, 12.4, 12.149999999999999, 13.850000000000001, 12.2, 10.6, 10.8, 9.75, 11.9, 12.25, 17.4, 20.3, 23.299999999999997, 25.0, 27.85, 26.3]\n"
     ]
    }
   ],
   "source": [
    "#Air Temp CRN:\n",
    "with open('CRNS0101-05-2022-MS_Newton_5_ENE.txt') as f:\n",
    "    lst=[line.split()[12] for line in f]\n",
    "\n",
    "    a=(float(lst[25583])+float(lst[25584]))/2\n",
    "    b=(float(lst[25595])+float(lst[25596]))/2\n",
    "    c=(float(lst[25607])+float(lst[25608]))/2\n",
    "    d=(float(lst[25619])+float(lst[25620]))/2\n",
    "    e=(float(lst[25631])+float(lst[25632]))/2\n",
    "    f=(float(lst[25643])+float(lst[25644]))/2\n",
    "    g=(float(lst[25655])+float(lst[25656]))/2\n",
    "    h=(float(lst[25667])+float(lst[25668]))/2\n",
    "    i=(float(lst[25679])+float(lst[25680]))/2\n",
    "    j=(float(lst[25691])+float(lst[25692]))/2\n",
    "    k=(float(lst[25703])+float(lst[25704]))/2\n",
    "    l=(float(lst[25715])+float(lst[25716]))/2\n",
    "    m=(float(lst[25727])+float(lst[25728]))/2\n",
    "    n=(float(lst[25739])+float(lst[25740]))/2\n",
    "    o=(float(lst[25751])+float(lst[25752]))/2\n",
    "    p=(float(lst[25763])+float(lst[25764]))/2\n",
    "    q=(float(lst[25775])+float(lst[25776]))/2\n",
    "    r=(float(lst[25787])+float(lst[25788]))/2\n",
    "    s=(float(lst[25799])+float(lst[25800]))/2\n",
    "    t=(float(lst[25811])+float(lst[25812]))/2\n",
    "    u=(float(lst[25823])+float(lst[25824]))/2\n",
    "    v=(float(lst[25835])+float(lst[25836]))/2\n",
    "    w=(float(lst[25847])+float(lst[25848]))/2\n",
    "    x=(float(lst[25859])+float(lst[25860]))/2\n",
    "    y=(float(lst[25871])+float(lst[25872]))/2\n",
    "    temp_crn=[a,b,c,d,e,f,g,h,i,j,k,l,m,n,o,p,q,r,s,t,u,v,w,x,y]\n",
    "    print(temp_crn)"
   ]
  },
  {
   "cell_type": "code",
   "execution_count": 55,
   "id": "cd6de2b7",
   "metadata": {},
   "outputs": [
    {
     "name": "stdout",
     "output_type": "stream",
     "text": [
      "[5.16, 3.360000000000003, 3.8099999999999987, 0.0799999999999983, 1.1700000000000017, 2.3200000000000003, 1.5500000000000007, 1.870000000000001, 2.5299999999999994, 4.82, 3.8199999999999985, 4.050000000000001, 0.6699999999999982, -0.22999999999999865, 0.9100000000000001, 0.629999999999999, 0.9800000000000004, -1.6799999999999997, -2.0500000000000007, -5.669999999999998, -6.210000000000001, -7.269999999999996, -7.329999999999998, -8.41, -6.41]\n"
     ]
    }
   ],
   "source": [
    "difference2_new = []\n",
    "\n",
    "zip_object = zip(temp, temp_crn)\n",
    "for temp_i, temp_crn_i in zip_object:\n",
    "    difference2_new.append(temp_i-temp_crn_i)\n",
    "\n",
    "print(difference2_new)"
   ]
  },
  {
   "cell_type": "markdown",
   "id": "bfaeb78c",
   "metadata": {},
   "source": [
    "<font size=\"3\">Gainesville, AL: 2300 UTC 30 March 2022-2300 UTC 31 March 2022</font>"
   ]
  },
  {
   "cell_type": "code",
   "execution_count": 56,
   "id": "13c99f74",
   "metadata": {},
   "outputs": [
    {
     "name": "stdout",
     "output_type": "stream",
     "text": [
      "[25.13, 23.92, 20.76, 17.12, 16.11, 16.01, 16.02, 15.58, 15.4, 16.06, 15.39, 13.14, 12.97, 12.01, 11.81, 11.64, 12.53, 13.91, 13.99, 15.41, 16.63, 17.03, 17.26, 16.2, 14.78]\n"
     ]
    }
   ],
   "source": [
    "#18 hr hrrr:\n",
    "with open('hrrr_f18_Gainesville_AL (1).txt') as f:\n",
    "    lst=[line.split()[4] for line in f]\n",
    "    temp=[]\n",
    "    for i in lst:\n",
    "        new=i.replace(',',\"\")\n",
    "        temp.append(new)\n",
    "    temp.pop(0)\n",
    "    temp=[float(x) for x in temp]\n",
    "    #print(temp.index(6.91541))\n",
    "    temp=temp[2117:2142]\n",
    "    print(temp)\n",
    "    #print(len(temp))\n",
    "#full time period is [2015:2112]"
   ]
  },
  {
   "cell_type": "code",
   "execution_count": 57,
   "id": "99d8adcd",
   "metadata": {},
   "outputs": [
    {
     "name": "stdout",
     "output_type": "stream",
     "text": [
      "[-9999.0, -9999.0, -9999.0, -9999.0, -9999.0, -9999.0, -9999.0, -9999.0, -9999.0, -9999.0, -9999.0, -9999.0, -9999.0, -9999.0, -9999.0, -9999.0, -9999.0, -9999.0, -9999.0, -9999.0, -9999.0, -9999.0, -9999.0, -9999.0, -9999.0]\n"
     ]
    }
   ],
   "source": [
    "#Air Temp CRN:\n",
    "with open('CRNS0101-05-2022-AL_Gainesville_2_NE.txt') as f:\n",
    "    lst=[line.split()[12] for line in f]\n",
    "\n",
    "    a=(float(lst[25619])+float(lst[25620]))/2\n",
    "    b=(float(lst[25631])+float(lst[25632]))/2\n",
    "    c=(float(lst[25643])+float(lst[25644]))/2\n",
    "    d=(float(lst[25655])+float(lst[25656]))/2\n",
    "    e=(float(lst[25667])+float(lst[25668]))/2\n",
    "    f=(float(lst[25679])+float(lst[25680]))/2\n",
    "    g=(float(lst[25691])+float(lst[25692]))/2\n",
    "    h=(float(lst[25703])+float(lst[25704]))/2\n",
    "    i=(float(lst[25715])+float(lst[25716]))/2\n",
    "    j=(float(lst[25727])+float(lst[25728]))/2\n",
    "    k=(float(lst[25739])+float(lst[25740]))/2\n",
    "    l=(float(lst[25751])+float(lst[25752]))/2\n",
    "    m=(float(lst[25763])+float(lst[25764]))/2\n",
    "    n=(float(lst[25775])+float(lst[25776]))/2\n",
    "    o=(float(lst[25787])+float(lst[25788]))/2\n",
    "    p=(float(lst[25799])+float(lst[25800]))/2\n",
    "    q=(float(lst[25811])+float(lst[25812]))/2\n",
    "    r=(float(lst[25823])+float(lst[25824]))/2\n",
    "    s=(float(lst[25835])+float(lst[25836]))/2\n",
    "    t=(float(lst[25847])+float(lst[25848]))/2\n",
    "    u=(float(lst[25859])+float(lst[25860]))/2\n",
    "    v=(float(lst[25871])+float(lst[25872]))/2\n",
    "    w=(float(lst[25883])+float(lst[25884]))/2\n",
    "    x=(float(lst[25895])+float(lst[25896]))/2\n",
    "    y=(float(lst[25907])+float(lst[25908]))/2\n",
    "    temp_crn=[a,b,c,d,e,f,g,h,i,j,k,l,m,n,o,p,q,r,s,t,u,v,w,x,y]\n",
    "    print(temp_crn)"
   ]
  },
  {
   "cell_type": "code",
   "execution_count": 58,
   "id": "82a257d7",
   "metadata": {},
   "outputs": [],
   "source": [
    "# difference2_gai = []\n",
    "\n",
    "# zip_object = zip(temp, temp_crn)\n",
    "# for temp_i, temp_crn_i in zip_object:\n",
    "#     difference2_gai.append(temp_i-temp_crn_i)\n",
    "\n",
    "# print(difference2_gai)"
   ]
  },
  {
   "cell_type": "markdown",
   "id": "0917b86d",
   "metadata": {},
   "source": [
    "<font size=\"3\">Fairhope, AL: 0100 UTC 31 March 2022-0100 UTC 1 April 2022</font>"
   ]
  },
  {
   "cell_type": "code",
   "execution_count": 59,
   "id": "4482923f",
   "metadata": {},
   "outputs": [
    {
     "name": "stdout",
     "output_type": "stream",
     "text": [
      "[22.96, 23.12, 22.29, 22.67, 22.97, 22.26, 16.22, 16.95, 16.91, 17.87, 16.96, 16.99, 17.44, 18.56, 20.2, 20.38, 21.84, 24.57, 22.26, 22.37, 21.27, 21.05, 22.31, 19.62, 17.91]\n"
     ]
    }
   ],
   "source": [
    "#18 hr hrrr:\n",
    "with open('hrrr_f18_Fairhope_AL.txt') as f:\n",
    "    lst=[line.split()[4] for line in f]\n",
    "    temp=[]\n",
    "    for i in lst:\n",
    "        new=i.replace(',',\"\")\n",
    "        temp.append(new)\n",
    "    temp.pop(0)\n",
    "    temp=[float(x) for x in temp]\n",
    "    #print(temp.index(6.91541))\n",
    "    temp=temp[2119:2144]\n",
    "    print(temp)\n",
    "    #print(len(temp))\n",
    "#full time period is [2015:2112]"
   ]
  },
  {
   "cell_type": "code",
   "execution_count": 60,
   "id": "70c7a360",
   "metadata": {},
   "outputs": [
    {
     "name": "stdout",
     "output_type": "stream",
     "text": [
      "[22.6, 22.35, 21.4, 21.9, 17.75, 16.5, 16.75, 16.65, 16.7, 16.75, 16.3, 16.9, 18.35, 19.1, 24.200000000000003, 26.450000000000003, 28.6, 29.75, 30.450000000000003, 30.049999999999997, 27.8, 24.9, 20.9, 14.75, 11.75]\n"
     ]
    }
   ],
   "source": [
    "#Air Temp CRN:\n",
    "with open('CRNS0101-05-2022-AL_Fairhope_3_NE.txt') as f:\n",
    "    lst=[line.split()[12] for line in f]\n",
    "    \n",
    "    a=(float(lst[25643])+float(lst[25644]))/2\n",
    "    b=(float(lst[25655])+float(lst[25656]))/2\n",
    "    c=(float(lst[25667])+float(lst[25668]))/2\n",
    "    d=(float(lst[25679])+float(lst[25680]))/2\n",
    "    e=(float(lst[25691])+float(lst[25692]))/2\n",
    "    f=(float(lst[25703])+float(lst[25704]))/2\n",
    "    g=(float(lst[25715])+float(lst[25716]))/2\n",
    "    h=(float(lst[25727])+float(lst[25728]))/2\n",
    "    i=(float(lst[25739])+float(lst[25740]))/2\n",
    "    j=(float(lst[25751])+float(lst[25752]))/2\n",
    "    k=(float(lst[25763])+float(lst[25764]))/2\n",
    "    l=(float(lst[25775])+float(lst[25776]))/2\n",
    "    m=(float(lst[25787])+float(lst[25788]))/2\n",
    "    n=(float(lst[25799])+float(lst[25800]))/2\n",
    "    o=(float(lst[25811])+float(lst[25812]))/2\n",
    "    p=(float(lst[25823])+float(lst[25824]))/2\n",
    "    q=(float(lst[25835])+float(lst[25836]))/2\n",
    "    r=(float(lst[25847])+float(lst[25848]))/2\n",
    "    s=(float(lst[25859])+float(lst[25860]))/2\n",
    "    t=(float(lst[25871])+float(lst[25872]))/2\n",
    "    u=(float(lst[25883])+float(lst[25884]))/2\n",
    "    v=(float(lst[25895])+float(lst[25896]))/2\n",
    "    w=(float(lst[25907])+float(lst[25908]))/2\n",
    "    x=(float(lst[25919])+float(lst[25920]))/2\n",
    "    y=(float(lst[25931])+float(lst[25932]))/2\n",
    "    temp_crn=[a,b,c,d,e,f,g,h,i,j,k,l,m,n,o,p,q,r,s,t,u,v,w,x,y]\n",
    "    print(temp_crn)"
   ]
  },
  {
   "cell_type": "code",
   "execution_count": 61,
   "id": "f15c30e0",
   "metadata": {},
   "outputs": [
    {
     "name": "stdout",
     "output_type": "stream",
     "text": [
      "[0.35999999999999943, 0.7699999999999996, 0.8900000000000006, 0.7700000000000031, 5.219999999999999, 5.760000000000002, -0.5300000000000011, 0.3000000000000007, 0.21000000000000085, 1.120000000000001, 0.6600000000000001, 0.08999999999999986, -0.9100000000000001, -0.5400000000000027, -4.0000000000000036, -6.070000000000004, -6.760000000000002, -5.18, -8.190000000000001, -7.679999999999996, -6.530000000000001, -3.849999999999998, 1.4100000000000001, 4.870000000000001, 6.16]\n"
     ]
    }
   ],
   "source": [
    "difference2_fai = []\n",
    "\n",
    "zip_object = zip(temp, temp_crn)\n",
    "for temp_i, temp_crn_i in zip_object:\n",
    "    difference2_fai.append(temp_i-temp_crn_i)\n",
    "\n",
    "print(difference2_fai)"
   ]
  },
  {
   "cell_type": "markdown",
   "id": "e9530edf",
   "metadata": {},
   "source": [
    "<font size=\"3\">**Selma, AL: 0100 UTC 31 March 2022-0100 UTC 1 April 2022</font>"
   ]
  },
  {
   "cell_type": "code",
   "execution_count": 62,
   "id": "15e7e080",
   "metadata": {},
   "outputs": [
    {
     "name": "stdout",
     "output_type": "stream",
     "text": [
      "[22.98, 22.36, 22.14, 20.72, 15.79, 15.27, 16.24, 15.36, 15.49, 14.83, 15.31, 14.85, 14.83, 15.46, 17.21, 16.22, 17.68, 16.56, 17.77, 18.19, 18.27, 16.53, 15.47, 13.78, 12.55]\n"
     ]
    }
   ],
   "source": [
    "#18 hr hrrr:\n",
    "with open('hrrr_f18_Selma_AL.txt') as f:\n",
    "    lst=[line.split()[4] for line in f]\n",
    "    temp=[]\n",
    "    for i in lst:\n",
    "        new=i.replace(',',\"\")\n",
    "        temp.append(new)\n",
    "    temp.pop(0)\n",
    "    temp=[float(x) for x in temp]\n",
    "    #print(temp.index(6.91541))\n",
    "    temp=temp[2119:2144]\n",
    "    print(temp)"
   ]
  },
  {
   "cell_type": "code",
   "execution_count": 63,
   "id": "56b6cfa3",
   "metadata": {},
   "outputs": [
    {
     "name": "stdout",
     "output_type": "stream",
     "text": [
      "[22.55, 20.0, 19.7, 18.85, 17.75, 16.9, 16.35, 16.15, 15.350000000000001, 15.649999999999999, 15.4, 15.4, 14.55, 15.35, 17.65, 21.65, 22.75, 23.85, 25.3, 24.75, 24.549999999999997, 22.15, 20.200000000000003, 16.2, 13.149999999999999]\n"
     ]
    }
   ],
   "source": [
    "#Air Temp CRN:\n",
    "with open('CRNS0101-05-2022-AL_Selma_13_WNW.txt') as f:\n",
    "    lst=[line.split()[12] for line in f]\n",
    "    \n",
    "    a=(float(lst[25643])+float(lst[25644]))/2\n",
    "    b=(float(lst[25655])+float(lst[25656]))/2\n",
    "    c=(float(lst[25667])+float(lst[25668]))/2\n",
    "    d=(float(lst[25679])+float(lst[25680]))/2\n",
    "    e=(float(lst[25691])+float(lst[25692]))/2\n",
    "    f=(float(lst[25703])+float(lst[25704]))/2\n",
    "    g=(float(lst[25715])+float(lst[25716]))/2\n",
    "    h=(float(lst[25727])+float(lst[25728]))/2\n",
    "    i=(float(lst[25739])+float(lst[25740]))/2\n",
    "    j=(float(lst[25751])+float(lst[25752]))/2\n",
    "    k=(float(lst[25763])+float(lst[25764]))/2\n",
    "    l=(float(lst[25775])+float(lst[25776]))/2\n",
    "    m=(float(lst[25787])+float(lst[25788]))/2\n",
    "    n=(float(lst[25799])+float(lst[25800]))/2\n",
    "    o=(float(lst[25811])+float(lst[25812]))/2\n",
    "    p=(float(lst[25823])+float(lst[25824]))/2\n",
    "    q=(float(lst[25835])+float(lst[25836]))/2\n",
    "    r=(float(lst[25847])+float(lst[25848]))/2\n",
    "    s=(float(lst[25859])+float(lst[25860]))/2\n",
    "    t=(float(lst[25871])+float(lst[25872]))/2\n",
    "    u=(float(lst[25883])+float(lst[25884]))/2\n",
    "    v=(float(lst[25895])+float(lst[25896]))/2\n",
    "    w=(float(lst[25907])+float(lst[25908]))/2\n",
    "    x=(float(lst[25919])+float(lst[25920]))/2\n",
    "    y=(float(lst[25931])+float(lst[25932]))/2\n",
    "    temp_crn=[a,b,c,d,e,f,g,h,i,j,k,l,m,n,o,p,q,r,s,t,u,v,w,x,y]\n",
    "    print(temp_crn)"
   ]
  },
  {
   "cell_type": "code",
   "execution_count": 64,
   "id": "1cd371ed",
   "metadata": {},
   "outputs": [
    {
     "name": "stdout",
     "output_type": "stream",
     "text": [
      "[0.4299999999999997, 2.3599999999999994, 2.4400000000000013, 1.8699999999999974, -1.9600000000000009, -1.629999999999999, -0.11000000000000298, -0.7899999999999991, 0.1399999999999988, -0.8199999999999985, -0.08999999999999986, -0.5500000000000007, 0.27999999999999936, 0.11000000000000121, -0.4399999999999977, -5.43, -5.07, -7.290000000000003, -7.530000000000001, -6.559999999999999, -6.279999999999998, -5.619999999999997, -4.730000000000002, -2.42, -0.5999999999999979]\n",
      "25\n"
     ]
    }
   ],
   "source": [
    "difference2_sel = []\n",
    "\n",
    "zip_object = zip(temp, temp_crn)\n",
    "for temp_i, temp_crn_i in zip_object:\n",
    "    difference2_sel.append(temp_i-temp_crn_i)\n",
    "\n",
    "print(difference2_sel)\n",
    "print(len(difference2_sel))"
   ]
  },
  {
   "cell_type": "markdown",
   "id": "96c13278",
   "metadata": {},
   "source": [
    "<font size=\"3\">Bowling Green, KY: 0100 UTC 31 March 2022-0100 UTC 1 April 2022</font>"
   ]
  },
  {
   "cell_type": "code",
   "execution_count": 65,
   "id": "20079007",
   "metadata": {},
   "outputs": [
    {
     "name": "stdout",
     "output_type": "stream",
     "text": [
      "[21.07, 17.19, 16.77, 15.48, 13.96, 14.83, 14.09, 13.68, 12.89, 12.29, 10.5, 9.45001, 8.70999, 7.80002, 7.48001, 7.02002, 8.27002, 7.20001, 7.83002, 7.17001, 6.89001, 7.80002, 6.38, 5.64999, 5.41]\n"
     ]
    }
   ],
   "source": [
    "#18 hr hrrr:\n",
    "with open('hrrr_f18_Bowling Green_KY.txt') as f:\n",
    "    lst=[line.split()[4] for line in f]\n",
    "    temp=[]\n",
    "    for i in lst:\n",
    "        new=i.replace(',',\"\")\n",
    "        temp.append(new)\n",
    "    temp.pop(0)\n",
    "    temp=[float(x) for x in temp]\n",
    "    #print(temp.index(6.91541))\n",
    "    temp=temp[2119:2144]\n",
    "#     x = np.array(temp)\n",
    "#     temp= ma.masked_array(x, mask=[0, 0, 0, 0, 0,0,1,0,0,0,0,0,0,0,0,0,0,0,0,0,0,0,0,0,0])\n",
    "    #temp=temp[2015:2063]\n",
    "    print(temp)\n",
    "    #print(len(temp))\n",
    "#full time period is [2015:2112]"
   ]
  },
  {
   "cell_type": "code",
   "execution_count": 66,
   "id": "40c7254e",
   "metadata": {},
   "outputs": [
    {
     "name": "stdout",
     "output_type": "stream",
     "text": [
      "[22.1 15.2 13.75 13.0 13.4 -- -- 13.350000000000001 13.1 10.65 9.05 8.4\n",
      " 7.65 7.6 7.45 8.3 8.15 7.550000000000001 7.6 8.350000000000001 8.3\n",
      " 7.050000000000001 6.75 5.699999999999999 5.3]\n"
     ]
    }
   ],
   "source": [
    "#Air Temp CRN:\n",
    "with open('CRNS0101-05-2022-KY_Bowling_Green_21_NNE.txt') as f:\n",
    "    lst=[line.split()[12] for line in f]\n",
    "    \n",
    "    a=(float(lst[25643])+float(lst[25644]))/2\n",
    "    b=(float(lst[25655])+float(lst[25656]))/2\n",
    "    c=(float(lst[25667])+float(lst[25668]))/2\n",
    "    d=(float(lst[25679])+float(lst[25680]))/2\n",
    "    e=(float(lst[25691])+float(lst[25692]))/2\n",
    "    f=(float(lst[25703])+float(lst[25704]))/2\n",
    "    g=(float(lst[25715])+float(lst[25716]))/2\n",
    "    h=(float(lst[25727])+float(lst[25728]))/2\n",
    "    i=(float(lst[25739])+float(lst[25740]))/2\n",
    "    j=(float(lst[25751])+float(lst[25752]))/2\n",
    "    k=(float(lst[25763])+float(lst[25764]))/2\n",
    "    l=(float(lst[25775])+float(lst[25776]))/2\n",
    "    m=(float(lst[25787])+float(lst[25788]))/2\n",
    "    n=(float(lst[25799])+float(lst[25800]))/2\n",
    "    o=(float(lst[25811])+float(lst[25812]))/2\n",
    "    p=(float(lst[25823])+float(lst[25824]))/2\n",
    "    q=(float(lst[25835])+float(lst[25836]))/2\n",
    "    r=(float(lst[25847])+float(lst[25848]))/2\n",
    "    s=(float(lst[25859])+float(lst[25860]))/2\n",
    "    t=(float(lst[25871])+float(lst[25872]))/2\n",
    "    u=(float(lst[25883])+float(lst[25884]))/2\n",
    "    v=(float(lst[25895])+float(lst[25896]))/2\n",
    "    w=(float(lst[25907])+float(lst[25908]))/2\n",
    "    x=(float(lst[25919])+float(lst[25920]))/2\n",
    "    y=(float(lst[25931])+float(lst[25932]))/2\n",
    "    temp_crn=[a,b,c,d,e,f,g,h,i,j,k,l,m,n,o,p,q,r,s,t,u,v,w,x,y]\n",
    "    y= np.array(temp_crn)\n",
    "    temp_crn= ma.masked_array(y, mask=[0, 0, 0, 0, 0,1,1,0,0,0,0,0,0,0,0,0,0,0,0,0,0,0,0,0,0])\n",
    "    print(temp_crn)"
   ]
  },
  {
   "cell_type": "code",
   "execution_count": 67,
   "id": "90cedfd2",
   "metadata": {},
   "outputs": [
    {
     "name": "stdout",
     "output_type": "stream",
     "text": [
      "[-1.0300000000000011, 1.990000000000002, 3.0199999999999996, 2.4800000000000004, 0.5600000000000005, masked, masked, 0.3299999999999983, -0.20999999999999908, 1.6399999999999988, 1.4499999999999993, 1.0500100000000003, 1.059989999999999, 0.2000200000000003, 0.03000999999999987, -1.279980000000001, 0.12002000000000024, -0.3499900000000009, 0.23002000000000056, -1.179990000000001, -1.4099900000000005, 0.7500199999999992, -0.3700000000000001, -0.050009999999999444, 0.11000000000000032]\n"
     ]
    }
   ],
   "source": [
    "difference2_bow = []\n",
    "\n",
    "zip_object = zip(temp, temp_crn)\n",
    "for temp_i, temp_crn_i in zip_object:\n",
    "    difference2_bow.append(temp_i-temp_crn_i)\n",
    "\n",
    "print(difference2_bow)"
   ]
  },
  {
   "cell_type": "markdown",
   "id": "770eb1f1",
   "metadata": {},
   "source": [
    "<font size=\"3\">Gadsden, AL: 0200 UTC 31 March 2022-0200 UTC 1 April 2022</font>"
   ]
  },
  {
   "cell_type": "code",
   "execution_count": 68,
   "id": "5cc1d0b4",
   "metadata": {},
   "outputs": [
    {
     "name": "stdout",
     "output_type": "stream",
     "text": [
      "[20.42, 18.61, 15.8, 14.33, 14.81, 14.78, 13.59, 13.58, 13.81, 14.48, 14.48, 14.21, 13.61, 13.61, 15.32, 14.82, 11.51, 13.27, 15.33, 14.68, 13.01, 11.31, 9.95999, 9.06, 8.31]\n"
     ]
    }
   ],
   "source": [
    "#18 hr hrrr:\n",
    "with open('hrrr_f18_Gadsden_AL.txt') as f:\n",
    "    lst=[line.split()[4] for line in f]\n",
    "    temp=[]\n",
    "    for i in lst:\n",
    "        new=i.replace(',',\"\")\n",
    "        temp.append(new)\n",
    "    temp.pop(0)\n",
    "    temp=[float(x) for x in temp]\n",
    "    #print(temp.index(6.91541))\n",
    "    temp=temp[2120:2145]\n",
    "    print(temp)\n",
    "    #print(len(temp))\n",
    "#full time period is [2015:2112]"
   ]
  },
  {
   "cell_type": "code",
   "execution_count": 69,
   "id": "28243f45",
   "metadata": {},
   "outputs": [
    {
     "name": "stdout",
     "output_type": "stream",
     "text": [
      "[19.85, 16.7, 15.9, 15.8, 13.75, 15.05, 15.3, 14.350000000000001, 13.65, 13.45, 13.45, 14.8, 15.15, 15.8, 13.2, 14.8, 15.649999999999999, 17.65, 18.65, 18.1, 16.3, 13.5, 10.45, 8.2, 8.25]\n"
     ]
    }
   ],
   "source": [
    "#Air Temp CRN:\n",
    "with open('CRNS0101-05-2022-AL_Gadsden_19_N.txt') as f:\n",
    "    lst=[line.split()[12] for line in f]\n",
    "    \n",
    "    a=(float(lst[25655])+float(lst[25656]))/2\n",
    "    b=(float(lst[25667])+float(lst[25668]))/2\n",
    "    c=(float(lst[25679])+float(lst[25680]))/2\n",
    "    d=(float(lst[25691])+float(lst[25692]))/2\n",
    "    e=(float(lst[25703])+float(lst[25704]))/2\n",
    "    f=(float(lst[25715])+float(lst[25716]))/2\n",
    "    g=(float(lst[25727])+float(lst[25728]))/2\n",
    "    h=(float(lst[25739])+float(lst[25740]))/2\n",
    "    i=(float(lst[25751])+float(lst[25752]))/2\n",
    "    j=(float(lst[25763])+float(lst[25764]))/2\n",
    "    k=(float(lst[25775])+float(lst[25776]))/2\n",
    "    l=(float(lst[25787])+float(lst[25788]))/2\n",
    "    m=(float(lst[25799])+float(lst[25800]))/2\n",
    "    n=(float(lst[25811])+float(lst[25812]))/2\n",
    "    o=(float(lst[25823])+float(lst[25824]))/2\n",
    "    p=(float(lst[25835])+float(lst[25836]))/2\n",
    "    q=(float(lst[25847])+float(lst[25848]))/2\n",
    "    r=(float(lst[25859])+float(lst[25860]))/2\n",
    "    s=(float(lst[25871])+float(lst[25872]))/2\n",
    "    t=(float(lst[25883])+float(lst[25884]))/2\n",
    "    u=(float(lst[25895])+float(lst[25896]))/2\n",
    "    v=(float(lst[25907])+float(lst[25908]))/2\n",
    "    w=(float(lst[25919])+float(lst[25920]))/2\n",
    "    x=(float(lst[25931])+float(lst[25932]))/2\n",
    "    y=(float(lst[25943])+float(lst[25944]))/2\n",
    "    temp_crn=[a,b,c,d,e,f,g,h,i,j,k,l,m,n,o,p,q,r,s,t,u,v,w,x,y]\n",
    "    print(temp_crn)"
   ]
  },
  {
   "cell_type": "code",
   "execution_count": 70,
   "id": "d63723fd",
   "metadata": {},
   "outputs": [
    {
     "name": "stdout",
     "output_type": "stream",
     "text": [
      "[0.5700000000000003, 1.9100000000000001, -0.09999999999999964, -1.4700000000000006, 1.0600000000000005, -0.27000000000000135, -1.7100000000000009, -0.7700000000000014, 0.16000000000000014, 1.0300000000000011, 1.0300000000000011, -0.5899999999999999, -1.540000000000001, -2.1900000000000013, 2.120000000000001, 0.019999999999999574, -4.139999999999999, -4.379999999999999, -3.3199999999999985, -3.4200000000000017, -3.290000000000001, -2.1899999999999995, -0.49000999999999983, 0.8600000000000012, 0.0600000000000005]\n"
     ]
    }
   ],
   "source": [
    "difference2_gad = []\n",
    "\n",
    "zip_object = zip(temp, temp_crn)\n",
    "for temp_i, temp_crn_i in zip_object:\n",
    "    difference2_gad.append(temp_i-temp_crn_i)\n",
    "\n",
    "print(difference2_gad)"
   ]
  },
  {
   "cell_type": "markdown",
   "id": "cd4a8f77",
   "metadata": {},
   "source": [
    "<font size=\"3\">Newton, GA: 0700 UTC 31 March 2022-0700 UTC 1 April 2022</font>"
   ]
  },
  {
   "cell_type": "code",
   "execution_count": 71,
   "id": "0c975d06",
   "metadata": {},
   "outputs": [
    {
     "name": "stdout",
     "output_type": "stream",
     "text": [
      "[19.79, 19.86, 20.2, 20.42, 20.22, 19.53, 16.56, 18.4, 17.54, 20.33, 24.49, 25.18, 25.74, 25.19, 22.96, 22.6, 20.65, 19.62, 18.79, 18.7, 17.82, 16.68, 15.03, 14.77, 13.76]\n"
     ]
    }
   ],
   "source": [
    "#18 hr hrrr:\n",
    "with open('hrrr_f18_Newton_GA.txt') as f:\n",
    "    lst=[line.split()[4] for line in f]\n",
    "    temp=[]\n",
    "    for i in lst:\n",
    "        new=i.replace(',',\"\")\n",
    "        temp.append(new)\n",
    "    temp.pop(0)\n",
    "    temp=[float(x) for x in temp]\n",
    "    #print(temp.index(6.91541))\n",
    "    temp=temp[2125:2150]\n",
    "    print(temp)\n",
    "    #print(len(temp))\n",
    "#full time period is [2015:2112]"
   ]
  },
  {
   "cell_type": "code",
   "execution_count": 72,
   "id": "28c28e01",
   "metadata": {},
   "outputs": [
    {
     "name": "stdout",
     "output_type": "stream",
     "text": [
      "[20.25, 20.700000000000003, 20.85, 19.6, 19.7, 19.25, 17.65, 17.700000000000003, 18.7, 20.8, 28.65, 28.95, 29.75, 28.5, 27.85, 25.2, 22.4, 19.0, 17.85, 17.75, 17.1, 16.35, 15.8, 15.3, 15.55]\n"
     ]
    }
   ],
   "source": [
    "#Air Temp CRN:\n",
    "with open('CRNS0101-05-2022-GA_Newton_11_SW.txt') as f:\n",
    "    lst=[line.split()[12] for line in f]\n",
    "    \n",
    "    a=(float(lst[25715])+float(lst[25716]))/2\n",
    "    b=(float(lst[25727])+float(lst[25728]))/2\n",
    "    c=(float(lst[25739])+float(lst[25740]))/2\n",
    "    d=(float(lst[25751])+float(lst[25752]))/2\n",
    "    e=(float(lst[25763])+float(lst[25764]))/2\n",
    "    f=(float(lst[25775])+float(lst[25776]))/2\n",
    "    g=(float(lst[25787])+float(lst[25788]))/2\n",
    "    h=(float(lst[25799])+float(lst[25800]))/2\n",
    "    i=(float(lst[25811])+float(lst[25812]))/2\n",
    "    j=(float(lst[25823])+float(lst[25824]))/2\n",
    "    k=(float(lst[25835])+float(lst[25836]))/2\n",
    "    l=(float(lst[25847])+float(lst[25848]))/2\n",
    "    m=(float(lst[25859])+float(lst[25860]))/2\n",
    "    n=(float(lst[25871])+float(lst[25872]))/2\n",
    "    o=(float(lst[25883])+float(lst[25884]))/2\n",
    "    p=(float(lst[25895])+float(lst[25896]))/2\n",
    "    q=(float(lst[25907])+float(lst[25908]))/2\n",
    "    r=(float(lst[25919])+float(lst[25920]))/2\n",
    "    s=(float(lst[25931])+float(lst[25932]))/2\n",
    "    t=(float(lst[25943])+float(lst[25944]))/2\n",
    "    u=(float(lst[25955])+float(lst[25956]))/2\n",
    "    v=(float(lst[25967])+float(lst[25968]))/2\n",
    "    w=(float(lst[25979])+float(lst[25980]))/2\n",
    "    x=(float(lst[25991])+float(lst[25992]))/2\n",
    "    y=(float(lst[26003])+float(lst[26004]))/2\n",
    "    temp_crn=[a,b,c,d,e,f,g,h,i,j,k,l,m,n,o,p,q,r,s,t,u,v,w,x,y]\n",
    "    print(temp_crn)"
   ]
  },
  {
   "cell_type": "code",
   "execution_count": 73,
   "id": "4bcfa192",
   "metadata": {},
   "outputs": [
    {
     "name": "stdout",
     "output_type": "stream",
     "text": [
      "[-0.46000000000000085, -0.8400000000000034, -0.6500000000000021, 0.8200000000000003, 0.5199999999999996, 0.28000000000000114, -1.0899999999999999, 0.6999999999999957, -1.1600000000000001, -0.4700000000000024, -4.16, -3.7699999999999996, -4.010000000000002, -3.3099999999999987, -4.890000000000001, -2.599999999999998, -1.75, 0.620000000000001, 0.9399999999999977, 0.9499999999999993, 0.7199999999999989, 0.3299999999999983, -0.7700000000000014, -0.5300000000000011, -1.790000000000001]\n"
     ]
    }
   ],
   "source": [
    "difference2_newt = []\n",
    "\n",
    "zip_object = zip(temp, temp_crn)\n",
    "for temp_i, temp_crn_i in zip_object:\n",
    "    difference2_newt.append(temp_i-temp_crn_i)\n",
    "\n",
    "print(difference2_newt)"
   ]
  },
  {
   "cell_type": "markdown",
   "id": "8148ba77",
   "metadata": {},
   "source": [
    "<font size=\"3\">Salem, MO: 1000 UTC 5 April 2022-1000 UTC 6 April 2022</font>"
   ]
  },
  {
   "cell_type": "code",
   "execution_count": 74,
   "id": "81fe81eb",
   "metadata": {},
   "outputs": [
    {
     "name": "stdout",
     "output_type": "stream",
     "text": [
      "[12.25, 12.53, 10.84, 11.43, 11.34, 15.87, 17.74, 20.15, 22.28, 21.32, 22.27, 22.24, 21.46, 21.29, 17.6, 16.63, 16.46, 14.64, 14.96, 14.14, 12.58, 11.06, 8.45999, 6.89999, 7.03]\n"
     ]
    }
   ],
   "source": [
    "#18 hr hrrr:\n",
    "with open('hrrr_f18_Salem_MO.txt') as f:\n",
    "    lst=[line.split()[4] for line in f]\n",
    "    temp=[]\n",
    "    for i in lst:\n",
    "        new=i.replace(',',\"\")\n",
    "        temp.append(new)\n",
    "    temp.pop(0)\n",
    "    temp=[float(x) for x in temp]\n",
    "    #print(temp.index(6.91541))\n",
    "    temp=temp[2248:2273]\n",
    "    print(temp)\n",
    "    #print(len(temp))\n",
    "#full time period is [2015:2112]"
   ]
  },
  {
   "cell_type": "code",
   "execution_count": 75,
   "id": "3d591709",
   "metadata": {},
   "outputs": [
    {
     "name": "stdout",
     "output_type": "stream",
     "text": [
      "[9.95, 10.2, 10.149999999999999, 10.149999999999999, 13.0, 19.049999999999997, 24.5, 30.6, 33.400000000000006, 26.45, 21.799999999999997, 28.200000000000003, 25.3, 21.15, 15.9, 11.3, 8.9, 13.399999999999999, 14.6, 12.05, 11.0, 10.7, 8.7, 7.85, 7.1]\n"
     ]
    }
   ],
   "source": [
    "#Air Temp CRN:\n",
    "with open('CRNS0101-05-2022-MO_Salem_10_W.txt') as f:\n",
    "    lst=[line.split()[12] for line in f]\n",
    "    \n",
    "    a=(float(lst[27191])+float(lst[27192]))/2\n",
    "    b=(float(lst[27203])+float(lst[27204]))/2\n",
    "    c=(float(lst[27215])+float(lst[27216]))/2\n",
    "    d=(float(lst[27227])+float(lst[27228]))/2\n",
    "    e=(float(lst[27239])+float(lst[27240]))/2\n",
    "    f=(float(lst[27251])+float(lst[27252]))/2\n",
    "    g=(float(lst[27263])+float(lst[27264]))/2\n",
    "    h=(float(lst[27275])+float(lst[27276]))/2\n",
    "    i=(float(lst[27287])+float(lst[27288]))/2\n",
    "    j=(float(lst[27299])+float(lst[27300]))/2\n",
    "    k=(float(lst[27311])+float(lst[27312]))/2\n",
    "    l=(float(lst[27323])+float(lst[27324]))/2\n",
    "    m=(float(lst[27335])+float(lst[27336]))/2\n",
    "    n=(float(lst[27347])+float(lst[27348]))/2\n",
    "    o=(float(lst[27359])+float(lst[27360]))/2\n",
    "    p=(float(lst[27371])+float(lst[27372]))/2\n",
    "    q=(float(lst[27383])+float(lst[27384]))/2\n",
    "    r=(float(lst[27395])+float(lst[27396]))/2\n",
    "    s=(float(lst[27407])+float(lst[27408]))/2\n",
    "    t=(float(lst[27419])+float(lst[27420]))/2\n",
    "    u=(float(lst[27431])+float(lst[27432]))/2\n",
    "    v=(float(lst[27443])+float(lst[27444]))/2\n",
    "    w=(float(lst[27455])+float(lst[27456]))/2\n",
    "    x=(float(lst[27467])+float(lst[27468]))/2\n",
    "    y=(float(lst[27479])+float(lst[27480]))/2\n",
    "    temp_crn=[a,b,c,d,e,f,g,h,i,j,k,l,m,n,o,p,q,r,s,t,u,v,w,x,y]\n",
    "    print(temp_crn)"
   ]
  },
  {
   "cell_type": "code",
   "execution_count": 76,
   "id": "d9f71702",
   "metadata": {},
   "outputs": [
    {
     "name": "stdout",
     "output_type": "stream",
     "text": [
      "[2.3000000000000007, 2.33, 0.6900000000000013, 1.2800000000000011, -1.6600000000000001, -3.179999999999998, -6.760000000000002, -10.450000000000003, -11.120000000000005, -5.129999999999999, 0.4700000000000024, -5.960000000000004, -3.84, 0.14000000000000057, 1.700000000000001, 5.329999999999998, 7.5600000000000005, 1.240000000000002, 0.3600000000000012, 2.09, 1.58, 0.3600000000000012, -0.24000999999999983, -0.9500099999999998, -0.0699999999999994]\n"
     ]
    }
   ],
   "source": [
    "difference3_sal = []\n",
    "\n",
    "zip_object = zip(temp, temp_crn)\n",
    "for temp_i, temp_crn_i in zip_object:\n",
    "    difference3_sal.append(temp_i-temp_crn_i)\n",
    "\n",
    "print(difference3_sal)"
   ]
  },
  {
   "cell_type": "markdown",
   "id": "cc4a44b1",
   "metadata": {},
   "source": [
    "<font size=\"3\">Batesville, AR: 1000 UTC 5 April 2022-1000 UTC 6 April 2022</font>"
   ]
  },
  {
   "cell_type": "code",
   "execution_count": 77,
   "id": "7347942f",
   "metadata": {},
   "outputs": [
    {
     "name": "stdout",
     "output_type": "stream",
     "text": [
      "[12.7, 12.55, 12.26, 13.05, 13.73, 19.07, 19.98, 22.5, 23.4, 25.4, 24.44, 21.96, 22.06, 21.35, 18.64, 16.28, 15.49, 14.52, 14.1, 14.37, 15.52, 14.39, 14.85, 11.94, 11.45]\n"
     ]
    }
   ],
   "source": [
    "#18 hr hrrr:\n",
    "with open('hrrr_f18_Batesville_AR.txt') as f:\n",
    "    lst=[line.split()[4] for line in f]\n",
    "    temp=[]\n",
    "    for i in lst:\n",
    "        new=i.replace(',',\"\")\n",
    "        temp.append(new)\n",
    "    temp.pop(0)\n",
    "    temp=[float(x) for x in temp]\n",
    "    #print(temp.index(6.91541))\n",
    "    temp=temp[2248:2273]\n",
    "\n",
    "    print(temp)\n",
    "    #print(len(temp))\n",
    "#full time period is [2015:2112]"
   ]
  },
  {
   "cell_type": "code",
   "execution_count": 78,
   "id": "b1e964e8",
   "metadata": {},
   "outputs": [
    {
     "name": "stdout",
     "output_type": "stream",
     "text": [
      "[11.3, 11.6, 11.45, 11.75, 14.3, 20.0, 21.950000000000003, 23.45, 24.45, 23.9, 24.7, 23.6, 21.95, 19.799999999999997, 17.5, 16.9, 15.75, 15.45, 12.8, 13.8, 16.0, 17.05, 16.45, 12.4, 12.0]\n"
     ]
    }
   ],
   "source": [
    "#Air Temp CRN:\n",
    "with open('CRNS0101-05-2022-AR_Batesville_8_WNW.txt') as f:\n",
    "    lst=[line.split()[12] for line in f]\n",
    "    \n",
    "    a=(float(lst[27191])+float(lst[27192]))/2\n",
    "    b=(float(lst[27203])+float(lst[27204]))/2\n",
    "    c=(float(lst[27215])+float(lst[27216]))/2\n",
    "    d=(float(lst[27227])+float(lst[27228]))/2\n",
    "    e=(float(lst[27239])+float(lst[27240]))/2\n",
    "    f=(float(lst[27251])+float(lst[27252]))/2\n",
    "    g=(float(lst[27263])+float(lst[27264]))/2\n",
    "    h=(float(lst[27275])+float(lst[27276]))/2\n",
    "    i=(float(lst[27287])+float(lst[27288]))/2\n",
    "    j=(float(lst[27299])+float(lst[27300]))/2\n",
    "    k=(float(lst[27311])+float(lst[27312]))/2\n",
    "    l=(float(lst[27323])+float(lst[27324]))/2\n",
    "    m=(float(lst[27335])+float(lst[27336]))/2\n",
    "    n=(float(lst[27347])+float(lst[27348]))/2\n",
    "    o=(float(lst[27359])+float(lst[27360]))/2\n",
    "    p=(float(lst[27371])+float(lst[27372]))/2\n",
    "    q=(float(lst[27383])+float(lst[27384]))/2\n",
    "    r=(float(lst[27395])+float(lst[27396]))/2\n",
    "    s=(float(lst[27407])+float(lst[27408]))/2\n",
    "    t=(float(lst[27419])+float(lst[27420]))/2\n",
    "    u=(float(lst[27431])+float(lst[27432]))/2\n",
    "    v=(float(lst[27443])+float(lst[27444]))/2\n",
    "    w=(float(lst[27455])+float(lst[27456]))/2\n",
    "    x=(float(lst[27467])+float(lst[27468]))/2\n",
    "    y=(float(lst[27479])+float(lst[27480]))/2\n",
    "    temp_crn=[a,b,c,d,e,f,g,h,i,j,k,l,m,n,o,p,q,r,s,t,u,v,w,x,y]\n",
    "    print(temp_crn)"
   ]
  },
  {
   "cell_type": "code",
   "execution_count": 79,
   "id": "c5f712f8",
   "metadata": {},
   "outputs": [
    {
     "name": "stdout",
     "output_type": "stream",
     "text": [
      "[1.3999999999999986, 0.9500000000000011, 0.8100000000000005, 1.3000000000000007, -0.5700000000000003, -0.9299999999999997, -1.9700000000000024, -0.9499999999999993, -1.0500000000000007, 1.5, -0.259999999999998, -1.6400000000000006, 0.10999999999999943, 1.5500000000000043, 1.1400000000000006, -0.6199999999999974, -0.2599999999999998, -0.9299999999999997, 1.299999999999999, 0.5699999999999985, -0.4800000000000004, -2.66, -1.5999999999999996, -0.46000000000000085, -0.5500000000000007]\n"
     ]
    }
   ],
   "source": [
    "difference3_bat = []\n",
    "\n",
    "zip_object = zip(temp, temp_crn)\n",
    "for temp_i, temp_crn_i in zip_object:\n",
    "    difference3_bat.append(temp_i-temp_crn_i)\n",
    "\n",
    "print(difference3_bat)"
   ]
  },
  {
   "cell_type": "markdown",
   "id": "9f92620f",
   "metadata": {},
   "source": [
    "<font size=\"3\">Lafayette, LA: 1000 UTC 5 April 2022-1000 UTC 6 April 2022</font>"
   ]
  },
  {
   "cell_type": "code",
   "execution_count": 80,
   "id": "4298046b",
   "metadata": {},
   "outputs": [
    {
     "name": "stdout",
     "output_type": "stream",
     "text": [
      "[22.24, 21.84, 22.01, 22.24, 24.46, 23.88, 24.05, 23.54, 28.1, 29.01, 35.68, 30.02, 30.0, 27.39, 25.19, 23.32, 21.84, 21.3, 21.16, 21.97, 21.86, 21.19, 22.08, 22.04, 22.09]\n"
     ]
    }
   ],
   "source": [
    "#18 hr hrrr:\n",
    "with open('hrrr_f18_Lafayette_LA.txt') as f:\n",
    "    lst=[line.split()[4] for line in f]\n",
    "    temp=[]\n",
    "    for i in lst:\n",
    "        new=i.replace(',',\"\")\n",
    "        temp.append(new)\n",
    "    temp.pop(0)\n",
    "    temp=[float(x) for x in temp]\n",
    "    #print(temp.index(6.91541))\n",
    "    temp=temp[2248:2273]\n",
    "    print(temp)\n",
    "    #print(len(temp))\n",
    "#full time period is [2015:2112]"
   ]
  },
  {
   "cell_type": "code",
   "execution_count": 81,
   "id": "e208411d",
   "metadata": {},
   "outputs": [
    {
     "name": "stdout",
     "output_type": "stream",
     "text": [
      "[21.9, 22.25, 22.25, 22.35, 23.1, 23.65, 26.65, 27.2, 25.65, 25.200000000000003, 25.9, 25.35, 26.15, 24.85, 23.4, 21.700000000000003, 21.9, 22.7, 22.9, 23.0, 23.0, 23.1, 23.0, 23.1, 23.1]\n"
     ]
    }
   ],
   "source": [
    "#Air Temp CRN:\n",
    "with open('CRNS0101-05-2022-LA_Lafayette_13_SE.txt') as f:\n",
    "    lst=[line.split()[12] for line in f]\n",
    "    \n",
    "    a=(float(lst[27191])+float(lst[27192]))/2\n",
    "    b=(float(lst[27203])+float(lst[27204]))/2\n",
    "    c=(float(lst[27215])+float(lst[27216]))/2\n",
    "    d=(float(lst[27227])+float(lst[27228]))/2\n",
    "    e=(float(lst[27239])+float(lst[27240]))/2\n",
    "    f=(float(lst[27251])+float(lst[27252]))/2\n",
    "    g=(float(lst[27263])+float(lst[27264]))/2\n",
    "    h=(float(lst[27275])+float(lst[27276]))/2\n",
    "    i=(float(lst[27287])+float(lst[27288]))/2\n",
    "    j=(float(lst[27299])+float(lst[27300]))/2\n",
    "    k=(float(lst[27311])+float(lst[27312]))/2\n",
    "    l=(float(lst[27323])+float(lst[27324]))/2\n",
    "    m=(float(lst[27335])+float(lst[27336]))/2\n",
    "    n=(float(lst[27347])+float(lst[27348]))/2\n",
    "    o=(float(lst[27359])+float(lst[27360]))/2\n",
    "    p=(float(lst[27371])+float(lst[27372]))/2\n",
    "    q=(float(lst[27383])+float(lst[27384]))/2\n",
    "    r=(float(lst[27395])+float(lst[27396]))/2\n",
    "    s=(float(lst[27407])+float(lst[27408]))/2\n",
    "    t=(float(lst[27419])+float(lst[27420]))/2\n",
    "    u=(float(lst[27431])+float(lst[27432]))/2\n",
    "    v=(float(lst[27443])+float(lst[27444]))/2\n",
    "    w=(float(lst[27455])+float(lst[27456]))/2\n",
    "    x=(float(lst[27467])+float(lst[27468]))/2\n",
    "    y=(float(lst[27479])+float(lst[27480]))/2\n",
    "    temp_crn=[a,b,c,d,e,f,g,h,i,j,k,l,m,n,o,p,q,r,s,t,u,v,w,x,y]\n",
    "    print(temp_crn)"
   ]
  },
  {
   "cell_type": "code",
   "execution_count": 82,
   "id": "18c37a9b",
   "metadata": {},
   "outputs": [
    {
     "name": "stdout",
     "output_type": "stream",
     "text": [
      "[0.33999999999999986, -0.41000000000000014, -0.23999999999999844, -0.11000000000000298, 1.3599999999999994, 0.23000000000000043, -2.599999999999998, -3.66, 2.450000000000003, 3.8099999999999987, 9.780000000000001, 4.669999999999998, 3.8500000000000014, 2.539999999999999, 1.7900000000000027, 1.6199999999999974, -0.05999999999999872, -1.3999999999999986, -1.7399999999999984, -1.0300000000000011, -1.1400000000000006, -1.9100000000000001, -0.9200000000000017, -1.0600000000000023, -1.0100000000000016]\n"
     ]
    }
   ],
   "source": [
    "difference3_laf = []\n",
    "\n",
    "zip_object = zip(temp, temp_crn)\n",
    "for temp_i, temp_crn_i in zip_object:\n",
    "    difference3_laf.append(temp_i-temp_crn_i)\n",
    "\n",
    "print(difference3_laf)"
   ]
  },
  {
   "cell_type": "markdown",
   "id": "6bc47d22",
   "metadata": {},
   "source": [
    "<font size=\"3\">Monroe, LA: 1000 UTC 5 April 2022-1000 UTC 6 April 2022</font>"
   ]
  },
  {
   "cell_type": "code",
   "execution_count": 83,
   "id": "c23437ef",
   "metadata": {},
   "outputs": [
    {
     "name": "stdout",
     "output_type": "stream",
     "text": [
      "[18.62, 16.77, 17.68, 17.85, 17.6, 19.58, 21.47, 22.49, 24.59, 26.37, 27.08, 26.11, 25.59, 25.3, 23.99, 21.91, 20.71, 20.91, 20.07, 21.1, 21.13, 21.26, 20.65, 20.76, 20.35]\n"
     ]
    }
   ],
   "source": [
    "#18 hr hrrr:\n",
    "with open('hrrr_f18_Monroe_LA.txt') as f:\n",
    "    lst=[line.split()[4] for line in f]\n",
    "    temp=[]\n",
    "    for i in lst:\n",
    "        new=i.replace(',',\"\")\n",
    "        temp.append(new)\n",
    "    temp.pop(0)\n",
    "    temp=[float(x) for x in temp]\n",
    "    #print(temp.index(6.91541))\n",
    "    temp=temp[2248:2273]\n",
    "    print(temp)\n",
    "    #print(len(temp))\n",
    "#full time period is [2015:2112]"
   ]
  },
  {
   "cell_type": "code",
   "execution_count": 84,
   "id": "91eb6091",
   "metadata": {},
   "outputs": [
    {
     "name": "stdout",
     "output_type": "stream",
     "text": [
      "[16.1, 16.0, 15.7, 15.95, 16.45, 18.25, 22.4, 26.35, 29.450000000000003, 30.3, 30.8, 30.049999999999997, 28.950000000000003, 24.4, 21.25, 18.3, 17.45, 18.950000000000003, 21.15, 21.15, 21.200000000000003, 21.55, 21.7, 21.25, 20.65]\n"
     ]
    }
   ],
   "source": [
    "#Air Temp CRN:\n",
    "with open('CRNS0101-05-2022-LA_Monroe_26_N.txt') as f:\n",
    "    lst=[line.split()[12] for line in f]\n",
    "    \n",
    "    a=(float(lst[27191])+float(lst[27192]))/2\n",
    "    b=(float(lst[27203])+float(lst[27204]))/2\n",
    "    c=(float(lst[27215])+float(lst[27216]))/2\n",
    "    d=(float(lst[27227])+float(lst[27228]))/2\n",
    "    e=(float(lst[27239])+float(lst[27240]))/2\n",
    "    f=(float(lst[27251])+float(lst[27252]))/2\n",
    "    g=(float(lst[27263])+float(lst[27264]))/2\n",
    "    h=(float(lst[27275])+float(lst[27276]))/2\n",
    "    i=(float(lst[27287])+float(lst[27288]))/2\n",
    "    j=(float(lst[27299])+float(lst[27300]))/2\n",
    "    k=(float(lst[27311])+float(lst[27312]))/2\n",
    "    l=(float(lst[27323])+float(lst[27324]))/2\n",
    "    m=(float(lst[27335])+float(lst[27336]))/2\n",
    "    n=(float(lst[27347])+float(lst[27348]))/2\n",
    "    o=(float(lst[27359])+float(lst[27360]))/2\n",
    "    p=(float(lst[27371])+float(lst[27372]))/2\n",
    "    q=(float(lst[27383])+float(lst[27384]))/2\n",
    "    r=(float(lst[27395])+float(lst[27396]))/2\n",
    "    s=(float(lst[27407])+float(lst[27408]))/2\n",
    "    t=(float(lst[27419])+float(lst[27420]))/2\n",
    "    u=(float(lst[27431])+float(lst[27432]))/2\n",
    "    v=(float(lst[27443])+float(lst[27444]))/2\n",
    "    w=(float(lst[27455])+float(lst[27456]))/2\n",
    "    x=(float(lst[27467])+float(lst[27468]))/2\n",
    "    y=(float(lst[27479])+float(lst[27480]))/2\n",
    "    temp_crn=[a,b,c,d,e,f,g,h,i,j,k,l,m,n,o,p,q,r,s,t,u,v,w,x,y]\n",
    "    print(temp_crn)"
   ]
  },
  {
   "cell_type": "code",
   "execution_count": 85,
   "id": "cc1402aa",
   "metadata": {},
   "outputs": [
    {
     "name": "stdout",
     "output_type": "stream",
     "text": [
      "[2.5199999999999996, 0.7699999999999996, 1.9800000000000004, 1.9000000000000021, 1.1500000000000021, 1.3299999999999983, -0.9299999999999997, -3.860000000000003, -4.860000000000003, -3.9299999999999997, -3.7200000000000024, -3.9399999999999977, -3.360000000000003, 0.9000000000000021, 2.7399999999999984, 3.6099999999999994, 3.2600000000000016, 1.9599999999999973, -1.0799999999999983, -0.04999999999999716, -0.07000000000000384, -0.28999999999999915, -1.0500000000000007, -0.48999999999999844, -0.29999999999999716]\n"
     ]
    }
   ],
   "source": [
    "difference3_mon = []\n",
    "\n",
    "zip_object = zip(temp, temp_crn)\n",
    "for temp_i, temp_crn_i in zip_object:\n",
    "    difference3_mon.append(temp_i-temp_crn_i)\n",
    "\n",
    "print(difference3_mon)"
   ]
  },
  {
   "cell_type": "markdown",
   "id": "8e498386",
   "metadata": {},
   "source": [
    "<font size=\"3\">Holly Springs, MS: 1100 UTC 5 April 2022-1100 UTC 6 April 2022</font>"
   ]
  },
  {
   "cell_type": "code",
   "execution_count": 86,
   "id": "5b7f872c",
   "metadata": {},
   "outputs": [
    {
     "name": "stdout",
     "output_type": "stream",
     "text": [
      "[12.95, 13.95, 13.85, 13.48, 14.38, 13.99, 14.64, 17.75, 19.94, 19.96, 19.09, 19.58, 17.98, 17.67, 15.64, 15.16, 13.91, 13.52, 13.72, 14.01, 14.26, 14.95, 15.67, 16.24, 17.16]\n"
     ]
    }
   ],
   "source": [
    "#18 hr hrrr:\n",
    "with open('hrrr_f18_Holly Springs_MS.txt') as f:\n",
    "    lst=[line.split()[4] for line in f]\n",
    "    temp=[]\n",
    "    for i in lst:\n",
    "        new=i.replace(',',\"\")\n",
    "        temp.append(new)\n",
    "    temp.pop(0)\n",
    "    temp=[float(x) for x in temp]\n",
    "    #print(temp.index(6.91541))\n",
    "    temp=temp[2249:2274]\n",
    "    print(temp)\n",
    "    #print(len(temp))\n",
    "#full time period is [2015:2112]"
   ]
  },
  {
   "cell_type": "code",
   "execution_count": 87,
   "id": "321afed1",
   "metadata": {},
   "outputs": [
    {
     "name": "stdout",
     "output_type": "stream",
     "text": [
      "[12.6, 12.55, 13.1, 13.350000000000001, 14.149999999999999, 15.55, 15.850000000000001, 19.85, 18.4, 22.799999999999997, 21.4, 22.549999999999997, 19.950000000000003, 14.65, 11.8, 11.850000000000001, 13.0, 12.55, 12.75, 12.5, 12.3, 13.35, 15.4, 16.1, 16.55]\n"
     ]
    }
   ],
   "source": [
    "#Air Temp CRN:\n",
    "with open('CRNS0101-05-2022-MS_Holly_Springs_4_N.txt') as f:\n",
    "    lst=[line.split()[12] for line in f]\n",
    "    \n",
    "    a=(float(lst[27203])+float(lst[27204]))/2\n",
    "    b=(float(lst[27215])+float(lst[27216]))/2\n",
    "    c=(float(lst[27227])+float(lst[27228]))/2\n",
    "    d=(float(lst[27239])+float(lst[27240]))/2\n",
    "    e=(float(lst[27251])+float(lst[27252]))/2\n",
    "    f=(float(lst[27263])+float(lst[27264]))/2\n",
    "    g=(float(lst[27275])+float(lst[27276]))/2\n",
    "    h=(float(lst[27287])+float(lst[27288]))/2\n",
    "    i=(float(lst[27299])+float(lst[27300]))/2\n",
    "    j=(float(lst[27311])+float(lst[27312]))/2\n",
    "    k=(float(lst[27323])+float(lst[27324]))/2\n",
    "    l=(float(lst[27335])+float(lst[27336]))/2\n",
    "    m=(float(lst[27347])+float(lst[27348]))/2\n",
    "    n=(float(lst[27359])+float(lst[27360]))/2\n",
    "    o=(float(lst[27371])+float(lst[27372]))/2\n",
    "    p=(float(lst[27383])+float(lst[27384]))/2\n",
    "    q=(float(lst[27395])+float(lst[27396]))/2\n",
    "    r=(float(lst[27407])+float(lst[27408]))/2\n",
    "    s=(float(lst[27419])+float(lst[27420]))/2\n",
    "    t=(float(lst[27431])+float(lst[27432]))/2\n",
    "    u=(float(lst[27443])+float(lst[27444]))/2\n",
    "    v=(float(lst[27455])+float(lst[27456]))/2\n",
    "    w=(float(lst[27467])+float(lst[27468]))/2\n",
    "    x=(float(lst[27479])+float(lst[27480]))/2\n",
    "    y=(float(lst[27491])+float(lst[27492]))/2\n",
    "    temp_crn=[a,b,c,d,e,f,g,h,i,j,k,l,m,n,o,p,q,r,s,t,u,v,w,x,y]\n",
    "    print(temp_crn)"
   ]
  },
  {
   "cell_type": "code",
   "execution_count": 88,
   "id": "9625595c",
   "metadata": {},
   "outputs": [
    {
     "name": "stdout",
     "output_type": "stream",
     "text": [
      "[0.34999999999999964, 1.3999999999999986, 0.75, 0.129999999999999, 0.2300000000000022, -1.5600000000000005, -1.2100000000000009, -2.1000000000000014, 1.5400000000000027, -2.8399999999999963, -2.3099999999999987, -2.969999999999999, -1.9700000000000024, 3.0200000000000014, 3.84, 3.3099999999999987, 0.9100000000000001, 0.9699999999999989, 0.9700000000000006, 1.5099999999999998, 1.959999999999999, 1.5999999999999996, 0.2699999999999996, 0.13999999999999702, 0.6099999999999994]\n"
     ]
    }
   ],
   "source": [
    "difference3_hol = []\n",
    "\n",
    "zip_object = zip(temp, temp_crn)\n",
    "for temp_i, temp_crn_i in zip_object:\n",
    "    difference3_hol.append(temp_i-temp_crn_i)\n",
    "\n",
    "print(difference3_hol)"
   ]
  },
  {
   "cell_type": "markdown",
   "id": "cec214d2",
   "metadata": {},
   "source": [
    "<font size=\"3\">Newton, MS: 1100 UTC 5 April 2022-1100 UTC 6 April 2022</font>"
   ]
  },
  {
   "cell_type": "code",
   "execution_count": 89,
   "id": "361f6336",
   "metadata": {},
   "outputs": [
    {
     "name": "stdout",
     "output_type": "stream",
     "text": [
      "[17.23, 18.75, 19.73, 19.89, 21.29, 20.38, 22.36, 22.86, 24.11, 24.0, 23.07, 23.16, 23.28, 20.5, 19.57, 19.31, 18.71, 18.84, 18.46, 19.37, 20.09, 19.89, 19.4, 19.96, 19.99]\n"
     ]
    }
   ],
   "source": [
    "#18 hr hrrr:\n",
    "with open('hrrr_f18_Newton_MS.txt') as f:\n",
    "    lst=[line.split()[4] for line in f]\n",
    "    temp=[]\n",
    "    for i in lst:\n",
    "        new=i.replace(',',\"\")\n",
    "        temp.append(new)\n",
    "    temp.pop(0)\n",
    "    temp=[float(x) for x in temp]\n",
    "    #print(temp.index(6.91541))\n",
    "    temp=temp[2249:2274]\n",
    "    print(temp)\n",
    "    #print(len(temp))\n",
    "#full time period is [2015:2112]"
   ]
  },
  {
   "cell_type": "code",
   "execution_count": 90,
   "id": "07926657",
   "metadata": {},
   "outputs": [
    {
     "name": "stdout",
     "output_type": "stream",
     "text": [
      "[17.1, 18.35, 17.6, 17.5, 18.05, 16.85, 24.65, 27.200000000000003, 25.299999999999997, 29.85, 29.950000000000003, 26.2, 23.1, 20.15, 19.1, 18.8, 18.75, 19.3, 19.5, 19.6, 19.85, 20.5, 20.65, 20.55, 21.1]\n"
     ]
    }
   ],
   "source": [
    "#Air Temp CRN:\n",
    "with open('CRNS0101-05-2022-MS_Newton_5_ENE.txt') as f:\n",
    "    lst=[line.split()[12] for line in f]\n",
    "    \n",
    "    a=(float(lst[27203])+float(lst[27204]))/2\n",
    "    b=(float(lst[27215])+float(lst[27216]))/2\n",
    "    c=(float(lst[27227])+float(lst[27228]))/2\n",
    "    d=(float(lst[27239])+float(lst[27240]))/2\n",
    "    e=(float(lst[27251])+float(lst[27252]))/2\n",
    "    f=(float(lst[27263])+float(lst[27264]))/2\n",
    "    g=(float(lst[27275])+float(lst[27276]))/2\n",
    "    h=(float(lst[27287])+float(lst[27288]))/2\n",
    "    i=(float(lst[27299])+float(lst[27300]))/2\n",
    "    j=(float(lst[27311])+float(lst[27312]))/2\n",
    "    k=(float(lst[27323])+float(lst[27324]))/2\n",
    "    l=(float(lst[27335])+float(lst[27336]))/2\n",
    "    m=(float(lst[27347])+float(lst[27348]))/2\n",
    "    n=(float(lst[27359])+float(lst[27360]))/2\n",
    "    o=(float(lst[27371])+float(lst[27372]))/2\n",
    "    p=(float(lst[27383])+float(lst[27384]))/2\n",
    "    q=(float(lst[27395])+float(lst[27396]))/2\n",
    "    r=(float(lst[27407])+float(lst[27408]))/2\n",
    "    s=(float(lst[27419])+float(lst[27420]))/2\n",
    "    t=(float(lst[27431])+float(lst[27432]))/2\n",
    "    u=(float(lst[27443])+float(lst[27444]))/2\n",
    "    v=(float(lst[27455])+float(lst[27456]))/2\n",
    "    w=(float(lst[27467])+float(lst[27468]))/2\n",
    "    x=(float(lst[27479])+float(lst[27480]))/2\n",
    "    y=(float(lst[27491])+float(lst[27492]))/2\n",
    "    temp_crn=[a,b,c,d,e,f,g,h,i,j,k,l,m,n,o,p,q,r,s,t,u,v,w,x,y]\n",
    "    print(temp_crn)"
   ]
  },
  {
   "cell_type": "code",
   "execution_count": 91,
   "id": "a83781b3",
   "metadata": {},
   "outputs": [
    {
     "name": "stdout",
     "output_type": "stream",
     "text": [
      "[0.129999999999999, 0.3999999999999986, 2.129999999999999, 2.3900000000000006, 3.2399999999999984, 3.5299999999999976, -2.289999999999999, -4.340000000000003, -1.1899999999999977, -5.850000000000001, -6.880000000000003, -3.039999999999999, 0.17999999999999972, 0.3500000000000014, 0.46999999999999886, 0.509999999999998, -0.03999999999999915, -0.46000000000000085, -1.0399999999999991, -0.23000000000000043, 0.23999999999999844, -0.6099999999999994, -1.25, -0.5899999999999999, -1.110000000000003]\n"
     ]
    }
   ],
   "source": [
    "difference3_new = []\n",
    "\n",
    "zip_object = zip(temp, temp_crn)\n",
    "for temp_i, temp_crn_i in zip_object:\n",
    "    difference3_new.append(temp_i-temp_crn_i)\n",
    "\n",
    "print(difference3_new)"
   ]
  },
  {
   "cell_type": "markdown",
   "id": "576090a5",
   "metadata": {},
   "source": [
    "<font size=\"3\">Gainesville, AL: 1300 UTC 5 April 2022-1300 UTC 6 April 2022</font>"
   ]
  },
  {
   "cell_type": "code",
   "execution_count": 92,
   "id": "4d735519",
   "metadata": {},
   "outputs": [
    {
     "name": "stdout",
     "output_type": "stream",
     "text": [
      "[16.97, 17.27, 19.7, 21.91, 19.4, 21.73, 22.21, 22.93, 22.9, 22.1, 22.28, 20.39, 19.77, 19.75, 17.92, 18.42, 18.43, 18.3, 18.22, 17.99, 17.23, 19.62, 19.71, 19.75, 20.95]\n"
     ]
    }
   ],
   "source": [
    "#18 hr hrrr:\n",
    "with open('hrrr_f18_Gainesville_AL (1).txt') as f:\n",
    "    lst=[line.split()[4] for line in f]\n",
    "    temp=[]\n",
    "    for i in lst:\n",
    "        new=i.replace(',',\"\")\n",
    "        temp.append(new)\n",
    "    temp.pop(0)\n",
    "    temp=[float(x) for x in temp]\n",
    "    #print(temp.index(6.91541))\n",
    "    temp=temp[2251:2276]\n",
    "    print(temp)\n",
    "    #print(len(temp))\n",
    "#full time period is [2015:2112]"
   ]
  },
  {
   "cell_type": "code",
   "execution_count": 93,
   "id": "cff6042c",
   "metadata": {},
   "outputs": [
    {
     "name": "stdout",
     "output_type": "stream",
     "text": [
      "[-9999.0, -9999.0, -9999.0, -9999.0, -9999.0, -9999.0, -9999.0, -9999.0, -9999.0, -9999.0, -9999.0, -9999.0, -9999.0, -9999.0, -9999.0, -9999.0, -9999.0, -9999.0, -9999.0, -9999.0, -9999.0, -9999.0, -9999.0, -9999.0, -9999.0]\n"
     ]
    }
   ],
   "source": [
    "#Air Temp CRN:\n",
    "with open('CRNS0101-05-2022-AL_Gainesville_2_NE.txt') as f:\n",
    "    lst=[line.split()[12] for line in f]\n",
    "    \n",
    "    a=(float(lst[27227])+float(lst[27228]))/2\n",
    "    b=(float(lst[27239])+float(lst[27240]))/2\n",
    "    c=(float(lst[27251])+float(lst[27252]))/2\n",
    "    d=(float(lst[27263])+float(lst[27264]))/2\n",
    "    e=(float(lst[27275])+float(lst[27276]))/2\n",
    "    f=(float(lst[27287])+float(lst[27288]))/2\n",
    "    g=(float(lst[27299])+float(lst[27300]))/2\n",
    "    h=(float(lst[27311])+float(lst[27312]))/2\n",
    "    i=(float(lst[27323])+float(lst[27324]))/2\n",
    "    j=(float(lst[27335])+float(lst[27336]))/2\n",
    "    k=(float(lst[27347])+float(lst[27348]))/2\n",
    "    l=(float(lst[27359])+float(lst[27360]))/2\n",
    "    m=(float(lst[27371])+float(lst[27372]))/2\n",
    "    n=(float(lst[27383])+float(lst[27384]))/2\n",
    "    o=(float(lst[27395])+float(lst[27396]))/2\n",
    "    p=(float(lst[27407])+float(lst[27408]))/2\n",
    "    q=(float(lst[27419])+float(lst[27420]))/2\n",
    "    r=(float(lst[27431])+float(lst[27432]))/2\n",
    "    s=(float(lst[27443])+float(lst[27444]))/2\n",
    "    t=(float(lst[27455])+float(lst[27456]))/2\n",
    "    u=(float(lst[27467])+float(lst[27468]))/2\n",
    "    v=(float(lst[27479])+float(lst[27480]))/2\n",
    "    w=(float(lst[27491])+float(lst[27492]))/2\n",
    "    x=(float(lst[27503])+float(lst[27504]))/2\n",
    "    y=(float(lst[27515])+float(lst[27516]))/2\n",
    "    temp_crn=[a,b,c,d,e,f,g,h,i,j,k,l,m,n,o,p,q,r,s,t,u,v,w,x,y]\n",
    "    print(temp_crn)"
   ]
  },
  {
   "cell_type": "code",
   "execution_count": 94,
   "id": "b1176cf2",
   "metadata": {},
   "outputs": [],
   "source": [
    "# difference3_gai = []\n",
    "\n",
    "# zip_object = zip(temp, temp_crn)\n",
    "# for temp_i, temp_crn_i in zip_object:\n",
    "#     difference3_gai.append(temp_i-temp_crn_i)\n",
    "\n",
    "# print(difference3_gai)"
   ]
  },
  {
   "cell_type": "markdown",
   "id": "0a541e7a",
   "metadata": {},
   "source": [
    "<font size=\"3\">Fairhope, AL: 1300 UTC 5 April 2022-1300 UTC 6 April 2022</font>"
   ]
  },
  {
   "cell_type": "code",
   "execution_count": 95,
   "id": "d090bf78",
   "metadata": {},
   "outputs": [
    {
     "name": "stdout",
     "output_type": "stream",
     "text": [
      "[22.26, 22.26, 24.86, 23.93, 22.63, 18.65, 18.08, 19.01, 19.85, 19.38, 20.16, 18.96, 20.63, 19.03, 21.29, 21.36, 21.15, 21.57, 21.62, 21.13, 21.14, 21.18, 21.55, 21.77, 22.83]\n"
     ]
    }
   ],
   "source": [
    "#18 hr hrrr:\n",
    "with open('hrrr_f18_Fairhope_AL.txt') as f:\n",
    "    lst=[line.split()[4] for line in f]\n",
    "    temp=[]\n",
    "    for i in lst:\n",
    "        new=i.replace(',',\"\")\n",
    "        temp.append(new)\n",
    "    temp.pop(0)\n",
    "    temp=[float(x) for x in temp]\n",
    "    #print(temp.index(6.91541))\n",
    "    temp=temp[2251:2276]\n",
    "    print(temp)\n",
    "    #print(len(temp))\n",
    "#full time period is [2015:2112]"
   ]
  },
  {
   "cell_type": "code",
   "execution_count": 96,
   "id": "aacaaf75",
   "metadata": {},
   "outputs": [
    {
     "name": "stdout",
     "output_type": "stream",
     "text": [
      "[22.9, 23.7, 25.5, 24.4, 24.1, 16.0, 16.9, 19.85, 21.15, 20.35, 20.5, 19.6, 19.65, 19.85, 20.55, 21.9, 21.9, 22.0, 22.1, 22.0, 22.05, 22.0, 22.0, 22.0, 24.0]\n"
     ]
    }
   ],
   "source": [
    "#Air Temp CRN:\n",
    "with open('CRNS0101-05-2022-AL_Fairhope_3_NE.txt') as f:\n",
    "    lst=[line.split()[12] for line in f]\n",
    "    \n",
    "    a=(float(lst[27227])+float(lst[27228]))/2\n",
    "    b=(float(lst[27239])+float(lst[27240]))/2\n",
    "    c=(float(lst[27251])+float(lst[27252]))/2\n",
    "    d=(float(lst[27263])+float(lst[27264]))/2\n",
    "    e=(float(lst[27275])+float(lst[27276]))/2\n",
    "    f=(float(lst[27287])+float(lst[27288]))/2\n",
    "    g=(float(lst[27299])+float(lst[27300]))/2\n",
    "    h=(float(lst[27311])+float(lst[27312]))/2\n",
    "    i=(float(lst[27323])+float(lst[27324]))/2\n",
    "    j=(float(lst[27335])+float(lst[27336]))/2\n",
    "    k=(float(lst[27347])+float(lst[27348]))/2\n",
    "    l=(float(lst[27359])+float(lst[27360]))/2\n",
    "    m=(float(lst[27371])+float(lst[27372]))/2\n",
    "    n=(float(lst[27383])+float(lst[27384]))/2\n",
    "    o=(float(lst[27395])+float(lst[27396]))/2\n",
    "    p=(float(lst[27407])+float(lst[27408]))/2\n",
    "    q=(float(lst[27419])+float(lst[27420]))/2\n",
    "    r=(float(lst[27431])+float(lst[27432]))/2\n",
    "    s=(float(lst[27443])+float(lst[27444]))/2\n",
    "    t=(float(lst[27455])+float(lst[27456]))/2\n",
    "    u=(float(lst[27467])+float(lst[27468]))/2\n",
    "    v=(float(lst[27479])+float(lst[27480]))/2\n",
    "    w=(float(lst[27491])+float(lst[27492]))/2\n",
    "    x=(float(lst[27503])+float(lst[27504]))/2\n",
    "    y=(float(lst[27515])+float(lst[27516]))/2\n",
    "    temp_crn=[a,b,c,d,e,f,g,h,i,j,k,l,m,n,o,p,q,r,s,t,u,v,w,x,y]\n",
    "    print(temp_crn)"
   ]
  },
  {
   "cell_type": "code",
   "execution_count": 97,
   "id": "e08d6481",
   "metadata": {},
   "outputs": [
    {
     "name": "stdout",
     "output_type": "stream",
     "text": [
      "[-0.639999999999997, -1.4399999999999977, -0.6400000000000006, -0.46999999999999886, -1.4700000000000024, 2.6499999999999986, 1.1799999999999997, -0.8399999999999999, -1.2999999999999972, -0.9700000000000024, -0.33999999999999986, -0.6400000000000006, 0.9800000000000004, -0.8200000000000003, 0.7399999999999984, -0.5399999999999991, -0.75, -0.4299999999999997, -0.4800000000000004, -0.870000000000001, -0.9100000000000001, -0.8200000000000003, -0.4499999999999993, -0.23000000000000043, -1.1700000000000017]\n"
     ]
    }
   ],
   "source": [
    "difference3_fai = []\n",
    "\n",
    "zip_object = zip(temp, temp_crn)\n",
    "for temp_i, temp_crn_i in zip_object:\n",
    "    difference3_fai.append(temp_i-temp_crn_i)\n",
    "\n",
    "print(difference3_fai)"
   ]
  },
  {
   "cell_type": "markdown",
   "id": "817a1997",
   "metadata": {},
   "source": [
    "<font size=\"3\">Selma, AL: 1300 UTC 5 April 2022-1300 UTC 6 April 2022</font>"
   ]
  },
  {
   "cell_type": "code",
   "execution_count": 98,
   "id": "3850a5ea",
   "metadata": {},
   "outputs": [
    {
     "name": "stdout",
     "output_type": "stream",
     "text": [
      "[17.75, 19.31, 19.84, 20.52, 19.28, 20.96, 19.43, 20.93, 20.78, 19.9, 20.63, 18.34, 16.96, 17.36, 17.97, 17.8, 17.35, 18.03, 18.74, 19.06, 19.35, 20.23, 19.94, 20.18, 21.27]\n"
     ]
    }
   ],
   "source": [
    "#18 hr hrrr:\n",
    "with open('hrrr_f18_Selma_AL.txt') as f:\n",
    "    lst=[line.split()[4] for line in f]\n",
    "    temp=[]\n",
    "    for i in lst:\n",
    "        new=i.replace(',',\"\")\n",
    "        temp.append(new)\n",
    "    temp.pop(0)\n",
    "    temp=[float(x) for x in temp]\n",
    "    #print(temp.index(6.91541))\n",
    "    temp=temp[2251:2276]\n",
    "    print(temp)"
   ]
  },
  {
   "cell_type": "code",
   "execution_count": 99,
   "id": "a77fd0d0",
   "metadata": {},
   "outputs": [
    {
     "name": "stdout",
     "output_type": "stream",
     "text": [
      "[16.35, 16.75, 18.5, 18.55, 18.45, 17.85, 18.75, 20.0, 21.2, 22.35, 19.9, 18.700000000000003, 17.75, 17.55, 17.1, 17.55, 18.55, 19.0, 19.1, 18.9, 19.0, 19.3, 19.7, 19.9, 20.2]\n"
     ]
    }
   ],
   "source": [
    "#Air Temp CRN:\n",
    "with open('CRNS0101-05-2022-AL_Selma_13_WNW.txt') as f:\n",
    "    lst=[line.split()[12] for line in f]\n",
    "    \n",
    "    a=(float(lst[27227])+float(lst[27228]))/2\n",
    "    b=(float(lst[27239])+float(lst[27240]))/2\n",
    "    c=(float(lst[27251])+float(lst[27252]))/2\n",
    "    d=(float(lst[27263])+float(lst[27264]))/2\n",
    "    e=(float(lst[27275])+float(lst[27276]))/2\n",
    "    f=(float(lst[27287])+float(lst[27288]))/2\n",
    "    g=(float(lst[27299])+float(lst[27300]))/2\n",
    "    h=(float(lst[27311])+float(lst[27312]))/2\n",
    "    i=(float(lst[27323])+float(lst[27324]))/2\n",
    "    j=(float(lst[27335])+float(lst[27336]))/2\n",
    "    k=(float(lst[27347])+float(lst[27348]))/2\n",
    "    l=(float(lst[27359])+float(lst[27360]))/2\n",
    "    m=(float(lst[27371])+float(lst[27372]))/2\n",
    "    n=(float(lst[27383])+float(lst[27384]))/2\n",
    "    o=(float(lst[27395])+float(lst[27396]))/2\n",
    "    p=(float(lst[27407])+float(lst[27408]))/2\n",
    "    q=(float(lst[27419])+float(lst[27420]))/2\n",
    "    r=(float(lst[27431])+float(lst[27432]))/2\n",
    "    s=(float(lst[27443])+float(lst[27444]))/2\n",
    "    t=(float(lst[27455])+float(lst[27456]))/2\n",
    "    u=(float(lst[27467])+float(lst[27468]))/2\n",
    "    v=(float(lst[27479])+float(lst[27480]))/2\n",
    "    w=(float(lst[27491])+float(lst[27492]))/2\n",
    "    x=(float(lst[27503])+float(lst[27504]))/2\n",
    "    y=(float(lst[27515])+float(lst[27516]))/2\n",
    "    temp_crn=[a,b,c,d,e,f,g,h,i,j,k,l,m,n,o,p,q,r,s,t,u,v,w,x,y]\n",
    "    print(temp_crn)"
   ]
  },
  {
   "cell_type": "code",
   "execution_count": 100,
   "id": "6b41efd2",
   "metadata": {},
   "outputs": [
    {
     "name": "stdout",
     "output_type": "stream",
     "text": [
      "[1.3999999999999986, 2.5599999999999987, 1.3399999999999999, 1.9699999999999989, 0.8300000000000018, 3.1099999999999994, 0.6799999999999997, 0.9299999999999997, -0.41999999999999815, -2.450000000000003, 0.7300000000000004, -0.360000000000003, -0.7899999999999991, -0.19000000000000128, 0.8699999999999974, 0.25, -1.1999999999999993, -0.9699999999999989, -0.360000000000003, 0.16000000000000014, 0.3500000000000014, 0.9299999999999997, 0.240000000000002, 0.28000000000000114, 1.0700000000000003]\n",
      "25\n"
     ]
    }
   ],
   "source": [
    "difference3_sel = []\n",
    "\n",
    "zip_object = zip(temp, temp_crn)\n",
    "for temp_i, temp_crn_i in zip_object:\n",
    "    difference3_sel.append(temp_i-temp_crn_i)\n",
    "\n",
    "print(difference3_sel)\n",
    "print(len(difference3_sel))"
   ]
  },
  {
   "cell_type": "markdown",
   "id": "8492b45b",
   "metadata": {},
   "source": [
    "<font size=\"3\">Bowling Green, KY: 1500 UTC 5 April 2022-1500 UTC 6 April 2022</font>"
   ]
  },
  {
   "cell_type": "code",
   "execution_count": 101,
   "id": "f04dad03",
   "metadata": {},
   "outputs": [
    {
     "name": "stdout",
     "output_type": "stream",
     "text": [
      "[16.25, 16.58, 17.12, 14.16, 15.77, 16.25, 13.98, 14.36, 14.65, 13.86, 11.82, 9.64999, 9.5, 8.58002, 8.89001, 10.36, 7.60001, 8.19, 9.92001, 9.38, 10.32, 10.5, 11.69, 11.82, 13.17]\n",
      "25\n"
     ]
    }
   ],
   "source": [
    "#18 hr hrrr:\n",
    "with open('hrrr_f18_Bowling Green_KY.txt') as f:\n",
    "    lst=[line.split()[4] for line in f]\n",
    "    temp=[]\n",
    "    for i in lst:\n",
    "        new=i.replace(',',\"\")\n",
    "        temp.append(new)\n",
    "    temp.pop(0)\n",
    "    temp=[float(x) for x in temp]\n",
    "    #print(temp.index(6.91541))\n",
    "    temp=temp[2253:2278]\n",
    "    print(temp)\n",
    "    print(len(temp))"
   ]
  },
  {
   "cell_type": "code",
   "execution_count": 102,
   "id": "51bfc81e",
   "metadata": {},
   "outputs": [
    {
     "name": "stdout",
     "output_type": "stream",
     "text": [
      "[11.1, 12.4, 13.65, 15.0, 12.75, 14.0, 13.9, 13.35, 12.6, 11.75, 11.05, 9.4, 5.85, 6.65, 9.4, 8.0, 10.45, 10.7, 10.9, 10.75, 10.7, 11.25, 12.2, 13.05, 14.45]\n"
     ]
    }
   ],
   "source": [
    "#Air Temp CRN:\n",
    "with open('CRNS0101-05-2022-KY_Bowling_Green_21_NNE.txt') as f:\n",
    "    lst=[line.split()[12] for line in f]\n",
    "    \n",
    "    a=(float(lst[27251])+float(lst[27252]))/2\n",
    "    b=(float(lst[27263])+float(lst[27264]))/2\n",
    "    c=(float(lst[27275])+float(lst[27276]))/2\n",
    "    d=(float(lst[27287])+float(lst[27288]))/2\n",
    "    e=(float(lst[27299])+float(lst[27300]))/2\n",
    "    f=(float(lst[27311])+float(lst[27312]))/2\n",
    "    g=(float(lst[27323])+float(lst[27324]))/2\n",
    "    h=(float(lst[27335])+float(lst[27336]))/2\n",
    "    i=(float(lst[27347])+float(lst[27348]))/2\n",
    "    j=(float(lst[27359])+float(lst[27360]))/2\n",
    "    k=(float(lst[27371])+float(lst[27372]))/2\n",
    "    l=(float(lst[27383])+float(lst[27384]))/2\n",
    "    m=(float(lst[27395])+float(lst[27396]))/2\n",
    "    n=(float(lst[27407])+float(lst[27408]))/2\n",
    "    o=(float(lst[27419])+float(lst[27420]))/2\n",
    "    p=(float(lst[27431])+float(lst[27432]))/2\n",
    "    q=(float(lst[27443])+float(lst[27444]))/2\n",
    "    r=(float(lst[27455])+float(lst[27456]))/2\n",
    "    s=(float(lst[27467])+float(lst[27468]))/2\n",
    "    t=(float(lst[27479])+float(lst[27480]))/2\n",
    "    u=(float(lst[27491])+float(lst[27492]))/2\n",
    "    v=(float(lst[27503])+float(lst[27504]))/2\n",
    "    w=(float(lst[27515])+float(lst[27516]))/2\n",
    "    x=(float(lst[27527])+float(lst[27528]))/2\n",
    "    y=(float(lst[27539])+float(lst[27540]))/2\n",
    "    temp_crn=[a,b,c,d,e,f,g,h,i,j,k,l,m,n,o,p,q,r,s,t,u,v,w,x,y]\n",
    "    print(temp_crn)"
   ]
  },
  {
   "cell_type": "code",
   "execution_count": 103,
   "id": "8047270f",
   "metadata": {},
   "outputs": [
    {
     "name": "stdout",
     "output_type": "stream",
     "text": [
      "[5.15, 4.179999999999998, 3.4700000000000006, -0.8399999999999999, 3.0199999999999996, 2.25, 0.08000000000000007, 1.0099999999999998, 2.0500000000000007, 2.1099999999999994, 0.7699999999999996, 0.24999000000000038, 3.6500000000000004, 1.930019999999999, -0.5099900000000002, 2.3599999999999994, -2.849989999999999, -2.51, -0.9799900000000008, -1.3699999999999992, -0.379999999999999, -0.75, -0.5099999999999998, -1.2300000000000004, -1.2799999999999994]\n"
     ]
    }
   ],
   "source": [
    "difference3_bow = []\n",
    "\n",
    "zip_object = zip(temp, temp_crn)\n",
    "for temp_i, temp_crn_i in zip_object:\n",
    "    difference3_bow.append(temp_i-temp_crn_i)\n",
    "\n",
    "print(difference3_bow)"
   ]
  },
  {
   "cell_type": "markdown",
   "id": "e3343352",
   "metadata": {},
   "source": [
    "<font size=\"3\">Gadsden, AL: 1500 UTC 5 April 2022-1500 UTC 6 April 2022</font>"
   ]
  },
  {
   "cell_type": "code",
   "execution_count": 104,
   "id": "1d3a02ee",
   "metadata": {},
   "outputs": [
    {
     "name": "stdout",
     "output_type": "stream",
     "text": [
      "[12.07, 13.16, 13.85, 14.7, 16.87, 18.07, 19.28, 16.73, 16.93, 16.73, 15.9, 16.44, 13.98, 13.17, 13.29, 13.16, 12.65, 11.67, 11.82, 11.14, 12.86, 13.2, 14.18, 15.83, 17.47]\n"
     ]
    }
   ],
   "source": [
    "#18 hr hrrr:\n",
    "with open('hrrr_f18_Gadsden_AL.txt') as f:\n",
    "    lst=[line.split()[4] for line in f]\n",
    "    temp=[]\n",
    "    for i in lst:\n",
    "        new=i.replace(',',\"\")\n",
    "        temp.append(new)\n",
    "    temp.pop(0)\n",
    "    temp=[float(x) for x in temp]\n",
    "    #print(temp.index(6.91541))\n",
    "    temp=temp[2253:2278]\n",
    "    print(temp)\n",
    "    #print(len(temp))\n",
    "#full time period is [2015:2112]"
   ]
  },
  {
   "cell_type": "code",
   "execution_count": 105,
   "id": "e7df9414",
   "metadata": {},
   "outputs": [
    {
     "name": "stdout",
     "output_type": "stream",
     "text": [
      "[11.0, 11.2, 12.05, 13.4, 17.6, 17.75, 17.4, 17.4, 17.35, 16.1, 14.5, 12.649999999999999, 10.850000000000001, 12.8, 13.350000000000001, 13.2, 13.7, 14.0, 14.2, 14.6, 14.7, 15.5, 16.55, 17.700000000000003, 18.3]\n"
     ]
    }
   ],
   "source": [
    "#Air Temp CRN:\n",
    "with open('CRNS0101-05-2022-AL_Gadsden_19_N.txt') as f:\n",
    "    lst=[line.split()[12] for line in f]\n",
    "    \n",
    "    a=(float(lst[27251])+float(lst[27252]))/2\n",
    "    b=(float(lst[27263])+float(lst[27264]))/2\n",
    "    c=(float(lst[27275])+float(lst[27276]))/2\n",
    "    d=(float(lst[27287])+float(lst[27288]))/2\n",
    "    e=(float(lst[27299])+float(lst[27300]))/2\n",
    "    f=(float(lst[27311])+float(lst[27312]))/2\n",
    "    g=(float(lst[27323])+float(lst[27324]))/2\n",
    "    h=(float(lst[27335])+float(lst[27336]))/2\n",
    "    i=(float(lst[27347])+float(lst[27348]))/2\n",
    "    j=(float(lst[27359])+float(lst[27360]))/2\n",
    "    k=(float(lst[27371])+float(lst[27372]))/2\n",
    "    l=(float(lst[27383])+float(lst[27384]))/2\n",
    "    m=(float(lst[27395])+float(lst[27396]))/2\n",
    "    n=(float(lst[27407])+float(lst[27408]))/2\n",
    "    o=(float(lst[27419])+float(lst[27420]))/2\n",
    "    p=(float(lst[27431])+float(lst[27432]))/2\n",
    "    q=(float(lst[27443])+float(lst[27444]))/2\n",
    "    r=(float(lst[27455])+float(lst[27456]))/2\n",
    "    s=(float(lst[27467])+float(lst[27468]))/2\n",
    "    t=(float(lst[27479])+float(lst[27480]))/2\n",
    "    u=(float(lst[27491])+float(lst[27492]))/2\n",
    "    v=(float(lst[27503])+float(lst[27504]))/2\n",
    "    w=(float(lst[27515])+float(lst[27516]))/2\n",
    "    x=(float(lst[27527])+float(lst[27528]))/2\n",
    "    y=(float(lst[27539])+float(lst[27540]))/2\n",
    "    temp_crn=[a,b,c,d,e,f,g,h,i,j,k,l,m,n,o,p,q,r,s,t,u,v,w,x,y]\n",
    "    print(temp_crn)"
   ]
  },
  {
   "cell_type": "code",
   "execution_count": 106,
   "id": "9ac3a61b",
   "metadata": {},
   "outputs": [
    {
     "name": "stdout",
     "output_type": "stream",
     "text": [
      "[1.0700000000000003, 1.9600000000000009, 1.799999999999999, 1.299999999999999, -0.7300000000000004, 0.3200000000000003, 1.8800000000000026, -0.6699999999999982, -0.4200000000000017, 0.629999999999999, 1.4000000000000004, 3.7900000000000027, 3.129999999999999, 0.3699999999999992, -0.060000000000002274, -0.03999999999999915, -1.049999999999999, -2.33, -2.379999999999999, -3.459999999999999, -1.8399999999999999, -2.3000000000000007, -2.370000000000001, -1.8700000000000028, -0.8300000000000018]\n"
     ]
    }
   ],
   "source": [
    "difference3_gad = []\n",
    "\n",
    "zip_object = zip(temp, temp_crn)\n",
    "for temp_i, temp_crn_i in zip_object:\n",
    "    difference3_gad.append(temp_i-temp_crn_i)\n",
    "\n",
    "print(difference3_gad)"
   ]
  },
  {
   "cell_type": "markdown",
   "id": "24b41c3d",
   "metadata": {},
   "source": [
    "<font size=\"3\">Newton, GA: 1800 UTC 5 April 2022-1800 UTC 6 April 2022</font>"
   ]
  },
  {
   "cell_type": "code",
   "execution_count": 107,
   "id": "73a45595",
   "metadata": {},
   "outputs": [
    {
     "name": "stdout",
     "output_type": "stream",
     "text": [
      "[27.42, 29.42, 26.77, 25.58, 19.35, 19.57, 19.07, 18.29, 18.22, 19.0, 19.3, 19.76, 19.14, 20.58, 21.08, 20.67, 20.28, 20.74, 21.57, 21.61, 23.52, 23.76, 24.98, 26.01, 24.24]\n"
     ]
    }
   ],
   "source": [
    "#18 hr hrrr:\n",
    "with open('hrrr_f18_Newton_GA.txt') as f:\n",
    "    lst=[line.split()[4] for line in f]\n",
    "    temp=[]\n",
    "    for i in lst:\n",
    "        new=i.replace(',',\"\")\n",
    "        temp.append(new)\n",
    "    temp.pop(0)\n",
    "    temp=[float(x) for x in temp]\n",
    "    #print(temp.index(6.91541))\n",
    "    temp=temp[2256:2281]\n",
    "    print(temp)\n",
    "    #print(len(temp))\n",
    "#full time period is [2015:2112]"
   ]
  },
  {
   "cell_type": "code",
   "execution_count": 108,
   "id": "263bc114",
   "metadata": {},
   "outputs": [
    {
     "name": "stdout",
     "output_type": "stream",
     "text": [
      "[27.35, 25.0, 18.0, 17.5, 17.4, 17.5, 17.4, 17.4, 17.4, 16.6, 16.75, 17.1, 17.8, 18.2, 18.9, 19.5, 20.1, 20.6, 20.95, 22.05, 23.15, 25.3, 27.049999999999997, 28.299999999999997, 30.299999999999997]\n"
     ]
    }
   ],
   "source": [
    "#Air Temp CRN:\n",
    "with open('CRNS0101-05-2022-GA_Newton_11_SW.txt') as f:\n",
    "    lst=[line.split()[12] for line in f]\n",
    "    \n",
    "    a=(float(lst[27287])+float(lst[27288]))/2\n",
    "    b=(float(lst[27299])+float(lst[27300]))/2\n",
    "    c=(float(lst[27311])+float(lst[27312]))/2\n",
    "    d=(float(lst[27323])+float(lst[27324]))/2\n",
    "    e=(float(lst[27335])+float(lst[27336]))/2\n",
    "    f=(float(lst[27347])+float(lst[27348]))/2\n",
    "    g=(float(lst[27359])+float(lst[27360]))/2\n",
    "    h=(float(lst[27371])+float(lst[27372]))/2\n",
    "    i=(float(lst[27383])+float(lst[27384]))/2\n",
    "    j=(float(lst[27395])+float(lst[27396]))/2\n",
    "    k=(float(lst[27407])+float(lst[27408]))/2\n",
    "    l=(float(lst[27419])+float(lst[27420]))/2\n",
    "    m=(float(lst[27431])+float(lst[27432]))/2\n",
    "    n=(float(lst[27443])+float(lst[27444]))/2\n",
    "    o=(float(lst[27455])+float(lst[27456]))/2\n",
    "    p=(float(lst[27467])+float(lst[27468]))/2\n",
    "    q=(float(lst[27479])+float(lst[27480]))/2\n",
    "    r=(float(lst[27491])+float(lst[27492]))/2\n",
    "    s=(float(lst[27503])+float(lst[27504]))/2\n",
    "    t=(float(lst[27515])+float(lst[27516]))/2\n",
    "    u=(float(lst[27527])+float(lst[27528]))/2\n",
    "    v=(float(lst[27539])+float(lst[27540]))/2\n",
    "    w=(float(lst[27551])+float(lst[27552]))/2\n",
    "    x=(float(lst[27563])+float(lst[27564]))/2\n",
    "    y=(float(lst[27575])+float(lst[27576]))/2\n",
    "    temp_crn=[a,b,c,d,e,f,g,h,i,j,k,l,m,n,o,p,q,r,s,t,u,v,w,x,y]\n",
    "    print(temp_crn)"
   ]
  },
  {
   "cell_type": "code",
   "execution_count": 109,
   "id": "474e5fae",
   "metadata": {},
   "outputs": [
    {
     "name": "stdout",
     "output_type": "stream",
     "text": [
      "[0.07000000000000028, 4.420000000000002, 8.77, 8.079999999999998, 1.9500000000000028, 2.0700000000000003, 1.6700000000000017, 0.8900000000000006, 0.8200000000000003, 2.3999999999999986, 2.5500000000000007, 2.66, 1.3399999999999999, 2.379999999999999, 2.1799999999999997, 1.1700000000000017, 0.17999999999999972, 0.13999999999999702, 0.620000000000001, -0.4400000000000013, 0.370000000000001, -1.5399999999999991, -2.0699999999999967, -2.2899999999999956, -6.059999999999999]\n"
     ]
    }
   ],
   "source": [
    "difference3_newt = []\n",
    "\n",
    "zip_object = zip(temp, temp_crn)\n",
    "for temp_i, temp_crn_i in zip_object:\n",
    "    difference3_newt.append(temp_i-temp_crn_i)\n",
    "\n",
    "print(difference3_newt)"
   ]
  },
  {
   "cell_type": "markdown",
   "id": "e079df5d",
   "metadata": {},
   "source": [
    "<font size=\"3\">Salem, MO: 1500 UTC 13 April 2022-1500 UTC 14 April 2022</font>"
   ]
  },
  {
   "cell_type": "code",
   "execution_count": 110,
   "id": "2d4eaff3",
   "metadata": {},
   "outputs": [
    {
     "name": "stdout",
     "output_type": "stream",
     "text": [
      "[19.23, 19.25, 18.13, 15.9, 16.39, 13.04, 7.77002, 7.42999, 7.17001, 6.37, 5.24002, 4.63, 3.75, 3.78, 3.16, 2.84, 2.09, 1.69, 1.45999, 1.20999, 0.679993, 0.830017, 3.38, 6.78, 9.78]\n"
     ]
    }
   ],
   "source": [
    "#18 hr hrrr:\n",
    "with open('hrrr_f18_Salem_MO.txt') as f:\n",
    "    lst=[line.split()[4] for line in f]\n",
    "    temp=[]\n",
    "    for i in lst:\n",
    "        new=i.replace(',',\"\")\n",
    "        temp.append(new)\n",
    "    temp.pop(0)\n",
    "    temp=[float(x) for x in temp]\n",
    "    #print(temp.index(6.91541))\n",
    "    temp=temp[2445:2470]\n",
    "    print(temp)\n",
    "    #print(len(temp))\n",
    "#full time period is [2015:2112]"
   ]
  },
  {
   "cell_type": "code",
   "execution_count": 111,
   "id": "11955714",
   "metadata": {},
   "outputs": [
    {
     "name": "stdout",
     "output_type": "stream",
     "text": [
      "[16.6, 16.4, 14.649999999999999, 14.4, 14.3, 10.05, 9.5, 9.55, 7.95, 6.75, 4.8, 5.95, 5.25, 2.4, 0.9, -0.6, -1.5, -2.3499999999999996, -2.5, -2.1, -3.75, -2.05, 3.2, 10.1, 15.65]\n"
     ]
    }
   ],
   "source": [
    "#Air Temp CRN:\n",
    "with open('CRNS0101-05-2022-MO_Salem_10_W.txt') as f:\n",
    "    lst=[line.split()[12] for line in f]\n",
    "    \n",
    "    a=(float(lst[29555])+float(lst[29556]))/2\n",
    "    b=(float(lst[29567])+float(lst[29568]))/2\n",
    "    c=(float(lst[29579])+float(lst[29580]))/2\n",
    "    d=(float(lst[29591])+float(lst[29592]))/2\n",
    "    e=(float(lst[29603])+float(lst[29604]))/2\n",
    "    f=(float(lst[29615])+float(lst[29616]))/2\n",
    "    g=(float(lst[29627])+float(lst[29628]))/2\n",
    "    h=(float(lst[29639])+float(lst[29640]))/2\n",
    "    i=(float(lst[29651])+float(lst[29652]))/2\n",
    "    j=(float(lst[29663])+float(lst[29664]))/2\n",
    "    k=(float(lst[29675])+float(lst[29676]))/2\n",
    "    l=(float(lst[29687])+float(lst[29688]))/2\n",
    "    m=(float(lst[29699])+float(lst[29700]))/2\n",
    "    n=(float(lst[29711])+float(lst[29712]))/2\n",
    "    o=(float(lst[29723])+float(lst[29724]))/2\n",
    "    p=(float(lst[29735])+float(lst[29736]))/2\n",
    "    q=(float(lst[29747])+float(lst[29748]))/2\n",
    "    r=(float(lst[29759])+float(lst[29760]))/2\n",
    "    s=(float(lst[29771])+float(lst[29772]))/2\n",
    "    t=(float(lst[29783])+float(lst[29784]))/2\n",
    "    u=(float(lst[29795])+float(lst[29796]))/2\n",
    "    v=(float(lst[29807])+float(lst[29808]))/2\n",
    "    w=(float(lst[29819])+float(lst[29820]))/2\n",
    "    x=(float(lst[29831])+float(lst[29832]))/2\n",
    "    y=(float(lst[29843])+float(lst[29844]))/2\n",
    "    temp_crn=[a,b,c,d,e,f,g,h,i,j,k,l,m,n,o,p,q,r,s,t,u,v,w,x,y]\n",
    "    print(temp_crn)"
   ]
  },
  {
   "cell_type": "code",
   "execution_count": 112,
   "id": "cfc37d3d",
   "metadata": {},
   "outputs": [
    {
     "name": "stdout",
     "output_type": "stream",
     "text": [
      "[2.629999999999999, 2.8500000000000014, 3.4800000000000004, 1.5, 2.09, 2.9899999999999984, -1.7299800000000003, -2.1200100000000006, -0.7799899999999997, -0.3799999999999999, 0.4400200000000005, -1.3200000000000003, -1.5, 1.38, 2.2600000000000002, 3.44, 3.59, 4.039999999999999, 3.95999, 3.30999, 4.429993, 2.8800169999999996, 0.17999999999999972, -3.3199999999999994, -5.870000000000001]\n"
     ]
    }
   ],
   "source": [
    "difference4_sal = []\n",
    "\n",
    "zip_object = zip(temp, temp_crn)\n",
    "for temp_i, temp_crn_i in zip_object:\n",
    "    difference4_sal.append(temp_i-temp_crn_i)\n",
    "\n",
    "print(difference4_sal)"
   ]
  },
  {
   "cell_type": "markdown",
   "id": "1baa8356",
   "metadata": {},
   "source": [
    "<font size=\"3\">Batesville, AR: 1500 UTC 13 April 2022-1500 UTC 14 April 2022</font>"
   ]
  },
  {
   "cell_type": "code",
   "execution_count": 113,
   "id": "d8303cde",
   "metadata": {},
   "outputs": [
    {
     "name": "stdout",
     "output_type": "stream",
     "text": [
      "[20.2, 18.47, 24.0, 20.13, 19.27, 20.69, 19.33, 15.41, 12.04, 10.37, 8.87, 7.67001, 7.29001, 7.41, 6.84, 6.5, 5.66, 5.24002, 4.49002, 4.02002, 3.55002, 3.30002, 6.30002, 10.69, 13.65]\n"
     ]
    }
   ],
   "source": [
    "#18 hr hrrr:\n",
    "with open('hrrr_f18_Batesville_AR.txt') as f:\n",
    "    lst=[line.split()[4] for line in f]\n",
    "    temp=[]\n",
    "    for i in lst:\n",
    "        new=i.replace(',',\"\")\n",
    "        temp.append(new)\n",
    "    temp.pop(0)\n",
    "    temp=[float(x) for x in temp]\n",
    "    #print(temp.index(6.91541))\n",
    "    temp=temp[2445:2470]\n",
    "\n",
    "    print(temp)\n",
    "    #print(len(temp))\n",
    "#full time period is [2015:2112]"
   ]
  },
  {
   "cell_type": "code",
   "execution_count": 114,
   "id": "006ec050",
   "metadata": {},
   "outputs": [
    {
     "name": "stdout",
     "output_type": "stream",
     "text": [
      "[17.75, 18.6, 17.75, 18.15, 16.95, 16.4, 16.5, 14.4, 11.7, 10.4, 9.5, 8.95, 8.35, 6.85, 6.85, 5.4, 2.7, 0.6, 0.45, 0.4, -0.3, 0.1, 5.5, 11.149999999999999, 14.5]\n"
     ]
    }
   ],
   "source": [
    "#Air Temp CRN:\n",
    "with open('CRNS0101-05-2022-AR_Batesville_8_WNW.txt') as f:\n",
    "    lst=[line.split()[12] for line in f]\n",
    "    \n",
    "    a=(float(lst[29555])+float(lst[29556]))/2\n",
    "    b=(float(lst[29567])+float(lst[29568]))/2\n",
    "    c=(float(lst[29579])+float(lst[29580]))/2\n",
    "    d=(float(lst[29591])+float(lst[29592]))/2\n",
    "    e=(float(lst[29603])+float(lst[29604]))/2\n",
    "    f=(float(lst[29615])+float(lst[29616]))/2\n",
    "    g=(float(lst[29627])+float(lst[29628]))/2\n",
    "    h=(float(lst[29639])+float(lst[29640]))/2\n",
    "    i=(float(lst[29651])+float(lst[29652]))/2\n",
    "    j=(float(lst[29663])+float(lst[29664]))/2\n",
    "    k=(float(lst[29675])+float(lst[29676]))/2\n",
    "    l=(float(lst[29687])+float(lst[29688]))/2\n",
    "    m=(float(lst[29699])+float(lst[29700]))/2\n",
    "    n=(float(lst[29711])+float(lst[29712]))/2\n",
    "    o=(float(lst[29723])+float(lst[29724]))/2\n",
    "    p=(float(lst[29735])+float(lst[29736]))/2\n",
    "    q=(float(lst[29747])+float(lst[29748]))/2\n",
    "    r=(float(lst[29759])+float(lst[29760]))/2\n",
    "    s=(float(lst[29771])+float(lst[29772]))/2\n",
    "    t=(float(lst[29783])+float(lst[29784]))/2\n",
    "    u=(float(lst[29795])+float(lst[29796]))/2\n",
    "    v=(float(lst[29807])+float(lst[29808]))/2\n",
    "    w=(float(lst[29819])+float(lst[29820]))/2\n",
    "    x=(float(lst[29831])+float(lst[29832]))/2\n",
    "    y=(float(lst[29843])+float(lst[29844]))/2\n",
    "    temp_crn=[a,b,c,d,e,f,g,h,i,j,k,l,m,n,o,p,q,r,s,t,u,v,w,x,y]\n",
    "    print(temp_crn)"
   ]
  },
  {
   "cell_type": "code",
   "execution_count": 115,
   "id": "3ca802b3",
   "metadata": {},
   "outputs": [
    {
     "name": "stdout",
     "output_type": "stream",
     "text": [
      "[2.4499999999999993, -0.13000000000000256, 6.25, 1.9800000000000004, 2.3200000000000003, 4.290000000000003, 2.8299999999999983, 1.0099999999999998, 0.33999999999999986, -0.030000000000001137, -0.6300000000000008, -1.2799899999999989, -1.05999, 0.5600000000000005, -0.009999999999999787, 1.0999999999999996, 2.96, 4.640020000000001, 4.04002, 3.62002, 3.8500199999999998, 3.20002, 0.80002, -0.4599999999999991, -0.8499999999999996]\n"
     ]
    }
   ],
   "source": [
    "difference4_bat = []\n",
    "\n",
    "zip_object = zip(temp, temp_crn)\n",
    "for temp_i, temp_crn_i in zip_object:\n",
    "    difference4_bat.append(temp_i-temp_crn_i)\n",
    "\n",
    "print(difference4_bat)"
   ]
  },
  {
   "cell_type": "markdown",
   "id": "7089dff9",
   "metadata": {},
   "source": [
    "<font size=\"3\">Lafayette, LA: 2000 UTC 13 April 2022-2000 UTC 14 April 2022</font>"
   ]
  },
  {
   "cell_type": "code",
   "execution_count": 116,
   "id": "2d13b7f6",
   "metadata": {},
   "outputs": [
    {
     "name": "stdout",
     "output_type": "stream",
     "text": [
      "[24.77, 27.78, 23.58, 23.39, 23.52, 23.7, 23.11, 22.68, 22.76, 22.83, 19.22, 18.5, 16.69, 15.75, 14.87, 14.74, 14.86, 15.23, 16.68, 18.57, 19.96, 22.75, 25.43, 26.4, 28.22]\n"
     ]
    }
   ],
   "source": [
    "#18 hr hrrr:\n",
    "with open('hrrr_f18_Lafayette_LA.txt') as f:\n",
    "    lst=[line.split()[4] for line in f]\n",
    "    temp=[]\n",
    "    for i in lst:\n",
    "        new=i.replace(',',\"\")\n",
    "        temp.append(new)\n",
    "    temp.pop(0)\n",
    "    temp=[float(x) for x in temp]\n",
    "    #print(temp.index(6.91541))\n",
    "    \n",
    "    temp=temp[2450:2475]\n",
    "    print(temp)\n",
    "    #print(len(temp))\n",
    "#full time period is [2015:2112]"
   ]
  },
  {
   "cell_type": "code",
   "execution_count": 117,
   "id": "4cb24849",
   "metadata": {},
   "outputs": [
    {
     "name": "stdout",
     "output_type": "stream",
     "text": [
      "[28.0, 26.3, 24.6, 24.6, 23.55, 23.1, 23.0, 16.1, 15.5, 15.45, 16.1, 16.25, 16.8, 16.55, 14.5, 14.35, 13.8, 15.25, 18.549999999999997, 22.9, 27.3, 30.9, 31.7, 33.9, 33.0]\n"
     ]
    }
   ],
   "source": [
    "#Air Temp CRN:\n",
    "with open('CRNS0101-05-2022-LA_Lafayette_13_SE.txt') as f:\n",
    "    lst=[line.split()[12] for line in f]\n",
    "    \n",
    "    a=(float(lst[29615])+float(lst[29616]))/2\n",
    "    b=(float(lst[29627])+float(lst[29628]))/2\n",
    "    c=(float(lst[29639])+float(lst[29640]))/2\n",
    "    d=(float(lst[29651])+float(lst[29652]))/2\n",
    "    e=(float(lst[29663])+float(lst[29664]))/2\n",
    "    f=(float(lst[29675])+float(lst[29676]))/2\n",
    "    g=(float(lst[29687])+float(lst[29688]))/2\n",
    "    h=(float(lst[29699])+float(lst[29700]))/2\n",
    "    i=(float(lst[29711])+float(lst[29712]))/2\n",
    "    j=(float(lst[29723])+float(lst[29724]))/2\n",
    "    k=(float(lst[29735])+float(lst[29736]))/2\n",
    "    l=(float(lst[29747])+float(lst[29748]))/2\n",
    "    m=(float(lst[29759])+float(lst[29760]))/2\n",
    "    n=(float(lst[29771])+float(lst[29772]))/2\n",
    "    o=(float(lst[29783])+float(lst[29784]))/2\n",
    "    p=(float(lst[29795])+float(lst[29796]))/2\n",
    "    q=(float(lst[29807])+float(lst[29808]))/2\n",
    "    r=(float(lst[29819])+float(lst[29820]))/2\n",
    "    s=(float(lst[29831])+float(lst[29832]))/2\n",
    "    t=(float(lst[29843])+float(lst[29844]))/2\n",
    "    u=(float(lst[29855])+float(lst[29856]))/2\n",
    "    v=(float(lst[29867])+float(lst[29868]))/2\n",
    "    w=(float(lst[29879])+float(lst[29880]))/2\n",
    "    x=(float(lst[29891])+float(lst[29892]))/2\n",
    "    y=(float(lst[29903])+float(lst[29904]))/2\n",
    "    temp_crn=[a,b,c,d,e,f,g,h,i,j,k,l,m,n,o,p,q,r,s,t,u,v,w,x,y]\n",
    "    print(temp_crn)"
   ]
  },
  {
   "cell_type": "code",
   "execution_count": 118,
   "id": "f0730891",
   "metadata": {},
   "outputs": [
    {
     "name": "stdout",
     "output_type": "stream",
     "text": [
      "[-3.2300000000000004, 1.4800000000000004, -1.0200000000000031, -1.2100000000000009, -0.030000000000001137, 0.5999999999999979, 0.10999999999999943, 6.579999999999998, 7.260000000000002, 7.379999999999999, 3.1199999999999974, 2.25, -0.10999999999999943, -0.8000000000000007, 0.3699999999999992, 0.39000000000000057, 1.0599999999999987, -0.019999999999999574, -1.8699999999999974, -4.329999999999998, -7.34, -8.149999999999999, -6.27, -7.5, -4.780000000000001]\n"
     ]
    }
   ],
   "source": [
    "difference4_laf = []\n",
    "\n",
    "zip_object = zip(temp, temp_crn)\n",
    "for temp_i, temp_crn_i in zip_object:\n",
    "    difference4_laf.append(temp_i-temp_crn_i)\n",
    "\n",
    "print(difference4_laf)"
   ]
  },
  {
   "cell_type": "markdown",
   "id": "a4cb46d7",
   "metadata": {},
   "source": [
    "<font size=\"3\">Monroe, LA: 2000 UTC 13 April 2022-2000 UTC 14 April 2022</font>"
   ]
  },
  {
   "cell_type": "code",
   "execution_count": 119,
   "id": "ec66bc4d",
   "metadata": {},
   "outputs": [
    {
     "name": "stdout",
     "output_type": "stream",
     "text": [
      "[24.08, 23.12, 23.45, 23.57, 23.21, 18.78, 15.84, 13.5, 12.47, 11.42, 11.04, 10.24, 9.94, 9.28, 8.5, 8.48001, 7.98001, 9.61002, 12.02, 14.54, 18.16, 20.22, 22.58, 24.28, 25.03]\n"
     ]
    }
   ],
   "source": [
    "#18 hr hrrr:\n",
    "with open('hrrr_f18_Monroe_LA.txt') as f:\n",
    "    lst=[line.split()[4] for line in f]\n",
    "    temp=[]\n",
    "    for i in lst:\n",
    "        new=i.replace(',',\"\")\n",
    "        temp.append(new)\n",
    "    temp.pop(0)\n",
    "    temp=[float(x) for x in temp]\n",
    "    #print(temp.index(6.91541))\n",
    "    temp=temp[2450:2475]   \n",
    "    print(temp)\n",
    "    #print(len(temp))\n",
    "#full time period is [2015:2112]"
   ]
  },
  {
   "cell_type": "code",
   "execution_count": 120,
   "id": "1718f471",
   "metadata": {},
   "outputs": [
    {
     "name": "stdout",
     "output_type": "stream",
     "text": [
      "[23.7, 22.799999999999997, 22.25, 22.05, 18.9, 18.0, 17.1, 13.1, 11.850000000000001, 10.649999999999999, 9.55, 8.6, 9.45, 9.25, 8.5, 8.5, 8.45, 11.3, 14.0, 16.5, 19.75, 22.450000000000003, 24.6, 25.9, 26.15]\n"
     ]
    }
   ],
   "source": [
    "#Air Temp CRN:\n",
    "with open('CRNS0101-05-2022-LA_Monroe_26_N.txt') as f:\n",
    "    lst=[line.split()[12] for line in f]\n",
    "    \n",
    "    a=(float(lst[29615])+float(lst[29616]))/2\n",
    "    b=(float(lst[29627])+float(lst[29628]))/2\n",
    "    c=(float(lst[29639])+float(lst[29640]))/2\n",
    "    d=(float(lst[29651])+float(lst[29652]))/2\n",
    "    e=(float(lst[29663])+float(lst[29664]))/2\n",
    "    f=(float(lst[29675])+float(lst[29676]))/2\n",
    "    g=(float(lst[29687])+float(lst[29688]))/2\n",
    "    h=(float(lst[29699])+float(lst[29700]))/2\n",
    "    i=(float(lst[29711])+float(lst[29712]))/2\n",
    "    j=(float(lst[29723])+float(lst[29724]))/2\n",
    "    k=(float(lst[29735])+float(lst[29736]))/2\n",
    "    l=(float(lst[29747])+float(lst[29748]))/2\n",
    "    m=(float(lst[29759])+float(lst[29760]))/2\n",
    "    n=(float(lst[29771])+float(lst[29772]))/2\n",
    "    o=(float(lst[29783])+float(lst[29784]))/2\n",
    "    p=(float(lst[29795])+float(lst[29796]))/2\n",
    "    q=(float(lst[29807])+float(lst[29808]))/2\n",
    "    r=(float(lst[29819])+float(lst[29820]))/2\n",
    "    s=(float(lst[29831])+float(lst[29832]))/2\n",
    "    t=(float(lst[29843])+float(lst[29844]))/2\n",
    "    u=(float(lst[29855])+float(lst[29856]))/2\n",
    "    v=(float(lst[29867])+float(lst[29868]))/2\n",
    "    w=(float(lst[29879])+float(lst[29880]))/2\n",
    "    x=(float(lst[29891])+float(lst[29892]))/2\n",
    "    y=(float(lst[29903])+float(lst[29904]))/2\n",
    "    temp_crn=[a,b,c,d,e,f,g,h,i,j,k,l,m,n,o,p,q,r,s,t,u,v,w,x,y]\n",
    "    print(temp_crn)"
   ]
  },
  {
   "cell_type": "code",
   "execution_count": 121,
   "id": "91696836",
   "metadata": {},
   "outputs": [
    {
     "name": "stdout",
     "output_type": "stream",
     "text": [
      "[0.379999999999999, 0.32000000000000384, 1.1999999999999993, 1.5199999999999996, 4.310000000000002, 0.7800000000000011, -1.2600000000000016, 0.40000000000000036, 0.6199999999999992, 0.7700000000000014, 1.4899999999999984, 1.6400000000000006, 0.4900000000000002, 0.02999999999999936, 0.0, -0.019989999999999952, -0.46998999999999924, -1.6899800000000003, -1.9800000000000004, -1.9600000000000009, -1.5899999999999999, -2.230000000000004, -2.020000000000003, -1.6199999999999974, -1.1199999999999974]\n"
     ]
    }
   ],
   "source": [
    "difference4_mon = []\n",
    "\n",
    "zip_object = zip(temp, temp_crn)\n",
    "for temp_i, temp_crn_i in zip_object:\n",
    "    difference4_mon.append(temp_i-temp_crn_i)\n",
    "\n",
    "print(difference4_mon)"
   ]
  },
  {
   "cell_type": "markdown",
   "id": "797ab9bf",
   "metadata": {},
   "source": [
    "<font size=\"3\">Holly Springs, MS: 2300 UTC 13 April 2022-2300 UTC 14 April 2022</font>"
   ]
  },
  {
   "cell_type": "code",
   "execution_count": 122,
   "id": "57f08a6a",
   "metadata": {},
   "outputs": [
    {
     "name": "stdout",
     "output_type": "stream",
     "text": [
      "[21.96, 21.16, 19.99, 19.44, 13.71, 11.61, 10.91, 9.35001, 8.48001, 7.77002, 7.17001, 7.03, 6.64001, 6.56, 8.17001, 11.09, 13.81, 15.75, 18.34, 19.88, 20.54, 20.63, 19.21, 18.36, 17.31]\n"
     ]
    }
   ],
   "source": [
    "#18 hr hrrr:\n",
    "with open('hrrr_f18_Holly Springs_MS.txt') as f:\n",
    "    lst=[line.split()[4] for line in f]\n",
    "    temp=[]\n",
    "    for i in lst:\n",
    "        new=i.replace(',',\"\")\n",
    "        temp.append(new)\n",
    "    temp.pop(0)\n",
    "    temp=[float(x) for x in temp]\n",
    "    #print(temp.index(6.91541))\n",
    "    temp=temp[2453:2478]\n",
    "    print(temp)\n",
    "    #print(len(temp))\n",
    "#full time period is [2015:2112]"
   ]
  },
  {
   "cell_type": "code",
   "execution_count": 123,
   "id": "a1f0089e",
   "metadata": {},
   "outputs": [
    {
     "name": "stdout",
     "output_type": "stream",
     "text": [
      "[17.15, 17.0, 17.05, 17.45, 17.7, 14.850000000000001, 12.6, 11.7, 11.05, 8.649999999999999, 7.95, 7.3, 8.9, 7.0, 10.85, 13.850000000000001, 17.450000000000003, 21.45, 23.9, 25.299999999999997, 25.65, 25.35, 23.9, 22.1, 18.95]\n"
     ]
    }
   ],
   "source": [
    "#Air Temp CRN:\n",
    "with open('CRNS0101-05-2022-MS_Holly_Springs_4_N.txt') as f:\n",
    "    lst=[line.split()[12] for line in f]\n",
    "    \n",
    "    a=(float(lst[29651])+float(lst[29652]))/2\n",
    "    b=(float(lst[29663])+float(lst[29664]))/2\n",
    "    c=(float(lst[29675])+float(lst[29676]))/2\n",
    "    d=(float(lst[29687])+float(lst[29688]))/2\n",
    "    e=(float(lst[29699])+float(lst[29700]))/2\n",
    "    f=(float(lst[29711])+float(lst[29712]))/2\n",
    "    g=(float(lst[29723])+float(lst[29724]))/2\n",
    "    h=(float(lst[29735])+float(lst[29736]))/2\n",
    "    i=(float(lst[29747])+float(lst[29748]))/2\n",
    "    j=(float(lst[29759])+float(lst[29760]))/2\n",
    "    k=(float(lst[29771])+float(lst[29772]))/2\n",
    "    l=(float(lst[29783])+float(lst[29784]))/2\n",
    "    m=(float(lst[29795])+float(lst[29796]))/2\n",
    "    n=(float(lst[29807])+float(lst[29808]))/2\n",
    "    o=(float(lst[29819])+float(lst[29820]))/2\n",
    "    p=(float(lst[29831])+float(lst[29832]))/2\n",
    "    q=(float(lst[29843])+float(lst[29844]))/2\n",
    "    r=(float(lst[29855])+float(lst[29856]))/2\n",
    "    s=(float(lst[29867])+float(lst[29868]))/2\n",
    "    t=(float(lst[29879])+float(lst[29880]))/2\n",
    "    u=(float(lst[29891])+float(lst[29892]))/2\n",
    "    v=(float(lst[29903])+float(lst[29904]))/2\n",
    "    w=(float(lst[29915])+float(lst[29916]))/2\n",
    "    x=(float(lst[29927])+float(lst[29928]))/2\n",
    "    y=(float(lst[29939])+float(lst[29940]))/2\n",
    "    temp_crn=[a,b,c,d,e,f,g,h,i,j,k,l,m,n,o,p,q,r,s,t,u,v,w,x,y]\n",
    "    print(temp_crn)"
   ]
  },
  {
   "cell_type": "code",
   "execution_count": 124,
   "id": "6226fdc5",
   "metadata": {},
   "outputs": [
    {
     "name": "stdout",
     "output_type": "stream",
     "text": [
      "[4.810000000000002, 4.16, 2.9399999999999977, 1.990000000000002, -3.9899999999999984, -3.240000000000002, -1.6899999999999995, -2.34999, -2.5699900000000007, -0.8799799999999989, -0.7799899999999997, -0.2699999999999996, -2.25999, -0.4400000000000004, -2.67999, -2.7600000000000016, -3.6400000000000023, -5.699999999999999, -5.559999999999999, -5.419999999999998, -5.109999999999999, -4.720000000000002, -4.689999999999998, -3.740000000000002, -1.6400000000000006]\n"
     ]
    }
   ],
   "source": [
    "difference4_hol = []\n",
    "\n",
    "zip_object = zip(temp, temp_crn)\n",
    "for temp_i, temp_crn_i in zip_object:\n",
    "    difference4_hol.append(temp_i-temp_crn_i)\n",
    "\n",
    "print(difference4_hol)"
   ]
  },
  {
   "cell_type": "markdown",
   "id": "2580ca75",
   "metadata": {},
   "source": [
    "<font size=\"3\">Newton, MS: 2300 UTC 13 April 2022-2300 UTC 14 April 2022</font>"
   ]
  },
  {
   "cell_type": "code",
   "execution_count": 125,
   "id": "7fe1e234",
   "metadata": {},
   "outputs": [
    {
     "name": "stdout",
     "output_type": "stream",
     "text": [
      "[22.88, 24.34, 24.3, 23.34, 21.93, 21.52, 21.05, 21.07, 19.9, 16.21, 13.92, 12.98, 11.89, 11.6, 12.68, 14.98, 17.04, 19.69, 21.05, 22.82, 26.83, 28.29, 27.78, 26.09, 23.87]\n"
     ]
    }
   ],
   "source": [
    "#18 hr hrrr:\n",
    "with open('hrrr_f18_Newton_MS.txt') as f:\n",
    "    lst=[line.split()[4] for line in f]\n",
    "    temp=[]\n",
    "    for i in lst:\n",
    "        new=i.replace(',',\"\")\n",
    "        temp.append(new)\n",
    "    temp.pop(0)\n",
    "    temp=[float(x) for x in temp]\n",
    "    #print(temp.index(6.91541))\n",
    "    temp=temp[2453:2478]\n",
    "    print(temp)\n",
    "    #print(len(temp))\n",
    "#full time period is [2015:2112]"
   ]
  },
  {
   "cell_type": "code",
   "execution_count": 126,
   "id": "8cd5b339",
   "metadata": {},
   "outputs": [
    {
     "name": "stdout",
     "output_type": "stream",
     "text": [
      "[23.25, 22.85, 22.05, 16.9, 16.95, 16.95, 17.2, 17.2, 17.15, 17.3, 16.0, 14.149999999999999, 11.55, 11.3, 14.65, 18.55, 23.1, 26.799999999999997, 28.65, 30.049999999999997, 30.6, 30.25, 29.65, 27.799999999999997, 24.1]\n"
     ]
    }
   ],
   "source": [
    "#Air Temp CRN:\n",
    "with open('CRNS0101-05-2022-MS_Newton_5_ENE.txt') as f:\n",
    "    lst=[line.split()[12] for line in f]\n",
    "    \n",
    "    a=(float(lst[29651])+float(lst[29652]))/2\n",
    "    b=(float(lst[29663])+float(lst[29664]))/2\n",
    "    c=(float(lst[29675])+float(lst[29676]))/2\n",
    "    d=(float(lst[29687])+float(lst[29688]))/2\n",
    "    e=(float(lst[29699])+float(lst[29700]))/2\n",
    "    f=(float(lst[29711])+float(lst[29712]))/2\n",
    "    g=(float(lst[29723])+float(lst[29724]))/2\n",
    "    h=(float(lst[29735])+float(lst[29736]))/2\n",
    "    i=(float(lst[29747])+float(lst[29748]))/2\n",
    "    j=(float(lst[29759])+float(lst[29760]))/2\n",
    "    k=(float(lst[29771])+float(lst[29772]))/2\n",
    "    l=(float(lst[29783])+float(lst[29784]))/2\n",
    "    m=(float(lst[29795])+float(lst[29796]))/2\n",
    "    n=(float(lst[29807])+float(lst[29808]))/2\n",
    "    o=(float(lst[29819])+float(lst[29820]))/2\n",
    "    p=(float(lst[29831])+float(lst[29832]))/2\n",
    "    q=(float(lst[29843])+float(lst[29844]))/2\n",
    "    r=(float(lst[29855])+float(lst[29856]))/2\n",
    "    s=(float(lst[29867])+float(lst[29868]))/2\n",
    "    t=(float(lst[29879])+float(lst[29880]))/2\n",
    "    u=(float(lst[29891])+float(lst[29892]))/2\n",
    "    v=(float(lst[29903])+float(lst[29904]))/2\n",
    "    w=(float(lst[29915])+float(lst[29916]))/2\n",
    "    x=(float(lst[29927])+float(lst[29928]))/2\n",
    "    y=(float(lst[29939])+float(lst[29940]))/2\n",
    "    temp_crn=[a,b,c,d,e,f,g,h,i,j,k,l,m,n,o,p,q,r,s,t,u,v,w,x,y]\n",
    "    print(temp_crn)"
   ]
  },
  {
   "cell_type": "code",
   "execution_count": 127,
   "id": "e75f9641",
   "metadata": {},
   "outputs": [
    {
     "name": "stdout",
     "output_type": "stream",
     "text": [
      "[-0.370000000000001, 1.4899999999999984, 2.25, 6.440000000000001, 4.98, 4.57, 3.8500000000000014, 3.870000000000001, 2.75, -1.0899999999999999, -2.08, -1.1699999999999982, 0.33999999999999986, 0.29999999999999893, -1.9700000000000006, -3.5700000000000003, -6.060000000000002, -7.109999999999996, -7.599999999999998, -7.229999999999997, -3.770000000000003, -1.9600000000000009, -1.8699999999999974, -1.7099999999999973, -0.23000000000000043]\n"
     ]
    }
   ],
   "source": [
    "difference4_new = []\n",
    "\n",
    "zip_object = zip(temp, temp_crn)\n",
    "for temp_i, temp_crn_i in zip_object:\n",
    "    difference4_new.append(temp_i-temp_crn_i)\n",
    "\n",
    "print(difference4_new)"
   ]
  },
  {
   "cell_type": "markdown",
   "id": "a7d0e1e9",
   "metadata": {},
   "source": [
    "<font size=\"3\">Gainesville, AL: 0200 UTC 14 April 2022-0200 UTC 15 April 2022</font>"
   ]
  },
  {
   "cell_type": "code",
   "execution_count": 128,
   "id": "b14a68f9",
   "metadata": {},
   "outputs": [
    {
     "name": "stdout",
     "output_type": "stream",
     "text": [
      "[23.93, 23.62, 21.85, 21.75, 19.07, 20.23, 18.98, 15.36, 14.52, 12.92, 13.1, 14.29, 16.33, 18.43, 20.02, 21.97, 23.26, 22.76, 22.45, 21.82, 21.05, 20.31, 17.79, 15.05, 14.15]\n"
     ]
    }
   ],
   "source": [
    "#18 hr hrrr:\n",
    "with open('hrrr_f18_Gainesville_AL (1).txt') as f:\n",
    "    lst=[line.split()[4] for line in f]\n",
    "    temp=[]\n",
    "    for i in lst:\n",
    "        new=i.replace(',',\"\")\n",
    "        temp.append(new)\n",
    "    temp.pop(0)\n",
    "    temp=[float(x) for x in temp]\n",
    "    #print(temp.index(6.91541))\n",
    "    temp=temp[2456:2481]\n",
    "    print(temp)\n",
    "    #print(len(temp))\n",
    "#full time period is [2015:2112]"
   ]
  },
  {
   "cell_type": "code",
   "execution_count": 129,
   "id": "6792cddd",
   "metadata": {},
   "outputs": [
    {
     "name": "stdout",
     "output_type": "stream",
     "text": [
      "[-9999.0, -9999.0, -9999.0, -9999.0, -9999.0, -9999.0, -9999.0, -9999.0, -9999.0, -9999.0, -9999.0, -9999.0, -9999.0, -9999.0, -9999.0, -9999.0, -9999.0, -9999.0, -9999.0, -9999.0, -9999.0, -9999.0, -9999.0, -9999.0, -9999.0]\n"
     ]
    }
   ],
   "source": [
    "#Air Temp CRN:\n",
    "with open('CRNS0101-05-2022-AL_Gainesville_2_NE.txt') as f:\n",
    "    lst=[line.split()[12] for line in f]\n",
    "    \n",
    "    a=(float(lst[29687])+float(lst[29688]))/2\n",
    "    b=(float(lst[29699])+float(lst[29700]))/2\n",
    "    c=(float(lst[29711])+float(lst[29712]))/2\n",
    "    d=(float(lst[29723])+float(lst[29724]))/2\n",
    "    e=(float(lst[29735])+float(lst[29736]))/2\n",
    "    f=(float(lst[29747])+float(lst[29748]))/2\n",
    "    g=(float(lst[29759])+float(lst[29760]))/2\n",
    "    h=(float(lst[29771])+float(lst[29772]))/2\n",
    "    i=(float(lst[29783])+float(lst[29784]))/2\n",
    "    j=(float(lst[29795])+float(lst[29796]))/2\n",
    "    k=(float(lst[29807])+float(lst[29808]))/2\n",
    "    l=(float(lst[29819])+float(lst[29820]))/2\n",
    "    m=(float(lst[29831])+float(lst[29832]))/2\n",
    "    n=(float(lst[29843])+float(lst[29844]))/2\n",
    "    o=(float(lst[29855])+float(lst[29856]))/2\n",
    "    p=(float(lst[29867])+float(lst[29868]))/2\n",
    "    q=(float(lst[29879])+float(lst[29880]))/2\n",
    "    r=(float(lst[29891])+float(lst[29892]))/2\n",
    "    s=(float(lst[29903])+float(lst[29904]))/2\n",
    "    t=(float(lst[29915])+float(lst[29916]))/2\n",
    "    u=(float(lst[29927])+float(lst[29928]))/2\n",
    "    v=(float(lst[29939])+float(lst[29940]))/2\n",
    "    w=(float(lst[29951])+float(lst[29952]))/2\n",
    "    x=(float(lst[29963])+float(lst[29964]))/2\n",
    "    y=(float(lst[29975])+float(lst[29976]))/2\n",
    "    temp_crn=[a,b,c,d,e,f,g,h,i,j,k,l,m,n,o,p,q,r,s,t,u,v,w,x,y]\n",
    "    print(temp_crn)"
   ]
  },
  {
   "cell_type": "code",
   "execution_count": 130,
   "id": "c9db90a8",
   "metadata": {},
   "outputs": [],
   "source": [
    "# difference4_gai = []\n",
    "\n",
    "# zip_object = zip(temp, temp_crn)\n",
    "# for temp_i, temp_crn_i in zip_object:\n",
    "#     difference4_gai.append(temp_i-temp_crn_i)\n",
    "\n",
    "# print(difference4_gai)"
   ]
  },
  {
   "cell_type": "markdown",
   "id": "cdbcd1b4",
   "metadata": {},
   "source": [
    "<font size=\"3\">Fairhope, AL: 0200 UTC 14 April 2022-0200 UTC 15 April 2022</font>"
   ]
  },
  {
   "cell_type": "code",
   "execution_count": 131,
   "id": "f28743e3",
   "metadata": {},
   "outputs": [
    {
     "name": "stdout",
     "output_type": "stream",
     "text": [
      "[21.84, 21.51, 21.49, 21.78, 21.27, 21.17, 19.1, 18.66, 17.96, 18.4, 18.93, 19.95, 20.3, 20.76, 19.73, 25.0, 25.36, 28.61, 25.89, 21.1, 23.02, 20.28, 19.64, 20.06, 19.16]\n"
     ]
    }
   ],
   "source": [
    "#18 hr hrrr:\n",
    "with open('hrrr_f18_Fairhope_AL.txt') as f:\n",
    "    lst=[line.split()[4] for line in f]\n",
    "    temp=[]\n",
    "    for i in lst:\n",
    "        new=i.replace(',',\"\")\n",
    "        temp.append(new)\n",
    "    temp.pop(0)\n",
    "    temp=[float(x) for x in temp]\n",
    "    #print(temp.index(6.91541))\n",
    "    temp=temp[2456:2481]\n",
    "    print(temp)\n",
    "    #print(len(temp))\n",
    "#full time period is [2015:2112]"
   ]
  },
  {
   "cell_type": "code",
   "execution_count": 132,
   "id": "39bb1d69",
   "metadata": {},
   "outputs": [
    {
     "name": "stdout",
     "output_type": "stream",
     "text": [
      "[21.65, 21.65, 21.299999999999997, 21.0, 17.6, 17.7, 17.8, 17.7, 17.5, 17.4, 16.85, 18.75, 19.15, 20.15, 21.9, 20.95, 23.950000000000003, 26.049999999999997, 27.95, 25.1, 24.75, 22.700000000000003, 19.15, 16.05, 15.2]\n"
     ]
    }
   ],
   "source": [
    "#Air Temp CRN:\n",
    "with open('CRNS0101-05-2022-AL_Fairhope_3_NE.txt') as f:\n",
    "    lst=[line.split()[12] for line in f]\n",
    "    \n",
    "    a=(float(lst[29687])+float(lst[29688]))/2\n",
    "    b=(float(lst[29699])+float(lst[29700]))/2\n",
    "    c=(float(lst[29711])+float(lst[29712]))/2\n",
    "    d=(float(lst[29723])+float(lst[29724]))/2\n",
    "    e=(float(lst[29735])+float(lst[29736]))/2\n",
    "    f=(float(lst[29747])+float(lst[29748]))/2\n",
    "    g=(float(lst[29759])+float(lst[29760]))/2\n",
    "    h=(float(lst[29771])+float(lst[29772]))/2\n",
    "    i=(float(lst[29783])+float(lst[29784]))/2\n",
    "    j=(float(lst[29795])+float(lst[29796]))/2\n",
    "    k=(float(lst[29807])+float(lst[29808]))/2\n",
    "    l=(float(lst[29819])+float(lst[29820]))/2\n",
    "    m=(float(lst[29831])+float(lst[29832]))/2\n",
    "    n=(float(lst[29843])+float(lst[29844]))/2\n",
    "    o=(float(lst[29855])+float(lst[29856]))/2\n",
    "    p=(float(lst[29867])+float(lst[29868]))/2\n",
    "    q=(float(lst[29879])+float(lst[29880]))/2\n",
    "    r=(float(lst[29891])+float(lst[29892]))/2\n",
    "    s=(float(lst[29903])+float(lst[29904]))/2\n",
    "    t=(float(lst[29915])+float(lst[29916]))/2\n",
    "    u=(float(lst[29927])+float(lst[29928]))/2\n",
    "    v=(float(lst[29939])+float(lst[29940]))/2\n",
    "    w=(float(lst[29951])+float(lst[29952]))/2\n",
    "    x=(float(lst[29963])+float(lst[29964]))/2\n",
    "    y=(float(lst[29975])+float(lst[29976]))/2\n",
    "    temp_crn=[a,b,c,d,e,f,g,h,i,j,k,l,m,n,o,p,q,r,s,t,u,v,w,x,y]\n",
    "    print(temp_crn)"
   ]
  },
  {
   "cell_type": "code",
   "execution_count": 133,
   "id": "2e2c6057",
   "metadata": {},
   "outputs": [
    {
     "name": "stdout",
     "output_type": "stream",
     "text": [
      "[0.19000000000000128, -0.13999999999999702, 0.19000000000000128, 0.7800000000000011, 3.669999999999998, 3.4700000000000024, 1.3000000000000007, 0.9600000000000009, 0.46000000000000085, 1.0, 2.0799999999999983, 1.1999999999999993, 1.1500000000000021, 0.610000000000003, -2.169999999999998, 4.050000000000001, 1.4099999999999966, 2.5600000000000023, -2.0599999999999987, -4.0, -1.7300000000000004, -2.4200000000000017, 0.490000000000002, 4.009999999999998, 3.960000000000001]\n"
     ]
    }
   ],
   "source": [
    "difference4_fai = []\n",
    "\n",
    "zip_object = zip(temp, temp_crn)\n",
    "for temp_i, temp_crn_i in zip_object:\n",
    "    difference4_fai.append(temp_i-temp_crn_i)\n",
    "\n",
    "print(difference4_fai)"
   ]
  },
  {
   "cell_type": "markdown",
   "id": "ba62c881",
   "metadata": {},
   "source": [
    "<font size=\"3\">Selma, AL: 0200 UTC 14 April 2022-0200 UTC 15 April 2022\n",
    "</font>"
   ]
  },
  {
   "cell_type": "code",
   "execution_count": 134,
   "id": "935d8c80",
   "metadata": {},
   "outputs": [
    {
     "name": "stdout",
     "output_type": "stream",
     "text": [
      "[20.37, 20.25, 20.35, 20.3, 19.94, 20.14, 17.76, 17.69, 19.05, 17.41, 17.32, 17.08, 16.86, 18.17, 21.56, 22.42, 22.95, 22.28, 24.76, 23.22, 20.91, 20.23, 18.0, 16.01, 14.94]\n"
     ]
    }
   ],
   "source": [
    "#18 hr hrrr:\n",
    "with open('hrrr_f18_Selma_AL.txt') as f:\n",
    "    lst=[line.split()[4] for line in f]\n",
    "    temp=[]\n",
    "    for i in lst:\n",
    "        new=i.replace(',',\"\")\n",
    "        temp.append(new)\n",
    "    temp.pop(0)\n",
    "    temp=[float(x) for x in temp]\n",
    "    #print(temp.index(6.91541))\n",
    "    temp=temp[2456:2481]\n",
    "    print(temp)"
   ]
  },
  {
   "cell_type": "code",
   "execution_count": 135,
   "id": "2fea209b",
   "metadata": {},
   "outputs": [
    {
     "name": "stdout",
     "output_type": "stream",
     "text": [
      "[21.6, 21.6, 17.9, 17.55, 17.05, 17.2, 17.35, 17.4, 17.4, 17.4, 16.950000000000003, 17.950000000000003, 21.200000000000003, 25.0, 28.5, 30.2, 31.6, 31.950000000000003, 32.1, 30.75, 28.4, 24.4, 20.0, 16.65, 15.05]\n"
     ]
    }
   ],
   "source": [
    "#Air Temp CRN:\n",
    "with open('CRNS0101-05-2022-AL_Selma_13_WNW.txt') as f:\n",
    "    lst=[line.split()[12] for line in f]\n",
    "    \n",
    "    a=(float(lst[29687])+float(lst[29688]))/2\n",
    "    b=(float(lst[29699])+float(lst[29700]))/2\n",
    "    c=(float(lst[29711])+float(lst[29712]))/2\n",
    "    d=(float(lst[29723])+float(lst[29724]))/2\n",
    "    e=(float(lst[29735])+float(lst[29736]))/2\n",
    "    f=(float(lst[29747])+float(lst[29748]))/2\n",
    "    g=(float(lst[29759])+float(lst[29760]))/2\n",
    "    h=(float(lst[29771])+float(lst[29772]))/2\n",
    "    i=(float(lst[29783])+float(lst[29784]))/2\n",
    "    j=(float(lst[29795])+float(lst[29796]))/2\n",
    "    k=(float(lst[29807])+float(lst[29808]))/2\n",
    "    l=(float(lst[29819])+float(lst[29820]))/2\n",
    "    m=(float(lst[29831])+float(lst[29832]))/2\n",
    "    n=(float(lst[29843])+float(lst[29844]))/2\n",
    "    o=(float(lst[29855])+float(lst[29856]))/2\n",
    "    p=(float(lst[29867])+float(lst[29868]))/2\n",
    "    q=(float(lst[29879])+float(lst[29880]))/2\n",
    "    r=(float(lst[29891])+float(lst[29892]))/2\n",
    "    s=(float(lst[29903])+float(lst[29904]))/2\n",
    "    t=(float(lst[29915])+float(lst[29916]))/2\n",
    "    u=(float(lst[29927])+float(lst[29928]))/2\n",
    "    v=(float(lst[29939])+float(lst[29940]))/2\n",
    "    w=(float(lst[29951])+float(lst[29952]))/2\n",
    "    x=(float(lst[29963])+float(lst[29964]))/2\n",
    "    y=(float(lst[29975])+float(lst[29976]))/2\n",
    "    temp_crn=[a,b,c,d,e,f,g,h,i,j,k,l,m,n,o,p,q,r,s,t,u,v,w,x,y]\n",
    "    print(temp_crn)"
   ]
  },
  {
   "cell_type": "code",
   "execution_count": 136,
   "id": "72c720a0",
   "metadata": {},
   "outputs": [
    {
     "name": "stdout",
     "output_type": "stream",
     "text": [
      "[-1.2300000000000004, -1.3500000000000014, 2.450000000000003, 2.75, 2.8900000000000006, 2.9400000000000013, 0.41000000000000014, 0.2900000000000027, 1.6500000000000021, 0.010000000000001563, 0.36999999999999744, -0.8700000000000045, -4.340000000000003, -6.829999999999998, -6.940000000000001, -7.779999999999998, -8.650000000000002, -9.670000000000002, -7.34, -7.530000000000001, -7.489999999999998, -4.169999999999998, -2.0, -0.639999999999997, -0.11000000000000121]\n",
      "25\n"
     ]
    }
   ],
   "source": [
    "difference4_sel = []\n",
    "\n",
    "zip_object = zip(temp, temp_crn)\n",
    "for temp_i, temp_crn_i in zip_object:\n",
    "    difference4_sel.append(temp_i-temp_crn_i)\n",
    "\n",
    "print(difference4_sel)\n",
    "print(len(difference4_sel))"
   ]
  },
  {
   "cell_type": "markdown",
   "id": "3a2e6fc9",
   "metadata": {},
   "source": [
    "<font size=\"3\">Bowling Green, KY: 0200 UTC 14 April 2022-0200 UTC 15 April 2022</font>"
   ]
  },
  {
   "cell_type": "code",
   "execution_count": 137,
   "id": "c761d214",
   "metadata": {},
   "outputs": [
    {
     "name": "stdout",
     "output_type": "stream",
     "text": [
      "[16.28, 17.48, 16.24, 17.42, 10.88, 9.22, 7.70999, 7.60001, 6.39001, 5.67001, 5.62, 7.76001, 10.41, 12.65, 15.06, 17.05, 17.83, 17.67, 18.09, 17.52, 16.14, 14.28, 12.08, 10.18, 8.89001]\n"
     ]
    }
   ],
   "source": [
    "#18 hr hrrr:\n",
    "with open('hrrr_f18_Bowling Green_KY.txt') as f:\n",
    "    lst=[line.split()[4] for line in f]\n",
    "    temp=[]\n",
    "    for i in lst:\n",
    "        new=i.replace(',',\"\")\n",
    "        temp.append(new)\n",
    "    temp.pop(0)\n",
    "    temp=[float(x) for x in temp]\n",
    "    #print(temp.index(6.91541))\n",
    "    temp=temp[2456:2481]\n",
    "    print(temp)\n",
    "    #print(len(temp))\n",
    "#full time period is [2015:2112]"
   ]
  },
  {
   "cell_type": "code",
   "execution_count": 138,
   "id": "5a571109",
   "metadata": {},
   "outputs": [
    {
     "name": "stdout",
     "output_type": "stream",
     "text": [
      "[16.1, 15.649999999999999, 15.350000000000001, 15.5, 12.15, 9.95, 8.8, 8.05, 6.199999999999999, 4.3, 5.35, 9.95, 13.399999999999999, 16.85, 20.75, 23.3, 25.0, 25.95, 24.5, 23.05, 18.950000000000003, 14.1, 8.100000000000001, 5.9, 5.2]\n"
     ]
    }
   ],
   "source": [
    "#Air Temp CRN:\n",
    "with open('CRNS0101-05-2022-KY_Bowling_Green_21_NNE.txt') as f:\n",
    "    lst=[line.split()[12] for line in f]\n",
    "    \n",
    "    a=(float(lst[29687])+float(lst[29688]))/2\n",
    "    b=(float(lst[29699])+float(lst[29700]))/2\n",
    "    c=(float(lst[29711])+float(lst[29712]))/2\n",
    "    d=(float(lst[29723])+float(lst[29724]))/2\n",
    "    e=(float(lst[29735])+float(lst[29736]))/2\n",
    "    f=(float(lst[29747])+float(lst[29748]))/2\n",
    "    g=(float(lst[29759])+float(lst[29760]))/2\n",
    "    h=(float(lst[29771])+float(lst[29772]))/2\n",
    "    i=(float(lst[29783])+float(lst[29784]))/2\n",
    "    j=(float(lst[29795])+float(lst[29796]))/2\n",
    "    k=(float(lst[29807])+float(lst[29808]))/2\n",
    "    l=(float(lst[29819])+float(lst[29820]))/2\n",
    "    m=(float(lst[29831])+float(lst[29832]))/2\n",
    "    n=(float(lst[29843])+float(lst[29844]))/2\n",
    "    o=(float(lst[29855])+float(lst[29856]))/2\n",
    "    p=(float(lst[29867])+float(lst[29868]))/2\n",
    "    q=(float(lst[29879])+float(lst[29880]))/2\n",
    "    r=(float(lst[29891])+float(lst[29892]))/2\n",
    "    s=(float(lst[29903])+float(lst[29904]))/2\n",
    "    t=(float(lst[29915])+float(lst[29916]))/2\n",
    "    u=(float(lst[29927])+float(lst[29928]))/2\n",
    "    v=(float(lst[29939])+float(lst[29940]))/2\n",
    "    w=(float(lst[29951])+float(lst[29952]))/2\n",
    "    x=(float(lst[29963])+float(lst[29964]))/2\n",
    "    y=(float(lst[29975])+float(lst[29976]))/2\n",
    "    temp_crn=[a,b,c,d,e,f,g,h,i,j,k,l,m,n,o,p,q,r,s,t,u,v,w,x,y]\n",
    "    print(temp_crn)"
   ]
  },
  {
   "cell_type": "code",
   "execution_count": 139,
   "id": "214cf6fd",
   "metadata": {},
   "outputs": [
    {
     "name": "stdout",
     "output_type": "stream",
     "text": [
      "[0.17999999999999972, 1.8300000000000018, 0.889999999999997, 1.9200000000000017, -1.2699999999999996, -0.7299999999999986, -1.0900100000000004, -0.44999000000000056, 0.1900100000000009, 1.3700100000000006, 0.27000000000000046, -2.189989999999999, -2.9899999999999984, -4.200000000000001, -5.6899999999999995, -6.25, -7.170000000000002, -8.279999999999998, -6.41, -5.530000000000001, -2.8100000000000023, 0.17999999999999972, 3.9799999999999986, 4.279999999999999, 3.69001]\n"
     ]
    }
   ],
   "source": [
    "difference4_bow = []\n",
    "\n",
    "zip_object = zip(temp, temp_crn)\n",
    "for temp_i, temp_crn_i in zip_object:\n",
    "    difference4_bow.append(temp_i-temp_crn_i)\n",
    "\n",
    "print(difference4_bow)"
   ]
  },
  {
   "cell_type": "markdown",
   "id": "d5df1525",
   "metadata": {},
   "source": [
    "<font size=\"3\">Gadsden, AL: 0200 UTC 14 April 2022-0200 UTC 15 April 2022\n",
    "</font>"
   ]
  },
  {
   "cell_type": "code",
   "execution_count": 140,
   "id": "4a936525",
   "metadata": {},
   "outputs": [
    {
     "name": "stdout",
     "output_type": "stream",
     "text": [
      "[21.45, 20.35, 19.89, 18.75, 16.82, 16.61, 16.22, 16.86, 16.55, 16.63, 13.84, 12.58, 13.62, 16.88, 18.35, 19.74, 20.81, 21.46, 21.92, 22.41, 18.25, 16.65, 14.54, 12.98, 11.92]\n"
     ]
    }
   ],
   "source": [
    "#18 hr hrrr:\n",
    "with open('hrrr_f18_Gadsden_AL.txt') as f:\n",
    "    lst=[line.split()[4] for line in f]\n",
    "    temp=[]\n",
    "    for i in lst:\n",
    "        new=i.replace(',',\"\")\n",
    "        temp.append(new)\n",
    "    temp.pop(0)\n",
    "    temp=[float(x) for x in temp]\n",
    "    #print(temp.index(6.91541))\n",
    "    temp=temp[2456:2481]\n",
    "    print(temp)\n",
    "    #print(len(temp))\n",
    "#full time period is [2015:2112]"
   ]
  },
  {
   "cell_type": "code",
   "execution_count": 141,
   "id": "920d128d",
   "metadata": {},
   "outputs": [
    {
     "name": "stdout",
     "output_type": "stream",
     "text": [
      "[18.45, 18.4, 17.200000000000003, 16.8, 15.45, 15.05, 15.0, 15.2, 15.2, 15.2, 13.4, 13.75, 16.05, 16.65, 22.700000000000003, 24.85, 24.85, 24.799999999999997, 25.05, 22.65, 20.549999999999997, 17.450000000000003, 13.8, 10.8, 9.5]\n"
     ]
    }
   ],
   "source": [
    "#Air Temp CRN:\n",
    "with open('CRNS0101-05-2022-AL_Gadsden_19_N.txt') as f:\n",
    "    lst=[line.split()[12] for line in f]\n",
    "    \n",
    "    a=(float(lst[29687])+float(lst[29688]))/2\n",
    "    b=(float(lst[29699])+float(lst[29700]))/2\n",
    "    c=(float(lst[29711])+float(lst[29712]))/2\n",
    "    d=(float(lst[29723])+float(lst[29724]))/2\n",
    "    e=(float(lst[29735])+float(lst[29736]))/2\n",
    "    f=(float(lst[29747])+float(lst[29748]))/2\n",
    "    g=(float(lst[29759])+float(lst[29760]))/2\n",
    "    h=(float(lst[29771])+float(lst[29772]))/2\n",
    "    i=(float(lst[29783])+float(lst[29784]))/2\n",
    "    j=(float(lst[29795])+float(lst[29796]))/2\n",
    "    k=(float(lst[29807])+float(lst[29808]))/2\n",
    "    l=(float(lst[29819])+float(lst[29820]))/2\n",
    "    m=(float(lst[29831])+float(lst[29832]))/2\n",
    "    n=(float(lst[29843])+float(lst[29844]))/2\n",
    "    o=(float(lst[29855])+float(lst[29856]))/2\n",
    "    p=(float(lst[29867])+float(lst[29868]))/2\n",
    "    q=(float(lst[29879])+float(lst[29880]))/2\n",
    "    r=(float(lst[29891])+float(lst[29892]))/2\n",
    "    s=(float(lst[29903])+float(lst[29904]))/2\n",
    "    t=(float(lst[29915])+float(lst[29916]))/2\n",
    "    u=(float(lst[29927])+float(lst[29928]))/2\n",
    "    v=(float(lst[29939])+float(lst[29940]))/2\n",
    "    w=(float(lst[29951])+float(lst[29952]))/2\n",
    "    x=(float(lst[29963])+float(lst[29964]))/2\n",
    "    y=(float(lst[29975])+float(lst[29976]))/2\n",
    "    temp_crn=[a,b,c,d,e,f,g,h,i,j,k,l,m,n,o,p,q,r,s,t,u,v,w,x,y]\n",
    "    print(temp_crn)"
   ]
  },
  {
   "cell_type": "code",
   "execution_count": 142,
   "id": "7476701f",
   "metadata": {},
   "outputs": [
    {
     "name": "stdout",
     "output_type": "stream",
     "text": [
      "[3.0, 1.9500000000000028, 2.6899999999999977, 1.9499999999999993, 1.370000000000001, 1.5599999999999987, 1.2199999999999989, 1.6600000000000001, 1.3500000000000014, 1.4299999999999997, 0.4399999999999995, -1.17, -2.4300000000000015, 0.23000000000000043, -4.350000000000001, -5.110000000000003, -4.040000000000003, -3.3399999999999963, -3.129999999999999, -0.23999999999999844, -2.299999999999997, -0.8000000000000043, 0.7399999999999984, 2.1799999999999997, 2.42]\n"
     ]
    }
   ],
   "source": [
    "difference4_gad = []\n",
    "\n",
    "zip_object = zip(temp, temp_crn)\n",
    "for temp_i, temp_crn_i in zip_object:\n",
    "    difference4_gad.append(temp_i-temp_crn_i)\n",
    "\n",
    "print(difference4_gad)"
   ]
  },
  {
   "cell_type": "markdown",
   "id": "047f5261",
   "metadata": {},
   "source": [
    "<font size=\"3\">Newton, GA: 0600 UTC 14 April 2022-0600 UTC 15 April 2022\n",
    "</font>"
   ]
  },
  {
   "cell_type": "code",
   "execution_count": 143,
   "id": "5719d112",
   "metadata": {},
   "outputs": [
    {
     "name": "stdout",
     "output_type": "stream",
     "text": [
      "[17.25, 16.32, 16.03, 15.37, 15.96, 18.03, 17.32, 18.98, 21.04, 27.97, 28.38, 31.63, 30.62, 30.93, 31.18, 28.28, 28.19, 21.28, 21.12, 23.36, 22.31, 22.03, 20.47, 18.69, 17.99]\n"
     ]
    }
   ],
   "source": [
    "#18 hr hrrr:\n",
    "with open('hrrr_f18_Newton_GA.txt') as f:\n",
    "    lst=[line.split()[4] for line in f]\n",
    "    temp=[]\n",
    "    for i in lst:\n",
    "        new=i.replace(',',\"\")\n",
    "        temp.append(new)\n",
    "    temp.pop(0)\n",
    "    temp=[float(x) for x in temp]\n",
    "    #print(temp.index(6.91541))\n",
    "    temp=temp[2460:2485]\n",
    "    print(temp)\n",
    "    #print(len(temp))\n",
    "#full time period is [2015:2112]"
   ]
  },
  {
   "cell_type": "code",
   "execution_count": 144,
   "id": "4fd3dae9",
   "metadata": {},
   "outputs": [
    {
     "name": "stdout",
     "output_type": "stream",
     "text": [
      "[15.45, 15.05, 15.0, 15.2, 15.2, 15.2, 13.4, 13.75, 16.05, 16.65, 22.700000000000003, 24.85, 24.85, 24.799999999999997, 25.05, 22.65, 20.549999999999997, 17.450000000000003, 13.8, 10.8, 9.5, 8.5, 7.449999999999999, 6.800000000000001, 6.699999999999999]\n"
     ]
    }
   ],
   "source": [
    "#Air Temp CRN:\n",
    "with open('CRNS0101-05-2022-AL_Gadsden_19_N.txt') as f:\n",
    "    lst=[line.split()[12] for line in f]\n",
    "    \n",
    "    a=(float(lst[29735])+float(lst[29736]))/2\n",
    "    b=(float(lst[29747])+float(lst[29748]))/2\n",
    "    c=(float(lst[29759])+float(lst[29760]))/2\n",
    "    d=(float(lst[29771])+float(lst[29772]))/2\n",
    "    e=(float(lst[29783])+float(lst[29784]))/2\n",
    "    f=(float(lst[29795])+float(lst[29796]))/2\n",
    "    g=(float(lst[29807])+float(lst[29808]))/2\n",
    "    h=(float(lst[29819])+float(lst[29820]))/2\n",
    "    i=(float(lst[29831])+float(lst[29832]))/2\n",
    "    j=(float(lst[29843])+float(lst[29844]))/2\n",
    "    k=(float(lst[29855])+float(lst[29856]))/2\n",
    "    l=(float(lst[29867])+float(lst[29868]))/2\n",
    "    m=(float(lst[29879])+float(lst[29880]))/2\n",
    "    n=(float(lst[29891])+float(lst[29892]))/2\n",
    "    o=(float(lst[29903])+float(lst[29904]))/2\n",
    "    p=(float(lst[29915])+float(lst[29916]))/2\n",
    "    q=(float(lst[29927])+float(lst[29928]))/2\n",
    "    r=(float(lst[29939])+float(lst[29940]))/2\n",
    "    s=(float(lst[29951])+float(lst[29952]))/2\n",
    "    t=(float(lst[29963])+float(lst[29964]))/2\n",
    "    u=(float(lst[29975])+float(lst[29976]))/2\n",
    "    v=(float(lst[29987])+float(lst[29988]))/2\n",
    "    w=(float(lst[29999])+float(lst[30000]))/2\n",
    "    x=(float(lst[30011])+float(lst[30012]))/2\n",
    "    y=(float(lst[30023])+float(lst[30024]))/2\n",
    "    temp_crn=[a,b,c,d,e,f,g,h,i,j,k,l,m,n,o,p,q,r,s,t,u,v,w,x,y]\n",
    "    print(temp_crn)"
   ]
  },
  {
   "cell_type": "code",
   "execution_count": 145,
   "id": "37b874ca",
   "metadata": {},
   "outputs": [
    {
     "name": "stdout",
     "output_type": "stream",
     "text": [
      "[1.8000000000000007, 1.2699999999999996, 1.0300000000000011, 0.16999999999999993, 0.7600000000000016, 2.830000000000002, 3.92, 5.23, 4.989999999999998, 11.32, 5.679999999999996, 6.779999999999998, 5.77, 6.130000000000003, 6.129999999999999, 5.630000000000003, 7.640000000000004, 3.8299999999999983, 7.32, 12.559999999999999, 12.809999999999999, 13.530000000000001, 13.02, 11.89, 11.29]\n"
     ]
    }
   ],
   "source": [
    "difference4_newt = []\n",
    "\n",
    "zip_object = zip(temp, temp_crn)\n",
    "for temp_i, temp_crn_i in zip_object:\n",
    "    difference4_newt.append(temp_i-temp_crn_i)\n",
    "\n",
    "print(difference4_newt)"
   ]
  },
  {
   "cell_type": "code",
   "execution_count": 146,
   "id": "80548ed7",
   "metadata": {},
   "outputs": [
    {
     "name": "stdout",
     "output_type": "stream",
     "text": [
      "25\n"
     ]
    }
   ],
   "source": [
    "hour=[]\n",
    "for i in range(-12,13,1):\n",
    "    hour.append(i)\n",
    "    i+=1\n",
    "print(len(hour))"
   ]
  },
  {
   "cell_type": "code",
   "execution_count": 147,
   "id": "d5fd370b",
   "metadata": {},
   "outputs": [
    {
     "name": "stdout",
     "output_type": "stream",
     "text": [
      "[ 2.32454545  2.32636364  2.17909091  2.38636364  2.45272727  2.33909091\n",
      "  2.30636364  1.96636364  1.31636364  1.70181818  0.91272727  1.33\n",
      "  1.1         0.86636364  0.19272727 -0.43636273 -0.811      -1.143996\n",
      " -0.658994   -1.192994   -1.717998   -1.79726909 -2.41999818 -2.64181364\n",
      " -2.15726909]\n",
      "[2.13260985 1.77147741 1.52868603 1.61819918 1.77211784 1.84091605\n",
      " 1.55913305 1.80596624 1.82706557 1.10385126 1.99049601 2.18661632\n",
      " 2.02242429 1.64384401 1.02391487 1.3560993  2.29974977 2.3216492\n",
      " 1.94202256 2.76199284 3.21047835 2.47505089 2.22470644 2.48417072\n",
      " 2.36321772]\n"
     ]
    },
    {
     "name": "stderr",
     "output_type": "stream",
     "text": [
      "C:\\Users\\panwalaf\\AppData\\Local\\Temp\\ipykernel_16856\\2334402417.py:3: UserWarning: Warning: converting a masked element to nan.\n",
      "  c1 = np.array([difference1_sal,difference1_bat,difference1_laf,difference1_mon,difference1_hol,difference1_new,difference1_fai,difference1_sel,difference1_bow,difference1_gad,difference1_newt])\n",
      "C:\\Users\\panwalaf\\AppData\\Local\\Temp\\ipykernel_16856\\2334402417.py:8: UserWarning: Warning: converting a masked element to nan.\n",
      "  b1 = np.array([difference1_sal,difference1_bat,difference1_laf,difference1_mon,difference1_hol,difference1_new,difference1_fai,difference1_sel,difference1_bow,difference1_gad,difference1_newt])\n"
     ]
    },
    {
     "data": {
      "text/plain": [
       "25"
      ]
     },
     "execution_count": 147,
     "metadata": {},
     "output_type": "execute_result"
    }
   ],
   "source": [
    "# data = np.array([difference1_sal,difference1_sel,difference1_mon])\n",
    "# np.ma.average(data, axis=0)\n",
    "c1 = np.array([difference1_sal,difference1_bat,difference1_laf,difference1_mon,difference1_hol,difference1_new,difference1_fai,difference1_sel,difference1_bow,difference1_gad,difference1_newt])\n",
    "c1=np.nanmean(c1, axis=0)\n",
    "print(c1)\n",
    "len(c1)\n",
    "\n",
    "b1 = np.array([difference1_sal,difference1_bat,difference1_laf,difference1_mon,difference1_hol,difference1_new,difference1_fai,difference1_sel,difference1_bow,difference1_gad,difference1_newt])\n",
    "b1=np.nanstd(b1, axis=0)\n",
    "print(b1)\n",
    "len(b1)"
   ]
  },
  {
   "cell_type": "code",
   "execution_count": 148,
   "id": "7d6e3e43",
   "metadata": {},
   "outputs": [
    {
     "data": {
      "image/png": "[encoded data removed]",
      "text/plain": [
       "<Figure size 792x396 with 1 Axes>"
      ]
     },
     "metadata": {},
     "output_type": "display_data"
    }
   ],
   "source": [
    "plt.style.use('seaborn-whitegrid')\n",
    "plt.rcParams[\"figure.figsize\"] = [11.00, 5.50]\n",
    "plt.rcParams[\"figure.autolayout\"] = True\n",
    "plt.yticks(np.arange(-5,6,1))\n",
    "plt.ylim(-5,5)\n",
    "# c[6]=None\n",
    "# b[6]=None\n",
    "\n",
    "plt.plot(hour,c1,c=\"black\")\n",
    "plt.errorbar(hour,c1,yerr=b1,linestyle='None', marker='s')\n",
    "# c[6]=None\n",
    "# b[6]=None\n",
    "\n",
    "plt.title(\"18-hr Avg. MBE All Stations\")\n",
    "plt.xlabel(\"Time Relative to Event Passage\")\n",
    "plt.ylabel(\"MBE Air Temperature (C)\")\n",
    "#plt.plot(hour,c)\n",
    "#plt.errorbar(hour,c,yerr=b,ecolor='r',elinewidth=5,fmt='s',color='k')\n",
    "#plt.grid()\n",
    "plt.xticks(np.arange(min(hour), max(hour)+1, 1.0))\n",
    "plt.show()\n",
    "#plt.axvspan(-4, 4, color='green', alpha=0.2, lw=0)"
   ]
  },
  {
   "cell_type": "code",
   "execution_count": 149,
   "id": "3931d44b",
   "metadata": {},
   "outputs": [
    {
     "name": "stdout",
     "output_type": "stream",
     "text": [
      "[ 1.41272727  1.03727273  1.18272727  1.14272727  1.06636364  1.641\n",
      "  1.452       1.56090909  1.46090909  1.07454545  1.03545455  0.50090909\n",
      "  0.15545545 -0.12454455 -0.16999636 -1.18454182 -1.18453909 -1.32636\n",
      " -1.24727    -2.11817636 -2.82636    -2.79090636 -2.29545182 -1.93818\n",
      " -1.98181636]\n",
      "[2.14493946 1.82556139 1.34773946 1.19145511 1.72316977 2.51265776\n",
      " 2.21973332 1.84163689 2.38347132 2.43986722 2.47686519 2.30447945\n",
      " 1.85715399 1.5010813  2.36850835 2.44370589 2.98045771 3.11097926\n",
      " 3.76551957 3.82433887 3.03039193 3.04819878 3.22421566 4.0613602\n",
      " 3.88405596]\n"
     ]
    },
    {
     "name": "stderr",
     "output_type": "stream",
     "text": [
      "C:\\Users\\panwalaf\\AppData\\Local\\Temp\\ipykernel_16856\\4244075433.py:1: UserWarning: Warning: converting a masked element to nan.\n",
      "  c2 = np.array([difference2_sal,difference2_bat,difference2_laf,difference2_mon,difference2_hol,difference2_new,difference2_fai,difference2_sel,difference2_bow,difference2_gad,difference2_newt])\n",
      "C:\\Users\\panwalaf\\AppData\\Local\\Temp\\ipykernel_16856\\4244075433.py:6: UserWarning: Warning: converting a masked element to nan.\n",
      "  b2 = np.array([difference2_sal,difference2_bat,difference2_laf,difference2_mon,difference2_hol,difference2_new,difference2_fai,difference2_sel,difference2_bow,difference2_gad,difference2_newt])\n"
     ]
    },
    {
     "data": {
      "text/plain": [
       "25"
      ]
     },
     "execution_count": 149,
     "metadata": {},
     "output_type": "execute_result"
    }
   ],
   "source": [
    "c2 = np.array([difference2_sal,difference2_bat,difference2_laf,difference2_mon,difference2_hol,difference2_new,difference2_fai,difference2_sel,difference2_bow,difference2_gad,difference2_newt])\n",
    "c2=np.nanmean(c2, axis=0)\n",
    "print(c2)\n",
    "len(c2)\n",
    "\n",
    "b2 = np.array([difference2_sal,difference2_bat,difference2_laf,difference2_mon,difference2_hol,difference2_new,difference2_fai,difference2_sel,difference2_bow,difference2_gad,difference2_newt])\n",
    "b2=np.nanstd(b2, axis=0)\n",
    "print(b2)\n",
    "len(b2)"
   ]
  },
  {
   "cell_type": "code",
   "execution_count": 150,
   "id": "4c8ac8a3",
   "metadata": {},
   "outputs": [
    {
     "data": {
      "image/png": "[encoded data removed]",
      "text/plain": [
       "<Figure size 792x396 with 1 Axes>"
      ]
     },
     "metadata": {},
     "output_type": "display_data"
    }
   ],
   "source": [
    "plt.style.use('seaborn-whitegrid')\n",
    "plt.rcParams[\"figure.figsize\"] = [11.00, 5.50]\n",
    "plt.rcParams[\"figure.autolayout\"] = True\n",
    "plt.yticks(np.arange(-5,6,1))\n",
    "plt.ylim(-5,5)\n",
    "# c[6]=None\n",
    "# b[6]=None\n",
    "\n",
    "plt.plot(hour,c2,c=\"black\")\n",
    "plt.errorbar(hour,c2,c=\"r\",yerr=b2,linestyle='None', marker='s')\n",
    "# c[6]=None\n",
    "# b[6]=None\n",
    "\n",
    "plt.title(\"18-hr Avg. MBE All Stations\")\n",
    "plt.xlabel(\"Time Relative to Event Passage\")\n",
    "plt.ylabel(\"MBE Air Temperature (C)\")\n",
    "#plt.plot(hour,c)\n",
    "#plt.errorbar(hour,c,yerr=b,ecolor='r',elinewidth=5,fmt='s',color='k')\n",
    "#plt.grid()\n",
    "plt.xticks(np.arange(min(hour), max(hour)+1, 1.0))\n",
    "plt.show()\n",
    "#plt.axvspan(-4, 4, color='green', alpha=0.2, lw=0)"
   ]
  },
  {
   "cell_type": "code",
   "execution_count": 151,
   "id": "e7aee5e0",
   "metadata": {},
   "outputs": [
    {
     "name": "stdout",
     "output_type": "stream",
     "text": [
      "[ 1.28090909  1.55636364  1.89636364  1.53909091  0.66818182  0.89272727\n",
      " -0.93363636 -2.18545455 -1.22727273 -0.97454545  0.19909091 -0.65272818\n",
      "  0.29818182  1.10636545  1.35454636  1.54181818  0.51818273 -0.42909091\n",
      " -0.43727182 -0.28363636 -0.02909091 -0.72636364 -0.90454636 -0.79545545\n",
      " -0.97272727]\n",
      "[1.53294995 1.70680602 2.43180544 2.3042745  1.60106679 2.02420396\n",
      " 2.38380244 3.20424538 3.67443525 3.13225554 3.95099172 3.17606103\n",
      " 2.5281068  1.19456677 1.20625775 1.82933082 2.64555023 1.35531583\n",
      " 1.09966967 1.4151471  1.06765209 1.27305126 0.83250222 0.75501209\n",
      " 1.76269985]\n"
     ]
    },
    {
     "data": {
      "text/plain": [
       "25"
      ]
     },
     "execution_count": 151,
     "metadata": {},
     "output_type": "execute_result"
    }
   ],
   "source": [
    "c3 = np.array([difference3_sal,difference3_bat,difference3_laf,difference3_mon,difference3_hol,difference3_new,difference3_fai,difference3_sel,difference3_bow,difference3_gad,difference3_newt])\n",
    "c3=np.nanmean(c3, axis=0)\n",
    "print(c3)\n",
    "len(c3)\n",
    "\n",
    "b3 = np.array([difference3_sal,difference3_bat,difference3_laf,difference3_mon,difference3_hol,difference3_new,difference3_fai,difference3_sel,difference3_bow,difference3_gad,difference3_newt])\n",
    "b3=np.nanstd(b3, axis=0)\n",
    "print(b3)\n",
    "len(b3)"
   ]
  },
  {
   "cell_type": "code",
   "execution_count": 152,
   "id": "00a5e783",
   "metadata": {},
   "outputs": [
    {
     "data": {
      "image/png": "[encoded data removed]",
      "text/plain": [
       "<Figure size 792x396 with 1 Axes>"
      ]
     },
     "metadata": {},
     "output_type": "display_data"
    }
   ],
   "source": [
    "plt.style.use('seaborn-whitegrid')\n",
    "plt.rcParams[\"figure.figsize\"] = [11.00, 5.50]\n",
    "plt.rcParams[\"figure.autolayout\"] = True\n",
    "plt.yticks(np.arange(-5,6,1))\n",
    "plt.ylim(-5,5)\n",
    "# c[6]=None\n",
    "# b[6]=None\n",
    "\n",
    "plt.plot(hour,c3,c=\"green\")\n",
    "plt.errorbar(hour,c3,c=\"green\",yerr=b3,linestyle='None', marker='s')\n",
    "# c[6]=None\n",
    "# b[6]=None\n",
    "\n",
    "plt.title(\"18-hr Avg. MBE All Stations\")\n",
    "plt.xlabel(\"Time Relative to Event Passage\")\n",
    "plt.ylabel(\"MBE Air Temperature (C)\")\n",
    "#plt.plot(hour,c)\n",
    "#plt.errorbar(hour,c,yerr=b,ecolor='r',elinewidth=5,fmt='s',color='k')\n",
    "#plt.grid()\n",
    "plt.xticks(np.arange(min(hour), max(hour)+1, 1.0))\n",
    "plt.show()\n",
    "#plt.axvspan(-4, 4, color='green', alpha=0.2, lw=0)"
   ]
  },
  {
   "cell_type": "code",
   "execution_count": 153,
   "id": "b2d7f7dd",
   "metadata": {},
   "outputs": [
    {
     "name": "stdout",
     "output_type": "stream",
     "text": [
      "[ 0.96454545  1.24818182  2.03181818  1.79909091  1.55454545  1.82363636\n",
      "  0.71545545  1.37091     1.47818455  1.90000273  0.94545727  0.32727455\n",
      " -0.63090727 -0.27545455 -1.36818091 -0.98909    -1.21545364 -1.88545091\n",
      " -1.87545364 -1.52272636 -1.00454427 -0.423633    0.21454727  0.30636364\n",
      "  0.61454636]\n",
      "[2.13961069 1.45935115 1.83590363 1.7955321  2.49278363 2.23144581\n",
      " 2.01247046 2.69871434 2.58739623 3.69913108 2.0144753  2.44441359\n",
      " 2.57198985 3.08366182 3.53508052 4.22761173 4.85824031 5.03705489\n",
      " 4.78625107 5.75158261 5.69250856 5.40247849 4.8542474  4.92600017\n",
      " 4.4772225 ]\n"
     ]
    },
    {
     "data": {
      "text/plain": [
       "25"
      ]
     },
     "execution_count": 153,
     "metadata": {},
     "output_type": "execute_result"
    }
   ],
   "source": [
    "c4 = np.array([difference4_sal,difference4_bat,difference4_laf,difference4_mon,difference4_hol,difference4_new,difference4_fai,difference4_sel,difference4_bow,difference4_gad,difference4_newt])\n",
    "c4=np.nanmean(c4, axis=0)\n",
    "print(c4)\n",
    "len(c4)\n",
    "\n",
    "b4 = np.array([difference4_sal,difference4_bat,difference4_laf,difference4_mon,difference4_hol,difference4_new,difference4_fai,difference4_sel,difference4_bow,difference4_gad,difference4_newt])\n",
    "b4=np.nanstd(b4, axis=0)\n",
    "print(b4)\n",
    "len(b4)"
   ]
  },
  {
   "cell_type": "code",
   "execution_count": 154,
   "id": "e70a6cef",
   "metadata": {},
   "outputs": [
    {
     "data": {
      "image/png": "[encoded data removed]",
      "text/plain": [
       "<Figure size 792x396 with 1 Axes>"
      ]
     },
     "metadata": {},
     "output_type": "display_data"
    }
   ],
   "source": [
    "plt.style.use('seaborn-whitegrid')\n",
    "plt.rcParams[\"figure.figsize\"] = [11.00, 5.50]\n",
    "plt.rcParams[\"figure.autolayout\"] = True\n",
    "plt.yticks(np.arange(-5,6,1))\n",
    "plt.ylim(-5,5)\n",
    "# c[6]=None\n",
    "# b[6]=None\n",
    "\n",
    "plt.plot(hour,c4,c=\"orange\")\n",
    "plt.errorbar(hour,c4,c=\"orange\",yerr=b4,linestyle='None', marker='s')\n",
    "# c[6]=None\n",
    "# b[6]=None\n",
    "\n",
    "plt.title(\"18-hr Avg. MBE All Stations\")\n",
    "plt.xlabel(\"Time Relative to Event Passage\")\n",
    "plt.ylabel(\"MBE Air Temperature (C)\")\n",
    "#plt.plot(hour,c)\n",
    "#plt.errorbar(hour,c,yerr=b,ecolor='r',elinewidth=5,fmt='s',color='k')\n",
    "#plt.grid()\n",
    "plt.xticks(np.arange(min(hour), max(hour)+1, 1.0))\n",
    "plt.show()\n",
    "#plt.axvspan(-4, 4, color='green', alpha=0.2, lw=0)"
   ]
  },
  {
   "cell_type": "code",
   "execution_count": 156,
   "id": "240eafe4",
   "metadata": {},
   "outputs": [
    {
     "data": {
      "image/png": "[encoded data removed]",
      "text/plain": [
       "<Figure size 792x396 with 1 Axes>"
      ]
     },
     "metadata": {},
     "output_type": "display_data"
    }
   ],
   "source": [
    "plt.style.use('seaborn-whitegrid')\n",
    "plt.rcParams[\"figure.figsize\"] = [11.00, 5.50]\n",
    "plt.rcParams[\"figure.autolayout\"] = True\n",
    "plt.yticks(np.arange(-10,12.5,2.5))\n",
    "plt.ylim(-10,10)\n",
    "\n",
    "plt.plot(hour,c1,c=\"b\",label=\"IOP 1\")\n",
    "plt.errorbar(hour,c1,c=\"b\",yerr=b1,linestyle='None', marker='s')\n",
    "\n",
    "plt.plot(hour,c2,c=\"r\",label=\"IOP 2\")\n",
    "plt.errorbar(hour,c2,c=\"r\",yerr=b2,linestyle='None', marker='s')\n",
    "\n",
    "plt.plot(hour,c3,c=\"green\")\n",
    "plt.errorbar(hour,c3,c=\"green\",yerr=b3,linestyle='None', marker='s')\n",
    "\n",
    "plt.plot(hour,c4,c=\"orange\")\n",
    "plt.errorbar(hour,c4,c=\"orange\",yerr=b4,linestyle='None', marker='s')\n",
    "\n",
    "plt.title(\"18-hr Avg. MBE All Stations\")\n",
    "plt.xlabel(\"Time Relative to Event Passage\")\n",
    "plt.ylabel(\"MBE Surface Temperature (C)\")\n",
    "#plt.plot(hour,c)\n",
    "#plt.errorbar(hour,c,yerr=b,ecolor='r',elinewidth=5,fmt='s',color='k')\n",
    "#plt.grid()\n",
    "plt.xticks(np.arange(min(hour), max(hour)+1, 1.0))\n",
    "plt.legend([\"IOP 1\", \"IOP 2\",\"IOP 3\",\"IOP 4\"], loc =\"lower right\")\n",
    "plt.show()"
   ]
  },
  {
   "cell_type": "code",
   "execution_count": null,
   "id": "35964cbd",
   "metadata": {},
   "outputs": [],
   "source": []
  },
  {
   "cell_type": "code",
   "execution_count": null,
   "id": "0667325e",
   "metadata": {},
   "outputs": [],
   "source": []
  }
 ],
 "metadata": {
  "kernelspec": {
   "display_name": "Python 3 (ipykernel)",
   "language": "python",
   "name": "python3"
  },
  "language_info": {
   "codemirror_mode": {
    "name": "ipython",
    "version": 3
   },
   "file_extension": ".py",
   "mimetype": "text/x-python",
   "name": "python",
   "nbconvert_exporter": "python",
   "pygments_lexer": "ipython3",
   "version": "3.9.12"
  }
 },
 "nbformat": 4,
 "nbformat_minor": 5
}
