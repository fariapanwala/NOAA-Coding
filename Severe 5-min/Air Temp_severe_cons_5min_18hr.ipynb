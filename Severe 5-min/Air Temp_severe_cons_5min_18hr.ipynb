{
 "cells": [
  {
   "cell_type": "code",
   "execution_count": 1,
   "id": "83d28093",
   "metadata": {},
   "outputs": [],
   "source": [
    "import numpy as np\n",
    "import matplotlib.pyplot as plt\n",
    "import math"
   ]
  },
  {
   "cell_type": "markdown",
   "id": "18ad22a0",
   "metadata": {},
   "source": [
    "<font size=\"3\">Salem, MO: 1200 UTC 22 March 2022-1200 UTC 23 March 2022</font>"
   ]
  },
  {
   "cell_type": "code",
   "execution_count": 2,
   "id": "1b19b289",
   "metadata": {},
   "outputs": [
    {
     "name": "stdout",
     "output_type": "stream",
     "text": [
      "[10.3959, 10.8296, 12.8826, 14.1356, 14.4578, 15.1505, 14.3382, 13.9955, 15.2405, 15.2988, 13.4922, 14.2122, 13.2469, 13.1796, 12.2141, 11.941, 11.6343, 10.9298, 11.0676, 10.5473, 9.88846, 9.62479, 6.47897, 6.48849, 6.47791]\n"
     ]
    }
   ],
   "source": [
    "#18 hr hrrr:\n",
    "with open('hrrr_f18_Salem_MO.txt') as f:\n",
    "    lst=[line.split()[1] for line in f]\n",
    "    temp=[]\n",
    "    for i in lst:\n",
    "        new=i.replace(',',\"\")\n",
    "        temp.append(new)\n",
    "    temp.pop(0)\n",
    "    temp=[float(x) for x in temp]\n",
    "    #print(temp.index(6.91541))\n",
    "    temp=temp[1914:1939]\n",
    "    print(temp)\n",
    "    #print(len(temp))\n",
    "#full time period is [2015:2112]"
   ]
  },
  {
   "cell_type": "code",
   "execution_count": 3,
   "id": "e9d4dbcc",
   "metadata": {},
   "outputs": [
    {
     "name": "stdout",
     "output_type": "stream",
     "text": [
      "[11.45, 12.9, 12.649999999999999, 12.6, 13.0, 13.6, 14.0, 14.6, 14.55, 13.95, 13.649999999999999, 12.25, 11.9, 11.7, 11.45, 11.5, 10.05, 9.9, 9.2, 9.1, 7.55, 6.75, 6.0, 6.0, 5.9]\n"
     ]
    }
   ],
   "source": [
    "#Air Temp CRN:\n",
    "with open('CRNS0101-05-2022-MO_Salem_10_W.txt') as f:\n",
    "    lst=[line.split()[8] for line in f]\n",
    "\n",
    "    a=(float(lst[23183])+float(lst[23184]))/2\n",
    "    b=(float(lst[23195])+float(lst[23196]))/2\n",
    "    c=(float(lst[23207])+float(lst[23208]))/2\n",
    "    d=(float(lst[23219])+float(lst[23220]))/2\n",
    "    e=(float(lst[23231])+float(lst[23232]))/2\n",
    "    f=(float(lst[23243])+float(lst[23244]))/2\n",
    "    g=(float(lst[23255])+float(lst[23256]))/2\n",
    "    h=(float(lst[23267])+float(lst[23268]))/2\n",
    "    i=(float(lst[23279])+float(lst[23280]))/2\n",
    "    j=(float(lst[23291])+float(lst[23292]))/2\n",
    "    k=(float(lst[23303])+float(lst[23304]))/2\n",
    "    l=(float(lst[23315])+float(lst[23316]))/2\n",
    "    m=(float(lst[23327])+float(lst[23328]))/2\n",
    "    n=(float(lst[23339])+float(lst[23340]))/2\n",
    "    o=(float(lst[23351])+float(lst[23352]))/2\n",
    "    p=(float(lst[23363])+float(lst[23364]))/2\n",
    "    q=(float(lst[23375])+float(lst[23376]))/2\n",
    "    r=(float(lst[23387])+float(lst[23388]))/2\n",
    "    s=(float(lst[23399])+float(lst[23400]))/2\n",
    "    t=(float(lst[23411])+float(lst[23412]))/2\n",
    "    u=(float(lst[23423])+float(lst[23424]))/2\n",
    "    v=(float(lst[23435])+float(lst[23436]))/2\n",
    "    w=(float(lst[23447])+float(lst[23448]))/2\n",
    "    x=(float(lst[23459])+float(lst[23460]))/2\n",
    "    y=(float(lst[23471])+float(lst[23472]))/2\n",
    "    temp_crn=[a,b,c,d,e,f,g,h,i,j,k,l,m,n,o,p,q,r,s,t,u,v,w,x,y]\n",
    "    print(temp_crn)"
   ]
  },
  {
   "cell_type": "code",
   "execution_count": 4,
   "id": "1e9aed03-d99c-4045-812a-e26bcc99b84f",
   "metadata": {},
   "outputs": [
    {
     "name": "stdout",
     "output_type": "stream",
     "text": [
      "[-1.0541, -2.070400000000001, 0.23260000000000147, 1.5356000000000005, 1.4578000000000007, 1.5504999999999995, 0.3382000000000005, -0.6044999999999998, 0.6905000000000001, 1.3488000000000007, -0.15779999999999816, 1.9621999999999993, 1.3468999999999998, 1.4796000000000014, 0.7641000000000009, 0.4410000000000007, 1.584299999999999, 1.0297999999999998, 1.8676000000000013, 1.4473000000000003, 2.3384600000000004, 2.874790000000001, 0.47897000000000034, 0.48848999999999965, 0.5779099999999993]\n"
     ]
    }
   ],
   "source": [
    "difference1_sal = []\n",
    "\n",
    "zip_object = zip(temp, temp_crn)\n",
    "for temp_i, temp_crn_i in zip_object:\n",
    "    difference1_sal.append(temp_i-temp_crn_i)\n",
    "\n",
    "print(difference1_sal)"
   ]
  },
  {
   "cell_type": "markdown",
   "id": "9043c519",
   "metadata": {},
   "source": [
    "<font size=\"3\">Batesville, AR: 1200 UTC 22 March 2022-1200 UTC 23 March 2022</font>"
   ]
  },
  {
   "cell_type": "code",
   "execution_count": 5,
   "id": "394f1ff2",
   "metadata": {},
   "outputs": [
    {
     "name": "stdout",
     "output_type": "stream",
     "text": [
      "[12.8334, 13.3296, 15.0076, 15.1981, 14.8953, 16.0255, 16.9007, 15.9955, 16.3655, 16.5488, 16.2422, 16.5872, 15.5594, 13.8046, 13.3391, 13.0035, 11.3218, 10.9298, 10.5676, 9.98483, 9.70096, 8.31229, 7.29147, 7.05099, 6.91541]\n"
     ]
    }
   ],
   "source": [
    "#18 hr hrrr:\n",
    "with open('hrrr_f18_Batesville_AR.txt') as f:\n",
    "    lst=[line.split()[1] for line in f]\n",
    "    temp=[]\n",
    "    for i in lst:\n",
    "        new=i.replace(',',\"\")\n",
    "        temp.append(new)\n",
    "    temp.pop(0)\n",
    "    temp=[float(x) for x in temp]\n",
    "    #print(temp.index(6.91541))\n",
    "    temp=temp[1914:1939]\n",
    "    print(temp)\n",
    "    #print(len(temp))\n",
    "#full time period is [2015:2112]"
   ]
  },
  {
   "cell_type": "code",
   "execution_count": 6,
   "id": "1eabebb5",
   "metadata": {},
   "outputs": [
    {
     "name": "stdout",
     "output_type": "stream",
     "text": [
      "[13.0, 13.2, 13.2, 13.4, 13.3, 13.4, 13.350000000000001, 13.25, 14.1, 14.45, 14.2, 13.850000000000001, 13.3, 12.45, 13.25, 11.95, 10.95, 10.649999999999999, 9.5, 7.85, 7.3, 7.15, 6.9, 6.8, 6.7]\n"
     ]
    }
   ],
   "source": [
    "#Air Temp CRN:\n",
    "with open('CRNS0101-05-2022-AR_Batesville_8_WNW.txt') as f:\n",
    "    lst=[line.split()[8] for line in f]\n",
    "\n",
    "    a=(float(lst[23183])+float(lst[23184]))/2\n",
    "    b=(float(lst[23195])+float(lst[23196]))/2\n",
    "    c=(float(lst[23207])+float(lst[23208]))/2\n",
    "    d=(float(lst[23219])+float(lst[23220]))/2\n",
    "    e=(float(lst[23231])+float(lst[23232]))/2\n",
    "    f=(float(lst[23243])+float(lst[23244]))/2\n",
    "    g=(float(lst[23255])+float(lst[23256]))/2\n",
    "    h=(float(lst[23267])+float(lst[23268]))/2\n",
    "    i=(float(lst[23279])+float(lst[23280]))/2\n",
    "    j=(float(lst[23291])+float(lst[23292]))/2\n",
    "    k=(float(lst[23303])+float(lst[23304]))/2\n",
    "    l=(float(lst[23315])+float(lst[23316]))/2\n",
    "    m=(float(lst[23327])+float(lst[23328]))/2\n",
    "    n=(float(lst[23339])+float(lst[23340]))/2\n",
    "    o=(float(lst[23351])+float(lst[23352]))/2\n",
    "    p=(float(lst[23363])+float(lst[23364]))/2\n",
    "    q=(float(lst[23375])+float(lst[23376]))/2\n",
    "    r=(float(lst[23387])+float(lst[23388]))/2\n",
    "    s=(float(lst[23399])+float(lst[23400]))/2\n",
    "    t=(float(lst[23411])+float(lst[23412]))/2\n",
    "    u=(float(lst[23423])+float(lst[23424]))/2\n",
    "    v=(float(lst[23435])+float(lst[23436]))/2\n",
    "    w=(float(lst[23447])+float(lst[23448]))/2\n",
    "    x=(float(lst[23459])+float(lst[23460]))/2\n",
    "    y=(float(lst[23471])+float(lst[23472]))/2\n",
    "    temp_crn=[a,b,c,d,e,f,g,h,i,j,k,l,m,n,o,p,q,r,s,t,u,v,w,x,y]\n",
    "    print(temp_crn)"
   ]
  },
  {
   "cell_type": "code",
   "execution_count": 7,
   "id": "62a46873",
   "metadata": {},
   "outputs": [
    {
     "name": "stdout",
     "output_type": "stream",
     "text": [
      "[-0.16660000000000075, 0.12959999999999994, 1.8076000000000008, 1.7980999999999998, 1.5953, 2.6255000000000006, 3.550699999999999, 2.7455, 2.265500000000001, 2.0988000000000007, 2.042200000000001, 2.737199999999998, 2.2593999999999994, 1.3546000000000014, 0.08910000000000018, 1.0535000000000014, 0.37180000000000035, 0.2798000000000016, 1.0676000000000005, 2.134830000000001, 2.4009600000000004, 1.1622900000000005, 0.39147, 0.2509899999999998, 0.21540999999999944]\n"
     ]
    }
   ],
   "source": [
    "difference1_bat = []\n",
    "\n",
    "zip_object = zip(temp, temp_crn)\n",
    "for temp_i, temp_crn_i in zip_object:\n",
    "    difference1_bat.append(temp_i-temp_crn_i)\n",
    "\n",
    "print(difference1_bat)"
   ]
  },
  {
   "cell_type": "markdown",
   "id": "2a2589df",
   "metadata": {},
   "source": [
    "<font size=\"3\">Lafayette, LA: 1500 UTC 22 March 2022-1500 UTC 23 March 2022</font>"
   ]
  },
  {
   "cell_type": "code",
   "execution_count": 8,
   "id": "9d0a0e7b",
   "metadata": {},
   "outputs": [
    {
     "name": "stdout",
     "output_type": "stream",
     "text": [
      "[24.3856, 25.3328, 25.9005, 24.3382, 24.558, 20.178, 21.1738, 22.0547, 17.9622, 19.4969, 18.7421, 18.1516, 16.816, 13.5718, 12.0548, 10.5676, 10.2973, 9.51346, 8.74979, 8.22897, 7.86349, 7.60291, 7.91684, 9.87729, 11.324]\n"
     ]
    }
   ],
   "source": [
    "#18 hr hrrr:\n",
    "with open('hrrr_f18_Lafayette_LA.txt') as f:\n",
    "    lst=[line.split()[1] for line in f]\n",
    "    temp=[]\n",
    "    for i in lst:\n",
    "        new=i.replace(',',\"\")\n",
    "        temp.append(new)\n",
    "    temp.pop(0)\n",
    "    temp=[float(x) for x in temp]\n",
    "    #print(temp.index(6.91541))\n",
    "    temp=temp[1917:1942]\n",
    "    print(temp)\n",
    "    #print(len(temp))\n",
    "#full time period is [2015:2112]"
   ]
  },
  {
   "cell_type": "code",
   "execution_count": 9,
   "id": "f946394b",
   "metadata": {},
   "outputs": [
    {
     "name": "stdout",
     "output_type": "stream",
     "text": [
      "[23.85, 23.6, 24.1, 23.95, 22.9, 19.95, 20.65, 20.95, 21.05, 20.1, 18.0, 15.65, 15.15, 15.2, 14.7, 12.7, 11.55, 10.45, 9.850000000000001, 7.65, 9.0, 8.7, 9.45, 11.15, 12.75]\n"
     ]
    }
   ],
   "source": [
    "#Air Temp CRN:\n",
    "with open('CRNS0101-05-2022-LA_Lafayette_13_SE.txt') as f:\n",
    "    lst=[line.split()[8] for line in f]\n",
    "\n",
    "    a=(float(lst[23219])+float(lst[23220]))/2\n",
    "    b=(float(lst[23231])+float(lst[23232]))/2\n",
    "    c=(float(lst[23243])+float(lst[23244]))/2\n",
    "    d=(float(lst[23255])+float(lst[23256]))/2\n",
    "    e=(float(lst[23267])+float(lst[23268]))/2\n",
    "    f=(float(lst[23279])+float(lst[23280]))/2\n",
    "    g=(float(lst[23291])+float(lst[23292]))/2\n",
    "    h=(float(lst[23303])+float(lst[23304]))/2\n",
    "    i=(float(lst[23315])+float(lst[23316]))/2\n",
    "    j=(float(lst[23327])+float(lst[23328]))/2\n",
    "    k=(float(lst[23339])+float(lst[23340]))/2\n",
    "    l=(float(lst[23351])+float(lst[23352]))/2\n",
    "    m=(float(lst[23363])+float(lst[23364]))/2\n",
    "    n=(float(lst[23375])+float(lst[23376]))/2\n",
    "    o=(float(lst[23387])+float(lst[23388]))/2\n",
    "    p=(float(lst[23399])+float(lst[23400]))/2\n",
    "    q=(float(lst[23411])+float(lst[23412]))/2\n",
    "    r=(float(lst[23423])+float(lst[23424]))/2\n",
    "    s=(float(lst[23435])+float(lst[23436]))/2\n",
    "    t=(float(lst[23447])+float(lst[23448]))/2\n",
    "    u=(float(lst[23459])+float(lst[23460]))/2\n",
    "    v=(float(lst[23471])+float(lst[23472]))/2\n",
    "    w=(float(lst[23483])+float(lst[23484]))/2\n",
    "    x=(float(lst[23495])+float(lst[23496]))/2\n",
    "    y=(float(lst[23507])+float(lst[23508]))/2\n",
    "    temp_crn=[a,b,c,d,e,f,g,h,i,j,k,l,m,n,o,p,q,r,s,t,u,v,w,x,y]\n",
    "    print(temp_crn)"
   ]
  },
  {
   "cell_type": "code",
   "execution_count": 10,
   "id": "9b94d0f9",
   "metadata": {},
   "outputs": [
    {
     "name": "stdout",
     "output_type": "stream",
     "text": [
      "[0.5355999999999987, 1.7327999999999975, 1.8004999999999995, 0.3882000000000012, 1.6580000000000013, 0.22800000000000153, 0.5238000000000014, 1.1047000000000011, -3.0878000000000014, -0.6031000000000013, 0.7421000000000006, 2.501599999999998, 1.6659999999999986, -1.6281999999999996, -2.645199999999999, -2.1323999999999987, -1.2527000000000008, -0.936539999999999, -1.1002100000000006, 0.57897, -1.1365100000000004, -1.0970899999999997, -1.5331599999999996, -1.27271, -1.4260000000000002]\n"
     ]
    }
   ],
   "source": [
    "difference1_laf = []\n",
    "\n",
    "zip_object = zip(temp, temp_crn)\n",
    "for temp_i, temp_crn_i in zip_object:\n",
    "    difference1_laf.append(temp_i-temp_crn_i)\n",
    "\n",
    "print(difference1_laf)"
   ]
  },
  {
   "cell_type": "markdown",
   "id": "7a8d079f",
   "metadata": {},
   "source": [
    "<font size=\"3\">Monroe, LA: 1500 UTC 22 March 2022-1500 UTC 23 March 2022</font>"
   ]
  },
  {
   "cell_type": "code",
   "execution_count": 11,
   "id": "f4c20224",
   "metadata": {},
   "outputs": [
    {
     "name": "stdout",
     "output_type": "stream",
     "text": [
      "[20.7606, 16.2703, 16.338, 17.2132, 18.4955, 17.553, 18.2363, 19.9297, 19.0872, 18.3094, 16.9921, 13.8391, 12.0035, 10.5093, 9.55484, 9.44263, 9.23483, 8.45096, 8.18729, 7.60397, 7.30099, 7.22791, 7.35434, 7.81479, 8.26154]\n"
     ]
    }
   ],
   "source": [
    "#18 hr hrrr:\n",
    "with open('hrrr_f18_Monroe_LA.txt') as f:\n",
    "    lst=[line.split()[1] for line in f]\n",
    "    temp=[]\n",
    "    for i in lst:\n",
    "        new=i.replace(',',\"\")\n",
    "        temp.append(new)\n",
    "    temp.pop(0)\n",
    "    temp=[float(x) for x in temp]\n",
    "    #print(temp.index(6.91541))\n",
    "    temp=temp[1917:1942]\n",
    "    print(temp)\n",
    "    #print(len(temp))\n",
    "#full time period is [2015:2112]"
   ]
  },
  {
   "cell_type": "code",
   "execution_count": 12,
   "id": "210341da",
   "metadata": {},
   "outputs": [
    {
     "name": "stdout",
     "output_type": "stream",
     "text": [
      "[14.1, 14.05, 13.8, 13.6, 14.0, 14.7, 15.0, 15.149999999999999, 15.0, 14.7, 14.7, 11.649999999999999, 10.75, 10.25, 10.149999999999999, 9.95, 9.55, 8.9, 8.649999999999999, 8.6, 8.55, 8.7, 8.7, 8.95, 9.649999999999999]\n"
     ]
    }
   ],
   "source": [
    "#Air Temp CRN:\n",
    "with open('CRNS0101-05-2022-LA_Monroe_26_N.txt') as f:\n",
    "    lst=[line.split()[8] for line in f]\n",
    "\n",
    "    a=(float(lst[23219])+float(lst[23220]))/2\n",
    "    b=(float(lst[23231])+float(lst[23232]))/2\n",
    "    c=(float(lst[23243])+float(lst[23244]))/2\n",
    "    d=(float(lst[23255])+float(lst[23256]))/2\n",
    "    e=(float(lst[23267])+float(lst[23268]))/2\n",
    "    f=(float(lst[23279])+float(lst[23280]))/2\n",
    "    g=(float(lst[23291])+float(lst[23292]))/2\n",
    "    h=(float(lst[23303])+float(lst[23304]))/2\n",
    "    i=(float(lst[23315])+float(lst[23316]))/2\n",
    "    j=(float(lst[23327])+float(lst[23328]))/2\n",
    "    k=(float(lst[23339])+float(lst[23340]))/2\n",
    "    l=(float(lst[23351])+float(lst[23352]))/2\n",
    "    m=(float(lst[23363])+float(lst[23364]))/2\n",
    "    n=(float(lst[23375])+float(lst[23376]))/2\n",
    "    o=(float(lst[23387])+float(lst[23388]))/2\n",
    "    p=(float(lst[23399])+float(lst[23400]))/2\n",
    "    q=(float(lst[23411])+float(lst[23412]))/2\n",
    "    r=(float(lst[23423])+float(lst[23424]))/2\n",
    "    s=(float(lst[23435])+float(lst[23436]))/2\n",
    "    t=(float(lst[23447])+float(lst[23448]))/2\n",
    "    u=(float(lst[23459])+float(lst[23460]))/2\n",
    "    v=(float(lst[23471])+float(lst[23472]))/2\n",
    "    w=(float(lst[23483])+float(lst[23484]))/2\n",
    "    x=(float(lst[23495])+float(lst[23496]))/2\n",
    "    y=(float(lst[23507])+float(lst[23508]))/2\n",
    "    temp_crn=[a,b,c,d,e,f,g,h,i,j,k,l,m,n,o,p,q,r,s,t,u,v,w,x,y]\n",
    "    print(temp_crn)"
   ]
  },
  {
   "cell_type": "code",
   "execution_count": 13,
   "id": "2b4e383a",
   "metadata": {},
   "outputs": [
    {
     "name": "stdout",
     "output_type": "stream",
     "text": [
      "[6.6606000000000005, 2.220299999999998, 2.5380000000000003, 3.613200000000001, 4.4955, 2.8530000000000015, 3.2363, 4.779700000000002, 4.087199999999999, 3.609400000000001, 2.2921000000000014, 2.1891000000000016, 1.2535000000000007, 0.25929999999999964, -0.5951599999999981, -0.5073699999999999, -0.31517000000000017, -0.4490400000000001, -0.46270999999999773, -0.9960299999999993, -1.249010000000001, -1.4720899999999997, -1.3456599999999996, -1.135209999999999, -1.3884599999999985]\n"
     ]
    }
   ],
   "source": [
    "difference1_mon = []\n",
    "\n",
    "zip_object = zip(temp, temp_crn)\n",
    "for temp_i, temp_crn_i in zip_object:\n",
    "    difference1_mon.append(temp_i-temp_crn_i)\n",
    "\n",
    "print(difference1_mon)"
   ]
  },
  {
   "cell_type": "markdown",
   "id": "26c585ff",
   "metadata": {},
   "source": [
    "<font size=\"3\">Holly Springs, MS: 1800 UTC 22 March 2022-1800 UTC 23 March 2022</font>"
   ]
  },
  {
   "cell_type": "code",
   "execution_count": 14,
   "id": "41fed7a9",
   "metadata": {},
   "outputs": [
    {
     "name": "stdout",
     "output_type": "stream",
     "text": [
      "[15.8382, 15.9955, 16.7405, 16.6113, 17.4922, 17.0872, 16.8719, 16.9921, 16.2141, 15.191, 14.1968, 14.7423, 14.0676, 14.7348, 12.7635, 11.4998, 10.354, 8.61349, 8.79041, 7.47934, 6.62729, 6.82404, 7.22729, 7.25067, 7.17581]\n"
     ]
    }
   ],
   "source": [
    "#18 hr hrrr:\n",
    "with open('hrrr_f18_Holly Springs_MS.txt') as f:\n",
    "    lst=[line.split()[1] for line in f]\n",
    "    temp=[]\n",
    "    for i in lst:\n",
    "        new=i.replace(',',\"\")\n",
    "        temp.append(new)\n",
    "    temp.pop(0)\n",
    "    temp=[float(x) for x in temp]\n",
    "    #print(temp.index(6.91541))\n",
    "    temp=temp[1920:1945]\n",
    "    print(temp)\n",
    "    #print(len(temp))\n",
    "#full time period is [2015:2112]"
   ]
  },
  {
   "cell_type": "code",
   "execution_count": 15,
   "id": "d0ee337a",
   "metadata": {},
   "outputs": [
    {
     "name": "stdout",
     "output_type": "stream",
     "text": [
      "[13.2, 12.55, 12.5, 12.3, 12.6, 14.4, 14.55, 14.2, 14.5, 14.95, 14.649999999999999, 14.3, 13.95, 13.55, 12.8, 11.3, 10.25, 9.6, 8.6, 8.7, 8.649999999999999, 8.3, 8.2, 8.9, 9.350000000000001]\n"
     ]
    }
   ],
   "source": [
    "#Air Temp CRN:\n",
    "with open('CRNS0101-05-2022-MS_Holly_Springs_4_N.txt') as f:\n",
    "    lst=[line.split()[8] for line in f]\n",
    "\n",
    "    a=(float(lst[23255])+float(lst[23256]))/2\n",
    "    b=(float(lst[23267])+float(lst[23268]))/2\n",
    "    c=(float(lst[23279])+float(lst[23280]))/2\n",
    "    d=(float(lst[23291])+float(lst[23292]))/2\n",
    "    e=(float(lst[23303])+float(lst[23304]))/2\n",
    "    f=(float(lst[23315])+float(lst[23316]))/2\n",
    "    g=(float(lst[23327])+float(lst[23328]))/2\n",
    "    h=(float(lst[23339])+float(lst[23340]))/2\n",
    "    i=(float(lst[23351])+float(lst[23352]))/2\n",
    "    j=(float(lst[23363])+float(lst[23364]))/2\n",
    "    k=(float(lst[23375])+float(lst[23376]))/2\n",
    "    l=(float(lst[23387])+float(lst[23388]))/2\n",
    "    m=(float(lst[23399])+float(lst[23400]))/2\n",
    "    n=(float(lst[23411])+float(lst[23412]))/2\n",
    "    o=(float(lst[23423])+float(lst[23424]))/2\n",
    "    p=(float(lst[23435])+float(lst[23436]))/2\n",
    "    q=(float(lst[23447])+float(lst[23448]))/2\n",
    "    r=(float(lst[23459])+float(lst[23460]))/2\n",
    "    s=(float(lst[23471])+float(lst[23472]))/2\n",
    "    t=(float(lst[23483])+float(lst[23484]))/2\n",
    "    u=(float(lst[23495])+float(lst[23496]))/2\n",
    "    v=(float(lst[23507])+float(lst[23508]))/2\n",
    "    w=(float(lst[23519])+float(lst[23520]))/2\n",
    "    x=(float(lst[23531])+float(lst[23532]))/2\n",
    "    y=(float(lst[23543])+float(lst[23544]))/2\n",
    "    temp_crn=[a,b,c,d,e,f,g,h,i,j,k,l,m,n,o,p,q,r,s,t,u,v,w,x,y]\n",
    "    print(temp_crn)"
   ]
  },
  {
   "cell_type": "code",
   "execution_count": 16,
   "id": "46b095cb",
   "metadata": {},
   "outputs": [
    {
     "name": "stdout",
     "output_type": "stream",
     "text": [
      "[2.638200000000001, 3.445499999999999, 4.240500000000001, 4.311299999999999, 4.892200000000001, 2.687199999999999, 2.3218999999999994, 2.7921000000000014, 1.7140999999999984, 0.24100000000000144, -0.45319999999999894, 0.44229999999999947, 0.11760000000000126, 1.1847999999999992, -0.0365000000000002, 0.19979999999999976, 0.1039999999999992, -0.9865099999999991, 0.19040999999999997, -1.2206599999999996, -2.0227099999999982, -1.4759600000000006, -0.9727099999999993, -1.64933, -2.174190000000001]\n"
     ]
    }
   ],
   "source": [
    "difference1_hol = []\n",
    "\n",
    "zip_object = zip(temp, temp_crn)\n",
    "for temp_i, temp_crn_i in zip_object:\n",
    "    difference1_hol.append(temp_i-temp_crn_i)\n",
    "\n",
    "print(difference1_hol)"
   ]
  },
  {
   "cell_type": "markdown",
   "id": "1c76c308",
   "metadata": {},
   "source": [
    "<font size=\"3\">Newton, MS: 1800 UTC 22 March 2022-1800 UTC 23 March 2022</font>"
   ]
  },
  {
   "cell_type": "code",
   "execution_count": 17,
   "id": "e8171095",
   "metadata": {},
   "outputs": [
    {
     "name": "stdout",
     "output_type": "stream",
     "text": [
      "[24.3382, 24.058, 22.2405, 22.2363, 22.2422, 21.5872, 20.9344, 19.4296, 18.9641, 18.316, 18.3843, 18.3048, 16.9426, 17.1098, 14.3885, 13.4998, 12.9165, 10.926, 9.66541, 9.47934, 9.06479, 9.51154, 9.85229, 11.0632, 11.5508]\n"
     ]
    }
   ],
   "source": [
    "#18 hr hrrr:\n",
    "with open('hrrr_f18_Newton_MS.txt') as f:\n",
    "    lst=[line.split()[1] for line in f]\n",
    "    temp=[]\n",
    "    for i in lst:\n",
    "        new=i.replace(',',\"\")\n",
    "        temp.append(new)\n",
    "    temp.pop(0)\n",
    "    temp=[float(x) for x in temp]\n",
    "    #print(temp.index(6.91541))\n",
    "    temp=temp[1920:1945]\n",
    "    print(temp)\n",
    "    #print(len(temp))\n",
    "#full time period is [2015:2112]"
   ]
  },
  {
   "cell_type": "code",
   "execution_count": 18,
   "id": "449e8daa",
   "metadata": {},
   "outputs": [
    {
     "name": "stdout",
     "output_type": "stream",
     "text": [
      "[22.95, 22.25, 21.299999999999997, 16.65, 15.850000000000001, 15.9, 16.0, 15.9, 16.0, 16.85, 17.2, 16.7, 15.9, 14.9, 14.1, 13.45, 13.2, 11.55, 11.4, 10.5, 10.1, 10.5, 11.45, 13.2, 14.2]\n"
     ]
    }
   ],
   "source": [
    "#Air Temp CRN:\n",
    "with open('CRNS0101-05-2022-MS_Newton_5_ENE.txt') as f:\n",
    "    lst=[line.split()[8] for line in f]\n",
    "\n",
    "    a=(float(lst[23255])+float(lst[23256]))/2\n",
    "    b=(float(lst[23267])+float(lst[23268]))/2\n",
    "    c=(float(lst[23279])+float(lst[23280]))/2\n",
    "    d=(float(lst[23291])+float(lst[23292]))/2\n",
    "    e=(float(lst[23303])+float(lst[23304]))/2\n",
    "    f=(float(lst[23315])+float(lst[23316]))/2\n",
    "    g=(float(lst[23327])+float(lst[23328]))/2\n",
    "    h=(float(lst[23339])+float(lst[23340]))/2\n",
    "    i=(float(lst[23351])+float(lst[23352]))/2\n",
    "    j=(float(lst[23363])+float(lst[23364]))/2\n",
    "    k=(float(lst[23375])+float(lst[23376]))/2\n",
    "    l=(float(lst[23387])+float(lst[23388]))/2\n",
    "    m=(float(lst[23399])+float(lst[23400]))/2\n",
    "    n=(float(lst[23411])+float(lst[23412]))/2\n",
    "    o=(float(lst[23423])+float(lst[23424]))/2\n",
    "    p=(float(lst[23435])+float(lst[23436]))/2\n",
    "    q=(float(lst[23447])+float(lst[23448]))/2\n",
    "    r=(float(lst[23459])+float(lst[23460]))/2\n",
    "    s=(float(lst[23471])+float(lst[23472]))/2\n",
    "    t=(float(lst[23483])+float(lst[23484]))/2\n",
    "    u=(float(lst[23495])+float(lst[23496]))/2\n",
    "    v=(float(lst[23507])+float(lst[23508]))/2\n",
    "    w=(float(lst[23519])+float(lst[23520]))/2\n",
    "    x=(float(lst[23531])+float(lst[23532]))/2\n",
    "    y=(float(lst[23543])+float(lst[23544]))/2\n",
    "    temp_crn=[a,b,c,d,e,f,g,h,i,j,k,l,m,n,o,p,q,r,s,t,u,v,w,x,y]\n",
    "    print(temp_crn)"
   ]
  },
  {
   "cell_type": "code",
   "execution_count": 19,
   "id": "e588ab70",
   "metadata": {},
   "outputs": [
    {
     "name": "stdout",
     "output_type": "stream",
     "text": [
      "[1.3882000000000012, 1.8079999999999998, 0.9405000000000037, 5.586300000000001, 6.392199999999999, 5.687199999999999, 4.9344, 3.5296000000000003, 2.9640999999999984, 1.4659999999999975, 1.1843000000000004, 1.604800000000001, 1.0425999999999984, 2.2097999999999995, 0.28850000000000087, 0.04980000000000118, -0.2835000000000001, -0.6240000000000006, -1.7345900000000007, -1.0206599999999995, -1.0352099999999993, -0.9884599999999999, -1.5977099999999993, -2.136799999999999, -2.6491999999999987]\n"
     ]
    }
   ],
   "source": [
    "difference1_new = []\n",
    "\n",
    "zip_object = zip(temp, temp_crn)\n",
    "for temp_i, temp_crn_i in zip_object:\n",
    "    difference1_new.append(temp_i-temp_crn_i)\n",
    "\n",
    "print(difference1_new)"
   ]
  },
  {
   "cell_type": "markdown",
   "id": "c9620694",
   "metadata": {},
   "source": [
    "<font size=\"3\">Gainesville, AL: 2200 UTC 22 March 2022-2200 UTC 23 March 2022</font>"
   ]
  },
  {
   "cell_type": "code",
   "execution_count": 20,
   "id": "a16fb94f",
   "metadata": {},
   "outputs": [
    {
     "name": "stdout",
     "output_type": "stream",
     "text": [
      "[24.0547, 20.9622, 20.7469, 20.4296, 20.0266, 20.6285, 18.6968, 19.8048, 18.9426, 18.7348, 16.8885, 16.8123, 14.604, 13.4885, 12.6654, 12.8543, 12.8773, 11.824, 11.8523, 12.3757, 12.8633, 13.2555, 14.0341, 13.374, 12.4492]\n"
     ]
    }
   ],
   "source": [
    "#18 hr hrrr:\n",
    "with open('hrrr_f18_Gainesville_AL (1).txt') as f:\n",
    "    lst=[line.split()[1] for line in f]\n",
    "    temp=[]\n",
    "    for i in lst:\n",
    "        new=i.replace(',',\"\")\n",
    "        temp.append(new)\n",
    "    temp.pop(0)\n",
    "    temp=[float(x) for x in temp]\n",
    "    #print(temp.index(6.91541))\n",
    "    temp=temp[1924:1949]\n",
    "    print(temp)\n",
    "    #print(len(temp))\n",
    "#full time period is [2015:2112]"
   ]
  },
  {
   "cell_type": "code",
   "execution_count": 21,
   "id": "dc289aee",
   "metadata": {},
   "outputs": [
    {
     "name": "stdout",
     "output_type": "stream",
     "text": [
      "[17.35, 16.2, 16.1, 16.25, 16.35, 16.3, 16.65, 16.85, 16.7, 16.5, 16.35, 14.5, 13.3, 12.6, 12.7, 13.25, 13.2, 13.5, 12.3, 14.0, 15.05, 16.700000000000003, 16.65, 17.85, 17.75]\n"
     ]
    }
   ],
   "source": [
    "#Air Temp CRN:\n",
    "with open('CRNS0101-05-2022-AL_Gainesville_2_NE.txt') as f:\n",
    "    lst=[line.split()[8] for line in f]\n",
    "\n",
    "    a=(float(lst[23303])+float(lst[23304]))/2\n",
    "    b=(float(lst[23315])+float(lst[23316]))/2\n",
    "    c=(float(lst[23327])+float(lst[23328]))/2\n",
    "    d=(float(lst[23339])+float(lst[23340]))/2\n",
    "    e=(float(lst[23351])+float(lst[23352]))/2\n",
    "    f=(float(lst[23363])+float(lst[23364]))/2\n",
    "    g=(float(lst[23375])+float(lst[23376]))/2\n",
    "    h=(float(lst[23387])+float(lst[23388]))/2\n",
    "    i=(float(lst[23399])+float(lst[23400]))/2\n",
    "    j=(float(lst[23411])+float(lst[23412]))/2\n",
    "    k=(float(lst[23423])+float(lst[23424]))/2\n",
    "    l=(float(lst[23435])+float(lst[23436]))/2\n",
    "    m=(float(lst[23447])+float(lst[23448]))/2\n",
    "    n=(float(lst[23459])+float(lst[23460]))/2\n",
    "    o=(float(lst[23471])+float(lst[23472]))/2\n",
    "    p=(float(lst[23483])+float(lst[23484]))/2\n",
    "    q=(float(lst[23495])+float(lst[23496]))/2\n",
    "    r=(float(lst[23507])+float(lst[23508]))/2\n",
    "    s=(float(lst[23519])+float(lst[23520]))/2\n",
    "    t=(float(lst[23531])+float(lst[23532]))/2\n",
    "    u=(float(lst[23543])+float(lst[23544]))/2\n",
    "    v=(float(lst[23555])+float(lst[23556]))/2\n",
    "    w=(float(lst[23567])+float(lst[23568]))/2\n",
    "    x=(float(lst[23579])+float(lst[23580]))/2\n",
    "    y=(float(lst[23591])+float(lst[23592]))/2\n",
    "    temp_crn=[a,b,c,d,e,f,g,h,i,j,k,l,m,n,o,p,q,r,s,t,u,v,w,x,y]\n",
    "    print(temp_crn)"
   ]
  },
  {
   "cell_type": "code",
   "execution_count": 22,
   "id": "8df76a7b",
   "metadata": {},
   "outputs": [
    {
     "name": "stdout",
     "output_type": "stream",
     "text": [
      "[6.704699999999999, 4.7622, 4.646899999999999, 4.179600000000001, 3.676599999999997, 4.328499999999998, 2.046800000000001, 2.9547999999999988, 2.2425999999999995, 2.2348, 0.5384999999999991, 2.3123000000000005, 1.3039999999999985, 0.8885000000000005, -0.0345999999999993, -0.3956999999999997, -0.3226999999999993, -1.6760000000000002, -0.4477000000000011, -1.6242999999999999, -2.1867, -3.4445000000000032, -2.615899999999998, -4.476000000000001, -5.300800000000001]\n"
     ]
    }
   ],
   "source": [
    "difference1_gai = []\n",
    "\n",
    "zip_object = zip(temp, temp_crn)\n",
    "for temp_i, temp_crn_i in zip_object:\n",
    "    difference1_gai.append(temp_i-temp_crn_i)\n",
    "\n",
    "print(difference1_gai)"
   ]
  },
  {
   "cell_type": "markdown",
   "id": "2711dc15",
   "metadata": {},
   "source": [
    "<font size=\"3\">Fairhope, AL: 2200 UTC 22 March 2022-2200 UTC 23 March 2022</font>"
   ]
  },
  {
   "cell_type": "code",
   "execution_count": 23,
   "id": "e9eb20f7",
   "metadata": {},
   "outputs": [
    {
     "name": "stdout",
     "output_type": "stream",
     "text": [
      "[23.8672, 22.9622, 22.2469, 22.3671, 22.3391, 22.2535, 21.8218, 21.6173, 18.2551, 16.6723, 18.5135, 17.3748, 17.9165, 16.676, 16.9779, 16.0418, 16.4398, 15.449, 15.9148, 16.3132, 16.1133, 16.1305, 16.9716, 17.1865, 17.4492]\n"
     ]
    }
   ],
   "source": [
    "#18 hr hrrr:\n",
    "with open('hrrr_f18_Fairhope_AL.txt') as f:\n",
    "    lst=[line.split()[1] for line in f]\n",
    "    temp=[]\n",
    "    for i in lst:\n",
    "        new=i.replace(',',\"\")\n",
    "        temp.append(new)\n",
    "    temp.pop(0)\n",
    "    temp=[float(x) for x in temp]\n",
    "    #print(temp.index(6.91541))\n",
    "    temp=temp[1924:1949]\n",
    "    print(temp)\n",
    "    #print(len(temp))\n",
    "#full time period is [2015:2112]"
   ]
  },
  {
   "cell_type": "code",
   "execution_count": 24,
   "id": "439b18c0",
   "metadata": {},
   "outputs": [
    {
     "name": "stdout",
     "output_type": "stream",
     "text": [
      "[22.6, 22.65, 22.7, 23.3, 23.25, 23.0, 21.4, 22.45, 19.2, 18.25, 18.25, 18.1, 17.85, 17.35, 16.65, 16.85, 17.1, 17.6, 17.8, 17.25, 17.549999999999997, 17.85, 18.6, 17.7, 17.05]\n"
     ]
    }
   ],
   "source": [
    "#Air Temp CRN:\n",
    "with open('CRNS0101-05-2022-AL_Fairhope_3_NE.txt') as f:\n",
    "    lst=[line.split()[8] for line in f]\n",
    "\n",
    "    a=(float(lst[23303])+float(lst[23304]))/2\n",
    "    b=(float(lst[23315])+float(lst[23316]))/2\n",
    "    c=(float(lst[23327])+float(lst[23328]))/2\n",
    "    d=(float(lst[23339])+float(lst[23340]))/2\n",
    "    e=(float(lst[23351])+float(lst[23352]))/2\n",
    "    f=(float(lst[23363])+float(lst[23364]))/2\n",
    "    g=(float(lst[23375])+float(lst[23376]))/2\n",
    "    h=(float(lst[23387])+float(lst[23388]))/2\n",
    "    i=(float(lst[23399])+float(lst[23400]))/2\n",
    "    j=(float(lst[23411])+float(lst[23412]))/2\n",
    "    k=(float(lst[23423])+float(lst[23424]))/2\n",
    "    l=(float(lst[23435])+float(lst[23436]))/2\n",
    "    m=(float(lst[23447])+float(lst[23448]))/2\n",
    "    n=(float(lst[23459])+float(lst[23460]))/2\n",
    "    o=(float(lst[23471])+float(lst[23472]))/2\n",
    "    p=(float(lst[23483])+float(lst[23484]))/2\n",
    "    q=(float(lst[23495])+float(lst[23496]))/2\n",
    "    r=(float(lst[23507])+float(lst[23508]))/2\n",
    "    s=(float(lst[23519])+float(lst[23520]))/2\n",
    "    t=(float(lst[23531])+float(lst[23532]))/2\n",
    "    u=(float(lst[23543])+float(lst[23544]))/2\n",
    "    v=(float(lst[23555])+float(lst[23556]))/2\n",
    "    w=(float(lst[23567])+float(lst[23568]))/2\n",
    "    x=(float(lst[23579])+float(lst[23580]))/2\n",
    "    y=(float(lst[23591])+float(lst[23592]))/2\n",
    "    temp_crn=[a,b,c,d,e,f,g,h,i,j,k,l,m,n,o,p,q,r,s,t,u,v,w,x,y]\n",
    "    print(temp_crn)"
   ]
  },
  {
   "cell_type": "code",
   "execution_count": 25,
   "id": "a9ff3306",
   "metadata": {},
   "outputs": [
    {
     "name": "stdout",
     "output_type": "stream",
     "text": [
      "[1.267199999999999, 0.3122000000000007, -0.45309999999999917, -0.9329000000000001, -0.9109000000000016, -0.746500000000001, 0.42180000000000106, -0.8326999999999991, -0.9449000000000005, -1.5777, 0.2635000000000005, -0.725200000000001, 0.06649999999999778, -0.674000000000003, 0.3279000000000032, -0.8082000000000029, -0.6601999999999997, -2.1510000000000016, -1.885200000000001, -0.9368000000000016, -1.4366999999999983, -1.7195, -1.6284000000000027, -0.5135000000000005, 0.39920000000000044]\n"
     ]
    }
   ],
   "source": [
    "difference1_fai = []\n",
    "\n",
    "zip_object = zip(temp, temp_crn)\n",
    "for temp_i, temp_crn_i in zip_object:\n",
    "    difference1_fai.append(temp_i-temp_crn_i)\n",
    "\n",
    "print(difference1_fai)"
   ]
  },
  {
   "cell_type": "markdown",
   "id": "f5dd4e4b",
   "metadata": {},
   "source": [
    "<font size=\"3\">**Selma, AL: 2200 UTC 22 March 2022-2200 UTC 23 March 2022</font>"
   ]
  },
  {
   "cell_type": "code",
   "execution_count": 26,
   "id": "af6b46b1",
   "metadata": {},
   "outputs": [
    {
     "name": "stdout",
     "output_type": "stream",
     "text": [
      "[23.4922, 22.6497, 21.7469, 21.0546, 19.9641, 19.691, 20.0718, 19.8673, 19.6926, 20.7348, 18.451, 17.4373, 17.4165, 17.1135, 16.0404, 16.6668, 16.7523, 17.074, 18.0398, 18.1257, 17.5508, 17.5055, 17.1591, 16.874, 15.9492]\n"
     ]
    }
   ],
   "source": [
    "import numpy as np\n",
    "import numpy.ma as ma\n",
    "#18 hr hrrr:\n",
    "with open('hrrr_f18_Selma_AL.txt') as f:\n",
    "    lst=[line.split()[1] for line in f]\n",
    "    temp=[]\n",
    "    for i in lst:\n",
    "        new=i.replace(',',\"\")\n",
    "        temp.append(new)\n",
    "    temp.pop(0)\n",
    "    temp=[float(x) for x in temp]\n",
    "    #print(temp.index(6.91541))\n",
    "    temp=temp[1924:1949]\n",
    "\n",
    "#     x = np.array(temp)\n",
    "#     temp = ma.masked_array(x, mask=[0, 0, 0, 0, 0,0,0,0,0,0,0,0,0,0,0,0,0,1,1,1,1,0,0,0,0])\n",
    "    print(temp)"
   ]
  },
  {
   "cell_type": "code",
   "execution_count": 27,
   "id": "455c7133",
   "metadata": {},
   "outputs": [
    {
     "name": "stdout",
     "output_type": "stream",
     "text": [
      "[24.25 23.55 23.0 21.75 20.85 20.75 20.85 19.5 20.65 20.6 20.0 20.3 18.0\n",
      " 16.25 15.8 15.9 -- -- -- -- -- 18.85 18.55 18.55 18.700000000000003]\n"
     ]
    }
   ],
   "source": [
    "#Air Temp CRN:\n",
    "with open('CRNS0101-05-2022-AL_Selma_13_WNW.txt') as f:\n",
    "    lst=[line.split()[8] for line in f]\n",
    "\n",
    "    a=(float(lst[23303])+float(lst[23304]))/2\n",
    "    b=(float(lst[23315])+float(lst[23316]))/2\n",
    "    c=(float(lst[23327])+float(lst[23328]))/2\n",
    "    d=(float(lst[23339])+float(lst[23340]))/2\n",
    "    e=(float(lst[23351])+float(lst[23352]))/2\n",
    "    f=(float(lst[23363])+float(lst[23364]))/2\n",
    "    g=(float(lst[23375])+float(lst[23376]))/2\n",
    "    h=(float(lst[23387])+float(lst[23388]))/2\n",
    "    i=(float(lst[23399])+float(lst[23400]))/2\n",
    "    j=(float(lst[23411])+float(lst[23412]))/2\n",
    "    k=(float(lst[23423])+float(lst[23424]))/2\n",
    "    l=(float(lst[23435])+float(lst[23436]))/2\n",
    "    m=(float(lst[23447])+float(lst[23448]))/2\n",
    "    n=(float(lst[23459])+float(lst[23460]))/2\n",
    "    o=(float(lst[23471])+float(lst[23472]))/2\n",
    "    p=(float(lst[23483])+float(lst[23484]))/2\n",
    "    q=(float(lst[23495])+float(lst[23496]))/2\n",
    "    r=(float(lst[23507])+float(lst[23508]))/2\n",
    "    s=(float(lst[23519])+float(lst[23520]))/2\n",
    "    t=(float(lst[23531])+float(lst[23532]))/2\n",
    "    u=(float(lst[23543])+float(lst[23544]))/2\n",
    "    v=(float(lst[23555])+float(lst[23556]))/2\n",
    "    w=(float(lst[23567])+float(lst[23568]))/2\n",
    "    x=(float(lst[23579])+float(lst[23580]))/2\n",
    "    y=(float(lst[23591])+float(lst[23592]))/2\n",
    "    temp_crn=[a,b,c,d,e,f,g,h,i,j,k,l,m,n,o,p,q,r,s,t,u,v,w,x,y]\n",
    "    y = np.array(temp_crn)\n",
    "    temp_crn = ma.masked_array(y, mask=[0, 0, 0, 0, 0,0,0,0,0,0,0,0,0,0,0,0,1,1,1,1,1,0,0,0,0])\n",
    "    print(temp_crn)"
   ]
  },
  {
   "cell_type": "code",
   "execution_count": 28,
   "id": "3f4814e5",
   "metadata": {},
   "outputs": [
    {
     "name": "stdout",
     "output_type": "stream",
     "text": [
      "[-0.7577999999999996, -0.9003000000000014, -1.2530999999999999, -0.6953999999999994, -0.885900000000003, -1.059000000000001, -0.7782000000000018, 0.3673000000000002, -0.9573999999999998, 0.13479999999999848, -1.5489999999999995, -2.8627000000000002, -0.5835000000000008, 0.8634999999999984, 0.24040000000000106, 0.7667999999999981, masked, masked, masked, masked, masked, -1.3445, -1.390900000000002, -1.676000000000002, -2.7508000000000035]\n"
     ]
    }
   ],
   "source": [
    "difference1_sel = []\n",
    "\n",
    "zip_object = zip(temp, temp_crn)\n",
    "for temp_i, temp_crn_i in zip_object:\n",
    "    difference1_sel.append(temp_i-temp_crn_i)\n",
    "\n",
    "print(difference1_sel)\n",
    "#print(len(difference1_sel))"
   ]
  },
  {
   "cell_type": "markdown",
   "id": "8fab4bdc",
   "metadata": {},
   "source": [
    "<font size=\"3\">Bowling Green, KY: 2300 UTC 22 March 2022-2300 UTC 23 March 2022</font>"
   ]
  },
  {
   "cell_type": "code",
   "execution_count": 29,
   "id": "1caf0dec",
   "metadata": {},
   "outputs": [
    {
     "name": "stdout",
     "output_type": "stream",
     "text": [
      "[22.2747, 19.4969, 16.0546, 16.5891, 16.0035, 15.1968, 15.7423, 14.8176, 14.7973, 15.3885, 15.3748, 16.229, 15.551, 15.5404, 15.6668, 16.0023, 16.074, 14.7898, 14.6882, 13.5508, 14.2555, 12.3466, 10.4365, 10.2617, 9.64343]\n"
     ]
    }
   ],
   "source": [
    "#18 hr hrrr:\n",
    "with open('hrrr_f18_Bowling Green_KY.txt') as f:\n",
    "    lst=[line.split()[1] for line in f]\n",
    "    temp=[]\n",
    "    for i in lst:\n",
    "        new=i.replace(',',\"\")\n",
    "        temp.append(new)\n",
    "    temp.pop(0)\n",
    "    temp=[float(x) for x in temp]\n",
    "    #print(temp.index(6.91541))\n",
    "    temp=temp[1925:1950]\n",
    "    print(temp)\n",
    "    #print(len(temp))\n",
    "#full time period is [2015:2112]"
   ]
  },
  {
   "cell_type": "code",
   "execution_count": 30,
   "id": "a1ea712c",
   "metadata": {},
   "outputs": [
    {
     "name": "stdout",
     "output_type": "stream",
     "text": [
      "[22.25, 20.700000000000003, 17.35, 15.45, 15.1, 15.0, 15.0, 14.95, 14.9, 15.1, 15.05, 14.8, 14.2, 14.3, 14.95, 15.8, 17.95, 17.85, 17.6, 17.65, 18.450000000000003, 15.350000000000001, 14.75, 12.55, 10.7]\n"
     ]
    }
   ],
   "source": [
    "#Air Temp CRN:\n",
    "with open('CRNS0101-05-2022-KY_Bowling_Green_21_NNE.txt') as f:\n",
    "    lst=[line.split()[8] for line in f]\n",
    "    \n",
    "    a=(float(lst[23315])+float(lst[23316]))/2\n",
    "    b=(float(lst[23327])+float(lst[23328]))/2\n",
    "    c=(float(lst[23339])+float(lst[23340]))/2\n",
    "    d=(float(lst[23351])+float(lst[23352]))/2\n",
    "    e=(float(lst[23363])+float(lst[23364]))/2\n",
    "    f=(float(lst[23375])+float(lst[23376]))/2\n",
    "    g=(float(lst[23387])+float(lst[23388]))/2\n",
    "    h=(float(lst[23399])+float(lst[23400]))/2\n",
    "    i=(float(lst[23411])+float(lst[23412]))/2\n",
    "    j=(float(lst[23423])+float(lst[23424]))/2\n",
    "    k=(float(lst[23435])+float(lst[23436]))/2\n",
    "    l=(float(lst[23447])+float(lst[23448]))/2\n",
    "    m=(float(lst[23459])+float(lst[23460]))/2\n",
    "    n=(float(lst[23471])+float(lst[23472]))/2\n",
    "    o=(float(lst[23483])+float(lst[23484]))/2\n",
    "    p=(float(lst[23495])+float(lst[23496]))/2\n",
    "    q=(float(lst[23507])+float(lst[23508]))/2\n",
    "    r=(float(lst[23519])+float(lst[23520]))/2\n",
    "    s=(float(lst[23531])+float(lst[23532]))/2\n",
    "    t=(float(lst[23543])+float(lst[23544]))/2\n",
    "    u=(float(lst[23555])+float(lst[23556]))/2\n",
    "    v=(float(lst[23567])+float(lst[23568]))/2\n",
    "    w=(float(lst[23579])+float(lst[23580]))/2\n",
    "    x=(float(lst[23591])+float(lst[23592]))/2\n",
    "    y=(float(lst[23603])+float(lst[23604]))/2\n",
    "    temp_crn=[a,b,c,d,e,f,g,h,i,j,k,l,m,n,o,p,q,r,s,t,u,v,w,x,y]\n",
    "    print(temp_crn)"
   ]
  },
  {
   "cell_type": "code",
   "execution_count": 31,
   "id": "c1e72531",
   "metadata": {},
   "outputs": [
    {
     "name": "stdout",
     "output_type": "stream",
     "text": [
      "[0.024699999999999278, -1.2031000000000027, -1.2954000000000008, 1.1390999999999991, 0.9034999999999993, 0.19679999999999964, 0.7423000000000002, -0.13239999999999874, -0.10270000000000046, 0.28850000000000087, 0.32479999999999976, 1.4289999999999985, 1.3510000000000009, 1.2403999999999993, 0.716800000000001, 0.20230000000000103, -1.8759999999999977, -3.060200000000002, -2.9118000000000013, -4.099199999999998, -4.194500000000003, -3.003400000000001, -4.3134999999999994, -2.2883000000000013, -1.056569999999999]\n"
     ]
    }
   ],
   "source": [
    "difference1_bow = []\n",
    "\n",
    "zip_object = zip(temp, temp_crn)\n",
    "for temp_i, temp_crn_i in zip_object:\n",
    "    difference1_bow.append(temp_i-temp_crn_i)\n",
    "\n",
    "print(difference1_bow)"
   ]
  },
  {
   "cell_type": "markdown",
   "id": "d1be2cc0",
   "metadata": {},
   "source": [
    "<font size=\"3\">Gadsden, AL: 0100 UTC 23 March 2022-0100 UTC 24 March 2022</font>"
   ]
  },
  {
   "cell_type": "code",
   "execution_count": 32,
   "id": "03235bce",
   "metadata": {},
   "outputs": [
    {
     "name": "stdout",
     "output_type": "stream",
     "text": [
      "[21.3671, 19.8391, 17.941, 16.9468, 16.6798, 17.0051, 17.6098, 18.076, 17.6873, 17.729, 16.4885, 16.1029, 15.6043, 15.5023, 16.574, 16.3523, 16.8757, 16.9883, 16.7555, 14.7216, 14.249, 13.3242, 12.2059, 10.8888, 10.0882]\n"
     ]
    }
   ],
   "source": [
    "#18 hr hrrr:\n",
    "with open('hrrr_f18_Gadsden_AL.txt') as f:\n",
    "    lst=[line.split()[1] for line in f]\n",
    "    temp=[]\n",
    "    for i in lst:\n",
    "        new=i.replace(',',\"\")\n",
    "        temp.append(new)\n",
    "    temp.pop(0)\n",
    "    temp=[float(x) for x in temp]\n",
    "    #print(temp.index(6.91541))\n",
    "    temp=temp[1927:1952]\n",
    "    print(temp)\n",
    "    #print(len(temp))\n",
    "#full time period is [2015:2112]"
   ]
  },
  {
   "cell_type": "code",
   "execution_count": 33,
   "id": "3bcebe7b",
   "metadata": {},
   "outputs": [
    {
     "name": "stdout",
     "output_type": "stream",
     "text": [
      "[20.3, 17.4, 15.5, 14.95, 14.6, 14.350000000000001, 14.6, 14.75, 15.3, 16.0, 17.55, 18.05, 17.0, 15.4, 15.9, 17.15, 18.9, 18.6, 18.9, 19.2, 18.2, 17.200000000000003, 15.4, 13.45, 12.05]\n"
     ]
    }
   ],
   "source": [
    "#Air Temp CRN:\n",
    "with open('CRNS0101-05-2022-AL_Gadsden_19_N.txt') as f:\n",
    "    lst=[line.split()[8] for line in f]\n",
    "    \n",
    "    a=(float(lst[23339])+float(lst[23340]))/2\n",
    "    b=(float(lst[23351])+float(lst[23352]))/2\n",
    "    c=(float(lst[23363])+float(lst[23364]))/2\n",
    "    d=(float(lst[23375])+float(lst[23376]))/2\n",
    "    e=(float(lst[23387])+float(lst[23388]))/2\n",
    "    f=(float(lst[23399])+float(lst[23400]))/2\n",
    "    g=(float(lst[23411])+float(lst[23412]))/2\n",
    "    h=(float(lst[23423])+float(lst[23424]))/2\n",
    "    i=(float(lst[23435])+float(lst[23436]))/2\n",
    "    j=(float(lst[23447])+float(lst[23448]))/2\n",
    "    k=(float(lst[23459])+float(lst[23460]))/2\n",
    "    l=(float(lst[23471])+float(lst[23472]))/2\n",
    "    m=(float(lst[23483])+float(lst[23484]))/2\n",
    "    n=(float(lst[23495])+float(lst[23496]))/2\n",
    "    o=(float(lst[23507])+float(lst[23508]))/2\n",
    "    p=(float(lst[23519])+float(lst[23520]))/2\n",
    "    q=(float(lst[23531])+float(lst[23532]))/2\n",
    "    r=(float(lst[23543])+float(lst[23544]))/2\n",
    "    s=(float(lst[23555])+float(lst[23556]))/2\n",
    "    t=(float(lst[23567])+float(lst[23568]))/2\n",
    "    u=(float(lst[23579])+float(lst[23580]))/2\n",
    "    v=(float(lst[23591])+float(lst[23592]))/2\n",
    "    w=(float(lst[23603])+float(lst[23604]))/2\n",
    "    x=(float(lst[23615])+float(lst[23616]))/2\n",
    "    y=(float(lst[23627])+float(lst[23628]))/2\n",
    "    temp_crn=[a,b,c,d,e,f,g,h,i,j,k,l,m,n,o,p,q,r,s,t,u,v,w,x,y]\n",
    "    print(temp_crn)"
   ]
  },
  {
   "cell_type": "code",
   "execution_count": 34,
   "id": "c002ac76",
   "metadata": {},
   "outputs": [
    {
     "name": "stdout",
     "output_type": "stream",
     "text": [
      "[1.0671, 2.4391, 2.440999999999999, 1.9968000000000004, 2.0798000000000005, 2.6550999999999974, 3.0098000000000003, 3.3260000000000005, 2.3872999999999998, 1.7289999999999992, -1.0615000000000023, -1.947099999999999, -1.3956999999999997, 0.10229999999999961, 0.6740000000000013, -0.797699999999999, -2.0243, -1.6117000000000026, -2.144499999999997, -4.478399999999999, -3.9509999999999987, -3.8758000000000035, -3.1941000000000006, -2.5611999999999995, -1.9618000000000002]\n"
     ]
    }
   ],
   "source": [
    "difference1_gad = []\n",
    "\n",
    "zip_object = zip(temp, temp_crn)\n",
    "for temp_i, temp_crn_i in zip_object:\n",
    "    difference1_gad.append(temp_i-temp_crn_i)\n",
    "\n",
    "print(difference1_gad)"
   ]
  },
  {
   "cell_type": "markdown",
   "id": "d430f7c6",
   "metadata": {},
   "source": [
    "<font size=\"3\">Newton, GA: 0900 UTC 23 March 2022-0900 UTC 24 March 2022</font>"
   ]
  },
  {
   "cell_type": "code",
   "execution_count": 35,
   "id": "13ffdd24",
   "metadata": {},
   "outputs": [
    {
     "name": "stdout",
     "output_type": "stream",
     "text": [
      "[19.8123, 20.604, 20.301, 20.6654, 20.7918, 20.8148, 21.8865, 22.6023, 24.0632, 24.0508, 23.068, 22.6591, 21.1865, 20.8242, 20.0809, 19.5763, 18.6507, 18.1646, 17.7325, 16.9733, 16.7148, 15.3281, 14.4466, 14.4213, 14.056]\n"
     ]
    }
   ],
   "source": [
    "#18 hr hrrr:\n",
    "with open('hrrr_f18_Newton_GA.txt') as f:\n",
    "    lst=[line.split()[1] for line in f]\n",
    "    temp=[]\n",
    "    for i in lst:\n",
    "        new=i.replace(',',\"\")\n",
    "        temp.append(new)\n",
    "    temp.pop(0)\n",
    "    temp=[float(x) for x in temp]\n",
    "    #print(temp.index(6.91541))\n",
    "    temp=temp[1935:1960]\n",
    "    print(temp)\n",
    "    #print(len(temp))\n",
    "#full time period is [2015:2112]"
   ]
  },
  {
   "cell_type": "code",
   "execution_count": 36,
   "id": "f4925cb9",
   "metadata": {},
   "outputs": [
    {
     "name": "stdout",
     "output_type": "stream",
     "text": [
      "[22.0, 21.1, 20.2, 20.3, 20.95, 21.05, 21.6, 22.6, 23.05, 23.1, 23.25, 23.85, 23.8, 23.35, 22.45, 21.45, 20.5, 19.95, 19.4, 18.8, 18.15, 17.6, 16.85, 16.25, 15.7]\n"
     ]
    }
   ],
   "source": [
    "#Air Temp CRN:\n",
    "with open('CRNS0101-05-2022-GA_Newton_11_SW.txt') as f:\n",
    "    lst=[line.split()[8] for line in f]\n",
    "    \n",
    "    a=(float(lst[23435])+float(lst[23436]))/2\n",
    "    b=(float(lst[23447])+float(lst[23448]))/2\n",
    "    c=(float(lst[23459])+float(lst[23460]))/2\n",
    "    d=(float(lst[23471])+float(lst[23472]))/2\n",
    "    e=(float(lst[23483])+float(lst[23484]))/2\n",
    "    f=(float(lst[23495])+float(lst[23496]))/2\n",
    "    g=(float(lst[23507])+float(lst[23508]))/2\n",
    "    h=(float(lst[23519])+float(lst[23520]))/2\n",
    "    i=(float(lst[23531])+float(lst[23532]))/2\n",
    "    j=(float(lst[23543])+float(lst[23544]))/2\n",
    "    k=(float(lst[23555])+float(lst[23556]))/2\n",
    "    l=(float(lst[23567])+float(lst[23568]))/2\n",
    "    m=(float(lst[23579])+float(lst[23580]))/2\n",
    "    n=(float(lst[23591])+float(lst[23592]))/2\n",
    "    o=(float(lst[23603])+float(lst[23604]))/2\n",
    "    p=(float(lst[23615])+float(lst[23616]))/2\n",
    "    q=(float(lst[23627])+float(lst[23628]))/2\n",
    "    r=(float(lst[23639])+float(lst[23640]))/2\n",
    "    s=(float(lst[23651])+float(lst[23652]))/2\n",
    "    t=(float(lst[23663])+float(lst[23664]))/2\n",
    "    u=(float(lst[23675])+float(lst[23676]))/2\n",
    "    v=(float(lst[23687])+float(lst[23688]))/2\n",
    "    w=(float(lst[23699])+float(lst[23700]))/2\n",
    "    x=(float(lst[23711])+float(lst[23712]))/2\n",
    "    y=(float(lst[23723])+float(lst[23724]))/2\n",
    "    temp_crn=[a,b,c,d,e,f,g,h,i,j,k,l,m,n,o,p,q,r,s,t,u,v,w,x,y]\n",
    "    print(temp_crn)"
   ]
  },
  {
   "cell_type": "code",
   "execution_count": 37,
   "id": "f2141c03",
   "metadata": {},
   "outputs": [
    {
     "name": "stdout",
     "output_type": "stream",
     "text": [
      "[-2.1876999999999995, -0.4960000000000022, 0.10099999999999909, 0.36540000000000106, -0.15820000000000078, -0.23519999999999897, 0.2865000000000002, 0.0022999999999981924, 1.0131999999999977, 0.9507999999999974, -0.1819999999999986, -1.1909000000000027, -2.613500000000002, -2.5258000000000003, -2.3690999999999995, -1.8736999999999995, -1.8492999999999995, -1.7853999999999992, -1.6674999999999969, -1.8267000000000024, -1.4351999999999983, -2.2719000000000023, -2.4034000000000013, -1.8286999999999995, -1.6440000000000001]\n"
     ]
    }
   ],
   "source": [
    "difference1_newt = []\n",
    "\n",
    "zip_object = zip(temp, temp_crn)\n",
    "for temp_i, temp_crn_i in zip_object:\n",
    "    difference1_newt.append(temp_i-temp_crn_i)\n",
    "\n",
    "print(difference1_newt)"
   ]
  },
  {
   "cell_type": "markdown",
   "id": "ab4663ab",
   "metadata": {},
   "source": [
    "<font size=\"3\">Salem, MO: 1300 UTC 30 March 2022-1300 UTC 31 March 2022</font>"
   ]
  },
  {
   "cell_type": "code",
   "execution_count": 38,
   "id": "99a04d39",
   "metadata": {},
   "outputs": [
    {
     "name": "stdout",
     "output_type": "stream",
     "text": [
      "[14.8523, 13.7739, 13.7409, 16.9796, 17.1769, 15.6283, 17.1593, 15.9153, 16.1169, 10.2902, 9.54889, 7.65637, 7.09412, 6.18277, 4.87115, 4.70319, 4.17694, 3.54636, 3.36578, 3.32358, 3.01022, 2.57474, 2.21048, 1.79971, 1.64017]\n"
     ]
    }
   ],
   "source": [
    "#18 hr hrrr:\n",
    "with open('hrrr_f18_Salem_MO.txt') as f:\n",
    "    lst=[line.split()[1] for line in f]\n",
    "    temp=[]\n",
    "    for i in lst:\n",
    "        new=i.replace(',',\"\")\n",
    "        temp.append(new)\n",
    "    temp.pop(0)\n",
    "    temp=[float(x) for x in temp]\n",
    "    #print(temp.index(6.91541))\n",
    "    temp=temp[2107:2132]\n",
    "    print(temp)\n",
    "    #print(len(temp))\n",
    "#full time period is [2015:2112]"
   ]
  },
  {
   "cell_type": "code",
   "execution_count": 39,
   "id": "d27b98bf",
   "metadata": {},
   "outputs": [
    {
     "name": "stdout",
     "output_type": "stream",
     "text": [
      "[16.8, 14.1, 13.5, 13.95, 14.45, 14.4, 14.05, 14.0, 13.850000000000001, 9.4, 7.05, 5.4, 5.1, 4.1, 3.45, 3.1, 2.8499999999999996, 2.8, 2.3, 2.1, 2.1, 2.3499999999999996, 2.2, 2.2, 2.45]\n"
     ]
    }
   ],
   "source": [
    "#Air Temp CRN:\n",
    "with open('CRNS0101-05-2022-MO_Salem_10_W.txt') as f:\n",
    "    lst=[line.split()[8] for line in f]\n",
    "    \n",
    "    a=(float(lst[25499])+float(lst[25500]))/2\n",
    "    b=(float(lst[25511])+float(lst[25512]))/2\n",
    "    c=(float(lst[25523])+float(lst[25524]))/2\n",
    "    d=(float(lst[25535])+float(lst[25536]))/2\n",
    "    e=(float(lst[25547])+float(lst[25548]))/2\n",
    "    f=(float(lst[25559])+float(lst[25560]))/2\n",
    "    g=(float(lst[25571])+float(lst[25572]))/2\n",
    "    h=(float(lst[25583])+float(lst[25584]))/2\n",
    "    i=(float(lst[25595])+float(lst[25596]))/2\n",
    "    j=(float(lst[25607])+float(lst[25608]))/2\n",
    "    k=(float(lst[25619])+float(lst[25620]))/2\n",
    "    l=(float(lst[25631])+float(lst[25632]))/2\n",
    "    m=(float(lst[25643])+float(lst[25644]))/2\n",
    "    n=(float(lst[25655])+float(lst[25656]))/2\n",
    "    o=(float(lst[25667])+float(lst[25668]))/2\n",
    "    p=(float(lst[25679])+float(lst[25680]))/2\n",
    "    q=(float(lst[25691])+float(lst[25692]))/2\n",
    "    r=(float(lst[25703])+float(lst[25704]))/2\n",
    "    s=(float(lst[25715])+float(lst[25716]))/2\n",
    "    t=(float(lst[25727])+float(lst[25728]))/2\n",
    "    u=(float(lst[25739])+float(lst[25740]))/2\n",
    "    v=(float(lst[25751])+float(lst[25752]))/2\n",
    "    w=(float(lst[25763])+float(lst[25764]))/2\n",
    "    x=(float(lst[25775])+float(lst[25776]))/2\n",
    "    y=(float(lst[25787])+float(lst[25788]))/2\n",
    "    temp_crn=[a,b,c,d,e,f,g,h,i,j,k,l,m,n,o,p,q,r,s,t,u,v,w,x,y]\n",
    "    print(temp_crn)"
   ]
  },
  {
   "cell_type": "code",
   "execution_count": 40,
   "id": "e426b6a3",
   "metadata": {},
   "outputs": [
    {
     "name": "stdout",
     "output_type": "stream",
     "text": [
      "[-1.947700000000001, -0.3261000000000003, 0.2408999999999999, 3.029600000000002, 2.7269000000000005, 1.228299999999999, 3.109300000000001, 1.9153000000000002, 2.2668999999999997, 0.8902000000000001, 2.4988900000000003, 2.2563699999999995, 1.9941200000000006, 2.08277, 1.42115, 1.6031900000000001, 1.3269400000000005, 0.7463600000000001, 1.0657800000000002, 1.2235800000000001, 0.9102199999999998, 0.22474000000000016, 0.010479999999999823, -0.40029000000000026, -0.8098300000000003]\n"
     ]
    }
   ],
   "source": [
    "difference2_sal = []\n",
    "\n",
    "zip_object = zip(temp, temp_crn)\n",
    "for temp_i, temp_crn_i in zip_object:\n",
    "    difference2_sal.append(temp_i-temp_crn_i)\n",
    "\n",
    "print(difference2_sal)"
   ]
  },
  {
   "cell_type": "markdown",
   "id": "e17a19ca",
   "metadata": {},
   "source": [
    "<font size=\"3\">Batesville, AR: 1300 UTC 30 March 2022-1300 UTC 31 March 2022</font>"
   ]
  },
  {
   "cell_type": "code",
   "execution_count": 41,
   "id": "eba099f6",
   "metadata": {},
   "outputs": [
    {
     "name": "stdout",
     "output_type": "stream",
     "text": [
      "[18.0398, 19.0864, 18.6159, 18.3546, 18.3644, 17.8158, 18.1593, 18.1028, 17.3044, 17.2277, 16.8614, 13.4689, 11.2191, 9.05777, 7.80865, 7.45319, 6.55194, 6.42136, 5.36578, 4.82358, 4.32272, 3.57474, 3.08548, 3.42471, 4.01517]\n"
     ]
    }
   ],
   "source": [
    "#18 hr hrrr:\n",
    "with open('hrrr_f18_Batesville_AR.txt') as f:\n",
    "    lst=[line.split()[1] for line in f]\n",
    "    temp=[]\n",
    "    for i in lst:\n",
    "        new=i.replace(',',\"\")\n",
    "        temp.append(new)\n",
    "    temp.pop(0)\n",
    "    temp=[float(x) for x in temp]\n",
    "    #print(temp.index(6.91541))\n",
    "    temp=temp[2107:2132]\n",
    "    print(temp)\n",
    "    #print(len(temp))\n",
    "#full time period is [2015:2112]"
   ]
  },
  {
   "cell_type": "code",
   "execution_count": 42,
   "id": "bfa93776",
   "metadata": {},
   "outputs": [
    {
     "name": "stdout",
     "output_type": "stream",
     "text": [
      "[19.25, 19.4, 19.7, 18.799999999999997, 18.2, 17.35, 16.25, 15.850000000000001, 14.5, 15.4, 16.25, 15.05, 9.399999999999999, 8.5, 8.149999999999999, 7.05, 6.6, 6.65, 5.45, 5.6, 5.35, 5.15, 3.8, 2.5, 4.55]\n"
     ]
    }
   ],
   "source": [
    "#Air Temp CRN:\n",
    "with open('CRNS0101-05-2022-AR_Batesville_8_WNW.txt') as f:\n",
    "    lst=[line.split()[8] for line in f]\n",
    "    \n",
    "    a=(float(lst[25499])+float(lst[25500]))/2\n",
    "    b=(float(lst[25511])+float(lst[25512]))/2\n",
    "    c=(float(lst[25523])+float(lst[25524]))/2\n",
    "    d=(float(lst[25535])+float(lst[25536]))/2\n",
    "    e=(float(lst[25547])+float(lst[25548]))/2\n",
    "    f=(float(lst[25559])+float(lst[25560]))/2\n",
    "    g=(float(lst[25571])+float(lst[25572]))/2\n",
    "    h=(float(lst[25583])+float(lst[25584]))/2\n",
    "    i=(float(lst[25595])+float(lst[25596]))/2\n",
    "    j=(float(lst[25607])+float(lst[25608]))/2\n",
    "    k=(float(lst[25619])+float(lst[25620]))/2\n",
    "    l=(float(lst[25631])+float(lst[25632]))/2\n",
    "    m=(float(lst[25643])+float(lst[25644]))/2\n",
    "    n=(float(lst[25655])+float(lst[25656]))/2\n",
    "    o=(float(lst[25667])+float(lst[25668]))/2\n",
    "    p=(float(lst[25679])+float(lst[25680]))/2\n",
    "    q=(float(lst[25691])+float(lst[25692]))/2\n",
    "    r=(float(lst[25703])+float(lst[25704]))/2\n",
    "    s=(float(lst[25715])+float(lst[25716]))/2\n",
    "    t=(float(lst[25727])+float(lst[25728]))/2\n",
    "    u=(float(lst[25739])+float(lst[25740]))/2\n",
    "    v=(float(lst[25751])+float(lst[25752]))/2\n",
    "    w=(float(lst[25763])+float(lst[25764]))/2\n",
    "    x=(float(lst[25775])+float(lst[25776]))/2\n",
    "    y=(float(lst[25787])+float(lst[25788]))/2\n",
    "    temp_crn=[a,b,c,d,e,f,g,h,i,j,k,l,m,n,o,p,q,r,s,t,u,v,w,x,y]\n",
    "    print(temp_crn)"
   ]
  },
  {
   "cell_type": "code",
   "execution_count": 43,
   "id": "12f91aa0",
   "metadata": {},
   "outputs": [
    {
     "name": "stdout",
     "output_type": "stream",
     "text": [
      "[-1.2102000000000004, -0.31359999999999744, -1.0840999999999994, -0.4453999999999958, 0.16440000000000055, 0.465799999999998, 1.9093000000000018, 2.252799999999997, 2.804400000000001, 1.8276999999999983, 0.6113999999999997, -1.581100000000001, 1.8191000000000006, 0.5577699999999997, -0.3413499999999985, 0.4031900000000004, -0.04805999999999955, -0.2286400000000004, -0.08422000000000018, -0.7764199999999999, -1.0272799999999993, -1.5752600000000005, -0.7145199999999998, 0.9247100000000001, -0.5348299999999995]\n"
     ]
    }
   ],
   "source": [
    "difference2_bat = []\n",
    "\n",
    "zip_object = zip(temp, temp_crn)\n",
    "for temp_i, temp_crn_i in zip_object:\n",
    "    difference2_bat.append(temp_i-temp_crn_i)\n",
    "\n",
    "print(difference2_bat)"
   ]
  },
  {
   "cell_type": "markdown",
   "id": "cda99a3a",
   "metadata": {},
   "source": [
    "<font size=\"3\">Lafayette, LA: 1700 UTC 30 March 2022-1700 UTC 31 March 2022</font>"
   ]
  },
  {
   "cell_type": "code",
   "execution_count": 44,
   "id": "26376511",
   "metadata": {},
   "outputs": [
    {
     "name": "stdout",
     "output_type": "stream",
     "text": [
      "[25.8019, 24.8158, 24.0343, 24.3528, 22.3044, 23.0402, 22.9864, 21.7189, 20.2191, 19.3078, 18.8087, 18.2032, 16.8019, 15.7339, 15.4283, 14.1986, 13.3227, 11.9497, 11.3355, 10.2997, 10.9527, 11.828, 12.6461, 15.0931, 16.129]\n"
     ]
    }
   ],
   "source": [
    "#18 hr hrrr:\n",
    "with open('hrrr_f18_Lafayette_LA.txt') as f:\n",
    "    lst=[line.split()[1] for line in f]\n",
    "    temp=[]\n",
    "    for i in lst:\n",
    "        new=i.replace(',',\"\")\n",
    "        temp.append(new)\n",
    "    temp.pop(0)\n",
    "    temp=[float(x) for x in temp]\n",
    "    #print(temp.index(6.91541))\n",
    "    temp=temp[2111:2136]\n",
    "    print(temp)\n",
    "    #print(len(temp))\n",
    "#full time period is [2015:2112]"
   ]
  },
  {
   "cell_type": "code",
   "execution_count": 45,
   "id": "a99a4e51",
   "metadata": {},
   "outputs": [
    {
     "name": "stdout",
     "output_type": "stream",
     "text": [
      "[23.65, 24.05, 24.5, 24.1, 23.2, 16.35, 17.3, 17.6, 15.950000000000001, 15.3, 15.649999999999999, 15.55, 14.95, 16.65, 15.600000000000001, 14.6, 12.55, 11.5, 10.05, 9.45, 11.2, 12.85, 14.8, 16.95, 17.7]\n"
     ]
    }
   ],
   "source": [
    "#Air Temp CRN:\n",
    "with open('CRNS0101-05-2022-LA_Lafayette_13_SE.txt') as f:\n",
    "    lst=[line.split()[8] for line in f]\n",
    "    \n",
    "    a=(float(lst[25547])+float(lst[25548]))/2\n",
    "    b=(float(lst[25559])+float(lst[25560]))/2\n",
    "    c=(float(lst[25571])+float(lst[25572]))/2\n",
    "    d=(float(lst[25583])+float(lst[25584]))/2\n",
    "    e=(float(lst[25595])+float(lst[25596]))/2\n",
    "    f=(float(lst[25607])+float(lst[25608]))/2\n",
    "    g=(float(lst[25619])+float(lst[25620]))/2\n",
    "    h=(float(lst[25631])+float(lst[25632]))/2\n",
    "    i=(float(lst[25643])+float(lst[25644]))/2\n",
    "    j=(float(lst[25655])+float(lst[25656]))/2\n",
    "    k=(float(lst[25667])+float(lst[25668]))/2\n",
    "    l=(float(lst[25679])+float(lst[25680]))/2\n",
    "    m=(float(lst[25691])+float(lst[25692]))/2\n",
    "    n=(float(lst[25703])+float(lst[25704]))/2\n",
    "    o=(float(lst[25715])+float(lst[25716]))/2\n",
    "    p=(float(lst[25727])+float(lst[25728]))/2\n",
    "    q=(float(lst[25739])+float(lst[25740]))/2\n",
    "    r=(float(lst[25751])+float(lst[25752]))/2\n",
    "    s=(float(lst[25763])+float(lst[25764]))/2\n",
    "    t=(float(lst[25775])+float(lst[25776]))/2\n",
    "    u=(float(lst[25787])+float(lst[25788]))/2\n",
    "    v=(float(lst[25799])+float(lst[25800]))/2\n",
    "    w=(float(lst[25811])+float(lst[25812]))/2\n",
    "    x=(float(lst[25823])+float(lst[25824]))/2\n",
    "    y=(float(lst[25835])+float(lst[25836]))/2\n",
    "    temp_crn=[a,b,c,d,e,f,g,h,i,j,k,l,m,n,o,p,q,r,s,t,u,v,w,x,y]\n",
    "    print(temp_crn)"
   ]
  },
  {
   "cell_type": "code",
   "execution_count": 46,
   "id": "ad9e49f7",
   "metadata": {},
   "outputs": [
    {
     "name": "stdout",
     "output_type": "stream",
     "text": [
      "[2.1519000000000013, 0.7657999999999987, -0.4656999999999982, 0.252799999999997, -0.8955999999999982, 6.690199999999997, 5.686399999999999, 4.1189, 4.2691, 4.0078, 3.158700000000003, 2.6531999999999982, 1.8519000000000005, -0.9160999999999984, -0.1717000000000013, -0.40139999999999887, 0.7726999999999986, 0.4497, 1.285499999999999, 0.8497000000000003, -0.2472999999999992, -1.0220000000000002, -2.1539, -1.8568999999999996, -1.570999999999998]\n"
     ]
    }
   ],
   "source": [
    "difference2_laf = []\n",
    "\n",
    "zip_object = zip(temp, temp_crn)\n",
    "for temp_i, temp_crn_i in zip_object:\n",
    "    difference2_laf.append(temp_i-temp_crn_i)\n",
    "\n",
    "print(difference2_laf)"
   ]
  },
  {
   "cell_type": "markdown",
   "id": "5bdd017c",
   "metadata": {},
   "source": [
    "<font size=\"3\">Monroe, LA: 1700 UTC 30 March 2022-1700 UTC 31 March 2022</font>"
   ]
  },
  {
   "cell_type": "code",
   "execution_count": 47,
   "id": "5ef5ec6e",
   "metadata": {},
   "outputs": [
    {
     "name": "stdout",
     "output_type": "stream",
     "text": [
      "[22.1144, 15.8783, 17.0968, 17.4778, 17.6794, 19.2902, 19.9864, 18.3439, 15.9066, 13.8078, 12.3087, 11.4532, 9.73944, 10.7339, 10.3658, 8.76108, 8.19772, 7.51224, 7.14798, 6.98721, 7.64017, 8.70297, 9.95859, 10.9681, 12.254]\n"
     ]
    }
   ],
   "source": [
    "#18 hr hrrr:\n",
    "with open('hrrr_f18_Monroe_LA.txt') as f:\n",
    "    lst=[line.split()[1] for line in f]\n",
    "    temp=[]\n",
    "    for i in lst:\n",
    "        new=i.replace(',',\"\")\n",
    "        temp.append(new)\n",
    "    temp.pop(0)\n",
    "    temp=[float(x) for x in temp]\n",
    "    #print(temp.index(6.91541))\n",
    "    temp=temp[2111:2136]\n",
    "    print(temp)\n",
    "    #print(len(temp))\n",
    "#full time period is [2015:2112]"
   ]
  },
  {
   "cell_type": "code",
   "execution_count": 48,
   "id": "13a6a15b",
   "metadata": {},
   "outputs": [
    {
     "name": "stdout",
     "output_type": "stream",
     "text": [
      "[20.799999999999997, 21.4, 16.2, 15.6, 16.299999999999997, 17.65, 17.95, 17.1, 16.35, 15.950000000000001, 14.0, 13.2, 11.4, 9.45, 8.6, 8.95, 7.3, 5.65, 4.9, 4.199999999999999, 5.5, 9.25, 11.5, 13.8, 14.850000000000001]\n"
     ]
    }
   ],
   "source": [
    "#Air Temp CRN:\n",
    "with open('CRNS0101-05-2022-LA_Monroe_26_N.txt') as f:\n",
    "    lst=[line.split()[8] for line in f]\n",
    "    \n",
    "    a=(float(lst[25547])+float(lst[25548]))/2\n",
    "    b=(float(lst[25559])+float(lst[25560]))/2\n",
    "    c=(float(lst[25571])+float(lst[25572]))/2\n",
    "    d=(float(lst[25583])+float(lst[25584]))/2\n",
    "    e=(float(lst[25595])+float(lst[25596]))/2\n",
    "    f=(float(lst[25607])+float(lst[25608]))/2\n",
    "    g=(float(lst[25619])+float(lst[25620]))/2\n",
    "    h=(float(lst[25631])+float(lst[25632]))/2\n",
    "    i=(float(lst[25643])+float(lst[25644]))/2\n",
    "    j=(float(lst[25655])+float(lst[25656]))/2\n",
    "    k=(float(lst[25667])+float(lst[25668]))/2\n",
    "    l=(float(lst[25679])+float(lst[25680]))/2\n",
    "    m=(float(lst[25691])+float(lst[25692]))/2\n",
    "    n=(float(lst[25703])+float(lst[25704]))/2\n",
    "    o=(float(lst[25715])+float(lst[25716]))/2\n",
    "    p=(float(lst[25727])+float(lst[25728]))/2\n",
    "    q=(float(lst[25739])+float(lst[25740]))/2\n",
    "    r=(float(lst[25751])+float(lst[25752]))/2\n",
    "    s=(float(lst[25763])+float(lst[25764]))/2\n",
    "    t=(float(lst[25775])+float(lst[25776]))/2\n",
    "    u=(float(lst[25787])+float(lst[25788]))/2\n",
    "    v=(float(lst[25799])+float(lst[25800]))/2\n",
    "    w=(float(lst[25811])+float(lst[25812]))/2\n",
    "    x=(float(lst[25823])+float(lst[25824]))/2\n",
    "    y=(float(lst[25835])+float(lst[25836]))/2\n",
    "    temp_crn=[a,b,c,d,e,f,g,h,i,j,k,l,m,n,o,p,q,r,s,t,u,v,w,x,y]\n",
    "    print(temp_crn)"
   ]
  },
  {
   "cell_type": "code",
   "execution_count": 49,
   "id": "178b8e52",
   "metadata": {},
   "outputs": [
    {
     "name": "stdout",
     "output_type": "stream",
     "text": [
      "[1.3144000000000027, -5.521699999999999, 0.8968000000000025, 1.8777999999999988, 1.379400000000004, 1.6402, 2.0364000000000004, 1.2439, -0.44340000000000224, -2.1422000000000008, -1.6913, -1.7467999999999986, -1.6605600000000003, 1.283900000000001, 1.7658000000000005, -0.18891999999999953, 0.8977200000000005, 1.86224, 2.247979999999999, 2.787210000000001, 2.1401700000000003, -0.5470299999999995, -1.5414100000000008, -2.831900000000001, -2.596000000000002]\n"
     ]
    }
   ],
   "source": [
    "difference2_mon = []\n",
    "\n",
    "zip_object = zip(temp, temp_crn)\n",
    "for temp_i, temp_crn_i in zip_object:\n",
    "    difference2_mon.append(temp_i-temp_crn_i)\n",
    "\n",
    "print(difference2_mon)"
   ]
  },
  {
   "cell_type": "markdown",
   "id": "3e401515",
   "metadata": {},
   "source": [
    "<font size=\"3\">Holly Springs, MS: 2000 UTC 30 March 2022-2000 UTC 31 March 2022</font>"
   ]
  },
  {
   "cell_type": "code",
   "execution_count": 50,
   "id": "d634b795",
   "metadata": {},
   "outputs": [
    {
     "name": "stdout",
     "output_type": "stream",
     "text": [
      "[22.9153, 21.1169, 20.1027, 15.7364, 15.7814, 15.5941, 14.9953, 14.8087, 14.2032, 11.5519, 11.2964, 10.4283, 9.32358, 7.94772, 6.69974, 6.64798, 5.92471, 5.76517, 6.14047, 6.89609, 7.90561, 8.504, 9.19208, 9.81454, 10.2291]\n"
     ]
    }
   ],
   "source": [
    "#18 hr hrrr:\n",
    "with open('hrrr_f18_Holly Springs_MS.txt') as f:\n",
    "    lst=[line.split()[1] for line in f]\n",
    "    temp=[]\n",
    "    for i in lst:\n",
    "        new=i.replace(',',\"\")\n",
    "        temp.append(new)\n",
    "    temp.pop(0)\n",
    "    temp=[float(x) for x in temp]\n",
    "    #print(temp.index(6.91541))\n",
    "    temp=temp[2114:2139]\n",
    "    print(temp)\n",
    "    #print(len(temp))\n",
    "#full time period is [2015:2112]"
   ]
  },
  {
   "cell_type": "code",
   "execution_count": 51,
   "id": "82820f6a",
   "metadata": {},
   "outputs": [
    {
     "name": "stdout",
     "output_type": "stream",
     "text": [
      "[19.950000000000003, 19.85, 19.3, 14.8, 14.45, 14.8, 14.7, 14.5, 14.6, 14.2, 11.850000000000001, 10.5, 8.2, 7.1, 6.5, 6.2, 6.4, 6.55, 7.55, 8.95, 9.8, 11.25, 13.0, 13.75, 14.25]\n"
     ]
    }
   ],
   "source": [
    "#Air Temp CRN:\n",
    "with open('CRNS0101-05-2022-MS_Holly_Springs_4_N.txt') as f:\n",
    "    lst=[line.split()[8] for line in f]\n",
    "\n",
    "    a=(float(lst[25583])+float(lst[25584]))/2\n",
    "    b=(float(lst[25595])+float(lst[25596]))/2\n",
    "    c=(float(lst[25607])+float(lst[25608]))/2\n",
    "    d=(float(lst[25619])+float(lst[25620]))/2\n",
    "    e=(float(lst[25631])+float(lst[25632]))/2\n",
    "    f=(float(lst[25643])+float(lst[25644]))/2\n",
    "    g=(float(lst[25655])+float(lst[25656]))/2\n",
    "    h=(float(lst[25667])+float(lst[25668]))/2\n",
    "    i=(float(lst[25679])+float(lst[25680]))/2\n",
    "    j=(float(lst[25691])+float(lst[25692]))/2\n",
    "    k=(float(lst[25703])+float(lst[25704]))/2\n",
    "    l=(float(lst[25715])+float(lst[25716]))/2\n",
    "    m=(float(lst[25727])+float(lst[25728]))/2\n",
    "    n=(float(lst[25739])+float(lst[25740]))/2\n",
    "    o=(float(lst[25751])+float(lst[25752]))/2\n",
    "    p=(float(lst[25763])+float(lst[25764]))/2\n",
    "    q=(float(lst[25775])+float(lst[25776]))/2\n",
    "    r=(float(lst[25787])+float(lst[25788]))/2\n",
    "    s=(float(lst[25799])+float(lst[25800]))/2\n",
    "    t=(float(lst[25811])+float(lst[25812]))/2\n",
    "    u=(float(lst[25823])+float(lst[25824]))/2\n",
    "    v=(float(lst[25835])+float(lst[25836]))/2\n",
    "    w=(float(lst[25847])+float(lst[25848]))/2\n",
    "    x=(float(lst[25859])+float(lst[25860]))/2\n",
    "    y=(float(lst[25871])+float(lst[25872]))/2\n",
    "    temp_crn=[a,b,c,d,e,f,g,h,i,j,k,l,m,n,o,p,q,r,s,t,u,v,w,x,y]\n",
    "    print(temp_crn)"
   ]
  },
  {
   "cell_type": "code",
   "execution_count": 52,
   "id": "b348cd62",
   "metadata": {},
   "outputs": [
    {
     "name": "stdout",
     "output_type": "stream",
     "text": [
      "[2.9652999999999956, 1.2668999999999997, 0.802699999999998, 0.936399999999999, 1.3314000000000004, 0.7940999999999985, 0.295300000000001, 0.3087, -0.39679999999999893, -2.6480999999999995, -0.5536000000000012, -0.07169999999999987, 1.1235800000000005, 0.8477200000000007, 0.19974000000000025, 0.4479799999999994, -0.4752900000000002, -0.7848299999999995, -1.4095300000000002, -2.0539099999999992, -1.8943900000000005, -2.7460000000000004, -3.8079199999999993, -3.935460000000001, -4.020899999999999]\n"
     ]
    }
   ],
   "source": [
    "difference2_hol = []\n",
    "\n",
    "zip_object = zip(temp, temp_crn)\n",
    "for temp_i, temp_crn_i in zip_object:\n",
    "    difference2_hol.append(temp_i-temp_crn_i)\n",
    "\n",
    "print(difference2_hol)"
   ]
  },
  {
   "cell_type": "markdown",
   "id": "b5225197",
   "metadata": {},
   "source": [
    "<font size=\"3\">Newton, MS: 2000 UTC 30 March 2022-2000 UTC 31 March 2022</font>"
   ]
  },
  {
   "cell_type": "code",
   "execution_count": 53,
   "id": "62c8df7f",
   "metadata": {},
   "outputs": [
    {
     "name": "stdout",
     "output_type": "stream",
     "text": [
      "[26.7903, 25.8044, 25.6652, 22.2364, 20.6564, 16.9066, 16.8703, 16.7462, 16.0157, 16.6769, 16.4214, 16.3658, 14.5736, 12.0727, 11.5747, 11.273, 10.6747, 9.64017, 9.01547, 9.45859, 10.3431, 11.9415, 13.0671, 14.502, 15.4166]\n"
     ]
    }
   ],
   "source": [
    "#18 hr hrrr:\n",
    "with open('hrrr_f18_Newton_MS.txt') as f:\n",
    "    lst=[line.split()[1] for line in f]\n",
    "    temp=[]\n",
    "    for i in lst:\n",
    "        new=i.replace(',',\"\")\n",
    "        temp.append(new)\n",
    "    temp.pop(0)\n",
    "    temp=[float(x) for x in temp]\n",
    "    #print(temp.index(6.91541))\n",
    "    temp=temp[2114:2139]\n",
    "    print(temp)\n",
    "    #print(len(temp))\n",
    "#full time period is [2015:2112]"
   ]
  },
  {
   "cell_type": "code",
   "execution_count": 54,
   "id": "32b82de3",
   "metadata": {},
   "outputs": [
    {
     "name": "stdout",
     "output_type": "stream",
     "text": [
      "[25.25, 24.9, 24.0, 23.85, 21.25, 16.0, 15.350000000000001, 15.05, 14.45, 13.649999999999999, 13.8, 13.4, 13.95, 12.45, 11.45, 11.0, 10.25, 10.7, 10.25, 11.45, 13.3, 14.7, 16.3, 17.4, 17.9]\n"
     ]
    }
   ],
   "source": [
    "#Air Temp CRN:\n",
    "with open('CRNS0101-05-2022-MS_Newton_5_ENE.txt') as f:\n",
    "    lst=[line.split()[8] for line in f]\n",
    "\n",
    "    a=(float(lst[25583])+float(lst[25584]))/2\n",
    "    b=(float(lst[25595])+float(lst[25596]))/2\n",
    "    c=(float(lst[25607])+float(lst[25608]))/2\n",
    "    d=(float(lst[25619])+float(lst[25620]))/2\n",
    "    e=(float(lst[25631])+float(lst[25632]))/2\n",
    "    f=(float(lst[25643])+float(lst[25644]))/2\n",
    "    g=(float(lst[25655])+float(lst[25656]))/2\n",
    "    h=(float(lst[25667])+float(lst[25668]))/2\n",
    "    i=(float(lst[25679])+float(lst[25680]))/2\n",
    "    j=(float(lst[25691])+float(lst[25692]))/2\n",
    "    k=(float(lst[25703])+float(lst[25704]))/2\n",
    "    l=(float(lst[25715])+float(lst[25716]))/2\n",
    "    m=(float(lst[25727])+float(lst[25728]))/2\n",
    "    n=(float(lst[25739])+float(lst[25740]))/2\n",
    "    o=(float(lst[25751])+float(lst[25752]))/2\n",
    "    p=(float(lst[25763])+float(lst[25764]))/2\n",
    "    q=(float(lst[25775])+float(lst[25776]))/2\n",
    "    r=(float(lst[25787])+float(lst[25788]))/2\n",
    "    s=(float(lst[25799])+float(lst[25800]))/2\n",
    "    t=(float(lst[25811])+float(lst[25812]))/2\n",
    "    u=(float(lst[25823])+float(lst[25824]))/2\n",
    "    v=(float(lst[25835])+float(lst[25836]))/2\n",
    "    w=(float(lst[25847])+float(lst[25848]))/2\n",
    "    x=(float(lst[25859])+float(lst[25860]))/2\n",
    "    y=(float(lst[25871])+float(lst[25872]))/2\n",
    "    temp_crn=[a,b,c,d,e,f,g,h,i,j,k,l,m,n,o,p,q,r,s,t,u,v,w,x,y]\n",
    "    print(temp_crn)"
   ]
  },
  {
   "cell_type": "code",
   "execution_count": 55,
   "id": "cd6de2b7",
   "metadata": {},
   "outputs": [
    {
     "name": "stdout",
     "output_type": "stream",
     "text": [
      "[1.5402999999999984, 0.9044000000000025, 1.6651999999999987, -1.6136000000000017, -0.5935999999999986, 0.906600000000001, 1.5202999999999989, 1.696200000000001, 1.5656999999999996, 3.0269000000000013, 2.6213999999999977, 2.9657999999999998, 0.6236000000000015, -0.37729999999999997, 0.1247000000000007, 0.2729999999999997, 0.42469999999999963, -1.0598299999999998, -1.2345299999999995, -1.9914100000000001, -2.956900000000001, -2.7584999999999997, -3.2329000000000008, -2.897999999999998, -2.483399999999998]\n"
     ]
    }
   ],
   "source": [
    "difference2_new = []\n",
    "\n",
    "zip_object = zip(temp, temp_crn)\n",
    "for temp_i, temp_crn_i in zip_object:\n",
    "    difference2_new.append(temp_i-temp_crn_i)\n",
    "\n",
    "print(difference2_new)"
   ]
  },
  {
   "cell_type": "markdown",
   "id": "bfaeb78c",
   "metadata": {},
   "source": [
    "<font size=\"3\">Gainesville, AL: 2300 UTC 30 March 2022-2300 UTC 31 March 2022</font>"
   ]
  },
  {
   "cell_type": "code",
   "execution_count": 56,
   "id": "13c99f74",
   "metadata": {},
   "outputs": [
    {
     "name": "stdout",
     "output_type": "stream",
     "text": [
      "[25.4864, 24.2814, 21.2816, 16.8078, 15.9337, 16.0782, 16.2394, 15.7964, 15.6158, 16.2611, 15.6352, 13.3247, 13.023, 12.0497, 11.1402, 10.328, 10.7711, 10.9681, 11.5665, 12.2546, 13.377, 14.2916, 15.2497, 15.5526, 14.9705]\n"
     ]
    }
   ],
   "source": [
    "#18 hr hrrr:\n",
    "with open('hrrr_f18_Gainesville_AL (1).txt') as f:\n",
    "    lst=[line.split()[1] for line in f]\n",
    "    temp=[]\n",
    "    for i in lst:\n",
    "        new=i.replace(',',\"\")\n",
    "        temp.append(new)\n",
    "    temp.pop(0)\n",
    "    temp=[float(x) for x in temp]\n",
    "    #print(temp.index(6.91541))\n",
    "    temp=temp[2117:2142]\n",
    "    print(temp)\n",
    "    #print(len(temp))\n",
    "#full time period is [2015:2112]"
   ]
  },
  {
   "cell_type": "code",
   "execution_count": 57,
   "id": "99d8adcd",
   "metadata": {},
   "outputs": [
    {
     "name": "stdout",
     "output_type": "stream",
     "text": [
      "[24.6, 23.5, 20.6, 17.15, 16.25, 15.55, 15.45, 14.75, 14.1, 13.3, 14.0, 12.9, 12.0, 11.7, 11.8, 11.6, 11.350000000000001, 12.1, 13.9, 15.25, 16.3, 17.15, 18.2, 19.0, 18.35]\n"
     ]
    }
   ],
   "source": [
    "#Air Temp CRN:\n",
    "with open('CRNS0101-05-2022-AL_Gainesville_2_NE.txt') as f:\n",
    "    lst=[line.split()[8] for line in f]\n",
    "\n",
    "    a=(float(lst[25619])+float(lst[25620]))/2\n",
    "    b=(float(lst[25631])+float(lst[25632]))/2\n",
    "    c=(float(lst[25643])+float(lst[25644]))/2\n",
    "    d=(float(lst[25655])+float(lst[25656]))/2\n",
    "    e=(float(lst[25667])+float(lst[25668]))/2\n",
    "    f=(float(lst[25679])+float(lst[25680]))/2\n",
    "    g=(float(lst[25691])+float(lst[25692]))/2\n",
    "    h=(float(lst[25703])+float(lst[25704]))/2\n",
    "    i=(float(lst[25715])+float(lst[25716]))/2\n",
    "    j=(float(lst[25727])+float(lst[25728]))/2\n",
    "    k=(float(lst[25739])+float(lst[25740]))/2\n",
    "    l=(float(lst[25751])+float(lst[25752]))/2\n",
    "    m=(float(lst[25763])+float(lst[25764]))/2\n",
    "    n=(float(lst[25775])+float(lst[25776]))/2\n",
    "    o=(float(lst[25787])+float(lst[25788]))/2\n",
    "    p=(float(lst[25799])+float(lst[25800]))/2\n",
    "    q=(float(lst[25811])+float(lst[25812]))/2\n",
    "    r=(float(lst[25823])+float(lst[25824]))/2\n",
    "    s=(float(lst[25835])+float(lst[25836]))/2\n",
    "    t=(float(lst[25847])+float(lst[25848]))/2\n",
    "    u=(float(lst[25859])+float(lst[25860]))/2\n",
    "    v=(float(lst[25871])+float(lst[25872]))/2\n",
    "    w=(float(lst[25883])+float(lst[25884]))/2\n",
    "    x=(float(lst[25895])+float(lst[25896]))/2\n",
    "    y=(float(lst[25907])+float(lst[25908]))/2\n",
    "    temp_crn=[a,b,c,d,e,f,g,h,i,j,k,l,m,n,o,p,q,r,s,t,u,v,w,x,y]\n",
    "    print(temp_crn)"
   ]
  },
  {
   "cell_type": "code",
   "execution_count": 58,
   "id": "82a257d7",
   "metadata": {},
   "outputs": [
    {
     "name": "stdout",
     "output_type": "stream",
     "text": [
      "[0.8863999999999983, 0.7814000000000014, 0.6815999999999995, -0.3421999999999983, -0.3163, 0.5281999999999982, 0.7894000000000005, 1.0464000000000002, 1.5158000000000005, 2.9610999999999983, 1.6351999999999993, 0.42469999999999963, 1.0229999999999997, 0.34970000000000034, -0.6598000000000006, -1.2720000000000002, -0.5789000000000009, -1.1319, -2.333500000000001, -2.9954, -2.923, -2.858399999999998, -2.9502999999999986, -3.4474, -3.379500000000002]\n"
     ]
    }
   ],
   "source": [
    "difference2_gai = []\n",
    "\n",
    "zip_object = zip(temp, temp_crn)\n",
    "for temp_i, temp_crn_i in zip_object:\n",
    "    difference2_gai.append(temp_i-temp_crn_i)\n",
    "\n",
    "print(difference2_gai)"
   ]
  },
  {
   "cell_type": "markdown",
   "id": "0917b86d",
   "metadata": {},
   "source": [
    "<font size=\"3\">Fairhope, AL: 0100 UTC 31 March 2022-0100 UTC 1 April 2022</font>"
   ]
  },
  {
   "cell_type": "code",
   "execution_count": 59,
   "id": "4482923f",
   "metadata": {},
   "outputs": [
    {
     "name": "stdout",
     "output_type": "stream",
     "text": [
      "[23.0941, 23.2453, 22.6212, 22.8282, 23.0519, 22.4839, 16.2408, 17.0111, 17.2602, 18.2622, 17.273, 17.2372, 17.4527, 17.453, 18.3961, 17.6556, 18.754, 19.5671, 19.502, 20.2291, 19.7497, 20.6776, 21.158, 19.7992, 18.1898]\n"
     ]
    }
   ],
   "source": [
    "#18 hr hrrr:\n",
    "with open('hrrr_f18_Fairhope_AL.txt') as f:\n",
    "    lst=[line.split()[1] for line in f]\n",
    "    temp=[]\n",
    "    for i in lst:\n",
    "        new=i.replace(',',\"\")\n",
    "        temp.append(new)\n",
    "    temp.pop(0)\n",
    "    temp=[float(x) for x in temp]\n",
    "    #print(temp.index(6.91541))\n",
    "    temp=temp[2119:2144]\n",
    "    print(temp)\n",
    "    #print(len(temp))\n",
    "#full time period is [2015:2112]"
   ]
  },
  {
   "cell_type": "code",
   "execution_count": 60,
   "id": "70c7a360",
   "metadata": {},
   "outputs": [
    {
     "name": "stdout",
     "output_type": "stream",
     "text": [
      "[23.5, 23.5, 23.1, 23.65, 18.049999999999997, 16.75, 17.0, 17.05, 17.0, 16.95, 17.35, 17.5, 17.5, 17.85, 19.0, 19.3, 19.9, 21.049999999999997, 21.9, 22.450000000000003, 22.6, 21.5, 20.45, 18.85, 16.0]\n"
     ]
    }
   ],
   "source": [
    "#Air Temp CRN:\n",
    "with open('CRNS0101-05-2022-AL_Fairhope_3_NE.txt') as f:\n",
    "    lst=[line.split()[8] for line in f]\n",
    "    \n",
    "    a=(float(lst[25643])+float(lst[25644]))/2\n",
    "    b=(float(lst[25655])+float(lst[25656]))/2\n",
    "    c=(float(lst[25667])+float(lst[25668]))/2\n",
    "    d=(float(lst[25679])+float(lst[25680]))/2\n",
    "    e=(float(lst[25691])+float(lst[25692]))/2\n",
    "    f=(float(lst[25703])+float(lst[25704]))/2\n",
    "    g=(float(lst[25715])+float(lst[25716]))/2\n",
    "    h=(float(lst[25727])+float(lst[25728]))/2\n",
    "    i=(float(lst[25739])+float(lst[25740]))/2\n",
    "    j=(float(lst[25751])+float(lst[25752]))/2\n",
    "    k=(float(lst[25763])+float(lst[25764]))/2\n",
    "    l=(float(lst[25775])+float(lst[25776]))/2\n",
    "    m=(float(lst[25787])+float(lst[25788]))/2\n",
    "    n=(float(lst[25799])+float(lst[25800]))/2\n",
    "    o=(float(lst[25811])+float(lst[25812]))/2\n",
    "    p=(float(lst[25823])+float(lst[25824]))/2\n",
    "    q=(float(lst[25835])+float(lst[25836]))/2\n",
    "    r=(float(lst[25847])+float(lst[25848]))/2\n",
    "    s=(float(lst[25859])+float(lst[25860]))/2\n",
    "    t=(float(lst[25871])+float(lst[25872]))/2\n",
    "    u=(float(lst[25883])+float(lst[25884]))/2\n",
    "    v=(float(lst[25895])+float(lst[25896]))/2\n",
    "    w=(float(lst[25907])+float(lst[25908]))/2\n",
    "    x=(float(lst[25919])+float(lst[25920]))/2\n",
    "    y=(float(lst[25931])+float(lst[25932]))/2\n",
    "    temp_crn=[a,b,c,d,e,f,g,h,i,j,k,l,m,n,o,p,q,r,s,t,u,v,w,x,y]\n",
    "    print(temp_crn)"
   ]
  },
  {
   "cell_type": "code",
   "execution_count": 61,
   "id": "f15c30e0",
   "metadata": {},
   "outputs": [
    {
     "name": "stdout",
     "output_type": "stream",
     "text": [
      "[-0.40589999999999904, -0.2546999999999997, -0.47879999999999967, -0.8217999999999996, 5.001900000000003, 5.733899999999998, -0.7591999999999999, -0.03890000000000171, 0.2602000000000011, 1.3122000000000007, -0.07700000000000173, -0.2627999999999986, -0.0472999999999999, -0.397000000000002, -0.6038999999999994, -1.644400000000001, -1.1459999999999972, -1.4828999999999972, -2.3979999999999997, -2.220900000000004, -2.8503000000000007, -0.8223999999999982, 0.708000000000002, 0.9491999999999976, 2.1898000000000017]\n"
     ]
    }
   ],
   "source": [
    "difference2_fai = []\n",
    "\n",
    "zip_object = zip(temp, temp_crn)\n",
    "for temp_i, temp_crn_i in zip_object:\n",
    "    difference2_fai.append(temp_i-temp_crn_i)\n",
    "\n",
    "print(difference2_fai)"
   ]
  },
  {
   "cell_type": "markdown",
   "id": "e9530edf",
   "metadata": {},
   "source": [
    "<font size=\"3\">**Selma, AL: 0100 UTC 31 March 2022-0100 UTC 1 April 2022</font>"
   ]
  },
  {
   "cell_type": "code",
   "execution_count": 62,
   "id": "15e7e080",
   "metadata": {},
   "outputs": [
    {
     "name": "stdout",
     "output_type": "stream",
     "text": [
      "[23.2816, 22.6203, 22.4337, 20.8907, 15.3019, 15.1714, 16.2408, 15.5736, 15.6977, 15.1372, 15.4605, 15.1747, 14.8277, 14.453, 15.2711, 14.6556, 15.379, 14.5046, 15.502, 15.6041, 16.6872, 16.4901, 15.7205, 14.2367, 13.0648]\n"
     ]
    }
   ],
   "source": [
    "#18 hr hrrr:\n",
    "with open('hrrr_f18_Selma_AL.txt') as f:\n",
    "    lst=[line.split()[1] for line in f]\n",
    "    temp=[]\n",
    "    for i in lst:\n",
    "        new=i.replace(',',\"\")\n",
    "        temp.append(new)\n",
    "    temp.pop(0)\n",
    "    temp=[float(x) for x in temp]\n",
    "    #print(temp.index(6.91541))\n",
    "    temp=temp[2119:2144]\n",
    "    print(temp)"
   ]
  },
  {
   "cell_type": "code",
   "execution_count": 63,
   "id": "56b6cfa3",
   "metadata": {},
   "outputs": [
    {
     "name": "stdout",
     "output_type": "stream",
     "text": [
      "[23.8, 22.05, 20.55, 19.75, 18.1, 17.15, 16.7, 16.25, 15.7, 15.75, 15.5, 15.3, 14.149999999999999, 13.9, 14.8, 15.95, 16.3, 17.0, 17.35, 17.55, 17.9, 18.2, 18.0, 15.55, 12.75]\n"
     ]
    }
   ],
   "source": [
    "#Air Temp CRN:\n",
    "with open('CRNS0101-05-2022-AL_Selma_13_WNW.txt') as f:\n",
    "    lst=[line.split()[8] for line in f]\n",
    "    \n",
    "    a=(float(lst[25643])+float(lst[25644]))/2\n",
    "    b=(float(lst[25655])+float(lst[25656]))/2\n",
    "    c=(float(lst[25667])+float(lst[25668]))/2\n",
    "    d=(float(lst[25679])+float(lst[25680]))/2\n",
    "    e=(float(lst[25691])+float(lst[25692]))/2\n",
    "    f=(float(lst[25703])+float(lst[25704]))/2\n",
    "    g=(float(lst[25715])+float(lst[25716]))/2\n",
    "    h=(float(lst[25727])+float(lst[25728]))/2\n",
    "    i=(float(lst[25739])+float(lst[25740]))/2\n",
    "    j=(float(lst[25751])+float(lst[25752]))/2\n",
    "    k=(float(lst[25763])+float(lst[25764]))/2\n",
    "    l=(float(lst[25775])+float(lst[25776]))/2\n",
    "    m=(float(lst[25787])+float(lst[25788]))/2\n",
    "    n=(float(lst[25799])+float(lst[25800]))/2\n",
    "    o=(float(lst[25811])+float(lst[25812]))/2\n",
    "    p=(float(lst[25823])+float(lst[25824]))/2\n",
    "    q=(float(lst[25835])+float(lst[25836]))/2\n",
    "    r=(float(lst[25847])+float(lst[25848]))/2\n",
    "    s=(float(lst[25859])+float(lst[25860]))/2\n",
    "    t=(float(lst[25871])+float(lst[25872]))/2\n",
    "    u=(float(lst[25883])+float(lst[25884]))/2\n",
    "    v=(float(lst[25895])+float(lst[25896]))/2\n",
    "    w=(float(lst[25907])+float(lst[25908]))/2\n",
    "    x=(float(lst[25919])+float(lst[25920]))/2\n",
    "    y=(float(lst[25931])+float(lst[25932]))/2\n",
    "    temp_crn=[a,b,c,d,e,f,g,h,i,j,k,l,m,n,o,p,q,r,s,t,u,v,w,x,y]\n",
    "    print(temp_crn)"
   ]
  },
  {
   "cell_type": "code",
   "execution_count": 64,
   "id": "1cd371ed",
   "metadata": {},
   "outputs": [
    {
     "name": "stdout",
     "output_type": "stream",
     "text": [
      "[-0.5183999999999997, 0.5702999999999996, 1.883700000000001, 1.140699999999999, -2.7981000000000016, -1.9785999999999984, -0.45919999999999916, -0.6763999999999992, -0.0022999999999999687, -0.6128, -0.03950000000000031, -0.12530000000000108, 0.6777000000000015, 0.552999999999999, 0.47109999999999985, -1.2943999999999996, -0.9210000000000012, -2.4954, -1.8480000000000008, -1.9459, -1.2127999999999979, -1.7098999999999975, -2.2795000000000005, -1.3133, 0.31479999999999997]\n",
      "25\n"
     ]
    }
   ],
   "source": [
    "difference2_sel = []\n",
    "\n",
    "zip_object = zip(temp, temp_crn)\n",
    "for temp_i, temp_crn_i in zip_object:\n",
    "    difference2_sel.append(temp_i-temp_crn_i)\n",
    "\n",
    "print(difference2_sel)\n",
    "print(len(difference2_sel))"
   ]
  },
  {
   "cell_type": "markdown",
   "id": "96c13278",
   "metadata": {},
   "source": [
    "<font size=\"3\">Bowling Green, KY: 0100 UTC 31 March 2022-0100 UTC 1 April 2022</font>"
   ]
  },
  {
   "cell_type": "code",
   "execution_count": 65,
   "id": "20079007",
   "metadata": {},
   "outputs": [
    {
     "name": "stdout",
     "output_type": "stream",
     "text": [
      "[21.7191, 17.4328, 16.7462, 15.7657, 14.1769, 15.0464, 14.4283, 14.0111, 13.1977, 12.2622, 10.4605, 9.36221, 8.39017, 7.01547, 6.52109, 6.28061, 6.754, 6.12958, 6.37704, 6.29163, 6.37469, 6.86511, 6.34546, 5.73666, 5.43985]\n"
     ]
    }
   ],
   "source": [
    "#18 hr hrrr:\n",
    "with open('hrrr_f18_Bowling Green_KY.txt') as f:\n",
    "    lst=[line.split()[1] for line in f]\n",
    "    temp=[]\n",
    "    for i in lst:\n",
    "        new=i.replace(',',\"\")\n",
    "        temp.append(new)\n",
    "    temp.pop(0)\n",
    "    temp=[float(x) for x in temp]\n",
    "    #print(temp.index(6.91541))\n",
    "    temp=temp[2119:2144]\n",
    "#     x = np.array(temp)\n",
    "#     temp= ma.masked_array(x, mask=[0, 0, 0, 0, 0,0,1,0,0,0,0,0,0,0,0,0,0,0,0,0,0,0,0,0,0])\n",
    "    #temp=temp[2015:2063]\n",
    "    print(temp)\n",
    "    #print(len(temp))\n",
    "#full time period is [2015:2112]"
   ]
  },
  {
   "cell_type": "code",
   "execution_count": 66,
   "id": "40c7254e",
   "metadata": {},
   "outputs": [
    {
     "name": "stdout",
     "output_type": "stream",
     "text": [
      "[24.9 19.1 14.2 13.350000000000001 13.9 -- -- 14.5 14.3 11.15 9.6 8.75\n",
      " 7.65 7.05 6.9 7.25 7.15 6.85 6.5 6.800000000000001 7.15 6.95 7.1 6.25 5.5]\n"
     ]
    }
   ],
   "source": [
    "#Air Temp CRN:\n",
    "with open('CRNS0101-05-2022-KY_Bowling_Green_21_NNE.txt') as f:\n",
    "    lst=[line.split()[8] for line in f]\n",
    "    \n",
    "    a=(float(lst[25643])+float(lst[25644]))/2\n",
    "    b=(float(lst[25655])+float(lst[25656]))/2\n",
    "    c=(float(lst[25667])+float(lst[25668]))/2\n",
    "    d=(float(lst[25679])+float(lst[25680]))/2\n",
    "    e=(float(lst[25691])+float(lst[25692]))/2\n",
    "    f=(float(lst[25703])+float(lst[25704]))/2\n",
    "    g=(float(lst[25715])+float(lst[25716]))/2\n",
    "    h=(float(lst[25727])+float(lst[25728]))/2\n",
    "    i=(float(lst[25739])+float(lst[25740]))/2\n",
    "    j=(float(lst[25751])+float(lst[25752]))/2\n",
    "    k=(float(lst[25763])+float(lst[25764]))/2\n",
    "    l=(float(lst[25775])+float(lst[25776]))/2\n",
    "    m=(float(lst[25787])+float(lst[25788]))/2\n",
    "    n=(float(lst[25799])+float(lst[25800]))/2\n",
    "    o=(float(lst[25811])+float(lst[25812]))/2\n",
    "    p=(float(lst[25823])+float(lst[25824]))/2\n",
    "    q=(float(lst[25835])+float(lst[25836]))/2\n",
    "    r=(float(lst[25847])+float(lst[25848]))/2\n",
    "    s=(float(lst[25859])+float(lst[25860]))/2\n",
    "    t=(float(lst[25871])+float(lst[25872]))/2\n",
    "    u=(float(lst[25883])+float(lst[25884]))/2\n",
    "    v=(float(lst[25895])+float(lst[25896]))/2\n",
    "    w=(float(lst[25907])+float(lst[25908]))/2\n",
    "    x=(float(lst[25919])+float(lst[25920]))/2\n",
    "    y=(float(lst[25931])+float(lst[25932]))/2\n",
    "    temp_crn=[a,b,c,d,e,f,g,h,i,j,k,l,m,n,o,p,q,r,s,t,u,v,w,x,y]\n",
    "    y= np.array(temp_crn)\n",
    "    temp_crn= ma.masked_array(y, mask=[0, 0, 0, 0, 0,1,1,0,0,0,0,0,0,0,0,0,0,0,0,0,0,0,0,0,0])\n",
    "    print(temp_crn)"
   ]
  },
  {
   "cell_type": "code",
   "execution_count": 67,
   "id": "90cedfd2",
   "metadata": {},
   "outputs": [
    {
     "name": "stdout",
     "output_type": "stream",
     "text": [
      "[-3.1808999999999976, -1.6672000000000011, 2.5462000000000025, 2.4156999999999993, 0.2768999999999995, masked, masked, -0.4888999999999992, -1.1023000000000014, 1.1121999999999996, 0.8605, 0.6122099999999993, 0.7401699999999991, -0.03453000000000017, -0.3789100000000003, -0.9693899999999998, -0.3960000000000008, -0.7204199999999998, -0.12295999999999996, -0.5083700000000011, -0.7753100000000002, -0.08489000000000058, -0.7545399999999995, -0.5133400000000004, -0.06015000000000015]\n"
     ]
    }
   ],
   "source": [
    "difference2_bow = []\n",
    "\n",
    "zip_object = zip(temp, temp_crn)\n",
    "for temp_i, temp_crn_i in zip_object:\n",
    "    difference2_bow.append(temp_i-temp_crn_i)\n",
    "\n",
    "print(difference2_bow)"
   ]
  },
  {
   "cell_type": "markdown",
   "id": "770eb1f1",
   "metadata": {},
   "source": [
    "<font size=\"3\">Gadsden, AL: 0200 UTC 31 March 2022-0200 UTC 1 April 2022</font>"
   ]
  },
  {
   "cell_type": "code",
   "execution_count": 68,
   "id": "5cc1d0b4",
   "metadata": {},
   "outputs": [
    {
     "name": "stdout",
     "output_type": "stream",
     "text": [
      "[20.7453, 19.1212, 15.3282, 13.8644, 14.6714, 14.8033, 13.7611, 13.7602, 13.8872, 14.523, 14.6122, 13.9527, 12.703, 12.0211, 12.4056, 12.0665, 10.6296, 12.002, 12.4791, 12.4372, 11.9276, 11.3455, 10.1742, 9.37735, 8.64813]\n"
     ]
    }
   ],
   "source": [
    "#18 hr hrrr:\n",
    "with open('hrrr_f18_Gadsden_AL.txt') as f:\n",
    "    lst=[line.split()[1] for line in f]\n",
    "    temp=[]\n",
    "    for i in lst:\n",
    "        new=i.replace(',',\"\")\n",
    "        temp.append(new)\n",
    "    temp.pop(0)\n",
    "    temp=[float(x) for x in temp]\n",
    "    #print(temp.index(6.91541))\n",
    "    temp=temp[2120:2145]\n",
    "    print(temp)\n",
    "    #print(len(temp))\n",
    "#full time period is [2015:2112]"
   ]
  },
  {
   "cell_type": "code",
   "execution_count": 69,
   "id": "28243f45",
   "metadata": {},
   "outputs": [
    {
     "name": "stdout",
     "output_type": "stream",
     "text": [
      "[22.799999999999997, 20.75, 18.200000000000003, 16.85, 14.0, 15.350000000000001, 15.850000000000001, 15.4, 14.6, 14.2, 13.8, 14.1, 14.4, 14.15, 12.05, 12.7, 12.55, 13.55, 14.0, 14.1, 13.95, 13.350000000000001, 12.1, 10.05, 9.95]\n"
     ]
    }
   ],
   "source": [
    "#Air Temp CRN:\n",
    "with open('CRNS0101-05-2022-AL_Gadsden_19_N.txt') as f:\n",
    "    lst=[line.split()[8] for line in f]\n",
    "    \n",
    "    a=(float(lst[25655])+float(lst[25656]))/2\n",
    "    b=(float(lst[25667])+float(lst[25668]))/2\n",
    "    c=(float(lst[25679])+float(lst[25680]))/2\n",
    "    d=(float(lst[25691])+float(lst[25692]))/2\n",
    "    e=(float(lst[25703])+float(lst[25704]))/2\n",
    "    f=(float(lst[25715])+float(lst[25716]))/2\n",
    "    g=(float(lst[25727])+float(lst[25728]))/2\n",
    "    h=(float(lst[25739])+float(lst[25740]))/2\n",
    "    i=(float(lst[25751])+float(lst[25752]))/2\n",
    "    j=(float(lst[25763])+float(lst[25764]))/2\n",
    "    k=(float(lst[25775])+float(lst[25776]))/2\n",
    "    l=(float(lst[25787])+float(lst[25788]))/2\n",
    "    m=(float(lst[25799])+float(lst[25800]))/2\n",
    "    n=(float(lst[25811])+float(lst[25812]))/2\n",
    "    o=(float(lst[25823])+float(lst[25824]))/2\n",
    "    p=(float(lst[25835])+float(lst[25836]))/2\n",
    "    q=(float(lst[25847])+float(lst[25848]))/2\n",
    "    r=(float(lst[25859])+float(lst[25860]))/2\n",
    "    s=(float(lst[25871])+float(lst[25872]))/2\n",
    "    t=(float(lst[25883])+float(lst[25884]))/2\n",
    "    u=(float(lst[25895])+float(lst[25896]))/2\n",
    "    v=(float(lst[25907])+float(lst[25908]))/2\n",
    "    w=(float(lst[25919])+float(lst[25920]))/2\n",
    "    x=(float(lst[25931])+float(lst[25932]))/2\n",
    "    y=(float(lst[25943])+float(lst[25944]))/2\n",
    "    temp_crn=[a,b,c,d,e,f,g,h,i,j,k,l,m,n,o,p,q,r,s,t,u,v,w,x,y]\n",
    "    print(temp_crn)"
   ]
  },
  {
   "cell_type": "code",
   "execution_count": 70,
   "id": "d63723fd",
   "metadata": {},
   "outputs": [
    {
     "name": "stdout",
     "output_type": "stream",
     "text": [
      "[-2.054699999999997, -1.6287999999999982, -2.871800000000002, -2.9856000000000016, 0.6714000000000002, -0.5467000000000013, -2.0889000000000006, -1.639800000000001, -0.7127999999999997, 0.3230000000000004, 0.8121999999999989, -0.14729999999999954, -1.697000000000001, -2.1289, 0.35559999999999903, -0.6334999999999997, -1.9204000000000008, -1.548, -1.5208999999999993, -1.662799999999999, -2.0223999999999993, -2.004500000000002, -1.9257999999999988, -0.6726500000000009, -1.3018699999999992]\n"
     ]
    }
   ],
   "source": [
    "difference2_gad = []\n",
    "\n",
    "zip_object = zip(temp, temp_crn)\n",
    "for temp_i, temp_crn_i in zip_object:\n",
    "    difference2_gad.append(temp_i-temp_crn_i)\n",
    "\n",
    "print(difference2_gad)"
   ]
  },
  {
   "cell_type": "markdown",
   "id": "cd4a8f77",
   "metadata": {},
   "source": [
    "<font size=\"3\">Newton, GA: 0700 UTC 31 March 2022-0700 UTC 1 April 2022</font>"
   ]
  },
  {
   "cell_type": "code",
   "execution_count": 71,
   "id": "0c975d06",
   "metadata": {},
   "outputs": [
    {
     "name": "stdout",
     "output_type": "stream",
     "text": [
      "[20.0533, 20.0736, 20.3852, 20.6372, 20.4605, 18.7997, 16.2652, 18.078, 17.4586, 19.7806, 22.6915, 23.2546, 24.377, 24.0416, 22.7497, 22.6151, 21.0955, 19.9867, 19.1898, 18.9606, 18.1942, 16.9661, 15.2723, 15.0085, 13.9306]\n"
     ]
    }
   ],
   "source": [
    "#18 hr hrrr:\n",
    "with open('hrrr_f18_Newton_GA.txt') as f:\n",
    "    lst=[line.split()[1] for line in f]\n",
    "    temp=[]\n",
    "    for i in lst:\n",
    "        new=i.replace(',',\"\")\n",
    "        temp.append(new)\n",
    "    temp.pop(0)\n",
    "    temp=[float(x) for x in temp]\n",
    "    #print(temp.index(6.91541))\n",
    "    temp=temp[2125:2150]\n",
    "    print(temp)\n",
    "    #print(len(temp))\n",
    "#full time period is [2015:2112]"
   ]
  },
  {
   "cell_type": "code",
   "execution_count": 72,
   "id": "28c28e01",
   "metadata": {},
   "outputs": [
    {
     "name": "stdout",
     "output_type": "stream",
     "text": [
      "[22.7, 22.85, 22.6, 20.55, 20.5, 19.6, 17.3, 17.05, 17.7, 18.6, 22.25, 23.700000000000003, 25.3, 25.65, 25.75, 25.6, 24.6, 22.5, 20.950000000000003, 20.65, 19.5, 18.25, 17.35, 16.6, 15.95]\n"
     ]
    }
   ],
   "source": [
    "#Air Temp CRN:\n",
    "with open('CRNS0101-05-2022-GA_Newton_11_SW.txt') as f:\n",
    "    lst=[line.split()[8] for line in f]\n",
    "    \n",
    "    a=(float(lst[25715])+float(lst[25716]))/2\n",
    "    b=(float(lst[25727])+float(lst[25728]))/2\n",
    "    c=(float(lst[25739])+float(lst[25740]))/2\n",
    "    d=(float(lst[25751])+float(lst[25752]))/2\n",
    "    e=(float(lst[25763])+float(lst[25764]))/2\n",
    "    f=(float(lst[25775])+float(lst[25776]))/2\n",
    "    g=(float(lst[25787])+float(lst[25788]))/2\n",
    "    h=(float(lst[25799])+float(lst[25800]))/2\n",
    "    i=(float(lst[25811])+float(lst[25812]))/2\n",
    "    j=(float(lst[25823])+float(lst[25824]))/2\n",
    "    k=(float(lst[25835])+float(lst[25836]))/2\n",
    "    l=(float(lst[25847])+float(lst[25848]))/2\n",
    "    m=(float(lst[25859])+float(lst[25860]))/2\n",
    "    n=(float(lst[25871])+float(lst[25872]))/2\n",
    "    o=(float(lst[25883])+float(lst[25884]))/2\n",
    "    p=(float(lst[25895])+float(lst[25896]))/2\n",
    "    q=(float(lst[25907])+float(lst[25908]))/2\n",
    "    r=(float(lst[25919])+float(lst[25920]))/2\n",
    "    s=(float(lst[25931])+float(lst[25932]))/2\n",
    "    t=(float(lst[25943])+float(lst[25944]))/2\n",
    "    u=(float(lst[25955])+float(lst[25956]))/2\n",
    "    v=(float(lst[25967])+float(lst[25968]))/2\n",
    "    w=(float(lst[25979])+float(lst[25980]))/2\n",
    "    x=(float(lst[25991])+float(lst[25992]))/2\n",
    "    y=(float(lst[26003])+float(lst[26004]))/2\n",
    "    temp_crn=[a,b,c,d,e,f,g,h,i,j,k,l,m,n,o,p,q,r,s,t,u,v,w,x,y]\n",
    "    print(temp_crn)"
   ]
  },
  {
   "cell_type": "code",
   "execution_count": 73,
   "id": "4bcfa192",
   "metadata": {},
   "outputs": [
    {
     "name": "stdout",
     "output_type": "stream",
     "text": [
      "[-2.646699999999999, -2.7764000000000024, -2.2148000000000003, 0.08719999999999928, -0.03950000000000031, -0.8003, -1.0348000000000006, 1.0279999999999987, -0.24139999999999873, 1.1805999999999983, 0.44150000000000134, -0.4454000000000029, -0.9230000000000018, -1.6083999999999996, -3.0002999999999993, -2.9848999999999997, -3.5045, -2.513300000000001, -1.760200000000001, -1.6893999999999991, -1.3058000000000014, -1.2838999999999992, -2.077700000000002, -1.5915000000000017, -2.019399999999999]\n"
     ]
    }
   ],
   "source": [
    "difference2_newt = []\n",
    "\n",
    "zip_object = zip(temp, temp_crn)\n",
    "for temp_i, temp_crn_i in zip_object:\n",
    "    difference2_newt.append(temp_i-temp_crn_i)\n",
    "\n",
    "print(difference2_newt)"
   ]
  },
  {
   "cell_type": "markdown",
   "id": "8148ba77",
   "metadata": {},
   "source": [
    "<font size=\"3\">Salem, MO: 1000 UTC 5 April 2022-1000 UTC 6 April 2022</font>"
   ]
  },
  {
   "cell_type": "code",
   "execution_count": 74,
   "id": "81fe81eb",
   "metadata": {},
   "outputs": [
    {
     "name": "stdout",
     "output_type": "stream",
     "text": [
      "[12.2257, 12.4848, 10.9296, 11.2658, 11.3575, 13.9343, 15.1535, 17.5877, 18.9283, 19.357, 20.2115, 20.3466, 20.2151, 20.6004, 17.9467, 16.9989, 16.8388, 15.135, 15.1592, 14.2714, 12.7885, 11.1413, 8.32669, 6.68781, 6.82211]\n"
     ]
    }
   ],
   "source": [
    "#18 hr hrrr:\n",
    "with open('hrrr_f18_Salem_MO.txt') as f:\n",
    "    lst=[line.split()[1] for line in f]\n",
    "    temp=[]\n",
    "    for i in lst:\n",
    "        new=i.replace(',',\"\")\n",
    "        temp.append(new)\n",
    "    temp.pop(0)\n",
    "    temp=[float(x) for x in temp]\n",
    "    #print(temp.index(6.91541))\n",
    "    temp=temp[2248:2273]\n",
    "    print(temp)\n",
    "    #print(len(temp))\n",
    "#full time period is [2015:2112]"
   ]
  },
  {
   "cell_type": "code",
   "execution_count": 75,
   "id": "3d591709",
   "metadata": {},
   "outputs": [
    {
     "name": "stdout",
     "output_type": "stream",
     "text": [
      "[11.2, 11.149999999999999, 11.0, 10.8, 11.25, 13.95, 16.65, 19.4, 21.450000000000003, 20.95, 20.299999999999997, 21.75, 21.25, 21.25, 20.1, 17.6, 12.95, 17.049999999999997, 16.95, 12.7, 11.3, 11.1, 9.350000000000001, 8.7, 7.5]\n"
     ]
    }
   ],
   "source": [
    "#Air Temp CRN:\n",
    "with open('CRNS0101-05-2022-MO_Salem_10_W.txt') as f:\n",
    "    lst=[line.split()[8] for line in f]\n",
    "    \n",
    "    a=(float(lst[27191])+float(lst[27192]))/2\n",
    "    b=(float(lst[27203])+float(lst[27204]))/2\n",
    "    c=(float(lst[27215])+float(lst[27216]))/2\n",
    "    d=(float(lst[27227])+float(lst[27228]))/2\n",
    "    e=(float(lst[27239])+float(lst[27240]))/2\n",
    "    f=(float(lst[27251])+float(lst[27252]))/2\n",
    "    g=(float(lst[27263])+float(lst[27264]))/2\n",
    "    h=(float(lst[27275])+float(lst[27276]))/2\n",
    "    i=(float(lst[27287])+float(lst[27288]))/2\n",
    "    j=(float(lst[27299])+float(lst[27300]))/2\n",
    "    k=(float(lst[27311])+float(lst[27312]))/2\n",
    "    l=(float(lst[27323])+float(lst[27324]))/2\n",
    "    m=(float(lst[27335])+float(lst[27336]))/2\n",
    "    n=(float(lst[27347])+float(lst[27348]))/2\n",
    "    o=(float(lst[27359])+float(lst[27360]))/2\n",
    "    p=(float(lst[27371])+float(lst[27372]))/2\n",
    "    q=(float(lst[27383])+float(lst[27384]))/2\n",
    "    r=(float(lst[27395])+float(lst[27396]))/2\n",
    "    s=(float(lst[27407])+float(lst[27408]))/2\n",
    "    t=(float(lst[27419])+float(lst[27420]))/2\n",
    "    u=(float(lst[27431])+float(lst[27432]))/2\n",
    "    v=(float(lst[27443])+float(lst[27444]))/2\n",
    "    w=(float(lst[27455])+float(lst[27456]))/2\n",
    "    x=(float(lst[27467])+float(lst[27468]))/2\n",
    "    y=(float(lst[27479])+float(lst[27480]))/2\n",
    "    temp_crn=[a,b,c,d,e,f,g,h,i,j,k,l,m,n,o,p,q,r,s,t,u,v,w,x,y]\n",
    "    print(temp_crn)"
   ]
  },
  {
   "cell_type": "code",
   "execution_count": 76,
   "id": "d9f71702",
   "metadata": {},
   "outputs": [
    {
     "name": "stdout",
     "output_type": "stream",
     "text": [
      "[1.0257000000000005, 1.3348000000000013, -0.07039999999999935, 0.46579999999999977, 0.10749999999999993, -0.015699999999998937, -1.4964999999999993, -1.812299999999997, -2.5217000000000027, -1.593, -0.08849999999999625, -1.4034000000000013, -1.0349000000000004, -0.6495999999999995, -2.1533000000000015, -0.6011000000000024, 3.8888, -1.9149999999999974, -1.790799999999999, 1.5714000000000006, 1.4885000000000002, 0.04129999999999967, -1.0233100000000022, -2.0121899999999995, -0.6778899999999997]\n"
     ]
    }
   ],
   "source": [
    "difference3_sal = []\n",
    "\n",
    "zip_object = zip(temp, temp_crn)\n",
    "for temp_i, temp_crn_i in zip_object:\n",
    "    difference3_sal.append(temp_i-temp_crn_i)\n",
    "\n",
    "print(difference3_sal)"
   ]
  },
  {
   "cell_type": "markdown",
   "id": "cc4a44b1",
   "metadata": {},
   "source": [
    "<font size=\"3\">Batesville, AR: 1000 UTC 5 April 2022-1000 UTC 6 April 2022</font>"
   ]
  },
  {
   "cell_type": "code",
   "execution_count": 77,
   "id": "7347942f",
   "metadata": {},
   "outputs": [
    {
     "name": "stdout",
     "output_type": "stream",
     "text": [
      "[12.9757, 12.7348, 12.3671, 12.8908, 13.2325, 16.1843, 16.6535, 18.7752, 20.1158, 21.357, 21.774, 20.7216, 20.7776, 21.2879, 18.8842, 16.8739, 16.0888, 15.0725, 14.5967, 14.7089, 15.601, 14.5163, 15.1392, 11.9378, 11.6346]\n"
     ]
    }
   ],
   "source": [
    "#18 hr hrrr:\n",
    "with open('hrrr_f18_Batesville_AR.txt') as f:\n",
    "    lst=[line.split()[1] for line in f]\n",
    "    temp=[]\n",
    "    for i in lst:\n",
    "        new=i.replace(',',\"\")\n",
    "        temp.append(new)\n",
    "    temp.pop(0)\n",
    "    temp=[float(x) for x in temp]\n",
    "    #print(temp.index(6.91541))\n",
    "    temp=temp[2248:2273]\n",
    "\n",
    "    print(temp)\n",
    "    #print(len(temp))\n",
    "#full time period is [2015:2112]"
   ]
  },
  {
   "cell_type": "code",
   "execution_count": 78,
   "id": "b1e964e8",
   "metadata": {},
   "outputs": [
    {
     "name": "stdout",
     "output_type": "stream",
     "text": [
      "[11.6, 12.05, 11.9, 12.0, 12.65, 14.75, 16.4, 18.6, 19.65, 21.3, 22.1, 22.9, 23.1, 22.95, 20.95, 19.55, 18.5, 18.15, 16.75, 14.7, 17.4, 19.4, 17.15, 12.95, 12.649999999999999]\n"
     ]
    }
   ],
   "source": [
    "#Air Temp CRN:\n",
    "with open('CRNS0101-05-2022-AR_Batesville_8_WNW.txt') as f:\n",
    "    lst=[line.split()[8] for line in f]\n",
    "    \n",
    "    a=(float(lst[27191])+float(lst[27192]))/2\n",
    "    b=(float(lst[27203])+float(lst[27204]))/2\n",
    "    c=(float(lst[27215])+float(lst[27216]))/2\n",
    "    d=(float(lst[27227])+float(lst[27228]))/2\n",
    "    e=(float(lst[27239])+float(lst[27240]))/2\n",
    "    f=(float(lst[27251])+float(lst[27252]))/2\n",
    "    g=(float(lst[27263])+float(lst[27264]))/2\n",
    "    h=(float(lst[27275])+float(lst[27276]))/2\n",
    "    i=(float(lst[27287])+float(lst[27288]))/2\n",
    "    j=(float(lst[27299])+float(lst[27300]))/2\n",
    "    k=(float(lst[27311])+float(lst[27312]))/2\n",
    "    l=(float(lst[27323])+float(lst[27324]))/2\n",
    "    m=(float(lst[27335])+float(lst[27336]))/2\n",
    "    n=(float(lst[27347])+float(lst[27348]))/2\n",
    "    o=(float(lst[27359])+float(lst[27360]))/2\n",
    "    p=(float(lst[27371])+float(lst[27372]))/2\n",
    "    q=(float(lst[27383])+float(lst[27384]))/2\n",
    "    r=(float(lst[27395])+float(lst[27396]))/2\n",
    "    s=(float(lst[27407])+float(lst[27408]))/2\n",
    "    t=(float(lst[27419])+float(lst[27420]))/2\n",
    "    u=(float(lst[27431])+float(lst[27432]))/2\n",
    "    v=(float(lst[27443])+float(lst[27444]))/2\n",
    "    w=(float(lst[27455])+float(lst[27456]))/2\n",
    "    x=(float(lst[27467])+float(lst[27468]))/2\n",
    "    y=(float(lst[27479])+float(lst[27480]))/2\n",
    "    temp_crn=[a,b,c,d,e,f,g,h,i,j,k,l,m,n,o,p,q,r,s,t,u,v,w,x,y]\n",
    "    print(temp_crn)"
   ]
  },
  {
   "cell_type": "code",
   "execution_count": 79,
   "id": "c5f712f8",
   "metadata": {},
   "outputs": [
    {
     "name": "stdout",
     "output_type": "stream",
     "text": [
      "[1.3757000000000001, 0.6847999999999992, 0.4671000000000003, 0.8908000000000005, 0.5824999999999996, 1.4343000000000004, 0.2535000000000025, 0.17520000000000024, 0.46580000000000155, 0.05699999999999861, -0.3260000000000005, -2.1784, -2.322400000000002, -1.6620999999999988, -2.0657999999999994, -2.6761000000000017, -2.411200000000001, -3.077499999999999, -2.1532999999999998, 0.008900000000000574, -1.7989999999999977, -4.883699999999999, -2.010799999999998, -1.0122, -1.0153999999999979]\n"
     ]
    }
   ],
   "source": [
    "difference3_bat = []\n",
    "\n",
    "zip_object = zip(temp, temp_crn)\n",
    "for temp_i, temp_crn_i in zip_object:\n",
    "    difference3_bat.append(temp_i-temp_crn_i)\n",
    "\n",
    "print(difference3_bat)"
   ]
  },
  {
   "cell_type": "markdown",
   "id": "9f92620f",
   "metadata": {},
   "source": [
    "<font size=\"3\">Lafayette, LA: 1000 UTC 5 April 2022-1000 UTC 6 April 2022</font>"
   ]
  },
  {
   "cell_type": "code",
   "execution_count": 80,
   "id": "4298046b",
   "metadata": {},
   "outputs": [
    {
     "name": "stdout",
     "output_type": "stream",
     "text": [
      "[22.2882, 21.9223, 21.9921, 22.2658, 23.545, 23.6218, 23.591, 23.5252, 25.3033, 26.857, 29.5865, 28.1591, 27.4026, 25.9754, 24.5717, 23.0614, 21.7138, 21.3225, 21.2842, 21.9589, 21.601, 21.3913, 22.1392, 22.0003, 21.9471]\n"
     ]
    }
   ],
   "source": [
    "#18 hr hrrr:\n",
    "with open('hrrr_f18_Lafayette_LA.txt') as f:\n",
    "    lst=[line.split()[1] for line in f]\n",
    "    temp=[]\n",
    "    for i in lst:\n",
    "        new=i.replace(',',\"\")\n",
    "        temp.append(new)\n",
    "    temp.pop(0)\n",
    "    temp=[float(x) for x in temp]\n",
    "    #print(temp.index(6.91541))\n",
    "    temp=temp[2248:2273]\n",
    "    print(temp)\n",
    "    #print(len(temp))\n",
    "#full time period is [2015:2112]"
   ]
  },
  {
   "cell_type": "code",
   "execution_count": 81,
   "id": "e208411d",
   "metadata": {},
   "outputs": [
    {
     "name": "stdout",
     "output_type": "stream",
     "text": [
      "[22.1, 22.35, 22.6, 22.5, 23.05, 23.85, 25.25, 25.75, 25.65, 25.6, 25.9, 25.799999999999997, 26.0, 25.05, 24.15, 22.9, 22.9, 23.05, 23.2, 23.2, 23.2, 23.4, 23.35, 23.5, 23.4]\n"
     ]
    }
   ],
   "source": [
    "#Air Temp CRN:\n",
    "with open('CRNS0101-05-2022-LA_Lafayette_13_SE.txt') as f:\n",
    "    lst=[line.split()[8] for line in f]\n",
    "    \n",
    "    a=(float(lst[27191])+float(lst[27192]))/2\n",
    "    b=(float(lst[27203])+float(lst[27204]))/2\n",
    "    c=(float(lst[27215])+float(lst[27216]))/2\n",
    "    d=(float(lst[27227])+float(lst[27228]))/2\n",
    "    e=(float(lst[27239])+float(lst[27240]))/2\n",
    "    f=(float(lst[27251])+float(lst[27252]))/2\n",
    "    g=(float(lst[27263])+float(lst[27264]))/2\n",
    "    h=(float(lst[27275])+float(lst[27276]))/2\n",
    "    i=(float(lst[27287])+float(lst[27288]))/2\n",
    "    j=(float(lst[27299])+float(lst[27300]))/2\n",
    "    k=(float(lst[27311])+float(lst[27312]))/2\n",
    "    l=(float(lst[27323])+float(lst[27324]))/2\n",
    "    m=(float(lst[27335])+float(lst[27336]))/2\n",
    "    n=(float(lst[27347])+float(lst[27348]))/2\n",
    "    o=(float(lst[27359])+float(lst[27360]))/2\n",
    "    p=(float(lst[27371])+float(lst[27372]))/2\n",
    "    q=(float(lst[27383])+float(lst[27384]))/2\n",
    "    r=(float(lst[27395])+float(lst[27396]))/2\n",
    "    s=(float(lst[27407])+float(lst[27408]))/2\n",
    "    t=(float(lst[27419])+float(lst[27420]))/2\n",
    "    u=(float(lst[27431])+float(lst[27432]))/2\n",
    "    v=(float(lst[27443])+float(lst[27444]))/2\n",
    "    w=(float(lst[27455])+float(lst[27456]))/2\n",
    "    x=(float(lst[27467])+float(lst[27468]))/2\n",
    "    y=(float(lst[27479])+float(lst[27480]))/2\n",
    "    temp_crn=[a,b,c,d,e,f,g,h,i,j,k,l,m,n,o,p,q,r,s,t,u,v,w,x,y]\n",
    "    print(temp_crn)"
   ]
  },
  {
   "cell_type": "code",
   "execution_count": 82,
   "id": "18c37a9b",
   "metadata": {},
   "outputs": [
    {
     "name": "stdout",
     "output_type": "stream",
     "text": [
      "[0.18819999999999837, -0.4277000000000015, -0.6079000000000008, -0.2342000000000013, 0.495000000000001, -0.22820000000000107, -1.658999999999999, -2.2247999999999983, -0.34669999999999845, 1.256999999999998, 3.6865000000000023, 2.3591000000000015, 1.4025999999999996, 0.9253999999999998, 0.4217000000000013, 0.16140000000000043, -1.1861999999999995, -1.7274999999999991, -1.9158000000000008, -1.2410999999999994, -1.5990000000000002, -2.0086999999999975, -1.2108000000000025, -1.4997000000000007, -1.4528999999999996]\n"
     ]
    }
   ],
   "source": [
    "difference3_laf = []\n",
    "\n",
    "zip_object = zip(temp, temp_crn)\n",
    "for temp_i, temp_crn_i in zip_object:\n",
    "    difference3_laf.append(temp_i-temp_crn_i)\n",
    "\n",
    "print(difference3_laf)"
   ]
  },
  {
   "cell_type": "markdown",
   "id": "6bc47d22",
   "metadata": {},
   "source": [
    "<font size=\"3\">Monroe, LA: 1000 UTC 5 April 2022-1000 UTC 6 April 2022</font>"
   ]
  },
  {
   "cell_type": "code",
   "execution_count": 83,
   "id": "c23437ef",
   "metadata": {},
   "outputs": [
    {
     "name": "stdout",
     "output_type": "stream",
     "text": [
      "[18.6632, 17.1098, 17.7421, 18.0783, 17.1075, 17.9968, 19.2785, 20.0252, 21.7408, 23.4195, 25.274, 25.4716, 25.5276, 25.4754, 24.3217, 22.6239, 21.2138, 21.385, 20.7217, 21.5839, 21.5385, 21.5163, 21.0142, 20.8753, 20.5721]\n"
     ]
    }
   ],
   "source": [
    "#18 hr hrrr:\n",
    "with open('hrrr_f18_Monroe_LA.txt') as f:\n",
    "    lst=[line.split()[1] for line in f]\n",
    "    temp=[]\n",
    "    for i in lst:\n",
    "        new=i.replace(',',\"\")\n",
    "        temp.append(new)\n",
    "    temp.pop(0)\n",
    "    temp=[float(x) for x in temp]\n",
    "    #print(temp.index(6.91541))\n",
    "    temp=temp[2248:2273]\n",
    "    print(temp)\n",
    "    #print(len(temp))\n",
    "#full time period is [2015:2112]"
   ]
  },
  {
   "cell_type": "code",
   "execution_count": 84,
   "id": "91eb6091",
   "metadata": {},
   "outputs": [
    {
     "name": "stdout",
     "output_type": "stream",
     "text": [
      "[16.35, 16.2, 16.05, 16.1, 16.4, 17.45, 19.700000000000003, 22.45, 24.950000000000003, 26.35, 27.6, 28.45, 28.9, 28.3, 24.05, 20.65, 19.8, 21.950000000000003, 22.9, 22.65, 22.45, 22.5, 22.6, 22.4, 22.15]\n"
     ]
    }
   ],
   "source": [
    "#Air Temp CRN:\n",
    "with open('CRNS0101-05-2022-LA_Monroe_26_N.txt') as f:\n",
    "    lst=[line.split()[8] for line in f]\n",
    "    \n",
    "    a=(float(lst[27191])+float(lst[27192]))/2\n",
    "    b=(float(lst[27203])+float(lst[27204]))/2\n",
    "    c=(float(lst[27215])+float(lst[27216]))/2\n",
    "    d=(float(lst[27227])+float(lst[27228]))/2\n",
    "    e=(float(lst[27239])+float(lst[27240]))/2\n",
    "    f=(float(lst[27251])+float(lst[27252]))/2\n",
    "    g=(float(lst[27263])+float(lst[27264]))/2\n",
    "    h=(float(lst[27275])+float(lst[27276]))/2\n",
    "    i=(float(lst[27287])+float(lst[27288]))/2\n",
    "    j=(float(lst[27299])+float(lst[27300]))/2\n",
    "    k=(float(lst[27311])+float(lst[27312]))/2\n",
    "    l=(float(lst[27323])+float(lst[27324]))/2\n",
    "    m=(float(lst[27335])+float(lst[27336]))/2\n",
    "    n=(float(lst[27347])+float(lst[27348]))/2\n",
    "    o=(float(lst[27359])+float(lst[27360]))/2\n",
    "    p=(float(lst[27371])+float(lst[27372]))/2\n",
    "    q=(float(lst[27383])+float(lst[27384]))/2\n",
    "    r=(float(lst[27395])+float(lst[27396]))/2\n",
    "    s=(float(lst[27407])+float(lst[27408]))/2\n",
    "    t=(float(lst[27419])+float(lst[27420]))/2\n",
    "    u=(float(lst[27431])+float(lst[27432]))/2\n",
    "    v=(float(lst[27443])+float(lst[27444]))/2\n",
    "    w=(float(lst[27455])+float(lst[27456]))/2\n",
    "    x=(float(lst[27467])+float(lst[27468]))/2\n",
    "    y=(float(lst[27479])+float(lst[27480]))/2\n",
    "    temp_crn=[a,b,c,d,e,f,g,h,i,j,k,l,m,n,o,p,q,r,s,t,u,v,w,x,y]\n",
    "    print(temp_crn)"
   ]
  },
  {
   "cell_type": "code",
   "execution_count": 85,
   "id": "cc1402aa",
   "metadata": {},
   "outputs": [
    {
     "name": "stdout",
     "output_type": "stream",
     "text": [
      "[2.3131999999999984, 0.9098000000000006, 1.6921, 1.9782999999999973, 0.7075000000000031, 0.5468000000000011, -0.42150000000000176, -2.4247999999999976, -3.2092000000000027, -2.930500000000002, -2.3260000000000005, -2.9784000000000006, -3.372399999999999, -2.8246, 0.27169999999999916, 1.9739000000000004, 1.4137999999999984, -0.5650000000000013, -2.1783, -1.0660999999999987, -0.9115000000000002, -0.9836999999999989, -1.5858000000000025, -1.5246999999999993, -1.5778999999999996]\n"
     ]
    }
   ],
   "source": [
    "difference3_mon = []\n",
    "\n",
    "zip_object = zip(temp, temp_crn)\n",
    "for temp_i, temp_crn_i in zip_object:\n",
    "    difference3_mon.append(temp_i-temp_crn_i)\n",
    "\n",
    "print(difference3_mon)"
   ]
  },
  {
   "cell_type": "markdown",
   "id": "8e498386",
   "metadata": {},
   "source": [
    "<font size=\"3\">Holly Springs, MS: 1100 UTC 5 April 2022-1100 UTC 6 April 2022</font>"
   ]
  },
  {
   "cell_type": "code",
   "execution_count": 86,
   "id": "5b7f872c",
   "metadata": {},
   "outputs": [
    {
     "name": "stdout",
     "output_type": "stream",
     "text": [
      "[13.4223, 14.1171, 13.7033, 13.6075, 14.4968, 13.7785, 14.2127, 15.8033, 17.482, 17.8365, 17.9091, 18.7776, 18.1004, 17.8842, 16.1239, 15.6513, 14.3225, 13.9092, 14.1464, 14.351, 14.5163, 15.2642, 15.8128, 16.3846, 17.2332]\n"
     ]
    }
   ],
   "source": [
    "#18 hr hrrr:\n",
    "with open('hrrr_f18_Holly Springs_MS.txt') as f:\n",
    "    lst=[line.split()[1] for line in f]\n",
    "    temp=[]\n",
    "    for i in lst:\n",
    "        new=i.replace(',',\"\")\n",
    "        temp.append(new)\n",
    "    temp.pop(0)\n",
    "    temp=[float(x) for x in temp]\n",
    "    #print(temp.index(6.91541))\n",
    "    temp=temp[2249:2274]\n",
    "    print(temp)\n",
    "    #print(len(temp))\n",
    "#full time period is [2015:2112]"
   ]
  },
  {
   "cell_type": "code",
   "execution_count": 87,
   "id": "321afed1",
   "metadata": {},
   "outputs": [
    {
     "name": "stdout",
     "output_type": "stream",
     "text": [
      "[12.6, 12.5, 12.9, 13.1, 13.05, 13.45, 13.95, 15.5, 16.5, 17.85, 18.55, 20.200000000000003, 20.3, 16.85, 14.2, 14.35, 15.1, 14.55, 14.3, 14.2, 13.8, 13.7, 15.9, 16.75, 17.45]\n"
     ]
    }
   ],
   "source": [
    "#Air Temp CRN:\n",
    "with open('CRNS0101-05-2022-MS_Holly_Springs_4_N.txt') as f:\n",
    "    lst=[line.split()[8] for line in f]\n",
    "    \n",
    "    a=(float(lst[27203])+float(lst[27204]))/2\n",
    "    b=(float(lst[27215])+float(lst[27216]))/2\n",
    "    c=(float(lst[27227])+float(lst[27228]))/2\n",
    "    d=(float(lst[27239])+float(lst[27240]))/2\n",
    "    e=(float(lst[27251])+float(lst[27252]))/2\n",
    "    f=(float(lst[27263])+float(lst[27264]))/2\n",
    "    g=(float(lst[27275])+float(lst[27276]))/2\n",
    "    h=(float(lst[27287])+float(lst[27288]))/2\n",
    "    i=(float(lst[27299])+float(lst[27300]))/2\n",
    "    j=(float(lst[27311])+float(lst[27312]))/2\n",
    "    k=(float(lst[27323])+float(lst[27324]))/2\n",
    "    l=(float(lst[27335])+float(lst[27336]))/2\n",
    "    m=(float(lst[27347])+float(lst[27348]))/2\n",
    "    n=(float(lst[27359])+float(lst[27360]))/2\n",
    "    o=(float(lst[27371])+float(lst[27372]))/2\n",
    "    p=(float(lst[27383])+float(lst[27384]))/2\n",
    "    q=(float(lst[27395])+float(lst[27396]))/2\n",
    "    r=(float(lst[27407])+float(lst[27408]))/2\n",
    "    s=(float(lst[27419])+float(lst[27420]))/2\n",
    "    t=(float(lst[27431])+float(lst[27432]))/2\n",
    "    u=(float(lst[27443])+float(lst[27444]))/2\n",
    "    v=(float(lst[27455])+float(lst[27456]))/2\n",
    "    w=(float(lst[27467])+float(lst[27468]))/2\n",
    "    x=(float(lst[27479])+float(lst[27480]))/2\n",
    "    y=(float(lst[27491])+float(lst[27492]))/2\n",
    "    temp_crn=[a,b,c,d,e,f,g,h,i,j,k,l,m,n,o,p,q,r,s,t,u,v,w,x,y]\n",
    "    print(temp_crn)"
   ]
  },
  {
   "cell_type": "code",
   "execution_count": 88,
   "id": "9625595c",
   "metadata": {},
   "outputs": [
    {
     "name": "stdout",
     "output_type": "stream",
     "text": [
      "[0.8223000000000003, 1.6171000000000006, 0.8033000000000001, 0.5075000000000003, 1.4467999999999996, 0.3285, 0.2627000000000006, 0.3033000000000001, 0.9819999999999993, -0.013500000000000512, -0.640900000000002, -1.4224000000000032, -2.1996, 1.0341999999999985, 1.9238999999999997, 1.3013000000000012, -0.7774999999999999, -0.6408000000000005, -0.15360000000000085, 0.15100000000000158, 0.7162999999999986, 1.5642000000000014, -0.08720000000000105, -0.36540000000000106, -0.21679999999999922]\n"
     ]
    }
   ],
   "source": [
    "difference3_hol = []\n",
    "\n",
    "zip_object = zip(temp, temp_crn)\n",
    "for temp_i, temp_crn_i in zip_object:\n",
    "    difference3_hol.append(temp_i-temp_crn_i)\n",
    "\n",
    "print(difference3_hol)"
   ]
  },
  {
   "cell_type": "markdown",
   "id": "cec214d2",
   "metadata": {},
   "source": [
    "<font size=\"3\">Newton, MS: 1100 UTC 5 April 2022-1100 UTC 6 April 2022</font>"
   ]
  },
  {
   "cell_type": "code",
   "execution_count": 89,
   "id": "361f6336",
   "metadata": {},
   "outputs": [
    {
     "name": "stdout",
     "output_type": "stream",
     "text": [
      "[17.3598, 18.9921, 19.9533, 20.17, 21.3718, 19.591, 20.7127, 21.1158, 22.732, 23.274, 22.9091, 22.5901, 23.4754, 20.8217, 19.8114, 19.5888, 18.9475, 19.0967, 18.6464, 19.476, 20.0788, 20.0142, 19.6253, 20.1971, 20.2332]\n"
     ]
    }
   ],
   "source": [
    "#18 hr hrrr:\n",
    "with open('hrrr_f18_Newton_MS.txt') as f:\n",
    "    lst=[line.split()[1] for line in f]\n",
    "    temp=[]\n",
    "    for i in lst:\n",
    "        new=i.replace(',',\"\")\n",
    "        temp.append(new)\n",
    "    temp.pop(0)\n",
    "    temp=[float(x) for x in temp]\n",
    "    #print(temp.index(6.91541))\n",
    "    temp=temp[2249:2274]\n",
    "    print(temp)\n",
    "    #print(len(temp))\n",
    "#full time period is [2015:2112]"
   ]
  },
  {
   "cell_type": "code",
   "execution_count": 90,
   "id": "07926657",
   "metadata": {},
   "outputs": [
    {
     "name": "stdout",
     "output_type": "stream",
     "text": [
      "[17.299999999999997, 18.65, 18.4, 17.95, 17.9, 17.2, 18.75, 21.25, 22.65, 24.049999999999997, 24.549999999999997, 23.950000000000003, 22.8, 21.05, 19.9, 19.6, 19.35, 19.7, 19.6, 19.6, 19.95, 20.85, 21.2, 21.5, 21.85]\n"
     ]
    }
   ],
   "source": [
    "#Air Temp CRN:\n",
    "with open('CRNS0101-05-2022-MS_Newton_5_ENE.txt') as f:\n",
    "    lst=[line.split()[8] for line in f]\n",
    "    \n",
    "    a=(float(lst[27203])+float(lst[27204]))/2\n",
    "    b=(float(lst[27215])+float(lst[27216]))/2\n",
    "    c=(float(lst[27227])+float(lst[27228]))/2\n",
    "    d=(float(lst[27239])+float(lst[27240]))/2\n",
    "    e=(float(lst[27251])+float(lst[27252]))/2\n",
    "    f=(float(lst[27263])+float(lst[27264]))/2\n",
    "    g=(float(lst[27275])+float(lst[27276]))/2\n",
    "    h=(float(lst[27287])+float(lst[27288]))/2\n",
    "    i=(float(lst[27299])+float(lst[27300]))/2\n",
    "    j=(float(lst[27311])+float(lst[27312]))/2\n",
    "    k=(float(lst[27323])+float(lst[27324]))/2\n",
    "    l=(float(lst[27335])+float(lst[27336]))/2\n",
    "    m=(float(lst[27347])+float(lst[27348]))/2\n",
    "    n=(float(lst[27359])+float(lst[27360]))/2\n",
    "    o=(float(lst[27371])+float(lst[27372]))/2\n",
    "    p=(float(lst[27383])+float(lst[27384]))/2\n",
    "    q=(float(lst[27395])+float(lst[27396]))/2\n",
    "    r=(float(lst[27407])+float(lst[27408]))/2\n",
    "    s=(float(lst[27419])+float(lst[27420]))/2\n",
    "    t=(float(lst[27431])+float(lst[27432]))/2\n",
    "    u=(float(lst[27443])+float(lst[27444]))/2\n",
    "    v=(float(lst[27455])+float(lst[27456]))/2\n",
    "    w=(float(lst[27467])+float(lst[27468]))/2\n",
    "    x=(float(lst[27479])+float(lst[27480]))/2\n",
    "    y=(float(lst[27491])+float(lst[27492]))/2\n",
    "    temp_crn=[a,b,c,d,e,f,g,h,i,j,k,l,m,n,o,p,q,r,s,t,u,v,w,x,y]\n",
    "    print(temp_crn)"
   ]
  },
  {
   "cell_type": "code",
   "execution_count": 91,
   "id": "a83781b3",
   "metadata": {},
   "outputs": [
    {
     "name": "stdout",
     "output_type": "stream",
     "text": [
      "[0.05980000000000274, 0.34210000000000207, 1.5533000000000001, 2.2200000000000024, 3.4718000000000018, 2.391000000000002, 1.9627000000000017, -0.13419999999999987, 0.08200000000000074, -0.7759999999999962, -1.6408999999999985, -1.3599000000000032, 0.6753999999999998, -0.22830000000000084, -0.08859999999999957, -0.01120000000000232, -0.40249999999999986, -0.6033000000000008, -0.9536000000000016, -0.12400000000000233, 0.1288000000000018, -0.8358000000000025, -1.5747, -1.302900000000001, -1.6168000000000013]\n"
     ]
    }
   ],
   "source": [
    "difference3_new = []\n",
    "\n",
    "zip_object = zip(temp, temp_crn)\n",
    "for temp_i, temp_crn_i in zip_object:\n",
    "    difference3_new.append(temp_i-temp_crn_i)\n",
    "\n",
    "print(difference3_new)"
   ]
  },
  {
   "cell_type": "markdown",
   "id": "576090a5",
   "metadata": {},
   "source": [
    "<font size=\"3\">Gainesville, AL: 1300 UTC 5 April 2022-1300 UTC 6 April 2022</font>"
   ]
  },
  {
   "cell_type": "code",
   "execution_count": 92,
   "id": "4d735519",
   "metadata": {},
   "outputs": [
    {
     "name": "stdout",
     "output_type": "stream",
     "text": [
      "[17.2033, 17.2325, 19.7468, 21.966, 19.7752, 21.2408, 21.4195, 22.4615, 22.7216, 22.4026, 22.6629, 20.9467, 20.1864, 20.2138, 18.51, 18.8467, 18.7089, 18.5385, 18.5163, 18.3267, 17.5628, 19.7596, 19.8582, 19.9752, 21.0109]\n"
     ]
    }
   ],
   "source": [
    "#18 hr hrrr:\n",
    "with open('hrrr_f18_Gainesville_AL (1).txt') as f:\n",
    "    lst=[line.split()[1] for line in f]\n",
    "    temp=[]\n",
    "    for i in lst:\n",
    "        new=i.replace(',',\"\")\n",
    "        temp.append(new)\n",
    "    temp.pop(0)\n",
    "    temp=[float(x) for x in temp]\n",
    "    #print(temp.index(6.91541))\n",
    "    temp=temp[2251:2276]\n",
    "    print(temp)\n",
    "    #print(len(temp))\n",
    "#full time period is [2015:2112]"
   ]
  },
  {
   "cell_type": "code",
   "execution_count": 93,
   "id": "cff6042c",
   "metadata": {},
   "outputs": [
    {
     "name": "stdout",
     "output_type": "stream",
     "text": [
      "[16.15, 15.9, 16.85, 18.0, 17.95, 20.45, 22.1, 24.35, 25.45, 25.45, 24.5, 22.4, 20.6, 19.5, 18.55, 18.2, 18.85, 19.0, 19.1, 19.8, 20.1, 20.2, 20.4, 20.8, 21.45]\n"
     ]
    }
   ],
   "source": [
    "#Air Temp CRN:\n",
    "with open('CRNS0101-05-2022-AL_Gainesville_2_NE.txt') as f:\n",
    "    lst=[line.split()[8] for line in f]\n",
    "    \n",
    "    a=(float(lst[27227])+float(lst[27228]))/2\n",
    "    b=(float(lst[27239])+float(lst[27240]))/2\n",
    "    c=(float(lst[27251])+float(lst[27252]))/2\n",
    "    d=(float(lst[27263])+float(lst[27264]))/2\n",
    "    e=(float(lst[27275])+float(lst[27276]))/2\n",
    "    f=(float(lst[27287])+float(lst[27288]))/2\n",
    "    g=(float(lst[27299])+float(lst[27300]))/2\n",
    "    h=(float(lst[27311])+float(lst[27312]))/2\n",
    "    i=(float(lst[27323])+float(lst[27324]))/2\n",
    "    j=(float(lst[27335])+float(lst[27336]))/2\n",
    "    k=(float(lst[27347])+float(lst[27348]))/2\n",
    "    l=(float(lst[27359])+float(lst[27360]))/2\n",
    "    m=(float(lst[27371])+float(lst[27372]))/2\n",
    "    n=(float(lst[27383])+float(lst[27384]))/2\n",
    "    o=(float(lst[27395])+float(lst[27396]))/2\n",
    "    p=(float(lst[27407])+float(lst[27408]))/2\n",
    "    q=(float(lst[27419])+float(lst[27420]))/2\n",
    "    r=(float(lst[27431])+float(lst[27432]))/2\n",
    "    s=(float(lst[27443])+float(lst[27444]))/2\n",
    "    t=(float(lst[27455])+float(lst[27456]))/2\n",
    "    u=(float(lst[27467])+float(lst[27468]))/2\n",
    "    v=(float(lst[27479])+float(lst[27480]))/2\n",
    "    w=(float(lst[27491])+float(lst[27492]))/2\n",
    "    x=(float(lst[27503])+float(lst[27504]))/2\n",
    "    y=(float(lst[27515])+float(lst[27516]))/2\n",
    "    temp_crn=[a,b,c,d,e,f,g,h,i,j,k,l,m,n,o,p,q,r,s,t,u,v,w,x,y]\n",
    "    print(temp_crn)"
   ]
  },
  {
   "cell_type": "code",
   "execution_count": 94,
   "id": "b1176cf2",
   "metadata": {},
   "outputs": [
    {
     "name": "stdout",
     "output_type": "stream",
     "text": [
      "[1.0533000000000001, 1.3325000000000014, 2.896799999999999, 3.966000000000001, 1.8252000000000024, 0.7908000000000008, -0.6805000000000021, -1.8885000000000005, -2.7284000000000006, -3.0473999999999997, -1.8370999999999995, -1.4532999999999987, -0.4136000000000024, 0.7137999999999991, -0.03999999999999915, 0.6466999999999992, -0.14110000000000156, -0.4615000000000009, -0.5837000000000003, -1.4733000000000018, -2.537200000000002, -0.44040000000000035, -0.5417999999999985, -0.8247999999999998, -0.4390999999999998]\n"
     ]
    }
   ],
   "source": [
    "difference3_gai = []\n",
    "\n",
    "zip_object = zip(temp, temp_crn)\n",
    "for temp_i, temp_crn_i in zip_object:\n",
    "    difference3_gai.append(temp_i-temp_crn_i)\n",
    "\n",
    "print(difference3_gai)"
   ]
  },
  {
   "cell_type": "markdown",
   "id": "0a541e7a",
   "metadata": {},
   "source": [
    "<font size=\"3\">Fairhope, AL: 1300 UTC 5 April 2022-1300 UTC 6 April 2022</font>"
   ]
  },
  {
   "cell_type": "code",
   "execution_count": 95,
   "id": "d090bf78",
   "metadata": {},
   "outputs": [
    {
     "name": "stdout",
     "output_type": "stream",
     "text": [
      "[22.3283, 22.3575, 23.6218, 23.5285, 22.6502, 17.9283, 17.4195, 18.524, 18.5341, 18.6526, 20.0379, 18.7592, 20.7489, 19.0888, 21.51, 21.5342, 21.3339, 21.6635, 21.7038, 21.2642, 21.3128, 21.3846, 21.6707, 21.8502, 22.5734]\n"
     ]
    }
   ],
   "source": [
    "#18 hr hrrr:\n",
    "with open('hrrr_f18_Fairhope_AL.txt') as f:\n",
    "    lst=[line.split()[1] for line in f]\n",
    "    temp=[]\n",
    "    for i in lst:\n",
    "        new=i.replace(',',\"\")\n",
    "        temp.append(new)\n",
    "    temp.pop(0)\n",
    "    temp=[float(x) for x in temp]\n",
    "    #print(temp.index(6.91541))\n",
    "    temp=temp[2251:2276]\n",
    "    print(temp)\n",
    "    #print(len(temp))\n",
    "#full time period is [2015:2112]"
   ]
  },
  {
   "cell_type": "code",
   "execution_count": 96,
   "id": "aacaaf75",
   "metadata": {},
   "outputs": [
    {
     "name": "stdout",
     "output_type": "stream",
     "text": [
      "[23.5, 23.9, 24.4, 23.9, 23.45, 16.1, 16.45, 17.3, 18.6, 18.45, 18.9, 19.5, 19.75, 20.15, 20.95, 22.8, 22.9, 22.8, 22.9, 22.6, 22.6, 22.7, 22.8, 22.7, 23.55]\n"
     ]
    }
   ],
   "source": [
    "#Air Temp CRN:\n",
    "with open('CRNS0101-05-2022-AL_Fairhope_3_NE.txt') as f:\n",
    "    lst=[line.split()[8] for line in f]\n",
    "    \n",
    "    a=(float(lst[27227])+float(lst[27228]))/2\n",
    "    b=(float(lst[27239])+float(lst[27240]))/2\n",
    "    c=(float(lst[27251])+float(lst[27252]))/2\n",
    "    d=(float(lst[27263])+float(lst[27264]))/2\n",
    "    e=(float(lst[27275])+float(lst[27276]))/2\n",
    "    f=(float(lst[27287])+float(lst[27288]))/2\n",
    "    g=(float(lst[27299])+float(lst[27300]))/2\n",
    "    h=(float(lst[27311])+float(lst[27312]))/2\n",
    "    i=(float(lst[27323])+float(lst[27324]))/2\n",
    "    j=(float(lst[27335])+float(lst[27336]))/2\n",
    "    k=(float(lst[27347])+float(lst[27348]))/2\n",
    "    l=(float(lst[27359])+float(lst[27360]))/2\n",
    "    m=(float(lst[27371])+float(lst[27372]))/2\n",
    "    n=(float(lst[27383])+float(lst[27384]))/2\n",
    "    o=(float(lst[27395])+float(lst[27396]))/2\n",
    "    p=(float(lst[27407])+float(lst[27408]))/2\n",
    "    q=(float(lst[27419])+float(lst[27420]))/2\n",
    "    r=(float(lst[27431])+float(lst[27432]))/2\n",
    "    s=(float(lst[27443])+float(lst[27444]))/2\n",
    "    t=(float(lst[27455])+float(lst[27456]))/2\n",
    "    u=(float(lst[27467])+float(lst[27468]))/2\n",
    "    v=(float(lst[27479])+float(lst[27480]))/2\n",
    "    w=(float(lst[27491])+float(lst[27492]))/2\n",
    "    x=(float(lst[27503])+float(lst[27504]))/2\n",
    "    y=(float(lst[27515])+float(lst[27516]))/2\n",
    "    temp_crn=[a,b,c,d,e,f,g,h,i,j,k,l,m,n,o,p,q,r,s,t,u,v,w,x,y]\n",
    "    print(temp_crn)"
   ]
  },
  {
   "cell_type": "code",
   "execution_count": 97,
   "id": "e08d6481",
   "metadata": {},
   "outputs": [
    {
     "name": "stdout",
     "output_type": "stream",
     "text": [
      "[-1.1717000000000013, -1.5424999999999969, -0.7781999999999982, -0.3714999999999975, -0.7997999999999976, 1.8282999999999987, 0.9695, 1.2240000000000002, -0.06590000000000273, 0.20260000000000034, 1.137900000000002, -0.7408000000000001, 0.998899999999999, -1.0611999999999995, 0.5600000000000023, -1.2658000000000023, -1.5660999999999987, -1.1365000000000016, -1.1961999999999975, -1.3358000000000025, -1.2872000000000021, -1.3154000000000003, -1.1293000000000006, -0.8497999999999983, -0.9766000000000012]\n"
     ]
    }
   ],
   "source": [
    "difference3_fai = []\n",
    "\n",
    "zip_object = zip(temp, temp_crn)\n",
    "for temp_i, temp_crn_i in zip_object:\n",
    "    difference3_fai.append(temp_i-temp_crn_i)\n",
    "\n",
    "print(difference3_fai)"
   ]
  },
  {
   "cell_type": "markdown",
   "id": "817a1997",
   "metadata": {},
   "source": [
    "<font size=\"3\">Selma, AL: 1300 UTC 5 April 2022-1300 UTC 6 April 2022</font>"
   ]
  },
  {
   "cell_type": "code",
   "execution_count": 98,
   "id": "3850a5ea",
   "metadata": {},
   "outputs": [
    {
     "name": "stdout",
     "output_type": "stream",
     "text": [
      "[17.9533, 19.42, 20.0593, 20.466, 19.2752, 20.0533, 18.9195, 20.4615, 20.4716, 20.0901, 20.9129, 18.6967, 17.3739, 17.8388, 18.385, 18.1592, 17.7089, 18.351, 18.8913, 19.2642, 19.5003, 20.3846, 20.1707, 20.4127, 21.3234]\n"
     ]
    }
   ],
   "source": [
    "#18 hr hrrr:\n",
    "with open('hrrr_f18_Selma_AL.txt') as f:\n",
    "    lst=[line.split()[1] for line in f]\n",
    "    temp=[]\n",
    "    for i in lst:\n",
    "        new=i.replace(',',\"\")\n",
    "        temp.append(new)\n",
    "    temp.pop(0)\n",
    "    temp=[float(x) for x in temp]\n",
    "    #print(temp.index(6.91541))\n",
    "    temp=temp[2251:2276]\n",
    "    print(temp)"
   ]
  },
  {
   "cell_type": "code",
   "execution_count": 99,
   "id": "a77fd0d0",
   "metadata": {},
   "outputs": [
    {
     "name": "stdout",
     "output_type": "stream",
     "text": [
      "[16.55, 16.950000000000003, 19.75, 19.3, 18.55, 17.7, 18.1, 18.799999999999997, 19.65, 19.95, 19.2, 18.55, 17.95, 18.05, 17.4, 17.85, 19.05, 19.5, 19.55, 19.3, 19.35, 19.75, 20.15, 20.4, 20.55]\n"
     ]
    }
   ],
   "source": [
    "#Air Temp CRN:\n",
    "with open('CRNS0101-05-2022-AL_Selma_13_WNW.txt') as f:\n",
    "    lst=[line.split()[8] for line in f]\n",
    "    \n",
    "    a=(float(lst[27227])+float(lst[27228]))/2\n",
    "    b=(float(lst[27239])+float(lst[27240]))/2\n",
    "    c=(float(lst[27251])+float(lst[27252]))/2\n",
    "    d=(float(lst[27263])+float(lst[27264]))/2\n",
    "    e=(float(lst[27275])+float(lst[27276]))/2\n",
    "    f=(float(lst[27287])+float(lst[27288]))/2\n",
    "    g=(float(lst[27299])+float(lst[27300]))/2\n",
    "    h=(float(lst[27311])+float(lst[27312]))/2\n",
    "    i=(float(lst[27323])+float(lst[27324]))/2\n",
    "    j=(float(lst[27335])+float(lst[27336]))/2\n",
    "    k=(float(lst[27347])+float(lst[27348]))/2\n",
    "    l=(float(lst[27359])+float(lst[27360]))/2\n",
    "    m=(float(lst[27371])+float(lst[27372]))/2\n",
    "    n=(float(lst[27383])+float(lst[27384]))/2\n",
    "    o=(float(lst[27395])+float(lst[27396]))/2\n",
    "    p=(float(lst[27407])+float(lst[27408]))/2\n",
    "    q=(float(lst[27419])+float(lst[27420]))/2\n",
    "    r=(float(lst[27431])+float(lst[27432]))/2\n",
    "    s=(float(lst[27443])+float(lst[27444]))/2\n",
    "    t=(float(lst[27455])+float(lst[27456]))/2\n",
    "    u=(float(lst[27467])+float(lst[27468]))/2\n",
    "    v=(float(lst[27479])+float(lst[27480]))/2\n",
    "    w=(float(lst[27491])+float(lst[27492]))/2\n",
    "    x=(float(lst[27503])+float(lst[27504]))/2\n",
    "    y=(float(lst[27515])+float(lst[27516]))/2\n",
    "    temp_crn=[a,b,c,d,e,f,g,h,i,j,k,l,m,n,o,p,q,r,s,t,u,v,w,x,y]\n",
    "    print(temp_crn)"
   ]
  },
  {
   "cell_type": "code",
   "execution_count": 100,
   "id": "6b41efd2",
   "metadata": {},
   "outputs": [
    {
     "name": "stdout",
     "output_type": "stream",
     "text": [
      "[1.403299999999998, 2.469999999999999, 0.30930000000000035, 1.1660000000000004, 0.725200000000001, 2.353300000000001, 0.8194999999999979, 1.6615000000000038, 0.8216000000000001, 0.14010000000000034, 1.7129000000000012, 0.14669999999999916, -0.5761000000000003, -0.2112000000000016, 0.985000000000003, 0.30919999999999703, -1.3411000000000008, -1.149000000000001, -0.6586999999999996, -0.03580000000000183, 0.15029999999999788, 0.6345999999999989, 0.020700000000001495, 0.012700000000002376, 0.7733999999999988]\n",
      "25\n"
     ]
    }
   ],
   "source": [
    "difference3_sel = []\n",
    "\n",
    "zip_object = zip(temp, temp_crn)\n",
    "for temp_i, temp_crn_i in zip_object:\n",
    "    difference3_sel.append(temp_i-temp_crn_i)\n",
    "\n",
    "print(difference3_sel)\n",
    "print(len(difference3_sel))"
   ]
  },
  {
   "cell_type": "markdown",
   "id": "8492b45b",
   "metadata": {},
   "source": [
    "<font size=\"3\">Bowling Green, KY: 1500 UTC 5 April 2022-1500 UTC 6 April 2022</font>"
   ]
  },
  {
   "cell_type": "code",
   "execution_count": 101,
   "id": "f04dad03",
   "metadata": {},
   "outputs": [
    {
     "name": "stdout",
     "output_type": "stream",
     "text": [
      "[15.4968, 15.7785, 17.0877, 13.8033, 14.357, 14.4615, 13.4091, 13.6526, 14.6004, 14.0092, 12.0614, 10.4638, 10.0725, 9.47174, 9.45886, 10.6635, 8.07883, 8.51419, 10.0003, 9.38461, 10.3582, 10.6627, 11.8234, 11.7996, 13.0787]\n",
      "25\n"
     ]
    }
   ],
   "source": [
    "#18 hr hrrr:\n",
    "with open('hrrr_f18_Bowling Green_KY.txt') as f:\n",
    "    lst=[line.split()[1] for line in f]\n",
    "    temp=[]\n",
    "    for i in lst:\n",
    "        new=i.replace(',',\"\")\n",
    "        temp.append(new)\n",
    "    temp.pop(0)\n",
    "    temp=[float(x) for x in temp]\n",
    "    #print(temp.index(6.91541))\n",
    "    temp=temp[2253:2278]\n",
    "    print(temp)\n",
    "    print(len(temp))"
   ]
  },
  {
   "cell_type": "code",
   "execution_count": 102,
   "id": "51bfc81e",
   "metadata": {},
   "outputs": [
    {
     "name": "stdout",
     "output_type": "stream",
     "text": [
      "[12.2, 11.7, 12.2, 12.649999999999999, 11.850000000000001, 12.2, 12.2, 12.55, 12.4, 12.149999999999999, 11.850000000000001, 11.149999999999999, 10.4, 10.1, 10.55, 10.4, 10.8, 11.0, 11.149999999999999, 11.0, 11.25, 11.6, 12.5, 13.149999999999999, 14.05]\n"
     ]
    }
   ],
   "source": [
    "#Air Temp CRN:\n",
    "with open('CRNS0101-05-2022-KY_Bowling_Green_21_NNE.txt') as f:\n",
    "    lst=[line.split()[8] for line in f]\n",
    "    \n",
    "    a=(float(lst[27251])+float(lst[27252]))/2\n",
    "    b=(float(lst[27263])+float(lst[27264]))/2\n",
    "    c=(float(lst[27275])+float(lst[27276]))/2\n",
    "    d=(float(lst[27287])+float(lst[27288]))/2\n",
    "    e=(float(lst[27299])+float(lst[27300]))/2\n",
    "    f=(float(lst[27311])+float(lst[27312]))/2\n",
    "    g=(float(lst[27323])+float(lst[27324]))/2\n",
    "    h=(float(lst[27335])+float(lst[27336]))/2\n",
    "    i=(float(lst[27347])+float(lst[27348]))/2\n",
    "    j=(float(lst[27359])+float(lst[27360]))/2\n",
    "    k=(float(lst[27371])+float(lst[27372]))/2\n",
    "    l=(float(lst[27383])+float(lst[27384]))/2\n",
    "    m=(float(lst[27395])+float(lst[27396]))/2\n",
    "    n=(float(lst[27407])+float(lst[27408]))/2\n",
    "    o=(float(lst[27419])+float(lst[27420]))/2\n",
    "    p=(float(lst[27431])+float(lst[27432]))/2\n",
    "    q=(float(lst[27443])+float(lst[27444]))/2\n",
    "    r=(float(lst[27455])+float(lst[27456]))/2\n",
    "    s=(float(lst[27467])+float(lst[27468]))/2\n",
    "    t=(float(lst[27479])+float(lst[27480]))/2\n",
    "    u=(float(lst[27491])+float(lst[27492]))/2\n",
    "    v=(float(lst[27503])+float(lst[27504]))/2\n",
    "    w=(float(lst[27515])+float(lst[27516]))/2\n",
    "    x=(float(lst[27527])+float(lst[27528]))/2\n",
    "    y=(float(lst[27539])+float(lst[27540]))/2\n",
    "    temp_crn=[a,b,c,d,e,f,g,h,i,j,k,l,m,n,o,p,q,r,s,t,u,v,w,x,y]\n",
    "    print(temp_crn)"
   ]
  },
  {
   "cell_type": "code",
   "execution_count": 103,
   "id": "8047270f",
   "metadata": {},
   "outputs": [
    {
     "name": "stdout",
     "output_type": "stream",
     "text": [
      "[3.296800000000001, 4.0785, 4.887700000000002, 1.1533000000000015, 2.506999999999998, 2.2615, 1.2091000000000012, 1.102599999999999, 2.2004, 1.8592000000000013, 0.21139999999999937, -0.6861999999999977, -0.32750000000000057, -0.6282599999999992, -1.091140000000001, 0.2635000000000005, -2.7211700000000008, -2.4858100000000007, -1.1496999999999993, -1.6153899999999997, -0.8917999999999999, -0.9373000000000005, -0.6766000000000005, -1.3503999999999987, -0.9713000000000012]\n"
     ]
    }
   ],
   "source": [
    "difference3_bow = []\n",
    "\n",
    "zip_object = zip(temp, temp_crn)\n",
    "for temp_i, temp_crn_i in zip_object:\n",
    "    difference3_bow.append(temp_i-temp_crn_i)\n",
    "\n",
    "print(difference3_bow)"
   ]
  },
  {
   "cell_type": "markdown",
   "id": "e3343352",
   "metadata": {},
   "source": [
    "<font size=\"3\">Gadsden, AL: 1500 UTC 5 April 2022-1500 UTC 6 April 2022</font>"
   ]
  },
  {
   "cell_type": "code",
   "execution_count": 104,
   "id": "1d3a02ee",
   "metadata": {},
   "outputs": [
    {
     "name": "stdout",
     "output_type": "stream",
     "text": [
      "[12.1218, 12.591, 13.2752, 14.0533, 16.107, 17.649, 18.8466, 16.8401, 17.0379, 17.1342, 16.3114, 16.6513, 14.3225, 13.5342, 13.7714, 13.476, 12.8288, 12.2642, 12.4378, 12.2596, 13.2957, 13.4752, 14.1984, 15.6121, 17.0787]\n"
     ]
    }
   ],
   "source": [
    "#18 hr hrrr:\n",
    "with open('hrrr_f18_Gadsden_AL.txt') as f:\n",
    "    lst=[line.split()[1] for line in f]\n",
    "    temp=[]\n",
    "    for i in lst:\n",
    "        new=i.replace(',',\"\")\n",
    "        temp.append(new)\n",
    "    temp.pop(0)\n",
    "    temp=[float(x) for x in temp]\n",
    "    #print(temp.index(6.91541))\n",
    "    temp=temp[2253:2278]\n",
    "    print(temp)\n",
    "    #print(len(temp))\n",
    "#full time period is [2015:2112]"
   ]
  },
  {
   "cell_type": "code",
   "execution_count": 105,
   "id": "e7df9414",
   "metadata": {},
   "outputs": [
    {
     "name": "stdout",
     "output_type": "stream",
     "text": [
      "[11.1, 11.3, 11.9, 12.75, 15.5, 17.5, 18.05, 18.15, 18.5, 17.75, 16.3, 14.0, 12.45, 12.649999999999999, 13.4, 13.3, 13.9, 14.2, 14.350000000000001, 14.8, 14.95, 15.8, 16.45, 17.2, 17.9]\n"
     ]
    }
   ],
   "source": [
    "#Air Temp CRN:\n",
    "with open('CRNS0101-05-2022-AL_Gadsden_19_N.txt') as f:\n",
    "    lst=[line.split()[8] for line in f]\n",
    "    \n",
    "    a=(float(lst[27251])+float(lst[27252]))/2\n",
    "    b=(float(lst[27263])+float(lst[27264]))/2\n",
    "    c=(float(lst[27275])+float(lst[27276]))/2\n",
    "    d=(float(lst[27287])+float(lst[27288]))/2\n",
    "    e=(float(lst[27299])+float(lst[27300]))/2\n",
    "    f=(float(lst[27311])+float(lst[27312]))/2\n",
    "    g=(float(lst[27323])+float(lst[27324]))/2\n",
    "    h=(float(lst[27335])+float(lst[27336]))/2\n",
    "    i=(float(lst[27347])+float(lst[27348]))/2\n",
    "    j=(float(lst[27359])+float(lst[27360]))/2\n",
    "    k=(float(lst[27371])+float(lst[27372]))/2\n",
    "    l=(float(lst[27383])+float(lst[27384]))/2\n",
    "    m=(float(lst[27395])+float(lst[27396]))/2\n",
    "    n=(float(lst[27407])+float(lst[27408]))/2\n",
    "    o=(float(lst[27419])+float(lst[27420]))/2\n",
    "    p=(float(lst[27431])+float(lst[27432]))/2\n",
    "    q=(float(lst[27443])+float(lst[27444]))/2\n",
    "    r=(float(lst[27455])+float(lst[27456]))/2\n",
    "    s=(float(lst[27467])+float(lst[27468]))/2\n",
    "    t=(float(lst[27479])+float(lst[27480]))/2\n",
    "    u=(float(lst[27491])+float(lst[27492]))/2\n",
    "    v=(float(lst[27503])+float(lst[27504]))/2\n",
    "    w=(float(lst[27515])+float(lst[27516]))/2\n",
    "    x=(float(lst[27527])+float(lst[27528]))/2\n",
    "    y=(float(lst[27539])+float(lst[27540]))/2\n",
    "    temp_crn=[a,b,c,d,e,f,g,h,i,j,k,l,m,n,o,p,q,r,s,t,u,v,w,x,y]\n",
    "    print(temp_crn)"
   ]
  },
  {
   "cell_type": "code",
   "execution_count": 106,
   "id": "9ac3a61b",
   "metadata": {},
   "outputs": [
    {
     "name": "stdout",
     "output_type": "stream",
     "text": [
      "[1.0218000000000007, 1.2909999999999986, 1.3751999999999995, 1.3033000000000001, 0.6069999999999993, 0.1490000000000009, 0.796599999999998, -1.309899999999999, -1.4620999999999995, -0.6158000000000001, 0.0113999999999983, 2.651299999999999, 1.8725000000000005, 0.8842000000000017, 0.3713999999999995, 0.17600000000000016, -1.071200000000001, -1.9357999999999986, -1.9122000000000021, -2.5404, -1.6542999999999992, -2.3248000000000015, -2.2516, -1.5878999999999994, -0.8212999999999973]\n"
     ]
    }
   ],
   "source": [
    "difference3_gad = []\n",
    "\n",
    "zip_object = zip(temp, temp_crn)\n",
    "for temp_i, temp_crn_i in zip_object:\n",
    "    difference3_gad.append(temp_i-temp_crn_i)\n",
    "\n",
    "print(difference3_gad)"
   ]
  },
  {
   "cell_type": "markdown",
   "id": "24b41c3d",
   "metadata": {},
   "source": [
    "<font size=\"3\">Newton, GA: 1800 UTC 5 April 2022-1800 UTC 6 April 2022</font>"
   ]
  },
  {
   "cell_type": "code",
   "execution_count": 107,
   "id": "73a45595",
   "metadata": {},
   "outputs": [
    {
     "name": "stdout",
     "output_type": "stream",
     "text": [
      "[25.7408, 27.2945, 26.7115, 25.8466, 18.0276, 19.5379, 19.1342, 18.3114, 18.6513, 19.385, 19.4717, 19.9589, 19.2885, 20.7663, 21.3892, 20.9378, 20.5096, 20.9832, 21.7252, 21.6984, 23.1746, 23.8287, 24.477, 25.6908, 24.3736]\n"
     ]
    }
   ],
   "source": [
    "#18 hr hrrr:\n",
    "with open('hrrr_f18_Newton_GA.txt') as f:\n",
    "    lst=[line.split()[1] for line in f]\n",
    "    temp=[]\n",
    "    for i in lst:\n",
    "        new=i.replace(',',\"\")\n",
    "        temp.append(new)\n",
    "    temp.pop(0)\n",
    "    temp=[float(x) for x in temp]\n",
    "    #print(temp.index(6.91541))\n",
    "    temp=temp[2256:2281]\n",
    "    print(temp)\n",
    "    #print(len(temp))\n",
    "#full time period is [2015:2112]"
   ]
  },
  {
   "cell_type": "code",
   "execution_count": 108,
   "id": "263bc114",
   "metadata": {},
   "outputs": [
    {
     "name": "stdout",
     "output_type": "stream",
     "text": [
      "[26.5, 26.85, 18.65, 17.2, 16.9, 16.9, 17.05, 17.1, 17.3, 16.9, 17.05, 17.3, 17.85, 18.45, 19.35, 20.05, 20.75, 21.3, 21.7, 22.85, 23.6, 24.95, 26.1, 26.85, 27.75]\n"
     ]
    }
   ],
   "source": [
    "#Air Temp CRN:\n",
    "with open('CRNS0101-05-2022-GA_Newton_11_SW.txt') as f:\n",
    "    lst=[line.split()[8] for line in f]\n",
    "    \n",
    "    a=(float(lst[27287])+float(lst[27288]))/2\n",
    "    b=(float(lst[27299])+float(lst[27300]))/2\n",
    "    c=(float(lst[27311])+float(lst[27312]))/2\n",
    "    d=(float(lst[27323])+float(lst[27324]))/2\n",
    "    e=(float(lst[27335])+float(lst[27336]))/2\n",
    "    f=(float(lst[27347])+float(lst[27348]))/2\n",
    "    g=(float(lst[27359])+float(lst[27360]))/2\n",
    "    h=(float(lst[27371])+float(lst[27372]))/2\n",
    "    i=(float(lst[27383])+float(lst[27384]))/2\n",
    "    j=(float(lst[27395])+float(lst[27396]))/2\n",
    "    k=(float(lst[27407])+float(lst[27408]))/2\n",
    "    l=(float(lst[27419])+float(lst[27420]))/2\n",
    "    m=(float(lst[27431])+float(lst[27432]))/2\n",
    "    n=(float(lst[27443])+float(lst[27444]))/2\n",
    "    o=(float(lst[27455])+float(lst[27456]))/2\n",
    "    p=(float(lst[27467])+float(lst[27468]))/2\n",
    "    q=(float(lst[27479])+float(lst[27480]))/2\n",
    "    r=(float(lst[27491])+float(lst[27492]))/2\n",
    "    s=(float(lst[27503])+float(lst[27504]))/2\n",
    "    t=(float(lst[27515])+float(lst[27516]))/2\n",
    "    u=(float(lst[27527])+float(lst[27528]))/2\n",
    "    v=(float(lst[27539])+float(lst[27540]))/2\n",
    "    w=(float(lst[27551])+float(lst[27552]))/2\n",
    "    x=(float(lst[27563])+float(lst[27564]))/2\n",
    "    y=(float(lst[27575])+float(lst[27576]))/2\n",
    "    temp_crn=[a,b,c,d,e,f,g,h,i,j,k,l,m,n,o,p,q,r,s,t,u,v,w,x,y]\n",
    "    print(temp_crn)"
   ]
  },
  {
   "cell_type": "code",
   "execution_count": 109,
   "id": "474e5fae",
   "metadata": {},
   "outputs": [
    {
     "name": "stdout",
     "output_type": "stream",
     "text": [
      "[-0.7591999999999999, 0.4444999999999979, 8.061500000000002, 8.6466, 1.127600000000001, 2.637900000000002, 2.084199999999999, 1.2113999999999976, 1.3512999999999984, 2.485000000000003, 2.4216999999999977, 2.658899999999999, 1.4384999999999977, 2.316300000000002, 2.0391999999999975, 0.8877999999999986, -0.24040000000000106, -0.31680000000000064, 0.025200000000001666, -1.151600000000002, -0.4253999999999998, -1.121299999999998, -1.623000000000001, -1.159200000000002, -3.3764000000000003]\n"
     ]
    }
   ],
   "source": [
    "difference3_newt = []\n",
    "\n",
    "zip_object = zip(temp, temp_crn)\n",
    "for temp_i, temp_crn_i in zip_object:\n",
    "    difference3_newt.append(temp_i-temp_crn_i)\n",
    "\n",
    "print(difference3_newt)"
   ]
  },
  {
   "cell_type": "markdown",
   "id": "e079df5d",
   "metadata": {},
   "source": [
    "<font size=\"3\">Salem, MO: 1500 UTC 13 April 2022-1500 UTC 14 April 2022</font>"
   ]
  },
  {
   "cell_type": "code",
   "execution_count": 110,
   "id": "2d4eaff3",
   "metadata": {},
   "outputs": [
    {
     "name": "stdout",
     "output_type": "stream",
     "text": [
      "[19.3979, 18.8221, 18.2954, 14.8432, 15.6932, 11.5045, 6.74057, 6.4061, 6.5217, 5.93259, 5.05008, 4.68655, 3.95596, 3.85757, 3.20303, 3.03122, 2.28525, 1.99545, 1.79434, 1.63013, 1.13809, 1.27328, 3.4729, 6.12122, 8.22726]\n"
     ]
    }
   ],
   "source": [
    "#18 hr hrrr:\n",
    "with open('hrrr_f18_Salem_MO.txt') as f:\n",
    "    lst=[line.split()[1] for line in f]\n",
    "    temp=[]\n",
    "    for i in lst:\n",
    "        new=i.replace(',',\"\")\n",
    "        temp.append(new)\n",
    "    temp.pop(0)\n",
    "    temp=[float(x) for x in temp]\n",
    "    #print(temp.index(6.91541))\n",
    "    temp=temp[2445:2470]\n",
    "    print(temp)\n",
    "    #print(len(temp))\n",
    "#full time period is [2015:2112]"
   ]
  },
  {
   "cell_type": "code",
   "execution_count": 111,
   "id": "11955714",
   "metadata": {},
   "outputs": [
    {
     "name": "stdout",
     "output_type": "stream",
     "text": [
      "[17.6, 17.25, 15.25, 14.7, 14.6, 8.2, 6.7, 6.2, 5.25, 5.45, 4.35, 5.1, 5.1, 3.6, 2.6500000000000004, 0.09999999999999999, -0.8, -1.1, -2.0, -0.75, -1.8499999999999999, -0.9, 2.95, 7.949999999999999, 10.899999999999999]\n"
     ]
    }
   ],
   "source": [
    "#Air Temp CRN:\n",
    "with open('CRNS0101-05-2022-MO_Salem_10_W.txt') as f:\n",
    "    lst=[line.split()[8] for line in f]\n",
    "    \n",
    "    a=(float(lst[29555])+float(lst[29556]))/2\n",
    "    b=(float(lst[29567])+float(lst[29568]))/2\n",
    "    c=(float(lst[29579])+float(lst[29580]))/2\n",
    "    d=(float(lst[29591])+float(lst[29592]))/2\n",
    "    e=(float(lst[29603])+float(lst[29604]))/2\n",
    "    f=(float(lst[29615])+float(lst[29616]))/2\n",
    "    g=(float(lst[29627])+float(lst[29628]))/2\n",
    "    h=(float(lst[29639])+float(lst[29640]))/2\n",
    "    i=(float(lst[29651])+float(lst[29652]))/2\n",
    "    j=(float(lst[29663])+float(lst[29664]))/2\n",
    "    k=(float(lst[29675])+float(lst[29676]))/2\n",
    "    l=(float(lst[29687])+float(lst[29688]))/2\n",
    "    m=(float(lst[29699])+float(lst[29700]))/2\n",
    "    n=(float(lst[29711])+float(lst[29712]))/2\n",
    "    o=(float(lst[29723])+float(lst[29724]))/2\n",
    "    p=(float(lst[29735])+float(lst[29736]))/2\n",
    "    q=(float(lst[29747])+float(lst[29748]))/2\n",
    "    r=(float(lst[29759])+float(lst[29760]))/2\n",
    "    s=(float(lst[29771])+float(lst[29772]))/2\n",
    "    t=(float(lst[29783])+float(lst[29784]))/2\n",
    "    u=(float(lst[29795])+float(lst[29796]))/2\n",
    "    v=(float(lst[29807])+float(lst[29808]))/2\n",
    "    w=(float(lst[29819])+float(lst[29820]))/2\n",
    "    x=(float(lst[29831])+float(lst[29832]))/2\n",
    "    y=(float(lst[29843])+float(lst[29844]))/2\n",
    "    temp_crn=[a,b,c,d,e,f,g,h,i,j,k,l,m,n,o,p,q,r,s,t,u,v,w,x,y]\n",
    "    print(temp_crn)"
   ]
  },
  {
   "cell_type": "code",
   "execution_count": 112,
   "id": "cfc37d3d",
   "metadata": {},
   "outputs": [
    {
     "name": "stdout",
     "output_type": "stream",
     "text": [
      "[1.7978999999999985, 1.572099999999999, 3.0454000000000008, 0.14320000000000022, 1.0931999999999995, 3.304500000000001, 0.04056999999999977, 0.20610000000000017, 1.2717, 0.4825900000000001, 0.7000800000000007, -0.4134499999999992, -1.1440399999999995, 0.25756999999999985, 0.5530299999999997, 2.9312199999999997, 3.0852500000000003, 3.09545, 3.79434, 2.3801300000000003, 2.9880899999999997, 2.17328, 0.5228999999999999, -1.8287799999999992, -2.6727399999999992]\n"
     ]
    }
   ],
   "source": [
    "difference4_sal = []\n",
    "\n",
    "zip_object = zip(temp, temp_crn)\n",
    "for temp_i, temp_crn_i in zip_object:\n",
    "    difference4_sal.append(temp_i-temp_crn_i)\n",
    "\n",
    "print(difference4_sal)"
   ]
  },
  {
   "cell_type": "markdown",
   "id": "1baa8356",
   "metadata": {},
   "source": [
    "<font size=\"3\">Batesville, AR: 1500 UTC 13 April 2022-1500 UTC 14 April 2022</font>"
   ]
  },
  {
   "cell_type": "code",
   "execution_count": 113,
   "id": "d8303cde",
   "metadata": {},
   "outputs": [
    {
     "name": "stdout",
     "output_type": "stream",
     "text": [
      "[20.2104, 17.8221, 22.5454, 20.3432, 19.3182, 20.442, 19.3656, 14.6561, 11.3342, 10.3701, 9.11258, 7.93655, 7.58096, 7.60757, 6.95303, 6.65622, 5.78525, 5.43295, 4.79434, 4.44263, 4.20059, 4.21078, 5.8479, 8.62122, 10.2898]\n"
     ]
    }
   ],
   "source": [
    "#18 hr hrrr:\n",
    "with open('hrrr_f18_Batesville_AR.txt') as f:\n",
    "    lst=[line.split()[1] for line in f]\n",
    "    temp=[]\n",
    "    for i in lst:\n",
    "        new=i.replace(',',\"\")\n",
    "        temp.append(new)\n",
    "    temp.pop(0)\n",
    "    temp=[float(x) for x in temp]\n",
    "    #print(temp.index(6.91541))\n",
    "    temp=temp[2445:2470]\n",
    "\n",
    "    print(temp)\n",
    "    #print(len(temp))\n",
    "#full time period is [2015:2112]"
   ]
  },
  {
   "cell_type": "code",
   "execution_count": 114,
   "id": "006ec050",
   "metadata": {},
   "outputs": [
    {
     "name": "stdout",
     "output_type": "stream",
     "text": [
      "[18.4, 19.9, 20.5, 20.049999999999997, 18.05, 17.5, 17.75, 14.95, 11.3, 10.75, 10.5, 9.95, 9.6, 8.45, 8.149999999999999, 6.75, 4.95, 1.7000000000000002, 1.35, 1.1, 0.05, 0.09999999999999999, 3.0999999999999996, 7.5, 9.7]\n"
     ]
    }
   ],
   "source": [
    "#Air Temp CRN:\n",
    "with open('CRNS0101-05-2022-AR_Batesville_8_WNW.txt') as f:\n",
    "    lst=[line.split()[8] for line in f]\n",
    "    \n",
    "    a=(float(lst[29555])+float(lst[29556]))/2\n",
    "    b=(float(lst[29567])+float(lst[29568]))/2\n",
    "    c=(float(lst[29579])+float(lst[29580]))/2\n",
    "    d=(float(lst[29591])+float(lst[29592]))/2\n",
    "    e=(float(lst[29603])+float(lst[29604]))/2\n",
    "    f=(float(lst[29615])+float(lst[29616]))/2\n",
    "    g=(float(lst[29627])+float(lst[29628]))/2\n",
    "    h=(float(lst[29639])+float(lst[29640]))/2\n",
    "    i=(float(lst[29651])+float(lst[29652]))/2\n",
    "    j=(float(lst[29663])+float(lst[29664]))/2\n",
    "    k=(float(lst[29675])+float(lst[29676]))/2\n",
    "    l=(float(lst[29687])+float(lst[29688]))/2\n",
    "    m=(float(lst[29699])+float(lst[29700]))/2\n",
    "    n=(float(lst[29711])+float(lst[29712]))/2\n",
    "    o=(float(lst[29723])+float(lst[29724]))/2\n",
    "    p=(float(lst[29735])+float(lst[29736]))/2\n",
    "    q=(float(lst[29747])+float(lst[29748]))/2\n",
    "    r=(float(lst[29759])+float(lst[29760]))/2\n",
    "    s=(float(lst[29771])+float(lst[29772]))/2\n",
    "    t=(float(lst[29783])+float(lst[29784]))/2\n",
    "    u=(float(lst[29795])+float(lst[29796]))/2\n",
    "    v=(float(lst[29807])+float(lst[29808]))/2\n",
    "    w=(float(lst[29819])+float(lst[29820]))/2\n",
    "    x=(float(lst[29831])+float(lst[29832]))/2\n",
    "    y=(float(lst[29843])+float(lst[29844]))/2\n",
    "    temp_crn=[a,b,c,d,e,f,g,h,i,j,k,l,m,n,o,p,q,r,s,t,u,v,w,x,y]\n",
    "    print(temp_crn)"
   ]
  },
  {
   "cell_type": "code",
   "execution_count": 115,
   "id": "3ca802b3",
   "metadata": {},
   "outputs": [
    {
     "name": "stdout",
     "output_type": "stream",
     "text": [
      "[1.8104000000000013, -2.0778999999999996, 2.0454000000000008, 0.29320000000000235, 1.2682000000000002, 2.942, 1.6156000000000006, -0.29389999999999894, 0.034199999999998454, -0.37989999999999924, -1.3874200000000005, -2.013449999999999, -2.0190399999999995, -0.8424299999999993, -1.1969699999999985, -0.09377999999999975, 0.8352499999999994, 3.7329499999999998, 3.44434, 3.34263, 4.15059, 4.11078, 2.7479000000000005, 1.1212199999999992, 0.5898000000000003]\n"
     ]
    }
   ],
   "source": [
    "difference4_bat = []\n",
    "\n",
    "zip_object = zip(temp, temp_crn)\n",
    "for temp_i, temp_crn_i in zip_object:\n",
    "    difference4_bat.append(temp_i-temp_crn_i)\n",
    "\n",
    "print(difference4_bat)"
   ]
  },
  {
   "cell_type": "markdown",
   "id": "7089dff9",
   "metadata": {},
   "source": [
    "<font size=\"3\">Lafayette, LA: 2000 UTC 13 April 2022-2000 UTC 14 April 2022</font>"
   ]
  },
  {
   "cell_type": "code",
   "execution_count": 116,
   "id": "2d13b7f6",
   "metadata": {},
   "outputs": [
    {
     "name": "stdout",
     "output_type": "stream",
     "text": [
      "[24.0045, 25.4281, 23.6561, 23.3967, 23.5576, 23.5501, 22.9991, 22.706, 22.7951, 22.8905, 19.6562, 18.8477, 16.933, 16.0443, 15.1926, 15.0131, 15.0233, 15.3479, 16.3087, 17.4773, 18.4927, 20.4795, 22.2025, 23.5104, 24.7071]\n"
     ]
    }
   ],
   "source": [
    "#18 hr hrrr:\n",
    "with open('hrrr_f18_Lafayette_LA.txt') as f:\n",
    "    lst=[line.split()[1] for line in f]\n",
    "    temp=[]\n",
    "    for i in lst:\n",
    "        new=i.replace(',',\"\")\n",
    "        temp.append(new)\n",
    "    temp.pop(0)\n",
    "    temp=[float(x) for x in temp]\n",
    "    #print(temp.index(6.91541))\n",
    "    \n",
    "    temp=temp[2450:2475]\n",
    "    print(temp)\n",
    "    #print(len(temp))\n",
    "#full time period is [2015:2112]"
   ]
  },
  {
   "cell_type": "code",
   "execution_count": 117,
   "id": "4cb24849",
   "metadata": {},
   "outputs": [
    {
     "name": "stdout",
     "output_type": "stream",
     "text": [
      "[25.05, 25.15, 24.65, 24.4, 24.0, 23.6, 23.5, 16.7, 15.4, 15.5, 15.8, 16.1, 16.85, 17.2, 15.8, 15.350000000000001, 14.95, 15.55, 17.200000000000003, 19.35, 20.85, 23.200000000000003, 24.4, 25.65, 26.05]\n"
     ]
    }
   ],
   "source": [
    "#Air Temp CRN:\n",
    "with open('CRNS0101-05-2022-LA_Lafayette_13_SE.txt') as f:\n",
    "    lst=[line.split()[8] for line in f]\n",
    "    \n",
    "    a=(float(lst[29615])+float(lst[29616]))/2\n",
    "    b=(float(lst[29627])+float(lst[29628]))/2\n",
    "    c=(float(lst[29639])+float(lst[29640]))/2\n",
    "    d=(float(lst[29651])+float(lst[29652]))/2\n",
    "    e=(float(lst[29663])+float(lst[29664]))/2\n",
    "    f=(float(lst[29675])+float(lst[29676]))/2\n",
    "    g=(float(lst[29687])+float(lst[29688]))/2\n",
    "    h=(float(lst[29699])+float(lst[29700]))/2\n",
    "    i=(float(lst[29711])+float(lst[29712]))/2\n",
    "    j=(float(lst[29723])+float(lst[29724]))/2\n",
    "    k=(float(lst[29735])+float(lst[29736]))/2\n",
    "    l=(float(lst[29747])+float(lst[29748]))/2\n",
    "    m=(float(lst[29759])+float(lst[29760]))/2\n",
    "    n=(float(lst[29771])+float(lst[29772]))/2\n",
    "    o=(float(lst[29783])+float(lst[29784]))/2\n",
    "    p=(float(lst[29795])+float(lst[29796]))/2\n",
    "    q=(float(lst[29807])+float(lst[29808]))/2\n",
    "    r=(float(lst[29819])+float(lst[29820]))/2\n",
    "    s=(float(lst[29831])+float(lst[29832]))/2\n",
    "    t=(float(lst[29843])+float(lst[29844]))/2\n",
    "    u=(float(lst[29855])+float(lst[29856]))/2\n",
    "    v=(float(lst[29867])+float(lst[29868]))/2\n",
    "    w=(float(lst[29879])+float(lst[29880]))/2\n",
    "    x=(float(lst[29891])+float(lst[29892]))/2\n",
    "    y=(float(lst[29903])+float(lst[29904]))/2\n",
    "    temp_crn=[a,b,c,d,e,f,g,h,i,j,k,l,m,n,o,p,q,r,s,t,u,v,w,x,y]\n",
    "    print(temp_crn)"
   ]
  },
  {
   "cell_type": "code",
   "execution_count": 118,
   "id": "f0730891",
   "metadata": {},
   "outputs": [
    {
     "name": "stdout",
     "output_type": "stream",
     "text": [
      "[-1.0455000000000005, 0.278100000000002, -0.9939, -1.0032999999999994, -0.44239999999999924, -0.049900000000000944, -0.5009000000000015, 6.006, 7.395100000000001, 7.390499999999999, 3.8561999999999976, 2.7476999999999983, 0.08299999999999841, -1.1556999999999995, -0.6074000000000002, -0.33690000000000175, 0.07330000000000148, -0.2021000000000015, -0.8913000000000011, -1.8727000000000018, -2.357300000000002, -2.7205000000000013, -2.197499999999998, -2.139599999999998, -1.3429000000000002]\n"
     ]
    }
   ],
   "source": [
    "difference4_laf = []\n",
    "\n",
    "zip_object = zip(temp, temp_crn)\n",
    "for temp_i, temp_crn_i in zip_object:\n",
    "    difference4_laf.append(temp_i-temp_crn_i)\n",
    "\n",
    "print(difference4_laf)"
   ]
  },
  {
   "cell_type": "markdown",
   "id": "a4cb46d7",
   "metadata": {},
   "source": [
    "<font size=\"3\">Monroe, LA: 2000 UTC 13 April 2022-2000 UTC 14 April 2022</font>"
   ]
  },
  {
   "cell_type": "code",
   "execution_count": 119,
   "id": "ec66bc4d",
   "metadata": {},
   "outputs": [
    {
     "name": "stdout",
     "output_type": "stream",
     "text": [
      "[23.6295, 23.1156, 23.7186, 23.8967, 23.6826, 18.9876, 16.2491, 13.8935, 12.8576, 11.7655, 11.4062, 10.5977, 10.2455, 9.48184, 8.69263, 8.63809, 8.21078, 9.1604, 10.3712, 11.6648, 13.9302, 15.542, 17.515, 19.3854, 20.7696]\n"
     ]
    }
   ],
   "source": [
    "#18 hr hrrr:\n",
    "with open('hrrr_f18_Monroe_LA.txt') as f:\n",
    "    lst=[line.split()[1] for line in f]\n",
    "    temp=[]\n",
    "    for i in lst:\n",
    "        new=i.replace(',',\"\")\n",
    "        temp.append(new)\n",
    "    temp.pop(0)\n",
    "    temp=[float(x) for x in temp]\n",
    "    #print(temp.index(6.91541))\n",
    "    temp=temp[2450:2475]   \n",
    "    print(temp)\n",
    "    #print(len(temp))\n",
    "#full time period is [2015:2112]"
   ]
  },
  {
   "cell_type": "code",
   "execution_count": 120,
   "id": "1718f471",
   "metadata": {},
   "outputs": [
    {
     "name": "stdout",
     "output_type": "stream",
     "text": [
      "[24.200000000000003, 23.35, 22.799999999999997, 22.9, 19.45, 18.75, 17.9, 14.4, 13.0, 11.8, 10.850000000000001, 9.65, 10.55, 10.3, 9.75, 10.149999999999999, 9.850000000000001, 11.149999999999999, 12.25, 13.75, 15.45, 17.2, 18.5, 20.05, 21.299999999999997]\n"
     ]
    }
   ],
   "source": [
    "#Air Temp CRN:\n",
    "with open('CRNS0101-05-2022-LA_Monroe_26_N.txt') as f:\n",
    "    lst=[line.split()[8] for line in f]\n",
    "    \n",
    "    a=(float(lst[29615])+float(lst[29616]))/2\n",
    "    b=(float(lst[29627])+float(lst[29628]))/2\n",
    "    c=(float(lst[29639])+float(lst[29640]))/2\n",
    "    d=(float(lst[29651])+float(lst[29652]))/2\n",
    "    e=(float(lst[29663])+float(lst[29664]))/2\n",
    "    f=(float(lst[29675])+float(lst[29676]))/2\n",
    "    g=(float(lst[29687])+float(lst[29688]))/2\n",
    "    h=(float(lst[29699])+float(lst[29700]))/2\n",
    "    i=(float(lst[29711])+float(lst[29712]))/2\n",
    "    j=(float(lst[29723])+float(lst[29724]))/2\n",
    "    k=(float(lst[29735])+float(lst[29736]))/2\n",
    "    l=(float(lst[29747])+float(lst[29748]))/2\n",
    "    m=(float(lst[29759])+float(lst[29760]))/2\n",
    "    n=(float(lst[29771])+float(lst[29772]))/2\n",
    "    o=(float(lst[29783])+float(lst[29784]))/2\n",
    "    p=(float(lst[29795])+float(lst[29796]))/2\n",
    "    q=(float(lst[29807])+float(lst[29808]))/2\n",
    "    r=(float(lst[29819])+float(lst[29820]))/2\n",
    "    s=(float(lst[29831])+float(lst[29832]))/2\n",
    "    t=(float(lst[29843])+float(lst[29844]))/2\n",
    "    u=(float(lst[29855])+float(lst[29856]))/2\n",
    "    v=(float(lst[29867])+float(lst[29868]))/2\n",
    "    w=(float(lst[29879])+float(lst[29880]))/2\n",
    "    x=(float(lst[29891])+float(lst[29892]))/2\n",
    "    y=(float(lst[29903])+float(lst[29904]))/2\n",
    "    temp_crn=[a,b,c,d,e,f,g,h,i,j,k,l,m,n,o,p,q,r,s,t,u,v,w,x,y]\n",
    "    print(temp_crn)"
   ]
  },
  {
   "cell_type": "code",
   "execution_count": 121,
   "id": "91696836",
   "metadata": {},
   "outputs": [
    {
     "name": "stdout",
     "output_type": "stream",
     "text": [
      "[-0.5705000000000027, -0.23440000000000083, 0.9186000000000014, 0.9967000000000006, 4.2326000000000015, 0.23760000000000048, -1.6509, -0.5065000000000008, -0.1424000000000003, -0.03450000000000131, 0.5561999999999987, 0.9476999999999993, -0.3045000000000009, -0.8181600000000007, -1.0573700000000006, -1.5119099999999985, -1.6392200000000017, -1.9895999999999994, -1.8788, -2.0852000000000004, -1.5198, -1.6579999999999995, -0.9849999999999994, -0.6646000000000001, -0.5303999999999967]\n"
     ]
    }
   ],
   "source": [
    "difference4_mon = []\n",
    "\n",
    "zip_object = zip(temp, temp_crn)\n",
    "for temp_i, temp_crn_i in zip_object:\n",
    "    difference4_mon.append(temp_i-temp_crn_i)\n",
    "\n",
    "print(difference4_mon)"
   ]
  },
  {
   "cell_type": "markdown",
   "id": "797ab9bf",
   "metadata": {},
   "source": [
    "<font size=\"3\">Holly Springs, MS: 2300 UTC 13 April 2022-2300 UTC 14 April 2022</font>"
   ]
  },
  {
   "cell_type": "code",
   "execution_count": 122,
   "id": "57f08a6a",
   "metadata": {},
   "outputs": [
    {
     "name": "stdout",
     "output_type": "stream",
     "text": [
      "[22.7092, 21.6201, 20.0501, 19.3116, 13.5185, 11.3576, 10.828, 9.40622, 8.53525, 7.87045, 7.35684, 7.13013, 6.70059, 6.58578, 7.5979, 9.05872, 10.6023, 11.9302, 13.417, 15.7025, 16.9479, 18.2696, 18.0659, 18.268, 17.5766]\n"
     ]
    }
   ],
   "source": [
    "#18 hr hrrr:\n",
    "with open('hrrr_f18_Holly Springs_MS.txt') as f:\n",
    "    lst=[line.split()[1] for line in f]\n",
    "    temp=[]\n",
    "    for i in lst:\n",
    "        new=i.replace(',',\"\")\n",
    "        temp.append(new)\n",
    "    temp.pop(0)\n",
    "    temp=[float(x) for x in temp]\n",
    "    #print(temp.index(6.91541))\n",
    "    temp=temp[2453:2478]\n",
    "    print(temp)\n",
    "    #print(len(temp))\n",
    "#full time period is [2015:2112]"
   ]
  },
  {
   "cell_type": "code",
   "execution_count": 123,
   "id": "a1f0089e",
   "metadata": {},
   "outputs": [
    {
     "name": "stdout",
     "output_type": "stream",
     "text": [
      "[16.4, 16.700000000000003, 17.35, 17.549999999999997, 18.1, 14.0, 12.1, 10.8, 10.05, 8.4, 7.6, 6.75, 7.6, 6.9, 8.45, 9.7, 11.8, 14.0, 15.950000000000001, 17.95, 18.85, 19.35, 19.95, 19.950000000000003, 19.8]\n"
     ]
    }
   ],
   "source": [
    "#Air Temp CRN:\n",
    "with open('CRNS0101-05-2022-MS_Holly_Springs_4_N.txt') as f:\n",
    "    lst=[line.split()[8] for line in f]\n",
    "    \n",
    "    a=(float(lst[29651])+float(lst[29652]))/2\n",
    "    b=(float(lst[29663])+float(lst[29664]))/2\n",
    "    c=(float(lst[29675])+float(lst[29676]))/2\n",
    "    d=(float(lst[29687])+float(lst[29688]))/2\n",
    "    e=(float(lst[29699])+float(lst[29700]))/2\n",
    "    f=(float(lst[29711])+float(lst[29712]))/2\n",
    "    g=(float(lst[29723])+float(lst[29724]))/2\n",
    "    h=(float(lst[29735])+float(lst[29736]))/2\n",
    "    i=(float(lst[29747])+float(lst[29748]))/2\n",
    "    j=(float(lst[29759])+float(lst[29760]))/2\n",
    "    k=(float(lst[29771])+float(lst[29772]))/2\n",
    "    l=(float(lst[29783])+float(lst[29784]))/2\n",
    "    m=(float(lst[29795])+float(lst[29796]))/2\n",
    "    n=(float(lst[29807])+float(lst[29808]))/2\n",
    "    o=(float(lst[29819])+float(lst[29820]))/2\n",
    "    p=(float(lst[29831])+float(lst[29832]))/2\n",
    "    q=(float(lst[29843])+float(lst[29844]))/2\n",
    "    r=(float(lst[29855])+float(lst[29856]))/2\n",
    "    s=(float(lst[29867])+float(lst[29868]))/2\n",
    "    t=(float(lst[29879])+float(lst[29880]))/2\n",
    "    u=(float(lst[29891])+float(lst[29892]))/2\n",
    "    v=(float(lst[29903])+float(lst[29904]))/2\n",
    "    w=(float(lst[29915])+float(lst[29916]))/2\n",
    "    x=(float(lst[29927])+float(lst[29928]))/2\n",
    "    y=(float(lst[29939])+float(lst[29940]))/2\n",
    "    temp_crn=[a,b,c,d,e,f,g,h,i,j,k,l,m,n,o,p,q,r,s,t,u,v,w,x,y]\n",
    "    print(temp_crn)"
   ]
  },
  {
   "cell_type": "code",
   "execution_count": 124,
   "id": "6226fdc5",
   "metadata": {},
   "outputs": [
    {
     "name": "stdout",
     "output_type": "stream",
     "text": [
      "[6.309200000000001, 4.920099999999998, 2.700099999999999, 1.7616000000000014, -4.581500000000002, -2.6424000000000003, -1.2720000000000002, -1.3937800000000014, -1.5147500000000012, -0.5295500000000004, -0.2431599999999996, 0.3801300000000003, -0.8994099999999996, -0.3142200000000006, -0.8520999999999992, -0.6412800000000001, -1.197700000000001, -2.0698000000000008, -2.5330000000000013, -2.2474999999999987, -1.9021000000000008, -1.080400000000001, -1.8841, -1.6820000000000022, -2.2234000000000016]\n"
     ]
    }
   ],
   "source": [
    "difference4_hol = []\n",
    "\n",
    "zip_object = zip(temp, temp_crn)\n",
    "for temp_i, temp_crn_i in zip_object:\n",
    "    difference4_hol.append(temp_i-temp_crn_i)\n",
    "\n",
    "print(difference4_hol)"
   ]
  },
  {
   "cell_type": "markdown",
   "id": "2580ca75",
   "metadata": {},
   "source": [
    "<font size=\"3\">Newton, MS: 2300 UTC 13 April 2022-2300 UTC 14 April 2022</font>"
   ]
  },
  {
   "cell_type": "code",
   "execution_count": 125,
   "id": "7fe1e234",
   "metadata": {},
   "outputs": [
    {
     "name": "stdout",
     "output_type": "stream",
     "text": [
      "[22.9592, 24.4951, 24.4251, 23.4991, 22.206, 21.4826, 21.1405, 20.9687, 19.5352, 16.058, 13.9193, 13.1301, 12.0756, 11.7108, 12.1604, 13.4962, 15.1023, 16.7427, 17.9795, 19.89, 21.0729, 22.0196, 22.3784, 22.4555, 22.4516]\n"
     ]
    }
   ],
   "source": [
    "#18 hr hrrr:\n",
    "with open('hrrr_f18_Newton_MS.txt') as f:\n",
    "    lst=[line.split()[1] for line in f]\n",
    "    temp=[]\n",
    "    for i in lst:\n",
    "        new=i.replace(',',\"\")\n",
    "        temp.append(new)\n",
    "    temp.pop(0)\n",
    "    temp=[float(x) for x in temp]\n",
    "    #print(temp.index(6.91541))\n",
    "    temp=temp[2453:2478]\n",
    "    print(temp)\n",
    "    #print(len(temp))\n",
    "#full time period is [2015:2112]"
   ]
  },
  {
   "cell_type": "code",
   "execution_count": 126,
   "id": "8cd5b339",
   "metadata": {},
   "outputs": [
    {
     "name": "stdout",
     "output_type": "stream",
     "text": [
      "[25.200000000000003, 24.85, 24.1, 17.15, 16.85, 16.85, 17.0, 16.9, 16.9, 17.0, 16.0, 14.2, 12.149999999999999, 11.05, 11.95, 13.05, 15.15, 17.299999999999997, 19.6, 20.75, 22.0, 22.9, 23.2, 23.0, 22.799999999999997]\n"
     ]
    }
   ],
   "source": [
    "#Air Temp CRN:\n",
    "with open('CRNS0101-05-2022-MS_Newton_5_ENE.txt') as f:\n",
    "    lst=[line.split()[8] for line in f]\n",
    "    \n",
    "    a=(float(lst[29651])+float(lst[29652]))/2\n",
    "    b=(float(lst[29663])+float(lst[29664]))/2\n",
    "    c=(float(lst[29675])+float(lst[29676]))/2\n",
    "    d=(float(lst[29687])+float(lst[29688]))/2\n",
    "    e=(float(lst[29699])+float(lst[29700]))/2\n",
    "    f=(float(lst[29711])+float(lst[29712]))/2\n",
    "    g=(float(lst[29723])+float(lst[29724]))/2\n",
    "    h=(float(lst[29735])+float(lst[29736]))/2\n",
    "    i=(float(lst[29747])+float(lst[29748]))/2\n",
    "    j=(float(lst[29759])+float(lst[29760]))/2\n",
    "    k=(float(lst[29771])+float(lst[29772]))/2\n",
    "    l=(float(lst[29783])+float(lst[29784]))/2\n",
    "    m=(float(lst[29795])+float(lst[29796]))/2\n",
    "    n=(float(lst[29807])+float(lst[29808]))/2\n",
    "    o=(float(lst[29819])+float(lst[29820]))/2\n",
    "    p=(float(lst[29831])+float(lst[29832]))/2\n",
    "    q=(float(lst[29843])+float(lst[29844]))/2\n",
    "    r=(float(lst[29855])+float(lst[29856]))/2\n",
    "    s=(float(lst[29867])+float(lst[29868]))/2\n",
    "    t=(float(lst[29879])+float(lst[29880]))/2\n",
    "    u=(float(lst[29891])+float(lst[29892]))/2\n",
    "    v=(float(lst[29903])+float(lst[29904]))/2\n",
    "    w=(float(lst[29915])+float(lst[29916]))/2\n",
    "    x=(float(lst[29927])+float(lst[29928]))/2\n",
    "    y=(float(lst[29939])+float(lst[29940]))/2\n",
    "    temp_crn=[a,b,c,d,e,f,g,h,i,j,k,l,m,n,o,p,q,r,s,t,u,v,w,x,y]\n",
    "    print(temp_crn)"
   ]
  },
  {
   "cell_type": "code",
   "execution_count": 127,
   "id": "e75f9641",
   "metadata": {},
   "outputs": [
    {
     "name": "stdout",
     "output_type": "stream",
     "text": [
      "[-2.2408000000000037, -0.35490000000000066, 0.32509999999999906, 6.3491, 5.355999999999998, 4.6326, 4.140499999999999, 4.0687, 2.635200000000001, -0.9420000000000002, -2.0807, -1.0698999999999987, -0.07439999999999891, 0.6608, 0.21039999999999992, 0.44619999999999926, -0.04770000000000074, -0.5572999999999979, -1.6204999999999998, -0.8599999999999994, -0.9270999999999994, -0.8803999999999981, -0.8216000000000001, -0.5444999999999993, -0.34839999999999804]\n"
     ]
    }
   ],
   "source": [
    "difference4_new = []\n",
    "\n",
    "zip_object = zip(temp, temp_crn)\n",
    "for temp_i, temp_crn_i in zip_object:\n",
    "    difference4_new.append(temp_i-temp_crn_i)\n",
    "\n",
    "print(difference4_new)"
   ]
  },
  {
   "cell_type": "markdown",
   "id": "a7d0e1e9",
   "metadata": {},
   "source": [
    "<font size=\"3\">Gainesville, AL: 0200 UTC 14 April 2022-0200 UTC 15 April 2022</font>"
   ]
  },
  {
   "cell_type": "code",
   "execution_count": 128,
   "id": "b14a68f9",
   "metadata": {},
   "outputs": [
    {
     "name": "stdout",
     "output_type": "stream",
     "text": [
      "[24.2491, 23.831, 21.8576, 21.7655, 19.1562, 20.5352, 18.7455, 14.9818, 14.6301, 13.0756, 13.2108, 13.8479, 15.0587, 16.4148, 17.6177, 18.9795, 20.2025, 20.2604, 20.6446, 20.5034, 20.643, 20.5766, 18.4496, 16.0519, 14.9381]\n"
     ]
    }
   ],
   "source": [
    "#18 hr hrrr:\n",
    "with open('hrrr_f18_Gainesville_AL (1).txt') as f:\n",
    "    lst=[line.split()[1] for line in f]\n",
    "    temp=[]\n",
    "    for i in lst:\n",
    "        new=i.replace(',',\"\")\n",
    "        temp.append(new)\n",
    "    temp.pop(0)\n",
    "    temp=[float(x) for x in temp]\n",
    "    #print(temp.index(6.91541))\n",
    "    temp=temp[2456:2481]\n",
    "    print(temp)\n",
    "    #print(len(temp))\n",
    "#full time period is [2015:2112]"
   ]
  },
  {
   "cell_type": "code",
   "execution_count": 129,
   "id": "6792cddd",
   "metadata": {},
   "outputs": [
    {
     "name": "stdout",
     "output_type": "stream",
     "text": [
      "[23.65, 17.8, 17.45, 17.25, 17.1, 17.0, 17.0, 17.0, 14.850000000000001, 13.5, 12.95, 13.25, 13.7, 15.3, 16.6, 18.049999999999997, 19.35, 20.95, 22.05, 22.6, 22.25, 21.4, 19.3, 15.850000000000001, 14.25]\n"
     ]
    }
   ],
   "source": [
    "#Air Temp CRN:\n",
    "with open('CRNS0101-05-2022-AL_Gainesville_2_NE.txt') as f:\n",
    "    lst=[line.split()[8] for line in f]\n",
    "    \n",
    "    a=(float(lst[29687])+float(lst[29688]))/2\n",
    "    b=(float(lst[29699])+float(lst[29700]))/2\n",
    "    c=(float(lst[29711])+float(lst[29712]))/2\n",
    "    d=(float(lst[29723])+float(lst[29724]))/2\n",
    "    e=(float(lst[29735])+float(lst[29736]))/2\n",
    "    f=(float(lst[29747])+float(lst[29748]))/2\n",
    "    g=(float(lst[29759])+float(lst[29760]))/2\n",
    "    h=(float(lst[29771])+float(lst[29772]))/2\n",
    "    i=(float(lst[29783])+float(lst[29784]))/2\n",
    "    j=(float(lst[29795])+float(lst[29796]))/2\n",
    "    k=(float(lst[29807])+float(lst[29808]))/2\n",
    "    l=(float(lst[29819])+float(lst[29820]))/2\n",
    "    m=(float(lst[29831])+float(lst[29832]))/2\n",
    "    n=(float(lst[29843])+float(lst[29844]))/2\n",
    "    o=(float(lst[29855])+float(lst[29856]))/2\n",
    "    p=(float(lst[29867])+float(lst[29868]))/2\n",
    "    q=(float(lst[29879])+float(lst[29880]))/2\n",
    "    r=(float(lst[29891])+float(lst[29892]))/2\n",
    "    s=(float(lst[29903])+float(lst[29904]))/2\n",
    "    t=(float(lst[29915])+float(lst[29916]))/2\n",
    "    u=(float(lst[29927])+float(lst[29928]))/2\n",
    "    v=(float(lst[29939])+float(lst[29940]))/2\n",
    "    w=(float(lst[29951])+float(lst[29952]))/2\n",
    "    x=(float(lst[29963])+float(lst[29964]))/2\n",
    "    y=(float(lst[29975])+float(lst[29976]))/2\n",
    "    temp_crn=[a,b,c,d,e,f,g,h,i,j,k,l,m,n,o,p,q,r,s,t,u,v,w,x,y]\n",
    "    print(temp_crn)"
   ]
  },
  {
   "cell_type": "code",
   "execution_count": 130,
   "id": "c9db90a8",
   "metadata": {},
   "outputs": [
    {
     "name": "stdout",
     "output_type": "stream",
     "text": [
      "[0.5991, 6.030999999999999, 4.407600000000002, 4.515499999999999, 2.056199999999997, 3.5351999999999997, 1.7454999999999998, -2.0182, -0.21990000000000087, -0.42440000000000033, 0.2608000000000015, 0.5978999999999992, 1.3587000000000007, 1.114799999999999, 1.0176999999999978, 0.9295000000000044, 0.8524999999999991, -0.6895999999999987, -1.4054000000000002, -2.0966000000000022, -1.6069999999999993, -0.8233999999999995, -0.8504000000000005, 0.20189999999999841, 0.6881000000000004]\n"
     ]
    }
   ],
   "source": [
    "difference4_gai = []\n",
    "\n",
    "zip_object = zip(temp, temp_crn)\n",
    "for temp_i, temp_crn_i in zip_object:\n",
    "    difference4_gai.append(temp_i-temp_crn_i)\n",
    "\n",
    "print(difference4_gai)"
   ]
  },
  {
   "cell_type": "markdown",
   "id": "cdbcd1b4",
   "metadata": {},
   "source": [
    "<font size=\"3\">Fairhope, AL: 0200 UTC 14 April 2022-0200 UTC 15 April 2022</font>"
   ]
  },
  {
   "cell_type": "code",
   "execution_count": 131,
   "id": "f28743e3",
   "metadata": {},
   "outputs": [
    {
     "name": "stdout",
     "output_type": "stream",
     "text": [
      "[21.9366, 21.6435, 21.6701, 21.828, 21.4687, 21.2227, 18.4955, 18.4818, 17.7551, 18.3881, 18.9608, 19.7854, 19.2462, 19.7273, 19.1177, 22.667, 22.265, 24.0104, 23.4571, 21.0659, 22.2055, 19.8891, 19.5746, 20.1144, 19.4381]\n"
     ]
    }
   ],
   "source": [
    "#18 hr hrrr:\n",
    "with open('hrrr_f18_Fairhope_AL.txt') as f:\n",
    "    lst=[line.split()[1] for line in f]\n",
    "    temp=[]\n",
    "    for i in lst:\n",
    "        new=i.replace(',',\"\")\n",
    "        temp.append(new)\n",
    "    temp.pop(0)\n",
    "    temp=[float(x) for x in temp]\n",
    "    #print(temp.index(6.91541))\n",
    "    temp=temp[2456:2481]\n",
    "    print(temp)\n",
    "    #print(len(temp))\n",
    "#full time period is [2015:2112]"
   ]
  },
  {
   "cell_type": "code",
   "execution_count": 132,
   "id": "39bb1d69",
   "metadata": {},
   "outputs": [
    {
     "name": "stdout",
     "output_type": "stream",
     "text": [
      "[22.15, 22.35, 21.8, 21.45, 18.15, 17.95, 17.9, 17.9, 17.8, 17.7, 17.3, 18.299999999999997, 18.75, 19.2, 20.1, 19.9, 21.299999999999997, 23.0, 23.45, 23.35, 23.6, 23.55, 22.25, 19.45, 17.65]\n"
     ]
    }
   ],
   "source": [
    "#Air Temp CRN:\n",
    "with open('CRNS0101-05-2022-AL_Fairhope_3_NE.txt') as f:\n",
    "    lst=[line.split()[8] for line in f]\n",
    "    \n",
    "    a=(float(lst[29687])+float(lst[29688]))/2\n",
    "    b=(float(lst[29699])+float(lst[29700]))/2\n",
    "    c=(float(lst[29711])+float(lst[29712]))/2\n",
    "    d=(float(lst[29723])+float(lst[29724]))/2\n",
    "    e=(float(lst[29735])+float(lst[29736]))/2\n",
    "    f=(float(lst[29747])+float(lst[29748]))/2\n",
    "    g=(float(lst[29759])+float(lst[29760]))/2\n",
    "    h=(float(lst[29771])+float(lst[29772]))/2\n",
    "    i=(float(lst[29783])+float(lst[29784]))/2\n",
    "    j=(float(lst[29795])+float(lst[29796]))/2\n",
    "    k=(float(lst[29807])+float(lst[29808]))/2\n",
    "    l=(float(lst[29819])+float(lst[29820]))/2\n",
    "    m=(float(lst[29831])+float(lst[29832]))/2\n",
    "    n=(float(lst[29843])+float(lst[29844]))/2\n",
    "    o=(float(lst[29855])+float(lst[29856]))/2\n",
    "    p=(float(lst[29867])+float(lst[29868]))/2\n",
    "    q=(float(lst[29879])+float(lst[29880]))/2\n",
    "    r=(float(lst[29891])+float(lst[29892]))/2\n",
    "    s=(float(lst[29903])+float(lst[29904]))/2\n",
    "    t=(float(lst[29915])+float(lst[29916]))/2\n",
    "    u=(float(lst[29927])+float(lst[29928]))/2\n",
    "    v=(float(lst[29939])+float(lst[29940]))/2\n",
    "    w=(float(lst[29951])+float(lst[29952]))/2\n",
    "    x=(float(lst[29963])+float(lst[29964]))/2\n",
    "    y=(float(lst[29975])+float(lst[29976]))/2\n",
    "    temp_crn=[a,b,c,d,e,f,g,h,i,j,k,l,m,n,o,p,q,r,s,t,u,v,w,x,y]\n",
    "    print(temp_crn)"
   ]
  },
  {
   "cell_type": "code",
   "execution_count": 133,
   "id": "2e2c6057",
   "metadata": {},
   "outputs": [
    {
     "name": "stdout",
     "output_type": "stream",
     "text": [
      "[-0.21340000000000003, -0.7065000000000019, -0.12989999999999924, 0.3780000000000001, 3.3186999999999998, 3.2727000000000004, 0.5955000000000013, 0.5818000000000012, -0.04490000000000194, 0.6881000000000022, 1.6607999999999983, 1.485400000000002, 0.49620000000000175, 0.5273000000000003, -0.9823000000000022, 2.767000000000003, 0.9650000000000034, 1.0104000000000006, 0.0071000000000012164, -2.2841000000000022, -1.3945000000000007, -3.6609000000000016, -2.6754, 0.6644000000000005, 1.7881]\n"
     ]
    }
   ],
   "source": [
    "difference4_fai = []\n",
    "\n",
    "zip_object = zip(temp, temp_crn)\n",
    "for temp_i, temp_crn_i in zip_object:\n",
    "    difference4_fai.append(temp_i-temp_crn_i)\n",
    "\n",
    "print(difference4_fai)"
   ]
  },
  {
   "cell_type": "markdown",
   "id": "ba62c881",
   "metadata": {},
   "source": [
    "<font size=\"3\">Selma, AL: 0200 UTC 14 April 2022-0200 UTC 15 April 2022\n",
    "</font>"
   ]
  },
  {
   "cell_type": "code",
   "execution_count": 134,
   "id": "935d8c80",
   "metadata": {},
   "outputs": [
    {
     "name": "stdout",
     "output_type": "stream",
     "text": [
      "[21.1241, 20.7685, 20.7951, 20.6405, 19.9062, 20.1602, 17.9955, 18.0443, 19.3176, 17.5756, 17.3358, 17.0979, 16.4962, 17.2898, 19.1802, 20.042, 21.2025, 20.4479, 22.2696, 22.1909, 20.9555, 20.4516, 18.5121, 16.9269, 15.6881]\n"
     ]
    }
   ],
   "source": [
    "#18 hr hrrr:\n",
    "with open('hrrr_f18_Selma_AL.txt') as f:\n",
    "    lst=[line.split()[1] for line in f]\n",
    "    temp=[]\n",
    "    for i in lst:\n",
    "        new=i.replace(',',\"\")\n",
    "        temp.append(new)\n",
    "    temp.pop(0)\n",
    "    temp=[float(x) for x in temp]\n",
    "    #print(temp.index(6.91541))\n",
    "    temp=temp[2456:2481]\n",
    "    print(temp)"
   ]
  },
  {
   "cell_type": "code",
   "execution_count": 135,
   "id": "2fea209b",
   "metadata": {},
   "outputs": [
    {
     "name": "stdout",
     "output_type": "stream",
     "text": [
      "[22.6, 22.4, 18.35, 17.5, 17.0, 17.3, 17.3, 17.2, 17.2, 17.25, 16.799999999999997, 16.45, 17.35, 18.5, 19.55, 21.05, 22.4, 23.1, 24.15, 24.35, 24.05, 23.200000000000003, 20.15, 16.4, 14.95]\n"
     ]
    }
   ],
   "source": [
    "#Air Temp CRN:\n",
    "with open('CRNS0101-05-2022-AL_Selma_13_WNW.txt') as f:\n",
    "    lst=[line.split()[8] for line in f]\n",
    "    \n",
    "    a=(float(lst[29687])+float(lst[29688]))/2\n",
    "    b=(float(lst[29699])+float(lst[29700]))/2\n",
    "    c=(float(lst[29711])+float(lst[29712]))/2\n",
    "    d=(float(lst[29723])+float(lst[29724]))/2\n",
    "    e=(float(lst[29735])+float(lst[29736]))/2\n",
    "    f=(float(lst[29747])+float(lst[29748]))/2\n",
    "    g=(float(lst[29759])+float(lst[29760]))/2\n",
    "    h=(float(lst[29771])+float(lst[29772]))/2\n",
    "    i=(float(lst[29783])+float(lst[29784]))/2\n",
    "    j=(float(lst[29795])+float(lst[29796]))/2\n",
    "    k=(float(lst[29807])+float(lst[29808]))/2\n",
    "    l=(float(lst[29819])+float(lst[29820]))/2\n",
    "    m=(float(lst[29831])+float(lst[29832]))/2\n",
    "    n=(float(lst[29843])+float(lst[29844]))/2\n",
    "    o=(float(lst[29855])+float(lst[29856]))/2\n",
    "    p=(float(lst[29867])+float(lst[29868]))/2\n",
    "    q=(float(lst[29879])+float(lst[29880]))/2\n",
    "    r=(float(lst[29891])+float(lst[29892]))/2\n",
    "    s=(float(lst[29903])+float(lst[29904]))/2\n",
    "    t=(float(lst[29915])+float(lst[29916]))/2\n",
    "    u=(float(lst[29927])+float(lst[29928]))/2\n",
    "    v=(float(lst[29939])+float(lst[29940]))/2\n",
    "    w=(float(lst[29951])+float(lst[29952]))/2\n",
    "    x=(float(lst[29963])+float(lst[29964]))/2\n",
    "    y=(float(lst[29975])+float(lst[29976]))/2\n",
    "    temp_crn=[a,b,c,d,e,f,g,h,i,j,k,l,m,n,o,p,q,r,s,t,u,v,w,x,y]\n",
    "    print(temp_crn)"
   ]
  },
  {
   "cell_type": "code",
   "execution_count": 136,
   "id": "72c720a0",
   "metadata": {},
   "outputs": [
    {
     "name": "stdout",
     "output_type": "stream",
     "text": [
      "[-1.4759000000000029, -1.631499999999999, 2.4451, 3.1404999999999994, 2.9061999999999983, 2.860199999999999, 0.6954999999999991, 0.8443000000000005, 2.1175999999999995, 0.32560000000000144, 0.5358000000000018, 0.6478999999999999, -0.8537999999999997, -1.2102000000000004, -0.36980000000000146, -1.0079999999999991, -1.197499999999998, -2.652100000000001, -1.880399999999998, -2.1591000000000022, -3.0945, -2.7484000000000037, -1.6378999999999984, 0.5269000000000013, 0.7381000000000011]\n",
      "25\n"
     ]
    }
   ],
   "source": [
    "difference4_sel = []\n",
    "\n",
    "zip_object = zip(temp, temp_crn)\n",
    "for temp_i, temp_crn_i in zip_object:\n",
    "    difference4_sel.append(temp_i-temp_crn_i)\n",
    "\n",
    "print(difference4_sel)\n",
    "print(len(difference4_sel))"
   ]
  },
  {
   "cell_type": "markdown",
   "id": "3a2e6fc9",
   "metadata": {},
   "source": [
    "<font size=\"3\">Bowling Green, KY: 0200 UTC 14 April 2022-0200 UTC 15 April 2022</font>"
   ]
  },
  {
   "cell_type": "code",
   "execution_count": 137,
   "id": "c761d214",
   "metadata": {},
   "outputs": [
    {
     "name": "stdout",
     "output_type": "stream",
     "text": [
      "[15.4366, 17.3935, 16.5451, 17.828, 9.96872, 8.47275, 6.93295, 7.04434, 6.25513, 5.76309, 5.33578, 5.8479, 7.18372, 8.28976, 10.1802, 12.042, 13.0775, 13.8229, 14.9571, 15.1284, 14.8305, 14.3891, 12.5746, 11.1144, 9.75064]\n"
     ]
    }
   ],
   "source": [
    "#18 hr hrrr:\n",
    "with open('hrrr_f18_Bowling Green_KY.txt') as f:\n",
    "    lst=[line.split()[1] for line in f]\n",
    "    temp=[]\n",
    "    for i in lst:\n",
    "        new=i.replace(',',\"\")\n",
    "        temp.append(new)\n",
    "    temp.pop(0)\n",
    "    temp=[float(x) for x in temp]\n",
    "    #print(temp.index(6.91541))\n",
    "    temp=temp[2456:2481]\n",
    "    print(temp)\n",
    "    #print(len(temp))\n",
    "#full time period is [2015:2112]"
   ]
  },
  {
   "cell_type": "code",
   "execution_count": 138,
   "id": "5a571109",
   "metadata": {},
   "outputs": [
    {
     "name": "stdout",
     "output_type": "stream",
     "text": [
      "[16.4, 15.9, 15.8, 16.25, 12.3, 9.350000000000001, 8.149999999999999, 7.4, 6.2, 5.4, 4.449999999999999, 6.5, 7.75, 9.8, 12.0, 13.6, 15.2, 16.9, 17.75, 17.65, 17.45, 16.25, 14.350000000000001, 12.55, 11.75]\n"
     ]
    }
   ],
   "source": [
    "#Air Temp CRN:\n",
    "with open('CRNS0101-05-2022-KY_Bowling_Green_21_NNE.txt') as f:\n",
    "    lst=[line.split()[8] for line in f]\n",
    "    \n",
    "    a=(float(lst[29687])+float(lst[29688]))/2\n",
    "    b=(float(lst[29699])+float(lst[29700]))/2\n",
    "    c=(float(lst[29711])+float(lst[29712]))/2\n",
    "    d=(float(lst[29723])+float(lst[29724]))/2\n",
    "    e=(float(lst[29735])+float(lst[29736]))/2\n",
    "    f=(float(lst[29747])+float(lst[29748]))/2\n",
    "    g=(float(lst[29759])+float(lst[29760]))/2\n",
    "    h=(float(lst[29771])+float(lst[29772]))/2\n",
    "    i=(float(lst[29783])+float(lst[29784]))/2\n",
    "    j=(float(lst[29795])+float(lst[29796]))/2\n",
    "    k=(float(lst[29807])+float(lst[29808]))/2\n",
    "    l=(float(lst[29819])+float(lst[29820]))/2\n",
    "    m=(float(lst[29831])+float(lst[29832]))/2\n",
    "    n=(float(lst[29843])+float(lst[29844]))/2\n",
    "    o=(float(lst[29855])+float(lst[29856]))/2\n",
    "    p=(float(lst[29867])+float(lst[29868]))/2\n",
    "    q=(float(lst[29879])+float(lst[29880]))/2\n",
    "    r=(float(lst[29891])+float(lst[29892]))/2\n",
    "    s=(float(lst[29903])+float(lst[29904]))/2\n",
    "    t=(float(lst[29915])+float(lst[29916]))/2\n",
    "    u=(float(lst[29927])+float(lst[29928]))/2\n",
    "    v=(float(lst[29939])+float(lst[29940]))/2\n",
    "    w=(float(lst[29951])+float(lst[29952]))/2\n",
    "    x=(float(lst[29963])+float(lst[29964]))/2\n",
    "    y=(float(lst[29975])+float(lst[29976]))/2\n",
    "    temp_crn=[a,b,c,d,e,f,g,h,i,j,k,l,m,n,o,p,q,r,s,t,u,v,w,x,y]\n",
    "    print(temp_crn)"
   ]
  },
  {
   "cell_type": "code",
   "execution_count": 139,
   "id": "214cf6fd",
   "metadata": {},
   "outputs": [
    {
     "name": "stdout",
     "output_type": "stream",
     "text": [
      "[-0.9633999999999983, 1.4934999999999992, 0.7451000000000008, 1.5779999999999994, -2.3312800000000014, -0.8772500000000019, -1.2170499999999986, -0.3556600000000003, 0.05513000000000012, 0.3630899999999997, 0.8857800000000005, -0.6520999999999999, -0.5662799999999999, -1.5102400000000014, -1.8198000000000008, -1.5579999999999998, -2.1224999999999987, -3.077099999999998, -2.7928999999999995, -2.5215999999999994, -2.6194999999999986, -1.8609000000000009, -1.7754000000000012, -1.4356000000000009, -1.9993599999999994]\n"
     ]
    }
   ],
   "source": [
    "difference4_bow = []\n",
    "\n",
    "zip_object = zip(temp, temp_crn)\n",
    "for temp_i, temp_crn_i in zip_object:\n",
    "    difference4_bow.append(temp_i-temp_crn_i)\n",
    "\n",
    "print(difference4_bow)"
   ]
  },
  {
   "cell_type": "markdown",
   "id": "d5df1525",
   "metadata": {},
   "source": [
    "<font size=\"3\">Gadsden, AL: 0200 UTC 14 April 2022-0200 UTC 15 April 2022\n",
    "</font>"
   ]
  },
  {
   "cell_type": "code",
   "execution_count": 140,
   "id": "4a936525",
   "metadata": {},
   "outputs": [
    {
     "name": "stdout",
     "output_type": "stream",
     "text": [
      "[21.8116, 20.7685, 20.2326, 18.453, 16.9687, 16.7227, 16.433, 17.2318, 16.5051, 16.3881, 13.4608, 12.4104, 13.2462, 14.6023, 15.8052, 17.292, 17.515, 18.4479, 19.3946, 19.1909, 17.768, 16.8891, 15.3246, 13.7394, 12.6881]\n"
     ]
    }
   ],
   "source": [
    "#18 hr hrrr:\n",
    "with open('hrrr_f18_Gadsden_AL.txt') as f:\n",
    "    lst=[line.split()[1] for line in f]\n",
    "    temp=[]\n",
    "    for i in lst:\n",
    "        new=i.replace(',',\"\")\n",
    "        temp.append(new)\n",
    "    temp.pop(0)\n",
    "    temp=[float(x) for x in temp]\n",
    "    #print(temp.index(6.91541))\n",
    "    temp=temp[2456:2481]\n",
    "    print(temp)\n",
    "    #print(len(temp))\n",
    "#full time period is [2015:2112]"
   ]
  },
  {
   "cell_type": "code",
   "execution_count": 141,
   "id": "920d128d",
   "metadata": {},
   "outputs": [
    {
     "name": "stdout",
     "output_type": "stream",
     "text": [
      "[20.700000000000003, 20.549999999999997, 18.4, 17.15, 15.55, 15.25, 15.2, 15.1, 15.1, 15.3, 13.05, 12.9, 13.6, 13.45, 15.05, 16.15, 17.35, 18.3, 18.799999999999997, 18.8, 18.5, 17.75, 15.4, 12.8, 12.15]\n"
     ]
    }
   ],
   "source": [
    "#Air Temp CRN:\n",
    "with open('CRNS0101-05-2022-AL_Gadsden_19_N.txt') as f:\n",
    "    lst=[line.split()[8] for line in f]\n",
    "    \n",
    "    a=(float(lst[29687])+float(lst[29688]))/2\n",
    "    b=(float(lst[29699])+float(lst[29700]))/2\n",
    "    c=(float(lst[29711])+float(lst[29712]))/2\n",
    "    d=(float(lst[29723])+float(lst[29724]))/2\n",
    "    e=(float(lst[29735])+float(lst[29736]))/2\n",
    "    f=(float(lst[29747])+float(lst[29748]))/2\n",
    "    g=(float(lst[29759])+float(lst[29760]))/2\n",
    "    h=(float(lst[29771])+float(lst[29772]))/2\n",
    "    i=(float(lst[29783])+float(lst[29784]))/2\n",
    "    j=(float(lst[29795])+float(lst[29796]))/2\n",
    "    k=(float(lst[29807])+float(lst[29808]))/2\n",
    "    l=(float(lst[29819])+float(lst[29820]))/2\n",
    "    m=(float(lst[29831])+float(lst[29832]))/2\n",
    "    n=(float(lst[29843])+float(lst[29844]))/2\n",
    "    o=(float(lst[29855])+float(lst[29856]))/2\n",
    "    p=(float(lst[29867])+float(lst[29868]))/2\n",
    "    q=(float(lst[29879])+float(lst[29880]))/2\n",
    "    r=(float(lst[29891])+float(lst[29892]))/2\n",
    "    s=(float(lst[29903])+float(lst[29904]))/2\n",
    "    t=(float(lst[29915])+float(lst[29916]))/2\n",
    "    u=(float(lst[29927])+float(lst[29928]))/2\n",
    "    v=(float(lst[29939])+float(lst[29940]))/2\n",
    "    w=(float(lst[29951])+float(lst[29952]))/2\n",
    "    x=(float(lst[29963])+float(lst[29964]))/2\n",
    "    y=(float(lst[29975])+float(lst[29976]))/2\n",
    "    temp_crn=[a,b,c,d,e,f,g,h,i,j,k,l,m,n,o,p,q,r,s,t,u,v,w,x,y]\n",
    "    print(temp_crn)"
   ]
  },
  {
   "cell_type": "code",
   "execution_count": 142,
   "id": "7476701f",
   "metadata": {},
   "outputs": [
    {
     "name": "stdout",
     "output_type": "stream",
     "text": [
      "[1.1115999999999957, 0.21850000000000236, 1.832600000000003, 1.3030000000000008, 1.4186999999999976, 1.4726999999999997, 1.2330000000000005, 2.1318, 1.4050999999999991, 1.0881000000000007, 0.41080000000000005, -0.48960000000000115, -0.35379999999999967, 1.1523000000000003, 0.7551999999999985, 1.142000000000003, 0.16499999999999915, 0.14789999999999992, 0.5946000000000033, 0.39089999999999847, -0.7319999999999993, -0.8609000000000009, -0.07540000000000013, 0.9393999999999991, 0.5381]\n"
     ]
    }
   ],
   "source": [
    "difference4_gad = []\n",
    "\n",
    "zip_object = zip(temp, temp_crn)\n",
    "for temp_i, temp_crn_i in zip_object:\n",
    "    difference4_gad.append(temp_i-temp_crn_i)\n",
    "\n",
    "print(difference4_gad)"
   ]
  },
  {
   "cell_type": "markdown",
   "id": "047f5261",
   "metadata": {},
   "source": [
    "<font size=\"3\">Newton, GA: 0600 UTC 14 April 2022-0600 UTC 15 April 2022\n",
    "</font>"
   ]
  },
  {
   "cell_type": "code",
   "execution_count": 143,
   "id": "5719d112",
   "metadata": {},
   "outputs": [
    {
     "name": "stdout",
     "output_type": "stream",
     "text": [
      "[17.5312, 16.7852, 16.4955, 15.9193, 16.0676, 18.3256, 17.2733, 18.4729, 19.7462, 24.3523, 24.3677, 26.2295, 25.765, 27.3854, 26.8321, 26.3784, 26.7055, 21.0766, 21.1371, 22.8644, 22.7506, 22.2451, 20.9042, 19.0, 18.3466]\n"
     ]
    }
   ],
   "source": [
    "#18 hr hrrr:\n",
    "with open('hrrr_f18_Newton_GA.txt') as f:\n",
    "    lst=[line.split()[1] for line in f]\n",
    "    temp=[]\n",
    "    for i in lst:\n",
    "        new=i.replace(',',\"\")\n",
    "        temp.append(new)\n",
    "    temp.pop(0)\n",
    "    temp=[float(x) for x in temp]\n",
    "    #print(temp.index(6.91541))\n",
    "    temp=temp[2460:2485]\n",
    "    print(temp)\n",
    "    #print(len(temp))\n",
    "#full time period is [2015:2112]"
   ]
  },
  {
   "cell_type": "code",
   "execution_count": 144,
   "id": "4fd3dae9",
   "metadata": {},
   "outputs": [
    {
     "name": "stdout",
     "output_type": "stream",
     "text": [
      "[15.55, 15.25, 15.2, 15.1, 15.1, 15.3, 13.05, 12.9, 13.6, 13.45, 15.05, 16.15, 17.35, 18.3, 18.799999999999997, 18.8, 18.5, 17.75, 15.4, 12.8, 12.15, 10.45, 10.5, 8.5, 7.65]\n"
     ]
    }
   ],
   "source": [
    "#Air Temp CRN:\n",
    "with open('CRNS0101-05-2022-AL_Gadsden_19_N.txt') as f:\n",
    "    lst=[line.split()[8] for line in f]\n",
    "    \n",
    "    a=(float(lst[29735])+float(lst[29736]))/2\n",
    "    b=(float(lst[29747])+float(lst[29748]))/2\n",
    "    c=(float(lst[29759])+float(lst[29760]))/2\n",
    "    d=(float(lst[29771])+float(lst[29772]))/2\n",
    "    e=(float(lst[29783])+float(lst[29784]))/2\n",
    "    f=(float(lst[29795])+float(lst[29796]))/2\n",
    "    g=(float(lst[29807])+float(lst[29808]))/2\n",
    "    h=(float(lst[29819])+float(lst[29820]))/2\n",
    "    i=(float(lst[29831])+float(lst[29832]))/2\n",
    "    j=(float(lst[29843])+float(lst[29844]))/2\n",
    "    k=(float(lst[29855])+float(lst[29856]))/2\n",
    "    l=(float(lst[29867])+float(lst[29868]))/2\n",
    "    m=(float(lst[29879])+float(lst[29880]))/2\n",
    "    n=(float(lst[29891])+float(lst[29892]))/2\n",
    "    o=(float(lst[29903])+float(lst[29904]))/2\n",
    "    p=(float(lst[29915])+float(lst[29916]))/2\n",
    "    q=(float(lst[29927])+float(lst[29928]))/2\n",
    "    r=(float(lst[29939])+float(lst[29940]))/2\n",
    "    s=(float(lst[29951])+float(lst[29952]))/2\n",
    "    t=(float(lst[29963])+float(lst[29964]))/2\n",
    "    u=(float(lst[29975])+float(lst[29976]))/2\n",
    "    v=(float(lst[29987])+float(lst[29988]))/2\n",
    "    w=(float(lst[29999])+float(lst[30000]))/2\n",
    "    x=(float(lst[30011])+float(lst[30012]))/2\n",
    "    y=(float(lst[30023])+float(lst[30024]))/2\n",
    "    temp_crn=[a,b,c,d,e,f,g,h,i,j,k,l,m,n,o,p,q,r,s,t,u,v,w,x,y]\n",
    "    print(temp_crn)"
   ]
  },
  {
   "cell_type": "code",
   "execution_count": 145,
   "id": "37b874ca",
   "metadata": {},
   "outputs": [
    {
     "name": "stdout",
     "output_type": "stream",
     "text": [
      "[1.9811999999999976, 1.5351999999999997, 1.2955000000000005, 0.8193000000000001, 0.9675999999999991, 3.0256000000000007, 4.223299999999998, 5.572899999999999, 6.146200000000002, 10.9023, 9.317699999999999, 10.079500000000003, 8.415, 9.0854, 8.032100000000003, 7.5783999999999985, 8.2055, 3.326599999999999, 5.7371, 10.0644, 10.600599999999998, 11.795100000000001, 10.4042, 10.5, 10.696599999999998]\n"
     ]
    }
   ],
   "source": [
    "difference4_newt = []\n",
    "\n",
    "zip_object = zip(temp, temp_crn)\n",
    "for temp_i, temp_crn_i in zip_object:\n",
    "    difference4_newt.append(temp_i-temp_crn_i)\n",
    "\n",
    "print(difference4_newt)"
   ]
  },
  {
   "cell_type": "code",
   "execution_count": 146,
   "id": "80548ed7",
   "metadata": {},
   "outputs": [
    {
     "name": "stdout",
     "output_type": "stream",
     "text": [
      "25\n"
     ]
    }
   ],
   "source": [
    "hour=[]\n",
    "for i in range(-12,13,1):\n",
    "    hour.append(i)\n",
    "    i+=1\n",
    "print(len(hour))"
   ]
  },
  {
   "cell_type": "code",
   "execution_count": 147,
   "id": "d5fd370b",
   "metadata": {},
   "outputs": [
    {
     "name": "stdout",
     "output_type": "stream",
     "text": [
      "[ 1.34334167  1.01499167  1.31225     1.94044167  2.09965833  1.730925\n",
      "  1.719525    1.66936667  1.02264167  0.993425    0.332       0.70438333\n",
      "  0.48456667  0.39623333 -0.21498    -0.3168225  -0.59307    -1.08825364\n",
      " -0.83896364 -1.09469545 -1.26437455 -1.38801    -1.67708333 -1.5665225\n",
      " -1.59660833]\n",
      "[2.67831012 1.96304928 1.87579153 1.99266675 2.23268449 2.01368704\n",
      " 1.64299195 1.81246874 1.92783336 1.33724133 1.09199367 1.83777437\n",
      " 1.36008286 1.32487262 1.08858756 0.93686221 1.04950393 1.09289746\n",
      " 1.38062209 1.93159288 1.99482106 1.79942927 1.30082321 1.26806421\n",
      " 1.55428496]\n"
     ]
    },
    {
     "name": "stderr",
     "output_type": "stream",
     "text": [
      "C:\\Users\\panwalaf\\AppData\\Local\\Temp\\ipykernel_23396\\2360887579.py:3: UserWarning: Warning: converting a masked element to nan.\n",
      "  c1 = np.array([difference1_sal,difference1_bat,difference1_laf,difference1_mon,difference1_hol,difference1_new,difference1_gai,difference1_fai,difference1_sel,difference1_bow,difference1_gad,difference1_newt])\n",
      "C:\\Users\\panwalaf\\AppData\\Local\\Temp\\ipykernel_23396\\2360887579.py:8: UserWarning: Warning: converting a masked element to nan.\n",
      "  b1 = np.array([difference1_sal,difference1_bat,difference1_laf,difference1_mon,difference1_hol,difference1_new,difference1_gai,difference1_fai,difference1_sel,difference1_bow,difference1_gad,difference1_newt])\n"
     ]
    },
    {
     "data": {
      "text/plain": [
       "25"
      ]
     },
     "execution_count": 147,
     "metadata": {},
     "output_type": "execute_result"
    }
   ],
   "source": [
    "# data = np.array([difference1_sal,difference1_sel,difference1_mon])\n",
    "# np.ma.average(data, axis=0)\n",
    "c1 = np.array([difference1_sal,difference1_bat,difference1_laf,difference1_mon,difference1_hol,difference1_new,difference1_gai,difference1_fai,difference1_sel,difference1_bow,difference1_gad,difference1_newt])\n",
    "c1=np.nanmean(c1, axis=0)\n",
    "print(c1)\n",
    "len(c1)\n",
    "\n",
    "b1 = np.array([difference1_sal,difference1_bat,difference1_laf,difference1_mon,difference1_hol,difference1_new,difference1_gai,difference1_fai,difference1_sel,difference1_bow,difference1_gad,difference1_newt])\n",
    "b1=np.nanstd(b1, axis=0)\n",
    "print(b1)\n",
    "len(b1)"
   ]
  },
  {
   "cell_type": "code",
   "execution_count": 148,
   "id": "7d6e3e43",
   "metadata": {},
   "outputs": [
    {
     "data": {
      "image/png": "[encoded data removed]",
      "text/plain": [
       "<Figure size 792x396 with 1 Axes>"
      ]
     },
     "metadata": {},
     "output_type": "display_data"
    }
   ],
   "source": [
    "plt.style.use('seaborn-whitegrid')\n",
    "plt.rcParams[\"figure.figsize\"] = [11.00, 5.50]\n",
    "plt.rcParams[\"figure.autolayout\"] = True\n",
    "plt.yticks(np.arange(-5,6,1))\n",
    "plt.ylim(-5,5)\n",
    "# c[6]=None\n",
    "# b[6]=None\n",
    "\n",
    "plt.plot(hour,c1,c=\"black\")\n",
    "plt.errorbar(hour,c1,yerr=b1,linestyle='None', marker='s')\n",
    "# c[6]=None\n",
    "# b[6]=None\n",
    "\n",
    "plt.title(\"18-hr Avg. MBE All Stations\")\n",
    "plt.xlabel(\"Time Relative to Event Passage\")\n",
    "plt.ylabel(\"MBE Air Temperature (C)\")\n",
    "#plt.plot(hour,c)\n",
    "#plt.errorbar(hour,c,yerr=b,ecolor='r',elinewidth=5,fmt='s',color='k')\n",
    "#plt.grid()\n",
    "plt.xticks(np.arange(min(hour), max(hour)+1, 1.0))\n",
    "plt.show()\n",
    "#plt.axvspan(-4, 4, color='green', alpha=0.2, lw=0)"
   ]
  },
  {
   "cell_type": "code",
   "execution_count": 149,
   "id": "3931d44b",
   "metadata": {},
   "outputs": [
    {
     "name": "stdout",
     "output_type": "stream",
     "text": [
      "[-0.25885    -0.68330833  0.13349167  0.2943      0.57576667  1.33288182\n",
      "  1.00039091  0.89718333  0.81525833  0.93655     0.8565325   0.37765667\n",
      "  0.4604425   0.01771917 -0.06815583 -0.55512917 -0.4640075  -0.74224333\n",
      " -0.67604833 -0.915335   -1.18042417 -1.43233667 -1.7266675  -1.46556917\n",
      " -1.35602333]\n",
      "[1.92661328 1.87621074 1.56353427 1.63958247 1.86619442 2.5062785\n",
      " 2.08958176 1.47501344 1.58653733 1.91559633 1.35729504 1.46149161\n",
      " 1.23718387 1.14382253 1.13934235 1.14582435 1.2783986  1.23648663\n",
      " 1.46948227 1.64036248 1.49085518 0.99375686 1.28120177 1.53714405\n",
      " 1.64596094]\n"
     ]
    },
    {
     "name": "stderr",
     "output_type": "stream",
     "text": [
      "C:\\Users\\panwalaf\\AppData\\Local\\Temp\\ipykernel_23396\\2317409182.py:1: UserWarning: Warning: converting a masked element to nan.\n",
      "  c2 = np.array([difference2_sal,difference2_bat,difference2_laf,difference2_mon,difference2_hol,difference2_new,difference2_gai,difference2_fai,difference2_sel,difference2_bow,difference2_gad,difference2_newt])\n",
      "C:\\Users\\panwalaf\\AppData\\Local\\Temp\\ipykernel_23396\\2317409182.py:6: UserWarning: Warning: converting a masked element to nan.\n",
      "  b2 = np.array([difference2_sal,difference2_bat,difference2_laf,difference2_mon,difference2_hol,difference2_new,difference2_gai,difference2_fai,difference2_sel,difference2_bow,difference2_gad,difference2_newt])\n"
     ]
    },
    {
     "data": {
      "text/plain": [
       "25"
      ]
     },
     "execution_count": 149,
     "metadata": {},
     "output_type": "execute_result"
    }
   ],
   "source": [
    "c2 = np.array([difference2_sal,difference2_bat,difference2_laf,difference2_mon,difference2_hol,difference2_new,difference2_gai,difference2_fai,difference2_sel,difference2_bow,difference2_gad,difference2_newt])\n",
    "c2=np.nanmean(c2, axis=0)\n",
    "print(c2)\n",
    "len(c2)\n",
    "\n",
    "b2 = np.array([difference2_sal,difference2_bat,difference2_laf,difference2_mon,difference2_hol,difference2_new,difference2_gai,difference2_fai,difference2_sel,difference2_bow,difference2_gad,difference2_newt])\n",
    "b2=np.nanstd(b2, axis=0)\n",
    "print(b2)\n",
    "len(b2)"
   ]
  },
  {
   "cell_type": "code",
   "execution_count": 150,
   "id": "4c8ac8a3",
   "metadata": {},
   "outputs": [
    {
     "data": {
      "image/png": "[encoded data removed]",
      "text/plain": [
       "<Figure size 792x396 with 1 Axes>"
      ]
     },
     "metadata": {},
     "output_type": "display_data"
    }
   ],
   "source": [
    "plt.style.use('seaborn-whitegrid')\n",
    "plt.rcParams[\"figure.figsize\"] = [11.00, 5.50]\n",
    "plt.rcParams[\"figure.autolayout\"] = True\n",
    "plt.yticks(np.arange(-5,6,1))\n",
    "plt.ylim(-5,5)\n",
    "# c[6]=None\n",
    "# b[6]=None\n",
    "\n",
    "plt.plot(hour,c2,c=\"black\")\n",
    "plt.errorbar(hour,c2,c=\"r\",yerr=b2,linestyle='None', marker='s')\n",
    "# c[6]=None\n",
    "# b[6]=None\n",
    "\n",
    "plt.title(\"18-hr Avg. MBE All Stations\")\n",
    "plt.xlabel(\"Time Relative to Event Passage\")\n",
    "plt.ylabel(\"MBE Air Temperature (C)\")\n",
    "#plt.plot(hour,c)\n",
    "#plt.errorbar(hour,c,yerr=b,ecolor='r',elinewidth=5,fmt='s',color='k')\n",
    "#plt.grid()\n",
    "plt.xticks(np.arange(min(hour), max(hour)+1, 1.0))\n",
    "plt.show()\n",
    "#plt.axvspan(-4, 4, color='green', alpha=0.2, lw=0)"
   ]
  },
  {
   "cell_type": "code",
   "execution_count": 151,
   "id": "e7aee5e0",
   "metadata": {},
   "outputs": [
    {
     "name": "stdout",
     "output_type": "stream",
     "text": [
      "[ 0.88576667  1.044575    1.71581667  1.80765833  1.06694167  1.20645833\n",
      "  0.34169167 -0.34304167 -0.36924167 -0.24794167  0.19353333 -0.36723333\n",
      " -0.32155    -0.11594667  0.094505    0.09713333 -0.5463225  -1.3345425\n",
      " -1.21839167 -0.7376825  -0.71845833 -1.05091667 -1.14118417 -1.12304083\n",
      " -1.03074917]\n",
      "[1.17390408 1.34331347 2.43322272 2.34471986 1.08030184 1.01521702\n",
      " 1.16436165 1.44529787 1.66481043 1.63125247 1.71468511 1.84069283\n",
      " 1.60836752 1.32921284 1.27574277 1.15578705 1.69333498 0.85127427\n",
      " 0.7395152  1.0408291  1.11822001 1.5441943  0.68689276 0.53502743\n",
      " 0.94717631]\n"
     ]
    },
    {
     "data": {
      "text/plain": [
       "25"
      ]
     },
     "execution_count": 151,
     "metadata": {},
     "output_type": "execute_result"
    }
   ],
   "source": [
    "c3 = np.array([difference3_sal,difference3_bat,difference3_laf,difference3_mon,difference3_hol,difference3_new,difference3_gai,difference3_fai,difference3_sel,difference3_bow,difference3_gad,difference3_newt])\n",
    "c3=np.nanmean(c3, axis=0)\n",
    "print(c3)\n",
    "len(c3)\n",
    "\n",
    "b3 = np.array([difference3_sal,difference3_bat,difference3_laf,difference3_mon,difference3_hol,difference3_new,difference3_gai,difference3_fai,difference3_sel,difference3_bow,difference3_gad,difference3_newt])\n",
    "b3=np.nanstd(b3, axis=0)\n",
    "print(b3)\n",
    "len(b3)"
   ]
  },
  {
   "cell_type": "code",
   "execution_count": 152,
   "id": "00a5e783",
   "metadata": {},
   "outputs": [
    {
     "data": {
      "image/png": "[encoded data removed]",
      "text/plain": [
       "<Figure size 792x396 with 1 Axes>"
      ]
     },
     "metadata": {},
     "output_type": "display_data"
    }
   ],
   "source": [
    "plt.style.use('seaborn-whitegrid')\n",
    "plt.rcParams[\"figure.figsize\"] = [11.00, 5.50]\n",
    "plt.rcParams[\"figure.autolayout\"] = True\n",
    "plt.yticks(np.arange(-5,6,1))\n",
    "plt.ylim(-5,5)\n",
    "# c[6]=None\n",
    "# b[6]=None\n",
    "\n",
    "plt.plot(hour,c3,c=\"green\")\n",
    "plt.errorbar(hour,c3,c=\"green\",yerr=b3,linestyle='None', marker='s')\n",
    "# c[6]=None\n",
    "# b[6]=None\n",
    "\n",
    "plt.title(\"18-hr Avg. MBE All Stations\")\n",
    "plt.xlabel(\"Time Relative to Event Passage\")\n",
    "plt.ylabel(\"MBE Air Temperature (C)\")\n",
    "#plt.plot(hour,c)\n",
    "#plt.errorbar(hour,c,yerr=b,ecolor='r',elinewidth=5,fmt='s',color='k')\n",
    "#plt.grid()\n",
    "plt.xticks(np.arange(min(hour), max(hour)+1, 1.0))\n",
    "plt.show()\n",
    "#plt.axvspan(-4, 4, color='green', alpha=0.2, lw=0)"
   ]
  },
  {
   "cell_type": "code",
   "execution_count": 153,
   "id": "b2d7f7dd",
   "metadata": {},
   "outputs": [
    {
     "name": "stdout",
     "output_type": "stream",
     "text": [
      "[0.59165833 0.920275   1.55305833 1.68956667 1.27185167 1.8094625\n",
      " 0.80405167 1.23696333 1.59485667 1.57749417 1.20607333 1.02064417\n",
      " 0.3448025  0.578935   0.30689083 0.8870375  0.664765   0.00630833\n",
      " 0.04793167 0.00427167 0.13212333 0.14878    0.06435833 0.47156167\n",
      " 0.49346667]\n",
      "[2.18377914 2.33204013 1.43632564 1.96891856 2.63393224 2.08704437\n",
      " 1.85550509 2.54044255 2.57115128 3.50284865 2.81978159 2.98198002\n",
      " 2.56502266 2.71466669 2.47318473 2.46421936 2.6457054  2.25826323\n",
      " 2.67984139 3.56559801 3.78774437 4.06623132 3.4128133  3.21495912\n",
      " 3.34961072]\n"
     ]
    },
    {
     "data": {
      "text/plain": [
       "25"
      ]
     },
     "execution_count": 153,
     "metadata": {},
     "output_type": "execute_result"
    }
   ],
   "source": [
    "c4 = np.array([difference4_sal,difference4_bat,difference4_laf,difference4_mon,difference4_hol,difference4_new,difference4_gai,difference4_fai,difference4_sel,difference4_bow,difference4_gad,difference4_newt])\n",
    "c4=np.nanmean(c4, axis=0)\n",
    "print(c4)\n",
    "len(c4)\n",
    "\n",
    "b4 = np.array([difference4_sal,difference4_bat,difference4_laf,difference4_mon,difference4_hol,difference4_new,difference4_gai,difference4_fai,difference4_sel,difference4_bow,difference4_gad,difference4_newt])\n",
    "b4=np.nanstd(b4, axis=0)\n",
    "print(b4)\n",
    "len(b4)"
   ]
  },
  {
   "cell_type": "code",
   "execution_count": 154,
   "id": "e70a6cef",
   "metadata": {},
   "outputs": [
    {
     "data": {
      "image/png": "[encoded data removed]",
      "text/plain": [
       "<Figure size 792x396 with 1 Axes>"
      ]
     },
     "metadata": {},
     "output_type": "display_data"
    }
   ],
   "source": [
    "plt.style.use('seaborn-whitegrid')\n",
    "plt.rcParams[\"figure.figsize\"] = [11.00, 5.50]\n",
    "plt.rcParams[\"figure.autolayout\"] = True\n",
    "plt.yticks(np.arange(-5,6,1))\n",
    "plt.ylim(-5,5)\n",
    "# c[6]=None\n",
    "# b[6]=None\n",
    "\n",
    "plt.plot(hour,c4,c=\"orange\")\n",
    "plt.errorbar(hour,c4,c=\"orange\",yerr=b4,linestyle='None', marker='s')\n",
    "# c[6]=None\n",
    "# b[6]=None\n",
    "\n",
    "plt.title(\"18-hr Avg. MBE All Stations\")\n",
    "plt.xlabel(\"Time Relative to Event Passage\")\n",
    "plt.ylabel(\"MBE Air Temperature (C)\")\n",
    "#plt.plot(hour,c)\n",
    "#plt.errorbar(hour,c,yerr=b,ecolor='r',elinewidth=5,fmt='s',color='k')\n",
    "#plt.grid()\n",
    "plt.xticks(np.arange(min(hour), max(hour)+1, 1.0))\n",
    "plt.show()\n",
    "#plt.axvspan(-4, 4, color='green', alpha=0.2, lw=0)"
   ]
  },
  {
   "cell_type": "code",
   "execution_count": 155,
   "id": "240eafe4",
   "metadata": {},
   "outputs": [
    {
     "data": {
      "image/png": "[encoded data removed]",
      "text/plain": [
       "<Figure size 792x396 with 1 Axes>"
      ]
     },
     "metadata": {},
     "output_type": "display_data"
    }
   ],
   "source": [
    "plt.style.use('seaborn-whitegrid')\n",
    "plt.rcParams[\"figure.figsize\"] = [11.00, 5.50]\n",
    "plt.rcParams[\"figure.autolayout\"] = True\n",
    "plt.yticks(np.arange(-6,7,2))\n",
    "plt.ylim(-6,6)\n",
    "\n",
    "plt.plot(hour,c1,c=\"b\",label=\"IOP 1\")\n",
    "plt.errorbar(hour,c1,c=\"b\",yerr=b1,linestyle='None', marker='s')\n",
    "\n",
    "plt.plot(hour,c2,c=\"r\",label=\"IOP 2\")\n",
    "plt.errorbar(hour,c2,c=\"r\",yerr=b2,linestyle='None', marker='s')\n",
    "\n",
    "plt.plot(hour,c3,c=\"green\")\n",
    "plt.errorbar(hour,c3,c=\"green\",yerr=b3,linestyle='None', marker='s')\n",
    "\n",
    "plt.plot(hour,c4,c=\"orange\")\n",
    "plt.errorbar(hour,c4,c=\"orange\",yerr=b4,linestyle='None', marker='s')\n",
    "\n",
    "plt.title(\"18-hr Avg. MBE All Stations\")\n",
    "plt.xlabel(\"Time Relative to Event Passage\")\n",
    "plt.ylabel(\"MBE Air Temperature (C)\")\n",
    "#plt.plot(hour,c)\n",
    "#plt.errorbar(hour,c,yerr=b,ecolor='r',elinewidth=5,fmt='s',color='k')\n",
    "#plt.grid()\n",
    "plt.xticks(np.arange(min(hour), max(hour)+1, 1.0))\n",
    "plt.legend([\"IOP 1\", \"IOP 2\",\"IOP 3\",\"IOP 4\"], loc =\"lower right\")\n",
    "plt.show()"
   ]
  },
  {
   "cell_type": "code",
   "execution_count": null,
   "id": "35964cbd",
   "metadata": {},
   "outputs": [],
   "source": []
  },
  {
   "cell_type": "code",
   "execution_count": null,
   "id": "0667325e",
   "metadata": {},
   "outputs": [],
   "source": []
  }
 ],
 "metadata": {
  "kernelspec": {
   "display_name": "Python 3 (ipykernel)",
   "language": "python",
   "name": "python3"
  },
  "language_info": {
   "codemirror_mode": {
    "name": "ipython",
    "version": 3
   },
   "file_extension": ".py",
   "mimetype": "text/x-python",
   "name": "python",
   "nbconvert_exporter": "python",
   "pygments_lexer": "ipython3",
   "version": "3.9.12"
  }
 },
 "nbformat": 4,
 "nbformat_minor": 5
}
