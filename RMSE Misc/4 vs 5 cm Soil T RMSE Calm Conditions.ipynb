{
 "cells": [
  {
   "cell_type": "markdown",
   "id": "83ec3e19",
   "metadata": {},
   "source": [
    "RMSE Calm Conditions (5 UTC (12 am CDT) 3/26- 5 UTC (12 am CDT) 3/30 2022):"
   ]
  },
  {
   "cell_type": "code",
   "execution_count": 1,
   "id": "21c68454",
   "metadata": {},
   "outputs": [],
   "source": [
    "import numpy as np\n",
    "import matplotlib.pyplot as plt\n",
    "import math"
   ]
  },
  {
   "cell_type": "code",
   "execution_count": 2,
   "id": "6dd975ea",
   "metadata": {},
   "outputs": [],
   "source": [
    "#time:\n",
    "with open('hrrr_f01_Selma_AL.txt') as f:\n",
    "    lst=[line.split()[0] for line in f]\n",
    "    time=[]\n",
    "    for i in lst:\n",
    "        new=i.replace(',',\"\")\n",
    "        time.append(new)\n",
    "    time.pop(0)\n",
    "    time=[float(x) for x in time]\n",
    "#     print(time.index(85))\n",
    "#     print(time.index(89))\n",
    "#     time=time[2015:2111]\n",
    "#     print(time)\n",
    "    #print(len(time))\n"
   ]
  },
  {
   "cell_type": "code",
   "execution_count": 3,
   "id": "b3e3fa02",
   "metadata": {},
   "outputs": [],
   "source": [
    "#1 hr hrrr:\n",
    "with open('hrrr_f01_Selma_AL.txt') as f:\n",
    "    lst=[line.split()[5] for line in f]\n",
    "    temp=[]\n",
    "    for i in lst:\n",
    "        new=i.replace(',',\"\")\n",
    "        temp.append(new)\n",
    "    temp.pop(0)\n",
    "    temp=[float(x) for x in temp]\n",
    "    temp=temp[2020:2117]\n",
    "    #temp=temp[2015:2063]\n",
    "    #print(temp)\n",
    "    #print(len(temp))\n",
    "#full time period is [2015:2112]"
   ]
  },
  {
   "cell_type": "code",
   "execution_count": 4,
   "id": "72c2774f",
   "metadata": {},
   "outputs": [],
   "source": [
    "#Air Temp CRN:\n",
    "with open('CRN_Selma.txt') as f:\n",
    "    lst=[line.split()[33] for line in f]\n",
    "    #print(lst)\n",
    "    temp_crn=[]\n",
    "    for i in lst:\n",
    "        new=i.replace(',',\"\")\n",
    "        temp_crn.append(new)\n",
    "    temp_crn=[float(x) for x in temp_crn]\n",
    "    temp_crn=temp_crn[2020:2117]\n",
    "    #print(temp_crn)\n",
    "    #print(len(temp_crn))\n",
    "    # print(temp_crn[2124])\n",
    "    # print(temp_crn[2148])\n",
    "#full time period is [2020:2117]"
   ]
  },
  {
   "cell_type": "code",
   "execution_count": 5,
   "id": "3d18f101",
   "metadata": {},
   "outputs": [
    {
     "name": "stdout",
     "output_type": "stream",
     "text": [
      "RSME 1-hr 48-hr HRRR vs CRN : 3.563955542554964\n"
     ]
    }
   ],
   "source": [
    "MSE = np.square(np.subtract(temp_crn,temp)).mean() \n",
    " \n",
    "RMSE1 = math.sqrt(MSE)\n",
    "print(\"RSME 1-hr 48-hr HRRR vs CRN :\",RMSE1)"
   ]
  },
  {
   "cell_type": "code",
   "execution_count": 6,
   "id": "fc5a0387",
   "metadata": {},
   "outputs": [],
   "source": [
    "#3 hr hrrr:\n",
    "with open('hrrr_f03_Selma_AL.txt') as f:\n",
    "    lst=[line.split()[5] for line in f]\n",
    "    temp=[]\n",
    "    for i in lst:\n",
    "        new=i.replace(',',\"\")\n",
    "        temp.append(new)\n",
    "    temp.pop(0)\n",
    "    temp=[float(x) for x in temp]\n",
    "    temp=temp[2018:2115]\n",
    "    #temp=temp[2015:2063]\n",
    "    #print(temp)\n",
    "    #print(len(temp))\n",
    "#full time period is [2015:2112]"
   ]
  },
  {
   "cell_type": "code",
   "execution_count": 7,
   "id": "94e056d5",
   "metadata": {},
   "outputs": [
    {
     "name": "stdout",
     "output_type": "stream",
     "text": [
      "RSME 3-hr 48-hr HRRR vs CRN : 3.346256179463542\n"
     ]
    }
   ],
   "source": [
    "MSE = np.square(np.subtract(temp_crn,temp)).mean() \n",
    " \n",
    "RMSE3 = math.sqrt(MSE)\n",
    "print(\"RSME 3-hr 48-hr HRRR vs CRN :\",RMSE3)"
   ]
  },
  {
   "cell_type": "code",
   "execution_count": 8,
   "id": "26e2fc92",
   "metadata": {},
   "outputs": [],
   "source": [
    "#6 hr hrrr:\n",
    "with open('hrrr_f06_Selma_AL.txt') as f:\n",
    "    lst=[line.split()[5] for line in f]\n",
    "    temp=[]\n",
    "    for i in lst:\n",
    "        new=i.replace(',',\"\")\n",
    "        temp.append(new)\n",
    "    temp.pop(0)\n",
    "    temp=[float(x) for x in temp]\n",
    "    temp=temp[2015:2112]\n",
    "#     # replace null values with 0:\n",
    "#     i = temp.index(9725.85)\n",
    "#     temp = temp[:i]+[]+temp[i+1:]\n",
    "    #temp=temp[2015:2063]\n",
    "    #print(temp)\n",
    "    #print(len(temp))\n",
    "#full time period is [2015:2112]"
   ]
  },
  {
   "cell_type": "code",
   "execution_count": 9,
   "id": "21ebbdf0",
   "metadata": {},
   "outputs": [],
   "source": [
    "#Air Temp CRN:\n",
    "with open('CRN_Selma.txt') as f:\n",
    "    lst=[line.split()[33] for line in f]\n",
    "    #print(lst)\n",
    "    temp_crn=[]\n",
    "    for i in lst:\n",
    "        new=i.replace(',',\"\")\n",
    "        temp_crn.append(new)\n",
    "    temp_crn=[float(x) for x in temp_crn]\n",
    "    temp_crn=temp_crn[2020:2117]\n",
    "#     #i = temp_crn.index(9.2)\n",
    "#     temp_crn = temp_crn[:2]+[]+temp_crn[2+1:]\n",
    "#     #print(temp_crn)\n",
    "#     print(len(temp_crn))\n",
    "#     # print(temp_crn[2124])\n",
    "#     # print(temp_crn[2148])\n",
    "# #full time period is [2020:2117]"
   ]
  },
  {
   "cell_type": "code",
   "execution_count": 10,
   "id": "1ebdb826",
   "metadata": {},
   "outputs": [
    {
     "name": "stdout",
     "output_type": "stream",
     "text": [
      "RSME 6-hr 48-hr HRRR vs CRN : 3.1483777852056267\n"
     ]
    }
   ],
   "source": [
    "MSE = np.square(np.subtract(temp_crn,temp)).mean() \n",
    " \n",
    "RMSE6 = math.sqrt(MSE)\n",
    "print(\"RSME 6-hr 48-hr HRRR vs CRN :\",RMSE6)"
   ]
  },
  {
   "cell_type": "code",
   "execution_count": 11,
   "id": "eb661b68",
   "metadata": {},
   "outputs": [],
   "source": [
    "#12 hr hrrr:\n",
    "with open('hrrr_f12_Selma_AL.txt') as f:\n",
    "    lst=[line.split()[5] for line in f]\n",
    "    temp=[]\n",
    "    for i in lst:\n",
    "        new=i.replace(',',\"\")\n",
    "        temp.append(new)\n",
    "    temp.pop(0)\n",
    "    temp=[float(x) for x in temp]\n",
    "    temp=temp[2009:2106]\n",
    "    #temp=temp[2015:2063]\n",
    "    #print(temp)\n",
    "    #print(len(temp))\n",
    "#full time period is [2015:2112]"
   ]
  },
  {
   "cell_type": "code",
   "execution_count": 12,
   "id": "aee5fc81",
   "metadata": {},
   "outputs": [],
   "source": [
    "#Air Temp CRN:\n",
    "with open('CRN_Selma.txt') as f:\n",
    "    lst=[line.split()[33] for line in f]\n",
    "    #print(lst)\n",
    "    temp_crn=[]\n",
    "    for i in lst:\n",
    "        new=i.replace(',',\"\")\n",
    "        temp_crn.append(new)\n",
    "    temp_crn=[float(x) for x in temp_crn]\n",
    "    temp_crn=temp_crn[2020:2117]\n",
    "    #print(temp_crn)\n",
    "    #print(len(temp_crn))\n",
    "    # print(temp_crn[2124])\n",
    "    # print(temp_crn[2148])\n",
    "#full time period is [2020:2117]"
   ]
  },
  {
   "cell_type": "code",
   "execution_count": 13,
   "id": "3d2f0cfa",
   "metadata": {},
   "outputs": [
    {
     "name": "stdout",
     "output_type": "stream",
     "text": [
      "RSME 12-hr 48-hr HRRR vs CRN : 3.1243618307593928\n"
     ]
    }
   ],
   "source": [
    "MSE = np.square(np.subtract(temp_crn,temp)).mean() \n",
    " \n",
    "RMSE12 = math.sqrt(MSE)\n",
    "print(\"RSME 12-hr 48-hr HRRR vs CRN :\",RMSE12)"
   ]
  },
  {
   "cell_type": "code",
   "execution_count": 14,
   "id": "c300929a",
   "metadata": {},
   "outputs": [],
   "source": [
    "#18 hr hrrr:\n",
    "with open('hrrr_f18_Selma_AL.txt') as f:\n",
    "    lst=[line.split()[5] for line in f]\n",
    "    temp=[]\n",
    "    for i in lst:\n",
    "        new=i.replace(',',\"\")\n",
    "        temp.append(new)\n",
    "    temp.pop(0)\n",
    "    temp=[float(x) for x in temp]\n",
    "    temp=temp[2003:2100]\n",
    "    #temp=temp[2015:2063]\n",
    "    #print(temp)\n",
    "    #print(len(temp))\n",
    "#full time period is [2015:2112]"
   ]
  },
  {
   "cell_type": "code",
   "execution_count": 15,
   "id": "2a77affc",
   "metadata": {},
   "outputs": [
    {
     "name": "stdout",
     "output_type": "stream",
     "text": [
      "RSME 18-hr 48-hr HRRR vs CRN : 3.3176758002393503\n"
     ]
    }
   ],
   "source": [
    "MSE = np.square(np.subtract(temp_crn,temp)).mean() \n",
    " \n",
    "RMSE18 = math.sqrt(MSE)\n",
    "print(\"RSME 18-hr 48-hr HRRR vs CRN :\",RMSE18)"
   ]
  },
  {
   "cell_type": "code",
   "execution_count": 16,
   "id": "71e55fb0",
   "metadata": {},
   "outputs": [
    {
     "name": "stdout",
     "output_type": "stream",
     "text": [
      "+-----------------+---------+\n",
      "| Forecast Hour   |    RMSE |\n",
      "+=================+=========+\n",
      "| 1-hr            | 3.56396 |\n",
      "+-----------------+---------+\n",
      "| 3-hr            | 3.34626 |\n",
      "+-----------------+---------+\n",
      "| 6-hr            | 3.14838 |\n",
      "+-----------------+---------+\n",
      "| 12-hr           | 3.12436 |\n",
      "+-----------------+---------+\n",
      "| 18-hr           | 3.31768 |\n",
      "+-----------------+---------+\n"
     ]
    }
   ],
   "source": [
    "from tabulate import tabulate\n",
    "values=[[\"1-hr\",RMSE1],[\"3-hr\",RMSE3],[\"6-hr\",RMSE6],[\"12-hr\",RMSE12],[\"18-hr\",RMSE18]]\n",
    "head=[\"Forecast Hour\",\"RMSE\"]\n",
    "print(tabulate(values, headers=head, tablefmt=\"grid\"))"
   ]
  },
  {
   "cell_type": "code",
   "execution_count": null,
   "id": "df638147",
   "metadata": {},
   "outputs": [],
   "source": []
  }
 ],
 "metadata": {
  "kernelspec": {
   "display_name": "Python 3 (ipykernel)",
   "language": "python",
   "name": "python3"
  },
  "language_info": {
   "codemirror_mode": {
    "name": "ipython",
    "version": 3
   },
   "file_extension": ".py",
   "mimetype": "text/x-python",
   "name": "python",
   "nbconvert_exporter": "python",
   "pygments_lexer": "ipython3",
   "version": "3.9.12"
  }
 },
 "nbformat": 4,
 "nbformat_minor": 5
}
