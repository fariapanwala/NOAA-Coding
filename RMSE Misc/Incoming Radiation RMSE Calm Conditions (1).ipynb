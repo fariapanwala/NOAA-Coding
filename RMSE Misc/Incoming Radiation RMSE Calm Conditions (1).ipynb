{
 "cells": [
  {
   "cell_type": "markdown",
   "id": "83ec3e19",
   "metadata": {},
   "source": [
    "RMSE Calm Conditions (5 UTC (12 am CDT) 3/26- 5 UTC (12 am CDT) 3/30 2022):"
   ]
  },
  {
   "cell_type": "code",
   "execution_count": 1,
   "id": "21c68454",
   "metadata": {},
   "outputs": [],
   "source": [
    "import numpy as np\n",
    "import matplotlib.pyplot as plt\n",
    "import math"
   ]
  },
  {
   "cell_type": "code",
   "execution_count": 2,
   "id": "6dd975ea",
   "metadata": {},
   "outputs": [],
   "source": [
    "#time:\n",
    "with open('hrrr_f01_Selma_AL.txt') as f:\n",
    "    lst=[line.split()[0] for line in f]\n",
    "    time=[]\n",
    "    for i in lst:\n",
    "        new=i.replace(',',\"\")\n",
    "        time.append(new)\n",
    "    time.pop(0)\n",
    "    time=[float(x) for x in time]\n",
    "#     print(time.index(85))\n",
    "#     print(time.index(89))\n",
    "#     time=time[2015:2111]\n",
    "#     print(time)\n",
    "    #print(len(time))\n"
   ]
  },
  {
   "cell_type": "code",
   "execution_count": 3,
   "id": "b3e3fa02",
   "metadata": {},
   "outputs": [],
   "source": [
    "#1 hr hrrr:\n",
    "with open('hrrr_f01_Selma_AL.txt') as f:\n",
    "    lst=[line.split()[3] for line in f]\n",
    "    temp=[]\n",
    "    for i in lst:\n",
    "        new=i.replace(',',\"\")\n",
    "        temp.append(new)\n",
    "    temp.pop(0)\n",
    "    temp=[float(x) for x in temp]\n",
    "    temp=temp[2020:2117]\n",
    "    # replace null values with 0:\n",
    "    i = temp.index(9999)\n",
    "    #print(i)\n",
    "    temp= temp[:i]+[]+temp[i+1:]\n",
    "    #temp=temp[2015:2063]\n",
    "#     print(temp)\n",
    "#     print(len(temp))\n",
    "#full time period is [2015:2112]"
   ]
  },
  {
   "cell_type": "code",
   "execution_count": 4,
   "id": "72c2774f",
   "metadata": {},
   "outputs": [],
   "source": [
    "#Air Temp CRN:\n",
    "with open('CRN_Selma.txt') as f:\n",
    "    lst=[line.split()[13] for line in f]\n",
    "    #print(lst)\n",
    "    temp_crn=[]\n",
    "    for i in lst:\n",
    "        new=i.replace(',',\"\")\n",
    "        temp_crn.append(new)\n",
    "    temp_crn=[float(x) for x in temp_crn]\n",
    "    temp_crn=temp_crn[2020:2117]\n",
    "    #print(temp_crn)\n",
    "    # replace null values with 0:\n",
    "#     print(temp_crn[91])\n",
    "    i = temp_crn.index(40.0)\n",
    "    #print(i)\n",
    "    temp_crn= temp_crn[:i]+[]+temp_crn[i+1:]\n",
    "    #temp=temp[2015:2063]\n",
    "#     print(temp_crn)\n",
    "#     print(len(temp_crn))\n",
    "#     print(temp_crn[2124])\n",
    "#     print(temp_crn[2148])\n",
    "# full time period is [2020:2117]"
   ]
  },
  {
   "cell_type": "code",
   "execution_count": 5,
   "id": "3d18f101",
   "metadata": {},
   "outputs": [
    {
     "name": "stdout",
     "output_type": "stream",
     "text": [
      "RSME 1-hr 48-hr HRRR vs CRN : 72.96952060620927\n"
     ]
    }
   ],
   "source": [
    "MSE = np.square(np.subtract(temp_crn,temp)).mean() \n",
    " \n",
    "RMSE1 = math.sqrt(MSE)\n",
    "print(\"RSME 1-hr 48-hr HRRR vs CRN :\",RMSE1)"
   ]
  },
  {
   "cell_type": "code",
   "execution_count": 6,
   "id": "fc5a0387",
   "metadata": {},
   "outputs": [],
   "source": [
    "#3 hr hrrr:\n",
    "with open('hrrr_f03_Selma_AL.txt') as f:\n",
    "    lst=[line.split()[3] for line in f]\n",
    "    temp=[]\n",
    "    for i in lst:\n",
    "        new=i.replace(',',\"\")\n",
    "        temp.append(new)\n",
    "    temp.pop(0)\n",
    "    temp=[float(x) for x in temp]\n",
    "    temp=temp[2018:2115]\n",
    "    #temp=temp[2015:2063]\n",
    "    #print(temp)\n",
    "    #print(len(temp))\n",
    "#full time period is [2015:2112]"
   ]
  },
  {
   "cell_type": "code",
   "execution_count": 7,
   "id": "d1f2d916",
   "metadata": {},
   "outputs": [],
   "source": [
    "#Air Temp CRN:\n",
    "with open('CRN_Selma.txt') as f:\n",
    "    lst=[line.split()[13] for line in f]\n",
    "    #print(lst)\n",
    "    temp_crn=[]\n",
    "    for i in lst:\n",
    "        new=i.replace(',',\"\")\n",
    "        temp_crn.append(new)\n",
    "    temp_crn=[float(x) for x in temp_crn]\n",
    "    temp_crn=temp_crn[2020:2117]\n",
    "    #print(temp_crn)\n",
    "    #print(len(temp_crn))\n",
    "    # print(temp_crn[2124])\n",
    "    # print(temp_crn[2148])\n",
    "#full time period is [2020:2117]"
   ]
  },
  {
   "cell_type": "code",
   "execution_count": 8,
   "id": "94e056d5",
   "metadata": {},
   "outputs": [
    {
     "name": "stdout",
     "output_type": "stream",
     "text": [
      "RSME 3-hr 48-hr HRRR vs CRN : 69.04532278104104\n"
     ]
    }
   ],
   "source": [
    "MSE = np.square(np.subtract(temp_crn,temp)).mean() \n",
    " \n",
    "RMSE3 = math.sqrt(MSE)\n",
    "print(\"RSME 3-hr 48-hr HRRR vs CRN :\",RMSE3)"
   ]
  },
  {
   "cell_type": "code",
   "execution_count": 9,
   "id": "26e2fc92",
   "metadata": {},
   "outputs": [],
   "source": [
    "#6 hr hrrr:\n",
    "with open('hrrr_f06_Selma_AL.txt') as f:\n",
    "    lst=[line.split()[3] for line in f]\n",
    "    temp=[]\n",
    "    for i in lst:\n",
    "        new=i.replace(',',\"\")\n",
    "        temp.append(new)\n",
    "    temp.pop(0)\n",
    "    temp=[float(x) for x in temp]\n",
    "    temp=temp[2015:2112]\n",
    "    #temp=temp[2015:2063]\n",
    "    #print(temp)\n",
    "    #print(len(temp))\n",
    "#full time period is [2015:2112]"
   ]
  },
  {
   "cell_type": "code",
   "execution_count": 10,
   "id": "1ebdb826",
   "metadata": {},
   "outputs": [
    {
     "name": "stdout",
     "output_type": "stream",
     "text": [
      "RSME 6-hr 48-hr HRRR vs CRN : 74.74768347960364\n"
     ]
    }
   ],
   "source": [
    "MSE = np.square(np.subtract(temp_crn,temp)).mean() \n",
    " \n",
    "RMSE6 = math.sqrt(MSE)\n",
    "print(\"RSME 6-hr 48-hr HRRR vs CRN :\",RMSE6)"
   ]
  },
  {
   "cell_type": "code",
   "execution_count": 11,
   "id": "eb661b68",
   "metadata": {},
   "outputs": [],
   "source": [
    "#12 hr hrrr:\n",
    "with open('hrrr_f12_Selma_AL.txt') as f:\n",
    "    lst=[line.split()[3] for line in f]\n",
    "    temp=[]\n",
    "    for i in lst:\n",
    "        new=i.replace(',',\"\")\n",
    "        temp.append(new)\n",
    "    temp.pop(0)\n",
    "    temp=[float(x) for x in temp]\n",
    "    temp=temp[2009:2106]\n",
    "    #temp=temp[2015:2063]\n",
    "    #print(temp)\n",
    "    #print(len(temp))\n",
    "#full time period is [2015:2112]"
   ]
  },
  {
   "cell_type": "code",
   "execution_count": 12,
   "id": "3d2f0cfa",
   "metadata": {},
   "outputs": [
    {
     "name": "stdout",
     "output_type": "stream",
     "text": [
      "RSME 12-hr 48-hr HRRR vs CRN : 78.47377590733505\n"
     ]
    }
   ],
   "source": [
    "MSE = np.square(np.subtract(temp_crn,temp)).mean() \n",
    " \n",
    "RMSE12 = math.sqrt(MSE)\n",
    "print(\"RSME 12-hr 48-hr HRRR vs CRN :\",RMSE12)"
   ]
  },
  {
   "cell_type": "code",
   "execution_count": 13,
   "id": "c300929a",
   "metadata": {},
   "outputs": [],
   "source": [
    "#18 hr hrrr:\n",
    "with open('hrrr_f18_Selma_AL.txt') as f:\n",
    "    lst=[line.split()[3] for line in f]\n",
    "    temp=[]\n",
    "    for i in lst:\n",
    "        new=i.replace(',',\"\")\n",
    "        temp.append(new)\n",
    "    temp.pop(0)\n",
    "    temp=[float(x) for x in temp]\n",
    "    temp=temp[2003:2100]\n",
    "    #temp=temp[2015:2063]\n",
    "    #print(temp)\n",
    "    #print(len(temp))\n",
    "#full time period is [2015:2112]"
   ]
  },
  {
   "cell_type": "code",
   "execution_count": 14,
   "id": "2a77affc",
   "metadata": {},
   "outputs": [
    {
     "name": "stdout",
     "output_type": "stream",
     "text": [
      "RSME 18-hr 48-hr HRRR vs CRN : 75.00449402343396\n"
     ]
    }
   ],
   "source": [
    "MSE = np.square(np.subtract(temp_crn,temp)).mean() \n",
    " \n",
    "RMSE18 = math.sqrt(MSE)\n",
    "print(\"RSME 18-hr 48-hr HRRR vs CRN :\",RMSE18)"
   ]
  },
  {
   "cell_type": "code",
   "execution_count": 15,
   "id": "71e55fb0",
   "metadata": {},
   "outputs": [
    {
     "name": "stdout",
     "output_type": "stream",
     "text": [
      "+-----------------+---------+\n",
      "| Forecast Hour   |    RMSE |\n",
      "+=================+=========+\n",
      "| 1-hr            | 72.9695 |\n",
      "+-----------------+---------+\n",
      "| 3-hr            | 69.0453 |\n",
      "+-----------------+---------+\n",
      "| 6-hr            | 74.7477 |\n",
      "+-----------------+---------+\n",
      "| 12-hr           | 78.4738 |\n",
      "+-----------------+---------+\n",
      "| 18-hr           | 75.0045 |\n",
      "+-----------------+---------+\n"
     ]
    }
   ],
   "source": [
    "from tabulate import tabulate\n",
    "values=[[\"1-hr\",RMSE1],[\"3-hr\",RMSE3],[\"6-hr\",RMSE6],[\"12-hr\",RMSE12],[\"18-hr\",RMSE18]]\n",
    "head=[\"Forecast Hour\",\"RMSE\"]\n",
    "print(tabulate(values, headers=head, tablefmt=\"grid\"))"
   ]
  },
  {
   "cell_type": "code",
   "execution_count": null,
   "id": "07b1626c",
   "metadata": {},
   "outputs": [],
   "source": []
  }
 ],
 "metadata": {
  "kernelspec": {
   "display_name": "Python 3 (ipykernel)",
   "language": "python",
   "name": "python3"
  },
  "language_info": {
   "codemirror_mode": {
    "name": "ipython",
    "version": 3
   },
   "file_extension": ".py",
   "mimetype": "text/x-python",
   "name": "python",
   "nbconvert_exporter": "python",
   "pygments_lexer": "ipython3",
   "version": "3.9.12"
  }
 },
 "nbformat": 4,
 "nbformat_minor": 5
}
