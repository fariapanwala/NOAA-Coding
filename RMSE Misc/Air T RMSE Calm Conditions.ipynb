{
 "cells": [
  {
   "cell_type": "markdown",
   "id": "83ec3e19",
   "metadata": {},
   "source": [
    "RMSE Calm Conditions (5 UTC (12 am CDT) 3/26- 5 UTC (12 am CDT) 3/30 2022):"
   ]
  },
  {
   "cell_type": "code",
   "execution_count": 1,
   "id": "21c68454",
   "metadata": {},
   "outputs": [],
   "source": [
    "import numpy as np\n",
    "import matplotlib.pyplot as plt\n",
    "import math"
   ]
  },
  {
   "cell_type": "code",
   "execution_count": 2,
   "id": "6dd975ea",
   "metadata": {},
   "outputs": [],
   "source": [
    "#time:\n",
    "with open('hrrr_f01_Selma_AL.txt') as f:\n",
    "    lst=[line.split()[0] for line in f]\n",
    "    time=[]\n",
    "    for i in lst:\n",
    "        new=i.replace(',',\"\")\n",
    "        time.append(new)\n",
    "    time.pop(0)\n",
    "    time=[float(x) for x in time]\n",
    "#     print(time.index(85))\n",
    "#     print(time.index(89))\n",
    "#     time=time[2015:2111]\n",
    "#     print(time)\n",
    "#     #print(len(time))\n"
   ]
  },
  {
   "cell_type": "code",
   "execution_count": 3,
   "id": "b3e3fa02",
   "metadata": {},
   "outputs": [
    {
     "name": "stdout",
     "output_type": "stream",
     "text": [
      "[10.5613, 9.98041, 9.48148, 8.87363, 8.35693, 8.0076, 7.564, 7.24533, 9.44293, 12.0633, 13.5092, 14.8241, 17.0424, 18.3208, 19.7948, 20.718, 20.7998, 20.8869, 19.4941, 16.7304, 15.1663, 13.6208, 11.8207, 10.541, 9.12271, 8.81876, 8.19229, 7.61667, 7.20126, 6.61417, 4.90228, 4.29251, 6.48532, 10.0422, 14.0952, 16.8927, 18.8293, 20.0981, 21.411, 22.3395, 22.6025, 22.5893, 21.6252, 18.4646, 16.3699, 14.6372, 13.5144, 12.5041, 11.4311, 10.5309, 9.34726, 8.37054, 7.72543, 7.27078, 7.05634, 6.48416, 8.64117, 12.0916, 14.7485, 17.2433, 19.6304, 21.7319, 22.9065, 23.8709, 24.5411, 25.577, 24.4332, 22.1656, 20.8127, 17.548, 15.8839, 14.752, 13.8589, 13.4384, 13.4204, 12.9649, 12.8916, 14.4711, 15.3827, 15.1302, 16.3093, 18.014, 19.2205, 21.3045, 23.1114, 24.5158, 25.5473, 26.9096, 27.8226, 27.7675, 26.2621, 23.7122, 22.1989, 20.8905, 20.0469, 19.3891, 18.9527]\n"
     ]
    }
   ],
   "source": [
    "#1 hr hrrr:\n",
    "with open('hrrr_f01_Selma_AL.txt') as f:\n",
    "    lst=[line.split()[1] for line in f]\n",
    "    temp=[]\n",
    "    for i in lst:\n",
    "        new=i.replace(',',\"\")\n",
    "        temp.append(new)\n",
    "    temp.pop(0)\n",
    "    temp=[float(x) for x in temp]\n",
    "    temp=temp[2020:2117]\n",
    "    #temp=temp[2015:2063]\n",
    "    print(temp)\n",
    "    #print(len(temp))\n",
    "#full time period is [2015:2112]"
   ]
  },
  {
   "cell_type": "code",
   "execution_count": 4,
   "id": "72c2774f",
   "metadata": {},
   "outputs": [
    {
     "name": "stdout",
     "output_type": "stream",
     "text": [
      "[12.2, 10.9, 10.9, 9.1, 9.1, 9.2, 9.6, 8.8, 9.3, 11.2, 13.3, 15.1, 16.5, 17.8, 18.5, 19.4, 19.8, 20.0, 19.7, 18.3, 13.9, 10.4, 8.6, 7.7, 7.0, 7.1, 6.5, 5.5, 4.9, 4.1, 3.8, 3.7, 5.8, 10.1, 13.7, 15.9, 17.9, 19.6, 21.0, 21.8, 21.8, 21.8, 21.3, 19.3, 16.0, 14.3, 11.1, 9.6, 8.5, 8.1, 7.3, 6.9, 6.3, 6.5, 5.8, 6.1, 7.3, 11.1, 14.1, 16.8, 18.9, 20.6, 22.1, 23.5, 24.4, 24.9, 24.8, 22.6, 17.5, 15.3, 14.1, 13.3, 13.1, 13.4, 14.0, 13.4, 13.1, 14.1, 14.5, 14.9, 15.6, 17.2, 19.6, 21.0, 22.4, 23.2, 24.5, 25.7, 26.8, 26.9, 26.4, 25.8, 23.7, 22.8, 21.8, 21.1, 20.3]\n"
     ]
    }
   ],
   "source": [
    "#Air Temp CRN:\n",
    "with open('CRN_Selma.txt') as f:\n",
    "    lst=[line.split()[9] for line in f]\n",
    "    #print(lst)\n",
    "    temp_crn=[]\n",
    "    for i in lst:\n",
    "        new=i.replace(',',\"\")\n",
    "        temp_crn.append(new)\n",
    "    temp_crn=[float(x) for x in temp_crn]\n",
    "    temp_crn=temp_crn[2020:2117]\n",
    "    print(temp_crn)\n",
    "    #print(len(temp_crn))\n",
    "    # print(temp_crn[2124])\n",
    "    # print(temp_crn[2148])\n",
    "#full time period is [2020:2117]"
   ]
  },
  {
   "cell_type": "code",
   "execution_count": 5,
   "id": "9543ee28",
   "metadata": {},
   "outputs": [
    {
     "data": {
      "text/plain": [
       "[<matplotlib.lines.Line2D at 0x172a90ea730>]"
      ]
     },
     "execution_count": 5,
     "metadata": {},
     "output_type": "execute_result"
    },
    {
     "data": {
      "image/png": "[encoded data removed]",
      "text/plain": [
       "<Figure size 432x288 with 1 Axes>"
      ]
     },
     "metadata": {
      "needs_background": "light"
     },
     "output_type": "display_data"
    }
   ],
   "source": [
    "plt.plot(temp)\n",
    "plt.plot(temp_crn)"
   ]
  },
  {
   "cell_type": "code",
   "execution_count": 6,
   "id": "3d18f101",
   "metadata": {},
   "outputs": [
    {
     "name": "stdout",
     "output_type": "stream",
     "text": [
      "RSME 1-hr 48-hr HRRR vs CRN : 1.3735402434209592\n"
     ]
    }
   ],
   "source": [
    "MSE = np.square(np.subtract(temp_crn,temp)).mean() \n",
    " \n",
    "RMSE1 = math.sqrt(MSE)\n",
    "print(\"RSME 1-hr 48-hr HRRR vs CRN :\",RMSE1)"
   ]
  },
  {
   "cell_type": "code",
   "execution_count": 7,
   "id": "fc5a0387",
   "metadata": {},
   "outputs": [
    {
     "name": "stdout",
     "output_type": "stream",
     "text": [
      "[10.776, 10.1763, 9.43661, 8.76053, 8.36319, 8.00699, 7.62329, 7.34726, 9.54178, 12.2146, 13.7634, 15.2768, 16.692, 18.1199, 19.6462, 20.4271, 20.7261, 20.643, 19.2003, 16.6878, 14.7727, 13.5572, 12.6884, 11.3897, 10.446, 9.12396, 8.56009, 8.06741, 7.43332, 6.89801, 5.72501, 5.57553, 6.55591, 10.2229, 13.4746, 16.4441, 18.8678, 20.6081, 21.796, 22.0521, 22.382, 22.129, 20.8797, 18.1218, 15.8978, 14.4534, 13.6704, 12.817, 11.7139, 11.0508, 9.80093, 8.93298, 8.14267, 7.45724, 6.99399, 6.80649, 9.1813, 12.5303, 14.7424, 17.0784, 19.6165, 21.4555, 22.8036, 23.792, 25.1828, 25.2406, 24.3259, 21.3528, 19.4957, 18.8008, 18.3119, 15.9062, 14.8767, 13.9851, 13.1522, 12.8973, 12.7588, 12.1632, 13.8279, 15.2454, 16.9493, 18.1646, 19.7906, 21.487, 23.5219, 25.1229, 26.3077, 27.4862, 28.0892, 28.0174, 26.7247, 23.7863, 21.6197, 20.3579, 19.3311, 18.7412, 18.3924]\n"
     ]
    }
   ],
   "source": [
    "#3 hr hrrr:\n",
    "with open('hrrr_f03_Selma_AL.txt') as f:\n",
    "    lst=[line.split()[1] for line in f]\n",
    "    temp=[]\n",
    "    for i in lst:\n",
    "        new=i.replace(',',\"\")\n",
    "        temp.append(new)\n",
    "    temp.pop(0)\n",
    "    temp=[float(x) for x in temp]\n",
    "    temp=temp[2018:2115]\n",
    "    #temp=temp[2015:2063]\n",
    "    print(temp)\n",
    "    #print(len(temp))\n",
    "#full time period is [2015:2112]"
   ]
  },
  {
   "cell_type": "code",
   "execution_count": 8,
   "id": "94e056d5",
   "metadata": {},
   "outputs": [
    {
     "name": "stdout",
     "output_type": "stream",
     "text": [
      "RSME 3-hr 48-hr HRRR vs CRN : 1.6853664992245005\n"
     ]
    }
   ],
   "source": [
    "MSE = np.square(np.subtract(temp_crn,temp)).mean() \n",
    " \n",
    "RMSE3 = math.sqrt(MSE)\n",
    "print(\"RSME 3-hr 48-hr HRRR vs CRN :\",RMSE3)"
   ]
  },
  {
   "cell_type": "code",
   "execution_count": 9,
   "id": "26e2fc92",
   "metadata": {},
   "outputs": [
    {
     "name": "stdout",
     "output_type": "stream",
     "text": [
      "[10.6632, 10.2213, 9.66537, 9.08701, 8.57547, 8.33347, 8.0274, 7.46158, 9.58322, 12.3964, 14.5509, 15.8379, 16.1181, 17.3855, 18.9557, 19.8451, 20.1595, 20.15, 18.7295, 16.2251, 14.4062, 12.9649, 12.3001, 11.7407, 10.9804, 10.5474, 9.69406, 8.9747, 8.03745, 6.8826, 6.79721, 6.53854, 8.11325, 11.4906, 13.5451, 15.967, 17.8879, 19.7843, 21.4739, 22.563, 23.0081, 22.0493, 20.3092, 17.7637, 15.4237, 13.8819, 13.0012, 12.3996, 11.7269, 11.176, 10.4117, 9.4642, 8.76636, 8.10617, 7.836, 7.12784, 9.46848, 12.3659, 15.2862, 17.7747, 19.5537, 21.5384, 22.9873, 24.6597, 24.9507, 24.7991, 23.772, 21.409, 19.4505, 17.3823, 16.4402, 15.6812, 15.5642, 15.312, 14.2937, 13.3044, 12.5173, 11.9865, 12.427, 13.7182, 14.8265, 18.0951, 19.9601, 22.3684, 24.1017, 25.5727, 26.927, 28.0985, 28.0745, 27.9571, 26.4817, 23.8597, 21.9452, 20.4792, 19.5234, 18.9057, 18.4866]\n"
     ]
    }
   ],
   "source": [
    "#6 hr hrrr:\n",
    "with open('hrrr_f06_Selma_AL.txt') as f:\n",
    "    lst=[line.split()[1] for line in f]\n",
    "    temp=[]\n",
    "    for i in lst:\n",
    "        new=i.replace(',',\"\")\n",
    "        temp.append(new)\n",
    "    temp.pop(0)\n",
    "    temp=[float(x) for x in temp]\n",
    "    temp=temp[2015:2112]\n",
    "    #temp=temp[2015:2063]\n",
    "    print(temp)\n",
    "    #print(len(temp))\n",
    "#full time period is [2015:2112]"
   ]
  },
  {
   "cell_type": "code",
   "execution_count": 10,
   "id": "4eb64539",
   "metadata": {},
   "outputs": [
    {
     "data": {
      "text/plain": [
       "[<matplotlib.lines.Line2D at 0x172a899a520>]"
      ]
     },
     "execution_count": 10,
     "metadata": {},
     "output_type": "execute_result"
    },
    {
     "data": {
      "image/png": "[encoded data removed]",
      "text/plain": [
       "<Figure size 432x288 with 1 Axes>"
      ]
     },
     "metadata": {
      "needs_background": "light"
     },
     "output_type": "display_data"
    }
   ],
   "source": [
    "plt.plot(temp)\n",
    "plt.plot(temp_crn)"
   ]
  },
  {
   "cell_type": "code",
   "execution_count": 11,
   "id": "1ebdb826",
   "metadata": {},
   "outputs": [
    {
     "name": "stdout",
     "output_type": "stream",
     "text": [
      "RSME 6-hr 48-hr HRRR vs CRN : 1.8224685952419866\n"
     ]
    }
   ],
   "source": [
    "MSE = np.square(np.subtract(temp_crn,temp)).mean() \n",
    " \n",
    "RMSE6 = math.sqrt(MSE)\n",
    "print(\"RSME 6-hr 48-hr HRRR vs CRN :\",RMSE6)"
   ]
  },
  {
   "cell_type": "code",
   "execution_count": 12,
   "id": "eb661b68",
   "metadata": {},
   "outputs": [
    {
     "name": "stdout",
     "output_type": "stream",
     "text": [
      "[10.0448, 9.47318, 9.13092, 8.69077, 8.46133, 8.17047, 7.96628, 7.43307, 9.64856, 12.124, 13.6462, 15.506, 16.4076, 17.6557, 19.1185, 20.038, 19.9926, 20.0154, 18.2779, 15.3249, 13.4115, 12.4659, 11.643, 10.9775, 10.0788, 9.59784, 9.30655, 8.69858, 8.60391, 8.13504, 8.17062, 7.74121, 9.75812, 11.9443, 13.6208, 15.6617, 17.5724, 19.3626, 20.8837, 21.9227, 22.0686, 22.08, 20.3724, 17.3759, 15.5507, 14.0059, 12.995, 11.9189, 11.6898, 11.2108, 10.5846, 9.4454, 8.94705, 8.5864, 7.77695, 7.95859, 10.278, 12.5584, 15.0115, 17.3741, 19.5457, 21.5123, 23.0115, 23.8053, 24.8097, 25.2459, 23.9036, 21.674, 19.4426, 18.3988, 17.4266, 15.681, 14.5952, 14.2001, 13.2807, 13.6981, 13.4758, 13.1858, 13.3084, 12.9532, 14.9605, 18.1478, 19.3708, 21.6424, 23.6283, 25.9576, 27.517, 28.8715, 28.7957, 28.2596, 26.5824, 23.804, 22.0712, 20.6701, 19.7712, 19.5134, 19.187]\n"
     ]
    }
   ],
   "source": [
    "#12 hr hrrr:\n",
    "with open('hrrr_f12_Selma_AL.txt') as f:\n",
    "    lst=[line.split()[1] for line in f]\n",
    "    temp=[]\n",
    "    for i in lst:\n",
    "        new=i.replace(',',\"\")\n",
    "        temp.append(new)\n",
    "    temp.pop(0)\n",
    "    temp=[float(x) for x in temp]\n",
    "    temp=temp[2009:2106]\n",
    "    #temp=temp[2015:2063]\n",
    "    print(temp)\n",
    "    #print(len(temp))\n",
    "#full time period is [2015:2112]"
   ]
  },
  {
   "cell_type": "code",
   "execution_count": 13,
   "id": "3d2f0cfa",
   "metadata": {},
   "outputs": [
    {
     "name": "stdout",
     "output_type": "stream",
     "text": [
      "RSME 12-hr 48-hr HRRR vs CRN : 1.9073695952198337\n"
     ]
    }
   ],
   "source": [
    "MSE = np.square(np.subtract(temp_crn,temp)).mean() \n",
    " \n",
    "RMSE12 = math.sqrt(MSE)\n",
    "print(\"RSME 12-hr 48-hr HRRR vs CRN :\",RMSE12)"
   ]
  },
  {
   "cell_type": "code",
   "execution_count": 14,
   "id": "c300929a",
   "metadata": {},
   "outputs": [
    {
     "name": "stdout",
     "output_type": "stream",
     "text": [
      "[9.68753, 8.93781, 8.50858, 8.25378, 7.91901, 8.15329, 7.51706, 6.97385, 9.19119, 11.4765, 13.0177, 14.6684, 16.1039, 17.5579, 19.183, 19.8358, 19.9131, 19.9475, 18.0398, 15.3206, 13.732, 12.7021, 11.6749, 10.9805, 10.4437, 9.56076, 8.68851, 8.72641, 7.85794, 7.7562, 7.47757, 6.70569, 8.47348, 10.8679, 12.5747, 15.0384, 17.3014, 19.3806, 20.9739, 21.8504, 21.9859, 21.7284, 20.4326, 17.5775, 15.5572, 13.5845, 13.0149, 11.9752, 11.0676, 10.6004, 9.97141, 9.45935, 8.84085, 8.39536, 8.04312, 7.60599, 9.99051, 12.4249, 14.8727, 17.6308, 19.6499, 22.061, 23.3488, 24.1812, 24.7163, 25.1874, 24.2389, 21.0443, 18.7956, 17.0055, 16.2477, 15.9372, 16.0953, 15.1306, 14.8699, 14.5094, 13.3609, 12.2007, 12.0187, 11.9549, 14.4936, 16.8867, 17.7317, 20.2572, 23.8263, 25.8574, 27.3695, 28.5072, 28.6436, 28.1441, 26.341, 23.8166, 22.4716, 21.4333, 20.3433, 19.5157, 18.8025]\n"
     ]
    }
   ],
   "source": [
    "#18 hr hrrr:\n",
    "with open('hrrr_f18_Selma_AL.txt') as f:\n",
    "    lst=[line.split()[1] for line in f]\n",
    "    temp=[]\n",
    "    for i in lst:\n",
    "        new=i.replace(',',\"\")\n",
    "        temp.append(new)\n",
    "    temp.pop(0)\n",
    "    temp=[float(x) for x in temp]\n",
    "    temp=temp[2003:2100]\n",
    "    #temp=temp[2015:2063]\n",
    "    print(temp)\n",
    "    #print(len(temp))\n",
    "#full time period is [2015:2112]"
   ]
  },
  {
   "cell_type": "code",
   "execution_count": 15,
   "id": "2a77affc",
   "metadata": {},
   "outputs": [
    {
     "name": "stdout",
     "output_type": "stream",
     "text": [
      "RSME 18-hr 48-hr HRRR vs CRN : 1.8361365923694635\n"
     ]
    }
   ],
   "source": [
    "MSE = np.square(np.subtract(temp_crn,temp)).mean() \n",
    " \n",
    "RMSE18 = math.sqrt(MSE)\n",
    "print(\"RSME 18-hr 48-hr HRRR vs CRN :\",RMSE18)"
   ]
  },
  {
   "cell_type": "code",
   "execution_count": 16,
   "id": "71e55fb0",
   "metadata": {},
   "outputs": [
    {
     "name": "stdout",
     "output_type": "stream",
     "text": [
      "+-----------------+---------+\n",
      "| Forecast Hour   |    RMSE |\n",
      "+=================+=========+\n",
      "| 1-hr            | 1.37354 |\n",
      "+-----------------+---------+\n",
      "| 3-hr            | 1.68537 |\n",
      "+-----------------+---------+\n",
      "| 6-hr            | 1.82247 |\n",
      "+-----------------+---------+\n",
      "| 12-hr           | 1.90737 |\n",
      "+-----------------+---------+\n",
      "| 18-hr           | 1.83614 |\n",
      "+-----------------+---------+\n"
     ]
    }
   ],
   "source": [
    "from tabulate import tabulate\n",
    "values=[[\"1-hr\",RMSE1],[\"3-hr\",RMSE3],[\"6-hr\",RMSE6],[\"12-hr\",RMSE12],[\"18-hr\",RMSE18]]\n",
    "head=[\"Forecast Hour\",\"RMSE\"]\n",
    "print(tabulate(values, headers=head, tablefmt=\"grid\"))"
   ]
  },
  {
   "cell_type": "code",
   "execution_count": null,
   "id": "4676ded8",
   "metadata": {},
   "outputs": [],
   "source": []
  }
 ],
 "metadata": {
  "kernelspec": {
   "display_name": "Python 3 (ipykernel)",
   "language": "python",
   "name": "python3"
  },
  "language_info": {
   "codemirror_mode": {
    "name": "ipython",
    "version": 3
   },
   "file_extension": ".py",
   "mimetype": "text/x-python",
   "name": "python",
   "nbconvert_exporter": "python",
   "pygments_lexer": "ipython3",
   "version": "3.9.12"
  }
 },
 "nbformat": 4,
 "nbformat_minor": 5
}
