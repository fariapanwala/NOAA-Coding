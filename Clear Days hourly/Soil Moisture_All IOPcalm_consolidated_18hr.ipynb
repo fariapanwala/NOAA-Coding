{
 "cells": [
  {
   "cell_type": "code",
   "execution_count": 1,
   "id": "83d28093",
   "metadata": {},
   "outputs": [],
   "source": [
    "import numpy as np\n",
    "import matplotlib.pyplot as plt\n",
    "import math\n",
    "import numpy.ma as ma"
   ]
  },
  {
   "cell_type": "markdown",
   "id": "18ad22a0",
   "metadata": {},
   "source": [
    "<font size=\"3\">Salem, MO: 1200 UTC 22 March 2022-1200 UTC 23 March 2022</font>"
   ]
  },
  {
   "cell_type": "code",
   "execution_count": 2,
   "id": "1b19b289",
   "metadata": {},
   "outputs": [
    {
     "name": "stdout",
     "output_type": "stream",
     "text": [
      "[0.241, 0.242, 0.243, 0.244, 0.243, 0.239, 0.235, 0.231, 0.231, 0.228, 0.225, 0.224, 0.222, 0.221, 0.221, 0.22, 0.22, 0.22, 0.22, 0.22, 0.22, 0.22, 0.219, 0.218, 0.218]\n"
     ]
    }
   ],
   "source": [
    "#18 hr hrrr:\n",
    "with open('hrrr_f18_Salem_MO.txt') as f:\n",
    "    lst=[line.split()[8] for line in f]\n",
    "    temp=[]\n",
    "    for i in lst:\n",
    "        new=i.replace(',',\"\")\n",
    "        temp.append(new)\n",
    "    temp.pop(0)\n",
    "    temp=[float(x) for x in temp]\n",
    "    #print(temp.index(6.91541))\n",
    "    temp=temp[1404:1429]\n",
    "    print(temp)\n",
    "    #print(len(temp))\n",
    "#full time period is [2015:2112]"
   ]
  },
  {
   "cell_type": "code",
   "execution_count": 3,
   "id": "e9d4dbcc",
   "metadata": {},
   "outputs": [
    {
     "name": "stdout",
     "output_type": "stream",
     "text": [
      "[0.366, 0.365, 0.364, 0.363, 0.363, 0.357, 0.352, 0.352, 0.352, 0.353, 0.354, 0.352, 0.352, 0.351, 0.35, 0.35, 0.348, 0.348, 0.348, 0.347, 0.347, 0.347, 0.346, 0.346, 0.345]\n"
     ]
    }
   ],
   "source": [
    "#Air Temp CRN:\n",
    "with open('CRNH0203-2022-MO_Salem_10_W.txt') as f:\n",
    "    lst=[line.split()[28] for line in f]\n",
    "    #print(lst)\n",
    "    temp_crn=[]\n",
    "    for i in lst:\n",
    "        new=i.replace(',',\"\")\n",
    "        temp_crn.append(new)\n",
    "    temp_crn=[float(x) for x in temp_crn]\n",
    "    temp_crn=temp_crn[1421:1446]\n",
    "    print(temp_crn)\n",
    "    #print(len(temp_crn))\n",
    "    # print(temp_crn[2124])"
   ]
  },
  {
   "cell_type": "code",
   "execution_count": 4,
   "id": "1e9aed03-d99c-4045-812a-e26bcc99b84f",
   "metadata": {},
   "outputs": [
    {
     "name": "stdout",
     "output_type": "stream",
     "text": [
      "[-0.125, -0.123, -0.121, -0.119, -0.12, -0.118, -0.11699999999999999, -0.12099999999999997, -0.12099999999999997, -0.12499999999999997, -0.12899999999999998, -0.12799999999999997, -0.12999999999999998, -0.12999999999999998, -0.12899999999999998, -0.12999999999999998, -0.12799999999999997, -0.12799999999999997, -0.12799999999999997, -0.12699999999999997, -0.12699999999999997, -0.12699999999999997, -0.12699999999999997, -0.12799999999999997, -0.12699999999999997]\n"
     ]
    }
   ],
   "source": [
    "difference1_sal = []\n",
    "\n",
    "zip_object = zip(temp, temp_crn)\n",
    "for temp_i, temp_crn_i in zip_object:\n",
    "    difference1_sal.append(temp_i-temp_crn_i)\n",
    "\n",
    "print(difference1_sal)"
   ]
  },
  {
   "cell_type": "markdown",
   "id": "9043c519",
   "metadata": {},
   "source": [
    "<font size=\"3\">Batesville, AR: 1200 UTC 22 March 2022-1200 UTC 23 March 2022</font>"
   ]
  },
  {
   "cell_type": "code",
   "execution_count": 5,
   "id": "394f1ff2",
   "metadata": {},
   "outputs": [
    {
     "name": "stdout",
     "output_type": "stream",
     "text": [
      "[0.254 0.254 0.254 0.255 0.255 0.25 0.245 0.242 0.242 0.242 0.242 0.24\n",
      " 0.238 0.235 0.232 0.23 0.228 0.227 0.226 0.226 0.227 -- 0.228 0.229 0.23]\n"
     ]
    }
   ],
   "source": [
    "#18 hr hrrr:\n",
    "with open('hrrr_f18_Batesville_AR.txt') as f:\n",
    "    lst=[line.split()[8] for line in f]\n",
    "    temp=[]\n",
    "    for i in lst:\n",
    "        new=i.replace(',',\"\")\n",
    "        temp.append(new)\n",
    "    temp.pop(0)\n",
    "    temp=[float(x) for x in temp]\n",
    "    #print(temp.index(6.91541))\n",
    "    temp=temp[1404:1429]\n",
    "    x = np.array(temp)\n",
    "    temp = ma.masked_array(x, mask=[0, 0, 0, 0, 0,0,0,0,0,0,0,0,0,0,0,0,0,0,0,0,0,1,0,0,0])\n",
    "    print(temp)\n",
    "    #print(len(temp))\n",
    "#full time period is [2015:2112]"
   ]
  },
  {
   "cell_type": "code",
   "execution_count": 6,
   "id": "11b7f8b7",
   "metadata": {},
   "outputs": [
    {
     "name": "stdout",
     "output_type": "stream",
     "text": [
      "[0.343 0.343 0.342 0.342 0.342 0.342 0.342 0.342 0.342 0.341 0.341 0.34\n",
      " 0.338 0.336 0.335 0.333 0.332 0.33 0.33 0.33 0.329 -- 0.329 0.329 0.329]\n"
     ]
    }
   ],
   "source": [
    "#Air Temp CRN:\n",
    "with open('CRNH0203-2022-AR_Batesville_8_WNW.txt') as f:\n",
    "    lst=[line.split()[28] for line in f]\n",
    "    #print(lst)\n",
    "    temp_crn=[]\n",
    "    for i in lst:\n",
    "        new=i.replace(',',\"\")\n",
    "        temp_crn.append(new)\n",
    "    temp_crn=[float(x) for x in temp_crn]\n",
    "    temp_crn=temp_crn[1421:1446]\n",
    "    y = np.array(temp_crn)\n",
    "    temp_crn = ma.masked_array(y, mask=[0, 0, 0, 0, 0,0,0,0,0,0,0,0,0,0,0,0,0,0,0,0,0,1,0,0,0])\n",
    "    print(temp_crn)\n",
    "    #print(len(temp_crn))\n",
    "    # print(temp_crn[2124])"
   ]
  },
  {
   "cell_type": "code",
   "execution_count": 7,
   "id": "62a46873",
   "metadata": {},
   "outputs": [
    {
     "name": "stdout",
     "output_type": "stream",
     "text": [
      "[-0.08900000000000002, -0.08900000000000002, -0.08800000000000002, -0.08700000000000002, -0.08700000000000002, -0.09200000000000003, -0.09700000000000003, -0.10000000000000003, -0.10000000000000003, -0.09900000000000003, -0.09900000000000003, -0.10000000000000003, -0.10000000000000003, -0.10100000000000003, -0.10300000000000001, -0.10300000000000001, -0.10400000000000001, -0.10300000000000001, -0.10400000000000001, -0.10400000000000001, -0.10200000000000001, masked, -0.101, -0.1, -0.099]\n"
     ]
    }
   ],
   "source": [
    "difference1_bat = []\n",
    "\n",
    "zip_object = zip(temp, temp_crn)\n",
    "for temp_i, temp_crn_i in zip_object:\n",
    "    difference1_bat.append(temp_i-temp_crn_i)\n",
    "\n",
    "print(difference1_bat)"
   ]
  },
  {
   "cell_type": "markdown",
   "id": "2a2589df",
   "metadata": {},
   "source": [
    "<font size=\"3\">Lafayette, LA: 1500 UTC 22 March 2022-1500 UTC 23 March 2022</font>"
   ]
  },
  {
   "cell_type": "code",
   "execution_count": 8,
   "id": "9d0a0e7b",
   "metadata": {},
   "outputs": [
    {
     "name": "stdout",
     "output_type": "stream",
     "text": [
      "[0.208, 0.208, 0.208, 0.208, 0.204, 0.202, 0.202, 0.202, 0.202, 0.202, 0.201, 0.201, 0.201, 0.201, 0.201, 0.201, 0.201, 0.201, 0.201, 0.201, 0.201, 0.201, 0.201, 0.201, 0.201]\n"
     ]
    }
   ],
   "source": [
    "#18 hr hrrr:\n",
    "with open('hrrr_f18_Lafayette_LA.txt') as f:\n",
    "    lst=[line.split()[8] for line in f]\n",
    "    temp=[]\n",
    "    for i in lst:\n",
    "        new=i.replace(',',\"\")\n",
    "        temp.append(new)\n",
    "    temp.pop(0)\n",
    "    temp=[float(x) for x in temp]\n",
    "    #print(temp.index(6.91541))\n",
    "    temp=temp[1404:1429]\n",
    "    print(temp)\n",
    "    #print(len(temp))\n",
    "#full time period is [2015:2112]"
   ]
  },
  {
   "cell_type": "code",
   "execution_count": 9,
   "id": "bfe1bb32",
   "metadata": {},
   "outputs": [
    {
     "name": "stdout",
     "output_type": "stream",
     "text": [
      "[0.404, 0.402, 0.403, 0.402, 0.401, 0.402, 0.401, 0.4, 0.401, 0.401, 0.401, 0.4, 0.399, 0.399, 0.399, 0.399, 0.4, 0.399, 0.399, 0.399, 0.398, 0.398, 0.398, 0.397, 0.397]\n"
     ]
    }
   ],
   "source": [
    "#Air Temp CRN:\n",
    "with open('CRNH0203-2022-LA_Lafayette_13_SE.txt') as f:\n",
    "    lst=[line.split()[28] for line in f]\n",
    "    #print(lst)\n",
    "    temp_crn=[]\n",
    "    for i in lst:\n",
    "        new=i.replace(',',\"\")\n",
    "        temp_crn.append(new)\n",
    "    temp_crn=[float(x) for x in temp_crn]\n",
    "    temp_crn=temp_crn[1421:1446]\n",
    "    print(temp_crn)\n",
    "    #print(len(temp_crn))\n",
    "    # print(temp_crn[2124])"
   ]
  },
  {
   "cell_type": "code",
   "execution_count": 10,
   "id": "9b94d0f9",
   "metadata": {},
   "outputs": [
    {
     "name": "stdout",
     "output_type": "stream",
     "text": [
      "[-0.19600000000000004, -0.19400000000000003, -0.19500000000000003, -0.19400000000000003, -0.19700000000000004, -0.2, -0.199, -0.198, -0.199, -0.199, -0.2, -0.199, -0.198, -0.198, -0.198, -0.198, -0.199, -0.198, -0.198, -0.198, -0.197, -0.197, -0.197, -0.196, -0.196]\n"
     ]
    }
   ],
   "source": [
    "difference1_laf = []\n",
    "\n",
    "zip_object = zip(temp, temp_crn)\n",
    "for temp_i, temp_crn_i in zip_object:\n",
    "    difference1_laf.append(temp_i-temp_crn_i)\n",
    "\n",
    "print(difference1_laf)"
   ]
  },
  {
   "cell_type": "markdown",
   "id": "7a8d079f",
   "metadata": {},
   "source": [
    "<font size=\"3\">Monroe, LA: 1500 UTC 22 March 2022-1500 UTC 23 March 2022</font>"
   ]
  },
  {
   "cell_type": "code",
   "execution_count": 11,
   "id": "f4c20224",
   "metadata": {},
   "outputs": [
    {
     "name": "stdout",
     "output_type": "stream",
     "text": [
      "[0.262, 0.262, 0.263, 0.263, 0.262, 0.256, 0.25, 0.248, 0.249, 0.249, 0.248, 0.245, 0.243, 0.24, 0.238, 0.237, 0.236, 0.235, 0.235, 0.234, 0.233, 0.233, 0.233, 0.233, 0.234]\n"
     ]
    }
   ],
   "source": [
    "#18 hr hrrr:\n",
    "with open('hrrr_f18_Monroe_LA.txt') as f:\n",
    "    lst=[line.split()[8] for line in f]\n",
    "    temp=[]\n",
    "    for i in lst:\n",
    "        new=i.replace(',',\"\")\n",
    "        temp.append(new)\n",
    "    temp.pop(0)\n",
    "    temp=[float(x) for x in temp]\n",
    "    #print(temp.index(6.91541))\n",
    "    temp=temp[1404:1429]\n",
    "    print(temp)\n",
    "    #print(len(temp))\n",
    "#full time period is [2015:2112]"
   ]
  },
  {
   "cell_type": "code",
   "execution_count": 12,
   "id": "5c3999a7",
   "metadata": {},
   "outputs": [
    {
     "name": "stdout",
     "output_type": "stream",
     "text": [
      "[0.347, 0.346, 0.348, 0.348, 0.344, 0.346, 0.345, 0.343, 0.346, 0.346, 0.345, 0.346, 0.347, 0.345, 0.345, 0.344, 0.342, 0.343, 0.342, 0.344, 0.345, 0.343, 0.343, 0.344, 0.344]\n"
     ]
    }
   ],
   "source": [
    "#Air Temp CRN:\n",
    "with open('CRNH0203-2022-LA_Monroe_26_N.txt') as f:\n",
    "    lst=[line.split()[28] for line in f]\n",
    "    #print(lst)\n",
    "    temp_crn=[]\n",
    "    for i in lst:\n",
    "        new=i.replace(',',\"\")\n",
    "        temp_crn.append(new)\n",
    "    temp_crn=[float(x) for x in temp_crn]\n",
    "    temp_crn=temp_crn[1421:1446]\n",
    "    print(temp_crn)\n",
    "    #print(len(temp_crn))\n",
    "    # print(temp_crn[2124])"
   ]
  },
  {
   "cell_type": "code",
   "execution_count": 13,
   "id": "2b4e383a",
   "metadata": {},
   "outputs": [
    {
     "name": "stdout",
     "output_type": "stream",
     "text": [
      "[-0.08499999999999996, -0.08399999999999996, -0.08499999999999996, -0.08499999999999996, -0.08199999999999996, -0.08999999999999997, -0.09499999999999997, -0.09500000000000003, -0.09699999999999998, -0.09699999999999998, -0.09699999999999998, -0.10099999999999998, -0.10399999999999998, -0.10499999999999998, -0.10699999999999998, -0.10699999999999998, -0.10600000000000004, -0.10800000000000004, -0.10700000000000004, -0.10999999999999996, -0.11199999999999996, -0.11000000000000001, -0.11000000000000001, -0.11099999999999996, -0.10999999999999996]\n"
     ]
    }
   ],
   "source": [
    "difference1_mon = []\n",
    "\n",
    "zip_object = zip(temp, temp_crn)\n",
    "for temp_i, temp_crn_i in zip_object:\n",
    "    difference1_mon.append(temp_i-temp_crn_i)\n",
    "\n",
    "print(difference1_mon)"
   ]
  },
  {
   "cell_type": "markdown",
   "id": "26c585ff",
   "metadata": {},
   "source": [
    "<font size=\"3\">Holly Springs, MS: 1800 UTC 22 March 2022-1800 UTC 23 March 2022</font>"
   ]
  },
  {
   "cell_type": "code",
   "execution_count": 14,
   "id": "41fed7a9",
   "metadata": {},
   "outputs": [
    {
     "name": "stdout",
     "output_type": "stream",
     "text": [
      "[0.289, 0.289, 0.289, 0.289, 0.287, 0.283, 0.28, 0.278, 0.277, 0.275, 0.271, 0.269, 0.266, 0.264, 0.261, 0.26, 0.259, 0.259, 0.26, 0.262, 0.264, 0.265, 0.265, 0.266, 0.266]\n"
     ]
    }
   ],
   "source": [
    "#18 hr hrrr:\n",
    "with open('hrrr_f18_Holly Springs_MS.txt') as f:\n",
    "    lst=[line.split()[8] for line in f]\n",
    "    temp=[]\n",
    "    for i in lst:\n",
    "        new=i.replace(',',\"\")\n",
    "        temp.append(new)\n",
    "    temp.pop(0)\n",
    "    temp=[float(x) for x in temp]\n",
    "    #print(temp.index(6.91541))\n",
    "    temp=temp[1404:1429]\n",
    "    print(temp)\n",
    "    #print(len(temp))\n",
    "#full time period is [2015:2112]"
   ]
  },
  {
   "cell_type": "code",
   "execution_count": 15,
   "id": "19a3055f",
   "metadata": {},
   "outputs": [
    {
     "name": "stdout",
     "output_type": "stream",
     "text": [
      "[0.422, 0.422, 0.421, 0.421, 0.42, 0.419, 0.419, 0.419, 0.418, 0.418, 0.418, 0.417, 0.416, 0.415, 0.413, 0.411, 0.411, 0.409, 0.407, 0.408, 0.429, 0.407, 0.407, 0.406, 0.406]\n"
     ]
    }
   ],
   "source": [
    "#Air Temp CRN:\n",
    "with open('CRNH0203-2022-MS_Holly_Springs_4_N.txt') as f:\n",
    "    lst=[line.split()[28] for line in f]\n",
    "    #print(lst)\n",
    "    temp_crn=[]\n",
    "    for i in lst:\n",
    "        new=i.replace(',',\"\")\n",
    "        temp_crn.append(new)\n",
    "    temp_crn=[float(x) for x in temp_crn]\n",
    "    temp_crn=temp_crn[1421:1446]\n",
    "    print(temp_crn)\n",
    "    #print(len(temp_crn))\n",
    "    # print(temp_crn[2124])"
   ]
  },
  {
   "cell_type": "code",
   "execution_count": 16,
   "id": "46b095cb",
   "metadata": {},
   "outputs": [
    {
     "name": "stdout",
     "output_type": "stream",
     "text": [
      "[-0.133, -0.133, -0.132, -0.132, -0.133, -0.136, -0.13899999999999996, -0.14099999999999996, -0.14099999999999996, -0.14299999999999996, -0.14699999999999996, -0.14799999999999996, -0.14999999999999997, -0.15099999999999997, -0.15199999999999997, -0.15099999999999997, -0.15199999999999997, -0.14999999999999997, -0.14699999999999996, -0.14599999999999996, -0.16499999999999998, -0.14199999999999996, -0.14199999999999996, -0.14, -0.14]\n"
     ]
    }
   ],
   "source": [
    "difference1_hol = []\n",
    "\n",
    "zip_object = zip(temp, temp_crn)\n",
    "for temp_i, temp_crn_i in zip_object:\n",
    "    difference1_hol.append(temp_i-temp_crn_i)\n",
    "\n",
    "print(difference1_hol)"
   ]
  },
  {
   "cell_type": "markdown",
   "id": "1c76c308",
   "metadata": {},
   "source": [
    "<font size=\"3\">Newton, MS: 1800 UTC 22 March 2022-1800 UTC 23 March 2022</font>"
   ]
  },
  {
   "cell_type": "code",
   "execution_count": 17,
   "id": "e8171095",
   "metadata": {},
   "outputs": [
    {
     "name": "stdout",
     "output_type": "stream",
     "text": [
      "[0.215, 0.215, 0.215, 0.214, 0.212, 0.21, 0.21, 0.21, 0.21, 0.21, 0.209, 0.209, 0.209, 0.209, 0.209, 0.209, 0.209, 0.208, 0.208, 0.209, 0.209, 0.209, 0.209, 0.209, 0.209]\n"
     ]
    }
   ],
   "source": [
    "#18 hr hrrr:\n",
    "with open('hrrr_f18_Newton_MS.txt') as f:\n",
    "    lst=[line.split()[8] for line in f]\n",
    "    temp=[]\n",
    "    for i in lst:\n",
    "        new=i.replace(',',\"\")\n",
    "        temp.append(new)\n",
    "    temp.pop(0)\n",
    "    temp=[float(x) for x in temp]\n",
    "    #print(temp.index(6.91541))\n",
    "    temp=temp[1404:1429]\n",
    "    print(temp)\n",
    "    #print(len(temp))\n",
    "#full time period is [2015:2112]"
   ]
  },
  {
   "cell_type": "code",
   "execution_count": 18,
   "id": "3fb09a0f",
   "metadata": {},
   "outputs": [
    {
     "name": "stdout",
     "output_type": "stream",
     "text": [
      "[0.329, 0.329, 0.329, 0.33, 0.33, 0.33, 0.33, 0.329, 0.33, 0.329, 0.329, 0.328, 0.327, 0.326, 0.325, 0.325, 0.324, 0.324, 0.324, 0.324, 0.324, 0.324, 0.324, 0.325, 0.324]\n"
     ]
    }
   ],
   "source": [
    "#Air Temp CRN:\n",
    "with open('CRNH0203-2022-MS_Newton_5_ENE.txt') as f:\n",
    "    lst=[line.split()[28] for line in f]\n",
    "    #print(lst)\n",
    "    temp_crn=[]\n",
    "    for i in lst:\n",
    "        new=i.replace(',',\"\")\n",
    "        temp_crn.append(new)\n",
    "    temp_crn=[float(x) for x in temp_crn]\n",
    "    temp_crn=temp_crn[1421:1446]\n",
    "    print(temp_crn)\n",
    "    #print(len(temp_crn))\n",
    "    # print(temp_crn[2124])"
   ]
  },
  {
   "cell_type": "code",
   "execution_count": 19,
   "id": "e588ab70",
   "metadata": {},
   "outputs": [
    {
     "name": "stdout",
     "output_type": "stream",
     "text": [
      "[-0.11400000000000002, -0.11400000000000002, -0.11400000000000002, -0.11600000000000002, -0.11800000000000002, -0.12000000000000002, -0.12000000000000002, -0.11900000000000002, -0.12000000000000002, -0.11900000000000002, -0.12000000000000002, -0.11900000000000002, -0.11800000000000002, -0.11700000000000002, -0.11600000000000002, -0.11600000000000002, -0.11500000000000002, -0.11600000000000002, -0.11600000000000002, -0.11500000000000002, -0.11500000000000002, -0.11500000000000002, -0.11500000000000002, -0.11600000000000002, -0.11500000000000002]\n"
     ]
    }
   ],
   "source": [
    "difference1_new = []\n",
    "\n",
    "zip_object = zip(temp, temp_crn)\n",
    "for temp_i, temp_crn_i in zip_object:\n",
    "    difference1_new.append(temp_i-temp_crn_i)\n",
    "\n",
    "print(difference1_new)"
   ]
  },
  {
   "cell_type": "markdown",
   "id": "c9620694",
   "metadata": {},
   "source": [
    "<font size=\"3\">Gainesville, AL: 2200 UTC 22 March 2022-2200 UTC 23 March 2022</font>"
   ]
  },
  {
   "cell_type": "code",
   "execution_count": 20,
   "id": "a16fb94f",
   "metadata": {},
   "outputs": [],
   "source": [
    "# #18 hr hrrr:\n",
    "# with open('hrrr_f18_Gainesville_AL (1).txt') as f:\n",
    "#     lst=[line.split()[8] for line in f]\n",
    "#     temp=[]\n",
    "#     for i in lst:\n",
    "#         new=i.replace(',',\"\")\n",
    "#         temp.append(new)\n",
    "#     temp.pop(0)\n",
    "#     temp=[float(x) for x in temp]\n",
    "#     #print(temp.index(6.91541))\n",
    "#     temp=temp[1404:1429]\n",
    "#     print(temp)\n",
    "#     #print(len(temp))\n",
    "# #full time period is [2015:2112]"
   ]
  },
  {
   "cell_type": "code",
   "execution_count": 21,
   "id": "2c97e541",
   "metadata": {},
   "outputs": [],
   "source": [
    "# #Air Temp CRN:\n",
    "# with open('CRNH0203-2022-AL_Gainesville_2_NE.txt') as f:\n",
    "#     lst=[line.split()[28] for line in f]\n",
    "#     #print(lst)\n",
    "#     temp_crn=[]\n",
    "#     for i in lst:\n",
    "#         new=i.replace(',',\"\")\n",
    "#         temp_crn.append(new)\n",
    "#     temp_crn=[float(x) for x in temp_crn]\n",
    "#     temp_crn=temp_crn[1421:1446]\n",
    "#     print(temp_crn)\n",
    "#     #print(len(temp_crn))\n",
    "#     # print(temp_crn[2124])"
   ]
  },
  {
   "cell_type": "code",
   "execution_count": 22,
   "id": "8df76a7b",
   "metadata": {},
   "outputs": [],
   "source": [
    "# difference1_gai = []\n",
    "\n",
    "# zip_object = zip(temp, temp_crn)\n",
    "# for temp_i, temp_crn_i in zip_object:\n",
    "#     difference1_gai.append(temp_i-temp_crn_i)\n",
    "\n",
    "# print(difference1_gai)"
   ]
  },
  {
   "cell_type": "markdown",
   "id": "2711dc15",
   "metadata": {},
   "source": [
    "<font size=\"3\">Fairhope, AL: 2200 UTC 22 March 2022-2200 UTC 23 March 2022</font>"
   ]
  },
  {
   "cell_type": "code",
   "execution_count": 23,
   "id": "e9eb20f7",
   "metadata": {},
   "outputs": [
    {
     "name": "stdout",
     "output_type": "stream",
     "text": [
      "[0.209, 0.209, 0.209, 0.209, 0.209, 0.209, 0.209, 0.209, 0.21, 0.21, 0.21, 0.21, 0.209, 0.209, 0.209, 0.209, 0.209, 0.209, 0.209, 0.209, 0.209, 0.209, 0.208, 0.208, 0.209]\n"
     ]
    }
   ],
   "source": [
    "#18 hr hrrr:\n",
    "with open('hrrr_f18_Fairhope_AL.txt') as f:\n",
    "    lst=[line.split()[8] for line in f]\n",
    "    temp=[]\n",
    "    for i in lst:\n",
    "        new=i.replace(',',\"\")\n",
    "        temp.append(new)\n",
    "    temp.pop(0)\n",
    "    temp=[float(x) for x in temp]\n",
    "    #print(temp.index(6.91541))\n",
    "    temp=temp[1404:1429]\n",
    "    print(temp)\n",
    "    #print(len(temp))\n",
    "#full time period is [2015:2112]"
   ]
  },
  {
   "cell_type": "code",
   "execution_count": 24,
   "id": "4df09785",
   "metadata": {},
   "outputs": [
    {
     "name": "stdout",
     "output_type": "stream",
     "text": [
      "[0.175, 0.175, 0.175, 0.175, 0.175, 0.176, 0.177, 0.175, 0.176, 0.175, 0.176, 0.175, 0.173, 0.173, 0.174, 0.174, 0.174, 0.174, 0.173, 0.173, 0.175, 0.173, 0.174, 0.172, 0.174]\n"
     ]
    }
   ],
   "source": [
    "#Air Temp CRN:\n",
    "with open('CRNH0203-2022-AL_Fairhope_3_NE.txt') as f:\n",
    "    lst=[line.split()[28] for line in f]\n",
    "    #print(lst)\n",
    "    temp_crn=[]\n",
    "    for i in lst:\n",
    "        new=i.replace(',',\"\")\n",
    "        temp_crn.append(new)\n",
    "    temp_crn=[float(x) for x in temp_crn]\n",
    "    temp_crn=temp_crn[1421:1446]\n",
    "    print(temp_crn)\n",
    "    #print(len(temp_crn))\n",
    "    # print(temp_crn[2124])"
   ]
  },
  {
   "cell_type": "code",
   "execution_count": 25,
   "id": "a9ff3306",
   "metadata": {},
   "outputs": [
    {
     "name": "stdout",
     "output_type": "stream",
     "text": [
      "[0.034, 0.034, 0.034, 0.034, 0.034, 0.033, 0.032, 0.034, 0.034, 0.035, 0.034, 0.035, 0.036000000000000004, 0.036000000000000004, 0.035, 0.035, 0.035, 0.035, 0.036000000000000004, 0.036000000000000004, 0.034, 0.036000000000000004, 0.034, 0.036000000000000004, 0.035]\n"
     ]
    }
   ],
   "source": [
    "difference1_fai = []\n",
    "\n",
    "zip_object = zip(temp, temp_crn)\n",
    "for temp_i, temp_crn_i in zip_object:\n",
    "    difference1_fai.append(temp_i-temp_crn_i)\n",
    "\n",
    "print(difference1_fai)"
   ]
  },
  {
   "cell_type": "markdown",
   "id": "f5dd4e4b",
   "metadata": {},
   "source": [
    "<font size=\"3\">**Selma, AL: 2200 UTC 22 March 2022-2200 UTC 23 March 2022</font>"
   ]
  },
  {
   "cell_type": "code",
   "execution_count": 26,
   "id": "af6b46b1",
   "metadata": {},
   "outputs": [
    {
     "name": "stdout",
     "output_type": "stream",
     "text": [
      "[0.175, 0.176, 0.178, 0.178, 0.179, 0.179, 0.18, 0.18, 0.181, 0.179, 0.178, 0.177, 0.175, 0.174, 0.174, 0.173, 0.173, 0.173, 0.172, 0.172, 0.172, 0.171, 0.171, 0.171, 0.171]\n",
      "[0.46, 0.46, 0.461, 0.46, 0.461, 0.461, 0.46, 0.461, 0.46, 0.462, 0.458, 0.458, 0.455, 0.453, 0.45, 0.449, 0.448, 0.448, 0.447, 0.449, 0.451, 0.45, 0.451, 0.453, 0.453]\n",
      "[-0.28500000000000003, -0.28400000000000003, -0.28300000000000003, -0.28200000000000003, -0.28200000000000003, -0.28200000000000003, -0.28, -0.281, -0.279, -0.28300000000000003, -0.28, -0.281, -0.28, -0.279, -0.276, -0.276, -0.275, -0.275, -0.275, -0.277, -0.279, -0.279, -0.28, -0.28200000000000003, -0.28200000000000003]\n",
      "25\n"
     ]
    }
   ],
   "source": [
    "import numpy as np\n",
    "import numpy.ma as ma\n",
    "#18 hr hrrr:\n",
    "with open('hrrr_f18_Selma_AL.txt') as f:\n",
    "    lst=[line.split()[8] for line in f]\n",
    "    temp=[]\n",
    "    for i in lst:\n",
    "        new=i.replace(',',\"\")\n",
    "        temp.append(new)\n",
    "    temp.pop(0)\n",
    "    temp=[float(x) for x in temp]\n",
    "    #print(temp.index(6.91541))\n",
    "    temp=temp[1404:1429]\n",
    "\n",
    "#     x = np.array(temp)\n",
    "#     temp = ma.masked_array(x, mask=[0, 0, 0, 0, 0,0,0,0,0,0,0,0,0,0,0,0,0,1,1,1,1,0,0,0,0])\n",
    "    #print(temp)\n",
    "#Air Temp CRN:\n",
    "with open('CRNH0203-2022-AL_Selma_13_WNW.txt') as f:\n",
    "    lst=[line.split()[28] for line in f]\n",
    "    #print(lst)\n",
    "    temp_crn=[]\n",
    "    for i in lst:\n",
    "        new=i.replace(',',\"\")\n",
    "        temp_crn.append(new)\n",
    "    temp_crn=[float(x) for x in temp_crn]\n",
    "    temp_crn=temp_crn[1421:1446]\n",
    "#     y = np.array(temp_crn)\n",
    "#     temp_crn = ma.masked_array(y, mask=[0, 0, 0, 0, 0,0,0,0,0,0,0,0,0,0,0,0,0,1,1,1,1,0,0,0,0])\n",
    "    print(temp)\n",
    "    #print(len(temp))\n",
    "    print(temp_crn)\n",
    "    #print(len(temp_crn))\n",
    "#full time period is [2015:2112]\n",
    "difference1_sel = []\n",
    "\n",
    "zip_object = zip(temp, temp_crn)\n",
    "for temp_i, temp_crn_i in zip_object:\n",
    "    difference1_sel.append(temp_i-temp_crn_i)\n",
    "\n",
    "print(difference1_sel)\n",
    "print(len(difference1_sel))"
   ]
  },
  {
   "cell_type": "markdown",
   "id": "8fab4bdc",
   "metadata": {},
   "source": [
    "<font size=\"3\">Bowling Green, KY: 2300 UTC 22 March 2022-2300 UTC 23 March 2022</font>"
   ]
  },
  {
   "cell_type": "code",
   "execution_count": 27,
   "id": "1caf0dec",
   "metadata": {},
   "outputs": [
    {
     "name": "stdout",
     "output_type": "stream",
     "text": [
      "[0.219, 0.219, 0.22, 0.221, 0.222, 0.22, 0.217, 0.215, 0.214, 0.211, 0.212, 0.211, 0.211, 0.211, 0.211, 0.211, 0.211, 0.212, 0.212, 0.212, 0.213, 0.213, 0.213, 0.213, 0.213]\n"
     ]
    }
   ],
   "source": [
    "#18 hr hrrr:\n",
    "with open('hrrr_f18_Bowling Green_KY.txt') as f:\n",
    "    lst=[line.split()[8] for line in f]\n",
    "    temp=[]\n",
    "    for i in lst:\n",
    "        new=i.replace(',',\"\")\n",
    "        temp.append(new)\n",
    "    temp.pop(0)\n",
    "    temp=[float(x) for x in temp]\n",
    "    #print(temp.index(6.91541))\n",
    "    temp=temp[1404:1429]\n",
    "    print(temp)\n",
    "    #print(len(temp))\n",
    "#full time period is [2015:2112]"
   ]
  },
  {
   "cell_type": "code",
   "execution_count": 28,
   "id": "b9e25e31",
   "metadata": {},
   "outputs": [
    {
     "name": "stdout",
     "output_type": "stream",
     "text": [
      "[0.371, 0.371, 0.371, 0.371, 0.371, 0.371, 0.371, 0.371, 0.371, 0.371, 0.37, 0.369, 0.368, 0.368, 0.367, 0.365, 0.365, 0.365, 0.364, 0.365, 0.364, 0.365, 0.364, 0.364, 0.364]\n"
     ]
    }
   ],
   "source": [
    "#Air Temp CRN:\n",
    "with open('CRNH0203-2022-KY_Bowling_Green_21_NNE.txt') as f:\n",
    "    lst=[line.split()[28] for line in f]\n",
    "    #print(lst)\n",
    "    temp_crn=[]\n",
    "    for i in lst:\n",
    "        new=i.replace(',',\"\")\n",
    "        temp_crn.append(new)\n",
    "    temp_crn=[float(x) for x in temp_crn]\n",
    "    temp_crn=temp_crn[1421:1446]\n",
    "    print(temp_crn)\n",
    "    #print(len(temp_crn))\n",
    "    # print(temp_crn[2124])"
   ]
  },
  {
   "cell_type": "code",
   "execution_count": 29,
   "id": "c1e72531",
   "metadata": {},
   "outputs": [
    {
     "name": "stdout",
     "output_type": "stream",
     "text": [
      "[-0.152, -0.152, -0.151, -0.15, -0.149, -0.151, -0.154, -0.156, -0.157, -0.16, -0.158, -0.158, -0.157, -0.157, -0.156, -0.154, -0.154, -0.153, -0.152, -0.153, -0.151, -0.152, -0.151, -0.151, -0.151]\n"
     ]
    }
   ],
   "source": [
    "difference1_bow = []\n",
    "\n",
    "zip_object = zip(temp, temp_crn)\n",
    "for temp_i, temp_crn_i in zip_object:\n",
    "    difference1_bow.append(temp_i-temp_crn_i)\n",
    "\n",
    "print(difference1_bow)"
   ]
  },
  {
   "cell_type": "markdown",
   "id": "d1be2cc0",
   "metadata": {},
   "source": [
    "<font size=\"3\">Gadsden, AL: 0100 UTC 23 March 2022-0100 UTC 24 March 2022</font>"
   ]
  },
  {
   "cell_type": "code",
   "execution_count": 30,
   "id": "03235bce",
   "metadata": {},
   "outputs": [
    {
     "name": "stdout",
     "output_type": "stream",
     "text": [
      "[0.292 0.292 0.292 0.292 0.285 0.28 0.273 0.267 -- 0.251 0.251 0.25 0.25\n",
      " 0.249 0.249 0.249 0.249 0.249 0.249 0.249 0.249 0.248 0.248 0.248 0.248]\n"
     ]
    }
   ],
   "source": [
    "#18 hr hrrr:\n",
    "with open('hrrr_f18_Gadsden_AL.txt') as f:\n",
    "    lst=[line.split()[8] for line in f]\n",
    "    temp=[]\n",
    "    for i in lst:\n",
    "        new=i.replace(',',\"\")\n",
    "        temp.append(new)\n",
    "    temp.pop(0)\n",
    "    temp=[float(x) for x in temp]\n",
    "    #print(temp.index(6.91541))\n",
    "    temp=temp[1404:1429]\n",
    "    x = np.array(temp)\n",
    "    temp = ma.masked_array(x, mask=[0, 0, 0, 0, 0,0,0,0,1,0,0,0,0,0,0,0,0,0,0,0,0,0,0,0,0])\n",
    "    print(temp)\n",
    "    #print(len(temp))\n",
    "#full time period is [2015:2112]"
   ]
  },
  {
   "cell_type": "code",
   "execution_count": 31,
   "id": "eb5f934d",
   "metadata": {},
   "outputs": [
    {
     "name": "stdout",
     "output_type": "stream",
     "text": [
      "[0.322 0.321 0.32 0.32 0.32 0.319 0.318 0.318 -- 0.317 0.316 0.315 0.314\n",
      " 0.312 0.31 0.31 0.308 0.307 0.307 0.306 0.306 0.306 0.306 0.305 0.305]\n"
     ]
    }
   ],
   "source": [
    "#Air Temp CRN:\n",
    "with open('CRNH0203-2022-AL_Gadsden_19_N.txt') as f:\n",
    "    lst=[line.split()[28] for line in f]\n",
    "    #print(lst)\n",
    "    temp_crn=[]\n",
    "    for i in lst:\n",
    "        new=i.replace(',',\"\")\n",
    "        temp_crn.append(new)\n",
    "    temp_crn=[float(x) for x in temp_crn]\n",
    "    temp_crn=temp_crn[1421:1446]\n",
    "    y = np.array(temp_crn)\n",
    "    temp_crn = ma.masked_array(y, mask=[0, 0, 0, 0, 0,0,0,0,1,0,0,0,0,0,0,0,0,0,0,0,0,0,0,0,0])\n",
    "    print(temp_crn)\n",
    "    #print(len(temp_crn))\n",
    "    # print(temp_crn[2124])"
   ]
  },
  {
   "cell_type": "code",
   "execution_count": 32,
   "id": "c002ac76",
   "metadata": {},
   "outputs": [
    {
     "name": "stdout",
     "output_type": "stream",
     "text": [
      "[-0.030000000000000027, -0.029000000000000026, -0.028000000000000025, -0.028000000000000025, -0.03500000000000003, -0.03899999999999998, -0.044999999999999984, -0.05099999999999999, masked, -0.066, -0.065, -0.065, -0.064, -0.063, -0.061, -0.061, -0.059, -0.057999999999999996, -0.057999999999999996, -0.056999999999999995, -0.056999999999999995, -0.057999999999999996, -0.057999999999999996, -0.056999999999999995, -0.056999999999999995]\n"
     ]
    }
   ],
   "source": [
    "difference1_gad = []\n",
    "\n",
    "zip_object = zip(temp, temp_crn)\n",
    "for temp_i, temp_crn_i in zip_object:\n",
    "    difference1_gad.append(temp_i-temp_crn_i)\n",
    "\n",
    "print(difference1_gad)"
   ]
  },
  {
   "cell_type": "markdown",
   "id": "d430f7c6",
   "metadata": {},
   "source": [
    "<font size=\"3\">Newton, GA: 0900 UTC 23 March 2022-0900 UTC 24 March 2022</font>"
   ]
  },
  {
   "cell_type": "code",
   "execution_count": 33,
   "id": "13ffdd24",
   "metadata": {},
   "outputs": [
    {
     "name": "stdout",
     "output_type": "stream",
     "text": [
      "[0.209, 0.21, 0.21, 0.21, 0.214, 0.218, 0.22, 0.22, 0.22, 0.219, 0.219, 0.219, 0.219, 0.218, 0.218, 0.218, 0.218, 0.218, 0.218, 0.218, 0.218, 0.218, 0.218, 0.218, 0.217]\n"
     ]
    }
   ],
   "source": [
    "#18 hr hrrr:\n",
    "with open('hrrr_f18_Newton_GA.txt') as f:\n",
    "    lst=[line.split()[8] for line in f]\n",
    "    temp=[]\n",
    "    for i in lst:\n",
    "        new=i.replace(',',\"\")\n",
    "        temp.append(new)\n",
    "    temp.pop(0)\n",
    "    temp=[float(x) for x in temp]\n",
    "    #print(temp.index(6.91541))\n",
    "    temp=temp[1404:1429]\n",
    "    print(temp)\n",
    "    #print(len(temp))\n",
    "#full time period is [2015:2112]"
   ]
  },
  {
   "cell_type": "code",
   "execution_count": 34,
   "id": "9851cf85",
   "metadata": {},
   "outputs": [
    {
     "name": "stdout",
     "output_type": "stream",
     "text": [
      "[0.165, 0.166, 0.165, 0.165, 0.166, 0.166, 0.166, 0.166, 0.166, 0.166, 0.165, 0.164, 0.164, 0.163, 0.163, 0.161, 0.162, 0.161, 0.162, 0.164, 0.164, 0.165, 0.165, 0.163, 0.164]\n"
     ]
    }
   ],
   "source": [
    "#Air Temp CRN:\n",
    "with open('CRNH0203-2022-GA_Newton_11_SW.txt') as f:\n",
    "    lst=[line.split()[28] for line in f]\n",
    "    #print(lst)\n",
    "    temp_crn=[]\n",
    "    for i in lst:\n",
    "        new=i.replace(',',\"\")\n",
    "        temp_crn.append(new)\n",
    "    temp_crn=[float(x) for x in temp_crn]\n",
    "    temp_crn=temp_crn[1421:1446]\n",
    "    print(temp_crn)\n",
    "    #print(len(temp_crn))\n",
    "    # print(temp_crn[2124])"
   ]
  },
  {
   "cell_type": "code",
   "execution_count": 35,
   "id": "f2141c03",
   "metadata": {},
   "outputs": [
    {
     "name": "stdout",
     "output_type": "stream",
     "text": [
      "[0.043999999999999984, 0.043999999999999984, 0.044999999999999984, 0.044999999999999984, 0.04799999999999999, 0.05199999999999999, 0.05399999999999999, 0.05399999999999999, 0.05399999999999999, 0.05299999999999999, 0.05399999999999999, 0.05499999999999999, 0.05499999999999999, 0.05499999999999999, 0.05499999999999999, 0.056999999999999995, 0.055999999999999994, 0.056999999999999995, 0.055999999999999994, 0.05399999999999999, 0.05399999999999999, 0.05299999999999999, 0.05299999999999999, 0.05499999999999999, 0.05299999999999999]\n"
     ]
    }
   ],
   "source": [
    "difference1_newt = []\n",
    "\n",
    "zip_object = zip(temp, temp_crn)\n",
    "for temp_i, temp_crn_i in zip_object:\n",
    "    difference1_newt.append(temp_i-temp_crn_i)\n",
    "\n",
    "print(difference1_newt)"
   ]
  },
  {
   "cell_type": "markdown",
   "id": "ab4663ab",
   "metadata": {},
   "source": [
    "<font size=\"3\">Salem, MO: 1300 UTC 30 March 2022-1300 UTC 31 March 2022</font>"
   ]
  },
  {
   "cell_type": "code",
   "execution_count": 36,
   "id": "99a04d39",
   "metadata": {},
   "outputs": [
    {
     "name": "stdout",
     "output_type": "stream",
     "text": [
      "[0.206, 0.206, 0.205, 0.205, 0.205, 0.206, 0.21, 0.213, 0.212, 0.212, 0.211, 0.211, 0.211, 0.21, 0.21, 0.21, 0.21, 0.21, 0.21, 0.21, 0.21, 0.21, 0.21, 0.21, 0.209]\n"
     ]
    }
   ],
   "source": [
    "#18 hr hrrr:\n",
    "with open('hrrr_f18_Salem_MO.txt') as f:\n",
    "    lst=[line.split()[8] for line in f]\n",
    "    temp=[]\n",
    "    for i in lst:\n",
    "        new=i.replace(',',\"\")\n",
    "        temp.append(new)\n",
    "    temp.pop(0)\n",
    "    temp=[float(x) for x in temp]\n",
    "    #print(temp.index(6.91541))\n",
    "    temp=temp[1692:1717]\n",
    "    print(temp)\n",
    "    #print(len(temp))\n",
    "#full time period is [2015:2112]"
   ]
  },
  {
   "cell_type": "code",
   "execution_count": 37,
   "id": "01b4011e",
   "metadata": {},
   "outputs": [
    {
     "name": "stdout",
     "output_type": "stream",
     "text": [
      "[0.307, 0.306, 0.306, 0.306, 0.306, 0.307, 0.306, 0.306, 0.306, 0.307, 0.308, 0.308, 0.307, 0.306, 0.305, 0.304, 0.304, 0.303, 0.303, 0.304, 0.303, 0.304, 0.304, 0.303, 0.303]\n"
     ]
    }
   ],
   "source": [
    "#Air Temp CRN:\n",
    "with open('CRNH0203-2022-MO_Salem_10_W.txt') as f:\n",
    "    lst=[line.split()[28] for line in f]\n",
    "    #print(lst)\n",
    "    temp_crn=[]\n",
    "    for i in lst:\n",
    "        new=i.replace(',',\"\")\n",
    "        temp_crn.append(new)\n",
    "    temp_crn=[float(x) for x in temp_crn]\n",
    "    temp_crn=temp_crn[1709:1734]\n",
    "    print(temp_crn)\n",
    "    #print(len(temp_crn))\n",
    "    # print(temp_crn[2124])"
   ]
  },
  {
   "cell_type": "code",
   "execution_count": 38,
   "id": "e426b6a3",
   "metadata": {},
   "outputs": [
    {
     "name": "stdout",
     "output_type": "stream",
     "text": [
      "[-0.101, -0.1, -0.101, -0.101, -0.101, -0.101, -0.096, -0.093, -0.094, -0.095, -0.097, -0.097, -0.096, -0.096, -0.095, -0.094, -0.094, -0.093, -0.093, -0.094, -0.093, -0.094, -0.094, -0.093, -0.094]\n"
     ]
    }
   ],
   "source": [
    "difference2_sal = []\n",
    "\n",
    "zip_object = zip(temp, temp_crn)\n",
    "for temp_i, temp_crn_i in zip_object:\n",
    "    difference2_sal.append(temp_i-temp_crn_i)\n",
    "\n",
    "print(difference2_sal)"
   ]
  },
  {
   "cell_type": "markdown",
   "id": "e17a19ca",
   "metadata": {},
   "source": [
    "<font size=\"3\">Batesville, AR: 1300 UTC 30 March 2022-1300 UTC 31 March 2022</font>"
   ]
  },
  {
   "cell_type": "code",
   "execution_count": 39,
   "id": "eba099f6",
   "metadata": {},
   "outputs": [
    {
     "name": "stdout",
     "output_type": "stream",
     "text": [
      "[0.213, 0.213, 0.213, 0.214, 0.214, 0.22, 0.221, 0.23, 0.23, 0.229, 0.228, 0.226, 0.224, 0.222, 0.22, 0.219, 0.218, 0.217, 0.216, 0.215, 0.214, 0.214, 0.214, 0.214, 0.214]\n"
     ]
    }
   ],
   "source": [
    "#18 hr hrrr:\n",
    "with open('hrrr_f18_Batesville_AR.txt') as f:\n",
    "    lst=[line.split()[8] for line in f]\n",
    "    temp=[]\n",
    "    for i in lst:\n",
    "        new=i.replace(',',\"\")\n",
    "        temp.append(new)\n",
    "    temp.pop(0)\n",
    "    temp=[float(x) for x in temp]\n",
    "    #print(temp.index(6.91541))\n",
    "    temp=temp[1692:1717]\n",
    "    print(temp)\n",
    "    #print(len(temp))\n",
    "#full time period is [2015:2112]"
   ]
  },
  {
   "cell_type": "code",
   "execution_count": 40,
   "id": "2dcc93c0",
   "metadata": {},
   "outputs": [
    {
     "name": "stdout",
     "output_type": "stream",
     "text": [
      "[0.346, 0.345, 0.345, 0.344, 0.344, 0.344, 0.343, 0.343, 0.343, 0.342, 0.341, 0.34, 0.338, 0.336, 0.335, 0.332, 0.331, 0.329, 0.329, 0.328, 0.328, 0.327, 0.327, 0.327, 0.326]\n"
     ]
    }
   ],
   "source": [
    "#Air Temp CRN:\n",
    "with open('CRNH0203-2022-AR_Batesville_8_WNW.txt') as f:\n",
    "    lst=[line.split()[28] for line in f]\n",
    "    #print(lst)\n",
    "    temp_crn=[]\n",
    "    for i in lst:\n",
    "        new=i.replace(',',\"\")\n",
    "        temp_crn.append(new)\n",
    "    temp_crn=[float(x) for x in temp_crn]\n",
    "    temp_crn=temp_crn[1709:1734]\n",
    "    print(temp_crn)\n",
    "    #print(len(temp_crn))\n",
    "    # print(temp_crn[2124])"
   ]
  },
  {
   "cell_type": "code",
   "execution_count": 41,
   "id": "12f91aa0",
   "metadata": {},
   "outputs": [
    {
     "name": "stdout",
     "output_type": "stream",
     "text": [
      "[-0.13299999999999998, -0.13199999999999998, -0.13199999999999998, -0.12999999999999998, -0.12999999999999998, -0.12399999999999997, -0.12200000000000003, -0.11300000000000002, -0.11300000000000002, -0.11300000000000002, -0.11300000000000002, -0.11400000000000002, -0.11400000000000002, -0.11400000000000002, -0.11500000000000002, -0.11300000000000002, -0.11300000000000002, -0.11200000000000002, -0.11300000000000002, -0.11300000000000002, -0.11400000000000002, -0.11300000000000002, -0.11300000000000002, -0.11300000000000002, -0.11200000000000002]\n"
     ]
    }
   ],
   "source": [
    "difference2_bat = []\n",
    "\n",
    "zip_object = zip(temp, temp_crn)\n",
    "for temp_i, temp_crn_i in zip_object:\n",
    "    difference2_bat.append(temp_i-temp_crn_i)\n",
    "\n",
    "print(difference2_bat)"
   ]
  },
  {
   "cell_type": "markdown",
   "id": "0b95ca71",
   "metadata": {},
   "source": [
    "<font size=\"3\">Lafayette, LA: 1700 UTC 30 March 2022-1700 UTC 31 March 2022</font>"
   ]
  },
  {
   "cell_type": "code",
   "execution_count": 42,
   "id": "26376511",
   "metadata": {},
   "outputs": [
    {
     "name": "stdout",
     "output_type": "stream",
     "text": [
      "[0.128, 0.128, 0.122, 0.116, 0.104, 0.104, 0.104, 0.104, 0.104, 0.104, 0.104, 0.104, 0.104, 0.104, 0.104, 0.104, 0.104, 0.104, 0.104, 0.104, 0.104, 0.104, 0.104, 0.104, 0.104]\n"
     ]
    }
   ],
   "source": [
    "#18 hr hrrr:\n",
    "with open('hrrr_f18_Lafayette_LA.txt') as f:\n",
    "    lst=[line.split()[8] for line in f]\n",
    "    temp=[]\n",
    "    for i in lst:\n",
    "        new=i.replace(',',\"\")\n",
    "        temp.append(new)\n",
    "    temp.pop(0)\n",
    "    temp=[float(x) for x in temp]\n",
    "    #print(temp.index(6.91541))\n",
    "    temp=temp[1692:1717]\n",
    "    print(temp)\n",
    "    #print(len(temp))\n",
    "#full time period is [2015:2112]"
   ]
  },
  {
   "cell_type": "code",
   "execution_count": 43,
   "id": "16943c4f",
   "metadata": {},
   "outputs": [
    {
     "name": "stdout",
     "output_type": "stream",
     "text": [
      "[0.363, 0.362, 0.362, 0.362, 0.362, 0.361, 0.362, 0.362, 0.361, 0.362, 0.362, 0.361, 0.361, 0.361, 0.361, 0.362, 0.361, 0.36, 0.361, 0.36, 0.361, 0.361, 0.361, 0.361, 0.361]\n"
     ]
    }
   ],
   "source": [
    "#Air Temp CRN:\n",
    "with open('CRNH0203-2022-LA_Lafayette_13_SE.txt') as f:\n",
    "    lst=[line.split()[28] for line in f]\n",
    "    #print(lst)\n",
    "    temp_crn=[]\n",
    "    for i in lst:\n",
    "        new=i.replace(',',\"\")\n",
    "        temp_crn.append(new)\n",
    "    temp_crn=[float(x) for x in temp_crn]\n",
    "    temp_crn=temp_crn[1709:1734]\n",
    "    print(temp_crn)\n",
    "    #print(len(temp_crn))\n",
    "    # print(temp_crn[2124])"
   ]
  },
  {
   "cell_type": "code",
   "execution_count": 44,
   "id": "ad9e49f7",
   "metadata": {},
   "outputs": [
    {
     "name": "stdout",
     "output_type": "stream",
     "text": [
      "[-0.235, -0.23399999999999999, -0.24, -0.246, -0.258, -0.257, -0.258, -0.258, -0.257, -0.258, -0.258, -0.257, -0.257, -0.257, -0.257, -0.258, -0.257, -0.256, -0.257, -0.256, -0.257, -0.257, -0.257, -0.257, -0.257]\n"
     ]
    }
   ],
   "source": [
    "difference2_laf = []\n",
    "\n",
    "zip_object = zip(temp, temp_crn)\n",
    "for temp_i, temp_crn_i in zip_object:\n",
    "    difference2_laf.append(temp_i-temp_crn_i)\n",
    "\n",
    "print(difference2_laf)"
   ]
  },
  {
   "cell_type": "markdown",
   "id": "5bdd017c",
   "metadata": {},
   "source": [
    "<font size=\"3\">Monroe, LA: 1700 UTC 30 March 2022-1700 UTC 31 March 2022</font>"
   ]
  },
  {
   "cell_type": "code",
   "execution_count": 45,
   "id": "5ef5ec6e",
   "metadata": {},
   "outputs": [
    {
     "name": "stdout",
     "output_type": "stream",
     "text": [
      "[0.213, 0.213, 0.213, 0.212, 0.212, 0.212, 0.211, 0.211, 0.211, 0.21, 0.21, 0.21, 0.21, 0.209, 0.209, 0.209, 0.209, 0.209, 0.209, 0.209, 0.209, 0.209, 0.21, 0.21, 0.21]\n"
     ]
    }
   ],
   "source": [
    "#18 hr hrrr:\n",
    "with open('hrrr_f18_Monroe_LA.txt') as f:\n",
    "    lst=[line.split()[8] for line in f]\n",
    "    temp=[]\n",
    "    for i in lst:\n",
    "        new=i.replace(',',\"\")\n",
    "        temp.append(new)\n",
    "    temp.pop(0)\n",
    "    temp=[float(x) for x in temp]\n",
    "    #print(temp.index(6.91541))\n",
    "    temp=temp[1692:1717]\n",
    "    print(temp)\n",
    "    #print(len(temp))\n",
    "#full time period is [2015:2112]"
   ]
  },
  {
   "cell_type": "code",
   "execution_count": 46,
   "id": "4d3f3d6e",
   "metadata": {},
   "outputs": [
    {
     "name": "stdout",
     "output_type": "stream",
     "text": [
      "[0.346, 0.348, 0.348, 0.349, 0.347, 0.348, 0.346, 0.347, 0.345, 0.349, 0.347, 0.35, 0.345, 0.346, 0.344, 0.344, 0.344, 0.344, 0.345, 0.344, 0.345, 0.346, 0.344, 0.345, 0.345]\n"
     ]
    }
   ],
   "source": [
    "#Air Temp CRN:\n",
    "with open('CRNH0203-2022-LA_Monroe_26_N.txt') as f:\n",
    "    lst=[line.split()[28] for line in f]\n",
    "    #print(lst)\n",
    "    temp_crn=[]\n",
    "    for i in lst:\n",
    "        new=i.replace(',',\"\")\n",
    "        temp_crn.append(new)\n",
    "    temp_crn=[float(x) for x in temp_crn]\n",
    "    temp_crn=temp_crn[1709:1734]\n",
    "    print(temp_crn)\n",
    "    #print(len(temp_crn))\n",
    "    # print(temp_crn[2124])"
   ]
  },
  {
   "cell_type": "code",
   "execution_count": 47,
   "id": "178b8e52",
   "metadata": {},
   "outputs": [
    {
     "name": "stdout",
     "output_type": "stream",
     "text": [
      "[-0.13299999999999998, -0.13499999999999998, -0.13499999999999998, -0.13699999999999998, -0.13499999999999998, -0.13599999999999998, -0.13499999999999998, -0.13599999999999998, -0.13399999999999998, -0.13899999999999998, -0.13699999999999998, -0.13999999999999999, -0.13499999999999998, -0.13699999999999998, -0.13499999999999998, -0.13499999999999998, -0.13499999999999998, -0.13499999999999998, -0.13599999999999998, -0.13499999999999998, -0.13599999999999998, -0.13699999999999998, -0.13399999999999998, -0.13499999999999998, -0.13499999999999998]\n"
     ]
    }
   ],
   "source": [
    "difference2_mon = []\n",
    "\n",
    "zip_object = zip(temp, temp_crn)\n",
    "for temp_i, temp_crn_i in zip_object:\n",
    "    difference2_mon.append(temp_i-temp_crn_i)\n",
    "\n",
    "print(difference2_mon)"
   ]
  },
  {
   "cell_type": "markdown",
   "id": "3e401515",
   "metadata": {},
   "source": [
    "<font size=\"3\">Holly Springs, MS: 2000 UTC 30 March 2022-2000 UTC 31 March 2022</font>"
   ]
  },
  {
   "cell_type": "code",
   "execution_count": 48,
   "id": "d634b795",
   "metadata": {},
   "outputs": [
    {
     "name": "stdout",
     "output_type": "stream",
     "text": [
      "[0.213, 0.213, 0.213, 0.213, 0.213, 0.213, 0.213, 0.213, 0.212, 0.212, 0.212, 0.211, 0.211, 0.211, 0.211, 0.21, 0.211, 0.211, 0.211, 0.211, 0.211, 0.211, 0.211, 0.211, 0.211]\n"
     ]
    }
   ],
   "source": [
    "#18 hr hrrr:\n",
    "with open('hrrr_f18_Holly Springs_MS.txt') as f:\n",
    "    lst=[line.split()[8] for line in f]\n",
    "    temp=[]\n",
    "    for i in lst:\n",
    "        new=i.replace(',',\"\")\n",
    "        temp.append(new)\n",
    "    temp.pop(0)\n",
    "    temp=[float(x) for x in temp]\n",
    "    #print(temp.index(6.91541))\n",
    "    temp=temp[1692:1717]\n",
    "    print(temp)\n",
    "    #print(len(temp))\n",
    "#full time period is [2015:2112]"
   ]
  },
  {
   "cell_type": "code",
   "execution_count": 49,
   "id": "cc96dac3",
   "metadata": {},
   "outputs": [
    {
     "name": "stdout",
     "output_type": "stream",
     "text": [
      "[0.432, 0.431, 0.431, 0.431, 0.43, 0.43, 0.429, 0.429, 0.428, 0.427, 0.427, 0.427, 0.426, 0.425, 0.425, 0.423, 0.422, 0.421, 0.42, 0.419, 0.418, 0.418, 0.418, 0.417, 0.417]\n"
     ]
    }
   ],
   "source": [
    "#Air Temp CRN:\n",
    "with open('CRNH0203-2022-MS_Holly_Springs_4_N.txt') as f:\n",
    "    lst=[line.split()[28] for line in f]\n",
    "    #print(lst)\n",
    "    temp_crn=[]\n",
    "    for i in lst:\n",
    "        new=i.replace(',',\"\")\n",
    "        temp_crn.append(new)\n",
    "    temp_crn=[float(x) for x in temp_crn]\n",
    "    temp_crn=temp_crn[1709:1734]\n",
    "    print(temp_crn)\n",
    "    #print(len(temp_crn))\n",
    "    # print(temp_crn[2124])"
   ]
  },
  {
   "cell_type": "code",
   "execution_count": 50,
   "id": "b348cd62",
   "metadata": {},
   "outputs": [
    {
     "name": "stdout",
     "output_type": "stream",
     "text": [
      "[-0.219, -0.218, -0.218, -0.218, -0.217, -0.217, -0.216, -0.216, -0.216, -0.215, -0.215, -0.216, -0.215, -0.214, -0.214, -0.213, -0.211, -0.21, -0.209, -0.208, -0.207, -0.207, -0.207, -0.206, -0.206]\n"
     ]
    }
   ],
   "source": [
    "difference2_hol = []\n",
    "\n",
    "zip_object = zip(temp, temp_crn)\n",
    "for temp_i, temp_crn_i in zip_object:\n",
    "    difference2_hol.append(temp_i-temp_crn_i)\n",
    "\n",
    "print(difference2_hol)"
   ]
  },
  {
   "cell_type": "markdown",
   "id": "b5225197",
   "metadata": {},
   "source": [
    "<font size=\"3\">Newton, MS: 2000 UTC 30 March 2022-2000 UTC 31 March 2022</font>"
   ]
  },
  {
   "cell_type": "code",
   "execution_count": 51,
   "id": "62c8df7f",
   "metadata": {},
   "outputs": [
    {
     "name": "stdout",
     "output_type": "stream",
     "text": [
      "[0.259, 0.258, 0.258, 0.258, 0.257, 0.255, 0.254, 0.254, 0.254, 0.254, 0.253, 0.253, 0.253, 0.252, 0.252, 0.251, 0.251, 0.25, 0.25, 0.25, 0.25, 0.249, 0.249, 0.249, 0.249]\n"
     ]
    }
   ],
   "source": [
    "#18 hr hrrr:\n",
    "with open('hrrr_f18_Newton_MS.txt') as f:\n",
    "    lst=[line.split()[8] for line in f]\n",
    "    temp=[]\n",
    "    for i in lst:\n",
    "        new=i.replace(',',\"\")\n",
    "        temp.append(new)\n",
    "    temp.pop(0)\n",
    "    temp=[float(x) for x in temp]\n",
    "    #print(temp.index(6.91541))\n",
    "    temp=temp[1692:1717]\n",
    "    print(temp)\n",
    "    #print(len(temp))\n",
    "#full time period is [2015:2112]"
   ]
  },
  {
   "cell_type": "code",
   "execution_count": 52,
   "id": "b4fea934",
   "metadata": {},
   "outputs": [
    {
     "name": "stdout",
     "output_type": "stream",
     "text": [
      "[0.325, 0.325, 0.325, 0.325, 0.324, 0.324, 0.324, 0.324, 0.324, 0.324, 0.323, 0.323, 0.321, 0.32, 0.319, 0.318, 0.318, 0.317, 0.317, 0.317, 0.317, 0.317, 0.317, 0.317, 0.318]\n"
     ]
    }
   ],
   "source": [
    "#Air Temp CRN:\n",
    "with open('CRNH0203-2022-MS_Newton_5_ENE.txt') as f:\n",
    "    lst=[line.split()[28] for line in f]\n",
    "    #print(lst)\n",
    "    temp_crn=[]\n",
    "    for i in lst:\n",
    "        new=i.replace(',',\"\")\n",
    "        temp_crn.append(new)\n",
    "    temp_crn=[float(x) for x in temp_crn]\n",
    "    temp_crn=temp_crn[1709:1734]\n",
    "    print(temp_crn)\n",
    "    #print(len(temp_crn))\n",
    "    # print(temp_crn[2124])"
   ]
  },
  {
   "cell_type": "code",
   "execution_count": 53,
   "id": "cd6de2b7",
   "metadata": {},
   "outputs": [
    {
     "name": "stdout",
     "output_type": "stream",
     "text": [
      "[-0.066, -0.067, -0.067, -0.067, -0.067, -0.069, -0.07, -0.07, -0.07, -0.07, -0.07, -0.07, -0.068, -0.068, -0.067, -0.067, -0.067, -0.067, -0.067, -0.067, -0.067, -0.068, -0.068, -0.068, -0.069]\n"
     ]
    }
   ],
   "source": [
    "difference2_new = []\n",
    "\n",
    "zip_object = zip(temp, temp_crn)\n",
    "for temp_i, temp_crn_i in zip_object:\n",
    "    difference2_new.append(temp_i-temp_crn_i)\n",
    "\n",
    "print(difference2_new)"
   ]
  },
  {
   "cell_type": "markdown",
   "id": "bfaeb78c",
   "metadata": {},
   "source": [
    "<font size=\"3\">Gainesville, AL: 2300 UTC 30 March 2022-2300 UTC 31 March 2022</font>"
   ]
  },
  {
   "cell_type": "code",
   "execution_count": 54,
   "id": "13c99f74",
   "metadata": {},
   "outputs": [],
   "source": [
    "# #18 hr hrrr:\n",
    "# with open('hrrr_f18_Gainesville_AL (1).txt') as f:\n",
    "#     lst=[line.split()[8] for line in f]\n",
    "#     temp=[]\n",
    "#     for i in lst:\n",
    "#         new=i.replace(',',\"\")\n",
    "#         temp.append(new)\n",
    "#     temp.pop(0)\n",
    "#     temp=[float(x) for x in temp]\n",
    "#     #print(temp.index(6.91541))\n",
    "#     temp=temp[1692:1717]\n",
    "#     print(temp)\n",
    "#     #print(len(temp))\n",
    "# #full time period is [2015:2112]"
   ]
  },
  {
   "cell_type": "code",
   "execution_count": 55,
   "id": "1fd4e19a",
   "metadata": {},
   "outputs": [],
   "source": [
    "# #Air Temp CRN:\n",
    "# with open('CRNH0203-2022-AL_Gainesville_2_NE.txt') as f:\n",
    "#     lst=[line.split()[28] for line in f]\n",
    "#     #print(lst)\n",
    "#     temp_crn=[]\n",
    "#     for i in lst:\n",
    "#         new=i.replace(',',\"\")\n",
    "#         temp_crn.append(new)\n",
    "#     temp_crn=[float(x) for x in temp_crn]\n",
    "#     temp_crn=temp_crn[1709:1734]\n",
    "#     print(temp_crn)\n",
    "#     #print(len(temp_crn))\n",
    "#     # print(temp_crn[2124])"
   ]
  },
  {
   "cell_type": "code",
   "execution_count": 56,
   "id": "82a257d7",
   "metadata": {},
   "outputs": [],
   "source": [
    "# difference2_gai = []\n",
    "\n",
    "# zip_object = zip(temp, temp_crn)\n",
    "# for temp_i, temp_crn_i in zip_object:\n",
    "#     difference2_gai.append(temp_i-temp_crn_i)\n",
    "\n",
    "# print(difference2_gai)"
   ]
  },
  {
   "cell_type": "markdown",
   "id": "0917b86d",
   "metadata": {},
   "source": [
    "<font size=\"3\">Fairhope, AL: 0100 UTC 31 March 2022-0100 UTC 1 April 2022</font>"
   ]
  },
  {
   "cell_type": "code",
   "execution_count": 57,
   "id": "4482923f",
   "metadata": {},
   "outputs": [
    {
     "name": "stdout",
     "output_type": "stream",
     "text": [
      "[0.223, 0.223, 0.218, 0.218, 0.215, 0.214, 0.214, 0.214, 0.214, 0.212, 0.212, 0.212, 0.212, 0.212, 0.212, 0.211, 0.211, 0.211, 0.211, 0.211, 0.211, 0.211, 0.211, 0.211, 0.211]\n"
     ]
    }
   ],
   "source": [
    "#18 hr hrrr:\n",
    "with open('hrrr_f18_Fairhope_AL.txt') as f:\n",
    "    lst=[line.split()[8] for line in f]\n",
    "    temp=[]\n",
    "    for i in lst:\n",
    "        new=i.replace(',',\"\")\n",
    "        temp.append(new)\n",
    "    temp.pop(0)\n",
    "    temp=[float(x) for x in temp]\n",
    "    #print(temp.index(6.91541))\n",
    "    temp=temp[1692:1717]\n",
    "    print(temp)\n",
    "    #print(len(temp))\n",
    "#full time period is [2015:2112]"
   ]
  },
  {
   "cell_type": "code",
   "execution_count": 58,
   "id": "96fb5481",
   "metadata": {},
   "outputs": [
    {
     "name": "stdout",
     "output_type": "stream",
     "text": [
      "[0.181, 0.181, 0.181, 0.179, 0.182, 0.182, 0.181, 0.18, 0.18, 0.181, 0.178, 0.178, 0.178, 0.179, 0.179, 0.179, 0.178, 0.177, 0.177, 0.177, 0.178, 0.177, 0.177, 0.176, 0.176]\n"
     ]
    }
   ],
   "source": [
    "#Air Temp CRN:\n",
    "with open('CRNH0203-2022-AL_Fairhope_3_NE.txt') as f:\n",
    "    lst=[line.split()[28] for line in f]\n",
    "    #print(lst)\n",
    "    temp_crn=[]\n",
    "    for i in lst:\n",
    "        new=i.replace(',',\"\")\n",
    "        temp_crn.append(new)\n",
    "    temp_crn=[float(x) for x in temp_crn]\n",
    "    temp_crn=temp_crn[1709:1734]\n",
    "    print(temp_crn)\n",
    "    #print(len(temp_crn))\n",
    "    # print(temp_crn[2124])"
   ]
  },
  {
   "cell_type": "code",
   "execution_count": 59,
   "id": "f15c30e0",
   "metadata": {},
   "outputs": [
    {
     "name": "stdout",
     "output_type": "stream",
     "text": [
      "[0.04200000000000001, 0.04200000000000001, 0.037000000000000005, 0.03900000000000001, 0.033, 0.032, 0.033, 0.034, 0.034, 0.031, 0.034, 0.034, 0.034, 0.033, 0.033, 0.032, 0.033, 0.034, 0.034, 0.034, 0.033, 0.034, 0.034, 0.035, 0.035]\n"
     ]
    }
   ],
   "source": [
    "difference2_fai = []\n",
    "\n",
    "zip_object = zip(temp, temp_crn)\n",
    "for temp_i, temp_crn_i in zip_object:\n",
    "    difference2_fai.append(temp_i-temp_crn_i)\n",
    "\n",
    "print(difference2_fai)"
   ]
  },
  {
   "cell_type": "markdown",
   "id": "e9530edf",
   "metadata": {},
   "source": [
    "<font size=\"3\">**Selma, AL: 0100 UTC 31 March 2022-0100 UTC 1 April 2022</font>"
   ]
  },
  {
   "cell_type": "code",
   "execution_count": 60,
   "id": "15e7e080",
   "metadata": {},
   "outputs": [
    {
     "name": "stdout",
     "output_type": "stream",
     "text": [
      "[0.216, 0.216, 0.216, 0.217, 0.215, 0.211, 0.21, 0.207, 0.205, 0.202, 0.199, 0.197, 0.195, 0.192, 0.19, 0.189, 0.187, 0.186, 0.186, 0.187, 0.189, 0.19, 0.191, 0.192, 0.193]\n",
      "25\n",
      "[0.491, 0.493, 0.491, 0.489, 0.49, 0.49, 0.488, 0.489, 0.491, 0.489, 0.49, 0.488, 0.487, 0.482, 0.47, 0.467, 0.466, 0.465, 0.464, 0.464, 0.465, 0.465, 0.464, 0.464, 0.465]\n",
      "25\n",
      "[-0.275, -0.277, -0.275, -0.272, -0.275, -0.279, -0.278, -0.28200000000000003, -0.28600000000000003, -0.287, -0.291, -0.291, -0.292, -0.29, -0.27999999999999997, -0.278, -0.279, -0.279, -0.278, -0.277, -0.276, -0.275, -0.273, -0.272, -0.272]\n",
      "25\n"
     ]
    }
   ],
   "source": [
    "#18 hr hrrr:\n",
    "with open('hrrr_f18_Selma_AL.txt') as f:\n",
    "    lst=[line.split()[8] for line in f]\n",
    "    temp=[]\n",
    "    for i in lst:\n",
    "        new=i.replace(',',\"\")\n",
    "        temp.append(new)\n",
    "    temp.pop(0)\n",
    "    temp=[float(x) for x in temp]\n",
    "    #print(temp.index(6.91541))\n",
    "    temp=temp[1692:1717]\n",
    "#Air Temp CRN:\n",
    "with open('CRNH0203-2022-AL_Selma_13_WNW.txt') as f:\n",
    "    lst=[line.split()[28] for line in f]\n",
    "    #print(lst)\n",
    "    temp_crn=[]\n",
    "    for i in lst:\n",
    "        new=i.replace(',',\"\")\n",
    "        temp_crn.append(new)\n",
    "    temp_crn=[float(x) for x in temp_crn]\n",
    "    temp_crn=temp_crn[1709:1734]\n",
    "\n",
    "    print(temp)\n",
    "    print(len(temp))\n",
    "    print(temp_crn)\n",
    "    print(len(temp_crn))\n",
    "#full time period is [2015:2112]\n",
    "difference2_sel = []\n",
    "\n",
    "zip_object = zip(temp, temp_crn)\n",
    "for temp_i, temp_crn_i in zip_object:\n",
    "    difference2_sel.append(temp_i-temp_crn_i)\n",
    "\n",
    "print(difference2_sel)\n",
    "print(len(difference2_sel))"
   ]
  },
  {
   "cell_type": "markdown",
   "id": "96c13278",
   "metadata": {},
   "source": [
    "<font size=\"3\">Bowling Green, KY: 0100 UTC 31 March 2022-0100 UTC 1 April 2022</font>"
   ]
  },
  {
   "cell_type": "code",
   "execution_count": 61,
   "id": "20079007",
   "metadata": {},
   "outputs": [
    {
     "name": "stdout",
     "output_type": "stream",
     "text": [
      "[0.227, 0.228, 0.229, 0.229, 0.229, 0.23, 0.229, 0.229, 0.23, 0.228, 0.226, 0.225, 0.224, 0.222, 0.221, 0.221, 0.221, 0.22, 0.22, 0.22, 0.22, 0.219, 0.218, 0.218, 0.217]\n"
     ]
    }
   ],
   "source": [
    "#18 hr hrrr:\n",
    "with open('hrrr_f18_Bowling Green_KY.txt') as f:\n",
    "    lst=[line.split()[8] for line in f]\n",
    "    temp=[]\n",
    "    for i in lst:\n",
    "        new=i.replace(',',\"\")\n",
    "        temp.append(new)\n",
    "    temp.pop(0)\n",
    "    temp=[float(x) for x in temp]\n",
    "    #print(temp.index(6.91541))\n",
    "    temp=temp[1692:1717]\n",
    "#     x = np.array(temp)\n",
    "#     temp= ma.masked_array(x, mask=[0, 0, 0, 0, 0,0,1,0,0,0,0,0,0,0,0,0,0,0,0,0,0,0,0,0,0])\n",
    "    #temp=temp[2015:2063]\n",
    "    print(temp)\n",
    "    #print(len(temp))\n",
    "#full time period is [2015:2112]"
   ]
  },
  {
   "cell_type": "code",
   "execution_count": 62,
   "id": "60c4e4cc",
   "metadata": {},
   "outputs": [
    {
     "name": "stdout",
     "output_type": "stream",
     "text": [
      "[0.401, 0.4, 0.398, 0.397, 0.396, 0.394, 0.394, 0.393, 0.393, 0.393, 0.392, 0.395, 0.41, 0.409, 0.405, 0.402, 0.401, 0.4, 0.399, 0.398, 0.398, 0.397, 0.396, 0.394, 0.393]\n"
     ]
    }
   ],
   "source": [
    "#Air Temp CRN:\n",
    "with open('CRNH0203-2022-KY_Bowling_Green_21_NNE.txt') as f:\n",
    "    lst=[line.split()[28] for line in f]\n",
    "    #print(lst)\n",
    "    temp_crn=[]\n",
    "    for i in lst:\n",
    "        new=i.replace(',',\"\")\n",
    "        temp_crn.append(new)\n",
    "    temp_crn=[float(x) for x in temp_crn]\n",
    "    temp_crn=temp_crn[1709:1734]\n",
    "#     y = np.array(temp_crn)\n",
    "#     temp_crn = ma.masked_array(y, mask=[0, 0, 0, 0, 0,0,1,0,0,0,0,0,0,0,0,0,0,0,0,0,0,0,0,0,0])\n",
    "    print(temp_crn)\n",
    "    #print(len(temp_crn))\n",
    "    # print(temp_crn[2124])"
   ]
  },
  {
   "cell_type": "code",
   "execution_count": 63,
   "id": "90cedfd2",
   "metadata": {},
   "outputs": [
    {
     "name": "stdout",
     "output_type": "stream",
     "text": [
      "[-0.17400000000000002, -0.17200000000000001, -0.169, -0.168, -0.167, -0.164, -0.165, -0.164, -0.163, -0.165, -0.166, -0.17, -0.18599999999999997, -0.18699999999999997, -0.18400000000000002, -0.18100000000000002, -0.18000000000000002, -0.18000000000000002, -0.17900000000000002, -0.17800000000000002, -0.17800000000000002, -0.17800000000000002, -0.17800000000000002, -0.17600000000000002, -0.17600000000000002]\n"
     ]
    }
   ],
   "source": [
    "difference2_bow = []\n",
    "\n",
    "zip_object = zip(temp, temp_crn)\n",
    "for temp_i, temp_crn_i in zip_object:\n",
    "    difference2_bow.append(temp_i-temp_crn_i)\n",
    "\n",
    "print(difference2_bow)"
   ]
  },
  {
   "cell_type": "markdown",
   "id": "770eb1f1",
   "metadata": {},
   "source": [
    "<font size=\"3\">Gadsden, AL: 0200 UTC 31 March 2022-0200 UTC 1 April 2022</font>"
   ]
  },
  {
   "cell_type": "code",
   "execution_count": 64,
   "id": "5cc1d0b4",
   "metadata": {},
   "outputs": [
    {
     "name": "stdout",
     "output_type": "stream",
     "text": [
      "[0.26, 0.26, 0.26, 0.26, 0.26, 0.26, 0.259, 0.259, 0.258, 0.255, 0.247, 0.247, 0.245, 0.244, 0.243, 0.243, 0.243, 0.243, 0.243, 0.243, 0.243, 0.242, 0.242, 0.241, 0.24]\n"
     ]
    }
   ],
   "source": [
    "#18 hr hrrr:\n",
    "with open('hrrr_f18_Gadsden_AL.txt') as f:\n",
    "    lst=[line.split()[8] for line in f]\n",
    "    temp=[]\n",
    "    for i in lst:\n",
    "        new=i.replace(',',\"\")\n",
    "        temp.append(new)\n",
    "    temp.pop(0)\n",
    "    temp=[float(x) for x in temp]\n",
    "    #print(temp.index(6.91541))\n",
    "    temp=temp[1692:1717]\n",
    "    print(temp)\n",
    "    #print(len(temp))\n",
    "#full time period is [2015:2112]"
   ]
  },
  {
   "cell_type": "code",
   "execution_count": 65,
   "id": "c0d02698",
   "metadata": {},
   "outputs": [
    {
     "name": "stdout",
     "output_type": "stream",
     "text": [
      "[0.303, 0.303, 0.303, 0.302, 0.302, 0.302, 0.301, 0.301, 0.301, 0.3, 0.299, 0.299, 0.298, 0.296, 0.295, 0.294, 0.293, 0.292, 0.291, 0.291, 0.291, 0.291, 0.291, 0.291, 0.29]\n"
     ]
    }
   ],
   "source": [
    "#Air Temp CRN:\n",
    "with open('CRNH0203-2022-AL_Gadsden_19_N.txt') as f:\n",
    "    lst=[line.split()[28] for line in f]\n",
    "    #print(lst)\n",
    "    temp_crn=[]\n",
    "    for i in lst:\n",
    "        new=i.replace(',',\"\")\n",
    "        temp_crn.append(new)\n",
    "    temp_crn=[float(x) for x in temp_crn]\n",
    "    temp_crn=temp_crn[1709:1734]\n",
    "    print(temp_crn)\n",
    "    #print(len(temp_crn))\n",
    "    # print(temp_crn[2124])"
   ]
  },
  {
   "cell_type": "code",
   "execution_count": 66,
   "id": "d63723fd",
   "metadata": {},
   "outputs": [
    {
     "name": "stdout",
     "output_type": "stream",
     "text": [
      "[-0.04299999999999998, -0.04299999999999998, -0.04299999999999998, -0.04199999999999998, -0.04199999999999998, -0.04199999999999998, -0.04199999999999998, -0.04199999999999998, -0.04299999999999998, -0.044999999999999984, -0.05199999999999999, -0.05199999999999999, -0.05299999999999999, -0.05199999999999999, -0.05199999999999999, -0.05099999999999999, -0.04999999999999999, -0.04899999999999999, -0.04799999999999999, -0.04799999999999999, -0.04799999999999999, -0.04899999999999999, -0.04899999999999999, -0.04999999999999999, -0.04999999999999999]\n"
     ]
    }
   ],
   "source": [
    "difference2_gad = []\n",
    "\n",
    "zip_object = zip(temp, temp_crn)\n",
    "for temp_i, temp_crn_i in zip_object:\n",
    "    difference2_gad.append(temp_i-temp_crn_i)\n",
    "\n",
    "print(difference2_gad)"
   ]
  },
  {
   "cell_type": "markdown",
   "id": "cd4a8f77",
   "metadata": {},
   "source": [
    "<font size=\"3\">Newton, GA: 0700 UTC 31 March 2022-0700 UTC 1 April 2022</font>"
   ]
  },
  {
   "cell_type": "code",
   "execution_count": 67,
   "id": "0c975d06",
   "metadata": {},
   "outputs": [
    {
     "name": "stdout",
     "output_type": "stream",
     "text": [
      "[0.276, 0.277, 0.271, 0.264, 0.258, 0.256, 0.255, 0.255, 0.254, 0.254, 0.252, 0.251, 0.25, 0.249, 0.249, 0.248, 0.248, 0.248, 0.248, 0.248, 0.248, 0.249, 0.249, 0.249, 0.249]\n"
     ]
    }
   ],
   "source": [
    "#18 hr hrrr:\n",
    "with open('hrrr_f18_Newton_GA.txt') as f:\n",
    "    lst=[line.split()[8] for line in f]\n",
    "    temp=[]\n",
    "    for i in lst:\n",
    "        new=i.replace(',',\"\")\n",
    "        temp.append(new)\n",
    "    temp.pop(0)\n",
    "    temp=[float(x) for x in temp]\n",
    "    #print(temp.index(6.91541))\n",
    "    temp=temp[1692:1717]\n",
    "    print(temp)\n",
    "    #print(len(temp))\n",
    "#full time period is [2015:2112]"
   ]
  },
  {
   "cell_type": "code",
   "execution_count": 68,
   "id": "1d798d77",
   "metadata": {},
   "outputs": [
    {
     "name": "stdout",
     "output_type": "stream",
     "text": [
      "[0.191, 0.191, 0.19, 0.19, 0.19, 0.189, 0.189, 0.189, 0.188, 0.188, 0.187, 0.187, 0.185, 0.185, 0.183, 0.182, 0.181, 0.181, 0.181, 0.181, 0.181, 0.181, 0.18, 0.181, 0.18]\n"
     ]
    }
   ],
   "source": [
    "#Air Temp CRN:\n",
    "with open('CRNH0203-2022-GA_Newton_11_SW.txt') as f:\n",
    "    lst=[line.split()[28] for line in f]\n",
    "    #print(lst)\n",
    "    temp_crn=[]\n",
    "    for i in lst:\n",
    "        new=i.replace(',',\"\")\n",
    "        temp_crn.append(new)\n",
    "    temp_crn=[float(x) for x in temp_crn]\n",
    "    temp_crn=temp_crn[1709:1734]\n",
    "    print(temp_crn)\n",
    "    #print(len(temp_crn))\n",
    "    # print(temp_crn[2124])"
   ]
  },
  {
   "cell_type": "code",
   "execution_count": 69,
   "id": "4bcfa192",
   "metadata": {},
   "outputs": [
    {
     "name": "stdout",
     "output_type": "stream",
     "text": [
      "[0.08500000000000002, 0.08600000000000002, 0.08100000000000002, 0.07400000000000001, 0.068, 0.067, 0.066, 0.066, 0.066, 0.066, 0.065, 0.064, 0.065, 0.064, 0.066, 0.066, 0.067, 0.067, 0.067, 0.067, 0.067, 0.068, 0.069, 0.068, 0.069]\n"
     ]
    }
   ],
   "source": [
    "difference2_newt = []\n",
    "\n",
    "zip_object = zip(temp, temp_crn)\n",
    "for temp_i, temp_crn_i in zip_object:\n",
    "    difference2_newt.append(temp_i-temp_crn_i)\n",
    "\n",
    "print(difference2_newt)"
   ]
  },
  {
   "cell_type": "markdown",
   "id": "6490a68c",
   "metadata": {},
   "source": [
    "<font size=\"3\">Salem, MO: 1300 UTC 30 March 2022-1300 UTC 31 March 2022</font>"
   ]
  },
  {
   "cell_type": "code",
   "execution_count": 70,
   "id": "070c906d",
   "metadata": {},
   "outputs": [
    {
     "name": "stdout",
     "output_type": "stream",
     "text": [
      "[0.253, 0.253, 0.254, 0.254, 0.252, 0.251, 0.248, 0.245, 0.242, 0.24, 0.24, 0.23, 0.231, 0.229, 0.227, 0.226, 0.225, 0.225, 0.224, 0.224, 0.223, 0.222, 0.221, 0.221, 0.221]\n"
     ]
    }
   ],
   "source": [
    "#18 hr hrrr:\n",
    "with open('hrrr_f18_Salem_MO.txt') as f:\n",
    "    lst=[line.split()[8] for line in f]\n",
    "    temp=[]\n",
    "    for i in lst:\n",
    "        new=i.replace(',',\"\")\n",
    "        temp.append(new)\n",
    "    temp.pop(0)\n",
    "    temp=[float(x) for x in temp]\n",
    "    #print(temp.index(6.91541))\n",
    "    temp=temp[1860:1885]\n",
    "    print(temp)\n",
    "    #print(len(temp))\n",
    "#full time period is [2015:2112]"
   ]
  },
  {
   "cell_type": "code",
   "execution_count": 71,
   "id": "a0ea4a38",
   "metadata": {},
   "outputs": [
    {
     "name": "stdout",
     "output_type": "stream",
     "text": [
      "[0.351, 0.35, 0.349, 0.348, 0.347, 0.346, 0.347, 0.346, 0.346, 0.345, 0.344, 0.342, 0.341, 0.339, 0.338, 0.337, 0.337, 0.335, 0.335, 0.335, 0.335, 0.335, 0.335, 0.334, 0.334]\n"
     ]
    }
   ],
   "source": [
    "#Air Temp CRN:\n",
    "with open('CRNH0203-2022-MO_Salem_10_W.txt') as f:\n",
    "    lst=[line.split()[28] for line in f]\n",
    "    #print(lst)\n",
    "    temp_crn=[]\n",
    "    for i in lst:\n",
    "        new=i.replace(',',\"\")\n",
    "        temp_crn.append(new)\n",
    "    temp_crn=[float(x) for x in temp_crn]\n",
    "    temp_crn=temp_crn[1877:1902]\n",
    "    print(temp_crn)\n",
    "    #print(len(temp_crn))\n",
    "    # print(temp_crn[2124])"
   ]
  },
  {
   "cell_type": "code",
   "execution_count": 72,
   "id": "d5ab82ce",
   "metadata": {},
   "outputs": [
    {
     "name": "stdout",
     "output_type": "stream",
     "text": [
      "[-0.09799999999999998, -0.09699999999999998, -0.09499999999999997, -0.09399999999999997, -0.09499999999999997, -0.09499999999999997, -0.09899999999999998, -0.10099999999999998, -0.10399999999999998, -0.10499999999999998, -0.10399999999999998, -0.11200000000000002, -0.11000000000000001, -0.11000000000000001, -0.11100000000000002, -0.11100000000000002, -0.11200000000000002, -0.11000000000000001, -0.11100000000000002, -0.11100000000000002, -0.11200000000000002, -0.11300000000000002, -0.11400000000000002, -0.11300000000000002, -0.11300000000000002]\n"
     ]
    }
   ],
   "source": [
    "difference3_sal = []\n",
    "\n",
    "zip_object = zip(temp, temp_crn)\n",
    "for temp_i, temp_crn_i in zip_object:\n",
    "    difference3_sal.append(temp_i-temp_crn_i)\n",
    "\n",
    "print(difference3_sal)"
   ]
  },
  {
   "cell_type": "markdown",
   "id": "94d23f55",
   "metadata": {},
   "source": [
    "<font size=\"3\">Batesville, AR: 1300 UTC 30 March 2022-1300 UTC 31 March 2022</font>"
   ]
  },
  {
   "cell_type": "code",
   "execution_count": 73,
   "id": "003c1e74",
   "metadata": {},
   "outputs": [
    {
     "name": "stdout",
     "output_type": "stream",
     "text": [
      "[0.213, 0.213, 0.212, 0.213, 0.213, 0.213, 0.214, 0.214, 0.214, 0.215, 0.21, 0.21, 0.212, 0.211, 0.21, 0.209, 0.209, 0.208, 0.208, 0.207, 0.207, 0.207, 0.206, 0.206, 0.205]\n"
     ]
    }
   ],
   "source": [
    "#18 hr hrrr:\n",
    "with open('hrrr_f18_Batesville_AR.txt') as f:\n",
    "    lst=[line.split()[8] for line in f]\n",
    "    temp=[]\n",
    "    for i in lst:\n",
    "        new=i.replace(',',\"\")\n",
    "        temp.append(new)\n",
    "    temp.pop(0)\n",
    "    temp=[float(x) for x in temp]\n",
    "    #print(temp.index(6.91541))\n",
    "    temp=temp[1860:1885]\n",
    "    print(temp)\n",
    "    #print(len(temp))\n",
    "#full time period is [2015:2112]"
   ]
  },
  {
   "cell_type": "code",
   "execution_count": 74,
   "id": "53ed50e8",
   "metadata": {},
   "outputs": [
    {
     "name": "stdout",
     "output_type": "stream",
     "text": [
      "[0.293, 0.293, 0.293, 0.292, 0.292, 0.292, 0.292, 0.292, 0.292, 0.292, 0.291, 0.291, 0.289, 0.288, 0.287, 0.285, 0.283, 0.282, 0.282, 0.282, 0.282, 0.282, 0.281, 0.281, 0.281]\n"
     ]
    }
   ],
   "source": [
    "#Air Temp CRN:\n",
    "with open('CRNH0203-2022-AR_Batesville_8_WNW.txt') as f:\n",
    "    lst=[line.split()[28] for line in f]\n",
    "    #print(lst)\n",
    "    temp_crn=[]\n",
    "    for i in lst:\n",
    "        new=i.replace(',',\"\")\n",
    "        temp_crn.append(new)\n",
    "    temp_crn=[float(x) for x in temp_crn]\n",
    "    temp_crn=temp_crn[1877:1902]\n",
    "    print(temp_crn)\n",
    "    #print(len(temp_crn))\n",
    "    # print(temp_crn[2124])"
   ]
  },
  {
   "cell_type": "code",
   "execution_count": 75,
   "id": "78dbd881",
   "metadata": {},
   "outputs": [
    {
     "name": "stdout",
     "output_type": "stream",
     "text": [
      "[-0.07999999999999999, -0.07999999999999999, -0.08099999999999999, -0.07899999999999999, -0.07899999999999999, -0.07899999999999999, -0.07799999999999999, -0.07799999999999999, -0.07799999999999999, -0.07699999999999999, -0.08099999999999999, -0.08099999999999999, -0.07699999999999999, -0.07699999999999999, -0.07699999999999999, -0.07599999999999998, -0.07399999999999998, -0.07399999999999998, -0.07399999999999998, -0.07499999999999998, -0.07499999999999998, -0.07499999999999998, -0.07500000000000004, -0.07500000000000004, -0.07600000000000004]\n"
     ]
    }
   ],
   "source": [
    "difference3_bat = []\n",
    "\n",
    "zip_object = zip(temp, temp_crn)\n",
    "for temp_i, temp_crn_i in zip_object:\n",
    "    difference3_bat.append(temp_i-temp_crn_i)\n",
    "\n",
    "print(difference3_bat)"
   ]
  },
  {
   "cell_type": "markdown",
   "id": "62dfd513",
   "metadata": {},
   "source": [
    "<font size=\"3\">Lafayette, LA: 1700 UTC 30 March 2022-1700 UTC 31 March 2022</font>"
   ]
  },
  {
   "cell_type": "code",
   "execution_count": 76,
   "id": "b924d828",
   "metadata": {},
   "outputs": [
    {
     "name": "stdout",
     "output_type": "stream",
     "text": [
      "[0.207, 0.207, 0.201, 0.197, 0.197, 0.197, 0.197, 0.197, 0.198, 0.196, 0.2, 0.2, 0.197, 0.197, 0.197, 0.197, 0.197, 0.197, 0.197, 0.197, 0.197, 0.197, 0.197, 0.197, 0.197]\n"
     ]
    }
   ],
   "source": [
    "#18 hr hrrr:\n",
    "with open('hrrr_f18_Lafayette_LA.txt') as f:\n",
    "    lst=[line.split()[8] for line in f]\n",
    "    temp=[]\n",
    "    for i in lst:\n",
    "        new=i.replace(',',\"\")\n",
    "        temp.append(new)\n",
    "    temp.pop(0)\n",
    "    temp=[float(x) for x in temp]\n",
    "    #print(temp.index(6.91541))\n",
    "    temp=temp[1860:1885]\n",
    "    print(temp)\n",
    "    #print(len(temp))\n",
    "#full time period is [2015:2112]"
   ]
  },
  {
   "cell_type": "code",
   "execution_count": 77,
   "id": "7ad5a780",
   "metadata": {},
   "outputs": [
    {
     "name": "stdout",
     "output_type": "stream",
     "text": [
      "[0.379, 0.378, 0.378, 0.377, 0.378, 0.377, 0.378, 0.378, 0.377, 0.376, 0.376, 0.376, 0.376, 0.375, 0.374, 0.374, 0.374, 0.373, 0.373, 0.373, 0.372, 0.372, 0.373, 0.372, 0.372]\n"
     ]
    }
   ],
   "source": [
    "#Air Temp CRN:\n",
    "with open('CRNH0203-2022-LA_Lafayette_13_SE.txt') as f:\n",
    "    lst=[line.split()[28] for line in f]\n",
    "    #print(lst)\n",
    "    temp_crn=[]\n",
    "    for i in lst:\n",
    "        new=i.replace(',',\"\")\n",
    "        temp_crn.append(new)\n",
    "    temp_crn=[float(x) for x in temp_crn]\n",
    "    temp_crn=temp_crn[1877:1902]\n",
    "    print(temp_crn)\n",
    "    #print(len(temp_crn))\n",
    "    # print(temp_crn[2124])"
   ]
  },
  {
   "cell_type": "code",
   "execution_count": 78,
   "id": "29f0cf35",
   "metadata": {},
   "outputs": [
    {
     "name": "stdout",
     "output_type": "stream",
     "text": [
      "[-0.17200000000000001, -0.171, -0.177, -0.18, -0.181, -0.18, -0.181, -0.181, -0.179, -0.18, -0.176, -0.176, -0.179, -0.178, -0.177, -0.177, -0.177, -0.176, -0.176, -0.176, -0.175, -0.175, -0.176, -0.175, -0.175]\n"
     ]
    }
   ],
   "source": [
    "difference3_laf = []\n",
    "\n",
    "zip_object = zip(temp, temp_crn)\n",
    "for temp_i, temp_crn_i in zip_object:\n",
    "    difference3_laf.append(temp_i-temp_crn_i)\n",
    "\n",
    "print(difference3_laf)"
   ]
  },
  {
   "cell_type": "markdown",
   "id": "f122416b",
   "metadata": {},
   "source": [
    "<font size=\"3\">Monroe, LA: 1700 UTC 30 March 2022-1700 UTC 31 March 2022</font>"
   ]
  },
  {
   "cell_type": "code",
   "execution_count": 79,
   "id": "86893e21",
   "metadata": {},
   "outputs": [
    {
     "name": "stdout",
     "output_type": "stream",
     "text": [
      "[0.222, 0.221, 0.221, 0.22, 0.22, 0.219, 0.219, 0.218, 0.219, 0.218, 0.22, 0.22, 0.217, 0.217, 0.217, 0.216, 0.216, 0.216, 0.217, 0.217, 0.217, 0.217, 0.217, 0.217, 0.217]\n"
     ]
    }
   ],
   "source": [
    "#18 hr hrrr:\n",
    "with open('hrrr_f18_Monroe_LA.txt') as f:\n",
    "    lst=[line.split()[8] for line in f]\n",
    "    temp=[]\n",
    "    for i in lst:\n",
    "        new=i.replace(',',\"\")\n",
    "        temp.append(new)\n",
    "    temp.pop(0)\n",
    "    temp=[float(x) for x in temp]\n",
    "    #print(temp.index(6.91541))\n",
    "    temp=temp[1860:1885]\n",
    "    print(temp)\n",
    "    #print(len(temp))\n",
    "#full time period is [2015:2112]"
   ]
  },
  {
   "cell_type": "code",
   "execution_count": 80,
   "id": "9647369d",
   "metadata": {},
   "outputs": [
    {
     "name": "stdout",
     "output_type": "stream",
     "text": [
      "[0.342, 0.345, 0.343, 0.343, 0.345, 0.344, 0.346, 0.344, 0.347, 0.344, 0.345, 0.343, 0.342, 0.342, 0.341, 0.341, 0.341, 0.341, 0.34, 0.34, 0.341, 0.341, 0.342, 0.341, 0.341]\n"
     ]
    }
   ],
   "source": [
    "#Air Temp CRN:\n",
    "with open('CRNH0203-2022-LA_Monroe_26_N.txt') as f:\n",
    "    lst=[line.split()[28] for line in f]\n",
    "    #print(lst)\n",
    "    temp_crn=[]\n",
    "    for i in lst:\n",
    "        new=i.replace(',',\"\")\n",
    "        temp_crn.append(new)\n",
    "    temp_crn=[float(x) for x in temp_crn]\n",
    "    temp_crn=temp_crn[1877:1902]\n",
    "    print(temp_crn)\n",
    "    #print(len(temp_crn))\n",
    "    # print(temp_crn[2124])"
   ]
  },
  {
   "cell_type": "code",
   "execution_count": 81,
   "id": "dfd2b5aa",
   "metadata": {},
   "outputs": [
    {
     "name": "stdout",
     "output_type": "stream",
     "text": [
      "[-0.12000000000000002, -0.12399999999999997, -0.12200000000000003, -0.12300000000000003, -0.12499999999999997, -0.12499999999999997, -0.12699999999999997, -0.12599999999999997, -0.12799999999999997, -0.12599999999999997, -0.12499999999999997, -0.12300000000000003, -0.12500000000000003, -0.12500000000000003, -0.12400000000000003, -0.12500000000000003, -0.12500000000000003, -0.12500000000000003, -0.12300000000000003, -0.12300000000000003, -0.12400000000000003, -0.12400000000000003, -0.12500000000000003, -0.12400000000000003, -0.12400000000000003]\n"
     ]
    }
   ],
   "source": [
    "difference3_mon = []\n",
    "\n",
    "zip_object = zip(temp, temp_crn)\n",
    "for temp_i, temp_crn_i in zip_object:\n",
    "    difference3_mon.append(temp_i-temp_crn_i)\n",
    "\n",
    "print(difference3_mon)"
   ]
  },
  {
   "cell_type": "markdown",
   "id": "3fd80e8c",
   "metadata": {},
   "source": [
    "<font size=\"3\">Holly Springs, MS: 2000 UTC 30 March 2022-2000 UTC 31 March 2022</font>"
   ]
  },
  {
   "cell_type": "code",
   "execution_count": 82,
   "id": "fb680e90",
   "metadata": {},
   "outputs": [
    {
     "name": "stdout",
     "output_type": "stream",
     "text": [
      "[0.212, 0.211, 0.211, 0.211, 0.213, 0.213, 0.213, 0.214, 0.213, 0.213, 0.21, 0.21, 0.21, 0.21, 0.21, 0.21, 0.21, 0.21, 0.21, 0.21, 0.21, 0.21, 0.209, 0.209, 0.209]\n"
     ]
    }
   ],
   "source": [
    "#18 hr hrrr:\n",
    "with open('hrrr_f18_Holly Springs_MS.txt') as f:\n",
    "    lst=[line.split()[8] for line in f]\n",
    "    temp=[]\n",
    "    for i in lst:\n",
    "        new=i.replace(',',\"\")\n",
    "        temp.append(new)\n",
    "    temp.pop(0)\n",
    "    temp=[float(x) for x in temp]\n",
    "    #print(temp.index(6.91541))\n",
    "    temp=temp[1860:1885]\n",
    "    print(temp)\n",
    "    #print(len(temp))\n",
    "#full time period is [2015:2112]"
   ]
  },
  {
   "cell_type": "code",
   "execution_count": 83,
   "id": "298d934c",
   "metadata": {},
   "outputs": [
    {
     "name": "stdout",
     "output_type": "stream",
     "text": [
      "[0.422, 0.422, 0.422, 0.421, 0.421, 0.42, 0.419, 0.419, 0.419, 0.419, 0.419, 0.417, 0.415, 0.412, 0.411, 0.409, 0.407, 0.406, 0.406, 0.406, 0.406, 0.406, 0.406, 0.406, 0.406]\n"
     ]
    }
   ],
   "source": [
    "#Air Temp CRN:\n",
    "with open('CRNH0203-2022-MS_Holly_Springs_4_N.txt') as f:\n",
    "    lst=[line.split()[28] for line in f]\n",
    "    #print(lst)\n",
    "    temp_crn=[]\n",
    "    for i in lst:\n",
    "        new=i.replace(',',\"\")\n",
    "        temp_crn.append(new)\n",
    "    temp_crn=[float(x) for x in temp_crn]\n",
    "    temp_crn=temp_crn[1877:1902]\n",
    "    print(temp_crn)\n",
    "    #print(len(temp_crn))\n",
    "    # print(temp_crn[2124])"
   ]
  },
  {
   "cell_type": "code",
   "execution_count": 84,
   "id": "73b03933",
   "metadata": {},
   "outputs": [
    {
     "name": "stdout",
     "output_type": "stream",
     "text": [
      "[-0.21, -0.211, -0.211, -0.21, -0.208, -0.207, -0.206, -0.205, -0.206, -0.206, -0.209, -0.207, -0.205, -0.20199999999999999, -0.20099999999999998, -0.19899999999999998, -0.19699999999999998, -0.19600000000000004, -0.19600000000000004, -0.19600000000000004, -0.19600000000000004, -0.19600000000000004, -0.19700000000000004, -0.19700000000000004, -0.19700000000000004]\n"
     ]
    }
   ],
   "source": [
    "difference3_hol = []\n",
    "\n",
    "zip_object = zip(temp, temp_crn)\n",
    "for temp_i, temp_crn_i in zip_object:\n",
    "    difference3_hol.append(temp_i-temp_crn_i)\n",
    "\n",
    "print(difference3_hol)"
   ]
  },
  {
   "cell_type": "markdown",
   "id": "f0ef733a",
   "metadata": {},
   "source": [
    "<font size=\"3\">Newton, MS: 2000 UTC 30 March 2022-2000 UTC 31 March 2022</font>"
   ]
  },
  {
   "cell_type": "code",
   "execution_count": 85,
   "id": "11dbd9e0",
   "metadata": {},
   "outputs": [
    {
     "name": "stdout",
     "output_type": "stream",
     "text": [
      "[0.26, 0.26, 0.26, 0.26, 0.258, 0.255, 0.255, 0.255, 0.255, 0.255, 0.26, 0.25, 0.255, 0.254, 0.254, 0.254, 0.253, 0.253, 0.253, 0.253, 0.253, 0.253, 0.253, 0.253, 0.253]\n"
     ]
    }
   ],
   "source": [
    "#18 hr hrrr:\n",
    "with open('hrrr_f18_Newton_MS.txt') as f:\n",
    "    lst=[line.split()[8] for line in f]\n",
    "    temp=[]\n",
    "    for i in lst:\n",
    "        new=i.replace(',',\"\")\n",
    "        temp.append(new)\n",
    "    temp.pop(0)\n",
    "    temp=[float(x) for x in temp]\n",
    "    #print(temp.index(6.91541))\n",
    "    temp=temp[1860:1885]\n",
    "    print(temp)\n",
    "    #print(len(temp))\n",
    "#full time period is [2015:2112]"
   ]
  },
  {
   "cell_type": "code",
   "execution_count": 86,
   "id": "00cf42fe",
   "metadata": {},
   "outputs": [
    {
     "name": "stdout",
     "output_type": "stream",
     "text": [
      "[0.335, 0.335, 0.335, 0.335, 0.335, 0.335, 0.335, 0.334, 0.335, 0.334, 0.333, 0.333, 0.331, 0.329, 0.328, 0.326, 0.325, 0.325, 0.325, 0.325, 0.325, 0.325, 0.326, 0.326, 0.326]\n"
     ]
    }
   ],
   "source": [
    "#Air Temp CRN:\n",
    "with open('CRNH0203-2022-MS_Newton_5_ENE.txt') as f:\n",
    "    lst=[line.split()[28] for line in f]\n",
    "    #print(lst)\n",
    "    temp_crn=[]\n",
    "    for i in lst:\n",
    "        new=i.replace(',',\"\")\n",
    "        temp_crn.append(new)\n",
    "    temp_crn=[float(x) for x in temp_crn]\n",
    "    temp_crn=temp_crn[1877:1902]\n",
    "    print(temp_crn)\n",
    "    #print(len(temp_crn))\n",
    "    # print(temp_crn[2124])"
   ]
  },
  {
   "cell_type": "code",
   "execution_count": 87,
   "id": "5b3dc9cf",
   "metadata": {},
   "outputs": [
    {
     "name": "stdout",
     "output_type": "stream",
     "text": [
      "[-0.07500000000000001, -0.07500000000000001, -0.07500000000000001, -0.07500000000000001, -0.07700000000000001, -0.08000000000000002, -0.08000000000000002, -0.07900000000000001, -0.08000000000000002, -0.07900000000000001, -0.07300000000000001, -0.08300000000000002, -0.07600000000000001, -0.07500000000000001, -0.07400000000000001, -0.07200000000000001, -0.07200000000000001, -0.07200000000000001, -0.07200000000000001, -0.07200000000000001, -0.07200000000000001, -0.07200000000000001, -0.07300000000000001, -0.07300000000000001, -0.07300000000000001]\n"
     ]
    }
   ],
   "source": [
    "difference3_new = []\n",
    "\n",
    "zip_object = zip(temp, temp_crn)\n",
    "for temp_i, temp_crn_i in zip_object:\n",
    "    difference3_new.append(temp_i-temp_crn_i)\n",
    "\n",
    "print(difference3_new)"
   ]
  },
  {
   "cell_type": "markdown",
   "id": "31b3c936",
   "metadata": {},
   "source": [
    "<font size=\"3\">Gainesville, AL: 2300 UTC 30 March 2022-2300 UTC 31 March 2022</font>"
   ]
  },
  {
   "cell_type": "code",
   "execution_count": 88,
   "id": "8920e139",
   "metadata": {},
   "outputs": [],
   "source": [
    "# #18 hr hrrr:\n",
    "# with open('hrrr_f18_Gainesville_AL (1).txt') as f:\n",
    "#     lst=[line.split()[8] for line in f]\n",
    "#     temp=[]\n",
    "#     for i in lst:\n",
    "#         new=i.replace(',',\"\")\n",
    "#         temp.append(new)\n",
    "#     temp.pop(0)\n",
    "#     temp=[float(x) for x in temp]\n",
    "#     #print(temp.index(6.91541))\n",
    "#     temp=temp[1860:1885]\n",
    "#     print(temp)\n",
    "#     #print(len(temp))\n",
    "# #full time period is [2015:2112]"
   ]
  },
  {
   "cell_type": "code",
   "execution_count": 89,
   "id": "2e8783dd",
   "metadata": {},
   "outputs": [],
   "source": [
    "# #Air Temp CRN:\n",
    "# with open('CRNH0203-2022-AL_Gainesville_2_NE.txt') as f:\n",
    "#     lst=[line.split()[28] for line in f]\n",
    "#     #print(lst)\n",
    "#     temp_crn=[]\n",
    "#     for i in lst:\n",
    "#         new=i.replace(',',\"\")\n",
    "#         temp_crn.append(new)\n",
    "#     temp_crn=[float(x) for x in temp_crn]\n",
    "#     temp_crn=temp_crn[1877:1902]\n",
    "#     print(temp_crn)\n",
    "#     #print(len(temp_crn))\n",
    "#     # print(temp_crn[2124])"
   ]
  },
  {
   "cell_type": "code",
   "execution_count": 90,
   "id": "955310d1",
   "metadata": {},
   "outputs": [],
   "source": [
    "# difference3_gai = []\n",
    "\n",
    "# zip_object = zip(temp, temp_crn)\n",
    "# for temp_i, temp_crn_i in zip_object:\n",
    "#     difference3_gai.append(temp_i-temp_crn_i)\n",
    "\n",
    "# print(difference3_gai)"
   ]
  },
  {
   "cell_type": "markdown",
   "id": "3978aef1",
   "metadata": {},
   "source": [
    "<font size=\"3\">Fairhope, AL: 0100 UTC 31 March 2022-0100 UTC 1 April 2022</font>"
   ]
  },
  {
   "cell_type": "code",
   "execution_count": 91,
   "id": "f30f9caf",
   "metadata": {},
   "outputs": [
    {
     "name": "stdout",
     "output_type": "stream",
     "text": [
      "[0.251, 0.251, 0.249, 0.248, 0.247, 0.247, 0.246, 0.246, 0.245, 0.244, 0.24, 0.24, 0.241, 0.24, 0.24, 0.239, 0.239, 0.239, 0.239, 0.239, 0.239, 0.239, 0.24, 0.24, 0.24]\n"
     ]
    }
   ],
   "source": [
    "#18 hr hrrr:\n",
    "with open('hrrr_f18_Fairhope_AL.txt') as f:\n",
    "    lst=[line.split()[8] for line in f]\n",
    "    temp=[]\n",
    "    for i in lst:\n",
    "        new=i.replace(',',\"\")\n",
    "        temp.append(new)\n",
    "    temp.pop(0)\n",
    "    temp=[float(x) for x in temp]\n",
    "    #print(temp.index(6.91541))\n",
    "    temp=temp[1860:1885]\n",
    "    print(temp)\n",
    "    #print(len(temp))\n",
    "#full time period is [2015:2112]"
   ]
  },
  {
   "cell_type": "code",
   "execution_count": 92,
   "id": "8c7b4e9a",
   "metadata": {},
   "outputs": [
    {
     "name": "stdout",
     "output_type": "stream",
     "text": [
      "[0.219, 0.219, 0.219, 0.218, 0.218, 0.217, 0.216, 0.216, 0.214, 0.212, 0.213, 0.209, 0.21, 0.209, 0.208, 0.208, 0.207, 0.205, 0.206, 0.205, 0.203, 0.205, 0.204, 0.204, 0.202]\n"
     ]
    }
   ],
   "source": [
    "#Air Temp CRN:\n",
    "with open('CRNH0203-2022-AL_Fairhope_3_NE.txt') as f:\n",
    "    lst=[line.split()[28] for line in f]\n",
    "    #print(lst)\n",
    "    temp_crn=[]\n",
    "    for i in lst:\n",
    "        new=i.replace(',',\"\")\n",
    "        temp_crn.append(new)\n",
    "    temp_crn=[float(x) for x in temp_crn]\n",
    "    temp_crn=temp_crn[1877:1902]\n",
    "    print(temp_crn)\n",
    "    #print(len(temp_crn))\n",
    "    # print(temp_crn[2124])"
   ]
  },
  {
   "cell_type": "code",
   "execution_count": 93,
   "id": "c03d50c9",
   "metadata": {},
   "outputs": [
    {
     "name": "stdout",
     "output_type": "stream",
     "text": [
      "[0.032, 0.032, 0.03, 0.03, 0.028999999999999998, 0.03, 0.03, 0.03, 0.031, 0.032, 0.026999999999999996, 0.031, 0.031, 0.031, 0.032, 0.031, 0.032, 0.034, 0.033, 0.034, 0.035999999999999976, 0.034, 0.036000000000000004, 0.036000000000000004, 0.03799999999999998]\n"
     ]
    }
   ],
   "source": [
    "difference3_fai = []\n",
    "\n",
    "zip_object = zip(temp, temp_crn)\n",
    "for temp_i, temp_crn_i in zip_object:\n",
    "    difference3_fai.append(temp_i-temp_crn_i)\n",
    "\n",
    "print(difference3_fai)"
   ]
  },
  {
   "cell_type": "markdown",
   "id": "f1660d22",
   "metadata": {},
   "source": [
    "<font size=\"3\">**Selma, AL: 0100 UTC 31 March 2022-0100 UTC 1 April 2022</font>"
   ]
  },
  {
   "cell_type": "code",
   "execution_count": 94,
   "id": "f7147dc6",
   "metadata": {},
   "outputs": [
    {
     "name": "stdout",
     "output_type": "stream",
     "text": [
      "[0.226, 0.226, 0.226, 0.224, 0.221, 0.219, 0.216, 0.214, 0.213, 0.211, 0.21, 0.21, 0.202, 0.199, 0.196, 0.194, 0.192, 0.191, 0.191, 0.193, 0.194, 0.196, 0.198, 0.2, 0.201]\n",
      "25\n",
      "[0.491, 0.482, 0.48, 0.479, 0.48, 0.477, 0.477, 0.478, 0.478, 0.477, 0.476, 0.471, 0.468, 0.465, 0.462, 0.46, 0.46, 0.457, 0.457, 0.456, 0.455, 0.458, 0.458, 0.458, 0.458]\n",
      "25\n",
      "[-0.265, -0.256, -0.254, -0.255, -0.259, -0.258, -0.261, -0.264, -0.265, -0.266, -0.266, -0.261, -0.266, -0.266, -0.266, -0.266, -0.268, -0.266, -0.266, -0.263, -0.261, -0.262, -0.26, -0.258, -0.257]\n",
      "25\n"
     ]
    }
   ],
   "source": [
    "#18 hr hrrr:\n",
    "with open('hrrr_f18_Selma_AL.txt') as f:\n",
    "    lst=[line.split()[8] for line in f]\n",
    "    temp=[]\n",
    "    for i in lst:\n",
    "        new=i.replace(',',\"\")\n",
    "        temp.append(new)\n",
    "    temp.pop(0)\n",
    "    temp=[float(x) for x in temp]\n",
    "    #print(temp.index(6.91541))\n",
    "    temp=temp[1860:1885]\n",
    "#Air Temp CRN:\n",
    "with open('CRNH0203-2022-AL_Selma_13_WNW.txt') as f:\n",
    "    lst=[line.split()[28] for line in f]\n",
    "    #print(lst)\n",
    "    temp_crn=[]\n",
    "    for i in lst:\n",
    "        new=i.replace(',',\"\")\n",
    "        temp_crn.append(new)\n",
    "    temp_crn=[float(x) for x in temp_crn]\n",
    "    temp_crn=temp_crn[1877:1902]\n",
    "\n",
    "    print(temp)\n",
    "    print(len(temp))\n",
    "    print(temp_crn)\n",
    "    print(len(temp_crn))\n",
    "#full time period is [2015:2112]\n",
    "difference3_sel = []\n",
    "\n",
    "zip_object = zip(temp, temp_crn)\n",
    "for temp_i, temp_crn_i in zip_object:\n",
    "    difference3_sel.append(temp_i-temp_crn_i)\n",
    "\n",
    "print(difference3_sel)\n",
    "print(len(difference3_sel))"
   ]
  },
  {
   "cell_type": "markdown",
   "id": "20e61dc2",
   "metadata": {},
   "source": [
    "<font size=\"3\">Bowling Green, KY: 0100 UTC 31 March 2022-0100 UTC 1 April 2022</font>"
   ]
  },
  {
   "cell_type": "code",
   "execution_count": 95,
   "id": "4058f7ed",
   "metadata": {},
   "outputs": [
    {
     "name": "stdout",
     "output_type": "stream",
     "text": [
      "[0.17, 0.171, 0.171, 0.18, 0.18, 0.18, 0.181, 0.181, 0.182, 0.182, 0.18, 0.18, 0.183, 0.183, 0.183, 0.183, 0.184, 0.184, 0.184, 0.184, 0.184, 0.185, 0.185, 0.185, 0.185]\n"
     ]
    }
   ],
   "source": [
    "#18 hr hrrr:\n",
    "with open('hrrr_f18_Bowling Green_KY.txt') as f:\n",
    "    lst=[line.split()[8] for line in f]\n",
    "    temp=[]\n",
    "    for i in lst:\n",
    "        new=i.replace(',',\"\")\n",
    "        temp.append(new)\n",
    "    temp.pop(0)\n",
    "    temp=[float(x) for x in temp]\n",
    "    #print(temp.index(6.91541))\n",
    "    temp=temp[1860:1885]\n",
    "#     x = np.array(temp)\n",
    "#     temp= ma.masked_array(x, mask=[0, 0, 0, 0, 0,0,1,0,0,0,0,0,0,0,0,0,0,0,0,0,0,0,0,0,0])\n",
    "    #temp=temp[2015:2063]\n",
    "    print(temp)\n",
    "    #print(len(temp))\n",
    "#full time period is [2015:2112]"
   ]
  },
  {
   "cell_type": "code",
   "execution_count": 96,
   "id": "ce1c44e0",
   "metadata": {},
   "outputs": [
    {
     "name": "stdout",
     "output_type": "stream",
     "text": [
      "[0.378, 0.377, 0.377, 0.378, 0.377, 0.377, 0.377, 0.377, 0.376, 0.376, 0.376, 0.374, 0.373, 0.372, 0.37, 0.369, 0.368, 0.368, 0.368, 0.368, 0.367, 0.367, 0.367, 0.367, 0.367]\n"
     ]
    }
   ],
   "source": [
    "#Air Temp CRN:\n",
    "with open('CRNH0203-2022-KY_Bowling_Green_21_NNE.txt') as f:\n",
    "    lst=[line.split()[28] for line in f]\n",
    "    #print(lst)\n",
    "    temp_crn=[]\n",
    "    for i in lst:\n",
    "        new=i.replace(',',\"\")\n",
    "        temp_crn.append(new)\n",
    "    temp_crn=[float(x) for x in temp_crn]\n",
    "    temp_crn=temp_crn[1877:1902]\n",
    "#     y = np.array(temp_crn)\n",
    "#     temp_crn = ma.masked_array(y, mask=[0, 0, 0, 0, 0,0,1,0,0,0,0,0,0,0,0,0,0,0,0,0,0,0,0,0,0])\n",
    "    print(temp_crn)\n",
    "    #print(len(temp_crn))\n",
    "    # print(temp_crn[2124])"
   ]
  },
  {
   "cell_type": "code",
   "execution_count": 97,
   "id": "26a6b44c",
   "metadata": {},
   "outputs": [
    {
     "name": "stdout",
     "output_type": "stream",
     "text": [
      "[-0.208, -0.206, -0.206, -0.198, -0.197, -0.197, -0.196, -0.196, -0.194, -0.194, -0.196, -0.194, -0.19, -0.189, -0.187, -0.186, -0.184, -0.184, -0.184, -0.184, -0.183, -0.182, -0.182, -0.182, -0.182]\n"
     ]
    }
   ],
   "source": [
    "difference3_bow = []\n",
    "\n",
    "zip_object = zip(temp, temp_crn)\n",
    "for temp_i, temp_crn_i in zip_object:\n",
    "    difference3_bow.append(temp_i-temp_crn_i)\n",
    "\n",
    "print(difference3_bow)"
   ]
  },
  {
   "cell_type": "markdown",
   "id": "e5c27760",
   "metadata": {},
   "source": [
    "<font size=\"3\">Gadsden, AL: 0200 UTC 31 March 2022-0200 UTC 1 April 2022</font>"
   ]
  },
  {
   "cell_type": "code",
   "execution_count": 98,
   "id": "645b4baf",
   "metadata": {},
   "outputs": [
    {
     "name": "stdout",
     "output_type": "stream",
     "text": [
      "[0.254, 0.254, 0.255, 0.257, 0.256, 0.247, 0.241, 0.235, 0.231, 0.23, 0.23, 0.23, 0.228, 0.228, 0.228, 0.228, 0.228, 0.228, 0.228, 0.229, 0.229, 0.229, 0.23, 0.23, 0.23]\n"
     ]
    }
   ],
   "source": [
    "#18 hr hrrr:\n",
    "with open('hrrr_f18_Gadsden_AL.txt') as f:\n",
    "    lst=[line.split()[8] for line in f]\n",
    "    temp=[]\n",
    "    for i in lst:\n",
    "        new=i.replace(',',\"\")\n",
    "        temp.append(new)\n",
    "    temp.pop(0)\n",
    "    temp=[float(x) for x in temp]\n",
    "    #print(temp.index(6.91541))\n",
    "    temp=temp[1860:1885]\n",
    "    print(temp)\n",
    "    #print(len(temp))\n",
    "#full time period is [2015:2112]"
   ]
  },
  {
   "cell_type": "code",
   "execution_count": 99,
   "id": "2d2b273d",
   "metadata": {},
   "outputs": [
    {
     "name": "stdout",
     "output_type": "stream",
     "text": [
      "[0.3, 0.299, 0.299, 0.299, 0.299, 0.298, 0.298, 0.298, 0.298, 0.297, 0.296, 0.295, 0.294, 0.292, 0.29, 0.288, 0.287, 0.287, 0.286, 0.285, 0.285, 0.286, 0.286, 0.285, 0.285]\n"
     ]
    }
   ],
   "source": [
    "#Air Temp CRN:\n",
    "with open('CRNH0203-2022-AL_Gadsden_19_N.txt') as f:\n",
    "    lst=[line.split()[28] for line in f]\n",
    "    #print(lst)\n",
    "    temp_crn=[]\n",
    "    for i in lst:\n",
    "        new=i.replace(',',\"\")\n",
    "        temp_crn.append(new)\n",
    "    temp_crn=[float(x) for x in temp_crn]\n",
    "    temp_crn=temp_crn[1877:1902]\n",
    "    print(temp_crn)\n",
    "    #print(len(temp_crn))\n",
    "    # print(temp_crn[2124])"
   ]
  },
  {
   "cell_type": "code",
   "execution_count": 100,
   "id": "638be268",
   "metadata": {},
   "outputs": [
    {
     "name": "stdout",
     "output_type": "stream",
     "text": [
      "[-0.045999999999999985, -0.044999999999999984, -0.043999999999999984, -0.04199999999999998, -0.04299999999999998, -0.05099999999999999, -0.056999999999999995, -0.063, -0.06699999999999998, -0.06699999999999998, -0.06599999999999998, -0.06499999999999997, -0.06599999999999998, -0.06399999999999997, -0.06199999999999997, -0.05999999999999997, -0.05899999999999997, -0.05899999999999997, -0.05799999999999997, -0.055999999999999966, -0.055999999999999966, -0.05699999999999997, -0.055999999999999966, -0.054999999999999966, -0.054999999999999966]\n"
     ]
    }
   ],
   "source": [
    "difference3_gad = []\n",
    "\n",
    "zip_object = zip(temp, temp_crn)\n",
    "for temp_i, temp_crn_i in zip_object:\n",
    "    difference3_gad.append(temp_i-temp_crn_i)\n",
    "\n",
    "print(difference3_gad)"
   ]
  },
  {
   "cell_type": "markdown",
   "id": "c5a22756",
   "metadata": {},
   "source": [
    "<font size=\"3\">Newton, GA: 0700 UTC 31 March 2022-0700 UTC 1 April 2022</font>"
   ]
  },
  {
   "cell_type": "code",
   "execution_count": 101,
   "id": "56018f0c",
   "metadata": {},
   "outputs": [
    {
     "name": "stdout",
     "output_type": "stream",
     "text": [
      "[0.314, 0.312, 0.312, 0.311, 0.32, 0.319, 0.317, 0.314, 0.309, 0.306, 0.3, 0.3, 0.294, 0.29, 0.286, 0.283, 0.281, 0.281, 0.282, 0.283, 0.284, 0.285, 0.286, 0.286, 0.287]\n"
     ]
    }
   ],
   "source": [
    "#18 hr hrrr:\n",
    "with open('hrrr_f18_Newton_GA.txt') as f:\n",
    "    lst=[line.split()[8] for line in f]\n",
    "    temp=[]\n",
    "    for i in lst:\n",
    "        new=i.replace(',',\"\")\n",
    "        temp.append(new)\n",
    "    temp.pop(0)\n",
    "    temp=[float(x) for x in temp]\n",
    "    #print(temp.index(6.91541))\n",
    "    temp=temp[1860:1885]\n",
    "    print(temp)\n",
    "    #print(len(temp))\n",
    "#full time period is [2015:2112]"
   ]
  },
  {
   "cell_type": "code",
   "execution_count": 102,
   "id": "b4e3a30e",
   "metadata": {},
   "outputs": [
    {
     "name": "stdout",
     "output_type": "stream",
     "text": [
      "[0.232, 0.231, 0.23, 0.229, 0.228, 0.228, 0.227, 0.226, 0.225, 0.223, 0.222, 0.221, 0.219, 0.216, 0.214, 0.215, 0.213, 0.212, 0.212, 0.211, 0.211, 0.211, 0.21, 0.21, 0.209]\n"
     ]
    }
   ],
   "source": [
    "#Air Temp CRN:\n",
    "with open('CRNH0203-2022-GA_Newton_11_SW.txt') as f:\n",
    "    lst=[line.split()[28] for line in f]\n",
    "    #print(lst)\n",
    "    temp_crn=[]\n",
    "    for i in lst:\n",
    "        new=i.replace(',',\"\")\n",
    "        temp_crn.append(new)\n",
    "    temp_crn=[float(x) for x in temp_crn]\n",
    "    temp_crn=temp_crn[1877:1902]\n",
    "    print(temp_crn)\n",
    "    #print(len(temp_crn))\n",
    "    # print(temp_crn[2124])"
   ]
  },
  {
   "cell_type": "code",
   "execution_count": 103,
   "id": "700e28b7",
   "metadata": {},
   "outputs": [
    {
     "name": "stdout",
     "output_type": "stream",
     "text": [
      "[0.08199999999999999, 0.08099999999999999, 0.08199999999999999, 0.08199999999999999, 0.092, 0.091, 0.09, 0.088, 0.08399999999999999, 0.08299999999999999, 0.07799999999999999, 0.07899999999999999, 0.07499999999999998, 0.07399999999999998, 0.07199999999999998, 0.06799999999999998, 0.06800000000000003, 0.06900000000000003, 0.06999999999999998, 0.07199999999999998, 0.07299999999999998, 0.07399999999999998, 0.07599999999999998, 0.07599999999999998, 0.07799999999999999]\n"
     ]
    }
   ],
   "source": [
    "difference3_newt = []\n",
    "\n",
    "zip_object = zip(temp, temp_crn)\n",
    "for temp_i, temp_crn_i in zip_object:\n",
    "    difference3_newt.append(temp_i-temp_crn_i)\n",
    "\n",
    "print(difference3_newt)"
   ]
  },
  {
   "cell_type": "markdown",
   "id": "e079df5d",
   "metadata": {},
   "source": [
    "<font size=\"3\">Salem, MO: 0500 UTC (12:00 am CDT) 03 April 2022-0500 UTC (12:00 am CDT) 04 April 2022</font>"
   ]
  },
  {
   "cell_type": "code",
   "execution_count": 104,
   "id": "2b5c7728",
   "metadata": {},
   "outputs": [
    {
     "name": "stdout",
     "output_type": "stream",
     "text": [
      "[0.228, 0.229, 0.231, 0.232, 0.232, 0.23, 0.226, 0.227, 0.228, 0.227, 0.226, 0.225, 0.223, 0.222, 0.221, 0.22, 0.22, 0.22, 0.22, 0.219, 0.219, 0.218, 0.218, 0.217, 0.217]\n"
     ]
    }
   ],
   "source": [
    "#18 hr hrrr:\n",
    "with open('hrrr_f18_Salem_MO.txt') as f:\n",
    "    lst=[line.split()[8] for line in f]\n",
    "    temp=[]\n",
    "    for i in lst:\n",
    "        new=i.replace(',',\"\")\n",
    "        temp.append(new)\n",
    "    temp.pop(0)\n",
    "    temp=[float(x) for x in temp]\n",
    "    #print(temp.index(6.91541))\n",
    "    temp=temp[2196:2221]\n",
    "    print(temp)\n",
    "    #print(len(temp))\n",
    "#full time period is [2015:2112]"
   ]
  },
  {
   "cell_type": "code",
   "execution_count": 105,
   "id": "9cfc5bf3",
   "metadata": {},
   "outputs": [
    {
     "name": "stdout",
     "output_type": "stream",
     "text": [
      "[0.321, 0.321, 0.32, 0.321, 0.32, 0.32, 0.32, 0.32, 0.319, 0.319, 0.318, 0.317, 0.316, 0.315, 0.314, 0.313, 0.313, 0.312, 0.313, 0.312, 0.313, 0.312, 0.313, 0.312, 0.312]\n"
     ]
    }
   ],
   "source": [
    "#Air Temp CRN:\n",
    "with open('CRNH0203-2022-MO_Salem_10_W.txt') as f:\n",
    "    lst=[line.split()[28] for line in f]\n",
    "    #print(lst)\n",
    "    temp_crn=[]\n",
    "    for i in lst:\n",
    "        new=i.replace(',',\"\")\n",
    "        temp_crn.append(new)\n",
    "    temp_crn=[float(x) for x in temp_crn]\n",
    "    temp_crn=temp_crn[2213:2238]\n",
    "    print(temp_crn)\n",
    "    #print(len(temp_crn))\n",
    "    # print(temp_crn[2124])"
   ]
  },
  {
   "cell_type": "code",
   "execution_count": 106,
   "id": "89c53040",
   "metadata": {},
   "outputs": [
    {
     "name": "stdout",
     "output_type": "stream",
     "text": [
      "[-0.093, -0.092, -0.089, -0.089, -0.088, -0.09, -0.094, -0.093, -0.091, -0.092, -0.092, -0.092, -0.093, -0.093, -0.093, -0.093, -0.093, -0.092, -0.093, -0.093, -0.094, -0.094, -0.095, -0.095, -0.095]\n"
     ]
    }
   ],
   "source": [
    "difference4_sal = []\n",
    "\n",
    "zip_object = zip(temp, temp_crn)\n",
    "for temp_i, temp_crn_i in zip_object:\n",
    "    difference4_sal.append(temp_i-temp_crn_i)\n",
    "\n",
    "print(difference4_sal)"
   ]
  },
  {
   "cell_type": "markdown",
   "id": "f17b9aaf",
   "metadata": {},
   "source": [
    "<font size=\"3\">Batesville, AR: 1300 UTC 30 March 2022-1300 UTC 31 March 2022</font>"
   ]
  },
  {
   "cell_type": "code",
   "execution_count": 107,
   "id": "d9093e1c",
   "metadata": {},
   "outputs": [
    {
     "name": "stdout",
     "output_type": "stream",
     "text": [
      "[0.227, 0.228, 0.229, 0.232, 0.231, 0.231, 0.225, 0.226, 0.226, 0.225, 0.224, 0.223, 0.221, 0.219, 0.217, 0.216, 0.215, 0.214, 0.214, 0.213, 0.213, 0.212, 0.212, 0.212, 0.212]\n"
     ]
    }
   ],
   "source": [
    "#18 hr hrrr:\n",
    "with open('hrrr_f18_Batesville_AR.txt') as f:\n",
    "    lst=[line.split()[8] for line in f]\n",
    "    temp=[]\n",
    "    for i in lst:\n",
    "        new=i.replace(',',\"\")\n",
    "        temp.append(new)\n",
    "    temp.pop(0)\n",
    "    temp=[float(x) for x in temp]\n",
    "    #print(temp.index(6.91541))\n",
    "    temp=temp[2196:2221]\n",
    "    print(temp)\n",
    "    #print(len(temp))\n",
    "#full time period is [2015:2112]"
   ]
  },
  {
   "cell_type": "code",
   "execution_count": 108,
   "id": "85b5abc7",
   "metadata": {},
   "outputs": [
    {
     "name": "stdout",
     "output_type": "stream",
     "text": [
      "[0.309, 0.309, 0.309, 0.308, 0.308, 0.309, 0.309, 0.308, 0.308, 0.308, 0.307, 0.305, 0.303, 0.301, 0.299, 0.297, 0.296, 0.294, 0.294, 0.294, 0.292, 0.293, 0.293, 0.293, 0.293]\n"
     ]
    }
   ],
   "source": [
    "#Air Temp CRN:\n",
    "with open('CRNH0203-2022-AR_Batesville_8_WNW.txt') as f:\n",
    "    lst=[line.split()[28] for line in f]\n",
    "    #print(lst)\n",
    "    temp_crn=[]\n",
    "    for i in lst:\n",
    "        new=i.replace(',',\"\")\n",
    "        temp_crn.append(new)\n",
    "    temp_crn=[float(x) for x in temp_crn]\n",
    "    temp_crn=temp_crn[2213:2238]\n",
    "    print(temp_crn)\n",
    "    #print(len(temp_crn))\n",
    "    # print(temp_crn[2124])"
   ]
  },
  {
   "cell_type": "code",
   "execution_count": 109,
   "id": "b551e389",
   "metadata": {},
   "outputs": [
    {
     "name": "stdout",
     "output_type": "stream",
     "text": [
      "[-0.08199999999999999, -0.08099999999999999, -0.07999999999999999, -0.07599999999999998, -0.07699999999999999, -0.07799999999999999, -0.08399999999999999, -0.08199999999999999, -0.08199999999999999, -0.08299999999999999, -0.08299999999999999, -0.08199999999999999, -0.08199999999999999, -0.08199999999999999, -0.08199999999999999, -0.08099999999999999, -0.08099999999999999, -0.07999999999999999, -0.07999999999999999, -0.08099999999999999, -0.07899999999999999, -0.08099999999999999, -0.08099999999999999, -0.08099999999999999, -0.08099999999999999]\n"
     ]
    }
   ],
   "source": [
    "difference4_bat = []\n",
    "\n",
    "zip_object = zip(temp, temp_crn)\n",
    "for temp_i, temp_crn_i in zip_object:\n",
    "    difference4_bat.append(temp_i-temp_crn_i)\n",
    "\n",
    "print(difference4_bat)"
   ]
  },
  {
   "cell_type": "markdown",
   "id": "0d9981b2",
   "metadata": {},
   "source": [
    "<font size=\"3\">Lafayette, LA: 1700 UTC 30 March 2022-1700 UTC 31 March 2022</font>"
   ]
  },
  {
   "cell_type": "code",
   "execution_count": 110,
   "id": "2cc1eca8",
   "metadata": {},
   "outputs": [
    {
     "name": "stdout",
     "output_type": "stream",
     "text": [
      "[0.26, 0.26, 0.26, 0.26, 0.26, 0.26, 0.26, 0.26, 0.26, 0.26, 0.26, 0.26, 0.259, 0.259, 0.259, 0.258, 0.258, 0.258, 0.258, 0.258, 0.258, 0.258, 0.258, 0.258, 0.258]\n"
     ]
    }
   ],
   "source": [
    "#18 hr hrrr:\n",
    "with open('hrrr_f18_Lafayette_LA.txt') as f:\n",
    "    lst=[line.split()[8] for line in f]\n",
    "    temp=[]\n",
    "    for i in lst:\n",
    "        new=i.replace(',',\"\")\n",
    "        temp.append(new)\n",
    "    temp.pop(0)\n",
    "    temp=[float(x) for x in temp]\n",
    "    #print(temp.index(6.91541))\n",
    "    temp=temp[2196:2221]\n",
    "    print(temp)\n",
    "    #print(len(temp))\n",
    "#full time period is [2015:2112]"
   ]
  },
  {
   "cell_type": "code",
   "execution_count": 111,
   "id": "9e439b3f",
   "metadata": {},
   "outputs": [
    {
     "name": "stdout",
     "output_type": "stream",
     "text": [
      "[0.366, 0.366, 0.366, 0.366, 0.365, 0.366, 0.366, 0.364, 0.364, 0.364, 0.363, 0.362, 0.362, 0.361, 0.359, 0.359, 0.358, 0.356, 0.356, 0.356, 0.357, 0.357, 0.356, 0.356, 0.356]\n"
     ]
    }
   ],
   "source": [
    "#Air Temp CRN:\n",
    "with open('CRNH0203-2022-LA_Lafayette_13_SE.txt') as f:\n",
    "    lst=[line.split()[28] for line in f]\n",
    "    #print(lst)\n",
    "    temp_crn=[]\n",
    "    for i in lst:\n",
    "        new=i.replace(',',\"\")\n",
    "        temp_crn.append(new)\n",
    "    temp_crn=[float(x) for x in temp_crn]\n",
    "    temp_crn=temp_crn[2213:2238]\n",
    "    print(temp_crn)\n",
    "    #print(len(temp_crn))\n",
    "    # print(temp_crn[2124])"
   ]
  },
  {
   "cell_type": "code",
   "execution_count": 112,
   "id": "e3b63d72",
   "metadata": {},
   "outputs": [
    {
     "name": "stdout",
     "output_type": "stream",
     "text": [
      "[-0.10599999999999998, -0.10599999999999998, -0.10599999999999998, -0.10599999999999998, -0.10499999999999998, -0.10599999999999998, -0.10599999999999998, -0.10399999999999998, -0.10399999999999998, -0.10399999999999998, -0.10299999999999998, -0.10199999999999998, -0.10299999999999998, -0.10199999999999998, -0.09999999999999998, -0.10099999999999998, -0.09999999999999998, -0.09799999999999998, -0.09799999999999998, -0.09799999999999998, -0.09899999999999998, -0.09899999999999998, -0.09799999999999998, -0.09799999999999998, -0.09799999999999998]\n"
     ]
    }
   ],
   "source": [
    "difference4_laf = []\n",
    "\n",
    "zip_object = zip(temp, temp_crn)\n",
    "for temp_i, temp_crn_i in zip_object:\n",
    "    difference4_laf.append(temp_i-temp_crn_i)\n",
    "\n",
    "print(difference4_laf)"
   ]
  },
  {
   "cell_type": "markdown",
   "id": "cfb8227a",
   "metadata": {},
   "source": [
    "<font size=\"3\">Monroe, LA: 1700 UTC 30 March 2022-1700 UTC 31 March 2022</font>"
   ]
  },
  {
   "cell_type": "code",
   "execution_count": 113,
   "id": "a28ac08b",
   "metadata": {},
   "outputs": [
    {
     "name": "stdout",
     "output_type": "stream",
     "text": [
      "[0.229, 0.229, 0.23, 0.23, 0.229, 0.23, 0.231, 0.231, 0.232, 0.231, 0.23, 0.229, 0.228, 0.227, 0.227, 0.227, 0.227, 0.227, 0.227, 0.227, 0.227, 0.227, 0.227, 0.226, 0.226]\n"
     ]
    }
   ],
   "source": [
    "#18 hr hrrr:\n",
    "with open('hrrr_f18_Monroe_LA.txt') as f:\n",
    "    lst=[line.split()[8] for line in f]\n",
    "    temp=[]\n",
    "    for i in lst:\n",
    "        new=i.replace(',',\"\")\n",
    "        temp.append(new)\n",
    "    temp.pop(0)\n",
    "    temp=[float(x) for x in temp]\n",
    "    #print(temp.index(6.91541))\n",
    "    temp=temp[2196:2221]\n",
    "    print(temp)\n",
    "    #print(len(temp))\n",
    "#full time period is [2015:2112]"
   ]
  },
  {
   "cell_type": "code",
   "execution_count": 114,
   "id": "2fd2ca27",
   "metadata": {},
   "outputs": [
    {
     "name": "stdout",
     "output_type": "stream",
     "text": [
      "[0.324, 0.324, 0.324, 0.324, 0.324, 0.324, 0.326, 0.325, 0.325, 0.324, 0.323, 0.322, 0.32, 0.32, 0.319, 0.316, 0.316, 0.315, 0.315, 0.316, 0.316, 0.316, 0.316, 0.315, 0.315]\n"
     ]
    }
   ],
   "source": [
    "#Air Temp CRN:\n",
    "with open('CRNH0203-2022-LA_Monroe_26_N.txt') as f:\n",
    "    lst=[line.split()[28] for line in f]\n",
    "    #print(lst)\n",
    "    temp_crn=[]\n",
    "    for i in lst:\n",
    "        new=i.replace(',',\"\")\n",
    "        temp_crn.append(new)\n",
    "    temp_crn=[float(x) for x in temp_crn]\n",
    "    temp_crn=temp_crn[2213:2238]\n",
    "    print(temp_crn)\n",
    "    #print(len(temp_crn))\n",
    "    # print(temp_crn[2124])"
   ]
  },
  {
   "cell_type": "code",
   "execution_count": 115,
   "id": "7e1a3bd7",
   "metadata": {},
   "outputs": [
    {
     "name": "stdout",
     "output_type": "stream",
     "text": [
      "[-0.095, -0.095, -0.094, -0.094, -0.095, -0.094, -0.095, -0.094, -0.093, -0.093, -0.093, -0.093, -0.092, -0.093, -0.092, -0.089, -0.089, -0.088, -0.088, -0.089, -0.089, -0.089, -0.089, -0.089, -0.089]\n"
     ]
    }
   ],
   "source": [
    "difference4_mon = []\n",
    "\n",
    "zip_object = zip(temp, temp_crn)\n",
    "for temp_i, temp_crn_i in zip_object:\n",
    "    difference4_mon.append(temp_i-temp_crn_i)\n",
    "\n",
    "print(difference4_mon)"
   ]
  },
  {
   "cell_type": "markdown",
   "id": "0c50d963",
   "metadata": {},
   "source": [
    "<font size=\"3\">Holly Springs, MS: 2000 UTC 30 March 2022-2000 UTC 31 March 2022</font>"
   ]
  },
  {
   "cell_type": "code",
   "execution_count": 116,
   "id": "56a64b04",
   "metadata": {},
   "outputs": [
    {
     "name": "stdout",
     "output_type": "stream",
     "text": [
      "[0.223, 0.224, 0.225, 0.225, 0.226, 0.226, 0.227, 0.224, 0.222, 0.222, 0.221, 0.219, 0.218, 0.217, 0.217, 0.216, 0.216, 0.216, 0.216, 0.216, 0.216, 0.216, 0.215, 0.214, 0.214]\n"
     ]
    }
   ],
   "source": [
    "#18 hr hrrr:\n",
    "with open('hrrr_f18_Holly Springs_MS.txt') as f:\n",
    "    lst=[line.split()[8] for line in f]\n",
    "    temp=[]\n",
    "    for i in lst:\n",
    "        new=i.replace(',',\"\")\n",
    "        temp.append(new)\n",
    "    temp.pop(0)\n",
    "    temp=[float(x) for x in temp]\n",
    "    #print(temp.index(6.91541))\n",
    "    temp=temp[2196:2221]\n",
    "    print(temp)\n",
    "    #print(len(temp))\n",
    "#full time period is [2015:2112]"
   ]
  },
  {
   "cell_type": "code",
   "execution_count": 117,
   "id": "5c670656",
   "metadata": {},
   "outputs": [
    {
     "name": "stdout",
     "output_type": "stream",
     "text": [
      "[0.393, 0.393, 0.394, 0.393, 0.392, 0.392, 0.392, 0.392, 0.392, 0.392, 0.392, 0.39, 0.388, 0.386, 0.385, 0.383, 0.382, 0.38, 0.38, 0.381, 0.381, 0.381, 0.38, 0.381, 0.381]\n"
     ]
    }
   ],
   "source": [
    "#Air Temp CRN:\n",
    "with open('CRNH0203-2022-MS_Holly_Springs_4_N.txt') as f:\n",
    "    lst=[line.split()[28] for line in f]\n",
    "    #print(lst)\n",
    "    temp_crn=[]\n",
    "    for i in lst:\n",
    "        new=i.replace(',',\"\")\n",
    "        temp_crn.append(new)\n",
    "    temp_crn=[float(x) for x in temp_crn]\n",
    "    temp_crn=temp_crn[2213:2238]\n",
    "    print(temp_crn)\n",
    "    #print(len(temp_crn))\n",
    "    # print(temp_crn[2124])"
   ]
  },
  {
   "cell_type": "code",
   "execution_count": 118,
   "id": "179b5d93",
   "metadata": {},
   "outputs": [
    {
     "name": "stdout",
     "output_type": "stream",
     "text": [
      "[-0.17, -0.169, -0.169, -0.168, -0.166, -0.166, -0.165, -0.168, -0.17, -0.17, -0.171, -0.171, -0.17, -0.169, -0.168, -0.167, -0.166, -0.164, -0.164, -0.165, -0.165, -0.165, -0.165, -0.167, -0.167]\n"
     ]
    }
   ],
   "source": [
    "difference4_hol = []\n",
    "\n",
    "zip_object = zip(temp, temp_crn)\n",
    "for temp_i, temp_crn_i in zip_object:\n",
    "    difference4_hol.append(temp_i-temp_crn_i)\n",
    "\n",
    "print(difference4_hol)"
   ]
  },
  {
   "cell_type": "markdown",
   "id": "6134dcfd",
   "metadata": {},
   "source": [
    "<font size=\"3\">Newton, MS: 2000 UTC 30 March 2022-2000 UTC 31 March 2022</font>"
   ]
  },
  {
   "cell_type": "code",
   "execution_count": 119,
   "id": "367b0555",
   "metadata": {},
   "outputs": [
    {
     "name": "stdout",
     "output_type": "stream",
     "text": [
      "[0.252, 0.252, 0.252, 0.252, 0.252, 0.245, 0.239, 0.238, 0.238, 0.234, 0.231, 0.231, 0.231, 0.23, 0.23, 0.23, 0.23, 0.229, 0.229, 0.23, 0.23, 0.23, 0.23, 0.23, 0.23]\n"
     ]
    }
   ],
   "source": [
    "#18 hr hrrr:\n",
    "with open('hrrr_f18_Newton_MS.txt') as f:\n",
    "    lst=[line.split()[8] for line in f]\n",
    "    temp=[]\n",
    "    for i in lst:\n",
    "        new=i.replace(',',\"\")\n",
    "        temp.append(new)\n",
    "    temp.pop(0)\n",
    "    temp=[float(x) for x in temp]\n",
    "    #print(temp.index(6.91541))\n",
    "    temp=temp[2196:2221]\n",
    "    print(temp)\n",
    "    #print(len(temp))\n",
    "#full time period is [2015:2112]"
   ]
  },
  {
   "cell_type": "code",
   "execution_count": 120,
   "id": "3910adc0",
   "metadata": {},
   "outputs": [
    {
     "name": "stdout",
     "output_type": "stream",
     "text": [
      "[0.309, 0.308, 0.308, 0.309, 0.309, 0.309, 0.309, 0.309, 0.308, 0.308, 0.307, 0.306, 0.304, 0.302, 0.301, 0.299, 0.298, 0.297, 0.298, 0.298, 0.298, 0.298, 0.299, 0.298, 0.299]\n"
     ]
    }
   ],
   "source": [
    "#Air Temp CRN:\n",
    "with open('CRNH0203-2022-MS_Newton_5_ENE.txt') as f:\n",
    "    lst=[line.split()[28] for line in f]\n",
    "    #print(lst)\n",
    "    temp_crn=[]\n",
    "    for i in lst:\n",
    "        new=i.replace(',',\"\")\n",
    "        temp_crn.append(new)\n",
    "    temp_crn=[float(x) for x in temp_crn]\n",
    "    temp_crn=temp_crn[2213:2238]\n",
    "    print(temp_crn)\n",
    "    #print(len(temp_crn))\n",
    "    # print(temp_crn[2124])"
   ]
  },
  {
   "cell_type": "code",
   "execution_count": 121,
   "id": "ba33a397",
   "metadata": {},
   "outputs": [
    {
     "name": "stdout",
     "output_type": "stream",
     "text": [
      "[-0.056999999999999995, -0.055999999999999994, -0.055999999999999994, -0.056999999999999995, -0.056999999999999995, -0.064, -0.07, -0.07100000000000001, -0.07, -0.07399999999999998, -0.07599999999999998, -0.07499999999999998, -0.07299999999999998, -0.07199999999999998, -0.07099999999999998, -0.06899999999999998, -0.06799999999999998, -0.06799999999999998, -0.06899999999999998, -0.06799999999999998, -0.06799999999999998, -0.06799999999999998, -0.06899999999999998, -0.06799999999999998, -0.06899999999999998]\n"
     ]
    }
   ],
   "source": [
    "difference4_new = []\n",
    "\n",
    "zip_object = zip(temp, temp_crn)\n",
    "for temp_i, temp_crn_i in zip_object:\n",
    "    difference4_new.append(temp_i-temp_crn_i)\n",
    "\n",
    "print(difference4_new)"
   ]
  },
  {
   "cell_type": "markdown",
   "id": "7bd00410",
   "metadata": {},
   "source": [
    "<font size=\"3\">Gainesville, AL: 2300 UTC 30 March 2022-2300 UTC 31 March 2022</font>"
   ]
  },
  {
   "cell_type": "code",
   "execution_count": 122,
   "id": "ed60354b",
   "metadata": {},
   "outputs": [],
   "source": [
    "# #18 hr hrrr:\n",
    "# with open('hrrr_f18_Gainesville_AL (1).txt') as f:\n",
    "#     lst=[line.split()[8] for line in f]\n",
    "#     temp=[]\n",
    "#     for i in lst:\n",
    "#         new=i.replace(',',\"\")\n",
    "#         temp.append(new)\n",
    "#     temp.pop(0)\n",
    "#     temp=[float(x) for x in temp]\n",
    "#     #print(temp.index(6.91541))\n",
    "#     temp=temp[2196:2221]\n",
    "#     print(temp)\n",
    "#     #print(len(temp))\n",
    "# #full time period is [2015:2112]"
   ]
  },
  {
   "cell_type": "code",
   "execution_count": 123,
   "id": "6f4a37d7",
   "metadata": {},
   "outputs": [],
   "source": [
    "# #Air Temp CRN:\n",
    "# with open('CRNH0203-2022-AL_Gainesville_2_NE.txt') as f:\n",
    "#     lst=[line.split()[28] for line in f]\n",
    "#     #print(lst)\n",
    "#     temp_crn=[]\n",
    "#     for i in lst:\n",
    "#         new=i.replace(',',\"\")\n",
    "#         temp_crn.append(new)\n",
    "#     temp_crn=[float(x) for x in temp_crn]\n",
    "#     temp_crn=temp_crn[2213:2238]\n",
    "#     print(temp_crn)\n",
    "#     #print(len(temp_crn))\n",
    "#     # print(temp_crn[2124])"
   ]
  },
  {
   "cell_type": "code",
   "execution_count": 124,
   "id": "fb6f4157",
   "metadata": {},
   "outputs": [],
   "source": [
    "# difference4_gai = []\n",
    "\n",
    "# zip_object = zip(temp, temp_crn)\n",
    "# for temp_i, temp_crn_i in zip_object:\n",
    "#     difference4_gai.append(temp_i-temp_crn_i)\n",
    "\n",
    "# print(difference4_gai)"
   ]
  },
  {
   "cell_type": "markdown",
   "id": "7a50447a",
   "metadata": {},
   "source": [
    "<font size=\"3\">Fairhope, AL: 0100 UTC 31 March 2022-0100 UTC 1 April 2022</font>"
   ]
  },
  {
   "cell_type": "code",
   "execution_count": 125,
   "id": "8758557d",
   "metadata": {},
   "outputs": [
    {
     "name": "stdout",
     "output_type": "stream",
     "text": [
      "[0.222, 0.222, 0.222, 0.222, 0.222, 0.222, 0.222, 0.222, 0.218, 0.218, 0.218, 0.217, 0.217, 0.216, 0.216, 0.216, 0.215, 0.215, 0.215, 0.215, 0.215, 0.215, 0.215, 0.215, 0.215]\n"
     ]
    }
   ],
   "source": [
    "#18 hr hrrr:\n",
    "with open('hrrr_f18_Fairhope_AL.txt') as f:\n",
    "    lst=[line.split()[8] for line in f]\n",
    "    temp=[]\n",
    "    for i in lst:\n",
    "        new=i.replace(',',\"\")\n",
    "        temp.append(new)\n",
    "    temp.pop(0)\n",
    "    temp=[float(x) for x in temp]\n",
    "    #print(temp.index(6.91541))\n",
    "    temp=temp[2196:2221]\n",
    "    print(temp)\n",
    "    #print(len(temp))\n",
    "#full time period is [2015:2112]"
   ]
  },
  {
   "cell_type": "code",
   "execution_count": 126,
   "id": "47cbc5ba",
   "metadata": {},
   "outputs": [
    {
     "name": "stdout",
     "output_type": "stream",
     "text": [
      "[0.193, 0.194, 0.191, 0.192, 0.192, 0.193, 0.192, 0.192, 0.193, 0.192, 0.193, 0.189, 0.188, 0.187, 0.186, 0.183, 0.185, 0.185, 0.184, 0.184, 0.181, 0.184, 0.183, 0.183, 0.182]\n"
     ]
    }
   ],
   "source": [
    "#Air Temp CRN:\n",
    "with open('CRNH0203-2022-AL_Fairhope_3_NE.txt') as f:\n",
    "    lst=[line.split()[28] for line in f]\n",
    "    #print(lst)\n",
    "    temp_crn=[]\n",
    "    for i in lst:\n",
    "        new=i.replace(',',\"\")\n",
    "        temp_crn.append(new)\n",
    "    temp_crn=[float(x) for x in temp_crn]\n",
    "    temp_crn=temp_crn[2213:2238]\n",
    "    print(temp_crn)\n",
    "    #print(len(temp_crn))\n",
    "    # print(temp_crn[2124])"
   ]
  },
  {
   "cell_type": "code",
   "execution_count": 127,
   "id": "fda9ecfb",
   "metadata": {},
   "outputs": [
    {
     "name": "stdout",
     "output_type": "stream",
     "text": [
      "[0.028999999999999998, 0.027999999999999997, 0.031, 0.03, 0.03, 0.028999999999999998, 0.03, 0.03, 0.024999999999999994, 0.025999999999999995, 0.024999999999999994, 0.027999999999999997, 0.028999999999999998, 0.028999999999999998, 0.03, 0.033, 0.03, 0.03, 0.031, 0.031, 0.034, 0.031, 0.032, 0.032, 0.033]\n"
     ]
    }
   ],
   "source": [
    "difference4_fai = []\n",
    "\n",
    "zip_object = zip(temp, temp_crn)\n",
    "for temp_i, temp_crn_i in zip_object:\n",
    "    difference4_fai.append(temp_i-temp_crn_i)\n",
    "\n",
    "print(difference4_fai)"
   ]
  },
  {
   "cell_type": "markdown",
   "id": "590d21e7",
   "metadata": {},
   "source": [
    "<font size=\"3\">**Selma, AL: 0100 UTC 31 March 2022-0100 UTC 1 April 2022</font>"
   ]
  },
  {
   "cell_type": "code",
   "execution_count": 128,
   "id": "41c334a1",
   "metadata": {},
   "outputs": [
    {
     "name": "stdout",
     "output_type": "stream",
     "text": [
      "[0.193, 0.194, 0.196, 0.196, 0.197, 0.195, 0.196, 0.196, 0.196, 0.194, 0.192, 0.189, 0.187, 0.185, 0.184, 0.183, 0.183, 0.182, 0.181, 0.181, 0.18, 0.181, 0.181, 0.182, 0.183]\n",
      "25\n",
      "[0.428, 0.427, 0.427, 0.426, 0.429, 0.428, 0.43, 0.426, 0.428, 0.426, 0.425, 0.421, 0.416, 0.415, 0.41, 0.404, 0.4, 0.398, 0.396, 0.396, 0.396, 0.394, 0.396, 0.397, 0.398]\n",
      "25\n",
      "[-0.235, -0.23299999999999998, -0.23099999999999998, -0.22999999999999998, -0.23199999999999998, -0.23299999999999998, -0.23399999999999999, -0.22999999999999998, -0.23199999999999998, -0.23199999999999998, -0.23299999999999998, -0.23199999999999998, -0.22899999999999998, -0.22999999999999998, -0.22599999999999998, -0.22100000000000003, -0.21700000000000003, -0.21600000000000003, -0.21500000000000002, -0.21500000000000002, -0.21600000000000003, -0.21300000000000002, -0.21500000000000002, -0.21500000000000002, -0.21500000000000002]\n"
     ]
    }
   ],
   "source": [
    "#18 hr hrrr:\n",
    "with open('hrrr_f18_Selma_AL.txt') as f:\n",
    "    lst=[line.split()[8] for line in f]\n",
    "    temp=[]\n",
    "    for i in lst:\n",
    "        new=i.replace(',',\"\")\n",
    "        temp.append(new)\n",
    "    temp.pop(0)\n",
    "    temp=[float(x) for x in temp]\n",
    "    #print(temp.index(6.91541))\n",
    "    temp=temp[2196:2221]\n",
    "#Air Temp CRN:\n",
    "with open('CRNH0203-2022-AL_Selma_13_WNW.txt') as f:\n",
    "    lst=[line.split()[28] for line in f]\n",
    "    #print(lst)\n",
    "    temp_crn=[]\n",
    "    for i in lst:\n",
    "        new=i.replace(',',\"\")\n",
    "        temp_crn.append(new)\n",
    "    temp_crn=[float(x) for x in temp_crn]\n",
    "    temp_crn=temp_crn[2213:2238]\n",
    "\n",
    "    print(temp)\n",
    "    print(len(temp))\n",
    "    print(temp_crn)\n",
    "    print(len(temp_crn))\n",
    "#full time period is [2015:2112]\n",
    "difference4_sel = []\n",
    "\n",
    "zip_object = zip(temp, temp_crn)\n",
    "for temp_i, temp_crn_i in zip_object:\n",
    "    difference4_sel.append(temp_i-temp_crn_i)\n",
    "\n",
    "print(difference4_sel)\n",
    "#print(len(difference3_sel))"
   ]
  },
  {
   "cell_type": "markdown",
   "id": "7bcce798",
   "metadata": {},
   "source": [
    "<font size=\"3\">Bowling Green, KY: 0100 UTC 31 March 2022-0100 UTC 1 April 2022</font>"
   ]
  },
  {
   "cell_type": "code",
   "execution_count": 129,
   "id": "71ae764e",
   "metadata": {},
   "outputs": [
    {
     "name": "stdout",
     "output_type": "stream",
     "text": [
      "[0.195, 0.196, 0.196, 0.196, 0.196, 0.196, 0.198, 0.198, 0.201, 0.199, 0.197, 0.197, 0.197, 0.196, 0.196, 0.196, 0.196, 0.196, 0.196, 0.196, 0.196, 0.196, 0.196, 0.196, 0.196]\n"
     ]
    }
   ],
   "source": [
    "#18 hr hrrr:\n",
    "with open('hrrr_f18_Bowling Green_KY.txt') as f:\n",
    "    lst=[line.split()[8] for line in f]\n",
    "    temp=[]\n",
    "    for i in lst:\n",
    "        new=i.replace(',',\"\")\n",
    "        temp.append(new)\n",
    "    temp.pop(0)\n",
    "    temp=[float(x) for x in temp]\n",
    "    #print(temp.index(6.91541))\n",
    "    temp=temp[2196:2221]\n",
    "#     x = np.array(temp)\n",
    "#     temp= ma.masked_array(x, mask=[0, 0, 0, 0, 0,0,1,0,0,0,0,0,0,0,0,0,0,0,0,0,0,0,0,0,0])\n",
    "    #temp=temp[2015:2063]\n",
    "    print(temp)\n",
    "    #print(len(temp))\n",
    "#full time period is [2015:2112]"
   ]
  },
  {
   "cell_type": "code",
   "execution_count": 130,
   "id": "d8285c8c",
   "metadata": {},
   "outputs": [
    {
     "name": "stdout",
     "output_type": "stream",
     "text": [
      "[0.369, 0.369, 0.369, 0.369, 0.369, 0.369, 0.369, 0.369, 0.369, 0.368, 0.367, 0.366, 0.365, 0.363, 0.362, 0.362, 0.361, 0.36, 0.359, 0.359, 0.36, 0.359, 0.36, 0.359, 0.359]\n"
     ]
    }
   ],
   "source": [
    "#Air Temp CRN:\n",
    "with open('CRNH0203-2022-KY_Bowling_Green_21_NNE.txt') as f:\n",
    "    lst=[line.split()[28] for line in f]\n",
    "    #print(lst)\n",
    "    temp_crn=[]\n",
    "    for i in lst:\n",
    "        new=i.replace(',',\"\")\n",
    "        temp_crn.append(new)\n",
    "    temp_crn=[float(x) for x in temp_crn]\n",
    "    temp_crn=temp_crn[2213:2238]\n",
    "#     y = np.array(temp_crn)\n",
    "#     temp_crn = ma.masked_array(y, mask=[0, 0, 0, 0, 0,0,1,0,0,0,0,0,0,0,0,0,0,0,0,0,0,0,0,0,0])\n",
    "    print(temp_crn)\n",
    "    #print(len(temp_crn))\n",
    "    # print(temp_crn[2124])"
   ]
  },
  {
   "cell_type": "code",
   "execution_count": 131,
   "id": "91981297",
   "metadata": {},
   "outputs": [
    {
     "name": "stdout",
     "output_type": "stream",
     "text": [
      "[-0.174, -0.173, -0.173, -0.173, -0.173, -0.173, -0.17099999999999999, -0.17099999999999999, -0.16799999999999998, -0.16899999999999998, -0.16999999999999998, -0.16899999999999998, -0.16799999999999998, -0.16699999999999998, -0.16599999999999998, -0.16599999999999998, -0.16499999999999998, -0.16399999999999998, -0.16299999999999998, -0.16299999999999998, -0.16399999999999998, -0.16299999999999998, -0.16399999999999998, -0.16299999999999998, -0.16299999999999998]\n"
     ]
    }
   ],
   "source": [
    "difference4_bow = []\n",
    "\n",
    "zip_object = zip(temp, temp_crn)\n",
    "for temp_i, temp_crn_i in zip_object:\n",
    "    difference4_bow.append(temp_i-temp_crn_i)\n",
    "\n",
    "print(difference4_bow)"
   ]
  },
  {
   "cell_type": "markdown",
   "id": "2da18b33",
   "metadata": {},
   "source": [
    "<font size=\"3\">Gadsden, AL: 0200 UTC 31 March 2022-0200 UTC 1 April 2022</font>"
   ]
  },
  {
   "cell_type": "code",
   "execution_count": 132,
   "id": "6e2929b2",
   "metadata": {},
   "outputs": [
    {
     "name": "stdout",
     "output_type": "stream",
     "text": [
      "[0.225, 0.225, 0.228, 0.228, 0.229, 0.229, 0.229, 0.229, 0.229, 0.228, 0.223, 0.223, 0.223, 0.222, 0.222, 0.222, 0.221, 0.221, 0.221, 0.221, 0.221, 0.221, 0.221, 0.221, 0.221]\n"
     ]
    }
   ],
   "source": [
    "#18 hr hrrr:\n",
    "with open('hrrr_f18_Gadsden_AL.txt') as f:\n",
    "    lst=[line.split()[8] for line in f]\n",
    "    temp=[]\n",
    "    for i in lst:\n",
    "        new=i.replace(',',\"\")\n",
    "        temp.append(new)\n",
    "    temp.pop(0)\n",
    "    temp=[float(x) for x in temp]\n",
    "    #print(temp.index(6.91541))\n",
    "    temp=temp[2196:2221]\n",
    "    print(temp)\n",
    "    #print(len(temp))\n",
    "#full time period is [2015:2112]"
   ]
  },
  {
   "cell_type": "code",
   "execution_count": 133,
   "id": "70748622",
   "metadata": {},
   "outputs": [
    {
     "name": "stdout",
     "output_type": "stream",
     "text": [
      "[0.262, 0.262, 0.262, 0.261, 0.262, 0.262, 0.262, 0.261, 0.261, 0.261, 0.26, 0.259, 0.256, 0.254, 0.253, 0.25, 0.249, 0.248, 0.247, 0.247, 0.247, 0.248, 0.247, 0.248, 0.247]\n"
     ]
    }
   ],
   "source": [
    "#Air Temp CRN:\n",
    "with open('CRNH0203-2022-AL_Gadsden_19_N.txt') as f:\n",
    "    lst=[line.split()[28] for line in f]\n",
    "    #print(lst)\n",
    "    temp_crn=[]\n",
    "    for i in lst:\n",
    "        new=i.replace(',',\"\")\n",
    "        temp_crn.append(new)\n",
    "    temp_crn=[float(x) for x in temp_crn]\n",
    "    temp_crn=temp_crn[2213:2238]\n",
    "    print(temp_crn)\n",
    "    #print(len(temp_crn))\n",
    "    # print(temp_crn[2124])"
   ]
  },
  {
   "cell_type": "code",
   "execution_count": 134,
   "id": "f4f3dc0e",
   "metadata": {},
   "outputs": [
    {
     "name": "stdout",
     "output_type": "stream",
     "text": [
      "[-0.037000000000000005, -0.037000000000000005, -0.034, -0.033, -0.033, -0.033, -0.033, -0.032, -0.032, -0.033, -0.037000000000000005, -0.036000000000000004, -0.033, -0.032, -0.031, -0.027999999999999997, -0.027999999999999997, -0.026999999999999996, -0.025999999999999995, -0.025999999999999995, -0.025999999999999995, -0.026999999999999996, -0.025999999999999995, -0.026999999999999996, -0.025999999999999995]\n"
     ]
    }
   ],
   "source": [
    "difference4_gad = []\n",
    "\n",
    "zip_object = zip(temp, temp_crn)\n",
    "for temp_i, temp_crn_i in zip_object:\n",
    "    difference4_gad.append(temp_i-temp_crn_i)\n",
    "\n",
    "print(difference4_gad)"
   ]
  },
  {
   "cell_type": "markdown",
   "id": "bc5afa4d",
   "metadata": {},
   "source": [
    "<font size=\"3\">Newton, GA: 0700 UTC 31 March 2022-0700 UTC 1 April 2022</font>"
   ]
  },
  {
   "cell_type": "code",
   "execution_count": 135,
   "id": "fa0539eb",
   "metadata": {},
   "outputs": [
    {
     "name": "stdout",
     "output_type": "stream",
     "text": [
      "[0.24, 0.241, 0.242, 0.242, 0.242, 0.242, 0.242, 0.242, 0.241, 0.24, 0.239, 0.238, 0.237, 0.237, 0.237, 0.237, 0.236, 0.236, 0.236, 0.236, 0.236, 0.236, 0.236, 0.236, 0.236]\n"
     ]
    }
   ],
   "source": [
    "#18 hr hrrr:\n",
    "with open('hrrr_f18_Newton_GA.txt') as f:\n",
    "    lst=[line.split()[8] for line in f]\n",
    "    temp=[]\n",
    "    for i in lst:\n",
    "        new=i.replace(',',\"\")\n",
    "        temp.append(new)\n",
    "    temp.pop(0)\n",
    "    temp=[float(x) for x in temp]\n",
    "    #print(temp.index(6.91541))\n",
    "    temp=temp[2196:2221]\n",
    "    print(temp)\n",
    "    #print(len(temp))\n",
    "#full time period is [2015:2112]"
   ]
  },
  {
   "cell_type": "code",
   "execution_count": 136,
   "id": "0afdceea",
   "metadata": {},
   "outputs": [
    {
     "name": "stdout",
     "output_type": "stream",
     "text": [
      "[0.193, 0.193, 0.193, 0.193, 0.193, 0.193, 0.193, 0.193, 0.192, 0.191, 0.187, 0.186, 0.185, 0.183, 0.18, 0.179, 0.178, 0.178, 0.178, 0.178, 0.179, 0.179, 0.179, 0.18, 0.179]\n"
     ]
    }
   ],
   "source": [
    "#Air Temp CRN:\n",
    "with open('CRNH0203-2022-GA_Newton_11_SW.txt') as f:\n",
    "    lst=[line.split()[28] for line in f]\n",
    "    #print(lst)\n",
    "    temp_crn=[]\n",
    "    for i in lst:\n",
    "        new=i.replace(',',\"\")\n",
    "        temp_crn.append(new)\n",
    "    temp_crn=[float(x) for x in temp_crn]\n",
    "    temp_crn=temp_crn[2213:2238]\n",
    "    print(temp_crn)\n",
    "    #print(len(temp_crn))\n",
    "    # print(temp_crn[2124])"
   ]
  },
  {
   "cell_type": "code",
   "execution_count": 137,
   "id": "cb9fb23e",
   "metadata": {},
   "outputs": [
    {
     "name": "stdout",
     "output_type": "stream",
     "text": [
      "[0.046999999999999986, 0.04799999999999999, 0.04899999999999999, 0.04899999999999999, 0.04899999999999999, 0.04899999999999999, 0.04899999999999999, 0.04899999999999999, 0.04899999999999999, 0.04899999999999999, 0.05199999999999999, 0.05199999999999999, 0.05199999999999999, 0.05399999999999999, 0.056999999999999995, 0.057999999999999996, 0.057999999999999996, 0.057999999999999996, 0.057999999999999996, 0.057999999999999996, 0.056999999999999995, 0.056999999999999995, 0.056999999999999995, 0.055999999999999994, 0.056999999999999995]\n"
     ]
    }
   ],
   "source": [
    "difference4_newt = []\n",
    "\n",
    "zip_object = zip(temp, temp_crn)\n",
    "for temp_i, temp_crn_i in zip_object:\n",
    "    difference4_newt.append(temp_i-temp_crn_i)\n",
    "\n",
    "print(difference4_newt)"
   ]
  },
  {
   "cell_type": "markdown",
   "id": "799b4b67",
   "metadata": {},
   "source": [
    "<font size=\"3\">Salem, MO: 0500 UTC (12:00 am CDT) 19 April 2022-0500 UTC (12:00 am CDT) 20 April 2022</font>"
   ]
  },
  {
   "cell_type": "code",
   "execution_count": 138,
   "id": "4e14606b",
   "metadata": {},
   "outputs": [
    {
     "name": "stdout",
     "output_type": "stream",
     "text": [
      "[0.249, 0.249, 0.25, 0.247, 0.245, 0.245, 0.245, 0.245, 0.245, 0.243, 0.239, 0.236, 0.233, 0.231, 0.229, 0.227, 0.226, 0.225, 0.224, 0.223, 0.223, 0.223, 0.223, 0.228, 0.224]\n"
     ]
    }
   ],
   "source": [
    "#18 hr hrrr:\n",
    "with open('hrrr_f18_Salem_MO.txt') as f:\n",
    "    lst=[line.split()[8] for line in f]\n",
    "    temp=[]\n",
    "    for i in lst:\n",
    "        new=i.replace(',',\"\")\n",
    "        temp.append(new)\n",
    "    temp.pop(0)\n",
    "    temp=[float(x) for x in temp]\n",
    "    #print(temp.index(6.91541))\n",
    "    temp=temp[2580:2605]\n",
    "    print(temp)\n",
    "    #print(len(temp))\n",
    "#full time period is [2015:2112]"
   ]
  },
  {
   "cell_type": "code",
   "execution_count": 139,
   "id": "14d31403",
   "metadata": {},
   "outputs": [
    {
     "name": "stdout",
     "output_type": "stream",
     "text": [
      "[0.353, 0.352, 0.351, 0.35, 0.349, 0.348, 0.347, 0.347, 0.346, 0.345, 0.344, 0.342, 0.34, 0.339, 0.338, 0.336, 0.336, 0.335, 0.335, 0.335, 0.334, 0.334, 0.334, 0.334, 0.334]\n"
     ]
    }
   ],
   "source": [
    "#Air Temp CRN:\n",
    "with open('CRNH0203-2022-MO_Salem_10_W.txt') as f:\n",
    "    lst=[line.split()[28] for line in f]\n",
    "    #print(lst)\n",
    "    temp_crn=[]\n",
    "    for i in lst:\n",
    "        new=i.replace(',',\"\")\n",
    "        temp_crn.append(new)\n",
    "    temp_crn=[float(x) for x in temp_crn]\n",
    "    temp_crn=temp_crn[2597:2622]\n",
    "    print(temp_crn)\n",
    "    #print(len(temp_crn))\n",
    "    # print(temp_crn[2124])"
   ]
  },
  {
   "cell_type": "code",
   "execution_count": 140,
   "id": "361d073a",
   "metadata": {},
   "outputs": [
    {
     "name": "stdout",
     "output_type": "stream",
     "text": [
      "[-0.10399999999999998, -0.10299999999999998, -0.10099999999999998, -0.10299999999999998, -0.10399999999999998, -0.10299999999999998, -0.10199999999999998, -0.10199999999999998, -0.10099999999999998, -0.10199999999999998, -0.10499999999999998, -0.10600000000000004, -0.10700000000000001, -0.10800000000000001, -0.10900000000000001, -0.10900000000000001, -0.11000000000000001, -0.11000000000000001, -0.11100000000000002, -0.11200000000000002, -0.11100000000000002, -0.11100000000000002, -0.11100000000000002, -0.10600000000000001, -0.11000000000000001]\n"
     ]
    }
   ],
   "source": [
    "difference5_sal = []\n",
    "\n",
    "zip_object = zip(temp, temp_crn)\n",
    "for temp_i, temp_crn_i in zip_object:\n",
    "    difference5_sal.append(temp_i-temp_crn_i)\n",
    "\n",
    "print(difference5_sal)"
   ]
  },
  {
   "cell_type": "markdown",
   "id": "c4e69d5d",
   "metadata": {},
   "source": [
    "<font size=\"3\">Batesville, AR: 1300 UTC 30 March 2022-1300 UTC 31 March 2022</font>"
   ]
  },
  {
   "cell_type": "code",
   "execution_count": 141,
   "id": "230e673e",
   "metadata": {},
   "outputs": [
    {
     "name": "stdout",
     "output_type": "stream",
     "text": [
      "[0.199, 0.199, 0.198, 0.198, 0.197, 0.197, 0.197, 0.197, 0.197, 0.197, 0.196, 0.195, 0.195, 0.194, 0.194, 0.194, 0.194, 0.193, 0.193, 0.193, 0.193, 0.193, 0.193, 0.193, 0.193]\n"
     ]
    }
   ],
   "source": [
    "#18 hr hrrr:\n",
    "with open('hrrr_f18_Batesville_AR.txt') as f:\n",
    "    lst=[line.split()[8] for line in f]\n",
    "    temp=[]\n",
    "    for i in lst:\n",
    "        new=i.replace(',',\"\")\n",
    "        temp.append(new)\n",
    "    temp.pop(0)\n",
    "    temp=[float(x) for x in temp]\n",
    "    #print(temp.index(6.91541))\n",
    "    temp=temp[2580:2605]\n",
    "    print(temp)\n",
    "    #print(len(temp))\n",
    "#full time period is [2015:2112]"
   ]
  },
  {
   "cell_type": "code",
   "execution_count": 142,
   "id": "f2c65701",
   "metadata": {},
   "outputs": [
    {
     "name": "stdout",
     "output_type": "stream",
     "text": [
      "[0.311, 0.311, 0.311, 0.31, 0.31, 0.31, 0.311, 0.311, 0.309, 0.309, 0.308, 0.306, 0.304, 0.301, 0.299, 0.297, 0.295, 0.294, 0.292, 0.292, 0.292, 0.292, 0.291, 0.291, 0.292]\n"
     ]
    }
   ],
   "source": [
    "#Air Temp CRN:\n",
    "with open('CRNH0203-2022-AR_Batesville_8_WNW.txt') as f:\n",
    "    lst=[line.split()[28] for line in f]\n",
    "    #print(lst)\n",
    "    temp_crn=[]\n",
    "    for i in lst:\n",
    "        new=i.replace(',',\"\")\n",
    "        temp_crn.append(new)\n",
    "    temp_crn=[float(x) for x in temp_crn]\n",
    "    temp_crn=temp_crn[2597:2622]\n",
    "    print(temp_crn)\n",
    "    #print(len(temp_crn))\n",
    "    # print(temp_crn[2124])"
   ]
  },
  {
   "cell_type": "code",
   "execution_count": 143,
   "id": "a10c7447",
   "metadata": {},
   "outputs": [
    {
     "name": "stdout",
     "output_type": "stream",
     "text": [
      "[-0.11199999999999999, -0.11199999999999999, -0.11299999999999999, -0.11199999999999999, -0.11299999999999999, -0.11299999999999999, -0.11399999999999999, -0.11399999999999999, -0.11199999999999999, -0.11199999999999999, -0.11199999999999999, -0.11099999999999999, -0.10899999999999999, -0.10699999999999998, -0.10499999999999998, -0.10299999999999998, -0.10099999999999998, -0.10099999999999998, -0.09899999999999998, -0.09899999999999998, -0.09899999999999998, -0.09899999999999998, -0.09799999999999998, -0.09799999999999998, -0.09899999999999998]\n"
     ]
    }
   ],
   "source": [
    "difference5_bat = []\n",
    "\n",
    "zip_object = zip(temp, temp_crn)\n",
    "for temp_i, temp_crn_i in zip_object:\n",
    "    difference5_bat.append(temp_i-temp_crn_i)\n",
    "\n",
    "print(difference5_bat)"
   ]
  },
  {
   "cell_type": "markdown",
   "id": "cc5b8b4e",
   "metadata": {},
   "source": [
    "<font size=\"3\">Lafayette, LA: 1700 UTC 30 March 2022-1700 UTC 31 March 2022</font>"
   ]
  },
  {
   "cell_type": "code",
   "execution_count": 144,
   "id": "88137ddd",
   "metadata": {},
   "outputs": [
    {
     "name": "stdout",
     "output_type": "stream",
     "text": [
      "[0.308, 0.308, 0.3, 0.296, 0.29, 0.29, 0.29, 0.29, 0.29, 0.289, 0.289, 0.28, 0.28, 0.279, 0.278, 0.278, 0.277, 0.277, 0.277, 0.277, 0.277, 0.277, 0.277, 0.277, 0.277]\n"
     ]
    }
   ],
   "source": [
    "#18 hr hrrr:\n",
    "with open('hrrr_f18_Lafayette_LA.txt') as f:\n",
    "    lst=[line.split()[8] for line in f]\n",
    "    temp=[]\n",
    "    for i in lst:\n",
    "        new=i.replace(',',\"\")\n",
    "        temp.append(new)\n",
    "    temp.pop(0)\n",
    "    temp=[float(x) for x in temp]\n",
    "    #print(temp.index(6.91541))\n",
    "    temp=temp[2580:2605]\n",
    "    print(temp)\n",
    "    #print(len(temp))\n",
    "#full time period is [2015:2112]"
   ]
  },
  {
   "cell_type": "code",
   "execution_count": 145,
   "id": "b5d1cd36",
   "metadata": {},
   "outputs": [
    {
     "name": "stdout",
     "output_type": "stream",
     "text": [
      "[0.36, 0.36, 0.359, 0.359, 0.358, 0.359, 0.358, 0.358, 0.359, 0.358, 0.358, 0.357, 0.356, 0.355, 0.355, 0.354, 0.353, 0.353, 0.353, 0.352, 0.352, 0.352, 0.352, 0.351, 0.352]\n"
     ]
    }
   ],
   "source": [
    "#Air Temp CRN:\n",
    "with open('CRNH0203-2022-LA_Lafayette_13_SE.txt') as f:\n",
    "    lst=[line.split()[28] for line in f]\n",
    "    #print(lst)\n",
    "    temp_crn=[]\n",
    "    for i in lst:\n",
    "        new=i.replace(',',\"\")\n",
    "        temp_crn.append(new)\n",
    "    temp_crn=[float(x) for x in temp_crn]\n",
    "    temp_crn=temp_crn[2597:2622]\n",
    "    print(temp_crn)\n",
    "    #print(len(temp_crn))\n",
    "    # print(temp_crn[2124])"
   ]
  },
  {
   "cell_type": "code",
   "execution_count": 146,
   "id": "e5a212f4",
   "metadata": {},
   "outputs": [
    {
     "name": "stdout",
     "output_type": "stream",
     "text": [
      "[-0.05199999999999999, -0.05199999999999999, -0.059, -0.063, -0.068, -0.069, -0.068, -0.068, -0.069, -0.069, -0.069, -0.07699999999999996, -0.07599999999999996, -0.07599999999999996, -0.07699999999999996, -0.07599999999999996, -0.07599999999999996, -0.07599999999999996, -0.07599999999999996, -0.07499999999999996, -0.07499999999999996, -0.07499999999999996, -0.07499999999999996, -0.07399999999999995, -0.07499999999999996]\n"
     ]
    }
   ],
   "source": [
    "difference5_laf = []\n",
    "\n",
    "zip_object = zip(temp, temp_crn)\n",
    "for temp_i, temp_crn_i in zip_object:\n",
    "    difference5_laf.append(temp_i-temp_crn_i)\n",
    "\n",
    "print(difference5_laf)"
   ]
  },
  {
   "cell_type": "markdown",
   "id": "4f40f44c",
   "metadata": {},
   "source": [
    "<font size=\"3\">Monroe, LA: 1700 UTC 30 March 2022-1700 UTC 31 March 2022</font>"
   ]
  },
  {
   "cell_type": "code",
   "execution_count": 147,
   "id": "9ff95b00",
   "metadata": {},
   "outputs": [
    {
     "name": "stdout",
     "output_type": "stream",
     "text": [
      "[0.231, 0.232, 0.233, 0.232, 0.229, 0.229, 0.229, 0.23, 0.229, 0.228, 0.227, 0.225, 0.224, 0.224, 0.224, 0.224, 0.224, 0.224, 0.224, 0.224, 0.224, 0.224, 0.224, 0.223, 0.223]\n"
     ]
    }
   ],
   "source": [
    "#18 hr hrrr:\n",
    "with open('hrrr_f18_Monroe_LA.txt') as f:\n",
    "    lst=[line.split()[8] for line in f]\n",
    "    temp=[]\n",
    "    for i in lst:\n",
    "        new=i.replace(',',\"\")\n",
    "        temp.append(new)\n",
    "    temp.pop(0)\n",
    "    temp=[float(x) for x in temp]\n",
    "    #print(temp.index(6.91541))\n",
    "    temp=temp[2580:2605]\n",
    "    print(temp)\n",
    "    #print(len(temp))\n",
    "#full time period is [2015:2112]"
   ]
  },
  {
   "cell_type": "code",
   "execution_count": 148,
   "id": "c4cb4696",
   "metadata": {},
   "outputs": [
    {
     "name": "stdout",
     "output_type": "stream",
     "text": [
      "[0.334, 0.345, 0.336, 0.338, 0.336, 0.338, 0.339, 0.338, 0.338, 0.336, 0.336, 0.334, 0.333, 0.332, 0.331, 0.331, 0.329, 0.331, 0.33, 0.331, 0.333, 0.332, 0.332, 0.333, 0.333]\n"
     ]
    }
   ],
   "source": [
    "#Air Temp CRN:\n",
    "with open('CRNH0203-2022-LA_Monroe_26_N.txt') as f:\n",
    "    lst=[line.split()[28] for line in f]\n",
    "    #print(lst)\n",
    "    temp_crn=[]\n",
    "    for i in lst:\n",
    "        new=i.replace(',',\"\")\n",
    "        temp_crn.append(new)\n",
    "    temp_crn=[float(x) for x in temp_crn]\n",
    "    temp_crn=temp_crn[2597:2622]\n",
    "    print(temp_crn)\n",
    "    #print(len(temp_crn))\n",
    "    # print(temp_crn[2124])"
   ]
  },
  {
   "cell_type": "code",
   "execution_count": 149,
   "id": "5724c44e",
   "metadata": {},
   "outputs": [
    {
     "name": "stdout",
     "output_type": "stream",
     "text": [
      "[-0.10300000000000001, -0.11299999999999996, -0.10300000000000001, -0.10600000000000001, -0.10700000000000001, -0.10900000000000001, -0.11000000000000001, -0.10800000000000001, -0.10900000000000001, -0.10800000000000001, -0.10900000000000001, -0.10900000000000001, -0.10900000000000001, -0.10800000000000001, -0.10700000000000001, -0.10700000000000001, -0.10500000000000001, -0.10700000000000001, -0.10600000000000001, -0.10700000000000001, -0.10900000000000001, -0.10800000000000001, -0.10800000000000001, -0.11000000000000001, -0.11000000000000001]\n"
     ]
    }
   ],
   "source": [
    "difference5_mon = []\n",
    "\n",
    "zip_object = zip(temp, temp_crn)\n",
    "for temp_i, temp_crn_i in zip_object:\n",
    "    difference5_mon.append(temp_i-temp_crn_i)\n",
    "\n",
    "print(difference5_mon)"
   ]
  },
  {
   "cell_type": "markdown",
   "id": "4c43b084",
   "metadata": {},
   "source": [
    "<font size=\"3\">Holly Springs, MS: 2000 UTC 30 March 2022-2000 UTC 31 March 2022</font>"
   ]
  },
  {
   "cell_type": "code",
   "execution_count": 150,
   "id": "4b3287a6",
   "metadata": {},
   "outputs": [
    {
     "name": "stdout",
     "output_type": "stream",
     "text": [
      "[0.251, 0.256, 0.256, 0.254, 0.255, 0.251, 0.248, 0.246, 0.243, 0.24, 0.236, 0.229, 0.227, 0.226, 0.225, 0.224, 0.223, 0.223, 0.223, 0.222, 0.221, 0.221, 0.22, 0.22, 0.22]\n"
     ]
    }
   ],
   "source": [
    "#18 hr hrrr:\n",
    "with open('hrrr_f18_Holly Springs_MS.txt') as f:\n",
    "    lst=[line.split()[8] for line in f]\n",
    "    temp=[]\n",
    "    for i in lst:\n",
    "        new=i.replace(',',\"\")\n",
    "        temp.append(new)\n",
    "    temp.pop(0)\n",
    "    temp=[float(x) for x in temp]\n",
    "    #print(temp.index(6.91541))\n",
    "    temp=temp[2580:2605]\n",
    "    print(temp)\n",
    "    #print(len(temp))\n",
    "#full time period is [2015:2112]"
   ]
  },
  {
   "cell_type": "code",
   "execution_count": 151,
   "id": "5b5111e7",
   "metadata": {},
   "outputs": [
    {
     "name": "stdout",
     "output_type": "stream",
     "text": [
      "[0.426, 0.425, 0.425, 0.425, 0.424, 0.424, 0.424, 0.423, 0.423, 0.423, 0.422, 0.42, 0.419, 0.416, 0.414, 0.413, 0.411, 0.411, 0.41, 0.41, 0.41, 0.409, 0.409, 0.409, 0.409]\n"
     ]
    }
   ],
   "source": [
    "#Air Temp CRN:\n",
    "with open('CRNH0203-2022-MS_Holly_Springs_4_N.txt') as f:\n",
    "    lst=[line.split()[28] for line in f]\n",
    "    #print(lst)\n",
    "    temp_crn=[]\n",
    "    for i in lst:\n",
    "        new=i.replace(',',\"\")\n",
    "        temp_crn.append(new)\n",
    "    temp_crn=[float(x) for x in temp_crn]\n",
    "    temp_crn=temp_crn[2597:2622]\n",
    "    print(temp_crn)\n",
    "    #print(len(temp_crn))\n",
    "    # print(temp_crn[2124])"
   ]
  },
  {
   "cell_type": "code",
   "execution_count": 152,
   "id": "00e9e9b4",
   "metadata": {},
   "outputs": [
    {
     "name": "stdout",
     "output_type": "stream",
     "text": [
      "[-0.175, -0.16899999999999998, -0.16899999999999998, -0.17099999999999999, -0.16899999999999998, -0.173, -0.176, -0.177, -0.18, -0.183, -0.186, -0.19099999999999998, -0.19199999999999998, -0.18999999999999997, -0.18899999999999997, -0.18899999999999997, -0.18799999999999997, -0.18799999999999997, -0.18699999999999997, -0.18799999999999997, -0.18899999999999997, -0.18799999999999997, -0.18899999999999997, -0.18899999999999997, -0.18899999999999997]\n"
     ]
    }
   ],
   "source": [
    "difference5_hol = []\n",
    "\n",
    "zip_object = zip(temp, temp_crn)\n",
    "for temp_i, temp_crn_i in zip_object:\n",
    "    difference5_hol.append(temp_i-temp_crn_i)\n",
    "\n",
    "print(difference5_hol)"
   ]
  },
  {
   "cell_type": "markdown",
   "id": "881ff5d8",
   "metadata": {},
   "source": [
    "<font size=\"3\">Newton, MS: 2000 UTC 30 March 2022-2000 UTC 31 March 2022</font>"
   ]
  },
  {
   "cell_type": "code",
   "execution_count": 153,
   "id": "67eef56a",
   "metadata": {},
   "outputs": [
    {
     "name": "stdout",
     "output_type": "stream",
     "text": [
      "[0.306, 0.306, 0.308, 0.309, 0.308, 0.309, 0.308, 0.303, 0.299, 0.292, 0.286, 0.284, 0.282, 0.281, 0.28, 0.28, 0.28, 0.281, 0.281, 0.282, 0.282, 0.283, 0.283, 0.283, 0.283]\n"
     ]
    }
   ],
   "source": [
    "#18 hr hrrr:\n",
    "with open('hrrr_f18_Newton_MS.txt') as f:\n",
    "    lst=[line.split()[8] for line in f]\n",
    "    temp=[]\n",
    "    for i in lst:\n",
    "        new=i.replace(',',\"\")\n",
    "        temp.append(new)\n",
    "    temp.pop(0)\n",
    "    temp=[float(x) for x in temp]\n",
    "    #print(temp.index(6.91541))\n",
    "    temp=temp[2580:2605]\n",
    "    print(temp)\n",
    "    #print(len(temp))\n",
    "#full time period is [2015:2112]"
   ]
  },
  {
   "cell_type": "code",
   "execution_count": 154,
   "id": "60e66f5c",
   "metadata": {},
   "outputs": [
    {
     "name": "stdout",
     "output_type": "stream",
     "text": [
      "[0.339, 0.339, 0.338, 0.338, 0.337, 0.337, 0.337, 0.337, 0.337, 0.336, 0.335, 0.333, 0.33, 0.328, 0.326, 0.325, 0.324, 0.323, 0.324, 0.323, 0.323, 0.323, 0.324, 0.324, 0.324]\n"
     ]
    }
   ],
   "source": [
    "#Air Temp CRN:\n",
    "with open('CRNH0203-2022-MS_Newton_5_ENE.txt') as f:\n",
    "    lst=[line.split()[28] for line in f]\n",
    "    #print(lst)\n",
    "    temp_crn=[]\n",
    "    for i in lst:\n",
    "        new=i.replace(',',\"\")\n",
    "        temp_crn.append(new)\n",
    "    temp_crn=[float(x) for x in temp_crn]\n",
    "    temp_crn=temp_crn[2597:2622]\n",
    "    print(temp_crn)\n",
    "    #print(len(temp_crn))\n",
    "    # print(temp_crn[2124])"
   ]
  },
  {
   "cell_type": "code",
   "execution_count": 155,
   "id": "a003b5db",
   "metadata": {},
   "outputs": [
    {
     "name": "stdout",
     "output_type": "stream",
     "text": [
      "[-0.03300000000000003, -0.03300000000000003, -0.030000000000000027, -0.029000000000000026, -0.029000000000000026, -0.028000000000000025, -0.029000000000000026, -0.03400000000000003, -0.038000000000000034, -0.04400000000000004, -0.049000000000000044, -0.049000000000000044, -0.04800000000000004, -0.046999999999999986, -0.045999999999999985, -0.044999999999999984, -0.043999999999999984, -0.04199999999999998, -0.04299999999999998, -0.041000000000000036, -0.041000000000000036, -0.040000000000000036, -0.041000000000000036, -0.041000000000000036, -0.041000000000000036]\n"
     ]
    }
   ],
   "source": [
    "difference5_new = []\n",
    "\n",
    "zip_object = zip(temp, temp_crn)\n",
    "for temp_i, temp_crn_i in zip_object:\n",
    "    difference5_new.append(temp_i-temp_crn_i)\n",
    "\n",
    "print(difference5_new)"
   ]
  },
  {
   "cell_type": "markdown",
   "id": "6717f13d",
   "metadata": {},
   "source": [
    "<font size=\"3\">Gainesville, AL: 2300 UTC 30 March 2022-2300 UTC 31 March 2022</font>"
   ]
  },
  {
   "cell_type": "code",
   "execution_count": 156,
   "id": "2661f956",
   "metadata": {},
   "outputs": [],
   "source": [
    "# #18 hr hrrr:\n",
    "# with open('hrrr_f18_Gainesville_AL (1).txt') as f:\n",
    "#     lst=[line.split()[8] for line in f]\n",
    "#     temp=[]\n",
    "#     for i in lst:\n",
    "#         new=i.replace(',',\"\")\n",
    "#         temp.append(new)\n",
    "#     temp.pop(0)\n",
    "#     temp=[float(x) for x in temp]\n",
    "#     #print(temp.index(6.91541))\n",
    "#     temp=temp[2580:2605]\n",
    "#     print(temp)\n",
    "#     #print(len(temp))\n",
    "# #full time period is [2015:2112]"
   ]
  },
  {
   "cell_type": "code",
   "execution_count": 157,
   "id": "8891e2d3",
   "metadata": {},
   "outputs": [],
   "source": [
    "# #Air Temp CRN:\n",
    "# with open('CRNH0203-2022-AL_Gainesville_2_NE.txt') as f:\n",
    "#     lst=[line.split()[28] for line in f]\n",
    "#     #print(lst)\n",
    "#     temp_crn=[]\n",
    "#     for i in lst:\n",
    "#         new=i.replace(',',\"\")\n",
    "#         temp_crn.append(new)\n",
    "#     temp_crn=[float(x) for x in temp_crn]\n",
    "#     temp_crn=temp_crn[2597:2622]\n",
    "#     print(temp_crn)\n",
    "#     #print(len(temp_crn))\n",
    "#     # print(temp_crn[2124])"
   ]
  },
  {
   "cell_type": "code",
   "execution_count": 158,
   "id": "df3f5019",
   "metadata": {},
   "outputs": [],
   "source": [
    "# difference5_gai = []\n",
    "\n",
    "# zip_object = zip(temp, temp_crn)\n",
    "# for temp_i, temp_crn_i in zip_object:\n",
    "#     difference5_gai.append(temp_i-temp_crn_i)\n",
    "\n",
    "# print(difference5_gai)"
   ]
  },
  {
   "cell_type": "markdown",
   "id": "7ca83d44",
   "metadata": {},
   "source": [
    "<font size=\"3\">Fairhope, AL: 0100 UTC 31 March 2022-0100 UTC 1 April 2022</font>"
   ]
  },
  {
   "cell_type": "code",
   "execution_count": 159,
   "id": "c86710c8",
   "metadata": {},
   "outputs": [
    {
     "name": "stdout",
     "output_type": "stream",
     "text": [
      "[0.238, 0.237, 0.237, 0.232, 0.235, 0.234, 0.234, 0.233, 0.233, 0.234, 0.233, 0.233, 0.232, 0.232, 0.231, 0.231, 0.23, 0.23, 0.23, 0.23, 0.229, 0.229, 0.229, 0.229, 0.229]\n"
     ]
    }
   ],
   "source": [
    "#18 hr hrrr:\n",
    "with open('hrrr_f18_Fairhope_AL.txt') as f:\n",
    "    lst=[line.split()[8] for line in f]\n",
    "    temp=[]\n",
    "    for i in lst:\n",
    "        new=i.replace(',',\"\")\n",
    "        temp.append(new)\n",
    "    temp.pop(0)\n",
    "    temp=[float(x) for x in temp]\n",
    "    #print(temp.index(6.91541))\n",
    "    temp=temp[2580:2605]\n",
    "    print(temp)\n",
    "    #print(len(temp))\n",
    "#full time period is [2015:2112]"
   ]
  },
  {
   "cell_type": "code",
   "execution_count": 160,
   "id": "dd7f10e7",
   "metadata": {},
   "outputs": [
    {
     "name": "stdout",
     "output_type": "stream",
     "text": [
      "[0.222, 0.222, 0.222, 0.221, 0.22, 0.221, 0.221, 0.221, 0.219, 0.219, 0.217, 0.217, 0.214, 0.213, 0.212, 0.21, 0.208, 0.209, 0.208, 0.21, 0.207, 0.208, 0.207, 0.208, 0.207]\n"
     ]
    }
   ],
   "source": [
    "#Air Temp CRN:\n",
    "with open('CRNH0203-2022-AL_Fairhope_3_NE.txt') as f:\n",
    "    lst=[line.split()[28] for line in f]\n",
    "    #print(lst)\n",
    "    temp_crn=[]\n",
    "    for i in lst:\n",
    "        new=i.replace(',',\"\")\n",
    "        temp_crn.append(new)\n",
    "    temp_crn=[float(x) for x in temp_crn]\n",
    "    temp_crn=temp_crn[2597:2622]\n",
    "    print(temp_crn)\n",
    "    #print(len(temp_crn))\n",
    "    # print(temp_crn[2124])"
   ]
  },
  {
   "cell_type": "code",
   "execution_count": 161,
   "id": "a0dfa435",
   "metadata": {},
   "outputs": [
    {
     "name": "stdout",
     "output_type": "stream",
     "text": [
      "[0.015999999999999986, 0.014999999999999986, 0.014999999999999986, 0.01100000000000001, 0.014999999999999986, 0.013000000000000012, 0.013000000000000012, 0.01200000000000001, 0.014000000000000012, 0.015000000000000013, 0.016000000000000014, 0.016000000000000014, 0.018000000000000016, 0.019000000000000017, 0.019000000000000017, 0.02100000000000002, 0.02200000000000002, 0.02100000000000002, 0.02200000000000002, 0.020000000000000018, 0.02200000000000002, 0.02100000000000002, 0.02200000000000002, 0.02100000000000002, 0.02200000000000002]\n"
     ]
    }
   ],
   "source": [
    "difference5_fai = []\n",
    "\n",
    "zip_object = zip(temp, temp_crn)\n",
    "for temp_i, temp_crn_i in zip_object:\n",
    "    difference5_fai.append(temp_i-temp_crn_i)\n",
    "\n",
    "print(difference5_fai)"
   ]
  },
  {
   "cell_type": "markdown",
   "id": "e9a64751",
   "metadata": {},
   "source": [
    "<font size=\"3\">**Selma, AL: 0100 UTC 31 March 2022-0100 UTC 1 April 2022</font>"
   ]
  },
  {
   "cell_type": "code",
   "execution_count": 162,
   "id": "2c74077a",
   "metadata": {},
   "outputs": [
    {
     "name": "stdout",
     "output_type": "stream",
     "text": [
      "[0.23, 0.231, 0.231, 0.231, 0.232, 0.232, 0.232, 0.231, 0.227, 0.221, 0.216, 0.213, 0.211, 0.208, 0.206, 0.204, 0.203, 0.203, 0.203, 0.205, 0.206, 0.207, 0.208, 0.209, 0.21]\n",
      "25\n",
      "[0.496, 0.497, 0.496, 0.496, 0.497, 0.497, 0.498, 0.498, 0.498, 0.499, 0.494, 0.491, 0.488, 0.482, 0.481, 0.468, 0.467, 0.463, 0.46, 0.459, 0.459, 0.46, 0.458, 0.458, 0.458]\n",
      "25\n",
      "[-0.266, -0.266, -0.265, -0.265, -0.265, -0.265, -0.266, -0.267, -0.271, -0.278, -0.278, -0.278, -0.277, -0.274, -0.275, -0.264, -0.264, -0.26, -0.257, -0.254, -0.253, -0.253, -0.25, -0.24900000000000003, -0.24800000000000003]\n"
     ]
    }
   ],
   "source": [
    "#18 hr hrrr:\n",
    "with open('hrrr_f18_Selma_AL.txt') as f:\n",
    "    lst=[line.split()[8] for line in f]\n",
    "    temp=[]\n",
    "    for i in lst:\n",
    "        new=i.replace(',',\"\")\n",
    "        temp.append(new)\n",
    "    temp.pop(0)\n",
    "    temp=[float(x) for x in temp]\n",
    "    #print(temp.index(6.91541))\n",
    "    temp=temp[2580:2605]\n",
    "#Air Temp CRN:\n",
    "with open('CRNH0203-2022-AL_Selma_13_WNW.txt') as f:\n",
    "    lst=[line.split()[28] for line in f]\n",
    "    #print(lst)\n",
    "    temp_crn=[]\n",
    "    for i in lst:\n",
    "        new=i.replace(',',\"\")\n",
    "        temp_crn.append(new)\n",
    "    temp_crn=[float(x) for x in temp_crn]\n",
    "    temp_crn=temp_crn[2597:2622]\n",
    "\n",
    "    print(temp)\n",
    "    print(len(temp))\n",
    "    print(temp_crn)\n",
    "    print(len(temp_crn))\n",
    "#full time period is [2015:2112]\n",
    "difference5_sel = []\n",
    "\n",
    "zip_object = zip(temp, temp_crn)\n",
    "for temp_i, temp_crn_i in zip_object:\n",
    "    difference5_sel.append(temp_i-temp_crn_i)\n",
    "\n",
    "print(difference5_sel)\n",
    "#print(len(difference3_sel))"
   ]
  },
  {
   "cell_type": "markdown",
   "id": "f6da12fe",
   "metadata": {},
   "source": [
    "<font size=\"3\">Bowling Green, KY: 0100 UTC 31 March 2022-0100 UTC 1 April 2022</font>"
   ]
  },
  {
   "cell_type": "code",
   "execution_count": 163,
   "id": "bcf07004",
   "metadata": {},
   "outputs": [
    {
     "name": "stdout",
     "output_type": "stream",
     "text": [
      "[0.221, 0.222, 0.223, 0.223, 0.219, 0.218, 0.211, 0.211, 0.212, 0.212, 0.208, 0.207, 0.207, 0.207, 0.207, 0.207, 0.206, 0.206, 0.206, 0.206, 0.206, 0.206, 0.206, 0.206, 0.206]\n"
     ]
    }
   ],
   "source": [
    "#18 hr hrrr:\n",
    "with open('hrrr_f18_Bowling Green_KY.txt') as f:\n",
    "    lst=[line.split()[8] for line in f]\n",
    "    temp=[]\n",
    "    for i in lst:\n",
    "        new=i.replace(',',\"\")\n",
    "        temp.append(new)\n",
    "    temp.pop(0)\n",
    "    temp=[float(x) for x in temp]\n",
    "    #print(temp.index(6.91541))\n",
    "    temp=temp[2580:2605]\n",
    "#     x = np.array(temp)\n",
    "#     temp= ma.masked_array(x, mask=[0, 0, 0, 0, 0,0,1,0,0,0,0,0,0,0,0,0,0,0,0,0,0,0,0,0,0])\n",
    "    #temp=temp[2015:2063]\n",
    "    print(temp)\n",
    "    #print(len(temp))\n",
    "#full time period is [2015:2112]"
   ]
  },
  {
   "cell_type": "code",
   "execution_count": 164,
   "id": "881baa0e",
   "metadata": {},
   "outputs": [
    {
     "name": "stdout",
     "output_type": "stream",
     "text": [
      "[0.393, 0.392, 0.391, 0.391, 0.39, 0.39, 0.39, 0.389, 0.389, 0.388, 0.387, 0.386, 0.383, 0.381, 0.379, 0.377, 0.376, 0.375, 0.375, 0.375, 0.375, 0.374, 0.375, 0.374, 0.374]\n"
     ]
    }
   ],
   "source": [
    "#Air Temp CRN:\n",
    "with open('CRNH0203-2022-KY_Bowling_Green_21_NNE.txt') as f:\n",
    "    lst=[line.split()[28] for line in f]\n",
    "    #print(lst)\n",
    "    temp_crn=[]\n",
    "    for i in lst:\n",
    "        new=i.replace(',',\"\")\n",
    "        temp_crn.append(new)\n",
    "    temp_crn=[float(x) for x in temp_crn]\n",
    "    temp_crn=temp_crn[2597:2622]\n",
    "#     y = np.array(temp_crn)\n",
    "#     temp_crn = ma.masked_array(y, mask=[0, 0, 0, 0, 0,0,1,0,0,0,0,0,0,0,0,0,0,0,0,0,0,0,0,0,0])\n",
    "    print(temp_crn)\n",
    "    #print(len(temp_crn))\n",
    "    # print(temp_crn[2124])"
   ]
  },
  {
   "cell_type": "code",
   "execution_count": 165,
   "id": "be1a11b5",
   "metadata": {},
   "outputs": [
    {
     "name": "stdout",
     "output_type": "stream",
     "text": [
      "[-0.17200000000000001, -0.17, -0.168, -0.168, -0.171, -0.17200000000000001, -0.17900000000000002, -0.17800000000000002, -0.17700000000000002, -0.17600000000000002, -0.17900000000000002, -0.17900000000000002, -0.17600000000000002, -0.17400000000000002, -0.17200000000000001, -0.17, -0.17, -0.169, -0.169, -0.169, -0.169, -0.168, -0.169, -0.168, -0.168]\n"
     ]
    }
   ],
   "source": [
    "difference5_bow = []\n",
    "\n",
    "zip_object = zip(temp, temp_crn)\n",
    "for temp_i, temp_crn_i in zip_object:\n",
    "    difference5_bow.append(temp_i-temp_crn_i)\n",
    "\n",
    "print(difference5_bow)"
   ]
  },
  {
   "cell_type": "markdown",
   "id": "d8cbc4ba",
   "metadata": {},
   "source": [
    "<font size=\"3\">Gadsden, AL: 0200 UTC 31 March 2022-0200 UTC 1 April 2022</font>"
   ]
  },
  {
   "cell_type": "code",
   "execution_count": 166,
   "id": "e8f80353",
   "metadata": {},
   "outputs": [
    {
     "name": "stdout",
     "output_type": "stream",
     "text": [
      "[0.223, 0.222, 0.222, 0.222, 0.222, 0.222, 0.222, 0.221, 0.221, 0.221, 0.217, 0.217, 0.217, 0.216, 0.216, 0.216, 0.215, 0.215, 0.215, 0.215, 0.215, 0.215, 0.215, 0.215, 0.215]\n"
     ]
    }
   ],
   "source": [
    "#18 hr hrrr:\n",
    "with open('hrrr_f18_Gadsden_AL.txt') as f:\n",
    "    lst=[line.split()[8] for line in f]\n",
    "    temp=[]\n",
    "    for i in lst:\n",
    "        new=i.replace(',',\"\")\n",
    "        temp.append(new)\n",
    "    temp.pop(0)\n",
    "    temp=[float(x) for x in temp]\n",
    "    #print(temp.index(6.91541))\n",
    "    temp=temp[2580:2605]\n",
    "    print(temp)\n",
    "    #print(len(temp))\n",
    "#full time period is [2015:2112]"
   ]
  },
  {
   "cell_type": "code",
   "execution_count": 167,
   "id": "3f4ffce0",
   "metadata": {},
   "outputs": [
    {
     "name": "stdout",
     "output_type": "stream",
     "text": [
      "[0.295, 0.295, 0.295, 0.295, 0.295, 0.294, 0.294, 0.294, 0.293, 0.293, 0.291, 0.289, 0.288, 0.286, 0.283, 0.282, 0.28, 0.279, 0.278, 0.278, 0.279, 0.279, 0.278, 0.278, 0.278]\n"
     ]
    }
   ],
   "source": [
    "#Air Temp CRN:\n",
    "with open('CRNH0203-2022-AL_Gadsden_19_N.txt') as f:\n",
    "    lst=[line.split()[28] for line in f]\n",
    "    #print(lst)\n",
    "    temp_crn=[]\n",
    "    for i in lst:\n",
    "        new=i.replace(',',\"\")\n",
    "        temp_crn.append(new)\n",
    "    temp_crn=[float(x) for x in temp_crn]\n",
    "    temp_crn=temp_crn[2597:2622]\n",
    "    print(temp_crn)\n",
    "    #print(len(temp_crn))\n",
    "    # print(temp_crn[2124])"
   ]
  },
  {
   "cell_type": "code",
   "execution_count": 168,
   "id": "03069350",
   "metadata": {},
   "outputs": [
    {
     "name": "stdout",
     "output_type": "stream",
     "text": [
      "[-0.07199999999999998, -0.07299999999999998, -0.07299999999999998, -0.07299999999999998, -0.07299999999999998, -0.07199999999999998, -0.07199999999999998, -0.07299999999999998, -0.07199999999999998, -0.07199999999999998, -0.07399999999999998, -0.07199999999999998, -0.07099999999999998, -0.06999999999999998, -0.06699999999999998, -0.06599999999999998, -0.06500000000000003, -0.06400000000000003, -0.06300000000000003, -0.06300000000000003, -0.06400000000000003, -0.06400000000000003, -0.06300000000000003, -0.06300000000000003, -0.06300000000000003]\n"
     ]
    }
   ],
   "source": [
    "difference5_gad = []\n",
    "\n",
    "zip_object = zip(temp, temp_crn)\n",
    "for temp_i, temp_crn_i in zip_object:\n",
    "    difference5_gad.append(temp_i-temp_crn_i)\n",
    "\n",
    "print(difference5_gad)"
   ]
  },
  {
   "cell_type": "markdown",
   "id": "b946c0fc",
   "metadata": {},
   "source": [
    "<font size=\"3\">Newton, GA: 0700 UTC 31 March 2022-0700 UTC 1 April 2022</font>"
   ]
  },
  {
   "cell_type": "code",
   "execution_count": 169,
   "id": "a9621dec",
   "metadata": {},
   "outputs": [
    {
     "name": "stdout",
     "output_type": "stream",
     "text": [
      "[0.252, 0.251, 0.254, 0.25, 0.248, 0.247, 0.247, 0.246, 0.244, 0.243, 0.241, 0.241, 0.241, 0.24, 0.24, 0.24, 0.239, 0.239, 0.239, 0.239, 0.239, 0.239, 0.239, 0.239, 0.239]\n"
     ]
    }
   ],
   "source": [
    "#18 hr hrrr:\n",
    "with open('hrrr_f18_Newton_GA.txt') as f:\n",
    "    lst=[line.split()[8] for line in f]\n",
    "    temp=[]\n",
    "    for i in lst:\n",
    "        new=i.replace(',',\"\")\n",
    "        temp.append(new)\n",
    "    temp.pop(0)\n",
    "    temp=[float(x) for x in temp]\n",
    "    #print(temp.index(6.91541))\n",
    "    temp=temp[2580:2605]\n",
    "    print(temp)\n",
    "    #print(len(temp))\n",
    "#full time period is [2015:2112]"
   ]
  },
  {
   "cell_type": "code",
   "execution_count": 170,
   "id": "4bfae2c4",
   "metadata": {},
   "outputs": [
    {
     "name": "stdout",
     "output_type": "stream",
     "text": [
      "[0.197, 0.196, 0.196, 0.196, 0.195, 0.194, 0.194, 0.194, 0.194, 0.193, 0.192, 0.188, 0.186, 0.184, 0.182, 0.18, 0.179, 0.178, 0.178, 0.178, 0.178, 0.178, 0.178, 0.178, 0.178]\n"
     ]
    }
   ],
   "source": [
    "#Air Temp CRN:\n",
    "with open('CRNH0203-2022-GA_Newton_11_SW.txt') as f:\n",
    "    lst=[line.split()[28] for line in f]\n",
    "    #print(lst)\n",
    "    temp_crn=[]\n",
    "    for i in lst:\n",
    "        new=i.replace(',',\"\")\n",
    "        temp_crn.append(new)\n",
    "    temp_crn=[float(x) for x in temp_crn]\n",
    "    temp_crn=temp_crn[2597:2622]\n",
    "    print(temp_crn)\n",
    "    #print(len(temp_crn))\n",
    "    # print(temp_crn[2124])"
   ]
  },
  {
   "cell_type": "code",
   "execution_count": 171,
   "id": "b32fbaed",
   "metadata": {},
   "outputs": [
    {
     "name": "stdout",
     "output_type": "stream",
     "text": [
      "[0.05499999999999999, 0.05499999999999999, 0.057999999999999996, 0.05399999999999999, 0.05299999999999999, 0.05299999999999999, 0.05299999999999999, 0.05199999999999999, 0.04999999999999999, 0.04999999999999999, 0.04899999999999999, 0.05299999999999999, 0.05499999999999999, 0.055999999999999994, 0.057999999999999996, 0.06, 0.06, 0.061, 0.061, 0.061, 0.061, 0.061, 0.061, 0.061, 0.061]\n"
     ]
    }
   ],
   "source": [
    "difference5_newt = []\n",
    "\n",
    "zip_object = zip(temp, temp_crn)\n",
    "for temp_i, temp_crn_i in zip_object:\n",
    "    difference5_newt.append(temp_i-temp_crn_i)\n",
    "\n",
    "print(difference5_newt)"
   ]
  },
  {
   "cell_type": "markdown",
   "id": "d0f3fc5c",
   "metadata": {},
   "source": [
    "<font size=\"3\">Salem, MO: 0500 UTC (12:00 am CDT) 27 April 2022-0500 UTC (12:00 am CDT) 28 April 2022</font>"
   ]
  },
  {
   "cell_type": "code",
   "execution_count": 172,
   "id": "fddaf781",
   "metadata": {},
   "outputs": [
    {
     "name": "stdout",
     "output_type": "stream",
     "text": [
      "[0.212, 0.212, 0.212, 0.212, 0.212, 0.212, 0.212, 0.212, 0.212, 0.212, 0.21, 0.21, 0.21, 0.209, 0.209, 0.208, 0.208, 0.208, 0.207, 0.207, 0.207, 0.207, 0.207, 0.207, 0.207]\n"
     ]
    }
   ],
   "source": [
    "#18 hr hrrr:\n",
    "with open('hrrr_f18_Salem_MO.txt') as f:\n",
    "    lst=[line.split()[8] for line in f]\n",
    "    temp=[]\n",
    "    for i in lst:\n",
    "        new=i.replace(',',\"\")\n",
    "        temp.append(new)\n",
    "    temp.pop(0)\n",
    "    temp=[float(x) for x in temp]\n",
    "    #print(temp.index(6.91541))\n",
    "    temp=temp[2772:2797]\n",
    "    print(temp)\n",
    "    #print(len(temp))\n",
    "#full time period is [2015:2112]"
   ]
  },
  {
   "cell_type": "code",
   "execution_count": 173,
   "id": "92fbdaf9",
   "metadata": {},
   "outputs": [
    {
     "name": "stdout",
     "output_type": "stream",
     "text": [
      "[0.325, 0.325, 0.325, 0.325, 0.324, 0.324, 0.324, 0.324, 0.323, 0.322, 0.321, 0.32, 0.319, 0.318, 0.316, 0.315, 0.314, 0.314, 0.314, 0.313, 0.313, 0.314, 0.313, 0.313, 0.313]\n"
     ]
    }
   ],
   "source": [
    "#Air Temp CRN:\n",
    "with open('CRNH0203-2022-MO_Salem_10_W.txt') as f:\n",
    "    lst=[line.split()[28] for line in f]\n",
    "    #print(lst)\n",
    "    temp_crn=[]\n",
    "    for i in lst:\n",
    "        new=i.replace(',',\"\")\n",
    "        temp_crn.append(new)\n",
    "    temp_crn=[float(x) for x in temp_crn]\n",
    "    temp_crn=temp_crn[2789:2814]\n",
    "    print(temp_crn)\n",
    "    #print(len(temp_crn))\n",
    "    # print(temp_crn[2124])"
   ]
  },
  {
   "cell_type": "code",
   "execution_count": 174,
   "id": "77bcef37",
   "metadata": {},
   "outputs": [
    {
     "name": "stdout",
     "output_type": "stream",
     "text": [
      "[-0.11300000000000002, -0.11300000000000002, -0.11300000000000002, -0.11300000000000002, -0.11200000000000002, -0.11200000000000002, -0.11200000000000002, -0.11200000000000002, -0.11100000000000002, -0.11000000000000001, -0.11100000000000002, -0.11000000000000001, -0.10900000000000001, -0.10900000000000001, -0.10700000000000001, -0.10700000000000001, -0.10600000000000001, -0.10600000000000001, -0.10700000000000001, -0.10600000000000001, -0.10600000000000001, -0.10700000000000001, -0.10600000000000001, -0.10600000000000001, -0.10600000000000001]\n"
     ]
    }
   ],
   "source": [
    "difference6_sal = []\n",
    "\n",
    "zip_object = zip(temp, temp_crn)\n",
    "for temp_i, temp_crn_i in zip_object:\n",
    "    difference6_sal.append(temp_i-temp_crn_i)\n",
    "\n",
    "print(difference6_sal)"
   ]
  },
  {
   "cell_type": "markdown",
   "id": "8a64a90b",
   "metadata": {},
   "source": [
    "<font size=\"3\">Batesville, AR: 1300 UTC 30 March 2022-1300 UTC 31 March 2022</font>"
   ]
  },
  {
   "cell_type": "code",
   "execution_count": 175,
   "id": "4bdeef7d",
   "metadata": {},
   "outputs": [
    {
     "name": "stdout",
     "output_type": "stream",
     "text": [
      "[0.225, 0.225, 0.225, 0.223, 0.223, 0.223, 0.224, 0.224, 0.224, 0.223, 0.22, 0.22, 0.218, 0.216, 0.214, 0.213, 0.212, 0.211, 0.21, 0.21, 0.209, 0.208, 0.208, 0.208, 0.208]\n"
     ]
    }
   ],
   "source": [
    "#18 hr hrrr:\n",
    "with open('hrrr_f18_Batesville_AR.txt') as f:\n",
    "    lst=[line.split()[8] for line in f]\n",
    "    temp=[]\n",
    "    for i in lst:\n",
    "        new=i.replace(',',\"\")\n",
    "        temp.append(new)\n",
    "    temp.pop(0)\n",
    "    temp=[float(x) for x in temp]\n",
    "    #print(temp.index(6.91541))\n",
    "    temp=temp[2772:2797]\n",
    "    print(temp)\n",
    "    #print(len(temp))\n",
    "#full time period is [2015:2112]"
   ]
  },
  {
   "cell_type": "code",
   "execution_count": 176,
   "id": "3ba7040e",
   "metadata": {},
   "outputs": [
    {
     "name": "stdout",
     "output_type": "stream",
     "text": [
      "[0.316, 0.315, 0.315, 0.315, 0.315, 0.315, 0.314, 0.314, 0.314, 0.314, 0.312, 0.31, 0.307, 0.304, 0.301, 0.298, 0.295, 0.294, 0.293, 0.291, 0.292, 0.292, 0.292, 0.292, 0.292]\n"
     ]
    }
   ],
   "source": [
    "#Air Temp CRN:\n",
    "with open('CRNH0203-2022-AR_Batesville_8_WNW.txt') as f:\n",
    "    lst=[line.split()[28] for line in f]\n",
    "    #print(lst)\n",
    "    temp_crn=[]\n",
    "    for i in lst:\n",
    "        new=i.replace(',',\"\")\n",
    "        temp_crn.append(new)\n",
    "    temp_crn=[float(x) for x in temp_crn]\n",
    "    temp_crn=temp_crn[2789:2814]\n",
    "    print(temp_crn)\n",
    "    #print(len(temp_crn))\n",
    "    # print(temp_crn[2124])"
   ]
  },
  {
   "cell_type": "code",
   "execution_count": 177,
   "id": "d92c989c",
   "metadata": {},
   "outputs": [
    {
     "name": "stdout",
     "output_type": "stream",
     "text": [
      "[-0.091, -0.09, -0.09, -0.092, -0.092, -0.092, -0.09, -0.09, -0.09, -0.091, -0.092, -0.09, -0.089, -0.088, -0.087, -0.08499999999999999, -0.08299999999999999, -0.08299999999999999, -0.08299999999999999, -0.08099999999999999, -0.08299999999999999, -0.08399999999999999, -0.08399999999999999, -0.08399999999999999, -0.08399999999999999]\n"
     ]
    }
   ],
   "source": [
    "difference6_bat = []\n",
    "\n",
    "zip_object = zip(temp, temp_crn)\n",
    "for temp_i, temp_crn_i in zip_object:\n",
    "    difference6_bat.append(temp_i-temp_crn_i)\n",
    "\n",
    "print(difference6_bat)"
   ]
  },
  {
   "cell_type": "markdown",
   "id": "5e7bf084",
   "metadata": {},
   "source": [
    "<font size=\"3\">Lafayette, LA: 1700 UTC 30 March 2022-1700 UTC 31 March 2022</font>"
   ]
  },
  {
   "cell_type": "code",
   "execution_count": 178,
   "id": "5fca3ade",
   "metadata": {},
   "outputs": [
    {
     "name": "stdout",
     "output_type": "stream",
     "text": [
      "[0.249, 0.249, 0.249, 0.249, 0.249, 0.245, 0.245, 0.245, 0.245, 0.245, 0.24, 0.24, 0.244, 0.243, 0.243, 0.242, 0.242, 0.242, 0.241, 0.241, 0.241, 0.241, 0.241, 0.241, 0.241]\n"
     ]
    }
   ],
   "source": [
    "#18 hr hrrr:\n",
    "with open('hrrr_f18_Lafayette_LA.txt') as f:\n",
    "    lst=[line.split()[8] for line in f]\n",
    "    temp=[]\n",
    "    for i in lst:\n",
    "        new=i.replace(',',\"\")\n",
    "        temp.append(new)\n",
    "    temp.pop(0)\n",
    "    temp=[float(x) for x in temp]\n",
    "    #print(temp.index(6.91541))\n",
    "    temp=temp[2772:2797]\n",
    "    print(temp)\n",
    "    #print(len(temp))\n",
    "#full time period is [2015:2112]"
   ]
  },
  {
   "cell_type": "code",
   "execution_count": 179,
   "id": "605c57e9",
   "metadata": {},
   "outputs": [
    {
     "name": "stdout",
     "output_type": "stream",
     "text": [
      "[0.322, 0.322, 0.322, 0.321, 0.321, 0.32, 0.32, 0.32, 0.32, 0.32, 0.319, 0.318, 0.318, 0.317, 0.316, 0.316, 0.315, 0.314, 0.314, 0.314, 0.314, 0.314, 0.313, 0.313, 0.313]\n"
     ]
    }
   ],
   "source": [
    "#Air Temp CRN:\n",
    "with open('CRNH0203-2022-LA_Lafayette_13_SE.txt') as f:\n",
    "    lst=[line.split()[28] for line in f]\n",
    "    #print(lst)\n",
    "    temp_crn=[]\n",
    "    for i in lst:\n",
    "        new=i.replace(',',\"\")\n",
    "        temp_crn.append(new)\n",
    "    temp_crn=[float(x) for x in temp_crn]\n",
    "    temp_crn=temp_crn[2789:2814]\n",
    "    print(temp_crn)\n",
    "    #print(len(temp_crn))\n",
    "    # print(temp_crn[2124])"
   ]
  },
  {
   "cell_type": "code",
   "execution_count": 180,
   "id": "c5a6b343",
   "metadata": {},
   "outputs": [
    {
     "name": "stdout",
     "output_type": "stream",
     "text": [
      "[-0.07300000000000001, -0.07300000000000001, -0.07300000000000001, -0.07200000000000001, -0.07200000000000001, -0.07500000000000001, -0.07500000000000001, -0.07500000000000001, -0.07500000000000001, -0.07500000000000001, -0.07900000000000001, -0.07800000000000001, -0.07400000000000001, -0.07400000000000001, -0.07300000000000001, -0.07400000000000001, -0.07300000000000001, -0.07200000000000001, -0.07300000000000001, -0.07300000000000001, -0.07300000000000001, -0.07300000000000001, -0.07200000000000001, -0.07200000000000001, -0.07200000000000001]\n"
     ]
    }
   ],
   "source": [
    "difference6_laf = []\n",
    "\n",
    "zip_object = zip(temp, temp_crn)\n",
    "for temp_i, temp_crn_i in zip_object:\n",
    "    difference6_laf.append(temp_i-temp_crn_i)\n",
    "\n",
    "print(difference6_laf)"
   ]
  },
  {
   "cell_type": "markdown",
   "id": "7fabd1a2",
   "metadata": {},
   "source": [
    "<font size=\"3\">Monroe, LA: 1700 UTC 30 March 2022-1700 UTC 31 March 2022</font>"
   ]
  },
  {
   "cell_type": "code",
   "execution_count": 181,
   "id": "ef3ddc0c",
   "metadata": {},
   "outputs": [
    {
     "name": "stdout",
     "output_type": "stream",
     "text": [
      "[0.227, 0.227, 0.227, 0.226, 0.227, 0.227, 0.227, 0.227, 0.227, 0.227, 0.23, 0.22, 0.223, 0.223, 0.222, 0.222, 0.222, 0.222, 0.222, 0.222, 0.222, 0.222, 0.222, 0.221, 0.221]\n"
     ]
    }
   ],
   "source": [
    "#18 hr hrrr:\n",
    "with open('hrrr_f18_Monroe_LA.txt') as f:\n",
    "    lst=[line.split()[8] for line in f]\n",
    "    temp=[]\n",
    "    for i in lst:\n",
    "        new=i.replace(',',\"\")\n",
    "        temp.append(new)\n",
    "    temp.pop(0)\n",
    "    temp=[float(x) for x in temp]\n",
    "    #print(temp.index(6.91541))\n",
    "    temp=temp[2772:2797]\n",
    "    print(temp)\n",
    "    #print(len(temp))\n",
    "#full time period is [2015:2112]"
   ]
  },
  {
   "cell_type": "code",
   "execution_count": 182,
   "id": "bcb9c074",
   "metadata": {},
   "outputs": [
    {
     "name": "stdout",
     "output_type": "stream",
     "text": [
      "[0.308, 0.308, 0.309, 0.309, 0.309, 0.308, 0.308, 0.308, 0.308, 0.308, 0.307, 0.305, 0.303, 0.301, 0.299, 0.297, 0.295, 0.294, 0.294, 0.295, 0.293, 0.295, 0.294, 0.293, 0.293]\n"
     ]
    }
   ],
   "source": [
    "#Air Temp CRN:\n",
    "with open('CRNH0203-2022-LA_Monroe_26_N.txt') as f:\n",
    "    lst=[line.split()[28] for line in f]\n",
    "    #print(lst)\n",
    "    temp_crn=[]\n",
    "    for i in lst:\n",
    "        new=i.replace(',',\"\")\n",
    "        temp_crn.append(new)\n",
    "    temp_crn=[float(x) for x in temp_crn]\n",
    "    temp_crn=temp_crn[2789:2814]\n",
    "    print(temp_crn)\n",
    "    #print(len(temp_crn))\n",
    "    # print(temp_crn[2124])"
   ]
  },
  {
   "cell_type": "code",
   "execution_count": 183,
   "id": "41f31883",
   "metadata": {},
   "outputs": [
    {
     "name": "stdout",
     "output_type": "stream",
     "text": [
      "[-0.08099999999999999, -0.08099999999999999, -0.08199999999999999, -0.08299999999999999, -0.08199999999999999, -0.08099999999999999, -0.08099999999999999, -0.08099999999999999, -0.08099999999999999, -0.08099999999999999, -0.07699999999999999, -0.08499999999999999, -0.07999999999999999, -0.07799999999999999, -0.07699999999999999, -0.07499999999999998, -0.07299999999999998, -0.07199999999999998, -0.07199999999999998, -0.07299999999999998, -0.07099999999999998, -0.07299999999999998, -0.07199999999999998, -0.07199999999999998, -0.07199999999999998]\n"
     ]
    }
   ],
   "source": [
    "difference6_mon = []\n",
    "\n",
    "zip_object = zip(temp, temp_crn)\n",
    "for temp_i, temp_crn_i in zip_object:\n",
    "    difference6_mon.append(temp_i-temp_crn_i)\n",
    "\n",
    "print(difference6_mon)"
   ]
  },
  {
   "cell_type": "markdown",
   "id": "48c06de7",
   "metadata": {},
   "source": [
    "<font size=\"3\">Holly Springs, MS: 2000 UTC 30 March 2022-2000 UTC 31 March 2022</font>"
   ]
  },
  {
   "cell_type": "code",
   "execution_count": 184,
   "id": "8a037f3b",
   "metadata": {},
   "outputs": [
    {
     "name": "stdout",
     "output_type": "stream",
     "text": [
      "[0.233, 0.233, 0.234, 0.228, 0.229, 0.23, 0.23, 0.23, 0.23, 0.229, 0.23, 0.22, 0.222, 0.221, 0.22, 0.219, 0.219, 0.219, 0.218, 0.218, 0.218, 0.217, 0.216, 0.216, 0.215]\n"
     ]
    }
   ],
   "source": [
    "#18 hr hrrr:\n",
    "with open('hrrr_f18_Holly Springs_MS.txt') as f:\n",
    "    lst=[line.split()[8] for line in f]\n",
    "    temp=[]\n",
    "    for i in lst:\n",
    "        new=i.replace(',',\"\")\n",
    "        temp.append(new)\n",
    "    temp.pop(0)\n",
    "    temp=[float(x) for x in temp]\n",
    "    #print(temp.index(6.91541))\n",
    "    temp=temp[2772:2797]\n",
    "    print(temp)\n",
    "    #print(len(temp))\n",
    "#full time period is [2015:2112]"
   ]
  },
  {
   "cell_type": "code",
   "execution_count": 185,
   "id": "d07ccac1",
   "metadata": {},
   "outputs": [
    {
     "name": "stdout",
     "output_type": "stream",
     "text": [
      "[0.419, 0.418, 0.417, 0.418, 0.417, 0.416, 0.415, 0.415, 0.415, 0.414, 0.414, 0.414, 0.412, 0.411, 0.41, 0.409, 0.407, 0.407, 0.405, 0.405, 0.405, 0.405, 0.404, 0.403, 0.403]\n"
     ]
    }
   ],
   "source": [
    "#Air Temp CRN:\n",
    "with open('CRNH0203-2022-MS_Holly_Springs_4_N.txt') as f:\n",
    "    lst=[line.split()[28] for line in f]\n",
    "    #print(lst)\n",
    "    temp_crn=[]\n",
    "    for i in lst:\n",
    "        new=i.replace(',',\"\")\n",
    "        temp_crn.append(new)\n",
    "    temp_crn=[float(x) for x in temp_crn]\n",
    "    temp_crn=temp_crn[2789:2814]\n",
    "    print(temp_crn)\n",
    "    #print(len(temp_crn))\n",
    "    # print(temp_crn[2124])"
   ]
  },
  {
   "cell_type": "code",
   "execution_count": 186,
   "id": "71bf258e",
   "metadata": {},
   "outputs": [
    {
     "name": "stdout",
     "output_type": "stream",
     "text": [
      "[-0.18599999999999997, -0.18499999999999997, -0.18299999999999997, -0.18999999999999997, -0.18799999999999997, -0.18599999999999997, -0.18499999999999997, -0.18499999999999997, -0.18499999999999997, -0.18499999999999997, -0.18399999999999997, -0.19399999999999998, -0.18999999999999997, -0.18999999999999997, -0.18999999999999997, -0.18999999999999997, -0.18799999999999997, -0.18799999999999997, -0.18700000000000003, -0.18700000000000003, -0.18700000000000003, -0.18800000000000003, -0.18800000000000003, -0.18700000000000003, -0.18800000000000003]\n"
     ]
    }
   ],
   "source": [
    "difference6_hol = []\n",
    "\n",
    "zip_object = zip(temp, temp_crn)\n",
    "for temp_i, temp_crn_i in zip_object:\n",
    "    difference6_hol.append(temp_i-temp_crn_i)\n",
    "\n",
    "print(difference6_hol)"
   ]
  },
  {
   "cell_type": "markdown",
   "id": "b0fa4146",
   "metadata": {},
   "source": [
    "<font size=\"3\">Newton, MS: 2000 UTC 30 March 2022-2000 UTC 31 March 2022</font>"
   ]
  },
  {
   "cell_type": "code",
   "execution_count": 187,
   "id": "1a46f819",
   "metadata": {},
   "outputs": [
    {
     "name": "stdout",
     "output_type": "stream",
     "text": [
      "[0.25, 0.25, 0.25, 0.249, 0.249, 0.249, 0.249, 0.249, 0.248, 0.248, 0.25, 0.25, 0.246, 0.245, 0.245, 0.244, 0.244, 0.243, 0.243, 0.243, 0.243, 0.243, 0.243, 0.243, 0.243]\n"
     ]
    }
   ],
   "source": [
    "#18 hr hrrr:\n",
    "with open('hrrr_f18_Newton_MS.txt') as f:\n",
    "    lst=[line.split()[8] for line in f]\n",
    "    temp=[]\n",
    "    for i in lst:\n",
    "        new=i.replace(',',\"\")\n",
    "        temp.append(new)\n",
    "    temp.pop(0)\n",
    "    temp=[float(x) for x in temp]\n",
    "    #print(temp.index(6.91541))\n",
    "    temp=temp[2772:2797]\n",
    "    print(temp)\n",
    "    #print(len(temp))\n",
    "#full time period is [2015:2112]"
   ]
  },
  {
   "cell_type": "code",
   "execution_count": 188,
   "id": "cc2443b2",
   "metadata": {},
   "outputs": [
    {
     "name": "stdout",
     "output_type": "stream",
     "text": [
      "[0.265, 0.264, 0.264, 0.265, 0.265, 0.265, 0.265, 0.265, 0.265, 0.265, 0.264, 0.262, 0.26, 0.258, 0.256, 0.254, 0.253, 0.252, 0.252, 0.252, 0.252, 0.253, 0.254, 0.253, 0.253]\n"
     ]
    }
   ],
   "source": [
    "#Air Temp CRN:\n",
    "with open('CRNH0203-2022-MS_Newton_5_ENE.txt') as f:\n",
    "    lst=[line.split()[28] for line in f]\n",
    "    #print(lst)\n",
    "    temp_crn=[]\n",
    "    for i in lst:\n",
    "        new=i.replace(',',\"\")\n",
    "        temp_crn.append(new)\n",
    "    temp_crn=[float(x) for x in temp_crn]\n",
    "    temp_crn=temp_crn[2789:2814]\n",
    "    print(temp_crn)\n",
    "    #print(len(temp_crn))\n",
    "    # print(temp_crn[2124])"
   ]
  },
  {
   "cell_type": "code",
   "execution_count": 189,
   "id": "5ebe8bfc",
   "metadata": {},
   "outputs": [
    {
     "name": "stdout",
     "output_type": "stream",
     "text": [
      "[-0.015000000000000013, -0.014000000000000012, -0.014000000000000012, -0.016000000000000014, -0.016000000000000014, -0.016000000000000014, -0.016000000000000014, -0.016000000000000014, -0.017000000000000015, -0.017000000000000015, -0.014000000000000012, -0.01200000000000001, -0.014000000000000012, -0.013000000000000012, -0.01100000000000001, -0.010000000000000009, -0.009000000000000008, -0.009000000000000008, -0.009000000000000008, -0.009000000000000008, -0.009000000000000008, -0.010000000000000009, -0.01100000000000001, -0.010000000000000009, -0.010000000000000009]\n"
     ]
    }
   ],
   "source": [
    "difference6_new = []\n",
    "\n",
    "zip_object = zip(temp, temp_crn)\n",
    "for temp_i, temp_crn_i in zip_object:\n",
    "    difference6_new.append(temp_i-temp_crn_i)\n",
    "\n",
    "print(difference6_new)"
   ]
  },
  {
   "cell_type": "markdown",
   "id": "26073006",
   "metadata": {},
   "source": [
    "<font size=\"3\">Gainesville, AL: 2300 UTC 30 March 2022-2300 UTC 31 March 2022</font>"
   ]
  },
  {
   "cell_type": "code",
   "execution_count": 190,
   "id": "5f43e442",
   "metadata": {},
   "outputs": [],
   "source": [
    "# #18 hr hrrr:\n",
    "# with open('hrrr_f18_Gainesville_AL (1).txt') as f:\n",
    "#     lst=[line.split()[8] for line in f]\n",
    "#     temp=[]\n",
    "#     for i in lst:\n",
    "#         new=i.replace(',',\"\")\n",
    "#         temp.append(new)\n",
    "#     temp.pop(0)\n",
    "#     temp=[float(x) for x in temp]\n",
    "#     #print(temp.index(6.91541))\n",
    "#     temp=temp[2772:2797]\n",
    "#     print(temp)\n",
    "#     #print(len(temp))\n",
    "# #full time period is [2015:2112]"
   ]
  },
  {
   "cell_type": "code",
   "execution_count": 191,
   "id": "3eba5e91",
   "metadata": {},
   "outputs": [],
   "source": [
    "# #Air Temp CRN:\n",
    "# with open('CRNH0203-2022-AL_Gainesville_2_NE.txt') as f:\n",
    "#     lst=[line.split()[28] for line in f]\n",
    "#     #print(lst)\n",
    "#     temp_crn=[]\n",
    "#     for i in lst:\n",
    "#         new=i.replace(',',\"\")\n",
    "#         temp_crn.append(new)\n",
    "#     temp_crn=[float(x) for x in temp_crn]\n",
    "#     temp_crn=temp_crn[2789:2814]\n",
    "#     print(temp_crn)\n",
    "#     #print(len(temp_crn))\n",
    "#     # print(temp_crn[2124])"
   ]
  },
  {
   "cell_type": "code",
   "execution_count": 192,
   "id": "97019e6b",
   "metadata": {},
   "outputs": [],
   "source": [
    "# difference6_gai = []\n",
    "\n",
    "# zip_object = zip(temp, temp_crn)\n",
    "# for temp_i, temp_crn_i in zip_object:\n",
    "#     difference6_gai.append(temp_i-temp_crn_i)\n",
    "\n",
    "# print(difference6_gai)"
   ]
  },
  {
   "cell_type": "markdown",
   "id": "fdf1d695",
   "metadata": {},
   "source": [
    "<font size=\"3\">Fairhope, AL: 0100 UTC 31 March 2022-0100 UTC 1 April 2022</font>"
   ]
  },
  {
   "cell_type": "code",
   "execution_count": 193,
   "id": "8f2f5bf2",
   "metadata": {},
   "outputs": [
    {
     "name": "stdout",
     "output_type": "stream",
     "text": [
      "[0.202, 0.202, 0.202, 0.202, 0.203, 0.203, 0.203, 0.203, 0.203, 0.203, 0.2, 0.2, 0.202, 0.202, 0.201, 0.201, 0.2, 0.2, 0.2, 0.2, 0.2, 0.2, 0.2, 0.2, 0.2]\n"
     ]
    }
   ],
   "source": [
    "#18 hr hrrr:\n",
    "with open('hrrr_f18_Fairhope_AL.txt') as f:\n",
    "    lst=[line.split()[8] for line in f]\n",
    "    temp=[]\n",
    "    for i in lst:\n",
    "        new=i.replace(',',\"\")\n",
    "        temp.append(new)\n",
    "    temp.pop(0)\n",
    "    temp=[float(x) for x in temp]\n",
    "    #print(temp.index(6.91541))\n",
    "    temp=temp[2772:2797]\n",
    "    print(temp)\n",
    "    #print(len(temp))\n",
    "#full time period is [2015:2112]"
   ]
  },
  {
   "cell_type": "code",
   "execution_count": 194,
   "id": "0d3eb0a3",
   "metadata": {},
   "outputs": [
    {
     "name": "stdout",
     "output_type": "stream",
     "text": [
      "[0.133, 0.134, 0.134, 0.134, 0.135, 0.136, 0.136, 0.136, 0.135, 0.134, 0.133, 0.132, 0.13, 0.127, 0.125, 0.124, 0.122, 0.123, 0.121, 0.121, 0.122, 0.123, 0.123, 0.122, 0.122]\n"
     ]
    }
   ],
   "source": [
    "#Air Temp CRN:\n",
    "with open('CRNH0203-2022-AL_Fairhope_3_NE.txt') as f:\n",
    "    lst=[line.split()[28] for line in f]\n",
    "    #print(lst)\n",
    "    temp_crn=[]\n",
    "    for i in lst:\n",
    "        new=i.replace(',',\"\")\n",
    "        temp_crn.append(new)\n",
    "    temp_crn=[float(x) for x in temp_crn]\n",
    "    temp_crn=temp_crn[2789:2814]\n",
    "    print(temp_crn)\n",
    "    #print(len(temp_crn))\n",
    "    # print(temp_crn[2124])"
   ]
  },
  {
   "cell_type": "code",
   "execution_count": 195,
   "id": "9ba1459d",
   "metadata": {},
   "outputs": [
    {
     "name": "stdout",
     "output_type": "stream",
     "text": [
      "[0.069, 0.068, 0.068, 0.068, 0.068, 0.067, 0.067, 0.067, 0.068, 0.069, 0.067, 0.068, 0.07200000000000001, 0.07500000000000001, 0.07600000000000001, 0.07700000000000001, 0.07800000000000001, 0.07700000000000001, 0.07900000000000001, 0.07900000000000001, 0.07800000000000001, 0.07700000000000001, 0.07700000000000001, 0.07800000000000001, 0.07800000000000001]\n"
     ]
    }
   ],
   "source": [
    "difference6_fai = []\n",
    "\n",
    "zip_object = zip(temp, temp_crn)\n",
    "for temp_i, temp_crn_i in zip_object:\n",
    "    difference6_fai.append(temp_i-temp_crn_i)\n",
    "\n",
    "print(difference6_fai)"
   ]
  },
  {
   "cell_type": "markdown",
   "id": "13c521a4",
   "metadata": {},
   "source": [
    "<font size=\"3\">**Selma, AL: 0100 UTC 31 March 2022-0100 UTC 1 April 2022</font>"
   ]
  },
  {
   "cell_type": "code",
   "execution_count": 196,
   "id": "7e73ba47",
   "metadata": {},
   "outputs": [
    {
     "name": "stdout",
     "output_type": "stream",
     "text": [
      "[0.177, 0.191, 0.18, 0.174, 0.179, 0.178, 0.179, 0.179, 0.179, 0.177, 0.17, 0.17, 0.17, 0.169, 0.169, 0.168, 0.167, 0.167, 0.167, 0.166, 0.166, 0.166, 0.165, 0.165, 0.165]\n",
      "25\n",
      "[0.334, 0.333, 0.333, 0.332, 0.332, 0.331, 0.333, 0.331, 0.331, 0.331, 0.332, 0.332, 0.333, 0.335, 0.336, 0.338, 0.338, 0.336, 0.335, 0.334, 0.331, 0.33, 0.329, 0.327, 0.326]\n",
      "25\n",
      "[-0.15700000000000003, -0.14200000000000002, -0.15300000000000002, -0.15800000000000003, -0.15300000000000002, -0.15300000000000002, -0.15400000000000003, -0.15200000000000002, -0.15200000000000002, -0.15400000000000003, -0.162, -0.162, -0.163, -0.166, -0.167, -0.17, -0.171, -0.169, -0.168, -0.168, -0.165, -0.164, -0.164, -0.162, -0.161]\n"
     ]
    }
   ],
   "source": [
    "#18 hr hrrr:\n",
    "with open('hrrr_f18_Selma_AL.txt') as f:\n",
    "    lst=[line.split()[8] for line in f]\n",
    "    temp=[]\n",
    "    for i in lst:\n",
    "        new=i.replace(',',\"\")\n",
    "        temp.append(new)\n",
    "    temp.pop(0)\n",
    "    temp=[float(x) for x in temp]\n",
    "    #print(temp.index(6.91541))\n",
    "    temp=temp[2772:2797]\n",
    "#Air Temp CRN:\n",
    "with open('CRNH0203-2022-AL_Selma_13_WNW.txt') as f:\n",
    "    lst=[line.split()[28] for line in f]\n",
    "    #print(lst)\n",
    "    temp_crn=[]\n",
    "    for i in lst:\n",
    "        new=i.replace(',',\"\")\n",
    "        temp_crn.append(new)\n",
    "    temp_crn=[float(x) for x in temp_crn]\n",
    "    temp_crn=temp_crn[2789:2814]\n",
    "\n",
    "    print(temp)\n",
    "    print(len(temp))\n",
    "    print(temp_crn)\n",
    "    print(len(temp_crn))\n",
    "#full time period is [2015:2112]\n",
    "difference6_sel = []\n",
    "\n",
    "zip_object = zip(temp, temp_crn)\n",
    "for temp_i, temp_crn_i in zip_object:\n",
    "    difference6_sel.append(temp_i-temp_crn_i)\n",
    "\n",
    "print(difference6_sel)\n",
    "#print(len(difference3_sel))"
   ]
  },
  {
   "cell_type": "markdown",
   "id": "d7faf179",
   "metadata": {},
   "source": [
    "<font size=\"3\">Bowling Green, KY: 0100 UTC 31 March 2022-0100 UTC 1 April 2022</font>"
   ]
  },
  {
   "cell_type": "code",
   "execution_count": 197,
   "id": "f9585d38",
   "metadata": {},
   "outputs": [
    {
     "name": "stdout",
     "output_type": "stream",
     "text": [
      "[0.198, 0.198, 0.198, 0.197, 0.197, 0.197, 0.196, 0.196, 0.195, 0.195, 0.19, 0.19, 0.194, 0.193, 0.193, 0.192, 0.192, 0.192, 0.192, 0.192, 0.192, 0.192, 0.192, 0.192, 0.192]\n"
     ]
    }
   ],
   "source": [
    "#18 hr hrrr:\n",
    "with open('hrrr_f18_Bowling Green_KY.txt') as f:\n",
    "    lst=[line.split()[8] for line in f]\n",
    "    temp=[]\n",
    "    for i in lst:\n",
    "        new=i.replace(',',\"\")\n",
    "        temp.append(new)\n",
    "    temp.pop(0)\n",
    "    temp=[float(x) for x in temp]\n",
    "    #print(temp.index(6.91541))\n",
    "    temp=temp[2772:2797]\n",
    "#     x = np.array(temp)\n",
    "#     temp= ma.masked_array(x, mask=[0, 0, 0, 0, 0,0,1,0,0,0,0,0,0,0,0,0,0,0,0,0,0,0,0,0,0])\n",
    "    #temp=temp[2015:2063]\n",
    "    print(temp)\n",
    "    #print(len(temp))\n",
    "#full time period is [2015:2112]"
   ]
  },
  {
   "cell_type": "code",
   "execution_count": 198,
   "id": "587c890f",
   "metadata": {},
   "outputs": [
    {
     "name": "stdout",
     "output_type": "stream",
     "text": [
      "[0.331, 0.331, 0.331, 0.331, 0.331, 0.331, 0.331, 0.332, 0.332, 0.331, 0.33, 0.328, 0.327, 0.325, 0.324, 0.322, 0.322, 0.321, 0.321, 0.321, 0.321, 0.321, 0.321, 0.322, 0.322]\n"
     ]
    }
   ],
   "source": [
    "#Air Temp CRN:\n",
    "with open('CRNH0203-2022-KY_Bowling_Green_21_NNE.txt') as f:\n",
    "    lst=[line.split()[28] for line in f]\n",
    "    #print(lst)\n",
    "    temp_crn=[]\n",
    "    for i in lst:\n",
    "        new=i.replace(',',\"\")\n",
    "        temp_crn.append(new)\n",
    "    temp_crn=[float(x) for x in temp_crn]\n",
    "    temp_crn=temp_crn[2789:2814]\n",
    "#     y = np.array(temp_crn)\n",
    "#     temp_crn = ma.masked_array(y, mask=[0, 0, 0, 0, 0,0,1,0,0,0,0,0,0,0,0,0,0,0,0,0,0,0,0,0,0])\n",
    "    print(temp_crn)\n",
    "    #print(len(temp_crn))\n",
    "    # print(temp_crn[2124])"
   ]
  },
  {
   "cell_type": "code",
   "execution_count": 199,
   "id": "fc14fcbf",
   "metadata": {},
   "outputs": [
    {
     "name": "stdout",
     "output_type": "stream",
     "text": [
      "[-0.133, -0.133, -0.133, -0.134, -0.134, -0.134, -0.135, -0.136, -0.137, -0.136, -0.14, -0.138, -0.133, -0.132, -0.131, -0.13, -0.13, -0.129, -0.129, -0.129, -0.129, -0.129, -0.129, -0.13, -0.13]\n"
     ]
    }
   ],
   "source": [
    "difference6_bow = []\n",
    "\n",
    "zip_object = zip(temp, temp_crn)\n",
    "for temp_i, temp_crn_i in zip_object:\n",
    "    difference6_bow.append(temp_i-temp_crn_i)\n",
    "\n",
    "print(difference6_bow)"
   ]
  },
  {
   "cell_type": "markdown",
   "id": "2d5250c8",
   "metadata": {},
   "source": [
    "<font size=\"3\">Gadsden, AL: 0200 UTC 31 March 2022-0200 UTC 1 April 2022</font>"
   ]
  },
  {
   "cell_type": "code",
   "execution_count": 200,
   "id": "d5736a5a",
   "metadata": {},
   "outputs": [
    {
     "name": "stdout",
     "output_type": "stream",
     "text": [
      "[0.231, 0.228, 0.227, 0.226, 0.226, 0.226, 0.226, 0.225, 0.224, 0.221, 0.22, 0.22, 0.218, 0.217, 0.216, 0.215, 0.215, 0.214, 0.214, 0.214, 0.214, 0.214, 0.214, 0.214, 0.214]\n"
     ]
    }
   ],
   "source": [
    "#18 hr hrrr:\n",
    "with open('hrrr_f18_Gadsden_AL.txt') as f:\n",
    "    lst=[line.split()[8] for line in f]\n",
    "    temp=[]\n",
    "    for i in lst:\n",
    "        new=i.replace(',',\"\")\n",
    "        temp.append(new)\n",
    "    temp.pop(0)\n",
    "    temp=[float(x) for x in temp]\n",
    "    #print(temp.index(6.91541))\n",
    "    temp=temp[2772:2797]\n",
    "    print(temp)\n",
    "    #print(len(temp))\n",
    "#full time period is [2015:2112]"
   ]
  },
  {
   "cell_type": "code",
   "execution_count": 201,
   "id": "45df4440",
   "metadata": {},
   "outputs": [
    {
     "name": "stdout",
     "output_type": "stream",
     "text": [
      "[0.213, 0.213, 0.213, 0.213, 0.213, 0.213, 0.213, 0.214, 0.213, 0.213, 0.212, 0.211, 0.21, 0.208, 0.207, 0.206, 0.205, 0.204, 0.204, 0.204, 0.204, 0.204, 0.203, 0.204, 0.203]\n"
     ]
    }
   ],
   "source": [
    "#Air Temp CRN:\n",
    "with open('CRNH0203-2022-AL_Gadsden_19_N.txt') as f:\n",
    "    lst=[line.split()[28] for line in f]\n",
    "    #print(lst)\n",
    "    temp_crn=[]\n",
    "    for i in lst:\n",
    "        new=i.replace(',',\"\")\n",
    "        temp_crn.append(new)\n",
    "    temp_crn=[float(x) for x in temp_crn]\n",
    "    temp_crn=temp_crn[2789:2814]\n",
    "    print(temp_crn)\n",
    "    #print(len(temp_crn))\n",
    "    # print(temp_crn[2124])"
   ]
  },
  {
   "cell_type": "code",
   "execution_count": 202,
   "id": "c40601c6",
   "metadata": {},
   "outputs": [
    {
     "name": "stdout",
     "output_type": "stream",
     "text": [
      "[0.018000000000000016, 0.015000000000000013, 0.014000000000000012, 0.013000000000000012, 0.013000000000000012, 0.013000000000000012, 0.013000000000000012, 0.01100000000000001, 0.01100000000000001, 0.008000000000000007, 0.008000000000000007, 0.009000000000000008, 0.008000000000000007, 0.009000000000000008, 0.009000000000000008, 0.009000000000000008, 0.010000000000000009, 0.010000000000000009, 0.010000000000000009, 0.010000000000000009, 0.010000000000000009, 0.010000000000000009, 0.010999999999999982, 0.010000000000000009, 0.010999999999999982]\n"
     ]
    }
   ],
   "source": [
    "difference6_gad = []\n",
    "\n",
    "zip_object = zip(temp, temp_crn)\n",
    "for temp_i, temp_crn_i in zip_object:\n",
    "    difference6_gad.append(temp_i-temp_crn_i)\n",
    "\n",
    "print(difference6_gad)"
   ]
  },
  {
   "cell_type": "markdown",
   "id": "3a27b646",
   "metadata": {},
   "source": [
    "<font size=\"3\">Newton, GA: 0700 UTC 31 March 2022-0700 UTC 1 April 2022</font>"
   ]
  },
  {
   "cell_type": "code",
   "execution_count": 203,
   "id": "dbf5d6b4",
   "metadata": {},
   "outputs": [
    {
     "name": "stdout",
     "output_type": "stream",
     "text": [
      "[0.21, 0.209, 0.209, 0.21, 0.21, 0.21, 0.209, 0.209, 0.209, 0.209, 0.21, 0.21, 0.208, 0.207, 0.207, 0.207, 0.206, 0.206, 0.206, 0.206, 0.206, 0.206, 0.206, 0.206, 0.206]\n"
     ]
    }
   ],
   "source": [
    "#18 hr hrrr:\n",
    "with open('hrrr_f18_Newton_GA.txt') as f:\n",
    "    lst=[line.split()[8] for line in f]\n",
    "    temp=[]\n",
    "    for i in lst:\n",
    "        new=i.replace(',',\"\")\n",
    "        temp.append(new)\n",
    "    temp.pop(0)\n",
    "    temp=[float(x) for x in temp]\n",
    "    #print(temp.index(6.91541))\n",
    "    temp=temp[2772:2797]\n",
    "    print(temp)\n",
    "    #print(len(temp))\n",
    "#full time period is [2015:2112]"
   ]
  },
  {
   "cell_type": "code",
   "execution_count": 204,
   "id": "b544166a",
   "metadata": {},
   "outputs": [
    {
     "name": "stdout",
     "output_type": "stream",
     "text": [
      "[0.094, 0.094, 0.095, 0.095, 0.095, 0.095, 0.095, 0.096, 0.095, 0.094, 0.093, 0.09, 0.087, 0.083, 0.082, 0.081, 0.081, 0.08, 0.08, 0.081, 0.08, 0.08, 0.081, 0.081, 0.081]\n"
     ]
    }
   ],
   "source": [
    "#Air Temp CRN:\n",
    "with open('CRNH0203-2022-GA_Newton_11_SW.txt') as f:\n",
    "    lst=[line.split()[28] for line in f]\n",
    "    #print(lst)\n",
    "    temp_crn=[]\n",
    "    for i in lst:\n",
    "        new=i.replace(',',\"\")\n",
    "        temp_crn.append(new)\n",
    "    temp_crn=[float(x) for x in temp_crn]\n",
    "    temp_crn=temp_crn[2789:2814]\n",
    "    print(temp_crn)\n",
    "    #print(len(temp_crn))\n",
    "    # print(temp_crn[2124])"
   ]
  },
  {
   "cell_type": "code",
   "execution_count": 205,
   "id": "46476cb4",
   "metadata": {},
   "outputs": [
    {
     "name": "stdout",
     "output_type": "stream",
     "text": [
      "[0.11599999999999999, 0.11499999999999999, 0.11399999999999999, 0.11499999999999999, 0.11499999999999999, 0.11499999999999999, 0.11399999999999999, 0.11299999999999999, 0.11399999999999999, 0.11499999999999999, 0.11699999999999999, 0.12, 0.121, 0.12399999999999999, 0.12499999999999999, 0.126, 0.12499999999999999, 0.126, 0.126, 0.12499999999999999, 0.126, 0.126, 0.12499999999999999, 0.12499999999999999, 0.12499999999999999]\n"
     ]
    }
   ],
   "source": [
    "difference6_newt = []\n",
    "\n",
    "zip_object = zip(temp, temp_crn)\n",
    "for temp_i, temp_crn_i in zip_object:\n",
    "    difference6_newt.append(temp_i-temp_crn_i)\n",
    "\n",
    "print(difference6_newt)"
   ]
  },
  {
   "cell_type": "code",
   "execution_count": 206,
   "id": "8a134c48",
   "metadata": {},
   "outputs": [
    {
     "name": "stdout",
     "output_type": "stream",
     "text": [
      "25\n"
     ]
    }
   ],
   "source": [
    "hour=[6,7,8,9,10,11,12,13,14,15,16,17,18,19,20,21,22,23,0,1,2,3,4,5,6]\n",
    "print(len(hour))"
   ]
  },
  {
   "cell_type": "code",
   "execution_count": 207,
   "id": "45def68f",
   "metadata": {},
   "outputs": [
    {
     "name": "stdout",
     "output_type": "stream",
     "text": [
      "range(0, 25)\n"
     ]
    }
   ],
   "source": [
    "xs = range(len(hour))\n",
    "print(xs)"
   ]
  },
  {
   "cell_type": "code",
   "execution_count": 208,
   "id": "d5fd370b",
   "metadata": {},
   "outputs": [
    {
     "name": "stdout",
     "output_type": "stream",
     "text": [
      "[-0.10281818 -0.10218182 -0.10163636 -0.10127273 -0.10190909 -0.10390909\n",
      " -0.10545455 -0.10672727 -0.1126     -0.10936364 -0.10972727 -0.10990909\n",
      " -0.11       -0.11       -0.10981818 -0.10945455 -0.10918182 -0.10881818\n",
      " -0.10845455 -0.10881818 -0.11063636 -0.1091     -0.10854545 -0.10818182\n",
      " -0.10809091]\n",
      "[0.09140601 0.09108819 0.09109463 0.09077554 0.09109681 0.09157953\n",
      " 0.09105379 0.09124601 0.0936517  0.09123424 0.0909946  0.09133898\n",
      " 0.09130867 0.09120407 0.09059683 0.09081586 0.09066504 0.09067105\n",
      " 0.09048191 0.09052053 0.09128106 0.09476967 0.09022937 0.09112211\n",
      " 0.09063358]\n"
     ]
    },
    {
     "name": "stderr",
     "output_type": "stream",
     "text": [
      "C:\\Users\\panwalaf\\AppData\\Local\\Temp\\ipykernel_18764\\343672783.py:1: UserWarning: Warning: converting a masked element to nan.\n",
      "  c1 = np.array([difference1_sal,difference1_bat,difference1_laf,difference1_mon,difference1_hol,difference1_new,difference1_fai,difference1_sel,difference1_bow,difference1_gad,difference1_newt])\n",
      "C:\\Users\\panwalaf\\AppData\\Local\\Temp\\ipykernel_18764\\343672783.py:6: UserWarning: Warning: converting a masked element to nan.\n",
      "  b1 = np.array([difference1_sal,difference1_bat,difference1_laf,difference1_mon,difference1_hol,difference1_new,difference1_fai,difference1_sel,difference1_bow,difference1_gad,difference1_newt])\n"
     ]
    },
    {
     "data": {
      "text/plain": [
       "25"
      ]
     },
     "execution_count": 208,
     "metadata": {},
     "output_type": "execute_result"
    }
   ],
   "source": [
    "c1 = np.array([difference1_sal,difference1_bat,difference1_laf,difference1_mon,difference1_hol,difference1_new,difference1_fai,difference1_sel,difference1_bow,difference1_gad,difference1_newt])\n",
    "c1=np.nanmean(c1, axis=0)\n",
    "print(c1)\n",
    "len(c1)\n",
    "\n",
    "b1 = np.array([difference1_sal,difference1_bat,difference1_laf,difference1_mon,difference1_hol,difference1_new,difference1_fai,difference1_sel,difference1_bow,difference1_gad,difference1_newt])\n",
    "b1=np.nanstd(b1, axis=0)\n",
    "print(b1)\n",
    "len(b1)"
   ]
  },
  {
   "cell_type": "code",
   "execution_count": 209,
   "id": "7d6e3e43",
   "metadata": {},
   "outputs": [
    {
     "data": {
      "image/png": "[encoded data removed]",
      "text/plain": [
       "<Figure size 792x396 with 1 Axes>"
      ]
     },
     "metadata": {},
     "output_type": "display_data"
    }
   ],
   "source": [
    "plt.style.use('seaborn-whitegrid')\n",
    "plt.rcParams[\"figure.figsize\"] = [11.00, 5.50]\n",
    "plt.rcParams[\"figure.autolayout\"] = True\n",
    "plt.yticks(np.arange(-0.25,0.3,0.05))\n",
    "plt.ylim(-0.25, 0.25)\n",
    "# c[6]=None\n",
    "# b[6]=None\n",
    "\n",
    "plt.plot(xs,c1,c=\"blue\")\n",
    "plt.errorbar(xs,c1,c=\"b\",yerr=b1,linestyle='None', marker='s')\n",
    "# c[6]=None\n",
    "# b[6]=None\n",
    "\n",
    "plt.title(\"18-hr Avg. MBE All Stations\")\n",
    "plt.xlabel(\"Time Relative to Event Passage\")\n",
    "plt.ylabel(\"MBE Soil Moisture (m^3/m^3)\")\n",
    "#plt.plot(hour,c)\n",
    "#plt.errorbar(hour,c,yerr=b,ecolor='r',elinewidth=5,fmt='s',color='k')\n",
    "#plt.grid()\n",
    "plt.xticks(xs, hour)\n",
    "plt.show()\n",
    "#plt.axvspan(-4, 4, color='green', alpha=0.2, lw=0)"
   ]
  },
  {
   "cell_type": "code",
   "execution_count": 210,
   "id": "3931d44b",
   "metadata": {},
   "outputs": [
    {
     "name": "stdout",
     "output_type": "stream",
     "text": [
      "[-0.11381818 -0.11363636 -0.11472727 -0.11527273 -0.11736364 -0.11727273\n",
      " -0.11663636 -0.11581818 -0.116      -0.11727273 -0.11818182 -0.119\n",
      " -0.11972727 -0.11981818 -0.11818182 -0.11745455 -0.11690909 -0.11636364\n",
      " -0.11627273 -0.11590909 -0.116      -0.116      -0.11545455 -0.11518182\n",
      " -0.11518182]\n",
      "[0.10760181 0.10774319 0.10644767 0.10583099 0.10571942 0.10561688\n",
      " 0.10553696 0.10624912 0.10654747 0.10636908 0.10673742 0.10676056\n",
      " 0.10774726 0.10723281 0.10599213 0.10554048 0.10568517 0.10569448\n",
      " 0.10561258 0.10518249 0.10499091 0.10504112 0.10487513 0.10450126\n",
      " 0.10460386]\n"
     ]
    },
    {
     "data": {
      "text/plain": [
       "25"
      ]
     },
     "execution_count": 210,
     "metadata": {},
     "output_type": "execute_result"
    }
   ],
   "source": [
    "c2 = np.array([difference2_sal,difference2_bat,difference2_laf,difference2_mon,difference2_hol,difference2_new,difference2_fai,difference2_sel,difference2_bow,difference2_gad,difference2_newt])\n",
    "c2=np.nanmean(c2, axis=0)\n",
    "print(c2)\n",
    "len(c2)\n",
    "\n",
    "b2 = np.array([difference2_sal,difference2_bat,difference2_laf,difference2_mon,difference2_hol,difference2_new,difference2_fai,difference2_sel,difference2_bow,difference2_gad,difference2_newt])\n",
    "b2=np.nanstd(b2, axis=0)\n",
    "print(b2)\n",
    "len(b2)"
   ]
  },
  {
   "cell_type": "code",
   "execution_count": 211,
   "id": "4c8ac8a3",
   "metadata": {},
   "outputs": [
    {
     "data": {
      "image/png": "[encoded data removed]",
      "text/plain": [
       "<Figure size 792x396 with 1 Axes>"
      ]
     },
     "metadata": {},
     "output_type": "display_data"
    }
   ],
   "source": [
    "plt.style.use('seaborn-whitegrid')\n",
    "plt.rcParams[\"figure.figsize\"] = [11.00, 5.50]\n",
    "plt.rcParams[\"figure.autolayout\"] = True\n",
    "plt.yticks(np.arange(-0.25,0.3,0.05))\n",
    "plt.ylim(-0.25, 0.25)\n",
    "# c[6]=None\n",
    "# b[6]=None\n",
    "\n",
    "plt.plot(xs,c2,c=\"r\")\n",
    "plt.errorbar(xs,c2,c=\"r\",yerr=b2,linestyle='None', marker='s')\n",
    "# c[6]=None\n",
    "# b[6]=None\n",
    "\n",
    "plt.title(\"18-hr Avg. MBE All Stations\")\n",
    "plt.xlabel(\"Time Relative to Event Passage\")\n",
    "plt.ylabel(\"MBE Soil Moisture (m^3/m^3)\")\n",
    "#plt.plot(hour,c)\n",
    "#plt.errorbar(hour,c,yerr=b,ecolor='r',elinewidth=5,fmt='s',color='k')\n",
    "#plt.grid()\n",
    "plt.xticks(xs, hour)\n",
    "plt.show()\n",
    "#plt.axvspan(-4, 4, color='green', alpha=0.2, lw=0)"
   ]
  },
  {
   "cell_type": "code",
   "execution_count": 212,
   "id": "e7aee5e0",
   "metadata": {},
   "outputs": [
    {
     "name": "stdout",
     "output_type": "stream",
     "text": [
      "[-0.10545455 -0.10472727 -0.10481818 -0.104      -0.10390909 -0.10463636\n",
      " -0.10590909 -0.10681818 -0.10781818 -0.10772727 -0.10827273 -0.10836364\n",
      " -0.108      -0.10736364 -0.10681818 -0.10663636 -0.10618182 -0.10536364\n",
      " -0.10518182 -0.10454545 -0.10409091 -0.10436364 -0.10418182 -0.10363636\n",
      " -0.10327273]\n",
      "[0.10033522 0.09886087 0.09890383 0.09861403 0.10050821 0.09966241\n",
      " 0.09955031 0.09927081 0.0984681  0.0986473  0.09741018 0.09674829\n",
      " 0.09676119 0.09628582 0.09586811 0.09500648 0.09522969 0.09518907\n",
      " 0.09523733 0.09531037 0.09532571 0.09526735 0.09577418 0.09542848\n",
      " 0.09586552]\n"
     ]
    },
    {
     "data": {
      "text/plain": [
       "25"
      ]
     },
     "execution_count": 212,
     "metadata": {},
     "output_type": "execute_result"
    }
   ],
   "source": [
    "c3 = np.array([difference3_sal,difference3_bat,difference3_laf,difference3_mon,difference3_hol,difference3_new,difference3_fai,difference3_sel,difference3_bow,difference3_gad,difference3_newt])\n",
    "c3=np.nanmean(c3, axis=0)\n",
    "print(c3)\n",
    "len(c3)\n",
    "\n",
    "b3 = np.array([difference3_sal,difference3_bat,difference3_laf,difference3_mon,difference3_hol,difference3_new,difference3_fai,difference3_sel,difference3_bow,difference3_gad,difference3_newt])\n",
    "b3=np.nanstd(b3, axis=0)\n",
    "print(b3)\n",
    "len(b3)"
   ]
  },
  {
   "cell_type": "code",
   "execution_count": 213,
   "id": "0d8bef30",
   "metadata": {
    "scrolled": false
   },
   "outputs": [],
   "source": [
    "# def mean(numbers):\n",
    "#     return float(sum(numbers)) / max(len(numbers), 1)\n",
    "\n",
    "# # difference1_sel[17]=0\n",
    "# # difference1_sel[18]=0\n",
    "# # difference1_sel[19]=0\n",
    "# # difference1_sel[20]=0\n",
    "# c3 = [mean(i) for i in zip(difference3_sal,difference3_bat,difference3_laf,difference3_mon,difference3_hol,difference3_new,difference3_gai,difference3_fai,difference3_sel,difference3_bow,difference3_gad,difference3_newt)]\n",
    "# #difference1_bow[6]=0\n",
    "# b3 = [np.std(i) for i in zip(difference3_sal,difference3_bat,difference3_laf,difference3_mon,difference3_hol,difference3_new,difference3_gai,difference3_fai,difference3_sel,difference3_bow,difference3_gad,difference3_newt)]\n",
    "# print (c3)\n",
    "# print(len(c3))\n",
    "# print(b3)\n",
    "# print(len(b3))"
   ]
  },
  {
   "cell_type": "code",
   "execution_count": 214,
   "id": "00a5e783",
   "metadata": {},
   "outputs": [
    {
     "data": {
      "image/png": "[encoded data removed]",
      "text/plain": [
       "<Figure size 792x396 with 1 Axes>"
      ]
     },
     "metadata": {},
     "output_type": "display_data"
    }
   ],
   "source": [
    "plt.style.use('seaborn-whitegrid')\n",
    "plt.rcParams[\"figure.figsize\"] = [11.00, 5.50]\n",
    "plt.rcParams[\"figure.autolayout\"] = True\n",
    "plt.yticks(np.arange(-0.25,0.3,0.05))\n",
    "plt.ylim(-0.25, 0.25)\n",
    "# c[6]=None\n",
    "# b[6]=None\n",
    "\n",
    "plt.plot(xs,c3,c=\"green\")\n",
    "plt.errorbar(xs,c3,c=\"green\",yerr=b3,linestyle='None', marker='s')\n",
    "# c[6]=None\n",
    "# b[6]=None\n",
    "\n",
    "plt.title(\"18-hr Avg. MBE All Stations\")\n",
    "plt.xlabel(\"Time Relative to Event Passage\")\n",
    "plt.ylabel(\"MBE Soil Moisture (m^3/m^3)\")\n",
    "#plt.plot(hour,c)\n",
    "#plt.errorbar(hour,c,yerr=b,ecolor='r',elinewidth=5,fmt='s',color='k')\n",
    "#plt.grid()\n",
    "plt.xticks(xs, hour)\n",
    "plt.show()\n",
    "#plt.axvspan(-4, 4, color='green', alpha=0.2, lw=0)"
   ]
  },
  {
   "cell_type": "code",
   "execution_count": 215,
   "id": "b2d7f7dd",
   "metadata": {},
   "outputs": [
    {
     "name": "stdout",
     "output_type": "stream",
     "text": [
      "[-0.08845455 -0.08781818 -0.08654545 -0.08609091 -0.08609091 -0.08718182\n",
      " -0.08845455 -0.08781818 -0.088      -0.08863636 -0.08918182 -0.08836364\n",
      " -0.08745455 -0.087      -0.08563636 -0.084      -0.08354545 -0.08263636\n",
      " -0.08245455 -0.08263636 -0.08263636 -0.08281818 -0.083      -0.08318182\n",
      " -0.083     ]\n",
      "[0.08069963 0.08024147 0.08062637 0.08030222 0.080421   0.08025507\n",
      " 0.08011283 0.07972888 0.07930608 0.07938659 0.07978815 0.07999236\n",
      " 0.07968274 0.08004658 0.0798718  0.0797724  0.07856366 0.07813773\n",
      " 0.0780808  0.07819704 0.07871961 0.07769266 0.07826993 0.07815814\n",
      " 0.07850304]\n"
     ]
    },
    {
     "data": {
      "text/plain": [
       "25"
      ]
     },
     "execution_count": 215,
     "metadata": {},
     "output_type": "execute_result"
    }
   ],
   "source": [
    "c4 = np.array([difference4_sal,difference4_bat,difference4_laf,difference4_mon,difference4_hol,difference4_new,difference4_fai,difference4_sel,difference4_bow,difference4_gad,difference4_newt])\n",
    "c4=np.nanmean(c4, axis=0)\n",
    "print(c4)\n",
    "len(c4)\n",
    "\n",
    "b4 = np.array([difference4_sal,difference4_bat,difference4_laf,difference4_mon,difference4_hol,difference4_new,difference4_fai,difference4_sel,difference4_bow,difference4_gad,difference4_newt])\n",
    "b4=np.nanstd(b4, axis=0)\n",
    "print(b4)\n",
    "len(b4)"
   ]
  },
  {
   "cell_type": "code",
   "execution_count": 216,
   "id": "b1774c6c",
   "metadata": {
    "scrolled": false
   },
   "outputs": [],
   "source": [
    "# def mean(numbers):\n",
    "#     return float(sum(numbers)) / max(len(numbers), 1)\n",
    "\n",
    "# # difference1_sel[17]=0\n",
    "# # difference1_sel[18]=0\n",
    "# # difference1_sel[19]=0\n",
    "# # difference1_sel[20]=0\n",
    "# c4 = [mean(i) for i in zip(difference4_sal,difference4_bat,difference4_laf,difference4_mon,difference4_hol,difference4_new,difference4_gai,difference4_fai,difference4_sel,difference4_bow,difference4_gad,difference4_newt)]\n",
    "# #difference1_bow[6]=0\n",
    "# b4 = [np.std(i) for i in zip(difference4_sal,difference4_bat,difference4_laf,difference4_mon,difference4_hol,difference4_new,difference4_gai,difference4_fai,difference4_sel,difference4_bow,difference4_gad,difference4_newt)]\n",
    "# print (c4)\n",
    "# print(len(c4))\n",
    "# print(b4)\n",
    "# print(len(b4))"
   ]
  },
  {
   "cell_type": "code",
   "execution_count": 217,
   "id": "e70a6cef",
   "metadata": {},
   "outputs": [
    {
     "data": {
      "image/png": "[encoded data removed]",
      "text/plain": [
       "<Figure size 792x396 with 1 Axes>"
      ]
     },
     "metadata": {},
     "output_type": "display_data"
    }
   ],
   "source": [
    "plt.style.use('seaborn-whitegrid')\n",
    "plt.rcParams[\"figure.figsize\"] = [11.00, 5.50]\n",
    "plt.rcParams[\"figure.autolayout\"] = True\n",
    "plt.yticks(np.arange(-0.25,0.3,0.05))\n",
    "plt.ylim(-0.25, 0.25)\n",
    "# c[6]=None\n",
    "# b[6]=None\n",
    "\n",
    "plt.plot(xs,c4,c=\"orange\")\n",
    "plt.errorbar(xs,c4,c=\"orange\",yerr=b4,linestyle='None', marker='s')\n",
    "# c[6]=None\n",
    "# b[6]=None\n",
    "\n",
    "plt.title(\"18-hr Avg. MBE All Stations\")\n",
    "plt.xlabel(\"Time Relative to Event Passage\")\n",
    "plt.ylabel(\"MBE Soil Moisture (m^3/m^3)\")\n",
    "#plt.plot(hour,c)\n",
    "#plt.errorbar(hour,c,yerr=b,ecolor='r',elinewidth=5,fmt='s',color='k')\n",
    "#plt.grid()\n",
    "plt.xticks(xs, hour)\n",
    "plt.show()\n",
    "#plt.axvspan(-4, 4, color='green', alpha=0.2, lw=0)"
   ]
  },
  {
   "cell_type": "code",
   "execution_count": 218,
   "id": "9d950af1",
   "metadata": {},
   "outputs": [
    {
     "name": "stdout",
     "output_type": "stream",
     "text": [
      "[-0.09254545 -0.09281818 -0.09163636 -0.09318182 -0.09372727 -0.09436364\n",
      " -0.09545455 -0.09609091 -0.09681818 -0.09809091 -0.09963636 -0.10027273\n",
      " -0.09927273 -0.09809091 -0.09727273 -0.09527273 -0.09463636 -0.09409091\n",
      " -0.09345455 -0.09336364 -0.09336364 -0.09309091 -0.09281818 -0.09236364\n",
      " -0.09272727]\n",
      "[0.08685449 0.08620464 0.08608587 0.08514353 0.08541672 0.08568152\n",
      " 0.08669315 0.08621058 0.08674395 0.08797051 0.08814479 0.08904656\n",
      " 0.0893635  0.0888159  0.08916898 0.08770207 0.08778618 0.0872139\n",
      " 0.08668896 0.08619563 0.08634842 0.08608712 0.08585592 0.08545735\n",
      " 0.08546567]\n"
     ]
    },
    {
     "data": {
      "text/plain": [
       "25"
      ]
     },
     "execution_count": 218,
     "metadata": {},
     "output_type": "execute_result"
    }
   ],
   "source": [
    "# data = np.array([difference1_sal,difference1_sel,difference1_mon])\n",
    "# np.ma.average(data, axis=0)\n",
    "c5 = np.array([difference5_sal,difference5_bat,difference5_laf,difference5_mon,difference5_hol,difference5_new,difference5_fai,difference5_sel,difference5_bow,difference5_gad,difference5_newt])\n",
    "c5=np.nanmean(c5, axis=0)\n",
    "print(c5)\n",
    "len(c5)\n",
    "\n",
    "b5 = np.array([difference5_sal,difference5_bat,difference5_laf,difference5_mon,difference5_hol,difference5_new,difference5_fai,difference5_sel,difference5_bow,difference5_gad,difference5_newt])\n",
    "b5=np.nanstd(b5, axis=0)\n",
    "print(b5)\n",
    "len(b5)"
   ]
  },
  {
   "cell_type": "code",
   "execution_count": 219,
   "id": "ccd6d564",
   "metadata": {},
   "outputs": [
    {
     "data": {
      "image/png": "[encoded data removed]",
      "text/plain": [
       "<Figure size 792x396 with 1 Axes>"
      ]
     },
     "metadata": {},
     "output_type": "display_data"
    }
   ],
   "source": [
    "plt.style.use('seaborn-whitegrid')\n",
    "plt.rcParams[\"figure.figsize\"] = [11.00, 5.50]\n",
    "plt.rcParams[\"figure.autolayout\"] = True\n",
    "plt.yticks(np.arange(-0.25,0.3,0.05))\n",
    "plt.ylim(-0.25, 0.25)\n",
    "# c[6]=None\n",
    "# b[6]=None\n",
    "\n",
    "plt.plot(xs,c5,c=\"m\")\n",
    "plt.errorbar(xs,c5,c=\"m\",yerr=b5,linestyle='None', marker='s')\n",
    "# c[6]=None\n",
    "# b[6]=None\n",
    "\n",
    "plt.title(\"18-hr Avg. MBE All Stations\")\n",
    "plt.xlabel(\"Time Relative to Event Passage\")\n",
    "plt.ylabel(\"MBE Soil Moisture (m^3/m^3)\")\n",
    "#plt.plot(hour,c)\n",
    "#plt.errorbar(hour,c,yerr=b,ecolor='r',elinewidth=5,fmt='s',color='k')\n",
    "#plt.grid()\n",
    "plt.xticks(xs, hour)\n",
    "plt.show()\n",
    "#plt.axvspan(-4, 4, color='green', alpha=0.2, lw=0)"
   ]
  },
  {
   "cell_type": "code",
   "execution_count": 220,
   "id": "6a1cf932",
   "metadata": {},
   "outputs": [
    {
     "name": "stdout",
     "output_type": "stream",
     "text": [
      "[-0.05872727 -0.05754545 -0.05863636 -0.06018182 -0.05936364 -0.05945455\n",
      " -0.05945455 -0.05963636 -0.05954545 -0.05972727 -0.06063636 -0.06109091\n",
      " -0.05918182 -0.05836364 -0.05754545 -0.05718182 -0.05636364 -0.05590909\n",
      " -0.05572727 -0.05563636 -0.05536364 -0.05590909 -0.05572727 -0.05545455\n",
      " -0.05536364]\n",
      "[0.09080558 0.08876974 0.08929041 0.09083433 0.09001745 0.08965121\n",
      " 0.08945427 0.08901917 0.08930679 0.08949463 0.09077872 0.09275035\n",
      " 0.0922416  0.09344252 0.09371268 0.09424033 0.094008   0.0937312\n",
      " 0.09381906 0.09355919 0.09330037 0.09325669 0.09301817 0.09286096\n",
      " 0.09295089]\n"
     ]
    },
    {
     "data": {
      "text/plain": [
       "25"
      ]
     },
     "execution_count": 220,
     "metadata": {},
     "output_type": "execute_result"
    }
   ],
   "source": [
    "# data = np.array([difference1_sal,difference1_sel,difference1_mon])\n",
    "# np.ma.average(data, axis=0)\n",
    "c6 = np.array([difference6_sal,difference6_bat,difference6_laf,difference6_mon,difference6_hol,difference6_new,difference6_fai,difference6_sel,difference6_bow,difference6_gad,difference6_newt])\n",
    "c6=np.nanmean(c6, axis=0)\n",
    "print(c6)\n",
    "len(c6)\n",
    "\n",
    "b6 = np.array([difference6_sal,difference6_bat,difference6_laf,difference6_mon,difference6_hol,difference6_new,difference6_fai,difference6_sel,difference6_bow,difference6_gad,difference6_newt])\n",
    "b6=np.nanstd(b6, axis=0)\n",
    "print(b6)\n",
    "len(b6)"
   ]
  },
  {
   "cell_type": "code",
   "execution_count": 221,
   "id": "11ff266d",
   "metadata": {},
   "outputs": [
    {
     "data": {
      "image/png": "[encoded data removed]",
      "text/plain": [
       "<Figure size 792x396 with 1 Axes>"
      ]
     },
     "metadata": {},
     "output_type": "display_data"
    }
   ],
   "source": [
    "plt.style.use('seaborn-whitegrid')\n",
    "plt.rcParams[\"figure.figsize\"] = [11.00, 5.50]\n",
    "plt.rcParams[\"figure.autolayout\"] = True\n",
    "plt.yticks(np.arange(-0.25,0.3,0.05))\n",
    "plt.ylim(-0.25, 0.25)\n",
    "# c[6]=None\n",
    "# b[6]=None\n",
    "\n",
    "plt.plot(xs,c6,c=\"c\")\n",
    "plt.errorbar(xs,c6,c=\"c\",yerr=b6,linestyle='None', marker='s')\n",
    "# c[6]=None\n",
    "# b[6]=None\n",
    "\n",
    "plt.title(\"18-hr Avg. MBE All Stations\")\n",
    "plt.xlabel(\"Time Relative to Event Passage\")\n",
    "plt.ylabel(\"MBE Soil Moisture (m^3/m^3)\")\n",
    "#plt.plot(hour,c)\n",
    "#plt.errorbar(hour,c,yerr=b,ecolor='r',elinewidth=5,fmt='s',color='k')\n",
    "#plt.grid()\n",
    "plt.xticks(xs, hour)\n",
    "plt.show()\n",
    "#plt.axvspan(-4, 4, color='green', alpha=0.2, lw=0)"
   ]
  },
  {
   "cell_type": "code",
   "execution_count": 222,
   "id": "240eafe4",
   "metadata": {},
   "outputs": [
    {
     "data": {
      "image/png": "[encoded data removed]",
      "text/plain": [
       "<Figure size 792x396 with 1 Axes>"
      ]
     },
     "metadata": {},
     "output_type": "display_data"
    }
   ],
   "source": [
    "plt.style.use('seaborn-whitegrid')\n",
    "plt.rcParams[\"figure.figsize\"] = [11.00, 5.50]\n",
    "plt.rcParams[\"figure.autolayout\"] = True\n",
    "plt.yticks(np.arange(-0.25,0.3,0.05))\n",
    "plt.ylim(-0.25, 0.25)\n",
    "\n",
    "plt.plot(xs,c1,c=\"b\",label=\"IOP 1\")\n",
    "plt.errorbar(xs,c1,c=\"b\",yerr=b1,linestyle='None', marker='s')\n",
    "\n",
    "plt.plot(xs,c2,c=\"r\",label=\"IOP 2\")\n",
    "plt.errorbar(xs,c2,c=\"r\",yerr=b2,linestyle='None', marker='s')\n",
    "\n",
    "plt.plot(xs,c3,c=\"green\")\n",
    "plt.errorbar(xs,c3,c=\"green\",yerr=b3,linestyle='None', marker='s')\n",
    "\n",
    "plt.plot(xs,c4,c=\"orange\")\n",
    "plt.errorbar(xs,c4,c=\"orange\",yerr=b4,linestyle='None', marker='s')\n",
    "\n",
    "plt.plot(xs,c5,c=\"m\")\n",
    "plt.errorbar(xs,c5,c=\"m\",yerr=b5,linestyle='None', marker='s')\n",
    "\n",
    "plt.plot(xs,c6,c=\"c\")\n",
    "plt.errorbar(xs,c6,c=\"c\",yerr=b6,linestyle='None', marker='s')\n",
    "\n",
    "plt.title(\"18-hr Avg. MBE All Stations\")\n",
    "plt.xlabel(\"Time Relative to Event Passage\")\n",
    "plt.ylabel(\"MBE Soil Moisture (m^3/m^3)\")\n",
    "#plt.plot(hour,c)\n",
    "#plt.errorbar(hour,c,yerr=b,ecolor='r',elinewidth=5,fmt='s',color='k')\n",
    "#plt.grid()\n",
    "plt.xticks(xs, hour)\n",
    "plt.legend([\"IOP 1\", \"IOP 2\",\"IOP 3\",\"IOP 4\",\"IOP 5\",\"IOP 6\"], loc =\"upper right\")\n",
    "plt.show()"
   ]
  },
  {
   "cell_type": "code",
   "execution_count": null,
   "id": "f7def8a1",
   "metadata": {},
   "outputs": [],
   "source": []
  }
 ],
 "metadata": {
  "kernelspec": {
   "display_name": "Python 3 (ipykernel)",
   "language": "python",
   "name": "python3"
  },
  "language_info": {
   "codemirror_mode": {
    "name": "ipython",
    "version": 3
   },
   "file_extension": ".py",
   "mimetype": "text/x-python",
   "name": "python",
   "nbconvert_exporter": "python",
   "pygments_lexer": "ipython3",
   "version": "3.9.12"
  }
 },
 "nbformat": 4,
 "nbformat_minor": 5
}
