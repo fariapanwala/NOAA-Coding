{
 "cells": [
  {
   "cell_type": "code",
   "execution_count": 1,
   "id": "83d28093",
   "metadata": {},
   "outputs": [],
   "source": [
    "import numpy as np\n",
    "import matplotlib.pyplot as plt\n",
    "import math\n",
    "import numpy.ma as ma"
   ]
  },
  {
   "cell_type": "markdown",
   "id": "18ad22a0",
   "metadata": {},
   "source": [
    "<font size=\"3\">Salem, MO: 1200 UTC 22 March 2022-1200 UTC 23 March 2022</font>"
   ]
  },
  {
   "cell_type": "code",
   "execution_count": 2,
   "id": "1b19b289",
   "metadata": {},
   "outputs": [
    {
     "name": "stdout",
     "output_type": "stream",
     "text": [
      "[3.18735, 2.33096, 1.89999, 2.15555, 2.08304, 1.95718, 1.74136, 2.18704, 5.07303, 9.15997, 12.4778, 15.9657, 18.4326, 20.5579, 21.8496, 21.926, 21.6734, 19.4111, 15.7227, 13.1557, 11.6357, 10.4175, 9.76852, 9.10385, 8.45621]\n"
     ]
    }
   ],
   "source": [
    "#18 hr hrrr:\n",
    "with open('hrrr_f18_Salem_MO.txt') as f:\n",
    "    lst=[line.split()[1] for line in f]\n",
    "    temp=[]\n",
    "    for i in lst:\n",
    "        new=i.replace(',',\"\")\n",
    "        temp.append(new)\n",
    "    temp.pop(0)\n",
    "    temp=[float(x) for x in temp]\n",
    "    #print(temp.index(6.91541))\n",
    "    temp=temp[1404:1429]\n",
    "    print(temp)\n",
    "    #print(len(temp))\n",
    "#full time period is [2015:2112]"
   ]
  },
  {
   "cell_type": "code",
   "execution_count": 3,
   "id": "e9d4dbcc",
   "metadata": {},
   "outputs": [
    {
     "name": "stdout",
     "output_type": "stream",
     "text": [
      "[-1.0, -1.4, -2.6, -3.1, -1.0, 2.1, 6.2, 7.0, 8.4, 11.2, 13.9, 17.5, 20.1, 22.0, 23.2, 23.6, 23.5, 22.8, 20.8, 18.3, 16.9, 12.8, 10.1, 5.3, 12.1]\n"
     ]
    }
   ],
   "source": [
    "#Air Temp CRN:\n",
    "with open('CRNH0203-2022-MO_Salem_10_W.txt') as f:\n",
    "    lst=[line.split()[9] for line in f]\n",
    "    #print(lst)\n",
    "    temp_crn=[]\n",
    "    for i in lst:\n",
    "        new=i.replace(',',\"\")\n",
    "        temp_crn.append(new)\n",
    "    temp_crn=[float(x) for x in temp_crn]\n",
    "    temp_crn=temp_crn[1421:1446]\n",
    "    print(temp_crn)\n",
    "    #print(len(temp_crn))\n",
    "    # print(temp_crn[2124])"
   ]
  },
  {
   "cell_type": "code",
   "execution_count": 4,
   "id": "75f1136d-8437-4565-9336-ca8529a631e6",
   "metadata": {},
   "outputs": [],
   "source": [
    "# hour=[]\n",
    "# for i in range(-12,13,1):\n",
    "#     hour.append(i)\n",
    "#     i+=1\n",
    "# print(len(hour))"
   ]
  },
  {
   "cell_type": "code",
   "execution_count": 5,
   "id": "692d99f9",
   "metadata": {},
   "outputs": [],
   "source": [
    "# ho=[6, 7, 8, 9, 10, 11, 12, 13, 14, 15, 16, 17, 18, 19, 20, 21, 22, 23,0,1,2,3,4,5,6]\n",
    "# print(ho)"
   ]
  },
  {
   "cell_type": "code",
   "execution_count": 6,
   "id": "1e9aed03-d99c-4045-812a-e26bcc99b84f",
   "metadata": {},
   "outputs": [
    {
     "name": "stdout",
     "output_type": "stream",
     "text": [
      "[4.18735, 3.73096, 4.49999, 5.2555499999999995, 3.08304, -0.14282000000000017, -4.45864, -4.81296, -3.32697, -2.04003, -1.4222000000000001, -1.5343, -1.6674000000000007, -1.4421, -1.3504000000000005, -1.674000000000003, -1.8265999999999991, -3.3888999999999996, -5.077300000000001, -5.144300000000001, -5.264299999999999, -2.3825000000000003, -0.3314799999999991, 3.8038499999999997, -3.643789999999999]\n"
     ]
    }
   ],
   "source": [
    "difference1_sal = []\n",
    "\n",
    "zip_object = zip(temp, temp_crn)\n",
    "for temp_i, temp_crn_i in zip_object:\n",
    "    difference1_sal.append(temp_i-temp_crn_i)\n",
    "\n",
    "print(difference1_sal)"
   ]
  },
  {
   "cell_type": "markdown",
   "id": "9043c519",
   "metadata": {},
   "source": [
    "<font size=\"3\">Batesville, AR: 1200 UTC 22 March 2022-1200 UTC 23 March 2022</font>"
   ]
  },
  {
   "cell_type": "code",
   "execution_count": 7,
   "id": "394f1ff2",
   "metadata": {},
   "outputs": [
    {
     "name": "stdout",
     "output_type": "stream",
     "text": [
      "[5.37485 4.70596 4.33749 4.09305 4.58304 5.14468 4.99136 4.99954 6.19803\n",
      " 10.535 14.1653 16.4657 18.4951 19.3704 20.0371 20.301 19.6109 18.2236\n",
      " 14.5352 12.1557 11.0107 -- 10.6435 10.7289 9.83121]\n"
     ]
    }
   ],
   "source": [
    "#18 hr hrrr:\n",
    "with open('hrrr_f18_Batesville_AR.txt') as f:\n",
    "    lst=[line.split()[1] for line in f]\n",
    "    temp=[]\n",
    "    for i in lst:\n",
    "        new=i.replace(',',\"\")\n",
    "        temp.append(new)\n",
    "    temp.pop(0)\n",
    "    temp=[float(x) for x in temp]\n",
    "    #print(temp.index(6.91541))\n",
    "    temp=temp[1404:1429]\n",
    "    x = np.array(temp)\n",
    "    temp = ma.masked_array(x, mask=[0, 0, 0, 0, 0,0,0,0,0,0,0,0,0,0,0,0,0,0,0,0,0,1,0,0,0])\n",
    "    print(temp)\n",
    "    #print(len(temp))\n",
    "#full time period is [2015:2112]"
   ]
  },
  {
   "cell_type": "code",
   "execution_count": 8,
   "id": "11b7f8b7",
   "metadata": {},
   "outputs": [
    {
     "name": "stdout",
     "output_type": "stream",
     "text": [
      "[1.7 0.6 -0.1 -0.6 -1.2 -1.1 -1.1 -1.7 0.4 7.3 14.5 18.8 20.9 22.5 23.0\n",
      " 23.0 22.8 21.9 19.8 16.8 14.0 -- 7.2 7.5 4.5]\n"
     ]
    }
   ],
   "source": [
    "#Air Temp CRN:\n",
    "with open('CRNH0203-2022-AR_Batesville_8_WNW.txt') as f:\n",
    "    lst=[line.split()[9] for line in f]\n",
    "    #print(lst)\n",
    "    temp_crn=[]\n",
    "    for i in lst:\n",
    "        new=i.replace(',',\"\")\n",
    "        temp_crn.append(new)\n",
    "    temp_crn=[float(x) for x in temp_crn]\n",
    "    temp_crn=temp_crn[1421:1446]\n",
    "    y = np.array(temp_crn)\n",
    "    temp_crn = ma.masked_array(y, mask=[0, 0, 0, 0, 0,0,0,0,0,0,0,0,0,0,0,0,0,0,0,0,0,1,0,0,0])\n",
    "    print(temp_crn)\n",
    "    #print(len(temp_crn))\n",
    "    # print(temp_crn[2124])"
   ]
  },
  {
   "cell_type": "code",
   "execution_count": 9,
   "id": "62a46873",
   "metadata": {},
   "outputs": [
    {
     "name": "stdout",
     "output_type": "stream",
     "text": [
      "[3.67485, 4.1059600000000005, 4.4374899999999995, 4.6930499999999995, 5.78304, 6.244680000000001, 6.09136, 6.69954, 5.79803, 3.2350000000000003, -0.3346999999999998, -2.3343000000000025, -2.404899999999998, -3.1296, -2.962900000000001, -2.6990000000000016, -3.1891, -3.6763999999999974, -5.264800000000001, -4.644300000000001, -2.9893, masked, 3.4434999999999993, 3.2288999999999994, 5.3312100000000004]\n"
     ]
    }
   ],
   "source": [
    "difference1_bat = []\n",
    "\n",
    "zip_object = zip(temp, temp_crn)\n",
    "for temp_i, temp_crn_i in zip_object:\n",
    "    difference1_bat.append(temp_i-temp_crn_i)\n",
    "\n",
    "print(difference1_bat)"
   ]
  },
  {
   "cell_type": "markdown",
   "id": "2a2589df",
   "metadata": {},
   "source": [
    "<font size=\"3\">Lafayette, LA: 1500 UTC 22 March 2022-1500 UTC 23 March 2022</font>"
   ]
  },
  {
   "cell_type": "code",
   "execution_count": 10,
   "id": "9d0a0e7b",
   "metadata": {},
   "outputs": [
    {
     "name": "stdout",
     "output_type": "stream",
     "text": [
      "[7.24985, 6.70596, 6.46249, 5.59305, 5.33304, 4.45718, 4.05386, 3.43704, 7.44803, 11.8475, 16.1028, 18.6532, 20.3701, 21.8079, 22.6621, 23.1135, 22.4859, 21.5361, 18.9727, 15.5307, 13.8857, 12.2925, 10.7685, 9.97885, 9.39371]\n"
     ]
    }
   ],
   "source": [
    "#18 hr hrrr:\n",
    "with open('hrrr_f18_Lafayette_LA.txt') as f:\n",
    "    lst=[line.split()[1] for line in f]\n",
    "    temp=[]\n",
    "    for i in lst:\n",
    "        new=i.replace(',',\"\")\n",
    "        temp.append(new)\n",
    "    temp.pop(0)\n",
    "    temp=[float(x) for x in temp]\n",
    "    #print(temp.index(6.91541))\n",
    "    temp=temp[1404:1429]\n",
    "    print(temp)\n",
    "    #print(len(temp))\n",
    "#full time period is [2015:2112]"
   ]
  },
  {
   "cell_type": "code",
   "execution_count": 11,
   "id": "bfe1bb32",
   "metadata": {},
   "outputs": [
    {
     "name": "stdout",
     "output_type": "stream",
     "text": [
      "[7.2, 5.7, 4.7, 3.8, 3.1, 2.8, 3.0, 2.4, 5.1, 10.2, 13.7, 16.3, 17.4, 18.3, 19.4, 20.0, 20.4, 20.4, 19.3, 14.9, 12.5, 11.7, 10.4, 9.5, 8.8]\n"
     ]
    }
   ],
   "source": [
    "#Air Temp CRN:\n",
    "with open('CRNH0203-2022-LA_Lafayette_13_SE.txt') as f:\n",
    "    lst=[line.split()[9] for line in f]\n",
    "    #print(lst)\n",
    "    temp_crn=[]\n",
    "    for i in lst:\n",
    "        new=i.replace(',',\"\")\n",
    "        temp_crn.append(new)\n",
    "    temp_crn=[float(x) for x in temp_crn]\n",
    "    temp_crn=temp_crn[1421:1446]\n",
    "    print(temp_crn)\n",
    "    #print(len(temp_crn))\n",
    "    # print(temp_crn[2124])"
   ]
  },
  {
   "cell_type": "code",
   "execution_count": 12,
   "id": "9b94d0f9",
   "metadata": {},
   "outputs": [
    {
     "name": "stdout",
     "output_type": "stream",
     "text": [
      "[0.04985000000000017, 1.00596, 1.7624899999999997, 1.79305, 2.2330399999999995, 1.6571800000000003, 1.0538600000000002, 1.0370400000000002, 2.3480300000000005, 1.6475000000000009, 2.402799999999999, 2.3531999999999975, 2.970100000000002, 3.5078999999999994, 3.2621, 3.1134999999999984, 2.0859000000000023, 1.1361000000000026, -0.32730000000000103, 0.6306999999999992, 1.3857, 0.5925000000000011, 0.36849999999999916, 0.47884999999999955, 0.5937099999999997]\n"
     ]
    }
   ],
   "source": [
    "difference1_laf = []\n",
    "\n",
    "zip_object = zip(temp, temp_crn)\n",
    "for temp_i, temp_crn_i in zip_object:\n",
    "    difference1_laf.append(temp_i-temp_crn_i)\n",
    "\n",
    "print(difference1_laf)"
   ]
  },
  {
   "cell_type": "markdown",
   "id": "7a8d079f",
   "metadata": {},
   "source": [
    "<font size=\"3\">Monroe, LA: 1500 UTC 22 March 2022-1500 UTC 23 March 2022</font>"
   ]
  },
  {
   "cell_type": "code",
   "execution_count": 13,
   "id": "f4c20224",
   "metadata": {},
   "outputs": [
    {
     "name": "stdout",
     "output_type": "stream",
     "text": [
      "[4.18735, 3.26846, 2.33749, 1.84305, 1.64554, 1.08218, 1.67886, 1.06204, 4.07303, 9.40997, 13.0403, 15.7782, 17.3076, 18.1204, 18.6621, 19.426, 19.2359, 18.4736, 14.4102, 12.2807, 10.6982, 9.79254, 8.70602, 7.79135, 7.08121]\n"
     ]
    }
   ],
   "source": [
    "#18 hr hrrr:\n",
    "with open('hrrr_f18_Monroe_LA.txt') as f:\n",
    "    lst=[line.split()[1] for line in f]\n",
    "    temp=[]\n",
    "    for i in lst:\n",
    "        new=i.replace(',',\"\")\n",
    "        temp.append(new)\n",
    "    temp.pop(0)\n",
    "    temp=[float(x) for x in temp]\n",
    "    #print(temp.index(6.91541))\n",
    "    temp=temp[1404:1429]\n",
    "    print(temp)\n",
    "    #print(len(temp))\n",
    "#full time period is [2015:2112]"
   ]
  },
  {
   "cell_type": "code",
   "execution_count": 14,
   "id": "5c3999a7",
   "metadata": {},
   "outputs": [
    {
     "name": "stdout",
     "output_type": "stream",
     "text": [
      "[2.2, 2.5, 2.5, 2.2, 0.9, -0.2, -0.4, -0.3, 0.6, 6.6, 13.8, 16.4, 18.2, 19.5, 20.6, 21.1, 21.3, 20.9, 17.1, 11.4, 8.3, 6.3, 4.9, 4.1, 3.4]\n"
     ]
    }
   ],
   "source": [
    "#Air Temp CRN:\n",
    "with open('CRNH0203-2022-LA_Monroe_26_N.txt') as f:\n",
    "    lst=[line.split()[9] for line in f]\n",
    "    #print(lst)\n",
    "    temp_crn=[]\n",
    "    for i in lst:\n",
    "        new=i.replace(',',\"\")\n",
    "        temp_crn.append(new)\n",
    "    temp_crn=[float(x) for x in temp_crn]\n",
    "    temp_crn=temp_crn[1421:1446]\n",
    "    print(temp_crn)\n",
    "    #print(len(temp_crn))\n",
    "    # print(temp_crn[2124])"
   ]
  },
  {
   "cell_type": "code",
   "execution_count": 15,
   "id": "2b4e383a",
   "metadata": {},
   "outputs": [
    {
     "name": "stdout",
     "output_type": "stream",
     "text": [
      "[1.9873500000000002, 0.7684600000000001, -0.16251000000000015, -0.3569500000000001, 0.74554, 1.2821799999999999, 2.07886, 1.3620400000000001, 3.47303, 2.80997, -0.7597000000000005, -0.6217999999999986, -0.8923999999999985, -1.3796, -1.9379000000000026, -1.674000000000003, -2.0641, -2.4263999999999974, -2.6898000000000017, 0.8806999999999992, 2.398199999999999, 3.492540000000001, 3.80602, 3.691350000000001, 3.6812099999999996]\n"
     ]
    }
   ],
   "source": [
    "difference1_mon = []\n",
    "\n",
    "zip_object = zip(temp, temp_crn)\n",
    "for temp_i, temp_crn_i in zip_object:\n",
    "    difference1_mon.append(temp_i-temp_crn_i)\n",
    "\n",
    "print(difference1_mon)"
   ]
  },
  {
   "cell_type": "markdown",
   "id": "26c585ff",
   "metadata": {},
   "source": [
    "<font size=\"3\">Holly Springs, MS: 1800 UTC 22 March 2022-1800 UTC 23 March 2022</font>"
   ]
  },
  {
   "cell_type": "code",
   "execution_count": 16,
   "id": "41fed7a9",
   "metadata": {},
   "outputs": [
    {
     "name": "stdout",
     "output_type": "stream",
     "text": [
      "[3.37485, 2.95596, 2.64999, 2.78055, 2.52054, 2.20718, 1.80386, 2.37454, 5.38553, 8.97247, 11.3528, 13.0282, 14.6201, 15.6204, 15.9746, 16.551, 15.4234, 13.9736, 11.2852, 9.96823, 9.26065, 8.60504, 8.64352, 7.91635, 7.26871]\n"
     ]
    }
   ],
   "source": [
    "#18 hr hrrr:\n",
    "with open('hrrr_f18_Holly Springs_MS.txt') as f:\n",
    "    lst=[line.split()[1] for line in f]\n",
    "    temp=[]\n",
    "    for i in lst:\n",
    "        new=i.replace(',',\"\")\n",
    "        temp.append(new)\n",
    "    temp.pop(0)\n",
    "    temp=[float(x) for x in temp]\n",
    "    #print(temp.index(6.91541))\n",
    "    temp=temp[1404:1429]\n",
    "    print(temp)\n",
    "    #print(len(temp))\n",
    "#full time period is [2015:2112]"
   ]
  },
  {
   "cell_type": "code",
   "execution_count": 17,
   "id": "19a3055f",
   "metadata": {},
   "outputs": [
    {
     "name": "stdout",
     "output_type": "stream",
     "text": [
      "[0.8, 0.2, -0.6, -1.0, -1.5, -2.0, -2.1, -2.1, -0.3, 7.9, 12.7, 16.1, 18.3, 19.5, 20.3, 20.6, 20.4, 19.6, 17.1, 13.4, 9.9, 8.9, 10.9, 11.0, 7.3]\n"
     ]
    }
   ],
   "source": [
    "#Air Temp CRN:\n",
    "with open('CRNH0203-2022-MS_Holly_Springs_4_N.txt') as f:\n",
    "    lst=[line.split()[9] for line in f]\n",
    "    #print(lst)\n",
    "    temp_crn=[]\n",
    "    for i in lst:\n",
    "        new=i.replace(',',\"\")\n",
    "        temp_crn.append(new)\n",
    "    temp_crn=[float(x) for x in temp_crn]\n",
    "    temp_crn=temp_crn[1421:1446]\n",
    "    print(temp_crn)\n",
    "    #print(len(temp_crn))\n",
    "    # print(temp_crn[2124])"
   ]
  },
  {
   "cell_type": "code",
   "execution_count": 18,
   "id": "46b095cb",
   "metadata": {},
   "outputs": [
    {
     "name": "stdout",
     "output_type": "stream",
     "text": [
      "[2.5748499999999996, 2.75596, 3.24999, 3.78055, 4.0205400000000004, 4.20718, 3.90386, 4.47454, 5.68553, 1.0724699999999991, -1.347199999999999, -3.0718000000000014, -3.6799, -3.8796, -4.3254, -4.049000000000003, -4.976599999999998, -5.626400000000002, -5.814800000000002, -3.43177, -0.6393500000000003, -0.29495999999999967, -2.25648, -3.0836499999999996, -0.03129000000000026]\n"
     ]
    }
   ],
   "source": [
    "difference1_hol = []\n",
    "\n",
    "zip_object = zip(temp, temp_crn)\n",
    "for temp_i, temp_crn_i in zip_object:\n",
    "    difference1_hol.append(temp_i-temp_crn_i)\n",
    "\n",
    "print(difference1_hol)"
   ]
  },
  {
   "cell_type": "markdown",
   "id": "1c76c308",
   "metadata": {},
   "source": [
    "<font size=\"3\">Newton, MS: 1800 UTC 22 March 2022-1800 UTC 23 March 2022</font>"
   ]
  },
  {
   "cell_type": "code",
   "execution_count": 19,
   "id": "e8171095",
   "metadata": {},
   "outputs": [
    {
     "name": "stdout",
     "output_type": "stream",
     "text": [
      "[4.24985, 3.45596, 3.02499, 2.59305, 2.77054, 2.58218, 1.67886, 1.62454, 6.82303, 11.16, 14.7903, 16.9657, 18.6201, 19.6829, 20.2871, 21.2385, 20.7984, 19.9736, 15.9102, 13.0932, 11.2607, 10.1675, 9.01852, 8.10385, 6.64371]\n"
     ]
    }
   ],
   "source": [
    "#18 hr hrrr:\n",
    "with open('hrrr_f18_Newton_MS.txt') as f:\n",
    "    lst=[line.split()[1] for line in f]\n",
    "    temp=[]\n",
    "    for i in lst:\n",
    "        new=i.replace(',',\"\")\n",
    "        temp.append(new)\n",
    "    temp.pop(0)\n",
    "    temp=[float(x) for x in temp]\n",
    "    #print(temp.index(6.91541))\n",
    "    temp=temp[1404:1429]\n",
    "    print(temp)\n",
    "    #print(len(temp))\n",
    "#full time period is [2015:2112]"
   ]
  },
  {
   "cell_type": "code",
   "execution_count": 20,
   "id": "3fb09a0f",
   "metadata": {},
   "outputs": [
    {
     "name": "stdout",
     "output_type": "stream",
     "text": [
      "[2.1, 1.5, 0.8, 0.3, -0.3, -0.9, -1.0, -0.1, 1.6, 6.4, 11.6, 14.3, 16.1, 17.3, 18.6, 19.5, 20.0, 19.7, 17.1, 11.8, 8.6, 6.9, 5.4, 4.2, 3.3]\n"
     ]
    }
   ],
   "source": [
    "#Air Temp CRN:\n",
    "with open('CRNH0203-2022-MS_Newton_5_ENE.txt') as f:\n",
    "    lst=[line.split()[9] for line in f]\n",
    "    #print(lst)\n",
    "    temp_crn=[]\n",
    "    for i in lst:\n",
    "        new=i.replace(',',\"\")\n",
    "        temp_crn.append(new)\n",
    "    temp_crn=[float(x) for x in temp_crn]\n",
    "    temp_crn=temp_crn[1421:1446]\n",
    "    print(temp_crn)\n",
    "    #print(len(temp_crn))\n",
    "    # print(temp_crn[2124])"
   ]
  },
  {
   "cell_type": "code",
   "execution_count": 21,
   "id": "e588ab70",
   "metadata": {},
   "outputs": [
    {
     "name": "stdout",
     "output_type": "stream",
     "text": [
      "[2.1498500000000003, 1.9559600000000001, 2.22499, 2.29305, 3.07054, 3.48218, 2.6788600000000002, 1.7245400000000002, 5.22303, 4.76, 3.1903000000000006, 2.6656999999999975, 2.5200999999999993, 2.3828999999999994, 1.6870999999999974, 1.7384999999999984, 0.7984000000000009, 0.27360000000000184, -1.1898000000000017, 1.2931999999999988, 2.6607000000000003, 3.2675, 3.61852, 3.9038499999999994, 3.3437099999999997]\n"
     ]
    }
   ],
   "source": [
    "difference1_new = []\n",
    "\n",
    "zip_object = zip(temp, temp_crn)\n",
    "for temp_i, temp_crn_i in zip_object:\n",
    "    difference1_new.append(temp_i-temp_crn_i)\n",
    "\n",
    "print(difference1_new)"
   ]
  },
  {
   "cell_type": "markdown",
   "id": "c9620694",
   "metadata": {},
   "source": [
    "<font size=\"3\">Gainesville, AL: 2200 UTC 22 March 2022-2200 UTC 23 March 2022</font>"
   ]
  },
  {
   "cell_type": "code",
   "execution_count": 22,
   "id": "a16fb94f",
   "metadata": {},
   "outputs": [
    {
     "name": "stdout",
     "output_type": "stream",
     "text": [
      "[4.56235, 4.26846, 4.02499, 4.28055, 4.02054, 3.14468, 2.42886, 2.81204, 5.76053, 9.72247, 13.9778, 16.1532, 17.6201, 18.7454, 19.5371, 20.176, 19.4859, 18.0986, 14.3477, 12.2182, 10.8232, 9.41754, 8.83102, 7.41635, 6.39371]\n"
     ]
    }
   ],
   "source": [
    "#18 hr hrrr:\n",
    "with open('hrrr_f18_Gainesville_AL (1).txt') as f:\n",
    "    lst=[line.split()[1] for line in f]\n",
    "    temp=[]\n",
    "    for i in lst:\n",
    "        new=i.replace(',',\"\")\n",
    "        temp.append(new)\n",
    "    temp.pop(0)\n",
    "    temp=[float(x) for x in temp]\n",
    "    #print(temp.index(6.91541))\n",
    "    temp=temp[1404:1429]\n",
    "    print(temp)\n",
    "    #print(len(temp))\n",
    "#full time period is [2015:2112]"
   ]
  },
  {
   "cell_type": "code",
   "execution_count": 23,
   "id": "2c97e541",
   "metadata": {},
   "outputs": [
    {
     "name": "stdout",
     "output_type": "stream",
     "text": [
      "[3.4, 2.6, 2.0, 1.6, 1.3, 1.5, 1.4, 1.3, 3.7, 6.9, 10.8, 14.2, 16.0, 17.4, 18.5, 19.3, 19.6, 19.4, 17.4, 13.0, 10.2, 8.2, 6.8, 5.9, 5.0]\n"
     ]
    }
   ],
   "source": [
    "#Air Temp CRN:\n",
    "with open('CRNH0203-2022-AL_Gainesville_2_NE.txt') as f:\n",
    "    lst=[line.split()[9] for line in f]\n",
    "    #print(lst)\n",
    "    temp_crn=[]\n",
    "    for i in lst:\n",
    "        new=i.replace(',',\"\")\n",
    "        temp_crn.append(new)\n",
    "    temp_crn=[float(x) for x in temp_crn]\n",
    "    temp_crn=temp_crn[1421:1446]\n",
    "    print(temp_crn)\n",
    "    #print(len(temp_crn))\n",
    "    # print(temp_crn[2124])"
   ]
  },
  {
   "cell_type": "code",
   "execution_count": 24,
   "id": "8df76a7b",
   "metadata": {},
   "outputs": [
    {
     "name": "stdout",
     "output_type": "stream",
     "text": [
      "[1.1623500000000004, 1.66846, 2.02499, 2.6805499999999998, 2.7205399999999997, 1.6446800000000001, 1.0288599999999999, 1.51204, 2.06053, 2.822469999999999, 3.1777999999999995, 1.953199999999999, 1.6201000000000008, 1.3454000000000015, 1.0370999999999988, 0.8759999999999977, -0.11410000000000053, -1.3013999999999974, -3.052299999999999, -0.7818000000000005, 0.6232000000000006, 1.2175400000000014, 2.0310200000000007, 1.51635, 1.3937099999999996]\n"
     ]
    }
   ],
   "source": [
    "difference1_gai = []\n",
    "\n",
    "zip_object = zip(temp, temp_crn)\n",
    "for temp_i, temp_crn_i in zip_object:\n",
    "    difference1_gai.append(temp_i-temp_crn_i)\n",
    "\n",
    "print(difference1_gai)"
   ]
  },
  {
   "cell_type": "markdown",
   "id": "2711dc15",
   "metadata": {},
   "source": [
    "<font size=\"3\">Fairhope, AL: 2200 UTC 22 March 2022-2200 UTC 23 March 2022</font>"
   ]
  },
  {
   "cell_type": "code",
   "execution_count": 25,
   "id": "e9eb20f7",
   "metadata": {},
   "outputs": [
    {
     "name": "stdout",
     "output_type": "stream",
     "text": [
      "[8.56235, 8.39346, 7.71249, 7.34305, 6.89554, 6.39468, 6.36636, 6.81204, 10.698, 13.785, 16.7278, 18.7157, 19.4951, 19.6829, 20.2871, 20.9885, 20.1109, 17.9111, 15.2852, 13.9057, 12.8232, 12.7925, 11.7685, 11.1039, 10.7062]\n"
     ]
    }
   ],
   "source": [
    "#18 hr hrrr:\n",
    "with open('hrrr_f18_Fairhope_AL.txt') as f:\n",
    "    lst=[line.split()[1] for line in f]\n",
    "    temp=[]\n",
    "    for i in lst:\n",
    "        new=i.replace(',',\"\")\n",
    "        temp.append(new)\n",
    "    temp.pop(0)\n",
    "    temp=[float(x) for x in temp]\n",
    "    #print(temp.index(6.91541))\n",
    "    temp=temp[1404:1429]\n",
    "    print(temp)\n",
    "    #print(len(temp))\n",
    "#full time period is [2015:2112]"
   ]
  },
  {
   "cell_type": "code",
   "execution_count": 26,
   "id": "4df09785",
   "metadata": {},
   "outputs": [
    {
     "name": "stdout",
     "output_type": "stream",
     "text": [
      "[10.4, 9.6, 9.2, 8.3, 8.3, 8.2, 7.5, 5.3, 8.8, 13.3, 16.4, 17.9, 18.3, 18.5, 18.7, 19.7, 20.3, 18.2, 15.9, 14.1, 12.2, 9.8, 8.5, 7.0, 6.3]\n"
     ]
    }
   ],
   "source": [
    "#Air Temp CRN:\n",
    "with open('CRNH0203-2022-AL_Fairhope_3_NE.txt') as f:\n",
    "    lst=[line.split()[9] for line in f]\n",
    "    #print(lst)\n",
    "    temp_crn=[]\n",
    "    for i in lst:\n",
    "        new=i.replace(',',\"\")\n",
    "        temp_crn.append(new)\n",
    "    temp_crn=[float(x) for x in temp_crn]\n",
    "    temp_crn=temp_crn[1421:1446]\n",
    "    print(temp_crn)\n",
    "    #print(len(temp_crn))\n",
    "    # print(temp_crn[2124])"
   ]
  },
  {
   "cell_type": "code",
   "execution_count": 27,
   "id": "a9ff3306",
   "metadata": {},
   "outputs": [
    {
     "name": "stdout",
     "output_type": "stream",
     "text": [
      "[-1.83765, -1.2065400000000004, -1.4875099999999994, -0.9569500000000009, -1.4044600000000012, -1.8053199999999991, -1.1336399999999998, 1.5120399999999998, 1.8979999999999997, 0.48499999999999943, 0.32779999999999987, 0.8156999999999996, 1.1951, 1.1829, 1.5870999999999995, 1.288499999999999, -0.18909999999999982, -0.28889999999999816, -0.6148000000000007, -0.19430000000000014, 0.6232000000000006, 2.9924999999999997, 3.2684999999999995, 4.103899999999999, 4.406200000000001]\n"
     ]
    }
   ],
   "source": [
    "difference1_fai = []\n",
    "\n",
    "zip_object = zip(temp, temp_crn)\n",
    "for temp_i, temp_crn_i in zip_object:\n",
    "    difference1_fai.append(temp_i-temp_crn_i)\n",
    "\n",
    "print(difference1_fai)"
   ]
  },
  {
   "cell_type": "markdown",
   "id": "f5dd4e4b",
   "metadata": {},
   "source": [
    "<font size=\"3\">**Selma, AL: 2200 UTC 22 March 2022-2200 UTC 23 March 2022</font>"
   ]
  },
  {
   "cell_type": "code",
   "execution_count": 28,
   "id": "af6b46b1",
   "metadata": {},
   "outputs": [
    {
     "name": "stdout",
     "output_type": "stream",
     "text": [
      "[5.81235, 5.45596, 4.77499, 4.71805, 4.70804, 4.58218, 3.55386, 3.62454, 7.19803, 10.5975, 13.7278, 16.2157, 18.0576, 19.4329, 20.1621, 20.676, 20.3609, 18.5361, 15.2227, 13.0307, 11.3232, 9.73004, 9.08102, 8.54135, 7.64371]\n",
      "[3.1, 2.3, 1.7, 1.2, 0.7, 0.3, 0.7, 1.1, 3.8, 8.3, 11.9, 15.1, 16.9, 17.9, 18.9, 19.4, 19.4, 18.9, 17.1, 11.1, 8.0, 6.4, 4.9, 4.3, 3.7]\n",
      "[2.7123500000000003, 3.1559600000000003, 3.0749899999999997, 3.5180499999999997, 4.008039999999999, 4.28218, 2.85386, 2.52454, 3.3980300000000003, 2.2974999999999994, 1.8277999999999999, 1.1156999999999986, 1.1576000000000022, 1.5329000000000015, 1.2621000000000002, 1.2759999999999998, 0.9609000000000023, -0.36389999999999745, -1.8773000000000017, 1.9306999999999999, 3.3232, 3.3300400000000003, 4.18102, 4.24135, 3.9437099999999994]\n",
      "25\n"
     ]
    }
   ],
   "source": [
    "import numpy as np\n",
    "import numpy.ma as ma\n",
    "#18 hr hrrr:\n",
    "with open('hrrr_f18_Selma_AL.txt') as f:\n",
    "    lst=[line.split()[1] for line in f]\n",
    "    temp=[]\n",
    "    for i in lst:\n",
    "        new=i.replace(',',\"\")\n",
    "        temp.append(new)\n",
    "    temp.pop(0)\n",
    "    temp=[float(x) for x in temp]\n",
    "    #print(temp.index(6.91541))\n",
    "    temp=temp[1404:1429]\n",
    "\n",
    "#     x = np.array(temp)\n",
    "#     temp = ma.masked_array(x, mask=[0, 0, 0, 0, 0,0,0,0,0,0,0,0,0,0,0,0,0,1,1,1,1,0,0,0,0])\n",
    "    #print(temp)\n",
    "#Air Temp CRN:\n",
    "with open('CRNH0203-2022-AL_Selma_13_WNW.txt') as f:\n",
    "    lst=[line.split()[9] for line in f]\n",
    "    #print(lst)\n",
    "    temp_crn=[]\n",
    "    for i in lst:\n",
    "        new=i.replace(',',\"\")\n",
    "        temp_crn.append(new)\n",
    "    temp_crn=[float(x) for x in temp_crn]\n",
    "    temp_crn=temp_crn[1421:1446]\n",
    "#     y = np.array(temp_crn)\n",
    "#     temp_crn = ma.masked_array(y, mask=[0, 0, 0, 0, 0,0,0,0,0,0,0,0,0,0,0,0,0,1,1,1,1,0,0,0,0])\n",
    "    print(temp)\n",
    "    #print(len(temp))\n",
    "    print(temp_crn)\n",
    "    #print(len(temp_crn))\n",
    "#full time period is [2015:2112]\n",
    "difference1_sel = []\n",
    "\n",
    "zip_object = zip(temp, temp_crn)\n",
    "for temp_i, temp_crn_i in zip_object:\n",
    "    difference1_sel.append(temp_i-temp_crn_i)\n",
    "\n",
    "print(difference1_sel)\n",
    "print(len(difference1_sel))"
   ]
  },
  {
   "cell_type": "markdown",
   "id": "8fab4bdc",
   "metadata": {},
   "source": [
    "<font size=\"3\">Bowling Green, KY: 2300 UTC 22 March 2022-2300 UTC 23 March 2022</font>"
   ]
  },
  {
   "cell_type": "code",
   "execution_count": 29,
   "id": "1caf0dec",
   "metadata": {},
   "outputs": [
    {
     "name": "stdout",
     "output_type": "stream",
     "text": [
      "[2.06235, 1.70596, 1.64999, 1.71805, 1.58304, 1.33218, 1.11636, 1.56204, 4.32303, 7.22247, 10.1028, 12.7782, 14.9951, 16.7454, 17.6621, 17.7385, 17.5484, 15.4736, 12.7852, 11.2807, 10.2607, 9.35504, 8.64352, 7.91635, 7.39371]\n"
     ]
    }
   ],
   "source": [
    "#18 hr hrrr:\n",
    "with open('hrrr_f18_Bowling Green_KY.txt') as f:\n",
    "    lst=[line.split()[1] for line in f]\n",
    "    temp=[]\n",
    "    for i in lst:\n",
    "        new=i.replace(',',\"\")\n",
    "        temp.append(new)\n",
    "    temp.pop(0)\n",
    "    temp=[float(x) for x in temp]\n",
    "    #print(temp.index(6.91541))\n",
    "    temp=temp[1404:1429]\n",
    "    print(temp)\n",
    "    #print(len(temp))\n",
    "#full time period is [2015:2112]"
   ]
  },
  {
   "cell_type": "code",
   "execution_count": 30,
   "id": "b9e25e31",
   "metadata": {},
   "outputs": [
    {
     "name": "stdout",
     "output_type": "stream",
     "text": [
      "[5.3, 4.7, 4.3, 3.7, 3.3, 3.1, 3.0, 3.3, 4.8, 8.0, 11.1, 13.9, 17.1, 18.7, 19.7, 20.1, 20.1, 19.3, 17.1, 15.5, 14.7, 13.7, 13.1, 12.3, 11.2]\n"
     ]
    }
   ],
   "source": [
    "#Air Temp CRN:\n",
    "with open('CRNH0203-2022-KY_Bowling_Green_21_NNE.txt') as f:\n",
    "    lst=[line.split()[9] for line in f]\n",
    "    #print(lst)\n",
    "    temp_crn=[]\n",
    "    for i in lst:\n",
    "        new=i.replace(',',\"\")\n",
    "        temp_crn.append(new)\n",
    "    temp_crn=[float(x) for x in temp_crn]\n",
    "    temp_crn=temp_crn[1421:1446]\n",
    "    print(temp_crn)\n",
    "    #print(len(temp_crn))\n",
    "    # print(temp_crn[2124])"
   ]
  },
  {
   "cell_type": "code",
   "execution_count": 31,
   "id": "c1e72531",
   "metadata": {},
   "outputs": [
    {
     "name": "stdout",
     "output_type": "stream",
     "text": [
      "[-3.23765, -2.99404, -2.65001, -1.98195, -1.7169599999999998, -1.7678200000000002, -1.88364, -1.7379599999999997, -0.47696999999999967, -0.7775299999999996, -0.9971999999999994, -1.1218000000000004, -2.1049000000000007, -1.9545999999999992, -2.0379000000000005, -2.361500000000003, -2.5516000000000005, -3.8264000000000014, -4.314800000000002, -4.2193000000000005, -4.439299999999999, -4.344959999999999, -4.456479999999999, -4.38365, -3.8062899999999997]\n"
     ]
    }
   ],
   "source": [
    "difference1_bow = []\n",
    "\n",
    "zip_object = zip(temp, temp_crn)\n",
    "for temp_i, temp_crn_i in zip_object:\n",
    "    difference1_bow.append(temp_i-temp_crn_i)\n",
    "\n",
    "print(difference1_bow)"
   ]
  },
  {
   "cell_type": "markdown",
   "id": "d1be2cc0",
   "metadata": {},
   "source": [
    "<font size=\"3\">Gadsden, AL: 0100 UTC 23 March 2022-0100 UTC 24 March 2022</font>"
   ]
  },
  {
   "cell_type": "code",
   "execution_count": 32,
   "id": "03235bce",
   "metadata": {},
   "outputs": [
    {
     "name": "stdout",
     "output_type": "stream",
     "text": [
      "[3.93735 3.64346 3.39999 3.09305 3.08304 2.83218 2.74136 3.37454 --\n",
      " 9.09747 11.2903 13.2157 14.1201 14.9329 15.2246 15.4885 14.7984 13.0986\n",
      " 10.5352 9.28073 8.32315 7.41754 7.26852 6.66635 5.95621]\n"
     ]
    }
   ],
   "source": [
    "#18 hr hrrr:\n",
    "with open('hrrr_f18_Gadsden_AL.txt') as f:\n",
    "    lst=[line.split()[1] for line in f]\n",
    "    temp=[]\n",
    "    for i in lst:\n",
    "        new=i.replace(',',\"\")\n",
    "        temp.append(new)\n",
    "    temp.pop(0)\n",
    "    temp=[float(x) for x in temp]\n",
    "    #print(temp.index(6.91541))\n",
    "    temp=temp[1404:1429]\n",
    "    x = np.array(temp)\n",
    "    temp = ma.masked_array(x, mask=[0, 0, 0, 0, 0,0,0,0,1,0,0,0,0,0,0,0,0,0,0,0,0,0,0,0,0])\n",
    "    print(temp)\n",
    "    #print(len(temp))\n",
    "#full time period is [2015:2112]"
   ]
  },
  {
   "cell_type": "code",
   "execution_count": 33,
   "id": "eb5f934d",
   "metadata": {},
   "outputs": [
    {
     "name": "stdout",
     "output_type": "stream",
     "text": [
      "[1.8 1.3 0.6 1.2 1.4 0.6 0.3 -0.3 -- 9.5 11.7 13.2 14.4 15.3 16.4 17.0\n",
      " 17.2 16.8 13.9 8.4 6.8 7.1 5.6 6.1 6.7]\n"
     ]
    }
   ],
   "source": [
    "#Air Temp CRN:\n",
    "with open('CRNH0203-2022-AL_Gadsden_19_N.txt') as f:\n",
    "    lst=[line.split()[9] for line in f]\n",
    "    #print(lst)\n",
    "    temp_crn=[]\n",
    "    for i in lst:\n",
    "        new=i.replace(',',\"\")\n",
    "        temp_crn.append(new)\n",
    "    temp_crn=[float(x) for x in temp_crn]\n",
    "    temp_crn=temp_crn[1421:1446]\n",
    "    y = np.array(temp_crn)\n",
    "    temp_crn = ma.masked_array(y, mask=[0, 0, 0, 0, 0,0,0,0,1,0,0,0,0,0,0,0,0,0,0,0,0,0,0,0,0])\n",
    "    print(temp_crn)\n",
    "    #print(len(temp_crn))\n",
    "    # print(temp_crn[2124])"
   ]
  },
  {
   "cell_type": "code",
   "execution_count": 34,
   "id": "c002ac76",
   "metadata": {},
   "outputs": [
    {
     "name": "stdout",
     "output_type": "stream",
     "text": [
      "[2.1373499999999996, 2.3434600000000003, 2.7999899999999998, 1.89305, 1.68304, 2.23218, 2.44136, 3.67454, masked, -0.4025300000000005, -0.40969999999999906, 0.015700000000000713, -0.2798999999999996, -0.36710000000000065, -1.175399999999998, -1.5114999999999998, -2.4015999999999984, -3.7014000000000014, -3.3648000000000007, 0.8807299999999998, 1.5231500000000002, 0.31754000000000016, 1.66852, 0.5663500000000008, -0.7437900000000006]\n"
     ]
    }
   ],
   "source": [
    "difference1_gad = []\n",
    "\n",
    "zip_object = zip(temp, temp_crn)\n",
    "for temp_i, temp_crn_i in zip_object:\n",
    "    difference1_gad.append(temp_i-temp_crn_i)\n",
    "\n",
    "print(difference1_gad)"
   ]
  },
  {
   "cell_type": "markdown",
   "id": "d430f7c6",
   "metadata": {},
   "source": [
    "<font size=\"3\">Newton, GA: 0900 UTC 23 March 2022-0900 UTC 24 March 2022</font>"
   ]
  },
  {
   "cell_type": "code",
   "execution_count": 35,
   "id": "13ffdd24",
   "metadata": {},
   "outputs": [
    {
     "name": "stdout",
     "output_type": "stream",
     "text": [
      "[10.1873, 7.76846, 6.83749, 5.78055, 5.39554, 5.76968, 5.05386, 7.56204, 9.82303, 13.5975, 16.1653, 18.8407, 19.9951, 20.6829, 21.2871, 21.551, 21.4234, 19.7861, 16.8477, 15.2807, 13.3232, 12.23, 10.7685, 9.85385, 8.89371]\n"
     ]
    }
   ],
   "source": [
    "#18 hr hrrr:\n",
    "with open('hrrr_f18_Newton_GA.txt') as f:\n",
    "    lst=[line.split()[1] for line in f]\n",
    "    temp=[]\n",
    "    for i in lst:\n",
    "        new=i.replace(',',\"\")\n",
    "        temp.append(new)\n",
    "    temp.pop(0)\n",
    "    temp=[float(x) for x in temp]\n",
    "    #print(temp.index(6.91541))\n",
    "    temp=temp[1404:1429]\n",
    "    print(temp)\n",
    "    #print(len(temp))\n",
    "#full time period is [2015:2112]"
   ]
  },
  {
   "cell_type": "code",
   "execution_count": 36,
   "id": "9851cf85",
   "metadata": {},
   "outputs": [
    {
     "name": "stdout",
     "output_type": "stream",
     "text": [
      "[7.2, 6.2, 5.5, 5.3, 4.6, 3.9, 3.8, 3.9, 7.9, 11.1, 14.6, 17.2, 18.5, 19.6, 20.8, 21.4, 21.3, 20.7, 17.3, 13.9, 11.7, 9.7, 8.7, 7.1, 6.4]\n"
     ]
    }
   ],
   "source": [
    "#Air Temp CRN:\n",
    "with open('CRNH0203-2022-GA_Newton_11_SW.txt') as f:\n",
    "    lst=[line.split()[9] for line in f]\n",
    "    #print(lst)\n",
    "    temp_crn=[]\n",
    "    for i in lst:\n",
    "        new=i.replace(',',\"\")\n",
    "        temp_crn.append(new)\n",
    "    temp_crn=[float(x) for x in temp_crn]\n",
    "    temp_crn=temp_crn[1421:1446]\n",
    "    print(temp_crn)\n",
    "    #print(len(temp_crn))\n",
    "    # print(temp_crn[2124])"
   ]
  },
  {
   "cell_type": "code",
   "execution_count": 37,
   "id": "f2141c03",
   "metadata": {},
   "outputs": [
    {
     "name": "stdout",
     "output_type": "stream",
     "text": [
      "[2.9873000000000003, 1.56846, 1.3374899999999998, 0.48055000000000003, 0.7955399999999999, 1.8696800000000002, 1.2538600000000004, 3.6620399999999997, 1.923029999999999, 2.4975000000000005, 1.5652999999999988, 1.640699999999999, 1.4951000000000008, 1.0828999999999986, 0.4870999999999981, 0.1509999999999998, 0.12340000000000018, -0.9138999999999982, -0.45230000000000103, 1.3806999999999992, 1.6232000000000006, 2.530000000000001, 2.0685000000000002, 2.75385, 2.49371]\n"
     ]
    }
   ],
   "source": [
    "difference1_newt = []\n",
    "\n",
    "zip_object = zip(temp, temp_crn)\n",
    "for temp_i, temp_crn_i in zip_object:\n",
    "    difference1_newt.append(temp_i-temp_crn_i)\n",
    "\n",
    "print(difference1_newt)"
   ]
  },
  {
   "cell_type": "markdown",
   "id": "ab4663ab",
   "metadata": {},
   "source": [
    "<font size=\"3\">Salem, MO: 1300 UTC 30 March 2022-1300 UTC 31 March 2022</font>"
   ]
  },
  {
   "cell_type": "code",
   "execution_count": 38,
   "id": "99a04d39",
   "metadata": {},
   "outputs": [
    {
     "name": "stdout",
     "output_type": "stream",
     "text": [
      "[-0.821716, -0.594757, 0.175842, 0.161285, 0.092804, 0.260651, 0.0857849, 1.13373, 3.98474, 7.06326, 9.66782, 12.3443, 14.4905, 16.4275, 17.4315, 17.8438, 17.7749, 16.6209, 13.4806, 11.0204, 9.95654, 9.08353, 8.30722, 7.58017, 6.89639]\n"
     ]
    }
   ],
   "source": [
    "#18 hr hrrr:\n",
    "with open('hrrr_f18_Salem_MO.txt') as f:\n",
    "    lst=[line.split()[1] for line in f]\n",
    "    temp=[]\n",
    "    for i in lst:\n",
    "        new=i.replace(',',\"\")\n",
    "        temp.append(new)\n",
    "    temp.pop(0)\n",
    "    temp=[float(x) for x in temp]\n",
    "    #print(temp.index(6.91541))\n",
    "    temp=temp[1692:1717]\n",
    "    print(temp)\n",
    "    #print(len(temp))\n",
    "#full time period is [2015:2112]"
   ]
  },
  {
   "cell_type": "code",
   "execution_count": 39,
   "id": "01b4011e",
   "metadata": {},
   "outputs": [
    {
     "name": "stdout",
     "output_type": "stream",
     "text": [
      "[-1.4, -0.9, -0.5, -0.5, 0.5, 1.7, 1.2, 1.2, 3.9, 7.3, 10.9, 13.8, 16.4, 17.9, 18.7, 18.7, 18.9, 18.2, 16.8, 14.0, 12.0, 11.6, 10.8, 10.2, 9.2]\n"
     ]
    }
   ],
   "source": [
    "#Air Temp CRN:\n",
    "with open('CRNH0203-2022-MO_Salem_10_W.txt') as f:\n",
    "    lst=[line.split()[9] for line in f]\n",
    "    #print(lst)\n",
    "    temp_crn=[]\n",
    "    for i in lst:\n",
    "        new=i.replace(',',\"\")\n",
    "        temp_crn.append(new)\n",
    "    temp_crn=[float(x) for x in temp_crn]\n",
    "    temp_crn=temp_crn[1709:1734]\n",
    "    print(temp_crn)\n",
    "    #print(len(temp_crn))\n",
    "    # print(temp_crn[2124])"
   ]
  },
  {
   "cell_type": "code",
   "execution_count": 40,
   "id": "80548ed7",
   "metadata": {},
   "outputs": [],
   "source": [
    "# hour=[]\n",
    "# for i in range(-12,13,1):\n",
    "#     hour.append(i)\n",
    "#     i+=1\n",
    "# print(len(hour))"
   ]
  },
  {
   "cell_type": "code",
   "execution_count": 41,
   "id": "e426b6a3",
   "metadata": {},
   "outputs": [
    {
     "name": "stdout",
     "output_type": "stream",
     "text": [
      "[0.5782839999999999, 0.30524300000000004, 0.675842, 0.661285, -0.407196, -1.439349, -1.1142151, -0.06627000000000005, 0.08474000000000004, -0.23674000000000017, -1.2321799999999996, -1.4557000000000002, -1.9094999999999978, -1.4725000000000001, -1.2684999999999995, -0.8561999999999976, -1.1250999999999998, -1.5791000000000004, -3.3194, -2.9795999999999996, -2.0434599999999996, -2.51647, -2.4927800000000016, -2.6198299999999994, -2.303609999999999]\n"
     ]
    }
   ],
   "source": [
    "difference2_sal = []\n",
    "\n",
    "zip_object = zip(temp, temp_crn)\n",
    "for temp_i, temp_crn_i in zip_object:\n",
    "    difference2_sal.append(temp_i-temp_crn_i)\n",
    "\n",
    "print(difference2_sal)"
   ]
  },
  {
   "cell_type": "markdown",
   "id": "e17a19ca",
   "metadata": {},
   "source": [
    "<font size=\"3\">Batesville, AR: 1300 UTC 30 March 2022-1300 UTC 31 March 2022</font>"
   ]
  },
  {
   "cell_type": "code",
   "execution_count": 42,
   "id": "eba099f6",
   "metadata": {},
   "outputs": [
    {
     "name": "stdout",
     "output_type": "stream",
     "text": [
      "[-0.00921631, 0.155243, 0.550842, 0.473785, 0.467804, 0.573151, 0.460785, 0.758728, 4.04724, 7.00076, 9.16782, 11.2818, 12.803, 14.1775, 15.1815, 15.7188, 15.7124, 14.6834, 11.6056, 9.20786, 7.76904, 7.02103, 6.55722, 6.01767, 4.83389]\n"
     ]
    }
   ],
   "source": [
    "#18 hr hrrr:\n",
    "with open('hrrr_f18_Batesville_AR.txt') as f:\n",
    "    lst=[line.split()[1] for line in f]\n",
    "    temp=[]\n",
    "    for i in lst:\n",
    "        new=i.replace(',',\"\")\n",
    "        temp.append(new)\n",
    "    temp.pop(0)\n",
    "    temp=[float(x) for x in temp]\n",
    "    #print(temp.index(6.91541))\n",
    "    temp=temp[1692:1717]\n",
    "    print(temp)\n",
    "    #print(len(temp))\n",
    "#full time period is [2015:2112]"
   ]
  },
  {
   "cell_type": "code",
   "execution_count": 43,
   "id": "2dcc93c0",
   "metadata": {},
   "outputs": [
    {
     "name": "stdout",
     "output_type": "stream",
     "text": [
      "[-2.7, 0.5, 1.3, 1.2, 1.5, 1.7, 1.6, 1.8, 3.6, 6.4, 8.4, 10.8, 13.5, 15.0, 15.8, 16.6, 17.0, 16.6, 15.0, 12.0, 9.6, 9.8, 9.9, 9.6, 9.3]\n"
     ]
    }
   ],
   "source": [
    "#Air Temp CRN:\n",
    "with open('CRNH0203-2022-AR_Batesville_8_WNW.txt') as f:\n",
    "    lst=[line.split()[9] for line in f]\n",
    "    #print(lst)\n",
    "    temp_crn=[]\n",
    "    for i in lst:\n",
    "        new=i.replace(',',\"\")\n",
    "        temp_crn.append(new)\n",
    "    temp_crn=[float(x) for x in temp_crn]\n",
    "    temp_crn=temp_crn[1709:1734]\n",
    "    print(temp_crn)\n",
    "    #print(len(temp_crn))\n",
    "    # print(temp_crn[2124])"
   ]
  },
  {
   "cell_type": "code",
   "execution_count": 44,
   "id": "12f91aa0",
   "metadata": {},
   "outputs": [
    {
     "name": "stdout",
     "output_type": "stream",
     "text": [
      "[2.6907836900000004, -0.344757, -0.749158, -0.7262149999999999, -1.032196, -1.126849, -1.139215, -1.0412720000000002, 0.4472400000000003, 0.6007599999999993, 0.7678200000000004, 0.4817999999999998, -0.6969999999999992, -0.8224999999999998, -0.6185000000000009, -0.8812000000000015, -1.2875999999999994, -1.9166000000000007, -3.394399999999999, -2.79214, -1.8309599999999993, -2.778970000000001, -3.3427800000000003, -3.58233, -4.4661100000000005]\n"
     ]
    }
   ],
   "source": [
    "difference2_bat = []\n",
    "\n",
    "zip_object = zip(temp, temp_crn)\n",
    "for temp_i, temp_crn_i in zip_object:\n",
    "    difference2_bat.append(temp_i-temp_crn_i)\n",
    "\n",
    "print(difference2_bat)"
   ]
  },
  {
   "cell_type": "markdown",
   "id": "0b95ca71",
   "metadata": {},
   "source": [
    "<font size=\"3\">Lafayette, LA: 1700 UTC 30 March 2022-1700 UTC 31 March 2022</font>"
   ]
  },
  {
   "cell_type": "code",
   "execution_count": 45,
   "id": "26376511",
   "metadata": {},
   "outputs": [
    {
     "name": "stdout",
     "output_type": "stream",
     "text": [
      "[3.30328, 2.59274, 2.17584, 1.53629, 0.717804, 0.198151, -0.0392151, 0.821228, 4.92224, 8.25076, 10.4178, 12.8443, 14.7405, 16.115, 17.119, 17.9063, 17.2749, 15.8084, 14.1056, 11.8329, 10.644, 9.95853, 9.99472, 9.76767, 9.39639]\n"
     ]
    }
   ],
   "source": [
    "#18 hr hrrr:\n",
    "with open('hrrr_f18_Lafayette_LA.txt') as f:\n",
    "    lst=[line.split()[1] for line in f]\n",
    "    temp=[]\n",
    "    for i in lst:\n",
    "        new=i.replace(',',\"\")\n",
    "        temp.append(new)\n",
    "    temp.pop(0)\n",
    "    temp=[float(x) for x in temp]\n",
    "    #print(temp.index(6.91541))\n",
    "    temp=temp[1692:1717]\n",
    "    print(temp)\n",
    "    #print(len(temp))\n",
    "#full time period is [2015:2112]"
   ]
  },
  {
   "cell_type": "code",
   "execution_count": 46,
   "id": "16943c4f",
   "metadata": {},
   "outputs": [
    {
     "name": "stdout",
     "output_type": "stream",
     "text": [
      "[2.5, 2.1, 0.7, -0.4, -1.1, -1.5, -0.4, 0.7, 2.8, 6.1, 8.7, 10.6, 12.0, 13.1, 14.2, 14.7, 14.5, 14.7, 13.6, 11.6, 10.3, 8.4, 8.3, 8.7, 8.5]\n"
     ]
    }
   ],
   "source": [
    "#Air Temp CRN:\n",
    "with open('CRNH0203-2022-LA_Lafayette_13_SE.txt') as f:\n",
    "    lst=[line.split()[9] for line in f]\n",
    "    #print(lst)\n",
    "    temp_crn=[]\n",
    "    for i in lst:\n",
    "        new=i.replace(',',\"\")\n",
    "        temp_crn.append(new)\n",
    "    temp_crn=[float(x) for x in temp_crn]\n",
    "    temp_crn=temp_crn[1709:1734]\n",
    "    print(temp_crn)\n",
    "    #print(len(temp_crn))\n",
    "    # print(temp_crn[2124])"
   ]
  },
  {
   "cell_type": "code",
   "execution_count": 47,
   "id": "ad9e49f7",
   "metadata": {},
   "outputs": [
    {
     "name": "stdout",
     "output_type": "stream",
     "text": [
      "[0.80328, 0.49273999999999996, 1.47584, 1.93629, 1.8178040000000002, 1.698151, 0.3607849, 0.121228, 2.1222400000000006, 2.15076, 1.7178000000000004, 2.244300000000001, 2.740500000000001, 3.014999999999999, 2.9190000000000005, 3.2063000000000024, 2.774899999999999, 1.1084000000000014, 0.5056000000000012, 0.23290000000000077, 0.3439999999999994, 1.5585299999999993, 1.6947199999999984, 1.0676700000000015, 0.8963900000000002]\n"
     ]
    }
   ],
   "source": [
    "difference2_laf = []\n",
    "\n",
    "zip_object = zip(temp, temp_crn)\n",
    "for temp_i, temp_crn_i in zip_object:\n",
    "    difference2_laf.append(temp_i-temp_crn_i)\n",
    "\n",
    "print(difference2_laf)"
   ]
  },
  {
   "cell_type": "markdown",
   "id": "5bdd017c",
   "metadata": {},
   "source": [
    "<font size=\"3\">Monroe, LA: 1700 UTC 30 March 2022-1700 UTC 31 March 2022</font>"
   ]
  },
  {
   "cell_type": "code",
   "execution_count": 48,
   "id": "5ef5ec6e",
   "metadata": {},
   "outputs": [
    {
     "name": "stdout",
     "output_type": "stream",
     "text": [
      "[1.36578, 0.842743, 0.738342, 0.598785, 0.217804, -0.239349, -0.476715, 0.00872803, 2.73474, 5.93826, 8.73032, 11.5318, 13.3655, 15.115, 16.119, 16.5938, 16.6499, 16.1209, 13.7931, 11.0204, 9.45654, 8.58353, 7.61972, 7.08017, 6.02139]\n"
     ]
    }
   ],
   "source": [
    "#18 hr hrrr:\n",
    "with open('hrrr_f18_Monroe_LA.txt') as f:\n",
    "    lst=[line.split()[1] for line in f]\n",
    "    temp=[]\n",
    "    for i in lst:\n",
    "        new=i.replace(',',\"\")\n",
    "        temp.append(new)\n",
    "    temp.pop(0)\n",
    "    temp=[float(x) for x in temp]\n",
    "    #print(temp.index(6.91541))\n",
    "    temp=temp[1692:1717]\n",
    "    print(temp)\n",
    "    #print(len(temp))\n",
    "#full time period is [2015:2112]"
   ]
  },
  {
   "cell_type": "code",
   "execution_count": 49,
   "id": "4d3f3d6e",
   "metadata": {},
   "outputs": [
    {
     "name": "stdout",
     "output_type": "stream",
     "text": [
      "[-1.1, -2.1, -2.2, -2.1, -2.4, -2.9, -3.0, -2.7, 0.9, 4.6, 8.1, 10.8, 12.4, 13.7, 14.9, 15.6, 16.1, 16.1, 15.0, 11.7, 8.8, 6.0, 4.6, 4.7, 5.1]\n"
     ]
    }
   ],
   "source": [
    "#Air Temp CRN:\n",
    "with open('CRNH0203-2022-LA_Monroe_26_N.txt') as f:\n",
    "    lst=[line.split()[9] for line in f]\n",
    "    #print(lst)\n",
    "    temp_crn=[]\n",
    "    for i in lst:\n",
    "        new=i.replace(',',\"\")\n",
    "        temp_crn.append(new)\n",
    "    temp_crn=[float(x) for x in temp_crn]\n",
    "    temp_crn=temp_crn[1709:1734]\n",
    "    print(temp_crn)\n",
    "    #print(len(temp_crn))\n",
    "    # print(temp_crn[2124])"
   ]
  },
  {
   "cell_type": "code",
   "execution_count": 50,
   "id": "178b8e52",
   "metadata": {},
   "outputs": [
    {
     "name": "stdout",
     "output_type": "stream",
     "text": [
      "[2.46578, 2.942743, 2.9383420000000005, 2.698785, 2.617804, 2.660651, 2.523285, 2.70872803, 1.83474, 1.33826, 0.6303200000000011, 0.7317999999999998, 0.9655000000000005, 1.415000000000001, 1.2189999999999994, 0.993800000000002, 0.5498999999999974, 0.020899999999997476, -1.2068999999999992, -0.6795999999999989, 0.6565399999999997, 2.5835299999999997, 3.0197200000000004, 2.3801699999999997, 0.9213900000000006]\n"
     ]
    }
   ],
   "source": [
    "difference2_mon = []\n",
    "\n",
    "zip_object = zip(temp, temp_crn)\n",
    "for temp_i, temp_crn_i in zip_object:\n",
    "    difference2_mon.append(temp_i-temp_crn_i)\n",
    "\n",
    "print(difference2_mon)"
   ]
  },
  {
   "cell_type": "markdown",
   "id": "3e401515",
   "metadata": {},
   "source": [
    "<font size=\"3\">Holly Springs, MS: 2000 UTC 30 March 2022-2000 UTC 31 March 2022</font>"
   ]
  },
  {
   "cell_type": "code",
   "execution_count": 51,
   "id": "d634b795",
   "metadata": {},
   "outputs": [
    {
     "name": "stdout",
     "output_type": "stream",
     "text": [
      "[-0.634216, -0.594757, -0.574158, -0.588715, -0.532196, -0.489349, -0.539215, -0.241272, 1.73474, 4.12576, 6.41782, 9.09427, 11.303, 13.0525, 14.619, 15.0313, 14.8999, 14.1834, 11.1056, 9.33286, 8.08154, 7.02103, 5.93222, 5.01767, 4.45889]\n"
     ]
    }
   ],
   "source": [
    "#18 hr hrrr:\n",
    "with open('hrrr_f18_Holly Springs_MS.txt') as f:\n",
    "    lst=[line.split()[1] for line in f]\n",
    "    temp=[]\n",
    "    for i in lst:\n",
    "        new=i.replace(',',\"\")\n",
    "        temp.append(new)\n",
    "    temp.pop(0)\n",
    "    temp=[float(x) for x in temp]\n",
    "    #print(temp.index(6.91541))\n",
    "    temp=temp[1692:1717]\n",
    "    print(temp)\n",
    "    #print(len(temp))\n",
    "#full time period is [2015:2112]"
   ]
  },
  {
   "cell_type": "code",
   "execution_count": 52,
   "id": "cc96dac3",
   "metadata": {},
   "outputs": [
    {
     "name": "stdout",
     "output_type": "stream",
     "text": [
      "[-5.7, -6.3, -5.1, -4.5, -4.7, -4.9, -4.3, -3.5, -1.4, 2.4, 5.9, 8.8, 11.2, 12.8, 13.9, 14.9, 15.0, 14.7, 13.3, 8.3, 5.0, 4.0, 5.1, 5.1, 6.1]\n"
     ]
    }
   ],
   "source": [
    "#Air Temp CRN:\n",
    "with open('CRNH0203-2022-MS_Holly_Springs_4_N.txt') as f:\n",
    "    lst=[line.split()[9] for line in f]\n",
    "    #print(lst)\n",
    "    temp_crn=[]\n",
    "    for i in lst:\n",
    "        new=i.replace(',',\"\")\n",
    "        temp_crn.append(new)\n",
    "    temp_crn=[float(x) for x in temp_crn]\n",
    "    temp_crn=temp_crn[1709:1734]\n",
    "    print(temp_crn)\n",
    "    #print(len(temp_crn))\n",
    "    # print(temp_crn[2124])"
   ]
  },
  {
   "cell_type": "code",
   "execution_count": 53,
   "id": "b348cd62",
   "metadata": {},
   "outputs": [
    {
     "name": "stdout",
     "output_type": "stream",
     "text": [
      "[5.065784, 5.705242999999999, 4.525842, 3.911285, 4.167804, 4.4106510000000005, 3.760785, 3.258728, 3.13474, 1.7257599999999997, 0.5178199999999995, 0.29426999999999914, 0.10300000000000153, 0.2524999999999995, 0.7189999999999994, 0.13129999999999953, -0.10009999999999941, -0.5165999999999986, -2.1944, 1.0328599999999994, 3.0815400000000004, 3.0210299999999997, 0.8322200000000004, -0.08232999999999979, -1.6411099999999994]\n"
     ]
    }
   ],
   "source": [
    "difference2_hol = []\n",
    "\n",
    "zip_object = zip(temp, temp_crn)\n",
    "for temp_i, temp_crn_i in zip_object:\n",
    "    difference2_hol.append(temp_i-temp_crn_i)\n",
    "\n",
    "print(difference2_hol)"
   ]
  },
  {
   "cell_type": "markdown",
   "id": "b5225197",
   "metadata": {},
   "source": [
    "<font size=\"3\">Newton, MS: 2000 UTC 30 March 2022-2000 UTC 31 March 2022</font>"
   ]
  },
  {
   "cell_type": "code",
   "execution_count": 54,
   "id": "62c8df7f",
   "metadata": {},
   "outputs": [
    {
     "name": "stdout",
     "output_type": "stream",
     "text": [
      "[-0.946716, -1.59476, -2.76166, -3.27621, -3.3447, -3.36435, -4.10172, -2.80377, 1.85974, 4.75076, 7.16782, 10.4068, 12.053, 13.8025, 14.869, 15.5938, 15.4624, 14.6834, 12.1681, 9.95786, 8.26904, 7.02103, 6.30722, 5.51767, 4.52139]\n"
     ]
    }
   ],
   "source": [
    "#18 hr hrrr:\n",
    "with open('hrrr_f18_Newton_MS.txt') as f:\n",
    "    lst=[line.split()[1] for line in f]\n",
    "    temp=[]\n",
    "    for i in lst:\n",
    "        new=i.replace(',',\"\")\n",
    "        temp.append(new)\n",
    "    temp.pop(0)\n",
    "    temp=[float(x) for x in temp]\n",
    "    #print(temp.index(6.91541))\n",
    "    temp=temp[1692:1717]\n",
    "    print(temp)\n",
    "    #print(len(temp))\n",
    "#full time period is [2015:2112]"
   ]
  },
  {
   "cell_type": "code",
   "execution_count": 55,
   "id": "b4fea934",
   "metadata": {},
   "outputs": [
    {
     "name": "stdout",
     "output_type": "stream",
     "text": [
      "[-3.0, -3.6, -3.9, -4.2, -4.6, -4.6, -5.0, -4.9, -1.6, 1.7, 4.7, 7.0, 9.4, 11.2, 12.5, 13.8, 14.5, 14.6, 13.3, 8.9, 5.8, 4.1, 2.6, 1.8, 1.1]\n"
     ]
    }
   ],
   "source": [
    "#Air Temp CRN:\n",
    "with open('CRNH0203-2022-MS_Newton_5_ENE.txt') as f:\n",
    "    lst=[line.split()[9] for line in f]\n",
    "    #print(lst)\n",
    "    temp_crn=[]\n",
    "    for i in lst:\n",
    "        new=i.replace(',',\"\")\n",
    "        temp_crn.append(new)\n",
    "    temp_crn=[float(x) for x in temp_crn]\n",
    "    temp_crn=temp_crn[1709:1734]\n",
    "    print(temp_crn)\n",
    "    #print(len(temp_crn))\n",
    "    # print(temp_crn[2124])"
   ]
  },
  {
   "cell_type": "code",
   "execution_count": 56,
   "id": "cd6de2b7",
   "metadata": {},
   "outputs": [
    {
     "name": "stdout",
     "output_type": "stream",
     "text": [
      "[2.053284, 2.00524, 1.13834, 0.9237900000000003, 1.2552999999999996, 1.2356499999999997, 0.8982799999999997, 2.0962300000000003, 3.45974, 3.0507599999999995, 2.4678199999999997, 3.4068000000000005, 2.6530000000000005, 2.602500000000001, 2.3689999999999998, 1.7937999999999992, 0.9624000000000006, 0.08340000000000103, -1.1319, 1.0578599999999998, 2.4690400000000006, 2.92103, 3.70722, 3.71767, 3.42139]\n"
     ]
    }
   ],
   "source": [
    "difference2_new = []\n",
    "\n",
    "zip_object = zip(temp, temp_crn)\n",
    "for temp_i, temp_crn_i in zip_object:\n",
    "    difference2_new.append(temp_i-temp_crn_i)\n",
    "\n",
    "print(difference2_new)"
   ]
  },
  {
   "cell_type": "markdown",
   "id": "bfaeb78c",
   "metadata": {},
   "source": [
    "<font size=\"3\">Gainesville, AL: 2300 UTC 30 March 2022-2300 UTC 31 March 2022</font>"
   ]
  },
  {
   "cell_type": "code",
   "execution_count": 57,
   "id": "13c99f74",
   "metadata": {},
   "outputs": [
    {
     "name": "stdout",
     "output_type": "stream",
     "text": [
      "[-2.32172, -3.28226, -3.69916, -3.77621, -3.7197, -3.80185, -3.97672, -2.74127, 1.54724, 4.18826, 6.85532, 9.84427, 11.928, 13.6775, 15.119, 15.7188, 15.5874, 14.6834, 11.8556, 9.83286, 8.26904, 7.02103, 6.05722, 5.01767, 4.20889]\n"
     ]
    }
   ],
   "source": [
    "#18 hr hrrr:\n",
    "with open('hrrr_f18_Gainesville_AL (1).txt') as f:\n",
    "    lst=[line.split()[1] for line in f]\n",
    "    temp=[]\n",
    "    for i in lst:\n",
    "        new=i.replace(',',\"\")\n",
    "        temp.append(new)\n",
    "    temp.pop(0)\n",
    "    temp=[float(x) for x in temp]\n",
    "    #print(temp.index(6.91541))\n",
    "    temp=temp[1692:1717]\n",
    "    print(temp)\n",
    "    #print(len(temp))\n",
    "#full time period is [2015:2112]"
   ]
  },
  {
   "cell_type": "code",
   "execution_count": 58,
   "id": "1fd4e19a",
   "metadata": {},
   "outputs": [
    {
     "name": "stdout",
     "output_type": "stream",
     "text": [
      "[-2.2, -2.6, -2.9, -3.1, -3.4, -3.3, -3.4, -3.4, -1.2, 1.8, 4.2, 6.6, 8.7, 10.9, 12.5, 13.5, 14.3, 14.2, 13.2, 10.4, 7.5, 5.6, 4.7, 3.7, 3.2]\n"
     ]
    }
   ],
   "source": [
    "#Air Temp CRN:\n",
    "with open('CRNH0203-2022-AL_Gainesville_2_NE.txt') as f:\n",
    "    lst=[line.split()[9] for line in f]\n",
    "    #print(lst)\n",
    "    temp_crn=[]\n",
    "    for i in lst:\n",
    "        new=i.replace(',',\"\")\n",
    "        temp_crn.append(new)\n",
    "    temp_crn=[float(x) for x in temp_crn]\n",
    "    temp_crn=temp_crn[1709:1734]\n",
    "    print(temp_crn)\n",
    "    #print(len(temp_crn))\n",
    "    # print(temp_crn[2124])"
   ]
  },
  {
   "cell_type": "code",
   "execution_count": 59,
   "id": "82a257d7",
   "metadata": {},
   "outputs": [
    {
     "name": "stdout",
     "output_type": "stream",
     "text": [
      "[-0.12171999999999983, -0.6822599999999999, -0.7991600000000001, -0.6762099999999998, -0.3197000000000001, -0.5018500000000001, -0.5767199999999999, 0.6587299999999998, 2.7472399999999997, 2.38826, 2.6553199999999997, 3.24427, 3.2280000000000015, 2.7775, 2.6189999999999998, 2.2188, 1.2873999999999999, 0.4834000000000014, -1.3443999999999985, -0.5671400000000002, 0.7690400000000004, 1.42103, 1.3572199999999999, 1.3176699999999997, 1.00889]\n"
     ]
    }
   ],
   "source": [
    "difference2_gai = []\n",
    "\n",
    "zip_object = zip(temp, temp_crn)\n",
    "for temp_i, temp_crn_i in zip_object:\n",
    "    difference2_gai.append(temp_i-temp_crn_i)\n",
    "\n",
    "print(difference2_gai)"
   ]
  },
  {
   "cell_type": "markdown",
   "id": "0917b86d",
   "metadata": {},
   "source": [
    "<font size=\"3\">Fairhope, AL: 0100 UTC 31 March 2022-0100 UTC 1 April 2022</font>"
   ]
  },
  {
   "cell_type": "code",
   "execution_count": 60,
   "id": "4482923f",
   "metadata": {},
   "outputs": [
    {
     "name": "stdout",
     "output_type": "stream",
     "text": [
      "[1.30328, 0.717743, 0.363342, 0.0987854, -0.407196, -0.801849, -1.03922, 0.446228, 2.79724, 5.31326, 7.79282, 9.78177, 11.303, 12.74, 13.5565, 13.8438, 13.0874, 12.8084, 10.9181, 9.14536, 7.83154, 6.89603, 5.93222, 5.26767, 4.95889]\n"
     ]
    }
   ],
   "source": [
    "#18 hr hrrr:\n",
    "with open('hrrr_f18_Fairhope_AL.txt') as f:\n",
    "    lst=[line.split()[1] for line in f]\n",
    "    temp=[]\n",
    "    for i in lst:\n",
    "        new=i.replace(',',\"\")\n",
    "        temp.append(new)\n",
    "    temp.pop(0)\n",
    "    temp=[float(x) for x in temp]\n",
    "    #print(temp.index(6.91541))\n",
    "    temp=temp[1692:1717]\n",
    "    print(temp)\n",
    "    #print(len(temp))\n",
    "#full time period is [2015:2112]"
   ]
  },
  {
   "cell_type": "code",
   "execution_count": 61,
   "id": "96fb5481",
   "metadata": {},
   "outputs": [
    {
     "name": "stdout",
     "output_type": "stream",
     "text": [
      "[1.6, 1.2, 0.0, -0.8, -0.7, -1.0, -1.0, -0.5, 1.6, 4.3, 6.8, 9.1, 10.7, 11.0, 10.7, 11.6, 11.4, 10.7, 9.4, 7.5, 4.6, 3.4, 2.4, 1.7, 1.2]\n"
     ]
    }
   ],
   "source": [
    "#Air Temp CRN:\n",
    "with open('CRNH0203-2022-AL_Fairhope_3_NE.txt') as f:\n",
    "    lst=[line.split()[9] for line in f]\n",
    "    #print(lst)\n",
    "    temp_crn=[]\n",
    "    for i in lst:\n",
    "        new=i.replace(',',\"\")\n",
    "        temp_crn.append(new)\n",
    "    temp_crn=[float(x) for x in temp_crn]\n",
    "    temp_crn=temp_crn[1709:1734]\n",
    "    print(temp_crn)\n",
    "    #print(len(temp_crn))\n",
    "    # print(temp_crn[2124])"
   ]
  },
  {
   "cell_type": "code",
   "execution_count": 62,
   "id": "f15c30e0",
   "metadata": {},
   "outputs": [
    {
     "name": "stdout",
     "output_type": "stream",
     "text": [
      "[-0.2967200000000001, -0.48225699999999994, 0.363342, 0.8987854000000001, 0.29280399999999995, 0.19815099999999997, -0.03922000000000003, 0.9462280000000001, 1.1972399999999999, 1.0132599999999998, 0.99282, 0.6817700000000002, 0.6030000000000015, 1.7400000000000002, 2.8565000000000005, 2.2438000000000002, 1.6874000000000002, 2.1084000000000014, 1.5181000000000004, 1.6453600000000002, 3.2315400000000007, 3.4960299999999997, 3.53222, 3.5676699999999997, 3.75889]\n"
     ]
    }
   ],
   "source": [
    "difference2_fai = []\n",
    "\n",
    "zip_object = zip(temp, temp_crn)\n",
    "for temp_i, temp_crn_i in zip_object:\n",
    "    difference2_fai.append(temp_i-temp_crn_i)\n",
    "\n",
    "print(difference2_fai)"
   ]
  },
  {
   "cell_type": "markdown",
   "id": "e9530edf",
   "metadata": {},
   "source": [
    "<font size=\"3\">**Selma, AL: 0100 UTC 31 March 2022-0100 UTC 1 April 2022</font>"
   ]
  },
  {
   "cell_type": "code",
   "execution_count": 63,
   "id": "15e7e080",
   "metadata": {},
   "outputs": [
    {
     "name": "stdout",
     "output_type": "stream",
     "text": [
      "[-0.384216, -0.344757, -0.324158, -0.401215, -0.344696, -0.426849, -0.476715, 0.00872803, 1.54724, 3.31326, 5.48032, 7.59427, 9.24048, 10.8025, 12.1815, 12.9063, 12.9624, 12.8084, 10.2306, 7.95786, 6.45654, 5.83353, 4.93222, 4.20517, 3.70889]\n",
      "25\n",
      "[-2.6, -3.1, -3.7, -4.0, -4.4, -4.7, -4.9, -3.9, -0.8, 2.2, 4.7, 6.8, 8.7, 10.2, 11.5, 12.6, 13.4, 13.5, 12.3, 7.7, 5.1, 3.8, 2.9, 2.3, 2.7]\n",
      "25\n",
      "[2.215784, 2.755243, 3.375842, 3.598785, 4.0553040000000005, 4.273151, 4.423285, 3.90872803, 2.34724, 1.11326, 0.7803199999999997, 0.79427, 0.5404800000000005, 0.6025000000000009, 0.6814999999999998, 0.30630000000000024, -0.43759999999999977, -0.6915999999999993, -2.0694, 0.25786, 1.3565400000000007, 2.03353, 2.03222, 1.90517, 1.0088899999999996]\n",
      "25\n"
     ]
    }
   ],
   "source": [
    "#18 hr hrrr:\n",
    "with open('hrrr_f18_Selma_AL.txt') as f:\n",
    "    lst=[line.split()[1] for line in f]\n",
    "    temp=[]\n",
    "    for i in lst:\n",
    "        new=i.replace(',',\"\")\n",
    "        temp.append(new)\n",
    "    temp.pop(0)\n",
    "    temp=[float(x) for x in temp]\n",
    "    #print(temp.index(6.91541))\n",
    "    temp=temp[1692:1717]\n",
    "#Air Temp CRN:\n",
    "with open('CRNH0203-2022-AL_Selma_13_WNW.txt') as f:\n",
    "    lst=[line.split()[9] for line in f]\n",
    "    #print(lst)\n",
    "    temp_crn=[]\n",
    "    for i in lst:\n",
    "        new=i.replace(',',\"\")\n",
    "        temp_crn.append(new)\n",
    "    temp_crn=[float(x) for x in temp_crn]\n",
    "    temp_crn=temp_crn[1709:1734]\n",
    "\n",
    "    print(temp)\n",
    "    print(len(temp))\n",
    "    print(temp_crn)\n",
    "    print(len(temp_crn))\n",
    "#full time period is [2015:2112]\n",
    "difference2_sel = []\n",
    "\n",
    "zip_object = zip(temp, temp_crn)\n",
    "for temp_i, temp_crn_i in zip_object:\n",
    "    difference2_sel.append(temp_i-temp_crn_i)\n",
    "\n",
    "print(difference2_sel)\n",
    "print(len(difference2_sel))"
   ]
  },
  {
   "cell_type": "markdown",
   "id": "96c13278",
   "metadata": {},
   "source": [
    "<font size=\"3\">Bowling Green, KY: 0100 UTC 31 March 2022-0100 UTC 1 April 2022</font>"
   ]
  },
  {
   "cell_type": "code",
   "execution_count": 64,
   "id": "20079007",
   "metadata": {},
   "outputs": [
    {
     "name": "stdout",
     "output_type": "stream",
     "text": [
      "[-5.19672, -5.21976, -5.07416, -5.15121, -5.5947, -5.67685, -5.35172, -3.61627, -1.82776, 0.375763, 2.66782, 5.34427, 7.24048, 9.11496, 10.619, 11.5938, 11.7749, 10.8084, 8.23056, 6.58286, 5.64404, 5.08353, 4.24472, 3.64267, 3.33389]\n"
     ]
    }
   ],
   "source": [
    "#18 hr hrrr:\n",
    "with open('hrrr_f18_Bowling Green_KY.txt') as f:\n",
    "    lst=[line.split()[1] for line in f]\n",
    "    temp=[]\n",
    "    for i in lst:\n",
    "        new=i.replace(',',\"\")\n",
    "        temp.append(new)\n",
    "    temp.pop(0)\n",
    "    temp=[float(x) for x in temp]\n",
    "    #print(temp.index(6.91541))\n",
    "    temp=temp[1692:1717]\n",
    "#     x = np.array(temp)\n",
    "#     temp= ma.masked_array(x, mask=[0, 0, 0, 0, 0,0,1,0,0,0,0,0,0,0,0,0,0,0,0,0,0,0,0,0,0])\n",
    "    #temp=temp[2015:2063]\n",
    "    print(temp)\n",
    "    #print(len(temp))\n",
    "#full time period is [2015:2112]"
   ]
  },
  {
   "cell_type": "code",
   "execution_count": 65,
   "id": "60c4e4cc",
   "metadata": {},
   "outputs": [
    {
     "name": "stdout",
     "output_type": "stream",
     "text": [
      "[-7.3, -7.0, -7.1, -7.3, -6.8, -5.5, -4.8, -4.3, -3.2, -1.7, 0.5, 3.2, 5.6, 8.1, 10.2, 11.9, 12.4, 12.2, 10.8, 9.2, 8.2, 7.7, 7.3, 6.9, 6.4]\n"
     ]
    }
   ],
   "source": [
    "#Air Temp CRN:\n",
    "with open('CRNH0203-2022-KY_Bowling_Green_21_NNE.txt') as f:\n",
    "    lst=[line.split()[9] for line in f]\n",
    "    #print(lst)\n",
    "    temp_crn=[]\n",
    "    for i in lst:\n",
    "        new=i.replace(',',\"\")\n",
    "        temp_crn.append(new)\n",
    "    temp_crn=[float(x) for x in temp_crn]\n",
    "    temp_crn=temp_crn[1709:1734]\n",
    "#     y = np.array(temp_crn)\n",
    "#     temp_crn = ma.masked_array(y, mask=[0, 0, 0, 0, 0,0,1,0,0,0,0,0,0,0,0,0,0,0,0,0,0,0,0,0,0])\n",
    "    print(temp_crn)\n",
    "    #print(len(temp_crn))\n",
    "    # print(temp_crn[2124])"
   ]
  },
  {
   "cell_type": "code",
   "execution_count": 66,
   "id": "90cedfd2",
   "metadata": {},
   "outputs": [
    {
     "name": "stdout",
     "output_type": "stream",
     "text": [
      "[2.10328, 1.78024, 2.0258399999999996, 2.14879, 1.2053000000000003, -0.17684999999999995, -0.5517200000000004, 0.6837299999999997, 1.3722400000000001, 2.075763, 2.16782, 2.1442699999999997, 1.6404800000000002, 1.0149600000000003, 0.4190000000000005, -0.30620000000000047, -0.6250999999999998, -1.3915999999999986, -2.56944, -2.617139999999999, -2.555959999999999, -2.6164700000000005, -3.0552799999999998, -3.2573300000000005, -3.0661100000000006]\n"
     ]
    }
   ],
   "source": [
    "difference2_bow = []\n",
    "\n",
    "zip_object = zip(temp, temp_crn)\n",
    "for temp_i, temp_crn_i in zip_object:\n",
    "    difference2_bow.append(temp_i-temp_crn_i)\n",
    "\n",
    "print(difference2_bow)"
   ]
  },
  {
   "cell_type": "markdown",
   "id": "770eb1f1",
   "metadata": {},
   "source": [
    "<font size=\"3\">Gadsden, AL: 0200 UTC 31 March 2022-0200 UTC 1 April 2022</font>"
   ]
  },
  {
   "cell_type": "code",
   "execution_count": 67,
   "id": "5cc1d0b4",
   "metadata": {},
   "outputs": [
    {
     "name": "stdout",
     "output_type": "stream",
     "text": [
      "[-1.57172, -1.53226, -1.44916, -1.40121, -1.4072, -1.42685, -1.47672, -1.24127, -0.265259, 1.62576, 3.66782, 5.78177, 7.42798, 8.67746, 9.68155, 10.4063, 10.3999, 9.74588, 7.35556, 6.14536, 5.20654, 4.58353, 4.18222, 3.51767, 3.27139]\n"
     ]
    }
   ],
   "source": [
    "#18 hr hrrr:\n",
    "with open('hrrr_f18_Gadsden_AL.txt') as f:\n",
    "    lst=[line.split()[1] for line in f]\n",
    "    temp=[]\n",
    "    for i in lst:\n",
    "        new=i.replace(',',\"\")\n",
    "        temp.append(new)\n",
    "    temp.pop(0)\n",
    "    temp=[float(x) for x in temp]\n",
    "    #print(temp.index(6.91541))\n",
    "    temp=temp[1692:1717]\n",
    "    print(temp)\n",
    "    #print(len(temp))\n",
    "#full time period is [2015:2112]"
   ]
  },
  {
   "cell_type": "code",
   "execution_count": 68,
   "id": "c0d02698",
   "metadata": {},
   "outputs": [
    {
     "name": "stdout",
     "output_type": "stream",
     "text": [
      "[-4.9, -5.4, -6.3, -6.6, -6.4, -6.5, -6.7, -5.6, -2.7, -0.8, 1.3, 3.6, 5.7, 7.8, 9.1, 10.4, 10.9, 10.8, 9.1, 6.4, 6.5, 6.1, 5.3, 4.7, 3.2]\n"
     ]
    }
   ],
   "source": [
    "#Air Temp CRN:\n",
    "with open('CRNH0203-2022-AL_Gadsden_19_N.txt') as f:\n",
    "    lst=[line.split()[9] for line in f]\n",
    "    #print(lst)\n",
    "    temp_crn=[]\n",
    "    for i in lst:\n",
    "        new=i.replace(',',\"\")\n",
    "        temp_crn.append(new)\n",
    "    temp_crn=[float(x) for x in temp_crn]\n",
    "    temp_crn=temp_crn[1709:1734]\n",
    "    print(temp_crn)\n",
    "    #print(len(temp_crn))\n",
    "    # print(temp_crn[2124])"
   ]
  },
  {
   "cell_type": "code",
   "execution_count": 69,
   "id": "d63723fd",
   "metadata": {},
   "outputs": [
    {
     "name": "stdout",
     "output_type": "stream",
     "text": [
      "[3.3282800000000003, 3.8677400000000004, 4.85084, 5.19879, 4.992800000000001, 5.07315, 5.22328, 4.3587299999999995, 2.4347410000000003, 2.4257600000000004, 2.36782, 2.1817699999999998, 1.7279799999999996, 0.8774600000000001, 0.58155, 0.006299999999999528, -0.5000999999999998, -1.054120000000001, -1.74444, -0.2546400000000002, -1.2934599999999996, -1.51647, -1.1177799999999998, -1.1823300000000003, 0.07138999999999962]\n"
     ]
    }
   ],
   "source": [
    "difference2_gad = []\n",
    "\n",
    "zip_object = zip(temp, temp_crn)\n",
    "for temp_i, temp_crn_i in zip_object:\n",
    "    difference2_gad.append(temp_i-temp_crn_i)\n",
    "\n",
    "print(difference2_gad)"
   ]
  },
  {
   "cell_type": "markdown",
   "id": "cd4a8f77",
   "metadata": {},
   "source": [
    "<font size=\"3\">Newton, GA: 0700 UTC 31 March 2022-0700 UTC 1 April 2022</font>"
   ]
  },
  {
   "cell_type": "code",
   "execution_count": 70,
   "id": "0c975d06",
   "metadata": {},
   "outputs": [
    {
     "name": "stdout",
     "output_type": "stream",
     "text": [
      "[-0.259216, -0.407257, -0.511658, -0.651215, -0.782196, -0.926849, -0.914215, -0.053772, 1.54724, 3.68826, 5.85532, 7.96927, 10.053, 11.8025, 13.119, 13.5938, 13.5874, 12.9959, 10.1056, 8.27036, 7.14404, 5.95853, 5.18222, 4.45517, 3.77139]\n"
     ]
    }
   ],
   "source": [
    "#18 hr hrrr:\n",
    "with open('hrrr_f18_Newton_GA.txt') as f:\n",
    "    lst=[line.split()[1] for line in f]\n",
    "    temp=[]\n",
    "    for i in lst:\n",
    "        new=i.replace(',',\"\")\n",
    "        temp.append(new)\n",
    "    temp.pop(0)\n",
    "    temp=[float(x) for x in temp]\n",
    "    #print(temp.index(6.91541))\n",
    "    temp=temp[1692:1717]\n",
    "    print(temp)\n",
    "    #print(len(temp))\n",
    "#full time period is [2015:2112]"
   ]
  },
  {
   "cell_type": "code",
   "execution_count": 71,
   "id": "1d798d77",
   "metadata": {},
   "outputs": [
    {
     "name": "stdout",
     "output_type": "stream",
     "text": [
      "[0.7, -0.6, -2.1, -2.2, -1.5, -2.6, -2.7, -2.0, 1.0, 3.1, 5.0, 6.9, 9.1, 10.8, 12.3, 13.4, 13.7, 13.5, 11.4, 7.7, 5.7, 4.2, 3.0, 2.6, 2.7]\n"
     ]
    }
   ],
   "source": [
    "#Air Temp CRN:\n",
    "with open('CRNH0203-2022-GA_Newton_11_SW.txt') as f:\n",
    "    lst=[line.split()[9] for line in f]\n",
    "    #print(lst)\n",
    "    temp_crn=[]\n",
    "    for i in lst:\n",
    "        new=i.replace(',',\"\")\n",
    "        temp_crn.append(new)\n",
    "    temp_crn=[float(x) for x in temp_crn]\n",
    "    temp_crn=temp_crn[1709:1734]\n",
    "    print(temp_crn)\n",
    "    #print(len(temp_crn))\n",
    "    # print(temp_crn[2124])"
   ]
  },
  {
   "cell_type": "code",
   "execution_count": 72,
   "id": "4bcfa192",
   "metadata": {},
   "outputs": [
    {
     "name": "stdout",
     "output_type": "stream",
     "text": [
      "[-0.959216, 0.192743, 1.5883420000000001, 1.548785, 0.717804, 1.673151, 1.7857850000000002, 1.946228, 0.54724, 0.58826, 0.8553199999999999, 1.0692699999999995, 0.9530000000000012, 1.0024999999999995, 0.8189999999999991, 0.19379999999999953, -0.1125999999999987, -0.5040999999999993, -1.2943999999999996, 0.57036, 1.4440400000000002, 1.7585299999999995, 2.18222, 1.8551699999999998, 1.0713899999999996]\n"
     ]
    }
   ],
   "source": [
    "difference2_newt = []\n",
    "\n",
    "zip_object = zip(temp, temp_crn)\n",
    "for temp_i, temp_crn_i in zip_object:\n",
    "    difference2_newt.append(temp_i-temp_crn_i)\n",
    "\n",
    "print(difference2_newt)"
   ]
  },
  {
   "cell_type": "markdown",
   "id": "6490a68c",
   "metadata": {},
   "source": [
    "<font size=\"3\">Salem, MO: 1300 UTC 30 March 2022-1300 UTC 31 March 2022</font>"
   ]
  },
  {
   "cell_type": "code",
   "execution_count": 73,
   "id": "070c906d",
   "metadata": {},
   "outputs": [
    {
     "name": "stdout",
     "output_type": "stream",
     "text": [
      "[4.70572, 4.05078, 4.62503, 4.15353, 2.32617, 2.45975, 2.28726, 3.27219, 7.26749, 11.2346, 14.0778, 15.8745, 17.6717, 19.2315, 20.0336, 20.7605, 20.6311, 19.7278, 15.9768, 13.0325, 11.3219, 10.541, 10.1119, 9.76016, 9.64438]\n"
     ]
    }
   ],
   "source": [
    "#18 hr hrrr:\n",
    "with open('hrrr_f18_Salem_MO.txt') as f:\n",
    "    lst=[line.split()[1] for line in f]\n",
    "    temp=[]\n",
    "    for i in lst:\n",
    "        new=i.replace(',',\"\")\n",
    "        temp.append(new)\n",
    "    temp.pop(0)\n",
    "    temp=[float(x) for x in temp]\n",
    "    #print(temp.index(6.91541))\n",
    "    temp=temp[1860:1885]\n",
    "    print(temp)\n",
    "    #print(len(temp))\n",
    "#full time period is [2015:2112]"
   ]
  },
  {
   "cell_type": "code",
   "execution_count": 74,
   "id": "a0ea4a38",
   "metadata": {},
   "outputs": [
    {
     "name": "stdout",
     "output_type": "stream",
     "text": [
      "[-1.3, -1.7, -1.9, -2.4, -2.6, -2.7, -3.0, -2.7, 4.1, 11.6, 15.9, 18.3, 19.7, 21.0, 21.9, 22.3, 22.2, 21.8, 20.3, 16.4, 11.8, 11.6, 13.7, 13.1, 13.1]\n"
     ]
    }
   ],
   "source": [
    "#Air Temp CRN:\n",
    "with open('CRNH0203-2022-MO_Salem_10_W.txt') as f:\n",
    "    lst=[line.split()[9] for line in f]\n",
    "    #print(lst)\n",
    "    temp_crn=[]\n",
    "    for i in lst:\n",
    "        new=i.replace(',',\"\")\n",
    "        temp_crn.append(new)\n",
    "    temp_crn=[float(x) for x in temp_crn]\n",
    "    temp_crn=temp_crn[1877:1902]\n",
    "    print(temp_crn)\n",
    "    #print(len(temp_crn))\n",
    "    # print(temp_crn[2124])"
   ]
  },
  {
   "cell_type": "code",
   "execution_count": 75,
   "id": "7a1f0ca2",
   "metadata": {},
   "outputs": [],
   "source": [
    "# hour=[]\n",
    "# for i in range(-12,13,1):\n",
    "#     hour.append(i)\n",
    "#     i+=1\n",
    "# print(len(hour))"
   ]
  },
  {
   "cell_type": "code",
   "execution_count": 76,
   "id": "d5ab82ce",
   "metadata": {},
   "outputs": [
    {
     "name": "stdout",
     "output_type": "stream",
     "text": [
      "[6.00572, 5.75078, 6.525029999999999, 6.55353, 4.92617, 5.159750000000001, 5.28726, 5.97219, 3.16749, -0.3653999999999993, -1.8222000000000005, -2.4255000000000013, -2.028299999999998, -1.7684999999999995, -1.8663999999999987, -1.5395000000000003, -1.5688999999999993, -2.0722000000000023, -4.3232, -3.367499999999998, -0.4781000000000013, -1.0589999999999993, -3.588099999999999, -3.339839999999999, -3.4556199999999997]\n"
     ]
    }
   ],
   "source": [
    "difference3_sal = []\n",
    "\n",
    "zip_object = zip(temp, temp_crn)\n",
    "for temp_i, temp_crn_i in zip_object:\n",
    "    difference3_sal.append(temp_i-temp_crn_i)\n",
    "\n",
    "print(difference3_sal)"
   ]
  },
  {
   "cell_type": "markdown",
   "id": "94d23f55",
   "metadata": {},
   "source": [
    "<font size=\"3\">Batesville, AR: 1300 UTC 30 March 2022-1300 UTC 31 March 2022</font>"
   ]
  },
  {
   "cell_type": "code",
   "execution_count": 77,
   "id": "003c1e74",
   "metadata": {},
   "outputs": [
    {
     "name": "stdout",
     "output_type": "stream",
     "text": [
      "[8.89322, 8.17578, 7.68753, 7.27853, 6.95117, 6.83475, 6.47476, 6.70969, 9.51749, 12.9846, 15.5153, 18.1245, 20.1717, 22.044, 23.1586, 23.6355, 23.3186, 22.6028, 19.4768, 16.845, 14.9469, 12.791, 12.1744, 12.0727, 11.0819]\n"
     ]
    }
   ],
   "source": [
    "#18 hr hrrr:\n",
    "with open('hrrr_f18_Batesville_AR.txt') as f:\n",
    "    lst=[line.split()[1] for line in f]\n",
    "    temp=[]\n",
    "    for i in lst:\n",
    "        new=i.replace(',',\"\")\n",
    "        temp.append(new)\n",
    "    temp.pop(0)\n",
    "    temp=[float(x) for x in temp]\n",
    "    #print(temp.index(6.91541))\n",
    "    temp=temp[1860:1885]\n",
    "    print(temp)\n",
    "    #print(len(temp))\n",
    "#full time period is [2015:2112]"
   ]
  },
  {
   "cell_type": "code",
   "execution_count": 78,
   "id": "53ed50e8",
   "metadata": {},
   "outputs": [
    {
     "name": "stdout",
     "output_type": "stream",
     "text": [
      "[3.1, 2.3, 2.0, 1.4, 1.0, 0.3, 0.3, 0.6, 4.1, 10.5, 14.4, 17.4, 19.7, 21.5, 22.9, 23.6, 23.4, 22.9, 20.4, 15.8, 16.6, 11.0, 9.6, 8.5, 8.1]\n"
     ]
    }
   ],
   "source": [
    "#Air Temp CRN:\n",
    "with open('CRNH0203-2022-AR_Batesville_8_WNW.txt') as f:\n",
    "    lst=[line.split()[9] for line in f]\n",
    "    #print(lst)\n",
    "    temp_crn=[]\n",
    "    for i in lst:\n",
    "        new=i.replace(',',\"\")\n",
    "        temp_crn.append(new)\n",
    "    temp_crn=[float(x) for x in temp_crn]\n",
    "    temp_crn=temp_crn[1877:1902]\n",
    "    print(temp_crn)\n",
    "    #print(len(temp_crn))\n",
    "    # print(temp_crn[2124])"
   ]
  },
  {
   "cell_type": "code",
   "execution_count": 79,
   "id": "78dbd881",
   "metadata": {},
   "outputs": [
    {
     "name": "stdout",
     "output_type": "stream",
     "text": [
      "[5.79322, 5.87578, 5.68753, 5.87853, 5.95117, 6.53475, 6.17476, 6.1096900000000005, 5.417490000000001, 2.4846000000000004, 1.1152999999999995, 0.7245000000000026, 0.471700000000002, 0.5440000000000005, 0.2586000000000013, 0.03549999999999898, -0.08139999999999858, -0.29720000000000013, -0.9231999999999978, 1.0449999999999982, -1.653100000000002, 1.7910000000000004, 2.5744000000000007, 3.5726999999999993, 2.9818999999999996]\n"
     ]
    }
   ],
   "source": [
    "difference3_bat = []\n",
    "\n",
    "zip_object = zip(temp, temp_crn)\n",
    "for temp_i, temp_crn_i in zip_object:\n",
    "    difference3_bat.append(temp_i-temp_crn_i)\n",
    "\n",
    "print(difference3_bat)"
   ]
  },
  {
   "cell_type": "markdown",
   "id": "62dfd513",
   "metadata": {},
   "source": [
    "<font size=\"3\">Lafayette, LA: 1700 UTC 30 March 2022-1700 UTC 31 March 2022</font>"
   ]
  },
  {
   "cell_type": "code",
   "execution_count": 80,
   "id": "b924d828",
   "metadata": {},
   "outputs": [
    {
     "name": "stdout",
     "output_type": "stream",
     "text": [
      "[10.3932, 9.48828, 9.12503, 8.15353, 7.26367, 7.33475, 7.34976, 8.02219, 14.08, 18.7971, 21.7653, 23.3745, 25.1092, 25.919, 26.2211, 26.448, 26.0686, 25.0403, 22.8518, 18.72, 16.5719, 15.3535, 14.6744, 13.5102, 12.7694]\n"
     ]
    }
   ],
   "source": [
    "#18 hr hrrr:\n",
    "with open('hrrr_f18_Lafayette_LA.txt') as f:\n",
    "    lst=[line.split()[1] for line in f]\n",
    "    temp=[]\n",
    "    for i in lst:\n",
    "        new=i.replace(',',\"\")\n",
    "        temp.append(new)\n",
    "    temp.pop(0)\n",
    "    temp=[float(x) for x in temp]\n",
    "    #print(temp.index(6.91541))\n",
    "    temp=temp[1860:1885]\n",
    "    print(temp)\n",
    "    #print(len(temp))\n",
    "#full time period is [2015:2112]"
   ]
  },
  {
   "cell_type": "code",
   "execution_count": 81,
   "id": "7ad5a780",
   "metadata": {},
   "outputs": [
    {
     "name": "stdout",
     "output_type": "stream",
     "text": [
      "[7.8, 7.3, 6.6, 6.1, 5.6, 5.0, 5.0, 5.0, 9.8, 15.2, 18.8, 20.9, 22.3, 23.2, 23.7, 24.0, 23.9, 23.3, 20.6, 17.0, 16.1, 15.5, 14.2, 13.0, 12.6]\n"
     ]
    }
   ],
   "source": [
    "#Air Temp CRN:\n",
    "with open('CRNH0203-2022-LA_Lafayette_13_SE.txt') as f:\n",
    "    lst=[line.split()[9] for line in f]\n",
    "    #print(lst)\n",
    "    temp_crn=[]\n",
    "    for i in lst:\n",
    "        new=i.replace(',',\"\")\n",
    "        temp_crn.append(new)\n",
    "    temp_crn=[float(x) for x in temp_crn]\n",
    "    temp_crn=temp_crn[1877:1902]\n",
    "    print(temp_crn)\n",
    "    #print(len(temp_crn))\n",
    "    # print(temp_crn[2124])"
   ]
  },
  {
   "cell_type": "code",
   "execution_count": 82,
   "id": "29f0cf35",
   "metadata": {},
   "outputs": [
    {
     "name": "stdout",
     "output_type": "stream",
     "text": [
      "[2.5932000000000004, 2.18828, 2.525030000000001, 2.0535300000000003, 1.6636700000000006, 2.3347499999999997, 2.34976, 3.02219, 4.279999999999999, 3.597100000000001, 2.965299999999999, 2.4745000000000026, 2.8092000000000006, 2.719000000000001, 2.5211000000000006, 2.4480000000000004, 2.1686000000000014, 1.7402999999999977, 2.2517999999999994, 1.7199999999999989, 0.471899999999998, -0.14649999999999963, 0.47440000000000104, 0.5101999999999993, 0.16939999999999955]\n"
     ]
    }
   ],
   "source": [
    "difference3_laf = []\n",
    "\n",
    "zip_object = zip(temp, temp_crn)\n",
    "for temp_i, temp_crn_i in zip_object:\n",
    "    difference3_laf.append(temp_i-temp_crn_i)\n",
    "\n",
    "print(difference3_laf)"
   ]
  },
  {
   "cell_type": "markdown",
   "id": "f122416b",
   "metadata": {},
   "source": [
    "<font size=\"3\">Monroe, LA: 1700 UTC 30 March 2022-1700 UTC 31 March 2022</font>"
   ]
  },
  {
   "cell_type": "code",
   "execution_count": 83,
   "id": "86893e21",
   "metadata": {},
   "outputs": [
    {
     "name": "stdout",
     "output_type": "stream",
     "text": [
      "[9.58072, 8.86328, 8.93753, 8.21603, 7.88867, 7.83475, 7.47476, 8.08469, 12.5175, 15.7346, 19.0778, 21.1245, 23.6092, 24.794, 25.4086, 25.3855, 24.8186, 23.9778, 21.1018, 17.97, 15.8219, 14.291, 13.1119, 12.2602, 11.5819]\n"
     ]
    }
   ],
   "source": [
    "#18 hr hrrr:\n",
    "with open('hrrr_f18_Monroe_LA.txt') as f:\n",
    "    lst=[line.split()[1] for line in f]\n",
    "    temp=[]\n",
    "    for i in lst:\n",
    "        new=i.replace(',',\"\")\n",
    "        temp.append(new)\n",
    "    temp.pop(0)\n",
    "    temp=[float(x) for x in temp]\n",
    "    #print(temp.index(6.91541))\n",
    "    temp=temp[1860:1885]\n",
    "    print(temp)\n",
    "    #print(len(temp))\n",
    "#full time period is [2015:2112]"
   ]
  },
  {
   "cell_type": "code",
   "execution_count": 84,
   "id": "9647369d",
   "metadata": {},
   "outputs": [
    {
     "name": "stdout",
     "output_type": "stream",
     "text": [
      "[5.6, 4.9, 4.2, 4.1, 4.1, 3.8, 3.2, 3.0, 7.8, 14.5, 19.5, 21.5, 23.3, 24.2, 24.8, 24.9, 24.9, 24.4, 22.5, 16.8, 13.8, 12.8, 10.7, 8.8, 7.8]\n"
     ]
    }
   ],
   "source": [
    "#Air Temp CRN:\n",
    "with open('CRNH0203-2022-LA_Monroe_26_N.txt') as f:\n",
    "    lst=[line.split()[9] for line in f]\n",
    "    #print(lst)\n",
    "    temp_crn=[]\n",
    "    for i in lst:\n",
    "        new=i.replace(',',\"\")\n",
    "        temp_crn.append(new)\n",
    "    temp_crn=[float(x) for x in temp_crn]\n",
    "    temp_crn=temp_crn[1877:1902]\n",
    "    print(temp_crn)\n",
    "    #print(len(temp_crn))\n",
    "    # print(temp_crn[2124])"
   ]
  },
  {
   "cell_type": "code",
   "execution_count": 85,
   "id": "dfd2b5aa",
   "metadata": {},
   "outputs": [
    {
     "name": "stdout",
     "output_type": "stream",
     "text": [
      "[3.98072, 3.9632799999999992, 4.7375300000000005, 4.11603, 3.7886700000000006, 4.03475, 4.27476, 5.08469, 4.7175, 1.2346000000000004, -0.42220000000000013, -0.37549999999999883, 0.3092000000000006, 0.5940000000000012, 0.6085999999999991, 0.4855000000000018, -0.08139999999999858, -0.42220000000000013, -1.3981999999999992, 1.1699999999999982, 2.0218999999999987, 1.4909999999999997, 2.411900000000001, 3.4601999999999986, 3.7818999999999994]\n"
     ]
    }
   ],
   "source": [
    "difference3_mon = []\n",
    "\n",
    "zip_object = zip(temp, temp_crn)\n",
    "for temp_i, temp_crn_i in zip_object:\n",
    "    difference3_mon.append(temp_i-temp_crn_i)\n",
    "\n",
    "print(difference3_mon)"
   ]
  },
  {
   "cell_type": "markdown",
   "id": "3fd80e8c",
   "metadata": {},
   "source": [
    "<font size=\"3\">Holly Springs, MS: 2000 UTC 30 March 2022-2000 UTC 31 March 2022</font>"
   ]
  },
  {
   "cell_type": "code",
   "execution_count": 86,
   "id": "fb680e90",
   "metadata": {},
   "outputs": [
    {
     "name": "stdout",
     "output_type": "stream",
     "text": [
      "[8.26822, 7.67578, 7.37503, 6.96603, 6.57617, 6.27225, 6.22476, 7.14719, 10.83, 13.1721, 16.1403, 18.562, 20.3592, 21.044, 21.7211, 21.698, 21.1936, 20.4778, 17.9768, 16.0325, 14.5094, 13.3535, 12.6119, 11.4477, 10.9569]\n"
     ]
    }
   ],
   "source": [
    "#18 hr hrrr:\n",
    "with open('hrrr_f18_Holly Springs_MS.txt') as f:\n",
    "    lst=[line.split()[1] for line in f]\n",
    "    temp=[]\n",
    "    for i in lst:\n",
    "        new=i.replace(',',\"\")\n",
    "        temp.append(new)\n",
    "    temp.pop(0)\n",
    "    temp=[float(x) for x in temp]\n",
    "    #print(temp.index(6.91541))\n",
    "    temp=temp[1860:1885]\n",
    "    print(temp)\n",
    "    #print(len(temp))\n",
    "#full time period is [2015:2112]"
   ]
  },
  {
   "cell_type": "code",
   "execution_count": 87,
   "id": "298d934c",
   "metadata": {},
   "outputs": [
    {
     "name": "stdout",
     "output_type": "stream",
     "text": [
      "[4.7, 6.0, 5.2, 3.4, 2.6, 1.8, 1.3, 1.5, 6.0, 13.1, 16.3, 18.7, 20.3, 21.4, 21.9, 22.2, 22.4, 22.0, 18.6, 13.5, 10.5, 8.6, 7.2, 6.2, 5.6]\n"
     ]
    }
   ],
   "source": [
    "#Air Temp CRN:\n",
    "with open('CRNH0203-2022-MS_Holly_Springs_4_N.txt') as f:\n",
    "    lst=[line.split()[9] for line in f]\n",
    "    #print(lst)\n",
    "    temp_crn=[]\n",
    "    for i in lst:\n",
    "        new=i.replace(',',\"\")\n",
    "        temp_crn.append(new)\n",
    "    temp_crn=[float(x) for x in temp_crn]\n",
    "    temp_crn=temp_crn[1877:1902]\n",
    "    print(temp_crn)\n",
    "    #print(len(temp_crn))\n",
    "    # print(temp_crn[2124])"
   ]
  },
  {
   "cell_type": "code",
   "execution_count": 88,
   "id": "73b03933",
   "metadata": {},
   "outputs": [
    {
     "name": "stdout",
     "output_type": "stream",
     "text": [
      "[3.5682199999999993, 1.6757799999999996, 2.1750299999999996, 3.56603, 3.97617, 4.47225, 4.92476, 5.64719, 4.83, 0.07210000000000072, -0.15970000000000084, -0.13799999999999812, 0.059200000000000585, -0.3559999999999981, -0.17889999999999873, -0.5019999999999989, -1.2063999999999986, -1.5222000000000016, -0.6232000000000006, 2.532499999999999, 4.009399999999999, 4.753500000000001, 5.4119, 5.247699999999999, 5.3568999999999996]\n"
     ]
    }
   ],
   "source": [
    "difference3_hol = []\n",
    "\n",
    "zip_object = zip(temp, temp_crn)\n",
    "for temp_i, temp_crn_i in zip_object:\n",
    "    difference3_hol.append(temp_i-temp_crn_i)\n",
    "\n",
    "print(difference3_hol)"
   ]
  },
  {
   "cell_type": "markdown",
   "id": "f0ef733a",
   "metadata": {},
   "source": [
    "<font size=\"3\">Newton, MS: 2000 UTC 30 March 2022-2000 UTC 31 March 2022</font>"
   ]
  },
  {
   "cell_type": "code",
   "execution_count": 89,
   "id": "11dbd9e0",
   "metadata": {},
   "outputs": [
    {
     "name": "stdout",
     "output_type": "stream",
     "text": [
      "[8.45572, 7.73828, 7.12503, 6.65353, 5.76367, 5.45975, 5.03726, 6.89719, 12.3925, 17.2346, 20.4528, 21.9995, 23.2967, 23.419, 23.6586, 23.2605, 22.8186, 22.1653, 19.6018, 17.4075, 15.3844, 14.041, 13.0494, 11.9477, 11.0194]\n"
     ]
    }
   ],
   "source": [
    "#18 hr hrrr:\n",
    "with open('hrrr_f18_Newton_MS.txt') as f:\n",
    "    lst=[line.split()[1] for line in f]\n",
    "    temp=[]\n",
    "    for i in lst:\n",
    "        new=i.replace(',',\"\")\n",
    "        temp.append(new)\n",
    "    temp.pop(0)\n",
    "    temp=[float(x) for x in temp]\n",
    "    #print(temp.index(6.91541))\n",
    "    temp=temp[1860:1885]\n",
    "    print(temp)\n",
    "    #print(len(temp))\n",
    "#full time period is [2015:2112]"
   ]
  },
  {
   "cell_type": "code",
   "execution_count": 90,
   "id": "00cf42fe",
   "metadata": {},
   "outputs": [
    {
     "name": "stdout",
     "output_type": "stream",
     "text": [
      "[3.9, 3.3, 2.7, 2.4, 2.0, 1.7, 1.4, 1.8, 6.2, 12.0, 16.7, 19.4, 21.0, 21.7, 22.5, 23.0, 23.1, 22.7, 20.9, 15.8, 13.6, 11.5, 9.4, 8.0, 7.1]\n"
     ]
    }
   ],
   "source": [
    "#Air Temp CRN:\n",
    "with open('CRNH0203-2022-MS_Newton_5_ENE.txt') as f:\n",
    "    lst=[line.split()[9] for line in f]\n",
    "    #print(lst)\n",
    "    temp_crn=[]\n",
    "    for i in lst:\n",
    "        new=i.replace(',',\"\")\n",
    "        temp_crn.append(new)\n",
    "    temp_crn=[float(x) for x in temp_crn]\n",
    "    temp_crn=temp_crn[1877:1902]\n",
    "    print(temp_crn)\n",
    "    #print(len(temp_crn))\n",
    "    # print(temp_crn[2124])"
   ]
  },
  {
   "cell_type": "code",
   "execution_count": 91,
   "id": "5b3dc9cf",
   "metadata": {},
   "outputs": [
    {
     "name": "stdout",
     "output_type": "stream",
     "text": [
      "[4.555719999999999, 4.43828, 4.42503, 4.25353, 3.7636700000000003, 3.7597499999999995, 3.63726, 5.09719, 6.1925, 5.2346, 3.7528000000000006, 2.5995000000000026, 2.2967000000000013, 1.7190000000000012, 1.1585999999999999, 0.2605000000000004, -0.2814000000000014, -0.5347000000000008, -1.2981999999999978, 1.6074999999999982, 1.7843999999999998, 2.5410000000000004, 3.6494, 3.9476999999999993, 3.9193999999999996]\n"
     ]
    }
   ],
   "source": [
    "difference3_new = []\n",
    "\n",
    "zip_object = zip(temp, temp_crn)\n",
    "for temp_i, temp_crn_i in zip_object:\n",
    "    difference3_new.append(temp_i-temp_crn_i)\n",
    "\n",
    "print(difference3_new)"
   ]
  },
  {
   "cell_type": "markdown",
   "id": "31b3c936",
   "metadata": {},
   "source": [
    "<font size=\"3\">Gainesville, AL: 2300 UTC 30 March 2022-2300 UTC 31 March 2022</font>"
   ]
  },
  {
   "cell_type": "code",
   "execution_count": 92,
   "id": "8920e139",
   "metadata": {},
   "outputs": [
    {
     "name": "stdout",
     "output_type": "stream",
     "text": [
      "[7.89322, 7.17578, 6.68753, 6.09103, 5.70117, 5.33475, 5.34976, 6.89719, 12.205, 16.1721, 19.1403, 20.8745, 22.3592, 22.6065, 23.0336, 22.948, 22.4436, 21.6653, 18.7268, 16.47, 14.3844, 13.8535, 12.4244, 11.1352, 10.3319]\n"
     ]
    }
   ],
   "source": [
    "#18 hr hrrr:\n",
    "with open('hrrr_f18_Gainesville_AL (1).txt') as f:\n",
    "    lst=[line.split()[1] for line in f]\n",
    "    temp=[]\n",
    "    for i in lst:\n",
    "        new=i.replace(',',\"\")\n",
    "        temp.append(new)\n",
    "    temp.pop(0)\n",
    "    temp=[float(x) for x in temp]\n",
    "    #print(temp.index(6.91541))\n",
    "    temp=temp[1860:1885]\n",
    "    print(temp)\n",
    "    #print(len(temp))\n",
    "#full time period is [2015:2112]"
   ]
  },
  {
   "cell_type": "code",
   "execution_count": 93,
   "id": "2e8783dd",
   "metadata": {},
   "outputs": [
    {
     "name": "stdout",
     "output_type": "stream",
     "text": [
      "[5.8, 5.2, 4.8, 4.4, 4.1, 3.8, 3.3, 3.8, 6.8, 11.5, 16.1, 18.6, 20.1, 21.4, 21.9, 22.3, 22.6, 22.5, 21.3, 16.9, 14.0, 12.0, 10.8, 9.8, 9.1]\n"
     ]
    }
   ],
   "source": [
    "#Air Temp CRN:\n",
    "with open('CRNH0203-2022-AL_Gainesville_2_NE.txt') as f:\n",
    "    lst=[line.split()[9] for line in f]\n",
    "    #print(lst)\n",
    "    temp_crn=[]\n",
    "    for i in lst:\n",
    "        new=i.replace(',',\"\")\n",
    "        temp_crn.append(new)\n",
    "    temp_crn=[float(x) for x in temp_crn]\n",
    "    temp_crn=temp_crn[1877:1902]\n",
    "    print(temp_crn)\n",
    "    #print(len(temp_crn))\n",
    "    # print(temp_crn[2124])"
   ]
  },
  {
   "cell_type": "code",
   "execution_count": 94,
   "id": "955310d1",
   "metadata": {},
   "outputs": [
    {
     "name": "stdout",
     "output_type": "stream",
     "text": [
      "[2.0932200000000005, 1.9757799999999994, 1.88753, 1.6910299999999996, 1.6011700000000006, 1.5347499999999998, 2.04976, 3.0971900000000003, 5.405, 4.6721, 3.0402999999999984, 2.2744999999999997, 2.2592, 1.206500000000002, 1.1336000000000013, 0.6479999999999997, -0.15640000000000143, -0.8347000000000016, -2.5732, -0.4299999999999997, 0.3843999999999994, 1.8535000000000004, 1.6243999999999996, 1.3351999999999986, 1.2318999999999996]\n"
     ]
    }
   ],
   "source": [
    "difference3_gai = []\n",
    "\n",
    "zip_object = zip(temp, temp_crn)\n",
    "for temp_i, temp_crn_i in zip_object:\n",
    "    difference3_gai.append(temp_i-temp_crn_i)\n",
    "\n",
    "print(difference3_gai)"
   ]
  },
  {
   "cell_type": "markdown",
   "id": "3978aef1",
   "metadata": {},
   "source": [
    "<font size=\"3\">Fairhope, AL: 0100 UTC 31 March 2022-0100 UTC 1 April 2022</font>"
   ]
  },
  {
   "cell_type": "code",
   "execution_count": 95,
   "id": "f30f9caf",
   "metadata": {},
   "outputs": [
    {
     "name": "stdout",
     "output_type": "stream",
     "text": [
      "[11.3932, 10.8633, 10.25, 9.59103, 8.95117, 8.45975, 7.84976, 9.08469, 11.8925, 14.4846, 17.0153, 18.8745, 20.9217, 21.7315, 22.7836, 22.7605, 22.3811, 21.6653, 19.1643, 16.22, 14.9469, 14.4785, 13.6119, 12.2602, 11.5194]\n"
     ]
    }
   ],
   "source": [
    "#18 hr hrrr:\n",
    "with open('hrrr_f18_Fairhope_AL.txt') as f:\n",
    "    lst=[line.split()[1] for line in f]\n",
    "    temp=[]\n",
    "    for i in lst:\n",
    "        new=i.replace(',',\"\")\n",
    "        temp.append(new)\n",
    "    temp.pop(0)\n",
    "    temp=[float(x) for x in temp]\n",
    "    #print(temp.index(6.91541))\n",
    "    temp=temp[1860:1885]\n",
    "    print(temp)\n",
    "    #print(len(temp))\n",
    "#full time period is [2015:2112]"
   ]
  },
  {
   "cell_type": "code",
   "execution_count": 96,
   "id": "8c7b4e9a",
   "metadata": {},
   "outputs": [
    {
     "name": "stdout",
     "output_type": "stream",
     "text": [
      "[9.6, 7.9, 7.3, 5.9, 5.1, 4.7, 5.6, 5.5, 11.1, 14.6, 17.9, 20.0, 21.5, 22.3, 22.7, 22.7, 20.6, 19.6, 17.9, 15.1, 11.8, 10.4, 9.3, 8.4, 8.3]\n"
     ]
    }
   ],
   "source": [
    "#Air Temp CRN:\n",
    "with open('CRNH0203-2022-AL_Fairhope_3_NE.txt') as f:\n",
    "    lst=[line.split()[9] for line in f]\n",
    "    #print(lst)\n",
    "    temp_crn=[]\n",
    "    for i in lst:\n",
    "        new=i.replace(',',\"\")\n",
    "        temp_crn.append(new)\n",
    "    temp_crn=[float(x) for x in temp_crn]\n",
    "    temp_crn=temp_crn[1877:1902]\n",
    "    print(temp_crn)\n",
    "    #print(len(temp_crn))\n",
    "    # print(temp_crn[2124])"
   ]
  },
  {
   "cell_type": "code",
   "execution_count": 97,
   "id": "c03d50c9",
   "metadata": {},
   "outputs": [
    {
     "name": "stdout",
     "output_type": "stream",
     "text": [
      "[1.7932000000000006, 2.9633000000000003, 2.95, 3.6910299999999996, 3.8511699999999998, 3.7597499999999995, 2.24976, 3.58469, 0.7925000000000004, -0.11539999999999928, -0.8846999999999987, -1.1254999999999988, -0.5782999999999987, -0.5685000000000002, 0.08360000000000056, 0.06050000000000111, 1.7810999999999986, 2.065299999999997, 1.2643000000000022, 1.1199999999999992, 3.1468999999999987, 4.0785, 4.3119, 3.860199999999999, 3.2193999999999985]\n"
     ]
    }
   ],
   "source": [
    "difference3_fai = []\n",
    "\n",
    "zip_object = zip(temp, temp_crn)\n",
    "for temp_i, temp_crn_i in zip_object:\n",
    "    difference3_fai.append(temp_i-temp_crn_i)\n",
    "\n",
    "print(difference3_fai)"
   ]
  },
  {
   "cell_type": "markdown",
   "id": "f1660d22",
   "metadata": {},
   "source": [
    "<font size=\"3\">**Selma, AL: 0100 UTC 31 March 2022-0100 UTC 1 April 2022</font>"
   ]
  },
  {
   "cell_type": "code",
   "execution_count": 98,
   "id": "f7147dc6",
   "metadata": {},
   "outputs": [
    {
     "name": "stdout",
     "output_type": "stream",
     "text": [
      "[8.39322, 7.73828, 7.75003, 7.34103, 6.95117, 6.52225, 6.22476, 8.02219, 10.8925, 13.7971, 16.5153, 18.687, 19.9842, 20.544, 20.7836, 20.573, 19.8186, 18.4153, 16.2893, 14.4075, 13.1344, 12.166, 11.4244, 11.3227, 10.7069]\n",
      "25\n",
      "[5.1, 4.2, 3.8, 3.1, 2.9, 2.2, 2.1, 3.3, 8.1, 12.1, 15.1, 17.5, 19.4, 20.6, 21.8, 22.4, 22.4, 21.8, 19.6, 14.3, 11.6, 10.2, 9.2, 8.4, 7.8]\n",
      "25\n",
      "[3.29322, 3.5382799999999994, 3.95003, 4.24103, 4.051170000000001, 4.3222499999999995, 4.12476, 4.72219, 2.7925000000000004, 1.6971000000000007, 1.4153000000000002, 1.1870000000000012, 0.5842000000000027, -0.05600000000000094, -1.0164000000000009, -1.8269999999999982, -2.5813999999999986, -3.3847000000000023, -3.3107000000000006, 0.10749999999999993, 1.5343999999999998, 1.966000000000001, 2.224400000000001, 2.922699999999999, 2.9068999999999994]\n",
      "25\n"
     ]
    }
   ],
   "source": [
    "#18 hr hrrr:\n",
    "with open('hrrr_f18_Selma_AL.txt') as f:\n",
    "    lst=[line.split()[1] for line in f]\n",
    "    temp=[]\n",
    "    for i in lst:\n",
    "        new=i.replace(',',\"\")\n",
    "        temp.append(new)\n",
    "    temp.pop(0)\n",
    "    temp=[float(x) for x in temp]\n",
    "    #print(temp.index(6.91541))\n",
    "    temp=temp[1860:1885]\n",
    "#Air Temp CRN:\n",
    "with open('CRNH0203-2022-AL_Selma_13_WNW.txt') as f:\n",
    "    lst=[line.split()[9] for line in f]\n",
    "    #print(lst)\n",
    "    temp_crn=[]\n",
    "    for i in lst:\n",
    "        new=i.replace(',',\"\")\n",
    "        temp_crn.append(new)\n",
    "    temp_crn=[float(x) for x in temp_crn]\n",
    "    temp_crn=temp_crn[1877:1902]\n",
    "\n",
    "    print(temp)\n",
    "    print(len(temp))\n",
    "    print(temp_crn)\n",
    "    print(len(temp_crn))\n",
    "#full time period is [2015:2112]\n",
    "difference3_sel = []\n",
    "\n",
    "zip_object = zip(temp, temp_crn)\n",
    "for temp_i, temp_crn_i in zip_object:\n",
    "    difference3_sel.append(temp_i-temp_crn_i)\n",
    "\n",
    "print(difference3_sel)\n",
    "print(len(difference3_sel))"
   ]
  },
  {
   "cell_type": "markdown",
   "id": "20e61dc2",
   "metadata": {},
   "source": [
    "<font size=\"3\">Bowling Green, KY: 0100 UTC 31 March 2022-0100 UTC 1 April 2022</font>"
   ]
  },
  {
   "cell_type": "code",
   "execution_count": 99,
   "id": "4058f7ed",
   "metadata": {},
   "outputs": [
    {
     "name": "stdout",
     "output_type": "stream",
     "text": [
      "[2.83072, 2.30078, 2.31253, 1.71603, 1.32617, 0.959747, 0.662262, 3.14719, 7.39249, 10.4221, 12.8278, 15.1245, 16.4217, 17.3565, 18.0961, 18.198, 17.7561, 17.2278, 14.1643, 12.345, 11.0719, 9.66599, 8.67441, 8.63516, 8.33188]\n"
     ]
    }
   ],
   "source": [
    "#18 hr hrrr:\n",
    "with open('hrrr_f18_Bowling Green_KY.txt') as f:\n",
    "    lst=[line.split()[1] for line in f]\n",
    "    temp=[]\n",
    "    for i in lst:\n",
    "        new=i.replace(',',\"\")\n",
    "        temp.append(new)\n",
    "    temp.pop(0)\n",
    "    temp=[float(x) for x in temp]\n",
    "    #print(temp.index(6.91541))\n",
    "    temp=temp[1860:1885]\n",
    "#     x = np.array(temp)\n",
    "#     temp= ma.masked_array(x, mask=[0, 0, 0, 0, 0,0,1,0,0,0,0,0,0,0,0,0,0,0,0,0,0,0,0,0,0])\n",
    "    #temp=temp[2015:2063]\n",
    "    print(temp)\n",
    "    #print(len(temp))\n",
    "#full time period is [2015:2112]"
   ]
  },
  {
   "cell_type": "code",
   "execution_count": 100,
   "id": "ce1c44e0",
   "metadata": {},
   "outputs": [
    {
     "name": "stdout",
     "output_type": "stream",
     "text": [
      "[4.4, 3.8, 4.1, 3.9, 3.7, 3.3, 3.2, 3.4, 5.5, 8.6, 12.7, 14.5, 16.0, 17.0, 18.2, 18.5, 18.6, 18.0, 16.2, 14.3, 12.9, 12.2, 12.0, 11.5, 10.8]\n"
     ]
    }
   ],
   "source": [
    "#Air Temp CRN:\n",
    "with open('CRNH0203-2022-KY_Bowling_Green_21_NNE.txt') as f:\n",
    "    lst=[line.split()[9] for line in f]\n",
    "    #print(lst)\n",
    "    temp_crn=[]\n",
    "    for i in lst:\n",
    "        new=i.replace(',',\"\")\n",
    "        temp_crn.append(new)\n",
    "    temp_crn=[float(x) for x in temp_crn]\n",
    "    temp_crn=temp_crn[1877:1902]\n",
    "#     y = np.array(temp_crn)\n",
    "#     temp_crn = ma.masked_array(y, mask=[0, 0, 0, 0, 0,0,1,0,0,0,0,0,0,0,0,0,0,0,0,0,0,0,0,0,0])\n",
    "    print(temp_crn)\n",
    "    #print(len(temp_crn))\n",
    "    # print(temp_crn[2124])"
   ]
  },
  {
   "cell_type": "code",
   "execution_count": 101,
   "id": "26a6b44c",
   "metadata": {},
   "outputs": [
    {
     "name": "stdout",
     "output_type": "stream",
     "text": [
      "[-1.5692800000000005, -1.4992199999999998, -1.7874699999999994, -2.18397, -2.37383, -2.3402529999999997, -2.537738, -0.25280999999999976, 1.8924899999999996, 1.8221000000000007, 0.12780000000000058, 0.6244999999999994, 0.4217000000000013, 0.3565000000000005, -0.10389999999999944, -0.3019999999999996, -0.8439000000000014, -0.7722000000000016, -2.0356999999999985, -1.955, -1.828100000000001, -2.5340099999999985, -3.32559, -2.864839999999999, -2.4681200000000008]\n"
     ]
    }
   ],
   "source": [
    "difference3_bow = []\n",
    "\n",
    "zip_object = zip(temp, temp_crn)\n",
    "for temp_i, temp_crn_i in zip_object:\n",
    "    difference3_bow.append(temp_i-temp_crn_i)\n",
    "\n",
    "print(difference3_bow)"
   ]
  },
  {
   "cell_type": "markdown",
   "id": "e5c27760",
   "metadata": {},
   "source": [
    "<font size=\"3\">Gadsden, AL: 0200 UTC 31 March 2022-0200 UTC 1 April 2022</font>"
   ]
  },
  {
   "cell_type": "code",
   "execution_count": 102,
   "id": "645b4baf",
   "metadata": {},
   "outputs": [
    {
     "name": "stdout",
     "output_type": "stream",
     "text": [
      "[6.01822, 5.61328, 4.81253, 4.34103, 4.07617, 3.95975, 3.59976, 5.45969, 9.64249, 12.2971, 14.2028, 15.3745, 16.4217, 17.3565, 17.7836, 17.948, 17.5061, 16.5403, 13.8518, 12.47, 11.5719, 10.4785, 9.79941, 9.57266, 9.39438]\n"
     ]
    }
   ],
   "source": [
    "#18 hr hrrr:\n",
    "with open('hrrr_f18_Gadsden_AL.txt') as f:\n",
    "    lst=[line.split()[1] for line in f]\n",
    "    temp=[]\n",
    "    for i in lst:\n",
    "        new=i.replace(',',\"\")\n",
    "        temp.append(new)\n",
    "    temp.pop(0)\n",
    "    temp=[float(x) for x in temp]\n",
    "    #print(temp.index(6.91541))\n",
    "    temp=temp[1860:1885]\n",
    "    print(temp)\n",
    "    #print(len(temp))\n",
    "#full time period is [2015:2112]"
   ]
  },
  {
   "cell_type": "code",
   "execution_count": 103,
   "id": "2d2b273d",
   "metadata": {},
   "outputs": [
    {
     "name": "stdout",
     "output_type": "stream",
     "text": [
      "[2.9, 1.9, 1.2, 1.3, 0.6, 0.6, 0.5, 1.6, 7.1, 10.4, 12.7, 14.8, 15.9, 16.8, 17.7, 18.0, 18.0, 17.7, 15.4, 11.3, 9.6, 8.5, 6.1, 5.3, 5.4]\n"
     ]
    }
   ],
   "source": [
    "#Air Temp CRN:\n",
    "with open('CRNH0203-2022-AL_Gadsden_19_N.txt') as f:\n",
    "    lst=[line.split()[9] for line in f]\n",
    "    #print(lst)\n",
    "    temp_crn=[]\n",
    "    for i in lst:\n",
    "        new=i.replace(',',\"\")\n",
    "        temp_crn.append(new)\n",
    "    temp_crn=[float(x) for x in temp_crn]\n",
    "    temp_crn=temp_crn[1877:1902]\n",
    "    print(temp_crn)\n",
    "    #print(len(temp_crn))\n",
    "    # print(temp_crn[2124])"
   ]
  },
  {
   "cell_type": "code",
   "execution_count": 104,
   "id": "638be268",
   "metadata": {},
   "outputs": [
    {
     "name": "stdout",
     "output_type": "stream",
     "text": [
      "[3.1182200000000004, 3.7132799999999997, 3.6125299999999996, 3.04103, 3.47617, 3.35975, 3.09976, 3.85969, 2.542490000000001, 1.8971, 1.5028000000000006, 0.5744999999999987, 0.5217000000000009, 0.5564999999999998, 0.08360000000000056, -0.0519999999999996, -0.4939, -1.1597000000000008, -1.5481999999999996, 1.17, 1.9718999999999998, 1.9785000000000004, 3.6994100000000003, 4.272660000000001, 3.9943799999999996]\n"
     ]
    }
   ],
   "source": [
    "difference3_gad = []\n",
    "\n",
    "zip_object = zip(temp, temp_crn)\n",
    "for temp_i, temp_crn_i in zip_object:\n",
    "    difference3_gad.append(temp_i-temp_crn_i)\n",
    "\n",
    "print(difference3_gad)"
   ]
  },
  {
   "cell_type": "markdown",
   "id": "c5a22756",
   "metadata": {},
   "source": [
    "<font size=\"3\">Newton, GA: 0700 UTC 31 March 2022-0700 UTC 1 April 2022</font>"
   ]
  },
  {
   "cell_type": "code",
   "execution_count": 105,
   "id": "56018f0c",
   "metadata": {},
   "outputs": [
    {
     "name": "stdout",
     "output_type": "stream",
     "text": [
      "[11.9557, 11.3008, 10.1875, 9.90353, 9.26367, 8.83475, 8.16226, 10.2097, 12.455, 13.9846, 16.2653, 17.687, 19.4217, 20.2315, 20.2836, 20.2605, 19.6311, 18.4153, 16.2268, 14.47, 12.9469, 11.791, 10.9869, 10.2602, 9.45688]\n"
     ]
    }
   ],
   "source": [
    "#18 hr hrrr:\n",
    "with open('hrrr_f18_Newton_GA.txt') as f:\n",
    "    lst=[line.split()[1] for line in f]\n",
    "    temp=[]\n",
    "    for i in lst:\n",
    "        new=i.replace(',',\"\")\n",
    "        temp.append(new)\n",
    "    temp.pop(0)\n",
    "    temp=[float(x) for x in temp]\n",
    "    #print(temp.index(6.91541))\n",
    "    temp=temp[1860:1885]\n",
    "    print(temp)\n",
    "    #print(len(temp))\n",
    "#full time period is [2015:2112]"
   ]
  },
  {
   "cell_type": "code",
   "execution_count": 106,
   "id": "b4e3a30e",
   "metadata": {},
   "outputs": [
    {
     "name": "stdout",
     "output_type": "stream",
     "text": [
      "[14.3, 13.4, 12.6, 11.6, 10.1, 9.0, 8.5, 8.7, 11.5, 14.7, 16.6, 19.0, 20.2, 21.2, 21.6, 22.1, 22.3, 22.0, 19.6, 15.6, 13.0, 11.5, 9.9, 8.4, 7.9]\n",
      "25\n"
     ]
    }
   ],
   "source": [
    "#Air Temp CRN:\n",
    "with open('CRNH0203-2022-GA_Newton_11_SW.txt') as f:\n",
    "    lst=[line.split()[9] for line in f]\n",
    "    #print(lst)\n",
    "    temp_crn=[]\n",
    "    for i in lst:\n",
    "        new=i.replace(',',\"\")\n",
    "        temp_crn.append(new)\n",
    "    temp_crn=[float(x) for x in temp_crn]\n",
    "    temp_crn=temp_crn[1877:1902]\n",
    "    print(temp_crn)\n",
    "    print(len(temp_crn))\n",
    "    # print(temp_crn[2124])"
   ]
  },
  {
   "cell_type": "code",
   "execution_count": 107,
   "id": "700e28b7",
   "metadata": {},
   "outputs": [
    {
     "name": "stdout",
     "output_type": "stream",
     "text": [
      "[-2.3443000000000005, -2.0991999999999997, -2.4124999999999996, -1.6964699999999997, -0.8363300000000002, -0.16525000000000034, -0.33774000000000015, 1.5097000000000005, 0.9550000000000001, -0.7153999999999989, -0.33470000000000155, -1.3129999999999988, -0.778299999999998, -0.9684999999999988, -1.3164000000000016, -1.839500000000001, -2.6689000000000007, -3.5847000000000016, -3.3732000000000006, -1.129999999999999, -0.05310000000000059, 0.29100000000000037, 1.0869, 1.860199999999999, 1.5568799999999996]\n"
     ]
    }
   ],
   "source": [
    "difference3_newt = []\n",
    "\n",
    "zip_object = zip(temp, temp_crn)\n",
    "for temp_i, temp_crn_i in zip_object:\n",
    "    difference3_newt.append(temp_i-temp_crn_i)\n",
    "\n",
    "print(difference3_newt)"
   ]
  },
  {
   "cell_type": "markdown",
   "id": "e079df5d",
   "metadata": {},
   "source": [
    "<font size=\"3\">Salem, MO: 0500 UTC (12:00 am CDT) 03 April 2022-0500 UTC (12:00 am CDT) 04 April 2022</font>"
   ]
  },
  {
   "cell_type": "code",
   "execution_count": 108,
   "id": "2b5c7728",
   "metadata": {},
   "outputs": [
    {
     "name": "stdout",
     "output_type": "stream",
     "text": [
      "[4.95435, 4.68204, 4.20578, 2.75894, 2.43747, 2.2562, 2.28012, 4.2764, 8.24515, 9.9816, 12.2873, 13.9133, 15.6179, 16.6087, 17.7177, 18.1941, 18.1299, 17.0601, 15.4084, 13.1461, 12.0627, 11.6, 11.2948, 11.3419, 10.8337]\n"
     ]
    }
   ],
   "source": [
    "#18 hr hrrr:\n",
    "with open('hrrr_f18_Salem_MO.txt') as f:\n",
    "    lst=[line.split()[1] for line in f]\n",
    "    temp=[]\n",
    "    for i in lst:\n",
    "        new=i.replace(',',\"\")\n",
    "        temp.append(new)\n",
    "    temp.pop(0)\n",
    "    temp=[float(x) for x in temp]\n",
    "    #print(temp.index(6.91541))\n",
    "    temp=temp[2196:2221]\n",
    "    print(temp)\n",
    "    #print(len(temp))\n",
    "#full time period is [2015:2112]"
   ]
  },
  {
   "cell_type": "code",
   "execution_count": 109,
   "id": "9cfc5bf3",
   "metadata": {},
   "outputs": [
    {
     "name": "stdout",
     "output_type": "stream",
     "text": [
      "[0.3, -0.6, -1.1, -1.6, -1.9, -2.1, -2.3, -0.9, 6.2, 12.4, 14.6, 16.3, 17.7, 18.8, 19.7, 20.4, 20.6, 19.7, 18.5, 17.4, 16.2, 15.4, 14.6, 13.8, 12.2]\n"
     ]
    }
   ],
   "source": [
    "#Air Temp CRN:\n",
    "with open('CRNH0203-2022-MO_Salem_10_W.txt') as f:\n",
    "    lst=[line.split()[9] for line in f]\n",
    "    #print(lst)\n",
    "    temp_crn=[]\n",
    "    for i in lst:\n",
    "        new=i.replace(',',\"\")\n",
    "        temp_crn.append(new)\n",
    "    temp_crn=[float(x) for x in temp_crn]\n",
    "    temp_crn=temp_crn[2213:2238]\n",
    "    print(temp_crn)\n",
    "    #print(len(temp_crn))\n",
    "    # print(temp_crn[2124])"
   ]
  },
  {
   "cell_type": "code",
   "execution_count": 110,
   "id": "d93bc9e2",
   "metadata": {},
   "outputs": [],
   "source": [
    "# hour=[]\n",
    "# for i in range(-12,13,1):\n",
    "#     hour.append(i)\n",
    "#     i+=1\n",
    "# print(len(hour))"
   ]
  },
  {
   "cell_type": "code",
   "execution_count": 111,
   "id": "89c53040",
   "metadata": {},
   "outputs": [
    {
     "name": "stdout",
     "output_type": "stream",
     "text": [
      "[4.65435, 5.282039999999999, 5.30578, 4.3589400000000005, 4.33747, 4.3562, 4.58012, 5.1764, 2.0451500000000005, -2.4184, -2.3126999999999995, -2.386700000000001, -2.0820999999999987, -2.191300000000002, -1.9822999999999986, -2.2058999999999997, -2.470100000000002, -2.639900000000001, -3.0915999999999997, -4.253899999999998, -4.1373, -3.8000000000000007, -3.3051999999999992, -2.4581, -1.366299999999999]\n"
     ]
    }
   ],
   "source": [
    "difference4_sal = []\n",
    "\n",
    "zip_object = zip(temp, temp_crn)\n",
    "for temp_i, temp_crn_i in zip_object:\n",
    "    difference4_sal.append(temp_i-temp_crn_i)\n",
    "\n",
    "print(difference4_sal)"
   ]
  },
  {
   "cell_type": "markdown",
   "id": "f17b9aaf",
   "metadata": {},
   "source": [
    "<font size=\"3\">Batesville, AR: 1300 UTC 30 March 2022-1300 UTC 31 March 2022</font>"
   ]
  },
  {
   "cell_type": "code",
   "execution_count": 112,
   "id": "d9093e1c",
   "metadata": {},
   "outputs": [
    {
     "name": "stdout",
     "output_type": "stream",
     "text": [
      "[9.01685, 8.55704, 7.83078, 7.13394, 6.31247, 5.8187, 5.34262, 6.5264, 9.62015, 11.3566, 13.2873, 15.0383, 16.5554, 18.0462, 19.7802, 20.3816, 20.5674, 19.9351, 17.3459, 14.2711, 12.9377, 12.2875, 13.1698, 11.0919, 10.5837]\n"
     ]
    }
   ],
   "source": [
    "#18 hr hrrr:\n",
    "with open('hrrr_f18_Batesville_AR.txt') as f:\n",
    "    lst=[line.split()[1] for line in f]\n",
    "    temp=[]\n",
    "    for i in lst:\n",
    "        new=i.replace(',',\"\")\n",
    "        temp.append(new)\n",
    "    temp.pop(0)\n",
    "    temp=[float(x) for x in temp]\n",
    "    #print(temp.index(6.91541))\n",
    "    temp=temp[2196:2221]\n",
    "    print(temp)\n",
    "    #print(len(temp))\n",
    "#full time period is [2015:2112]"
   ]
  },
  {
   "cell_type": "code",
   "execution_count": 113,
   "id": "85b5abc7",
   "metadata": {},
   "outputs": [
    {
     "name": "stdout",
     "output_type": "stream",
     "text": [
      "[5.4, 4.9, 3.9, 2.6, 2.2, 1.3, 1.2, 2.1, 7.2, 11.5, 13.5, 15.2, 16.3, 17.3, 18.3, 19.0, 18.8, 18.2, 17.0, 15.3, 13.2, 12.9, 12.3, 11.6, 12.0]\n"
     ]
    }
   ],
   "source": [
    "#Air Temp CRN:\n",
    "with open('CRNH0203-2022-AR_Batesville_8_WNW.txt') as f:\n",
    "    lst=[line.split()[9] for line in f]\n",
    "    #print(lst)\n",
    "    temp_crn=[]\n",
    "    for i in lst:\n",
    "        new=i.replace(',',\"\")\n",
    "        temp_crn.append(new)\n",
    "    temp_crn=[float(x) for x in temp_crn]\n",
    "    temp_crn=temp_crn[2213:2238]\n",
    "    print(temp_crn)\n",
    "    #print(len(temp_crn))\n",
    "    # print(temp_crn[2124])"
   ]
  },
  {
   "cell_type": "code",
   "execution_count": 114,
   "id": "b551e389",
   "metadata": {},
   "outputs": [
    {
     "name": "stdout",
     "output_type": "stream",
     "text": [
      "[3.6168499999999995, 3.6570400000000003, 3.93078, 4.533939999999999, 4.11247, 4.5187, 4.14262, 4.426399999999999, 2.4201500000000005, -0.14339999999999975, -0.2126999999999999, -0.16169999999999973, 0.2553999999999981, 0.7461999999999982, 1.4802, 1.3815999999999988, 1.7673999999999985, 1.7350999999999992, 0.3459000000000003, -1.0289000000000001, -0.26229999999999976, -0.6125000000000007, 0.8697999999999997, -0.5080999999999989, -1.4162999999999997]\n"
     ]
    }
   ],
   "source": [
    "difference4_bat = []\n",
    "\n",
    "zip_object = zip(temp, temp_crn)\n",
    "for temp_i, temp_crn_i in zip_object:\n",
    "    difference4_bat.append(temp_i-temp_crn_i)\n",
    "\n",
    "print(difference4_bat)"
   ]
  },
  {
   "cell_type": "markdown",
   "id": "0d9981b2",
   "metadata": {},
   "source": [
    "<font size=\"3\">Lafayette, LA: 1700 UTC 30 March 2022-1700 UTC 31 March 2022</font>"
   ]
  },
  {
   "cell_type": "code",
   "execution_count": 115,
   "id": "2cc1eca8",
   "metadata": {},
   "outputs": [
    {
     "name": "stdout",
     "output_type": "stream",
     "text": [
      "[16.8918, 15.432, 14.1433, 14.3839, 13.5, 13.3187, 12.5301, 14.2139, 19.4951, 22.8566, 24.8498, 26.9133, 27.8679, 28.8587, 29.0927, 29.3816, 29.0049, 27.8101, 25.9084, 21.7086, 19.8127, 18.9125, 18.1698, 17.5294, 17.0837]\n"
     ]
    }
   ],
   "source": [
    "#18 hr hrrr:\n",
    "with open('hrrr_f18_Lafayette_LA.txt') as f:\n",
    "    lst=[line.split()[1] for line in f]\n",
    "    temp=[]\n",
    "    for i in lst:\n",
    "        new=i.replace(',',\"\")\n",
    "        temp.append(new)\n",
    "    temp.pop(0)\n",
    "    temp=[float(x) for x in temp]\n",
    "    #print(temp.index(6.91541))\n",
    "    temp=temp[2196:2221]\n",
    "    print(temp)\n",
    "    #print(len(temp))\n",
    "#full time period is [2015:2112]"
   ]
  },
  {
   "cell_type": "code",
   "execution_count": 116,
   "id": "9e439b3f",
   "metadata": {},
   "outputs": [
    {
     "name": "stdout",
     "output_type": "stream",
     "text": [
      "[13.8, 12.9, 12.0, 11.5, 11.2, 11.6, 11.7, 12.0, 15.7, 19.4, 21.7, 23.6, 24.8, 25.8, 26.8, 27.1, 27.1, 26.6, 24.5, 21.5, 19.7, 19.1, 18.3, 16.8, 16.0]\n"
     ]
    }
   ],
   "source": [
    "#Air Temp CRN:\n",
    "with open('CRNH0203-2022-LA_Lafayette_13_SE.txt') as f:\n",
    "    lst=[line.split()[9] for line in f]\n",
    "    #print(lst)\n",
    "    temp_crn=[]\n",
    "    for i in lst:\n",
    "        new=i.replace(',',\"\")\n",
    "        temp_crn.append(new)\n",
    "    temp_crn=[float(x) for x in temp_crn]\n",
    "    temp_crn=temp_crn[2213:2238]\n",
    "    print(temp_crn)\n",
    "    #print(len(temp_crn))\n",
    "    # print(temp_crn[2124])"
   ]
  },
  {
   "cell_type": "code",
   "execution_count": 117,
   "id": "e3b63d72",
   "metadata": {},
   "outputs": [
    {
     "name": "stdout",
     "output_type": "stream",
     "text": [
      "[3.091799999999999, 2.532, 2.1433, 2.8839000000000006, 2.3000000000000007, 1.7187000000000001, 0.8300999999999998, 2.2139000000000006, 3.7951000000000015, 3.4566000000000017, 3.149799999999999, 3.313299999999998, 3.067899999999998, 3.058699999999998, 2.2927, 2.2815999999999974, 1.9048999999999978, 1.210099999999997, 1.4084000000000003, 0.20860000000000056, 0.11270000000000024, -0.1875, -0.1302000000000021, 0.7293999999999983, 1.0837000000000003]\n"
     ]
    }
   ],
   "source": [
    "difference4_laf = []\n",
    "\n",
    "zip_object = zip(temp, temp_crn)\n",
    "for temp_i, temp_crn_i in zip_object:\n",
    "    difference4_laf.append(temp_i-temp_crn_i)\n",
    "\n",
    "print(difference4_laf)"
   ]
  },
  {
   "cell_type": "markdown",
   "id": "cfb8227a",
   "metadata": {},
   "source": [
    "<font size=\"3\">Monroe, LA: 1700 UTC 30 March 2022-1700 UTC 31 March 2022</font>"
   ]
  },
  {
   "cell_type": "code",
   "execution_count": 118,
   "id": "a28ac08b",
   "metadata": {},
   "outputs": [
    {
     "name": "stdout",
     "output_type": "stream",
     "text": [
      "[13.1418, 12.682, 12.0808, 11.6339, 11.3125, 10.6937, 10.2801, 11.9014, 14.4951, 16.6691, 18.8498, 21.4133, 23.3054, 24.6087, 25.7177, 25.9441, 25.6924, 24.9976, 23.0959, 20.1461, 18.6252, 17.475, 16.4823, 15.2169, 14.7087]\n"
     ]
    }
   ],
   "source": [
    "#18 hr hrrr:\n",
    "with open('hrrr_f18_Monroe_LA.txt') as f:\n",
    "    lst=[line.split()[1] for line in f]\n",
    "    temp=[]\n",
    "    for i in lst:\n",
    "        new=i.replace(',',\"\")\n",
    "        temp.append(new)\n",
    "    temp.pop(0)\n",
    "    temp=[float(x) for x in temp]\n",
    "    #print(temp.index(6.91541))\n",
    "    temp=temp[2196:2221]\n",
    "    print(temp)\n",
    "    #print(len(temp))\n",
    "#full time period is [2015:2112]"
   ]
  },
  {
   "cell_type": "code",
   "execution_count": 119,
   "id": "2fd2ca27",
   "metadata": {},
   "outputs": [
    {
     "name": "stdout",
     "output_type": "stream",
     "text": [
      "[10.2, 9.3, 8.7, 8.1, 7.4, 6.9, 6.6, 7.0, 11.4, 17.5, 20.4, 22.1, 23.4, 24.0, 24.8, 24.9, 25.2, 24.8, 23.2, 18.9, 16.2, 14.8, 14.1, 13.9, 12.9]\n"
     ]
    }
   ],
   "source": [
    "#Air Temp CRN:\n",
    "with open('CRNH0203-2022-LA_Monroe_26_N.txt') as f:\n",
    "    lst=[line.split()[9] for line in f]\n",
    "    #print(lst)\n",
    "    temp_crn=[]\n",
    "    for i in lst:\n",
    "        new=i.replace(',',\"\")\n",
    "        temp_crn.append(new)\n",
    "    temp_crn=[float(x) for x in temp_crn]\n",
    "    temp_crn=temp_crn[2213:2238]\n",
    "    print(temp_crn)\n",
    "    #print(len(temp_crn))\n",
    "    # print(temp_crn[2124])"
   ]
  },
  {
   "cell_type": "code",
   "execution_count": 120,
   "id": "7e1a3bd7",
   "metadata": {},
   "outputs": [
    {
     "name": "stdout",
     "output_type": "stream",
     "text": [
      "[2.9418000000000006, 3.3819999999999997, 3.3808000000000007, 3.533900000000001, 3.9124999999999996, 3.7936999999999994, 3.6800999999999995, 4.901400000000001, 3.0951000000000004, -0.8308999999999997, -1.5502000000000002, -0.6867000000000019, -0.0945999999999998, 0.6086999999999989, 0.9177, 1.0441000000000003, 0.49239999999999995, 0.19759999999999778, -0.10409999999999897, 1.246100000000002, 2.4252000000000002, 2.6750000000000007, 2.382299999999999, 1.3169000000000004, 1.8087]\n"
     ]
    }
   ],
   "source": [
    "difference4_mon = []\n",
    "\n",
    "zip_object = zip(temp, temp_crn)\n",
    "for temp_i, temp_crn_i in zip_object:\n",
    "    difference4_mon.append(temp_i-temp_crn_i)\n",
    "\n",
    "print(difference4_mon)"
   ]
  },
  {
   "cell_type": "markdown",
   "id": "0c50d963",
   "metadata": {},
   "source": [
    "<font size=\"3\">Holly Springs, MS: 2000 UTC 30 March 2022-2000 UTC 31 March 2022</font>"
   ]
  },
  {
   "cell_type": "code",
   "execution_count": 121,
   "id": "56a64b04",
   "metadata": {},
   "outputs": [
    {
     "name": "stdout",
     "output_type": "stream",
     "text": [
      "[10.2668, 9.43204, 7.70578, 7.25894, 6.37497, 5.8187, 5.46762, 7.7764, 10.4326, 12.1066, 13.7873, 16.1008, 17.4304, 18.4212, 19.5302, 19.8191, 19.5674, 19.0601, 17.1584, 14.4586, 12.8127, 12.0375, 11.4198, 10.5919, 10.0212]\n"
     ]
    }
   ],
   "source": [
    "#18 hr hrrr:\n",
    "with open('hrrr_f18_Holly Springs_MS.txt') as f:\n",
    "    lst=[line.split()[1] for line in f]\n",
    "    temp=[]\n",
    "    for i in lst:\n",
    "        new=i.replace(',',\"\")\n",
    "        temp.append(new)\n",
    "    temp.pop(0)\n",
    "    temp=[float(x) for x in temp]\n",
    "    #print(temp.index(6.91541))\n",
    "    temp=temp[2196:2221]\n",
    "    print(temp)\n",
    "    #print(len(temp))\n",
    "#full time period is [2015:2112]"
   ]
  },
  {
   "cell_type": "code",
   "execution_count": 122,
   "id": "5c670656",
   "metadata": {},
   "outputs": [
    {
     "name": "stdout",
     "output_type": "stream",
     "text": [
      "[6.9, 8.0, 7.8, 8.2, 6.9, 6.1, 4.9, 5.7, 10.3, 12.4, 14.4, 15.8, 17.2, 18.4, 19.1, 19.6, 19.9, 19.9, 17.7, 12.7, 9.6, 8.6, 7.2, 6.2, 6.5]\n"
     ]
    }
   ],
   "source": [
    "#Air Temp CRN:\n",
    "with open('CRNH0203-2022-MS_Holly_Springs_4_N.txt') as f:\n",
    "    lst=[line.split()[9] for line in f]\n",
    "    #print(lst)\n",
    "    temp_crn=[]\n",
    "    for i in lst:\n",
    "        new=i.replace(',',\"\")\n",
    "        temp_crn.append(new)\n",
    "    temp_crn=[float(x) for x in temp_crn]\n",
    "    temp_crn=temp_crn[2213:2238]\n",
    "    print(temp_crn)\n",
    "    #print(len(temp_crn))\n",
    "    # print(temp_crn[2124])"
   ]
  },
  {
   "cell_type": "code",
   "execution_count": 123,
   "id": "179b5d93",
   "metadata": {},
   "outputs": [
    {
     "name": "stdout",
     "output_type": "stream",
     "text": [
      "[3.3667999999999996, 1.4320400000000006, -0.09421999999999997, -0.9410599999999993, -0.5250300000000001, -0.2812999999999999, 0.5676199999999998, 2.0763999999999996, 0.13260000000000005, -0.2934000000000001, -0.6127000000000002, 0.30079999999999885, 0.2303999999999995, 0.02120000000000033, 0.43019999999999925, 0.2190999999999974, -0.33259999999999934, -0.8399000000000001, -0.541599999999999, 1.7586000000000013, 3.2127, 3.4375, 4.2198, 4.391900000000001, 3.5212000000000003]\n"
     ]
    }
   ],
   "source": [
    "difference4_hol = []\n",
    "\n",
    "zip_object = zip(temp, temp_crn)\n",
    "for temp_i, temp_crn_i in zip_object:\n",
    "    difference4_hol.append(temp_i-temp_crn_i)\n",
    "\n",
    "print(difference4_hol)"
   ]
  },
  {
   "cell_type": "markdown",
   "id": "6134dcfd",
   "metadata": {},
   "source": [
    "<font size=\"3\">Newton, MS: 2000 UTC 30 March 2022-2000 UTC 31 March 2022</font>"
   ]
  },
  {
   "cell_type": "code",
   "execution_count": 124,
   "id": "367b0555",
   "metadata": {},
   "outputs": [
    {
     "name": "stdout",
     "output_type": "stream",
     "text": [
      "[12.5168, 12.432, 12.0183, 12.3214, 10.6875, 9.7562, 9.53012, 12.2139, 15.3701, 18.7316, 20.9123, 22.8508, 23.5554, 23.9212, 24.5927, 24.8191, 24.3799, 23.2476, 21.4709, 18.8961, 17.5002, 16.225, 15.2323, 13.9044, 13.1462]\n"
     ]
    }
   ],
   "source": [
    "#18 hr hrrr:\n",
    "with open('hrrr_f18_Newton_MS.txt') as f:\n",
    "    lst=[line.split()[1] for line in f]\n",
    "    temp=[]\n",
    "    for i in lst:\n",
    "        new=i.replace(',',\"\")\n",
    "        temp.append(new)\n",
    "    temp.pop(0)\n",
    "    temp=[float(x) for x in temp]\n",
    "    #print(temp.index(6.91541))\n",
    "    temp=temp[2196:2221]\n",
    "    print(temp)\n",
    "    #print(len(temp))\n",
    "#full time period is [2015:2112]"
   ]
  },
  {
   "cell_type": "code",
   "execution_count": 125,
   "id": "3910adc0",
   "metadata": {},
   "outputs": [
    {
     "name": "stdout",
     "output_type": "stream",
     "text": [
      "[8.8, 8.1, 7.4, 7.1, 6.5, 6.1, 5.7, 6.7, 11.9, 16.9, 19.3, 20.7, 21.8, 22.9, 23.3, 23.6, 23.6, 23.5, 22.2, 17.4, 14.2, 12.2, 11.1, 10.1, 9.1]\n"
     ]
    }
   ],
   "source": [
    "#Air Temp CRN:\n",
    "with open('CRNH0203-2022-MS_Newton_5_ENE.txt') as f:\n",
    "    lst=[line.split()[9] for line in f]\n",
    "    #print(lst)\n",
    "    temp_crn=[]\n",
    "    for i in lst:\n",
    "        new=i.replace(',',\"\")\n",
    "        temp_crn.append(new)\n",
    "    temp_crn=[float(x) for x in temp_crn]\n",
    "    temp_crn=temp_crn[2213:2238]\n",
    "    print(temp_crn)\n",
    "    #print(len(temp_crn))\n",
    "    # print(temp_crn[2124])"
   ]
  },
  {
   "cell_type": "code",
   "execution_count": 126,
   "id": "ba33a397",
   "metadata": {},
   "outputs": [
    {
     "name": "stdout",
     "output_type": "stream",
     "text": [
      "[3.716799999999999, 4.332000000000001, 4.6183, 5.221400000000001, 4.1875, 3.6562, 3.83012, 5.5139000000000005, 3.4701000000000004, 1.8316000000000017, 1.6122999999999976, 2.1508000000000003, 1.755399999999998, 1.0212000000000003, 1.2927, 1.2190999999999974, 0.7798999999999978, -0.2524000000000015, -0.729099999999999, 1.496100000000002, 3.3002000000000002, 4.025000000000002, 4.132300000000001, 3.804400000000001, 4.046200000000001]\n"
     ]
    }
   ],
   "source": [
    "difference4_new = []\n",
    "\n",
    "zip_object = zip(temp, temp_crn)\n",
    "for temp_i, temp_crn_i in zip_object:\n",
    "    difference4_new.append(temp_i-temp_crn_i)\n",
    "\n",
    "print(difference4_new)"
   ]
  },
  {
   "cell_type": "markdown",
   "id": "7bd00410",
   "metadata": {},
   "source": [
    "<font size=\"3\">Gainesville, AL: 2300 UTC 30 March 2022-2300 UTC 31 March 2022</font>"
   ]
  },
  {
   "cell_type": "code",
   "execution_count": 127,
   "id": "ed60354b",
   "metadata": {},
   "outputs": [
    {
     "name": "stdout",
     "output_type": "stream",
     "text": [
      "[12.1418, 11.932, 11.5183, 10.8839, 10.0625, 9.0062, 8.40512, 11.7139, 14.4326, 16.7316, 19.0373, 21.6633, 22.1804, 22.8587, 23.5302, 23.6316, 23.3174, 22.4976, 20.5334, 17.7711, 16.0627, 14.725, 13.6698, 12.1544, 11.8962]\n"
     ]
    }
   ],
   "source": [
    "#18 hr hrrr:\n",
    "with open('hrrr_f18_Gainesville_AL (1).txt') as f:\n",
    "    lst=[line.split()[1] for line in f]\n",
    "    temp=[]\n",
    "    for i in lst:\n",
    "        new=i.replace(',',\"\")\n",
    "        temp.append(new)\n",
    "    temp.pop(0)\n",
    "    temp=[float(x) for x in temp]\n",
    "    #print(temp.index(6.91541))\n",
    "    temp=temp[2196:2221]\n",
    "    print(temp)\n",
    "    #print(len(temp))\n",
    "#full time period is [2015:2112]"
   ]
  },
  {
   "cell_type": "code",
   "execution_count": 128,
   "id": "6f4a37d7",
   "metadata": {},
   "outputs": [
    {
     "name": "stdout",
     "output_type": "stream",
     "text": [
      "[10.0, 9.4, 9.0, 8.4, 8.3, 8.1, 7.4, 9.0, 12.7, 15.9, 18.6, 20.1, 20.9, 21.7, 22.0, 22.4, 22.2, 21.9, 20.9, 17.5, 14.4, 12.8, 11.3, 10.0, 9.4]\n"
     ]
    }
   ],
   "source": [
    "#Air Temp CRN:\n",
    "with open('CRNH0203-2022-AL_Gainesville_2_NE.txt') as f:\n",
    "    lst=[line.split()[9] for line in f]\n",
    "    #print(lst)\n",
    "    temp_crn=[]\n",
    "    for i in lst:\n",
    "        new=i.replace(',',\"\")\n",
    "        temp_crn.append(new)\n",
    "    temp_crn=[float(x) for x in temp_crn]\n",
    "    temp_crn=temp_crn[2213:2238]\n",
    "    print(temp_crn)\n",
    "    #print(len(temp_crn))\n",
    "    # print(temp_crn[2124])"
   ]
  },
  {
   "cell_type": "code",
   "execution_count": 129,
   "id": "fb6f4157",
   "metadata": {},
   "outputs": [
    {
     "name": "stdout",
     "output_type": "stream",
     "text": [
      "[2.1418, 2.532, 2.5183, 2.4839, 1.7624999999999993, 0.9062000000000001, 1.0051199999999998, 2.7139000000000006, 1.7326000000000015, 0.8315999999999999, 0.4372999999999969, 1.5632999999999981, 1.2804000000000002, 1.1586999999999996, 1.5302000000000007, 1.2316000000000003, 1.1174, 0.5975999999999999, -0.36659999999999826, 0.27110000000000056, 1.6626999999999992, 1.924999999999999, 2.3697999999999997, 2.1544000000000008, 2.4962]\n"
     ]
    }
   ],
   "source": [
    "difference4_gai = []\n",
    "\n",
    "zip_object = zip(temp, temp_crn)\n",
    "for temp_i, temp_crn_i in zip_object:\n",
    "    difference4_gai.append(temp_i-temp_crn_i)\n",
    "\n",
    "print(difference4_gai)"
   ]
  },
  {
   "cell_type": "markdown",
   "id": "7a50447a",
   "metadata": {},
   "source": [
    "<font size=\"3\">Fairhope, AL: 0100 UTC 31 March 2022-0100 UTC 1 April 2022</font>"
   ]
  },
  {
   "cell_type": "code",
   "execution_count": 130,
   "id": "8758557d",
   "metadata": {},
   "outputs": [
    {
     "name": "stdout",
     "output_type": "stream",
     "text": [
      "[13.8293, 12.6195, 12.3308, 11.9464, 11.25, 11.0062, 10.9051, 13.9014, 17.3076, 19.7316, 21.8498, 23.7258, 25.3054, 25.8587, 26.2802, 26.1941, 25.6924, 24.5601, 22.3459, 20.1461, 17.5002, 16.6625, 16.3573, 15.9669, 15.6462]\n"
     ]
    }
   ],
   "source": [
    "#18 hr hrrr:\n",
    "with open('hrrr_f18_Fairhope_AL.txt') as f:\n",
    "    lst=[line.split()[1] for line in f]\n",
    "    temp=[]\n",
    "    for i in lst:\n",
    "        new=i.replace(',',\"\")\n",
    "        temp.append(new)\n",
    "    temp.pop(0)\n",
    "    temp=[float(x) for x in temp]\n",
    "    #print(temp.index(6.91541))\n",
    "    temp=temp[2196:2221]\n",
    "    print(temp)\n",
    "    #print(len(temp))\n",
    "#full time period is [2015:2112]"
   ]
  },
  {
   "cell_type": "code",
   "execution_count": 131,
   "id": "47cbc5ba",
   "metadata": {},
   "outputs": [
    {
     "name": "stdout",
     "output_type": "stream",
     "text": [
      "[8.9, 8.8, 8.3, 7.7, 7.6, 7.6, 7.3, 8.5, 15.7, 19.0, 21.2, 22.6, 22.8, 24.1, 24.9, 25.2, 25.2, 24.8, 23.5, 19.4, 16.8, 15.3, 13.4, 12.6, 11.9]\n"
     ]
    }
   ],
   "source": [
    "#Air Temp CRN:\n",
    "with open('CRNH0203-2022-AL_Fairhope_3_NE.txt') as f:\n",
    "    lst=[line.split()[9] for line in f]\n",
    "    #print(lst)\n",
    "    temp_crn=[]\n",
    "    for i in lst:\n",
    "        new=i.replace(',',\"\")\n",
    "        temp_crn.append(new)\n",
    "    temp_crn=[float(x) for x in temp_crn]\n",
    "    temp_crn=temp_crn[2213:2238]\n",
    "    print(temp_crn)\n",
    "    #print(len(temp_crn))\n",
    "    # print(temp_crn[2124])"
   ]
  },
  {
   "cell_type": "code",
   "execution_count": 132,
   "id": "fda9ecfb",
   "metadata": {},
   "outputs": [
    {
     "name": "stdout",
     "output_type": "stream",
     "text": [
      "[4.9293, 3.8194999999999997, 4.030799999999999, 4.2464, 3.6500000000000004, 3.4062, 3.6050999999999993, 5.401400000000001, 1.6076000000000015, 0.7316000000000003, 0.649799999999999, 1.1257999999999981, 2.505399999999998, 1.7586999999999975, 1.380200000000002, 0.9940999999999995, 0.49239999999999995, -0.23990000000000222, -1.1540999999999997, 0.746100000000002, 0.7001999999999988, 1.3625000000000007, 2.9572999999999983, 3.366900000000001, 3.7462]\n"
     ]
    }
   ],
   "source": [
    "difference4_fai = []\n",
    "\n",
    "zip_object = zip(temp, temp_crn)\n",
    "for temp_i, temp_crn_i in zip_object:\n",
    "    difference4_fai.append(temp_i-temp_crn_i)\n",
    "\n",
    "print(difference4_fai)"
   ]
  },
  {
   "cell_type": "markdown",
   "id": "590d21e7",
   "metadata": {},
   "source": [
    "<font size=\"3\">**Selma, AL: 0100 UTC 31 March 2022-0100 UTC 1 April 2022</font>"
   ]
  },
  {
   "cell_type": "code",
   "execution_count": 133,
   "id": "41c334a1",
   "metadata": {},
   "outputs": [
    {
     "name": "stdout",
     "output_type": "stream",
     "text": [
      "[11.7043, 10.807, 10.2683, 10.0089, 9.62497, 8.8812, 8.59262, 11.0889, 14.0576, 16.1066, 17.9748, 20.4133, 21.5554, 22.7962, 23.3427, 23.6316, 22.9424, 21.3726, 19.2834, 16.8336, 15.2502, 14.475, 13.4198, 12.4669, 11.2087]\n",
      "25\n",
      "[9.3, 8.5, 7.9, 7.6, 7.1, 6.4, 6.0, 8.0, 13.0, 16.6, 19.1, 20.9, 22.0, 23.0, 23.3, 23.6, 23.6, 23.1, 21.1, 15.9, 13.1, 11.7, 10.2, 8.9, 8.2]\n",
      "25\n",
      "[2.404299999999999, 2.3070000000000004, 2.3682999999999996, 2.408900000000001, 2.5249699999999997, 2.4811999999999994, 2.59262, 3.0889000000000006, 1.0576000000000008, -0.49340000000000117, -1.125200000000003, -0.486699999999999, -0.4446000000000012, -0.2038000000000011, 0.04269999999999996, 0.03159999999999741, -0.6576000000000022, -1.727400000000003, -1.816600000000001, 0.9336000000000002, 2.1502, 2.7750000000000004, 3.219800000000001, 3.5669000000000004, 3.008700000000001]\n"
     ]
    }
   ],
   "source": [
    "#18 hr hrrr:\n",
    "with open('hrrr_f18_Selma_AL.txt') as f:\n",
    "    lst=[line.split()[1] for line in f]\n",
    "    temp=[]\n",
    "    for i in lst:\n",
    "        new=i.replace(',',\"\")\n",
    "        temp.append(new)\n",
    "    temp.pop(0)\n",
    "    temp=[float(x) for x in temp]\n",
    "    #print(temp.index(6.91541))\n",
    "    temp=temp[2196:2221]\n",
    "#Air Temp CRN:\n",
    "with open('CRNH0203-2022-AL_Selma_13_WNW.txt') as f:\n",
    "    lst=[line.split()[9] for line in f]\n",
    "    #print(lst)\n",
    "    temp_crn=[]\n",
    "    for i in lst:\n",
    "        new=i.replace(',',\"\")\n",
    "        temp_crn.append(new)\n",
    "    temp_crn=[float(x) for x in temp_crn]\n",
    "    temp_crn=temp_crn[2213:2238]\n",
    "\n",
    "    print(temp)\n",
    "    print(len(temp))\n",
    "    print(temp_crn)\n",
    "    print(len(temp_crn))\n",
    "#full time period is [2015:2112]\n",
    "difference4_sel = []\n",
    "\n",
    "zip_object = zip(temp, temp_crn)\n",
    "for temp_i, temp_crn_i in zip_object:\n",
    "    difference4_sel.append(temp_i-temp_crn_i)\n",
    "\n",
    "print(difference4_sel)\n",
    "#print(len(difference3_sel))"
   ]
  },
  {
   "cell_type": "markdown",
   "id": "7bcce798",
   "metadata": {},
   "source": [
    "<font size=\"3\">Bowling Green, KY: 0100 UTC 31 March 2022-0100 UTC 1 April 2022</font>"
   ]
  },
  {
   "cell_type": "code",
   "execution_count": 134,
   "id": "71ae764e",
   "metadata": {},
   "outputs": [
    {
     "name": "stdout",
     "output_type": "stream",
     "text": [
      "[5.01685, 4.49454, 3.64328, 3.69644, 2.81247, 1.9437, 1.71762, 3.1514, 5.12015, 7.7316, 9.91232, 12.8508, 13.9304, 14.6087, 15.9052, 16.0066, 15.6299, 14.9351, 13.0334, 11.2086, 10.3127, 9.72498, 8.4823, 8.52936, 7.89618]\n"
     ]
    }
   ],
   "source": [
    "#18 hr hrrr:\n",
    "with open('hrrr_f18_Bowling Green_KY.txt') as f:\n",
    "    lst=[line.split()[1] for line in f]\n",
    "    temp=[]\n",
    "    for i in lst:\n",
    "        new=i.replace(',',\"\")\n",
    "        temp.append(new)\n",
    "    temp.pop(0)\n",
    "    temp=[float(x) for x in temp]\n",
    "    #print(temp.index(6.91541))\n",
    "    temp=temp[2196:2221]\n",
    "#     x = np.array(temp)\n",
    "#     temp= ma.masked_array(x, mask=[0, 0, 0, 0, 0,0,1,0,0,0,0,0,0,0,0,0,0,0,0,0,0,0,0,0,0])\n",
    "    #temp=temp[2015:2063]\n",
    "    print(temp)\n",
    "    #print(len(temp))\n",
    "#full time period is [2015:2112]"
   ]
  },
  {
   "cell_type": "code",
   "execution_count": 135,
   "id": "d8285c8c",
   "metadata": {},
   "outputs": [
    {
     "name": "stdout",
     "output_type": "stream",
     "text": [
      "[6.5, 5.3, 3.9, 3.1, 2.4, 1.9, 1.6, 3.4, 6.0, 8.6, 11.1, 12.9, 14.2, 15.2, 15.8, 16.0, 16.1, 15.8, 14.2, 12.7, 11.0, 10.4, 9.3, 8.8, 10.3]\n"
     ]
    }
   ],
   "source": [
    "#Air Temp CRN:\n",
    "with open('CRNH0203-2022-KY_Bowling_Green_21_NNE.txt') as f:\n",
    "    lst=[line.split()[9] for line in f]\n",
    "    #print(lst)\n",
    "    temp_crn=[]\n",
    "    for i in lst:\n",
    "        new=i.replace(',',\"\")\n",
    "        temp_crn.append(new)\n",
    "    temp_crn=[float(x) for x in temp_crn]\n",
    "    temp_crn=temp_crn[2213:2238]\n",
    "#     y = np.array(temp_crn)\n",
    "#     temp_crn = ma.masked_array(y, mask=[0, 0, 0, 0, 0,0,1,0,0,0,0,0,0,0,0,0,0,0,0,0,0,0,0,0,0])\n",
    "    print(temp_crn)\n",
    "    #print(len(temp_crn))\n",
    "    # print(temp_crn[2124])"
   ]
  },
  {
   "cell_type": "code",
   "execution_count": 136,
   "id": "91981297",
   "metadata": {},
   "outputs": [
    {
     "name": "stdout",
     "output_type": "stream",
     "text": [
      "[-1.4831500000000002, -0.8054600000000001, -0.25672000000000006, 0.5964399999999999, 0.4124699999999999, 0.04370000000000007, 0.11761999999999984, -0.2485999999999997, -0.8798500000000002, -0.8683999999999994, -1.1876800000000003, -0.0492000000000008, -0.26959999999999873, -0.5912999999999986, 0.10519999999999996, 0.006599999999998829, -0.4701000000000022, -0.8649000000000004, -1.166599999999999, -1.4913999999999987, -0.6873000000000005, -0.67502, -0.8177000000000003, -0.2706400000000002, -2.4038200000000005]\n"
     ]
    }
   ],
   "source": [
    "difference4_bow = []\n",
    "\n",
    "zip_object = zip(temp, temp_crn)\n",
    "for temp_i, temp_crn_i in zip_object:\n",
    "    difference4_bow.append(temp_i-temp_crn_i)\n",
    "\n",
    "print(difference4_bow)"
   ]
  },
  {
   "cell_type": "markdown",
   "id": "2da18b33",
   "metadata": {},
   "source": [
    "<font size=\"3\">Gadsden, AL: 0200 UTC 31 March 2022-0200 UTC 1 April 2022</font>"
   ]
  },
  {
   "cell_type": "code",
   "execution_count": 137,
   "id": "6e2929b2",
   "metadata": {},
   "outputs": [
    {
     "name": "stdout",
     "output_type": "stream",
     "text": [
      "[11.2043, 10.932, 10.1433, 9.25894, 8.43747, 7.3812, 6.96762, 8.3389, 10.2451, 12.3566, 14.0998, 16.1008, 17.0554, 17.8587, 18.2802, 18.5066, 17.6924, 16.8101, 14.5959, 12.9586, 11.9377, 10.975, 10.2948, 9.40436, 8.77118]\n"
     ]
    }
   ],
   "source": [
    "#18 hr hrrr:\n",
    "with open('hrrr_f18_Gadsden_AL.txt') as f:\n",
    "    lst=[line.split()[1] for line in f]\n",
    "    temp=[]\n",
    "    for i in lst:\n",
    "        new=i.replace(',',\"\")\n",
    "        temp.append(new)\n",
    "    temp.pop(0)\n",
    "    temp=[float(x) for x in temp]\n",
    "    #print(temp.index(6.91541))\n",
    "    temp=temp[2196:2221]\n",
    "    print(temp)\n",
    "    #print(len(temp))\n",
    "#full time period is [2015:2112]"
   ]
  },
  {
   "cell_type": "code",
   "execution_count": 138,
   "id": "70748622",
   "metadata": {},
   "outputs": [
    {
     "name": "stdout",
     "output_type": "stream",
     "text": [
      "[6.3, 6.2, 5.3, 4.4, 5.1, 5.7, 6.4, 8.3, 10.3, 12.0, 13.6, 14.5, 15.4, 16.5, 17.3, 17.6, 17.6, 17.1, 15.2, 12.9, 11.5, 9.7, 7.5, 7.0, 6.5]\n"
     ]
    }
   ],
   "source": [
    "#Air Temp CRN:\n",
    "with open('CRNH0203-2022-AL_Gadsden_19_N.txt') as f:\n",
    "    lst=[line.split()[9] for line in f]\n",
    "    #print(lst)\n",
    "    temp_crn=[]\n",
    "    for i in lst:\n",
    "        new=i.replace(',',\"\")\n",
    "        temp_crn.append(new)\n",
    "    temp_crn=[float(x) for x in temp_crn]\n",
    "    temp_crn=temp_crn[2213:2238]\n",
    "    print(temp_crn)\n",
    "    #print(len(temp_crn))\n",
    "    # print(temp_crn[2124])"
   ]
  },
  {
   "cell_type": "code",
   "execution_count": 139,
   "id": "f4f3dc0e",
   "metadata": {},
   "outputs": [
    {
     "name": "stdout",
     "output_type": "stream",
     "text": [
      "[4.9043, 4.732, 4.8433, 4.8589400000000005, 3.3374699999999997, 1.6811999999999996, 0.5676199999999998, 0.038899999999999935, -0.05489999999999995, 0.35660000000000025, 0.49980000000000047, 1.6007999999999996, 1.6553999999999984, 1.358699999999999, 0.9802, 0.9065999999999974, 0.09239999999999782, -0.28990000000000293, -0.604099999999999, 0.05860000000000021, 0.43769999999999953, 1.2750000000000004, 2.7948000000000004, 2.4043600000000005, 2.2711799999999993]\n"
     ]
    }
   ],
   "source": [
    "difference4_gad = []\n",
    "\n",
    "zip_object = zip(temp, temp_crn)\n",
    "for temp_i, temp_crn_i in zip_object:\n",
    "    difference4_gad.append(temp_i-temp_crn_i)\n",
    "\n",
    "print(difference4_gad)"
   ]
  },
  {
   "cell_type": "markdown",
   "id": "bc5afa4d",
   "metadata": {},
   "source": [
    "<font size=\"3\">Newton, GA: 0700 UTC 31 March 2022-0700 UTC 1 April 2022</font>"
   ]
  },
  {
   "cell_type": "code",
   "execution_count": 140,
   "id": "fa0539eb",
   "metadata": {},
   "outputs": [
    {
     "name": "stdout",
     "output_type": "stream",
     "text": [
      "[12.7043, 11.7445, 11.2683, 10.7589, 10.125, 10.3187, 10.3426, 13.7139, 16.8076, 19.2316, 20.7248, 22.4133, 23.5554, 24.7337, 25.1552, 25.3191, 25.0674, 23.6851, 20.9084, 18.4586, 16.5627, 15.4125, 14.8573, 13.7169, 12.8962]\n"
     ]
    }
   ],
   "source": [
    "#18 hr hrrr:\n",
    "with open('hrrr_f18_Newton_GA.txt') as f:\n",
    "    lst=[line.split()[1] for line in f]\n",
    "    temp=[]\n",
    "    for i in lst:\n",
    "        new=i.replace(',',\"\")\n",
    "        temp.append(new)\n",
    "    temp.pop(0)\n",
    "    temp=[float(x) for x in temp]\n",
    "    #print(temp.index(6.91541))\n",
    "    temp=temp[2196:2221]\n",
    "    print(temp)\n",
    "    #print(len(temp))\n",
    "#full time period is [2015:2112]"
   ]
  },
  {
   "cell_type": "code",
   "execution_count": 141,
   "id": "0afdceea",
   "metadata": {},
   "outputs": [
    {
     "name": "stdout",
     "output_type": "stream",
     "text": [
      "[10.1, 9.3, 8.6, 8.4, 8.3, 8.2, 8.0, 10.6, 15.0, 17.6, 19.9, 21.6, 22.7, 23.6, 24.3, 24.8, 24.9, 24.3, 22.3, 18.5, 15.8, 13.5, 12.2, 11.2, 10.6]\n"
     ]
    }
   ],
   "source": [
    "#Air Temp CRN:\n",
    "with open('CRNH0203-2022-GA_Newton_11_SW.txt') as f:\n",
    "    lst=[line.split()[9] for line in f]\n",
    "    #print(lst)\n",
    "    temp_crn=[]\n",
    "    for i in lst:\n",
    "        new=i.replace(',',\"\")\n",
    "        temp_crn.append(new)\n",
    "    temp_crn=[float(x) for x in temp_crn]\n",
    "    temp_crn=temp_crn[2213:2238]\n",
    "    print(temp_crn)\n",
    "    #print(len(temp_crn))\n",
    "    # print(temp_crn[2124])"
   ]
  },
  {
   "cell_type": "code",
   "execution_count": 142,
   "id": "cb9fb23e",
   "metadata": {},
   "outputs": [
    {
     "name": "stdout",
     "output_type": "stream",
     "text": [
      "[2.6043000000000003, 2.4444999999999997, 2.6683000000000003, 2.3589, 1.8249999999999993, 2.1187000000000005, 2.342599999999999, 3.113900000000001, 1.8076000000000008, 1.6315999999999988, 0.8247999999999998, 0.8132999999999981, 0.8553999999999995, 1.1336999999999975, 0.8552, 0.5190999999999981, 0.16740000000000066, -0.6149000000000022, -1.3916000000000004, -0.04139999999999944, 0.7626999999999988, 1.9124999999999996, 2.657300000000001, 2.5169000000000015, 2.2962000000000007]\n"
     ]
    }
   ],
   "source": [
    "difference4_newt = []\n",
    "\n",
    "zip_object = zip(temp, temp_crn)\n",
    "for temp_i, temp_crn_i in zip_object:\n",
    "    difference4_newt.append(temp_i-temp_crn_i)\n",
    "\n",
    "print(difference4_newt)"
   ]
  },
  {
   "cell_type": "markdown",
   "id": "799b4b67",
   "metadata": {},
   "source": [
    "<font size=\"3\">Salem, MO: 0500 UTC (12:00 am CDT) 19 April 2022-0500 UTC (12:00 am CDT) 20 April 2022</font>"
   ]
  },
  {
   "cell_type": "code",
   "execution_count": 143,
   "id": "4e14606b",
   "metadata": {},
   "outputs": [
    {
     "name": "stdout",
     "output_type": "stream",
     "text": [
      "[1.10486, 0.542145, 0.24472, 0.0844421, -0.161835, -0.223541, -0.215698, 1.48685, 3.2905, 5.29208, 7.25894, 9.03424, 10.4525, 11.8652, 12.8778, 13.0588, 13.4104, 13.3111, 12.0762, 10.6087, 10.1308, 9.28384, 8.26126, 7.69431, 7.272]\n"
     ]
    }
   ],
   "source": [
    "#18 hr hrrr:\n",
    "with open('hrrr_f18_Salem_MO.txt') as f:\n",
    "    lst=[line.split()[1] for line in f]\n",
    "    temp=[]\n",
    "    for i in lst:\n",
    "        new=i.replace(',',\"\")\n",
    "        temp.append(new)\n",
    "    temp.pop(0)\n",
    "    temp=[float(x) for x in temp]\n",
    "    #print(temp.index(6.91541))\n",
    "    temp=temp[2580:2605]\n",
    "    print(temp)\n",
    "    #print(len(temp))\n",
    "#full time period is [2015:2112]"
   ]
  },
  {
   "cell_type": "code",
   "execution_count": 144,
   "id": "14d31403",
   "metadata": {},
   "outputs": [
    {
     "name": "stdout",
     "output_type": "stream",
     "text": [
      "[-0.8, 0.1, 2.0, 0.1, -2.6, -3.7, -4.3, -1.6, 3.5, 5.6, 7.4, 9.5, 11.3, 12.9, 14.1, 15.6, 16.4, 16.1, 15.0, 13.5, 11.8, 12.3, 11.5, 10.4, 9.6]\n"
     ]
    }
   ],
   "source": [
    "#Air Temp CRN:\n",
    "with open('CRNH0203-2022-MO_Salem_10_W.txt') as f:\n",
    "    lst=[line.split()[9] for line in f]\n",
    "    #print(lst)\n",
    "    temp_crn=[]\n",
    "    for i in lst:\n",
    "        new=i.replace(',',\"\")\n",
    "        temp_crn.append(new)\n",
    "    temp_crn=[float(x) for x in temp_crn]\n",
    "    temp_crn=temp_crn[2597:2622]\n",
    "    print(temp_crn)\n",
    "    #print(len(temp_crn))\n",
    "    # print(temp_crn[2124])"
   ]
  },
  {
   "cell_type": "code",
   "execution_count": 145,
   "id": "79c0dea9",
   "metadata": {},
   "outputs": [],
   "source": [
    "# hour=[]\n",
    "# for i in range(-12,13,1):\n",
    "#     hour.append(i)\n",
    "#     i+=1\n",
    "# print(len(hour))"
   ]
  },
  {
   "cell_type": "code",
   "execution_count": 146,
   "id": "361d073a",
   "metadata": {},
   "outputs": [
    {
     "name": "stdout",
     "output_type": "stream",
     "text": [
      "[1.90486, 0.442145, -1.75528, -0.0155579, 2.438165, 3.476459, 4.084302, 3.08685, -0.2094999999999998, -0.3079199999999993, -0.1410600000000004, -0.4657599999999995, -0.8475000000000001, -1.0348000000000006, -1.222199999999999, -2.5412, -2.9895999999999994, -2.7889000000000017, -2.9238, -2.8912999999999993, -1.6692, -3.016160000000001, -3.23874, -2.7056900000000006, -2.3279999999999994]\n"
     ]
    }
   ],
   "source": [
    "difference5_sal = []\n",
    "\n",
    "zip_object = zip(temp, temp_crn)\n",
    "for temp_i, temp_crn_i in zip_object:\n",
    "    difference5_sal.append(temp_i-temp_crn_i)\n",
    "\n",
    "print(difference5_sal)"
   ]
  },
  {
   "cell_type": "markdown",
   "id": "c4e69d5d",
   "metadata": {},
   "source": [
    "<font size=\"3\">Batesville, AR: 1300 UTC 30 March 2022-1300 UTC 31 March 2022</font>"
   ]
  },
  {
   "cell_type": "code",
   "execution_count": 147,
   "id": "230e673e",
   "metadata": {},
   "outputs": [
    {
     "name": "stdout",
     "output_type": "stream",
     "text": [
      "[5.72986, 4.54214, 3.93222, 3.33444, 2.96317, 2.40146, 1.8468, 4.67435, 6.978, 9.22958, 11.1339, 13.0342, 14.9525, 16.2402, 17.0653, 17.2463, 17.5354, 16.6236, 15.2637, 12.9837, 11.9433, 10.4713, 10.0113, 8.75681, 8.7095]\n"
     ]
    }
   ],
   "source": [
    "#18 hr hrrr:\n",
    "with open('hrrr_f18_Batesville_AR.txt') as f:\n",
    "    lst=[line.split()[1] for line in f]\n",
    "    temp=[]\n",
    "    for i in lst:\n",
    "        new=i.replace(',',\"\")\n",
    "        temp.append(new)\n",
    "    temp.pop(0)\n",
    "    temp=[float(x) for x in temp]\n",
    "    #print(temp.index(6.91541))\n",
    "    temp=temp[2580:2605]\n",
    "    print(temp)\n",
    "    #print(len(temp))\n",
    "#full time period is [2015:2112]"
   ]
  },
  {
   "cell_type": "code",
   "execution_count": 148,
   "id": "f2c65701",
   "metadata": {},
   "outputs": [
    {
     "name": "stdout",
     "output_type": "stream",
     "text": [
      "[3.5, 2.2, 1.7, 1.0, 0.6, -0.4, -0.2, 3.0, 7.3, 9.0, 10.8, 12.2, 13.2, 14.3, 15.3, 15.7, 15.6, 15.0, 13.9, 11.8, 8.6, 7.1, 7.0, 7.9, 8.2]\n"
     ]
    }
   ],
   "source": [
    "#Air Temp CRN:\n",
    "with open('CRNH0203-2022-AR_Batesville_8_WNW.txt') as f:\n",
    "    lst=[line.split()[9] for line in f]\n",
    "    #print(lst)\n",
    "    temp_crn=[]\n",
    "    for i in lst:\n",
    "        new=i.replace(',',\"\")\n",
    "        temp_crn.append(new)\n",
    "    temp_crn=[float(x) for x in temp_crn]\n",
    "    temp_crn=temp_crn[2597:2622]\n",
    "    print(temp_crn)\n",
    "    #print(len(temp_crn))\n",
    "    # print(temp_crn[2124])"
   ]
  },
  {
   "cell_type": "code",
   "execution_count": 149,
   "id": "a10c7447",
   "metadata": {},
   "outputs": [
    {
     "name": "stdout",
     "output_type": "stream",
     "text": [
      "[2.2298600000000004, 2.3421399999999997, 2.23222, 2.33444, 2.3631699999999998, 2.80146, 2.0468, 1.6743499999999996, -0.32200000000000006, 0.22958000000000034, 0.33389999999999986, 0.8342000000000009, 1.7525000000000013, 1.9402000000000008, 1.7652999999999999, 1.5463000000000022, 1.9353999999999996, 1.6235999999999997, 1.3636999999999997, 1.1837, 3.343300000000001, 3.3712999999999997, 3.0113000000000003, 0.8568099999999994, 0.509500000000001]\n"
     ]
    }
   ],
   "source": [
    "difference5_bat = []\n",
    "\n",
    "zip_object = zip(temp, temp_crn)\n",
    "for temp_i, temp_crn_i in zip_object:\n",
    "    difference5_bat.append(temp_i-temp_crn_i)\n",
    "\n",
    "print(difference5_bat)"
   ]
  },
  {
   "cell_type": "markdown",
   "id": "cc5b8b4e",
   "metadata": {},
   "source": [
    "<font size=\"3\">Lafayette, LA: 1700 UTC 30 March 2022-1700 UTC 31 March 2022</font>"
   ]
  },
  {
   "cell_type": "code",
   "execution_count": 150,
   "id": "88137ddd",
   "metadata": {},
   "outputs": [
    {
     "name": "stdout",
     "output_type": "stream",
     "text": [
      "[12.9799, 12.4796, 11.8697, 11.5844, 11.2132, 11.089, 11.0968, 13.2368, 15.228, 17.1671, 19.6964, 21.5342, 23.015, 23.9902, 24.8153, 24.8088, 24.7854, 23.9986, 23.0762, 20.7337, 18.8183, 17.7213, 16.8238, 16.0693, 15.9595]\n"
     ]
    }
   ],
   "source": [
    "#18 hr hrrr:\n",
    "with open('hrrr_f18_Lafayette_LA.txt') as f:\n",
    "    lst=[line.split()[1] for line in f]\n",
    "    temp=[]\n",
    "    for i in lst:\n",
    "        new=i.replace(',',\"\")\n",
    "        temp.append(new)\n",
    "    temp.pop(0)\n",
    "    temp=[float(x) for x in temp]\n",
    "    #print(temp.index(6.91541))\n",
    "    temp=temp[2580:2605]\n",
    "    print(temp)\n",
    "    #print(len(temp))\n",
    "#full time period is [2015:2112]"
   ]
  },
  {
   "cell_type": "code",
   "execution_count": 151,
   "id": "b5d1cd36",
   "metadata": {},
   "outputs": [
    {
     "name": "stdout",
     "output_type": "stream",
     "text": [
      "[13.5, 12.7, 12.0, 11.2, 10.9, 10.8, 10.7, 12.0, 14.2, 16.2, 17.9, 19.2, 20.2, 21.3, 21.9, 22.4, 22.4, 22.3, 21.2, 18.5, 16.4, 15.7, 14.9, 14.3, 13.6]\n"
     ]
    }
   ],
   "source": [
    "#Air Temp CRN:\n",
    "with open('CRNH0203-2022-LA_Lafayette_13_SE.txt') as f:\n",
    "    lst=[line.split()[9] for line in f]\n",
    "    #print(lst)\n",
    "    temp_crn=[]\n",
    "    for i in lst:\n",
    "        new=i.replace(',',\"\")\n",
    "        temp_crn.append(new)\n",
    "    temp_crn=[float(x) for x in temp_crn]\n",
    "    temp_crn=temp_crn[2597:2622]\n",
    "    print(temp_crn)\n",
    "    #print(len(temp_crn))\n",
    "    # print(temp_crn[2124])"
   ]
  },
  {
   "cell_type": "code",
   "execution_count": 152,
   "id": "e5a212f4",
   "metadata": {},
   "outputs": [
    {
     "name": "stdout",
     "output_type": "stream",
     "text": [
      "[-0.5200999999999993, -0.2203999999999997, -0.13030000000000008, 0.3844000000000012, 0.31320000000000014, 0.2889999999999997, 0.3968000000000007, 1.2368000000000006, 1.0280000000000005, 0.9671000000000021, 1.796400000000002, 2.334199999999999, 2.8150000000000013, 2.690200000000001, 2.915300000000002, 2.408800000000003, 2.3854000000000006, 1.698599999999999, 1.8762000000000008, 2.233699999999999, 2.418300000000002, 2.0213, 1.9237999999999982, 1.7692999999999977, 2.3595000000000006]\n"
     ]
    }
   ],
   "source": [
    "difference5_laf = []\n",
    "\n",
    "zip_object = zip(temp, temp_crn)\n",
    "for temp_i, temp_crn_i in zip_object:\n",
    "    difference5_laf.append(temp_i-temp_crn_i)\n",
    "\n",
    "print(difference5_laf)"
   ]
  },
  {
   "cell_type": "markdown",
   "id": "4f40f44c",
   "metadata": {},
   "source": [
    "<font size=\"3\">Monroe, LA: 1700 UTC 30 March 2022-1700 UTC 31 March 2022</font>"
   ]
  },
  {
   "cell_type": "code",
   "execution_count": 153,
   "id": "9ff95b00",
   "metadata": {},
   "outputs": [
    {
     "name": "stdout",
     "output_type": "stream",
     "text": [
      "[9.29236, 8.22964, 8.36972, 8.20944, 7.40067, 7.15146, 6.8468, 9.11185, 10.978, 12.7296, 14.3214, 15.9717, 17.39, 18.4902, 19.5653, 19.8713, 20.2229, 19.4986, 18.5137, 15.9212, 14.5058, 13.2213, 12.5738, 12.3818, 11.147]\n"
     ]
    }
   ],
   "source": [
    "#18 hr hrrr:\n",
    "with open('hrrr_f18_Monroe_LA.txt') as f:\n",
    "    lst=[line.split()[1] for line in f]\n",
    "    temp=[]\n",
    "    for i in lst:\n",
    "        new=i.replace(',',\"\")\n",
    "        temp.append(new)\n",
    "    temp.pop(0)\n",
    "    temp=[float(x) for x in temp]\n",
    "    #print(temp.index(6.91541))\n",
    "    temp=temp[2580:2605]\n",
    "    print(temp)\n",
    "    #print(len(temp))\n",
    "#full time period is [2015:2112]"
   ]
  },
  {
   "cell_type": "code",
   "execution_count": 154,
   "id": "c4cb4696",
   "metadata": {},
   "outputs": [
    {
     "name": "stdout",
     "output_type": "stream",
     "text": [
      "[9.9, 8.9, 8.4, 7.7, 7.4, 8.0, 9.8, 10.7, 12.3, 13.5, 14.9, 15.8, 16.7, 17.7, 18.2, 18.7, 19.2, 18.8, 18.0, 14.6, 11.4, 10.5, 10.2, 11.3, 11.5]\n"
     ]
    }
   ],
   "source": [
    "#Air Temp CRN:\n",
    "with open('CRNH0203-2022-LA_Monroe_26_N.txt') as f:\n",
    "    lst=[line.split()[9] for line in f]\n",
    "    #print(lst)\n",
    "    temp_crn=[]\n",
    "    for i in lst:\n",
    "        new=i.replace(',',\"\")\n",
    "        temp_crn.append(new)\n",
    "    temp_crn=[float(x) for x in temp_crn]\n",
    "    temp_crn=temp_crn[2597:2622]\n",
    "    print(temp_crn)\n",
    "    #print(len(temp_crn))\n",
    "    # print(temp_crn[2124])"
   ]
  },
  {
   "cell_type": "code",
   "execution_count": 155,
   "id": "5724c44e",
   "metadata": {},
   "outputs": [
    {
     "name": "stdout",
     "output_type": "stream",
     "text": [
      "[-0.60764, -0.6703600000000005, -0.030280000000001195, 0.5094400000000006, 0.0006699999999995043, -0.8485399999999998, -2.9532000000000007, -1.5881499999999988, -1.322000000000001, -0.7704000000000004, -0.5785999999999998, 0.17169999999999952, 0.6900000000000013, 0.7902000000000022, 1.3653000000000013, 1.1713000000000022, 1.0229, 0.698599999999999, 0.5137, 1.321200000000001, 3.1058000000000003, 2.7212999999999994, 2.373800000000001, 1.0817999999999994, -0.35299999999999976]\n"
     ]
    }
   ],
   "source": [
    "difference5_mon = []\n",
    "\n",
    "zip_object = zip(temp, temp_crn)\n",
    "for temp_i, temp_crn_i in zip_object:\n",
    "    difference5_mon.append(temp_i-temp_crn_i)\n",
    "\n",
    "print(difference5_mon)"
   ]
  },
  {
   "cell_type": "markdown",
   "id": "4c43b084",
   "metadata": {},
   "source": [
    "<font size=\"3\">Holly Springs, MS: 2000 UTC 30 March 2022-2000 UTC 31 March 2022</font>"
   ]
  },
  {
   "cell_type": "code",
   "execution_count": 156,
   "id": "4b3287a6",
   "metadata": {},
   "outputs": [
    {
     "name": "stdout",
     "output_type": "stream",
     "text": [
      "[6.10486, 5.22964, 4.68222, 4.08444, 3.52567, 3.08896, 3.0968, 5.36185, 6.9155, 8.41708, 10.0089, 11.2217, 12.515, 13.8652, 14.8153, 15.3088, 15.5979, 15.1236, 13.7637, 11.2962, 10.6933, 9.59634, 9.01126, 8.38181, 7.647]\n"
     ]
    }
   ],
   "source": [
    "#18 hr hrrr:\n",
    "with open('hrrr_f18_Holly Springs_MS.txt') as f:\n",
    "    lst=[line.split()[1] for line in f]\n",
    "    temp=[]\n",
    "    for i in lst:\n",
    "        new=i.replace(',',\"\")\n",
    "        temp.append(new)\n",
    "    temp.pop(0)\n",
    "    temp=[float(x) for x in temp]\n",
    "    #print(temp.index(6.91541))\n",
    "    temp=temp[2580:2605]\n",
    "    print(temp)\n",
    "    #print(len(temp))\n",
    "#full time period is [2015:2112]"
   ]
  },
  {
   "cell_type": "code",
   "execution_count": 157,
   "id": "5b5111e7",
   "metadata": {},
   "outputs": [
    {
     "name": "stdout",
     "output_type": "stream",
     "text": [
      "[4.0, 3.2, 3.3, 2.6, 1.5, 0.5, -0.2, 3.6, 8.0, 9.8, 11.2, 12.4, 13.6, 14.7, 15.9, 16.2, 16.8, 17.1, 15.7, 11.3, 8.1, 6.4, 5.3, 4.5, 4.5]\n"
     ]
    }
   ],
   "source": [
    "#Air Temp CRN:\n",
    "with open('CRNH0203-2022-MS_Holly_Springs_4_N.txt') as f:\n",
    "    lst=[line.split()[9] for line in f]\n",
    "    #print(lst)\n",
    "    temp_crn=[]\n",
    "    for i in lst:\n",
    "        new=i.replace(',',\"\")\n",
    "        temp_crn.append(new)\n",
    "    temp_crn=[float(x) for x in temp_crn]\n",
    "    temp_crn=temp_crn[2597:2622]\n",
    "    print(temp_crn)\n",
    "    #print(len(temp_crn))\n",
    "    # print(temp_crn[2124])"
   ]
  },
  {
   "cell_type": "code",
   "execution_count": 158,
   "id": "00e9e9b4",
   "metadata": {},
   "outputs": [
    {
     "name": "stdout",
     "output_type": "stream",
     "text": [
      "[2.1048600000000004, 2.0296399999999997, 1.3822200000000002, 1.4844399999999998, 2.02567, 2.58896, 3.2968, 1.7618499999999995, -1.0845000000000002, -1.3829200000000004, -1.1910999999999987, -1.1783000000000001, -1.084999999999999, -0.8347999999999995, -1.0846999999999998, -0.8911999999999995, -1.2021000000000015, -1.9764000000000017, -1.9362999999999992, -0.0038000000000000256, 2.593300000000001, 3.1963399999999993, 3.7112600000000002, 3.8818099999999998, 3.1470000000000002]\n"
     ]
    }
   ],
   "source": [
    "difference5_hol = []\n",
    "\n",
    "zip_object = zip(temp, temp_crn)\n",
    "for temp_i, temp_crn_i in zip_object:\n",
    "    difference5_hol.append(temp_i-temp_crn_i)\n",
    "\n",
    "print(difference5_hol)"
   ]
  },
  {
   "cell_type": "markdown",
   "id": "881ff5d8",
   "metadata": {},
   "source": [
    "<font size=\"3\">Newton, MS: 2000 UTC 30 March 2022-2000 UTC 31 March 2022</font>"
   ]
  },
  {
   "cell_type": "code",
   "execution_count": 159,
   "id": "67eef56a",
   "metadata": {},
   "outputs": [
    {
     "name": "stdout",
     "output_type": "stream",
     "text": [
      "[9.97986, 9.04214, 8.43222, 7.95944, 7.52567, 7.21396, 6.7218, 8.54935, 10.1655, 11.4796, 13.0714, 14.3467, 15.5775, 16.9277, 18.0653, 18.4963, 18.6604, 18.3736, 16.9512, 14.4212, 13.1308, 11.9713, 11.1988, 10.3193, 9.7095]\n"
     ]
    }
   ],
   "source": [
    "#18 hr hrrr:\n",
    "with open('hrrr_f18_Newton_MS.txt') as f:\n",
    "    lst=[line.split()[1] for line in f]\n",
    "    temp=[]\n",
    "    for i in lst:\n",
    "        new=i.replace(',',\"\")\n",
    "        temp.append(new)\n",
    "    temp.pop(0)\n",
    "    temp=[float(x) for x in temp]\n",
    "    #print(temp.index(6.91541))\n",
    "    temp=temp[2580:2605]\n",
    "    print(temp)\n",
    "    #print(len(temp))\n",
    "#full time period is [2015:2112]"
   ]
  },
  {
   "cell_type": "code",
   "execution_count": 160,
   "id": "60e66f5c",
   "metadata": {},
   "outputs": [
    {
     "name": "stdout",
     "output_type": "stream",
     "text": [
      "[9.1, 7.7, 7.3, 6.5, 6.0, 5.4, 5.0, 7.5, 10.2, 11.8, 13.2, 14.3, 15.6, 16.7, 17.7, 18.3, 18.7, 18.9, 17.6, 13.3, 10.8, 9.2, 8.2, 7.8, 7.0]\n"
     ]
    }
   ],
   "source": [
    "#Air Temp CRN:\n",
    "with open('CRNH0203-2022-MS_Newton_5_ENE.txt') as f:\n",
    "    lst=[line.split()[9] for line in f]\n",
    "    #print(lst)\n",
    "    temp_crn=[]\n",
    "    for i in lst:\n",
    "        new=i.replace(',',\"\")\n",
    "        temp_crn.append(new)\n",
    "    temp_crn=[float(x) for x in temp_crn]\n",
    "    temp_crn=temp_crn[2597:2622]\n",
    "    print(temp_crn)\n",
    "    #print(len(temp_crn))\n",
    "    # print(temp_crn[2124])"
   ]
  },
  {
   "cell_type": "code",
   "execution_count": 161,
   "id": "a003b5db",
   "metadata": {},
   "outputs": [
    {
     "name": "stdout",
     "output_type": "stream",
     "text": [
      "[0.8798600000000008, 1.3421399999999997, 1.1322199999999993, 1.4594399999999998, 1.5256699999999999, 1.8139599999999998, 1.7218, 1.0493500000000004, -0.03449999999999953, -0.32040000000000113, -0.12859999999999872, 0.04669999999999952, -0.022499999999999076, 0.22770000000000223, 0.3653000000000013, 0.1963000000000008, -0.03960000000000008, -0.5263999999999989, -0.6488000000000014, 1.1212, 2.3308, 2.7713, 2.998800000000001, 2.5193000000000003, 2.7095000000000002]\n"
     ]
    }
   ],
   "source": [
    "difference5_new = []\n",
    "\n",
    "zip_object = zip(temp, temp_crn)\n",
    "for temp_i, temp_crn_i in zip_object:\n",
    "    difference5_new.append(temp_i-temp_crn_i)\n",
    "\n",
    "print(difference5_new)"
   ]
  },
  {
   "cell_type": "markdown",
   "id": "6717f13d",
   "metadata": {},
   "source": [
    "<font size=\"3\">Gainesville, AL: 2300 UTC 30 March 2022-2300 UTC 31 March 2022</font>"
   ]
  },
  {
   "cell_type": "code",
   "execution_count": 162,
   "id": "2661f956",
   "metadata": {},
   "outputs": [
    {
     "name": "stdout",
     "output_type": "stream",
     "text": [
      "[9.47986, 8.85464, 8.11972, 7.52194, 7.08817, 6.52646, 6.5968, 8.54935, 10.0405, 11.0421, 12.5714, 13.4092, 14.39, 15.3652, 16.1278, 16.6213, 16.8479, 16.1236, 15.1387, 13.7962, 12.7558, 11.5338, 10.5113, 9.81931, 8.8345]\n"
     ]
    }
   ],
   "source": [
    "#18 hr hrrr:\n",
    "with open('hrrr_f18_Gainesville_AL (1).txt') as f:\n",
    "    lst=[line.split()[1] for line in f]\n",
    "    temp=[]\n",
    "    for i in lst:\n",
    "        new=i.replace(',',\"\")\n",
    "        temp.append(new)\n",
    "    temp.pop(0)\n",
    "    temp=[float(x) for x in temp]\n",
    "    #print(temp.index(6.91541))\n",
    "    temp=temp[2580:2605]\n",
    "    print(temp)\n",
    "    #print(len(temp))\n",
    "#full time period is [2015:2112]"
   ]
  },
  {
   "cell_type": "code",
   "execution_count": 163,
   "id": "8891e2d3",
   "metadata": {},
   "outputs": [
    {
     "name": "stdout",
     "output_type": "stream",
     "text": [
      "[9.8, 7.9, 7.9, 6.9, 5.8, 5.8, 6.1, 7.8, 10.2, 11.9, 13.1, 14.4, 15.3, 16.5, 17.3, 18.0, 18.3, 18.3, 16.8, 13.2, 11.0, 9.9, 9.1, 8.5, 8.0]\n"
     ]
    }
   ],
   "source": [
    "#Air Temp CRN:\n",
    "with open('CRNH0203-2022-AL_Gainesville_2_NE.txt') as f:\n",
    "    lst=[line.split()[9] for line in f]\n",
    "    #print(lst)\n",
    "    temp_crn=[]\n",
    "    for i in lst:\n",
    "        new=i.replace(',',\"\")\n",
    "        temp_crn.append(new)\n",
    "    temp_crn=[float(x) for x in temp_crn]\n",
    "    temp_crn=temp_crn[2597:2622]\n",
    "    print(temp_crn)\n",
    "    #print(len(temp_crn))\n",
    "    # print(temp_crn[2124])"
   ]
  },
  {
   "cell_type": "code",
   "execution_count": 164,
   "id": "df3f5019",
   "metadata": {},
   "outputs": [
    {
     "name": "stdout",
     "output_type": "stream",
     "text": [
      "[-0.3201400000000003, 0.9546399999999995, 0.2197199999999988, 0.6219399999999995, 1.28817, 0.7264600000000003, 0.49680000000000035, 0.7493500000000006, -0.15949999999999953, -0.8579000000000008, -0.5285999999999991, -0.9908000000000001, -0.9100000000000001, -1.1348000000000003, -1.1722000000000001, -1.3786999999999985, -1.4521000000000015, -2.176400000000001, -1.6613000000000007, 0.5962000000000014, 1.7558000000000007, 1.633799999999999, 1.4113000000000007, 1.3193099999999998, 0.8345000000000002]\n"
     ]
    }
   ],
   "source": [
    "difference5_gai = []\n",
    "\n",
    "zip_object = zip(temp, temp_crn)\n",
    "for temp_i, temp_crn_i in zip_object:\n",
    "    difference5_gai.append(temp_i-temp_crn_i)\n",
    "\n",
    "print(difference5_gai)"
   ]
  },
  {
   "cell_type": "markdown",
   "id": "7ca83d44",
   "metadata": {},
   "source": [
    "<font size=\"3\">Fairhope, AL: 0100 UTC 31 March 2022-0100 UTC 1 April 2022</font>"
   ]
  },
  {
   "cell_type": "code",
   "execution_count": 165,
   "id": "c86710c8",
   "metadata": {},
   "outputs": [
    {
     "name": "stdout",
     "output_type": "stream",
     "text": [
      "[12.2299, 11.3546, 10.9947, 10.2719, 9.96317, 9.58896, 9.9093, 11.1743, 12.603, 14.2921, 16.1964, 17.3467, 18.9525, 19.9902, 20.8778, 20.9963, 20.9104, 19.4986, 18.0137, 16.2337, 15.1933, 14.0338, 13.1363, 12.5068, 12.147]\n"
     ]
    }
   ],
   "source": [
    "#18 hr hrrr:\n",
    "with open('hrrr_f18_Fairhope_AL.txt') as f:\n",
    "    lst=[line.split()[1] for line in f]\n",
    "    temp=[]\n",
    "    for i in lst:\n",
    "        new=i.replace(',',\"\")\n",
    "        temp.append(new)\n",
    "    temp.pop(0)\n",
    "    temp=[float(x) for x in temp]\n",
    "    #print(temp.index(6.91541))\n",
    "    temp=temp[2580:2605]\n",
    "    print(temp)\n",
    "    #print(len(temp))\n",
    "#full time period is [2015:2112]"
   ]
  },
  {
   "cell_type": "code",
   "execution_count": 166,
   "id": "dd7f10e7",
   "metadata": {},
   "outputs": [
    {
     "name": "stdout",
     "output_type": "stream",
     "text": [
      "[12.5, 11.7, 11.7, 12.2, 11.2, 10.0, 9.6, 10.6, 12.4, 14.5, 16.0, 17.3, 18.6, 19.8, 20.5, 21.1, 21.1, 20.5, 18.8, 16.1, 13.2, 11.2, 9.7, 9.3, 8.8]\n"
     ]
    }
   ],
   "source": [
    "#Air Temp CRN:\n",
    "with open('CRNH0203-2022-AL_Fairhope_3_NE.txt') as f:\n",
    "    lst=[line.split()[9] for line in f]\n",
    "    #print(lst)\n",
    "    temp_crn=[]\n",
    "    for i in lst:\n",
    "        new=i.replace(',',\"\")\n",
    "        temp_crn.append(new)\n",
    "    temp_crn=[float(x) for x in temp_crn]\n",
    "    temp_crn=temp_crn[2597:2622]\n",
    "    print(temp_crn)\n",
    "    #print(len(temp_crn))\n",
    "    # print(temp_crn[2124])"
   ]
  },
  {
   "cell_type": "code",
   "execution_count": 167,
   "id": "a0dfa435",
   "metadata": {},
   "outputs": [
    {
     "name": "stdout",
     "output_type": "stream",
     "text": [
      "[-0.27009999999999934, -0.3453999999999997, -0.7052999999999994, -1.9280999999999988, -1.2368299999999994, -0.41103999999999985, 0.30930000000000035, 0.5743000000000009, 0.2029999999999994, -0.20790000000000042, 0.19640000000000057, 0.04669999999999774, 0.35249999999999915, 0.1902000000000008, 0.3778000000000006, -0.1036999999999999, -0.1896000000000022, -1.0014000000000003, -0.7863000000000007, 0.1336999999999975, 1.9933000000000014, 2.8338, 3.436300000000001, 3.2067999999999994, 3.3469999999999995]\n"
     ]
    }
   ],
   "source": [
    "difference5_fai = []\n",
    "\n",
    "zip_object = zip(temp, temp_crn)\n",
    "for temp_i, temp_crn_i in zip_object:\n",
    "    difference5_fai.append(temp_i-temp_crn_i)\n",
    "\n",
    "print(difference5_fai)"
   ]
  },
  {
   "cell_type": "markdown",
   "id": "e9a64751",
   "metadata": {},
   "source": [
    "<font size=\"3\">**Selma, AL: 0100 UTC 31 March 2022-0100 UTC 1 April 2022</font>"
   ]
  },
  {
   "cell_type": "code",
   "execution_count": 168,
   "id": "2c74077a",
   "metadata": {},
   "outputs": [
    {
     "name": "stdout",
     "output_type": "stream",
     "text": [
      "[9.60486, 8.85464, 7.93222, 7.58444, 6.90067, 6.52646, 6.8468, 8.73685, 10.1655, 11.3546, 12.7589, 13.6592, 14.7025, 15.6777, 16.1903, 16.6838, 16.7229, 15.8111, 14.7012, 13.2337, 12.1308, 11.2213, 10.1988, 9.38181, 8.8345]\n",
      "25\n",
      "[11.0, 9.8, 8.3, 7.3, 6.0, 5.5, 4.9, 7.9, 10.3, 12.1, 13.4, 14.5, 15.8, 16.8, 17.8, 18.5, 18.9, 18.9, 17.1, 12.8, 10.4, 9.2, 8.3, 7.7, 7.0]\n",
      "25\n",
      "[-1.3951399999999996, -0.9453600000000009, -0.36778000000000066, 0.28444, 0.9006699999999999, 1.0264600000000002, 1.9467999999999996, 0.8368500000000001, -0.13450000000000095, -0.7454000000000001, -0.6410999999999998, -0.8407999999999998, -1.0975000000000001, -1.122300000000001, -1.6097000000000001, -1.8161999999999985, -2.1770999999999994, -3.088899999999999, -2.3988000000000014, 0.4337, 1.7308000000000003, 2.0213, 1.8987999999999996, 1.6818099999999996, 1.8345000000000002]\n"
     ]
    }
   ],
   "source": [
    "#18 hr hrrr:\n",
    "with open('hrrr_f18_Selma_AL.txt') as f:\n",
    "    lst=[line.split()[1] for line in f]\n",
    "    temp=[]\n",
    "    for i in lst:\n",
    "        new=i.replace(',',\"\")\n",
    "        temp.append(new)\n",
    "    temp.pop(0)\n",
    "    temp=[float(x) for x in temp]\n",
    "    #print(temp.index(6.91541))\n",
    "    temp=temp[2580:2605]\n",
    "#Air Temp CRN:\n",
    "with open('CRNH0203-2022-AL_Selma_13_WNW.txt') as f:\n",
    "    lst=[line.split()[9] for line in f]\n",
    "    #print(lst)\n",
    "    temp_crn=[]\n",
    "    for i in lst:\n",
    "        new=i.replace(',',\"\")\n",
    "        temp_crn.append(new)\n",
    "    temp_crn=[float(x) for x in temp_crn]\n",
    "    temp_crn=temp_crn[2597:2622]\n",
    "\n",
    "    print(temp)\n",
    "    print(len(temp))\n",
    "    print(temp_crn)\n",
    "    print(len(temp_crn))\n",
    "#full time period is [2015:2112]\n",
    "difference5_sel = []\n",
    "\n",
    "zip_object = zip(temp, temp_crn)\n",
    "for temp_i, temp_crn_i in zip_object:\n",
    "    difference5_sel.append(temp_i-temp_crn_i)\n",
    "\n",
    "print(difference5_sel)\n",
    "#print(len(difference3_sel))"
   ]
  },
  {
   "cell_type": "markdown",
   "id": "f6da12fe",
   "metadata": {},
   "source": [
    "<font size=\"3\">Bowling Green, KY: 0100 UTC 31 March 2022-0100 UTC 1 April 2022</font>"
   ]
  },
  {
   "cell_type": "code",
   "execution_count": 169,
   "id": "bcf07004",
   "metadata": {},
   "outputs": [
    {
     "name": "stdout",
     "output_type": "stream",
     "text": [
      "[1.41736, 0.917145, 0.49472, 0.209442, -0.0368347, -0.161041, 0.409302, 1.79935, 3.353, 4.97958, 6.82144, 8.47174, 10.14, 11.3652, 12.3778, 12.8088, 12.8479, 12.3111, 10.9512, 8.85873, 7.94327, 7.03384, 6.26126, 7.13181, 6.8345]\n"
     ]
    }
   ],
   "source": [
    "#18 hr hrrr:\n",
    "with open('hrrr_f18_Bowling Green_KY.txt') as f:\n",
    "    lst=[line.split()[1] for line in f]\n",
    "    temp=[]\n",
    "    for i in lst:\n",
    "        new=i.replace(',',\"\")\n",
    "        temp.append(new)\n",
    "    temp.pop(0)\n",
    "    temp=[float(x) for x in temp]\n",
    "    #print(temp.index(6.91541))\n",
    "    temp=temp[2580:2605]\n",
    "#     x = np.array(temp)\n",
    "#     temp= ma.masked_array(x, mask=[0, 0, 0, 0, 0,0,1,0,0,0,0,0,0,0,0,0,0,0,0,0,0,0,0,0,0])\n",
    "    #temp=temp[2015:2063]\n",
    "    print(temp)\n",
    "    #print(len(temp))\n",
    "#full time period is [2015:2112]"
   ]
  },
  {
   "cell_type": "code",
   "execution_count": 170,
   "id": "881baa0e",
   "metadata": {},
   "outputs": [
    {
     "name": "stdout",
     "output_type": "stream",
     "text": [
      "[2.9, 2.2, 1.6, 1.3, 0.3, -0.5, -0.4, 2.5, 4.3, 6.1, 7.9, 9.2, 10.8, 12.0, 12.6, 13.0, 13.1, 12.6, 11.1, 9.7, 7.8, 7.5, 7.0, 6.7, 6.1]\n"
     ]
    }
   ],
   "source": [
    "#Air Temp CRN:\n",
    "with open('CRNH0203-2022-KY_Bowling_Green_21_NNE.txt') as f:\n",
    "    lst=[line.split()[9] for line in f]\n",
    "    #print(lst)\n",
    "    temp_crn=[]\n",
    "    for i in lst:\n",
    "        new=i.replace(',',\"\")\n",
    "        temp_crn.append(new)\n",
    "    temp_crn=[float(x) for x in temp_crn]\n",
    "    temp_crn=temp_crn[2597:2622]\n",
    "#     y = np.array(temp_crn)\n",
    "#     temp_crn = ma.masked_array(y, mask=[0, 0, 0, 0, 0,0,1,0,0,0,0,0,0,0,0,0,0,0,0,0,0,0,0,0,0])\n",
    "    print(temp_crn)\n",
    "    #print(len(temp_crn))\n",
    "    # print(temp_crn[2124])"
   ]
  },
  {
   "cell_type": "code",
   "execution_count": 171,
   "id": "be1a11b5",
   "metadata": {},
   "outputs": [
    {
     "name": "stdout",
     "output_type": "stream",
     "text": [
      "[-1.48264, -1.282855, -1.10528, -1.0905580000000001, -0.3368347, 0.338959, 0.809302, -0.70065, -0.9469999999999996, -1.1204199999999993, -1.0785600000000004, -0.7282599999999988, -0.6600000000000001, -0.6348000000000003, -0.22219999999999906, -0.19120000000000026, -0.25210000000000043, -0.28889999999999993, -0.1487999999999996, -0.8412699999999997, 0.14327000000000023, -0.46616000000000035, -0.73874, 0.4318099999999996, 0.7345000000000006]\n"
     ]
    }
   ],
   "source": [
    "difference5_bow = []\n",
    "\n",
    "zip_object = zip(temp, temp_crn)\n",
    "for temp_i, temp_crn_i in zip_object:\n",
    "    difference5_bow.append(temp_i-temp_crn_i)\n",
    "\n",
    "print(difference5_bow)"
   ]
  },
  {
   "cell_type": "markdown",
   "id": "d8cbc4ba",
   "metadata": {},
   "source": [
    "<font size=\"3\">Gadsden, AL: 0200 UTC 31 March 2022-0200 UTC 1 April 2022</font>"
   ]
  },
  {
   "cell_type": "code",
   "execution_count": 172,
   "id": "e8f80353",
   "metadata": {},
   "outputs": [
    {
     "name": "stdout",
     "output_type": "stream",
     "text": [
      "[6.54236, 5.60464, 4.68222, 4.08444, 3.27567, 2.83896, 3.6593, 4.86185, 6.1655, 8.04208, 10.1339, 11.4717, 13.14, 14.3027, 15.1278, 15.6213, 15.4729, 14.7486, 13.2637, 11.7337, 10.8183, 9.78384, 9.26126, 8.75681, 8.0845]\n"
     ]
    }
   ],
   "source": [
    "#18 hr hrrr:\n",
    "with open('hrrr_f18_Gadsden_AL.txt') as f:\n",
    "    lst=[line.split()[1] for line in f]\n",
    "    temp=[]\n",
    "    for i in lst:\n",
    "        new=i.replace(',',\"\")\n",
    "        temp.append(new)\n",
    "    temp.pop(0)\n",
    "    temp=[float(x) for x in temp]\n",
    "    #print(temp.index(6.91541))\n",
    "    temp=temp[2580:2605]\n",
    "    print(temp)\n",
    "    #print(len(temp))\n",
    "#full time period is [2015:2112]"
   ]
  },
  {
   "cell_type": "code",
   "execution_count": 173,
   "id": "3f4ffce0",
   "metadata": {},
   "outputs": [
    {
     "name": "stdout",
     "output_type": "stream",
     "text": [
      "[6.5, 5.3, 4.8, 4.9, 5.3, 4.7, 4.4, 5.9, 7.0, 7.9, 9.0, 10.3, 11.4, 12.6, 13.6, 14.1, 14.4, 14.5, 13.8, 9.8, 7.8, 7.0, 6.1, 5.2, 5.0]\n"
     ]
    }
   ],
   "source": [
    "#Air Temp CRN:\n",
    "with open('CRNH0203-2022-AL_Gadsden_19_N.txt') as f:\n",
    "    lst=[line.split()[9] for line in f]\n",
    "    #print(lst)\n",
    "    temp_crn=[]\n",
    "    for i in lst:\n",
    "        new=i.replace(',',\"\")\n",
    "        temp_crn.append(new)\n",
    "    temp_crn=[float(x) for x in temp_crn]\n",
    "    temp_crn=temp_crn[2597:2622]\n",
    "    print(temp_crn)\n",
    "    #print(len(temp_crn))\n",
    "    # print(temp_crn[2124])"
   ]
  },
  {
   "cell_type": "code",
   "execution_count": 174,
   "id": "03069350",
   "metadata": {},
   "outputs": [
    {
     "name": "stdout",
     "output_type": "stream",
     "text": [
      "[0.0423600000000004, 0.30464, -0.11777999999999977, -0.8155600000000005, -2.02433, -1.86104, -0.7407000000000004, -1.0381500000000008, -0.8345000000000002, 0.14207999999999998, 1.1339000000000006, 1.1716999999999995, 1.7400000000000002, 1.7027, 1.527800000000001, 1.5213, 1.0728999999999989, 0.2485999999999997, -0.5363000000000007, 1.9337, 3.018300000000001, 2.7838399999999996, 3.1612600000000004, 3.5568099999999996, 3.0845000000000002]\n"
     ]
    }
   ],
   "source": [
    "difference5_gad = []\n",
    "\n",
    "zip_object = zip(temp, temp_crn)\n",
    "for temp_i, temp_crn_i in zip_object:\n",
    "    difference5_gad.append(temp_i-temp_crn_i)\n",
    "\n",
    "print(difference5_gad)"
   ]
  },
  {
   "cell_type": "markdown",
   "id": "b946c0fc",
   "metadata": {},
   "source": [
    "<font size=\"3\">Newton, GA: 0700 UTC 31 March 2022-0700 UTC 1 April 2022</font>"
   ]
  },
  {
   "cell_type": "code",
   "execution_count": 175,
   "id": "a9621dec",
   "metadata": {},
   "outputs": [
    {
     "name": "stdout",
     "output_type": "stream",
     "text": [
      "[12.1674, 11.4171, 10.2447, 9.52194, 8.52567, 8.40146, 8.9718, 10.3618, 11.978, 14.2921, 16.2589, 18.0967, 19.515, 20.3652, 21.3153, 21.5588, 21.5354, 20.5611, 18.2012, 16.0462, 14.6933, 13.1588, 12.3238, 11.4443, 10.5845]\n"
     ]
    }
   ],
   "source": [
    "#18 hr hrrr:\n",
    "with open('hrrr_f18_Newton_GA.txt') as f:\n",
    "    lst=[line.split()[1] for line in f]\n",
    "    temp=[]\n",
    "    for i in lst:\n",
    "        new=i.replace(',',\"\")\n",
    "        temp.append(new)\n",
    "    temp.pop(0)\n",
    "    temp=[float(x) for x in temp]\n",
    "    #print(temp.index(6.91541))\n",
    "    temp=temp[2580:2605]\n",
    "    print(temp)\n",
    "    #print(len(temp))\n",
    "#full time period is [2015:2112]"
   ]
  },
  {
   "cell_type": "code",
   "execution_count": 176,
   "id": "4bfae2c4",
   "metadata": {},
   "outputs": [
    {
     "name": "stdout",
     "output_type": "stream",
     "text": [
      "[14.0, 13.0, 10.9, 10.0, 10.7, 10.4, 9.7, 10.8, 12.3, 13.5, 14.7, 15.8, 17.1, 18.2, 19.1, 19.7, 19.8, 19.6, 18.1, 14.2, 11.9, 10.4, 9.3, 8.6, 7.9]\n"
     ]
    }
   ],
   "source": [
    "#Air Temp CRN:\n",
    "with open('CRNH0203-2022-GA_Newton_11_SW.txt') as f:\n",
    "    lst=[line.split()[9] for line in f]\n",
    "    #print(lst)\n",
    "    temp_crn=[]\n",
    "    for i in lst:\n",
    "        new=i.replace(',',\"\")\n",
    "        temp_crn.append(new)\n",
    "    temp_crn=[float(x) for x in temp_crn]\n",
    "    temp_crn=temp_crn[2597:2622]\n",
    "    print(temp_crn)\n",
    "    #print(len(temp_crn))\n",
    "    # print(temp_crn[2124])"
   ]
  },
  {
   "cell_type": "code",
   "execution_count": 177,
   "id": "b32fbaed",
   "metadata": {},
   "outputs": [
    {
     "name": "stdout",
     "output_type": "stream",
     "text": [
      "[-1.8325999999999993, -1.5829000000000004, -0.6553000000000004, -0.47805999999999926, -2.1743299999999994, -1.9985400000000002, -0.7281999999999993, -0.43820000000000014, -0.32200000000000095, 0.7920999999999996, 1.5589000000000013, 2.2966999999999977, 2.414999999999999, 2.1652000000000022, 2.215299999999999, 1.8588000000000022, 1.7353999999999985, 0.9610999999999983, 0.10119999999999862, 1.8461999999999996, 2.7933000000000003, 2.758799999999999, 3.0237999999999996, 2.8443000000000005, 2.6845]\n"
     ]
    }
   ],
   "source": [
    "difference5_newt = []\n",
    "\n",
    "zip_object = zip(temp, temp_crn)\n",
    "for temp_i, temp_crn_i in zip_object:\n",
    "    difference5_newt.append(temp_i-temp_crn_i)\n",
    "\n",
    "print(difference5_newt)"
   ]
  },
  {
   "cell_type": "markdown",
   "id": "d0f3fc5c",
   "metadata": {},
   "source": [
    "<font size=\"3\">Salem, MO: 0500 UTC (12:00 am CDT) 27 April 2022-0500 UTC (12:00 am CDT) 28 April 2022</font>"
   ]
  },
  {
   "cell_type": "code",
   "execution_count": 178,
   "id": "fddaf781",
   "metadata": {},
   "outputs": [
    {
     "name": "stdout",
     "output_type": "stream",
     "text": [
      "[6.36545, 5.94803, 5.98154, 5.24121, 4.92538, 5.07712, 5.29129, 8.92239, 11.8365, 14.2448, 15.8783, 17.8792, 19.6024, 20.7322, 21.499, 21.5675, 21.1547, 20.5738, 18.5305, 15.8204, 14.2217, 12.5952, 12.0421, 11.3834, 10.6396]\n"
     ]
    }
   ],
   "source": [
    "#18 hr hrrr:\n",
    "with open('hrrr_f18_Salem_MO.txt') as f:\n",
    "    lst=[line.split()[1] for line in f]\n",
    "    temp=[]\n",
    "    for i in lst:\n",
    "        new=i.replace(',',\"\")\n",
    "        temp.append(new)\n",
    "    temp.pop(0)\n",
    "    temp=[float(x) for x in temp]\n",
    "    #print(temp.index(6.91541))\n",
    "    temp=temp[2772:2797]\n",
    "    print(temp)\n",
    "    #print(len(temp))\n",
    "#full time period is [2015:2112]"
   ]
  },
  {
   "cell_type": "code",
   "execution_count": 179,
   "id": "92fbdaf9",
   "metadata": {},
   "outputs": [
    {
     "name": "stdout",
     "output_type": "stream",
     "text": [
      "[2.4, 2.4, 4.1, 3.6, 2.1, 1.5, 1.5, 6.9, 11.9, 15.4, 17.9, 19.5, 20.3, 21.3, 22.1, 22.5, 22.4, 22.1, 20.5, 18.9, 17.7, 16.6, 15.4, 14.7, 14.7]\n"
     ]
    }
   ],
   "source": [
    "#Air Temp CRN:\n",
    "with open('CRNH0203-2022-MO_Salem_10_W.txt') as f:\n",
    "    lst=[line.split()[9] for line in f]\n",
    "    #print(lst)\n",
    "    temp_crn=[]\n",
    "    for i in lst:\n",
    "        new=i.replace(',',\"\")\n",
    "        temp_crn.append(new)\n",
    "    temp_crn=[float(x) for x in temp_crn]\n",
    "    temp_crn=temp_crn[2789:2814]\n",
    "    print(temp_crn)\n",
    "    #print(len(temp_crn))\n",
    "    # print(temp_crn[2124])"
   ]
  },
  {
   "cell_type": "code",
   "execution_count": 180,
   "id": "3e901cb0",
   "metadata": {},
   "outputs": [],
   "source": [
    "# hour=[]\n",
    "# for i in range(-12,13,1):\n",
    "#     hour.append(i)\n",
    "#     i+=1\n",
    "# print(len(hour))"
   ]
  },
  {
   "cell_type": "code",
   "execution_count": 181,
   "id": "77bcef37",
   "metadata": {},
   "outputs": [
    {
     "name": "stdout",
     "output_type": "stream",
     "text": [
      "[3.96545, 3.5480300000000002, 1.8815400000000002, 1.6412099999999996, 2.8253799999999996, 3.57712, 3.79129, 2.0223899999999997, -0.06350000000000122, -1.1552000000000007, -2.021699999999999, -1.6207999999999991, -0.6976000000000013, -0.5678000000000019, -0.6010000000000026, -0.932500000000001, -1.2453000000000003, -1.5262000000000029, -1.9695, -3.0795999999999992, -3.478299999999999, -4.004800000000001, -3.3579000000000008, -3.3165999999999993, -4.0604]\n"
     ]
    }
   ],
   "source": [
    "difference6_sal = []\n",
    "\n",
    "zip_object = zip(temp, temp_crn)\n",
    "for temp_i, temp_crn_i in zip_object:\n",
    "    difference6_sal.append(temp_i-temp_crn_i)\n",
    "\n",
    "print(difference6_sal)"
   ]
  },
  {
   "cell_type": "markdown",
   "id": "8a64a90b",
   "metadata": {},
   "source": [
    "<font size=\"3\">Batesville, AR: 1300 UTC 30 March 2022-1300 UTC 31 March 2022</font>"
   ]
  },
  {
   "cell_type": "code",
   "execution_count": 182,
   "id": "4bdeef7d",
   "metadata": {},
   "outputs": [
    {
     "name": "stdout",
     "output_type": "stream",
     "text": [
      "[8.49045, 8.26053, 7.79404, 7.67871, 7.30038, 7.07712, 7.22879, 9.79739, 12.8365, 14.9323, 16.3158, 17.7542, 18.9149, 20.0447, 20.9365, 21.505, 21.4047, 20.8863, 19.1555, 16.0704, 14.3467, 13.4702, 12.9796, 12.6959, 12.2646]\n"
     ]
    }
   ],
   "source": [
    "#18 hr hrrr:\n",
    "with open('hrrr_f18_Batesville_AR.txt') as f:\n",
    "    lst=[line.split()[1] for line in f]\n",
    "    temp=[]\n",
    "    for i in lst:\n",
    "        new=i.replace(',',\"\")\n",
    "        temp.append(new)\n",
    "    temp.pop(0)\n",
    "    temp=[float(x) for x in temp]\n",
    "    #print(temp.index(6.91541))\n",
    "    temp=temp[2772:2797]\n",
    "    print(temp)\n",
    "    #print(len(temp))\n",
    "#full time period is [2015:2112]"
   ]
  },
  {
   "cell_type": "code",
   "execution_count": 183,
   "id": "3ba7040e",
   "metadata": {},
   "outputs": [
    {
     "name": "stdout",
     "output_type": "stream",
     "text": [
      "[5.0, 3.7, 3.4, 2.9, 2.4, 2.2, 2.2, 4.1, 8.4, 13.4, 15.5, 17.3, 18.7, 19.7, 20.4, 20.7, 20.5, 20.1, 18.3, 15.3, 11.9, 9.4, 8.9, 8.0, 8.0]\n"
     ]
    }
   ],
   "source": [
    "#Air Temp CRN:\n",
    "with open('CRNH0203-2022-AR_Batesville_8_WNW.txt') as f:\n",
    "    lst=[line.split()[9] for line in f]\n",
    "    #print(lst)\n",
    "    temp_crn=[]\n",
    "    for i in lst:\n",
    "        new=i.replace(',',\"\")\n",
    "        temp_crn.append(new)\n",
    "    temp_crn=[float(x) for x in temp_crn]\n",
    "    temp_crn=temp_crn[2789:2814]\n",
    "    print(temp_crn)\n",
    "    #print(len(temp_crn))\n",
    "    # print(temp_crn[2124])"
   ]
  },
  {
   "cell_type": "code",
   "execution_count": 184,
   "id": "d92c989c",
   "metadata": {},
   "outputs": [
    {
     "name": "stdout",
     "output_type": "stream",
     "text": [
      "[3.490449999999999, 4.560529999999999, 4.39404, 4.77871, 4.90038, 4.87712, 5.02879, 5.69739, 4.436499999999999, 1.5322999999999993, 0.8157999999999994, 0.45420000000000016, 0.2149000000000001, 0.34469999999999956, 0.5365000000000002, 0.8049999999999997, 0.9046999999999983, 0.7862999999999971, 0.8554999999999993, 0.7703999999999986, 2.4467, 4.0702, 4.079599999999999, 4.6959, 4.2646]\n"
     ]
    }
   ],
   "source": [
    "difference6_bat = []\n",
    "\n",
    "zip_object = zip(temp, temp_crn)\n",
    "for temp_i, temp_crn_i in zip_object:\n",
    "    difference6_bat.append(temp_i-temp_crn_i)\n",
    "\n",
    "print(difference6_bat)"
   ]
  },
  {
   "cell_type": "markdown",
   "id": "5e7bf084",
   "metadata": {},
   "source": [
    "<font size=\"3\">Lafayette, LA: 1700 UTC 30 March 2022-1700 UTC 31 March 2022</font>"
   ]
  },
  {
   "cell_type": "code",
   "execution_count": 185,
   "id": "5fca3ade",
   "metadata": {},
   "outputs": [
    {
     "name": "stdout",
     "output_type": "stream",
     "text": [
      "[17.4279, 16.698, 16.294, 15.2412, 14.9254, 13.8896, 13.6038, 16.1099, 18.4615, 20.9948, 23.6283, 25.5042, 26.6649, 27.4197, 28.124, 28.38, 27.9672, 27.1363, 25.9055, 22.9454, 20.7217, 19.2202, 18.1671, 17.0709, 16.0146]\n"
     ]
    }
   ],
   "source": [
    "#18 hr hrrr:\n",
    "with open('hrrr_f18_Lafayette_LA.txt') as f:\n",
    "    lst=[line.split()[1] for line in f]\n",
    "    temp=[]\n",
    "    for i in lst:\n",
    "        new=i.replace(',',\"\")\n",
    "        temp.append(new)\n",
    "    temp.pop(0)\n",
    "    temp=[float(x) for x in temp]\n",
    "    #print(temp.index(6.91541))\n",
    "    temp=temp[2772:2797]\n",
    "    print(temp)\n",
    "    #print(len(temp))\n",
    "#full time period is [2015:2112]"
   ]
  },
  {
   "cell_type": "code",
   "execution_count": 186,
   "id": "605c57e9",
   "metadata": {},
   "outputs": [
    {
     "name": "stdout",
     "output_type": "stream",
     "text": [
      "[15.6, 14.7, 13.8, 13.8, 13.2, 12.2, 11.5, 12.9, 15.5, 18.0, 20.3, 22.1, 23.2, 24.1, 24.9, 25.2, 25.4, 25.2, 24.0, 20.7, 17.1, 15.0, 14.0, 13.1, 12.6]\n"
     ]
    }
   ],
   "source": [
    "#Air Temp CRN:\n",
    "with open('CRNH0203-2022-LA_Lafayette_13_SE.txt') as f:\n",
    "    lst=[line.split()[9] for line in f]\n",
    "    #print(lst)\n",
    "    temp_crn=[]\n",
    "    for i in lst:\n",
    "        new=i.replace(',',\"\")\n",
    "        temp_crn.append(new)\n",
    "    temp_crn=[float(x) for x in temp_crn]\n",
    "    temp_crn=temp_crn[2789:2814]\n",
    "    print(temp_crn)\n",
    "    #print(len(temp_crn))\n",
    "    # print(temp_crn[2124])"
   ]
  },
  {
   "cell_type": "code",
   "execution_count": 187,
   "id": "c5a6b343",
   "metadata": {},
   "outputs": [
    {
     "name": "stdout",
     "output_type": "stream",
     "text": [
      "[1.8279000000000014, 1.998000000000001, 2.4939999999999998, 1.4411999999999985, 1.7254000000000005, 1.6896000000000004, 2.1037999999999997, 3.2098999999999993, 2.961500000000001, 2.9948000000000015, 3.3282999999999987, 3.4041999999999994, 3.4649, 3.3196999999999974, 3.224, 3.1799999999999997, 2.5671999999999997, 1.9362999999999992, 1.9055, 2.2454, 3.621699999999997, 4.220199999999998, 4.167100000000001, 3.970900000000002, 3.414600000000002]\n"
     ]
    }
   ],
   "source": [
    "difference6_laf = []\n",
    "\n",
    "zip_object = zip(temp, temp_crn)\n",
    "for temp_i, temp_crn_i in zip_object:\n",
    "    difference6_laf.append(temp_i-temp_crn_i)\n",
    "\n",
    "print(difference6_laf)"
   ]
  },
  {
   "cell_type": "markdown",
   "id": "7fabd1a2",
   "metadata": {},
   "source": [
    "<font size=\"3\">Monroe, LA: 1700 UTC 30 March 2022-1700 UTC 31 March 2022</font>"
   ]
  },
  {
   "cell_type": "code",
   "execution_count": 188,
   "id": "ef3ddc0c",
   "metadata": {},
   "outputs": [
    {
     "name": "stdout",
     "output_type": "stream",
     "text": [
      "[10.8654, 10.073, 9.54404, 8.92871, 8.55038, 8.26462, 7.85379, 10.4849, 13.149, 15.1198, 17.0658, 19.3167, 21.1024, 22.9197, 23.9365, 24.1925, 24.0922, 23.4488, 22.1555, 19.0079, 16.9717, 15.7202, 14.3546, 13.1959, 12.5771]\n"
     ]
    }
   ],
   "source": [
    "#18 hr hrrr:\n",
    "with open('hrrr_f18_Monroe_LA.txt') as f:\n",
    "    lst=[line.split()[1] for line in f]\n",
    "    temp=[]\n",
    "    for i in lst:\n",
    "        new=i.replace(',',\"\")\n",
    "        temp.append(new)\n",
    "    temp.pop(0)\n",
    "    temp=[float(x) for x in temp]\n",
    "    #print(temp.index(6.91541))\n",
    "    temp=temp[2772:2797]\n",
    "    print(temp)\n",
    "    #print(len(temp))\n",
    "#full time period is [2015:2112]"
   ]
  },
  {
   "cell_type": "code",
   "execution_count": 189,
   "id": "bcb9c074",
   "metadata": {},
   "outputs": [
    {
     "name": "stdout",
     "output_type": "stream",
     "text": [
      "[13.4, 12.8, 12.2, 11.5, 10.5, 8.2, 7.3, 9.9, 13.3, 15.3, 17.3, 18.7, 19.9, 21.2, 22.0, 22.7, 23.0, 22.6, 21.3, 17.0, 12.5, 10.4, 9.2, 8.4, 7.8]\n"
     ]
    }
   ],
   "source": [
    "#Air Temp CRN:\n",
    "with open('CRNH0203-2022-LA_Monroe_26_N.txt') as f:\n",
    "    lst=[line.split()[9] for line in f]\n",
    "    #print(lst)\n",
    "    temp_crn=[]\n",
    "    for i in lst:\n",
    "        new=i.replace(',',\"\")\n",
    "        temp_crn.append(new)\n",
    "    temp_crn=[float(x) for x in temp_crn]\n",
    "    temp_crn=temp_crn[2789:2814]\n",
    "    print(temp_crn)\n",
    "    #print(len(temp_crn))\n",
    "    # print(temp_crn[2124])"
   ]
  },
  {
   "cell_type": "code",
   "execution_count": 190,
   "id": "41f31883",
   "metadata": {},
   "outputs": [
    {
     "name": "stdout",
     "output_type": "stream",
     "text": [
      "[-2.534600000000001, -2.7270000000000003, -2.6559599999999985, -2.5712899999999994, -1.9496199999999995, 0.06462000000000145, 0.5537900000000002, 0.5848999999999993, -0.15100000000000158, -0.18020000000000103, -0.2342000000000013, 0.6167000000000016, 1.2024000000000008, 1.7196999999999996, 1.9364999999999988, 1.4924999999999997, 1.0921999999999983, 0.8487999999999971, 0.8554999999999993, 2.0078999999999994, 4.4716999999999985, 5.3202, 5.1546, 4.7959, 4.7771]\n"
     ]
    }
   ],
   "source": [
    "difference6_mon = []\n",
    "\n",
    "zip_object = zip(temp, temp_crn)\n",
    "for temp_i, temp_crn_i in zip_object:\n",
    "    difference6_mon.append(temp_i-temp_crn_i)\n",
    "\n",
    "print(difference6_mon)"
   ]
  },
  {
   "cell_type": "markdown",
   "id": "48c06de7",
   "metadata": {},
   "source": [
    "<font size=\"3\">Holly Springs, MS: 2000 UTC 30 March 2022-2000 UTC 31 March 2022</font>"
   ]
  },
  {
   "cell_type": "code",
   "execution_count": 191,
   "id": "8a037f3b",
   "metadata": {},
   "outputs": [
    {
     "name": "stdout",
     "output_type": "stream",
     "text": [
      "[6.86545, 6.38553, 6.29404, 5.92871, 5.42538, 5.13962, 5.72879, 9.35989, 11.9615, 13.8698, 16.0658, 18.3167, 19.9774, 21.2322, 21.999, 22.255, 21.9047, 21.1988, 19.1555, 16.1954, 14.5342, 13.5327, 12.6671, 12.3834, 11.7021]\n"
     ]
    }
   ],
   "source": [
    "#18 hr hrrr:\n",
    "with open('hrrr_f18_Holly Springs_MS.txt') as f:\n",
    "    lst=[line.split()[1] for line in f]\n",
    "    temp=[]\n",
    "    for i in lst:\n",
    "        new=i.replace(',',\"\")\n",
    "        temp.append(new)\n",
    "    temp.pop(0)\n",
    "    temp=[float(x) for x in temp]\n",
    "    #print(temp.index(6.91541))\n",
    "    temp=temp[2772:2797]\n",
    "    print(temp)\n",
    "    #print(len(temp))\n",
    "#full time period is [2015:2112]"
   ]
  },
  {
   "cell_type": "code",
   "execution_count": 192,
   "id": "d07ccac1",
   "metadata": {},
   "outputs": [
    {
     "name": "stdout",
     "output_type": "stream",
     "text": [
      "[3.9, 3.2, 2.6, 2.3, 2.2, 2.0, 1.8, 4.8, 10.3, 13.8, 16.0, 18.3, 19.8, 20.9, 21.9, 22.4, 22.6, 22.3, 21.0, 15.9, 12.0, 9.9, 8.7, 8.2, 7.5]\n"
     ]
    }
   ],
   "source": [
    "#Air Temp CRN:\n",
    "with open('CRNH0203-2022-MS_Holly_Springs_4_N.txt') as f:\n",
    "    lst=[line.split()[9] for line in f]\n",
    "    #print(lst)\n",
    "    temp_crn=[]\n",
    "    for i in lst:\n",
    "        new=i.replace(',',\"\")\n",
    "        temp_crn.append(new)\n",
    "    temp_crn=[float(x) for x in temp_crn]\n",
    "    temp_crn=temp_crn[2789:2814]\n",
    "    print(temp_crn)\n",
    "    #print(len(temp_crn))\n",
    "    # print(temp_crn[2124])"
   ]
  },
  {
   "cell_type": "code",
   "execution_count": 193,
   "id": "71bf258e",
   "metadata": {},
   "outputs": [
    {
     "name": "stdout",
     "output_type": "stream",
     "text": [
      "[2.96545, 3.18553, 3.6940399999999998, 3.62871, 3.2253799999999995, 3.13962, 3.9287900000000002, 4.55989, 1.6614999999999984, 0.06979999999999897, 0.06579999999999941, 0.01670000000000016, 0.17739999999999867, 0.3322000000000003, 0.0990000000000002, -0.14499999999999957, -0.6953000000000031, -1.1012000000000022, -1.8445, 0.295399999999999, 2.5342000000000002, 3.6327, 3.9671000000000003, 4.183400000000001, 4.2021]\n"
     ]
    }
   ],
   "source": [
    "difference6_hol = []\n",
    "\n",
    "zip_object = zip(temp, temp_crn)\n",
    "for temp_i, temp_crn_i in zip_object:\n",
    "    difference6_hol.append(temp_i-temp_crn_i)\n",
    "\n",
    "print(difference6_hol)"
   ]
  },
  {
   "cell_type": "markdown",
   "id": "b0fa4146",
   "metadata": {},
   "source": [
    "<font size=\"3\">Newton, MS: 2000 UTC 30 March 2022-2000 UTC 31 March 2022</font>"
   ]
  },
  {
   "cell_type": "code",
   "execution_count": 194,
   "id": "1a46f819",
   "metadata": {},
   "outputs": [
    {
     "name": "stdout",
     "output_type": "stream",
     "text": [
      "[13.0529, 12.2605, 11.7315, 10.9287, 10.3004, 9.88962, 10.2913, 12.4849, 14.7115, 16.8073, 18.8783, 21.1292, 22.4149, 23.3572, 23.9365, 24.255, 23.9047, 23.1988, 21.5305, 18.7579, 17.1592, 15.8452, 14.6046, 13.3834, 12.5771]\n"
     ]
    }
   ],
   "source": [
    "#18 hr hrrr:\n",
    "with open('hrrr_f18_Newton_MS.txt') as f:\n",
    "    lst=[line.split()[1] for line in f]\n",
    "    temp=[]\n",
    "    for i in lst:\n",
    "        new=i.replace(',',\"\")\n",
    "        temp.append(new)\n",
    "    temp.pop(0)\n",
    "    temp=[float(x) for x in temp]\n",
    "    #print(temp.index(6.91541))\n",
    "    temp=temp[2772:2797]\n",
    "    print(temp)\n",
    "    #print(len(temp))\n",
    "#full time period is [2015:2112]"
   ]
  },
  {
   "cell_type": "code",
   "execution_count": 195,
   "id": "cc2443b2",
   "metadata": {},
   "outputs": [
    {
     "name": "stdout",
     "output_type": "stream",
     "text": [
      "[11.6, 11.3, 10.6, 9.3, 7.2, 6.5, 6.3, 9.2, 11.9, 14.2, 16.3, 18.4, 20.2, 21.2, 22.2, 22.7, 23.0, 22.7, 21.7, 16.9, 13.4, 11.3, 10.1, 9.1, 8.5]\n"
     ]
    }
   ],
   "source": [
    "#Air Temp CRN:\n",
    "with open('CRNH0203-2022-MS_Newton_5_ENE.txt') as f:\n",
    "    lst=[line.split()[9] for line in f]\n",
    "    #print(lst)\n",
    "    temp_crn=[]\n",
    "    for i in lst:\n",
    "        new=i.replace(',',\"\")\n",
    "        temp_crn.append(new)\n",
    "    temp_crn=[float(x) for x in temp_crn]\n",
    "    temp_crn=temp_crn[2789:2814]\n",
    "    print(temp_crn)\n",
    "    #print(len(temp_crn))\n",
    "    # print(temp_crn[2124])"
   ]
  },
  {
   "cell_type": "code",
   "execution_count": 196,
   "id": "5ebe8bfc",
   "metadata": {},
   "outputs": [
    {
     "name": "stdout",
     "output_type": "stream",
     "text": [
      "[1.4528999999999996, 0.9604999999999997, 1.1315000000000008, 1.6286999999999985, 3.1003999999999996, 3.3896200000000007, 3.9913, 3.2849000000000004, 2.8114999999999988, 2.607300000000002, 2.5782999999999987, 2.7292000000000023, 2.2149, 2.1571999999999996, 1.7364999999999995, 1.5549999999999997, 0.9046999999999983, 0.49879999999999924, -0.16949999999999932, 1.8579000000000008, 3.759199999999998, 4.5451999999999995, 4.5046, 4.2834, 4.0771]\n"
     ]
    }
   ],
   "source": [
    "difference6_new = []\n",
    "\n",
    "zip_object = zip(temp, temp_crn)\n",
    "for temp_i, temp_crn_i in zip_object:\n",
    "    difference6_new.append(temp_i-temp_crn_i)\n",
    "\n",
    "print(difference6_new)"
   ]
  },
  {
   "cell_type": "markdown",
   "id": "26073006",
   "metadata": {},
   "source": [
    "<font size=\"3\">Gainesville, AL: 2300 UTC 30 March 2022-2300 UTC 31 March 2022</font>"
   ]
  },
  {
   "cell_type": "code",
   "execution_count": 197,
   "id": "5f43e442",
   "metadata": {},
   "outputs": [
    {
     "name": "stdout",
     "output_type": "stream",
     "text": [
      "[12.2404, 11.323, 10.669, 9.80371, 9.17538, 8.51462, 9.35379, 12.3599, 14.5865, 16.5573, 18.7533, 20.7542, 22.3524, 23.2947, 23.874, 24.4425, 24.2172, 23.3238, 21.1555, 18.3829, 16.6592, 15.0952, 13.9171, 13.1334, 12.2646]\n"
     ]
    }
   ],
   "source": [
    "#18 hr hrrr:\n",
    "with open('hrrr_f18_Gainesville_AL (1).txt') as f:\n",
    "    lst=[line.split()[1] for line in f]\n",
    "    temp=[]\n",
    "    for i in lst:\n",
    "        new=i.replace(',',\"\")\n",
    "        temp.append(new)\n",
    "    temp.pop(0)\n",
    "    temp=[float(x) for x in temp]\n",
    "    #print(temp.index(6.91541))\n",
    "    temp=temp[2772:2797]\n",
    "    print(temp)\n",
    "    #print(len(temp))\n",
    "#full time period is [2015:2112]"
   ]
  },
  {
   "cell_type": "code",
   "execution_count": 198,
   "id": "3eba5e91",
   "metadata": {},
   "outputs": [
    {
     "name": "stdout",
     "output_type": "stream",
     "text": [
      "[13.0, 11.8, 10.8, 9.8, 8.9, 7.4, 7.5, 9.3, 11.8, 14.6, 16.9, 18.7, 20.1, 21.5, 22.6, 23.3, 23.5, 23.3, 21.9, 16.7, 13.8, 12.7, 11.8, 11.2, 10.5]\n"
     ]
    }
   ],
   "source": [
    "#Air Temp CRN:\n",
    "with open('CRNH0203-2022-AL_Gainesville_2_NE.txt') as f:\n",
    "    lst=[line.split()[9] for line in f]\n",
    "    #print(lst)\n",
    "    temp_crn=[]\n",
    "    for i in lst:\n",
    "        new=i.replace(',',\"\")\n",
    "        temp_crn.append(new)\n",
    "    temp_crn=[float(x) for x in temp_crn]\n",
    "    temp_crn=temp_crn[2789:2814]\n",
    "    print(temp_crn)\n",
    "    #print(len(temp_crn))\n",
    "    # print(temp_crn[2124])"
   ]
  },
  {
   "cell_type": "code",
   "execution_count": 199,
   "id": "97019e6b",
   "metadata": {},
   "outputs": [
    {
     "name": "stdout",
     "output_type": "stream",
     "text": [
      "[-0.7596000000000007, -0.4770000000000003, -0.13100000000000023, 0.00370999999999988, 0.2753800000000002, 1.1146200000000004, 1.85379, 3.059899999999999, 2.7864999999999984, 1.9573000000000018, 1.8533000000000008, 2.0542000000000016, 2.252399999999998, 1.7946999999999989, 1.2739999999999974, 1.1424999999999983, 0.7171999999999983, 0.023799999999997823, -0.7444999999999986, 1.6829, 2.8591999999999977, 2.395200000000001, 2.117099999999999, 1.9334000000000007, 1.7645999999999997]\n"
     ]
    }
   ],
   "source": [
    "difference6_gai = []\n",
    "\n",
    "zip_object = zip(temp, temp_crn)\n",
    "for temp_i, temp_crn_i in zip_object:\n",
    "    difference6_gai.append(temp_i-temp_crn_i)\n",
    "\n",
    "print(difference6_gai)"
   ]
  },
  {
   "cell_type": "markdown",
   "id": "fdf1d695",
   "metadata": {},
   "source": [
    "<font size=\"3\">Fairhope, AL: 0100 UTC 31 March 2022-0100 UTC 1 April 2022</font>"
   ]
  },
  {
   "cell_type": "code",
   "execution_count": 200,
   "id": "8f2f5bf2",
   "metadata": {},
   "outputs": [
    {
     "name": "stdout",
     "output_type": "stream",
     "text": [
      "[17.4904, 16.323, 16.1065, 15.5537, 14.8629, 13.9521, 14.0413, 15.4849, 17.4615, 19.6823, 22.0658, 24.0042, 25.3524, 26.1072, 26.3115, 26.505, 25.8422, 24.6988, 22.593, 20.1954, 18.9717, 17.8452, 16.7296, 16.1334, 15.3896]\n"
     ]
    }
   ],
   "source": [
    "#18 hr hrrr:\n",
    "with open('hrrr_f18_Fairhope_AL.txt') as f:\n",
    "    lst=[line.split()[1] for line in f]\n",
    "    temp=[]\n",
    "    for i in lst:\n",
    "        new=i.replace(',',\"\")\n",
    "        temp.append(new)\n",
    "    temp.pop(0)\n",
    "    temp=[float(x) for x in temp]\n",
    "    #print(temp.index(6.91541))\n",
    "    temp=temp[2772:2797]\n",
    "    print(temp)\n",
    "    #print(len(temp))\n",
    "#full time period is [2015:2112]"
   ]
  },
  {
   "cell_type": "code",
   "execution_count": 201,
   "id": "0d3eb0a3",
   "metadata": {},
   "outputs": [
    {
     "name": "stdout",
     "output_type": "stream",
     "text": [
      "[16.0, 15.2, 14.4, 13.7, 13.3, 12.3, 11.8, 13.8, 16.0, 18.0, 20.1, 21.2, 22.2, 23.0, 24.0, 24.6, 24.8, 24.0, 22.2, 19.7, 18.3, 17.5, 15.9, 13.7, 12.4]\n"
     ]
    }
   ],
   "source": [
    "#Air Temp CRN:\n",
    "with open('CRNH0203-2022-AL_Fairhope_3_NE.txt') as f:\n",
    "    lst=[line.split()[9] for line in f]\n",
    "    #print(lst)\n",
    "    temp_crn=[]\n",
    "    for i in lst:\n",
    "        new=i.replace(',',\"\")\n",
    "        temp_crn.append(new)\n",
    "    temp_crn=[float(x) for x in temp_crn]\n",
    "    temp_crn=temp_crn[2789:2814]\n",
    "    print(temp_crn)\n",
    "    #print(len(temp_crn))\n",
    "    # print(temp_crn[2124])"
   ]
  },
  {
   "cell_type": "code",
   "execution_count": 202,
   "id": "9ba1459d",
   "metadata": {},
   "outputs": [
    {
     "name": "stdout",
     "output_type": "stream",
     "text": [
      "[1.490400000000001, 1.123000000000001, 1.7065000000000001, 1.8537, 1.562899999999999, 1.652099999999999, 2.241299999999999, 1.684899999999999, 1.461500000000001, 1.6823000000000015, 1.965799999999998, 2.8042000000000016, 3.1524, 3.107199999999999, 2.3114999999999988, 1.9049999999999976, 1.0421999999999976, 0.6987999999999985, 0.3930000000000007, 0.49540000000000006, 0.6716999999999977, 0.3451999999999984, 0.829600000000001, 2.4334000000000024, 2.9895999999999994]\n"
     ]
    }
   ],
   "source": [
    "difference6_fai = []\n",
    "\n",
    "zip_object = zip(temp, temp_crn)\n",
    "for temp_i, temp_crn_i in zip_object:\n",
    "    difference6_fai.append(temp_i-temp_crn_i)\n",
    "\n",
    "print(difference6_fai)"
   ]
  },
  {
   "cell_type": "markdown",
   "id": "13c521a4",
   "metadata": {},
   "source": [
    "<font size=\"3\">**Selma, AL: 0100 UTC 31 March 2022-0100 UTC 1 April 2022</font>"
   ]
  },
  {
   "cell_type": "code",
   "execution_count": 203,
   "id": "7e73ba47",
   "metadata": {},
   "outputs": [
    {
     "name": "stdout",
     "output_type": "stream",
     "text": [
      "[11.8654, 11.0105, 10.3565, 9.49121, 9.23788, 8.70212, 9.29129, 11.7349, 14.024, 16.0573, 18.4408, 20.4417, 22.2274, 23.2947, 23.874, 24.3175, 23.9672, 23.0738, 21.093, 18.0704, 16.7217, 15.3452, 14.4796, 13.6959, 13.3271]\n",
      "25\n",
      "[10.4, 9.8, 9.2, 9.0, 8.4, 6.9, 6.6, 9.8, 12.1, 14.8, 17.2, 18.9, 20.7, 22.1, 23.5, 23.9, 24.1, 23.9, 22.2, 16.5, 13.1, 11.7, 10.6, 9.5, 8.8]\n",
      "25\n",
      "[1.465399999999999, 1.2104999999999997, 1.1565000000000012, 0.4912100000000006, 0.8378800000000002, 1.8021200000000004, 2.6912900000000004, 1.934899999999999, 1.9239999999999995, 1.2573000000000008, 1.2408000000000001, 1.5417000000000023, 1.5274, 1.1946999999999974, 0.3739999999999988, 0.4175000000000004, -0.13280000000000314, -0.8262, -1.1069999999999993, 1.5703999999999994, 3.621699999999999, 3.645200000000001, 3.8796, 4.1959, 4.527099999999999]\n"
     ]
    }
   ],
   "source": [
    "#18 hr hrrr:\n",
    "with open('hrrr_f18_Selma_AL.txt') as f:\n",
    "    lst=[line.split()[1] for line in f]\n",
    "    temp=[]\n",
    "    for i in lst:\n",
    "        new=i.replace(',',\"\")\n",
    "        temp.append(new)\n",
    "    temp.pop(0)\n",
    "    temp=[float(x) for x in temp]\n",
    "    #print(temp.index(6.91541))\n",
    "    temp=temp[2772:2797]\n",
    "#Air Temp CRN:\n",
    "with open('CRNH0203-2022-AL_Selma_13_WNW.txt') as f:\n",
    "    lst=[line.split()[9] for line in f]\n",
    "    #print(lst)\n",
    "    temp_crn=[]\n",
    "    for i in lst:\n",
    "        new=i.replace(',',\"\")\n",
    "        temp_crn.append(new)\n",
    "    temp_crn=[float(x) for x in temp_crn]\n",
    "    temp_crn=temp_crn[2789:2814]\n",
    "\n",
    "    print(temp)\n",
    "    print(len(temp))\n",
    "    print(temp_crn)\n",
    "    print(len(temp_crn))\n",
    "#full time period is [2015:2112]\n",
    "difference6_sel = []\n",
    "\n",
    "zip_object = zip(temp, temp_crn)\n",
    "for temp_i, temp_crn_i in zip_object:\n",
    "    difference6_sel.append(temp_i-temp_crn_i)\n",
    "\n",
    "print(difference6_sel)\n",
    "#print(len(difference3_sel))"
   ]
  },
  {
   "cell_type": "markdown",
   "id": "d7faf179",
   "metadata": {},
   "source": [
    "<font size=\"3\">Bowling Green, KY: 0100 UTC 31 March 2022-0100 UTC 1 April 2022</font>"
   ]
  },
  {
   "cell_type": "code",
   "execution_count": 204,
   "id": "f9585d38",
   "metadata": {},
   "outputs": [
    {
     "name": "stdout",
     "output_type": "stream",
     "text": [
      "[6.49045, 6.01053, 5.79404, 5.42871, 5.55038, 5.45212, 6.66629, 10.1099, 12.524, 14.6198, 16.3783, 18.1917, 19.1649, 20.1697, 20.999, 21.005, 20.4672, 19.8863, 18.0305, 15.3829, 14.2842, 13.4702, 12.1046, 12.5084, 12.0771]\n"
     ]
    }
   ],
   "source": [
    "#18 hr hrrr:\n",
    "with open('hrrr_f18_Bowling Green_KY.txt') as f:\n",
    "    lst=[line.split()[1] for line in f]\n",
    "    temp=[]\n",
    "    for i in lst:\n",
    "        new=i.replace(',',\"\")\n",
    "        temp.append(new)\n",
    "    temp.pop(0)\n",
    "    temp=[float(x) for x in temp]\n",
    "    #print(temp.index(6.91541))\n",
    "    temp=temp[2772:2797]\n",
    "#     x = np.array(temp)\n",
    "#     temp= ma.masked_array(x, mask=[0, 0, 0, 0, 0,0,1,0,0,0,0,0,0,0,0,0,0,0,0,0,0,0,0,0,0])\n",
    "    #temp=temp[2015:2063]\n",
    "    print(temp)\n",
    "    #print(len(temp))\n",
    "#full time period is [2015:2112]"
   ]
  },
  {
   "cell_type": "code",
   "execution_count": 205,
   "id": "587c890f",
   "metadata": {},
   "outputs": [
    {
     "name": "stdout",
     "output_type": "stream",
     "text": [
      "[6.0, 5.3, 4.7, 5.0, 4.6, 4.0, 4.6, 8.4, 11.6, 13.7, 15.1, 17.0, 17.8, 19.2, 20.1, 20.4, 20.5, 20.1, 18.4, 16.1, 14.2, 13.4, 13.0, 12.5, 12.0]\n"
     ]
    }
   ],
   "source": [
    "#Air Temp CRN:\n",
    "with open('CRNH0203-2022-KY_Bowling_Green_21_NNE.txt') as f:\n",
    "    lst=[line.split()[9] for line in f]\n",
    "    #print(lst)\n",
    "    temp_crn=[]\n",
    "    for i in lst:\n",
    "        new=i.replace(',',\"\")\n",
    "        temp_crn.append(new)\n",
    "    temp_crn=[float(x) for x in temp_crn]\n",
    "    temp_crn=temp_crn[2789:2814]\n",
    "#     y = np.array(temp_crn)\n",
    "#     temp_crn = ma.masked_array(y, mask=[0, 0, 0, 0, 0,0,1,0,0,0,0,0,0,0,0,0,0,0,0,0,0,0,0,0,0])\n",
    "    print(temp_crn)\n",
    "    #print(len(temp_crn))\n",
    "    # print(temp_crn[2124])"
   ]
  },
  {
   "cell_type": "code",
   "execution_count": 206,
   "id": "fc14fcbf",
   "metadata": {},
   "outputs": [
    {
     "name": "stdout",
     "output_type": "stream",
     "text": [
      "[0.49045000000000005, 0.7105300000000003, 1.0940399999999997, 0.4287099999999997, 0.95038, 1.4521199999999999, 2.0662900000000004, 1.7098999999999993, 0.9239999999999995, 0.9198000000000004, 1.2782999999999998, 1.1917000000000009, 1.3648999999999987, 0.9696999999999996, 0.8989999999999974, 0.6050000000000004, -0.03280000000000172, -0.2137000000000029, -0.3694999999999986, -0.7171000000000021, 0.08420000000000094, 0.07019999999999982, -0.8954000000000004, 0.008399999999999963, 0.07709999999999972]\n"
     ]
    }
   ],
   "source": [
    "difference6_bow = []\n",
    "\n",
    "zip_object = zip(temp, temp_crn)\n",
    "for temp_i, temp_crn_i in zip_object:\n",
    "    difference6_bow.append(temp_i-temp_crn_i)\n",
    "\n",
    "print(difference6_bow)"
   ]
  },
  {
   "cell_type": "markdown",
   "id": "2d5250c8",
   "metadata": {},
   "source": [
    "<font size=\"3\">Gadsden, AL: 0200 UTC 31 March 2022-0200 UTC 1 April 2022</font>"
   ]
  },
  {
   "cell_type": "code",
   "execution_count": 207,
   "id": "d5736a5a",
   "metadata": {},
   "outputs": [
    {
     "name": "stdout",
     "output_type": "stream",
     "text": [
      "[8.36545, 7.63553, 7.54404, 7.24121, 6.98788, 6.20212, 7.35379, 9.98489, 12.4615, 15.0573, 17.6908, 19.8167, 21.0399, 21.8572, 22.3115, 22.3175, 21.5922, 20.8238, 18.6555, 16.4454, 15.0342, 13.9077, 12.9171, 11.8209, 11.3896]\n"
     ]
    }
   ],
   "source": [
    "#18 hr hrrr:\n",
    "with open('hrrr_f18_Gadsden_AL.txt') as f:\n",
    "    lst=[line.split()[1] for line in f]\n",
    "    temp=[]\n",
    "    for i in lst:\n",
    "        new=i.replace(',',\"\")\n",
    "        temp.append(new)\n",
    "    temp.pop(0)\n",
    "    temp=[float(x) for x in temp]\n",
    "    #print(temp.index(6.91541))\n",
    "    temp=temp[2772:2797]\n",
    "    print(temp)\n",
    "    #print(len(temp))\n",
    "#full time period is [2015:2112]"
   ]
  },
  {
   "cell_type": "code",
   "execution_count": 208,
   "id": "45df4440",
   "metadata": {},
   "outputs": [
    {
     "name": "stdout",
     "output_type": "stream",
     "text": [
      "[8.8, 7.8, 6.4, 6.3, 6.0, 4.6, 4.8, 7.6, 11.2, 14.0, 16.3, 18.0, 19.4, 20.0, 20.5, 20.7, 20.8, 20.4, 18.9, 14.9, 12.0, 10.5, 9.4, 8.2, 7.5]\n"
     ]
    }
   ],
   "source": [
    "#Air Temp CRN:\n",
    "with open('CRNH0203-2022-AL_Gadsden_19_N.txt') as f:\n",
    "    lst=[line.split()[9] for line in f]\n",
    "    #print(lst)\n",
    "    temp_crn=[]\n",
    "    for i in lst:\n",
    "        new=i.replace(',',\"\")\n",
    "        temp_crn.append(new)\n",
    "    temp_crn=[float(x) for x in temp_crn]\n",
    "    temp_crn=temp_crn[2789:2814]\n",
    "    print(temp_crn)\n",
    "    #print(len(temp_crn))\n",
    "    # print(temp_crn[2124])"
   ]
  },
  {
   "cell_type": "code",
   "execution_count": 209,
   "id": "c40601c6",
   "metadata": {},
   "outputs": [
    {
     "name": "stdout",
     "output_type": "stream",
     "text": [
      "[-0.43455000000000155, -0.16446999999999967, 1.1440399999999995, 0.9412099999999999, 0.9878799999999996, 1.6021200000000002, 2.5537900000000002, 2.3848900000000004, 1.2614999999999998, 1.0572999999999997, 1.3907999999999987, 1.8167000000000009, 1.6399000000000008, 1.8571999999999989, 1.8114999999999988, 1.6174999999999997, 0.7921999999999976, 0.42379999999999995, -0.2444999999999986, 1.545399999999999, 3.0342000000000002, 3.4077, 3.5170999999999992, 3.6209000000000007, 3.8895999999999997]\n"
     ]
    }
   ],
   "source": [
    "difference6_gad = []\n",
    "\n",
    "zip_object = zip(temp, temp_crn)\n",
    "for temp_i, temp_crn_i in zip_object:\n",
    "    difference6_gad.append(temp_i-temp_crn_i)\n",
    "\n",
    "print(difference6_gad)"
   ]
  },
  {
   "cell_type": "markdown",
   "id": "3a27b646",
   "metadata": {},
   "source": [
    "<font size=\"3\">Newton, GA: 0700 UTC 31 March 2022-0700 UTC 1 April 2022</font>"
   ]
  },
  {
   "cell_type": "code",
   "execution_count": 210,
   "id": "dbf5d6b4",
   "metadata": {},
   "outputs": [
    {
     "name": "stdout",
     "output_type": "stream",
     "text": [
      "[20.1154, 18.573, 17.544, 16.1162, 15.3004, 14.3896, 15.5413, 17.4849, 20.0865, 22.3073, 24.8158, 26.9417, 28.2899, 29.0447, 29.3115, 29.505, 28.7172, 27.8238, 25.0305, 22.4454, 21.2217, 20.2827, 19.6046, 18.6334, 17.9521]\n"
     ]
    }
   ],
   "source": [
    "#18 hr hrrr:\n",
    "with open('hrrr_f18_Newton_GA.txt') as f:\n",
    "    lst=[line.split()[1] for line in f]\n",
    "    temp=[]\n",
    "    for i in lst:\n",
    "        new=i.replace(',',\"\")\n",
    "        temp.append(new)\n",
    "    temp.pop(0)\n",
    "    temp=[float(x) for x in temp]\n",
    "    #print(temp.index(6.91541))\n",
    "    temp=temp[2772:2797]\n",
    "    print(temp)\n",
    "    #print(len(temp))\n",
    "#full time period is [2015:2112]"
   ]
  },
  {
   "cell_type": "code",
   "execution_count": 211,
   "id": "b544166a",
   "metadata": {},
   "outputs": [
    {
     "name": "stdout",
     "output_type": "stream",
     "text": [
      "[18.4, 17.3, 16.2, 15.9, 15.3, 14.5, 13.8, 15.0, 16.7, 18.6, 20.7, 22.9, 24.7, 26.3, 26.9, 27.3, 27.2, 26.6, 24.7, 20.6, 18.0, 16.7, 15.5, 14.5, 13.7]\n"
     ]
    }
   ],
   "source": [
    "#Air Temp CRN:\n",
    "with open('CRNH0203-2022-GA_Newton_11_SW.txt') as f:\n",
    "    lst=[line.split()[9] for line in f]\n",
    "    #print(lst)\n",
    "    temp_crn=[]\n",
    "    for i in lst:\n",
    "        new=i.replace(',',\"\")\n",
    "        temp_crn.append(new)\n",
    "    temp_crn=[float(x) for x in temp_crn]\n",
    "    temp_crn=temp_crn[2789:2814]\n",
    "    print(temp_crn)\n",
    "    #print(len(temp_crn))\n",
    "    # print(temp_crn[2124])"
   ]
  },
  {
   "cell_type": "code",
   "execution_count": 212,
   "id": "46476cb4",
   "metadata": {},
   "outputs": [
    {
     "name": "stdout",
     "output_type": "stream",
     "text": [
      "[1.7154000000000025, 1.2729999999999997, 1.3440000000000012, 0.21619999999999884, 0.00039999999999906777, -0.11040000000000028, 1.741299999999999, 2.4848999999999997, 3.3865000000000016, 3.7073, 4.1158, 4.041700000000002, 3.5899, 2.744699999999998, 2.4115, 2.2049999999999983, 1.517199999999999, 1.2237999999999971, 0.3305000000000007, 1.845399999999998, 3.2216999999999985, 3.582699999999999, 4.104600000000001, 4.133400000000002, 4.252100000000002]\n"
     ]
    }
   ],
   "source": [
    "difference6_newt = []\n",
    "\n",
    "zip_object = zip(temp, temp_crn)\n",
    "for temp_i, temp_crn_i in zip_object:\n",
    "    difference6_newt.append(temp_i-temp_crn_i)\n",
    "\n",
    "print(difference6_newt)"
   ]
  },
  {
   "cell_type": "code",
   "execution_count": 213,
   "id": "8a134c48",
   "metadata": {},
   "outputs": [
    {
     "name": "stdout",
     "output_type": "stream",
     "text": [
      "25\n"
     ]
    }
   ],
   "source": [
    "hour=[6,7,8,9,10,11,12,13,14,15,16,17,18,19,20,21,22,23,0,1,2,3,4,5,6]\n",
    "print(len(hour))"
   ]
  },
  {
   "cell_type": "code",
   "execution_count": 214,
   "id": "45def68f",
   "metadata": {},
   "outputs": [
    {
     "name": "stdout",
     "output_type": "stream",
     "text": [
      "range(0, 25)\n"
     ]
    }
   ],
   "source": [
    "xs = range(len(hour))\n",
    "print(xs)"
   ]
  },
  {
   "cell_type": "code",
   "execution_count": 215,
   "id": "d5fd370b",
   "metadata": {},
   "outputs": [
    {
     "name": "stdout",
     "output_type": "stream",
     "text": [
      "[ 1.54567917  1.571585    1.759365    1.9243      2.08512333  1.93218\n",
      "  1.325735    1.802665    2.54575455  1.53394333  0.60175833  0.156325\n",
      " -0.00594167 -0.09314167 -0.372275   -0.46045833 -1.11201667 -2.00869167\n",
      " -2.836675   -0.95158667  0.069025    0.97434     1.450805    1.73510833\n",
      "  1.41350083]\n",
      "[2.11408269 1.94250111 2.11862478 2.16648537 2.11665539 2.31548231\n",
      " 2.66631244 2.82634152 2.59189593 1.85502244 1.66563347 1.8177734\n",
      " 2.04554558 2.18699076 2.1573646  2.06953005 1.95680459 1.97015795\n",
      " 1.89007912 2.52736757 2.71160745 2.43931936 2.56138711 2.76320097\n",
      " 2.90083172]\n"
     ]
    },
    {
     "name": "stderr",
     "output_type": "stream",
     "text": [
      "C:\\Users\\panwalaf\\AppData\\Local\\Temp\\ipykernel_15692\\2360887579.py:3: UserWarning: Warning: converting a masked element to nan.\n",
      "  c1 = np.array([difference1_sal,difference1_bat,difference1_laf,difference1_mon,difference1_hol,difference1_new,difference1_gai,difference1_fai,difference1_sel,difference1_bow,difference1_gad,difference1_newt])\n",
      "C:\\Users\\panwalaf\\AppData\\Local\\Temp\\ipykernel_15692\\2360887579.py:8: UserWarning: Warning: converting a masked element to nan.\n",
      "  b1 = np.array([difference1_sal,difference1_bat,difference1_laf,difference1_mon,difference1_hol,difference1_new,difference1_gai,difference1_fai,difference1_sel,difference1_bow,difference1_gad,difference1_newt])\n"
     ]
    },
    {
     "data": {
      "text/plain": [
       "25"
      ]
     },
     "execution_count": 215,
     "metadata": {},
     "output_type": "execute_result"
    }
   ],
   "source": [
    "# data = np.array([difference1_sal,difference1_sel,difference1_mon])\n",
    "# np.ma.average(data, axis=0)\n",
    "c1 = np.array([difference1_sal,difference1_bat,difference1_laf,difference1_mon,difference1_hol,difference1_new,difference1_gai,difference1_fai,difference1_sel,difference1_bow,difference1_gad,difference1_newt])\n",
    "c1=np.nanmean(c1, axis=0)\n",
    "print(c1)\n",
    "len(c1)\n",
    "\n",
    "b1 = np.array([difference1_sal,difference1_bat,difference1_laf,difference1_mon,difference1_hol,difference1_new,difference1_gai,difference1_fai,difference1_sel,difference1_bow,difference1_gad,difference1_newt])\n",
    "b1=np.nanstd(b1, axis=0)\n",
    "print(b1)\n",
    "len(b1)"
   ]
  },
  {
   "cell_type": "code",
   "execution_count": 216,
   "id": "7d6e3e43",
   "metadata": {},
   "outputs": [
    {
     "data": {
      "image/png": "[encoded data removed]",
      "text/plain": [
       "<Figure size 792x396 with 1 Axes>"
      ]
     },
     "metadata": {},
     "output_type": "display_data"
    }
   ],
   "source": [
    "plt.style.use('seaborn-whitegrid')\n",
    "plt.rcParams[\"figure.figsize\"] = [11.00, 5.50]\n",
    "plt.rcParams[\"figure.autolayout\"] = True\n",
    "plt.yticks(np.arange(-8,10,2))\n",
    "plt.ylim(-8,8)\n",
    "# c[6]=None\n",
    "# b[6]=None\n",
    "\n",
    "plt.plot(xs,c1,c=\"black\")\n",
    "plt.errorbar(xs,c1,yerr=b1,linestyle='None', marker='s')\n",
    "# c[6]=None\n",
    "# b[6]=None\n",
    "\n",
    "plt.title(\"18-hr Avg. MBE All Stations\")\n",
    "plt.xlabel(\"UTC Hour\")\n",
    "plt.ylabel(\"MBE Air Temperature (C)\")\n",
    "#plt.plot(hour,c)\n",
    "#plt.errorbar(hour,c,yerr=b,ecolor='r',elinewidth=5,fmt='s',color='k')\n",
    "#plt.grid()\n",
    "#plt.xticks(np.arange(min(xs), max(xs)+1, 1.0))\n",
    "plt.xticks(xs, hour)\n",
    "plt.show()\n",
    "#plt.axvspan(-4, 4, color='green', alpha=0.2, lw=0)"
   ]
  },
  {
   "cell_type": "code",
   "execution_count": 217,
   "id": "d14691f0",
   "metadata": {},
   "outputs": [
    {
     "name": "stdout",
     "output_type": "stream",
     "text": [
      "[ 1.66057364  1.54482508  1.7841745   1.84357878  1.613636    1.49815067\n",
      "  1.29619957  1.63164551  1.81078175  1.51951025  1.22406833  1.31824083\n",
      "  1.04570333  1.08374333  1.10962917  0.75421667  0.25615    -0.32076833\n",
      " -1.52044833 -0.42442167  0.46903667  0.780405    0.69576167  0.42392\n",
      "  0.05680667]\n",
      "[1.64625917 1.90400372 1.77327775 1.72296427 1.88455424 2.13053203\n",
      " 2.13113626 1.61678878 1.04591794 0.90926239 1.06132824 1.31927055\n",
      " 1.41899649 1.30990388 1.29162926 1.27047638 1.16993033 1.11408393\n",
      " 1.36391158 1.51518277 1.91909967 2.31164469 2.44609839 2.44467161\n",
      " 2.38020719]\n"
     ]
    },
    {
     "data": {
      "text/plain": [
       "25"
      ]
     },
     "execution_count": 217,
     "metadata": {},
     "output_type": "execute_result"
    }
   ],
   "source": [
    "c2 = np.array([difference2_sal,difference2_bat,difference2_laf,difference2_mon,difference2_hol,difference2_new,difference2_gai,difference2_fai,difference2_sel,difference2_bow,difference2_gad,difference2_newt])\n",
    "c2=np.nanmean(c2, axis=0)\n",
    "print(c2)\n",
    "len(c2)\n",
    "\n",
    "b2 = np.array([difference2_sal,difference2_bat,difference2_laf,difference2_mon,difference2_hol,difference2_new,difference2_gai,difference2_fai,difference2_sel,difference2_bow,difference2_gad,difference2_newt])\n",
    "b2=np.nanstd(b2, axis=0)\n",
    "print(b2)\n",
    "len(b2)"
   ]
  },
  {
   "cell_type": "code",
   "execution_count": 218,
   "id": "4c8ac8a3",
   "metadata": {},
   "outputs": [
    {
     "data": {
      "image/png": "[encoded data removed]",
      "text/plain": [
       "<Figure size 792x396 with 1 Axes>"
      ]
     },
     "metadata": {},
     "output_type": "display_data"
    }
   ],
   "source": [
    "plt.style.use('seaborn-whitegrid')\n",
    "plt.rcParams[\"figure.figsize\"] = [11.00, 5.50]\n",
    "plt.yticks(np.arange(-8,10,2))\n",
    "plt.ylim(-8,8)\n",
    "# c[6]=None\n",
    "# b[6]=None\n",
    "\n",
    "plt.plot(xs,c2,c=\"red\")\n",
    "plt.errorbar(xs,c2,c=\"red\",yerr=b1,linestyle='None', marker='s')\n",
    "# c[6]=None\n",
    "# b[6]=None\n",
    "\n",
    "plt.title(\"18-hr Avg. MBE All Stations\")\n",
    "plt.xlabel(\"UTC Hour\")\n",
    "plt.ylabel(\"MBE Air Temperature (C)\")\n",
    "#plt.plot(hour,c)\n",
    "#plt.errorbar(hour,c,yerr=b,ecolor='r',elinewidth=5,fmt='s',color='k')\n",
    "#plt.grid()\n",
    "#plt.xticks(np.arange(min(xs), max(xs)+1, 1.0))\n",
    "plt.xticks(xs, hour)\n",
    "plt.show()\n",
    "#plt.axvspan(-4, 4, color='green', alpha=0.2, lw=0)"
   ]
  },
  {
   "cell_type": "code",
   "execution_count": 219,
   "id": "e0b94a04",
   "metadata": {},
   "outputs": [
    {
     "name": "stdout",
     "output_type": "stream",
     "text": [
      "[ 2.74009     2.70703333  2.856275    2.93373833  2.81992     3.06391642\n",
      "  2.94142683  3.9544825   3.58208     1.79293333  0.85800833  0.42345833\n",
      "  0.52899167  0.3315      0.11380833 -0.177      -0.50119167 -0.89824167\n",
      " -1.49090833  0.29916667  0.94273333  1.41704083  1.71294333  2.06539833\n",
      "  1.932935  ]\n",
      "[2.44463121 2.38589015 2.58343327 2.54225979 2.30185896 2.31853063\n",
      " 2.34478179 1.82989001 1.73814374 1.86533853 1.66399102 1.51629567\n",
      " 1.32537788 1.15790984 1.13912954 1.14683668 1.40348764 1.62582878\n",
      " 1.80434558 1.64827351 1.72009669 1.95544586 2.66218339 2.63365408\n",
      " 2.5688919 ]\n"
     ]
    },
    {
     "data": {
      "text/plain": [
       "25"
      ]
     },
     "execution_count": 219,
     "metadata": {},
     "output_type": "execute_result"
    }
   ],
   "source": [
    "c3 = np.array([difference3_sal,difference3_bat,difference3_laf,difference3_mon,difference3_hol,difference3_new,difference3_gai,difference3_fai,difference3_sel,difference3_bow,difference3_gad,difference3_newt])\n",
    "c3=np.nanmean(c3, axis=0)\n",
    "print(c3)\n",
    "len(c3)\n",
    "\n",
    "b3 = np.array([difference3_sal,difference3_bat,difference3_laf,difference3_mon,difference3_hol,difference3_new,difference3_gai,difference3_fai,difference3_sel,difference3_bow,difference3_gad,difference3_newt])\n",
    "b3=np.nanstd(b3, axis=0)\n",
    "print(b3)\n",
    "len(b3)"
   ]
  },
  {
   "cell_type": "code",
   "execution_count": 220,
   "id": "00a5e783",
   "metadata": {},
   "outputs": [
    {
     "data": {
      "image/png": "[encoded data removed]",
      "text/plain": [
       "<Figure size 792x396 with 1 Axes>"
      ]
     },
     "metadata": {},
     "output_type": "display_data"
    }
   ],
   "source": [
    "plt.style.use('seaborn-whitegrid')\n",
    "plt.rcParams[\"figure.figsize\"] = [11.00, 5.50]\n",
    "plt.rcParams[\"figure.autolayout\"] = True\n",
    "plt.yticks(np.arange(-8,10,2))\n",
    "plt.ylim(-8,8)\n",
    "# c[6]=None\n",
    "# b[6]=None\n",
    "\n",
    "plt.plot(xs,c3,c=\"green\")\n",
    "plt.errorbar(xs,c3,c=\"green\",yerr=b3,linestyle='None', marker='s')\n",
    "# c[6]=None\n",
    "# b[6]=None\n",
    "\n",
    "plt.title(\"18-hr Avg. MBE All Stations\")\n",
    "plt.xlabel(\"UTC Hour\")\n",
    "plt.ylabel(\"MBE Air Temperature (C)\")\n",
    "#plt.plot(hour,c)\n",
    "#plt.errorbar(hour,c,yerr=b,ecolor='r',elinewidth=5,fmt='s',color='k')\n",
    "#plt.grid()\n",
    "#plt.xticks(np.arange(min(xs), max(xs)+1, 1.0))\n",
    "plt.xticks(xs, hour)\n",
    "plt.show()\n",
    "#plt.axvspan(-4, 4, color='green', alpha=0.2, lw=0)"
   ]
  },
  {
   "cell_type": "code",
   "execution_count": 221,
   "id": "a2b4f439",
   "metadata": {},
   "outputs": [
    {
     "name": "stdout",
     "output_type": "stream",
     "text": [
      "[ 3.07410417  2.970555    2.95475167  3.045375    2.65311     2.36661667\n",
      "  2.32178     3.2014      1.6857375   0.315975    0.014385    0.591425\n",
      "  0.72623333  0.65661667  0.777075    0.63576667  0.24031667 -0.31073333\n",
      " -0.76764167 -0.00806667  0.80645     1.17604     1.779175    1.75126833\n",
      "  1.59098833]\n",
      "[1.64333946 1.56491368 1.70875376 1.75007435 1.50306505 1.55119941\n",
      " 1.56065043 1.89036069 1.37629346 1.46526737 1.44079947 1.4394925\n",
      " 1.36277074 1.25540325 1.03201518 1.05482934 1.12927237 1.14390747\n",
      " 1.07449671 1.57617626 1.94962937 2.09020966 2.13189522 1.9666985\n",
      " 2.08647606]\n"
     ]
    },
    {
     "data": {
      "text/plain": [
       "25"
      ]
     },
     "execution_count": 221,
     "metadata": {},
     "output_type": "execute_result"
    }
   ],
   "source": [
    "c4 = np.array([difference4_sal,difference4_bat,difference4_laf,difference4_mon,difference4_hol,difference4_new,difference4_gai,difference4_fai,difference4_sel,difference4_bow,difference4_gad,difference4_newt])\n",
    "c4=np.nanmean(c4, axis=0)\n",
    "print(c4)\n",
    "len(c4)\n",
    "\n",
    "b4 = np.array([difference4_sal,difference4_bat,difference4_laf,difference4_mon,difference4_hol,difference4_new,difference4_gai,difference4_fai,difference4_sel,difference4_bow,difference4_gad,difference4_newt])\n",
    "b4=np.nanstd(b4, axis=0)\n",
    "print(b4)\n",
    "len(b4)"
   ]
  },
  {
   "cell_type": "code",
   "execution_count": 222,
   "id": "e70a6cef",
   "metadata": {},
   "outputs": [
    {
     "data": {
      "image/png": "[encoded data removed]",
      "text/plain": [
       "<Figure size 792x396 with 1 Axes>"
      ]
     },
     "metadata": {},
     "output_type": "display_data"
    }
   ],
   "source": [
    "plt.style.use('seaborn-whitegrid')\n",
    "plt.rcParams[\"figure.figsize\"] = [11.00, 5.50]\n",
    "plt.rcParams[\"figure.autolayout\"] = True\n",
    "plt.yticks(np.arange(-8,10,2))\n",
    "plt.ylim(-8,8)\n",
    "# c[6]=None\n",
    "# b[6]=None\n",
    "\n",
    "plt.plot(xs,c4,c=\"orange\")\n",
    "plt.errorbar(xs,c4,c=\"orange\",yerr=b4,linestyle='None', marker='s')\n",
    "# c[6]=None\n",
    "# b[6]=None\n",
    "\n",
    "plt.title(\"18-hr Avg. MBE All Stations\")\n",
    "plt.xlabel(\"UTC Hour\")\n",
    "plt.ylabel(\"MBE Air Temperature (C)\")\n",
    "#plt.plot(hour,c)\n",
    "#plt.errorbar(hour,c,yerr=b,ecolor='r',elinewidth=5,fmt='s',color='k')\n",
    "#plt.grid()\n",
    "#plt.xticks(np.arange(min(xs), max(xs)+1, 1.0))\n",
    "plt.xticks(xs, hour)\n",
    "plt.show()\n",
    "#plt.axvspan(-4, 4, color='green', alpha=0.2, lw=0)"
   ]
  },
  {
   "cell_type": "code",
   "execution_count": 223,
   "id": "dbef1150",
   "metadata": {},
   "outputs": [
    {
     "name": "stdout",
     "output_type": "stream",
     "text": [
      "[ 0.06112     0.19733917  0.00825667  0.22922534  0.42358836  0.66187983\n",
      "  0.89055033  0.60037917 -0.34491667 -0.29853333  0.06099     0.22483167\n",
      "  0.42854167  0.412075    0.43509167  0.14838333 -0.01251667 -0.5514\n",
      " -0.5988      0.58891083  1.96308917  1.88589667  1.91441167  1.70368083\n",
      "  1.547     ]\n",
      "[1.3564831  1.21795509 1.06533509 1.14849257 1.55039285 1.7028524\n",
      " 1.82420459 1.27854486 0.61124091 0.69879446 0.9439292  1.15627482\n",
      " 1.37283407 1.35344011 1.45517627 1.51678828 1.6323618  1.59874625\n",
      " 1.39976747 1.35424856 1.36492338 1.76858834 1.93149165 1.70099495\n",
      " 1.64372227]\n"
     ]
    },
    {
     "data": {
      "text/plain": [
       "25"
      ]
     },
     "execution_count": 223,
     "metadata": {},
     "output_type": "execute_result"
    }
   ],
   "source": [
    "# data = np.array([difference1_sal,difference1_sel,difference1_mon])\n",
    "# np.ma.average(data, axis=0)\n",
    "c5 = np.array([difference5_sal,difference5_bat,difference5_laf,difference5_mon,difference5_hol,difference5_new,difference5_gai,difference5_fai,difference5_sel,difference5_bow,difference5_gad,difference5_newt])\n",
    "c5=np.nanmean(c5, axis=0)\n",
    "print(c5)\n",
    "len(c5)\n",
    "\n",
    "b5 = np.array([difference5_sal,difference5_bat,difference5_laf,difference5_mon,difference5_hol,difference5_new,difference5_gai,difference5_fai,difference5_sel,difference5_bow,difference5_gad,difference5_newt])\n",
    "b5=np.nanstd(b5, axis=0)\n",
    "print(b5)\n",
    "len(b5)"
   ]
  },
  {
   "cell_type": "code",
   "execution_count": 224,
   "id": "f702e673",
   "metadata": {},
   "outputs": [
    {
     "data": {
      "image/png": "[encoded data removed]",
      "text/plain": [
       "<Figure size 792x396 with 1 Axes>"
      ]
     },
     "metadata": {},
     "output_type": "display_data"
    }
   ],
   "source": [
    "plt.style.use('seaborn-whitegrid')\n",
    "plt.rcParams[\"figure.figsize\"] = [11.00, 5.50]\n",
    "plt.rcParams[\"figure.autolayout\"] = True\n",
    "plt.yticks(np.arange(-8,10,2))\n",
    "plt.ylim(-8,8)\n",
    "# c[6]=None\n",
    "# b[6]=None\n",
    "\n",
    "plt.plot(xs,c5,c=\"m\")\n",
    "plt.errorbar(xs,c5,c=\"m\",yerr=b1,linestyle='None', marker='s')\n",
    "# c[6]=None\n",
    "# b[6]=None\n",
    "\n",
    "plt.title(\"18-hr Avg. MBE All Stations\")\n",
    "plt.xlabel(\"UTC Hour\")\n",
    "plt.ylabel(\"MBE Air Temperature (C)\")\n",
    "#plt.plot(hour,c)\n",
    "#plt.errorbar(hour,c,yerr=b,ecolor='r',elinewidth=5,fmt='s',color='k')\n",
    "#plt.grid()\n",
    "#plt.xticks(np.arange(min(xs), max(xs)+1, 1.0))\n",
    "plt.xticks(xs, hour)\n",
    "plt.show()\n",
    "#plt.axvspan(-4, 4, color='green', alpha=0.2, lw=0)"
   ]
  },
  {
   "cell_type": "code",
   "execution_count": 225,
   "id": "9a9988dd",
   "metadata": {},
   "outputs": [
    {
     "name": "stdout",
     "output_type": "stream",
     "text": [
      "[ 1.26125417  1.2667625   1.43777     1.20683167  1.536845    2.020865\n",
      "  2.71212667  2.71823     1.95004167  1.37084167  1.36475833  1.58753333\n",
      "  1.67531667  1.58115833  1.33441667  1.15395833  0.61928333  0.23109167\n",
      " -0.17575     0.87665     2.237325    2.60249167  2.67230833  2.911525\n",
      "  2.84793333]\n",
      "[1.77498289 1.86493519 1.70344884 1.76434673 1.7211195  1.40499354\n",
      " 1.19094111 1.31800523 1.32378539 1.31928266 1.56879115 1.5144816\n",
      " 1.29178931 1.13313561 1.05914708 1.05159178 0.97473064 0.96316885\n",
      " 1.09062649 1.45257046 2.10197777 2.49826741 2.45677453 2.29865294\n",
      " 2.44722597]\n"
     ]
    },
    {
     "data": {
      "text/plain": [
       "25"
      ]
     },
     "execution_count": 225,
     "metadata": {},
     "output_type": "execute_result"
    }
   ],
   "source": [
    "# data = np.array([difference1_sal,difference1_sel,difference1_mon])\n",
    "# np.ma.average(data, axis=0)\n",
    "c6 = np.array([difference6_sal,difference6_bat,difference6_laf,difference6_mon,difference6_hol,difference6_new,difference6_gai,difference6_fai,difference6_sel,difference6_bow,difference6_gad,difference6_newt])\n",
    "c6=np.nanmean(c6, axis=0)\n",
    "print(c6)\n",
    "len(c6)\n",
    "\n",
    "b6 = np.array([difference6_sal,difference6_bat,difference6_laf,difference6_mon,difference6_hol,difference6_new,difference6_gai,difference6_fai,difference6_sel,difference6_bow,difference6_gad,difference6_newt])\n",
    "b6=np.nanstd(b6, axis=0)\n",
    "print(b6)\n",
    "len(b6)"
   ]
  },
  {
   "cell_type": "code",
   "execution_count": 226,
   "id": "fe59ac61",
   "metadata": {},
   "outputs": [],
   "source": [
    "# c6=[1.18699667,1.2159875,1.202925,1.02153,0.915495,1.02571667,1.26524667,None,2.2831875,1.7132,1.37515833,1.22099167,1.35300833,1.414275,1.26331667,1.0291,0.78611667,0.569625,0.34864167,0.18683333,1.40921667,2.328025,2.40613333,2.28898333,2.3347]\n",
    "# print(c6)\n",
    "\n",
    "# b6=[1.97701539,1.9395002,1.87538972,1.65278454,1.56076627,1.60271154,1.38167358,None,1.35925266,1.47758425,1.57097252,1.69290383,1.59484406,1.23676456,1.09269393,1.01123893,0.9324703,0.81224555,0.88487667,1.22252443,1.84667376,2.11633728,2.18744841,1.95969035,1.94028697]\n",
    "# print(b6)"
   ]
  },
  {
   "cell_type": "code",
   "execution_count": 227,
   "id": "da13ba5a",
   "metadata": {},
   "outputs": [
    {
     "data": {
      "image/png": "[encoded data removed]",
      "text/plain": [
       "<Figure size 792x396 with 1 Axes>"
      ]
     },
     "metadata": {},
     "output_type": "display_data"
    }
   ],
   "source": [
    "plt.style.use('seaborn-whitegrid')\n",
    "plt.rcParams[\"figure.figsize\"] = [11.00, 5.50]\n",
    "plt.rcParams[\"figure.autolayout\"] = True\n",
    "plt.yticks(np.arange(-8,10,2))\n",
    "plt.ylim(-8,8)\n",
    "# c[6]=None\n",
    "# b[6]=None\n",
    "\n",
    "plt.plot(xs,c6,c=\"c\")\n",
    "plt.errorbar(xs,c6,c=\"c\",yerr=b6,linestyle='None', marker='s')\n",
    "# c[6]=None\n",
    "# b[6]=None\n",
    "\n",
    "plt.title(\"18-hr Avg. MBE All Stations\")\n",
    "plt.xlabel(\"UTC Hour\")\n",
    "plt.ylabel(\"MBE Air Temperature (C)\")\n",
    "#plt.plot(hour,c)\n",
    "#plt.errorbar(hour,c,yerr=b,ecolor='r',elinewidth=5,fmt='s',color='k')\n",
    "#plt.grid()\n",
    "#plt.xticks(np.arange(min(xs), max(xs)+1, 1.0))\n",
    "plt.xticks(xs, hour)\n",
    "plt.show()\n",
    "#plt.axvspan(-4, 4, color='green', alpha=0.2, lw=0)"
   ]
  },
  {
   "cell_type": "code",
   "execution_count": 228,
   "id": "240eafe4",
   "metadata": {},
   "outputs": [
    {
     "data": {
      "image/png": "[encoded data removed]",
      "text/plain": [
       "<Figure size 792x396 with 1 Axes>"
      ]
     },
     "metadata": {},
     "output_type": "display_data"
    }
   ],
   "source": [
    "plt.style.use('seaborn-whitegrid')\n",
    "plt.rcParams[\"figure.figsize\"] = [11.00, 5.50]\n",
    "plt.rcParams[\"figure.autolayout\"] = True\n",
    "plt.yticks(np.arange(-8,10,2))\n",
    "plt.ylim(-8,8)\n",
    "\n",
    "plt.plot(xs,c1,c=\"b\",label=\"IOP 1\")\n",
    "plt.errorbar(xs,c1,c=\"b\",yerr=b1,linestyle='None', marker='s')\n",
    "\n",
    "plt.plot(xs,c2,c=\"r\",label=\"IOP 2\")\n",
    "plt.errorbar(xs,c2,c=\"r\",yerr=b2,linestyle='None', marker='s')\n",
    "\n",
    "plt.plot(xs,c3,c=\"green\")\n",
    "plt.errorbar(xs,c3,c=\"green\",yerr=b3,linestyle='None', marker='s')\n",
    "\n",
    "plt.plot(xs,c4,c=\"orange\")\n",
    "plt.errorbar(xs,c4,c=\"orange\",yerr=b4,linestyle='None', marker='s')\n",
    "\n",
    "plt.plot(xs,c5,c=\"m\")\n",
    "plt.errorbar(xs,c5,c=\"m\",yerr=b5,linestyle='None', marker='s')\n",
    "\n",
    "plt.plot(xs,c6,c=\"c\")\n",
    "plt.errorbar(xs,c6,c=\"c\",yerr=b6,linestyle='None', marker='s')\n",
    "\n",
    "plt.title(\"18-hr Avg. MBE All Stations\")\n",
    "plt.xlabel(\"UTC Hour\")\n",
    "plt.ylabel(\"MBE Air Temperature (C)\")\n",
    "#plt.plot(hour,c)\n",
    "#plt.errorbar(hour,c,yerr=b,ecolor='r',elinewidth=5,fmt='s',color='k')\n",
    "#plt.grid()\n",
    "plt.xticks(xs, hour)\n",
    "plt.legend([\"IOP 1\", \"IOP 2\",\"IOP 3\",\"IOP 4\",\"IOP 5\",\"IOP 6\"], loc =\"lower right\")\n",
    "plt.show()"
   ]
  },
  {
   "cell_type": "code",
   "execution_count": null,
   "id": "198a5bbe",
   "metadata": {},
   "outputs": [],
   "source": []
  }
 ],
 "metadata": {
  "kernelspec": {
   "display_name": "Python 3 (ipykernel)",
   "language": "python",
   "name": "python3"
  },
  "language_info": {
   "codemirror_mode": {
    "name": "ipython",
    "version": 3
   },
   "file_extension": ".py",
   "mimetype": "text/x-python",
   "name": "python",
   "nbconvert_exporter": "python",
   "pygments_lexer": "ipython3",
   "version": "3.9.12"
  }
 },
 "nbformat": 4,
 "nbformat_minor": 5
}
