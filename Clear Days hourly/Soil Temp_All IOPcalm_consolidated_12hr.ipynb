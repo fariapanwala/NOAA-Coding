{
 "cells": [
  {
   "cell_type": "code",
   "execution_count": 1,
   "id": "83d28093",
   "metadata": {},
   "outputs": [],
   "source": [
    "import numpy as np\n",
    "import matplotlib.pyplot as plt\n",
    "import math\n",
    "import numpy.ma as ma"
   ]
  },
  {
   "cell_type": "markdown",
   "id": "18ad22a0",
   "metadata": {},
   "source": [
    "<font size=\"3\">Salem, MO: 0600 UTC (12:00 am CST) 01 March 2022-0600 UTC (12:00 am CST) 02 March 2022</font>"
   ]
  },
  {
   "cell_type": "code",
   "execution_count": 2,
   "id": "9236619f",
   "metadata": {},
   "outputs": [
    {
     "name": "stdout",
     "output_type": "stream",
     "text": [
      "[3.94, 3.14999, 2.64999, 2.35001, 1.82001, 2.38, 2.08002, 2.36002, 3.58002, 5.95999, 8.39001, 10.68, 13.09, 15.71, 17.41, 18.21, 18.38, 17.47, 15.33, 13.06, 11.78, 10.56, 9.61002, 8.83002, 8.30002]\n",
      "25\n"
     ]
    }
   ],
   "source": [
    "#12 hr hrrr:\n",
    "with open('hrrr_f12_Salem_MO.txt') as f:\n",
    "    lst=[line.split()[5] for line in f]\n",
    "    temp=[]\n",
    "    for i in lst:\n",
    "        new=i.replace(',',\"\")\n",
    "        temp.append(new)\n",
    "    temp.pop(0)\n",
    "    temp=[float(x) for x in temp]\n",
    "    temp=temp[1410:1435]\n",
    "    #temp=temp[2015:2063]\n",
    "    print(temp)\n",
    "    print(len(temp))\n",
    "#full time period is [2015:2112]"
   ]
  },
  {
   "cell_type": "code",
   "execution_count": 3,
   "id": "e9d4dbcc",
   "metadata": {},
   "outputs": [
    {
     "name": "stdout",
     "output_type": "stream",
     "text": [
      "[1.4, 1.3, 1.2, 1.2, 1.2, 1.1, 1.1, 1.1, 1.1, 1.1, 1.4, 2.2, 3.1, 3.9, 4.5, 5.0, 5.2, 5.2, 5.0, 4.8, 4.5, 4.2, 3.9, 3.6, 3.4]\n"
     ]
    }
   ],
   "source": [
    "#Air Temp CRN:\n",
    "with open('CRNH0203-2022-MO_Salem_10_W.txt') as f:\n",
    "    lst=[line.split()[33] for line in f]\n",
    "    #print(lst)\n",
    "    temp_crn=[]\n",
    "    for i in lst:\n",
    "        new=i.replace(',',\"\")\n",
    "        temp_crn.append(new)\n",
    "    temp_crn=[float(x) for x in temp_crn]\n",
    "    temp_crn=temp_crn[1421:1446]\n",
    "    print(temp_crn)\n",
    "    #print(len(temp_crn))\n",
    "    # print(temp_crn[2124])"
   ]
  },
  {
   "cell_type": "code",
   "execution_count": 4,
   "id": "1e9aed03-d99c-4045-812a-e26bcc99b84f",
   "metadata": {},
   "outputs": [
    {
     "name": "stdout",
     "output_type": "stream",
     "text": [
      "[2.54, 1.8499899999999998, 1.44999, 1.1500100000000002, 0.62001, 1.2799999999999998, 0.9800200000000001, 1.26002, 2.48002, 4.85999, 6.99001, 8.48, 9.99, 11.81, 12.91, 13.21, 13.18, 12.27, 10.33, 8.260000000000002, 7.279999999999999, 6.36, 5.71002, 5.23002, 4.90002]\n"
     ]
    }
   ],
   "source": [
    "difference1_sal = []\n",
    "\n",
    "zip_object = zip(temp, temp_crn)\n",
    "for temp_i, temp_crn_i in zip_object:\n",
    "    difference1_sal.append(temp_i-temp_crn_i)\n",
    "\n",
    "print(difference1_sal)"
   ]
  },
  {
   "cell_type": "markdown",
   "id": "9043c519",
   "metadata": {},
   "source": [
    "<font size=\"3\">Batesville, AR: 1200 UTC 22 March 2022-1200 UTC 23 March 2022</font>"
   ]
  },
  {
   "cell_type": "code",
   "execution_count": 5,
   "id": "ee5d006f",
   "metadata": {},
   "outputs": [
    {
     "name": "stdout",
     "output_type": "stream",
     "text": [
      "[4.76001 4.69 4.09 3.60001 3.36002 2.88 2.66 2.08002 3.14001 6.31 9.57001\n",
      " 12.19 14.35 15.82 16.75 17.06 16.85 15.85 13.86 11.69 10.48 -- 9.07001\n",
      " 8.70001 8.20001]\n",
      "25\n"
     ]
    }
   ],
   "source": [
    "#12 hr hrrr:\n",
    "with open('hrrr_f12_Batesville_AR.txt') as f:\n",
    "    lst=[line.split()[5] for line in f]\n",
    "    temp=[]\n",
    "    for i in lst:\n",
    "        new=i.replace(',',\"\")\n",
    "        temp.append(new)\n",
    "    temp.pop(0)\n",
    "    temp=[float(x) for x in temp]\n",
    "    temp=temp[1410:1435]\n",
    "    x = np.array(temp)\n",
    "    temp = ma.masked_array(x, mask=[0, 0, 0, 0, 0,0,0,0,0,0,0,0,0,0,0,0,0,0,0,0,0,1,0,0,0])\n",
    "    #temp=temp[2015:2063]\n",
    "    print(temp)\n",
    "    print(len(temp))\n",
    "#full time period is [2015:2112]"
   ]
  },
  {
   "cell_type": "code",
   "execution_count": 6,
   "id": "11b7f8b7",
   "metadata": {},
   "outputs": [
    {
     "name": "stdout",
     "output_type": "stream",
     "text": [
      "[6.0 5.7 5.5 5.1 4.9 4.7 4.5 4.3 4.2 4.7 5.7 6.7 8.0 9.1 9.9 10.3 10.4\n",
      " 10.2 9.8 9.3 8.8 -- 8.0 7.5 7.2]\n"
     ]
    }
   ],
   "source": [
    "#Air Temp CRN:\n",
    "with open('CRNH0203-2022-AR_Batesville_8_WNW.txt') as f:\n",
    "    lst=[line.split()[33] for line in f]\n",
    "    #print(lst)\n",
    "    temp_crn=[]\n",
    "    for i in lst:\n",
    "        new=i.replace(',',\"\")\n",
    "        temp_crn.append(new)\n",
    "    temp_crn=[float(x) for x in temp_crn]\n",
    "    temp_crn=temp_crn[1421:1446]\n",
    "    y = np.array(temp_crn)\n",
    "    temp_crn = ma.masked_array(y, mask=[0, 0, 0, 0, 0,0,0,0,0,0,0,0,0,0,0,0,0,0,0,0,0,1,0,0,0])\n",
    "    print(temp_crn)\n",
    "    #print(len(temp_crn))\n",
    "    # print(temp_crn[2124])"
   ]
  },
  {
   "cell_type": "code",
   "execution_count": 7,
   "id": "62a46873",
   "metadata": {},
   "outputs": [
    {
     "name": "stdout",
     "output_type": "stream",
     "text": [
      "[-1.2399899999999997, -1.0099999999999998, -1.4100000000000001, -1.4999899999999995, -1.5399800000000003, -1.8200000000000003, -1.8399999999999999, -2.2199799999999996, -1.05999, 1.6099999999999994, 3.8700099999999997, 5.489999999999999, 6.35, 6.720000000000001, 6.85, 6.759999999999998, 6.450000000000001, 5.65, 4.059999999999999, 2.389999999999999, 1.6799999999999997, masked, 1.07001, 1.2000100000000007, 1.0000100000000005]\n"
     ]
    }
   ],
   "source": [
    "difference1_bat = []\n",
    "\n",
    "zip_object = zip(temp, temp_crn)\n",
    "for temp_i, temp_crn_i in zip_object:\n",
    "    difference1_bat.append(temp_i-temp_crn_i)\n",
    "\n",
    "print(difference1_bat)"
   ]
  },
  {
   "cell_type": "markdown",
   "id": "2a2589df",
   "metadata": {},
   "source": [
    "<font size=\"3\">Lafayette, LA: 1500 UTC 22 March 2022-1500 UTC 23 March 2022</font>"
   ]
  },
  {
   "cell_type": "code",
   "execution_count": 8,
   "id": "94433671",
   "metadata": {},
   "outputs": [
    {
     "name": "stdout",
     "output_type": "stream",
     "text": [
      "[10.52, 9.44, 8.60001, 7.87, 6.98001, 6.58002, 5.95999, 5.33002, 6.77002, 10.5, 14.84, 18.38, 21.15, 23.48, 24.87, 25.39, 24.63, 22.68, 21.31, 18.36, 16.79, 15.67, 14.35, 13.0, 12.06]\n",
      "25\n"
     ]
    }
   ],
   "source": [
    "#12 hr hrrr:\n",
    "with open('hrrr_f12_Lafayette_LA.txt') as f:\n",
    "    lst=[line.split()[5] for line in f]\n",
    "    temp=[]\n",
    "    for i in lst:\n",
    "        new=i.replace(',',\"\")\n",
    "        temp.append(new)\n",
    "    temp.pop(0)\n",
    "    temp=[float(x) for x in temp]\n",
    "    temp=temp[1410:1435]\n",
    "    #temp=temp[2015:2063]\n",
    "    print(temp)\n",
    "    print(len(temp))\n",
    "#full time period is [2015:2112]"
   ]
  },
  {
   "cell_type": "code",
   "execution_count": 9,
   "id": "bfe1bb32",
   "metadata": {},
   "outputs": [
    {
     "name": "stdout",
     "output_type": "stream",
     "text": [
      "[13.9, 13.7, 13.3, 13.1, 12.9, 12.6, 12.4, 12.2, 12.0, 12.1, 12.4, 12.9, 13.6, 14.3, 15.0, 15.5, 15.8, 15.9, 15.7, 15.6, 15.2, 14.9, 14.7, 14.4, 14.0]\n"
     ]
    }
   ],
   "source": [
    "#Air Temp CRN:\n",
    "with open('CRNH0203-2022-LA_Lafayette_13_SE.txt') as f:\n",
    "    lst=[line.split()[33] for line in f]\n",
    "    #print(lst)\n",
    "    temp_crn=[]\n",
    "    for i in lst:\n",
    "        new=i.replace(',',\"\")\n",
    "        temp_crn.append(new)\n",
    "    temp_crn=[float(x) for x in temp_crn]\n",
    "    temp_crn=temp_crn[1421:1446]\n",
    "    print(temp_crn)\n",
    "    #print(len(temp_crn))\n",
    "    # print(temp_crn[2124])"
   ]
  },
  {
   "cell_type": "code",
   "execution_count": 10,
   "id": "9b94d0f9",
   "metadata": {},
   "outputs": [
    {
     "name": "stdout",
     "output_type": "stream",
     "text": [
      "[-3.380000000000001, -4.26, -4.6999900000000014, -5.2299999999999995, -5.91999, -6.019979999999999, -6.44001, -6.869979999999999, -5.22998, -1.5999999999999996, 2.4399999999999995, 5.479999999999999, 7.549999999999999, 9.18, 9.870000000000001, 9.89, 8.829999999999998, 6.779999999999999, 5.609999999999999, 2.76, 1.5899999999999999, 0.7699999999999996, -0.34999999999999964, -1.4000000000000004, -1.9399999999999995]\n"
     ]
    }
   ],
   "source": [
    "difference1_laf = []\n",
    "\n",
    "zip_object = zip(temp, temp_crn)\n",
    "for temp_i, temp_crn_i in zip_object:\n",
    "    difference1_laf.append(temp_i-temp_crn_i)\n",
    "\n",
    "print(difference1_laf)"
   ]
  },
  {
   "cell_type": "markdown",
   "id": "7a8d079f",
   "metadata": {},
   "source": [
    "<font size=\"3\">Monroe, LA: 1500 UTC 22 March 2022-1500 UTC 23 March 2022</font>"
   ]
  },
  {
   "cell_type": "code",
   "execution_count": 11,
   "id": "821d447a",
   "metadata": {},
   "outputs": [
    {
     "name": "stdout",
     "output_type": "stream",
     "text": [
      "[5.17001, 5.02002, 5.08002, 4.86002, 4.35001, 4.11002, 4.39001, 3.83002, 4.08002, 6.82001, 9.76001, 12.33, 14.39, 15.96, 17.28, 18.0, 18.32, 17.32, 14.96, 12.58, 11.29, 10.44, 10.26, 9.63, 9.14001]\n",
      "25\n"
     ]
    }
   ],
   "source": [
    "#12 hr hrrr:\n",
    "with open('hrrr_f12_Monroe_LA.txt') as f:\n",
    "    lst=[line.split()[5] for line in f]\n",
    "    temp=[]\n",
    "    for i in lst:\n",
    "        new=i.replace(',',\"\")\n",
    "        temp.append(new)\n",
    "    temp.pop(0)\n",
    "    temp=[float(x) for x in temp]\n",
    "    temp=temp[1410:1435]\n",
    "    #temp=temp[2015:2063]\n",
    "    print(temp)\n",
    "    print(len(temp))\n",
    "#full time period is [2015:2112]"
   ]
  },
  {
   "cell_type": "code",
   "execution_count": 12,
   "id": "5c3999a7",
   "metadata": {},
   "outputs": [
    {
     "name": "stdout",
     "output_type": "stream",
     "text": [
      "[9.3, 8.9, 8.7, 8.5, 8.3, 8.0, 7.7, 7.4, 7.3, 7.5, 8.5, 9.6, 11.0, 12.2, 13.3, 14.0, 14.2, 14.0, 13.5, 12.9, 12.2, 11.6, 11.2, 10.7, 10.2]\n"
     ]
    }
   ],
   "source": [
    "#Air Temp CRN:\n",
    "with open('CRNH0203-2022-LA_Monroe_26_N.txt') as f:\n",
    "    lst=[line.split()[33] for line in f]\n",
    "    #print(lst)\n",
    "    temp_crn=[]\n",
    "    for i in lst:\n",
    "        new=i.replace(',',\"\")\n",
    "        temp_crn.append(new)\n",
    "    temp_crn=[float(x) for x in temp_crn]\n",
    "    temp_crn=temp_crn[1421:1446]\n",
    "    print(temp_crn)\n",
    "    #print(len(temp_crn))\n",
    "    # print(temp_crn[2124])"
   ]
  },
  {
   "cell_type": "code",
   "execution_count": 13,
   "id": "2b4e383a",
   "metadata": {},
   "outputs": [
    {
     "name": "stdout",
     "output_type": "stream",
     "text": [
      "[-4.12999, -3.8799800000000007, -3.619979999999999, -3.6399800000000004, -3.9499900000000006, -3.8899800000000004, -3.30999, -3.56998, -3.2199799999999996, -0.6799900000000001, 1.2600099999999994, 2.7300000000000004, 3.3900000000000006, 3.7600000000000016, 3.9800000000000004, 4.0, 4.120000000000001, 3.3200000000000003, 1.4600000000000009, -0.3200000000000003, -0.9100000000000001, -1.1600000000000001, -0.9399999999999995, -1.0699999999999985, -1.059989999999999]\n"
     ]
    }
   ],
   "source": [
    "difference1_mon = []\n",
    "\n",
    "zip_object = zip(temp, temp_crn)\n",
    "for temp_i, temp_crn_i in zip_object:\n",
    "    difference1_mon.append(temp_i-temp_crn_i)\n",
    "\n",
    "print(difference1_mon)"
   ]
  },
  {
   "cell_type": "markdown",
   "id": "26c585ff",
   "metadata": {},
   "source": [
    "<font size=\"3\">Holly Springs, MS: 1800 UTC 22 March 2022-1800 UTC 23 March 2022</font>"
   ]
  },
  {
   "cell_type": "code",
   "execution_count": 14,
   "id": "4504c8c6",
   "metadata": {},
   "outputs": [
    {
     "name": "stdout",
     "output_type": "stream",
     "text": [
      "[4.52002, 4.11002, 3.88, 3.73001, 3.83002, 3.44, 3.37, 2.87, 4.05002, 6.49002, 8.70001, 10.44, 12.05, 13.25, 13.86, 14.0, 13.87, 13.2, 11.63, 10.33, 9.64999, 9.39999, 9.08002, 8.58002, 8.45999]\n",
      "25\n"
     ]
    }
   ],
   "source": [
    "#12 hr hrrr:\n",
    "with open('hrrr_f12_Holly Springs_MS.txt') as f:\n",
    "    lst=[line.split()[5] for line in f]\n",
    "    temp=[]\n",
    "    for i in lst:\n",
    "        new=i.replace(',',\"\")\n",
    "        temp.append(new)\n",
    "    temp.pop(0)\n",
    "    temp=[float(x) for x in temp]\n",
    "    temp=temp[1410:1435]\n",
    "    #temp=temp[2015:2063]\n",
    "    print(temp)\n",
    "    print(len(temp))\n",
    "#full time period is [2015:2112]"
   ]
  },
  {
   "cell_type": "code",
   "execution_count": 15,
   "id": "19a3055f",
   "metadata": {},
   "outputs": [
    {
     "name": "stdout",
     "output_type": "stream",
     "text": [
      "[7.0, 6.8, 6.6, 6.4, 6.2, 6.0, 5.8, 5.6, 5.4, 5.6, 6.4, 7.4, 8.5, 9.5, 10.2, 10.7, 10.9, 10.8, 10.3, 9.9, 9.5, 9.1, 8.7, 8.5, 8.3]\n"
     ]
    }
   ],
   "source": [
    "#Air Temp CRN:\n",
    "with open('CRNH0203-2022-MS_Holly_Springs_4_N.txt') as f:\n",
    "    lst=[line.split()[33] for line in f]\n",
    "    #print(lst)\n",
    "    temp_crn=[]\n",
    "    for i in lst:\n",
    "        new=i.replace(',',\"\")\n",
    "        temp_crn.append(new)\n",
    "    temp_crn=[float(x) for x in temp_crn]\n",
    "    temp_crn=temp_crn[1421:1446]\n",
    "    print(temp_crn)\n",
    "    #print(len(temp_crn))\n",
    "    # print(temp_crn[2124])"
   ]
  },
  {
   "cell_type": "code",
   "execution_count": 16,
   "id": "46b095cb",
   "metadata": {},
   "outputs": [
    {
     "name": "stdout",
     "output_type": "stream",
     "text": [
      "[-2.4799800000000003, -2.6899800000000003, -2.7199999999999998, -2.6699900000000003, -2.36998, -2.56, -2.4299999999999997, -2.7299999999999995, -1.3499800000000004, 0.8900200000000007, 2.3000100000000003, 3.039999999999999, 3.5500000000000007, 3.75, 3.66, 3.3000000000000007, 2.969999999999999, 2.3999999999999986, 1.33, 0.4299999999999997, 0.14999000000000073, 0.2999900000000011, 0.38002, 0.08001999999999931, 0.15998999999999874]\n"
     ]
    }
   ],
   "source": [
    "difference1_hol = []\n",
    "\n",
    "zip_object = zip(temp, temp_crn)\n",
    "for temp_i, temp_crn_i in zip_object:\n",
    "    difference1_hol.append(temp_i-temp_crn_i)\n",
    "\n",
    "print(difference1_hol)"
   ]
  },
  {
   "cell_type": "markdown",
   "id": "1c76c308",
   "metadata": {},
   "source": [
    "<font size=\"3\">Newton, MS: 1800 UTC 22 March 2022-1800 UTC 23 March 2022</font>"
   ]
  },
  {
   "cell_type": "code",
   "execution_count": 17,
   "id": "a6fc5b55",
   "metadata": {},
   "outputs": [
    {
     "name": "stdout",
     "output_type": "stream",
     "text": [
      "[7.03, 6.32001, 5.73001, 5.23001, 4.89999, 4.87, 4.16, 3.52002, 5.57001, 9.92001, 13.85, 16.73, 19.41, 20.96, 22.05, 22.13, 21.48, 20.38, 17.66, 15.0, 13.38, 12.34, 11.25, 9.87, 8.77002]\n",
      "25\n"
     ]
    }
   ],
   "source": [
    "#12 hr hrrr:\n",
    "with open('hrrr_f12_Newton_MS.txt') as f:\n",
    "    lst=[line.split()[5] for line in f]\n",
    "    temp=[]\n",
    "    for i in lst:\n",
    "        new=i.replace(',',\"\")\n",
    "        temp.append(new)\n",
    "    temp.pop(0)\n",
    "    temp=[float(x) for x in temp]\n",
    "    temp=temp[1410:1435]\n",
    "    #temp=temp[2015:2063]\n",
    "    print(temp)\n",
    "    print(len(temp))\n",
    "#full time period is [2015:2112]"
   ]
  },
  {
   "cell_type": "code",
   "execution_count": 18,
   "id": "3fb09a0f",
   "metadata": {},
   "outputs": [
    {
     "name": "stdout",
     "output_type": "stream",
     "text": [
      "[9.8, 9.4, 9.1, 8.8, 8.5, 8.2, 8.1, 8.2, 8.8, 10.3, 12.3, 13.8, 15.1, 16.2, 16.7, 16.5, 16.0, 15.3, 14.2, 13.2, 12.5, 11.9, 11.3, 10.9, 10.5]\n"
     ]
    }
   ],
   "source": [
    "#Air Temp CRN:\n",
    "with open('CRNH0203-2022-MS_Newton_5_ENE.txt') as f:\n",
    "    lst=[line.split()[33] for line in f]\n",
    "    #print(lst)\n",
    "    temp_crn=[]\n",
    "    for i in lst:\n",
    "        new=i.replace(',',\"\")\n",
    "        temp_crn.append(new)\n",
    "    temp_crn=[float(x) for x in temp_crn]\n",
    "    temp_crn=temp_crn[1421:1446]\n",
    "    print(temp_crn)\n",
    "    #print(len(temp_crn))\n",
    "    # print(temp_crn[2124])"
   ]
  },
  {
   "cell_type": "code",
   "execution_count": 19,
   "id": "e588ab70",
   "metadata": {},
   "outputs": [
    {
     "name": "stdout",
     "output_type": "stream",
     "text": [
      "[-2.7700000000000005, -3.0799900000000004, -3.3699899999999996, -3.5699900000000007, -3.60001, -3.329999999999999, -3.9399999999999995, -4.679979999999999, -3.229990000000001, -0.37999000000000116, 1.549999999999999, 2.9299999999999997, 4.3100000000000005, 4.760000000000002, 5.350000000000001, 5.629999999999999, 5.48, 5.079999999999998, 3.460000000000001, 1.8000000000000007, 0.8800000000000008, 0.4399999999999995, -0.05000000000000071, -1.0300000000000011, -1.7299799999999994]\n"
     ]
    }
   ],
   "source": [
    "difference1_new = []\n",
    "\n",
    "zip_object = zip(temp, temp_crn)\n",
    "for temp_i, temp_crn_i in zip_object:\n",
    "    difference1_new.append(temp_i-temp_crn_i)\n",
    "\n",
    "print(difference1_new)"
   ]
  },
  {
   "cell_type": "markdown",
   "id": "c9620694",
   "metadata": {},
   "source": [
    "<font size=\"3\">Gainesville, AL: 2200 UTC 22 March 2022-2200 UTC 23 March 2022</font>"
   ]
  },
  {
   "cell_type": "code",
   "execution_count": 20,
   "id": "038fabb5",
   "metadata": {},
   "outputs": [],
   "source": [
    "# #12 hr hrrr:\n",
    "# with open('hrrr_f12_Gainesville_AL.txt') as f:\n",
    "#     lst=[line.split()[5] for line in f]\n",
    "#     temp=[]\n",
    "#     for i in lst:\n",
    "#         new=i.replace(',',\"\")\n",
    "#         temp.append(new)\n",
    "#     temp.pop(0)\n",
    "#     temp=[float(x) for x in temp]\n",
    "#     temp=temp[1410:1435]\n",
    "#     #temp=temp[2015:2063]\n",
    "#     print(temp)\n",
    "#     print(len(temp))\n",
    "# #full time period is [2015:2112]"
   ]
  },
  {
   "cell_type": "code",
   "execution_count": 21,
   "id": "2c97e541",
   "metadata": {},
   "outputs": [],
   "source": [
    "# #Air Temp CRN:\n",
    "# with open('CRNH0203-2022-AL_Gainesville_2_NE.txt') as f:\n",
    "#     lst=[line.split()[33] for line in f]\n",
    "#     #print(lst)\n",
    "#     temp_crn=[]\n",
    "#     for i in lst:\n",
    "#         new=i.replace(',',\"\")\n",
    "#         temp_crn.append(new)\n",
    "#     temp_crn=[float(x) for x in temp_crn]\n",
    "#     temp_crn=temp_crn[1421:1446]\n",
    "#     print(temp_crn)\n",
    "#     #print(len(temp_crn))\n",
    "#     # print(temp_crn[2124])"
   ]
  },
  {
   "cell_type": "code",
   "execution_count": 22,
   "id": "8df76a7b",
   "metadata": {},
   "outputs": [],
   "source": [
    "# difference1_gai = []\n",
    "\n",
    "# zip_object = zip(temp, temp_crn)\n",
    "# for temp_i, temp_crn_i in zip_object:\n",
    "#     difference1_gai.append(temp_i-temp_crn_i)\n",
    "\n",
    "# print(difference1_gai)"
   ]
  },
  {
   "cell_type": "markdown",
   "id": "2711dc15",
   "metadata": {},
   "source": [
    "<font size=\"3\">Fairhope, AL: 2200 UTC 22 March 2022-2200 UTC 23 March 2022</font>"
   ]
  },
  {
   "cell_type": "code",
   "execution_count": 23,
   "id": "b97b4753",
   "metadata": {},
   "outputs": [
    {
     "name": "stdout",
     "output_type": "stream",
     "text": [
      "[10.61, 10.13, 9.58002, 9.29001, 8.98001, 8.47, 8.20999, 8.01001, 9.76001, 12.78, 16.19, 19.34, 21.36, 22.49, 22.76, 22.68, 22.41, 20.35, 17.51, 15.62, 14.45, 12.98, 12.31, 11.52, 10.61]\n",
      "25\n"
     ]
    }
   ],
   "source": [
    "#12 hr hrrr:\n",
    "with open('hrrr_f12_Fairhope_AL.txt') as f:\n",
    "    lst=[line.split()[5] for line in f]\n",
    "    temp=[]\n",
    "    for i in lst:\n",
    "        new=i.replace(',',\"\")\n",
    "        temp.append(new)\n",
    "    temp.pop(0)\n",
    "    temp=[float(x) for x in temp]\n",
    "    temp=temp[1410:1435]\n",
    "    #temp=temp[2015:2063]\n",
    "    print(temp)\n",
    "    print(len(temp))\n",
    "#full time period is [2015:2112]"
   ]
  },
  {
   "cell_type": "code",
   "execution_count": 24,
   "id": "4df09785",
   "metadata": {},
   "outputs": [
    {
     "name": "stdout",
     "output_type": "stream",
     "text": [
      "[14.4, 14.3, 14.2, 14.1, 14.0, 13.7, 13.6, 13.6, 13.4, 13.5, 13.7, 14.1, 14.5, 15.2, 15.5, 15.7, 15.9, 16.0, 15.7, 15.6, 15.2, 15.0, 14.7, 14.5, 14.2]\n"
     ]
    }
   ],
   "source": [
    "#Air Temp CRN:\n",
    "with open('CRNH0203-2022-AL_Fairhope_3_NE.txt') as f:\n",
    "    lst=[line.split()[33] for line in f]\n",
    "    #print(lst)\n",
    "    temp_crn=[]\n",
    "    for i in lst:\n",
    "        new=i.replace(',',\"\")\n",
    "        temp_crn.append(new)\n",
    "    temp_crn=[float(x) for x in temp_crn]\n",
    "    temp_crn=temp_crn[1421:1446]\n",
    "    print(temp_crn)\n",
    "    #print(len(temp_crn))\n",
    "    # print(temp_crn[2124])"
   ]
  },
  {
   "cell_type": "code",
   "execution_count": 25,
   "id": "a9ff3306",
   "metadata": {},
   "outputs": [
    {
     "name": "stdout",
     "output_type": "stream",
     "text": [
      "[-3.790000000000001, -4.17, -4.61998, -4.809989999999999, -5.01999, -5.229999999999999, -5.39001, -5.58999, -3.639990000000001, -0.7200000000000006, 2.490000000000002, 5.24, 6.859999999999999, 7.289999999999999, 7.260000000000002, 6.98, 6.51, 4.350000000000001, 1.8100000000000023, 0.019999999999999574, -0.75, -2.0199999999999996, -2.389999999999999, -2.9800000000000004, -3.59]\n"
     ]
    }
   ],
   "source": [
    "difference1_fai = []\n",
    "\n",
    "zip_object = zip(temp, temp_crn)\n",
    "for temp_i, temp_crn_i in zip_object:\n",
    "    difference1_fai.append(temp_i-temp_crn_i)\n",
    "\n",
    "print(difference1_fai)"
   ]
  },
  {
   "cell_type": "markdown",
   "id": "f5dd4e4b",
   "metadata": {},
   "source": [
    "<font size=\"3\">**Selma, AL: 2200 UTC 22 March 2022-2200 UTC 23 March 2022</font>"
   ]
  },
  {
   "cell_type": "code",
   "execution_count": 26,
   "id": "af6b46b1",
   "metadata": {},
   "outputs": [
    {
     "name": "stdout",
     "output_type": "stream",
     "text": [
      "[7.45999, 6.84, 6.33002, 5.92999, 5.77002, 5.14001, 4.66, 4.57001, 6.58002, 9.66, 12.28, 14.62, 16.52, 18.5, 19.8, 20.14, 19.58, 18.34, 15.74, 13.47, 11.99, 11.02, 10.08, 8.94, 8.09]\n",
      "[10.0, 9.6, 9.2, 8.8, 8.6, 8.2, 8.1, 8.0, 8.0, 8.4, 9.3, 11.2, 12.9, 14.2, 14.7, 15.0, 14.9, 14.5, 14.0, 13.2, 12.4, 11.8, 11.2, 10.8, 10.3]\n",
      "[-2.5400099999999997, -2.76, -2.869979999999999, -2.8700100000000006, -2.82998, -3.059989999999999, -3.4399999999999995, -3.42999, -1.4199799999999998, 1.2599999999999998, 2.9799999999999986, 3.42, 3.619999999999999, 4.300000000000001, 5.100000000000001, 5.140000000000001, 4.679999999999998, 3.84, 1.7400000000000002, 0.27000000000000135, -0.41000000000000014, -0.7800000000000011, -1.1199999999999992, -1.8600000000000012, -2.210000000000001]\n",
      "25\n"
     ]
    }
   ],
   "source": [
    "#1 hr hrrr:\n",
    "import numpy as np\n",
    "import numpy.ma as ma\n",
    "#12 hr hrrr:\n",
    "with open('hrrr_f12_Selma_AL.txt') as f:\n",
    "    lst=[line.split()[5] for line in f]\n",
    "    temp=[]\n",
    "    for i in lst:\n",
    "        new=i.replace(',',\"\")\n",
    "        temp.append(new)\n",
    "    temp.pop(0)\n",
    "    temp=[float(x) for x in temp]\n",
    "    temp=temp[1410:1435]\n",
    "\n",
    "#     x = np.array(temp)\n",
    "#     temp = ma.masked_array(x, mask=[0, 0, 0, 0, 0,0,0,0,0,0,0,0,0,0,0,0,0,1,1,1,1,0,0,0,0])\n",
    "    #print(temp)\n",
    "#Air Temp CRN:\n",
    "with open('CRNH0203-2022-AL_Selma_13_WNW.txt') as f:\n",
    "    lst=[line.split()[33] for line in f]\n",
    "    #print(lst)\n",
    "    temp_crn=[]\n",
    "    for i in lst:\n",
    "        new=i.replace(',',\"\")\n",
    "        temp_crn.append(new)\n",
    "    temp_crn=[float(x) for x in temp_crn]\n",
    "    temp_crn=temp_crn[1421:1446]\n",
    "#     y = np.array(temp_crn)\n",
    "#     temp_crn = ma.masked_array(y, mask=[0, 0, 0, 0, 0,0,0,0,0,0,0,0,0,0,0,0,0,1,1,1,1,0,0,0,0])\n",
    "    print(temp)\n",
    "    #print(len(temp))\n",
    "    print(temp_crn)\n",
    "    #print(len(temp_crn))\n",
    "#full time period is [2015:2112]\n",
    "difference1_sel = []\n",
    "\n",
    "zip_object = zip(temp, temp_crn)\n",
    "for temp_i, temp_crn_i in zip_object:\n",
    "    difference1_sel.append(temp_i-temp_crn_i)\n",
    "\n",
    "print(difference1_sel)\n",
    "print(len(difference1_sel))"
   ]
  },
  {
   "cell_type": "markdown",
   "id": "8fab4bdc",
   "metadata": {},
   "source": [
    "<font size=\"3\">Bowling Green, KY: 2300 UTC 22 March 2022-2300 UTC 23 March 2022</font>"
   ]
  },
  {
   "cell_type": "code",
   "execution_count": 27,
   "id": "ce9bcf66",
   "metadata": {},
   "outputs": [
    {
     "name": "stdout",
     "output_type": "stream",
     "text": [
      "[4.02002, 3.17999, 2.73001, 2.17001, 1.97, 1.83002, 1.64001, 1.64001, 3.22, 5.81, 8.66, 11.18, 13.77, 15.83, 16.99, 17.21, 16.76, 15.5, 13.61, 12.13, 11.06, 10.32, 9.80002, 9.16, 8.88]\n",
      "25\n"
     ]
    }
   ],
   "source": [
    "#12 hr hrrr:\n",
    "with open('hrrr_f12_Bowling Green_KY.txt') as f:\n",
    "    lst=[line.split()[5] for line in f]\n",
    "    temp=[]\n",
    "    for i in lst:\n",
    "        new=i.replace(',',\"\")\n",
    "        temp.append(new)\n",
    "    temp.pop(0)\n",
    "    temp=[float(x) for x in temp]\n",
    "    temp=temp[1410:1435]\n",
    "    #temp=temp[2015:2063]\n",
    "    print(temp)\n",
    "    print(len(temp))\n",
    "#full time period is [2015:2112]"
   ]
  },
  {
   "cell_type": "code",
   "execution_count": 28,
   "id": "b9e25e31",
   "metadata": {},
   "outputs": [
    {
     "name": "stdout",
     "output_type": "stream",
     "text": [
      "[5.2, 4.8, 4.5, 4.2, 4.1, 3.9, 3.8, 3.7, 3.7, 4.2, 5.3, 6.7, 8.2, 9.4, 10.1, 10.6, 10.6, 10.2, 9.6, 9.0, 8.5, 8.0, 7.6, 7.2, 6.8]\n"
     ]
    }
   ],
   "source": [
    "#Air Temp CRN:\n",
    "with open('CRNH0203-2022-KY_Bowling_Green_21_NNE.txt') as f:\n",
    "    lst=[line.split()[33] for line in f]\n",
    "    #print(lst)\n",
    "    temp_crn=[]\n",
    "    for i in lst:\n",
    "        new=i.replace(',',\"\")\n",
    "        temp_crn.append(new)\n",
    "    temp_crn=[float(x) for x in temp_crn]\n",
    "    temp_crn=temp_crn[1421:1446]\n",
    "    print(temp_crn)\n",
    "    #print(len(temp_crn))\n",
    "    # print(temp_crn[2124])"
   ]
  },
  {
   "cell_type": "code",
   "execution_count": 29,
   "id": "c1e72531",
   "metadata": {},
   "outputs": [
    {
     "name": "stdout",
     "output_type": "stream",
     "text": [
      "[-1.1799800000000005, -1.6200099999999997, -1.76999, -2.02999, -2.13, -2.06998, -2.1599899999999996, -2.05999, -0.48, 1.6099999999999994, 3.3600000000000003, 4.4799999999999995, 5.57, 6.43, 6.889999999999999, 6.610000000000001, 6.160000000000002, 5.300000000000001, 4.01, 3.130000000000001, 2.5600000000000005, 2.3200000000000003, 2.2000200000000003, 1.96, 2.080000000000001]\n"
     ]
    }
   ],
   "source": [
    "difference1_bow = []\n",
    "\n",
    "zip_object = zip(temp, temp_crn)\n",
    "for temp_i, temp_crn_i in zip_object:\n",
    "    difference1_bow.append(temp_i-temp_crn_i)\n",
    "\n",
    "print(difference1_bow)"
   ]
  },
  {
   "cell_type": "markdown",
   "id": "d1be2cc0",
   "metadata": {},
   "source": [
    "<font size=\"3\">Gadsden, AL: 0100 UTC 23 March 2022-0100 UTC 24 March 2022</font>"
   ]
  },
  {
   "cell_type": "code",
   "execution_count": 30,
   "id": "6d2be172",
   "metadata": {},
   "outputs": [
    {
     "name": "stdout",
     "output_type": "stream",
     "text": [
      "[5.14999 4.87 4.45001 4.20001 4.10001 3.94 3.60001 3.19 -- 7.74002 9.86002\n",
      " 11.75 13.29 14.25 14.97 14.99 14.5 13.31 11.23 9.72 8.95999 8.48001\n",
      " 8.70999 8.57001 7.86002]\n",
      "25\n"
     ]
    }
   ],
   "source": [
    "#12 hr hrrr:\n",
    "with open('hrrr_f12_Gadsden_AL.txt') as f:\n",
    "    lst=[line.split()[5] for line in f]\n",
    "    temp=[]\n",
    "    for i in lst:\n",
    "        new=i.replace(',',\"\")\n",
    "        temp.append(new)\n",
    "    temp.pop(0)\n",
    "    temp=[float(x) for x in temp]\n",
    "    temp=temp[1410:1435]\n",
    "    x = np.array(temp)\n",
    "    temp = ma.masked_array(x, mask=[0, 0, 0, 0, 0,0,0,0,1,0,0,0,0,0,0,0,0,0,0,0,0,0,0,0,0])\n",
    "    #temp=temp[2015:2063]\n",
    "    print(temp)\n",
    "    print(len(temp))\n",
    "#full time period is [2015:2112]"
   ]
  },
  {
   "cell_type": "code",
   "execution_count": 31,
   "id": "eb5f934d",
   "metadata": {},
   "outputs": [
    {
     "name": "stdout",
     "output_type": "stream",
     "text": [
      "[8.9 8.6 8.3 8.0 7.9 7.6 7.5 7.2 -- 7.8 8.7 9.9 11.0 12.1 13.0 13.5 13.4\n",
      " 13.0 12.5 11.8 11.3 10.9 10.3 10.0 9.7]\n"
     ]
    }
   ],
   "source": [
    "#Air Temp CRN:\n",
    "with open('CRNH0203-2022-AL_Gadsden_19_N.txt') as f:\n",
    "    lst=[line.split()[33] for line in f]\n",
    "    #print(lst)\n",
    "    temp_crn=[]\n",
    "    for i in lst:\n",
    "        new=i.replace(',',\"\")\n",
    "        temp_crn.append(new)\n",
    "    temp_crn=[float(x) for x in temp_crn]\n",
    "    temp_crn=temp_crn[1421:1446]\n",
    "    y = np.array(temp_crn)\n",
    "    temp_crn = ma.masked_array(y, mask=[0, 0, 0, 0, 0,0,0,0,1,0,0,0,0,0,0,0,0,0,0,0,0,0,0,0,0])\n",
    "    print(temp_crn)\n",
    "    #print(len(temp_crn))\n",
    "    # print(temp_crn[2124])"
   ]
  },
  {
   "cell_type": "code",
   "execution_count": 32,
   "id": "c002ac76",
   "metadata": {},
   "outputs": [
    {
     "name": "stdout",
     "output_type": "stream",
     "text": [
      "[-3.7500100000000005, -3.7299999999999995, -3.849990000000001, -3.79999, -3.79999, -3.6599999999999997, -3.89999, -4.01, masked, -0.05997999999999948, 1.1600200000000012, 1.8499999999999996, 2.289999999999999, 2.1500000000000004, 1.9700000000000006, 1.4900000000000002, 1.0999999999999996, 0.3100000000000005, -1.2699999999999996, -2.08, -2.3400100000000013, -2.4199900000000003, -1.5900100000000013, -1.42999, -1.8399799999999997]\n"
     ]
    }
   ],
   "source": [
    "difference1_gad = []\n",
    "\n",
    "zip_object = zip(temp, temp_crn)\n",
    "for temp_i, temp_crn_i in zip_object:\n",
    "    difference1_gad.append(temp_i-temp_crn_i)\n",
    "\n",
    "print(difference1_gad)"
   ]
  },
  {
   "cell_type": "markdown",
   "id": "d430f7c6",
   "metadata": {},
   "source": [
    "<font size=\"3\">Newton, GA: 0900 UTC 23 March 2022-0900 UTC 24 March 2022</font>"
   ]
  },
  {
   "cell_type": "code",
   "execution_count": 33,
   "id": "25095753",
   "metadata": {},
   "outputs": [
    {
     "name": "stdout",
     "output_type": "stream",
     "text": [
      "[10.37, 12.35, 9.70001, 8.84, 8.12, 7.39001, 7.16, 6.89001, 8.88, 11.4, 14.88, 17.6, 20.2, 21.67, 22.7, 22.69, 22.09, 20.77, 18.12, 16.03, 14.8, 13.75, 12.52, 11.7, 10.85]\n",
      "25\n"
     ]
    }
   ],
   "source": [
    "#12 hr hrrr:\n",
    "with open('hrrr_f12_Newton_GA.txt') as f:\n",
    "    lst=[line.split()[5] for line in f]\n",
    "    temp=[]\n",
    "    for i in lst:\n",
    "        new=i.replace(',',\"\")\n",
    "        temp.append(new)\n",
    "    temp.pop(0)\n",
    "    temp=[float(x) for x in temp]\n",
    "    temp=temp[1410:1435]\n",
    "    #temp=temp[2015:2063]\n",
    "    print(temp)\n",
    "    print(len(temp))\n",
    "#full time period is [2015:2112]"
   ]
  },
  {
   "cell_type": "code",
   "execution_count": 34,
   "id": "9851cf85",
   "metadata": {},
   "outputs": [
    {
     "name": "stdout",
     "output_type": "stream",
     "text": [
      "[14.3, 14.0, 13.7, 13.4, 13.1, 12.9, 12.7, 12.6, 13.1, 13.8, 14.8, 16.0, 17.3, 18.3, 18.8, 18.9, 18.5, 18.0, 17.1, 16.3, 15.7, 15.2, 14.8, 14.4, 14.0]\n"
     ]
    }
   ],
   "source": [
    "#Air Temp CRN:\n",
    "with open('CRNH0203-2022-GA_Newton_11_SW.txt') as f:\n",
    "    lst=[line.split()[33] for line in f]\n",
    "    #print(lst)\n",
    "    temp_crn=[]\n",
    "    for i in lst:\n",
    "        new=i.replace(',',\"\")\n",
    "        temp_crn.append(new)\n",
    "    temp_crn=[float(x) for x in temp_crn]\n",
    "    temp_crn=temp_crn[1421:1446]\n",
    "    print(temp_crn)\n",
    "    #print(len(temp_crn))\n",
    "    # print(temp_crn[2124])"
   ]
  },
  {
   "cell_type": "code",
   "execution_count": 35,
   "id": "f2141c03",
   "metadata": {
    "scrolled": true
   },
   "outputs": [
    {
     "name": "stdout",
     "output_type": "stream",
     "text": [
      "[-3.9300000000000015, -1.6500000000000004, -3.9999899999999986, -4.5600000000000005, -4.98, -5.50999, -5.539999999999999, -5.7099899999999995, -4.219999999999999, -2.4000000000000004, 0.08000000000000007, 1.6000000000000014, 2.8999999999999986, 3.370000000000001, 3.8999999999999986, 3.7900000000000027, 3.59, 2.7699999999999996, 1.0199999999999996, -0.2699999999999996, -0.8999999999999986, -1.4499999999999993, -2.280000000000001, -2.700000000000001, -3.1500000000000004]\n"
     ]
    }
   ],
   "source": [
    "difference1_newt = []\n",
    "\n",
    "zip_object = zip(temp, temp_crn)\n",
    "for temp_i, temp_crn_i in zip_object:\n",
    "    difference1_newt.append(temp_i-temp_crn_i)\n",
    "\n",
    "print(difference1_newt)"
   ]
  },
  {
   "cell_type": "markdown",
   "id": "ab4663ab",
   "metadata": {},
   "source": [
    "<font size=\"3\">Salem, MO: 1300 UTC 30 March 2022-1300 UTC 31 March 2022</font>"
   ]
  },
  {
   "cell_type": "code",
   "execution_count": 36,
   "id": "ede1cb39",
   "metadata": {},
   "outputs": [
    {
     "name": "stdout",
     "output_type": "stream",
     "text": [
      "[0.399994, 0.5, 0.420013, 0.309998, 0.339996, 0.320007, 0.320007, 0.320007, 1.57001, 3.64999, 6.19, 8.84, 11.78, 14.14, 15.55, 16.42, 16.44, 15.67, 14.08, 12.11, 10.93, 9.94, 9.14999, 8.67999, 7.82001]\n",
      "25\n"
     ]
    }
   ],
   "source": [
    "#12 hr hrrr:\n",
    "with open('hrrr_f12_Salem_MO.txt') as f:\n",
    "    lst=[line.split()[5] for line in f]\n",
    "    temp=[]\n",
    "    for i in lst:\n",
    "        new=i.replace(',',\"\")\n",
    "        temp.append(new)\n",
    "    temp.pop(0)\n",
    "    temp=[float(x) for x in temp]\n",
    "    temp=temp[1698:1723]\n",
    "    #temp=temp[2015:2063]\n",
    "    print(temp)\n",
    "    print(len(temp))\n",
    "#full time period is [2015:2112]"
   ]
  },
  {
   "cell_type": "code",
   "execution_count": 37,
   "id": "01b4011e",
   "metadata": {},
   "outputs": [
    {
     "name": "stdout",
     "output_type": "stream",
     "text": [
      "[1.9, 1.9, 1.9, 1.8, 1.8, 1.8, 1.8, 1.8, 1.7, 1.8, 2.0, 2.8, 4.0, 5.2, 6.1, 6.7, 7.0, 6.9, 6.7, 6.3, 5.9, 5.6, 5.3, 5.2, 5.0]\n"
     ]
    }
   ],
   "source": [
    "#Air Temp CRN:\n",
    "with open('CRNH0203-2022-MO_Salem_10_W.txt') as f:\n",
    "    lst=[line.split()[33] for line in f]\n",
    "    #print(lst)\n",
    "    temp_crn=[]\n",
    "    for i in lst:\n",
    "        new=i.replace(',',\"\")\n",
    "        temp_crn.append(new)\n",
    "    temp_crn=[float(x) for x in temp_crn]\n",
    "    temp_crn=temp_crn[1709:1734]\n",
    "    print(temp_crn)\n",
    "    #print(len(temp_crn))\n",
    "    # print(temp_crn[2124])"
   ]
  },
  {
   "cell_type": "code",
   "execution_count": 38,
   "id": "e426b6a3",
   "metadata": {},
   "outputs": [
    {
     "name": "stdout",
     "output_type": "stream",
     "text": [
      "[-1.500006, -1.4, -1.479987, -1.490002, -1.460004, -1.4799930000000001, -1.4799930000000001, -1.4799930000000001, -0.12999000000000005, 1.8499899999999998, 4.19, 6.04, 7.779999999999999, 8.940000000000001, 9.450000000000001, 9.720000000000002, 9.440000000000001, 8.77, 7.38, 5.81, 5.029999999999999, 4.34, 3.849990000000001, 3.47999, 2.82001]\n"
     ]
    }
   ],
   "source": [
    "difference2_sal = []\n",
    "\n",
    "zip_object = zip(temp, temp_crn)\n",
    "for temp_i, temp_crn_i in zip_object:\n",
    "    difference2_sal.append(temp_i-temp_crn_i)\n",
    "\n",
    "print(difference2_sal)"
   ]
  },
  {
   "cell_type": "markdown",
   "id": "e17a19ca",
   "metadata": {},
   "source": [
    "<font size=\"3\">Batesville, AR: 1300 UTC 30 March 2022-1300 UTC 31 March 2022</font>"
   ]
  },
  {
   "cell_type": "code",
   "execution_count": 39,
   "id": "382cdc03",
   "metadata": {},
   "outputs": [
    {
     "name": "stdout",
     "output_type": "stream",
     "text": [
      "[0.809998, 0.779999, 0.720001, 0.690002, 0.690002, 0.670013, 0.660004, 0.610016, 1.88, 4.23001, 6.59, 8.82001, 10.6, 12.12, 13.3, 14.2, 14.31, 13.65, 12.22, 10.04, 8.59, 7.70999, 6.99002, 6.33002, 5.62]\n",
      "25\n"
     ]
    }
   ],
   "source": [
    "#12 hr hrrr:\n",
    "with open('hrrr_f12_Batesville_AR.txt') as f:\n",
    "    lst=[line.split()[5] for line in f]\n",
    "    temp=[]\n",
    "    for i in lst:\n",
    "        new=i.replace(',',\"\")\n",
    "        temp.append(new)\n",
    "    temp.pop(0)\n",
    "    temp=[float(x) for x in temp]\n",
    "    temp=temp[1698:1723]\n",
    "    #temp=temp[2015:2063]\n",
    "    print(temp)\n",
    "    print(len(temp))\n",
    "#full time period is [2015:2112]"
   ]
  },
  {
   "cell_type": "code",
   "execution_count": 40,
   "id": "2dcc93c0",
   "metadata": {},
   "outputs": [
    {
     "name": "stdout",
     "output_type": "stream",
     "text": [
      "[5.0, 4.8, 4.7, 4.6, 4.4, 4.4, 4.3, 4.3, 4.3, 4.9, 5.7, 6.6, 7.8, 8.8, 9.5, 9.9, 10.1, 9.9, 9.5, 9.0, 8.6, 8.2, 8.0, 7.8, 7.5]\n"
     ]
    }
   ],
   "source": [
    "#Air Temp CRN:\n",
    "with open('CRNH0203-2022-AR_Batesville_8_WNW.txt') as f:\n",
    "    lst=[line.split()[33] for line in f]\n",
    "    #print(lst)\n",
    "    temp_crn=[]\n",
    "    for i in lst:\n",
    "        new=i.replace(',',\"\")\n",
    "        temp_crn.append(new)\n",
    "    temp_crn=[float(x) for x in temp_crn]\n",
    "    temp_crn=temp_crn[1709:1734]\n",
    "    print(temp_crn)\n",
    "    #print(len(temp_crn))\n",
    "    # print(temp_crn[2124])"
   ]
  },
  {
   "cell_type": "code",
   "execution_count": 41,
   "id": "12f91aa0",
   "metadata": {},
   "outputs": [
    {
     "name": "stdout",
     "output_type": "stream",
     "text": [
      "[-4.190002, -4.020001, -3.9799990000000003, -3.909998, -3.7099980000000006, -3.7299870000000004, -3.639996, -3.689984, -2.42, -0.6699900000000003, 0.8899999999999997, 2.2200100000000003, 2.8, 3.3199999999999985, 3.8000000000000007, 4.299999999999999, 4.210000000000001, 3.75, 2.7200000000000006, 1.0399999999999991, -0.009999999999999787, -0.49000999999999895, -1.0099799999999997, -1.4699799999999996, -1.88]\n"
     ]
    }
   ],
   "source": [
    "difference2_bat = []\n",
    "\n",
    "zip_object = zip(temp, temp_crn)\n",
    "for temp_i, temp_crn_i in zip_object:\n",
    "    difference2_bat.append(temp_i-temp_crn_i)\n",
    "\n",
    "print(difference2_bat)"
   ]
  },
  {
   "cell_type": "markdown",
   "id": "0b95ca71",
   "metadata": {},
   "source": [
    "<font size=\"3\">Lafayette, LA: 1700 UTC 30 March 2022-1700 UTC 31 March 2022</font>"
   ]
  },
  {
   "cell_type": "code",
   "execution_count": 42,
   "id": "3617c9ac",
   "metadata": {},
   "outputs": [
    {
     "name": "stdout",
     "output_type": "stream",
     "text": [
      "[6.16, 5.33002, 4.73001, 4.06, 3.41, 3.14001, 2.73001, 2.44, 4.57001, 8.12, 11.8, 15.14, 17.83, 19.78, 20.82, 21.09, 20.11, 18.63, 16.61, 14.9, 13.49, 12.84, 13.08, 12.21, 11.48]\n",
      "25\n"
     ]
    }
   ],
   "source": [
    "#12 hr hrrr:\n",
    "with open('hrrr_f12_Lafayette_LA.txt') as f:\n",
    "    lst=[line.split()[5] for line in f]\n",
    "    temp=[]\n",
    "    for i in lst:\n",
    "        new=i.replace(',',\"\")\n",
    "        temp.append(new)\n",
    "    temp.pop(0)\n",
    "    temp=[float(x) for x in temp]\n",
    "    temp=temp[1698:1723]\n",
    "    #temp=temp[2015:2063]\n",
    "    print(temp)\n",
    "    print(len(temp))\n",
    "#full time period is [2015:2112]"
   ]
  },
  {
   "cell_type": "code",
   "execution_count": 43,
   "id": "16943c4f",
   "metadata": {},
   "outputs": [
    {
     "name": "stdout",
     "output_type": "stream",
     "text": [
      "[13.9, 13.6, 13.3, 13.0, 12.8, 12.4, 12.2, 12.0, 11.9, 11.9, 12.2, 12.6, 13.3, 14.1, 14.7, 15.2, 15.4, 15.4, 15.4, 15.1, 14.9, 14.5, 14.3, 14.0, 13.9]\n"
     ]
    }
   ],
   "source": [
    "#Air Temp CRN:\n",
    "with open('CRNH0203-2022-LA_Lafayette_13_SE.txt') as f:\n",
    "    lst=[line.split()[33] for line in f]\n",
    "    #print(lst)\n",
    "    temp_crn=[]\n",
    "    for i in lst:\n",
    "        new=i.replace(',',\"\")\n",
    "        temp_crn.append(new)\n",
    "    temp_crn=[float(x) for x in temp_crn]\n",
    "    temp_crn=temp_crn[1709:1734]\n",
    "    print(temp_crn)\n",
    "    #print(len(temp_crn))\n",
    "    # print(temp_crn[2124])"
   ]
  },
  {
   "cell_type": "code",
   "execution_count": 44,
   "id": "ad9e49f7",
   "metadata": {},
   "outputs": [
    {
     "name": "stdout",
     "output_type": "stream",
     "text": [
      "[-7.74, -8.26998, -8.56999, -8.940000000000001, -9.39, -9.25999, -9.46999, -9.56, -7.3299900000000004, -3.780000000000001, -0.3999999999999986, 2.540000000000001, 4.529999999999998, 5.6800000000000015, 6.120000000000001, 5.890000000000001, 4.709999999999999, 3.2299999999999986, 1.209999999999999, -0.1999999999999993, -1.4100000000000001, -1.6600000000000001, -1.2200000000000006, -1.7899999999999991, -2.42]\n"
     ]
    }
   ],
   "source": [
    "difference2_laf = []\n",
    "\n",
    "zip_object = zip(temp, temp_crn)\n",
    "for temp_i, temp_crn_i in zip_object:\n",
    "    difference2_laf.append(temp_i-temp_crn_i)\n",
    "\n",
    "print(difference2_laf)"
   ]
  },
  {
   "cell_type": "markdown",
   "id": "5bdd017c",
   "metadata": {},
   "source": [
    "<font size=\"3\">Monroe, LA: 1700 UTC 30 March 2022-1700 UTC 31 March 2022</font>"
   ]
  },
  {
   "cell_type": "code",
   "execution_count": 45,
   "id": "10e3c873",
   "metadata": {},
   "outputs": [
    {
     "name": "stdout",
     "output_type": "stream",
     "text": [
      "[2.89001, 2.35001, 1.87, 1.45999, 0.959991, 0.839996, 0.76001, 0.720001, 2.27002, 5.04001, 8.01001, 11.32, 14.29, 16.68, 18.1, 18.64, 18.26, 17.02, 15.07, 12.7, 11.16, 10.08, 9.20001, 8.58002, 7.98001]\n",
      "25\n"
     ]
    }
   ],
   "source": [
    "#12 hr hrrr:\n",
    "with open('hrrr_f12_Monroe_LA.txt') as f:\n",
    "    lst=[line.split()[5] for line in f]\n",
    "    temp=[]\n",
    "    for i in lst:\n",
    "        new=i.replace(',',\"\")\n",
    "        temp.append(new)\n",
    "    temp.pop(0)\n",
    "    temp=[float(x) for x in temp]\n",
    "    temp=temp[1698:1723]\n",
    "    #temp=temp[2015:2063]\n",
    "    print(temp)\n",
    "    print(len(temp))\n",
    "#full time period is [2015:2112]"
   ]
  },
  {
   "cell_type": "code",
   "execution_count": 46,
   "id": "4d3f3d6e",
   "metadata": {},
   "outputs": [
    {
     "name": "stdout",
     "output_type": "stream",
     "text": [
      "[9.3, 8.9, 8.6, 8.3, 7.9, 7.7, 7.4, 7.2, 7.1, 7.4, 8.4, 9.7, 10.9, 12.2, 13.1, 13.7, 13.9, 13.6, 13.1, 12.5, 11.9, 11.3, 10.7, 10.4, 10.0]\n"
     ]
    }
   ],
   "source": [
    "#Air Temp CRN:\n",
    "with open('CRNH0203-2022-LA_Monroe_26_N.txt') as f:\n",
    "    lst=[line.split()[33] for line in f]\n",
    "    #print(lst)\n",
    "    temp_crn=[]\n",
    "    for i in lst:\n",
    "        new=i.replace(',',\"\")\n",
    "        temp_crn.append(new)\n",
    "    temp_crn=[float(x) for x in temp_crn]\n",
    "    temp_crn=temp_crn[1709:1734]\n",
    "    print(temp_crn)\n",
    "    #print(len(temp_crn))\n",
    "    # print(temp_crn[2124])"
   ]
  },
  {
   "cell_type": "code",
   "execution_count": 47,
   "id": "178b8e52",
   "metadata": {},
   "outputs": [
    {
     "name": "stdout",
     "output_type": "stream",
     "text": [
      "[-6.4099900000000005, -6.54999, -6.7299999999999995, -6.840010000000001, -6.940009, -6.860004, -6.63999, -6.479999, -4.829979999999999, -2.3599900000000007, -0.38999000000000095, 1.620000000000001, 3.389999999999999, 4.48, 5.000000000000002, 4.940000000000001, 4.360000000000001, 3.42, 1.9700000000000006, 0.1999999999999993, -0.7400000000000002, -1.2200000000000006, -1.4999899999999986, -1.819980000000001, -2.01999]\n"
     ]
    }
   ],
   "source": [
    "difference2_mon = []\n",
    "\n",
    "zip_object = zip(temp, temp_crn)\n",
    "for temp_i, temp_crn_i in zip_object:\n",
    "    difference2_mon.append(temp_i-temp_crn_i)\n",
    "\n",
    "print(difference2_mon)"
   ]
  },
  {
   "cell_type": "markdown",
   "id": "3e401515",
   "metadata": {},
   "source": [
    "<font size=\"3\">Holly Springs, MS: 2000 UTC 30 March 2022-2000 UTC 31 March 2022</font>"
   ]
  },
  {
   "cell_type": "code",
   "execution_count": 48,
   "id": "581a9384",
   "metadata": {},
   "outputs": [
    {
     "name": "stdout",
     "output_type": "stream",
     "text": [
      "[1.08002, 1.03, 0.990021, 0.970001, 0.959991, 0.920013, 0.899994, 0.77002, 1.56, 3.60001, 6.08002, 8.59, 11.0, 13.23, 14.54, 15.19, 14.82, 13.65, 11.85, 9.86002, 8.66, 7.78, 7.10001, 6.44, 5.73001]\n",
      "25\n"
     ]
    }
   ],
   "source": [
    "#12 hr hrrr:\n",
    "with open('hrrr_f12_Holly Springs_MS.txt') as f:\n",
    "    lst=[line.split()[5] for line in f]\n",
    "    temp=[]\n",
    "    for i in lst:\n",
    "        new=i.replace(',',\"\")\n",
    "        temp.append(new)\n",
    "    temp.pop(0)\n",
    "    temp=[float(x) for x in temp]\n",
    "    temp=temp[1698:1723]\n",
    "    #temp=temp[2015:2063]\n",
    "    print(temp)\n",
    "    print(len(temp))\n",
    "#full time period is [2015:2112]"
   ]
  },
  {
   "cell_type": "code",
   "execution_count": 49,
   "id": "cc96dac3",
   "metadata": {},
   "outputs": [
    {
     "name": "stdout",
     "output_type": "stream",
     "text": [
      "[7.2, 6.9, 6.7, 6.5, 6.3, 6.2, 5.9, 5.8, 5.8, 6.0, 6.6, 7.5, 8.5, 9.5, 10.2, 10.7, 10.9, 10.7, 10.4, 10.0, 9.6, 9.2, 9.0, 8.7, 8.4]\n"
     ]
    }
   ],
   "source": [
    "#Air Temp CRN:\n",
    "with open('CRNH0203-2022-MS_Holly_Springs_4_N.txt') as f:\n",
    "    lst=[line.split()[33] for line in f]\n",
    "    #print(lst)\n",
    "    temp_crn=[]\n",
    "    for i in lst:\n",
    "        new=i.replace(',',\"\")\n",
    "        temp_crn.append(new)\n",
    "    temp_crn=[float(x) for x in temp_crn]\n",
    "    temp_crn=temp_crn[1709:1734]\n",
    "    print(temp_crn)\n",
    "    #print(len(temp_crn))\n",
    "    # print(temp_crn[2124])"
   ]
  },
  {
   "cell_type": "code",
   "execution_count": 50,
   "id": "b348cd62",
   "metadata": {},
   "outputs": [
    {
     "name": "stdout",
     "output_type": "stream",
     "text": [
      "[-6.11998, -5.87, -5.709979000000001, -5.529999, -5.340009, -5.279987, -5.000006000000001, -5.02998, -4.24, -2.39999, -0.5199799999999994, 1.0899999999999999, 2.5, 3.7300000000000004, 4.34, 4.49, 3.92, 2.950000000000001, 1.4499999999999993, -0.13997999999999955, -0.9399999999999995, -1.419999999999999, -1.8999899999999998, -2.259999999999999, -2.6699900000000003]\n"
     ]
    }
   ],
   "source": [
    "difference2_hol = []\n",
    "\n",
    "zip_object = zip(temp, temp_crn)\n",
    "for temp_i, temp_crn_i in zip_object:\n",
    "    difference2_hol.append(temp_i-temp_crn_i)\n",
    "\n",
    "print(difference2_hol)"
   ]
  },
  {
   "cell_type": "markdown",
   "id": "b5225197",
   "metadata": {},
   "source": [
    "<font size=\"3\">Newton, MS: 2000 UTC 30 March 2022-2000 UTC 31 March 2022</font>"
   ]
  },
  {
   "cell_type": "code",
   "execution_count": 51,
   "id": "7639cfdd",
   "metadata": {},
   "outputs": [
    {
     "name": "stdout",
     "output_type": "stream",
     "text": [
      "[1.5, 0.720001, 1.77002, 1.19, 0.570007, 0.380005, -0.160004, -0.190002, 2.22, 5.97, 9.60001, 12.7, 14.93, 16.79, 17.73, 17.96, 17.37, 15.97, 13.9, 11.55, 10.04, 9.04001, 7.91, 7.06, 6.14001]\n",
      "25\n"
     ]
    }
   ],
   "source": [
    "#12 hr hrrr:\n",
    "with open('hrrr_f12_Newton_MS.txt') as f:\n",
    "    lst=[line.split()[5] for line in f]\n",
    "    temp=[]\n",
    "    for i in lst:\n",
    "        new=i.replace(',',\"\")\n",
    "        temp.append(new)\n",
    "    temp.pop(0)\n",
    "    temp=[float(x) for x in temp]\n",
    "    temp=temp[1698:1723]\n",
    "    #temp=temp[2015:2063]\n",
    "    print(temp)\n",
    "    print(len(temp))\n",
    "#full time period is [2015:2112]"
   ]
  },
  {
   "cell_type": "code",
   "execution_count": 52,
   "id": "b4fea934",
   "metadata": {},
   "outputs": [
    {
     "name": "stdout",
     "output_type": "stream",
     "text": [
      "[8.2, 7.9, 7.6, 7.4, 7.1, 6.9, 6.8, 6.7, 7.4, 8.8, 10.7, 12.1, 13.6, 14.6, 14.9, 14.9, 14.4, 13.5, 12.8, 12.0, 11.3, 10.7, 10.3, 9.9, 9.6]\n"
     ]
    }
   ],
   "source": [
    "#Air Temp CRN:\n",
    "with open('CRNH0203-2022-MS_Newton_5_ENE.txt') as f:\n",
    "    lst=[line.split()[33] for line in f]\n",
    "    #print(lst)\n",
    "    temp_crn=[]\n",
    "    for i in lst:\n",
    "        new=i.replace(',',\"\")\n",
    "        temp_crn.append(new)\n",
    "    temp_crn=[float(x) for x in temp_crn]\n",
    "    temp_crn=temp_crn[1709:1734]\n",
    "    print(temp_crn)\n",
    "    #print(len(temp_crn))\n",
    "    # print(temp_crn[2124])"
   ]
  },
  {
   "cell_type": "code",
   "execution_count": 53,
   "id": "cd6de2b7",
   "metadata": {},
   "outputs": [
    {
     "name": "stdout",
     "output_type": "stream",
     "text": [
      "[-6.699999999999999, -7.1799990000000005, -5.82998, -6.210000000000001, -6.529992999999999, -6.519995000000001, -6.960004, -6.890002, -5.18, -2.830000000000001, -1.09999, 0.5999999999999996, 1.33, 2.1899999999999995, 2.83, 3.0600000000000005, 2.9700000000000006, 2.4700000000000006, 1.0999999999999996, -0.4499999999999993, -1.2600000000000016, -1.6599899999999987, -2.3900000000000006, -2.8400000000000007, -3.4599899999999995]\n"
     ]
    }
   ],
   "source": [
    "difference2_new = []\n",
    "\n",
    "zip_object = zip(temp, temp_crn)\n",
    "for temp_i, temp_crn_i in zip_object:\n",
    "    difference2_new.append(temp_i-temp_crn_i)\n",
    "\n",
    "print(difference2_new)"
   ]
  },
  {
   "cell_type": "markdown",
   "id": "bfaeb78c",
   "metadata": {},
   "source": [
    "<font size=\"3\">Gainesville, AL: 2300 UTC 30 March 2022-2300 UTC 31 March 2022</font>"
   ]
  },
  {
   "cell_type": "code",
   "execution_count": 54,
   "id": "6ad50471",
   "metadata": {},
   "outputs": [],
   "source": [
    "# #12 hr hrrr:\n",
    "# with open('hrrr_f12_Gainesville_AL.txt') as f:\n",
    "#     lst=[line.split()[5] for line in f]\n",
    "#     temp=[]\n",
    "#     for i in lst:\n",
    "#         new=i.replace(',',\"\")\n",
    "#         temp.append(new)\n",
    "#     temp.pop(0)\n",
    "#     temp=[float(x) for x in temp]\n",
    "#     temp=temp[1698:1723]\n",
    "#     #temp=temp[2015:2063]\n",
    "#     print(temp)\n",
    "#     print(len(temp))\n",
    "# #full time period is [2015:2112]"
   ]
  },
  {
   "cell_type": "code",
   "execution_count": 55,
   "id": "1fd4e19a",
   "metadata": {},
   "outputs": [],
   "source": [
    "# #Air Temp CRN:\n",
    "# with open('CRNH0203-2022-AL_Gainesville_2_NE.txt') as f:\n",
    "#     lst=[line.split()[33] for line in f]\n",
    "#     #print(lst)\n",
    "#     temp_crn=[]\n",
    "#     for i in lst:\n",
    "#         new=i.replace(',',\"\")\n",
    "#         temp_crn.append(new)\n",
    "#     temp_crn=[float(x) for x in temp_crn]\n",
    "#     temp_crn=temp_crn[1709:1734]\n",
    "#     print(temp_crn)\n",
    "#     #print(len(temp_crn))\n",
    "#     # print(temp_crn[2124])"
   ]
  },
  {
   "cell_type": "code",
   "execution_count": 56,
   "id": "82a257d7",
   "metadata": {},
   "outputs": [],
   "source": [
    "# difference2_gai = []\n",
    "\n",
    "# zip_object = zip(temp, temp_crn)\n",
    "# for temp_i, temp_crn_i in zip_object:\n",
    "#     difference2_gai.append(temp_i-temp_crn_i)\n",
    "\n",
    "# print(difference2_gai)"
   ]
  },
  {
   "cell_type": "markdown",
   "id": "0917b86d",
   "metadata": {},
   "source": [
    "<font size=\"3\">Fairhope, AL: 0100 UTC 31 March 2022-0100 UTC 1 April 2022</font>"
   ]
  },
  {
   "cell_type": "code",
   "execution_count": 57,
   "id": "102e4d08",
   "metadata": {},
   "outputs": [
    {
     "name": "stdout",
     "output_type": "stream",
     "text": [
      "[4.37, 3.87, 3.33002, 2.95999, 2.35001, 1.79001, 1.39999, 1.70001, 4.39001, 7.42999, 10.47, 13.51, 15.85, 17.56, 18.32, 17.99, 17.15, 15.43, 13.18, 11.18, 9.67001, 8.38, 7.39999, 6.64999, 6.01001]\n",
      "25\n"
     ]
    }
   ],
   "source": [
    "#12 hr hrrr:\n",
    "with open('hrrr_f12_Fairhope_AL.txt') as f:\n",
    "    lst=[line.split()[5] for line in f]\n",
    "    temp=[]\n",
    "    for i in lst:\n",
    "        new=i.replace(',',\"\")\n",
    "        temp.append(new)\n",
    "    temp.pop(0)\n",
    "    temp=[float(x) for x in temp]\n",
    "    temp=temp[1698:1723]\n",
    "    #temp=temp[2015:2063]\n",
    "    print(temp)\n",
    "    print(len(temp))\n",
    "#full time period is [2015:2112]"
   ]
  },
  {
   "cell_type": "code",
   "execution_count": 58,
   "id": "96fb5481",
   "metadata": {},
   "outputs": [
    {
     "name": "stdout",
     "output_type": "stream",
     "text": [
      "[13.9, 13.6, 13.4, 13.3, 13.1, 12.9, 12.7, 12.6, 12.4, 12.5, 12.7, 13.0, 13.4, 13.8, 14.3, 14.6, 14.8, 14.8, 14.6, 14.4, 14.1, 13.9, 13.6, 13.4, 13.2]\n"
     ]
    }
   ],
   "source": [
    "#Air Temp CRN:\n",
    "with open('CRNH0203-2022-AL_Fairhope_3_NE.txt') as f:\n",
    "    lst=[line.split()[33] for line in f]\n",
    "    #print(lst)\n",
    "    temp_crn=[]\n",
    "    for i in lst:\n",
    "        new=i.replace(',',\"\")\n",
    "        temp_crn.append(new)\n",
    "    temp_crn=[float(x) for x in temp_crn]\n",
    "    temp_crn=temp_crn[1709:1734]\n",
    "    print(temp_crn)\n",
    "    #print(len(temp_crn))\n",
    "    # print(temp_crn[2124])"
   ]
  },
  {
   "cell_type": "code",
   "execution_count": 59,
   "id": "f15c30e0",
   "metadata": {},
   "outputs": [
    {
     "name": "stdout",
     "output_type": "stream",
     "text": [
      "[-9.530000000000001, -9.73, -10.069980000000001, -10.340010000000001, -10.74999, -11.10999, -11.300009999999999, -10.899989999999999, -8.00999, -5.07001, -2.2299999999999986, 0.5099999999999998, 2.4499999999999993, 3.759999999999998, 4.02, 3.389999999999999, 2.349999999999998, 0.629999999999999, -1.42, -3.2200000000000006, -4.42999, -5.52, -6.20001, -6.7500100000000005, -7.189989999999999]\n"
     ]
    }
   ],
   "source": [
    "difference2_fai = []\n",
    "\n",
    "zip_object = zip(temp, temp_crn)\n",
    "for temp_i, temp_crn_i in zip_object:\n",
    "    difference2_fai.append(temp_i-temp_crn_i)\n",
    "\n",
    "print(difference2_fai)"
   ]
  },
  {
   "cell_type": "markdown",
   "id": "e9530edf",
   "metadata": {},
   "source": [
    "<font size=\"3\">**Selma, AL: 0100 UTC 31 March 2022-0100 UTC 1 April 2022</font>"
   ]
  },
  {
   "cell_type": "code",
   "execution_count": 60,
   "id": "15e7e080",
   "metadata": {},
   "outputs": [
    {
     "name": "stdout",
     "output_type": "stream",
     "text": [
      "[1.70999, 1.62, 1.55002, 1.48001, 1.42999, 1.38, 1.35001, 1.41, 3.11002, 5.34, 7.54001, 9.57001, 11.09, 12.38, 13.16, 13.37, 13.14, 12.12, 10.68, 8.70999, 8.13, 7.52002, 6.83002, 6.0, 5.14999]\n",
      "25\n",
      "[7.9, 7.6, 7.2, 6.9, 6.6, 6.3, 6.1, 5.9, 6.0, 6.5, 7.2, 9.0, 10.7, 12.1, 12.6, 12.8, 12.7, 12.4, 12.0, 11.5, 10.8, 10.3, 9.8, 9.4, 9.0]\n",
      "25\n",
      "[-6.190010000000001, -5.9799999999999995, -5.64998, -5.41999, -5.1700099999999996, -4.92, -4.7499899999999995, -4.49, -2.88998, -1.1600000000000001, 0.3400099999999995, 0.5700099999999999, 0.39000000000000057, 0.28000000000000114, 0.5600000000000005, 0.5699999999999985, 0.4400000000000013, -0.28000000000000114, -1.3200000000000003, -2.7900100000000005, -2.67, -2.779980000000001, -2.9699800000000005, -3.4000000000000004, -3.85001]\n",
      "25\n"
     ]
    }
   ],
   "source": [
    "#12 hr hrrr:\n",
    "with open('hrrr_f12_Selma_AL.txt') as f:\n",
    "    lst=[line.split()[5] for line in f]\n",
    "    temp=[]\n",
    "    for i in lst:\n",
    "        new=i.replace(',',\"\")\n",
    "        temp.append(new)\n",
    "    temp.pop(0)\n",
    "    temp=[float(x) for x in temp]\n",
    "    temp=temp[1698:1723]\n",
    "    \n",
    "#Air Temp CRN:\n",
    "with open('CRNH0203-2022-AL_Selma_13_WNW.txt') as f:\n",
    "    lst=[line.split()[33] for line in f]\n",
    "    #print(lst)\n",
    "    temp_crn=[]\n",
    "    for i in lst:\n",
    "        new=i.replace(',',\"\")\n",
    "        temp_crn.append(new)\n",
    "    temp_crn=[float(x) for x in temp_crn]\n",
    "    temp_crn=temp_crn[1709:1734]\n",
    "\n",
    "    print(temp)\n",
    "    print(len(temp))\n",
    "    print(temp_crn)\n",
    "    print(len(temp_crn))\n",
    "#full time period is [2015:2112]\n",
    "difference2_sel = []\n",
    "\n",
    "zip_object = zip(temp, temp_crn)\n",
    "for temp_i, temp_crn_i in zip_object:\n",
    "    difference2_sel.append(temp_i-temp_crn_i)\n",
    "\n",
    "print(difference2_sel)\n",
    "print(len(difference2_sel))"
   ]
  },
  {
   "cell_type": "markdown",
   "id": "96c13278",
   "metadata": {},
   "source": [
    "<font size=\"3\">Bowling Green, KY: 0100 UTC 31 March 2022-0100 UTC 1 April 2022</font>"
   ]
  },
  {
   "cell_type": "code",
   "execution_count": 61,
   "id": "20079007",
   "metadata": {},
   "outputs": [
    {
     "name": "stdout",
     "output_type": "stream",
     "text": [
      "[-1.13, -1.14999, -2.73999, -4.0, -4.47, -3.81, -4.25, -1.50998, -0.779999, -0.889984, 0.820007, 3.89001, 6.06, 7.85001, 9.39999, 10.57, 10.62, 10.07, 8.52002, 7.19, 6.37, 5.59, 4.95999, 4.44, 3.87]\n"
     ]
    }
   ],
   "source": [
    "#12 hr hrrr:\n",
    "with open('hrrr_f12_Bowling Green_KY.txt') as f:\n",
    "    lst=[line.split()[5] for line in f]\n",
    "    temp=[]\n",
    "    for i in lst:\n",
    "        new=i.replace(',',\"\")\n",
    "        temp.append(new)\n",
    "    temp.pop(0)\n",
    "    temp=[float(x) for x in temp]\n",
    "    temp=temp[1698:1723]\n",
    "#     x = np.array(temp)\n",
    "#     temp= ma.masked_array(x, mask=[0, 0, 0, 0, 0,0,1,0,0,0,0,0,0,0,0,0,0,0,0,0,0,0,0,0,0])\n",
    "    #temp=temp[2015:2063]\n",
    "    print(temp)\n",
    "    #print(len(temp))\n",
    "#full time period is [2015:2112]"
   ]
  },
  {
   "cell_type": "code",
   "execution_count": 62,
   "id": "60c4e4cc",
   "metadata": {},
   "outputs": [
    {
     "name": "stdout",
     "output_type": "stream",
     "text": [
      "[4.8, 4.6, 4.4, 4.3, 4.1, 4.1, 4.1, 4.0, 4.0, 4.1, 4.2, 4.6, 5.4, 6.8, 8.0, 8.7, 8.9, 8.6, 8.2, 7.6, 7.1, 6.7, 6.4, 6.1, 5.9]\n"
     ]
    }
   ],
   "source": [
    "#Air Temp CRN:\n",
    "with open('CRNH0203-2022-KY_Bowling_Green_21_NNE.txt') as f:\n",
    "    lst=[line.split()[33] for line in f]\n",
    "    #print(lst)\n",
    "    temp_crn=[]\n",
    "    for i in lst:\n",
    "        new=i.replace(',',\"\")\n",
    "        temp_crn.append(new)\n",
    "    temp_crn=[float(x) for x in temp_crn]\n",
    "    temp_crn=temp_crn[1709:1734]\n",
    "#     y = np.array(temp_crn)\n",
    "#     temp_crn = ma.masked_array(y, mask=[0, 0, 0, 0, 0,0,1,0,0,0,0,0,0,0,0,0,0,0,0,0,0,0,0,0,0])\n",
    "    print(temp_crn)\n",
    "    #print(len(temp_crn))\n",
    "    # print(temp_crn[2124])"
   ]
  },
  {
   "cell_type": "code",
   "execution_count": 63,
   "id": "90cedfd2",
   "metadata": {},
   "outputs": [
    {
     "name": "stdout",
     "output_type": "stream",
     "text": [
      "[-5.93, -5.7499899999999995, -7.139990000000001, -8.3, -8.57, -7.91, -8.35, -5.5099800000000005, -4.779999, -4.989984, -3.3799930000000002, -0.7099899999999995, 0.6599999999999993, 1.0500100000000003, 1.3999900000000007, 1.870000000000001, 1.7199999999999989, 1.4700000000000006, 0.3200200000000013, -0.40999999999999925, -0.7299999999999995, -1.1100000000000003, -1.44001, -1.6599999999999993, -2.0300000000000002]\n"
     ]
    }
   ],
   "source": [
    "difference2_bow = []\n",
    "\n",
    "zip_object = zip(temp, temp_crn)\n",
    "for temp_i, temp_crn_i in zip_object:\n",
    "    difference2_bow.append(temp_i-temp_crn_i)\n",
    "\n",
    "print(difference2_bow)"
   ]
  },
  {
   "cell_type": "markdown",
   "id": "770eb1f1",
   "metadata": {},
   "source": [
    "<font size=\"3\">Gadsden, AL: 0200 UTC 31 March 2022-0200 UTC 1 April 2022</font>"
   ]
  },
  {
   "cell_type": "code",
   "execution_count": 64,
   "id": "b06370d2",
   "metadata": {},
   "outputs": [
    {
     "name": "stdout",
     "output_type": "stream",
     "text": [
      "[1.30002, 1.20999, 0.980011, 0.540009, 1.07001, 1.56, 1.63, 0.559998, 1.62, 3.39001, 5.44, 7.45001, 9.0, 10.19, 10.93, 11.26, 10.63, 9.39001, 7.59, 6.14999, 5.64001, 5.22, 4.24002, 3.54001, 2.86002]\n",
      "25\n"
     ]
    }
   ],
   "source": [
    "#12 hr hrrr:\n",
    "with open('hrrr_f12_Gadsden_AL.txt') as f:\n",
    "    lst=[line.split()[5] for line in f]\n",
    "    temp=[]\n",
    "    for i in lst:\n",
    "        new=i.replace(',',\"\")\n",
    "        temp.append(new)\n",
    "    temp.pop(0)\n",
    "    temp=[float(x) for x in temp]\n",
    "    temp=temp[1698:1723]\n",
    "    #temp=temp[2015:2063]\n",
    "    print(temp)\n",
    "    print(len(temp))\n",
    "#full time period is [2015:2112]"
   ]
  },
  {
   "cell_type": "code",
   "execution_count": 65,
   "id": "c0d02698",
   "metadata": {},
   "outputs": [
    {
     "name": "stdout",
     "output_type": "stream",
     "text": [
      "[6.6, 6.4, 6.1, 5.9, 5.7, 5.5, 5.3, 5.1, 5.2, 5.6, 6.4, 7.6, 8.9, 10.1, 10.9, 11.4, 11.5, 11.3, 10.8, 10.4, 9.8, 9.5, 9.1, 8.7, 8.5]\n"
     ]
    }
   ],
   "source": [
    "#Air Temp CRN:\n",
    "with open('CRNH0203-2022-AL_Gadsden_19_N.txt') as f:\n",
    "    lst=[line.split()[33] for line in f]\n",
    "    #print(lst)\n",
    "    temp_crn=[]\n",
    "    for i in lst:\n",
    "        new=i.replace(',',\"\")\n",
    "        temp_crn.append(new)\n",
    "    temp_crn=[float(x) for x in temp_crn]\n",
    "    temp_crn=temp_crn[1709:1734]\n",
    "    print(temp_crn)\n",
    "    #print(len(temp_crn))\n",
    "    # print(temp_crn[2124])"
   ]
  },
  {
   "cell_type": "code",
   "execution_count": 66,
   "id": "d63723fd",
   "metadata": {},
   "outputs": [
    {
     "name": "stdout",
     "output_type": "stream",
     "text": [
      "[-5.29998, -5.190010000000001, -5.1199889999999995, -5.359991000000001, -4.62999, -3.94, -3.67, -4.540001999999999, -3.58, -2.2099899999999995, -0.96, -0.14998999999999985, 0.09999999999999964, 0.08999999999999986, 0.02999999999999936, -0.14000000000000057, -0.8699999999999992, -1.9099900000000005, -3.210000000000001, -4.2500100000000005, -4.1599900000000005, -4.28, -4.859979999999999, -5.159989999999999, -5.6399799999999995]\n"
     ]
    }
   ],
   "source": [
    "difference2_gad = []\n",
    "\n",
    "zip_object = zip(temp, temp_crn)\n",
    "for temp_i, temp_crn_i in zip_object:\n",
    "    difference2_gad.append(temp_i-temp_crn_i)\n",
    "\n",
    "print(difference2_gad)"
   ]
  },
  {
   "cell_type": "markdown",
   "id": "cd4a8f77",
   "metadata": {},
   "source": [
    "<font size=\"3\">Newton, GA: 0700 UTC 31 March 2022-0700 UTC 1 April 2022</font>"
   ]
  },
  {
   "cell_type": "code",
   "execution_count": 67,
   "id": "29be0aef",
   "metadata": {},
   "outputs": [
    {
     "name": "stdout",
     "output_type": "stream",
     "text": [
      "[3.39001, 2.98001, 2.38, 2.20001, 2.06, 1.92999, 1.84, 1.95001, 3.42001, 5.56, 8.03, 10.27, 12.59, 14.83, 16.07, 16.5, 16.05, 14.68, 12.42, 10.63, 9.54001, 8.45001, 7.39999, 6.52002, 5.89999]\n",
      "25\n"
     ]
    }
   ],
   "source": [
    "#12 hr hrrr:\n",
    "with open('hrrr_f12_Newton_GA.txt') as f:\n",
    "    lst=[line.split()[5] for line in f]\n",
    "    temp=[]\n",
    "    for i in lst:\n",
    "        new=i.replace(',',\"\")\n",
    "        temp.append(new)\n",
    "    temp.pop(0)\n",
    "    temp=[float(x) for x in temp]\n",
    "    temp=temp[1698:1723]\n",
    "    #temp=temp[2015:2063]\n",
    "    print(temp)\n",
    "    print(len(temp))\n",
    "#full time period is [2015:2112]"
   ]
  },
  {
   "cell_type": "code",
   "execution_count": 68,
   "id": "1d798d77",
   "metadata": {},
   "outputs": [
    {
     "name": "stdout",
     "output_type": "stream",
     "text": [
      "[12.7, 12.3, 11.9, 11.5, 11.2, 10.9, 10.6, 10.5, 10.9, 11.7, 12.9, 14.3, 15.6, 16.6, 17.2, 17.2, 16.8, 16.2, 15.3, 14.5, 13.9, 13.4, 13.0, 12.6, 12.3]\n"
     ]
    }
   ],
   "source": [
    "#Air Temp CRN:\n",
    "with open('CRNH0203-2022-GA_Newton_11_SW.txt') as f:\n",
    "    lst=[line.split()[33] for line in f]\n",
    "    #print(lst)\n",
    "    temp_crn=[]\n",
    "    for i in lst:\n",
    "        new=i.replace(',',\"\")\n",
    "        temp_crn.append(new)\n",
    "    temp_crn=[float(x) for x in temp_crn]\n",
    "    temp_crn=temp_crn[1709:1734]\n",
    "    print(temp_crn)\n",
    "    #print(len(temp_crn))\n",
    "    # print(temp_crn[2124])"
   ]
  },
  {
   "cell_type": "code",
   "execution_count": 69,
   "id": "4bcfa192",
   "metadata": {},
   "outputs": [
    {
     "name": "stdout",
     "output_type": "stream",
     "text": [
      "[-9.309989999999999, -9.31999, -9.52, -9.299990000000001, -9.139999999999999, -8.97001, -8.76, -8.54999, -7.479990000000001, -6.14, -4.870000000000001, -4.030000000000001, -3.01, -1.7700000000000014, -1.129999999999999, -0.6999999999999993, -0.75, -1.5199999999999996, -2.880000000000001, -3.869999999999999, -4.35999, -4.94999, -5.60001, -6.07998, -6.400010000000001]\n"
     ]
    }
   ],
   "source": [
    "difference2_newt = []\n",
    "\n",
    "zip_object = zip(temp, temp_crn)\n",
    "for temp_i, temp_crn_i in zip_object:\n",
    "    difference2_newt.append(temp_i-temp_crn_i)\n",
    "\n",
    "print(difference2_newt)"
   ]
  },
  {
   "cell_type": "markdown",
   "id": "e339fc2a",
   "metadata": {},
   "source": [
    "<font size=\"3\">Salem, MO: 1300 UTC 30 March 2022-1300 UTC 31 March 2022</font>"
   ]
  },
  {
   "cell_type": "code",
   "execution_count": 70,
   "id": "58d072a4",
   "metadata": {},
   "outputs": [
    {
     "name": "stdout",
     "output_type": "stream",
     "text": [
      "[4.80002, 4.42001, 4.08002, 3.69, 3.70999, 3.39001, 3.37, 3.33002, 5.20999, 8.33002, 10.64, 12.86, 14.63, 16.29, 17.89, 19.07, 19.16, 18.22, 16.28, 14.01, 12.33, 11.69, 11.48, 11.26, 10.71]\n",
      "25\n"
     ]
    }
   ],
   "source": [
    "#12 hr hrrr:\n",
    "with open('hrrr_f12_Salem_MO.txt') as f:\n",
    "    lst=[line.split()[5] for line in f]\n",
    "    temp=[]\n",
    "    for i in lst:\n",
    "        new=i.replace(',',\"\")\n",
    "        temp.append(new)\n",
    "    temp.pop(0)\n",
    "    temp=[float(x) for x in temp]\n",
    "    temp=temp[1866:1891]\n",
    "    #temp=temp[2015:2063]\n",
    "    print(temp)\n",
    "    print(len(temp))\n",
    "#full time period is [2015:2112]"
   ]
  },
  {
   "cell_type": "code",
   "execution_count": 71,
   "id": "7e1abfcc",
   "metadata": {},
   "outputs": [
    {
     "name": "stdout",
     "output_type": "stream",
     "text": [
      "[7.0, 6.7, 6.4, 6.1, 5.9, 5.7, 5.5, 5.3, 5.3, 5.9, 7.0, 8.1, 9.1, 10.0, 10.9, 11.4, 11.7, 11.4, 11.0, 10.5, 9.9, 9.5, 9.1, 8.8, 8.6]\n"
     ]
    }
   ],
   "source": [
    "#Air Temp CRN:\n",
    "with open('CRNH0203-2022-MO_Salem_10_W.txt') as f:\n",
    "    lst=[line.split()[33] for line in f]\n",
    "    #print(lst)\n",
    "    temp_crn=[]\n",
    "    for i in lst:\n",
    "        new=i.replace(',',\"\")\n",
    "        temp_crn.append(new)\n",
    "    temp_crn=[float(x) for x in temp_crn]\n",
    "    temp_crn=temp_crn[1877:1902]\n",
    "    print(temp_crn)\n",
    "    #print(len(temp_crn))\n",
    "    # print(temp_crn[2124])"
   ]
  },
  {
   "cell_type": "code",
   "execution_count": 72,
   "id": "814b070c",
   "metadata": {},
   "outputs": [
    {
     "name": "stdout",
     "output_type": "stream",
     "text": [
      "[-2.19998, -2.2799899999999997, -2.31998, -2.4099999999999997, -2.1900100000000005, -2.30999, -2.13, -1.9699799999999996, -0.09000999999999948, 2.430019999999999, 3.6400000000000006, 4.76, 5.530000000000001, 6.289999999999999, 6.99, 7.67, 7.460000000000001, 6.8199999999999985, 5.280000000000001, 3.51, 2.4299999999999997, 2.1899999999999995, 2.380000000000001, 2.459999999999999, 2.110000000000001]\n"
     ]
    }
   ],
   "source": [
    "difference3_sal = []\n",
    "\n",
    "zip_object = zip(temp, temp_crn)\n",
    "for temp_i, temp_crn_i in zip_object:\n",
    "    difference3_sal.append(temp_i-temp_crn_i)\n",
    "\n",
    "print(difference3_sal)"
   ]
  },
  {
   "cell_type": "markdown",
   "id": "ec4674ac",
   "metadata": {},
   "source": [
    "<font size=\"3\">Batesville, AR: 1300 UTC 30 March 2022-1300 UTC 31 March 2022</font>"
   ]
  },
  {
   "cell_type": "code",
   "execution_count": 73,
   "id": "45faf6a7",
   "metadata": {},
   "outputs": [
    {
     "name": "stdout",
     "output_type": "stream",
     "text": [
      "[8.89001, 8.34, 7.86002, 7.45001, 7.01001, 6.80002, 6.45001, 6.56, 8.35001, 11.12, 13.71, 16.37, 18.49, 20.56, 21.87, 22.43, 22.23, 20.98, 19.32, 16.83, 15.21, 14.02, 13.41, 12.74, 11.88]\n",
      "25\n"
     ]
    }
   ],
   "source": [
    "#12 hr hrrr:\n",
    "with open('hrrr_f12_Batesville_AR.txt') as f:\n",
    "    lst=[line.split()[5] for line in f]\n",
    "    temp=[]\n",
    "    for i in lst:\n",
    "        new=i.replace(',',\"\")\n",
    "        temp.append(new)\n",
    "    temp.pop(0)\n",
    "    temp=[float(x) for x in temp]\n",
    "    temp=temp[1866:1891]\n",
    "    #temp=temp[2015:2063]\n",
    "    print(temp)\n",
    "    print(len(temp))\n",
    "#full time period is [2015:2112]"
   ]
  },
  {
   "cell_type": "code",
   "execution_count": 74,
   "id": "cc387b96",
   "metadata": {},
   "outputs": [
    {
     "name": "stdout",
     "output_type": "stream",
     "text": [
      "[10.3, 10.0, 9.7, 9.4, 9.2, 8.9, 8.7, 8.5, 8.6, 9.2, 10.2, 11.2, 12.2, 13.2, 14.0, 14.5, 14.7, 14.5, 14.2, 13.6, 13.2, 12.7, 12.3, 12.0, 11.6]\n"
     ]
    }
   ],
   "source": [
    "#Air Temp CRN:\n",
    "with open('CRNH0203-2022-AR_Batesville_8_WNW.txt') as f:\n",
    "    lst=[line.split()[33] for line in f]\n",
    "    #print(lst)\n",
    "    temp_crn=[]\n",
    "    for i in lst:\n",
    "        new=i.replace(',',\"\")\n",
    "        temp_crn.append(new)\n",
    "    temp_crn=[float(x) for x in temp_crn]\n",
    "    temp_crn=temp_crn[1877:1902]\n",
    "    print(temp_crn)\n",
    "    #print(len(temp_crn))\n",
    "    # print(temp_crn[2124])"
   ]
  },
  {
   "cell_type": "code",
   "execution_count": 75,
   "id": "25ea41f5",
   "metadata": {},
   "outputs": [
    {
     "name": "stdout",
     "output_type": "stream",
     "text": [
      "[-1.4099900000000005, -1.6600000000000001, -1.8399799999999997, -1.9499900000000006, -2.189989999999999, -2.0999800000000004, -2.2499899999999995, -1.9400000000000004, -0.24999000000000038, 1.92, 3.5100000000000016, 5.170000000000002, 6.289999999999999, 7.359999999999999, 7.870000000000001, 7.93, 7.530000000000001, 6.48, 5.120000000000001, 3.2299999999999986, 2.0100000000000016, 1.3200000000000003, 1.1099999999999994, 0.7400000000000002, 0.28000000000000114]\n"
     ]
    }
   ],
   "source": [
    "difference3_bat = []\n",
    "\n",
    "zip_object = zip(temp, temp_crn)\n",
    "for temp_i, temp_crn_i in zip_object:\n",
    "    difference3_bat.append(temp_i-temp_crn_i)\n",
    "\n",
    "print(difference3_bat)"
   ]
  },
  {
   "cell_type": "markdown",
   "id": "23fef5d9",
   "metadata": {},
   "source": [
    "<font size=\"3\">Lafayette, LA: 1700 UTC 30 March 2022-1700 UTC 31 March 2022</font>"
   ]
  },
  {
   "cell_type": "code",
   "execution_count": 76,
   "id": "0478c244",
   "metadata": {},
   "outputs": [
    {
     "name": "stdout",
     "output_type": "stream",
     "text": [
      "[13.83, 13.05, 12.25, 11.45, 10.9, 10.49, 9.87, 9.79001, 12.43, 16.45, 19.92, 22.95, 25.5, 27.2, 28.28, 28.74, 28.34, 26.83, 24.94, 22.12, 20.12, 18.52, 17.39, 16.4, 15.48]\n",
      "25\n"
     ]
    }
   ],
   "source": [
    "#12 hr hrrr:\n",
    "with open('hrrr_f12_Lafayette_LA.txt') as f:\n",
    "    lst=[line.split()[5] for line in f]\n",
    "    temp=[]\n",
    "    for i in lst:\n",
    "        new=i.replace(',',\"\")\n",
    "        temp.append(new)\n",
    "    temp.pop(0)\n",
    "    temp=[float(x) for x in temp]\n",
    "    temp=temp[1866:1891]\n",
    "    #temp=temp[2015:2063]\n",
    "    print(temp)\n",
    "    print(len(temp))\n",
    "#full time period is [2015:2112]"
   ]
  },
  {
   "cell_type": "code",
   "execution_count": 77,
   "id": "5e1e22d8",
   "metadata": {},
   "outputs": [
    {
     "name": "stdout",
     "output_type": "stream",
     "text": [
      "[16.9, 16.5, 16.2, 15.9, 15.6, 15.3, 15.0, 14.8, 14.8, 14.8, 15.2, 15.8, 16.4, 17.1, 17.7, 18.1, 18.4, 18.5, 18.3, 18.1, 17.8, 17.4, 17.2, 17.0, 16.7]\n"
     ]
    }
   ],
   "source": [
    "#Air Temp CRN:\n",
    "with open('CRNH0203-2022-LA_Lafayette_13_SE.txt') as f:\n",
    "    lst=[line.split()[33] for line in f]\n",
    "    #print(lst)\n",
    "    temp_crn=[]\n",
    "    for i in lst:\n",
    "        new=i.replace(',',\"\")\n",
    "        temp_crn.append(new)\n",
    "    temp_crn=[float(x) for x in temp_crn]\n",
    "    temp_crn=temp_crn[1877:1902]\n",
    "    print(temp_crn)\n",
    "    #print(len(temp_crn))\n",
    "    # print(temp_crn[2124])"
   ]
  },
  {
   "cell_type": "code",
   "execution_count": 78,
   "id": "8d945208",
   "metadata": {},
   "outputs": [
    {
     "name": "stdout",
     "output_type": "stream",
     "text": [
      "[-3.0699999999999985, -3.4499999999999993, -3.9499999999999993, -4.450000000000001, -4.699999999999999, -4.8100000000000005, -5.130000000000001, -5.00999, -2.370000000000001, 1.6499999999999986, 4.720000000000002, 7.149999999999999, 9.100000000000001, 10.099999999999998, 10.580000000000002, 10.639999999999997, 9.940000000000001, 8.329999999999998, 6.640000000000001, 4.02, 2.3200000000000003, 1.120000000000001, 0.19000000000000128, -0.6000000000000014, -1.2199999999999989]\n"
     ]
    }
   ],
   "source": [
    "difference3_laf = []\n",
    "\n",
    "zip_object = zip(temp, temp_crn)\n",
    "for temp_i, temp_crn_i in zip_object:\n",
    "    difference3_laf.append(temp_i-temp_crn_i)\n",
    "\n",
    "print(difference3_laf)"
   ]
  },
  {
   "cell_type": "markdown",
   "id": "b9dd7f2d",
   "metadata": {},
   "source": [
    "<font size=\"3\">Monroe, LA: 1700 UTC 30 March 2022-1700 UTC 31 March 2022</font>"
   ]
  },
  {
   "cell_type": "code",
   "execution_count": 79,
   "id": "a50a93eb",
   "metadata": {},
   "outputs": [
    {
     "name": "stdout",
     "output_type": "stream",
     "text": [
      "[11.75, 11.07, 10.38, 9.81, 9.56, 9.28, 9.04001, 8.56, 9.92999, 12.68, 15.77, 18.89, 21.9, 24.64, 25.99, 26.4, 25.91, 24.47, 22.22, 19.83, 18.11, 16.67, 15.41, 14.58, 13.61]\n",
      "25\n"
     ]
    }
   ],
   "source": [
    "#12 hr hrrr:\n",
    "with open('hrrr_f12_Monroe_LA.txt') as f:\n",
    "    lst=[line.split()[5] for line in f]\n",
    "    temp=[]\n",
    "    for i in lst:\n",
    "        new=i.replace(',',\"\")\n",
    "        temp.append(new)\n",
    "    temp.pop(0)\n",
    "    temp=[float(x) for x in temp]\n",
    "    temp=temp[1866:1891]\n",
    "    #temp=temp[2015:2063]\n",
    "    print(temp)\n",
    "    print(len(temp))\n",
    "#full time period is [2015:2112]"
   ]
  },
  {
   "cell_type": "code",
   "execution_count": 80,
   "id": "27f60b99",
   "metadata": {},
   "outputs": [
    {
     "name": "stdout",
     "output_type": "stream",
     "text": [
      "[13.9, 13.5, 13.0, 12.8, 12.4, 12.1, 11.8, 11.6, 11.6, 12.2, 13.2, 14.5, 15.9, 17.2, 18.1, 18.6, 18.8, 18.4, 17.8, 17.2, 16.5, 15.9, 15.3, 14.9, 14.3]\n"
     ]
    }
   ],
   "source": [
    "#Air Temp CRN:\n",
    "with open('CRNH0203-2022-LA_Monroe_26_N.txt') as f:\n",
    "    lst=[line.split()[33] for line in f]\n",
    "    #print(lst)\n",
    "    temp_crn=[]\n",
    "    for i in lst:\n",
    "        new=i.replace(',',\"\")\n",
    "        temp_crn.append(new)\n",
    "    temp_crn=[float(x) for x in temp_crn]\n",
    "    temp_crn=temp_crn[1877:1902]\n",
    "    print(temp_crn)\n",
    "    #print(len(temp_crn))\n",
    "    # print(temp_crn[2124])"
   ]
  },
  {
   "cell_type": "code",
   "execution_count": 81,
   "id": "9a1c85d5",
   "metadata": {},
   "outputs": [
    {
     "name": "stdout",
     "output_type": "stream",
     "text": [
      "[-2.1500000000000004, -2.4299999999999997, -2.619999999999999, -2.99, -2.84, -2.8200000000000003, -2.75999, -3.039999999999999, -1.6700099999999996, 0.4800000000000004, 2.5700000000000003, 4.390000000000001, 5.999999999999998, 7.440000000000001, 7.889999999999997, 7.799999999999997, 7.109999999999999, 6.07, 4.419999999999998, 2.629999999999999, 1.6099999999999994, 0.7700000000000014, 0.10999999999999943, -0.3200000000000003, -0.6900000000000013]\n"
     ]
    }
   ],
   "source": [
    "difference3_mon = []\n",
    "\n",
    "zip_object = zip(temp, temp_crn)\n",
    "for temp_i, temp_crn_i in zip_object:\n",
    "    difference3_mon.append(temp_i-temp_crn_i)\n",
    "\n",
    "print(difference3_mon)"
   ]
  },
  {
   "cell_type": "markdown",
   "id": "17b1ce1e",
   "metadata": {},
   "source": [
    "<font size=\"3\">Holly Springs, MS: 2000 UTC 30 March 2022-2000 UTC 31 March 2022</font>"
   ]
  },
  {
   "cell_type": "code",
   "execution_count": 82,
   "id": "8222e3b1",
   "metadata": {},
   "outputs": [
    {
     "name": "stdout",
     "output_type": "stream",
     "text": [
      "[8.70999, 8.47, 8.31, 7.99002, 7.31, 7.45999, 7.36002, 6.70001, 8.73001, 11.11, 13.82, 16.36, 18.75, 20.72, 21.89, 22.35, 21.91, 20.67, 19.02, 16.66, 15.41, 14.67, 14.28, 13.7, 13.13]\n",
      "25\n"
     ]
    }
   ],
   "source": [
    "#12 hr hrrr:\n",
    "with open('hrrr_f12_Holly Springs_MS.txt') as f:\n",
    "    lst=[line.split()[5] for line in f]\n",
    "    temp=[]\n",
    "    for i in lst:\n",
    "        new=i.replace(',',\"\")\n",
    "        temp.append(new)\n",
    "    temp.pop(0)\n",
    "    temp=[float(x) for x in temp]\n",
    "    temp=temp[1866:1891]\n",
    "    #temp=temp[2015:2063]\n",
    "    print(temp)\n",
    "    print(len(temp))\n",
    "#full time period is [2015:2112]"
   ]
  },
  {
   "cell_type": "code",
   "execution_count": 83,
   "id": "9d3ecb5f",
   "metadata": {},
   "outputs": [
    {
     "name": "stdout",
     "output_type": "stream",
     "text": [
      "[11.8, 11.5, 11.3, 11.0, 10.8, 10.5, 10.3, 10.2, 10.2, 10.7, 11.6, 12.7, 13.8, 14.8, 15.6, 15.9, 16.0, 15.6, 15.0, 14.5, 14.0, 13.5, 13.1, 12.7, 12.4]\n"
     ]
    }
   ],
   "source": [
    "#Air Temp CRN:\n",
    "with open('CRNH0203-2022-MS_Holly_Springs_4_N.txt') as f:\n",
    "    lst=[line.split()[33] for line in f]\n",
    "    #print(lst)\n",
    "    temp_crn=[]\n",
    "    for i in lst:\n",
    "        new=i.replace(',',\"\")\n",
    "        temp_crn.append(new)\n",
    "    temp_crn=[float(x) for x in temp_crn]\n",
    "    temp_crn=temp_crn[1877:1902]\n",
    "    print(temp_crn)\n",
    "    #print(len(temp_crn))\n",
    "    # print(temp_crn[2124])"
   ]
  },
  {
   "cell_type": "code",
   "execution_count": 84,
   "id": "edaa290b",
   "metadata": {},
   "outputs": [
    {
     "name": "stdout",
     "output_type": "stream",
     "text": [
      "[-3.0900100000000013, -3.0299999999999994, -2.99, -3.0099799999999997, -3.490000000000001, -3.0400099999999997, -2.939980000000001, -3.4999899999999995, -1.4699899999999992, 0.41000000000000014, 2.2200000000000006, 3.66, 4.949999999999999, 5.919999999999998, 6.290000000000001, 6.450000000000001, 5.91, 5.070000000000002, 4.02, 2.16, 1.4100000000000001, 1.17, 1.1799999999999997, 1.0, 0.7300000000000004]\n"
     ]
    }
   ],
   "source": [
    "difference3_hol = []\n",
    "\n",
    "zip_object = zip(temp, temp_crn)\n",
    "for temp_i, temp_crn_i in zip_object:\n",
    "    difference3_hol.append(temp_i-temp_crn_i)\n",
    "\n",
    "print(difference3_hol)"
   ]
  },
  {
   "cell_type": "markdown",
   "id": "19a413d9",
   "metadata": {},
   "source": [
    "<font size=\"3\">Newton, MS: 2000 UTC 30 March 2022-2000 UTC 31 March 2022</font>"
   ]
  },
  {
   "cell_type": "code",
   "execution_count": 85,
   "id": "603bae5b",
   "metadata": {},
   "outputs": [
    {
     "name": "stdout",
     "output_type": "stream",
     "text": [
      "[10.28, 9.60001, 8.89999, 8.35001, 7.95001, 7.64999, 7.14999, 7.35001, 10.43, 14.73, 18.4, 21.3, 23.22, 24.81, 25.44, 25.41, 24.82, 23.4, 21.31, 18.87, 17.21, 16.03, 15.23, 14.17, 13.28]\n",
      "25\n"
     ]
    }
   ],
   "source": [
    "#12 hr hrrr:\n",
    "with open('hrrr_f12_Newton_MS.txt') as f:\n",
    "    lst=[line.split()[5] for line in f]\n",
    "    temp=[]\n",
    "    for i in lst:\n",
    "        new=i.replace(',',\"\")\n",
    "        temp.append(new)\n",
    "    temp.pop(0)\n",
    "    temp=[float(x) for x in temp]\n",
    "    temp=temp[1866:1891]\n",
    "    #temp=temp[2015:2063]\n",
    "    print(temp)\n",
    "    print(len(temp))\n",
    "#full time period is [2015:2112]"
   ]
  },
  {
   "cell_type": "code",
   "execution_count": 86,
   "id": "533867b2",
   "metadata": {},
   "outputs": [
    {
     "name": "stdout",
     "output_type": "stream",
     "text": [
      "[12.1, 11.8, 11.5, 11.3, 11.1, 10.8, 10.6, 10.5, 11.5, 13.2, 15.1, 17.0, 18.2, 18.9, 19.4, 19.2, 18.8, 18.1, 17.3, 16.4, 15.7, 15.1, 14.5, 14.0, 13.6]\n"
     ]
    }
   ],
   "source": [
    "#Air Temp CRN:\n",
    "with open('CRNH0203-2022-MS_Newton_5_ENE.txt') as f:\n",
    "    lst=[line.split()[33] for line in f]\n",
    "    #print(lst)\n",
    "    temp_crn=[]\n",
    "    for i in lst:\n",
    "        new=i.replace(',',\"\")\n",
    "        temp_crn.append(new)\n",
    "    temp_crn=[float(x) for x in temp_crn]\n",
    "    temp_crn=temp_crn[1877:1902]\n",
    "    print(temp_crn)\n",
    "    #print(len(temp_crn))\n",
    "    # print(temp_crn[2124])"
   ]
  },
  {
   "cell_type": "code",
   "execution_count": 87,
   "id": "eb45a98b",
   "metadata": {},
   "outputs": [
    {
     "name": "stdout",
     "output_type": "stream",
     "text": [
      "[-1.8200000000000003, -2.1999900000000014, -2.6000099999999993, -2.9499900000000014, -3.14999, -3.150010000000001, -3.45001, -3.14999, -1.0700000000000003, 1.5300000000000011, 3.299999999999999, 4.300000000000001, 5.02, 5.91, 6.040000000000003, 6.210000000000001, 6.02, 5.299999999999997, 4.009999999999998, 2.4700000000000024, 1.5100000000000016, 0.9300000000000015, 0.7300000000000004, 0.16999999999999993, -0.3200000000000003]\n"
     ]
    }
   ],
   "source": [
    "difference3_new = []\n",
    "\n",
    "zip_object = zip(temp, temp_crn)\n",
    "for temp_i, temp_crn_i in zip_object:\n",
    "    difference3_new.append(temp_i-temp_crn_i)\n",
    "\n",
    "print(difference3_new)"
   ]
  },
  {
   "cell_type": "markdown",
   "id": "90f22105",
   "metadata": {},
   "source": [
    "<font size=\"3\">Gainesville, AL: 2300 UTC 30 March 2022-2300 UTC 31 March 2022</font>"
   ]
  },
  {
   "cell_type": "code",
   "execution_count": 88,
   "id": "0ac4bde5",
   "metadata": {},
   "outputs": [],
   "source": [
    "# #12 hr hrrr:\n",
    "# with open('hrrr_f12_Gainesville_AL.txt') as f:\n",
    "#     lst=[line.split()[5] for line in f]\n",
    "#     temp=[]\n",
    "#     for i in lst:\n",
    "#         new=i.replace(',',\"\")\n",
    "#         temp.append(new)\n",
    "#     temp.pop(0)\n",
    "#     temp=[float(x) for x in temp]\n",
    "#     temp=temp[1866:1891]\n",
    "#     #temp=temp[2015:2063]\n",
    "#     print(temp)\n",
    "#     print(len(temp))\n",
    "# #full time period is [2015:2112]"
   ]
  },
  {
   "cell_type": "code",
   "execution_count": 89,
   "id": "29d3546b",
   "metadata": {},
   "outputs": [],
   "source": [
    "# #Air Temp CRN:\n",
    "# with open('CRNH0203-2022-AL_Gainesville_2_NE.txt') as f:\n",
    "#     lst=[line.split()[33] for line in f]\n",
    "#     #print(lst)\n",
    "#     temp_crn=[]\n",
    "#     for i in lst:\n",
    "#         new=i.replace(',',\"\")\n",
    "#         temp_crn.append(new)\n",
    "#     temp_crn=[float(x) for x in temp_crn]\n",
    "#     temp_crn=temp_crn[1877:1902]\n",
    "#     print(temp_crn)\n",
    "#     #print(len(temp_crn))\n",
    "#     # print(temp_crn[2124])"
   ]
  },
  {
   "cell_type": "code",
   "execution_count": 90,
   "id": "8884c090",
   "metadata": {},
   "outputs": [],
   "source": [
    "# difference3_gai = []\n",
    "\n",
    "# zip_object = zip(temp, temp_crn)\n",
    "# for temp_i, temp_crn_i in zip_object:\n",
    "#     difference3_gai.append(temp_i-temp_crn_i)\n",
    "\n",
    "# print(difference3_gai)"
   ]
  },
  {
   "cell_type": "markdown",
   "id": "5aab2b87",
   "metadata": {},
   "source": [
    "<font size=\"3\">Fairhope, AL: 0100 UTC 31 March 2022-0100 UTC 1 April 2022</font>"
   ]
  },
  {
   "cell_type": "code",
   "execution_count": 91,
   "id": "78e4db46",
   "metadata": {},
   "outputs": [
    {
     "name": "stdout",
     "output_type": "stream",
     "text": [
      "[13.33, 12.36, 11.6, 10.83, 10.56, 10.16, 9.77002, 10.13, 12.18, 14.34, 16.81, 18.91, 21.14, 23.03, 24.12, 24.29, 24.0, 22.63, 20.69, 18.4, 16.85, 15.79, 14.67, 13.99, 13.46]\n",
      "25\n"
     ]
    }
   ],
   "source": [
    "#12 hr hrrr:\n",
    "with open('hrrr_f12_Fairhope_AL.txt') as f:\n",
    "    lst=[line.split()[5] for line in f]\n",
    "    temp=[]\n",
    "    for i in lst:\n",
    "        new=i.replace(',',\"\")\n",
    "        temp.append(new)\n",
    "    temp.pop(0)\n",
    "    temp=[float(x) for x in temp]\n",
    "    temp=temp[1866:1891]\n",
    "    #temp=temp[2015:2063]\n",
    "    print(temp)\n",
    "    print(len(temp))\n",
    "#full time period is [2015:2112]"
   ]
  },
  {
   "cell_type": "code",
   "execution_count": 92,
   "id": "a5219a0e",
   "metadata": {},
   "outputs": [
    {
     "name": "stdout",
     "output_type": "stream",
     "text": [
      "[16.5, 16.0, 15.9, 15.6, 15.4, 15.2, 15.0, 14.8, 14.8, 14.8, 15.1, 15.5, 15.8, 16.4, 16.9, 17.0, 17.2, 17.4, 17.2, 17.0, 16.6, 16.4, 16.1, 15.9, 15.7]\n"
     ]
    }
   ],
   "source": [
    "#Air Temp CRN:\n",
    "with open('CRNH0203-2022-AL_Fairhope_3_NE.txt') as f:\n",
    "    lst=[line.split()[33] for line in f]\n",
    "    #print(lst)\n",
    "    temp_crn=[]\n",
    "    for i in lst:\n",
    "        new=i.replace(',',\"\")\n",
    "        temp_crn.append(new)\n",
    "    temp_crn=[float(x) for x in temp_crn]\n",
    "    temp_crn=temp_crn[1877:1902]\n",
    "    print(temp_crn)\n",
    "    #print(len(temp_crn))\n",
    "    # print(temp_crn[2124])"
   ]
  },
  {
   "cell_type": "code",
   "execution_count": 93,
   "id": "d432da0b",
   "metadata": {},
   "outputs": [
    {
     "name": "stdout",
     "output_type": "stream",
     "text": [
      "[-3.17, -3.6400000000000006, -4.300000000000001, -4.77, -4.84, -5.039999999999999, -5.229979999999999, -4.67, -2.620000000000001, -0.46000000000000085, 1.709999999999999, 3.41, 5.34, 6.630000000000003, 7.220000000000002, 7.289999999999999, 6.800000000000001, 5.23, 3.490000000000002, 1.3999999999999986, 0.25, -0.6099999999999994, -1.4300000000000015, -1.9100000000000001, -2.2399999999999984]\n"
     ]
    }
   ],
   "source": [
    "difference3_fai = []\n",
    "\n",
    "zip_object = zip(temp, temp_crn)\n",
    "for temp_i, temp_crn_i in zip_object:\n",
    "    difference3_fai.append(temp_i-temp_crn_i)\n",
    "\n",
    "print(difference3_fai)"
   ]
  },
  {
   "cell_type": "markdown",
   "id": "66067924",
   "metadata": {},
   "source": [
    "<font size=\"3\">**Selma, AL: 0100 UTC 31 March 2022-0100 UTC 1 April 2022</font>"
   ]
  },
  {
   "cell_type": "code",
   "execution_count": 94,
   "id": "e2681a14",
   "metadata": {},
   "outputs": [
    {
     "name": "stdout",
     "output_type": "stream",
     "text": [
      "[9.98001, 9.36002, 8.55002, 8.0, 7.87, 7.52002, 7.28, 7.62, 9.87, 12.37, 14.4, 16.21, 17.35, 18.43, 18.85, 18.83, 18.48, 17.62, 16.39, 14.51, 13.37, 12.7, 12.44, 11.89, 11.54]\n",
      "25\n",
      "[13.2, 12.7, 12.2, 11.8, 11.5, 11.2, 10.8, 10.7, 11.0, 11.8, 12.9, 14.7, 16.1, 17.1, 17.4, 17.4, 17.3, 17.1, 16.7, 15.9, 15.4, 14.8, 14.6, 13.8, 13.4]\n",
      "25\n",
      "[-3.2199899999999992, -3.339979999999999, -3.6499799999999993, -3.8000000000000007, -3.63, -3.6799799999999996, -3.5200000000000005, -3.079999999999999, -1.1300000000000008, 0.5699999999999985, 1.5, 1.5100000000000016, 1.25, 1.3299999999999983, 1.4500000000000028, 1.4299999999999997, 1.1799999999999997, 0.5199999999999996, -0.3099999999999987, -1.3900000000000006, -2.030000000000001, -2.1000000000000014, -2.16, -1.9100000000000001, -1.8600000000000012]\n",
      "25\n"
     ]
    }
   ],
   "source": [
    "#12 hr hrrr:\n",
    "with open('hrrr_f12_Selma_AL.txt') as f:\n",
    "    lst=[line.split()[5] for line in f]\n",
    "    temp=[]\n",
    "    for i in lst:\n",
    "        new=i.replace(',',\"\")\n",
    "        temp.append(new)\n",
    "    temp.pop(0)\n",
    "    temp=[float(x) for x in temp]\n",
    "    temp=temp[1866:1891]\n",
    "    \n",
    "#Air Temp CRN:\n",
    "with open('CRNH0203-2022-AL_Selma_13_WNW.txt') as f:\n",
    "    lst=[line.split()[33] for line in f]\n",
    "    #print(lst)\n",
    "    temp_crn=[]\n",
    "    for i in lst:\n",
    "        new=i.replace(',',\"\")\n",
    "        temp_crn.append(new)\n",
    "    temp_crn=[float(x) for x in temp_crn]\n",
    "    temp_crn=temp_crn[1877:1902]\n",
    "\n",
    "    print(temp)\n",
    "    print(len(temp))\n",
    "    print(temp_crn)\n",
    "    print(len(temp_crn))\n",
    "#full time period is [2015:2112]\n",
    "difference3_sel = []\n",
    "\n",
    "zip_object = zip(temp, temp_crn)\n",
    "for temp_i, temp_crn_i in zip_object:\n",
    "    difference3_sel.append(temp_i-temp_crn_i)\n",
    "\n",
    "print(difference3_sel)\n",
    "print(len(difference3_sel))"
   ]
  },
  {
   "cell_type": "markdown",
   "id": "d1c6ee44",
   "metadata": {},
   "source": [
    "<font size=\"3\">Bowling Green, KY: 0100 UTC 31 March 2022-0100 UTC 1 April 2022</font>"
   ]
  },
  {
   "cell_type": "code",
   "execution_count": 95,
   "id": "dc35b7f8",
   "metadata": {},
   "outputs": [
    {
     "name": "stdout",
     "output_type": "stream",
     "text": [
      "[4.95001, 3.67999, 3.38, 2.70999, 2.23001, 1.74002, 1.09, 1.86002, 5.74002, 9.80002, 13.07, 15.79, 17.65, 19.21, 19.93, 20.02, 19.4, 18.07, 15.85, 13.22, 11.63, 10.7, 9.66, 8.70001, 7.94]\n"
     ]
    }
   ],
   "source": [
    "#12 hr hrrr:\n",
    "with open('hrrr_f12_Bowling Green_KY.txt') as f:\n",
    "    lst=[line.split()[5] for line in f]\n",
    "    temp=[]\n",
    "    for i in lst:\n",
    "        new=i.replace(',',\"\")\n",
    "        temp.append(new)\n",
    "    temp.pop(0)\n",
    "    temp=[float(x) for x in temp]\n",
    "    temp=temp[1866:1891]\n",
    "#     x = np.array(temp)\n",
    "#     temp= ma.masked_array(x, mask=[0, 0, 0, 0, 0,0,1,0,0,0,0,0,0,0,0,0,0,0,0,0,0,0,0,0,0])\n",
    "    #temp=temp[2015:2063]\n",
    "    print(temp)\n",
    "    #print(len(temp))\n",
    "#full time period is [2015:2112]"
   ]
  },
  {
   "cell_type": "code",
   "execution_count": 96,
   "id": "41c9ce08",
   "metadata": {},
   "outputs": [
    {
     "name": "stdout",
     "output_type": "stream",
     "text": [
      "[8.1, 7.8, 7.5, 7.2, 6.9, 6.7, 6.5, 6.3, 6.6, 7.4, 8.8, 10.3, 11.8, 13.1, 14.0, 14.4, 14.4, 13.8, 13.1, 12.2, 11.5, 10.8, 10.3, 9.9, 9.4]\n"
     ]
    }
   ],
   "source": [
    "#Air Temp CRN:\n",
    "with open('CRNH0203-2022-KY_Bowling_Green_21_NNE.txt') as f:\n",
    "    lst=[line.split()[33] for line in f]\n",
    "    #print(lst)\n",
    "    temp_crn=[]\n",
    "    for i in lst:\n",
    "        new=i.replace(',',\"\")\n",
    "        temp_crn.append(new)\n",
    "    temp_crn=[float(x) for x in temp_crn]\n",
    "    temp_crn=temp_crn[1877:1902]\n",
    "#     y = np.array(temp_crn)\n",
    "#     temp_crn = ma.masked_array(y, mask=[0, 0, 0, 0, 0,0,1,0,0,0,0,0,0,0,0,0,0,0,0,0,0,0,0,0,0])\n",
    "    print(temp_crn)\n",
    "    #print(len(temp_crn))\n",
    "    # print(temp_crn[2124])"
   ]
  },
  {
   "cell_type": "code",
   "execution_count": 97,
   "id": "7bef283c",
   "metadata": {},
   "outputs": [
    {
     "name": "stdout",
     "output_type": "stream",
     "text": [
      "[-3.14999, -4.12001, -4.12, -4.49001, -4.66999, -4.95998, -5.41, -4.43998, -0.8599799999999993, 2.4000199999999996, 4.27, 5.489999999999998, 5.849999999999998, 6.110000000000001, 5.93, 5.619999999999999, 4.999999999999998, 4.27, 2.75, 1.0200000000000014, 0.13000000000000078, -0.10000000000000142, -0.6400000000000006, -1.1999899999999997, -1.46]\n"
     ]
    }
   ],
   "source": [
    "difference3_bow = []\n",
    "\n",
    "zip_object = zip(temp, temp_crn)\n",
    "for temp_i, temp_crn_i in zip_object:\n",
    "    difference3_bow.append(temp_i-temp_crn_i)\n",
    "\n",
    "print(difference3_bow)"
   ]
  },
  {
   "cell_type": "markdown",
   "id": "3b390eb9",
   "metadata": {},
   "source": [
    "<font size=\"3\">Gadsden, AL: 0200 UTC 31 March 2022-0200 UTC 1 April 2022</font>"
   ]
  },
  {
   "cell_type": "code",
   "execution_count": 98,
   "id": "5f1342b9",
   "metadata": {},
   "outputs": [
    {
     "name": "stdout",
     "output_type": "stream",
     "text": [
      "[6.23001, 5.51001, 4.67001, 4.34, 3.92999, 3.78, 3.81, 4.75, 8.23001, 11.13, 13.38, 15.34, 16.86, 18.0, 18.53, 18.48, 18.04, 16.85, 14.97, 13.21, 12.15, 11.04, 9.87, 8.92001, 8.08002]\n",
      "25\n"
     ]
    }
   ],
   "source": [
    "#12 hr hrrr:\n",
    "with open('hrrr_f12_Gadsden_AL.txt') as f:\n",
    "    lst=[line.split()[5] for line in f]\n",
    "    temp=[]\n",
    "    for i in lst:\n",
    "        new=i.replace(',',\"\")\n",
    "        temp.append(new)\n",
    "    temp.pop(0)\n",
    "    temp=[float(x) for x in temp]\n",
    "    temp=temp[1866:1891]\n",
    "    #temp=temp[2015:2063]\n",
    "    print(temp)\n",
    "    print(len(temp))\n",
    "#full time period is [2015:2112]"
   ]
  },
  {
   "cell_type": "code",
   "execution_count": 99,
   "id": "47e6df80",
   "metadata": {},
   "outputs": [
    {
     "name": "stdout",
     "output_type": "stream",
     "text": [
      "[11.2, 10.7, 10.5, 10.2, 9.9, 9.6, 9.4, 9.2, 9.4, 9.9, 10.8, 11.9, 13.0, 13.9, 14.6, 15.1, 15.1, 14.9, 14.4, 13.8, 13.3, 12.7, 12.2, 11.8, 11.4]\n"
     ]
    }
   ],
   "source": [
    "#Air Temp CRN:\n",
    "with open('CRNH0203-2022-AL_Gadsden_19_N.txt') as f:\n",
    "    lst=[line.split()[33] for line in f]\n",
    "    #print(lst)\n",
    "    temp_crn=[]\n",
    "    for i in lst:\n",
    "        new=i.replace(',',\"\")\n",
    "        temp_crn.append(new)\n",
    "    temp_crn=[float(x) for x in temp_crn]\n",
    "    temp_crn=temp_crn[1877:1902]\n",
    "    print(temp_crn)\n",
    "    #print(len(temp_crn))\n",
    "    # print(temp_crn[2124])"
   ]
  },
  {
   "cell_type": "code",
   "execution_count": 100,
   "id": "8dd096ca",
   "metadata": {},
   "outputs": [
    {
     "name": "stdout",
     "output_type": "stream",
     "text": [
      "[-4.969989999999999, -5.189989999999999, -5.82999, -5.859999999999999, -5.97001, -5.82, -5.59, -4.449999999999999, -1.1699900000000003, 1.2300000000000004, 2.58, 3.4399999999999995, 3.8599999999999994, 4.1, 3.9300000000000015, 3.380000000000001, 2.9399999999999995, 1.950000000000001, 0.5700000000000003, -0.5899999999999999, -1.1500000000000004, -1.6600000000000001, -2.33, -2.879990000000001, -3.319980000000001]\n"
     ]
    }
   ],
   "source": [
    "difference3_gad = []\n",
    "\n",
    "zip_object = zip(temp, temp_crn)\n",
    "for temp_i, temp_crn_i in zip_object:\n",
    "    difference3_gad.append(temp_i-temp_crn_i)\n",
    "\n",
    "print(difference3_gad)"
   ]
  },
  {
   "cell_type": "markdown",
   "id": "82faa02b",
   "metadata": {},
   "source": [
    "<font size=\"3\">Newton, GA: 0700 UTC 31 March 2022-0700 UTC 1 April 2022</font>"
   ]
  },
  {
   "cell_type": "code",
   "execution_count": 101,
   "id": "d80c21b9",
   "metadata": {},
   "outputs": [
    {
     "name": "stdout",
     "output_type": "stream",
     "text": [
      "[13.95, 13.41, 12.4, 11.64, 11.25, 10.68, 10.02, 10.37, 11.83, 13.29, 14.68, 15.94, 17.12, 17.86, 18.14, 18.25, 18.31, 17.77, 16.74, 14.97, 13.7, 12.91, 12.89, 12.28, 11.6]\n",
      "25\n"
     ]
    }
   ],
   "source": [
    "#12 hr hrrr:\n",
    "with open('hrrr_f12_Newton_GA.txt') as f:\n",
    "    lst=[line.split()[5] for line in f]\n",
    "    temp=[]\n",
    "    for i in lst:\n",
    "        new=i.replace(',',\"\")\n",
    "        temp.append(new)\n",
    "    temp.pop(0)\n",
    "    temp=[float(x) for x in temp]\n",
    "    temp=temp[1866:1891]\n",
    "    #temp=temp[2015:2063]\n",
    "    print(temp)\n",
    "    print(len(temp))\n",
    "#full time period is [2015:2112]"
   ]
  },
  {
   "cell_type": "code",
   "execution_count": 102,
   "id": "170d8eec",
   "metadata": {},
   "outputs": [
    {
     "name": "stdout",
     "output_type": "stream",
     "text": [
      "[16.4, 16.1, 15.8, 15.6, 15.2, 14.9, 14.6, 14.5, 14.9, 15.8, 17.0, 18.2, 19.3, 20.2, 20.3, 20.3, 19.9, 19.3, 18.5, 17.7, 17.1, 16.6, 16.1, 15.7, 15.3]\n"
     ]
    }
   ],
   "source": [
    "#Air Temp CRN:\n",
    "with open('CRNH0203-2022-GA_Newton_11_SW.txt') as f:\n",
    "    lst=[line.split()[33] for line in f]\n",
    "    #print(lst)\n",
    "    temp_crn=[]\n",
    "    for i in lst:\n",
    "        new=i.replace(',',\"\")\n",
    "        temp_crn.append(new)\n",
    "    temp_crn=[float(x) for x in temp_crn]\n",
    "    temp_crn=temp_crn[1877:1902]\n",
    "    print(temp_crn)\n",
    "    #print(len(temp_crn))\n",
    "    # print(temp_crn[2124])"
   ]
  },
  {
   "cell_type": "code",
   "execution_count": 103,
   "id": "9437e113",
   "metadata": {},
   "outputs": [
    {
     "name": "stdout",
     "output_type": "stream",
     "text": [
      "[-2.4499999999999993, -2.6900000000000013, -3.4000000000000004, -3.959999999999999, -3.9499999999999993, -4.220000000000001, -4.58, -4.130000000000001, -3.0700000000000003, -2.5100000000000016, -2.3200000000000003, -2.26, -2.1799999999999997, -2.34, -2.16, -2.0500000000000007, -1.5899999999999999, -1.5300000000000011, -1.7600000000000016, -2.7299999999999986, -3.400000000000002, -3.6900000000000013, -3.210000000000001, -3.42, -3.700000000000001]\n"
     ]
    }
   ],
   "source": [
    "difference3_newt = []\n",
    "\n",
    "zip_object = zip(temp, temp_crn)\n",
    "for temp_i, temp_crn_i in zip_object:\n",
    "    difference3_newt.append(temp_i-temp_crn_i)\n",
    "\n",
    "print(difference3_newt)"
   ]
  },
  {
   "cell_type": "markdown",
   "id": "e079df5d",
   "metadata": {},
   "source": [
    "<font size=\"3\">Salem, MO: 0500 UTC (12:00 am CDT) 03 April 2022-0500 UTC (12:00 am CDT) 04 April 2022</font>"
   ]
  },
  {
   "cell_type": "code",
   "execution_count": 104,
   "id": "622e7a2c",
   "metadata": {},
   "outputs": [
    {
     "name": "stdout",
     "output_type": "stream",
     "text": [
      "[5.80002, 5.28, 4.89001, 4.39001, 4.30002, 4.07001, 3.76001, 4.44, 6.70001, 9.30002, 11.41, 13.07, 15.07, 16.8, 17.82, 17.15, 16.41, 16.53, 15.63, 14.07, 12.81, 12.76, 12.33, 11.66, 11.61]\n",
      "25\n"
     ]
    }
   ],
   "source": [
    "#12 hr hrrr:\n",
    "with open('hrrr_f12_Salem_MO.txt') as f:\n",
    "    lst=[line.split()[5] for line in f]\n",
    "    temp=[]\n",
    "    for i in lst:\n",
    "        new=i.replace(',',\"\")\n",
    "        temp.append(new)\n",
    "    temp.pop(0)\n",
    "    temp=[float(x) for x in temp]\n",
    "    temp=temp[2202:2227]\n",
    "    #temp=temp[2015:2063]\n",
    "    print(temp)\n",
    "    print(len(temp))\n",
    "#full time period is [2015:2112]"
   ]
  },
  {
   "cell_type": "code",
   "execution_count": 105,
   "id": "e56c5281",
   "metadata": {},
   "outputs": [
    {
     "name": "stdout",
     "output_type": "stream",
     "text": [
      "[7.1, 6.9, 6.5, 6.2, 6.0, 5.8, 5.5, 5.4, 5.6, 6.5, 7.6, 8.8, 9.8, 10.8, 11.5, 11.8, 12.0, 11.6, 11.2, 10.8, 10.4, 10.1, 9.8, 9.6, 9.5]\n"
     ]
    }
   ],
   "source": [
    "#Air Temp CRN:\n",
    "with open('CRNH0203-2022-MO_Salem_10_W.txt') as f:\n",
    "    lst=[line.split()[33] for line in f]\n",
    "    #print(lst)\n",
    "    temp_crn=[]\n",
    "    for i in lst:\n",
    "        new=i.replace(',',\"\")\n",
    "        temp_crn.append(new)\n",
    "    temp_crn=[float(x) for x in temp_crn]\n",
    "    temp_crn=temp_crn[2213:2238]\n",
    "    print(temp_crn)\n",
    "    #print(len(temp_crn))\n",
    "    # print(temp_crn[2124])"
   ]
  },
  {
   "cell_type": "code",
   "execution_count": 106,
   "id": "5ee2a976",
   "metadata": {},
   "outputs": [
    {
     "name": "stdout",
     "output_type": "stream",
     "text": [
      "[-1.2999799999999997, -1.62, -1.6099899999999998, -1.80999, -1.69998, -1.72999, -1.7399900000000001, -0.96, 1.1000100000000002, 2.80002, 3.8100000000000005, 4.27, 5.27, 6.0, 6.32, 5.349999999999998, 4.41, 4.9300000000000015, 4.4300000000000015, 3.2699999999999996, 2.41, 2.66, 2.5299999999999994, 2.0600000000000005, 2.1099999999999994]\n"
     ]
    }
   ],
   "source": [
    "difference4_sal = []\n",
    "\n",
    "zip_object = zip(temp, temp_crn)\n",
    "for temp_i, temp_crn_i in zip_object:\n",
    "    difference4_sal.append(temp_i-temp_crn_i)\n",
    "\n",
    "print(difference4_sal)"
   ]
  },
  {
   "cell_type": "markdown",
   "id": "63613de4",
   "metadata": {},
   "source": [
    "<font size=\"3\">Batesville, AR: 1300 UTC 30 March 2022-1300 UTC 31 March 2022</font>"
   ]
  },
  {
   "cell_type": "code",
   "execution_count": 107,
   "id": "a991dc6f",
   "metadata": {},
   "outputs": [
    {
     "name": "stdout",
     "output_type": "stream",
     "text": [
      "[9.38, 8.83002, 8.35001, 7.81, 7.39001, 7.10001, 6.84, 7.39001, 9.25, 11.3, 13.35, 15.08, 16.71, 18.29, 19.67, 20.52, 20.34, 19.3, 18.0, 15.74, 14.09, 13.0, 12.05, 11.5, 10.89]\n",
      "25\n"
     ]
    }
   ],
   "source": [
    "#12 hr hrrr:\n",
    "with open('hrrr_f12_Batesville_AR.txt') as f:\n",
    "    lst=[line.split()[5] for line in f]\n",
    "    temp=[]\n",
    "    for i in lst:\n",
    "        new=i.replace(',',\"\")\n",
    "        temp.append(new)\n",
    "    temp.pop(0)\n",
    "    temp=[float(x) for x in temp]\n",
    "    temp=temp[2202:2227]\n",
    "    #temp=temp[2015:2063]\n",
    "    print(temp)\n",
    "    print(len(temp))\n",
    "#full time period is [2015:2112]"
   ]
  },
  {
   "cell_type": "code",
   "execution_count": 108,
   "id": "02076d4e",
   "metadata": {},
   "outputs": [
    {
     "name": "stdout",
     "output_type": "stream",
     "text": [
      "[11.3, 10.8, 10.5, 10.2, 9.9, 9.6, 9.4, 9.2, 9.4, 9.9, 10.6, 11.5, 12.6, 13.5, 14.2, 14.5, 14.5, 14.3, 14.0, 13.5, 13.1, 12.7, 12.5, 12.2, 12.2]\n"
     ]
    }
   ],
   "source": [
    "#Air Temp CRN:\n",
    "with open('CRNH0203-2022-AR_Batesville_8_WNW.txt') as f:\n",
    "    lst=[line.split()[33] for line in f]\n",
    "    #print(lst)\n",
    "    temp_crn=[]\n",
    "    for i in lst:\n",
    "        new=i.replace(',',\"\")\n",
    "        temp_crn.append(new)\n",
    "    temp_crn=[float(x) for x in temp_crn]\n",
    "    temp_crn=temp_crn[2213:2238]\n",
    "    print(temp_crn)\n",
    "    #print(len(temp_crn))\n",
    "    # print(temp_crn[2124])"
   ]
  },
  {
   "cell_type": "code",
   "execution_count": 109,
   "id": "a4f04c7c",
   "metadata": {},
   "outputs": [
    {
     "name": "stdout",
     "output_type": "stream",
     "text": [
      "[-1.92, -1.9699800000000014, -2.1499900000000007, -2.3899999999999997, -2.50999, -2.4999899999999995, -2.5600000000000005, -1.809989999999999, -0.15000000000000036, 1.4000000000000004, 2.75, 3.58, 4.110000000000001, 4.789999999999999, 5.470000000000002, 6.02, 5.84, 5.0, 4.0, 2.24, 0.9900000000000002, 0.3000000000000007, -0.4499999999999993, -0.6999999999999993, -1.3099999999999987]\n"
     ]
    }
   ],
   "source": [
    "difference4_bat = []\n",
    "\n",
    "zip_object = zip(temp, temp_crn)\n",
    "for temp_i, temp_crn_i in zip_object:\n",
    "    difference4_bat.append(temp_i-temp_crn_i)\n",
    "\n",
    "print(difference4_bat)"
   ]
  },
  {
   "cell_type": "markdown",
   "id": "6bb394d3",
   "metadata": {},
   "source": [
    "<font size=\"3\">Lafayette, LA: 1700 UTC 30 March 2022-1700 UTC 31 March 2022</font>"
   ]
  },
  {
   "cell_type": "code",
   "execution_count": 110,
   "id": "356001a0",
   "metadata": {},
   "outputs": [
    {
     "name": "stdout",
     "output_type": "stream",
     "text": [
      "[19.33, 18.22, 17.63, 16.94, 16.49, 15.92, 15.22, 14.93, 17.72, 21.66, 24.95, 27.81, 29.87, 31.35, 32.38, 32.75, 32.04, 30.58, 27.98, 25.54, 23.68, 22.43, 21.42, 20.36, 19.38]\n",
      "25\n"
     ]
    }
   ],
   "source": [
    "#12 hr hrrr:\n",
    "with open('hrrr_f12_Lafayette_LA.txt') as f:\n",
    "    lst=[line.split()[5] for line in f]\n",
    "    temp=[]\n",
    "    for i in lst:\n",
    "        new=i.replace(',',\"\")\n",
    "        temp.append(new)\n",
    "    temp.pop(0)\n",
    "    temp=[float(x) for x in temp]\n",
    "    temp=temp[2202:2227]\n",
    "    #temp=temp[2015:2063]\n",
    "    print(temp)\n",
    "    print(len(temp))\n",
    "#full time period is [2015:2112]"
   ]
  },
  {
   "cell_type": "code",
   "execution_count": 111,
   "id": "fc15ee26",
   "metadata": {},
   "outputs": [
    {
     "name": "stdout",
     "output_type": "stream",
     "text": [
      "[18.8, 18.6, 18.3, 18.0, 17.8, 17.5, 17.3, 17.1, 17.1, 17.3, 17.7, 18.2, 18.9, 19.6, 20.2, 20.6, 20.9, 20.9, 20.7, 20.6, 20.3, 20.0, 19.8, 19.6, 19.3]\n"
     ]
    }
   ],
   "source": [
    "#Air Temp CRN:\n",
    "with open('CRNH0203-2022-LA_Lafayette_13_SE.txt') as f:\n",
    "    lst=[line.split()[33] for line in f]\n",
    "    #print(lst)\n",
    "    temp_crn=[]\n",
    "    for i in lst:\n",
    "        new=i.replace(',',\"\")\n",
    "        temp_crn.append(new)\n",
    "    temp_crn=[float(x) for x in temp_crn]\n",
    "    temp_crn=temp_crn[2213:2238]\n",
    "    print(temp_crn)\n",
    "    #print(len(temp_crn))\n",
    "    # print(temp_crn[2124])"
   ]
  },
  {
   "cell_type": "code",
   "execution_count": 112,
   "id": "1652b3e7",
   "metadata": {},
   "outputs": [
    {
     "name": "stdout",
     "output_type": "stream",
     "text": [
      "[0.5299999999999976, -0.38000000000000256, -0.6700000000000017, -1.0599999999999987, -1.3100000000000023, -1.58, -2.08, -2.1700000000000017, 0.6199999999999974, 4.359999999999999, 7.25, 9.61, 10.970000000000002, 11.75, 12.180000000000003, 12.149999999999999, 11.14, 9.68, 7.280000000000001, 4.939999999999998, 3.379999999999999, 2.4299999999999997, 1.620000000000001, 0.759999999999998, 0.0799999999999983]\n"
     ]
    }
   ],
   "source": [
    "difference4_laf = []\n",
    "\n",
    "zip_object = zip(temp, temp_crn)\n",
    "for temp_i, temp_crn_i in zip_object:\n",
    "    difference4_laf.append(temp_i-temp_crn_i)\n",
    "\n",
    "print(difference4_laf)"
   ]
  },
  {
   "cell_type": "markdown",
   "id": "8ab7c382",
   "metadata": {},
   "source": [
    "<font size=\"3\">Monroe, LA: 1700 UTC 30 March 2022-1700 UTC 31 March 2022</font>"
   ]
  },
  {
   "cell_type": "code",
   "execution_count": 113,
   "id": "ab7da82f",
   "metadata": {},
   "outputs": [
    {
     "name": "stdout",
     "output_type": "stream",
     "text": [
      "[14.71, 14.18, 13.4, 12.88, 12.48, 12.1, 11.41, 11.7, 13.26, 15.53, 18.02, 20.27, 23.16, 25.71, 27.08, 27.6, 27.18, 25.78, 23.99, 21.6, 20.05, 18.67, 17.52, 16.63, 15.89]\n",
      "25\n"
     ]
    }
   ],
   "source": [
    "#12 hr hrrr:\n",
    "with open('hrrr_f12_Monroe_LA.txt') as f:\n",
    "    lst=[line.split()[5] for line in f]\n",
    "    temp=[]\n",
    "    for i in lst:\n",
    "        new=i.replace(',',\"\")\n",
    "        temp.append(new)\n",
    "    temp.pop(0)\n",
    "    temp=[float(x) for x in temp]\n",
    "    temp=temp[2202:2227]\n",
    "    #temp=temp[2015:2063]\n",
    "    print(temp)\n",
    "    print(len(temp))\n",
    "#full time period is [2015:2112]"
   ]
  },
  {
   "cell_type": "code",
   "execution_count": 114,
   "id": "873c3804",
   "metadata": {},
   "outputs": [
    {
     "name": "stdout",
     "output_type": "stream",
     "text": [
      "[16.3, 15.9, 15.5, 15.1, 14.7, 14.5, 14.2, 13.9, 14.1, 14.8, 16.1, 17.5, 18.9, 20.2, 21.1, 21.5, 21.6, 21.1, 20.5, 19.7, 19.0, 18.4, 17.9, 17.4, 17.0]\n"
     ]
    }
   ],
   "source": [
    "#Air Temp CRN:\n",
    "with open('CRNH0203-2022-LA_Monroe_26_N.txt') as f:\n",
    "    lst=[line.split()[33] for line in f]\n",
    "    #print(lst)\n",
    "    temp_crn=[]\n",
    "    for i in lst:\n",
    "        new=i.replace(',',\"\")\n",
    "        temp_crn.append(new)\n",
    "    temp_crn=[float(x) for x in temp_crn]\n",
    "    temp_crn=temp_crn[2213:2238]\n",
    "    print(temp_crn)\n",
    "    #print(len(temp_crn))\n",
    "    # print(temp_crn[2124])"
   ]
  },
  {
   "cell_type": "code",
   "execution_count": 115,
   "id": "47cad69e",
   "metadata": {},
   "outputs": [
    {
     "name": "stdout",
     "output_type": "stream",
     "text": [
      "[-1.5899999999999999, -1.7200000000000006, -2.0999999999999996, -2.219999999999999, -2.219999999999999, -2.4000000000000004, -2.789999999999999, -2.200000000000001, -0.8399999999999999, 0.7299999999999986, 1.9199999999999982, 2.7699999999999996, 4.260000000000002, 5.510000000000002, 5.979999999999997, 6.100000000000001, 5.579999999999998, 4.68, 3.4899999999999984, 1.9000000000000021, 1.0500000000000007, 0.2700000000000031, -0.379999999999999, -0.7699999999999996, -1.1099999999999994]\n"
     ]
    }
   ],
   "source": [
    "difference4_mon = []\n",
    "\n",
    "zip_object = zip(temp, temp_crn)\n",
    "for temp_i, temp_crn_i in zip_object:\n",
    "    difference4_mon.append(temp_i-temp_crn_i)\n",
    "\n",
    "print(difference4_mon)"
   ]
  },
  {
   "cell_type": "markdown",
   "id": "0f6aa3ec",
   "metadata": {},
   "source": [
    "<font size=\"3\">Holly Springs, MS: 2000 UTC 30 March 2022-2000 UTC 31 March 2022</font>"
   ]
  },
  {
   "cell_type": "code",
   "execution_count": 116,
   "id": "617cfc09",
   "metadata": {},
   "outputs": [
    {
     "name": "stdout",
     "output_type": "stream",
     "text": [
      "[10.62, 9.89001, 9.27002, 8.83002, 8.38, 8.26001, 7.41, 7.89001, 9.63, 11.69, 13.94, 16.25, 18.76, 20.49, 21.71, 22.33, 21.83, 20.5, 18.66, 16.07, 14.11, 12.9, 11.89, 11.06, 10.42]\n",
      "25\n"
     ]
    }
   ],
   "source": [
    "#12 hr hrrr:\n",
    "with open('hrrr_f12_Holly Springs_MS.txt') as f:\n",
    "    lst=[line.split()[5] for line in f]\n",
    "    temp=[]\n",
    "    for i in lst:\n",
    "        new=i.replace(',',\"\")\n",
    "        temp.append(new)\n",
    "    temp.pop(0)\n",
    "    temp=[float(x) for x in temp]\n",
    "    temp=temp[2202:2227]\n",
    "    #temp=temp[2015:2063]\n",
    "    print(temp)\n",
    "    print(len(temp))\n",
    "#full time period is [2015:2112]"
   ]
  },
  {
   "cell_type": "code",
   "execution_count": 117,
   "id": "f9909974",
   "metadata": {},
   "outputs": [
    {
     "name": "stdout",
     "output_type": "stream",
     "text": [
      "[12.6, 12.5, 12.2, 11.9, 11.7, 11.4, 11.1, 11.0, 11.2, 11.9, 13.0, 14.0, 15.2, 16.2, 16.7, 17.0, 16.8, 16.3, 15.7, 15.1, 14.6, 14.0, 13.6, 13.2, 13.0]\n"
     ]
    }
   ],
   "source": [
    "#Air Temp CRN:\n",
    "with open('CRNH0203-2022-MS_Holly_Springs_4_N.txt') as f:\n",
    "    lst=[line.split()[33] for line in f]\n",
    "    #print(lst)\n",
    "    temp_crn=[]\n",
    "    for i in lst:\n",
    "        new=i.replace(',',\"\")\n",
    "        temp_crn.append(new)\n",
    "    temp_crn=[float(x) for x in temp_crn]\n",
    "    temp_crn=temp_crn[2213:2238]\n",
    "    print(temp_crn)\n",
    "    #print(len(temp_crn))\n",
    "    # print(temp_crn[2124])"
   ]
  },
  {
   "cell_type": "code",
   "execution_count": 118,
   "id": "53eef0da",
   "metadata": {},
   "outputs": [
    {
     "name": "stdout",
     "output_type": "stream",
     "text": [
      "[-1.9800000000000004, -2.60999, -2.9299799999999987, -3.069980000000001, -3.3199999999999985, -3.139990000000001, -3.6899999999999995, -3.10999, -1.5699999999999985, -0.21000000000000085, 0.9399999999999995, 2.25, 3.5600000000000023, 4.289999999999999, 5.010000000000002, 5.329999999999998, 5.029999999999998, 4.199999999999999, 2.960000000000001, 0.9700000000000006, -0.4900000000000002, -1.0999999999999996, -1.709999999999999, -2.139999999999999, -2.58]\n"
     ]
    }
   ],
   "source": [
    "difference4_hol = []\n",
    "\n",
    "zip_object = zip(temp, temp_crn)\n",
    "for temp_i, temp_crn_i in zip_object:\n",
    "    difference4_hol.append(temp_i-temp_crn_i)\n",
    "\n",
    "print(difference4_hol)"
   ]
  },
  {
   "cell_type": "markdown",
   "id": "7e73a2f1",
   "metadata": {},
   "source": [
    "<font size=\"3\">Newton, MS: 2000 UTC 30 March 2022-2000 UTC 31 March 2022</font>"
   ]
  },
  {
   "cell_type": "code",
   "execution_count": 119,
   "id": "41e0bd17",
   "metadata": {},
   "outputs": [
    {
     "name": "stdout",
     "output_type": "stream",
     "text": [
      "[15.03, 13.98, 13.35, 12.94, 11.95, 11.48, 11.23, 11.77, 15.14, 18.81, 21.71, 23.95, 25.91, 27.08, 27.71, 27.68, 26.9, 25.24, 23.24, 21.01, 19.32, 18.17, 16.97, 15.86, 15.15]\n",
      "25\n"
     ]
    }
   ],
   "source": [
    "#12 hr hrrr:\n",
    "with open('hrrr_f12_Newton_MS.txt') as f:\n",
    "    lst=[line.split()[5] for line in f]\n",
    "    temp=[]\n",
    "    for i in lst:\n",
    "        new=i.replace(',',\"\")\n",
    "        temp.append(new)\n",
    "    temp.pop(0)\n",
    "    temp=[float(x) for x in temp]\n",
    "    temp=temp[2202:2227]\n",
    "    #temp=temp[2015:2063]\n",
    "    print(temp)\n",
    "    print(len(temp))\n",
    "#full time period is [2015:2112]"
   ]
  },
  {
   "cell_type": "code",
   "execution_count": 120,
   "id": "5c9b058b",
   "metadata": {},
   "outputs": [
    {
     "name": "stdout",
     "output_type": "stream",
     "text": [
      "[15.5, 15.1, 14.8, 14.5, 14.2, 14.0, 13.7, 13.9, 14.9, 16.5, 18.0, 19.7, 20.7, 21.4, 21.9, 21.8, 21.4, 20.7, 20.0, 18.9, 18.2, 17.5, 17.0, 16.5, 16.1]\n"
     ]
    }
   ],
   "source": [
    "#Air Temp CRN:\n",
    "with open('CRNH0203-2022-MS_Newton_5_ENE.txt') as f:\n",
    "    lst=[line.split()[33] for line in f]\n",
    "    #print(lst)\n",
    "    temp_crn=[]\n",
    "    for i in lst:\n",
    "        new=i.replace(',',\"\")\n",
    "        temp_crn.append(new)\n",
    "    temp_crn=[float(x) for x in temp_crn]\n",
    "    temp_crn=temp_crn[2213:2238]\n",
    "    print(temp_crn)\n",
    "    #print(len(temp_crn))\n",
    "    # print(temp_crn[2124])"
   ]
  },
  {
   "cell_type": "code",
   "execution_count": 121,
   "id": "fc9c5059",
   "metadata": {},
   "outputs": [
    {
     "name": "stdout",
     "output_type": "stream",
     "text": [
      "[-0.47000000000000064, -1.1199999999999992, -1.450000000000001, -1.5600000000000005, -2.25, -2.5199999999999996, -2.469999999999999, -2.130000000000001, 0.2400000000000002, 2.3099999999999987, 3.710000000000001, 4.25, 5.210000000000001, 5.68, 5.810000000000002, 5.879999999999999, 5.5, 4.539999999999999, 3.2399999999999984, 2.110000000000003, 1.120000000000001, 0.6700000000000017, -0.030000000000001137, -0.6400000000000006, -0.9500000000000011]\n"
     ]
    }
   ],
   "source": [
    "difference4_new = []\n",
    "\n",
    "zip_object = zip(temp, temp_crn)\n",
    "for temp_i, temp_crn_i in zip_object:\n",
    "    difference4_new.append(temp_i-temp_crn_i)\n",
    "\n",
    "print(difference4_new)"
   ]
  },
  {
   "cell_type": "markdown",
   "id": "5444abab",
   "metadata": {},
   "source": [
    "<font size=\"3\">Gainesville, AL: 2300 UTC 30 March 2022-2300 UTC 31 March 2022</font>"
   ]
  },
  {
   "cell_type": "code",
   "execution_count": 122,
   "id": "4c26d3e7",
   "metadata": {},
   "outputs": [],
   "source": [
    "# #12 hr hrrr:\n",
    "# with open('hrrr_f12_Gainesville_AL.txt') as f:\n",
    "#     lst=[line.split()[5] for line in f]\n",
    "#     temp=[]\n",
    "#     for i in lst:\n",
    "#         new=i.replace(',',\"\")\n",
    "#         temp.append(new)\n",
    "#     temp.pop(0)\n",
    "#     temp=[float(x) for x in temp]\n",
    "#     temp=temp[2202:2227]\n",
    "#     #temp=temp[2015:2063]\n",
    "#     print(temp)\n",
    "#     print(len(temp))\n",
    "# #full time period is [2015:2112]"
   ]
  },
  {
   "cell_type": "code",
   "execution_count": 123,
   "id": "aa9c0f5c",
   "metadata": {},
   "outputs": [],
   "source": [
    "# #Air Temp CRN:\n",
    "# with open('CRNH0203-2022-AL_Gainesville_2_NE.txt') as f:\n",
    "#     lst=[line.split()[33] for line in f]\n",
    "#     #print(lst)\n",
    "#     temp_crn=[]\n",
    "#     for i in lst:\n",
    "#         new=i.replace(',',\"\")\n",
    "#         temp_crn.append(new)\n",
    "#     temp_crn=[float(x) for x in temp_crn]\n",
    "#     temp_crn=temp_crn[2213:2238]\n",
    "#     print(temp_crn)\n",
    "#     #print(len(temp_crn))\n",
    "#     # print(temp_crn[2124])"
   ]
  },
  {
   "cell_type": "code",
   "execution_count": 124,
   "id": "17c9df1b",
   "metadata": {},
   "outputs": [],
   "source": [
    "# difference4_gai = []\n",
    "\n",
    "# zip_object = zip(temp, temp_crn)\n",
    "# for temp_i, temp_crn_i in zip_object:\n",
    "#     difference4_gai.append(temp_i-temp_crn_i)\n",
    "\n",
    "# print(difference4_gai)"
   ]
  },
  {
   "cell_type": "markdown",
   "id": "ee603556",
   "metadata": {},
   "source": [
    "<font size=\"3\">Fairhope, AL: 0100 UTC 31 March 2022-0100 UTC 1 April 2022</font>"
   ]
  },
  {
   "cell_type": "code",
   "execution_count": 125,
   "id": "3f52e078",
   "metadata": {},
   "outputs": [
    {
     "name": "stdout",
     "output_type": "stream",
     "text": [
      "[13.76, 13.06, 12.86, 12.53, 12.2, 12.0, 11.47, 12.42, 15.88, 18.72, 21.72, 24.09, 26.13, 27.45, 28.21, 28.37, 27.65, 25.88, 23.84, 21.68, 20.0, 18.52, 17.46, 17.04, 16.15]\n",
      "25\n"
     ]
    }
   ],
   "source": [
    "#12 hr hrrr:\n",
    "with open('hrrr_f12_Fairhope_AL.txt') as f:\n",
    "    lst=[line.split()[5] for line in f]\n",
    "    temp=[]\n",
    "    for i in lst:\n",
    "        new=i.replace(',',\"\")\n",
    "        temp.append(new)\n",
    "    temp.pop(0)\n",
    "    temp=[float(x) for x in temp]\n",
    "    temp=temp[2202:2227]\n",
    "    #temp=temp[2015:2063]\n",
    "    print(temp)\n",
    "    print(len(temp))\n",
    "#full time period is [2015:2112]"
   ]
  },
  {
   "cell_type": "code",
   "execution_count": 126,
   "id": "687d2f23",
   "metadata": {},
   "outputs": [
    {
     "name": "stdout",
     "output_type": "stream",
     "text": [
      "[17.0, 16.7, 16.6, 16.4, 16.2, 16.1, 16.0, 15.9, 15.9, 16.2, 16.5, 16.8, 17.4, 18.0, 18.3, 18.7, 18.8, 18.9, 18.7, 18.5, 18.2, 18.0, 17.9, 17.6, 17.4]\n"
     ]
    }
   ],
   "source": [
    "#Air Temp CRN:\n",
    "with open('CRNH0203-2022-AL_Fairhope_3_NE.txt') as f:\n",
    "    lst=[line.split()[33] for line in f]\n",
    "    #print(lst)\n",
    "    temp_crn=[]\n",
    "    for i in lst:\n",
    "        new=i.replace(',',\"\")\n",
    "        temp_crn.append(new)\n",
    "    temp_crn=[float(x) for x in temp_crn]\n",
    "    temp_crn=temp_crn[2213:2238]\n",
    "    print(temp_crn)\n",
    "    #print(len(temp_crn))\n",
    "    # print(temp_crn[2124])"
   ]
  },
  {
   "cell_type": "code",
   "execution_count": 127,
   "id": "c6c4c7ac",
   "metadata": {},
   "outputs": [
    {
     "name": "stdout",
     "output_type": "stream",
     "text": [
      "[-3.24, -3.639999999999999, -3.740000000000002, -3.869999999999999, -4.0, -4.100000000000001, -4.529999999999999, -3.4800000000000004, -0.019999999999999574, 2.5199999999999996, 5.219999999999999, 7.289999999999999, 8.73, 9.45, 9.91, 9.670000000000002, 8.849999999999998, 6.98, 5.140000000000001, 3.1799999999999997, 1.8000000000000007, 0.5199999999999996, -0.4399999999999977, -0.5600000000000023, -1.25]\n"
     ]
    }
   ],
   "source": [
    "difference4_fai = []\n",
    "\n",
    "zip_object = zip(temp, temp_crn)\n",
    "for temp_i, temp_crn_i in zip_object:\n",
    "    difference4_fai.append(temp_i-temp_crn_i)\n",
    "\n",
    "print(difference4_fai)"
   ]
  },
  {
   "cell_type": "markdown",
   "id": "650c9966",
   "metadata": {},
   "source": [
    "<font size=\"3\">**Selma, AL: 0100 UTC 31 March 2022-0100 UTC 1 April 2022</font>"
   ]
  },
  {
   "cell_type": "code",
   "execution_count": 128,
   "id": "ac7ab9b6",
   "metadata": {},
   "outputs": [
    {
     "name": "stdout",
     "output_type": "stream",
     "text": [
      "[11.77, 11.21, 10.69, 10.4, 9.60001, 9.23001, 8.83002, 9.63, 12.36, 14.96, 17.05, 18.49, 20.03, 21.28, 22.49, 23.05, 22.77, 21.63, 19.91, 17.63, 16.26, 15.38, 14.15, 13.27, 12.35]\n",
      "25\n",
      "[15.1, 14.7, 14.4, 14.1, 13.7, 13.4, 13.2, 13.2, 13.6, 14.3, 15.5, 17.1, 18.6, 19.8, 20.3, 20.5, 20.4, 19.9, 19.2, 18.3, 17.5, 16.9, 16.3, 15.8, 15.3]\n",
      "25\n",
      "[-3.33, -3.4899999999999984, -3.710000000000001, -3.6999999999999993, -4.09999, -4.16999, -4.36998, -3.5699999999999985, -1.2400000000000002, 0.6600000000000001, 1.5500000000000007, 1.389999999999997, 1.4299999999999997, 1.4800000000000004, 2.1899999999999977, 2.5500000000000007, 2.370000000000001, 1.7300000000000004, 0.7100000000000009, -0.6700000000000017, -1.2399999999999984, -1.5199999999999978, -2.1500000000000004, -2.530000000000001, -2.950000000000001]\n"
     ]
    }
   ],
   "source": [
    "#12 hr hrrr:\n",
    "with open('hrrr_f12_Selma_AL.txt') as f:\n",
    "    lst=[line.split()[5] for line in f]\n",
    "    temp=[]\n",
    "    for i in lst:\n",
    "        new=i.replace(',',\"\")\n",
    "        temp.append(new)\n",
    "    temp.pop(0)\n",
    "    temp=[float(x) for x in temp]\n",
    "    temp=temp[2202:2227]\n",
    "    \n",
    "#Air Temp CRN:\n",
    "with open('CRNH0203-2022-AL_Selma_13_WNW.txt') as f:\n",
    "    lst=[line.split()[33] for line in f]\n",
    "    #print(lst)\n",
    "    temp_crn=[]\n",
    "    for i in lst:\n",
    "        new=i.replace(',',\"\")\n",
    "        temp_crn.append(new)\n",
    "    temp_crn=[float(x) for x in temp_crn]\n",
    "    temp_crn=temp_crn[2213:2238]\n",
    "\n",
    "    print(temp)\n",
    "    print(len(temp))\n",
    "    print(temp_crn)\n",
    "    print(len(temp_crn))\n",
    "#full time period is [2015:2112]\n",
    "difference4_sel = []\n",
    "\n",
    "zip_object = zip(temp, temp_crn)\n",
    "for temp_i, temp_crn_i in zip_object:\n",
    "    difference4_sel.append(temp_i-temp_crn_i)\n",
    "\n",
    "print(difference4_sel)\n",
    "#print(len(difference3_sel))"
   ]
  },
  {
   "cell_type": "markdown",
   "id": "9f046f41",
   "metadata": {},
   "source": [
    "<font size=\"3\">Bowling Green, KY: 0100 UTC 31 March 2022-0100 UTC 1 April 2022</font>"
   ]
  },
  {
   "cell_type": "code",
   "execution_count": 129,
   "id": "69c5f60a",
   "metadata": {},
   "outputs": [
    {
     "name": "stdout",
     "output_type": "stream",
     "text": [
      "[7.56, 6.38, 5.64001, 4.72, 4.58002, 3.49002, 2.63, 4.30002, 6.78, 9.62, 12.63, 15.38, 17.56, 18.73, 19.48, 19.62, 18.75, 17.3, 15.1, 12.76, 11.11, 9.87, 9.07001, 8.45999, 8.36002]\n"
     ]
    }
   ],
   "source": [
    "#12 hr hrrr:\n",
    "with open('hrrr_f12_Bowling Green_KY.txt') as f:\n",
    "    lst=[line.split()[5] for line in f]\n",
    "    temp=[]\n",
    "    for i in lst:\n",
    "        new=i.replace(',',\"\")\n",
    "        temp.append(new)\n",
    "    temp.pop(0)\n",
    "    temp=[float(x) for x in temp]\n",
    "    temp=temp[2202:2227]\n",
    "#     x = np.array(temp)\n",
    "#     temp= ma.masked_array(x, mask=[0, 0, 0, 0, 0,0,1,0,0,0,0,0,0,0,0,0,0,0,0,0,0,0,0,0,0])\n",
    "    #temp=temp[2015:2063]\n",
    "    print(temp)\n",
    "    #print(len(temp))\n",
    "#full time period is [2015:2112]"
   ]
  },
  {
   "cell_type": "code",
   "execution_count": 130,
   "id": "1dc32c88",
   "metadata": {},
   "outputs": [
    {
     "name": "stdout",
     "output_type": "stream",
     "text": [
      "[8.4, 8.0, 7.6, 7.3, 6.9, 6.5, 6.2, 6.2, 6.7, 7.7, 9.1, 10.7, 12.2, 13.5, 14.3, 14.6, 14.5, 13.9, 13.1, 12.1, 11.3, 10.6, 10.1, 9.7, 9.4]\n"
     ]
    }
   ],
   "source": [
    "#Air Temp CRN:\n",
    "with open('CRNH0203-2022-KY_Bowling_Green_21_NNE.txt') as f:\n",
    "    lst=[line.split()[33] for line in f]\n",
    "    #print(lst)\n",
    "    temp_crn=[]\n",
    "    for i in lst:\n",
    "        new=i.replace(',',\"\")\n",
    "        temp_crn.append(new)\n",
    "    temp_crn=[float(x) for x in temp_crn]\n",
    "    temp_crn=temp_crn[2213:2238]\n",
    "#     y = np.array(temp_crn)\n",
    "#     temp_crn = ma.masked_array(y, mask=[0, 0, 0, 0, 0,0,1,0,0,0,0,0,0,0,0,0,0,0,0,0,0,0,0,0,0])\n",
    "    print(temp_crn)\n",
    "    #print(len(temp_crn))\n",
    "    # print(temp_crn[2124])"
   ]
  },
  {
   "cell_type": "code",
   "execution_count": 131,
   "id": "ffb0e9b1",
   "metadata": {},
   "outputs": [
    {
     "name": "stdout",
     "output_type": "stream",
     "text": [
      "[-0.8400000000000007, -1.62, -1.9599899999999995, -2.58, -2.31998, -3.00998, -3.5700000000000003, -1.8999800000000002, 0.08000000000000007, 1.919999999999999, 3.530000000000001, 4.6800000000000015, 5.359999999999999, 5.23, 5.18, 5.020000000000001, 4.25, 3.4000000000000004, 2.0, 0.6600000000000001, -0.19000000000000128, -0.7300000000000004, -1.0299899999999997, -1.2400099999999998, -1.03998]\n"
     ]
    }
   ],
   "source": [
    "difference4_bow = []\n",
    "\n",
    "zip_object = zip(temp, temp_crn)\n",
    "for temp_i, temp_crn_i in zip_object:\n",
    "    difference4_bow.append(temp_i-temp_crn_i)\n",
    "\n",
    "print(difference4_bow)"
   ]
  },
  {
   "cell_type": "markdown",
   "id": "170790cc",
   "metadata": {},
   "source": [
    "<font size=\"3\">Gadsden, AL: 0200 UTC 31 March 2022-0200 UTC 1 April 2022</font>"
   ]
  },
  {
   "cell_type": "code",
   "execution_count": 132,
   "id": "40ecc23d",
   "metadata": {},
   "outputs": [
    {
     "name": "stdout",
     "output_type": "stream",
     "text": [
      "[11.03, 10.27, 9.97, 9.49002, 9.31, 9.16, 8.52002, 9.62, 11.29, 13.74, 15.69, 17.51, 19.08, 20.06, 20.59, 20.43, 19.63, 18.03, 16.01, 14.09, 12.85, 11.98, 10.98, 9.87, 8.95999]\n",
      "25\n"
     ]
    }
   ],
   "source": [
    "#12 hr hrrr:\n",
    "with open('hrrr_f12_Gadsden_AL.txt') as f:\n",
    "    lst=[line.split()[5] for line in f]\n",
    "    temp=[]\n",
    "    for i in lst:\n",
    "        new=i.replace(',',\"\")\n",
    "        temp.append(new)\n",
    "    temp.pop(0)\n",
    "    temp=[float(x) for x in temp]\n",
    "    temp=temp[2202:2227]\n",
    "    #temp=temp[2015:2063]\n",
    "    print(temp)\n",
    "    print(len(temp))\n",
    "#full time period is [2015:2112]"
   ]
  },
  {
   "cell_type": "code",
   "execution_count": 133,
   "id": "ddba7cd0",
   "metadata": {},
   "outputs": [
    {
     "name": "stdout",
     "output_type": "stream",
     "text": [
      "[12.6, 12.4, 12.2, 11.8, 11.6, 11.5, 11.4, 11.4, 11.5, 11.9, 12.9, 13.9, 15.0, 15.9, 16.6, 16.9, 16.8, 16.5, 15.9, 15.3, 14.7, 14.2, 13.7, 13.3, 12.9]\n"
     ]
    }
   ],
   "source": [
    "#Air Temp CRN:\n",
    "with open('CRNH0203-2022-AL_Gadsden_19_N.txt') as f:\n",
    "    lst=[line.split()[33] for line in f]\n",
    "    #print(lst)\n",
    "    temp_crn=[]\n",
    "    for i in lst:\n",
    "        new=i.replace(',',\"\")\n",
    "        temp_crn.append(new)\n",
    "    temp_crn=[float(x) for x in temp_crn]\n",
    "    temp_crn=temp_crn[2213:2238]\n",
    "    print(temp_crn)\n",
    "    #print(len(temp_crn))\n",
    "    # print(temp_crn[2124])"
   ]
  },
  {
   "cell_type": "code",
   "execution_count": 134,
   "id": "4f15217f",
   "metadata": {},
   "outputs": [
    {
     "name": "stdout",
     "output_type": "stream",
     "text": [
      "[-1.5700000000000003, -2.130000000000001, -2.2299999999999986, -2.3099800000000013, -2.289999999999999, -2.34, -2.8799799999999998, -1.7800000000000011, -0.21000000000000085, 1.8399999999999999, 2.789999999999999, 3.610000000000001, 4.079999999999998, 4.159999999999998, 3.9899999999999984, 3.530000000000001, 2.8299999999999983, 1.5300000000000011, 0.11000000000000121, -1.2100000000000009, -1.8499999999999996, -2.219999999999999, -2.719999999999999, -3.4300000000000015, -3.940010000000001]\n"
     ]
    }
   ],
   "source": [
    "difference4_gad = []\n",
    "\n",
    "zip_object = zip(temp, temp_crn)\n",
    "for temp_i, temp_crn_i in zip_object:\n",
    "    difference4_gad.append(temp_i-temp_crn_i)\n",
    "\n",
    "print(difference4_gad)"
   ]
  },
  {
   "cell_type": "markdown",
   "id": "da3968d1",
   "metadata": {},
   "source": [
    "<font size=\"3\">Newton, GA: 0700 UTC 31 March 2022-0700 UTC 1 April 2022</font>"
   ]
  },
  {
   "cell_type": "code",
   "execution_count": 135,
   "id": "2842950b",
   "metadata": {},
   "outputs": [
    {
     "name": "stdout",
     "output_type": "stream",
     "text": [
      "[13.27, 12.78, 11.72, 11.05, 10.23, 10.12, 9.79001, 11.01, 13.69, 16.65, 19.52, 21.95, 23.87, 25.16, 25.9, 26.13, 25.56, 24.2, 22.26, 19.93, 18.47, 17.26, 16.22, 15.64, 14.41]\n",
      "25\n"
     ]
    }
   ],
   "source": [
    "#12 hr hrrr:\n",
    "with open('hrrr_f12_Newton_GA.txt') as f:\n",
    "    lst=[line.split()[5] for line in f]\n",
    "    temp=[]\n",
    "    for i in lst:\n",
    "        new=i.replace(',',\"\")\n",
    "        temp.append(new)\n",
    "    temp.pop(0)\n",
    "    temp=[float(x) for x in temp]\n",
    "    temp=temp[2202:2227]\n",
    "    #temp=temp[2015:2063]\n",
    "    print(temp)\n",
    "    print(len(temp))\n",
    "#full time period is [2015:2112]"
   ]
  },
  {
   "cell_type": "code",
   "execution_count": 136,
   "id": "f4a3aaba",
   "metadata": {},
   "outputs": [
    {
     "name": "stdout",
     "output_type": "stream",
     "text": [
      "[16.1, 15.8, 15.6, 15.4, 15.2, 15.0, 14.8, 15.0, 15.8, 16.8, 18.2, 19.6, 20.9, 21.8, 22.2, 22.1, 21.7, 21.0, 20.3, 19.5, 18.8, 18.3, 17.9, 17.4, 17.1]\n"
     ]
    }
   ],
   "source": [
    "#Air Temp CRN:\n",
    "with open('CRNH0203-2022-GA_Newton_11_SW.txt') as f:\n",
    "    lst=[line.split()[33] for line in f]\n",
    "    #print(lst)\n",
    "    temp_crn=[]\n",
    "    for i in lst:\n",
    "        new=i.replace(',',\"\")\n",
    "        temp_crn.append(new)\n",
    "    temp_crn=[float(x) for x in temp_crn]\n",
    "    temp_crn=temp_crn[2213:2238]\n",
    "    print(temp_crn)\n",
    "    #print(len(temp_crn))\n",
    "    # print(temp_crn[2124])"
   ]
  },
  {
   "cell_type": "code",
   "execution_count": 137,
   "id": "00cad50f",
   "metadata": {},
   "outputs": [
    {
     "name": "stdout",
     "output_type": "stream",
     "text": [
      "[-2.830000000000002, -3.0200000000000014, -3.879999999999999, -4.35, -4.969999999999999, -4.880000000000001, -5.00999, -3.99, -2.110000000000001, -0.15000000000000213, 1.3200000000000003, 2.349999999999998, 2.9700000000000024, 3.3599999999999994, 3.6999999999999993, 4.029999999999998, 3.8599999999999994, 3.1999999999999993, 1.9600000000000009, 0.4299999999999997, -0.33000000000000185, -1.0399999999999991, -1.6799999999999997, -1.759999999999998, -2.6900000000000013]\n"
     ]
    }
   ],
   "source": [
    "difference4_newt = []\n",
    "\n",
    "zip_object = zip(temp, temp_crn)\n",
    "for temp_i, temp_crn_i in zip_object:\n",
    "    difference4_newt.append(temp_i-temp_crn_i)\n",
    "\n",
    "print(difference4_newt)"
   ]
  },
  {
   "cell_type": "markdown",
   "id": "487fa10a",
   "metadata": {},
   "source": [
    "<font size=\"3\">Salem, MO: 0500 UTC (12:00 am CDT) 19 April 2022-0500 UTC (12:00 am CDT) 20 April 2022</font>"
   ]
  },
  {
   "cell_type": "code",
   "execution_count": 138,
   "id": "1c98e9fa",
   "metadata": {},
   "outputs": [
    {
     "name": "stdout",
     "output_type": "stream",
     "text": [
      "[2.95999, 2.41, 1.88, 1.69, 1.58002, 1.47, 1.35001, 2.17999, 4.28, 6.5, 8.73001, 10.66, 12.4, 13.88, 14.83, 15.24, 14.82, 13.3, 12.0, 11.05, 10.23, 9.48001, 8.92001, 8.34, 8.05002]\n",
      "25\n"
     ]
    }
   ],
   "source": [
    "#12 hr hrrr:\n",
    "with open('hrrr_f12_Salem_MO.txt') as f:\n",
    "    lst=[line.split()[5] for line in f]\n",
    "    temp=[]\n",
    "    for i in lst:\n",
    "        new=i.replace(',',\"\")\n",
    "        temp.append(new)\n",
    "    temp.pop(0)\n",
    "    temp=[float(x) for x in temp]\n",
    "    temp=temp[2586:2611]\n",
    "    #temp=temp[2015:2063]\n",
    "    print(temp)\n",
    "    print(len(temp))\n",
    "#full time period is [2015:2112]"
   ]
  },
  {
   "cell_type": "code",
   "execution_count": 139,
   "id": "2019ce38",
   "metadata": {},
   "outputs": [
    {
     "name": "stdout",
     "output_type": "stream",
     "text": [
      "[7.2, 6.9, 6.6, 6.4, 6.1, 5.9, 5.6, 5.5, 5.7, 6.7, 7.9, 9.1, 10.2, 11.2, 11.9, 12.3, 12.4, 12.1, 11.5, 10.9, 10.5, 10.2, 9.8, 9.5, 9.2]\n"
     ]
    }
   ],
   "source": [
    "#Air Temp CRN:\n",
    "with open('CRNH0203-2022-MO_Salem_10_W.txt') as f:\n",
    "    lst=[line.split()[33] for line in f]\n",
    "    #print(lst)\n",
    "    temp_crn=[]\n",
    "    for i in lst:\n",
    "        new=i.replace(',',\"\")\n",
    "        temp_crn.append(new)\n",
    "    temp_crn=[float(x) for x in temp_crn]\n",
    "    temp_crn=temp_crn[2597:2622]\n",
    "    print(temp_crn)\n",
    "    #print(len(temp_crn))\n",
    "    # print(temp_crn[2124])"
   ]
  },
  {
   "cell_type": "code",
   "execution_count": 140,
   "id": "00962b90",
   "metadata": {},
   "outputs": [
    {
     "name": "stdout",
     "output_type": "stream",
     "text": [
      "[-4.24001, -4.49, -4.72, -4.710000000000001, -4.519979999999999, -4.430000000000001, -4.2499899999999995, -3.32001, -1.42, -0.20000000000000018, 0.8300099999999997, 1.5600000000000005, 2.200000000000001, 2.6800000000000015, 2.9299999999999997, 2.9399999999999995, 2.42, 1.200000000000001, 0.5, 0.15000000000000036, -0.2699999999999996, -0.7199899999999992, -0.8799900000000012, -1.1600000000000001, -1.1499799999999993]\n"
     ]
    }
   ],
   "source": [
    "difference5_sal = []\n",
    "\n",
    "zip_object = zip(temp, temp_crn)\n",
    "for temp_i, temp_crn_i in zip_object:\n",
    "    difference5_sal.append(temp_i-temp_crn_i)\n",
    "\n",
    "print(difference5_sal)"
   ]
  },
  {
   "cell_type": "markdown",
   "id": "c7a935ec",
   "metadata": {},
   "source": [
    "<font size=\"3\">Batesville, AR: 1300 UTC 30 March 2022-1300 UTC 31 March 2022</font>"
   ]
  },
  {
   "cell_type": "code",
   "execution_count": 141,
   "id": "c4d409be",
   "metadata": {},
   "outputs": [
    {
     "name": "stdout",
     "output_type": "stream",
     "text": [
      "[7.53, 6.82001, 6.23001, 5.86002, 5.30002, 4.77002, 4.17999, 5.48001, 8.09, 10.49, 13.37, 15.59, 17.67, 19.16, 20.11, 20.15, 19.19, 18.32, 16.79, 15.09, 13.7, 12.54, 11.28, 10.66, 9.53]\n",
      "25\n"
     ]
    }
   ],
   "source": [
    "#12 hr hrrr:\n",
    "with open('hrrr_f12_Batesville_AR.txt') as f:\n",
    "    lst=[line.split()[5] for line in f]\n",
    "    temp=[]\n",
    "    for i in lst:\n",
    "        new=i.replace(',',\"\")\n",
    "        temp.append(new)\n",
    "    temp.pop(0)\n",
    "    temp=[float(x) for x in temp]\n",
    "    temp=temp[2586:2611]\n",
    "    #temp=temp[2015:2063]\n",
    "    print(temp)\n",
    "    print(len(temp))\n",
    "#full time period is [2015:2112]"
   ]
  },
  {
   "cell_type": "code",
   "execution_count": 142,
   "id": "87bd4b1e",
   "metadata": {},
   "outputs": [
    {
     "name": "stdout",
     "output_type": "stream",
     "text": [
      "[11.5, 11.2, 10.9, 10.6, 10.4, 10.1, 9.9, 9.7, 9.9, 10.3, 10.9, 11.6, 12.4, 13.3, 13.9, 14.2, 14.3, 14.2, 13.9, 13.5, 13.0, 12.5, 12.0, 11.8, 11.7]\n"
     ]
    }
   ],
   "source": [
    "#Air Temp CRN:\n",
    "with open('CRNH0203-2022-AR_Batesville_8_WNW.txt') as f:\n",
    "    lst=[line.split()[33] for line in f]\n",
    "    #print(lst)\n",
    "    temp_crn=[]\n",
    "    for i in lst:\n",
    "        new=i.replace(',',\"\")\n",
    "        temp_crn.append(new)\n",
    "    temp_crn=[float(x) for x in temp_crn]\n",
    "    temp_crn=temp_crn[2597:2622]\n",
    "    print(temp_crn)\n",
    "    #print(len(temp_crn))\n",
    "    # print(temp_crn[2124])"
   ]
  },
  {
   "cell_type": "code",
   "execution_count": 143,
   "id": "4da449e9",
   "metadata": {},
   "outputs": [
    {
     "name": "stdout",
     "output_type": "stream",
     "text": [
      "[-3.9699999999999998, -4.379989999999999, -4.66999, -4.73998, -5.09998, -5.32998, -5.72001, -4.219989999999999, -1.8100000000000005, 0.1899999999999995, 2.469999999999999, 3.99, 5.270000000000001, 5.859999999999999, 6.209999999999999, 5.949999999999999, 4.890000000000001, 4.120000000000001, 2.889999999999999, 1.5899999999999999, 0.6999999999999993, 0.03999999999999915, -0.7200000000000006, -1.1400000000000006, -2.17]\n"
     ]
    }
   ],
   "source": [
    "difference5_bat = []\n",
    "\n",
    "zip_object = zip(temp, temp_crn)\n",
    "for temp_i, temp_crn_i in zip_object:\n",
    "    difference5_bat.append(temp_i-temp_crn_i)\n",
    "\n",
    "print(difference5_bat)"
   ]
  },
  {
   "cell_type": "markdown",
   "id": "23284d1b",
   "metadata": {},
   "source": [
    "<font size=\"3\">Lafayette, LA: 1700 UTC 30 March 2022-1700 UTC 31 March 2022</font>"
   ]
  },
  {
   "cell_type": "code",
   "execution_count": 144,
   "id": "fde8ab14",
   "metadata": {},
   "outputs": [
    {
     "name": "stdout",
     "output_type": "stream",
     "text": [
      "[15.9, 15.48, 15.06, 14.9, 14.86, 14.46, 14.27, 14.95, 16.95, 19.41, 22.21, 24.61, 26.72, 28.32, 29.05, 29.13, 28.6, 27.42, 25.8, 23.53, 21.99, 20.69, 19.98, 18.82, 17.83]\n",
      "25\n"
     ]
    }
   ],
   "source": [
    "#12 hr hrrr:\n",
    "with open('hrrr_f12_Lafayette_LA.txt') as f:\n",
    "    lst=[line.split()[5] for line in f]\n",
    "    temp=[]\n",
    "    for i in lst:\n",
    "        new=i.replace(',',\"\")\n",
    "        temp.append(new)\n",
    "    temp.pop(0)\n",
    "    temp=[float(x) for x in temp]\n",
    "    temp=temp[2586:2611]\n",
    "    #temp=temp[2015:2063]\n",
    "    print(temp)\n",
    "    print(len(temp))\n",
    "#full time period is [2015:2112]"
   ]
  },
  {
   "cell_type": "code",
   "execution_count": 145,
   "id": "f1edbbf0",
   "metadata": {},
   "outputs": [
    {
     "name": "stdout",
     "output_type": "stream",
     "text": [
      "[21.4, 21.2, 20.9, 20.7, 20.4, 20.1, 19.9, 19.7, 19.8, 19.7, 20.0, 20.3, 20.8, 21.3, 21.8, 22.1, 22.3, 22.3, 22.1, 21.9, 21.6, 21.2, 20.8, 20.6, 20.3]\n"
     ]
    }
   ],
   "source": [
    "#Air Temp CRN:\n",
    "with open('CRNH0203-2022-LA_Lafayette_13_SE.txt') as f:\n",
    "    lst=[line.split()[33] for line in f]\n",
    "    #print(lst)\n",
    "    temp_crn=[]\n",
    "    for i in lst:\n",
    "        new=i.replace(',',\"\")\n",
    "        temp_crn.append(new)\n",
    "    temp_crn=[float(x) for x in temp_crn]\n",
    "    temp_crn=temp_crn[2597:2622]\n",
    "    print(temp_crn)\n",
    "    #print(len(temp_crn))\n",
    "    # print(temp_crn[2124])"
   ]
  },
  {
   "cell_type": "code",
   "execution_count": 146,
   "id": "a8ce40e5",
   "metadata": {},
   "outputs": [
    {
     "name": "stdout",
     "output_type": "stream",
     "text": [
      "[-5.499999999999998, -5.719999999999999, -5.839999999999998, -5.799999999999999, -5.539999999999999, -5.640000000000001, -5.629999999999999, -4.75, -2.8500000000000014, -0.28999999999999915, 2.210000000000001, 4.309999999999999, 5.919999999999998, 7.02, 7.25, 7.029999999999998, 6.300000000000001, 5.120000000000001, 3.6999999999999993, 1.6300000000000026, 0.389999999999997, -0.509999999999998, -0.8200000000000003, -1.7800000000000011, -2.4700000000000024]\n"
     ]
    }
   ],
   "source": [
    "difference5_laf = []\n",
    "\n",
    "zip_object = zip(temp, temp_crn)\n",
    "for temp_i, temp_crn_i in zip_object:\n",
    "    difference5_laf.append(temp_i-temp_crn_i)\n",
    "\n",
    "print(difference5_laf)"
   ]
  },
  {
   "cell_type": "markdown",
   "id": "891a7b39",
   "metadata": {},
   "source": [
    "<font size=\"3\">Monroe, LA: 1700 UTC 30 March 2022-1700 UTC 31 March 2022</font>"
   ]
  },
  {
   "cell_type": "code",
   "execution_count": 147,
   "id": "1e1f711d",
   "metadata": {},
   "outputs": [
    {
     "name": "stdout",
     "output_type": "stream",
     "text": [
      "[11.49, 11.12, 10.97, 10.73, 10.21, 9.73001, 9.28, 9.99002, 11.64, 13.49, 15.56, 17.91, 20.66, 22.61, 23.84, 24.1, 23.36, 22.28, 20.2, 18.13, 16.43, 15.57, 14.45, 14.11, 13.83]\n",
      "25\n"
     ]
    }
   ],
   "source": [
    "#12 hr hrrr:\n",
    "with open('hrrr_f12_Monroe_LA.txt') as f:\n",
    "    lst=[line.split()[5] for line in f]\n",
    "    temp=[]\n",
    "    for i in lst:\n",
    "        new=i.replace(',',\"\")\n",
    "        temp.append(new)\n",
    "    temp.pop(0)\n",
    "    temp=[float(x) for x in temp]\n",
    "    temp=temp[2586:2611]\n",
    "    #temp=temp[2015:2063]\n",
    "    print(temp)\n",
    "    print(len(temp))\n",
    "#full time period is [2015:2112]"
   ]
  },
  {
   "cell_type": "code",
   "execution_count": 148,
   "id": "db2da0d0",
   "metadata": {},
   "outputs": [
    {
     "name": "stdout",
     "output_type": "stream",
     "text": [
      "[17.8, 17.4, 16.9, 16.6, 16.3, 15.8, 15.6, 15.4, 15.6, 16.1, 17.2, 18.4, 19.7, 20.7, 21.7, 22.0, 22.0, 21.6, 20.8, 20.1, 19.4, 18.8, 18.3, 17.9, 17.6]\n"
     ]
    }
   ],
   "source": [
    "#Air Temp CRN:\n",
    "with open('CRNH0203-2022-LA_Monroe_26_N.txt') as f:\n",
    "    lst=[line.split()[33] for line in f]\n",
    "    #print(lst)\n",
    "    temp_crn=[]\n",
    "    for i in lst:\n",
    "        new=i.replace(',',\"\")\n",
    "        temp_crn.append(new)\n",
    "    temp_crn=[float(x) for x in temp_crn]\n",
    "    temp_crn=temp_crn[2597:2622]\n",
    "    print(temp_crn)\n",
    "    #print(len(temp_crn))\n",
    "    # print(temp_crn[2124])"
   ]
  },
  {
   "cell_type": "code",
   "execution_count": 149,
   "id": "d378a152",
   "metadata": {},
   "outputs": [
    {
     "name": "stdout",
     "output_type": "stream",
     "text": [
      "[-6.3100000000000005, -6.279999999999999, -5.929999999999998, -5.870000000000001, -6.09, -6.069990000000001, -6.32, -5.409980000000001, -3.959999999999999, -2.610000000000001, -1.6399999999999988, -0.48999999999999844, 0.9600000000000009, 1.9100000000000001, 2.1400000000000006, 2.1000000000000014, 1.3599999999999994, 0.6799999999999997, -0.6000000000000014, -1.9700000000000024, -2.969999999999999, -3.2300000000000004, -3.8500000000000014, -3.789999999999999, -3.7700000000000014]\n"
     ]
    }
   ],
   "source": [
    "difference5_mon = []\n",
    "\n",
    "zip_object = zip(temp, temp_crn)\n",
    "for temp_i, temp_crn_i in zip_object:\n",
    "    difference5_mon.append(temp_i-temp_crn_i)\n",
    "\n",
    "print(difference5_mon)"
   ]
  },
  {
   "cell_type": "markdown",
   "id": "9f506eb8",
   "metadata": {},
   "source": [
    "<font size=\"3\">Holly Springs, MS: 2000 UTC 30 March 2022-2000 UTC 31 March 2022</font>"
   ]
  },
  {
   "cell_type": "code",
   "execution_count": 150,
   "id": "154911a5",
   "metadata": {},
   "outputs": [
    {
     "name": "stdout",
     "output_type": "stream",
     "text": [
      "[8.01001, 7.45999, 7.05002, 6.55002, 5.92001, 5.47, 5.17999, 6.41, 8.02002, 9.98001, 12.12, 13.62, 15.22, 16.72, 18.08, 18.61, 18.4, 17.35, 15.8, 13.68, 12.31, 11.41, 10.68, 10.28, 9.72]\n",
      "25\n"
     ]
    }
   ],
   "source": [
    "#12 hr hrrr:\n",
    "with open('hrrr_f12_Holly Springs_MS.txt') as f:\n",
    "    lst=[line.split()[5] for line in f]\n",
    "    temp=[]\n",
    "    for i in lst:\n",
    "        new=i.replace(',',\"\")\n",
    "        temp.append(new)\n",
    "    temp.pop(0)\n",
    "    temp=[float(x) for x in temp]\n",
    "    temp=temp[2586:2611]\n",
    "    #temp=temp[2015:2063]\n",
    "    print(temp)\n",
    "    print(len(temp))\n",
    "#full time period is [2015:2112]"
   ]
  },
  {
   "cell_type": "code",
   "execution_count": 151,
   "id": "4fd02a0c",
   "metadata": {},
   "outputs": [
    {
     "name": "stdout",
     "output_type": "stream",
     "text": [
      "[14.2, 13.6, 13.3, 12.9, 12.6, 12.2, 12.0, 11.9, 12.4, 13.4, 14.6, 15.7, 16.7, 17.4, 17.8, 18.3, 18.1, 17.8, 17.1, 16.4, 15.8, 15.2, 14.7, 14.3, 13.9]\n"
     ]
    }
   ],
   "source": [
    "#Air Temp CRN:\n",
    "with open('CRNH0203-2022-MS_Holly_Springs_4_N.txt') as f:\n",
    "    lst=[line.split()[33] for line in f]\n",
    "    #print(lst)\n",
    "    temp_crn=[]\n",
    "    for i in lst:\n",
    "        new=i.replace(',',\"\")\n",
    "        temp_crn.append(new)\n",
    "    temp_crn=[float(x) for x in temp_crn]\n",
    "    temp_crn=temp_crn[2597:2622]\n",
    "    print(temp_crn)\n",
    "    #print(len(temp_crn))\n",
    "    # print(temp_crn[2124])"
   ]
  },
  {
   "cell_type": "code",
   "execution_count": 152,
   "id": "aa3f0594",
   "metadata": {},
   "outputs": [
    {
     "name": "stdout",
     "output_type": "stream",
     "text": [
      "[-6.18999, -6.140009999999999, -6.249980000000001, -6.34998, -6.679989999999999, -6.7299999999999995, -6.82001, -5.49, -4.37998, -3.4199900000000003, -2.4800000000000004, -2.08, -1.4799999999999986, -0.6799999999999997, 0.2799999999999976, 0.3099999999999987, 0.29999999999999716, -0.4499999999999993, -1.3000000000000007, -2.719999999999999, -3.49, -3.789999999999999, -4.02, -4.020000000000001, -4.18]\n"
     ]
    }
   ],
   "source": [
    "difference5_hol = []\n",
    "\n",
    "zip_object = zip(temp, temp_crn)\n",
    "for temp_i, temp_crn_i in zip_object:\n",
    "    difference5_hol.append(temp_i-temp_crn_i)\n",
    "\n",
    "print(difference5_hol)"
   ]
  },
  {
   "cell_type": "markdown",
   "id": "156c835f",
   "metadata": {},
   "source": [
    "<font size=\"3\">Newton, MS: 2000 UTC 30 March 2022-2000 UTC 31 March 2022</font>"
   ]
  },
  {
   "cell_type": "code",
   "execution_count": 153,
   "id": "7af35e9c",
   "metadata": {},
   "outputs": [
    {
     "name": "stdout",
     "output_type": "stream",
     "text": [
      "[11.36, 11.05, 10.89, 10.53, 10.42, 9.91, 9.24002, 9.95999, 11.38, 13.12, 15.03, 16.69, 18.51, 20.13, 21.48, 21.77, 21.45, 20.32, 18.55, 16.74, 15.41, 14.49, 13.46, 12.87, 12.23]\n",
      "25\n"
     ]
    }
   ],
   "source": [
    "#12 hr hrrr:\n",
    "with open('hrrr_f12_Newton_MS.txt') as f:\n",
    "    lst=[line.split()[5] for line in f]\n",
    "    temp=[]\n",
    "    for i in lst:\n",
    "        new=i.replace(',',\"\")\n",
    "        temp.append(new)\n",
    "    temp.pop(0)\n",
    "    temp=[float(x) for x in temp]\n",
    "    temp=temp[2586:2611]\n",
    "    #temp=temp[2015:2063]\n",
    "    print(temp)\n",
    "    print(len(temp))\n",
    "#full time period is [2015:2112]"
   ]
  },
  {
   "cell_type": "code",
   "execution_count": 154,
   "id": "dca3bc70",
   "metadata": {},
   "outputs": [
    {
     "name": "stdout",
     "output_type": "stream",
     "text": [
      "[16.2, 15.8, 15.4, 15.1, 14.8, 14.5, 14.3, 14.4, 14.9, 15.7, 17.0, 18.4, 19.7, 20.7, 21.1, 21.2, 20.9, 20.5, 19.8, 18.9, 18.1, 17.4, 17.0, 16.5, 16.1]\n"
     ]
    }
   ],
   "source": [
    "#Air Temp CRN:\n",
    "with open('CRNH0203-2022-MS_Newton_5_ENE.txt') as f:\n",
    "    lst=[line.split()[33] for line in f]\n",
    "    #print(lst)\n",
    "    temp_crn=[]\n",
    "    for i in lst:\n",
    "        new=i.replace(',',\"\")\n",
    "        temp_crn.append(new)\n",
    "    temp_crn=[float(x) for x in temp_crn]\n",
    "    temp_crn=temp_crn[2597:2622]\n",
    "    print(temp_crn)\n",
    "    #print(len(temp_crn))\n",
    "    # print(temp_crn[2124])"
   ]
  },
  {
   "cell_type": "code",
   "execution_count": 155,
   "id": "1b15a5e2",
   "metadata": {},
   "outputs": [
    {
     "name": "stdout",
     "output_type": "stream",
     "text": [
      "[-4.84, -4.75, -4.51, -4.57, -4.380000000000001, -4.59, -5.059980000000001, -4.440010000000001, -3.5199999999999996, -2.58, -1.9700000000000006, -1.7099999999999973, -1.1899999999999977, -0.5700000000000003, 0.379999999999999, 0.5700000000000003, 0.5500000000000007, -0.17999999999999972, -1.25, -2.16, -2.6900000000000013, -2.9099999999999984, -3.539999999999999, -3.630000000000001, -3.870000000000001]\n"
     ]
    }
   ],
   "source": [
    "difference5_new = []\n",
    "\n",
    "zip_object = zip(temp, temp_crn)\n",
    "for temp_i, temp_crn_i in zip_object:\n",
    "    difference5_new.append(temp_i-temp_crn_i)\n",
    "\n",
    "print(difference5_new)"
   ]
  },
  {
   "cell_type": "markdown",
   "id": "344db2be",
   "metadata": {},
   "source": [
    "<font size=\"3\">Gainesville, AL: 2300 UTC 30 March 2022-2300 UTC 31 March 2022</font>"
   ]
  },
  {
   "cell_type": "code",
   "execution_count": 156,
   "id": "d7e8af5a",
   "metadata": {},
   "outputs": [],
   "source": [
    "# #12 hr hrrr:\n",
    "# with open('hrrr_f12_Gainesville_AL.txt') as f:\n",
    "#     lst=[line.split()[5] for line in f]\n",
    "#     temp=[]\n",
    "#     for i in lst:\n",
    "#         new=i.replace(',',\"\")\n",
    "#         temp.append(new)\n",
    "#     temp.pop(0)\n",
    "#     temp=[float(x) for x in temp]\n",
    "#     temp=temp[2586:2611]\n",
    "#     #temp=temp[2015:2063]\n",
    "#     print(temp)\n",
    "#     print(len(temp))\n",
    "# #full time period is [2015:2112]"
   ]
  },
  {
   "cell_type": "code",
   "execution_count": 157,
   "id": "6f25f747",
   "metadata": {},
   "outputs": [],
   "source": [
    "# #Air Temp CRN:\n",
    "# with open('CRNH0203-2022-AL_Gainesville_2_NE.txt') as f:\n",
    "#     lst=[line.split()[33] for line in f]\n",
    "#     #print(lst)\n",
    "#     temp_crn=[]\n",
    "#     for i in lst:\n",
    "#         new=i.replace(',',\"\")\n",
    "#         temp_crn.append(new)\n",
    "#     temp_crn=[float(x) for x in temp_crn]\n",
    "#     temp_crn=temp_crn[2597:2622]\n",
    "#     print(temp_crn)\n",
    "#     #print(len(temp_crn))\n",
    "#     # print(temp_crn[2124])"
   ]
  },
  {
   "cell_type": "code",
   "execution_count": 158,
   "id": "e4dfb6e5",
   "metadata": {},
   "outputs": [],
   "source": [
    "# difference5_gai = []\n",
    "\n",
    "# zip_object = zip(temp, temp_crn)\n",
    "# for temp_i, temp_crn_i in zip_object:\n",
    "#     difference5_gai.append(temp_i-temp_crn_i)\n",
    "\n",
    "# print(difference5_gai)"
   ]
  },
  {
   "cell_type": "markdown",
   "id": "0c514257",
   "metadata": {},
   "source": [
    "<font size=\"3\">Fairhope, AL: 0100 UTC 31 March 2022-0100 UTC 1 April 2022</font>"
   ]
  },
  {
   "cell_type": "code",
   "execution_count": 159,
   "id": "2577e61a",
   "metadata": {},
   "outputs": [
    {
     "name": "stdout",
     "output_type": "stream",
     "text": [
      "[13.8, 13.43, 13.31, 13.02, 13.07, 12.36, 12.11, 13.07, 15.46, 17.48, 19.49, 21.34, 23.12, 24.36, 25.1, 25.02, 24.33, 22.81, 20.95, 19.13, 17.75, 16.7, 15.78, 14.99, 14.28]\n",
      "25\n"
     ]
    }
   ],
   "source": [
    "#12 hr hrrr:\n",
    "with open('hrrr_f12_Fairhope_AL.txt') as f:\n",
    "    lst=[line.split()[5] for line in f]\n",
    "    temp=[]\n",
    "    for i in lst:\n",
    "        new=i.replace(',',\"\")\n",
    "        temp.append(new)\n",
    "    temp.pop(0)\n",
    "    temp=[float(x) for x in temp]\n",
    "    temp=temp[2586:2611]\n",
    "    #temp=temp[2015:2063]\n",
    "    print(temp)\n",
    "    print(len(temp))\n",
    "#full time period is [2015:2112]"
   ]
  },
  {
   "cell_type": "code",
   "execution_count": 160,
   "id": "6d082e22",
   "metadata": {},
   "outputs": [
    {
     "name": "stdout",
     "output_type": "stream",
     "text": [
      "[20.1, 19.9, 19.7, 19.5, 19.4, 19.1, 18.9, 18.9, 18.9, 18.9, 19.1, 19.3, 19.6, 20.1, 20.3, 20.5, 20.5, 20.6, 20.6, 20.2, 20.0, 19.6, 19.3, 19.1, 18.9]\n"
     ]
    }
   ],
   "source": [
    "#Air Temp CRN:\n",
    "with open('CRNH0203-2022-AL_Fairhope_3_NE.txt') as f:\n",
    "    lst=[line.split()[33] for line in f]\n",
    "    #print(lst)\n",
    "    temp_crn=[]\n",
    "    for i in lst:\n",
    "        new=i.replace(',',\"\")\n",
    "        temp_crn.append(new)\n",
    "    temp_crn=[float(x) for x in temp_crn]\n",
    "    temp_crn=temp_crn[2597:2622]\n",
    "    print(temp_crn)\n",
    "    #print(len(temp_crn))\n",
    "    # print(temp_crn[2124])"
   ]
  },
  {
   "cell_type": "code",
   "execution_count": 161,
   "id": "94886b0c",
   "metadata": {},
   "outputs": [
    {
     "name": "stdout",
     "output_type": "stream",
     "text": [
      "[-6.300000000000001, -6.469999999999999, -6.389999999999999, -6.48, -6.329999999999998, -6.740000000000002, -6.789999999999999, -5.829999999999998, -3.4399999999999977, -1.4199999999999982, 0.389999999999997, 2.039999999999999, 3.5199999999999996, 4.259999999999998, 4.800000000000001, 4.52, 3.8299999999999983, 2.2099999999999973, 0.34999999999999787, -1.0700000000000003, -2.25, -2.900000000000002, -3.5200000000000014, -4.110000000000001, -4.619999999999999]\n"
     ]
    }
   ],
   "source": [
    "difference5_fai = []\n",
    "\n",
    "zip_object = zip(temp, temp_crn)\n",
    "for temp_i, temp_crn_i in zip_object:\n",
    "    difference5_fai.append(temp_i-temp_crn_i)\n",
    "\n",
    "print(difference5_fai)"
   ]
  },
  {
   "cell_type": "markdown",
   "id": "212d9338",
   "metadata": {},
   "source": [
    "<font size=\"3\">**Selma, AL: 0100 UTC 31 March 2022-0100 UTC 1 April 2022</font>"
   ]
  },
  {
   "cell_type": "code",
   "execution_count": 162,
   "id": "29daa755",
   "metadata": {},
   "outputs": [
    {
     "name": "stdout",
     "output_type": "stream",
     "text": [
      "[10.86, 10.32, 10.04, 9.64001, 9.31, 8.64999, 8.56, 9.74002, 11.23, 12.8, 14.47, 15.74, 17.07, 17.87, 18.33, 18.08, 17.43, 16.72, 15.72, 14.17, 12.98, 12.09, 11.28, 10.73, 10.19]\n",
      "25\n",
      "[16.1, 15.7, 15.4, 15.0, 14.5, 14.2, 13.8, 13.9, 14.1, 14.6, 15.4, 16.5, 17.9, 19.2, 19.8, 20.1, 20.0, 19.5, 18.8, 18.1, 17.4, 16.8, 16.2, 15.7, 15.3]\n",
      "25\n",
      "[-5.240000000000002, -5.379999999999999, -5.360000000000001, -5.35999, -5.1899999999999995, -5.5500099999999986, -5.24, -4.159980000000001, -2.869999999999999, -1.799999999999999, -0.9299999999999997, -0.7599999999999998, -0.8299999999999983, -1.3299999999999983, -1.4700000000000024, -2.020000000000003, -2.5700000000000003, -2.780000000000001, -3.08, -3.9300000000000015, -4.419999999999998, -4.710000000000001, -4.92, -4.969999999999999, -5.110000000000001]\n"
     ]
    }
   ],
   "source": [
    "#12 hr hrrr:\n",
    "with open('hrrr_f12_Selma_AL.txt') as f:\n",
    "    lst=[line.split()[5] for line in f]\n",
    "    temp=[]\n",
    "    for i in lst:\n",
    "        new=i.replace(',',\"\")\n",
    "        temp.append(new)\n",
    "    temp.pop(0)\n",
    "    temp=[float(x) for x in temp]\n",
    "    temp=temp[2586:2611]\n",
    "    \n",
    "#Air Temp CRN:\n",
    "with open('CRNH0203-2022-AL_Selma_13_WNW.txt') as f:\n",
    "    lst=[line.split()[33] for line in f]\n",
    "    #print(lst)\n",
    "    temp_crn=[]\n",
    "    for i in lst:\n",
    "        new=i.replace(',',\"\")\n",
    "        temp_crn.append(new)\n",
    "    temp_crn=[float(x) for x in temp_crn]\n",
    "    temp_crn=temp_crn[2597:2622]\n",
    "\n",
    "    print(temp)\n",
    "    print(len(temp))\n",
    "    print(temp_crn)\n",
    "    print(len(temp_crn))\n",
    "#full time period is [2015:2112]\n",
    "difference5_sel = []\n",
    "\n",
    "zip_object = zip(temp, temp_crn)\n",
    "for temp_i, temp_crn_i in zip_object:\n",
    "    difference5_sel.append(temp_i-temp_crn_i)\n",
    "\n",
    "print(difference5_sel)\n",
    "#print(len(difference3_sel))"
   ]
  },
  {
   "cell_type": "markdown",
   "id": "7bcfd5e4",
   "metadata": {},
   "source": [
    "<font size=\"3\">Bowling Green, KY: 0100 UTC 31 March 2022-0100 UTC 1 April 2022</font>"
   ]
  },
  {
   "cell_type": "code",
   "execution_count": 163,
   "id": "c427d4c6",
   "metadata": {},
   "outputs": [
    {
     "name": "stdout",
     "output_type": "stream",
     "text": [
      "[4.05002, 3.64999, 3.52002, 2.76001, 2.20999, 1.60001, 1.67001, 3.17999, 5.22, 7.67999, 10.05, 12.29, 14.55, 16.17, 17.01, 17.09, 16.52, 15.17, 13.26, 11.21, 9.5, 8.27002, 7.39999, 6.73001, 7.10001]\n"
     ]
    }
   ],
   "source": [
    "#12 hr hrrr:\n",
    "with open('hrrr_f12_Bowling Green_KY.txt') as f:\n",
    "    lst=[line.split()[5] for line in f]\n",
    "    temp=[]\n",
    "    for i in lst:\n",
    "        new=i.replace(',',\"\")\n",
    "        temp.append(new)\n",
    "    temp.pop(0)\n",
    "    temp=[float(x) for x in temp]\n",
    "    temp=temp[2586:2611]\n",
    "#     x = np.array(temp)\n",
    "#     temp= ma.masked_array(x, mask=[0, 0, 0, 0, 0,0,1,0,0,0,0,0,0,0,0,0,0,0,0,0,0,0,0,0,0])\n",
    "    #temp=temp[2015:2063]\n",
    "    print(temp)\n",
    "    #print(len(temp))\n",
    "#full time period is [2015:2112]"
   ]
  },
  {
   "cell_type": "code",
   "execution_count": 164,
   "id": "37ed7b5f",
   "metadata": {},
   "outputs": [
    {
     "name": "stdout",
     "output_type": "stream",
     "text": [
      "[8.8, 8.4, 8.1, 7.8, 7.5, 7.2, 6.9, 7.0, 7.6, 8.5, 9.9, 11.4, 12.9, 14.2, 15.0, 15.3, 15.1, 14.5, 13.7, 12.8, 11.9, 11.2, 10.6, 10.3, 10.0]\n"
     ]
    }
   ],
   "source": [
    "#Air Temp CRN:\n",
    "with open('CRNH0203-2022-KY_Bowling_Green_21_NNE.txt') as f:\n",
    "    lst=[line.split()[33] for line in f]\n",
    "    #print(lst)\n",
    "    temp_crn=[]\n",
    "    for i in lst:\n",
    "        new=i.replace(',',\"\")\n",
    "        temp_crn.append(new)\n",
    "    temp_crn=[float(x) for x in temp_crn]\n",
    "    temp_crn=temp_crn[2597:2622]\n",
    "#     y = np.array(temp_crn)\n",
    "#     temp_crn = ma.masked_array(y, mask=[0, 0, 0, 0, 0,0,1,0,0,0,0,0,0,0,0,0,0,0,0,0,0,0,0,0,0])\n",
    "    print(temp_crn)\n",
    "    #print(len(temp_crn))\n",
    "    # print(temp_crn[2124])"
   ]
  },
  {
   "cell_type": "code",
   "execution_count": 165,
   "id": "2cba62f4",
   "metadata": {},
   "outputs": [
    {
     "name": "stdout",
     "output_type": "stream",
     "text": [
      "[-4.749980000000001, -4.7500100000000005, -4.579979999999999, -5.0399899999999995, -5.2900100000000005, -5.59999, -5.229990000000001, -3.82001, -2.38, -0.8200099999999999, 0.15000000000000036, 0.8899999999999988, 1.6500000000000004, 1.9700000000000024, 2.0100000000000016, 1.7899999999999991, 1.42, 0.6699999999999999, -0.4399999999999995, -1.5899999999999999, -2.4000000000000004, -2.9299799999999987, -3.20001, -3.5699900000000007, -2.89999]\n"
     ]
    }
   ],
   "source": [
    "difference5_bow = []\n",
    "\n",
    "zip_object = zip(temp, temp_crn)\n",
    "for temp_i, temp_crn_i in zip_object:\n",
    "    difference5_bow.append(temp_i-temp_crn_i)\n",
    "\n",
    "print(difference5_bow)"
   ]
  },
  {
   "cell_type": "markdown",
   "id": "abd98938",
   "metadata": {},
   "source": [
    "<font size=\"3\">Gadsden, AL: 0200 UTC 31 March 2022-0200 UTC 1 April 2022</font>"
   ]
  },
  {
   "cell_type": "code",
   "execution_count": 166,
   "id": "c7bdb2f1",
   "metadata": {},
   "outputs": [
    {
     "name": "stdout",
     "output_type": "stream",
     "text": [
      "[7.54001, 7.07001, 6.66, 6.62, 6.09, 5.70999, 5.44, 6.95999, 9.13, 11.72, 14.26, 16.12, 17.9, 19.07, 19.54, 19.3, 18.51, 17.33, 15.47, 13.41, 11.9, 10.89, 9.80002, 9.02002, 8.06]\n",
      "25\n"
     ]
    }
   ],
   "source": [
    "#12 hr hrrr:\n",
    "with open('hrrr_f12_Gadsden_AL.txt') as f:\n",
    "    lst=[line.split()[5] for line in f]\n",
    "    temp=[]\n",
    "    for i in lst:\n",
    "        new=i.replace(',',\"\")\n",
    "        temp.append(new)\n",
    "    temp.pop(0)\n",
    "    temp=[float(x) for x in temp]\n",
    "    temp=temp[2586:2611]\n",
    "    #temp=temp[2015:2063]\n",
    "    print(temp)\n",
    "    print(len(temp))\n",
    "#full time period is [2015:2112]"
   ]
  },
  {
   "cell_type": "code",
   "execution_count": 167,
   "id": "e125a18e",
   "metadata": {},
   "outputs": [
    {
     "name": "stdout",
     "output_type": "stream",
     "text": [
      "[13.9, 13.7, 13.4, 13.1, 12.9, 12.6, 12.4, 12.4, 12.5, 12.8, 13.6, 14.7, 15.8, 16.9, 17.6, 18.0, 17.9, 17.7, 17.2, 16.7, 16.0, 15.5, 15.0, 14.6, 14.2]\n"
     ]
    }
   ],
   "source": [
    "#Air Temp CRN:\n",
    "with open('CRNH0203-2022-AL_Gadsden_19_N.txt') as f:\n",
    "    lst=[line.split()[33] for line in f]\n",
    "    #print(lst)\n",
    "    temp_crn=[]\n",
    "    for i in lst:\n",
    "        new=i.replace(',',\"\")\n",
    "        temp_crn.append(new)\n",
    "    temp_crn=[float(x) for x in temp_crn]\n",
    "    temp_crn=temp_crn[2597:2622]\n",
    "    print(temp_crn)\n",
    "    #print(len(temp_crn))\n",
    "    # print(temp_crn[2124])"
   ]
  },
  {
   "cell_type": "code",
   "execution_count": 168,
   "id": "fb16aab7",
   "metadata": {},
   "outputs": [
    {
     "name": "stdout",
     "output_type": "stream",
     "text": [
      "[-6.359990000000001, -6.629989999999999, -6.74, -6.4799999999999995, -6.8100000000000005, -6.890009999999999, -6.96, -5.44001, -3.369999999999999, -1.08, 0.6600000000000001, 1.4200000000000017, 2.099999999999998, 2.1700000000000017, 1.9399999999999977, 1.3000000000000007, 0.610000000000003, -0.370000000000001, -1.7299999999999986, -3.289999999999999, -4.1, -4.609999999999999, -5.19998, -5.579979999999999, -6.139999999999999]\n"
     ]
    }
   ],
   "source": [
    "difference5_gad = []\n",
    "\n",
    "zip_object = zip(temp, temp_crn)\n",
    "for temp_i, temp_crn_i in zip_object:\n",
    "    difference5_gad.append(temp_i-temp_crn_i)\n",
    "\n",
    "print(difference5_gad)"
   ]
  },
  {
   "cell_type": "markdown",
   "id": "c1c822e9",
   "metadata": {},
   "source": [
    "<font size=\"3\">Newton, GA: 0700 UTC 31 March 2022-0700 UTC 1 April 2022</font>"
   ]
  },
  {
   "cell_type": "code",
   "execution_count": 169,
   "id": "cd744987",
   "metadata": {},
   "outputs": [
    {
     "name": "stdout",
     "output_type": "stream",
     "text": [
      "[14.9, 14.11, 13.51, 13.19, 12.46, 12.39, 12.0, 13.24, 15.24, 17.28, 19.59, 21.29, 23.08, 24.18, 24.95, 24.75, 24.02, 22.49, 20.61, 18.53, 17.05, 15.81, 14.7, 13.72, 12.86]\n",
      "25\n"
     ]
    }
   ],
   "source": [
    "#12 hr hrrr:\n",
    "with open('hrrr_f12_Newton_GA.txt') as f:\n",
    "    lst=[line.split()[5] for line in f]\n",
    "    temp=[]\n",
    "    for i in lst:\n",
    "        new=i.replace(',',\"\")\n",
    "        temp.append(new)\n",
    "    temp.pop(0)\n",
    "    temp=[float(x) for x in temp]\n",
    "    temp=temp[2586:2611]\n",
    "    #temp=temp[2015:2063]\n",
    "    print(temp)\n",
    "    print(len(temp))\n",
    "#full time period is [2015:2112]"
   ]
  },
  {
   "cell_type": "code",
   "execution_count": 170,
   "id": "1800925f",
   "metadata": {},
   "outputs": [
    {
     "name": "stdout",
     "output_type": "stream",
     "text": [
      "[20.1, 19.7, 19.2, 18.9, 18.6, 18.3, 18.1, 18.1, 18.4, 19.2, 20.2, 21.5, 22.6, 23.4, 23.8, 23.7, 23.3, 22.7, 21.9, 21.0, 20.3, 19.7, 19.2, 18.7, 18.3]\n"
     ]
    }
   ],
   "source": [
    "#Air Temp CRN:\n",
    "with open('CRNH0203-2022-GA_Newton_11_SW.txt') as f:\n",
    "    lst=[line.split()[33] for line in f]\n",
    "    #print(lst)\n",
    "    temp_crn=[]\n",
    "    for i in lst:\n",
    "        new=i.replace(',',\"\")\n",
    "        temp_crn.append(new)\n",
    "    temp_crn=[float(x) for x in temp_crn]\n",
    "    temp_crn=temp_crn[2597:2622]\n",
    "    print(temp_crn)\n",
    "    #print(len(temp_crn))\n",
    "    # print(temp_crn[2124])"
   ]
  },
  {
   "cell_type": "code",
   "execution_count": 171,
   "id": "640b8268",
   "metadata": {},
   "outputs": [
    {
     "name": "stdout",
     "output_type": "stream",
     "text": [
      "[-5.200000000000001, -5.59, -5.6899999999999995, -5.709999999999999, -6.140000000000001, -5.91, -6.100000000000001, -4.860000000000001, -3.1599999999999984, -1.9199999999999982, -0.6099999999999994, -0.21000000000000085, 0.4799999999999969, 0.7800000000000011, 1.1499999999999986, 1.0500000000000007, 0.7199999999999989, -0.21000000000000085, -1.2899999999999991, -2.469999999999999, -3.25, -3.889999999999999, -4.5, -4.979999999999999, -5.440000000000001]\n"
     ]
    }
   ],
   "source": [
    "difference5_newt = []\n",
    "\n",
    "zip_object = zip(temp, temp_crn)\n",
    "for temp_i, temp_crn_i in zip_object:\n",
    "    difference5_newt.append(temp_i-temp_crn_i)\n",
    "\n",
    "print(difference5_newt)"
   ]
  },
  {
   "cell_type": "markdown",
   "id": "2e32f616",
   "metadata": {},
   "source": [
    "<font size=\"3\">Salem, MO: 0500 UTC (12:00 am CDT) 27 April 2022-0500 UTC (12:00 am CDT) 28 April 2022</font>"
   ]
  },
  {
   "cell_type": "code",
   "execution_count": 172,
   "id": "669e698e",
   "metadata": {},
   "outputs": [
    {
     "name": "stdout",
     "output_type": "stream",
     "text": [
      "[8.31, 7.64001, 7.07001, 6.70999, 6.41, 6.64001, 7.02002, 8.42999, 10.34, 12.53, 14.51, 16.89, 19.19, 20.81, 21.78, 22.0, 21.61, 20.31, 18.87, 16.91, 15.46, 14.35, 13.39, 12.75, 12.18]\n",
      "25\n"
     ]
    }
   ],
   "source": [
    "#12 hr hrrr:\n",
    "with open('hrrr_f12_Salem_MO.txt') as f:\n",
    "    lst=[line.split()[5] for line in f]\n",
    "    temp=[]\n",
    "    for i in lst:\n",
    "        new=i.replace(',',\"\")\n",
    "        temp.append(new)\n",
    "    temp.pop(0)\n",
    "    temp=[float(x) for x in temp]\n",
    "    temp=temp[2778:2803]\n",
    "    #temp=temp[2015:2063]\n",
    "    print(temp)\n",
    "    print(len(temp))\n",
    "#full time period is [2015:2112]"
   ]
  },
  {
   "cell_type": "code",
   "execution_count": 173,
   "id": "bcb9ddef",
   "metadata": {},
   "outputs": [
    {
     "name": "stdout",
     "output_type": "stream",
     "text": [
      "[10.9, 10.5, 10.2, 9.9, 9.6, 9.4, 9.2, 9.3, 9.8, 10.5, 11.6, 12.6, 13.6, 14.5, 15.3, 15.7, 15.7, 15.4, 14.8, 14.2, 13.6, 13.1, 12.8, 12.4, 12.3]\n"
     ]
    }
   ],
   "source": [
    "#Air Temp CRN:\n",
    "with open('CRNH0203-2022-MO_Salem_10_W.txt') as f:\n",
    "    lst=[line.split()[33] for line in f]\n",
    "    #print(lst)\n",
    "    temp_crn=[]\n",
    "    for i in lst:\n",
    "        new=i.replace(',',\"\")\n",
    "        temp_crn.append(new)\n",
    "    temp_crn=[float(x) for x in temp_crn]\n",
    "    temp_crn=temp_crn[2789:2814]\n",
    "    print(temp_crn)\n",
    "    #print(len(temp_crn))\n",
    "    # print(temp_crn[2124])"
   ]
  },
  {
   "cell_type": "code",
   "execution_count": 174,
   "id": "8141184a",
   "metadata": {},
   "outputs": [
    {
     "name": "stdout",
     "output_type": "stream",
     "text": [
      "[-2.59, -2.85999, -3.1299899999999994, -3.19001, -3.1899999999999995, -2.75999, -2.1799799999999996, -0.8700100000000006, 0.5399999999999991, 2.0299999999999994, 2.91, 4.290000000000001, 5.590000000000002, 6.309999999999999, 6.48, 6.300000000000001, 5.91, 4.909999999999998, 4.07, 2.710000000000001, 1.8600000000000012, 1.25, 0.5899999999999999, 0.34999999999999964, -0.120000000000001]\n"
     ]
    }
   ],
   "source": [
    "difference6_sal = []\n",
    "\n",
    "zip_object = zip(temp, temp_crn)\n",
    "for temp_i, temp_crn_i in zip_object:\n",
    "    difference6_sal.append(temp_i-temp_crn_i)\n",
    "\n",
    "print(difference6_sal)"
   ]
  },
  {
   "cell_type": "markdown",
   "id": "0f9e062e",
   "metadata": {},
   "source": [
    "<font size=\"3\">Batesville, AR: 1300 UTC 30 March 2022-1300 UTC 31 March 2022</font>"
   ]
  },
  {
   "cell_type": "code",
   "execution_count": 175,
   "id": "fae676a3",
   "metadata": {},
   "outputs": [
    {
     "name": "stdout",
     "output_type": "stream",
     "text": [
      "[10.67, 10.16, 9.56, 9.04001, 8.70999, 8.41, 8.30002, 9.97, 12.7, 14.69, 16.5, 18.22, 19.65, 20.79, 21.51, 21.93, 21.73, 20.89, 19.62, 17.46, 15.86, 15.04, 14.26, 13.4, 12.48]\n",
      "25\n"
     ]
    }
   ],
   "source": [
    "#12 hr hrrr:\n",
    "with open('hrrr_f12_Batesville_AR.txt') as f:\n",
    "    lst=[line.split()[5] for line in f]\n",
    "    temp=[]\n",
    "    for i in lst:\n",
    "        new=i.replace(',',\"\")\n",
    "        temp.append(new)\n",
    "    temp.pop(0)\n",
    "    temp=[float(x) for x in temp]\n",
    "    temp=temp[2778:2803]\n",
    "    #temp=temp[2015:2063]\n",
    "    print(temp)\n",
    "    print(len(temp))\n",
    "#full time period is [2015:2112]"
   ]
  },
  {
   "cell_type": "code",
   "execution_count": 176,
   "id": "d17c8bd2",
   "metadata": {},
   "outputs": [
    {
     "name": "stdout",
     "output_type": "stream",
     "text": [
      "[14.1, 13.7, 13.3, 12.9, 12.6, 12.4, 12.1, 12.1, 12.3, 12.8, 13.4, 14.1, 14.9, 15.7, 16.4, 16.7, 16.8, 16.7, 16.3, 16.0, 15.4, 15.0, 14.6, 14.2, 13.9]\n"
     ]
    }
   ],
   "source": [
    "#Air Temp CRN:\n",
    "with open('CRNH0203-2022-AR_Batesville_8_WNW.txt') as f:\n",
    "    lst=[line.split()[33] for line in f]\n",
    "    #print(lst)\n",
    "    temp_crn=[]\n",
    "    for i in lst:\n",
    "        new=i.replace(',',\"\")\n",
    "        temp_crn.append(new)\n",
    "    temp_crn=[float(x) for x in temp_crn]\n",
    "    temp_crn=temp_crn[2789:2814]\n",
    "    print(temp_crn)\n",
    "    #print(len(temp_crn))\n",
    "    # print(temp_crn[2124])"
   ]
  },
  {
   "cell_type": "code",
   "execution_count": 177,
   "id": "e5df5512",
   "metadata": {},
   "outputs": [
    {
     "name": "stdout",
     "output_type": "stream",
     "text": [
      "[-3.4299999999999997, -3.539999999999999, -3.74, -3.85999, -3.89001, -3.99, -3.7999799999999997, -2.129999999999999, 0.3999999999999986, 1.8899999999999988, 3.0999999999999996, 4.119999999999999, 4.749999999999998, 5.09, 5.110000000000003, 5.23, 4.93, 4.190000000000001, 3.3200000000000003, 1.4600000000000009, 0.4599999999999991, 0.03999999999999915, -0.33999999999999986, -0.7999999999999989, -1.42]\n"
     ]
    }
   ],
   "source": [
    "difference6_bat = []\n",
    "\n",
    "zip_object = zip(temp, temp_crn)\n",
    "for temp_i, temp_crn_i in zip_object:\n",
    "    difference6_bat.append(temp_i-temp_crn_i)\n",
    "\n",
    "print(difference6_bat)"
   ]
  },
  {
   "cell_type": "markdown",
   "id": "f0f6c8a6",
   "metadata": {},
   "source": [
    "<font size=\"3\">Lafayette, LA: 1700 UTC 30 March 2022-1700 UTC 31 March 2022</font>"
   ]
  },
  {
   "cell_type": "code",
   "execution_count": 178,
   "id": "73ac19df",
   "metadata": {},
   "outputs": [
    {
     "name": "stdout",
     "output_type": "stream",
     "text": [
      "[20.28, 19.55, 18.87, 18.07, 17.41, 16.93, 16.31, 17.03, 19.46, 22.51, 25.6, 28.16, 30.28, 31.68, 32.67, 32.84, 32.19, 30.95, 29.0, 26.39, 24.29, 22.62, 21.11, 19.9, 18.83]\n",
      "25\n"
     ]
    }
   ],
   "source": [
    "#12 hr hrrr:\n",
    "with open('hrrr_f12_Lafayette_LA.txt') as f:\n",
    "    lst=[line.split()[5] for line in f]\n",
    "    temp=[]\n",
    "    for i in lst:\n",
    "        new=i.replace(',',\"\")\n",
    "        temp.append(new)\n",
    "    temp.pop(0)\n",
    "    temp=[float(x) for x in temp]\n",
    "    temp=temp[2778:2803]\n",
    "    #temp=temp[2015:2063]\n",
    "    print(temp)\n",
    "    print(len(temp))\n",
    "#full time period is [2015:2112]"
   ]
  },
  {
   "cell_type": "code",
   "execution_count": 179,
   "id": "e3847d94",
   "metadata": {},
   "outputs": [
    {
     "name": "stdout",
     "output_type": "stream",
     "text": [
      "[22.6, 22.3, 22.0, 21.6, 21.4, 21.1, 20.8, 20.7, 20.6, 20.8, 21.2, 21.9, 22.6, 23.3, 23.9, 24.4, 24.5, 24.5, 24.4, 23.9, 23.6, 23.0, 22.5, 22.1, 21.7]\n"
     ]
    }
   ],
   "source": [
    "#Air Temp CRN:\n",
    "with open('CRNH0203-2022-LA_Lafayette_13_SE.txt') as f:\n",
    "    lst=[line.split()[33] for line in f]\n",
    "    #print(lst)\n",
    "    temp_crn=[]\n",
    "    for i in lst:\n",
    "        new=i.replace(',',\"\")\n",
    "        temp_crn.append(new)\n",
    "    temp_crn=[float(x) for x in temp_crn]\n",
    "    temp_crn=temp_crn[2789:2814]\n",
    "    print(temp_crn)\n",
    "    #print(len(temp_crn))\n",
    "    # print(temp_crn[2124])"
   ]
  },
  {
   "cell_type": "code",
   "execution_count": 180,
   "id": "2fdaf1f0",
   "metadata": {},
   "outputs": [
    {
     "name": "stdout",
     "output_type": "stream",
     "text": [
      "[-2.3200000000000003, -2.75, -3.129999999999999, -3.530000000000001, -3.9899999999999984, -4.170000000000002, -4.490000000000002, -3.669999999999998, -1.1400000000000006, 1.7100000000000009, 4.400000000000002, 6.260000000000002, 7.68, 8.379999999999999, 8.770000000000003, 8.440000000000005, 7.689999999999998, 6.449999999999999, 4.600000000000001, 2.490000000000002, 0.6899999999999977, -0.379999999999999, -1.3900000000000006, -2.200000000000003, -2.870000000000001]\n"
     ]
    }
   ],
   "source": [
    "difference6_laf = []\n",
    "\n",
    "zip_object = zip(temp, temp_crn)\n",
    "for temp_i, temp_crn_i in zip_object:\n",
    "    difference6_laf.append(temp_i-temp_crn_i)\n",
    "\n",
    "print(difference6_laf)"
   ]
  },
  {
   "cell_type": "markdown",
   "id": "538f418c",
   "metadata": {},
   "source": [
    "<font size=\"3\">Monroe, LA: 1700 UTC 30 March 2022-1700 UTC 31 March 2022</font>"
   ]
  },
  {
   "cell_type": "code",
   "execution_count": 181,
   "id": "96b7ca4e",
   "metadata": {},
   "outputs": [
    {
     "name": "stdout",
     "output_type": "stream",
     "text": [
      "[13.61, 12.94, 12.11, 11.41, 10.87, 10.47, 9.99002, 10.93, 13.07, 15.48, 17.85, 20.29, 23.09, 25.27, 26.61, 27.17, 26.57, 25.43, 23.66, 21.27, 19.32, 17.79, 16.53, 15.6, 14.59]\n",
      "25\n"
     ]
    }
   ],
   "source": [
    "#12 hr hrrr:\n",
    "with open('hrrr_f12_Monroe_LA.txt') as f:\n",
    "    lst=[line.split()[5] for line in f]\n",
    "    temp=[]\n",
    "    for i in lst:\n",
    "        new=i.replace(',',\"\")\n",
    "        temp.append(new)\n",
    "    temp.pop(0)\n",
    "    temp=[float(x) for x in temp]\n",
    "    temp=temp[2778:2803]\n",
    "    #temp=temp[2015:2063]\n",
    "    print(temp)\n",
    "    print(len(temp))\n",
    "#full time period is [2015:2112]"
   ]
  },
  {
   "cell_type": "code",
   "execution_count": 182,
   "id": "223aa6b3",
   "metadata": {},
   "outputs": [
    {
     "name": "stdout",
     "output_type": "stream",
     "text": [
      "[19.4, 18.9, 18.4, 18.1, 17.8, 17.4, 17.0, 16.8, 17.0, 17.8, 19.0, 20.4, 21.9, 23.0, 23.8, 24.1, 24.1, 23.6, 22.7, 21.9, 21.0, 20.3, 19.7, 19.0, 18.6]\n"
     ]
    }
   ],
   "source": [
    "#Air Temp CRN:\n",
    "with open('CRNH0203-2022-LA_Monroe_26_N.txt') as f:\n",
    "    lst=[line.split()[33] for line in f]\n",
    "    #print(lst)\n",
    "    temp_crn=[]\n",
    "    for i in lst:\n",
    "        new=i.replace(',',\"\")\n",
    "        temp_crn.append(new)\n",
    "    temp_crn=[float(x) for x in temp_crn]\n",
    "    temp_crn=temp_crn[2789:2814]\n",
    "    print(temp_crn)\n",
    "    #print(len(temp_crn))\n",
    "    # print(temp_crn[2124])"
   ]
  },
  {
   "cell_type": "code",
   "execution_count": 183,
   "id": "a8ecb8c0",
   "metadata": {},
   "outputs": [
    {
     "name": "stdout",
     "output_type": "stream",
     "text": [
      "[-5.789999999999999, -5.959999999999999, -6.289999999999999, -6.690000000000001, -6.9300000000000015, -6.929999999999998, -7.0099800000000005, -5.870000000000001, -3.9299999999999997, -2.3200000000000003, -1.1499999999999986, -0.10999999999999943, 1.1900000000000013, 2.2699999999999996, 2.8099999999999987, 3.0700000000000003, 2.469999999999999, 1.8299999999999983, 0.9600000000000009, -0.629999999999999, -1.6799999999999997, -2.5100000000000016, -3.169999999999998, -3.4000000000000004, -4.010000000000002]\n"
     ]
    }
   ],
   "source": [
    "difference6_mon = []\n",
    "\n",
    "zip_object = zip(temp, temp_crn)\n",
    "for temp_i, temp_crn_i in zip_object:\n",
    "    difference6_mon.append(temp_i-temp_crn_i)\n",
    "\n",
    "print(difference6_mon)"
   ]
  },
  {
   "cell_type": "markdown",
   "id": "3438b2f5",
   "metadata": {},
   "source": [
    "<font size=\"3\">Holly Springs, MS: 2000 UTC 30 March 2022-2000 UTC 31 March 2022</font>"
   ]
  },
  {
   "cell_type": "code",
   "execution_count": 184,
   "id": "46abe4b4",
   "metadata": {},
   "outputs": [
    {
     "name": "stdout",
     "output_type": "stream",
     "text": [
      "[9.36002, 8.67999, 8.14999, 7.72, 7.26001, 6.94, 6.92999, 8.76001, 11.19, 13.55, 15.67, 17.56, 19.42, 21.15, 22.35, 22.87, 22.38, 21.22, 19.83, 17.65, 16.11, 15.03, 14.14, 13.37, 12.61]\n",
      "25\n"
     ]
    }
   ],
   "source": [
    "#12 hr hrrr:\n",
    "with open('hrrr_f12_Holly Springs_MS.txt') as f:\n",
    "    lst=[line.split()[5] for line in f]\n",
    "    temp=[]\n",
    "    for i in lst:\n",
    "        new=i.replace(',',\"\")\n",
    "        temp.append(new)\n",
    "    temp.pop(0)\n",
    "    temp=[float(x) for x in temp]\n",
    "    temp=temp[2778:2803]\n",
    "    #temp=temp[2015:2063]\n",
    "    print(temp)\n",
    "    print(len(temp))\n",
    "#full time period is [2015:2112]"
   ]
  },
  {
   "cell_type": "code",
   "execution_count": 185,
   "id": "9b9f6c92",
   "metadata": {},
   "outputs": [
    {
     "name": "stdout",
     "output_type": "stream",
     "text": [
      "[16.2, 15.8, 15.3, 14.8, 14.4, 14.1, 13.8, 13.8, 14.8, 16.0, 17.4, 18.6, 19.9, 20.9, 21.6, 21.9, 21.9, 21.4, 20.6, 19.7, 18.9, 18.2, 17.7, 17.3, 16.8]\n"
     ]
    }
   ],
   "source": [
    "#Air Temp CRN:\n",
    "with open('CRNH0203-2022-MS_Holly_Springs_4_N.txt') as f:\n",
    "    lst=[line.split()[33] for line in f]\n",
    "    #print(lst)\n",
    "    temp_crn=[]\n",
    "    for i in lst:\n",
    "        new=i.replace(',',\"\")\n",
    "        temp_crn.append(new)\n",
    "    temp_crn=[float(x) for x in temp_crn]\n",
    "    temp_crn=temp_crn[2789:2814]\n",
    "    print(temp_crn)\n",
    "    #print(len(temp_crn))\n",
    "    # print(temp_crn[2124])"
   ]
  },
  {
   "cell_type": "code",
   "execution_count": 186,
   "id": "f0e0272c",
   "metadata": {},
   "outputs": [
    {
     "name": "stdout",
     "output_type": "stream",
     "text": [
      "[-6.839979999999999, -7.120010000000001, -7.15001, -7.080000000000001, -7.13999, -7.159999999999999, -6.870010000000001, -5.039990000000001, -3.610000000000001, -2.4499999999999993, -1.7299999999999986, -1.0400000000000027, -0.4799999999999969, 0.25, 0.75, 0.9700000000000024, 0.4800000000000004, -0.17999999999999972, -0.7700000000000031, -2.0500000000000007, -2.789999999999999, -3.17, -3.5599999999999987, -3.9300000000000015, -4.190000000000001]\n"
     ]
    }
   ],
   "source": [
    "difference6_hol = []\n",
    "\n",
    "zip_object = zip(temp, temp_crn)\n",
    "for temp_i, temp_crn_i in zip_object:\n",
    "    difference6_hol.append(temp_i-temp_crn_i)\n",
    "\n",
    "print(difference6_hol)"
   ]
  },
  {
   "cell_type": "markdown",
   "id": "076e6124",
   "metadata": {},
   "source": [
    "<font size=\"3\">Newton, MS: 2000 UTC 30 March 2022-2000 UTC 31 March 2022</font>"
   ]
  },
  {
   "cell_type": "code",
   "execution_count": 187,
   "id": "bead3030",
   "metadata": {},
   "outputs": [
    {
     "name": "stdout",
     "output_type": "stream",
     "text": [
      "[15.87, 15.06, 14.38, 13.76, 13.37, 12.86, 12.39, 13.85, 16.29, 18.97, 21.48, 23.65, 25.49, 26.54, 27.2, 27.24, 26.42, 25.11, 23.35, 21.2, 19.4, 17.98, 16.87, 15.79, 14.82]\n",
      "25\n"
     ]
    }
   ],
   "source": [
    "#12 hr hrrr:\n",
    "with open('hrrr_f12_Newton_MS.txt') as f:\n",
    "    lst=[line.split()[5] for line in f]\n",
    "    temp=[]\n",
    "    for i in lst:\n",
    "        new=i.replace(',',\"\")\n",
    "        temp.append(new)\n",
    "    temp.pop(0)\n",
    "    temp=[float(x) for x in temp]\n",
    "    temp=temp[2778:2803]\n",
    "    #temp=temp[2015:2063]\n",
    "    print(temp)\n",
    "    print(len(temp))\n",
    "#full time period is [2015:2112]"
   ]
  },
  {
   "cell_type": "code",
   "execution_count": 188,
   "id": "03bfea99",
   "metadata": {},
   "outputs": [
    {
     "name": "stdout",
     "output_type": "stream",
     "text": [
      "[19.0, 18.6, 18.3, 17.9, 17.4, 17.1, 16.8, 17.0, 17.6, 18.7, 20.3, 21.8, 23.1, 23.8, 24.1, 24.0, 23.5, 22.9, 22.1, 21.2, 20.4, 19.7, 19.0, 18.5, 18.1]\n"
     ]
    }
   ],
   "source": [
    "#Air Temp CRN:\n",
    "with open('CRNH0203-2022-MS_Newton_5_ENE.txt') as f:\n",
    "    lst=[line.split()[33] for line in f]\n",
    "    #print(lst)\n",
    "    temp_crn=[]\n",
    "    for i in lst:\n",
    "        new=i.replace(',',\"\")\n",
    "        temp_crn.append(new)\n",
    "    temp_crn=[float(x) for x in temp_crn]\n",
    "    temp_crn=temp_crn[2789:2814]\n",
    "    print(temp_crn)\n",
    "    #print(len(temp_crn))\n",
    "    # print(temp_crn[2124])"
   ]
  },
  {
   "cell_type": "code",
   "execution_count": 189,
   "id": "4f7886f8",
   "metadata": {},
   "outputs": [
    {
     "name": "stdout",
     "output_type": "stream",
     "text": [
      "[-3.130000000000001, -3.540000000000001, -3.92, -4.139999999999999, -4.029999999999999, -4.240000000000002, -4.41, -3.1500000000000004, -1.3100000000000023, 0.2699999999999996, 1.1799999999999997, 1.8499999999999979, 2.389999999999997, 2.7399999999999984, 3.099999999999998, 3.2399999999999984, 2.9200000000000017, 2.210000000000001, 1.25, 0.0, -1.0, -1.7199999999999989, -2.129999999999999, -2.710000000000001, -3.280000000000001]\n"
     ]
    }
   ],
   "source": [
    "difference6_new = []\n",
    "\n",
    "zip_object = zip(temp, temp_crn)\n",
    "for temp_i, temp_crn_i in zip_object:\n",
    "    difference6_new.append(temp_i-temp_crn_i)\n",
    "\n",
    "print(difference6_new)"
   ]
  },
  {
   "cell_type": "markdown",
   "id": "4e9af6a3",
   "metadata": {},
   "source": [
    "<font size=\"3\">Gainesville, AL: 2300 UTC 30 March 2022-2300 UTC 31 March 2022</font>"
   ]
  },
  {
   "cell_type": "code",
   "execution_count": 190,
   "id": "738f0a5d",
   "metadata": {},
   "outputs": [],
   "source": [
    "# #12 hr hrrr:\n",
    "# with open('hrrr_f12_Gainesville_AL.txt') as f:\n",
    "#     lst=[line.split()[5] for line in f]\n",
    "#     temp=[]\n",
    "#     for i in lst:\n",
    "#         new=i.replace(',',\"\")\n",
    "#         temp.append(new)\n",
    "#     temp.pop(0)\n",
    "#     temp=[float(x) for x in temp]\n",
    "#     temp=temp[2778:2803]\n",
    "#     #temp=temp[2015:2063]\n",
    "#     print(temp)\n",
    "#     print(len(temp))\n",
    "# #full time period is [2015:2112]"
   ]
  },
  {
   "cell_type": "code",
   "execution_count": 191,
   "id": "b1426058",
   "metadata": {},
   "outputs": [],
   "source": [
    "# #Air Temp CRN:\n",
    "# with open('CRNH0203-2022-AL_Gainesville_2_NE.txt') as f:\n",
    "#     lst=[line.split()[33] for line in f]\n",
    "#     #print(lst)\n",
    "#     temp_crn=[]\n",
    "#     for i in lst:\n",
    "#         new=i.replace(',',\"\")\n",
    "#         temp_crn.append(new)\n",
    "#     temp_crn=[float(x) for x in temp_crn]\n",
    "#     temp_crn=temp_crn[2789:2814]\n",
    "#     print(temp_crn)\n",
    "#     #print(len(temp_crn))\n",
    "#     # print(temp_crn[2124])"
   ]
  },
  {
   "cell_type": "code",
   "execution_count": 192,
   "id": "e8a6f4ed",
   "metadata": {},
   "outputs": [],
   "source": [
    "# difference6_gai = []\n",
    "\n",
    "# zip_object = zip(temp, temp_crn)\n",
    "# for temp_i, temp_crn_i in zip_object:\n",
    "#     difference6_gai.append(temp_i-temp_crn_i)\n",
    "\n",
    "# print(difference6_gai)"
   ]
  },
  {
   "cell_type": "markdown",
   "id": "b13fe7ed",
   "metadata": {},
   "source": [
    "<font size=\"3\">Fairhope, AL: 0100 UTC 31 March 2022-0100 UTC 1 April 2022</font>"
   ]
  },
  {
   "cell_type": "code",
   "execution_count": 193,
   "id": "0736cc70",
   "metadata": {},
   "outputs": [
    {
     "name": "stdout",
     "output_type": "stream",
     "text": [
      "[19.28, 18.47, 17.63, 16.8, 16.06, 15.43, 14.89, 16.16, 18.51, 21.38, 24.35, 26.86, 28.69, 29.44, 29.73, 29.62, 28.46, 27.03, 24.96, 23.0, 21.35, 20.02, 18.92, 17.96, 17.21]\n",
      "25\n"
     ]
    }
   ],
   "source": [
    "#12 hr hrrr:\n",
    "with open('hrrr_f12_Fairhope_AL.txt') as f:\n",
    "    lst=[line.split()[5] for line in f]\n",
    "    temp=[]\n",
    "    for i in lst:\n",
    "        new=i.replace(',',\"\")\n",
    "        temp.append(new)\n",
    "    temp.pop(0)\n",
    "    temp=[float(x) for x in temp]\n",
    "    temp=temp[2778:2803]\n",
    "    #temp=temp[2015:2063]\n",
    "    print(temp)\n",
    "    print(len(temp))\n",
    "#full time period is [2015:2112]"
   ]
  },
  {
   "cell_type": "code",
   "execution_count": 194,
   "id": "55cf288e",
   "metadata": {},
   "outputs": [
    {
     "name": "stdout",
     "output_type": "stream",
     "text": [
      "[20.9, 20.7, 20.6, 20.5, 20.3, 20.2, 19.9, 19.8, 19.8, 20.0, 20.2, 20.4, 20.7, 21.2, 21.4, 21.6, 21.6, 21.6, 21.5, 21.3, 21.1, 20.7, 20.6, 20.3, 20.0]\n"
     ]
    }
   ],
   "source": [
    "#Air Temp CRN:\n",
    "with open('CRNH0203-2022-AL_Fairhope_3_NE.txt') as f:\n",
    "    lst=[line.split()[33] for line in f]\n",
    "    #print(lst)\n",
    "    temp_crn=[]\n",
    "    for i in lst:\n",
    "        new=i.replace(',',\"\")\n",
    "        temp_crn.append(new)\n",
    "    temp_crn=[float(x) for x in temp_crn]\n",
    "    temp_crn=temp_crn[2789:2814]\n",
    "    print(temp_crn)\n",
    "    #print(len(temp_crn))\n",
    "    # print(temp_crn[2124])"
   ]
  },
  {
   "cell_type": "code",
   "execution_count": 195,
   "id": "287a85ae",
   "metadata": {},
   "outputs": [
    {
     "name": "stdout",
     "output_type": "stream",
     "text": [
      "[-1.6199999999999974, -2.2300000000000004, -2.9700000000000024, -3.6999999999999993, -4.240000000000002, -4.77, -5.009999999999998, -3.6400000000000006, -1.2899999999999991, 1.379999999999999, 4.150000000000002, 6.460000000000001, 7.990000000000002, 8.240000000000002, 8.330000000000002, 8.02, 6.859999999999999, 5.43, 3.460000000000001, 1.6999999999999993, 0.25, -0.6799999999999997, -1.6799999999999997, -2.34, -2.789999999999999]\n"
     ]
    }
   ],
   "source": [
    "difference6_fai = []\n",
    "\n",
    "zip_object = zip(temp, temp_crn)\n",
    "for temp_i, temp_crn_i in zip_object:\n",
    "    difference6_fai.append(temp_i-temp_crn_i)\n",
    "\n",
    "print(difference6_fai)"
   ]
  },
  {
   "cell_type": "markdown",
   "id": "ac6cc4ff",
   "metadata": {},
   "source": [
    "<font size=\"3\">**Selma, AL: 0100 UTC 31 March 2022-0100 UTC 1 April 2022</font>"
   ]
  },
  {
   "cell_type": "code",
   "execution_count": 196,
   "id": "3199c7e8",
   "metadata": {},
   "outputs": [
    {
     "name": "stdout",
     "output_type": "stream",
     "text": [
      "[13.73, 13.06, 12.23, 11.54, 10.92, 10.43, 10.41, 12.01, 14.06, 16.54, 18.96, 21.01, 22.92, 24.27, 25.02, 25.24, 24.56, 23.45, 21.98, 19.39, 17.52, 16.17, 15.04, 14.08, 13.26]\n",
      "25\n",
      "[18.7, 18.2, 17.8, 17.4, 17.1, 16.6, 16.3, 16.4, 16.7, 17.8, 19.2, 21.0, 22.7, 24.1, 24.8, 25.0, 24.8, 24.3, 23.3, 22.3, 21.4, 20.6, 19.9, 19.3, 18.7]\n",
      "25\n",
      "[-4.969999999999999, -5.139999999999999, -5.57, -5.859999999999999, -6.1800000000000015, -6.170000000000002, -5.890000000000001, -4.389999999999999, -2.639999999999999, -1.2600000000000016, -0.23999999999999844, 0.010000000000001563, 0.22000000000000242, 0.16999999999999815, 0.21999999999999886, 0.23999999999999844, -0.240000000000002, -0.8500000000000014, -1.3200000000000003, -2.91, -3.879999999999999, -4.43, -4.859999999999999, -5.220000000000001, -5.4399999999999995]\n"
     ]
    }
   ],
   "source": [
    "#12 hr hrrr:\n",
    "with open('hrrr_f12_Selma_AL.txt') as f:\n",
    "    lst=[line.split()[5] for line in f]\n",
    "    temp=[]\n",
    "    for i in lst:\n",
    "        new=i.replace(',',\"\")\n",
    "        temp.append(new)\n",
    "    temp.pop(0)\n",
    "    temp=[float(x) for x in temp]\n",
    "    temp=temp[2778:2803]\n",
    "    \n",
    "#Air Temp CRN:\n",
    "with open('CRNH0203-2022-AL_Selma_13_WNW.txt') as f:\n",
    "    lst=[line.split()[33] for line in f]\n",
    "    #print(lst)\n",
    "    temp_crn=[]\n",
    "    for i in lst:\n",
    "        new=i.replace(',',\"\")\n",
    "        temp_crn.append(new)\n",
    "    temp_crn=[float(x) for x in temp_crn]\n",
    "    temp_crn=temp_crn[2789:2814]\n",
    "\n",
    "    print(temp)\n",
    "    print(len(temp))\n",
    "    print(temp_crn)\n",
    "    print(len(temp_crn))\n",
    "#full time period is [2015:2112]\n",
    "difference6_sel = []\n",
    "\n",
    "zip_object = zip(temp, temp_crn)\n",
    "for temp_i, temp_crn_i in zip_object:\n",
    "    difference6_sel.append(temp_i-temp_crn_i)\n",
    "\n",
    "print(difference6_sel)\n",
    "#print(len(difference3_sel))"
   ]
  },
  {
   "cell_type": "markdown",
   "id": "e53de0f0",
   "metadata": {},
   "source": [
    "<font size=\"3\">Bowling Green, KY: 0100 UTC 31 March 2022-0100 UTC 1 April 2022</font>"
   ]
  },
  {
   "cell_type": "code",
   "execution_count": 197,
   "id": "04636ad1",
   "metadata": {},
   "outputs": [
    {
     "name": "stdout",
     "output_type": "stream",
     "text": [
      "[8.82001, 8.25, 7.57001, 7.14001, 6.64001, 6.34, 6.92001, 9.38, 12.24, 15.01, 18.01, 20.52, 22.28, 23.28, 23.95, 24.04, 23.19, 21.79, 20.07, 17.73, 16.3, 15.11, 14.21, 13.27, 12.45]\n"
     ]
    }
   ],
   "source": [
    "#12 hr hrrr:\n",
    "with open('hrrr_f12_Bowling Green_KY.txt') as f:\n",
    "    lst=[line.split()[5] for line in f]\n",
    "    temp=[]\n",
    "    for i in lst:\n",
    "        new=i.replace(',',\"\")\n",
    "        temp.append(new)\n",
    "    temp.pop(0)\n",
    "    temp=[float(x) for x in temp]\n",
    "    temp=temp[2778:2803]\n",
    "#     x = np.array(temp)\n",
    "#     temp= ma.masked_array(x, mask=[0, 0, 0, 0, 0,0,1,0,0,0,0,0,0,0,0,0,0,0,0,0,0,0,0,0,0])\n",
    "    #temp=temp[2015:2063]\n",
    "    print(temp)\n",
    "    #print(len(temp))\n",
    "#full time period is [2015:2112]"
   ]
  },
  {
   "cell_type": "code",
   "execution_count": 198,
   "id": "3f5d5577",
   "metadata": {},
   "outputs": [
    {
     "name": "stdout",
     "output_type": "stream",
     "text": [
      "[13.1, 12.7, 12.3, 11.9, 11.6, 11.3, 11.0, 11.2, 11.8, 12.8, 14.2, 15.7, 17.1, 18.3, 19.0, 19.2, 19.1, 18.5, 17.7, 16.8, 16.0, 15.3, 14.8, 14.3, 14.0]\n"
     ]
    }
   ],
   "source": [
    "#Air Temp CRN:\n",
    "with open('CRNH0203-2022-KY_Bowling_Green_21_NNE.txt') as f:\n",
    "    lst=[line.split()[33] for line in f]\n",
    "    #print(lst)\n",
    "    temp_crn=[]\n",
    "    for i in lst:\n",
    "        new=i.replace(',',\"\")\n",
    "        temp_crn.append(new)\n",
    "    temp_crn=[float(x) for x in temp_crn]\n",
    "    temp_crn=temp_crn[2789:2814]\n",
    "#     y = np.array(temp_crn)\n",
    "#     temp_crn = ma.masked_array(y, mask=[0, 0, 0, 0, 0,0,1,0,0,0,0,0,0,0,0,0,0,0,0,0,0,0,0,0,0])\n",
    "    print(temp_crn)\n",
    "    #print(len(temp_crn))\n",
    "    # print(temp_crn[2124])"
   ]
  },
  {
   "cell_type": "code",
   "execution_count": 199,
   "id": "5c251190",
   "metadata": {},
   "outputs": [
    {
     "name": "stdout",
     "output_type": "stream",
     "text": [
      "[-4.27999, -4.449999999999999, -4.729990000000001, -4.75999, -4.9599899999999995, -4.960000000000001, -4.07999, -1.8199999999999985, 0.4399999999999995, 2.209999999999999, 3.8100000000000023, 4.82, 5.18, 4.98, 4.949999999999999, 4.84, 4.09, 3.289999999999999, 2.370000000000001, 0.9299999999999997, 0.3000000000000007, -0.19000000000000128, -0.5899999999999999, -1.0300000000000011, -1.5500000000000007]\n"
     ]
    }
   ],
   "source": [
    "difference6_bow = []\n",
    "\n",
    "zip_object = zip(temp, temp_crn)\n",
    "for temp_i, temp_crn_i in zip_object:\n",
    "    difference6_bow.append(temp_i-temp_crn_i)\n",
    "\n",
    "print(difference6_bow)"
   ]
  },
  {
   "cell_type": "markdown",
   "id": "a5a07101",
   "metadata": {},
   "source": [
    "<font size=\"3\">Gadsden, AL: 0200 UTC 31 March 2022-0200 UTC 1 April 2022</font>"
   ]
  },
  {
   "cell_type": "code",
   "execution_count": 200,
   "id": "62e76d12",
   "metadata": {},
   "outputs": [
    {
     "name": "stdout",
     "output_type": "stream",
     "text": [
      "[10.3, 9.63, 9.04001, 8.67001, 8.31, 7.66, 7.92999, 9.80002, 12.18, 14.95, 17.52, 19.88, 21.92, 22.67, 23.38, 23.3, 22.61, 21.3, 19.56, 17.7, 16.35, 14.77, 13.6, 12.56, 11.87]\n",
      "25\n"
     ]
    }
   ],
   "source": [
    "#12 hr hrrr:\n",
    "with open('hrrr_f12_Gadsden_AL.txt') as f:\n",
    "    lst=[line.split()[5] for line in f]\n",
    "    temp=[]\n",
    "    for i in lst:\n",
    "        new=i.replace(',',\"\")\n",
    "        temp.append(new)\n",
    "    temp.pop(0)\n",
    "    temp=[float(x) for x in temp]\n",
    "    temp=temp[2778:2803]\n",
    "    #temp=temp[2015:2063]\n",
    "    print(temp)\n",
    "    print(len(temp))\n",
    "#full time period is [2015:2112]"
   ]
  },
  {
   "cell_type": "code",
   "execution_count": 201,
   "id": "c5726e07",
   "metadata": {},
   "outputs": [
    {
     "name": "stdout",
     "output_type": "stream",
     "text": [
      "[16.8, 16.4, 16.0, 15.6, 15.3, 14.9, 14.6, 14.6, 15.1, 15.7, 16.9, 18.1, 19.3, 20.3, 20.9, 21.1, 20.8, 20.5, 19.9, 19.2, 18.6, 18.1, 17.5, 17.0, 16.6]\n"
     ]
    }
   ],
   "source": [
    "#Air Temp CRN:\n",
    "with open('CRNH0203-2022-AL_Gadsden_19_N.txt') as f:\n",
    "    lst=[line.split()[33] for line in f]\n",
    "    #print(lst)\n",
    "    temp_crn=[]\n",
    "    for i in lst:\n",
    "        new=i.replace(',',\"\")\n",
    "        temp_crn.append(new)\n",
    "    temp_crn=[float(x) for x in temp_crn]\n",
    "    temp_crn=temp_crn[2789:2814]\n",
    "    print(temp_crn)\n",
    "    #print(len(temp_crn))\n",
    "    # print(temp_crn[2124])"
   ]
  },
  {
   "cell_type": "code",
   "execution_count": 202,
   "id": "10f84193",
   "metadata": {},
   "outputs": [
    {
     "name": "stdout",
     "output_type": "stream",
     "text": [
      "[-6.5, -6.769999999999998, -6.9599899999999995, -6.92999, -6.99, -7.24, -6.6700099999999996, -4.79998, -2.92, -0.75, 0.620000000000001, 1.7799999999999976, 2.620000000000001, 2.370000000000001, 2.4800000000000004, 2.1999999999999993, 1.8099999999999987, 0.8000000000000007, -0.33999999999999986, -1.5, -2.25, -3.330000000000002, -3.9000000000000004, -4.4399999999999995, -4.730000000000002]\n"
     ]
    }
   ],
   "source": [
    "difference6_gad = []\n",
    "\n",
    "zip_object = zip(temp, temp_crn)\n",
    "for temp_i, temp_crn_i in zip_object:\n",
    "    difference6_gad.append(temp_i-temp_crn_i)\n",
    "\n",
    "print(difference6_gad)"
   ]
  },
  {
   "cell_type": "markdown",
   "id": "8863111f",
   "metadata": {},
   "source": [
    "<font size=\"3\">Newton, GA: 0700 UTC 31 March 2022-0700 UTC 1 April 2022</font>"
   ]
  },
  {
   "cell_type": "code",
   "execution_count": 203,
   "id": "5b6d30eb",
   "metadata": {},
   "outputs": [
    {
     "name": "stdout",
     "output_type": "stream",
     "text": [
      "[20.96, 20.05, 19.48, 18.51, 17.93, 17.94, 17.32, 18.63, 21.0, 23.89, 26.8, 28.81, 30.58, 31.33, 31.7, 31.66, 30.72, 29.3, 27.25, 24.96, 23.37, 22.09, 21.05, 20.04, 18.91]\n",
      "25\n"
     ]
    }
   ],
   "source": [
    "#12 hr hrrr:\n",
    "with open('hrrr_f12_Newton_GA.txt') as f:\n",
    "    lst=[line.split()[5] for line in f]\n",
    "    temp=[]\n",
    "    for i in lst:\n",
    "        new=i.replace(',',\"\")\n",
    "        temp.append(new)\n",
    "    temp.pop(0)\n",
    "    temp=[float(x) for x in temp]\n",
    "    temp=temp[2778:2803]\n",
    "    #temp=temp[2015:2063]\n",
    "    print(temp)\n",
    "    print(len(temp))\n",
    "#full time period is [2015:2112]"
   ]
  },
  {
   "cell_type": "code",
   "execution_count": 204,
   "id": "d7550634",
   "metadata": {},
   "outputs": [
    {
     "name": "stdout",
     "output_type": "stream",
     "text": [
      "[23.6, 23.2, 22.8, 22.5, 22.2, 21.9, 21.6, 21.7, 22.2, 23.2, 24.4, 25.8, 27.0, 27.9, 28.2, 28.1, 27.7, 27.0, 26.2, 25.3, 24.5, 23.9, 23.4, 23.0, 22.6]\n"
     ]
    }
   ],
   "source": [
    "#Air Temp CRN:\n",
    "with open('CRNH0203-2022-GA_Newton_11_SW.txt') as f:\n",
    "    lst=[line.split()[33] for line in f]\n",
    "    #print(lst)\n",
    "    temp_crn=[]\n",
    "    for i in lst:\n",
    "        new=i.replace(',',\"\")\n",
    "        temp_crn.append(new)\n",
    "    temp_crn=[float(x) for x in temp_crn]\n",
    "    temp_crn=temp_crn[2789:2814]\n",
    "    print(temp_crn)\n",
    "    #print(len(temp_crn))\n",
    "    # print(temp_crn[2124])"
   ]
  },
  {
   "cell_type": "code",
   "execution_count": 205,
   "id": "9134e3a3",
   "metadata": {},
   "outputs": [
    {
     "name": "stdout",
     "output_type": "stream",
     "text": [
      "[-2.6400000000000006, -3.1499999999999986, -3.3200000000000003, -3.9899999999999984, -4.27, -3.9599999999999973, -4.280000000000001, -3.0700000000000003, -1.1999999999999993, 0.6900000000000013, 2.400000000000002, 3.009999999999998, 3.5799999999999983, 3.4299999999999997, 3.5, 3.5599999999999987, 3.0199999999999996, 2.3000000000000007, 1.0500000000000007, -0.33999999999999986, -1.129999999999999, -1.8099999999999987, -2.349999999999998, -2.960000000000001, -3.6900000000000013]\n"
     ]
    }
   ],
   "source": [
    "difference6_newt = []\n",
    "\n",
    "zip_object = zip(temp, temp_crn)\n",
    "for temp_i, temp_crn_i in zip_object:\n",
    "    difference6_newt.append(temp_i-temp_crn_i)\n",
    "\n",
    "print(difference6_newt)"
   ]
  },
  {
   "cell_type": "code",
   "execution_count": 206,
   "id": "8a134c48",
   "metadata": {},
   "outputs": [
    {
     "name": "stdout",
     "output_type": "stream",
     "text": [
      "25\n"
     ]
    }
   ],
   "source": [
    "hour=[6,7,8,9,10,11,12,13,14,15,16,17,18,19,20,21,22,23,0,1,2,3,4,5,6]\n",
    "print(len(hour))"
   ]
  },
  {
   "cell_type": "code",
   "execution_count": 207,
   "id": "45def68f",
   "metadata": {},
   "outputs": [
    {
     "name": "stdout",
     "output_type": "stream",
     "text": [
      "range(0, 25)\n"
     ]
    }
   ],
   "source": [
    "xs = range(len(hour))\n",
    "print(xs)"
   ]
  },
  {
   "cell_type": "code",
   "execution_count": 208,
   "id": "d5fd370b",
   "metadata": {},
   "outputs": [
    {
     "name": "stdout",
     "output_type": "stream",
     "text": [
      "[-2.42272364 -2.45454273 -2.86180909 -3.04817455 -3.22908182 -3.26090182\n",
      " -3.40090636 -3.60089636 -2.136987    0.39909545  2.58909636  4.06727273\n",
      "  5.12545455  5.77454545  6.15818182  6.07272727  5.73363636  4.73363636\n",
      "  3.05090909  1.49        0.80272545  0.236       0.05818727 -0.36363091\n",
      " -0.67090273]\n",
      "[1.84498544 1.71518594 1.69187118 1.72075085 1.76509535 1.94828507\n",
      " 1.9639798  2.11320352 2.11867547 1.88004269 1.73350709 1.9211128\n",
      " 2.249559   2.72903367 2.96941016 3.10949891 3.07209219 2.92449303\n",
      " 2.91056525 2.60999826 2.45793139 2.45244339 2.22379981 2.27690591\n",
      " 2.40021275]\n"
     ]
    },
    {
     "name": "stderr",
     "output_type": "stream",
     "text": [
      "C:\\Users\\panwalaf\\AppData\\Local\\Temp\\ipykernel_9944\\343672783.py:1: UserWarning: Warning: converting a masked element to nan.\n",
      "  c1 = np.array([difference1_sal,difference1_bat,difference1_laf,difference1_mon,difference1_hol,difference1_new,difference1_fai,difference1_sel,difference1_bow,difference1_gad,difference1_newt])\n",
      "C:\\Users\\panwalaf\\AppData\\Local\\Temp\\ipykernel_9944\\343672783.py:6: UserWarning: Warning: converting a masked element to nan.\n",
      "  b1 = np.array([difference1_sal,difference1_bat,difference1_laf,difference1_mon,difference1_hol,difference1_new,difference1_fai,difference1_sel,difference1_bow,difference1_gad,difference1_newt])\n"
     ]
    },
    {
     "data": {
      "text/plain": [
       "25"
      ]
     },
     "execution_count": 208,
     "metadata": {},
     "output_type": "execute_result"
    }
   ],
   "source": [
    "c1 = np.array([difference1_sal,difference1_bat,difference1_laf,difference1_mon,difference1_hol,difference1_new,difference1_fai,difference1_sel,difference1_bow,difference1_gad,difference1_newt])\n",
    "c1=np.nanmean(c1, axis=0)\n",
    "print(c1)\n",
    "len(c1)\n",
    "\n",
    "b1 = np.array([difference1_sal,difference1_bat,difference1_laf,difference1_mon,difference1_hol,difference1_new,difference1_fai,difference1_sel,difference1_bow,difference1_gad,difference1_newt])\n",
    "b1=np.nanstd(b1, axis=0)\n",
    "print(b1)\n",
    "len(b1)"
   ]
  },
  {
   "cell_type": "code",
   "execution_count": 209,
   "id": "7d6e3e43",
   "metadata": {},
   "outputs": [
    {
     "data": {
      "image/png": "[encoded data removed]",
      "text/plain": [
       "<Figure size 792x396 with 1 Axes>"
      ]
     },
     "metadata": {},
     "output_type": "display_data"
    }
   ],
   "source": [
    "plt.style.use('seaborn-whitegrid')\n",
    "plt.rcParams[\"figure.figsize\"] = [11.00, 5.50]\n",
    "plt.rcParams[\"figure.autolayout\"] = True\n",
    "plt.yticks(np.arange(-12,14,2))\n",
    "plt.ylim(-12,12)\n",
    "# c[6]=None\n",
    "# b[6]=None\n",
    "\n",
    "plt.plot(xs,c1,c=\"b\")\n",
    "plt.errorbar(xs,c1,c=\"b\",yerr=b1,linestyle='None', marker='s')\n",
    "# c[6]=None\n",
    "# b[6]=None\n",
    "\n",
    "plt.title(\"12-hr Avg. MBE All Stations\")\n",
    "plt.xlabel(\"UTC Hour\")\n",
    "plt.ylabel(\"MBE Soil Temperature (C)\")\n",
    "#plt.plot(hour,c)\n",
    "#plt.errorbar(hour,c,yerr=b,ecolor='r',elinewidth=5,fmt='s',color='k')\n",
    "#plt.grid()\n",
    "#plt.xticks(np.arange(min(xs), max(xs)+1, 1.0))\n",
    "plt.xticks(xs, hour)\n",
    "plt.show()\n",
    "#plt.axvspan(-4, 4, color='green', alpha=0.2, lw=0)"
   ]
  },
  {
   "cell_type": "code",
   "execution_count": 210,
   "id": "3931d44b",
   "metadata": {},
   "outputs": [
    {
     "name": "stdout",
     "output_type": "stream",
     "text": [
      "[-6.26545073 -6.29636    -6.34544309 -6.51272636 -6.51181845 -6.36181418\n",
      " -6.36545264 -6.10181091 -4.62453809 -2.70545127 -0.76635845  0.93636727\n",
      "  2.08363636  2.88636455  3.31090818  3.39909091  2.95454545  2.08909182\n",
      "  0.66545636 -0.75272727 -1.42545182 -1.88636091 -2.29454182 -2.70454091\n",
      " -3.15817727]\n",
      "[2.14049668 2.26902247 2.3664453  2.47151555 2.65704975 2.70169021\n",
      " 2.81432399 2.61905297 2.26871699 2.16413366 2.23264317 2.33047046\n",
      " 2.63376078 2.841338   2.89466483 2.86545714 2.79918613 2.83637751\n",
      " 2.83017601 2.70130193 2.55055251 2.54417935 2.61643099 2.64524841\n",
      " 2.59751644]\n"
     ]
    },
    {
     "data": {
      "text/plain": [
       "25"
      ]
     },
     "execution_count": 210,
     "metadata": {},
     "output_type": "execute_result"
    }
   ],
   "source": [
    "c2 = np.array([difference2_sal,difference2_bat,difference2_laf,difference2_mon,difference2_hol,difference2_new,difference2_fai,difference2_sel,difference2_bow,difference2_gad,difference2_newt])\n",
    "c2=np.nanmean(c2, axis=0)\n",
    "print(c2)\n",
    "len(c2)\n",
    "\n",
    "b2 = np.array([difference2_sal,difference2_bat,difference2_laf,difference2_mon,difference2_hol,difference2_new,difference2_fai,difference2_sel,difference2_bow,difference2_gad,difference2_newt])\n",
    "b2=np.nanstd(b2, axis=0)\n",
    "print(b2)\n",
    "len(b2)"
   ]
  },
  {
   "cell_type": "code",
   "execution_count": 211,
   "id": "4c8ac8a3",
   "metadata": {},
   "outputs": [
    {
     "data": {
      "image/png": "[encoded data removed]",
      "text/plain": [
       "<Figure size 792x396 with 1 Axes>"
      ]
     },
     "metadata": {},
     "output_type": "display_data"
    }
   ],
   "source": [
    "plt.style.use('seaborn-whitegrid')\n",
    "plt.rcParams[\"figure.figsize\"] = [11.00, 5.50]\n",
    "plt.yticks(np.arange(-12,14,2))\n",
    "plt.ylim(-12,12)\n",
    "# c[6]=None\n",
    "# b[6]=None\n",
    "\n",
    "plt.plot(xs,c2,c=\"red\")\n",
    "plt.errorbar(xs,c2,c=\"red\",yerr=b1,linestyle='None', marker='s')\n",
    "# c[6]=None\n",
    "# b[6]=None\n",
    "\n",
    "plt.title(\"12-hr Avg. MBE All Stations\")\n",
    "plt.xlabel(\"UTC Hour\")\n",
    "plt.ylabel(\"MBE Soil Temperature (C)\")\n",
    "#plt.plot(hour,c)\n",
    "#plt.errorbar(hour,c,yerr=b,ecolor='r',elinewidth=5,fmt='s',color='k')\n",
    "#plt.grid()\n",
    "#plt.xticks(np.arange(min(xs), max(xs)+1, 1.0))\n",
    "plt.xticks(xs, hour)\n",
    "plt.show()\n",
    "#plt.axvspan(-4, 4, color='green', alpha=0.2, lw=0)"
   ]
  },
  {
   "cell_type": "code",
   "execution_count": 212,
   "id": "e7aee5e0",
   "metadata": {},
   "outputs": [
    {
     "name": "stdout",
     "output_type": "stream",
     "text": [
      "[-2.79090455 -3.09363273 -3.41999455 -3.69454273 -3.78363545 -3.81363182\n",
      " -3.90817727 -3.57999364 -1.43363364  0.87727636  2.51818182  3.72909091\n",
      "  4.63727273  5.35        5.63909091  5.67        5.3         4.41\n",
      "  3.11181818  1.43        0.46272727 -0.06       -0.37       -0.71545273\n",
      " -1.06272545]\n",
      "[0.90945982 0.95620735 1.07070212 1.1013944  1.12937204 1.17717242\n",
      " 1.25420009 1.00211647 0.89688773 1.37169905 1.80815234 2.32943401\n",
      " 2.79712869 3.18473347 3.31312392 3.36684908 3.12890919 2.80587047\n",
      " 2.46249991 2.06345694 1.83191946 1.69876426 1.6574131  1.68379495\n",
      " 1.65221966]\n"
     ]
    },
    {
     "data": {
      "text/plain": [
       "25"
      ]
     },
     "execution_count": 212,
     "metadata": {},
     "output_type": "execute_result"
    }
   ],
   "source": [
    "c3 = np.array([difference3_sal,difference3_bat,difference3_laf,difference3_mon,difference3_hol,difference3_new,difference3_fai,difference3_sel,difference3_bow,difference3_gad,difference3_newt])\n",
    "c3=np.nanmean(c3, axis=0)\n",
    "print(c3)\n",
    "len(c3)\n",
    "\n",
    "b3 = np.array([difference3_sal,difference3_bat,difference3_laf,difference3_mon,difference3_hol,difference3_new,difference3_fai,difference3_sel,difference3_bow,difference3_gad,difference3_newt])\n",
    "b3=np.nanstd(b3, axis=0)\n",
    "print(b3)\n",
    "len(b3)"
   ]
  },
  {
   "cell_type": "code",
   "execution_count": 213,
   "id": "0d8bef30",
   "metadata": {
    "scrolled": false
   },
   "outputs": [],
   "source": [
    "# def mean(numbers):\n",
    "#     return float(sum(numbers)) / max(len(numbers), 1)\n",
    "\n",
    "# # difference1_sel[17]=0\n",
    "# # difference1_sel[18]=0\n",
    "# # difference1_sel[19]=0\n",
    "# # difference1_sel[20]=0\n",
    "# c3 = [mean(i) for i in zip(difference3_sal,difference3_bat,difference3_laf,difference3_mon,difference3_hol,difference3_new,difference3_gai,difference3_fai,difference3_sel,difference3_bow,difference3_gad,difference3_newt)]\n",
    "# #difference1_bow[6]=0\n",
    "# b3 = [np.std(i) for i in zip(difference3_sal,difference3_bat,difference3_laf,difference3_mon,difference3_hol,difference3_new,difference3_gai,difference3_fai,difference3_sel,difference3_bow,difference3_gad,difference3_newt)]\n",
    "# print (c3)\n",
    "# print(len(c3))\n",
    "# print(b3)\n",
    "# print(len(b3))"
   ]
  },
  {
   "cell_type": "code",
   "execution_count": 214,
   "id": "00a5e783",
   "metadata": {},
   "outputs": [
    {
     "data": {
      "image/png": "[encoded data removed]",
      "text/plain": [
       "<Figure size 792x396 with 1 Axes>"
      ]
     },
     "metadata": {},
     "output_type": "display_data"
    }
   ],
   "source": [
    "plt.style.use('seaborn-whitegrid')\n",
    "plt.rcParams[\"figure.figsize\"] = [11.00, 5.50]\n",
    "plt.rcParams[\"figure.autolayout\"] = True\n",
    "plt.yticks(np.arange(-12,14,2))\n",
    "plt.ylim(-12,12)\n",
    "# c[6]=None\n",
    "# b[6]=None\n",
    "\n",
    "plt.plot(xs,c3,c=\"green\")\n",
    "plt.errorbar(xs,c3,c=\"green\",yerr=b3,linestyle='None', marker='s')\n",
    "# c[6]=None\n",
    "# b[6]=None\n",
    "\n",
    "plt.title(\"12-hr Avg. MBE All Stations\")\n",
    "plt.xlabel(\"UTC Hour\")\n",
    "plt.ylabel(\"MBE Soil Temperature (C)\")\n",
    "#plt.plot(hour,c)\n",
    "#plt.errorbar(hour,c,yerr=b,ecolor='r',elinewidth=5,fmt='s',color='k')\n",
    "#plt.grid()\n",
    "#plt.xticks(np.arange(min(xs), max(xs)+1, 1.0))\n",
    "plt.xticks(xs, hour)\n",
    "plt.show()\n",
    "#plt.axvspan(-4, 4, color='green', alpha=0.2, lw=0)"
   ]
  },
  {
   "cell_type": "code",
   "execution_count": 215,
   "id": "b2d7f7dd",
   "metadata": {},
   "outputs": [
    {
     "name": "stdout",
     "output_type": "stream",
     "text": [
      "[-1.68545273 -2.11999727 -2.40272273 -2.62908636 -2.81726727 -2.94272182\n",
      " -3.24454    -2.46363273 -0.37272636  1.65272909  3.16272727  4.18636364\n",
      "  5.08636364  5.60909091  5.97636364  5.96636364  5.42363636  4.53363636\n",
      "  3.21090909  1.62        0.60454545  0.02181818 -0.58545364 -0.99545545\n",
      " -1.42090818]\n",
      "[1.1218608  0.95096105 0.99441289 0.97455362 1.07659663 1.00010091\n",
      " 1.01659132 0.89162147 0.92232156 1.29883389 1.77308714 2.27537119\n",
      " 2.53778455 2.68655391 2.68654653 2.61151044 2.44348586 2.19344177\n",
      " 1.94072833 1.72928256 1.51160579 1.47465755 1.49619711 1.44937848\n",
      " 1.56272363]\n"
     ]
    },
    {
     "data": {
      "text/plain": [
       "25"
      ]
     },
     "execution_count": 215,
     "metadata": {},
     "output_type": "execute_result"
    }
   ],
   "source": [
    "c4 = np.array([difference4_sal,difference4_bat,difference4_laf,difference4_mon,difference4_hol,difference4_new,difference4_fai,difference4_sel,difference4_bow,difference4_gad,difference4_newt])\n",
    "c4=np.nanmean(c4, axis=0)\n",
    "print(c4)\n",
    "len(c4)\n",
    "\n",
    "b4 = np.array([difference4_sal,difference4_bat,difference4_laf,difference4_mon,difference4_hol,difference4_new,difference4_fai,difference4_sel,difference4_bow,difference4_gad,difference4_newt])\n",
    "b4=np.nanstd(b4, axis=0)\n",
    "print(b4)\n",
    "len(b4)"
   ]
  },
  {
   "cell_type": "code",
   "execution_count": 216,
   "id": "b1774c6c",
   "metadata": {
    "scrolled": false
   },
   "outputs": [],
   "source": [
    "# def mean(numbers):\n",
    "#     return float(sum(numbers)) / max(len(numbers), 1)\n",
    "\n",
    "# # difference1_sel[17]=0\n",
    "# # difference1_sel[18]=0\n",
    "# # difference1_sel[19]=0\n",
    "# # difference1_sel[20]=0\n",
    "# c4 = [mean(i) for i in zip(difference4_sal,difference4_bat,difference4_laf,difference4_mon,difference4_hol,difference4_new,difference4_gai,difference4_fai,difference4_sel,difference4_bow,difference4_gad,difference4_newt)]\n",
    "# #difference1_bow[6]=0\n",
    "# b4 = [np.std(i) for i in zip(difference4_sal,difference4_bat,difference4_laf,difference4_mon,difference4_hol,difference4_new,difference4_gai,difference4_fai,difference4_sel,difference4_bow,difference4_gad,difference4_newt)]\n",
    "# print (c4)\n",
    "# print(len(c4))\n",
    "# print(b4)\n",
    "# print(len(b4))"
   ]
  },
  {
   "cell_type": "code",
   "execution_count": 217,
   "id": "e70a6cef",
   "metadata": {},
   "outputs": [
    {
     "data": {
      "image/png": "[encoded data removed]",
      "text/plain": [
       "<Figure size 792x396 with 1 Axes>"
      ]
     },
     "metadata": {},
     "output_type": "display_data"
    }
   ],
   "source": [
    "plt.style.use('seaborn-whitegrid')\n",
    "plt.rcParams[\"figure.figsize\"] = [11.00, 5.50]\n",
    "plt.rcParams[\"figure.autolayout\"] = True\n",
    "plt.yticks(np.arange(-12,14,2))\n",
    "plt.ylim(-12,12)\n",
    "# c[6]=None\n",
    "# b[6]=None\n",
    "\n",
    "plt.plot(xs,c4,c=\"orange\")\n",
    "plt.errorbar(xs,c4,c=\"orange\",yerr=b4,linestyle='None', marker='s')\n",
    "# c[6]=None\n",
    "# b[6]=None\n",
    "\n",
    "plt.title(\"12-hr Avg. MBE All Stations\")\n",
    "plt.xlabel(\"UTC Hour\")\n",
    "plt.ylabel(\"MBE Soil Temperature (C)\")\n",
    "#plt.plot(hour,c)\n",
    "#plt.errorbar(hour,c,yerr=b,ecolor='r',elinewidth=5,fmt='s',color='k')\n",
    "#plt.grid()\n",
    "#plt.xticks(np.arange(min(xs), max(xs)+1, 1.0))\n",
    "plt.xticks(xs, hour)\n",
    "plt.show()\n",
    "#plt.axvspan(-4, 4, color='green', alpha=0.2, lw=0)"
   ]
  },
  {
   "cell_type": "code",
   "execution_count": 218,
   "id": "9d950af1",
   "metadata": {},
   "outputs": [
    {
     "name": "stdout",
     "output_type": "stream",
     "text": [
      "[-5.35454273 -5.50727273 -5.51635909 -5.55544909 -5.64272364 -5.77090727\n",
      " -5.82908909 -4.70363545 -3.01454364 -1.45       -0.08363545  0.81454545\n",
      "  1.69090909  2.18818182  2.51090909  2.32181818  1.80272727  0.91\n",
      " -0.20454545 -1.43909091 -2.25       -2.74181545 -3.19727091 -3.52090636\n",
      " -3.80181545]\n",
      "[0.81815968 0.78076977 0.7609372  0.68611474 0.78899574 0.7805781\n",
      " 0.81693345 0.75371937 0.8413419  1.0862424  1.54228499 2.0161591\n",
      " 2.3583255  2.55276968 2.51341294 2.51371083 2.33808815 2.12045021\n",
      " 1.90463246 1.76878209 1.67863581 1.56423657 1.57128738 1.45929022\n",
      " 1.44481165]\n"
     ]
    },
    {
     "data": {
      "text/plain": [
       "25"
      ]
     },
     "execution_count": 218,
     "metadata": {},
     "output_type": "execute_result"
    }
   ],
   "source": [
    "# data = np.array([difference1_sal,difference1_sel,difference1_mon])\n",
    "# np.ma.average(data, axis=0)\n",
    "c5 = np.array([difference5_sal,difference5_bat,difference5_laf,difference5_mon,difference5_hol,difference5_new,difference5_fai,difference5_sel,difference5_bow,difference5_gad,difference5_newt])\n",
    "c5=np.nanmean(c5, axis=0)\n",
    "print(c5)\n",
    "len(c5)\n",
    "\n",
    "b5 = np.array([difference5_sal,difference5_bat,difference5_laf,difference5_mon,difference5_hol,difference5_new,difference5_fai,difference5_sel,difference5_bow,difference5_gad,difference5_newt])\n",
    "b5=np.nanstd(b5, axis=0)\n",
    "print(b5)\n",
    "len(b5)"
   ]
  },
  {
   "cell_type": "code",
   "execution_count": 219,
   "id": "ccd6d564",
   "metadata": {},
   "outputs": [
    {
     "data": {
      "image/png": "[encoded data removed]",
      "text/plain": [
       "<Figure size 792x396 with 1 Axes>"
      ]
     },
     "metadata": {},
     "output_type": "display_data"
    }
   ],
   "source": [
    "plt.style.use('seaborn-whitegrid')\n",
    "plt.rcParams[\"figure.figsize\"] = [11.00, 5.50]\n",
    "plt.rcParams[\"figure.autolayout\"] = True\n",
    "plt.yticks(np.arange(-12,14,2))\n",
    "plt.ylim(-12,12)\n",
    "# c[6]=None\n",
    "# b[6]=None\n",
    "\n",
    "plt.plot(xs,c5,c=\"m\")\n",
    "plt.errorbar(xs,c5,c=\"m\",yerr=b1,linestyle='None', marker='s')\n",
    "# c[6]=None\n",
    "# b[6]=None\n",
    "\n",
    "plt.title(\"12-hr Avg. MBE All Stations\")\n",
    "plt.xlabel(\"UTC Hour\")\n",
    "plt.ylabel(\"MBE Soil Temperature (C)\")\n",
    "#plt.plot(hour,c)\n",
    "#plt.errorbar(hour,c,yerr=b,ecolor='r',elinewidth=5,fmt='s',color='k')\n",
    "#plt.grid()\n",
    "#plt.xticks(np.arange(min(xs), max(xs)+1, 1.0))\n",
    "plt.xticks(xs, hour)\n",
    "plt.show()\n",
    "#plt.axvspan(-4, 4, color='green', alpha=0.2, lw=0)"
   ]
  },
  {
   "cell_type": "code",
   "execution_count": 220,
   "id": "6a1cf932",
   "metadata": {},
   "outputs": [
    {
     "name": "stdout",
     "output_type": "stream",
     "text": [
      "[-4.00999727 -4.31909091 -4.62818    -4.88454364 -5.07363545 -5.12272636\n",
      " -4.97181364 -3.49545273 -1.51454545  0.30909091  1.76818182  2.85909091\n",
      "  3.70090909  4.02090909  4.22727273  4.19181818  3.63090909  2.76181818\n",
      "  1.69545455  0.16909091 -0.83363636 -1.53909091 -2.12545455 -2.60727273\n",
      " -3.09909091]\n",
      "[1.70411484 1.61728662 1.52840961 1.40596848 1.38756136 1.44762079\n",
      " 1.4293969  1.42836006 1.522727   1.6634764  2.0603478  2.45609614\n",
      " 2.6949328  2.71252132 2.67744821 2.54366171 2.42055762 2.22770905\n",
      " 1.92479214 1.77224282 1.6419405  1.63616767 1.58069814 1.57926963\n",
      " 1.50101453]\n"
     ]
    },
    {
     "data": {
      "text/plain": [
       "25"
      ]
     },
     "execution_count": 220,
     "metadata": {},
     "output_type": "execute_result"
    }
   ],
   "source": [
    "# data = np.array([difference1_sal,difference1_sel,difference1_mon])\n",
    "# np.ma.average(data, axis=0)\n",
    "c6 = np.array([difference6_sal,difference6_bat,difference6_laf,difference6_mon,difference6_hol,difference6_new,difference6_fai,difference6_sel,difference6_bow,difference6_gad,difference6_newt])\n",
    "c6=np.nanmean(c6, axis=0)\n",
    "print(c6)\n",
    "len(c6)\n",
    "\n",
    "b6 = np.array([difference6_sal,difference6_bat,difference6_laf,difference6_mon,difference6_hol,difference6_new,difference6_fai,difference6_sel,difference6_bow,difference6_gad,difference6_newt])\n",
    "b6=np.nanstd(b6, axis=0)\n",
    "print(b6)\n",
    "len(b6)"
   ]
  },
  {
   "cell_type": "code",
   "execution_count": 221,
   "id": "11ff266d",
   "metadata": {},
   "outputs": [
    {
     "data": {
      "image/png": "[encoded data removed]",
      "text/plain": [
       "<Figure size 792x396 with 1 Axes>"
      ]
     },
     "metadata": {},
     "output_type": "display_data"
    }
   ],
   "source": [
    "plt.style.use('seaborn-whitegrid')\n",
    "plt.rcParams[\"figure.figsize\"] = [11.00, 5.50]\n",
    "plt.rcParams[\"figure.autolayout\"] = True\n",
    "plt.yticks(np.arange(-12,14,2))\n",
    "plt.ylim(-12,12)\n",
    "# c[6]=None\n",
    "# b[6]=None\n",
    "\n",
    "plt.plot(xs,c6,c=\"c\")\n",
    "plt.errorbar(xs,c6,c=\"c\",yerr=b6,linestyle='None', marker='s')\n",
    "# c[6]=None\n",
    "# b[6]=None\n",
    "\n",
    "plt.title(\"12-hr Avg. MBE All Stations\")\n",
    "plt.xlabel(\"UTC Hour\")\n",
    "plt.ylabel(\"MBE Soil Temperature (C)\")\n",
    "#plt.plot(hour,c)\n",
    "#plt.errorbar(hour,c,yerr=b,ecolor='r',elinewidth=5,fmt='s',color='k')\n",
    "#plt.grid()\n",
    "#plt.xticks(np.arange(min(xs), max(xs)+1, 1.0))\n",
    "plt.xticks(xs, hour)\n",
    "plt.show()\n",
    "#plt.axvspan(-4, 4, color='green', alpha=0.2, lw=0)"
   ]
  },
  {
   "cell_type": "code",
   "execution_count": 222,
   "id": "240eafe4",
   "metadata": {},
   "outputs": [
    {
     "data": {
      "image/png": "[encoded data removed]",
      "text/plain": [
       "<Figure size 792x396 with 1 Axes>"
      ]
     },
     "metadata": {},
     "output_type": "display_data"
    }
   ],
   "source": [
    "plt.style.use('seaborn-whitegrid')\n",
    "plt.rcParams[\"figure.figsize\"] = [11.00, 5.50]\n",
    "plt.rcParams[\"figure.autolayout\"] = True\n",
    "plt.yticks(np.arange(-12,14,2))\n",
    "plt.ylim(-12,12)\n",
    "\n",
    "plt.plot(xs,c1,c=\"b\",label=\"IOP 1\")\n",
    "plt.errorbar(xs,c1,c=\"b\",yerr=b1,linestyle='None', marker='s')\n",
    "\n",
    "plt.plot(xs,c2,c=\"r\",label=\"IOP 2\")\n",
    "plt.errorbar(xs,c2,c=\"r\",yerr=b2,linestyle='None', marker='s')\n",
    "\n",
    "plt.plot(xs,c3,c=\"green\")\n",
    "plt.errorbar(xs,c3,c=\"green\",yerr=b3,linestyle='None', marker='s')\n",
    "\n",
    "plt.plot(xs,c4,c=\"orange\")\n",
    "plt.errorbar(xs,c4,c=\"orange\",yerr=b4,linestyle='None', marker='s')\n",
    "\n",
    "plt.plot(xs,c5,c=\"m\")\n",
    "plt.errorbar(xs,c5,c=\"m\",yerr=b5,linestyle='None', marker='s')\n",
    "\n",
    "plt.plot(xs,c6,c=\"c\")\n",
    "plt.errorbar(xs,c6,c=\"c\",yerr=b6,linestyle='None', marker='s')\n",
    "\n",
    "plt.title(\"12-hr Avg. MBE All Stations\")\n",
    "plt.xlabel(\"UTC Hour\")\n",
    "plt.ylabel(\"MBE Soil Temperature (C)\")\n",
    "#plt.plot(hour,c)\n",
    "#plt.errorbar(hour,c,yerr=b,ecolor='r',elinewidth=5,fmt='s',color='k')\n",
    "#plt.grid()\n",
    "plt.xticks(xs, hour)\n",
    "plt.legend([\"IOP 1\", \"IOP 2\",\"IOP 3\",\"IOP 4\",\"IOP 5\",\"IOP 6\"], loc =\"upper right\")\n",
    "plt.show()"
   ]
  }
 ],
 "metadata": {
  "kernelspec": {
   "display_name": "Python 3 (ipykernel)",
   "language": "python",
   "name": "python3"
  },
  "language_info": {
   "codemirror_mode": {
    "name": "ipython",
    "version": 3
   },
   "file_extension": ".py",
   "mimetype": "text/x-python",
   "name": "python",
   "nbconvert_exporter": "python",
   "pygments_lexer": "ipython3",
   "version": "3.9.12"
  }
 },
 "nbformat": 4,
 "nbformat_minor": 5
}
