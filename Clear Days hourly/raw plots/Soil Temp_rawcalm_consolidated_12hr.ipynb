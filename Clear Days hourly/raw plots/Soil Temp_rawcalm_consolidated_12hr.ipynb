{
 "cells": [
  {
   "cell_type": "code",
   "execution_count": 1,
   "id": "83d28093",
   "metadata": {},
   "outputs": [],
   "source": [
    "import numpy as np\n",
    "import matplotlib.pyplot as plt\n",
    "import math\n",
    "import numpy.ma as ma"
   ]
  },
  {
   "cell_type": "markdown",
   "id": "18ad22a0",
   "metadata": {},
   "source": [
    "<font size=\"3\">Salem, MO: 0600 UTC (12:00 am CST) 01 March 2022-0600 UTC (12:00 am CST) 02 March 2022</font>"
   ]
  },
  {
   "cell_type": "code",
   "execution_count": 2,
   "id": "9d3b9481",
   "metadata": {},
   "outputs": [
    {
     "name": "stdout",
     "output_type": "stream",
     "text": [
      "[3.94, 3.14999, 2.64999, 2.35001, 1.82001, 2.38, 2.08002, 2.36002, 3.58002, 5.95999, 8.39001, 10.68, 13.09, 15.71, 17.41, 18.21, 18.38, 17.47, 15.33, 13.06, 11.78, 10.56, 9.61002, 8.83002, 8.30002]\n",
      "25\n"
     ]
    }
   ],
   "source": [
    "#1 hr hrrr:\n",
    "with open('hrrr_f12_Salem_MO.txt') as f:\n",
    "    lst=[line.split()[5] for line in f]\n",
    "    temp_sal1=[]\n",
    "    for i in lst:\n",
    "        new=i.replace(',',\"\")\n",
    "        temp_sal1.append(new)\n",
    "    temp_sal1.pop(0)\n",
    "    temp_sal1=[float(x) for x in temp_sal1]\n",
    "    temp_sal1=temp_sal1[1410:1435]\n",
    "    #temp=temp[2015:2063]\n",
    "    print(temp_sal1)\n",
    "    print(len(temp_sal1))\n",
    "#full time period is [2015:2112]"
   ]
  },
  {
   "cell_type": "code",
   "execution_count": 3,
   "id": "e9d4dbcc",
   "metadata": {},
   "outputs": [
    {
     "name": "stdout",
     "output_type": "stream",
     "text": [
      "[1.4, 1.3, 1.2, 1.2, 1.2, 1.1, 1.1, 1.1, 1.1, 1.1, 1.4, 2.2, 3.1, 3.9, 4.5, 5.0, 5.2, 5.2, 5.0, 4.8, 4.5, 4.2, 3.9, 3.6, 3.4]\n",
      "25\n"
     ]
    }
   ],
   "source": [
    "#Air Temp CRN:\n",
    "with open('CRNH0203-2022-MO_Salem_10_W.txt') as f:\n",
    "    lst=[line.split()[33] for line in f]\n",
    "    #print(lst)\n",
    "    temp_crn_sal1=[]\n",
    "    for i in lst:\n",
    "        new=i.replace(',',\"\")\n",
    "        temp_crn_sal1.append(new)\n",
    "    temp_crn_sal1=[float(x) for x in temp_crn_sal1]\n",
    "    temp_crn_sal1=temp_crn_sal1[1421:1446]\n",
    "    print(temp_crn_sal1)\n",
    "    print(len(temp_crn_sal1))\n",
    "    # print(temp_crn[2124])"
   ]
  },
  {
   "cell_type": "code",
   "execution_count": 4,
   "id": "1e9aed03-d99c-4045-812a-e26bcc99b84f",
   "metadata": {},
   "outputs": [],
   "source": [
    "# difference1_sal = []\n",
    "\n",
    "# zip_object = zip(temp, temp_crn)\n",
    "# for temp_i, temp_crn_i in zip_object:\n",
    "#     difference1_sal.append(temp_i-temp_crn_i)\n",
    "\n",
    "# print(difference1_sal)"
   ]
  },
  {
   "cell_type": "markdown",
   "id": "9043c519",
   "metadata": {},
   "source": [
    "<font size=\"3\">Batesville, AR: 0600 UTC (12:00 am CST) 01 March 2022-0600 UTC (12:00 am CST) 02 March 2022</font>"
   ]
  },
  {
   "cell_type": "code",
   "execution_count": 5,
   "id": "af395ecc",
   "metadata": {},
   "outputs": [
    {
     "name": "stdout",
     "output_type": "stream",
     "text": [
      "[4.76001, 4.69, 4.09, 3.60001, 3.36002, 2.88, 2.66, 2.08002, 3.14001, 6.31, 9.57001, 12.19, 14.35, 15.82, 16.75, 17.06, 16.85, 15.85, 13.86, 11.69, 10.48, 9.67001, 9.07001, 8.70001, 8.20001]\n",
      "25\n"
     ]
    }
   ],
   "source": [
    "#1 hr hrrr:\n",
    "with open('hrrr_f12_Batesville_AR.txt') as f:\n",
    "    lst=[line.split()[5] for line in f]\n",
    "    temp_bat1=[]\n",
    "    for i in lst:\n",
    "        new=i.replace(',',\"\")\n",
    "        temp_bat1.append(new)\n",
    "    temp_bat1.pop(0)\n",
    "    temp_bat1=[float(x) for x in temp_bat1]\n",
    "    temp_bat1=temp_bat1[1410:1435]\n",
    "#     x = np.array(temp)\n",
    "#     temp = ma.masked_array(x, mask=[0, 0, 0, 0, 0,0,0,0,0,0,0,0,0,0,0,0,0,0,0,0,0,1,0,0,0])\n",
    "    #temp=temp[2015:2063]\n",
    "    print(temp_bat1)\n",
    "    print(len(temp_bat1))\n",
    "#full time period is [2015:2112]"
   ]
  },
  {
   "cell_type": "code",
   "execution_count": 6,
   "id": "11b7f8b7",
   "metadata": {},
   "outputs": [
    {
     "name": "stdout",
     "output_type": "stream",
     "text": [
      "[6.0, 5.7, 5.5, 5.1, 4.9, 4.7, 4.5, 4.3, 4.2, 4.7, 5.7, 6.7, 8.0, 9.1, 9.9, 10.3, 10.4, 10.2, 9.8, 9.3, 8.8, 8.4, 8.0, 7.5, 7.2]\n"
     ]
    }
   ],
   "source": [
    "#Air Temp CRN:\n",
    "with open('CRNH0203-2022-AR_Batesville_8_WNW.txt') as f:\n",
    "    lst=[line.split()[33] for line in f]\n",
    "    #print(lst)\n",
    "    temp_crn_bat1=[]\n",
    "    for i in lst:\n",
    "        new=i.replace(',',\"\")\n",
    "        temp_crn_bat1.append(new)\n",
    "    temp_crn_bat1=[float(x) for x in temp_crn_bat1]\n",
    "    temp_crn_bat1=temp_crn_bat1[1421:1446]\n",
    "#     y = np.array(temp_crn)\n",
    "#     temp_crn = ma.masked_array(y, mask=[0, 0, 0, 0, 0,0,0,0,0,0,0,0,0,0,0,0,0,0,0,0,0,1,0,0,0])\n",
    "    print(temp_crn_bat1)\n",
    "    #print(len(temp_crn))\n",
    "    # print(temp_crn[2124])"
   ]
  },
  {
   "cell_type": "code",
   "execution_count": 7,
   "id": "62a46873",
   "metadata": {},
   "outputs": [],
   "source": [
    "# difference1_bat = []\n",
    "\n",
    "# zip_object = zip(temp, temp_crn)\n",
    "# for temp_i, temp_crn_i in zip_object:\n",
    "#     difference1_bat.append(temp_i-temp_crn_i)\n",
    "\n",
    "# print(difference1_bat)"
   ]
  },
  {
   "cell_type": "markdown",
   "id": "2a2589df",
   "metadata": {},
   "source": [
    "<font size=\"3\">Lafayette, LA: 0600 UTC (12:00 am CST) 01 March 2022-0600 UTC (12:00 am CST) 02 March 2022</font>"
   ]
  },
  {
   "cell_type": "code",
   "execution_count": 8,
   "id": "3fd34af2",
   "metadata": {},
   "outputs": [
    {
     "name": "stdout",
     "output_type": "stream",
     "text": [
      "[10.52, 9.44, 8.60001, 7.87, 6.98001, 6.58002, 5.95999, 5.33002, 6.77002, 10.5, 14.84, 18.38, 21.15, 23.48, 24.87, 25.39, 24.63, 22.68, 21.31, 18.36, 16.79, 15.67, 14.35, 13.0, 12.06]\n"
     ]
    }
   ],
   "source": [
    "#1 hr hrrr:\n",
    "with open('hrrr_f12_Lafayette_LA.txt') as f:\n",
    "    lst=[line.split()[5] for line in f]\n",
    "    temp_laf1=[]\n",
    "    for i in lst:\n",
    "        new=i.replace(',',\"\")\n",
    "        temp_laf1.append(new)\n",
    "    temp_laf1.pop(0)\n",
    "    temp_laf1=[float(x) for x in temp_laf1]\n",
    "    temp_laf1=temp_laf1[1410:1435]\n",
    "    #temp=temp[2015:2063]\n",
    "    print(temp_laf1)\n",
    "    #print(len(temp))\n",
    "#full time period is [2015:2112]"
   ]
  },
  {
   "cell_type": "code",
   "execution_count": 9,
   "id": "bfe1bb32",
   "metadata": {},
   "outputs": [
    {
     "name": "stdout",
     "output_type": "stream",
     "text": [
      "[13.9, 13.7, 13.3, 13.1, 12.9, 12.6, 12.4, 12.2, 12.0, 12.1, 12.4, 12.9, 13.6, 14.3, 15.0, 15.5, 15.8, 15.9, 15.7, 15.6, 15.2, 14.9, 14.7, 14.4, 14.0]\n"
     ]
    }
   ],
   "source": [
    "#Air Temp CRN:\n",
    "with open('CRNH0203-2022-LA_Lafayette_13_SE.txt') as f:\n",
    "    lst=[line.split()[33] for line in f]\n",
    "    #print(lst)\n",
    "    temp_crn_laf1=[]\n",
    "    for i in lst:\n",
    "        new=i.replace(',',\"\")\n",
    "        temp_crn_laf1.append(new)\n",
    "    temp_crn_laf1=[float(x) for x in temp_crn_laf1]\n",
    "    temp_crn_laf1=temp_crn_laf1[1421:1446]\n",
    "    print(temp_crn_laf1)\n",
    "    #print(len(temp_crn))\n",
    "    # print(temp_crn[2124])"
   ]
  },
  {
   "cell_type": "code",
   "execution_count": 10,
   "id": "9b94d0f9",
   "metadata": {},
   "outputs": [],
   "source": [
    "# difference1_laf = []\n",
    "\n",
    "# zip_object = zip(temp, temp_crn)\n",
    "# for temp_i, temp_crn_i in zip_object:\n",
    "#     difference1_laf.append(temp_i-temp_crn_i)\n",
    "\n",
    "# print(difference1_laf)"
   ]
  },
  {
   "cell_type": "markdown",
   "id": "7a8d079f",
   "metadata": {},
   "source": [
    "<font size=\"3\">Monroe, LA: 0600 UTC (12:00 am CST) 01 March 2022-0600 UTC (12:00 am CST) 02 March 2022</font>"
   ]
  },
  {
   "cell_type": "code",
   "execution_count": 11,
   "id": "9c6d2382",
   "metadata": {},
   "outputs": [
    {
     "name": "stdout",
     "output_type": "stream",
     "text": [
      "[5.17001, 5.02002, 5.08002, 4.86002, 4.35001, 4.11002, 4.39001, 3.83002, 4.08002, 6.82001, 9.76001, 12.33, 14.39, 15.96, 17.28, 18.0, 18.32, 17.32, 14.96, 12.58, 11.29, 10.44, 10.26, 9.63, 9.14001]\n"
     ]
    }
   ],
   "source": [
    "#1 hr hrrr:\n",
    "with open('hrrr_f12_Monroe_LA.txt') as f:\n",
    "    lst=[line.split()[5] for line in f]\n",
    "    temp_mon1=[]\n",
    "    for i in lst:\n",
    "        new=i.replace(',',\"\")\n",
    "        temp_mon1.append(new)\n",
    "    temp_mon1.pop(0)\n",
    "    temp_mon1=[float(x) for x in temp_mon1]\n",
    "    temp_mon1=temp_mon1[1410:1435]\n",
    "    #temp=temp[2015:2063]\n",
    "    print(temp_mon1)\n",
    "    #print(len(temp))\n",
    "#full time period is [2015:2112]"
   ]
  },
  {
   "cell_type": "code",
   "execution_count": 12,
   "id": "5c3999a7",
   "metadata": {},
   "outputs": [
    {
     "name": "stdout",
     "output_type": "stream",
     "text": [
      "[9.3, 8.9, 8.7, 8.5, 8.3, 8.0, 7.7, 7.4, 7.3, 7.5, 8.5, 9.6, 11.0, 12.2, 13.3, 14.0, 14.2, 14.0, 13.5, 12.9, 12.2, 11.6, 11.2, 10.7, 10.2]\n"
     ]
    }
   ],
   "source": [
    "#Air Temp CRN:\n",
    "with open('CRNH0203-2022-LA_Monroe_26_N.txt') as f:\n",
    "    lst=[line.split()[33] for line in f]\n",
    "    #print(lst)\n",
    "    temp_crn_mon1=[]\n",
    "    for i in lst:\n",
    "        new=i.replace(',',\"\")\n",
    "        temp_crn_mon1.append(new)\n",
    "    temp_crn_mon1=[float(x) for x in temp_crn_mon1]\n",
    "    temp_crn_mon1=temp_crn_mon1[1421:1446]\n",
    "    print(temp_crn_mon1)\n",
    "    #print(len(temp_crn))\n",
    "    # print(temp_crn[2124])"
   ]
  },
  {
   "cell_type": "code",
   "execution_count": 13,
   "id": "2b4e383a",
   "metadata": {},
   "outputs": [],
   "source": [
    "# difference1_mon = []\n",
    "\n",
    "# zip_object = zip(temp, temp_crn)\n",
    "# for temp_i, temp_crn_i in zip_object:\n",
    "#     difference1_mon.append(temp_i-temp_crn_i)\n",
    "\n",
    "# print(difference1_mon)"
   ]
  },
  {
   "cell_type": "markdown",
   "id": "26c585ff",
   "metadata": {},
   "source": [
    "<font size=\"3\">Holly Springs, MS: 0600 UTC (12:00 am CST) 01 March 2022-0600 UTC (12:00 am CST) 02 March 2022</font>"
   ]
  },
  {
   "cell_type": "code",
   "execution_count": 14,
   "id": "175bd35c",
   "metadata": {},
   "outputs": [
    {
     "name": "stdout",
     "output_type": "stream",
     "text": [
      "[4.52002, 4.11002, 3.88, 3.73001, 3.83002, 3.44, 3.37, 2.87, 4.05002, 6.49002, 8.70001, 10.44, 12.05, 13.25, 13.86, 14.0, 13.87, 13.2, 11.63, 10.33, 9.64999, 9.39999, 9.08002, 8.58002, 8.45999]\n"
     ]
    }
   ],
   "source": [
    "#1 hr hrrr:\n",
    "with open('hrrr_f12_Holly Springs_MS.txt') as f:\n",
    "    lst=[line.split()[5] for line in f]\n",
    "    temp_hol1=[]\n",
    "    for i in lst:\n",
    "        new=i.replace(',',\"\")\n",
    "        temp_hol1.append(new)\n",
    "    temp_hol1.pop(0)\n",
    "    temp_hol1=[float(x) for x in temp_hol1]\n",
    "    temp_hol1=temp_hol1[1410:1435]\n",
    "    #temp=temp[2015:2063]\n",
    "    print(temp_hol1)\n",
    "    #print(len(temp))\n",
    "#full time period is [2015:2112]"
   ]
  },
  {
   "cell_type": "code",
   "execution_count": 15,
   "id": "19a3055f",
   "metadata": {},
   "outputs": [
    {
     "name": "stdout",
     "output_type": "stream",
     "text": [
      "[7.0, 6.8, 6.6, 6.4, 6.2, 6.0, 5.8, 5.6, 5.4, 5.6, 6.4, 7.4, 8.5, 9.5, 10.2, 10.7, 10.9, 10.8, 10.3, 9.9, 9.5, 9.1, 8.7, 8.5, 8.3]\n"
     ]
    }
   ],
   "source": [
    "#Air Temp CRN:\n",
    "with open('CRNH0203-2022-MS_Holly_Springs_4_N.txt') as f:\n",
    "    lst=[line.split()[33] for line in f]\n",
    "    #print(lst)\n",
    "    temp_crn_hol1=[]\n",
    "    for i in lst:\n",
    "        new=i.replace(',',\"\")\n",
    "        temp_crn_hol1.append(new)\n",
    "    temp_crn_hol1=[float(x) for x in temp_crn_hol1]\n",
    "    temp_crn_hol1=temp_crn_hol1[1421:1446]\n",
    "    print(temp_crn_hol1)\n",
    "    #print(len(temp_crn))\n",
    "    # print(temp_crn[2124])"
   ]
  },
  {
   "cell_type": "code",
   "execution_count": 16,
   "id": "46b095cb",
   "metadata": {},
   "outputs": [],
   "source": [
    "# difference1_hol = []\n",
    "\n",
    "# zip_object = zip(temp, temp_crn)\n",
    "# for temp_i, temp_crn_i in zip_object:\n",
    "#     difference1_hol.append(temp_i-temp_crn_i)\n",
    "\n",
    "# print(difference1_hol)"
   ]
  },
  {
   "cell_type": "markdown",
   "id": "1c76c308",
   "metadata": {},
   "source": [
    "<font size=\"3\">Newton, MS: 0600 UTC (12:00 am CST) 01 March 2022-0600 UTC (12:00 am CST) 02 March 2022</font>"
   ]
  },
  {
   "cell_type": "code",
   "execution_count": 17,
   "id": "06decf86",
   "metadata": {},
   "outputs": [
    {
     "name": "stdout",
     "output_type": "stream",
     "text": [
      "[7.03, 6.32001, 5.73001, 5.23001, 4.89999, 4.87, 4.16, 3.52002, 5.57001, 9.92001, 13.85, 16.73, 19.41, 20.96, 22.05, 22.13, 21.48, 20.38, 17.66, 15.0, 13.38, 12.34, 11.25, 9.87, 8.77002]\n"
     ]
    }
   ],
   "source": [
    "#1 hr hrrr:\n",
    "with open('hrrr_f12_Newton_MS.txt') as f:\n",
    "    lst=[line.split()[5] for line in f]\n",
    "    temp_new1=[]\n",
    "    for i in lst:\n",
    "        new=i.replace(',',\"\")\n",
    "        temp_new1.append(new)\n",
    "    temp_new1.pop(0)\n",
    "    temp_new1=[float(x) for x in temp_new1]\n",
    "    temp_new1=temp_new1[1410:1435]\n",
    "    #temp=temp[2015:2063]\n",
    "    print(temp_new1)\n",
    "    #print(len(temp))\n",
    "#full time period is [2015:2112]"
   ]
  },
  {
   "cell_type": "code",
   "execution_count": 18,
   "id": "3fb09a0f",
   "metadata": {},
   "outputs": [
    {
     "name": "stdout",
     "output_type": "stream",
     "text": [
      "[9.8, 9.4, 9.1, 8.8, 8.5, 8.2, 8.1, 8.2, 8.8, 10.3, 12.3, 13.8, 15.1, 16.2, 16.7, 16.5, 16.0, 15.3, 14.2, 13.2, 12.5, 11.9, 11.3, 10.9, 10.5]\n"
     ]
    }
   ],
   "source": [
    "#Air Temp CRN:\n",
    "with open('CRNH0203-2022-MS_Newton_5_ENE.txt') as f:\n",
    "    lst=[line.split()[33] for line in f]\n",
    "    #print(lst)\n",
    "    temp_crn_new1=[]\n",
    "    for i in lst:\n",
    "        new=i.replace(',',\"\")\n",
    "        temp_crn_new1.append(new)\n",
    "    temp_crn_new1=[float(x) for x in temp_crn_new1]\n",
    "    temp_crn_new1=temp_crn_new1[1421:1446]\n",
    "    print(temp_crn_new1)\n",
    "    #print(len(temp_crn))\n",
    "    # print(temp_crn[2124])"
   ]
  },
  {
   "cell_type": "code",
   "execution_count": 19,
   "id": "e588ab70",
   "metadata": {},
   "outputs": [],
   "source": [
    "# difference1_new = []\n",
    "\n",
    "# zip_object = zip(temp, temp_crn)\n",
    "# for temp_i, temp_crn_i in zip_object:\n",
    "#     difference1_new.append(temp_i-temp_crn_i)\n",
    "\n",
    "# print(difference1_new)"
   ]
  },
  {
   "cell_type": "markdown",
   "id": "c9620694",
   "metadata": {},
   "source": [
    "<font size=\"3\">Gainesville, AL: 0600 UTC (12:00 am CST) 01 March 2022-0600 UTC (12:00 am CST) 02 March 2022</font>"
   ]
  },
  {
   "cell_type": "code",
   "execution_count": 20,
   "id": "a422cd03",
   "metadata": {},
   "outputs": [],
   "source": [
    "# #1 hr hrrr:\n",
    "# with open('hrrr_f12_Gainesville_AL.txt') as f:\n",
    "#     lst=[line.split()[5] for line in f]\n",
    "#     temp=[]\n",
    "#     for i in lst:\n",
    "#         new=i.replace(',',\"\")\n",
    "#         temp.append(new)\n",
    "#     temp.pop(0)\n",
    "#     temp=[float(x) for x in temp]\n",
    "#     temp=temp[1410:1435]\n",
    "#     #temp=temp[2015:2063]\n",
    "#     print(temp)\n",
    "#     #print(len(temp))\n",
    "# #full time period is [2015:2112]"
   ]
  },
  {
   "cell_type": "code",
   "execution_count": 21,
   "id": "2c97e541",
   "metadata": {},
   "outputs": [],
   "source": [
    "# #Air Temp CRN:\n",
    "# with open('CRNH0203-2022-AL_Gainesville_2_NE.txt') as f:\n",
    "#     lst=[line.split()[33] for line in f]\n",
    "#     #print(lst)\n",
    "#     temp_crn=[]\n",
    "#     for i in lst:\n",
    "#         new=i.replace(',',\"\")\n",
    "#         temp_crn.append(new)\n",
    "#     temp_crn=[float(x) for x in temp_crn]\n",
    "#     temp_crn=temp_crn[1410:1435]\n",
    "#     print(temp_crn)\n",
    "#     #print(len(temp_crn))\n",
    "#     # print(temp_crn[2124])"
   ]
  },
  {
   "cell_type": "code",
   "execution_count": 22,
   "id": "8df76a7b",
   "metadata": {},
   "outputs": [],
   "source": [
    "# difference1_gai = []\n",
    "\n",
    "# zip_object = zip(temp, temp_crn)\n",
    "# for temp_i, temp_crn_i in zip_object:\n",
    "#     difference1_gai.append(temp_i-temp_crn_i)\n",
    "\n",
    "# print(difference1_gai)"
   ]
  },
  {
   "cell_type": "markdown",
   "id": "2711dc15",
   "metadata": {},
   "source": [
    "<font size=\"3\">Fairhope, AL: 0600 UTC (12:00 am CST) 01 March 2022-0600 UTC (12:00 am CST) 02 March 2022</font>"
   ]
  },
  {
   "cell_type": "code",
   "execution_count": 23,
   "id": "64dbcf91",
   "metadata": {},
   "outputs": [
    {
     "name": "stdout",
     "output_type": "stream",
     "text": [
      "[10.61, 10.13, 9.58002, 9.29001, 8.98001, 8.47, 8.20999, 8.01001, 9.76001, 12.78, 16.19, 19.34, 21.36, 22.49, 22.76, 22.68, 22.41, 20.35, 17.51, 15.62, 14.45, 12.98, 12.31, 11.52, 10.61]\n"
     ]
    }
   ],
   "source": [
    "#1 hr hrrr:\n",
    "with open('hrrr_f12_Fairhope_AL.txt') as f:\n",
    "    lst=[line.split()[5] for line in f]\n",
    "    temp_fai1=[]\n",
    "    for i in lst:\n",
    "        new=i.replace(',',\"\")\n",
    "        temp_fai1.append(new)\n",
    "    temp_fai1.pop(0)\n",
    "    temp_fai1=[float(x) for x in temp_fai1]\n",
    "    temp_fai1=temp_fai1[1410:1435]\n",
    "    #temp=temp[2015:2063]\n",
    "    print(temp_fai1)\n",
    "    #print(len(temp))\n",
    "#full time period is [2015:2112]"
   ]
  },
  {
   "cell_type": "code",
   "execution_count": 24,
   "id": "4df09785",
   "metadata": {},
   "outputs": [
    {
     "name": "stdout",
     "output_type": "stream",
     "text": [
      "[14.4, 14.3, 14.2, 14.1, 14.0, 13.7, 13.6, 13.6, 13.4, 13.5, 13.7, 14.1, 14.5, 15.2, 15.5, 15.7, 15.9, 16.0, 15.7, 15.6, 15.2, 15.0, 14.7, 14.5, 14.2]\n"
     ]
    }
   ],
   "source": [
    "#Air Temp CRN:\n",
    "with open('CRNH0203-2022-AL_Fairhope_3_NE.txt') as f:\n",
    "    lst=[line.split()[33] for line in f]\n",
    "    #print(lst)\n",
    "    temp_crn_fai1=[]\n",
    "    for i in lst:\n",
    "        new=i.replace(',',\"\")\n",
    "        temp_crn_fai1.append(new)\n",
    "    temp_crn_fai1=[float(x) for x in temp_crn_fai1]\n",
    "    temp_crn_fai1=temp_crn_fai1[1421:1446]\n",
    "    print(temp_crn_fai1)\n",
    "    #print(len(temp_crn))\n",
    "    # print(temp_crn[2124])"
   ]
  },
  {
   "cell_type": "code",
   "execution_count": 25,
   "id": "a9ff3306",
   "metadata": {},
   "outputs": [],
   "source": [
    "# difference1_fai = []\n",
    "\n",
    "# zip_object = zip(temp, temp_crn)\n",
    "# for temp_i, temp_crn_i in zip_object:\n",
    "#     difference1_fai.append(temp_i-temp_crn_i)\n",
    "\n",
    "# print(difference1_fai)"
   ]
  },
  {
   "cell_type": "markdown",
   "id": "f5dd4e4b",
   "metadata": {},
   "source": [
    "<font size=\"3\">**Selma, AL: 0600 UTC (12:00 am CST) 01 March 2022-0600 UTC (12:00 am CST) 02 March 2022</font>"
   ]
  },
  {
   "cell_type": "code",
   "execution_count": 26,
   "id": "af6b46b1",
   "metadata": {},
   "outputs": [
    {
     "name": "stdout",
     "output_type": "stream",
     "text": [
      "[7.45999, 6.84, 6.33002, 5.92999, 5.77002, 5.14001, 4.66, 4.57001, 6.58002, 9.66, 12.28, 14.62, 16.52, 18.5, 19.8, 20.14, 19.58, 18.34, 15.74, 13.47, 11.99, 11.02, 10.08, 8.94, 8.09]\n",
      "[10.0, 9.6, 9.2, 8.8, 8.6, 8.2, 8.1, 8.0, 8.0, 8.4, 9.3, 11.2, 12.9, 14.2, 14.7, 15.0, 14.9, 14.5, 14.0, 13.2, 12.4, 11.8, 11.2, 10.8, 10.3]\n"
     ]
    }
   ],
   "source": [
    "#1 hr hrrr:\n",
    "import numpy as np\n",
    "import numpy.ma as ma\n",
    "with open('hrrr_f12_Selma_AL.txt') as f:\n",
    "    lst=[line.split()[5] for line in f]\n",
    "    temp_sel1=[]\n",
    "    for i in lst:\n",
    "        new=i.replace(',',\"\")\n",
    "        temp_sel1.append(new)\n",
    "    temp_sel1.pop(0)\n",
    "    temp_sel1=[float(x) for x in temp_sel1]\n",
    "    temp_sel1=temp_sel1[1410:1435]\n",
    "\n",
    "#     x = np.array(temp)\n",
    "#     temp = ma.masked_array(x, mask=[0, 0, 0, 0, 0,0,0,0,0,0,0,0,0,0,0,0,0,1,1,1,1,0,0,0,0])\n",
    "    #print(temp)\n",
    "#Air Temp CRN:\n",
    "with open('CRNH0203-2022-AL_Selma_13_WNW.txt') as f:\n",
    "    lst=[line.split()[33] for line in f]\n",
    "    #print(lst)\n",
    "    temp_crn_sel1=[]\n",
    "    for i in lst:\n",
    "        new=i.replace(',',\"\")\n",
    "        temp_crn_sel1.append(new)\n",
    "    temp_crn_sel1=[float(x) for x in temp_crn_sel1]\n",
    "    temp_crn_sel1=temp_crn_sel1[1421:1446]\n",
    "#     y = np.array(temp_crn)\n",
    "#     temp_crn = ma.masked_array(y, mask=[0, 0, 0, 0, 0,0,0,0,0,0,0,0,0,0,0,0,0,1,1,1,1,0,0,0,0])\n",
    "    print(temp_sel1)\n",
    "    #print(len(temp))\n",
    "    print(temp_crn_sel1)\n",
    "    #print(len(temp_crn))\n",
    "#full time period is [2015:2112]\n",
    "# difference1_sel = []\n",
    "\n",
    "# zip_object = zip(temp, temp_crn)\n",
    "# for temp_i, temp_crn_i in zip_object:\n",
    "#     difference1_sel.append(temp_i-temp_crn_i)\n",
    "\n",
    "# print(difference1_sel)\n",
    "# print(len(difference1_sel))"
   ]
  },
  {
   "cell_type": "markdown",
   "id": "8fab4bdc",
   "metadata": {},
   "source": [
    "<font size=\"3\">Bowling Green, KY: 0600 UTC (12:00 am CST) 01 March 2022-0600 UTC (12:00 am CST) 02 March 2022</font>"
   ]
  },
  {
   "cell_type": "code",
   "execution_count": 27,
   "id": "bf608647",
   "metadata": {},
   "outputs": [
    {
     "name": "stdout",
     "output_type": "stream",
     "text": [
      "[4.02002, 3.17999, 2.73001, 2.17001, 1.97, 1.83002, 1.64001, 1.64001, 3.22, 5.81, 8.66, 11.18, 13.77, 15.83, 16.99, 17.21, 16.76, 15.5, 13.61, 12.13, 11.06, 10.32, 9.80002, 9.16, 8.88]\n"
     ]
    }
   ],
   "source": [
    "#1 hr hrrr:\n",
    "with open('hrrr_f12_Bowling Green_KY.txt') as f:\n",
    "    lst=[line.split()[5] for line in f]\n",
    "    temp_bow1=[]\n",
    "    for i in lst:\n",
    "        new=i.replace(',',\"\")\n",
    "        temp_bow1.append(new)\n",
    "    temp_bow1.pop(0)\n",
    "    temp_bow1=[float(x) for x in temp_bow1]\n",
    "    temp_bow1=temp_bow1[1410:1435]\n",
    "    #temp=temp[2015:2063]\n",
    "    print(temp_bow1)\n",
    "    #print(len(temp))\n",
    "#full time period is [2015:2112]"
   ]
  },
  {
   "cell_type": "code",
   "execution_count": 28,
   "id": "b9e25e31",
   "metadata": {},
   "outputs": [
    {
     "name": "stdout",
     "output_type": "stream",
     "text": [
      "[5.2, 4.8, 4.5, 4.2, 4.1, 3.9, 3.8, 3.7, 3.7, 4.2, 5.3, 6.7, 8.2, 9.4, 10.1, 10.6, 10.6, 10.2, 9.6, 9.0, 8.5, 8.0, 7.6, 7.2, 6.8]\n"
     ]
    }
   ],
   "source": [
    "#Air Temp CRN:\n",
    "with open('CRNH0203-2022-KY_Bowling_Green_21_NNE.txt') as f:\n",
    "    lst=[line.split()[33] for line in f]\n",
    "    #print(lst)\n",
    "    temp_crn_bow1=[]\n",
    "    for i in lst:\n",
    "        new=i.replace(',',\"\")\n",
    "        temp_crn_bow1.append(new)\n",
    "    temp_crn_bow1=[float(x) for x in temp_crn_bow1]\n",
    "    temp_crn_bow1=temp_crn_bow1[1421:1446]\n",
    "    print(temp_crn_bow1)\n",
    "    #print(len(temp_crn))\n",
    "    # print(temp_crn[2124])"
   ]
  },
  {
   "cell_type": "code",
   "execution_count": 29,
   "id": "c1e72531",
   "metadata": {},
   "outputs": [],
   "source": [
    "# difference1_bow = []\n",
    "\n",
    "# zip_object = zip(temp, temp_crn)\n",
    "# for temp_i, temp_crn_i in zip_object:\n",
    "#     difference1_bow.append(temp_i-temp_crn_i)\n",
    "\n",
    "# print(difference1_bow)"
   ]
  },
  {
   "cell_type": "markdown",
   "id": "d1be2cc0",
   "metadata": {},
   "source": [
    "<font size=\"3\">Gadsden, AL: 0600 UTC (12:00 am CST) 01 March 2022-0600 UTC (12:00 am CST) 02 March 2022</font>"
   ]
  },
  {
   "cell_type": "code",
   "execution_count": 30,
   "id": "02793170",
   "metadata": {},
   "outputs": [
    {
     "name": "stdout",
     "output_type": "stream",
     "text": [
      "[5.14999, 4.87, 4.45001, 4.20001, 4.10001, 3.94, 3.60001, 3.19, 4.86002, 7.74002, 9.86002, 11.75, 13.29, 14.25, 14.97, 14.99, 14.5, 13.31, 11.23, 9.72, 8.95999, 8.48001, 8.70999, 8.57001, 7.86002]\n"
     ]
    }
   ],
   "source": [
    "#1 hr hrrr:\n",
    "with open('hrrr_f12_Gadsden_AL.txt') as f:\n",
    "    lst=[line.split()[5] for line in f]\n",
    "    temp_gad1=[]\n",
    "    for i in lst:\n",
    "        new=i.replace(',',\"\")\n",
    "        temp_gad1.append(new)\n",
    "    temp_gad1.pop(0)\n",
    "    temp_gad1=[float(x) for x in temp_gad1]\n",
    "    temp_gad1=temp_gad1[1410:1435]\n",
    "#     x = np.array(temp)\n",
    "#     temp = ma.masked_array(x, mask=[0, 0, 0, 0, 0,0,0,0,1,0,0,0,0,0,0,0,0,0,0,0,0,0,0,0,0])\n",
    "    #temp=temp[2015:2063]\n",
    "    print(temp_gad1)\n",
    "    #print(len(temp))\n",
    "#full time period is [2015:2112]"
   ]
  },
  {
   "cell_type": "code",
   "execution_count": 31,
   "id": "eb5f934d",
   "metadata": {},
   "outputs": [
    {
     "name": "stdout",
     "output_type": "stream",
     "text": [
      "[8.9, 8.6, 8.3, 8.0, 7.9, 7.6, 7.5, 7.2, 7.1, 7.8, 8.7, 9.9, 11.0, 12.1, 13.0, 13.5, 13.4, 13.0, 12.5, 11.8, 11.3, 10.9, 10.3, 10.0, 9.7]\n"
     ]
    }
   ],
   "source": [
    "#Air Temp CRN:\n",
    "with open('CRNH0203-2022-AL_Gadsden_19_N.txt') as f:\n",
    "    lst=[line.split()[33] for line in f]\n",
    "    #print(lst)\n",
    "    temp_crn_gad1=[]\n",
    "    for i in lst:\n",
    "        new=i.replace(',',\"\")\n",
    "        temp_crn_gad1.append(new)\n",
    "    temp_crn_gad1=[float(x) for x in temp_crn_gad1]\n",
    "    temp_crn_gad1=temp_crn_gad1[1421:1446]\n",
    "#     y = np.array(temp_crn)\n",
    "#     temp_crn = ma.masked_array(y, mask=[0, 0, 0, 0, 0,0,0,0,1,0,0,0,0,0,0,0,0,0,0,0,0,0,0,0,0])\n",
    "    print(temp_crn_gad1)\n",
    "    #print(len(temp_crn))\n",
    "    # print(temp_crn[2124])"
   ]
  },
  {
   "cell_type": "code",
   "execution_count": 32,
   "id": "c002ac76",
   "metadata": {},
   "outputs": [],
   "source": [
    "# difference1_gad = []\n",
    "\n",
    "# zip_object = zip(temp, temp_crn)\n",
    "# for temp_i, temp_crn_i in zip_object:\n",
    "#     difference1_gad.append(temp_i-temp_crn_i)\n",
    "\n",
    "# print(difference1_gad)"
   ]
  },
  {
   "cell_type": "markdown",
   "id": "d430f7c6",
   "metadata": {},
   "source": [
    "<font size=\"3\">Newton, GA: 0600 UTC (12:00 am CST) 01 March 2022-0600 UTC (12:00 am CST) 02 March 2022</font>"
   ]
  },
  {
   "cell_type": "code",
   "execution_count": 33,
   "id": "e78bb8bf",
   "metadata": {},
   "outputs": [
    {
     "name": "stdout",
     "output_type": "stream",
     "text": [
      "[10.37, 12.35, 9.70001, 8.84, 8.12, 7.39001, 7.16, 6.89001, 8.88, 11.4, 14.88, 17.6, 20.2, 21.67, 22.7, 22.69, 22.09, 20.77, 18.12, 16.03, 14.8, 13.75, 12.52, 11.7, 10.85]\n"
     ]
    }
   ],
   "source": [
    "#1 hr hrrr:\n",
    "with open('hrrr_f12_Newton_GA.txt') as f:\n",
    "    lst=[line.split()[5] for line in f]\n",
    "    temp_newt1=[]\n",
    "    for i in lst:\n",
    "        new=i.replace(',',\"\")\n",
    "        temp_newt1.append(new)\n",
    "    temp_newt1.pop(0)\n",
    "    temp_newt1=[float(x) for x in temp_newt1]\n",
    "    temp_newt1=temp_newt1[1410:1435]\n",
    "    #temp=temp[2015:2063]\n",
    "    print(temp_newt1)\n",
    "    #print(len(temp))\n",
    "#full time period is [2015:2112]"
   ]
  },
  {
   "cell_type": "code",
   "execution_count": 34,
   "id": "9851cf85",
   "metadata": {},
   "outputs": [
    {
     "name": "stdout",
     "output_type": "stream",
     "text": [
      "[14.5, 14.3, 14.0, 13.7, 13.4, 13.1, 12.9, 12.7, 12.6, 13.1, 13.8, 14.8, 16.0, 17.3, 18.3, 18.8, 18.9, 18.5, 18.0, 17.1, 16.3, 15.7, 15.2, 14.8, 14.4]\n"
     ]
    }
   ],
   "source": [
    "#Air Temp CRN:\n",
    "with open('CRNH0203-2022-GA_Newton_11_SW.txt') as f:\n",
    "    lst=[line.split()[33] for line in f]\n",
    "    #print(lst)\n",
    "    temp_crn_newt1=[]\n",
    "    for i in lst:\n",
    "        new=i.replace(',',\"\")\n",
    "        temp_crn_newt1.append(new)\n",
    "    temp_crn_newt1=[float(x) for x in temp_crn_newt1]\n",
    "    temp_crn_newt1=temp_crn_newt1[1420:1445]\n",
    "    print(temp_crn_newt1)\n",
    "    #print(len(temp_crn))\n",
    "    # print(temp_crn[2124])"
   ]
  },
  {
   "cell_type": "code",
   "execution_count": 35,
   "id": "f2141c03",
   "metadata": {},
   "outputs": [],
   "source": [
    "# difference1_newt = []\n",
    "\n",
    "# zip_object = zip(temp, temp_crn)\n",
    "# for temp_i, temp_crn_i in zip_object:\n",
    "#     difference1_newt.append(temp_i-temp_crn_i)\n",
    "\n",
    "# print(difference1_newt)"
   ]
  },
  {
   "cell_type": "markdown",
   "id": "409e3c59",
   "metadata": {},
   "source": [
    "<font size=\"3\">Salem, MO: 0600 UTC (12:00 am CST) 13 March 2022-0600 UTC (12:00 am CST) 14 March 2022</font>"
   ]
  },
  {
   "cell_type": "code",
   "execution_count": 36,
   "id": "8f9a8b38",
   "metadata": {},
   "outputs": [
    {
     "name": "stdout",
     "output_type": "stream",
     "text": [
      "[0.399994, 0.5, 0.420013, 0.309998, 0.339996, 0.320007, 0.320007, 0.320007, 1.57001, 3.64999, 6.19, 8.84, 11.78, 14.14, 15.55, 16.42, 16.44, 15.67, 14.08, 12.11, 10.93, 9.94, 9.14999, 8.67999, 7.82001]\n",
      "25\n"
     ]
    }
   ],
   "source": [
    "#1 hr hrrr:\n",
    "with open('hrrr_f12_Salem_MO.txt') as f:\n",
    "    lst=[line.split()[5] for line in f]\n",
    "    temp_sal2=[]\n",
    "    for i in lst:\n",
    "        new=i.replace(',',\"\")\n",
    "        temp_sal2.append(new)\n",
    "    temp_sal2.pop(0)\n",
    "    temp_sal2=[float(x) for x in temp_sal2]\n",
    "    temp_sal2=temp_sal2[1698:1723]\n",
    "    #temp=temp[2015:2063]\n",
    "    print(temp_sal2)\n",
    "    print(len(temp_sal2))\n",
    "#full time period is [2015:2112]"
   ]
  },
  {
   "cell_type": "code",
   "execution_count": 37,
   "id": "7cc3ea7c",
   "metadata": {},
   "outputs": [
    {
     "name": "stdout",
     "output_type": "stream",
     "text": [
      "[1.9, 1.9, 1.9, 1.8, 1.8, 1.8, 1.8, 1.8, 1.7, 1.8, 2.0, 2.8, 4.0, 5.2, 6.1, 6.7, 7.0, 6.9, 6.7, 6.3, 5.9, 5.6, 5.3, 5.2, 5.0]\n",
      "25\n"
     ]
    }
   ],
   "source": [
    "#Air Temp CRN:\n",
    "with open('CRNH0203-2022-MO_Salem_10_W.txt') as f:\n",
    "    lst=[line.split()[33] for line in f]\n",
    "    #print(lst)\n",
    "    temp_crn_sal2=[]\n",
    "    for i in lst:\n",
    "        new=i.replace(',',\"\")\n",
    "        temp_crn_sal2.append(new)\n",
    "    temp_crn_sal2=[float(x) for x in temp_crn_sal2]\n",
    "    temp_crn_sal2=temp_crn_sal2[1709:1734]\n",
    "    print(temp_crn_sal2)\n",
    "    print(len(temp_crn_sal2))\n",
    "    # print(temp_crn[2124])"
   ]
  },
  {
   "cell_type": "code",
   "execution_count": 38,
   "id": "b732c951",
   "metadata": {},
   "outputs": [],
   "source": [
    "# difference1_sal = []\n",
    "\n",
    "# zip_object = zip(temp, temp_crn)\n",
    "# for temp_i, temp_crn_i in zip_object:\n",
    "#     difference1_sal.append(temp_i-temp_crn_i)\n",
    "\n",
    "# print(difference1_sal)"
   ]
  },
  {
   "cell_type": "markdown",
   "id": "c23a0832",
   "metadata": {},
   "source": [
    "<font size=\"3\">Batesville, AR: 0600 UTC (12:00 am CST) 01 March 2022-0600 UTC (12:00 am CST) 02 March 2022</font>"
   ]
  },
  {
   "cell_type": "code",
   "execution_count": 39,
   "id": "afca0eea",
   "metadata": {},
   "outputs": [
    {
     "name": "stdout",
     "output_type": "stream",
     "text": [
      "[0.809998, 0.779999, 0.720001, 0.690002, 0.690002, 0.670013, 0.660004, 0.610016, 1.88, 4.23001, 6.59, 8.82001, 10.6, 12.12, 13.3, 14.2, 14.31, 13.65, 12.22, 10.04, 8.59, 7.70999, 6.99002, 6.33002, 5.62]\n",
      "25\n"
     ]
    }
   ],
   "source": [
    "#1 hr hrrr:\n",
    "with open('hrrr_f12_Batesville_AR.txt') as f:\n",
    "    lst=[line.split()[5] for line in f]\n",
    "    temp_bat2=[]\n",
    "    for i in lst:\n",
    "        new=i.replace(',',\"\")\n",
    "        temp_bat2.append(new)\n",
    "    temp_bat2.pop(0)\n",
    "    temp_bat2=[float(x) for x in temp_bat2]\n",
    "    temp_bat2=temp_bat2[1698:1723]\n",
    "#     x = np.array(temp)\n",
    "#     temp = ma.masked_array(x, mask=[0, 0, 0, 0, 0,0,0,0,0,0,0,0,0,0,0,0,0,0,0,0,0,1,0,0,0])\n",
    "    #temp=temp[2015:2063]\n",
    "    print(temp_bat2)\n",
    "    print(len(temp_bat2))\n",
    "#full time period is [2015:2112]"
   ]
  },
  {
   "cell_type": "code",
   "execution_count": 40,
   "id": "71b8963a",
   "metadata": {},
   "outputs": [
    {
     "name": "stdout",
     "output_type": "stream",
     "text": [
      "[5.0, 4.8, 4.7, 4.6, 4.4, 4.4, 4.3, 4.3, 4.3, 4.9, 5.7, 6.6, 7.8, 8.8, 9.5, 9.9, 10.1, 9.9, 9.5, 9.0, 8.6, 8.2, 8.0, 7.8, 7.5]\n"
     ]
    }
   ],
   "source": [
    "#Air Temp CRN:\n",
    "with open('CRNH0203-2022-AR_Batesville_8_WNW.txt') as f:\n",
    "    lst=[line.split()[33] for line in f]\n",
    "    #print(lst)\n",
    "    temp_crn_bat2=[]\n",
    "    for i in lst:\n",
    "        new=i.replace(',',\"\")\n",
    "        temp_crn_bat2.append(new)\n",
    "    temp_crn_bat2=[float(x) for x in temp_crn_bat2]\n",
    "    temp_crn_bat2=temp_crn_bat2[1709:1734]\n",
    "#     y = np.array(temp_crn)\n",
    "#     temp_crn = ma.masked_array(y, mask=[0, 0, 0, 0, 0,0,0,0,0,0,0,0,0,0,0,0,0,0,0,0,0,1,0,0,0])\n",
    "    print(temp_crn_bat2)\n",
    "    #print(len(temp_crn))\n",
    "    # print(temp_crn[2124])"
   ]
  },
  {
   "cell_type": "code",
   "execution_count": 41,
   "id": "7b7cfa5d",
   "metadata": {},
   "outputs": [],
   "source": [
    "# difference1_bat = []\n",
    "\n",
    "# zip_object = zip(temp, temp_crn)\n",
    "# for temp_i, temp_crn_i in zip_object:\n",
    "#     difference1_bat.append(temp_i-temp_crn_i)\n",
    "\n",
    "# print(difference1_bat)"
   ]
  },
  {
   "cell_type": "markdown",
   "id": "16bf265f",
   "metadata": {},
   "source": [
    "<font size=\"3\">Lafayette, LA: 0600 UTC (12:00 am CST) 01 March 2022-0600 UTC (12:00 am CST) 02 March 2022</font>"
   ]
  },
  {
   "cell_type": "code",
   "execution_count": 42,
   "id": "b23c7950",
   "metadata": {},
   "outputs": [
    {
     "name": "stdout",
     "output_type": "stream",
     "text": [
      "[6.16, 5.33002, 4.73001, 4.06, 3.41, 3.14001, 2.73001, 2.44, 4.57001, 8.12, 11.8, 15.14, 17.83, 19.78, 20.82, 21.09, 20.11, 18.63, 16.61, 14.9, 13.49, 12.84, 13.08, 12.21, 11.48]\n"
     ]
    }
   ],
   "source": [
    "#1 hr hrrr:\n",
    "with open('hrrr_f12_Lafayette_LA.txt') as f:\n",
    "    lst=[line.split()[5] for line in f]\n",
    "    temp_laf2=[]\n",
    "    for i in lst:\n",
    "        new=i.replace(',',\"\")\n",
    "        temp_laf2.append(new)\n",
    "    temp_laf2.pop(0)\n",
    "    temp_laf2=[float(x) for x in temp_laf2]\n",
    "    temp_laf2=temp_laf2[1698:1723]\n",
    "    #temp=temp[2015:2063]\n",
    "    print(temp_laf2)\n",
    "    #print(len(temp))\n",
    "#full time period is [2015:2112]"
   ]
  },
  {
   "cell_type": "code",
   "execution_count": 43,
   "id": "dbdffe3b",
   "metadata": {},
   "outputs": [
    {
     "name": "stdout",
     "output_type": "stream",
     "text": [
      "[13.9, 13.6, 13.3, 13.0, 12.8, 12.4, 12.2, 12.0, 11.9, 11.9, 12.2, 12.6, 13.3, 14.1, 14.7, 15.2, 15.4, 15.4, 15.4, 15.1, 14.9, 14.5, 14.3, 14.0, 13.9]\n"
     ]
    }
   ],
   "source": [
    "#Air Temp CRN:\n",
    "with open('CRNH0203-2022-LA_Lafayette_13_SE.txt') as f:\n",
    "    lst=[line.split()[33] for line in f]\n",
    "    #print(lst)\n",
    "    temp_crn_laf2=[]\n",
    "    for i in lst:\n",
    "        new=i.replace(',',\"\")\n",
    "        temp_crn_laf2.append(new)\n",
    "    temp_crn_laf2=[float(x) for x in temp_crn_laf2]\n",
    "    temp_crn_laf2=temp_crn_laf2[1709:1734]\n",
    "    print(temp_crn_laf2)\n",
    "    #print(len(temp_crn))\n",
    "    # print(temp_crn[2124])"
   ]
  },
  {
   "cell_type": "code",
   "execution_count": 44,
   "id": "07cf95c8",
   "metadata": {},
   "outputs": [],
   "source": [
    "# difference2_laf = []\n",
    "\n",
    "# zip_object = zip(temp, temp_crn)\n",
    "# for temp_i, temp_crn_i in zip_object:\n",
    "#     difference2_laf.append(temp_i-temp_crn_i)\n",
    "\n",
    "# print(difference2_laf)"
   ]
  },
  {
   "cell_type": "markdown",
   "id": "cda99a3a",
   "metadata": {},
   "source": [
    "<font size=\"3\">Monroe, LA: 0600 UTC (12:00 am CST) 01 March 2022-0600 UTC (12:00 am CST) 02 March 2022</font>"
   ]
  },
  {
   "cell_type": "code",
   "execution_count": 45,
   "id": "3c145693",
   "metadata": {},
   "outputs": [
    {
     "name": "stdout",
     "output_type": "stream",
     "text": [
      "[2.89001, 2.35001, 1.87, 1.45999, 0.959991, 0.839996, 0.76001, 0.720001, 2.27002, 5.04001, 8.01001, 11.32, 14.29, 16.68, 18.1, 18.64, 18.26, 17.02, 15.07, 12.7, 11.16, 10.08, 9.20001, 8.58002, 7.98001]\n"
     ]
    }
   ],
   "source": [
    "#1 hr hrrr:\n",
    "with open('hrrr_f12_Monroe_LA.txt') as f:\n",
    "    lst=[line.split()[5] for line in f]\n",
    "    temp_mon2=[]\n",
    "    for i in lst:\n",
    "        new=i.replace(',',\"\")\n",
    "        temp_mon2.append(new)\n",
    "    temp_mon2.pop(0)\n",
    "    temp_mon2=[float(x) for x in temp_mon2]\n",
    "    temp_mon2=temp_mon2[1698:1723]\n",
    "    #temp=temp[2015:2063]\n",
    "    print(temp_mon2)\n",
    "    #print(len(temp))\n",
    "#full time period is [2015:2112]"
   ]
  },
  {
   "cell_type": "code",
   "execution_count": 46,
   "id": "d11b7824",
   "metadata": {},
   "outputs": [
    {
     "name": "stdout",
     "output_type": "stream",
     "text": [
      "[9.3, 8.9, 8.6, 8.3, 7.9, 7.7, 7.4, 7.2, 7.1, 7.4, 8.4, 9.7, 10.9, 12.2, 13.1, 13.7, 13.9, 13.6, 13.1, 12.5, 11.9, 11.3, 10.7, 10.4, 10.0]\n"
     ]
    }
   ],
   "source": [
    "#Air Temp CRN:\n",
    "with open('CRNH0203-2022-LA_Monroe_26_N.txt') as f:\n",
    "    lst=[line.split()[33] for line in f]\n",
    "    #print(lst)\n",
    "    temp_crn_mon2=[]\n",
    "    for i in lst:\n",
    "        new=i.replace(',',\"\")\n",
    "        temp_crn_mon2.append(new)\n",
    "    temp_crn_mon2=[float(x) for x in temp_crn_mon2]\n",
    "    temp_crn_mon2=temp_crn_mon2[1709:1734]\n",
    "    print(temp_crn_mon2)\n",
    "    #print(len(temp_crn))\n",
    "    # print(temp_crn[2124])"
   ]
  },
  {
   "cell_type": "code",
   "execution_count": 47,
   "id": "e5057ed5",
   "metadata": {},
   "outputs": [],
   "source": [
    "# difference2_mon = []\n",
    "\n",
    "# zip_object = zip(temp, temp_crn)\n",
    "# for temp_i, temp_crn_i in zip_object:\n",
    "#     difference2_mon.append(temp_i-temp_crn_i)\n",
    "\n",
    "# print(difference2_mon)"
   ]
  },
  {
   "cell_type": "markdown",
   "id": "50b6ccdc",
   "metadata": {},
   "source": [
    "<font size=\"3\">Holly Springs, MS: 0600 UTC (12:00 am CST) 01 March 2022-0600 UTC (12:00 am CST) 02 March 2022</font>"
   ]
  },
  {
   "cell_type": "code",
   "execution_count": 48,
   "id": "04968dd0",
   "metadata": {},
   "outputs": [
    {
     "name": "stdout",
     "output_type": "stream",
     "text": [
      "[1.08002, 1.03, 0.990021, 0.970001, 0.959991, 0.920013, 0.899994, 0.77002, 1.56, 3.60001, 6.08002, 8.59, 11.0, 13.23, 14.54, 15.19, 14.82, 13.65, 11.85, 9.86002, 8.66, 7.78, 7.10001, 6.44, 5.73001]\n"
     ]
    }
   ],
   "source": [
    "#1 hr hrrr:\n",
    "with open('hrrr_f12_Holly Springs_MS.txt') as f:\n",
    "    lst=[line.split()[5] for line in f]\n",
    "    temp_hol2=[]\n",
    "    for i in lst:\n",
    "        new=i.replace(',',\"\")\n",
    "        temp_hol2.append(new)\n",
    "    temp_hol2.pop(0)\n",
    "    temp_hol2=[float(x) for x in temp_hol2]\n",
    "    temp_hol2=temp_hol2[1698:1723]\n",
    "    #temp=temp[2015:2063]\n",
    "    print(temp_hol2)\n",
    "    #print(len(temp))\n",
    "#full time period is [2015:2112]"
   ]
  },
  {
   "cell_type": "code",
   "execution_count": 49,
   "id": "6e5673eb",
   "metadata": {},
   "outputs": [
    {
     "name": "stdout",
     "output_type": "stream",
     "text": [
      "[7.2, 6.9, 6.7, 6.5, 6.3, 6.2, 5.9, 5.8, 5.8, 6.0, 6.6, 7.5, 8.5, 9.5, 10.2, 10.7, 10.9, 10.7, 10.4, 10.0, 9.6, 9.2, 9.0, 8.7, 8.4]\n"
     ]
    }
   ],
   "source": [
    "#Air Temp CRN:\n",
    "with open('CRNH0203-2022-MS_Holly_Springs_4_N.txt') as f:\n",
    "    lst=[line.split()[33] for line in f]\n",
    "    #print(lst)\n",
    "    temp_crn_hol2=[]\n",
    "    for i in lst:\n",
    "        new=i.replace(',',\"\")\n",
    "        temp_crn_hol2.append(new)\n",
    "    temp_crn_hol2=[float(x) for x in temp_crn_hol2]\n",
    "    temp_crn_hol2=temp_crn_hol2[1709:1734]\n",
    "    print(temp_crn_hol2)\n",
    "    #print(len(temp_crn))\n",
    "    # print(temp_crn[2124])"
   ]
  },
  {
   "cell_type": "code",
   "execution_count": 50,
   "id": "b1ba34c2",
   "metadata": {},
   "outputs": [],
   "source": [
    "# difference2_hol = []\n",
    "\n",
    "# zip_object = zip(temp, temp_crn)\n",
    "# for temp_i, temp_crn_i in zip_object:\n",
    "#     difference2_hol.append(temp_i-temp_crn_i)\n",
    "\n",
    "# print(difference2_hol)"
   ]
  },
  {
   "cell_type": "markdown",
   "id": "9dd596b5",
   "metadata": {},
   "source": [
    "<font size=\"3\">Newton, MS: 0600 UTC (12:00 am CST) 01 March 2022-0600 UTC (12:00 am CST) 02 March 2022</font>"
   ]
  },
  {
   "cell_type": "code",
   "execution_count": 51,
   "id": "67050150",
   "metadata": {},
   "outputs": [
    {
     "name": "stdout",
     "output_type": "stream",
     "text": [
      "[1.5, 0.720001, 1.77002, 1.19, 0.570007, 0.380005, -0.160004, -0.190002, 2.22, 5.97, 9.60001, 12.7, 14.93, 16.79, 17.73, 17.96, 17.37, 15.97, 13.9, 11.55, 10.04, 9.04001, 7.91, 7.06, 6.14001]\n"
     ]
    }
   ],
   "source": [
    "#1 hr hrrr:\n",
    "with open('hrrr_f12_Newton_MS.txt') as f:\n",
    "    lst=[line.split()[5] for line in f]\n",
    "    temp_new2=[]\n",
    "    for i in lst:\n",
    "        new=i.replace(',',\"\")\n",
    "        temp_new2.append(new)\n",
    "    temp_new2.pop(0)\n",
    "    temp_new2=[float(x) for x in temp_new2]\n",
    "    temp_new2=temp_new2[1698:1723]\n",
    "    #temp=temp[2015:2063]\n",
    "    print(temp_new2)\n",
    "    #print(len(temp))\n",
    "#full time period is [2015:2112]"
   ]
  },
  {
   "cell_type": "code",
   "execution_count": 52,
   "id": "9793ccfe",
   "metadata": {},
   "outputs": [
    {
     "name": "stdout",
     "output_type": "stream",
     "text": [
      "[8.2, 7.9, 7.6, 7.4, 7.1, 6.9, 6.8, 6.7, 7.4, 8.8, 10.7, 12.1, 13.6, 14.6, 14.9, 14.9, 14.4, 13.5, 12.8, 12.0, 11.3, 10.7, 10.3, 9.9, 9.6]\n"
     ]
    }
   ],
   "source": [
    "#Air Temp CRN:\n",
    "with open('CRNH0203-2022-MS_Newton_5_ENE.txt') as f:\n",
    "    lst=[line.split()[33] for line in f]\n",
    "    #print(lst)\n",
    "    temp_crn_new2=[]\n",
    "    for i in lst:\n",
    "        new=i.replace(',',\"\")\n",
    "        temp_crn_new2.append(new)\n",
    "    temp_crn_new2=[float(x) for x in temp_crn_new2]\n",
    "    temp_crn_new2=temp_crn_new2[1709:1734]\n",
    "    print(temp_crn_new2)\n",
    "    #print(len(temp_crn))\n",
    "    # print(temp_crn[2124])"
   ]
  },
  {
   "cell_type": "code",
   "execution_count": 53,
   "id": "e8bd78b0",
   "metadata": {},
   "outputs": [],
   "source": [
    "# difference2_new = []\n",
    "\n",
    "# zip_object = zip(temp, temp_crn)\n",
    "# for temp_i, temp_crn_i in zip_object:\n",
    "#     difference2_new.append(temp_i-temp_crn_i)\n",
    "\n",
    "# print(difference2_new)"
   ]
  },
  {
   "cell_type": "markdown",
   "id": "ec499d8b",
   "metadata": {},
   "source": [
    "<font size=\"3\">Gainesville, AL: 0600 UTC (12:00 am CST) 01 March 2022-0600 UTC (12:00 am CST) 02 March 2022</font>"
   ]
  },
  {
   "cell_type": "code",
   "execution_count": 54,
   "id": "e9f22db0",
   "metadata": {},
   "outputs": [],
   "source": [
    "# #1 hr hrrr:\n",
    "# with open('hrrr_f12_Gainesville_AL.txt') as f:\n",
    "#     lst=[line.split()[5] for line in f]\n",
    "#     temp=[]\n",
    "#     for i in lst:\n",
    "#         new=i.replace(',',\"\")\n",
    "#         temp.append(new)\n",
    "#     temp.pop(0)\n",
    "#     temp=[float(x) for x in temp]\n",
    "#     temp=temp[1698:1723]\n",
    "#     #temp=temp[2015:2063]\n",
    "#     print(temp)\n",
    "#     #print(len(temp))\n",
    "# #full time period is [2015:2112]"
   ]
  },
  {
   "cell_type": "code",
   "execution_count": 55,
   "id": "de89a88f",
   "metadata": {},
   "outputs": [],
   "source": [
    "# #Air Temp CRN:\n",
    "# with open('CRNH0203-2022-AL_Gainesville_2_NE.txt') as f:\n",
    "#     lst=[line.split()[33] for line in f]\n",
    "#     #print(lst)\n",
    "#     temp_crn=[]\n",
    "#     for i in lst:\n",
    "#         new=i.replace(',',\"\")\n",
    "#         temp_crn.append(new)\n",
    "#     temp_crn=[float(x) for x in temp_crn]\n",
    "#     temp_crn=temp_crn[1698:1723]\n",
    "#     print(temp_crn)\n",
    "#     #print(len(temp_crn))\n",
    "#     # print(temp_crn[2124])"
   ]
  },
  {
   "cell_type": "code",
   "execution_count": 56,
   "id": "2d1d92b8",
   "metadata": {},
   "outputs": [],
   "source": [
    "# difference2_gai = []\n",
    "\n",
    "# zip_object = zip(temp, temp_crn)\n",
    "# for temp_i, temp_crn_i in zip_object:\n",
    "#     difference2_gai.append(temp_i-temp_crn_i)\n",
    "\n",
    "# print(difference2_gai)"
   ]
  },
  {
   "cell_type": "markdown",
   "id": "4019fb67",
   "metadata": {},
   "source": [
    "<font size=\"3\">Fairhope, AL: 0600 UTC (12:00 am CST) 01 March 2022-0600 UTC (12:00 am CST) 02 March 2022</font>"
   ]
  },
  {
   "cell_type": "code",
   "execution_count": 57,
   "id": "c7e8255a",
   "metadata": {},
   "outputs": [
    {
     "name": "stdout",
     "output_type": "stream",
     "text": [
      "[4.37, 3.87, 3.33002, 2.95999, 2.35001, 1.79001, 1.39999, 1.70001, 4.39001, 7.42999, 10.47, 13.51, 15.85, 17.56, 18.32, 17.99, 17.15, 15.43, 13.18, 11.18, 9.67001, 8.38, 7.39999, 6.64999, 6.01001]\n"
     ]
    }
   ],
   "source": [
    "#1 hr hrrr:\n",
    "with open('hrrr_f12_Fairhope_AL.txt') as f:\n",
    "    lst=[line.split()[5] for line in f]\n",
    "    temp_fai2=[]\n",
    "    for i in lst:\n",
    "        new=i.replace(',',\"\")\n",
    "        temp_fai2.append(new)\n",
    "    temp_fai2.pop(0)\n",
    "    temp_fai2=[float(x) for x in temp_fai2]\n",
    "    temp_fai2=temp_fai2[1698:1723]\n",
    "    #temp=temp[2015:2063]\n",
    "    print(temp_fai2)\n",
    "    #print(len(temp))\n",
    "#full time period is [2015:2112]"
   ]
  },
  {
   "cell_type": "code",
   "execution_count": 58,
   "id": "2bb7c0bc",
   "metadata": {},
   "outputs": [
    {
     "name": "stdout",
     "output_type": "stream",
     "text": [
      "[13.9, 13.6, 13.4, 13.3, 13.1, 12.9, 12.7, 12.6, 12.4, 12.5, 12.7, 13.0, 13.4, 13.8, 14.3, 14.6, 14.8, 14.8, 14.6, 14.4, 14.1, 13.9, 13.6, 13.4, 13.2]\n"
     ]
    }
   ],
   "source": [
    "#Air Temp CRN:\n",
    "with open('CRNH0203-2022-AL_Fairhope_3_NE.txt') as f:\n",
    "    lst=[line.split()[33] for line in f]\n",
    "    #print(lst)\n",
    "    temp_crn_fai2=[]\n",
    "    for i in lst:\n",
    "        new=i.replace(',',\"\")\n",
    "        temp_crn_fai2.append(new)\n",
    "    temp_crn_fai2=[float(x) for x in temp_crn_fai2]\n",
    "    temp_crn_fai2=temp_crn_fai2[1709:1734]\n",
    "    print(temp_crn_fai2)\n",
    "    #print(len(temp_crn))\n",
    "    # print(temp_crn[2124])"
   ]
  },
  {
   "cell_type": "code",
   "execution_count": 59,
   "id": "e99e35e0",
   "metadata": {},
   "outputs": [],
   "source": [
    "# difference2_fai = []\n",
    "\n",
    "# zip_object = zip(temp, temp_crn)\n",
    "# for temp_i, temp_crn_i in zip_object:\n",
    "#     difference2_fai.append(temp_i-temp_crn_i)\n",
    "\n",
    "# print(difference2_fai)"
   ]
  },
  {
   "cell_type": "markdown",
   "id": "cb09fde7",
   "metadata": {},
   "source": [
    "<font size=\"3\">**Selma, AL: 0600 UTC (12:00 am CST) 01 March 2022-0600 UTC (12:00 am CST) 02 March 2022</font>"
   ]
  },
  {
   "cell_type": "code",
   "execution_count": 60,
   "id": "fe2b2257",
   "metadata": {},
   "outputs": [
    {
     "name": "stdout",
     "output_type": "stream",
     "text": [
      "[1.70999, 1.62, 1.55002, 1.48001, 1.42999, 1.38, 1.35001, 1.41, 3.11002, 5.34, 7.54001, 9.57001, 11.09, 12.38, 13.16, 13.37, 13.14, 12.12, 10.68, 8.70999, 8.13, 7.52002, 6.83002, 6.0, 5.14999]\n",
      "[7.9, 7.6, 7.2, 6.9, 6.6, 6.3, 6.1, 5.9, 6.0, 6.5, 7.2, 9.0, 10.7, 12.1, 12.6, 12.8, 12.7, 12.4, 12.0, 11.5, 10.8, 10.3, 9.8, 9.4, 9.0]\n"
     ]
    }
   ],
   "source": [
    "#1 hr hrrr:\n",
    "import numpy as np\n",
    "import numpy.ma as ma\n",
    "with open('hrrr_f12_Selma_AL.txt') as f:\n",
    "    lst=[line.split()[5] for line in f]\n",
    "    temp_sel2=[]\n",
    "    for i in lst:\n",
    "        new=i.replace(',',\"\")\n",
    "        temp_sel2.append(new)\n",
    "    temp_sel2.pop(0)\n",
    "    temp_sel2=[float(x) for x in temp_sel2]\n",
    "    temp_sel2=temp_sel2[1698:1723]\n",
    "\n",
    "#     x = np.array(temp)\n",
    "#     temp = ma.masked_array(x, mask=[0, 0, 0, 0, 0,0,0,0,0,0,0,0,0,0,0,0,0,1,1,1,1,0,0,0,0])\n",
    "    #print(temp)\n",
    "#Air Temp CRN:\n",
    "with open('CRNH0203-2022-AL_Selma_13_WNW.txt') as f:\n",
    "    lst=[line.split()[33] for line in f]\n",
    "    #print(lst)\n",
    "    temp_crn_sel2=[]\n",
    "    for i in lst:\n",
    "        new=i.replace(',',\"\")\n",
    "        temp_crn_sel2.append(new)\n",
    "    temp_crn_sel2=[float(x) for x in temp_crn_sel2]\n",
    "    temp_crn_sel2=temp_crn_sel2[1709:1734]\n",
    "#     y = np.array(temp_crn)\n",
    "#     temp_crn = ma.masked_array(y, mask=[0, 0, 0, 0, 0,0,0,0,0,0,0,0,0,0,0,0,0,1,1,1,1,0,0,0,0])\n",
    "    print(temp_sel2)\n",
    "    #print(len(temp))\n",
    "    print(temp_crn_sel2)\n",
    "    #print(len(temp_crn))\n",
    "#full time period is [2015:2112]\n",
    "# difference2_sel = []\n",
    "\n",
    "# zip_object = zip(temp, temp_crn)\n",
    "# for temp_i, temp_crn_i in zip_object:\n",
    "#     difference2_sel.append(temp_i-temp_crn_i)\n",
    "\n",
    "# print(difference2_sel)\n",
    "# print(len(difference2_sel))"
   ]
  },
  {
   "cell_type": "markdown",
   "id": "9767e5fd",
   "metadata": {},
   "source": [
    "<font size=\"3\">Bowling Green, KY: 0600 UTC (12:00 am CST) 01 March 2022-0600 UTC (12:00 am CST) 02 March 2022</font>"
   ]
  },
  {
   "cell_type": "code",
   "execution_count": 61,
   "id": "a031b19f",
   "metadata": {},
   "outputs": [
    {
     "name": "stdout",
     "output_type": "stream",
     "text": [
      "[-1.13, -1.14999, -2.73999, -4.0, -4.47, -3.81, -4.25, -1.50998, -0.779999, -0.889984, 0.820007, 3.89001, 6.06, 7.85001, 9.39999, 10.57, 10.62, 10.07, 8.52002, 7.19, 6.37, 5.59, 4.95999, 4.44, 3.87]\n"
     ]
    }
   ],
   "source": [
    "#1 hr hrrr:\n",
    "with open('hrrr_f12_Bowling Green_KY.txt') as f:\n",
    "    lst=[line.split()[5] for line in f]\n",
    "    temp_bow2=[]\n",
    "    for i in lst:\n",
    "        new=i.replace(',',\"\")\n",
    "        temp_bow2.append(new)\n",
    "    temp_bow2.pop(0)\n",
    "    temp_bow2=[float(x) for x in temp_bow2]\n",
    "    temp_bow2=temp_bow2[1698:1723]\n",
    "    #temp=temp[2015:2063]\n",
    "    print(temp_bow2)\n",
    "    #print(len(temp))\n",
    "#full time period is [2015:2112]"
   ]
  },
  {
   "cell_type": "code",
   "execution_count": 62,
   "id": "f404948b",
   "metadata": {},
   "outputs": [
    {
     "name": "stdout",
     "output_type": "stream",
     "text": [
      "[4.8, 4.6, 4.4, 4.3, 4.1, 4.1, 4.1, 4.0, 4.0, 4.1, 4.2, 4.6, 5.4, 6.8, 8.0, 8.7, 8.9, 8.6, 8.2, 7.6, 7.1, 6.7, 6.4, 6.1, 5.9]\n"
     ]
    }
   ],
   "source": [
    "#Air Temp CRN:\n",
    "with open('CRNH0203-2022-KY_Bowling_Green_21_NNE.txt') as f:\n",
    "    lst=[line.split()[33] for line in f]\n",
    "    #print(lst)\n",
    "    temp_crn_bow2=[]\n",
    "    for i in lst:\n",
    "        new=i.replace(',',\"\")\n",
    "        temp_crn_bow2.append(new)\n",
    "    temp_crn_bow2=[float(x) for x in temp_crn_bow2]\n",
    "    temp_crn_bow2=temp_crn_bow2[1709:1734]\n",
    "    print(temp_crn_bow2)\n",
    "    #print(len(temp_crn))\n",
    "    # print(temp_crn[2124])"
   ]
  },
  {
   "cell_type": "code",
   "execution_count": 63,
   "id": "d326cffb",
   "metadata": {},
   "outputs": [],
   "source": [
    "# difference2_bow = []\n",
    "\n",
    "# zip_object = zip(temp, temp_crn)\n",
    "# for temp_i, temp_crn_i in zip_object:\n",
    "#     difference2_bow.append(temp_i-temp_crn_i)\n",
    "\n",
    "# print(difference2_bow)"
   ]
  },
  {
   "cell_type": "markdown",
   "id": "cf477d73",
   "metadata": {},
   "source": [
    "<font size=\"3\">Gadsden, AL: 0600 UTC (12:00 am CST) 01 March 2022-0600 UTC (12:00 am CST) 02 March 2022</font>"
   ]
  },
  {
   "cell_type": "code",
   "execution_count": 64,
   "id": "8d9653aa",
   "metadata": {},
   "outputs": [
    {
     "name": "stdout",
     "output_type": "stream",
     "text": [
      "[1.30002, 1.20999, 0.980011, 0.540009, 1.07001, 1.56, 1.63, 0.559998, 1.62, 3.39001, 5.44, 7.45001, 9.0, 10.19, 10.93, 11.26, 10.63, 9.39001, 7.59, 6.14999, 5.64001, 5.22, 4.24002, 3.54001, 2.86002]\n"
     ]
    }
   ],
   "source": [
    "#1 hr hrrr:\n",
    "with open('hrrr_f12_Gadsden_AL.txt') as f:\n",
    "    lst=[line.split()[5] for line in f]\n",
    "    temp_gad2=[]\n",
    "    for i in lst:\n",
    "        new=i.replace(',',\"\")\n",
    "        temp_gad2.append(new)\n",
    "    temp_gad2.pop(0)\n",
    "    temp_gad2=[float(x) for x in temp_gad2]\n",
    "    temp_gad2=temp_gad2[1698:1723]\n",
    "#     x = np.array(temp)\n",
    "#     temp = ma.masked_array(x, mask=[0, 0, 0, 0, 0,0,0,0,1,0,0,0,0,0,0,0,0,0,0,0,0,0,0,0,0])\n",
    "    #temp=temp[2015:2063]\n",
    "    print(temp_gad2)\n",
    "    #print(len(temp))\n",
    "#full time period is [2015:2112]"
   ]
  },
  {
   "cell_type": "code",
   "execution_count": 65,
   "id": "d942ec7d",
   "metadata": {},
   "outputs": [
    {
     "name": "stdout",
     "output_type": "stream",
     "text": [
      "[6.6, 6.4, 6.1, 5.9, 5.7, 5.5, 5.3, 5.1, 5.2, 5.6, 6.4, 7.6, 8.9, 10.1, 10.9, 11.4, 11.5, 11.3, 10.8, 10.4, 9.8, 9.5, 9.1, 8.7, 8.5]\n"
     ]
    }
   ],
   "source": [
    "#Air Temp CRN:\n",
    "with open('CRNH0203-2022-AL_Gadsden_19_N.txt') as f:\n",
    "    lst=[line.split()[33] for line in f]\n",
    "    #print(lst)\n",
    "    temp_crn_gad2=[]\n",
    "    for i in lst:\n",
    "        new=i.replace(',',\"\")\n",
    "        temp_crn_gad2.append(new)\n",
    "    temp_crn_gad2=[float(x) for x in temp_crn_gad2]\n",
    "    temp_crn_gad2=temp_crn_gad2[1709:1734]\n",
    "#     y = np.array(temp_crn)\n",
    "#     temp_crn = ma.masked_array(y, mask=[0, 0, 0, 0, 0,0,0,0,1,0,0,0,0,0,0,0,0,0,0,0,0,0,0,0,0])\n",
    "    print(temp_crn_gad2)\n",
    "    #print(len(temp_crn))\n",
    "    # print(temp_crn[2124])"
   ]
  },
  {
   "cell_type": "code",
   "execution_count": 66,
   "id": "254e1e52",
   "metadata": {},
   "outputs": [],
   "source": [
    "# difference2_gad = []\n",
    "\n",
    "# zip_object = zip(temp, temp_crn)\n",
    "# for temp_i, temp_crn_i in zip_object:\n",
    "#     difference2_gad.append(temp_i-temp_crn_i)\n",
    "\n",
    "# print(difference2_gad)"
   ]
  },
  {
   "cell_type": "markdown",
   "id": "75862889",
   "metadata": {},
   "source": [
    "<font size=\"3\">Newton, GA: 0600 UTC (12:00 am CST) 01 March 2022-0600 UTC (12:00 am CST) 02 March 2022</font>"
   ]
  },
  {
   "cell_type": "code",
   "execution_count": 67,
   "id": "06608db6",
   "metadata": {},
   "outputs": [
    {
     "name": "stdout",
     "output_type": "stream",
     "text": [
      "[3.39001, 2.98001, 2.38, 2.20001, 2.06, 1.92999, 1.84, 1.95001, 3.42001, 5.56, 8.03, 10.27, 12.59, 14.83, 16.07, 16.5, 16.05, 14.68, 12.42, 10.63, 9.54001, 8.45001, 7.39999, 6.52002, 5.89999]\n"
     ]
    }
   ],
   "source": [
    "#1 hr hrrr:\n",
    "with open('hrrr_f12_Newton_GA.txt') as f:\n",
    "    lst=[line.split()[5] for line in f]\n",
    "    temp_newt2=[]\n",
    "    for i in lst:\n",
    "        new=i.replace(',',\"\")\n",
    "        temp_newt2.append(new)\n",
    "    temp_newt2.pop(0)\n",
    "    temp_newt2=[float(x) for x in temp_newt2]\n",
    "    temp_newt2=temp_newt2[1698:1723]\n",
    "    #temp=temp[2015:2063]\n",
    "    print(temp_newt2)\n",
    "    #print(len(temp))\n",
    "#full time period is [2015:2112]"
   ]
  },
  {
   "cell_type": "code",
   "execution_count": 68,
   "id": "9adb1c44",
   "metadata": {},
   "outputs": [
    {
     "name": "stdout",
     "output_type": "stream",
     "text": [
      "[13.1, 12.7, 12.3, 11.9, 11.5, 11.2, 10.9, 10.6, 10.5, 10.9, 11.7, 12.9, 14.3, 15.6, 16.6, 17.2, 17.2, 16.8, 16.2, 15.3, 14.5, 13.9, 13.4, 13.0, 12.6]\n"
     ]
    }
   ],
   "source": [
    "#Air Temp CRN:\n",
    "with open('CRNH0203-2022-GA_Newton_11_SW.txt') as f:\n",
    "    lst=[line.split()[33] for line in f]\n",
    "    #print(lst)\n",
    "    temp_crn_newt2=[]\n",
    "    for i in lst:\n",
    "        new=i.replace(',',\"\")\n",
    "        temp_crn_newt2.append(new)\n",
    "    temp_crn_newt2=[float(x) for x in temp_crn_newt2]\n",
    "    temp_crn_newt2=temp_crn_newt2[1708:1733]\n",
    "    print(temp_crn_newt2)\n",
    "    #print(len(temp_crn))\n",
    "    # print(temp_crn[2124])"
   ]
  },
  {
   "cell_type": "code",
   "execution_count": 69,
   "id": "405581a9",
   "metadata": {},
   "outputs": [],
   "source": [
    "# difference2_newt = []\n",
    "\n",
    "# zip_object = zip(temp, temp_crn)\n",
    "# for temp_i, temp_crn_i in zip_object:\n",
    "#     difference2_newt.append(temp_i-temp_crn_i)\n",
    "\n",
    "# print(difference2_newt)"
   ]
  },
  {
   "cell_type": "markdown",
   "id": "70443283",
   "metadata": {},
   "source": [
    "<font size=\"3\">Salem, MO: 0500 UTC (12:00 am CDT) 20 March 2022-0500 UTC (12:00 am CDT) 21 March 2022</font>"
   ]
  },
  {
   "cell_type": "code",
   "execution_count": 70,
   "id": "2d0299c0",
   "metadata": {},
   "outputs": [
    {
     "name": "stdout",
     "output_type": "stream",
     "text": [
      "[5.41, 4.80002, 4.42001, 4.08002, 3.69, 3.70999, 3.39001, 3.37, 3.33002, 5.20999, 8.33002, 10.64, 12.86, 14.63, 16.29, 17.89, 19.07, 19.16, 18.22, 16.28, 14.01, 12.33, 11.69, 11.48, 11.26]\n"
     ]
    }
   ],
   "source": [
    "#1 hr hrrr:\n",
    "with open('hrrr_f12_Salem_MO.txt') as f:\n",
    "    lst=[line.split()[5] for line in f]\n",
    "    temp_sal3=[]\n",
    "    for i in lst:\n",
    "        new=i.replace(',',\"\")\n",
    "        temp_sal3.append(new)\n",
    "    temp_sal3.pop(0)\n",
    "    temp_sal3=[float(x) for x in temp_sal3]\n",
    "    temp_sal3=temp_sal3[1865:1890]\n",
    "    #temp=temp[2015:2063]\n",
    "    print(temp_sal3)\n",
    "#full time period is [2015:2112]"
   ]
  },
  {
   "cell_type": "code",
   "execution_count": 71,
   "id": "c8ed8705",
   "metadata": {},
   "outputs": [
    {
     "name": "stdout",
     "output_type": "stream",
     "text": [
      "[7.4, 7.0, 6.7, 6.4, 6.1, 5.9, 5.7, 5.5, 5.3, 5.3, 5.9, 7.0, 8.1, 9.1, 10.0, 10.9, 11.4, 11.7, 11.4, 11.0, 10.5, 9.9, 9.5, 9.1, 8.8]\n",
      "25\n"
     ]
    }
   ],
   "source": [
    "#Air Temp CRN:\n",
    "with open('CRNH0203-2022-MO_Salem_10_W.txt') as f:\n",
    "    lst=[line.split()[33] for line in f]\n",
    "    #print(lst)\n",
    "    temp_crn_sal3=[]\n",
    "    for i in lst:\n",
    "        new=i.replace(',',\"\")\n",
    "        temp_crn_sal3.append(new)\n",
    "    temp_crn_sal3=[float(x) for x in temp_crn_sal3]\n",
    "    temp_crn_sal3=temp_crn_sal3[1876:1901]\n",
    "    print(temp_crn_sal3)\n",
    "    print(len(temp_crn_sal3))\n",
    "    # print(temp_crn[2124])"
   ]
  },
  {
   "cell_type": "code",
   "execution_count": 72,
   "id": "e8c3c3a5",
   "metadata": {},
   "outputs": [],
   "source": [
    "# difference3_sal = []\n",
    "\n",
    "# zip_object = zip(temp, temp_crn)\n",
    "# for temp_i, temp_crn_i in zip_object:\n",
    "#     difference3_sal.append(temp_i-temp_crn_i)\n",
    "\n",
    "# print(difference3_sal)"
   ]
  },
  {
   "cell_type": "markdown",
   "id": "176d67cb",
   "metadata": {},
   "source": [
    "<font size=\"3\">Batesville, AR: 0600 UTC (12:00 am CST) 01 March 2022-0600 UTC (12:00 am CST) 02 March 2022</font>"
   ]
  },
  {
   "cell_type": "code",
   "execution_count": 73,
   "id": "51a628f5",
   "metadata": {},
   "outputs": [
    {
     "name": "stdout",
     "output_type": "stream",
     "text": [
      "[9.58002, 8.89001, 8.34, 7.86002, 7.45001, 7.01001, 6.80002, 6.45001, 6.56, 8.35001, 11.12, 13.71, 16.37, 18.49, 20.56, 21.87, 22.43, 22.23, 20.98, 19.32, 16.83, 15.21, 14.02, 13.41, 12.74]\n",
      "25\n"
     ]
    }
   ],
   "source": [
    "#1 hr hrrr:\n",
    "with open('hrrr_f12_Batesville_AR.txt') as f:\n",
    "    lst=[line.split()[5] for line in f]\n",
    "    temp_bat3=[]\n",
    "    for i in lst:\n",
    "        new=i.replace(',',\"\")\n",
    "        temp_bat3.append(new)\n",
    "    temp_bat3.pop(0)\n",
    "    temp_bat3=[float(x) for x in temp_bat3]\n",
    "    temp_bat3=temp_bat3[1865:1890]\n",
    "#     x = np.array(temp)\n",
    "#     temp = ma.masked_array(x, mask=[0, 0, 0, 0, 0,0,0,0,0,0,0,0,0,0,0,0,0,0,0,0,0,1,0,0,0])\n",
    "    #temp=temp[2015:2063]\n",
    "    print(temp_bat3)\n",
    "    print(len(temp_bat3))\n",
    "#full time period is [2015:2112]"
   ]
  },
  {
   "cell_type": "code",
   "execution_count": 74,
   "id": "e5b7984c",
   "metadata": {},
   "outputs": [
    {
     "name": "stdout",
     "output_type": "stream",
     "text": [
      "[10.6, 10.3, 10.0, 9.7, 9.4, 9.2, 8.9, 8.7, 8.5, 8.6, 9.2, 10.2, 11.2, 12.2, 13.2, 14.0, 14.5, 14.7, 14.5, 14.2, 13.6, 13.2, 12.7, 12.3, 12.0]\n"
     ]
    }
   ],
   "source": [
    "#Air Temp CRN:\n",
    "with open('CRNH0203-2022-AR_Batesville_8_WNW.txt') as f:\n",
    "    lst=[line.split()[33] for line in f]\n",
    "    #print(lst)\n",
    "    temp_crn_bat3=[]\n",
    "    for i in lst:\n",
    "        new=i.replace(',',\"\")\n",
    "        temp_crn_bat3.append(new)\n",
    "    temp_crn_bat3=[float(x) for x in temp_crn_bat3]\n",
    "    temp_crn_bat3=temp_crn_bat3[1876:1901]\n",
    "#     y = np.array(temp_crn)\n",
    "#     temp_crn = ma.masked_array(y, mask=[0, 0, 0, 0, 0,0,0,0,0,0,0,0,0,0,0,0,0,0,0,0,0,1,0,0,0])\n",
    "    print(temp_crn_bat3)\n",
    "    #print(len(temp_crn))\n",
    "    # print(temp_crn[2124])"
   ]
  },
  {
   "cell_type": "code",
   "execution_count": 75,
   "id": "19589d21",
   "metadata": {},
   "outputs": [],
   "source": [
    "# difference3_bat = []\n",
    "\n",
    "# zip_object = zip(temp, temp_crn)\n",
    "# for temp_i, temp_crn_i in zip_object:\n",
    "#     difference3_bat.append(temp_i-temp_crn_i)\n",
    "\n",
    "# print(difference3_bat)"
   ]
  },
  {
   "cell_type": "markdown",
   "id": "9ac05a40",
   "metadata": {},
   "source": [
    "<font size=\"3\">Lafayette, LA: 0600 UTC (12:00 am CST) 01 March 2022-0600 UTC (12:00 am CST) 02 March 2022</font>"
   ]
  },
  {
   "cell_type": "code",
   "execution_count": 76,
   "id": "f280badb",
   "metadata": {},
   "outputs": [
    {
     "name": "stdout",
     "output_type": "stream",
     "text": [
      "[14.84, 13.83, 13.05, 12.25, 11.45, 10.9, 10.49, 9.87, 9.79001, 12.43, 16.45, 19.92, 22.95, 25.5, 27.2, 28.28, 28.74, 28.34, 26.83, 24.94, 22.12, 20.12, 18.52, 17.39, 16.4]\n"
     ]
    }
   ],
   "source": [
    "#1 hr hrrr:\n",
    "with open('hrrr_f12_Lafayette_LA.txt') as f:\n",
    "    lst=[line.split()[5] for line in f]\n",
    "    temp_laf3=[]\n",
    "    for i in lst:\n",
    "        new=i.replace(',',\"\")\n",
    "        temp_laf3.append(new)\n",
    "    temp_laf3.pop(0)\n",
    "    temp_laf3=[float(x) for x in temp_laf3]\n",
    "    temp_laf3=temp_laf3[1865:1890]\n",
    "    #temp=temp[2015:2063]\n",
    "    print(temp_laf3)\n",
    "    #print(len(temp))\n",
    "#full time period is [2015:2112]"
   ]
  },
  {
   "cell_type": "code",
   "execution_count": 77,
   "id": "17793fb2",
   "metadata": {},
   "outputs": [
    {
     "name": "stdout",
     "output_type": "stream",
     "text": [
      "[17.2, 16.9, 16.5, 16.2, 15.9, 15.6, 15.3, 15.0, 14.8, 14.8, 14.8, 15.2, 15.8, 16.4, 17.1, 17.7, 18.1, 18.4, 18.5, 18.3, 18.1, 17.8, 17.4, 17.2, 17.0]\n"
     ]
    }
   ],
   "source": [
    "#Air Temp CRN:\n",
    "with open('CRNH0203-2022-LA_Lafayette_13_SE.txt') as f:\n",
    "    lst=[line.split()[33] for line in f]\n",
    "    #print(lst)\n",
    "    temp_crn_laf3=[]\n",
    "    for i in lst:\n",
    "        new=i.replace(',',\"\")\n",
    "        temp_crn_laf3.append(new)\n",
    "    temp_crn_laf3=[float(x) for x in temp_crn_laf3]\n",
    "    temp_crn_laf3=temp_crn_laf3[1876:1901]\n",
    "    print(temp_crn_laf3)\n",
    "    #print(len(temp_crn))\n",
    "    # print(temp_crn[2124])"
   ]
  },
  {
   "cell_type": "code",
   "execution_count": 78,
   "id": "36c6a6c7",
   "metadata": {},
   "outputs": [],
   "source": [
    "# difference3_laf = []\n",
    "\n",
    "# zip_object = zip(temp, temp_crn)\n",
    "# for temp_i, temp_crn_i in zip_object:\n",
    "#     difference3_laf.append(temp_i-temp_crn_i)\n",
    "\n",
    "# print(difference3_laf)"
   ]
  },
  {
   "cell_type": "markdown",
   "id": "9f50a0c5",
   "metadata": {},
   "source": [
    "<font size=\"3\">Monroe, LA: 0600 UTC (12:00 am CST) 01 March 2022-0600 UTC (12:00 am CST) 02 March 2022</font>"
   ]
  },
  {
   "cell_type": "code",
   "execution_count": 79,
   "id": "afe54e44",
   "metadata": {},
   "outputs": [
    {
     "name": "stdout",
     "output_type": "stream",
     "text": [
      "[12.57, 11.75, 11.07, 10.38, 9.81, 9.56, 9.28, 9.04001, 8.56, 9.92999, 12.68, 15.77, 18.89, 21.9, 24.64, 25.99, 26.4, 25.91, 24.47, 22.22, 19.83, 18.11, 16.67, 15.41, 14.58]\n"
     ]
    }
   ],
   "source": [
    "#1 hr hrrr:\n",
    "with open('hrrr_f12_Monroe_LA.txt') as f:\n",
    "    lst=[line.split()[5] for line in f]\n",
    "    temp_mon3=[]\n",
    "    for i in lst:\n",
    "        new=i.replace(',',\"\")\n",
    "        temp_mon3.append(new)\n",
    "    temp_mon3.pop(0)\n",
    "    temp_mon3=[float(x) for x in temp_mon3]\n",
    "    temp_mon3=temp_mon3[1865:1890]\n",
    "    #temp=temp[2015:2063]\n",
    "    print(temp_mon3)\n",
    "    #print(len(temp))\n",
    "#full time period is [2015:2112]"
   ]
  },
  {
   "cell_type": "code",
   "execution_count": 80,
   "id": "32d70ce1",
   "metadata": {},
   "outputs": [
    {
     "name": "stdout",
     "output_type": "stream",
     "text": [
      "[14.3, 13.9, 13.5, 13.0, 12.8, 12.4, 12.1, 11.8, 11.6, 11.6, 12.2, 13.2, 14.5, 15.9, 17.2, 18.1, 18.6, 18.8, 18.4, 17.8, 17.2, 16.5, 15.9, 15.3, 14.9]\n"
     ]
    }
   ],
   "source": [
    "#Air Temp CRN:\n",
    "with open('CRNH0203-2022-LA_Monroe_26_N.txt') as f:\n",
    "    lst=[line.split()[33] for line in f]\n",
    "    #print(lst)\n",
    "    temp_crn_mon3=[]\n",
    "    for i in lst:\n",
    "        new=i.replace(',',\"\")\n",
    "        temp_crn_mon3.append(new)\n",
    "    temp_crn_mon3=[float(x) for x in temp_crn_mon3]\n",
    "    temp_crn_mon3=temp_crn_mon3[1876:1901]\n",
    "    print(temp_crn_mon3)\n",
    "    #print(len(temp_crn))\n",
    "    # print(temp_crn[2124])"
   ]
  },
  {
   "cell_type": "code",
   "execution_count": 81,
   "id": "79ffb554",
   "metadata": {},
   "outputs": [],
   "source": [
    "# difference3_mon = []\n",
    "\n",
    "# zip_object = zip(temp, temp_crn)\n",
    "# for temp_i, temp_crn_i in zip_object:\n",
    "#     difference3_mon.append(temp_i-temp_crn_i)\n",
    "\n",
    "# print(difference3_mon)"
   ]
  },
  {
   "cell_type": "markdown",
   "id": "1bf55dcc",
   "metadata": {},
   "source": [
    "<font size=\"3\">Holly Springs, MS: 0600 UTC (12:00 am CST) 01 March 2022-0600 UTC (12:00 am CST) 02 March 2022</font>"
   ]
  },
  {
   "cell_type": "code",
   "execution_count": 82,
   "id": "70182e09",
   "metadata": {},
   "outputs": [
    {
     "name": "stdout",
     "output_type": "stream",
     "text": [
      "[9.48001, 8.70999, 8.47, 8.31, 7.99002, 7.31, 7.45999, 7.36002, 6.70001, 8.73001, 11.11, 13.82, 16.36, 18.75, 20.72, 21.89, 22.35, 21.91, 20.67, 19.02, 16.66, 15.41, 14.67, 14.28, 13.7]\n"
     ]
    }
   ],
   "source": [
    "#1 hr hrrr:\n",
    "with open('hrrr_f12_Holly Springs_MS.txt') as f:\n",
    "    lst=[line.split()[5] for line in f]\n",
    "    temp_hol3=[]\n",
    "    for i in lst:\n",
    "        new=i.replace(',',\"\")\n",
    "        temp_hol3.append(new)\n",
    "    temp_hol3.pop(0)\n",
    "    temp_hol3=[float(x) for x in temp_hol3]\n",
    "    temp_hol3=temp_hol3[1865:1890]\n",
    "    #temp=temp[2015:2063]\n",
    "    print(temp_hol3)\n",
    "    #print(len(temp))\n",
    "#full time period is [2015:2112]"
   ]
  },
  {
   "cell_type": "code",
   "execution_count": 83,
   "id": "f5ab820d",
   "metadata": {},
   "outputs": [
    {
     "name": "stdout",
     "output_type": "stream",
     "text": [
      "[12.1, 11.8, 11.5, 11.3, 11.0, 10.8, 10.5, 10.3, 10.2, 10.2, 10.7, 11.6, 12.7, 13.8, 14.8, 15.6, 15.9, 16.0, 15.6, 15.0, 14.5, 14.0, 13.5, 13.1, 12.7]\n"
     ]
    }
   ],
   "source": [
    "#Air Temp CRN:\n",
    "with open('CRNH0203-2022-MS_Holly_Springs_4_N.txt') as f:\n",
    "    lst=[line.split()[33] for line in f]\n",
    "    #print(lst)\n",
    "    temp_crn_hol3=[]\n",
    "    for i in lst:\n",
    "        new=i.replace(',',\"\")\n",
    "        temp_crn_hol3.append(new)\n",
    "    temp_crn_hol3=[float(x) for x in temp_crn_hol3]\n",
    "    temp_crn_hol3=temp_crn_hol3[1876:1901]\n",
    "    print(temp_crn_hol3)\n",
    "    #print(len(temp_crn))\n",
    "    # print(temp_crn[2124])"
   ]
  },
  {
   "cell_type": "code",
   "execution_count": 84,
   "id": "9d0ab2f8",
   "metadata": {},
   "outputs": [],
   "source": [
    "# difference3_hol = []\n",
    "\n",
    "# zip_object = zip(temp, temp_crn)\n",
    "# for temp_i, temp_crn_i in zip_object:\n",
    "#     difference3_hol.append(temp_i-temp_crn_i)\n",
    "\n",
    "# print(difference3_hol)"
   ]
  },
  {
   "cell_type": "markdown",
   "id": "2d2b0ce7",
   "metadata": {},
   "source": [
    "<font size=\"3\">Newton, MS: 0600 UTC (12:00 am CST) 01 March 2022-0600 UTC (12:00 am CST) 02 March 2022</font>"
   ]
  },
  {
   "cell_type": "code",
   "execution_count": 85,
   "id": "d10078d2",
   "metadata": {},
   "outputs": [
    {
     "name": "stdout",
     "output_type": "stream",
     "text": [
      "[11.22, 10.28, 9.60001, 8.89999, 8.35001, 7.95001, 7.64999, 7.14999, 7.35001, 10.43, 14.73, 18.4, 21.3, 23.22, 24.81, 25.44, 25.41, 24.82, 23.4, 21.31, 18.87, 17.21, 16.03, 15.23, 14.17]\n"
     ]
    }
   ],
   "source": [
    "#1 hr hrrr:\n",
    "with open('hrrr_f12_Newton_MS.txt') as f:\n",
    "    lst=[line.split()[5] for line in f]\n",
    "    temp_new3=[]\n",
    "    for i in lst:\n",
    "        new=i.replace(',',\"\")\n",
    "        temp_new3.append(new)\n",
    "    temp_new3.pop(0)\n",
    "    temp_new3=[float(x) for x in temp_new3]\n",
    "    temp_new3=temp_new3[1865:1890]\n",
    "    #temp=temp[2015:2063]\n",
    "    print(temp_new3)\n",
    "    #print(len(temp))\n",
    "#full time period is [2015:2112]"
   ]
  },
  {
   "cell_type": "code",
   "execution_count": 86,
   "id": "92c9162c",
   "metadata": {},
   "outputs": [
    {
     "name": "stdout",
     "output_type": "stream",
     "text": [
      "[12.5, 12.1, 11.8, 11.5, 11.3, 11.1, 10.8, 10.6, 10.5, 11.5, 13.2, 15.1, 17.0, 18.2, 18.9, 19.4, 19.2, 18.8, 18.1, 17.3, 16.4, 15.7, 15.1, 14.5, 14.0]\n"
     ]
    }
   ],
   "source": [
    "#Air Temp CRN:\n",
    "with open('CRNH0203-2022-MS_Newton_5_ENE.txt') as f:\n",
    "    lst=[line.split()[33] for line in f]\n",
    "    #print(lst)\n",
    "    temp_crn_new3=[]\n",
    "    for i in lst:\n",
    "        new=i.replace(',',\"\")\n",
    "        temp_crn_new3.append(new)\n",
    "    temp_crn_new3=[float(x) for x in temp_crn_new3]\n",
    "    temp_crn_new3=temp_crn_new3[1876:1901]\n",
    "    print(temp_crn_new3)\n",
    "    #print(len(temp_crn))\n",
    "    # print(temp_crn[2124])"
   ]
  },
  {
   "cell_type": "code",
   "execution_count": 87,
   "id": "9f44baa8",
   "metadata": {},
   "outputs": [],
   "source": [
    "# difference3_new = []\n",
    "\n",
    "# zip_object = zip(temp, temp_crn)\n",
    "# for temp_i, temp_crn_i in zip_object:\n",
    "#     difference3_new.append(temp_i-temp_crn_i)\n",
    "\n",
    "# print(difference3_new)"
   ]
  },
  {
   "cell_type": "markdown",
   "id": "538036ab",
   "metadata": {},
   "source": [
    "<font size=\"3\">Gainesville, AL: 0600 UTC (12:00 am CST) 01 March 2022-0600 UTC (12:00 am CST) 02 March 2022</font>"
   ]
  },
  {
   "cell_type": "code",
   "execution_count": 88,
   "id": "24a63117",
   "metadata": {},
   "outputs": [],
   "source": [
    "# #1 hr hrrr:\n",
    "# with open('hrrr_f12_Gainesville_AL.txt') as f:\n",
    "#     lst=[line.split()[5] for line in f]\n",
    "#     temp=[]\n",
    "#     for i in lst:\n",
    "#         new=i.replace(',',\"\")\n",
    "#         temp.append(new)\n",
    "#     temp.pop(0)\n",
    "#     temp=[float(x) for x in temp]\n",
    "#     temp=temp[1876:1901]\n",
    "#     #temp=temp[2015:2063]\n",
    "#     print(temp)\n",
    "#     #print(len(temp))\n",
    "# #full time period is [2015:2112]"
   ]
  },
  {
   "cell_type": "code",
   "execution_count": 89,
   "id": "232e137f",
   "metadata": {},
   "outputs": [],
   "source": [
    "# #Air Temp CRN:\n",
    "# with open('CRNH0203-2022-AL_Gainesville_2_NE.txt') as f:\n",
    "#     lst=[line.split()[33] for line in f]\n",
    "#     #print(lst)\n",
    "#     temp_crn=[]\n",
    "#     for i in lst:\n",
    "#         new=i.replace(',',\"\")\n",
    "#         temp_crn.append(new)\n",
    "#     temp_crn=[float(x) for x in temp_crn]\n",
    "#     temp_crn=temp_crn[1876:1901]\n",
    "#     print(temp_crn)\n",
    "#     #print(len(temp_crn))\n",
    "#     # print(temp_crn[2124])"
   ]
  },
  {
   "cell_type": "code",
   "execution_count": 90,
   "id": "b6c8652b",
   "metadata": {},
   "outputs": [],
   "source": [
    "# difference3_gai = []\n",
    "\n",
    "# zip_object = zip(temp, temp_crn)\n",
    "# for temp_i, temp_crn_i in zip_object:\n",
    "#     difference3_gai.append(temp_i-temp_crn_i)\n",
    "\n",
    "# print(difference3_gai)"
   ]
  },
  {
   "cell_type": "markdown",
   "id": "bec1bd8b",
   "metadata": {},
   "source": [
    "<font size=\"3\">Fairhope, AL: 0600 UTC (12:00 am CST) 01 March 2022-0600 UTC (12:00 am CST) 02 March 2022</font>"
   ]
  },
  {
   "cell_type": "code",
   "execution_count": 91,
   "id": "1d46687a",
   "metadata": {},
   "outputs": [
    {
     "name": "stdout",
     "output_type": "stream",
     "text": [
      "[14.02, 13.33, 12.36, 11.6, 10.83, 10.56, 10.16, 9.77002, 10.13, 12.18, 14.34, 16.81, 18.91, 21.14, 23.03, 24.12, 24.29, 24.0, 22.63, 20.69, 18.4, 16.85, 15.79, 14.67, 13.99]\n"
     ]
    }
   ],
   "source": [
    "#1 hr hrrr:\n",
    "with open('hrrr_f12_Fairhope_AL.txt') as f:\n",
    "    lst=[line.split()[5] for line in f]\n",
    "    temp_fai3=[]\n",
    "    for i in lst:\n",
    "        new=i.replace(',',\"\")\n",
    "        temp_fai3.append(new)\n",
    "    temp_fai3.pop(0)\n",
    "    temp_fai3=[float(x) for x in temp_fai3]\n",
    "    temp_fai3=temp_fai3[1865:1890]\n",
    "    #temp=temp[2015:2063]\n",
    "    print(temp_fai3)\n",
    "    #print(len(temp))\n",
    "#full time period is [2015:2112]"
   ]
  },
  {
   "cell_type": "code",
   "execution_count": 92,
   "id": "eeba1f0c",
   "metadata": {},
   "outputs": [
    {
     "name": "stdout",
     "output_type": "stream",
     "text": [
      "[16.6, 16.5, 16.0, 15.9, 15.6, 15.4, 15.2, 15.0, 14.8, 14.8, 14.8, 15.1, 15.5, 15.8, 16.4, 16.9, 17.0, 17.2, 17.4, 17.2, 17.0, 16.6, 16.4, 16.1, 15.9]\n"
     ]
    }
   ],
   "source": [
    "#Air Temp CRN:\n",
    "with open('CRNH0203-2022-AL_Fairhope_3_NE.txt') as f:\n",
    "    lst=[line.split()[33] for line in f]\n",
    "    #print(lst)\n",
    "    temp_crn_fai3=[]\n",
    "    for i in lst:\n",
    "        new=i.replace(',',\"\")\n",
    "        temp_crn_fai3.append(new)\n",
    "    temp_crn_fai3=[float(x) for x in temp_crn_fai3]\n",
    "    temp_crn_fai3=temp_crn_fai3[1876:1901]\n",
    "    print(temp_crn_fai3)\n",
    "    #print(len(temp_crn))\n",
    "    # print(temp_crn[2124])"
   ]
  },
  {
   "cell_type": "code",
   "execution_count": 93,
   "id": "e5202245",
   "metadata": {},
   "outputs": [],
   "source": [
    "# difference3_fai = []\n",
    "\n",
    "# zip_object = zip(temp, temp_crn)\n",
    "# for temp_i, temp_crn_i in zip_object:\n",
    "#     difference3_fai.append(temp_i-temp_crn_i)\n",
    "\n",
    "# print(difference3_fai)"
   ]
  },
  {
   "cell_type": "markdown",
   "id": "5450f80c",
   "metadata": {},
   "source": [
    "<font size=\"3\">**Selma, AL: 0600 UTC (12:00 am CST) 01 March 2022-0600 UTC (12:00 am CST) 02 March 2022</font>"
   ]
  },
  {
   "cell_type": "code",
   "execution_count": 94,
   "id": "168fefba",
   "metadata": {},
   "outputs": [
    {
     "name": "stdout",
     "output_type": "stream",
     "text": [
      "[10.76, 9.98001, 9.36002, 8.55002, 8.0, 7.87, 7.52002, 7.28, 7.62, 9.87, 12.37, 14.4, 16.21, 17.35, 18.43, 18.85, 18.83, 18.48, 17.62, 16.39, 14.51, 13.37, 12.7, 12.44, 11.89]\n",
      "[13.7, 13.2, 12.7, 12.2, 11.8, 11.5, 11.2, 10.8, 10.7, 11.0, 11.8, 12.9, 14.7, 16.1, 17.1, 17.4, 17.4, 17.3, 17.1, 16.7, 15.9, 15.4, 14.8, 14.6, 13.8]\n"
     ]
    }
   ],
   "source": [
    "#1 hr hrrr:\n",
    "import numpy as np\n",
    "import numpy.ma as ma\n",
    "with open('hrrr_f12_Selma_AL.txt') as f:\n",
    "    lst=[line.split()[5] for line in f]\n",
    "    temp_sel3=[]\n",
    "    for i in lst:\n",
    "        new=i.replace(',',\"\")\n",
    "        temp_sel3.append(new)\n",
    "    temp_sel3.pop(0)\n",
    "    temp_sel3=[float(x) for x in temp_sel3]\n",
    "    temp_sel3=temp_sel3[1865:1890]\n",
    "\n",
    "#     x = np.array(temp)\n",
    "#     temp = ma.masked_array(x, mask=[0, 0, 0, 0, 0,0,0,0,0,0,0,0,0,0,0,0,0,1,1,1,1,0,0,0,0])\n",
    "    #print(temp)\n",
    "#Air Temp CRN:\n",
    "with open('CRNH0203-2022-AL_Selma_13_WNW.txt') as f:\n",
    "    lst=[line.split()[33] for line in f]\n",
    "    #print(lst)\n",
    "    temp_crn_sel3=[]\n",
    "    for i in lst:\n",
    "        new=i.replace(',',\"\")\n",
    "        temp_crn_sel3.append(new)\n",
    "    temp_crn_sel3=[float(x) for x in temp_crn_sel3]\n",
    "    temp_crn_sel3=temp_crn_sel3[1876:1901]\n",
    "#     y = np.array(temp_crn)\n",
    "#     temp_crn = ma.masked_array(y, mask=[0, 0, 0, 0, 0,0,0,0,0,0,0,0,0,0,0,0,0,1,1,1,1,0,0,0,0])\n",
    "    print(temp_sel3)\n",
    "    #print(len(temp))\n",
    "    print(temp_crn_sel3)\n",
    "    #print(len(temp_crn))\n",
    "#full time period is [2015:2112]\n",
    "# difference3_sel = []\n",
    "\n",
    "# zip_object = zip(temp, temp_crn)\n",
    "# for temp_i, temp_crn_i in zip_object:\n",
    "#     difference3_sel.append(temp_i-temp_crn_i)\n",
    "\n",
    "# print(difference3_sel)\n",
    "# print(len(difference3_sel))"
   ]
  },
  {
   "cell_type": "markdown",
   "id": "d837cb2c",
   "metadata": {},
   "source": [
    "<font size=\"3\">Bowling Green, KY: 0600 UTC (12:00 am CST) 01 March 2022-0600 UTC (12:00 am CST) 02 March 2022</font>"
   ]
  },
  {
   "cell_type": "code",
   "execution_count": 95,
   "id": "4d2fd05e",
   "metadata": {},
   "outputs": [
    {
     "name": "stdout",
     "output_type": "stream",
     "text": [
      "[5.69, 4.95001, 3.67999, 3.38, 2.70999, 2.23001, 1.74002, 1.09, 1.86002, 5.74002, 9.80002, 13.07, 15.79, 17.65, 19.21, 19.93, 20.02, 19.4, 18.07, 15.85, 13.22, 11.63, 10.7, 9.66, 8.70001]\n"
     ]
    }
   ],
   "source": [
    "#1 hr hrrr:\n",
    "with open('hrrr_f12_Bowling Green_KY.txt') as f:\n",
    "    lst=[line.split()[5] for line in f]\n",
    "    temp_bow3=[]\n",
    "    for i in lst:\n",
    "        new=i.replace(',',\"\")\n",
    "        temp_bow3.append(new)\n",
    "    temp_bow3.pop(0)\n",
    "    temp_bow3=[float(x) for x in temp_bow3]\n",
    "    temp_bow3=temp_bow3[1865:1890]\n",
    "    #temp=temp[2015:2063]\n",
    "    print(temp_bow3)\n",
    "    #print(len(temp))\n",
    "#full time period is [2015:2112]"
   ]
  },
  {
   "cell_type": "code",
   "execution_count": 96,
   "id": "4ca69144",
   "metadata": {},
   "outputs": [
    {
     "name": "stdout",
     "output_type": "stream",
     "text": [
      "[8.5, 8.1, 7.8, 7.5, 7.2, 6.9, 6.7, 6.5, 6.3, 6.6, 7.4, 8.8, 10.3, 11.8, 13.1, 14.0, 14.4, 14.4, 13.8, 13.1, 12.2, 11.5, 10.8, 10.3, 9.9]\n"
     ]
    }
   ],
   "source": [
    "#Air Temp CRN:\n",
    "with open('CRNH0203-2022-KY_Bowling_Green_21_NNE.txt') as f:\n",
    "    lst=[line.split()[33] for line in f]\n",
    "    #print(lst)\n",
    "    temp_crn_bow3=[]\n",
    "    for i in lst:\n",
    "        new=i.replace(',',\"\")\n",
    "        temp_crn_bow3.append(new)\n",
    "    temp_crn_bow3=[float(x) for x in temp_crn_bow3]\n",
    "    temp_crn_bow3=temp_crn_bow3[1876:1901]\n",
    "    print(temp_crn_bow3)\n",
    "    #print(len(temp_crn))\n",
    "    # print(temp_crn[2124])"
   ]
  },
  {
   "cell_type": "code",
   "execution_count": 97,
   "id": "c1e44909",
   "metadata": {},
   "outputs": [],
   "source": [
    "# difference3_bow = []\n",
    "\n",
    "# zip_object = zip(temp, temp_crn)\n",
    "# for temp_i, temp_crn_i in zip_object:\n",
    "#     difference3_bow.append(temp_i-temp_crn_i)\n",
    "\n",
    "# print(difference3_bow)"
   ]
  },
  {
   "cell_type": "markdown",
   "id": "21c9a287",
   "metadata": {},
   "source": [
    "<font size=\"3\">Gadsden, AL: 0600 UTC (12:00 am CST) 01 March 2022-0600 UTC (12:00 am CST) 02 March 2022</font>"
   ]
  },
  {
   "cell_type": "code",
   "execution_count": 98,
   "id": "77a1ef95",
   "metadata": {},
   "outputs": [
    {
     "name": "stdout",
     "output_type": "stream",
     "text": [
      "[6.67999, 6.23001, 5.51001, 4.67001, 4.34, 3.92999, 3.78, 3.81, 4.75, 8.23001, 11.13, 13.38, 15.34, 16.86, 18.0, 18.53, 18.48, 18.04, 16.85, 14.97, 13.21, 12.15, 11.04, 9.87, 8.92001]\n"
     ]
    }
   ],
   "source": [
    "#1 hr hrrr:\n",
    "with open('hrrr_f12_Gadsden_AL.txt') as f:\n",
    "    lst=[line.split()[5] for line in f]\n",
    "    temp_gad3=[]\n",
    "    for i in lst:\n",
    "        new=i.replace(',',\"\")\n",
    "        temp_gad3.append(new)\n",
    "    temp_gad3.pop(0)\n",
    "    temp_gad3=[float(x) for x in temp_gad3]\n",
    "    temp_gad3=temp_gad3[1865:1890]\n",
    "#     x = np.array(temp)\n",
    "#     temp = ma.masked_array(x, mask=[0, 0, 0, 0, 0,0,0,0,1,0,0,0,0,0,0,0,0,0,0,0,0,0,0,0,0])\n",
    "    #temp=temp[2015:2063]\n",
    "    print(temp_gad3)\n",
    "    #print(len(temp))\n",
    "#full time period is [2015:2112]"
   ]
  },
  {
   "cell_type": "code",
   "execution_count": 99,
   "id": "c8b40ab0",
   "metadata": {},
   "outputs": [
    {
     "name": "stdout",
     "output_type": "stream",
     "text": [
      "[11.5, 11.2, 10.7, 10.5, 10.2, 9.9, 9.6, 9.4, 9.2, 9.4, 9.9, 10.8, 11.9, 13.0, 13.9, 14.6, 15.1, 15.1, 14.9, 14.4, 13.8, 13.3, 12.7, 12.2, 11.8]\n"
     ]
    }
   ],
   "source": [
    "#Air Temp CRN:\n",
    "with open('CRNH0203-2022-AL_Gadsden_19_N.txt') as f:\n",
    "    lst=[line.split()[33] for line in f]\n",
    "    #print(lst)\n",
    "    temp_crn_gad3=[]\n",
    "    for i in lst:\n",
    "        new=i.replace(',',\"\")\n",
    "        temp_crn_gad3.append(new)\n",
    "    temp_crn_gad3=[float(x) for x in temp_crn_gad3]\n",
    "    temp_crn_gad3=temp_crn_gad3[1876:1901]\n",
    "#     y = np.array(temp_crn)\n",
    "#     temp_crn = ma.masked_array(y, mask=[0, 0, 0, 0, 0,0,0,0,1,0,0,0,0,0,0,0,0,0,0,0,0,0,0,0,0])\n",
    "    print(temp_crn_gad3)\n",
    "    #print(len(temp_crn))\n",
    "    # print(temp_crn[2124])"
   ]
  },
  {
   "cell_type": "code",
   "execution_count": 100,
   "id": "cf4acb88",
   "metadata": {},
   "outputs": [],
   "source": [
    "# difference3_gad = []\n",
    "\n",
    "# zip_object = zip(temp, temp_crn)\n",
    "# for temp_i, temp_crn_i in zip_object:\n",
    "#     difference3_gad.append(temp_i-temp_crn_i)\n",
    "\n",
    "# print(difference3_gad)"
   ]
  },
  {
   "cell_type": "markdown",
   "id": "93b56dfb",
   "metadata": {},
   "source": [
    "<font size=\"3\">Newton, GA: 0600 UTC (12:00 am CST) 01 March 2022-0600 UTC (12:00 am CST) 02 March 2022</font>"
   ]
  },
  {
   "cell_type": "code",
   "execution_count": 101,
   "id": "53a55c7c",
   "metadata": {},
   "outputs": [
    {
     "name": "stdout",
     "output_type": "stream",
     "text": [
      "[14.39, 13.95, 13.41, 12.4, 11.64, 11.25, 10.68, 10.02, 10.37, 11.83, 13.29, 14.68, 15.94, 17.12, 17.86, 18.14, 18.25, 18.31, 17.77, 16.74, 14.97, 13.7, 12.91, 12.89, 12.28]\n"
     ]
    }
   ],
   "source": [
    "#1 hr hrrr:\n",
    "with open('hrrr_f12_Newton_GA.txt') as f:\n",
    "    lst=[line.split()[5] for line in f]\n",
    "    temp_newt3=[]\n",
    "    for i in lst:\n",
    "        new=i.replace(',',\"\")\n",
    "        temp_newt3.append(new)\n",
    "    temp_newt3.pop(0)\n",
    "    temp_newt3=[float(x) for x in temp_newt3]\n",
    "    temp_newt3=temp_newt3[1865:1890]\n",
    "    #temp=temp[2015:2063]\n",
    "    print(temp_newt3)\n",
    "    #print(len(temp))\n",
    "#full time period is [2015:2112]"
   ]
  },
  {
   "cell_type": "code",
   "execution_count": 102,
   "id": "763b13be",
   "metadata": {},
   "outputs": [
    {
     "name": "stdout",
     "output_type": "stream",
     "text": [
      "[17.1, 16.7, 16.4, 16.1, 15.8, 15.6, 15.2, 14.9, 14.6, 14.5, 14.9, 15.8, 17.0, 18.2, 19.3, 20.2, 20.3, 20.3, 19.9, 19.3, 18.5, 17.7, 17.1, 16.6, 16.1]\n"
     ]
    }
   ],
   "source": [
    "#Air Temp CRN:\n",
    "with open('CRNH0203-2022-GA_Newton_11_SW.txt') as f:\n",
    "    lst=[line.split()[33] for line in f]\n",
    "    #print(lst)\n",
    "    temp_crn_newt3=[]\n",
    "    for i in lst:\n",
    "        new=i.replace(',',\"\")\n",
    "        temp_crn_newt3.append(new)\n",
    "    temp_crn_newt3=[float(x) for x in temp_crn_newt3]\n",
    "    temp_crn_newt3=temp_crn_newt3[1875:1900]\n",
    "    print(temp_crn_newt3)\n",
    "    #print(len(temp_crn))\n",
    "    # print(temp_crn[2124])"
   ]
  },
  {
   "cell_type": "code",
   "execution_count": 103,
   "id": "b71c6000",
   "metadata": {},
   "outputs": [],
   "source": [
    "# difference3_newt = []\n",
    "\n",
    "# zip_object = zip(temp, temp_crn)\n",
    "# for temp_i, temp_crn_i in zip_object:\n",
    "#     difference3_newt.append(temp_i-temp_crn_i)\n",
    "\n",
    "# print(difference3_newt)"
   ]
  },
  {
   "cell_type": "markdown",
   "id": "e079df5d",
   "metadata": {},
   "source": [
    "<font size=\"3\">Salem, MO: 0500 UTC (12:00 am CDT) 03 April 2022-0500 UTC (12:00 am CDT) 04 April 2022</font>"
   ]
  },
  {
   "cell_type": "code",
   "execution_count": 104,
   "id": "2bda3233",
   "metadata": {},
   "outputs": [
    {
     "name": "stdout",
     "output_type": "stream",
     "text": [
      "[6.44, 5.80002, 5.28, 4.89001, 4.39001, 4.30002, 4.07001, 3.76001, 4.44, 6.70001, 9.30002, 11.41, 13.07, 15.07, 16.8, 17.82, 17.15, 16.41, 16.53, 15.63, 14.07, 12.81, 12.76, 12.33, 11.66]\n"
     ]
    }
   ],
   "source": [
    "#1 hr hrrr:\n",
    "with open('hrrr_f12_Salem_MO.txt') as f:\n",
    "    lst=[line.split()[5] for line in f]\n",
    "    temp_sal4=[]\n",
    "    for i in lst:\n",
    "        new=i.replace(',',\"\")\n",
    "        temp_sal4.append(new)\n",
    "    temp_sal4.pop(0)\n",
    "    temp_sal4=[float(x) for x in temp_sal4]\n",
    "    temp_sal4=temp_sal4[2201:2226]\n",
    "    #temp=temp[2015:2063]\n",
    "    print(temp_sal4)\n",
    "\n",
    "#full time period is [2015:2112]"
   ]
  },
  {
   "cell_type": "code",
   "execution_count": 105,
   "id": "a53cfdd6",
   "metadata": {},
   "outputs": [
    {
     "name": "stdout",
     "output_type": "stream",
     "text": [
      "[7.6, 7.1, 6.9, 6.5, 6.2, 6.0, 5.8, 5.5, 5.4, 5.6, 6.5, 7.6, 8.8, 9.8, 10.8, 11.5, 11.8, 12.0, 11.6, 11.2, 10.8, 10.4, 10.1, 9.8, 9.6]\n"
     ]
    }
   ],
   "source": [
    "#Air Temp CRN:\n",
    "with open('CRNH0203-2022-MO_Salem_10_W.txt') as f:\n",
    "    lst=[line.split()[33] for line in f]\n",
    "    #print(lst)\n",
    "    temp_crn_sal4=[]\n",
    "    for i in lst:\n",
    "        new=i.replace(',',\"\")\n",
    "        temp_crn_sal4.append(new)\n",
    "    temp_crn_sal4=[float(x) for x in temp_crn_sal4]\n",
    "    temp_crn_sal4=temp_crn_sal4[2212:2237]\n",
    "    print(temp_crn_sal4)\n",
    "    # print(temp_crn[2124])"
   ]
  },
  {
   "cell_type": "code",
   "execution_count": 106,
   "id": "2f3aad80",
   "metadata": {},
   "outputs": [],
   "source": [
    "# difference4_sal = []\n",
    "\n",
    "# zip_object = zip(temp, temp_crn)\n",
    "# for temp_i, temp_crn_i in zip_object:\n",
    "#     difference4_sal.append(temp_i-temp_crn_i)\n",
    "\n",
    "# print(difference4_sal)"
   ]
  },
  {
   "cell_type": "markdown",
   "id": "f30e9b3b",
   "metadata": {},
   "source": [
    "<font size=\"3\">Batesville, AR: 0600 UTC (12:00 am CST) 01 March 2022-0600 UTC (12:00 am CST) 02 March 2022</font>"
   ]
  },
  {
   "cell_type": "code",
   "execution_count": 107,
   "id": "ea25905e",
   "metadata": {},
   "outputs": [
    {
     "name": "stdout",
     "output_type": "stream",
     "text": [
      "[10.31, 9.38, 8.83002, 8.35001, 7.81, 7.39001, 7.10001, 6.84, 7.39001, 9.25, 11.3, 13.35, 15.08, 16.71, 18.29, 19.67, 20.52, 20.34, 19.3, 18.0, 15.74, 14.09, 13.0, 12.05, 11.5]\n"
     ]
    }
   ],
   "source": [
    "#1 hr hrrr:\n",
    "with open('hrrr_f12_Batesville_AR.txt') as f:\n",
    "    lst=[line.split()[5] for line in f]\n",
    "    temp_bat4=[]\n",
    "    for i in lst:\n",
    "        new=i.replace(',',\"\")\n",
    "        temp_bat4.append(new)\n",
    "    temp_bat4.pop(0)\n",
    "    temp_bat4=[float(x) for x in temp_bat4]\n",
    "    temp_bat4=temp_bat4[2201:2226]\n",
    "#     x = np.array(temp)\n",
    "#     temp = ma.masked_array(x, mask=[0, 0, 0, 0, 0,0,0,0,0,0,0,0,0,0,0,0,0,0,0,0,0,1,0,0,0])\n",
    "    #temp=temp[2015:2063]\n",
    "    print(temp_bat4)\n",
    "#full time period is [2015:2112]"
   ]
  },
  {
   "cell_type": "code",
   "execution_count": 108,
   "id": "9689d5bd",
   "metadata": {},
   "outputs": [
    {
     "name": "stdout",
     "output_type": "stream",
     "text": [
      "[11.6, 11.3, 10.8, 10.5, 10.2, 9.9, 9.6, 9.4, 9.2, 9.4, 9.9, 10.6, 11.5, 12.6, 13.5, 14.2, 14.5, 14.5, 14.3, 14.0, 13.5, 13.1, 12.7, 12.5, 12.2]\n"
     ]
    }
   ],
   "source": [
    "#Air Temp CRN:\n",
    "with open('CRNH0203-2022-AR_Batesville_8_WNW.txt') as f:\n",
    "    lst=[line.split()[33] for line in f]\n",
    "    #print(lst)\n",
    "    temp_crn_bat4=[]\n",
    "    for i in lst:\n",
    "        new=i.replace(',',\"\")\n",
    "        temp_crn_bat4.append(new)\n",
    "    temp_crn_bat4=[float(x) for x in temp_crn_bat4]\n",
    "    temp_crn_bat4=temp_crn_bat4[2212:2237]\n",
    "#     y = np.array(temp_crn)\n",
    "#     temp_crn = ma.masked_array(y, mask=[0, 0, 0, 0, 0,0,0,0,0,0,0,0,0,0,0,0,0,0,0,0,0,1,0,0,0])\n",
    "    print(temp_crn_bat4)\n",
    "    #print(len(temp_crn))\n",
    "    # print(temp_crn[2124])"
   ]
  },
  {
   "cell_type": "code",
   "execution_count": 109,
   "id": "32d53f73",
   "metadata": {},
   "outputs": [],
   "source": [
    "# difference4_bat = []\n",
    "\n",
    "# zip_object = zip(temp, temp_crn)\n",
    "# for temp_i, temp_crn_i in zip_object:\n",
    "#     difference4_bat.append(temp_i-temp_crn_i)\n",
    "\n",
    "# print(difference4_bat)"
   ]
  },
  {
   "cell_type": "markdown",
   "id": "2869b9dc",
   "metadata": {},
   "source": [
    "<font size=\"3\">Lafayette, LA: 0600 UTC (12:00 am CST) 01 March 2022-0600 UTC (12:00 am CST) 02 March 2022</font>"
   ]
  },
  {
   "cell_type": "code",
   "execution_count": 110,
   "id": "fd2670e5",
   "metadata": {},
   "outputs": [
    {
     "name": "stdout",
     "output_type": "stream",
     "text": [
      "[20.15, 19.33, 18.22, 17.63, 16.94, 16.49, 15.92, 15.22, 14.93, 17.72, 21.66, 24.95, 27.81, 29.87, 31.35, 32.38, 32.75, 32.04, 30.58, 27.98, 25.54, 23.68, 22.43, 21.42, 20.36]\n"
     ]
    }
   ],
   "source": [
    "#1 hr hrrr:\n",
    "with open('hrrr_f12_Lafayette_LA.txt') as f:\n",
    "    lst=[line.split()[5] for line in f]\n",
    "    temp_laf4=[]\n",
    "    for i in lst:\n",
    "        new=i.replace(',',\"\")\n",
    "        temp_laf4.append(new)\n",
    "    temp_laf4.pop(0)\n",
    "    temp_laf4=[float(x) for x in temp_laf4]\n",
    "    temp_laf4=temp_laf4[2201:2226]\n",
    "    #temp=temp[2015:2063]\n",
    "    print(temp_laf4)\n",
    "    #print(len(temp))\n",
    "#full time period is [2015:2112]"
   ]
  },
  {
   "cell_type": "code",
   "execution_count": 111,
   "id": "f39411d5",
   "metadata": {},
   "outputs": [
    {
     "name": "stdout",
     "output_type": "stream",
     "text": [
      "[19.1, 18.8, 18.6, 18.3, 18.0, 17.8, 17.5, 17.3, 17.1, 17.1, 17.3, 17.7, 18.2, 18.9, 19.6, 20.2, 20.6, 20.9, 20.9, 20.7, 20.6, 20.3, 20.0, 19.8, 19.6]\n"
     ]
    }
   ],
   "source": [
    "#Air Temp CRN:\n",
    "with open('CRNH0203-2022-LA_Lafayette_13_SE.txt') as f:\n",
    "    lst=[line.split()[33] for line in f]\n",
    "    #print(lst)\n",
    "    temp_crn_laf4=[]\n",
    "    for i in lst:\n",
    "        new=i.replace(',',\"\")\n",
    "        temp_crn_laf4.append(new)\n",
    "    temp_crn_laf4=[float(x) for x in temp_crn_laf4]\n",
    "    temp_crn_laf4=temp_crn_laf4[2212:2237]\n",
    "    print(temp_crn_laf4)\n",
    "    #print(len(temp_crn))\n",
    "    # print(temp_crn[2124])"
   ]
  },
  {
   "cell_type": "code",
   "execution_count": 112,
   "id": "c02f8d98",
   "metadata": {},
   "outputs": [],
   "source": [
    "# difference4_laf = []\n",
    "\n",
    "# zip_object = zip(temp, temp_crn)\n",
    "# for temp_i, temp_crn_i in zip_object:\n",
    "#     difference4_laf.append(temp_i-temp_crn_i)\n",
    "\n",
    "# print(difference4_laf)"
   ]
  },
  {
   "cell_type": "markdown",
   "id": "ab48fc12",
   "metadata": {},
   "source": [
    "<font size=\"3\">Monroe, LA: 0600 UTC (12:00 am CST) 01 March 2022-0600 UTC (12:00 am CST) 02 March 2022</font>"
   ]
  },
  {
   "cell_type": "code",
   "execution_count": 113,
   "id": "b61707d0",
   "metadata": {},
   "outputs": [
    {
     "name": "stdout",
     "output_type": "stream",
     "text": [
      "[15.35, 14.71, 14.18, 13.4, 12.88, 12.48, 12.1, 11.41, 11.7, 13.26, 15.53, 18.02, 20.27, 23.16, 25.71, 27.08, 27.6, 27.18, 25.78, 23.99, 21.6, 20.05, 18.67, 17.52, 16.63]\n"
     ]
    }
   ],
   "source": [
    "#1 hr hrrr:\n",
    "with open('hrrr_f12_Monroe_LA.txt') as f:\n",
    "    lst=[line.split()[5] for line in f]\n",
    "    temp_mon4=[]\n",
    "    for i in lst:\n",
    "        new=i.replace(',',\"\")\n",
    "        temp_mon4.append(new)\n",
    "    temp_mon4.pop(0)\n",
    "    temp_mon4=[float(x) for x in temp_mon4]\n",
    "    temp_mon4=temp_mon4[2201:2226]\n",
    "    #temp=temp[2015:2063]\n",
    "    print(temp_mon4)\n",
    "    #print(len(temp))\n",
    "#full time period is [2015:2112]"
   ]
  },
  {
   "cell_type": "code",
   "execution_count": 114,
   "id": "266c22d9",
   "metadata": {},
   "outputs": [
    {
     "name": "stdout",
     "output_type": "stream",
     "text": [
      "[16.7, 16.3, 15.9, 15.5, 15.1, 14.7, 14.5, 14.2, 13.9, 14.1, 14.8, 16.1, 17.5, 18.9, 20.2, 21.1, 21.5, 21.6, 21.1, 20.5, 19.7, 19.0, 18.4, 17.9, 17.4]\n"
     ]
    }
   ],
   "source": [
    "#Air Temp CRN:\n",
    "with open('CRNH0203-2022-LA_Monroe_26_N.txt') as f:\n",
    "    lst=[line.split()[33] for line in f]\n",
    "    #print(lst)\n",
    "    temp_crn_mon4=[]\n",
    "    for i in lst:\n",
    "        new=i.replace(',',\"\")\n",
    "        temp_crn_mon4.append(new)\n",
    "    temp_crn_mon4=[float(x) for x in temp_crn_mon4]\n",
    "    temp_crn_mon4=temp_crn_mon4[2212:2237]\n",
    "    print(temp_crn_mon4)\n",
    "    #print(len(temp_crn))\n",
    "    # print(temp_crn[2124])"
   ]
  },
  {
   "cell_type": "code",
   "execution_count": 115,
   "id": "e8911bcb",
   "metadata": {},
   "outputs": [],
   "source": [
    "# difference4_mon = []\n",
    "\n",
    "# zip_object = zip(temp, temp_crn)\n",
    "# for temp_i, temp_crn_i in zip_object:\n",
    "#     difference4_mon.append(temp_i-temp_crn_i)\n",
    "\n",
    "# print(difference4_mon)"
   ]
  },
  {
   "cell_type": "markdown",
   "id": "dbfdd9c6",
   "metadata": {},
   "source": [
    "<font size=\"3\">Holly Springs, MS: 0600 UTC (12:00 am CST) 01 March 2022-0600 UTC (12:00 am CST) 02 March 2022</font>"
   ]
  },
  {
   "cell_type": "code",
   "execution_count": 116,
   "id": "055b4b13",
   "metadata": {},
   "outputs": [
    {
     "name": "stdout",
     "output_type": "stream",
     "text": [
      "[10.84, 10.62, 9.89001, 9.27002, 8.83002, 8.38, 8.26001, 7.41, 7.89001, 9.63, 11.69, 13.94, 16.25, 18.76, 20.49, 21.71, 22.33, 21.83, 20.5, 18.66, 16.07, 14.11, 12.9, 11.89, 11.06]\n"
     ]
    }
   ],
   "source": [
    "#1 hr hrrr:\n",
    "with open('hrrr_f12_Holly Springs_MS.txt') as f:\n",
    "    lst=[line.split()[5] for line in f]\n",
    "    temp_hol4=[]\n",
    "    for i in lst:\n",
    "        new=i.replace(',',\"\")\n",
    "        temp_hol4.append(new)\n",
    "    temp_hol4.pop(0)\n",
    "    temp_hol4=[float(x) for x in temp_hol4]\n",
    "    temp_hol4=temp_hol4[2201:2226]\n",
    "    #temp=temp[2015:2063]\n",
    "    print(temp_hol4)\n",
    "    #print(len(temp))\n",
    "#full time period is [2015:2112]"
   ]
  },
  {
   "cell_type": "code",
   "execution_count": 117,
   "id": "b948e709",
   "metadata": {},
   "outputs": [
    {
     "name": "stdout",
     "output_type": "stream",
     "text": [
      "[12.9, 12.6, 12.5, 12.2, 11.9, 11.7, 11.4, 11.1, 11.0, 11.2, 11.9, 13.0, 14.0, 15.2, 16.2, 16.7, 17.0, 16.8, 16.3, 15.7, 15.1, 14.6, 14.0, 13.6, 13.2]\n"
     ]
    }
   ],
   "source": [
    "#Air Temp CRN:\n",
    "with open('CRNH0203-2022-MS_Holly_Springs_4_N.txt') as f:\n",
    "    lst=[line.split()[33] for line in f]\n",
    "    #print(lst)\n",
    "    temp_crn_hol4=[]\n",
    "    for i in lst:\n",
    "        new=i.replace(',',\"\")\n",
    "        temp_crn_hol4.append(new)\n",
    "    temp_crn_hol4=[float(x) for x in temp_crn_hol4]\n",
    "    temp_crn_hol4=temp_crn_hol4[2212:2237]\n",
    "    print(temp_crn_hol4)\n",
    "    #print(len(temp_crn))\n",
    "    # print(temp_crn[2124])"
   ]
  },
  {
   "cell_type": "code",
   "execution_count": 118,
   "id": "6836c3bb",
   "metadata": {},
   "outputs": [],
   "source": [
    "# difference4_hol = []\n",
    "\n",
    "# zip_object = zip(temp, temp_crn)\n",
    "# for temp_i, temp_crn_i in zip_object:\n",
    "#     difference4_hol.append(temp_i-temp_crn_i)\n",
    "\n",
    "# print(difference4_hol)"
   ]
  },
  {
   "cell_type": "markdown",
   "id": "9c7354c6",
   "metadata": {},
   "source": [
    "<font size=\"3\">Newton, MS: 0600 UTC (12:00 am CST) 01 March 2022-0600 UTC (12:00 am CST) 02 March 2022</font>"
   ]
  },
  {
   "cell_type": "code",
   "execution_count": 119,
   "id": "93316a90",
   "metadata": {},
   "outputs": [
    {
     "name": "stdout",
     "output_type": "stream",
     "text": [
      "[15.48, 15.03, 13.98, 13.35, 12.94, 11.95, 11.48, 11.23, 11.77, 15.14, 18.81, 21.71, 23.95, 25.91, 27.08, 27.71, 27.68, 26.9, 25.24, 23.24, 21.01, 19.32, 18.17, 16.97, 15.86]\n"
     ]
    }
   ],
   "source": [
    "#1 hr hrrr:\n",
    "with open('hrrr_f12_Newton_MS.txt') as f:\n",
    "    lst=[line.split()[5] for line in f]\n",
    "    temp_new4=[]\n",
    "    for i in lst:\n",
    "        new=i.replace(',',\"\")\n",
    "        temp_new4.append(new)\n",
    "    temp_new4.pop(0)\n",
    "    temp_new4=[float(x) for x in temp_new4]\n",
    "    temp_new4=temp_new4[2201:2226]\n",
    "    #temp=temp[2015:2063]\n",
    "    print(temp_new4)\n",
    "    #print(len(temp))\n",
    "#full time period is [2015:2112]"
   ]
  },
  {
   "cell_type": "code",
   "execution_count": 120,
   "id": "3c16e336",
   "metadata": {},
   "outputs": [
    {
     "name": "stdout",
     "output_type": "stream",
     "text": [
      "[15.9, 15.5, 15.1, 14.8, 14.5, 14.2, 14.0, 13.7, 13.9, 14.9, 16.5, 18.0, 19.7, 20.7, 21.4, 21.9, 21.8, 21.4, 20.7, 20.0, 18.9, 18.2, 17.5, 17.0, 16.5]\n"
     ]
    }
   ],
   "source": [
    "#Air Temp CRN:\n",
    "with open('CRNH0203-2022-MS_Newton_5_ENE.txt') as f:\n",
    "    lst=[line.split()[33] for line in f]\n",
    "    #print(lst)\n",
    "    temp_crn_new4=[]\n",
    "    for i in lst:\n",
    "        new=i.replace(',',\"\")\n",
    "        temp_crn_new4.append(new)\n",
    "    temp_crn_new4=[float(x) for x in temp_crn_new4]\n",
    "    temp_crn_new4=temp_crn_new4[2212:2237]\n",
    "    print(temp_crn_new4)\n",
    "    #print(len(temp_crn))\n",
    "    # print(temp_crn[2124])"
   ]
  },
  {
   "cell_type": "code",
   "execution_count": 121,
   "id": "895bb872",
   "metadata": {},
   "outputs": [],
   "source": [
    "# difference4_new = []\n",
    "\n",
    "# zip_object = zip(temp, temp_crn)\n",
    "# for temp_i, temp_crn_i in zip_object:\n",
    "#     difference4_new.append(temp_i-temp_crn_i)\n",
    "\n",
    "# print(difference4_new)"
   ]
  },
  {
   "cell_type": "markdown",
   "id": "9e553db4",
   "metadata": {},
   "source": [
    "<font size=\"3\">Gainesville, AL: 0600 UTC (12:00 am CST) 01 March 2022-0600 UTC (12:00 am CST) 02 March 2022</font>"
   ]
  },
  {
   "cell_type": "code",
   "execution_count": 122,
   "id": "34bf4646",
   "metadata": {},
   "outputs": [],
   "source": [
    "# #1 hr hrrr:\n",
    "# with open('hrrr_f12_Gainesville_AL.txt') as f:\n",
    "#     lst=[line.split()[5] for line in f]\n",
    "#     temp=[]\n",
    "#     for i in lst:\n",
    "#         new=i.replace(',',\"\")\n",
    "#         temp.append(new)\n",
    "#     temp.pop(0)\n",
    "#     temp=[float(x) for x in temp]\n",
    "#     temp=temp[2212:2237]\n",
    "#     #temp=temp[2015:2063]\n",
    "#     print(temp)\n",
    "#     #print(len(temp))\n",
    "# #full time period is [2015:2112]"
   ]
  },
  {
   "cell_type": "code",
   "execution_count": 123,
   "id": "67168607",
   "metadata": {},
   "outputs": [],
   "source": [
    "# #Air Temp CRN:\n",
    "# with open('CRNH0203-2022-AL_Gainesville_2_NE.txt') as f:\n",
    "#     lst=[line.split()[33] for line in f]\n",
    "#     #print(lst)\n",
    "#     temp_crn=[]\n",
    "#     for i in lst:\n",
    "#         new=i.replace(',',\"\")\n",
    "#         temp_crn.append(new)\n",
    "#     temp_crn=[float(x) for x in temp_crn]\n",
    "#     temp_crn=temp_crn[2212:2237]\n",
    "#     print(temp_crn)\n",
    "#     #print(len(temp_crn))\n",
    "#     # print(temp_crn[2124])"
   ]
  },
  {
   "cell_type": "code",
   "execution_count": 124,
   "id": "4baf3368",
   "metadata": {},
   "outputs": [],
   "source": [
    "# difference4_gai = []\n",
    "\n",
    "# zip_object = zip(temp, temp_crn)\n",
    "# for temp_i, temp_crn_i in zip_object:\n",
    "#     difference4_gai.append(temp_i-temp_crn_i)\n",
    "\n",
    "# print(difference4_gai)"
   ]
  },
  {
   "cell_type": "markdown",
   "id": "7dcabe11",
   "metadata": {},
   "source": [
    "<font size=\"3\">Fairhope, AL: 0600 UTC (12:00 am CST) 01 March 2022-0600 UTC (12:00 am CST) 02 March 2022</font>"
   ]
  },
  {
   "cell_type": "code",
   "execution_count": 125,
   "id": "66bf707b",
   "metadata": {},
   "outputs": [
    {
     "name": "stdout",
     "output_type": "stream",
     "text": [
      "[14.33, 13.76, 13.06, 12.86, 12.53, 12.2, 12.0, 11.47, 12.42, 15.88, 18.72, 21.72, 24.09, 26.13, 27.45, 28.21, 28.37, 27.65, 25.88, 23.84, 21.68, 20.0, 18.52, 17.46, 17.04]\n"
     ]
    }
   ],
   "source": [
    "#1 hr hrrr:\n",
    "with open('hrrr_f12_Fairhope_AL.txt') as f:\n",
    "    lst=[line.split()[5] for line in f]\n",
    "    temp_fai4=[]\n",
    "    for i in lst:\n",
    "        new=i.replace(',',\"\")\n",
    "        temp_fai4.append(new)\n",
    "    temp_fai4.pop(0)\n",
    "    temp_fai4=[float(x) for x in temp_fai4]\n",
    "    temp_fai4=temp_fai4[2201:2226]\n",
    "    #temp=temp[2015:2063]\n",
    "    print(temp_fai4)\n",
    "    #print(len(temp))\n",
    "#full time period is [2015:2112]"
   ]
  },
  {
   "cell_type": "code",
   "execution_count": 126,
   "id": "53430b27",
   "metadata": {},
   "outputs": [
    {
     "name": "stdout",
     "output_type": "stream",
     "text": [
      "[17.1, 17.0, 16.7, 16.6, 16.4, 16.2, 16.1, 16.0, 15.9, 15.9, 16.2, 16.5, 16.8, 17.4, 18.0, 18.3, 18.7, 18.8, 18.9, 18.7, 18.5, 18.2, 18.0, 17.9, 17.6]\n"
     ]
    }
   ],
   "source": [
    "#Air Temp CRN:\n",
    "with open('CRNH0203-2022-AL_Fairhope_3_NE.txt') as f:\n",
    "    lst=[line.split()[33] for line in f]\n",
    "    #print(lst)\n",
    "    temp_crn_fai4=[]\n",
    "    for i in lst:\n",
    "        new=i.replace(',',\"\")\n",
    "        temp_crn_fai4.append(new)\n",
    "    temp_crn_fai4=[float(x) for x in temp_crn_fai4]\n",
    "    temp_crn_fai4=temp_crn_fai4[2212:2237]\n",
    "    print(temp_crn_fai4)\n",
    "    #print(len(temp_crn))\n",
    "    # print(temp_crn[2124])"
   ]
  },
  {
   "cell_type": "code",
   "execution_count": 127,
   "id": "320724ae",
   "metadata": {},
   "outputs": [],
   "source": [
    "# difference4_fai = []\n",
    "\n",
    "# zip_object = zip(temp, temp_crn)\n",
    "# for temp_i, temp_crn_i in zip_object:\n",
    "#     difference4_fai.append(temp_i-temp_crn_i)\n",
    "\n",
    "# print(difference4_fai)"
   ]
  },
  {
   "cell_type": "markdown",
   "id": "057898bf",
   "metadata": {},
   "source": [
    "<font size=\"3\">**Selma, AL: 0600 UTC (12:00 am CST) 01 March 2022-0600 UTC (12:00 am CST) 02 March 2022</font>"
   ]
  },
  {
   "cell_type": "code",
   "execution_count": 128,
   "id": "dd6c27fb",
   "metadata": {},
   "outputs": [
    {
     "name": "stdout",
     "output_type": "stream",
     "text": [
      "[12.36, 11.77, 11.21, 10.69, 10.4, 9.60001, 9.23001, 8.83002, 9.63, 12.36, 14.96, 17.05, 18.49, 20.03, 21.28, 22.49, 23.05, 22.77, 21.63, 19.91, 17.63, 16.26, 15.38, 14.15, 13.27]\n",
      "[15.5, 15.1, 14.7, 14.4, 14.1, 13.7, 13.4, 13.2, 13.2, 13.6, 14.3, 15.5, 17.1, 18.6, 19.8, 20.3, 20.5, 20.4, 19.9, 19.2, 18.3, 17.5, 16.9, 16.3, 15.8]\n"
     ]
    }
   ],
   "source": [
    "#1 hr hrrr:\n",
    "import numpy as np\n",
    "import numpy.ma as ma\n",
    "with open('hrrr_f12_Selma_AL.txt') as f:\n",
    "    lst=[line.split()[5] for line in f]\n",
    "    temp_sel4=[]\n",
    "    for i in lst:\n",
    "        new=i.replace(',',\"\")\n",
    "        temp_sel4.append(new)\n",
    "    temp_sel4.pop(0)\n",
    "    temp_sel4=[float(x) for x in temp_sel4]\n",
    "    temp_sel4=temp_sel4[2201:2226]\n",
    "\n",
    "#     x = np.array(temp)\n",
    "#     temp = ma.masked_array(x, mask=[0, 0, 0, 0, 0,0,0,0,0,0,0,0,0,0,0,0,0,1,1,1,1,0,0,0,0])\n",
    "    #print(temp)\n",
    "#Air Temp CRN:\n",
    "with open('CRNH0203-2022-AL_Selma_13_WNW.txt') as f:\n",
    "    lst=[line.split()[33] for line in f]\n",
    "    #print(lst)\n",
    "    temp_crn_sel4=[]\n",
    "    for i in lst:\n",
    "        new=i.replace(',',\"\")\n",
    "        temp_crn_sel4.append(new)\n",
    "    temp_crn_sel4=[float(x) for x in temp_crn_sel4]\n",
    "    temp_crn_sel4=temp_crn_sel4[2212:2237]\n",
    "#     y = np.array(temp_crn)\n",
    "#     temp_crn = ma.masked_array(y, mask=[0, 0, 0, 0, 0,0,0,0,0,0,0,0,0,0,0,0,0,1,1,1,1,0,0,0,0])\n",
    "    print(temp_sel4)\n",
    "    #print(len(temp))\n",
    "    print(temp_crn_sel4)\n",
    "    #print(len(temp_crn))\n",
    "# #full time period is [2015:2112]\n",
    "# difference4_sel = []\n",
    "\n",
    "# zip_object = zip(temp, temp_crn)\n",
    "# for temp_i, temp_crn_i in zip_object:\n",
    "#     difference4_sel.append(temp_i-temp_crn_i)\n",
    "\n",
    "# print(difference4_sel)\n",
    "# #print(len(difference3_sel))"
   ]
  },
  {
   "cell_type": "markdown",
   "id": "cb37cdb6",
   "metadata": {},
   "source": [
    "<font size=\"3\">Bowling Green, KY: 0600 UTC (12:00 am CST) 01 March 2022-0600 UTC (12:00 am CST) 02 March 2022</font>"
   ]
  },
  {
   "cell_type": "code",
   "execution_count": 129,
   "id": "14e1ecd0",
   "metadata": {},
   "outputs": [
    {
     "name": "stdout",
     "output_type": "stream",
     "text": [
      "[8.55002, 7.56, 6.38, 5.64001, 4.72, 4.58002, 3.49002, 2.63, 4.30002, 6.78, 9.62, 12.63, 15.38, 17.56, 18.73, 19.48, 19.62, 18.75, 17.3, 15.1, 12.76, 11.11, 9.87, 9.07001, 8.45999]\n"
     ]
    }
   ],
   "source": [
    "#1 hr hrrr:\n",
    "with open('hrrr_f12_Bowling Green_KY.txt') as f:\n",
    "    lst=[line.split()[5] for line in f]\n",
    "    temp_bow4=[]\n",
    "    for i in lst:\n",
    "        new=i.replace(',',\"\")\n",
    "        temp_bow4.append(new)\n",
    "    temp_bow4.pop(0)\n",
    "    temp_bow4=[float(x) for x in temp_bow4]\n",
    "    temp_bow4=temp_bow4[2201:2226]\n",
    "    #temp=temp[2015:2063]\n",
    "    print(temp_bow4)\n",
    "    #print(len(temp))\n",
    "#full time period is [2015:2112]"
   ]
  },
  {
   "cell_type": "code",
   "execution_count": 130,
   "id": "8121578e",
   "metadata": {},
   "outputs": [
    {
     "name": "stdout",
     "output_type": "stream",
     "text": [
      "[8.9, 8.4, 8.0, 7.6, 7.3, 6.9, 6.5, 6.2, 6.2, 6.7, 7.7, 9.1, 10.7, 12.2, 13.5, 14.3, 14.6, 14.5, 13.9, 13.1, 12.1, 11.3, 10.6, 10.1, 9.7]\n"
     ]
    }
   ],
   "source": [
    "#Air Temp CRN:\n",
    "with open('CRNH0203-2022-KY_Bowling_Green_21_NNE.txt') as f:\n",
    "    lst=[line.split()[33] for line in f]\n",
    "    #print(lst)\n",
    "    temp_crn_bow4=[]\n",
    "    for i in lst:\n",
    "        new=i.replace(',',\"\")\n",
    "        temp_crn_bow4.append(new)\n",
    "    temp_crn_bow4=[float(x) for x in temp_crn_bow4]\n",
    "    temp_crn_bow4=temp_crn_bow4[2212:2237]\n",
    "    print(temp_crn_bow4)\n",
    "    #print(len(temp_crn))\n",
    "    # print(temp_crn[2124])"
   ]
  },
  {
   "cell_type": "code",
   "execution_count": 131,
   "id": "cbe21805",
   "metadata": {},
   "outputs": [],
   "source": [
    "# difference4_bow = []\n",
    "\n",
    "# zip_object = zip(temp, temp_crn)\n",
    "# for temp_i, temp_crn_i in zip_object:\n",
    "#     difference4_bow.append(temp_i-temp_crn_i)\n",
    "\n",
    "# print(difference4_bow)"
   ]
  },
  {
   "cell_type": "markdown",
   "id": "b962f206",
   "metadata": {},
   "source": [
    "<font size=\"3\">Gadsden, AL: 0600 UTC (12:00 am CST) 01 March 2022-0600 UTC (12:00 am CST) 02 March 2022</font>"
   ]
  },
  {
   "cell_type": "code",
   "execution_count": 132,
   "id": "e76025fd",
   "metadata": {},
   "outputs": [
    {
     "name": "stdout",
     "output_type": "stream",
     "text": [
      "[11.85, 11.03, 10.27, 9.97, 9.49002, 9.31, 9.16, 8.52002, 9.62, 11.29, 13.74, 15.69, 17.51, 19.08, 20.06, 20.59, 20.43, 19.63, 18.03, 16.01, 14.09, 12.85, 11.98, 10.98, 9.87]\n"
     ]
    }
   ],
   "source": [
    "#1 hr hrrr:\n",
    "with open('hrrr_f12_Gadsden_AL.txt') as f:\n",
    "    lst=[line.split()[5] for line in f]\n",
    "    temp_gad4=[]\n",
    "    for i in lst:\n",
    "        new=i.replace(',',\"\")\n",
    "        temp_gad4.append(new)\n",
    "    temp_gad4.pop(0)\n",
    "    temp_gad4=[float(x) for x in temp_gad4]\n",
    "    temp_gad4=temp_gad4[2201:2226]\n",
    "#     x = np.array(temp)\n",
    "#     temp = ma.masked_array(x, mask=[0, 0, 0, 0, 0,0,0,0,1,0,0,0,0,0,0,0,0,0,0,0,0,0,0,0,0])\n",
    "    #temp=temp[2015:2063]\n",
    "    print(temp_gad4)\n",
    "    #print(len(temp))\n",
    "#full time period is [2015:2112]"
   ]
  },
  {
   "cell_type": "code",
   "execution_count": 133,
   "id": "4c633594",
   "metadata": {},
   "outputs": [
    {
     "name": "stdout",
     "output_type": "stream",
     "text": [
      "[12.9, 12.6, 12.4, 12.2, 11.8, 11.6, 11.5, 11.4, 11.4, 11.5, 11.9, 12.9, 13.9, 15.0, 15.9, 16.6, 16.9, 16.8, 16.5, 15.9, 15.3, 14.7, 14.2, 13.7, 13.3]\n"
     ]
    }
   ],
   "source": [
    "#Air Temp CRN:\n",
    "with open('CRNH0203-2022-AL_Gadsden_19_N.txt') as f:\n",
    "    lst=[line.split()[33] for line in f]\n",
    "    #print(lst)\n",
    "    temp_crn_gad4=[]\n",
    "    for i in lst:\n",
    "        new=i.replace(',',\"\")\n",
    "        temp_crn_gad4.append(new)\n",
    "    temp_crn_gad4=[float(x) for x in temp_crn_gad4]\n",
    "    temp_crn_gad4=temp_crn_gad4[2212:2237]\n",
    "#     y = np.array(temp_crn)\n",
    "#     temp_crn = ma.masked_array(y, mask=[0, 0, 0, 0, 0,0,0,0,1,0,0,0,0,0,0,0,0,0,0,0,0,0,0,0,0])\n",
    "    print(temp_crn_gad4)\n",
    "    #print(len(temp_crn))\n",
    "    # print(temp_crn[2124])"
   ]
  },
  {
   "cell_type": "code",
   "execution_count": 134,
   "id": "fd78be39",
   "metadata": {},
   "outputs": [],
   "source": [
    "# difference4_gad = []\n",
    "\n",
    "# zip_object = zip(temp, temp_crn)\n",
    "# for temp_i, temp_crn_i in zip_object:\n",
    "#     difference4_gad.append(temp_i-temp_crn_i)\n",
    "\n",
    "# print(difference4_gad)"
   ]
  },
  {
   "cell_type": "markdown",
   "id": "de9fab15",
   "metadata": {},
   "source": [
    "<font size=\"3\">Newton, GA: 0600 UTC (12:00 am CST) 01 March 2022-0600 UTC (12:00 am CST) 02 March 2022</font>"
   ]
  },
  {
   "cell_type": "code",
   "execution_count": 135,
   "id": "ee45f74b",
   "metadata": {},
   "outputs": [
    {
     "name": "stdout",
     "output_type": "stream",
     "text": [
      "[14.01, 13.27, 12.78, 11.72, 11.05, 10.23, 10.12, 9.79001, 11.01, 13.69, 16.65, 19.52, 21.95, 23.87, 25.16, 25.9, 26.13, 25.56, 24.2, 22.26, 19.93, 18.47, 17.26, 16.22, 15.64]\n"
     ]
    }
   ],
   "source": [
    "#1 hr hrrr:\n",
    "with open('hrrr_f12_Newton_GA.txt') as f:\n",
    "    lst=[line.split()[5] for line in f]\n",
    "    temp_newt4=[]\n",
    "    for i in lst:\n",
    "        new=i.replace(',',\"\")\n",
    "        temp_newt4.append(new)\n",
    "    temp_newt4.pop(0)\n",
    "    temp_newt4=[float(x) for x in temp_newt4]\n",
    "    temp_newt4=temp_newt4[2201:2226]\n",
    "    #temp=temp[2015:2063]\n",
    "    print(temp_newt4)\n",
    "    #print(len(temp))\n",
    "#full time period is [2015:2112]"
   ]
  },
  {
   "cell_type": "code",
   "execution_count": 136,
   "id": "569d6a98",
   "metadata": {},
   "outputs": [
    {
     "name": "stdout",
     "output_type": "stream",
     "text": [
      "[16.6, 16.3, 16.1, 15.8, 15.6, 15.4, 15.2, 15.0, 14.8, 15.0, 15.8, 16.8, 18.2, 19.6, 20.9, 21.8, 22.2, 22.1, 21.7, 21.0, 20.3, 19.5, 18.8, 18.3, 17.9]\n"
     ]
    }
   ],
   "source": [
    "#Air Temp CRN:\n",
    "with open('CRNH0203-2022-GA_Newton_11_SW.txt') as f:\n",
    "    lst=[line.split()[33] for line in f]\n",
    "    #print(lst)\n",
    "    temp_crn_newt4=[]\n",
    "    for i in lst:\n",
    "        new=i.replace(',',\"\")\n",
    "        temp_crn_newt4.append(new)\n",
    "    temp_crn_newt4=[float(x) for x in temp_crn_newt4]\n",
    "    temp_crn_newt4=temp_crn_newt4[2211:2236]\n",
    "    print(temp_crn_newt4)\n",
    "    #print(len(temp_crn))\n",
    "    # print(temp_crn[2124])"
   ]
  },
  {
   "cell_type": "code",
   "execution_count": 137,
   "id": "23233b5a",
   "metadata": {},
   "outputs": [],
   "source": [
    "# difference4_newt = []\n",
    "\n",
    "# zip_object = zip(temp, temp_crn)\n",
    "# for temp_i, temp_crn_i in zip_object:\n",
    "#     difference4_newt.append(temp_i-temp_crn_i)\n",
    "\n",
    "# print(difference4_newt)"
   ]
  },
  {
   "cell_type": "markdown",
   "id": "ab4663ab",
   "metadata": {},
   "source": [
    "<font size=\"3\">Salem, MO: 0500 UTC (12:00 am CDT) 19 April 2022-0500 UTC (12:00 am CDT) 20 April 2022</font>"
   ]
  },
  {
   "cell_type": "code",
   "execution_count": 138,
   "id": "3fe4d4d8",
   "metadata": {},
   "outputs": [
    {
     "name": "stdout",
     "output_type": "stream",
     "text": [
      "[3.42999, 2.95999, 2.41, 1.88, 1.69, 1.58002, 1.47, 1.35001, 2.17999, 4.28, 6.5, 8.73001, 10.66, 12.4, 13.88, 14.83, 15.24, 14.82, 13.3, 12.0, 11.05, 10.23, 9.48001, 8.92001, 8.34]\n"
     ]
    }
   ],
   "source": [
    "#1 hr hrrr:\n",
    "with open('hrrr_f12_Salem_MO.txt') as f:\n",
    "    lst=[line.split()[5] for line in f]\n",
    "    temp_sal5=[]\n",
    "    for i in lst:\n",
    "        new=i.replace(',',\"\")\n",
    "        temp_sal5.append(new)\n",
    "    temp_sal5.pop(0)\n",
    "    temp_sal5=[float(x) for x in temp_sal5]\n",
    "    temp_sal5=temp_sal5[2585:2610]\n",
    "    #temp=temp[2015:2063]\n",
    "    print(temp_sal5)\n",
    "#full time period is [2015:2112]"
   ]
  },
  {
   "cell_type": "code",
   "execution_count": 139,
   "id": "8e5ef275",
   "metadata": {},
   "outputs": [
    {
     "name": "stdout",
     "output_type": "stream",
     "text": [
      "[7.6, 7.2, 6.9, 6.6, 6.4, 6.1, 5.9, 5.6, 5.5, 5.7, 6.7, 7.9, 9.1, 10.2, 11.2, 11.9, 12.3, 12.4, 12.1, 11.5, 10.9, 10.5, 10.2, 9.8, 9.5]\n"
     ]
    }
   ],
   "source": [
    "#Air Temp CRN:\n",
    "with open('CRNH0203-2022-MO_Salem_10_W.txt') as f:\n",
    "    lst=[line.split()[33] for line in f]\n",
    "    #print(lst)\n",
    "    temp_crn_sal5=[]\n",
    "    for i in lst:\n",
    "        new=i.replace(',',\"\")\n",
    "        temp_crn_sal5.append(new)\n",
    "    temp_crn_sal5=[float(x) for x in temp_crn_sal5]\n",
    "    temp_crn_sal5=temp_crn_sal5[2596:2621]\n",
    "    print(temp_crn_sal5)\n",
    "    # print(temp_crn[2124])"
   ]
  },
  {
   "cell_type": "code",
   "execution_count": 140,
   "id": "631903a7",
   "metadata": {},
   "outputs": [],
   "source": [
    "# difference5_sal = []\n",
    "\n",
    "# zip_object = zip(temp, temp_crn)\n",
    "# for temp_i, temp_crn_i in zip_object:\n",
    "#     difference5_sal.append(temp_i-temp_crn_i)\n",
    "\n",
    "# print(difference5_sal)"
   ]
  },
  {
   "cell_type": "markdown",
   "id": "eb16f605",
   "metadata": {},
   "source": [
    "<font size=\"3\">Batesville, AR: 0600 UTC (12:00 am CST) 01 March 2022-0600 UTC (12:00 am CST) 02 March 2022</font>"
   ]
  },
  {
   "cell_type": "code",
   "execution_count": 141,
   "id": "5f6566a3",
   "metadata": {},
   "outputs": [
    {
     "name": "stdout",
     "output_type": "stream",
     "text": [
      "[8.52002, 7.53, 6.82001, 6.23001, 5.86002, 5.30002, 4.77002, 4.17999, 5.48001, 8.09, 10.49, 13.37, 15.59, 17.67, 19.16, 20.11, 20.15, 19.19, 18.32, 16.79, 15.09, 13.7, 12.54, 11.28, 10.66]\n"
     ]
    }
   ],
   "source": [
    "#1 hr hrrr:\n",
    "with open('hrrr_f12_Batesville_AR.txt') as f:\n",
    "    lst=[line.split()[5] for line in f]\n",
    "    temp_bat5=[]\n",
    "    for i in lst:\n",
    "        new=i.replace(',',\"\")\n",
    "        temp_bat5.append(new)\n",
    "    temp_bat5.pop(0)\n",
    "    temp_bat5=[float(x) for x in temp_bat5]\n",
    "    temp_bat5=temp_bat5[2585:2610]\n",
    "#     x = np.array(temp)\n",
    "#     temp = ma.masked_array(x, mask=[0, 0, 0, 0, 0,0,0,0,0,0,0,0,0,0,0,0,0,0,0,0,0,1,0,0,0])\n",
    "    #temp=temp[2015:2063]\n",
    "    print(temp_bat5)\n",
    "#full time period is [2015:2112]"
   ]
  },
  {
   "cell_type": "code",
   "execution_count": 142,
   "id": "181df417",
   "metadata": {},
   "outputs": [
    {
     "name": "stdout",
     "output_type": "stream",
     "text": [
      "[12.0, 11.5, 11.2, 10.9, 10.6, 10.4, 10.1, 9.9, 9.7, 9.9, 10.3, 10.9, 11.6, 12.4, 13.3, 13.9, 14.2, 14.3, 14.2, 13.9, 13.5, 13.0, 12.5, 12.0, 11.8]\n"
     ]
    }
   ],
   "source": [
    "#Air Temp CRN:\n",
    "with open('CRNH0203-2022-AR_Batesville_8_WNW.txt') as f:\n",
    "    lst=[line.split()[33] for line in f]\n",
    "    #print(lst)\n",
    "    temp_crn_bat5=[]\n",
    "    for i in lst:\n",
    "        new=i.replace(',',\"\")\n",
    "        temp_crn_bat5.append(new)\n",
    "    temp_crn_bat5=[float(x) for x in temp_crn_bat5]\n",
    "    temp_crn_bat5=temp_crn_bat5[2596:2621]\n",
    "#     y = np.array(temp_crn)\n",
    "#     temp_crn = ma.masked_array(y, mask=[0, 0, 0, 0, 0,0,0,0,0,0,0,0,0,0,0,0,0,0,0,0,0,1,0,0,0])\n",
    "    print(temp_crn_bat5)\n",
    "    #print(len(temp_crn))\n",
    "    # print(temp_crn[2124])"
   ]
  },
  {
   "cell_type": "code",
   "execution_count": 143,
   "id": "32ec4102",
   "metadata": {},
   "outputs": [],
   "source": [
    "# difference5_bat = []\n",
    "\n",
    "# zip_object = zip(temp, temp_crn)\n",
    "# for temp_i, temp_crn_i in zip_object:\n",
    "#     difference5_bat.append(temp_i-temp_crn_i)\n",
    "\n",
    "# print(difference5_bat)"
   ]
  },
  {
   "cell_type": "markdown",
   "id": "ab0f4798",
   "metadata": {},
   "source": [
    "<font size=\"3\">Lafayette, LA: 0600 UTC (12:00 am CST) 01 March 2022-0600 UTC (12:00 am CST) 02 March 2022</font>"
   ]
  },
  {
   "cell_type": "code",
   "execution_count": 144,
   "id": "bf4ca647",
   "metadata": {},
   "outputs": [
    {
     "name": "stdout",
     "output_type": "stream",
     "text": [
      "[16.76, 15.9, 15.48, 15.06, 14.9, 14.86, 14.46, 14.27, 14.95, 16.95, 19.41, 22.21, 24.61, 26.72, 28.32, 29.05, 29.13, 28.6, 27.42, 25.8, 23.53, 21.99, 20.69, 19.98, 18.82]\n"
     ]
    }
   ],
   "source": [
    "#1 hr hrrr:\n",
    "with open('hrrr_f12_Lafayette_LA.txt') as f:\n",
    "    lst=[line.split()[5] for line in f]\n",
    "    temp_laf5=[]\n",
    "    for i in lst:\n",
    "        new=i.replace(',',\"\")\n",
    "        temp_laf5.append(new)\n",
    "    temp_laf5.pop(0)\n",
    "    temp_laf5=[float(x) for x in temp_laf5]\n",
    "    temp_laf5=temp_laf5[2585:2610]\n",
    "    #temp=temp[2015:2063]\n",
    "    print(temp_laf5)\n",
    "    #print(len(temp))\n",
    "#full time period is [2015:2112]"
   ]
  },
  {
   "cell_type": "code",
   "execution_count": 145,
   "id": "6f4ae0a1",
   "metadata": {},
   "outputs": [
    {
     "name": "stdout",
     "output_type": "stream",
     "text": [
      "[21.7, 21.4, 21.2, 20.9, 20.7, 20.4, 20.1, 19.9, 19.7, 19.8, 19.7, 20.0, 20.3, 20.8, 21.3, 21.8, 22.1, 22.3, 22.3, 22.1, 21.9, 21.6, 21.2, 20.8, 20.6]\n"
     ]
    }
   ],
   "source": [
    "#Air Temp CRN:\n",
    "with open('CRNH0203-2022-LA_Lafayette_13_SE.txt') as f:\n",
    "    lst=[line.split()[33] for line in f]\n",
    "    #print(lst)\n",
    "    temp_crn_laf5=[]\n",
    "    for i in lst:\n",
    "        new=i.replace(',',\"\")\n",
    "        temp_crn_laf5.append(new)\n",
    "    temp_crn_laf5=[float(x) for x in temp_crn_laf5]\n",
    "    temp_crn_laf5=temp_crn_laf5[2596:2621]\n",
    "    print(temp_crn_laf5)\n",
    "    #print(len(temp_crn))\n",
    "    # print(temp_crn[2124])"
   ]
  },
  {
   "cell_type": "code",
   "execution_count": 146,
   "id": "482bd1ef",
   "metadata": {},
   "outputs": [],
   "source": [
    "# difference5_laf = []\n",
    "\n",
    "# zip_object = zip(temp, temp_crn)\n",
    "# for temp_i, temp_crn_i in zip_object:\n",
    "#     difference5_laf.append(temp_i-temp_crn_i)\n",
    "\n",
    "# print(difference5_laf)"
   ]
  },
  {
   "cell_type": "markdown",
   "id": "de00e832",
   "metadata": {},
   "source": [
    "<font size=\"3\">Monroe, LA: 0600 UTC (12:00 am CST) 01 March 2022-0600 UTC (12:00 am CST) 02 March 2022</font>"
   ]
  },
  {
   "cell_type": "code",
   "execution_count": 147,
   "id": "4e202ed7",
   "metadata": {},
   "outputs": [
    {
     "name": "stdout",
     "output_type": "stream",
     "text": [
      "[11.87, 11.49, 11.12, 10.97, 10.73, 10.21, 9.73001, 9.28, 9.99002, 11.64, 13.49, 15.56, 17.91, 20.66, 22.61, 23.84, 24.1, 23.36, 22.28, 20.2, 18.13, 16.43, 15.57, 14.45, 14.11]\n"
     ]
    }
   ],
   "source": [
    "#1 hr hrrr:\n",
    "with open('hrrr_f12_Monroe_LA.txt') as f:\n",
    "    lst=[line.split()[5] for line in f]\n",
    "    temp_mon5=[]\n",
    "    for i in lst:\n",
    "        new=i.replace(',',\"\")\n",
    "        temp_mon5.append(new)\n",
    "    temp_mon5.pop(0)\n",
    "    temp_mon5=[float(x) for x in temp_mon5]\n",
    "    temp_mon5=temp_mon5[2585:2610]\n",
    "    #temp=temp[2015:2063]\n",
    "    print(temp_mon5)\n",
    "    #print(len(temp))\n",
    "#full time period is [2015:2112]"
   ]
  },
  {
   "cell_type": "code",
   "execution_count": 148,
   "id": "89b1b3f1",
   "metadata": {},
   "outputs": [
    {
     "name": "stdout",
     "output_type": "stream",
     "text": [
      "[18.3, 17.8, 17.4, 16.9, 16.6, 16.3, 15.8, 15.6, 15.4, 15.6, 16.1, 17.2, 18.4, 19.7, 20.7, 21.7, 22.0, 22.0, 21.6, 20.8, 20.1, 19.4, 18.8, 18.3, 17.9]\n"
     ]
    }
   ],
   "source": [
    "#Air Temp CRN:\n",
    "with open('CRNH0203-2022-LA_Monroe_26_N.txt') as f:\n",
    "    lst=[line.split()[33] for line in f]\n",
    "    #print(lst)\n",
    "    temp_crn_mon5=[]\n",
    "    for i in lst:\n",
    "        new=i.replace(',',\"\")\n",
    "        temp_crn_mon5.append(new)\n",
    "    temp_crn_mon5=[float(x) for x in temp_crn_mon5]\n",
    "    temp_crn_mon5=temp_crn_mon5[2596:2621]\n",
    "    print(temp_crn_mon5)\n",
    "    #print(len(temp_crn))\n",
    "    # print(temp_crn[2124])"
   ]
  },
  {
   "cell_type": "code",
   "execution_count": 149,
   "id": "461ef9d6",
   "metadata": {},
   "outputs": [],
   "source": [
    "# difference5_mon = []\n",
    "\n",
    "# zip_object = zip(temp, temp_crn)\n",
    "# for temp_i, temp_crn_i in zip_object:\n",
    "#     difference5_mon.append(temp_i-temp_crn_i)\n",
    "\n",
    "# print(difference5_mon)"
   ]
  },
  {
   "cell_type": "markdown",
   "id": "10c3e262",
   "metadata": {},
   "source": [
    "<font size=\"3\">Holly Springs, MS: 0600 UTC (12:00 am CST) 01 March 2022-0600 UTC (12:00 am CST) 02 March 2022</font>"
   ]
  },
  {
   "cell_type": "code",
   "execution_count": 150,
   "id": "02dfc76f",
   "metadata": {},
   "outputs": [
    {
     "name": "stdout",
     "output_type": "stream",
     "text": [
      "[8.70001, 8.01001, 7.45999, 7.05002, 6.55002, 5.92001, 5.47, 5.17999, 6.41, 8.02002, 9.98001, 12.12, 13.62, 15.22, 16.72, 18.08, 18.61, 18.4, 17.35, 15.8, 13.68, 12.31, 11.41, 10.68, 10.28]\n"
     ]
    }
   ],
   "source": [
    "#1 hr hrrr:\n",
    "with open('hrrr_f12_Holly Springs_MS.txt') as f:\n",
    "    lst=[line.split()[5] for line in f]\n",
    "    temp_hol5=[]\n",
    "    for i in lst:\n",
    "        new=i.replace(',',\"\")\n",
    "        temp_hol5.append(new)\n",
    "    temp_hol5.pop(0)\n",
    "    temp_hol5=[float(x) for x in temp_hol5]\n",
    "    temp_hol5=temp_hol5[2585:2610]\n",
    "    #temp=temp[2015:2063]\n",
    "    print(temp_hol5)\n",
    "    #print(len(temp))\n",
    "#full time period is [2015:2112]"
   ]
  },
  {
   "cell_type": "code",
   "execution_count": 151,
   "id": "c2ad5a2d",
   "metadata": {},
   "outputs": [
    {
     "name": "stdout",
     "output_type": "stream",
     "text": [
      "[14.6, 14.2, 13.6, 13.3, 12.9, 12.6, 12.2, 12.0, 11.9, 12.4, 13.4, 14.6, 15.7, 16.7, 17.4, 17.8, 18.3, 18.1, 17.8, 17.1, 16.4, 15.8, 15.2, 14.7, 14.3]\n"
     ]
    }
   ],
   "source": [
    "#Air Temp CRN:\n",
    "with open('CRNH0203-2022-MS_Holly_Springs_4_N.txt') as f:\n",
    "    lst=[line.split()[33] for line in f]\n",
    "    #print(lst)\n",
    "    temp_crn_hol5=[]\n",
    "    for i in lst:\n",
    "        new=i.replace(',',\"\")\n",
    "        temp_crn_hol5.append(new)\n",
    "    temp_crn_hol5=[float(x) for x in temp_crn_hol5]\n",
    "    temp_crn_hol5=temp_crn_hol5[2596:2621]\n",
    "    print(temp_crn_hol5)\n",
    "    #print(len(temp_crn))\n",
    "    # print(temp_crn[2124])"
   ]
  },
  {
   "cell_type": "code",
   "execution_count": 152,
   "id": "33e182d5",
   "metadata": {},
   "outputs": [],
   "source": [
    "# difference5_hol = []\n",
    "\n",
    "# zip_object = zip(temp, temp_crn)\n",
    "# for temp_i, temp_crn_i in zip_object:\n",
    "#     difference5_hol.append(temp_i-temp_crn_i)\n",
    "\n",
    "# print(difference5_hol)"
   ]
  },
  {
   "cell_type": "markdown",
   "id": "c3611246",
   "metadata": {},
   "source": [
    "<font size=\"3\">Newton, MS: 0600 UTC (12:00 am CST) 01 March 2022-0600 UTC (12:00 am CST) 02 March 2022</font>"
   ]
  },
  {
   "cell_type": "code",
   "execution_count": 153,
   "id": "c9844209",
   "metadata": {},
   "outputs": [
    {
     "name": "stdout",
     "output_type": "stream",
     "text": [
      "[11.67, 11.36, 11.05, 10.89, 10.53, 10.42, 9.91, 9.24002, 9.95999, 11.38, 13.12, 15.03, 16.69, 18.51, 20.13, 21.48, 21.77, 21.45, 20.32, 18.55, 16.74, 15.41, 14.49, 13.46, 12.87]\n"
     ]
    }
   ],
   "source": [
    "#1 hr hrrr:\n",
    "with open('hrrr_f12_Newton_MS.txt') as f:\n",
    "    lst=[line.split()[5] for line in f]\n",
    "    temp_new5=[]\n",
    "    for i in lst:\n",
    "        new=i.replace(',',\"\")\n",
    "        temp_new5.append(new)\n",
    "    temp_new5.pop(0)\n",
    "    temp_new5=[float(x) for x in temp_new5]\n",
    "    temp_new5=temp_new5[2585:2610]\n",
    "    #temp=temp[2015:2063]\n",
    "    print(temp_new5)\n",
    "    #print(len(temp))\n",
    "#full time period is [2015:2112]"
   ]
  },
  {
   "cell_type": "code",
   "execution_count": 154,
   "id": "27922cc2",
   "metadata": {},
   "outputs": [
    {
     "name": "stdout",
     "output_type": "stream",
     "text": [
      "[16.6, 16.2, 15.8, 15.4, 15.1, 14.8, 14.5, 14.3, 14.4, 14.9, 15.7, 17.0, 18.4, 19.7, 20.7, 21.1, 21.2, 20.9, 20.5, 19.8, 18.9, 18.1, 17.4, 17.0, 16.5]\n"
     ]
    }
   ],
   "source": [
    "#Air Temp CRN:\n",
    "with open('CRNH0203-2022-MS_Newton_5_ENE.txt') as f:\n",
    "    lst=[line.split()[33] for line in f]\n",
    "    #print(lst)\n",
    "    temp_crn_new5=[]\n",
    "    for i in lst:\n",
    "        new=i.replace(',',\"\")\n",
    "        temp_crn_new5.append(new)\n",
    "    temp_crn_new5=[float(x) for x in temp_crn_new5]\n",
    "    temp_crn_new5=temp_crn_new5[2596:2621]\n",
    "    print(temp_crn_new5)\n",
    "    #print(len(temp_crn))\n",
    "    # print(temp_crn[2124])"
   ]
  },
  {
   "cell_type": "code",
   "execution_count": 155,
   "id": "26f39b75",
   "metadata": {},
   "outputs": [],
   "source": [
    "# difference5_new = []\n",
    "\n",
    "# zip_object = zip(temp, temp_crn)\n",
    "# for temp_i, temp_crn_i in zip_object:\n",
    "#     difference5_new.append(temp_i-temp_crn_i)\n",
    "\n",
    "# print(difference5_new)"
   ]
  },
  {
   "cell_type": "markdown",
   "id": "35f6ffe5",
   "metadata": {},
   "source": [
    "<font size=\"3\">Gainesville, AL: 0600 UTC (12:00 am CST) 01 March 2022-0600 UTC (12:00 am CST) 02 March 2022</font>"
   ]
  },
  {
   "cell_type": "code",
   "execution_count": 156,
   "id": "d2bd1457",
   "metadata": {},
   "outputs": [],
   "source": [
    "# #1 hr hrrr:\n",
    "# with open('hrrr_f12_Gainesville_AL.txt') as f:\n",
    "#     lst=[line.split()[5] for line in f]\n",
    "#     temp=[]\n",
    "#     for i in lst:\n",
    "#         new=i.replace(',',\"\")\n",
    "#         temp.append(new)\n",
    "#     temp.pop(0)\n",
    "#     temp=[float(x) for x in temp]\n",
    "#     temp=temp[2596:2621]\n",
    "#     #temp=temp[2015:2063]\n",
    "#     print(temp)\n",
    "#     #print(len(temp))\n",
    "# #full time period is [2015:2112]"
   ]
  },
  {
   "cell_type": "code",
   "execution_count": 157,
   "id": "4f5c8ab2",
   "metadata": {},
   "outputs": [],
   "source": [
    "# #Air Temp CRN:\n",
    "# with open('CRNH0203-2022-AL_Gainesville_2_NE.txt') as f:\n",
    "#     lst=[line.split()[33] for line in f]\n",
    "#     #print(lst)\n",
    "#     temp_crn=[]\n",
    "#     for i in lst:\n",
    "#         new=i.replace(',',\"\")\n",
    "#         temp_crn.append(new)\n",
    "#     temp_crn=[float(x) for x in temp_crn]\n",
    "#     temp_crn=temp_crn[2596:2621]\n",
    "#     print(temp_crn)\n",
    "#     #print(len(temp_crn))\n",
    "#     # print(temp_crn[2124])"
   ]
  },
  {
   "cell_type": "code",
   "execution_count": 158,
   "id": "8356bd44",
   "metadata": {},
   "outputs": [],
   "source": [
    "# difference5_gai = []\n",
    "\n",
    "# zip_object = zip(temp, temp_crn)\n",
    "# for temp_i, temp_crn_i in zip_object:\n",
    "#     difference5_gai.append(temp_i-temp_crn_i)\n",
    "\n",
    "# print(difference5_gai)"
   ]
  },
  {
   "cell_type": "markdown",
   "id": "fb46ce72",
   "metadata": {},
   "source": [
    "<font size=\"3\">Fairhope, AL: 0600 UTC (12:00 am CST) 01 March 2022-0600 UTC (12:00 am CST) 02 March 2022</font>"
   ]
  },
  {
   "cell_type": "code",
   "execution_count": 159,
   "id": "eb7efbb3",
   "metadata": {},
   "outputs": [
    {
     "name": "stdout",
     "output_type": "stream",
     "text": [
      "[14.3, 13.8, 13.43, 13.31, 13.02, 13.07, 12.36, 12.11, 13.07, 15.46, 17.48, 19.49, 21.34, 23.12, 24.36, 25.1, 25.02, 24.33, 22.81, 20.95, 19.13, 17.75, 16.7, 15.78, 14.99]\n"
     ]
    }
   ],
   "source": [
    "#1 hr hrrr:\n",
    "with open('hrrr_f12_Fairhope_AL.txt') as f:\n",
    "    lst=[line.split()[5] for line in f]\n",
    "    temp_fai5=[]\n",
    "    for i in lst:\n",
    "        new=i.replace(',',\"\")\n",
    "        temp_fai5.append(new)\n",
    "    temp_fai5.pop(0)\n",
    "    temp_fai5=[float(x) for x in temp_fai5]\n",
    "    temp_fai5=temp_fai5[2585:2610]\n",
    "    #temp=temp[2015:2063]\n",
    "    print(temp_fai5)\n",
    "    #print(len(temp))\n",
    "#full time period is [2015:2112]"
   ]
  },
  {
   "cell_type": "code",
   "execution_count": 160,
   "id": "91a8ae69",
   "metadata": {},
   "outputs": [
    {
     "name": "stdout",
     "output_type": "stream",
     "text": [
      "[20.2, 20.1, 19.9, 19.7, 19.5, 19.4, 19.1, 18.9, 18.9, 18.9, 18.9, 19.1, 19.3, 19.6, 20.1, 20.3, 20.5, 20.5, 20.6, 20.6, 20.2, 20.0, 19.6, 19.3, 19.1]\n"
     ]
    }
   ],
   "source": [
    "#Air Temp CRN:\n",
    "with open('CRNH0203-2022-AL_Fairhope_3_NE.txt') as f:\n",
    "    lst=[line.split()[33] for line in f]\n",
    "    #print(lst)\n",
    "    temp_crn_fai5=[]\n",
    "    for i in lst:\n",
    "        new=i.replace(',',\"\")\n",
    "        temp_crn_fai5.append(new)\n",
    "    temp_crn_fai5=[float(x) for x in temp_crn_fai5]\n",
    "    temp_crn_fai5=temp_crn_fai5[2596:2621]\n",
    "    print(temp_crn_fai5)\n",
    "    #print(len(temp_crn))\n",
    "    # print(temp_crn[2124])"
   ]
  },
  {
   "cell_type": "code",
   "execution_count": 161,
   "id": "27eb4d35",
   "metadata": {},
   "outputs": [],
   "source": [
    "# difference5_fai = []\n",
    "\n",
    "# zip_object = zip(temp, temp_crn)\n",
    "# for temp_i, temp_crn_i in zip_object:\n",
    "#     difference5_fai.append(temp_i-temp_crn_i)\n",
    "\n",
    "# print(difference5_fai)"
   ]
  },
  {
   "cell_type": "markdown",
   "id": "26ae7516",
   "metadata": {},
   "source": [
    "<font size=\"3\">**Selma, AL: 0600 UTC (12:00 am CST) 01 March 2022-0600 UTC (12:00 am CST) 02 March 2022</font>"
   ]
  },
  {
   "cell_type": "code",
   "execution_count": 162,
   "id": "bb3e0d4e",
   "metadata": {},
   "outputs": [
    {
     "name": "stdout",
     "output_type": "stream",
     "text": [
      "[11.32, 10.86, 10.32, 10.04, 9.64001, 9.31, 8.64999, 8.56, 9.74002, 11.23, 12.8, 14.47, 15.74, 17.07, 17.87, 18.33, 18.08, 17.43, 16.72, 15.72, 14.17, 12.98, 12.09, 11.28, 10.73]\n",
      "[16.4, 16.1, 15.7, 15.4, 15.0, 14.5, 14.2, 13.8, 13.9, 14.1, 14.6, 15.4, 16.5, 17.9, 19.2, 19.8, 20.1, 20.0, 19.5, 18.8, 18.1, 17.4, 16.8, 16.2, 15.7]\n"
     ]
    }
   ],
   "source": [
    "#1 hr hrrr:\n",
    "import numpy as np\n",
    "import numpy.ma as ma\n",
    "with open('hrrr_f12_Selma_AL.txt') as f:\n",
    "    lst=[line.split()[5] for line in f]\n",
    "    temp_sel5=[]\n",
    "    for i in lst:\n",
    "        new=i.replace(',',\"\")\n",
    "        temp_sel5.append(new)\n",
    "    temp_sel5.pop(0)\n",
    "    temp_sel5=[float(x) for x in temp_sel5]\n",
    "    temp_sel5=temp_sel5[2585:2610]\n",
    "\n",
    "#     x = np.array(temp)\n",
    "#     temp = ma.masked_array(x, mask=[0, 0, 0, 0, 0,0,0,0,0,0,0,0,0,0,0,0,0,1,1,1,1,0,0,0,0])\n",
    "    #print(temp)\n",
    "#Air Temp CRN:\n",
    "with open('CRNH0203-2022-AL_Selma_13_WNW.txt') as f:\n",
    "    lst=[line.split()[33] for line in f]\n",
    "    #print(lst)\n",
    "    temp_crn_sel5=[]\n",
    "    for i in lst:\n",
    "        new=i.replace(',',\"\")\n",
    "        temp_crn_sel5.append(new)\n",
    "    temp_crn_sel5=[float(x) for x in temp_crn_sel5]\n",
    "    temp_crn_sel5=temp_crn_sel5[2596:2621]\n",
    "#     y = np.array(temp_crn)\n",
    "#     temp_crn = ma.masked_array(y, mask=[0, 0, 0, 0, 0,0,0,0,0,0,0,0,0,0,0,0,0,1,1,1,1,0,0,0,0])\n",
    "    print(temp_sel5)\n",
    "    #print(len(temp))\n",
    "    print(temp_crn_sel5)\n",
    "    #print(len(temp_crn))\n",
    "# #full time period is [2015:2112]\n",
    "# difference5_sel = []\n",
    "\n",
    "# zip_object = zip(temp, temp_crn)\n",
    "# for temp_i, temp_crn_i in zip_object:\n",
    "#     difference5_sel.append(temp_i-temp_crn_i)\n",
    "\n",
    "# print(difference5_sel)\n",
    "# #print(len(difference3_sel))"
   ]
  },
  {
   "cell_type": "markdown",
   "id": "d56aedb3",
   "metadata": {},
   "source": [
    "<font size=\"3\">Bowling Green, KY: 0600 UTC (12:00 am CST) 01 March 2022-0600 UTC (12:00 am CST) 02 March 2022</font>"
   ]
  },
  {
   "cell_type": "code",
   "execution_count": 163,
   "id": "24633681",
   "metadata": {},
   "outputs": [
    {
     "name": "stdout",
     "output_type": "stream",
     "text": [
      "[4.13, 4.05002, 3.64999, 3.52002, 2.76001, 2.20999, 1.60001, 1.67001, 3.17999, 5.22, 7.67999, 10.05, 12.29, 14.55, 16.17, 17.01, 17.09, 16.52, 15.17, 13.26, 11.21, 9.5, 8.27002, 7.39999, 6.73001]\n"
     ]
    }
   ],
   "source": [
    "#1 hr hrrr:\n",
    "with open('hrrr_f12_Bowling Green_KY.txt') as f:\n",
    "    lst=[line.split()[5] for line in f]\n",
    "    temp_bow5=[]\n",
    "    for i in lst:\n",
    "        new=i.replace(',',\"\")\n",
    "        temp_bow5.append(new)\n",
    "    temp_bow5.pop(0)\n",
    "    temp_bow5=[float(x) for x in temp_bow5]\n",
    "    temp_bow5=temp_bow5[2585:2610]\n",
    "    #temp=temp[2015:2063]\n",
    "    print(temp_bow5)\n",
    "    #print(len(temp))\n",
    "#full time period is [2015:2112]"
   ]
  },
  {
   "cell_type": "code",
   "execution_count": 164,
   "id": "f8ae0010",
   "metadata": {},
   "outputs": [
    {
     "name": "stdout",
     "output_type": "stream",
     "text": [
      "[9.2, 8.8, 8.4, 8.1, 7.8, 7.5, 7.2, 6.9, 7.0, 7.6, 8.5, 9.9, 11.4, 12.9, 14.2, 15.0, 15.3, 15.1, 14.5, 13.7, 12.8, 11.9, 11.2, 10.6, 10.3]\n"
     ]
    }
   ],
   "source": [
    "#Air Temp CRN:\n",
    "with open('CRNH0203-2022-KY_Bowling_Green_21_NNE.txt') as f:\n",
    "    lst=[line.split()[33] for line in f]\n",
    "    #print(lst)\n",
    "    temp_crn_bow5=[]\n",
    "    for i in lst:\n",
    "        new=i.replace(',',\"\")\n",
    "        temp_crn_bow5.append(new)\n",
    "    temp_crn_bow5=[float(x) for x in temp_crn_bow5]\n",
    "    temp_crn_bow5=temp_crn_bow5[2596:2621]\n",
    "    print(temp_crn_bow5)\n",
    "    #print(len(temp_crn))\n",
    "    # print(temp_crn[2124])"
   ]
  },
  {
   "cell_type": "code",
   "execution_count": 165,
   "id": "0855a124",
   "metadata": {},
   "outputs": [],
   "source": [
    "# difference5_bow = []\n",
    "\n",
    "# zip_object = zip(temp, temp_crn)\n",
    "# for temp_i, temp_crn_i in zip_object:\n",
    "#     difference5_bow.append(temp_i-temp_crn_i)\n",
    "\n",
    "# print(difference5_bow)"
   ]
  },
  {
   "cell_type": "markdown",
   "id": "230d1a46",
   "metadata": {},
   "source": [
    "<font size=\"3\">Gadsden, AL: 0600 UTC (12:00 am CST) 01 March 2022-0600 UTC (12:00 am CST) 02 March 2022</font>"
   ]
  },
  {
   "cell_type": "code",
   "execution_count": 166,
   "id": "c5f9ab54",
   "metadata": {},
   "outputs": [
    {
     "name": "stdout",
     "output_type": "stream",
     "text": [
      "[8.39999, 7.54001, 7.07001, 6.66, 6.62, 6.09, 5.70999, 5.44, 6.95999, 9.13, 11.72, 14.26, 16.12, 17.9, 19.07, 19.54, 19.3, 18.51, 17.33, 15.47, 13.41, 11.9, 10.89, 9.80002, 9.02002]\n"
     ]
    }
   ],
   "source": [
    "#1 hr hrrr:\n",
    "with open('hrrr_f12_Gadsden_AL.txt') as f:\n",
    "    lst=[line.split()[5] for line in f]\n",
    "    temp_gad5=[]\n",
    "    for i in lst:\n",
    "        new=i.replace(',',\"\")\n",
    "        temp_gad5.append(new)\n",
    "    temp_gad5.pop(0)\n",
    "    temp_gad5=[float(x) for x in temp_gad5]\n",
    "    temp_gad5=temp_gad5[2585:2610]\n",
    "#     x = np.array(temp)\n",
    "#     temp = ma.masked_array(x, mask=[0, 0, 0, 0, 0,0,0,0,1,0,0,0,0,0,0,0,0,0,0,0,0,0,0,0,0])\n",
    "    #temp=temp[2015:2063]\n",
    "    print(temp_gad5)\n",
    "    #print(len(temp))\n",
    "#full time period is [2015:2112]"
   ]
  },
  {
   "cell_type": "code",
   "execution_count": 167,
   "id": "d154dfa6",
   "metadata": {},
   "outputs": [
    {
     "name": "stdout",
     "output_type": "stream",
     "text": [
      "[14.3, 13.9, 13.7, 13.4, 13.1, 12.9, 12.6, 12.4, 12.4, 12.5, 12.8, 13.6, 14.7, 15.8, 16.9, 17.6, 18.0, 17.9, 17.7, 17.2, 16.7, 16.0, 15.5, 15.0, 14.6]\n"
     ]
    }
   ],
   "source": [
    "#Air Temp CRN:\n",
    "with open('CRNH0203-2022-AL_Gadsden_19_N.txt') as f:\n",
    "    lst=[line.split()[33] for line in f]\n",
    "    #print(lst)\n",
    "    temp_crn_gad5=[]\n",
    "    for i in lst:\n",
    "        new=i.replace(',',\"\")\n",
    "        temp_crn_gad5.append(new)\n",
    "    temp_crn_gad5=[float(x) for x in temp_crn_gad5]\n",
    "    temp_crn_gad5=temp_crn_gad5[2596:2621]\n",
    "#     y = np.array(temp_crn)\n",
    "#     temp_crn = ma.masked_array(y, mask=[0, 0, 0, 0, 0,0,0,0,1,0,0,0,0,0,0,0,0,0,0,0,0,0,0,0,0])\n",
    "    print(temp_crn_gad5)\n",
    "    #print(len(temp_crn))\n",
    "    # print(temp_crn[2124])"
   ]
  },
  {
   "cell_type": "code",
   "execution_count": 168,
   "id": "20f98582",
   "metadata": {},
   "outputs": [],
   "source": [
    "# difference5_gad = []\n",
    "\n",
    "# zip_object = zip(temp, temp_crn)\n",
    "# for temp_i, temp_crn_i in zip_object:\n",
    "#     difference5_gad.append(temp_i-temp_crn_i)\n",
    "\n",
    "# print(difference5_gad)"
   ]
  },
  {
   "cell_type": "markdown",
   "id": "200f3740",
   "metadata": {},
   "source": [
    "<font size=\"3\">Newton, GA: 0600 UTC (12:00 am CST) 01 March 2022-0600 UTC (12:00 am CST) 02 March 2022</font>"
   ]
  },
  {
   "cell_type": "code",
   "execution_count": 169,
   "id": "c0676e97",
   "metadata": {},
   "outputs": [
    {
     "name": "stdout",
     "output_type": "stream",
     "text": [
      "[15.76, 14.9, 14.11, 13.51, 13.19, 12.46, 12.39, 12.0, 13.24, 15.24, 17.28, 19.59, 21.29, 23.08, 24.18, 24.95, 24.75, 24.02, 22.49, 20.61, 18.53, 17.05, 15.81, 14.7, 13.72]\n"
     ]
    }
   ],
   "source": [
    "#1 hr hrrr:\n",
    "with open('hrrr_f12_Newton_GA.txt') as f:\n",
    "    lst=[line.split()[5] for line in f]\n",
    "    temp_newt5=[]\n",
    "    for i in lst:\n",
    "        new=i.replace(',',\"\")\n",
    "        temp_newt5.append(new)\n",
    "    temp_newt5.pop(0)\n",
    "    temp_newt5=[float(x) for x in temp_newt5]\n",
    "    temp_newt5=temp_newt5[2585:2610]\n",
    "    #temp=temp[2015:2063]\n",
    "    print(temp_newt5)\n",
    "    #print(len(temp))\n",
    "#full time period is [2015:2112]"
   ]
  },
  {
   "cell_type": "code",
   "execution_count": 170,
   "id": "94f7876b",
   "metadata": {},
   "outputs": [
    {
     "name": "stdout",
     "output_type": "stream",
     "text": [
      "[20.9, 20.5, 20.1, 19.7, 19.2, 18.9, 18.6, 18.3, 18.1, 18.1, 18.4, 19.2, 20.2, 21.5, 22.6, 23.4, 23.8, 23.7, 23.3, 22.7, 21.9, 21.0, 20.3, 19.7, 19.2]\n"
     ]
    }
   ],
   "source": [
    "#Air Temp CRN:\n",
    "with open('CRNH0203-2022-GA_Newton_11_SW.txt') as f:\n",
    "    lst=[line.split()[33] for line in f]\n",
    "    #print(lst)\n",
    "    temp_crn_newt5=[]\n",
    "    for i in lst:\n",
    "        new=i.replace(',',\"\")\n",
    "        temp_crn_newt5.append(new)\n",
    "    temp_crn_newt5=[float(x) for x in temp_crn_newt5]\n",
    "    temp_crn_newt5=temp_crn_newt5[2595:2620]\n",
    "    print(temp_crn_newt5)\n",
    "    #print(len(temp_crn))\n",
    "    # print(temp_crn[2124])"
   ]
  },
  {
   "cell_type": "code",
   "execution_count": 171,
   "id": "4d737508",
   "metadata": {},
   "outputs": [],
   "source": [
    "# difference5_newt = []\n",
    "\n",
    "# zip_object = zip(temp, temp_crn)\n",
    "# for temp_i, temp_crn_i in zip_object:\n",
    "#     difference5_newt.append(temp_i-temp_crn_i)\n",
    "\n",
    "# print(difference5_newt)"
   ]
  },
  {
   "cell_type": "markdown",
   "id": "cd4a8f77",
   "metadata": {},
   "source": [
    "<font size=\"3\">Salem, MO: 0500 UTC (12:00 am CDT) 27 April 2022-0500 UTC (12:00 am CDT) 28 April 2022</font>"
   ]
  },
  {
   "cell_type": "code",
   "execution_count": 172,
   "id": "e74c5bbe",
   "metadata": {},
   "outputs": [
    {
     "name": "stdout",
     "output_type": "stream",
     "text": [
      "[9.09, 8.31, 7.64001, 7.07001, 6.70999, 6.41, 6.64001, 7.02002, 8.42999, 10.34, 12.53, 14.51, 16.89, 19.19, 20.81, 21.78, 22.0, 21.61, 20.31, 18.87, 16.91, 15.46, 14.35, 13.39, 12.75]\n"
     ]
    }
   ],
   "source": [
    "#1 hr hrrr:\n",
    "with open('hrrr_f12_Salem_MO.txt') as f:\n",
    "    lst=[line.split()[5] for line in f]\n",
    "    temp_sal6=[]\n",
    "    for i in lst:\n",
    "        new=i.replace(',',\"\")\n",
    "        temp_sal6.append(new)\n",
    "    temp_sal6.pop(0)\n",
    "    temp_sal6=[float(x) for x in temp_sal6]\n",
    "    temp_sal6=temp_sal6[2777:2802]\n",
    "    #temp=temp[2015:2063]\n",
    "    print(temp_sal6)\n",
    "#full time period is [2015:2112]"
   ]
  },
  {
   "cell_type": "code",
   "execution_count": 173,
   "id": "370dc7d4",
   "metadata": {},
   "outputs": [
    {
     "name": "stdout",
     "output_type": "stream",
     "text": [
      "[11.4, 10.9, 10.5, 10.2, 9.9, 9.6, 9.4, 9.2, 9.3, 9.8, 10.5, 11.6, 12.6, 13.6, 14.5, 15.3, 15.7, 15.7, 15.4, 14.8, 14.2, 13.6, 13.1, 12.8, 12.4]\n"
     ]
    }
   ],
   "source": [
    "#Air Temp CRN:\n",
    "with open('CRNH0203-2022-MO_Salem_10_W.txt') as f:\n",
    "    lst=[line.split()[33] for line in f]\n",
    "    #print(lst)\n",
    "    temp_crn_sal6=[]\n",
    "    for i in lst:\n",
    "        new=i.replace(',',\"\")\n",
    "        temp_crn_sal6.append(new)\n",
    "    temp_crn_sal6=[float(x) for x in temp_crn_sal6]\n",
    "    temp_crn_sal6=temp_crn_sal6[2788:2813]\n",
    "    print(temp_crn_sal6)\n",
    "    # print(temp_crn[2124])"
   ]
  },
  {
   "cell_type": "code",
   "execution_count": 174,
   "id": "38ad8303",
   "metadata": {},
   "outputs": [],
   "source": [
    "# difference6_sal = []\n",
    "\n",
    "# zip_object = zip(temp, temp_crn)\n",
    "# for temp_i, temp_crn_i in zip_object:\n",
    "#     difference6_sal.append(temp_i-temp_crn_i)\n",
    "\n",
    "# print(difference6_sal)"
   ]
  },
  {
   "cell_type": "markdown",
   "id": "a9ca1aca",
   "metadata": {},
   "source": [
    "<font size=\"3\">Batesville, AR: 0600 UTC (12:00 am CST) 01 March 2022-0600 UTC (12:00 am CST) 02 March 2022</font>"
   ]
  },
  {
   "cell_type": "code",
   "execution_count": 175,
   "id": "90b292da",
   "metadata": {},
   "outputs": [
    {
     "name": "stdout",
     "output_type": "stream",
     "text": [
      "[11.23, 10.67, 10.16, 9.56, 9.04001, 8.70999, 8.41, 8.30002, 9.97, 12.7, 14.69, 16.5, 18.22, 19.65, 20.79, 21.51, 21.93, 21.73, 20.89, 19.62, 17.46, 15.86, 15.04, 14.26, 13.4]\n"
     ]
    }
   ],
   "source": [
    "#1 hr hrrr:\n",
    "with open('hrrr_f12_Batesville_AR.txt') as f:\n",
    "    lst=[line.split()[5] for line in f]\n",
    "    temp_bat6=[]\n",
    "    for i in lst:\n",
    "        new=i.replace(',',\"\")\n",
    "        temp_bat6.append(new)\n",
    "    temp_bat6.pop(0)\n",
    "    temp_bat6=[float(x) for x in temp_bat6]\n",
    "    temp_bat6=temp_bat6[2777:2802]\n",
    "#     x = np.array(temp)\n",
    "#     temp = ma.masked_array(x, mask=[0, 0, 0, 0, 0,0,0,0,0,0,0,0,0,0,0,0,0,0,0,0,0,1,0,0,0])\n",
    "    #temp=temp[2015:2063]\n",
    "    print(temp_bat6)"
   ]
  },
  {
   "cell_type": "code",
   "execution_count": 176,
   "id": "67dc1ac6",
   "metadata": {},
   "outputs": [
    {
     "name": "stdout",
     "output_type": "stream",
     "text": [
      "[14.6, 14.1, 13.7, 13.3, 12.9, 12.6, 12.4, 12.1, 12.1, 12.3, 12.8, 13.4, 14.1, 14.9, 15.7, 16.4, 16.7, 16.8, 16.7, 16.3, 16.0, 15.4, 15.0, 14.6, 14.2]\n"
     ]
    }
   ],
   "source": [
    "#Air Temp CRN:\n",
    "with open('CRNH0203-2022-AR_Batesville_8_WNW.txt') as f:\n",
    "    lst=[line.split()[33] for line in f]\n",
    "    #print(lst)\n",
    "    temp_crn_bat6=[]\n",
    "    for i in lst:\n",
    "        new=i.replace(',',\"\")\n",
    "        temp_crn_bat6.append(new)\n",
    "    temp_crn_bat6=[float(x) for x in temp_crn_bat6]\n",
    "    temp_crn_bat6=temp_crn_bat6[2788:2813]\n",
    "#     y = np.array(temp_crn)\n",
    "#     temp_crn = ma.masked_array(y, mask=[0, 0, 0, 0, 0,0,0,0,0,0,0,0,0,0,0,0,0,0,0,0,0,1,0,0,0])\n",
    "    print(temp_crn_bat6)\n",
    "    #print(len(temp_crn))\n",
    "    # print(temp_crn[2124])"
   ]
  },
  {
   "cell_type": "code",
   "execution_count": 177,
   "id": "ea97b53d",
   "metadata": {},
   "outputs": [],
   "source": [
    "# difference6_bat = []\n",
    "\n",
    "# zip_object = zip(temp, temp_crn)\n",
    "# for temp_i, temp_crn_i in zip_object:\n",
    "#     difference6_bat.append(temp_i-temp_crn_i)\n",
    "\n",
    "# print(difference6_bat)"
   ]
  },
  {
   "cell_type": "markdown",
   "id": "5726dedb",
   "metadata": {},
   "source": [
    "<font size=\"3\">Lafayette, LA: 0600 UTC (12:00 am CST) 01 March 2022-0600 UTC (12:00 am CST) 02 March 2022</font>"
   ]
  },
  {
   "cell_type": "code",
   "execution_count": 178,
   "id": "4afdefd5",
   "metadata": {},
   "outputs": [
    {
     "name": "stdout",
     "output_type": "stream",
     "text": [
      "[21.39, 20.28, 19.55, 18.87, 18.07, 17.41, 16.93, 16.31, 17.03, 19.46, 22.51, 25.6, 28.16, 30.28, 31.68, 32.67, 32.84, 32.19, 30.95, 29.0, 26.39, 24.29, 22.62, 21.11, 19.9]\n"
     ]
    }
   ],
   "source": [
    "#1 hr hrrr:\n",
    "with open('hrrr_f12_Lafayette_LA.txt') as f:\n",
    "    lst=[line.split()[5] for line in f]\n",
    "    temp_laf6=[]\n",
    "    for i in lst:\n",
    "        new=i.replace(',',\"\")\n",
    "        temp_laf6.append(new)\n",
    "    temp_laf6.pop(0)\n",
    "    temp_laf6=[float(x) for x in temp_laf6]\n",
    "    temp_laf6=temp_laf6[2777:2802]\n",
    "    #temp=temp[2015:2063]\n",
    "    print(temp_laf6)\n",
    "    #print(len(temp))\n",
    "#full time period is [2015:2112]"
   ]
  },
  {
   "cell_type": "code",
   "execution_count": 179,
   "id": "f87af32e",
   "metadata": {},
   "outputs": [
    {
     "name": "stdout",
     "output_type": "stream",
     "text": [
      "[22.9, 22.6, 22.3, 22.0, 21.6, 21.4, 21.1, 20.8, 20.7, 20.6, 20.8, 21.2, 21.9, 22.6, 23.3, 23.9, 24.4, 24.5, 24.5, 24.4, 23.9, 23.6, 23.0, 22.5, 22.1]\n"
     ]
    }
   ],
   "source": [
    "#Air Temp CRN:\n",
    "with open('CRNH0203-2022-LA_Lafayette_13_SE.txt') as f:\n",
    "    lst=[line.split()[33] for line in f]\n",
    "    #print(lst)\n",
    "    temp_crn_laf6=[]\n",
    "    for i in lst:\n",
    "        new=i.replace(',',\"\")\n",
    "        temp_crn_laf6.append(new)\n",
    "    temp_crn_laf6=[float(x) for x in temp_crn_laf6]\n",
    "    temp_crn_laf6=temp_crn_laf6[2788:2813]\n",
    "    print(temp_crn_laf6)\n",
    "    #print(len(temp_crn))\n",
    "    # print(temp_crn[2124])"
   ]
  },
  {
   "cell_type": "code",
   "execution_count": 180,
   "id": "7b222157",
   "metadata": {},
   "outputs": [],
   "source": [
    "# difference6_laf = []\n",
    "\n",
    "# zip_object = zip(temp, temp_crn)\n",
    "# for temp_i, temp_crn_i in zip_object:\n",
    "#     difference6_laf.append(temp_i-temp_crn_i)\n",
    "\n",
    "# print(difference6_laf)"
   ]
  },
  {
   "cell_type": "markdown",
   "id": "de2bb1cb",
   "metadata": {},
   "source": [
    "<font size=\"3\">Monroe, LA: 0600 UTC (12:00 am CST) 01 March 2022-0600 UTC (12:00 am CST) 02 March 2022</font>"
   ]
  },
  {
   "cell_type": "code",
   "execution_count": 181,
   "id": "ebecba2f",
   "metadata": {},
   "outputs": [
    {
     "name": "stdout",
     "output_type": "stream",
     "text": [
      "[14.56, 13.61, 12.94, 12.11, 11.41, 10.87, 10.47, 9.99002, 10.93, 13.07, 15.48, 17.85, 20.29, 23.09, 25.27, 26.61, 27.17, 26.57, 25.43, 23.66, 21.27, 19.32, 17.79, 16.53, 15.6]\n"
     ]
    }
   ],
   "source": [
    "#1 hr hrrr:\n",
    "with open('hrrr_f12_Monroe_LA.txt') as f:\n",
    "    lst=[line.split()[5] for line in f]\n",
    "    temp_mon6=[]\n",
    "    for i in lst:\n",
    "        new=i.replace(',',\"\")\n",
    "        temp_mon6.append(new)\n",
    "    temp_mon6.pop(0)\n",
    "    temp_mon6=[float(x) for x in temp_mon6]\n",
    "    temp_mon6=temp_mon6[2777:2802]\n",
    "    #temp=temp[2015:2063]\n",
    "    print(temp_mon6)\n",
    "    #print(len(temp))\n",
    "#full time period is [2015:2112]"
   ]
  },
  {
   "cell_type": "code",
   "execution_count": 182,
   "id": "46f2d051",
   "metadata": {},
   "outputs": [
    {
     "name": "stdout",
     "output_type": "stream",
     "text": [
      "[19.9, 19.4, 18.9, 18.4, 18.1, 17.8, 17.4, 17.0, 16.8, 17.0, 17.8, 19.0, 20.4, 21.9, 23.0, 23.8, 24.1, 24.1, 23.6, 22.7, 21.9, 21.0, 20.3, 19.7, 19.0]\n"
     ]
    }
   ],
   "source": [
    "#Air Temp CRN:\n",
    "with open('CRNH0203-2022-LA_Monroe_26_N.txt') as f:\n",
    "    lst=[line.split()[33] for line in f]\n",
    "    #print(lst)\n",
    "    temp_crn_mon6=[]\n",
    "    for i in lst:\n",
    "        new=i.replace(',',\"\")\n",
    "        temp_crn_mon6.append(new)\n",
    "    temp_crn_mon6=[float(x) for x in temp_crn_mon6]\n",
    "    temp_crn_mon6=temp_crn_mon6[2788:2813]\n",
    "    print(temp_crn_mon6)\n",
    "    #print(len(temp_crn))\n",
    "    # print(temp_crn[2124])"
   ]
  },
  {
   "cell_type": "code",
   "execution_count": 183,
   "id": "7f448702",
   "metadata": {},
   "outputs": [],
   "source": [
    "# difference6_mon = []\n",
    "\n",
    "# zip_object = zip(temp, temp_crn)\n",
    "# for temp_i, temp_crn_i in zip_object:\n",
    "#     difference6_mon.append(temp_i-temp_crn_i)\n",
    "\n",
    "# print(difference6_mon)"
   ]
  },
  {
   "cell_type": "markdown",
   "id": "49e00369",
   "metadata": {},
   "source": [
    "<font size=\"3\">Holly Springs, MS: 0600 UTC (12:00 am CST) 01 March 2022-0600 UTC (12:00 am CST) 02 March 2022</font>"
   ]
  },
  {
   "cell_type": "code",
   "execution_count": 184,
   "id": "a9302d89",
   "metadata": {},
   "outputs": [
    {
     "name": "stdout",
     "output_type": "stream",
     "text": [
      "[10.03, 9.36002, 8.67999, 8.14999, 7.72, 7.26001, 6.94, 6.92999, 8.76001, 11.19, 13.55, 15.67, 17.56, 19.42, 21.15, 22.35, 22.87, 22.38, 21.22, 19.83, 17.65, 16.11, 15.03, 14.14, 13.37]\n"
     ]
    }
   ],
   "source": [
    "#1 hr hrrr:\n",
    "with open('hrrr_f12_Holly Springs_MS.txt') as f:\n",
    "    lst=[line.split()[5] for line in f]\n",
    "    temp_hol6=[]\n",
    "    for i in lst:\n",
    "        new=i.replace(',',\"\")\n",
    "        temp_hol6.append(new)\n",
    "    temp_hol6.pop(0)\n",
    "    temp_hol6=[float(x) for x in temp_hol6]\n",
    "    temp_hol6=temp_hol6[2777:2802]\n",
    "    #temp=temp[2015:2063]\n",
    "    print(temp_hol6)\n",
    "    #print(len(temp))\n",
    "#full time period is [2015:2112]"
   ]
  },
  {
   "cell_type": "code",
   "execution_count": 185,
   "id": "136bd6ce",
   "metadata": {},
   "outputs": [
    {
     "name": "stdout",
     "output_type": "stream",
     "text": [
      "[16.7, 16.2, 15.8, 15.3, 14.8, 14.4, 14.1, 13.8, 13.8, 14.8, 16.0, 17.4, 18.6, 19.9, 20.9, 21.6, 21.9, 21.9, 21.4, 20.6, 19.7, 18.9, 18.2, 17.7, 17.3]\n"
     ]
    }
   ],
   "source": [
    "#Air Temp CRN:\n",
    "with open('CRNH0203-2022-MS_Holly_Springs_4_N.txt') as f:\n",
    "    lst=[line.split()[33] for line in f]\n",
    "    #print(lst)\n",
    "    temp_crn_hol6=[]\n",
    "    for i in lst:\n",
    "        new=i.replace(',',\"\")\n",
    "        temp_crn_hol6.append(new)\n",
    "    temp_crn_hol6=[float(x) for x in temp_crn_hol6]\n",
    "    temp_crn_hol6=temp_crn_hol6[2788:2813]\n",
    "    print(temp_crn_hol6)\n",
    "    #print(len(temp_crn))\n",
    "    # print(temp_crn[2124])"
   ]
  },
  {
   "cell_type": "code",
   "execution_count": 186,
   "id": "19a13a82",
   "metadata": {},
   "outputs": [],
   "source": [
    "# difference6_hol = []\n",
    "\n",
    "# zip_object = zip(temp, temp_crn)\n",
    "# for temp_i, temp_crn_i in zip_object:\n",
    "#     difference6_hol.append(temp_i-temp_crn_i)\n",
    "\n",
    "# print(difference6_hol)"
   ]
  },
  {
   "cell_type": "markdown",
   "id": "4753a3b0",
   "metadata": {},
   "source": [
    "<font size=\"3\">Newton, MS: 0600 UTC (12:00 am CST) 01 March 2022-0600 UTC (12:00 am CST) 02 March 2022</font>"
   ]
  },
  {
   "cell_type": "code",
   "execution_count": 187,
   "id": "68f58603",
   "metadata": {},
   "outputs": [
    {
     "name": "stdout",
     "output_type": "stream",
     "text": [
      "[16.67, 15.87, 15.06, 14.38, 13.76, 13.37, 12.86, 12.39, 13.85, 16.29, 18.97, 21.48, 23.65, 25.49, 26.54, 27.2, 27.24, 26.42, 25.11, 23.35, 21.2, 19.4, 17.98, 16.87, 15.79]\n"
     ]
    }
   ],
   "source": [
    "#1 hr hrrr:\n",
    "with open('hrrr_f12_Newton_MS.txt') as f:\n",
    "    lst=[line.split()[5] for line in f]\n",
    "    temp_new6=[]\n",
    "    for i in lst:\n",
    "        new=i.replace(',',\"\")\n",
    "        temp_new6.append(new)\n",
    "    temp_new6.pop(0)\n",
    "    temp_new6=[float(x) for x in temp_new6]\n",
    "    temp_new6=temp_new6[2777:2802]\n",
    "    #temp=temp[2015:2063]\n",
    "    print(temp_new6)\n",
    "    #print(len(temp))\n",
    "#full time period is [2015:2112]"
   ]
  },
  {
   "cell_type": "code",
   "execution_count": 188,
   "id": "4689695e",
   "metadata": {},
   "outputs": [
    {
     "name": "stdout",
     "output_type": "stream",
     "text": [
      "[19.4, 19.0, 18.6, 18.3, 17.9, 17.4, 17.1, 16.8, 17.0, 17.6, 18.7, 20.3, 21.8, 23.1, 23.8, 24.1, 24.0, 23.5, 22.9, 22.1, 21.2, 20.4, 19.7, 19.0, 18.5]\n"
     ]
    }
   ],
   "source": [
    "#Air Temp CRN:\n",
    "with open('CRNH0203-2022-MS_Newton_5_ENE.txt') as f:\n",
    "    lst=[line.split()[33] for line in f]\n",
    "    #print(lst)\n",
    "    temp_crn_new6=[]\n",
    "    for i in lst:\n",
    "        new=i.replace(',',\"\")\n",
    "        temp_crn_new6.append(new)\n",
    "    temp_crn_new6=[float(x) for x in temp_crn_new6]\n",
    "    temp_crn_new6=temp_crn_new6[2788:2813]\n",
    "    print(temp_crn_new6)\n",
    "    #print(len(temp_crn))\n",
    "    # print(temp_crn[2124])"
   ]
  },
  {
   "cell_type": "code",
   "execution_count": 189,
   "id": "d00b8a13",
   "metadata": {},
   "outputs": [],
   "source": [
    "# difference6_new = []\n",
    "\n",
    "# zip_object = zip(temp, temp_crn)\n",
    "# for temp_i, temp_crn_i in zip_object:\n",
    "#     difference6_new.append(temp_i-temp_crn_i)\n",
    "\n",
    "# print(difference6_new)"
   ]
  },
  {
   "cell_type": "markdown",
   "id": "f6dc6918",
   "metadata": {},
   "source": [
    "<font size=\"3\">Gainesville, AL: 0600 UTC (12:00 am CST) 01 March 2022-0600 UTC (12:00 am CST) 02 March 2022</font>"
   ]
  },
  {
   "cell_type": "code",
   "execution_count": 190,
   "id": "853a5cd2",
   "metadata": {},
   "outputs": [],
   "source": [
    "# #1 hr hrrr:\n",
    "# with open('hrrr_f12_Gainesville_AL.txt') as f:\n",
    "#     lst=[line.split()[5] for line in f]\n",
    "#     temp=[]\n",
    "#     for i in lst:\n",
    "#         new=i.replace(',',\"\")\n",
    "#         temp.append(new)\n",
    "#     temp.pop(0)\n",
    "#     temp=[float(x) for x in temp]\n",
    "#     temp=temp[2788:2813]\n",
    "#     #temp=temp[2015:2063]\n",
    "#     print(temp)\n",
    "#     #print(len(temp))\n",
    "# #full time period is [2015:2112]"
   ]
  },
  {
   "cell_type": "code",
   "execution_count": 191,
   "id": "12cd5b43",
   "metadata": {},
   "outputs": [],
   "source": [
    "# #Air Temp CRN:\n",
    "# with open('CRNH0203-2022-AL_Gainesville_2_NE.txt') as f:\n",
    "#     lst=[line.split()[33] for line in f]\n",
    "#     #print(lst)\n",
    "#     temp_crn=[]\n",
    "#     for i in lst:\n",
    "#         new=i.replace(',',\"\")\n",
    "#         temp_crn.append(new)\n",
    "#     temp_crn=[float(x) for x in temp_crn]\n",
    "#     temp_crn=temp_crn[2788:2813]\n",
    "#     print(temp_crn)\n",
    "#     #print(len(temp_crn))\n",
    "#     # print(temp_crn[2124])"
   ]
  },
  {
   "cell_type": "code",
   "execution_count": 192,
   "id": "182dac80",
   "metadata": {},
   "outputs": [],
   "source": [
    "# difference6_gai = []\n",
    "\n",
    "# zip_object = zip(temp, temp_crn)\n",
    "# for temp_i, temp_crn_i in zip_object:\n",
    "#     difference6_gai.append(temp_i-temp_crn_i)\n",
    "\n",
    "# print(difference6_gai)"
   ]
  },
  {
   "cell_type": "markdown",
   "id": "dca2fd19",
   "metadata": {},
   "source": [
    "<font size=\"3\">Fairhope, AL: 0600 UTC (12:00 am CST) 01 March 2022-0600 UTC (12:00 am CST) 02 March 2022</font>"
   ]
  },
  {
   "cell_type": "code",
   "execution_count": 193,
   "id": "a7ac678b",
   "metadata": {},
   "outputs": [
    {
     "name": "stdout",
     "output_type": "stream",
     "text": [
      "[19.95, 19.28, 18.47, 17.63, 16.8, 16.06, 15.43, 14.89, 16.16, 18.51, 21.38, 24.35, 26.86, 28.69, 29.44, 29.73, 29.62, 28.46, 27.03, 24.96, 23.0, 21.35, 20.02, 18.92, 17.96]\n"
     ]
    }
   ],
   "source": [
    "#1 hr hrrr:\n",
    "with open('hrrr_f12_Fairhope_AL.txt') as f:\n",
    "    lst=[line.split()[5] for line in f]\n",
    "    temp_fai6=[]\n",
    "    for i in lst:\n",
    "        new=i.replace(',',\"\")\n",
    "        temp_fai6.append(new)\n",
    "    temp_fai6.pop(0)\n",
    "    temp_fai6=[float(x) for x in temp_fai6]\n",
    "    temp_fai6=temp_fai6[2777:2802]\n",
    "    #temp=temp[2015:2063]\n",
    "    print(temp_fai6)\n",
    "    #print(len(temp))\n",
    "#full time period is [2015:2112]"
   ]
  },
  {
   "cell_type": "code",
   "execution_count": 194,
   "id": "278d8179",
   "metadata": {},
   "outputs": [
    {
     "name": "stdout",
     "output_type": "stream",
     "text": [
      "[21.1, 20.9, 20.7, 20.6, 20.5, 20.3, 20.2, 19.9, 19.8, 19.8, 20.0, 20.2, 20.4, 20.7, 21.2, 21.4, 21.6, 21.6, 21.6, 21.5, 21.3, 21.1, 20.7, 20.6, 20.3]\n"
     ]
    }
   ],
   "source": [
    "#Air Temp CRN:\n",
    "with open('CRNH0203-2022-AL_Fairhope_3_NE.txt') as f:\n",
    "    lst=[line.split()[33] for line in f]\n",
    "    #print(lst)\n",
    "    temp_crn_fai6=[]\n",
    "    for i in lst:\n",
    "        new=i.replace(',',\"\")\n",
    "        temp_crn_fai6.append(new)\n",
    "    temp_crn_fai6=[float(x) for x in temp_crn_fai6]\n",
    "    temp_crn_fai6=temp_crn_fai6[2788:2813]\n",
    "    print(temp_crn_fai6)\n",
    "    #print(len(temp_crn))\n",
    "    # print(temp_crn[2124])"
   ]
  },
  {
   "cell_type": "code",
   "execution_count": 195,
   "id": "c79c3a66",
   "metadata": {},
   "outputs": [],
   "source": [
    "# difference6_fai = []\n",
    "\n",
    "# zip_object = zip(temp, temp_crn)\n",
    "# for temp_i, temp_crn_i in zip_object:\n",
    "#     difference6_fai.append(temp_i-temp_crn_i)\n",
    "\n",
    "# print(difference6_fai)"
   ]
  },
  {
   "cell_type": "markdown",
   "id": "142d4e9c",
   "metadata": {},
   "source": [
    "<font size=\"3\">**Selma, AL: 0600 UTC (12:00 am CST) 01 March 2022-0600 UTC (12:00 am CST) 02 March 2022</font>"
   ]
  },
  {
   "cell_type": "code",
   "execution_count": 196,
   "id": "96d329b9",
   "metadata": {},
   "outputs": [
    {
     "name": "stdout",
     "output_type": "stream",
     "text": [
      "[14.4, 13.73, 13.06, 12.23, 11.54, 10.92, 10.43, 10.41, 12.01, 14.06, 16.54, 18.96, 21.01, 22.92, 24.27, 25.02, 25.24, 24.56, 23.45, 21.98, 19.39, 17.52, 16.17, 15.04, 14.08]\n",
      "[19.3, 18.7, 18.2, 17.8, 17.4, 17.1, 16.6, 16.3, 16.4, 16.7, 17.8, 19.2, 21.0, 22.7, 24.1, 24.8, 25.0, 24.8, 24.3, 23.3, 22.3, 21.4, 20.6, 19.9, 19.3]\n"
     ]
    }
   ],
   "source": [
    "#1 hr hrrr:\n",
    "import numpy as np\n",
    "import numpy.ma as ma\n",
    "with open('hrrr_f12_Selma_AL.txt') as f:\n",
    "    lst=[line.split()[5] for line in f]\n",
    "    temp_sel6=[]\n",
    "    for i in lst:\n",
    "        new=i.replace(',',\"\")\n",
    "        temp_sel6.append(new)\n",
    "    temp_sel6.pop(0)\n",
    "    temp_sel6=[float(x) for x in temp_sel6]\n",
    "    temp_sel6=temp_sel6[2777:2802]\n",
    "\n",
    "#     x = np.array(temp)\n",
    "#     temp = ma.masked_array(x, mask=[0, 0, 0, 0, 0,0,0,0,0,0,0,0,0,0,0,0,0,1,1,1,1,0,0,0,0])\n",
    "    #print(temp)\n",
    "#Air Temp CRN:\n",
    "with open('CRNH0203-2022-AL_Selma_13_WNW.txt') as f:\n",
    "    lst=[line.split()[33] for line in f]\n",
    "    #print(lst)\n",
    "    temp_crn_sel6=[]\n",
    "    for i in lst:\n",
    "        new=i.replace(',',\"\")\n",
    "        temp_crn_sel6.append(new)\n",
    "    temp_crn_sel6=[float(x) for x in temp_crn_sel6]\n",
    "    temp_crn_sel6=temp_crn_sel6[2788:2813]\n",
    "#     y = np.array(temp_crn)\n",
    "#     temp_crn = ma.masked_array(y, mask=[0, 0, 0, 0, 0,0,0,0,0,0,0,0,0,0,0,0,0,1,1,1,1,0,0,0,0])\n",
    "    print(temp_sel6)\n",
    "    #print(len(temp))\n",
    "    print(temp_crn_sel6)\n",
    "    #print(len(temp_crn))\n",
    "# #full time period is [2015:2112]\n",
    "# difference6_sel = []\n",
    "\n",
    "# zip_object = zip(temp, temp_crn)\n",
    "# for temp_i, temp_crn_i in zip_object:\n",
    "#     difference6_sel.append(temp_i-temp_crn_i)\n",
    "\n",
    "# print(difference6_sel)\n",
    "# #print(len(difference3_sel))"
   ]
  },
  {
   "cell_type": "markdown",
   "id": "36c4d6a8",
   "metadata": {},
   "source": [
    "<font size=\"3\">Bowling Green, KY: 0600 UTC (12:00 am CST) 01 March 2022-0600 UTC (12:00 am CST) 02 March 2022</font>"
   ]
  },
  {
   "cell_type": "code",
   "execution_count": 197,
   "id": "d83d7c4d",
   "metadata": {},
   "outputs": [
    {
     "name": "stdout",
     "output_type": "stream",
     "text": [
      "[9.52002, 8.82001, 8.25, 7.57001, 7.14001, 6.64001, 6.34, 6.92001, 9.38, 12.24, 15.01, 18.01, 20.52, 22.28, 23.28, 23.95, 24.04, 23.19, 21.79, 20.07, 17.73, 16.3, 15.11, 14.21, 13.27]\n"
     ]
    }
   ],
   "source": [
    "#1 hr hrrr:\n",
    "with open('hrrr_f12_Bowling Green_KY.txt') as f:\n",
    "    lst=[line.split()[5] for line in f]\n",
    "    temp_bow6=[]\n",
    "    for i in lst:\n",
    "        new=i.replace(',',\"\")\n",
    "        temp_bow6.append(new)\n",
    "    temp_bow6.pop(0)\n",
    "    temp_bow6=[float(x) for x in temp_bow6]\n",
    "    temp_bow6=temp_bow6[2777:2802]\n",
    "    #temp=temp[2015:2063]\n",
    "    print(temp_bow6)\n",
    "    #print(len(temp))\n",
    "#full time period is [2015:2112]"
   ]
  },
  {
   "cell_type": "code",
   "execution_count": 198,
   "id": "8f795cb5",
   "metadata": {},
   "outputs": [
    {
     "name": "stdout",
     "output_type": "stream",
     "text": [
      "[13.7, 13.1, 12.7, 12.3, 11.9, 11.6, 11.3, 11.0, 11.2, 11.8, 12.8, 14.2, 15.7, 17.1, 18.3, 19.0, 19.2, 19.1, 18.5, 17.7, 16.8, 16.0, 15.3, 14.8, 14.3]\n"
     ]
    }
   ],
   "source": [
    "#Air Temp CRN:\n",
    "with open('CRNH0203-2022-KY_Bowling_Green_21_NNE.txt') as f:\n",
    "    lst=[line.split()[33] for line in f]\n",
    "    #print(lst)\n",
    "    temp_crn_bow6=[]\n",
    "    for i in lst:\n",
    "        new=i.replace(',',\"\")\n",
    "        temp_crn_bow6.append(new)\n",
    "    temp_crn_bow6=[float(x) for x in temp_crn_bow6]\n",
    "    temp_crn_bow6=temp_crn_bow6[2788:2813]\n",
    "    print(temp_crn_bow6)\n",
    "    #print(len(temp_crn))\n",
    "    # print(temp_crn[2124])"
   ]
  },
  {
   "cell_type": "code",
   "execution_count": 199,
   "id": "e091d5ac",
   "metadata": {},
   "outputs": [],
   "source": [
    "# difference6_bow = []\n",
    "\n",
    "# zip_object = zip(temp, temp_crn)\n",
    "# for temp_i, temp_crn_i in zip_object:\n",
    "#     difference6_bow.append(temp_i-temp_crn_i)\n",
    "\n",
    "# print(difference6_bow)"
   ]
  },
  {
   "cell_type": "markdown",
   "id": "f806c48f",
   "metadata": {},
   "source": [
    "<font size=\"3\">Gadsden, AL: 0600 UTC (12:00 am CST) 01 March 2022-0600 UTC (12:00 am CST) 02 March 2022</font>"
   ]
  },
  {
   "cell_type": "code",
   "execution_count": 200,
   "id": "8d69cb25",
   "metadata": {},
   "outputs": [
    {
     "name": "stdout",
     "output_type": "stream",
     "text": [
      "[10.97, 10.3, 9.63, 9.04001, 8.67001, 8.31, 7.66, 7.92999, 9.80002, 12.18, 14.95, 17.52, 19.88, 21.92, 22.67, 23.38, 23.3, 22.61, 21.3, 19.56, 17.7, 16.35, 14.77, 13.6, 12.56]\n"
     ]
    }
   ],
   "source": [
    "#1 hr hrrr:\n",
    "with open('hrrr_f12_Gadsden_AL.txt') as f:\n",
    "    lst=[line.split()[5] for line in f]\n",
    "    temp_gad6=[]\n",
    "    for i in lst:\n",
    "        new=i.replace(',',\"\")\n",
    "        temp_gad6.append(new)\n",
    "    temp_gad6.pop(0)\n",
    "    temp_gad6=[float(x) for x in temp_gad6]\n",
    "    temp_gad6=temp_gad6[2777:2802]\n",
    "#     x = np.array(temp)\n",
    "#     temp = ma.masked_array(x, mask=[0, 0, 0, 0, 0,0,0,0,1,0,0,0,0,0,0,0,0,0,0,0,0,0,0,0,0])\n",
    "    #temp=temp[2015:2063]\n",
    "    print(temp_gad6)\n",
    "    #print(len(temp))\n",
    "#full time period is [2015:2112]"
   ]
  },
  {
   "cell_type": "code",
   "execution_count": 201,
   "id": "b2389c35",
   "metadata": {},
   "outputs": [
    {
     "name": "stdout",
     "output_type": "stream",
     "text": [
      "[17.3, 16.8, 16.4, 16.0, 15.6, 15.3, 14.9, 14.6, 14.6, 15.1, 15.7, 16.9, 18.1, 19.3, 20.3, 20.9, 21.1, 20.8, 20.5, 19.9, 19.2, 18.6, 18.1, 17.5, 17.0]\n"
     ]
    }
   ],
   "source": [
    "#Air Temp CRN:\n",
    "with open('CRNH0203-2022-AL_Gadsden_19_N.txt') as f:\n",
    "    lst=[line.split()[33] for line in f]\n",
    "    #print(lst)\n",
    "    temp_crn_gad6=[]\n",
    "    for i in lst:\n",
    "        new=i.replace(',',\"\")\n",
    "        temp_crn_gad6.append(new)\n",
    "    temp_crn_gad6=[float(x) for x in temp_crn_gad6]\n",
    "    temp_crn_gad6=temp_crn_gad6[2788:2813]\n",
    "#     y = np.array(temp_crn)\n",
    "#     temp_crn = ma.masked_array(y, mask=[0, 0, 0, 0, 0,0,0,0,1,0,0,0,0,0,0,0,0,0,0,0,0,0,0,0,0])\n",
    "    print(temp_crn_gad6)\n",
    "    #print(len(temp_crn))\n",
    "    # print(temp_crn[2124])"
   ]
  },
  {
   "cell_type": "code",
   "execution_count": 202,
   "id": "8b6d3e05",
   "metadata": {},
   "outputs": [],
   "source": [
    "# difference6_gad = []\n",
    "\n",
    "# zip_object = zip(temp, temp_crn)\n",
    "# for temp_i, temp_crn_i in zip_object:\n",
    "#     difference6_gad.append(temp_i-temp_crn_i)\n",
    "\n",
    "# print(difference6_gad)"
   ]
  },
  {
   "cell_type": "markdown",
   "id": "a0cf3d12",
   "metadata": {},
   "source": [
    "<font size=\"3\">Newton, GA: 0600 UTC (12:00 am CST) 01 March 2022-0600 UTC (12:00 am CST) 02 March 2022</font>"
   ]
  },
  {
   "cell_type": "code",
   "execution_count": 203,
   "id": "3fd04e58",
   "metadata": {},
   "outputs": [
    {
     "name": "stdout",
     "output_type": "stream",
     "text": [
      "[21.59, 20.96, 20.05, 19.48, 18.51, 17.93, 17.94, 17.32, 18.63, 21.0, 23.89, 26.8, 28.81, 30.58, 31.33, 31.7, 31.66, 30.72, 29.3, 27.25, 24.96, 23.37, 22.09, 21.05, 20.04]\n"
     ]
    }
   ],
   "source": [
    "#1 hr hrrr:\n",
    "with open('hrrr_f12_Newton_GA.txt') as f:\n",
    "    lst=[line.split()[5] for line in f]\n",
    "    temp_newt6=[]\n",
    "    for i in lst:\n",
    "        new=i.replace(',',\"\")\n",
    "        temp_newt6.append(new)\n",
    "    temp_newt6.pop(0)\n",
    "    temp_newt6=[float(x) for x in temp_newt6]\n",
    "    temp_newt6=temp_newt6[2777:2802]\n",
    "    #temp=temp[2015:2063]\n",
    "    print(temp_newt6)\n",
    "    #print(len(temp))\n",
    "#full time period is [2015:2112]"
   ]
  },
  {
   "cell_type": "code",
   "execution_count": 204,
   "id": "727d988e",
   "metadata": {},
   "outputs": [
    {
     "name": "stdout",
     "output_type": "stream",
     "text": [
      "[24.3, 24.0, 23.6, 23.2, 22.8, 22.5, 22.2, 21.9, 21.6, 21.7, 22.2, 23.2, 24.4, 25.8, 27.0, 27.9, 28.2, 28.1, 27.7, 27.0, 26.2, 25.3, 24.5, 23.9, 23.4]\n"
     ]
    }
   ],
   "source": [
    "#Air Temp CRN:\n",
    "with open('CRNH0203-2022-GA_Newton_11_SW.txt') as f:\n",
    "    lst=[line.split()[33] for line in f]\n",
    "    #print(lst)\n",
    "    temp_crn_newt6=[]\n",
    "    for i in lst:\n",
    "        new=i.replace(',',\"\")\n",
    "        temp_crn_newt6.append(new)\n",
    "    temp_crn_newt6=[float(x) for x in temp_crn_newt6]\n",
    "    temp_crn_newt6=temp_crn_newt6[2787:2812]\n",
    "    print(temp_crn_newt6)\n",
    "    #print(len(temp_crn))\n",
    "    # print(temp_crn[2124])"
   ]
  },
  {
   "cell_type": "code",
   "execution_count": 205,
   "id": "53f1a23a",
   "metadata": {},
   "outputs": [],
   "source": [
    "# difference6_newt = []\n",
    "\n",
    "# zip_object = zip(temp, temp_crn)\n",
    "# for temp_i, temp_crn_i in zip_object:\n",
    "#     difference6_newt.append(temp_i-temp_crn_i)\n",
    "\n",
    "# print(difference6_newt)"
   ]
  },
  {
   "cell_type": "code",
   "execution_count": 206,
   "id": "8a134c48",
   "metadata": {},
   "outputs": [
    {
     "name": "stdout",
     "output_type": "stream",
     "text": [
      "25\n"
     ]
    }
   ],
   "source": [
    "hour=[6,7,8,9,10,11,12,13,14,15,16,17,18,19,20,21,22,23,0,1,2,3,4,5,6]\n",
    "print(len(hour))"
   ]
  },
  {
   "cell_type": "code",
   "execution_count": 207,
   "id": "45def68f",
   "metadata": {},
   "outputs": [
    {
     "name": "stdout",
     "output_type": "stream",
     "text": [
      "range(0, 25)\n"
     ]
    }
   ],
   "source": [
    "xs = range(len(hour))\n",
    "print(xs)"
   ]
  },
  {
   "cell_type": "code",
   "execution_count": 208,
   "id": "d5fd370b",
   "metadata": {},
   "outputs": [
    {
     "name": "stdout",
     "output_type": "stream",
     "text": [
      "[ 6.68636727  6.37273     5.71091818  5.27909818  4.92546364  4.63909818\n",
      "  4.35363909  4.02637636  5.49910455  8.49000455 11.54364182 14.11272727\n",
      " 16.32545455 17.99272727 19.04       19.31818182 18.98818182 17.74272727\n",
      " 15.54181818 13.45363636 12.23908909 11.33000091 10.64000545  9.86364182\n",
      "  9.20182455]\n",
      "[ 9.12727273  8.85454545  8.6         8.35454545  8.18181818  7.91818182\n",
      "  7.77272727  7.63636364  7.6         8.02727273  8.86363636  9.93636364\n",
      " 11.08181818 12.12727273 12.83636364 13.23636364 13.29090909 13.05454545\n",
      " 12.57272727 12.03636364 11.49090909 11.04545455 10.61818182 10.26363636\n",
      "  9.90909091]\n"
     ]
    },
    {
     "data": {
      "text/plain": [
       "25"
      ]
     },
     "execution_count": 208,
     "metadata": {},
     "output_type": "execute_result"
    }
   ],
   "source": [
    "c1 = np.array([temp_sal1,temp_bat1,temp_laf1,temp_mon1,temp_hol1,temp_new1,temp_fai1,temp_sel1,temp_bow1,temp_gad1,temp_newt1])\n",
    "c1=np.nanmean(c1, axis=0)\n",
    "print(c1)\n",
    "len(c1)\n",
    "\n",
    "b1 = np.array([temp_crn_sal1,temp_crn_bat1,temp_crn_laf1,temp_crn_mon1,temp_crn_hol1,temp_crn_new1,temp_crn_fai1,temp_crn_sel1,temp_crn_bow1,temp_crn_gad1,temp_crn_newt1])\n",
    "b1=np.nanmean(b1, axis=0)\n",
    "print(b1)\n",
    "len(b1)"
   ]
  },
  {
   "cell_type": "code",
   "execution_count": 209,
   "id": "7d6e3e43",
   "metadata": {},
   "outputs": [
    {
     "data": {
      "image/png": "[encoded data removed]",
      "text/plain": [
       "<Figure size 792x396 with 1 Axes>"
      ]
     },
     "metadata": {},
     "output_type": "display_data"
    }
   ],
   "source": [
    "plt.style.use('seaborn-whitegrid')\n",
    "plt.rcParams[\"figure.figsize\"] = [11.00, 5.50]\n",
    "plt.rcParams[\"figure.autolayout\"] = True\n",
    "plt.yticks(np.arange(-35,40,5))\n",
    "plt.ylim(-35,35)\n",
    "# c[6]=None\n",
    "# b[6]=None\n",
    "\n",
    "plt.plot(xs,c1,c=\"b\", marker='o')\n",
    "plt.plot(xs,b1,c=\"orange\", marker='o')\n",
    "# c[6]=None\n",
    "# b[6]=None\n",
    "\n",
    "plt.title(\"1-hr Avg. MBE All Stations\")\n",
    "plt.xlabel(\"UTC Hour\")\n",
    "plt.ylabel(\"MBE Incoming Radiation (W/m^2)\")\n",
    "#plt.plot(hour,c)\n",
    "#plt.errorbar(hour,c,yerr=b,ecolor='r',elinewidth=5,fmt='s',color='k')\n",
    "#plt.grid()\n",
    "plt.xticks(xs, hour)\n",
    "plt.show()\n",
    "#plt.axvspan(-4, 4, color='green', alpha=0.2, lw=0)"
   ]
  },
  {
   "cell_type": "code",
   "execution_count": 210,
   "id": "3931d44b",
   "metadata": {},
   "outputs": [
    {
     "name": "stdout",
     "output_type": "stream",
     "text": [
      "[ 2.04364018  1.74909455  1.45455691  1.07818273  0.85181791  0.82909491\n",
      "  0.65272918  0.79818909  2.34818918  4.67636691  7.32455064 10.00909455\n",
      " 12.27454545 14.14091    15.26545364 15.74454545 15.35454545 14.20727364\n",
      " 12.37454727 10.45636364  9.29273     8.41363909  7.66000364  6.95000455\n",
      "  6.23273182]\n",
      "[ 8.34545455  8.08181818  7.83636364  7.62727273  7.39090909  7.21818182\n",
      "  7.04545455  6.90909091  6.93636364  7.30909091  7.98181818  8.94545455\n",
      " 10.07272727 11.16363636 11.9        12.34545455 12.43636364 12.17272727\n",
      " 11.79090909 11.28181818 10.77272727 10.34545455  9.99090909  9.69090909\n",
      "  9.41818182]\n"
     ]
    }
   ],
   "source": [
    "c2 = np.array([temp_sal2,temp_bat2,temp_laf2,temp_mon2,temp_hol2,temp_new2,temp_fai2,temp_sel2,temp_bow2,temp_gad2,temp_newt2])\n",
    "c2=np.nanmean(c2, axis=0)\n",
    "print(c2)\n",
    "\n",
    "\n",
    "b2 = np.array([temp_crn_sal2,temp_crn_bat2,temp_crn_laf2,temp_crn_mon2,temp_crn_hol2,temp_crn_new2,temp_crn_fai2,temp_crn_sel2,temp_crn_bow2,temp_crn_gad2,temp_crn_newt2])\n",
    "b2=np.nanmean(b2, axis=0)\n",
    "print(b2)"
   ]
  },
  {
   "cell_type": "code",
   "execution_count": 211,
   "id": "4c8ac8a3",
   "metadata": {},
   "outputs": [
    {
     "data": {
      "image/png": "[encoded data removed]",
      "text/plain": [
       "<Figure size 792x396 with 1 Axes>"
      ]
     },
     "metadata": {},
     "output_type": "display_data"
    }
   ],
   "source": [
    "plt.style.use('seaborn-whitegrid')\n",
    "plt.rcParams[\"figure.figsize\"] = [11.00, 5.50]\n",
    "plt.rcParams[\"figure.autolayout\"] = True\n",
    "plt.yticks(np.arange(-35,40,5))\n",
    "plt.ylim(-35,35)\n",
    "# c[6]=None\n",
    "# b[6]=None\n",
    "\n",
    "plt.plot(xs,c2,c=\"r\", marker='o')\n",
    "plt.plot(xs,b2,c=\"orange\", marker='o')\n",
    "# c[6]=None\n",
    "# b[6]=None\n",
    "\n",
    "plt.title(\"1-hr Avg. MBE All Stations\")\n",
    "plt.xlabel(\"UTC Hour\")\n",
    "plt.ylabel(\"MBE Incoming Radiation (W/m^2)\")\n",
    "#plt.plot(hour,c)\n",
    "#plt.errorbar(hour,c,yerr=b,ecolor='r',elinewidth=5,fmt='s',color='k')\n",
    "#plt.grid()\n",
    "plt.xticks(xs, hour)\n",
    "plt.show()\n",
    "#plt.axvspan(-4, 4, color='green', alpha=0.2, lw=0)"
   ]
  },
  {
   "cell_type": "code",
   "execution_count": 212,
   "id": "e7aee5e0",
   "metadata": {},
   "outputs": [
    {
     "name": "stdout",
     "output_type": "stream",
     "text": [
      "[10.42182     9.70000455  9.02454909  8.39818727  7.84182091  7.48000091\n",
      "  7.17727727  6.83727727  7.00182455  9.35727545 12.30454909 14.96363636\n",
      " 17.35636364 19.32818182 20.97727273 21.90272727 22.20636364 21.87272727\n",
      " 20.68272727 18.88454545 16.60272727 15.09909091 14.06727273 13.33909091\n",
      " 12.60272909]\n",
      "[12.86363636 12.51818182 12.14545455 11.84545455 11.55454545 11.3\n",
      " 11.01818182 10.77272727 10.59090909 10.75454545 11.34545455 12.33636364\n",
      " 13.51818182 14.59090909 15.54545455 16.25454545 16.53636364 16.60909091\n",
      " 16.32727273 15.84545455 15.24545455 14.69090909 14.17272727 13.75454545\n",
      " 13.35454545]\n"
     ]
    }
   ],
   "source": [
    "c3= np.array([temp_sal3,temp_bat3,temp_laf3,temp_mon3,temp_hol3,temp_new3,temp_fai3,temp_sel3,temp_bow3,temp_gad3,temp_newt3])\n",
    "c3=np.nanmean(c3, axis=0)\n",
    "print(c3)\n",
    "\n",
    "\n",
    "b3= np.array([temp_crn_sal3,temp_crn_bat3,temp_crn_laf3,temp_crn_mon3,temp_crn_hol3,temp_crn_new3,temp_crn_fai3,temp_crn_sel3,temp_crn_bow3,temp_crn_gad3,temp_crn_newt3])\n",
    "b3=np.nanmean(b3, axis=0)\n",
    "print(b3)"
   ]
  },
  {
   "cell_type": "code",
   "execution_count": 213,
   "id": "0d8bef30",
   "metadata": {
    "scrolled": false
   },
   "outputs": [],
   "source": [
    "# def mean(numbers):\n",
    "#     return float(sum(numbers)) / max(len(numbers), 1)\n",
    "\n",
    "# # difference1_sel[17]=0\n",
    "# # difference1_sel[18]=0\n",
    "# # difference1_sel[19]=0\n",
    "# # difference1_sel[20]=0\n",
    "# c3 = [mean(i) for i in zip(difference3_sal,difference3_bat,difference3_laf,difference3_mon,difference3_hol,difference3_new,difference3_gai,difference3_fai,difference3_sel,difference3_bow,difference3_gad,difference3_newt)]\n",
    "# #difference1_bow[6]=0\n",
    "# b3 = [np.std(i) for i in zip(difference3_sal,difference3_bat,difference3_laf,difference3_mon,difference3_hol,difference3_new,difference3_gai,difference3_fai,difference3_sel,difference3_bow,difference3_gad,difference3_newt)]\n",
    "# print (c3)\n",
    "# print(len(c3))\n",
    "# print(b3)\n",
    "# print(len(b3))"
   ]
  },
  {
   "cell_type": "code",
   "execution_count": 214,
   "id": "00a5e783",
   "metadata": {},
   "outputs": [
    {
     "data": {
      "image/png": "[encoded data removed]",
      "text/plain": [
       "<Figure size 792x396 with 1 Axes>"
      ]
     },
     "metadata": {},
     "output_type": "display_data"
    }
   ],
   "source": [
    "plt.style.use('seaborn-whitegrid')\n",
    "plt.rcParams[\"figure.figsize\"] = [11.00, 5.50]\n",
    "plt.rcParams[\"figure.autolayout\"] = True\n",
    "plt.yticks(np.arange(-35,40,5))\n",
    "plt.ylim(-35,35)\n",
    "# c[6]=None\n",
    "# b[6]=None\n",
    "\n",
    "plt.plot(xs,c3,c=\"green\", marker='o')\n",
    "plt.plot(xs,b3,c=\"orange\", marker='o')\n",
    "# c[6]=None\n",
    "# b[6]=None\n",
    "\n",
    "plt.title(\"1-hr Avg. MBE All Stations\")\n",
    "plt.xlabel(\"UTC Hour\")\n",
    "plt.ylabel(\"MBE Incoming Radiation (W/m^2)\")\n",
    "#plt.plot(hour,c)\n",
    "#plt.errorbar(hour,c,yerr=b,ecolor='r',elinewidth=5,fmt='s',color='k')\n",
    "#plt.grid()\n",
    "plt.xticks(xs, hour)\n",
    "plt.show()\n",
    "#plt.axvspan(-4, 4, color='green', alpha=0.2, lw=0)"
   ]
  },
  {
   "cell_type": "code",
   "execution_count": 215,
   "id": "b2d7f7dd",
   "metadata": {},
   "outputs": [
    {
     "name": "stdout",
     "output_type": "stream",
     "text": [
      "[12.69727455 12.02363818 11.28000273 10.70636818 10.18000455  9.71909636\n",
      "  9.35727818  8.82818727  9.55454909 11.97272818 14.72545636 17.27181818\n",
      " 19.44090909 21.46818182 22.94545455 23.91272727 24.14818182 23.55090909\n",
      " 22.27       20.42       18.19272727 16.61363636 15.54       14.55091\n",
      " 13.75909   ]\n",
      "[14.07272727 13.72727273 13.42727273 13.12727273 12.82727273 12.55454545\n",
      " 12.31818182 12.09090909 12.         12.27272727 12.98181818 13.98181818\n",
      " 15.12727273 16.26363636 17.25454545 17.9        18.19090909 18.16363636\n",
      " 17.8        17.27272727 16.64545455 16.07272727 15.56363636 15.17272727\n",
      " 14.8       ]\n"
     ]
    }
   ],
   "source": [
    "c4= np.array([temp_sal4,temp_bat4,temp_laf4,temp_mon4,temp_hol4,temp_new4,temp_fai4,temp_sel4,temp_bow4,temp_gad4,temp_newt4])\n",
    "c4=np.nanmean(c4, axis=0)\n",
    "print(c4)\n",
    "\n",
    "\n",
    "b4= np.array([temp_crn_sal4,temp_crn_bat4,temp_crn_laf4,temp_crn_mon4,temp_crn_hol4,temp_crn_new4,temp_crn_fai4,temp_crn_sel4,temp_crn_bow4,temp_crn_gad4,temp_crn_newt4])\n",
    "b4=np.nanmean(b4, axis=0)\n",
    "print(b4)"
   ]
  },
  {
   "cell_type": "code",
   "execution_count": 216,
   "id": "b1774c6c",
   "metadata": {
    "scrolled": false
   },
   "outputs": [],
   "source": [
    "# def mean(numbers):\n",
    "#     return float(sum(numbers)) / max(len(numbers), 1)\n",
    "\n",
    "# # difference1_sel[17]=0\n",
    "# # difference1_sel[18]=0\n",
    "# # difference1_sel[19]=0\n",
    "# # difference1_sel[20]=0\n",
    "# c4 = [mean(i) for i in zip(difference4_sal,difference4_bat,difference4_laf,difference4_mon,difference4_hol,difference4_new,difference4_gai,difference4_fai,difference4_sel,difference4_bow,difference4_gad,difference4_newt)]\n",
    "# #difference1_bow[6]=0\n",
    "# b4 = [np.std(i) for i in zip(difference4_sal,difference4_bat,difference4_laf,difference4_mon,difference4_hol,difference4_new,difference4_gai,difference4_fai,difference4_sel,difference4_bow,difference4_gad,difference4_newt)]\n",
    "# print (c4)\n",
    "# print(len(c4))\n",
    "# print(b4)\n",
    "# print(len(b4))"
   ]
  },
  {
   "cell_type": "code",
   "execution_count": 217,
   "id": "e70a6cef",
   "metadata": {},
   "outputs": [
    {
     "data": {
      "image/png": "[encoded data removed]",
      "text/plain": [
       "<Figure size 792x396 with 1 Axes>"
      ]
     },
     "metadata": {},
     "output_type": "display_data"
    }
   ],
   "source": [
    "plt.style.use('seaborn-whitegrid')\n",
    "plt.rcParams[\"figure.figsize\"] = [11.00, 5.50]\n",
    "plt.rcParams[\"figure.autolayout\"] = True\n",
    "plt.yticks(np.arange(-35,40,5))\n",
    "plt.ylim(-35,35)\n",
    "# c[6]=None\n",
    "# b[6]=None\n",
    "\n",
    "plt.plot(xs,c4,c=\"teal\", marker='o')\n",
    "plt.plot(xs,b4,c=\"orange\", marker='o')\n",
    "# c[6]=None\n",
    "# b[6]=None\n",
    "\n",
    "plt.title(\"1-hr Avg. MBE All Stations\")\n",
    "plt.xlabel(\"UTC Hour\")\n",
    "plt.ylabel(\"MBE Incoming Radiation (W/m^2)\")\n",
    "#plt.plot(hour,c)\n",
    "#plt.errorbar(hour,c,yerr=b,ecolor='r',elinewidth=5,fmt='s',color='k')\n",
    "#plt.grid()\n",
    "plt.xticks(xs, hour)\n",
    "plt.show()\n",
    "#plt.axvspan(-4, 4, color='green', alpha=0.2, lw=0)"
   ]
  },
  {
   "cell_type": "code",
   "execution_count": 218,
   "id": "9d950af1",
   "metadata": {},
   "outputs": [
    {
     "name": "stdout",
     "output_type": "stream",
     "text": [
      "[10.44181909  9.85454818  9.35636364  9.01091364  8.68091455  8.31182182\n",
      "  7.86545636  7.57091091  8.65091    10.60363818 12.72272727 14.98909182\n",
      " 16.89636364 18.80909091 20.22454545 21.12       21.20363636 20.60272727\n",
      " 19.41       17.74090909 15.87909091 14.47727273 13.44909364 12.52091091\n",
      " 11.84273   ]\n",
      "[15.61818182 15.24545455 14.9        14.57272727 14.26363636 13.98181818\n",
      " 13.66363636 13.41818182 13.35454545 13.59090909 14.1        14.98181818\n",
      " 15.96363636 17.01818182 17.96363636 18.57272727 18.89090909 18.83636364\n",
      " 18.55454545 18.01818182 17.4        16.79090909 16.24545455 15.76363636\n",
      " 15.40909091]\n"
     ]
    }
   ],
   "source": [
    "c5= np.array([temp_sal5,temp_bat5,temp_laf5,temp_mon5,temp_hol5,temp_new5,temp_fai5,temp_sel5,temp_bow5,temp_gad5,temp_newt5])\n",
    "c5=np.nanmean(c5, axis=0)\n",
    "print(c5)\n",
    "\n",
    "\n",
    "b5=np.array([temp_crn_sal5,temp_crn_bat5,temp_crn_laf5,temp_crn_mon5,temp_crn_hol5,temp_crn_new5,temp_crn_fai5,temp_crn_sel5,temp_crn_bow5,temp_crn_gad5,temp_crn_newt5])\n",
    "b5=np.nanmean(b5, axis=0)\n",
    "print(b5)"
   ]
  },
  {
   "cell_type": "code",
   "execution_count": 219,
   "id": "ccd6d564",
   "metadata": {},
   "outputs": [
    {
     "data": {
      "image/png": "[encoded data removed]",
      "text/plain": [
       "<Figure size 792x396 with 1 Axes>"
      ]
     },
     "metadata": {},
     "output_type": "display_data"
    }
   ],
   "source": [
    "plt.style.use('seaborn-whitegrid')\n",
    "plt.rcParams[\"figure.figsize\"] = [11.00, 5.50]\n",
    "plt.rcParams[\"figure.autolayout\"] = True\n",
    "plt.yticks(np.arange(-35,40,5))\n",
    "plt.ylim(-35,35)\n",
    "# c[6]=None\n",
    "# b[6]=None\n",
    "\n",
    "plt.plot(xs,c5,c=\"m\", marker='o')\n",
    "plt.plot(xs,b5,c=\"orange\", marker='o')\n",
    "# c[6]=None\n",
    "# b[6]=None\n",
    "\n",
    "plt.title(\"1-hr Avg. MBE All Stations\")\n",
    "plt.xlabel(\"UTC Hour\")\n",
    "plt.ylabel(\"MBE Incoming Radiation (W/m^2)\")\n",
    "#plt.plot(hour,c)\n",
    "#plt.errorbar(hour,c,yerr=b,ecolor='r',elinewidth=5,fmt='s',color='k')\n",
    "#plt.grid()\n",
    "plt.xticks(xs, hour)\n",
    "plt.show()\n",
    "#plt.axvspan(-4, 4, color='green', alpha=0.2, lw=0)"
   ]
  },
  {
   "cell_type": "code",
   "execution_count": 220,
   "id": "6a1cf932",
   "metadata": {},
   "outputs": [
    {
     "name": "stdout",
     "output_type": "stream",
     "text": [
      "[14.49091091 13.74454818 13.04454545 12.37182    11.76091091 11.26272818\n",
      " 10.91363727 10.76455    12.26818364 14.64       17.22727273 19.75\n",
      " 21.98636364 23.95545455 25.20272727 25.99090909 26.17363636 25.49454545\n",
      " 24.25272727 22.55909091 20.33272727 18.66636364 17.36090909 16.28363636\n",
      " 15.33818182]\n",
      "[18.23636364 17.79090909 17.4        17.03636364 16.67272727 16.36363636\n",
      " 16.06363636 15.76363636 15.75454545 16.10909091 16.82727273 17.87272727\n",
      " 19.         20.14545455 21.1        21.73636364 21.99090909 21.9\n",
      " 21.55454545 20.93636364 20.24545455 19.57272727 18.95454545 18.45454545\n",
      " 17.98181818]\n"
     ]
    }
   ],
   "source": [
    "c6= np.array([temp_sal6,temp_bat6,temp_laf6,temp_mon6,temp_hol6,temp_new6,temp_fai6,temp_sel6,temp_bow6,temp_gad6,temp_newt6])\n",
    "c6=np.nanmean(c6, axis=0)\n",
    "print(c6)\n",
    "\n",
    "\n",
    "b6=np.array([temp_crn_sal6,temp_crn_bat6,temp_crn_laf6,temp_crn_mon6,temp_crn_hol6,temp_crn_new6,temp_crn_fai6,temp_crn_sel6,temp_crn_bow6,temp_crn_gad6,temp_crn_newt6])\n",
    "b6=np.nanmean(b6, axis=0)\n",
    "print(b6)"
   ]
  },
  {
   "cell_type": "code",
   "execution_count": 221,
   "id": "11ff266d",
   "metadata": {},
   "outputs": [
    {
     "data": {
      "image/png": "[encoded data removed]",
      "text/plain": [
       "<Figure size 792x396 with 1 Axes>"
      ]
     },
     "metadata": {},
     "output_type": "display_data"
    }
   ],
   "source": [
    "plt.style.use('seaborn-whitegrid')\n",
    "plt.rcParams[\"figure.figsize\"] = [11.00, 5.50]\n",
    "plt.rcParams[\"figure.autolayout\"] = True\n",
    "plt.yticks(np.arange(-35,40,5))\n",
    "plt.ylim(-35,35)\n",
    "# c[6]=None\n",
    "# b[6]=None\n",
    "\n",
    "plt.plot(xs,c6,c=\"c\", marker='o')\n",
    "plt.plot(xs,b6,c=\"orange\", marker='o')\n",
    "# c[6]=None\n",
    "# b[6]=None\n",
    "\n",
    "plt.title(\"1-hr Avg. MBE All Stations\")\n",
    "plt.xlabel(\"UTC Hour\")\n",
    "plt.ylabel(\"MBE Incoming Radiation (W/m^2)\")\n",
    "#plt.plot(hour,c)\n",
    "#plt.errorbar(hour,c,yerr=b,ecolor='r',elinewidth=5,fmt='s',color='k')\n",
    "#plt.grid()\n",
    "plt.xticks(xs, hour)\n",
    "plt.show()\n",
    "#plt.axvspan(-4, 4, color='green', alpha=0.2, lw=0)"
   ]
  },
  {
   "cell_type": "code",
   "execution_count": 227,
   "id": "240eafe4",
   "metadata": {},
   "outputs": [
    {
     "data": {
      "image/png": "[encoded data removed]",
      "text/plain": [
       "<Figure size 792x396 with 1 Axes>"
      ]
     },
     "metadata": {},
     "output_type": "display_data"
    }
   ],
   "source": [
    "plt.style.use('seaborn-whitegrid')\n",
    "plt.rcParams[\"figure.figsize\"] = [11.00, 5.50]\n",
    "plt.rcParams[\"figure.autolayout\"] = True\n",
    "plt.yticks(np.arange(-30,35,5))\n",
    "plt.ylim(-30,30)\n",
    "\n",
    "plt.plot(xs,c1,c=\"b\",marker=\"o\",label=\"IOP 1\")\n",
    "#plt.errorbar(xs,c1,c=\"b\",yerr=b1,linestyle='None', marker='s')\n",
    "\n",
    "plt.plot(xs,c2,c=\"r\",marker=\"o\",label=\"IOP 2\")\n",
    "#plt.errorbar(xs,c2,c=\"r\",yerr=b2,linestyle='None', marker='s')\n",
    "\n",
    "plt.plot(xs,c3,marker=\"o\",c=\"green\")\n",
    "#plt.errorbar(xs,c3,c=\"green\",yerr=b3,linestyle='None', marker='s')\n",
    "\n",
    "plt.plot(xs,c4,marker=\"o\",c=\"orange\")\n",
    "#plt.errorbar(xs,c4,c=\"orange\",yerr=b4,linestyle='None', marker='s')\n",
    "\n",
    "plt.plot(xs,c5,marker=\"o\",c=\"m\")\n",
    "#plt.errorbar(xs,c5,c=\"m\",yerr=b5,linestyle='None', marker='s')\n",
    "\n",
    "plt.plot(xs,c6,marker=\"o\",c=\"c\")\n",
    "#plt.errorbar(xs,c6,c=\"c\",yerr=b6,linestyle='None', marker='s')\n",
    "\n",
    "plt.title(\"12-hr Avg. HRRR All Stations\")\n",
    "plt.xlabel(\"UTC Hour\")\n",
    "plt.ylabel(\"Soil Temperature (C)\")\n",
    "#plt.plot(hour,c)\n",
    "#plt.errorbar(hour,c,yerr=b,ecolor='r',elinewidth=5,fmt='s',color='k')\n",
    "#plt.grid()\n",
    "plt.xticks(xs, hour)\n",
    "#plt.axvspan(-4, 4, color='green', alpha=0.2, lw=0)\n",
    "plt.legend([\"IOP 1\", \"IOP 2\",\"IOP 3\",\"IOP 4\",\"IOP 5\",\"IOP 6\"], loc =\"lower right\")\n",
    "plt.show()"
   ]
  },
  {
   "cell_type": "code",
   "execution_count": 225,
   "id": "d9852481",
   "metadata": {
    "scrolled": false
   },
   "outputs": [
    {
     "data": {
      "image/png": "[encoded data removed]",
      "text/plain": [
       "<Figure size 792x396 with 1 Axes>"
      ]
     },
     "metadata": {},
     "output_type": "display_data"
    }
   ],
   "source": [
    "plt.style.use('seaborn-whitegrid')\n",
    "plt.rcParams[\"figure.figsize\"] = [11.00, 5.50]\n",
    "plt.rcParams[\"figure.autolayout\"] = True\n",
    "plt.yticks(np.arange(-30,35,5))\n",
    "plt.ylim(-30,30)\n",
    "\n",
    "plt.plot(xs,b1,c=\"b\",marker=\"o\",label=\"IOP 1\")\n",
    "#plt.errorbar(xs,c1,c=\"b\",yerr=b1,linestyle='None', marker='s')\n",
    "\n",
    "plt.plot(xs,b2,c=\"r\",marker=\"o\",label=\"IOP 2\")\n",
    "#plt.errorbar(xs,c2,c=\"r\",yerr=b2,linestyle='None', marker='s')\n",
    "\n",
    "plt.plot(xs,b3,marker=\"o\",c=\"green\")\n",
    "#plt.errorbar(xs,c3,c=\"green\",yerr=b3,linestyle='None', marker='s')\n",
    "\n",
    "plt.plot(xs,b4,marker=\"o\",c=\"orange\")\n",
    "#plt.errorbar(xs,c4,c=\"orange\",yerr=b4,linestyle='None', marker='s')\n",
    "\n",
    "plt.plot(xs,b5,marker=\"o\",c=\"m\")\n",
    "#plt.errorbar(xs,c5,c=\"m\",yerr=b5,linestyle='None', marker='s')\n",
    "\n",
    "plt.plot(xs,b6,marker=\"o\",c=\"c\")\n",
    "#plt.errorbar(xs,c6,c=\"c\",yerr=b6,linestyle='None', marker='s')\n",
    "\n",
    "plt.title(\"12-hr Avg. CRN All Stations\")\n",
    "plt.xlabel(\"UTC Hour\")\n",
    "plt.ylabel(\"Soil Temperature (C)\")\n",
    "#plt.plot(hour,c)\n",
    "#plt.errorbar(hour,c,yerr=b,ecolor='r',elinewidth=5,fmt='s',color='k')\n",
    "#plt.grid()\n",
    "plt.xticks(xs, hour)\n",
    "#plt.axvspan(-4, 4, color='green', alpha=0.2, lw=0)\n",
    "plt.legend([\"IOP 1\", \"IOP 2\",\"IOP 3\",\"IOP 4\",\"IOP 5\",\"IOP 6\"], loc =\"lower right\")\n",
    "plt.show()"
   ]
  },
  {
   "cell_type": "code",
   "execution_count": null,
   "id": "f20cc188",
   "metadata": {},
   "outputs": [],
   "source": []
  }
 ],
 "metadata": {
  "kernelspec": {
   "display_name": "Python 3 (ipykernel)",
   "language": "python",
   "name": "python3"
  },
  "language_info": {
   "codemirror_mode": {
    "name": "ipython",
    "version": 3
   },
   "file_extension": ".py",
   "mimetype": "text/x-python",
   "name": "python",
   "nbconvert_exporter": "python",
   "pygments_lexer": "ipython3",
   "version": "3.9.12"
  }
 },
 "nbformat": 4,
 "nbformat_minor": 5
}
