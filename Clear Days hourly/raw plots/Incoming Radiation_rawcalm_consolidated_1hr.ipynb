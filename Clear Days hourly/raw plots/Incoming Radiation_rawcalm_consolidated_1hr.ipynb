{
 "cells": [
  {
   "cell_type": "code",
   "execution_count": 1,
   "id": "83d28093",
   "metadata": {},
   "outputs": [],
   "source": [
    "import numpy as np\n",
    "import matplotlib.pyplot as plt\n",
    "import math\n",
    "import numpy.ma as ma"
   ]
  },
  {
   "cell_type": "markdown",
   "id": "18ad22a0",
   "metadata": {},
   "source": [
    "<font size=\"3\">Salem, MO: 0600 UTC (12:00 am CST) 01 March 2022-0600 UTC (12:00 am CST) 02 March 2022</font>"
   ]
  },
  {
   "cell_type": "code",
   "execution_count": 247,
   "id": "9d3b9481",
   "metadata": {},
   "outputs": [
    {
     "name": "stdout",
     "output_type": "stream",
     "text": [
      "[0.0, 0.0, 0.0, 0.0, 0.0, 0.0, 0.0, 22.9, 227.3, 428.8, 598.5, 717.4, 774.1, 763.3, 683.6, 547.8, 363.2, 154.6, 0.0, 0.0, 0.0, 0.0, 0.0, 0.0, 0.0]\n",
      "25\n"
     ]
    }
   ],
   "source": [
    "#1 hr hrrr:\n",
    "with open('hrrr_f01_Salem_MO.txt') as f:\n",
    "    lst=[line.split()[3] for line in f]\n",
    "    temp_sal1=[]\n",
    "    for i in lst:\n",
    "        new=i.replace(',',\"\")\n",
    "        temp_sal1.append(new)\n",
    "    temp_sal1.pop(0)\n",
    "    temp_sal1=[float(x) for x in temp_sal1]\n",
    "    temp_sal1=temp_sal1[1421:1446]\n",
    "    #temp=temp[2015:2063]\n",
    "    print(temp_sal1)\n",
    "    print(len(temp_sal1))\n",
    "#full time period is [2015:2112]"
   ]
  },
  {
   "cell_type": "code",
   "execution_count": 248,
   "id": "e9d4dbcc",
   "metadata": {},
   "outputs": [
    {
     "name": "stdout",
     "output_type": "stream",
     "text": [
      "[0.0, 0.0, 0.0, 0.0, 0.0, 0.0, 0.0, 2.0, 129.0, 332.0, 517.0, 655.0, 736.0, 755.0, 712.0, 607.0, 445.0, 247.0, 58.0, 0.0, 0.0, 0.0, 0.0, 0.0, 0.0]\n",
      "25\n"
     ]
    }
   ],
   "source": [
    "#Air Temp CRN:\n",
    "with open('CRNH0203-2022-MO_Salem_10_W.txt') as f:\n",
    "    lst=[line.split()[13] for line in f]\n",
    "    #print(lst)\n",
    "    temp_crn_sal1=[]\n",
    "    for i in lst:\n",
    "        new=i.replace(',',\"\")\n",
    "        temp_crn_sal1.append(new)\n",
    "    temp_crn_sal1=[float(x) for x in temp_crn_sal1]\n",
    "    temp_crn_sal1=temp_crn_sal1[1421:1446]\n",
    "    print(temp_crn_sal1)\n",
    "    print(len(temp_crn_sal1))\n",
    "    # print(temp_crn[2124])"
   ]
  },
  {
   "cell_type": "code",
   "execution_count": 249,
   "id": "1e9aed03-d99c-4045-812a-e26bcc99b84f",
   "metadata": {},
   "outputs": [],
   "source": [
    "# difference1_sal = []\n",
    "\n",
    "# zip_object = zip(temp, temp_crn)\n",
    "# for temp_i, temp_crn_i in zip_object:\n",
    "#     difference1_sal.append(temp_i-temp_crn_i)\n",
    "\n",
    "# print(difference1_sal)"
   ]
  },
  {
   "cell_type": "markdown",
   "id": "9043c519",
   "metadata": {},
   "source": [
    "<font size=\"3\">Batesville, AR: 0600 UTC (12:00 am CST) 01 March 2022-0600 UTC (12:00 am CST) 02 March 2022</font>"
   ]
  },
  {
   "cell_type": "code",
   "execution_count": 250,
   "id": "af395ecc",
   "metadata": {},
   "outputs": [
    {
     "name": "stdout",
     "output_type": "stream",
     "text": [
      "[0.0, 0.0, 0.0, 0.0, 0.0, 0.0, 0.0, 27.5, 240.9, 452.7, 627.3, 749.2, 805.2, 789.5, 714.6, 567.9, 376.3, 165.1, 0.0, 0.0, 0.0, 0.0, 0.0, 0.0, 0.0]\n",
      "25\n"
     ]
    }
   ],
   "source": [
    "#1 hr hrrr:\n",
    "with open('hrrr_f01_Batesville_AR.txt') as f:\n",
    "    lst=[line.split()[3] for line in f]\n",
    "    temp_bat1=[]\n",
    "    for i in lst:\n",
    "        new=i.replace(',',\"\")\n",
    "        temp_bat1.append(new)\n",
    "    temp_bat1.pop(0)\n",
    "    temp_bat1=[float(x) for x in temp_bat1]\n",
    "    temp_bat1=temp_bat1[1421:1446]\n",
    "#     x = np.array(temp)\n",
    "#     temp = ma.masked_array(x, mask=[0, 0, 0, 0, 0,0,0,0,0,0,0,0,0,0,0,0,0,0,0,0,0,1,0,0,0])\n",
    "    #temp=temp[2015:2063]\n",
    "    print(temp_bat1)\n",
    "    print(len(temp_bat1))\n",
    "#full time period is [2015:2112]"
   ]
  },
  {
   "cell_type": "code",
   "execution_count": 252,
   "id": "11b7f8b7",
   "metadata": {},
   "outputs": [
    {
     "name": "stdout",
     "output_type": "stream",
     "text": [
      "[0.0, 0.0, 0.0, 0.0, 0.0, 0.0, 0.0, 6.0, 134.0, 345.0, 544.0, 695.0, 782.0, 808.0, 760.0, 651.0, 486.0, 281.0, 77.0, 0.0, 0.0, 0.0, 0.0, 0.0, 0.0]\n"
     ]
    }
   ],
   "source": [
    "#Air Temp CRN:\n",
    "with open('CRNH0203-2022-AR_Batesville_8_WNW.txt') as f:\n",
    "    lst=[line.split()[13] for line in f]\n",
    "    #print(lst)\n",
    "    temp_crn_bat1=[]\n",
    "    for i in lst:\n",
    "        new=i.replace(',',\"\")\n",
    "        temp_crn_bat1.append(new)\n",
    "    temp_crn_bat1=[float(x) for x in temp_crn_bat1]\n",
    "    temp_crn_bat1=temp_crn_bat1[1421:1446]\n",
    "#     y = np.array(temp_crn)\n",
    "#     temp_crn = ma.masked_array(y, mask=[0, 0, 0, 0, 0,0,0,0,0,0,0,0,0,0,0,0,0,0,0,0,0,1,0,0,0])\n",
    "    print(temp_crn_bat1)\n",
    "    #print(len(temp_crn))\n",
    "    # print(temp_crn[2124])"
   ]
  },
  {
   "cell_type": "code",
   "execution_count": 253,
   "id": "62a46873",
   "metadata": {},
   "outputs": [],
   "source": [
    "# difference1_bat = []\n",
    "\n",
    "# zip_object = zip(temp, temp_crn)\n",
    "# for temp_i, temp_crn_i in zip_object:\n",
    "#     difference1_bat.append(temp_i-temp_crn_i)\n",
    "\n",
    "# print(difference1_bat)"
   ]
  },
  {
   "cell_type": "markdown",
   "id": "2a2589df",
   "metadata": {},
   "source": [
    "<font size=\"3\">Lafayette, LA: 0600 UTC (12:00 am CST) 01 March 2022-0600 UTC (12:00 am CST) 02 March 2022</font>"
   ]
  },
  {
   "cell_type": "code",
   "execution_count": 254,
   "id": "3fd34af2",
   "metadata": {},
   "outputs": [
    {
     "name": "stdout",
     "output_type": "stream",
     "text": [
      "[0.0, 0.0, 0.0, 0.0, 0.0, 0.0, 0.0, 42.4, 276.8, 507.3, 696.9, 828.6, 855.9, 866.2, 786.4, 632.7, 429.7, 199.4, 2.9, 0.0, 0.0, 0.0, 0.0, 0.0, 0.0]\n"
     ]
    }
   ],
   "source": [
    "#1 hr hrrr:\n",
    "with open('hrrr_f01_Lafayette_LA.txt') as f:\n",
    "    lst=[line.split()[3] for line in f]\n",
    "    temp_laf1=[]\n",
    "    for i in lst:\n",
    "        new=i.replace(',',\"\")\n",
    "        temp_laf1.append(new)\n",
    "    temp_laf1.pop(0)\n",
    "    temp_laf1=[float(x) for x in temp_laf1]\n",
    "    temp_laf1=temp_laf1[1421:1446]\n",
    "    #temp=temp[2015:2063]\n",
    "    print(temp_laf1)\n",
    "    #print(len(temp))\n",
    "#full time period is [2015:2112]"
   ]
  },
  {
   "cell_type": "code",
   "execution_count": 255,
   "id": "bfe1bb32",
   "metadata": {},
   "outputs": [
    {
     "name": "stdout",
     "output_type": "stream",
     "text": [
      "[0.0, 0.0, 0.0, 0.0, 0.0, 0.0, 0.0, 12.0, 172.0, 384.0, 579.0, 725.0, 724.0, 810.0, 788.0, 684.0, 518.0, 301.0, 84.0, 0.0, 0.0, 0.0, 0.0, 0.0, 0.0]\n"
     ]
    }
   ],
   "source": [
    "#Air Temp CRN:\n",
    "with open('CRNH0203-2022-LA_Lafayette_13_SE.txt') as f:\n",
    "    lst=[line.split()[13] for line in f]\n",
    "    #print(lst)\n",
    "    temp_crn_laf1=[]\n",
    "    for i in lst:\n",
    "        new=i.replace(',',\"\")\n",
    "        temp_crn_laf1.append(new)\n",
    "    temp_crn_laf1=[float(x) for x in temp_crn_laf1]\n",
    "    temp_crn_laf1=temp_crn_laf1[1421:1446]\n",
    "    print(temp_crn_laf1)\n",
    "    #print(len(temp_crn))\n",
    "    # print(temp_crn[2124])"
   ]
  },
  {
   "cell_type": "code",
   "execution_count": 256,
   "id": "9b94d0f9",
   "metadata": {},
   "outputs": [],
   "source": [
    "# difference1_laf = []\n",
    "\n",
    "# zip_object = zip(temp, temp_crn)\n",
    "# for temp_i, temp_crn_i in zip_object:\n",
    "#     difference1_laf.append(temp_i-temp_crn_i)\n",
    "\n",
    "# print(difference1_laf)"
   ]
  },
  {
   "cell_type": "markdown",
   "id": "7a8d079f",
   "metadata": {},
   "source": [
    "<font size=\"3\">Monroe, LA: 0600 UTC (12:00 am CST) 01 March 2022-0600 UTC (12:00 am CST) 02 March 2022</font>"
   ]
  },
  {
   "cell_type": "code",
   "execution_count": 257,
   "id": "9c6d2382",
   "metadata": {},
   "outputs": [
    {
     "name": "stdout",
     "output_type": "stream",
     "text": [
      "[0.0, 0.0, 0.0, 0.0, 0.0, 0.0, 0.0, 26.4, 221.9, 454.0, 649.7, 781.4, 842.1, 829.0, 749.8, 606.4, 412.5, 190.1, 1.3, 0.0, 0.0, 0.0, 0.0, 0.0, 0.0]\n"
     ]
    }
   ],
   "source": [
    "#1 hr hrrr:\n",
    "with open('hrrr_f01_Monroe_LA.txt') as f:\n",
    "    lst=[line.split()[3] for line in f]\n",
    "    temp_mon1=[]\n",
    "    for i in lst:\n",
    "        new=i.replace(',',\"\")\n",
    "        temp_mon1.append(new)\n",
    "    temp_mon1.pop(0)\n",
    "    temp_mon1=[float(x) for x in temp_mon1]\n",
    "    temp_mon1=temp_mon1[1421:1446]\n",
    "    #temp=temp[2015:2063]\n",
    "    print(temp_mon1)\n",
    "    #print(len(temp))\n",
    "#full time period is [2015:2112]"
   ]
  },
  {
   "cell_type": "code",
   "execution_count": 258,
   "id": "5c3999a7",
   "metadata": {},
   "outputs": [
    {
     "name": "stdout",
     "output_type": "stream",
     "text": [
      "[0.0, 0.0, 0.0, 0.0, 0.0, 0.0, 0.0, 4.0, 69.0, 352.0, 536.0, 659.0, 796.0, 815.0, 764.0, 653.0, 479.0, 186.0, 23.0, 0.0, 0.0, 0.0, 0.0, 0.0, 0.0]\n"
     ]
    }
   ],
   "source": [
    "#Air Temp CRN:\n",
    "with open('CRNH0203-2022-LA_Monroe_26_N.txt') as f:\n",
    "    lst=[line.split()[13] for line in f]\n",
    "    #print(lst)\n",
    "    temp_crn_mon1=[]\n",
    "    for i in lst:\n",
    "        new=i.replace(',',\"\")\n",
    "        temp_crn_mon1.append(new)\n",
    "    temp_crn_mon1=[float(x) for x in temp_crn_mon1]\n",
    "    temp_crn_mon1=temp_crn_mon1[1421:1446]\n",
    "    print(temp_crn_mon1)\n",
    "    #print(len(temp_crn))\n",
    "    # print(temp_crn[2124])"
   ]
  },
  {
   "cell_type": "code",
   "execution_count": 259,
   "id": "2b4e383a",
   "metadata": {},
   "outputs": [],
   "source": [
    "# difference1_mon = []\n",
    "\n",
    "# zip_object = zip(temp, temp_crn)\n",
    "# for temp_i, temp_crn_i in zip_object:\n",
    "#     difference1_mon.append(temp_i-temp_crn_i)\n",
    "\n",
    "# print(difference1_mon)"
   ]
  },
  {
   "cell_type": "markdown",
   "id": "26c585ff",
   "metadata": {},
   "source": [
    "<font size=\"3\">Holly Springs, MS: 0600 UTC (12:00 am CST) 01 March 2022-0600 UTC (12:00 am CST) 02 March 2022</font>"
   ]
  },
  {
   "cell_type": "code",
   "execution_count": 261,
   "id": "175bd35c",
   "metadata": {},
   "outputs": [
    {
     "name": "stdout",
     "output_type": "stream",
     "text": [
      "[0.0, 0.0, 0.0, 0.0, 0.0, 0.0, 0.0, 57.2, 280.5, 492.9, 663.2, 778.7, 822.3, 800.4, 708.5, 557.0, 357.6, 139.4, 0.0, 0.0, 0.0, 0.0, 0.0, 0.0, 0.0]\n"
     ]
    }
   ],
   "source": [
    "#1 hr hrrr:\n",
    "with open('hrrr_f01_Holly Springs_MS.txt') as f:\n",
    "    lst=[line.split()[3] for line in f]\n",
    "    temp_hol1=[]\n",
    "    for i in lst:\n",
    "        new=i.replace(',',\"\")\n",
    "        temp_hol1.append(new)\n",
    "    temp_hol1.pop(0)\n",
    "    temp_hol1=[float(x) for x in temp_hol1]\n",
    "    temp_hol1=temp_hol1[1421:1446]\n",
    "    #temp=temp[2015:2063]\n",
    "    print(temp_hol1)\n",
    "    #print(len(temp))\n",
    "#full time period is [2015:2112]"
   ]
  },
  {
   "cell_type": "code",
   "execution_count": 262,
   "id": "19a3055f",
   "metadata": {},
   "outputs": [
    {
     "name": "stdout",
     "output_type": "stream",
     "text": [
      "[0.0, 0.0, 0.0, 0.0, 0.0, 0.0, 0.0, 1.0, 186.0, 424.0, 607.0, 731.0, 792.0, 788.0, 718.0, 589.0, 408.0, 199.0, 12.0, 0.0, 0.0, 0.0, 0.0, 0.0, 0.0]\n"
     ]
    }
   ],
   "source": [
    "#Air Temp CRN:\n",
    "with open('CRNH0203-2022-MS_Holly_Springs_4_N.txt') as f:\n",
    "    lst=[line.split()[13] for line in f]\n",
    "    #print(lst)\n",
    "    temp_crn_hol1=[]\n",
    "    for i in lst:\n",
    "        new=i.replace(',',\"\")\n",
    "        temp_crn_hol1.append(new)\n",
    "    temp_crn_hol1=[float(x) for x in temp_crn_hol1]\n",
    "    temp_crn_hol1=temp_crn_hol1[1421:1446]\n",
    "    print(temp_crn_hol1)\n",
    "    #print(len(temp_crn))\n",
    "    # print(temp_crn[2124])"
   ]
  },
  {
   "cell_type": "code",
   "execution_count": 263,
   "id": "46b095cb",
   "metadata": {},
   "outputs": [],
   "source": [
    "# difference1_hol = []\n",
    "\n",
    "# zip_object = zip(temp, temp_crn)\n",
    "# for temp_i, temp_crn_i in zip_object:\n",
    "#     difference1_hol.append(temp_i-temp_crn_i)\n",
    "\n",
    "# print(difference1_hol)"
   ]
  },
  {
   "cell_type": "markdown",
   "id": "1c76c308",
   "metadata": {},
   "source": [
    "<font size=\"3\">Newton, MS: 0600 UTC (12:00 am CST) 01 March 2022-0600 UTC (12:00 am CST) 02 March 2022</font>"
   ]
  },
  {
   "cell_type": "code",
   "execution_count": 264,
   "id": "06decf86",
   "metadata": {},
   "outputs": [
    {
     "name": "stdout",
     "output_type": "stream",
     "text": [
      "[0.0, 0.0, 0.0, 0.0, 0.0, 0.0, 0.0, 55.8, 222.8, 500.5, 617.6, 815.5, 864.8, 838.3, 739.5, 576.8, 373.6, 147.5, 0.0, 0.0, 0.0, 0.0, 0.0, 0.0, 0.0]\n"
     ]
    }
   ],
   "source": [
    "#1 hr hrrr:\n",
    "with open('hrrr_f01_Newton_MS.txt') as f:\n",
    "    lst=[line.split()[3] for line in f]\n",
    "    temp_new1=[]\n",
    "    for i in lst:\n",
    "        new=i.replace(',',\"\")\n",
    "        temp_new1.append(new)\n",
    "    temp_new1.pop(0)\n",
    "    temp_new1=[float(x) for x in temp_new1]\n",
    "    temp_new1=temp_new1[1421:1446]\n",
    "    #temp=temp[2015:2063]\n",
    "    print(temp_new1)\n",
    "    #print(len(temp))\n",
    "#full time period is [2015:2112]"
   ]
  },
  {
   "cell_type": "code",
   "execution_count": 265,
   "id": "3fb09a0f",
   "metadata": {},
   "outputs": [
    {
     "name": "stdout",
     "output_type": "stream",
     "text": [
      "[0.0, 0.0, 0.0, 0.0, 0.0, 0.0, 0.0, 5.0, 138.0, 369.0, 556.0, 658.0, 814.0, 815.0, 766.0, 645.0, 471.0, 260.0, 45.0, 0.0, 0.0, 0.0, 0.0, 0.0, 0.0]\n"
     ]
    }
   ],
   "source": [
    "#Air Temp CRN:\n",
    "with open('CRNH0203-2022-MS_Newton_5_ENE.txt') as f:\n",
    "    lst=[line.split()[13] for line in f]\n",
    "    #print(lst)\n",
    "    temp_crn_new1=[]\n",
    "    for i in lst:\n",
    "        new=i.replace(',',\"\")\n",
    "        temp_crn_new1.append(new)\n",
    "    temp_crn_new1=[float(x) for x in temp_crn_new1]\n",
    "    temp_crn_new1=temp_crn_new1[1421:1446]\n",
    "    print(temp_crn_new1)\n",
    "    #print(len(temp_crn))\n",
    "    # print(temp_crn[2124])"
   ]
  },
  {
   "cell_type": "code",
   "execution_count": 266,
   "id": "e588ab70",
   "metadata": {},
   "outputs": [],
   "source": [
    "# difference1_new = []\n",
    "\n",
    "# zip_object = zip(temp, temp_crn)\n",
    "# for temp_i, temp_crn_i in zip_object:\n",
    "#     difference1_new.append(temp_i-temp_crn_i)\n",
    "\n",
    "# print(difference1_new)"
   ]
  },
  {
   "cell_type": "markdown",
   "id": "c9620694",
   "metadata": {},
   "source": [
    "<font size=\"3\">Gainesville, AL: 0600 UTC (12:00 am CST) 01 March 2022-0600 UTC (12:00 am CST) 02 March 2022</font>"
   ]
  },
  {
   "cell_type": "code",
   "execution_count": 267,
   "id": "a422cd03",
   "metadata": {},
   "outputs": [],
   "source": [
    "# #1 hr hrrr:\n",
    "# with open('hrrr_f01_Gainesville_AL.txt') as f:\n",
    "#     lst=[line.split()[3] for line in f]\n",
    "#     temp=[]\n",
    "#     for i in lst:\n",
    "#         new=i.replace(',',\"\")\n",
    "#         temp.append(new)\n",
    "#     temp.pop(0)\n",
    "#     temp=[float(x) for x in temp]\n",
    "#     temp=temp[1421:1446]\n",
    "#     #temp=temp[2015:2063]\n",
    "#     print(temp)\n",
    "#     #print(len(temp))\n",
    "# #full time period is [2015:2112]"
   ]
  },
  {
   "cell_type": "code",
   "execution_count": 268,
   "id": "2c97e541",
   "metadata": {},
   "outputs": [],
   "source": [
    "# #Air Temp CRN:\n",
    "# with open('CRNH0203-2022-AL_Gainesville_2_NE.txt') as f:\n",
    "#     lst=[line.split()[13] for line in f]\n",
    "#     #print(lst)\n",
    "#     temp_crn=[]\n",
    "#     for i in lst:\n",
    "#         new=i.replace(',',\"\")\n",
    "#         temp_crn.append(new)\n",
    "#     temp_crn=[float(x) for x in temp_crn]\n",
    "#     temp_crn=temp_crn[1421:1446]\n",
    "#     print(temp_crn)\n",
    "#     #print(len(temp_crn))\n",
    "#     # print(temp_crn[2124])"
   ]
  },
  {
   "cell_type": "code",
   "execution_count": 269,
   "id": "8df76a7b",
   "metadata": {},
   "outputs": [],
   "source": [
    "# difference1_gai = []\n",
    "\n",
    "# zip_object = zip(temp, temp_crn)\n",
    "# for temp_i, temp_crn_i in zip_object:\n",
    "#     difference1_gai.append(temp_i-temp_crn_i)\n",
    "\n",
    "# print(difference1_gai)"
   ]
  },
  {
   "cell_type": "markdown",
   "id": "2711dc15",
   "metadata": {},
   "source": [
    "<font size=\"3\">Fairhope, AL: 0600 UTC (12:00 am CST) 01 March 2022-0600 UTC (12:00 am CST) 02 March 2022</font>"
   ]
  },
  {
   "cell_type": "code",
   "execution_count": 270,
   "id": "64dbcf91",
   "metadata": {},
   "outputs": [
    {
     "name": "stdout",
     "output_type": "stream",
     "text": [
      "[0.0, 0.0, 0.0, 0.0, 0.0, 0.0, 0.0, 99.0, 330.4, 510.8, 721.9, 837.5, 874.9, 833.6, 751.2, 584.9, 351.5, 135.2, 0.0, 0.0, 0.0, 0.0, 0.0, 0.0, 0.0]\n"
     ]
    }
   ],
   "source": [
    "#1 hr hrrr:\n",
    "with open('hrrr_f01_Fairhope_AL.txt') as f:\n",
    "    lst=[line.split()[3] for line in f]\n",
    "    temp_fai1=[]\n",
    "    for i in lst:\n",
    "        new=i.replace(',',\"\")\n",
    "        temp_fai1.append(new)\n",
    "    temp_fai1.pop(0)\n",
    "    temp_fai1=[float(x) for x in temp_fai1]\n",
    "    temp_fai1=temp_fai1[1421:1446]\n",
    "    #temp=temp[2015:2063]\n",
    "    print(temp_fai1)\n",
    "    #print(len(temp))\n",
    "#full time period is [2015:2112]"
   ]
  },
  {
   "cell_type": "code",
   "execution_count": 271,
   "id": "4df09785",
   "metadata": {},
   "outputs": [
    {
     "name": "stdout",
     "output_type": "stream",
     "text": [
      "[0.0, 0.0, 0.0, 0.0, 0.0, 0.0, 0.0, 29.0, 204.0, 446.0, 589.0, 752.0, 814.0, 822.0, 766.0, 647.0, 469.0, 251.0, 43.0, 0.0, 0.0, 0.0, 0.0, 0.0, 0.0]\n"
     ]
    }
   ],
   "source": [
    "#Air Temp CRN:\n",
    "with open('CRNH0203-2022-AL_Fairhope_3_NE.txt') as f:\n",
    "    lst=[line.split()[13] for line in f]\n",
    "    #print(lst)\n",
    "    temp_crn_fai1=[]\n",
    "    for i in lst:\n",
    "        new=i.replace(',',\"\")\n",
    "        temp_crn_fai1.append(new)\n",
    "    temp_crn_fai1=[float(x) for x in temp_crn_fai1]\n",
    "    temp_crn_fai1=temp_crn_fai1[1421:1446]\n",
    "    print(temp_crn_fai1)\n",
    "    #print(len(temp_crn))\n",
    "    # print(temp_crn[2124])"
   ]
  },
  {
   "cell_type": "code",
   "execution_count": 272,
   "id": "a9ff3306",
   "metadata": {},
   "outputs": [],
   "source": [
    "# difference1_fai = []\n",
    "\n",
    "# zip_object = zip(temp, temp_crn)\n",
    "# for temp_i, temp_crn_i in zip_object:\n",
    "#     difference1_fai.append(temp_i-temp_crn_i)\n",
    "\n",
    "# print(difference1_fai)"
   ]
  },
  {
   "cell_type": "markdown",
   "id": "f5dd4e4b",
   "metadata": {},
   "source": [
    "<font size=\"3\">**Selma, AL: 0600 UTC (12:00 am CST) 01 March 2022-0600 UTC (12:00 am CST) 02 March 2022</font>"
   ]
  },
  {
   "cell_type": "code",
   "execution_count": 273,
   "id": "af6b46b1",
   "metadata": {},
   "outputs": [
    {
     "name": "stdout",
     "output_type": "stream",
     "text": [
      "[0.0, 0.0, 0.0, 0.0, 0.0, 0.0, 0.0, 110.2, 337.5, 550.3, 665.2, 830.5, 866.6, 830.8, 722.3, 556.4, 343.9, 116.6, 0.0, 0.0, 0.0, 0.0, 0.0, 0.0, 0.0]\n",
      "[0.0, 0.0, 0.0, 0.0, 0.0, 0.0, 0.0, 15.0, 182.0, 366.0, 603.0, 741.0, 798.0, 795.0, 724.0, 596.0, 415.0, 203.0, 33.0, 0.0, 0.0, 0.0, 0.0, 0.0, 0.0]\n"
     ]
    }
   ],
   "source": [
    "#1 hr hrrr:\n",
    "import numpy as np\n",
    "import numpy.ma as ma\n",
    "with open('hrrr_f01_Selma_AL.txt') as f:\n",
    "    lst=[line.split()[3] for line in f]\n",
    "    temp_sel1=[]\n",
    "    for i in lst:\n",
    "        new=i.replace(',',\"\")\n",
    "        temp_sel1.append(new)\n",
    "    temp_sel1.pop(0)\n",
    "    temp_sel1=[float(x) for x in temp_sel1]\n",
    "    temp_sel1=temp_sel1[1421:1446]\n",
    "\n",
    "#     x = np.array(temp)\n",
    "#     temp = ma.masked_array(x, mask=[0, 0, 0, 0, 0,0,0,0,0,0,0,0,0,0,0,0,0,1,1,1,1,0,0,0,0])\n",
    "    #print(temp)\n",
    "#Air Temp CRN:\n",
    "with open('CRNH0203-2022-AL_Selma_13_WNW.txt') as f:\n",
    "    lst=[line.split()[13] for line in f]\n",
    "    #print(lst)\n",
    "    temp_crn_sel1=[]\n",
    "    for i in lst:\n",
    "        new=i.replace(',',\"\")\n",
    "        temp_crn_sel1.append(new)\n",
    "    temp_crn_sel1=[float(x) for x in temp_crn_sel1]\n",
    "    temp_crn_sel1=temp_crn_sel1[1421:1446]\n",
    "#     y = np.array(temp_crn)\n",
    "#     temp_crn = ma.masked_array(y, mask=[0, 0, 0, 0, 0,0,0,0,0,0,0,0,0,0,0,0,0,1,1,1,1,0,0,0,0])\n",
    "    print(temp_sel1)\n",
    "    #print(len(temp))\n",
    "    print(temp_crn_sel1)\n",
    "    #print(len(temp_crn))\n",
    "#full time period is [2015:2112]\n",
    "# difference1_sel = []\n",
    "\n",
    "# zip_object = zip(temp, temp_crn)\n",
    "# for temp_i, temp_crn_i in zip_object:\n",
    "#     difference1_sel.append(temp_i-temp_crn_i)\n",
    "\n",
    "# print(difference1_sel)\n",
    "# print(len(difference1_sel))"
   ]
  },
  {
   "cell_type": "markdown",
   "id": "8fab4bdc",
   "metadata": {},
   "source": [
    "<font size=\"3\">Bowling Green, KY: 0600 UTC (12:00 am CST) 01 March 2022-0600 UTC (12:00 am CST) 02 March 2022</font>"
   ]
  },
  {
   "cell_type": "code",
   "execution_count": 274,
   "id": "bf608647",
   "metadata": {},
   "outputs": [
    {
     "name": "stdout",
     "output_type": "stream",
     "text": [
      "[0.0, 0.0, 0.0, 0.0, 0.0, 0.0, 0.0, 91.3, 297.9, 490.2, 642.9, 740.3, 773.4, 734.2, 627.6, 476.6, 284.4, 80.8, 0.0, 0.0, 0.0, 0.0, 0.0, 0.0, 0.0]\n"
     ]
    }
   ],
   "source": [
    "#1 hr hrrr:\n",
    "with open('hrrr_f01_Bowling Green_KY.txt') as f:\n",
    "    lst=[line.split()[3] for line in f]\n",
    "    temp_bow1=[]\n",
    "    for i in lst:\n",
    "        new=i.replace(',',\"\")\n",
    "        temp_bow1.append(new)\n",
    "    temp_bow1.pop(0)\n",
    "    temp_bow1=[float(x) for x in temp_bow1]\n",
    "    temp_bow1=temp_bow1[1421:1446]\n",
    "    #temp=temp[2015:2063]\n",
    "    print(temp_bow1)\n",
    "    #print(len(temp))\n",
    "#full time period is [2015:2112]"
   ]
  },
  {
   "cell_type": "code",
   "execution_count": 275,
   "id": "b9e25e31",
   "metadata": {},
   "outputs": [
    {
     "name": "stdout",
     "output_type": "stream",
     "text": [
      "[0.0, 0.0, 0.0, 0.0, 0.0, 0.0, 0.0, 17.0, 136.0, 366.0, 522.0, 644.0, 706.0, 701.0, 635.0, 514.0, 350.0, 156.0, 6.0, 0.0, 0.0, 0.0, 0.0, 0.0, 0.0]\n"
     ]
    }
   ],
   "source": [
    "#Air Temp CRN:\n",
    "with open('CRNH0203-2022-KY_Bowling_Green_21_NNE.txt') as f:\n",
    "    lst=[line.split()[13] for line in f]\n",
    "    #print(lst)\n",
    "    temp_crn_bow1=[]\n",
    "    for i in lst:\n",
    "        new=i.replace(',',\"\")\n",
    "        temp_crn_bow1.append(new)\n",
    "    temp_crn_bow1=[float(x) for x in temp_crn_bow1]\n",
    "    temp_crn_bow1=temp_crn_bow1[1421:1446]\n",
    "    print(temp_crn_bow1)\n",
    "    #print(len(temp_crn))\n",
    "    # print(temp_crn[2124])"
   ]
  },
  {
   "cell_type": "code",
   "execution_count": 276,
   "id": "c1e72531",
   "metadata": {},
   "outputs": [],
   "source": [
    "# difference1_bow = []\n",
    "\n",
    "# zip_object = zip(temp, temp_crn)\n",
    "# for temp_i, temp_crn_i in zip_object:\n",
    "#     difference1_bow.append(temp_i-temp_crn_i)\n",
    "\n",
    "# print(difference1_bow)"
   ]
  },
  {
   "cell_type": "markdown",
   "id": "d1be2cc0",
   "metadata": {},
   "source": [
    "<font size=\"3\">Gadsden, AL: 0600 UTC (12:00 am CST) 01 March 2022-0600 UTC (12:00 am CST) 02 March 2022</font>"
   ]
  },
  {
   "cell_type": "code",
   "execution_count": 279,
   "id": "02793170",
   "metadata": {},
   "outputs": [
    {
     "name": "stdout",
     "output_type": "stream",
     "text": [
      "[0.0, 0.0, 0.0, 0.0, 0.0, 0.0, 0.0, 114.9, 339.8, 547.7, 706.9, 806.5, 839.6, 801.7, 693.2, 524.3, 316.8, 95.3, 0.0, 0.0, 0.0, 0.0, 0.0, 0.0, 0.0]\n"
     ]
    }
   ],
   "source": [
    "#1 hr hrrr:\n",
    "with open('hrrr_f01_Gadsden_AL.txt') as f:\n",
    "    lst=[line.split()[3] for line in f]\n",
    "    temp_gad1=[]\n",
    "    for i in lst:\n",
    "        new=i.replace(',',\"\")\n",
    "        temp_gad1.append(new)\n",
    "    temp_gad1.pop(0)\n",
    "    temp_gad1=[float(x) for x in temp_gad1]\n",
    "    temp_gad1=temp_gad1[1421:1446]\n",
    "#     x = np.array(temp)\n",
    "#     temp = ma.masked_array(x, mask=[0, 0, 0, 0, 0,0,0,0,1,0,0,0,0,0,0,0,0,0,0,0,0,0,0,0,0])\n",
    "    #temp=temp[2015:2063]\n",
    "    print(temp_gad1)\n",
    "    #print(len(temp))\n",
    "#full time period is [2015:2112]"
   ]
  },
  {
   "cell_type": "code",
   "execution_count": 280,
   "id": "eb5f934d",
   "metadata": {},
   "outputs": [
    {
     "name": "stdout",
     "output_type": "stream",
     "text": [
      "[0.0, 0.0, 0.0, 0.0, 0.0, 0.0, 0.0, 42.0, 209.0, 430.0, 602.0, 722.0, 784.0, 780.0, 713.0, 590.0, 413.0, 206.0, 28.0, 0.0, 0.0, 0.0, 0.0, 0.0, 0.0]\n"
     ]
    }
   ],
   "source": [
    "#Air Temp CRN:\n",
    "with open('CRNH0203-2022-AL_Gadsden_19_N.txt') as f:\n",
    "    lst=[line.split()[13] for line in f]\n",
    "    #print(lst)\n",
    "    temp_crn_gad1=[]\n",
    "    for i in lst:\n",
    "        new=i.replace(',',\"\")\n",
    "        temp_crn_gad1.append(new)\n",
    "    temp_crn_gad1=[float(x) for x in temp_crn_gad1]\n",
    "    temp_crn_gad1=temp_crn_gad1[1421:1446]\n",
    "#     y = np.array(temp_crn)\n",
    "#     temp_crn = ma.masked_array(y, mask=[0, 0, 0, 0, 0,0,0,0,1,0,0,0,0,0,0,0,0,0,0,0,0,0,0,0,0])\n",
    "    print(temp_crn_gad1)\n",
    "    #print(len(temp_crn))\n",
    "    # print(temp_crn[2124])"
   ]
  },
  {
   "cell_type": "code",
   "execution_count": 281,
   "id": "c002ac76",
   "metadata": {},
   "outputs": [],
   "source": [
    "# difference1_gad = []\n",
    "\n",
    "# zip_object = zip(temp, temp_crn)\n",
    "# for temp_i, temp_crn_i in zip_object:\n",
    "#     difference1_gad.append(temp_i-temp_crn_i)\n",
    "\n",
    "# print(difference1_gad)"
   ]
  },
  {
   "cell_type": "markdown",
   "id": "d430f7c6",
   "metadata": {},
   "source": [
    "<font size=\"3\">Newton, GA: 0600 UTC (12:00 am CST) 01 March 2022-0600 UTC (12:00 am CST) 02 March 2022</font>"
   ]
  },
  {
   "cell_type": "code",
   "execution_count": 282,
   "id": "e78bb8bf",
   "metadata": {},
   "outputs": [
    {
     "name": "stdout",
     "output_type": "stream",
     "text": [
      "[0.0, 0.0, 0.0, 0.0, 0.0, 0.0, 0.0, 128.0, 341.1, 544.0, 729.9, 817.4, 860.6, 812.5, 700.5, 524.2, 305.9, 83.5, 0.0, 0.0, 0.0, 0.0, 0.0, 0.0, 0.0]\n"
     ]
    }
   ],
   "source": [
    "#1 hr hrrr:\n",
    "with open('hrrr_f01_Newton_GA.txt') as f:\n",
    "    lst=[line.split()[3] for line in f]\n",
    "    temp_newt1=[]\n",
    "    for i in lst:\n",
    "        new=i.replace(',',\"\")\n",
    "        temp_newt1.append(new)\n",
    "    temp_newt1.pop(0)\n",
    "    temp_newt1=[float(x) for x in temp_newt1]\n",
    "    temp_newt1=temp_newt1[1421:1446]\n",
    "    #temp=temp[2015:2063]\n",
    "    print(temp_newt1)\n",
    "    #print(len(temp))\n",
    "#full time period is [2015:2112]"
   ]
  },
  {
   "cell_type": "code",
   "execution_count": 283,
   "id": "9851cf85",
   "metadata": {},
   "outputs": [
    {
     "name": "stdout",
     "output_type": "stream",
     "text": [
      "[0.0, 0.0, 0.0, 0.0, 0.0, 0.0, 0.0, 0.0, 33.0, 195.0, 324.0, 511.0, 637.0, 758.0, 739.0, 666.0, 548.0, 364.0, 161.0, 10.0, 0.0, 0.0, 0.0, 0.0, 0.0]\n"
     ]
    }
   ],
   "source": [
    "#Air Temp CRN:\n",
    "with open('CRNH0203-2022-GA_Newton_11_SW.txt') as f:\n",
    "    lst=[line.split()[13] for line in f]\n",
    "    #print(lst)\n",
    "    temp_crn_newt1=[]\n",
    "    for i in lst:\n",
    "        new=i.replace(',',\"\")\n",
    "        temp_crn_newt1.append(new)\n",
    "    temp_crn_newt1=[float(x) for x in temp_crn_newt1]\n",
    "    temp_crn_newt1=temp_crn_newt1[1420:1445]\n",
    "    print(temp_crn_newt1)\n",
    "    #print(len(temp_crn))\n",
    "    # print(temp_crn[2124])"
   ]
  },
  {
   "cell_type": "code",
   "execution_count": 284,
   "id": "f2141c03",
   "metadata": {},
   "outputs": [],
   "source": [
    "# difference1_newt = []\n",
    "\n",
    "# zip_object = zip(temp, temp_crn)\n",
    "# for temp_i, temp_crn_i in zip_object:\n",
    "#     difference1_newt.append(temp_i-temp_crn_i)\n",
    "\n",
    "# print(difference1_newt)"
   ]
  },
  {
   "cell_type": "markdown",
   "id": "df037d24",
   "metadata": {},
   "source": [
    "<font size=\"3\">Salem, MO: 0600 UTC (12:00 am CST) 13 March 2022-0600 UTC (12:00 am CST) 14 March 2022</font>"
   ]
  },
  {
   "cell_type": "code",
   "execution_count": 292,
   "id": "37d222da",
   "metadata": {},
   "outputs": [
    {
     "name": "stdout",
     "output_type": "stream",
     "text": [
      "[0.0, 0.0, 0.0, 0.0, 0.0, 0.0, 0.0, 75.7, 285.5, 490.3, 658.3, 773.0, 826.0, 814.0, 734.0, 594.3, 406.9, 195.5, 10.8, 0.0, 0.0, 0.0, 0.0, 0.0, 0.0]\n",
      "25\n"
     ]
    }
   ],
   "source": [
    "#1 hr hrrr:\n",
    "with open('hrrr_f01_Salem_MO.txt') as f:\n",
    "    lst=[line.split()[3] for line in f]\n",
    "    temp_sal2=[]\n",
    "    for i in lst:\n",
    "        new=i.replace(',',\"\")\n",
    "        temp_sal2.append(new)\n",
    "    temp_sal2.pop(0)\n",
    "    temp_sal2=[float(x) for x in temp_sal2]\n",
    "    temp_sal2=temp_sal2[1709:1734]\n",
    "    #temp=temp[2015:2063]\n",
    "    print(temp_sal2)\n",
    "    print(len(temp_sal2))\n",
    "#full time period is [2015:2112]"
   ]
  },
  {
   "cell_type": "code",
   "execution_count": 293,
   "id": "dff9493c",
   "metadata": {},
   "outputs": [
    {
     "name": "stdout",
     "output_type": "stream",
     "text": [
      "[0.0, 0.0, 0.0, 0.0, 0.0, 0.0, 0.0, 21.0, 184.0, 394.0, 579.0, 715.0, 791.0, 804.0, 758.0, 653.0, 492.0, 289.0, 88.0, 0.0, 0.0, 0.0, 0.0, 0.0, 0.0]\n",
      "25\n"
     ]
    }
   ],
   "source": [
    "#Air Temp CRN:\n",
    "with open('CRNH0203-2022-MO_Salem_10_W.txt') as f:\n",
    "    lst=[line.split()[13] for line in f]\n",
    "    #print(lst)\n",
    "    temp_crn_sal2=[]\n",
    "    for i in lst:\n",
    "        new=i.replace(',',\"\")\n",
    "        temp_crn_sal2.append(new)\n",
    "    temp_crn_sal2=[float(x) for x in temp_crn_sal2]\n",
    "    temp_crn_sal2=temp_crn_sal2[1709:1734]\n",
    "    print(temp_crn_sal2)\n",
    "    print(len(temp_crn_sal2))\n",
    "    # print(temp_crn[2124])"
   ]
  },
  {
   "cell_type": "code",
   "execution_count": 294,
   "id": "77156230",
   "metadata": {},
   "outputs": [],
   "source": [
    "# difference1_sal = []\n",
    "\n",
    "# zip_object = zip(temp, temp_crn)\n",
    "# for temp_i, temp_crn_i in zip_object:\n",
    "#     difference1_sal.append(temp_i-temp_crn_i)\n",
    "\n",
    "# print(difference1_sal)"
   ]
  },
  {
   "cell_type": "markdown",
   "id": "87387c5e",
   "metadata": {},
   "source": [
    "<font size=\"3\">Batesville, AR: 0600 UTC (12:00 am CST) 01 March 2022-0600 UTC (12:00 am CST) 02 March 2022</font>"
   ]
  },
  {
   "cell_type": "code",
   "execution_count": 295,
   "id": "b2b79263",
   "metadata": {},
   "outputs": [
    {
     "name": "stdout",
     "output_type": "stream",
     "text": [
      "[0.0, 0.0, 0.0, 0.0, 0.0, 0.0, 0.0, 77.7, 291.6, 502.2, 676.5, 797.6, 854.0, 841.0, 756.0, 611.9, 421.0, 203.9, 12.9, 0.0, 0.0, 0.0, 0.0, 0.0, 0.0]\n",
      "25\n"
     ]
    }
   ],
   "source": [
    "#1 hr hrrr:\n",
    "with open('hrrr_f01_Batesville_AR.txt') as f:\n",
    "    lst=[line.split()[3] for line in f]\n",
    "    temp_bat2=[]\n",
    "    for i in lst:\n",
    "        new=i.replace(',',\"\")\n",
    "        temp_bat2.append(new)\n",
    "    temp_bat2.pop(0)\n",
    "    temp_bat2=[float(x) for x in temp_bat2]\n",
    "    temp_bat2=temp_bat2[1709:1734]\n",
    "#     x = np.array(temp)\n",
    "#     temp = ma.masked_array(x, mask=[0, 0, 0, 0, 0,0,0,0,0,0,0,0,0,0,0,0,0,0,0,0,0,1,0,0,0])\n",
    "    #temp=temp[2015:2063]\n",
    "    print(temp_bat2)\n",
    "    print(len(temp_bat2))\n",
    "#full time period is [2015:2112]"
   ]
  },
  {
   "cell_type": "code",
   "execution_count": 296,
   "id": "e604fe06",
   "metadata": {},
   "outputs": [
    {
     "name": "stdout",
     "output_type": "stream",
     "text": [
      "[0.0, 0.0, 0.0, 0.0, 0.0, 0.0, 0.0, 23.0, 187.0, 402.0, 592.0, 736.0, 823.0, 844.0, 798.0, 689.0, 525.0, 319.0, 89.0, 0.0, 0.0, 0.0, 0.0, 0.0, 0.0]\n"
     ]
    }
   ],
   "source": [
    "#Air Temp CRN:\n",
    "with open('CRNH0203-2022-AR_Batesville_8_WNW.txt') as f:\n",
    "    lst=[line.split()[13] for line in f]\n",
    "    #print(lst)\n",
    "    temp_crn_bat2=[]\n",
    "    for i in lst:\n",
    "        new=i.replace(',',\"\")\n",
    "        temp_crn_bat2.append(new)\n",
    "    temp_crn_bat2=[float(x) for x in temp_crn_bat2]\n",
    "    temp_crn_bat2=temp_crn_bat2[1709:1734]\n",
    "#     y = np.array(temp_crn)\n",
    "#     temp_crn = ma.masked_array(y, mask=[0, 0, 0, 0, 0,0,0,0,0,0,0,0,0,0,0,0,0,0,0,0,0,1,0,0,0])\n",
    "    print(temp_crn_bat2)\n",
    "    #print(len(temp_crn))\n",
    "    # print(temp_crn[2124])"
   ]
  },
  {
   "cell_type": "code",
   "execution_count": 297,
   "id": "ea077c19",
   "metadata": {},
   "outputs": [],
   "source": [
    "# difference1_bat = []\n",
    "\n",
    "# zip_object = zip(temp, temp_crn)\n",
    "# for temp_i, temp_crn_i in zip_object:\n",
    "#     difference1_bat.append(temp_i-temp_crn_i)\n",
    "\n",
    "# print(difference1_bat)"
   ]
  },
  {
   "cell_type": "markdown",
   "id": "16bf265f",
   "metadata": {},
   "source": [
    "<font size=\"3\">Lafayette, LA: 0600 UTC (12:00 am CST) 01 March 2022-0600 UTC (12:00 am CST) 02 March 2022</font>"
   ]
  },
  {
   "cell_type": "code",
   "execution_count": 298,
   "id": "b23c7950",
   "metadata": {},
   "outputs": [
    {
     "name": "stdout",
     "output_type": "stream",
     "text": [
      "[0.0, 0.0, 0.0, 0.0, 0.0, 0.0, 0.0, 97.6, 337.4, 570.1, 757.9, 888.7, 947.0, 931.0, 837.0, 676.3, 456.9, 225.5, 18.3, 0.0, 0.0, 0.0, 0.0, 0.0, 0.0]\n"
     ]
    }
   ],
   "source": [
    "#1 hr hrrr:\n",
    "with open('hrrr_f01_Lafayette_LA.txt') as f:\n",
    "    lst=[line.split()[3] for line in f]\n",
    "    temp_laf2=[]\n",
    "    for i in lst:\n",
    "        new=i.replace(',',\"\")\n",
    "        temp_laf2.append(new)\n",
    "    temp_laf2.pop(0)\n",
    "    temp_laf2=[float(x) for x in temp_laf2]\n",
    "    temp_laf2=temp_laf2[1709:1734]\n",
    "    #temp=temp[2015:2063]\n",
    "    print(temp_laf2)\n",
    "    #print(len(temp))\n",
    "#full time period is [2015:2112]"
   ]
  },
  {
   "cell_type": "code",
   "execution_count": 299,
   "id": "dbdffe3b",
   "metadata": {},
   "outputs": [
    {
     "name": "stdout",
     "output_type": "stream",
     "text": [
      "[0.0, 0.0, 0.0, 0.0, 0.0, 0.0, 0.0, 33.0, 223.0, 446.0, 640.0, 787.0, 871.0, 886.0, 836.0, 709.0, 542.0, 334.0, 114.0, 1.0, 0.0, 0.0, 0.0, 0.0, 0.0]\n"
     ]
    }
   ],
   "source": [
    "#Air Temp CRN:\n",
    "with open('CRNH0203-2022-LA_Lafayette_13_SE.txt') as f:\n",
    "    lst=[line.split()[13] for line in f]\n",
    "    #print(lst)\n",
    "    temp_crn_laf2=[]\n",
    "    for i in lst:\n",
    "        new=i.replace(',',\"\")\n",
    "        temp_crn_laf2.append(new)\n",
    "    temp_crn_laf2=[float(x) for x in temp_crn_laf2]\n",
    "    temp_crn_laf2=temp_crn_laf2[1709:1734]\n",
    "    print(temp_crn_laf2)\n",
    "    #print(len(temp_crn))\n",
    "    # print(temp_crn[2124])"
   ]
  },
  {
   "cell_type": "code",
   "execution_count": 300,
   "id": "07cf95c8",
   "metadata": {},
   "outputs": [],
   "source": [
    "# difference2_laf = []\n",
    "\n",
    "# zip_object = zip(temp, temp_crn)\n",
    "# for temp_i, temp_crn_i in zip_object:\n",
    "#     difference2_laf.append(temp_i-temp_crn_i)\n",
    "\n",
    "# print(difference2_laf)"
   ]
  },
  {
   "cell_type": "markdown",
   "id": "cda99a3a",
   "metadata": {},
   "source": [
    "<font size=\"3\">Monroe, LA: 0600 UTC (12:00 am CST) 01 March 2022-0600 UTC (12:00 am CST) 02 March 2022</font>"
   ]
  },
  {
   "cell_type": "code",
   "execution_count": 301,
   "id": "3c145693",
   "metadata": {},
   "outputs": [
    {
     "name": "stdout",
     "output_type": "stream",
     "text": [
      "[0.0, 0.0, 0.0, 0.0, 0.0, 0.0, 0.0, 82.2, 306.7, 526.1, 708.5, 832.2, 891.0, 879.0, 798.0, 646.6, 446.8, 223.5, 18.8, 0.0, 0.0, 0.0, 0.0, 0.0, 0.0]\n"
     ]
    }
   ],
   "source": [
    "#1 hr hrrr:\n",
    "with open('hrrr_f01_Monroe_LA.txt') as f:\n",
    "    lst=[line.split()[3] for line in f]\n",
    "    temp_mon2=[]\n",
    "    for i in lst:\n",
    "        new=i.replace(',',\"\")\n",
    "        temp_mon2.append(new)\n",
    "    temp_mon2.pop(0)\n",
    "    temp_mon2=[float(x) for x in temp_mon2]\n",
    "    temp_mon2=temp_mon2[1709:1734]\n",
    "    #temp=temp[2015:2063]\n",
    "    print(temp_mon2)\n",
    "    #print(len(temp))\n",
    "#full time period is [2015:2112]"
   ]
  },
  {
   "cell_type": "code",
   "execution_count": 302,
   "id": "d11b7824",
   "metadata": {},
   "outputs": [
    {
     "name": "stdout",
     "output_type": "stream",
     "text": [
      "[0.0, 0.0, 0.0, 0.0, 0.0, 0.0, 0.0, 11.0, 195.0, 404.0, 603.0, 754.0, 844.0, 864.0, 817.0, 661.0, 523.0, 165.0, 17.0, 2.0, 0.0, 0.0, 0.0, 0.0, 0.0]\n"
     ]
    }
   ],
   "source": [
    "#Air Temp CRN:\n",
    "with open('CRNH0203-2022-LA_Monroe_26_N.txt') as f:\n",
    "    lst=[line.split()[13] for line in f]\n",
    "    #print(lst)\n",
    "    temp_crn_mon2=[]\n",
    "    for i in lst:\n",
    "        new=i.replace(',',\"\")\n",
    "        temp_crn_mon2.append(new)\n",
    "    temp_crn_mon2=[float(x) for x in temp_crn_mon2]\n",
    "    temp_crn_mon2=temp_crn_mon2[1709:1734]\n",
    "    print(temp_crn_mon2)\n",
    "    #print(len(temp_crn))\n",
    "    # print(temp_crn[2124])"
   ]
  },
  {
   "cell_type": "code",
   "execution_count": 303,
   "id": "e5057ed5",
   "metadata": {},
   "outputs": [],
   "source": [
    "# difference2_mon = []\n",
    "\n",
    "# zip_object = zip(temp, temp_crn)\n",
    "# for temp_i, temp_crn_i in zip_object:\n",
    "#     difference2_mon.append(temp_i-temp_crn_i)\n",
    "\n",
    "# print(difference2_mon)"
   ]
  },
  {
   "cell_type": "markdown",
   "id": "50b6ccdc",
   "metadata": {},
   "source": [
    "<font size=\"3\">Holly Springs, MS: 0600 UTC (12:00 am CST) 01 March 2022-0600 UTC (12:00 am CST) 02 March 2022</font>"
   ]
  },
  {
   "cell_type": "code",
   "execution_count": 328,
   "id": "04968dd0",
   "metadata": {},
   "outputs": [
    {
     "name": "stdout",
     "output_type": "stream",
     "text": [
      "[0.0, 0.0, 0.0, 0.0, 0.0, 0.0, 0.0, 112.1, 332.9, 542.5, 710.9, 823.7, 870.0, 845.0, 750.0, 596.8, 396.9, 173.7, 0.0, 0.0, 0.0, 0.0, 0.0, 0.0, 0.0]\n"
     ]
    }
   ],
   "source": [
    "#1 hr hrrr:\n",
    "with open('hrrr_f01_Holly Springs_MS.txt') as f:\n",
    "    lst=[line.split()[3] for line in f]\n",
    "    temp_hol2=[]\n",
    "    for i in lst:\n",
    "        new=i.replace(',',\"\")\n",
    "        temp_hol2.append(new)\n",
    "    temp_hol2.pop(0)\n",
    "    temp_hol2=[float(x) for x in temp_hol2]\n",
    "    temp_hol2=temp_hol2[1709:1734]\n",
    "    #temp=temp[2015:2063]\n",
    "    print(temp_hol2)\n",
    "    #print(len(temp))\n",
    "#full time period is [2015:2112]"
   ]
  },
  {
   "cell_type": "code",
   "execution_count": 329,
   "id": "6e5673eb",
   "metadata": {},
   "outputs": [
    {
     "name": "stdout",
     "output_type": "stream",
     "text": [
      "[0.0, 0.0, 0.0, 0.0, 0.0, 0.0, 0.0, 13.0, 263.0, 483.0, 661.0, 783.0, 843.0, 836.0, 765.0, 634.0, 451.0, 207.0, 34.0, 0.0, 0.0, 0.0, 0.0, 0.0, 0.0]\n"
     ]
    }
   ],
   "source": [
    "#Air Temp CRN:\n",
    "with open('CRNH0203-2022-MS_Holly_Springs_4_N.txt') as f:\n",
    "    lst=[line.split()[13] for line in f]\n",
    "    #print(lst)\n",
    "    temp_crn_hol2=[]\n",
    "    for i in lst:\n",
    "        new=i.replace(',',\"\")\n",
    "        temp_crn_hol2.append(new)\n",
    "    temp_crn_hol2=[float(x) for x in temp_crn_hol2]\n",
    "    temp_crn_hol2=temp_crn_hol2[1709:1734]\n",
    "    print(temp_crn_hol2)\n",
    "    #print(len(temp_crn))\n",
    "    # print(temp_crn[2124])"
   ]
  },
  {
   "cell_type": "code",
   "execution_count": 306,
   "id": "b1ba34c2",
   "metadata": {},
   "outputs": [],
   "source": [
    "# difference2_hol = []\n",
    "\n",
    "# zip_object = zip(temp, temp_crn)\n",
    "# for temp_i, temp_crn_i in zip_object:\n",
    "#     difference2_hol.append(temp_i-temp_crn_i)\n",
    "\n",
    "# print(difference2_hol)"
   ]
  },
  {
   "cell_type": "markdown",
   "id": "9dd596b5",
   "metadata": {},
   "source": [
    "<font size=\"3\">Newton, MS: 0600 UTC (12:00 am CST) 01 March 2022-0600 UTC (12:00 am CST) 02 March 2022</font>"
   ]
  },
  {
   "cell_type": "code",
   "execution_count": 307,
   "id": "67050150",
   "metadata": {},
   "outputs": [
    {
     "name": "stdout",
     "output_type": "stream",
     "text": [
      "[0.0, 0.0, 0.0, 0.0, 0.0, 0.0, 0.0, 128.4, 358.1, 580.6, 752.3, 867.0, 912.0, 884.0, 784.0, 622.2, 413.9, 182.2, 0.0, 0.0, 0.0, 0.0, 0.0, 0.0, 0.0]\n"
     ]
    }
   ],
   "source": [
    "#1 hr hrrr:\n",
    "with open('hrrr_f01_Newton_MS.txt') as f:\n",
    "    lst=[line.split()[3] for line in f]\n",
    "    temp_new2=[]\n",
    "    for i in lst:\n",
    "        new=i.replace(',',\"\")\n",
    "        temp_new2.append(new)\n",
    "    temp_new2.pop(0)\n",
    "    temp_new2=[float(x) for x in temp_new2]\n",
    "    temp_new2=temp_new2[1709:1734]\n",
    "    #temp=temp[2015:2063]\n",
    "    print(temp_new2)\n",
    "    #print(len(temp))\n",
    "#full time period is [2015:2112]"
   ]
  },
  {
   "cell_type": "code",
   "execution_count": 308,
   "id": "9793ccfe",
   "metadata": {},
   "outputs": [
    {
     "name": "stdout",
     "output_type": "stream",
     "text": [
      "[0.0, 0.0, 0.0, 0.0, 0.0, 0.0, 0.0, 34.0, 261.0, 472.0, 656.0, 788.0, 861.0, 868.0, 803.0, 686.0, 511.0, 300.0, 64.0, 0.0, 0.0, 0.0, 0.0, 0.0, 0.0]\n"
     ]
    }
   ],
   "source": [
    "#Air Temp CRN:\n",
    "with open('CRNH0203-2022-MS_Newton_5_ENE.txt') as f:\n",
    "    lst=[line.split()[13] for line in f]\n",
    "    #print(lst)\n",
    "    temp_crn_new2=[]\n",
    "    for i in lst:\n",
    "        new=i.replace(',',\"\")\n",
    "        temp_crn_new2.append(new)\n",
    "    temp_crn_new2=[float(x) for x in temp_crn_new2]\n",
    "    temp_crn_new2=temp_crn_new2[1709:1734]\n",
    "    print(temp_crn_new2)\n",
    "    #print(len(temp_crn))\n",
    "    # print(temp_crn[2124])"
   ]
  },
  {
   "cell_type": "code",
   "execution_count": 309,
   "id": "e8bd78b0",
   "metadata": {},
   "outputs": [],
   "source": [
    "# difference2_new = []\n",
    "\n",
    "# zip_object = zip(temp, temp_crn)\n",
    "# for temp_i, temp_crn_i in zip_object:\n",
    "#     difference2_new.append(temp_i-temp_crn_i)\n",
    "\n",
    "# print(difference2_new)"
   ]
  },
  {
   "cell_type": "markdown",
   "id": "ec499d8b",
   "metadata": {},
   "source": [
    "<font size=\"3\">Gainesville, AL: 0600 UTC (12:00 am CST) 01 March 2022-0600 UTC (12:00 am CST) 02 March 2022</font>"
   ]
  },
  {
   "cell_type": "code",
   "execution_count": 310,
   "id": "e9f22db0",
   "metadata": {},
   "outputs": [],
   "source": [
    "# #1 hr hrrr:\n",
    "# with open('hrrr_f01_Gainesville_AL.txt') as f:\n",
    "#     lst=[line.split()[3] for line in f]\n",
    "#     temp=[]\n",
    "#     for i in lst:\n",
    "#         new=i.replace(',',\"\")\n",
    "#         temp.append(new)\n",
    "#     temp.pop(0)\n",
    "#     temp=[float(x) for x in temp]\n",
    "#     temp=temp[1709:1734]\n",
    "#     #temp=temp[2015:2063]\n",
    "#     print(temp)\n",
    "#     #print(len(temp))\n",
    "# #full time period is [2015:2112]"
   ]
  },
  {
   "cell_type": "code",
   "execution_count": 311,
   "id": "de89a88f",
   "metadata": {},
   "outputs": [],
   "source": [
    "# #Air Temp CRN:\n",
    "# with open('CRNH0203-2022-AL_Gainesville_2_NE.txt') as f:\n",
    "#     lst=[line.split()[13] for line in f]\n",
    "#     #print(lst)\n",
    "#     temp_crn=[]\n",
    "#     for i in lst:\n",
    "#         new=i.replace(',',\"\")\n",
    "#         temp_crn.append(new)\n",
    "#     temp_crn=[float(x) for x in temp_crn]\n",
    "#     temp_crn=temp_crn[1709:1734]\n",
    "#     print(temp_crn)\n",
    "#     #print(len(temp_crn))\n",
    "#     # print(temp_crn[2124])"
   ]
  },
  {
   "cell_type": "code",
   "execution_count": 312,
   "id": "2d1d92b8",
   "metadata": {},
   "outputs": [],
   "source": [
    "# difference2_gai = []\n",
    "\n",
    "# zip_object = zip(temp, temp_crn)\n",
    "# for temp_i, temp_crn_i in zip_object:\n",
    "#     difference2_gai.append(temp_i-temp_crn_i)\n",
    "\n",
    "# print(difference2_gai)"
   ]
  },
  {
   "cell_type": "markdown",
   "id": "4019fb67",
   "metadata": {},
   "source": [
    "<font size=\"3\">Fairhope, AL: 0600 UTC (12:00 am CST) 01 March 2022-0600 UTC (12:00 am CST) 02 March 2022</font>"
   ]
  },
  {
   "cell_type": "code",
   "execution_count": 313,
   "id": "c7e8255a",
   "metadata": {},
   "outputs": [
    {
     "name": "stdout",
     "output_type": "stream",
     "text": [
      "[0.0, 0.0, 0.0, 0.0, 0.0, 0.0, 0.0, 158.4, 398.6, 624.6, 799.1, 911.2, 949.0, 908.0, 797.0, 626.2, 410.8, 171.1, 0.0, 0.0, 0.0, 0.0, 0.0, 0.0, 0.0]\n"
     ]
    }
   ],
   "source": [
    "#1 hr hrrr:\n",
    "with open('hrrr_f01_Fairhope_AL.txt') as f:\n",
    "    lst=[line.split()[3] for line in f]\n",
    "    temp_fai2=[]\n",
    "    for i in lst:\n",
    "        new=i.replace(',',\"\")\n",
    "        temp_fai2.append(new)\n",
    "    temp_fai2.pop(0)\n",
    "    temp_fai2=[float(x) for x in temp_fai2]\n",
    "    temp_fai2=temp_fai2[1709:1734]\n",
    "    #temp=temp[2015:2063]\n",
    "    print(temp_fai2)\n",
    "    #print(len(temp))\n",
    "#full time period is [2015:2112]"
   ]
  },
  {
   "cell_type": "code",
   "execution_count": 314,
   "id": "2bb7c0bc",
   "metadata": {},
   "outputs": [
    {
     "name": "stdout",
     "output_type": "stream",
     "text": [
      "[0.0, 0.0, 0.0, 0.0, 0.0, 0.0, 0.0, 69.0, 278.0, 498.0, 681.0, 810.0, 880.0, 879.0, 816.0, 689.0, 509.0, 291.0, 72.0, 0.0, 0.0, 0.0, 0.0, 0.0, 0.0]\n"
     ]
    }
   ],
   "source": [
    "#Air Temp CRN:\n",
    "with open('CRNH0203-2022-AL_Fairhope_3_NE.txt') as f:\n",
    "    lst=[line.split()[13] for line in f]\n",
    "    #print(lst)\n",
    "    temp_crn_fai2=[]\n",
    "    for i in lst:\n",
    "        new=i.replace(',',\"\")\n",
    "        temp_crn_fai2.append(new)\n",
    "    temp_crn_fai2=[float(x) for x in temp_crn_fai2]\n",
    "    temp_crn_fai2=temp_crn_fai2[1709:1734]\n",
    "    print(temp_crn_fai2)\n",
    "    #print(len(temp_crn))\n",
    "    # print(temp_crn[2124])"
   ]
  },
  {
   "cell_type": "code",
   "execution_count": 315,
   "id": "e99e35e0",
   "metadata": {},
   "outputs": [],
   "source": [
    "# difference2_fai = []\n",
    "\n",
    "# zip_object = zip(temp, temp_crn)\n",
    "# for temp_i, temp_crn_i in zip_object:\n",
    "#     difference2_fai.append(temp_i-temp_crn_i)\n",
    "\n",
    "# print(difference2_fai)"
   ]
  },
  {
   "cell_type": "markdown",
   "id": "cb09fde7",
   "metadata": {},
   "source": [
    "<font size=\"3\">**Selma, AL: 0600 UTC (12:00 am CST) 01 March 2022-0600 UTC (12:00 am CST) 02 March 2022</font>"
   ]
  },
  {
   "cell_type": "code",
   "execution_count": 316,
   "id": "fe2b2257",
   "metadata": {},
   "outputs": [
    {
     "name": "stdout",
     "output_type": "stream",
     "text": [
      "[0.0, 0.0, 0.0, 0.0, 0.0, 0.0, 0.0, 114.9, 339.8, 547.7, 706.9, 806.5, 839.6, 801.7, 693.2, 524.3, 316.8, 95.3, 0.0, 0.0, 0.0, 0.0, 0.0, 0.0, 0.0]\n",
      "[0.0, 0.0, 0.0, 0.0, 0.0, 0.0, 0.0, 42.0, 209.0, 430.0, 602.0, 722.0, 784.0, 780.0, 713.0, 590.0, 413.0, 206.0, 28.0, 0.0, 0.0, 0.0, 0.0, 0.0, 0.0]\n"
     ]
    }
   ],
   "source": [
    "#1 hr hrrr:\n",
    "import numpy as np\n",
    "import numpy.ma as ma\n",
    "with open('hrrr_f01_Selma_AL.txt') as f:\n",
    "    lst=[line.split()[3] for line in f]\n",
    "    temp_sel2=[]\n",
    "    for i in lst:\n",
    "        new=i.replace(',',\"\")\n",
    "        temp_sel2.append(new)\n",
    "    temp_sel2.pop(0)\n",
    "    temp_sel2=[float(x) for x in temp_sel2]\n",
    "    temp_sel2=temp_sel2[1709:1734]\n",
    "\n",
    "#     x = np.array(temp)\n",
    "#     temp = ma.masked_array(x, mask=[0, 0, 0, 0, 0,0,0,0,0,0,0,0,0,0,0,0,0,1,1,1,1,0,0,0,0])\n",
    "    #print(temp)\n",
    "#Air Temp CRN:\n",
    "with open('CRNH0203-2022-AL_Selma_13_WNW.txt') as f:\n",
    "    lst=[line.split()[13] for line in f]\n",
    "    #print(lst)\n",
    "    temp_crn_sel2=[]\n",
    "    for i in lst:\n",
    "        new=i.replace(',',\"\")\n",
    "        temp_crn_sel2.append(new)\n",
    "    temp_crn_sel2=[float(x) for x in temp_crn_sel2]\n",
    "    temp_crn_sel2=temp_crn_sel2[1709:1734]\n",
    "#     y = np.array(temp_crn)\n",
    "#     temp_crn = ma.masked_array(y, mask=[0, 0, 0, 0, 0,0,0,0,0,0,0,0,0,0,0,0,0,1,1,1,1,0,0,0,0])\n",
    "    print(temp)\n",
    "    #print(len(temp))\n",
    "    print(temp_crn)\n",
    "    #print(len(temp_crn))\n",
    "#full time period is [2015:2112]\n",
    "# difference2_sel = []\n",
    "\n",
    "# zip_object = zip(temp, temp_crn)\n",
    "# for temp_i, temp_crn_i in zip_object:\n",
    "#     difference2_sel.append(temp_i-temp_crn_i)\n",
    "\n",
    "# print(difference2_sel)\n",
    "# print(len(difference2_sel))"
   ]
  },
  {
   "cell_type": "markdown",
   "id": "9767e5fd",
   "metadata": {},
   "source": [
    "<font size=\"3\">Bowling Green, KY: 0600 UTC (12:00 am CST) 01 March 2022-0600 UTC (12:00 am CST) 02 March 2022</font>"
   ]
  },
  {
   "cell_type": "code",
   "execution_count": 317,
   "id": "a031b19f",
   "metadata": {},
   "outputs": [
    {
     "name": "stdout",
     "output_type": "stream",
     "text": [
      "[0.0, 0.0, 0.0, 0.0, 0.0, 0.0, 0.0, 148.3, 361.2, 555.5, 711.7, 804.9, 831.0, 791.0, 685.0, 526.3, 327.5, 118.0, 0.0, 0.0, 0.0, 0.0, 0.0, 0.0, 0.0]\n"
     ]
    }
   ],
   "source": [
    "#1 hr hrrr:\n",
    "with open('hrrr_f01_Bowling Green_KY.txt') as f:\n",
    "    lst=[line.split()[3] for line in f]\n",
    "    temp_bow2=[]\n",
    "    for i in lst:\n",
    "        new=i.replace(',',\"\")\n",
    "        temp_bow2.append(new)\n",
    "    temp_bow2.pop(0)\n",
    "    temp_bow2=[float(x) for x in temp_bow2]\n",
    "    temp_bow2=temp_bow2[1709:1734]\n",
    "    #temp=temp[2015:2063]\n",
    "    print(temp_bow2)\n",
    "    #print(len(temp))\n",
    "#full time period is [2015:2112]"
   ]
  },
  {
   "cell_type": "code",
   "execution_count": 318,
   "id": "f404948b",
   "metadata": {},
   "outputs": [
    {
     "name": "stdout",
     "output_type": "stream",
     "text": [
      "[0.0, 0.0, 0.0, 0.0, 0.0, 0.0, 0.0, 15.0, 96.0, 225.0, 453.0, 712.0, 766.0, 759.0, 688.0, 563.0, 395.0, 205.0, 18.0, 0.0, 0.0, 0.0, 0.0, 0.0, 0.0]\n"
     ]
    }
   ],
   "source": [
    "#Air Temp CRN:\n",
    "with open('CRNH0203-2022-KY_Bowling_Green_21_NNE.txt') as f:\n",
    "    lst=[line.split()[13] for line in f]\n",
    "    #print(lst)\n",
    "    temp_crn_bow2=[]\n",
    "    for i in lst:\n",
    "        new=i.replace(',',\"\")\n",
    "        temp_crn_bow2.append(new)\n",
    "    temp_crn_bow2=[float(x) for x in temp_crn_bow2]\n",
    "    temp_crn_bow2=temp_crn_bow2[1709:1734]\n",
    "    print(temp_crn_bow2)\n",
    "    #print(len(temp_crn))\n",
    "    # print(temp_crn[2124])"
   ]
  },
  {
   "cell_type": "code",
   "execution_count": 319,
   "id": "d326cffb",
   "metadata": {},
   "outputs": [],
   "source": [
    "# difference2_bow = []\n",
    "\n",
    "# zip_object = zip(temp, temp_crn)\n",
    "# for temp_i, temp_crn_i in zip_object:\n",
    "#     difference2_bow.append(temp_i-temp_crn_i)\n",
    "\n",
    "# print(difference2_bow)"
   ]
  },
  {
   "cell_type": "markdown",
   "id": "cf477d73",
   "metadata": {},
   "source": [
    "<font size=\"3\">Gadsden, AL: 0600 UTC (12:00 am CST) 01 March 2022-0600 UTC (12:00 am CST) 02 March 2022</font>"
   ]
  },
  {
   "cell_type": "code",
   "execution_count": 320,
   "id": "8d9653aa",
   "metadata": {},
   "outputs": [
    {
     "name": "stdout",
     "output_type": "stream",
     "text": [
      "[0.0, 0.0, 0.0, 0.0, 0.0, 0.0, 0.0, 178.3, 366.1, 585.0, 759.0, 857.3, 886.0, 843.0, 733.0, 564.5, 353.3, 128.7, 0.0, 0.0, 0.0, 0.0, 0.0, 0.0, 0.0]\n"
     ]
    }
   ],
   "source": [
    "#1 hr hrrr:\n",
    "with open('hrrr_f01_Gadsden_AL.txt') as f:\n",
    "    lst=[line.split()[3] for line in f]\n",
    "    temp_gad2=[]\n",
    "    for i in lst:\n",
    "        new=i.replace(',',\"\")\n",
    "        temp_gad2.append(new)\n",
    "    temp_gad2.pop(0)\n",
    "    temp_gad2=[float(x) for x in temp_gad2]\n",
    "    temp_gad2=temp_gad2[1709:1734]\n",
    "#     x = np.array(temp)\n",
    "#     temp = ma.masked_array(x, mask=[0, 0, 0, 0, 0,0,0,0,1,0,0,0,0,0,0,0,0,0,0,0,0,0,0,0,0])\n",
    "    #temp=temp[2015:2063]\n",
    "    print(temp_gad2)\n",
    "    #print(len(temp))\n",
    "#full time period is [2015:2112]"
   ]
  },
  {
   "cell_type": "code",
   "execution_count": 322,
   "id": "d942ec7d",
   "metadata": {},
   "outputs": [
    {
     "name": "stdout",
     "output_type": "stream",
     "text": [
      "[0.0, 0.0, 0.0, 0.0, 0.0, 0.0, 0.0, 80.0, 249.0, 487.0, 657.0, 774.0, 830.0, 820.0, 745.0, 612.0, 431.0, 222.0, 38.0, 0.0, 0.0, 0.0, 0.0, 0.0, 0.0]\n"
     ]
    }
   ],
   "source": [
    "#Air Temp CRN:\n",
    "with open('CRNH0203-2022-AL_Gadsden_19_N.txt') as f:\n",
    "    lst=[line.split()[13] for line in f]\n",
    "    #print(lst)\n",
    "    temp_crn_gad2=[]\n",
    "    for i in lst:\n",
    "        new=i.replace(',',\"\")\n",
    "        temp_crn_gad2.append(new)\n",
    "    temp_crn_gad2=[float(x) for x in temp_crn_gad2]\n",
    "    temp_crn_gad2=temp_crn_gad2[1709:1734]\n",
    "#     y = np.array(temp_crn)\n",
    "#     temp_crn = ma.masked_array(y, mask=[0, 0, 0, 0, 0,0,0,0,1,0,0,0,0,0,0,0,0,0,0,0,0,0,0,0,0])\n",
    "    print(temp_crn_gad2)\n",
    "    #print(len(temp_crn))\n",
    "    # print(temp_crn[2124])"
   ]
  },
  {
   "cell_type": "code",
   "execution_count": 323,
   "id": "254e1e52",
   "metadata": {},
   "outputs": [],
   "source": [
    "# difference2_gad = []\n",
    "\n",
    "# zip_object = zip(temp, temp_crn)\n",
    "# for temp_i, temp_crn_i in zip_object:\n",
    "#     difference2_gad.append(temp_i-temp_crn_i)\n",
    "\n",
    "# print(difference2_gad)"
   ]
  },
  {
   "cell_type": "markdown",
   "id": "75862889",
   "metadata": {},
   "source": [
    "<font size=\"3\">Newton, GA: 0600 UTC (12:00 am CST) 01 March 2022-0600 UTC (12:00 am CST) 02 March 2022</font>"
   ]
  },
  {
   "cell_type": "code",
   "execution_count": 324,
   "id": "06608db6",
   "metadata": {},
   "outputs": [
    {
     "name": "stdout",
     "output_type": "stream",
     "text": [
      "[0.0, 0.0, 0.0, 0.0, 0.0, 0.0, 0.0, 214.9, 457.5, 671.2, 830.5, 922.9, 943.0, 891.0, 768.0, 584.6, 358.0, 118.5, 0.0, 0.0, 0.0, 0.0, 0.0, 0.0, 0.0]\n"
     ]
    }
   ],
   "source": [
    "#1 hr hrrr:\n",
    "with open('hrrr_f01_Newton_GA.txt') as f:\n",
    "    lst=[line.split()[3] for line in f]\n",
    "    temp_newt2=[]\n",
    "    for i in lst:\n",
    "        new=i.replace(',',\"\")\n",
    "        temp_newt2.append(new)\n",
    "    temp_newt2.pop(0)\n",
    "    temp_newt2=[float(x) for x in temp_newt2]\n",
    "    temp_newt2=temp_newt2[1709:1734]\n",
    "    #temp=temp[2015:2063]\n",
    "    print(temp_newt2)\n",
    "    #print(len(temp))\n",
    "#full time period is [2015:2112]"
   ]
  },
  {
   "cell_type": "code",
   "execution_count": 325,
   "id": "9adb1c44",
   "metadata": {},
   "outputs": [
    {
     "name": "stdout",
     "output_type": "stream",
     "text": [
      "[0.0, 0.0, 0.0, 0.0, 0.0, 0.0, 0.0, 0.0, 90.0, 307.0, 509.0, 674.0, 787.0, 839.0, 824.0, 742.0, 603.0, 417.0, 207.0, 32.0, 0.0, 0.0, 0.0, 0.0, 0.0]\n"
     ]
    }
   ],
   "source": [
    "#Air Temp CRN:\n",
    "with open('CRNH0203-2022-GA_Newton_11_SW.txt') as f:\n",
    "    lst=[line.split()[13] for line in f]\n",
    "    #print(lst)\n",
    "    temp_crn_newt2=[]\n",
    "    for i in lst:\n",
    "        new=i.replace(',',\"\")\n",
    "        temp_crn_newt2.append(new)\n",
    "    temp_crn_newt2=[float(x) for x in temp_crn_newt2]\n",
    "    temp_crn_newt2=temp_crn_newt2[1708:1733]\n",
    "    print(temp_crn_newt2)\n",
    "    #print(len(temp_crn))\n",
    "    # print(temp_crn[2124])"
   ]
  },
  {
   "cell_type": "code",
   "execution_count": 326,
   "id": "405581a9",
   "metadata": {},
   "outputs": [],
   "source": [
    "# difference2_newt = []\n",
    "\n",
    "# zip_object = zip(temp, temp_crn)\n",
    "# for temp_i, temp_crn_i in zip_object:\n",
    "#     difference2_newt.append(temp_i-temp_crn_i)\n",
    "\n",
    "# print(difference2_newt)"
   ]
  },
  {
   "cell_type": "markdown",
   "id": "70443283",
   "metadata": {},
   "source": [
    "<font size=\"3\">Salem, MO: 0500 UTC (12:00 am CDT) 20 March 2022-0500 UTC (12:00 am CDT) 21 March 2022</font>"
   ]
  },
  {
   "cell_type": "code",
   "execution_count": 334,
   "id": "2d0299c0",
   "metadata": {},
   "outputs": [
    {
     "name": "stdout",
     "output_type": "stream",
     "text": [
      "[0.0, 0.0, 0.0, 0.0, 0.0, 0.0, 0.0, 0.0, 109.5, 324.0, 530.6, 699.4, 813.3, 865.0, 845.0, 762.0, 619.0, 430.2, 216.7, 24.0, 0.0, 0.0, 0.0, 0.0, 0.0]\n"
     ]
    }
   ],
   "source": [
    "#1 hr hrrr:\n",
    "with open('hrrr_f01_Salem_MO.txt') as f:\n",
    "    lst=[line.split()[3] for line in f]\n",
    "    temp_sal3=[]\n",
    "    for i in lst:\n",
    "        new=i.replace(',',\"\")\n",
    "        temp_sal3.append(new)\n",
    "    temp_sal3.pop(0)\n",
    "    temp_sal3=[float(x) for x in temp_sal3]\n",
    "    temp_sal3=temp_sal3[1876:1901]\n",
    "    #temp=temp[2015:2063]\n",
    "    print(temp_sal3)\n",
    "#full time period is [2015:2112]"
   ]
  },
  {
   "cell_type": "code",
   "execution_count": 336,
   "id": "c8ed8705",
   "metadata": {},
   "outputs": [
    {
     "name": "stdout",
     "output_type": "stream",
     "text": [
      "[0.0, 0.0, 0.0, 0.0, 0.0, 0.0, 0.0, 0.0, 47.0, 226.0, 434.0, 614.0, 745.0, 823.0, 822.0, 788.0, 671.0, 453.0, 286.0, 88.0, 0.0, 0.0, 0.0, 0.0, 0.0]\n",
      "25\n"
     ]
    }
   ],
   "source": [
    "#Air Temp CRN:\n",
    "with open('CRNH0203-2022-MO_Salem_10_W.txt') as f:\n",
    "    lst=[line.split()[13] for line in f]\n",
    "    #print(lst)\n",
    "    temp_crn_sal3=[]\n",
    "    for i in lst:\n",
    "        new=i.replace(',',\"\")\n",
    "        temp_crn_sal3.append(new)\n",
    "    temp_crn_sal3=[float(x) for x in temp_crn_sal3]\n",
    "    temp_crn_sal3=temp_crn_sal3[1876:1901]\n",
    "    print(temp_crn_sal3)\n",
    "    print(len(temp_crn_sal3))\n",
    "    # print(temp_crn[2124])"
   ]
  },
  {
   "cell_type": "code",
   "execution_count": 337,
   "id": "e8c3c3a5",
   "metadata": {},
   "outputs": [],
   "source": [
    "# difference3_sal = []\n",
    "\n",
    "# zip_object = zip(temp, temp_crn)\n",
    "# for temp_i, temp_crn_i in zip_object:\n",
    "#     difference3_sal.append(temp_i-temp_crn_i)\n",
    "\n",
    "# print(difference3_sal)"
   ]
  },
  {
   "cell_type": "markdown",
   "id": "176d67cb",
   "metadata": {},
   "source": [
    "<font size=\"3\">Batesville, AR: 0600 UTC (12:00 am CST) 01 March 2022-0600 UTC (12:00 am CST) 02 March 2022</font>"
   ]
  },
  {
   "cell_type": "code",
   "execution_count": 339,
   "id": "51a628f5",
   "metadata": {},
   "outputs": [
    {
     "name": "stdout",
     "output_type": "stream",
     "text": [
      "[0.0, 0.0, 0.0, 0.0, 0.0, 0.0, 0.0, 0.0, 106.3, 323.0, 533.7, 705.6, 823.9, 874.0, 854.0, 767.0, 624.5, 431.4, 218.5, 25.3, 0.0, 0.0, 0.0, 0.0, 0.0]\n",
      "25\n"
     ]
    }
   ],
   "source": [
    "#1 hr hrrr:\n",
    "with open('hrrr_f01_Batesville_AR.txt') as f:\n",
    "    lst=[line.split()[3] for line in f]\n",
    "    temp_bat3=[]\n",
    "    for i in lst:\n",
    "        new=i.replace(',',\"\")\n",
    "        temp_bat3.append(new)\n",
    "    temp_bat3.pop(0)\n",
    "    temp_bat3=[float(x) for x in temp_bat3]\n",
    "    temp_bat3=temp_bat3[1876:1901]\n",
    "#     x = np.array(temp)\n",
    "#     temp = ma.masked_array(x, mask=[0, 0, 0, 0, 0,0,0,0,0,0,0,0,0,0,0,0,0,0,0,0,0,1,0,0,0])\n",
    "    #temp=temp[2015:2063]\n",
    "    print(temp_bat3)\n",
    "    print(len(temp_bat3))\n",
    "#full time period is [2015:2112]"
   ]
  },
  {
   "cell_type": "code",
   "execution_count": 340,
   "id": "e5b7984c",
   "metadata": {},
   "outputs": [
    {
     "name": "stdout",
     "output_type": "stream",
     "text": [
      "[0.0, 0.0, 0.0, 0.0, 0.0, 0.0, 0.0, 0.0, 36.0, 214.0, 429.0, 583.0, 730.0, 835.0, 856.0, 805.0, 693.0, 459.0, 346.0, 102.0, 0.0, 0.0, 0.0, 0.0, 0.0]\n"
     ]
    }
   ],
   "source": [
    "#Air Temp CRN:\n",
    "with open('CRNH0203-2022-AR_Batesville_8_WNW.txt') as f:\n",
    "    lst=[line.split()[13] for line in f]\n",
    "    #print(lst)\n",
    "    temp_crn_bat3=[]\n",
    "    for i in lst:\n",
    "        new=i.replace(',',\"\")\n",
    "        temp_crn_bat3.append(new)\n",
    "    temp_crn_bat3=[float(x) for x in temp_crn_bat3]\n",
    "    temp_crn_bat3=temp_crn_bat3[1876:1901]\n",
    "#     y = np.array(temp_crn)\n",
    "#     temp_crn = ma.masked_array(y, mask=[0, 0, 0, 0, 0,0,0,0,0,0,0,0,0,0,0,0,0,0,0,0,0,1,0,0,0])\n",
    "    print(temp_crn_bat3)\n",
    "    #print(len(temp_crn))\n",
    "    # print(temp_crn[2124])"
   ]
  },
  {
   "cell_type": "code",
   "execution_count": 341,
   "id": "19589d21",
   "metadata": {},
   "outputs": [],
   "source": [
    "# difference3_bat = []\n",
    "\n",
    "# zip_object = zip(temp, temp_crn)\n",
    "# for temp_i, temp_crn_i in zip_object:\n",
    "#     difference3_bat.append(temp_i-temp_crn_i)\n",
    "\n",
    "# print(difference3_bat)"
   ]
  },
  {
   "cell_type": "markdown",
   "id": "9ac05a40",
   "metadata": {},
   "source": [
    "<font size=\"3\">Lafayette, LA: 0600 UTC (12:00 am CST) 01 March 2022-0600 UTC (12:00 am CST) 02 March 2022</font>"
   ]
  },
  {
   "cell_type": "code",
   "execution_count": 342,
   "id": "f280badb",
   "metadata": {},
   "outputs": [
    {
     "name": "stdout",
     "output_type": "stream",
     "text": [
      "[0.0, 0.0, 0.0, 0.0, 0.0, 0.0, 0.0, 0.0, 89.9, 359.6, 589.2, 775.8, 903.6, 964.0, 947.0, 864.0, 702.1, 492.7, 249.5, 30.3, 0.0, 0.0, 0.0, 0.0, 0.0]\n"
     ]
    }
   ],
   "source": [
    "#1 hr hrrr:\n",
    "with open('hrrr_f01_Lafayette_LA.txt') as f:\n",
    "    lst=[line.split()[3] for line in f]\n",
    "    temp_laf3=[]\n",
    "    for i in lst:\n",
    "        new=i.replace(',',\"\")\n",
    "        temp_laf3.append(new)\n",
    "    temp_laf3.pop(0)\n",
    "    temp_laf3=[float(x) for x in temp_laf3]\n",
    "    temp_laf3=temp_laf3[1876:1901]\n",
    "    #temp=temp[2015:2063]\n",
    "    print(temp_laf3)\n",
    "    #print(len(temp))\n",
    "#full time period is [2015:2112]"
   ]
  },
  {
   "cell_type": "code",
   "execution_count": 343,
   "id": "17793fb2",
   "metadata": {},
   "outputs": [
    {
     "name": "stdout",
     "output_type": "stream",
     "text": [
      "[0.0, 0.0, 0.0, 0.0, 0.0, 0.0, 0.0, 0.0, 36.0, 231.0, 467.0, 658.0, 800.0, 883.0, 900.0, 845.0, 732.0, 565.0, 354.0, 130.0, 3.0, 0.0, 0.0, 0.0, 0.0]\n"
     ]
    }
   ],
   "source": [
    "#Air Temp CRN:\n",
    "with open('CRNH0203-2022-LA_Lafayette_13_SE.txt') as f:\n",
    "    lst=[line.split()[13] for line in f]\n",
    "    #print(lst)\n",
    "    temp_crn_laf3=[]\n",
    "    for i in lst:\n",
    "        new=i.replace(',',\"\")\n",
    "        temp_crn_laf3.append(new)\n",
    "    temp_crn_laf3=[float(x) for x in temp_crn_laf3]\n",
    "    temp_crn_laf3=temp_crn_laf3[1876:1901]\n",
    "    print(temp_crn_laf3)\n",
    "    #print(len(temp_crn))\n",
    "    # print(temp_crn[2124])"
   ]
  },
  {
   "cell_type": "code",
   "execution_count": 344,
   "id": "36c6a6c7",
   "metadata": {},
   "outputs": [],
   "source": [
    "# difference3_laf = []\n",
    "\n",
    "# zip_object = zip(temp, temp_crn)\n",
    "# for temp_i, temp_crn_i in zip_object:\n",
    "#     difference3_laf.append(temp_i-temp_crn_i)\n",
    "\n",
    "# print(difference3_laf)"
   ]
  },
  {
   "cell_type": "markdown",
   "id": "9f50a0c5",
   "metadata": {},
   "source": [
    "<font size=\"3\">Monroe, LA: 0600 UTC (12:00 am CST) 01 March 2022-0600 UTC (12:00 am CST) 02 March 2022</font>"
   ]
  },
  {
   "cell_type": "code",
   "execution_count": 345,
   "id": "afe54e44",
   "metadata": {},
   "outputs": [
    {
     "name": "stdout",
     "output_type": "stream",
     "text": [
      "[0.0, 0.0, 0.0, 0.0, 0.0, 0.0, 0.0, 0.0, 113.1, 342.3, 560.2, 741.9, 864.1, 921.0, 908.0, 822.0, 671.3, 470.6, 241.5, 31.3, 0.0, 0.0, 0.0, 0.0, 0.0]\n"
     ]
    }
   ],
   "source": [
    "#1 hr hrrr:\n",
    "with open('hrrr_f01_Monroe_LA.txt') as f:\n",
    "    lst=[line.split()[3] for line in f]\n",
    "    temp_mon3=[]\n",
    "    for i in lst:\n",
    "        new=i.replace(',',\"\")\n",
    "        temp_mon3.append(new)\n",
    "    temp_mon3.pop(0)\n",
    "    temp_mon3=[float(x) for x in temp_mon3]\n",
    "    temp_mon3=temp_mon3[1876:1901]\n",
    "    #temp=temp[2015:2063]\n",
    "    print(temp_mon3)\n",
    "    #print(len(temp))\n",
    "#full time period is [2015:2112]"
   ]
  },
  {
   "cell_type": "code",
   "execution_count": 349,
   "id": "32d70ce1",
   "metadata": {},
   "outputs": [
    {
     "name": "stdout",
     "output_type": "stream",
     "text": [
      "[0.0, 0.0, 0.0, 0.0, 0.0, 0.0, 0.0, 0.0, 21.0, 215.0, 440.0, 638.0, 786.0, 870.0, 886.0, 832.0, 705.0, 529.0, 174.0, 23.0, 3.0, 0.0, 0.0, 0.0, 0.0]\n"
     ]
    }
   ],
   "source": [
    "#Air Temp CRN:\n",
    "with open('CRNH0203-2022-LA_Monroe_26_N.txt') as f:\n",
    "    lst=[line.split()[13] for line in f]\n",
    "    #print(lst)\n",
    "    temp_crn_mon3=[]\n",
    "    for i in lst:\n",
    "        new=i.replace(',',\"\")\n",
    "        temp_crn_mon3.append(new)\n",
    "    temp_crn_mon3=[float(x) for x in temp_crn_mon3]\n",
    "    temp_crn_mon3=temp_crn_mon3[1876:1901]\n",
    "    print(temp_crn_mon3)\n",
    "    #print(len(temp_crn))\n",
    "    # print(temp_crn[2124])"
   ]
  },
  {
   "cell_type": "code",
   "execution_count": 350,
   "id": "79ffb554",
   "metadata": {},
   "outputs": [],
   "source": [
    "# difference3_mon = []\n",
    "\n",
    "# zip_object = zip(temp, temp_crn)\n",
    "# for temp_i, temp_crn_i in zip_object:\n",
    "#     difference3_mon.append(temp_i-temp_crn_i)\n",
    "\n",
    "# print(difference3_mon)"
   ]
  },
  {
   "cell_type": "markdown",
   "id": "1bf55dcc",
   "metadata": {},
   "source": [
    "<font size=\"3\">Holly Springs, MS: 0600 UTC (12:00 am CST) 01 March 2022-0600 UTC (12:00 am CST) 02 March 2022</font>"
   ]
  },
  {
   "cell_type": "code",
   "execution_count": 351,
   "id": "70182e09",
   "metadata": {},
   "outputs": [
    {
     "name": "stdout",
     "output_type": "stream",
     "text": [
      "[0.0, 0.0, 0.0, 0.0, 0.0, 0.0, 0.0, 0.0, 143.7, 365.1, 573.0, 739.4, 844.8, 886.0, 858.0, 767.0, 613.0, 414.0, 194.2, 6.4, 0.0, 0.0, 0.0, 0.0, 0.0]\n"
     ]
    }
   ],
   "source": [
    "#1 hr hrrr:\n",
    "with open('hrrr_f01_Holly Springs_MS.txt') as f:\n",
    "    lst=[line.split()[3] for line in f]\n",
    "    temp_hol3=[]\n",
    "    for i in lst:\n",
    "        new=i.replace(',',\"\")\n",
    "        temp_hol3.append(new)\n",
    "    temp_hol3.pop(0)\n",
    "    temp_hol3=[float(x) for x in temp_hol3]\n",
    "    temp_hol3=temp_hol3[1876:1901]\n",
    "    #temp=temp[2015:2063]\n",
    "    print(temp_hol3)\n",
    "    #print(len(temp))\n",
    "#full time period is [2015:2112]"
   ]
  },
  {
   "cell_type": "code",
   "execution_count": 352,
   "id": "f5ab820d",
   "metadata": {},
   "outputs": [
    {
     "name": "stdout",
     "output_type": "stream",
     "text": [
      "[0.0, 0.0, 0.0, 0.0, 0.0, 0.0, 0.0, 0.0, 47.0, 300.0, 509.0, 678.0, 785.0, 861.0, 833.0, 766.0, 646.0, 463.0, 248.0, 48.0, 0.0, 0.0, 0.0, 0.0, 0.0]\n"
     ]
    }
   ],
   "source": [
    "#Air Temp CRN:\n",
    "with open('CRNH0203-2022-MS_Holly_Springs_4_N.txt') as f:\n",
    "    lst=[line.split()[13] for line in f]\n",
    "    #print(lst)\n",
    "    temp_crn_hol3=[]\n",
    "    for i in lst:\n",
    "        new=i.replace(',',\"\")\n",
    "        temp_crn_hol3.append(new)\n",
    "    temp_crn_hol3=[float(x) for x in temp_crn_hol3]\n",
    "    temp_crn_hol3=temp_crn_hol3[1876:1901]\n",
    "    print(temp_crn_hol3)\n",
    "    #print(len(temp_crn))\n",
    "    # print(temp_crn[2124])"
   ]
  },
  {
   "cell_type": "code",
   "execution_count": 353,
   "id": "9d0ab2f8",
   "metadata": {},
   "outputs": [],
   "source": [
    "# difference3_hol = []\n",
    "\n",
    "# zip_object = zip(temp, temp_crn)\n",
    "# for temp_i, temp_crn_i in zip_object:\n",
    "#     difference3_hol.append(temp_i-temp_crn_i)\n",
    "\n",
    "# print(difference3_hol)"
   ]
  },
  {
   "cell_type": "markdown",
   "id": "2d2b0ce7",
   "metadata": {},
   "source": [
    "<font size=\"3\">Newton, MS: 0600 UTC (12:00 am CST) 01 March 2022-0600 UTC (12:00 am CST) 02 March 2022</font>"
   ]
  },
  {
   "cell_type": "code",
   "execution_count": 354,
   "id": "d10078d2",
   "metadata": {},
   "outputs": [
    {
     "name": "stdout",
     "output_type": "stream",
     "text": [
      "[0.0, 0.0, 0.0, 0.0, 0.0, 0.0, 0.0, 0.0, 150.7, 393.1, 610.1, 779.5, 892.7, 936.0, 905.0, 805.0, 641.0, 430.3, 198.1, 4.7, 0.0, 0.0, 0.0, 0.0, 0.0]\n"
     ]
    }
   ],
   "source": [
    "#1 hr hrrr:\n",
    "with open('hrrr_f01_Newton_MS.txt') as f:\n",
    "    lst=[line.split()[3] for line in f]\n",
    "    temp_new3=[]\n",
    "    for i in lst:\n",
    "        new=i.replace(',',\"\")\n",
    "        temp_new3.append(new)\n",
    "    temp_new3.pop(0)\n",
    "    temp_new3=[float(x) for x in temp_new3]\n",
    "    temp_new3=temp_new3[1876:1901]\n",
    "    #temp=temp[2015:2063]\n",
    "    print(temp_new3)\n",
    "    #print(len(temp))\n",
    "#full time period is [2015:2112]"
   ]
  },
  {
   "cell_type": "code",
   "execution_count": 355,
   "id": "92c9162c",
   "metadata": {},
   "outputs": [
    {
     "name": "stdout",
     "output_type": "stream",
     "text": [
      "[0.0, 0.0, 0.0, 0.0, 0.0, 0.0, 0.0, 0.0, 62.0, 283.0, 500.0, 676.0, 811.0, 888.0, 883.0, 819.0, 695.0, 518.0, 301.0, 72.0, 0.0, 0.0, 0.0, 0.0, 0.0]\n"
     ]
    }
   ],
   "source": [
    "#Air Temp CRN:\n",
    "with open('CRNH0203-2022-MS_Newton_5_ENE.txt') as f:\n",
    "    lst=[line.split()[13] for line in f]\n",
    "    #print(lst)\n",
    "    temp_crn_new3=[]\n",
    "    for i in lst:\n",
    "        new=i.replace(',',\"\")\n",
    "        temp_crn_new3.append(new)\n",
    "    temp_crn_new3=[float(x) for x in temp_crn_new3]\n",
    "    temp_crn_new3=temp_crn_new3[1876:1901]\n",
    "    print(temp_crn_new3)\n",
    "    #print(len(temp_crn))\n",
    "    # print(temp_crn[2124])"
   ]
  },
  {
   "cell_type": "code",
   "execution_count": 356,
   "id": "9f44baa8",
   "metadata": {},
   "outputs": [],
   "source": [
    "# difference3_new = []\n",
    "\n",
    "# zip_object = zip(temp, temp_crn)\n",
    "# for temp_i, temp_crn_i in zip_object:\n",
    "#     difference3_new.append(temp_i-temp_crn_i)\n",
    "\n",
    "# print(difference3_new)"
   ]
  },
  {
   "cell_type": "markdown",
   "id": "538036ab",
   "metadata": {},
   "source": [
    "<font size=\"3\">Gainesville, AL: 0600 UTC (12:00 am CST) 01 March 2022-0600 UTC (12:00 am CST) 02 March 2022</font>"
   ]
  },
  {
   "cell_type": "code",
   "execution_count": 357,
   "id": "24a63117",
   "metadata": {},
   "outputs": [],
   "source": [
    "# #1 hr hrrr:\n",
    "# with open('hrrr_f01_Gainesville_AL.txt') as f:\n",
    "#     lst=[line.split()[3] for line in f]\n",
    "#     temp=[]\n",
    "#     for i in lst:\n",
    "#         new=i.replace(',',\"\")\n",
    "#         temp.append(new)\n",
    "#     temp.pop(0)\n",
    "#     temp=[float(x) for x in temp]\n",
    "#     temp=temp[1876:1901]\n",
    "#     #temp=temp[2015:2063]\n",
    "#     print(temp)\n",
    "#     #print(len(temp))\n",
    "# #full time period is [2015:2112]"
   ]
  },
  {
   "cell_type": "code",
   "execution_count": 358,
   "id": "232e137f",
   "metadata": {},
   "outputs": [],
   "source": [
    "# #Air Temp CRN:\n",
    "# with open('CRNH0203-2022-AL_Gainesville_2_NE.txt') as f:\n",
    "#     lst=[line.split()[13] for line in f]\n",
    "#     #print(lst)\n",
    "#     temp_crn=[]\n",
    "#     for i in lst:\n",
    "#         new=i.replace(',',\"\")\n",
    "#         temp_crn.append(new)\n",
    "#     temp_crn=[float(x) for x in temp_crn]\n",
    "#     temp_crn=temp_crn[1876:1901]\n",
    "#     print(temp_crn)\n",
    "#     #print(len(temp_crn))\n",
    "#     # print(temp_crn[2124])"
   ]
  },
  {
   "cell_type": "code",
   "execution_count": 359,
   "id": "b6c8652b",
   "metadata": {},
   "outputs": [],
   "source": [
    "# difference3_gai = []\n",
    "\n",
    "# zip_object = zip(temp, temp_crn)\n",
    "# for temp_i, temp_crn_i in zip_object:\n",
    "#     difference3_gai.append(temp_i-temp_crn_i)\n",
    "\n",
    "# print(difference3_gai)"
   ]
  },
  {
   "cell_type": "markdown",
   "id": "bec1bd8b",
   "metadata": {},
   "source": [
    "<font size=\"3\">Fairhope, AL: 0600 UTC (12:00 am CST) 01 March 2022-0600 UTC (12:00 am CST) 02 March 2022</font>"
   ]
  },
  {
   "cell_type": "code",
   "execution_count": 361,
   "id": "1d46687a",
   "metadata": {},
   "outputs": [
    {
     "name": "stdout",
     "output_type": "stream",
     "text": [
      "[0.0, 0.0, 0.0, 0.0, 0.0, 0.0, 0.0, 0.0, 191.1, 433.0, 653.8, 821.7, 927.3, 965.0, 927.0, 817.0, 646.8, 428.5, 183.8, 0.0, 0.0, 0.0, 0.0, 0.0, 0.0]\n"
     ]
    }
   ],
   "source": [
    "#1 hr hrrr:\n",
    "with open('hrrr_f01_Fairhope_AL.txt') as f:\n",
    "    lst=[line.split()[3] for line in f]\n",
    "    temp_fai3=[]\n",
    "    for i in lst:\n",
    "        new=i.replace(',',\"\")\n",
    "        temp_fai3.append(new)\n",
    "    temp_fai3.pop(0)\n",
    "    temp_fai3=[float(x) for x in temp_fai3]\n",
    "    temp_fai3=temp_fai3[1876:1901]\n",
    "    #temp=temp[2015:2063]\n",
    "    print(temp_fai3)\n",
    "    #print(len(temp))\n",
    "#full time period is [2015:2112]"
   ]
  },
  {
   "cell_type": "code",
   "execution_count": 362,
   "id": "eeba1f0c",
   "metadata": {},
   "outputs": [
    {
     "name": "stdout",
     "output_type": "stream",
     "text": [
      "[0.0, 0.0, 0.0, 0.0, 0.0, 0.0, 0.0, 0.0, 95.0, 303.0, 522.0, 705.0, 832.0, 896.0, 899.0, 831.0, 699.0, 516.0, 299.0, 77.0, 0.0, 0.0, 0.0, 0.0, 0.0]\n"
     ]
    }
   ],
   "source": [
    "#Air Temp CRN:\n",
    "with open('CRNH0203-2022-AL_Fairhope_3_NE.txt') as f:\n",
    "    lst=[line.split()[13] for line in f]\n",
    "    #print(lst)\n",
    "    temp_crn_fai3=[]\n",
    "    for i in lst:\n",
    "        new=i.replace(',',\"\")\n",
    "        temp_crn_fai3.append(new)\n",
    "    temp_crn_fai3=[float(x) for x in temp_crn_fai3]\n",
    "    temp_crn_fai3=temp_crn_fai3[1876:1901]\n",
    "    print(temp_crn_fai3)\n",
    "    #print(len(temp_crn))\n",
    "    # print(temp_crn[2124])"
   ]
  },
  {
   "cell_type": "code",
   "execution_count": 363,
   "id": "e5202245",
   "metadata": {},
   "outputs": [],
   "source": [
    "# difference3_fai = []\n",
    "\n",
    "# zip_object = zip(temp, temp_crn)\n",
    "# for temp_i, temp_crn_i in zip_object:\n",
    "#     difference3_fai.append(temp_i-temp_crn_i)\n",
    "\n",
    "# print(difference3_fai)"
   ]
  },
  {
   "cell_type": "markdown",
   "id": "5450f80c",
   "metadata": {},
   "source": [
    "<font size=\"3\">**Selma, AL: 0600 UTC (12:00 am CST) 01 March 2022-0600 UTC (12:00 am CST) 02 March 2022</font>"
   ]
  },
  {
   "cell_type": "code",
   "execution_count": 364,
   "id": "168fefba",
   "metadata": {},
   "outputs": [
    {
     "name": "stdout",
     "output_type": "stream",
     "text": [
      "[0.0, 0.0, 0.0, 0.0, 0.0, 0.0, 0.0, 0.0, 192.0, 418.6, 630.0, 790.9, 894.0, 931.0, 894.0, 784.0, 612.3, 398.1, 167.4, 0.0, 0.0, 0.0, 0.0, 0.0, 0.0]\n",
      "[0.0, 0.0, 0.0, 0.0, 0.0, 0.0, 0.0, 0.0, 96.0, 308.0, 518.0, 693.0, 808.0, 863.0, 814.0, 778.0, 646.0, 463.0, 242.0, 49.0, 0.0, 0.0, 0.0, 0.0, 0.0]\n"
     ]
    }
   ],
   "source": [
    "#1 hr hrrr:\n",
    "import numpy as np\n",
    "import numpy.ma as ma\n",
    "with open('hrrr_f01_Selma_AL.txt') as f:\n",
    "    lst=[line.split()[3] for line in f]\n",
    "    temp_sel3=[]\n",
    "    for i in lst:\n",
    "        new=i.replace(',',\"\")\n",
    "        temp_sel3.append(new)\n",
    "    temp_sel3.pop(0)\n",
    "    temp_sel3=[float(x) for x in temp_sel3]\n",
    "    temp_sel3=temp_sel3[1876:1901]\n",
    "\n",
    "#     x = np.array(temp)\n",
    "#     temp = ma.masked_array(x, mask=[0, 0, 0, 0, 0,0,0,0,0,0,0,0,0,0,0,0,0,1,1,1,1,0,0,0,0])\n",
    "    #print(temp)\n",
    "#Air Temp CRN:\n",
    "with open('CRNH0203-2022-AL_Selma_13_WNW.txt') as f:\n",
    "    lst=[line.split()[13] for line in f]\n",
    "    #print(lst)\n",
    "    temp_crn_sel3=[]\n",
    "    for i in lst:\n",
    "        new=i.replace(',',\"\")\n",
    "        temp_crn_sel3.append(new)\n",
    "    temp_crn_sel3=[float(x) for x in temp_crn_sel3]\n",
    "    temp_crn_sel3=temp_crn_sel3[1876:1901]\n",
    "#     y = np.array(temp_crn)\n",
    "#     temp_crn = ma.masked_array(y, mask=[0, 0, 0, 0, 0,0,0,0,0,0,0,0,0,0,0,0,0,1,1,1,1,0,0,0,0])\n",
    "    print(temp_sel3)\n",
    "    #print(len(temp))\n",
    "    print(temp_crn_sel3)\n",
    "    #print(len(temp_crn))\n",
    "#full time period is [2015:2112]\n",
    "# difference3_sel = []\n",
    "\n",
    "# zip_object = zip(temp, temp_crn)\n",
    "# for temp_i, temp_crn_i in zip_object:\n",
    "#     difference3_sel.append(temp_i-temp_crn_i)\n",
    "\n",
    "# print(difference3_sel)\n",
    "# print(len(difference3_sel))"
   ]
  },
  {
   "cell_type": "markdown",
   "id": "d837cb2c",
   "metadata": {},
   "source": [
    "<font size=\"3\">Bowling Green, KY: 0600 UTC (12:00 am CST) 01 March 2022-0600 UTC (12:00 am CST) 02 March 2022</font>"
   ]
  },
  {
   "cell_type": "code",
   "execution_count": 365,
   "id": "4d2fd05e",
   "metadata": {},
   "outputs": [
    {
     "name": "stdout",
     "output_type": "stream",
     "text": [
      "[0.0, 0.0, 0.0, 0.0, 0.0, 0.0, 0.0, 0.0, 187.1, 404.7, 596.0, 749.0, 839.7, 867.0, 826.0, 720.0, 558.5, 356.8, 141.3, 0.0, 0.0, 0.0, 0.0, 0.0, 0.0]\n"
     ]
    }
   ],
   "source": [
    "#1 hr hrrr:\n",
    "with open('hrrr_f01_Bowling Green_KY.txt') as f:\n",
    "    lst=[line.split()[3] for line in f]\n",
    "    temp_bow3=[]\n",
    "    for i in lst:\n",
    "        new=i.replace(',',\"\")\n",
    "        temp_bow3.append(new)\n",
    "    temp_bow3.pop(0)\n",
    "    temp_bow3=[float(x) for x in temp_bow3]\n",
    "    temp_bow3=temp_bow3[1876:1901]\n",
    "    #temp=temp[2015:2063]\n",
    "    print(temp_bow3)\n",
    "    #print(len(temp))\n",
    "#full time period is [2015:2112]"
   ]
  },
  {
   "cell_type": "code",
   "execution_count": 366,
   "id": "4ca69144",
   "metadata": {},
   "outputs": [
    {
     "name": "stdout",
     "output_type": "stream",
     "text": [
      "[0.0, 0.0, 0.0, 0.0, 0.0, 0.0, 0.0, 0.0, 59.0, 272.0, 467.0, 629.0, 746.0, 804.0, 794.0, 720.0, 590.0, 419.0, 222.0, 34.0, 0.0, 0.0, 0.0, 0.0, 0.0]\n"
     ]
    }
   ],
   "source": [
    "#Air Temp CRN:\n",
    "with open('CRNH0203-2022-KY_Bowling_Green_21_NNE.txt') as f:\n",
    "    lst=[line.split()[13] for line in f]\n",
    "    #print(lst)\n",
    "    temp_crn_bow3=[]\n",
    "    for i in lst:\n",
    "        new=i.replace(',',\"\")\n",
    "        temp_crn_bow3.append(new)\n",
    "    temp_crn_bow3=[float(x) for x in temp_crn_bow3]\n",
    "    temp_crn_bow3=temp_crn_bow3[1876:1901]\n",
    "    print(temp_crn_bow3)\n",
    "    #print(len(temp_crn))\n",
    "    # print(temp_crn[2124])"
   ]
  },
  {
   "cell_type": "code",
   "execution_count": 367,
   "id": "c1e44909",
   "metadata": {},
   "outputs": [],
   "source": [
    "# difference3_bow = []\n",
    "\n",
    "# zip_object = zip(temp, temp_crn)\n",
    "# for temp_i, temp_crn_i in zip_object:\n",
    "#     difference3_bow.append(temp_i-temp_crn_i)\n",
    "\n",
    "# print(difference3_bow)"
   ]
  },
  {
   "cell_type": "markdown",
   "id": "21c9a287",
   "metadata": {},
   "source": [
    "<font size=\"3\">Gadsden, AL: 0600 UTC (12:00 am CST) 01 March 2022-0600 UTC (12:00 am CST) 02 March 2022</font>"
   ]
  },
  {
   "cell_type": "code",
   "execution_count": 368,
   "id": "77a1ef95",
   "metadata": {},
   "outputs": [
    {
     "name": "stdout",
     "output_type": "stream",
     "text": [
      "[0.0, 0.0, 0.0, 0.0, 0.0, 0.0, 0.0, 0.0, 205.1, 431.4, 640.4, 799.6, 896.1, 925.0, 879.0, 765.0, 593.8, 380.8, 151.7, 0.0, 0.0, 0.0, 0.0, 0.0, 0.0]\n"
     ]
    }
   ],
   "source": [
    "#1 hr hrrr:\n",
    "with open('hrrr_f01_Gadsden_AL.txt') as f:\n",
    "    lst=[line.split()[3] for line in f]\n",
    "    temp_gad3=[]\n",
    "    for i in lst:\n",
    "        new=i.replace(',',\"\")\n",
    "        temp_gad3.append(new)\n",
    "    temp_gad3.pop(0)\n",
    "    temp_gad3=[float(x) for x in temp_gad3]\n",
    "    temp_gad3=temp_gad3[1876:1901]\n",
    "#     x = np.array(temp)\n",
    "#     temp = ma.masked_array(x, mask=[0, 0, 0, 0, 0,0,0,0,1,0,0,0,0,0,0,0,0,0,0,0,0,0,0,0,0])\n",
    "    #temp=temp[2015:2063]\n",
    "    print(temp_gad3)\n",
    "    #print(len(temp))\n",
    "#full time period is [2015:2112]"
   ]
  },
  {
   "cell_type": "code",
   "execution_count": 369,
   "id": "c8b40ab0",
   "metadata": {},
   "outputs": [
    {
     "name": "stdout",
     "output_type": "stream",
     "text": [
      "[0.0, 0.0, 0.0, 0.0, 0.0, 0.0, 0.0, 1.0, 108.0, 275.0, 527.0, 698.0, 820.0, 877.0, 863.0, 789.0, 652.0, 462.0, 243.0, 48.0, 0.0, 0.0, 0.0, 0.0, 0.0]\n"
     ]
    }
   ],
   "source": [
    "#Air Temp CRN:\n",
    "with open('CRNH0203-2022-AL_Gadsden_19_N.txt') as f:\n",
    "    lst=[line.split()[13] for line in f]\n",
    "    #print(lst)\n",
    "    temp_crn_gad3=[]\n",
    "    for i in lst:\n",
    "        new=i.replace(',',\"\")\n",
    "        temp_crn_gad3.append(new)\n",
    "    temp_crn_gad3=[float(x) for x in temp_crn_gad3]\n",
    "    temp_crn_gad3=temp_crn_gad3[1876:1901]\n",
    "#     y = np.array(temp_crn)\n",
    "#     temp_crn = ma.masked_array(y, mask=[0, 0, 0, 0, 0,0,0,0,1,0,0,0,0,0,0,0,0,0,0,0,0,0,0,0,0])\n",
    "    print(temp_crn_gad3)\n",
    "    #print(len(temp_crn))\n",
    "    # print(temp_crn[2124])"
   ]
  },
  {
   "cell_type": "code",
   "execution_count": 370,
   "id": "cf4acb88",
   "metadata": {},
   "outputs": [],
   "source": [
    "# difference3_gad = []\n",
    "\n",
    "# zip_object = zip(temp, temp_crn)\n",
    "# for temp_i, temp_crn_i in zip_object:\n",
    "#     difference3_gad.append(temp_i-temp_crn_i)\n",
    "\n",
    "# print(difference3_gad)"
   ]
  },
  {
   "cell_type": "markdown",
   "id": "93b56dfb",
   "metadata": {},
   "source": [
    "<font size=\"3\">Newton, GA: 0600 UTC (12:00 am CST) 01 March 2022-0600 UTC (12:00 am CST) 02 March 2022</font>"
   ]
  },
  {
   "cell_type": "code",
   "execution_count": 371,
   "id": "53a55c7c",
   "metadata": {},
   "outputs": [
    {
     "name": "stdout",
     "output_type": "stream",
     "text": [
      "[0.0, 0.0, 0.0, 0.0, 0.0, 0.0, 0.0, 0.0, 243.3, 482.2, 692.5, 848.5, 939.4, 960.0, 904.0, 779.0, 595.7, 371.1, 133.5, 0.0, 0.0, 0.0, 0.0, 0.0, 0.0]\n"
     ]
    }
   ],
   "source": [
    "#1 hr hrrr:\n",
    "with open('hrrr_f01_Newton_GA.txt') as f:\n",
    "    lst=[line.split()[3] for line in f]\n",
    "    temp_newt3=[]\n",
    "    for i in lst:\n",
    "        new=i.replace(',',\"\")\n",
    "        temp_newt3.append(new)\n",
    "    temp_newt3.pop(0)\n",
    "    temp_newt3=[float(x) for x in temp_newt3]\n",
    "    temp_newt3=temp_newt3[1876:1901]\n",
    "    #temp=temp[2015:2063]\n",
    "    print(temp_newt3)\n",
    "    #print(len(temp))\n",
    "#full time period is [2015:2112]"
   ]
  },
  {
   "cell_type": "code",
   "execution_count": 372,
   "id": "763b13be",
   "metadata": {},
   "outputs": [
    {
     "name": "stdout",
     "output_type": "stream",
     "text": [
      "[0.0, 0.0, 0.0, 0.0, 0.0, 0.0, 0.0, 0.0, 5.0, 128.0, 337.0, 538.0, 701.0, 812.0, 861.0, 848.0, 746.0, 617.0, 430.0, 219.0, 41.0, 0.0, 0.0, 0.0, 0.0]\n"
     ]
    }
   ],
   "source": [
    "#Air Temp CRN:\n",
    "with open('CRNH0203-2022-GA_Newton_11_SW.txt') as f:\n",
    "    lst=[line.split()[13] for line in f]\n",
    "    #print(lst)\n",
    "    temp_crn_newt3=[]\n",
    "    for i in lst:\n",
    "        new=i.replace(',',\"\")\n",
    "        temp_crn_newt3.append(new)\n",
    "    temp_crn_newt3=[float(x) for x in temp_crn_newt3]\n",
    "    temp_crn_newt3=temp_crn_newt3[1875:1900]\n",
    "    print(temp_crn_newt3)\n",
    "    #print(len(temp_crn))\n",
    "    # print(temp_crn[2124])"
   ]
  },
  {
   "cell_type": "code",
   "execution_count": 373,
   "id": "b71c6000",
   "metadata": {},
   "outputs": [],
   "source": [
    "# difference3_newt = []\n",
    "\n",
    "# zip_object = zip(temp, temp_crn)\n",
    "# for temp_i, temp_crn_i in zip_object:\n",
    "#     difference3_newt.append(temp_i-temp_crn_i)\n",
    "\n",
    "# print(difference3_newt)"
   ]
  },
  {
   "cell_type": "markdown",
   "id": "e079df5d",
   "metadata": {},
   "source": [
    "<font size=\"3\">Salem, MO: 0500 UTC (12:00 am CDT) 03 April 2022-0500 UTC (12:00 am CDT) 04 April 2022</font>"
   ]
  },
  {
   "cell_type": "code",
   "execution_count": 376,
   "id": "2bda3233",
   "metadata": {},
   "outputs": [
    {
     "name": "stdout",
     "output_type": "stream",
     "text": [
      "[0.0, 0.0, 0.0, 0.0, 0.0, 0.0, 0.0, 0.0, 180.2, 399.2, 599.5, 760.8, 866.0, 910.0, 889.0, 801.0, 655.0, 461.0, 223.0, 62.7, 0.0, 0.0, 0.0, 0.0, 0.0]\n"
     ]
    }
   ],
   "source": [
    "#1 hr hrrr:\n",
    "with open('hrrr_f01_Salem_MO.txt') as f:\n",
    "    lst=[line.split()[3] for line in f]\n",
    "    temp_sal4=[]\n",
    "    for i in lst:\n",
    "        new=i.replace(',',\"\")\n",
    "        temp_sal4.append(new)\n",
    "    temp_sal4.pop(0)\n",
    "    temp_sal4=[float(x) for x in temp_sal4]\n",
    "    temp_sal4=temp_sal4[2212:2237]\n",
    "    #temp=temp[2015:2063]\n",
    "    print(temp_sal4)\n",
    "\n",
    "#full time period is [2015:2112]"
   ]
  },
  {
   "cell_type": "code",
   "execution_count": 377,
   "id": "a53cfdd6",
   "metadata": {},
   "outputs": [
    {
     "name": "stdout",
     "output_type": "stream",
     "text": [
      "[0.0, 0.0, 0.0, 0.0, 0.0, 0.0, 0.0, 0.0, 98.0, 292.0, 500.0, 676.0, 794.0, 873.0, 854.0, 675.0, 679.0, 481.0, 233.0, 53.0, 0.0, 0.0, 0.0, 0.0, 0.0]\n"
     ]
    }
   ],
   "source": [
    "#Air Temp CRN:\n",
    "with open('CRNH0203-2022-MO_Salem_10_W.txt') as f:\n",
    "    lst=[line.split()[13] for line in f]\n",
    "    #print(lst)\n",
    "    temp_crn_sal4=[]\n",
    "    for i in lst:\n",
    "        new=i.replace(',',\"\")\n",
    "        temp_crn_sal4.append(new)\n",
    "    temp_crn_sal4=[float(x) for x in temp_crn_sal4]\n",
    "    temp_crn_sal4=temp_crn_sal4[2212:2237]\n",
    "    print(temp_crn_sal4)\n",
    "    # print(temp_crn[2124])"
   ]
  },
  {
   "cell_type": "code",
   "execution_count": 378,
   "id": "2f3aad80",
   "metadata": {},
   "outputs": [],
   "source": [
    "# difference4_sal = []\n",
    "\n",
    "# zip_object = zip(temp, temp_crn)\n",
    "# for temp_i, temp_crn_i in zip_object:\n",
    "#     difference4_sal.append(temp_i-temp_crn_i)\n",
    "\n",
    "# print(difference4_sal)"
   ]
  },
  {
   "cell_type": "markdown",
   "id": "f30e9b3b",
   "metadata": {},
   "source": [
    "<font size=\"3\">Batesville, AR: 0600 UTC (12:00 am CST) 01 March 2022-0600 UTC (12:00 am CST) 02 March 2022</font>"
   ]
  },
  {
   "cell_type": "code",
   "execution_count": 379,
   "id": "ea25905e",
   "metadata": {},
   "outputs": [
    {
     "name": "stdout",
     "output_type": "stream",
     "text": [
      "[0.0, 0.0, 0.0, 0.0, 0.0, 0.0, 0.0, 0.0, 154.6, 369.5, 570.8, 746.7, 866.0, 910.0, 893.0, 805.0, 658.0, 466.1, 245.8, 46.7, 0.0, 0.0, 0.0, 0.0, 0.0]\n"
     ]
    }
   ],
   "source": [
    "#1 hr hrrr:\n",
    "with open('hrrr_f01_Batesville_AR.txt') as f:\n",
    "    lst=[line.split()[3] for line in f]\n",
    "    temp_bat4=[]\n",
    "    for i in lst:\n",
    "        new=i.replace(',',\"\")\n",
    "        temp_bat4.append(new)\n",
    "    temp_bat4.pop(0)\n",
    "    temp_bat4=[float(x) for x in temp_bat4]\n",
    "    temp_bat4=temp_bat4[2212:2237]\n",
    "#     x = np.array(temp)\n",
    "#     temp = ma.masked_array(x, mask=[0, 0, 0, 0, 0,0,0,0,0,0,0,0,0,0,0,0,0,0,0,0,0,1,0,0,0])\n",
    "    #temp=temp[2015:2063]\n",
    "    print(temp_bat4)\n",
    "#full time period is [2015:2112]"
   ]
  },
  {
   "cell_type": "code",
   "execution_count": 380,
   "id": "9689d5bd",
   "metadata": {},
   "outputs": [
    {
     "name": "stdout",
     "output_type": "stream",
     "text": [
      "[0.0, 0.0, 0.0, 0.0, 0.0, 0.0, 0.0, 0.0, 87.0, 286.0, 501.0, 685.0, 818.0, 893.0, 911.0, 856.0, 738.0, 479.0, 320.0, 105.0, 6.0, 0.0, 0.0, 0.0, 0.0]\n"
     ]
    }
   ],
   "source": [
    "#Air Temp CRN:\n",
    "with open('CRNH0203-2022-AR_Batesville_8_WNW.txt') as f:\n",
    "    lst=[line.split()[13] for line in f]\n",
    "    #print(lst)\n",
    "    temp_crn_bat4=[]\n",
    "    for i in lst:\n",
    "        new=i.replace(',',\"\")\n",
    "        temp_crn_bat4.append(new)\n",
    "    temp_crn_bat4=[float(x) for x in temp_crn_bat4]\n",
    "    temp_crn_bat4=temp_crn_bat4[2212:2237]\n",
    "#     y = np.array(temp_crn)\n",
    "#     temp_crn = ma.masked_array(y, mask=[0, 0, 0, 0, 0,0,0,0,0,0,0,0,0,0,0,0,0,0,0,0,0,1,0,0,0])\n",
    "    print(temp_crn_bat4)\n",
    "    #print(len(temp_crn))\n",
    "    # print(temp_crn[2124])"
   ]
  },
  {
   "cell_type": "code",
   "execution_count": 381,
   "id": "32d53f73",
   "metadata": {},
   "outputs": [],
   "source": [
    "# difference4_bat = []\n",
    "\n",
    "# zip_object = zip(temp, temp_crn)\n",
    "# for temp_i, temp_crn_i in zip_object:\n",
    "#     difference4_bat.append(temp_i-temp_crn_i)\n",
    "\n",
    "# print(difference4_bat)"
   ]
  },
  {
   "cell_type": "markdown",
   "id": "2869b9dc",
   "metadata": {},
   "source": [
    "<font size=\"3\">Lafayette, LA: 0600 UTC (12:00 am CST) 01 March 2022-0600 UTC (12:00 am CST) 02 March 2022</font>"
   ]
  },
  {
   "cell_type": "code",
   "execution_count": 382,
   "id": "fd2670e5",
   "metadata": {},
   "outputs": [
    {
     "name": "stdout",
     "output_type": "stream",
     "text": [
      "[0.0, 0.0, 0.0, 0.0, 0.0, 0.0, 0.0, 0.0, 178.6, 414.1, 633.9, 811.9, 931.0, 979.0, 951.0, 860.0, 703.0, 499.9, 269.3, 51.0, 0.0, 0.0, 0.0, 0.0, 0.0]\n"
     ]
    }
   ],
   "source": [
    "#1 hr hrrr:\n",
    "with open('hrrr_f01_Lafayette_LA.txt') as f:\n",
    "    lst=[line.split()[3] for line in f]\n",
    "    temp_laf4=[]\n",
    "    for i in lst:\n",
    "        new=i.replace(',',\"\")\n",
    "        temp_laf4.append(new)\n",
    "    temp_laf4.pop(0)\n",
    "    temp_laf4=[float(x) for x in temp_laf4]\n",
    "    temp_laf4=temp_laf4[2212:2237]\n",
    "    #temp=temp[2015:2063]\n",
    "    print(temp_laf4)\n",
    "    #print(len(temp))\n",
    "#full time period is [2015:2112]"
   ]
  },
  {
   "cell_type": "code",
   "execution_count": 384,
   "id": "f39411d5",
   "metadata": {},
   "outputs": [
    {
     "name": "stdout",
     "output_type": "stream",
     "text": [
      "[0.0, 0.0, 0.0, 0.0, 0.0, 0.0, 0.0, 0.0, 84.0, 292.0, 499.0, 680.0, 817.0, 892.0, 905.0, 850.0, 737.0, 569.0, 361.0, 143.0, 7.0, 0.0, 0.0, 0.0, 0.0]\n"
     ]
    }
   ],
   "source": [
    "#Air Temp CRN:\n",
    "with open('CRNH0203-2022-LA_Lafayette_13_SE.txt') as f:\n",
    "    lst=[line.split()[13] for line in f]\n",
    "    #print(lst)\n",
    "    temp_crn_laf4=[]\n",
    "    for i in lst:\n",
    "        new=i.replace(',',\"\")\n",
    "        temp_crn_laf4.append(new)\n",
    "    temp_crn_laf4=[float(x) for x in temp_crn_laf4]\n",
    "    temp_crn_laf4=temp_crn_laf4[2212:2237]\n",
    "    print(temp_crn_laf4)\n",
    "    #print(len(temp_crn))\n",
    "    # print(temp_crn[2124])"
   ]
  },
  {
   "cell_type": "code",
   "execution_count": 385,
   "id": "c02f8d98",
   "metadata": {},
   "outputs": [],
   "source": [
    "# difference4_laf = []\n",
    "\n",
    "# zip_object = zip(temp, temp_crn)\n",
    "# for temp_i, temp_crn_i in zip_object:\n",
    "#     difference4_laf.append(temp_i-temp_crn_i)\n",
    "\n",
    "# print(difference4_laf)"
   ]
  },
  {
   "cell_type": "markdown",
   "id": "ab48fc12",
   "metadata": {},
   "source": [
    "<font size=\"3\">Monroe, LA: 0600 UTC (12:00 am CST) 01 March 2022-0600 UTC (12:00 am CST) 02 March 2022</font>"
   ]
  },
  {
   "cell_type": "code",
   "execution_count": 386,
   "id": "b61707d0",
   "metadata": {},
   "outputs": [
    {
     "name": "stdout",
     "output_type": "stream",
     "text": [
      "[0.0, 0.0, 0.0, 0.0, 0.0, 0.0, 0.0, 0.0, 169.0, 395.1, 613.4, 781.9, 896.0, 944.0, 919.0, 829.0, 677.0, 483.5, 267.5, 55.7, 0.0, 0.0, 0.0, 0.0, 0.0]\n"
     ]
    }
   ],
   "source": [
    "#1 hr hrrr:\n",
    "with open('hrrr_f01_Monroe_LA.txt') as f:\n",
    "    lst=[line.split()[3] for line in f]\n",
    "    temp_mon4=[]\n",
    "    for i in lst:\n",
    "        new=i.replace(',',\"\")\n",
    "        temp_mon4.append(new)\n",
    "    temp_mon4.pop(0)\n",
    "    temp_mon4=[float(x) for x in temp_mon4]\n",
    "    temp_mon4=temp_mon4[2212:2237]\n",
    "    #temp=temp[2015:2063]\n",
    "    print(temp_mon4)\n",
    "    #print(len(temp))\n",
    "#full time period is [2015:2112]"
   ]
  },
  {
   "cell_type": "code",
   "execution_count": 387,
   "id": "266c22d9",
   "metadata": {},
   "outputs": [
    {
     "name": "stdout",
     "output_type": "stream",
     "text": [
      "[0.0, 0.0, 0.0, 0.0, 0.0, 0.0, 0.0, 1.0, 48.0, 277.0, 495.0, 685.0, 820.0, 896.0, 907.0, 850.0, 728.0, 554.0, 175.0, 23.0, 4.0, 0.0, 0.0, 0.0, 0.0]\n"
     ]
    }
   ],
   "source": [
    "#Air Temp CRN:\n",
    "with open('CRNH0203-2022-LA_Monroe_26_N.txt') as f:\n",
    "    lst=[line.split()[13] for line in f]\n",
    "    #print(lst)\n",
    "    temp_crn_mon4=[]\n",
    "    for i in lst:\n",
    "        new=i.replace(',',\"\")\n",
    "        temp_crn_mon4.append(new)\n",
    "    temp_crn_mon4=[float(x) for x in temp_crn_mon4]\n",
    "    temp_crn_mon4=temp_crn_mon4[2212:2237]\n",
    "    print(temp_crn_mon4)\n",
    "    #print(len(temp_crn))\n",
    "    # print(temp_crn[2124])"
   ]
  },
  {
   "cell_type": "code",
   "execution_count": 388,
   "id": "e8911bcb",
   "metadata": {},
   "outputs": [],
   "source": [
    "# difference4_mon = []\n",
    "\n",
    "# zip_object = zip(temp, temp_crn)\n",
    "# for temp_i, temp_crn_i in zip_object:\n",
    "#     difference4_mon.append(temp_i-temp_crn_i)\n",
    "\n",
    "# print(difference4_mon)"
   ]
  },
  {
   "cell_type": "markdown",
   "id": "dbfdd9c6",
   "metadata": {},
   "source": [
    "<font size=\"3\">Holly Springs, MS: 0600 UTC (12:00 am CST) 01 March 2022-0600 UTC (12:00 am CST) 02 March 2022</font>"
   ]
  },
  {
   "cell_type": "code",
   "execution_count": 389,
   "id": "055b4b13",
   "metadata": {},
   "outputs": [
    {
     "name": "stdout",
     "output_type": "stream",
     "text": [
      "[0.0, 0.0, 0.0, 0.0, 0.0, 0.0, 0.0, 0.0, 214.0, 444.1, 652.0, 815.8, 922.0, 958.0, 927.0, 824.0, 665.0, 459.8, 232.7, 29.3, 0.0, 0.0, 0.0, 0.0, 0.0]\n"
     ]
    }
   ],
   "source": [
    "#1 hr hrrr:\n",
    "with open('hrrr_f01_Holly Springs_MS.txt') as f:\n",
    "    lst=[line.split()[3] for line in f]\n",
    "    temp_hol4=[]\n",
    "    for i in lst:\n",
    "        new=i.replace(',',\"\")\n",
    "        temp_hol4.append(new)\n",
    "    temp_hol4.pop(0)\n",
    "    temp_hol4=[float(x) for x in temp_hol4]\n",
    "    temp_hol4=temp_hol4[2212:2237]\n",
    "    #temp=temp[2015:2063]\n",
    "    print(temp_hol4)\n",
    "    #print(len(temp))\n",
    "#full time period is [2015:2112]"
   ]
  },
  {
   "cell_type": "code",
   "execution_count": 390,
   "id": "b948e709",
   "metadata": {},
   "outputs": [
    {
     "name": "stdout",
     "output_type": "stream",
     "text": [
      "[0.0, 0.0, 0.0, 0.0, 0.0, 0.0, 0.0, 0.0, 135.0, 377.0, 592.0, 760.0, 871.0, 921.0, 906.0, 829.0, 694.0, 509.0, 292.0, 74.0, 0.0, 0.0, 0.0, 0.0, 0.0]\n"
     ]
    }
   ],
   "source": [
    "#Air Temp CRN:\n",
    "with open('CRNH0203-2022-MS_Holly_Springs_4_N.txt') as f:\n",
    "    lst=[line.split()[13] for line in f]\n",
    "    #print(lst)\n",
    "    temp_crn_hol4=[]\n",
    "    for i in lst:\n",
    "        new=i.replace(',',\"\")\n",
    "        temp_crn_hol4.append(new)\n",
    "    temp_crn_hol4=[float(x) for x in temp_crn_hol4]\n",
    "    temp_crn_hol4=temp_crn_hol4[2212:2237]\n",
    "    print(temp_crn_hol4)\n",
    "    #print(len(temp_crn))\n",
    "    # print(temp_crn[2124])"
   ]
  },
  {
   "cell_type": "code",
   "execution_count": 391,
   "id": "6836c3bb",
   "metadata": {},
   "outputs": [],
   "source": [
    "# difference4_hol = []\n",
    "\n",
    "# zip_object = zip(temp, temp_crn)\n",
    "# for temp_i, temp_crn_i in zip_object:\n",
    "#     difference4_hol.append(temp_i-temp_crn_i)\n",
    "\n",
    "# print(difference4_hol)"
   ]
  },
  {
   "cell_type": "markdown",
   "id": "9c7354c6",
   "metadata": {},
   "source": [
    "<font size=\"3\">Newton, MS: 0600 UTC (12:00 am CST) 01 March 2022-0600 UTC (12:00 am CST) 02 March 2022</font>"
   ]
  },
  {
   "cell_type": "code",
   "execution_count": 392,
   "id": "93316a90",
   "metadata": {},
   "outputs": [
    {
     "name": "stdout",
     "output_type": "stream",
     "text": [
      "[0.0, 0.0, 0.0, 0.0, 0.0, 0.0, 0.0, 0.0, 220.1, 452.3, 663.8, 826.4, 926.0, 953.0, 913.0, 806.0, 643.0, 438.0, 214.4, 21.3, 0.0, 0.0, 0.0, 0.0, 0.0]\n"
     ]
    }
   ],
   "source": [
    "#1 hr hrrr:\n",
    "with open('hrrr_f01_Newton_MS.txt') as f:\n",
    "    lst=[line.split()[3] for line in f]\n",
    "    temp_new4=[]\n",
    "    for i in lst:\n",
    "        new=i.replace(',',\"\")\n",
    "        temp_new4.append(new)\n",
    "    temp_new4.pop(0)\n",
    "    temp_new4=[float(x) for x in temp_new4]\n",
    "    temp_new4=temp_new4[2212:2237]\n",
    "    #temp=temp[2015:2063]\n",
    "    print(temp_new4)\n",
    "    #print(len(temp))\n",
    "#full time period is [2015:2112]"
   ]
  },
  {
   "cell_type": "code",
   "execution_count": 393,
   "id": "3c16e336",
   "metadata": {},
   "outputs": [
    {
     "name": "stdout",
     "output_type": "stream",
     "text": [
      "[0.0, 0.0, 0.0, 0.0, 0.0, 0.0, 0.0, 0.0, 115.0, 342.0, 551.0, 725.0, 847.0, 911.0, 909.0, 846.0, 719.0, 544.0, 330.0, 114.0, 1.0, 0.0, 0.0, 0.0, 0.0]\n"
     ]
    }
   ],
   "source": [
    "#Air Temp CRN:\n",
    "with open('CRNH0203-2022-MS_Newton_5_ENE.txt') as f:\n",
    "    lst=[line.split()[13] for line in f]\n",
    "    #print(lst)\n",
    "    temp_crn_new4=[]\n",
    "    for i in lst:\n",
    "        new=i.replace(',',\"\")\n",
    "        temp_crn_new4.append(new)\n",
    "    temp_crn_new4=[float(x) for x in temp_crn_new4]\n",
    "    temp_crn_new4=temp_crn_new4[2212:2237]\n",
    "    print(temp_crn_new4)\n",
    "    #print(len(temp_crn))\n",
    "    # print(temp_crn[2124])"
   ]
  },
  {
   "cell_type": "code",
   "execution_count": 394,
   "id": "895bb872",
   "metadata": {},
   "outputs": [],
   "source": [
    "# difference4_new = []\n",
    "\n",
    "# zip_object = zip(temp, temp_crn)\n",
    "# for temp_i, temp_crn_i in zip_object:\n",
    "#     difference4_new.append(temp_i-temp_crn_i)\n",
    "\n",
    "# print(difference4_new)"
   ]
  },
  {
   "cell_type": "markdown",
   "id": "9e553db4",
   "metadata": {},
   "source": [
    "<font size=\"3\">Gainesville, AL: 0600 UTC (12:00 am CST) 01 March 2022-0600 UTC (12:00 am CST) 02 March 2022</font>"
   ]
  },
  {
   "cell_type": "code",
   "execution_count": 395,
   "id": "34bf4646",
   "metadata": {},
   "outputs": [],
   "source": [
    "# #1 hr hrrr:\n",
    "# with open('hrrr_f01_Gainesville_AL.txt') as f:\n",
    "#     lst=[line.split()[3] for line in f]\n",
    "#     temp=[]\n",
    "#     for i in lst:\n",
    "#         new=i.replace(',',\"\")\n",
    "#         temp.append(new)\n",
    "#     temp.pop(0)\n",
    "#     temp=[float(x) for x in temp]\n",
    "#     temp=temp[2212:2237]\n",
    "#     #temp=temp[2015:2063]\n",
    "#     print(temp)\n",
    "#     #print(len(temp))\n",
    "# #full time period is [2015:2112]"
   ]
  },
  {
   "cell_type": "code",
   "execution_count": 396,
   "id": "67168607",
   "metadata": {},
   "outputs": [],
   "source": [
    "# #Air Temp CRN:\n",
    "# with open('CRNH0203-2022-AL_Gainesville_2_NE.txt') as f:\n",
    "#     lst=[line.split()[13] for line in f]\n",
    "#     #print(lst)\n",
    "#     temp_crn=[]\n",
    "#     for i in lst:\n",
    "#         new=i.replace(',',\"\")\n",
    "#         temp_crn.append(new)\n",
    "#     temp_crn=[float(x) for x in temp_crn]\n",
    "#     temp_crn=temp_crn[2212:2237]\n",
    "#     print(temp_crn)\n",
    "#     #print(len(temp_crn))\n",
    "#     # print(temp_crn[2124])"
   ]
  },
  {
   "cell_type": "code",
   "execution_count": 397,
   "id": "4baf3368",
   "metadata": {},
   "outputs": [],
   "source": [
    "# difference4_gai = []\n",
    "\n",
    "# zip_object = zip(temp, temp_crn)\n",
    "# for temp_i, temp_crn_i in zip_object:\n",
    "#     difference4_gai.append(temp_i-temp_crn_i)\n",
    "\n",
    "# print(difference4_gai)"
   ]
  },
  {
   "cell_type": "markdown",
   "id": "7dcabe11",
   "metadata": {},
   "source": [
    "<font size=\"3\">Fairhope, AL: 0600 UTC (12:00 am CST) 01 March 2022-0600 UTC (12:00 am CST) 02 March 2022</font>"
   ]
  },
  {
   "cell_type": "code",
   "execution_count": 398,
   "id": "66bf707b",
   "metadata": {},
   "outputs": [
    {
     "name": "stdout",
     "output_type": "stream",
     "text": [
      "[0.0, 0.0, 0.0, 0.0, 0.0, 0.0, 0.0, 25.0, 241.5, 476.9, 684.4, 846.4, 944.0, 970.0, 929.0, 824.0, 661.0, 447.4, 211.4, 11.2, 0.0, 0.0, 0.0, 0.0, 0.0]\n"
     ]
    }
   ],
   "source": [
    "#1 hr hrrr:\n",
    "with open('hrrr_f01_Fairhope_AL.txt') as f:\n",
    "    lst=[line.split()[3] for line in f]\n",
    "    temp_fai4=[]\n",
    "    for i in lst:\n",
    "        new=i.replace(',',\"\")\n",
    "        temp_fai4.append(new)\n",
    "    temp_fai4.pop(0)\n",
    "    temp_fai4=[float(x) for x in temp_fai4]\n",
    "    temp_fai4=temp_fai4[2212:2237]\n",
    "    #temp=temp[2015:2063]\n",
    "    print(temp_fai4)\n",
    "    #print(len(temp))\n",
    "#full time period is [2015:2112]"
   ]
  },
  {
   "cell_type": "code",
   "execution_count": 399,
   "id": "53430b27",
   "metadata": {},
   "outputs": [
    {
     "name": "stdout",
     "output_type": "stream",
     "text": [
      "[0.0, 0.0, 0.0, 0.0, 0.0, 0.0, 0.0, 3.0, 118.0, 323.0, 538.0, 715.0, 842.0, 906.0, 907.0, 840.0, 709.0, 528.0, 316.0, 93.0, 0.0, 0.0, 0.0, 0.0, 0.0]\n"
     ]
    }
   ],
   "source": [
    "#Air Temp CRN:\n",
    "with open('CRNH0203-2022-AL_Fairhope_3_NE.txt') as f:\n",
    "    lst=[line.split()[13] for line in f]\n",
    "    #print(lst)\n",
    "    temp_crn_fai4=[]\n",
    "    for i in lst:\n",
    "        new=i.replace(',',\"\")\n",
    "        temp_crn_fai4.append(new)\n",
    "    temp_crn_fai4=[float(x) for x in temp_crn_fai4]\n",
    "    temp_crn_fai4=temp_crn_fai4[2212:2237]\n",
    "    print(temp_crn_fai4)\n",
    "    #print(len(temp_crn))\n",
    "    # print(temp_crn[2124])"
   ]
  },
  {
   "cell_type": "code",
   "execution_count": 400,
   "id": "320724ae",
   "metadata": {},
   "outputs": [],
   "source": [
    "# difference4_fai = []\n",
    "\n",
    "# zip_object = zip(temp, temp_crn)\n",
    "# for temp_i, temp_crn_i in zip_object:\n",
    "#     difference4_fai.append(temp_i-temp_crn_i)\n",
    "\n",
    "# print(difference4_fai)"
   ]
  },
  {
   "cell_type": "markdown",
   "id": "057898bf",
   "metadata": {},
   "source": [
    "<font size=\"3\">**Selma, AL: 0600 UTC (12:00 am CST) 01 March 2022-0600 UTC (12:00 am CST) 02 March 2022</font>"
   ]
  },
  {
   "cell_type": "code",
   "execution_count": 401,
   "id": "dd6c27fb",
   "metadata": {},
   "outputs": [
    {
     "name": "stdout",
     "output_type": "stream",
     "text": [
      "[0.0, 0.0, 0.0, 0.0, 0.0, 0.0, 0.0, 34.6, 255.9, 488.8, 688.4, 839.1, 936.0, 961.0, 914.0, 802.0, 636.0, 419.2, 193.1, 6.0, 0.0, 0.0, 0.0, 0.0, 0.0]\n",
      "[0.0, 0.0, 0.0, 0.0, 0.0, 0.0, 0.0, 4.0, 138.0, 360.0, 573.0, 738.0, 845.0, 890.0, 877.0, 808.0, 679.0, 499.0, 281.0, 42.0, 0.0, 0.0, 0.0, 0.0, 0.0]\n"
     ]
    }
   ],
   "source": [
    "#1 hr hrrr:\n",
    "import numpy as np\n",
    "import numpy.ma as ma\n",
    "with open('hrrr_f01_Selma_AL.txt') as f:\n",
    "    lst=[line.split()[3] for line in f]\n",
    "    temp_sel4=[]\n",
    "    for i in lst:\n",
    "        new=i.replace(',',\"\")\n",
    "        temp_sel4.append(new)\n",
    "    temp_sel4.pop(0)\n",
    "    temp_sel4=[float(x) for x in temp_sel4]\n",
    "    temp_sel4=temp_sel4[2212:2237]\n",
    "\n",
    "#     x = np.array(temp)\n",
    "#     temp = ma.masked_array(x, mask=[0, 0, 0, 0, 0,0,0,0,0,0,0,0,0,0,0,0,0,1,1,1,1,0,0,0,0])\n",
    "    #print(temp)\n",
    "#Air Temp CRN:\n",
    "with open('CRNH0203-2022-AL_Selma_13_WNW.txt') as f:\n",
    "    lst=[line.split()[13] for line in f]\n",
    "    #print(lst)\n",
    "    temp_crn_sel4=[]\n",
    "    for i in lst:\n",
    "        new=i.replace(',',\"\")\n",
    "        temp_crn_sel4.append(new)\n",
    "    temp_crn_sel4=[float(x) for x in temp_crn_sel4]\n",
    "    temp_crn_sel4=temp_crn_sel4[2212:2237]\n",
    "#     y = np.array(temp_crn)\n",
    "#     temp_crn = ma.masked_array(y, mask=[0, 0, 0, 0, 0,0,0,0,0,0,0,0,0,0,0,0,0,1,1,1,1,0,0,0,0])\n",
    "    print(temp_sel4)\n",
    "    #print(len(temp))\n",
    "    print(temp_crn_sel4)\n",
    "    #print(len(temp_crn))\n",
    "# #full time period is [2015:2112]\n",
    "# difference4_sel = []\n",
    "\n",
    "# zip_object = zip(temp, temp_crn)\n",
    "# for temp_i, temp_crn_i in zip_object:\n",
    "#     difference4_sel.append(temp_i-temp_crn_i)\n",
    "\n",
    "# print(difference4_sel)\n",
    "# #print(len(difference3_sel))"
   ]
  },
  {
   "cell_type": "markdown",
   "id": "cb37cdb6",
   "metadata": {},
   "source": [
    "<font size=\"3\">Bowling Green, KY: 0600 UTC (12:00 am CST) 01 March 2022-0600 UTC (12:00 am CST) 02 March 2022</font>"
   ]
  },
  {
   "cell_type": "code",
   "execution_count": 402,
   "id": "14e1ecd0",
   "metadata": {},
   "outputs": [
    {
     "name": "stdout",
     "output_type": "stream",
     "text": [
      "[0.0, 0.0, 0.0, 0.0, 0.0, 0.0, 0.0, 49.1, 264.1, 481.9, 674.0, 817.2, 901.0, 924.0, 875.0, 769.0, 608.0, 403.2, 182.5, 5.0, 0.0, 0.0, 0.0, 0.0, 0.0]\n"
     ]
    }
   ],
   "source": [
    "#1 hr hrrr:\n",
    "with open('hrrr_f01_Bowling Green_KY.txt') as f:\n",
    "    lst=[line.split()[3] for line in f]\n",
    "    temp_bow4=[]\n",
    "    for i in lst:\n",
    "        new=i.replace(',',\"\")\n",
    "        temp_bow4.append(new)\n",
    "    temp_bow4.pop(0)\n",
    "    temp_bow4=[float(x) for x in temp_bow4]\n",
    "    temp_bow4=temp_bow4[2212:2237]\n",
    "    #temp=temp[2015:2063]\n",
    "    print(temp_bow4)\n",
    "    #print(len(temp))\n",
    "#full time period is [2015:2112]"
   ]
  },
  {
   "cell_type": "code",
   "execution_count": 403,
   "id": "8121578e",
   "metadata": {},
   "outputs": [
    {
     "name": "stdout",
     "output_type": "stream",
     "text": [
      "[0.0, 0.0, 0.0, 0.0, 0.0, 0.0, 0.0, 6.0, 143.0, 343.0, 534.0, 698.0, 817.0, 867.0, 854.0, 772.0, 637.0, 463.0, 266.0, 61.0, 0.0, 0.0, 0.0, 0.0, 0.0]\n"
     ]
    }
   ],
   "source": [
    "#Air Temp CRN:\n",
    "with open('CRNH0203-2022-KY_Bowling_Green_21_NNE.txt') as f:\n",
    "    lst=[line.split()[13] for line in f]\n",
    "    #print(lst)\n",
    "    temp_crn_bow4=[]\n",
    "    for i in lst:\n",
    "        new=i.replace(',',\"\")\n",
    "        temp_crn_bow4.append(new)\n",
    "    temp_crn_bow4=[float(x) for x in temp_crn_bow4]\n",
    "    temp_crn_bow4=temp_crn_bow4[2212:2237]\n",
    "    print(temp_crn_bow4)\n",
    "    #print(len(temp_crn))\n",
    "    # print(temp_crn[2124])"
   ]
  },
  {
   "cell_type": "code",
   "execution_count": 404,
   "id": "cbe21805",
   "metadata": {},
   "outputs": [],
   "source": [
    "# difference4_bow = []\n",
    "\n",
    "# zip_object = zip(temp, temp_crn)\n",
    "# for temp_i, temp_crn_i in zip_object:\n",
    "#     difference4_bow.append(temp_i-temp_crn_i)\n",
    "\n",
    "# print(difference4_bow)"
   ]
  },
  {
   "cell_type": "markdown",
   "id": "b962f206",
   "metadata": {},
   "source": [
    "<font size=\"3\">Gadsden, AL: 0600 UTC (12:00 am CST) 01 March 2022-0600 UTC (12:00 am CST) 02 March 2022</font>"
   ]
  },
  {
   "cell_type": "code",
   "execution_count": 405,
   "id": "e76025fd",
   "metadata": {},
   "outputs": [
    {
     "name": "stdout",
     "output_type": "stream",
     "text": [
      "[0.0, 0.0, 0.0, 0.0, 0.0, 0.0, 0.0, 48.3, 266.8, 493.6, 696.7, 849.7, 948.0, 970.0, 921.0, 805.0, 636.0, 422.4, 188.1, 1.6, 0.0, 0.0, 0.0, 0.0, 0.0]\n"
     ]
    }
   ],
   "source": [
    "#1 hr hrrr:\n",
    "with open('hrrr_f01_Gadsden_AL.txt') as f:\n",
    "    lst=[line.split()[3] for line in f]\n",
    "    temp_gad4=[]\n",
    "    for i in lst:\n",
    "        new=i.replace(',',\"\")\n",
    "        temp_gad4.append(new)\n",
    "    temp_gad4.pop(0)\n",
    "    temp_gad4=[float(x) for x in temp_gad4]\n",
    "    temp_gad4=temp_gad4[2212:2237]\n",
    "#     x = np.array(temp)\n",
    "#     temp = ma.masked_array(x, mask=[0, 0, 0, 0, 0,0,0,0,1,0,0,0,0,0,0,0,0,0,0,0,0,0,0,0,0])\n",
    "    #temp=temp[2015:2063]\n",
    "    print(temp_gad4)\n",
    "    #print(len(temp))\n",
    "#full time period is [2015:2112]"
   ]
  },
  {
   "cell_type": "code",
   "execution_count": 406,
   "id": "4c633594",
   "metadata": {},
   "outputs": [
    {
     "name": "stdout",
     "output_type": "stream",
     "text": [
      "[0.0, 0.0, 0.0, 0.0, 0.0, 0.0, 0.0, 7.0, 151.0, 359.0, 576.0, 745.0, 857.0, 906.0, 894.0, 816.0, 680.0, 493.0, 279.0, 74.0, 0.0, 0.0, 0.0, 0.0, 0.0]\n"
     ]
    }
   ],
   "source": [
    "#Air Temp CRN:\n",
    "with open('CRNH0203-2022-AL_Gadsden_19_N.txt') as f:\n",
    "    lst=[line.split()[13] for line in f]\n",
    "    #print(lst)\n",
    "    temp_crn_gad4=[]\n",
    "    for i in lst:\n",
    "        new=i.replace(',',\"\")\n",
    "        temp_crn_gad4.append(new)\n",
    "    temp_crn_gad4=[float(x) for x in temp_crn_gad4]\n",
    "    temp_crn_gad4=temp_crn_gad4[2212:2237]\n",
    "#     y = np.array(temp_crn)\n",
    "#     temp_crn = ma.masked_array(y, mask=[0, 0, 0, 0, 0,0,0,0,1,0,0,0,0,0,0,0,0,0,0,0,0,0,0,0,0])\n",
    "    print(temp_crn_gad4)\n",
    "    #print(len(temp_crn))\n",
    "    # print(temp_crn[2124])"
   ]
  },
  {
   "cell_type": "code",
   "execution_count": 407,
   "id": "fd78be39",
   "metadata": {},
   "outputs": [],
   "source": [
    "# difference4_gad = []\n",
    "\n",
    "# zip_object = zip(temp, temp_crn)\n",
    "# for temp_i, temp_crn_i in zip_object:\n",
    "#     difference4_gad.append(temp_i-temp_crn_i)\n",
    "\n",
    "# print(difference4_gad)"
   ]
  },
  {
   "cell_type": "markdown",
   "id": "de9fab15",
   "metadata": {},
   "source": [
    "<font size=\"3\">Newton, GA: 0600 UTC (12:00 am CST) 01 March 2022-0600 UTC (12:00 am CST) 02 March 2022</font>"
   ]
  },
  {
   "cell_type": "code",
   "execution_count": 408,
   "id": "ee45f74b",
   "metadata": {},
   "outputs": [
    {
     "name": "stdout",
     "output_type": "stream",
     "text": [
      "[0.0, 0.0, 0.0, 0.0, 0.0, 0.0, 0.0, 55.2, 293.0, 524.2, 726.3, 876.4, 966.0, 982.0, 926.0, 801.0, 617.0, 392.9, 157.2, 0.0, 0.0, 0.0, 0.0, 0.0, 0.0]\n"
     ]
    }
   ],
   "source": [
    "#1 hr hrrr:\n",
    "with open('hrrr_f01_Newton_GA.txt') as f:\n",
    "    lst=[line.split()[3] for line in f]\n",
    "    temp_newt4=[]\n",
    "    for i in lst:\n",
    "        new=i.replace(',',\"\")\n",
    "        temp_newt4.append(new)\n",
    "    temp_newt4.pop(0)\n",
    "    temp_newt4=[float(x) for x in temp_newt4]\n",
    "    temp_newt4=temp_newt4[2212:2237]\n",
    "    #temp=temp[2015:2063]\n",
    "    print(temp_newt4)\n",
    "    #print(len(temp))\n",
    "#full time period is [2015:2112]"
   ]
  },
  {
   "cell_type": "code",
   "execution_count": 409,
   "id": "569d6a98",
   "metadata": {},
   "outputs": [
    {
     "name": "stdout",
     "output_type": "stream",
     "text": [
      "[0.0, 0.0, 0.0, 0.0, 0.0, 0.0, 0.0, 0.0, 13.0, 170.0, 392.0, 603.0, 769.0, 876.0, 924.0, 900.0, 815.0, 672.0, 478.0, 254.0, 50.0, 0.0, 0.0, 0.0, 0.0]\n"
     ]
    }
   ],
   "source": [
    "#Air Temp CRN:\n",
    "with open('CRNH0203-2022-GA_Newton_11_SW.txt') as f:\n",
    "    lst=[line.split()[13] for line in f]\n",
    "    #print(lst)\n",
    "    temp_crn_newt4=[]\n",
    "    for i in lst:\n",
    "        new=i.replace(',',\"\")\n",
    "        temp_crn_newt4.append(new)\n",
    "    temp_crn_newt4=[float(x) for x in temp_crn_newt4]\n",
    "    temp_crn_newt4=temp_crn_newt4[2211:2236]\n",
    "    print(temp_crn_newt4)\n",
    "    #print(len(temp_crn))\n",
    "    # print(temp_crn[2124])"
   ]
  },
  {
   "cell_type": "code",
   "execution_count": 411,
   "id": "23233b5a",
   "metadata": {},
   "outputs": [],
   "source": [
    "# difference4_newt = []\n",
    "\n",
    "# zip_object = zip(temp, temp_crn)\n",
    "# for temp_i, temp_crn_i in zip_object:\n",
    "#     difference4_newt.append(temp_i-temp_crn_i)\n",
    "\n",
    "# print(difference4_newt)"
   ]
  },
  {
   "cell_type": "markdown",
   "id": "ab4663ab",
   "metadata": {},
   "source": [
    "<font size=\"3\">Salem, MO: 0500 UTC (12:00 am CDT) 19 April 2022-0500 UTC (12:00 am CDT) 20 April 2022</font>"
   ]
  },
  {
   "cell_type": "code",
   "execution_count": 414,
   "id": "3fe4d4d8",
   "metadata": {},
   "outputs": [
    {
     "name": "stdout",
     "output_type": "stream",
     "text": [
      "[0.0, 0.0, 0.0, 0.0, 0.0, 0.0, 0.0, 53.1, 269.8, 490.6, 678.0, 844.1, 946.0, 983.0, 951.0, 859.0, 710.0, 513.6, 284.5, 60.2, 0.0, 0.0, 0.0, 0.0, 0.0]\n"
     ]
    }
   ],
   "source": [
    "#1 hr hrrr:\n",
    "with open('hrrr_f01_Salem_MO.txt') as f:\n",
    "    lst=[line.split()[3] for line in f]\n",
    "    temp_sal5=[]\n",
    "    for i in lst:\n",
    "        new=i.replace(',',\"\")\n",
    "        temp_sal5.append(new)\n",
    "    temp_sal5.pop(0)\n",
    "    temp_sal5=[float(x) for x in temp_sal5]\n",
    "    temp_sal5=temp_sal5[2596:2621]\n",
    "    #temp=temp[2015:2063]\n",
    "    print(temp_sal5)\n",
    "#full time period is [2015:2112]"
   ]
  },
  {
   "cell_type": "code",
   "execution_count": 415,
   "id": "8e5ef275",
   "metadata": {},
   "outputs": [
    {
     "name": "stdout",
     "output_type": "stream",
     "text": [
      "[0.0, 0.0, 0.0, 0.0, 0.0, 0.0, 0.0, 13.0, 170.0, 377.0, 589.0, 759.0, 854.0, 935.0, 934.0, 870.0, 753.0, 588.0, 308.0, 51.0, 0.0, 0.0, 0.0, 0.0, 0.0]\n"
     ]
    }
   ],
   "source": [
    "#Air Temp CRN:\n",
    "with open('CRNH0203-2022-MO_Salem_10_W.txt') as f:\n",
    "    lst=[line.split()[13] for line in f]\n",
    "    #print(lst)\n",
    "    temp_crn_sal5=[]\n",
    "    for i in lst:\n",
    "        new=i.replace(',',\"\")\n",
    "        temp_crn_sal5.append(new)\n",
    "    temp_crn_sal5=[float(x) for x in temp_crn_sal5]\n",
    "    temp_crn_sal5=temp_crn_sal5[2596:2621]\n",
    "    print(temp_crn_sal5)\n",
    "    # print(temp_crn[2124])"
   ]
  },
  {
   "cell_type": "code",
   "execution_count": 416,
   "id": "631903a7",
   "metadata": {},
   "outputs": [],
   "source": [
    "# difference5_sal = []\n",
    "\n",
    "# zip_object = zip(temp, temp_crn)\n",
    "# for temp_i, temp_crn_i in zip_object:\n",
    "#     difference5_sal.append(temp_i-temp_crn_i)\n",
    "\n",
    "# print(difference5_sal)"
   ]
  },
  {
   "cell_type": "markdown",
   "id": "eb16f605",
   "metadata": {},
   "source": [
    "<font size=\"3\">Batesville, AR: 0600 UTC (12:00 am CST) 01 March 2022-0600 UTC (12:00 am CST) 02 March 2022</font>"
   ]
  },
  {
   "cell_type": "code",
   "execution_count": 417,
   "id": "5f6566a3",
   "metadata": {},
   "outputs": [
    {
     "name": "stdout",
     "output_type": "stream",
     "text": [
      "[0.0, 0.0, 0.0, 0.0, 0.0, 0.0, 0.0, 45.4, 258.7, 483.5, 684.7, 845.7, 950.0, 987.0, 957.0, 864.0, 713.0, 516.8, 298.8, 89.1, 0.0, 0.0, 0.0, 0.0, 0.0]\n"
     ]
    }
   ],
   "source": [
    "#1 hr hrrr:\n",
    "with open('hrrr_f01_Batesville_AR.txt') as f:\n",
    "    lst=[line.split()[3] for line in f]\n",
    "    temp_bat5=[]\n",
    "    for i in lst:\n",
    "        new=i.replace(',',\"\")\n",
    "        temp_bat5.append(new)\n",
    "    temp_bat5.pop(0)\n",
    "    temp_bat5=[float(x) for x in temp_bat5]\n",
    "    temp_bat5=temp_bat5[2596:2621]\n",
    "#     x = np.array(temp)\n",
    "#     temp = ma.masked_array(x, mask=[0, 0, 0, 0, 0,0,0,0,0,0,0,0,0,0,0,0,0,0,0,0,0,1,0,0,0])\n",
    "    #temp=temp[2015:2063]\n",
    "    print(temp_bat5)\n",
    "#full time period is [2015:2112]"
   ]
  },
  {
   "cell_type": "code",
   "execution_count": 418,
   "id": "181df417",
   "metadata": {},
   "outputs": [
    {
     "name": "stdout",
     "output_type": "stream",
     "text": [
      "[0.0, 0.0, 0.0, 0.0, 0.0, 0.0, 0.0, 10.0, 149.0, 360.0, 573.0, 753.0, 881.0, 953.0, 953.0, 889.0, 780.0, 604.0, 382.0, 189.0, 20.0, 0.0, 0.0, 0.0, 0.0]\n"
     ]
    }
   ],
   "source": [
    "#Air Temp CRN:\n",
    "with open('CRNH0203-2022-AR_Batesville_8_WNW.txt') as f:\n",
    "    lst=[line.split()[13] for line in f]\n",
    "    #print(lst)\n",
    "    temp_crn_bat5=[]\n",
    "    for i in lst:\n",
    "        new=i.replace(',',\"\")\n",
    "        temp_crn_bat5.append(new)\n",
    "    temp_crn_bat5=[float(x) for x in temp_crn_bat5]\n",
    "    temp_crn_bat5=temp_crn_bat5[2596:2621]\n",
    "#     y = np.array(temp_crn)\n",
    "#     temp_crn = ma.masked_array(y, mask=[0, 0, 0, 0, 0,0,0,0,0,0,0,0,0,0,0,0,0,0,0,0,0,1,0,0,0])\n",
    "    print(temp_crn_bat5)\n",
    "    #print(len(temp_crn))\n",
    "    # print(temp_crn[2124])"
   ]
  },
  {
   "cell_type": "code",
   "execution_count": 419,
   "id": "32ec4102",
   "metadata": {},
   "outputs": [],
   "source": [
    "# difference5_bat = []\n",
    "\n",
    "# zip_object = zip(temp, temp_crn)\n",
    "# for temp_i, temp_crn_i in zip_object:\n",
    "#     difference5_bat.append(temp_i-temp_crn_i)\n",
    "\n",
    "# print(difference5_bat)"
   ]
  },
  {
   "cell_type": "markdown",
   "id": "ab0f4798",
   "metadata": {},
   "source": [
    "<font size=\"3\">Lafayette, LA: 0600 UTC (12:00 am CST) 01 March 2022-0600 UTC (12:00 am CST) 02 March 2022</font>"
   ]
  },
  {
   "cell_type": "code",
   "execution_count": 420,
   "id": "bf4ca647",
   "metadata": {},
   "outputs": [
    {
     "name": "stdout",
     "output_type": "stream",
     "text": [
      "[0.0, 0.0, 0.0, 0.0, 0.0, 0.0, 0.0, 30.7, 249.8, 471.5, 704.1, 867.3, 986.0, 1027.0, 993.0, 899.0, 743.0, 537.3, 304.1, 78.9, 0.0, 0.0, 0.0, 0.0, 0.0]\n"
     ]
    }
   ],
   "source": [
    "#1 hr hrrr:\n",
    "with open('hrrr_f01_Lafayette_LA.txt') as f:\n",
    "    lst=[line.split()[3] for line in f]\n",
    "    temp_laf5=[]\n",
    "    for i in lst:\n",
    "        new=i.replace(',',\"\")\n",
    "        temp_laf5.append(new)\n",
    "    temp_laf5.pop(0)\n",
    "    temp_laf5=[float(x) for x in temp_laf5]\n",
    "    temp_laf5=temp_laf5[2596:2621]\n",
    "    #temp=temp[2015:2063]\n",
    "    print(temp_laf5)\n",
    "    #print(len(temp))\n",
    "#full time period is [2015:2112]"
   ]
  },
  {
   "cell_type": "code",
   "execution_count": 421,
   "id": "6f4ae0a1",
   "metadata": {},
   "outputs": [
    {
     "name": "stdout",
     "output_type": "stream",
     "text": [
      "[0.0, 0.0, 0.0, 0.0, 0.0, 0.0, 0.0, 5.0, 153.0, 271.0, 450.0, 720.0, 822.0, 902.0, 951.0, 895.0, 777.0, 546.0, 397.0, 161.0, 13.0, 0.0, 0.0, 0.0, 0.0]\n"
     ]
    }
   ],
   "source": [
    "#Air Temp CRN:\n",
    "with open('CRNH0203-2022-LA_Lafayette_13_SE.txt') as f:\n",
    "    lst=[line.split()[13] for line in f]\n",
    "    #print(lst)\n",
    "    temp_crn_laf5=[]\n",
    "    for i in lst:\n",
    "        new=i.replace(',',\"\")\n",
    "        temp_crn_laf5.append(new)\n",
    "    temp_crn_laf5=[float(x) for x in temp_crn_laf5]\n",
    "    temp_crn_laf5=temp_crn_laf5[2596:2621]\n",
    "    print(temp_crn_laf5)\n",
    "    #print(len(temp_crn))\n",
    "    # print(temp_crn[2124])"
   ]
  },
  {
   "cell_type": "code",
   "execution_count": 422,
   "id": "482bd1ef",
   "metadata": {},
   "outputs": [],
   "source": [
    "# difference5_laf = []\n",
    "\n",
    "# zip_object = zip(temp, temp_crn)\n",
    "# for temp_i, temp_crn_i in zip_object:\n",
    "#     difference5_laf.append(temp_i-temp_crn_i)\n",
    "\n",
    "# print(difference5_laf)"
   ]
  },
  {
   "cell_type": "markdown",
   "id": "de00e832",
   "metadata": {},
   "source": [
    "<font size=\"3\">Monroe, LA: 0600 UTC (12:00 am CST) 01 March 2022-0600 UTC (12:00 am CST) 02 March 2022</font>"
   ]
  },
  {
   "cell_type": "code",
   "execution_count": 423,
   "id": "4e202ed7",
   "metadata": {},
   "outputs": [
    {
     "name": "stdout",
     "output_type": "stream",
     "text": [
      "[0.0, 0.0, 0.0, 0.0, 0.0, 0.0, 0.0, 33.3, 243.9, 471.0, 681.6, 848.2, 962.0, 1006.0, 977.0, 885.0, 732.0, 530.7, 307.7, 87.4, 0.0, 0.0, 0.0, 0.0, 0.0]\n"
     ]
    }
   ],
   "source": [
    "#1 hr hrrr:\n",
    "with open('hrrr_f01_Monroe_LA.txt') as f:\n",
    "    lst=[line.split()[3] for line in f]\n",
    "    temp_mon5=[]\n",
    "    for i in lst:\n",
    "        new=i.replace(',',\"\")\n",
    "        temp_mon5.append(new)\n",
    "    temp_mon5.pop(0)\n",
    "    temp_mon5=[float(x) for x in temp_mon5]\n",
    "    temp_mon5=temp_mon5[2596:2621]\n",
    "    #temp=temp[2015:2063]\n",
    "    print(temp_mon5)\n",
    "    #print(len(temp))\n",
    "#full time period is [2015:2112]"
   ]
  },
  {
   "cell_type": "code",
   "execution_count": 424,
   "id": "89b1b3f1",
   "metadata": {},
   "outputs": [
    {
     "name": "stdout",
     "output_type": "stream",
     "text": [
      "[0.0, 0.0, 0.0, 0.0, 0.0, 0.0, 0.0, 5.0, 99.0, 339.0, 559.0, 745.0, 883.0, 955.0, 959.0, 900.0, 768.0, 594.0, 220.0, 34.0, 7.0, 0.0, 0.0, 0.0, 0.0]\n"
     ]
    }
   ],
   "source": [
    "#Air Temp CRN:\n",
    "with open('CRNH0203-2022-LA_Monroe_26_N.txt') as f:\n",
    "    lst=[line.split()[13] for line in f]\n",
    "    #print(lst)\n",
    "    temp_crn_mon5=[]\n",
    "    for i in lst:\n",
    "        new=i.replace(',',\"\")\n",
    "        temp_crn_mon5.append(new)\n",
    "    temp_crn_mon5=[float(x) for x in temp_crn_mon5]\n",
    "    temp_crn_mon5=temp_crn_mon5[2596:2621]\n",
    "    print(temp_crn_mon5)\n",
    "    #print(len(temp_crn))\n",
    "    # print(temp_crn[2124])"
   ]
  },
  {
   "cell_type": "code",
   "execution_count": 425,
   "id": "461ef9d6",
   "metadata": {},
   "outputs": [],
   "source": [
    "# difference5_mon = []\n",
    "\n",
    "# zip_object = zip(temp, temp_crn)\n",
    "# for temp_i, temp_crn_i in zip_object:\n",
    "#     difference5_mon.append(temp_i-temp_crn_i)\n",
    "\n",
    "# print(difference5_mon)"
   ]
  },
  {
   "cell_type": "markdown",
   "id": "10c3e262",
   "metadata": {},
   "source": [
    "<font size=\"3\">Holly Springs, MS: 0600 UTC (12:00 am CST) 01 March 2022-0600 UTC (12:00 am CST) 02 March 2022</font>"
   ]
  },
  {
   "cell_type": "code",
   "execution_count": 431,
   "id": "02dfc76f",
   "metadata": {},
   "outputs": [
    {
     "name": "stdout",
     "output_type": "stream",
     "text": [
      "[0.0, 0.0, 0.0, 0.0, 0.0, 0.0, 0.0, 78.0, 298.6, 527.7, 734.5, 888.7, 982.0, 1008.0, 967.0, 862.0, 697.0, 496.7, 270.9, 60.0, 0.0, 0.0, 0.0, 0.0, 0.0]\n"
     ]
    }
   ],
   "source": [
    "#1 hr hrrr:\n",
    "with open('hrrr_f01_Holly Springs_MS.txt') as f:\n",
    "    lst=[line.split()[3] for line in f]\n",
    "    temp_hol5=[]\n",
    "    for i in lst:\n",
    "        new=i.replace(',',\"\")\n",
    "        temp_hol5.append(new)\n",
    "    temp_hol5.pop(0)\n",
    "    temp_hol5=[float(x) for x in temp_hol5]\n",
    "    temp_hol5=temp_hol5[2596:2621]\n",
    "    #temp=temp[2015:2063]\n",
    "    print(temp_hol5)\n",
    "    #print(len(temp))\n",
    "#full time period is [2015:2112]"
   ]
  },
  {
   "cell_type": "code",
   "execution_count": 432,
   "id": "c2ad5a2d",
   "metadata": {},
   "outputs": [
    {
     "name": "stdout",
     "output_type": "stream",
     "text": [
      "[0.0, 0.0, 0.0, 0.0, 0.0, 0.0, 0.0, 10.0, 205.0, 446.0, 655.0, 816.0, 918.0, 959.0, 938.0, 860.0, 722.0, 534.0, 317.0, 109.0, 2.0, 0.0, 0.0, 0.0, 0.0]\n"
     ]
    }
   ],
   "source": [
    "#Air Temp CRN:\n",
    "with open('CRNH0203-2022-MS_Holly_Springs_4_N.txt') as f:\n",
    "    lst=[line.split()[13] for line in f]\n",
    "    #print(lst)\n",
    "    temp_crn_hol5=[]\n",
    "    for i in lst:\n",
    "        new=i.replace(',',\"\")\n",
    "        temp_crn_hol5.append(new)\n",
    "    temp_crn_hol5=[float(x) for x in temp_crn_hol5]\n",
    "    temp_crn_hol5=temp_crn_hol5[2596:2621]\n",
    "    print(temp_crn_hol5)\n",
    "    #print(len(temp_crn))\n",
    "    # print(temp_crn[2124])"
   ]
  },
  {
   "cell_type": "code",
   "execution_count": 433,
   "id": "33e182d5",
   "metadata": {},
   "outputs": [],
   "source": [
    "# difference5_hol = []\n",
    "\n",
    "# zip_object = zip(temp, temp_crn)\n",
    "# for temp_i, temp_crn_i in zip_object:\n",
    "#     difference5_hol.append(temp_i-temp_crn_i)\n",
    "\n",
    "# print(difference5_hol)"
   ]
  },
  {
   "cell_type": "markdown",
   "id": "c3611246",
   "metadata": {},
   "source": [
    "<font size=\"3\">Newton, MS: 0600 UTC (12:00 am CST) 01 March 2022-0600 UTC (12:00 am CST) 02 March 2022</font>"
   ]
  },
  {
   "cell_type": "code",
   "execution_count": 434,
   "id": "c9844209",
   "metadata": {},
   "outputs": [
    {
     "name": "stdout",
     "output_type": "stream",
     "text": [
      "[0.0, 0.0, 0.0, 0.0, 0.0, 0.0, 0.0, 74.9, 297.6, 530.1, 733.9, 891.8, 989.0, 1019.0, 979.0, 870.0, 705.0, 494.0, 263.6, 51.0, 0.0, 0.0, 0.0, 0.0, 0.0]\n"
     ]
    }
   ],
   "source": [
    "#1 hr hrrr:\n",
    "with open('hrrr_f01_Newton_MS.txt') as f:\n",
    "    lst=[line.split()[3] for line in f]\n",
    "    temp_new5=[]\n",
    "    for i in lst:\n",
    "        new=i.replace(',',\"\")\n",
    "        temp_new5.append(new)\n",
    "    temp_new5.pop(0)\n",
    "    temp_new5=[float(x) for x in temp_new5]\n",
    "    temp_new5=temp_new5[2596:2621]\n",
    "    #temp=temp[2015:2063]\n",
    "    print(temp_new5)\n",
    "    #print(len(temp))\n",
    "#full time period is [2015:2112]"
   ]
  },
  {
   "cell_type": "code",
   "execution_count": 435,
   "id": "27922cc2",
   "metadata": {},
   "outputs": [
    {
     "name": "stdout",
     "output_type": "stream",
     "text": [
      "[0.0, 0.0, 0.0, 0.0, 0.0, 0.0, 0.0, 13.0, 174.0, 398.0, 597.0, 778.0, 897.0, 955.0, 949.0, 881.0, 751.0, 574.0, 362.0, 143.0, 7.0, 0.0, 0.0, 0.0, 0.0]\n"
     ]
    }
   ],
   "source": [
    "#Air Temp CRN:\n",
    "with open('CRNH0203-2022-MS_Newton_5_ENE.txt') as f:\n",
    "    lst=[line.split()[13] for line in f]\n",
    "    #print(lst)\n",
    "    temp_crn_new5=[]\n",
    "    for i in lst:\n",
    "        new=i.replace(',',\"\")\n",
    "        temp_crn_new5.append(new)\n",
    "    temp_crn_new5=[float(x) for x in temp_crn_new5]\n",
    "    temp_crn_new5=temp_crn_new5[2596:2621]\n",
    "    print(temp_crn_new5)\n",
    "    #print(len(temp_crn))\n",
    "    # print(temp_crn[2124])"
   ]
  },
  {
   "cell_type": "code",
   "execution_count": 436,
   "id": "26f39b75",
   "metadata": {},
   "outputs": [],
   "source": [
    "# difference5_new = []\n",
    "\n",
    "# zip_object = zip(temp, temp_crn)\n",
    "# for temp_i, temp_crn_i in zip_object:\n",
    "#     difference5_new.append(temp_i-temp_crn_i)\n",
    "\n",
    "# print(difference5_new)"
   ]
  },
  {
   "cell_type": "markdown",
   "id": "35f6ffe5",
   "metadata": {},
   "source": [
    "<font size=\"3\">Gainesville, AL: 0600 UTC (12:00 am CST) 01 March 2022-0600 UTC (12:00 am CST) 02 March 2022</font>"
   ]
  },
  {
   "cell_type": "code",
   "execution_count": 437,
   "id": "d2bd1457",
   "metadata": {},
   "outputs": [],
   "source": [
    "# #1 hr hrrr:\n",
    "# with open('hrrr_f01_Gainesville_AL.txt') as f:\n",
    "#     lst=[line.split()[3] for line in f]\n",
    "#     temp=[]\n",
    "#     for i in lst:\n",
    "#         new=i.replace(',',\"\")\n",
    "#         temp.append(new)\n",
    "#     temp.pop(0)\n",
    "#     temp=[float(x) for x in temp]\n",
    "#     temp=temp[2596:2621]\n",
    "#     #temp=temp[2015:2063]\n",
    "#     print(temp)\n",
    "#     #print(len(temp))\n",
    "# #full time period is [2015:2112]"
   ]
  },
  {
   "cell_type": "code",
   "execution_count": 438,
   "id": "4f5c8ab2",
   "metadata": {},
   "outputs": [],
   "source": [
    "# #Air Temp CRN:\n",
    "# with open('CRNH0203-2022-AL_Gainesville_2_NE.txt') as f:\n",
    "#     lst=[line.split()[13] for line in f]\n",
    "#     #print(lst)\n",
    "#     temp_crn=[]\n",
    "#     for i in lst:\n",
    "#         new=i.replace(',',\"\")\n",
    "#         temp_crn.append(new)\n",
    "#     temp_crn=[float(x) for x in temp_crn]\n",
    "#     temp_crn=temp_crn[2596:2621]\n",
    "#     print(temp_crn)\n",
    "#     #print(len(temp_crn))\n",
    "#     # print(temp_crn[2124])"
   ]
  },
  {
   "cell_type": "code",
   "execution_count": 439,
   "id": "8356bd44",
   "metadata": {},
   "outputs": [],
   "source": [
    "# difference5_gai = []\n",
    "\n",
    "# zip_object = zip(temp, temp_crn)\n",
    "# for temp_i, temp_crn_i in zip_object:\n",
    "#     difference5_gai.append(temp_i-temp_crn_i)\n",
    "\n",
    "# print(difference5_gai)"
   ]
  },
  {
   "cell_type": "markdown",
   "id": "fb46ce72",
   "metadata": {},
   "source": [
    "<font size=\"3\">Fairhope, AL: 0600 UTC (12:00 am CST) 01 March 2022-0600 UTC (12:00 am CST) 02 March 2022</font>"
   ]
  },
  {
   "cell_type": "code",
   "execution_count": 440,
   "id": "eb7efbb3",
   "metadata": {},
   "outputs": [
    {
     "name": "stdout",
     "output_type": "stream",
     "text": [
      "[0.0, 0.0, 0.0, 0.0, 0.0, 0.0, 0.0, 88.5, 319.3, 552.9, 756.5, 913.7, 1010.0, 1031.0, 981.0, 866.0, 693.0, 476.5, 242.8, 33.9, 0.0, 0.0, 0.0, 0.0, 0.0]\n"
     ]
    }
   ],
   "source": [
    "#1 hr hrrr:\n",
    "with open('hrrr_f01_Fairhope_AL.txt') as f:\n",
    "    lst=[line.split()[3] for line in f]\n",
    "    temp_fai5=[]\n",
    "    for i in lst:\n",
    "        new=i.replace(',',\"\")\n",
    "        temp_fai5.append(new)\n",
    "    temp_fai5.pop(0)\n",
    "    temp_fai5=[float(x) for x in temp_fai5]\n",
    "    temp_fai5=temp_fai5[2596:2621]\n",
    "    #temp=temp[2015:2063]\n",
    "    print(temp_fai5)\n",
    "    #print(len(temp))\n",
    "#full time period is [2015:2112]"
   ]
  },
  {
   "cell_type": "code",
   "execution_count": 441,
   "id": "91a8ae69",
   "metadata": {},
   "outputs": [
    {
     "name": "stdout",
     "output_type": "stream",
     "text": [
      "[0.0, 0.0, 0.0, 0.0, 0.0, 0.0, 0.0, 21.0, 162.0, 384.0, 595.0, 767.0, 894.0, 955.0, 948.0, 875.0, 740.0, 556.0, 339.0, 121.0, 2.0, 0.0, 0.0, 0.0, 0.0]\n"
     ]
    }
   ],
   "source": [
    "#Air Temp CRN:\n",
    "with open('CRNH0203-2022-AL_Fairhope_3_NE.txt') as f:\n",
    "    lst=[line.split()[13] for line in f]\n",
    "    #print(lst)\n",
    "    temp_crn_fai5=[]\n",
    "    for i in lst:\n",
    "        new=i.replace(',',\"\")\n",
    "        temp_crn_fai5.append(new)\n",
    "    temp_crn_fai5=[float(x) for x in temp_crn_fai5]\n",
    "    temp_crn_fai5=temp_crn_fai5[2596:2621]\n",
    "    print(temp_crn_fai5)\n",
    "    #print(len(temp_crn))\n",
    "    # print(temp_crn[2124])"
   ]
  },
  {
   "cell_type": "code",
   "execution_count": 442,
   "id": "27eb4d35",
   "metadata": {},
   "outputs": [],
   "source": [
    "# difference5_fai = []\n",
    "\n",
    "# zip_object = zip(temp, temp_crn)\n",
    "# for temp_i, temp_crn_i in zip_object:\n",
    "#     difference5_fai.append(temp_i-temp_crn_i)\n",
    "\n",
    "# print(difference5_fai)"
   ]
  },
  {
   "cell_type": "markdown",
   "id": "26ae7516",
   "metadata": {},
   "source": [
    "<font size=\"3\">**Selma, AL: 0600 UTC (12:00 am CST) 01 March 2022-0600 UTC (12:00 am CST) 02 March 2022</font>"
   ]
  },
  {
   "cell_type": "code",
   "execution_count": 443,
   "id": "bb3e0d4e",
   "metadata": {},
   "outputs": [
    {
     "name": "stdout",
     "output_type": "stream",
     "text": [
      "[0.0, 0.0, 0.0, 0.0, 0.0, 0.0, 0.0, 106.0, 333.6, 564.2, 767.9, 919.8, 1011.0, 1032.0, 978.0, 861.0, 686.0, 468.5, 235.3, 29.0, 0.0, 0.0, 0.0, 0.0, 0.0]\n",
      "[0.0, 0.0, 0.0, 0.0, 0.0, 0.0, 0.0, 27.0, 211.0, 436.0, 644.0, 805.0, 905.0, 951.0, 937.0, 857.0, 722.0, 540.0, 312.0, 32.0, 0.0, 0.0, 0.0, 0.0, 0.0]\n"
     ]
    }
   ],
   "source": [
    "#1 hr hrrr:\n",
    "import numpy as np\n",
    "import numpy.ma as ma\n",
    "with open('hrrr_f01_Selma_AL.txt') as f:\n",
    "    lst=[line.split()[3] for line in f]\n",
    "    temp_sel5=[]\n",
    "    for i in lst:\n",
    "        new=i.replace(',',\"\")\n",
    "        temp_sel5.append(new)\n",
    "    temp_sel5.pop(0)\n",
    "    temp_sel5=[float(x) for x in temp_sel5]\n",
    "    temp_sel5=temp_sel5[2596:2621]\n",
    "\n",
    "#     x = np.array(temp)\n",
    "#     temp = ma.masked_array(x, mask=[0, 0, 0, 0, 0,0,0,0,0,0,0,0,0,0,0,0,0,1,1,1,1,0,0,0,0])\n",
    "    #print(temp)\n",
    "#Air Temp CRN:\n",
    "with open('CRNH0203-2022-AL_Selma_13_WNW.txt') as f:\n",
    "    lst=[line.split()[13] for line in f]\n",
    "    #print(lst)\n",
    "    temp_crn_sel5=[]\n",
    "    for i in lst:\n",
    "        new=i.replace(',',\"\")\n",
    "        temp_crn_sel5.append(new)\n",
    "    temp_crn_sel5=[float(x) for x in temp_crn_sel5]\n",
    "    temp_crn_sel5=temp_crn_sel5[2596:2621]\n",
    "#     y = np.array(temp_crn)\n",
    "#     temp_crn = ma.masked_array(y, mask=[0, 0, 0, 0, 0,0,0,0,0,0,0,0,0,0,0,0,0,1,1,1,1,0,0,0,0])\n",
    "    print(temp_sel5)\n",
    "    #print(len(temp))\n",
    "    print(temp_crn_sel5)\n",
    "    #print(len(temp_crn))\n",
    "# #full time period is [2015:2112]\n",
    "# difference5_sel = []\n",
    "\n",
    "# zip_object = zip(temp, temp_crn)\n",
    "# for temp_i, temp_crn_i in zip_object:\n",
    "#     difference5_sel.append(temp_i-temp_crn_i)\n",
    "\n",
    "# print(difference5_sel)\n",
    "# #print(len(difference3_sel))"
   ]
  },
  {
   "cell_type": "markdown",
   "id": "d56aedb3",
   "metadata": {},
   "source": [
    "<font size=\"3\">Bowling Green, KY: 0600 UTC (12:00 am CST) 01 March 2022-0600 UTC (12:00 am CST) 02 March 2022</font>"
   ]
  },
  {
   "cell_type": "code",
   "execution_count": 444,
   "id": "24633681",
   "metadata": {},
   "outputs": [
    {
     "name": "stdout",
     "output_type": "stream",
     "text": [
      "[0.0, 0.0, 0.0, 0.0, 0.0, 0.0, 0.0, 127.1, 348.2, 565.7, 755.4, 894.9, 973.0, 989.0, 938.0, 822.0, 655.0, 446.9, 224.0, 32.1, 0.0, 0.0, 0.0, 0.0, 0.0]\n"
     ]
    }
   ],
   "source": [
    "#1 hr hrrr:\n",
    "with open('hrrr_f01_Bowling Green_KY.txt') as f:\n",
    "    lst=[line.split()[3] for line in f]\n",
    "    temp_bow5=[]\n",
    "    for i in lst:\n",
    "        new=i.replace(',',\"\")\n",
    "        temp_bow5.append(new)\n",
    "    temp_bow5.pop(0)\n",
    "    temp_bow5=[float(x) for x in temp_bow5]\n",
    "    temp_bow5=temp_bow5[2596:2621]\n",
    "    #temp=temp[2015:2063]\n",
    "    print(temp_bow5)\n",
    "    #print(len(temp))\n",
    "#full time period is [2015:2112]"
   ]
  },
  {
   "cell_type": "code",
   "execution_count": 445,
   "id": "f8ae0010",
   "metadata": {},
   "outputs": [
    {
     "name": "stdout",
     "output_type": "stream",
     "text": [
      "[0.0, 0.0, 0.0, 0.0, 0.0, 0.0, 0.0, 38.0, 221.0, 423.0, 610.0, 769.0, 876.0, 927.0, 908.0, 823.0, 688.0, 502.0, 288.0, 89.0, 3.0, 0.0, 0.0, 0.0, 0.0]\n"
     ]
    }
   ],
   "source": [
    "#Air Temp CRN:\n",
    "with open('CRNH0203-2022-KY_Bowling_Green_21_NNE.txt') as f:\n",
    "    lst=[line.split()[13] for line in f]\n",
    "    #print(lst)\n",
    "    temp_crn_bow5=[]\n",
    "    for i in lst:\n",
    "        new=i.replace(',',\"\")\n",
    "        temp_crn_bow5.append(new)\n",
    "    temp_crn_bow5=[float(x) for x in temp_crn_bow5]\n",
    "    temp_crn_bow5=temp_crn_bow5[2596:2621]\n",
    "    print(temp_crn_bow5)\n",
    "    #print(len(temp_crn))\n",
    "    # print(temp_crn[2124])"
   ]
  },
  {
   "cell_type": "code",
   "execution_count": 446,
   "id": "0855a124",
   "metadata": {},
   "outputs": [],
   "source": [
    "# difference5_bow = []\n",
    "\n",
    "# zip_object = zip(temp, temp_crn)\n",
    "# for temp_i, temp_crn_i in zip_object:\n",
    "#     difference5_bow.append(temp_i-temp_crn_i)\n",
    "\n",
    "# print(difference5_bow)"
   ]
  },
  {
   "cell_type": "markdown",
   "id": "230d1a46",
   "metadata": {},
   "source": [
    "<font size=\"3\">Gadsden, AL: 0600 UTC (12:00 am CST) 01 March 2022-0600 UTC (12:00 am CST) 02 March 2022</font>"
   ]
  },
  {
   "cell_type": "code",
   "execution_count": 447,
   "id": "c5f9ab54",
   "metadata": {},
   "outputs": [
    {
     "name": "stdout",
     "output_type": "stream",
     "text": [
      "[0.0, 0.0, 0.0, 0.0, 0.0, 0.0, 0.0, 128.1, 361.5, 591.4, 788.1, 934.8, 1019.0, 1032.0, 975.0, 854.0, 675.0, 458.5, 226.3, 24.0, 0.0, 0.0, 0.0, 0.0, 0.0]\n"
     ]
    }
   ],
   "source": [
    "#1 hr hrrr:\n",
    "with open('hrrr_f01_Gadsden_AL.txt') as f:\n",
    "    lst=[line.split()[3] for line in f]\n",
    "    temp_gad5=[]\n",
    "    for i in lst:\n",
    "        new=i.replace(',',\"\")\n",
    "        temp_gad5.append(new)\n",
    "    temp_gad5.pop(0)\n",
    "    temp_gad5=[float(x) for x in temp_gad5]\n",
    "    temp_gad5=temp_gad5[2596:2621]\n",
    "#     x = np.array(temp)\n",
    "#     temp = ma.masked_array(x, mask=[0, 0, 0, 0, 0,0,0,0,1,0,0,0,0,0,0,0,0,0,0,0,0,0,0,0,0])\n",
    "    #temp=temp[2015:2063]\n",
    "    print(temp_gad5)\n",
    "    #print(len(temp))\n",
    "#full time period is [2015:2112]"
   ]
  },
  {
   "cell_type": "code",
   "execution_count": 448,
   "id": "d154dfa6",
   "metadata": {},
   "outputs": [
    {
     "name": "stdout",
     "output_type": "stream",
     "text": [
      "[0.0, 0.0, 0.0, 0.0, 0.0, 0.0, 0.0, 45.0, 240.0, 460.0, 669.0, 827.0, 934.0, 974.0, 955.0, 869.0, 727.0, 535.0, 315.0, 103.0, 1.0, 0.0, 0.0, 0.0, 0.0]\n"
     ]
    }
   ],
   "source": [
    "#Air Temp CRN:\n",
    "with open('CRNH0203-2022-AL_Gadsden_19_N.txt') as f:\n",
    "    lst=[line.split()[13] for line in f]\n",
    "    #print(lst)\n",
    "    temp_crn_gad5=[]\n",
    "    for i in lst:\n",
    "        new=i.replace(',',\"\")\n",
    "        temp_crn_gad5.append(new)\n",
    "    temp_crn_gad5=[float(x) for x in temp_crn_gad5]\n",
    "    temp_crn_gad5=temp_crn_gad5[2596:2621]\n",
    "#     y = np.array(temp_crn)\n",
    "#     temp_crn = ma.masked_array(y, mask=[0, 0, 0, 0, 0,0,0,0,1,0,0,0,0,0,0,0,0,0,0,0,0,0,0,0,0])\n",
    "    print(temp_crn_gad5)\n",
    "    #print(len(temp_crn))\n",
    "    # print(temp_crn[2124])"
   ]
  },
  {
   "cell_type": "code",
   "execution_count": 449,
   "id": "20f98582",
   "metadata": {},
   "outputs": [],
   "source": [
    "# difference5_gad = []\n",
    "\n",
    "# zip_object = zip(temp, temp_crn)\n",
    "# for temp_i, temp_crn_i in zip_object:\n",
    "#     difference5_gad.append(temp_i-temp_crn_i)\n",
    "\n",
    "# print(difference5_gad)"
   ]
  },
  {
   "cell_type": "markdown",
   "id": "200f3740",
   "metadata": {},
   "source": [
    "<font size=\"3\">Newton, GA: 0600 UTC (12:00 am CST) 01 March 2022-0600 UTC (12:00 am CST) 02 March 2022</font>"
   ]
  },
  {
   "cell_type": "code",
   "execution_count": 450,
   "id": "c0676e97",
   "metadata": {},
   "outputs": [
    {
     "name": "stdout",
     "output_type": "stream",
     "text": [
      "[0.0, 0.0, 0.0, 0.0, 0.0, 0.0, 0.0, 140.5, 381.5, 616.5, 813.0, 958.8, 1036.0, 1039.0, 975.0, 846.0, 660.0, 435.5, 197.3, 5.4, 0.0, 0.0, 0.0, 0.0, 0.0]\n"
     ]
    }
   ],
   "source": [
    "#1 hr hrrr:\n",
    "with open('hrrr_f01_Newton_GA.txt') as f:\n",
    "    lst=[line.split()[3] for line in f]\n",
    "    temp_newt5=[]\n",
    "    for i in lst:\n",
    "        new=i.replace(',',\"\")\n",
    "        temp_newt5.append(new)\n",
    "    temp_newt5.pop(0)\n",
    "    temp_newt5=[float(x) for x in temp_newt5]\n",
    "    temp_newt5=temp_newt5[2596:2621]\n",
    "    #temp=temp[2015:2063]\n",
    "    print(temp_newt5)\n",
    "    #print(len(temp))\n",
    "#full time period is [2015:2112]"
   ]
  },
  {
   "cell_type": "code",
   "execution_count": 451,
   "id": "94f7876b",
   "metadata": {},
   "outputs": [
    {
     "name": "stdout",
     "output_type": "stream",
     "text": [
      "[0.0, 0.0, 0.0, 0.0, 0.0, 0.0, 0.0, 0.0, 40.0, 243.0, 478.0, 686.0, 845.0, 932.0, 980.0, 950.0, 863.0, 713.0, 516.0, 283.0, 68.0, 0.0, 0.0, 0.0, 0.0]\n"
     ]
    }
   ],
   "source": [
    "#Air Temp CRN:\n",
    "with open('CRNH0203-2022-GA_Newton_11_SW.txt') as f:\n",
    "    lst=[line.split()[13] for line in f]\n",
    "    #print(lst)\n",
    "    temp_crn_newt5=[]\n",
    "    for i in lst:\n",
    "        new=i.replace(',',\"\")\n",
    "        temp_crn_newt5.append(new)\n",
    "    temp_crn_newt5=[float(x) for x in temp_crn_newt5]\n",
    "    temp_crn_newt5=temp_crn_newt5[2595:2620]\n",
    "    print(temp_crn_newt5)\n",
    "    #print(len(temp_crn))\n",
    "    # print(temp_crn[2124])"
   ]
  },
  {
   "cell_type": "code",
   "execution_count": 452,
   "id": "4d737508",
   "metadata": {},
   "outputs": [],
   "source": [
    "# difference5_newt = []\n",
    "\n",
    "# zip_object = zip(temp, temp_crn)\n",
    "# for temp_i, temp_crn_i in zip_object:\n",
    "#     difference5_newt.append(temp_i-temp_crn_i)\n",
    "\n",
    "# print(difference5_newt)"
   ]
  },
  {
   "cell_type": "markdown",
   "id": "cd4a8f77",
   "metadata": {},
   "source": [
    "<font size=\"3\">Salem, MO: 0500 UTC (12:00 am CDT) 27 April 2022-0500 UTC (12:00 am CDT) 28 April 2022</font>"
   ]
  },
  {
   "cell_type": "code",
   "execution_count": 455,
   "id": "e74c5bbe",
   "metadata": {},
   "outputs": [
    {
     "name": "stdout",
     "output_type": "stream",
     "text": [
      "[0.0, 0.0, 0.0, 0.0, 0.0, 0.0, 0.0, 83.1, 290.9, 505.1, 701.2, 853.0, 954.0, 990.0, 957.0, 870.0, 723.0, 534.3, 320.3, 111.2, 0.0, 0.0, 0.0, 0.0, 0.0]\n"
     ]
    }
   ],
   "source": [
    "#1 hr hrrr:\n",
    "with open('hrrr_f01_Salem_MO.txt') as f:\n",
    "    lst=[line.split()[3] for line in f]\n",
    "    temp_sal6=[]\n",
    "    for i in lst:\n",
    "        new=i.replace(',',\"\")\n",
    "        temp_sal6.append(new)\n",
    "    temp_sal6.pop(0)\n",
    "    temp_sal6=[float(x) for x in temp_sal6]\n",
    "    temp_sal6=temp_sal6[2788:2813]\n",
    "    #temp=temp[2015:2063]\n",
    "    print(temp_sal6)\n",
    "#full time period is [2015:2112]"
   ]
  },
  {
   "cell_type": "code",
   "execution_count": 456,
   "id": "370dc7d4",
   "metadata": {},
   "outputs": [
    {
     "name": "stdout",
     "output_type": "stream",
     "text": [
      "[0.0, 0.0, 0.0, 0.0, 0.0, 0.0, 0.0, 20.0, 158.0, 394.0, 599.0, 760.0, 872.0, 932.0, 933.0, 879.0, 771.0, 614.0, 391.0, 113.0, 11.0, 0.0, 0.0, 0.0, 0.0]\n"
     ]
    }
   ],
   "source": [
    "#Air Temp CRN:\n",
    "with open('CRNH0203-2022-MO_Salem_10_W.txt') as f:\n",
    "    lst=[line.split()[13] for line in f]\n",
    "    #print(lst)\n",
    "    temp_crn_sal6=[]\n",
    "    for i in lst:\n",
    "        new=i.replace(',',\"\")\n",
    "        temp_crn_sal6.append(new)\n",
    "    temp_crn_sal6=[float(x) for x in temp_crn_sal6]\n",
    "    temp_crn_sal6=temp_crn_sal6[2788:2813]\n",
    "    print(temp_crn_sal6)\n",
    "    # print(temp_crn[2124])"
   ]
  },
  {
   "cell_type": "code",
   "execution_count": 457,
   "id": "38ad8303",
   "metadata": {},
   "outputs": [],
   "source": [
    "# difference6_sal = []\n",
    "\n",
    "# zip_object = zip(temp, temp_crn)\n",
    "# for temp_i, temp_crn_i in zip_object:\n",
    "#     difference6_sal.append(temp_i-temp_crn_i)\n",
    "\n",
    "# print(difference6_sal)"
   ]
  },
  {
   "cell_type": "markdown",
   "id": "a9ca1aca",
   "metadata": {},
   "source": [
    "<font size=\"3\">Batesville, AR: 0600 UTC (12:00 am CST) 01 March 2022-0600 UTC (12:00 am CST) 02 March 2022</font>"
   ]
  },
  {
   "cell_type": "code",
   "execution_count": 458,
   "id": "90b292da",
   "metadata": {},
   "outputs": [
    {
     "name": "stdout",
     "output_type": "stream",
     "text": [
      "[0.0, 0.0, 0.0, 0.0, 0.0, 0.0, 0.0, 76.4, 285.2, 505.0, 701.2, 862.0, 964.0, 1002.0, 970.0, 875.0, 728.0, 535.3, 319.9, 108.0, 0.0, 0.0, 0.0, 0.0, 0.0]\n"
     ]
    }
   ],
   "source": [
    "#1 hr hrrr:\n",
    "with open('hrrr_f01_Batesville_AR.txt') as f:\n",
    "    lst=[line.split()[3] for line in f]\n",
    "    temp_bat6=[]\n",
    "    for i in lst:\n",
    "        new=i.replace(',',\"\")\n",
    "        temp_bat6.append(new)\n",
    "    temp_bat6.pop(0)\n",
    "    temp_bat6=[float(x) for x in temp_bat6]\n",
    "    temp_bat6=temp_bat6[2788:2813]\n",
    "#     x = np.array(temp)\n",
    "#     temp = ma.masked_array(x, mask=[0, 0, 0, 0, 0,0,0,0,0,0,0,0,0,0,0,0,0,0,0,0,0,1,0,0,0])\n",
    "    #temp=temp[2015:2063]\n",
    "    print(temp_bat6)"
   ]
  },
  {
   "cell_type": "code",
   "execution_count": 459,
   "id": "67dc1ac6",
   "metadata": {},
   "outputs": [
    {
     "name": "stdout",
     "output_type": "stream",
     "text": [
      "[0.0, 0.0, 0.0, 0.0, 0.0, 0.0, 0.0, 15.0, 171.0, 385.0, 605.0, 779.0, 904.0, 970.0, 974.0, 921.0, 799.0, 636.0, 429.0, 151.0, 14.0, 0.0, 0.0, 0.0, 0.0]\n"
     ]
    }
   ],
   "source": [
    "#Air Temp CRN:\n",
    "with open('CRNH0203-2022-AR_Batesville_8_WNW.txt') as f:\n",
    "    lst=[line.split()[13] for line in f]\n",
    "    #print(lst)\n",
    "    temp_crn_bat6=[]\n",
    "    for i in lst:\n",
    "        new=i.replace(',',\"\")\n",
    "        temp_crn_bat6.append(new)\n",
    "    temp_crn_bat6=[float(x) for x in temp_crn_bat6]\n",
    "    temp_crn_bat6=temp_crn_bat6[2788:2813]\n",
    "#     y = np.array(temp_crn)\n",
    "#     temp_crn = ma.masked_array(y, mask=[0, 0, 0, 0, 0,0,0,0,0,0,0,0,0,0,0,0,0,0,0,0,0,1,0,0,0])\n",
    "    print(temp_crn_bat6)\n",
    "    #print(len(temp_crn))\n",
    "    # print(temp_crn[2124])"
   ]
  },
  {
   "cell_type": "code",
   "execution_count": 460,
   "id": "ea97b53d",
   "metadata": {},
   "outputs": [],
   "source": [
    "# difference6_bat = []\n",
    "\n",
    "# zip_object = zip(temp, temp_crn)\n",
    "# for temp_i, temp_crn_i in zip_object:\n",
    "#     difference6_bat.append(temp_i-temp_crn_i)\n",
    "\n",
    "# print(difference6_bat)"
   ]
  },
  {
   "cell_type": "markdown",
   "id": "5726dedb",
   "metadata": {},
   "source": [
    "<font size=\"3\">Lafayette, LA: 0600 UTC (12:00 am CST) 01 March 2022-0600 UTC (12:00 am CST) 02 March 2022</font>"
   ]
  },
  {
   "cell_type": "code",
   "execution_count": 461,
   "id": "4afdefd5",
   "metadata": {},
   "outputs": [
    {
     "name": "stdout",
     "output_type": "stream",
     "text": [
      "[0.0, 0.0, 0.0, 0.0, 0.0, 0.0, 0.0, 51.4, 230.2, 476.6, 713.1, 887.0, 999.0, 1045.0, 1016.0, 913.0, 753.0, 549.4, 319.3, 93.1, 0.0, 0.0, 0.0, 0.0, 0.0]\n"
     ]
    }
   ],
   "source": [
    "#1 hr hrrr:\n",
    "with open('hrrr_f01_Lafayette_LA.txt') as f:\n",
    "    lst=[line.split()[3] for line in f]\n",
    "    temp_laf6=[]\n",
    "    for i in lst:\n",
    "        new=i.replace(',',\"\")\n",
    "        temp_laf6.append(new)\n",
    "    temp_laf6.pop(0)\n",
    "    temp_laf6=[float(x) for x in temp_laf6]\n",
    "    temp_laf6=temp_laf6[2788:2813]\n",
    "    #temp=temp[2015:2063]\n",
    "    print(temp_laf6)\n",
    "    #print(len(temp))\n",
    "#full time period is [2015:2112]"
   ]
  },
  {
   "cell_type": "code",
   "execution_count": 462,
   "id": "f87af32e",
   "metadata": {},
   "outputs": [
    {
     "name": "stdout",
     "output_type": "stream",
     "text": [
      "[0.0, 0.0, 0.0, 0.0, 0.0, 0.0, 0.0, 11.0, 152.0, 379.0, 593.0, 769.0, 896.0, 964.0, 966.0, 906.0, 789.0, 625.0, 418.0, 196.0, 24.0, 0.0, 0.0, 0.0, 0.0]\n"
     ]
    }
   ],
   "source": [
    "#Air Temp CRN:\n",
    "with open('CRNH0203-2022-LA_Lafayette_13_SE.txt') as f:\n",
    "    lst=[line.split()[13] for line in f]\n",
    "    #print(lst)\n",
    "    temp_crn_laf6=[]\n",
    "    for i in lst:\n",
    "        new=i.replace(',',\"\")\n",
    "        temp_crn_laf6.append(new)\n",
    "    temp_crn_laf6=[float(x) for x in temp_crn_laf6]\n",
    "    temp_crn_laf6=temp_crn_laf6[2788:2813]\n",
    "    print(temp_crn_laf6)\n",
    "    #print(len(temp_crn))\n",
    "    # print(temp_crn[2124])"
   ]
  },
  {
   "cell_type": "code",
   "execution_count": 463,
   "id": "7b222157",
   "metadata": {},
   "outputs": [],
   "source": [
    "# difference6_laf = []\n",
    "\n",
    "# zip_object = zip(temp, temp_crn)\n",
    "# for temp_i, temp_crn_i in zip_object:\n",
    "#     difference6_laf.append(temp_i-temp_crn_i)\n",
    "\n",
    "# print(difference6_laf)"
   ]
  },
  {
   "cell_type": "markdown",
   "id": "de2bb1cb",
   "metadata": {},
   "source": [
    "<font size=\"3\">Monroe, LA: 0600 UTC (12:00 am CST) 01 March 2022-0600 UTC (12:00 am CST) 02 March 2022</font>"
   ]
  },
  {
   "cell_type": "code",
   "execution_count": 491,
   "id": "ebecba2f",
   "metadata": {},
   "outputs": [
    {
     "name": "stdout",
     "output_type": "stream",
     "text": [
      "[0.0, 0.0, 0.0, 0.0, 0.0, 0.0, 0.0, 56.7, 275.4, 502.7, 710.4, 878.0, 983.0, 1027.0, 1000.0, 906.0, 752.0, 550.9, 329.2, 106.6, 0.0, 0.0, 0.0, 0.0, 0.0]\n"
     ]
    }
   ],
   "source": [
    "#1 hr hrrr:\n",
    "with open('hrrr_f01_Monroe_LA.txt') as f:\n",
    "    lst=[line.split()[3] for line in f]\n",
    "    temp_mon6=[]\n",
    "    for i in lst:\n",
    "        new=i.replace(',',\"\")\n",
    "        temp_mon6.append(new)\n",
    "    temp_mon6.pop(0)\n",
    "    temp_mon6=[float(x) for x in temp_mon6]\n",
    "    temp_mon6=temp_mon6[2788:2813]\n",
    "    #temp=temp[2015:2063]\n",
    "    print(temp_mon6)\n",
    "    #print(len(temp))\n",
    "#full time period is [2015:2112]"
   ]
  },
  {
   "cell_type": "code",
   "execution_count": 492,
   "id": "46f2d051",
   "metadata": {},
   "outputs": [
    {
     "name": "stdout",
     "output_type": "stream",
     "text": [
      "[0.0, 0.0, 0.0, 0.0, 0.0, 0.0, 0.0, 8.0, 112.0, 378.0, 598.0, 783.0, 915.0, 986.0, 990.0, 923.0, 796.0, 613.0, 221.0, 33.0, 13.0, 0.0, 0.0, 0.0, 0.0]\n"
     ]
    }
   ],
   "source": [
    "#Air Temp CRN:\n",
    "with open('CRNH0203-2022-LA_Monroe_26_N.txt') as f:\n",
    "    lst=[line.split()[13] for line in f]\n",
    "    #print(lst)\n",
    "    temp_crn_mon6=[]\n",
    "    for i in lst:\n",
    "        new=i.replace(',',\"\")\n",
    "        temp_crn_mon6.append(new)\n",
    "    temp_crn_mon6=[float(x) for x in temp_crn_mon6]\n",
    "    temp_crn_mon6=temp_crn_mon6[2788:2813]\n",
    "    print(temp_crn_mon6)\n",
    "    #print(len(temp_crn))\n",
    "    # print(temp_crn[2124])"
   ]
  },
  {
   "cell_type": "code",
   "execution_count": 493,
   "id": "7f448702",
   "metadata": {},
   "outputs": [],
   "source": [
    "# difference6_mon = []\n",
    "\n",
    "# zip_object = zip(temp, temp_crn)\n",
    "# for temp_i, temp_crn_i in zip_object:\n",
    "#     difference6_mon.append(temp_i-temp_crn_i)\n",
    "\n",
    "# print(difference6_mon)"
   ]
  },
  {
   "cell_type": "markdown",
   "id": "49e00369",
   "metadata": {},
   "source": [
    "<font size=\"3\">Holly Springs, MS: 0600 UTC (12:00 am CST) 01 March 2022-0600 UTC (12:00 am CST) 02 March 2022</font>"
   ]
  },
  {
   "cell_type": "code",
   "execution_count": 467,
   "id": "a9302d89",
   "metadata": {},
   "outputs": [
    {
     "name": "stdout",
     "output_type": "stream",
     "text": [
      "[0.0, 0.0, 0.0, 0.0, 0.0, 0.0, 0.0, 108.9, 332.2, 557.9, 755.4, 907.0, 1000.0, 1026.0, 988.0, 881.0, 719.0, 517.5, 291.7, 78.4, 0.0, 0.0, 0.0, 0.0, 0.0]\n"
     ]
    }
   ],
   "source": [
    "#1 hr hrrr:\n",
    "with open('hrrr_f01_Holly Springs_MS.txt') as f:\n",
    "    lst=[line.split()[3] for line in f]\n",
    "    temp_hol6=[]\n",
    "    for i in lst:\n",
    "        new=i.replace(',',\"\")\n",
    "        temp_hol6.append(new)\n",
    "    temp_hol6.pop(0)\n",
    "    temp_hol6=[float(x) for x in temp_hol6]\n",
    "    temp_hol6=temp_hol6[2788:2813]\n",
    "    #temp=temp[2015:2063]\n",
    "    print(temp_hol6)\n",
    "    #print(len(temp))\n",
    "#full time period is [2015:2112]"
   ]
  },
  {
   "cell_type": "code",
   "execution_count": 468,
   "id": "136bd6ce",
   "metadata": {},
   "outputs": [
    {
     "name": "stdout",
     "output_type": "stream",
     "text": [
      "[0.0, 0.0, 0.0, 0.0, 0.0, 0.0, 0.0, 20.0, 234.0, 466.0, 675.0, 833.0, 927.0, 974.0, 954.0, 875.0, 740.0, 558.0, 345.0, 133.0, 4.0, 0.0, 0.0, 0.0, 0.0]\n"
     ]
    }
   ],
   "source": [
    "#Air Temp CRN:\n",
    "with open('CRNH0203-2022-MS_Holly_Springs_4_N.txt') as f:\n",
    "    lst=[line.split()[13] for line in f]\n",
    "    #print(lst)\n",
    "    temp_crn_hol6=[]\n",
    "    for i in lst:\n",
    "        new=i.replace(',',\"\")\n",
    "        temp_crn_hol6.append(new)\n",
    "    temp_crn_hol6=[float(x) for x in temp_crn_hol6]\n",
    "    temp_crn_hol6=temp_crn_hol6[2788:2813]\n",
    "    print(temp_crn_hol6)\n",
    "    #print(len(temp_crn))\n",
    "    # print(temp_crn[2124])"
   ]
  },
  {
   "cell_type": "code",
   "execution_count": 469,
   "id": "19a13a82",
   "metadata": {},
   "outputs": [],
   "source": [
    "# difference6_hol = []\n",
    "\n",
    "# zip_object = zip(temp, temp_crn)\n",
    "# for temp_i, temp_crn_i in zip_object:\n",
    "#     difference6_hol.append(temp_i-temp_crn_i)\n",
    "\n",
    "# print(difference6_hol)"
   ]
  },
  {
   "cell_type": "markdown",
   "id": "4753a3b0",
   "metadata": {},
   "source": [
    "<font size=\"3\">Newton, MS: 0600 UTC (12:00 am CST) 01 March 2022-0600 UTC (12:00 am CST) 02 March 2022</font>"
   ]
  },
  {
   "cell_type": "code",
   "execution_count": 470,
   "id": "68f58603",
   "metadata": {},
   "outputs": [
    {
     "name": "stdout",
     "output_type": "stream",
     "text": [
      "[0.0, 0.0, 0.0, 0.0, 0.0, 0.0, 0.0, 104.2, 332.6, 565.2, 771.4, 931.0, 1023.0, 1053.0, 1005.0, 892.0, 729.0, 517.1, 285.3, 66.2, 0.0, 0.0, 0.0, 0.0, 0.0]\n"
     ]
    }
   ],
   "source": [
    "#1 hr hrrr:\n",
    "with open('hrrr_f01_Newton_MS.txt') as f:\n",
    "    lst=[line.split()[3] for line in f]\n",
    "    temp_new6=[]\n",
    "    for i in lst:\n",
    "        new=i.replace(',',\"\")\n",
    "        temp_new6.append(new)\n",
    "    temp_new6.pop(0)\n",
    "    temp_new6=[float(x) for x in temp_new6]\n",
    "    temp_new6=temp_new6[2788:2813]\n",
    "    #temp=temp[2015:2063]\n",
    "    print(temp_new6)\n",
    "    #print(len(temp))\n",
    "#full time period is [2015:2112]"
   ]
  },
  {
   "cell_type": "code",
   "execution_count": 471,
   "id": "4689695e",
   "metadata": {},
   "outputs": [
    {
     "name": "stdout",
     "output_type": "stream",
     "text": [
      "[0.0, 0.0, 0.0, 0.0, 0.0, 0.0, 0.0, 22.0, 214.0, 439.0, 646.0, 815.0, 929.0, 985.0, 978.0, 908.0, 778.0, 604.0, 390.0, 167.0, 13.0, 0.0, 0.0, 0.0, 0.0]\n"
     ]
    }
   ],
   "source": [
    "#Air Temp CRN:\n",
    "with open('CRNH0203-2022-MS_Newton_5_ENE.txt') as f:\n",
    "    lst=[line.split()[13] for line in f]\n",
    "    #print(lst)\n",
    "    temp_crn_new6=[]\n",
    "    for i in lst:\n",
    "        new=i.replace(',',\"\")\n",
    "        temp_crn_new6.append(new)\n",
    "    temp_crn_new6=[float(x) for x in temp_crn_new6]\n",
    "    temp_crn_new6=temp_crn_new6[2788:2813]\n",
    "    print(temp_crn_new6)\n",
    "    #print(len(temp_crn))\n",
    "    # print(temp_crn[2124])"
   ]
  },
  {
   "cell_type": "code",
   "execution_count": 472,
   "id": "d00b8a13",
   "metadata": {},
   "outputs": [],
   "source": [
    "# difference6_new = []\n",
    "\n",
    "# zip_object = zip(temp, temp_crn)\n",
    "# for temp_i, temp_crn_i in zip_object:\n",
    "#     difference6_new.append(temp_i-temp_crn_i)\n",
    "\n",
    "# print(difference6_new)"
   ]
  },
  {
   "cell_type": "markdown",
   "id": "f6dc6918",
   "metadata": {},
   "source": [
    "<font size=\"3\">Gainesville, AL: 0600 UTC (12:00 am CST) 01 March 2022-0600 UTC (12:00 am CST) 02 March 2022</font>"
   ]
  },
  {
   "cell_type": "code",
   "execution_count": 473,
   "id": "853a5cd2",
   "metadata": {},
   "outputs": [],
   "source": [
    "# #1 hr hrrr:\n",
    "# with open('hrrr_f01_Gainesville_AL.txt') as f:\n",
    "#     lst=[line.split()[3] for line in f]\n",
    "#     temp=[]\n",
    "#     for i in lst:\n",
    "#         new=i.replace(',',\"\")\n",
    "#         temp.append(new)\n",
    "#     temp.pop(0)\n",
    "#     temp=[float(x) for x in temp]\n",
    "#     temp=temp[2788:2813]\n",
    "#     #temp=temp[2015:2063]\n",
    "#     print(temp)\n",
    "#     #print(len(temp))\n",
    "# #full time period is [2015:2112]"
   ]
  },
  {
   "cell_type": "code",
   "execution_count": 474,
   "id": "12cd5b43",
   "metadata": {},
   "outputs": [],
   "source": [
    "# #Air Temp CRN:\n",
    "# with open('CRNH0203-2022-AL_Gainesville_2_NE.txt') as f:\n",
    "#     lst=[line.split()[13] for line in f]\n",
    "#     #print(lst)\n",
    "#     temp_crn=[]\n",
    "#     for i in lst:\n",
    "#         new=i.replace(',',\"\")\n",
    "#         temp_crn.append(new)\n",
    "#     temp_crn=[float(x) for x in temp_crn]\n",
    "#     temp_crn=temp_crn[2788:2813]\n",
    "#     print(temp_crn)\n",
    "#     #print(len(temp_crn))\n",
    "#     # print(temp_crn[2124])"
   ]
  },
  {
   "cell_type": "code",
   "execution_count": 475,
   "id": "182dac80",
   "metadata": {},
   "outputs": [],
   "source": [
    "# difference6_gai = []\n",
    "\n",
    "# zip_object = zip(temp, temp_crn)\n",
    "# for temp_i, temp_crn_i in zip_object:\n",
    "#     difference6_gai.append(temp_i-temp_crn_i)\n",
    "\n",
    "# print(difference6_gai)"
   ]
  },
  {
   "cell_type": "markdown",
   "id": "dca2fd19",
   "metadata": {},
   "source": [
    "<font size=\"3\">Fairhope, AL: 0600 UTC (12:00 am CST) 01 March 2022-0600 UTC (12:00 am CST) 02 March 2022</font>"
   ]
  },
  {
   "cell_type": "code",
   "execution_count": 476,
   "id": "a7ac678b",
   "metadata": {},
   "outputs": [
    {
     "name": "stdout",
     "output_type": "stream",
     "text": [
      "[0.0, 0.0, 0.0, 0.0, 0.0, 0.0, 0.0, 111.2, 339.8, 573.2, 779.2, 935.0, 1023.0, 1040.0, 986.0, 875.0, 708.0, 490.7, 253.3, 42.8, 0.0, 0.0, 0.0, 0.0, 0.0]\n"
     ]
    }
   ],
   "source": [
    "#1 hr hrrr:\n",
    "with open('hrrr_f01_Fairhope_AL.txt') as f:\n",
    "    lst=[line.split()[3] for line in f]\n",
    "    temp_fai6=[]\n",
    "    for i in lst:\n",
    "        new=i.replace(',',\"\")\n",
    "        temp_fai6.append(new)\n",
    "    temp_fai6.pop(0)\n",
    "    temp_fai6=[float(x) for x in temp_fai6]\n",
    "    temp_fai6=temp_fai6[2788:2813]\n",
    "    #temp=temp[2015:2063]\n",
    "    print(temp_fai6)\n",
    "    #print(len(temp))\n",
    "#full time period is [2015:2112]"
   ]
  },
  {
   "cell_type": "code",
   "execution_count": 477,
   "id": "278d8179",
   "metadata": {},
   "outputs": [
    {
     "name": "stdout",
     "output_type": "stream",
     "text": [
      "[0.0, 0.0, 0.0, 0.0, 0.0, 0.0, 0.0, 19.0, 205.0, 423.0, 627.0, 798.0, 876.0, 963.0, 958.0, 886.0, 756.0, 571.0, 338.0, 138.0, 5.0, 0.0, 0.0, 0.0, 0.0]\n"
     ]
    }
   ],
   "source": [
    "#Air Temp CRN:\n",
    "with open('CRNH0203-2022-AL_Fairhope_3_NE.txt') as f:\n",
    "    lst=[line.split()[13] for line in f]\n",
    "    #print(lst)\n",
    "    temp_crn_fai6=[]\n",
    "    for i in lst:\n",
    "        new=i.replace(',',\"\")\n",
    "        temp_crn_fai6.append(new)\n",
    "    temp_crn_fai6=[float(x) for x in temp_crn_fai6]\n",
    "    temp_crn_fai6=temp_crn_fai6[2788:2813]\n",
    "    print(temp_crn_fai6)\n",
    "    #print(len(temp_crn))\n",
    "    # print(temp_crn[2124])"
   ]
  },
  {
   "cell_type": "code",
   "execution_count": 478,
   "id": "c79c3a66",
   "metadata": {},
   "outputs": [],
   "source": [
    "# difference6_fai = []\n",
    "\n",
    "# zip_object = zip(temp, temp_crn)\n",
    "# for temp_i, temp_crn_i in zip_object:\n",
    "#     difference6_fai.append(temp_i-temp_crn_i)\n",
    "\n",
    "# print(difference6_fai)"
   ]
  },
  {
   "cell_type": "markdown",
   "id": "142d4e9c",
   "metadata": {},
   "source": [
    "<font size=\"3\">**Selma, AL: 0600 UTC (12:00 am CST) 01 March 2022-0600 UTC (12:00 am CST) 02 March 2022</font>"
   ]
  },
  {
   "cell_type": "code",
   "execution_count": 479,
   "id": "96d329b9",
   "metadata": {},
   "outputs": [
    {
     "name": "stdout",
     "output_type": "stream",
     "text": [
      "[0.0, 0.0, 0.0, 0.0, 0.0, 0.0, 0.0, 131.3, 360.3, 588.5, 785.5, 934.0, 1021.0, 1039.0, 989.0, 869.0, 694.0, 479.1, 247.9, 41.5, 0.0, 0.0, 0.0, 0.0, 0.0]\n",
      "[0.0, 0.0, 0.0, 0.0, 0.0, 0.0, 0.0, 34.0, 232.0, 463.0, 671.0, 830.0, 927.0, 969.0, 952.0, 872.0, 741.0, 561.0, 334.0, 26.0, 0.0, 0.0, 0.0, 0.0, 0.0]\n"
     ]
    }
   ],
   "source": [
    "#1 hr hrrr:\n",
    "import numpy as np\n",
    "import numpy.ma as ma\n",
    "with open('hrrr_f01_Selma_AL.txt') as f:\n",
    "    lst=[line.split()[3] for line in f]\n",
    "    temp_sel6=[]\n",
    "    for i in lst:\n",
    "        new=i.replace(',',\"\")\n",
    "        temp_sel6.append(new)\n",
    "    temp_sel6.pop(0)\n",
    "    temp_sel6=[float(x) for x in temp_sel6]\n",
    "    temp_sel6=temp_sel6[2788:2813]\n",
    "\n",
    "#     x = np.array(temp)\n",
    "#     temp = ma.masked_array(x, mask=[0, 0, 0, 0, 0,0,0,0,0,0,0,0,0,0,0,0,0,1,1,1,1,0,0,0,0])\n",
    "    #print(temp)\n",
    "#Air Temp CRN:\n",
    "with open('CRNH0203-2022-AL_Selma_13_WNW.txt') as f:\n",
    "    lst=[line.split()[13] for line in f]\n",
    "    #print(lst)\n",
    "    temp_crn_sel6=[]\n",
    "    for i in lst:\n",
    "        new=i.replace(',',\"\")\n",
    "        temp_crn_sel6.append(new)\n",
    "    temp_crn_sel6=[float(x) for x in temp_crn_sel6]\n",
    "    temp_crn_sel6=temp_crn_sel6[2788:2813]\n",
    "#     y = np.array(temp_crn)\n",
    "#     temp_crn = ma.masked_array(y, mask=[0, 0, 0, 0, 0,0,0,0,0,0,0,0,0,0,0,0,0,1,1,1,1,0,0,0,0])\n",
    "    print(temp_sel6)\n",
    "    #print(len(temp))\n",
    "    print(temp_crn_sel6)\n",
    "    #print(len(temp_crn))\n",
    "# #full time period is [2015:2112]\n",
    "# difference6_sel = []\n",
    "\n",
    "# zip_object = zip(temp, temp_crn)\n",
    "# for temp_i, temp_crn_i in zip_object:\n",
    "#     difference6_sel.append(temp_i-temp_crn_i)\n",
    "\n",
    "# print(difference6_sel)\n",
    "# #print(len(difference3_sel))"
   ]
  },
  {
   "cell_type": "markdown",
   "id": "36c4d6a8",
   "metadata": {},
   "source": [
    "<font size=\"3\">Bowling Green, KY: 0600 UTC (12:00 am CST) 01 March 2022-0600 UTC (12:00 am CST) 02 March 2022</font>"
   ]
  },
  {
   "cell_type": "code",
   "execution_count": 480,
   "id": "d83d7c4d",
   "metadata": {},
   "outputs": [
    {
     "name": "stdout",
     "output_type": "stream",
     "text": [
      "[0.0, 0.0, 0.0, 0.0, 0.0, 0.0, 0.0, 156.7, 374.6, 582.1, 767.3, 898.0, 976.0, 993.0, 942.0, 824.0, 657.0, 454.8, 241.0, 47.7, 0.0, 0.0, 0.0, 0.0, 0.0]\n"
     ]
    }
   ],
   "source": [
    "#1 hr hrrr:\n",
    "with open('hrrr_f01_Bowling Green_KY.txt') as f:\n",
    "    lst=[line.split()[3] for line in f]\n",
    "    temp_bow6=[]\n",
    "    for i in lst:\n",
    "        new=i.replace(',',\"\")\n",
    "        temp_bow6.append(new)\n",
    "    temp_bow6.pop(0)\n",
    "    temp_bow6=[float(x) for x in temp_bow6]\n",
    "    temp_bow6=temp_bow6[2788:2813]\n",
    "    #temp=temp[2015:2063]\n",
    "    print(temp_bow6)\n",
    "    #print(len(temp))\n",
    "#full time period is [2015:2112]"
   ]
  },
  {
   "cell_type": "code",
   "execution_count": 481,
   "id": "8f795cb5",
   "metadata": {},
   "outputs": [
    {
     "name": "stdout",
     "output_type": "stream",
     "text": [
      "[0.0, 0.0, 0.0, 0.0, 0.0, 0.0, 0.0, 52.0, 232.0, 431.0, 618.0, 775.0, 883.0, 932.0, 912.0, 828.0, 689.0, 515.0, 318.0, 98.0, 4.0, 0.0, 0.0, 0.0, 0.0]\n"
     ]
    }
   ],
   "source": [
    "#Air Temp CRN:\n",
    "with open('CRNH0203-2022-KY_Bowling_Green_21_NNE.txt') as f:\n",
    "    lst=[line.split()[13] for line in f]\n",
    "    #print(lst)\n",
    "    temp_crn_bow6=[]\n",
    "    for i in lst:\n",
    "        new=i.replace(',',\"\")\n",
    "        temp_crn_bow6.append(new)\n",
    "    temp_crn_bow6=[float(x) for x in temp_crn_bow6]\n",
    "    temp_crn_bow6=temp_crn_bow6[2788:2813]\n",
    "    print(temp_crn_bow6)\n",
    "    #print(len(temp_crn))\n",
    "    # print(temp_crn[2124])"
   ]
  },
  {
   "cell_type": "code",
   "execution_count": 482,
   "id": "e091d5ac",
   "metadata": {},
   "outputs": [],
   "source": [
    "# difference6_bow = []\n",
    "\n",
    "# zip_object = zip(temp, temp_crn)\n",
    "# for temp_i, temp_crn_i in zip_object:\n",
    "#     difference6_bow.append(temp_i-temp_crn_i)\n",
    "\n",
    "# print(difference6_bow)"
   ]
  },
  {
   "cell_type": "markdown",
   "id": "f806c48f",
   "metadata": {},
   "source": [
    "<font size=\"3\">Gadsden, AL: 0600 UTC (12:00 am CST) 01 March 2022-0600 UTC (12:00 am CST) 02 March 2022</font>"
   ]
  },
  {
   "cell_type": "code",
   "execution_count": 483,
   "id": "8d69cb25",
   "metadata": {},
   "outputs": [
    {
     "name": "stdout",
     "output_type": "stream",
     "text": [
      "[0.0, 0.0, 0.0, 0.0, 0.0, 0.0, 0.0, 162.1, 395.9, 621.4, 811.7, 953.0, 1032.0, 1047.0, 987.0, 865.0, 688.0, 474.4, 243.1, 38.1, 0.0, 0.0, 0.0, 0.0, 0.0]\n"
     ]
    }
   ],
   "source": [
    "#1 hr hrrr:\n",
    "with open('hrrr_f01_Gadsden_AL.txt') as f:\n",
    "    lst=[line.split()[3] for line in f]\n",
    "    temp_gad6=[]\n",
    "    for i in lst:\n",
    "        new=i.replace(',',\"\")\n",
    "        temp_gad6.append(new)\n",
    "    temp_gad6.pop(0)\n",
    "    temp_gad6=[float(x) for x in temp_gad6]\n",
    "    temp_gad6=temp_gad6[2788:2813]\n",
    "#     x = np.array(temp)\n",
    "#     temp = ma.masked_array(x, mask=[0, 0, 0, 0, 0,0,0,0,1,0,0,0,0,0,0,0,0,0,0,0,0,0,0,0,0])\n",
    "    #temp=temp[2015:2063]\n",
    "    print(temp_gad6)\n",
    "    #print(len(temp))\n",
    "#full time period is [2015:2112]"
   ]
  },
  {
   "cell_type": "code",
   "execution_count": 484,
   "id": "b2389c35",
   "metadata": {},
   "outputs": [
    {
     "name": "stdout",
     "output_type": "stream",
     "text": [
      "[0.0, 0.0, 0.0, 0.0, 0.0, 0.0, 0.0, 63.0, 261.0, 486.0, 689.0, 845.0, 942.0, 972.0, 956.0, 872.0, 733.0, 548.0, 331.0, 119.0, 4.0, 0.0, 0.0, 0.0, 0.0]\n"
     ]
    }
   ],
   "source": [
    "#Air Temp CRN:\n",
    "with open('CRNH0203-2022-AL_Gadsden_19_N.txt') as f:\n",
    "    lst=[line.split()[13] for line in f]\n",
    "    #print(lst)\n",
    "    temp_crn_gad6=[]\n",
    "    for i in lst:\n",
    "        new=i.replace(',',\"\")\n",
    "        temp_crn_gad6.append(new)\n",
    "    temp_crn_gad6=[float(x) for x in temp_crn_gad6]\n",
    "    temp_crn_gad6=temp_crn_gad6[2788:2813]\n",
    "#     y = np.array(temp_crn)\n",
    "#     temp_crn = ma.masked_array(y, mask=[0, 0, 0, 0, 0,0,0,0,1,0,0,0,0,0,0,0,0,0,0,0,0,0,0,0,0])\n",
    "    print(temp_crn_gad6)\n",
    "    #print(len(temp_crn))\n",
    "    # print(temp_crn[2124])"
   ]
  },
  {
   "cell_type": "code",
   "execution_count": 485,
   "id": "8b6d3e05",
   "metadata": {},
   "outputs": [],
   "source": [
    "# difference6_gad = []\n",
    "\n",
    "# zip_object = zip(temp, temp_crn)\n",
    "# for temp_i, temp_crn_i in zip_object:\n",
    "#     difference6_gad.append(temp_i-temp_crn_i)\n",
    "\n",
    "# print(difference6_gad)"
   ]
  },
  {
   "cell_type": "markdown",
   "id": "a0cf3d12",
   "metadata": {},
   "source": [
    "<font size=\"3\">Newton, GA: 0600 UTC (12:00 am CST) 01 March 2022-0600 UTC (12:00 am CST) 02 March 2022</font>"
   ]
  },
  {
   "cell_type": "code",
   "execution_count": 486,
   "id": "3fd04e58",
   "metadata": {},
   "outputs": [
    {
     "name": "stdout",
     "output_type": "stream",
     "text": [
      "[0.0, 0.0, 0.0, 0.0, 0.0, 0.0, 0.0, 155.5, 379.2, 609.3, 801.2, 943.0, 1018.0, 1022.0, 960.0, 834.0, 653.0, 434.2, 202.6, 13.6, 0.0, 0.0, 0.0, 0.0, 0.0]\n"
     ]
    }
   ],
   "source": [
    "#1 hr hrrr:\n",
    "with open('hrrr_f01_Newton_GA.txt') as f:\n",
    "    lst=[line.split()[3] for line in f]\n",
    "    temp_newt6=[]\n",
    "    for i in lst:\n",
    "        new=i.replace(',',\"\")\n",
    "        temp_newt6.append(new)\n",
    "    temp_newt6.pop(0)\n",
    "    temp_newt6=[float(x) for x in temp_newt6]\n",
    "    temp_newt6=temp_newt6[2788:2813]\n",
    "    #temp=temp[2015:2063]\n",
    "    print(temp_newt6)\n",
    "    #print(len(temp))\n",
    "#full time period is [2015:2112]"
   ]
  },
  {
   "cell_type": "code",
   "execution_count": 487,
   "id": "727d988e",
   "metadata": {},
   "outputs": [
    {
     "name": "stdout",
     "output_type": "stream",
     "text": [
      "[0.0, 0.0, 0.0, 0.0, 0.0, 0.0, 0.0, 0.0, 53.0, 257.0, 486.0, 686.0, 835.0, 931.0, 967.0, 936.0, 849.0, 710.0, 514.0, 281.0, 73.0, 0.0, 0.0, 0.0, 0.0]\n"
     ]
    }
   ],
   "source": [
    "#Air Temp CRN:\n",
    "with open('CRNH0203-2022-GA_Newton_11_SW.txt') as f:\n",
    "    lst=[line.split()[13] for line in f]\n",
    "    #print(lst)\n",
    "    temp_crn_newt6=[]\n",
    "    for i in lst:\n",
    "        new=i.replace(',',\"\")\n",
    "        temp_crn_newt6.append(new)\n",
    "    temp_crn_newt6=[float(x) for x in temp_crn_newt6]\n",
    "    temp_crn_newt6=temp_crn_newt6[2787:2812]\n",
    "    print(temp_crn_newt6)\n",
    "    #print(len(temp_crn))\n",
    "    # print(temp_crn[2124])"
   ]
  },
  {
   "cell_type": "code",
   "execution_count": 488,
   "id": "53f1a23a",
   "metadata": {},
   "outputs": [],
   "source": [
    "# difference6_newt = []\n",
    "\n",
    "# zip_object = zip(temp, temp_crn)\n",
    "# for temp_i, temp_crn_i in zip_object:\n",
    "#     difference6_newt.append(temp_i-temp_crn_i)\n",
    "\n",
    "# print(difference6_newt)"
   ]
  },
  {
   "cell_type": "code",
   "execution_count": 243,
   "id": "8a134c48",
   "metadata": {},
   "outputs": [
    {
     "name": "stdout",
     "output_type": "stream",
     "text": [
      "25\n"
     ]
    }
   ],
   "source": [
    "hour=[6,7,8,9,10,11,12,13,14,15,16,17,18,19,20,21,22,23,0,1,2,3,4,5,6]\n",
    "print(len(hour))"
   ]
  },
  {
   "cell_type": "code",
   "execution_count": 244,
   "id": "45def68f",
   "metadata": {},
   "outputs": [
    {
     "name": "stdout",
     "output_type": "stream",
     "text": [
      "range(0, 25)\n"
     ]
    }
   ],
   "source": [
    "xs = range(len(hour))\n",
    "print(xs)"
   ]
  },
  {
   "cell_type": "code",
   "execution_count": 287,
   "id": "d5fd370b",
   "metadata": {},
   "outputs": [
    {
     "name": "stdout",
     "output_type": "stream",
     "text": [
      "[0.00000000e+00 0.00000000e+00 0.00000000e+00 0.00000000e+00\n",
      " 0.00000000e+00 0.00000000e+00 0.00000000e+00 7.05090909e+01\n",
      " 2.83354545e+02 4.98109091e+02 6.65454545e+02 7.91181818e+02\n",
      " 8.34500000e+02 8.09045455e+02 7.16109091e+02 5.59545455e+02\n",
      " 3.55945455e+02 1.37045455e+02 3.81818182e-01 0.00000000e+00\n",
      " 0.00000000e+00 0.00000000e+00 0.00000000e+00 0.00000000e+00\n",
      " 0.00000000e+00]\n",
      "[  0.           0.           0.           0.           0.\n",
      "   0.           0.          12.09090909 144.72727273 364.45454545\n",
      " 543.54545455 681.18181818 762.09090909 786.09090909 735.\n",
      " 622.         454.72727273 241.27272727  51.81818182   0.90909091\n",
      "   0.           0.           0.           0.           0.        ]\n"
     ]
    },
    {
     "data": {
      "text/plain": [
       "25"
      ]
     },
     "execution_count": 287,
     "metadata": {},
     "output_type": "execute_result"
    }
   ],
   "source": [
    "c1 = np.array([temp_sal1,temp_bat1,temp_laf1,temp_mon1,temp_hol1,temp_new1,temp_fai1,temp_sel1,temp_bow1,temp_gad1,temp_newt1])\n",
    "c1=np.nanmean(c1, axis=0)\n",
    "print(c1)\n",
    "len(c1)\n",
    "\n",
    "b1 = np.array([temp_crn_sal1,temp_crn_bat1,temp_crn_laf1,temp_crn_mon1,temp_crn_hol1,temp_crn_new1,temp_crn_fai1,temp_crn_sel1,temp_crn_bow1,temp_crn_gad1,temp_crn_newt1])\n",
    "b1=np.nanmean(b1, axis=0)\n",
    "print(b1)\n",
    "len(b1)"
   ]
  },
  {
   "cell_type": "code",
   "execution_count": 291,
   "id": "7d6e3e43",
   "metadata": {},
   "outputs": [
    {
     "data": {
      "image/png": "[encoded data removed]",
      "text/plain": [
       "<Figure size 792x396 with 1 Axes>"
      ]
     },
     "metadata": {},
     "output_type": "display_data"
    }
   ],
   "source": [
    "plt.style.use('seaborn-whitegrid')\n",
    "plt.rcParams[\"figure.figsize\"] = [11.00, 5.50]\n",
    "plt.rcParams[\"figure.autolayout\"] = True\n",
    "plt.yticks(np.arange(-0, 1100, 100.0))\n",
    "plt.ylim(-0, 1000)\n",
    "# c[6]=None\n",
    "# b[6]=None\n",
    "\n",
    "plt.plot(xs,c1,c=\"b\", marker='o')\n",
    "plt.plot(xs,b1,c=\"orange\", marker='o')\n",
    "# c[6]=None\n",
    "# b[6]=None\n",
    "\n",
    "plt.title(\"1-hr Avg. MBE All Stations\")\n",
    "plt.xlabel(\"UTC Hour\")\n",
    "plt.ylabel(\"MBE Incoming Radiation (W/m^2)\")\n",
    "#plt.plot(hour,c)\n",
    "#plt.errorbar(hour,c,yerr=b,ecolor='r',elinewidth=5,fmt='s',color='k')\n",
    "#plt.grid()\n",
    "plt.xticks(xs, hour)\n",
    "plt.show()\n",
    "#plt.axvspan(-4, 4, color='green', alpha=0.2, lw=0)"
   ]
  },
  {
   "cell_type": "code",
   "execution_count": 332,
   "id": "3931d44b",
   "metadata": {},
   "outputs": [
    {
     "name": "stdout",
     "output_type": "stream",
     "text": [
      "[  0.           0.           0.           0.           0.\n",
      "   0.           0.         133.20909091 356.07272727 570.08181818\n",
      " 740.23636364 850.05454545 891.18181818 861.         760.09090909\n",
      " 599.80909091 393.14545455 167.34545455   3.81818182   0.\n",
      "   0.           0.           0.           0.           0.        ]\n",
      "[  0.           0.           0.           0.           0.\n",
      "   0.           0.          33.36363636 216.09090909 426.72727273\n",
      " 614.54545455 759.36363636 831.36363636 837.54545455 778.81818182\n",
      " 658.72727273 487.27272727 275.          73.27272727   3.\n",
      "   0.           0.           0.           0.           0.        ]\n"
     ]
    }
   ],
   "source": [
    "c2 = np.array([temp_sal2,temp_bat2,temp_laf2,temp_mon2,temp_hol2,temp_new2,temp_fai2,temp_sel2,temp_bow2,temp_gad2,temp_newt2])\n",
    "c2=np.nanmean(c2, axis=0)\n",
    "print(c2)\n",
    "\n",
    "\n",
    "b2 = np.array([temp_crn_sal2,temp_crn_bat2,temp_crn_laf2,temp_crn_mon2,temp_crn_hol2,temp_crn_new2,temp_crn_fai2,temp_crn_sel2,temp_crn_bow2,temp_crn_gad2,temp_crn_newt2])\n",
    "b2=np.nanmean(b2, axis=0)\n",
    "print(b2)"
   ]
  },
  {
   "cell_type": "code",
   "execution_count": 333,
   "id": "4c8ac8a3",
   "metadata": {},
   "outputs": [
    {
     "data": {
      "image/png": "[encoded data removed]",
      "text/plain": [
       "<Figure size 792x396 with 1 Axes>"
      ]
     },
     "metadata": {},
     "output_type": "display_data"
    }
   ],
   "source": [
    "plt.style.use('seaborn-whitegrid')\n",
    "plt.rcParams[\"figure.figsize\"] = [11.00, 5.50]\n",
    "plt.rcParams[\"figure.autolayout\"] = True\n",
    "plt.yticks(np.arange(-0, 1100, 100.0))\n",
    "plt.ylim(-0, 1000)\n",
    "# c[6]=None\n",
    "# b[6]=None\n",
    "\n",
    "plt.plot(xs,c2,c=\"r\", marker='o')\n",
    "plt.plot(xs,b2,c=\"orange\", marker='o')\n",
    "# c[6]=None\n",
    "# b[6]=None\n",
    "\n",
    "plt.title(\"1-hr Avg. MBE All Stations\")\n",
    "plt.xlabel(\"UTC Hour\")\n",
    "plt.ylabel(\"MBE Incoming Radiation (W/m^2)\")\n",
    "#plt.plot(hour,c)\n",
    "#plt.errorbar(hour,c,yerr=b,ecolor='r',elinewidth=5,fmt='s',color='k')\n",
    "#plt.grid()\n",
    "plt.xticks(xs, hour)\n",
    "plt.show()\n",
    "#plt.axvspan(-4, 4, color='green', alpha=0.2, lw=0)"
   ]
  },
  {
   "cell_type": "code",
   "execution_count": 374,
   "id": "e7aee5e0",
   "metadata": {},
   "outputs": [
    {
     "name": "stdout",
     "output_type": "stream",
     "text": [
      "[  0.           0.           0.           0.           0.\n",
      "   0.           0.           0.         157.43636364 388.81818182\n",
      " 600.86363636 768.3        876.26363636 917.63636364 886.09090909\n",
      " 786.54545455 625.27272727 418.59090909 190.56363636  11.09090909\n",
      "   0.           0.           0.           0.           0.        ]\n",
      "[0.00000000e+00 0.00000000e+00 0.00000000e+00 0.00000000e+00\n",
      " 0.00000000e+00 0.00000000e+00 0.00000000e+00 9.09090909e-02\n",
      " 5.56363636e+01 2.50454545e+02 4.68181818e+02 6.46363636e+02\n",
      " 7.78545455e+02 8.55636364e+02 8.55545455e+02 8.01909091e+02\n",
      " 6.79545455e+02 4.96727273e+02 2.85909091e+02 8.09090909e+01\n",
      " 4.27272727e+00 0.00000000e+00 0.00000000e+00 0.00000000e+00\n",
      " 0.00000000e+00]\n"
     ]
    }
   ],
   "source": [
    "c3= np.array([temp_sal3,temp_bat3,temp_laf3,temp_mon3,temp_hol3,temp_new3,temp_fai3,temp_sel3,temp_bow3,temp_gad3,temp_newt3])\n",
    "c3=np.nanmean(c3, axis=0)\n",
    "print(c3)\n",
    "\n",
    "\n",
    "b3= np.array([temp_crn_sal3,temp_crn_bat3,temp_crn_laf3,temp_crn_mon3,temp_crn_hol3,temp_crn_new3,temp_crn_fai3,temp_crn_sel3,temp_crn_bow3,temp_crn_gad3,temp_crn_newt3])\n",
    "b3=np.nanmean(b3, axis=0)\n",
    "print(b3)"
   ]
  },
  {
   "cell_type": "code",
   "execution_count": 214,
   "id": "0d8bef30",
   "metadata": {
    "scrolled": false
   },
   "outputs": [],
   "source": [
    "# def mean(numbers):\n",
    "#     return float(sum(numbers)) / max(len(numbers), 1)\n",
    "\n",
    "# # difference1_sel[17]=0\n",
    "# # difference1_sel[18]=0\n",
    "# # difference1_sel[19]=0\n",
    "# # difference1_sel[20]=0\n",
    "# c3 = [mean(i) for i in zip(difference3_sal,difference3_bat,difference3_laf,difference3_mon,difference3_hol,difference3_new,difference3_gai,difference3_fai,difference3_sel,difference3_bow,difference3_gad,difference3_newt)]\n",
    "# #difference1_bow[6]=0\n",
    "# b3 = [np.std(i) for i in zip(difference3_sal,difference3_bat,difference3_laf,difference3_mon,difference3_hol,difference3_new,difference3_gai,difference3_fai,difference3_sel,difference3_bow,difference3_gad,difference3_newt)]\n",
    "# print (c3)\n",
    "# print(len(c3))\n",
    "# print(b3)\n",
    "# print(len(b3))"
   ]
  },
  {
   "cell_type": "code",
   "execution_count": 375,
   "id": "00a5e783",
   "metadata": {},
   "outputs": [
    {
     "data": {
      "image/png": "[encoded data removed]",
      "text/plain": [
       "<Figure size 792x396 with 1 Axes>"
      ]
     },
     "metadata": {},
     "output_type": "display_data"
    }
   ],
   "source": [
    "plt.style.use('seaborn-whitegrid')\n",
    "plt.rcParams[\"figure.figsize\"] = [11.00, 5.50]\n",
    "plt.rcParams[\"figure.autolayout\"] = True\n",
    "plt.yticks(np.arange(-0, 1100, 100.0))\n",
    "plt.ylim(-0, 1000)\n",
    "# c[6]=None\n",
    "# b[6]=None\n",
    "\n",
    "plt.plot(xs,c3,c=\"green\", marker='o')\n",
    "plt.plot(xs,b3,c=\"orange\", marker='o')\n",
    "# c[6]=None\n",
    "# b[6]=None\n",
    "\n",
    "plt.title(\"1-hr Avg. MBE All Stations\")\n",
    "plt.xlabel(\"UTC Hour\")\n",
    "plt.ylabel(\"MBE Incoming Radiation (W/m^2)\")\n",
    "#plt.plot(hour,c)\n",
    "#plt.errorbar(hour,c,yerr=b,ecolor='r',elinewidth=5,fmt='s',color='k')\n",
    "#plt.grid()\n",
    "plt.xticks(xs, hour)\n",
    "plt.show()\n",
    "#plt.axvspan(-4, 4, color='green', alpha=0.2, lw=0)"
   ]
  },
  {
   "cell_type": "code",
   "execution_count": 412,
   "id": "b2d7f7dd",
   "metadata": {},
   "outputs": [
    {
     "name": "stdout",
     "output_type": "stream",
     "text": [
      "[  0.           0.           0.           0.           0.\n",
      "   0.           0.          19.29090909 221.61818182 449.06363636\n",
      " 654.83636364 815.66363636 918.36363636 951.         914.27272727\n",
      " 811.45454545 650.81818182 444.85454545 216.81818182  26.40909091\n",
      "   0.           0.           0.           0.           0.        ]\n",
      "[  0.           0.           0.           0.           0.\n",
      "   0.           0.           1.90909091 102.72727273 311.\n",
      " 522.81818182 700.90909091 827.         893.72727273 895.27272727\n",
      " 822.         710.45454545 526.45454545 302.81818182  94.18181818\n",
      "   6.18181818   0.           0.           0.           0.        ]\n"
     ]
    }
   ],
   "source": [
    "c4= np.array([temp_sal4,temp_bat4,temp_laf4,temp_mon4,temp_hol4,temp_new4,temp_fai4,temp_sel4,temp_bow4,temp_gad4,temp_newt4])\n",
    "c4=np.nanmean(c4, axis=0)\n",
    "print(c4)\n",
    "\n",
    "\n",
    "b4= np.array([temp_crn_sal4,temp_crn_bat4,temp_crn_laf4,temp_crn_mon4,temp_crn_hol4,temp_crn_new4,temp_crn_fai4,temp_crn_sel4,temp_crn_bow4,temp_crn_gad4,temp_crn_newt4])\n",
    "b4=np.nanmean(b4, axis=0)\n",
    "print(b4)"
   ]
  },
  {
   "cell_type": "code",
   "execution_count": 217,
   "id": "b1774c6c",
   "metadata": {
    "scrolled": false
   },
   "outputs": [],
   "source": [
    "# def mean(numbers):\n",
    "#     return float(sum(numbers)) / max(len(numbers), 1)\n",
    "\n",
    "# # difference1_sel[17]=0\n",
    "# # difference1_sel[18]=0\n",
    "# # difference1_sel[19]=0\n",
    "# # difference1_sel[20]=0\n",
    "# c4 = [mean(i) for i in zip(difference4_sal,difference4_bat,difference4_laf,difference4_mon,difference4_hol,difference4_new,difference4_gai,difference4_fai,difference4_sel,difference4_bow,difference4_gad,difference4_newt)]\n",
    "# #difference1_bow[6]=0\n",
    "# b4 = [np.std(i) for i in zip(difference4_sal,difference4_bat,difference4_laf,difference4_mon,difference4_hol,difference4_new,difference4_gai,difference4_fai,difference4_sel,difference4_bow,difference4_gad,difference4_newt)]\n",
    "# print (c4)\n",
    "# print(len(c4))\n",
    "# print(b4)\n",
    "# print(len(b4))"
   ]
  },
  {
   "cell_type": "code",
   "execution_count": 413,
   "id": "e70a6cef",
   "metadata": {},
   "outputs": [
    {
     "data": {
      "image/png": "[encoded data removed]",
      "text/plain": [
       "<Figure size 792x396 with 1 Axes>"
      ]
     },
     "metadata": {},
     "output_type": "display_data"
    }
   ],
   "source": [
    "plt.style.use('seaborn-whitegrid')\n",
    "plt.rcParams[\"figure.figsize\"] = [11.00, 5.50]\n",
    "plt.rcParams[\"figure.autolayout\"] = True\n",
    "plt.yticks(np.arange(-0, 1100, 100.0))\n",
    "plt.ylim(-0, 1000)\n",
    "# c[6]=None\n",
    "# b[6]=None\n",
    "\n",
    "plt.plot(xs,c4,c=\"teal\", marker='o')\n",
    "plt.plot(xs,b4,c=\"orange\", marker='o')\n",
    "# c[6]=None\n",
    "# b[6]=None\n",
    "\n",
    "plt.title(\"1-hr Avg. MBE All Stations\")\n",
    "plt.xlabel(\"UTC Hour\")\n",
    "plt.ylabel(\"MBE Incoming Radiation (W/m^2)\")\n",
    "#plt.plot(hour,c)\n",
    "#plt.errorbar(hour,c,yerr=b,ecolor='r',elinewidth=5,fmt='s',color='k')\n",
    "#plt.grid()\n",
    "plt.xticks(xs, hour)\n",
    "plt.show()\n",
    "#plt.axvspan(-4, 4, color='green', alpha=0.2, lw=0)"
   ]
  },
  {
   "cell_type": "code",
   "execution_count": 453,
   "id": "9d950af1",
   "metadata": {},
   "outputs": [
    {
     "name": "stdout",
     "output_type": "stream",
     "text": [
      "[   0.            0.            0.            0.            0.\n",
      "    0.            0.           86.39090909  310.65454545  538.34545455\n",
      "  740.96363636  895.3         989.45454545 1014.09090909  969.18181818\n",
      "  860.45454545  694.          485.54545455  256.22727273   47.6\n",
      "    0.            0.            0.            0.            0.        ]\n",
      "[  0.           0.           0.           0.           0.\n",
      "   0.           0.          17.45454545 175.45454545 385.81818182\n",
      " 592.27272727 772.36363636 885.81818182 945.63636364 944.63636364\n",
      " 875.36363636 749.54545455 566.         350.27272727 126.36363636\n",
      "  10.72727273   0.           0.           0.           0.        ]\n"
     ]
    }
   ],
   "source": [
    "c5= np.array([temp_sal5,temp_bat5,temp_laf5,temp_mon5,temp_hol5,temp_new5,temp_fai5,temp_sel5,temp_bow5,temp_gad5,temp_newt5])\n",
    "c5=np.nanmean(c5, axis=0)\n",
    "print(c5)\n",
    "\n",
    "\n",
    "b5=np.array([temp_crn_sal5,temp_crn_bat5,temp_crn_laf5,temp_crn_mon5,temp_crn_hol5,temp_crn_new5,temp_crn_fai5,temp_crn_sel5,temp_crn_bow5,temp_crn_gad5,temp_crn_newt5])\n",
    "b5=np.nanmean(b5, axis=0)\n",
    "print(b5)"
   ]
  },
  {
   "cell_type": "code",
   "execution_count": 454,
   "id": "ccd6d564",
   "metadata": {},
   "outputs": [
    {
     "data": {
      "image/png": "[encoded data removed]",
      "text/plain": [
       "<Figure size 792x396 with 1 Axes>"
      ]
     },
     "metadata": {},
     "output_type": "display_data"
    }
   ],
   "source": [
    "plt.style.use('seaborn-whitegrid')\n",
    "plt.rcParams[\"figure.figsize\"] = [11.00, 5.50]\n",
    "plt.rcParams[\"figure.autolayout\"] = True\n",
    "plt.yticks(np.arange(-0, 1100, 100.0))\n",
    "plt.ylim(-0, 1000)\n",
    "# c[6]=None\n",
    "# b[6]=None\n",
    "\n",
    "plt.plot(xs,c5,c=\"m\", marker='o')\n",
    "plt.plot(xs,b5,c=\"orange\", marker='o')\n",
    "# c[6]=None\n",
    "# b[6]=None\n",
    "\n",
    "plt.title(\"1-hr Avg. MBE All Stations\")\n",
    "plt.xlabel(\"UTC Hour\")\n",
    "plt.ylabel(\"MBE Incoming Radiation (W/m^2)\")\n",
    "#plt.plot(hour,c)\n",
    "#plt.errorbar(hour,c,yerr=b,ecolor='r',elinewidth=5,fmt='s',color='k')\n",
    "#plt.grid()\n",
    "plt.xticks(xs, hour)\n",
    "plt.show()\n",
    "#plt.axvspan(-4, 4, color='green', alpha=0.2, lw=0)"
   ]
  },
  {
   "cell_type": "code",
   "execution_count": 494,
   "id": "6a1cf932",
   "metadata": {},
   "outputs": [
    {
     "name": "stdout",
     "output_type": "stream",
     "text": [
      "[   0.            0.            0.            0.            0.\n",
      "    0.            0.          109.34545455  331.04545455  555.73636364\n",
      "  754.08181818  906.54545455  997.90909091 1024.18181818  980.36363636\n",
      "  872.45454545  709.36363636  503.56363636  278.5          69.15454545\n",
      "    0.            0.            0.            0.            0.        ]\n",
      "[  0.           0.           0.           0.           0.\n",
      "   0.           0.          23.72727273 180.36363636 409.09090909\n",
      " 619.27272727 789.72727273 902.27272727 963.63636364 960.36363636\n",
      " 893.         768.         594.81818182 348.36363636 117.45454545\n",
      "  14.           0.           0.           0.           0.        ]\n"
     ]
    }
   ],
   "source": [
    "c6= np.array([temp_sal6,temp_bat6,temp_laf6,temp_mon6,temp_hol6,temp_new6,temp_fai6,temp_sel6,temp_bow6,temp_gad6,temp_newt6])\n",
    "c6=np.nanmean(c6, axis=0)\n",
    "print(c6)\n",
    "\n",
    "\n",
    "b6=np.array([temp_crn_sal6,temp_crn_bat6,temp_crn_laf6,temp_crn_mon6,temp_crn_hol6,temp_crn_new6,temp_crn_fai6,temp_crn_sel6,temp_crn_bow6,temp_crn_gad6,temp_crn_newt6])\n",
    "b6=np.nanmean(b6, axis=0)\n",
    "print(b6)"
   ]
  },
  {
   "cell_type": "code",
   "execution_count": 496,
   "id": "11ff266d",
   "metadata": {},
   "outputs": [
    {
     "data": {
      "image/png": "[encoded data removed]",
      "text/plain": [
       "<Figure size 792x396 with 1 Axes>"
      ]
     },
     "metadata": {},
     "output_type": "display_data"
    }
   ],
   "source": [
    "plt.style.use('seaborn-whitegrid')\n",
    "plt.rcParams[\"figure.figsize\"] = [11.00, 5.50]\n",
    "plt.rcParams[\"figure.autolayout\"] = True\n",
    "plt.yticks(np.arange(-0, 1100, 100.0))\n",
    "plt.ylim(-0, 1000)\n",
    "# c[6]=None\n",
    "# b[6]=None\n",
    "\n",
    "plt.plot(xs,c6,c=\"c\", marker='o')\n",
    "plt.plot(xs,b6,c=\"orange\", marker='o')\n",
    "# c[6]=None\n",
    "# b[6]=None\n",
    "\n",
    "plt.title(\"1-hr Avg. MBE All Stations\")\n",
    "plt.xlabel(\"UTC Hour\")\n",
    "plt.ylabel(\"MBE Incoming Radiation (W/m^2)\")\n",
    "#plt.plot(hour,c)\n",
    "#plt.errorbar(hour,c,yerr=b,ecolor='r',elinewidth=5,fmt='s',color='k')\n",
    "#plt.grid()\n",
    "plt.xticks(xs, hour)\n",
    "plt.show()\n",
    "#plt.axvspan(-4, 4, color='green', alpha=0.2, lw=0)"
   ]
  },
  {
   "cell_type": "code",
   "execution_count": 507,
   "id": "240eafe4",
   "metadata": {},
   "outputs": [
    {
     "data": {
      "image/png": "[encoded data removed]",
      "text/plain": [
       "<Figure size 792x396 with 1 Axes>"
      ]
     },
     "metadata": {},
     "output_type": "display_data"
    }
   ],
   "source": [
    "plt.style.use('seaborn-whitegrid')\n",
    "plt.rcParams[\"figure.figsize\"] = [11.00, 5.50]\n",
    "plt.rcParams[\"figure.autolayout\"] = True\n",
    "plt.yticks(np.arange(-0, 1110, 100.0))\n",
    "plt.ylim(-0, 1100)\n",
    "\n",
    "plt.plot(xs,c1,c=\"b\",marker=\"o\",label=\"IOP 1\")\n",
    "#plt.errorbar(xs,c1,c=\"b\",yerr=b1,linestyle='None', marker='s')\n",
    "\n",
    "plt.plot(xs,c2,c=\"r\",marker=\"o\",label=\"IOP 2\")\n",
    "#plt.errorbar(xs,c2,c=\"r\",yerr=b2,linestyle='None', marker='s')\n",
    "\n",
    "plt.plot(xs,c3,marker=\"o\",c=\"green\")\n",
    "#plt.errorbar(xs,c3,c=\"green\",yerr=b3,linestyle='None', marker='s')\n",
    "\n",
    "plt.plot(xs,c4,marker=\"o\",c=\"orange\")\n",
    "#plt.errorbar(xs,c4,c=\"orange\",yerr=b4,linestyle='None', marker='s')\n",
    "\n",
    "plt.plot(xs,c5,marker=\"o\",c=\"m\")\n",
    "#plt.errorbar(xs,c5,c=\"m\",yerr=b5,linestyle='None', marker='s')\n",
    "\n",
    "plt.plot(xs,c6,marker=\"o\",c=\"c\")\n",
    "#plt.errorbar(xs,c6,c=\"c\",yerr=b6,linestyle='None', marker='s')\n",
    "\n",
    "plt.title(\"1-hr Avg. HRRR All Stations\")\n",
    "plt.xlabel(\"UTC Hour\")\n",
    "plt.ylabel(\"MBE Incoming Radiation (W/m^2)\")\n",
    "#plt.plot(hour,c)\n",
    "#plt.errorbar(hour,c,yerr=b,ecolor='r',elinewidth=5,fmt='s',color='k')\n",
    "#plt.grid()\n",
    "plt.xticks(xs, hour)\n",
    "#plt.axvspan(-4, 4, color='green', alpha=0.2, lw=0)\n",
    "plt.legend([\"IOP 1\", \"IOP 2\",\"IOP 3\",\"IOP 4\",\"IOP 5\",\"IOP 6\"], loc =\"lower right\")\n",
    "plt.show()"
   ]
  },
  {
   "cell_type": "code",
   "execution_count": null,
   "id": "f20cc188",
   "metadata": {},
   "outputs": [],
   "source": []
  }
 ],
 "metadata": {
  "kernelspec": {
   "display_name": "Python 3 (ipykernel)",
   "language": "python",
   "name": "python3"
  },
  "language_info": {
   "codemirror_mode": {
    "name": "ipython",
    "version": 3
   },
   "file_extension": ".py",
   "mimetype": "text/x-python",
   "name": "python",
   "nbconvert_exporter": "python",
   "pygments_lexer": "ipython3",
   "version": "3.9.12"
  }
 },
 "nbformat": 4,
 "nbformat_minor": 5
}
