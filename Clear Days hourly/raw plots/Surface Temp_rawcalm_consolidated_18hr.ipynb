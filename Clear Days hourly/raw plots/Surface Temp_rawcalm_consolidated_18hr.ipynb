{
 "cells": [
  {
   "cell_type": "code",
   "execution_count": 1,
   "id": "83d28093",
   "metadata": {},
   "outputs": [],
   "source": [
    "import numpy as np\n",
    "import matplotlib.pyplot as plt\n",
    "import math\n",
    "import numpy.ma as ma"
   ]
  },
  {
   "cell_type": "markdown",
   "id": "18ad22a0",
   "metadata": {},
   "source": [
    "<font size=\"3\">Salem, MO: 0600 UTC (12:00 am CST) 01 March 2022-0600 UTC (12:00 am CST) 02 March 2022</font>"
   ]
  },
  {
   "cell_type": "code",
   "execution_count": 2,
   "id": "9d3b9481",
   "metadata": {},
   "outputs": [
    {
     "name": "stdout",
     "output_type": "stream",
     "text": [
      "[1.53, 0.940002, 0.27002, 0.720001, 0.580017, 0.410004, 0.0, 0.51001, 4.26001, 8.77002, 12.46, 16.11, 19.1, 22.1, 23.37, 22.86, 21.6, 18.79, 14.02, 11.51, 9.95999, 8.67999, 8.14001, 7.51001, 6.82001]\n",
      "25\n"
     ]
    }
   ],
   "source": [
    "#1 hr hrrr:\n",
    "with open('hrrr_f18_Salem_MO.txt') as f:\n",
    "    lst=[line.split()[4] for line in f]\n",
    "    temp_sal1=[]\n",
    "    for i in lst:\n",
    "        new=i.replace(',',\"\")\n",
    "        temp_sal1.append(new)\n",
    "    temp_sal1.pop(0)\n",
    "    temp_sal1=[float(x) for x in temp_sal1]\n",
    "    temp_sal1=temp_sal1[1404:1429]\n",
    "    #temp=temp[2015:2063]\n",
    "    print(temp_sal1)\n",
    "    print(len(temp_sal1))\n",
    "#full time period is [2015:2112]"
   ]
  },
  {
   "cell_type": "code",
   "execution_count": 3,
   "id": "e9d4dbcc",
   "metadata": {},
   "outputs": [
    {
     "name": "stdout",
     "output_type": "stream",
     "text": [
      "[-4.7, -5.0, -5.6, -5.9, -5.2, -4.5, -1.6, -0.6, 1.5, 8.3, 14.6, 20.6, 23.7, 25.3, 25.8, 24.8, 22.5, 18.5, 11.8, 5.3, 2.9, 0.3, -0.4, -1.0, 0.2]\n",
      "25\n"
     ]
    }
   ],
   "source": [
    "#Air Temp CRN:\n",
    "with open('CRNH0203-2022-MO_Salem_10_W.txt') as f:\n",
    "    lst=[line.split()[20] for line in f]\n",
    "    #print(lst)\n",
    "    temp_crn_sal1=[]\n",
    "    for i in lst:\n",
    "        new=i.replace(',',\"\")\n",
    "        temp_crn_sal1.append(new)\n",
    "    temp_crn_sal1=[float(x) for x in temp_crn_sal1]\n",
    "    temp_crn_sal1=temp_crn_sal1[1421:1446]\n",
    "    print(temp_crn_sal1)\n",
    "    print(len(temp_crn_sal1))\n",
    "    # print(temp_crn[2124])"
   ]
  },
  {
   "cell_type": "code",
   "execution_count": 4,
   "id": "1e9aed03-d99c-4045-812a-e26bcc99b84f",
   "metadata": {},
   "outputs": [],
   "source": [
    "# difference1_sal = []\n",
    "\n",
    "# zip_object = zip(temp, temp_crn)\n",
    "# for temp_i, temp_crn_i in zip_object:\n",
    "#     difference1_sal.append(temp_i-temp_crn_i)\n",
    "\n",
    "# print(difference1_sal)"
   ]
  },
  {
   "cell_type": "markdown",
   "id": "9043c519",
   "metadata": {},
   "source": [
    "<font size=\"3\">Batesville, AR: 0600 UTC (12:00 am CST) 01 March 2022-0600 UTC (12:00 am CST) 02 March 2022</font>"
   ]
  },
  {
   "cell_type": "code",
   "execution_count": 5,
   "id": "af395ecc",
   "metadata": {},
   "outputs": [
    {
     "name": "stdout",
     "output_type": "stream",
     "text": [
      "[2.47, 1.45999, 0.720001, 0.589996, 0.450012, 0.279999, 0.0899963, 0.100006, 4.54001, 10.85, 15.04, 18.03, 20.02, 20.41, 20.59, 20.18, 19.24, 17.38, 12.98, 10.57, 9.16, 8.12, 7.20001, 6.28, 5.44]\n",
      "25\n"
     ]
    }
   ],
   "source": [
    "#1 hr hrrr:\n",
    "with open('hrrr_f18_Batesville_AR.txt') as f:\n",
    "    lst=[line.split()[4] for line in f]\n",
    "    temp_bat1=[]\n",
    "    for i in lst:\n",
    "        new=i.replace(',',\"\")\n",
    "        temp_bat1.append(new)\n",
    "    temp_bat1.pop(0)\n",
    "    temp_bat1=[float(x) for x in temp_bat1]\n",
    "    temp_bat1=temp_bat1[1404:1429]\n",
    "#     x = np.array(temp)\n",
    "#     temp = ma.masked_array(x, mask=[0, 0, 0, 0, 0,0,0,0,0,0,0,0,0,0,0,0,0,0,0,0,0,1,0,0,0])\n",
    "    #temp=temp[2015:2063]\n",
    "    print(temp_bat1)\n",
    "    print(len(temp_bat1))\n",
    "#full time period is [2015:2112]"
   ]
  },
  {
   "cell_type": "code",
   "execution_count": 6,
   "id": "11b7f8b7",
   "metadata": {},
   "outputs": [
    {
     "name": "stdout",
     "output_type": "stream",
     "text": [
      "[-0.1, -1.0, -1.4, -1.8, -2.2, -2.4, -2.4, -2.5, 0.3, 7.4, 14.6, 19.7, 23.8, 23.7, 23.1, 21.9, 20.0, 16.8, 12.0, 7.1, 5.8, 3.9, 2.5, 2.1, 1.3]\n"
     ]
    }
   ],
   "source": [
    "#Air Temp CRN:\n",
    "with open('CRNH0203-2022-AR_Batesville_8_WNW.txt') as f:\n",
    "    lst=[line.split()[20] for line in f]\n",
    "    #print(lst)\n",
    "    temp_crn_bat1=[]\n",
    "    for i in lst:\n",
    "        new=i.replace(',',\"\")\n",
    "        temp_crn_bat1.append(new)\n",
    "    temp_crn_bat1=[float(x) for x in temp_crn_bat1]\n",
    "    temp_crn_bat1=temp_crn_bat1[1421:1446]\n",
    "#     y = np.array(temp_crn)\n",
    "#     temp_crn = ma.masked_array(y, mask=[0, 0, 0, 0, 0,0,0,0,0,0,0,0,0,0,0,0,0,0,0,0,0,1,0,0,0])\n",
    "    print(temp_crn_bat1)\n",
    "    #print(len(temp_crn))\n",
    "    # print(temp_crn[2124])"
   ]
  },
  {
   "cell_type": "code",
   "execution_count": 7,
   "id": "62a46873",
   "metadata": {},
   "outputs": [],
   "source": [
    "# difference1_bat = []\n",
    "\n",
    "# zip_object = zip(temp, temp_crn)\n",
    "# for temp_i, temp_crn_i in zip_object:\n",
    "#     difference1_bat.append(temp_i-temp_crn_i)\n",
    "\n",
    "# print(difference1_bat)"
   ]
  },
  {
   "cell_type": "markdown",
   "id": "2a2589df",
   "metadata": {},
   "source": [
    "<font size=\"3\">Lafayette, LA: 0600 UTC (12:00 am CST) 01 March 2022-0600 UTC (12:00 am CST) 02 March 2022</font>"
   ]
  },
  {
   "cell_type": "code",
   "execution_count": 8,
   "id": "3fd34af2",
   "metadata": {},
   "outputs": [
    {
     "name": "stdout",
     "output_type": "stream",
     "text": [
      "[6.62, 6.28, 6.05002, 5.12, 4.86002, 3.94, 3.42001, 2.69, 8.49002, 15.16, 21.65, 25.87, 28.8, 30.38, 30.44, 29.08, 25.97, 22.76, 18.59, 15.24, 13.59, 11.93, 10.26, 9.04001, 8.78]\n"
     ]
    }
   ],
   "source": [
    "#1 hr hrrr:\n",
    "with open('hrrr_f18_Lafayette_LA.txt') as f:\n",
    "    lst=[line.split()[4] for line in f]\n",
    "    temp_laf1=[]\n",
    "    for i in lst:\n",
    "        new=i.replace(',',\"\")\n",
    "        temp_laf1.append(new)\n",
    "    temp_laf1.pop(0)\n",
    "    temp_laf1=[float(x) for x in temp_laf1]\n",
    "    temp_laf1=temp_laf1[1404:1429]\n",
    "    #temp=temp[2015:2063]\n",
    "    print(temp_laf1)\n",
    "    #print(len(temp))\n",
    "#full time period is [2015:2112]"
   ]
  },
  {
   "cell_type": "code",
   "execution_count": 9,
   "id": "bfe1bb32",
   "metadata": {},
   "outputs": [
    {
     "name": "stdout",
     "output_type": "stream",
     "text": [
      "[1.4, 1.0, 0.6, 0.3, 0.2, -0.3, -0.2, -0.2, 4.8, 12.0, 18.0, 23.2, 24.7, 26.7, 27.4, 26.2, 24.1, 20.1, 13.5, 7.4, 6.9, 7.1, 4.8, 3.5, 2.9]\n"
     ]
    }
   ],
   "source": [
    "#Air Temp CRN:\n",
    "with open('CRNH0203-2022-LA_Lafayette_13_SE.txt') as f:\n",
    "    lst=[line.split()[20] for line in f]\n",
    "    #print(lst)\n",
    "    temp_crn_laf1=[]\n",
    "    for i in lst:\n",
    "        new=i.replace(',',\"\")\n",
    "        temp_crn_laf1.append(new)\n",
    "    temp_crn_laf1=[float(x) for x in temp_crn_laf1]\n",
    "    temp_crn_laf1=temp_crn_laf1[1421:1446]\n",
    "    print(temp_crn_laf1)\n",
    "    #print(len(temp_crn))\n",
    "    # print(temp_crn[2124])"
   ]
  },
  {
   "cell_type": "code",
   "execution_count": 10,
   "id": "9b94d0f9",
   "metadata": {},
   "outputs": [],
   "source": [
    "# difference1_laf = []\n",
    "\n",
    "# zip_object = zip(temp, temp_crn)\n",
    "# for temp_i, temp_crn_i in zip_object:\n",
    "#     difference1_laf.append(temp_i-temp_crn_i)\n",
    "\n",
    "# print(difference1_laf)"
   ]
  },
  {
   "cell_type": "markdown",
   "id": "7a8d079f",
   "metadata": {},
   "source": [
    "<font size=\"3\">Monroe, LA: 0600 UTC (12:00 am CST) 01 March 2022-0600 UTC (12:00 am CST) 02 March 2022</font>"
   ]
  },
  {
   "cell_type": "code",
   "execution_count": 11,
   "id": "9c6d2382",
   "metadata": {},
   "outputs": [
    {
     "name": "stdout",
     "output_type": "stream",
     "text": [
      "[2.81, 2.11002, 1.79001, 1.86002, 1.88, 0.880005, 0.380005, 0.200012, 4.85001, 10.51, 15.21, 18.25, 20.16, 21.18, 21.6, 22.52, 20.97, 18.42, 13.32, 10.74, 9.5, 8.53, 7.69, 6.88, 6.14999]\n"
     ]
    }
   ],
   "source": [
    "#1 hr hrrr:\n",
    "with open('hrrr_f18_Monroe_LA.txt') as f:\n",
    "    lst=[line.split()[4] for line in f]\n",
    "    temp_mon1=[]\n",
    "    for i in lst:\n",
    "        new=i.replace(',',\"\")\n",
    "        temp_mon1.append(new)\n",
    "    temp_mon1.pop(0)\n",
    "    temp_mon1=[float(x) for x in temp_mon1]\n",
    "    temp_mon1=temp_mon1[1404:1429]\n",
    "    #temp=temp[2015:2063]\n",
    "    print(temp_mon1)\n",
    "    #print(len(temp))\n",
    "#full time period is [2015:2112]"
   ]
  },
  {
   "cell_type": "code",
   "execution_count": 12,
   "id": "5c3999a7",
   "metadata": {},
   "outputs": [
    {
     "name": "stdout",
     "output_type": "stream",
     "text": [
      "[1.5, 1.7, 2.0, 1.9, 0.1, -0.6, -0.6, -0.4, 1.1, 8.1, 15.6, 19.0, 22.4, 24.3, 25.1, 24.7, 23.8, 20.2, 12.9, 6.5, 4.6, 3.4, 2.6, 2.0, 1.3]\n"
     ]
    }
   ],
   "source": [
    "#Air Temp CRN:\n",
    "with open('CRNH0203-2022-LA_Monroe_26_N.txt') as f:\n",
    "    lst=[line.split()[20] for line in f]\n",
    "    #print(lst)\n",
    "    temp_crn_mon1=[]\n",
    "    for i in lst:\n",
    "        new=i.replace(',',\"\")\n",
    "        temp_crn_mon1.append(new)\n",
    "    temp_crn_mon1=[float(x) for x in temp_crn_mon1]\n",
    "    temp_crn_mon1=temp_crn_mon1[1421:1446]\n",
    "    print(temp_crn_mon1)\n",
    "    #print(len(temp_crn))\n",
    "    # print(temp_crn[2124])"
   ]
  },
  {
   "cell_type": "code",
   "execution_count": 13,
   "id": "2b4e383a",
   "metadata": {},
   "outputs": [],
   "source": [
    "# difference1_mon = []\n",
    "\n",
    "# zip_object = zip(temp, temp_crn)\n",
    "# for temp_i, temp_crn_i in zip_object:\n",
    "#     difference1_mon.append(temp_i-temp_crn_i)\n",
    "\n",
    "# print(difference1_mon)"
   ]
  },
  {
   "cell_type": "markdown",
   "id": "26c585ff",
   "metadata": {},
   "source": [
    "<font size=\"3\">Holly Springs, MS: 0600 UTC (12:00 am CST) 01 March 2022-0600 UTC (12:00 am CST) 02 March 2022</font>"
   ]
  },
  {
   "cell_type": "code",
   "execution_count": 14,
   "id": "175bd35c",
   "metadata": {},
   "outputs": [
    {
     "name": "stdout",
     "output_type": "stream",
     "text": [
      "[2.36002, 1.88, 1.11002, 1.45999, 1.37, 1.35001, 0.690002, 1.45999, 5.14999, 9.22, 12.78, 15.04, 16.52, 17.29, 17.14, 16.98, 15.32, 13.64, 10.42, 8.94, 8.19, 7.72, 7.64001, 6.87, 6.22]\n"
     ]
    }
   ],
   "source": [
    "#1 hr hrrr:\n",
    "with open('hrrr_f18_Holly Springs_MS.txt') as f:\n",
    "    lst=[line.split()[4] for line in f]\n",
    "    temp_hol1=[]\n",
    "    for i in lst:\n",
    "        new=i.replace(',',\"\")\n",
    "        temp_hol1.append(new)\n",
    "    temp_hol1.pop(0)\n",
    "    temp_hol1=[float(x) for x in temp_hol1]\n",
    "    temp_hol1=temp_hol1[1404:1429]\n",
    "    #temp=temp[2015:2063]\n",
    "    print(temp_hol1)\n",
    "    #print(len(temp))\n",
    "#full time period is [2015:2112]"
   ]
  },
  {
   "cell_type": "code",
   "execution_count": 15,
   "id": "19a3055f",
   "metadata": {},
   "outputs": [
    {
     "name": "stdout",
     "output_type": "stream",
     "text": [
      "[1.3, 0.5, 0.1, -0.1, -0.7, -1.4, -1.9, -2.1, 0.2, 8.6, 14.4, 19.2, 22.3, 23.3, 23.4, 22.5, 20.0, 16.2, 9.8, 6.2, 4.8, 4.2, 4.3, 4.1, 2.8]\n"
     ]
    }
   ],
   "source": [
    "#Air Temp CRN:\n",
    "with open('CRNH0203-2022-MS_Holly_Springs_4_N.txt') as f:\n",
    "    lst=[line.split()[20] for line in f]\n",
    "    #print(lst)\n",
    "    temp_crn_hol1=[]\n",
    "    for i in lst:\n",
    "        new=i.replace(',',\"\")\n",
    "        temp_crn_hol1.append(new)\n",
    "    temp_crn_hol1=[float(x) for x in temp_crn_hol1]\n",
    "    temp_crn_hol1=temp_crn_hol1[1421:1446]\n",
    "    print(temp_crn_hol1)\n",
    "    #print(len(temp_crn))\n",
    "    # print(temp_crn[2124])"
   ]
  },
  {
   "cell_type": "code",
   "execution_count": 16,
   "id": "46b095cb",
   "metadata": {},
   "outputs": [],
   "source": [
    "# difference1_hol = []\n",
    "\n",
    "# zip_object = zip(temp, temp_crn)\n",
    "# for temp_i, temp_crn_i in zip_object:\n",
    "#     difference1_hol.append(temp_i-temp_crn_i)\n",
    "\n",
    "# print(difference1_hol)"
   ]
  },
  {
   "cell_type": "markdown",
   "id": "1c76c308",
   "metadata": {},
   "source": [
    "<font size=\"3\">Newton, MS: 0600 UTC (12:00 am CST) 01 March 2022-0600 UTC (12:00 am CST) 02 March 2022</font>"
   ]
  },
  {
   "cell_type": "code",
   "execution_count": 17,
   "id": "06decf86",
   "metadata": {},
   "outputs": [
    {
     "name": "stdout",
     "output_type": "stream",
     "text": [
      "[3.51001, 2.72, 2.26001, 1.67001, 1.77002, 1.67001, 0.779999, 0.990021, 8.17999, 14.16, 20.54, 23.95, 25.95, 26.8, 26.6, 25.91, 23.37, 20.02, 14.69, 11.76, 9.78, 8.39999, 7.94, 6.94, 5.5]\n"
     ]
    }
   ],
   "source": [
    "#1 hr hrrr:\n",
    "with open('hrrr_f18_Newton_MS.txt') as f:\n",
    "    lst=[line.split()[4] for line in f]\n",
    "    temp_new1=[]\n",
    "    for i in lst:\n",
    "        new=i.replace(',',\"\")\n",
    "        temp_new1.append(new)\n",
    "    temp_new1.pop(0)\n",
    "    temp_new1=[float(x) for x in temp_new1]\n",
    "    temp_new1=temp_new1[1404:1429]\n",
    "    #temp=temp[2015:2063]\n",
    "    print(temp_new1)\n",
    "    #print(len(temp))\n",
    "#full time period is [2015:2112]"
   ]
  },
  {
   "cell_type": "code",
   "execution_count": 18,
   "id": "3fb09a0f",
   "metadata": {},
   "outputs": [
    {
     "name": "stdout",
     "output_type": "stream",
     "text": [
      "[1.3, 0.6, 0.1, -0.2, -0.8, -1.4, -0.9, 0.6, 3.9, 11.6, 18.6, 22.6, 25.8, 27.9, 28.2, 27.4, 24.8, 20.8, 14.3, 8.5, 6.3, 5.0, 3.9, 3.0, 2.2]\n"
     ]
    }
   ],
   "source": [
    "#Air Temp CRN:\n",
    "with open('CRNH0203-2022-MS_Newton_5_ENE.txt') as f:\n",
    "    lst=[line.split()[20] for line in f]\n",
    "    #print(lst)\n",
    "    temp_crn_new1=[]\n",
    "    for i in lst:\n",
    "        new=i.replace(',',\"\")\n",
    "        temp_crn_new1.append(new)\n",
    "    temp_crn_new1=[float(x) for x in temp_crn_new1]\n",
    "    temp_crn_new1=temp_crn_new1[1421:1446]\n",
    "    print(temp_crn_new1)\n",
    "    #print(len(temp_crn))\n",
    "    # print(temp_crn[2124])"
   ]
  },
  {
   "cell_type": "code",
   "execution_count": 19,
   "id": "e588ab70",
   "metadata": {},
   "outputs": [],
   "source": [
    "# difference1_new = []\n",
    "\n",
    "# zip_object = zip(temp, temp_crn)\n",
    "# for temp_i, temp_crn_i in zip_object:\n",
    "#     difference1_new.append(temp_i-temp_crn_i)\n",
    "\n",
    "# print(difference1_new)"
   ]
  },
  {
   "cell_type": "markdown",
   "id": "c9620694",
   "metadata": {},
   "source": [
    "<font size=\"3\">Gainesville, AL: 0600 UTC (12:00 am CST) 01 March 2022-0600 UTC (12:00 am CST) 02 March 2022</font>"
   ]
  },
  {
   "cell_type": "code",
   "execution_count": 20,
   "id": "a422cd03",
   "metadata": {},
   "outputs": [],
   "source": [
    "# #1 hr hrrr:\n",
    "# with open('hrrr_f18_Gainesville_AL.txt') as f:\n",
    "#     lst=[line.split()[4] for line in f]\n",
    "#     temp=[]\n",
    "#     for i in lst:\n",
    "#         new=i.replace(',',\"\")\n",
    "#         temp.append(new)\n",
    "#     temp.pop(0)\n",
    "#     temp=[float(x) for x in temp]\n",
    "#     temp=temp[1410:1435]\n",
    "#     #temp=temp[2015:2063]\n",
    "#     print(temp)\n",
    "#     #print(len(temp))\n",
    "# #full time period is [2015:2112]"
   ]
  },
  {
   "cell_type": "code",
   "execution_count": 21,
   "id": "2c97e541",
   "metadata": {},
   "outputs": [],
   "source": [
    "# #Air Temp CRN:\n",
    "# with open('CRNH0203-2022-AL_Gainesville_2_NE.txt') as f:\n",
    "#     lst=[line.split()[20] for line in f]\n",
    "#     #print(lst)\n",
    "#     temp_crn=[]\n",
    "#     for i in lst:\n",
    "#         new=i.replace(',',\"\")\n",
    "#         temp_crn.append(new)\n",
    "#     temp_crn=[float(x) for x in temp_crn]\n",
    "#     temp_crn=temp_crn[1410:1435]\n",
    "#     print(temp_crn)\n",
    "#     #print(len(temp_crn))\n",
    "#     # print(temp_crn[2124])"
   ]
  },
  {
   "cell_type": "code",
   "execution_count": 22,
   "id": "8df76a7b",
   "metadata": {},
   "outputs": [],
   "source": [
    "# difference1_gai = []\n",
    "\n",
    "# zip_object = zip(temp, temp_crn)\n",
    "# for temp_i, temp_crn_i in zip_object:\n",
    "#     difference1_gai.append(temp_i-temp_crn_i)\n",
    "\n",
    "# print(difference1_gai)"
   ]
  },
  {
   "cell_type": "markdown",
   "id": "2711dc15",
   "metadata": {},
   "source": [
    "<font size=\"3\">Fairhope, AL: 0600 UTC (12:00 am CST) 01 March 2022-0600 UTC (12:00 am CST) 02 March 2022</font>"
   ]
  },
  {
   "cell_type": "code",
   "execution_count": 23,
   "id": "64dbcf91",
   "metadata": {},
   "outputs": [
    {
     "name": "stdout",
     "output_type": "stream",
     "text": [
      "[8.14001, 7.99002, 7.38, 6.94, 6.47, 6.0, 5.94, 6.63, 11.79, 16.81, 21.36, 25.03, 26.02, 26.04, 25.87, 24.98, 22.45, 18.5, 14.89, 13.21, 11.56, 10.53, 10.14, 9.44, 8.54001]\n"
     ]
    }
   ],
   "source": [
    "#1 hr hrrr:\n",
    "with open('hrrr_f18_Fairhope_AL.txt') as f:\n",
    "    lst=[line.split()[4] for line in f]\n",
    "    temp_fai1=[]\n",
    "    for i in lst:\n",
    "        new=i.replace(',',\"\")\n",
    "        temp_fai1.append(new)\n",
    "    temp_fai1.pop(0)\n",
    "    temp_fai1=[float(x) for x in temp_fai1]\n",
    "    temp_fai1=temp_fai1[1404:1429]\n",
    "    #temp=temp[2015:2063]\n",
    "    print(temp_fai1)\n",
    "    #print(len(temp))\n",
    "#full time period is [2015:2112]"
   ]
  },
  {
   "cell_type": "code",
   "execution_count": 24,
   "id": "4df09785",
   "metadata": {},
   "outputs": [
    {
     "name": "stdout",
     "output_type": "stream",
     "text": [
      "[5.3, 4.3, 4.0, 1.8, 3.4, 3.8, 2.4, 1.3, 9.1, 17.2, 24.5, 28.8, 30.9, 30.8, 29.4, 27.5, 24.2, 18.4, 12.7, 8.5, 5.5, 3.2, 2.4, 1.4, 1.0]\n"
     ]
    }
   ],
   "source": [
    "#Air Temp CRN:\n",
    "with open('CRNH0203-2022-AL_Fairhope_3_NE.txt') as f:\n",
    "    lst=[line.split()[20] for line in f]\n",
    "    #print(lst)\n",
    "    temp_crn_fai1=[]\n",
    "    for i in lst:\n",
    "        new=i.replace(',',\"\")\n",
    "        temp_crn_fai1.append(new)\n",
    "    temp_crn_fai1=[float(x) for x in temp_crn_fai1]\n",
    "    temp_crn_fai1=temp_crn_fai1[1421:1446]\n",
    "    print(temp_crn_fai1)\n",
    "    #print(len(temp_crn))\n",
    "    # print(temp_crn[2124])"
   ]
  },
  {
   "cell_type": "code",
   "execution_count": 25,
   "id": "a9ff3306",
   "metadata": {},
   "outputs": [],
   "source": [
    "# difference1_fai = []\n",
    "\n",
    "# zip_object = zip(temp, temp_crn)\n",
    "# for temp_i, temp_crn_i in zip_object:\n",
    "#     difference1_fai.append(temp_i-temp_crn_i)\n",
    "\n",
    "# print(difference1_fai)"
   ]
  },
  {
   "cell_type": "markdown",
   "id": "f5dd4e4b",
   "metadata": {},
   "source": [
    "<font size=\"3\">**Selma, AL: 0600 UTC (12:00 am CST) 01 March 2022-0600 UTC (12:00 am CST) 02 March 2022</font>"
   ]
  },
  {
   "cell_type": "code",
   "execution_count": 26,
   "id": "af6b46b1",
   "metadata": {},
   "outputs": [
    {
     "name": "stdout",
     "output_type": "stream",
     "text": [
      "[4.66, 4.36002, 3.64999, 3.62, 4.06, 3.79001, 2.07001, 2.81, 8.0, 12.97, 16.93, 19.88, 22.36, 24.25, 24.62, 23.67, 21.36, 18.08, 13.56, 10.83, 9.20999, 7.94, 6.89001, 6.01001, 5.07001]\n",
      "[3.4, 2.8, 2.1, 1.5, 1.0, 0.8, 1.2, 1.9, 5.3, 12.9, 17.8, 23.1, 24.6, 26.4, 26.1, 25.1, 21.9, 18.6, 15.4, 10.7, 8.0, 6.5, 5.3, 4.7, 4.0]\n"
     ]
    }
   ],
   "source": [
    "#1 hr hrrr:\n",
    "import numpy as np\n",
    "import numpy.ma as ma\n",
    "with open('hrrr_f18_Selma_AL.txt') as f:\n",
    "    lst=[line.split()[4] for line in f]\n",
    "    temp_sel1=[]\n",
    "    for i in lst:\n",
    "        new=i.replace(',',\"\")\n",
    "        temp_sel1.append(new)\n",
    "    temp_sel1.pop(0)\n",
    "    temp_sel1=[float(x) for x in temp_sel1]\n",
    "    temp_sel1=temp_sel1[1404:1429]\n",
    "\n",
    "#     x = np.array(temp)\n",
    "#     temp = ma.masked_array(x, mask=[0, 0, 0, 0, 0,0,0,0,0,0,0,0,0,0,0,0,0,1,1,1,1,0,0,0,0])\n",
    "    #print(temp)\n",
    "#Air Temp CRN:\n",
    "with open('CRNH0203-2022-AL_Selma_13_WNW.txt') as f:\n",
    "    lst=[line.split()[20] for line in f]\n",
    "    #print(lst)\n",
    "    temp_crn_sel1=[]\n",
    "    for i in lst:\n",
    "        new=i.replace(',',\"\")\n",
    "        temp_crn_sel1.append(new)\n",
    "    temp_crn_sel1=[float(x) for x in temp_crn_sel1]\n",
    "    temp_crn_sel1=temp_crn_sel1[1421:1446]\n",
    "#     y = np.array(temp_crn)\n",
    "#     temp_crn = ma.masked_array(y, mask=[0, 0, 0, 0, 0,0,0,0,0,0,0,0,0,0,0,0,0,1,1,1,1,0,0,0,0])\n",
    "    print(temp_sel1)\n",
    "    #print(len(temp))\n",
    "    print(temp_crn_sel1)\n",
    "    #print(len(temp_crn))\n",
    "#full time period is [2015:2112]\n",
    "# difference1_sel = []\n",
    "\n",
    "# zip_object = zip(temp, temp_crn)\n",
    "# for temp_i, temp_crn_i in zip_object:\n",
    "#     difference1_sel.append(temp_i-temp_crn_i)\n",
    "\n",
    "# print(difference1_sel)\n",
    "# print(len(difference1_sel))"
   ]
  },
  {
   "cell_type": "markdown",
   "id": "8fab4bdc",
   "metadata": {},
   "source": [
    "<font size=\"3\">Bowling Green, KY: 0600 UTC (12:00 am CST) 01 March 2022-0600 UTC (12:00 am CST) 02 March 2022</font>"
   ]
  },
  {
   "cell_type": "code",
   "execution_count": 27,
   "id": "bf608647",
   "metadata": {},
   "outputs": [
    {
     "name": "stdout",
     "output_type": "stream",
     "text": [
      "[1.39001, 1.12, 1.09, 1.14999, 1.04001, 0.779999, 0.600006, 1.27002, 4.86002, 9.16, 13.09, 16.37, 19.34, 21.06, 21.28, 20.13, 18.23, 15.04, 12.01, 10.55, 9.59, 8.79001, 8.10001, 7.36002, 6.88]\n"
     ]
    }
   ],
   "source": [
    "#1 hr hrrr:\n",
    "with open('hrrr_f18_Bowling Green_KY.txt') as f:\n",
    "    lst=[line.split()[4] for line in f]\n",
    "    temp_bow1=[]\n",
    "    for i in lst:\n",
    "        new=i.replace(',',\"\")\n",
    "        temp_bow1.append(new)\n",
    "    temp_bow1.pop(0)\n",
    "    temp_bow1=[float(x) for x in temp_bow1]\n",
    "    temp_bow1=temp_bow1[1404:1429]\n",
    "    #temp=temp[2015:2063]\n",
    "    print(temp_bow1)\n",
    "    #print(len(temp))\n",
    "#full time period is [2015:2112]"
   ]
  },
  {
   "cell_type": "code",
   "execution_count": 28,
   "id": "b9e25e31",
   "metadata": {},
   "outputs": [
    {
     "name": "stdout",
     "output_type": "stream",
     "text": [
      "[-2.6, -3.1, -3.3, -3.2, -2.9, -2.3, -1.8, -0.9, 2.9, 11.1, 17.6, 22.2, 25.6, 26.2, 25.9, 24.3, 20.7, 16.1, 10.1, 6.3, 4.5, 4.7, 3.2, 2.0, 1.7]\n"
     ]
    }
   ],
   "source": [
    "#Air Temp CRN:\n",
    "with open('CRNH0203-2022-KY_Bowling_Green_21_NNE.txt') as f:\n",
    "    lst=[line.split()[20] for line in f]\n",
    "    #print(lst)\n",
    "    temp_crn_bow1=[]\n",
    "    for i in lst:\n",
    "        new=i.replace(',',\"\")\n",
    "        temp_crn_bow1.append(new)\n",
    "    temp_crn_bow1=[float(x) for x in temp_crn_bow1]\n",
    "    temp_crn_bow1=temp_crn_bow1[1421:1446]\n",
    "    print(temp_crn_bow1)\n",
    "    #print(len(temp_crn))\n",
    "    # print(temp_crn[2124])"
   ]
  },
  {
   "cell_type": "code",
   "execution_count": 29,
   "id": "c1e72531",
   "metadata": {},
   "outputs": [],
   "source": [
    "# difference1_bow = []\n",
    "\n",
    "# zip_object = zip(temp, temp_crn)\n",
    "# for temp_i, temp_crn_i in zip_object:\n",
    "#     difference1_bow.append(temp_i-temp_crn_i)\n",
    "\n",
    "# print(difference1_bow)"
   ]
  },
  {
   "cell_type": "markdown",
   "id": "d1be2cc0",
   "metadata": {},
   "source": [
    "<font size=\"3\">Gadsden, AL: 0600 UTC (12:00 am CST) 01 March 2022-0600 UTC (12:00 am CST) 02 March 2022</font>"
   ]
  },
  {
   "cell_type": "code",
   "execution_count": 30,
   "id": "02793170",
   "metadata": {},
   "outputs": [
    {
     "name": "stdout",
     "output_type": "stream",
     "text": [
      "[3.31, 2.99002, 2.70001, 2.22, 2.20999, 1.99002, 1.29001, 2.32001, 6.64001, 11.0, 14.28, 16.26, 17.59, 18.18, 18.29, 17.6, 15.66, 12.85, 9.69, 8.22, 7.01001, 6.05002, 5.97, 5.22, 4.38]\n"
     ]
    }
   ],
   "source": [
    "#1 hr hrrr:\n",
    "with open('hrrr_f18_Gadsden_AL.txt') as f:\n",
    "    lst=[line.split()[4] for line in f]\n",
    "    temp_gad1=[]\n",
    "    for i in lst:\n",
    "        new=i.replace(',',\"\")\n",
    "        temp_gad1.append(new)\n",
    "    temp_gad1.pop(0)\n",
    "    temp_gad1=[float(x) for x in temp_gad1]\n",
    "    temp_gad1=temp_gad1[1404:1429]\n",
    "#     x = np.array(temp)\n",
    "#     temp = ma.masked_array(x, mask=[0, 0, 0, 0, 0,0,0,0,1,0,0,0,0,0,0,0,0,0,0,0,0,0,0,0,0])\n",
    "    #temp=temp[2015:2063]\n",
    "    print(temp_gad1)\n",
    "    #print(len(temp))\n",
    "#full time period is [2015:2112]"
   ]
  },
  {
   "cell_type": "code",
   "execution_count": 31,
   "id": "eb5f934d",
   "metadata": {},
   "outputs": [
    {
     "name": "stdout",
     "output_type": "stream",
     "text": [
      "[1.1, 0.6, 0.6, 1.0, 1.2, 0.4, -0.1, 0.0, 6.4, 14.3, 17.9, 20.3, 22.3, 23.1, 22.7, 20.5, 17.5, 15.2, 10.5, 6.4, 4.9, 4.4, 4.0, 3.5, 3.4]\n"
     ]
    }
   ],
   "source": [
    "#Air Temp CRN:\n",
    "with open('CRNH0203-2022-AL_Gadsden_19_N.txt') as f:\n",
    "    lst=[line.split()[20] for line in f]\n",
    "    #print(lst)\n",
    "    temp_crn_gad1=[]\n",
    "    for i in lst:\n",
    "        new=i.replace(',',\"\")\n",
    "        temp_crn_gad1.append(new)\n",
    "    temp_crn_gad1=[float(x) for x in temp_crn_gad1]\n",
    "    temp_crn_gad1=temp_crn_gad1[1421:1446]\n",
    "#     y = np.array(temp_crn)\n",
    "#     temp_crn = ma.masked_array(y, mask=[0, 0, 0, 0, 0,0,0,0,1,0,0,0,0,0,0,0,0,0,0,0,0,0,0,0,0])\n",
    "    print(temp_crn_gad1)\n",
    "    #print(len(temp_crn))\n",
    "    # print(temp_crn[2124])"
   ]
  },
  {
   "cell_type": "code",
   "execution_count": 32,
   "id": "c002ac76",
   "metadata": {},
   "outputs": [],
   "source": [
    "# difference1_gad = []\n",
    "\n",
    "# zip_object = zip(temp, temp_crn)\n",
    "# for temp_i, temp_crn_i in zip_object:\n",
    "#     difference1_gad.append(temp_i-temp_crn_i)\n",
    "\n",
    "# print(difference1_gad)"
   ]
  },
  {
   "cell_type": "markdown",
   "id": "d430f7c6",
   "metadata": {},
   "source": [
    "<font size=\"3\">Newton, GA: 0600 UTC (12:00 am CST) 01 March 2022-0600 UTC (12:00 am CST) 02 March 2022</font>"
   ]
  },
  {
   "cell_type": "code",
   "execution_count": 33,
   "id": "e78bb8bf",
   "metadata": {},
   "outputs": [
    {
     "name": "stdout",
     "output_type": "stream",
     "text": [
      "[9.94, 7.31, 5.89999, 5.24002, 4.92001, 5.76001, 4.70001, 7.75, 11.08, 16.98, 20.51, 24.82, 26.32, 27.18, 26.75, 25.3, 23.21, 19.51, 14.67, 12.46, 10.88, 9.80002, 9.44, 8.26001, 7.25]\n"
     ]
    }
   ],
   "source": [
    "#1 hr hrrr:\n",
    "with open('hrrr_f18_Newton_GA.txt') as f:\n",
    "    lst=[line.split()[4] for line in f]\n",
    "    temp_newt1=[]\n",
    "    for i in lst:\n",
    "        new=i.replace(',',\"\")\n",
    "        temp_newt1.append(new)\n",
    "    temp_newt1.pop(0)\n",
    "    temp_newt1=[float(x) for x in temp_newt1]\n",
    "    temp_newt1=temp_newt1[1404:1429]\n",
    "    #temp=temp[2015:2063]\n",
    "    print(temp_newt1)\n",
    "    #print(len(temp))\n",
    "#full time period is [2015:2112]"
   ]
  },
  {
   "cell_type": "code",
   "execution_count": 34,
   "id": "9851cf85",
   "metadata": {},
   "outputs": [
    {
     "name": "stdout",
     "output_type": "stream",
     "text": [
      "[7.9, 7.3, 6.0, 5.4, 4.9, 4.4, 4.0, 3.8, 4.9, 9.8, 14.8, 19.9, 24.5, 27.5, 29.6, 29.5, 27.9, 24.7, 19.6, 13.0, 10.1, 8.5, 7.4, 6.7, 5.8]\n"
     ]
    }
   ],
   "source": [
    "#Air Temp CRN:\n",
    "with open('CRNH0203-2022-GA_Newton_11_SW.txt') as f:\n",
    "    lst=[line.split()[20] for line in f]\n",
    "    #print(lst)\n",
    "    temp_crn_newt1=[]\n",
    "    for i in lst:\n",
    "        new=i.replace(',',\"\")\n",
    "        temp_crn_newt1.append(new)\n",
    "    temp_crn_newt1=[float(x) for x in temp_crn_newt1]\n",
    "    temp_crn_newt1=temp_crn_newt1[1420:1445]\n",
    "    print(temp_crn_newt1)\n",
    "    #print(len(temp_crn))\n",
    "    # print(temp_crn[2124])"
   ]
  },
  {
   "cell_type": "code",
   "execution_count": 35,
   "id": "f2141c03",
   "metadata": {},
   "outputs": [],
   "source": [
    "# difference1_newt = []\n",
    "\n",
    "# zip_object = zip(temp, temp_crn)\n",
    "# for temp_i, temp_crn_i in zip_object:\n",
    "#     difference1_newt.append(temp_i-temp_crn_i)\n",
    "\n",
    "# print(difference1_newt)"
   ]
  },
  {
   "cell_type": "markdown",
   "id": "409e3c59",
   "metadata": {},
   "source": [
    "<font size=\"3\">Salem, MO: 0600 UTC (12:00 am CST) 13 March 2022-0600 UTC (12:00 am CST) 14 March 2022</font>"
   ]
  },
  {
   "cell_type": "code",
   "execution_count": 36,
   "id": "8f9a8b38",
   "metadata": {},
   "outputs": [
    {
     "name": "stdout",
     "output_type": "stream",
     "text": [
      "[-1.42999, -1.25, -0.549988, -0.559998, -0.669983, -0.630005, -0.799988, 0.300018, 3.62, 7.19, 10.97, 15.01, 18.17, 20.36, 20.87, 20.32, 18.9, 16.48, 12.6, 10.12, 9.11002, 8.27002, 7.48001, 6.84, 6.06]\n",
      "25\n"
     ]
    }
   ],
   "source": [
    "#1 hr hrrr:\n",
    "with open('hrrr_f18_Salem_MO.txt') as f:\n",
    "    lst=[line.split()[4] for line in f]\n",
    "    temp_sal2=[]\n",
    "    for i in lst:\n",
    "        new=i.replace(',',\"\")\n",
    "        temp_sal2.append(new)\n",
    "    temp_sal2.pop(0)\n",
    "    temp_sal2=[float(x) for x in temp_sal2]\n",
    "    temp_sal2=temp_sal2[1692:1717]\n",
    "    #temp=temp[2015:2063]\n",
    "    print(temp_sal2)\n",
    "    print(len(temp_sal2))\n",
    "#full time period is [2015:2112]"
   ]
  },
  {
   "cell_type": "code",
   "execution_count": 37,
   "id": "7cc3ea7c",
   "metadata": {},
   "outputs": [
    {
     "name": "stdout",
     "output_type": "stream",
     "text": [
      "[-4.1, -3.1, -2.2, -2.1, -1.8, -1.9, -2.2, -2.3, 1.9, 9.4, 16.1, 21.7, 26.1, 28.3, 28.4, 26.0, 22.6, 17.8, 12.2, 6.7, 4.3, 5.4, 5.0, 4.8, 3.8]\n",
      "25\n"
     ]
    }
   ],
   "source": [
    "#Air Temp CRN:\n",
    "with open('CRNH0203-2022-MO_Salem_10_W.txt') as f:\n",
    "    lst=[line.split()[20] for line in f]\n",
    "    #print(lst)\n",
    "    temp_crn_sal2=[]\n",
    "    for i in lst:\n",
    "        new=i.replace(',',\"\")\n",
    "        temp_crn_sal2.append(new)\n",
    "    temp_crn_sal2=[float(x) for x in temp_crn_sal2]\n",
    "    temp_crn_sal2=temp_crn_sal2[1709:1734]\n",
    "    print(temp_crn_sal2)\n",
    "    print(len(temp_crn_sal2))\n",
    "    # print(temp_crn[2124])"
   ]
  },
  {
   "cell_type": "code",
   "execution_count": 38,
   "id": "b732c951",
   "metadata": {},
   "outputs": [],
   "source": [
    "# difference1_sal = []\n",
    "\n",
    "# zip_object = zip(temp, temp_crn)\n",
    "# for temp_i, temp_crn_i in zip_object:\n",
    "#     difference1_sal.append(temp_i-temp_crn_i)\n",
    "\n",
    "# print(difference1_sal)"
   ]
  },
  {
   "cell_type": "markdown",
   "id": "c23a0832",
   "metadata": {},
   "source": [
    "<font size=\"3\">Batesville, AR: 0600 UTC (12:00 am CST) 01 March 2022-0600 UTC (12:00 am CST) 02 March 2022</font>"
   ]
  },
  {
   "cell_type": "code",
   "execution_count": 39,
   "id": "afca0eea",
   "metadata": {},
   "outputs": [
    {
     "name": "stdout",
     "output_type": "stream",
     "text": [
      "[-0.769989, -0.72998, -0.709991, -0.699982, -0.690002, -0.630005, -0.619995, -0.22998, 3.88, 7.52002, 10.65, 13.46, 15.4, 16.82, 17.68, 17.64, 16.42, 14.32, 10.4, 7.67001, 6.14001, 5.39001, 4.41, 3.98001, 3.5]\n",
      "25\n"
     ]
    }
   ],
   "source": [
    "#1 hr hrrr:\n",
    "with open('hrrr_f18_Batesville_AR.txt') as f:\n",
    "    lst=[line.split()[4] for line in f]\n",
    "    temp_bat2=[]\n",
    "    for i in lst:\n",
    "        new=i.replace(',',\"\")\n",
    "        temp_bat2.append(new)\n",
    "    temp_bat2.pop(0)\n",
    "    temp_bat2=[float(x) for x in temp_bat2]\n",
    "    temp_bat2=temp_bat2[1692:1717]\n",
    "#     x = np.array(temp)\n",
    "#     temp = ma.masked_array(x, mask=[0, 0, 0, 0, 0,0,0,0,0,0,0,0,0,0,0,0,0,0,0,0,0,1,0,0,0])\n",
    "    #temp=temp[2015:2063]\n",
    "    print(temp_bat2)\n",
    "    print(len(temp_bat2))\n",
    "#full time period is [2015:2112]"
   ]
  },
  {
   "cell_type": "code",
   "execution_count": 40,
   "id": "71b8963a",
   "metadata": {},
   "outputs": [
    {
     "name": "stdout",
     "output_type": "stream",
     "text": [
      "[-4.3, -2.4, -1.3, -1.1, -0.8, -0.9, -1.3, -1.3, 2.0, 6.9, 11.0, 14.7, 18.2, 19.5, 19.4, 18.5, 16.9, 14.1, 10.5, 6.5, 4.0, 4.7, 5.5, 5.6, 5.5]\n"
     ]
    }
   ],
   "source": [
    "#Air Temp CRN:\n",
    "with open('CRNH0203-2022-AR_Batesville_8_WNW.txt') as f:\n",
    "    lst=[line.split()[20] for line in f]\n",
    "    #print(lst)\n",
    "    temp_crn_bat2=[]\n",
    "    for i in lst:\n",
    "        new=i.replace(',',\"\")\n",
    "        temp_crn_bat2.append(new)\n",
    "    temp_crn_bat2=[float(x) for x in temp_crn_bat2]\n",
    "    temp_crn_bat2=temp_crn_bat2[1709:1734]\n",
    "#     y = np.array(temp_crn)\n",
    "#     temp_crn = ma.masked_array(y, mask=[0, 0, 0, 0, 0,0,0,0,0,0,0,0,0,0,0,0,0,0,0,0,0,1,0,0,0])\n",
    "    print(temp_crn_bat2)\n",
    "    #print(len(temp_crn))\n",
    "    # print(temp_crn[2124])"
   ]
  },
  {
   "cell_type": "code",
   "execution_count": 41,
   "id": "7b7cfa5d",
   "metadata": {},
   "outputs": [],
   "source": [
    "# difference1_bat = []\n",
    "\n",
    "# zip_object = zip(temp, temp_crn)\n",
    "# for temp_i, temp_crn_i in zip_object:\n",
    "#     difference1_bat.append(temp_i-temp_crn_i)\n",
    "\n",
    "# print(difference1_bat)"
   ]
  },
  {
   "cell_type": "markdown",
   "id": "16bf265f",
   "metadata": {},
   "source": [
    "<font size=\"3\">Lafayette, LA: 0600 UTC (12:00 am CST) 01 March 2022-0600 UTC (12:00 am CST) 02 March 2022</font>"
   ]
  },
  {
   "cell_type": "code",
   "execution_count": 42,
   "id": "b23c7950",
   "metadata": {},
   "outputs": [
    {
     "name": "stdout",
     "output_type": "stream",
     "text": [
      "[2.76001, 2.14999, 1.72, 1.0, 0.26001, -0.269989, -0.47998, 0.700012, 6.60001, 12.2, 16.63, 20.58, 23.22, 24.66, 24.83, 24.18, 21.56, 17.8, 14.09, 11.47, 9.89999, 9.35001, 9.59, 9.36002, 9.02002]\n"
     ]
    }
   ],
   "source": [
    "#1 hr hrrr:\n",
    "with open('hrrr_f18_Lafayette_LA.txt') as f:\n",
    "    lst=[line.split()[4] for line in f]\n",
    "    temp_laf2=[]\n",
    "    for i in lst:\n",
    "        new=i.replace(',',\"\")\n",
    "        temp_laf2.append(new)\n",
    "    temp_laf2.pop(0)\n",
    "    temp_laf2=[float(x) for x in temp_laf2]\n",
    "    temp_laf2=temp_laf2[1692:1717]\n",
    "    #temp=temp[2015:2063]\n",
    "    print(temp_laf2)\n",
    "    #print(len(temp))\n",
    "#full time period is [2015:2112]"
   ]
  },
  {
   "cell_type": "code",
   "execution_count": 43,
   "id": "dbdffe3b",
   "metadata": {},
   "outputs": [
    {
     "name": "stdout",
     "output_type": "stream",
     "text": [
      "[-1.4, -1.7, -2.6, -3.1, -3.6, -4.1, -3.9, -2.9, 1.7, 8.3, 15.0, 19.4, 22.9, 24.1, 23.9, 21.7, 19.4, 16.9, 12.4, 7.4, 4.7, 3.9, 5.5, 4.2, 5.5]\n"
     ]
    }
   ],
   "source": [
    "#Air Temp CRN:\n",
    "with open('CRNH0203-2022-LA_Lafayette_13_SE.txt') as f:\n",
    "    lst=[line.split()[20] for line in f]\n",
    "    #print(lst)\n",
    "    temp_crn_laf2=[]\n",
    "    for i in lst:\n",
    "        new=i.replace(',',\"\")\n",
    "        temp_crn_laf2.append(new)\n",
    "    temp_crn_laf2=[float(x) for x in temp_crn_laf2]\n",
    "    temp_crn_laf2=temp_crn_laf2[1709:1734]\n",
    "    print(temp_crn_laf2)\n",
    "    #print(len(temp_crn))\n",
    "    # print(temp_crn[2124])"
   ]
  },
  {
   "cell_type": "code",
   "execution_count": 44,
   "id": "07cf95c8",
   "metadata": {},
   "outputs": [],
   "source": [
    "# difference2_laf = []\n",
    "\n",
    "# zip_object = zip(temp, temp_crn)\n",
    "# for temp_i, temp_crn_i in zip_object:\n",
    "#     difference2_laf.append(temp_i-temp_crn_i)\n",
    "\n",
    "# print(difference2_laf)"
   ]
  },
  {
   "cell_type": "markdown",
   "id": "cda99a3a",
   "metadata": {},
   "source": [
    "<font size=\"3\">Monroe, LA: 0600 UTC (12:00 am CST) 01 March 2022-0600 UTC (12:00 am CST) 02 March 2022</font>"
   ]
  },
  {
   "cell_type": "code",
   "execution_count": 45,
   "id": "3c145693",
   "metadata": {},
   "outputs": [
    {
     "name": "stdout",
     "output_type": "stream",
     "text": [
      "[0.830017, 0.330017, 0.190002, -0.00997925, -0.329987, -0.859985, -0.98999, -0.339996, 3.44, 8.44, 13.17, 17.82, 21.03, 22.9, 23.34, 22.48, 20.49, 17.5, 13.33, 10.37, 8.85001, 7.84, 6.76001, 6.12, 5.30002]\n"
     ]
    }
   ],
   "source": [
    "#1 hr hrrr:\n",
    "with open('hrrr_f18_Monroe_LA.txt') as f:\n",
    "    lst=[line.split()[4] for line in f]\n",
    "    temp_mon2=[]\n",
    "    for i in lst:\n",
    "        new=i.replace(',',\"\")\n",
    "        temp_mon2.append(new)\n",
    "    temp_mon2.pop(0)\n",
    "    temp_mon2=[float(x) for x in temp_mon2]\n",
    "    temp_mon2=temp_mon2[1692:1717]\n",
    "    #temp=temp[2015:2063]\n",
    "    print(temp_mon2)\n",
    "    #print(len(temp))\n",
    "#full time period is [2015:2112]"
   ]
  },
  {
   "cell_type": "code",
   "execution_count": 46,
   "id": "d11b7824",
   "metadata": {},
   "outputs": [
    {
     "name": "stdout",
     "output_type": "stream",
     "text": [
      "[-1.7, -2.3, -2.5, -2.6, -2.8, -3.0, -3.2, -2.9, 1.4, 6.3, 11.0, 14.9, 17.6, 19.8, 20.7, 19.9, 19.3, 15.6, 11.9, 7.5, 4.3, 2.4, 1.4, 2.0, 1.9]\n"
     ]
    }
   ],
   "source": [
    "#Air Temp CRN:\n",
    "with open('CRNH0203-2022-LA_Monroe_26_N.txt') as f:\n",
    "    lst=[line.split()[20] for line in f]\n",
    "    #print(lst)\n",
    "    temp_crn_mon2=[]\n",
    "    for i in lst:\n",
    "        new=i.replace(',',\"\")\n",
    "        temp_crn_mon2.append(new)\n",
    "    temp_crn_mon2=[float(x) for x in temp_crn_mon2]\n",
    "    temp_crn_mon2=temp_crn_mon2[1709:1734]\n",
    "    print(temp_crn_mon2)\n",
    "    #print(len(temp_crn))\n",
    "    # print(temp_crn[2124])"
   ]
  },
  {
   "cell_type": "code",
   "execution_count": 47,
   "id": "e5057ed5",
   "metadata": {},
   "outputs": [],
   "source": [
    "# difference2_mon = []\n",
    "\n",
    "# zip_object = zip(temp, temp_crn)\n",
    "# for temp_i, temp_crn_i in zip_object:\n",
    "#     difference2_mon.append(temp_i-temp_crn_i)\n",
    "\n",
    "# print(difference2_mon)"
   ]
  },
  {
   "cell_type": "markdown",
   "id": "50b6ccdc",
   "metadata": {},
   "source": [
    "<font size=\"3\">Holly Springs, MS: 0600 UTC (12:00 am CST) 01 March 2022-0600 UTC (12:00 am CST) 02 March 2022</font>"
   ]
  },
  {
   "cell_type": "code",
   "execution_count": 48,
   "id": "04968dd0",
   "metadata": {},
   "outputs": [
    {
     "name": "stdout",
     "output_type": "stream",
     "text": [
      "[-0.829987, -0.820007, -0.799988, -0.829987, -0.769989, -0.72998, -0.72998, -0.309998, 2.56, 6.16, 9.60001, 13.27, 16.5, 18.27, 18.95, 18.23, 16.6, 14.15, 10.35, 8.37, 7.11002, 6.10001, 5.22, 4.24002, 3.69]\n"
     ]
    }
   ],
   "source": [
    "#1 hr hrrr:\n",
    "with open('hrrr_f18_Holly Springs_MS.txt') as f:\n",
    "    lst=[line.split()[4] for line in f]\n",
    "    temp_hol2=[]\n",
    "    for i in lst:\n",
    "        new=i.replace(',',\"\")\n",
    "        temp_hol2.append(new)\n",
    "    temp_hol2.pop(0)\n",
    "    temp_hol2=[float(x) for x in temp_hol2]\n",
    "    temp_hol2=temp_hol2[1692:1717]\n",
    "    #temp=temp[2015:2063]\n",
    "    print(temp_hol2)\n",
    "    #print(len(temp))\n",
    "#full time period is [2015:2112]"
   ]
  },
  {
   "cell_type": "code",
   "execution_count": 49,
   "id": "6e5673eb",
   "metadata": {},
   "outputs": [
    {
     "name": "stdout",
     "output_type": "stream",
     "text": [
      "[-3.9, -4.1, -4.1, -4.1, -4.2, -4.2, -3.9, -3.5, -1.1, 4.8, 11.4, 15.5, 19.0, 20.6, 21.0, 20.1, 17.5, 14.0, 9.2, 4.7, 3.1, 2.4, 1.9, 1.3, 1.5]\n"
     ]
    }
   ],
   "source": [
    "#Air Temp CRN:\n",
    "with open('CRNH0203-2022-MS_Holly_Springs_4_N.txt') as f:\n",
    "    lst=[line.split()[20] for line in f]\n",
    "    #print(lst)\n",
    "    temp_crn_hol2=[]\n",
    "    for i in lst:\n",
    "        new=i.replace(',',\"\")\n",
    "        temp_crn_hol2.append(new)\n",
    "    temp_crn_hol2=[float(x) for x in temp_crn_hol2]\n",
    "    temp_crn_hol2=temp_crn_hol2[1709:1734]\n",
    "    print(temp_crn_hol2)\n",
    "    #print(len(temp_crn))\n",
    "    # print(temp_crn[2124])"
   ]
  },
  {
   "cell_type": "code",
   "execution_count": 50,
   "id": "b1ba34c2",
   "metadata": {},
   "outputs": [],
   "source": [
    "# difference2_hol = []\n",
    "\n",
    "# zip_object = zip(temp, temp_crn)\n",
    "# for temp_i, temp_crn_i in zip_object:\n",
    "#     difference2_hol.append(temp_i-temp_crn_i)\n",
    "\n",
    "# print(difference2_hol)"
   ]
  },
  {
   "cell_type": "markdown",
   "id": "9dd596b5",
   "metadata": {},
   "source": [
    "<font size=\"3\">Newton, MS: 0600 UTC (12:00 am CST) 01 March 2022-0600 UTC (12:00 am CST) 02 March 2022</font>"
   ]
  },
  {
   "cell_type": "code",
   "execution_count": 51,
   "id": "67050150",
   "metadata": {},
   "outputs": [
    {
     "name": "stdout",
     "output_type": "stream",
     "text": [
      "[-1.60999, -2.57001, -4.73999, -5.25998, -5.25, -5.25998, -5.34, -3.07001, 4.30002, 9.98001, 14.39, 18.4, 20.42, 21.78, 21.7, 20.97, 18.87, 15.7, 11.68, 9.33002, 7.56, 6.39001, 5.62, 4.88, 3.69]\n"
     ]
    }
   ],
   "source": [
    "#1 hr hrrr:\n",
    "with open('hrrr_f18_Newton_MS.txt') as f:\n",
    "    lst=[line.split()[4] for line in f]\n",
    "    temp_new2=[]\n",
    "    for i in lst:\n",
    "        new=i.replace(',',\"\")\n",
    "        temp_new2.append(new)\n",
    "    temp_new2.pop(0)\n",
    "    temp_new2=[float(x) for x in temp_new2]\n",
    "    temp_new2=temp_new2[1692:1717]\n",
    "    #temp=temp[2015:2063]\n",
    "    print(temp_new2)\n",
    "    #print(len(temp))\n",
    "#full time period is [2015:2112]"
   ]
  },
  {
   "cell_type": "code",
   "execution_count": 52,
   "id": "9793ccfe",
   "metadata": {},
   "outputs": [
    {
     "name": "stdout",
     "output_type": "stream",
     "text": [
      "[-3.5, -3.9, -4.3, -4.6, -4.9, -5.1, -5.2, -4.5, 1.7, 8.0, 14.7, 19.2, 22.1, 23.7, 24.4, 24.3, 21.7, 17.9, 11.9, 5.8, 3.4, 2.2, 1.2, 0.6, 0.1]\n"
     ]
    }
   ],
   "source": [
    "#Air Temp CRN:\n",
    "with open('CRNH0203-2022-MS_Newton_5_ENE.txt') as f:\n",
    "    lst=[line.split()[20] for line in f]\n",
    "    #print(lst)\n",
    "    temp_crn_new2=[]\n",
    "    for i in lst:\n",
    "        new=i.replace(',',\"\")\n",
    "        temp_crn_new2.append(new)\n",
    "    temp_crn_new2=[float(x) for x in temp_crn_new2]\n",
    "    temp_crn_new2=temp_crn_new2[1709:1734]\n",
    "    print(temp_crn_new2)\n",
    "    #print(len(temp_crn))\n",
    "    # print(temp_crn[2124])"
   ]
  },
  {
   "cell_type": "code",
   "execution_count": 53,
   "id": "e8bd78b0",
   "metadata": {},
   "outputs": [],
   "source": [
    "# difference2_new = []\n",
    "\n",
    "# zip_object = zip(temp, temp_crn)\n",
    "# for temp_i, temp_crn_i in zip_object:\n",
    "#     difference2_new.append(temp_i-temp_crn_i)\n",
    "\n",
    "# print(difference2_new)"
   ]
  },
  {
   "cell_type": "markdown",
   "id": "ec499d8b",
   "metadata": {},
   "source": [
    "<font size=\"3\">Gainesville, AL: 0600 UTC (12:00 am CST) 01 March 2022-0600 UTC (12:00 am CST) 02 March 2022</font>"
   ]
  },
  {
   "cell_type": "code",
   "execution_count": 54,
   "id": "e9f22db0",
   "metadata": {},
   "outputs": [],
   "source": [
    "# #1 hr hrrr:\n",
    "# with open('hrrr_f18_Gainesville_AL.txt') as f:\n",
    "#     lst=[line.split()[4] for line in f]\n",
    "#     temp=[]\n",
    "#     for i in lst:\n",
    "#         new=i.replace(',',\"\")\n",
    "#         temp.append(new)\n",
    "#     temp.pop(0)\n",
    "#     temp=[float(x) for x in temp]\n",
    "#     temp=temp[1698:1723]\n",
    "#     #temp=temp[2015:2063]\n",
    "#     print(temp)\n",
    "#     #print(len(temp))\n",
    "# #full time period is [2015:2112]"
   ]
  },
  {
   "cell_type": "code",
   "execution_count": 55,
   "id": "de89a88f",
   "metadata": {},
   "outputs": [],
   "source": [
    "# #Air Temp CRN:\n",
    "# with open('CRNH0203-2022-AL_Gainesville_2_NE.txt') as f:\n",
    "#     lst=[line.split()[20] for line in f]\n",
    "#     #print(lst)\n",
    "#     temp_crn=[]\n",
    "#     for i in lst:\n",
    "#         new=i.replace(',',\"\")\n",
    "#         temp_crn.append(new)\n",
    "#     temp_crn=[float(x) for x in temp_crn]\n",
    "#     temp_crn=temp_crn[1698:1723]\n",
    "#     print(temp_crn)\n",
    "#     #print(len(temp_crn))\n",
    "#     # print(temp_crn[2124])"
   ]
  },
  {
   "cell_type": "code",
   "execution_count": 56,
   "id": "2d1d92b8",
   "metadata": {},
   "outputs": [],
   "source": [
    "# difference2_gai = []\n",
    "\n",
    "# zip_object = zip(temp, temp_crn)\n",
    "# for temp_i, temp_crn_i in zip_object:\n",
    "#     difference2_gai.append(temp_i-temp_crn_i)\n",
    "\n",
    "# print(difference2_gai)"
   ]
  },
  {
   "cell_type": "markdown",
   "id": "4019fb67",
   "metadata": {},
   "source": [
    "<font size=\"3\">Fairhope, AL: 0600 UTC (12:00 am CST) 01 March 2022-0600 UTC (12:00 am CST) 02 March 2022</font>"
   ]
  },
  {
   "cell_type": "code",
   "execution_count": 57,
   "id": "c7e8255a",
   "metadata": {},
   "outputs": [
    {
     "name": "stdout",
     "output_type": "stream",
     "text": [
      "[1.07001, 0.529999, 0.0800171, -0.169983, -0.660004, -1.13, -1.45999, 0.809998, 5.53, 10.38, 14.76, 17.86, 19.89, 20.94, 21.07, 19.86, 17.11, 14.4, 10.81, 8.87, 7.42999, 6.14001, 5.10001, 4.28, 3.82001]\n"
     ]
    }
   ],
   "source": [
    "#1 hr hrrr:\n",
    "with open('hrrr_f18_Fairhope_AL.txt') as f:\n",
    "    lst=[line.split()[4] for line in f]\n",
    "    temp_fai2=[]\n",
    "    for i in lst:\n",
    "        new=i.replace(',',\"\")\n",
    "        temp_fai2.append(new)\n",
    "    temp_fai2.pop(0)\n",
    "    temp_fai2=[float(x) for x in temp_fai2]\n",
    "    temp_fai2=temp_fai2[1692:1717]\n",
    "    #temp=temp[2015:2063]\n",
    "    print(temp_fai2)\n",
    "    #print(len(temp))\n",
    "#full time period is [2015:2112]"
   ]
  },
  {
   "cell_type": "code",
   "execution_count": 58,
   "id": "2bb7c0bc",
   "metadata": {},
   "outputs": [
    {
     "name": "stdout",
     "output_type": "stream",
     "text": [
      "[-1.3, -1.6, -3.9, -5.0, -3.9, -4.2, -4.0, -2.2, 4.6, 13.1, 18.1, 23.4, 28.0, 26.4, 24.3, 22.0, 18.3, 13.2, 7.0, 1.9, -0.4, -1.1, -1.6, -2.0, -2.4]\n"
     ]
    }
   ],
   "source": [
    "#Air Temp CRN:\n",
    "with open('CRNH0203-2022-AL_Fairhope_3_NE.txt') as f:\n",
    "    lst=[line.split()[20] for line in f]\n",
    "    #print(lst)\n",
    "    temp_crn_fai2=[]\n",
    "    for i in lst:\n",
    "        new=i.replace(',',\"\")\n",
    "        temp_crn_fai2.append(new)\n",
    "    temp_crn_fai2=[float(x) for x in temp_crn_fai2]\n",
    "    temp_crn_fai2=temp_crn_fai2[1709:1734]\n",
    "    print(temp_crn_fai2)\n",
    "    #print(len(temp_crn))\n",
    "    # print(temp_crn[2124])"
   ]
  },
  {
   "cell_type": "code",
   "execution_count": 59,
   "id": "e99e35e0",
   "metadata": {},
   "outputs": [],
   "source": [
    "# difference2_fai = []\n",
    "\n",
    "# zip_object = zip(temp, temp_crn)\n",
    "# for temp_i, temp_crn_i in zip_object:\n",
    "#     difference2_fai.append(temp_i-temp_crn_i)\n",
    "\n",
    "# print(difference2_fai)"
   ]
  },
  {
   "cell_type": "markdown",
   "id": "cb09fde7",
   "metadata": {},
   "source": [
    "<font size=\"3\">**Selma, AL: 0600 UTC (12:00 am CST) 01 March 2022-0600 UTC (12:00 am CST) 02 March 2022</font>"
   ]
  },
  {
   "cell_type": "code",
   "execution_count": 60,
   "id": "fe2b2257",
   "metadata": {},
   "outputs": [
    {
     "name": "stdout",
     "output_type": "stream",
     "text": [
      "[-0.470001, -0.449982, -0.449982, -0.459991, -0.419983, -0.47998, -0.47998, 0.630005, 4.07001, 7.52002, 10.76, 13.18, 14.9, 15.89, 16.09, 15.54, 14.05, 12.62, 8.77002, 6.67001, 5.39999, 4.44, 3.91, 3.27002, 2.55002]\n",
      "[-1.2, -1.8, -2.2, -2.7, -3.2, -3.5, -3.6, -2.4, 2.9, 8.4, 13.4, 17.1, 19.8, 21.5, 21.7, 21.5, 19.5, 16.1, 13.2, 8.6, 5.9, 4.6, 3.6, 2.9, 2.4]\n"
     ]
    }
   ],
   "source": [
    "#1 hr hrrr:\n",
    "import numpy as np\n",
    "import numpy.ma as ma\n",
    "with open('hrrr_f18_Selma_AL.txt') as f:\n",
    "    lst=[line.split()[4] for line in f]\n",
    "    temp_sel2=[]\n",
    "    for i in lst:\n",
    "        new=i.replace(',',\"\")\n",
    "        temp_sel2.append(new)\n",
    "    temp_sel2.pop(0)\n",
    "    temp_sel2=[float(x) for x in temp_sel2]\n",
    "    temp_sel2=temp_sel2[1692:1717]\n",
    "\n",
    "#     x = np.array(temp)\n",
    "#     temp = ma.masked_array(x, mask=[0, 0, 0, 0, 0,0,0,0,0,0,0,0,0,0,0,0,0,1,1,1,1,0,0,0,0])\n",
    "    #print(temp)\n",
    "#Air Temp CRN:\n",
    "with open('CRNH0203-2022-AL_Selma_13_WNW.txt') as f:\n",
    "    lst=[line.split()[20] for line in f]\n",
    "    #print(lst)\n",
    "    temp_crn_sel2=[]\n",
    "    for i in lst:\n",
    "        new=i.replace(',',\"\")\n",
    "        temp_crn_sel2.append(new)\n",
    "    temp_crn_sel2=[float(x) for x in temp_crn_sel2]\n",
    "    temp_crn_sel2=temp_crn_sel2[1709:1734]\n",
    "#     y = np.array(temp_crn)\n",
    "#     temp_crn = ma.masked_array(y, mask=[0, 0, 0, 0, 0,0,0,0,0,0,0,0,0,0,0,0,0,1,1,1,1,0,0,0,0])\n",
    "    print(temp_sel2)\n",
    "    #print(len(temp))\n",
    "    print(temp_crn_sel2)\n",
    "    #print(len(temp_crn))\n",
    "#full time period is [2015:2112]\n",
    "# difference2_sel = []\n",
    "\n",
    "# zip_object = zip(temp, temp_crn)\n",
    "# for temp_i, temp_crn_i in zip_object:\n",
    "#     difference2_sel.append(temp_i-temp_crn_i)\n",
    "\n",
    "# print(difference2_sel)\n",
    "# print(len(difference2_sel))"
   ]
  },
  {
   "cell_type": "markdown",
   "id": "9767e5fd",
   "metadata": {},
   "source": [
    "<font size=\"3\">Bowling Green, KY: 0600 UTC (12:00 am CST) 01 March 2022-0600 UTC (12:00 am CST) 02 March 2022</font>"
   ]
  },
  {
   "cell_type": "code",
   "execution_count": 61,
   "id": "a031b19f",
   "metadata": {},
   "outputs": [
    {
     "name": "stdout",
     "output_type": "stream",
     "text": [
      "[-5.26999, -5.32001, -5.17999, -5.26999, -5.91998, -6.10001, -5.59, -3.59, -1.41, 2.32001, 5.11002, 8.62, 11.16, 13.12, 14.42, 14.27, 12.82, 10.46, 7.27002, 5.49002, 4.48001, 3.92999, 3.20001, 2.70999, 2.41]\n"
     ]
    }
   ],
   "source": [
    "#1 hr hrrr:\n",
    "with open('hrrr_f18_Bowling Green_KY.txt') as f:\n",
    "    lst=[line.split()[4] for line in f]\n",
    "    temp_bow2=[]\n",
    "    for i in lst:\n",
    "        new=i.replace(',',\"\")\n",
    "        temp_bow2.append(new)\n",
    "    temp_bow2.pop(0)\n",
    "    temp_bow2=[float(x) for x in temp_bow2]\n",
    "    temp_bow2=temp_bow2[1692:1717]\n",
    "    #temp=temp[2015:2063]\n",
    "    print(temp_bow2)\n",
    "    #print(len(temp))\n",
    "#full time period is [2015:2112]"
   ]
  },
  {
   "cell_type": "code",
   "execution_count": 62,
   "id": "f404948b",
   "metadata": {},
   "outputs": [
    {
     "name": "stdout",
     "output_type": "stream",
     "text": [
      "[-12.0, -11.4, -11.3, -11.4, -9.9, -6.3, -5.6, -5.0, -3.8, -1.9, 0.2, 3.1, 8.3, 14.2, 16.5, 17.1, 14.0, 10.9, 6.1, 1.4, 0.2, 0.8, 1.3, 1.9, 1.5]\n"
     ]
    }
   ],
   "source": [
    "#Air Temp CRN:\n",
    "with open('CRNH0203-2022-KY_Bowling_Green_21_NNE.txt') as f:\n",
    "    lst=[line.split()[20] for line in f]\n",
    "    #print(lst)\n",
    "    temp_crn_bow2=[]\n",
    "    for i in lst:\n",
    "        new=i.replace(',',\"\")\n",
    "        temp_crn_bow2.append(new)\n",
    "    temp_crn_bow2=[float(x) for x in temp_crn_bow2]\n",
    "    temp_crn_bow2=temp_crn_bow2[1709:1734]\n",
    "    print(temp_crn_bow2)\n",
    "    #print(len(temp_crn))\n",
    "    # print(temp_crn[2124])"
   ]
  },
  {
   "cell_type": "code",
   "execution_count": 63,
   "id": "d326cffb",
   "metadata": {},
   "outputs": [],
   "source": [
    "# difference2_bow = []\n",
    "\n",
    "# zip_object = zip(temp, temp_crn)\n",
    "# for temp_i, temp_crn_i in zip_object:\n",
    "#     difference2_bow.append(temp_i-temp_crn_i)\n",
    "\n",
    "# print(difference2_bow)"
   ]
  },
  {
   "cell_type": "markdown",
   "id": "cf477d73",
   "metadata": {},
   "source": [
    "<font size=\"3\">Gadsden, AL: 0600 UTC (12:00 am CST) 01 March 2022-0600 UTC (12:00 am CST) 02 March 2022</font>"
   ]
  },
  {
   "cell_type": "code",
   "execution_count": 64,
   "id": "8d9653aa",
   "metadata": {},
   "outputs": [
    {
     "name": "stdout",
     "output_type": "stream",
     "text": [
      "[-1.06, -0.98999, -1.06, -1.00998, -1.00998, -1.04001, -0.97998, -0.369995, 1.91, 5.07001, 8.11002, 10.77, 12.71, 13.85, 14.17, 13.82, 12.21, 9.74002, 6.70001, 5.11002, 3.73001, 2.67999, 1.92999, 1.37, 0.820007]\n"
     ]
    }
   ],
   "source": [
    "#1 hr hrrr:\n",
    "with open('hrrr_f18_Gadsden_AL.txt') as f:\n",
    "    lst=[line.split()[4] for line in f]\n",
    "    temp_gad2=[]\n",
    "    for i in lst:\n",
    "        new=i.replace(',',\"\")\n",
    "        temp_gad2.append(new)\n",
    "    temp_gad2.pop(0)\n",
    "    temp_gad2=[float(x) for x in temp_gad2]\n",
    "    temp_gad2=temp_gad2[1692:1717]\n",
    "#     x = np.array(temp)\n",
    "#     temp = ma.masked_array(x, mask=[0, 0, 0, 0, 0,0,0,0,1,0,0,0,0,0,0,0,0,0,0,0,0,0,0,0,0])\n",
    "    #temp=temp[2015:2063]\n",
    "    print(temp_gad2)\n",
    "    #print(len(temp))\n",
    "#full time period is [2015:2112]"
   ]
  },
  {
   "cell_type": "code",
   "execution_count": 65,
   "id": "d942ec7d",
   "metadata": {},
   "outputs": [
    {
     "name": "stdout",
     "output_type": "stream",
     "text": [
      "[-4.6, -5.1, -5.5, -5.8, -5.6, -5.6, -5.8, -3.6, 0.7, 6.2, 10.5, 14.5, 17.4, 18.8, 18.8, 17.6, 15.0, 11.6, 7.6, 3.8, 3.3, 3.1, 2.6, 2.3, 1.5]\n"
     ]
    }
   ],
   "source": [
    "#Air Temp CRN:\n",
    "with open('CRNH0203-2022-AL_Gadsden_19_N.txt') as f:\n",
    "    lst=[line.split()[20] for line in f]\n",
    "    #print(lst)\n",
    "    temp_crn_gad2=[]\n",
    "    for i in lst:\n",
    "        new=i.replace(',',\"\")\n",
    "        temp_crn_gad2.append(new)\n",
    "    temp_crn_gad2=[float(x) for x in temp_crn_gad2]\n",
    "    temp_crn_gad2=temp_crn_gad2[1709:1734]\n",
    "#     y = np.array(temp_crn)\n",
    "#     temp_crn = ma.masked_array(y, mask=[0, 0, 0, 0, 0,0,0,0,1,0,0,0,0,0,0,0,0,0,0,0,0,0,0,0,0])\n",
    "    print(temp_crn_gad2)\n",
    "    #print(len(temp_crn))\n",
    "    # print(temp_crn[2124])"
   ]
  },
  {
   "cell_type": "code",
   "execution_count": 66,
   "id": "254e1e52",
   "metadata": {},
   "outputs": [],
   "source": [
    "# difference2_gad = []\n",
    "\n",
    "# zip_object = zip(temp, temp_crn)\n",
    "# for temp_i, temp_crn_i in zip_object:\n",
    "#     difference2_gad.append(temp_i-temp_crn_i)\n",
    "\n",
    "# print(difference2_gad)"
   ]
  },
  {
   "cell_type": "markdown",
   "id": "75862889",
   "metadata": {},
   "source": [
    "<font size=\"3\">Newton, GA: 0600 UTC (12:00 am CST) 01 March 2022-0600 UTC (12:00 am CST) 02 March 2022</font>"
   ]
  },
  {
   "cell_type": "code",
   "execution_count": 67,
   "id": "06608db6",
   "metadata": {},
   "outputs": [
    {
     "name": "stdout",
     "output_type": "stream",
     "text": [
      "[-0.470001, -0.559998, -0.619995, -0.759979, -0.880005, -0.959991, -0.929993, 0.690002, 3.92001, 7.60001, 10.94, 14.1, 17.05, 19.06, 19.64, 18.62, 16.54, 13.4, 9.17001, 7.49002, 6.42999, 5.42999, 4.55002, 3.89001, 3.20001]\n"
     ]
    }
   ],
   "source": [
    "#1 hr hrrr:\n",
    "with open('hrrr_f18_Newton_GA.txt') as f:\n",
    "    lst=[line.split()[4] for line in f]\n",
    "    temp_newt2=[]\n",
    "    for i in lst:\n",
    "        new=i.replace(',',\"\")\n",
    "        temp_newt2.append(new)\n",
    "    temp_newt2.pop(0)\n",
    "    temp_newt2=[float(x) for x in temp_newt2]\n",
    "    temp_newt2=temp_newt2[1692:1717]\n",
    "    #temp=temp[2015:2063]\n",
    "    print(temp_newt2)\n",
    "    #print(len(temp))\n",
    "#full time period is [2015:2112]"
   ]
  },
  {
   "cell_type": "code",
   "execution_count": 68,
   "id": "9adb1c44",
   "metadata": {},
   "outputs": [
    {
     "name": "stdout",
     "output_type": "stream",
     "text": [
      "[1.5, 1.0, 0.5, -0.1, -0.5, -0.8, -1.3, -1.5, -0.2, 4.5, 10.1, 15.5, 19.7, 23.2, 24.8, 24.9, 23.3, 20.4, 16.1, 10.2, 6.8, 5.6, 4.7, 4.0, 3.5]\n"
     ]
    }
   ],
   "source": [
    "#Air Temp CRN:\n",
    "with open('CRNH0203-2022-GA_Newton_11_SW.txt') as f:\n",
    "    lst=[line.split()[20] for line in f]\n",
    "    #print(lst)\n",
    "    temp_crn_newt2=[]\n",
    "    for i in lst:\n",
    "        new=i.replace(',',\"\")\n",
    "        temp_crn_newt2.append(new)\n",
    "    temp_crn_newt2=[float(x) for x in temp_crn_newt2]\n",
    "    temp_crn_newt2=temp_crn_newt2[1708:1733]\n",
    "    print(temp_crn_newt2)\n",
    "    #print(len(temp_crn))\n",
    "    # print(temp_crn[2124])"
   ]
  },
  {
   "cell_type": "code",
   "execution_count": 69,
   "id": "405581a9",
   "metadata": {},
   "outputs": [],
   "source": [
    "# difference2_newt = []\n",
    "\n",
    "# zip_object = zip(temp, temp_crn)\n",
    "# for temp_i, temp_crn_i in zip_object:\n",
    "#     difference2_newt.append(temp_i-temp_crn_i)\n",
    "\n",
    "# print(difference2_newt)"
   ]
  },
  {
   "cell_type": "markdown",
   "id": "70443283",
   "metadata": {},
   "source": [
    "<font size=\"3\">Salem, MO: 0500 UTC (12:00 am CDT) 20 March 2022-0500 UTC (12:00 am CDT) 21 March 2022</font>"
   ]
  },
  {
   "cell_type": "code",
   "execution_count": 70,
   "id": "2d0299c0",
   "metadata": {},
   "outputs": [
    {
     "name": "stdout",
     "output_type": "stream",
     "text": [
      "[3.42999, 3.24002, 2.89001, 1.99002, 1.56, 1.30002, 1.31, 0.899994, 2.36002, 7.16, 11.43, 14.95, 17.28, 19.3, 21.46, 22.99, 23.24, 21.75, 19.49, 15.04, 11.87, 10.15, 9.45001, 9.11002, 8.78]\n"
     ]
    }
   ],
   "source": [
    "#1 hr hrrr:\n",
    "with open('hrrr_f18_Salem_MO.txt') as f:\n",
    "    lst=[line.split()[4] for line in f]\n",
    "    temp_sal3=[]\n",
    "    for i in lst:\n",
    "        new=i.replace(',',\"\")\n",
    "        temp_sal3.append(new)\n",
    "    temp_sal3.pop(0)\n",
    "    temp_sal3=[float(x) for x in temp_sal3]\n",
    "    temp_sal3=temp_sal3[1859:1884]\n",
    "    #temp=temp[2015:2063]\n",
    "    print(temp_sal3)\n",
    "#full time period is [2015:2112]"
   ]
  },
  {
   "cell_type": "code",
   "execution_count": 71,
   "id": "c8ed8705",
   "metadata": {},
   "outputs": [
    {
     "name": "stdout",
     "output_type": "stream",
     "text": [
      "[-1.9, -2.4, -2.8, -2.9, -2.9, -3.1, -3.6, -3.8, -2.8, 3.8, 13.2, 19.1, 23.9, 28.3, 30.6, 32.1, 30.6, 26.0, 21.5, 14.9, 6.3, 3.9, 4.8, 6.9, 6.8]\n",
      "25\n"
     ]
    }
   ],
   "source": [
    "#Air Temp CRN:\n",
    "with open('CRNH0203-2022-MO_Salem_10_W.txt') as f:\n",
    "    lst=[line.split()[20] for line in f]\n",
    "    #print(lst)\n",
    "    temp_crn_sal3=[]\n",
    "    for i in lst:\n",
    "        new=i.replace(',',\"\")\n",
    "        temp_crn_sal3.append(new)\n",
    "    temp_crn_sal3=[float(x) for x in temp_crn_sal3]\n",
    "    temp_crn_sal3=temp_crn_sal3[1876:1901]\n",
    "    print(temp_crn_sal3)\n",
    "    print(len(temp_crn_sal3))\n",
    "    # print(temp_crn[2124])"
   ]
  },
  {
   "cell_type": "code",
   "execution_count": 72,
   "id": "e8c3c3a5",
   "metadata": {},
   "outputs": [],
   "source": [
    "# difference3_sal = []\n",
    "\n",
    "# zip_object = zip(temp, temp_crn)\n",
    "# for temp_i, temp_crn_i in zip_object:\n",
    "#     difference3_sal.append(temp_i-temp_crn_i)\n",
    "\n",
    "# print(difference3_sal)"
   ]
  },
  {
   "cell_type": "markdown",
   "id": "176d67cb",
   "metadata": {},
   "source": [
    "<font size=\"3\">Batesville, AR: 0600 UTC (12:00 am CST) 01 March 2022-0600 UTC (12:00 am CST) 02 March 2022</font>"
   ]
  },
  {
   "cell_type": "code",
   "execution_count": 73,
   "id": "51a628f5",
   "metadata": {},
   "outputs": [
    {
     "name": "stdout",
     "output_type": "stream",
     "text": [
      "[6.64999, 6.17001, 5.53, 5.20001, 4.88, 4.35001, 3.85001, 3.5, 4.79001, 9.95001, 14.34, 17.8, 21.34, 24.63, 26.92, 27.76, 26.84, 25.06, 22.48, 18.29, 14.79, 12.89, 11.49, 10.5, 9.88]\n",
      "25\n"
     ]
    }
   ],
   "source": [
    "#1 hr hrrr:\n",
    "with open('hrrr_f18_Batesville_AR.txt') as f:\n",
    "    lst=[line.split()[4] for line in f]\n",
    "    temp_bat3=[]\n",
    "    for i in lst:\n",
    "        new=i.replace(',',\"\")\n",
    "        temp_bat3.append(new)\n",
    "    temp_bat3.pop(0)\n",
    "    temp_bat3=[float(x) for x in temp_bat3]\n",
    "    temp_bat3=temp_bat3[1859:1884]\n",
    "#     x = np.array(temp)\n",
    "#     temp = ma.masked_array(x, mask=[0, 0, 0, 0, 0,0,0,0,0,0,0,0,0,0,0,0,0,0,0,0,0,1,0,0,0])\n",
    "    #temp=temp[2015:2063]\n",
    "    print(temp_bat3)\n",
    "    print(len(temp_bat3))\n",
    "#full time period is [2015:2112]"
   ]
  },
  {
   "cell_type": "code",
   "execution_count": 74,
   "id": "e5b7984c",
   "metadata": {},
   "outputs": [
    {
     "name": "stdout",
     "output_type": "stream",
     "text": [
      "[2.3, 2.0, 1.3, 1.0, 0.7, 0.4, 0.3, 0.0, 0.5, 5.4, 13.8, 17.1, 21.1, 24.7, 26.3, 25.5, 23.6, 21.2, 19.1, 15.0, 9.3, 10.4, 7.7, 6.5, 6.4]\n"
     ]
    }
   ],
   "source": [
    "#Air Temp CRN:\n",
    "with open('CRNH0203-2022-AR_Batesville_8_WNW.txt') as f:\n",
    "    lst=[line.split()[20] for line in f]\n",
    "    #print(lst)\n",
    "    temp_crn_bat3=[]\n",
    "    for i in lst:\n",
    "        new=i.replace(',',\"\")\n",
    "        temp_crn_bat3.append(new)\n",
    "    temp_crn_bat3=[float(x) for x in temp_crn_bat3]\n",
    "    temp_crn_bat3=temp_crn_bat3[1876:1901]\n",
    "#     y = np.array(temp_crn)\n",
    "#     temp_crn = ma.masked_array(y, mask=[0, 0, 0, 0, 0,0,0,0,0,0,0,0,0,0,0,0,0,0,0,0,0,1,0,0,0])\n",
    "    print(temp_crn_bat3)\n",
    "    #print(len(temp_crn))\n",
    "    # print(temp_crn[2124])"
   ]
  },
  {
   "cell_type": "code",
   "execution_count": 75,
   "id": "19589d21",
   "metadata": {},
   "outputs": [],
   "source": [
    "# difference3_bat = []\n",
    "\n",
    "# zip_object = zip(temp, temp_crn)\n",
    "# for temp_i, temp_crn_i in zip_object:\n",
    "#     difference3_bat.append(temp_i-temp_crn_i)\n",
    "\n",
    "# print(difference3_bat)"
   ]
  },
  {
   "cell_type": "markdown",
   "id": "9ac05a40",
   "metadata": {},
   "source": [
    "<font size=\"3\">Lafayette, LA: 0600 UTC (12:00 am CST) 01 March 2022-0600 UTC (12:00 am CST) 02 March 2022</font>"
   ]
  },
  {
   "cell_type": "code",
   "execution_count": 76,
   "id": "f280badb",
   "metadata": {},
   "outputs": [
    {
     "name": "stdout",
     "output_type": "stream",
     "text": [
      "[10.58, 9.58002, 8.86002, 8.31, 7.24002, 6.17001, 6.09, 5.59, 7.85001, 15.45, 22.39, 27.05, 30.09, 32.43, 33.67, 33.41, 32.36, 30.09, 26.72, 22.62, 18.51, 16.13, 14.6, 14.19, 13.07]\n"
     ]
    }
   ],
   "source": [
    "#1 hr hrrr:\n",
    "with open('hrrr_f18_Lafayette_LA.txt') as f:\n",
    "    lst=[line.split()[4] for line in f]\n",
    "    temp_laf3=[]\n",
    "    for i in lst:\n",
    "        new=i.replace(',',\"\")\n",
    "        temp_laf3.append(new)\n",
    "    temp_laf3.pop(0)\n",
    "    temp_laf3=[float(x) for x in temp_laf3]\n",
    "    temp_laf3=temp_laf3[1859:1884]\n",
    "    #temp=temp[2015:2063]\n",
    "    print(temp_laf3)\n",
    "    #print(len(temp))\n",
    "#full time period is [2015:2112]"
   ]
  },
  {
   "cell_type": "code",
   "execution_count": 77,
   "id": "17793fb2",
   "metadata": {},
   "outputs": [
    {
     "name": "stdout",
     "output_type": "stream",
     "text": [
      "[4.0, 3.5, 3.3, 2.9, 2.7, 2.5, 1.9, 1.9, 3.2, 11.0, 16.1, 21.8, 26.4, 28.8, 29.5, 29.7, 28.3, 26.4, 23.2, 18.5, 11.8, 10.2, 10.9, 9.3, 8.3]\n"
     ]
    }
   ],
   "source": [
    "#Air Temp CRN:\n",
    "with open('CRNH0203-2022-LA_Lafayette_13_SE.txt') as f:\n",
    "    lst=[line.split()[20] for line in f]\n",
    "    #print(lst)\n",
    "    temp_crn_laf3=[]\n",
    "    for i in lst:\n",
    "        new=i.replace(',',\"\")\n",
    "        temp_crn_laf3.append(new)\n",
    "    temp_crn_laf3=[float(x) for x in temp_crn_laf3]\n",
    "    temp_crn_laf3=temp_crn_laf3[1876:1901]\n",
    "    print(temp_crn_laf3)\n",
    "    #print(len(temp_crn))\n",
    "    # print(temp_crn[2124])"
   ]
  },
  {
   "cell_type": "code",
   "execution_count": 78,
   "id": "36c6a6c7",
   "metadata": {},
   "outputs": [],
   "source": [
    "# difference3_laf = []\n",
    "\n",
    "# zip_object = zip(temp, temp_crn)\n",
    "# for temp_i, temp_crn_i in zip_object:\n",
    "#     difference3_laf.append(temp_i-temp_crn_i)\n",
    "\n",
    "# print(difference3_laf)"
   ]
  },
  {
   "cell_type": "markdown",
   "id": "9f50a0c5",
   "metadata": {},
   "source": [
    "<font size=\"3\">Monroe, LA: 0600 UTC (12:00 am CST) 01 March 2022-0600 UTC (12:00 am CST) 02 March 2022</font>"
   ]
  },
  {
   "cell_type": "code",
   "execution_count": 79,
   "id": "afe54e44",
   "metadata": {},
   "outputs": [
    {
     "name": "stdout",
     "output_type": "stream",
     "text": [
      "[9.17999, 8.60001, 7.89001, 7.80002, 7.26001, 6.97, 6.87, 6.44, 7.51001, 12.52, 16.9, 21.63, 26.35, 30.4, 32.11, 32.05, 30.82, 28.38, 25.05, 20.67, 17.32, 15.12, 13.52, 12.18, 11.61]\n"
     ]
    }
   ],
   "source": [
    "#1 hr hrrr:\n",
    "with open('hrrr_f18_Monroe_LA.txt') as f:\n",
    "    lst=[line.split()[4] for line in f]\n",
    "    temp_mon3=[]\n",
    "    for i in lst:\n",
    "        new=i.replace(',',\"\")\n",
    "        temp_mon3.append(new)\n",
    "    temp_mon3.pop(0)\n",
    "    temp_mon3=[float(x) for x in temp_mon3]\n",
    "    temp_mon3=temp_mon3[1859:1884]\n",
    "    #temp=temp[2015:2063]\n",
    "    print(temp_mon3)\n",
    "    #print(len(temp))\n",
    "#full time period is [2015:2112]"
   ]
  },
  {
   "cell_type": "code",
   "execution_count": 80,
   "id": "32d70ce1",
   "metadata": {},
   "outputs": [
    {
     "name": "stdout",
     "output_type": "stream",
     "text": [
      "[5.0, 4.6, 4.1, 3.6, 3.3, 3.0, 2.8, 2.6, 2.8, 8.5, 14.7, 20.4, 24.1, 26.6, 28.1, 28.5, 27.9, 27.1, 22.2, 18.0, 12.0, 9.2, 8.4, 6.9, 6.0]\n"
     ]
    }
   ],
   "source": [
    "#Air Temp CRN:\n",
    "with open('CRNH0203-2022-LA_Monroe_26_N.txt') as f:\n",
    "    lst=[line.split()[20] for line in f]\n",
    "    #print(lst)\n",
    "    temp_crn_mon3=[]\n",
    "    for i in lst:\n",
    "        new=i.replace(',',\"\")\n",
    "        temp_crn_mon3.append(new)\n",
    "    temp_crn_mon3=[float(x) for x in temp_crn_mon3]\n",
    "    temp_crn_mon3=temp_crn_mon3[1876:1901]\n",
    "    print(temp_crn_mon3)\n",
    "    #print(len(temp_crn))\n",
    "    # print(temp_crn[2124])"
   ]
  },
  {
   "cell_type": "code",
   "execution_count": 81,
   "id": "79ffb554",
   "metadata": {},
   "outputs": [],
   "source": [
    "# difference3_mon = []\n",
    "\n",
    "# zip_object = zip(temp, temp_crn)\n",
    "# for temp_i, temp_crn_i in zip_object:\n",
    "#     difference3_mon.append(temp_i-temp_crn_i)\n",
    "\n",
    "# print(difference3_mon)"
   ]
  },
  {
   "cell_type": "markdown",
   "id": "1bf55dcc",
   "metadata": {},
   "source": [
    "<font size=\"3\">Holly Springs, MS: 0600 UTC (12:00 am CST) 01 March 2022-0600 UTC (12:00 am CST) 02 March 2022</font>"
   ]
  },
  {
   "cell_type": "code",
   "execution_count": 82,
   "id": "70182e09",
   "metadata": {},
   "outputs": [
    {
     "name": "stdout",
     "output_type": "stream",
     "text": [
      "[7.08002, 7.04001, 6.51001, 6.16, 5.38, 4.70001, 4.26001, 3.95001, 6.31, 11.32, 15.51, 19.17, 22.81, 25.89, 26.79, 26.69, 25.67, 23.58, 20.89, 16.79, 13.72, 12.05, 11.27, 11.19, 10.47]\n"
     ]
    }
   ],
   "source": [
    "#1 hr hrrr:\n",
    "with open('hrrr_f18_Holly Springs_MS.txt') as f:\n",
    "    lst=[line.split()[4] for line in f]\n",
    "    temp_hol3=[]\n",
    "    for i in lst:\n",
    "        new=i.replace(',',\"\")\n",
    "        temp_hol3.append(new)\n",
    "    temp_hol3.pop(0)\n",
    "    temp_hol3=[float(x) for x in temp_hol3]\n",
    "    temp_hol3=temp_hol3[1859:1884]\n",
    "    #temp=temp[2015:2063]\n",
    "    print(temp_hol3)\n",
    "    #print(len(temp))\n",
    "#full time period is [2015:2112]"
   ]
  },
  {
   "cell_type": "code",
   "execution_count": 83,
   "id": "f5ab820d",
   "metadata": {},
   "outputs": [
    {
     "name": "stdout",
     "output_type": "stream",
     "text": [
      "[3.8, 3.7, 3.6, 3.3, 2.8, 2.3, 1.9, 1.7, 2.2, 7.9, 13.9, 19.0, 22.7, 25.1, 26.4, 26.3, 25.3, 23.4, 20.3, 14.5, 10.1, 8.2, 6.9, 6.1, 5.4]\n"
     ]
    }
   ],
   "source": [
    "#Air Temp CRN:\n",
    "with open('CRNH0203-2022-MS_Holly_Springs_4_N.txt') as f:\n",
    "    lst=[line.split()[20] for line in f]\n",
    "    #print(lst)\n",
    "    temp_crn_hol3=[]\n",
    "    for i in lst:\n",
    "        new=i.replace(',',\"\")\n",
    "        temp_crn_hol3.append(new)\n",
    "    temp_crn_hol3=[float(x) for x in temp_crn_hol3]\n",
    "    temp_crn_hol3=temp_crn_hol3[1876:1901]\n",
    "    print(temp_crn_hol3)\n",
    "    #print(len(temp_crn))\n",
    "    # print(temp_crn[2124])"
   ]
  },
  {
   "cell_type": "code",
   "execution_count": 84,
   "id": "9d0ab2f8",
   "metadata": {},
   "outputs": [],
   "source": [
    "# difference3_hol = []\n",
    "\n",
    "# zip_object = zip(temp, temp_crn)\n",
    "# for temp_i, temp_crn_i in zip_object:\n",
    "#     difference3_hol.append(temp_i-temp_crn_i)\n",
    "\n",
    "# print(difference3_hol)"
   ]
  },
  {
   "cell_type": "markdown",
   "id": "2d2b0ce7",
   "metadata": {},
   "source": [
    "<font size=\"3\">Newton, MS: 0600 UTC (12:00 am CST) 01 March 2022-0600 UTC (12:00 am CST) 02 March 2022</font>"
   ]
  },
  {
   "cell_type": "code",
   "execution_count": 85,
   "id": "d10078d2",
   "metadata": {},
   "outputs": [
    {
     "name": "stdout",
     "output_type": "stream",
     "text": [
      "[7.94, 7.27002, 6.58002, 6.35001, 5.92001, 5.17999, 4.72, 4.14999, 7.12, 14.04, 20.78, 25.69, 28.34, 30.04, 29.93, 29.5, 27.89, 25.8, 22.87, 18.78, 16.18, 14.68, 13.02, 12.09, 10.78]\n"
     ]
    }
   ],
   "source": [
    "#1 hr hrrr:\n",
    "with open('hrrr_f18_Newton_MS.txt') as f:\n",
    "    lst=[line.split()[4] for line in f]\n",
    "    temp_new3=[]\n",
    "    for i in lst:\n",
    "        new=i.replace(',',\"\")\n",
    "        temp_new3.append(new)\n",
    "    temp_new3.pop(0)\n",
    "    temp_new3=[float(x) for x in temp_new3]\n",
    "    temp_new3=temp_new3[1859:1884]\n",
    "    #temp=temp[2015:2063]\n",
    "    print(temp_new3)\n",
    "    #print(len(temp))\n",
    "#full time period is [2015:2112]"
   ]
  },
  {
   "cell_type": "code",
   "execution_count": 86,
   "id": "92c9162c",
   "metadata": {},
   "outputs": [
    {
     "name": "stdout",
     "output_type": "stream",
     "text": [
      "[3.1, 2.8, 2.4, 2.1, 1.7, 1.5, 1.1, 0.8, 2.3, 10.0, 17.6, 23.4, 27.8, 30.3, 30.0, 30.7, 29.9, 27.6, 24.8, 19.2, 12.5, 10.5, 8.9, 7.6, 6.6]\n"
     ]
    }
   ],
   "source": [
    "#Air Temp CRN:\n",
    "with open('CRNH0203-2022-MS_Newton_5_ENE.txt') as f:\n",
    "    lst=[line.split()[20] for line in f]\n",
    "    #print(lst)\n",
    "    temp_crn_new3=[]\n",
    "    for i in lst:\n",
    "        new=i.replace(',',\"\")\n",
    "        temp_crn_new3.append(new)\n",
    "    temp_crn_new3=[float(x) for x in temp_crn_new3]\n",
    "    temp_crn_new3=temp_crn_new3[1876:1901]\n",
    "    print(temp_crn_new3)\n",
    "    #print(len(temp_crn))\n",
    "    # print(temp_crn[2124])"
   ]
  },
  {
   "cell_type": "code",
   "execution_count": 87,
   "id": "9f44baa8",
   "metadata": {},
   "outputs": [],
   "source": [
    "# difference3_new = []\n",
    "\n",
    "# zip_object = zip(temp, temp_crn)\n",
    "# for temp_i, temp_crn_i in zip_object:\n",
    "#     difference3_new.append(temp_i-temp_crn_i)\n",
    "\n",
    "# print(difference3_new)"
   ]
  },
  {
   "cell_type": "markdown",
   "id": "538036ab",
   "metadata": {},
   "source": [
    "<font size=\"3\">Gainesville, AL: 0600 UTC (12:00 am CST) 01 March 2022-0600 UTC (12:00 am CST) 02 March 2022</font>"
   ]
  },
  {
   "cell_type": "code",
   "execution_count": 88,
   "id": "24a63117",
   "metadata": {},
   "outputs": [],
   "source": [
    "# #1 hr hrrr:\n",
    "# with open('hrrr_f18_Gainesville_AL.txt') as f:\n",
    "#     lst=[line.split()[4] for line in f]\n",
    "#     temp=[]\n",
    "#     for i in lst:\n",
    "#         new=i.replace(',',\"\")\n",
    "#         temp.append(new)\n",
    "#     temp.pop(0)\n",
    "#     temp=[float(x) for x in temp]\n",
    "#     temp=temp[1876:1901]\n",
    "#     #temp=temp[2015:2063]\n",
    "#     print(temp)\n",
    "#     #print(len(temp))\n",
    "# #full time period is [2015:2112]"
   ]
  },
  {
   "cell_type": "code",
   "execution_count": 89,
   "id": "232e137f",
   "metadata": {},
   "outputs": [],
   "source": [
    "# #Air Temp CRN:\n",
    "# with open('CRNH0203-2022-AL_Gainesville_2_NE.txt') as f:\n",
    "#     lst=[line.split()[20] for line in f]\n",
    "#     #print(lst)\n",
    "#     temp_crn=[]\n",
    "#     for i in lst:\n",
    "#         new=i.replace(',',\"\")\n",
    "#         temp_crn.append(new)\n",
    "#     temp_crn=[float(x) for x in temp_crn]\n",
    "#     temp_crn=temp_crn[1876:1901]\n",
    "#     print(temp_crn)\n",
    "#     #print(len(temp_crn))\n",
    "#     # print(temp_crn[2124])"
   ]
  },
  {
   "cell_type": "code",
   "execution_count": 90,
   "id": "b6c8652b",
   "metadata": {},
   "outputs": [],
   "source": [
    "# difference3_gai = []\n",
    "\n",
    "# zip_object = zip(temp, temp_crn)\n",
    "# for temp_i, temp_crn_i in zip_object:\n",
    "#     difference3_gai.append(temp_i-temp_crn_i)\n",
    "\n",
    "# print(difference3_gai)"
   ]
  },
  {
   "cell_type": "markdown",
   "id": "bec1bd8b",
   "metadata": {},
   "source": [
    "<font size=\"3\">Fairhope, AL: 0600 UTC (12:00 am CST) 01 March 2022-0600 UTC (12:00 am CST) 02 March 2022</font>"
   ]
  },
  {
   "cell_type": "code",
   "execution_count": 91,
   "id": "1d46687a",
   "metadata": {},
   "outputs": [
    {
     "name": "stdout",
     "output_type": "stream",
     "text": [
      "[11.22, 10.71, 10.07, 9.38, 8.75, 8.20001, 7.75, 7.07001, 9.09, 12.96, 16.51, 20.2, 23.07, 26.16, 27.12, 27.62, 26.6, 24.61, 22.05, 18.27, 15.79, 14.06, 13.09, 12.12, 11.5]\n"
     ]
    }
   ],
   "source": [
    "#1 hr hrrr:\n",
    "with open('hrrr_f18_Fairhope_AL.txt') as f:\n",
    "    lst=[line.split()[4] for line in f]\n",
    "    temp_fai3=[]\n",
    "    for i in lst:\n",
    "        new=i.replace(',',\"\")\n",
    "        temp_fai3.append(new)\n",
    "    temp_fai3.pop(0)\n",
    "    temp_fai3=[float(x) for x in temp_fai3]\n",
    "    temp_fai3=temp_fai3[1859:1884]\n",
    "    #temp=temp[2015:2063]\n",
    "    print(temp_fai3)\n",
    "    #print(len(temp))\n",
    "#full time period is [2015:2112]"
   ]
  },
  {
   "cell_type": "code",
   "execution_count": 92,
   "id": "eeba1f0c",
   "metadata": {},
   "outputs": [
    {
     "name": "stdout",
     "output_type": "stream",
     "text": [
      "[5.2, 3.0, 2.0, 1.5, 0.5, 0.3, 0.1, 0.5, 3.3, 13.3, 19.8, 24.7, 28.3, 30.0, 31.7, 31.0, 29.4, 24.9, 20.4, 13.8, 8.2, 6.2, 5.4, 4.5, 3.9]\n"
     ]
    }
   ],
   "source": [
    "#Air Temp CRN:\n",
    "with open('CRNH0203-2022-AL_Fairhope_3_NE.txt') as f:\n",
    "    lst=[line.split()[20] for line in f]\n",
    "    #print(lst)\n",
    "    temp_crn_fai3=[]\n",
    "    for i in lst:\n",
    "        new=i.replace(',',\"\")\n",
    "        temp_crn_fai3.append(new)\n",
    "    temp_crn_fai3=[float(x) for x in temp_crn_fai3]\n",
    "    temp_crn_fai3=temp_crn_fai3[1876:1901]\n",
    "    print(temp_crn_fai3)\n",
    "    #print(len(temp_crn))\n",
    "    # print(temp_crn[2124])"
   ]
  },
  {
   "cell_type": "code",
   "execution_count": 93,
   "id": "e5202245",
   "metadata": {},
   "outputs": [],
   "source": [
    "# difference3_fai = []\n",
    "\n",
    "# zip_object = zip(temp, temp_crn)\n",
    "# for temp_i, temp_crn_i in zip_object:\n",
    "#     difference3_fai.append(temp_i-temp_crn_i)\n",
    "\n",
    "# print(difference3_fai)"
   ]
  },
  {
   "cell_type": "markdown",
   "id": "5450f80c",
   "metadata": {},
   "source": [
    "<font size=\"3\">**Selma, AL: 0600 UTC (12:00 am CST) 01 March 2022-0600 UTC (12:00 am CST) 02 March 2022</font>"
   ]
  },
  {
   "cell_type": "code",
   "execution_count": 94,
   "id": "168fefba",
   "metadata": {},
   "outputs": [
    {
     "name": "stdout",
     "output_type": "stream",
     "text": [
      "[8.09, 7.42001, 6.67001, 6.26001, 5.69, 5.33002, 4.97, 4.57001, 7.84, 12.18, 16.05, 19.01, 20.66, 21.53, 21.87, 21.44, 20.7, 19.52, 17.6, 14.48, 12.65, 11.34, 10.28, 9.56, 8.80002]\n",
      "[6.7, 5.6, 4.9, 4.2, 3.7, 3.3, 2.9, 2.6, 4.8, 11.4, 18.2, 22.9, 25.8, 27.9, 28.9, 29.4, 28.2, 26.4, 23.4, 20.0, 14.6, 12.0, 10.5, 9.5, 8.7]\n"
     ]
    }
   ],
   "source": [
    "#1 hr hrrr:\n",
    "import numpy as np\n",
    "import numpy.ma as ma\n",
    "with open('hrrr_f18_Selma_AL.txt') as f:\n",
    "    lst=[line.split()[4] for line in f]\n",
    "    temp_sel3=[]\n",
    "    for i in lst:\n",
    "        new=i.replace(',',\"\")\n",
    "        temp_sel3.append(new)\n",
    "    temp_sel3.pop(0)\n",
    "    temp_sel3=[float(x) for x in temp_sel3]\n",
    "    temp_sel3=temp_sel3[1859:1884]\n",
    "\n",
    "#     x = np.array(temp)\n",
    "#     temp = ma.masked_array(x, mask=[0, 0, 0, 0, 0,0,0,0,0,0,0,0,0,0,0,0,0,1,1,1,1,0,0,0,0])\n",
    "    #print(temp)\n",
    "#Air Temp CRN:\n",
    "with open('CRNH0203-2022-AL_Selma_13_WNW.txt') as f:\n",
    "    lst=[line.split()[20] for line in f]\n",
    "    #print(lst)\n",
    "    temp_crn_sel3=[]\n",
    "    for i in lst:\n",
    "        new=i.replace(',',\"\")\n",
    "        temp_crn_sel3.append(new)\n",
    "    temp_crn_sel3=[float(x) for x in temp_crn_sel3]\n",
    "    temp_crn_sel3=temp_crn_sel3[1876:1901]\n",
    "#     y = np.array(temp_crn)\n",
    "#     temp_crn = ma.masked_array(y, mask=[0, 0, 0, 0, 0,0,0,0,0,0,0,0,0,0,0,0,0,1,1,1,1,0,0,0,0])\n",
    "    print(temp_sel3)\n",
    "    #print(len(temp))\n",
    "    print(temp_crn_sel3)\n",
    "    #print(len(temp_crn))\n",
    "#full time period is [2015:2112]\n",
    "# difference3_sel = []\n",
    "\n",
    "# zip_object = zip(temp, temp_crn)\n",
    "# for temp_i, temp_crn_i in zip_object:\n",
    "#     difference3_sel.append(temp_i-temp_crn_i)\n",
    "\n",
    "# print(difference3_sel)\n",
    "# print(len(difference3_sel))"
   ]
  },
  {
   "cell_type": "markdown",
   "id": "d837cb2c",
   "metadata": {},
   "source": [
    "<font size=\"3\">Bowling Green, KY: 0600 UTC (12:00 am CST) 01 March 2022-0600 UTC (12:00 am CST) 02 March 2022</font>"
   ]
  },
  {
   "cell_type": "code",
   "execution_count": 95,
   "id": "4d2fd05e",
   "metadata": {},
   "outputs": [
    {
     "name": "stdout",
     "output_type": "stream",
     "text": [
      "[5.36002, 2.23001, 1.36002, 1.17001, 0.480011, 0.0299988, -0.459991, -1.07001, 3.11002, 9.69, 14.95, 18.75, 21.88, 23.65, 24.23, 23.92, 22.49, 20.09, 17.29, 12.64, 10.13, 8.64001, 7.48001, 6.59, 6.20999]\n"
     ]
    }
   ],
   "source": [
    "#1 hr hrrr:\n",
    "with open('hrrr_f18_Bowling Green_KY.txt') as f:\n",
    "    lst=[line.split()[4] for line in f]\n",
    "    temp_bow3=[]\n",
    "    for i in lst:\n",
    "        new=i.replace(',',\"\")\n",
    "        temp_bow3.append(new)\n",
    "    temp_bow3.pop(0)\n",
    "    temp_bow3=[float(x) for x in temp_bow3]\n",
    "    temp_bow3=temp_bow3[1859:1884]\n",
    "    #temp=temp[2015:2063]\n",
    "    print(temp_bow3)\n",
    "    #print(len(temp))\n",
    "#full time period is [2015:2112]"
   ]
  },
  {
   "cell_type": "code",
   "execution_count": 96,
   "id": "4ca69144",
   "metadata": {},
   "outputs": [
    {
     "name": "stdout",
     "output_type": "stream",
     "text": [
      "[0.0, -0.1, -0.5, -0.7, -1.0, -1.4, -1.6, -1.8, -0.4, 7.4, 13.3, 19.4, 23.4, 26.1, 27.3, 26.9, 25.2, 21.9, 16.5, 9.0, 5.3, 4.1, 3.6, 3.3, 2.7]\n"
     ]
    }
   ],
   "source": [
    "#Air Temp CRN:\n",
    "with open('CRNH0203-2022-KY_Bowling_Green_21_NNE.txt') as f:\n",
    "    lst=[line.split()[20] for line in f]\n",
    "    #print(lst)\n",
    "    temp_crn_bow3=[]\n",
    "    for i in lst:\n",
    "        new=i.replace(',',\"\")\n",
    "        temp_crn_bow3.append(new)\n",
    "    temp_crn_bow3=[float(x) for x in temp_crn_bow3]\n",
    "    temp_crn_bow3=temp_crn_bow3[1876:1901]\n",
    "    print(temp_crn_bow3)\n",
    "    #print(len(temp_crn))\n",
    "    # print(temp_crn[2124])"
   ]
  },
  {
   "cell_type": "code",
   "execution_count": 97,
   "id": "c1e44909",
   "metadata": {},
   "outputs": [],
   "source": [
    "# difference3_bow = []\n",
    "\n",
    "# zip_object = zip(temp, temp_crn)\n",
    "# for temp_i, temp_crn_i in zip_object:\n",
    "#     difference3_bow.append(temp_i-temp_crn_i)\n",
    "\n",
    "# print(difference3_bow)"
   ]
  },
  {
   "cell_type": "markdown",
   "id": "21c9a287",
   "metadata": {},
   "source": [
    "<font size=\"3\">Gadsden, AL: 0600 UTC (12:00 am CST) 01 March 2022-0600 UTC (12:00 am CST) 02 March 2022</font>"
   ]
  },
  {
   "cell_type": "code",
   "execution_count": 98,
   "id": "77a1ef95",
   "metadata": {},
   "outputs": [
    {
     "name": "stdout",
     "output_type": "stream",
     "text": [
      "[4.61002, 5.06, 4.66, 3.45999, 2.91, 2.64999, 2.83002, 2.44, 5.26001, 10.24, 14.59, 17.94, 19.73, 21.22, 21.74, 21.48, 20.59, 18.58, 16.3, 12.61, 11.07, 10.21, 8.72, 7.38, 6.45001]\n"
     ]
    }
   ],
   "source": [
    "#1 hr hrrr:\n",
    "with open('hrrr_f18_Gadsden_AL.txt') as f:\n",
    "    lst=[line.split()[4] for line in f]\n",
    "    temp_gad3=[]\n",
    "    for i in lst:\n",
    "        new=i.replace(',',\"\")\n",
    "        temp_gad3.append(new)\n",
    "    temp_gad3.pop(0)\n",
    "    temp_gad3=[float(x) for x in temp_gad3]\n",
    "    temp_gad3=temp_gad3[1859:1884]\n",
    "#     x = np.array(temp)\n",
    "#     temp = ma.masked_array(x, mask=[0, 0, 0, 0, 0,0,0,0,1,0,0,0,0,0,0,0,0,0,0,0,0,0,0,0,0])\n",
    "    #temp=temp[2015:2063]\n",
    "    print(temp_gad3)\n",
    "    #print(len(temp))\n",
    "#full time period is [2015:2112]"
   ]
  },
  {
   "cell_type": "code",
   "execution_count": 99,
   "id": "c8b40ab0",
   "metadata": {},
   "outputs": [
    {
     "name": "stdout",
     "output_type": "stream",
     "text": [
      "[3.1, 2.3, 1.5, 1.0, 0.7, 0.4, 0.3, 0.3, 3.0, 9.6, 13.6, 17.0, 20.0, 21.2, 22.2, 22.9, 21.4, 19.4, 16.7, 12.8, 8.2, 6.7, 5.7, 4.7, 4.0]\n"
     ]
    }
   ],
   "source": [
    "#Air Temp CRN:\n",
    "with open('CRNH0203-2022-AL_Gadsden_19_N.txt') as f:\n",
    "    lst=[line.split()[20] for line in f]\n",
    "    #print(lst)\n",
    "    temp_crn_gad3=[]\n",
    "    for i in lst:\n",
    "        new=i.replace(',',\"\")\n",
    "        temp_crn_gad3.append(new)\n",
    "    temp_crn_gad3=[float(x) for x in temp_crn_gad3]\n",
    "    temp_crn_gad3=temp_crn_gad3[1876:1901]\n",
    "#     y = np.array(temp_crn)\n",
    "#     temp_crn = ma.masked_array(y, mask=[0, 0, 0, 0, 0,0,0,0,1,0,0,0,0,0,0,0,0,0,0,0,0,0,0,0,0])\n",
    "    print(temp_crn_gad3)\n",
    "    #print(len(temp_crn))\n",
    "    # print(temp_crn[2124])"
   ]
  },
  {
   "cell_type": "code",
   "execution_count": 100,
   "id": "cf4acb88",
   "metadata": {},
   "outputs": [],
   "source": [
    "# difference3_gad = []\n",
    "\n",
    "# zip_object = zip(temp, temp_crn)\n",
    "# for temp_i, temp_crn_i in zip_object:\n",
    "#     difference3_gad.append(temp_i-temp_crn_i)\n",
    "\n",
    "# print(difference3_gad)"
   ]
  },
  {
   "cell_type": "markdown",
   "id": "93b56dfb",
   "metadata": {},
   "source": [
    "<font size=\"3\">Newton, GA: 0600 UTC (12:00 am CST) 01 March 2022-0600 UTC (12:00 am CST) 02 March 2022</font>"
   ]
  },
  {
   "cell_type": "code",
   "execution_count": 101,
   "id": "53a55c7c",
   "metadata": {},
   "outputs": [
    {
     "name": "stdout",
     "output_type": "stream",
     "text": [
      "[12.09, 11.5, 10.78, 9.67001, 9.51001, 8.85001, 8.31, 7.52002, 10.54, 13.45, 15.21, 17.19, 18.76, 19.94, 20.17, 20.1, 19.85, 19.06, 17.38, 14.15, 12.36, 11.06, 10.11, 9.57001, 8.83002]\n"
     ]
    }
   ],
   "source": [
    "#1 hr hrrr:\n",
    "with open('hrrr_f18_Newton_GA.txt') as f:\n",
    "    lst=[line.split()[4] for line in f]\n",
    "    temp_newt3=[]\n",
    "    for i in lst:\n",
    "        new=i.replace(',',\"\")\n",
    "        temp_newt3.append(new)\n",
    "    temp_newt3.pop(0)\n",
    "    temp_newt3=[float(x) for x in temp_newt3]\n",
    "    temp_newt3=temp_newt3[1859:1884]\n",
    "    #temp=temp[2015:2063]\n",
    "    print(temp_newt3)\n",
    "    #print(len(temp))\n",
    "#full time period is [2015:2112]"
   ]
  },
  {
   "cell_type": "code",
   "execution_count": 102,
   "id": "763b13be",
   "metadata": {},
   "outputs": [
    {
     "name": "stdout",
     "output_type": "stream",
     "text": [
      "[12.5, 12.0, 11.8, 10.9, 10.4, 9.6, 8.5, 7.9, 7.4, 9.2, 13.2, 18.1, 21.6, 24.9, 26.9, 27.8, 26.7, 26.0, 23.9, 20.8, 16.4, 12.9, 11.6, 10.6, 9.7]\n"
     ]
    }
   ],
   "source": [
    "#Air Temp CRN:\n",
    "with open('CRNH0203-2022-GA_Newton_11_SW.txt') as f:\n",
    "    lst=[line.split()[20] for line in f]\n",
    "    #print(lst)\n",
    "    temp_crn_newt3=[]\n",
    "    for i in lst:\n",
    "        new=i.replace(',',\"\")\n",
    "        temp_crn_newt3.append(new)\n",
    "    temp_crn_newt3=[float(x) for x in temp_crn_newt3]\n",
    "    temp_crn_newt3=temp_crn_newt3[1875:1900]\n",
    "    print(temp_crn_newt3)\n",
    "    #print(len(temp_crn))\n",
    "    # print(temp_crn[2124])"
   ]
  },
  {
   "cell_type": "code",
   "execution_count": 103,
   "id": "b71c6000",
   "metadata": {},
   "outputs": [],
   "source": [
    "# difference3_newt = []\n",
    "\n",
    "# zip_object = zip(temp, temp_crn)\n",
    "# for temp_i, temp_crn_i in zip_object:\n",
    "#     difference3_newt.append(temp_i-temp_crn_i)\n",
    "\n",
    "# print(difference3_newt)"
   ]
  },
  {
   "cell_type": "markdown",
   "id": "e079df5d",
   "metadata": {},
   "source": [
    "<font size=\"3\">Salem, MO: 0500 UTC (12:00 am CDT) 03 April 2022-0500 UTC (12:00 am CDT) 04 April 2022</font>"
   ]
  },
  {
   "cell_type": "code",
   "execution_count": 104,
   "id": "2bda3233",
   "metadata": {},
   "outputs": [
    {
     "name": "stdout",
     "output_type": "stream",
     "text": [
      "[3.89999, 3.37, 2.75, 1.97, 1.91, 1.51001, 1.41, 1.31, 4.07001, 8.62, 11.66, 14.75, 17.27, 19.53, 21.12, 21.93, 21.53, 19.89, 17.06, 14.87, 12.38, 11.46, 11.02, 10.67, 10.62]\n"
     ]
    }
   ],
   "source": [
    "#1 hr hrrr:\n",
    "with open('hrrr_f18_Salem_MO.txt') as f:\n",
    "    lst=[line.split()[4] for line in f]\n",
    "    temp_sal4=[]\n",
    "    for i in lst:\n",
    "        new=i.replace(',',\"\")\n",
    "        temp_sal4.append(new)\n",
    "    temp_sal4.pop(0)\n",
    "    temp_sal4=[float(x) for x in temp_sal4]\n",
    "    temp_sal4=temp_sal4[2195:2220]\n",
    "    #temp=temp[2015:2063]\n",
    "    print(temp_sal4)\n",
    "\n",
    "#full time period is [2015:2112]"
   ]
  },
  {
   "cell_type": "code",
   "execution_count": 105,
   "id": "a53cfdd6",
   "metadata": {},
   "outputs": [
    {
     "name": "stdout",
     "output_type": "stream",
     "text": [
      "[-1.5, -2.0, -2.4, -2.8, -3.1, -3.4, -3.6, -3.7, -0.9, 8.5, 15.2, 21.8, 27.0, 30.5, 32.2, 30.4, 29.5, 25.6, 20.1, 16.1, 13.7, 11.8, 12.2, 12.0, 11.6]\n"
     ]
    }
   ],
   "source": [
    "#Air Temp CRN:\n",
    "with open('CRNH0203-2022-MO_Salem_10_W.txt') as f:\n",
    "    lst=[line.split()[20] for line in f]\n",
    "    #print(lst)\n",
    "    temp_crn_sal4=[]\n",
    "    for i in lst:\n",
    "        new=i.replace(',',\"\")\n",
    "        temp_crn_sal4.append(new)\n",
    "    temp_crn_sal4=[float(x) for x in temp_crn_sal4]\n",
    "    temp_crn_sal4=temp_crn_sal4[2212:2237]\n",
    "    print(temp_crn_sal4)\n",
    "    # print(temp_crn[2124])"
   ]
  },
  {
   "cell_type": "code",
   "execution_count": 106,
   "id": "2f3aad80",
   "metadata": {},
   "outputs": [],
   "source": [
    "# difference4_sal = []\n",
    "\n",
    "# zip_object = zip(temp, temp_crn)\n",
    "# for temp_i, temp_crn_i in zip_object:\n",
    "#     difference4_sal.append(temp_i-temp_crn_i)\n",
    "\n",
    "# print(difference4_sal)"
   ]
  },
  {
   "cell_type": "markdown",
   "id": "f30e9b3b",
   "metadata": {},
   "source": [
    "<font size=\"3\">Batesville, AR: 0600 UTC (12:00 am CST) 01 March 2022-0600 UTC (12:00 am CST) 02 March 2022</font>"
   ]
  },
  {
   "cell_type": "code",
   "execution_count": 107,
   "id": "ea25905e",
   "metadata": {},
   "outputs": [
    {
     "name": "stdout",
     "output_type": "stream",
     "text": [
      "[8.83002, 7.74002, 6.89001, 5.78, 5.08002, 4.24002, 4.12, 3.49002, 6.28, 10.63, 13.68, 16.38, 18.67, 20.54, 22.19, 23.7, 23.49, 22.17, 19.89, 16.6, 13.28, 11.96, 11.25, 12.57, 9.73001]\n"
     ]
    }
   ],
   "source": [
    "#1 hr hrrr:\n",
    "with open('hrrr_f18_Batesville_AR.txt') as f:\n",
    "    lst=[line.split()[4] for line in f]\n",
    "    temp_bat4=[]\n",
    "    for i in lst:\n",
    "        new=i.replace(',',\"\")\n",
    "        temp_bat4.append(new)\n",
    "    temp_bat4.pop(0)\n",
    "    temp_bat4=[float(x) for x in temp_bat4]\n",
    "    temp_bat4=temp_bat4[2195:2220]\n",
    "#     x = np.array(temp)\n",
    "#     temp = ma.masked_array(x, mask=[0, 0, 0, 0, 0,0,0,0,0,0,0,0,0,0,0,0,0,0,0,0,0,1,0,0,0])\n",
    "    #temp=temp[2015:2063]\n",
    "    print(temp_bat4)\n",
    "#full time period is [2015:2112]"
   ]
  },
  {
   "cell_type": "code",
   "execution_count": 108,
   "id": "9689d5bd",
   "metadata": {},
   "outputs": [
    {
     "name": "stdout",
     "output_type": "stream",
     "text": [
      "[4.1, 3.5, 2.3, 2.2, 1.6, 1.1, 0.3, 0.1, 2.5, 8.9, 13.3, 15.9, 18.6, 20.1, 21.5, 21.9, 20.6, 18.1, 16.2, 13.7, 11.7, 8.9, 8.5, 8.8, 9.0]\n"
     ]
    }
   ],
   "source": [
    "#Air Temp CRN:\n",
    "with open('CRNH0203-2022-AR_Batesville_8_WNW.txt') as f:\n",
    "    lst=[line.split()[20] for line in f]\n",
    "    #print(lst)\n",
    "    temp_crn_bat4=[]\n",
    "    for i in lst:\n",
    "        new=i.replace(',',\"\")\n",
    "        temp_crn_bat4.append(new)\n",
    "    temp_crn_bat4=[float(x) for x in temp_crn_bat4]\n",
    "    temp_crn_bat4=temp_crn_bat4[2212:2237]\n",
    "#     y = np.array(temp_crn)\n",
    "#     temp_crn = ma.masked_array(y, mask=[0, 0, 0, 0, 0,0,0,0,0,0,0,0,0,0,0,0,0,0,0,0,0,1,0,0,0])\n",
    "    print(temp_crn_bat4)\n",
    "    #print(len(temp_crn))\n",
    "    # print(temp_crn[2124])"
   ]
  },
  {
   "cell_type": "code",
   "execution_count": 109,
   "id": "32d53f73",
   "metadata": {},
   "outputs": [],
   "source": [
    "# difference4_bat = []\n",
    "\n",
    "# zip_object = zip(temp, temp_crn)\n",
    "# for temp_i, temp_crn_i in zip_object:\n",
    "#     difference4_bat.append(temp_i-temp_crn_i)\n",
    "\n",
    "# print(difference4_bat)"
   ]
  },
  {
   "cell_type": "markdown",
   "id": "2869b9dc",
   "metadata": {},
   "source": [
    "<font size=\"3\">Lafayette, LA: 0600 UTC (12:00 am CST) 01 March 2022-0600 UTC (12:00 am CST) 02 March 2022</font>"
   ]
  },
  {
   "cell_type": "code",
   "execution_count": 110,
   "id": "fd2670e5",
   "metadata": {},
   "outputs": [
    {
     "name": "stdout",
     "output_type": "stream",
     "text": [
      "[16.34, 16.22, 14.65, 13.42, 13.82, 12.93, 12.27, 11.74, 14.83, 22.02, 28.02, 31.83, 34.92, 36.51, 37.41, 36.76, 35.98, 33.57, 30.12, 26.05, 21.74, 19.77, 18.79, 17.95, 17.23]\n"
     ]
    }
   ],
   "source": [
    "#1 hr hrrr:\n",
    "with open('hrrr_f18_Lafayette_LA.txt') as f:\n",
    "    lst=[line.split()[4] for line in f]\n",
    "    temp_laf4=[]\n",
    "    for i in lst:\n",
    "        new=i.replace(',',\"\")\n",
    "        temp_laf4.append(new)\n",
    "    temp_laf4.pop(0)\n",
    "    temp_laf4=[float(x) for x in temp_laf4]\n",
    "    temp_laf4=temp_laf4[2195:2220]\n",
    "    #temp=temp[2015:2063]\n",
    "    print(temp_laf4)\n",
    "    #print(len(temp))\n",
    "#full time period is [2015:2112]"
   ]
  },
  {
   "cell_type": "code",
   "execution_count": 111,
   "id": "f39411d5",
   "metadata": {},
   "outputs": [
    {
     "name": "stdout",
     "output_type": "stream",
     "text": [
      "[10.7, 10.1, 9.6, 9.0, 8.5, 8.1, 8.1, 8.2, 10.5, 16.8, 21.3, 26.5, 30.6, 33.3, 34.4, 34.5, 33.1, 30.6, 26.9, 22.6, 18.7, 16.7, 16.1, 15.1, 13.4]\n"
     ]
    }
   ],
   "source": [
    "#Air Temp CRN:\n",
    "with open('CRNH0203-2022-LA_Lafayette_13_SE.txt') as f:\n",
    "    lst=[line.split()[20] for line in f]\n",
    "    #print(lst)\n",
    "    temp_crn_laf4=[]\n",
    "    for i in lst:\n",
    "        new=i.replace(',',\"\")\n",
    "        temp_crn_laf4.append(new)\n",
    "    temp_crn_laf4=[float(x) for x in temp_crn_laf4]\n",
    "    temp_crn_laf4=temp_crn_laf4[2212:2237]\n",
    "    print(temp_crn_laf4)\n",
    "    #print(len(temp_crn))\n",
    "    # print(temp_crn[2124])"
   ]
  },
  {
   "cell_type": "code",
   "execution_count": 112,
   "id": "c02f8d98",
   "metadata": {},
   "outputs": [],
   "source": [
    "# difference4_laf = []\n",
    "\n",
    "# zip_object = zip(temp, temp_crn)\n",
    "# for temp_i, temp_crn_i in zip_object:\n",
    "#     difference4_laf.append(temp_i-temp_crn_i)\n",
    "\n",
    "# print(difference4_laf)"
   ]
  },
  {
   "cell_type": "markdown",
   "id": "ab48fc12",
   "metadata": {},
   "source": [
    "<font size=\"3\">Monroe, LA: 0600 UTC (12:00 am CST) 01 March 2022-0600 UTC (12:00 am CST) 02 March 2022</font>"
   ]
  },
  {
   "cell_type": "code",
   "execution_count": 113,
   "id": "b61707d0",
   "metadata": {},
   "outputs": [
    {
     "name": "stdout",
     "output_type": "stream",
     "text": [
      "[12.74, 12.58, 11.69, 11.29, 10.88, 10.29, 9.83002, 9.45001, 12.11, 15.52, 18.93, 22.19, 25.68, 29.89, 32.07, 32.66, 31.67, 29.58, 26.52, 22.75, 19.46, 17.96, 16.79, 15.65, 14.33]\n"
     ]
    }
   ],
   "source": [
    "#1 hr hrrr:\n",
    "with open('hrrr_f18_Monroe_LA.txt') as f:\n",
    "    lst=[line.split()[4] for line in f]\n",
    "    temp_mon4=[]\n",
    "    for i in lst:\n",
    "        new=i.replace(',',\"\")\n",
    "        temp_mon4.append(new)\n",
    "    temp_mon4.pop(0)\n",
    "    temp_mon4=[float(x) for x in temp_mon4]\n",
    "    temp_mon4=temp_mon4[2195:2220]\n",
    "    #temp=temp[2015:2063]\n",
    "    print(temp_mon4)\n",
    "    #print(len(temp))\n",
    "#full time period is [2015:2112]"
   ]
  },
  {
   "cell_type": "code",
   "execution_count": 114,
   "id": "266c22d9",
   "metadata": {},
   "outputs": [
    {
     "name": "stdout",
     "output_type": "stream",
     "text": [
      "[9.0, 8.2, 7.7, 7.2, 6.9, 6.4, 6.0, 5.6, 6.8, 13.3, 18.9, 22.6, 25.5, 27.9, 28.8, 29.2, 28.6, 27.8, 23.2, 19.3, 14.8, 12.0, 11.1, 10.4, 10.5]\n"
     ]
    }
   ],
   "source": [
    "#Air Temp CRN:\n",
    "with open('CRNH0203-2022-LA_Monroe_26_N.txt') as f:\n",
    "    lst=[line.split()[20] for line in f]\n",
    "    #print(lst)\n",
    "    temp_crn_mon4=[]\n",
    "    for i in lst:\n",
    "        new=i.replace(',',\"\")\n",
    "        temp_crn_mon4.append(new)\n",
    "    temp_crn_mon4=[float(x) for x in temp_crn_mon4]\n",
    "    temp_crn_mon4=temp_crn_mon4[2212:2237]\n",
    "    print(temp_crn_mon4)\n",
    "    #print(len(temp_crn))\n",
    "    # print(temp_crn[2124])"
   ]
  },
  {
   "cell_type": "code",
   "execution_count": 115,
   "id": "e8911bcb",
   "metadata": {},
   "outputs": [],
   "source": [
    "# difference4_mon = []\n",
    "\n",
    "# zip_object = zip(temp, temp_crn)\n",
    "# for temp_i, temp_crn_i in zip_object:\n",
    "#     difference4_mon.append(temp_i-temp_crn_i)\n",
    "\n",
    "# print(difference4_mon)"
   ]
  },
  {
   "cell_type": "markdown",
   "id": "dbfdd9c6",
   "metadata": {},
   "source": [
    "<font size=\"3\">Holly Springs, MS: 0600 UTC (12:00 am CST) 01 March 2022-0600 UTC (12:00 am CST) 02 March 2022</font>"
   ]
  },
  {
   "cell_type": "code",
   "execution_count": 116,
   "id": "055b4b13",
   "metadata": {},
   "outputs": [
    {
     "name": "stdout",
     "output_type": "stream",
     "text": [
      "[8.80002, 9.23001, 8.69, 6.70001, 6.24002, 5.34, 4.92001, 4.48001, 7.67999, 11.28, 14.14, 16.87, 20.55, 23.32, 24.65, 25.36, 24.55, 22.46, 19.91, 16.52, 13.2, 11.68, 10.82, 10.05, 9.29001]\n"
     ]
    }
   ],
   "source": [
    "#1 hr hrrr:\n",
    "with open('hrrr_f18_Holly Springs_MS.txt') as f:\n",
    "    lst=[line.split()[4] for line in f]\n",
    "    temp_hol4=[]\n",
    "    for i in lst:\n",
    "        new=i.replace(',',\"\")\n",
    "        temp_hol4.append(new)\n",
    "    temp_hol4.pop(0)\n",
    "    temp_hol4=[float(x) for x in temp_hol4]\n",
    "    temp_hol4=temp_hol4[2195:2220]\n",
    "    #temp=temp[2015:2063]\n",
    "    print(temp_hol4)\n",
    "    #print(len(temp))\n",
    "#full time period is [2015:2112]"
   ]
  },
  {
   "cell_type": "code",
   "execution_count": 117,
   "id": "b948e709",
   "metadata": {},
   "outputs": [
    {
     "name": "stdout",
     "output_type": "stream",
     "text": [
      "[6.3, 6.5, 7.3, 5.3, 5.0, 3.8, 3.3, 2.7, 4.6, 10.3, 14.0, 18.6, 22.4, 25.0, 26.6, 26.1, 25.3, 23.1, 19.9, 15.0, 9.5, 7.6, 6.7, 5.9, 5.3]\n"
     ]
    }
   ],
   "source": [
    "#Air Temp CRN:\n",
    "with open('CRNH0203-2022-MS_Holly_Springs_4_N.txt') as f:\n",
    "    lst=[line.split()[20] for line in f]\n",
    "    #print(lst)\n",
    "    temp_crn_hol4=[]\n",
    "    for i in lst:\n",
    "        new=i.replace(',',\"\")\n",
    "        temp_crn_hol4.append(new)\n",
    "    temp_crn_hol4=[float(x) for x in temp_crn_hol4]\n",
    "    temp_crn_hol4=temp_crn_hol4[2212:2237]\n",
    "    print(temp_crn_hol4)\n",
    "    #print(len(temp_crn))\n",
    "    # print(temp_crn[2124])"
   ]
  },
  {
   "cell_type": "code",
   "execution_count": 118,
   "id": "6836c3bb",
   "metadata": {},
   "outputs": [],
   "source": [
    "# difference4_hol = []\n",
    "\n",
    "# zip_object = zip(temp, temp_crn)\n",
    "# for temp_i, temp_crn_i in zip_object:\n",
    "#     difference4_hol.append(temp_i-temp_crn_i)\n",
    "\n",
    "# print(difference4_hol)"
   ]
  },
  {
   "cell_type": "markdown",
   "id": "9c7354c6",
   "metadata": {},
   "source": [
    "<font size=\"3\">Newton, MS: 0600 UTC (12:00 am CST) 01 March 2022-0600 UTC (12:00 am CST) 02 March 2022</font>"
   ]
  },
  {
   "cell_type": "code",
   "execution_count": 119,
   "id": "93316a90",
   "metadata": {},
   "outputs": [
    {
     "name": "stdout",
     "output_type": "stream",
     "text": [
      "[12.08, 11.93, 11.83, 11.17, 11.91, 9.91, 8.81, 8.22, 12.69, 18.04, 23.26, 27.07, 29.98, 30.86, 31.0, 30.79, 29.74, 27.45, 24.05, 20.96, 18.02, 16.85, 15.38, 14.15, 12.71]\n"
     ]
    }
   ],
   "source": [
    "#1 hr hrrr:\n",
    "with open('hrrr_f18_Newton_MS.txt') as f:\n",
    "    lst=[line.split()[4] for line in f]\n",
    "    temp_new4=[]\n",
    "    for i in lst:\n",
    "        new=i.replace(',',\"\")\n",
    "        temp_new4.append(new)\n",
    "    temp_new4.pop(0)\n",
    "    temp_new4=[float(x) for x in temp_new4]\n",
    "    temp_new4=temp_new4[2195:2220]\n",
    "    #temp=temp[2015:2063]\n",
    "    print(temp_new4)\n",
    "    #print(len(temp))\n",
    "#full time period is [2015:2112]"
   ]
  },
  {
   "cell_type": "code",
   "execution_count": 120,
   "id": "3c16e336",
   "metadata": {},
   "outputs": [
    {
     "name": "stdout",
     "output_type": "stream",
     "text": [
      "[8.6, 7.9, 7.4, 6.9, 6.5, 5.9, 5.4, 5.1, 7.9, 15.9, 22.6, 25.9, 29.5, 30.6, 31.1, 31.5, 30.7, 29.5, 26.3, 22.4, 15.3, 12.3, 10.8, 9.8, 8.8]\n"
     ]
    }
   ],
   "source": [
    "#Air Temp CRN:\n",
    "with open('CRNH0203-2022-MS_Newton_5_ENE.txt') as f:\n",
    "    lst=[line.split()[20] for line in f]\n",
    "    #print(lst)\n",
    "    temp_crn_new4=[]\n",
    "    for i in lst:\n",
    "        new=i.replace(',',\"\")\n",
    "        temp_crn_new4.append(new)\n",
    "    temp_crn_new4=[float(x) for x in temp_crn_new4]\n",
    "    temp_crn_new4=temp_crn_new4[2212:2237]\n",
    "    print(temp_crn_new4)\n",
    "    #print(len(temp_crn))\n",
    "    # print(temp_crn[2124])"
   ]
  },
  {
   "cell_type": "code",
   "execution_count": 121,
   "id": "895bb872",
   "metadata": {},
   "outputs": [],
   "source": [
    "# difference4_new = []\n",
    "\n",
    "# zip_object = zip(temp, temp_crn)\n",
    "# for temp_i, temp_crn_i in zip_object:\n",
    "#     difference4_new.append(temp_i-temp_crn_i)\n",
    "\n",
    "# print(difference4_new)"
   ]
  },
  {
   "cell_type": "markdown",
   "id": "9e553db4",
   "metadata": {},
   "source": [
    "<font size=\"3\">Gainesville, AL: 0600 UTC (12:00 am CST) 01 March 2022-0600 UTC (12:00 am CST) 02 March 2022</font>"
   ]
  },
  {
   "cell_type": "code",
   "execution_count": 122,
   "id": "34bf4646",
   "metadata": {},
   "outputs": [],
   "source": [
    "# #1 hr hrrr:\n",
    "# with open('hrrr_f18_Gainesville_AL.txt') as f:\n",
    "#     lst=[line.split()[4] for line in f]\n",
    "#     temp=[]\n",
    "#     for i in lst:\n",
    "#         new=i.replace(',',\"\")\n",
    "#         temp.append(new)\n",
    "#     temp.pop(0)\n",
    "#     temp=[float(x) for x in temp]\n",
    "#     temp=temp[2212:2237]\n",
    "#     #temp=temp[2015:2063]\n",
    "#     print(temp)\n",
    "#     #print(len(temp))\n",
    "# #full time period is [2015:2112]"
   ]
  },
  {
   "cell_type": "code",
   "execution_count": 123,
   "id": "67168607",
   "metadata": {},
   "outputs": [],
   "source": [
    "# #Air Temp CRN:\n",
    "# with open('CRNH0203-2022-AL_Gainesville_2_NE.txt') as f:\n",
    "#     lst=[line.split()[20] for line in f]\n",
    "#     #print(lst)\n",
    "#     temp_crn=[]\n",
    "#     for i in lst:\n",
    "#         new=i.replace(',',\"\")\n",
    "#         temp_crn.append(new)\n",
    "#     temp_crn=[float(x) for x in temp_crn]\n",
    "#     temp_crn=temp_crn[2212:2237]\n",
    "#     print(temp_crn)\n",
    "#     #print(len(temp_crn))\n",
    "#     # print(temp_crn[2124])"
   ]
  },
  {
   "cell_type": "code",
   "execution_count": 124,
   "id": "4baf3368",
   "metadata": {},
   "outputs": [],
   "source": [
    "# difference4_gai = []\n",
    "\n",
    "# zip_object = zip(temp, temp_crn)\n",
    "# for temp_i, temp_crn_i in zip_object:\n",
    "#     difference4_gai.append(temp_i-temp_crn_i)\n",
    "\n",
    "# print(difference4_gai)"
   ]
  },
  {
   "cell_type": "markdown",
   "id": "7dcabe11",
   "metadata": {},
   "source": [
    "<font size=\"3\">Fairhope, AL: 0600 UTC (12:00 am CST) 01 March 2022-0600 UTC (12:00 am CST) 02 March 2022</font>"
   ]
  },
  {
   "cell_type": "code",
   "execution_count": 125,
   "id": "66bf707b",
   "metadata": {},
   "outputs": [
    {
     "name": "stdout",
     "output_type": "stream",
     "text": [
      "[11.86, 12.29, 11.17, 10.77, 10.6, 10.3, 9.91, 10.1, 14.06, 19.2, 23.52, 27.23, 29.92, 31.58, 31.87, 31.57, 30.28, 28.07, 24.97, 21.7, 18.73, 16.94, 15.96, 15.21, 14.58]\n"
     ]
    }
   ],
   "source": [
    "#1 hr hrrr:\n",
    "with open('hrrr_f18_Fairhope_AL.txt') as f:\n",
    "    lst=[line.split()[4] for line in f]\n",
    "    temp_fai4=[]\n",
    "    for i in lst:\n",
    "        new=i.replace(',',\"\")\n",
    "        temp_fai4.append(new)\n",
    "    temp_fai4.pop(0)\n",
    "    temp_fai4=[float(x) for x in temp_fai4]\n",
    "    temp_fai4=temp_fai4[2195:2220]\n",
    "    #temp=temp[2015:2063]\n",
    "    print(temp_fai4)\n",
    "    #print(len(temp))\n",
    "#full time period is [2015:2112]"
   ]
  },
  {
   "cell_type": "code",
   "execution_count": 126,
   "id": "53430b27",
   "metadata": {},
   "outputs": [
    {
     "name": "stdout",
     "output_type": "stream",
     "text": [
      "[5.8, 5.5, 5.4, 5.0, 4.9, 4.6, 4.5, 4.5, 9.5, 17.2, 22.7, 27.9, 31.3, 32.2, 32.3, 31.8, 29.8, 26.6, 23.5, 18.8, 12.0, 10.5, 9.6, 8.9, 8.3]\n"
     ]
    }
   ],
   "source": [
    "#Air Temp CRN:\n",
    "with open('CRNH0203-2022-AL_Fairhope_3_NE.txt') as f:\n",
    "    lst=[line.split()[20] for line in f]\n",
    "    #print(lst)\n",
    "    temp_crn_fai4=[]\n",
    "    for i in lst:\n",
    "        new=i.replace(',',\"\")\n",
    "        temp_crn_fai4.append(new)\n",
    "    temp_crn_fai4=[float(x) for x in temp_crn_fai4]\n",
    "    temp_crn_fai4=temp_crn_fai4[2212:2237]\n",
    "    print(temp_crn_fai4)\n",
    "    #print(len(temp_crn))\n",
    "    # print(temp_crn[2124])"
   ]
  },
  {
   "cell_type": "code",
   "execution_count": 127,
   "id": "320724ae",
   "metadata": {},
   "outputs": [],
   "source": [
    "# difference4_fai = []\n",
    "\n",
    "# zip_object = zip(temp, temp_crn)\n",
    "# for temp_i, temp_crn_i in zip_object:\n",
    "#     difference4_fai.append(temp_i-temp_crn_i)\n",
    "\n",
    "# print(difference4_fai)"
   ]
  },
  {
   "cell_type": "markdown",
   "id": "057898bf",
   "metadata": {},
   "source": [
    "<font size=\"3\">**Selma, AL: 0600 UTC (12:00 am CST) 01 March 2022-0600 UTC (12:00 am CST) 02 March 2022</font>"
   ]
  },
  {
   "cell_type": "code",
   "execution_count": 128,
   "id": "dd6c27fb",
   "metadata": {},
   "outputs": [
    {
     "name": "stdout",
     "output_type": "stream",
     "text": [
      "[10.37, 10.2, 9.45001, 9.06, 8.92001, 8.06, 7.57001, 7.41, 11.41, 15.09, 18.47, 21.09, 23.35, 24.48, 25.9, 26.59, 25.93, 23.75, 21.03, 17.77, 14.84, 13.46, 12.54, 11.62, 10.48]\n",
      "[9.9, 9.2, 8.4, 7.8, 7.3, 6.9, 6.3, 5.8, 9.7, 17.3, 21.7, 26.1, 30.0, 32.1, 33.1, 32.9, 31.9, 29.8, 26.1, 21.3, 15.8, 13.0, 11.5, 10.3, 9.1]\n"
     ]
    }
   ],
   "source": [
    "#1 hr hrrr:\n",
    "import numpy as np\n",
    "import numpy.ma as ma\n",
    "with open('hrrr_f18_Selma_AL.txt') as f:\n",
    "    lst=[line.split()[4] for line in f]\n",
    "    temp_sel4=[]\n",
    "    for i in lst:\n",
    "        new=i.replace(',',\"\")\n",
    "        temp_sel4.append(new)\n",
    "    temp_sel4.pop(0)\n",
    "    temp_sel4=[float(x) for x in temp_sel4]\n",
    "    temp_sel4=temp_sel4[2195:2220]\n",
    "\n",
    "#     x = np.array(temp)\n",
    "#     temp = ma.masked_array(x, mask=[0, 0, 0, 0, 0,0,0,0,0,0,0,0,0,0,0,0,0,1,1,1,1,0,0,0,0])\n",
    "    #print(temp)\n",
    "#Air Temp CRN:\n",
    "with open('CRNH0203-2022-AL_Selma_13_WNW.txt') as f:\n",
    "    lst=[line.split()[20] for line in f]\n",
    "    #print(lst)\n",
    "    temp_crn_sel4=[]\n",
    "    for i in lst:\n",
    "        new=i.replace(',',\"\")\n",
    "        temp_crn_sel4.append(new)\n",
    "    temp_crn_sel4=[float(x) for x in temp_crn_sel4]\n",
    "    temp_crn_sel4=temp_crn_sel4[2212:2237]\n",
    "#     y = np.array(temp_crn)\n",
    "#     temp_crn = ma.masked_array(y, mask=[0, 0, 0, 0, 0,0,0,0,0,0,0,0,0,0,0,0,0,1,1,1,1,0,0,0,0])\n",
    "    print(temp_sel4)\n",
    "    #print(len(temp))\n",
    "    print(temp_crn_sel4)\n",
    "    #print(len(temp_crn))\n",
    "# #full time period is [2015:2112]\n",
    "# difference4_sel = []\n",
    "\n",
    "# zip_object = zip(temp, temp_crn)\n",
    "# for temp_i, temp_crn_i in zip_object:\n",
    "#     difference4_sel.append(temp_i-temp_crn_i)\n",
    "\n",
    "# print(difference4_sel)\n",
    "# #print(len(difference3_sel))"
   ]
  },
  {
   "cell_type": "markdown",
   "id": "cb37cdb6",
   "metadata": {},
   "source": [
    "<font size=\"3\">Bowling Green, KY: 0600 UTC (12:00 am CST) 01 March 2022-0600 UTC (12:00 am CST) 02 March 2022</font>"
   ]
  },
  {
   "cell_type": "code",
   "execution_count": 129,
   "id": "14e1ecd0",
   "metadata": {},
   "outputs": [
    {
     "name": "stdout",
     "output_type": "stream",
     "text": [
      "[5.52002, 4.76001, 4.22, 3.35001, 3.49002, 2.55002, 1.69, 1.5, 4.87, 8.66, 12.82, 16.93, 20.57, 22.11, 22.65, 22.73, 21.43, 19.18, 16.03, 12.4, 10.26, 9.27002, 8.97, 7.73001, 7.89001]\n"
     ]
    }
   ],
   "source": [
    "#1 hr hrrr:\n",
    "with open('hrrr_f18_Bowling Green_KY.txt') as f:\n",
    "    lst=[line.split()[4] for line in f]\n",
    "    temp_bow4=[]\n",
    "    for i in lst:\n",
    "        new=i.replace(',',\"\")\n",
    "        temp_bow4.append(new)\n",
    "    temp_bow4.pop(0)\n",
    "    temp_bow4=[float(x) for x in temp_bow4]\n",
    "    temp_bow4=temp_bow4[2195:2220]\n",
    "    #temp=temp[2015:2063]\n",
    "    print(temp_bow4)\n",
    "    #print(len(temp))\n",
    "#full time period is [2015:2112]"
   ]
  },
  {
   "cell_type": "code",
   "execution_count": 130,
   "id": "8121578e",
   "metadata": {},
   "outputs": [
    {
     "name": "stdout",
     "output_type": "stream",
     "text": [
      "[3.4, 1.2, -0.1, -0.5, -1.0, -2.0, -2.4, -2.4, 2.5, 9.8, 15.1, 20.1, 23.5, 25.3, 26.0, 25.8, 24.1, 20.8, 15.4, 9.3, 4.7, 3.4, 3.0, 3.6, 3.2]\n"
     ]
    }
   ],
   "source": [
    "#Air Temp CRN:\n",
    "with open('CRNH0203-2022-KY_Bowling_Green_21_NNE.txt') as f:\n",
    "    lst=[line.split()[20] for line in f]\n",
    "    #print(lst)\n",
    "    temp_crn_bow4=[]\n",
    "    for i in lst:\n",
    "        new=i.replace(',',\"\")\n",
    "        temp_crn_bow4.append(new)\n",
    "    temp_crn_bow4=[float(x) for x in temp_crn_bow4]\n",
    "    temp_crn_bow4=temp_crn_bow4[2212:2237]\n",
    "    print(temp_crn_bow4)\n",
    "    #print(len(temp_crn))\n",
    "    # print(temp_crn[2124])"
   ]
  },
  {
   "cell_type": "code",
   "execution_count": 131,
   "id": "cbe21805",
   "metadata": {},
   "outputs": [],
   "source": [
    "# difference4_bow = []\n",
    "\n",
    "# zip_object = zip(temp, temp_crn)\n",
    "# for temp_i, temp_crn_i in zip_object:\n",
    "#     difference4_bow.append(temp_i-temp_crn_i)\n",
    "\n",
    "# print(difference4_bow)"
   ]
  },
  {
   "cell_type": "markdown",
   "id": "b962f206",
   "metadata": {},
   "source": [
    "<font size=\"3\">Gadsden, AL: 0600 UTC (12:00 am CST) 01 March 2022-0600 UTC (12:00 am CST) 02 March 2022</font>"
   ]
  },
  {
   "cell_type": "code",
   "execution_count": 132,
   "id": "e76025fd",
   "metadata": {},
   "outputs": [
    {
     "name": "stdout",
     "output_type": "stream",
     "text": [
      "[11.16, 10.57, 10.37, 9.64999, 8.95001, 8.10001, 7.05002, 6.75, 9.14999, 12.75, 16.14, 19.15, 21.72, 22.92, 23.35, 23.12, 22.07, 19.65, 16.94, 13.85, 11.94, 10.98, 9.64999, 8.82001, 7.74002]\n"
     ]
    }
   ],
   "source": [
    "#1 hr hrrr:\n",
    "with open('hrrr_f18_Gadsden_AL.txt') as f:\n",
    "    lst=[line.split()[4] for line in f]\n",
    "    temp_gad4=[]\n",
    "    for i in lst:\n",
    "        new=i.replace(',',\"\")\n",
    "        temp_gad4.append(new)\n",
    "    temp_gad4.pop(0)\n",
    "    temp_gad4=[float(x) for x in temp_gad4]\n",
    "    temp_gad4=temp_gad4[2195:2220]\n",
    "#     x = np.array(temp)\n",
    "#     temp = ma.masked_array(x, mask=[0, 0, 0, 0, 0,0,0,0,1,0,0,0,0,0,0,0,0,0,0,0,0,0,0,0,0])\n",
    "    #temp=temp[2015:2063]\n",
    "    print(temp_gad4)\n",
    "    #print(len(temp))\n",
    "#full time period is [2015:2112]"
   ]
  },
  {
   "cell_type": "code",
   "execution_count": 133,
   "id": "4c633594",
   "metadata": {},
   "outputs": [
    {
     "name": "stdout",
     "output_type": "stream",
     "text": [
      "[5.9, 5.2, 5.0, 4.5, 4.0, 5.2, 5.4, 5.2, 8.6, 12.1, 15.5, 19.4, 21.6, 23.6, 24.3, 24.6, 23.4, 20.8, 17.5, 13.5, 9.2, 7.9, 6.6, 5.5, 4.7]\n"
     ]
    }
   ],
   "source": [
    "#Air Temp CRN:\n",
    "with open('CRNH0203-2022-AL_Gadsden_19_N.txt') as f:\n",
    "    lst=[line.split()[20] for line in f]\n",
    "    #print(lst)\n",
    "    temp_crn_gad4=[]\n",
    "    for i in lst:\n",
    "        new=i.replace(',',\"\")\n",
    "        temp_crn_gad4.append(new)\n",
    "    temp_crn_gad4=[float(x) for x in temp_crn_gad4]\n",
    "    temp_crn_gad4=temp_crn_gad4[2212:2237]\n",
    "#     y = np.array(temp_crn)\n",
    "#     temp_crn = ma.masked_array(y, mask=[0, 0, 0, 0, 0,0,0,0,1,0,0,0,0,0,0,0,0,0,0,0,0,0,0,0,0])\n",
    "    print(temp_crn_gad4)\n",
    "    #print(len(temp_crn))\n",
    "    # print(temp_crn[2124])"
   ]
  },
  {
   "cell_type": "code",
   "execution_count": 134,
   "id": "fd78be39",
   "metadata": {},
   "outputs": [],
   "source": [
    "# difference4_gad = []\n",
    "\n",
    "# zip_object = zip(temp, temp_crn)\n",
    "# for temp_i, temp_crn_i in zip_object:\n",
    "#     difference4_gad.append(temp_i-temp_crn_i)\n",
    "\n",
    "# print(difference4_gad)"
   ]
  },
  {
   "cell_type": "markdown",
   "id": "de9fab15",
   "metadata": {},
   "source": [
    "<font size=\"3\">Newton, GA: 0600 UTC (12:00 am CST) 01 March 2022-0600 UTC (12:00 am CST) 02 March 2022</font>"
   ]
  },
  {
   "cell_type": "code",
   "execution_count": 135,
   "id": "ee45f74b",
   "metadata": {},
   "outputs": [
    {
     "name": "stdout",
     "output_type": "stream",
     "text": [
      "[12.41, 12.26, 10.74, 10.5, 9.78, 9.30002, 9.72, 9.92001, 14.34, 18.73, 22.59, 25.29, 27.98, 29.53, 30.38, 29.87, 28.62, 26.54, 23.54, 19.4, 16.58, 15.42, 14.17, 13.25, 12.52]\n"
     ]
    }
   ],
   "source": [
    "#1 hr hrrr:\n",
    "with open('hrrr_f18_Newton_GA.txt') as f:\n",
    "    lst=[line.split()[4] for line in f]\n",
    "    temp_newt4=[]\n",
    "    for i in lst:\n",
    "        new=i.replace(',',\"\")\n",
    "        temp_newt4.append(new)\n",
    "    temp_newt4.pop(0)\n",
    "    temp_newt4=[float(x) for x in temp_newt4]\n",
    "    temp_newt4=temp_newt4[2195:2220]\n",
    "    #temp=temp[2015:2063]\n",
    "    print(temp_newt4)\n",
    "    #print(len(temp))\n",
    "#full time period is [2015:2112]"
   ]
  },
  {
   "cell_type": "code",
   "execution_count": 136,
   "id": "569d6a98",
   "metadata": {},
   "outputs": [
    {
     "name": "stdout",
     "output_type": "stream",
     "text": [
      "[10.5, 10.1, 9.8, 9.3, 9.0, 8.7, 8.4, 8.1, 8.1, 11.7, 16.1, 20.5, 25.0, 28.4, 30.3, 31.8, 31.4, 29.5, 27.4, 24.0, 19.4, 15.0, 13.4, 12.4, 11.6]\n"
     ]
    }
   ],
   "source": [
    "#Air Temp CRN:\n",
    "with open('CRNH0203-2022-GA_Newton_11_SW.txt') as f:\n",
    "    lst=[line.split()[20] for line in f]\n",
    "    #print(lst)\n",
    "    temp_crn_newt4=[]\n",
    "    for i in lst:\n",
    "        new=i.replace(',',\"\")\n",
    "        temp_crn_newt4.append(new)\n",
    "    temp_crn_newt4=[float(x) for x in temp_crn_newt4]\n",
    "    temp_crn_newt4=temp_crn_newt4[2211:2236]\n",
    "    print(temp_crn_newt4)\n",
    "    #print(len(temp_crn))\n",
    "    # print(temp_crn[2124])"
   ]
  },
  {
   "cell_type": "code",
   "execution_count": 137,
   "id": "23233b5a",
   "metadata": {},
   "outputs": [],
   "source": [
    "# difference4_newt = []\n",
    "\n",
    "# zip_object = zip(temp, temp_crn)\n",
    "# for temp_i, temp_crn_i in zip_object:\n",
    "#     difference4_newt.append(temp_i-temp_crn_i)\n",
    "\n",
    "# print(difference4_newt)"
   ]
  },
  {
   "cell_type": "markdown",
   "id": "ab4663ab",
   "metadata": {},
   "source": [
    "<font size=\"3\">Salem, MO: 0500 UTC (12:00 am CDT) 19 April 2022-0500 UTC (12:00 am CDT) 20 April 2022</font>"
   ]
  },
  {
   "cell_type": "code",
   "execution_count": 138,
   "id": "3fe4d4d8",
   "metadata": {},
   "outputs": [
    {
     "name": "stdout",
     "output_type": "stream",
     "text": [
      "[0.800018, 0.309998, -0.169983, -0.339996, -0.389984, -0.429993, -0.449982, -0.399994, 2.45001, 6.01001, 9.08002, 11.95, 14.59, 16.42, 17.58, 17.67, 16.85, 14.44, 13.26, 11.76, 10.11, 9.61002, 8.56, 7.72, 7.13]\n"
     ]
    }
   ],
   "source": [
    "#1 hr hrrr:\n",
    "with open('hrrr_f18_Salem_MO.txt') as f:\n",
    "    lst=[line.split()[4] for line in f]\n",
    "    temp_sal5=[]\n",
    "    for i in lst:\n",
    "        new=i.replace(',',\"\")\n",
    "        temp_sal5.append(new)\n",
    "    temp_sal5.pop(0)\n",
    "    temp_sal5=[float(x) for x in temp_sal5]\n",
    "    temp_sal5=temp_sal5[2579:2604]\n",
    "    #temp=temp[2015:2063]\n",
    "    print(temp_sal5)\n",
    "#full time period is [2015:2112]"
   ]
  },
  {
   "cell_type": "code",
   "execution_count": 139,
   "id": "8e5ef275",
   "metadata": {},
   "outputs": [
    {
     "name": "stdout",
     "output_type": "stream",
     "text": [
      "[-2.8, -3.3, -2.9, -2.5, -3.8, -4.9, -5.5, -5.1, -0.5, 7.5, 14.4, 20.7, 26.3, 29.2, 31.2, 30.7, 28.4, 25.7, 19.2, 13.9, 10.6, 8.5, 8.7, 9.0, 8.0]\n"
     ]
    }
   ],
   "source": [
    "#Air Temp CRN:\n",
    "with open('CRNH0203-2022-MO_Salem_10_W.txt') as f:\n",
    "    lst=[line.split()[20] for line in f]\n",
    "    #print(lst)\n",
    "    temp_crn_sal5=[]\n",
    "    for i in lst:\n",
    "        new=i.replace(',',\"\")\n",
    "        temp_crn_sal5.append(new)\n",
    "    temp_crn_sal5=[float(x) for x in temp_crn_sal5]\n",
    "    temp_crn_sal5=temp_crn_sal5[2596:2621]\n",
    "    print(temp_crn_sal5)\n",
    "    # print(temp_crn[2124])"
   ]
  },
  {
   "cell_type": "code",
   "execution_count": 140,
   "id": "631903a7",
   "metadata": {},
   "outputs": [],
   "source": [
    "# difference5_sal = []\n",
    "\n",
    "# zip_object = zip(temp, temp_crn)\n",
    "# for temp_i, temp_crn_i in zip_object:\n",
    "#     difference5_sal.append(temp_i-temp_crn_i)\n",
    "\n",
    "# print(difference5_sal)"
   ]
  },
  {
   "cell_type": "markdown",
   "id": "eb16f605",
   "metadata": {},
   "source": [
    "<font size=\"3\">Batesville, AR: 0600 UTC (12:00 am CST) 01 March 2022-0600 UTC (12:00 am CST) 02 March 2022</font>"
   ]
  },
  {
   "cell_type": "code",
   "execution_count": 141,
   "id": "5f6566a3",
   "metadata": {},
   "outputs": [
    {
     "name": "stdout",
     "output_type": "stream",
     "text": [
      "[5.26001, 4.76001, 3.07001, 2.51001, 1.83002, 1.17999, 0.679993, 0.959991, 5.42001, 9.91, 13.81, 17.42, 20.34, 22.58, 23.37, 23.08, 22.01, 20.78, 17.43, 15.02, 12.43, 11.38, 9.82001, 9.37, 7.92001]\n"
     ]
    }
   ],
   "source": [
    "#1 hr hrrr:\n",
    "with open('hrrr_f18_Batesville_AR.txt') as f:\n",
    "    lst=[line.split()[4] for line in f]\n",
    "    temp_bat5=[]\n",
    "    for i in lst:\n",
    "        new=i.replace(',',\"\")\n",
    "        temp_bat5.append(new)\n",
    "    temp_bat5.pop(0)\n",
    "    temp_bat5=[float(x) for x in temp_bat5]\n",
    "    temp_bat5=temp_bat5[2579:2604]\n",
    "#     x = np.array(temp)\n",
    "#     temp = ma.masked_array(x, mask=[0, 0, 0, 0, 0,0,0,0,0,0,0,0,0,0,0,0,0,0,0,0,0,1,0,0,0])\n",
    "    #temp=temp[2015:2063]\n",
    "    print(temp_bat5)\n",
    "#full time period is [2015:2112]"
   ]
  },
  {
   "cell_type": "code",
   "execution_count": 142,
   "id": "181df417",
   "metadata": {},
   "outputs": [
    {
     "name": "stdout",
     "output_type": "stream",
     "text": [
      "[1.6, 1.2, 0.7, 0.3, 0.1, -0.3, -0.7, -0.7, 1.8, 7.3, 11.7, 15.7, 17.9, 19.7, 20.1, 19.4, 18.0, 16.0, 13.9, 11.8, 9.0, 5.6, 5.4, 4.4, 5.8]\n"
     ]
    }
   ],
   "source": [
    "#Air Temp CRN:\n",
    "with open('CRNH0203-2022-AR_Batesville_8_WNW.txt') as f:\n",
    "    lst=[line.split()[20] for line in f]\n",
    "    #print(lst)\n",
    "    temp_crn_bat5=[]\n",
    "    for i in lst:\n",
    "        new=i.replace(',',\"\")\n",
    "        temp_crn_bat5.append(new)\n",
    "    temp_crn_bat5=[float(x) for x in temp_crn_bat5]\n",
    "    temp_crn_bat5=temp_crn_bat5[2596:2621]\n",
    "#     y = np.array(temp_crn)\n",
    "#     temp_crn = ma.masked_array(y, mask=[0, 0, 0, 0, 0,0,0,0,0,0,0,0,0,0,0,0,0,0,0,0,0,1,0,0,0])\n",
    "    print(temp_crn_bat5)\n",
    "    #print(len(temp_crn))\n",
    "    # print(temp_crn[2124])"
   ]
  },
  {
   "cell_type": "code",
   "execution_count": 143,
   "id": "32ec4102",
   "metadata": {},
   "outputs": [],
   "source": [
    "# difference5_bat = []\n",
    "\n",
    "# zip_object = zip(temp, temp_crn)\n",
    "# for temp_i, temp_crn_i in zip_object:\n",
    "#     difference5_bat.append(temp_i-temp_crn_i)\n",
    "\n",
    "# print(difference5_bat)"
   ]
  },
  {
   "cell_type": "markdown",
   "id": "ab0f4798",
   "metadata": {},
   "source": [
    "<font size=\"3\">Lafayette, LA: 0600 UTC (12:00 am CST) 01 March 2022-0600 UTC (12:00 am CST) 02 March 2022</font>"
   ]
  },
  {
   "cell_type": "code",
   "execution_count": 144,
   "id": "bf4ca647",
   "metadata": {},
   "outputs": [
    {
     "name": "stdout",
     "output_type": "stream",
     "text": [
      "[13.27, 12.94, 12.52, 11.73, 11.51, 11.1, 10.88, 10.94, 14.23, 18.0, 21.12, 26.04, 29.09, 31.26, 32.29, 32.5, 31.42, 29.7, 26.77, 23.44, 20.4, 18.52, 17.43, 16.52, 15.8]\n"
     ]
    }
   ],
   "source": [
    "#1 hr hrrr:\n",
    "with open('hrrr_f18_Lafayette_LA.txt') as f:\n",
    "    lst=[line.split()[4] for line in f]\n",
    "    temp_laf5=[]\n",
    "    for i in lst:\n",
    "        new=i.replace(',',\"\")\n",
    "        temp_laf5.append(new)\n",
    "    temp_laf5.pop(0)\n",
    "    temp_laf5=[float(x) for x in temp_laf5]\n",
    "    temp_laf5=temp_laf5[2579:2604]\n",
    "    #temp=temp[2015:2063]\n",
    "    print(temp_laf5)\n",
    "    #print(len(temp))\n",
    "#full time period is [2015:2112]"
   ]
  },
  {
   "cell_type": "code",
   "execution_count": 145,
   "id": "6f4ae0a1",
   "metadata": {},
   "outputs": [
    {
     "name": "stdout",
     "output_type": "stream",
     "text": [
      "[12.2, 11.8, 11.1, 10.4, 9.6, 9.1, 9.3, 9.2, 12.2, 14.8, 18.2, 22.9, 26.8, 30.0, 31.6, 31.9, 31.0, 28.0, 25.0, 20.0, 14.6, 11.6, 10.9, 11.1, 11.1]\n"
     ]
    }
   ],
   "source": [
    "#Air Temp CRN:\n",
    "with open('CRNH0203-2022-LA_Lafayette_13_SE.txt') as f:\n",
    "    lst=[line.split()[20] for line in f]\n",
    "    #print(lst)\n",
    "    temp_crn_laf5=[]\n",
    "    for i in lst:\n",
    "        new=i.replace(',',\"\")\n",
    "        temp_crn_laf5.append(new)\n",
    "    temp_crn_laf5=[float(x) for x in temp_crn_laf5]\n",
    "    temp_crn_laf5=temp_crn_laf5[2596:2621]\n",
    "    print(temp_crn_laf5)\n",
    "    #print(len(temp_crn))\n",
    "    # print(temp_crn[2124])"
   ]
  },
  {
   "cell_type": "code",
   "execution_count": 146,
   "id": "482bd1ef",
   "metadata": {},
   "outputs": [],
   "source": [
    "# difference5_laf = []\n",
    "\n",
    "# zip_object = zip(temp, temp_crn)\n",
    "# for temp_i, temp_crn_i in zip_object:\n",
    "#     difference5_laf.append(temp_i-temp_crn_i)\n",
    "\n",
    "# print(difference5_laf)"
   ]
  },
  {
   "cell_type": "markdown",
   "id": "de00e832",
   "metadata": {},
   "source": [
    "<font size=\"3\">Monroe, LA: 0600 UTC (12:00 am CST) 01 March 2022-0600 UTC (12:00 am CST) 02 March 2022</font>"
   ]
  },
  {
   "cell_type": "code",
   "execution_count": 147,
   "id": "4e202ed7",
   "metadata": {},
   "outputs": [
    {
     "name": "stdout",
     "output_type": "stream",
     "text": [
      "[8.66, 8.86002, 7.82001, 7.87, 7.67001, 6.87, 6.35001, 6.08002, 9.37, 12.37, 15.39, 18.4, 22.49, 25.57, 26.91, 27.31, 26.33, 24.71, 21.52, 18.47, 15.53, 14.11, 12.87, 12.15, 11.83]\n"
     ]
    }
   ],
   "source": [
    "#1 hr hrrr:\n",
    "with open('hrrr_f18_Monroe_LA.txt') as f:\n",
    "    lst=[line.split()[4] for line in f]\n",
    "    temp_mon5=[]\n",
    "    for i in lst:\n",
    "        new=i.replace(',',\"\")\n",
    "        temp_mon5.append(new)\n",
    "    temp_mon5.pop(0)\n",
    "    temp_mon5=[float(x) for x in temp_mon5]\n",
    "    temp_mon5=temp_mon5[2579:2604]\n",
    "    #temp=temp[2015:2063]\n",
    "    print(temp_mon5)\n",
    "    #print(len(temp))\n",
    "#full time period is [2015:2112]"
   ]
  },
  {
   "cell_type": "code",
   "execution_count": 148,
   "id": "89b1b3f1",
   "metadata": {},
   "outputs": [
    {
     "name": "stdout",
     "output_type": "stream",
     "text": [
      "[9.2, 8.7, 8.0, 7.6, 7.1, 6.6, 7.0, 7.8, 9.0, 12.6, 15.1, 18.1, 20.2, 22.5, 23.8, 24.0, 23.7, 23.1, 19.0, 15.9, 12.7, 10.4, 9.7, 9.3, 9.9]\n"
     ]
    }
   ],
   "source": [
    "#Air Temp CRN:\n",
    "with open('CRNH0203-2022-LA_Monroe_26_N.txt') as f:\n",
    "    lst=[line.split()[20] for line in f]\n",
    "    #print(lst)\n",
    "    temp_crn_mon5=[]\n",
    "    for i in lst:\n",
    "        new=i.replace(',',\"\")\n",
    "        temp_crn_mon5.append(new)\n",
    "    temp_crn_mon5=[float(x) for x in temp_crn_mon5]\n",
    "    temp_crn_mon5=temp_crn_mon5[2596:2621]\n",
    "    print(temp_crn_mon5)\n",
    "    #print(len(temp_crn))\n",
    "    # print(temp_crn[2124])"
   ]
  },
  {
   "cell_type": "code",
   "execution_count": 149,
   "id": "461ef9d6",
   "metadata": {},
   "outputs": [],
   "source": [
    "# difference5_mon = []\n",
    "\n",
    "# zip_object = zip(temp, temp_crn)\n",
    "# for temp_i, temp_crn_i in zip_object:\n",
    "#     difference5_mon.append(temp_i-temp_crn_i)\n",
    "\n",
    "# print(difference5_mon)"
   ]
  },
  {
   "cell_type": "markdown",
   "id": "10c3e262",
   "metadata": {},
   "source": [
    "<font size=\"3\">Holly Springs, MS: 0600 UTC (12:00 am CST) 01 March 2022-0600 UTC (12:00 am CST) 02 March 2022</font>"
   ]
  },
  {
   "cell_type": "code",
   "execution_count": 150,
   "id": "02dfc76f",
   "metadata": {},
   "outputs": [
    {
     "name": "stdout",
     "output_type": "stream",
     "text": [
      "[6.01001, 5.64999, 4.70999, 4.17999, 3.55002, 2.83002, 2.38, 2.97, 5.79001, 8.74002, 11.54, 14.24, 16.44, 18.45, 20.07, 20.88, 20.39, 19.08, 16.56, 13.51, 10.58, 9.86002, 8.67001, 8.19, 7.67001]\n"
     ]
    }
   ],
   "source": [
    "#1 hr hrrr:\n",
    "with open('hrrr_f18_Holly Springs_MS.txt') as f:\n",
    "    lst=[line.split()[4] for line in f]\n",
    "    temp_hol5=[]\n",
    "    for i in lst:\n",
    "        new=i.replace(',',\"\")\n",
    "        temp_hol5.append(new)\n",
    "    temp_hol5.pop(0)\n",
    "    temp_hol5=[float(x) for x in temp_hol5]\n",
    "    temp_hol5=temp_hol5[2579:2604]\n",
    "    #temp=temp[2015:2063]\n",
    "    print(temp_hol5)\n",
    "    #print(len(temp))\n",
    "#full time period is [2015:2112]"
   ]
  },
  {
   "cell_type": "code",
   "execution_count": 151,
   "id": "c2ad5a2d",
   "metadata": {},
   "outputs": [
    {
     "name": "stdout",
     "output_type": "stream",
     "text": [
      "[4.9, 3.7, 3.0, 2.6, 2.1, 1.5, 1.2, 1.0, 4.0, 9.1, 13.3, 17.4, 20.6, 23.0, 24.1, 24.7, 26.4, 27.1, 23.5, 17.5, 9.9, 7.4, 6.0, 5.2, 4.7]\n"
     ]
    }
   ],
   "source": [
    "#Air Temp CRN:\n",
    "with open('CRNH0203-2022-MS_Holly_Springs_4_N.txt') as f:\n",
    "    lst=[line.split()[20] for line in f]\n",
    "    #print(lst)\n",
    "    temp_crn_hol5=[]\n",
    "    for i in lst:\n",
    "        new=i.replace(',',\"\")\n",
    "        temp_crn_hol5.append(new)\n",
    "    temp_crn_hol5=[float(x) for x in temp_crn_hol5]\n",
    "    temp_crn_hol5=temp_crn_hol5[2596:2621]\n",
    "    print(temp_crn_hol5)\n",
    "    #print(len(temp_crn))\n",
    "    # print(temp_crn[2124])"
   ]
  },
  {
   "cell_type": "code",
   "execution_count": 152,
   "id": "33e182d5",
   "metadata": {},
   "outputs": [],
   "source": [
    "# difference5_hol = []\n",
    "\n",
    "# zip_object = zip(temp, temp_crn)\n",
    "# for temp_i, temp_crn_i in zip_object:\n",
    "#     difference5_hol.append(temp_i-temp_crn_i)\n",
    "\n",
    "# print(difference5_hol)"
   ]
  },
  {
   "cell_type": "markdown",
   "id": "c3611246",
   "metadata": {},
   "source": [
    "<font size=\"3\">Newton, MS: 0600 UTC (12:00 am CST) 01 March 2022-0600 UTC (12:00 am CST) 02 March 2022</font>"
   ]
  },
  {
   "cell_type": "code",
   "execution_count": 153,
   "id": "c9844209",
   "metadata": {},
   "outputs": [
    {
     "name": "stdout",
     "output_type": "stream",
     "text": [
      "[9.60001, 9.69, 8.83002, 8.12, 7.56, 7.12, 6.85001, 6.33002, 8.74002, 11.43, 14.04, 16.82, 19.04, 21.27, 23.14, 23.98, 23.29, 21.94, 19.79, 16.78, 14.01, 12.72, 11.57, 10.82, 9.88]\n"
     ]
    }
   ],
   "source": [
    "#1 hr hrrr:\n",
    "with open('hrrr_f18_Newton_MS.txt') as f:\n",
    "    lst=[line.split()[4] for line in f]\n",
    "    temp_new5=[]\n",
    "    for i in lst:\n",
    "        new=i.replace(',',\"\")\n",
    "        temp_new5.append(new)\n",
    "    temp_new5.pop(0)\n",
    "    temp_new5=[float(x) for x in temp_new5]\n",
    "    temp_new5=temp_new5[2579:2604]\n",
    "    #temp=temp[2015:2063]\n",
    "    print(temp_new5)\n",
    "    #print(len(temp))\n",
    "#full time period is [2015:2112]"
   ]
  },
  {
   "cell_type": "code",
   "execution_count": 154,
   "id": "27922cc2",
   "metadata": {},
   "outputs": [
    {
     "name": "stdout",
     "output_type": "stream",
     "text": [
      "[8.9, 7.7, 6.6, 5.9, 5.6, 4.7, 4.2, 4.1, 8.5, 12.5, 15.7, 20.1, 23.9, 26.2, 28.0, 28.0, 27.8, 25.8, 23.8, 19.5, 13.1, 9.8, 8.5, 7.8, 7.1]\n"
     ]
    }
   ],
   "source": [
    "#Air Temp CRN:\n",
    "with open('CRNH0203-2022-MS_Newton_5_ENE.txt') as f:\n",
    "    lst=[line.split()[20] for line in f]\n",
    "    #print(lst)\n",
    "    temp_crn_new5=[]\n",
    "    for i in lst:\n",
    "        new=i.replace(',',\"\")\n",
    "        temp_crn_new5.append(new)\n",
    "    temp_crn_new5=[float(x) for x in temp_crn_new5]\n",
    "    temp_crn_new5=temp_crn_new5[2596:2621]\n",
    "    print(temp_crn_new5)\n",
    "    #print(len(temp_crn))\n",
    "    # print(temp_crn[2124])"
   ]
  },
  {
   "cell_type": "code",
   "execution_count": 155,
   "id": "26f39b75",
   "metadata": {},
   "outputs": [],
   "source": [
    "# difference5_new = []\n",
    "\n",
    "# zip_object = zip(temp, temp_crn)\n",
    "# for temp_i, temp_crn_i in zip_object:\n",
    "#     difference5_new.append(temp_i-temp_crn_i)\n",
    "\n",
    "# print(difference5_new)"
   ]
  },
  {
   "cell_type": "markdown",
   "id": "35f6ffe5",
   "metadata": {},
   "source": [
    "<font size=\"3\">Gainesville, AL: 0600 UTC (12:00 am CST) 01 March 2022-0600 UTC (12:00 am CST) 02 March 2022</font>"
   ]
  },
  {
   "cell_type": "code",
   "execution_count": 156,
   "id": "d2bd1457",
   "metadata": {},
   "outputs": [],
   "source": [
    "# #1 hr hrrr:\n",
    "# with open('hrrr_f18_Gainesville_AL.txt') as f:\n",
    "#     lst=[line.split()[4] for line in f]\n",
    "#     temp=[]\n",
    "#     for i in lst:\n",
    "#         new=i.replace(',',\"\")\n",
    "#         temp.append(new)\n",
    "#     temp.pop(0)\n",
    "#     temp=[float(x) for x in temp]\n",
    "#     temp=temp[2596:2621]\n",
    "#     #temp=temp[2015:2063]\n",
    "#     print(temp)\n",
    "#     #print(len(temp))\n",
    "# #full time period is [2015:2112]"
   ]
  },
  {
   "cell_type": "code",
   "execution_count": 157,
   "id": "4f5c8ab2",
   "metadata": {},
   "outputs": [],
   "source": [
    "# #Air Temp CRN:\n",
    "# with open('CRNH0203-2022-AL_Gainesville_2_NE.txt') as f:\n",
    "#     lst=[line.split()[20] for line in f]\n",
    "#     #print(lst)\n",
    "#     temp_crn=[]\n",
    "#     for i in lst:\n",
    "#         new=i.replace(',',\"\")\n",
    "#         temp_crn.append(new)\n",
    "#     temp_crn=[float(x) for x in temp_crn]\n",
    "#     temp_crn=temp_crn[2596:2621]\n",
    "#     print(temp_crn)\n",
    "#     #print(len(temp_crn))\n",
    "#     # print(temp_crn[2124])"
   ]
  },
  {
   "cell_type": "code",
   "execution_count": 158,
   "id": "8356bd44",
   "metadata": {},
   "outputs": [],
   "source": [
    "# difference5_gai = []\n",
    "\n",
    "# zip_object = zip(temp, temp_crn)\n",
    "# for temp_i, temp_crn_i in zip_object:\n",
    "#     difference5_gai.append(temp_i-temp_crn_i)\n",
    "\n",
    "# print(difference5_gai)"
   ]
  },
  {
   "cell_type": "markdown",
   "id": "fb46ce72",
   "metadata": {},
   "source": [
    "<font size=\"3\">Fairhope, AL: 0600 UTC (12:00 am CST) 01 March 2022-0600 UTC (12:00 am CST) 02 March 2022</font>"
   ]
  },
  {
   "cell_type": "code",
   "execution_count": 159,
   "id": "eb7efbb3",
   "metadata": {},
   "outputs": [
    {
     "name": "stdout",
     "output_type": "stream",
     "text": [
      "[11.89, 12.06, 11.22, 10.83, 10.08, 9.70999, 9.31, 9.83002, 11.94, 14.92, 18.35, 21.99, 24.1, 26.29, 27.18, 27.29, 26.1, 24.26, 21.01, 17.99, 16.03, 14.92, 13.77, 12.84, 12.14]\n"
     ]
    }
   ],
   "source": [
    "#1 hr hrrr:\n",
    "with open('hrrr_f18_Fairhope_AL.txt') as f:\n",
    "    lst=[line.split()[4] for line in f]\n",
    "    temp_fai5=[]\n",
    "    for i in lst:\n",
    "        new=i.replace(',',\"\")\n",
    "        temp_fai5.append(new)\n",
    "    temp_fai5.pop(0)\n",
    "    temp_fai5=[float(x) for x in temp_fai5]\n",
    "    temp_fai5=temp_fai5[2579:2604]\n",
    "    #temp=temp[2015:2063]\n",
    "    print(temp_fai5)\n",
    "    #print(len(temp))\n",
    "#full time period is [2015:2112]"
   ]
  },
  {
   "cell_type": "code",
   "execution_count": 160,
   "id": "91a8ae69",
   "metadata": {},
   "outputs": [
    {
     "name": "stdout",
     "output_type": "stream",
     "text": [
      "[11.7, 11.2, 10.2, 10.1, 10.7, 9.8, 8.2, 8.1, 11.0, 14.6, 17.5, 20.7, 22.9, 24.6, 25.6, 25.1, 23.5, 22.0, 19.8, 16.2, 10.8, 7.8, 6.7, 5.9, 5.7]\n"
     ]
    }
   ],
   "source": [
    "#Air Temp CRN:\n",
    "with open('CRNH0203-2022-AL_Fairhope_3_NE.txt') as f:\n",
    "    lst=[line.split()[20] for line in f]\n",
    "    #print(lst)\n",
    "    temp_crn_fai5=[]\n",
    "    for i in lst:\n",
    "        new=i.replace(',',\"\")\n",
    "        temp_crn_fai5.append(new)\n",
    "    temp_crn_fai5=[float(x) for x in temp_crn_fai5]\n",
    "    temp_crn_fai5=temp_crn_fai5[2596:2621]\n",
    "    print(temp_crn_fai5)\n",
    "    #print(len(temp_crn))\n",
    "    # print(temp_crn[2124])"
   ]
  },
  {
   "cell_type": "code",
   "execution_count": 161,
   "id": "27eb4d35",
   "metadata": {},
   "outputs": [],
   "source": [
    "# difference5_fai = []\n",
    "\n",
    "# zip_object = zip(temp, temp_crn)\n",
    "# for temp_i, temp_crn_i in zip_object:\n",
    "#     difference5_fai.append(temp_i-temp_crn_i)\n",
    "\n",
    "# print(difference5_fai)"
   ]
  },
  {
   "cell_type": "markdown",
   "id": "26ae7516",
   "metadata": {},
   "source": [
    "<font size=\"3\">**Selma, AL: 0600 UTC (12:00 am CST) 01 March 2022-0600 UTC (12:00 am CST) 02 March 2022</font>"
   ]
  },
  {
   "cell_type": "code",
   "execution_count": 162,
   "id": "bb3e0d4e",
   "metadata": {},
   "outputs": [
    {
     "name": "stdout",
     "output_type": "stream",
     "text": [
      "[9.56, 9.28, 8.47, 7.57001, 7.0, 6.23001, 5.81, 6.66, 9.42999, 11.86, 14.06, 16.37, 17.79, 19.01, 19.71, 19.26, 18.73, 17.48, 15.68, 14.07, 11.79, 10.69, 9.64001, 8.70999, 8.13]\n",
      "[10.7, 10.7, 9.8, 8.3, 7.2, 6.2, 5.6, 5.6, 10.4, 14.1, 17.3, 20.6, 23.9, 25.6, 26.8, 27.4, 27.1, 26.0, 23.9, 18.7, 14.4, 11.5, 10.2, 9.1, 8.4]\n"
     ]
    }
   ],
   "source": [
    "#1 hr hrrr:\n",
    "import numpy as np\n",
    "import numpy.ma as ma\n",
    "with open('hrrr_f18_Selma_AL.txt') as f:\n",
    "    lst=[line.split()[4] for line in f]\n",
    "    temp_sel5=[]\n",
    "    for i in lst:\n",
    "        new=i.replace(',',\"\")\n",
    "        temp_sel5.append(new)\n",
    "    temp_sel5.pop(0)\n",
    "    temp_sel5=[float(x) for x in temp_sel5]\n",
    "    temp_sel5=temp_sel5[2579:2604]\n",
    "\n",
    "#     x = np.array(temp)\n",
    "#     temp = ma.masked_array(x, mask=[0, 0, 0, 0, 0,0,0,0,0,0,0,0,0,0,0,0,0,1,1,1,1,0,0,0,0])\n",
    "    #print(temp)\n",
    "#Air Temp CRN:\n",
    "with open('CRNH0203-2022-AL_Selma_13_WNW.txt') as f:\n",
    "    lst=[line.split()[20] for line in f]\n",
    "    #print(lst)\n",
    "    temp_crn_sel5=[]\n",
    "    for i in lst:\n",
    "        new=i.replace(',',\"\")\n",
    "        temp_crn_sel5.append(new)\n",
    "    temp_crn_sel5=[float(x) for x in temp_crn_sel5]\n",
    "    temp_crn_sel5=temp_crn_sel5[2596:2621]\n",
    "#     y = np.array(temp_crn)\n",
    "#     temp_crn = ma.masked_array(y, mask=[0, 0, 0, 0, 0,0,0,0,0,0,0,0,0,0,0,0,0,1,1,1,1,0,0,0,0])\n",
    "    print(temp_sel5)\n",
    "    #print(len(temp))\n",
    "    print(temp_crn_sel5)\n",
    "    #print(len(temp_crn))\n",
    "# #full time period is [2015:2112]\n",
    "# difference5_sel = []\n",
    "\n",
    "# zip_object = zip(temp, temp_crn)\n",
    "# for temp_i, temp_crn_i in zip_object:\n",
    "#     difference5_sel.append(temp_i-temp_crn_i)\n",
    "\n",
    "# print(difference5_sel)\n",
    "# #print(len(difference3_sel))"
   ]
  },
  {
   "cell_type": "markdown",
   "id": "d56aedb3",
   "metadata": {},
   "source": [
    "<font size=\"3\">Bowling Green, KY: 0600 UTC (12:00 am CST) 01 March 2022-0600 UTC (12:00 am CST) 02 March 2022</font>"
   ]
  },
  {
   "cell_type": "code",
   "execution_count": 163,
   "id": "24633681",
   "metadata": {},
   "outputs": [
    {
     "name": "stdout",
     "output_type": "stream",
     "text": [
      "[1.60001, 0.959991, 0.440002, -0.00997925, -0.259979, -0.449982, -0.48999, 0.450012, 3.64001, 6.95999, 10.2, 13.56, 16.63, 18.96, 19.8, 19.71, 18.58, 16.7, 13.89, 10.73, 7.88, 6.5, 5.74002, 4.88, 6.67999]\n"
     ]
    }
   ],
   "source": [
    "#1 hr hrrr:\n",
    "with open('hrrr_f18_Bowling Green_KY.txt') as f:\n",
    "    lst=[line.split()[4] for line in f]\n",
    "    temp_bow5=[]\n",
    "    for i in lst:\n",
    "        new=i.replace(',',\"\")\n",
    "        temp_bow5.append(new)\n",
    "    temp_bow5.pop(0)\n",
    "    temp_bow5=[float(x) for x in temp_bow5]\n",
    "    temp_bow5=temp_bow5[2579:2604]\n",
    "    #temp=temp[2015:2063]\n",
    "    print(temp_bow5)\n",
    "    #print(len(temp))\n",
    "#full time period is [2015:2112]"
   ]
  },
  {
   "cell_type": "code",
   "execution_count": 164,
   "id": "f8ae0010",
   "metadata": {},
   "outputs": [
    {
     "name": "stdout",
     "output_type": "stream",
     "text": [
      "[0.3, -0.5, -1.2, -1.6, -1.4, -2.4, -3.0, -2.5, 3.2, 8.2, 12.4, 16.4, 19.4, 21.5, 21.9, 21.6, 20.4, 18.2, 13.5, 9.1, 4.2, 2.5, 1.9, 1.8, 3.4]\n"
     ]
    }
   ],
   "source": [
    "#Air Temp CRN:\n",
    "with open('CRNH0203-2022-KY_Bowling_Green_21_NNE.txt') as f:\n",
    "    lst=[line.split()[20] for line in f]\n",
    "    #print(lst)\n",
    "    temp_crn_bow5=[]\n",
    "    for i in lst:\n",
    "        new=i.replace(',',\"\")\n",
    "        temp_crn_bow5.append(new)\n",
    "    temp_crn_bow5=[float(x) for x in temp_crn_bow5]\n",
    "    temp_crn_bow5=temp_crn_bow5[2596:2621]\n",
    "    print(temp_crn_bow5)\n",
    "    #print(len(temp_crn))\n",
    "    # print(temp_crn[2124])"
   ]
  },
  {
   "cell_type": "code",
   "execution_count": 165,
   "id": "0855a124",
   "metadata": {},
   "outputs": [],
   "source": [
    "# difference5_bow = []\n",
    "\n",
    "# zip_object = zip(temp, temp_crn)\n",
    "# for temp_i, temp_crn_i in zip_object:\n",
    "#     difference5_bow.append(temp_i-temp_crn_i)\n",
    "\n",
    "# print(difference5_bow)"
   ]
  },
  {
   "cell_type": "markdown",
   "id": "230d1a46",
   "metadata": {},
   "source": [
    "<font size=\"3\">Gadsden, AL: 0600 UTC (12:00 am CST) 01 March 2022-0600 UTC (12:00 am CST) 02 March 2022</font>"
   ]
  },
  {
   "cell_type": "code",
   "execution_count": 166,
   "id": "c5f9ab54",
   "metadata": {},
   "outputs": [
    {
     "name": "stdout",
     "output_type": "stream",
     "text": [
      "[6.37, 6.30002, 5.38, 4.41, 3.88, 3.07001, 2.58002, 3.72, 6.77002, 9.98001, 13.75, 17.18, 19.35, 20.83, 21.16, 20.96, 20.12, 18.23, 15.59, 12.88, 10.84, 9.95001, 8.42999, 7.63, 6.52002]\n"
     ]
    }
   ],
   "source": [
    "#1 hr hrrr:\n",
    "with open('hrrr_f18_Gadsden_AL.txt') as f:\n",
    "    lst=[line.split()[4] for line in f]\n",
    "    temp_gad5=[]\n",
    "    for i in lst:\n",
    "        new=i.replace(',',\"\")\n",
    "        temp_gad5.append(new)\n",
    "    temp_gad5.pop(0)\n",
    "    temp_gad5=[float(x) for x in temp_gad5]\n",
    "    temp_gad5=temp_gad5[2579:2604]\n",
    "#     x = np.array(temp)\n",
    "#     temp = ma.masked_array(x, mask=[0, 0, 0, 0, 0,0,0,0,1,0,0,0,0,0,0,0,0,0,0,0,0,0,0,0,0])\n",
    "    #temp=temp[2015:2063]\n",
    "    print(temp_gad5)\n",
    "    #print(len(temp))\n",
    "#full time period is [2015:2112]"
   ]
  },
  {
   "cell_type": "code",
   "execution_count": 167,
   "id": "d154dfa6",
   "metadata": {},
   "outputs": [
    {
     "name": "stdout",
     "output_type": "stream",
     "text": [
      "[6.7, 5.4, 3.9, 3.8, 4.2, 4.3, 3.6, 3.6, 7.0, 10.1, 12.7, 16.7, 19.6, 21.6, 22.4, 22.4, 21.3, 19.9, 17.8, 14.1, 9.1, 6.8, 5.9, 5.3, 4.7]\n"
     ]
    }
   ],
   "source": [
    "#Air Temp CRN:\n",
    "with open('CRNH0203-2022-AL_Gadsden_19_N.txt') as f:\n",
    "    lst=[line.split()[20] for line in f]\n",
    "    #print(lst)\n",
    "    temp_crn_gad5=[]\n",
    "    for i in lst:\n",
    "        new=i.replace(',',\"\")\n",
    "        temp_crn_gad5.append(new)\n",
    "    temp_crn_gad5=[float(x) for x in temp_crn_gad5]\n",
    "    temp_crn_gad5=temp_crn_gad5[2596:2621]\n",
    "#     y = np.array(temp_crn)\n",
    "#     temp_crn = ma.masked_array(y, mask=[0, 0, 0, 0, 0,0,0,0,1,0,0,0,0,0,0,0,0,0,0,0,0,0,0,0,0])\n",
    "    print(temp_crn_gad5)\n",
    "    #print(len(temp_crn))\n",
    "    # print(temp_crn[2124])"
   ]
  },
  {
   "cell_type": "code",
   "execution_count": 168,
   "id": "20f98582",
   "metadata": {},
   "outputs": [],
   "source": [
    "# difference5_gad = []\n",
    "\n",
    "# zip_object = zip(temp, temp_crn)\n",
    "# for temp_i, temp_crn_i in zip_object:\n",
    "#     difference5_gad.append(temp_i-temp_crn_i)\n",
    "\n",
    "# print(difference5_gad)"
   ]
  },
  {
   "cell_type": "markdown",
   "id": "200f3740",
   "metadata": {},
   "source": [
    "<font size=\"3\">Newton, GA: 0600 UTC (12:00 am CST) 01 March 2022-0600 UTC (12:00 am CST) 02 March 2022</font>"
   ]
  },
  {
   "cell_type": "code",
   "execution_count": 169,
   "id": "c0676e97",
   "metadata": {},
   "outputs": [
    {
     "name": "stdout",
     "output_type": "stream",
     "text": [
      "[12.52, 11.69, 11.02, 9.83002, 9.11002, 8.20001, 8.09, 9.0, 12.1, 15.71, 19.62, 22.84, 25.19, 26.61, 26.97, 26.99, 25.71, 23.89, 20.94, 17.5, 15.07, 13.82, 12.07, 11.44, 10.49]\n"
     ]
    }
   ],
   "source": [
    "#1 hr hrrr:\n",
    "with open('hrrr_f18_Newton_GA.txt') as f:\n",
    "    lst=[line.split()[4] for line in f]\n",
    "    temp_newt5=[]\n",
    "    for i in lst:\n",
    "        new=i.replace(',',\"\")\n",
    "        temp_newt5.append(new)\n",
    "    temp_newt5.pop(0)\n",
    "    temp_newt5=[float(x) for x in temp_newt5]\n",
    "    temp_newt5=temp_newt5[2579:2604]\n",
    "    #temp=temp[2015:2063]\n",
    "    print(temp_newt5)\n",
    "    #print(len(temp))\n",
    "#full time period is [2015:2112]"
   ]
  },
  {
   "cell_type": "code",
   "execution_count": 170,
   "id": "94f7876b",
   "metadata": {},
   "outputs": [
    {
     "name": "stdout",
     "output_type": "stream",
     "text": [
      "[15.1, 14.2, 13.3, 12.4, 11.1, 10.5, 10.6, 10.0, 9.8, 12.2, 15.3, 19.3, 22.9, 26.4, 28.8, 30.4, 30.5, 29.0, 26.7, 23.3, 18.7, 14.2, 12.3, 11.2, 10.4]\n"
     ]
    }
   ],
   "source": [
    "#Air Temp CRN:\n",
    "with open('CRNH0203-2022-GA_Newton_11_SW.txt') as f:\n",
    "    lst=[line.split()[20] for line in f]\n",
    "    #print(lst)\n",
    "    temp_crn_newt5=[]\n",
    "    for i in lst:\n",
    "        new=i.replace(',',\"\")\n",
    "        temp_crn_newt5.append(new)\n",
    "    temp_crn_newt5=[float(x) for x in temp_crn_newt5]\n",
    "    temp_crn_newt5=temp_crn_newt5[2595:2620]\n",
    "    print(temp_crn_newt5)\n",
    "    #print(len(temp_crn))\n",
    "    # print(temp_crn[2124])"
   ]
  },
  {
   "cell_type": "code",
   "execution_count": 171,
   "id": "4d737508",
   "metadata": {},
   "outputs": [],
   "source": [
    "# difference5_newt = []\n",
    "\n",
    "# zip_object = zip(temp, temp_crn)\n",
    "# for temp_i, temp_crn_i in zip_object:\n",
    "#     difference5_newt.append(temp_i-temp_crn_i)\n",
    "\n",
    "# print(difference5_newt)"
   ]
  },
  {
   "cell_type": "markdown",
   "id": "cd4a8f77",
   "metadata": {},
   "source": [
    "<font size=\"3\">Salem, MO: 0500 UTC (12:00 am CDT) 27 April 2022-0500 UTC (12:00 am CDT) 28 April 2022</font>"
   ]
  },
  {
   "cell_type": "code",
   "execution_count": 172,
   "id": "e74c5bbe",
   "metadata": {},
   "outputs": [
    {
     "name": "stdout",
     "output_type": "stream",
     "text": [
      "[6.17999, 5.55002, 5.14001, 5.33002, 4.39001, 4.03, 4.28, 4.75, 8.87, 12.61, 16.04, 18.68, 21.92, 24.41, 25.66, 25.92, 25.01, 23.26, 21.07, 18.16, 15.1, 13.52, 11.8, 11.3, 10.59]\n"
     ]
    }
   ],
   "source": [
    "#1 hr hrrr:\n",
    "with open('hrrr_f18_Salem_MO.txt') as f:\n",
    "    lst=[line.split()[4] for line in f]\n",
    "    temp_sal6=[]\n",
    "    for i in lst:\n",
    "        new=i.replace(',',\"\")\n",
    "        temp_sal6.append(new)\n",
    "    temp_sal6.pop(0)\n",
    "    temp_sal6=[float(x) for x in temp_sal6]\n",
    "    temp_sal6=temp_sal6[2771:2796]\n",
    "    #temp=temp[2015:2063]\n",
    "    print(temp_sal6)\n",
    "#full time period is [2015:2112]"
   ]
  },
  {
   "cell_type": "code",
   "execution_count": 173,
   "id": "370dc7d4",
   "metadata": {},
   "outputs": [
    {
     "name": "stdout",
     "output_type": "stream",
     "text": [
      "[1.2, 0.9, 0.7, 0.9, 0.8, 0.6, 0.7, 1.6, 6.8, 12.3, 19.3, 24.5, 29.5, 31.6, 33.7, 32.9, 31.4, 28.0, 23.7, 17.6, 14.5, 13.2, 11.8, 10.5, 10.8]\n"
     ]
    }
   ],
   "source": [
    "#Air Temp CRN:\n",
    "with open('CRNH0203-2022-MO_Salem_10_W.txt') as f:\n",
    "    lst=[line.split()[20] for line in f]\n",
    "    #print(lst)\n",
    "    temp_crn_sal6=[]\n",
    "    for i in lst:\n",
    "        new=i.replace(',',\"\")\n",
    "        temp_crn_sal6.append(new)\n",
    "    temp_crn_sal6=[float(x) for x in temp_crn_sal6]\n",
    "    temp_crn_sal6=temp_crn_sal6[2788:2813]\n",
    "    print(temp_crn_sal6)\n",
    "    # print(temp_crn[2124])"
   ]
  },
  {
   "cell_type": "code",
   "execution_count": 174,
   "id": "38ad8303",
   "metadata": {},
   "outputs": [],
   "source": [
    "# difference6_sal = []\n",
    "\n",
    "# zip_object = zip(temp, temp_crn)\n",
    "# for temp_i, temp_crn_i in zip_object:\n",
    "#     difference6_sal.append(temp_i-temp_crn_i)\n",
    "\n",
    "# print(difference6_sal)"
   ]
  },
  {
   "cell_type": "markdown",
   "id": "a9ca1aca",
   "metadata": {},
   "source": [
    "<font size=\"3\">Batesville, AR: 0600 UTC (12:00 am CST) 01 March 2022-0600 UTC (12:00 am CST) 02 March 2022</font>"
   ]
  },
  {
   "cell_type": "code",
   "execution_count": 175,
   "id": "90b292da",
   "metadata": {},
   "outputs": [
    {
     "name": "stdout",
     "output_type": "stream",
     "text": [
      "[8.14001, 7.24002, 6.63, 6.12, 5.67001, 5.20999, 4.84, 5.67001, 10.35, 14.69, 17.87, 20.14, 21.78, 23.28, 24.57, 25.33, 24.94, 23.44, 21.22, 18.7, 15.0, 13.14, 11.95, 10.88, 10.09]\n"
     ]
    }
   ],
   "source": [
    "#1 hr hrrr:\n",
    "with open('hrrr_f18_Batesville_AR.txt') as f:\n",
    "    lst=[line.split()[4] for line in f]\n",
    "    temp_bat6=[]\n",
    "    for i in lst:\n",
    "        new=i.replace(',',\"\")\n",
    "        temp_bat6.append(new)\n",
    "    temp_bat6.pop(0)\n",
    "    temp_bat6=[float(x) for x in temp_bat6]\n",
    "    temp_bat6=temp_bat6[2771:2796]\n",
    "#     x = np.array(temp)\n",
    "#     temp = ma.masked_array(x, mask=[0, 0, 0, 0, 0,0,0,0,0,0,0,0,0,0,0,0,0,0,0,0,0,1,0,0,0])\n",
    "    #temp=temp[2015:2063]\n",
    "    print(temp_bat6)"
   ]
  },
  {
   "cell_type": "code",
   "execution_count": 176,
   "id": "67dc1ac6",
   "metadata": {},
   "outputs": [
    {
     "name": "stdout",
     "output_type": "stream",
     "text": [
      "[3.9, 3.1, 2.3, 2.3, 1.5, 1.1, 1.1, 1.7, 5.4, 11.0, 15.2, 18.0, 20.5, 21.9, 22.7, 22.3, 21.4, 20.2, 18.3, 15.4, 11.8, 9.0, 8.0, 7.4, 6.5]\n"
     ]
    }
   ],
   "source": [
    "#Air Temp CRN:\n",
    "with open('CRNH0203-2022-AR_Batesville_8_WNW.txt') as f:\n",
    "    lst=[line.split()[20] for line in f]\n",
    "    #print(lst)\n",
    "    temp_crn_bat6=[]\n",
    "    for i in lst:\n",
    "        new=i.replace(',',\"\")\n",
    "        temp_crn_bat6.append(new)\n",
    "    temp_crn_bat6=[float(x) for x in temp_crn_bat6]\n",
    "    temp_crn_bat6=temp_crn_bat6[2788:2813]\n",
    "#     y = np.array(temp_crn)\n",
    "#     temp_crn = ma.masked_array(y, mask=[0, 0, 0, 0, 0,0,0,0,0,0,0,0,0,0,0,0,0,0,0,0,0,1,0,0,0])\n",
    "    print(temp_crn_bat6)\n",
    "    #print(len(temp_crn))\n",
    "    # print(temp_crn[2124])"
   ]
  },
  {
   "cell_type": "code",
   "execution_count": 177,
   "id": "ea97b53d",
   "metadata": {},
   "outputs": [],
   "source": [
    "# difference6_bat = []\n",
    "\n",
    "# zip_object = zip(temp, temp_crn)\n",
    "# for temp_i, temp_crn_i in zip_object:\n",
    "#     difference6_bat.append(temp_i-temp_crn_i)\n",
    "\n",
    "# print(difference6_bat)"
   ]
  },
  {
   "cell_type": "markdown",
   "id": "5726dedb",
   "metadata": {},
   "source": [
    "<font size=\"3\">Lafayette, LA: 0600 UTC (12:00 am CST) 01 March 2022-0600 UTC (12:00 am CST) 02 March 2022</font>"
   ]
  },
  {
   "cell_type": "code",
   "execution_count": 178,
   "id": "4afdefd5",
   "metadata": {},
   "outputs": [
    {
     "name": "stdout",
     "output_type": "stream",
     "text": [
      "[18.44, 17.27, 16.51, 16.07, 15.04, 14.77, 13.68, 13.51, 17.6, 21.94, 26.89, 31.51, 34.77, 36.49, 36.82, 36.61, 35.33, 33.14, 29.93, 26.28, 22.42, 19.96, 18.33, 17.57, 16.22]\n"
     ]
    }
   ],
   "source": [
    "#1 hr hrrr:\n",
    "with open('hrrr_f18_Lafayette_LA.txt') as f:\n",
    "    lst=[line.split()[4] for line in f]\n",
    "    temp_laf6=[]\n",
    "    for i in lst:\n",
    "        new=i.replace(',',\"\")\n",
    "        temp_laf6.append(new)\n",
    "    temp_laf6.pop(0)\n",
    "    temp_laf6=[float(x) for x in temp_laf6]\n",
    "    temp_laf6=temp_laf6[2771:2796]\n",
    "    #temp=temp[2015:2063]\n",
    "    print(temp_laf6)\n",
    "    #print(len(temp))\n",
    "#full time period is [2015:2112]"
   ]
  },
  {
   "cell_type": "code",
   "execution_count": 179,
   "id": "f87af32e",
   "metadata": {},
   "outputs": [
    {
     "name": "stdout",
     "output_type": "stream",
     "text": [
      "[12.8, 12.6, 11.9, 11.0, 11.0, 10.5, 9.5, 9.3, 13.2, 18.1, 24.4, 32.1, 37.8, 40.3, 41.7, 41.3, 39.1, 36.1, 31.0, 23.2, 16.3, 12.5, 11.5, 10.7, 10.2]\n"
     ]
    }
   ],
   "source": [
    "#Air Temp CRN:\n",
    "with open('CRNH0203-2022-LA_Lafayette_13_SE.txt') as f:\n",
    "    lst=[line.split()[20] for line in f]\n",
    "    #print(lst)\n",
    "    temp_crn_laf6=[]\n",
    "    for i in lst:\n",
    "        new=i.replace(',',\"\")\n",
    "        temp_crn_laf6.append(new)\n",
    "    temp_crn_laf6=[float(x) for x in temp_crn_laf6]\n",
    "    temp_crn_laf6=temp_crn_laf6[2788:2813]\n",
    "    print(temp_crn_laf6)\n",
    "    #print(len(temp_crn))\n",
    "    # print(temp_crn[2124])"
   ]
  },
  {
   "cell_type": "code",
   "execution_count": 180,
   "id": "7b222157",
   "metadata": {},
   "outputs": [],
   "source": [
    "# difference6_laf = []\n",
    "\n",
    "# zip_object = zip(temp, temp_crn)\n",
    "# for temp_i, temp_crn_i in zip_object:\n",
    "#     difference6_laf.append(temp_i-temp_crn_i)\n",
    "\n",
    "# print(difference6_laf)"
   ]
  },
  {
   "cell_type": "markdown",
   "id": "de2bb1cb",
   "metadata": {},
   "source": [
    "<font size=\"3\">Monroe, LA: 0600 UTC (12:00 am CST) 01 March 2022-0600 UTC (12:00 am CST) 02 March 2022</font>"
   ]
  },
  {
   "cell_type": "code",
   "execution_count": 181,
   "id": "ebecba2f",
   "metadata": {},
   "outputs": [
    {
     "name": "stdout",
     "output_type": "stream",
     "text": [
      "[11.22, 10.39, 9.60001, 9.06, 8.39999, 7.89001, 7.51001, 7.56, 10.85, 14.71, 18.15, 21.72, 26.02, 29.28, 31.05, 31.22, 30.13, 28.13, 25.25, 21.96, 18.19, 16.18, 14.76, 13.3, 12.21]\n"
     ]
    }
   ],
   "source": [
    "#1 hr hrrr:\n",
    "with open('hrrr_f18_Monroe_LA.txt') as f:\n",
    "    lst=[line.split()[4] for line in f]\n",
    "    temp_mon6=[]\n",
    "    for i in lst:\n",
    "        new=i.replace(',',\"\")\n",
    "        temp_mon6.append(new)\n",
    "    temp_mon6.pop(0)\n",
    "    temp_mon6=[float(x) for x in temp_mon6]\n",
    "    temp_mon6=temp_mon6[2771:2796]\n",
    "    #temp=temp[2015:2063]\n",
    "    print(temp_mon6)\n",
    "    #print(len(temp))\n",
    "#full time period is [2015:2112]"
   ]
  },
  {
   "cell_type": "code",
   "execution_count": 182,
   "id": "46f2d051",
   "metadata": {},
   "outputs": [
    {
     "name": "stdout",
     "output_type": "stream",
     "text": [
      "[12.0, 11.4, 10.8, 10.3, 9.4, 8.5, 6.7, 6.2, 9.1, 14.8, 17.8, 21.0, 23.6, 25.6, 27.1, 27.6, 27.3, 26.8, 21.9, 18.3, 14.2, 10.5, 9.1, 8.3, 7.6]\n"
     ]
    }
   ],
   "source": [
    "#Air Temp CRN:\n",
    "with open('CRNH0203-2022-LA_Monroe_26_N.txt') as f:\n",
    "    lst=[line.split()[20] for line in f]\n",
    "    #print(lst)\n",
    "    temp_crn_mon6=[]\n",
    "    for i in lst:\n",
    "        new=i.replace(',',\"\")\n",
    "        temp_crn_mon6.append(new)\n",
    "    temp_crn_mon6=[float(x) for x in temp_crn_mon6]\n",
    "    temp_crn_mon6=temp_crn_mon6[2788:2813]\n",
    "    print(temp_crn_mon6)\n",
    "    #print(len(temp_crn))\n",
    "    # print(temp_crn[2124])"
   ]
  },
  {
   "cell_type": "code",
   "execution_count": 183,
   "id": "7f448702",
   "metadata": {},
   "outputs": [],
   "source": [
    "# difference6_mon = []\n",
    "\n",
    "# zip_object = zip(temp, temp_crn)\n",
    "# for temp_i, temp_crn_i in zip_object:\n",
    "#     difference6_mon.append(temp_i-temp_crn_i)\n",
    "\n",
    "# print(difference6_mon)"
   ]
  },
  {
   "cell_type": "markdown",
   "id": "49e00369",
   "metadata": {},
   "source": [
    "<font size=\"3\">Holly Springs, MS: 0600 UTC (12:00 am CST) 01 March 2022-0600 UTC (12:00 am CST) 02 March 2022</font>"
   ]
  },
  {
   "cell_type": "code",
   "execution_count": 184,
   "id": "a9302d89",
   "metadata": {},
   "outputs": [
    {
     "name": "stdout",
     "output_type": "stream",
     "text": [
      "[7.07001, 6.04001, 5.49002, 5.17001, 4.72, 4.27002, 3.88, 5.13, 9.62, 13.28, 16.42, 19.48, 22.42, 24.75, 26.53, 26.82, 25.98, 24.1, 21.58, 18.63, 14.87, 13.05, 11.86, 10.89, 10.31]\n"
     ]
    }
   ],
   "source": [
    "#1 hr hrrr:\n",
    "with open('hrrr_f18_Holly Springs_MS.txt') as f:\n",
    "    lst=[line.split()[4] for line in f]\n",
    "    temp_hol6=[]\n",
    "    for i in lst:\n",
    "        new=i.replace(',',\"\")\n",
    "        temp_hol6.append(new)\n",
    "    temp_hol6.pop(0)\n",
    "    temp_hol6=[float(x) for x in temp_hol6]\n",
    "    temp_hol6=temp_hol6[2771:2796]\n",
    "    #temp=temp[2015:2063]\n",
    "    print(temp_hol6)\n",
    "    #print(len(temp))\n",
    "#full time period is [2015:2112]"
   ]
  },
  {
   "cell_type": "code",
   "execution_count": 185,
   "id": "136bd6ce",
   "metadata": {},
   "outputs": [
    {
     "name": "stdout",
     "output_type": "stream",
     "text": [
      "[7.0, 6.3, 5.7, 5.0, 4.4, 4.0, 3.6, 3.8, 8.4, 14.7, 20.4, 26.8, 32.3, 35.6, 36.8, 36.4, 34.5, 31.3, 26.4, 20.7, 14.6, 12.0, 10.9, 10.2, 9.6]\n"
     ]
    }
   ],
   "source": [
    "#Air Temp CRN:\n",
    "with open('CRNH0203-2022-MS_Holly_Springs_4_N.txt') as f:\n",
    "    lst=[line.split()[20] for line in f]\n",
    "    #print(lst)\n",
    "    temp_crn_hol6=[]\n",
    "    for i in lst:\n",
    "        new=i.replace(',',\"\")\n",
    "        temp_crn_hol6.append(new)\n",
    "    temp_crn_hol6=[float(x) for x in temp_crn_hol6]\n",
    "    temp_crn_hol6=temp_crn_hol6[2788:2813]\n",
    "    print(temp_crn_hol6)\n",
    "    #print(len(temp_crn))\n",
    "    # print(temp_crn[2124])"
   ]
  },
  {
   "cell_type": "code",
   "execution_count": 186,
   "id": "19a13a82",
   "metadata": {},
   "outputs": [],
   "source": [
    "# difference6_hol = []\n",
    "\n",
    "# zip_object = zip(temp, temp_crn)\n",
    "# for temp_i, temp_crn_i in zip_object:\n",
    "#     difference6_hol.append(temp_i-temp_crn_i)\n",
    "\n",
    "# print(difference6_hol)"
   ]
  },
  {
   "cell_type": "markdown",
   "id": "4753a3b0",
   "metadata": {},
   "source": [
    "<font size=\"3\">Newton, MS: 0600 UTC (12:00 am CST) 01 March 2022-0600 UTC (12:00 am CST) 02 March 2022</font>"
   ]
  },
  {
   "cell_type": "code",
   "execution_count": 187,
   "id": "68f58603",
   "metadata": {},
   "outputs": [
    {
     "name": "stdout",
     "output_type": "stream",
     "text": [
      "[13.72, 12.75, 11.98, 11.41, 10.58, 9.92999, 9.55002, 10.26, 14.04, 18.28, 22.34, 25.73, 28.53, 30.0, 30.31, 29.89, 28.82, 26.77, 24.06, 21.2, 17.77, 16.21, 14.76, 13.59, 12.41]\n"
     ]
    }
   ],
   "source": [
    "#1 hr hrrr:\n",
    "with open('hrrr_f18_Newton_MS.txt') as f:\n",
    "    lst=[line.split()[4] for line in f]\n",
    "    temp_new6=[]\n",
    "    for i in lst:\n",
    "        new=i.replace(',',\"\")\n",
    "        temp_new6.append(new)\n",
    "    temp_new6.pop(0)\n",
    "    temp_new6=[float(x) for x in temp_new6]\n",
    "    temp_new6=temp_new6[2771:2796]\n",
    "    #temp=temp[2015:2063]\n",
    "    print(temp_new6)\n",
    "    #print(len(temp))\n",
    "#full time period is [2015:2112]"
   ]
  },
  {
   "cell_type": "code",
   "execution_count": 188,
   "id": "4689695e",
   "metadata": {},
   "outputs": [
    {
     "name": "stdout",
     "output_type": "stream",
     "text": [
      "[10.7, 10.1, 9.7, 9.0, 8.0, 6.8, 5.9, 5.9, 11.3, 15.7, 20.7, 26.2, 29.5, 32.1, 32.5, 32.9, 32.2, 30.1, 27.1, 22.6, 16.2, 12.0, 10.3, 9.1, 8.1]\n"
     ]
    }
   ],
   "source": [
    "#Air Temp CRN:\n",
    "with open('CRNH0203-2022-MS_Newton_5_ENE.txt') as f:\n",
    "    lst=[line.split()[20] for line in f]\n",
    "    #print(lst)\n",
    "    temp_crn_new6=[]\n",
    "    for i in lst:\n",
    "        new=i.replace(',',\"\")\n",
    "        temp_crn_new6.append(new)\n",
    "    temp_crn_new6=[float(x) for x in temp_crn_new6]\n",
    "    temp_crn_new6=temp_crn_new6[2788:2813]\n",
    "    print(temp_crn_new6)\n",
    "    #print(len(temp_crn))\n",
    "    # print(temp_crn[2124])"
   ]
  },
  {
   "cell_type": "code",
   "execution_count": 189,
   "id": "d00b8a13",
   "metadata": {},
   "outputs": [],
   "source": [
    "# difference6_new = []\n",
    "\n",
    "# zip_object = zip(temp, temp_crn)\n",
    "# for temp_i, temp_crn_i in zip_object:\n",
    "#     difference6_new.append(temp_i-temp_crn_i)\n",
    "\n",
    "# print(difference6_new)"
   ]
  },
  {
   "cell_type": "markdown",
   "id": "f6dc6918",
   "metadata": {},
   "source": [
    "<font size=\"3\">Gainesville, AL: 0600 UTC (12:00 am CST) 01 March 2022-0600 UTC (12:00 am CST) 02 March 2022</font>"
   ]
  },
  {
   "cell_type": "code",
   "execution_count": 190,
   "id": "853a5cd2",
   "metadata": {},
   "outputs": [],
   "source": [
    "# #1 hr hrrr:\n",
    "# with open('hrrr_f18_Gainesville_AL.txt') as f:\n",
    "#     lst=[line.split()[4] for line in f]\n",
    "#     temp=[]\n",
    "#     for i in lst:\n",
    "#         new=i.replace(',',\"\")\n",
    "#         temp.append(new)\n",
    "#     temp.pop(0)\n",
    "#     temp=[float(x) for x in temp]\n",
    "#     temp=temp[2788:2813]\n",
    "#     #temp=temp[2015:2063]\n",
    "#     print(temp)\n",
    "#     #print(len(temp))\n",
    "# #full time period is [2015:2112]"
   ]
  },
  {
   "cell_type": "code",
   "execution_count": 191,
   "id": "12cd5b43",
   "metadata": {},
   "outputs": [],
   "source": [
    "# #Air Temp CRN:\n",
    "# with open('CRNH0203-2022-AL_Gainesville_2_NE.txt') as f:\n",
    "#     lst=[line.split()[20] for line in f]\n",
    "#     #print(lst)\n",
    "#     temp_crn=[]\n",
    "#     for i in lst:\n",
    "#         new=i.replace(',',\"\")\n",
    "#         temp_crn.append(new)\n",
    "#     temp_crn=[float(x) for x in temp_crn]\n",
    "#     temp_crn=temp_crn[2788:2813]\n",
    "#     print(temp_crn)\n",
    "#     #print(len(temp_crn))\n",
    "#     # print(temp_crn[2124])"
   ]
  },
  {
   "cell_type": "code",
   "execution_count": 192,
   "id": "182dac80",
   "metadata": {},
   "outputs": [],
   "source": [
    "# difference6_gai = []\n",
    "\n",
    "# zip_object = zip(temp, temp_crn)\n",
    "# for temp_i, temp_crn_i in zip_object:\n",
    "#     difference6_gai.append(temp_i-temp_crn_i)\n",
    "\n",
    "# print(difference6_gai)"
   ]
  },
  {
   "cell_type": "markdown",
   "id": "dca2fd19",
   "metadata": {},
   "source": [
    "<font size=\"3\">Fairhope, AL: 0600 UTC (12:00 am CST) 01 March 2022-0600 UTC (12:00 am CST) 02 March 2022</font>"
   ]
  },
  {
   "cell_type": "code",
   "execution_count": 193,
   "id": "a7ac678b",
   "metadata": {},
   "outputs": [
    {
     "name": "stdout",
     "output_type": "stream",
     "text": [
      "[18.62, 17.27, 16.13, 15.94, 15.37, 14.7, 13.75, 14.09, 17.33, 21.15, 25.32, 28.93, 31.72, 33.04, 33.15, 32.33, 31.19, 28.85, 25.8, 22.36, 19.67, 18.41, 17.32, 16.01, 15.49]\n"
     ]
    }
   ],
   "source": [
    "#1 hr hrrr:\n",
    "with open('hrrr_f18_Fairhope_AL.txt') as f:\n",
    "    lst=[line.split()[4] for line in f]\n",
    "    temp_fai6=[]\n",
    "    for i in lst:\n",
    "        new=i.replace(',',\"\")\n",
    "        temp_fai6.append(new)\n",
    "    temp_fai6.pop(0)\n",
    "    temp_fai6=[float(x) for x in temp_fai6]\n",
    "    temp_fai6=temp_fai6[2771:2796]\n",
    "    #temp=temp[2015:2063]\n",
    "    print(temp_fai6)\n",
    "    #print(len(temp))\n",
    "#full time period is [2015:2112]"
   ]
  },
  {
   "cell_type": "code",
   "execution_count": 194,
   "id": "278d8179",
   "metadata": {},
   "outputs": [
    {
     "name": "stdout",
     "output_type": "stream",
     "text": [
      "[14.3, 13.5, 13.2, 12.1, 11.6, 11.3, 10.0, 9.9, 13.7, 17.4, 21.3, 25.1, 26.2, 27.2, 27.5, 27.4, 26.5, 25.1, 22.6, 19.3, 13.4, 12.6, 12.5, 8.9, 7.4]\n"
     ]
    }
   ],
   "source": [
    "#Air Temp CRN:\n",
    "with open('CRNH0203-2022-AL_Fairhope_3_NE.txt') as f:\n",
    "    lst=[line.split()[20] for line in f]\n",
    "    #print(lst)\n",
    "    temp_crn_fai6=[]\n",
    "    for i in lst:\n",
    "        new=i.replace(',',\"\")\n",
    "        temp_crn_fai6.append(new)\n",
    "    temp_crn_fai6=[float(x) for x in temp_crn_fai6]\n",
    "    temp_crn_fai6=temp_crn_fai6[2788:2813]\n",
    "    print(temp_crn_fai6)\n",
    "    #print(len(temp_crn))\n",
    "    # print(temp_crn[2124])"
   ]
  },
  {
   "cell_type": "code",
   "execution_count": 195,
   "id": "c79c3a66",
   "metadata": {},
   "outputs": [],
   "source": [
    "# difference6_fai = []\n",
    "\n",
    "# zip_object = zip(temp, temp_crn)\n",
    "# for temp_i, temp_crn_i in zip_object:\n",
    "#     difference6_fai.append(temp_i-temp_crn_i)\n",
    "\n",
    "# print(difference6_fai)"
   ]
  },
  {
   "cell_type": "markdown",
   "id": "142d4e9c",
   "metadata": {},
   "source": [
    "<font size=\"3\">**Selma, AL: 0600 UTC (12:00 am CST) 01 March 2022-0600 UTC (12:00 am CST) 02 March 2022</font>"
   ]
  },
  {
   "cell_type": "code",
   "execution_count": 196,
   "id": "96d329b9",
   "metadata": {},
   "outputs": [
    {
     "name": "stdout",
     "output_type": "stream",
     "text": [
      "[12.19, 11.26, 10.45, 9.81, 8.89001, 8.32001, 7.75, 9.26001, 12.63, 16.14, 19.53, 23.05, 25.78, 27.98, 28.67, 28.24, 27.44, 25.51, 23.02, 20.24, 16.68, 15.07, 13.77, 12.6, 11.5]\n",
      "[11.4, 10.3, 9.3, 8.6, 8.2, 7.7, 6.7, 7.2, 12.8, 17.1, 22.8, 29.4, 34.1, 37.7, 39.2, 39.4, 37.5, 35.1, 30.5, 23.2, 17.7, 13.8, 12.0, 10.8, 10.1]\n"
     ]
    }
   ],
   "source": [
    "#1 hr hrrr:\n",
    "import numpy as np\n",
    "import numpy.ma as ma\n",
    "with open('hrrr_f18_Selma_AL.txt') as f:\n",
    "    lst=[line.split()[4] for line in f]\n",
    "    temp_sel6=[]\n",
    "    for i in lst:\n",
    "        new=i.replace(',',\"\")\n",
    "        temp_sel6.append(new)\n",
    "    temp_sel6.pop(0)\n",
    "    temp_sel6=[float(x) for x in temp_sel6]\n",
    "    temp_sel6=temp_sel6[2771:2796]\n",
    "\n",
    "#     x = np.array(temp)\n",
    "#     temp = ma.masked_array(x, mask=[0, 0, 0, 0, 0,0,0,0,0,0,0,0,0,0,0,0,0,1,1,1,1,0,0,0,0])\n",
    "    #print(temp)\n",
    "#Air Temp CRN:\n",
    "with open('CRNH0203-2022-AL_Selma_13_WNW.txt') as f:\n",
    "    lst=[line.split()[20] for line in f]\n",
    "    #print(lst)\n",
    "    temp_crn_sel6=[]\n",
    "    for i in lst:\n",
    "        new=i.replace(',',\"\")\n",
    "        temp_crn_sel6.append(new)\n",
    "    temp_crn_sel6=[float(x) for x in temp_crn_sel6]\n",
    "    temp_crn_sel6=temp_crn_sel6[2788:2813]\n",
    "#     y = np.array(temp_crn)\n",
    "#     temp_crn = ma.masked_array(y, mask=[0, 0, 0, 0, 0,0,0,0,0,0,0,0,0,0,0,0,0,1,1,1,1,0,0,0,0])\n",
    "    print(temp_sel6)\n",
    "    #print(len(temp))\n",
    "    print(temp_crn_sel6)\n",
    "    #print(len(temp_crn))\n",
    "# #full time period is [2015:2112]\n",
    "# difference6_sel = []\n",
    "\n",
    "# zip_object = zip(temp, temp_crn)\n",
    "# for temp_i, temp_crn_i in zip_object:\n",
    "#     difference6_sel.append(temp_i-temp_crn_i)\n",
    "\n",
    "# print(difference6_sel)\n",
    "# #print(len(difference3_sel))"
   ]
  },
  {
   "cell_type": "markdown",
   "id": "36c4d6a8",
   "metadata": {},
   "source": [
    "<font size=\"3\">Bowling Green, KY: 0600 UTC (12:00 am CST) 01 March 2022-0600 UTC (12:00 am CST) 02 March 2022</font>"
   ]
  },
  {
   "cell_type": "code",
   "execution_count": 197,
   "id": "d83d7c4d",
   "metadata": {},
   "outputs": [
    {
     "name": "stdout",
     "output_type": "stream",
     "text": [
      "[6.17001, 5.29001, 4.69, 4.29001, 3.89999, 3.67999, 3.38, 6.29001, 11.18, 15.32, 19.53, 22.94, 25.91, 26.8, 27.63, 27.34, 25.92, 23.56, 20.88, 17.68, 14.62, 13.32, 12.26, 10.97, 10.87]\n"
     ]
    }
   ],
   "source": [
    "#1 hr hrrr:\n",
    "with open('hrrr_f18_Bowling Green_KY.txt') as f:\n",
    "    lst=[line.split()[4] for line in f]\n",
    "    temp_bow6=[]\n",
    "    for i in lst:\n",
    "        new=i.replace(',',\"\")\n",
    "        temp_bow6.append(new)\n",
    "    temp_bow6.pop(0)\n",
    "    temp_bow6=[float(x) for x in temp_bow6]\n",
    "    temp_bow6=temp_bow6[2771:2796]\n",
    "    #temp=temp[2015:2063]\n",
    "    print(temp_bow6)\n",
    "    #print(len(temp))\n",
    "#full time period is [2015:2112]"
   ]
  },
  {
   "cell_type": "code",
   "execution_count": 198,
   "id": "8f795cb5",
   "metadata": {},
   "outputs": [
    {
     "name": "stdout",
     "output_type": "stream",
     "text": [
      "[2.8, 2.5, 2.1, 1.7, 1.6, 1.4, 1.1, 2.8, 8.9, 13.8, 17.2, 20.6, 23.8, 25.2, 26.3, 26.1, 25.1, 23.5, 20.2, 15.4, 10.5, 8.4, 7.9, 7.8, 7.9]\n"
     ]
    }
   ],
   "source": [
    "#Air Temp CRN:\n",
    "with open('CRNH0203-2022-KY_Bowling_Green_21_NNE.txt') as f:\n",
    "    lst=[line.split()[20] for line in f]\n",
    "    #print(lst)\n",
    "    temp_crn_bow6=[]\n",
    "    for i in lst:\n",
    "        new=i.replace(',',\"\")\n",
    "        temp_crn_bow6.append(new)\n",
    "    temp_crn_bow6=[float(x) for x in temp_crn_bow6]\n",
    "    temp_crn_bow6=temp_crn_bow6[2788:2813]\n",
    "    print(temp_crn_bow6)\n",
    "    #print(len(temp_crn))\n",
    "    # print(temp_crn[2124])"
   ]
  },
  {
   "cell_type": "code",
   "execution_count": 199,
   "id": "e091d5ac",
   "metadata": {},
   "outputs": [],
   "source": [
    "# difference6_bow = []\n",
    "\n",
    "# zip_object = zip(temp, temp_crn)\n",
    "# for temp_i, temp_crn_i in zip_object:\n",
    "#     difference6_bow.append(temp_i-temp_crn_i)\n",
    "\n",
    "# print(difference6_bow)"
   ]
  },
  {
   "cell_type": "markdown",
   "id": "f806c48f",
   "metadata": {},
   "source": [
    "<font size=\"3\">Gadsden, AL: 0600 UTC (12:00 am CST) 01 March 2022-0600 UTC (12:00 am CST) 02 March 2022</font>"
   ]
  },
  {
   "cell_type": "code",
   "execution_count": 200,
   "id": "8d69cb25",
   "metadata": {},
   "outputs": [
    {
     "name": "stdout",
     "output_type": "stream",
     "text": [
      "[8.61002, 7.78, 7.10001, 6.89999, 6.53, 6.20001, 5.38, 7.08002, 10.63, 14.37, 18.19, 21.86, 24.72, 26.18, 26.87, 26.56, 25.38, 23.27, 20.9, 17.98, 15.46, 13.78, 12.63, 11.21, 9.74002]\n"
     ]
    }
   ],
   "source": [
    "#1 hr hrrr:\n",
    "with open('hrrr_f18_Gadsden_AL.txt') as f:\n",
    "    lst=[line.split()[4] for line in f]\n",
    "    temp_gad6=[]\n",
    "    for i in lst:\n",
    "        new=i.replace(',',\"\")\n",
    "        temp_gad6.append(new)\n",
    "    temp_gad6.pop(0)\n",
    "    temp_gad6=[float(x) for x in temp_gad6]\n",
    "    temp_gad6=temp_gad6[2771:2796]\n",
    "#     x = np.array(temp)\n",
    "#     temp = ma.masked_array(x, mask=[0, 0, 0, 0, 0,0,0,0,1,0,0,0,0,0,0,0,0,0,0,0,0,0,0,0,0])\n",
    "    #temp=temp[2015:2063]\n",
    "    print(temp_gad6)\n",
    "    #print(len(temp))\n",
    "#full time period is [2015:2112]"
   ]
  },
  {
   "cell_type": "code",
   "execution_count": 201,
   "id": "b2389c35",
   "metadata": {},
   "outputs": [
    {
     "name": "stdout",
     "output_type": "stream",
     "text": [
      "[8.6, 7.6, 6.8, 5.3, 5.3, 5.1, 4.1, 5.0, 10.9, 14.8, 18.2, 22.6, 25.5, 27.2, 27.6, 27.3, 25.9, 24.2, 21.9, 18.1, 13.0, 10.2, 9.2, 8.0, 7.1]\n"
     ]
    }
   ],
   "source": [
    "#Air Temp CRN:\n",
    "with open('CRNH0203-2022-AL_Gadsden_19_N.txt') as f:\n",
    "    lst=[line.split()[20] for line in f]\n",
    "    #print(lst)\n",
    "    temp_crn_gad6=[]\n",
    "    for i in lst:\n",
    "        new=i.replace(',',\"\")\n",
    "        temp_crn_gad6.append(new)\n",
    "    temp_crn_gad6=[float(x) for x in temp_crn_gad6]\n",
    "    temp_crn_gad6=temp_crn_gad6[2788:2813]\n",
    "#     y = np.array(temp_crn)\n",
    "#     temp_crn = ma.masked_array(y, mask=[0, 0, 0, 0, 0,0,0,0,1,0,0,0,0,0,0,0,0,0,0,0,0,0,0,0,0])\n",
    "    print(temp_crn_gad6)\n",
    "    #print(len(temp_crn))\n",
    "    # print(temp_crn[2124])"
   ]
  },
  {
   "cell_type": "code",
   "execution_count": 202,
   "id": "8b6d3e05",
   "metadata": {},
   "outputs": [],
   "source": [
    "# difference6_gad = []\n",
    "\n",
    "# zip_object = zip(temp, temp_crn)\n",
    "# for temp_i, temp_crn_i in zip_object:\n",
    "#     difference6_gad.append(temp_i-temp_crn_i)\n",
    "\n",
    "# print(difference6_gad)"
   ]
  },
  {
   "cell_type": "markdown",
   "id": "a0cf3d12",
   "metadata": {},
   "source": [
    "<font size=\"3\">Newton, GA: 0600 UTC (12:00 am CST) 01 March 2022-0600 UTC (12:00 am CST) 02 March 2022</font>"
   ]
  },
  {
   "cell_type": "code",
   "execution_count": 203,
   "id": "3fd04e58",
   "metadata": {},
   "outputs": [
    {
     "name": "stdout",
     "output_type": "stream",
     "text": [
      "[20.14, 20.16, 18.28, 17.38, 15.9, 15.1, 14.2, 16.02, 19.83, 24.13, 28.4, 32.24, 34.35, 35.22, 35.32, 34.48, 33.31, 30.88, 27.98, 24.34, 21.64, 20.53, 19.55, 18.97, 18.0]\n"
     ]
    }
   ],
   "source": [
    "#1 hr hrrr:\n",
    "with open('hrrr_f18_Newton_GA.txt') as f:\n",
    "    lst=[line.split()[4] for line in f]\n",
    "    temp_newt6=[]\n",
    "    for i in lst:\n",
    "        new=i.replace(',',\"\")\n",
    "        temp_newt6.append(new)\n",
    "    temp_newt6.pop(0)\n",
    "    temp_newt6=[float(x) for x in temp_newt6]\n",
    "    temp_newt6=temp_newt6[2771:2796]\n",
    "    #temp=temp[2015:2063]\n",
    "    print(temp_newt6)\n",
    "    #print(len(temp))\n",
    "#full time period is [2015:2112]"
   ]
  },
  {
   "cell_type": "code",
   "execution_count": 204,
   "id": "727d988e",
   "metadata": {},
   "outputs": [
    {
     "name": "stdout",
     "output_type": "stream",
     "text": [
      "[19.7, 18.9, 17.8, 16.6, 15.7, 15.5, 14.8, 13.9, 14.3, 17.7, 23.4, 29.6, 35.1, 39.7, 42.8, 43.8, 42.7, 40.1, 36.0, 30.8, 25.0, 19.5, 17.4, 16.2, 15.4]\n"
     ]
    }
   ],
   "source": [
    "#Air Temp CRN:\n",
    "with open('CRNH0203-2022-GA_Newton_11_SW.txt') as f:\n",
    "    lst=[line.split()[20] for line in f]\n",
    "    #print(lst)\n",
    "    temp_crn_newt6=[]\n",
    "    for i in lst:\n",
    "        new=i.replace(',',\"\")\n",
    "        temp_crn_newt6.append(new)\n",
    "    temp_crn_newt6=[float(x) for x in temp_crn_newt6]\n",
    "    temp_crn_newt6=temp_crn_newt6[2787:2812]\n",
    "    print(temp_crn_newt6)\n",
    "    #print(len(temp_crn))\n",
    "    # print(temp_crn[2124])"
   ]
  },
  {
   "cell_type": "code",
   "execution_count": 205,
   "id": "53f1a23a",
   "metadata": {},
   "outputs": [],
   "source": [
    "# difference6_newt = []\n",
    "\n",
    "# zip_object = zip(temp, temp_crn)\n",
    "# for temp_i, temp_crn_i in zip_object:\n",
    "#     difference6_newt.append(temp_i-temp_crn_i)\n",
    "\n",
    "# print(difference6_newt)"
   ]
  },
  {
   "cell_type": "code",
   "execution_count": 206,
   "id": "8a134c48",
   "metadata": {},
   "outputs": [
    {
     "name": "stdout",
     "output_type": "stream",
     "text": [
      "25\n"
     ]
    }
   ],
   "source": [
    "hour=[6,7,8,9,10,11,12,13,14,15,16,17,18,19,20,21,22,23,0,1,2,3,4,5,6]\n",
    "print(len(hour))"
   ]
  },
  {
   "cell_type": "code",
   "execution_count": 207,
   "id": "45def68f",
   "metadata": {},
   "outputs": [
    {
     "name": "stdout",
     "output_type": "stream",
     "text": [
      "range(0, 25)\n"
     ]
    }
   ],
   "source": [
    "xs = range(len(hour))\n",
    "print(xs)"
   ]
  },
  {
   "cell_type": "code",
   "execution_count": 208,
   "id": "d5fd370b",
   "metadata": {},
   "outputs": [
    {
     "name": "stdout",
     "output_type": "stream",
     "text": [
      "[ 4.24909545  3.56000655  2.99273373  2.78091155  2.69182536  2.44091518\n",
      "  1.81454985  2.43000627  7.07636909 12.32636545 16.71363636 19.96454545\n",
      " 22.01636364 23.17       23.32272727 22.65545455 20.67090909 17.72636364\n",
      " 13.53090909 11.27545455  9.85727182  8.77182091  8.12818636  7.25546\n",
      "  6.45727455]\n",
      "[ 1.43636364  0.88181818  0.47272727  0.06363636 -0.09090909 -0.31818182\n",
      " -0.17272727  0.08181818  3.67272727 11.02727273 17.12727273 21.69090909\n",
      " 24.6        25.92727273 26.06363636 24.94545455 22.49090909 18.69090909\n",
      " 12.96363636  7.80909091  5.84545455  4.65454545  3.63636364  2.90909091\n",
      "  2.41818182]\n"
     ]
    },
    {
     "data": {
      "text/plain": [
       "25"
      ]
     },
     "execution_count": 208,
     "metadata": {},
     "output_type": "execute_result"
    }
   ],
   "source": [
    "c1 = np.array([temp_sal1,temp_bat1,temp_laf1,temp_mon1,temp_hol1,temp_new1,temp_fai1,temp_sel1,temp_bow1,temp_gad1,temp_newt1])\n",
    "c1=np.nanmean(c1, axis=0)\n",
    "print(c1)\n",
    "len(c1)\n",
    "\n",
    "b1 = np.array([temp_crn_sal1,temp_crn_bat1,temp_crn_laf1,temp_crn_mon1,temp_crn_hol1,temp_crn_new1,temp_crn_fai1,temp_crn_sel1,temp_crn_bow1,temp_crn_gad1,temp_crn_newt1])\n",
    "b1=np.nanmean(b1, axis=0)\n",
    "print(b1)\n",
    "len(b1)"
   ]
  },
  {
   "cell_type": "code",
   "execution_count": 209,
   "id": "7d6e3e43",
   "metadata": {},
   "outputs": [
    {
     "data": {
      "image/png": "[encoded data removed]",
      "text/plain": [
       "<Figure size 792x396 with 1 Axes>"
      ]
     },
     "metadata": {},
     "output_type": "display_data"
    }
   ],
   "source": [
    "plt.style.use('seaborn-whitegrid')\n",
    "plt.rcParams[\"figure.figsize\"] = [11.00, 5.50]\n",
    "plt.rcParams[\"figure.autolayout\"] = True\n",
    "plt.yticks(np.arange(-35,40,5))\n",
    "plt.ylim(-35,35)\n",
    "# c[6]=None\n",
    "# b[6]=None\n",
    "\n",
    "plt.plot(xs,c1,c=\"b\", marker='o')\n",
    "plt.plot(xs,b1,c=\"orange\", marker='o')\n",
    "# c[6]=None\n",
    "# b[6]=None\n",
    "\n",
    "plt.title(\"1-hr Avg. MBE All Stations\")\n",
    "plt.xlabel(\"UTC Hour\")\n",
    "plt.ylabel(\"MBE Incoming Radiation (W/m^2)\")\n",
    "#plt.plot(hour,c)\n",
    "#plt.errorbar(hour,c,yerr=b,ecolor='r',elinewidth=5,fmt='s',color='k')\n",
    "#plt.grid()\n",
    "plt.xticks(xs, hour)\n",
    "plt.show()\n",
    "#plt.axvspan(-4, 4, color='green', alpha=0.2, lw=0)"
   ]
  },
  {
   "cell_type": "code",
   "execution_count": 210,
   "id": "3931d44b",
   "metadata": {},
   "outputs": [
    {
     "name": "stdout",
     "output_type": "stream",
     "text": [
      "[-0.65908282 -0.87999736 -1.10180954 -1.27544084 -1.48544573 -1.64453955\n",
      " -1.672716   -0.43454036  3.49273182  7.67091636 11.37182273 14.82454545\n",
      " 17.31363636 18.87727273 19.34181818 18.72090909 16.87       14.23363818\n",
      " 10.47000545  8.2691      6.92182182  5.99636727  5.25182273  4.63091545\n",
      "  4.00546245]\n",
      "[-3.31818182 -3.30909091 -3.58181818 -3.87272727 -3.74545455 -3.6\n",
      " -3.63636364 -2.91818182  1.07272727  6.72727273 11.95454545 16.27272727\n",
      " 19.91818182 21.82727273 22.17272727 21.23636364 18.86363636 15.31818182\n",
      " 10.73636364  5.86363636  3.6         3.09090909  2.82727273  2.50909091\n",
      "  2.25454545]\n"
     ]
    }
   ],
   "source": [
    "c2 = np.array([temp_sal2,temp_bat2,temp_laf2,temp_mon2,temp_hol2,temp_new2,temp_fai2,temp_sel2,temp_bow2,temp_gad2,temp_newt2])\n",
    "c2=np.nanmean(c2, axis=0)\n",
    "print(c2)\n",
    "\n",
    "\n",
    "b2 = np.array([temp_crn_sal2,temp_crn_bat2,temp_crn_laf2,temp_crn_mon2,temp_crn_hol2,temp_crn_new2,temp_crn_fai2,temp_crn_sel2,temp_crn_bow2,temp_crn_gad2,temp_crn_newt2])\n",
    "b2=np.nanmean(b2, axis=0)\n",
    "print(b2)"
   ]
  },
  {
   "cell_type": "code",
   "execution_count": 211,
   "id": "4c8ac8a3",
   "metadata": {},
   "outputs": [
    {
     "data": {
      "image/png": "[encoded data removed]",
      "text/plain": [
       "<Figure size 792x396 with 1 Axes>"
      ]
     },
     "metadata": {},
     "output_type": "display_data"
    }
   ],
   "source": [
    "plt.style.use('seaborn-whitegrid')\n",
    "plt.rcParams[\"figure.figsize\"] = [11.00, 5.50]\n",
    "plt.rcParams[\"figure.autolayout\"] = True\n",
    "plt.yticks(np.arange(-35,40,5))\n",
    "plt.ylim(-35,35)\n",
    "# c[6]=None\n",
    "# b[6]=None\n",
    "\n",
    "plt.plot(xs,c2,c=\"r\", marker='o')\n",
    "plt.plot(xs,b2,c=\"orange\", marker='o')\n",
    "# c[6]=None\n",
    "# b[6]=None\n",
    "\n",
    "plt.title(\"1-hr Avg. MBE All Stations\")\n",
    "plt.xlabel(\"UTC Hour\")\n",
    "plt.ylabel(\"MBE Incoming Radiation (W/m^2)\")\n",
    "#plt.plot(hour,c)\n",
    "#plt.errorbar(hour,c,yerr=b,ecolor='r',elinewidth=5,fmt='s',color='k')\n",
    "#plt.grid()\n",
    "plt.xticks(xs, hour)\n",
    "plt.show()\n",
    "#plt.axvspan(-4, 4, color='green', alpha=0.2, lw=0)"
   ]
  },
  {
   "cell_type": "code",
   "execution_count": 212,
   "id": "e7aee5e0",
   "metadata": {},
   "outputs": [
    {
     "name": "stdout",
     "output_type": "stream",
     "text": [
      "[ 7.83909364  7.16546455  6.52728182  5.97728     5.41636918  4.88455171\n",
      "  4.59091355  4.09636582  6.52546182 11.72363727 16.24181818 19.94363636\n",
      " 22.75545455 25.01727273 26.00090909 26.08727273 25.18636364 23.32\n",
      " 20.73818182 16.75818182 14.03545455 12.39363727 11.18454727 10.40727545\n",
      "  9.67091273]\n",
      "[ 3.98181818  3.36363636  2.87272727  2.44545455  2.05454545  1.70909091\n",
      "  1.32727273  1.15454545  2.39090909  8.86363636 15.21818182 20.26363636\n",
      " 24.1        26.71818182 27.99090909 28.25454545 26.95454545 24.57272727\n",
      " 21.09090909 16.04545455 10.42727273  8.57272727  7.67272727  6.9\n",
      "  6.22727273]\n"
     ]
    }
   ],
   "source": [
    "c3= np.array([temp_sal3,temp_bat3,temp_laf3,temp_mon3,temp_hol3,temp_new3,temp_fai3,temp_sel3,temp_bow3,temp_gad3,temp_newt3])\n",
    "c3=np.nanmean(c3, axis=0)\n",
    "print(c3)\n",
    "\n",
    "\n",
    "b3= np.array([temp_crn_sal3,temp_crn_bat3,temp_crn_laf3,temp_crn_mon3,temp_crn_hol3,temp_crn_new3,temp_crn_fai3,temp_crn_sel3,temp_crn_bow3,temp_crn_gad3,temp_crn_newt3])\n",
    "b3=np.nanmean(b3, axis=0)\n",
    "print(b3)"
   ]
  },
  {
   "cell_type": "code",
   "execution_count": 213,
   "id": "0d8bef30",
   "metadata": {
    "scrolled": false
   },
   "outputs": [],
   "source": [
    "# def mean(numbers):\n",
    "#     return float(sum(numbers)) / max(len(numbers), 1)\n",
    "\n",
    "# # difference1_sel[17]=0\n",
    "# # difference1_sel[18]=0\n",
    "# # difference1_sel[19]=0\n",
    "# # difference1_sel[20]=0\n",
    "# c3 = [mean(i) for i in zip(difference3_sal,difference3_bat,difference3_laf,difference3_mon,difference3_hol,difference3_new,difference3_gai,difference3_fai,difference3_sel,difference3_bow,difference3_gad,difference3_newt)]\n",
    "# #difference1_bow[6]=0\n",
    "# b3 = [np.std(i) for i in zip(difference3_sal,difference3_bat,difference3_laf,difference3_mon,difference3_hol,difference3_new,difference3_gai,difference3_fai,difference3_sel,difference3_bow,difference3_gad,difference3_newt)]\n",
    "# print (c3)\n",
    "# print(len(c3))\n",
    "# print(b3)\n",
    "# print(len(b3))"
   ]
  },
  {
   "cell_type": "code",
   "execution_count": 214,
   "id": "00a5e783",
   "metadata": {},
   "outputs": [
    {
     "data": {
      "image/png": "[encoded data removed]",
      "text/plain": [
       "<Figure size 792x396 with 1 Axes>"
      ]
     },
     "metadata": {},
     "output_type": "display_data"
    }
   ],
   "source": [
    "plt.style.use('seaborn-whitegrid')\n",
    "plt.rcParams[\"figure.figsize\"] = [11.00, 5.50]\n",
    "plt.rcParams[\"figure.autolayout\"] = True\n",
    "plt.yticks(np.arange(-35,40,5))\n",
    "plt.ylim(-35,35)\n",
    "# c[6]=None\n",
    "# b[6]=None\n",
    "\n",
    "plt.plot(xs,c3,c=\"green\", marker='o')\n",
    "plt.plot(xs,b3,c=\"orange\", marker='o')\n",
    "# c[6]=None\n",
    "# b[6]=None\n",
    "\n",
    "plt.title(\"1-hr Avg. MBE All Stations\")\n",
    "plt.xlabel(\"UTC Hour\")\n",
    "plt.ylabel(\"MBE Incoming Radiation (W/m^2)\")\n",
    "#plt.plot(hour,c)\n",
    "#plt.errorbar(hour,c,yerr=b,ecolor='r',elinewidth=5,fmt='s',color='k')\n",
    "#plt.grid()\n",
    "plt.xticks(xs, hour)\n",
    "plt.show()\n",
    "#plt.axvspan(-4, 4, color='green', alpha=0.2, lw=0)"
   ]
  },
  {
   "cell_type": "code",
   "execution_count": 215,
   "id": "b2d7f7dd",
   "metadata": {},
   "outputs": [
    {
     "name": "stdout",
     "output_type": "stream",
     "text": [
      "[10.36455    10.10454909  9.31363818  8.51454636  8.32546182  7.50273455\n",
      "  7.02727818  6.76091364 10.13545364 14.59454545 18.47545455 21.70727273\n",
      " 24.60090909 26.47909091 27.50818182 27.73454545 26.84454545 24.75545455\n",
      " 21.82363636 18.44272727 15.49363636 14.15909273 13.21272636 12.51545636\n",
      " 11.55636818]\n",
      "[ 6.60909091  5.94545455  5.49090909  4.9         4.50909091  4.11818182\n",
      "  3.79090909  3.56363636  6.34545455 12.89090909 17.85454545 22.3\n",
      " 25.90909091 28.09090909 29.14545455 29.13636364 28.03636364 25.65454545\n",
      " 22.04545455 17.81818182 13.16363636 10.82727273  9.95454545  9.33636364\n",
      "  8.68181818]\n"
     ]
    }
   ],
   "source": [
    "c4= np.array([temp_sal4,temp_bat4,temp_laf4,temp_mon4,temp_hol4,temp_new4,temp_fai4,temp_sel4,temp_bow4,temp_gad4,temp_newt4])\n",
    "c4=np.nanmean(c4, axis=0)\n",
    "print(c4)\n",
    "\n",
    "\n",
    "b4= np.array([temp_crn_sal4,temp_crn_bat4,temp_crn_laf4,temp_crn_mon4,temp_crn_hol4,temp_crn_new4,temp_crn_fai4,temp_crn_sel4,temp_crn_bow4,temp_crn_gad4,temp_crn_newt4])\n",
    "b4=np.nanmean(b4, axis=0)\n",
    "print(b4)"
   ]
  },
  {
   "cell_type": "code",
   "execution_count": 216,
   "id": "b1774c6c",
   "metadata": {
    "scrolled": false
   },
   "outputs": [],
   "source": [
    "# def mean(numbers):\n",
    "#     return float(sum(numbers)) / max(len(numbers), 1)\n",
    "\n",
    "# # difference1_sel[17]=0\n",
    "# # difference1_sel[18]=0\n",
    "# # difference1_sel[19]=0\n",
    "# # difference1_sel[20]=0\n",
    "# c4 = [mean(i) for i in zip(difference4_sal,difference4_bat,difference4_laf,difference4_mon,difference4_hol,difference4_new,difference4_gai,difference4_fai,difference4_sel,difference4_bow,difference4_gad,difference4_newt)]\n",
    "# #difference1_bow[6]=0\n",
    "# b4 = [np.std(i) for i in zip(difference4_sal,difference4_bat,difference4_laf,difference4_mon,difference4_hol,difference4_new,difference4_gai,difference4_fai,difference4_sel,difference4_bow,difference4_gad,difference4_newt)]\n",
    "# print (c4)\n",
    "# print(len(c4))\n",
    "# print(b4)\n",
    "# print(len(b4))"
   ]
  },
  {
   "cell_type": "code",
   "execution_count": 217,
   "id": "e70a6cef",
   "metadata": {},
   "outputs": [
    {
     "data": {
      "image/png": "[encoded data removed]",
      "text/plain": [
       "<Figure size 792x396 with 1 Axes>"
      ]
     },
     "metadata": {},
     "output_type": "display_data"
    }
   ],
   "source": [
    "plt.style.use('seaborn-whitegrid')\n",
    "plt.rcParams[\"figure.figsize\"] = [11.00, 5.50]\n",
    "plt.rcParams[\"figure.autolayout\"] = True\n",
    "plt.yticks(np.arange(-35,40,5))\n",
    "plt.ylim(-35,35)\n",
    "# c[6]=None\n",
    "# b[6]=None\n",
    "\n",
    "plt.plot(xs,c4,c=\"teal\", marker='o')\n",
    "plt.plot(xs,b4,c=\"orange\", marker='o')\n",
    "# c[6]=None\n",
    "# b[6]=None\n",
    "\n",
    "plt.title(\"1-hr Avg. MBE All Stations\")\n",
    "plt.xlabel(\"UTC Hour\")\n",
    "plt.ylabel(\"MBE Incoming Radiation (W/m^2)\")\n",
    "#plt.plot(hour,c)\n",
    "#plt.errorbar(hour,c,yerr=b,ecolor='r',elinewidth=5,fmt='s',color='k')\n",
    "#plt.grid()\n",
    "plt.xticks(xs, hour)\n",
    "plt.show()\n",
    "#plt.axvspan(-4, 4, color='green', alpha=0.2, lw=0)"
   ]
  },
  {
   "cell_type": "code",
   "execution_count": 218,
   "id": "9d950af1",
   "metadata": {},
   "outputs": [
    {
     "name": "stdout",
     "output_type": "stream",
     "text": [
      "[ 7.77636891  7.50000264  6.66454991  6.06364134  5.59455518  5.03909591\n",
      "  4.72636918  5.14000627  8.17091545 11.44454818 14.63272909 17.89181818\n",
      " 20.45909091 22.47727273 23.47090909 23.60272727 22.68454545 21.01909091\n",
      " 18.40363636 15.65       13.15181818 12.00727727 10.77909455 10.02454455\n",
      "  9.47182091]\n",
      "[ 7.13636364  6.43636364  5.68181818  5.20909091  4.77272727  4.1\n",
      "  3.68181818  3.73636364  6.94545455 11.18181818 14.87272727 18.96363636\n",
      " 22.21818182 24.57272727 25.84545455 25.96363636 25.28181818 23.70909091\n",
      " 20.55454545 16.36363636 11.55454545  8.73636364  7.83636364  7.28181818\n",
      "  7.2       ]\n"
     ]
    }
   ],
   "source": [
    "c5= np.array([temp_sal5,temp_bat5,temp_laf5,temp_mon5,temp_hol5,temp_new5,temp_fai5,temp_sel5,temp_bow5,temp_gad5,temp_newt5])\n",
    "c5=np.nanmean(c5, axis=0)\n",
    "print(c5)\n",
    "\n",
    "\n",
    "b5=np.array([temp_crn_sal5,temp_crn_bat5,temp_crn_laf5,temp_crn_mon5,temp_crn_hol5,temp_crn_new5,temp_crn_fai5,temp_crn_sel5,temp_crn_bow5,temp_crn_gad5,temp_crn_newt5])\n",
    "b5=np.nanmean(b5, axis=0)\n",
    "print(b5)"
   ]
  },
  {
   "cell_type": "code",
   "execution_count": 219,
   "id": "ccd6d564",
   "metadata": {},
   "outputs": [
    {
     "data": {
      "image/png": "[encoded data removed]",
      "text/plain": [
       "<Figure size 792x396 with 1 Axes>"
      ]
     },
     "metadata": {},
     "output_type": "display_data"
    }
   ],
   "source": [
    "plt.style.use('seaborn-whitegrid')\n",
    "plt.rcParams[\"figure.figsize\"] = [11.00, 5.50]\n",
    "plt.rcParams[\"figure.autolayout\"] = True\n",
    "plt.yticks(np.arange(-35,40,5))\n",
    "plt.ylim(-35,35)\n",
    "# c[6]=None\n",
    "# b[6]=None\n",
    "\n",
    "plt.plot(xs,c5,c=\"m\", marker='o')\n",
    "plt.plot(xs,b5,c=\"orange\", marker='o')\n",
    "# c[6]=None\n",
    "# b[6]=None\n",
    "\n",
    "plt.title(\"1-hr Avg. MBE All Stations\")\n",
    "plt.xlabel(\"UTC Hour\")\n",
    "plt.ylabel(\"MBE Incoming Radiation (W/m^2)\")\n",
    "#plt.plot(hour,c)\n",
    "#plt.errorbar(hour,c,yerr=b,ecolor='r',elinewidth=5,fmt='s',color='k')\n",
    "#plt.grid()\n",
    "plt.xticks(xs, hour)\n",
    "plt.show()\n",
    "#plt.axvspan(-4, 4, color='green', alpha=0.2, lw=0)"
   ]
  },
  {
   "cell_type": "code",
   "execution_count": 220,
   "id": "6a1cf932",
   "metadata": {},
   "outputs": [
    {
     "name": "stdout",
     "output_type": "stream",
     "text": [
      "[11.86364    11.00000545 10.18182273  9.77091182  9.03545545  8.55454727\n",
      "  8.01818455  9.05636818 12.99363636 16.96545455 20.78909091 24.20727273\n",
      " 27.08363636 28.85727273 29.68909091 29.52181818 28.49545455 26.44636364\n",
      " 23.79       20.68454545 17.40181818 15.74272727 14.45363636 13.39\n",
      " 12.49363818]\n",
      "[ 9.49090909  8.83636364  8.20909091  7.52727273  7.04545455  6.59090909\n",
      "  5.83636364  6.11818182 10.43636364 15.21818182 20.06363636 25.08181818\n",
      " 28.9        31.28181818 32.53636364 32.49090909 31.23636364 29.13636364\n",
      " 25.41818182 20.41818182 15.2        12.15454545 10.96363636  9.80909091\n",
      "  9.15454545]\n"
     ]
    }
   ],
   "source": [
    "c6= np.array([temp_sal6,temp_bat6,temp_laf6,temp_mon6,temp_hol6,temp_new6,temp_fai6,temp_sel6,temp_bow6,temp_gad6,temp_newt6])\n",
    "c6=np.nanmean(c6, axis=0)\n",
    "print(c6)\n",
    "\n",
    "\n",
    "b6=np.array([temp_crn_sal6,temp_crn_bat6,temp_crn_laf6,temp_crn_mon6,temp_crn_hol6,temp_crn_new6,temp_crn_fai6,temp_crn_sel6,temp_crn_bow6,temp_crn_gad6,temp_crn_newt6])\n",
    "b6=np.nanmean(b6, axis=0)\n",
    "print(b6)"
   ]
  },
  {
   "cell_type": "code",
   "execution_count": 221,
   "id": "11ff266d",
   "metadata": {},
   "outputs": [
    {
     "data": {
      "image/png": "[encoded data removed]",
      "text/plain": [
       "<Figure size 792x396 with 1 Axes>"
      ]
     },
     "metadata": {},
     "output_type": "display_data"
    }
   ],
   "source": [
    "plt.style.use('seaborn-whitegrid')\n",
    "plt.rcParams[\"figure.figsize\"] = [11.00, 5.50]\n",
    "plt.rcParams[\"figure.autolayout\"] = True\n",
    "plt.yticks(np.arange(-35,40,5))\n",
    "plt.ylim(-35,35)\n",
    "# c[6]=None\n",
    "# b[6]=None\n",
    "\n",
    "plt.plot(xs,c6,c=\"c\", marker='o')\n",
    "plt.plot(xs,b6,c=\"orange\", marker='o')\n",
    "# c[6]=None\n",
    "# b[6]=None\n",
    "\n",
    "plt.title(\"1-hr Avg. MBE All Stations\")\n",
    "plt.xlabel(\"UTC Hour\")\n",
    "plt.ylabel(\"MBE Incoming Radiation (W/m^2)\")\n",
    "#plt.plot(hour,c)\n",
    "#plt.errorbar(hour,c,yerr=b,ecolor='r',elinewidth=5,fmt='s',color='k')\n",
    "#plt.grid()\n",
    "plt.xticks(xs, hour)\n",
    "plt.show()\n",
    "#plt.axvspan(-4, 4, color='green', alpha=0.2, lw=0)"
   ]
  },
  {
   "cell_type": "code",
   "execution_count": 225,
   "id": "240eafe4",
   "metadata": {},
   "outputs": [
    {
     "data": {
      "image/png": "[encoded data removed]",
      "text/plain": [
       "<Figure size 792x396 with 1 Axes>"
      ]
     },
     "metadata": {},
     "output_type": "display_data"
    }
   ],
   "source": [
    "plt.style.use('seaborn-whitegrid')\n",
    "plt.rcParams[\"figure.figsize\"] = [11.00, 5.50]\n",
    "plt.rcParams[\"figure.autolayout\"] = True\n",
    "plt.yticks(np.arange(-35,40,5))\n",
    "plt.ylim(-35,35)\n",
    "\n",
    "plt.plot(xs,c1,c=\"b\",marker=\"o\",label=\"IOP 1\")\n",
    "#plt.errorbar(xs,c1,c=\"b\",yerr=b1,linestyle='None', marker='s')\n",
    "\n",
    "plt.plot(xs,c2,c=\"r\",marker=\"o\",label=\"IOP 2\")\n",
    "#plt.errorbar(xs,c2,c=\"r\",yerr=b2,linestyle='None', marker='s')\n",
    "\n",
    "plt.plot(xs,c3,marker=\"o\",c=\"green\")\n",
    "#plt.errorbar(xs,c3,c=\"green\",yerr=b3,linestyle='None', marker='s')\n",
    "\n",
    "plt.plot(xs,c4,marker=\"o\",c=\"orange\")\n",
    "#plt.errorbar(xs,c4,c=\"orange\",yerr=b4,linestyle='None', marker='s')\n",
    "\n",
    "plt.plot(xs,c5,marker=\"o\",c=\"m\")\n",
    "#plt.errorbar(xs,c5,c=\"m\",yerr=b5,linestyle='None', marker='s')\n",
    "\n",
    "plt.plot(xs,c6,marker=\"o\",c=\"c\")\n",
    "#plt.errorbar(xs,c6,c=\"c\",yerr=b6,linestyle='None', marker='s')\n",
    "\n",
    "plt.title(\"18-hr Avg. HRRR All Stations\")\n",
    "plt.xlabel(\"UTC Hour\")\n",
    "plt.ylabel(\"Surface Temperature (C)\")\n",
    "#plt.plot(hour,c)\n",
    "#plt.errorbar(hour,c,yerr=b,ecolor='r',elinewidth=5,fmt='s',color='k')\n",
    "#plt.grid()\n",
    "plt.xticks(xs, hour)\n",
    "#plt.axvspan(-4, 4, color='green', alpha=0.2, lw=0)\n",
    "plt.legend([\"IOP 1\", \"IOP 2\",\"IOP 3\",\"IOP 4\",\"IOP 5\",\"IOP 6\"], loc =\"lower right\")\n",
    "plt.show()"
   ]
  },
  {
   "cell_type": "code",
   "execution_count": 223,
   "id": "7c96e762",
   "metadata": {
    "scrolled": false
   },
   "outputs": [
    {
     "data": {
      "image/png": "[encoded data removed]",
      "text/plain": [
       "<Figure size 792x396 with 1 Axes>"
      ]
     },
     "metadata": {},
     "output_type": "display_data"
    }
   ],
   "source": [
    "plt.style.use('seaborn-whitegrid')\n",
    "plt.rcParams[\"figure.figsize\"] = [11.00, 5.50]\n",
    "plt.rcParams[\"figure.autolayout\"] = True\n",
    "plt.yticks(np.arange(-35,40,5))\n",
    "plt.ylim(-35,35)\n",
    "\n",
    "plt.plot(xs,b1,c=\"b\",marker=\"o\",label=\"IOP 1\")\n",
    "#plt.errorbar(xs,c1,c=\"b\",yerr=b1,linestyle='None', marker='s')\n",
    "\n",
    "plt.plot(xs,b2,c=\"r\",marker=\"o\",label=\"IOP 2\")\n",
    "#plt.errorbar(xs,c2,c=\"r\",yerr=b2,linestyle='None', marker='s')\n",
    "\n",
    "plt.plot(xs,b3,marker=\"o\",c=\"green\")\n",
    "#plt.errorbar(xs,c3,c=\"green\",yerr=b3,linestyle='None', marker='s')\n",
    "\n",
    "plt.plot(xs,b4,marker=\"o\",c=\"orange\")\n",
    "#plt.errorbar(xs,c4,c=\"orange\",yerr=b4,linestyle='None', marker='s')\n",
    "\n",
    "plt.plot(xs,b5,marker=\"o\",c=\"m\")\n",
    "#plt.errorbar(xs,c5,c=\"m\",yerr=b5,linestyle='None', marker='s')\n",
    "\n",
    "plt.plot(xs,b6,marker=\"o\",c=\"c\")\n",
    "#plt.errorbar(xs,c6,c=\"c\",yerr=b6,linestyle='None', marker='s')\n",
    "\n",
    "plt.title(\"Avg. CRN All Stations\")\n",
    "plt.xlabel(\"UTC Hour\")\n",
    "plt.ylabel(\"MBE Incoming Radiation (W/m^2)\")\n",
    "#plt.plot(hour,c)\n",
    "#plt.errorbar(hour,c,yerr=b,ecolor='r',elinewidth=5,fmt='s',color='k')\n",
    "#plt.grid()\n",
    "plt.xticks(xs, hour)\n",
    "#plt.axvspan(-4, 4, color='green', alpha=0.2, lw=0)\n",
    "plt.legend([\"IOP 1\", \"IOP 2\",\"IOP 3\",\"IOP 4\",\"IOP 5\",\"IOP 6\"], loc =\"lower right\")\n",
    "plt.show()"
   ]
  },
  {
   "cell_type": "code",
   "execution_count": null,
   "id": "f20cc188",
   "metadata": {},
   "outputs": [],
   "source": []
  }
 ],
 "metadata": {
  "kernelspec": {
   "display_name": "Python 3 (ipykernel)",
   "language": "python",
   "name": "python3"
  },
  "language_info": {
   "codemirror_mode": {
    "name": "ipython",
    "version": 3
   },
   "file_extension": ".py",
   "mimetype": "text/x-python",
   "name": "python",
   "nbconvert_exporter": "python",
   "pygments_lexer": "ipython3",
   "version": "3.9.12"
  }
 },
 "nbformat": 4,
 "nbformat_minor": 5
}
