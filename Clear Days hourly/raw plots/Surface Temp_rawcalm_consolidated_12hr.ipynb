{
 "cells": [
  {
   "cell_type": "code",
   "execution_count": 1,
   "id": "83d28093",
   "metadata": {},
   "outputs": [],
   "source": [
    "import numpy as np\n",
    "import matplotlib.pyplot as plt\n",
    "import math\n",
    "import numpy.ma as ma"
   ]
  },
  {
   "cell_type": "markdown",
   "id": "18ad22a0",
   "metadata": {},
   "source": [
    "<font size=\"3\">Salem, MO: 0600 UTC (12:00 am CST) 01 March 2022-0600 UTC (12:00 am CST) 02 March 2022</font>"
   ]
  },
  {
   "cell_type": "code",
   "execution_count": 2,
   "id": "9d3b9481",
   "metadata": {},
   "outputs": [
    {
     "name": "stdout",
     "output_type": "stream",
     "text": [
      "[1.87, 1.17001, 0.76001, 0.429993, 0.0200195, 1.60001, 1.14999, 1.84, 5.19, 9.22, 12.7, 15.65, 18.72, 21.9, 22.88, 22.52, 21.44, 18.63, 13.92, 11.4, 10.23, 8.87, 8.07001, 7.27002, 6.81]\n",
      "25\n"
     ]
    }
   ],
   "source": [
    "#1 hr hrrr:\n",
    "with open('hrrr_f12_Salem_MO.txt') as f:\n",
    "    lst=[line.split()[4] for line in f]\n",
    "    temp_sal1=[]\n",
    "    for i in lst:\n",
    "        new=i.replace(',',\"\")\n",
    "        temp_sal1.append(new)\n",
    "    temp_sal1.pop(0)\n",
    "    temp_sal1=[float(x) for x in temp_sal1]\n",
    "    temp_sal1=temp_sal1[1410:1435]\n",
    "    #temp=temp[2015:2063]\n",
    "    print(temp_sal1)\n",
    "    print(len(temp_sal1))\n",
    "#full time period is [2015:2112]"
   ]
  },
  {
   "cell_type": "code",
   "execution_count": 3,
   "id": "e9d4dbcc",
   "metadata": {},
   "outputs": [
    {
     "name": "stdout",
     "output_type": "stream",
     "text": [
      "[-4.7, -5.0, -5.6, -5.9, -5.2, -4.5, -1.6, -0.6, 1.5, 8.3, 14.6, 20.6, 23.7, 25.3, 25.8, 24.8, 22.5, 18.5, 11.8, 5.3, 2.9, 0.3, -0.4, -1.0, 0.2]\n",
      "25\n"
     ]
    }
   ],
   "source": [
    "#Air Temp CRN:\n",
    "with open('CRNH0203-2022-MO_Salem_10_W.txt') as f:\n",
    "    lst=[line.split()[20] for line in f]\n",
    "    #print(lst)\n",
    "    temp_crn_sal1=[]\n",
    "    for i in lst:\n",
    "        new=i.replace(',',\"\")\n",
    "        temp_crn_sal1.append(new)\n",
    "    temp_crn_sal1=[float(x) for x in temp_crn_sal1]\n",
    "    temp_crn_sal1=temp_crn_sal1[1421:1446]\n",
    "    print(temp_crn_sal1)\n",
    "    print(len(temp_crn_sal1))\n",
    "    # print(temp_crn[2124])"
   ]
  },
  {
   "cell_type": "code",
   "execution_count": 4,
   "id": "1e9aed03-d99c-4045-812a-e26bcc99b84f",
   "metadata": {},
   "outputs": [],
   "source": [
    "# difference1_sal = []\n",
    "\n",
    "# zip_object = zip(temp, temp_crn)\n",
    "# for temp_i, temp_crn_i in zip_object:\n",
    "#     difference1_sal.append(temp_i-temp_crn_i)\n",
    "\n",
    "# print(difference1_sal)"
   ]
  },
  {
   "cell_type": "markdown",
   "id": "9043c519",
   "metadata": {},
   "source": [
    "<font size=\"3\">Batesville, AR: 0600 UTC (12:00 am CST) 01 March 2022-0600 UTC (12:00 am CST) 02 March 2022</font>"
   ]
  },
  {
   "cell_type": "code",
   "execution_count": 5,
   "id": "af395ecc",
   "metadata": {},
   "outputs": [
    {
     "name": "stdout",
     "output_type": "stream",
     "text": [
      "[3.26001, 3.04001, 2.36002, 1.89001, 1.57001, 1.01001, 0.779999, 0.440002, 4.78, 10.72, 14.84, 17.84, 19.89, 21.06, 20.79, 20.35, 19.16, 16.49, 12.2, 9.77002, 8.82001, 8.02002, 7.25, 6.73001, 6.20999]\n",
      "25\n"
     ]
    }
   ],
   "source": [
    "#1 hr hrrr:\n",
    "with open('hrrr_f12_Batesville_AR.txt') as f:\n",
    "    lst=[line.split()[4] for line in f]\n",
    "    temp_bat1=[]\n",
    "    for i in lst:\n",
    "        new=i.replace(',',\"\")\n",
    "        temp_bat1.append(new)\n",
    "    temp_bat1.pop(0)\n",
    "    temp_bat1=[float(x) for x in temp_bat1]\n",
    "    temp_bat1=temp_bat1[1410:1435]\n",
    "#     x = np.array(temp)\n",
    "#     temp = ma.masked_array(x, mask=[0, 0, 0, 0, 0,0,0,0,0,0,0,0,0,0,0,0,0,0,0,0,0,1,0,0,0])\n",
    "    #temp=temp[2015:2063]\n",
    "    print(temp_bat1)\n",
    "    print(len(temp_bat1))\n",
    "#full time period is [2015:2112]"
   ]
  },
  {
   "cell_type": "code",
   "execution_count": 6,
   "id": "11b7f8b7",
   "metadata": {},
   "outputs": [
    {
     "name": "stdout",
     "output_type": "stream",
     "text": [
      "[-0.1, -1.0, -1.4, -1.8, -2.2, -2.4, -2.4, -2.5, 0.3, 7.4, 14.6, 19.7, 23.8, 23.7, 23.1, 21.9, 20.0, 16.8, 12.0, 7.1, 5.8, 3.9, 2.5, 2.1, 1.3]\n"
     ]
    }
   ],
   "source": [
    "#Air Temp CRN:\n",
    "with open('CRNH0203-2022-AR_Batesville_8_WNW.txt') as f:\n",
    "    lst=[line.split()[20] for line in f]\n",
    "    #print(lst)\n",
    "    temp_crn_bat1=[]\n",
    "    for i in lst:\n",
    "        new=i.replace(',',\"\")\n",
    "        temp_crn_bat1.append(new)\n",
    "    temp_crn_bat1=[float(x) for x in temp_crn_bat1]\n",
    "    temp_crn_bat1=temp_crn_bat1[1421:1446]\n",
    "#     y = np.array(temp_crn)\n",
    "#     temp_crn = ma.masked_array(y, mask=[0, 0, 0, 0, 0,0,0,0,0,0,0,0,0,0,0,0,0,0,0,0,0,1,0,0,0])\n",
    "    print(temp_crn_bat1)\n",
    "    #print(len(temp_crn))\n",
    "    # print(temp_crn[2124])"
   ]
  },
  {
   "cell_type": "code",
   "execution_count": 7,
   "id": "62a46873",
   "metadata": {},
   "outputs": [],
   "source": [
    "# difference1_bat = []\n",
    "\n",
    "# zip_object = zip(temp, temp_crn)\n",
    "# for temp_i, temp_crn_i in zip_object:\n",
    "#     difference1_bat.append(temp_i-temp_crn_i)\n",
    "\n",
    "# print(difference1_bat)"
   ]
  },
  {
   "cell_type": "markdown",
   "id": "2a2589df",
   "metadata": {},
   "source": [
    "<font size=\"3\">Lafayette, LA: 0600 UTC (12:00 am CST) 01 March 2022-0600 UTC (12:00 am CST) 02 March 2022</font>"
   ]
  },
  {
   "cell_type": "code",
   "execution_count": 8,
   "id": "3fd34af2",
   "metadata": {},
   "outputs": [
    {
     "name": "stdout",
     "output_type": "stream",
     "text": [
      "[7.41, 6.36002, 5.48001, 4.5, 3.63, 3.45001, 2.75, 2.73001, 8.39999, 15.55, 21.66, 25.53, 28.26, 29.91, 30.17, 29.2, 26.27, 22.37, 18.66, 14.58, 13.21, 12.23, 10.8, 9.61002, 8.73001]\n"
     ]
    }
   ],
   "source": [
    "#1 hr hrrr:\n",
    "with open('hrrr_f12_Lafayette_LA.txt') as f:\n",
    "    lst=[line.split()[4] for line in f]\n",
    "    temp_laf1=[]\n",
    "    for i in lst:\n",
    "        new=i.replace(',',\"\")\n",
    "        temp_laf1.append(new)\n",
    "    temp_laf1.pop(0)\n",
    "    temp_laf1=[float(x) for x in temp_laf1]\n",
    "    temp_laf1=temp_laf1[1410:1435]\n",
    "    #temp=temp[2015:2063]\n",
    "    print(temp_laf1)\n",
    "    #print(len(temp))\n",
    "#full time period is [2015:2112]"
   ]
  },
  {
   "cell_type": "code",
   "execution_count": 9,
   "id": "bfe1bb32",
   "metadata": {},
   "outputs": [
    {
     "name": "stdout",
     "output_type": "stream",
     "text": [
      "[1.4, 1.0, 0.6, 0.3, 0.2, -0.3, -0.2, -0.2, 4.8, 12.0, 18.0, 23.2, 24.7, 26.7, 27.4, 26.2, 24.1, 20.1, 13.5, 7.4, 6.9, 7.1, 4.8, 3.5, 2.9]\n"
     ]
    }
   ],
   "source": [
    "#Air Temp CRN:\n",
    "with open('CRNH0203-2022-LA_Lafayette_13_SE.txt') as f:\n",
    "    lst=[line.split()[20] for line in f]\n",
    "    #print(lst)\n",
    "    temp_crn_laf1=[]\n",
    "    for i in lst:\n",
    "        new=i.replace(',',\"\")\n",
    "        temp_crn_laf1.append(new)\n",
    "    temp_crn_laf1=[float(x) for x in temp_crn_laf1]\n",
    "    temp_crn_laf1=temp_crn_laf1[1421:1446]\n",
    "    print(temp_crn_laf1)\n",
    "    #print(len(temp_crn))\n",
    "    # print(temp_crn[2124])"
   ]
  },
  {
   "cell_type": "code",
   "execution_count": 10,
   "id": "9b94d0f9",
   "metadata": {},
   "outputs": [],
   "source": [
    "# difference1_laf = []\n",
    "\n",
    "# zip_object = zip(temp, temp_crn)\n",
    "# for temp_i, temp_crn_i in zip_object:\n",
    "#     difference1_laf.append(temp_i-temp_crn_i)\n",
    "\n",
    "# print(difference1_laf)"
   ]
  },
  {
   "cell_type": "markdown",
   "id": "7a8d079f",
   "metadata": {},
   "source": [
    "<font size=\"3\">Monroe, LA: 0600 UTC (12:00 am CST) 01 March 2022-0600 UTC (12:00 am CST) 02 March 2022</font>"
   ]
  },
  {
   "cell_type": "code",
   "execution_count": 11,
   "id": "9c6d2382",
   "metadata": {},
   "outputs": [
    {
     "name": "stdout",
     "output_type": "stream",
     "text": [
      "[3.25, 3.20999, 3.34, 3.63, 2.42001, 2.39999, 3.20999, 2.54001, 5.45999, 10.24, 14.65, 17.48, 19.31, 20.48, 21.38, 21.47, 20.61, 17.66, 13.05, 10.31, 9.14999, 8.26001, 7.98001, 7.17999, 6.95999]\n"
     ]
    }
   ],
   "source": [
    "#1 hr hrrr:\n",
    "with open('hrrr_f12_Monroe_LA.txt') as f:\n",
    "    lst=[line.split()[4] for line in f]\n",
    "    temp_mon1=[]\n",
    "    for i in lst:\n",
    "        new=i.replace(',',\"\")\n",
    "        temp_mon1.append(new)\n",
    "    temp_mon1.pop(0)\n",
    "    temp_mon1=[float(x) for x in temp_mon1]\n",
    "    temp_mon1=temp_mon1[1410:1435]\n",
    "    #temp=temp[2015:2063]\n",
    "    print(temp_mon1)\n",
    "    #print(len(temp))\n",
    "#full time period is [2015:2112]"
   ]
  },
  {
   "cell_type": "code",
   "execution_count": 12,
   "id": "5c3999a7",
   "metadata": {},
   "outputs": [
    {
     "name": "stdout",
     "output_type": "stream",
     "text": [
      "[1.5, 1.7, 2.0, 1.9, 0.1, -0.6, -0.6, -0.4, 1.1, 8.1, 15.6, 19.0, 22.4, 24.3, 25.1, 24.7, 23.8, 20.2, 12.9, 6.5, 4.6, 3.4, 2.6, 2.0, 1.3]\n"
     ]
    }
   ],
   "source": [
    "#Air Temp CRN:\n",
    "with open('CRNH0203-2022-LA_Monroe_26_N.txt') as f:\n",
    "    lst=[line.split()[20] for line in f]\n",
    "    #print(lst)\n",
    "    temp_crn_mon1=[]\n",
    "    for i in lst:\n",
    "        new=i.replace(',',\"\")\n",
    "        temp_crn_mon1.append(new)\n",
    "    temp_crn_mon1=[float(x) for x in temp_crn_mon1]\n",
    "    temp_crn_mon1=temp_crn_mon1[1421:1446]\n",
    "    print(temp_crn_mon1)\n",
    "    #print(len(temp_crn))\n",
    "    # print(temp_crn[2124])"
   ]
  },
  {
   "cell_type": "code",
   "execution_count": 13,
   "id": "2b4e383a",
   "metadata": {},
   "outputs": [],
   "source": [
    "# difference1_mon = []\n",
    "\n",
    "# zip_object = zip(temp, temp_crn)\n",
    "# for temp_i, temp_crn_i in zip_object:\n",
    "#     difference1_mon.append(temp_i-temp_crn_i)\n",
    "\n",
    "# print(difference1_mon)"
   ]
  },
  {
   "cell_type": "markdown",
   "id": "26c585ff",
   "metadata": {},
   "source": [
    "<font size=\"3\">Holly Springs, MS: 0600 UTC (12:00 am CST) 01 March 2022-0600 UTC (12:00 am CST) 02 March 2022</font>"
   ]
  },
  {
   "cell_type": "code",
   "execution_count": 14,
   "id": "175bd35c",
   "metadata": {},
   "outputs": [
    {
     "name": "stdout",
     "output_type": "stream",
     "text": [
      "[2.95999, 2.60001, 2.30002, 2.12, 2.36002, 2.08002, 1.63, 1.72, 5.5, 9.39999, 12.68, 14.31, 15.66, 16.64, 16.38, 15.83, 14.91, 13.29, 10.14, 8.94, 8.34, 8.34, 7.87, 6.85001, 6.56]\n"
     ]
    }
   ],
   "source": [
    "#1 hr hrrr:\n",
    "with open('hrrr_f12_Holly Springs_MS.txt') as f:\n",
    "    lst=[line.split()[4] for line in f]\n",
    "    temp_hol1=[]\n",
    "    for i in lst:\n",
    "        new=i.replace(',',\"\")\n",
    "        temp_hol1.append(new)\n",
    "    temp_hol1.pop(0)\n",
    "    temp_hol1=[float(x) for x in temp_hol1]\n",
    "    temp_hol1=temp_hol1[1410:1435]\n",
    "    #temp=temp[2015:2063]\n",
    "    print(temp_hol1)\n",
    "    #print(len(temp))\n",
    "#full time period is [2015:2112]"
   ]
  },
  {
   "cell_type": "code",
   "execution_count": 15,
   "id": "19a3055f",
   "metadata": {},
   "outputs": [
    {
     "name": "stdout",
     "output_type": "stream",
     "text": [
      "[1.3, 0.5, 0.1, -0.1, -0.7, -1.4, -1.9, -2.1, 0.2, 8.6, 14.4, 19.2, 22.3, 23.3, 23.4, 22.5, 20.0, 16.2, 9.8, 6.2, 4.8, 4.2, 4.3, 4.1, 2.8]\n"
     ]
    }
   ],
   "source": [
    "#Air Temp CRN:\n",
    "with open('CRNH0203-2022-MS_Holly_Springs_4_N.txt') as f:\n",
    "    lst=[line.split()[20] for line in f]\n",
    "    #print(lst)\n",
    "    temp_crn_hol1=[]\n",
    "    for i in lst:\n",
    "        new=i.replace(',',\"\")\n",
    "        temp_crn_hol1.append(new)\n",
    "    temp_crn_hol1=[float(x) for x in temp_crn_hol1]\n",
    "    temp_crn_hol1=temp_crn_hol1[1421:1446]\n",
    "    print(temp_crn_hol1)\n",
    "    #print(len(temp_crn))\n",
    "    # print(temp_crn[2124])"
   ]
  },
  {
   "cell_type": "code",
   "execution_count": 16,
   "id": "46b095cb",
   "metadata": {},
   "outputs": [],
   "source": [
    "# difference1_hol = []\n",
    "\n",
    "# zip_object = zip(temp, temp_crn)\n",
    "# for temp_i, temp_crn_i in zip_object:\n",
    "#     difference1_hol.append(temp_i-temp_crn_i)\n",
    "\n",
    "# print(difference1_hol)"
   ]
  },
  {
   "cell_type": "markdown",
   "id": "1c76c308",
   "metadata": {},
   "source": [
    "<font size=\"3\">Newton, MS: 0600 UTC (12:00 am CST) 01 March 2022-0600 UTC (12:00 am CST) 02 March 2022</font>"
   ]
  },
  {
   "cell_type": "code",
   "execution_count": 17,
   "id": "06decf86",
   "metadata": {},
   "outputs": [
    {
     "name": "stdout",
     "output_type": "stream",
     "text": [
      "[4.01001, 3.33002, 2.89999, 2.56, 2.52002, 2.87, 1.83002, 2.29001, 8.22, 15.24, 20.18, 22.9, 25.49, 26.24, 26.31, 24.95, 22.72, 19.94, 14.82, 12.1, 10.49, 9.33002, 8.39999, 6.89999, 5.79001]\n"
     ]
    }
   ],
   "source": [
    "#1 hr hrrr:\n",
    "with open('hrrr_f12_Newton_MS.txt') as f:\n",
    "    lst=[line.split()[4] for line in f]\n",
    "    temp_new1=[]\n",
    "    for i in lst:\n",
    "        new=i.replace(',',\"\")\n",
    "        temp_new1.append(new)\n",
    "    temp_new1.pop(0)\n",
    "    temp_new1=[float(x) for x in temp_new1]\n",
    "    temp_new1=temp_new1[1410:1435]\n",
    "    #temp=temp[2015:2063]\n",
    "    print(temp_new1)\n",
    "    #print(len(temp))\n",
    "#full time period is [2015:2112]"
   ]
  },
  {
   "cell_type": "code",
   "execution_count": 18,
   "id": "3fb09a0f",
   "metadata": {},
   "outputs": [
    {
     "name": "stdout",
     "output_type": "stream",
     "text": [
      "[1.3, 0.6, 0.1, -0.2, -0.8, -1.4, -0.9, 0.6, 3.9, 11.6, 18.6, 22.6, 25.8, 27.9, 28.2, 27.4, 24.8, 20.8, 14.3, 8.5, 6.3, 5.0, 3.9, 3.0, 2.2]\n"
     ]
    }
   ],
   "source": [
    "#Air Temp CRN:\n",
    "with open('CRNH0203-2022-MS_Newton_5_ENE.txt') as f:\n",
    "    lst=[line.split()[20] for line in f]\n",
    "    #print(lst)\n",
    "    temp_crn_new1=[]\n",
    "    for i in lst:\n",
    "        new=i.replace(',',\"\")\n",
    "        temp_crn_new1.append(new)\n",
    "    temp_crn_new1=[float(x) for x in temp_crn_new1]\n",
    "    temp_crn_new1=temp_crn_new1[1421:1446]\n",
    "    print(temp_crn_new1)\n",
    "    #print(len(temp_crn))\n",
    "    # print(temp_crn[2124])"
   ]
  },
  {
   "cell_type": "code",
   "execution_count": 19,
   "id": "e588ab70",
   "metadata": {},
   "outputs": [],
   "source": [
    "# difference1_new = []\n",
    "\n",
    "# zip_object = zip(temp, temp_crn)\n",
    "# for temp_i, temp_crn_i in zip_object:\n",
    "#     difference1_new.append(temp_i-temp_crn_i)\n",
    "\n",
    "# print(difference1_new)"
   ]
  },
  {
   "cell_type": "markdown",
   "id": "c9620694",
   "metadata": {},
   "source": [
    "<font size=\"3\">Gainesville, AL: 0600 UTC (12:00 am CST) 01 March 2022-0600 UTC (12:00 am CST) 02 March 2022</font>"
   ]
  },
  {
   "cell_type": "code",
   "execution_count": 20,
   "id": "a422cd03",
   "metadata": {},
   "outputs": [],
   "source": [
    "# #1 hr hrrr:\n",
    "# with open('hrrr_f12_Gainesville_AL.txt') as f:\n",
    "#     lst=[line.split()[4] for line in f]\n",
    "#     temp=[]\n",
    "#     for i in lst:\n",
    "#         new=i.replace(',',\"\")\n",
    "#         temp.append(new)\n",
    "#     temp.pop(0)\n",
    "#     temp=[float(x) for x in temp]\n",
    "#     temp=temp[1410:1435]\n",
    "#     #temp=temp[2015:2063]\n",
    "#     print(temp)\n",
    "#     #print(len(temp))\n",
    "# #full time period is [2015:2112]"
   ]
  },
  {
   "cell_type": "code",
   "execution_count": 21,
   "id": "2c97e541",
   "metadata": {},
   "outputs": [],
   "source": [
    "# #Air Temp CRN:\n",
    "# with open('CRNH0203-2022-AL_Gainesville_2_NE.txt') as f:\n",
    "#     lst=[line.split()[20] for line in f]\n",
    "#     #print(lst)\n",
    "#     temp_crn=[]\n",
    "#     for i in lst:\n",
    "#         new=i.replace(',',\"\")\n",
    "#         temp_crn.append(new)\n",
    "#     temp_crn=[float(x) for x in temp_crn]\n",
    "#     temp_crn=temp_crn[1410:1435]\n",
    "#     print(temp_crn)\n",
    "#     #print(len(temp_crn))\n",
    "#     # print(temp_crn[2124])"
   ]
  },
  {
   "cell_type": "code",
   "execution_count": 22,
   "id": "8df76a7b",
   "metadata": {},
   "outputs": [],
   "source": [
    "# difference1_gai = []\n",
    "\n",
    "# zip_object = zip(temp, temp_crn)\n",
    "# for temp_i, temp_crn_i in zip_object:\n",
    "#     difference1_gai.append(temp_i-temp_crn_i)\n",
    "\n",
    "# print(difference1_gai)"
   ]
  },
  {
   "cell_type": "markdown",
   "id": "2711dc15",
   "metadata": {},
   "source": [
    "<font size=\"3\">Fairhope, AL: 0600 UTC (12:00 am CST) 01 March 2022-0600 UTC (12:00 am CST) 02 March 2022</font>"
   ]
  },
  {
   "cell_type": "code",
   "execution_count": 23,
   "id": "64dbcf91",
   "metadata": {},
   "outputs": [
    {
     "name": "stdout",
     "output_type": "stream",
     "text": [
      "[8.95001, 8.41, 7.95001, 7.62, 7.23001, 6.73001, 6.45999, 7.23001, 11.7, 16.68, 21.14, 24.86, 26.27, 26.17, 25.55, 24.1, 22.94, 18.75, 14.82, 13.11, 12.02, 10.42, 9.98001, 9.20999, 8.10001]\n"
     ]
    }
   ],
   "source": [
    "#1 hr hrrr:\n",
    "with open('hrrr_f12_Fairhope_AL.txt') as f:\n",
    "    lst=[line.split()[4] for line in f]\n",
    "    temp_fai1=[]\n",
    "    for i in lst:\n",
    "        new=i.replace(',',\"\")\n",
    "        temp_fai1.append(new)\n",
    "    temp_fai1.pop(0)\n",
    "    temp_fai1=[float(x) for x in temp_fai1]\n",
    "    temp_fai1=temp_fai1[1410:1435]\n",
    "    #temp=temp[2015:2063]\n",
    "    print(temp_fai1)\n",
    "    #print(len(temp))\n",
    "#full time period is [2015:2112]"
   ]
  },
  {
   "cell_type": "code",
   "execution_count": 24,
   "id": "4df09785",
   "metadata": {},
   "outputs": [
    {
     "name": "stdout",
     "output_type": "stream",
     "text": [
      "[5.3, 4.3, 4.0, 1.8, 3.4, 3.8, 2.4, 1.3, 9.1, 17.2, 24.5, 28.8, 30.9, 30.8, 29.4, 27.5, 24.2, 18.4, 12.7, 8.5, 5.5, 3.2, 2.4, 1.4, 1.0]\n"
     ]
    }
   ],
   "source": [
    "#Air Temp CRN:\n",
    "with open('CRNH0203-2022-AL_Fairhope_3_NE.txt') as f:\n",
    "    lst=[line.split()[20] for line in f]\n",
    "    #print(lst)\n",
    "    temp_crn_fai1=[]\n",
    "    for i in lst:\n",
    "        new=i.replace(',',\"\")\n",
    "        temp_crn_fai1.append(new)\n",
    "    temp_crn_fai1=[float(x) for x in temp_crn_fai1]\n",
    "    temp_crn_fai1=temp_crn_fai1[1421:1446]\n",
    "    print(temp_crn_fai1)\n",
    "    #print(len(temp_crn))\n",
    "    # print(temp_crn[2124])"
   ]
  },
  {
   "cell_type": "code",
   "execution_count": 25,
   "id": "a9ff3306",
   "metadata": {},
   "outputs": [],
   "source": [
    "# difference1_fai = []\n",
    "\n",
    "# zip_object = zip(temp, temp_crn)\n",
    "# for temp_i, temp_crn_i in zip_object:\n",
    "#     difference1_fai.append(temp_i-temp_crn_i)\n",
    "\n",
    "# print(difference1_fai)"
   ]
  },
  {
   "cell_type": "markdown",
   "id": "f5dd4e4b",
   "metadata": {},
   "source": [
    "<font size=\"3\">**Selma, AL: 0600 UTC (12:00 am CST) 01 March 2022-0600 UTC (12:00 am CST) 02 March 2022</font>"
   ]
  },
  {
   "cell_type": "code",
   "execution_count": 26,
   "id": "af6b46b1",
   "metadata": {},
   "outputs": [
    {
     "name": "stdout",
     "output_type": "stream",
     "text": [
      "[5.17001, 4.48001, 3.98001, 3.70999, 3.72, 2.88, 2.61002, 3.56, 8.62, 13.29, 16.53, 19.29, 21.44, 23.44, 23.9, 22.92, 20.92, 18.0, 13.07, 10.68, 9.24002, 8.34, 7.41, 6.25, 5.53]\n",
      "[3.4, 2.8, 2.1, 1.5, 1.0, 0.8, 1.2, 1.9, 5.3, 12.9, 17.8, 23.1, 24.6, 26.4, 26.1, 25.1, 21.9, 18.6, 15.4, 10.7, 8.0, 6.5, 5.3, 4.7, 4.0]\n"
     ]
    }
   ],
   "source": [
    "#1 hr hrrr:\n",
    "import numpy as np\n",
    "import numpy.ma as ma\n",
    "with open('hrrr_f12_Selma_AL.txt') as f:\n",
    "    lst=[line.split()[4] for line in f]\n",
    "    temp_sel1=[]\n",
    "    for i in lst:\n",
    "        new=i.replace(',',\"\")\n",
    "        temp_sel1.append(new)\n",
    "    temp_sel1.pop(0)\n",
    "    temp_sel1=[float(x) for x in temp_sel1]\n",
    "    temp_sel1=temp_sel1[1410:1435]\n",
    "\n",
    "#     x = np.array(temp)\n",
    "#     temp = ma.masked_array(x, mask=[0, 0, 0, 0, 0,0,0,0,0,0,0,0,0,0,0,0,0,1,1,1,1,0,0,0,0])\n",
    "    #print(temp)\n",
    "#Air Temp CRN:\n",
    "with open('CRNH0203-2022-AL_Selma_13_WNW.txt') as f:\n",
    "    lst=[line.split()[20] for line in f]\n",
    "    #print(lst)\n",
    "    temp_crn_sel1=[]\n",
    "    for i in lst:\n",
    "        new=i.replace(',',\"\")\n",
    "        temp_crn_sel1.append(new)\n",
    "    temp_crn_sel1=[float(x) for x in temp_crn_sel1]\n",
    "    temp_crn_sel1=temp_crn_sel1[1421:1446]\n",
    "#     y = np.array(temp_crn)\n",
    "#     temp_crn = ma.masked_array(y, mask=[0, 0, 0, 0, 0,0,0,0,0,0,0,0,0,0,0,0,0,1,1,1,1,0,0,0,0])\n",
    "    print(temp_sel1)\n",
    "    #print(len(temp))\n",
    "    print(temp_crn_sel1)\n",
    "    #print(len(temp_crn))\n",
    "#full time period is [2015:2112]\n",
    "# difference1_sel = []\n",
    "\n",
    "# zip_object = zip(temp, temp_crn)\n",
    "# for temp_i, temp_crn_i in zip_object:\n",
    "#     difference1_sel.append(temp_i-temp_crn_i)\n",
    "\n",
    "# print(difference1_sel)\n",
    "# print(len(difference1_sel))"
   ]
  },
  {
   "cell_type": "markdown",
   "id": "8fab4bdc",
   "metadata": {},
   "source": [
    "<font size=\"3\">Bowling Green, KY: 0600 UTC (12:00 am CST) 01 March 2022-0600 UTC (12:00 am CST) 02 March 2022</font>"
   ]
  },
  {
   "cell_type": "code",
   "execution_count": 27,
   "id": "bf608647",
   "metadata": {},
   "outputs": [
    {
     "name": "stdout",
     "output_type": "stream",
     "text": [
      "[2.13, 1.28, 0.869995, 0.450012, 0.330017, 0.300018, 0.279999, 1.17999, 5.10001, 9.39999, 13.23, 16.25, 19.28, 21.01, 21.16, 19.92, 18.15, 15.14, 12.07, 10.39, 9.37, 8.58002, 8.19, 7.42999, 7.24002]\n"
     ]
    }
   ],
   "source": [
    "#1 hr hrrr:\n",
    "with open('hrrr_f12_Bowling Green_KY.txt') as f:\n",
    "    lst=[line.split()[4] for line in f]\n",
    "    temp_bow1=[]\n",
    "    for i in lst:\n",
    "        new=i.replace(',',\"\")\n",
    "        temp_bow1.append(new)\n",
    "    temp_bow1.pop(0)\n",
    "    temp_bow1=[float(x) for x in temp_bow1]\n",
    "    temp_bow1=temp_bow1[1410:1435]\n",
    "    #temp=temp[2015:2063]\n",
    "    print(temp_bow1)\n",
    "    #print(len(temp))\n",
    "#full time period is [2015:2112]"
   ]
  },
  {
   "cell_type": "code",
   "execution_count": 28,
   "id": "b9e25e31",
   "metadata": {},
   "outputs": [
    {
     "name": "stdout",
     "output_type": "stream",
     "text": [
      "[-2.6, -3.1, -3.3, -3.2, -2.9, -2.3, -1.8, -0.9, 2.9, 11.1, 17.6, 22.2, 25.6, 26.2, 25.9, 24.3, 20.7, 16.1, 10.1, 6.3, 4.5, 4.7, 3.2, 2.0, 1.7]\n"
     ]
    }
   ],
   "source": [
    "#Air Temp CRN:\n",
    "with open('CRNH0203-2022-KY_Bowling_Green_21_NNE.txt') as f:\n",
    "    lst=[line.split()[20] for line in f]\n",
    "    #print(lst)\n",
    "    temp_crn_bow1=[]\n",
    "    for i in lst:\n",
    "        new=i.replace(',',\"\")\n",
    "        temp_crn_bow1.append(new)\n",
    "    temp_crn_bow1=[float(x) for x in temp_crn_bow1]\n",
    "    temp_crn_bow1=temp_crn_bow1[1421:1446]\n",
    "    print(temp_crn_bow1)\n",
    "    #print(len(temp_crn))\n",
    "    # print(temp_crn[2124])"
   ]
  },
  {
   "cell_type": "code",
   "execution_count": 29,
   "id": "c1e72531",
   "metadata": {},
   "outputs": [],
   "source": [
    "# difference1_bow = []\n",
    "\n",
    "# zip_object = zip(temp, temp_crn)\n",
    "# for temp_i, temp_crn_i in zip_object:\n",
    "#     difference1_bow.append(temp_i-temp_crn_i)\n",
    "\n",
    "# print(difference1_bow)"
   ]
  },
  {
   "cell_type": "markdown",
   "id": "d1be2cc0",
   "metadata": {},
   "source": [
    "<font size=\"3\">Gadsden, AL: 0600 UTC (12:00 am CST) 01 March 2022-0600 UTC (12:00 am CST) 02 March 2022</font>"
   ]
  },
  {
   "cell_type": "code",
   "execution_count": 30,
   "id": "02793170",
   "metadata": {},
   "outputs": [
    {
     "name": "stdout",
     "output_type": "stream",
     "text": [
      "[3.64999, 3.34, 2.82001, 2.57001, 2.61002, 2.49002, 1.83002, 2.5, 6.64001, 11.31, 13.68, 15.49, 16.81, 17.42, 17.53, 16.54, 15.12, 12.57, 9.42001, 8.11002, 7.33002, 6.55002, 6.91, 7.08002, 5.80002]\n"
     ]
    }
   ],
   "source": [
    "#1 hr hrrr:\n",
    "with open('hrrr_f12_Gadsden_AL.txt') as f:\n",
    "    lst=[line.split()[4] for line in f]\n",
    "    temp_gad1=[]\n",
    "    for i in lst:\n",
    "        new=i.replace(',',\"\")\n",
    "        temp_gad1.append(new)\n",
    "    temp_gad1.pop(0)\n",
    "    temp_gad1=[float(x) for x in temp_gad1]\n",
    "    temp_gad1=temp_gad1[1410:1435]\n",
    "#     x = np.array(temp)\n",
    "#     temp = ma.masked_array(x, mask=[0, 0, 0, 0, 0,0,0,0,1,0,0,0,0,0,0,0,0,0,0,0,0,0,0,0,0])\n",
    "    #temp=temp[2015:2063]\n",
    "    print(temp_gad1)\n",
    "    #print(len(temp))\n",
    "#full time period is [2015:2112]"
   ]
  },
  {
   "cell_type": "code",
   "execution_count": 31,
   "id": "eb5f934d",
   "metadata": {},
   "outputs": [
    {
     "name": "stdout",
     "output_type": "stream",
     "text": [
      "[1.1, 0.6, 0.6, 1.0, 1.2, 0.4, -0.1, 0.0, 6.4, 14.3, 17.9, 20.3, 22.3, 23.1, 22.7, 20.5, 17.5, 15.2, 10.5, 6.4, 4.9, 4.4, 4.0, 3.5, 3.4]\n"
     ]
    }
   ],
   "source": [
    "#Air Temp CRN:\n",
    "with open('CRNH0203-2022-AL_Gadsden_19_N.txt') as f:\n",
    "    lst=[line.split()[20] for line in f]\n",
    "    #print(lst)\n",
    "    temp_crn_gad1=[]\n",
    "    for i in lst:\n",
    "        new=i.replace(',',\"\")\n",
    "        temp_crn_gad1.append(new)\n",
    "    temp_crn_gad1=[float(x) for x in temp_crn_gad1]\n",
    "    temp_crn_gad1=temp_crn_gad1[1421:1446]\n",
    "#     y = np.array(temp_crn)\n",
    "#     temp_crn = ma.masked_array(y, mask=[0, 0, 0, 0, 0,0,0,0,1,0,0,0,0,0,0,0,0,0,0,0,0,0,0,0,0])\n",
    "    print(temp_crn_gad1)\n",
    "    #print(len(temp_crn))\n",
    "    # print(temp_crn[2124])"
   ]
  },
  {
   "cell_type": "code",
   "execution_count": 32,
   "id": "c002ac76",
   "metadata": {},
   "outputs": [],
   "source": [
    "# difference1_gad = []\n",
    "\n",
    "# zip_object = zip(temp, temp_crn)\n",
    "# for temp_i, temp_crn_i in zip_object:\n",
    "#     difference1_gad.append(temp_i-temp_crn_i)\n",
    "\n",
    "# print(difference1_gad)"
   ]
  },
  {
   "cell_type": "markdown",
   "id": "d430f7c6",
   "metadata": {},
   "source": [
    "<font size=\"3\">Newton, GA: 0600 UTC (12:00 am CST) 01 March 2022-0600 UTC (12:00 am CST) 02 March 2022</font>"
   ]
  },
  {
   "cell_type": "code",
   "execution_count": 33,
   "id": "e78bb8bf",
   "metadata": {},
   "outputs": [
    {
     "name": "stdout",
     "output_type": "stream",
     "text": [
      "[7.89999, 10.25, 7.62, 6.67999, 5.87, 5.24002, 5.09, 6.56, 11.01, 15.97, 20.64, 22.96, 25.8, 26.66, 26.5, 25.15, 22.99, 19.86, 15.24, 12.98, 11.92, 10.91, 9.55002, 8.81, 7.92999]\n"
     ]
    }
   ],
   "source": [
    "#1 hr hrrr:\n",
    "with open('hrrr_f12_Newton_GA.txt') as f:\n",
    "    lst=[line.split()[4] for line in f]\n",
    "    temp_newt1=[]\n",
    "    for i in lst:\n",
    "        new=i.replace(',',\"\")\n",
    "        temp_newt1.append(new)\n",
    "    temp_newt1.pop(0)\n",
    "    temp_newt1=[float(x) for x in temp_newt1]\n",
    "    temp_newt1=temp_newt1[1410:1435]\n",
    "    #temp=temp[2015:2063]\n",
    "    print(temp_newt1)\n",
    "    #print(len(temp))\n",
    "#full time period is [2015:2112]"
   ]
  },
  {
   "cell_type": "code",
   "execution_count": 34,
   "id": "9851cf85",
   "metadata": {},
   "outputs": [
    {
     "name": "stdout",
     "output_type": "stream",
     "text": [
      "[7.9, 7.3, 6.0, 5.4, 4.9, 4.4, 4.0, 3.8, 4.9, 9.8, 14.8, 19.9, 24.5, 27.5, 29.6, 29.5, 27.9, 24.7, 19.6, 13.0, 10.1, 8.5, 7.4, 6.7, 5.8]\n"
     ]
    }
   ],
   "source": [
    "#Air Temp CRN:\n",
    "with open('CRNH0203-2022-GA_Newton_11_SW.txt') as f:\n",
    "    lst=[line.split()[20] for line in f]\n",
    "    #print(lst)\n",
    "    temp_crn_newt1=[]\n",
    "    for i in lst:\n",
    "        new=i.replace(',',\"\")\n",
    "        temp_crn_newt1.append(new)\n",
    "    temp_crn_newt1=[float(x) for x in temp_crn_newt1]\n",
    "    temp_crn_newt1=temp_crn_newt1[1420:1445]\n",
    "    print(temp_crn_newt1)\n",
    "    #print(len(temp_crn))\n",
    "    # print(temp_crn[2124])"
   ]
  },
  {
   "cell_type": "code",
   "execution_count": 35,
   "id": "f2141c03",
   "metadata": {},
   "outputs": [],
   "source": [
    "# difference1_newt = []\n",
    "\n",
    "# zip_object = zip(temp, temp_crn)\n",
    "# for temp_i, temp_crn_i in zip_object:\n",
    "#     difference1_newt.append(temp_i-temp_crn_i)\n",
    "\n",
    "# print(difference1_newt)"
   ]
  },
  {
   "cell_type": "markdown",
   "id": "409e3c59",
   "metadata": {},
   "source": [
    "<font size=\"3\">Salem, MO: 0600 UTC (12:00 am CST) 13 March 2022-0600 UTC (12:00 am CST) 14 March 2022</font>"
   ]
  },
  {
   "cell_type": "code",
   "execution_count": 36,
   "id": "8f9a8b38",
   "metadata": {},
   "outputs": [
    {
     "name": "stdout",
     "output_type": "stream",
     "text": [
      "[-1.04999, -0.72998, -0.630005, -0.549988, -0.559998, -0.47998, -0.5, -0.019989, 3.34, 6.87, 10.47, 14.41, 17.96, 19.9, 20.54, 20.33, 19.02, 16.63, 12.92, 10.62, 9.42999, 8.52002, 7.76001, 7.36002, 6.25]\n",
      "25\n"
     ]
    }
   ],
   "source": [
    "#1 hr hrrr:\n",
    "with open('hrrr_f12_Salem_MO.txt') as f:\n",
    "    lst=[line.split()[4] for line in f]\n",
    "    temp_sal2=[]\n",
    "    for i in lst:\n",
    "        new=i.replace(',',\"\")\n",
    "        temp_sal2.append(new)\n",
    "    temp_sal2.pop(0)\n",
    "    temp_sal2=[float(x) for x in temp_sal2]\n",
    "    temp_sal2=temp_sal2[1698:1723]\n",
    "    #temp=temp[2015:2063]\n",
    "    print(temp_sal2)\n",
    "    print(len(temp_sal2))\n",
    "#full time period is [2015:2112]"
   ]
  },
  {
   "cell_type": "code",
   "execution_count": 37,
   "id": "7cc3ea7c",
   "metadata": {},
   "outputs": [
    {
     "name": "stdout",
     "output_type": "stream",
     "text": [
      "[-4.1, -3.1, -2.2, -2.1, -1.8, -1.9, -2.2, -2.3, 1.9, 9.4, 16.1, 21.7, 26.1, 28.3, 28.4, 26.0, 22.6, 17.8, 12.2, 6.7, 4.3, 5.4, 5.0, 4.8, 3.8]\n",
      "25\n"
     ]
    }
   ],
   "source": [
    "#Air Temp CRN:\n",
    "with open('CRNH0203-2022-MO_Salem_10_W.txt') as f:\n",
    "    lst=[line.split()[20] for line in f]\n",
    "    #print(lst)\n",
    "    temp_crn_sal2=[]\n",
    "    for i in lst:\n",
    "        new=i.replace(',',\"\")\n",
    "        temp_crn_sal2.append(new)\n",
    "    temp_crn_sal2=[float(x) for x in temp_crn_sal2]\n",
    "    temp_crn_sal2=temp_crn_sal2[1709:1734]\n",
    "    print(temp_crn_sal2)\n",
    "    print(len(temp_crn_sal2))\n",
    "    # print(temp_crn[2124])"
   ]
  },
  {
   "cell_type": "code",
   "execution_count": 38,
   "id": "b732c951",
   "metadata": {},
   "outputs": [],
   "source": [
    "# difference1_sal = []\n",
    "\n",
    "# zip_object = zip(temp, temp_crn)\n",
    "# for temp_i, temp_crn_i in zip_object:\n",
    "#     difference1_sal.append(temp_i-temp_crn_i)\n",
    "\n",
    "# print(difference1_sal)"
   ]
  },
  {
   "cell_type": "markdown",
   "id": "c23a0832",
   "metadata": {},
   "source": [
    "<font size=\"3\">Batesville, AR: 0600 UTC (12:00 am CST) 01 March 2022-0600 UTC (12:00 am CST) 02 March 2022</font>"
   ]
  },
  {
   "cell_type": "code",
   "execution_count": 39,
   "id": "afca0eea",
   "metadata": {},
   "outputs": [
    {
     "name": "stdout",
     "output_type": "stream",
     "text": [
      "[-0.75, -0.579987, -0.559998, -0.579987, -0.570007, -0.540009, -0.579987, -0.160004, 4.09, 7.53, 10.79, 13.33, 15.15, 16.56, 17.33, 17.59, 16.57, 14.42, 10.72, 7.89999, 6.44, 5.63, 4.95001, 4.36002, 3.64001]\n",
      "25\n"
     ]
    }
   ],
   "source": [
    "#1 hr hrrr:\n",
    "with open('hrrr_f12_Batesville_AR.txt') as f:\n",
    "    lst=[line.split()[4] for line in f]\n",
    "    temp_bat2=[]\n",
    "    for i in lst:\n",
    "        new=i.replace(',',\"\")\n",
    "        temp_bat2.append(new)\n",
    "    temp_bat2.pop(0)\n",
    "    temp_bat2=[float(x) for x in temp_bat2]\n",
    "    temp_bat2=temp_bat2[1698:1723]\n",
    "#     x = np.array(temp)\n",
    "#     temp = ma.masked_array(x, mask=[0, 0, 0, 0, 0,0,0,0,0,0,0,0,0,0,0,0,0,0,0,0,0,1,0,0,0])\n",
    "    #temp=temp[2015:2063]\n",
    "    print(temp_bat2)\n",
    "    print(len(temp_bat2))\n",
    "#full time period is [2015:2112]"
   ]
  },
  {
   "cell_type": "code",
   "execution_count": 40,
   "id": "71b8963a",
   "metadata": {},
   "outputs": [
    {
     "name": "stdout",
     "output_type": "stream",
     "text": [
      "[-4.3, -2.4, -1.3, -1.1, -0.8, -0.9, -1.3, -1.3, 2.0, 6.9, 11.0, 14.7, 18.2, 19.5, 19.4, 18.5, 16.9, 14.1, 10.5, 6.5, 4.0, 4.7, 5.5, 5.6, 5.5]\n"
     ]
    }
   ],
   "source": [
    "#Air Temp CRN:\n",
    "with open('CRNH0203-2022-AR_Batesville_8_WNW.txt') as f:\n",
    "    lst=[line.split()[20] for line in f]\n",
    "    #print(lst)\n",
    "    temp_crn_bat2=[]\n",
    "    for i in lst:\n",
    "        new=i.replace(',',\"\")\n",
    "        temp_crn_bat2.append(new)\n",
    "    temp_crn_bat2=[float(x) for x in temp_crn_bat2]\n",
    "    temp_crn_bat2=temp_crn_bat2[1709:1734]\n",
    "#     y = np.array(temp_crn)\n",
    "#     temp_crn = ma.masked_array(y, mask=[0, 0, 0, 0, 0,0,0,0,0,0,0,0,0,0,0,0,0,0,0,0,0,1,0,0,0])\n",
    "    print(temp_crn_bat2)\n",
    "    #print(len(temp_crn))\n",
    "    # print(temp_crn[2124])"
   ]
  },
  {
   "cell_type": "code",
   "execution_count": 41,
   "id": "7b7cfa5d",
   "metadata": {},
   "outputs": [],
   "source": [
    "# difference1_bat = []\n",
    "\n",
    "# zip_object = zip(temp, temp_crn)\n",
    "# for temp_i, temp_crn_i in zip_object:\n",
    "#     difference1_bat.append(temp_i-temp_crn_i)\n",
    "\n",
    "# print(difference1_bat)"
   ]
  },
  {
   "cell_type": "markdown",
   "id": "16bf265f",
   "metadata": {},
   "source": [
    "<font size=\"3\">Lafayette, LA: 0600 UTC (12:00 am CST) 01 March 2022-0600 UTC (12:00 am CST) 02 March 2022</font>"
   ]
  },
  {
   "cell_type": "code",
   "execution_count": 42,
   "id": "b23c7950",
   "metadata": {},
   "outputs": [
    {
     "name": "stdout",
     "output_type": "stream",
     "text": [
      "[2.73001, 1.86002, 1.29001, 0.76001, 0.110016, -0.0700073, -0.359985, 0.820007, 6.41, 12.41, 17.21, 21.08, 23.69, 25.03, 24.89, 23.82, 20.81, 17.77, 14.1, 12.17, 10.99, 11.29, 11.36, 10.1, 10.66]\n"
     ]
    }
   ],
   "source": [
    "#1 hr hrrr:\n",
    "with open('hrrr_f12_Lafayette_LA.txt') as f:\n",
    "    lst=[line.split()[4] for line in f]\n",
    "    temp_laf2=[]\n",
    "    for i in lst:\n",
    "        new=i.replace(',',\"\")\n",
    "        temp_laf2.append(new)\n",
    "    temp_laf2.pop(0)\n",
    "    temp_laf2=[float(x) for x in temp_laf2]\n",
    "    temp_laf2=temp_laf2[1698:1723]\n",
    "    #temp=temp[2015:2063]\n",
    "    print(temp_laf2)\n",
    "    #print(len(temp))\n",
    "#full time period is [2015:2112]"
   ]
  },
  {
   "cell_type": "code",
   "execution_count": 43,
   "id": "dbdffe3b",
   "metadata": {},
   "outputs": [
    {
     "name": "stdout",
     "output_type": "stream",
     "text": [
      "[-1.4, -1.7, -2.6, -3.1, -3.6, -4.1, -3.9, -2.9, 1.7, 8.3, 15.0, 19.4, 22.9, 24.1, 23.9, 21.7, 19.4, 16.9, 12.4, 7.4, 4.7, 3.9, 5.5, 4.2, 5.5]\n"
     ]
    }
   ],
   "source": [
    "#Air Temp CRN:\n",
    "with open('CRNH0203-2022-LA_Lafayette_13_SE.txt') as f:\n",
    "    lst=[line.split()[20] for line in f]\n",
    "    #print(lst)\n",
    "    temp_crn_laf2=[]\n",
    "    for i in lst:\n",
    "        new=i.replace(',',\"\")\n",
    "        temp_crn_laf2.append(new)\n",
    "    temp_crn_laf2=[float(x) for x in temp_crn_laf2]\n",
    "    temp_crn_laf2=temp_crn_laf2[1709:1734]\n",
    "    print(temp_crn_laf2)\n",
    "    #print(len(temp_crn))\n",
    "    # print(temp_crn[2124])"
   ]
  },
  {
   "cell_type": "code",
   "execution_count": 44,
   "id": "07cf95c8",
   "metadata": {},
   "outputs": [],
   "source": [
    "# difference2_laf = []\n",
    "\n",
    "# zip_object = zip(temp, temp_crn)\n",
    "# for temp_i, temp_crn_i in zip_object:\n",
    "#     difference2_laf.append(temp_i-temp_crn_i)\n",
    "\n",
    "# print(difference2_laf)"
   ]
  },
  {
   "cell_type": "markdown",
   "id": "cda99a3a",
   "metadata": {},
   "source": [
    "<font size=\"3\">Monroe, LA: 0600 UTC (12:00 am CST) 01 March 2022-0600 UTC (12:00 am CST) 02 March 2022</font>"
   ]
  },
  {
   "cell_type": "code",
   "execution_count": 45,
   "id": "3c145693",
   "metadata": {},
   "outputs": [
    {
     "name": "stdout",
     "output_type": "stream",
     "text": [
      "[0.410004, -0.0400085, -0.359985, -0.759979, -1.10001, -1.07001, -0.970001, -0.380005, 3.64001, 8.27002, 12.63, 17.2, 20.46, 22.59, 22.9, 22.07, 20.13, 17.04, 13.2, 10.24, 8.64999, 7.72, 6.95001, 6.38, 6.01001]\n"
     ]
    }
   ],
   "source": [
    "#1 hr hrrr:\n",
    "with open('hrrr_f12_Monroe_LA.txt') as f:\n",
    "    lst=[line.split()[4] for line in f]\n",
    "    temp_mon2=[]\n",
    "    for i in lst:\n",
    "        new=i.replace(',',\"\")\n",
    "        temp_mon2.append(new)\n",
    "    temp_mon2.pop(0)\n",
    "    temp_mon2=[float(x) for x in temp_mon2]\n",
    "    temp_mon2=temp_mon2[1698:1723]\n",
    "    #temp=temp[2015:2063]\n",
    "    print(temp_mon2)\n",
    "    #print(len(temp))\n",
    "#full time period is [2015:2112]"
   ]
  },
  {
   "cell_type": "code",
   "execution_count": 46,
   "id": "d11b7824",
   "metadata": {},
   "outputs": [
    {
     "name": "stdout",
     "output_type": "stream",
     "text": [
      "[-1.7, -2.3, -2.5, -2.6, -2.8, -3.0, -3.2, -2.9, 1.4, 6.3, 11.0, 14.9, 17.6, 19.8, 20.7, 19.9, 19.3, 15.6, 11.9, 7.5, 4.3, 2.4, 1.4, 2.0, 1.9]\n"
     ]
    }
   ],
   "source": [
    "#Air Temp CRN:\n",
    "with open('CRNH0203-2022-LA_Monroe_26_N.txt') as f:\n",
    "    lst=[line.split()[20] for line in f]\n",
    "    #print(lst)\n",
    "    temp_crn_mon2=[]\n",
    "    for i in lst:\n",
    "        new=i.replace(',',\"\")\n",
    "        temp_crn_mon2.append(new)\n",
    "    temp_crn_mon2=[float(x) for x in temp_crn_mon2]\n",
    "    temp_crn_mon2=temp_crn_mon2[1709:1734]\n",
    "    print(temp_crn_mon2)\n",
    "    #print(len(temp_crn))\n",
    "    # print(temp_crn[2124])"
   ]
  },
  {
   "cell_type": "code",
   "execution_count": 47,
   "id": "e5057ed5",
   "metadata": {},
   "outputs": [],
   "source": [
    "# difference2_mon = []\n",
    "\n",
    "# zip_object = zip(temp, temp_crn)\n",
    "# for temp_i, temp_crn_i in zip_object:\n",
    "#     difference2_mon.append(temp_i-temp_crn_i)\n",
    "\n",
    "# print(difference2_mon)"
   ]
  },
  {
   "cell_type": "markdown",
   "id": "50b6ccdc",
   "metadata": {},
   "source": [
    "<font size=\"3\">Holly Springs, MS: 0600 UTC (12:00 am CST) 01 March 2022-0600 UTC (12:00 am CST) 02 March 2022</font>"
   ]
  },
  {
   "cell_type": "code",
   "execution_count": 48,
   "id": "04968dd0",
   "metadata": {},
   "outputs": [
    {
     "name": "stdout",
     "output_type": "stream",
     "text": [
      "[-0.850006, -0.829987, -0.919983, -0.899994, -0.919983, -0.859985, -0.889984, -0.470001, 2.47, 6.12, 9.72, 13.14, 16.2, 18.19, 18.62, 18.22, 16.38, 13.73, 10.06, 7.79001, 6.67001, 5.81, 5.11002, 4.5, 3.67999]\n"
     ]
    }
   ],
   "source": [
    "#1 hr hrrr:\n",
    "with open('hrrr_f12_Holly Springs_MS.txt') as f:\n",
    "    lst=[line.split()[4] for line in f]\n",
    "    temp_hol2=[]\n",
    "    for i in lst:\n",
    "        new=i.replace(',',\"\")\n",
    "        temp_hol2.append(new)\n",
    "    temp_hol2.pop(0)\n",
    "    temp_hol2=[float(x) for x in temp_hol2]\n",
    "    temp_hol2=temp_hol2[1698:1723]\n",
    "    #temp=temp[2015:2063]\n",
    "    print(temp_hol2)\n",
    "    #print(len(temp))\n",
    "#full time period is [2015:2112]"
   ]
  },
  {
   "cell_type": "code",
   "execution_count": 49,
   "id": "6e5673eb",
   "metadata": {},
   "outputs": [
    {
     "name": "stdout",
     "output_type": "stream",
     "text": [
      "[-3.9, -4.1, -4.1, -4.1, -4.2, -4.2, -3.9, -3.5, -1.1, 4.8, 11.4, 15.5, 19.0, 20.6, 21.0, 20.1, 17.5, 14.0, 9.2, 4.7, 3.1, 2.4, 1.9, 1.3, 1.5]\n"
     ]
    }
   ],
   "source": [
    "#Air Temp CRN:\n",
    "with open('CRNH0203-2022-MS_Holly_Springs_4_N.txt') as f:\n",
    "    lst=[line.split()[20] for line in f]\n",
    "    #print(lst)\n",
    "    temp_crn_hol2=[]\n",
    "    for i in lst:\n",
    "        new=i.replace(',',\"\")\n",
    "        temp_crn_hol2.append(new)\n",
    "    temp_crn_hol2=[float(x) for x in temp_crn_hol2]\n",
    "    temp_crn_hol2=temp_crn_hol2[1709:1734]\n",
    "    print(temp_crn_hol2)\n",
    "    #print(len(temp_crn))\n",
    "    # print(temp_crn[2124])"
   ]
  },
  {
   "cell_type": "code",
   "execution_count": 50,
   "id": "b1ba34c2",
   "metadata": {},
   "outputs": [],
   "source": [
    "# difference2_hol = []\n",
    "\n",
    "# zip_object = zip(temp, temp_crn)\n",
    "# for temp_i, temp_crn_i in zip_object:\n",
    "#     difference2_hol.append(temp_i-temp_crn_i)\n",
    "\n",
    "# print(difference2_hol)"
   ]
  },
  {
   "cell_type": "markdown",
   "id": "9dd596b5",
   "metadata": {},
   "source": [
    "<font size=\"3\">Newton, MS: 0600 UTC (12:00 am CST) 01 March 2022-0600 UTC (12:00 am CST) 02 March 2022</font>"
   ]
  },
  {
   "cell_type": "code",
   "execution_count": 51,
   "id": "67050150",
   "metadata": {},
   "outputs": [
    {
     "name": "stdout",
     "output_type": "stream",
     "text": [
      "[-1.45999, -1.78, -4.64999, -5.42999, -5.42999, -5.38998, -5.39999, -3.07999, 4.37, 10.19, 14.97, 18.33, 20.21, 21.64, 21.54, 20.55, 18.55, 15.45, 11.62, 9.01001, 7.39999, 6.37, 5.38, 4.51001, 3.53]\n"
     ]
    }
   ],
   "source": [
    "#1 hr hrrr:\n",
    "with open('hrrr_f12_Newton_MS.txt') as f:\n",
    "    lst=[line.split()[4] for line in f]\n",
    "    temp_new2=[]\n",
    "    for i in lst:\n",
    "        new=i.replace(',',\"\")\n",
    "        temp_new2.append(new)\n",
    "    temp_new2.pop(0)\n",
    "    temp_new2=[float(x) for x in temp_new2]\n",
    "    temp_new2=temp_new2[1698:1723]\n",
    "    #temp=temp[2015:2063]\n",
    "    print(temp_new2)\n",
    "    #print(len(temp))\n",
    "#full time period is [2015:2112]"
   ]
  },
  {
   "cell_type": "code",
   "execution_count": 52,
   "id": "9793ccfe",
   "metadata": {},
   "outputs": [
    {
     "name": "stdout",
     "output_type": "stream",
     "text": [
      "[-3.5, -3.9, -4.3, -4.6, -4.9, -5.1, -5.2, -4.5, 1.7, 8.0, 14.7, 19.2, 22.1, 23.7, 24.4, 24.3, 21.7, 17.9, 11.9, 5.8, 3.4, 2.2, 1.2, 0.6, 0.1]\n"
     ]
    }
   ],
   "source": [
    "#Air Temp CRN:\n",
    "with open('CRNH0203-2022-MS_Newton_5_ENE.txt') as f:\n",
    "    lst=[line.split()[20] for line in f]\n",
    "    #print(lst)\n",
    "    temp_crn_new2=[]\n",
    "    for i in lst:\n",
    "        new=i.replace(',',\"\")\n",
    "        temp_crn_new2.append(new)\n",
    "    temp_crn_new2=[float(x) for x in temp_crn_new2]\n",
    "    temp_crn_new2=temp_crn_new2[1709:1734]\n",
    "    print(temp_crn_new2)\n",
    "    #print(len(temp_crn))\n",
    "    # print(temp_crn[2124])"
   ]
  },
  {
   "cell_type": "code",
   "execution_count": 53,
   "id": "e8bd78b0",
   "metadata": {},
   "outputs": [],
   "source": [
    "# difference2_new = []\n",
    "\n",
    "# zip_object = zip(temp, temp_crn)\n",
    "# for temp_i, temp_crn_i in zip_object:\n",
    "#     difference2_new.append(temp_i-temp_crn_i)\n",
    "\n",
    "# print(difference2_new)"
   ]
  },
  {
   "cell_type": "markdown",
   "id": "ec499d8b",
   "metadata": {},
   "source": [
    "<font size=\"3\">Gainesville, AL: 0600 UTC (12:00 am CST) 01 March 2022-0600 UTC (12:00 am CST) 02 March 2022</font>"
   ]
  },
  {
   "cell_type": "code",
   "execution_count": 54,
   "id": "e9f22db0",
   "metadata": {},
   "outputs": [],
   "source": [
    "# #1 hr hrrr:\n",
    "# with open('hrrr_f12_Gainesville_AL.txt') as f:\n",
    "#     lst=[line.split()[4] for line in f]\n",
    "#     temp=[]\n",
    "#     for i in lst:\n",
    "#         new=i.replace(',',\"\")\n",
    "#         temp.append(new)\n",
    "#     temp.pop(0)\n",
    "#     temp=[float(x) for x in temp]\n",
    "#     temp=temp[1698:1723]\n",
    "#     #temp=temp[2015:2063]\n",
    "#     print(temp)\n",
    "#     #print(len(temp))\n",
    "# #full time period is [2015:2112]"
   ]
  },
  {
   "cell_type": "code",
   "execution_count": 55,
   "id": "de89a88f",
   "metadata": {},
   "outputs": [],
   "source": [
    "# #Air Temp CRN:\n",
    "# with open('CRNH0203-2022-AL_Gainesville_2_NE.txt') as f:\n",
    "#     lst=[line.split()[20] for line in f]\n",
    "#     #print(lst)\n",
    "#     temp_crn=[]\n",
    "#     for i in lst:\n",
    "#         new=i.replace(',',\"\")\n",
    "#         temp_crn.append(new)\n",
    "#     temp_crn=[float(x) for x in temp_crn]\n",
    "#     temp_crn=temp_crn[1698:1723]\n",
    "#     print(temp_crn)\n",
    "#     #print(len(temp_crn))\n",
    "#     # print(temp_crn[2124])"
   ]
  },
  {
   "cell_type": "code",
   "execution_count": 56,
   "id": "2d1d92b8",
   "metadata": {},
   "outputs": [],
   "source": [
    "# difference2_gai = []\n",
    "\n",
    "# zip_object = zip(temp, temp_crn)\n",
    "# for temp_i, temp_crn_i in zip_object:\n",
    "#     difference2_gai.append(temp_i-temp_crn_i)\n",
    "\n",
    "# print(difference2_gai)"
   ]
  },
  {
   "cell_type": "markdown",
   "id": "4019fb67",
   "metadata": {},
   "source": [
    "<font size=\"3\">Fairhope, AL: 0600 UTC (12:00 am CST) 01 March 2022-0600 UTC (12:00 am CST) 02 March 2022</font>"
   ]
  },
  {
   "cell_type": "code",
   "execution_count": 57,
   "id": "c7e8255a",
   "metadata": {},
   "outputs": [
    {
     "name": "stdout",
     "output_type": "stream",
     "text": [
      "[1.55002, 1.14001, 0.580017, 0.200012, -0.320007, -0.779999, -1.07999, 1.13, 5.97, 10.6, 14.64, 18.13, 20.24, 21.32, 20.92, 19.22, 17.26, 14.01, 10.4, 8.42001, 6.77002, 5.53, 4.70001, 4.10001, 3.61002]\n"
     ]
    }
   ],
   "source": [
    "#1 hr hrrr:\n",
    "with open('hrrr_f12_Fairhope_AL.txt') as f:\n",
    "    lst=[line.split()[4] for line in f]\n",
    "    temp_fai2=[]\n",
    "    for i in lst:\n",
    "        new=i.replace(',',\"\")\n",
    "        temp_fai2.append(new)\n",
    "    temp_fai2.pop(0)\n",
    "    temp_fai2=[float(x) for x in temp_fai2]\n",
    "    temp_fai2=temp_fai2[1698:1723]\n",
    "    #temp=temp[2015:2063]\n",
    "    print(temp_fai2)\n",
    "    #print(len(temp))\n",
    "#full time period is [2015:2112]"
   ]
  },
  {
   "cell_type": "code",
   "execution_count": 58,
   "id": "2bb7c0bc",
   "metadata": {},
   "outputs": [
    {
     "name": "stdout",
     "output_type": "stream",
     "text": [
      "[-1.3, -1.6, -3.9, -5.0, -3.9, -4.2, -4.0, -2.2, 4.6, 13.1, 18.1, 23.4, 28.0, 26.4, 24.3, 22.0, 18.3, 13.2, 7.0, 1.9, -0.4, -1.1, -1.6, -2.0, -2.4]\n"
     ]
    }
   ],
   "source": [
    "#Air Temp CRN:\n",
    "with open('CRNH0203-2022-AL_Fairhope_3_NE.txt') as f:\n",
    "    lst=[line.split()[20] for line in f]\n",
    "    #print(lst)\n",
    "    temp_crn_fai2=[]\n",
    "    for i in lst:\n",
    "        new=i.replace(',',\"\")\n",
    "        temp_crn_fai2.append(new)\n",
    "    temp_crn_fai2=[float(x) for x in temp_crn_fai2]\n",
    "    temp_crn_fai2=temp_crn_fai2[1709:1734]\n",
    "    print(temp_crn_fai2)\n",
    "    #print(len(temp_crn))\n",
    "    # print(temp_crn[2124])"
   ]
  },
  {
   "cell_type": "code",
   "execution_count": 59,
   "id": "e99e35e0",
   "metadata": {},
   "outputs": [],
   "source": [
    "# difference2_fai = []\n",
    "\n",
    "# zip_object = zip(temp, temp_crn)\n",
    "# for temp_i, temp_crn_i in zip_object:\n",
    "#     difference2_fai.append(temp_i-temp_crn_i)\n",
    "\n",
    "# print(difference2_fai)"
   ]
  },
  {
   "cell_type": "markdown",
   "id": "cb09fde7",
   "metadata": {},
   "source": [
    "<font size=\"3\">**Selma, AL: 0600 UTC (12:00 am CST) 01 March 2022-0600 UTC (12:00 am CST) 02 March 2022</font>"
   ]
  },
  {
   "cell_type": "code",
   "execution_count": 60,
   "id": "fe2b2257",
   "metadata": {},
   "outputs": [
    {
     "name": "stdout",
     "output_type": "stream",
     "text": [
      "[-0.519989, -0.529999, -0.559998, -0.48999, -0.509979, -0.540009, -0.519989, 0.740021, 4.33002, 7.64001, 10.63, 13.06, 14.44, 15.36, 15.58, 15.01, 13.8, 11.94, 8.56, 6.36002, 5.51001, 4.84, 4.39999, 3.60001, 2.56]\n",
      "[-1.2, -1.8, -2.2, -2.7, -3.2, -3.5, -3.6, -2.4, 2.9, 8.4, 13.4, 17.1, 19.8, 21.5, 21.7, 21.5, 19.5, 16.1, 13.2, 8.6, 5.9, 4.6, 3.6, 2.9, 2.4]\n"
     ]
    }
   ],
   "source": [
    "#1 hr hrrr:\n",
    "import numpy as np\n",
    "import numpy.ma as ma\n",
    "with open('hrrr_f12_Selma_AL.txt') as f:\n",
    "    lst=[line.split()[4] for line in f]\n",
    "    temp_sel2=[]\n",
    "    for i in lst:\n",
    "        new=i.replace(',',\"\")\n",
    "        temp_sel2.append(new)\n",
    "    temp_sel2.pop(0)\n",
    "    temp_sel2=[float(x) for x in temp_sel2]\n",
    "    temp_sel2=temp_sel2[1698:1723]\n",
    "\n",
    "#     x = np.array(temp)\n",
    "#     temp = ma.masked_array(x, mask=[0, 0, 0, 0, 0,0,0,0,0,0,0,0,0,0,0,0,0,1,1,1,1,0,0,0,0])\n",
    "    #print(temp)\n",
    "#Air Temp CRN:\n",
    "with open('CRNH0203-2022-AL_Selma_13_WNW.txt') as f:\n",
    "    lst=[line.split()[20] for line in f]\n",
    "    #print(lst)\n",
    "    temp_crn_sel2=[]\n",
    "    for i in lst:\n",
    "        new=i.replace(',',\"\")\n",
    "        temp_crn_sel2.append(new)\n",
    "    temp_crn_sel2=[float(x) for x in temp_crn_sel2]\n",
    "    temp_crn_sel2=temp_crn_sel2[1709:1734]\n",
    "#     y = np.array(temp_crn)\n",
    "#     temp_crn = ma.masked_array(y, mask=[0, 0, 0, 0, 0,0,0,0,0,0,0,0,0,0,0,0,0,1,1,1,1,0,0,0,0])\n",
    "    print(temp_sel2)\n",
    "    #print(len(temp))\n",
    "    print(temp_crn_sel2)\n",
    "    #print(len(temp_crn))\n",
    "#full time period is [2015:2112]\n",
    "# difference2_sel = []\n",
    "\n",
    "# zip_object = zip(temp, temp_crn)\n",
    "# for temp_i, temp_crn_i in zip_object:\n",
    "#     difference2_sel.append(temp_i-temp_crn_i)\n",
    "\n",
    "# print(difference2_sel)\n",
    "# print(len(difference2_sel))"
   ]
  },
  {
   "cell_type": "markdown",
   "id": "9767e5fd",
   "metadata": {},
   "source": [
    "<font size=\"3\">Bowling Green, KY: 0600 UTC (12:00 am CST) 01 March 2022-0600 UTC (12:00 am CST) 02 March 2022</font>"
   ]
  },
  {
   "cell_type": "code",
   "execution_count": 61,
   "id": "a031b19f",
   "metadata": {},
   "outputs": [
    {
     "name": "stdout",
     "output_type": "stream",
     "text": [
      "[-5.41998, -5.37, -5.51999, -6.04999, -6.19, -5.44, -5.63998, -3.57001, -1.38998, -0.369995, 4.57001, 7.64001, 10.39, 12.27, 13.52, 13.71, 12.37, 10.22, 7.25, 5.60001, 4.84, 4.07001, 3.31, 2.91, 2.30002]\n"
     ]
    }
   ],
   "source": [
    "#1 hr hrrr:\n",
    "with open('hrrr_f12_Bowling Green_KY.txt') as f:\n",
    "    lst=[line.split()[4] for line in f]\n",
    "    temp_bow2=[]\n",
    "    for i in lst:\n",
    "        new=i.replace(',',\"\")\n",
    "        temp_bow2.append(new)\n",
    "    temp_bow2.pop(0)\n",
    "    temp_bow2=[float(x) for x in temp_bow2]\n",
    "    temp_bow2=temp_bow2[1698:1723]\n",
    "    #temp=temp[2015:2063]\n",
    "    print(temp_bow2)\n",
    "    #print(len(temp))\n",
    "#full time period is [2015:2112]"
   ]
  },
  {
   "cell_type": "code",
   "execution_count": 62,
   "id": "f404948b",
   "metadata": {},
   "outputs": [
    {
     "name": "stdout",
     "output_type": "stream",
     "text": [
      "[-12.0, -11.4, -11.3, -11.4, -9.9, -6.3, -5.6, -5.0, -3.8, -1.9, 0.2, 3.1, 8.3, 14.2, 16.5, 17.1, 14.0, 10.9, 6.1, 1.4, 0.2, 0.8, 1.3, 1.9, 1.5]\n"
     ]
    }
   ],
   "source": [
    "#Air Temp CRN:\n",
    "with open('CRNH0203-2022-KY_Bowling_Green_21_NNE.txt') as f:\n",
    "    lst=[line.split()[20] for line in f]\n",
    "    #print(lst)\n",
    "    temp_crn_bow2=[]\n",
    "    for i in lst:\n",
    "        new=i.replace(',',\"\")\n",
    "        temp_crn_bow2.append(new)\n",
    "    temp_crn_bow2=[float(x) for x in temp_crn_bow2]\n",
    "    temp_crn_bow2=temp_crn_bow2[1709:1734]\n",
    "    print(temp_crn_bow2)\n",
    "    #print(len(temp_crn))\n",
    "    # print(temp_crn[2124])"
   ]
  },
  {
   "cell_type": "code",
   "execution_count": 63,
   "id": "d326cffb",
   "metadata": {},
   "outputs": [],
   "source": [
    "# difference2_bow = []\n",
    "\n",
    "# zip_object = zip(temp, temp_crn)\n",
    "# for temp_i, temp_crn_i in zip_object:\n",
    "#     difference2_bow.append(temp_i-temp_crn_i)\n",
    "\n",
    "# print(difference2_bow)"
   ]
  },
  {
   "cell_type": "markdown",
   "id": "cf477d73",
   "metadata": {},
   "source": [
    "<font size=\"3\">Gadsden, AL: 0600 UTC (12:00 am CST) 01 March 2022-0600 UTC (12:00 am CST) 02 March 2022</font>"
   ]
  },
  {
   "cell_type": "code",
   "execution_count": 64,
   "id": "8d9653aa",
   "metadata": {},
   "outputs": [
    {
     "name": "stdout",
     "output_type": "stream",
     "text": [
      "[-0.970001, -0.98999, -1.09, -1.41, -1.89999, -3.75998, -3.50998, -0.570007, 2.17001, 5.07001, 7.92999, 10.45, 12.1, 13.08, 13.49, 13.03, 11.35, 8.84, 5.74002, 4.26001, 3.64999, 3.07001, 2.16, 1.52002, 0.929993]\n"
     ]
    }
   ],
   "source": [
    "#1 hr hrrr:\n",
    "with open('hrrr_f12_Gadsden_AL.txt') as f:\n",
    "    lst=[line.split()[4] for line in f]\n",
    "    temp_gad2=[]\n",
    "    for i in lst:\n",
    "        new=i.replace(',',\"\")\n",
    "        temp_gad2.append(new)\n",
    "    temp_gad2.pop(0)\n",
    "    temp_gad2=[float(x) for x in temp_gad2]\n",
    "    temp_gad2=temp_gad2[1698:1723]\n",
    "#     x = np.array(temp)\n",
    "#     temp = ma.masked_array(x, mask=[0, 0, 0, 0, 0,0,0,0,1,0,0,0,0,0,0,0,0,0,0,0,0,0,0,0,0])\n",
    "    #temp=temp[2015:2063]\n",
    "    print(temp_gad2)\n",
    "    #print(len(temp))\n",
    "#full time period is [2015:2112]"
   ]
  },
  {
   "cell_type": "code",
   "execution_count": 65,
   "id": "d942ec7d",
   "metadata": {},
   "outputs": [
    {
     "name": "stdout",
     "output_type": "stream",
     "text": [
      "[-4.6, -5.1, -5.5, -5.8, -5.6, -5.6, -5.8, -3.6, 0.7, 6.2, 10.5, 14.5, 17.4, 18.8, 18.8, 17.6, 15.0, 11.6, 7.6, 3.8, 3.3, 3.1, 2.6, 2.3, 1.5]\n"
     ]
    }
   ],
   "source": [
    "#Air Temp CRN:\n",
    "with open('CRNH0203-2022-AL_Gadsden_19_N.txt') as f:\n",
    "    lst=[line.split()[20] for line in f]\n",
    "    #print(lst)\n",
    "    temp_crn_gad2=[]\n",
    "    for i in lst:\n",
    "        new=i.replace(',',\"\")\n",
    "        temp_crn_gad2.append(new)\n",
    "    temp_crn_gad2=[float(x) for x in temp_crn_gad2]\n",
    "    temp_crn_gad2=temp_crn_gad2[1709:1734]\n",
    "#     y = np.array(temp_crn)\n",
    "#     temp_crn = ma.masked_array(y, mask=[0, 0, 0, 0, 0,0,0,0,1,0,0,0,0,0,0,0,0,0,0,0,0,0,0,0,0])\n",
    "    print(temp_crn_gad2)\n",
    "    #print(len(temp_crn))\n",
    "    # print(temp_crn[2124])"
   ]
  },
  {
   "cell_type": "code",
   "execution_count": 66,
   "id": "254e1e52",
   "metadata": {},
   "outputs": [],
   "source": [
    "# difference2_gad = []\n",
    "\n",
    "# zip_object = zip(temp, temp_crn)\n",
    "# for temp_i, temp_crn_i in zip_object:\n",
    "#     difference2_gad.append(temp_i-temp_crn_i)\n",
    "\n",
    "# print(difference2_gad)"
   ]
  },
  {
   "cell_type": "markdown",
   "id": "75862889",
   "metadata": {},
   "source": [
    "<font size=\"3\">Newton, GA: 0600 UTC (12:00 am CST) 01 March 2022-0600 UTC (12:00 am CST) 02 March 2022</font>"
   ]
  },
  {
   "cell_type": "code",
   "execution_count": 67,
   "id": "06608db6",
   "metadata": {},
   "outputs": [
    {
     "name": "stdout",
     "output_type": "stream",
     "text": [
      "[-0.309998, -0.540009, -0.910004, -0.899994, -0.919983, -0.970001, -0.970001, 0.630005, 4.0, 7.59, 11.0, 13.95, 17.01, 19.11, 19.45, 18.58, 16.54, 13.39, 9.17001, 7.66, 6.69, 5.30002, 4.22, 3.47, 3.13]\n"
     ]
    }
   ],
   "source": [
    "#1 hr hrrr:\n",
    "with open('hrrr_f12_Newton_GA.txt') as f:\n",
    "    lst=[line.split()[4] for line in f]\n",
    "    temp_newt2=[]\n",
    "    for i in lst:\n",
    "        new=i.replace(',',\"\")\n",
    "        temp_newt2.append(new)\n",
    "    temp_newt2.pop(0)\n",
    "    temp_newt2=[float(x) for x in temp_newt2]\n",
    "    temp_newt2=temp_newt2[1698:1723]\n",
    "    #temp=temp[2015:2063]\n",
    "    print(temp_newt2)\n",
    "    #print(len(temp))\n",
    "#full time period is [2015:2112]"
   ]
  },
  {
   "cell_type": "code",
   "execution_count": 68,
   "id": "9adb1c44",
   "metadata": {},
   "outputs": [
    {
     "name": "stdout",
     "output_type": "stream",
     "text": [
      "[1.5, 1.0, 0.5, -0.1, -0.5, -0.8, -1.3, -1.5, -0.2, 4.5, 10.1, 15.5, 19.7, 23.2, 24.8, 24.9, 23.3, 20.4, 16.1, 10.2, 6.8, 5.6, 4.7, 4.0, 3.5]\n"
     ]
    }
   ],
   "source": [
    "#Air Temp CRN:\n",
    "with open('CRNH0203-2022-GA_Newton_11_SW.txt') as f:\n",
    "    lst=[line.split()[20] for line in f]\n",
    "    #print(lst)\n",
    "    temp_crn_newt2=[]\n",
    "    for i in lst:\n",
    "        new=i.replace(',',\"\")\n",
    "        temp_crn_newt2.append(new)\n",
    "    temp_crn_newt2=[float(x) for x in temp_crn_newt2]\n",
    "    temp_crn_newt2=temp_crn_newt2[1708:1733]\n",
    "    print(temp_crn_newt2)\n",
    "    #print(len(temp_crn))\n",
    "    # print(temp_crn[2124])"
   ]
  },
  {
   "cell_type": "code",
   "execution_count": 69,
   "id": "405581a9",
   "metadata": {},
   "outputs": [],
   "source": [
    "# difference2_newt = []\n",
    "\n",
    "# zip_object = zip(temp, temp_crn)\n",
    "# for temp_i, temp_crn_i in zip_object:\n",
    "#     difference2_newt.append(temp_i-temp_crn_i)\n",
    "\n",
    "# print(difference2_newt)"
   ]
  },
  {
   "cell_type": "markdown",
   "id": "70443283",
   "metadata": {},
   "source": [
    "<font size=\"3\">Salem, MO: 0500 UTC (12:00 am CDT) 20 March 2022-0500 UTC (12:00 am CDT) 21 March 2022</font>"
   ]
  },
  {
   "cell_type": "code",
   "execution_count": 70,
   "id": "2d0299c0",
   "metadata": {},
   "outputs": [
    {
     "name": "stdout",
     "output_type": "stream",
     "text": [
      "[3.33002, 2.69, 2.35001, 1.99002, 1.81, 1.89999, 1.49002, 1.51001, 2.77002, 7.41, 11.98, 15.14, 17.37, 19.17, 20.91, 22.66, 23.06, 21.71, 19.3, 14.89, 11.9, 10.34, 9.76001, 9.38, 9.39999]\n"
     ]
    }
   ],
   "source": [
    "#1 hr hrrr:\n",
    "with open('hrrr_f12_Salem_MO.txt') as f:\n",
    "    lst=[line.split()[4] for line in f]\n",
    "    temp_sal3=[]\n",
    "    for i in lst:\n",
    "        new=i.replace(',',\"\")\n",
    "        temp_sal3.append(new)\n",
    "    temp_sal3.pop(0)\n",
    "    temp_sal3=[float(x) for x in temp_sal3]\n",
    "    temp_sal3=temp_sal3[1865:1890]\n",
    "    #temp=temp[2015:2063]\n",
    "    print(temp_sal3)\n",
    "#full time period is [2015:2112]"
   ]
  },
  {
   "cell_type": "code",
   "execution_count": 71,
   "id": "c8ed8705",
   "metadata": {},
   "outputs": [
    {
     "name": "stdout",
     "output_type": "stream",
     "text": [
      "[-1.9, -2.4, -2.8, -2.9, -2.9, -3.1, -3.6, -3.8, -2.8, 3.8, 13.2, 19.1, 23.9, 28.3, 30.6, 32.1, 30.6, 26.0, 21.5, 14.9, 6.3, 3.9, 4.8, 6.9, 6.8]\n",
      "25\n"
     ]
    }
   ],
   "source": [
    "#Air Temp CRN:\n",
    "with open('CRNH0203-2022-MO_Salem_10_W.txt') as f:\n",
    "    lst=[line.split()[20] for line in f]\n",
    "    #print(lst)\n",
    "    temp_crn_sal3=[]\n",
    "    for i in lst:\n",
    "        new=i.replace(',',\"\")\n",
    "        temp_crn_sal3.append(new)\n",
    "    temp_crn_sal3=[float(x) for x in temp_crn_sal3]\n",
    "    temp_crn_sal3=temp_crn_sal3[1876:1901]\n",
    "    print(temp_crn_sal3)\n",
    "    print(len(temp_crn_sal3))\n",
    "    # print(temp_crn[2124])"
   ]
  },
  {
   "cell_type": "code",
   "execution_count": 72,
   "id": "e8c3c3a5",
   "metadata": {},
   "outputs": [],
   "source": [
    "# difference3_sal = []\n",
    "\n",
    "# zip_object = zip(temp, temp_crn)\n",
    "# for temp_i, temp_crn_i in zip_object:\n",
    "#     difference3_sal.append(temp_i-temp_crn_i)\n",
    "\n",
    "# print(difference3_sal)"
   ]
  },
  {
   "cell_type": "markdown",
   "id": "176d67cb",
   "metadata": {},
   "source": [
    "<font size=\"3\">Batesville, AR: 0600 UTC (12:00 am CST) 01 March 2022-0600 UTC (12:00 am CST) 02 March 2022</font>"
   ]
  },
  {
   "cell_type": "code",
   "execution_count": 73,
   "id": "51a628f5",
   "metadata": {},
   "outputs": [
    {
     "name": "stdout",
     "output_type": "stream",
     "text": [
      "[7.03, 6.38, 5.89001, 5.48001, 5.08002, 4.67001, 4.48001, 4.10001, 5.67999, 10.78, 15.08, 18.56, 21.94, 24.33, 26.53, 26.93, 26.43, 24.74, 21.93, 17.86, 14.38, 12.72, 11.53, 11.04, 10.31]\n",
      "25\n"
     ]
    }
   ],
   "source": [
    "#1 hr hrrr:\n",
    "with open('hrrr_f12_Batesville_AR.txt') as f:\n",
    "    lst=[line.split()[4] for line in f]\n",
    "    temp_bat3=[]\n",
    "    for i in lst:\n",
    "        new=i.replace(',',\"\")\n",
    "        temp_bat3.append(new)\n",
    "    temp_bat3.pop(0)\n",
    "    temp_bat3=[float(x) for x in temp_bat3]\n",
    "    temp_bat3=temp_bat3[1865:1890]\n",
    "#     x = np.array(temp)\n",
    "#     temp = ma.masked_array(x, mask=[0, 0, 0, 0, 0,0,0,0,0,0,0,0,0,0,0,0,0,0,0,0,0,1,0,0,0])\n",
    "    #temp=temp[2015:2063]\n",
    "    print(temp_bat3)\n",
    "    print(len(temp_bat3))\n",
    "#full time period is [2015:2112]"
   ]
  },
  {
   "cell_type": "code",
   "execution_count": 74,
   "id": "e5b7984c",
   "metadata": {},
   "outputs": [
    {
     "name": "stdout",
     "output_type": "stream",
     "text": [
      "[2.3, 2.0, 1.3, 1.0, 0.7, 0.4, 0.3, 0.0, 0.5, 5.4, 13.8, 17.1, 21.1, 24.7, 26.3, 25.5, 23.6, 21.2, 19.1, 15.0, 9.3, 10.4, 7.7, 6.5, 6.4]\n"
     ]
    }
   ],
   "source": [
    "#Air Temp CRN:\n",
    "with open('CRNH0203-2022-AR_Batesville_8_WNW.txt') as f:\n",
    "    lst=[line.split()[20] for line in f]\n",
    "    #print(lst)\n",
    "    temp_crn_bat3=[]\n",
    "    for i in lst:\n",
    "        new=i.replace(',',\"\")\n",
    "        temp_crn_bat3.append(new)\n",
    "    temp_crn_bat3=[float(x) for x in temp_crn_bat3]\n",
    "    temp_crn_bat3=temp_crn_bat3[1876:1901]\n",
    "#     y = np.array(temp_crn)\n",
    "#     temp_crn = ma.masked_array(y, mask=[0, 0, 0, 0, 0,0,0,0,0,0,0,0,0,0,0,0,0,0,0,0,0,1,0,0,0])\n",
    "    print(temp_crn_bat3)\n",
    "    #print(len(temp_crn))\n",
    "    # print(temp_crn[2124])"
   ]
  },
  {
   "cell_type": "code",
   "execution_count": 75,
   "id": "19589d21",
   "metadata": {},
   "outputs": [],
   "source": [
    "# difference3_bat = []\n",
    "\n",
    "# zip_object = zip(temp, temp_crn)\n",
    "# for temp_i, temp_crn_i in zip_object:\n",
    "#     difference3_bat.append(temp_i-temp_crn_i)\n",
    "\n",
    "# print(difference3_bat)"
   ]
  },
  {
   "cell_type": "markdown",
   "id": "9ac05a40",
   "metadata": {},
   "source": [
    "<font size=\"3\">Lafayette, LA: 0600 UTC (12:00 am CST) 01 March 2022-0600 UTC (12:00 am CST) 02 March 2022</font>"
   ]
  },
  {
   "cell_type": "code",
   "execution_count": 76,
   "id": "f280badb",
   "metadata": {},
   "outputs": [
    {
     "name": "stdout",
     "output_type": "stream",
     "text": [
      "[10.94, 10.05, 9.24002, 8.42999, 7.56, 7.28, 7.0, 6.38, 8.47, 15.34, 22.16, 26.28, 29.57, 31.92, 32.94, 33.07, 32.15, 30.07, 26.46, 22.63, 18.54, 16.31, 15.3, 14.24, 13.12]\n"
     ]
    }
   ],
   "source": [
    "#1 hr hrrr:\n",
    "with open('hrrr_f12_Lafayette_LA.txt') as f:\n",
    "    lst=[line.split()[4] for line in f]\n",
    "    temp_laf3=[]\n",
    "    for i in lst:\n",
    "        new=i.replace(',',\"\")\n",
    "        temp_laf3.append(new)\n",
    "    temp_laf3.pop(0)\n",
    "    temp_laf3=[float(x) for x in temp_laf3]\n",
    "    temp_laf3=temp_laf3[1865:1890]\n",
    "    #temp=temp[2015:2063]\n",
    "    print(temp_laf3)\n",
    "    #print(len(temp))\n",
    "#full time period is [2015:2112]"
   ]
  },
  {
   "cell_type": "code",
   "execution_count": 77,
   "id": "17793fb2",
   "metadata": {},
   "outputs": [
    {
     "name": "stdout",
     "output_type": "stream",
     "text": [
      "[4.0, 3.5, 3.3, 2.9, 2.7, 2.5, 1.9, 1.9, 3.2, 11.0, 16.1, 21.8, 26.4, 28.8, 29.5, 29.7, 28.3, 26.4, 23.2, 18.5, 11.8, 10.2, 10.9, 9.3, 8.3]\n"
     ]
    }
   ],
   "source": [
    "#Air Temp CRN:\n",
    "with open('CRNH0203-2022-LA_Lafayette_13_SE.txt') as f:\n",
    "    lst=[line.split()[20] for line in f]\n",
    "    #print(lst)\n",
    "    temp_crn_laf3=[]\n",
    "    for i in lst:\n",
    "        new=i.replace(',',\"\")\n",
    "        temp_crn_laf3.append(new)\n",
    "    temp_crn_laf3=[float(x) for x in temp_crn_laf3]\n",
    "    temp_crn_laf3=temp_crn_laf3[1876:1901]\n",
    "    print(temp_crn_laf3)\n",
    "    #print(len(temp_crn))\n",
    "    # print(temp_crn[2124])"
   ]
  },
  {
   "cell_type": "code",
   "execution_count": 78,
   "id": "36c6a6c7",
   "metadata": {},
   "outputs": [],
   "source": [
    "# difference3_laf = []\n",
    "\n",
    "# zip_object = zip(temp, temp_crn)\n",
    "# for temp_i, temp_crn_i in zip_object:\n",
    "#     difference3_laf.append(temp_i-temp_crn_i)\n",
    "\n",
    "# print(difference3_laf)"
   ]
  },
  {
   "cell_type": "markdown",
   "id": "9f50a0c5",
   "metadata": {},
   "source": [
    "<font size=\"3\">Monroe, LA: 0600 UTC (12:00 am CST) 01 March 2022-0600 UTC (12:00 am CST) 02 March 2022</font>"
   ]
  },
  {
   "cell_type": "code",
   "execution_count": 79,
   "id": "afe54e44",
   "metadata": {},
   "outputs": [
    {
     "name": "stdout",
     "output_type": "stream",
     "text": [
      "[10.0, 9.20999, 8.66, 7.95999, 7.42001, 7.32001, 7.23001, 6.91, 7.66, 11.95, 16.53, 20.91, 25.31, 28.99, 31.14, 31.22, 30.2, 28.13, 24.66, 20.34, 17.3, 15.36, 13.79, 12.36, 11.85]\n"
     ]
    }
   ],
   "source": [
    "#1 hr hrrr:\n",
    "with open('hrrr_f12_Monroe_LA.txt') as f:\n",
    "    lst=[line.split()[4] for line in f]\n",
    "    temp_mon3=[]\n",
    "    for i in lst:\n",
    "        new=i.replace(',',\"\")\n",
    "        temp_mon3.append(new)\n",
    "    temp_mon3.pop(0)\n",
    "    temp_mon3=[float(x) for x in temp_mon3]\n",
    "    temp_mon3=temp_mon3[1865:1890]\n",
    "    #temp=temp[2015:2063]\n",
    "    print(temp_mon3)\n",
    "    #print(len(temp))\n",
    "#full time period is [2015:2112]"
   ]
  },
  {
   "cell_type": "code",
   "execution_count": 80,
   "id": "32d70ce1",
   "metadata": {},
   "outputs": [
    {
     "name": "stdout",
     "output_type": "stream",
     "text": [
      "[5.0, 4.6, 4.1, 3.6, 3.3, 3.0, 2.8, 2.6, 2.8, 8.5, 14.7, 20.4, 24.1, 26.6, 28.1, 28.5, 27.9, 27.1, 22.2, 18.0, 12.0, 9.2, 8.4, 6.9, 6.0]\n"
     ]
    }
   ],
   "source": [
    "#Air Temp CRN:\n",
    "with open('CRNH0203-2022-LA_Monroe_26_N.txt') as f:\n",
    "    lst=[line.split()[20] for line in f]\n",
    "    #print(lst)\n",
    "    temp_crn_mon3=[]\n",
    "    for i in lst:\n",
    "        new=i.replace(',',\"\")\n",
    "        temp_crn_mon3.append(new)\n",
    "    temp_crn_mon3=[float(x) for x in temp_crn_mon3]\n",
    "    temp_crn_mon3=temp_crn_mon3[1876:1901]\n",
    "    print(temp_crn_mon3)\n",
    "    #print(len(temp_crn))\n",
    "    # print(temp_crn[2124])"
   ]
  },
  {
   "cell_type": "code",
   "execution_count": 81,
   "id": "79ffb554",
   "metadata": {},
   "outputs": [],
   "source": [
    "# difference3_mon = []\n",
    "\n",
    "# zip_object = zip(temp, temp_crn)\n",
    "# for temp_i, temp_crn_i in zip_object:\n",
    "#     difference3_mon.append(temp_i-temp_crn_i)\n",
    "\n",
    "# print(difference3_mon)"
   ]
  },
  {
   "cell_type": "markdown",
   "id": "1bf55dcc",
   "metadata": {},
   "source": [
    "<font size=\"3\">Holly Springs, MS: 0600 UTC (12:00 am CST) 01 March 2022-0600 UTC (12:00 am CST) 02 March 2022</font>"
   ]
  },
  {
   "cell_type": "code",
   "execution_count": 82,
   "id": "70182e09",
   "metadata": {},
   "outputs": [
    {
     "name": "stdout",
     "output_type": "stream",
     "text": [
      "[7.17999, 6.26001, 6.35001, 6.19, 6.27002, 5.14999, 5.31, 5.14001, 6.42999, 10.63, 14.71, 18.3, 21.41, 24.23, 25.92, 26.14, 25.4, 23.53, 20.75, 16.95, 14.11, 13.1, 12.65, 12.33, 11.83]\n"
     ]
    }
   ],
   "source": [
    "#1 hr hrrr:\n",
    "with open('hrrr_f12_Holly Springs_MS.txt') as f:\n",
    "    lst=[line.split()[4] for line in f]\n",
    "    temp_hol3=[]\n",
    "    for i in lst:\n",
    "        new=i.replace(',',\"\")\n",
    "        temp_hol3.append(new)\n",
    "    temp_hol3.pop(0)\n",
    "    temp_hol3=[float(x) for x in temp_hol3]\n",
    "    temp_hol3=temp_hol3[1865:1890]\n",
    "    #temp=temp[2015:2063]\n",
    "    print(temp_hol3)\n",
    "    #print(len(temp))\n",
    "#full time period is [2015:2112]"
   ]
  },
  {
   "cell_type": "code",
   "execution_count": 83,
   "id": "f5ab820d",
   "metadata": {},
   "outputs": [
    {
     "name": "stdout",
     "output_type": "stream",
     "text": [
      "[3.8, 3.7, 3.6, 3.3, 2.8, 2.3, 1.9, 1.7, 2.2, 7.9, 13.9, 19.0, 22.7, 25.1, 26.4, 26.3, 25.3, 23.4, 20.3, 14.5, 10.1, 8.2, 6.9, 6.1, 5.4]\n"
     ]
    }
   ],
   "source": [
    "#Air Temp CRN:\n",
    "with open('CRNH0203-2022-MS_Holly_Springs_4_N.txt') as f:\n",
    "    lst=[line.split()[20] for line in f]\n",
    "    #print(lst)\n",
    "    temp_crn_hol3=[]\n",
    "    for i in lst:\n",
    "        new=i.replace(',',\"\")\n",
    "        temp_crn_hol3.append(new)\n",
    "    temp_crn_hol3=[float(x) for x in temp_crn_hol3]\n",
    "    temp_crn_hol3=temp_crn_hol3[1876:1901]\n",
    "    print(temp_crn_hol3)\n",
    "    #print(len(temp_crn))\n",
    "    # print(temp_crn[2124])"
   ]
  },
  {
   "cell_type": "code",
   "execution_count": 84,
   "id": "9d0ab2f8",
   "metadata": {},
   "outputs": [],
   "source": [
    "# difference3_hol = []\n",
    "\n",
    "# zip_object = zip(temp, temp_crn)\n",
    "# for temp_i, temp_crn_i in zip_object:\n",
    "#     difference3_hol.append(temp_i-temp_crn_i)\n",
    "\n",
    "# print(difference3_hol)"
   ]
  },
  {
   "cell_type": "markdown",
   "id": "2d2b0ce7",
   "metadata": {},
   "source": [
    "<font size=\"3\">Newton, MS: 0600 UTC (12:00 am CST) 01 March 2022-0600 UTC (12:00 am CST) 02 March 2022</font>"
   ]
  },
  {
   "cell_type": "code",
   "execution_count": 85,
   "id": "d10078d2",
   "metadata": {},
   "outputs": [
    {
     "name": "stdout",
     "output_type": "stream",
     "text": [
      "[8.17001, 7.32001, 6.79001, 6.17001, 5.76001, 5.42999, 5.17999, 4.66, 7.32001, 14.21, 20.52, 24.73, 27.46, 28.8, 29.67, 29.25, 27.89, 25.99, 23.11, 19.16, 16.26, 14.51, 13.37, 12.65, 11.59]\n"
     ]
    }
   ],
   "source": [
    "#1 hr hrrr:\n",
    "with open('hrrr_f12_Newton_MS.txt') as f:\n",
    "    lst=[line.split()[4] for line in f]\n",
    "    temp_new3=[]\n",
    "    for i in lst:\n",
    "        new=i.replace(',',\"\")\n",
    "        temp_new3.append(new)\n",
    "    temp_new3.pop(0)\n",
    "    temp_new3=[float(x) for x in temp_new3]\n",
    "    temp_new3=temp_new3[1865:1890]\n",
    "    #temp=temp[2015:2063]\n",
    "    print(temp_new3)\n",
    "    #print(len(temp))\n",
    "#full time period is [2015:2112]"
   ]
  },
  {
   "cell_type": "code",
   "execution_count": 86,
   "id": "92c9162c",
   "metadata": {},
   "outputs": [
    {
     "name": "stdout",
     "output_type": "stream",
     "text": [
      "[3.1, 2.8, 2.4, 2.1, 1.7, 1.5, 1.1, 0.8, 2.3, 10.0, 17.6, 23.4, 27.8, 30.3, 30.0, 30.7, 29.9, 27.6, 24.8, 19.2, 12.5, 10.5, 8.9, 7.6, 6.6]\n"
     ]
    }
   ],
   "source": [
    "#Air Temp CRN:\n",
    "with open('CRNH0203-2022-MS_Newton_5_ENE.txt') as f:\n",
    "    lst=[line.split()[20] for line in f]\n",
    "    #print(lst)\n",
    "    temp_crn_new3=[]\n",
    "    for i in lst:\n",
    "        new=i.replace(',',\"\")\n",
    "        temp_crn_new3.append(new)\n",
    "    temp_crn_new3=[float(x) for x in temp_crn_new3]\n",
    "    temp_crn_new3=temp_crn_new3[1876:1901]\n",
    "    print(temp_crn_new3)\n",
    "    #print(len(temp_crn))\n",
    "    # print(temp_crn[2124])"
   ]
  },
  {
   "cell_type": "code",
   "execution_count": 87,
   "id": "9f44baa8",
   "metadata": {},
   "outputs": [],
   "source": [
    "# difference3_new = []\n",
    "\n",
    "# zip_object = zip(temp, temp_crn)\n",
    "# for temp_i, temp_crn_i in zip_object:\n",
    "#     difference3_new.append(temp_i-temp_crn_i)\n",
    "\n",
    "# print(difference3_new)"
   ]
  },
  {
   "cell_type": "markdown",
   "id": "538036ab",
   "metadata": {},
   "source": [
    "<font size=\"3\">Gainesville, AL: 0600 UTC (12:00 am CST) 01 March 2022-0600 UTC (12:00 am CST) 02 March 2022</font>"
   ]
  },
  {
   "cell_type": "code",
   "execution_count": 88,
   "id": "24a63117",
   "metadata": {},
   "outputs": [],
   "source": [
    "# #1 hr hrrr:\n",
    "# with open('hrrr_f12_Gainesville_AL.txt') as f:\n",
    "#     lst=[line.split()[4] for line in f]\n",
    "#     temp=[]\n",
    "#     for i in lst:\n",
    "#         new=i.replace(',',\"\")\n",
    "#         temp.append(new)\n",
    "#     temp.pop(0)\n",
    "#     temp=[float(x) for x in temp]\n",
    "#     temp=temp[1876:1901]\n",
    "#     #temp=temp[2015:2063]\n",
    "#     print(temp)\n",
    "#     #print(len(temp))\n",
    "# #full time period is [2015:2112]"
   ]
  },
  {
   "cell_type": "code",
   "execution_count": 89,
   "id": "232e137f",
   "metadata": {},
   "outputs": [],
   "source": [
    "# #Air Temp CRN:\n",
    "# with open('CRNH0203-2022-AL_Gainesville_2_NE.txt') as f:\n",
    "#     lst=[line.split()[20] for line in f]\n",
    "#     #print(lst)\n",
    "#     temp_crn=[]\n",
    "#     for i in lst:\n",
    "#         new=i.replace(',',\"\")\n",
    "#         temp_crn.append(new)\n",
    "#     temp_crn=[float(x) for x in temp_crn]\n",
    "#     temp_crn=temp_crn[1876:1901]\n",
    "#     print(temp_crn)\n",
    "#     #print(len(temp_crn))\n",
    "#     # print(temp_crn[2124])"
   ]
  },
  {
   "cell_type": "code",
   "execution_count": 90,
   "id": "b6c8652b",
   "metadata": {},
   "outputs": [],
   "source": [
    "# difference3_gai = []\n",
    "\n",
    "# zip_object = zip(temp, temp_crn)\n",
    "# for temp_i, temp_crn_i in zip_object:\n",
    "#     difference3_gai.append(temp_i-temp_crn_i)\n",
    "\n",
    "# print(difference3_gai)"
   ]
  },
  {
   "cell_type": "markdown",
   "id": "bec1bd8b",
   "metadata": {},
   "source": [
    "<font size=\"3\">Fairhope, AL: 0600 UTC (12:00 am CST) 01 March 2022-0600 UTC (12:00 am CST) 02 March 2022</font>"
   ]
  },
  {
   "cell_type": "code",
   "execution_count": 91,
   "id": "1d46687a",
   "metadata": {},
   "outputs": [
    {
     "name": "stdout",
     "output_type": "stream",
     "text": [
      "[11.69, 10.98, 9.88, 9.14001, 8.35001, 8.20001, 7.91, 7.58002, 9.66, 13.46, 16.81, 20.06, 22.52, 25.18, 26.84, 27.14, 26.35, 24.86, 22.07, 18.38, 15.82, 14.31, 13.21, 12.12, 11.61]\n"
     ]
    }
   ],
   "source": [
    "#1 hr hrrr:\n",
    "with open('hrrr_f12_Fairhope_AL.txt') as f:\n",
    "    lst=[line.split()[4] for line in f]\n",
    "    temp_fai3=[]\n",
    "    for i in lst:\n",
    "        new=i.replace(',',\"\")\n",
    "        temp_fai3.append(new)\n",
    "    temp_fai3.pop(0)\n",
    "    temp_fai3=[float(x) for x in temp_fai3]\n",
    "    temp_fai3=temp_fai3[1865:1890]\n",
    "    #temp=temp[2015:2063]\n",
    "    print(temp_fai3)\n",
    "    #print(len(temp))\n",
    "#full time period is [2015:2112]"
   ]
  },
  {
   "cell_type": "code",
   "execution_count": 92,
   "id": "eeba1f0c",
   "metadata": {},
   "outputs": [
    {
     "name": "stdout",
     "output_type": "stream",
     "text": [
      "[5.2, 3.0, 2.0, 1.5, 0.5, 0.3, 0.1, 0.5, 3.3, 13.3, 19.8, 24.7, 28.3, 30.0, 31.7, 31.0, 29.4, 24.9, 20.4, 13.8, 8.2, 6.2, 5.4, 4.5, 3.9]\n"
     ]
    }
   ],
   "source": [
    "#Air Temp CRN:\n",
    "with open('CRNH0203-2022-AL_Fairhope_3_NE.txt') as f:\n",
    "    lst=[line.split()[20] for line in f]\n",
    "    #print(lst)\n",
    "    temp_crn_fai3=[]\n",
    "    for i in lst:\n",
    "        new=i.replace(',',\"\")\n",
    "        temp_crn_fai3.append(new)\n",
    "    temp_crn_fai3=[float(x) for x in temp_crn_fai3]\n",
    "    temp_crn_fai3=temp_crn_fai3[1876:1901]\n",
    "    print(temp_crn_fai3)\n",
    "    #print(len(temp_crn))\n",
    "    # print(temp_crn[2124])"
   ]
  },
  {
   "cell_type": "code",
   "execution_count": 93,
   "id": "e5202245",
   "metadata": {},
   "outputs": [],
   "source": [
    "# difference3_fai = []\n",
    "\n",
    "# zip_object = zip(temp, temp_crn)\n",
    "# for temp_i, temp_crn_i in zip_object:\n",
    "#     difference3_fai.append(temp_i-temp_crn_i)\n",
    "\n",
    "# print(difference3_fai)"
   ]
  },
  {
   "cell_type": "markdown",
   "id": "5450f80c",
   "metadata": {},
   "source": [
    "<font size=\"3\">**Selma, AL: 0600 UTC (12:00 am CST) 01 March 2022-0600 UTC (12:00 am CST) 02 March 2022</font>"
   ]
  },
  {
   "cell_type": "code",
   "execution_count": 94,
   "id": "168fefba",
   "metadata": {},
   "outputs": [
    {
     "name": "stdout",
     "output_type": "stream",
     "text": [
      "[8.35001, 7.47, 6.82001, 6.10001, 5.57001, 5.54001, 5.39001, 5.11002, 7.89999, 12.07, 15.67, 18.01, 19.9, 20.53, 21.44, 21.04, 20.31, 19.22, 17.46, 14.59, 12.38, 11.24, 10.45, 10.23, 9.67999]\n",
      "[6.7, 5.6, 4.9, 4.2, 3.7, 3.3, 2.9, 2.6, 4.8, 11.4, 18.2, 22.9, 25.8, 27.9, 28.9, 29.4, 28.2, 26.4, 23.4, 20.0, 14.6, 12.0, 10.5, 9.5, 8.7]\n"
     ]
    }
   ],
   "source": [
    "#1 hr hrrr:\n",
    "import numpy as np\n",
    "import numpy.ma as ma\n",
    "with open('hrrr_f12_Selma_AL.txt') as f:\n",
    "    lst=[line.split()[4] for line in f]\n",
    "    temp_sel3=[]\n",
    "    for i in lst:\n",
    "        new=i.replace(',',\"\")\n",
    "        temp_sel3.append(new)\n",
    "    temp_sel3.pop(0)\n",
    "    temp_sel3=[float(x) for x in temp_sel3]\n",
    "    temp_sel3=temp_sel3[1865:1890]\n",
    "\n",
    "#     x = np.array(temp)\n",
    "#     temp = ma.masked_array(x, mask=[0, 0, 0, 0, 0,0,0,0,0,0,0,0,0,0,0,0,0,1,1,1,1,0,0,0,0])\n",
    "    #print(temp)\n",
    "#Air Temp CRN:\n",
    "with open('CRNH0203-2022-AL_Selma_13_WNW.txt') as f:\n",
    "    lst=[line.split()[20] for line in f]\n",
    "    #print(lst)\n",
    "    temp_crn_sel3=[]\n",
    "    for i in lst:\n",
    "        new=i.replace(',',\"\")\n",
    "        temp_crn_sel3.append(new)\n",
    "    temp_crn_sel3=[float(x) for x in temp_crn_sel3]\n",
    "    temp_crn_sel3=temp_crn_sel3[1876:1901]\n",
    "#     y = np.array(temp_crn)\n",
    "#     temp_crn = ma.masked_array(y, mask=[0, 0, 0, 0, 0,0,0,0,0,0,0,0,0,0,0,0,0,1,1,1,1,0,0,0,0])\n",
    "    print(temp_sel3)\n",
    "    #print(len(temp))\n",
    "    print(temp_crn_sel3)\n",
    "    #print(len(temp_crn))\n",
    "#full time period is [2015:2112]\n",
    "# difference3_sel = []\n",
    "\n",
    "# zip_object = zip(temp, temp_crn)\n",
    "# for temp_i, temp_crn_i in zip_object:\n",
    "#     difference3_sel.append(temp_i-temp_crn_i)\n",
    "\n",
    "# print(difference3_sel)\n",
    "# print(len(difference3_sel))"
   ]
  },
  {
   "cell_type": "markdown",
   "id": "d837cb2c",
   "metadata": {},
   "source": [
    "<font size=\"3\">Bowling Green, KY: 0600 UTC (12:00 am CST) 01 March 2022-0600 UTC (12:00 am CST) 02 March 2022</font>"
   ]
  },
  {
   "cell_type": "code",
   "execution_count": 95,
   "id": "4d2fd05e",
   "metadata": {},
   "outputs": [
    {
     "name": "stdout",
     "output_type": "stream",
     "text": [
      "[2.74002, 1.92999, 1.22, 0.649994, -0.0799866, -0.339996, -0.779999, -1.44998, 2.85001, 9.87, 15.35, 18.99, 21.54, 22.96, 23.89, 23.52, 22.44, 20.36, 17.42, 12.9, 10.07, 8.60001, 7.92001, 6.76001, 5.86002]\n"
     ]
    }
   ],
   "source": [
    "#1 hr hrrr:\n",
    "with open('hrrr_f12_Bowling Green_KY.txt') as f:\n",
    "    lst=[line.split()[4] for line in f]\n",
    "    temp_bow3=[]\n",
    "    for i in lst:\n",
    "        new=i.replace(',',\"\")\n",
    "        temp_bow3.append(new)\n",
    "    temp_bow3.pop(0)\n",
    "    temp_bow3=[float(x) for x in temp_bow3]\n",
    "    temp_bow3=temp_bow3[1865:1890]\n",
    "    #temp=temp[2015:2063]\n",
    "    print(temp_bow3)\n",
    "    #print(len(temp))\n",
    "#full time period is [2015:2112]"
   ]
  },
  {
   "cell_type": "code",
   "execution_count": 96,
   "id": "4ca69144",
   "metadata": {},
   "outputs": [
    {
     "name": "stdout",
     "output_type": "stream",
     "text": [
      "[0.0, -0.1, -0.5, -0.7, -1.0, -1.4, -1.6, -1.8, -0.4, 7.4, 13.3, 19.4, 23.4, 26.1, 27.3, 26.9, 25.2, 21.9, 16.5, 9.0, 5.3, 4.1, 3.6, 3.3, 2.7]\n"
     ]
    }
   ],
   "source": [
    "#Air Temp CRN:\n",
    "with open('CRNH0203-2022-KY_Bowling_Green_21_NNE.txt') as f:\n",
    "    lst=[line.split()[20] for line in f]\n",
    "    #print(lst)\n",
    "    temp_crn_bow3=[]\n",
    "    for i in lst:\n",
    "        new=i.replace(',',\"\")\n",
    "        temp_crn_bow3.append(new)\n",
    "    temp_crn_bow3=[float(x) for x in temp_crn_bow3]\n",
    "    temp_crn_bow3=temp_crn_bow3[1876:1901]\n",
    "    print(temp_crn_bow3)\n",
    "    #print(len(temp_crn))\n",
    "    # print(temp_crn[2124])"
   ]
  },
  {
   "cell_type": "code",
   "execution_count": 97,
   "id": "c1e44909",
   "metadata": {},
   "outputs": [],
   "source": [
    "# difference3_bow = []\n",
    "\n",
    "# zip_object = zip(temp, temp_crn)\n",
    "# for temp_i, temp_crn_i in zip_object:\n",
    "#     difference3_bow.append(temp_i-temp_crn_i)\n",
    "\n",
    "# print(difference3_bow)"
   ]
  },
  {
   "cell_type": "markdown",
   "id": "21c9a287",
   "metadata": {},
   "source": [
    "<font size=\"3\">Gadsden, AL: 0600 UTC (12:00 am CST) 01 March 2022-0600 UTC (12:00 am CST) 02 March 2022</font>"
   ]
  },
  {
   "cell_type": "code",
   "execution_count": 98,
   "id": "77a1ef95",
   "metadata": {},
   "outputs": [
    {
     "name": "stdout",
     "output_type": "stream",
     "text": [
      "[4.69, 4.17999, 3.30002, 2.47, 2.55002, 1.92999, 1.97, 2.04001, 5.74002, 11.3, 14.97, 17.57, 19.55, 20.63, 21.4, 21.12, 20.22, 18.76, 16.37, 12.88, 11.45, 10.33, 8.73001, 7.49002, 6.72]\n"
     ]
    }
   ],
   "source": [
    "#1 hr hrrr:\n",
    "with open('hrrr_f12_Gadsden_AL.txt') as f:\n",
    "    lst=[line.split()[4] for line in f]\n",
    "    temp_gad3=[]\n",
    "    for i in lst:\n",
    "        new=i.replace(',',\"\")\n",
    "        temp_gad3.append(new)\n",
    "    temp_gad3.pop(0)\n",
    "    temp_gad3=[float(x) for x in temp_gad3]\n",
    "    temp_gad3=temp_gad3[1865:1890]\n",
    "#     x = np.array(temp)\n",
    "#     temp = ma.masked_array(x, mask=[0, 0, 0, 0, 0,0,0,0,1,0,0,0,0,0,0,0,0,0,0,0,0,0,0,0,0])\n",
    "    #temp=temp[2015:2063]\n",
    "    print(temp_gad3)\n",
    "    #print(len(temp))\n",
    "#full time period is [2015:2112]"
   ]
  },
  {
   "cell_type": "code",
   "execution_count": 99,
   "id": "c8b40ab0",
   "metadata": {},
   "outputs": [
    {
     "name": "stdout",
     "output_type": "stream",
     "text": [
      "[3.1, 2.3, 1.5, 1.0, 0.7, 0.4, 0.3, 0.3, 3.0, 9.6, 13.6, 17.0, 20.0, 21.2, 22.2, 22.9, 21.4, 19.4, 16.7, 12.8, 8.2, 6.7, 5.7, 4.7, 4.0]\n"
     ]
    }
   ],
   "source": [
    "#Air Temp CRN:\n",
    "with open('CRNH0203-2022-AL_Gadsden_19_N.txt') as f:\n",
    "    lst=[line.split()[20] for line in f]\n",
    "    #print(lst)\n",
    "    temp_crn_gad3=[]\n",
    "    for i in lst:\n",
    "        new=i.replace(',',\"\")\n",
    "        temp_crn_gad3.append(new)\n",
    "    temp_crn_gad3=[float(x) for x in temp_crn_gad3]\n",
    "    temp_crn_gad3=temp_crn_gad3[1876:1901]\n",
    "#     y = np.array(temp_crn)\n",
    "#     temp_crn = ma.masked_array(y, mask=[0, 0, 0, 0, 0,0,0,0,1,0,0,0,0,0,0,0,0,0,0,0,0,0,0,0,0])\n",
    "    print(temp_crn_gad3)\n",
    "    #print(len(temp_crn))\n",
    "    # print(temp_crn[2124])"
   ]
  },
  {
   "cell_type": "code",
   "execution_count": 100,
   "id": "cf4acb88",
   "metadata": {},
   "outputs": [],
   "source": [
    "# difference3_gad = []\n",
    "\n",
    "# zip_object = zip(temp, temp_crn)\n",
    "# for temp_i, temp_crn_i in zip_object:\n",
    "#     difference3_gad.append(temp_i-temp_crn_i)\n",
    "\n",
    "# print(difference3_gad)"
   ]
  },
  {
   "cell_type": "markdown",
   "id": "93b56dfb",
   "metadata": {},
   "source": [
    "<font size=\"3\">Newton, GA: 0600 UTC (12:00 am CST) 01 March 2022-0600 UTC (12:00 am CST) 02 March 2022</font>"
   ]
  },
  {
   "cell_type": "code",
   "execution_count": 101,
   "id": "53a55c7c",
   "metadata": {},
   "outputs": [
    {
     "name": "stdout",
     "output_type": "stream",
     "text": [
      "[12.91, 12.25, 11.11, 10.02, 9.17999, 8.77002, 8.14001, 7.44, 10.16, 12.91, 15.26, 16.91, 18.56, 19.49, 19.93, 19.44, 19.43, 19.12, 17.38, 14.73, 12.52, 11.21, 10.38, 10.2, 9.52002]\n"
     ]
    }
   ],
   "source": [
    "#1 hr hrrr:\n",
    "with open('hrrr_f12_Newton_GA.txt') as f:\n",
    "    lst=[line.split()[4] for line in f]\n",
    "    temp_newt3=[]\n",
    "    for i in lst:\n",
    "        new=i.replace(',',\"\")\n",
    "        temp_newt3.append(new)\n",
    "    temp_newt3.pop(0)\n",
    "    temp_newt3=[float(x) for x in temp_newt3]\n",
    "    temp_newt3=temp_newt3[1865:1890]\n",
    "    #temp=temp[2015:2063]\n",
    "    print(temp_newt3)\n",
    "    #print(len(temp))\n",
    "#full time period is [2015:2112]"
   ]
  },
  {
   "cell_type": "code",
   "execution_count": 102,
   "id": "763b13be",
   "metadata": {},
   "outputs": [
    {
     "name": "stdout",
     "output_type": "stream",
     "text": [
      "[12.5, 12.0, 11.8, 10.9, 10.4, 9.6, 8.5, 7.9, 7.4, 9.2, 13.2, 18.1, 21.6, 24.9, 26.9, 27.8, 26.7, 26.0, 23.9, 20.8, 16.4, 12.9, 11.6, 10.6, 9.7]\n"
     ]
    }
   ],
   "source": [
    "#Air Temp CRN:\n",
    "with open('CRNH0203-2022-GA_Newton_11_SW.txt') as f:\n",
    "    lst=[line.split()[20] for line in f]\n",
    "    #print(lst)\n",
    "    temp_crn_newt3=[]\n",
    "    for i in lst:\n",
    "        new=i.replace(',',\"\")\n",
    "        temp_crn_newt3.append(new)\n",
    "    temp_crn_newt3=[float(x) for x in temp_crn_newt3]\n",
    "    temp_crn_newt3=temp_crn_newt3[1875:1900]\n",
    "    print(temp_crn_newt3)\n",
    "    #print(len(temp_crn))\n",
    "    # print(temp_crn[2124])"
   ]
  },
  {
   "cell_type": "code",
   "execution_count": 103,
   "id": "b71c6000",
   "metadata": {},
   "outputs": [],
   "source": [
    "# difference3_newt = []\n",
    "\n",
    "# zip_object = zip(temp, temp_crn)\n",
    "# for temp_i, temp_crn_i in zip_object:\n",
    "#     difference3_newt.append(temp_i-temp_crn_i)\n",
    "\n",
    "# print(difference3_newt)"
   ]
  },
  {
   "cell_type": "markdown",
   "id": "e079df5d",
   "metadata": {},
   "source": [
    "<font size=\"3\">Salem, MO: 0500 UTC (12:00 am CDT) 03 April 2022-0500 UTC (12:00 am CDT) 04 April 2022</font>"
   ]
  },
  {
   "cell_type": "code",
   "execution_count": 104,
   "id": "2bda3233",
   "metadata": {},
   "outputs": [
    {
     "name": "stdout",
     "output_type": "stream",
     "text": [
      "[3.94, 3.35001, 2.89999, 2.62, 2.24002, 2.30002, 2.07001, 1.72, 4.80002, 9.07001, 12.75, 15.15, 16.89, 19.45, 21.43, 21.01, 18.51, 17.98, 17.07, 14.85, 12.63, 11.67, 11.65, 10.92, 10.71]\n"
     ]
    }
   ],
   "source": [
    "#1 hr hrrr:\n",
    "with open('hrrr_f12_Salem_MO.txt') as f:\n",
    "    lst=[line.split()[4] for line in f]\n",
    "    temp_sal4=[]\n",
    "    for i in lst:\n",
    "        new=i.replace(',',\"\")\n",
    "        temp_sal4.append(new)\n",
    "    temp_sal4.pop(0)\n",
    "    temp_sal4=[float(x) for x in temp_sal4]\n",
    "    temp_sal4=temp_sal4[2201:2226]\n",
    "    #temp=temp[2015:2063]\n",
    "    print(temp_sal4)\n",
    "\n",
    "#full time period is [2015:2112]"
   ]
  },
  {
   "cell_type": "code",
   "execution_count": 105,
   "id": "a53cfdd6",
   "metadata": {},
   "outputs": [
    {
     "name": "stdout",
     "output_type": "stream",
     "text": [
      "[-1.5, -2.0, -2.4, -2.8, -3.1, -3.4, -3.6, -3.7, -0.9, 8.5, 15.2, 21.8, 27.0, 30.5, 32.2, 30.4, 29.5, 25.6, 20.1, 16.1, 13.7, 11.8, 12.2, 12.0, 11.6]\n"
     ]
    }
   ],
   "source": [
    "#Air Temp CRN:\n",
    "with open('CRNH0203-2022-MO_Salem_10_W.txt') as f:\n",
    "    lst=[line.split()[20] for line in f]\n",
    "    #print(lst)\n",
    "    temp_crn_sal4=[]\n",
    "    for i in lst:\n",
    "        new=i.replace(',',\"\")\n",
    "        temp_crn_sal4.append(new)\n",
    "    temp_crn_sal4=[float(x) for x in temp_crn_sal4]\n",
    "    temp_crn_sal4=temp_crn_sal4[2212:2237]\n",
    "    print(temp_crn_sal4)\n",
    "    # print(temp_crn[2124])"
   ]
  },
  {
   "cell_type": "code",
   "execution_count": 106,
   "id": "2f3aad80",
   "metadata": {},
   "outputs": [],
   "source": [
    "# difference4_sal = []\n",
    "\n",
    "# zip_object = zip(temp, temp_crn)\n",
    "# for temp_i, temp_crn_i in zip_object:\n",
    "#     difference4_sal.append(temp_i-temp_crn_i)\n",
    "\n",
    "# print(difference4_sal)"
   ]
  },
  {
   "cell_type": "markdown",
   "id": "f30e9b3b",
   "metadata": {},
   "source": [
    "<font size=\"3\">Batesville, AR: 0600 UTC (12:00 am CST) 01 March 2022-0600 UTC (12:00 am CST) 02 March 2022</font>"
   ]
  },
  {
   "cell_type": "code",
   "execution_count": 107,
   "id": "ea25905e",
   "metadata": {},
   "outputs": [
    {
     "name": "stdout",
     "output_type": "stream",
     "text": [
      "[8.13, 6.87, 6.39999, 5.89001, 5.34, 4.89999, 4.74002, 4.54001, 7.13, 10.92, 13.89, 16.81, 18.9, 20.88, 22.61, 23.85, 23.69, 22.28, 19.68, 16.67, 13.38, 11.76, 10.8, 9.91, 9.56]\n"
     ]
    }
   ],
   "source": [
    "#1 hr hrrr:\n",
    "with open('hrrr_f12_Batesville_AR.txt') as f:\n",
    "    lst=[line.split()[4] for line in f]\n",
    "    temp_bat4=[]\n",
    "    for i in lst:\n",
    "        new=i.replace(',',\"\")\n",
    "        temp_bat4.append(new)\n",
    "    temp_bat4.pop(0)\n",
    "    temp_bat4=[float(x) for x in temp_bat4]\n",
    "    temp_bat4=temp_bat4[2201:2226]\n",
    "#     x = np.array(temp)\n",
    "#     temp = ma.masked_array(x, mask=[0, 0, 0, 0, 0,0,0,0,0,0,0,0,0,0,0,0,0,0,0,0,0,1,0,0,0])\n",
    "    #temp=temp[2015:2063]\n",
    "    print(temp_bat4)\n",
    "#full time period is [2015:2112]"
   ]
  },
  {
   "cell_type": "code",
   "execution_count": 108,
   "id": "9689d5bd",
   "metadata": {},
   "outputs": [
    {
     "name": "stdout",
     "output_type": "stream",
     "text": [
      "[4.1, 3.5, 2.3, 2.2, 1.6, 1.1, 0.3, 0.1, 2.5, 8.9, 13.3, 15.9, 18.6, 20.1, 21.5, 21.9, 20.6, 18.1, 16.2, 13.7, 11.7, 8.9, 8.5, 8.8, 9.0]\n"
     ]
    }
   ],
   "source": [
    "#Air Temp CRN:\n",
    "with open('CRNH0203-2022-AR_Batesville_8_WNW.txt') as f:\n",
    "    lst=[line.split()[20] for line in f]\n",
    "    #print(lst)\n",
    "    temp_crn_bat4=[]\n",
    "    for i in lst:\n",
    "        new=i.replace(',',\"\")\n",
    "        temp_crn_bat4.append(new)\n",
    "    temp_crn_bat4=[float(x) for x in temp_crn_bat4]\n",
    "    temp_crn_bat4=temp_crn_bat4[2212:2237]\n",
    "#     y = np.array(temp_crn)\n",
    "#     temp_crn = ma.masked_array(y, mask=[0, 0, 0, 0, 0,0,0,0,0,0,0,0,0,0,0,0,0,0,0,0,0,1,0,0,0])\n",
    "    print(temp_crn_bat4)\n",
    "    #print(len(temp_crn))\n",
    "    # print(temp_crn[2124])"
   ]
  },
  {
   "cell_type": "code",
   "execution_count": 109,
   "id": "32d53f73",
   "metadata": {},
   "outputs": [],
   "source": [
    "# difference4_bat = []\n",
    "\n",
    "# zip_object = zip(temp, temp_crn)\n",
    "# for temp_i, temp_crn_i in zip_object:\n",
    "#     difference4_bat.append(temp_i-temp_crn_i)\n",
    "\n",
    "# print(difference4_bat)"
   ]
  },
  {
   "cell_type": "markdown",
   "id": "2869b9dc",
   "metadata": {},
   "source": [
    "<font size=\"3\">Lafayette, LA: 0600 UTC (12:00 am CST) 01 March 2022-0600 UTC (12:00 am CST) 02 March 2022</font>"
   ]
  },
  {
   "cell_type": "code",
   "execution_count": 110,
   "id": "fd2670e5",
   "metadata": {},
   "outputs": [
    {
     "name": "stdout",
     "output_type": "stream",
     "text": [
      "[16.95, 16.03, 15.05, 14.65, 14.09, 13.44, 12.96, 12.18, 14.8, 21.33, 27.55, 31.54, 34.64, 36.44, 37.22, 37.19, 36.15, 33.66, 30.5, 25.0, 21.92, 20.22, 19.21, 18.46, 17.3]\n"
     ]
    }
   ],
   "source": [
    "#1 hr hrrr:\n",
    "with open('hrrr_f12_Lafayette_LA.txt') as f:\n",
    "    lst=[line.split()[4] for line in f]\n",
    "    temp_laf4=[]\n",
    "    for i in lst:\n",
    "        new=i.replace(',',\"\")\n",
    "        temp_laf4.append(new)\n",
    "    temp_laf4.pop(0)\n",
    "    temp_laf4=[float(x) for x in temp_laf4]\n",
    "    temp_laf4=temp_laf4[2201:2226]\n",
    "    #temp=temp[2015:2063]\n",
    "    print(temp_laf4)\n",
    "    #print(len(temp))\n",
    "#full time period is [2015:2112]"
   ]
  },
  {
   "cell_type": "code",
   "execution_count": 111,
   "id": "f39411d5",
   "metadata": {},
   "outputs": [
    {
     "name": "stdout",
     "output_type": "stream",
     "text": [
      "[10.7, 10.1, 9.6, 9.0, 8.5, 8.1, 8.1, 8.2, 10.5, 16.8, 21.3, 26.5, 30.6, 33.3, 34.4, 34.5, 33.1, 30.6, 26.9, 22.6, 18.7, 16.7, 16.1, 15.1, 13.4]\n"
     ]
    }
   ],
   "source": [
    "#Air Temp CRN:\n",
    "with open('CRNH0203-2022-LA_Lafayette_13_SE.txt') as f:\n",
    "    lst=[line.split()[20] for line in f]\n",
    "    #print(lst)\n",
    "    temp_crn_laf4=[]\n",
    "    for i in lst:\n",
    "        new=i.replace(',',\"\")\n",
    "        temp_crn_laf4.append(new)\n",
    "    temp_crn_laf4=[float(x) for x in temp_crn_laf4]\n",
    "    temp_crn_laf4=temp_crn_laf4[2212:2237]\n",
    "    print(temp_crn_laf4)\n",
    "    #print(len(temp_crn))\n",
    "    # print(temp_crn[2124])"
   ]
  },
  {
   "cell_type": "code",
   "execution_count": 112,
   "id": "c02f8d98",
   "metadata": {},
   "outputs": [],
   "source": [
    "# difference4_laf = []\n",
    "\n",
    "# zip_object = zip(temp, temp_crn)\n",
    "# for temp_i, temp_crn_i in zip_object:\n",
    "#     difference4_laf.append(temp_i-temp_crn_i)\n",
    "\n",
    "# print(difference4_laf)"
   ]
  },
  {
   "cell_type": "markdown",
   "id": "ab48fc12",
   "metadata": {},
   "source": [
    "<font size=\"3\">Monroe, LA: 0600 UTC (12:00 am CST) 01 March 2022-0600 UTC (12:00 am CST) 02 March 2022</font>"
   ]
  },
  {
   "cell_type": "code",
   "execution_count": 113,
   "id": "b61707d0",
   "metadata": {},
   "outputs": [
    {
     "name": "stdout",
     "output_type": "stream",
     "text": [
      "[13.24, 12.64, 12.13, 11.38, 10.94, 10.53, 10.16, 9.45999, 11.91, 15.26, 18.79, 22.25, 25.34, 29.58, 31.81, 32.07, 31.27, 29.33, 26.26, 22.69, 19.43, 17.9, 16.41, 15.11, 14.3]\n"
     ]
    }
   ],
   "source": [
    "#1 hr hrrr:\n",
    "with open('hrrr_f12_Monroe_LA.txt') as f:\n",
    "    lst=[line.split()[4] for line in f]\n",
    "    temp_mon4=[]\n",
    "    for i in lst:\n",
    "        new=i.replace(',',\"\")\n",
    "        temp_mon4.append(new)\n",
    "    temp_mon4.pop(0)\n",
    "    temp_mon4=[float(x) for x in temp_mon4]\n",
    "    temp_mon4=temp_mon4[2201:2226]\n",
    "    #temp=temp[2015:2063]\n",
    "    print(temp_mon4)\n",
    "    #print(len(temp))\n",
    "#full time period is [2015:2112]"
   ]
  },
  {
   "cell_type": "code",
   "execution_count": 114,
   "id": "266c22d9",
   "metadata": {},
   "outputs": [
    {
     "name": "stdout",
     "output_type": "stream",
     "text": [
      "[9.0, 8.2, 7.7, 7.2, 6.9, 6.4, 6.0, 5.6, 6.8, 13.3, 18.9, 22.6, 25.5, 27.9, 28.8, 29.2, 28.6, 27.8, 23.2, 19.3, 14.8, 12.0, 11.1, 10.4, 10.5]\n"
     ]
    }
   ],
   "source": [
    "#Air Temp CRN:\n",
    "with open('CRNH0203-2022-LA_Monroe_26_N.txt') as f:\n",
    "    lst=[line.split()[20] for line in f]\n",
    "    #print(lst)\n",
    "    temp_crn_mon4=[]\n",
    "    for i in lst:\n",
    "        new=i.replace(',',\"\")\n",
    "        temp_crn_mon4.append(new)\n",
    "    temp_crn_mon4=[float(x) for x in temp_crn_mon4]\n",
    "    temp_crn_mon4=temp_crn_mon4[2212:2237]\n",
    "    print(temp_crn_mon4)\n",
    "    #print(len(temp_crn))\n",
    "    # print(temp_crn[2124])"
   ]
  },
  {
   "cell_type": "code",
   "execution_count": 115,
   "id": "e8911bcb",
   "metadata": {},
   "outputs": [],
   "source": [
    "# difference4_mon = []\n",
    "\n",
    "# zip_object = zip(temp, temp_crn)\n",
    "# for temp_i, temp_crn_i in zip_object:\n",
    "#     difference4_mon.append(temp_i-temp_crn_i)\n",
    "\n",
    "# print(difference4_mon)"
   ]
  },
  {
   "cell_type": "markdown",
   "id": "dbfdd9c6",
   "metadata": {},
   "source": [
    "<font size=\"3\">Holly Springs, MS: 0600 UTC (12:00 am CST) 01 March 2022-0600 UTC (12:00 am CST) 02 March 2022</font>"
   ]
  },
  {
   "cell_type": "code",
   "execution_count": 116,
   "id": "055b4b13",
   "metadata": {},
   "outputs": [
    {
     "name": "stdout",
     "output_type": "stream",
     "text": [
      "[9.30002, 8.80002, 7.67999, 7.01001, 6.53, 6.12, 6.06, 5.24002, 7.98001, 11.11, 14.31, 17.49, 20.6, 23.76, 25.04, 25.45, 25.02, 23.17, 20.26, 16.69, 13.28, 11.39, 10.36, 9.39999, 8.64999]\n"
     ]
    }
   ],
   "source": [
    "#1 hr hrrr:\n",
    "with open('hrrr_f12_Holly Springs_MS.txt') as f:\n",
    "    lst=[line.split()[4] for line in f]\n",
    "    temp_hol4=[]\n",
    "    for i in lst:\n",
    "        new=i.replace(',',\"\")\n",
    "        temp_hol4.append(new)\n",
    "    temp_hol4.pop(0)\n",
    "    temp_hol4=[float(x) for x in temp_hol4]\n",
    "    temp_hol4=temp_hol4[2201:2226]\n",
    "    #temp=temp[2015:2063]\n",
    "    print(temp_hol4)\n",
    "    #print(len(temp))\n",
    "#full time period is [2015:2112]"
   ]
  },
  {
   "cell_type": "code",
   "execution_count": 117,
   "id": "b948e709",
   "metadata": {},
   "outputs": [
    {
     "name": "stdout",
     "output_type": "stream",
     "text": [
      "[6.3, 6.5, 7.3, 5.3, 5.0, 3.8, 3.3, 2.7, 4.6, 10.3, 14.0, 18.6, 22.4, 25.0, 26.6, 26.1, 25.3, 23.1, 19.9, 15.0, 9.5, 7.6, 6.7, 5.9, 5.3]\n"
     ]
    }
   ],
   "source": [
    "#Air Temp CRN:\n",
    "with open('CRNH0203-2022-MS_Holly_Springs_4_N.txt') as f:\n",
    "    lst=[line.split()[20] for line in f]\n",
    "    #print(lst)\n",
    "    temp_crn_hol4=[]\n",
    "    for i in lst:\n",
    "        new=i.replace(',',\"\")\n",
    "        temp_crn_hol4.append(new)\n",
    "    temp_crn_hol4=[float(x) for x in temp_crn_hol4]\n",
    "    temp_crn_hol4=temp_crn_hol4[2212:2237]\n",
    "    print(temp_crn_hol4)\n",
    "    #print(len(temp_crn))\n",
    "    # print(temp_crn[2124])"
   ]
  },
  {
   "cell_type": "code",
   "execution_count": 118,
   "id": "6836c3bb",
   "metadata": {},
   "outputs": [],
   "source": [
    "# difference4_hol = []\n",
    "\n",
    "# zip_object = zip(temp, temp_crn)\n",
    "# for temp_i, temp_crn_i in zip_object:\n",
    "#     difference4_hol.append(temp_i-temp_crn_i)\n",
    "\n",
    "# print(difference4_hol)"
   ]
  },
  {
   "cell_type": "markdown",
   "id": "9c7354c6",
   "metadata": {},
   "source": [
    "<font size=\"3\">Newton, MS: 0600 UTC (12:00 am CST) 01 March 2022-0600 UTC (12:00 am CST) 02 March 2022</font>"
   ]
  },
  {
   "cell_type": "code",
   "execution_count": 119,
   "id": "93316a90",
   "metadata": {},
   "outputs": [
    {
     "name": "stdout",
     "output_type": "stream",
     "text": [
      "[13.33, 12.7, 11.62, 10.99, 10.53, 9.54001, 9.12, 8.81, 12.97, 19.28, 24.17, 27.56, 29.37, 31.02, 31.39, 31.08, 29.96, 27.86, 24.69, 21.16, 18.45, 16.76, 15.58, 14.37, 13.24]\n"
     ]
    }
   ],
   "source": [
    "#1 hr hrrr:\n",
    "with open('hrrr_f12_Newton_MS.txt') as f:\n",
    "    lst=[line.split()[4] for line in f]\n",
    "    temp_new4=[]\n",
    "    for i in lst:\n",
    "        new=i.replace(',',\"\")\n",
    "        temp_new4.append(new)\n",
    "    temp_new4.pop(0)\n",
    "    temp_new4=[float(x) for x in temp_new4]\n",
    "    temp_new4=temp_new4[2201:2226]\n",
    "    #temp=temp[2015:2063]\n",
    "    print(temp_new4)\n",
    "    #print(len(temp))\n",
    "#full time period is [2015:2112]"
   ]
  },
  {
   "cell_type": "code",
   "execution_count": 120,
   "id": "3c16e336",
   "metadata": {},
   "outputs": [
    {
     "name": "stdout",
     "output_type": "stream",
     "text": [
      "[8.6, 7.9, 7.4, 6.9, 6.5, 5.9, 5.4, 5.1, 7.9, 15.9, 22.6, 25.9, 29.5, 30.6, 31.1, 31.5, 30.7, 29.5, 26.3, 22.4, 15.3, 12.3, 10.8, 9.8, 8.8]\n"
     ]
    }
   ],
   "source": [
    "#Air Temp CRN:\n",
    "with open('CRNH0203-2022-MS_Newton_5_ENE.txt') as f:\n",
    "    lst=[line.split()[20] for line in f]\n",
    "    #print(lst)\n",
    "    temp_crn_new4=[]\n",
    "    for i in lst:\n",
    "        new=i.replace(',',\"\")\n",
    "        temp_crn_new4.append(new)\n",
    "    temp_crn_new4=[float(x) for x in temp_crn_new4]\n",
    "    temp_crn_new4=temp_crn_new4[2212:2237]\n",
    "    print(temp_crn_new4)\n",
    "    #print(len(temp_crn))\n",
    "    # print(temp_crn[2124])"
   ]
  },
  {
   "cell_type": "code",
   "execution_count": 121,
   "id": "895bb872",
   "metadata": {},
   "outputs": [],
   "source": [
    "# difference4_new = []\n",
    "\n",
    "# zip_object = zip(temp, temp_crn)\n",
    "# for temp_i, temp_crn_i in zip_object:\n",
    "#     difference4_new.append(temp_i-temp_crn_i)\n",
    "\n",
    "# print(difference4_new)"
   ]
  },
  {
   "cell_type": "markdown",
   "id": "9e553db4",
   "metadata": {},
   "source": [
    "<font size=\"3\">Gainesville, AL: 0600 UTC (12:00 am CST) 01 March 2022-0600 UTC (12:00 am CST) 02 March 2022</font>"
   ]
  },
  {
   "cell_type": "code",
   "execution_count": 122,
   "id": "34bf4646",
   "metadata": {},
   "outputs": [],
   "source": [
    "# #1 hr hrrr:\n",
    "# with open('hrrr_f12_Gainesville_AL.txt') as f:\n",
    "#     lst=[line.split()[4] for line in f]\n",
    "#     temp=[]\n",
    "#     for i in lst:\n",
    "#         new=i.replace(',',\"\")\n",
    "#         temp.append(new)\n",
    "#     temp.pop(0)\n",
    "#     temp=[float(x) for x in temp]\n",
    "#     temp=temp[2212:2237]\n",
    "#     #temp=temp[2015:2063]\n",
    "#     print(temp)\n",
    "#     #print(len(temp))\n",
    "# #full time period is [2015:2112]"
   ]
  },
  {
   "cell_type": "code",
   "execution_count": 123,
   "id": "67168607",
   "metadata": {},
   "outputs": [],
   "source": [
    "# #Air Temp CRN:\n",
    "# with open('CRNH0203-2022-AL_Gainesville_2_NE.txt') as f:\n",
    "#     lst=[line.split()[20] for line in f]\n",
    "#     #print(lst)\n",
    "#     temp_crn=[]\n",
    "#     for i in lst:\n",
    "#         new=i.replace(',',\"\")\n",
    "#         temp_crn.append(new)\n",
    "#     temp_crn=[float(x) for x in temp_crn]\n",
    "#     temp_crn=temp_crn[2212:2237]\n",
    "#     print(temp_crn)\n",
    "#     #print(len(temp_crn))\n",
    "#     # print(temp_crn[2124])"
   ]
  },
  {
   "cell_type": "code",
   "execution_count": 124,
   "id": "4baf3368",
   "metadata": {},
   "outputs": [],
   "source": [
    "# difference4_gai = []\n",
    "\n",
    "# zip_object = zip(temp, temp_crn)\n",
    "# for temp_i, temp_crn_i in zip_object:\n",
    "#     difference4_gai.append(temp_i-temp_crn_i)\n",
    "\n",
    "# print(difference4_gai)"
   ]
  },
  {
   "cell_type": "markdown",
   "id": "7dcabe11",
   "metadata": {},
   "source": [
    "<font size=\"3\">Fairhope, AL: 0600 UTC (12:00 am CST) 01 March 2022-0600 UTC (12:00 am CST) 02 March 2022</font>"
   ]
  },
  {
   "cell_type": "code",
   "execution_count": 125,
   "id": "66bf707b",
   "metadata": {},
   "outputs": [
    {
     "name": "stdout",
     "output_type": "stream",
     "text": [
      "[12.2, 11.8, 11.09, 10.99, 10.69, 10.4, 10.39, 9.99002, 13.71, 19.25, 23.3, 26.94, 29.08, 30.87, 31.59, 31.47, 30.57, 28.45, 25.32, 21.8, 19.35, 17.38, 16.15, 15.22, 15.02]\n"
     ]
    }
   ],
   "source": [
    "#1 hr hrrr:\n",
    "with open('hrrr_f12_Fairhope_AL.txt') as f:\n",
    "    lst=[line.split()[4] for line in f]\n",
    "    temp_fai4=[]\n",
    "    for i in lst:\n",
    "        new=i.replace(',',\"\")\n",
    "        temp_fai4.append(new)\n",
    "    temp_fai4.pop(0)\n",
    "    temp_fai4=[float(x) for x in temp_fai4]\n",
    "    temp_fai4=temp_fai4[2201:2226]\n",
    "    #temp=temp[2015:2063]\n",
    "    print(temp_fai4)\n",
    "    #print(len(temp))\n",
    "#full time period is [2015:2112]"
   ]
  },
  {
   "cell_type": "code",
   "execution_count": 126,
   "id": "53430b27",
   "metadata": {},
   "outputs": [
    {
     "name": "stdout",
     "output_type": "stream",
     "text": [
      "[5.8, 5.5, 5.4, 5.0, 4.9, 4.6, 4.5, 4.5, 9.5, 17.2, 22.7, 27.9, 31.3, 32.2, 32.3, 31.8, 29.8, 26.6, 23.5, 18.8, 12.0, 10.5, 9.6, 8.9, 8.3]\n"
     ]
    }
   ],
   "source": [
    "#Air Temp CRN:\n",
    "with open('CRNH0203-2022-AL_Fairhope_3_NE.txt') as f:\n",
    "    lst=[line.split()[20] for line in f]\n",
    "    #print(lst)\n",
    "    temp_crn_fai4=[]\n",
    "    for i in lst:\n",
    "        new=i.replace(',',\"\")\n",
    "        temp_crn_fai4.append(new)\n",
    "    temp_crn_fai4=[float(x) for x in temp_crn_fai4]\n",
    "    temp_crn_fai4=temp_crn_fai4[2212:2237]\n",
    "    print(temp_crn_fai4)\n",
    "    #print(len(temp_crn))\n",
    "    # print(temp_crn[2124])"
   ]
  },
  {
   "cell_type": "code",
   "execution_count": 127,
   "id": "320724ae",
   "metadata": {},
   "outputs": [],
   "source": [
    "# difference4_fai = []\n",
    "\n",
    "# zip_object = zip(temp, temp_crn)\n",
    "# for temp_i, temp_crn_i in zip_object:\n",
    "#     difference4_fai.append(temp_i-temp_crn_i)\n",
    "\n",
    "# print(difference4_fai)"
   ]
  },
  {
   "cell_type": "markdown",
   "id": "057898bf",
   "metadata": {},
   "source": [
    "<font size=\"3\">**Selma, AL: 0600 UTC (12:00 am CST) 01 March 2022-0600 UTC (12:00 am CST) 02 March 2022</font>"
   ]
  },
  {
   "cell_type": "code",
   "execution_count": 128,
   "id": "dd6c27fb",
   "metadata": {},
   "outputs": [
    {
     "name": "stdout",
     "output_type": "stream",
     "text": [
      "[10.57, 10.01, 9.45999, 8.94, 8.62, 7.79001, 7.42001, 7.30002, 11.12, 15.8, 19.18, 21.5, 22.58, 24.11, 25.45, 26.12, 25.76, 24.2, 21.57, 17.96, 15.27, 13.92, 13.04, 11.69, 10.89]\n",
      "[9.9, 9.2, 8.4, 7.8, 7.3, 6.9, 6.3, 5.8, 9.7, 17.3, 21.7, 26.1, 30.0, 32.1, 33.1, 32.9, 31.9, 29.8, 26.1, 21.3, 15.8, 13.0, 11.5, 10.3, 9.1]\n"
     ]
    }
   ],
   "source": [
    "#1 hr hrrr:\n",
    "import numpy as np\n",
    "import numpy.ma as ma\n",
    "with open('hrrr_f12_Selma_AL.txt') as f:\n",
    "    lst=[line.split()[4] for line in f]\n",
    "    temp_sel4=[]\n",
    "    for i in lst:\n",
    "        new=i.replace(',',\"\")\n",
    "        temp_sel4.append(new)\n",
    "    temp_sel4.pop(0)\n",
    "    temp_sel4=[float(x) for x in temp_sel4]\n",
    "    temp_sel4=temp_sel4[2201:2226]\n",
    "\n",
    "#     x = np.array(temp)\n",
    "#     temp = ma.masked_array(x, mask=[0, 0, 0, 0, 0,0,0,0,0,0,0,0,0,0,0,0,0,1,1,1,1,0,0,0,0])\n",
    "    #print(temp)\n",
    "#Air Temp CRN:\n",
    "with open('CRNH0203-2022-AL_Selma_13_WNW.txt') as f:\n",
    "    lst=[line.split()[20] for line in f]\n",
    "    #print(lst)\n",
    "    temp_crn_sel4=[]\n",
    "    for i in lst:\n",
    "        new=i.replace(',',\"\")\n",
    "        temp_crn_sel4.append(new)\n",
    "    temp_crn_sel4=[float(x) for x in temp_crn_sel4]\n",
    "    temp_crn_sel4=temp_crn_sel4[2212:2237]\n",
    "#     y = np.array(temp_crn)\n",
    "#     temp_crn = ma.masked_array(y, mask=[0, 0, 0, 0, 0,0,0,0,0,0,0,0,0,0,0,0,0,1,1,1,1,0,0,0,0])\n",
    "    print(temp_sel4)\n",
    "    #print(len(temp))\n",
    "    print(temp_crn_sel4)\n",
    "    #print(len(temp_crn))\n",
    "# #full time period is [2015:2112]\n",
    "# difference4_sel = []\n",
    "\n",
    "# zip_object = zip(temp, temp_crn)\n",
    "# for temp_i, temp_crn_i in zip_object:\n",
    "#     difference4_sel.append(temp_i-temp_crn_i)\n",
    "\n",
    "# print(difference4_sel)\n",
    "# #print(len(difference3_sel))"
   ]
  },
  {
   "cell_type": "markdown",
   "id": "cb37cdb6",
   "metadata": {},
   "source": [
    "<font size=\"3\">Bowling Green, KY: 0600 UTC (12:00 am CST) 01 March 2022-0600 UTC (12:00 am CST) 02 March 2022</font>"
   ]
  },
  {
   "cell_type": "code",
   "execution_count": 129,
   "id": "14e1ecd0",
   "metadata": {},
   "outputs": [
    {
     "name": "stdout",
     "output_type": "stream",
     "text": [
      "[5.82001, 4.82001, 3.61002, 3.20001, 2.36002, 2.60001, 1.04001, 0.550018, 5.12, 9.52002, 13.53, 17.56, 20.62, 22.31, 22.9, 22.69, 21.49, 19.19, 16.26, 12.38, 9.76001, 8.01001, 7.03, 6.39999, 6.24002]\n"
     ]
    }
   ],
   "source": [
    "#1 hr hrrr:\n",
    "with open('hrrr_f12_Bowling Green_KY.txt') as f:\n",
    "    lst=[line.split()[4] for line in f]\n",
    "    temp_bow4=[]\n",
    "    for i in lst:\n",
    "        new=i.replace(',',\"\")\n",
    "        temp_bow4.append(new)\n",
    "    temp_bow4.pop(0)\n",
    "    temp_bow4=[float(x) for x in temp_bow4]\n",
    "    temp_bow4=temp_bow4[2201:2226]\n",
    "    #temp=temp[2015:2063]\n",
    "    print(temp_bow4)\n",
    "    #print(len(temp))\n",
    "#full time period is [2015:2112]"
   ]
  },
  {
   "cell_type": "code",
   "execution_count": 130,
   "id": "8121578e",
   "metadata": {},
   "outputs": [
    {
     "name": "stdout",
     "output_type": "stream",
     "text": [
      "[3.4, 1.2, -0.1, -0.5, -1.0, -2.0, -2.4, -2.4, 2.5, 9.8, 15.1, 20.1, 23.5, 25.3, 26.0, 25.8, 24.1, 20.8, 15.4, 9.3, 4.7, 3.4, 3.0, 3.6, 3.2]\n"
     ]
    }
   ],
   "source": [
    "#Air Temp CRN:\n",
    "with open('CRNH0203-2022-KY_Bowling_Green_21_NNE.txt') as f:\n",
    "    lst=[line.split()[20] for line in f]\n",
    "    #print(lst)\n",
    "    temp_crn_bow4=[]\n",
    "    for i in lst:\n",
    "        new=i.replace(',',\"\")\n",
    "        temp_crn_bow4.append(new)\n",
    "    temp_crn_bow4=[float(x) for x in temp_crn_bow4]\n",
    "    temp_crn_bow4=temp_crn_bow4[2212:2237]\n",
    "    print(temp_crn_bow4)\n",
    "    #print(len(temp_crn))\n",
    "    # print(temp_crn[2124])"
   ]
  },
  {
   "cell_type": "code",
   "execution_count": 131,
   "id": "cbe21805",
   "metadata": {},
   "outputs": [],
   "source": [
    "# difference4_bow = []\n",
    "\n",
    "# zip_object = zip(temp, temp_crn)\n",
    "# for temp_i, temp_crn_i in zip_object:\n",
    "#     difference4_bow.append(temp_i-temp_crn_i)\n",
    "\n",
    "# print(difference4_bow)"
   ]
  },
  {
   "cell_type": "markdown",
   "id": "b962f206",
   "metadata": {},
   "source": [
    "<font size=\"3\">Gadsden, AL: 0600 UTC (12:00 am CST) 01 March 2022-0600 UTC (12:00 am CST) 02 March 2022</font>"
   ]
  },
  {
   "cell_type": "code",
   "execution_count": 132,
   "id": "e76025fd",
   "metadata": {},
   "outputs": [
    {
     "name": "stdout",
     "output_type": "stream",
     "text": [
      "[10.66, 9.83002, 9.0, 8.89001, 8.38, 8.11002, 8.05002, 7.59, 10.59, 13.65, 17.23, 19.51, 21.31, 22.72, 23.21, 22.98, 21.85, 19.95, 17.06, 13.66, 11.8, 10.83, 9.92999, 8.88, 7.48001]\n"
     ]
    }
   ],
   "source": [
    "#1 hr hrrr:\n",
    "with open('hrrr_f12_Gadsden_AL.txt') as f:\n",
    "    lst=[line.split()[4] for line in f]\n",
    "    temp_gad4=[]\n",
    "    for i in lst:\n",
    "        new=i.replace(',',\"\")\n",
    "        temp_gad4.append(new)\n",
    "    temp_gad4.pop(0)\n",
    "    temp_gad4=[float(x) for x in temp_gad4]\n",
    "    temp_gad4=temp_gad4[2201:2226]\n",
    "#     x = np.array(temp)\n",
    "#     temp = ma.masked_array(x, mask=[0, 0, 0, 0, 0,0,0,0,1,0,0,0,0,0,0,0,0,0,0,0,0,0,0,0,0])\n",
    "    #temp=temp[2015:2063]\n",
    "    print(temp_gad4)\n",
    "    #print(len(temp))\n",
    "#full time period is [2015:2112]"
   ]
  },
  {
   "cell_type": "code",
   "execution_count": 133,
   "id": "4c633594",
   "metadata": {},
   "outputs": [
    {
     "name": "stdout",
     "output_type": "stream",
     "text": [
      "[5.9, 5.2, 5.0, 4.5, 4.0, 5.2, 5.4, 5.2, 8.6, 12.1, 15.5, 19.4, 21.6, 23.6, 24.3, 24.6, 23.4, 20.8, 17.5, 13.5, 9.2, 7.9, 6.6, 5.5, 4.7]\n"
     ]
    }
   ],
   "source": [
    "#Air Temp CRN:\n",
    "with open('CRNH0203-2022-AL_Gadsden_19_N.txt') as f:\n",
    "    lst=[line.split()[20] for line in f]\n",
    "    #print(lst)\n",
    "    temp_crn_gad4=[]\n",
    "    for i in lst:\n",
    "        new=i.replace(',',\"\")\n",
    "        temp_crn_gad4.append(new)\n",
    "    temp_crn_gad4=[float(x) for x in temp_crn_gad4]\n",
    "    temp_crn_gad4=temp_crn_gad4[2212:2237]\n",
    "#     y = np.array(temp_crn)\n",
    "#     temp_crn = ma.masked_array(y, mask=[0, 0, 0, 0, 0,0,0,0,1,0,0,0,0,0,0,0,0,0,0,0,0,0,0,0,0])\n",
    "    print(temp_crn_gad4)\n",
    "    #print(len(temp_crn))\n",
    "    # print(temp_crn[2124])"
   ]
  },
  {
   "cell_type": "code",
   "execution_count": 134,
   "id": "fd78be39",
   "metadata": {},
   "outputs": [],
   "source": [
    "# difference4_gad = []\n",
    "\n",
    "# zip_object = zip(temp, temp_crn)\n",
    "# for temp_i, temp_crn_i in zip_object:\n",
    "#     difference4_gad.append(temp_i-temp_crn_i)\n",
    "\n",
    "# print(difference4_gad)"
   ]
  },
  {
   "cell_type": "markdown",
   "id": "de9fab15",
   "metadata": {},
   "source": [
    "<font size=\"3\">Newton, GA: 0600 UTC (12:00 am CST) 01 March 2022-0600 UTC (12:00 am CST) 02 March 2022</font>"
   ]
  },
  {
   "cell_type": "code",
   "execution_count": 135,
   "id": "ee45f74b",
   "metadata": {},
   "outputs": [
    {
     "name": "stdout",
     "output_type": "stream",
     "text": [
      "[11.81, 10.94, 10.26, 9.41, 8.73001, 8.11002, 7.87, 8.31, 12.75, 17.41, 21.71, 25.28, 27.72, 29.21, 29.94, 29.6, 28.65, 26.54, 23.74, 19.7, 17.0, 15.77, 14.41, 13.72, 13.04]\n"
     ]
    }
   ],
   "source": [
    "#1 hr hrrr:\n",
    "with open('hrrr_f12_Newton_GA.txt') as f:\n",
    "    lst=[line.split()[4] for line in f]\n",
    "    temp_newt4=[]\n",
    "    for i in lst:\n",
    "        new=i.replace(',',\"\")\n",
    "        temp_newt4.append(new)\n",
    "    temp_newt4.pop(0)\n",
    "    temp_newt4=[float(x) for x in temp_newt4]\n",
    "    temp_newt4=temp_newt4[2201:2226]\n",
    "    #temp=temp[2015:2063]\n",
    "    print(temp_newt4)\n",
    "    #print(len(temp))\n",
    "#full time period is [2015:2112]"
   ]
  },
  {
   "cell_type": "code",
   "execution_count": 136,
   "id": "569d6a98",
   "metadata": {},
   "outputs": [
    {
     "name": "stdout",
     "output_type": "stream",
     "text": [
      "[10.5, 10.1, 9.8, 9.3, 9.0, 8.7, 8.4, 8.1, 8.1, 11.7, 16.1, 20.5, 25.0, 28.4, 30.3, 31.8, 31.4, 29.5, 27.4, 24.0, 19.4, 15.0, 13.4, 12.4, 11.6]\n"
     ]
    }
   ],
   "source": [
    "#Air Temp CRN:\n",
    "with open('CRNH0203-2022-GA_Newton_11_SW.txt') as f:\n",
    "    lst=[line.split()[20] for line in f]\n",
    "    #print(lst)\n",
    "    temp_crn_newt4=[]\n",
    "    for i in lst:\n",
    "        new=i.replace(',',\"\")\n",
    "        temp_crn_newt4.append(new)\n",
    "    temp_crn_newt4=[float(x) for x in temp_crn_newt4]\n",
    "    temp_crn_newt4=temp_crn_newt4[2211:2236]\n",
    "    print(temp_crn_newt4)\n",
    "    #print(len(temp_crn))\n",
    "    # print(temp_crn[2124])"
   ]
  },
  {
   "cell_type": "code",
   "execution_count": 137,
   "id": "23233b5a",
   "metadata": {},
   "outputs": [],
   "source": [
    "# difference4_newt = []\n",
    "\n",
    "# zip_object = zip(temp, temp_crn)\n",
    "# for temp_i, temp_crn_i in zip_object:\n",
    "#     difference4_newt.append(temp_i-temp_crn_i)\n",
    "\n",
    "# print(difference4_newt)"
   ]
  },
  {
   "cell_type": "markdown",
   "id": "ab4663ab",
   "metadata": {},
   "source": [
    "<font size=\"3\">Salem, MO: 0500 UTC (12:00 am CDT) 19 April 2022-0500 UTC (12:00 am CDT) 20 April 2022</font>"
   ]
  },
  {
   "cell_type": "code",
   "execution_count": 138,
   "id": "3fe4d4d8",
   "metadata": {},
   "outputs": [
    {
     "name": "stdout",
     "output_type": "stream",
     "text": [
      "[1.03, 0.580017, -0.0700073, -0.369995, -0.369995, -0.399994, -0.440002, -0.269989, 2.70001, 6.42999, 9.56, 12.3, 14.59, 16.35, 17.43, 17.9, 17.6, 15.56, 12.86, 11.26, 9.80002, 8.84, 7.74002, 7.48001, 6.70001]\n"
     ]
    }
   ],
   "source": [
    "#1 hr hrrr:\n",
    "with open('hrrr_f12_Salem_MO.txt') as f:\n",
    "    lst=[line.split()[4] for line in f]\n",
    "    temp_sal5=[]\n",
    "    for i in lst:\n",
    "        new=i.replace(',',\"\")\n",
    "        temp_sal5.append(new)\n",
    "    temp_sal5.pop(0)\n",
    "    temp_sal5=[float(x) for x in temp_sal5]\n",
    "    temp_sal5=temp_sal5[2585:2610]\n",
    "    #temp=temp[2015:2063]\n",
    "    print(temp_sal5)\n",
    "#full time period is [2015:2112]"
   ]
  },
  {
   "cell_type": "code",
   "execution_count": 139,
   "id": "8e5ef275",
   "metadata": {},
   "outputs": [
    {
     "name": "stdout",
     "output_type": "stream",
     "text": [
      "[-2.8, -3.3, -2.9, -2.5, -3.8, -4.9, -5.5, -5.1, -0.5, 7.5, 14.4, 20.7, 26.3, 29.2, 31.2, 30.7, 28.4, 25.7, 19.2, 13.9, 10.6, 8.5, 8.7, 9.0, 8.0]\n"
     ]
    }
   ],
   "source": [
    "#Air Temp CRN:\n",
    "with open('CRNH0203-2022-MO_Salem_10_W.txt') as f:\n",
    "    lst=[line.split()[20] for line in f]\n",
    "    #print(lst)\n",
    "    temp_crn_sal5=[]\n",
    "    for i in lst:\n",
    "        new=i.replace(',',\"\")\n",
    "        temp_crn_sal5.append(new)\n",
    "    temp_crn_sal5=[float(x) for x in temp_crn_sal5]\n",
    "    temp_crn_sal5=temp_crn_sal5[2596:2621]\n",
    "    print(temp_crn_sal5)\n",
    "    # print(temp_crn[2124])"
   ]
  },
  {
   "cell_type": "code",
   "execution_count": 140,
   "id": "631903a7",
   "metadata": {},
   "outputs": [],
   "source": [
    "# difference5_sal = []\n",
    "\n",
    "# zip_object = zip(temp, temp_crn)\n",
    "# for temp_i, temp_crn_i in zip_object:\n",
    "#     difference5_sal.append(temp_i-temp_crn_i)\n",
    "\n",
    "# print(difference5_sal)"
   ]
  },
  {
   "cell_type": "markdown",
   "id": "eb16f605",
   "metadata": {},
   "source": [
    "<font size=\"3\">Batesville, AR: 0600 UTC (12:00 am CST) 01 March 2022-0600 UTC (12:00 am CST) 02 March 2022</font>"
   ]
  },
  {
   "cell_type": "code",
   "execution_count": 141,
   "id": "5f6566a3",
   "metadata": {},
   "outputs": [
    {
     "name": "stdout",
     "output_type": "stream",
     "text": [
      "[5.31, 4.22, 3.52002, 2.99002, 2.73001, 2.16, 1.62, 1.57001, 6.17001, 10.54, 14.16, 17.93, 20.58, 22.67, 23.45, 23.47, 22.51, 19.11, 18.03, 15.15, 12.8, 11.48, 9.95999, 8.76001, 8.36002]\n"
     ]
    }
   ],
   "source": [
    "#1 hr hrrr:\n",
    "with open('hrrr_f12_Batesville_AR.txt') as f:\n",
    "    lst=[line.split()[4] for line in f]\n",
    "    temp_bat5=[]\n",
    "    for i in lst:\n",
    "        new=i.replace(',',\"\")\n",
    "        temp_bat5.append(new)\n",
    "    temp_bat5.pop(0)\n",
    "    temp_bat5=[float(x) for x in temp_bat5]\n",
    "    temp_bat5=temp_bat5[2585:2610]\n",
    "#     x = np.array(temp)\n",
    "#     temp = ma.masked_array(x, mask=[0, 0, 0, 0, 0,0,0,0,0,0,0,0,0,0,0,0,0,0,0,0,0,1,0,0,0])\n",
    "    #temp=temp[2015:2063]\n",
    "    print(temp_bat5)\n",
    "#full time period is [2015:2112]"
   ]
  },
  {
   "cell_type": "code",
   "execution_count": 142,
   "id": "181df417",
   "metadata": {},
   "outputs": [
    {
     "name": "stdout",
     "output_type": "stream",
     "text": [
      "[1.6, 1.2, 0.7, 0.3, 0.1, -0.3, -0.7, -0.7, 1.8, 7.3, 11.7, 15.7, 17.9, 19.7, 20.1, 19.4, 18.0, 16.0, 13.9, 11.8, 9.0, 5.6, 5.4, 4.4, 5.8]\n"
     ]
    }
   ],
   "source": [
    "#Air Temp CRN:\n",
    "with open('CRNH0203-2022-AR_Batesville_8_WNW.txt') as f:\n",
    "    lst=[line.split()[20] for line in f]\n",
    "    #print(lst)\n",
    "    temp_crn_bat5=[]\n",
    "    for i in lst:\n",
    "        new=i.replace(',',\"\")\n",
    "        temp_crn_bat5.append(new)\n",
    "    temp_crn_bat5=[float(x) for x in temp_crn_bat5]\n",
    "    temp_crn_bat5=temp_crn_bat5[2596:2621]\n",
    "#     y = np.array(temp_crn)\n",
    "#     temp_crn = ma.masked_array(y, mask=[0, 0, 0, 0, 0,0,0,0,0,0,0,0,0,0,0,0,0,0,0,0,0,1,0,0,0])\n",
    "    print(temp_crn_bat5)\n",
    "    #print(len(temp_crn))\n",
    "    # print(temp_crn[2124])"
   ]
  },
  {
   "cell_type": "code",
   "execution_count": 143,
   "id": "32ec4102",
   "metadata": {},
   "outputs": [],
   "source": [
    "# difference5_bat = []\n",
    "\n",
    "# zip_object = zip(temp, temp_crn)\n",
    "# for temp_i, temp_crn_i in zip_object:\n",
    "#     difference5_bat.append(temp_i-temp_crn_i)\n",
    "\n",
    "# print(difference5_bat)"
   ]
  },
  {
   "cell_type": "markdown",
   "id": "ab0f4798",
   "metadata": {},
   "source": [
    "<font size=\"3\">Lafayette, LA: 0600 UTC (12:00 am CST) 01 March 2022-0600 UTC (12:00 am CST) 02 March 2022</font>"
   ]
  },
  {
   "cell_type": "code",
   "execution_count": 144,
   "id": "bf4ca647",
   "metadata": {},
   "outputs": [
    {
     "name": "stdout",
     "output_type": "stream",
     "text": [
      "[13.83, 12.76, 12.21, 11.88, 11.91, 12.18, 11.72, 12.05, 14.69, 18.96, 22.87, 26.39, 29.5, 31.45, 32.74, 32.73, 30.32, 29.1, 26.66, 23.48, 20.33, 18.69, 17.59, 16.87, 15.58]\n"
     ]
    }
   ],
   "source": [
    "#1 hr hrrr:\n",
    "with open('hrrr_f12_Lafayette_LA.txt') as f:\n",
    "    lst=[line.split()[4] for line in f]\n",
    "    temp_laf5=[]\n",
    "    for i in lst:\n",
    "        new=i.replace(',',\"\")\n",
    "        temp_laf5.append(new)\n",
    "    temp_laf5.pop(0)\n",
    "    temp_laf5=[float(x) for x in temp_laf5]\n",
    "    temp_laf5=temp_laf5[2585:2610]\n",
    "    #temp=temp[2015:2063]\n",
    "    print(temp_laf5)\n",
    "    #print(len(temp))\n",
    "#full time period is [2015:2112]"
   ]
  },
  {
   "cell_type": "code",
   "execution_count": 145,
   "id": "6f4ae0a1",
   "metadata": {},
   "outputs": [
    {
     "name": "stdout",
     "output_type": "stream",
     "text": [
      "[12.2, 11.8, 11.1, 10.4, 9.6, 9.1, 9.3, 9.2, 12.2, 14.8, 18.2, 22.9, 26.8, 30.0, 31.6, 31.9, 31.0, 28.0, 25.0, 20.0, 14.6, 11.6, 10.9, 11.1, 11.1]\n"
     ]
    }
   ],
   "source": [
    "#Air Temp CRN:\n",
    "with open('CRNH0203-2022-LA_Lafayette_13_SE.txt') as f:\n",
    "    lst=[line.split()[20] for line in f]\n",
    "    #print(lst)\n",
    "    temp_crn_laf5=[]\n",
    "    for i in lst:\n",
    "        new=i.replace(',',\"\")\n",
    "        temp_crn_laf5.append(new)\n",
    "    temp_crn_laf5=[float(x) for x in temp_crn_laf5]\n",
    "    temp_crn_laf5=temp_crn_laf5[2596:2621]\n",
    "    print(temp_crn_laf5)\n",
    "    #print(len(temp_crn))\n",
    "    # print(temp_crn[2124])"
   ]
  },
  {
   "cell_type": "code",
   "execution_count": 146,
   "id": "482bd1ef",
   "metadata": {},
   "outputs": [],
   "source": [
    "# difference5_laf = []\n",
    "\n",
    "# zip_object = zip(temp, temp_crn)\n",
    "# for temp_i, temp_crn_i in zip_object:\n",
    "#     difference5_laf.append(temp_i-temp_crn_i)\n",
    "\n",
    "# print(difference5_laf)"
   ]
  },
  {
   "cell_type": "markdown",
   "id": "de00e832",
   "metadata": {},
   "source": [
    "<font size=\"3\">Monroe, LA: 0600 UTC (12:00 am CST) 01 March 2022-0600 UTC (12:00 am CST) 02 March 2022</font>"
   ]
  },
  {
   "cell_type": "code",
   "execution_count": 147,
   "id": "4e202ed7",
   "metadata": {},
   "outputs": [
    {
     "name": "stdout",
     "output_type": "stream",
     "text": [
      "[9.59, 9.39999, 9.14001, 9.13, 8.62, 7.92999, 7.23001, 7.08002, 9.80002, 12.62, 15.77, 18.96, 22.61, 25.74, 27.24, 27.6, 26.7, 24.47, 21.87, 18.28, 15.48, 13.9, 13.11, 11.83, 11.89]\n"
     ]
    }
   ],
   "source": [
    "#1 hr hrrr:\n",
    "with open('hrrr_f12_Monroe_LA.txt') as f:\n",
    "    lst=[line.split()[4] for line in f]\n",
    "    temp_mon5=[]\n",
    "    for i in lst:\n",
    "        new=i.replace(',',\"\")\n",
    "        temp_mon5.append(new)\n",
    "    temp_mon5.pop(0)\n",
    "    temp_mon5=[float(x) for x in temp_mon5]\n",
    "    temp_mon5=temp_mon5[2585:2610]\n",
    "    #temp=temp[2015:2063]\n",
    "    print(temp_mon5)\n",
    "    #print(len(temp))\n",
    "#full time period is [2015:2112]"
   ]
  },
  {
   "cell_type": "code",
   "execution_count": 148,
   "id": "89b1b3f1",
   "metadata": {},
   "outputs": [
    {
     "name": "stdout",
     "output_type": "stream",
     "text": [
      "[9.2, 8.7, 8.0, 7.6, 7.1, 6.6, 7.0, 7.8, 9.0, 12.6, 15.1, 18.1, 20.2, 22.5, 23.8, 24.0, 23.7, 23.1, 19.0, 15.9, 12.7, 10.4, 9.7, 9.3, 9.9]\n"
     ]
    }
   ],
   "source": [
    "#Air Temp CRN:\n",
    "with open('CRNH0203-2022-LA_Monroe_26_N.txt') as f:\n",
    "    lst=[line.split()[20] for line in f]\n",
    "    #print(lst)\n",
    "    temp_crn_mon5=[]\n",
    "    for i in lst:\n",
    "        new=i.replace(',',\"\")\n",
    "        temp_crn_mon5.append(new)\n",
    "    temp_crn_mon5=[float(x) for x in temp_crn_mon5]\n",
    "    temp_crn_mon5=temp_crn_mon5[2596:2621]\n",
    "    print(temp_crn_mon5)\n",
    "    #print(len(temp_crn))\n",
    "    # print(temp_crn[2124])"
   ]
  },
  {
   "cell_type": "code",
   "execution_count": 149,
   "id": "461ef9d6",
   "metadata": {},
   "outputs": [],
   "source": [
    "# difference5_mon = []\n",
    "\n",
    "# zip_object = zip(temp, temp_crn)\n",
    "# for temp_i, temp_crn_i in zip_object:\n",
    "#     difference5_mon.append(temp_i-temp_crn_i)\n",
    "\n",
    "# print(difference5_mon)"
   ]
  },
  {
   "cell_type": "markdown",
   "id": "10c3e262",
   "metadata": {},
   "source": [
    "<font size=\"3\">Holly Springs, MS: 0600 UTC (12:00 am CST) 01 March 2022-0600 UTC (12:00 am CST) 02 March 2022</font>"
   ]
  },
  {
   "cell_type": "code",
   "execution_count": 150,
   "id": "02dfc76f",
   "metadata": {},
   "outputs": [
    {
     "name": "stdout",
     "output_type": "stream",
     "text": [
      "[6.23001, 5.45999, 4.83002, 4.41, 3.85001, 3.22, 2.83002, 3.22, 6.29001, 9.16, 12.23, 14.98, 16.73, 18.49, 20.08, 21.11, 20.67, 19.29, 16.79, 13.93, 10.72, 9.57001, 8.72, 8.12, 7.84]\n"
     ]
    }
   ],
   "source": [
    "#1 hr hrrr:\n",
    "with open('hrrr_f12_Holly Springs_MS.txt') as f:\n",
    "    lst=[line.split()[4] for line in f]\n",
    "    temp_hol5=[]\n",
    "    for i in lst:\n",
    "        new=i.replace(',',\"\")\n",
    "        temp_hol5.append(new)\n",
    "    temp_hol5.pop(0)\n",
    "    temp_hol5=[float(x) for x in temp_hol5]\n",
    "    temp_hol5=temp_hol5[2585:2610]\n",
    "    #temp=temp[2015:2063]\n",
    "    print(temp_hol5)\n",
    "    #print(len(temp))\n",
    "#full time period is [2015:2112]"
   ]
  },
  {
   "cell_type": "code",
   "execution_count": 151,
   "id": "c2ad5a2d",
   "metadata": {},
   "outputs": [
    {
     "name": "stdout",
     "output_type": "stream",
     "text": [
      "[4.9, 3.7, 3.0, 2.6, 2.1, 1.5, 1.2, 1.0, 4.0, 9.1, 13.3, 17.4, 20.6, 23.0, 24.1, 24.7, 26.4, 27.1, 23.5, 17.5, 9.9, 7.4, 6.0, 5.2, 4.7]\n"
     ]
    }
   ],
   "source": [
    "#Air Temp CRN:\n",
    "with open('CRNH0203-2022-MS_Holly_Springs_4_N.txt') as f:\n",
    "    lst=[line.split()[20] for line in f]\n",
    "    #print(lst)\n",
    "    temp_crn_hol5=[]\n",
    "    for i in lst:\n",
    "        new=i.replace(',',\"\")\n",
    "        temp_crn_hol5.append(new)\n",
    "    temp_crn_hol5=[float(x) for x in temp_crn_hol5]\n",
    "    temp_crn_hol5=temp_crn_hol5[2596:2621]\n",
    "    print(temp_crn_hol5)\n",
    "    #print(len(temp_crn))\n",
    "    # print(temp_crn[2124])"
   ]
  },
  {
   "cell_type": "code",
   "execution_count": 152,
   "id": "33e182d5",
   "metadata": {},
   "outputs": [],
   "source": [
    "# difference5_hol = []\n",
    "\n",
    "# zip_object = zip(temp, temp_crn)\n",
    "# for temp_i, temp_crn_i in zip_object:\n",
    "#     difference5_hol.append(temp_i-temp_crn_i)\n",
    "\n",
    "# print(difference5_hol)"
   ]
  },
  {
   "cell_type": "markdown",
   "id": "c3611246",
   "metadata": {},
   "source": [
    "<font size=\"3\">Newton, MS: 0600 UTC (12:00 am CST) 01 March 2022-0600 UTC (12:00 am CST) 02 March 2022</font>"
   ]
  },
  {
   "cell_type": "code",
   "execution_count": 153,
   "id": "c9844209",
   "metadata": {},
   "outputs": [
    {
     "name": "stdout",
     "output_type": "stream",
     "text": [
      "[9.75, 9.37, 9.07001, 8.91, 8.36002, 8.39001, 7.54001, 7.25, 9.54001, 12.02, 14.65, 17.28, 19.44, 21.75, 23.44, 24.29, 23.61, 22.21, 19.67, 16.48, 14.13, 12.79, 11.88, 10.83, 10.35]\n"
     ]
    }
   ],
   "source": [
    "#1 hr hrrr:\n",
    "with open('hrrr_f12_Newton_MS.txt') as f:\n",
    "    lst=[line.split()[4] for line in f]\n",
    "    temp_new5=[]\n",
    "    for i in lst:\n",
    "        new=i.replace(',',\"\")\n",
    "        temp_new5.append(new)\n",
    "    temp_new5.pop(0)\n",
    "    temp_new5=[float(x) for x in temp_new5]\n",
    "    temp_new5=temp_new5[2585:2610]\n",
    "    #temp=temp[2015:2063]\n",
    "    print(temp_new5)\n",
    "    #print(len(temp))\n",
    "#full time period is [2015:2112]"
   ]
  },
  {
   "cell_type": "code",
   "execution_count": 154,
   "id": "27922cc2",
   "metadata": {},
   "outputs": [
    {
     "name": "stdout",
     "output_type": "stream",
     "text": [
      "[8.9, 7.7, 6.6, 5.9, 5.6, 4.7, 4.2, 4.1, 8.5, 12.5, 15.7, 20.1, 23.9, 26.2, 28.0, 28.0, 27.8, 25.8, 23.8, 19.5, 13.1, 9.8, 8.5, 7.8, 7.1]\n"
     ]
    }
   ],
   "source": [
    "#Air Temp CRN:\n",
    "with open('CRNH0203-2022-MS_Newton_5_ENE.txt') as f:\n",
    "    lst=[line.split()[20] for line in f]\n",
    "    #print(lst)\n",
    "    temp_crn_new5=[]\n",
    "    for i in lst:\n",
    "        new=i.replace(',',\"\")\n",
    "        temp_crn_new5.append(new)\n",
    "    temp_crn_new5=[float(x) for x in temp_crn_new5]\n",
    "    temp_crn_new5=temp_crn_new5[2596:2621]\n",
    "    print(temp_crn_new5)\n",
    "    #print(len(temp_crn))\n",
    "    # print(temp_crn[2124])"
   ]
  },
  {
   "cell_type": "code",
   "execution_count": 155,
   "id": "26f39b75",
   "metadata": {},
   "outputs": [],
   "source": [
    "# difference5_new = []\n",
    "\n",
    "# zip_object = zip(temp, temp_crn)\n",
    "# for temp_i, temp_crn_i in zip_object:\n",
    "#     difference5_new.append(temp_i-temp_crn_i)\n",
    "\n",
    "# print(difference5_new)"
   ]
  },
  {
   "cell_type": "markdown",
   "id": "35f6ffe5",
   "metadata": {},
   "source": [
    "<font size=\"3\">Gainesville, AL: 0600 UTC (12:00 am CST) 01 March 2022-0600 UTC (12:00 am CST) 02 March 2022</font>"
   ]
  },
  {
   "cell_type": "code",
   "execution_count": 156,
   "id": "d2bd1457",
   "metadata": {},
   "outputs": [],
   "source": [
    "# #1 hr hrrr:\n",
    "# with open('hrrr_f12_Gainesville_AL.txt') as f:\n",
    "#     lst=[line.split()[4] for line in f]\n",
    "#     temp=[]\n",
    "#     for i in lst:\n",
    "#         new=i.replace(',',\"\")\n",
    "#         temp.append(new)\n",
    "#     temp.pop(0)\n",
    "#     temp=[float(x) for x in temp]\n",
    "#     temp=temp[2596:2621]\n",
    "#     #temp=temp[2015:2063]\n",
    "#     print(temp)\n",
    "#     #print(len(temp))\n",
    "# #full time period is [2015:2112]"
   ]
  },
  {
   "cell_type": "code",
   "execution_count": 157,
   "id": "4f5c8ab2",
   "metadata": {},
   "outputs": [],
   "source": [
    "# #Air Temp CRN:\n",
    "# with open('CRNH0203-2022-AL_Gainesville_2_NE.txt') as f:\n",
    "#     lst=[line.split()[20] for line in f]\n",
    "#     #print(lst)\n",
    "#     temp_crn=[]\n",
    "#     for i in lst:\n",
    "#         new=i.replace(',',\"\")\n",
    "#         temp_crn.append(new)\n",
    "#     temp_crn=[float(x) for x in temp_crn]\n",
    "#     temp_crn=temp_crn[2596:2621]\n",
    "#     print(temp_crn)\n",
    "#     #print(len(temp_crn))\n",
    "#     # print(temp_crn[2124])"
   ]
  },
  {
   "cell_type": "code",
   "execution_count": 158,
   "id": "8356bd44",
   "metadata": {},
   "outputs": [],
   "source": [
    "# difference5_gai = []\n",
    "\n",
    "# zip_object = zip(temp, temp_crn)\n",
    "# for temp_i, temp_crn_i in zip_object:\n",
    "#     difference5_gai.append(temp_i-temp_crn_i)\n",
    "\n",
    "# print(difference5_gai)"
   ]
  },
  {
   "cell_type": "markdown",
   "id": "fb46ce72",
   "metadata": {},
   "source": [
    "<font size=\"3\">Fairhope, AL: 0600 UTC (12:00 am CST) 01 March 2022-0600 UTC (12:00 am CST) 02 March 2022</font>"
   ]
  },
  {
   "cell_type": "code",
   "execution_count": 159,
   "id": "eb7efbb3",
   "metadata": {},
   "outputs": [
    {
     "name": "stdout",
     "output_type": "stream",
     "text": [
      "[11.92, 11.53, 11.24, 11.14, 10.89, 10.92, 10.07, 10.4, 13.12, 16.73, 19.81, 22.23, 24.42, 26.18, 27.09, 27.21, 26.15, 24.32, 21.49, 18.56, 16.45, 15.12, 14.09, 13.25, 12.57]\n"
     ]
    }
   ],
   "source": [
    "#1 hr hrrr:\n",
    "with open('hrrr_f12_Fairhope_AL.txt') as f:\n",
    "    lst=[line.split()[4] for line in f]\n",
    "    temp_fai5=[]\n",
    "    for i in lst:\n",
    "        new=i.replace(',',\"\")\n",
    "        temp_fai5.append(new)\n",
    "    temp_fai5.pop(0)\n",
    "    temp_fai5=[float(x) for x in temp_fai5]\n",
    "    temp_fai5=temp_fai5[2585:2610]\n",
    "    #temp=temp[2015:2063]\n",
    "    print(temp_fai5)\n",
    "    #print(len(temp))\n",
    "#full time period is [2015:2112]"
   ]
  },
  {
   "cell_type": "code",
   "execution_count": 160,
   "id": "91a8ae69",
   "metadata": {},
   "outputs": [
    {
     "name": "stdout",
     "output_type": "stream",
     "text": [
      "[11.7, 11.2, 10.2, 10.1, 10.7, 9.8, 8.2, 8.1, 11.0, 14.6, 17.5, 20.7, 22.9, 24.6, 25.6, 25.1, 23.5, 22.0, 19.8, 16.2, 10.8, 7.8, 6.7, 5.9, 5.7]\n"
     ]
    }
   ],
   "source": [
    "#Air Temp CRN:\n",
    "with open('CRNH0203-2022-AL_Fairhope_3_NE.txt') as f:\n",
    "    lst=[line.split()[20] for line in f]\n",
    "    #print(lst)\n",
    "    temp_crn_fai5=[]\n",
    "    for i in lst:\n",
    "        new=i.replace(',',\"\")\n",
    "        temp_crn_fai5.append(new)\n",
    "    temp_crn_fai5=[float(x) for x in temp_crn_fai5]\n",
    "    temp_crn_fai5=temp_crn_fai5[2596:2621]\n",
    "    print(temp_crn_fai5)\n",
    "    #print(len(temp_crn))\n",
    "    # print(temp_crn[2124])"
   ]
  },
  {
   "cell_type": "code",
   "execution_count": 161,
   "id": "27eb4d35",
   "metadata": {},
   "outputs": [],
   "source": [
    "# difference5_fai = []\n",
    "\n",
    "# zip_object = zip(temp, temp_crn)\n",
    "# for temp_i, temp_crn_i in zip_object:\n",
    "#     difference5_fai.append(temp_i-temp_crn_i)\n",
    "\n",
    "# print(difference5_fai)"
   ]
  },
  {
   "cell_type": "markdown",
   "id": "26ae7516",
   "metadata": {},
   "source": [
    "<font size=\"3\">**Selma, AL: 0600 UTC (12:00 am CST) 01 March 2022-0600 UTC (12:00 am CST) 02 March 2022</font>"
   ]
  },
  {
   "cell_type": "code",
   "execution_count": 162,
   "id": "bb3e0d4e",
   "metadata": {},
   "outputs": [
    {
     "name": "stdout",
     "output_type": "stream",
     "text": [
      "[9.39999, 8.92001, 8.27002, 7.92001, 7.42001, 7.06, 6.42001, 7.38, 10.17, 12.21, 14.47, 16.74, 18.33, 19.45, 19.82, 19.77, 18.8, 17.26, 15.88, 14.17, 11.86, 10.68, 9.79001, 9.0, 8.5]\n",
      "[10.7, 10.7, 9.8, 8.3, 7.2, 6.2, 5.6, 5.6, 10.4, 14.1, 17.3, 20.6, 23.9, 25.6, 26.8, 27.4, 27.1, 26.0, 23.9, 18.7, 14.4, 11.5, 10.2, 9.1, 8.4]\n"
     ]
    }
   ],
   "source": [
    "#1 hr hrrr:\n",
    "import numpy as np\n",
    "import numpy.ma as ma\n",
    "with open('hrrr_f12_Selma_AL.txt') as f:\n",
    "    lst=[line.split()[4] for line in f]\n",
    "    temp_sel5=[]\n",
    "    for i in lst:\n",
    "        new=i.replace(',',\"\")\n",
    "        temp_sel5.append(new)\n",
    "    temp_sel5.pop(0)\n",
    "    temp_sel5=[float(x) for x in temp_sel5]\n",
    "    temp_sel5=temp_sel5[2585:2610]\n",
    "\n",
    "#     x = np.array(temp)\n",
    "#     temp = ma.masked_array(x, mask=[0, 0, 0, 0, 0,0,0,0,0,0,0,0,0,0,0,0,0,1,1,1,1,0,0,0,0])\n",
    "    #print(temp)\n",
    "#Air Temp CRN:\n",
    "with open('CRNH0203-2022-AL_Selma_13_WNW.txt') as f:\n",
    "    lst=[line.split()[20] for line in f]\n",
    "    #print(lst)\n",
    "    temp_crn_sel5=[]\n",
    "    for i in lst:\n",
    "        new=i.replace(',',\"\")\n",
    "        temp_crn_sel5.append(new)\n",
    "    temp_crn_sel5=[float(x) for x in temp_crn_sel5]\n",
    "    temp_crn_sel5=temp_crn_sel5[2596:2621]\n",
    "#     y = np.array(temp_crn)\n",
    "#     temp_crn = ma.masked_array(y, mask=[0, 0, 0, 0, 0,0,0,0,0,0,0,0,0,0,0,0,0,1,1,1,1,0,0,0,0])\n",
    "    print(temp_sel5)\n",
    "    #print(len(temp))\n",
    "    print(temp_crn_sel5)\n",
    "    #print(len(temp_crn))\n",
    "# #full time period is [2015:2112]\n",
    "# difference5_sel = []\n",
    "\n",
    "# zip_object = zip(temp, temp_crn)\n",
    "# for temp_i, temp_crn_i in zip_object:\n",
    "#     difference5_sel.append(temp_i-temp_crn_i)\n",
    "\n",
    "# print(difference5_sel)\n",
    "# #print(len(difference3_sel))"
   ]
  },
  {
   "cell_type": "markdown",
   "id": "d56aedb3",
   "metadata": {},
   "source": [
    "<font size=\"3\">Bowling Green, KY: 0600 UTC (12:00 am CST) 01 March 2022-0600 UTC (12:00 am CST) 02 March 2022</font>"
   ]
  },
  {
   "cell_type": "code",
   "execution_count": 163,
   "id": "24633681",
   "metadata": {},
   "outputs": [
    {
     "name": "stdout",
     "output_type": "stream",
     "text": [
      "[1.67999, 1.56, 1.25, 1.14999, 0.429993, -0.179993, -0.579987, 0.589996, 3.97, 7.42999, 10.88, 13.94, 16.93, 19.07, 20.1, 20.01, 18.87, 17.06, 14.13, 10.78, 8.08002, 6.38, 5.31, 4.67001, 4.44]\n"
     ]
    }
   ],
   "source": [
    "#1 hr hrrr:\n",
    "with open('hrrr_f12_Bowling Green_KY.txt') as f:\n",
    "    lst=[line.split()[4] for line in f]\n",
    "    temp_bow5=[]\n",
    "    for i in lst:\n",
    "        new=i.replace(',',\"\")\n",
    "        temp_bow5.append(new)\n",
    "    temp_bow5.pop(0)\n",
    "    temp_bow5=[float(x) for x in temp_bow5]\n",
    "    temp_bow5=temp_bow5[2585:2610]\n",
    "    #temp=temp[2015:2063]\n",
    "    print(temp_bow5)\n",
    "    #print(len(temp))\n",
    "#full time period is [2015:2112]"
   ]
  },
  {
   "cell_type": "code",
   "execution_count": 164,
   "id": "f8ae0010",
   "metadata": {},
   "outputs": [
    {
     "name": "stdout",
     "output_type": "stream",
     "text": [
      "[0.3, -0.5, -1.2, -1.6, -1.4, -2.4, -3.0, -2.5, 3.2, 8.2, 12.4, 16.4, 19.4, 21.5, 21.9, 21.6, 20.4, 18.2, 13.5, 9.1, 4.2, 2.5, 1.9, 1.8, 3.4]\n"
     ]
    }
   ],
   "source": [
    "#Air Temp CRN:\n",
    "with open('CRNH0203-2022-KY_Bowling_Green_21_NNE.txt') as f:\n",
    "    lst=[line.split()[20] for line in f]\n",
    "    #print(lst)\n",
    "    temp_crn_bow5=[]\n",
    "    for i in lst:\n",
    "        new=i.replace(',',\"\")\n",
    "        temp_crn_bow5.append(new)\n",
    "    temp_crn_bow5=[float(x) for x in temp_crn_bow5]\n",
    "    temp_crn_bow5=temp_crn_bow5[2596:2621]\n",
    "    print(temp_crn_bow5)\n",
    "    #print(len(temp_crn))\n",
    "    # print(temp_crn[2124])"
   ]
  },
  {
   "cell_type": "code",
   "execution_count": 165,
   "id": "0855a124",
   "metadata": {},
   "outputs": [],
   "source": [
    "# difference5_bow = []\n",
    "\n",
    "# zip_object = zip(temp, temp_crn)\n",
    "# for temp_i, temp_crn_i in zip_object:\n",
    "#     difference5_bow.append(temp_i-temp_crn_i)\n",
    "\n",
    "# print(difference5_bow)"
   ]
  },
  {
   "cell_type": "markdown",
   "id": "230d1a46",
   "metadata": {},
   "source": [
    "<font size=\"3\">Gadsden, AL: 0600 UTC (12:00 am CST) 01 March 2022-0600 UTC (12:00 am CST) 02 March 2022</font>"
   ]
  },
  {
   "cell_type": "code",
   "execution_count": 166,
   "id": "c5f9ab54",
   "metadata": {},
   "outputs": [
    {
     "name": "stdout",
     "output_type": "stream",
     "text": [
      "[6.19, 5.51001, 5.01001, 4.69, 4.70999, 4.0, 3.56, 4.42001, 7.70999, 11.11, 14.83, 17.97, 19.94, 21.32, 21.97, 21.68, 20.54, 18.74, 16.39, 13.32, 10.79, 9.49002, 8.39999, 7.29001, 6.63]\n"
     ]
    }
   ],
   "source": [
    "#1 hr hrrr:\n",
    "with open('hrrr_f12_Gadsden_AL.txt') as f:\n",
    "    lst=[line.split()[4] for line in f]\n",
    "    temp_gad5=[]\n",
    "    for i in lst:\n",
    "        new=i.replace(',',\"\")\n",
    "        temp_gad5.append(new)\n",
    "    temp_gad5.pop(0)\n",
    "    temp_gad5=[float(x) for x in temp_gad5]\n",
    "    temp_gad5=temp_gad5[2585:2610]\n",
    "#     x = np.array(temp)\n",
    "#     temp = ma.masked_array(x, mask=[0, 0, 0, 0, 0,0,0,0,1,0,0,0,0,0,0,0,0,0,0,0,0,0,0,0,0])\n",
    "    #temp=temp[2015:2063]\n",
    "    print(temp_gad5)\n",
    "    #print(len(temp))\n",
    "#full time period is [2015:2112]"
   ]
  },
  {
   "cell_type": "code",
   "execution_count": 167,
   "id": "d154dfa6",
   "metadata": {},
   "outputs": [
    {
     "name": "stdout",
     "output_type": "stream",
     "text": [
      "[6.7, 5.4, 3.9, 3.8, 4.2, 4.3, 3.6, 3.6, 7.0, 10.1, 12.7, 16.7, 19.6, 21.6, 22.4, 22.4, 21.3, 19.9, 17.8, 14.1, 9.1, 6.8, 5.9, 5.3, 4.7]\n"
     ]
    }
   ],
   "source": [
    "#Air Temp CRN:\n",
    "with open('CRNH0203-2022-AL_Gadsden_19_N.txt') as f:\n",
    "    lst=[line.split()[20] for line in f]\n",
    "    #print(lst)\n",
    "    temp_crn_gad5=[]\n",
    "    for i in lst:\n",
    "        new=i.replace(',',\"\")\n",
    "        temp_crn_gad5.append(new)\n",
    "    temp_crn_gad5=[float(x) for x in temp_crn_gad5]\n",
    "    temp_crn_gad5=temp_crn_gad5[2596:2621]\n",
    "#     y = np.array(temp_crn)\n",
    "#     temp_crn = ma.masked_array(y, mask=[0, 0, 0, 0, 0,0,0,0,1,0,0,0,0,0,0,0,0,0,0,0,0,0,0,0,0])\n",
    "    print(temp_crn_gad5)\n",
    "    #print(len(temp_crn))\n",
    "    # print(temp_crn[2124])"
   ]
  },
  {
   "cell_type": "code",
   "execution_count": 168,
   "id": "20f98582",
   "metadata": {},
   "outputs": [],
   "source": [
    "# difference5_gad = []\n",
    "\n",
    "# zip_object = zip(temp, temp_crn)\n",
    "# for temp_i, temp_crn_i in zip_object:\n",
    "#     difference5_gad.append(temp_i-temp_crn_i)\n",
    "\n",
    "# print(difference5_gad)"
   ]
  },
  {
   "cell_type": "markdown",
   "id": "200f3740",
   "metadata": {},
   "source": [
    "<font size=\"3\">Newton, GA: 0600 UTC (12:00 am CST) 01 March 2022-0600 UTC (12:00 am CST) 02 March 2022</font>"
   ]
  },
  {
   "cell_type": "code",
   "execution_count": 169,
   "id": "c0676e97",
   "metadata": {},
   "outputs": [
    {
     "name": "stdout",
     "output_type": "stream",
     "text": [
      "[13.01, 12.16, 11.32, 10.77, 10.55, 9.72, 9.55002, 10.42, 13.62, 16.94, 20.02, 23.15, 24.99, 26.77, 27.27, 27.33, 25.97, 24.03, 21.11, 17.62, 15.27, 13.79, 12.55, 11.55, 10.37]\n"
     ]
    }
   ],
   "source": [
    "#1 hr hrrr:\n",
    "with open('hrrr_f12_Newton_GA.txt') as f:\n",
    "    lst=[line.split()[4] for line in f]\n",
    "    temp_newt5=[]\n",
    "    for i in lst:\n",
    "        new=i.replace(',',\"\")\n",
    "        temp_newt5.append(new)\n",
    "    temp_newt5.pop(0)\n",
    "    temp_newt5=[float(x) for x in temp_newt5]\n",
    "    temp_newt5=temp_newt5[2585:2610]\n",
    "    #temp=temp[2015:2063]\n",
    "    print(temp_newt5)\n",
    "    #print(len(temp))\n",
    "#full time period is [2015:2112]"
   ]
  },
  {
   "cell_type": "code",
   "execution_count": 170,
   "id": "94f7876b",
   "metadata": {},
   "outputs": [
    {
     "name": "stdout",
     "output_type": "stream",
     "text": [
      "[15.1, 14.2, 13.3, 12.4, 11.1, 10.5, 10.6, 10.0, 9.8, 12.2, 15.3, 19.3, 22.9, 26.4, 28.8, 30.4, 30.5, 29.0, 26.7, 23.3, 18.7, 14.2, 12.3, 11.2, 10.4]\n"
     ]
    }
   ],
   "source": [
    "#Air Temp CRN:\n",
    "with open('CRNH0203-2022-GA_Newton_11_SW.txt') as f:\n",
    "    lst=[line.split()[20] for line in f]\n",
    "    #print(lst)\n",
    "    temp_crn_newt5=[]\n",
    "    for i in lst:\n",
    "        new=i.replace(',',\"\")\n",
    "        temp_crn_newt5.append(new)\n",
    "    temp_crn_newt5=[float(x) for x in temp_crn_newt5]\n",
    "    temp_crn_newt5=temp_crn_newt5[2595:2620]\n",
    "    print(temp_crn_newt5)\n",
    "    #print(len(temp_crn))\n",
    "    # print(temp_crn[2124])"
   ]
  },
  {
   "cell_type": "code",
   "execution_count": 171,
   "id": "4d737508",
   "metadata": {},
   "outputs": [],
   "source": [
    "# difference5_newt = []\n",
    "\n",
    "# zip_object = zip(temp, temp_crn)\n",
    "# for temp_i, temp_crn_i in zip_object:\n",
    "#     difference5_newt.append(temp_i-temp_crn_i)\n",
    "\n",
    "# print(difference5_newt)"
   ]
  },
  {
   "cell_type": "markdown",
   "id": "cd4a8f77",
   "metadata": {},
   "source": [
    "<font size=\"3\">Salem, MO: 0500 UTC (12:00 am CDT) 27 April 2022-0500 UTC (12:00 am CDT) 28 April 2022</font>"
   ]
  },
  {
   "cell_type": "code",
   "execution_count": 172,
   "id": "e74c5bbe",
   "metadata": {},
   "outputs": [
    {
     "name": "stdout",
     "output_type": "stream",
     "text": [
      "[6.28, 5.72, 5.14001, 4.67001, 4.52002, 4.26001, 5.17001, 6.24002, 9.60001, 12.93, 16.04, 18.69, 21.99, 24.41, 25.57, 25.65, 24.71, 23.11, 20.48, 17.68, 14.67, 13.19, 12.02, 11.17, 10.57]\n"
     ]
    }
   ],
   "source": [
    "#1 hr hrrr:\n",
    "with open('hrrr_f12_Salem_MO.txt') as f:\n",
    "    lst=[line.split()[4] for line in f]\n",
    "    temp_sal6=[]\n",
    "    for i in lst:\n",
    "        new=i.replace(',',\"\")\n",
    "        temp_sal6.append(new)\n",
    "    temp_sal6.pop(0)\n",
    "    temp_sal6=[float(x) for x in temp_sal6]\n",
    "    temp_sal6=temp_sal6[2777:2802]\n",
    "    #temp=temp[2015:2063]\n",
    "    print(temp_sal6)\n",
    "#full time period is [2015:2112]"
   ]
  },
  {
   "cell_type": "code",
   "execution_count": 173,
   "id": "370dc7d4",
   "metadata": {},
   "outputs": [
    {
     "name": "stdout",
     "output_type": "stream",
     "text": [
      "[1.2, 0.9, 0.7, 0.9, 0.8, 0.6, 0.7, 1.6, 6.8, 12.3, 19.3, 24.5, 29.5, 31.6, 33.7, 32.9, 31.4, 28.0, 23.7, 17.6, 14.5, 13.2, 11.8, 10.5, 10.8]\n"
     ]
    }
   ],
   "source": [
    "#Air Temp CRN:\n",
    "with open('CRNH0203-2022-MO_Salem_10_W.txt') as f:\n",
    "    lst=[line.split()[20] for line in f]\n",
    "    #print(lst)\n",
    "    temp_crn_sal6=[]\n",
    "    for i in lst:\n",
    "        new=i.replace(',',\"\")\n",
    "        temp_crn_sal6.append(new)\n",
    "    temp_crn_sal6=[float(x) for x in temp_crn_sal6]\n",
    "    temp_crn_sal6=temp_crn_sal6[2788:2813]\n",
    "    print(temp_crn_sal6)\n",
    "    # print(temp_crn[2124])"
   ]
  },
  {
   "cell_type": "code",
   "execution_count": 174,
   "id": "38ad8303",
   "metadata": {},
   "outputs": [],
   "source": [
    "# difference6_sal = []\n",
    "\n",
    "# zip_object = zip(temp, temp_crn)\n",
    "# for temp_i, temp_crn_i in zip_object:\n",
    "#     difference6_sal.append(temp_i-temp_crn_i)\n",
    "\n",
    "# print(difference6_sal)"
   ]
  },
  {
   "cell_type": "markdown",
   "id": "a9ca1aca",
   "metadata": {},
   "source": [
    "<font size=\"3\">Batesville, AR: 0600 UTC (12:00 am CST) 01 March 2022-0600 UTC (12:00 am CST) 02 March 2022</font>"
   ]
  },
  {
   "cell_type": "code",
   "execution_count": 175,
   "id": "90b292da",
   "metadata": {},
   "outputs": [
    {
     "name": "stdout",
     "output_type": "stream",
     "text": [
      "[8.20001, 7.78, 7.20999, 6.67001, 6.20001, 5.91, 5.67999, 6.49002, 11.13, 15.41, 17.99, 20.21, 22.02, 23.4, 24.34, 24.74, 24.43, 23.09, 20.97, 18.42, 14.76, 13.13, 12.12, 11.35, 10.52]\n"
     ]
    }
   ],
   "source": [
    "#1 hr hrrr:\n",
    "with open('hrrr_f12_Batesville_AR.txt') as f:\n",
    "    lst=[line.split()[4] for line in f]\n",
    "    temp_bat6=[]\n",
    "    for i in lst:\n",
    "        new=i.replace(',',\"\")\n",
    "        temp_bat6.append(new)\n",
    "    temp_bat6.pop(0)\n",
    "    temp_bat6=[float(x) for x in temp_bat6]\n",
    "    temp_bat6=temp_bat6[2777:2802]\n",
    "#     x = np.array(temp)\n",
    "#     temp = ma.masked_array(x, mask=[0, 0, 0, 0, 0,0,0,0,0,0,0,0,0,0,0,0,0,0,0,0,0,1,0,0,0])\n",
    "    #temp=temp[2015:2063]\n",
    "    print(temp_bat6)"
   ]
  },
  {
   "cell_type": "code",
   "execution_count": 176,
   "id": "67dc1ac6",
   "metadata": {},
   "outputs": [
    {
     "name": "stdout",
     "output_type": "stream",
     "text": [
      "[3.9, 3.1, 2.3, 2.3, 1.5, 1.1, 1.1, 1.7, 5.4, 11.0, 15.2, 18.0, 20.5, 21.9, 22.7, 22.3, 21.4, 20.2, 18.3, 15.4, 11.8, 9.0, 8.0, 7.4, 6.5]\n"
     ]
    }
   ],
   "source": [
    "#Air Temp CRN:\n",
    "with open('CRNH0203-2022-AR_Batesville_8_WNW.txt') as f:\n",
    "    lst=[line.split()[20] for line in f]\n",
    "    #print(lst)\n",
    "    temp_crn_bat6=[]\n",
    "    for i in lst:\n",
    "        new=i.replace(',',\"\")\n",
    "        temp_crn_bat6.append(new)\n",
    "    temp_crn_bat6=[float(x) for x in temp_crn_bat6]\n",
    "    temp_crn_bat6=temp_crn_bat6[2788:2813]\n",
    "#     y = np.array(temp_crn)\n",
    "#     temp_crn = ma.masked_array(y, mask=[0, 0, 0, 0, 0,0,0,0,0,0,0,0,0,0,0,0,0,0,0,0,0,1,0,0,0])\n",
    "    print(temp_crn_bat6)\n",
    "    #print(len(temp_crn))\n",
    "    # print(temp_crn[2124])"
   ]
  },
  {
   "cell_type": "code",
   "execution_count": 177,
   "id": "ea97b53d",
   "metadata": {},
   "outputs": [],
   "source": [
    "# difference6_bat = []\n",
    "\n",
    "# zip_object = zip(temp, temp_crn)\n",
    "# for temp_i, temp_crn_i in zip_object:\n",
    "#     difference6_bat.append(temp_i-temp_crn_i)\n",
    "\n",
    "# print(difference6_bat)"
   ]
  },
  {
   "cell_type": "markdown",
   "id": "5726dedb",
   "metadata": {},
   "source": [
    "<font size=\"3\">Lafayette, LA: 0600 UTC (12:00 am CST) 01 March 2022-0600 UTC (12:00 am CST) 02 March 2022</font>"
   ]
  },
  {
   "cell_type": "code",
   "execution_count": 178,
   "id": "4afdefd5",
   "metadata": {},
   "outputs": [
    {
     "name": "stdout",
     "output_type": "stream",
     "text": [
      "[18.52, 17.17, 16.53, 15.89, 15.12, 14.45, 13.95, 13.92, 17.41, 22.38, 27.09, 31.32, 34.1, 35.79, 36.48, 36.47, 35.37, 33.24, 30.34, 26.69, 22.69, 20.71, 18.77, 17.29, 16.14]\n"
     ]
    }
   ],
   "source": [
    "#1 hr hrrr:\n",
    "with open('hrrr_f12_Lafayette_LA.txt') as f:\n",
    "    lst=[line.split()[4] for line in f]\n",
    "    temp_laf6=[]\n",
    "    for i in lst:\n",
    "        new=i.replace(',',\"\")\n",
    "        temp_laf6.append(new)\n",
    "    temp_laf6.pop(0)\n",
    "    temp_laf6=[float(x) for x in temp_laf6]\n",
    "    temp_laf6=temp_laf6[2777:2802]\n",
    "    #temp=temp[2015:2063]\n",
    "    print(temp_laf6)\n",
    "    #print(len(temp))\n",
    "#full time period is [2015:2112]"
   ]
  },
  {
   "cell_type": "code",
   "execution_count": 179,
   "id": "f87af32e",
   "metadata": {},
   "outputs": [
    {
     "name": "stdout",
     "output_type": "stream",
     "text": [
      "[12.8, 12.6, 11.9, 11.0, 11.0, 10.5, 9.5, 9.3, 13.2, 18.1, 24.4, 32.1, 37.8, 40.3, 41.7, 41.3, 39.1, 36.1, 31.0, 23.2, 16.3, 12.5, 11.5, 10.7, 10.2]\n"
     ]
    }
   ],
   "source": [
    "#Air Temp CRN:\n",
    "with open('CRNH0203-2022-LA_Lafayette_13_SE.txt') as f:\n",
    "    lst=[line.split()[20] for line in f]\n",
    "    #print(lst)\n",
    "    temp_crn_laf6=[]\n",
    "    for i in lst:\n",
    "        new=i.replace(',',\"\")\n",
    "        temp_crn_laf6.append(new)\n",
    "    temp_crn_laf6=[float(x) for x in temp_crn_laf6]\n",
    "    temp_crn_laf6=temp_crn_laf6[2788:2813]\n",
    "    print(temp_crn_laf6)\n",
    "    #print(len(temp_crn))\n",
    "    # print(temp_crn[2124])"
   ]
  },
  {
   "cell_type": "code",
   "execution_count": 180,
   "id": "7b222157",
   "metadata": {},
   "outputs": [],
   "source": [
    "# difference6_laf = []\n",
    "\n",
    "# zip_object = zip(temp, temp_crn)\n",
    "# for temp_i, temp_crn_i in zip_object:\n",
    "#     difference6_laf.append(temp_i-temp_crn_i)\n",
    "\n",
    "# print(difference6_laf)"
   ]
  },
  {
   "cell_type": "markdown",
   "id": "de2bb1cb",
   "metadata": {},
   "source": [
    "<font size=\"3\">Monroe, LA: 0600 UTC (12:00 am CST) 01 March 2022-0600 UTC (12:00 am CST) 02 March 2022</font>"
   ]
  },
  {
   "cell_type": "code",
   "execution_count": 181,
   "id": "ebecba2f",
   "metadata": {},
   "outputs": [
    {
     "name": "stdout",
     "output_type": "stream",
     "text": [
      "[11.5, 10.64, 10.04, 9.17999, 8.51001, 8.07001, 7.78, 7.81, 11.04, 14.86, 18.41, 21.69, 25.17, 28.61, 30.42, 30.76, 30.13, 28.13, 25.44, 22.08, 18.35, 16.14, 14.56, 13.45, 12.69]\n"
     ]
    }
   ],
   "source": [
    "#1 hr hrrr:\n",
    "with open('hrrr_f12_Monroe_LA.txt') as f:\n",
    "    lst=[line.split()[4] for line in f]\n",
    "    temp_mon6=[]\n",
    "    for i in lst:\n",
    "        new=i.replace(',',\"\")\n",
    "        temp_mon6.append(new)\n",
    "    temp_mon6.pop(0)\n",
    "    temp_mon6=[float(x) for x in temp_mon6]\n",
    "    temp_mon6=temp_mon6[2777:2802]\n",
    "    #temp=temp[2015:2063]\n",
    "    print(temp_mon6)\n",
    "    #print(len(temp))\n",
    "#full time period is [2015:2112]"
   ]
  },
  {
   "cell_type": "code",
   "execution_count": 182,
   "id": "46f2d051",
   "metadata": {},
   "outputs": [
    {
     "name": "stdout",
     "output_type": "stream",
     "text": [
      "[12.0, 11.4, 10.8, 10.3, 9.4, 8.5, 6.7, 6.2, 9.1, 14.8, 17.8, 21.0, 23.6, 25.6, 27.1, 27.6, 27.3, 26.8, 21.9, 18.3, 14.2, 10.5, 9.1, 8.3, 7.6]\n"
     ]
    }
   ],
   "source": [
    "#Air Temp CRN:\n",
    "with open('CRNH0203-2022-LA_Monroe_26_N.txt') as f:\n",
    "    lst=[line.split()[20] for line in f]\n",
    "    #print(lst)\n",
    "    temp_crn_mon6=[]\n",
    "    for i in lst:\n",
    "        new=i.replace(',',\"\")\n",
    "        temp_crn_mon6.append(new)\n",
    "    temp_crn_mon6=[float(x) for x in temp_crn_mon6]\n",
    "    temp_crn_mon6=temp_crn_mon6[2788:2813]\n",
    "    print(temp_crn_mon6)\n",
    "    #print(len(temp_crn))\n",
    "    # print(temp_crn[2124])"
   ]
  },
  {
   "cell_type": "code",
   "execution_count": 183,
   "id": "7f448702",
   "metadata": {},
   "outputs": [],
   "source": [
    "# difference6_mon = []\n",
    "\n",
    "# zip_object = zip(temp, temp_crn)\n",
    "# for temp_i, temp_crn_i in zip_object:\n",
    "#     difference6_mon.append(temp_i-temp_crn_i)\n",
    "\n",
    "# print(difference6_mon)"
   ]
  },
  {
   "cell_type": "markdown",
   "id": "49e00369",
   "metadata": {},
   "source": [
    "<font size=\"3\">Holly Springs, MS: 0600 UTC (12:00 am CST) 01 March 2022-0600 UTC (12:00 am CST) 02 March 2022</font>"
   ]
  },
  {
   "cell_type": "code",
   "execution_count": 184,
   "id": "a9302d89",
   "metadata": {},
   "outputs": [
    {
     "name": "stdout",
     "output_type": "stream",
     "text": [
      "[7.13, 6.49002, 5.85001, 5.36002, 4.97, 4.54001, 4.26001, 5.60001, 9.91, 13.62, 16.97, 19.69, 21.76, 23.84, 25.63, 26.1, 25.49, 23.7, 21.16, 18.42, 14.95, 13.31, 12.22, 11.45, 10.82]\n"
     ]
    }
   ],
   "source": [
    "#1 hr hrrr:\n",
    "with open('hrrr_f12_Holly Springs_MS.txt') as f:\n",
    "    lst=[line.split()[4] for line in f]\n",
    "    temp_hol6=[]\n",
    "    for i in lst:\n",
    "        new=i.replace(',',\"\")\n",
    "        temp_hol6.append(new)\n",
    "    temp_hol6.pop(0)\n",
    "    temp_hol6=[float(x) for x in temp_hol6]\n",
    "    temp_hol6=temp_hol6[2777:2802]\n",
    "    #temp=temp[2015:2063]\n",
    "    print(temp_hol6)\n",
    "    #print(len(temp))\n",
    "#full time period is [2015:2112]"
   ]
  },
  {
   "cell_type": "code",
   "execution_count": 185,
   "id": "136bd6ce",
   "metadata": {},
   "outputs": [
    {
     "name": "stdout",
     "output_type": "stream",
     "text": [
      "[7.0, 6.3, 5.7, 5.0, 4.4, 4.0, 3.6, 3.8, 8.4, 14.7, 20.4, 26.8, 32.3, 35.6, 36.8, 36.4, 34.5, 31.3, 26.4, 20.7, 14.6, 12.0, 10.9, 10.2, 9.6]\n"
     ]
    }
   ],
   "source": [
    "#Air Temp CRN:\n",
    "with open('CRNH0203-2022-MS_Holly_Springs_4_N.txt') as f:\n",
    "    lst=[line.split()[20] for line in f]\n",
    "    #print(lst)\n",
    "    temp_crn_hol6=[]\n",
    "    for i in lst:\n",
    "        new=i.replace(',',\"\")\n",
    "        temp_crn_hol6.append(new)\n",
    "    temp_crn_hol6=[float(x) for x in temp_crn_hol6]\n",
    "    temp_crn_hol6=temp_crn_hol6[2788:2813]\n",
    "    print(temp_crn_hol6)\n",
    "    #print(len(temp_crn))\n",
    "    # print(temp_crn[2124])"
   ]
  },
  {
   "cell_type": "code",
   "execution_count": 186,
   "id": "19a13a82",
   "metadata": {},
   "outputs": [],
   "source": [
    "# difference6_hol = []\n",
    "\n",
    "# zip_object = zip(temp, temp_crn)\n",
    "# for temp_i, temp_crn_i in zip_object:\n",
    "#     difference6_hol.append(temp_i-temp_crn_i)\n",
    "\n",
    "# print(difference6_hol)"
   ]
  },
  {
   "cell_type": "markdown",
   "id": "4753a3b0",
   "metadata": {},
   "source": [
    "<font size=\"3\">Newton, MS: 0600 UTC (12:00 am CST) 01 March 2022-0600 UTC (12:00 am CST) 02 March 2022</font>"
   ]
  },
  {
   "cell_type": "code",
   "execution_count": 187,
   "id": "68f58603",
   "metadata": {},
   "outputs": [
    {
     "name": "stdout",
     "output_type": "stream",
     "text": [
      "[13.99, 13.1, 12.23, 11.53, 10.9, 10.6, 10.08, 10.72, 14.53, 18.6, 22.62, 25.67, 27.94, 29.37, 29.95, 29.77, 28.68, 26.77, 24.21, 21.2, 18.16, 16.21, 14.8, 13.8, 12.71]\n"
     ]
    }
   ],
   "source": [
    "#1 hr hrrr:\n",
    "with open('hrrr_f12_Newton_MS.txt') as f:\n",
    "    lst=[line.split()[4] for line in f]\n",
    "    temp_new6=[]\n",
    "    for i in lst:\n",
    "        new=i.replace(',',\"\")\n",
    "        temp_new6.append(new)\n",
    "    temp_new6.pop(0)\n",
    "    temp_new6=[float(x) for x in temp_new6]\n",
    "    temp_new6=temp_new6[2777:2802]\n",
    "    #temp=temp[2015:2063]\n",
    "    print(temp_new6)\n",
    "    #print(len(temp))\n",
    "#full time period is [2015:2112]"
   ]
  },
  {
   "cell_type": "code",
   "execution_count": 188,
   "id": "4689695e",
   "metadata": {},
   "outputs": [
    {
     "name": "stdout",
     "output_type": "stream",
     "text": [
      "[10.7, 10.1, 9.7, 9.0, 8.0, 6.8, 5.9, 5.9, 11.3, 15.7, 20.7, 26.2, 29.5, 32.1, 32.5, 32.9, 32.2, 30.1, 27.1, 22.6, 16.2, 12.0, 10.3, 9.1, 8.1]\n"
     ]
    }
   ],
   "source": [
    "#Air Temp CRN:\n",
    "with open('CRNH0203-2022-MS_Newton_5_ENE.txt') as f:\n",
    "    lst=[line.split()[20] for line in f]\n",
    "    #print(lst)\n",
    "    temp_crn_new6=[]\n",
    "    for i in lst:\n",
    "        new=i.replace(',',\"\")\n",
    "        temp_crn_new6.append(new)\n",
    "    temp_crn_new6=[float(x) for x in temp_crn_new6]\n",
    "    temp_crn_new6=temp_crn_new6[2788:2813]\n",
    "    print(temp_crn_new6)\n",
    "    #print(len(temp_crn))\n",
    "    # print(temp_crn[2124])"
   ]
  },
  {
   "cell_type": "code",
   "execution_count": 189,
   "id": "d00b8a13",
   "metadata": {},
   "outputs": [],
   "source": [
    "# difference6_new = []\n",
    "\n",
    "# zip_object = zip(temp, temp_crn)\n",
    "# for temp_i, temp_crn_i in zip_object:\n",
    "#     difference6_new.append(temp_i-temp_crn_i)\n",
    "\n",
    "# print(difference6_new)"
   ]
  },
  {
   "cell_type": "markdown",
   "id": "f6dc6918",
   "metadata": {},
   "source": [
    "<font size=\"3\">Gainesville, AL: 0600 UTC (12:00 am CST) 01 March 2022-0600 UTC (12:00 am CST) 02 March 2022</font>"
   ]
  },
  {
   "cell_type": "code",
   "execution_count": 190,
   "id": "853a5cd2",
   "metadata": {},
   "outputs": [],
   "source": [
    "# #1 hr hrrr:\n",
    "# with open('hrrr_f12_Gainesville_AL.txt') as f:\n",
    "#     lst=[line.split()[4] for line in f]\n",
    "#     temp=[]\n",
    "#     for i in lst:\n",
    "#         new=i.replace(',',\"\")\n",
    "#         temp.append(new)\n",
    "#     temp.pop(0)\n",
    "#     temp=[float(x) for x in temp]\n",
    "#     temp=temp[2788:2813]\n",
    "#     #temp=temp[2015:2063]\n",
    "#     print(temp)\n",
    "#     #print(len(temp))\n",
    "# #full time period is [2015:2112]"
   ]
  },
  {
   "cell_type": "code",
   "execution_count": 191,
   "id": "12cd5b43",
   "metadata": {},
   "outputs": [],
   "source": [
    "# #Air Temp CRN:\n",
    "# with open('CRNH0203-2022-AL_Gainesville_2_NE.txt') as f:\n",
    "#     lst=[line.split()[20] for line in f]\n",
    "#     #print(lst)\n",
    "#     temp_crn=[]\n",
    "#     for i in lst:\n",
    "#         new=i.replace(',',\"\")\n",
    "#         temp_crn.append(new)\n",
    "#     temp_crn=[float(x) for x in temp_crn]\n",
    "#     temp_crn=temp_crn[2788:2813]\n",
    "#     print(temp_crn)\n",
    "#     #print(len(temp_crn))\n",
    "#     # print(temp_crn[2124])"
   ]
  },
  {
   "cell_type": "code",
   "execution_count": 192,
   "id": "182dac80",
   "metadata": {},
   "outputs": [],
   "source": [
    "# difference6_gai = []\n",
    "\n",
    "# zip_object = zip(temp, temp_crn)\n",
    "# for temp_i, temp_crn_i in zip_object:\n",
    "#     difference6_gai.append(temp_i-temp_crn_i)\n",
    "\n",
    "# print(difference6_gai)"
   ]
  },
  {
   "cell_type": "markdown",
   "id": "dca2fd19",
   "metadata": {},
   "source": [
    "<font size=\"3\">Fairhope, AL: 0600 UTC (12:00 am CST) 01 March 2022-0600 UTC (12:00 am CST) 02 March 2022</font>"
   ]
  },
  {
   "cell_type": "code",
   "execution_count": 193,
   "id": "a7ac678b",
   "metadata": {},
   "outputs": [
    {
     "name": "stdout",
     "output_type": "stream",
     "text": [
      "[18.11, 17.45, 16.54, 15.72, 14.91, 14.11, 13.33, 13.7, 16.92, 20.98, 24.97, 28.92, 31.46, 32.67, 32.54, 31.98, 30.82, 28.42, 25.78, 22.56, 20.3, 18.8, 17.41, 16.41, 15.51]\n"
     ]
    }
   ],
   "source": [
    "#1 hr hrrr:\n",
    "with open('hrrr_f12_Fairhope_AL.txt') as f:\n",
    "    lst=[line.split()[4] for line in f]\n",
    "    temp_fai6=[]\n",
    "    for i in lst:\n",
    "        new=i.replace(',',\"\")\n",
    "        temp_fai6.append(new)\n",
    "    temp_fai6.pop(0)\n",
    "    temp_fai6=[float(x) for x in temp_fai6]\n",
    "    temp_fai6=temp_fai6[2777:2802]\n",
    "    #temp=temp[2015:2063]\n",
    "    print(temp_fai6)\n",
    "    #print(len(temp))\n",
    "#full time period is [2015:2112]"
   ]
  },
  {
   "cell_type": "code",
   "execution_count": 194,
   "id": "278d8179",
   "metadata": {},
   "outputs": [
    {
     "name": "stdout",
     "output_type": "stream",
     "text": [
      "[14.3, 13.5, 13.2, 12.1, 11.6, 11.3, 10.0, 9.9, 13.7, 17.4, 21.3, 25.1, 26.2, 27.2, 27.5, 27.4, 26.5, 25.1, 22.6, 19.3, 13.4, 12.6, 12.5, 8.9, 7.4]\n"
     ]
    }
   ],
   "source": [
    "#Air Temp CRN:\n",
    "with open('CRNH0203-2022-AL_Fairhope_3_NE.txt') as f:\n",
    "    lst=[line.split()[20] for line in f]\n",
    "    #print(lst)\n",
    "    temp_crn_fai6=[]\n",
    "    for i in lst:\n",
    "        new=i.replace(',',\"\")\n",
    "        temp_crn_fai6.append(new)\n",
    "    temp_crn_fai6=[float(x) for x in temp_crn_fai6]\n",
    "    temp_crn_fai6=temp_crn_fai6[2788:2813]\n",
    "    print(temp_crn_fai6)\n",
    "    #print(len(temp_crn))\n",
    "    # print(temp_crn[2124])"
   ]
  },
  {
   "cell_type": "code",
   "execution_count": 195,
   "id": "c79c3a66",
   "metadata": {},
   "outputs": [],
   "source": [
    "# difference6_fai = []\n",
    "\n",
    "# zip_object = zip(temp, temp_crn)\n",
    "# for temp_i, temp_crn_i in zip_object:\n",
    "#     difference6_fai.append(temp_i-temp_crn_i)\n",
    "\n",
    "# print(difference6_fai)"
   ]
  },
  {
   "cell_type": "markdown",
   "id": "142d4e9c",
   "metadata": {},
   "source": [
    "<font size=\"3\">**Selma, AL: 0600 UTC (12:00 am CST) 01 March 2022-0600 UTC (12:00 am CST) 02 March 2022</font>"
   ]
  },
  {
   "cell_type": "code",
   "execution_count": 196,
   "id": "96d329b9",
   "metadata": {},
   "outputs": [
    {
     "name": "stdout",
     "output_type": "stream",
     "text": [
      "[12.14, 11.42, 10.67, 9.76001, 9.08002, 8.54001, 7.95999, 9.38, 12.78, 16.39, 19.92, 22.98, 25.32, 27.26, 28.13, 28.11, 27.28, 25.47, 23.13, 20.25, 16.49, 14.6, 13.38, 12.32, 11.41]\n",
      "[11.4, 10.3, 9.3, 8.6, 8.2, 7.7, 6.7, 7.2, 12.8, 17.1, 22.8, 29.4, 34.1, 37.7, 39.2, 39.4, 37.5, 35.1, 30.5, 23.2, 17.7, 13.8, 12.0, 10.8, 10.1]\n"
     ]
    }
   ],
   "source": [
    "#1 hr hrrr:\n",
    "import numpy as np\n",
    "import numpy.ma as ma\n",
    "with open('hrrr_f12_Selma_AL.txt') as f:\n",
    "    lst=[line.split()[4] for line in f]\n",
    "    temp_sel6=[]\n",
    "    for i in lst:\n",
    "        new=i.replace(',',\"\")\n",
    "        temp_sel6.append(new)\n",
    "    temp_sel6.pop(0)\n",
    "    temp_sel6=[float(x) for x in temp_sel6]\n",
    "    temp_sel6=temp_sel6[2777:2802]\n",
    "\n",
    "#     x = np.array(temp)\n",
    "#     temp = ma.masked_array(x, mask=[0, 0, 0, 0, 0,0,0,0,0,0,0,0,0,0,0,0,0,1,1,1,1,0,0,0,0])\n",
    "    #print(temp)\n",
    "#Air Temp CRN:\n",
    "with open('CRNH0203-2022-AL_Selma_13_WNW.txt') as f:\n",
    "    lst=[line.split()[20] for line in f]\n",
    "    #print(lst)\n",
    "    temp_crn_sel6=[]\n",
    "    for i in lst:\n",
    "        new=i.replace(',',\"\")\n",
    "        temp_crn_sel6.append(new)\n",
    "    temp_crn_sel6=[float(x) for x in temp_crn_sel6]\n",
    "    temp_crn_sel6=temp_crn_sel6[2788:2813]\n",
    "#     y = np.array(temp_crn)\n",
    "#     temp_crn = ma.masked_array(y, mask=[0, 0, 0, 0, 0,0,0,0,0,0,0,0,0,0,0,0,0,1,1,1,1,0,0,0,0])\n",
    "    print(temp_sel6)\n",
    "    #print(len(temp))\n",
    "    print(temp_crn_sel6)\n",
    "    #print(len(temp_crn))\n",
    "# #full time period is [2015:2112]\n",
    "# difference6_sel = []\n",
    "\n",
    "# zip_object = zip(temp, temp_crn)\n",
    "# for temp_i, temp_crn_i in zip_object:\n",
    "#     difference6_sel.append(temp_i-temp_crn_i)\n",
    "\n",
    "# print(difference6_sel)\n",
    "# #print(len(difference3_sel))"
   ]
  },
  {
   "cell_type": "markdown",
   "id": "36c4d6a8",
   "metadata": {},
   "source": [
    "<font size=\"3\">Bowling Green, KY: 0600 UTC (12:00 am CST) 01 March 2022-0600 UTC (12:00 am CST) 02 March 2022</font>"
   ]
  },
  {
   "cell_type": "code",
   "execution_count": 197,
   "id": "d83d7c4d",
   "metadata": {},
   "outputs": [
    {
     "name": "stdout",
     "output_type": "stream",
     "text": [
      "[6.19, 5.61002, 5.13, 4.5, 4.19, 3.83002, 3.69, 6.56, 11.4, 15.59, 19.64, 23.31, 25.76, 27.08, 27.35, 27.14, 26.05, 23.89, 21.09, 18.01, 14.78, 13.39, 12.04, 11.41, 10.82]\n"
     ]
    }
   ],
   "source": [
    "#1 hr hrrr:\n",
    "with open('hrrr_f12_Bowling Green_KY.txt') as f:\n",
    "    lst=[line.split()[4] for line in f]\n",
    "    temp_bow6=[]\n",
    "    for i in lst:\n",
    "        new=i.replace(',',\"\")\n",
    "        temp_bow6.append(new)\n",
    "    temp_bow6.pop(0)\n",
    "    temp_bow6=[float(x) for x in temp_bow6]\n",
    "    temp_bow6=temp_bow6[2777:2802]\n",
    "    #temp=temp[2015:2063]\n",
    "    print(temp_bow6)\n",
    "    #print(len(temp))\n",
    "#full time period is [2015:2112]"
   ]
  },
  {
   "cell_type": "code",
   "execution_count": 198,
   "id": "8f795cb5",
   "metadata": {},
   "outputs": [
    {
     "name": "stdout",
     "output_type": "stream",
     "text": [
      "[2.8, 2.5, 2.1, 1.7, 1.6, 1.4, 1.1, 2.8, 8.9, 13.8, 17.2, 20.6, 23.8, 25.2, 26.3, 26.1, 25.1, 23.5, 20.2, 15.4, 10.5, 8.4, 7.9, 7.8, 7.9]\n"
     ]
    }
   ],
   "source": [
    "#Air Temp CRN:\n",
    "with open('CRNH0203-2022-KY_Bowling_Green_21_NNE.txt') as f:\n",
    "    lst=[line.split()[20] for line in f]\n",
    "    #print(lst)\n",
    "    temp_crn_bow6=[]\n",
    "    for i in lst:\n",
    "        new=i.replace(',',\"\")\n",
    "        temp_crn_bow6.append(new)\n",
    "    temp_crn_bow6=[float(x) for x in temp_crn_bow6]\n",
    "    temp_crn_bow6=temp_crn_bow6[2788:2813]\n",
    "    print(temp_crn_bow6)\n",
    "    #print(len(temp_crn))\n",
    "    # print(temp_crn[2124])"
   ]
  },
  {
   "cell_type": "code",
   "execution_count": 199,
   "id": "e091d5ac",
   "metadata": {},
   "outputs": [],
   "source": [
    "# difference6_bow = []\n",
    "\n",
    "# zip_object = zip(temp, temp_crn)\n",
    "# for temp_i, temp_crn_i in zip_object:\n",
    "#     difference6_bow.append(temp_i-temp_crn_i)\n",
    "\n",
    "# print(difference6_bow)"
   ]
  },
  {
   "cell_type": "markdown",
   "id": "f806c48f",
   "metadata": {},
   "source": [
    "<font size=\"3\">Gadsden, AL: 0600 UTC (12:00 am CST) 01 March 2022-0600 UTC (12:00 am CST) 02 March 2022</font>"
   ]
  },
  {
   "cell_type": "code",
   "execution_count": 200,
   "id": "8d69cb25",
   "metadata": {},
   "outputs": [
    {
     "name": "stdout",
     "output_type": "stream",
     "text": [
      "[8.66, 8.04001, 7.45001, 6.95999, 6.60001, 6.26001, 5.59, 7.29001, 10.89, 14.61, 18.6, 21.8, 24.39, 26.05, 26.01, 25.95, 24.86, 23.1, 20.63, 17.65, 15.56, 14.03, 12.16, 11.08, 9.94]\n"
     ]
    }
   ],
   "source": [
    "#1 hr hrrr:\n",
    "with open('hrrr_f12_Gadsden_AL.txt') as f:\n",
    "    lst=[line.split()[4] for line in f]\n",
    "    temp_gad6=[]\n",
    "    for i in lst:\n",
    "        new=i.replace(',',\"\")\n",
    "        temp_gad6.append(new)\n",
    "    temp_gad6.pop(0)\n",
    "    temp_gad6=[float(x) for x in temp_gad6]\n",
    "    temp_gad6=temp_gad6[2777:2802]\n",
    "#     x = np.array(temp)\n",
    "#     temp = ma.masked_array(x, mask=[0, 0, 0, 0, 0,0,0,0,1,0,0,0,0,0,0,0,0,0,0,0,0,0,0,0,0])\n",
    "    #temp=temp[2015:2063]\n",
    "    print(temp_gad6)\n",
    "    #print(len(temp))\n",
    "#full time period is [2015:2112]"
   ]
  },
  {
   "cell_type": "code",
   "execution_count": 201,
   "id": "b2389c35",
   "metadata": {},
   "outputs": [
    {
     "name": "stdout",
     "output_type": "stream",
     "text": [
      "[8.6, 7.6, 6.8, 5.3, 5.3, 5.1, 4.1, 5.0, 10.9, 14.8, 18.2, 22.6, 25.5, 27.2, 27.6, 27.3, 25.9, 24.2, 21.9, 18.1, 13.0, 10.2, 9.2, 8.0, 7.1]\n"
     ]
    }
   ],
   "source": [
    "#Air Temp CRN:\n",
    "with open('CRNH0203-2022-AL_Gadsden_19_N.txt') as f:\n",
    "    lst=[line.split()[20] for line in f]\n",
    "    #print(lst)\n",
    "    temp_crn_gad6=[]\n",
    "    for i in lst:\n",
    "        new=i.replace(',',\"\")\n",
    "        temp_crn_gad6.append(new)\n",
    "    temp_crn_gad6=[float(x) for x in temp_crn_gad6]\n",
    "    temp_crn_gad6=temp_crn_gad6[2788:2813]\n",
    "#     y = np.array(temp_crn)\n",
    "#     temp_crn = ma.masked_array(y, mask=[0, 0, 0, 0, 0,0,0,0,1,0,0,0,0,0,0,0,0,0,0,0,0,0,0,0,0])\n",
    "    print(temp_crn_gad6)\n",
    "    #print(len(temp_crn))\n",
    "    # print(temp_crn[2124])"
   ]
  },
  {
   "cell_type": "code",
   "execution_count": 202,
   "id": "8b6d3e05",
   "metadata": {},
   "outputs": [],
   "source": [
    "# difference6_gad = []\n",
    "\n",
    "# zip_object = zip(temp, temp_crn)\n",
    "# for temp_i, temp_crn_i in zip_object:\n",
    "#     difference6_gad.append(temp_i-temp_crn_i)\n",
    "\n",
    "# print(difference6_gad)"
   ]
  },
  {
   "cell_type": "markdown",
   "id": "a0cf3d12",
   "metadata": {},
   "source": [
    "<font size=\"3\">Newton, GA: 0600 UTC (12:00 am CST) 01 March 2022-0600 UTC (12:00 am CST) 02 March 2022</font>"
   ]
  },
  {
   "cell_type": "code",
   "execution_count": 203,
   "id": "3fd04e58",
   "metadata": {},
   "outputs": [
    {
     "name": "stdout",
     "output_type": "stream",
     "text": [
      "[19.14, 18.37, 17.53, 17.0, 15.91, 15.32, 15.38, 16.51, 19.86, 24.17, 28.49, 32.0, 33.95, 35.31, 35.19, 34.56, 33.4, 31.12, 28.21, 24.54, 21.99, 20.55, 19.28, 18.46, 17.36]\n"
     ]
    }
   ],
   "source": [
    "#1 hr hrrr:\n",
    "with open('hrrr_f12_Newton_GA.txt') as f:\n",
    "    lst=[line.split()[4] for line in f]\n",
    "    temp_newt6=[]\n",
    "    for i in lst:\n",
    "        new=i.replace(',',\"\")\n",
    "        temp_newt6.append(new)\n",
    "    temp_newt6.pop(0)\n",
    "    temp_newt6=[float(x) for x in temp_newt6]\n",
    "    temp_newt6=temp_newt6[2777:2802]\n",
    "    #temp=temp[2015:2063]\n",
    "    print(temp_newt6)\n",
    "    #print(len(temp))\n",
    "#full time period is [2015:2112]"
   ]
  },
  {
   "cell_type": "code",
   "execution_count": 204,
   "id": "727d988e",
   "metadata": {},
   "outputs": [
    {
     "name": "stdout",
     "output_type": "stream",
     "text": [
      "[19.7, 18.9, 17.8, 16.6, 15.7, 15.5, 14.8, 13.9, 14.3, 17.7, 23.4, 29.6, 35.1, 39.7, 42.8, 43.8, 42.7, 40.1, 36.0, 30.8, 25.0, 19.5, 17.4, 16.2, 15.4]\n"
     ]
    }
   ],
   "source": [
    "#Air Temp CRN:\n",
    "with open('CRNH0203-2022-GA_Newton_11_SW.txt') as f:\n",
    "    lst=[line.split()[20] for line in f]\n",
    "    #print(lst)\n",
    "    temp_crn_newt6=[]\n",
    "    for i in lst:\n",
    "        new=i.replace(',',\"\")\n",
    "        temp_crn_newt6.append(new)\n",
    "    temp_crn_newt6=[float(x) for x in temp_crn_newt6]\n",
    "    temp_crn_newt6=temp_crn_newt6[2787:2812]\n",
    "    print(temp_crn_newt6)\n",
    "    #print(len(temp_crn))\n",
    "    # print(temp_crn[2124])"
   ]
  },
  {
   "cell_type": "code",
   "execution_count": 205,
   "id": "53f1a23a",
   "metadata": {},
   "outputs": [],
   "source": [
    "# difference6_newt = []\n",
    "\n",
    "# zip_object = zip(temp, temp_crn)\n",
    "# for temp_i, temp_crn_i in zip_object:\n",
    "#     difference6_newt.append(temp_i-temp_crn_i)\n",
    "\n",
    "# print(difference6_newt)"
   ]
  },
  {
   "cell_type": "code",
   "execution_count": 206,
   "id": "8a134c48",
   "metadata": {},
   "outputs": [
    {
     "name": "stdout",
     "output_type": "stream",
     "text": [
      "25\n"
     ]
    }
   ],
   "source": [
    "hour=[6,7,8,9,10,11,12,13,14,15,16,17,18,19,20,21,22,23,0,1,2,3,4,5,6]\n",
    "print(len(hour))"
   ]
  },
  {
   "cell_type": "code",
   "execution_count": 207,
   "id": "45def68f",
   "metadata": {},
   "outputs": [
    {
     "name": "stdout",
     "output_type": "stream",
     "text": [
      "range(0, 25)\n"
     ]
    }
   ],
   "source": [
    "xs = range(len(hour))\n",
    "print(xs)"
   ]
  },
  {
   "cell_type": "code",
   "execution_count": 208,
   "id": "d5fd370b",
   "metadata": {},
   "outputs": [
    {
     "name": "stdout",
     "output_type": "stream",
     "text": [
      "[ 4.59636455  4.31546091  3.67091591  3.28727318  2.93455695  2.82273709\n",
      "  2.51091164  2.96273018  7.32909091 12.45636182 16.53909091 19.32363636\n",
      " 21.53909091 22.81181818 22.95909091 22.08636364 20.47545455 17.51818182\n",
      " 13.40091    11.12454909 10.01091273  9.07728091  8.40091273  7.57454909\n",
      "  6.87818545]\n",
      "[ 1.43636364  0.88181818  0.47272727  0.06363636 -0.09090909 -0.31818182\n",
      " -0.17272727  0.08181818  3.67272727 11.02727273 17.12727273 21.69090909\n",
      " 24.6        25.92727273 26.06363636 24.94545455 22.49090909 18.69090909\n",
      " 12.96363636  7.80909091  5.84545455  4.65454545  3.63636364  2.90909091\n",
      "  2.41818182]\n"
     ]
    },
    {
     "data": {
      "text/plain": [
       "25"
      ]
     },
     "execution_count": 208,
     "metadata": {},
     "output_type": "execute_result"
    }
   ],
   "source": [
    "c1 = np.array([temp_sal1,temp_bat1,temp_laf1,temp_mon1,temp_hol1,temp_new1,temp_fai1,temp_sel1,temp_bow1,temp_gad1,temp_newt1])\n",
    "c1=np.nanmean(c1, axis=0)\n",
    "print(c1)\n",
    "len(c1)\n",
    "\n",
    "b1 = np.array([temp_crn_sal1,temp_crn_bat1,temp_crn_laf1,temp_crn_mon1,temp_crn_hol1,temp_crn_new1,temp_crn_fai1,temp_crn_sel1,temp_crn_bow1,temp_crn_gad1,temp_crn_newt1])\n",
    "b1=np.nanmean(b1, axis=0)\n",
    "print(b1)\n",
    "len(b1)"
   ]
  },
  {
   "cell_type": "code",
   "execution_count": 209,
   "id": "7d6e3e43",
   "metadata": {},
   "outputs": [
    {
     "data": {
      "image/png": "[encoded data removed]",
      "text/plain": [
       "<Figure size 792x396 with 1 Axes>"
      ]
     },
     "metadata": {},
     "output_type": "display_data"
    }
   ],
   "source": [
    "plt.style.use('seaborn-whitegrid')\n",
    "plt.rcParams[\"figure.figsize\"] = [11.00, 5.50]\n",
    "plt.rcParams[\"figure.autolayout\"] = True\n",
    "plt.yticks(np.arange(-35,40,5))\n",
    "plt.ylim(-35,35)\n",
    "# c[6]=None\n",
    "# b[6]=None\n",
    "\n",
    "plt.plot(xs,c1,c=\"b\", marker='o')\n",
    "plt.plot(xs,b1,c=\"orange\", marker='o')\n",
    "# c[6]=None\n",
    "# b[6]=None\n",
    "\n",
    "plt.title(\"1-hr Avg. MBE All Stations\")\n",
    "plt.xlabel(\"UTC Hour\")\n",
    "plt.ylabel(\"MBE Incoming Radiation (W/m^2)\")\n",
    "#plt.plot(hour,c)\n",
    "#plt.errorbar(hour,c,yerr=b,ecolor='r',elinewidth=5,fmt='s',color='k')\n",
    "#plt.grid()\n",
    "plt.xticks(xs, hour)\n",
    "plt.show()\n",
    "#plt.axvspan(-4, 4, color='green', alpha=0.2, lw=0)"
   ]
  },
  {
   "cell_type": "code",
   "execution_count": 210,
   "id": "3931d44b",
   "metadata": {},
   "outputs": [
    {
     "name": "stdout",
     "output_type": "stream",
     "text": [
      "[-0.60362909 -0.76272095 -1.21181145 -1.46453545 -1.66453918 -1.8090873\n",
      " -1.85635336 -0.44817936  3.58182364  7.44727682 11.32363636 14.61091\n",
      " 17.07727273 18.64090909 18.98       18.37545455 16.61636364 13.94909091\n",
      " 10.34000273  8.18455091  7.00363636  6.19546     5.48182273  4.80091727\n",
      "  4.20909482]\n",
      "[-3.31818182 -3.30909091 -3.58181818 -3.87272727 -3.74545455 -3.6\n",
      " -3.63636364 -2.91818182  1.07272727  6.72727273 11.95454545 16.27272727\n",
      " 19.91818182 21.82727273 22.17272727 21.23636364 18.86363636 15.31818182\n",
      " 10.73636364  5.86363636  3.6         3.09090909  2.82727273  2.50909091\n",
      "  2.25454545]\n"
     ]
    }
   ],
   "source": [
    "c2 = np.array([temp_sal2,temp_bat2,temp_laf2,temp_mon2,temp_hol2,temp_new2,temp_fai2,temp_sel2,temp_bow2,temp_gad2,temp_newt2])\n",
    "c2=np.nanmean(c2, axis=0)\n",
    "print(c2)\n",
    "\n",
    "\n",
    "b2 = np.array([temp_crn_sal2,temp_crn_bat2,temp_crn_laf2,temp_crn_mon2,temp_crn_hol2,temp_crn_new2,temp_crn_fai2,temp_crn_sel2,temp_crn_bow2,temp_crn_gad2,temp_crn_newt2])\n",
    "b2=np.nanmean(b2, axis=0)\n",
    "print(b2)"
   ]
  },
  {
   "cell_type": "code",
   "execution_count": 211,
   "id": "4c8ac8a3",
   "metadata": {},
   "outputs": [
    {
     "data": {
      "image/png": "[encoded data removed]",
      "text/plain": [
       "<Figure size 792x396 with 1 Axes>"
      ]
     },
     "metadata": {},
     "output_type": "display_data"
    }
   ],
   "source": [
    "plt.style.use('seaborn-whitegrid')\n",
    "plt.rcParams[\"figure.figsize\"] = [11.00, 5.50]\n",
    "plt.rcParams[\"figure.autolayout\"] = True\n",
    "plt.yticks(np.arange(-35,40,5))\n",
    "plt.ylim(-35,35)\n",
    "# c[6]=None\n",
    "# b[6]=None\n",
    "\n",
    "plt.plot(xs,c2,c=\"r\", marker='o')\n",
    "plt.plot(xs,b2,c=\"orange\", marker='o')\n",
    "# c[6]=None\n",
    "# b[6]=None\n",
    "\n",
    "plt.title(\"1-hr Avg. MBE All Stations\")\n",
    "plt.xlabel(\"UTC Hour\")\n",
    "plt.ylabel(\"MBE Incoming Radiation (W/m^2)\")\n",
    "#plt.plot(hour,c)\n",
    "#plt.errorbar(hour,c,yerr=b,ecolor='r',elinewidth=5,fmt='s',color='k')\n",
    "#plt.grid()\n",
    "plt.xticks(xs, hour)\n",
    "plt.show()\n",
    "#plt.axvspan(-4, 4, color='green', alpha=0.2, lw=0)"
   ]
  },
  {
   "cell_type": "code",
   "execution_count": 212,
   "id": "e7aee5e0",
   "metadata": {},
   "outputs": [
    {
     "name": "stdout",
     "output_type": "stream",
     "text": [
      "[ 7.91182273  7.15636273  6.51000818  5.87273036  5.40637304  5.07727491\n",
      "  4.84727736  4.49273636  6.78545727 11.81181818 16.27636364 19.58727273\n",
      " 22.28454545 24.20272727 25.51       25.59363636 24.89818182 23.31727273\n",
      " 20.62818182 16.84636364 14.06636364 12.54818273 11.55363909 10.80000273\n",
      " 10.13545636]\n",
      "[ 3.98181818  3.36363636  2.87272727  2.44545455  2.05454545  1.70909091\n",
      "  1.32727273  1.15454545  2.39090909  8.86363636 15.21818182 20.26363636\n",
      " 24.1        26.71818182 27.99090909 28.25454545 26.95454545 24.57272727\n",
      " 21.09090909 16.04545455 10.42727273  8.57272727  7.67272727  6.9\n",
      "  6.22727273]\n"
     ]
    }
   ],
   "source": [
    "c3= np.array([temp_sal3,temp_bat3,temp_laf3,temp_mon3,temp_hol3,temp_new3,temp_fai3,temp_sel3,temp_bow3,temp_gad3,temp_newt3])\n",
    "c3=np.nanmean(c3, axis=0)\n",
    "print(c3)\n",
    "\n",
    "\n",
    "b3= np.array([temp_crn_sal3,temp_crn_bat3,temp_crn_laf3,temp_crn_mon3,temp_crn_hol3,temp_crn_new3,temp_crn_fai3,temp_crn_sel3,temp_crn_bow3,temp_crn_gad3,temp_crn_newt3])\n",
    "b3=np.nanmean(b3, axis=0)\n",
    "print(b3)"
   ]
  },
  {
   "cell_type": "code",
   "execution_count": 213,
   "id": "0d8bef30",
   "metadata": {
    "scrolled": false
   },
   "outputs": [],
   "source": [
    "# def mean(numbers):\n",
    "#     return float(sum(numbers)) / max(len(numbers), 1)\n",
    "\n",
    "# # difference1_sel[17]=0\n",
    "# # difference1_sel[18]=0\n",
    "# # difference1_sel[19]=0\n",
    "# # difference1_sel[20]=0\n",
    "# c3 = [mean(i) for i in zip(difference3_sal,difference3_bat,difference3_laf,difference3_mon,difference3_hol,difference3_new,difference3_gai,difference3_fai,difference3_sel,difference3_bow,difference3_gad,difference3_newt)]\n",
    "# #difference1_bow[6]=0\n",
    "# b3 = [np.std(i) for i in zip(difference3_sal,difference3_bat,difference3_laf,difference3_mon,difference3_hol,difference3_new,difference3_gai,difference3_fai,difference3_sel,difference3_bow,difference3_gad,difference3_newt)]\n",
    "# print (c3)\n",
    "# print(len(c3))\n",
    "# print(b3)\n",
    "# print(len(b3))"
   ]
  },
  {
   "cell_type": "code",
   "execution_count": 214,
   "id": "00a5e783",
   "metadata": {},
   "outputs": [
    {
     "data": {
      "image/png": "[encoded data removed]",
      "text/plain": [
       "<Figure size 792x396 with 1 Axes>"
      ]
     },
     "metadata": {},
     "output_type": "display_data"
    }
   ],
   "source": [
    "plt.style.use('seaborn-whitegrid')\n",
    "plt.rcParams[\"figure.figsize\"] = [11.00, 5.50]\n",
    "plt.rcParams[\"figure.autolayout\"] = True\n",
    "plt.yticks(np.arange(-35,40,5))\n",
    "plt.ylim(-35,35)\n",
    "# c[6]=None\n",
    "# b[6]=None\n",
    "\n",
    "plt.plot(xs,c3,c=\"green\", marker='o')\n",
    "plt.plot(xs,b3,c=\"orange\", marker='o')\n",
    "# c[6]=None\n",
    "# b[6]=None\n",
    "\n",
    "plt.title(\"1-hr Avg. MBE All Stations\")\n",
    "plt.xlabel(\"UTC Hour\")\n",
    "plt.ylabel(\"MBE Incoming Radiation (W/m^2)\")\n",
    "#plt.plot(hour,c)\n",
    "#plt.errorbar(hour,c,yerr=b,ecolor='r',elinewidth=5,fmt='s',color='k')\n",
    "#plt.grid()\n",
    "plt.xticks(xs, hour)\n",
    "plt.show()\n",
    "#plt.axvspan(-4, 4, color='green', alpha=0.2, lw=0)"
   ]
  },
  {
   "cell_type": "code",
   "execution_count": 215,
   "id": "b2d7f7dd",
   "metadata": {},
   "outputs": [
    {
     "name": "stdout",
     "output_type": "stream",
     "text": [
      "[10.54091182  9.79909636  9.01818     8.54273091  8.04091364  7.62182545\n",
      "  7.26182455  6.88091618 10.26182091 14.78182091 18.76454545 21.96272727\n",
      " 24.27727273 26.39545455 27.50818182 27.59181818 26.62909091 24.78272727\n",
      " 22.03727273 18.41454545 15.66091    14.14636455 13.14272636 12.18908909\n",
      " 11.49363818]\n",
      "[ 6.60909091  5.94545455  5.49090909  4.9         4.50909091  4.11818182\n",
      "  3.79090909  3.56363636  6.34545455 12.89090909 17.85454545 22.3\n",
      " 25.90909091 28.09090909 29.14545455 29.13636364 28.03636364 25.65454545\n",
      " 22.04545455 17.81818182 13.16363636 10.82727273  9.95454545  9.33636364\n",
      "  8.68181818]\n"
     ]
    }
   ],
   "source": [
    "c4= np.array([temp_sal4,temp_bat4,temp_laf4,temp_mon4,temp_hol4,temp_new4,temp_fai4,temp_sel4,temp_bow4,temp_gad4,temp_newt4])\n",
    "c4=np.nanmean(c4, axis=0)\n",
    "print(c4)\n",
    "\n",
    "\n",
    "b4= np.array([temp_crn_sal4,temp_crn_bat4,temp_crn_laf4,temp_crn_mon4,temp_crn_hol4,temp_crn_new4,temp_crn_fai4,temp_crn_sel4,temp_crn_bow4,temp_crn_gad4,temp_crn_newt4])\n",
    "b4=np.nanmean(b4, axis=0)\n",
    "print(b4)"
   ]
  },
  {
   "cell_type": "code",
   "execution_count": 216,
   "id": "b1774c6c",
   "metadata": {
    "scrolled": false
   },
   "outputs": [],
   "source": [
    "# def mean(numbers):\n",
    "#     return float(sum(numbers)) / max(len(numbers), 1)\n",
    "\n",
    "# # difference1_sel[17]=0\n",
    "# # difference1_sel[18]=0\n",
    "# # difference1_sel[19]=0\n",
    "# # difference1_sel[20]=0\n",
    "# c4 = [mean(i) for i in zip(difference4_sal,difference4_bat,difference4_laf,difference4_mon,difference4_hol,difference4_new,difference4_gai,difference4_fai,difference4_sel,difference4_bow,difference4_gad,difference4_newt)]\n",
    "# #difference1_bow[6]=0\n",
    "# b4 = [np.std(i) for i in zip(difference4_sal,difference4_bat,difference4_laf,difference4_mon,difference4_hol,difference4_new,difference4_gai,difference4_fai,difference4_sel,difference4_bow,difference4_gad,difference4_newt)]\n",
    "# print (c4)\n",
    "# print(len(c4))\n",
    "# print(b4)\n",
    "# print(len(b4))"
   ]
  },
  {
   "cell_type": "code",
   "execution_count": 217,
   "id": "e70a6cef",
   "metadata": {},
   "outputs": [
    {
     "data": {
      "image/png": "[encoded data removed]",
      "text/plain": [
       "<Figure size 792x396 with 1 Axes>"
      ]
     },
     "metadata": {},
     "output_type": "display_data"
    }
   ],
   "source": [
    "plt.style.use('seaborn-whitegrid')\n",
    "plt.rcParams[\"figure.figsize\"] = [11.00, 5.50]\n",
    "plt.rcParams[\"figure.autolayout\"] = True\n",
    "plt.yticks(np.arange(-35,40,5))\n",
    "plt.ylim(-35,35)\n",
    "# c[6]=None\n",
    "# b[6]=None\n",
    "\n",
    "plt.plot(xs,c4,c=\"teal\", marker='o')\n",
    "plt.plot(xs,b4,c=\"orange\", marker='o')\n",
    "# c[6]=None\n",
    "# b[6]=None\n",
    "\n",
    "plt.title(\"1-hr Avg. MBE All Stations\")\n",
    "plt.xlabel(\"UTC Hour\")\n",
    "plt.ylabel(\"MBE Incoming Radiation (W/m^2)\")\n",
    "#plt.plot(hour,c)\n",
    "#plt.errorbar(hour,c,yerr=b,ecolor='r',elinewidth=5,fmt='s',color='k')\n",
    "#plt.grid()\n",
    "plt.xticks(xs, hour)\n",
    "plt.show()\n",
    "#plt.axvspan(-4, 4, color='green', alpha=0.2, lw=0)"
   ]
  },
  {
   "cell_type": "code",
   "execution_count": 218,
   "id": "9d950af1",
   "metadata": {},
   "outputs": [
    {
     "name": "stdout",
     "output_type": "stream",
     "text": [
      "[ 7.99454455  7.40636518  6.89000752  6.60182045  6.28182164  5.90909209\n",
      "  5.41091645  5.82818609  8.88909545 12.19545273 15.38636364 18.35181818\n",
      " 20.73272727 22.65818182 23.69363636 23.91818182 22.88545455 21.01363636\n",
      " 18.62545455 15.73       13.24636727 11.88454818 10.83091     9.96818545\n",
      "  9.38454818]\n",
      "[ 7.13636364  6.43636364  5.68181818  5.20909091  4.77272727  4.1\n",
      "  3.68181818  3.73636364  6.94545455 11.18181818 14.87272727 18.96363636\n",
      " 22.21818182 24.57272727 25.84545455 25.96363636 25.28181818 23.70909091\n",
      " 20.55454545 16.36363636 11.55454545  8.73636364  7.83636364  7.28181818\n",
      "  7.2       ]\n"
     ]
    }
   ],
   "source": [
    "c5= np.array([temp_sal5,temp_bat5,temp_laf5,temp_mon5,temp_hol5,temp_new5,temp_fai5,temp_sel5,temp_bow5,temp_gad5,temp_newt5])\n",
    "c5=np.nanmean(c5, axis=0)\n",
    "print(c5)\n",
    "\n",
    "\n",
    "b5=np.array([temp_crn_sal5,temp_crn_bat5,temp_crn_laf5,temp_crn_mon5,temp_crn_hol5,temp_crn_new5,temp_crn_fai5,temp_crn_sel5,temp_crn_bow5,temp_crn_gad5,temp_crn_newt5])\n",
    "b5=np.nanmean(b5, axis=0)\n",
    "print(b5)"
   ]
  },
  {
   "cell_type": "code",
   "execution_count": 219,
   "id": "ccd6d564",
   "metadata": {},
   "outputs": [
    {
     "data": {
      "image/png": "[encoded data removed]",
      "text/plain": [
       "<Figure size 792x396 with 1 Axes>"
      ]
     },
     "metadata": {},
     "output_type": "display_data"
    }
   ],
   "source": [
    "plt.style.use('seaborn-whitegrid')\n",
    "plt.rcParams[\"figure.figsize\"] = [11.00, 5.50]\n",
    "plt.rcParams[\"figure.autolayout\"] = True\n",
    "plt.yticks(np.arange(-35,40,5))\n",
    "plt.ylim(-35,35)\n",
    "# c[6]=None\n",
    "# b[6]=None\n",
    "\n",
    "plt.plot(xs,c5,c=\"m\", marker='o')\n",
    "plt.plot(xs,b5,c=\"orange\", marker='o')\n",
    "# c[6]=None\n",
    "# b[6]=None\n",
    "\n",
    "plt.title(\"1-hr Avg. MBE All Stations\")\n",
    "plt.xlabel(\"UTC Hour\")\n",
    "plt.ylabel(\"MBE Incoming Radiation (W/m^2)\")\n",
    "#plt.plot(hour,c)\n",
    "#plt.errorbar(hour,c,yerr=b,ecolor='r',elinewidth=5,fmt='s',color='k')\n",
    "#plt.grid()\n",
    "plt.xticks(xs, hour)\n",
    "plt.show()\n",
    "#plt.axvspan(-4, 4, color='green', alpha=0.2, lw=0)"
   ]
  },
  {
   "cell_type": "code",
   "execution_count": 220,
   "id": "6a1cf932",
   "metadata": {},
   "outputs": [
    {
     "name": "stdout",
     "output_type": "stream",
     "text": [
      "[11.80545545 11.07182273 10.39272909  9.74909364  9.17364273  8.71727909\n",
      "  8.44272727  9.47455091 13.22454636 17.23090909 20.97636364 24.20727273\n",
      " 26.71454545 28.52636364 29.23727273 29.20272727 28.29272727 26.36727273\n",
      " 23.76727273 20.68181818 17.51818182 15.82363636 14.43272727 13.47181818\n",
      " 12.59      ]\n",
      "[ 9.49090909  8.83636364  8.20909091  7.52727273  7.04545455  6.59090909\n",
      "  5.83636364  6.11818182 10.43636364 15.21818182 20.06363636 25.08181818\n",
      " 28.9        31.28181818 32.53636364 32.49090909 31.23636364 29.13636364\n",
      " 25.41818182 20.41818182 15.2        12.15454545 10.96363636  9.80909091\n",
      "  9.15454545]\n"
     ]
    }
   ],
   "source": [
    "c6= np.array([temp_sal6,temp_bat6,temp_laf6,temp_mon6,temp_hol6,temp_new6,temp_fai6,temp_sel6,temp_bow6,temp_gad6,temp_newt6])\n",
    "c6=np.nanmean(c6, axis=0)\n",
    "print(c6)\n",
    "\n",
    "\n",
    "b6=np.array([temp_crn_sal6,temp_crn_bat6,temp_crn_laf6,temp_crn_mon6,temp_crn_hol6,temp_crn_new6,temp_crn_fai6,temp_crn_sel6,temp_crn_bow6,temp_crn_gad6,temp_crn_newt6])\n",
    "b6=np.nanmean(b6, axis=0)\n",
    "print(b6)"
   ]
  },
  {
   "cell_type": "code",
   "execution_count": 221,
   "id": "11ff266d",
   "metadata": {},
   "outputs": [
    {
     "data": {
      "image/png": "[encoded data removed]",
      "text/plain": [
       "<Figure size 792x396 with 1 Axes>"
      ]
     },
     "metadata": {},
     "output_type": "display_data"
    }
   ],
   "source": [
    "plt.style.use('seaborn-whitegrid')\n",
    "plt.rcParams[\"figure.figsize\"] = [11.00, 5.50]\n",
    "plt.rcParams[\"figure.autolayout\"] = True\n",
    "plt.yticks(np.arange(-35,40,5))\n",
    "plt.ylim(-35,35)\n",
    "# c[6]=None\n",
    "# b[6]=None\n",
    "\n",
    "plt.plot(xs,c6,c=\"c\", marker='o')\n",
    "plt.plot(xs,b6,c=\"orange\", marker='o')\n",
    "# c[6]=None\n",
    "# b[6]=None\n",
    "\n",
    "plt.title(\"1-hr Avg. MBE All Stations\")\n",
    "plt.xlabel(\"UTC Hour\")\n",
    "plt.ylabel(\"MBE Incoming Radiation (W/m^2)\")\n",
    "#plt.plot(hour,c)\n",
    "#plt.errorbar(hour,c,yerr=b,ecolor='r',elinewidth=5,fmt='s',color='k')\n",
    "#plt.grid()\n",
    "plt.xticks(xs, hour)\n",
    "plt.show()\n",
    "#plt.axvspan(-4, 4, color='green', alpha=0.2, lw=0)"
   ]
  },
  {
   "cell_type": "code",
   "execution_count": 225,
   "id": "240eafe4",
   "metadata": {},
   "outputs": [
    {
     "data": {
      "image/png": "[encoded data removed]",
      "text/plain": [
       "<Figure size 792x396 with 1 Axes>"
      ]
     },
     "metadata": {},
     "output_type": "display_data"
    }
   ],
   "source": [
    "plt.style.use('seaborn-whitegrid')\n",
    "plt.rcParams[\"figure.figsize\"] = [11.00, 5.50]\n",
    "plt.rcParams[\"figure.autolayout\"] = True\n",
    "plt.yticks(np.arange(-35,40,5))\n",
    "plt.ylim(-35,35)\n",
    "\n",
    "plt.plot(xs,c1,c=\"b\",marker=\"o\",label=\"IOP 1\")\n",
    "#plt.errorbar(xs,c1,c=\"b\",yerr=b1,linestyle='None', marker='s')\n",
    "\n",
    "plt.plot(xs,c2,c=\"r\",marker=\"o\",label=\"IOP 2\")\n",
    "#plt.errorbar(xs,c2,c=\"r\",yerr=b2,linestyle='None', marker='s')\n",
    "\n",
    "plt.plot(xs,c3,marker=\"o\",c=\"green\")\n",
    "#plt.errorbar(xs,c3,c=\"green\",yerr=b3,linestyle='None', marker='s')\n",
    "\n",
    "plt.plot(xs,c4,marker=\"o\",c=\"orange\")\n",
    "#plt.errorbar(xs,c4,c=\"orange\",yerr=b4,linestyle='None', marker='s')\n",
    "\n",
    "plt.plot(xs,c5,marker=\"o\",c=\"m\")\n",
    "#plt.errorbar(xs,c5,c=\"m\",yerr=b5,linestyle='None', marker='s')\n",
    "\n",
    "plt.plot(xs,c6,marker=\"o\",c=\"c\")\n",
    "#plt.errorbar(xs,c6,c=\"c\",yerr=b6,linestyle='None', marker='s')\n",
    "\n",
    "plt.title(\"12-hr Avg. HRRR All Stations\")\n",
    "plt.xlabel(\"UTC Hour\")\n",
    "plt.ylabel(\"Surface Temperature (C)\")\n",
    "#plt.plot(hour,c)\n",
    "#plt.errorbar(hour,c,yerr=b,ecolor='r',elinewidth=5,fmt='s',color='k')\n",
    "#plt.grid()\n",
    "plt.xticks(xs, hour)\n",
    "#plt.axvspan(-4, 4, color='green', alpha=0.2, lw=0)\n",
    "plt.legend([\"IOP 1\", \"IOP 2\",\"IOP 3\",\"IOP 4\",\"IOP 5\",\"IOP 6\"], loc =\"lower right\")\n",
    "plt.show()"
   ]
  },
  {
   "cell_type": "code",
   "execution_count": 223,
   "id": "d9852481",
   "metadata": {
    "scrolled": false
   },
   "outputs": [
    {
     "data": {
      "image/png": "[encoded data removed]",
      "text/plain": [
       "<Figure size 792x396 with 1 Axes>"
      ]
     },
     "metadata": {},
     "output_type": "display_data"
    }
   ],
   "source": [
    "plt.style.use('seaborn-whitegrid')\n",
    "plt.rcParams[\"figure.figsize\"] = [11.00, 5.50]\n",
    "plt.rcParams[\"figure.autolayout\"] = True\n",
    "plt.yticks(np.arange(-35,40,5))\n",
    "plt.ylim(-35,35)\n",
    "\n",
    "plt.plot(xs,b1,c=\"b\",marker=\"o\",label=\"IOP 1\")\n",
    "#plt.errorbar(xs,c1,c=\"b\",yerr=b1,linestyle='None', marker='s')\n",
    "\n",
    "plt.plot(xs,b2,c=\"r\",marker=\"o\",label=\"IOP 2\")\n",
    "#plt.errorbar(xs,c2,c=\"r\",yerr=b2,linestyle='None', marker='s')\n",
    "\n",
    "plt.plot(xs,b3,marker=\"o\",c=\"green\")\n",
    "#plt.errorbar(xs,c3,c=\"green\",yerr=b3,linestyle='None', marker='s')\n",
    "\n",
    "plt.plot(xs,b4,marker=\"o\",c=\"orange\")\n",
    "#plt.errorbar(xs,c4,c=\"orange\",yerr=b4,linestyle='None', marker='s')\n",
    "\n",
    "plt.plot(xs,b5,marker=\"o\",c=\"m\")\n",
    "#plt.errorbar(xs,c5,c=\"m\",yerr=b5,linestyle='None', marker='s')\n",
    "\n",
    "plt.plot(xs,b6,marker=\"o\",c=\"c\")\n",
    "#plt.errorbar(xs,c6,c=\"c\",yerr=b6,linestyle='None', marker='s')\n",
    "\n",
    "plt.title(\"12-hr Avg. CRN All Stations\")\n",
    "plt.xlabel(\"UTC Hour\")\n",
    "plt.ylabel(\"Surface Temperature (C)\")\n",
    "#plt.plot(hour,c)\n",
    "#plt.errorbar(hour,c,yerr=b,ecolor='r',elinewidth=5,fmt='s',color='k')\n",
    "#plt.grid()\n",
    "plt.xticks(xs, hour)\n",
    "#plt.axvspan(-4, 4, color='green', alpha=0.2, lw=0)\n",
    "plt.legend([\"IOP 1\", \"IOP 2\",\"IOP 3\",\"IOP 4\",\"IOP 5\",\"IOP 6\"], loc =\"lower right\")\n",
    "plt.show()"
   ]
  },
  {
   "cell_type": "code",
   "execution_count": null,
   "id": "f20cc188",
   "metadata": {},
   "outputs": [],
   "source": []
  }
 ],
 "metadata": {
  "kernelspec": {
   "display_name": "Python 3 (ipykernel)",
   "language": "python",
   "name": "python3"
  },
  "language_info": {
   "codemirror_mode": {
    "name": "ipython",
    "version": 3
   },
   "file_extension": ".py",
   "mimetype": "text/x-python",
   "name": "python",
   "nbconvert_exporter": "python",
   "pygments_lexer": "ipython3",
   "version": "3.9.12"
  }
 },
 "nbformat": 4,
 "nbformat_minor": 5
}
