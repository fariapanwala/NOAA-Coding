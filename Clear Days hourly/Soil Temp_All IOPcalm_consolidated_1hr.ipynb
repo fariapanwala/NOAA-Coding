{
 "cells": [
  {
   "cell_type": "code",
   "execution_count": 1,
   "id": "83d28093",
   "metadata": {},
   "outputs": [],
   "source": [
    "import numpy as np\n",
    "import matplotlib.pyplot as plt\n",
    "import math\n",
    "import numpy.ma as ma"
   ]
  },
  {
   "cell_type": "markdown",
   "id": "18ad22a0",
   "metadata": {},
   "source": [
    "<font size=\"3\">Salem, MO: 0600 UTC (12:00 am CST) 01 March 2022-0600 UTC (12:00 am CST) 02 March 2022</font>"
   ]
  },
  {
   "cell_type": "code",
   "execution_count": 2,
   "id": "9d3b9481",
   "metadata": {},
   "outputs": [
    {
     "name": "stdout",
     "output_type": "stream",
     "text": [
      "[4.24002, 3.30002, 2.98001, 2.31, 1.62, 1.07001, 0.970001, 1.14001, 2.28, 5.23001, 7.89999, 10.33, 12.98, 16.01, 18.13, 19.17, 19.29, 18.59, 16.94, 15.4, 14.09, 12.39, 11.18, 10.11, 8.94]\n",
      "25\n"
     ]
    }
   ],
   "source": [
    "#1 hr hrrr:\n",
    "with open('hrrr_f01_Salem_MO.txt') as f:\n",
    "    lst=[line.split()[5] for line in f]\n",
    "    temp=[]\n",
    "    for i in lst:\n",
    "        new=i.replace(',',\"\")\n",
    "        temp.append(new)\n",
    "    temp.pop(0)\n",
    "    temp=[float(x) for x in temp]\n",
    "    temp=temp[1421:1446]\n",
    "    #temp=temp[2015:2063]\n",
    "    print(temp)\n",
    "    print(len(temp))\n",
    "#full time period is [2015:2112]"
   ]
  },
  {
   "cell_type": "code",
   "execution_count": 3,
   "id": "e9d4dbcc",
   "metadata": {},
   "outputs": [
    {
     "name": "stdout",
     "output_type": "stream",
     "text": [
      "[1.4, 1.3, 1.2, 1.2, 1.2, 1.1, 1.1, 1.1, 1.1, 1.1, 1.4, 2.2, 3.1, 3.9, 4.5, 5.0, 5.2, 5.2, 5.0, 4.8, 4.5, 4.2, 3.9, 3.6, 3.4]\n",
      "25\n"
     ]
    }
   ],
   "source": [
    "#Air Temp CRN:\n",
    "with open('CRNH0203-2022-MO_Salem_10_W.txt') as f:\n",
    "    lst=[line.split()[33] for line in f]\n",
    "    #print(lst)\n",
    "    temp_crn=[]\n",
    "    for i in lst:\n",
    "        new=i.replace(',',\"\")\n",
    "        temp_crn.append(new)\n",
    "    temp_crn=[float(x) for x in temp_crn]\n",
    "    temp_crn=temp_crn[1421:1446]\n",
    "    print(temp_crn)\n",
    "    print(len(temp_crn))\n",
    "    # print(temp_crn[2124])"
   ]
  },
  {
   "cell_type": "code",
   "execution_count": 4,
   "id": "1e9aed03-d99c-4045-812a-e26bcc99b84f",
   "metadata": {},
   "outputs": [
    {
     "name": "stdout",
     "output_type": "stream",
     "text": [
      "[2.8400200000000004, 2.00002, 1.78001, 1.11, 0.42000000000000015, -0.029990000000000183, -0.1299990000000001, 0.04000999999999988, 1.1799999999999997, 4.13001, 6.49999, 8.129999999999999, 9.88, 12.110000000000001, 13.629999999999999, 14.170000000000002, 14.09, 13.39, 11.940000000000001, 10.600000000000001, 9.59, 8.190000000000001, 7.279999999999999, 6.51, 5.539999999999999]\n"
     ]
    }
   ],
   "source": [
    "difference1_sal = []\n",
    "\n",
    "zip_object = zip(temp, temp_crn)\n",
    "for temp_i, temp_crn_i in zip_object:\n",
    "    difference1_sal.append(temp_i-temp_crn_i)\n",
    "\n",
    "print(difference1_sal)"
   ]
  },
  {
   "cell_type": "markdown",
   "id": "9043c519",
   "metadata": {},
   "source": [
    "<font size=\"3\">Batesville, AR: 0600 UTC (12:00 am CST) 01 March 2022-0600 UTC (12:00 am CST) 02 March 2022</font>"
   ]
  },
  {
   "cell_type": "code",
   "execution_count": 5,
   "id": "af395ecc",
   "metadata": {},
   "outputs": [
    {
     "name": "stdout",
     "output_type": "stream",
     "text": [
      "[5.84 5.10001 4.39001 3.78 3.08002 2.25 1.73001 1.34 2.12 5.73001 9.33002\n",
      " 12.29 14.82 16.93 18.74 19.66 19.71 18.72 16.79 15.07 13.01 -- 10.57\n",
      " 10.02 9.02002]\n",
      "25\n"
     ]
    }
   ],
   "source": [
    "#1 hr hrrr:\n",
    "with open('hrrr_f01_Batesville_AR.txt') as f:\n",
    "    lst=[line.split()[5] for line in f]\n",
    "    temp=[]\n",
    "    for i in lst:\n",
    "        new=i.replace(',',\"\")\n",
    "        temp.append(new)\n",
    "    temp.pop(0)\n",
    "    temp=[float(x) for x in temp]\n",
    "    temp=temp[1421:1446]\n",
    "    x = np.array(temp)\n",
    "    temp = ma.masked_array(x, mask=[0, 0, 0, 0, 0,0,0,0,0,0,0,0,0,0,0,0,0,0,0,0,0,1,0,0,0])\n",
    "    #temp=temp[2015:2063]\n",
    "    print(temp)\n",
    "    print(len(temp))\n",
    "#full time period is [2015:2112]"
   ]
  },
  {
   "cell_type": "code",
   "execution_count": 6,
   "id": "11b7f8b7",
   "metadata": {},
   "outputs": [
    {
     "name": "stdout",
     "output_type": "stream",
     "text": [
      "[6.0 5.7 5.5 5.1 4.9 4.7 4.5 4.3 4.2 4.7 5.7 6.7 8.0 9.1 9.9 10.3 10.4\n",
      " 10.2 9.8 9.3 8.8 -- 8.0 7.5 7.2]\n"
     ]
    }
   ],
   "source": [
    "#Air Temp CRN:\n",
    "with open('CRNH0203-2022-AR_Batesville_8_WNW.txt') as f:\n",
    "    lst=[line.split()[33] for line in f]\n",
    "    #print(lst)\n",
    "    temp_crn=[]\n",
    "    for i in lst:\n",
    "        new=i.replace(',',\"\")\n",
    "        temp_crn.append(new)\n",
    "    temp_crn=[float(x) for x in temp_crn]\n",
    "    temp_crn=temp_crn[1421:1446]\n",
    "    y = np.array(temp_crn)\n",
    "    temp_crn = ma.masked_array(y, mask=[0, 0, 0, 0, 0,0,0,0,0,0,0,0,0,0,0,0,0,0,0,0,0,1,0,0,0])\n",
    "    print(temp_crn)\n",
    "    #print(len(temp_crn))\n",
    "    # print(temp_crn[2124])"
   ]
  },
  {
   "cell_type": "code",
   "execution_count": 7,
   "id": "62a46873",
   "metadata": {},
   "outputs": [
    {
     "name": "stdout",
     "output_type": "stream",
     "text": [
      "[-0.16000000000000014, -0.59999, -1.1099899999999998, -1.3199999999999998, -1.8199800000000002, -2.45, -2.76999, -2.96, -2.08, 1.0300099999999999, 3.630019999999999, 5.589999999999999, 6.82, 7.83, 8.839999999999998, 9.36, 9.31, 8.52, 6.989999999999998, 5.77, 4.209999999999999, masked, 2.5700000000000003, 2.5199999999999996, 1.8200200000000004]\n"
     ]
    }
   ],
   "source": [
    "difference1_bat = []\n",
    "\n",
    "zip_object = zip(temp, temp_crn)\n",
    "for temp_i, temp_crn_i in zip_object:\n",
    "    difference1_bat.append(temp_i-temp_crn_i)\n",
    "\n",
    "print(difference1_bat)"
   ]
  },
  {
   "cell_type": "markdown",
   "id": "2a2589df",
   "metadata": {},
   "source": [
    "<font size=\"3\">Lafayette, LA: 0600 UTC (12:00 am CST) 01 March 2022-0600 UTC (12:00 am CST) 02 March 2022</font>"
   ]
  },
  {
   "cell_type": "code",
   "execution_count": 8,
   "id": "3fd34af2",
   "metadata": {},
   "outputs": [
    {
     "name": "stdout",
     "output_type": "stream",
     "text": [
      "[10.21, 9.31, 8.66, 8.0, 7.20001, 6.80002, 6.13, 5.72, 7.23001, 11.65, 16.24, 19.76, 21.84, 23.69, 24.72, 25.09, 24.68, 23.36, 21.41, 18.96, 16.94, 15.14, 13.79, 12.7, 11.47]\n"
     ]
    }
   ],
   "source": [
    "#1 hr hrrr:\n",
    "with open('hrrr_f01_Lafayette_LA.txt') as f:\n",
    "    lst=[line.split()[5] for line in f]\n",
    "    temp=[]\n",
    "    for i in lst:\n",
    "        new=i.replace(',',\"\")\n",
    "        temp.append(new)\n",
    "    temp.pop(0)\n",
    "    temp=[float(x) for x in temp]\n",
    "    temp=temp[1421:1446]\n",
    "    #temp=temp[2015:2063]\n",
    "    print(temp)\n",
    "    #print(len(temp))\n",
    "#full time period is [2015:2112]"
   ]
  },
  {
   "cell_type": "code",
   "execution_count": 9,
   "id": "bfe1bb32",
   "metadata": {},
   "outputs": [
    {
     "name": "stdout",
     "output_type": "stream",
     "text": [
      "[13.9, 13.7, 13.3, 13.1, 12.9, 12.6, 12.4, 12.2, 12.0, 12.1, 12.4, 12.9, 13.6, 14.3, 15.0, 15.5, 15.8, 15.9, 15.7, 15.6, 15.2, 14.9, 14.7, 14.4, 14.0]\n"
     ]
    }
   ],
   "source": [
    "#Air Temp CRN:\n",
    "with open('CRNH0203-2022-LA_Lafayette_13_SE.txt') as f:\n",
    "    lst=[line.split()[33] for line in f]\n",
    "    #print(lst)\n",
    "    temp_crn=[]\n",
    "    for i in lst:\n",
    "        new=i.replace(',',\"\")\n",
    "        temp_crn.append(new)\n",
    "    temp_crn=[float(x) for x in temp_crn]\n",
    "    temp_crn=temp_crn[1421:1446]\n",
    "    print(temp_crn)\n",
    "    #print(len(temp_crn))\n",
    "    # print(temp_crn[2124])"
   ]
  },
  {
   "cell_type": "code",
   "execution_count": 10,
   "id": "9b94d0f9",
   "metadata": {},
   "outputs": [
    {
     "name": "stdout",
     "output_type": "stream",
     "text": [
      "[-3.6899999999999995, -4.389999999999999, -4.640000000000001, -5.1, -5.699990000000001, -5.79998, -6.2700000000000005, -6.4799999999999995, -4.76999, -0.4499999999999993, 3.839999999999998, 6.860000000000001, 8.24, 9.39, 9.719999999999999, 9.59, 8.879999999999999, 7.459999999999999, 5.710000000000001, 3.360000000000001, 1.740000000000002, 0.2400000000000002, -0.9100000000000001, -1.700000000000001, -2.5299999999999994]\n"
     ]
    }
   ],
   "source": [
    "difference1_laf = []\n",
    "\n",
    "zip_object = zip(temp, temp_crn)\n",
    "for temp_i, temp_crn_i in zip_object:\n",
    "    difference1_laf.append(temp_i-temp_crn_i)\n",
    "\n",
    "print(difference1_laf)"
   ]
  },
  {
   "cell_type": "markdown",
   "id": "7a8d079f",
   "metadata": {},
   "source": [
    "<font size=\"3\">Monroe, LA: 0600 UTC (12:00 am CST) 01 March 2022-0600 UTC (12:00 am CST) 02 March 2022</font>"
   ]
  },
  {
   "cell_type": "code",
   "execution_count": 11,
   "id": "9c6d2382",
   "metadata": {},
   "outputs": [
    {
     "name": "stdout",
     "output_type": "stream",
     "text": [
      "[5.84, 5.17001, 4.56, 4.03, 3.67999, 3.16, 2.81, 2.60001, 3.64001, 6.60001, 10.12, 13.19, 15.86, 19.12, 21.27, 22.19, 22.11, 21.22, 19.03, 16.03, 13.43, 11.4, 9.87, 8.75, 8.02002]\n"
     ]
    }
   ],
   "source": [
    "#1 hr hrrr:\n",
    "with open('hrrr_f01_Monroe_LA.txt') as f:\n",
    "    lst=[line.split()[5] for line in f]\n",
    "    temp=[]\n",
    "    for i in lst:\n",
    "        new=i.replace(',',\"\")\n",
    "        temp.append(new)\n",
    "    temp.pop(0)\n",
    "    temp=[float(x) for x in temp]\n",
    "    temp=temp[1421:1446]\n",
    "    #temp=temp[2015:2063]\n",
    "    print(temp)\n",
    "    #print(len(temp))\n",
    "#full time period is [2015:2112]"
   ]
  },
  {
   "cell_type": "code",
   "execution_count": 12,
   "id": "5c3999a7",
   "metadata": {},
   "outputs": [
    {
     "name": "stdout",
     "output_type": "stream",
     "text": [
      "[9.3, 8.9, 8.7, 8.5, 8.3, 8.0, 7.7, 7.4, 7.3, 7.5, 8.5, 9.6, 11.0, 12.2, 13.3, 14.0, 14.2, 14.0, 13.5, 12.9, 12.2, 11.6, 11.2, 10.7, 10.2]\n"
     ]
    }
   ],
   "source": [
    "#Air Temp CRN:\n",
    "with open('CRNH0203-2022-LA_Monroe_26_N.txt') as f:\n",
    "    lst=[line.split()[33] for line in f]\n",
    "    #print(lst)\n",
    "    temp_crn=[]\n",
    "    for i in lst:\n",
    "        new=i.replace(',',\"\")\n",
    "        temp_crn.append(new)\n",
    "    temp_crn=[float(x) for x in temp_crn]\n",
    "    temp_crn=temp_crn[1421:1446]\n",
    "    print(temp_crn)\n",
    "    #print(len(temp_crn))\n",
    "    # print(temp_crn[2124])"
   ]
  },
  {
   "cell_type": "code",
   "execution_count": 13,
   "id": "2b4e383a",
   "metadata": {},
   "outputs": [
    {
     "name": "stdout",
     "output_type": "stream",
     "text": [
      "[-3.460000000000001, -3.72999, -4.14, -4.47, -4.620010000000001, -4.84, -4.890000000000001, -4.79999, -3.6599899999999996, -0.8999899999999998, 1.6199999999999992, 3.59, 4.859999999999999, 6.920000000000002, 7.969999999999999, 8.190000000000001, 7.91, 7.219999999999999, 5.530000000000001, 3.130000000000001, 1.2300000000000004, -0.1999999999999993, -1.33, -1.9499999999999993, -2.1799799999999987]\n"
     ]
    }
   ],
   "source": [
    "difference1_mon = []\n",
    "\n",
    "zip_object = zip(temp, temp_crn)\n",
    "for temp_i, temp_crn_i in zip_object:\n",
    "    difference1_mon.append(temp_i-temp_crn_i)\n",
    "\n",
    "print(difference1_mon)"
   ]
  },
  {
   "cell_type": "markdown",
   "id": "26c585ff",
   "metadata": {},
   "source": [
    "<font size=\"3\">Holly Springs, MS: 0600 UTC (12:00 am CST) 01 March 2022-0600 UTC (12:00 am CST) 02 March 2022</font>"
   ]
  },
  {
   "cell_type": "code",
   "execution_count": 14,
   "id": "175bd35c",
   "metadata": {},
   "outputs": [
    {
     "name": "stdout",
     "output_type": "stream",
     "text": [
      "[4.82001, 4.64999, 4.33002, 3.67001, 3.12, 2.77002, 2.56, 2.20999, 3.39001, 6.17999, 9.26001, 11.77, 14.18, 16.94, 19.07, 19.83, 19.56, 18.73, 16.91, 15.49, 13.88, 12.93, 12.11, 11.3, 10.69]\n"
     ]
    }
   ],
   "source": [
    "#1 hr hrrr:\n",
    "with open('hrrr_f01_Holly Springs_MS.txt') as f:\n",
    "    lst=[line.split()[5] for line in f]\n",
    "    temp=[]\n",
    "    for i in lst:\n",
    "        new=i.replace(',',\"\")\n",
    "        temp.append(new)\n",
    "    temp.pop(0)\n",
    "    temp=[float(x) for x in temp]\n",
    "    temp=temp[1421:1446]\n",
    "    #temp=temp[2015:2063]\n",
    "    print(temp)\n",
    "    #print(len(temp))\n",
    "#full time period is [2015:2112]"
   ]
  },
  {
   "cell_type": "code",
   "execution_count": 15,
   "id": "19a3055f",
   "metadata": {},
   "outputs": [
    {
     "name": "stdout",
     "output_type": "stream",
     "text": [
      "[7.0, 6.8, 6.6, 6.4, 6.2, 6.0, 5.8, 5.6, 5.4, 5.6, 6.4, 7.4, 8.5, 9.5, 10.2, 10.7, 10.9, 10.8, 10.3, 9.9, 9.5, 9.1, 8.7, 8.5, 8.3]\n"
     ]
    }
   ],
   "source": [
    "#Air Temp CRN:\n",
    "with open('CRNH0203-2022-MS_Holly_Springs_4_N.txt') as f:\n",
    "    lst=[line.split()[33] for line in f]\n",
    "    #print(lst)\n",
    "    temp_crn=[]\n",
    "    for i in lst:\n",
    "        new=i.replace(',',\"\")\n",
    "        temp_crn.append(new)\n",
    "    temp_crn=[float(x) for x in temp_crn]\n",
    "    temp_crn=temp_crn[1421:1446]\n",
    "    print(temp_crn)\n",
    "    #print(len(temp_crn))\n",
    "    # print(temp_crn[2124])"
   ]
  },
  {
   "cell_type": "code",
   "execution_count": 16,
   "id": "46b095cb",
   "metadata": {},
   "outputs": [
    {
     "name": "stdout",
     "output_type": "stream",
     "text": [
      "[-2.17999, -2.15001, -2.2699799999999994, -2.7299900000000004, -3.08, -3.22998, -3.2399999999999998, -3.3900099999999997, -2.00999, 0.5799900000000004, 2.860009999999999, 4.369999999999999, 5.68, 7.440000000000001, 8.870000000000001, 9.129999999999999, 8.659999999999998, 7.93, 6.609999999999999, 5.59, 4.380000000000001, 3.83, 3.41, 2.8000000000000007, 2.389999999999999]\n"
     ]
    }
   ],
   "source": [
    "difference1_hol = []\n",
    "\n",
    "zip_object = zip(temp, temp_crn)\n",
    "for temp_i, temp_crn_i in zip_object:\n",
    "    difference1_hol.append(temp_i-temp_crn_i)\n",
    "\n",
    "print(difference1_hol)"
   ]
  },
  {
   "cell_type": "markdown",
   "id": "1c76c308",
   "metadata": {},
   "source": [
    "<font size=\"3\">Newton, MS: 0600 UTC (12:00 am CST) 01 March 2022-0600 UTC (12:00 am CST) 02 March 2022</font>"
   ]
  },
  {
   "cell_type": "code",
   "execution_count": 17,
   "id": "06decf86",
   "metadata": {},
   "outputs": [
    {
     "name": "stdout",
     "output_type": "stream",
     "text": [
      "[6.16, 5.09, 4.20999, 3.42001, 2.64001, 1.91, 1.92001, 2.0, 4.17001, 8.17999, 13.03, 17.51, 20.17, 21.97, 22.96, 23.04, 22.34, 20.93, 18.49, 15.63, 12.95, 10.97, 9.51001, 8.12, 6.92999]\n"
     ]
    }
   ],
   "source": [
    "#1 hr hrrr:\n",
    "with open('hrrr_f01_Newton_MS.txt') as f:\n",
    "    lst=[line.split()[5] for line in f]\n",
    "    temp=[]\n",
    "    for i in lst:\n",
    "        new=i.replace(',',\"\")\n",
    "        temp.append(new)\n",
    "    temp.pop(0)\n",
    "    temp=[float(x) for x in temp]\n",
    "    temp=temp[1421:1446]\n",
    "    #temp=temp[2015:2063]\n",
    "    print(temp)\n",
    "    #print(len(temp))\n",
    "#full time period is [2015:2112]"
   ]
  },
  {
   "cell_type": "code",
   "execution_count": 18,
   "id": "3fb09a0f",
   "metadata": {},
   "outputs": [
    {
     "name": "stdout",
     "output_type": "stream",
     "text": [
      "[9.8, 9.4, 9.1, 8.8, 8.5, 8.2, 8.1, 8.2, 8.8, 10.3, 12.3, 13.8, 15.1, 16.2, 16.7, 16.5, 16.0, 15.3, 14.2, 13.2, 12.5, 11.9, 11.3, 10.9, 10.5]\n"
     ]
    }
   ],
   "source": [
    "#Air Temp CRN:\n",
    "with open('CRNH0203-2022-MS_Newton_5_ENE.txt') as f:\n",
    "    lst=[line.split()[33] for line in f]\n",
    "    #print(lst)\n",
    "    temp_crn=[]\n",
    "    for i in lst:\n",
    "        new=i.replace(',',\"\")\n",
    "        temp_crn.append(new)\n",
    "    temp_crn=[float(x) for x in temp_crn]\n",
    "    temp_crn=temp_crn[1421:1446]\n",
    "    print(temp_crn)\n",
    "    #print(len(temp_crn))\n",
    "    # print(temp_crn[2124])"
   ]
  },
  {
   "cell_type": "code",
   "execution_count": 19,
   "id": "e588ab70",
   "metadata": {},
   "outputs": [
    {
     "name": "stdout",
     "output_type": "stream",
     "text": [
      "[-3.6400000000000006, -4.3100000000000005, -4.890009999999999, -5.379990000000001, -5.85999, -6.289999999999999, -6.17999, -6.199999999999999, -4.62999, -2.1200100000000006, 0.7299999999999986, 3.710000000000001, 5.070000000000002, 5.77, 6.260000000000002, 6.539999999999999, 6.34, 5.629999999999999, 4.289999999999999, 2.4300000000000015, 0.4499999999999993, -0.9299999999999997, -1.7899900000000013, -2.780000000000001, -3.57001]\n"
     ]
    }
   ],
   "source": [
    "difference1_new = []\n",
    "\n",
    "zip_object = zip(temp, temp_crn)\n",
    "for temp_i, temp_crn_i in zip_object:\n",
    "    difference1_new.append(temp_i-temp_crn_i)\n",
    "\n",
    "print(difference1_new)"
   ]
  },
  {
   "cell_type": "markdown",
   "id": "c9620694",
   "metadata": {},
   "source": [
    "<font size=\"3\">Gainesville, AL: 0600 UTC (12:00 am CST) 01 March 2022-0600 UTC (12:00 am CST) 02 March 2022</font>"
   ]
  },
  {
   "cell_type": "code",
   "execution_count": 20,
   "id": "a422cd03",
   "metadata": {},
   "outputs": [],
   "source": [
    "# #1 hr hrrr:\n",
    "# with open('hrrr_f01_Gainesville_AL.txt') as f:\n",
    "#     lst=[line.split()[5] for line in f]\n",
    "#     temp=[]\n",
    "#     for i in lst:\n",
    "#         new=i.replace(',',\"\")\n",
    "#         temp.append(new)\n",
    "#     temp.pop(0)\n",
    "#     temp=[float(x) for x in temp]\n",
    "#     temp=temp[1421:1446]\n",
    "#     #temp=temp[2015:2063]\n",
    "#     print(temp)\n",
    "#     #print(len(temp))\n",
    "# #full time period is [2015:2112]"
   ]
  },
  {
   "cell_type": "code",
   "execution_count": 21,
   "id": "2c97e541",
   "metadata": {},
   "outputs": [],
   "source": [
    "# #Air Temp CRN:\n",
    "# with open('CRNH0203-2022-AL_Gainesville_2_NE.txt') as f:\n",
    "#     lst=[line.split()[33] for line in f]\n",
    "#     #print(lst)\n",
    "#     temp_crn=[]\n",
    "#     for i in lst:\n",
    "#         new=i.replace(',',\"\")\n",
    "#         temp_crn.append(new)\n",
    "#     temp_crn=[float(x) for x in temp_crn]\n",
    "#     temp_crn=temp_crn[1421:1446]\n",
    "#     print(temp_crn)\n",
    "#     #print(len(temp_crn))\n",
    "#     # print(temp_crn[2124])"
   ]
  },
  {
   "cell_type": "code",
   "execution_count": 22,
   "id": "8df76a7b",
   "metadata": {},
   "outputs": [],
   "source": [
    "# difference1_gai = []\n",
    "\n",
    "# zip_object = zip(temp, temp_crn)\n",
    "# for temp_i, temp_crn_i in zip_object:\n",
    "#     difference1_gai.append(temp_i-temp_crn_i)\n",
    "\n",
    "# print(difference1_gai)"
   ]
  },
  {
   "cell_type": "markdown",
   "id": "2711dc15",
   "metadata": {},
   "source": [
    "<font size=\"3\">Fairhope, AL: 0600 UTC (12:00 am CST) 01 March 2022-0600 UTC (12:00 am CST) 02 March 2022</font>"
   ]
  },
  {
   "cell_type": "code",
   "execution_count": 23,
   "id": "64dbcf91",
   "metadata": {},
   "outputs": [
    {
     "name": "stdout",
     "output_type": "stream",
     "text": [
      "[10.17, 9.49002, 9.19, 8.57001, 7.83002, 7.78, 7.42001, 7.23001, 9.35001, 12.96, 16.74, 19.86, 21.81, 22.64, 23.11, 22.91, 22.04, 20.58, 17.94, 15.88, 14.3, 13.21, 12.25, 11.4, 10.47]\n"
     ]
    }
   ],
   "source": [
    "#1 hr hrrr:\n",
    "with open('hrrr_f01_Fairhope_AL.txt') as f:\n",
    "    lst=[line.split()[5] for line in f]\n",
    "    temp=[]\n",
    "    for i in lst:\n",
    "        new=i.replace(',',\"\")\n",
    "        temp.append(new)\n",
    "    temp.pop(0)\n",
    "    temp=[float(x) for x in temp]\n",
    "    temp=temp[1421:1446]\n",
    "    #temp=temp[2015:2063]\n",
    "    print(temp)\n",
    "    #print(len(temp))\n",
    "#full time period is [2015:2112]"
   ]
  },
  {
   "cell_type": "code",
   "execution_count": 24,
   "id": "4df09785",
   "metadata": {},
   "outputs": [
    {
     "name": "stdout",
     "output_type": "stream",
     "text": [
      "[14.4, 14.3, 14.2, 14.1, 14.0, 13.7, 13.6, 13.6, 13.4, 13.5, 13.7, 14.1, 14.5, 15.2, 15.5, 15.7, 15.9, 16.0, 15.7, 15.6, 15.2, 15.0, 14.7, 14.5, 14.2]\n"
     ]
    }
   ],
   "source": [
    "#Air Temp CRN:\n",
    "with open('CRNH0203-2022-AL_Fairhope_3_NE.txt') as f:\n",
    "    lst=[line.split()[33] for line in f]\n",
    "    #print(lst)\n",
    "    temp_crn=[]\n",
    "    for i in lst:\n",
    "        new=i.replace(',',\"\")\n",
    "        temp_crn.append(new)\n",
    "    temp_crn=[float(x) for x in temp_crn]\n",
    "    temp_crn=temp_crn[1421:1446]\n",
    "    print(temp_crn)\n",
    "    #print(len(temp_crn))\n",
    "    # print(temp_crn[2124])"
   ]
  },
  {
   "cell_type": "code",
   "execution_count": 25,
   "id": "a9ff3306",
   "metadata": {},
   "outputs": [
    {
     "name": "stdout",
     "output_type": "stream",
     "text": [
      "[-4.23, -4.809980000000001, -5.01, -5.52999, -6.16998, -5.919999999999999, -6.179989999999999, -6.36999, -4.049990000000001, -0.5399999999999991, 3.039999999999999, 5.76, 7.309999999999999, 7.440000000000001, 7.609999999999999, 7.210000000000001, 6.139999999999999, 4.579999999999998, 2.240000000000002, 0.28000000000000114, -0.8999999999999986, -1.7899999999999991, -2.4499999999999993, -3.0999999999999996, -3.7299999999999986]\n"
     ]
    }
   ],
   "source": [
    "difference1_fai = []\n",
    "\n",
    "zip_object = zip(temp, temp_crn)\n",
    "for temp_i, temp_crn_i in zip_object:\n",
    "    difference1_fai.append(temp_i-temp_crn_i)\n",
    "\n",
    "print(difference1_fai)"
   ]
  },
  {
   "cell_type": "markdown",
   "id": "f5dd4e4b",
   "metadata": {},
   "source": [
    "<font size=\"3\">**Selma, AL: 0600 UTC (12:00 am CST) 01 March 2022-0600 UTC (12:00 am CST) 02 March 2022</font>"
   ]
  },
  {
   "cell_type": "code",
   "execution_count": 26,
   "id": "af6b46b1",
   "metadata": {},
   "outputs": [
    {
     "name": "stdout",
     "output_type": "stream",
     "text": [
      "[6.86002, 5.92999, 5.04001, 4.28, 3.62, 2.82001, 2.5, 2.64999, 4.83002, 8.10001, 11.48, 14.55, 17.14, 19.33, 20.61, 20.84, 20.54, 19.47, 17.13, 14.9, 12.79, 10.85, 9.26001, 8.12, 6.74002]\n",
      "[10.0, 9.6, 9.2, 8.8, 8.6, 8.2, 8.1, 8.0, 8.0, 8.4, 9.3, 11.2, 12.9, 14.2, 14.7, 15.0, 14.9, 14.5, 14.0, 13.2, 12.4, 11.8, 11.2, 10.8, 10.3]\n",
      "[-3.1399800000000004, -3.6700099999999996, -4.15999, -4.5200000000000005, -4.9799999999999995, -5.379989999999999, -5.6, -5.35001, -3.16998, -0.2999900000000011, 2.1799999999999997, 3.3500000000000014, 4.24, 5.129999999999999, 5.91, 5.84, 5.639999999999999, 4.969999999999999, 3.129999999999999, 1.700000000000001, 0.3899999999999988, -0.9500000000000011, -1.9399899999999999, -2.6800000000000015, -3.5599800000000004]\n",
      "25\n"
     ]
    }
   ],
   "source": [
    "#1 hr hrrr:\n",
    "import numpy as np\n",
    "import numpy.ma as ma\n",
    "with open('hrrr_f01_Selma_AL.txt') as f:\n",
    "    lst=[line.split()[5] for line in f]\n",
    "    temp=[]\n",
    "    for i in lst:\n",
    "        new=i.replace(',',\"\")\n",
    "        temp.append(new)\n",
    "    temp.pop(0)\n",
    "    temp=[float(x) for x in temp]\n",
    "    temp=temp[1421:1446]\n",
    "\n",
    "#     x = np.array(temp)\n",
    "#     temp = ma.masked_array(x, mask=[0, 0, 0, 0, 0,0,0,0,0,0,0,0,0,0,0,0,0,1,1,1,1,0,0,0,0])\n",
    "    #print(temp)\n",
    "#Air Temp CRN:\n",
    "with open('CRNH0203-2022-AL_Selma_13_WNW.txt') as f:\n",
    "    lst=[line.split()[33] for line in f]\n",
    "    #print(lst)\n",
    "    temp_crn=[]\n",
    "    for i in lst:\n",
    "        new=i.replace(',',\"\")\n",
    "        temp_crn.append(new)\n",
    "    temp_crn=[float(x) for x in temp_crn]\n",
    "    temp_crn=temp_crn[1421:1446]\n",
    "#     y = np.array(temp_crn)\n",
    "#     temp_crn = ma.masked_array(y, mask=[0, 0, 0, 0, 0,0,0,0,0,0,0,0,0,0,0,0,0,1,1,1,1,0,0,0,0])\n",
    "    print(temp)\n",
    "    #print(len(temp))\n",
    "    print(temp_crn)\n",
    "    #print(len(temp_crn))\n",
    "#full time period is [2015:2112]\n",
    "difference1_sel = []\n",
    "\n",
    "zip_object = zip(temp, temp_crn)\n",
    "for temp_i, temp_crn_i in zip_object:\n",
    "    difference1_sel.append(temp_i-temp_crn_i)\n",
    "\n",
    "print(difference1_sel)\n",
    "print(len(difference1_sel))"
   ]
  },
  {
   "cell_type": "markdown",
   "id": "8fab4bdc",
   "metadata": {},
   "source": [
    "<font size=\"3\">Bowling Green, KY: 0600 UTC (12:00 am CST) 01 March 2022-0600 UTC (12:00 am CST) 02 March 2022</font>"
   ]
  },
  {
   "cell_type": "code",
   "execution_count": 27,
   "id": "bf608647",
   "metadata": {},
   "outputs": [
    {
     "name": "stdout",
     "output_type": "stream",
     "text": [
      "[3.77002, 3.33002, 3.14001, 2.89999, 2.49002, 2.41, 2.13, 2.25, 3.76001, 6.44, 9.34, 12.36, 15.48, 17.86, 19.09, 19.34, 18.99, 17.93, 16.43, 14.85, 13.5, 12.37, 11.22, 9.92001, 9.09]\n"
     ]
    }
   ],
   "source": [
    "#1 hr hrrr:\n",
    "with open('hrrr_f01_Bowling Green_KY.txt') as f:\n",
    "    lst=[line.split()[5] for line in f]\n",
    "    temp=[]\n",
    "    for i in lst:\n",
    "        new=i.replace(',',\"\")\n",
    "        temp.append(new)\n",
    "    temp.pop(0)\n",
    "    temp=[float(x) for x in temp]\n",
    "    temp=temp[1421:1446]\n",
    "    #temp=temp[2015:2063]\n",
    "    print(temp)\n",
    "    #print(len(temp))\n",
    "#full time period is [2015:2112]"
   ]
  },
  {
   "cell_type": "code",
   "execution_count": 28,
   "id": "b9e25e31",
   "metadata": {},
   "outputs": [
    {
     "name": "stdout",
     "output_type": "stream",
     "text": [
      "[5.2, 4.8, 4.5, 4.2, 4.1, 3.9, 3.8, 3.7, 3.7, 4.2, 5.3, 6.7, 8.2, 9.4, 10.1, 10.6, 10.6, 10.2, 9.6, 9.0, 8.5, 8.0, 7.6, 7.2, 6.8]\n"
     ]
    }
   ],
   "source": [
    "#Air Temp CRN:\n",
    "with open('CRNH0203-2022-KY_Bowling_Green_21_NNE.txt') as f:\n",
    "    lst=[line.split()[33] for line in f]\n",
    "    #print(lst)\n",
    "    temp_crn=[]\n",
    "    for i in lst:\n",
    "        new=i.replace(',',\"\")\n",
    "        temp_crn.append(new)\n",
    "    temp_crn=[float(x) for x in temp_crn]\n",
    "    temp_crn=temp_crn[1421:1446]\n",
    "    print(temp_crn)\n",
    "    #print(len(temp_crn))\n",
    "    # print(temp_crn[2124])"
   ]
  },
  {
   "cell_type": "code",
   "execution_count": 29,
   "id": "c1e72531",
   "metadata": {},
   "outputs": [
    {
     "name": "stdout",
     "output_type": "stream",
     "text": [
      "[-1.42998, -1.4699799999999996, -1.3599899999999998, -1.3000100000000003, -1.6099799999999997, -1.4899999999999998, -1.67, -1.4500000000000002, 0.060009999999999675, 2.24, 4.04, 5.659999999999999, 7.280000000000001, 8.459999999999999, 8.99, 8.74, 8.389999999999999, 7.73, 6.83, 5.85, 5.0, 4.369999999999999, 3.620000000000001, 2.7200099999999994, 2.29]\n"
     ]
    }
   ],
   "source": [
    "difference1_bow = []\n",
    "\n",
    "zip_object = zip(temp, temp_crn)\n",
    "for temp_i, temp_crn_i in zip_object:\n",
    "    difference1_bow.append(temp_i-temp_crn_i)\n",
    "\n",
    "print(difference1_bow)"
   ]
  },
  {
   "cell_type": "markdown",
   "id": "d1be2cc0",
   "metadata": {},
   "source": [
    "<font size=\"3\">Gadsden, AL: 0600 UTC (12:00 am CST) 01 March 2022-0600 UTC (12:00 am CST) 02 March 2022</font>"
   ]
  },
  {
   "cell_type": "code",
   "execution_count": 30,
   "id": "02793170",
   "metadata": {},
   "outputs": [
    {
     "name": "stdout",
     "output_type": "stream",
     "text": [
      "[4.16 3.42999 2.69 1.95999 1.49002 1.20999 1.10001 1.10001 -- 6.23001\n",
      " 9.45001 12.29 14.9 17.15 18.14 18.13 17.42 16.19 14.51 13.33 11.66\n",
      " 9.98001 8.55002 7.64001 6.70999]\n"
     ]
    }
   ],
   "source": [
    "#1 hr hrrr:\n",
    "with open('hrrr_f01_Gadsden_AL.txt') as f:\n",
    "    lst=[line.split()[5] for line in f]\n",
    "    temp=[]\n",
    "    for i in lst:\n",
    "        new=i.replace(',',\"\")\n",
    "        temp.append(new)\n",
    "    temp.pop(0)\n",
    "    temp=[float(x) for x in temp]\n",
    "    temp=temp[1421:1446]\n",
    "    x = np.array(temp)\n",
    "    temp = ma.masked_array(x, mask=[0, 0, 0, 0, 0,0,0,0,1,0,0,0,0,0,0,0,0,0,0,0,0,0,0,0,0])\n",
    "    #temp=temp[2015:2063]\n",
    "    print(temp)\n",
    "    #print(len(temp))\n",
    "#full time period is [2015:2112]"
   ]
  },
  {
   "cell_type": "code",
   "execution_count": 31,
   "id": "eb5f934d",
   "metadata": {},
   "outputs": [
    {
     "name": "stdout",
     "output_type": "stream",
     "text": [
      "[8.9 8.6 8.3 8.0 7.9 7.6 7.5 7.2 -- 7.8 8.7 9.9 11.0 12.1 13.0 13.5 13.4\n",
      " 13.0 12.5 11.8 11.3 10.9 10.3 10.0 9.7]\n"
     ]
    }
   ],
   "source": [
    "#Air Temp CRN:\n",
    "with open('CRNH0203-2022-AL_Gadsden_19_N.txt') as f:\n",
    "    lst=[line.split()[33] for line in f]\n",
    "    #print(lst)\n",
    "    temp_crn=[]\n",
    "    for i in lst:\n",
    "        new=i.replace(',',\"\")\n",
    "        temp_crn.append(new)\n",
    "    temp_crn=[float(x) for x in temp_crn]\n",
    "    temp_crn=temp_crn[1421:1446]\n",
    "    y = np.array(temp_crn)\n",
    "    temp_crn = ma.masked_array(y, mask=[0, 0, 0, 0, 0,0,0,0,1,0,0,0,0,0,0,0,0,0,0,0,0,0,0,0,0])\n",
    "    print(temp_crn)\n",
    "    #print(len(temp_crn))\n",
    "    # print(temp_crn[2124])"
   ]
  },
  {
   "cell_type": "code",
   "execution_count": 32,
   "id": "c002ac76",
   "metadata": {},
   "outputs": [
    {
     "name": "stdout",
     "output_type": "stream",
     "text": [
      "[-4.74, -5.1700099999999996, -5.610000000000001, -6.0400100000000005, -6.409980000000001, -6.39001, -6.39999, -6.09999, masked, -1.5699899999999998, 0.7500100000000014, 2.389999999999999, 3.9000000000000004, 5.049999999999999, 5.140000000000001, 4.629999999999999, 4.020000000000001, 3.1900000000000013, 2.01, 1.5299999999999994, 0.35999999999999943, -0.9199900000000003, -1.7499800000000008, -2.35999, -2.990009999999999]\n"
     ]
    }
   ],
   "source": [
    "difference1_gad = []\n",
    "\n",
    "zip_object = zip(temp, temp_crn)\n",
    "for temp_i, temp_crn_i in zip_object:\n",
    "    difference1_gad.append(temp_i-temp_crn_i)\n",
    "\n",
    "print(difference1_gad)"
   ]
  },
  {
   "cell_type": "markdown",
   "id": "d430f7c6",
   "metadata": {},
   "source": [
    "<font size=\"3\">Newton, GA: 0600 UTC (12:00 am CST) 01 March 2022-0600 UTC (12:00 am CST) 02 March 2022</font>"
   ]
  },
  {
   "cell_type": "code",
   "execution_count": 33,
   "id": "e78bb8bf",
   "metadata": {},
   "outputs": [
    {
     "name": "stdout",
     "output_type": "stream",
     "text": [
      "[8.58002, 7.83002, 7.84, 7.70001, 6.80002, 6.61002, 6.12, 6.39001, 8.67999, 12.05, 15.45, 18.7, 21.03, 22.57, 23.37, 23.51, 22.77, 21.32, 19.11, 16.58, 14.14, 12.56, 11.23, 10.2, 9.07001]\n"
     ]
    }
   ],
   "source": [
    "#1 hr hrrr:\n",
    "with open('hrrr_f01_Newton_GA.txt') as f:\n",
    "    lst=[line.split()[5] for line in f]\n",
    "    temp=[]\n",
    "    for i in lst:\n",
    "        new=i.replace(',',\"\")\n",
    "        temp.append(new)\n",
    "    temp.pop(0)\n",
    "    temp=[float(x) for x in temp]\n",
    "    temp=temp[1421:1446]\n",
    "    #temp=temp[2015:2063]\n",
    "    print(temp)\n",
    "    #print(len(temp))\n",
    "#full time period is [2015:2112]"
   ]
  },
  {
   "cell_type": "code",
   "execution_count": 34,
   "id": "9851cf85",
   "metadata": {},
   "outputs": [
    {
     "name": "stdout",
     "output_type": "stream",
     "text": [
      "[14.3, 14.0, 13.7, 13.4, 13.1, 12.9, 12.7, 12.6, 13.1, 13.8, 14.8, 16.0, 17.3, 18.3, 18.8, 18.9, 18.5, 18.0, 17.1, 16.3, 15.7, 15.2, 14.8, 14.4, 14.0]\n"
     ]
    }
   ],
   "source": [
    "#Air Temp CRN:\n",
    "with open('CRNH0203-2022-GA_Newton_11_SW.txt') as f:\n",
    "    lst=[line.split()[33] for line in f]\n",
    "    #print(lst)\n",
    "    temp_crn=[]\n",
    "    for i in lst:\n",
    "        new=i.replace(',',\"\")\n",
    "        temp_crn.append(new)\n",
    "    temp_crn=[float(x) for x in temp_crn]\n",
    "    temp_crn=temp_crn[1421:1446]\n",
    "    print(temp_crn)\n",
    "    #print(len(temp_crn))\n",
    "    # print(temp_crn[2124])"
   ]
  },
  {
   "cell_type": "code",
   "execution_count": 35,
   "id": "f2141c03",
   "metadata": {},
   "outputs": [
    {
     "name": "stdout",
     "output_type": "stream",
     "text": [
      "[-5.719980000000001, -6.16998, -5.859999999999999, -5.699990000000001, -6.29998, -6.289980000000001, -6.579999999999999, -6.2099899999999995, -4.4200099999999996, -1.75, 0.6499999999999986, 2.6999999999999993, 3.7300000000000004, 4.27, 4.57, 4.610000000000003, 4.27, 3.3200000000000003, 2.009999999999998, 0.2799999999999976, -1.5599999999999987, -2.639999999999999, -3.5700000000000003, -4.200000000000001, -4.92999]\n"
     ]
    }
   ],
   "source": [
    "difference1_newt = []\n",
    "\n",
    "zip_object = zip(temp, temp_crn)\n",
    "for temp_i, temp_crn_i in zip_object:\n",
    "    difference1_newt.append(temp_i-temp_crn_i)\n",
    "\n",
    "print(difference1_newt)"
   ]
  },
  {
   "cell_type": "markdown",
   "id": "ab4663ab",
   "metadata": {},
   "source": [
    "<font size=\"3\">Salem, MO: 0600 UTC (12:00 am CST) 13 March 2022-0600 UTC (12:00 am CST) 14 March 2022</font>"
   ]
  },
  {
   "cell_type": "code",
   "execution_count": 36,
   "id": "01442781",
   "metadata": {},
   "outputs": [
    {
     "name": "stdout",
     "output_type": "stream",
     "text": [
      "[0.619995, 0.600006, 0.559998, 0.570007, 0.559998, 0.570007, 0.540009, 0.589996, 1.97, 4.49002, 7.31, 10.56, 13.37, 15.39, 16.64, 17.34, 17.26, 16.76, 15.22, 13.77, 12.44, 11.52, 10.88, 10.35, 9.63]\n",
      "25\n"
     ]
    }
   ],
   "source": [
    "#1 hr hrrr:\n",
    "with open('hrrr_f01_Salem_MO.txt') as f:\n",
    "    lst=[line.split()[5] for line in f]\n",
    "    temp=[]\n",
    "    for i in lst:\n",
    "        new=i.replace(',',\"\")\n",
    "        temp.append(new)\n",
    "    temp.pop(0)\n",
    "    temp=[float(x) for x in temp]\n",
    "    temp=temp[1709:1734]\n",
    "    #temp=temp[2015:2063]\n",
    "    print(temp)\n",
    "    print(len(temp))\n",
    "#full time period is [2015:2112]"
   ]
  },
  {
   "cell_type": "code",
   "execution_count": 37,
   "id": "adffdd54",
   "metadata": {},
   "outputs": [
    {
     "name": "stdout",
     "output_type": "stream",
     "text": [
      "[1.9, 1.9, 1.9, 1.8, 1.8, 1.8, 1.8, 1.8, 1.7, 1.8, 2.0, 2.8, 4.0, 5.2, 6.1, 6.7, 7.0, 6.9, 6.7, 6.3, 5.9, 5.6, 5.3, 5.2, 5.0]\n",
      "25\n"
     ]
    }
   ],
   "source": [
    "#Air Temp CRN:\n",
    "with open('CRNH0203-2022-MO_Salem_10_W.txt') as f:\n",
    "    lst=[line.split()[33] for line in f]\n",
    "    #print(lst)\n",
    "    temp_crn=[]\n",
    "    for i in lst:\n",
    "        new=i.replace(',',\"\")\n",
    "        temp_crn.append(new)\n",
    "    temp_crn=[float(x) for x in temp_crn]\n",
    "    temp_crn=temp_crn[1709:1734]\n",
    "    print(temp_crn)\n",
    "    print(len(temp_crn))\n",
    "    # print(temp_crn[2124])"
   ]
  },
  {
   "cell_type": "code",
   "execution_count": 38,
   "id": "3f860af3",
   "metadata": {},
   "outputs": [
    {
     "name": "stdout",
     "output_type": "stream",
     "text": [
      "[-1.280005, -1.2999939999999999, -1.340002, -1.229993, -1.240002, -1.229993, -1.259991, -1.210004, 0.27, 2.6900200000000005, 5.31, 7.760000000000001, 9.37, 10.190000000000001, 10.540000000000001, 10.64, 10.260000000000002, 9.860000000000001, 8.52, 7.47, 6.539999999999999, 5.92, 5.580000000000001, 5.1499999999999995, 4.630000000000001]\n"
     ]
    }
   ],
   "source": [
    "difference2_sal = []\n",
    "\n",
    "zip_object = zip(temp, temp_crn)\n",
    "for temp_i, temp_crn_i in zip_object:\n",
    "    difference2_sal.append(temp_i-temp_crn_i)\n",
    "\n",
    "print(difference2_sal)"
   ]
  },
  {
   "cell_type": "markdown",
   "id": "521bd7c5",
   "metadata": {},
   "source": [
    "<font size=\"3\">Batesville, AR: 0600 UTC (12:00 am CST) 01 March 2022-0600 UTC (12:00 am CST) 02 March 2022</font>"
   ]
  },
  {
   "cell_type": "code",
   "execution_count": 39,
   "id": "fac2aa09",
   "metadata": {},
   "outputs": [
    {
     "name": "stdout",
     "output_type": "stream",
     "text": [
      "[1.03, 0.970001, 0.920013, 0.880005, 0.869995, 0.779999, 0.779999, 0.700012, 1.88, 4.10001, 6.55002, 8.87, 10.81, 12.58, 14.08, 15.07, 15.26, 14.67, 13.21, 11.56, 10.25, 9.28, 8.41, 7.81, 7.23001]\n",
      "25\n"
     ]
    }
   ],
   "source": [
    "#1 hr hrrr:\n",
    "with open('hrrr_f01_Batesville_AR.txt') as f:\n",
    "    lst=[line.split()[5] for line in f]\n",
    "    temp=[]\n",
    "    for i in lst:\n",
    "        new=i.replace(',',\"\")\n",
    "        temp.append(new)\n",
    "    temp.pop(0)\n",
    "    temp=[float(x) for x in temp]\n",
    "    temp=temp[1709:1734]\n",
    "#     x = np.array(temp)\n",
    "#     temp = ma.masked_array(x, mask=[0, 0, 0, 0, 0,0,0,0,0,0,0,0,0,0,0,0,0,0,0,0,0,1,0,0,0])\n",
    "    #temp=temp[2015:2063]\n",
    "    print(temp)\n",
    "    print(len(temp))\n",
    "#full time period is [2015:2112]"
   ]
  },
  {
   "cell_type": "code",
   "execution_count": 40,
   "id": "c562b7ab",
   "metadata": {},
   "outputs": [
    {
     "name": "stdout",
     "output_type": "stream",
     "text": [
      "[5.0, 4.8, 4.7, 4.6, 4.4, 4.4, 4.3, 4.3, 4.3, 4.9, 5.7, 6.6, 7.8, 8.8, 9.5, 9.9, 10.1, 9.9, 9.5, 9.0, 8.6, 8.2, 8.0, 7.8, 7.5]\n"
     ]
    }
   ],
   "source": [
    "#Air Temp CRN:\n",
    "with open('CRNH0203-2022-AR_Batesville_8_WNW.txt') as f:\n",
    "    lst=[line.split()[33] for line in f]\n",
    "    #print(lst)\n",
    "    temp_crn=[]\n",
    "    for i in lst:\n",
    "        new=i.replace(',',\"\")\n",
    "        temp_crn.append(new)\n",
    "    temp_crn=[float(x) for x in temp_crn]\n",
    "    temp_crn=temp_crn[1709:1734]\n",
    "#     y = np.array(temp_crn)\n",
    "#     temp_crn = ma.masked_array(y, mask=[0, 0, 0, 0, 0,0,0,0,0,0,0,0,0,0,0,0,0,0,0,0,0,1,0,0,0])\n",
    "    print(temp_crn)\n",
    "    #print(len(temp_crn))\n",
    "    # print(temp_crn[2124])"
   ]
  },
  {
   "cell_type": "code",
   "execution_count": 41,
   "id": "6a5a229b",
   "metadata": {},
   "outputs": [
    {
     "name": "stdout",
     "output_type": "stream",
     "text": [
      "[-3.9699999999999998, -3.829999, -3.779987, -3.7199949999999995, -3.5300050000000005, -3.6200010000000002, -3.5200009999999997, -3.5999879999999997, -2.42, -0.7999900000000002, 0.8500199999999998, 2.2699999999999996, 3.0100000000000007, 3.7799999999999994, 4.58, 5.17, 5.16, 4.77, 3.710000000000001, 2.5600000000000005, 1.6500000000000004, 1.08, 0.41000000000000014, 0.009999999999999787, -0.26998999999999995]\n"
     ]
    }
   ],
   "source": [
    "difference2_bat = []\n",
    "\n",
    "zip_object = zip(temp, temp_crn)\n",
    "for temp_i, temp_crn_i in zip_object:\n",
    "    difference2_bat.append(temp_i-temp_crn_i)\n",
    "\n",
    "print(difference2_bat)"
   ]
  },
  {
   "cell_type": "markdown",
   "id": "16bf265f",
   "metadata": {},
   "source": [
    "<font size=\"3\">Lafayette, LA: 0600 UTC (12:00 am CST) 01 March 2022-0600 UTC (12:00 am CST) 02 March 2022</font>"
   ]
  },
  {
   "cell_type": "code",
   "execution_count": 42,
   "id": "b23c7950",
   "metadata": {},
   "outputs": [
    {
     "name": "stdout",
     "output_type": "stream",
     "text": [
      "[6.36002, 5.73001, 4.89001, 4.14999, 3.45001, 2.69, 2.41, 2.44, 4.87, 8.26001, 11.58, 14.66, 16.92, 18.71, 19.91, 20.17, 19.29, 17.97, 15.98, 14.15, 12.68, 11.73, 11.11, 10.86, 10.74]\n"
     ]
    }
   ],
   "source": [
    "#1 hr hrrr:\n",
    "with open('hrrr_f01_Lafayette_LA.txt') as f:\n",
    "    lst=[line.split()[5] for line in f]\n",
    "    temp=[]\n",
    "    for i in lst:\n",
    "        new=i.replace(',',\"\")\n",
    "        temp.append(new)\n",
    "    temp.pop(0)\n",
    "    temp=[float(x) for x in temp]\n",
    "    temp=temp[1709:1734]\n",
    "    #temp=temp[2015:2063]\n",
    "    print(temp)\n",
    "    #print(len(temp))\n",
    "#full time period is [2015:2112]"
   ]
  },
  {
   "cell_type": "code",
   "execution_count": 43,
   "id": "dbdffe3b",
   "metadata": {},
   "outputs": [
    {
     "name": "stdout",
     "output_type": "stream",
     "text": [
      "[13.9, 13.6, 13.3, 13.0, 12.8, 12.4, 12.2, 12.0, 11.9, 11.9, 12.2, 12.6, 13.3, 14.1, 14.7, 15.2, 15.4, 15.4, 15.4, 15.1, 14.9, 14.5, 14.3, 14.0, 13.9]\n"
     ]
    }
   ],
   "source": [
    "#Air Temp CRN:\n",
    "with open('CRNH0203-2022-LA_Lafayette_13_SE.txt') as f:\n",
    "    lst=[line.split()[33] for line in f]\n",
    "    #print(lst)\n",
    "    temp_crn=[]\n",
    "    for i in lst:\n",
    "        new=i.replace(',',\"\")\n",
    "        temp_crn.append(new)\n",
    "    temp_crn=[float(x) for x in temp_crn]\n",
    "    temp_crn=temp_crn[1709:1734]\n",
    "    print(temp_crn)\n",
    "    #print(len(temp_crn))\n",
    "    # print(temp_crn[2124])"
   ]
  },
  {
   "cell_type": "code",
   "execution_count": 44,
   "id": "07cf95c8",
   "metadata": {},
   "outputs": [
    {
     "name": "stdout",
     "output_type": "stream",
     "text": [
      "[-7.539980000000001, -7.86999, -8.40999, -8.850010000000001, -9.349990000000002, -9.71, -9.79, -9.56, -7.03, -3.639990000000001, -0.6199999999999992, 2.0600000000000005, 3.620000000000001, 4.610000000000001, 5.210000000000001, 4.970000000000002, 3.889999999999999, 2.5699999999999985, 0.5800000000000001, -0.9499999999999993, -2.2200000000000006, -2.7699999999999996, -3.1900000000000013, -3.1400000000000006, -3.16]\n"
     ]
    }
   ],
   "source": [
    "difference2_laf = []\n",
    "\n",
    "zip_object = zip(temp, temp_crn)\n",
    "for temp_i, temp_crn_i in zip_object:\n",
    "    difference2_laf.append(temp_i-temp_crn_i)\n",
    "\n",
    "print(difference2_laf)"
   ]
  },
  {
   "cell_type": "markdown",
   "id": "cda99a3a",
   "metadata": {},
   "source": [
    "<font size=\"3\">Monroe, LA: 0600 UTC (12:00 am CST) 01 March 2022-0600 UTC (12:00 am CST) 02 March 2022</font>"
   ]
  },
  {
   "cell_type": "code",
   "execution_count": 45,
   "id": "3c145693",
   "metadata": {},
   "outputs": [
    {
     "name": "stdout",
     "output_type": "stream",
     "text": [
      "[2.69, 2.05002, 1.44, 1.0, 0.910004, 0.890015, 0.880005, 0.809998, 2.10001, 4.88, 8.02002, 11.42, 14.66, 17.23, 18.69, 19.19, 18.87, 17.88, 15.83, 13.82, 12.27, 11.09, 10.05, 9.45999, 8.82001]\n"
     ]
    }
   ],
   "source": [
    "#1 hr hrrr:\n",
    "with open('hrrr_f01_Monroe_LA.txt') as f:\n",
    "    lst=[line.split()[5] for line in f]\n",
    "    temp=[]\n",
    "    for i in lst:\n",
    "        new=i.replace(',',\"\")\n",
    "        temp.append(new)\n",
    "    temp.pop(0)\n",
    "    temp=[float(x) for x in temp]\n",
    "    temp=temp[1709:1734]\n",
    "    #temp=temp[2015:2063]\n",
    "    print(temp)\n",
    "    #print(len(temp))\n",
    "#full time period is [2015:2112]"
   ]
  },
  {
   "cell_type": "code",
   "execution_count": 46,
   "id": "d11b7824",
   "metadata": {},
   "outputs": [
    {
     "name": "stdout",
     "output_type": "stream",
     "text": [
      "[9.3, 8.9, 8.6, 8.3, 7.9, 7.7, 7.4, 7.2, 7.1, 7.4, 8.4, 9.7, 10.9, 12.2, 13.1, 13.7, 13.9, 13.6, 13.1, 12.5, 11.9, 11.3, 10.7, 10.4, 10.0]\n"
     ]
    }
   ],
   "source": [
    "#Air Temp CRN:\n",
    "with open('CRNH0203-2022-LA_Monroe_26_N.txt') as f:\n",
    "    lst=[line.split()[33] for line in f]\n",
    "    #print(lst)\n",
    "    temp_crn=[]\n",
    "    for i in lst:\n",
    "        new=i.replace(',',\"\")\n",
    "        temp_crn.append(new)\n",
    "    temp_crn=[float(x) for x in temp_crn]\n",
    "    temp_crn=temp_crn[1709:1734]\n",
    "    print(temp_crn)\n",
    "    #print(len(temp_crn))\n",
    "    # print(temp_crn[2124])"
   ]
  },
  {
   "cell_type": "code",
   "execution_count": 47,
   "id": "e5057ed5",
   "metadata": {},
   "outputs": [
    {
     "name": "stdout",
     "output_type": "stream",
     "text": [
      "[-6.610000000000001, -6.84998, -7.16, -7.300000000000001, -6.9899960000000005, -6.809985, -6.519995000000001, -6.390002, -4.9999899999999995, -2.5200000000000005, -0.37997999999999976, 1.7200000000000006, 3.76, 5.030000000000001, 5.590000000000002, 5.490000000000002, 4.970000000000001, 4.279999999999999, 2.7300000000000004, 1.3200000000000003, 0.3699999999999992, -0.21000000000000085, -0.6499999999999986, -0.9400100000000009, -1.17999]\n"
     ]
    }
   ],
   "source": [
    "difference2_mon = []\n",
    "\n",
    "zip_object = zip(temp, temp_crn)\n",
    "for temp_i, temp_crn_i in zip_object:\n",
    "    difference2_mon.append(temp_i-temp_crn_i)\n",
    "\n",
    "print(difference2_mon)"
   ]
  },
  {
   "cell_type": "markdown",
   "id": "50b6ccdc",
   "metadata": {},
   "source": [
    "<font size=\"3\">Holly Springs, MS: 0600 UTC (12:00 am CST) 01 March 2022-0600 UTC (12:00 am CST) 02 March 2022</font>"
   ]
  },
  {
   "cell_type": "code",
   "execution_count": 48,
   "id": "04968dd0",
   "metadata": {},
   "outputs": [
    {
     "name": "stdout",
     "output_type": "stream",
     "text": [
      "[1.09, 1.04001, 0.899994, 0.920013, 0.820007, 0.809998, 0.869995, 0.830017, 0.869995, 2.69, 5.45999, 8.39999, 11.25, 13.68, 14.92, 15.45, 15.23, 14.41, 12.74, 11.14, 9.78, 8.84, 8.23001, 7.85001, 7.23001]\n"
     ]
    }
   ],
   "source": [
    "#1 hr hrrr:\n",
    "with open('hrrr_f01_Holly Springs_MS.txt') as f:\n",
    "    lst=[line.split()[5] for line in f]\n",
    "    temp=[]\n",
    "    for i in lst:\n",
    "        new=i.replace(',',\"\")\n",
    "        temp.append(new)\n",
    "    temp.pop(0)\n",
    "    temp=[float(x) for x in temp]\n",
    "    temp=temp[1709:1734]\n",
    "    #temp=temp[2015:2063]\n",
    "    print(temp)\n",
    "    #print(len(temp))\n",
    "#full time period is [2015:2112]"
   ]
  },
  {
   "cell_type": "code",
   "execution_count": 49,
   "id": "6e5673eb",
   "metadata": {},
   "outputs": [
    {
     "name": "stdout",
     "output_type": "stream",
     "text": [
      "[7.2, 6.9, 6.7, 6.5, 6.3, 6.2, 5.9, 5.8, 5.8, 6.0, 6.6, 7.5, 8.5, 9.5, 10.2, 10.7, 10.9, 10.7, 10.4, 10.0, 9.6, 9.2, 9.0, 8.7, 8.4]\n"
     ]
    }
   ],
   "source": [
    "#Air Temp CRN:\n",
    "with open('CRNH0203-2022-MS_Holly_Springs_4_N.txt') as f:\n",
    "    lst=[line.split()[33] for line in f]\n",
    "    #print(lst)\n",
    "    temp_crn=[]\n",
    "    for i in lst:\n",
    "        new=i.replace(',',\"\")\n",
    "        temp_crn.append(new)\n",
    "    temp_crn=[float(x) for x in temp_crn]\n",
    "    temp_crn=temp_crn[1709:1734]\n",
    "    print(temp_crn)\n",
    "    #print(len(temp_crn))\n",
    "    # print(temp_crn[2124])"
   ]
  },
  {
   "cell_type": "code",
   "execution_count": 50,
   "id": "b1ba34c2",
   "metadata": {},
   "outputs": [
    {
     "name": "stdout",
     "output_type": "stream",
     "text": [
      "[-6.11, -5.85999, -5.800006, -5.579987, -5.4799929999999994, -5.390002, -5.030005, -4.969983, -4.9300049999999995, -3.31, -1.1400099999999993, 0.8999900000000007, 2.75, 4.18, 4.720000000000001, 4.75, 4.33, 3.710000000000001, 2.34, 1.1400000000000006, 0.17999999999999972, -0.35999999999999943, -0.76999, -0.8499899999999991, -1.1699900000000003]\n"
     ]
    }
   ],
   "source": [
    "difference2_hol = []\n",
    "\n",
    "zip_object = zip(temp, temp_crn)\n",
    "for temp_i, temp_crn_i in zip_object:\n",
    "    difference2_hol.append(temp_i-temp_crn_i)\n",
    "\n",
    "print(difference2_hol)"
   ]
  },
  {
   "cell_type": "markdown",
   "id": "9dd596b5",
   "metadata": {},
   "source": [
    "<font size=\"3\">Newton, MS: 0600 UTC (12:00 am CST) 01 March 2022-0600 UTC (12:00 am CST) 02 March 2022</font>"
   ]
  },
  {
   "cell_type": "code",
   "execution_count": 51,
   "id": "67050150",
   "metadata": {},
   "outputs": [
    {
     "name": "stdout",
     "output_type": "stream",
     "text": [
      "[1.83002, 0.690002, 1.41, 0.360016, -0.410004, -1.12, -1.57999, -1.38998, 0.790009, 4.74002, 8.62, 12.06, 14.77, 16.72, 17.81, 18.02, 17.5, 16.21, 14.22, 12.24, 10.36, 8.85001, 7.62, 6.82001, 5.76001]\n"
     ]
    }
   ],
   "source": [
    "#1 hr hrrr:\n",
    "with open('hrrr_f01_Newton_MS.txt') as f:\n",
    "    lst=[line.split()[5] for line in f]\n",
    "    temp=[]\n",
    "    for i in lst:\n",
    "        new=i.replace(',',\"\")\n",
    "        temp.append(new)\n",
    "    temp.pop(0)\n",
    "    temp=[float(x) for x in temp]\n",
    "    temp=temp[1709:1734]\n",
    "    #temp=temp[2015:2063]\n",
    "    print(temp)\n",
    "    #print(len(temp))\n",
    "#full time period is [2015:2112]"
   ]
  },
  {
   "cell_type": "code",
   "execution_count": 52,
   "id": "9793ccfe",
   "metadata": {},
   "outputs": [
    {
     "name": "stdout",
     "output_type": "stream",
     "text": [
      "[8.2, 7.9, 7.6, 7.4, 7.1, 6.9, 6.8, 6.7, 7.4, 8.8, 10.7, 12.1, 13.6, 14.6, 14.9, 14.9, 14.4, 13.5, 12.8, 12.0, 11.3, 10.7, 10.3, 9.9, 9.6]\n"
     ]
    }
   ],
   "source": [
    "#Air Temp CRN:\n",
    "with open('CRNH0203-2022-MS_Newton_5_ENE.txt') as f:\n",
    "    lst=[line.split()[33] for line in f]\n",
    "    #print(lst)\n",
    "    temp_crn=[]\n",
    "    for i in lst:\n",
    "        new=i.replace(',',\"\")\n",
    "        temp_crn.append(new)\n",
    "    temp_crn=[float(x) for x in temp_crn]\n",
    "    temp_crn=temp_crn[1709:1734]\n",
    "    print(temp_crn)\n",
    "    #print(len(temp_crn))\n",
    "    # print(temp_crn[2124])"
   ]
  },
  {
   "cell_type": "code",
   "execution_count": 53,
   "id": "e8bd78b0",
   "metadata": {},
   "outputs": [
    {
     "name": "stdout",
     "output_type": "stream",
     "text": [
      "[-6.369979999999999, -7.209998000000001, -6.1899999999999995, -7.0399840000000005, -7.5100039999999995, -8.02, -8.37999, -8.08998, -6.609991000000001, -4.05998, -2.08, -0.03999999999999915, 1.17, 2.119999999999999, 2.9099999999999984, 3.119999999999999, 3.0999999999999996, 2.710000000000001, 1.42, 0.2400000000000002, -0.9400000000000013, -1.84999, -2.6800000000000006, -3.0799900000000004, -3.8399899999999993]\n"
     ]
    }
   ],
   "source": [
    "difference2_new = []\n",
    "\n",
    "zip_object = zip(temp, temp_crn)\n",
    "for temp_i, temp_crn_i in zip_object:\n",
    "    difference2_new.append(temp_i-temp_crn_i)\n",
    "\n",
    "print(difference2_new)"
   ]
  },
  {
   "cell_type": "markdown",
   "id": "ec499d8b",
   "metadata": {},
   "source": [
    "<font size=\"3\">Gainesville, AL: 0600 UTC (12:00 am CST) 01 March 2022-0600 UTC (12:00 am CST) 02 March 2022</font>"
   ]
  },
  {
   "cell_type": "code",
   "execution_count": 54,
   "id": "e9f22db0",
   "metadata": {},
   "outputs": [],
   "source": [
    "# #1 hr hrrr:\n",
    "# with open('hrrr_f01_Gainesville_AL.txt') as f:\n",
    "#     lst=[line.split()[5] for line in f]\n",
    "#     temp=[]\n",
    "#     for i in lst:\n",
    "#         new=i.replace(',',\"\")\n",
    "#         temp.append(new)\n",
    "#     temp.pop(0)\n",
    "#     temp=[float(x) for x in temp]\n",
    "#     temp=temp[1709:1734]\n",
    "#     #temp=temp[2015:2063]\n",
    "#     print(temp)\n",
    "#     #print(len(temp))\n",
    "# #full time period is [2015:2112]"
   ]
  },
  {
   "cell_type": "code",
   "execution_count": 55,
   "id": "de89a88f",
   "metadata": {},
   "outputs": [],
   "source": [
    "# #Air Temp CRN:\n",
    "# with open('CRNH0203-2022-AL_Gainesville_2_NE.txt') as f:\n",
    "#     lst=[line.split()[33] for line in f]\n",
    "#     #print(lst)\n",
    "#     temp_crn=[]\n",
    "#     for i in lst:\n",
    "#         new=i.replace(',',\"\")\n",
    "#         temp_crn.append(new)\n",
    "#     temp_crn=[float(x) for x in temp_crn]\n",
    "#     temp_crn=temp_crn[1709:1734]\n",
    "#     print(temp_crn)\n",
    "#     #print(len(temp_crn))\n",
    "#     # print(temp_crn[2124])"
   ]
  },
  {
   "cell_type": "code",
   "execution_count": 56,
   "id": "2d1d92b8",
   "metadata": {},
   "outputs": [],
   "source": [
    "# difference2_gai = []\n",
    "\n",
    "# zip_object = zip(temp, temp_crn)\n",
    "# for temp_i, temp_crn_i in zip_object:\n",
    "#     difference2_gai.append(temp_i-temp_crn_i)\n",
    "\n",
    "# print(difference2_gai)"
   ]
  },
  {
   "cell_type": "markdown",
   "id": "4019fb67",
   "metadata": {},
   "source": [
    "<font size=\"3\">Fairhope, AL: 0600 UTC (12:00 am CST) 01 March 2022-0600 UTC (12:00 am CST) 02 March 2022</font>"
   ]
  },
  {
   "cell_type": "code",
   "execution_count": 57,
   "id": "c7e8255a",
   "metadata": {},
   "outputs": [
    {
     "name": "stdout",
     "output_type": "stream",
     "text": [
      "[4.42999, 3.82001, 3.04001, 2.27002, 1.73001, 1.31, 0.820007, 1.14001, 3.57001, 6.89001, 10.44, 13.77, 16.35, 17.84, 17.98, 17.66, 17.01, 15.29, 13.07, 11.03, 9.39001, 7.95999, 6.75, 5.87, 5.13]\n"
     ]
    }
   ],
   "source": [
    "#1 hr hrrr:\n",
    "with open('hrrr_f01_Fairhope_AL.txt') as f:\n",
    "    lst=[line.split()[5] for line in f]\n",
    "    temp=[]\n",
    "    for i in lst:\n",
    "        new=i.replace(',',\"\")\n",
    "        temp.append(new)\n",
    "    temp.pop(0)\n",
    "    temp=[float(x) for x in temp]\n",
    "    temp=temp[1709:1734]\n",
    "    #temp=temp[2015:2063]\n",
    "    print(temp)\n",
    "    #print(len(temp))\n",
    "#full time period is [2015:2112]"
   ]
  },
  {
   "cell_type": "code",
   "execution_count": 58,
   "id": "2bb7c0bc",
   "metadata": {},
   "outputs": [
    {
     "name": "stdout",
     "output_type": "stream",
     "text": [
      "[13.9, 13.6, 13.4, 13.3, 13.1, 12.9, 12.7, 12.6, 12.4, 12.5, 12.7, 13.0, 13.4, 13.8, 14.3, 14.6, 14.8, 14.8, 14.6, 14.4, 14.1, 13.9, 13.6, 13.4, 13.2]\n"
     ]
    }
   ],
   "source": [
    "#Air Temp CRN:\n",
    "with open('CRNH0203-2022-AL_Fairhope_3_NE.txt') as f:\n",
    "    lst=[line.split()[33] for line in f]\n",
    "    #print(lst)\n",
    "    temp_crn=[]\n",
    "    for i in lst:\n",
    "        new=i.replace(',',\"\")\n",
    "        temp_crn.append(new)\n",
    "    temp_crn=[float(x) for x in temp_crn]\n",
    "    temp_crn=temp_crn[1709:1734]\n",
    "    print(temp_crn)\n",
    "    #print(len(temp_crn))\n",
    "    # print(temp_crn[2124])"
   ]
  },
  {
   "cell_type": "code",
   "execution_count": 59,
   "id": "e99e35e0",
   "metadata": {},
   "outputs": [
    {
     "name": "stdout",
     "output_type": "stream",
     "text": [
      "[-9.47001, -9.77999, -10.35999, -11.02998, -11.36999, -11.59, -11.879992999999999, -11.45999, -8.82999, -5.60999, -2.26, 0.7699999999999996, 2.950000000000001, 4.039999999999999, 3.6799999999999997, 3.0600000000000005, 2.210000000000001, 0.48999999999999844, -1.5299999999999994, -3.370000000000001, -4.7099899999999995, -5.94001, -6.85, -7.53, -8.07]\n"
     ]
    }
   ],
   "source": [
    "difference2_fai = []\n",
    "\n",
    "zip_object = zip(temp, temp_crn)\n",
    "for temp_i, temp_crn_i in zip_object:\n",
    "    difference2_fai.append(temp_i-temp_crn_i)\n",
    "\n",
    "print(difference2_fai)"
   ]
  },
  {
   "cell_type": "markdown",
   "id": "cb09fde7",
   "metadata": {},
   "source": [
    "<font size=\"3\">**Selma, AL: 0600 UTC (12:00 am CST) 01 March 2022-0600 UTC (12:00 am CST) 02 March 2022</font>"
   ]
  },
  {
   "cell_type": "code",
   "execution_count": 60,
   "id": "fe2b2257",
   "metadata": {},
   "outputs": [
    {
     "name": "stdout",
     "output_type": "stream",
     "text": [
      "[1.60001, 1.20001, 0.540009, 2.05002, 1.64001, 0.52002, 1.01001, 0.589996, 1.92001, 4.58002, 7.63, 10.73, 13.33, 15.12, 16.22, 16.61, 16.25, 15.16, 13.17, 10.87, 8.84, 7.32001, 6.05002, 4.98001, 4.24002]\n",
      "[7.9, 7.6, 7.2, 6.9, 6.6, 6.3, 6.1, 5.9, 6.0, 6.5, 7.2, 9.0, 10.7, 12.1, 12.6, 12.8, 12.7, 12.4, 12.0, 11.5, 10.8, 10.3, 9.8, 9.4, 9.0]\n",
      "[-6.29999, -6.39999, -6.659991, -4.84998, -4.9599899999999995, -5.77998, -5.089989999999999, -5.310004, -4.0799900000000004, -1.9199799999999998, 0.4299999999999997, 1.7300000000000004, 2.630000000000001, 3.0199999999999996, 3.619999999999999, 3.8099999999999987, 3.5500000000000007, 2.76, 1.17, -0.6300000000000008, -1.9600000000000009, -2.979990000000001, -3.7499800000000008, -4.41999, -4.75998]\n",
      "25\n"
     ]
    }
   ],
   "source": [
    "#1 hr hrrr:\n",
    "import numpy as np\n",
    "import numpy.ma as ma\n",
    "with open('hrrr_f01_Selma_AL.txt') as f:\n",
    "    lst=[line.split()[5] for line in f]\n",
    "    temp=[]\n",
    "    for i in lst:\n",
    "        new=i.replace(',',\"\")\n",
    "        temp.append(new)\n",
    "    temp.pop(0)\n",
    "    temp=[float(x) for x in temp]\n",
    "    temp=temp[1709:1734]\n",
    "\n",
    "#     x = np.array(temp)\n",
    "#     temp = ma.masked_array(x, mask=[0, 0, 0, 0, 0,0,0,0,0,0,0,0,0,0,0,0,0,1,1,1,1,0,0,0,0])\n",
    "    #print(temp)\n",
    "#Air Temp CRN:\n",
    "with open('CRNH0203-2022-AL_Selma_13_WNW.txt') as f:\n",
    "    lst=[line.split()[33] for line in f]\n",
    "    #print(lst)\n",
    "    temp_crn=[]\n",
    "    for i in lst:\n",
    "        new=i.replace(',',\"\")\n",
    "        temp_crn.append(new)\n",
    "    temp_crn=[float(x) for x in temp_crn]\n",
    "    temp_crn=temp_crn[1709:1734]\n",
    "#     y = np.array(temp_crn)\n",
    "#     temp_crn = ma.masked_array(y, mask=[0, 0, 0, 0, 0,0,0,0,0,0,0,0,0,0,0,0,0,1,1,1,1,0,0,0,0])\n",
    "    print(temp)\n",
    "    #print(len(temp))\n",
    "    print(temp_crn)\n",
    "    #print(len(temp_crn))\n",
    "#full time period is [2015:2112]\n",
    "difference2_sel = []\n",
    "\n",
    "zip_object = zip(temp, temp_crn)\n",
    "for temp_i, temp_crn_i in zip_object:\n",
    "    difference2_sel.append(temp_i-temp_crn_i)\n",
    "\n",
    "print(difference2_sel)\n",
    "print(len(difference2_sel))"
   ]
  },
  {
   "cell_type": "markdown",
   "id": "9767e5fd",
   "metadata": {},
   "source": [
    "<font size=\"3\">Bowling Green, KY: 0600 UTC (12:00 am CST) 01 March 2022-0600 UTC (12:00 am CST) 02 March 2022</font>"
   ]
  },
  {
   "cell_type": "code",
   "execution_count": 61,
   "id": "a031b19f",
   "metadata": {},
   "outputs": [
    {
     "name": "stdout",
     "output_type": "stream",
     "text": [
      "[-4.23999, -5.00998, -5.44998, -3.92999, -4.76999, -4.81, -4.47998, -2.72998, -1.31, -0.22998, 1.36002, 4.23001, 6.72, 8.66, 10.41, 11.49, 11.66, 11.1, 9.73001, 8.74002, 7.64999, 7.01001, 6.56, 6.07001, 5.74002]\n"
     ]
    }
   ],
   "source": [
    "#1 hr hrrr:\n",
    "with open('hrrr_f01_Bowling Green_KY.txt') as f:\n",
    "    lst=[line.split()[5] for line in f]\n",
    "    temp=[]\n",
    "    for i in lst:\n",
    "        new=i.replace(',',\"\")\n",
    "        temp.append(new)\n",
    "    temp.pop(0)\n",
    "    temp=[float(x) for x in temp]\n",
    "    temp=temp[1709:1734]\n",
    "    #temp=temp[2015:2063]\n",
    "    print(temp)\n",
    "    #print(len(temp))\n",
    "#full time period is [2015:2112]"
   ]
  },
  {
   "cell_type": "code",
   "execution_count": 62,
   "id": "f404948b",
   "metadata": {},
   "outputs": [
    {
     "name": "stdout",
     "output_type": "stream",
     "text": [
      "[4.8, 4.6, 4.4, 4.3, 4.1, 4.1, 4.1, 4.0, 4.0, 4.1, 4.2, 4.6, 5.4, 6.8, 8.0, 8.7, 8.9, 8.6, 8.2, 7.6, 7.1, 6.7, 6.4, 6.1, 5.9]\n"
     ]
    }
   ],
   "source": [
    "#Air Temp CRN:\n",
    "with open('CRNH0203-2022-KY_Bowling_Green_21_NNE.txt') as f:\n",
    "    lst=[line.split()[33] for line in f]\n",
    "    #print(lst)\n",
    "    temp_crn=[]\n",
    "    for i in lst:\n",
    "        new=i.replace(',',\"\")\n",
    "        temp_crn.append(new)\n",
    "    temp_crn=[float(x) for x in temp_crn]\n",
    "    temp_crn=temp_crn[1709:1734]\n",
    "    print(temp_crn)\n",
    "    #print(len(temp_crn))\n",
    "    # print(temp_crn[2124])"
   ]
  },
  {
   "cell_type": "code",
   "execution_count": 63,
   "id": "d326cffb",
   "metadata": {},
   "outputs": [
    {
     "name": "stdout",
     "output_type": "stream",
     "text": [
      "[-9.03999, -9.60998, -9.84998, -8.22999, -8.86999, -8.91, -8.579979999999999, -6.729979999999999, -5.3100000000000005, -4.32998, -2.83998, -0.3699899999999996, 1.3199999999999994, 1.8600000000000003, 2.41, 2.790000000000001, 2.76, 2.5, 1.5300100000000008, 1.1400199999999998, 0.5499900000000002, 0.3100100000000001, 0.15999999999999925, -0.02998999999999974, -0.15998]\n"
     ]
    }
   ],
   "source": [
    "difference2_bow = []\n",
    "\n",
    "zip_object = zip(temp, temp_crn)\n",
    "for temp_i, temp_crn_i in zip_object:\n",
    "    difference2_bow.append(temp_i-temp_crn_i)\n",
    "\n",
    "print(difference2_bow)"
   ]
  },
  {
   "cell_type": "markdown",
   "id": "cf477d73",
   "metadata": {},
   "source": [
    "<font size=\"3\">Gadsden, AL: 0600 UTC (12:00 am CST) 01 March 2022-0600 UTC (12:00 am CST) 02 March 2022</font>"
   ]
  },
  {
   "cell_type": "code",
   "execution_count": 64,
   "id": "8d9653aa",
   "metadata": {},
   "outputs": [
    {
     "name": "stdout",
     "output_type": "stream",
     "text": [
      "[0.899994, 0.450012, 0.690002, -0.290009, -1.03, -3.25, -4.06, -2.54001, -1.07001, 1.70999, 4.53, 7.19, 9.72, 11.56, 12.58, 13.06, 12.83, 11.69, 9.83002, 8.5, 6.72, 5.17001, 4.06, 3.23001, 2.44]\n"
     ]
    }
   ],
   "source": [
    "#1 hr hrrr:\n",
    "with open('hrrr_f01_Gadsden_AL.txt') as f:\n",
    "    lst=[line.split()[5] for line in f]\n",
    "    temp=[]\n",
    "    for i in lst:\n",
    "        new=i.replace(',',\"\")\n",
    "        temp.append(new)\n",
    "    temp.pop(0)\n",
    "    temp=[float(x) for x in temp]\n",
    "    temp=temp[1709:1734]\n",
    "#     x = np.array(temp)\n",
    "#     temp = ma.masked_array(x, mask=[0, 0, 0, 0, 0,0,0,0,1,0,0,0,0,0,0,0,0,0,0,0,0,0,0,0,0])\n",
    "    #temp=temp[2015:2063]\n",
    "    print(temp)\n",
    "    #print(len(temp))\n",
    "#full time period is [2015:2112]"
   ]
  },
  {
   "cell_type": "code",
   "execution_count": 65,
   "id": "d942ec7d",
   "metadata": {},
   "outputs": [
    {
     "name": "stdout",
     "output_type": "stream",
     "text": [
      "[6.6, 6.4, 6.1, 5.9, 5.7, 5.5, 5.3, 5.1, 5.2, 5.6, 6.4, 7.6, 8.9, 10.1, 10.9, 11.4, 11.5, 11.3, 10.8, 10.4, 9.8, 9.5, 9.1, 8.7, 8.5]\n"
     ]
    }
   ],
   "source": [
    "#Air Temp CRN:\n",
    "with open('CRNH0203-2022-AL_Gadsden_19_N.txt') as f:\n",
    "    lst=[line.split()[33] for line in f]\n",
    "    #print(lst)\n",
    "    temp_crn=[]\n",
    "    for i in lst:\n",
    "        new=i.replace(',',\"\")\n",
    "        temp_crn.append(new)\n",
    "    temp_crn=[float(x) for x in temp_crn]\n",
    "    temp_crn=temp_crn[1709:1734]\n",
    "#     y = np.array(temp_crn)\n",
    "#     temp_crn = ma.masked_array(y, mask=[0, 0, 0, 0, 0,0,0,0,1,0,0,0,0,0,0,0,0,0,0,0,0,0,0,0,0])\n",
    "    print(temp_crn)\n",
    "    #print(len(temp_crn))\n",
    "    # print(temp_crn[2124])"
   ]
  },
  {
   "cell_type": "code",
   "execution_count": 66,
   "id": "254e1e52",
   "metadata": {},
   "outputs": [
    {
     "name": "stdout",
     "output_type": "stream",
     "text": [
      "[-5.700006, -5.949988, -5.409998, -6.190009000000001, -6.73, -8.75, -9.36, -7.64001, -6.27001, -3.8900099999999997, -1.87, -0.40999999999999925, 0.8200000000000003, 1.4600000000000009, 1.6799999999999997, 1.6600000000000001, 1.33, 0.3899999999999988, -0.9699800000000014, -1.9000000000000004, -3.080000000000001, -4.32999, -5.04, -5.469989999999999, -6.0600000000000005]\n"
     ]
    }
   ],
   "source": [
    "difference2_gad = []\n",
    "\n",
    "zip_object = zip(temp, temp_crn)\n",
    "for temp_i, temp_crn_i in zip_object:\n",
    "    difference2_gad.append(temp_i-temp_crn_i)\n",
    "\n",
    "print(difference2_gad)"
   ]
  },
  {
   "cell_type": "markdown",
   "id": "75862889",
   "metadata": {},
   "source": [
    "<font size=\"3\">Newton, GA: 0600 UTC (12:00 am CST) 01 March 2022-0600 UTC (12:00 am CST) 02 March 2022</font>"
   ]
  },
  {
   "cell_type": "code",
   "execution_count": 67,
   "id": "06608db6",
   "metadata": {},
   "outputs": [
    {
     "name": "stdout",
     "output_type": "stream",
     "text": [
      "[3.85001, 3.14999, 2.45001, 2.20999, 2.04001, 1.92999, 1.80002, 1.80002, 3.31, 5.51001, 8.10001, 10.67, 12.93, 15.02, 16.42, 16.94, 16.68, 15.56, 13.36, 11.01, 8.92999, 7.52002, 6.47, 5.47, 4.79001]\n"
     ]
    }
   ],
   "source": [
    "#1 hr hrrr:\n",
    "with open('hrrr_f01_Newton_GA.txt') as f:\n",
    "    lst=[line.split()[5] for line in f]\n",
    "    temp=[]\n",
    "    for i in lst:\n",
    "        new=i.replace(',',\"\")\n",
    "        temp.append(new)\n",
    "    temp.pop(0)\n",
    "    temp=[float(x) for x in temp]\n",
    "    temp=temp[1709:1734]\n",
    "    #temp=temp[2015:2063]\n",
    "    print(temp)\n",
    "    #print(len(temp))\n",
    "#full time period is [2015:2112]"
   ]
  },
  {
   "cell_type": "code",
   "execution_count": 68,
   "id": "9adb1c44",
   "metadata": {},
   "outputs": [
    {
     "name": "stdout",
     "output_type": "stream",
     "text": [
      "[12.7, 12.3, 11.9, 11.5, 11.2, 10.9, 10.6, 10.5, 10.9, 11.7, 12.9, 14.3, 15.6, 16.6, 17.2, 17.2, 16.8, 16.2, 15.3, 14.5, 13.9, 13.4, 13.0, 12.6, 12.3]\n"
     ]
    }
   ],
   "source": [
    "#Air Temp CRN:\n",
    "with open('CRNH0203-2022-GA_Newton_11_SW.txt') as f:\n",
    "    lst=[line.split()[33] for line in f]\n",
    "    #print(lst)\n",
    "    temp_crn=[]\n",
    "    for i in lst:\n",
    "        new=i.replace(',',\"\")\n",
    "        temp_crn.append(new)\n",
    "    temp_crn=[float(x) for x in temp_crn]\n",
    "    temp_crn=temp_crn[1709:1734]\n",
    "    print(temp_crn)\n",
    "    #print(len(temp_crn))\n",
    "    # print(temp_crn[2124])"
   ]
  },
  {
   "cell_type": "code",
   "execution_count": 69,
   "id": "405581a9",
   "metadata": {},
   "outputs": [
    {
     "name": "stdout",
     "output_type": "stream",
     "text": [
      "[-8.849989999999998, -9.150010000000002, -9.44999, -9.29001, -9.159989999999999, -8.97001, -8.79998, -8.69998, -7.59, -6.189989999999999, -4.799990000000001, -3.630000000000001, -2.67, -1.5800000000000018, -0.7799999999999976, -0.259999999999998, -0.120000000000001, -0.6399999999999988, -1.9400000000000013, -3.49, -4.97001, -5.879980000000001, -6.53, -7.13, -7.509990000000001]\n"
     ]
    }
   ],
   "source": [
    "difference2_newt = []\n",
    "\n",
    "zip_object = zip(temp, temp_crn)\n",
    "for temp_i, temp_crn_i in zip_object:\n",
    "    difference2_newt.append(temp_i-temp_crn_i)\n",
    "\n",
    "print(difference2_newt)"
   ]
  },
  {
   "cell_type": "markdown",
   "id": "70443283",
   "metadata": {},
   "source": [
    "<font size=\"3\">Salem, MO: 0500 UTC (12:00 am CDT) 20 March 2022-0500 UTC (12:00 am CDT) 21 March 2022</font>"
   ]
  },
  {
   "cell_type": "code",
   "execution_count": 70,
   "id": "2d0299c0",
   "metadata": {},
   "outputs": [
    {
     "name": "stdout",
     "output_type": "stream",
     "text": [
      "[5.27002, 4.38, 3.88, 3.35001, 2.81, 2.17001, 1.89999, 1.89001, 3.99002, 7.34, 10.59, 13.47, 16.27, 19.1, 20.62, 21.12, 21.1, 20.43, 18.85, 17.06, 15.57, 14.53, 13.62, 13.02, 12.5]\n",
      "25\n"
     ]
    }
   ],
   "source": [
    "#1 hr hrrr:\n",
    "with open('hrrr_f01_Salem_MO.txt') as f:\n",
    "    lst=[line.split()[5] for line in f]\n",
    "    temp=[]\n",
    "    for i in lst:\n",
    "        new=i.replace(',',\"\")\n",
    "        temp.append(new)\n",
    "    temp.pop(0)\n",
    "    temp=[float(x) for x in temp]\n",
    "    temp=temp[1877:1902]\n",
    "    #temp=temp[2015:2063]\n",
    "    print(temp)\n",
    "    print(len(temp))\n",
    "#full time period is [2015:2112]"
   ]
  },
  {
   "cell_type": "code",
   "execution_count": 71,
   "id": "c8ed8705",
   "metadata": {},
   "outputs": [
    {
     "name": "stdout",
     "output_type": "stream",
     "text": [
      "[7.0, 6.7, 6.4, 6.1, 5.9, 5.7, 5.5, 5.3, 5.3, 5.9, 7.0, 8.1, 9.1, 10.0, 10.9, 11.4, 11.7, 11.4, 11.0, 10.5, 9.9, 9.5, 9.1, 8.8, 8.6]\n",
      "25\n"
     ]
    }
   ],
   "source": [
    "#Air Temp CRN:\n",
    "with open('CRNH0203-2022-MO_Salem_10_W.txt') as f:\n",
    "    lst=[line.split()[33] for line in f]\n",
    "    #print(lst)\n",
    "    temp_crn=[]\n",
    "    for i in lst:\n",
    "        new=i.replace(',',\"\")\n",
    "        temp_crn.append(new)\n",
    "    temp_crn=[float(x) for x in temp_crn]\n",
    "    temp_crn=temp_crn[1877:1902]\n",
    "    print(temp_crn)\n",
    "    print(len(temp_crn))\n",
    "    # print(temp_crn[2124])"
   ]
  },
  {
   "cell_type": "code",
   "execution_count": 72,
   "id": "e8c3c3a5",
   "metadata": {},
   "outputs": [
    {
     "name": "stdout",
     "output_type": "stream",
     "text": [
      "[-1.7299800000000003, -2.3200000000000003, -2.5200000000000005, -2.7499899999999995, -3.0900000000000003, -3.52999, -3.60001, -3.4099899999999996, -1.30998, 1.4399999999999995, 3.59, 5.370000000000001, 7.17, 9.100000000000001, 9.72, 9.72, 9.400000000000002, 9.03, 7.850000000000001, 6.559999999999999, 5.67, 5.029999999999999, 4.52, 4.219999999999999, 3.9000000000000004]\n"
     ]
    }
   ],
   "source": [
    "difference3_sal = []\n",
    "\n",
    "zip_object = zip(temp, temp_crn)\n",
    "for temp_i, temp_crn_i in zip_object:\n",
    "    difference3_sal.append(temp_i-temp_crn_i)\n",
    "\n",
    "print(difference3_sal)"
   ]
  },
  {
   "cell_type": "markdown",
   "id": "176d67cb",
   "metadata": {},
   "source": [
    "<font size=\"3\">Batesville, AR: 0600 UTC (12:00 am CST) 01 March 2022-0600 UTC (12:00 am CST) 02 March 2022</font>"
   ]
  },
  {
   "cell_type": "code",
   "execution_count": 73,
   "id": "51a628f5",
   "metadata": {},
   "outputs": [
    {
     "name": "stdout",
     "output_type": "stream",
     "text": [
      "[9.04001, 8.31, 7.45999, 6.66, 6.01001, 4.77002, 4.03, 4.11002, 6.29001, 9.61002, 12.89, 16.09, 19.06, 21.46, 22.88, 23.45, 23.18, 22.25, 20.6, 18.41, 16.74, 15.6, 14.6, 13.66, 12.79]\n",
      "25\n"
     ]
    }
   ],
   "source": [
    "#1 hr hrrr:\n",
    "with open('hrrr_f01_Batesville_AR.txt') as f:\n",
    "    lst=[line.split()[5] for line in f]\n",
    "    temp=[]\n",
    "    for i in lst:\n",
    "        new=i.replace(',',\"\")\n",
    "        temp.append(new)\n",
    "    temp.pop(0)\n",
    "    temp=[float(x) for x in temp]\n",
    "    temp=temp[1877:1902]\n",
    "#     x = np.array(temp)\n",
    "#     temp = ma.masked_array(x, mask=[0, 0, 0, 0, 0,0,0,0,0,0,0,0,0,0,0,0,0,0,0,0,0,1,0,0,0])\n",
    "    #temp=temp[2015:2063]\n",
    "    print(temp)\n",
    "    print(len(temp))\n",
    "#full time period is [2015:2112]"
   ]
  },
  {
   "cell_type": "code",
   "execution_count": 74,
   "id": "e5b7984c",
   "metadata": {},
   "outputs": [
    {
     "name": "stdout",
     "output_type": "stream",
     "text": [
      "[10.3, 10.0, 9.7, 9.4, 9.2, 8.9, 8.7, 8.5, 8.6, 9.2, 10.2, 11.2, 12.2, 13.2, 14.0, 14.5, 14.7, 14.5, 14.2, 13.6, 13.2, 12.7, 12.3, 12.0, 11.6]\n"
     ]
    }
   ],
   "source": [
    "#Air Temp CRN:\n",
    "with open('CRNH0203-2022-AR_Batesville_8_WNW.txt') as f:\n",
    "    lst=[line.split()[33] for line in f]\n",
    "    #print(lst)\n",
    "    temp_crn=[]\n",
    "    for i in lst:\n",
    "        new=i.replace(',',\"\")\n",
    "        temp_crn.append(new)\n",
    "    temp_crn=[float(x) for x in temp_crn]\n",
    "    temp_crn=temp_crn[1877:1902]\n",
    "#     y = np.array(temp_crn)\n",
    "#     temp_crn = ma.masked_array(y, mask=[0, 0, 0, 0, 0,0,0,0,0,0,0,0,0,0,0,0,0,0,0,0,0,1,0,0,0])\n",
    "    print(temp_crn)\n",
    "    #print(len(temp_crn))\n",
    "    # print(temp_crn[2124])"
   ]
  },
  {
   "cell_type": "code",
   "execution_count": 75,
   "id": "19589d21",
   "metadata": {},
   "outputs": [
    {
     "name": "stdout",
     "output_type": "stream",
     "text": [
      "[-1.2599900000000002, -1.6899999999999995, -2.240009999999999, -2.74, -3.189989999999999, -4.129980000000001, -4.669999999999999, -4.38998, -2.30999, 0.41002000000000116, 2.6900000000000013, 4.890000000000001, 6.859999999999999, 8.260000000000002, 8.879999999999999, 8.95, 8.48, 7.75, 6.400000000000002, 4.8100000000000005, 3.539999999999999, 2.9000000000000004, 2.299999999999999, 1.6600000000000001, 1.1899999999999995]\n"
     ]
    }
   ],
   "source": [
    "difference3_bat = []\n",
    "\n",
    "zip_object = zip(temp, temp_crn)\n",
    "for temp_i, temp_crn_i in zip_object:\n",
    "    difference3_bat.append(temp_i-temp_crn_i)\n",
    "\n",
    "print(difference3_bat)"
   ]
  },
  {
   "cell_type": "markdown",
   "id": "9ac05a40",
   "metadata": {},
   "source": [
    "<font size=\"3\">Lafayette, LA: 0600 UTC (12:00 am CST) 01 March 2022-0600 UTC (12:00 am CST) 02 March 2022</font>"
   ]
  },
  {
   "cell_type": "code",
   "execution_count": 76,
   "id": "f280badb",
   "metadata": {},
   "outputs": [
    {
     "name": "stdout",
     "output_type": "stream",
     "text": [
      "[13.4, 12.52, 11.63, 10.76, 9.97, 9.24002, 8.70001, 8.74002, 10.96, 15.78, 20.0, 23.12, 25.46, 27.18, 28.19, 28.25, 27.44, 25.85, 23.76, 21.72, 19.81, 18.24, 17.21, 16.37, 15.62]\n"
     ]
    }
   ],
   "source": [
    "#1 hr hrrr:\n",
    "with open('hrrr_f01_Lafayette_LA.txt') as f:\n",
    "    lst=[line.split()[5] for line in f]\n",
    "    temp=[]\n",
    "    for i in lst:\n",
    "        new=i.replace(',',\"\")\n",
    "        temp.append(new)\n",
    "    temp.pop(0)\n",
    "    temp=[float(x) for x in temp]\n",
    "    temp=temp[1877:1902]\n",
    "    #temp=temp[2015:2063]\n",
    "    print(temp)\n",
    "    #print(len(temp))\n",
    "#full time period is [2015:2112]"
   ]
  },
  {
   "cell_type": "code",
   "execution_count": 77,
   "id": "17793fb2",
   "metadata": {},
   "outputs": [
    {
     "name": "stdout",
     "output_type": "stream",
     "text": [
      "[16.9, 16.5, 16.2, 15.9, 15.6, 15.3, 15.0, 14.8, 14.8, 14.8, 15.2, 15.8, 16.4, 17.1, 17.7, 18.1, 18.4, 18.5, 18.3, 18.1, 17.8, 17.4, 17.2, 17.0, 16.7]\n"
     ]
    }
   ],
   "source": [
    "#Air Temp CRN:\n",
    "with open('CRNH0203-2022-LA_Lafayette_13_SE.txt') as f:\n",
    "    lst=[line.split()[33] for line in f]\n",
    "    #print(lst)\n",
    "    temp_crn=[]\n",
    "    for i in lst:\n",
    "        new=i.replace(',',\"\")\n",
    "        temp_crn.append(new)\n",
    "    temp_crn=[float(x) for x in temp_crn]\n",
    "    temp_crn=temp_crn[1877:1902]\n",
    "    print(temp_crn)\n",
    "    #print(len(temp_crn))\n",
    "    # print(temp_crn[2124])"
   ]
  },
  {
   "cell_type": "code",
   "execution_count": 78,
   "id": "36c6a6c7",
   "metadata": {},
   "outputs": [
    {
     "name": "stdout",
     "output_type": "stream",
     "text": [
      "[-3.4999999999999982, -3.9800000000000004, -4.5699999999999985, -5.140000000000001, -5.629999999999999, -6.059980000000001, -6.299989999999999, -6.059980000000001, -3.84, 0.9799999999999986, 4.800000000000001, 7.32, 9.060000000000002, 10.079999999999998, 10.490000000000002, 10.149999999999999, 9.040000000000003, 7.350000000000001, 5.460000000000001, 3.6199999999999974, 2.009999999999998, 0.8399999999999999, 0.010000000000001563, -0.629999999999999, -1.08]\n"
     ]
    }
   ],
   "source": [
    "difference3_laf = []\n",
    "\n",
    "zip_object = zip(temp, temp_crn)\n",
    "for temp_i, temp_crn_i in zip_object:\n",
    "    difference3_laf.append(temp_i-temp_crn_i)\n",
    "\n",
    "print(difference3_laf)"
   ]
  },
  {
   "cell_type": "markdown",
   "id": "9f50a0c5",
   "metadata": {},
   "source": [
    "<font size=\"3\">Monroe, LA: 0600 UTC (12:00 am CST) 01 March 2022-0600 UTC (12:00 am CST) 02 March 2022</font>"
   ]
  },
  {
   "cell_type": "code",
   "execution_count": 79,
   "id": "afe54e44",
   "metadata": {},
   "outputs": [
    {
     "name": "stdout",
     "output_type": "stream",
     "text": [
      "[10.36, 9.59, 8.98001, 8.42001, 7.91, 7.01001, 6.67001, 6.64999, 8.82001, 12.17, 15.71, 19.48, 23.37, 25.87, 27.26, 27.71, 27.31, 26.01, 23.9, 21.52, 19.46, 17.45, 15.7, 14.28, 12.99]\n"
     ]
    }
   ],
   "source": [
    "#1 hr hrrr:\n",
    "with open('hrrr_f01_Monroe_LA.txt') as f:\n",
    "    lst=[line.split()[5] for line in f]\n",
    "    temp=[]\n",
    "    for i in lst:\n",
    "        new=i.replace(',',\"\")\n",
    "        temp.append(new)\n",
    "    temp.pop(0)\n",
    "    temp=[float(x) for x in temp]\n",
    "    temp=temp[1877:1902]\n",
    "    #temp=temp[2015:2063]\n",
    "    print(temp)\n",
    "    #print(len(temp))\n",
    "#full time period is [2015:2112]"
   ]
  },
  {
   "cell_type": "code",
   "execution_count": 80,
   "id": "32d70ce1",
   "metadata": {},
   "outputs": [
    {
     "name": "stdout",
     "output_type": "stream",
     "text": [
      "[13.9, 13.5, 13.0, 12.8, 12.4, 12.1, 11.8, 11.6, 11.6, 12.2, 13.2, 14.5, 15.9, 17.2, 18.1, 18.6, 18.8, 18.4, 17.8, 17.2, 16.5, 15.9, 15.3, 14.9, 14.3]\n"
     ]
    }
   ],
   "source": [
    "#Air Temp CRN:\n",
    "with open('CRNH0203-2022-LA_Monroe_26_N.txt') as f:\n",
    "    lst=[line.split()[33] for line in f]\n",
    "    #print(lst)\n",
    "    temp_crn=[]\n",
    "    for i in lst:\n",
    "        new=i.replace(',',\"\")\n",
    "        temp_crn.append(new)\n",
    "    temp_crn=[float(x) for x in temp_crn]\n",
    "    temp_crn=temp_crn[1877:1902]\n",
    "    print(temp_crn)\n",
    "    #print(len(temp_crn))\n",
    "    # print(temp_crn[2124])"
   ]
  },
  {
   "cell_type": "code",
   "execution_count": 81,
   "id": "79ffb554",
   "metadata": {},
   "outputs": [
    {
     "name": "stdout",
     "output_type": "stream",
     "text": [
      "[-3.540000000000001, -3.91, -4.01999, -4.379990000000001, -4.49, -5.089989999999999, -5.12999, -4.95001, -2.7799899999999997, -0.02999999999999936, 2.5100000000000016, 4.98, 7.470000000000001, 8.670000000000002, 9.16, 9.11, 8.509999999999998, 7.610000000000003, 6.099999999999998, 4.32, 2.960000000000001, 1.549999999999999, 0.3999999999999986, -0.620000000000001, -1.3100000000000005]\n"
     ]
    }
   ],
   "source": [
    "difference3_mon = []\n",
    "\n",
    "zip_object = zip(temp, temp_crn)\n",
    "for temp_i, temp_crn_i in zip_object:\n",
    "    difference3_mon.append(temp_i-temp_crn_i)\n",
    "\n",
    "print(difference3_mon)"
   ]
  },
  {
   "cell_type": "markdown",
   "id": "1bf55dcc",
   "metadata": {},
   "source": [
    "<font size=\"3\">Holly Springs, MS: 0600 UTC (12:00 am CST) 01 March 2022-0600 UTC (12:00 am CST) 02 March 2022</font>"
   ]
  },
  {
   "cell_type": "code",
   "execution_count": 82,
   "id": "70182e09",
   "metadata": {},
   "outputs": [
    {
     "name": "stdout",
     "output_type": "stream",
     "text": [
      "[8.64999, 8.14001, 7.54001, 6.77002, 6.20999, 5.67001, 5.35001, 5.42999, 7.80002, 11.14, 14.46, 18.06, 21.39, 23.38, 24.13, 24.2, 23.82, 22.82, 20.92, 18.63, 16.35, 14.95, 13.65, 12.8, 11.76]\n"
     ]
    }
   ],
   "source": [
    "#1 hr hrrr:\n",
    "with open('hrrr_f01_Holly Springs_MS.txt') as f:\n",
    "    lst=[line.split()[5] for line in f]\n",
    "    temp=[]\n",
    "    for i in lst:\n",
    "        new=i.replace(',',\"\")\n",
    "        temp.append(new)\n",
    "    temp.pop(0)\n",
    "    temp=[float(x) for x in temp]\n",
    "    temp=temp[1877:1902]\n",
    "    #temp=temp[2015:2063]\n",
    "    print(temp)\n",
    "    #print(len(temp))\n",
    "#full time period is [2015:2112]"
   ]
  },
  {
   "cell_type": "code",
   "execution_count": 83,
   "id": "f5ab820d",
   "metadata": {},
   "outputs": [
    {
     "name": "stdout",
     "output_type": "stream",
     "text": [
      "[11.8, 11.5, 11.3, 11.0, 10.8, 10.5, 10.3, 10.2, 10.2, 10.7, 11.6, 12.7, 13.8, 14.8, 15.6, 15.9, 16.0, 15.6, 15.0, 14.5, 14.0, 13.5, 13.1, 12.7, 12.4]\n"
     ]
    }
   ],
   "source": [
    "#Air Temp CRN:\n",
    "with open('CRNH0203-2022-MS_Holly_Springs_4_N.txt') as f:\n",
    "    lst=[line.split()[33] for line in f]\n",
    "    #print(lst)\n",
    "    temp_crn=[]\n",
    "    for i in lst:\n",
    "        new=i.replace(',',\"\")\n",
    "        temp_crn.append(new)\n",
    "    temp_crn=[float(x) for x in temp_crn]\n",
    "    temp_crn=temp_crn[1877:1902]\n",
    "    print(temp_crn)\n",
    "    #print(len(temp_crn))\n",
    "    # print(temp_crn[2124])"
   ]
  },
  {
   "cell_type": "code",
   "execution_count": 84,
   "id": "9d0ab2f8",
   "metadata": {},
   "outputs": [
    {
     "name": "stdout",
     "output_type": "stream",
     "text": [
      "[-3.15001, -3.35999, -3.759990000000001, -4.22998, -4.59001, -4.82999, -4.949990000000001, -4.770009999999999, -2.3999799999999993, 0.4400000000000013, 2.860000000000001, 5.359999999999999, 7.59, 8.579999999999998, 8.53, 8.299999999999999, 7.82, 7.220000000000001, 5.920000000000002, 4.129999999999999, 2.3500000000000014, 1.4499999999999993, 0.5500000000000007, 0.10000000000000142, -0.6400000000000006]\n"
     ]
    }
   ],
   "source": [
    "difference3_hol = []\n",
    "\n",
    "zip_object = zip(temp, temp_crn)\n",
    "for temp_i, temp_crn_i in zip_object:\n",
    "    difference3_hol.append(temp_i-temp_crn_i)\n",
    "\n",
    "print(difference3_hol)"
   ]
  },
  {
   "cell_type": "markdown",
   "id": "2d2b0ce7",
   "metadata": {},
   "source": [
    "<font size=\"3\">Newton, MS: 0600 UTC (12:00 am CST) 01 March 2022-0600 UTC (12:00 am CST) 02 March 2022</font>"
   ]
  },
  {
   "cell_type": "code",
   "execution_count": 85,
   "id": "d10078d2",
   "metadata": {},
   "outputs": [
    {
     "name": "stdout",
     "output_type": "stream",
     "text": [
      "[8.99002, 7.95999, 7.12, 6.33002, 5.72, 4.73001, 4.14001, 4.60001, 7.91, 13.06, 17.89, 21.51, 24.22, 25.72, 26.38, 26.64, 26.19, 24.95, 23.1, 20.88, 18.29, 16.61, 14.72, 13.45, 12.39]\n"
     ]
    }
   ],
   "source": [
    "#1 hr hrrr:\n",
    "with open('hrrr_f01_Newton_MS.txt') as f:\n",
    "    lst=[line.split()[5] for line in f]\n",
    "    temp=[]\n",
    "    for i in lst:\n",
    "        new=i.replace(',',\"\")\n",
    "        temp.append(new)\n",
    "    temp.pop(0)\n",
    "    temp=[float(x) for x in temp]\n",
    "    temp=temp[1877:1902]\n",
    "    #temp=temp[2015:2063]\n",
    "    print(temp)\n",
    "    #print(len(temp))\n",
    "#full time period is [2015:2112]"
   ]
  },
  {
   "cell_type": "code",
   "execution_count": 86,
   "id": "92c9162c",
   "metadata": {},
   "outputs": [
    {
     "name": "stdout",
     "output_type": "stream",
     "text": [
      "[12.1, 11.8, 11.5, 11.3, 11.1, 10.8, 10.6, 10.5, 11.5, 13.2, 15.1, 17.0, 18.2, 18.9, 19.4, 19.2, 18.8, 18.1, 17.3, 16.4, 15.7, 15.1, 14.5, 14.0, 13.6]\n"
     ]
    }
   ],
   "source": [
    "#Air Temp CRN:\n",
    "with open('CRNH0203-2022-MS_Newton_5_ENE.txt') as f:\n",
    "    lst=[line.split()[33] for line in f]\n",
    "    #print(lst)\n",
    "    temp_crn=[]\n",
    "    for i in lst:\n",
    "        new=i.replace(',',\"\")\n",
    "        temp_crn.append(new)\n",
    "    temp_crn=[float(x) for x in temp_crn]\n",
    "    temp_crn=temp_crn[1877:1902]\n",
    "    print(temp_crn)\n",
    "    #print(len(temp_crn))\n",
    "    # print(temp_crn[2124])"
   ]
  },
  {
   "cell_type": "code",
   "execution_count": 87,
   "id": "9f44baa8",
   "metadata": {},
   "outputs": [
    {
     "name": "stdout",
     "output_type": "stream",
     "text": [
      "[-3.10998, -3.8400100000000004, -4.38, -4.9699800000000005, -5.38, -6.069990000000001, -6.4599899999999995, -5.89999, -3.59, -0.1399999999999988, 2.790000000000001, 4.510000000000002, 6.02, 6.82, 6.98, 7.440000000000001, 7.390000000000001, 6.849999999999998, 5.800000000000001, 4.48, 2.59, 1.5099999999999998, 0.22000000000000064, -0.5500000000000007, -1.209999999999999]\n"
     ]
    }
   ],
   "source": [
    "difference3_new = []\n",
    "\n",
    "zip_object = zip(temp, temp_crn)\n",
    "for temp_i, temp_crn_i in zip_object:\n",
    "    difference3_new.append(temp_i-temp_crn_i)\n",
    "\n",
    "print(difference3_new)"
   ]
  },
  {
   "cell_type": "markdown",
   "id": "538036ab",
   "metadata": {},
   "source": [
    "<font size=\"3\">Gainesville, AL: 0600 UTC (12:00 am CST) 01 March 2022-0600 UTC (12:00 am CST) 02 March 2022</font>"
   ]
  },
  {
   "cell_type": "code",
   "execution_count": 88,
   "id": "24a63117",
   "metadata": {},
   "outputs": [],
   "source": [
    "# #1 hr hrrr:\n",
    "# with open('hrrr_f01_Gainesville_AL.txt') as f:\n",
    "#     lst=[line.split()[5] for line in f]\n",
    "#     temp=[]\n",
    "#     for i in lst:\n",
    "#         new=i.replace(',',\"\")\n",
    "#         temp.append(new)\n",
    "#     temp.pop(0)\n",
    "#     temp=[float(x) for x in temp]\n",
    "#     temp=temp[1877:1902]\n",
    "#     #temp=temp[2015:2063]\n",
    "#     print(temp)\n",
    "#     #print(len(temp))\n",
    "# #full time period is [2015:2112]"
   ]
  },
  {
   "cell_type": "code",
   "execution_count": 89,
   "id": "232e137f",
   "metadata": {},
   "outputs": [],
   "source": [
    "# #Air Temp CRN:\n",
    "# with open('CRNH0203-2022-AL_Gainesville_2_NE.txt') as f:\n",
    "#     lst=[line.split()[33] for line in f]\n",
    "#     #print(lst)\n",
    "#     temp_crn=[]\n",
    "#     for i in lst:\n",
    "#         new=i.replace(',',\"\")\n",
    "#         temp_crn.append(new)\n",
    "#     temp_crn=[float(x) for x in temp_crn]\n",
    "#     temp_crn=temp_crn[1877:1902]\n",
    "#     print(temp_crn)\n",
    "#     #print(len(temp_crn))\n",
    "#     # print(temp_crn[2124])"
   ]
  },
  {
   "cell_type": "code",
   "execution_count": 90,
   "id": "b6c8652b",
   "metadata": {},
   "outputs": [],
   "source": [
    "# difference3_gai = []\n",
    "\n",
    "# zip_object = zip(temp, temp_crn)\n",
    "# for temp_i, temp_crn_i in zip_object:\n",
    "#     difference3_gai.append(temp_i-temp_crn_i)\n",
    "\n",
    "# print(difference3_gai)"
   ]
  },
  {
   "cell_type": "markdown",
   "id": "bec1bd8b",
   "metadata": {},
   "source": [
    "<font size=\"3\">Fairhope, AL: 0600 UTC (12:00 am CST) 01 March 2022-0600 UTC (12:00 am CST) 02 March 2022</font>"
   ]
  },
  {
   "cell_type": "code",
   "execution_count": 91,
   "id": "1d46687a",
   "metadata": {},
   "outputs": [
    {
     "name": "stdout",
     "output_type": "stream",
     "text": [
      "[13.74, 12.68, 11.66, 10.86, 10.11, 9.48001, 8.95999, 9.38, 11.82, 14.32, 17.12, 20.08, 22.9, 24.59, 25.6, 25.94, 25.49, 24.32, 21.17, 18.96, 17.22, 15.56, 14.41, 12.98, 11.99]\n"
     ]
    }
   ],
   "source": [
    "#1 hr hrrr:\n",
    "with open('hrrr_f01_Fairhope_AL.txt') as f:\n",
    "    lst=[line.split()[5] for line in f]\n",
    "    temp=[]\n",
    "    for i in lst:\n",
    "        new=i.replace(',',\"\")\n",
    "        temp.append(new)\n",
    "    temp.pop(0)\n",
    "    temp=[float(x) for x in temp]\n",
    "    temp=temp[1877:1902]\n",
    "    #temp=temp[2015:2063]\n",
    "    print(temp)\n",
    "    #print(len(temp))\n",
    "#full time period is [2015:2112]"
   ]
  },
  {
   "cell_type": "code",
   "execution_count": 92,
   "id": "eeba1f0c",
   "metadata": {},
   "outputs": [
    {
     "name": "stdout",
     "output_type": "stream",
     "text": [
      "[16.5, 16.0, 15.9, 15.6, 15.4, 15.2, 15.0, 14.8, 14.8, 14.8, 15.1, 15.5, 15.8, 16.4, 16.9, 17.0, 17.2, 17.4, 17.2, 17.0, 16.6, 16.4, 16.1, 15.9, 15.7]\n"
     ]
    }
   ],
   "source": [
    "#Air Temp CRN:\n",
    "with open('CRNH0203-2022-AL_Fairhope_3_NE.txt') as f:\n",
    "    lst=[line.split()[33] for line in f]\n",
    "    #print(lst)\n",
    "    temp_crn=[]\n",
    "    for i in lst:\n",
    "        new=i.replace(',',\"\")\n",
    "        temp_crn.append(new)\n",
    "    temp_crn=[float(x) for x in temp_crn]\n",
    "    temp_crn=temp_crn[1877:1902]\n",
    "    print(temp_crn)\n",
    "    #print(len(temp_crn))\n",
    "    # print(temp_crn[2124])"
   ]
  },
  {
   "cell_type": "code",
   "execution_count": 93,
   "id": "e5202245",
   "metadata": {},
   "outputs": [
    {
     "name": "stdout",
     "output_type": "stream",
     "text": [
      "[-2.76, -3.3200000000000003, -4.24, -4.74, -5.290000000000001, -5.719989999999999, -6.0400100000000005, -5.42, -2.9800000000000004, -0.4800000000000004, 2.0200000000000014, 4.579999999999998, 7.099999999999998, 8.190000000000001, 8.700000000000003, 8.940000000000001, 8.29, 6.920000000000002, 3.9700000000000024, 1.9600000000000009, 0.6199999999999974, -0.8399999999999981, -1.6900000000000013, -2.92, -3.709999999999999]\n"
     ]
    }
   ],
   "source": [
    "difference3_fai = []\n",
    "\n",
    "zip_object = zip(temp, temp_crn)\n",
    "for temp_i, temp_crn_i in zip_object:\n",
    "    difference3_fai.append(temp_i-temp_crn_i)\n",
    "\n",
    "print(difference3_fai)"
   ]
  },
  {
   "cell_type": "markdown",
   "id": "5450f80c",
   "metadata": {},
   "source": [
    "<font size=\"3\">**Selma, AL: 0600 UTC (12:00 am CST) 01 March 2022-0600 UTC (12:00 am CST) 02 March 2022</font>"
   ]
  },
  {
   "cell_type": "code",
   "execution_count": 94,
   "id": "168fefba",
   "metadata": {},
   "outputs": [
    {
     "name": "stdout",
     "output_type": "stream",
     "text": [
      "[8.94, 8.04001, 7.14001, 6.33002, 5.67999, 4.83002, 4.38, 5.06, 7.98001, 11.48, 14.54, 17.06, 19.22, 21.05, 22.16, 22.69, 22.31, 21.2, 19.59, 17.84, 15.84, 13.73, 12.16, 10.98, 10.07]\n",
      "[13.2, 12.7, 12.2, 11.8, 11.5, 11.2, 10.8, 10.7, 11.0, 11.8, 12.9, 14.7, 16.1, 17.1, 17.4, 17.4, 17.3, 17.1, 16.7, 15.9, 15.4, 14.8, 14.6, 13.8, 13.4]\n",
      "[-4.26, -4.659989999999999, -5.059989999999999, -5.4699800000000005, -5.82001, -6.369979999999999, -6.420000000000001, -5.64, -3.01999, -0.3200000000000003, 1.6399999999999988, 2.3599999999999994, 3.1199999999999974, 3.9499999999999993, 4.760000000000002, 5.290000000000003, 5.009999999999998, 4.099999999999998, 2.8900000000000006, 1.9399999999999995, 0.4399999999999995, -1.0700000000000003, -2.4399999999999995, -2.8200000000000003, -3.33]\n",
      "25\n"
     ]
    }
   ],
   "source": [
    "#1 hr hrrr:\n",
    "import numpy as np\n",
    "import numpy.ma as ma\n",
    "with open('hrrr_f01_Selma_AL.txt') as f:\n",
    "    lst=[line.split()[5] for line in f]\n",
    "    temp=[]\n",
    "    for i in lst:\n",
    "        new=i.replace(',',\"\")\n",
    "        temp.append(new)\n",
    "    temp.pop(0)\n",
    "    temp=[float(x) for x in temp]\n",
    "    temp=temp[1877:1902]\n",
    "\n",
    "#     x = np.array(temp)\n",
    "#     temp = ma.masked_array(x, mask=[0, 0, 0, 0, 0,0,0,0,0,0,0,0,0,0,0,0,0,1,1,1,1,0,0,0,0])\n",
    "    #print(temp)\n",
    "#Air Temp CRN:\n",
    "with open('CRNH0203-2022-AL_Selma_13_WNW.txt') as f:\n",
    "    lst=[line.split()[33] for line in f]\n",
    "    #print(lst)\n",
    "    temp_crn=[]\n",
    "    for i in lst:\n",
    "        new=i.replace(',',\"\")\n",
    "        temp_crn.append(new)\n",
    "    temp_crn=[float(x) for x in temp_crn]\n",
    "    temp_crn=temp_crn[1877:1902]\n",
    "#     y = np.array(temp_crn)\n",
    "#     temp_crn = ma.masked_array(y, mask=[0, 0, 0, 0, 0,0,0,0,0,0,0,0,0,0,0,0,0,1,1,1,1,0,0,0,0])\n",
    "    print(temp)\n",
    "    #print(len(temp))\n",
    "    print(temp_crn)\n",
    "    #print(len(temp_crn))\n",
    "#full time period is [2015:2112]\n",
    "difference3_sel = []\n",
    "\n",
    "zip_object = zip(temp, temp_crn)\n",
    "for temp_i, temp_crn_i in zip_object:\n",
    "    difference3_sel.append(temp_i-temp_crn_i)\n",
    "\n",
    "print(difference3_sel)\n",
    "print(len(difference3_sel))"
   ]
  },
  {
   "cell_type": "markdown",
   "id": "d837cb2c",
   "metadata": {},
   "source": [
    "<font size=\"3\">Bowling Green, KY: 0600 UTC (12:00 am CST) 01 March 2022-0600 UTC (12:00 am CST) 02 March 2022</font>"
   ]
  },
  {
   "cell_type": "code",
   "execution_count": 95,
   "id": "4d2fd05e",
   "metadata": {},
   "outputs": [
    {
     "name": "stdout",
     "output_type": "stream",
     "text": [
      "[4.95001, 4.20001, 3.54001, 3.03, 2.42001, 1.91, 1.42999, 2.30002, 5.88, 9.92999, 13.52, 16.39, 18.54, 19.81, 20.51, 20.65, 19.97, 18.7, 16.56, 14.5, 12.46, 10.94, 9.85001, 9.16, 8.5]\n"
     ]
    }
   ],
   "source": [
    "#1 hr hrrr:\n",
    "with open('hrrr_f01_Bowling Green_KY.txt') as f:\n",
    "    lst=[line.split()[5] for line in f]\n",
    "    temp=[]\n",
    "    for i in lst:\n",
    "        new=i.replace(',',\"\")\n",
    "        temp.append(new)\n",
    "    temp.pop(0)\n",
    "    temp=[float(x) for x in temp]\n",
    "    temp=temp[1877:1902]\n",
    "    #temp=temp[2015:2063]\n",
    "    print(temp)\n",
    "    #print(len(temp))\n",
    "#full time period is [2015:2112]"
   ]
  },
  {
   "cell_type": "code",
   "execution_count": 96,
   "id": "4ca69144",
   "metadata": {},
   "outputs": [
    {
     "name": "stdout",
     "output_type": "stream",
     "text": [
      "[8.1, 7.8, 7.5, 7.2, 6.9, 6.7, 6.5, 6.3, 6.6, 7.4, 8.8, 10.3, 11.8, 13.1, 14.0, 14.4, 14.4, 13.8, 13.1, 12.2, 11.5, 10.8, 10.3, 9.9, 9.4]\n"
     ]
    }
   ],
   "source": [
    "#Air Temp CRN:\n",
    "with open('CRNH0203-2022-KY_Bowling_Green_21_NNE.txt') as f:\n",
    "    lst=[line.split()[33] for line in f]\n",
    "    #print(lst)\n",
    "    temp_crn=[]\n",
    "    for i in lst:\n",
    "        new=i.replace(',',\"\")\n",
    "        temp_crn.append(new)\n",
    "    temp_crn=[float(x) for x in temp_crn]\n",
    "    temp_crn=temp_crn[1877:1902]\n",
    "    print(temp_crn)\n",
    "    #print(len(temp_crn))\n",
    "    # print(temp_crn[2124])"
   ]
  },
  {
   "cell_type": "code",
   "execution_count": 97,
   "id": "c1e44909",
   "metadata": {},
   "outputs": [
    {
     "name": "stdout",
     "output_type": "stream",
     "text": [
      "[-3.14999, -3.59999, -3.95999, -4.17, -4.479990000000001, -4.79, -5.07001, -3.99998, -0.7199999999999998, 2.5299899999999997, 4.719999999999999, 6.09, 6.739999999999998, 6.709999999999999, 6.510000000000002, 6.249999999999998, 5.5699999999999985, 4.899999999999999, 3.459999999999999, 2.3000000000000007, 0.9600000000000009, 0.1399999999999988, -0.44999000000000144, -0.7400000000000002, -0.9000000000000004]\n"
     ]
    }
   ],
   "source": [
    "difference3_bow = []\n",
    "\n",
    "zip_object = zip(temp, temp_crn)\n",
    "for temp_i, temp_crn_i in zip_object:\n",
    "    difference3_bow.append(temp_i-temp_crn_i)\n",
    "\n",
    "print(difference3_bow)"
   ]
  },
  {
   "cell_type": "markdown",
   "id": "21c9a287",
   "metadata": {},
   "source": [
    "<font size=\"3\">Gadsden, AL: 0600 UTC (12:00 am CST) 01 March 2022-0600 UTC (12:00 am CST) 02 March 2022</font>"
   ]
  },
  {
   "cell_type": "code",
   "execution_count": 98,
   "id": "77a1ef95",
   "metadata": {},
   "outputs": [
    {
     "name": "stdout",
     "output_type": "stream",
     "text": [
      "[6.08002, 5.36002, 4.39999, 3.53, 2.81, 2.34, 1.89999, 3.10001, 6.36002, 10.28, 13.37, 15.89, 17.78, 19.0, 19.62, 19.68, 19.17, 17.98, 16.25, 14.52, 12.89, 11.26, 9.64001, 8.08002, 6.82001]\n"
     ]
    }
   ],
   "source": [
    "#1 hr hrrr:\n",
    "with open('hrrr_f01_Gadsden_AL.txt') as f:\n",
    "    lst=[line.split()[5] for line in f]\n",
    "    temp=[]\n",
    "    for i in lst:\n",
    "        new=i.replace(',',\"\")\n",
    "        temp.append(new)\n",
    "    temp.pop(0)\n",
    "    temp=[float(x) for x in temp]\n",
    "    temp=temp[1877:1902]\n",
    "#     x = np.array(temp)\n",
    "#     temp = ma.masked_array(x, mask=[0, 0, 0, 0, 0,0,0,0,1,0,0,0,0,0,0,0,0,0,0,0,0,0,0,0,0])\n",
    "    #temp=temp[2015:2063]\n",
    "    print(temp)\n",
    "    #print(len(temp))\n",
    "#full time period is [2015:2112]"
   ]
  },
  {
   "cell_type": "code",
   "execution_count": 99,
   "id": "c8b40ab0",
   "metadata": {},
   "outputs": [
    {
     "name": "stdout",
     "output_type": "stream",
     "text": [
      "[11.2, 10.7, 10.5, 10.2, 9.9, 9.6, 9.4, 9.2, 9.4, 9.9, 10.8, 11.9, 13.0, 13.9, 14.6, 15.1, 15.1, 14.9, 14.4, 13.8, 13.3, 12.7, 12.2, 11.8, 11.4]\n"
     ]
    }
   ],
   "source": [
    "#Air Temp CRN:\n",
    "with open('CRNH0203-2022-AL_Gadsden_19_N.txt') as f:\n",
    "    lst=[line.split()[33] for line in f]\n",
    "    #print(lst)\n",
    "    temp_crn=[]\n",
    "    for i in lst:\n",
    "        new=i.replace(',',\"\")\n",
    "        temp_crn.append(new)\n",
    "    temp_crn=[float(x) for x in temp_crn]\n",
    "    temp_crn=temp_crn[1877:1902]\n",
    "#     y = np.array(temp_crn)\n",
    "#     temp_crn = ma.masked_array(y, mask=[0, 0, 0, 0, 0,0,0,0,1,0,0,0,0,0,0,0,0,0,0,0,0,0,0,0,0])\n",
    "    print(temp_crn)\n",
    "    #print(len(temp_crn))\n",
    "    # print(temp_crn[2124])"
   ]
  },
  {
   "cell_type": "code",
   "execution_count": 100,
   "id": "cf4acb88",
   "metadata": {},
   "outputs": [
    {
     "name": "stdout",
     "output_type": "stream",
     "text": [
      "[-5.119979999999999, -5.33998, -6.10001, -6.67, -7.09, -7.26, -7.5000100000000005, -6.099989999999999, -3.039980000000001, 0.379999999999999, 2.5699999999999985, 3.99, 4.780000000000001, 5.1, 5.020000000000001, 4.58, 4.070000000000002, 3.08, 1.8499999999999996, 0.7199999999999989, -0.41000000000000014, -1.4399999999999995, -2.559989999999999, -3.7199800000000014, -4.5799900000000004]\n"
     ]
    }
   ],
   "source": [
    "difference3_gad = []\n",
    "\n",
    "zip_object = zip(temp, temp_crn)\n",
    "for temp_i, temp_crn_i in zip_object:\n",
    "    difference3_gad.append(temp_i-temp_crn_i)\n",
    "\n",
    "print(difference3_gad)"
   ]
  },
  {
   "cell_type": "markdown",
   "id": "93b56dfb",
   "metadata": {},
   "source": [
    "<font size=\"3\">Newton, GA: 0600 UTC (12:00 am CST) 01 March 2022-0600 UTC (12:00 am CST) 02 March 2022</font>"
   ]
  },
  {
   "cell_type": "code",
   "execution_count": 101,
   "id": "53a55c7c",
   "metadata": {},
   "outputs": [
    {
     "name": "stdout",
     "output_type": "stream",
     "text": [
      "[13.57, 12.89, 12.14, 11.38, 10.68, 10.0, 9.47, 9.78, 11.24, 13.12, 14.97, 16.78, 18.47, 20.32, 22.19, 22.98, 22.88, 21.96, 20.2, 17.99, 15.24, 12.97, 11.39, 10.55, 9.70001]\n"
     ]
    }
   ],
   "source": [
    "#1 hr hrrr:\n",
    "with open('hrrr_f01_Newton_GA.txt') as f:\n",
    "    lst=[line.split()[5] for line in f]\n",
    "    temp=[]\n",
    "    for i in lst:\n",
    "        new=i.replace(',',\"\")\n",
    "        temp.append(new)\n",
    "    temp.pop(0)\n",
    "    temp=[float(x) for x in temp]\n",
    "    temp=temp[1877:1902]\n",
    "    #temp=temp[2015:2063]\n",
    "    print(temp)\n",
    "    #print(len(temp))\n",
    "#full time period is [2015:2112]"
   ]
  },
  {
   "cell_type": "code",
   "execution_count": 102,
   "id": "763b13be",
   "metadata": {},
   "outputs": [
    {
     "name": "stdout",
     "output_type": "stream",
     "text": [
      "[16.4, 16.1, 15.8, 15.6, 15.2, 14.9, 14.6, 14.5, 14.9, 15.8, 17.0, 18.2, 19.3, 20.2, 20.3, 20.3, 19.9, 19.3, 18.5, 17.7, 17.1, 16.6, 16.1, 15.7, 15.3]\n"
     ]
    }
   ],
   "source": [
    "#Air Temp CRN:\n",
    "with open('CRNH0203-2022-GA_Newton_11_SW.txt') as f:\n",
    "    lst=[line.split()[33] for line in f]\n",
    "    #print(lst)\n",
    "    temp_crn=[]\n",
    "    for i in lst:\n",
    "        new=i.replace(',',\"\")\n",
    "        temp_crn.append(new)\n",
    "    temp_crn=[float(x) for x in temp_crn]\n",
    "    temp_crn=temp_crn[1877:1902]\n",
    "    print(temp_crn)\n",
    "    #print(len(temp_crn))\n",
    "    # print(temp_crn[2124])"
   ]
  },
  {
   "cell_type": "code",
   "execution_count": 103,
   "id": "b71c6000",
   "metadata": {},
   "outputs": [
    {
     "name": "stdout",
     "output_type": "stream",
     "text": [
      "[-2.8299999999999983, -3.210000000000001, -3.66, -4.219999999999999, -4.52, -4.9, -5.129999999999999, -4.720000000000001, -3.66, -2.6800000000000015, -2.0299999999999994, -1.4199999999999982, -0.8300000000000018, 0.120000000000001, 1.8900000000000006, 2.6799999999999997, 2.9800000000000004, 2.66, 1.6999999999999993, 0.28999999999999915, -1.8600000000000012, -3.630000000000001, -4.710000000000001, -5.149999999999999, -5.59999]\n"
     ]
    }
   ],
   "source": [
    "difference3_newt = []\n",
    "\n",
    "zip_object = zip(temp, temp_crn)\n",
    "for temp_i, temp_crn_i in zip_object:\n",
    "    difference3_newt.append(temp_i-temp_crn_i)\n",
    "\n",
    "print(difference3_newt)"
   ]
  },
  {
   "cell_type": "markdown",
   "id": "e079df5d",
   "metadata": {},
   "source": [
    "<font size=\"3\">Salem, MO: 0500 UTC (12:00 am CDT) 03 April 2022-0500 UTC (12:00 am CDT) 04 April 2022</font>"
   ]
  },
  {
   "cell_type": "code",
   "execution_count": 104,
   "id": "2bda3233",
   "metadata": {},
   "outputs": [
    {
     "name": "stdout",
     "output_type": "stream",
     "text": [
      "[6.92999, 6.01001, 5.17999, 4.59, 4.04001, 3.20999, 2.78, 3.22, 5.77002, 8.77002, 11.44, 13.81, 16.03, 18.26, 19.58, 20.14, 19.91, 19.04, 17.51, 16.48, 15.38, 14.75, 14.25, 13.7, 13.17]\n",
      "25\n"
     ]
    }
   ],
   "source": [
    "#1 hr hrrr:\n",
    "with open('hrrr_f01_Salem_MO.txt') as f:\n",
    "    lst=[line.split()[5] for line in f]\n",
    "    temp=[]\n",
    "    for i in lst:\n",
    "        new=i.replace(',',\"\")\n",
    "        temp.append(new)\n",
    "    temp.pop(0)\n",
    "    temp=[float(x) for x in temp]\n",
    "    temp=temp[2213:2238]\n",
    "    #temp=temp[2015:2063]\n",
    "    print(temp)\n",
    "    print(len(temp))\n",
    "#full time period is [2015:2112]"
   ]
  },
  {
   "cell_type": "code",
   "execution_count": 105,
   "id": "a53cfdd6",
   "metadata": {},
   "outputs": [
    {
     "name": "stdout",
     "output_type": "stream",
     "text": [
      "[7.1, 6.9, 6.5, 6.2, 6.0, 5.8, 5.5, 5.4, 5.6, 6.5, 7.6, 8.8, 9.8, 10.8, 11.5, 11.8, 12.0, 11.6, 11.2, 10.8, 10.4, 10.1, 9.8, 9.6, 9.5]\n",
      "25\n"
     ]
    }
   ],
   "source": [
    "#Air Temp CRN:\n",
    "with open('CRNH0203-2022-MO_Salem_10_W.txt') as f:\n",
    "    lst=[line.split()[33] for line in f]\n",
    "    #print(lst)\n",
    "    temp_crn=[]\n",
    "    for i in lst:\n",
    "        new=i.replace(',',\"\")\n",
    "        temp_crn.append(new)\n",
    "    temp_crn=[float(x) for x in temp_crn]\n",
    "    temp_crn=temp_crn[2213:2238]\n",
    "    print(temp_crn)\n",
    "    print(len(temp_crn))\n",
    "    # print(temp_crn[2124])"
   ]
  },
  {
   "cell_type": "code",
   "execution_count": 106,
   "id": "2f3aad80",
   "metadata": {},
   "outputs": [
    {
     "name": "stdout",
     "output_type": "stream",
     "text": [
      "[-0.17000999999999955, -0.8899900000000001, -1.32001, -1.6100000000000003, -1.9599900000000003, -2.59001, -2.72, -2.18, 0.17002000000000006, 2.2700200000000006, 3.84, 5.01, 6.23, 7.460000000000001, 8.079999999999998, 8.34, 7.91, 7.4399999999999995, 6.310000000000002, 5.68, 4.98, 4.65, 4.449999999999999, 4.1, 3.67]\n"
     ]
    }
   ],
   "source": [
    "difference4_sal = []\n",
    "\n",
    "zip_object = zip(temp, temp_crn)\n",
    "for temp_i, temp_crn_i in zip_object:\n",
    "    difference4_sal.append(temp_i-temp_crn_i)\n",
    "\n",
    "print(difference4_sal)"
   ]
  },
  {
   "cell_type": "markdown",
   "id": "f30e9b3b",
   "metadata": {},
   "source": [
    "<font size=\"3\">Batesville, AR: 0600 UTC (12:00 am CST) 01 March 2022-0600 UTC (12:00 am CST) 02 March 2022</font>"
   ]
  },
  {
   "cell_type": "code",
   "execution_count": 107,
   "id": "ea25905e",
   "metadata": {},
   "outputs": [
    {
     "name": "stdout",
     "output_type": "stream",
     "text": [
      "[11.05, 10.06, 9.20001, 8.42999, 7.72, 6.66, 6.08002, 6.28, 8.62, 11.17, 13.34, 15.02, 16.73, 18.16, 19.38, 20.11, 20.15, 19.18, 17.53, 15.8, 14.65, 13.73, 13.11, 12.39, 12.04]\n",
      "25\n"
     ]
    }
   ],
   "source": [
    "#1 hr hrrr:\n",
    "with open('hrrr_f01_Batesville_AR.txt') as f:\n",
    "    lst=[line.split()[5] for line in f]\n",
    "    temp=[]\n",
    "    for i in lst:\n",
    "        new=i.replace(',',\"\")\n",
    "        temp.append(new)\n",
    "    temp.pop(0)\n",
    "    temp=[float(x) for x in temp]\n",
    "    temp=temp[2213:2238]\n",
    "#     x = np.array(temp)\n",
    "#     temp = ma.masked_array(x, mask=[0, 0, 0, 0, 0,0,0,0,0,0,0,0,0,0,0,0,0,0,0,0,0,1,0,0,0])\n",
    "    #temp=temp[2015:2063]\n",
    "    print(temp)\n",
    "    print(len(temp))\n",
    "#full time period is [2015:2112]"
   ]
  },
  {
   "cell_type": "code",
   "execution_count": 108,
   "id": "9689d5bd",
   "metadata": {},
   "outputs": [
    {
     "name": "stdout",
     "output_type": "stream",
     "text": [
      "[11.3, 10.8, 10.5, 10.2, 9.9, 9.6, 9.4, 9.2, 9.4, 9.9, 10.6, 11.5, 12.6, 13.5, 14.2, 14.5, 14.5, 14.3, 14.0, 13.5, 13.1, 12.7, 12.5, 12.2, 12.2]\n"
     ]
    }
   ],
   "source": [
    "#Air Temp CRN:\n",
    "with open('CRNH0203-2022-AR_Batesville_8_WNW.txt') as f:\n",
    "    lst=[line.split()[33] for line in f]\n",
    "    #print(lst)\n",
    "    temp_crn=[]\n",
    "    for i in lst:\n",
    "        new=i.replace(',',\"\")\n",
    "        temp_crn.append(new)\n",
    "    temp_crn=[float(x) for x in temp_crn]\n",
    "    temp_crn=temp_crn[2213:2238]\n",
    "#     y = np.array(temp_crn)\n",
    "#     temp_crn = ma.masked_array(y, mask=[0, 0, 0, 0, 0,0,0,0,0,0,0,0,0,0,0,0,0,0,0,0,0,1,0,0,0])\n",
    "    print(temp_crn)\n",
    "    #print(len(temp_crn))\n",
    "    # print(temp_crn[2124])"
   ]
  },
  {
   "cell_type": "code",
   "execution_count": 109,
   "id": "32d53f73",
   "metadata": {},
   "outputs": [
    {
     "name": "stdout",
     "output_type": "stream",
     "text": [
      "[-0.25, -0.7400000000000002, -1.2999899999999993, -1.7700099999999992, -2.1800000000000006, -2.9399999999999995, -3.31998, -2.919999999999999, -0.7800000000000011, 1.2699999999999996, 2.74, 3.5199999999999996, 4.130000000000001, 4.66, 5.18, 5.609999999999999, 5.649999999999999, 4.879999999999999, 3.530000000000001, 2.3000000000000007, 1.5500000000000007, 1.0300000000000011, 0.6099999999999994, 0.19000000000000128, -0.16000000000000014]\n"
     ]
    }
   ],
   "source": [
    "difference4_bat = []\n",
    "\n",
    "zip_object = zip(temp, temp_crn)\n",
    "for temp_i, temp_crn_i in zip_object:\n",
    "    difference4_bat.append(temp_i-temp_crn_i)\n",
    "\n",
    "print(difference4_bat)"
   ]
  },
  {
   "cell_type": "markdown",
   "id": "2869b9dc",
   "metadata": {},
   "source": [
    "<font size=\"3\">Lafayette, LA: 0600 UTC (12:00 am CST) 01 March 2022-0600 UTC (12:00 am CST) 02 March 2022</font>"
   ]
  },
  {
   "cell_type": "code",
   "execution_count": 110,
   "id": "fd2670e5",
   "metadata": {},
   "outputs": [
    {
     "name": "stdout",
     "output_type": "stream",
     "text": [
      "[18.33, 17.11, 16.05, 15.41, 14.67, 13.78, 13.38, 14.02, 17.2, 21.54, 25.07, 27.88, 30.02, 31.33, 32.04, 32.13, 31.68, 30.2, 28.49, 25.9, 24.0, 22.41, 21.34, 20.44, 19.67]\n"
     ]
    }
   ],
   "source": [
    "#1 hr hrrr:\n",
    "with open('hrrr_f01_Lafayette_LA.txt') as f:\n",
    "    lst=[line.split()[5] for line in f]\n",
    "    temp=[]\n",
    "    for i in lst:\n",
    "        new=i.replace(',',\"\")\n",
    "        temp.append(new)\n",
    "    temp.pop(0)\n",
    "    temp=[float(x) for x in temp]\n",
    "    temp=temp[2213:2238]\n",
    "    #temp=temp[2015:2063]\n",
    "    print(temp)\n",
    "    #print(len(temp))\n",
    "#full time period is [2015:2112]"
   ]
  },
  {
   "cell_type": "code",
   "execution_count": 111,
   "id": "f39411d5",
   "metadata": {},
   "outputs": [
    {
     "name": "stdout",
     "output_type": "stream",
     "text": [
      "[18.8, 18.6, 18.3, 18.0, 17.8, 17.5, 17.3, 17.1, 17.1, 17.3, 17.7, 18.2, 18.9, 19.6, 20.2, 20.6, 20.9, 20.9, 20.7, 20.6, 20.3, 20.0, 19.8, 19.6, 19.3]\n"
     ]
    }
   ],
   "source": [
    "#Air Temp CRN:\n",
    "with open('CRNH0203-2022-LA_Lafayette_13_SE.txt') as f:\n",
    "    lst=[line.split()[33] for line in f]\n",
    "    #print(lst)\n",
    "    temp_crn=[]\n",
    "    for i in lst:\n",
    "        new=i.replace(',',\"\")\n",
    "        temp_crn.append(new)\n",
    "    temp_crn=[float(x) for x in temp_crn]\n",
    "    temp_crn=temp_crn[2213:2238]\n",
    "    print(temp_crn)\n",
    "    #print(len(temp_crn))\n",
    "    # print(temp_crn[2124])"
   ]
  },
  {
   "cell_type": "code",
   "execution_count": 112,
   "id": "c02f8d98",
   "metadata": {},
   "outputs": [
    {
     "name": "stdout",
     "output_type": "stream",
     "text": [
      "[-0.4700000000000024, -1.490000000000002, -2.25, -2.59, -3.130000000000001, -3.7200000000000006, -3.92, -3.080000000000002, 0.09999999999999787, 4.239999999999998, 7.370000000000001, 9.68, 11.120000000000001, 11.729999999999997, 11.84, 11.530000000000001, 10.780000000000001, 9.3, 7.789999999999999, 5.299999999999997, 3.6999999999999993, 2.41, 1.5399999999999991, 0.8399999999999999, 0.370000000000001]\n"
     ]
    }
   ],
   "source": [
    "difference4_laf = []\n",
    "\n",
    "zip_object = zip(temp, temp_crn)\n",
    "for temp_i, temp_crn_i in zip_object:\n",
    "    difference4_laf.append(temp_i-temp_crn_i)\n",
    "\n",
    "print(difference4_laf)"
   ]
  },
  {
   "cell_type": "markdown",
   "id": "ab48fc12",
   "metadata": {},
   "source": [
    "<font size=\"3\">Monroe, LA: 0600 UTC (12:00 am CST) 01 March 2022-0600 UTC (12:00 am CST) 02 March 2022</font>"
   ]
  },
  {
   "cell_type": "code",
   "execution_count": 113,
   "id": "b61707d0",
   "metadata": {},
   "outputs": [
    {
     "name": "stdout",
     "output_type": "stream",
     "text": [
      "[13.43, 12.41, 11.67, 11.11, 10.52, 9.79001, 9.20999, 9.53, 11.85, 15.05, 17.95, 20.51, 23.4, 26.19, 27.81, 28.35, 28.2, 27.21, 25.28, 23.0, 21.42, 19.89, 18.62, 17.77, 17.2]\n"
     ]
    }
   ],
   "source": [
    "#1 hr hrrr:\n",
    "with open('hrrr_f01_Monroe_LA.txt') as f:\n",
    "    lst=[line.split()[5] for line in f]\n",
    "    temp=[]\n",
    "    for i in lst:\n",
    "        new=i.replace(',',\"\")\n",
    "        temp.append(new)\n",
    "    temp.pop(0)\n",
    "    temp=[float(x) for x in temp]\n",
    "    temp=temp[2213:2238]\n",
    "    #temp=temp[2015:2063]\n",
    "    print(temp)\n",
    "    #print(len(temp))\n",
    "#full time period is [2015:2112]"
   ]
  },
  {
   "cell_type": "code",
   "execution_count": 114,
   "id": "266c22d9",
   "metadata": {},
   "outputs": [
    {
     "name": "stdout",
     "output_type": "stream",
     "text": [
      "[16.3, 15.9, 15.5, 15.1, 14.7, 14.5, 14.2, 13.9, 14.1, 14.8, 16.1, 17.5, 18.9, 20.2, 21.1, 21.5, 21.6, 21.1, 20.5, 19.7, 19.0, 18.4, 17.9, 17.4, 17.0]\n"
     ]
    }
   ],
   "source": [
    "#Air Temp CRN:\n",
    "with open('CRNH0203-2022-LA_Monroe_26_N.txt') as f:\n",
    "    lst=[line.split()[33] for line in f]\n",
    "    #print(lst)\n",
    "    temp_crn=[]\n",
    "    for i in lst:\n",
    "        new=i.replace(',',\"\")\n",
    "        temp_crn.append(new)\n",
    "    temp_crn=[float(x) for x in temp_crn]\n",
    "    temp_crn=temp_crn[2213:2238]\n",
    "    print(temp_crn)\n",
    "    #print(len(temp_crn))\n",
    "    # print(temp_crn[2124])"
   ]
  },
  {
   "cell_type": "code",
   "execution_count": 115,
   "id": "e8911bcb",
   "metadata": {},
   "outputs": [
    {
     "name": "stdout",
     "output_type": "stream",
     "text": [
      "[-2.870000000000001, -3.49, -3.83, -3.99, -4.18, -4.7099899999999995, -4.99001, -4.370000000000001, -2.25, 0.25, 1.8499999999999979, 3.0100000000000016, 4.5, 5.990000000000002, 6.709999999999997, 6.850000000000001, 6.599999999999998, 6.109999999999999, 4.780000000000001, 3.3000000000000007, 2.4200000000000017, 1.490000000000002, 0.7200000000000024, 0.370000000000001, 0.1999999999999993]\n"
     ]
    }
   ],
   "source": [
    "difference4_mon = []\n",
    "\n",
    "zip_object = zip(temp, temp_crn)\n",
    "for temp_i, temp_crn_i in zip_object:\n",
    "    difference4_mon.append(temp_i-temp_crn_i)\n",
    "\n",
    "print(difference4_mon)"
   ]
  },
  {
   "cell_type": "markdown",
   "id": "dbfdd9c6",
   "metadata": {},
   "source": [
    "<font size=\"3\">Holly Springs, MS: 0600 UTC (12:00 am CST) 01 March 2022-0600 UTC (12:00 am CST) 02 March 2022</font>"
   ]
  },
  {
   "cell_type": "code",
   "execution_count": 116,
   "id": "055b4b13",
   "metadata": {},
   "outputs": [
    {
     "name": "stdout",
     "output_type": "stream",
     "text": [
      "[11.24, 10.69, 9.81, 9.62, 9.17999, 8.75, 8.14001, 8.76001, 10.78, 12.19, 14.17, 16.01, 17.88, 19.94, 21.2, 21.76, 21.52, 20.63, 19.45, 17.31, 15.29, 13.87, 12.53, 11.5, 10.67]\n"
     ]
    }
   ],
   "source": [
    "#1 hr hrrr:\n",
    "with open('hrrr_f01_Holly Springs_MS.txt') as f:\n",
    "    lst=[line.split()[5] for line in f]\n",
    "    temp=[]\n",
    "    for i in lst:\n",
    "        new=i.replace(',',\"\")\n",
    "        temp.append(new)\n",
    "    temp.pop(0)\n",
    "    temp=[float(x) for x in temp]\n",
    "    temp=temp[2213:2238]\n",
    "    #temp=temp[2015:2063]\n",
    "    print(temp)\n",
    "    #print(len(temp))\n",
    "#full time period is [2015:2112]"
   ]
  },
  {
   "cell_type": "code",
   "execution_count": 117,
   "id": "b948e709",
   "metadata": {},
   "outputs": [
    {
     "name": "stdout",
     "output_type": "stream",
     "text": [
      "[12.6, 12.5, 12.2, 11.9, 11.7, 11.4, 11.1, 11.0, 11.2, 11.9, 13.0, 14.0, 15.2, 16.2, 16.7, 17.0, 16.8, 16.3, 15.7, 15.1, 14.6, 14.0, 13.6, 13.2, 13.0]\n"
     ]
    }
   ],
   "source": [
    "#Air Temp CRN:\n",
    "with open('CRNH0203-2022-MS_Holly_Springs_4_N.txt') as f:\n",
    "    lst=[line.split()[33] for line in f]\n",
    "    #print(lst)\n",
    "    temp_crn=[]\n",
    "    for i in lst:\n",
    "        new=i.replace(',',\"\")\n",
    "        temp_crn.append(new)\n",
    "    temp_crn=[float(x) for x in temp_crn]\n",
    "    temp_crn=temp_crn[2213:2238]\n",
    "    print(temp_crn)\n",
    "    #print(len(temp_crn))\n",
    "    # print(temp_crn[2124])"
   ]
  },
  {
   "cell_type": "code",
   "execution_count": 118,
   "id": "6836c3bb",
   "metadata": {},
   "outputs": [
    {
     "name": "stdout",
     "output_type": "stream",
     "text": [
      "[-1.3599999999999994, -1.8100000000000005, -2.389999999999999, -2.280000000000001, -2.520009999999999, -2.6500000000000004, -2.9599899999999995, -2.2399900000000006, -0.41999999999999993, 0.28999999999999915, 1.17, 2.0100000000000016, 2.6799999999999997, 3.740000000000002, 4.5, 4.760000000000002, 4.719999999999999, 4.329999999999998, 3.75, 2.209999999999999, 0.6899999999999995, -0.13000000000000078, -1.0700000000000003, -1.6999999999999993, -2.33]\n"
     ]
    }
   ],
   "source": [
    "difference4_hol = []\n",
    "\n",
    "zip_object = zip(temp, temp_crn)\n",
    "for temp_i, temp_crn_i in zip_object:\n",
    "    difference4_hol.append(temp_i-temp_crn_i)\n",
    "\n",
    "print(difference4_hol)"
   ]
  },
  {
   "cell_type": "markdown",
   "id": "9c7354c6",
   "metadata": {},
   "source": [
    "<font size=\"3\">Newton, MS: 0600 UTC (12:00 am CST) 01 March 2022-0600 UTC (12:00 am CST) 02 March 2022</font>"
   ]
  },
  {
   "cell_type": "code",
   "execution_count": 119,
   "id": "93316a90",
   "metadata": {},
   "outputs": [
    {
     "name": "stdout",
     "output_type": "stream",
     "text": [
      "[13.53, 12.39, 11.61, 11.09, 10.36, 9.63, 9.22, 10.26, 14.15, 18.39, 21.9, 24.43, 26.26, 27.56, 28.27, 28.21, 27.67, 26.46, 24.38, 21.9, 19.69, 17.9, 16.37, 14.94, 13.8]\n"
     ]
    }
   ],
   "source": [
    "#1 hr hrrr:\n",
    "with open('hrrr_f01_Newton_MS.txt') as f:\n",
    "    lst=[line.split()[5] for line in f]\n",
    "    temp=[]\n",
    "    for i in lst:\n",
    "        new=i.replace(',',\"\")\n",
    "        temp.append(new)\n",
    "    temp.pop(0)\n",
    "    temp=[float(x) for x in temp]\n",
    "    temp=temp[2213:2238]\n",
    "    #temp=temp[2015:2063]\n",
    "    print(temp)\n",
    "    #print(len(temp))\n",
    "#full time period is [2015:2112]"
   ]
  },
  {
   "cell_type": "code",
   "execution_count": 120,
   "id": "3c16e336",
   "metadata": {},
   "outputs": [
    {
     "name": "stdout",
     "output_type": "stream",
     "text": [
      "[15.5, 15.1, 14.8, 14.5, 14.2, 14.0, 13.7, 13.9, 14.9, 16.5, 18.0, 19.7, 20.7, 21.4, 21.9, 21.8, 21.4, 20.7, 20.0, 18.9, 18.2, 17.5, 17.0, 16.5, 16.1]\n"
     ]
    }
   ],
   "source": [
    "#Air Temp CRN:\n",
    "with open('CRNH0203-2022-MS_Newton_5_ENE.txt') as f:\n",
    "    lst=[line.split()[33] for line in f]\n",
    "    #print(lst)\n",
    "    temp_crn=[]\n",
    "    for i in lst:\n",
    "        new=i.replace(',',\"\")\n",
    "        temp_crn.append(new)\n",
    "    temp_crn=[float(x) for x in temp_crn]\n",
    "    temp_crn=temp_crn[2213:2238]\n",
    "    print(temp_crn)\n",
    "    #print(len(temp_crn))\n",
    "    # print(temp_crn[2124])"
   ]
  },
  {
   "cell_type": "code",
   "execution_count": 121,
   "id": "895bb872",
   "metadata": {},
   "outputs": [
    {
     "name": "stdout",
     "output_type": "stream",
     "text": [
      "[-1.9700000000000006, -2.709999999999999, -3.1900000000000013, -3.41, -3.84, -4.369999999999999, -4.479999999999999, -3.6400000000000006, -0.75, 1.8900000000000006, 3.8999999999999986, 4.73, 5.560000000000002, 6.16, 6.370000000000001, 6.41, 6.270000000000003, 5.760000000000002, 4.379999999999999, 3.0, 1.490000000000002, 0.3999999999999986, -0.629999999999999, -1.5600000000000005, -2.3000000000000007]\n"
     ]
    }
   ],
   "source": [
    "difference4_new = []\n",
    "\n",
    "zip_object = zip(temp, temp_crn)\n",
    "for temp_i, temp_crn_i in zip_object:\n",
    "    difference4_new.append(temp_i-temp_crn_i)\n",
    "\n",
    "print(difference4_new)"
   ]
  },
  {
   "cell_type": "markdown",
   "id": "9e553db4",
   "metadata": {},
   "source": [
    "<font size=\"3\">Gainesville, AL: 0600 UTC (12:00 am CST) 01 March 2022-0600 UTC (12:00 am CST) 02 March 2022</font>"
   ]
  },
  {
   "cell_type": "code",
   "execution_count": 122,
   "id": "34bf4646",
   "metadata": {},
   "outputs": [],
   "source": [
    "# #1 hr hrrr:\n",
    "# with open('hrrr_f01_Gainesville_AL.txt') as f:\n",
    "#     lst=[line.split()[5] for line in f]\n",
    "#     temp=[]\n",
    "#     for i in lst:\n",
    "#         new=i.replace(',',\"\")\n",
    "#         temp.append(new)\n",
    "#     temp.pop(0)\n",
    "#     temp=[float(x) for x in temp]\n",
    "#     temp=temp[2213:2238]\n",
    "#     #temp=temp[2015:2063]\n",
    "#     print(temp)\n",
    "#     #print(len(temp))\n",
    "# #full time period is [2015:2112]"
   ]
  },
  {
   "cell_type": "code",
   "execution_count": 123,
   "id": "67168607",
   "metadata": {},
   "outputs": [],
   "source": [
    "# #Air Temp CRN:\n",
    "# with open('CRNH0203-2022-AL_Gainesville_2_NE.txt') as f:\n",
    "#     lst=[line.split()[33] for line in f]\n",
    "#     #print(lst)\n",
    "#     temp_crn=[]\n",
    "#     for i in lst:\n",
    "#         new=i.replace(',',\"\")\n",
    "#         temp_crn.append(new)\n",
    "#     temp_crn=[float(x) for x in temp_crn]\n",
    "#     temp_crn=temp_crn[2213:2238]\n",
    "#     print(temp_crn)\n",
    "#     #print(len(temp_crn))\n",
    "#     # print(temp_crn[2124])"
   ]
  },
  {
   "cell_type": "code",
   "execution_count": 124,
   "id": "4baf3368",
   "metadata": {},
   "outputs": [],
   "source": [
    "# difference4_gai = []\n",
    "\n",
    "# zip_object = zip(temp, temp_crn)\n",
    "# for temp_i, temp_crn_i in zip_object:\n",
    "#     difference4_gai.append(temp_i-temp_crn_i)\n",
    "\n",
    "# print(difference4_gai)"
   ]
  },
  {
   "cell_type": "markdown",
   "id": "7dcabe11",
   "metadata": {},
   "source": [
    "<font size=\"3\">Fairhope, AL: 0600 UTC (12:00 am CST) 01 March 2022-0600 UTC (12:00 am CST) 02 March 2022</font>"
   ]
  },
  {
   "cell_type": "code",
   "execution_count": 125,
   "id": "66bf707b",
   "metadata": {},
   "outputs": [
    {
     "name": "stdout",
     "output_type": "stream",
     "text": [
      "[12.85, 12.23, 11.51, 11.03, 10.58, 10.29, 9.95001, 11.4, 15.23, 19.3, 22.55, 24.93, 26.99, 28.19, 28.84, 28.77, 28.14, 27.03, 25.09, 22.73, 20.54, 18.98, 18.04, 16.66, 15.75]\n"
     ]
    }
   ],
   "source": [
    "#1 hr hrrr:\n",
    "with open('hrrr_f01_Fairhope_AL.txt') as f:\n",
    "    lst=[line.split()[5] for line in f]\n",
    "    temp=[]\n",
    "    for i in lst:\n",
    "        new=i.replace(',',\"\")\n",
    "        temp.append(new)\n",
    "    temp.pop(0)\n",
    "    temp=[float(x) for x in temp]\n",
    "    temp=temp[2213:2238]\n",
    "    #temp=temp[2015:2063]\n",
    "    print(temp)\n",
    "    #print(len(temp))\n",
    "#full time period is [2015:2112]"
   ]
  },
  {
   "cell_type": "code",
   "execution_count": 126,
   "id": "53430b27",
   "metadata": {},
   "outputs": [
    {
     "name": "stdout",
     "output_type": "stream",
     "text": [
      "[17.0, 16.7, 16.6, 16.4, 16.2, 16.1, 16.0, 15.9, 15.9, 16.2, 16.5, 16.8, 17.4, 18.0, 18.3, 18.7, 18.8, 18.9, 18.7, 18.5, 18.2, 18.0, 17.9, 17.6, 17.4]\n"
     ]
    }
   ],
   "source": [
    "#Air Temp CRN:\n",
    "with open('CRNH0203-2022-AL_Fairhope_3_NE.txt') as f:\n",
    "    lst=[line.split()[33] for line in f]\n",
    "    #print(lst)\n",
    "    temp_crn=[]\n",
    "    for i in lst:\n",
    "        new=i.replace(',',\"\")\n",
    "        temp_crn.append(new)\n",
    "    temp_crn=[float(x) for x in temp_crn]\n",
    "    temp_crn=temp_crn[2213:2238]\n",
    "    print(temp_crn)\n",
    "    #print(len(temp_crn))\n",
    "    # print(temp_crn[2124])"
   ]
  },
  {
   "cell_type": "code",
   "execution_count": 127,
   "id": "320724ae",
   "metadata": {},
   "outputs": [
    {
     "name": "stdout",
     "output_type": "stream",
     "text": [
      "[-4.15, -4.469999999999999, -5.090000000000002, -5.369999999999999, -5.619999999999999, -5.810000000000002, -6.049989999999999, -4.5, -0.6699999999999999, 3.1000000000000014, 6.050000000000001, 8.129999999999999, 9.59, 10.190000000000001, 10.54, 10.07, 9.34, 8.130000000000003, 6.390000000000001, 4.23, 2.34, 0.9800000000000004, 0.14000000000000057, -0.9400000000000013, -1.6499999999999986]\n"
     ]
    }
   ],
   "source": [
    "difference4_fai = []\n",
    "\n",
    "zip_object = zip(temp, temp_crn)\n",
    "for temp_i, temp_crn_i in zip_object:\n",
    "    difference4_fai.append(temp_i-temp_crn_i)\n",
    "\n",
    "print(difference4_fai)"
   ]
  },
  {
   "cell_type": "markdown",
   "id": "057898bf",
   "metadata": {},
   "source": [
    "<font size=\"3\">**Selma, AL: 0600 UTC (12:00 am CST) 01 March 2022-0600 UTC (12:00 am CST) 02 March 2022</font>"
   ]
  },
  {
   "cell_type": "code",
   "execution_count": 128,
   "id": "dd6c27fb",
   "metadata": {},
   "outputs": [
    {
     "name": "stdout",
     "output_type": "stream",
     "text": [
      "[9.70999, 8.98001, 8.29001, 7.95001, 7.70999, 7.29001, 6.95001, 8.27002, 11.71, 14.99, 17.77, 19.75, 21.56, 23.29, 24.23, 24.41, 24.16, 23.52, 21.99, 19.25, 16.78, 14.43, 12.64, 11.34, 10.28]\n",
      "[15.1, 14.7, 14.4, 14.1, 13.7, 13.4, 13.2, 13.2, 13.6, 14.3, 15.5, 17.1, 18.6, 19.8, 20.3, 20.5, 20.4, 19.9, 19.2, 18.3, 17.5, 16.9, 16.3, 15.8, 15.3]\n",
      "[-5.39001, -5.719989999999999, -6.10999, -6.14999, -5.990009999999999, -6.109990000000001, -6.2499899999999995, -4.929979999999999, -1.8899999999999988, 0.6899999999999995, 2.2699999999999996, 2.6499999999999986, 2.9599999999999973, 3.4899999999999984, 3.9299999999999997, 3.91, 3.7600000000000016, 3.620000000000001, 2.789999999999999, 0.9499999999999993, -0.7199999999999989, -2.469999999999999, -3.66, -4.460000000000001, -5.020000000000001]\n"
     ]
    }
   ],
   "source": [
    "#1 hr hrrr:\n",
    "import numpy as np\n",
    "import numpy.ma as ma\n",
    "with open('hrrr_f01_Selma_AL.txt') as f:\n",
    "    lst=[line.split()[5] for line in f]\n",
    "    temp=[]\n",
    "    for i in lst:\n",
    "        new=i.replace(',',\"\")\n",
    "        temp.append(new)\n",
    "    temp.pop(0)\n",
    "    temp=[float(x) for x in temp]\n",
    "    temp=temp[2213:2238]\n",
    "\n",
    "#     x = np.array(temp)\n",
    "#     temp = ma.masked_array(x, mask=[0, 0, 0, 0, 0,0,0,0,0,0,0,0,0,0,0,0,0,1,1,1,1,0,0,0,0])\n",
    "    #print(temp)\n",
    "#Air Temp CRN:\n",
    "with open('CRNH0203-2022-AL_Selma_13_WNW.txt') as f:\n",
    "    lst=[line.split()[33] for line in f]\n",
    "    #print(lst)\n",
    "    temp_crn=[]\n",
    "    for i in lst:\n",
    "        new=i.replace(',',\"\")\n",
    "        temp_crn.append(new)\n",
    "    temp_crn=[float(x) for x in temp_crn]\n",
    "    temp_crn=temp_crn[2213:2238]\n",
    "#     y = np.array(temp_crn)\n",
    "#     temp_crn = ma.masked_array(y, mask=[0, 0, 0, 0, 0,0,0,0,0,0,0,0,0,0,0,0,0,1,1,1,1,0,0,0,0])\n",
    "    print(temp)\n",
    "    #print(len(temp))\n",
    "    print(temp_crn)\n",
    "    #print(len(temp_crn))\n",
    "#full time period is [2015:2112]\n",
    "difference4_sel = []\n",
    "\n",
    "zip_object = zip(temp, temp_crn)\n",
    "for temp_i, temp_crn_i in zip_object:\n",
    "    difference4_sel.append(temp_i-temp_crn_i)\n",
    "\n",
    "print(difference4_sel)\n",
    "#print(len(difference3_sel))"
   ]
  },
  {
   "cell_type": "markdown",
   "id": "cb37cdb6",
   "metadata": {},
   "source": [
    "<font size=\"3\">Bowling Green, KY: 0600 UTC (12:00 am CST) 01 March 2022-0600 UTC (12:00 am CST) 02 March 2022</font>"
   ]
  },
  {
   "cell_type": "code",
   "execution_count": 129,
   "id": "14e1ecd0",
   "metadata": {},
   "outputs": [
    {
     "name": "stdout",
     "output_type": "stream",
     "text": [
      "[9.03, 8.05002, 6.97, 6.0, 5.11002, 4.31, 3.58002, 4.64001, 7.42999, 10.34, 12.98, 15.42, 17.42, 18.65, 19.25, 19.31, 18.69, 17.35, 15.48, 13.45, 11.65, 10.37, 9.17001, 8.59, 8.20001]\n"
     ]
    }
   ],
   "source": [
    "#1 hr hrrr:\n",
    "with open('hrrr_f01_Bowling Green_KY.txt') as f:\n",
    "    lst=[line.split()[5] for line in f]\n",
    "    temp=[]\n",
    "    for i in lst:\n",
    "        new=i.replace(',',\"\")\n",
    "        temp.append(new)\n",
    "    temp.pop(0)\n",
    "    temp=[float(x) for x in temp]\n",
    "    temp=temp[2213:2238]\n",
    "    #temp=temp[2015:2063]\n",
    "    print(temp)\n",
    "    #print(len(temp))\n",
    "#full time period is [2015:2112]"
   ]
  },
  {
   "cell_type": "code",
   "execution_count": 130,
   "id": "8121578e",
   "metadata": {},
   "outputs": [
    {
     "name": "stdout",
     "output_type": "stream",
     "text": [
      "[8.4, 8.0, 7.6, 7.3, 6.9, 6.5, 6.2, 6.2, 6.7, 7.7, 9.1, 10.7, 12.2, 13.5, 14.3, 14.6, 14.5, 13.9, 13.1, 12.1, 11.3, 10.6, 10.1, 9.7, 9.4]\n"
     ]
    }
   ],
   "source": [
    "#Air Temp CRN:\n",
    "with open('CRNH0203-2022-KY_Bowling_Green_21_NNE.txt') as f:\n",
    "    lst=[line.split()[33] for line in f]\n",
    "    #print(lst)\n",
    "    temp_crn=[]\n",
    "    for i in lst:\n",
    "        new=i.replace(',',\"\")\n",
    "        temp_crn.append(new)\n",
    "    temp_crn=[float(x) for x in temp_crn]\n",
    "    temp_crn=temp_crn[2213:2238]\n",
    "    print(temp_crn)\n",
    "    #print(len(temp_crn))\n",
    "    # print(temp_crn[2124])"
   ]
  },
  {
   "cell_type": "code",
   "execution_count": 131,
   "id": "cbe21805",
   "metadata": {},
   "outputs": [
    {
     "name": "stdout",
     "output_type": "stream",
     "text": [
      "[0.629999999999999, 0.05001999999999995, -0.6299999999999999, -1.2999999999999998, -1.7899800000000008, -2.1900000000000004, -2.61998, -1.55999, 0.7299899999999999, 2.6399999999999997, 3.880000000000001, 4.720000000000001, 5.220000000000002, 5.149999999999999, 4.949999999999999, 4.709999999999999, 4.190000000000001, 3.450000000000001, 2.380000000000001, 1.3499999999999996, 0.34999999999999964, -0.23000000000000043, -0.9299900000000001, -1.1099999999999994, -1.1999899999999997]\n"
     ]
    }
   ],
   "source": [
    "difference4_bow = []\n",
    "\n",
    "zip_object = zip(temp, temp_crn)\n",
    "for temp_i, temp_crn_i in zip_object:\n",
    "    difference4_bow.append(temp_i-temp_crn_i)\n",
    "\n",
    "print(difference4_bow)"
   ]
  },
  {
   "cell_type": "markdown",
   "id": "b962f206",
   "metadata": {},
   "source": [
    "<font size=\"3\">Gadsden, AL: 0600 UTC (12:00 am CST) 01 March 2022-0600 UTC (12:00 am CST) 02 March 2022</font>"
   ]
  },
  {
   "cell_type": "code",
   "execution_count": 132,
   "id": "e76025fd",
   "metadata": {},
   "outputs": [
    {
     "name": "stdout",
     "output_type": "stream",
     "text": [
      "[8.63, 8.13, 7.80002, 7.53, 7.27002, 7.16, 7.14999, 8.81, 11.33, 13.49, 15.86, 17.86, 19.28, 20.17, 20.66, 20.43, 19.62, 18.31, 16.48, 14.93, 13.47, 11.82, 10.75, 9.45999, 8.32001]\n"
     ]
    }
   ],
   "source": [
    "#1 hr hrrr:\n",
    "with open('hrrr_f01_Gadsden_AL.txt') as f:\n",
    "    lst=[line.split()[5] for line in f]\n",
    "    temp=[]\n",
    "    for i in lst:\n",
    "        new=i.replace(',',\"\")\n",
    "        temp.append(new)\n",
    "    temp.pop(0)\n",
    "    temp=[float(x) for x in temp]\n",
    "    temp=temp[2213:2238]\n",
    "#     x = np.array(temp)\n",
    "#     temp = ma.masked_array(x, mask=[0, 0, 0, 0, 0,0,0,0,1,0,0,0,0,0,0,0,0,0,0,0,0,0,0,0,0])\n",
    "    #temp=temp[2015:2063]\n",
    "    print(temp)\n",
    "    #print(len(temp))\n",
    "#full time period is [2015:2112]"
   ]
  },
  {
   "cell_type": "code",
   "execution_count": 133,
   "id": "4c633594",
   "metadata": {},
   "outputs": [
    {
     "name": "stdout",
     "output_type": "stream",
     "text": [
      "[12.6, 12.4, 12.2, 11.8, 11.6, 11.5, 11.4, 11.4, 11.5, 11.9, 12.9, 13.9, 15.0, 15.9, 16.6, 16.9, 16.8, 16.5, 15.9, 15.3, 14.7, 14.2, 13.7, 13.3, 12.9]\n"
     ]
    }
   ],
   "source": [
    "#Air Temp CRN:\n",
    "with open('CRNH0203-2022-AL_Gadsden_19_N.txt') as f:\n",
    "    lst=[line.split()[33] for line in f]\n",
    "    #print(lst)\n",
    "    temp_crn=[]\n",
    "    for i in lst:\n",
    "        new=i.replace(',',\"\")\n",
    "        temp_crn.append(new)\n",
    "    temp_crn=[float(x) for x in temp_crn]\n",
    "    temp_crn=temp_crn[2213:2238]\n",
    "#     y = np.array(temp_crn)\n",
    "#     temp_crn = ma.masked_array(y, mask=[0, 0, 0, 0, 0,0,0,0,1,0,0,0,0,0,0,0,0,0,0,0,0,0,0,0,0])\n",
    "    print(temp_crn)\n",
    "    #print(len(temp_crn))\n",
    "    # print(temp_crn[2124])"
   ]
  },
  {
   "cell_type": "code",
   "execution_count": 134,
   "id": "fd78be39",
   "metadata": {},
   "outputs": [
    {
     "name": "stdout",
     "output_type": "stream",
     "text": [
      "[-3.969999999999999, -4.27, -4.399979999999999, -4.2700000000000005, -4.32998, -4.34, -4.2500100000000005, -2.59, -0.16999999999999993, 1.5899999999999999, 2.959999999999999, 3.959999999999999, 4.280000000000001, 4.270000000000001, 4.059999999999999, 3.530000000000001, 2.8200000000000003, 1.8099999999999987, 0.5800000000000001, -0.370000000000001, -1.2299999999999986, -2.379999999999999, -2.9499999999999993, -3.8400100000000013, -4.5799900000000004]\n"
     ]
    }
   ],
   "source": [
    "difference4_gad = []\n",
    "\n",
    "zip_object = zip(temp, temp_crn)\n",
    "for temp_i, temp_crn_i in zip_object:\n",
    "    difference4_gad.append(temp_i-temp_crn_i)\n",
    "\n",
    "print(difference4_gad)"
   ]
  },
  {
   "cell_type": "markdown",
   "id": "de9fab15",
   "metadata": {},
   "source": [
    "<font size=\"3\">Newton, GA: 0600 UTC (12:00 am CST) 01 March 2022-0600 UTC (12:00 am CST) 02 March 2022</font>"
   ]
  },
  {
   "cell_type": "code",
   "execution_count": 135,
   "id": "ee45f74b",
   "metadata": {},
   "outputs": [
    {
     "name": "stdout",
     "output_type": "stream",
     "text": [
      "[11.47, 10.72, 10.31, 10.08, 9.54001, 9.17999, 9.10001, 10.63, 13.85, 17.17, 20.23, 22.86, 24.8, 25.87, 26.56, 26.72, 26.18, 24.84, 22.82, 20.53, 17.92, 15.94, 14.48, 13.66, 12.47]\n"
     ]
    }
   ],
   "source": [
    "#1 hr hrrr:\n",
    "with open('hrrr_f01_Newton_GA.txt') as f:\n",
    "    lst=[line.split()[5] for line in f]\n",
    "    temp=[]\n",
    "    for i in lst:\n",
    "        new=i.replace(',',\"\")\n",
    "        temp.append(new)\n",
    "    temp.pop(0)\n",
    "    temp=[float(x) for x in temp]\n",
    "    temp=temp[2213:2238]\n",
    "    #temp=temp[2015:2063]\n",
    "    print(temp)\n",
    "    #print(len(temp))\n",
    "#full time period is [2015:2112]"
   ]
  },
  {
   "cell_type": "code",
   "execution_count": 136,
   "id": "569d6a98",
   "metadata": {},
   "outputs": [
    {
     "name": "stdout",
     "output_type": "stream",
     "text": [
      "[16.1, 15.8, 15.6, 15.4, 15.2, 15.0, 14.8, 15.0, 15.8, 16.8, 18.2, 19.6, 20.9, 21.8, 22.2, 22.1, 21.7, 21.0, 20.3, 19.5, 18.8, 18.3, 17.9, 17.4, 17.1]\n"
     ]
    }
   ],
   "source": [
    "#Air Temp CRN:\n",
    "with open('CRNH0203-2022-GA_Newton_11_SW.txt') as f:\n",
    "    lst=[line.split()[33] for line in f]\n",
    "    #print(lst)\n",
    "    temp_crn=[]\n",
    "    for i in lst:\n",
    "        new=i.replace(',',\"\")\n",
    "        temp_crn.append(new)\n",
    "    temp_crn=[float(x) for x in temp_crn]\n",
    "    temp_crn=temp_crn[2213:2238]\n",
    "    print(temp_crn)\n",
    "    #print(len(temp_crn))\n",
    "    # print(temp_crn[2124])"
   ]
  },
  {
   "cell_type": "code",
   "execution_count": 137,
   "id": "23233b5a",
   "metadata": {},
   "outputs": [
    {
     "name": "stdout",
     "output_type": "stream",
     "text": [
      "[-4.630000000000001, -5.08, -5.289999999999999, -5.32, -5.659989999999999, -5.82001, -5.6999900000000014, -4.369999999999999, -1.950000000000001, 0.370000000000001, 2.030000000000001, 3.259999999999998, 3.900000000000002, 4.07, 4.359999999999999, 4.619999999999997, 4.48, 3.84, 2.5199999999999996, 1.0300000000000011, -0.879999999999999, -2.360000000000001, -3.419999999999998, -3.7399999999999984, -4.630000000000001]\n"
     ]
    }
   ],
   "source": [
    "difference4_newt = []\n",
    "\n",
    "zip_object = zip(temp, temp_crn)\n",
    "for temp_i, temp_crn_i in zip_object:\n",
    "    difference4_newt.append(temp_i-temp_crn_i)\n",
    "\n",
    "print(difference4_newt)"
   ]
  },
  {
   "cell_type": "markdown",
   "id": "bc863b41",
   "metadata": {},
   "source": [
    "<font size=\"3\">Salem, MO: 0500 UTC (12:00 am CDT) 19 April 2022-0500 UTC (12:00 am CDT) 20 April 2022</font>"
   ]
  },
  {
   "cell_type": "code",
   "execution_count": 138,
   "id": "3fe4d4d8",
   "metadata": {},
   "outputs": [
    {
     "name": "stdout",
     "output_type": "stream",
     "text": [
      "[3.80002, 3.24002, 2.63, 2.13, 1.74002, 1.55002, 1.19, 2.02002, 4.02002, 6.45001, 8.70999, 10.87, 12.69, 14.07, 15.0, 15.63, 15.63, 15.07, 14.04, 13.0, 11.85, 10.89, 10.16, 9.37, 8.67999]\n",
      "25\n"
     ]
    }
   ],
   "source": [
    "#1 hr hrrr:\n",
    "with open('hrrr_f01_Salem_MO.txt') as f:\n",
    "    lst=[line.split()[5] for line in f]\n",
    "    temp=[]\n",
    "    for i in lst:\n",
    "        new=i.replace(',',\"\")\n",
    "        temp.append(new)\n",
    "    temp.pop(0)\n",
    "    temp=[float(x) for x in temp]\n",
    "    temp=temp[2597:2622]\n",
    "    #temp=temp[2015:2063]\n",
    "    print(temp)\n",
    "    print(len(temp))\n",
    "#full time period is [2015:2112]"
   ]
  },
  {
   "cell_type": "code",
   "execution_count": 139,
   "id": "8e5ef275",
   "metadata": {},
   "outputs": [
    {
     "name": "stdout",
     "output_type": "stream",
     "text": [
      "[7.2, 6.9, 6.6, 6.4, 6.1, 5.9, 5.6, 5.5, 5.7, 6.7, 7.9, 9.1, 10.2, 11.2, 11.9, 12.3, 12.4, 12.1, 11.5, 10.9, 10.5, 10.2, 9.8, 9.5, 9.2]\n",
      "25\n"
     ]
    }
   ],
   "source": [
    "#Air Temp CRN:\n",
    "with open('CRNH0203-2022-MO_Salem_10_W.txt') as f:\n",
    "    lst=[line.split()[33] for line in f]\n",
    "    #print(lst)\n",
    "    temp_crn=[]\n",
    "    for i in lst:\n",
    "        new=i.replace(',',\"\")\n",
    "        temp_crn.append(new)\n",
    "    temp_crn=[float(x) for x in temp_crn]\n",
    "    temp_crn=temp_crn[2597:2622]\n",
    "    print(temp_crn)\n",
    "    print(len(temp_crn))\n",
    "    # print(temp_crn[2124])"
   ]
  },
  {
   "cell_type": "code",
   "execution_count": 140,
   "id": "631903a7",
   "metadata": {},
   "outputs": [
    {
     "name": "stdout",
     "output_type": "stream",
     "text": [
      "[-3.3999800000000002, -3.6599800000000005, -3.9699999999999998, -4.2700000000000005, -4.35998, -4.34998, -4.41, -3.47998, -1.6799800000000005, -0.24999000000000038, 0.8099899999999991, 1.7699999999999996, 2.49, 2.870000000000001, 3.0999999999999996, 3.33, 3.2300000000000004, 2.9700000000000006, 2.539999999999999, 2.0999999999999996, 1.3499999999999996, 0.6900000000000013, 0.35999999999999943, -0.13000000000000078, -0.5200099999999992]\n"
     ]
    }
   ],
   "source": [
    "difference5_sal = []\n",
    "\n",
    "zip_object = zip(temp, temp_crn)\n",
    "for temp_i, temp_crn_i in zip_object:\n",
    "    difference5_sal.append(temp_i-temp_crn_i)\n",
    "\n",
    "print(difference5_sal)"
   ]
  },
  {
   "cell_type": "markdown",
   "id": "eb16f605",
   "metadata": {},
   "source": [
    "<font size=\"3\">Batesville, AR: 0600 UTC (12:00 am CST) 01 March 2022-0600 UTC (12:00 am CST) 02 March 2022</font>"
   ]
  },
  {
   "cell_type": "code",
   "execution_count": 141,
   "id": "5f6566a3",
   "metadata": {},
   "outputs": [
    {
     "name": "stdout",
     "output_type": "stream",
     "text": [
      "[9.56, 8.56, 7.5, 6.67001, 5.98001, 5.19, 4.49002, 5.55002, 8.05002, 10.77, 13.42, 15.77, 17.67, 19.02, 19.81, 19.94, 19.44, 18.11, 16.89, 14.89, 13.41, 12.36, 11.54, 11.33, 10.85]\n",
      "25\n"
     ]
    }
   ],
   "source": [
    "#1 hr hrrr:\n",
    "with open('hrrr_f01_Batesville_AR.txt') as f:\n",
    "    lst=[line.split()[5] for line in f]\n",
    "    temp=[]\n",
    "    for i in lst:\n",
    "        new=i.replace(',',\"\")\n",
    "        temp.append(new)\n",
    "    temp.pop(0)\n",
    "    temp=[float(x) for x in temp]\n",
    "    temp=temp[2597:2622]\n",
    "#     x = np.array(temp)\n",
    "#     temp = ma.masked_array(x, mask=[0, 0, 0, 0, 0,0,0,0,0,0,0,0,0,0,0,0,0,0,0,0,0,1,0,0,0])\n",
    "    #temp=temp[2015:2063]\n",
    "    print(temp)\n",
    "    print(len(temp))\n",
    "#full time period is [2015:2112]"
   ]
  },
  {
   "cell_type": "code",
   "execution_count": 142,
   "id": "181df417",
   "metadata": {},
   "outputs": [
    {
     "name": "stdout",
     "output_type": "stream",
     "text": [
      "[11.5, 11.2, 10.9, 10.6, 10.4, 10.1, 9.9, 9.7, 9.9, 10.3, 10.9, 11.6, 12.4, 13.3, 13.9, 14.2, 14.3, 14.2, 13.9, 13.5, 13.0, 12.5, 12.0, 11.8, 11.7]\n"
     ]
    }
   ],
   "source": [
    "#Air Temp CRN:\n",
    "with open('CRNH0203-2022-AR_Batesville_8_WNW.txt') as f:\n",
    "    lst=[line.split()[33] for line in f]\n",
    "    #print(lst)\n",
    "    temp_crn=[]\n",
    "    for i in lst:\n",
    "        new=i.replace(',',\"\")\n",
    "        temp_crn.append(new)\n",
    "    temp_crn=[float(x) for x in temp_crn]\n",
    "    temp_crn=temp_crn[2597:2622]\n",
    "#     y = np.array(temp_crn)\n",
    "#     temp_crn = ma.masked_array(y, mask=[0, 0, 0, 0, 0,0,0,0,0,0,0,0,0,0,0,0,0,0,0,0,0,1,0,0,0])\n",
    "    print(temp_crn)\n",
    "    #print(len(temp_crn))\n",
    "    # print(temp_crn[2124])"
   ]
  },
  {
   "cell_type": "code",
   "execution_count": 143,
   "id": "32ec4102",
   "metadata": {},
   "outputs": [
    {
     "name": "stdout",
     "output_type": "stream",
     "text": [
      "[-1.9399999999999995, -2.639999999999999, -3.4000000000000004, -3.929989999999999, -4.41999, -4.909999999999999, -5.40998, -4.149979999999999, -1.8499800000000004, 0.46999999999999886, 2.5199999999999996, 4.17, 5.270000000000001, 5.719999999999999, 5.909999999999998, 5.740000000000002, 5.140000000000001, 3.91, 2.99, 1.3900000000000006, 0.41000000000000014, -0.14000000000000057, -0.46000000000000085, -0.47000000000000064, -0.8499999999999996]\n"
     ]
    }
   ],
   "source": [
    "difference5_bat = []\n",
    "\n",
    "zip_object = zip(temp, temp_crn)\n",
    "for temp_i, temp_crn_i in zip_object:\n",
    "    difference5_bat.append(temp_i-temp_crn_i)\n",
    "\n",
    "print(difference5_bat)"
   ]
  },
  {
   "cell_type": "markdown",
   "id": "ab0f4798",
   "metadata": {},
   "source": [
    "<font size=\"3\">Lafayette, LA: 0600 UTC (12:00 am CST) 01 March 2022-0600 UTC (12:00 am CST) 02 March 2022</font>"
   ]
  },
  {
   "cell_type": "code",
   "execution_count": 144,
   "id": "bf4ca647",
   "metadata": {},
   "outputs": [
    {
     "name": "stdout",
     "output_type": "stream",
     "text": [
      "[17.6, 16.96, 16.22, 15.52, 14.87, 14.27, 13.8, 14.82, 17.09, 19.65, 22.02, 24.58, 26.68, 28.02, 28.71, 28.49, 27.82, 26.41, 25.11, 23.18, 21.58, 20.48, 19.43, 18.73, 18.08]\n"
     ]
    }
   ],
   "source": [
    "#1 hr hrrr:\n",
    "with open('hrrr_f01_Lafayette_LA.txt') as f:\n",
    "    lst=[line.split()[5] for line in f]\n",
    "    temp=[]\n",
    "    for i in lst:\n",
    "        new=i.replace(',',\"\")\n",
    "        temp.append(new)\n",
    "    temp.pop(0)\n",
    "    temp=[float(x) for x in temp]\n",
    "    temp=temp[2597:2622]\n",
    "    #temp=temp[2015:2063]\n",
    "    print(temp)\n",
    "    #print(len(temp))\n",
    "#full time period is [2015:2112]"
   ]
  },
  {
   "cell_type": "code",
   "execution_count": 145,
   "id": "6f4ae0a1",
   "metadata": {},
   "outputs": [
    {
     "name": "stdout",
     "output_type": "stream",
     "text": [
      "[21.4, 21.2, 20.9, 20.7, 20.4, 20.1, 19.9, 19.7, 19.8, 19.7, 20.0, 20.3, 20.8, 21.3, 21.8, 22.1, 22.3, 22.3, 22.1, 21.9, 21.6, 21.2, 20.8, 20.6, 20.3]\n"
     ]
    }
   ],
   "source": [
    "#Air Temp CRN:\n",
    "with open('CRNH0203-2022-LA_Lafayette_13_SE.txt') as f:\n",
    "    lst=[line.split()[33] for line in f]\n",
    "    #print(lst)\n",
    "    temp_crn=[]\n",
    "    for i in lst:\n",
    "        new=i.replace(',',\"\")\n",
    "        temp_crn.append(new)\n",
    "    temp_crn=[float(x) for x in temp_crn]\n",
    "    temp_crn=temp_crn[2597:2622]\n",
    "    print(temp_crn)\n",
    "    #print(len(temp_crn))\n",
    "    # print(temp_crn[2124])"
   ]
  },
  {
   "cell_type": "code",
   "execution_count": 146,
   "id": "482bd1ef",
   "metadata": {},
   "outputs": [
    {
     "name": "stdout",
     "output_type": "stream",
     "text": [
      "[-3.799999999999997, -4.239999999999998, -4.68, -5.18, -5.529999999999999, -5.830000000000002, -6.099999999999998, -4.879999999999999, -2.710000000000001, -0.05000000000000071, 2.0199999999999996, 4.279999999999998, 5.879999999999999, 6.719999999999999, 6.91, 6.389999999999997, 5.52, 4.109999999999999, 3.009999999999998, 1.2800000000000011, -0.020000000000003126, -0.7199999999999989, -1.370000000000001, -1.870000000000001, -2.2200000000000024]\n"
     ]
    }
   ],
   "source": [
    "difference5_laf = []\n",
    "\n",
    "zip_object = zip(temp, temp_crn)\n",
    "for temp_i, temp_crn_i in zip_object:\n",
    "    difference5_laf.append(temp_i-temp_crn_i)\n",
    "\n",
    "print(difference5_laf)"
   ]
  },
  {
   "cell_type": "markdown",
   "id": "de00e832",
   "metadata": {},
   "source": [
    "<font size=\"3\">Monroe, LA: 0600 UTC (12:00 am CST) 01 March 2022-0600 UTC (12:00 am CST) 02 March 2022</font>"
   ]
  },
  {
   "cell_type": "code",
   "execution_count": 147,
   "id": "4e202ed7",
   "metadata": {},
   "outputs": [
    {
     "name": "stdout",
     "output_type": "stream",
     "text": [
      "[12.1, 11.29, 10.61, 10.05, 9.5, 8.85001, 8.36002, 9.12, 11.55, 13.69, 15.68, 18.42, 21.3, 23.23, 24.33, 24.58, 24.18, 22.95, 21.05, 18.79, 16.79, 15.07, 14.14, 13.44, 13.1]\n"
     ]
    }
   ],
   "source": [
    "#1 hr hrrr:\n",
    "with open('hrrr_f01_Monroe_LA.txt') as f:\n",
    "    lst=[line.split()[5] for line in f]\n",
    "    temp=[]\n",
    "    for i in lst:\n",
    "        new=i.replace(',',\"\")\n",
    "        temp.append(new)\n",
    "    temp.pop(0)\n",
    "    temp=[float(x) for x in temp]\n",
    "    temp=temp[2597:2622]\n",
    "    #temp=temp[2015:2063]\n",
    "    print(temp)\n",
    "    #print(len(temp))\n",
    "#full time period is [2015:2112]"
   ]
  },
  {
   "cell_type": "code",
   "execution_count": 148,
   "id": "89b1b3f1",
   "metadata": {},
   "outputs": [
    {
     "name": "stdout",
     "output_type": "stream",
     "text": [
      "[17.8, 17.4, 16.9, 16.6, 16.3, 15.8, 15.6, 15.4, 15.6, 16.1, 17.2, 18.4, 19.7, 20.7, 21.7, 22.0, 22.0, 21.6, 20.8, 20.1, 19.4, 18.8, 18.3, 17.9, 17.6]\n"
     ]
    }
   ],
   "source": [
    "#Air Temp CRN:\n",
    "with open('CRNH0203-2022-LA_Monroe_26_N.txt') as f:\n",
    "    lst=[line.split()[33] for line in f]\n",
    "    #print(lst)\n",
    "    temp_crn=[]\n",
    "    for i in lst:\n",
    "        new=i.replace(',',\"\")\n",
    "        temp_crn.append(new)\n",
    "    temp_crn=[float(x) for x in temp_crn]\n",
    "    temp_crn=temp_crn[2597:2622]\n",
    "    print(temp_crn)\n",
    "    #print(len(temp_crn))\n",
    "    # print(temp_crn[2124])"
   ]
  },
  {
   "cell_type": "code",
   "execution_count": 149,
   "id": "461ef9d6",
   "metadata": {},
   "outputs": [
    {
     "name": "stdout",
     "output_type": "stream",
     "text": [
      "[-5.700000000000001, -6.109999999999999, -6.289999999999999, -6.550000000000001, -6.800000000000001, -6.9499900000000014, -7.239979999999999, -6.280000000000001, -4.049999999999999, -2.410000000000002, -1.5199999999999996, 0.020000000000003126, 1.6000000000000014, 2.530000000000001, 2.629999999999999, 2.5799999999999983, 2.1799999999999997, 1.3499999999999979, 0.25, -1.3100000000000023, -2.6099999999999994, -3.7300000000000004, -4.16, -4.459999999999999, -4.500000000000002]\n"
     ]
    }
   ],
   "source": [
    "difference5_mon = []\n",
    "\n",
    "zip_object = zip(temp, temp_crn)\n",
    "for temp_i, temp_crn_i in zip_object:\n",
    "    difference5_mon.append(temp_i-temp_crn_i)\n",
    "\n",
    "print(difference5_mon)"
   ]
  },
  {
   "cell_type": "markdown",
   "id": "10c3e262",
   "metadata": {},
   "source": [
    "<font size=\"3\">Holly Springs, MS: 0600 UTC (12:00 am CST) 01 March 2022-0600 UTC (12:00 am CST) 02 March 2022</font>"
   ]
  },
  {
   "cell_type": "code",
   "execution_count": 150,
   "id": "02dfc76f",
   "metadata": {},
   "outputs": [
    {
     "name": "stdout",
     "output_type": "stream",
     "text": [
      "[8.99002, 8.26001, 7.69, 7.17999, 6.70999, 6.04001, 5.48001, 6.52002, 8.30002, 10.28, 12.46, 14.6, 16.69, 18.73, 19.96, 20.42, 20.25, 19.54, 17.78, 15.86, 13.91, 12.29, 10.98, 10.51, 9.84]\n"
     ]
    }
   ],
   "source": [
    "#1 hr hrrr:\n",
    "with open('hrrr_f01_Holly Springs_MS.txt') as f:\n",
    "    lst=[line.split()[5] for line in f]\n",
    "    temp=[]\n",
    "    for i in lst:\n",
    "        new=i.replace(',',\"\")\n",
    "        temp.append(new)\n",
    "    temp.pop(0)\n",
    "    temp=[float(x) for x in temp]\n",
    "    temp=temp[2597:2622]\n",
    "    #temp=temp[2015:2063]\n",
    "    print(temp)\n",
    "    #print(len(temp))\n",
    "#full time period is [2015:2112]"
   ]
  },
  {
   "cell_type": "code",
   "execution_count": 151,
   "id": "c2ad5a2d",
   "metadata": {},
   "outputs": [
    {
     "name": "stdout",
     "output_type": "stream",
     "text": [
      "[14.2, 13.6, 13.3, 12.9, 12.6, 12.2, 12.0, 11.9, 12.4, 13.4, 14.6, 15.7, 16.7, 17.4, 17.8, 18.3, 18.1, 17.8, 17.1, 16.4, 15.8, 15.2, 14.7, 14.3, 13.9]\n"
     ]
    }
   ],
   "source": [
    "#Air Temp CRN:\n",
    "with open('CRNH0203-2022-MS_Holly_Springs_4_N.txt') as f:\n",
    "    lst=[line.split()[33] for line in f]\n",
    "    #print(lst)\n",
    "    temp_crn=[]\n",
    "    for i in lst:\n",
    "        new=i.replace(',',\"\")\n",
    "        temp_crn.append(new)\n",
    "    temp_crn=[float(x) for x in temp_crn]\n",
    "    temp_crn=temp_crn[2597:2622]\n",
    "    print(temp_crn)\n",
    "    #print(len(temp_crn))\n",
    "    # print(temp_crn[2124])"
   ]
  },
  {
   "cell_type": "code",
   "execution_count": 152,
   "id": "33e182d5",
   "metadata": {},
   "outputs": [
    {
     "name": "stdout",
     "output_type": "stream",
     "text": [
      "[-5.20998, -5.33999, -5.61, -5.72001, -5.890009999999999, -6.15999, -6.51999, -5.379980000000001, -4.09998, -3.120000000000001, -2.139999999999999, -1.0999999999999996, -0.00999999999999801, 1.3300000000000018, 2.16, 2.120000000000001, 2.1499999999999986, 1.7399999999999984, 0.6799999999999997, -0.5399999999999991, -1.8900000000000006, -2.91, -3.719999999999999, -3.790000000000001, -4.0600000000000005]\n"
     ]
    }
   ],
   "source": [
    "difference5_hol = []\n",
    "\n",
    "zip_object = zip(temp, temp_crn)\n",
    "for temp_i, temp_crn_i in zip_object:\n",
    "    difference5_hol.append(temp_i-temp_crn_i)\n",
    "\n",
    "print(difference5_hol)"
   ]
  },
  {
   "cell_type": "markdown",
   "id": "c3611246",
   "metadata": {},
   "source": [
    "<font size=\"3\">Newton, MS: 0600 UTC (12:00 am CST) 01 March 2022-0600 UTC (12:00 am CST) 02 March 2022</font>"
   ]
  },
  {
   "cell_type": "code",
   "execution_count": 153,
   "id": "c9844209",
   "metadata": {},
   "outputs": [
    {
     "name": "stdout",
     "output_type": "stream",
     "text": [
      "[12.09, 11.56, 11.14, 10.7, 10.23, 9.55002, 9.12, 10.07, 11.78, 13.32, 15.12, 17.4, 19.77, 21.85, 22.97, 23.27, 23.1, 22.33, 21.06, 18.98, 16.69, 14.91, 13.38, 12.19, 11.45]\n"
     ]
    }
   ],
   "source": [
    "#1 hr hrrr:\n",
    "with open('hrrr_f01_Newton_MS.txt') as f:\n",
    "    lst=[line.split()[5] for line in f]\n",
    "    temp=[]\n",
    "    for i in lst:\n",
    "        new=i.replace(',',\"\")\n",
    "        temp.append(new)\n",
    "    temp.pop(0)\n",
    "    temp=[float(x) for x in temp]\n",
    "    temp=temp[2597:2622]\n",
    "    #temp=temp[2015:2063]\n",
    "    print(temp)\n",
    "    #print(len(temp))\n",
    "#full time period is [2015:2112]"
   ]
  },
  {
   "cell_type": "code",
   "execution_count": 154,
   "id": "27922cc2",
   "metadata": {},
   "outputs": [
    {
     "name": "stdout",
     "output_type": "stream",
     "text": [
      "[16.2, 15.8, 15.4, 15.1, 14.8, 14.5, 14.3, 14.4, 14.9, 15.7, 17.0, 18.4, 19.7, 20.7, 21.1, 21.2, 20.9, 20.5, 19.8, 18.9, 18.1, 17.4, 17.0, 16.5, 16.1]\n"
     ]
    }
   ],
   "source": [
    "#Air Temp CRN:\n",
    "with open('CRNH0203-2022-MS_Newton_5_ENE.txt') as f:\n",
    "    lst=[line.split()[33] for line in f]\n",
    "    #print(lst)\n",
    "    temp_crn=[]\n",
    "    for i in lst:\n",
    "        new=i.replace(',',\"\")\n",
    "        temp_crn.append(new)\n",
    "    temp_crn=[float(x) for x in temp_crn]\n",
    "    temp_crn=temp_crn[2597:2622]\n",
    "    print(temp_crn)\n",
    "    #print(len(temp_crn))\n",
    "    # print(temp_crn[2124])"
   ]
  },
  {
   "cell_type": "code",
   "execution_count": 155,
   "id": "26f39b75",
   "metadata": {},
   "outputs": [
    {
     "name": "stdout",
     "output_type": "stream",
     "text": [
      "[-4.109999999999999, -4.24, -4.26, -4.4, -4.57, -4.94998, -5.1800000000000015, -4.33, -3.120000000000001, -2.379999999999999, -1.8800000000000008, -1.0, 0.07000000000000028, 1.1500000000000021, 1.8699999999999974, 2.0700000000000003, 2.200000000000003, 1.8299999999999983, 1.259999999999998, 0.08000000000000185, -1.4100000000000001, -2.4899999999999984, -3.619999999999999, -4.3100000000000005, -4.650000000000002]\n"
     ]
    }
   ],
   "source": [
    "difference5_new = []\n",
    "\n",
    "zip_object = zip(temp, temp_crn)\n",
    "for temp_i, temp_crn_i in zip_object:\n",
    "    difference5_new.append(temp_i-temp_crn_i)\n",
    "\n",
    "print(difference5_new)"
   ]
  },
  {
   "cell_type": "markdown",
   "id": "35f6ffe5",
   "metadata": {},
   "source": [
    "<font size=\"3\">Gainesville, AL: 0600 UTC (12:00 am CST) 01 March 2022-0600 UTC (12:00 am CST) 02 March 2022</font>"
   ]
  },
  {
   "cell_type": "code",
   "execution_count": 156,
   "id": "d2bd1457",
   "metadata": {},
   "outputs": [],
   "source": [
    "# #1 hr hrrr:\n",
    "# with open('hrrr_f01_Gainesville_AL.txt') as f:\n",
    "#     lst=[line.split()[5] for line in f]\n",
    "#     temp=[]\n",
    "#     for i in lst:\n",
    "#         new=i.replace(',',\"\")\n",
    "#         temp.append(new)\n",
    "#     temp.pop(0)\n",
    "#     temp=[float(x) for x in temp]\n",
    "#     temp=temp[2597:2622]\n",
    "#     #temp=temp[2015:2063]\n",
    "#     print(temp)\n",
    "#     #print(len(temp))\n",
    "# #full time period is [2015:2112]"
   ]
  },
  {
   "cell_type": "code",
   "execution_count": 157,
   "id": "4f5c8ab2",
   "metadata": {},
   "outputs": [],
   "source": [
    "# #Air Temp CRN:\n",
    "# with open('CRNH0203-2022-AL_Gainesville_2_NE.txt') as f:\n",
    "#     lst=[line.split()[33] for line in f]\n",
    "#     #print(lst)\n",
    "#     temp_crn=[]\n",
    "#     for i in lst:\n",
    "#         new=i.replace(',',\"\")\n",
    "#         temp_crn.append(new)\n",
    "#     temp_crn=[float(x) for x in temp_crn]\n",
    "#     temp_crn=temp_crn[2597:2622]\n",
    "#     print(temp_crn)\n",
    "#     #print(len(temp_crn))\n",
    "#     # print(temp_crn[2124])"
   ]
  },
  {
   "cell_type": "code",
   "execution_count": 158,
   "id": "8356bd44",
   "metadata": {},
   "outputs": [],
   "source": [
    "# difference5_gai = []\n",
    "\n",
    "# zip_object = zip(temp, temp_crn)\n",
    "# for temp_i, temp_crn_i in zip_object:\n",
    "#     difference5_gai.append(temp_i-temp_crn_i)\n",
    "\n",
    "# print(difference5_gai)"
   ]
  },
  {
   "cell_type": "markdown",
   "id": "fb46ce72",
   "metadata": {},
   "source": [
    "<font size=\"3\">Fairhope, AL: 0600 UTC (12:00 am CST) 01 March 2022-0600 UTC (12:00 am CST) 02 March 2022</font>"
   ]
  },
  {
   "cell_type": "code",
   "execution_count": 159,
   "id": "eb7efbb3",
   "metadata": {},
   "outputs": [
    {
     "name": "stdout",
     "output_type": "stream",
     "text": [
      "[15.41, 14.79, 14.17, 13.65, 13.15, 12.5, 12.02, 13.24, 15.32, 17.6, 19.97, 22.35, 23.94, 25.25, 25.87, 25.75, 25.07, 24.05, 22.1, 19.91, 18.1, 16.35, 15.1, 14.29, 13.58]\n"
     ]
    }
   ],
   "source": [
    "#1 hr hrrr:\n",
    "with open('hrrr_f01_Fairhope_AL.txt') as f:\n",
    "    lst=[line.split()[5] for line in f]\n",
    "    temp=[]\n",
    "    for i in lst:\n",
    "        new=i.replace(',',\"\")\n",
    "        temp.append(new)\n",
    "    temp.pop(0)\n",
    "    temp=[float(x) for x in temp]\n",
    "    temp=temp[2597:2622]\n",
    "    #temp=temp[2015:2063]\n",
    "    print(temp)\n",
    "    #print(len(temp))\n",
    "#full time period is [2015:2112]"
   ]
  },
  {
   "cell_type": "code",
   "execution_count": 160,
   "id": "91a8ae69",
   "metadata": {},
   "outputs": [
    {
     "name": "stdout",
     "output_type": "stream",
     "text": [
      "[20.1, 19.9, 19.7, 19.5, 19.4, 19.1, 18.9, 18.9, 18.9, 18.9, 19.1, 19.3, 19.6, 20.1, 20.3, 20.5, 20.5, 20.6, 20.6, 20.2, 20.0, 19.6, 19.3, 19.1, 18.9]\n"
     ]
    }
   ],
   "source": [
    "#Air Temp CRN:\n",
    "with open('CRNH0203-2022-AL_Fairhope_3_NE.txt') as f:\n",
    "    lst=[line.split()[33] for line in f]\n",
    "    #print(lst)\n",
    "    temp_crn=[]\n",
    "    for i in lst:\n",
    "        new=i.replace(',',\"\")\n",
    "        temp_crn.append(new)\n",
    "    temp_crn=[float(x) for x in temp_crn]\n",
    "    temp_crn=temp_crn[2597:2622]\n",
    "    print(temp_crn)\n",
    "    #print(len(temp_crn))\n",
    "    # print(temp_crn[2124])"
   ]
  },
  {
   "cell_type": "code",
   "execution_count": 161,
   "id": "27eb4d35",
   "metadata": {},
   "outputs": [
    {
     "name": "stdout",
     "output_type": "stream",
     "text": [
      "[-4.690000000000001, -5.109999999999999, -5.529999999999999, -5.85, -6.249999999999998, -6.600000000000001, -6.879999999999999, -5.659999999999998, -3.5799999999999983, -1.2999999999999972, 0.8699999999999974, 3.0500000000000007, 4.34, 5.149999999999999, 5.57, 5.25, 4.57, 3.4499999999999993, 1.5, -0.28999999999999915, -1.8999999999999986, -3.25, -4.200000000000001, -4.810000000000002, -5.3199999999999985]\n"
     ]
    }
   ],
   "source": [
    "difference5_fai = []\n",
    "\n",
    "zip_object = zip(temp, temp_crn)\n",
    "for temp_i, temp_crn_i in zip_object:\n",
    "    difference5_fai.append(temp_i-temp_crn_i)\n",
    "\n",
    "print(difference5_fai)"
   ]
  },
  {
   "cell_type": "markdown",
   "id": "26ae7516",
   "metadata": {},
   "source": [
    "<font size=\"3\">**Selma, AL: 0600 UTC (12:00 am CST) 01 March 2022-0600 UTC (12:00 am CST) 02 March 2022</font>"
   ]
  },
  {
   "cell_type": "code",
   "execution_count": 162,
   "id": "bb3e0d4e",
   "metadata": {},
   "outputs": [
    {
     "name": "stdout",
     "output_type": "stream",
     "text": [
      "[11.7, 11.04, 10.2, 9.5, 8.76001, 7.95001, 7.52002, 9.16, 11.6, 12.99, 14.5, 16.03, 17.35, 18.37, 18.81, 18.85, 18.7, 18.23, 17.53, 16.22, 14.13, 12.19, 10.89, 9.85001, 9.16]\n",
      "[16.1, 15.7, 15.4, 15.0, 14.5, 14.2, 13.8, 13.9, 14.1, 14.6, 15.4, 16.5, 17.9, 19.2, 19.8, 20.1, 20.0, 19.5, 18.8, 18.1, 17.4, 16.8, 16.2, 15.7, 15.3]\n",
      "[-4.400000000000002, -4.66, -5.200000000000001, -5.5, -5.739990000000001, -6.2499899999999995, -6.279980000000001, -4.74, -2.5, -1.6099999999999994, -0.9000000000000004, -0.46999999999999886, -0.5499999999999972, -0.8299999999999983, -0.990000000000002, -1.25, -1.3000000000000007, -1.2699999999999996, -1.2699999999999996, -1.8800000000000026, -3.269999999999998, -4.610000000000001, -5.309999999999999, -5.84999, -6.140000000000001]\n"
     ]
    }
   ],
   "source": [
    "#1 hr hrrr:\n",
    "import numpy as np\n",
    "import numpy.ma as ma\n",
    "with open('hrrr_f01_Selma_AL.txt') as f:\n",
    "    lst=[line.split()[5] for line in f]\n",
    "    temp=[]\n",
    "    for i in lst:\n",
    "        new=i.replace(',',\"\")\n",
    "        temp.append(new)\n",
    "    temp.pop(0)\n",
    "    temp=[float(x) for x in temp]\n",
    "    temp=temp[2597:2622]\n",
    "\n",
    "#     x = np.array(temp)\n",
    "#     temp = ma.masked_array(x, mask=[0, 0, 0, 0, 0,0,0,0,0,0,0,0,0,0,0,0,0,1,1,1,1,0,0,0,0])\n",
    "    #print(temp)\n",
    "#Air Temp CRN:\n",
    "with open('CRNH0203-2022-AL_Selma_13_WNW.txt') as f:\n",
    "    lst=[line.split()[33] for line in f]\n",
    "    #print(lst)\n",
    "    temp_crn=[]\n",
    "    for i in lst:\n",
    "        new=i.replace(',',\"\")\n",
    "        temp_crn.append(new)\n",
    "    temp_crn=[float(x) for x in temp_crn]\n",
    "    temp_crn=temp_crn[2597:2622]\n",
    "#     y = np.array(temp_crn)\n",
    "#     temp_crn = ma.masked_array(y, mask=[0, 0, 0, 0, 0,0,0,0,0,0,0,0,0,0,0,0,0,1,1,1,1,0,0,0,0])\n",
    "    print(temp)\n",
    "    #print(len(temp))\n",
    "    print(temp_crn)\n",
    "    #print(len(temp_crn))\n",
    "#full time period is [2015:2112]\n",
    "difference5_sel = []\n",
    "\n",
    "zip_object = zip(temp, temp_crn)\n",
    "for temp_i, temp_crn_i in zip_object:\n",
    "    difference5_sel.append(temp_i-temp_crn_i)\n",
    "\n",
    "print(difference5_sel)\n",
    "#print(len(difference3_sel))"
   ]
  },
  {
   "cell_type": "markdown",
   "id": "d56aedb3",
   "metadata": {},
   "source": [
    "<font size=\"3\">Bowling Green, KY: 0600 UTC (12:00 am CST) 01 March 2022-0600 UTC (12:00 am CST) 02 March 2022</font>"
   ]
  },
  {
   "cell_type": "code",
   "execution_count": 163,
   "id": "24633681",
   "metadata": {},
   "outputs": [
    {
     "name": "stdout",
     "output_type": "stream",
     "text": [
      "[4.09, 3.73001, 3.39999, 3.14999, 2.72, 2.37, 2.20999, 3.88, 6.06, 8.38, 10.66, 13.17, 15.32, 16.7, 17.27, 17.15, 16.57, 15.42, 13.68, 11.87, 10.17, 8.81, 7.74002, 7.27002, 7.60001]\n"
     ]
    }
   ],
   "source": [
    "#1 hr hrrr:\n",
    "with open('hrrr_f01_Bowling Green_KY.txt') as f:\n",
    "    lst=[line.split()[5] for line in f]\n",
    "    temp=[]\n",
    "    for i in lst:\n",
    "        new=i.replace(',',\"\")\n",
    "        temp.append(new)\n",
    "    temp.pop(0)\n",
    "    temp=[float(x) for x in temp]\n",
    "    temp=temp[2597:2622]\n",
    "    #temp=temp[2015:2063]\n",
    "    print(temp)\n",
    "    #print(len(temp))\n",
    "#full time period is [2015:2112]"
   ]
  },
  {
   "cell_type": "code",
   "execution_count": 164,
   "id": "f8ae0010",
   "metadata": {},
   "outputs": [
    {
     "name": "stdout",
     "output_type": "stream",
     "text": [
      "[8.8, 8.4, 8.1, 7.8, 7.5, 7.2, 6.9, 7.0, 7.6, 8.5, 9.9, 11.4, 12.9, 14.2, 15.0, 15.3, 15.1, 14.5, 13.7, 12.8, 11.9, 11.2, 10.6, 10.3, 10.0]\n"
     ]
    }
   ],
   "source": [
    "#Air Temp CRN:\n",
    "with open('CRNH0203-2022-KY_Bowling_Green_21_NNE.txt') as f:\n",
    "    lst=[line.split()[33] for line in f]\n",
    "    #print(lst)\n",
    "    temp_crn=[]\n",
    "    for i in lst:\n",
    "        new=i.replace(',',\"\")\n",
    "        temp_crn.append(new)\n",
    "    temp_crn=[float(x) for x in temp_crn]\n",
    "    temp_crn=temp_crn[2597:2622]\n",
    "    print(temp_crn)\n",
    "    #print(len(temp_crn))\n",
    "    # print(temp_crn[2124])"
   ]
  },
  {
   "cell_type": "code",
   "execution_count": 165,
   "id": "0855a124",
   "metadata": {},
   "outputs": [
    {
     "name": "stdout",
     "output_type": "stream",
     "text": [
      "[-4.710000000000001, -4.66999, -4.70001, -4.65001, -4.779999999999999, -4.83, -4.690010000000001, -3.12, -1.54, -0.11999999999999922, 0.7599999999999998, 1.7699999999999996, 2.42, 2.5, 2.2699999999999996, 1.8499999999999979, 1.4700000000000006, 0.9199999999999999, -0.019999999999999574, -0.9300000000000015, -1.7300000000000004, -2.389999999999999, -2.8599799999999993, -3.029980000000001, -2.39999]\n"
     ]
    }
   ],
   "source": [
    "difference5_bow = []\n",
    "\n",
    "zip_object = zip(temp, temp_crn)\n",
    "for temp_i, temp_crn_i in zip_object:\n",
    "    difference5_bow.append(temp_i-temp_crn_i)\n",
    "\n",
    "print(difference5_bow)"
   ]
  },
  {
   "cell_type": "markdown",
   "id": "230d1a46",
   "metadata": {},
   "source": [
    "<font size=\"3\">Gadsden, AL: 0600 UTC (12:00 am CST) 01 March 2022-0600 UTC (12:00 am CST) 02 March 2022</font>"
   ]
  },
  {
   "cell_type": "code",
   "execution_count": 166,
   "id": "c5f9ab54",
   "metadata": {},
   "outputs": [
    {
     "name": "stdout",
     "output_type": "stream",
     "text": [
      "[8.52002, 7.91, 7.25, 6.64001, 6.25, 5.72, 5.64999, 7.39999, 9.48001, 11.8, 14.13, 16.31, 17.99, 18.95, 19.32, 19.12, 18.44, 17.29, 15.61, 13.44, 11.52, 9.97, 8.87, 7.85001, 7.05002]\n"
     ]
    }
   ],
   "source": [
    "#1 hr hrrr:\n",
    "with open('hrrr_f01_Gadsden_AL.txt') as f:\n",
    "    lst=[line.split()[5] for line in f]\n",
    "    temp=[]\n",
    "    for i in lst:\n",
    "        new=i.replace(',',\"\")\n",
    "        temp.append(new)\n",
    "    temp.pop(0)\n",
    "    temp=[float(x) for x in temp]\n",
    "    temp=temp[2597:2622]\n",
    "#     x = np.array(temp)\n",
    "#     temp = ma.masked_array(x, mask=[0, 0, 0, 0, 0,0,0,0,1,0,0,0,0,0,0,0,0,0,0,0,0,0,0,0,0])\n",
    "    #temp=temp[2015:2063]\n",
    "    print(temp)\n",
    "    #print(len(temp))\n",
    "#full time period is [2015:2112]"
   ]
  },
  {
   "cell_type": "code",
   "execution_count": 167,
   "id": "d154dfa6",
   "metadata": {},
   "outputs": [
    {
     "name": "stdout",
     "output_type": "stream",
     "text": [
      "[13.9, 13.7, 13.4, 13.1, 12.9, 12.6, 12.4, 12.4, 12.5, 12.8, 13.6, 14.7, 15.8, 16.9, 17.6, 18.0, 17.9, 17.7, 17.2, 16.7, 16.0, 15.5, 15.0, 14.6, 14.2]\n"
     ]
    }
   ],
   "source": [
    "#Air Temp CRN:\n",
    "with open('CRNH0203-2022-AL_Gadsden_19_N.txt') as f:\n",
    "    lst=[line.split()[33] for line in f]\n",
    "    #print(lst)\n",
    "    temp_crn=[]\n",
    "    for i in lst:\n",
    "        new=i.replace(',',\"\")\n",
    "        temp_crn.append(new)\n",
    "    temp_crn=[float(x) for x in temp_crn]\n",
    "    temp_crn=temp_crn[2597:2622]\n",
    "#     y = np.array(temp_crn)\n",
    "#     temp_crn = ma.masked_array(y, mask=[0, 0, 0, 0, 0,0,0,0,1,0,0,0,0,0,0,0,0,0,0,0,0,0,0,0,0])\n",
    "    print(temp_crn)\n",
    "    #print(len(temp_crn))\n",
    "    # print(temp_crn[2124])"
   ]
  },
  {
   "cell_type": "code",
   "execution_count": 168,
   "id": "20f98582",
   "metadata": {},
   "outputs": [
    {
     "name": "stdout",
     "output_type": "stream",
     "text": [
      "[-5.37998, -5.789999999999999, -6.15, -6.4599899999999995, -6.65, -6.88, -6.7500100000000005, -5.0000100000000005, -3.01999, -1.0, 0.5300000000000011, 1.6099999999999994, 2.1899999999999977, 2.0500000000000007, 1.7199999999999989, 1.120000000000001, 0.5400000000000027, -0.41000000000000014, -1.5899999999999999, -3.26, -4.48, -5.529999999999999, -6.130000000000001, -6.7499899999999995, -7.149979999999999]\n"
     ]
    }
   ],
   "source": [
    "difference5_gad = []\n",
    "\n",
    "zip_object = zip(temp, temp_crn)\n",
    "for temp_i, temp_crn_i in zip_object:\n",
    "    difference5_gad.append(temp_i-temp_crn_i)\n",
    "\n",
    "print(difference5_gad)"
   ]
  },
  {
   "cell_type": "markdown",
   "id": "200f3740",
   "metadata": {},
   "source": [
    "<font size=\"3\">Newton, GA: 0600 UTC (12:00 am CST) 01 March 2022-0600 UTC (12:00 am CST) 02 March 2022</font>"
   ]
  },
  {
   "cell_type": "code",
   "execution_count": 169,
   "id": "c0676e97",
   "metadata": {},
   "outputs": [
    {
     "name": "stdout",
     "output_type": "stream",
     "text": [
      "[17.14, 16.35, 15.48, 14.57, 13.72, 13.03, 12.53, 13.59, 15.53, 17.64, 19.79, 21.86, 23.3, 24.36, 24.85, 24.75, 24.05, 22.76, 20.91, 18.67, 15.84, 13.9, 12.65, 11.62, 10.86]\n"
     ]
    }
   ],
   "source": [
    "#1 hr hrrr:\n",
    "with open('hrrr_f01_Newton_GA.txt') as f:\n",
    "    lst=[line.split()[5] for line in f]\n",
    "    temp=[]\n",
    "    for i in lst:\n",
    "        new=i.replace(',',\"\")\n",
    "        temp.append(new)\n",
    "    temp.pop(0)\n",
    "    temp=[float(x) for x in temp]\n",
    "    temp=temp[2597:2622]\n",
    "    #temp=temp[2015:2063]\n",
    "    print(temp)\n",
    "    #print(len(temp))\n",
    "#full time period is [2015:2112]"
   ]
  },
  {
   "cell_type": "code",
   "execution_count": 170,
   "id": "94f7876b",
   "metadata": {},
   "outputs": [
    {
     "name": "stdout",
     "output_type": "stream",
     "text": [
      "[20.1, 19.7, 19.2, 18.9, 18.6, 18.3, 18.1, 18.1, 18.4, 19.2, 20.2, 21.5, 22.6, 23.4, 23.8, 23.7, 23.3, 22.7, 21.9, 21.0, 20.3, 19.7, 19.2, 18.7, 18.3]\n"
     ]
    }
   ],
   "source": [
    "#Air Temp CRN:\n",
    "with open('CRNH0203-2022-GA_Newton_11_SW.txt') as f:\n",
    "    lst=[line.split()[33] for line in f]\n",
    "    #print(lst)\n",
    "    temp_crn=[]\n",
    "    for i in lst:\n",
    "        new=i.replace(',',\"\")\n",
    "        temp_crn.append(new)\n",
    "    temp_crn=[float(x) for x in temp_crn]\n",
    "    temp_crn=temp_crn[2597:2622]\n",
    "    print(temp_crn)\n",
    "    #print(len(temp_crn))\n",
    "    # print(temp_crn[2124])"
   ]
  },
  {
   "cell_type": "code",
   "execution_count": 171,
   "id": "4d737508",
   "metadata": {},
   "outputs": [
    {
     "name": "stdout",
     "output_type": "stream",
     "text": [
      "[-2.960000000000001, -3.349999999999998, -3.719999999999999, -4.329999999999998, -4.880000000000001, -5.270000000000001, -5.570000000000002, -4.510000000000002, -2.869999999999999, -1.5599999999999987, -0.41000000000000014, 0.35999999999999943, 0.6999999999999993, 0.9600000000000009, 1.0500000000000007, 1.0500000000000007, 0.75, 0.060000000000002274, -0.9899999999999984, -2.3299999999999983, -4.460000000000001, -5.799999999999999, -6.549999999999999, -7.08, -7.440000000000001]\n"
     ]
    }
   ],
   "source": [
    "difference5_newt = []\n",
    "\n",
    "zip_object = zip(temp, temp_crn)\n",
    "for temp_i, temp_crn_i in zip_object:\n",
    "    difference5_newt.append(temp_i-temp_crn_i)\n",
    "\n",
    "print(difference5_newt)"
   ]
  },
  {
   "cell_type": "markdown",
   "id": "cd4a8f77",
   "metadata": {},
   "source": [
    "<font size=\"3\">Salem, MO: 0500 UTC (12:00 am CDT) 27 April 2022-0500 UTC (12:00 am CDT) 28 April 2022</font>"
   ]
  },
  {
   "cell_type": "code",
   "execution_count": 172,
   "id": "e74c5bbe",
   "metadata": {},
   "outputs": [
    {
     "name": "stdout",
     "output_type": "stream",
     "text": [
      "[8.12, 7.33002, 6.62, 5.95999, 5.52002, 5.17001, 5.13, 6.83002, 9.59, 12.23, 14.55, 17.19, 19.69, 21.3, 22.24, 22.62, 22.43, 21.76, 20.35, 18.34, 16.93, 15.97, 15.3, 14.65, 14.08]\n",
      "25\n"
     ]
    }
   ],
   "source": [
    "#1 hr hrrr:\n",
    "with open('hrrr_f01_Salem_MO.txt') as f:\n",
    "    lst=[line.split()[5] for line in f]\n",
    "    temp=[]\n",
    "    for i in lst:\n",
    "        new=i.replace(',',\"\")\n",
    "        temp.append(new)\n",
    "    temp.pop(0)\n",
    "    temp=[float(x) for x in temp]\n",
    "    temp=temp[2789:2814]\n",
    "    #temp=temp[2015:2063]\n",
    "    print(temp)\n",
    "    print(len(temp))\n",
    "#full time period is [2015:2112]"
   ]
  },
  {
   "cell_type": "code",
   "execution_count": 173,
   "id": "370dc7d4",
   "metadata": {},
   "outputs": [
    {
     "name": "stdout",
     "output_type": "stream",
     "text": [
      "[10.9, 10.5, 10.2, 9.9, 9.6, 9.4, 9.2, 9.3, 9.8, 10.5, 11.6, 12.6, 13.6, 14.5, 15.3, 15.7, 15.7, 15.4, 14.8, 14.2, 13.6, 13.1, 12.8, 12.4, 12.3]\n",
      "25\n"
     ]
    }
   ],
   "source": [
    "#Air Temp CRN:\n",
    "with open('CRNH0203-2022-MO_Salem_10_W.txt') as f:\n",
    "    lst=[line.split()[33] for line in f]\n",
    "    #print(lst)\n",
    "    temp_crn=[]\n",
    "    for i in lst:\n",
    "        new=i.replace(',',\"\")\n",
    "        temp_crn.append(new)\n",
    "    temp_crn=[float(x) for x in temp_crn]\n",
    "    temp_crn=temp_crn[2789:2814]\n",
    "    print(temp_crn)\n",
    "    print(len(temp_crn))\n",
    "    # print(temp_crn[2124])"
   ]
  },
  {
   "cell_type": "code",
   "execution_count": 174,
   "id": "38ad8303",
   "metadata": {},
   "outputs": [
    {
     "name": "stdout",
     "output_type": "stream",
     "text": [
      "[-2.780000000000001, -3.16998, -3.579999999999999, -3.94001, -4.07998, -4.22999, -4.069999999999999, -2.4699800000000005, -0.21000000000000085, 1.7300000000000004, 2.950000000000001, 4.590000000000002, 6.090000000000002, 6.800000000000001, 6.939999999999998, 6.920000000000002, 6.73, 6.360000000000001, 5.550000000000001, 4.140000000000001, 3.33, 2.870000000000001, 2.5, 2.25, 1.7799999999999994]\n"
     ]
    }
   ],
   "source": [
    "difference6_sal = []\n",
    "\n",
    "zip_object = zip(temp, temp_crn)\n",
    "for temp_i, temp_crn_i in zip_object:\n",
    "    difference6_sal.append(temp_i-temp_crn_i)\n",
    "\n",
    "print(difference6_sal)"
   ]
  },
  {
   "cell_type": "markdown",
   "id": "a9ca1aca",
   "metadata": {},
   "source": [
    "<font size=\"3\">Batesville, AR: 0600 UTC (12:00 am CST) 01 March 2022-0600 UTC (12:00 am CST) 02 March 2022</font>"
   ]
  },
  {
   "cell_type": "code",
   "execution_count": 175,
   "id": "90b292da",
   "metadata": {},
   "outputs": [
    {
     "name": "stdout",
     "output_type": "stream",
     "text": [
      "[11.25, 10.42, 9.55002, 8.67999, 7.94, 7.17001, 6.80002, 8.11002, 10.8, 13.74, 16.08, 18.26, 20.17, 21.7, 22.68, 23.01, 22.87, 22.02, 20.45, 18.56, 16.9, 15.73, 14.62, 13.76, 13.06]\n",
      "25\n"
     ]
    }
   ],
   "source": [
    "#1 hr hrrr:\n",
    "with open('hrrr_f01_Batesville_AR.txt') as f:\n",
    "    lst=[line.split()[5] for line in f]\n",
    "    temp=[]\n",
    "    for i in lst:\n",
    "        new=i.replace(',',\"\")\n",
    "        temp.append(new)\n",
    "    temp.pop(0)\n",
    "    temp=[float(x) for x in temp]\n",
    "    temp=temp[2789:2814]\n",
    "#     x = np.array(temp)\n",
    "#     temp = ma.masked_array(x, mask=[0, 0, 0, 0, 0,0,0,0,0,0,0,0,0,0,0,0,0,0,0,0,0,1,0,0,0])\n",
    "    #temp=temp[2015:2063]\n",
    "    print(temp)\n",
    "    print(len(temp))\n",
    "#full time period is [2015:2112]"
   ]
  },
  {
   "cell_type": "code",
   "execution_count": 176,
   "id": "67dc1ac6",
   "metadata": {},
   "outputs": [
    {
     "name": "stdout",
     "output_type": "stream",
     "text": [
      "[14.1, 13.7, 13.3, 12.9, 12.6, 12.4, 12.1, 12.1, 12.3, 12.8, 13.4, 14.1, 14.9, 15.7, 16.4, 16.7, 16.8, 16.7, 16.3, 16.0, 15.4, 15.0, 14.6, 14.2, 13.9]\n"
     ]
    }
   ],
   "source": [
    "#Air Temp CRN:\n",
    "with open('CRNH0203-2022-AR_Batesville_8_WNW.txt') as f:\n",
    "    lst=[line.split()[33] for line in f]\n",
    "    #print(lst)\n",
    "    temp_crn=[]\n",
    "    for i in lst:\n",
    "        new=i.replace(',',\"\")\n",
    "        temp_crn.append(new)\n",
    "    temp_crn=[float(x) for x in temp_crn]\n",
    "    temp_crn=temp_crn[2789:2814]\n",
    "#     y = np.array(temp_crn)\n",
    "#     temp_crn = ma.masked_array(y, mask=[0, 0, 0, 0, 0,0,0,0,0,0,0,0,0,0,0,0,0,0,0,0,0,1,0,0,0])\n",
    "    print(temp_crn)\n",
    "    #print(len(temp_crn))\n",
    "    # print(temp_crn[2124])"
   ]
  },
  {
   "cell_type": "code",
   "execution_count": 177,
   "id": "ea97b53d",
   "metadata": {},
   "outputs": [
    {
     "name": "stdout",
     "output_type": "stream",
     "text": [
      "[-2.8499999999999996, -3.2799999999999994, -3.7499800000000008, -4.22001, -4.659999999999999, -5.22999, -5.29998, -3.989979999999999, -1.5, 0.9399999999999995, 2.679999999999998, 4.160000000000002, 5.270000000000001, 6.0, 6.280000000000001, 6.310000000000002, 6.07, 5.32, 4.149999999999999, 2.5599999999999987, 1.4999999999999982, 0.7300000000000004, 0.019999999999999574, -0.4399999999999995, -0.8399999999999999]\n"
     ]
    }
   ],
   "source": [
    "difference6_bat = []\n",
    "\n",
    "zip_object = zip(temp, temp_crn)\n",
    "for temp_i, temp_crn_i in zip_object:\n",
    "    difference6_bat.append(temp_i-temp_crn_i)\n",
    "\n",
    "print(difference6_bat)"
   ]
  },
  {
   "cell_type": "markdown",
   "id": "5726dedb",
   "metadata": {},
   "source": [
    "<font size=\"3\">Lafayette, LA: 0600 UTC (12:00 am CST) 01 March 2022-0600 UTC (12:00 am CST) 02 March 2022</font>"
   ]
  },
  {
   "cell_type": "code",
   "execution_count": 178,
   "id": "4afdefd5",
   "metadata": {},
   "outputs": [
    {
     "name": "stdout",
     "output_type": "stream",
     "text": [
      "[20.53, 19.51, 18.62, 17.82, 17.06, 16.54, 16.2, 17.33, 19.45, 22.32, 25.25, 28.05, 30.17, 31.54, 32.52, 32.49, 32.01, 30.9, 29.21, 26.75, 24.29, 22.12, 20.43, 19.27, 17.97]\n"
     ]
    }
   ],
   "source": [
    "#1 hr hrrr:\n",
    "with open('hrrr_f01_Lafayette_LA.txt') as f:\n",
    "    lst=[line.split()[5] for line in f]\n",
    "    temp=[]\n",
    "    for i in lst:\n",
    "        new=i.replace(',',\"\")\n",
    "        temp.append(new)\n",
    "    temp.pop(0)\n",
    "    temp=[float(x) for x in temp]\n",
    "    temp=temp[2789:2814]\n",
    "    #temp=temp[2015:2063]\n",
    "    print(temp)\n",
    "    #print(len(temp))\n",
    "#full time period is [2015:2112]"
   ]
  },
  {
   "cell_type": "code",
   "execution_count": 179,
   "id": "f87af32e",
   "metadata": {},
   "outputs": [
    {
     "name": "stdout",
     "output_type": "stream",
     "text": [
      "[22.6, 22.3, 22.0, 21.6, 21.4, 21.1, 20.8, 20.7, 20.6, 20.8, 21.2, 21.9, 22.6, 23.3, 23.9, 24.4, 24.5, 24.5, 24.4, 23.9, 23.6, 23.0, 22.5, 22.1, 21.7]\n"
     ]
    }
   ],
   "source": [
    "#Air Temp CRN:\n",
    "with open('CRNH0203-2022-LA_Lafayette_13_SE.txt') as f:\n",
    "    lst=[line.split()[33] for line in f]\n",
    "    #print(lst)\n",
    "    temp_crn=[]\n",
    "    for i in lst:\n",
    "        new=i.replace(',',\"\")\n",
    "        temp_crn.append(new)\n",
    "    temp_crn=[float(x) for x in temp_crn]\n",
    "    temp_crn=temp_crn[2789:2814]\n",
    "    print(temp_crn)\n",
    "    #print(len(temp_crn))\n",
    "    # print(temp_crn[2124])"
   ]
  },
  {
   "cell_type": "code",
   "execution_count": 180,
   "id": "7b222157",
   "metadata": {},
   "outputs": [
    {
     "name": "stdout",
     "output_type": "stream",
     "text": [
      "[-2.0700000000000003, -2.789999999999999, -3.379999999999999, -3.780000000000001, -4.34, -4.560000000000002, -4.600000000000001, -3.370000000000001, -1.1500000000000021, 1.5199999999999996, 4.050000000000001, 6.150000000000002, 7.57, 8.239999999999998, 8.620000000000005, 8.090000000000003, 7.509999999999998, 6.399999999999999, 4.810000000000002, 2.8500000000000014, 0.6899999999999977, -0.879999999999999, -2.0700000000000003, -2.830000000000002, -3.7300000000000004]\n"
     ]
    }
   ],
   "source": [
    "difference6_laf = []\n",
    "\n",
    "zip_object = zip(temp, temp_crn)\n",
    "for temp_i, temp_crn_i in zip_object:\n",
    "    difference6_laf.append(temp_i-temp_crn_i)\n",
    "\n",
    "print(difference6_laf)"
   ]
  },
  {
   "cell_type": "markdown",
   "id": "de2bb1cb",
   "metadata": {},
   "source": [
    "<font size=\"3\">Monroe, LA: 0600 UTC (12:00 am CST) 01 March 2022-0600 UTC (12:00 am CST) 02 March 2022</font>"
   ]
  },
  {
   "cell_type": "code",
   "execution_count": 181,
   "id": "ebecba2f",
   "metadata": {},
   "outputs": [
    {
     "name": "stdout",
     "output_type": "stream",
     "text": [
      "[13.4, 12.7, 11.98, 11.34, 10.65, 9.72, 9.22, 10.16, 12.72, 15.5, 18.01, 20.5, 23.3, 25.44, 26.86, 27.4, 27.21, 26.15, 24.62, 22.23, 19.78, 17.73, 16.08, 14.44, 13.22]\n"
     ]
    }
   ],
   "source": [
    "#1 hr hrrr:\n",
    "with open('hrrr_f01_Monroe_LA.txt') as f:\n",
    "    lst=[line.split()[5] for line in f]\n",
    "    temp=[]\n",
    "    for i in lst:\n",
    "        new=i.replace(',',\"\")\n",
    "        temp.append(new)\n",
    "    temp.pop(0)\n",
    "    temp=[float(x) for x in temp]\n",
    "    temp=temp[2789:2814]\n",
    "    #temp=temp[2015:2063]\n",
    "    print(temp)\n",
    "    #print(len(temp))\n",
    "#full time period is [2015:2112]"
   ]
  },
  {
   "cell_type": "code",
   "execution_count": 182,
   "id": "46f2d051",
   "metadata": {},
   "outputs": [
    {
     "name": "stdout",
     "output_type": "stream",
     "text": [
      "[19.4, 18.9, 18.4, 18.1, 17.8, 17.4, 17.0, 16.8, 17.0, 17.8, 19.0, 20.4, 21.9, 23.0, 23.8, 24.1, 24.1, 23.6, 22.7, 21.9, 21.0, 20.3, 19.7, 19.0, 18.6]\n"
     ]
    }
   ],
   "source": [
    "#Air Temp CRN:\n",
    "with open('CRNH0203-2022-LA_Monroe_26_N.txt') as f:\n",
    "    lst=[line.split()[33] for line in f]\n",
    "    #print(lst)\n",
    "    temp_crn=[]\n",
    "    for i in lst:\n",
    "        new=i.replace(',',\"\")\n",
    "        temp_crn.append(new)\n",
    "    temp_crn=[float(x) for x in temp_crn]\n",
    "    temp_crn=temp_crn[2789:2814]\n",
    "    print(temp_crn)\n",
    "    #print(len(temp_crn))\n",
    "    # print(temp_crn[2124])"
   ]
  },
  {
   "cell_type": "code",
   "execution_count": 183,
   "id": "7f448702",
   "metadata": {},
   "outputs": [
    {
     "name": "stdout",
     "output_type": "stream",
     "text": [
      "[-5.999999999999998, -6.199999999999999, -6.419999999999998, -6.760000000000002, -7.15, -7.679999999999998, -7.779999999999999, -6.640000000000001, -4.279999999999999, -2.3000000000000007, -0.9899999999999984, 0.10000000000000142, 1.4000000000000021, 2.4400000000000013, 3.0599999999999987, 3.299999999999997, 3.1099999999999994, 2.549999999999997, 1.9200000000000017, 0.33000000000000185, -1.2199999999999989, -2.5700000000000003, -3.620000000000001, -4.5600000000000005, -5.380000000000001]\n"
     ]
    }
   ],
   "source": [
    "difference6_mon = []\n",
    "\n",
    "zip_object = zip(temp, temp_crn)\n",
    "for temp_i, temp_crn_i in zip_object:\n",
    "    difference6_mon.append(temp_i-temp_crn_i)\n",
    "\n",
    "print(difference6_mon)"
   ]
  },
  {
   "cell_type": "markdown",
   "id": "49e00369",
   "metadata": {},
   "source": [
    "<font size=\"3\">Holly Springs, MS: 0600 UTC (12:00 am CST) 01 March 2022-0600 UTC (12:00 am CST) 02 March 2022</font>"
   ]
  },
  {
   "cell_type": "code",
   "execution_count": 184,
   "id": "a9302d89",
   "metadata": {},
   "outputs": [
    {
     "name": "stdout",
     "output_type": "stream",
     "text": [
      "[9.31, 8.52002, 7.72, 7.11002, 6.49002, 5.92001, 5.75, 7.69, 10.49, 13.12, 15.65, 18.16, 20.64, 22.53, 23.57, 23.91, 23.57, 22.87, 21.3, 19.45, 17.23, 15.45, 14.11, 13.11, 12.33]\n"
     ]
    }
   ],
   "source": [
    "#1 hr hrrr:\n",
    "with open('hrrr_f01_Holly Springs_MS.txt') as f:\n",
    "    lst=[line.split()[5] for line in f]\n",
    "    temp=[]\n",
    "    for i in lst:\n",
    "        new=i.replace(',',\"\")\n",
    "        temp.append(new)\n",
    "    temp.pop(0)\n",
    "    temp=[float(x) for x in temp]\n",
    "    temp=temp[2789:2814]\n",
    "    #temp=temp[2015:2063]\n",
    "    print(temp)\n",
    "    #print(len(temp))\n",
    "#full time period is [2015:2112]"
   ]
  },
  {
   "cell_type": "code",
   "execution_count": 185,
   "id": "136bd6ce",
   "metadata": {},
   "outputs": [
    {
     "name": "stdout",
     "output_type": "stream",
     "text": [
      "[16.2, 15.8, 15.3, 14.8, 14.4, 14.1, 13.8, 13.8, 14.8, 16.0, 17.4, 18.6, 19.9, 20.9, 21.6, 21.9, 21.9, 21.4, 20.6, 19.7, 18.9, 18.2, 17.7, 17.3, 16.8]\n"
     ]
    }
   ],
   "source": [
    "#Air Temp CRN:\n",
    "with open('CRNH0203-2022-MS_Holly_Springs_4_N.txt') as f:\n",
    "    lst=[line.split()[33] for line in f]\n",
    "    #print(lst)\n",
    "    temp_crn=[]\n",
    "    for i in lst:\n",
    "        new=i.replace(',',\"\")\n",
    "        temp_crn.append(new)\n",
    "    temp_crn=[float(x) for x in temp_crn]\n",
    "    temp_crn=temp_crn[2789:2814]\n",
    "    print(temp_crn)\n",
    "    #print(len(temp_crn))\n",
    "    # print(temp_crn[2124])"
   ]
  },
  {
   "cell_type": "code",
   "execution_count": 186,
   "id": "19a13a82",
   "metadata": {},
   "outputs": [
    {
     "name": "stdout",
     "output_type": "stream",
     "text": [
      "[-6.889999999999999, -7.27998, -7.580000000000001, -7.689980000000001, -7.90998, -8.17999, -8.05, -6.11, -4.3100000000000005, -2.880000000000001, -1.7499999999999982, -0.4400000000000013, 0.740000000000002, 1.6300000000000026, 1.9699999999999989, 2.0100000000000016, 1.6700000000000017, 1.4700000000000024, 0.6999999999999993, -0.25, -1.6699999999999982, -2.75, -3.59, -4.190000000000001, -4.470000000000001]\n"
     ]
    }
   ],
   "source": [
    "difference6_hol = []\n",
    "\n",
    "zip_object = zip(temp, temp_crn)\n",
    "for temp_i, temp_crn_i in zip_object:\n",
    "    difference6_hol.append(temp_i-temp_crn_i)\n",
    "\n",
    "print(difference6_hol)"
   ]
  },
  {
   "cell_type": "markdown",
   "id": "4753a3b0",
   "metadata": {},
   "source": [
    "<font size=\"3\">Newton, MS: 0600 UTC (12:00 am CST) 01 March 2022-0600 UTC (12:00 am CST) 02 March 2022</font>"
   ]
  },
  {
   "cell_type": "code",
   "execution_count": 187,
   "id": "68f58603",
   "metadata": {},
   "outputs": [
    {
     "name": "stdout",
     "output_type": "stream",
     "text": [
      "[16.06, 15.32, 14.48, 13.68, 12.85, 12.04, 11.45, 13.03, 15.85, 18.84, 21.68, 24.17, 25.9, 27.03, 27.75, 27.69, 27.15, 26.02, 24.37, 22.62, 20.16, 18.04, 16.3, 14.94, 13.73]\n"
     ]
    }
   ],
   "source": [
    "#1 hr hrrr:\n",
    "with open('hrrr_f01_Newton_MS.txt') as f:\n",
    "    lst=[line.split()[5] for line in f]\n",
    "    temp=[]\n",
    "    for i in lst:\n",
    "        new=i.replace(',',\"\")\n",
    "        temp.append(new)\n",
    "    temp.pop(0)\n",
    "    temp=[float(x) for x in temp]\n",
    "    temp=temp[2789:2814]\n",
    "    #temp=temp[2015:2063]\n",
    "    print(temp)\n",
    "    #print(len(temp))\n",
    "#full time period is [2015:2112]"
   ]
  },
  {
   "cell_type": "code",
   "execution_count": 188,
   "id": "4689695e",
   "metadata": {},
   "outputs": [
    {
     "name": "stdout",
     "output_type": "stream",
     "text": [
      "[19.0, 18.6, 18.3, 17.9, 17.4, 17.1, 16.8, 17.0, 17.6, 18.7, 20.3, 21.8, 23.1, 23.8, 24.1, 24.0, 23.5, 22.9, 22.1, 21.2, 20.4, 19.7, 19.0, 18.5, 18.1]\n"
     ]
    }
   ],
   "source": [
    "#Air Temp CRN:\n",
    "with open('CRNH0203-2022-MS_Newton_5_ENE.txt') as f:\n",
    "    lst=[line.split()[33] for line in f]\n",
    "    #print(lst)\n",
    "    temp_crn=[]\n",
    "    for i in lst:\n",
    "        new=i.replace(',',\"\")\n",
    "        temp_crn.append(new)\n",
    "    temp_crn=[float(x) for x in temp_crn]\n",
    "    temp_crn=temp_crn[2789:2814]\n",
    "    print(temp_crn)\n",
    "    #print(len(temp_crn))\n",
    "    # print(temp_crn[2124])"
   ]
  },
  {
   "cell_type": "code",
   "execution_count": 189,
   "id": "d00b8a13",
   "metadata": {},
   "outputs": [
    {
     "name": "stdout",
     "output_type": "stream",
     "text": [
      "[-2.9400000000000013, -3.280000000000001, -3.8200000000000003, -4.219999999999999, -4.549999999999999, -5.060000000000002, -5.350000000000001, -3.9700000000000006, -1.7500000000000018, 0.14000000000000057, 1.379999999999999, 2.370000000000001, 2.799999999999997, 3.2300000000000004, 3.6499999999999986, 3.6900000000000013, 3.6499999999999986, 3.120000000000001, 2.2699999999999996, 1.4200000000000017, -0.23999999999999844, -1.6600000000000001, -2.6999999999999993, -3.5600000000000005, -4.370000000000001]\n"
     ]
    }
   ],
   "source": [
    "difference6_new = []\n",
    "\n",
    "zip_object = zip(temp, temp_crn)\n",
    "for temp_i, temp_crn_i in zip_object:\n",
    "    difference6_new.append(temp_i-temp_crn_i)\n",
    "\n",
    "print(difference6_new)"
   ]
  },
  {
   "cell_type": "markdown",
   "id": "f6dc6918",
   "metadata": {},
   "source": [
    "<font size=\"3\">Gainesville, AL: 0600 UTC (12:00 am CST) 01 March 2022-0600 UTC (12:00 am CST) 02 March 2022</font>"
   ]
  },
  {
   "cell_type": "code",
   "execution_count": 190,
   "id": "853a5cd2",
   "metadata": {},
   "outputs": [],
   "source": [
    "# #1 hr hrrr:\n",
    "# with open('hrrr_f01_Gainesville_AL.txt') as f:\n",
    "#     lst=[line.split()[5] for line in f]\n",
    "#     temp=[]\n",
    "#     for i in lst:\n",
    "#         new=i.replace(',',\"\")\n",
    "#         temp.append(new)\n",
    "#     temp.pop(0)\n",
    "#     temp=[float(x) for x in temp]\n",
    "#     temp=temp[2789:2814]\n",
    "#     #temp=temp[2015:2063]\n",
    "#     print(temp)\n",
    "#     #print(len(temp))\n",
    "# #full time period is [2015:2112]"
   ]
  },
  {
   "cell_type": "code",
   "execution_count": 191,
   "id": "12cd5b43",
   "metadata": {},
   "outputs": [],
   "source": [
    "# #Air Temp CRN:\n",
    "# with open('CRNH0203-2022-AL_Gainesville_2_NE.txt') as f:\n",
    "#     lst=[line.split()[33] for line in f]\n",
    "#     #print(lst)\n",
    "#     temp_crn=[]\n",
    "#     for i in lst:\n",
    "#         new=i.replace(',',\"\")\n",
    "#         temp_crn.append(new)\n",
    "#     temp_crn=[float(x) for x in temp_crn]\n",
    "#     temp_crn=temp_crn[2789:2814]\n",
    "#     print(temp_crn)\n",
    "#     #print(len(temp_crn))\n",
    "#     # print(temp_crn[2124])"
   ]
  },
  {
   "cell_type": "code",
   "execution_count": 192,
   "id": "182dac80",
   "metadata": {},
   "outputs": [],
   "source": [
    "# difference6_gai = []\n",
    "\n",
    "# zip_object = zip(temp, temp_crn)\n",
    "# for temp_i, temp_crn_i in zip_object:\n",
    "#     difference6_gai.append(temp_i-temp_crn_i)\n",
    "\n",
    "# print(difference6_gai)"
   ]
  },
  {
   "cell_type": "markdown",
   "id": "dca2fd19",
   "metadata": {},
   "source": [
    "<font size=\"3\">Fairhope, AL: 0600 UTC (12:00 am CST) 01 March 2022-0600 UTC (12:00 am CST) 02 March 2022</font>"
   ]
  },
  {
   "cell_type": "code",
   "execution_count": 193,
   "id": "a7ac678b",
   "metadata": {},
   "outputs": [
    {
     "name": "stdout",
     "output_type": "stream",
     "text": [
      "[18.24, 17.59, 16.93, 16.43, 15.67, 15.02, 14.87, 16.38, 18.74, 21.3, 24.16, 26.61, 28.34, 29.58, 30.02, 29.71, 28.8, 27.45, 25.62, 23.78, 22.04, 20.77, 19.65, 18.6, 17.34]\n"
     ]
    }
   ],
   "source": [
    "#1 hr hrrr:\n",
    "with open('hrrr_f01_Fairhope_AL.txt') as f:\n",
    "    lst=[line.split()[5] for line in f]\n",
    "    temp=[]\n",
    "    for i in lst:\n",
    "        new=i.replace(',',\"\")\n",
    "        temp.append(new)\n",
    "    temp.pop(0)\n",
    "    temp=[float(x) for x in temp]\n",
    "    temp=temp[2789:2814]\n",
    "    #temp=temp[2015:2063]\n",
    "    print(temp)\n",
    "    #print(len(temp))\n",
    "#full time period is [2015:2112]"
   ]
  },
  {
   "cell_type": "code",
   "execution_count": 194,
   "id": "278d8179",
   "metadata": {},
   "outputs": [
    {
     "name": "stdout",
     "output_type": "stream",
     "text": [
      "[20.9, 20.7, 20.6, 20.5, 20.3, 20.2, 19.9, 19.8, 19.8, 20.0, 20.2, 20.4, 20.7, 21.2, 21.4, 21.6, 21.6, 21.6, 21.5, 21.3, 21.1, 20.7, 20.6, 20.3, 20.0]\n"
     ]
    }
   ],
   "source": [
    "#Air Temp CRN:\n",
    "with open('CRNH0203-2022-AL_Fairhope_3_NE.txt') as f:\n",
    "    lst=[line.split()[33] for line in f]\n",
    "    #print(lst)\n",
    "    temp_crn=[]\n",
    "    for i in lst:\n",
    "        new=i.replace(',',\"\")\n",
    "        temp_crn.append(new)\n",
    "    temp_crn=[float(x) for x in temp_crn]\n",
    "    temp_crn=temp_crn[2789:2814]\n",
    "    print(temp_crn)\n",
    "    #print(len(temp_crn))\n",
    "    # print(temp_crn[2124])"
   ]
  },
  {
   "cell_type": "code",
   "execution_count": 195,
   "id": "c79c3a66",
   "metadata": {},
   "outputs": [
    {
     "name": "stdout",
     "output_type": "stream",
     "text": [
      "[-2.66, -3.1099999999999994, -3.6700000000000017, -4.07, -4.630000000000001, -5.18, -5.029999999999999, -3.4200000000000017, -1.0600000000000023, 1.3000000000000007, 3.960000000000001, 6.210000000000001, 7.640000000000001, 8.379999999999999, 8.620000000000001, 8.11, 7.199999999999999, 5.849999999999998, 4.120000000000001, 2.4800000000000004, 0.9399999999999977, 0.07000000000000028, -0.9500000000000028, -1.6999999999999993, -2.66]\n"
     ]
    }
   ],
   "source": [
    "difference6_fai = []\n",
    "\n",
    "zip_object = zip(temp, temp_crn)\n",
    "for temp_i, temp_crn_i in zip_object:\n",
    "    difference6_fai.append(temp_i-temp_crn_i)\n",
    "\n",
    "print(difference6_fai)"
   ]
  },
  {
   "cell_type": "markdown",
   "id": "142d4e9c",
   "metadata": {},
   "source": [
    "<font size=\"3\">**Selma, AL: 0600 UTC (12:00 am CST) 01 March 2022-0600 UTC (12:00 am CST) 02 March 2022</font>"
   ]
  },
  {
   "cell_type": "code",
   "execution_count": 196,
   "id": "96d329b9",
   "metadata": {},
   "outputs": [
    {
     "name": "stdout",
     "output_type": "stream",
     "text": [
      "[13.33, 12.67, 11.87, 11.14, 10.49, 9.56, 9.54001, 11.53, 13.76, 16.16, 18.61, 20.7, 22.5, 24.03, 24.83, 25.05, 24.78, 23.93, 22.48, 20.45, 17.87, 15.81, 14.38, 13.15, 12.12]\n",
      "[18.7, 18.2, 17.8, 17.4, 17.1, 16.6, 16.3, 16.4, 16.7, 17.8, 19.2, 21.0, 22.7, 24.1, 24.8, 25.0, 24.8, 24.3, 23.3, 22.3, 21.4, 20.6, 19.9, 19.3, 18.7]\n",
      "[-5.369999999999999, -5.529999999999999, -5.9300000000000015, -6.259999999999998, -6.610000000000001, -7.040000000000001, -6.75999, -4.869999999999999, -2.9399999999999995, -1.6400000000000006, -0.5899999999999999, -0.3000000000000007, -0.1999999999999993, -0.07000000000000028, 0.029999999999997584, 0.05000000000000071, -0.019999999999999574, -0.370000000000001, -0.8200000000000003, -1.8500000000000014, -3.5299999999999976, -4.790000000000001, -5.519999999999998, -6.15, -6.58]\n"
     ]
    }
   ],
   "source": [
    "#1 hr hrrr:\n",
    "import numpy as np\n",
    "import numpy.ma as ma\n",
    "with open('hrrr_f01_Selma_AL.txt') as f:\n",
    "    lst=[line.split()[5] for line in f]\n",
    "    temp=[]\n",
    "    for i in lst:\n",
    "        new=i.replace(',',\"\")\n",
    "        temp.append(new)\n",
    "    temp.pop(0)\n",
    "    temp=[float(x) for x in temp]\n",
    "    temp=temp[2789:2814]\n",
    "\n",
    "#     x = np.array(temp)\n",
    "#     temp = ma.masked_array(x, mask=[0, 0, 0, 0, 0,0,0,0,0,0,0,0,0,0,0,0,0,1,1,1,1,0,0,0,0])\n",
    "    #print(temp)\n",
    "#Air Temp CRN:\n",
    "with open('CRNH0203-2022-AL_Selma_13_WNW.txt') as f:\n",
    "    lst=[line.split()[33] for line in f]\n",
    "    #print(lst)\n",
    "    temp_crn=[]\n",
    "    for i in lst:\n",
    "        new=i.replace(',',\"\")\n",
    "        temp_crn.append(new)\n",
    "    temp_crn=[float(x) for x in temp_crn]\n",
    "    temp_crn=temp_crn[2789:2814]\n",
    "#     y = np.array(temp_crn)\n",
    "#     temp_crn = ma.masked_array(y, mask=[0, 0, 0, 0, 0,0,0,0,0,0,0,0,0,0,0,0,0,1,1,1,1,0,0,0,0])\n",
    "    print(temp)\n",
    "    #print(len(temp))\n",
    "    print(temp_crn)\n",
    "    #print(len(temp_crn))\n",
    "#full time period is [2015:2112]\n",
    "difference6_sel = []\n",
    "\n",
    "zip_object = zip(temp, temp_crn)\n",
    "for temp_i, temp_crn_i in zip_object:\n",
    "    difference6_sel.append(temp_i-temp_crn_i)\n",
    "\n",
    "print(difference6_sel)\n",
    "#print(len(difference3_sel))"
   ]
  },
  {
   "cell_type": "markdown",
   "id": "36c4d6a8",
   "metadata": {},
   "source": [
    "<font size=\"3\">Bowling Green, KY: 0600 UTC (12:00 am CST) 01 March 2022-0600 UTC (12:00 am CST) 02 March 2022</font>"
   ]
  },
  {
   "cell_type": "code",
   "execution_count": 197,
   "id": "d83d7c4d",
   "metadata": {},
   "outputs": [
    {
     "name": "stdout",
     "output_type": "stream",
     "text": [
      "[9.32001, 8.42001, 7.48001, 6.64999, 6.07001, 5.32001, 5.55002, 8.30002, 11.48, 14.66, 17.59, 20.42, 22.48, 23.7, 24.29, 24.11, 23.49, 22.25, 20.64, 18.53, 16.53, 15.07, 14.01, 12.97, 12.28]\n"
     ]
    }
   ],
   "source": [
    "#1 hr hrrr:\n",
    "with open('hrrr_f01_Bowling Green_KY.txt') as f:\n",
    "    lst=[line.split()[5] for line in f]\n",
    "    temp=[]\n",
    "    for i in lst:\n",
    "        new=i.replace(',',\"\")\n",
    "        temp.append(new)\n",
    "    temp.pop(0)\n",
    "    temp=[float(x) for x in temp]\n",
    "    temp=temp[2789:2814]\n",
    "    #temp=temp[2015:2063]\n",
    "    print(temp)\n",
    "    #print(len(temp))\n",
    "#full time period is [2015:2112]"
   ]
  },
  {
   "cell_type": "code",
   "execution_count": 198,
   "id": "8f795cb5",
   "metadata": {},
   "outputs": [
    {
     "name": "stdout",
     "output_type": "stream",
     "text": [
      "[13.1, 12.7, 12.3, 11.9, 11.6, 11.3, 11.0, 11.2, 11.8, 12.8, 14.2, 15.7, 17.1, 18.3, 19.0, 19.2, 19.1, 18.5, 17.7, 16.8, 16.0, 15.3, 14.8, 14.3, 14.0]\n"
     ]
    }
   ],
   "source": [
    "#Air Temp CRN:\n",
    "with open('CRNH0203-2022-KY_Bowling_Green_21_NNE.txt') as f:\n",
    "    lst=[line.split()[33] for line in f]\n",
    "    #print(lst)\n",
    "    temp_crn=[]\n",
    "    for i in lst:\n",
    "        new=i.replace(',',\"\")\n",
    "        temp_crn.append(new)\n",
    "    temp_crn=[float(x) for x in temp_crn]\n",
    "    temp_crn=temp_crn[2789:2814]\n",
    "    print(temp_crn)\n",
    "    #print(len(temp_crn))\n",
    "    # print(temp_crn[2124])"
   ]
  },
  {
   "cell_type": "code",
   "execution_count": 199,
   "id": "e091d5ac",
   "metadata": {},
   "outputs": [
    {
     "name": "stdout",
     "output_type": "stream",
     "text": [
      "[-3.7799899999999997, -4.27999, -4.819990000000001, -5.2500100000000005, -5.52999, -5.979990000000001, -5.44998, -2.8999799999999993, -0.3200000000000003, 1.8599999999999994, 3.3900000000000006, 4.720000000000002, 5.379999999999999, 5.399999999999999, 5.289999999999999, 4.91, 4.389999999999997, 3.75, 2.9400000000000013, 1.7300000000000004, 0.5300000000000011, -0.23000000000000043, -0.7900000000000009, -1.33, -1.7200000000000006]\n"
     ]
    }
   ],
   "source": [
    "difference6_bow = []\n",
    "\n",
    "zip_object = zip(temp, temp_crn)\n",
    "for temp_i, temp_crn_i in zip_object:\n",
    "    difference6_bow.append(temp_i-temp_crn_i)\n",
    "\n",
    "print(difference6_bow)"
   ]
  },
  {
   "cell_type": "markdown",
   "id": "f806c48f",
   "metadata": {},
   "source": [
    "<font size=\"3\">Gadsden, AL: 0600 UTC (12:00 am CST) 01 March 2022-0600 UTC (12:00 am CST) 02 March 2022</font>"
   ]
  },
  {
   "cell_type": "code",
   "execution_count": 200,
   "id": "8d69cb25",
   "metadata": {},
   "outputs": [
    {
     "name": "stdout",
     "output_type": "stream",
     "text": [
      "[10.92, 10.17, 9.42001, 8.88, 8.39001, 7.89999, 8.12, 9.84, 12.0, 14.64, 17.28, 19.78, 21.57, 22.8, 23.47, 23.31, 22.85, 21.62, 20.06, 18.28, 16.66, 14.65, 13.06, 11.72, 10.48]\n"
     ]
    }
   ],
   "source": [
    "#1 hr hrrr:\n",
    "with open('hrrr_f01_Gadsden_AL.txt') as f:\n",
    "    lst=[line.split()[5] for line in f]\n",
    "    temp=[]\n",
    "    for i in lst:\n",
    "        new=i.replace(',',\"\")\n",
    "        temp.append(new)\n",
    "    temp.pop(0)\n",
    "    temp=[float(x) for x in temp]\n",
    "    temp=temp[2789:2814]\n",
    "#     x = np.array(temp)\n",
    "#     temp = ma.masked_array(x, mask=[0, 0, 0, 0, 0,0,0,0,1,0,0,0,0,0,0,0,0,0,0,0,0,0,0,0,0])\n",
    "    #temp=temp[2015:2063]\n",
    "    print(temp)\n",
    "    #print(len(temp))\n",
    "#full time period is [2015:2112]"
   ]
  },
  {
   "cell_type": "code",
   "execution_count": 201,
   "id": "b2389c35",
   "metadata": {},
   "outputs": [
    {
     "name": "stdout",
     "output_type": "stream",
     "text": [
      "[16.8, 16.4, 16.0, 15.6, 15.3, 14.9, 14.6, 14.6, 15.1, 15.7, 16.9, 18.1, 19.3, 20.3, 20.9, 21.1, 20.8, 20.5, 19.9, 19.2, 18.6, 18.1, 17.5, 17.0, 16.6]\n"
     ]
    }
   ],
   "source": [
    "#Air Temp CRN:\n",
    "with open('CRNH0203-2022-AL_Gadsden_19_N.txt') as f:\n",
    "    lst=[line.split()[33] for line in f]\n",
    "    #print(lst)\n",
    "    temp_crn=[]\n",
    "    for i in lst:\n",
    "        new=i.replace(',',\"\")\n",
    "        temp_crn.append(new)\n",
    "    temp_crn=[float(x) for x in temp_crn]\n",
    "    temp_crn=temp_crn[2789:2814]\n",
    "#     y = np.array(temp_crn)\n",
    "#     temp_crn = ma.masked_array(y, mask=[0, 0, 0, 0, 0,0,0,0,1,0,0,0,0,0,0,0,0,0,0,0,0,0,0,0,0])\n",
    "    print(temp_crn)\n",
    "    #print(len(temp_crn))\n",
    "    # print(temp_crn[2124])"
   ]
  },
  {
   "cell_type": "code",
   "execution_count": 202,
   "id": "8b6d3e05",
   "metadata": {},
   "outputs": [
    {
     "name": "stdout",
     "output_type": "stream",
     "text": [
      "[-5.880000000000001, -6.229999999999999, -6.5799900000000004, -6.719999999999999, -6.9099900000000005, -7.0000100000000005, -6.48, -4.76, -3.0999999999999996, -1.0599999999999987, 0.38000000000000256, 1.6799999999999997, 2.2699999999999996, 2.5, 2.5700000000000003, 2.2099999999999973, 2.0500000000000007, 1.120000000000001, 0.16000000000000014, -0.9199999999999982, -1.9400000000000013, -3.450000000000001, -4.4399999999999995, -5.279999999999999, -6.120000000000001]\n"
     ]
    }
   ],
   "source": [
    "difference6_gad = []\n",
    "\n",
    "zip_object = zip(temp, temp_crn)\n",
    "for temp_i, temp_crn_i in zip_object:\n",
    "    difference6_gad.append(temp_i-temp_crn_i)\n",
    "\n",
    "print(difference6_gad)"
   ]
  },
  {
   "cell_type": "markdown",
   "id": "a0cf3d12",
   "metadata": {},
   "source": [
    "<font size=\"3\">Newton, GA: 0600 UTC (12:00 am CST) 01 March 2022-0600 UTC (12:00 am CST) 02 March 2022</font>"
   ]
  },
  {
   "cell_type": "code",
   "execution_count": 203,
   "id": "3fd04e58",
   "metadata": {},
   "outputs": [
    {
     "name": "stdout",
     "output_type": "stream",
     "text": [
      "[20.72, 19.76, 19.17, 18.55, 17.92, 17.12, 16.81, 18.17, 20.25, 22.73, 25.31, 27.58, 29.34, 30.46, 30.88, 30.78, 30.08, 28.57, 26.68, 24.62, 22.71, 21.27, 20.33, 19.24, 18.32]\n"
     ]
    }
   ],
   "source": [
    "#1 hr hrrr:\n",
    "with open('hrrr_f01_Newton_GA.txt') as f:\n",
    "    lst=[line.split()[5] for line in f]\n",
    "    temp=[]\n",
    "    for i in lst:\n",
    "        new=i.replace(',',\"\")\n",
    "        temp.append(new)\n",
    "    temp.pop(0)\n",
    "    temp=[float(x) for x in temp]\n",
    "    temp=temp[2789:2814]\n",
    "    #temp=temp[2015:2063]\n",
    "    print(temp)\n",
    "    #print(len(temp))\n",
    "#full time period is [2015:2112]"
   ]
  },
  {
   "cell_type": "code",
   "execution_count": 204,
   "id": "727d988e",
   "metadata": {},
   "outputs": [
    {
     "name": "stdout",
     "output_type": "stream",
     "text": [
      "[23.6, 23.2, 22.8, 22.5, 22.2, 21.9, 21.6, 21.7, 22.2, 23.2, 24.4, 25.8, 27.0, 27.9, 28.2, 28.1, 27.7, 27.0, 26.2, 25.3, 24.5, 23.9, 23.4, 23.0, 22.6]\n"
     ]
    }
   ],
   "source": [
    "#Air Temp CRN:\n",
    "with open('CRNH0203-2022-GA_Newton_11_SW.txt') as f:\n",
    "    lst=[line.split()[33] for line in f]\n",
    "    #print(lst)\n",
    "    temp_crn=[]\n",
    "    for i in lst:\n",
    "        new=i.replace(',',\"\")\n",
    "        temp_crn.append(new)\n",
    "    temp_crn=[float(x) for x in temp_crn]\n",
    "    temp_crn=temp_crn[2789:2814]\n",
    "    print(temp_crn)\n",
    "    #print(len(temp_crn))\n",
    "    # print(temp_crn[2124])"
   ]
  },
  {
   "cell_type": "code",
   "execution_count": 205,
   "id": "53f1a23a",
   "metadata": {},
   "outputs": [
    {
     "name": "stdout",
     "output_type": "stream",
     "text": [
      "[-2.8800000000000026, -3.4399999999999977, -3.629999999999999, -3.9499999999999993, -4.279999999999998, -4.779999999999998, -4.790000000000003, -3.5299999999999976, -1.9499999999999993, -0.46999999999999886, 0.9100000000000001, 1.7799999999999976, 2.34, 2.5600000000000023, 2.6799999999999997, 2.6799999999999997, 2.379999999999999, 1.5700000000000003, 0.4800000000000004, -0.6799999999999997, -1.7899999999999991, -2.629999999999999, -3.0700000000000003, -3.7600000000000016, -4.280000000000001]\n"
     ]
    }
   ],
   "source": [
    "difference6_newt = []\n",
    "\n",
    "zip_object = zip(temp, temp_crn)\n",
    "for temp_i, temp_crn_i in zip_object:\n",
    "    difference6_newt.append(temp_i-temp_crn_i)\n",
    "\n",
    "print(difference6_newt)"
   ]
  },
  {
   "cell_type": "code",
   "execution_count": 206,
   "id": "8a134c48",
   "metadata": {},
   "outputs": [
    {
     "name": "stdout",
     "output_type": "stream",
     "text": [
      "25\n"
     ]
    }
   ],
   "source": [
    "hour=[6,7,8,9,10,11,12,13,14,15,16,17,18,19,20,21,22,23,0,1,2,3,4,5,6]\n",
    "print(len(hour))"
   ]
  },
  {
   "cell_type": "code",
   "execution_count": 207,
   "id": "45def68f",
   "metadata": {},
   "outputs": [
    {
     "name": "stdout",
     "output_type": "stream",
     "text": [
      "range(0, 25)\n"
     ]
    }
   ],
   "source": [
    "xs = range(len(hour))\n",
    "print(xs)"
   ]
  },
  {
   "cell_type": "code",
   "execution_count": 208,
   "id": "d5fd370b",
   "metadata": {},
   "outputs": [
    {
     "name": "stdout",
     "output_type": "stream",
     "text": [
      "[-2.68635545 -3.13363    -3.38817727 -3.72545273 -4.19362636 -4.37363\n",
      " -4.537269   -4.47908818 -2.754993    0.03182091  2.71273     4.73727273\n",
      "  6.09181818  7.25545455  7.95545455  8.00090909  7.60454545  6.72181818\n",
      "  5.20818182  3.68363636  2.26272727  0.920001    0.28545818 -0.38363455\n",
      " -1.04090455]\n",
      "[2.28199268 2.26215924 2.25478103 2.22315054 2.21433647 2.11611723\n",
      " 2.12660975 2.13449729 1.93482341 1.7806189  1.70192786 1.72500904\n",
      " 1.88133327 2.1444574  2.42279464 2.60379951 2.6966692  2.76112236\n",
      " 2.82636554 2.92701608 3.10169482 3.24442542 3.23073177 3.25817681\n",
      " 3.25815719]\n"
     ]
    },
    {
     "name": "stderr",
     "output_type": "stream",
     "text": [
      "C:\\Users\\panwalaf\\AppData\\Local\\Temp\\ipykernel_20328\\343672783.py:1: UserWarning: Warning: converting a masked element to nan.\n",
      "  c1 = np.array([difference1_sal,difference1_bat,difference1_laf,difference1_mon,difference1_hol,difference1_new,difference1_fai,difference1_sel,difference1_bow,difference1_gad,difference1_newt])\n",
      "C:\\Users\\panwalaf\\AppData\\Local\\Temp\\ipykernel_20328\\343672783.py:6: UserWarning: Warning: converting a masked element to nan.\n",
      "  b1 = np.array([difference1_sal,difference1_bat,difference1_laf,difference1_mon,difference1_hol,difference1_new,difference1_fai,difference1_sel,difference1_bow,difference1_gad,difference1_newt])\n"
     ]
    },
    {
     "data": {
      "text/plain": [
       "25"
      ]
     },
     "execution_count": 208,
     "metadata": {},
     "output_type": "execute_result"
    }
   ],
   "source": [
    "c1 = np.array([difference1_sal,difference1_bat,difference1_laf,difference1_mon,difference1_hol,difference1_new,difference1_fai,difference1_sel,difference1_bow,difference1_gad,difference1_newt])\n",
    "c1=np.nanmean(c1, axis=0)\n",
    "print(c1)\n",
    "len(c1)\n",
    "\n",
    "b1 = np.array([difference1_sal,difference1_bat,difference1_laf,difference1_mon,difference1_hol,difference1_new,difference1_fai,difference1_sel,difference1_bow,difference1_gad,difference1_newt])\n",
    "b1=np.nanstd(b1, axis=0)\n",
    "print(b1)\n",
    "len(b1)"
   ]
  },
  {
   "cell_type": "code",
   "execution_count": 209,
   "id": "7d6e3e43",
   "metadata": {},
   "outputs": [
    {
     "data": {
      "image/png": "[encoded data removed]",
      "text/plain": [
       "<Figure size 792x396 with 1 Axes>"
      ]
     },
     "metadata": {},
     "output_type": "display_data"
    }
   ],
   "source": [
    "plt.style.use('seaborn-whitegrid')\n",
    "plt.rcParams[\"figure.figsize\"] = [11.00, 5.50]\n",
    "plt.rcParams[\"figure.autolayout\"] = True\n",
    "plt.yticks(np.arange(-12,14,2))\n",
    "plt.ylim(-12,12)\n",
    "# c[6]=None\n",
    "# b[6]=None\n",
    "\n",
    "plt.plot(xs,c1,c=\"b\")\n",
    "plt.errorbar(xs,c1,c=\"b\",yerr=b1,linestyle='None', marker='s')\n",
    "# c[6]=None\n",
    "# b[6]=None\n",
    "\n",
    "plt.title(\"1-hr Avg. MBE All Stations\")\n",
    "plt.xlabel(\"UTC Hour\")\n",
    "plt.ylabel(\"MBE Soil Temperature (C)\")\n",
    "#plt.plot(hour,c)\n",
    "#plt.errorbar(hour,c,yerr=b,ecolor='r',elinewidth=5,fmt='s',color='k')\n",
    "#plt.grid()\n",
    "#plt.xticks(np.arange(min(xs), max(xs)+1, 1.0))\n",
    "plt.xticks(xs, hour)\n",
    "plt.show()\n",
    "#plt.axvspan(-4, 4, color='green', alpha=0.2, lw=0)"
   ]
  },
  {
   "cell_type": "code",
   "execution_count": 210,
   "id": "3931d44b",
   "metadata": {},
   "outputs": [
    {
     "name": "stdout",
     "output_type": "stream",
     "text": [
      "[-6.47635918 -6.70999173 -6.76453945 -6.66453982 -6.83545    -7.16181555\n",
      " -7.10999318 -6.69635645 -5.25454327 -3.05271727 -0.85454     1.16\n",
      "  2.61181818  3.51909091  4.01454545  4.10909091  3.76727273  3.03636364\n",
      "  1.59636636  0.32091091 -0.78091    -1.54635909 -2.11908818 -2.49363273\n",
      " -2.86817364]\n",
      "[2.26396112 2.41890946 2.59303337 2.63922421 2.77173149 2.8378951\n",
      " 2.97708071 2.73736299 2.41899345 2.33083945 2.46679047 2.6224585\n",
      " 2.74947869 2.76257276 2.69359632 2.62561665 2.53801673 2.68427838\n",
      " 2.76929185 2.92430759 3.09373075 3.28580301 3.42896025 3.51710361\n",
      " 3.56042648]\n"
     ]
    },
    {
     "data": {
      "text/plain": [
       "25"
      ]
     },
     "execution_count": 210,
     "metadata": {},
     "output_type": "execute_result"
    }
   ],
   "source": [
    "c2 = np.array([difference2_sal,difference2_bat,difference2_laf,difference2_mon,difference2_hol,difference2_new,difference2_fai,difference2_sel,difference2_bow,difference2_gad,difference2_newt])\n",
    "c2=np.nanmean(c2, axis=0)\n",
    "print(c2)\n",
    "len(c2)\n",
    "\n",
    "b2 = np.array([difference2_sal,difference2_bat,difference2_laf,difference2_mon,difference2_hol,difference2_new,difference2_fai,difference2_sel,difference2_bow,difference2_gad,difference2_newt])\n",
    "b2=np.nanstd(b2, axis=0)\n",
    "print(b2)\n",
    "len(b2)"
   ]
  },
  {
   "cell_type": "code",
   "execution_count": 211,
   "id": "4c8ac8a3",
   "metadata": {},
   "outputs": [
    {
     "data": {
      "image/png": "[encoded data removed]",
      "text/plain": [
       "<Figure size 792x396 with 1 Axes>"
      ]
     },
     "metadata": {},
     "output_type": "display_data"
    }
   ],
   "source": [
    "plt.style.use('seaborn-whitegrid')\n",
    "plt.rcParams[\"figure.figsize\"] = [11.00, 5.50]\n",
    "plt.yticks(np.arange(-12,14,2))\n",
    "plt.ylim(-12,12)\n",
    "# c[6]=None\n",
    "# b[6]=None\n",
    "\n",
    "plt.plot(xs,c2,c=\"red\")\n",
    "plt.errorbar(xs,c2,c=\"red\",yerr=b1,linestyle='None', marker='s')\n",
    "# c[6]=None\n",
    "# b[6]=None\n",
    "\n",
    "plt.title(\"1-hr Avg. MBE All Stations\")\n",
    "plt.xlabel(\"UTC Hour\")\n",
    "plt.ylabel(\"MBE Soil Temperature (C)\")\n",
    "#plt.plot(hour,c)\n",
    "#plt.errorbar(hour,c,yerr=b,ecolor='r',elinewidth=5,fmt='s',color='k')\n",
    "#plt.grid()\n",
    "#plt.xticks(np.arange(min(xs), max(xs)+1, 1.0))\n",
    "plt.xticks(xs, hour)\n",
    "plt.show()\n",
    "#plt.axvspan(-4, 4, color='green', alpha=0.2, lw=0)"
   ]
  },
  {
   "cell_type": "code",
   "execution_count": 212,
   "id": "e7aee5e0",
   "metadata": {},
   "outputs": [
    {
     "name": "stdout",
     "output_type": "stream",
     "text": [
      "[-3.12817545 -3.56636    -4.04636182 -4.49817455 -4.87       -5.34089909\n",
      " -5.57       -5.03272091 -2.69544636  0.23000091  2.56        4.36636364\n",
      "  5.91636364  6.87090909  7.33090909  7.40090909  6.96        6.13363636\n",
      "  4.67272727  3.19363636  1.71545455  0.58545455 -0.34999818 -1.01545273\n",
      " -1.56999818]\n",
      "[1.0102645  0.95400451 1.02247681 1.07756265 1.10096052 1.02255912\n",
      " 1.03158252 0.83947121 0.92493369 1.23930924 1.73500327 2.17539243\n",
      " 2.59849352 2.73637934 2.46973482 2.2855294  2.08050256 2.00047391\n",
      " 1.91902954 1.81831727 1.96490742 2.22693986 2.38620569 2.48087896\n",
      " 2.56315961]\n"
     ]
    },
    {
     "data": {
      "text/plain": [
       "25"
      ]
     },
     "execution_count": 212,
     "metadata": {},
     "output_type": "execute_result"
    }
   ],
   "source": [
    "c3 = np.array([difference3_sal,difference3_bat,difference3_laf,difference3_mon,difference3_hol,difference3_new,difference3_fai,difference3_sel,difference3_bow,difference3_gad,difference3_newt])\n",
    "c3=np.nanmean(c3, axis=0)\n",
    "print(c3)\n",
    "len(c3)\n",
    "\n",
    "b3 = np.array([difference3_sal,difference3_bat,difference3_laf,difference3_mon,difference3_hol,difference3_new,difference3_fai,difference3_sel,difference3_bow,difference3_gad,difference3_newt])\n",
    "b3=np.nanstd(b3, axis=0)\n",
    "print(b3)\n",
    "len(b3)"
   ]
  },
  {
   "cell_type": "code",
   "execution_count": 213,
   "id": "0d8bef30",
   "metadata": {
    "scrolled": false
   },
   "outputs": [],
   "source": [
    "# def mean(numbers):\n",
    "#     return float(sum(numbers)) / max(len(numbers), 1)\n",
    "\n",
    "# # difference1_sel[17]=0\n",
    "# # difference1_sel[18]=0\n",
    "# # difference1_sel[19]=0\n",
    "# # difference1_sel[20]=0\n",
    "# c3 = [mean(i) for i in zip(difference3_sal,difference3_bat,difference3_laf,difference3_mon,difference3_hol,difference3_new,difference3_gai,difference3_fai,difference3_sel,difference3_bow,difference3_gad,difference3_newt)]\n",
    "# #difference1_bow[6]=0\n",
    "# b3 = [np.std(i) for i in zip(difference3_sal,difference3_bat,difference3_laf,difference3_mon,difference3_hol,difference3_new,difference3_gai,difference3_fai,difference3_sel,difference3_bow,difference3_gad,difference3_newt)]\n",
    "# print (c3)\n",
    "# print(len(c3))\n",
    "# print(b3)\n",
    "# print(len(b3))"
   ]
  },
  {
   "cell_type": "code",
   "execution_count": 214,
   "id": "00a5e783",
   "metadata": {},
   "outputs": [
    {
     "data": {
      "image/png": "[encoded data removed]",
      "text/plain": [
       "<Figure size 792x396 with 1 Axes>"
      ]
     },
     "metadata": {},
     "output_type": "display_data"
    }
   ],
   "source": [
    "plt.style.use('seaborn-whitegrid')\n",
    "plt.rcParams[\"figure.figsize\"] = [11.00, 5.50]\n",
    "plt.rcParams[\"figure.autolayout\"] = True\n",
    "plt.yticks(np.arange(-12,14,2))\n",
    "plt.ylim(-12,12)\n",
    "# c[6]=None\n",
    "# b[6]=None\n",
    "\n",
    "plt.plot(xs,c3,c=\"green\")\n",
    "plt.errorbar(xs,c3,c=\"green\",yerr=b3,linestyle='None', marker='s')\n",
    "# c[6]=None\n",
    "# b[6]=None\n",
    "\n",
    "plt.title(\"1-hr Avg. MBE All Stations\")\n",
    "plt.xlabel(\"UTC Hour\")\n",
    "plt.ylabel(\"MBE Soil Temperature (C)\")\n",
    "#plt.plot(hour,c)\n",
    "#plt.errorbar(hour,c,yerr=b,ecolor='r',elinewidth=5,fmt='s',color='k')\n",
    "#plt.grid()\n",
    "#plt.xticks(np.arange(min(xs), max(xs)+1, 1.0))\n",
    "plt.xticks(xs, hour)\n",
    "plt.show()\n",
    "#plt.axvspan(-4, 4, color='green', alpha=0.2, lw=0)"
   ]
  },
  {
   "cell_type": "code",
   "execution_count": 215,
   "id": "b2d7f7dd",
   "metadata": {},
   "outputs": [
    {
     "name": "stdout",
     "output_type": "stream",
     "text": [
      "[-2.23636545 -2.78363273 -3.25454273 -3.46       -3.74545091 -4.11363636\n",
      " -4.29635818 -3.30726909 -0.71636273  1.69091091  3.46        4.60727273\n",
      "  5.47        6.08272727  6.41090909  6.39454545  6.04727273  5.33363636\n",
      "  4.10909091  2.63454545  1.33545455  0.30818182 -0.47272636 -1.07727364\n",
      " -1.60272545]\n",
      "[1.98023131 1.85536929 1.74565357 1.6061448  1.48016416 1.3465041\n",
      " 1.26329649 1.07043787 0.91398533 1.23332198 1.77293286 2.23355441\n",
      " 2.52706801 2.57813566 2.56887473 2.47766152 2.34594075 2.15570395\n",
      " 2.00664557 1.80612777 1.86429301 2.09310478 2.27290781 2.35462936\n",
      " 2.48468704]\n"
     ]
    },
    {
     "data": {
      "text/plain": [
       "25"
      ]
     },
     "execution_count": 215,
     "metadata": {},
     "output_type": "execute_result"
    }
   ],
   "source": [
    "c4 = np.array([difference4_sal,difference4_bat,difference4_laf,difference4_mon,difference4_hol,difference4_new,difference4_fai,difference4_sel,difference4_bow,difference4_gad,difference4_newt])\n",
    "c4=np.nanmean(c4, axis=0)\n",
    "print(c4)\n",
    "len(c4)\n",
    "\n",
    "b4 = np.array([difference4_sal,difference4_bat,difference4_laf,difference4_mon,difference4_hol,difference4_new,difference4_fai,difference4_sel,difference4_bow,difference4_gad,difference4_newt])\n",
    "b4=np.nanstd(b4, axis=0)\n",
    "print(b4)\n",
    "len(b4)"
   ]
  },
  {
   "cell_type": "code",
   "execution_count": 216,
   "id": "b1774c6c",
   "metadata": {
    "scrolled": false
   },
   "outputs": [],
   "source": [
    "# def mean(numbers):\n",
    "#     return float(sum(numbers)) / max(len(numbers), 1)\n",
    "\n",
    "# # difference1_sel[17]=0\n",
    "# # difference1_sel[18]=0\n",
    "# # difference1_sel[19]=0\n",
    "# # difference1_sel[20]=0\n",
    "# c4 = [mean(i) for i in zip(difference4_sal,difference4_bat,difference4_laf,difference4_mon,difference4_hol,difference4_new,difference4_gai,difference4_fai,difference4_sel,difference4_bow,difference4_gad,difference4_newt)]\n",
    "# #difference1_bow[6]=0\n",
    "# b4 = [np.std(i) for i in zip(difference4_sal,difference4_bat,difference4_laf,difference4_mon,difference4_hol,difference4_new,difference4_gai,difference4_fai,difference4_sel,difference4_bow,difference4_gad,difference4_newt)]\n",
    "# print (c4)\n",
    "# print(len(c4))\n",
    "# print(b4)\n",
    "# print(len(b4))"
   ]
  },
  {
   "cell_type": "code",
   "execution_count": 217,
   "id": "e70a6cef",
   "metadata": {},
   "outputs": [
    {
     "data": {
      "image/png": "[encoded data removed]",
      "text/plain": [
       "<Figure size 792x396 with 1 Axes>"
      ]
     },
     "metadata": {},
     "output_type": "display_data"
    }
   ],
   "source": [
    "plt.style.use('seaborn-whitegrid')\n",
    "plt.rcParams[\"figure.figsize\"] = [11.00, 5.50]\n",
    "plt.rcParams[\"figure.autolayout\"] = True\n",
    "plt.yticks(np.arange(-12,14,2))\n",
    "plt.ylim(-12,12)\n",
    "# c[6]=None\n",
    "# b[6]=None\n",
    "\n",
    "plt.plot(xs,c4,c=\"orange\")\n",
    "plt.errorbar(xs,c4,c=\"orange\",yerr=b4,linestyle='None', marker='s')\n",
    "# c[6]=None\n",
    "# b[6]=None\n",
    "\n",
    "plt.title(\"1-hr Avg. MBE All Stations\")\n",
    "plt.xlabel(\"UTC Hour\")\n",
    "plt.ylabel(\"MBE Soil Temperature (C)\")\n",
    "#plt.plot(hour,c)\n",
    "#plt.errorbar(hour,c,yerr=b,ecolor='r',elinewidth=5,fmt='s',color='k')\n",
    "#plt.grid()\n",
    "#plt.xticks(np.arange(min(xs), max(xs)+1, 1.0))\n",
    "plt.xticks(xs, hour)\n",
    "plt.show()\n",
    "#plt.axvspan(-4, 4, color='green', alpha=0.2, lw=0)"
   ]
  },
  {
   "cell_type": "code",
   "execution_count": 218,
   "id": "9d950af1",
   "metadata": {},
   "outputs": [
    {
     "name": "stdout",
     "output_type": "stream",
     "text": [
      "[-4.20908545 -4.52817818 -4.86454636 -5.16727273 -5.44272455 -5.72544818\n",
      " -5.91181364 -4.68454091 -2.81999364 -1.21181727  0.05999909  1.31454545\n",
      "  2.21818182  2.74090909  2.92727273  2.75        2.40454545  1.69636364\n",
      "  0.76       -0.51727273 -1.81909091 -2.80727273 -3.45636182 -3.86817818\n",
      " -4.11363455]\n",
      "[1.07259398 1.00011723 0.92819813 0.87171815 0.85191148 0.86548542\n",
      " 0.88406582 0.8770882  0.84502981 1.0900118  1.47910246 1.84440857\n",
      " 2.07297247 2.16486596 2.22232921 2.17467239 1.98923176 1.70772189\n",
      " 1.58350015 1.583759   1.78939022 2.01481373 2.12240598 2.21982186\n",
      " 2.26381206]\n"
     ]
    },
    {
     "data": {
      "text/plain": [
       "25"
      ]
     },
     "execution_count": 218,
     "metadata": {},
     "output_type": "execute_result"
    }
   ],
   "source": [
    "# data = np.array([difference1_sal,difference1_sel,difference1_mon])\n",
    "# np.ma.average(data, axis=0)\n",
    "c5 = np.array([difference5_sal,difference5_bat,difference5_laf,difference5_mon,difference5_hol,difference5_new,difference5_fai,difference5_sel,difference5_bow,difference5_gad,difference5_newt])\n",
    "c5=np.nanmean(c5, axis=0)\n",
    "print(c5)\n",
    "len(c5)\n",
    "\n",
    "b5 = np.array([difference5_sal,difference5_bat,difference5_laf,difference5_mon,difference5_hol,difference5_new,difference5_fai,difference5_sel,difference5_bow,difference5_gad,difference5_newt])\n",
    "b5=np.nanstd(b5, axis=0)\n",
    "print(b5)\n",
    "len(b5)"
   ]
  },
  {
   "cell_type": "code",
   "execution_count": 219,
   "id": "ccd6d564",
   "metadata": {},
   "outputs": [
    {
     "data": {
      "image/png": "[encoded data removed]",
      "text/plain": [
       "<Figure size 792x396 with 1 Axes>"
      ]
     },
     "metadata": {},
     "output_type": "display_data"
    }
   ],
   "source": [
    "plt.style.use('seaborn-whitegrid')\n",
    "plt.rcParams[\"figure.figsize\"] = [11.00, 5.50]\n",
    "plt.rcParams[\"figure.autolayout\"] = True\n",
    "plt.yticks(np.arange(-12,14,2))\n",
    "plt.ylim(-12,12)\n",
    "# c[6]=None\n",
    "# b[6]=None\n",
    "\n",
    "plt.plot(xs,c5,c=\"m\")\n",
    "plt.errorbar(xs,c5,c=\"m\",yerr=b1,linestyle='None', marker='s')\n",
    "# c[6]=None\n",
    "# b[6]=None\n",
    "\n",
    "plt.title(\"1-hr Avg. MBE All Stations\")\n",
    "plt.xlabel(\"UTC Hour\")\n",
    "plt.ylabel(\"MBE Soil Temperature (C)\")\n",
    "#plt.plot(hour,c)\n",
    "#plt.errorbar(hour,c,yerr=b,ecolor='r',elinewidth=5,fmt='s',color='k')\n",
    "#plt.grid()\n",
    "#plt.xticks(np.arange(min(xs), max(xs)+1, 1.0))\n",
    "plt.xticks(xs, hour)\n",
    "plt.show()\n",
    "#plt.axvspan(-4, 4, color='green', alpha=0.2, lw=0)"
   ]
  },
  {
   "cell_type": "code",
   "execution_count": 220,
   "id": "6a1cf932",
   "metadata": {},
   "outputs": [
    {
     "name": "stdout",
     "output_type": "stream",
     "text": [
      "[-4.00909    -4.41726818 -4.83272364 -5.16909182 -5.51363091 -5.90181545\n",
      " -5.78726818 -4.18454    -2.05181818 -0.07818182  1.48818182  2.82\n",
      "  3.75454545  4.28272727  4.51909091  4.38909091  4.06727273  3.37636364\n",
      "  2.38909091  1.07363636 -0.30909091 -1.39       -2.20272727 -2.86818182\n",
      " -3.48818182]\n",
      "[1.61020313 1.5186943  1.44600474 1.3626094  1.313046   1.29314927\n",
      " 1.24265228 1.23905391 1.36668689 1.62109289 1.96253926 2.36381048\n",
      " 2.61869629 2.690296   2.69521615 2.55379737 2.39945104 2.23307482\n",
      " 2.00570756 1.78881511 1.85109528 2.06783594 2.16545645 2.30206555\n",
      " 2.35624439]\n"
     ]
    },
    {
     "data": {
      "text/plain": [
       "25"
      ]
     },
     "execution_count": 220,
     "metadata": {},
     "output_type": "execute_result"
    }
   ],
   "source": [
    "# data = np.array([difference1_sal,difference1_sel,difference1_mon])\n",
    "# np.ma.average(data, axis=0)\n",
    "c6 = np.array([difference6_sal,difference6_bat,difference6_laf,difference6_mon,difference6_hol,difference6_new,difference6_fai,difference6_sel,difference6_bow,difference6_gad,difference6_newt])\n",
    "c6=np.nanmean(c6, axis=0)\n",
    "print(c6)\n",
    "len(c6)\n",
    "\n",
    "b6 = np.array([difference6_sal,difference6_bat,difference6_laf,difference6_mon,difference6_hol,difference6_new,difference6_fai,difference6_sel,difference6_bow,difference6_gad,difference6_newt])\n",
    "b6=np.nanstd(b6, axis=0)\n",
    "print(b6)\n",
    "len(b6)"
   ]
  },
  {
   "cell_type": "code",
   "execution_count": 221,
   "id": "11ff266d",
   "metadata": {},
   "outputs": [
    {
     "data": {
      "image/png": "[encoded data removed]",
      "text/plain": [
       "<Figure size 792x396 with 1 Axes>"
      ]
     },
     "metadata": {},
     "output_type": "display_data"
    }
   ],
   "source": [
    "plt.style.use('seaborn-whitegrid')\n",
    "plt.rcParams[\"figure.figsize\"] = [11.00, 5.50]\n",
    "plt.rcParams[\"figure.autolayout\"] = True\n",
    "plt.yticks(np.arange(-12,14,2))\n",
    "plt.ylim(-12,12)\n",
    "# c[6]=None\n",
    "# b[6]=None\n",
    "\n",
    "plt.plot(xs,c6,c=\"c\")\n",
    "plt.errorbar(xs,c6,c=\"c\",yerr=b6,linestyle='None', marker='s')\n",
    "# c[6]=None\n",
    "# b[6]=None\n",
    "\n",
    "plt.title(\"1-hr Avg. MBE All Stations\")\n",
    "plt.xlabel(\"UTC Hour\")\n",
    "plt.ylabel(\"MBE Soil Temperature (C)\")\n",
    "#plt.plot(hour,c)\n",
    "#plt.errorbar(hour,c,yerr=b,ecolor='r',elinewidth=5,fmt='s',color='k')\n",
    "#plt.grid()\n",
    "#plt.xticks(np.arange(min(xs), max(xs)+1, 1.0))\n",
    "plt.xticks(xs, hour)\n",
    "plt.show()\n",
    "#plt.axvspan(-4, 4, color='green', alpha=0.2, lw=0)"
   ]
  },
  {
   "cell_type": "code",
   "execution_count": 222,
   "id": "240eafe4",
   "metadata": {},
   "outputs": [
    {
     "data": {
      "image/png": "[encoded data removed]",
      "text/plain": [
       "<Figure size 792x396 with 1 Axes>"
      ]
     },
     "metadata": {},
     "output_type": "display_data"
    }
   ],
   "source": [
    "plt.style.use('seaborn-whitegrid')\n",
    "plt.rcParams[\"figure.figsize\"] = [11.00, 5.50]\n",
    "plt.rcParams[\"figure.autolayout\"] = True\n",
    "plt.yticks(np.arange(-12,14,2))\n",
    "plt.ylim(-12,12)\n",
    "\n",
    "plt.plot(xs,c1,c=\"b\",label=\"IOP 1\")\n",
    "plt.errorbar(xs,c1,c=\"b\",yerr=b1,linestyle='None', marker='s')\n",
    "\n",
    "plt.plot(xs,c2,c=\"r\",label=\"IOP 2\")\n",
    "plt.errorbar(xs,c2,c=\"r\",yerr=b2,linestyle='None', marker='s')\n",
    "\n",
    "plt.plot(xs,c3,c=\"green\")\n",
    "plt.errorbar(xs,c3,c=\"green\",yerr=b3,linestyle='None', marker='s')\n",
    "\n",
    "plt.plot(xs,c4,c=\"orange\")\n",
    "plt.errorbar(xs,c4,c=\"orange\",yerr=b4,linestyle='None', marker='s')\n",
    "\n",
    "plt.plot(xs,c5,c=\"m\")\n",
    "plt.errorbar(xs,c5,c=\"m\",yerr=b5,linestyle='None', marker='s')\n",
    "\n",
    "plt.plot(xs,c6,c=\"c\")\n",
    "plt.errorbar(xs,c6,c=\"c\",yerr=b6,linestyle='None', marker='s')\n",
    "\n",
    "plt.title(\"1-hr Avg. MBE All Stations\")\n",
    "plt.xlabel(\"UTC Hour\")\n",
    "plt.ylabel(\"MBE Soil Temperature (C)\")\n",
    "#plt.plot(hour,c)\n",
    "#plt.errorbar(hour,c,yerr=b,ecolor='r',elinewidth=5,fmt='s',color='k')\n",
    "#plt.grid()\n",
    "plt.xticks(xs, hour)\n",
    "plt.legend([\"IOP 1\", \"IOP 2\",\"IOP 3\",\"IOP 4\",\"IOP 5\",\"IOP 6\"], loc =\"upper right\")\n",
    "plt.show()"
   ]
  },
  {
   "cell_type": "code",
   "execution_count": null,
   "id": "f20cc188",
   "metadata": {},
   "outputs": [],
   "source": []
  }
 ],
 "metadata": {
  "kernelspec": {
   "display_name": "Python 3 (ipykernel)",
   "language": "python",
   "name": "python3"
  },
  "language_info": {
   "codemirror_mode": {
    "name": "ipython",
    "version": 3
   },
   "file_extension": ".py",
   "mimetype": "text/x-python",
   "name": "python",
   "nbconvert_exporter": "python",
   "pygments_lexer": "ipython3",
   "version": "3.9.12"
  }
 },
 "nbformat": 4,
 "nbformat_minor": 5
}
