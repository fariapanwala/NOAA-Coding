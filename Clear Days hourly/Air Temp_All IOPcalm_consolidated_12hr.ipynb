{
 "cells": [
  {
   "cell_type": "code",
   "execution_count": 1,
   "id": "83d28093",
   "metadata": {},
   "outputs": [],
   "source": [
    "import numpy as np\n",
    "import matplotlib.pyplot as plt\n",
    "import math\n",
    "import numpy.ma as ma"
   ]
  },
  {
   "cell_type": "markdown",
   "id": "18ad22a0",
   "metadata": {},
   "source": [
    "<font size=\"3\">Salem, MO: 0600 UTC (12:00 am CST) 01 March 2022-0600 UTC (12:00 am CST) 02 March 2022</font>"
   ]
  },
  {
   "cell_type": "code",
   "execution_count": 2,
   "id": "9236619f",
   "metadata": {},
   "outputs": [
    {
     "name": "stdout",
     "output_type": "stream",
     "text": [
      "[3.38986, 2.88046, 2.59564, 2.55533, 2.16019, 3.15115, 2.73123, 3.39108, 5.979, 9.43295, 12.5415, 15.1476, 17.9189, 20.1789, 21.0622, 21.4111, 21.5041, 19.2981, 15.4831, 12.9971, 11.8422, 10.6639, 9.76279, 9.06174, 8.54156]\n",
      "25\n"
     ]
    }
   ],
   "source": [
    "#12 hr hrrr:\n",
    "with open('hrrr_f12_Salem_MO.txt') as f:\n",
    "    lst=[line.split()[1] for line in f]\n",
    "    temp=[]\n",
    "    for i in lst:\n",
    "        new=i.replace(',',\"\")\n",
    "        temp.append(new)\n",
    "    temp.pop(0)\n",
    "    temp=[float(x) for x in temp]\n",
    "    temp=temp[1410:1435]\n",
    "    #temp=temp[2015:2063]\n",
    "    print(temp)\n",
    "    print(len(temp))\n",
    "#full time period is [2015:2112]"
   ]
  },
  {
   "cell_type": "code",
   "execution_count": 3,
   "id": "e9d4dbcc",
   "metadata": {},
   "outputs": [
    {
     "name": "stdout",
     "output_type": "stream",
     "text": [
      "[-1.0, -1.4, -2.6, -3.1, -1.0, 2.1, 6.2, 7.0, 8.4, 11.2, 13.9, 17.5, 20.1, 22.0, 23.2, 23.6, 23.5, 22.8, 20.8, 18.3, 16.9, 12.8, 10.1, 5.3, 12.1]\n"
     ]
    }
   ],
   "source": [
    "#Air Temp CRN:\n",
    "with open('CRNH0203-2022-MO_Salem_10_W.txt') as f:\n",
    "    lst=[line.split()[9] for line in f]\n",
    "    #print(lst)\n",
    "    temp_crn=[]\n",
    "    for i in lst:\n",
    "        new=i.replace(',',\"\")\n",
    "        temp_crn.append(new)\n",
    "    temp_crn=[float(x) for x in temp_crn]\n",
    "    temp_crn=temp_crn[1421:1446]\n",
    "    print(temp_crn)\n",
    "    #print(len(temp_crn))\n",
    "    # print(temp_crn[2124])"
   ]
  },
  {
   "cell_type": "code",
   "execution_count": 4,
   "id": "1e9aed03-d99c-4045-812a-e26bcc99b84f",
   "metadata": {},
   "outputs": [
    {
     "name": "stdout",
     "output_type": "stream",
     "text": [
      "[4.3898600000000005, 4.28046, 5.19564, 5.65533, 3.16019, 1.0511499999999998, -3.46877, -3.60892, -2.4210000000000003, -1.7670499999999993, -1.3585000000000012, -2.3523999999999994, -2.1811000000000007, -1.8211000000000013, -2.1377999999999986, -2.1889000000000003, -1.995899999999999, -3.501899999999999, -5.3169, -5.302900000000001, -5.0577999999999985, -2.1361000000000008, -0.3372099999999989, 3.7617400000000005, -3.558439999999999]\n"
     ]
    }
   ],
   "source": [
    "difference1_sal = []\n",
    "\n",
    "zip_object = zip(temp, temp_crn)\n",
    "for temp_i, temp_crn_i in zip_object:\n",
    "    difference1_sal.append(temp_i-temp_crn_i)\n",
    "\n",
    "print(difference1_sal)"
   ]
  },
  {
   "cell_type": "markdown",
   "id": "9043c519",
   "metadata": {},
   "source": [
    "<font size=\"3\">Batesville, AR: 1200 UTC 22 March 2022-1200 UTC 23 March 2022</font>"
   ]
  },
  {
   "cell_type": "code",
   "execution_count": 5,
   "id": "ee5d006f",
   "metadata": {},
   "outputs": [
    {
     "name": "stdout",
     "output_type": "stream",
     "text": [
      "[6.13986 6.00546 5.34564 5.74283 5.53519 6.46365 6.10623 5.07858 6.479\n",
      " 10.308 13.979 16.8976 18.2314 19.3664 19.9997 20.1611 19.5041 17.1731\n",
      " 13.7331 11.4971 10.6547 -- 11.5128 11.9367 11.6041]\n",
      "25\n"
     ]
    }
   ],
   "source": [
    "#12 hr hrrr:\n",
    "with open('hrrr_f12_Batesville_AR.txt') as f:\n",
    "    lst=[line.split()[1] for line in f]\n",
    "    temp=[]\n",
    "    for i in lst:\n",
    "        new=i.replace(',',\"\")\n",
    "        temp.append(new)\n",
    "    temp.pop(0)\n",
    "    temp=[float(x) for x in temp]\n",
    "    temp=temp[1410:1435]\n",
    "    x = np.array(temp)\n",
    "    temp = ma.masked_array(x, mask=[0, 0, 0, 0, 0,0,0,0,0,0,0,0,0,0,0,0,0,0,0,0,0,1,0,0,0])\n",
    "    #temp=temp[2015:2063]\n",
    "    print(temp)\n",
    "    print(len(temp))\n",
    "#full time period is [2015:2112]"
   ]
  },
  {
   "cell_type": "code",
   "execution_count": 6,
   "id": "11b7f8b7",
   "metadata": {},
   "outputs": [
    {
     "name": "stdout",
     "output_type": "stream",
     "text": [
      "[1.7 0.6 -0.1 -0.6 -1.2 -1.1 -1.1 -1.7 0.4 7.3 14.5 18.8 20.9 22.5 23.0\n",
      " 23.0 22.8 21.9 19.8 16.8 14.0 -- 7.2 7.5 4.5]\n"
     ]
    }
   ],
   "source": [
    "#Air Temp CRN:\n",
    "with open('CRNH0203-2022-AR_Batesville_8_WNW.txt') as f:\n",
    "    lst=[line.split()[9] for line in f]\n",
    "    #print(lst)\n",
    "    temp_crn=[]\n",
    "    for i in lst:\n",
    "        new=i.replace(',',\"\")\n",
    "        temp_crn.append(new)\n",
    "    temp_crn=[float(x) for x in temp_crn]\n",
    "    temp_crn=temp_crn[1421:1446]\n",
    "    y = np.array(temp_crn)\n",
    "    temp_crn = ma.masked_array(y, mask=[0, 0, 0, 0, 0,0,0,0,0,0,0,0,0,0,0,0,0,0,0,0,0,1,0,0,0])\n",
    "    print(temp_crn)\n",
    "    #print(len(temp_crn))\n",
    "    # print(temp_crn[2124])"
   ]
  },
  {
   "cell_type": "code",
   "execution_count": 7,
   "id": "62a46873",
   "metadata": {},
   "outputs": [
    {
     "name": "stdout",
     "output_type": "stream",
     "text": [
      "[4.4398599999999995, 5.405460000000001, 5.44564, 6.342829999999999, 6.73519, 7.563650000000001, 7.20623, 6.77858, 6.079, 3.008, -0.5210000000000008, -1.9024, -2.668599999999998, -3.1336000000000013, -3.0002999999999993, -2.838899999999999, -3.2958999999999996, -4.726899999999997, -6.0669, -5.302900000000001, -3.3453, masked, 4.3128, 4.4367, 7.104100000000001]\n"
     ]
    }
   ],
   "source": [
    "difference1_bat = []\n",
    "\n",
    "zip_object = zip(temp, temp_crn)\n",
    "for temp_i, temp_crn_i in zip_object:\n",
    "    difference1_bat.append(temp_i-temp_crn_i)\n",
    "\n",
    "print(difference1_bat)"
   ]
  },
  {
   "cell_type": "markdown",
   "id": "2a2589df",
   "metadata": {},
   "source": [
    "<font size=\"3\">Lafayette, LA: 1500 UTC 22 March 2022-1500 UTC 23 March 2022</font>"
   ]
  },
  {
   "cell_type": "code",
   "execution_count": 8,
   "id": "94433671",
   "metadata": {},
   "outputs": [
    {
     "name": "stdout",
     "output_type": "stream",
     "text": [
      "[8.13986, 7.13046, 6.22064, 5.36783, 4.59769, 4.27615, 3.60623, 3.45358, 7.104, 11.933, 15.854, 17.9601, 19.6064, 21.1789, 22.3122, 22.9736, 22.3791, 20.9856, 19.1706, 15.4346, 13.5922, 12.6014, 11.2628, 10.1242, 9.41656]\n",
      "25\n"
     ]
    }
   ],
   "source": [
    "#12 hr hrrr:\n",
    "with open('hrrr_f12_Lafayette_LA.txt') as f:\n",
    "    lst=[line.split()[1] for line in f]\n",
    "    temp=[]\n",
    "    for i in lst:\n",
    "        new=i.replace(',',\"\")\n",
    "        temp.append(new)\n",
    "    temp.pop(0)\n",
    "    temp=[float(x) for x in temp]\n",
    "    temp=temp[1410:1435]\n",
    "    #temp=temp[2015:2063]\n",
    "    print(temp)\n",
    "    print(len(temp))\n",
    "#full time period is [2015:2112]"
   ]
  },
  {
   "cell_type": "code",
   "execution_count": 9,
   "id": "bfe1bb32",
   "metadata": {},
   "outputs": [
    {
     "name": "stdout",
     "output_type": "stream",
     "text": [
      "[7.2, 5.7, 4.7, 3.8, 3.1, 2.8, 3.0, 2.4, 5.1, 10.2, 13.7, 16.3, 17.4, 18.3, 19.4, 20.0, 20.4, 20.4, 19.3, 14.9, 12.5, 11.7, 10.4, 9.5, 8.8]\n"
     ]
    }
   ],
   "source": [
    "#Air Temp CRN:\n",
    "with open('CRNH0203-2022-LA_Lafayette_13_SE.txt') as f:\n",
    "    lst=[line.split()[9] for line in f]\n",
    "    #print(lst)\n",
    "    temp_crn=[]\n",
    "    for i in lst:\n",
    "        new=i.replace(',',\"\")\n",
    "        temp_crn.append(new)\n",
    "    temp_crn=[float(x) for x in temp_crn]\n",
    "    temp_crn=temp_crn[1421:1446]\n",
    "    print(temp_crn)\n",
    "    #print(len(temp_crn))\n",
    "    # print(temp_crn[2124])"
   ]
  },
  {
   "cell_type": "code",
   "execution_count": 10,
   "id": "9b94d0f9",
   "metadata": {},
   "outputs": [
    {
     "name": "stdout",
     "output_type": "stream",
     "text": [
      "[0.9398600000000004, 1.43046, 1.5206400000000002, 1.5678299999999998, 1.49769, 1.4761500000000005, 0.60623, 1.0535800000000002, 2.0040000000000004, 1.7330000000000005, 2.154, 1.6601, 2.206400000000002, 2.878899999999998, 2.912200000000002, 2.973600000000001, 1.9791000000000025, 0.585600000000003, -0.1294000000000004, 0.5345999999999993, 1.0922, 0.9014000000000006, 0.8628, 0.6242000000000001, 0.6165599999999998]\n"
     ]
    }
   ],
   "source": [
    "difference1_laf = []\n",
    "\n",
    "zip_object = zip(temp, temp_crn)\n",
    "for temp_i, temp_crn_i in zip_object:\n",
    "    difference1_laf.append(temp_i-temp_crn_i)\n",
    "\n",
    "print(difference1_laf)"
   ]
  },
  {
   "cell_type": "markdown",
   "id": "7a8d079f",
   "metadata": {},
   "source": [
    "<font size=\"3\">Monroe, LA: 1500 UTC 22 March 2022-1500 UTC 23 March 2022</font>"
   ]
  },
  {
   "cell_type": "code",
   "execution_count": 11,
   "id": "821d447a",
   "metadata": {},
   "outputs": [
    {
     "name": "stdout",
     "output_type": "stream",
     "text": [
      "[5.26486, 4.06796, 4.28314, 4.30533, 3.78519, 4.02615, 4.41873, 3.39108, 5.354, 9.49545, 12.104, 14.3976, 15.8564, 17.2414, 18.1247, 18.6611, 18.7541, 17.7356, 14.4206, 12.5596, 10.8422, 9.91394, 8.88779, 8.18674, 7.85406]\n",
      "25\n"
     ]
    }
   ],
   "source": [
    "#12 hr hrrr:\n",
    "with open('hrrr_f12_Monroe_LA.txt') as f:\n",
    "    lst=[line.split()[1] for line in f]\n",
    "    temp=[]\n",
    "    for i in lst:\n",
    "        new=i.replace(',',\"\")\n",
    "        temp.append(new)\n",
    "    temp.pop(0)\n",
    "    temp=[float(x) for x in temp]\n",
    "    temp=temp[1410:1435]\n",
    "    #temp=temp[2015:2063]\n",
    "    print(temp)\n",
    "    print(len(temp))\n",
    "#full time period is [2015:2112]"
   ]
  },
  {
   "cell_type": "code",
   "execution_count": 12,
   "id": "5c3999a7",
   "metadata": {},
   "outputs": [
    {
     "name": "stdout",
     "output_type": "stream",
     "text": [
      "[2.2, 2.5, 2.5, 2.2, 0.9, -0.2, -0.4, -0.3, 0.6, 6.6, 13.8, 16.4, 18.2, 19.5, 20.6, 21.1, 21.3, 20.9, 17.1, 11.4, 8.3, 6.3, 4.9, 4.1, 3.4]\n"
     ]
    }
   ],
   "source": [
    "#Air Temp CRN:\n",
    "with open('CRNH0203-2022-LA_Monroe_26_N.txt') as f:\n",
    "    lst=[line.split()[9] for line in f]\n",
    "    #print(lst)\n",
    "    temp_crn=[]\n",
    "    for i in lst:\n",
    "        new=i.replace(',',\"\")\n",
    "        temp_crn.append(new)\n",
    "    temp_crn=[float(x) for x in temp_crn]\n",
    "    temp_crn=temp_crn[1421:1446]\n",
    "    print(temp_crn)\n",
    "    #print(len(temp_crn))\n",
    "    # print(temp_crn[2124])"
   ]
  },
  {
   "cell_type": "code",
   "execution_count": 13,
   "id": "2b4e383a",
   "metadata": {},
   "outputs": [
    {
     "name": "stdout",
     "output_type": "stream",
     "text": [
      "[3.0648599999999995, 1.5679600000000002, 1.7831400000000004, 2.1053299999999995, 2.88519, 4.2261500000000005, 4.81873, 3.69108, 4.7540000000000004, 2.8954500000000003, -1.6960000000000015, -2.002399999999998, -2.3435999999999986, -2.2586000000000013, -2.4753000000000007, -2.4389000000000003, -2.5458999999999996, -3.164399999999997, -2.679400000000001, 1.1595999999999993, 2.5421999999999993, 3.6139400000000004, 3.9877900000000004, 4.086740000000001, 4.45406]\n"
     ]
    }
   ],
   "source": [
    "difference1_mon = []\n",
    "\n",
    "zip_object = zip(temp, temp_crn)\n",
    "for temp_i, temp_crn_i in zip_object:\n",
    "    difference1_mon.append(temp_i-temp_crn_i)\n",
    "\n",
    "print(difference1_mon)"
   ]
  },
  {
   "cell_type": "markdown",
   "id": "26c585ff",
   "metadata": {},
   "source": [
    "<font size=\"3\">Holly Springs, MS: 1800 UTC 22 March 2022-1800 UTC 23 March 2022</font>"
   ]
  },
  {
   "cell_type": "code",
   "execution_count": 14,
   "id": "4504c8c6",
   "metadata": {},
   "outputs": [
    {
     "name": "stdout",
     "output_type": "stream",
     "text": [
      "[4.20236, 3.88046, 3.59564, 3.68033, 3.91019, 3.52615, 3.23123, 3.26608, 5.6665, 8.62045, 10.979, 12.0851, 13.4814, 14.5539, 15.0622, 15.1611, 15.0041, 13.6106, 11.1081, 9.9346, 9.40469, 9.22644, 8.95029, 8.24924, 7.85406]\n",
      "25\n"
     ]
    }
   ],
   "source": [
    "#12 hr hrrr:\n",
    "with open('hrrr_f12_Holly Springs_MS.txt') as f:\n",
    "    lst=[line.split()[1] for line in f]\n",
    "    temp=[]\n",
    "    for i in lst:\n",
    "        new=i.replace(',',\"\")\n",
    "        temp.append(new)\n",
    "    temp.pop(0)\n",
    "    temp=[float(x) for x in temp]\n",
    "    temp=temp[1410:1435]\n",
    "    #temp=temp[2015:2063]\n",
    "    print(temp)\n",
    "    print(len(temp))\n",
    "#full time period is [2015:2112]"
   ]
  },
  {
   "cell_type": "code",
   "execution_count": 15,
   "id": "19a3055f",
   "metadata": {},
   "outputs": [
    {
     "name": "stdout",
     "output_type": "stream",
     "text": [
      "[0.8, 0.2, -0.6, -1.0, -1.5, -2.0, -2.1, -2.1, -0.3, 7.9, 12.7, 16.1, 18.3, 19.5, 20.3, 20.6, 20.4, 19.6, 17.1, 13.4, 9.9, 8.9, 10.9, 11.0, 7.3]\n"
     ]
    }
   ],
   "source": [
    "#Air Temp CRN:\n",
    "with open('CRNH0203-2022-MS_Holly_Springs_4_N.txt') as f:\n",
    "    lst=[line.split()[9] for line in f]\n",
    "    #print(lst)\n",
    "    temp_crn=[]\n",
    "    for i in lst:\n",
    "        new=i.replace(',',\"\")\n",
    "        temp_crn.append(new)\n",
    "    temp_crn=[float(x) for x in temp_crn]\n",
    "    temp_crn=temp_crn[1421:1446]\n",
    "    print(temp_crn)\n",
    "    #print(len(temp_crn))\n",
    "    # print(temp_crn[2124])"
   ]
  },
  {
   "cell_type": "code",
   "execution_count": 16,
   "id": "46b095cb",
   "metadata": {},
   "outputs": [
    {
     "name": "stdout",
     "output_type": "stream",
     "text": [
      "[3.40236, 3.6804599999999996, 4.19564, 4.68033, 5.41019, 5.5261499999999995, 5.33123, 5.36608, 5.9665, 0.7204499999999996, -1.721, -4.014900000000001, -4.8186, -4.9460999999999995, -5.2378, -5.438900000000002, -5.395899999999999, -5.989400000000002, -5.991900000000001, -3.4654000000000007, -0.4953099999999999, 0.32643999999999984, -1.9497099999999996, -2.7507599999999996, 0.5540599999999998]\n"
     ]
    }
   ],
   "source": [
    "difference1_hol = []\n",
    "\n",
    "zip_object = zip(temp, temp_crn)\n",
    "for temp_i, temp_crn_i in zip_object:\n",
    "    difference1_hol.append(temp_i-temp_crn_i)\n",
    "\n",
    "print(difference1_hol)"
   ]
  },
  {
   "cell_type": "markdown",
   "id": "1c76c308",
   "metadata": {},
   "source": [
    "<font size=\"3\">Newton, MS: 1800 UTC 22 March 2022-1800 UTC 23 March 2022</font>"
   ]
  },
  {
   "cell_type": "code",
   "execution_count": 17,
   "id": "a6fc5b55",
   "metadata": {},
   "outputs": [
    {
     "name": "stdout",
     "output_type": "stream",
     "text": [
      "[4.88986, 4.25546, 3.90814, 3.68033, 3.59769, 3.58865, 2.85623, 2.95358, 6.9165, 11.558, 14.4165, 16.0226, 17.7939, 18.7414, 19.8747, 20.2236, 20.1916, 19.8606, 16.3581, 13.6221, 12.0922, 10.5389, 9.51279, 8.18674, 6.91656]\n",
      "25\n"
     ]
    }
   ],
   "source": [
    "#12 hr hrrr:\n",
    "with open('hrrr_f12_Newton_MS.txt') as f:\n",
    "    lst=[line.split()[1] for line in f]\n",
    "    temp=[]\n",
    "    for i in lst:\n",
    "        new=i.replace(',',\"\")\n",
    "        temp.append(new)\n",
    "    temp.pop(0)\n",
    "    temp=[float(x) for x in temp]\n",
    "    temp=temp[1410:1435]\n",
    "    #temp=temp[2015:2063]\n",
    "    print(temp)\n",
    "    print(len(temp))\n",
    "#full time period is [2015:2112]"
   ]
  },
  {
   "cell_type": "code",
   "execution_count": 18,
   "id": "3fb09a0f",
   "metadata": {},
   "outputs": [
    {
     "name": "stdout",
     "output_type": "stream",
     "text": [
      "[2.1, 1.5, 0.8, 0.3, -0.3, -0.9, -1.0, -0.1, 1.6, 6.4, 11.6, 14.3, 16.1, 17.3, 18.6, 19.5, 20.0, 19.7, 17.1, 11.8, 8.6, 6.9, 5.4, 4.2, 3.3]\n"
     ]
    }
   ],
   "source": [
    "#Air Temp CRN:\n",
    "with open('CRNH0203-2022-MS_Newton_5_ENE.txt') as f:\n",
    "    lst=[line.split()[9] for line in f]\n",
    "    #print(lst)\n",
    "    temp_crn=[]\n",
    "    for i in lst:\n",
    "        new=i.replace(',',\"\")\n",
    "        temp_crn.append(new)\n",
    "    temp_crn=[float(x) for x in temp_crn]\n",
    "    temp_crn=temp_crn[1421:1446]\n",
    "    print(temp_crn)\n",
    "    #print(len(temp_crn))\n",
    "    # print(temp_crn[2124])"
   ]
  },
  {
   "cell_type": "code",
   "execution_count": 19,
   "id": "e588ab70",
   "metadata": {},
   "outputs": [
    {
     "name": "stdout",
     "output_type": "stream",
     "text": [
      "[2.7898599999999996, 2.7554600000000002, 3.1081399999999997, 3.3803300000000003, 3.89769, 4.48865, 3.85623, 3.05358, 5.3165, 5.1579999999999995, 2.8164999999999996, 1.7226, 1.6938999999999993, 1.441399999999998, 1.2746999999999993, 0.7236000000000011, 0.1916000000000011, 0.1606000000000023, -0.7419000000000011, 1.822099999999999, 3.4922000000000004, 3.6388999999999996, 4.11279, 3.98674, 3.6165599999999998]\n"
     ]
    }
   ],
   "source": [
    "difference1_new = []\n",
    "\n",
    "zip_object = zip(temp, temp_crn)\n",
    "for temp_i, temp_crn_i in zip_object:\n",
    "    difference1_new.append(temp_i-temp_crn_i)\n",
    "\n",
    "print(difference1_new)"
   ]
  },
  {
   "cell_type": "markdown",
   "id": "c9620694",
   "metadata": {},
   "source": [
    "<font size=\"3\">Gainesville, AL: 2200 UTC 22 March 2022-2200 UTC 23 March 2022</font>"
   ]
  },
  {
   "cell_type": "code",
   "execution_count": 20,
   "id": "038fabb5",
   "metadata": {},
   "outputs": [
    {
     "name": "stdout",
     "output_type": "stream",
     "text": [
      "[4.95236, 4.56796, 4.28314, 3.80533, 3.72269, 3.02615, 2.73123, 2.89108, 6.354, 10.558, 13.354, 15.2101, 16.4814, 17.8664, 18.8122, 19.2861, 19.2541, 17.9856, 14.1706, 11.9971, 10.4672, 10.1639, 9.57529, 7.74924, 6.79156]\n",
      "25\n"
     ]
    }
   ],
   "source": [
    "#12 hr hrrr:\n",
    "with open('hrrr_f12_Gainesville_AL.txt') as f:\n",
    "    lst=[line.split()[1] for line in f]\n",
    "    temp=[]\n",
    "    for i in lst:\n",
    "        new=i.replace(',',\"\")\n",
    "        temp.append(new)\n",
    "    temp.pop(0)\n",
    "    temp=[float(x) for x in temp]\n",
    "    temp=temp[1410:1435]\n",
    "    #temp=temp[2015:2063]\n",
    "    print(temp)\n",
    "    print(len(temp))\n",
    "#full time period is [2015:2112]"
   ]
  },
  {
   "cell_type": "code",
   "execution_count": 21,
   "id": "2c97e541",
   "metadata": {},
   "outputs": [
    {
     "name": "stdout",
     "output_type": "stream",
     "text": [
      "[3.4, 2.6, 2.0, 1.6, 1.3, 1.5, 1.4, 1.3, 3.7, 6.9, 10.8, 14.2, 16.0, 17.4, 18.5, 19.3, 19.6, 19.4, 17.4, 13.0, 10.2, 8.2, 6.8, 5.9, 5.0]\n"
     ]
    }
   ],
   "source": [
    "#Air Temp CRN:\n",
    "with open('CRNH0203-2022-AL_Gainesville_2_NE.txt') as f:\n",
    "    lst=[line.split()[9] for line in f]\n",
    "    #print(lst)\n",
    "    temp_crn=[]\n",
    "    for i in lst:\n",
    "        new=i.replace(',',\"\")\n",
    "        temp_crn.append(new)\n",
    "    temp_crn=[float(x) for x in temp_crn]\n",
    "    temp_crn=temp_crn[1421:1446]\n",
    "    print(temp_crn)\n",
    "    #print(len(temp_crn))\n",
    "    # print(temp_crn[2124])"
   ]
  },
  {
   "cell_type": "code",
   "execution_count": 22,
   "id": "8df76a7b",
   "metadata": {},
   "outputs": [
    {
     "name": "stdout",
     "output_type": "stream",
     "text": [
      "[1.5523599999999997, 1.9679600000000002, 2.2831400000000004, 2.20533, 2.4226900000000002, 1.52615, 1.3312300000000001, 1.59108, 2.654, 3.6579999999999995, 2.5539999999999985, 1.0101000000000013, 0.4814000000000007, 0.46640000000000015, 0.3122000000000007, -0.01389999999999958, -0.3459000000000003, -1.414399999999997, -3.2293999999999983, -1.0029000000000003, 0.26720000000000077, 1.9639000000000006, 2.775290000000001, 1.84924, 1.7915599999999996]\n"
     ]
    }
   ],
   "source": [
    "difference1_gai = []\n",
    "\n",
    "zip_object = zip(temp, temp_crn)\n",
    "for temp_i, temp_crn_i in zip_object:\n",
    "    difference1_gai.append(temp_i-temp_crn_i)\n",
    "\n",
    "print(difference1_gai)"
   ]
  },
  {
   "cell_type": "markdown",
   "id": "2711dc15",
   "metadata": {},
   "source": [
    "<font size=\"3\">Fairhope, AL: 2200 UTC 22 March 2022-2200 UTC 23 March 2022</font>"
   ]
  },
  {
   "cell_type": "code",
   "execution_count": 23,
   "id": "b97b4753",
   "metadata": {},
   "outputs": [
    {
     "name": "stdout",
     "output_type": "stream",
     "text": [
      "[9.51486, 8.94296, 8.47064, 8.18033, 7.72269, 7.33865, 7.04373, 7.51608, 10.729, 13.6205, 16.4165, 18.5226, 19.3564, 19.6789, 19.9372, 20.4111, 20.9416, 18.2981, 15.2331, 13.9346, 13.4047, 12.7264, 12.5128, 11.0617, 10.1666]\n",
      "25\n"
     ]
    }
   ],
   "source": [
    "#12 hr hrrr:\n",
    "with open('hrrr_f12_Fairhope_AL.txt') as f:\n",
    "    lst=[line.split()[1] for line in f]\n",
    "    temp=[]\n",
    "    for i in lst:\n",
    "        new=i.replace(',',\"\")\n",
    "        temp.append(new)\n",
    "    temp.pop(0)\n",
    "    temp=[float(x) for x in temp]\n",
    "    temp=temp[1410:1435]\n",
    "    #temp=temp[2015:2063]\n",
    "    print(temp)\n",
    "    print(len(temp))\n",
    "#full time period is [2015:2112]"
   ]
  },
  {
   "cell_type": "code",
   "execution_count": 24,
   "id": "4df09785",
   "metadata": {},
   "outputs": [
    {
     "name": "stdout",
     "output_type": "stream",
     "text": [
      "[10.4, 9.6, 9.2, 8.3, 8.3, 8.2, 7.5, 5.3, 8.8, 13.3, 16.4, 17.9, 18.3, 18.5, 18.7, 19.7, 20.3, 18.2, 15.9, 14.1, 12.2, 9.8, 8.5, 7.0, 6.3]\n"
     ]
    }
   ],
   "source": [
    "#Air Temp CRN:\n",
    "with open('CRNH0203-2022-AL_Fairhope_3_NE.txt') as f:\n",
    "    lst=[line.split()[9] for line in f]\n",
    "    #print(lst)\n",
    "    temp_crn=[]\n",
    "    for i in lst:\n",
    "        new=i.replace(',',\"\")\n",
    "        temp_crn.append(new)\n",
    "    temp_crn=[float(x) for x in temp_crn]\n",
    "    temp_crn=temp_crn[1421:1446]\n",
    "    print(temp_crn)\n",
    "    #print(len(temp_crn))\n",
    "    # print(temp_crn[2124])"
   ]
  },
  {
   "cell_type": "code",
   "execution_count": 25,
   "id": "a9ff3306",
   "metadata": {},
   "outputs": [
    {
     "name": "stdout",
     "output_type": "stream",
     "text": [
      "[-0.8851399999999998, -0.6570400000000003, -0.7293599999999998, -0.11967000000000105, -0.5773100000000007, -0.861349999999999, -0.45626999999999995, 2.21608, 1.9289999999999985, 0.3204999999999991, 0.016500000000000625, 0.622600000000002, 1.0564, 1.1788999999999987, 1.2372000000000014, 0.7111000000000018, 0.6416000000000004, 0.0981000000000023, -0.6669, -0.1654, 1.2047000000000008, 2.9263999999999992, 4.0128, 4.0617, 3.866600000000001]\n"
     ]
    }
   ],
   "source": [
    "difference1_fai = []\n",
    "\n",
    "zip_object = zip(temp, temp_crn)\n",
    "for temp_i, temp_crn_i in zip_object:\n",
    "    difference1_fai.append(temp_i-temp_crn_i)\n",
    "\n",
    "print(difference1_fai)"
   ]
  },
  {
   "cell_type": "markdown",
   "id": "f5dd4e4b",
   "metadata": {},
   "source": [
    "<font size=\"3\">**Selma, AL: 2200 UTC 22 March 2022-2200 UTC 23 March 2022</font>"
   ]
  },
  {
   "cell_type": "code",
   "execution_count": 26,
   "id": "af6b46b1",
   "metadata": {},
   "outputs": [
    {
     "name": "stdout",
     "output_type": "stream",
     "text": [
      "[6.26486, 5.88046, 5.53314, 5.24283, 5.22269, 4.71365, 4.23123, 4.45358, 7.9165, 11.1205, 13.479, 15.6476, 17.2314, 18.6164, 19.5622, 19.9111, 19.8791, 18.4231, 15.4206, 12.9346, 11.4047, 10.3514, 10.1378, 9.24924, 8.04156]\n",
      "[3.1, 2.3, 1.7, 1.2, 0.7, 0.3, 0.7, 1.1, 3.8, 8.3, 11.9, 15.1, 16.9, 17.9, 18.9, 19.4, 19.4, 18.9, 17.1, 11.1, 8.0, 6.4, 4.9, 4.3, 3.7]\n",
      "[3.1648599999999996, 3.5804600000000004, 3.83314, 4.0428299999999995, 4.52269, 4.4136500000000005, 3.53123, 3.3535799999999996, 4.1165, 2.820499999999999, 1.5789999999999988, 0.547600000000001, 0.33140000000000214, 0.7164000000000001, 0.6622000000000021, 0.5111000000000026, 0.4791000000000025, -0.476899999999997, -1.6794000000000011, 1.8346, 3.4047, 3.9513999999999996, 5.2378, 4.9492400000000005, 4.34156]\n",
      "25\n"
     ]
    }
   ],
   "source": [
    "#1 hr hrrr:\n",
    "import numpy as np\n",
    "import numpy.ma as ma\n",
    "#12 hr hrrr:\n",
    "with open('hrrr_f12_Selma_AL.txt') as f:\n",
    "    lst=[line.split()[1] for line in f]\n",
    "    temp=[]\n",
    "    for i in lst:\n",
    "        new=i.replace(',',\"\")\n",
    "        temp.append(new)\n",
    "    temp.pop(0)\n",
    "    temp=[float(x) for x in temp]\n",
    "    temp=temp[1410:1435]\n",
    "\n",
    "#     x = np.array(temp)\n",
    "#     temp = ma.masked_array(x, mask=[0, 0, 0, 0, 0,0,0,0,0,0,0,0,0,0,0,0,0,1,1,1,1,0,0,0,0])\n",
    "    #print(temp)\n",
    "#Air Temp CRN:\n",
    "with open('CRNH0203-2022-AL_Selma_13_WNW.txt') as f:\n",
    "    lst=[line.split()[9] for line in f]\n",
    "    #print(lst)\n",
    "    temp_crn=[]\n",
    "    for i in lst:\n",
    "        new=i.replace(',',\"\")\n",
    "        temp_crn.append(new)\n",
    "    temp_crn=[float(x) for x in temp_crn]\n",
    "    temp_crn=temp_crn[1421:1446]\n",
    "#     y = np.array(temp_crn)\n",
    "#     temp_crn = ma.masked_array(y, mask=[0, 0, 0, 0, 0,0,0,0,0,0,0,0,0,0,0,0,0,1,1,1,1,0,0,0,0])\n",
    "    print(temp)\n",
    "    #print(len(temp))\n",
    "    print(temp_crn)\n",
    "    #print(len(temp_crn))\n",
    "#full time period is [2015:2112]\n",
    "difference1_sel = []\n",
    "\n",
    "zip_object = zip(temp, temp_crn)\n",
    "for temp_i, temp_crn_i in zip_object:\n",
    "    difference1_sel.append(temp_i-temp_crn_i)\n",
    "\n",
    "print(difference1_sel)\n",
    "print(len(difference1_sel))"
   ]
  },
  {
   "cell_type": "markdown",
   "id": "8fab4bdc",
   "metadata": {},
   "source": [
    "<font size=\"3\">Bowling Green, KY: 2300 UTC 22 March 2022-2300 UTC 23 March 2022</font>"
   ]
  },
  {
   "cell_type": "code",
   "execution_count": 27,
   "id": "ce9bcf66",
   "metadata": {},
   "outputs": [
    {
     "name": "stdout",
     "output_type": "stream",
     "text": [
      "[3.01486, 2.13046, 1.72064, 1.49283, 1.28519, 1.21365, 1.10623, 1.64108, 4.854, 7.93295, 10.604, 12.5226, 14.7314, 16.3664, 17.3122, 17.4736, 17.4416, 15.5481, 12.8581, 11.1221, 10.0297, 9.22644, 8.82529, 8.12424, 7.97906]\n",
      "25\n"
     ]
    }
   ],
   "source": [
    "#12 hr hrrr:\n",
    "with open('hrrr_f12_Bowling Green_KY.txt') as f:\n",
    "    lst=[line.split()[1] for line in f]\n",
    "    temp=[]\n",
    "    for i in lst:\n",
    "        new=i.replace(',',\"\")\n",
    "        temp.append(new)\n",
    "    temp.pop(0)\n",
    "    temp=[float(x) for x in temp]\n",
    "    temp=temp[1410:1435]\n",
    "    #temp=temp[2015:2063]\n",
    "    print(temp)\n",
    "    print(len(temp))\n",
    "#full time period is [2015:2112]"
   ]
  },
  {
   "cell_type": "code",
   "execution_count": 28,
   "id": "b9e25e31",
   "metadata": {},
   "outputs": [
    {
     "name": "stdout",
     "output_type": "stream",
     "text": [
      "[5.3, 4.7, 4.3, 3.7, 3.3, 3.1, 3.0, 3.3, 4.8, 8.0, 11.1, 13.9, 17.1, 18.7, 19.7, 20.1, 20.1, 19.3, 17.1, 15.5, 14.7, 13.7, 13.1, 12.3, 11.2]\n"
     ]
    }
   ],
   "source": [
    "#Air Temp CRN:\n",
    "with open('CRNH0203-2022-KY_Bowling_Green_21_NNE.txt') as f:\n",
    "    lst=[line.split()[9] for line in f]\n",
    "    #print(lst)\n",
    "    temp_crn=[]\n",
    "    for i in lst:\n",
    "        new=i.replace(',',\"\")\n",
    "        temp_crn.append(new)\n",
    "    temp_crn=[float(x) for x in temp_crn]\n",
    "    temp_crn=temp_crn[1421:1446]\n",
    "    print(temp_crn)\n",
    "    #print(len(temp_crn))\n",
    "    # print(temp_crn[2124])"
   ]
  },
  {
   "cell_type": "code",
   "execution_count": 29,
   "id": "c1e72531",
   "metadata": {},
   "outputs": [
    {
     "name": "stdout",
     "output_type": "stream",
     "text": [
      "[-2.2851399999999997, -2.5695400000000004, -2.57936, -2.20717, -2.0148099999999998, -1.8863500000000002, -1.89377, -1.6589199999999997, 0.05400000000000027, -0.06705000000000005, -0.49600000000000044, -1.3773999999999997, -2.3686000000000007, -2.3336000000000006, -2.3877999999999986, -2.6264000000000003, -2.6584000000000003, -3.751900000000001, -4.241900000000001, -4.3779, -4.670299999999999, -4.473559999999999, -4.274709999999999, -4.17576, -3.2209399999999997]\n"
     ]
    }
   ],
   "source": [
    "difference1_bow = []\n",
    "\n",
    "zip_object = zip(temp, temp_crn)\n",
    "for temp_i, temp_crn_i in zip_object:\n",
    "    difference1_bow.append(temp_i-temp_crn_i)\n",
    "\n",
    "print(difference1_bow)"
   ]
  },
  {
   "cell_type": "markdown",
   "id": "d1be2cc0",
   "metadata": {},
   "source": [
    "<font size=\"3\">Gadsden, AL: 0100 UTC 23 March 2022-0100 UTC 24 March 2022</font>"
   ]
  },
  {
   "cell_type": "code",
   "execution_count": 30,
   "id": "6d2be172",
   "metadata": {},
   "outputs": [
    {
     "name": "stdout",
     "output_type": "stream",
     "text": [
      "[4.51486 4.19296 3.90814 3.74283 3.97269 4.27615 4.04373 4.64108 --\n",
      " 9.68295 10.9165 12.2101 13.4189 14.1789 14.7497 14.7236 14.4416 12.9231\n",
      " 10.3581 9.2471 8.52969 7.97644 8.07529 8.18674 7.41656]\n",
      "25\n"
     ]
    }
   ],
   "source": [
    "#12 hr hrrr:\n",
    "with open('hrrr_f12_Gadsden_AL.txt') as f:\n",
    "    lst=[line.split()[1] for line in f]\n",
    "    temp=[]\n",
    "    for i in lst:\n",
    "        new=i.replace(',',\"\")\n",
    "        temp.append(new)\n",
    "    temp.pop(0)\n",
    "    temp=[float(x) for x in temp]\n",
    "    temp=temp[1410:1435]\n",
    "    x = np.array(temp)\n",
    "    temp = ma.masked_array(x, mask=[0, 0, 0, 0, 0,0,0,0,1,0,0,0,0,0,0,0,0,0,0,0,0,0,0,0,0])\n",
    "    #temp=temp[2015:2063]\n",
    "    print(temp)\n",
    "    print(len(temp))\n",
    "#full time period is [2015:2112]"
   ]
  },
  {
   "cell_type": "code",
   "execution_count": 31,
   "id": "eb5f934d",
   "metadata": {},
   "outputs": [
    {
     "name": "stdout",
     "output_type": "stream",
     "text": [
      "[1.8 1.3 0.6 1.2 1.4 0.6 0.3 -0.3 -- 9.5 11.7 13.2 14.4 15.3 16.4 17.0\n",
      " 17.2 16.8 13.9 8.4 6.8 7.1 5.6 6.1 6.7]\n"
     ]
    }
   ],
   "source": [
    "#Air Temp CRN:\n",
    "with open('CRNH0203-2022-AL_Gadsden_19_N.txt') as f:\n",
    "    lst=[line.split()[9] for line in f]\n",
    "    #print(lst)\n",
    "    temp_crn=[]\n",
    "    for i in lst:\n",
    "        new=i.replace(',',\"\")\n",
    "        temp_crn.append(new)\n",
    "    temp_crn=[float(x) for x in temp_crn]\n",
    "    temp_crn=temp_crn[1421:1446]\n",
    "    y = np.array(temp_crn)\n",
    "    temp_crn = ma.masked_array(y, mask=[0, 0, 0, 0, 0,0,0,0,1,0,0,0,0,0,0,0,0,0,0,0,0,0,0,0,0])\n",
    "    print(temp_crn)\n",
    "    #print(len(temp_crn))\n",
    "    # print(temp_crn[2124])"
   ]
  },
  {
   "cell_type": "code",
   "execution_count": 32,
   "id": "c002ac76",
   "metadata": {},
   "outputs": [
    {
     "name": "stdout",
     "output_type": "stream",
     "text": [
      "[2.71486, 2.8929600000000004, 3.30814, 2.5428300000000004, 2.57269, 3.6761500000000003, 3.7437300000000002, 4.9410799999999995, masked, 0.18294999999999995, -0.7835000000000001, -0.9898999999999987, -0.9810999999999996, -1.1211000000000002, -1.6502999999999979, -2.2764000000000006, -2.7584, -3.876900000000001, -3.5419, 0.8470999999999993, 1.7296900000000006, 0.8764400000000006, 2.475290000000001, 2.0867400000000007, 0.7165599999999994]\n"
     ]
    }
   ],
   "source": [
    "difference1_gad = []\n",
    "\n",
    "zip_object = zip(temp, temp_crn)\n",
    "for temp_i, temp_crn_i in zip_object:\n",
    "    difference1_gad.append(temp_i-temp_crn_i)\n",
    "\n",
    "print(difference1_gad)"
   ]
  },
  {
   "cell_type": "markdown",
   "id": "d430f7c6",
   "metadata": {},
   "source": [
    "<font size=\"3\">Newton, GA: 0900 UTC 23 March 2022-0900 UTC 24 March 2022</font>"
   ]
  },
  {
   "cell_type": "code",
   "execution_count": 33,
   "id": "25095753",
   "metadata": {},
   "outputs": [
    {
     "name": "stdout",
     "output_type": "stream",
     "text": [
      "[9.07736, 10.5055, 8.15814, 7.30533, 6.28519, 5.71365, 5.73123, 6.32858, 9.854, 12.6205, 15.7915, 17.3351, 19.2314, 20.1789, 20.9997, 21.2236, 21.1916, 20.1106, 17.0456, 15.9346, 14.2172, 12.4139, 11.9503, 10.2492, 9.29156]\n",
      "25\n"
     ]
    }
   ],
   "source": [
    "#12 hr hrrr:\n",
    "with open('hrrr_f12_Newton_GA.txt') as f:\n",
    "    lst=[line.split()[1] for line in f]\n",
    "    temp=[]\n",
    "    for i in lst:\n",
    "        new=i.replace(',',\"\")\n",
    "        temp.append(new)\n",
    "    temp.pop(0)\n",
    "    temp=[float(x) for x in temp]\n",
    "    temp=temp[1410:1435]\n",
    "    #temp=temp[2015:2063]\n",
    "    print(temp)\n",
    "    print(len(temp))\n",
    "#full time period is [2015:2112]"
   ]
  },
  {
   "cell_type": "code",
   "execution_count": 34,
   "id": "9851cf85",
   "metadata": {},
   "outputs": [
    {
     "name": "stdout",
     "output_type": "stream",
     "text": [
      "[7.2, 6.2, 5.5, 5.3, 4.6, 3.9, 3.8, 3.9, 7.9, 11.1, 14.6, 17.2, 18.5, 19.6, 20.8, 21.4, 21.3, 20.7, 17.3, 13.9, 11.7, 9.7, 8.7, 7.1, 6.4]\n"
     ]
    }
   ],
   "source": [
    "#Air Temp CRN:\n",
    "with open('CRNH0203-2022-GA_Newton_11_SW.txt') as f:\n",
    "    lst=[line.split()[9] for line in f]\n",
    "    #print(lst)\n",
    "    temp_crn=[]\n",
    "    for i in lst:\n",
    "        new=i.replace(',',\"\")\n",
    "        temp_crn.append(new)\n",
    "    temp_crn=[float(x) for x in temp_crn]\n",
    "    temp_crn=temp_crn[1421:1446]\n",
    "    print(temp_crn)\n",
    "    #print(len(temp_crn))\n",
    "    # print(temp_crn[2124])"
   ]
  },
  {
   "cell_type": "code",
   "execution_count": 35,
   "id": "f2141c03",
   "metadata": {
    "scrolled": true
   },
   "outputs": [
    {
     "name": "stdout",
     "output_type": "stream",
     "text": [
      "[1.8773600000000004, 4.305499999999999, 2.6581399999999995, 2.00533, 1.6851900000000004, 1.8136500000000004, 1.9312300000000002, 2.4285799999999997, 1.9539999999999988, 1.5205000000000002, 1.1914999999999996, 0.13510000000000133, 0.7314000000000007, 0.5788999999999973, 0.1997, -0.17639999999999745, -0.10839999999999961, -0.5893999999999977, -0.2544000000000004, 2.0345999999999993, 2.5172000000000008, 2.7139000000000006, 3.250300000000001, 3.1492000000000004, 2.89156]\n"
     ]
    }
   ],
   "source": [
    "difference1_newt = []\n",
    "\n",
    "zip_object = zip(temp, temp_crn)\n",
    "for temp_i, temp_crn_i in zip_object:\n",
    "    difference1_newt.append(temp_i-temp_crn_i)\n",
    "\n",
    "print(difference1_newt)"
   ]
  },
  {
   "cell_type": "markdown",
   "id": "ab4663ab",
   "metadata": {},
   "source": [
    "<font size=\"3\">Salem, MO: 1300 UTC 30 March 2022-1300 UTC 31 March 2022</font>"
   ]
  },
  {
   "cell_type": "code",
   "execution_count": 36,
   "id": "ede1cb39",
   "metadata": {},
   "outputs": [
    {
     "name": "stdout",
     "output_type": "stream",
     "text": [
      "[-0.590759, -0.319641, -0.124878, 0.028595, 0.0329285, 0.179291, 0.21228, 0.693329, 3.68619, 6.70285, 9.22385, 11.8117, 14.1844, 15.9666, 17.0616, 17.8093, 17.8873, 16.7959, 13.7957, 11.4784, 10.2579, 9.30884, 8.51297, 8.12674, 7.03265]\n",
      "25\n"
     ]
    }
   ],
   "source": [
    "#12 hr hrrr:\n",
    "with open('hrrr_f12_Salem_MO.txt') as f:\n",
    "    lst=[line.split()[1] for line in f]\n",
    "    temp=[]\n",
    "    for i in lst:\n",
    "        new=i.replace(',',\"\")\n",
    "        temp.append(new)\n",
    "    temp.pop(0)\n",
    "    temp=[float(x) for x in temp]\n",
    "    temp=temp[1698:1723]\n",
    "    #temp=temp[2015:2063]\n",
    "    print(temp)\n",
    "    print(len(temp))\n",
    "#full time period is [2015:2112]"
   ]
  },
  {
   "cell_type": "code",
   "execution_count": 37,
   "id": "01b4011e",
   "metadata": {},
   "outputs": [
    {
     "name": "stdout",
     "output_type": "stream",
     "text": [
      "[-1.4, -0.9, -0.5, -0.5, 0.5, 1.7, 1.2, 1.2, 3.9, 7.3, 10.9, 13.8, 16.4, 17.9, 18.7, 18.7, 18.9, 18.2, 16.8, 14.0, 12.0, 11.6, 10.8, 10.2, 9.2]\n"
     ]
    }
   ],
   "source": [
    "#Air Temp CRN:\n",
    "with open('CRNH0203-2022-MO_Salem_10_W.txt') as f:\n",
    "    lst=[line.split()[9] for line in f]\n",
    "    #print(lst)\n",
    "    temp_crn=[]\n",
    "    for i in lst:\n",
    "        new=i.replace(',',\"\")\n",
    "        temp_crn.append(new)\n",
    "    temp_crn=[float(x) for x in temp_crn]\n",
    "    temp_crn=temp_crn[1709:1734]\n",
    "    print(temp_crn)\n",
    "    #print(len(temp_crn))\n",
    "    # print(temp_crn[2124])"
   ]
  },
  {
   "cell_type": "code",
   "execution_count": 38,
   "id": "80548ed7",
   "metadata": {},
   "outputs": [],
   "source": [
    "# hour=[]\n",
    "# for i in range(-12,13,1):\n",
    "#     hour.append(i)\n",
    "#     i+=1\n",
    "# print(len(hour))"
   ]
  },
  {
   "cell_type": "code",
   "execution_count": 39,
   "id": "e426b6a3",
   "metadata": {},
   "outputs": [
    {
     "name": "stdout",
     "output_type": "stream",
     "text": [
      "[0.8092409999999999, 0.5803590000000001, 0.375122, 0.528595, -0.4670715, -1.5207089999999999, -0.9877199999999999, -0.506671, -0.21381000000000006, -0.5971500000000001, -1.6761499999999998, -1.9883000000000006, -2.2155999999999985, -1.933399999999999, -1.6384000000000007, -0.8906999999999989, -1.0126999999999988, -1.4040999999999997, -3.0043000000000006, -2.5215999999999994, -1.7421000000000006, -2.2911599999999996, -2.2870300000000015, -2.0732599999999994, -2.167349999999999]\n"
     ]
    }
   ],
   "source": [
    "difference2_sal = []\n",
    "\n",
    "zip_object = zip(temp, temp_crn)\n",
    "for temp_i, temp_crn_i in zip_object:\n",
    "    difference2_sal.append(temp_i-temp_crn_i)\n",
    "\n",
    "print(difference2_sal)"
   ]
  },
  {
   "cell_type": "markdown",
   "id": "e17a19ca",
   "metadata": {},
   "source": [
    "<font size=\"3\">Batesville, AR: 1300 UTC 30 March 2022-1300 UTC 31 March 2022</font>"
   ]
  },
  {
   "cell_type": "code",
   "execution_count": 40,
   "id": "382cdc03",
   "metadata": {},
   "outputs": [
    {
     "name": "stdout",
     "output_type": "stream",
     "text": [
      "[-0.340759, -0.0696411, 0.0626221, 0.091095, 0.157928, 0.366791, 0.21228, 0.505829, 4.18619, 6.89035, 9.03635, 10.8117, 12.3719, 13.7791, 14.8741, 15.7468, 15.8873, 14.7334, 11.9832, 9.47842, 7.9454, 7.24634, 6.76297, 6.06424, 4.90765]\n",
      "25\n"
     ]
    }
   ],
   "source": [
    "#12 hr hrrr:\n",
    "with open('hrrr_f12_Batesville_AR.txt') as f:\n",
    "    lst=[line.split()[1] for line in f]\n",
    "    temp=[]\n",
    "    for i in lst:\n",
    "        new=i.replace(',',\"\")\n",
    "        temp.append(new)\n",
    "    temp.pop(0)\n",
    "    temp=[float(x) for x in temp]\n",
    "    temp=temp[1698:1723]\n",
    "    #temp=temp[2015:2063]\n",
    "    print(temp)\n",
    "    print(len(temp))\n",
    "#full time period is [2015:2112]"
   ]
  },
  {
   "cell_type": "code",
   "execution_count": 41,
   "id": "2dcc93c0",
   "metadata": {},
   "outputs": [
    {
     "name": "stdout",
     "output_type": "stream",
     "text": [
      "[-2.7, 0.5, 1.3, 1.2, 1.5, 1.7, 1.6, 1.8, 3.6, 6.4, 8.4, 10.8, 13.5, 15.0, 15.8, 16.6, 17.0, 16.6, 15.0, 12.0, 9.6, 9.8, 9.9, 9.6, 9.3]\n"
     ]
    }
   ],
   "source": [
    "#Air Temp CRN:\n",
    "with open('CRNH0203-2022-AR_Batesville_8_WNW.txt') as f:\n",
    "    lst=[line.split()[9] for line in f]\n",
    "    #print(lst)\n",
    "    temp_crn=[]\n",
    "    for i in lst:\n",
    "        new=i.replace(',',\"\")\n",
    "        temp_crn.append(new)\n",
    "    temp_crn=[float(x) for x in temp_crn]\n",
    "    temp_crn=temp_crn[1709:1734]\n",
    "    print(temp_crn)\n",
    "    #print(len(temp_crn))\n",
    "    # print(temp_crn[2124])"
   ]
  },
  {
   "cell_type": "code",
   "execution_count": 42,
   "id": "12f91aa0",
   "metadata": {},
   "outputs": [
    {
     "name": "stdout",
     "output_type": "stream",
     "text": [
      "[2.3592410000000004, -0.5696411, -1.2373779, -1.108905, -1.342072, -1.333209, -1.38772, -1.294171, 0.5861899999999998, 0.4903499999999994, 0.6363500000000002, 0.011699999999999378, -1.1280999999999999, -1.2209000000000003, -0.9259000000000004, -0.8532000000000011, -1.1127000000000002, -1.8666000000000018, -3.0168, -2.52158, -1.6545999999999994, -2.5536600000000007, -3.13703, -3.53576, -4.39235]\n"
     ]
    }
   ],
   "source": [
    "difference2_bat = []\n",
    "\n",
    "zip_object = zip(temp, temp_crn)\n",
    "for temp_i, temp_crn_i in zip_object:\n",
    "    difference2_bat.append(temp_i-temp_crn_i)\n",
    "\n",
    "print(difference2_bat)"
   ]
  },
  {
   "cell_type": "markdown",
   "id": "0b95ca71",
   "metadata": {},
   "source": [
    "<font size=\"3\">Lafayette, LA: 1700 UTC 30 March 2022-1700 UTC 31 March 2022</font>"
   ]
  },
  {
   "cell_type": "code",
   "execution_count": 43,
   "id": "3617c9ac",
   "metadata": {},
   "outputs": [
    {
     "name": "stdout",
     "output_type": "stream",
     "text": [
      "[3.09674, 2.30536, 1.75012, 1.15359, 0.470428, 0.366791, 0.0872803, 0.880829, 4.68619, 8.51535, 10.9738, 12.9992, 14.7469, 16.3416, 17.1866, 17.4968, 16.5748, 15.6084, 14.1082, 12.4784, 11.4454, 11.4963, 11.513, 10.3767, 10.7202]\n",
      "25\n"
     ]
    }
   ],
   "source": [
    "#12 hr hrrr:\n",
    "with open('hrrr_f12_Lafayette_LA.txt') as f:\n",
    "    lst=[line.split()[1] for line in f]\n",
    "    temp=[]\n",
    "    for i in lst:\n",
    "        new=i.replace(',',\"\")\n",
    "        temp.append(new)\n",
    "    temp.pop(0)\n",
    "    temp=[float(x) for x in temp]\n",
    "    temp=temp[1698:1723]\n",
    "    #temp=temp[2015:2063]\n",
    "    print(temp)\n",
    "    print(len(temp))\n",
    "#full time period is [2015:2112]"
   ]
  },
  {
   "cell_type": "code",
   "execution_count": 44,
   "id": "16943c4f",
   "metadata": {},
   "outputs": [
    {
     "name": "stdout",
     "output_type": "stream",
     "text": [
      "[2.5, 2.1, 0.7, -0.4, -1.1, -1.5, -0.4, 0.7, 2.8, 6.1, 8.7, 10.6, 12.0, 13.1, 14.2, 14.7, 14.5, 14.7, 13.6, 11.6, 10.3, 8.4, 8.3, 8.7, 8.5]\n"
     ]
    }
   ],
   "source": [
    "#Air Temp CRN:\n",
    "with open('CRNH0203-2022-LA_Lafayette_13_SE.txt') as f:\n",
    "    lst=[line.split()[9] for line in f]\n",
    "    #print(lst)\n",
    "    temp_crn=[]\n",
    "    for i in lst:\n",
    "        new=i.replace(',',\"\")\n",
    "        temp_crn.append(new)\n",
    "    temp_crn=[float(x) for x in temp_crn]\n",
    "    temp_crn=temp_crn[1709:1734]\n",
    "    print(temp_crn)\n",
    "    #print(len(temp_crn))\n",
    "    # print(temp_crn[2124])"
   ]
  },
  {
   "cell_type": "code",
   "execution_count": 45,
   "id": "ad9e49f7",
   "metadata": {},
   "outputs": [
    {
     "name": "stdout",
     "output_type": "stream",
     "text": [
      "[0.59674, 0.20535999999999976, 1.05012, 1.5535899999999998, 1.5704280000000002, 1.866791, 0.4872803, 0.18082900000000002, 1.88619, 2.41535, 2.2738000000000014, 2.3992000000000004, 2.7469, 3.2416, 2.9865999999999993, 2.796800000000001, 2.0747999999999998, 0.9084000000000003, 0.5082000000000004, 0.878400000000001, 1.1453999999999986, 3.0962999999999994, 3.212999999999999, 1.6767000000000003, 2.2202]\n"
     ]
    }
   ],
   "source": [
    "difference2_laf = []\n",
    "\n",
    "zip_object = zip(temp, temp_crn)\n",
    "for temp_i, temp_crn_i in zip_object:\n",
    "    difference2_laf.append(temp_i-temp_crn_i)\n",
    "\n",
    "print(difference2_laf)"
   ]
  },
  {
   "cell_type": "markdown",
   "id": "5bdd017c",
   "metadata": {},
   "source": [
    "<font size=\"3\">Monroe, LA: 1700 UTC 30 March 2022-1700 UTC 31 March 2022</font>"
   ]
  },
  {
   "cell_type": "code",
   "execution_count": 46,
   "id": "10e3c873",
   "metadata": {},
   "outputs": [
    {
     "name": "stdout",
     "output_type": "stream",
     "text": [
      "[0.846741, 0.430359, 0.125122, -0.283905, -0.529572, -0.570709, -0.53772, -0.119171, 2.99869, 5.89035, 8.41135, 11.0617, 12.7469, 14.5916, 15.5616, 16.1843, 16.3248, 15.6709, 13.6707, 10.9784, 9.3204, 8.43384, 7.70047, 7.18924, 6.84515]\n",
      "25\n"
     ]
    }
   ],
   "source": [
    "#12 hr hrrr:\n",
    "with open('hrrr_f12_Monroe_LA.txt') as f:\n",
    "    lst=[line.split()[1] for line in f]\n",
    "    temp=[]\n",
    "    for i in lst:\n",
    "        new=i.replace(',',\"\")\n",
    "        temp.append(new)\n",
    "    temp.pop(0)\n",
    "    temp=[float(x) for x in temp]\n",
    "    temp=temp[1698:1723]\n",
    "    #temp=temp[2015:2063]\n",
    "    print(temp)\n",
    "    print(len(temp))\n",
    "#full time period is [2015:2112]"
   ]
  },
  {
   "cell_type": "code",
   "execution_count": 47,
   "id": "4d3f3d6e",
   "metadata": {},
   "outputs": [
    {
     "name": "stdout",
     "output_type": "stream",
     "text": [
      "[-1.1, -2.1, -2.2, -2.1, -2.4, -2.9, -3.0, -2.7, 0.9, 4.6, 8.1, 10.8, 12.4, 13.7, 14.9, 15.6, 16.1, 16.1, 15.0, 11.7, 8.8, 6.0, 4.6, 4.7, 5.1]\n"
     ]
    }
   ],
   "source": [
    "#Air Temp CRN:\n",
    "with open('CRNH0203-2022-LA_Monroe_26_N.txt') as f:\n",
    "    lst=[line.split()[9] for line in f]\n",
    "    #print(lst)\n",
    "    temp_crn=[]\n",
    "    for i in lst:\n",
    "        new=i.replace(',',\"\")\n",
    "        temp_crn.append(new)\n",
    "    temp_crn=[float(x) for x in temp_crn]\n",
    "    temp_crn=temp_crn[1709:1734]\n",
    "    print(temp_crn)\n",
    "    #print(len(temp_crn))\n",
    "    # print(temp_crn[2124])"
   ]
  },
  {
   "cell_type": "code",
   "execution_count": 48,
   "id": "178b8e52",
   "metadata": {},
   "outputs": [
    {
     "name": "stdout",
     "output_type": "stream",
     "text": [
      "[1.946741, 2.5303590000000002, 2.3251220000000004, 1.816095, 1.870428, 2.329291, 2.46228, 2.580829, 2.09869, 1.29035, 0.3113500000000009, 0.2616999999999994, 0.34689999999999976, 0.8916000000000004, 0.6616, 0.5843000000000007, 0.22479999999999833, -0.4291000000000018, -1.3293, -0.7215999999999987, 0.5203999999999986, 2.43384, 3.1004700000000005, 2.4892399999999997, 1.7451500000000006]\n"
     ]
    }
   ],
   "source": [
    "difference2_mon = []\n",
    "\n",
    "zip_object = zip(temp, temp_crn)\n",
    "for temp_i, temp_crn_i in zip_object:\n",
    "    difference2_mon.append(temp_i-temp_crn_i)\n",
    "\n",
    "print(difference2_mon)"
   ]
  },
  {
   "cell_type": "markdown",
   "id": "3e401515",
   "metadata": {},
   "source": [
    "<font size=\"3\">Holly Springs, MS: 2000 UTC 30 March 2022-2000 UTC 31 March 2022</font>"
   ]
  },
  {
   "cell_type": "code",
   "execution_count": 49,
   "id": "581a9384",
   "metadata": {},
   "outputs": [
    {
     "name": "stdout",
     "output_type": "stream",
     "text": [
      "[-0.715759, -0.757141, -0.937378, -0.908905, -0.904572, -0.758209, -0.78772, -0.431671, 1.74869, 4.07785, 6.41135, 8.93674, 11.2469, 12.9666, 14.0616, 14.9968, 14.6373, 13.7334, 10.7957, 8.72842, 7.6329, 6.68384, 5.95047, 5.31424, 4.47015]\n",
      "25\n"
     ]
    }
   ],
   "source": [
    "#12 hr hrrr:\n",
    "with open('hrrr_f12_Holly Springs_MS.txt') as f:\n",
    "    lst=[line.split()[1] for line in f]\n",
    "    temp=[]\n",
    "    for i in lst:\n",
    "        new=i.replace(',',\"\")\n",
    "        temp.append(new)\n",
    "    temp.pop(0)\n",
    "    temp=[float(x) for x in temp]\n",
    "    temp=temp[1698:1723]\n",
    "    #temp=temp[2015:2063]\n",
    "    print(temp)\n",
    "    print(len(temp))\n",
    "#full time period is [2015:2112]"
   ]
  },
  {
   "cell_type": "code",
   "execution_count": 50,
   "id": "cc96dac3",
   "metadata": {},
   "outputs": [
    {
     "name": "stdout",
     "output_type": "stream",
     "text": [
      "[-5.7, -6.3, -5.1, -4.5, -4.7, -4.9, -4.3, -3.5, -1.4, 2.4, 5.9, 8.8, 11.2, 12.8, 13.9, 14.9, 15.0, 14.7, 13.3, 8.3, 5.0, 4.0, 5.1, 5.1, 6.1]\n"
     ]
    }
   ],
   "source": [
    "#Air Temp CRN:\n",
    "with open('CRNH0203-2022-MS_Holly_Springs_4_N.txt') as f:\n",
    "    lst=[line.split()[9] for line in f]\n",
    "    #print(lst)\n",
    "    temp_crn=[]\n",
    "    for i in lst:\n",
    "        new=i.replace(',',\"\")\n",
    "        temp_crn.append(new)\n",
    "    temp_crn=[float(x) for x in temp_crn]\n",
    "    temp_crn=temp_crn[1709:1734]\n",
    "    print(temp_crn)\n",
    "    #print(len(temp_crn))\n",
    "    # print(temp_crn[2124])"
   ]
  },
  {
   "cell_type": "code",
   "execution_count": 51,
   "id": "b348cd62",
   "metadata": {},
   "outputs": [
    {
     "name": "stdout",
     "output_type": "stream",
     "text": [
      "[4.984241, 5.542859, 4.162622, 3.591095, 3.7954280000000002, 4.1417910000000004, 3.5122799999999996, 3.068329, 3.14869, 1.6778499999999998, 0.5113499999999993, 0.13673999999999964, 0.04690000000000083, 0.16659999999999897, 0.16159999999999997, 0.0968, -0.36270000000000024, -0.9665999999999997, -2.5043000000000006, 0.42841999999999913, 2.6329000000000002, 2.68384, 0.8504700000000005, 0.2142400000000002, -1.6298499999999994]\n"
     ]
    }
   ],
   "source": [
    "difference2_hol = []\n",
    "\n",
    "zip_object = zip(temp, temp_crn)\n",
    "for temp_i, temp_crn_i in zip_object:\n",
    "    difference2_hol.append(temp_i-temp_crn_i)\n",
    "\n",
    "print(difference2_hol)"
   ]
  },
  {
   "cell_type": "markdown",
   "id": "b5225197",
   "metadata": {},
   "source": [
    "<font size=\"3\">Newton, MS: 2000 UTC 30 March 2022-2000 UTC 31 March 2022</font>"
   ]
  },
  {
   "cell_type": "code",
   "execution_count": 52,
   "id": "7639cfdd",
   "metadata": {},
   "outputs": [
    {
     "name": "stdout",
     "output_type": "stream",
     "text": [
      "[-1.02826, -1.31964, -2.93738, -3.59641, -3.90457, -4.19571, -4.35022, -2.86917, 1.74869, 5.14035, 8.03635, 10.2492, 11.7469, 13.5291, 14.4366, 15.0593, 15.1373, 14.4834, 12.1707, 9.66592, 8.0704, 7.12134, 6.13797, 5.31424, 4.40765]\n",
      "25\n"
     ]
    }
   ],
   "source": [
    "#12 hr hrrr:\n",
    "with open('hrrr_f12_Newton_MS.txt') as f:\n",
    "    lst=[line.split()[1] for line in f]\n",
    "    temp=[]\n",
    "    for i in lst:\n",
    "        new=i.replace(',',\"\")\n",
    "        temp.append(new)\n",
    "    temp.pop(0)\n",
    "    temp=[float(x) for x in temp]\n",
    "    temp=temp[1698:1723]\n",
    "    #temp=temp[2015:2063]\n",
    "    print(temp)\n",
    "    print(len(temp))\n",
    "#full time period is [2015:2112]"
   ]
  },
  {
   "cell_type": "code",
   "execution_count": 53,
   "id": "b4fea934",
   "metadata": {},
   "outputs": [
    {
     "name": "stdout",
     "output_type": "stream",
     "text": [
      "[-3.0, -3.6, -3.9, -4.2, -4.6, -4.6, -5.0, -4.9, -1.6, 1.7, 4.7, 7.0, 9.4, 11.2, 12.5, 13.8, 14.5, 14.6, 13.3, 8.9, 5.8, 4.1, 2.6, 1.8, 1.1]\n"
     ]
    }
   ],
   "source": [
    "#Air Temp CRN:\n",
    "with open('CRNH0203-2022-MS_Newton_5_ENE.txt') as f:\n",
    "    lst=[line.split()[9] for line in f]\n",
    "    #print(lst)\n",
    "    temp_crn=[]\n",
    "    for i in lst:\n",
    "        new=i.replace(',',\"\")\n",
    "        temp_crn.append(new)\n",
    "    temp_crn=[float(x) for x in temp_crn]\n",
    "    temp_crn=temp_crn[1709:1734]\n",
    "    print(temp_crn)\n",
    "    #print(len(temp_crn))\n",
    "    # print(temp_crn[2124])"
   ]
  },
  {
   "cell_type": "code",
   "execution_count": 54,
   "id": "cd6de2b7",
   "metadata": {},
   "outputs": [
    {
     "name": "stdout",
     "output_type": "stream",
     "text": [
      "[1.97174, 2.28036, 0.9626199999999998, 0.6035900000000001, 0.6954299999999995, 0.4042899999999996, 0.6497799999999998, 2.0308300000000004, 3.3486900000000004, 3.4403499999999996, 3.3363500000000004, 3.2492, 2.3468999999999998, 2.3291000000000004, 1.9366000000000003, 1.2592999999999996, 0.6372999999999998, -0.11660000000000004, -1.1293000000000006, 0.7659199999999995, 2.2703999999999995, 3.0213400000000004, 3.53797, 3.51424, 3.30765]\n"
     ]
    }
   ],
   "source": [
    "difference2_new = []\n",
    "\n",
    "zip_object = zip(temp, temp_crn)\n",
    "for temp_i, temp_crn_i in zip_object:\n",
    "    difference2_new.append(temp_i-temp_crn_i)\n",
    "\n",
    "print(difference2_new)"
   ]
  },
  {
   "cell_type": "markdown",
   "id": "bfaeb78c",
   "metadata": {},
   "source": [
    "<font size=\"3\">Gainesville, AL: 2300 UTC 30 March 2022-2300 UTC 31 March 2022</font>"
   ]
  },
  {
   "cell_type": "code",
   "execution_count": 55,
   "id": "6ad50471",
   "metadata": {},
   "outputs": [
    {
     "name": "stdout",
     "output_type": "stream",
     "text": [
      "[-2.21576, -3.44464, -3.87488, -4.15891, -4.46707, -4.13321, -4.41272, -2.80667, 1.93619, 4.89035, 7.28635, 9.81174, 11.6219, 13.3416, 14.4366, 15.0593, 15.1373, 14.1709, 11.4207, 9.35342, 8.0704, 6.99634, 5.95047, 5.12674, 4.15765]\n",
      "25\n"
     ]
    }
   ],
   "source": [
    "#12 hr hrrr:\n",
    "with open('hrrr_f12_Gainesville_AL.txt') as f:\n",
    "    lst=[line.split()[1] for line in f]\n",
    "    temp=[]\n",
    "    for i in lst:\n",
    "        new=i.replace(',',\"\")\n",
    "        temp.append(new)\n",
    "    temp.pop(0)\n",
    "    temp=[float(x) for x in temp]\n",
    "    temp=temp[1698:1723]\n",
    "    #temp=temp[2015:2063]\n",
    "    print(temp)\n",
    "    print(len(temp))\n",
    "#full time period is [2015:2112]"
   ]
  },
  {
   "cell_type": "code",
   "execution_count": 56,
   "id": "1fd4e19a",
   "metadata": {},
   "outputs": [
    {
     "name": "stdout",
     "output_type": "stream",
     "text": [
      "[-2.2, -2.6, -2.9, -3.1, -3.4, -3.3, -3.4, -3.4, -1.2, 1.8, 4.2, 6.6, 8.7, 10.9, 12.5, 13.5, 14.3, 14.2, 13.2, 10.4, 7.5, 5.6, 4.7, 3.7, 3.2]\n"
     ]
    }
   ],
   "source": [
    "#Air Temp CRN:\n",
    "with open('CRNH0203-2022-AL_Gainesville_2_NE.txt') as f:\n",
    "    lst=[line.split()[9] for line in f]\n",
    "    #print(lst)\n",
    "    temp_crn=[]\n",
    "    for i in lst:\n",
    "        new=i.replace(',',\"\")\n",
    "        temp_crn.append(new)\n",
    "    temp_crn=[float(x) for x in temp_crn]\n",
    "    temp_crn=temp_crn[1709:1734]\n",
    "    print(temp_crn)\n",
    "    #print(len(temp_crn))\n",
    "    # print(temp_crn[2124])"
   ]
  },
  {
   "cell_type": "code",
   "execution_count": 57,
   "id": "82a257d7",
   "metadata": {},
   "outputs": [
    {
     "name": "stdout",
     "output_type": "stream",
     "text": [
      "[-0.015759999999999774, -0.8446400000000001, -0.9748800000000002, -1.0589099999999996, -1.0670699999999997, -0.8332100000000002, -1.0127200000000003, 0.5933299999999999, 3.13619, 3.09035, 3.0863499999999995, 3.2117400000000007, 2.921900000000001, 2.4415999999999993, 1.9366000000000003, 1.5593000000000004, 0.837299999999999, -0.02909999999999968, -1.7792999999999992, -1.0465800000000005, 0.5703999999999994, 1.3963400000000004, 1.25047, 1.4267399999999997, 0.9576500000000001]\n"
     ]
    }
   ],
   "source": [
    "difference2_gai = []\n",
    "\n",
    "zip_object = zip(temp, temp_crn)\n",
    "for temp_i, temp_crn_i in zip_object:\n",
    "    difference2_gai.append(temp_i-temp_crn_i)\n",
    "\n",
    "print(difference2_gai)"
   ]
  },
  {
   "cell_type": "markdown",
   "id": "0917b86d",
   "metadata": {},
   "source": [
    "<font size=\"3\">Fairhope, AL: 0100 UTC 31 March 2022-0100 UTC 1 April 2022</font>"
   ]
  },
  {
   "cell_type": "code",
   "execution_count": 58,
   "id": "102e4d08",
   "metadata": {},
   "outputs": [
    {
     "name": "stdout",
     "output_type": "stream",
     "text": [
      "[1.72174, 1.30536, 0.750122, 0.403595, -0.0295715, -0.445709, -0.72522, 0.818329, 3.43619, 6.01535, 8.03635, 10.1242, 11.8094, 12.9041, 13.4366, 13.3093, 13.3248, 12.4834, 10.4832, 8.60342, 7.3204, 6.43384, 6.13797, 5.62674, 4.97015]\n",
      "25\n"
     ]
    }
   ],
   "source": [
    "#12 hr hrrr:\n",
    "with open('hrrr_f12_Fairhope_AL.txt') as f:\n",
    "    lst=[line.split()[1] for line in f]\n",
    "    temp=[]\n",
    "    for i in lst:\n",
    "        new=i.replace(',',\"\")\n",
    "        temp.append(new)\n",
    "    temp.pop(0)\n",
    "    temp=[float(x) for x in temp]\n",
    "    temp=temp[1698:1723]\n",
    "    #temp=temp[2015:2063]\n",
    "    print(temp)\n",
    "    print(len(temp))\n",
    "#full time period is [2015:2112]"
   ]
  },
  {
   "cell_type": "code",
   "execution_count": 59,
   "id": "96fb5481",
   "metadata": {},
   "outputs": [
    {
     "name": "stdout",
     "output_type": "stream",
     "text": [
      "[1.6, 1.2, 0.0, -0.8, -0.7, -1.0, -1.0, -0.5, 1.6, 4.3, 6.8, 9.1, 10.7, 11.0, 10.7, 11.6, 11.4, 10.7, 9.4, 7.5, 4.6, 3.4, 2.4, 1.7, 1.2]\n"
     ]
    }
   ],
   "source": [
    "#Air Temp CRN:\n",
    "with open('CRNH0203-2022-AL_Fairhope_3_NE.txt') as f:\n",
    "    lst=[line.split()[9] for line in f]\n",
    "    #print(lst)\n",
    "    temp_crn=[]\n",
    "    for i in lst:\n",
    "        new=i.replace(',',\"\")\n",
    "        temp_crn.append(new)\n",
    "    temp_crn=[float(x) for x in temp_crn]\n",
    "    temp_crn=temp_crn[1709:1734]\n",
    "    print(temp_crn)\n",
    "    #print(len(temp_crn))\n",
    "    # print(temp_crn[2124])"
   ]
  },
  {
   "cell_type": "code",
   "execution_count": 60,
   "id": "f15c30e0",
   "metadata": {},
   "outputs": [
    {
     "name": "stdout",
     "output_type": "stream",
     "text": [
      "[0.12173999999999996, 0.10536000000000012, 0.750122, 1.203595, 0.6704285, 0.554291, 0.27478, 1.3183289999999999, 1.8361899999999998, 1.71535, 1.2363500000000007, 1.0242000000000004, 1.1094000000000008, 1.9040999999999997, 2.736600000000001, 1.7093000000000007, 1.9247999999999994, 1.7834000000000003, 1.0831999999999997, 1.1034199999999998, 2.7204000000000006, 3.03384, 3.7379700000000002, 3.9267399999999997, 3.77015]\n"
     ]
    }
   ],
   "source": [
    "difference2_fai = []\n",
    "\n",
    "zip_object = zip(temp, temp_crn)\n",
    "for temp_i, temp_crn_i in zip_object:\n",
    "    difference2_fai.append(temp_i-temp_crn_i)\n",
    "\n",
    "print(difference2_fai)"
   ]
  },
  {
   "cell_type": "markdown",
   "id": "e9530edf",
   "metadata": {},
   "source": [
    "<font size=\"3\">**Selma, AL: 0100 UTC 31 March 2022-0100 UTC 1 April 2022</font>"
   ]
  },
  {
   "cell_type": "code",
   "execution_count": 61,
   "id": "15e7e080",
   "metadata": {},
   "outputs": [
    {
     "name": "stdout",
     "output_type": "stream",
     "text": [
      "[-0.403259, -0.444641, -0.499878, -0.471405, -0.404572, -0.508209, -0.53772, 0.130829, 2.24869, 4.07785, 5.66135, 7.62424, 8.87189, 10.2166, 11.4366, 12.3093, 12.8248, 12.1084, 9.92075, 7.60342, 6.7579, 6.05884, 5.63797, 4.93924, 4.03265]\n",
      "25\n",
      "[-2.6, -3.1, -3.7, -4.0, -4.4, -4.7, -4.9, -3.9, -0.8, 2.2, 4.7, 6.8, 8.7, 10.2, 11.5, 12.6, 13.4, 13.5, 12.3, 7.7, 5.1, 3.8, 2.9, 2.3, 2.7]\n",
      "25\n",
      "[2.1967410000000003, 2.6553590000000002, 3.2001220000000004, 3.528595, 3.9954280000000004, 4.191791, 4.36228, 4.030829, 3.0486899999999997, 1.8778499999999996, 0.9613499999999995, 0.8242400000000005, 0.1718900000000012, 0.016600000000000392, -0.06339999999999968, -0.2906999999999993, -0.5752000000000006, -1.3916000000000004, -2.3792500000000008, -0.09658000000000033, 1.6579000000000006, 2.25884, 2.7379700000000002, 2.63924, 1.3326500000000001]\n",
      "25\n"
     ]
    }
   ],
   "source": [
    "#12 hr hrrr:\n",
    "with open('hrrr_f12_Selma_AL.txt') as f:\n",
    "    lst=[line.split()[1] for line in f]\n",
    "    temp=[]\n",
    "    for i in lst:\n",
    "        new=i.replace(',',\"\")\n",
    "        temp.append(new)\n",
    "    temp.pop(0)\n",
    "    temp=[float(x) for x in temp]\n",
    "    temp=temp[1698:1723]\n",
    "    \n",
    "#Air Temp CRN:\n",
    "with open('CRNH0203-2022-AL_Selma_13_WNW.txt') as f:\n",
    "    lst=[line.split()[9] for line in f]\n",
    "    #print(lst)\n",
    "    temp_crn=[]\n",
    "    for i in lst:\n",
    "        new=i.replace(',',\"\")\n",
    "        temp_crn.append(new)\n",
    "    temp_crn=[float(x) for x in temp_crn]\n",
    "    temp_crn=temp_crn[1709:1734]\n",
    "\n",
    "    print(temp)\n",
    "    print(len(temp))\n",
    "    print(temp_crn)\n",
    "    print(len(temp_crn))\n",
    "#full time period is [2015:2112]\n",
    "difference2_sel = []\n",
    "\n",
    "zip_object = zip(temp, temp_crn)\n",
    "for temp_i, temp_crn_i in zip_object:\n",
    "    difference2_sel.append(temp_i-temp_crn_i)\n",
    "\n",
    "print(difference2_sel)\n",
    "print(len(difference2_sel))"
   ]
  },
  {
   "cell_type": "markdown",
   "id": "96c13278",
   "metadata": {},
   "source": [
    "<font size=\"3\">Bowling Green, KY: 0100 UTC 31 March 2022-0100 UTC 1 April 2022</font>"
   ]
  },
  {
   "cell_type": "code",
   "execution_count": 62,
   "id": "20079007",
   "metadata": {},
   "outputs": [
    {
     "name": "stdout",
     "output_type": "stream",
     "text": [
      "[-5.34076, -5.31964, -5.43738, -5.78391, -5.84207, -5.13321, -5.22522, -3.68167, -1.87631, -0.35965, 2.41135, 4.74924, 6.49689, 8.21658, 9.74911, 10.9968, 11.3248, 10.5459, 8.23325, 6.66592, 5.9454, 5.18384, 4.26297, 3.81424, 3.22015]\n"
     ]
    }
   ],
   "source": [
    "#12 hr hrrr:\n",
    "with open('hrrr_f12_Bowling Green_KY.txt') as f:\n",
    "    lst=[line.split()[1] for line in f]\n",
    "    temp=[]\n",
    "    for i in lst:\n",
    "        new=i.replace(',',\"\")\n",
    "        temp.append(new)\n",
    "    temp.pop(0)\n",
    "    temp=[float(x) for x in temp]\n",
    "    temp=temp[1698:1723]\n",
    "#     x = np.array(temp)\n",
    "#     temp= ma.masked_array(x, mask=[0, 0, 0, 0, 0,0,1,0,0,0,0,0,0,0,0,0,0,0,0,0,0,0,0,0,0])\n",
    "    #temp=temp[2015:2063]\n",
    "    print(temp)\n",
    "    #print(len(temp))\n",
    "#full time period is [2015:2112]"
   ]
  },
  {
   "cell_type": "code",
   "execution_count": 63,
   "id": "60c4e4cc",
   "metadata": {},
   "outputs": [
    {
     "name": "stdout",
     "output_type": "stream",
     "text": [
      "[-7.3, -7.0, -7.1, -7.3, -6.8, -5.5, -4.8, -4.3, -3.2, -1.7, 0.5, 3.2, 5.6, 8.1, 10.2, 11.9, 12.4, 12.2, 10.8, 9.2, 8.2, 7.7, 7.3, 6.9, 6.4]\n"
     ]
    }
   ],
   "source": [
    "#Air Temp CRN:\n",
    "with open('CRNH0203-2022-KY_Bowling_Green_21_NNE.txt') as f:\n",
    "    lst=[line.split()[9] for line in f]\n",
    "    #print(lst)\n",
    "    temp_crn=[]\n",
    "    for i in lst:\n",
    "        new=i.replace(',',\"\")\n",
    "        temp_crn.append(new)\n",
    "    temp_crn=[float(x) for x in temp_crn]\n",
    "    temp_crn=temp_crn[1709:1734]\n",
    "#     y = np.array(temp_crn)\n",
    "#     temp_crn = ma.masked_array(y, mask=[0, 0, 0, 0, 0,0,1,0,0,0,0,0,0,0,0,0,0,0,0,0,0,0,0,0,0])\n",
    "    print(temp_crn)\n",
    "    #print(len(temp_crn))\n",
    "    # print(temp_crn[2124])"
   ]
  },
  {
   "cell_type": "code",
   "execution_count": 64,
   "id": "90cedfd2",
   "metadata": {},
   "outputs": [
    {
     "name": "stdout",
     "output_type": "stream",
     "text": [
      "[1.9592399999999994, 1.6803600000000003, 1.6626199999999995, 1.5160900000000002, 0.9579300000000002, 0.36678999999999995, -0.4252200000000004, 0.6183299999999998, 1.3236900000000003, 1.34035, 1.91135, 1.5492400000000002, 0.89689, 0.1165800000000008, -0.45088999999999935, -0.9032, -1.0752000000000006, -1.6540999999999997, -2.5667500000000008, -2.5340799999999994, -2.254599999999999, -2.51616, -3.0370299999999997, -3.0857600000000005, -3.1798500000000005]\n"
     ]
    }
   ],
   "source": [
    "difference2_bow = []\n",
    "\n",
    "zip_object = zip(temp, temp_crn)\n",
    "for temp_i, temp_crn_i in zip_object:\n",
    "    difference2_bow.append(temp_i-temp_crn_i)\n",
    "\n",
    "print(difference2_bow)"
   ]
  },
  {
   "cell_type": "markdown",
   "id": "770eb1f1",
   "metadata": {},
   "source": [
    "<font size=\"3\">Gadsden, AL: 0200 UTC 31 March 2022-0200 UTC 1 April 2022</font>"
   ]
  },
  {
   "cell_type": "code",
   "execution_count": 65,
   "id": "b06370d2",
   "metadata": {},
   "outputs": [
    {
     "name": "stdout",
     "output_type": "stream",
     "text": [
      "[-1.65326, -1.69464, -1.74988, -1.78391, -1.96707, -3.07071, -2.97522, -1.36917, -0.0638123, 1.51535, 3.34885, 5.12424, 6.49689, 7.84158, 8.93661, 9.62183, 9.6373, 8.85837, 6.67075, 5.54092, 5.1954, 5.37134, 5.13797, 4.43924, 4.03265]\n",
      "25\n"
     ]
    }
   ],
   "source": [
    "#12 hr hrrr:\n",
    "with open('hrrr_f12_Gadsden_AL.txt') as f:\n",
    "    lst=[line.split()[1] for line in f]\n",
    "    temp=[]\n",
    "    for i in lst:\n",
    "        new=i.replace(',',\"\")\n",
    "        temp.append(new)\n",
    "    temp.pop(0)\n",
    "    temp=[float(x) for x in temp]\n",
    "    temp=temp[1698:1723]\n",
    "    #temp=temp[2015:2063]\n",
    "    print(temp)\n",
    "    print(len(temp))\n",
    "#full time period is [2015:2112]"
   ]
  },
  {
   "cell_type": "code",
   "execution_count": 66,
   "id": "c0d02698",
   "metadata": {},
   "outputs": [
    {
     "name": "stdout",
     "output_type": "stream",
     "text": [
      "[-4.9, -5.4, -6.3, -6.6, -6.4, -6.5, -6.7, -5.6, -2.7, -0.8, 1.3, 3.6, 5.7, 7.8, 9.1, 10.4, 10.9, 10.8, 9.1, 6.4, 6.5, 6.1, 5.3, 4.7, 3.2]\n"
     ]
    }
   ],
   "source": [
    "#Air Temp CRN:\n",
    "with open('CRNH0203-2022-AL_Gadsden_19_N.txt') as f:\n",
    "    lst=[line.split()[9] for line in f]\n",
    "    #print(lst)\n",
    "    temp_crn=[]\n",
    "    for i in lst:\n",
    "        new=i.replace(',',\"\")\n",
    "        temp_crn.append(new)\n",
    "    temp_crn=[float(x) for x in temp_crn]\n",
    "    temp_crn=temp_crn[1709:1734]\n",
    "    print(temp_crn)\n",
    "    #print(len(temp_crn))\n",
    "    # print(temp_crn[2124])"
   ]
  },
  {
   "cell_type": "code",
   "execution_count": 67,
   "id": "d63723fd",
   "metadata": {},
   "outputs": [
    {
     "name": "stdout",
     "output_type": "stream",
     "text": [
      "[3.2467400000000004, 3.7053600000000007, 4.55012, 4.816089999999999, 4.432930000000001, 3.42929, 3.72478, 4.230829999999999, 2.6361877000000002, 2.31535, 2.04885, 1.5242400000000003, 0.7968899999999994, 0.041580000000000616, -0.1633899999999997, -0.7781700000000011, -1.2627000000000006, -1.94163, -2.4292499999999997, -0.8590800000000005, -1.3045999999999998, -0.7286599999999996, -0.16202999999999967, -0.2607600000000003, 0.8326500000000001]\n"
     ]
    }
   ],
   "source": [
    "difference2_gad = []\n",
    "\n",
    "zip_object = zip(temp, temp_crn)\n",
    "for temp_i, temp_crn_i in zip_object:\n",
    "    difference2_gad.append(temp_i-temp_crn_i)\n",
    "\n",
    "print(difference2_gad)"
   ]
  },
  {
   "cell_type": "markdown",
   "id": "cd4a8f77",
   "metadata": {},
   "source": [
    "<font size=\"3\">Newton, GA: 0700 UTC 31 March 2022-0700 UTC 1 April 2022</font>"
   ]
  },
  {
   "cell_type": "code",
   "execution_count": 68,
   "id": "29be0aef",
   "metadata": {},
   "outputs": [
    {
     "name": "stdout",
     "output_type": "stream",
     "text": [
      "[0.0342407, -0.257141, -0.624878, -0.721405, -0.779572, -0.820709, -0.85022, 0.130829, 2.12369, 4.14035, 6.22385, 8.12424, 10.1844, 11.9666, 12.9366, 13.5593, 13.6373, 13.1084, 10.2332, 8.41592, 7.4454, 6.18384, 5.51297, 4.93924, 3.84515]\n",
      "25\n"
     ]
    }
   ],
   "source": [
    "#12 hr hrrr:\n",
    "with open('hrrr_f12_Newton_GA.txt') as f:\n",
    "    lst=[line.split()[1] for line in f]\n",
    "    temp=[]\n",
    "    for i in lst:\n",
    "        new=i.replace(',',\"\")\n",
    "        temp.append(new)\n",
    "    temp.pop(0)\n",
    "    temp=[float(x) for x in temp]\n",
    "    temp=temp[1698:1723]\n",
    "    #temp=temp[2015:2063]\n",
    "    print(temp)\n",
    "    print(len(temp))\n",
    "#full time period is [2015:2112]"
   ]
  },
  {
   "cell_type": "code",
   "execution_count": 69,
   "id": "1d798d77",
   "metadata": {},
   "outputs": [
    {
     "name": "stdout",
     "output_type": "stream",
     "text": [
      "[0.7, -0.6, -2.1, -2.2, -1.5, -2.6, -2.7, -2.0, 1.0, 3.1, 5.0, 6.9, 9.1, 10.8, 12.3, 13.4, 13.7, 13.5, 11.4, 7.7, 5.7, 4.2, 3.0, 2.6, 2.7]\n"
     ]
    }
   ],
   "source": [
    "#Air Temp CRN:\n",
    "with open('CRNH0203-2022-GA_Newton_11_SW.txt') as f:\n",
    "    lst=[line.split()[9] for line in f]\n",
    "    #print(lst)\n",
    "    temp_crn=[]\n",
    "    for i in lst:\n",
    "        new=i.replace(',',\"\")\n",
    "        temp_crn.append(new)\n",
    "    temp_crn=[float(x) for x in temp_crn]\n",
    "    temp_crn=temp_crn[1709:1734]\n",
    "    print(temp_crn)\n",
    "    #print(len(temp_crn))\n",
    "    # print(temp_crn[2124])"
   ]
  },
  {
   "cell_type": "code",
   "execution_count": 70,
   "id": "4bcfa192",
   "metadata": {},
   "outputs": [
    {
     "name": "stdout",
     "output_type": "stream",
     "text": [
      "[-0.6657592999999999, 0.34285899999999997, 1.475122, 1.4785950000000003, 0.720428, 1.7792910000000002, 1.8497800000000002, 2.130829, 1.1236899999999999, 1.0403499999999997, 1.2238499999999997, 1.22424, 1.0844000000000005, 1.166599999999999, 0.6365999999999996, 0.1593, -0.06269999999999953, -0.3916000000000004, -1.1668000000000003, 0.7159199999999997, 1.7454, 1.9838399999999998, 2.51297, 2.3392399999999998, 1.1451499999999997]\n"
     ]
    }
   ],
   "source": [
    "difference2_newt = []\n",
    "\n",
    "zip_object = zip(temp, temp_crn)\n",
    "for temp_i, temp_crn_i in zip_object:\n",
    "    difference2_newt.append(temp_i-temp_crn_i)\n",
    "\n",
    "print(difference2_newt)"
   ]
  },
  {
   "cell_type": "markdown",
   "id": "e339fc2a",
   "metadata": {},
   "source": [
    "<font size=\"3\">Salem, MO: 1300 UTC 30 March 2022-1300 UTC 31 March 2022</font>"
   ]
  },
  {
   "cell_type": "code",
   "execution_count": 71,
   "id": "58d072a4",
   "metadata": {},
   "outputs": [
    {
     "name": "stdout",
     "output_type": "stream",
     "text": [
      "[5.46628, 5.39047, 4.17081, 3.0148, 3.05371, 3.08606, 2.9404, 3.62296, 7.48672, 11.7049, 13.9962, 15.9583, 17.3228, 18.7174, 20.0112, 20.8637, 20.7176, 19.5128, 15.7875, 12.9703, 11.3979, 10.7519, 10.4109, 10.5442, 9.97867]\n",
      "25\n"
     ]
    }
   ],
   "source": [
    "#12 hr hrrr:\n",
    "with open('hrrr_f12_Salem_MO.txt') as f:\n",
    "    lst=[line.split()[1] for line in f]\n",
    "    temp=[]\n",
    "    for i in lst:\n",
    "        new=i.replace(',',\"\")\n",
    "        temp.append(new)\n",
    "    temp.pop(0)\n",
    "    temp=[float(x) for x in temp]\n",
    "    temp=temp[1866:1891]\n",
    "    #temp=temp[2015:2063]\n",
    "    print(temp)\n",
    "    print(len(temp))\n",
    "#full time period is [2015:2112]"
   ]
  },
  {
   "cell_type": "code",
   "execution_count": 72,
   "id": "7e1abfcc",
   "metadata": {},
   "outputs": [
    {
     "name": "stdout",
     "output_type": "stream",
     "text": [
      "[-1.3, -1.7, -1.9, -2.4, -2.6, -2.7, -3.0, -2.7, 4.1, 11.6, 15.9, 18.3, 19.7, 21.0, 21.9, 22.3, 22.2, 21.8, 20.3, 16.4, 11.8, 11.6, 13.7, 13.1, 13.1]\n"
     ]
    }
   ],
   "source": [
    "#Air Temp CRN:\n",
    "with open('CRNH0203-2022-MO_Salem_10_W.txt') as f:\n",
    "    lst=[line.split()[9] for line in f]\n",
    "    #print(lst)\n",
    "    temp_crn=[]\n",
    "    for i in lst:\n",
    "        new=i.replace(',',\"\")\n",
    "        temp_crn.append(new)\n",
    "    temp_crn=[float(x) for x in temp_crn]\n",
    "    temp_crn=temp_crn[1877:1902]\n",
    "    print(temp_crn)\n",
    "    #print(len(temp_crn))\n",
    "    # print(temp_crn[2124])"
   ]
  },
  {
   "cell_type": "code",
   "execution_count": 73,
   "id": "0b0c3ca7",
   "metadata": {},
   "outputs": [],
   "source": [
    "# hour=[]\n",
    "# for i in range(-12,13,1):\n",
    "#     hour.append(i)\n",
    "#     i+=1\n",
    "# print(len(hour))"
   ]
  },
  {
   "cell_type": "code",
   "execution_count": 74,
   "id": "814b070c",
   "metadata": {},
   "outputs": [
    {
     "name": "stdout",
     "output_type": "stream",
     "text": [
      "[6.76628, 7.09047, 6.07081, 5.4148, 5.65371, 5.78606, 5.9404, 6.32296, 3.3867200000000004, 0.10490000000000066, -1.9038000000000004, -2.3417000000000012, -2.3771999999999984, -2.2825999999999986, -1.8887999999999998, -1.4362999999999992, -1.4823999999999984, -2.287200000000002, -4.512500000000001, -3.4296999999999986, -0.4021000000000008, -0.8481000000000005, -3.2890999999999995, -2.5557999999999996, -3.1213300000000004]\n"
     ]
    }
   ],
   "source": [
    "difference3_sal = []\n",
    "\n",
    "zip_object = zip(temp, temp_crn)\n",
    "for temp_i, temp_crn_i in zip_object:\n",
    "    difference3_sal.append(temp_i-temp_crn_i)\n",
    "\n",
    "print(difference3_sal)"
   ]
  },
  {
   "cell_type": "markdown",
   "id": "ec4674ac",
   "metadata": {},
   "source": [
    "<font size=\"3\">Batesville, AR: 1300 UTC 30 March 2022-1300 UTC 31 March 2022</font>"
   ]
  },
  {
   "cell_type": "code",
   "execution_count": 75,
   "id": "45faf6a7",
   "metadata": {},
   "outputs": [
    {
     "name": "stdout",
     "output_type": "stream",
     "text": [
      "[8.96628, 8.76547, 8.54581, 8.2648, 7.74121, 7.52356, 7.3779, 7.87296, 10.4242, 13.3924, 15.6212, 18.5208, 20.2603, 21.9674, 22.8862, 23.3637, 23.4676, 22.1378, 19.35, 17.0328, 15.2104, 14.6894, 13.4109, 12.6692, 11.7912]\n",
      "25\n"
     ]
    }
   ],
   "source": [
    "#12 hr hrrr:\n",
    "with open('hrrr_f12_Batesville_AR.txt') as f:\n",
    "    lst=[line.split()[1] for line in f]\n",
    "    temp=[]\n",
    "    for i in lst:\n",
    "        new=i.replace(',',\"\")\n",
    "        temp.append(new)\n",
    "    temp.pop(0)\n",
    "    temp=[float(x) for x in temp]\n",
    "    temp=temp[1866:1891]\n",
    "    #temp=temp[2015:2063]\n",
    "    print(temp)\n",
    "    print(len(temp))\n",
    "#full time period is [2015:2112]"
   ]
  },
  {
   "cell_type": "code",
   "execution_count": 76,
   "id": "cc387b96",
   "metadata": {},
   "outputs": [
    {
     "name": "stdout",
     "output_type": "stream",
     "text": [
      "[3.1, 2.3, 2.0, 1.4, 1.0, 0.3, 0.3, 0.6, 4.1, 10.5, 14.4, 17.4, 19.7, 21.5, 22.9, 23.6, 23.4, 22.9, 20.4, 15.8, 16.6, 11.0, 9.6, 8.5, 8.1]\n"
     ]
    }
   ],
   "source": [
    "#Air Temp CRN:\n",
    "with open('CRNH0203-2022-AR_Batesville_8_WNW.txt') as f:\n",
    "    lst=[line.split()[9] for line in f]\n",
    "    #print(lst)\n",
    "    temp_crn=[]\n",
    "    for i in lst:\n",
    "        new=i.replace(',',\"\")\n",
    "        temp_crn.append(new)\n",
    "    temp_crn=[float(x) for x in temp_crn]\n",
    "    temp_crn=temp_crn[1877:1902]\n",
    "    print(temp_crn)\n",
    "    #print(len(temp_crn))\n",
    "    # print(temp_crn[2124])"
   ]
  },
  {
   "cell_type": "code",
   "execution_count": 77,
   "id": "25ea41f5",
   "metadata": {},
   "outputs": [
    {
     "name": "stdout",
     "output_type": "stream",
     "text": [
      "[5.86628, 6.465470000000001, 6.5458099999999995, 6.864799999999999, 6.74121, 7.22356, 7.0779000000000005, 7.27296, 6.324200000000001, 2.8924000000000003, 1.2211999999999996, 1.1208000000000027, 0.5603000000000016, 0.46740000000000137, -0.013799999999999812, -0.23629999999999995, 0.06760000000000232, -0.7622, -1.0499999999999972, 1.232800000000001, -1.3896000000000015, 3.689399999999999, 3.8109, 4.1692, 3.6912000000000003]\n"
     ]
    }
   ],
   "source": [
    "difference3_bat = []\n",
    "\n",
    "zip_object = zip(temp, temp_crn)\n",
    "for temp_i, temp_crn_i in zip_object:\n",
    "    difference3_bat.append(temp_i-temp_crn_i)\n",
    "\n",
    "print(difference3_bat)"
   ]
  },
  {
   "cell_type": "markdown",
   "id": "23fef5d9",
   "metadata": {},
   "source": [
    "<font size=\"3\">Lafayette, LA: 1700 UTC 30 March 2022-1700 UTC 31 March 2022</font>"
   ]
  },
  {
   "cell_type": "code",
   "execution_count": 78,
   "id": "0478c244",
   "metadata": {},
   "outputs": [
    {
     "name": "stdout",
     "output_type": "stream",
     "text": [
      "[10.8413, 10.0155, 9.35831, 8.6398, 8.55371, 8.14856, 7.4404, 8.49796, 13.6117, 18.5174, 20.8087, 22.7083, 24.1978, 25.1549, 25.8862, 26.2387, 26.1551, 24.8253, 22.85, 18.7828, 16.8354, 15.8769, 14.7234, 13.6067, 12.7912]\n",
      "25\n"
     ]
    }
   ],
   "source": [
    "#12 hr hrrr:\n",
    "with open('hrrr_f12_Lafayette_LA.txt') as f:\n",
    "    lst=[line.split()[1] for line in f]\n",
    "    temp=[]\n",
    "    for i in lst:\n",
    "        new=i.replace(',',\"\")\n",
    "        temp.append(new)\n",
    "    temp.pop(0)\n",
    "    temp=[float(x) for x in temp]\n",
    "    temp=temp[1866:1891]\n",
    "    #temp=temp[2015:2063]\n",
    "    print(temp)\n",
    "    print(len(temp))\n",
    "#full time period is [2015:2112]"
   ]
  },
  {
   "cell_type": "code",
   "execution_count": 79,
   "id": "5e1e22d8",
   "metadata": {},
   "outputs": [
    {
     "name": "stdout",
     "output_type": "stream",
     "text": [
      "[7.8, 7.3, 6.6, 6.1, 5.6, 5.0, 5.0, 5.0, 9.8, 15.2, 18.8, 20.9, 22.3, 23.2, 23.7, 24.0, 23.9, 23.3, 20.6, 17.0, 16.1, 15.5, 14.2, 13.0, 12.6]\n"
     ]
    }
   ],
   "source": [
    "#Air Temp CRN:\n",
    "with open('CRNH0203-2022-LA_Lafayette_13_SE.txt') as f:\n",
    "    lst=[line.split()[9] for line in f]\n",
    "    #print(lst)\n",
    "    temp_crn=[]\n",
    "    for i in lst:\n",
    "        new=i.replace(',',\"\")\n",
    "        temp_crn.append(new)\n",
    "    temp_crn=[float(x) for x in temp_crn]\n",
    "    temp_crn=temp_crn[1877:1902]\n",
    "    print(temp_crn)\n",
    "    #print(len(temp_crn))\n",
    "    # print(temp_crn[2124])"
   ]
  },
  {
   "cell_type": "code",
   "execution_count": 80,
   "id": "8d945208",
   "metadata": {},
   "outputs": [
    {
     "name": "stdout",
     "output_type": "stream",
     "text": [
      "[3.0413000000000006, 2.7154999999999996, 2.75831, 2.5397999999999996, 2.953710000000001, 3.14856, 2.4404000000000003, 3.497960000000001, 3.8117, 3.3173999999999992, 2.008700000000001, 1.8083000000000027, 1.8978000000000002, 1.954900000000002, 2.1861999999999995, 2.2387000000000015, 2.2551000000000023, 1.5252999999999979, 2.25, 1.7828000000000017, 0.7353999999999985, 0.3768999999999991, 0.5234000000000005, 0.6067, 0.19120000000000026]\n"
     ]
    }
   ],
   "source": [
    "difference3_laf = []\n",
    "\n",
    "zip_object = zip(temp, temp_crn)\n",
    "for temp_i, temp_crn_i in zip_object:\n",
    "    difference3_laf.append(temp_i-temp_crn_i)\n",
    "\n",
    "print(difference3_laf)"
   ]
  },
  {
   "cell_type": "markdown",
   "id": "b9dd7f2d",
   "metadata": {},
   "source": [
    "<font size=\"3\">Monroe, LA: 1700 UTC 30 March 2022-1700 UTC 31 March 2022</font>"
   ]
  },
  {
   "cell_type": "code",
   "execution_count": 81,
   "id": "a50a93eb",
   "metadata": {},
   "outputs": [
    {
     "name": "stdout",
     "output_type": "stream",
     "text": [
      "[10.2163, 9.76547, 8.85831, 8.3273, 8.17871, 8.27356, 8.1279, 7.81046, 11.9242, 15.2674, 17.8712, 20.2083, 22.1978, 23.9674, 24.5737, 24.7387, 24.6551, 23.5753, 20.7875, 17.9703, 16.0854, 14.5019, 13.4734, 12.5442, 11.9787]\n",
      "25\n"
     ]
    }
   ],
   "source": [
    "#12 hr hrrr:\n",
    "with open('hrrr_f12_Monroe_LA.txt') as f:\n",
    "    lst=[line.split()[1] for line in f]\n",
    "    temp=[]\n",
    "    for i in lst:\n",
    "        new=i.replace(',',\"\")\n",
    "        temp.append(new)\n",
    "    temp.pop(0)\n",
    "    temp=[float(x) for x in temp]\n",
    "    temp=temp[1866:1891]\n",
    "    #temp=temp[2015:2063]\n",
    "    print(temp)\n",
    "    print(len(temp))\n",
    "#full time period is [2015:2112]"
   ]
  },
  {
   "cell_type": "code",
   "execution_count": 82,
   "id": "27f60b99",
   "metadata": {},
   "outputs": [
    {
     "name": "stdout",
     "output_type": "stream",
     "text": [
      "[5.6, 4.9, 4.2, 4.1, 4.1, 3.8, 3.2, 3.0, 7.8, 14.5, 19.5, 21.5, 23.3, 24.2, 24.8, 24.9, 24.9, 24.4, 22.5, 16.8, 13.8, 12.8, 10.7, 8.8, 7.8]\n"
     ]
    }
   ],
   "source": [
    "#Air Temp CRN:\n",
    "with open('CRNH0203-2022-LA_Monroe_26_N.txt') as f:\n",
    "    lst=[line.split()[9] for line in f]\n",
    "    #print(lst)\n",
    "    temp_crn=[]\n",
    "    for i in lst:\n",
    "        new=i.replace(',',\"\")\n",
    "        temp_crn.append(new)\n",
    "    temp_crn=[float(x) for x in temp_crn]\n",
    "    temp_crn=temp_crn[1877:1902]\n",
    "    print(temp_crn)\n",
    "    #print(len(temp_crn))\n",
    "    # print(temp_crn[2124])"
   ]
  },
  {
   "cell_type": "code",
   "execution_count": 83,
   "id": "9a1c85d5",
   "metadata": {},
   "outputs": [
    {
     "name": "stdout",
     "output_type": "stream",
     "text": [
      "[4.616300000000001, 4.86547, 4.658309999999999, 4.2273, 4.078710000000001, 4.47356, 4.9279, 4.81046, 4.124200000000001, 0.7674000000000003, -1.6287999999999982, -1.2916999999999987, -1.1021999999999998, -0.23259999999999792, -0.22630000000000194, -0.1612999999999971, -0.24489999999999768, -0.8247, -1.7124999999999986, 1.170300000000001, 2.285399999999999, 1.7018999999999984, 2.7734000000000005, 3.7441999999999993, 4.1787]\n"
     ]
    }
   ],
   "source": [
    "difference3_mon = []\n",
    "\n",
    "zip_object = zip(temp, temp_crn)\n",
    "for temp_i, temp_crn_i in zip_object:\n",
    "    difference3_mon.append(temp_i-temp_crn_i)\n",
    "\n",
    "print(difference3_mon)"
   ]
  },
  {
   "cell_type": "markdown",
   "id": "17b1ce1e",
   "metadata": {},
   "source": [
    "<font size=\"3\">Holly Springs, MS: 2000 UTC 30 March 2022-2000 UTC 31 March 2022</font>"
   ]
  },
  {
   "cell_type": "code",
   "execution_count": 84,
   "id": "8222e3b1",
   "metadata": {},
   "outputs": [
    {
     "name": "stdout",
     "output_type": "stream",
     "text": [
      "[8.09128, 7.76547, 7.73331, 7.7023, 6.99121, 6.52356, 6.3779, 6.87296, 10.3617, 12.8299, 15.0587, 17.1458, 18.8228, 20.0299, 20.7612, 21.2387, 21.3426, 20.6378, 18.225, 16.4078, 14.3979, 13.8769, 13.2859, 12.9817, 12.6037]\n",
      "25\n"
     ]
    }
   ],
   "source": [
    "#12 hr hrrr:\n",
    "with open('hrrr_f12_Holly Springs_MS.txt') as f:\n",
    "    lst=[line.split()[1] for line in f]\n",
    "    temp=[]\n",
    "    for i in lst:\n",
    "        new=i.replace(',',\"\")\n",
    "        temp.append(new)\n",
    "    temp.pop(0)\n",
    "    temp=[float(x) for x in temp]\n",
    "    temp=temp[1866:1891]\n",
    "    #temp=temp[2015:2063]\n",
    "    print(temp)\n",
    "    print(len(temp))\n",
    "#full time period is [2015:2112]"
   ]
  },
  {
   "cell_type": "code",
   "execution_count": 85,
   "id": "9d3ecb5f",
   "metadata": {},
   "outputs": [
    {
     "name": "stdout",
     "output_type": "stream",
     "text": [
      "[4.7, 6.0, 5.2, 3.4, 2.6, 1.8, 1.3, 1.5, 6.0, 13.1, 16.3, 18.7, 20.3, 21.4, 21.9, 22.2, 22.4, 22.0, 18.6, 13.5, 10.5, 8.6, 7.2, 6.2, 5.6]\n"
     ]
    }
   ],
   "source": [
    "#Air Temp CRN:\n",
    "with open('CRNH0203-2022-MS_Holly_Springs_4_N.txt') as f:\n",
    "    lst=[line.split()[9] for line in f]\n",
    "    #print(lst)\n",
    "    temp_crn=[]\n",
    "    for i in lst:\n",
    "        new=i.replace(',',\"\")\n",
    "        temp_crn.append(new)\n",
    "    temp_crn=[float(x) for x in temp_crn]\n",
    "    temp_crn=temp_crn[1877:1902]\n",
    "    print(temp_crn)\n",
    "    #print(len(temp_crn))\n",
    "    # print(temp_crn[2124])"
   ]
  },
  {
   "cell_type": "code",
   "execution_count": 86,
   "id": "edaa290b",
   "metadata": {},
   "outputs": [
    {
     "name": "stdout",
     "output_type": "stream",
     "text": [
      "[3.391279999999999, 1.7654699999999997, 2.53331, 4.302300000000001, 4.391209999999999, 4.72356, 5.0779000000000005, 5.37296, 4.361700000000001, -0.27009999999999934, -1.2413000000000007, -1.554199999999998, -1.4771999999999998, -1.3700999999999972, -1.1387999999999998, -0.9612999999999978, -1.0573999999999977, -1.3622000000000014, -0.375, 2.9078000000000017, 3.8979, 5.2768999999999995, 6.0859, 6.7817, 7.0037]\n"
     ]
    }
   ],
   "source": [
    "difference3_hol = []\n",
    "\n",
    "zip_object = zip(temp, temp_crn)\n",
    "for temp_i, temp_crn_i in zip_object:\n",
    "    difference3_hol.append(temp_i-temp_crn_i)\n",
    "\n",
    "print(difference3_hol)"
   ]
  },
  {
   "cell_type": "markdown",
   "id": "19a413d9",
   "metadata": {},
   "source": [
    "<font size=\"3\">Newton, MS: 2000 UTC 30 March 2022-2000 UTC 31 March 2022</font>"
   ]
  },
  {
   "cell_type": "code",
   "execution_count": 87,
   "id": "603bae5b",
   "metadata": {},
   "outputs": [
    {
     "name": "stdout",
     "output_type": "stream",
     "text": [
      "[8.65378, 7.95297, 7.29581, 6.9523, 6.24121, 6.39856, 5.8154, 6.99796, 12.5492, 16.8924, 19.1212, 20.7083, 21.6353, 22.7174, 23.1987, 23.3012, 23.2176, 22.5128, 19.9125, 17.1578, 15.5229, 14.5644, 13.5359, 12.7942, 11.8537]\n",
      "25\n"
     ]
    }
   ],
   "source": [
    "#12 hr hrrr:\n",
    "with open('hrrr_f12_Newton_MS.txt') as f:\n",
    "    lst=[line.split()[1] for line in f]\n",
    "    temp=[]\n",
    "    for i in lst:\n",
    "        new=i.replace(',',\"\")\n",
    "        temp.append(new)\n",
    "    temp.pop(0)\n",
    "    temp=[float(x) for x in temp]\n",
    "    temp=temp[1866:1891]\n",
    "    #temp=temp[2015:2063]\n",
    "    print(temp)\n",
    "    print(len(temp))\n",
    "#full time period is [2015:2112]"
   ]
  },
  {
   "cell_type": "code",
   "execution_count": 88,
   "id": "533867b2",
   "metadata": {},
   "outputs": [
    {
     "name": "stdout",
     "output_type": "stream",
     "text": [
      "[3.9, 3.3, 2.7, 2.4, 2.0, 1.7, 1.4, 1.8, 6.2, 12.0, 16.7, 19.4, 21.0, 21.7, 22.5, 23.0, 23.1, 22.7, 20.9, 15.8, 13.6, 11.5, 9.4, 8.0, 7.1]\n"
     ]
    }
   ],
   "source": [
    "#Air Temp CRN:\n",
    "with open('CRNH0203-2022-MS_Newton_5_ENE.txt') as f:\n",
    "    lst=[line.split()[9] for line in f]\n",
    "    #print(lst)\n",
    "    temp_crn=[]\n",
    "    for i in lst:\n",
    "        new=i.replace(',',\"\")\n",
    "        temp_crn.append(new)\n",
    "    temp_crn=[float(x) for x in temp_crn]\n",
    "    temp_crn=temp_crn[1877:1902]\n",
    "    print(temp_crn)\n",
    "    #print(len(temp_crn))\n",
    "    # print(temp_crn[2124])"
   ]
  },
  {
   "cell_type": "code",
   "execution_count": 89,
   "id": "eb45a98b",
   "metadata": {},
   "outputs": [
    {
     "name": "stdout",
     "output_type": "stream",
     "text": [
      "[4.753779999999999, 4.65297, 4.59581, 4.552300000000001, 4.24121, 4.69856, 4.4154, 5.19796, 6.349200000000001, 4.8923999999999985, 2.4212000000000025, 1.3083000000000027, 0.6353000000000009, 1.017400000000002, 0.6986999999999988, 0.30120000000000147, 0.11759999999999948, -0.1872000000000007, -0.9874999999999972, 1.357800000000001, 1.9229000000000003, 3.064399999999999, 4.1358999999999995, 4.7942, 4.7537]\n"
     ]
    }
   ],
   "source": [
    "difference3_new = []\n",
    "\n",
    "zip_object = zip(temp, temp_crn)\n",
    "for temp_i, temp_crn_i in zip_object:\n",
    "    difference3_new.append(temp_i-temp_crn_i)\n",
    "\n",
    "print(difference3_new)"
   ]
  },
  {
   "cell_type": "markdown",
   "id": "90f22105",
   "metadata": {},
   "source": [
    "<font size=\"3\">Gainesville, AL: 2300 UTC 30 March 2022-2300 UTC 31 March 2022</font>"
   ]
  },
  {
   "cell_type": "code",
   "execution_count": 90,
   "id": "0ac4bde5",
   "metadata": {},
   "outputs": [
    {
     "name": "stdout",
     "output_type": "stream",
     "text": [
      "[8.27878, 7.70297, 6.92081, 6.4523, 6.11621, 5.71106, 5.4404, 6.99796, 11.7992, 15.2049, 17.8087, 19.6458, 20.8853, 21.9674, 22.4487, 22.6762, 22.6551, 21.7003, 18.975, 16.6578, 15.0229, 13.7519, 13.0359, 12.1692, 10.7912]\n",
      "25\n"
     ]
    }
   ],
   "source": [
    "#12 hr hrrr:\n",
    "with open('hrrr_f12_Gainesville_AL.txt') as f:\n",
    "    lst=[line.split()[1] for line in f]\n",
    "    temp=[]\n",
    "    for i in lst:\n",
    "        new=i.replace(',',\"\")\n",
    "        temp.append(new)\n",
    "    temp.pop(0)\n",
    "    temp=[float(x) for x in temp]\n",
    "    temp=temp[1866:1891]\n",
    "    #temp=temp[2015:2063]\n",
    "    print(temp)\n",
    "    print(len(temp))\n",
    "#full time period is [2015:2112]"
   ]
  },
  {
   "cell_type": "code",
   "execution_count": 91,
   "id": "29d3546b",
   "metadata": {},
   "outputs": [
    {
     "name": "stdout",
     "output_type": "stream",
     "text": [
      "[5.8, 5.2, 4.8, 4.4, 4.1, 3.8, 3.3, 3.8, 6.8, 11.5, 16.1, 18.6, 20.1, 21.4, 21.9, 22.3, 22.6, 22.5, 21.3, 16.9, 14.0, 12.0, 10.8, 9.8, 9.1]\n"
     ]
    }
   ],
   "source": [
    "#Air Temp CRN:\n",
    "with open('CRNH0203-2022-AL_Gainesville_2_NE.txt') as f:\n",
    "    lst=[line.split()[9] for line in f]\n",
    "    #print(lst)\n",
    "    temp_crn=[]\n",
    "    for i in lst:\n",
    "        new=i.replace(',',\"\")\n",
    "        temp_crn.append(new)\n",
    "    temp_crn=[float(x) for x in temp_crn]\n",
    "    temp_crn=temp_crn[1877:1902]\n",
    "    print(temp_crn)\n",
    "    #print(len(temp_crn))\n",
    "    # print(temp_crn[2124])"
   ]
  },
  {
   "cell_type": "code",
   "execution_count": 92,
   "id": "8884c090",
   "metadata": {},
   "outputs": [
    {
     "name": "stdout",
     "output_type": "stream",
     "text": [
      "[2.4787799999999995, 2.5029699999999995, 2.1208100000000005, 2.0523, 2.01621, 1.91106, 2.1404000000000005, 3.19796, 4.999200000000001, 3.7049000000000003, 1.7087000000000003, 1.0457999999999998, 0.7852999999999994, 0.5674000000000028, 0.5487000000000002, 0.37620000000000076, 0.05509999999999948, -0.7997000000000014, -2.3249999999999993, -0.24219999999999686, 1.0229, 1.7518999999999991, 2.235899999999999, 2.3691999999999993, 1.6912000000000003]\n"
     ]
    }
   ],
   "source": [
    "difference3_gai = []\n",
    "\n",
    "zip_object = zip(temp, temp_crn)\n",
    "for temp_i, temp_crn_i in zip_object:\n",
    "    difference3_gai.append(temp_i-temp_crn_i)\n",
    "\n",
    "print(difference3_gai)"
   ]
  },
  {
   "cell_type": "markdown",
   "id": "5aab2b87",
   "metadata": {},
   "source": [
    "<font size=\"3\">Fairhope, AL: 0100 UTC 31 March 2022-0100 UTC 1 April 2022</font>"
   ]
  },
  {
   "cell_type": "code",
   "execution_count": 93,
   "id": "78e4db46",
   "metadata": {},
   "outputs": [
    {
     "name": "stdout",
     "output_type": "stream",
     "text": [
      "[11.5288, 10.453, 9.79581, 9.0773, 8.86621, 8.64856, 8.3154, 9.62296, 12.7367, 14.8299, 16.7462, 18.5208, 20.1978, 21.2799, 22.3237, 22.6137, 22.5301, 21.6378, 18.5375, 16.2203, 15.1479, 14.4394, 13.4109, 12.8567, 12.3537]\n",
      "25\n"
     ]
    }
   ],
   "source": [
    "#12 hr hrrr:\n",
    "with open('hrrr_f12_Fairhope_AL.txt') as f:\n",
    "    lst=[line.split()[1] for line in f]\n",
    "    temp=[]\n",
    "    for i in lst:\n",
    "        new=i.replace(',',\"\")\n",
    "        temp.append(new)\n",
    "    temp.pop(0)\n",
    "    temp=[float(x) for x in temp]\n",
    "    temp=temp[1866:1891]\n",
    "    #temp=temp[2015:2063]\n",
    "    print(temp)\n",
    "    print(len(temp))\n",
    "#full time period is [2015:2112]"
   ]
  },
  {
   "cell_type": "code",
   "execution_count": 94,
   "id": "a5219a0e",
   "metadata": {},
   "outputs": [
    {
     "name": "stdout",
     "output_type": "stream",
     "text": [
      "[9.6, 7.9, 7.3, 5.9, 5.1, 4.7, 5.6, 5.5, 11.1, 14.6, 17.9, 20.0, 21.5, 22.3, 22.7, 22.7, 20.6, 19.6, 17.9, 15.1, 11.8, 10.4, 9.3, 8.4, 8.3]\n"
     ]
    }
   ],
   "source": [
    "#Air Temp CRN:\n",
    "with open('CRNH0203-2022-AL_Fairhope_3_NE.txt') as f:\n",
    "    lst=[line.split()[9] for line in f]\n",
    "    #print(lst)\n",
    "    temp_crn=[]\n",
    "    for i in lst:\n",
    "        new=i.replace(',',\"\")\n",
    "        temp_crn.append(new)\n",
    "    temp_crn=[float(x) for x in temp_crn]\n",
    "    temp_crn=temp_crn[1877:1902]\n",
    "    print(temp_crn)\n",
    "    #print(len(temp_crn))\n",
    "    # print(temp_crn[2124])"
   ]
  },
  {
   "cell_type": "code",
   "execution_count": 95,
   "id": "d432da0b",
   "metadata": {},
   "outputs": [
    {
     "name": "stdout",
     "output_type": "stream",
     "text": [
      "[1.9288000000000007, 2.552999999999999, 2.4958099999999996, 3.177299999999999, 3.766210000000001, 3.9485599999999996, 2.7154000000000007, 4.122960000000001, 1.6367000000000012, 0.22990000000000066, -1.1537999999999968, -1.4791999999999987, -1.3021999999999991, -1.0200999999999993, -0.3763000000000005, -0.08629999999999782, 1.9300999999999995, 2.037799999999997, 0.6375000000000028, 1.120300000000002, 3.347899999999999, 4.039399999999999, 4.110899999999999, 4.4567, 4.053699999999999]\n"
     ]
    }
   ],
   "source": [
    "difference3_fai = []\n",
    "\n",
    "zip_object = zip(temp, temp_crn)\n",
    "for temp_i, temp_crn_i in zip_object:\n",
    "    difference3_fai.append(temp_i-temp_crn_i)\n",
    "\n",
    "print(difference3_fai)"
   ]
  },
  {
   "cell_type": "markdown",
   "id": "66067924",
   "metadata": {},
   "source": [
    "<font size=\"3\">**Selma, AL: 0100 UTC 31 March 2022-0100 UTC 1 April 2022</font>"
   ]
  },
  {
   "cell_type": "code",
   "execution_count": 96,
   "id": "e2681a14",
   "metadata": {},
   "outputs": [
    {
     "name": "stdout",
     "output_type": "stream",
     "text": [
      "[8.59128, 8.07797, 7.67081, 7.0773, 7.11621, 6.64856, 6.3154, 7.93546, 10.7992, 13.3924, 15.5587, 17.3958, 18.4478, 19.6549, 20.3237, 20.3012, 19.5926, 18.2628, 16.5375, 14.9078, 13.2729, 12.5019, 12.0359, 11.6692, 10.4787]\n",
      "25\n",
      "[5.1, 4.2, 3.8, 3.1, 2.9, 2.2, 2.1, 3.3, 8.1, 12.1, 15.1, 17.5, 19.4, 20.6, 21.8, 22.4, 22.4, 21.8, 19.6, 14.3, 11.6, 10.2, 9.2, 8.4, 7.8]\n",
      "25\n",
      "[3.4912799999999997, 3.8779700000000004, 3.8708100000000005, 3.9773, 4.21621, 4.44856, 4.215400000000001, 4.63546, 2.699200000000001, 1.2924000000000007, 0.45870000000000033, -0.10419999999999874, -0.9521999999999977, -0.9451, -1.476300000000002, -2.098799999999997, -2.8073999999999977, -3.537200000000002, -3.0625, 0.6077999999999992, 1.6729000000000003, 2.3019, 2.8359000000000005, 3.2691999999999997, 2.6787]\n",
      "25\n"
     ]
    }
   ],
   "source": [
    "#12 hr hrrr:\n",
    "with open('hrrr_f12_Selma_AL.txt') as f:\n",
    "    lst=[line.split()[1] for line in f]\n",
    "    temp=[]\n",
    "    for i in lst:\n",
    "        new=i.replace(',',\"\")\n",
    "        temp.append(new)\n",
    "    temp.pop(0)\n",
    "    temp=[float(x) for x in temp]\n",
    "    temp=temp[1866:1891]\n",
    "    \n",
    "#Air Temp CRN:\n",
    "with open('CRNH0203-2022-AL_Selma_13_WNW.txt') as f:\n",
    "    lst=[line.split()[9] for line in f]\n",
    "    #print(lst)\n",
    "    temp_crn=[]\n",
    "    for i in lst:\n",
    "        new=i.replace(',',\"\")\n",
    "        temp_crn.append(new)\n",
    "    temp_crn=[float(x) for x in temp_crn]\n",
    "    temp_crn=temp_crn[1877:1902]\n",
    "\n",
    "    print(temp)\n",
    "    print(len(temp))\n",
    "    print(temp_crn)\n",
    "    print(len(temp_crn))\n",
    "#full time period is [2015:2112]\n",
    "difference3_sel = []\n",
    "\n",
    "zip_object = zip(temp, temp_crn)\n",
    "for temp_i, temp_crn_i in zip_object:\n",
    "    difference3_sel.append(temp_i-temp_crn_i)\n",
    "\n",
    "print(difference3_sel)\n",
    "print(len(difference3_sel))"
   ]
  },
  {
   "cell_type": "markdown",
   "id": "d1c6ee44",
   "metadata": {},
   "source": [
    "<font size=\"3\">Bowling Green, KY: 0100 UTC 31 March 2022-0100 UTC 1 April 2022</font>"
   ]
  },
  {
   "cell_type": "code",
   "execution_count": 97,
   "id": "dc35b7f8",
   "metadata": {},
   "outputs": [
    {
     "name": "stdout",
     "output_type": "stream",
     "text": [
      "[2.90378, 2.32797, 1.98331, 1.9523, 1.80371, 1.27356, 1.1904, 3.18546, 7.48672, 10.8924, 13.1837, 14.6458, 15.6353, 16.7174, 17.3237, 17.8637, 17.7801, 17.2628, 14.35, 12.4078, 11.3354, 9.93942, 9.09842, 8.35672, 8.16617]\n"
     ]
    }
   ],
   "source": [
    "#12 hr hrrr:\n",
    "with open('hrrr_f12_Bowling Green_KY.txt') as f:\n",
    "    lst=[line.split()[1] for line in f]\n",
    "    temp=[]\n",
    "    for i in lst:\n",
    "        new=i.replace(',',\"\")\n",
    "        temp.append(new)\n",
    "    temp.pop(0)\n",
    "    temp=[float(x) for x in temp]\n",
    "    temp=temp[1866:1891]\n",
    "#     x = np.array(temp)\n",
    "#     temp= ma.masked_array(x, mask=[0, 0, 0, 0, 0,0,1,0,0,0,0,0,0,0,0,0,0,0,0,0,0,0,0,0,0])\n",
    "    #temp=temp[2015:2063]\n",
    "    print(temp)\n",
    "    #print(len(temp))\n",
    "#full time period is [2015:2112]"
   ]
  },
  {
   "cell_type": "code",
   "execution_count": 98,
   "id": "41c9ce08",
   "metadata": {},
   "outputs": [
    {
     "name": "stdout",
     "output_type": "stream",
     "text": [
      "[4.4, 3.8, 4.1, 3.9, 3.7, 3.3, 3.2, 3.4, 5.5, 8.6, 12.7, 14.5, 16.0, 17.0, 18.2, 18.5, 18.6, 18.0, 16.2, 14.3, 12.9, 12.2, 12.0, 11.5, 10.8]\n"
     ]
    }
   ],
   "source": [
    "#Air Temp CRN:\n",
    "with open('CRNH0203-2022-KY_Bowling_Green_21_NNE.txt') as f:\n",
    "    lst=[line.split()[9] for line in f]\n",
    "    #print(lst)\n",
    "    temp_crn=[]\n",
    "    for i in lst:\n",
    "        new=i.replace(',',\"\")\n",
    "        temp_crn.append(new)\n",
    "    temp_crn=[float(x) for x in temp_crn]\n",
    "    temp_crn=temp_crn[1877:1902]\n",
    "#     y = np.array(temp_crn)\n",
    "#     temp_crn = ma.masked_array(y, mask=[0, 0, 0, 0, 0,0,1,0,0,0,0,0,0,0,0,0,0,0,0,0,0,0,0,0,0])\n",
    "    print(temp_crn)\n",
    "    #print(len(temp_crn))\n",
    "    # print(temp_crn[2124])"
   ]
  },
  {
   "cell_type": "code",
   "execution_count": 99,
   "id": "7bef283c",
   "metadata": {},
   "outputs": [
    {
     "name": "stdout",
     "output_type": "stream",
     "text": [
      "[-1.4962200000000005, -1.4720299999999997, -2.1166899999999997, -1.9477, -1.8962900000000003, -2.02644, -2.0096000000000003, -0.21453999999999995, 1.98672, 2.2924000000000007, 0.4837000000000007, 0.14579999999999949, -0.36469999999999914, -0.28259999999999863, -0.8763000000000005, -0.6362999999999985, -0.8199000000000005, -0.7372000000000014, -1.8499999999999996, -1.8922000000000008, -1.5646000000000004, -2.260579999999999, -2.901579999999999, -3.1432800000000007, -2.6338300000000014]\n"
     ]
    }
   ],
   "source": [
    "difference3_bow = []\n",
    "\n",
    "zip_object = zip(temp, temp_crn)\n",
    "for temp_i, temp_crn_i in zip_object:\n",
    "    difference3_bow.append(temp_i-temp_crn_i)\n",
    "\n",
    "print(difference3_bow)"
   ]
  },
  {
   "cell_type": "markdown",
   "id": "3b390eb9",
   "metadata": {},
   "source": [
    "<font size=\"3\">Gadsden, AL: 0200 UTC 31 March 2022-0200 UTC 1 April 2022</font>"
   ]
  },
  {
   "cell_type": "code",
   "execution_count": 100,
   "id": "5f1342b9",
   "metadata": {},
   "outputs": [
    {
     "name": "stdout",
     "output_type": "stream",
     "text": [
      "[5.52878, 4.95297, 4.29581, 4.2648, 3.92871, 3.83606, 3.6904, 5.93546, 10.1742, 12.2674, 13.6837, 14.7708, 15.7603, 16.9049, 17.3862, 17.5512, 17.6551, 16.6378, 14.225, 12.8453, 11.7729, 10.8144, 10.4109, 9.91922, 9.41617]\n",
      "25\n"
     ]
    }
   ],
   "source": [
    "#12 hr hrrr:\n",
    "with open('hrrr_f12_Gadsden_AL.txt') as f:\n",
    "    lst=[line.split()[1] for line in f]\n",
    "    temp=[]\n",
    "    for i in lst:\n",
    "        new=i.replace(',',\"\")\n",
    "        temp.append(new)\n",
    "    temp.pop(0)\n",
    "    temp=[float(x) for x in temp]\n",
    "    temp=temp[1866:1891]\n",
    "    #temp=temp[2015:2063]\n",
    "    print(temp)\n",
    "    print(len(temp))\n",
    "#full time period is [2015:2112]"
   ]
  },
  {
   "cell_type": "code",
   "execution_count": 101,
   "id": "47e6df80",
   "metadata": {},
   "outputs": [
    {
     "name": "stdout",
     "output_type": "stream",
     "text": [
      "[2.9, 1.9, 1.2, 1.3, 0.6, 0.6, 0.5, 1.6, 7.1, 10.4, 12.7, 14.8, 15.9, 16.8, 17.7, 18.0, 18.0, 17.7, 15.4, 11.3, 9.6, 8.5, 6.1, 5.3, 5.4]\n"
     ]
    }
   ],
   "source": [
    "#Air Temp CRN:\n",
    "with open('CRNH0203-2022-AL_Gadsden_19_N.txt') as f:\n",
    "    lst=[line.split()[9] for line in f]\n",
    "    #print(lst)\n",
    "    temp_crn=[]\n",
    "    for i in lst:\n",
    "        new=i.replace(',',\"\")\n",
    "        temp_crn.append(new)\n",
    "    temp_crn=[float(x) for x in temp_crn]\n",
    "    temp_crn=temp_crn[1877:1902]\n",
    "    print(temp_crn)\n",
    "    #print(len(temp_crn))\n",
    "    # print(temp_crn[2124])"
   ]
  },
  {
   "cell_type": "code",
   "execution_count": 102,
   "id": "8dd096ca",
   "metadata": {},
   "outputs": [
    {
     "name": "stdout",
     "output_type": "stream",
     "text": [
      "[2.6287800000000003, 3.0529699999999997, 3.09581, 2.9648000000000003, 3.32871, 3.2360599999999997, 3.1904, 4.335459999999999, 3.074200000000001, 1.8674, 0.9837000000000007, -0.029200000000001225, -0.1396999999999995, 0.10490000000000066, -0.3138000000000005, -0.44879999999999853, -0.3448999999999991, -1.0622000000000007, -1.1750000000000007, 1.5452999999999992, 2.1729000000000003, 2.314399999999999, 4.3109, 4.619219999999999, 4.016169999999999]\n"
     ]
    }
   ],
   "source": [
    "difference3_gad = []\n",
    "\n",
    "zip_object = zip(temp, temp_crn)\n",
    "for temp_i, temp_crn_i in zip_object:\n",
    "    difference3_gad.append(temp_i-temp_crn_i)\n",
    "\n",
    "print(difference3_gad)"
   ]
  },
  {
   "cell_type": "markdown",
   "id": "82faa02b",
   "metadata": {},
   "source": [
    "<font size=\"3\">Newton, GA: 0700 UTC 31 March 2022-0700 UTC 1 April 2022</font>"
   ]
  },
  {
   "cell_type": "code",
   "execution_count": 103,
   "id": "d80c21b9",
   "metadata": {},
   "outputs": [
    {
     "name": "stdout",
     "output_type": "stream",
     "text": [
      "[12.6538, 11.6405, 10.6083, 9.7648, 9.30371, 8.58606, 7.9404, 10.0605, 12.0492, 13.9549, 15.8712, 17.4583, 18.8853, 19.9049, 19.6987, 19.8012, 19.6551, 18.3878, 17.1, 14.7828, 13.1479, 11.9394, 11.5359, 10.7317, 9.85367]\n",
      "25\n"
     ]
    }
   ],
   "source": [
    "#12 hr hrrr:\n",
    "with open('hrrr_f12_Newton_GA.txt') as f:\n",
    "    lst=[line.split()[1] for line in f]\n",
    "    temp=[]\n",
    "    for i in lst:\n",
    "        new=i.replace(',',\"\")\n",
    "        temp.append(new)\n",
    "    temp.pop(0)\n",
    "    temp=[float(x) for x in temp]\n",
    "    temp=temp[1866:1891]\n",
    "    #temp=temp[2015:2063]\n",
    "    print(temp)\n",
    "    print(len(temp))\n",
    "#full time period is [2015:2112]"
   ]
  },
  {
   "cell_type": "code",
   "execution_count": 104,
   "id": "170d8eec",
   "metadata": {},
   "outputs": [
    {
     "name": "stdout",
     "output_type": "stream",
     "text": [
      "[14.3, 13.4, 12.6, 11.6, 10.1, 9.0, 8.5, 8.7, 11.5, 14.7, 16.6, 19.0, 20.2, 21.2, 21.6, 22.1, 22.3, 22.0, 19.6, 15.6, 13.0, 11.5, 9.9, 8.4, 7.9]\n"
     ]
    }
   ],
   "source": [
    "#Air Temp CRN:\n",
    "with open('CRNH0203-2022-GA_Newton_11_SW.txt') as f:\n",
    "    lst=[line.split()[9] for line in f]\n",
    "    #print(lst)\n",
    "    temp_crn=[]\n",
    "    for i in lst:\n",
    "        new=i.replace(',',\"\")\n",
    "        temp_crn.append(new)\n",
    "    temp_crn=[float(x) for x in temp_crn]\n",
    "    temp_crn=temp_crn[1877:1902]\n",
    "    print(temp_crn)\n",
    "    #print(len(temp_crn))\n",
    "    # print(temp_crn[2124])"
   ]
  },
  {
   "cell_type": "code",
   "execution_count": 105,
   "id": "9437e113",
   "metadata": {},
   "outputs": [
    {
     "name": "stdout",
     "output_type": "stream",
     "text": [
      "[-1.6462000000000003, -1.759500000000001, -1.9916999999999998, -1.8352000000000004, -0.796289999999999, -0.4139400000000002, -0.5595999999999997, 1.3605, 0.5492000000000008, -0.745099999999999, -0.7288000000000014, -1.5416999999999987, -1.3146999999999984, -1.295099999999998, -1.9013000000000027, -2.2988, -2.6449, -3.6122000000000014, -2.5, -0.8171999999999997, 0.14789999999999992, 0.4393999999999991, 1.6358999999999995, 2.3316999999999997, 1.953669999999999]\n"
     ]
    }
   ],
   "source": [
    "difference3_newt = []\n",
    "\n",
    "zip_object = zip(temp, temp_crn)\n",
    "for temp_i, temp_crn_i in zip_object:\n",
    "    difference3_newt.append(temp_i-temp_crn_i)\n",
    "\n",
    "print(difference3_newt)"
   ]
  },
  {
   "cell_type": "markdown",
   "id": "e079df5d",
   "metadata": {},
   "source": [
    "<font size=\"3\">Salem, MO: 0500 UTC (12:00 am CDT) 03 April 2022-0500 UTC (12:00 am CDT) 04 April 2022</font>"
   ]
  },
  {
   "cell_type": "code",
   "execution_count": 106,
   "id": "622e7a2c",
   "metadata": {},
   "outputs": [
    {
     "name": "stdout",
     "output_type": "stream",
     "text": [
      "[4.80185, 4.51102, 4.29596, 3.91687, 3.09479, 2.80267, 2.63162, 4.94687, 8.60406, 11.1649, 12.6039, 13.8211, 15.6103, 16.8831, 17.6609, 17.2156, 17.145, 17.1084, 15.3312, 13.2354, 12.249, 12.1692, 11.6375, 11.2725, 11.098]\n",
      "25\n"
     ]
    }
   ],
   "source": [
    "#12 hr hrrr:\n",
    "with open('hrrr_f12_Salem_MO.txt') as f:\n",
    "    lst=[line.split()[1] for line in f]\n",
    "    temp=[]\n",
    "    for i in lst:\n",
    "        new=i.replace(',',\"\")\n",
    "        temp.append(new)\n",
    "    temp.pop(0)\n",
    "    temp=[float(x) for x in temp]\n",
    "    temp=temp[2202:2227]\n",
    "    #temp=temp[2015:2063]\n",
    "    print(temp)\n",
    "    print(len(temp))\n",
    "#full time period is [2015:2112]"
   ]
  },
  {
   "cell_type": "code",
   "execution_count": 107,
   "id": "e56c5281",
   "metadata": {},
   "outputs": [
    {
     "name": "stdout",
     "output_type": "stream",
     "text": [
      "[0.3, -0.6, -1.1, -1.6, -1.9, -2.1, -2.3, -0.9, 6.2, 12.4, 14.6, 16.3, 17.7, 18.8, 19.7, 20.4, 20.6, 19.7, 18.5, 17.4, 16.2, 15.4, 14.6, 13.8, 12.2]\n"
     ]
    }
   ],
   "source": [
    "#Air Temp CRN:\n",
    "with open('CRNH0203-2022-MO_Salem_10_W.txt') as f:\n",
    "    lst=[line.split()[9] for line in f]\n",
    "    #print(lst)\n",
    "    temp_crn=[]\n",
    "    for i in lst:\n",
    "        new=i.replace(',',\"\")\n",
    "        temp_crn.append(new)\n",
    "    temp_crn=[float(x) for x in temp_crn]\n",
    "    temp_crn=temp_crn[2213:2238]\n",
    "    print(temp_crn)\n",
    "    #print(len(temp_crn))\n",
    "    # print(temp_crn[2124])"
   ]
  },
  {
   "cell_type": "code",
   "execution_count": 108,
   "id": "7d3383a4",
   "metadata": {},
   "outputs": [],
   "source": [
    "# hour=[]\n",
    "# for i in range(-12,13,1):\n",
    "#     hour.append(i)\n",
    "#     i+=1\n",
    "# print(len(hour))"
   ]
  },
  {
   "cell_type": "code",
   "execution_count": 109,
   "id": "5ee2a976",
   "metadata": {},
   "outputs": [
    {
     "name": "stdout",
     "output_type": "stream",
     "text": [
      "[4.50185, 5.11102, 5.3959600000000005, 5.51687, 4.99479, 4.9026700000000005, 4.93162, 5.84687, 2.4040600000000003, -1.235100000000001, -1.9961000000000002, -2.478900000000001, -2.089699999999999, -1.9169000000000018, -2.0390999999999977, -3.1844, -3.455000000000002, -2.5915999999999997, -3.168799999999999, -4.164599999999998, -3.9509999999999987, -3.2308000000000003, -2.9625000000000004, -2.5275, -1.1019999999999985]\n"
     ]
    }
   ],
   "source": [
    "difference4_sal = []\n",
    "\n",
    "zip_object = zip(temp, temp_crn)\n",
    "for temp_i, temp_crn_i in zip_object:\n",
    "    difference4_sal.append(temp_i-temp_crn_i)\n",
    "\n",
    "print(difference4_sal)"
   ]
  },
  {
   "cell_type": "markdown",
   "id": "63613de4",
   "metadata": {},
   "source": [
    "<font size=\"3\">Batesville, AR: 1300 UTC 30 March 2022-1300 UTC 31 March 2022</font>"
   ]
  },
  {
   "cell_type": "code",
   "execution_count": 110,
   "id": "a991dc6f",
   "metadata": {},
   "outputs": [
    {
     "name": "stdout",
     "output_type": "stream",
     "text": [
      "[8.61435, 8.44852, 7.85846, 7.10437, 6.40729, 6.24017, 5.69412, 7.13437, 9.91656, 11.6649, 13.7914, 15.3836, 16.9853, 18.6331, 19.8484, 20.7781, 20.895, 19.7959, 17.3937, 14.3604, 12.749, 11.6692, 10.95, 10.585, 10.223]\n",
      "25\n"
     ]
    }
   ],
   "source": [
    "#12 hr hrrr:\n",
    "with open('hrrr_f12_Batesville_AR.txt') as f:\n",
    "    lst=[line.split()[1] for line in f]\n",
    "    temp=[]\n",
    "    for i in lst:\n",
    "        new=i.replace(',',\"\")\n",
    "        temp.append(new)\n",
    "    temp.pop(0)\n",
    "    temp=[float(x) for x in temp]\n",
    "    temp=temp[2202:2227]\n",
    "    #temp=temp[2015:2063]\n",
    "    print(temp)\n",
    "    print(len(temp))\n",
    "#full time period is [2015:2112]"
   ]
  },
  {
   "cell_type": "code",
   "execution_count": 111,
   "id": "02076d4e",
   "metadata": {},
   "outputs": [
    {
     "name": "stdout",
     "output_type": "stream",
     "text": [
      "[5.4, 4.9, 3.9, 2.6, 2.2, 1.3, 1.2, 2.1, 7.2, 11.5, 13.5, 15.2, 16.3, 17.3, 18.3, 19.0, 18.8, 18.2, 17.0, 15.3, 13.2, 12.9, 12.3, 11.6, 12.0]\n"
     ]
    }
   ],
   "source": [
    "#Air Temp CRN:\n",
    "with open('CRNH0203-2022-AR_Batesville_8_WNW.txt') as f:\n",
    "    lst=[line.split()[9] for line in f]\n",
    "    #print(lst)\n",
    "    temp_crn=[]\n",
    "    for i in lst:\n",
    "        new=i.replace(',',\"\")\n",
    "        temp_crn.append(new)\n",
    "    temp_crn=[float(x) for x in temp_crn]\n",
    "    temp_crn=temp_crn[2213:2238]\n",
    "    print(temp_crn)\n",
    "    #print(len(temp_crn))\n",
    "    # print(temp_crn[2124])"
   ]
  },
  {
   "cell_type": "code",
   "execution_count": 112,
   "id": "a4f04c7c",
   "metadata": {},
   "outputs": [
    {
     "name": "stdout",
     "output_type": "stream",
     "text": [
      "[3.2143499999999996, 3.54852, 3.95846, 4.50437, 4.2072899999999995, 4.94017, 4.49412, 5.034369999999999, 2.7165600000000003, 0.16489999999999938, 0.29139999999999944, 0.1836000000000002, 0.685299999999998, 1.3330999999999982, 1.5484000000000009, 1.7780999999999985, 2.094999999999999, 1.5959000000000003, 0.39369999999999905, -0.9396000000000004, -0.45099999999999874, -1.2308000000000003, -1.3500000000000014, -1.0149999999999988, -1.7769999999999992]\n"
     ]
    }
   ],
   "source": [
    "difference4_bat = []\n",
    "\n",
    "zip_object = zip(temp, temp_crn)\n",
    "for temp_i, temp_crn_i in zip_object:\n",
    "    difference4_bat.append(temp_i-temp_crn_i)\n",
    "\n",
    "print(difference4_bat)"
   ]
  },
  {
   "cell_type": "markdown",
   "id": "6bb394d3",
   "metadata": {},
   "source": [
    "<font size=\"3\">Lafayette, LA: 1700 UTC 30 March 2022-1700 UTC 31 March 2022</font>"
   ]
  },
  {
   "cell_type": "code",
   "execution_count": 113,
   "id": "356001a0",
   "metadata": {},
   "outputs": [
    {
     "name": "stdout",
     "output_type": "stream",
     "text": [
      "[17.0518, 15.886, 15.1085, 14.6044, 14.2823, 13.6152, 12.8191, 14.1344, 18.4791, 22.5399, 24.6039, 26.2586, 27.6728, 28.5706, 29.1609, 29.5281, 29.145, 28.2959, 24.3937, 21.8604, 20.249, 19.3567, 18.6375, 17.585, 16.6605]\n",
      "25\n"
     ]
    }
   ],
   "source": [
    "#12 hr hrrr:\n",
    "with open('hrrr_f12_Lafayette_LA.txt') as f:\n",
    "    lst=[line.split()[1] for line in f]\n",
    "    temp=[]\n",
    "    for i in lst:\n",
    "        new=i.replace(',',\"\")\n",
    "        temp.append(new)\n",
    "    temp.pop(0)\n",
    "    temp=[float(x) for x in temp]\n",
    "    temp=temp[2202:2227]\n",
    "    #temp=temp[2015:2063]\n",
    "    print(temp)\n",
    "    print(len(temp))\n",
    "#full time period is [2015:2112]"
   ]
  },
  {
   "cell_type": "code",
   "execution_count": 114,
   "id": "fc15ee26",
   "metadata": {},
   "outputs": [
    {
     "name": "stdout",
     "output_type": "stream",
     "text": [
      "[13.8, 12.9, 12.0, 11.5, 11.2, 11.6, 11.7, 12.0, 15.7, 19.4, 21.7, 23.6, 24.8, 25.8, 26.8, 27.1, 27.1, 26.6, 24.5, 21.5, 19.7, 19.1, 18.3, 16.8, 16.0]\n"
     ]
    }
   ],
   "source": [
    "#Air Temp CRN:\n",
    "with open('CRNH0203-2022-LA_Lafayette_13_SE.txt') as f:\n",
    "    lst=[line.split()[9] for line in f]\n",
    "    #print(lst)\n",
    "    temp_crn=[]\n",
    "    for i in lst:\n",
    "        new=i.replace(',',\"\")\n",
    "        temp_crn.append(new)\n",
    "    temp_crn=[float(x) for x in temp_crn]\n",
    "    temp_crn=temp_crn[2213:2238]\n",
    "    print(temp_crn)\n",
    "    #print(len(temp_crn))\n",
    "    # print(temp_crn[2124])"
   ]
  },
  {
   "cell_type": "code",
   "execution_count": 115,
   "id": "1652b3e7",
   "metadata": {},
   "outputs": [
    {
     "name": "stdout",
     "output_type": "stream",
     "text": [
      "[3.2517999999999994, 2.985999999999999, 3.1084999999999994, 3.1044, 3.0823, 2.0152, 1.1191000000000013, 2.1343999999999994, 2.7790999999999997, 3.139900000000001, 2.9039, 2.6586, 2.872799999999998, 2.770599999999998, 2.360900000000001, 2.428099999999997, 2.044999999999998, 1.6958999999999982, -0.10630000000000095, 0.3603999999999985, 0.5489999999999995, 0.2566999999999986, 0.3374999999999986, 0.7850000000000001, 0.660499999999999]\n"
     ]
    }
   ],
   "source": [
    "difference4_laf = []\n",
    "\n",
    "zip_object = zip(temp, temp_crn)\n",
    "for temp_i, temp_crn_i in zip_object:\n",
    "    difference4_laf.append(temp_i-temp_crn_i)\n",
    "\n",
    "print(difference4_laf)"
   ]
  },
  {
   "cell_type": "markdown",
   "id": "8ab7c382",
   "metadata": {},
   "source": [
    "<font size=\"3\">Monroe, LA: 1700 UTC 30 March 2022-1700 UTC 31 March 2022</font>"
   ]
  },
  {
   "cell_type": "code",
   "execution_count": 116,
   "id": "ab7da82f",
   "metadata": {},
   "outputs": [
    {
     "name": "stdout",
     "output_type": "stream",
     "text": [
      "[13.2393, 12.6985, 11.9835, 11.7294, 11.6573, 11.2402, 10.8191, 11.8844, 14.1041, 16.9774, 19.1039, 21.1961, 23.1728, 24.5081, 25.2859, 25.7781, 25.645, 24.7959, 22.9562, 20.1104, 18.5615, 17.0442, 15.7625, 15.0225, 14.5355]\n",
      "25\n"
     ]
    }
   ],
   "source": [
    "#12 hr hrrr:\n",
    "with open('hrrr_f12_Monroe_LA.txt') as f:\n",
    "    lst=[line.split()[1] for line in f]\n",
    "    temp=[]\n",
    "    for i in lst:\n",
    "        new=i.replace(',',\"\")\n",
    "        temp.append(new)\n",
    "    temp.pop(0)\n",
    "    temp=[float(x) for x in temp]\n",
    "    temp=temp[2202:2227]\n",
    "    #temp=temp[2015:2063]\n",
    "    print(temp)\n",
    "    print(len(temp))\n",
    "#full time period is [2015:2112]"
   ]
  },
  {
   "cell_type": "code",
   "execution_count": 117,
   "id": "873c3804",
   "metadata": {},
   "outputs": [
    {
     "name": "stdout",
     "output_type": "stream",
     "text": [
      "[10.2, 9.3, 8.7, 8.1, 7.4, 6.9, 6.6, 7.0, 11.4, 17.5, 20.4, 22.1, 23.4, 24.0, 24.8, 24.9, 25.2, 24.8, 23.2, 18.9, 16.2, 14.8, 14.1, 13.9, 12.9]\n"
     ]
    }
   ],
   "source": [
    "#Air Temp CRN:\n",
    "with open('CRNH0203-2022-LA_Monroe_26_N.txt') as f:\n",
    "    lst=[line.split()[9] for line in f]\n",
    "    #print(lst)\n",
    "    temp_crn=[]\n",
    "    for i in lst:\n",
    "        new=i.replace(',',\"\")\n",
    "        temp_crn.append(new)\n",
    "    temp_crn=[float(x) for x in temp_crn]\n",
    "    temp_crn=temp_crn[2213:2238]\n",
    "    print(temp_crn)\n",
    "    #print(len(temp_crn))\n",
    "    # print(temp_crn[2124])"
   ]
  },
  {
   "cell_type": "code",
   "execution_count": 118,
   "id": "47cad69e",
   "metadata": {},
   "outputs": [
    {
     "name": "stdout",
     "output_type": "stream",
     "text": [
      "[3.039300000000001, 3.3984999999999985, 3.2835, 3.6294000000000004, 4.257299999999999, 4.340199999999999, 4.219100000000001, 4.884399999999999, 2.7041000000000004, -0.5226000000000006, -1.2960999999999991, -0.9039000000000001, -0.22719999999999985, 0.5080999999999989, 0.4859000000000009, 0.8780999999999999, 0.4450000000000003, -0.004100000000001103, -0.24380000000000024, 1.2104, 2.3614999999999995, 2.2441999999999993, 1.6624999999999996, 1.1225000000000005, 1.6355000000000004]\n"
     ]
    }
   ],
   "source": [
    "difference4_mon = []\n",
    "\n",
    "zip_object = zip(temp, temp_crn)\n",
    "for temp_i, temp_crn_i in zip_object:\n",
    "    difference4_mon.append(temp_i-temp_crn_i)\n",
    "\n",
    "print(difference4_mon)"
   ]
  },
  {
   "cell_type": "markdown",
   "id": "0f6aa3ec",
   "metadata": {},
   "source": [
    "<font size=\"3\">Holly Springs, MS: 2000 UTC 30 March 2022-2000 UTC 31 March 2022</font>"
   ]
  },
  {
   "cell_type": "code",
   "execution_count": 119,
   "id": "617cfc09",
   "metadata": {},
   "outputs": [
    {
     "name": "stdout",
     "output_type": "stream",
     "text": [
      "[9.36435, 8.32352, 7.73346, 7.29187, 6.84479, 6.67767, 5.88162, 8.00937, 10.4791, 12.4149, 14.3539, 16.0711, 17.8603, 18.6956, 19.4109, 20.2156, 20.145, 19.3584, 17.2062, 14.3604, 12.499, 11.5442, 10.7, 9.89746, 9.41046]\n",
      "25\n"
     ]
    }
   ],
   "source": [
    "#12 hr hrrr:\n",
    "with open('hrrr_f12_Holly Springs_MS.txt') as f:\n",
    "    lst=[line.split()[1] for line in f]\n",
    "    temp=[]\n",
    "    for i in lst:\n",
    "        new=i.replace(',',\"\")\n",
    "        temp.append(new)\n",
    "    temp.pop(0)\n",
    "    temp=[float(x) for x in temp]\n",
    "    temp=temp[2202:2227]\n",
    "    #temp=temp[2015:2063]\n",
    "    print(temp)\n",
    "    print(len(temp))\n",
    "#full time period is [2015:2112]"
   ]
  },
  {
   "cell_type": "code",
   "execution_count": 120,
   "id": "f9909974",
   "metadata": {},
   "outputs": [
    {
     "name": "stdout",
     "output_type": "stream",
     "text": [
      "[6.9, 8.0, 7.8, 8.2, 6.9, 6.1, 4.9, 5.7, 10.3, 12.4, 14.4, 15.8, 17.2, 18.4, 19.1, 19.6, 19.9, 19.9, 17.7, 12.7, 9.6, 8.6, 7.2, 6.2, 6.5]\n"
     ]
    }
   ],
   "source": [
    "#Air Temp CRN:\n",
    "with open('CRNH0203-2022-MS_Holly_Springs_4_N.txt') as f:\n",
    "    lst=[line.split()[9] for line in f]\n",
    "    #print(lst)\n",
    "    temp_crn=[]\n",
    "    for i in lst:\n",
    "        new=i.replace(',',\"\")\n",
    "        temp_crn.append(new)\n",
    "    temp_crn=[float(x) for x in temp_crn]\n",
    "    temp_crn=temp_crn[2213:2238]\n",
    "    print(temp_crn)\n",
    "    #print(len(temp_crn))\n",
    "    # print(temp_crn[2124])"
   ]
  },
  {
   "cell_type": "code",
   "execution_count": 121,
   "id": "53eef0da",
   "metadata": {},
   "outputs": [
    {
     "name": "stdout",
     "output_type": "stream",
     "text": [
      "[2.4643499999999996, 0.32352000000000025, -0.06653999999999982, -0.908129999999999, -0.05521000000000065, 0.5776700000000003, 0.9816199999999995, 2.3093700000000004, 0.17910000000000004, 0.014899999999999025, -0.04610000000000092, 0.27110000000000056, 0.6602999999999994, 0.2956000000000003, 0.3109000000000002, 0.615599999999997, 0.245000000000001, -0.541599999999999, -0.49380000000000024, 1.660400000000001, 2.899000000000001, 2.9442000000000004, 3.499999999999999, 3.6974600000000004, 2.9104600000000005]\n"
     ]
    }
   ],
   "source": [
    "difference4_hol = []\n",
    "\n",
    "zip_object = zip(temp, temp_crn)\n",
    "for temp_i, temp_crn_i in zip_object:\n",
    "    difference4_hol.append(temp_i-temp_crn_i)\n",
    "\n",
    "print(difference4_hol)"
   ]
  },
  {
   "cell_type": "markdown",
   "id": "7e73a2f1",
   "metadata": {},
   "source": [
    "<font size=\"3\">Newton, MS: 2000 UTC 30 March 2022-2000 UTC 31 March 2022</font>"
   ]
  },
  {
   "cell_type": "code",
   "execution_count": 122,
   "id": "41e0bd17",
   "metadata": {},
   "outputs": [
    {
     "name": "stdout",
     "output_type": "stream",
     "text": [
      "[13.4268, 12.5735, 11.796, 11.2919, 10.5323, 10.3027, 10.1941, 12.3219, 17.4166, 20.1024, 21.7289, 22.6336, 23.8603, 24.5081, 24.7859, 24.9656, 24.7075, 23.7959, 21.6437, 19.2354, 17.374, 16.1692, 14.95, 14.0225, 13.4105]\n",
      "25\n"
     ]
    }
   ],
   "source": [
    "#12 hr hrrr:\n",
    "with open('hrrr_f12_Newton_MS.txt') as f:\n",
    "    lst=[line.split()[1] for line in f]\n",
    "    temp=[]\n",
    "    for i in lst:\n",
    "        new=i.replace(',',\"\")\n",
    "        temp.append(new)\n",
    "    temp.pop(0)\n",
    "    temp=[float(x) for x in temp]\n",
    "    temp=temp[2202:2227]\n",
    "    #temp=temp[2015:2063]\n",
    "    print(temp)\n",
    "    print(len(temp))\n",
    "#full time period is [2015:2112]"
   ]
  },
  {
   "cell_type": "code",
   "execution_count": 123,
   "id": "5c9b058b",
   "metadata": {},
   "outputs": [
    {
     "name": "stdout",
     "output_type": "stream",
     "text": [
      "[8.8, 8.1, 7.4, 7.1, 6.5, 6.1, 5.7, 6.7, 11.9, 16.9, 19.3, 20.7, 21.8, 22.9, 23.3, 23.6, 23.6, 23.5, 22.2, 17.4, 14.2, 12.2, 11.1, 10.1, 9.1]\n"
     ]
    }
   ],
   "source": [
    "#Air Temp CRN:\n",
    "with open('CRNH0203-2022-MS_Newton_5_ENE.txt') as f:\n",
    "    lst=[line.split()[9] for line in f]\n",
    "    #print(lst)\n",
    "    temp_crn=[]\n",
    "    for i in lst:\n",
    "        new=i.replace(',',\"\")\n",
    "        temp_crn.append(new)\n",
    "    temp_crn=[float(x) for x in temp_crn]\n",
    "    temp_crn=temp_crn[2213:2238]\n",
    "    print(temp_crn)\n",
    "    #print(len(temp_crn))\n",
    "    # print(temp_crn[2124])"
   ]
  },
  {
   "cell_type": "code",
   "execution_count": 124,
   "id": "fc9c5059",
   "metadata": {},
   "outputs": [
    {
     "name": "stdout",
     "output_type": "stream",
     "text": [
      "[4.626799999999999, 4.4735, 4.395999999999999, 4.1919, 4.032299999999999, 4.2027, 4.4941, 5.621899999999999, 5.516599999999999, 3.202400000000001, 2.4288999999999987, 1.933600000000002, 2.060299999999998, 1.6081000000000003, 1.4859000000000009, 1.365599999999997, 1.1074999999999982, 0.2958999999999996, -0.5563000000000002, 1.8354, 3.1739999999999995, 3.9692000000000007, 3.8499999999999996, 3.922500000000001, 4.310500000000001]\n"
     ]
    }
   ],
   "source": [
    "difference4_new = []\n",
    "\n",
    "zip_object = zip(temp, temp_crn)\n",
    "for temp_i, temp_crn_i in zip_object:\n",
    "    difference4_new.append(temp_i-temp_crn_i)\n",
    "\n",
    "print(difference4_new)"
   ]
  },
  {
   "cell_type": "markdown",
   "id": "5444abab",
   "metadata": {},
   "source": [
    "<font size=\"3\">Gainesville, AL: 2300 UTC 30 March 2022-2300 UTC 31 March 2022</font>"
   ]
  },
  {
   "cell_type": "code",
   "execution_count": 125,
   "id": "4c26d3e7",
   "metadata": {},
   "outputs": [
    {
     "name": "stdout",
     "output_type": "stream",
     "text": [
      "[12.1768, 11.4485, 11.296, 10.4169, 9.46979, 8.86517, 8.81912, 12.8219, 15.7916, 18.3524, 19.9789, 21.0086, 22.5478, 23.3206, 23.7234, 24.1531, 23.895, 22.9834, 20.4562, 17.7979, 15.9365, 14.5442, 13.075, 12.21, 11.4105]\n",
      "25\n"
     ]
    }
   ],
   "source": [
    "#12 hr hrrr:\n",
    "with open('hrrr_f12_Gainesville_AL.txt') as f:\n",
    "    lst=[line.split()[1] for line in f]\n",
    "    temp=[]\n",
    "    for i in lst:\n",
    "        new=i.replace(',',\"\")\n",
    "        temp.append(new)\n",
    "    temp.pop(0)\n",
    "    temp=[float(x) for x in temp]\n",
    "    temp=temp[2202:2227]\n",
    "    #temp=temp[2015:2063]\n",
    "    print(temp)\n",
    "    print(len(temp))\n",
    "#full time period is [2015:2112]"
   ]
  },
  {
   "cell_type": "code",
   "execution_count": 126,
   "id": "aa9c0f5c",
   "metadata": {},
   "outputs": [
    {
     "name": "stdout",
     "output_type": "stream",
     "text": [
      "[10.0, 9.4, 9.0, 8.4, 8.3, 8.1, 7.4, 9.0, 12.7, 15.9, 18.6, 20.1, 20.9, 21.7, 22.0, 22.4, 22.2, 21.9, 20.9, 17.5, 14.4, 12.8, 11.3, 10.0, 9.4]\n"
     ]
    }
   ],
   "source": [
    "#Air Temp CRN:\n",
    "with open('CRNH0203-2022-AL_Gainesville_2_NE.txt') as f:\n",
    "    lst=[line.split()[9] for line in f]\n",
    "    #print(lst)\n",
    "    temp_crn=[]\n",
    "    for i in lst:\n",
    "        new=i.replace(',',\"\")\n",
    "        temp_crn.append(new)\n",
    "    temp_crn=[float(x) for x in temp_crn]\n",
    "    temp_crn=temp_crn[2213:2238]\n",
    "    print(temp_crn)\n",
    "    #print(len(temp_crn))\n",
    "    # print(temp_crn[2124])"
   ]
  },
  {
   "cell_type": "code",
   "execution_count": 127,
   "id": "17c9df1b",
   "metadata": {},
   "outputs": [
    {
     "name": "stdout",
     "output_type": "stream",
     "text": [
      "[2.1768, 2.048499999999999, 2.2959999999999994, 2.0168999999999997, 1.169789999999999, 0.7651700000000012, 1.4191199999999995, 3.8218999999999994, 3.0916000000000015, 2.452399999999999, 1.378899999999998, 0.9085999999999999, 1.6478000000000002, 1.6205999999999996, 1.7234000000000016, 1.7530999999999999, 1.6950000000000003, 1.083400000000001, -0.44379999999999953, 0.2978999999999985, 1.5365000000000002, 1.7441999999999993, 1.7749999999999986, 2.210000000000001, 2.0105000000000004]\n"
     ]
    }
   ],
   "source": [
    "difference4_gai = []\n",
    "\n",
    "zip_object = zip(temp, temp_crn)\n",
    "for temp_i, temp_crn_i in zip_object:\n",
    "    difference4_gai.append(temp_i-temp_crn_i)\n",
    "\n",
    "print(difference4_gai)"
   ]
  },
  {
   "cell_type": "markdown",
   "id": "ee603556",
   "metadata": {},
   "source": [
    "<font size=\"3\">Fairhope, AL: 0100 UTC 31 March 2022-0100 UTC 1 April 2022</font>"
   ]
  },
  {
   "cell_type": "code",
   "execution_count": 128,
   "id": "3f52e078",
   "metadata": {},
   "outputs": [
    {
     "name": "stdout",
     "output_type": "stream",
     "text": [
      "[12.8018, 12.011, 11.9835, 11.7294, 11.5323, 11.3652, 10.8816, 13.1969, 17.2916, 19.4774, 21.8539, 23.1336, 24.3603, 25.1331, 25.5984, 25.8406, 25.8325, 24.7959, 22.5187, 20.4229, 18.0615, 16.9817, 16.45, 16.46, 15.973]\n",
      "25\n"
     ]
    }
   ],
   "source": [
    "#12 hr hrrr:\n",
    "with open('hrrr_f12_Fairhope_AL.txt') as f:\n",
    "    lst=[line.split()[1] for line in f]\n",
    "    temp=[]\n",
    "    for i in lst:\n",
    "        new=i.replace(',',\"\")\n",
    "        temp.append(new)\n",
    "    temp.pop(0)\n",
    "    temp=[float(x) for x in temp]\n",
    "    temp=temp[2202:2227]\n",
    "    #temp=temp[2015:2063]\n",
    "    print(temp)\n",
    "    print(len(temp))\n",
    "#full time period is [2015:2112]"
   ]
  },
  {
   "cell_type": "code",
   "execution_count": 129,
   "id": "687d2f23",
   "metadata": {},
   "outputs": [
    {
     "name": "stdout",
     "output_type": "stream",
     "text": [
      "[8.9, 8.8, 8.3, 7.7, 7.6, 7.6, 7.3, 8.5, 15.7, 19.0, 21.2, 22.6, 22.8, 24.1, 24.9, 25.2, 25.2, 24.8, 23.5, 19.4, 16.8, 15.3, 13.4, 12.6, 11.9]\n"
     ]
    }
   ],
   "source": [
    "#Air Temp CRN:\n",
    "with open('CRNH0203-2022-AL_Fairhope_3_NE.txt') as f:\n",
    "    lst=[line.split()[9] for line in f]\n",
    "    #print(lst)\n",
    "    temp_crn=[]\n",
    "    for i in lst:\n",
    "        new=i.replace(',',\"\")\n",
    "        temp_crn.append(new)\n",
    "    temp_crn=[float(x) for x in temp_crn]\n",
    "    temp_crn=temp_crn[2213:2238]\n",
    "    print(temp_crn)\n",
    "    #print(len(temp_crn))\n",
    "    # print(temp_crn[2124])"
   ]
  },
  {
   "cell_type": "code",
   "execution_count": 130,
   "id": "c6c4c7ac",
   "metadata": {},
   "outputs": [
    {
     "name": "stdout",
     "output_type": "stream",
     "text": [
      "[3.9017999999999997, 3.2109999999999985, 3.6834999999999987, 4.0294, 3.9322999999999997, 3.7652, 3.581600000000001, 4.696899999999999, 1.5915999999999997, 0.4773999999999994, 0.6539000000000001, 0.5335999999999999, 1.560299999999998, 1.0330999999999975, 0.698400000000003, 0.6405999999999992, 0.6325000000000003, -0.004100000000001103, -0.981300000000001, 1.0229, 1.261499999999998, 1.6816999999999993, 3.049999999999999, 3.860000000000001, 4.073]\n"
     ]
    }
   ],
   "source": [
    "difference4_fai = []\n",
    "\n",
    "zip_object = zip(temp, temp_crn)\n",
    "for temp_i, temp_crn_i in zip_object:\n",
    "    difference4_fai.append(temp_i-temp_crn_i)\n",
    "\n",
    "print(difference4_fai)"
   ]
  },
  {
   "cell_type": "markdown",
   "id": "650c9966",
   "metadata": {},
   "source": [
    "<font size=\"3\">**Selma, AL: 0100 UTC 31 March 2022-0100 UTC 1 April 2022</font>"
   ]
  },
  {
   "cell_type": "code",
   "execution_count": 131,
   "id": "ac7ab9b6",
   "metadata": {},
   "outputs": [
    {
     "name": "stdout",
     "output_type": "stream",
     "text": [
      "[11.7393, 10.9485, 10.3585, 10.2919, 9.21979, 9.24017, 8.69412, 11.0094, 14.4166, 16.7899, 18.4789, 19.6961, 20.9853, 21.9456, 22.6609, 23.3406, 23.2075, 21.9209, 19.5187, 17.1729, 15.499, 14.9192, 13.575, 12.6475, 11.473]\n",
      "25\n",
      "[9.3, 8.5, 7.9, 7.6, 7.1, 6.4, 6.0, 8.0, 13.0, 16.6, 19.1, 20.9, 22.0, 23.0, 23.3, 23.6, 23.6, 23.1, 21.1, 15.9, 13.1, 11.7, 10.2, 8.9, 8.2]\n",
      "25\n",
      "[2.4392999999999994, 2.4484999999999992, 2.458499999999999, 2.6919000000000004, 2.11979, 2.8401700000000005, 2.69412, 3.0093999999999994, 1.4166000000000007, 0.18989999999999796, -0.621100000000002, -1.2038999999999973, -1.0147000000000013, -1.0544000000000011, -0.6390999999999991, -0.25940000000000296, -0.39250000000000185, -1.1791000000000018, -1.5813000000000024, 1.2728999999999981, 2.399000000000001, 3.2192000000000007, 3.375, 3.7475000000000005, 3.2730000000000015]\n"
     ]
    }
   ],
   "source": [
    "#12 hr hrrr:\n",
    "with open('hrrr_f12_Selma_AL.txt') as f:\n",
    "    lst=[line.split()[1] for line in f]\n",
    "    temp=[]\n",
    "    for i in lst:\n",
    "        new=i.replace(',',\"\")\n",
    "        temp.append(new)\n",
    "    temp.pop(0)\n",
    "    temp=[float(x) for x in temp]\n",
    "    temp=temp[2202:2227]\n",
    "    \n",
    "#Air Temp CRN:\n",
    "with open('CRNH0203-2022-AL_Selma_13_WNW.txt') as f:\n",
    "    lst=[line.split()[9] for line in f]\n",
    "    #print(lst)\n",
    "    temp_crn=[]\n",
    "    for i in lst:\n",
    "        new=i.replace(',',\"\")\n",
    "        temp_crn.append(new)\n",
    "    temp_crn=[float(x) for x in temp_crn]\n",
    "    temp_crn=temp_crn[2213:2238]\n",
    "\n",
    "    print(temp)\n",
    "    print(len(temp))\n",
    "    print(temp_crn)\n",
    "    print(len(temp_crn))\n",
    "#full time period is [2015:2112]\n",
    "difference4_sel = []\n",
    "\n",
    "zip_object = zip(temp, temp_crn)\n",
    "for temp_i, temp_crn_i in zip_object:\n",
    "    difference4_sel.append(temp_i-temp_crn_i)\n",
    "\n",
    "print(difference4_sel)\n",
    "#print(len(difference3_sel))"
   ]
  },
  {
   "cell_type": "markdown",
   "id": "9f046f41",
   "metadata": {},
   "source": [
    "<font size=\"3\">Bowling Green, KY: 0100 UTC 31 March 2022-0100 UTC 1 April 2022</font>"
   ]
  },
  {
   "cell_type": "code",
   "execution_count": 132,
   "id": "69c5f60a",
   "metadata": {},
   "outputs": [
    {
     "name": "stdout",
     "output_type": "stream",
     "text": [
      "[5.05185, 3.82352, 3.42096, 2.60437, 2.71979, 1.55267, 1.06912, 3.75937, 6.04156, 8.41495, 10.6039, 12.4461, 14.0478, 14.9456, 15.4734, 15.9656, 15.7075, 15.1709, 13.0187, 10.7354, 9.68649, 9.48169, 8.88751, 7.45996, 7.53546]\n"
     ]
    }
   ],
   "source": [
    "#12 hr hrrr:\n",
    "with open('hrrr_f12_Bowling Green_KY.txt') as f:\n",
    "    lst=[line.split()[1] for line in f]\n",
    "    temp=[]\n",
    "    for i in lst:\n",
    "        new=i.replace(',',\"\")\n",
    "        temp.append(new)\n",
    "    temp.pop(0)\n",
    "    temp=[float(x) for x in temp]\n",
    "    temp=temp[2202:2227]\n",
    "#     x = np.array(temp)\n",
    "#     temp= ma.masked_array(x, mask=[0, 0, 0, 0, 0,0,1,0,0,0,0,0,0,0,0,0,0,0,0,0,0,0,0,0,0])\n",
    "    #temp=temp[2015:2063]\n",
    "    print(temp)\n",
    "    #print(len(temp))\n",
    "#full time period is [2015:2112]"
   ]
  },
  {
   "cell_type": "code",
   "execution_count": 133,
   "id": "1dc32c88",
   "metadata": {},
   "outputs": [
    {
     "name": "stdout",
     "output_type": "stream",
     "text": [
      "[6.5, 5.3, 3.9, 3.1, 2.4, 1.9, 1.6, 3.4, 6.0, 8.6, 11.1, 12.9, 14.2, 15.2, 15.8, 16.0, 16.1, 15.8, 14.2, 12.7, 11.0, 10.4, 9.3, 8.8, 10.3]\n"
     ]
    }
   ],
   "source": [
    "#Air Temp CRN:\n",
    "with open('CRNH0203-2022-KY_Bowling_Green_21_NNE.txt') as f:\n",
    "    lst=[line.split()[9] for line in f]\n",
    "    #print(lst)\n",
    "    temp_crn=[]\n",
    "    for i in lst:\n",
    "        new=i.replace(',',\"\")\n",
    "        temp_crn.append(new)\n",
    "    temp_crn=[float(x) for x in temp_crn]\n",
    "    temp_crn=temp_crn[2213:2238]\n",
    "#     y = np.array(temp_crn)\n",
    "#     temp_crn = ma.masked_array(y, mask=[0, 0, 0, 0, 0,0,1,0,0,0,0,0,0,0,0,0,0,0,0,0,0,0,0,0,0])\n",
    "    print(temp_crn)\n",
    "    #print(len(temp_crn))\n",
    "    # print(temp_crn[2124])"
   ]
  },
  {
   "cell_type": "code",
   "execution_count": 134,
   "id": "ffb0e9b1",
   "metadata": {},
   "outputs": [
    {
     "name": "stdout",
     "output_type": "stream",
     "text": [
      "[-1.44815, -1.47648, -0.4790399999999999, -0.49563000000000024, 0.31979000000000024, -0.3473299999999999, -0.53088, 0.3593700000000002, 0.0415599999999996, -0.18505000000000038, -0.4961000000000002, -0.45390000000000086, -0.15219999999999878, -0.2543999999999986, -0.3266000000000009, -0.034399999999999764, -0.39250000000000185, -0.6291000000000011, -1.1812999999999985, -1.964599999999999, -1.3135100000000008, -0.91831, -0.41249, -1.340040000000001, -2.764540000000001]\n"
     ]
    }
   ],
   "source": [
    "difference4_bow = []\n",
    "\n",
    "zip_object = zip(temp, temp_crn)\n",
    "for temp_i, temp_crn_i in zip_object:\n",
    "    difference4_bow.append(temp_i-temp_crn_i)\n",
    "\n",
    "print(difference4_bow)"
   ]
  },
  {
   "cell_type": "markdown",
   "id": "170790cc",
   "metadata": {},
   "source": [
    "<font size=\"3\">Gadsden, AL: 0200 UTC 31 March 2022-0200 UTC 1 April 2022</font>"
   ]
  },
  {
   "cell_type": "code",
   "execution_count": 135,
   "id": "40ecc23d",
   "metadata": {},
   "outputs": [
    {
     "name": "stdout",
     "output_type": "stream",
     "text": [
      "[10.5518, 9.76102, 9.67096, 9.04187, 8.46979, 8.49017, 7.88162, 9.75937, 11.3541, 13.6024, 14.7914, 15.6961, 16.7978, 17.5706, 18.0359, 18.2156, 17.9575, 16.8584, 14.5187, 12.7979, 11.874, 10.9192, 9.95001, 9.20996, 8.91046]\n",
      "25\n"
     ]
    }
   ],
   "source": [
    "#12 hr hrrr:\n",
    "with open('hrrr_f12_Gadsden_AL.txt') as f:\n",
    "    lst=[line.split()[1] for line in f]\n",
    "    temp=[]\n",
    "    for i in lst:\n",
    "        new=i.replace(',',\"\")\n",
    "        temp.append(new)\n",
    "    temp.pop(0)\n",
    "    temp=[float(x) for x in temp]\n",
    "    temp=temp[2202:2227]\n",
    "    #temp=temp[2015:2063]\n",
    "    print(temp)\n",
    "    print(len(temp))\n",
    "#full time period is [2015:2112]"
   ]
  },
  {
   "cell_type": "code",
   "execution_count": 136,
   "id": "ddba7cd0",
   "metadata": {},
   "outputs": [
    {
     "name": "stdout",
     "output_type": "stream",
     "text": [
      "[6.3, 6.2, 5.3, 4.4, 5.1, 5.7, 6.4, 8.3, 10.3, 12.0, 13.6, 14.5, 15.4, 16.5, 17.3, 17.6, 17.6, 17.1, 15.2, 12.9, 11.5, 9.7, 7.5, 7.0, 6.5]\n"
     ]
    }
   ],
   "source": [
    "#Air Temp CRN:\n",
    "with open('CRNH0203-2022-AL_Gadsden_19_N.txt') as f:\n",
    "    lst=[line.split()[9] for line in f]\n",
    "    #print(lst)\n",
    "    temp_crn=[]\n",
    "    for i in lst:\n",
    "        new=i.replace(',',\"\")\n",
    "        temp_crn.append(new)\n",
    "    temp_crn=[float(x) for x in temp_crn]\n",
    "    temp_crn=temp_crn[2213:2238]\n",
    "    print(temp_crn)\n",
    "    #print(len(temp_crn))\n",
    "    # print(temp_crn[2124])"
   ]
  },
  {
   "cell_type": "code",
   "execution_count": 137,
   "id": "4f15217f",
   "metadata": {},
   "outputs": [
    {
     "name": "stdout",
     "output_type": "stream",
     "text": [
      "[4.2518, 3.56102, 4.370959999999999, 4.641869999999999, 3.36979, 2.7901700000000007, 1.4816199999999995, 1.4593699999999998, 1.0541, 1.6023999999999994, 1.1913999999999998, 1.1960999999999995, 1.3977999999999984, 1.0705999999999989, 0.7359000000000009, 0.615599999999997, 0.35749999999999815, -0.2416000000000018, -0.6812999999999985, -0.10210000000000008, 0.37400000000000055, 1.2192000000000007, 2.4500100000000007, 2.2099600000000006, 2.4104600000000005]\n"
     ]
    }
   ],
   "source": [
    "difference4_gad = []\n",
    "\n",
    "zip_object = zip(temp, temp_crn)\n",
    "for temp_i, temp_crn_i in zip_object:\n",
    "    difference4_gad.append(temp_i-temp_crn_i)\n",
    "\n",
    "print(difference4_gad)"
   ]
  },
  {
   "cell_type": "markdown",
   "id": "da3968d1",
   "metadata": {},
   "source": [
    "<font size=\"3\">Newton, GA: 0700 UTC 31 March 2022-0700 UTC 1 April 2022</font>"
   ]
  },
  {
   "cell_type": "code",
   "execution_count": 138,
   "id": "2842950b",
   "metadata": {},
   "outputs": [
    {
     "name": "stdout",
     "output_type": "stream",
     "text": [
      "[11.6768, 11.0735, 10.296, 9.47937, 8.84479, 8.86517, 8.31912, 12.5719, 15.9166, 18.7899, 20.7289, 22.0086, 23.2353, 24.1956, 24.8484, 25.2781, 25.02, 23.8584, 21.0187, 19.0479, 17.0615, 15.9192, 15.1375, 14.3975, 13.2855]\n",
      "25\n"
     ]
    }
   ],
   "source": [
    "#12 hr hrrr:\n",
    "with open('hrrr_f12_Newton_GA.txt') as f:\n",
    "    lst=[line.split()[1] for line in f]\n",
    "    temp=[]\n",
    "    for i in lst:\n",
    "        new=i.replace(',',\"\")\n",
    "        temp.append(new)\n",
    "    temp.pop(0)\n",
    "    temp=[float(x) for x in temp]\n",
    "    temp=temp[2202:2227]\n",
    "    #temp=temp[2015:2063]\n",
    "    print(temp)\n",
    "    print(len(temp))\n",
    "#full time period is [2015:2112]"
   ]
  },
  {
   "cell_type": "code",
   "execution_count": 139,
   "id": "f4a3aaba",
   "metadata": {},
   "outputs": [
    {
     "name": "stdout",
     "output_type": "stream",
     "text": [
      "[10.1, 9.3, 8.6, 8.4, 8.3, 8.2, 8.0, 10.6, 15.0, 17.6, 19.9, 21.6, 22.7, 23.6, 24.3, 24.8, 24.9, 24.3, 22.3, 18.5, 15.8, 13.5, 12.2, 11.2, 10.6]\n"
     ]
    }
   ],
   "source": [
    "#Air Temp CRN:\n",
    "with open('CRNH0203-2022-GA_Newton_11_SW.txt') as f:\n",
    "    lst=[line.split()[9] for line in f]\n",
    "    #print(lst)\n",
    "    temp_crn=[]\n",
    "    for i in lst:\n",
    "        new=i.replace(',',\"\")\n",
    "        temp_crn.append(new)\n",
    "    temp_crn=[float(x) for x in temp_crn]\n",
    "    temp_crn=temp_crn[2213:2238]\n",
    "    print(temp_crn)\n",
    "    #print(len(temp_crn))\n",
    "    # print(temp_crn[2124])"
   ]
  },
  {
   "cell_type": "code",
   "execution_count": 140,
   "id": "00cad50f",
   "metadata": {},
   "outputs": [
    {
     "name": "stdout",
     "output_type": "stream",
     "text": [
      "[1.5768000000000004, 1.7734999999999985, 1.6959999999999997, 1.079369999999999, 0.544789999999999, 0.6651700000000016, 0.31911999999999985, 1.9718999999999998, 0.9166000000000007, 1.189899999999998, 0.8289000000000009, 0.40859999999999985, 0.5352999999999994, 0.5955999999999975, 0.5484000000000009, 0.47809999999999775, 0.120000000000001, -0.4416000000000011, -1.2813000000000017, 0.5478999999999985, 1.261499999999998, 2.4192, 2.9375, 3.1975000000000016, 2.685500000000001]\n"
     ]
    }
   ],
   "source": [
    "difference4_newt = []\n",
    "\n",
    "zip_object = zip(temp, temp_crn)\n",
    "for temp_i, temp_crn_i in zip_object:\n",
    "    difference4_newt.append(temp_i-temp_crn_i)\n",
    "\n",
    "print(difference4_newt)"
   ]
  },
  {
   "cell_type": "markdown",
   "id": "487fa10a",
   "metadata": {},
   "source": [
    "<font size=\"3\">Salem, MO: 0500 UTC (12:00 am CDT) 19 April 2022-0500 UTC (12:00 am CDT) 20 April 2022</font>"
   ]
  },
  {
   "cell_type": "code",
   "execution_count": 141,
   "id": "1c98e9fa",
   "metadata": {},
   "outputs": [
    {
     "name": "stdout",
     "output_type": "stream",
     "text": [
      "[1.24149, 0.602386, 0.481415, 0.171356, 0.0257568, -0.107391, -0.0597839, 1.87061, 3.84421, 5.57578, 7.43759, 8.88818, 10.269, 11.7148, 12.8199, 13.7466, 13.9002, 12.9553, 11.6181, 10.3448, 9.40689, 8.47812, 8.06277, 7.27982, 7.06177]\n",
      "25\n"
     ]
    }
   ],
   "source": [
    "#12 hr hrrr:\n",
    "with open('hrrr_f12_Salem_MO.txt') as f:\n",
    "    lst=[line.split()[1] for line in f]\n",
    "    temp=[]\n",
    "    for i in lst:\n",
    "        new=i.replace(',',\"\")\n",
    "        temp.append(new)\n",
    "    temp.pop(0)\n",
    "    temp=[float(x) for x in temp]\n",
    "    temp=temp[2586:2611]\n",
    "    #temp=temp[2015:2063]\n",
    "    print(temp)\n",
    "    print(len(temp))\n",
    "#full time period is [2015:2112]"
   ]
  },
  {
   "cell_type": "code",
   "execution_count": 142,
   "id": "2019ce38",
   "metadata": {},
   "outputs": [
    {
     "name": "stdout",
     "output_type": "stream",
     "text": [
      "[-0.8, 0.1, 2.0, 0.1, -2.6, -3.7, -4.3, -1.6, 3.5, 5.6, 7.4, 9.5, 11.3, 12.9, 14.1, 15.6, 16.4, 16.1, 15.0, 13.5, 11.8, 12.3, 11.5, 10.4, 9.6]\n"
     ]
    }
   ],
   "source": [
    "#Air Temp CRN:\n",
    "with open('CRNH0203-2022-MO_Salem_10_W.txt') as f:\n",
    "    lst=[line.split()[9] for line in f]\n",
    "    #print(lst)\n",
    "    temp_crn=[]\n",
    "    for i in lst:\n",
    "        new=i.replace(',',\"\")\n",
    "        temp_crn.append(new)\n",
    "    temp_crn=[float(x) for x in temp_crn]\n",
    "    temp_crn=temp_crn[2597:2622]\n",
    "    print(temp_crn)\n",
    "    #print(len(temp_crn))\n",
    "    # print(temp_crn[2124])"
   ]
  },
  {
   "cell_type": "code",
   "execution_count": 143,
   "id": "4d320d30",
   "metadata": {},
   "outputs": [],
   "source": [
    "# hour=[]\n",
    "# for i in range(-12,13,1):\n",
    "#     hour.append(i)\n",
    "#     i+=1\n",
    "# print(len(hour))"
   ]
  },
  {
   "cell_type": "code",
   "execution_count": 144,
   "id": "00962b90",
   "metadata": {},
   "outputs": [
    {
     "name": "stdout",
     "output_type": "stream",
     "text": [
      "[2.04149, 0.502386, -1.518585, 0.071356, 2.6257568, 3.5926090000000004, 4.2402161, 3.47061, 0.3442099999999999, -0.024219999999999686, 0.03758999999999979, -0.6118199999999998, -1.0310000000000006, -1.1852, -1.2800999999999991, -1.8533999999999988, -2.4997999999999987, -3.144700000000002, -3.3819, -3.1552000000000007, -2.39311, -3.82188, -3.4372299999999996, -3.1201800000000004, -2.5382299999999995]\n"
     ]
    }
   ],
   "source": [
    "difference5_sal = []\n",
    "\n",
    "zip_object = zip(temp, temp_crn)\n",
    "for temp_i, temp_crn_i in zip_object:\n",
    "    difference5_sal.append(temp_i-temp_crn_i)\n",
    "\n",
    "print(difference5_sal)"
   ]
  },
  {
   "cell_type": "markdown",
   "id": "c7a935ec",
   "metadata": {},
   "source": [
    "<font size=\"3\">Batesville, AR: 1300 UTC 30 March 2022-1300 UTC 31 March 2022</font>"
   ]
  },
  {
   "cell_type": "code",
   "execution_count": 145,
   "id": "c4d409be",
   "metadata": {},
   "outputs": [
    {
     "name": "stdout",
     "output_type": "stream",
     "text": [
      "[5.67899, 5.03989, 4.35641, 4.10886, 3.77576, 3.14261, 2.50272, 5.49561, 8.15671, 9.76328, 11.8751, 13.2632, 14.894, 16.2773, 17.3824, 17.4966, 16.9627, 16.7678, 15.3681, 13.2823, 11.9694, 10.5406, 9.43777, 9.15482, 7.87427]\n",
      "25\n"
     ]
    }
   ],
   "source": [
    "#12 hr hrrr:\n",
    "with open('hrrr_f12_Batesville_AR.txt') as f:\n",
    "    lst=[line.split()[1] for line in f]\n",
    "    temp=[]\n",
    "    for i in lst:\n",
    "        new=i.replace(',',\"\")\n",
    "        temp.append(new)\n",
    "    temp.pop(0)\n",
    "    temp=[float(x) for x in temp]\n",
    "    temp=temp[2586:2611]\n",
    "    #temp=temp[2015:2063]\n",
    "    print(temp)\n",
    "    print(len(temp))\n",
    "#full time period is [2015:2112]"
   ]
  },
  {
   "cell_type": "code",
   "execution_count": 146,
   "id": "87bd4b1e",
   "metadata": {},
   "outputs": [
    {
     "name": "stdout",
     "output_type": "stream",
     "text": [
      "[3.5, 2.2, 1.7, 1.0, 0.6, -0.4, -0.2, 3.0, 7.3, 9.0, 10.8, 12.2, 13.2, 14.3, 15.3, 15.7, 15.6, 15.0, 13.9, 11.8, 8.6, 7.1, 7.0, 7.9, 8.2]\n"
     ]
    }
   ],
   "source": [
    "#Air Temp CRN:\n",
    "with open('CRNH0203-2022-AR_Batesville_8_WNW.txt') as f:\n",
    "    lst=[line.split()[9] for line in f]\n",
    "    #print(lst)\n",
    "    temp_crn=[]\n",
    "    for i in lst:\n",
    "        new=i.replace(',',\"\")\n",
    "        temp_crn.append(new)\n",
    "    temp_crn=[float(x) for x in temp_crn]\n",
    "    temp_crn=temp_crn[2597:2622]\n",
    "    print(temp_crn)\n",
    "    #print(len(temp_crn))\n",
    "    # print(temp_crn[2124])"
   ]
  },
  {
   "cell_type": "code",
   "execution_count": 147,
   "id": "4da449e9",
   "metadata": {},
   "outputs": [
    {
     "name": "stdout",
     "output_type": "stream",
     "text": [
      "[2.1789899999999998, 2.8398899999999996, 2.65641, 3.10886, 3.17576, 3.54261, 2.7027200000000002, 2.49561, 0.8567100000000005, 0.76328, 1.075099999999999, 1.0632000000000001, 1.6940000000000008, 1.9772999999999996, 2.0824, 1.7966000000000015, 1.362700000000002, 1.7678000000000011, 1.4680999999999997, 1.4822999999999986, 3.3694000000000006, 3.4406, 2.4377700000000004, 1.2548200000000005, -0.3257299999999992]\n"
     ]
    }
   ],
   "source": [
    "difference5_bat = []\n",
    "\n",
    "zip_object = zip(temp, temp_crn)\n",
    "for temp_i, temp_crn_i in zip_object:\n",
    "    difference5_bat.append(temp_i-temp_crn_i)\n",
    "\n",
    "print(difference5_bat)"
   ]
  },
  {
   "cell_type": "markdown",
   "id": "23284d1b",
   "metadata": {},
   "source": [
    "<font size=\"3\">Lafayette, LA: 1700 UTC 30 March 2022-1700 UTC 31 March 2022</font>"
   ]
  },
  {
   "cell_type": "code",
   "execution_count": 148,
   "id": "fde8ab14",
   "metadata": {},
   "outputs": [
    {
     "name": "stdout",
     "output_type": "stream",
     "text": [
      "[12.804, 12.3524, 12.0439, 12.0464, 12.3383, 11.9551, 12.1902, 14.1206, 16.4692, 18.3883, 20.4376, 22.0132, 23.3315, 24.5273, 24.9449, 24.7466, 24.5877, 24.0803, 23.0556, 20.6573, 19.0319, 17.9156, 17.1253, 15.9048, 14.8118]\n",
      "25\n"
     ]
    }
   ],
   "source": [
    "#12 hr hrrr:\n",
    "with open('hrrr_f12_Lafayette_LA.txt') as f:\n",
    "    lst=[line.split()[1] for line in f]\n",
    "    temp=[]\n",
    "    for i in lst:\n",
    "        new=i.replace(',',\"\")\n",
    "        temp.append(new)\n",
    "    temp.pop(0)\n",
    "    temp=[float(x) for x in temp]\n",
    "    temp=temp[2586:2611]\n",
    "    #temp=temp[2015:2063]\n",
    "    print(temp)\n",
    "    print(len(temp))\n",
    "#full time period is [2015:2112]"
   ]
  },
  {
   "cell_type": "code",
   "execution_count": 149,
   "id": "f1edbbf0",
   "metadata": {},
   "outputs": [
    {
     "name": "stdout",
     "output_type": "stream",
     "text": [
      "[13.5, 12.7, 12.0, 11.2, 10.9, 10.8, 10.7, 12.0, 14.2, 16.2, 17.9, 19.2, 20.2, 21.3, 21.9, 22.4, 22.4, 22.3, 21.2, 18.5, 16.4, 15.7, 14.9, 14.3, 13.6]\n"
     ]
    }
   ],
   "source": [
    "#Air Temp CRN:\n",
    "with open('CRNH0203-2022-LA_Lafayette_13_SE.txt') as f:\n",
    "    lst=[line.split()[9] for line in f]\n",
    "    #print(lst)\n",
    "    temp_crn=[]\n",
    "    for i in lst:\n",
    "        new=i.replace(',',\"\")\n",
    "        temp_crn.append(new)\n",
    "    temp_crn=[float(x) for x in temp_crn]\n",
    "    temp_crn=temp_crn[2597:2622]\n",
    "    print(temp_crn)\n",
    "    #print(len(temp_crn))\n",
    "    # print(temp_crn[2124])"
   ]
  },
  {
   "cell_type": "code",
   "execution_count": 150,
   "id": "a8ce40e5",
   "metadata": {},
   "outputs": [
    {
     "name": "stdout",
     "output_type": "stream",
     "text": [
      "[-0.6959999999999997, -0.3475999999999999, 0.043900000000000716, 0.8464000000000009, 1.4383, 1.1550999999999991, 1.4902000000000015, 2.1205999999999996, 2.2692000000000014, 2.1883000000000017, 2.537600000000001, 2.813200000000002, 3.131499999999999, 3.2272999999999996, 3.044900000000002, 2.3466000000000022, 2.187700000000003, 1.7803000000000004, 1.855599999999999, 2.1572999999999993, 2.6319000000000017, 2.215600000000002, 2.225299999999999, 1.6047999999999991, 1.2118000000000002]\n"
     ]
    }
   ],
   "source": [
    "difference5_laf = []\n",
    "\n",
    "zip_object = zip(temp, temp_crn)\n",
    "for temp_i, temp_crn_i in zip_object:\n",
    "    difference5_laf.append(temp_i-temp_crn_i)\n",
    "\n",
    "print(difference5_laf)"
   ]
  },
  {
   "cell_type": "markdown",
   "id": "891a7b39",
   "metadata": {},
   "source": [
    "<font size=\"3\">Monroe, LA: 1700 UTC 30 March 2022-1700 UTC 31 March 2022</font>"
   ]
  },
  {
   "cell_type": "code",
   "execution_count": 151,
   "id": "1e1f711d",
   "metadata": {},
   "outputs": [
    {
     "name": "stdout",
     "output_type": "stream",
     "text": [
      "[9.86649, 9.60239, 9.66891, 9.10886, 8.52576, 7.76761, 7.56522, 9.80811, 11.7192, 13.5133, 15.1876, 16.3882, 17.9565, 19.1523, 20.0074, 20.3716, 20.2127, 19.8928, 18.3681, 15.8448, 14.2819, 13.4781, 12.2503, 12.3423, 12.5618]\n",
      "25\n"
     ]
    }
   ],
   "source": [
    "#12 hr hrrr:\n",
    "with open('hrrr_f12_Monroe_LA.txt') as f:\n",
    "    lst=[line.split()[1] for line in f]\n",
    "    temp=[]\n",
    "    for i in lst:\n",
    "        new=i.replace(',',\"\")\n",
    "        temp.append(new)\n",
    "    temp.pop(0)\n",
    "    temp=[float(x) for x in temp]\n",
    "    temp=temp[2586:2611]\n",
    "    #temp=temp[2015:2063]\n",
    "    print(temp)\n",
    "    print(len(temp))\n",
    "#full time period is [2015:2112]"
   ]
  },
  {
   "cell_type": "code",
   "execution_count": 152,
   "id": "db2da0d0",
   "metadata": {},
   "outputs": [
    {
     "name": "stdout",
     "output_type": "stream",
     "text": [
      "[9.9, 8.9, 8.4, 7.7, 7.4, 8.0, 9.8, 10.7, 12.3, 13.5, 14.9, 15.8, 16.7, 17.7, 18.2, 18.7, 19.2, 18.8, 18.0, 14.6, 11.4, 10.5, 10.2, 11.3, 11.5]\n"
     ]
    }
   ],
   "source": [
    "#Air Temp CRN:\n",
    "with open('CRNH0203-2022-LA_Monroe_26_N.txt') as f:\n",
    "    lst=[line.split()[9] for line in f]\n",
    "    #print(lst)\n",
    "    temp_crn=[]\n",
    "    for i in lst:\n",
    "        new=i.replace(',',\"\")\n",
    "        temp_crn.append(new)\n",
    "    temp_crn=[float(x) for x in temp_crn]\n",
    "    temp_crn=temp_crn[2597:2622]\n",
    "    print(temp_crn)\n",
    "    #print(len(temp_crn))\n",
    "    # print(temp_crn[2124])"
   ]
  },
  {
   "cell_type": "code",
   "execution_count": 153,
   "id": "d378a152",
   "metadata": {},
   "outputs": [
    {
     "name": "stdout",
     "output_type": "stream",
     "text": [
      "[-0.03350999999999971, 0.7023899999999994, 1.26891, 1.4088599999999998, 1.1257599999999996, -0.23238999999999965, -2.2347800000000007, -0.8918900000000001, -0.5808, 0.013299999999999201, 0.2875999999999994, 0.5882000000000005, 1.256499999999999, 1.452300000000001, 1.8074000000000012, 1.6716000000000015, 1.0127000000000024, 1.0928000000000004, 0.3680999999999983, 1.2447999999999997, 2.8819, 2.9780999999999995, 2.0503, 1.0422999999999991, 1.0617999999999999]\n"
     ]
    }
   ],
   "source": [
    "difference5_mon = []\n",
    "\n",
    "zip_object = zip(temp, temp_crn)\n",
    "for temp_i, temp_crn_i in zip_object:\n",
    "    difference5_mon.append(temp_i-temp_crn_i)\n",
    "\n",
    "print(difference5_mon)"
   ]
  },
  {
   "cell_type": "markdown",
   "id": "9f506eb8",
   "metadata": {},
   "source": [
    "<font size=\"3\">Holly Springs, MS: 2000 UTC 30 March 2022-2000 UTC 31 March 2022</font>"
   ]
  },
  {
   "cell_type": "code",
   "execution_count": 154,
   "id": "154911a5",
   "metadata": {},
   "outputs": [
    {
     "name": "stdout",
     "output_type": "stream",
     "text": [
      "[5.99149, 5.35239, 4.91891, 4.54636, 4.02576, 3.26761, 3.44022, 5.87061, 7.34421, 8.88828, 10.5001, 11.4507, 12.7065, 13.9023, 15.0699, 15.6216, 15.7752, 15.3928, 14.1806, 11.3448, 10.2819, 9.54062, 9.06277, 8.59232, 8.12427]\n",
      "25\n"
     ]
    }
   ],
   "source": [
    "#12 hr hrrr:\n",
    "with open('hrrr_f12_Holly Springs_MS.txt') as f:\n",
    "    lst=[line.split()[1] for line in f]\n",
    "    temp=[]\n",
    "    for i in lst:\n",
    "        new=i.replace(',',\"\")\n",
    "        temp.append(new)\n",
    "    temp.pop(0)\n",
    "    temp=[float(x) for x in temp]\n",
    "    temp=temp[2586:2611]\n",
    "    #temp=temp[2015:2063]\n",
    "    print(temp)\n",
    "    print(len(temp))\n",
    "#full time period is [2015:2112]"
   ]
  },
  {
   "cell_type": "code",
   "execution_count": 155,
   "id": "4fd02a0c",
   "metadata": {},
   "outputs": [
    {
     "name": "stdout",
     "output_type": "stream",
     "text": [
      "[4.0, 3.2, 3.3, 2.6, 1.5, 0.5, -0.2, 3.6, 8.0, 9.8, 11.2, 12.4, 13.6, 14.7, 15.9, 16.2, 16.8, 17.1, 15.7, 11.3, 8.1, 6.4, 5.3, 4.5, 4.5]\n"
     ]
    }
   ],
   "source": [
    "#Air Temp CRN:\n",
    "with open('CRNH0203-2022-MS_Holly_Springs_4_N.txt') as f:\n",
    "    lst=[line.split()[9] for line in f]\n",
    "    #print(lst)\n",
    "    temp_crn=[]\n",
    "    for i in lst:\n",
    "        new=i.replace(',',\"\")\n",
    "        temp_crn.append(new)\n",
    "    temp_crn=[float(x) for x in temp_crn]\n",
    "    temp_crn=temp_crn[2597:2622]\n",
    "    print(temp_crn)\n",
    "    #print(len(temp_crn))\n",
    "    # print(temp_crn[2124])"
   ]
  },
  {
   "cell_type": "code",
   "execution_count": 156,
   "id": "aa3f0594",
   "metadata": {},
   "outputs": [
    {
     "name": "stdout",
     "output_type": "stream",
     "text": [
      "[1.9914899999999998, 2.1523899999999996, 1.6189100000000005, 1.9463599999999999, 2.52576, 2.76761, 3.6402200000000002, 2.27061, -0.6557899999999997, -0.9117200000000008, -0.6998999999999995, -0.9493000000000009, -0.8934999999999995, -0.797699999999999, -0.8300999999999998, -0.5783999999999985, -1.0248000000000008, -1.707200000000002, -1.5193999999999992, 0.04479999999999862, 2.1819000000000006, 3.14062, 3.7627700000000006, 4.092320000000001, 3.624269999999999]\n"
     ]
    }
   ],
   "source": [
    "difference5_hol = []\n",
    "\n",
    "zip_object = zip(temp, temp_crn)\n",
    "for temp_i, temp_crn_i in zip_object:\n",
    "    difference5_hol.append(temp_i-temp_crn_i)\n",
    "\n",
    "print(difference5_hol)"
   ]
  },
  {
   "cell_type": "markdown",
   "id": "156c835f",
   "metadata": {},
   "source": [
    "<font size=\"3\">Newton, MS: 2000 UTC 30 March 2022-2000 UTC 31 March 2022</font>"
   ]
  },
  {
   "cell_type": "code",
   "execution_count": 157,
   "id": "7af35e9c",
   "metadata": {},
   "outputs": [
    {
     "name": "stdout",
     "output_type": "stream",
     "text": [
      "[9.61649, 9.35239, 9.29391, 8.85886, 8.90076, 8.08011, 7.62772, 9.49561, 10.9067, 12.2008, 13.8126, 15.0132, 16.2065, 17.4648, 18.5074, 18.7466, 18.8377, 18.3928, 16.6806, 14.5323, 13.1569, 12.2281, 11.3128, 10.8423, 10.3118]\n",
      "25\n"
     ]
    }
   ],
   "source": [
    "#12 hr hrrr:\n",
    "with open('hrrr_f12_Newton_MS.txt') as f:\n",
    "    lst=[line.split()[1] for line in f]\n",
    "    temp=[]\n",
    "    for i in lst:\n",
    "        new=i.replace(',',\"\")\n",
    "        temp.append(new)\n",
    "    temp.pop(0)\n",
    "    temp=[float(x) for x in temp]\n",
    "    temp=temp[2586:2611]\n",
    "    #temp=temp[2015:2063]\n",
    "    print(temp)\n",
    "    print(len(temp))\n",
    "#full time period is [2015:2112]"
   ]
  },
  {
   "cell_type": "code",
   "execution_count": 158,
   "id": "dca3bc70",
   "metadata": {},
   "outputs": [
    {
     "name": "stdout",
     "output_type": "stream",
     "text": [
      "[9.1, 7.7, 7.3, 6.5, 6.0, 5.4, 5.0, 7.5, 10.2, 11.8, 13.2, 14.3, 15.6, 16.7, 17.7, 18.3, 18.7, 18.9, 17.6, 13.3, 10.8, 9.2, 8.2, 7.8, 7.0]\n"
     ]
    }
   ],
   "source": [
    "#Air Temp CRN:\n",
    "with open('CRNH0203-2022-MS_Newton_5_ENE.txt') as f:\n",
    "    lst=[line.split()[9] for line in f]\n",
    "    #print(lst)\n",
    "    temp_crn=[]\n",
    "    for i in lst:\n",
    "        new=i.replace(',',\"\")\n",
    "        temp_crn.append(new)\n",
    "    temp_crn=[float(x) for x in temp_crn]\n",
    "    temp_crn=temp_crn[2597:2622]\n",
    "    print(temp_crn)\n",
    "    #print(len(temp_crn))\n",
    "    # print(temp_crn[2124])"
   ]
  },
  {
   "cell_type": "code",
   "execution_count": 159,
   "id": "1b15a5e2",
   "metadata": {},
   "outputs": [
    {
     "name": "stdout",
     "output_type": "stream",
     "text": [
      "[0.516490000000001, 1.6523899999999996, 1.9939100000000005, 2.35886, 2.90076, 2.680109999999999, 2.62772, 1.9956099999999992, 0.7067000000000014, 0.4007999999999985, 0.6126000000000005, 0.7131999999999987, 0.6064999999999987, 0.764800000000001, 0.8074000000000012, 0.4466000000000001, 0.13770000000000238, -0.5071999999999974, -0.9194000000000031, 1.2322999999999986, 2.3568999999999996, 3.0281000000000002, 3.1128, 3.0423, 3.3118]\n"
     ]
    }
   ],
   "source": [
    "difference5_new = []\n",
    "\n",
    "zip_object = zip(temp, temp_crn)\n",
    "for temp_i, temp_crn_i in zip_object:\n",
    "    difference5_new.append(temp_i-temp_crn_i)\n",
    "\n",
    "print(difference5_new)"
   ]
  },
  {
   "cell_type": "markdown",
   "id": "344db2be",
   "metadata": {},
   "source": [
    "<font size=\"3\">Gainesville, AL: 2300 UTC 30 March 2022-2300 UTC 31 March 2022</font>"
   ]
  },
  {
   "cell_type": "code",
   "execution_count": 160,
   "id": "d7e8af5a",
   "metadata": {},
   "outputs": [
    {
     "name": "stdout",
     "output_type": "stream",
     "text": [
      "[8.99149, 8.78989, 8.41891, 8.04636, 7.65076, 7.20511, 7.19022, 8.99561, 10.4692, 11.8258, 13.0626, 13.7632, 15.019, 15.9023, 16.5074, 16.6841, 16.6502, 16.3303, 15.1181, 13.9073, 13.0944, 11.6031, 10.8128, 9.90482, 9.43677]\n",
      "25\n"
     ]
    }
   ],
   "source": [
    "#12 hr hrrr:\n",
    "with open('hrrr_f12_Gainesville_AL.txt') as f:\n",
    "    lst=[line.split()[1] for line in f]\n",
    "    temp=[]\n",
    "    for i in lst:\n",
    "        new=i.replace(',',\"\")\n",
    "        temp.append(new)\n",
    "    temp.pop(0)\n",
    "    temp=[float(x) for x in temp]\n",
    "    temp=temp[2586:2611]\n",
    "    #temp=temp[2015:2063]\n",
    "    print(temp)\n",
    "    print(len(temp))\n",
    "#full time period is [2015:2112]"
   ]
  },
  {
   "cell_type": "code",
   "execution_count": 161,
   "id": "6f25f747",
   "metadata": {},
   "outputs": [
    {
     "name": "stdout",
     "output_type": "stream",
     "text": [
      "[9.8, 7.9, 7.9, 6.9, 5.8, 5.8, 6.1, 7.8, 10.2, 11.9, 13.1, 14.4, 15.3, 16.5, 17.3, 18.0, 18.3, 18.3, 16.8, 13.2, 11.0, 9.9, 9.1, 8.5, 8.0]\n"
     ]
    }
   ],
   "source": [
    "#Air Temp CRN:\n",
    "with open('CRNH0203-2022-AL_Gainesville_2_NE.txt') as f:\n",
    "    lst=[line.split()[9] for line in f]\n",
    "    #print(lst)\n",
    "    temp_crn=[]\n",
    "    for i in lst:\n",
    "        new=i.replace(',',\"\")\n",
    "        temp_crn.append(new)\n",
    "    temp_crn=[float(x) for x in temp_crn]\n",
    "    temp_crn=temp_crn[2597:2622]\n",
    "    print(temp_crn)\n",
    "    #print(len(temp_crn))\n",
    "    # print(temp_crn[2124])"
   ]
  },
  {
   "cell_type": "code",
   "execution_count": 162,
   "id": "e4dfb6e5",
   "metadata": {},
   "outputs": [
    {
     "name": "stdout",
     "output_type": "stream",
     "text": [
      "[-0.8085100000000001, 0.8898899999999994, 0.51891, 1.1463599999999996, 1.8507600000000002, 1.4051100000000005, 1.0902200000000004, 1.1956099999999994, 0.26920000000000144, -0.07420000000000115, -0.03739999999999988, -0.6368000000000009, -0.2810000000000006, -0.5976999999999997, -0.7926000000000002, -1.3158999999999992, -1.649799999999999, -1.9696999999999996, -1.6819000000000006, 0.7073, 2.0944000000000003, 1.7030999999999992, 1.7127999999999997, 1.4048200000000008, 1.4367699999999992]\n"
     ]
    }
   ],
   "source": [
    "difference5_gai = []\n",
    "\n",
    "zip_object = zip(temp, temp_crn)\n",
    "for temp_i, temp_crn_i in zip_object:\n",
    "    difference5_gai.append(temp_i-temp_crn_i)\n",
    "\n",
    "print(difference5_gai)"
   ]
  },
  {
   "cell_type": "markdown",
   "id": "0c514257",
   "metadata": {},
   "source": [
    "<font size=\"3\">Fairhope, AL: 0100 UTC 31 March 2022-0100 UTC 1 April 2022</font>"
   ]
  },
  {
   "cell_type": "code",
   "execution_count": 163,
   "id": "2577e61a",
   "metadata": {},
   "outputs": [
    {
     "name": "stdout",
     "output_type": "stream",
     "text": [
      "[11.679, 11.4149, 11.3564, 11.1089, 11.1508, 10.3301, 10.5027, 12.1831, 14.3442, 15.6383, 16.8751, 17.8882, 19.144, 20.0273, 20.8199, 21.1216, 20.9002, 20.0803, 18.6806, 16.7198, 15.4069, 14.4156, 13.5628, 12.9048, 12.4993]\n",
      "25\n"
     ]
    }
   ],
   "source": [
    "#12 hr hrrr:\n",
    "with open('hrrr_f12_Fairhope_AL.txt') as f:\n",
    "    lst=[line.split()[1] for line in f]\n",
    "    temp=[]\n",
    "    for i in lst:\n",
    "        new=i.replace(',',\"\")\n",
    "        temp.append(new)\n",
    "    temp.pop(0)\n",
    "    temp=[float(x) for x in temp]\n",
    "    temp=temp[2586:2611]\n",
    "    #temp=temp[2015:2063]\n",
    "    print(temp)\n",
    "    print(len(temp))\n",
    "#full time period is [2015:2112]"
   ]
  },
  {
   "cell_type": "code",
   "execution_count": 164,
   "id": "6d082e22",
   "metadata": {},
   "outputs": [
    {
     "name": "stdout",
     "output_type": "stream",
     "text": [
      "[12.5, 11.7, 11.7, 12.2, 11.2, 10.0, 9.6, 10.6, 12.4, 14.5, 16.0, 17.3, 18.6, 19.8, 20.5, 21.1, 21.1, 20.5, 18.8, 16.1, 13.2, 11.2, 9.7, 9.3, 8.8]\n"
     ]
    }
   ],
   "source": [
    "#Air Temp CRN:\n",
    "with open('CRNH0203-2022-AL_Fairhope_3_NE.txt') as f:\n",
    "    lst=[line.split()[9] for line in f]\n",
    "    #print(lst)\n",
    "    temp_crn=[]\n",
    "    for i in lst:\n",
    "        new=i.replace(',',\"\")\n",
    "        temp_crn.append(new)\n",
    "    temp_crn=[float(x) for x in temp_crn]\n",
    "    temp_crn=temp_crn[2597:2622]\n",
    "    print(temp_crn)\n",
    "    #print(len(temp_crn))\n",
    "    # print(temp_crn[2124])"
   ]
  },
  {
   "cell_type": "code",
   "execution_count": 165,
   "id": "94886b0c",
   "metadata": {},
   "outputs": [
    {
     "name": "stdout",
     "output_type": "stream",
     "text": [
      "[-0.8209999999999997, -0.2850999999999999, -0.3435999999999986, -1.091099999999999, -0.04919999999999902, 0.33009999999999984, 0.9027000000000012, 1.5831, 1.9442000000000004, 1.1382999999999992, 0.8750999999999998, 0.5882000000000005, 0.5439999999999969, 0.2272999999999996, 0.3199000000000005, 0.021599999999999397, -0.19979999999999976, -0.41969999999999885, -0.1194000000000024, 0.6197999999999979, 2.206900000000001, 3.2156000000000002, 3.8628, 3.604799999999999, 3.699299999999999]\n"
     ]
    }
   ],
   "source": [
    "difference5_fai = []\n",
    "\n",
    "zip_object = zip(temp, temp_crn)\n",
    "for temp_i, temp_crn_i in zip_object:\n",
    "    difference5_fai.append(temp_i-temp_crn_i)\n",
    "\n",
    "print(difference5_fai)"
   ]
  },
  {
   "cell_type": "markdown",
   "id": "212d9338",
   "metadata": {},
   "source": [
    "<font size=\"3\">**Selma, AL: 0100 UTC 31 March 2022-0100 UTC 1 April 2022</font>"
   ]
  },
  {
   "cell_type": "code",
   "execution_count": 166,
   "id": "29daa755",
   "metadata": {},
   "outputs": [
    {
     "name": "stdout",
     "output_type": "stream",
     "text": [
      "[9.36649, 8.72739, 8.35641, 7.92136, 7.58826, 6.95511, 7.50272, 9.74561, 10.9067, 12.0758, 13.2501, 13.9507, 15.0815, 15.9648, 16.6324, 16.7466, 16.4627, 16.0178, 14.7431, 13.2198, 12.4069, 11.4156, 10.8753, 10.2173, 9.43677]\n",
      "25\n",
      "[11.0, 9.8, 8.3, 7.3, 6.0, 5.5, 4.9, 7.9, 10.3, 12.1, 13.4, 14.5, 15.8, 16.8, 17.8, 18.5, 18.9, 18.9, 17.1, 12.8, 10.4, 9.2, 8.3, 7.7, 7.0]\n",
      "25\n",
      "[-1.6335099999999994, -1.072610000000001, 0.05640999999999963, 0.6213600000000001, 1.58826, 1.4551100000000003, 2.6027199999999997, 1.8456099999999989, 0.6067, -0.024200000000000443, -0.1499000000000006, -0.5493000000000006, -0.7185000000000006, -0.8352000000000004, -1.1676000000000002, -1.7533999999999992, -2.437299999999997, -2.8821999999999974, -2.3569000000000013, 0.4197999999999986, 2.0069, 2.2156000000000002, 2.5752999999999986, 2.5172999999999996, 2.436769999999999]\n"
     ]
    }
   ],
   "source": [
    "#12 hr hrrr:\n",
    "with open('hrrr_f12_Selma_AL.txt') as f:\n",
    "    lst=[line.split()[1] for line in f]\n",
    "    temp=[]\n",
    "    for i in lst:\n",
    "        new=i.replace(',',\"\")\n",
    "        temp.append(new)\n",
    "    temp.pop(0)\n",
    "    temp=[float(x) for x in temp]\n",
    "    temp=temp[2586:2611]\n",
    "    \n",
    "#Air Temp CRN:\n",
    "with open('CRNH0203-2022-AL_Selma_13_WNW.txt') as f:\n",
    "    lst=[line.split()[9] for line in f]\n",
    "    #print(lst)\n",
    "    temp_crn=[]\n",
    "    for i in lst:\n",
    "        new=i.replace(',',\"\")\n",
    "        temp_crn.append(new)\n",
    "    temp_crn=[float(x) for x in temp_crn]\n",
    "    temp_crn=temp_crn[2597:2622]\n",
    "\n",
    "    print(temp)\n",
    "    print(len(temp))\n",
    "    print(temp_crn)\n",
    "    print(len(temp_crn))\n",
    "#full time period is [2015:2112]\n",
    "difference5_sel = []\n",
    "\n",
    "zip_object = zip(temp, temp_crn)\n",
    "for temp_i, temp_crn_i in zip_object:\n",
    "    difference5_sel.append(temp_i-temp_crn_i)\n",
    "\n",
    "print(difference5_sel)\n",
    "#print(len(difference3_sel))"
   ]
  },
  {
   "cell_type": "markdown",
   "id": "7bcfd5e4",
   "metadata": {},
   "source": [
    "<font size=\"3\">Bowling Green, KY: 0100 UTC 31 March 2022-0100 UTC 1 April 2022</font>"
   ]
  },
  {
   "cell_type": "code",
   "execution_count": 167,
   "id": "c427d4c6",
   "metadata": {},
   "outputs": [
    {
     "name": "stdout",
     "output_type": "stream",
     "text": [
      "[2.05399, 1.78989, 1.66891, 0.921356, 0.275757, -0.232391, 0.627716, 2.24561, 3.78171, 5.70078, 7.43759, 8.88818, 10.4565, 11.7148, 12.6949, 13.0591, 13.0877, 12.5178, 11.0556, 8.90732, 7.71939, 6.97812, 6.31277, 5.65482, 5.81177]\n"
     ]
    }
   ],
   "source": [
    "#12 hr hrrr:\n",
    "with open('hrrr_f12_Bowling Green_KY.txt') as f:\n",
    "    lst=[line.split()[1] for line in f]\n",
    "    temp=[]\n",
    "    for i in lst:\n",
    "        new=i.replace(',',\"\")\n",
    "        temp.append(new)\n",
    "    temp.pop(0)\n",
    "    temp=[float(x) for x in temp]\n",
    "    temp=temp[2586:2611]\n",
    "#     x = np.array(temp)\n",
    "#     temp= ma.masked_array(x, mask=[0, 0, 0, 0, 0,0,1,0,0,0,0,0,0,0,0,0,0,0,0,0,0,0,0,0,0])\n",
    "    #temp=temp[2015:2063]\n",
    "    print(temp)\n",
    "    #print(len(temp))\n",
    "#full time period is [2015:2112]"
   ]
  },
  {
   "cell_type": "code",
   "execution_count": 168,
   "id": "37ed7b5f",
   "metadata": {},
   "outputs": [
    {
     "name": "stdout",
     "output_type": "stream",
     "text": [
      "[2.9, 2.2, 1.6, 1.3, 0.3, -0.5, -0.4, 2.5, 4.3, 6.1, 7.9, 9.2, 10.8, 12.0, 12.6, 13.0, 13.1, 12.6, 11.1, 9.7, 7.8, 7.5, 7.0, 6.7, 6.1]\n"
     ]
    }
   ],
   "source": [
    "#Air Temp CRN:\n",
    "with open('CRNH0203-2022-KY_Bowling_Green_21_NNE.txt') as f:\n",
    "    lst=[line.split()[9] for line in f]\n",
    "    #print(lst)\n",
    "    temp_crn=[]\n",
    "    for i in lst:\n",
    "        new=i.replace(',',\"\")\n",
    "        temp_crn.append(new)\n",
    "    temp_crn=[float(x) for x in temp_crn]\n",
    "    temp_crn=temp_crn[2597:2622]\n",
    "#     y = np.array(temp_crn)\n",
    "#     temp_crn = ma.masked_array(y, mask=[0, 0, 0, 0, 0,0,1,0,0,0,0,0,0,0,0,0,0,0,0,0,0,0,0,0,0])\n",
    "    print(temp_crn)\n",
    "    #print(len(temp_crn))\n",
    "    # print(temp_crn[2124])"
   ]
  },
  {
   "cell_type": "code",
   "execution_count": 169,
   "id": "2cba62f4",
   "metadata": {},
   "outputs": [
    {
     "name": "stdout",
     "output_type": "stream",
     "text": [
      "[-0.8460099999999997, -0.4101100000000002, 0.0689099999999998, -0.3786440000000001, -0.024243000000000015, 0.267609, 1.027716, -0.2543899999999999, -0.5182899999999999, -0.3992199999999997, -0.4624100000000002, -0.3118199999999991, -0.3435000000000006, -0.2851999999999997, 0.09490000000000087, 0.05910000000000082, -0.012299999999999756, -0.08220000000000027, -0.04439999999999955, -0.7926799999999989, -0.08061000000000007, -0.5218800000000003, -0.6872299999999996, -1.0451800000000002, -0.28822999999999954]\n"
     ]
    }
   ],
   "source": [
    "difference5_bow = []\n",
    "\n",
    "zip_object = zip(temp, temp_crn)\n",
    "for temp_i, temp_crn_i in zip_object:\n",
    "    difference5_bow.append(temp_i-temp_crn_i)\n",
    "\n",
    "print(difference5_bow)"
   ]
  },
  {
   "cell_type": "markdown",
   "id": "abd98938",
   "metadata": {},
   "source": [
    "<font size=\"3\">Gadsden, AL: 0200 UTC 31 March 2022-0200 UTC 1 April 2022</font>"
   ]
  },
  {
   "cell_type": "code",
   "execution_count": 170,
   "id": "c7bdb2f1",
   "metadata": {},
   "outputs": [
    {
     "name": "stdout",
     "output_type": "stream",
     "text": [
      "[5.86649, 5.41489, 5.16891, 5.10886, 4.46326, 3.89261, 4.44022, 5.87061, 7.21921, 9.01328, 10.8751, 12.1382, 13.769, 14.9648, 15.7574, 16.0591, 15.9002, 15.4553, 13.7431, 11.9073, 10.8444, 9.91562, 9.31277, 9.09232, 8.24927]\n",
      "25\n"
     ]
    }
   ],
   "source": [
    "#12 hr hrrr:\n",
    "with open('hrrr_f12_Gadsden_AL.txt') as f:\n",
    "    lst=[line.split()[1] for line in f]\n",
    "    temp=[]\n",
    "    for i in lst:\n",
    "        new=i.replace(',',\"\")\n",
    "        temp.append(new)\n",
    "    temp.pop(0)\n",
    "    temp=[float(x) for x in temp]\n",
    "    temp=temp[2586:2611]\n",
    "    #temp=temp[2015:2063]\n",
    "    print(temp)\n",
    "    print(len(temp))\n",
    "#full time period is [2015:2112]"
   ]
  },
  {
   "cell_type": "code",
   "execution_count": 171,
   "id": "e125a18e",
   "metadata": {},
   "outputs": [
    {
     "name": "stdout",
     "output_type": "stream",
     "text": [
      "[6.5, 5.3, 4.8, 4.9, 5.3, 4.7, 4.4, 5.9, 7.0, 7.9, 9.0, 10.3, 11.4, 12.6, 13.6, 14.1, 14.4, 14.5, 13.8, 9.8, 7.8, 7.0, 6.1, 5.2, 5.0]\n"
     ]
    }
   ],
   "source": [
    "#Air Temp CRN:\n",
    "with open('CRNH0203-2022-AL_Gadsden_19_N.txt') as f:\n",
    "    lst=[line.split()[9] for line in f]\n",
    "    #print(lst)\n",
    "    temp_crn=[]\n",
    "    for i in lst:\n",
    "        new=i.replace(',',\"\")\n",
    "        temp_crn.append(new)\n",
    "    temp_crn=[float(x) for x in temp_crn]\n",
    "    temp_crn=temp_crn[2597:2622]\n",
    "    print(temp_crn)\n",
    "    #print(len(temp_crn))\n",
    "    # print(temp_crn[2124])"
   ]
  },
  {
   "cell_type": "code",
   "execution_count": 172,
   "id": "fb16aab7",
   "metadata": {},
   "outputs": [
    {
     "name": "stdout",
     "output_type": "stream",
     "text": [
      "[-0.6335100000000002, 0.11488999999999994, 0.3689100000000005, 0.2088599999999996, -0.8367399999999998, -0.8073900000000003, 0.0402199999999997, -0.02939000000000025, 0.21921000000000035, 1.1132799999999996, 1.8750999999999998, 1.8381999999999987, 2.3689999999999998, 2.3648000000000007, 2.157400000000001, 1.9591000000000012, 1.5001999999999995, 0.9552999999999994, -0.05690000000000062, 2.1072999999999986, 3.0444000000000004, 2.9156200000000005, 3.212770000000001, 3.8923200000000007, 3.249269999999999]\n"
     ]
    }
   ],
   "source": [
    "difference5_gad = []\n",
    "\n",
    "zip_object = zip(temp, temp_crn)\n",
    "for temp_i, temp_crn_i in zip_object:\n",
    "    difference5_gad.append(temp_i-temp_crn_i)\n",
    "\n",
    "print(difference5_gad)"
   ]
  },
  {
   "cell_type": "markdown",
   "id": "c1c822e9",
   "metadata": {},
   "source": [
    "<font size=\"3\">Newton, GA: 0700 UTC 31 March 2022-0700 UTC 1 April 2022</font>"
   ]
  },
  {
   "cell_type": "code",
   "execution_count": 173,
   "id": "cd744987",
   "metadata": {},
   "outputs": [
    {
     "name": "stdout",
     "output_type": "stream",
     "text": [
      "[12.4915, 11.6024, 11.1064, 10.8589, 10.0258, 9.83011, 10.3777, 11.9331, 13.4067, 14.9508, 16.7501, 17.8257, 19.269, 20.2773, 21.2574, 21.5591, 21.4627, 20.7053, 18.3681, 16.1573, 14.5944, 13.3531, 12.3753, 11.5298, 10.7493]\n",
      "25\n"
     ]
    }
   ],
   "source": [
    "#12 hr hrrr:\n",
    "with open('hrrr_f12_Newton_GA.txt') as f:\n",
    "    lst=[line.split()[1] for line in f]\n",
    "    temp=[]\n",
    "    for i in lst:\n",
    "        new=i.replace(',',\"\")\n",
    "        temp.append(new)\n",
    "    temp.pop(0)\n",
    "    temp=[float(x) for x in temp]\n",
    "    temp=temp[2586:2611]\n",
    "    #temp=temp[2015:2063]\n",
    "    print(temp)\n",
    "    print(len(temp))\n",
    "#full time period is [2015:2112]"
   ]
  },
  {
   "cell_type": "code",
   "execution_count": 174,
   "id": "1800925f",
   "metadata": {},
   "outputs": [
    {
     "name": "stdout",
     "output_type": "stream",
     "text": [
      "[14.0, 13.0, 10.9, 10.0, 10.7, 10.4, 9.7, 10.8, 12.3, 13.5, 14.7, 15.8, 17.1, 18.2, 19.1, 19.7, 19.8, 19.6, 18.1, 14.2, 11.9, 10.4, 9.3, 8.6, 7.9]\n"
     ]
    }
   ],
   "source": [
    "#Air Temp CRN:\n",
    "with open('CRNH0203-2022-GA_Newton_11_SW.txt') as f:\n",
    "    lst=[line.split()[9] for line in f]\n",
    "    #print(lst)\n",
    "    temp_crn=[]\n",
    "    for i in lst:\n",
    "        new=i.replace(',',\"\")\n",
    "        temp_crn.append(new)\n",
    "    temp_crn=[float(x) for x in temp_crn]\n",
    "    temp_crn=temp_crn[2597:2622]\n",
    "    print(temp_crn)\n",
    "    #print(len(temp_crn))\n",
    "    # print(temp_crn[2124])"
   ]
  },
  {
   "cell_type": "code",
   "execution_count": 175,
   "id": "640b8268",
   "metadata": {},
   "outputs": [
    {
     "name": "stdout",
     "output_type": "stream",
     "text": [
      "[-1.5084999999999997, -1.3976000000000006, 0.20640000000000036, 0.8589000000000002, -0.674199999999999, -0.5698900000000009, 0.6777000000000015, 1.1330999999999989, 1.1067, 1.4507999999999992, 2.0501000000000005, 2.0257000000000005, 2.168999999999997, 2.077300000000001, 2.157399999999999, 1.8591000000000015, 1.662700000000001, 1.1052999999999997, 0.2680999999999969, 1.9573, 2.6944, 2.953099999999999, 3.0752999999999986, 2.9298, 2.8492999999999995]\n"
     ]
    }
   ],
   "source": [
    "difference5_newt = []\n",
    "\n",
    "zip_object = zip(temp, temp_crn)\n",
    "for temp_i, temp_crn_i in zip_object:\n",
    "    difference5_newt.append(temp_i-temp_crn_i)\n",
    "\n",
    "print(difference5_newt)"
   ]
  },
  {
   "cell_type": "markdown",
   "id": "2e32f616",
   "metadata": {},
   "source": [
    "<font size=\"3\">Salem, MO: 0500 UTC (12:00 am CDT) 27 April 2022-0500 UTC (12:00 am CDT) 28 April 2022</font>"
   ]
  },
  {
   "cell_type": "code",
   "execution_count": 176,
   "id": "669e698e",
   "metadata": {},
   "outputs": [
    {
     "name": "stdout",
     "output_type": "stream",
     "text": [
      "[6.47504, 5.96304, 5.53989, 5.31937, 5.06778, 5.84653, 6.74295, 9.67706, 12.4704, 14.6949, 16.1557, 18.0567, 19.5642, 20.692, 21.2332, 21.3312, 21.1172, 19.9096, 18.0277, 15.3484, 13.9263, 12.8175, 12.0015, 11.4908, 10.894]\n",
      "25\n"
     ]
    }
   ],
   "source": [
    "#12 hr hrrr:\n",
    "with open('hrrr_f12_Salem_MO.txt') as f:\n",
    "    lst=[line.split()[1] for line in f]\n",
    "    temp=[]\n",
    "    for i in lst:\n",
    "        new=i.replace(',',\"\")\n",
    "        temp.append(new)\n",
    "    temp.pop(0)\n",
    "    temp=[float(x) for x in temp]\n",
    "    temp=temp[2778:2803]\n",
    "    #temp=temp[2015:2063]\n",
    "    print(temp)\n",
    "    print(len(temp))\n",
    "#full time period is [2015:2112]"
   ]
  },
  {
   "cell_type": "code",
   "execution_count": 177,
   "id": "bcb9ddef",
   "metadata": {},
   "outputs": [
    {
     "name": "stdout",
     "output_type": "stream",
     "text": [
      "[2.4, 2.4, 4.1, 3.6, 2.1, 1.5, 1.5, 6.9, 11.9, 15.4, 17.9, 19.5, 20.3, 21.3, 22.1, 22.5, 22.4, 22.1, 20.5, 18.9, 17.7, 16.6, 15.4, 14.7, 14.7]\n"
     ]
    }
   ],
   "source": [
    "#Air Temp CRN:\n",
    "with open('CRNH0203-2022-MO_Salem_10_W.txt') as f:\n",
    "    lst=[line.split()[9] for line in f]\n",
    "    #print(lst)\n",
    "    temp_crn=[]\n",
    "    for i in lst:\n",
    "        new=i.replace(',',\"\")\n",
    "        temp_crn.append(new)\n",
    "    temp_crn=[float(x) for x in temp_crn]\n",
    "    temp_crn=temp_crn[2789:2814]\n",
    "    print(temp_crn)\n",
    "    #print(len(temp_crn))\n",
    "    # print(temp_crn[2124])"
   ]
  },
  {
   "cell_type": "code",
   "execution_count": 178,
   "id": "0d08f9b2",
   "metadata": {},
   "outputs": [],
   "source": [
    "# hour=[]\n",
    "# for i in range(-12,13,1):\n",
    "#     hour.append(i)\n",
    "#     i+=1\n",
    "# print(len(hour))"
   ]
  },
  {
   "cell_type": "code",
   "execution_count": 179,
   "id": "8141184a",
   "metadata": {},
   "outputs": [
    {
     "name": "stdout",
     "output_type": "stream",
     "text": [
      "[4.0750399999999996, 3.5630400000000004, 1.4398900000000001, 1.71937, 2.96778, 4.34653, 5.24295, 2.7770600000000005, 0.5703999999999994, -0.7050999999999998, -1.744299999999999, -1.4433000000000007, -0.7358000000000011, -0.6080000000000005, -0.8668000000000013, -1.168800000000001, -1.2827999999999982, -2.1904000000000003, -2.4723000000000006, -3.5515999999999988, -3.7737, -3.7825000000000006, -3.3985000000000003, -3.209199999999999, -3.805999999999999]\n"
     ]
    }
   ],
   "source": [
    "difference6_sal = []\n",
    "\n",
    "zip_object = zip(temp, temp_crn)\n",
    "for temp_i, temp_crn_i in zip_object:\n",
    "    difference6_sal.append(temp_i-temp_crn_i)\n",
    "\n",
    "print(difference6_sal)"
   ]
  },
  {
   "cell_type": "markdown",
   "id": "0f9e062e",
   "metadata": {},
   "source": [
    "<font size=\"3\">Batesville, AR: 1300 UTC 30 March 2022-1300 UTC 31 March 2022</font>"
   ]
  },
  {
   "cell_type": "code",
   "execution_count": 180,
   "id": "fae676a3",
   "metadata": {},
   "outputs": [
    {
     "name": "stdout",
     "output_type": "stream",
     "text": [
      "[9.22504, 8.71304, 8.41489, 8.19437, 7.88028, 7.72153, 8.24295, 10.8021, 13.8454, 15.2574, 16.3432, 17.8067, 18.9392, 19.8795, 20.6082, 21.1437, 21.2422, 20.7846, 18.9027, 15.8484, 14.4888, 13.9425, 13.564, 13.1783, 12.394]\n",
      "25\n"
     ]
    }
   ],
   "source": [
    "#12 hr hrrr:\n",
    "with open('hrrr_f12_Batesville_AR.txt') as f:\n",
    "    lst=[line.split()[1] for line in f]\n",
    "    temp=[]\n",
    "    for i in lst:\n",
    "        new=i.replace(',',\"\")\n",
    "        temp.append(new)\n",
    "    temp.pop(0)\n",
    "    temp=[float(x) for x in temp]\n",
    "    temp=temp[2778:2803]\n",
    "    #temp=temp[2015:2063]\n",
    "    print(temp)\n",
    "    print(len(temp))\n",
    "#full time period is [2015:2112]"
   ]
  },
  {
   "cell_type": "code",
   "execution_count": 181,
   "id": "d17c8bd2",
   "metadata": {},
   "outputs": [
    {
     "name": "stdout",
     "output_type": "stream",
     "text": [
      "[5.0, 3.7, 3.4, 2.9, 2.4, 2.2, 2.2, 4.1, 8.4, 13.4, 15.5, 17.3, 18.7, 19.7, 20.4, 20.7, 20.5, 20.1, 18.3, 15.3, 11.9, 9.4, 8.9, 8.0, 8.0]\n"
     ]
    }
   ],
   "source": [
    "#Air Temp CRN:\n",
    "with open('CRNH0203-2022-AR_Batesville_8_WNW.txt') as f:\n",
    "    lst=[line.split()[9] for line in f]\n",
    "    #print(lst)\n",
    "    temp_crn=[]\n",
    "    for i in lst:\n",
    "        new=i.replace(',',\"\")\n",
    "        temp_crn.append(new)\n",
    "    temp_crn=[float(x) for x in temp_crn]\n",
    "    temp_crn=temp_crn[2789:2814]\n",
    "    print(temp_crn)\n",
    "    #print(len(temp_crn))\n",
    "    # print(temp_crn[2124])"
   ]
  },
  {
   "cell_type": "code",
   "execution_count": 182,
   "id": "e5df5512",
   "metadata": {},
   "outputs": [
    {
     "name": "stdout",
     "output_type": "stream",
     "text": [
      "[4.22504, 5.013039999999999, 5.014889999999999, 5.294369999999999, 5.4802800000000005, 5.521529999999999, 6.04295, 6.7021, 5.445399999999999, 1.8574000000000002, 0.8431999999999995, 0.5066999999999986, 0.2392000000000003, 0.17950000000000088, 0.2082000000000015, 0.44369999999999976, 0.7422000000000004, 0.6845999999999997, 0.6026999999999987, 0.5483999999999991, 2.588799999999999, 4.5425, 4.664, 5.1783, 4.394]\n"
     ]
    }
   ],
   "source": [
    "difference6_bat = []\n",
    "\n",
    "zip_object = zip(temp, temp_crn)\n",
    "for temp_i, temp_crn_i in zip_object:\n",
    "    difference6_bat.append(temp_i-temp_crn_i)\n",
    "\n",
    "print(difference6_bat)"
   ]
  },
  {
   "cell_type": "markdown",
   "id": "f0f6c8a6",
   "metadata": {},
   "source": [
    "<font size=\"3\">Lafayette, LA: 1700 UTC 30 March 2022-1700 UTC 31 March 2022</font>"
   ]
  },
  {
   "cell_type": "code",
   "execution_count": 183,
   "id": "73ac19df",
   "metadata": {},
   "outputs": [
    {
     "name": "stdout",
     "output_type": "stream",
     "text": [
      "[17.35, 16.7755, 16.1024, 15.3194, 14.6928, 14.159, 13.993, 15.9271, 18.6579, 21.1324, 23.5932, 24.9942, 26.2517, 27.192, 27.9832, 28.3312, 28.0547, 27.4721, 26.2777, 23.2859, 21.3638, 19.255, 17.8765, 16.8658, 15.8315]\n",
      "25\n"
     ]
    }
   ],
   "source": [
    "#12 hr hrrr:\n",
    "with open('hrrr_f12_Lafayette_LA.txt') as f:\n",
    "    lst=[line.split()[1] for line in f]\n",
    "    temp=[]\n",
    "    for i in lst:\n",
    "        new=i.replace(',',\"\")\n",
    "        temp.append(new)\n",
    "    temp.pop(0)\n",
    "    temp=[float(x) for x in temp]\n",
    "    temp=temp[2778:2803]\n",
    "    #temp=temp[2015:2063]\n",
    "    print(temp)\n",
    "    print(len(temp))\n",
    "#full time period is [2015:2112]"
   ]
  },
  {
   "cell_type": "code",
   "execution_count": 184,
   "id": "e3847d94",
   "metadata": {},
   "outputs": [
    {
     "name": "stdout",
     "output_type": "stream",
     "text": [
      "[15.6, 14.7, 13.8, 13.8, 13.2, 12.2, 11.5, 12.9, 15.5, 18.0, 20.3, 22.1, 23.2, 24.1, 24.9, 25.2, 25.4, 25.2, 24.0, 20.7, 17.1, 15.0, 14.0, 13.1, 12.6]\n"
     ]
    }
   ],
   "source": [
    "#Air Temp CRN:\n",
    "with open('CRNH0203-2022-LA_Lafayette_13_SE.txt') as f:\n",
    "    lst=[line.split()[9] for line in f]\n",
    "    #print(lst)\n",
    "    temp_crn=[]\n",
    "    for i in lst:\n",
    "        new=i.replace(',',\"\")\n",
    "        temp_crn.append(new)\n",
    "    temp_crn=[float(x) for x in temp_crn]\n",
    "    temp_crn=temp_crn[2789:2814]\n",
    "    print(temp_crn)\n",
    "    #print(len(temp_crn))\n",
    "    # print(temp_crn[2124])"
   ]
  },
  {
   "cell_type": "code",
   "execution_count": 185,
   "id": "2fdaf1f0",
   "metadata": {},
   "outputs": [
    {
     "name": "stdout",
     "output_type": "stream",
     "text": [
      "[1.7500000000000018, 2.0755000000000017, 2.3023999999999987, 1.5193999999999992, 1.4928000000000008, 1.9590000000000014, 2.4930000000000003, 3.027099999999999, 3.1579000000000015, 3.1324000000000005, 3.293199999999999, 2.894199999999998, 3.0517000000000003, 3.0919999999999987, 3.0832000000000015, 3.1311999999999998, 2.654700000000002, 2.272100000000002, 2.2776999999999994, 2.5859000000000023, 4.2638, 4.254999999999999, 3.8765, 3.7658000000000005, 3.2315000000000005]\n"
     ]
    }
   ],
   "source": [
    "difference6_laf = []\n",
    "\n",
    "zip_object = zip(temp, temp_crn)\n",
    "for temp_i, temp_crn_i in zip_object:\n",
    "    difference6_laf.append(temp_i-temp_crn_i)\n",
    "\n",
    "print(difference6_laf)"
   ]
  },
  {
   "cell_type": "markdown",
   "id": "538f418c",
   "metadata": {},
   "source": [
    "<font size=\"3\">Monroe, LA: 1700 UTC 30 March 2022-1700 UTC 31 March 2022</font>"
   ]
  },
  {
   "cell_type": "code",
   "execution_count": 186,
   "id": "96b7ca4e",
   "metadata": {},
   "outputs": [
    {
     "name": "stdout",
     "output_type": "stream",
     "text": [
      "[11.1, 10.588, 9.66489, 9.13187, 8.69278, 8.28403, 8.05545, 10.9896, 13.4704, 15.3199, 17.1557, 18.8692, 20.6892, 22.317, 23.2332, 24.0187, 23.9922, 23.6596, 22.2777, 19.2859, 17.1138, 15.63, 14.439, 14.0533, 13.2065]\n",
      "25\n"
     ]
    }
   ],
   "source": [
    "#12 hr hrrr:\n",
    "with open('hrrr_f12_Monroe_LA.txt') as f:\n",
    "    lst=[line.split()[1] for line in f]\n",
    "    temp=[]\n",
    "    for i in lst:\n",
    "        new=i.replace(',',\"\")\n",
    "        temp.append(new)\n",
    "    temp.pop(0)\n",
    "    temp=[float(x) for x in temp]\n",
    "    temp=temp[2778:2803]\n",
    "    #temp=temp[2015:2063]\n",
    "    print(temp)\n",
    "    print(len(temp))\n",
    "#full time period is [2015:2112]"
   ]
  },
  {
   "cell_type": "code",
   "execution_count": 187,
   "id": "223aa6b3",
   "metadata": {},
   "outputs": [
    {
     "name": "stdout",
     "output_type": "stream",
     "text": [
      "[13.4, 12.8, 12.2, 11.5, 10.5, 8.2, 7.3, 9.9, 13.3, 15.3, 17.3, 18.7, 19.9, 21.2, 22.0, 22.7, 23.0, 22.6, 21.3, 17.0, 12.5, 10.4, 9.2, 8.4, 7.8]\n"
     ]
    }
   ],
   "source": [
    "#Air Temp CRN:\n",
    "with open('CRNH0203-2022-LA_Monroe_26_N.txt') as f:\n",
    "    lst=[line.split()[9] for line in f]\n",
    "    #print(lst)\n",
    "    temp_crn=[]\n",
    "    for i in lst:\n",
    "        new=i.replace(',',\"\")\n",
    "        temp_crn.append(new)\n",
    "    temp_crn=[float(x) for x in temp_crn]\n",
    "    temp_crn=temp_crn[2789:2814]\n",
    "    print(temp_crn)\n",
    "    #print(len(temp_crn))\n",
    "    # print(temp_crn[2124])"
   ]
  },
  {
   "cell_type": "code",
   "execution_count": 188,
   "id": "a8ecb8c0",
   "metadata": {},
   "outputs": [
    {
     "name": "stdout",
     "output_type": "stream",
     "text": [
      "[-2.3000000000000007, -2.2120000000000015, -2.5351099999999995, -2.3681300000000007, -1.8072199999999992, 0.08403000000000027, 0.7554500000000006, 1.089599999999999, 0.170399999999999, 0.019899999999999807, -0.1443000000000012, 0.16920000000000002, 0.789200000000001, 1.1170000000000009, 1.2332, 1.3186999999999998, 0.9922000000000004, 1.0595999999999997, 0.9776999999999987, 2.2859000000000016, 4.613800000000001, 5.23, 5.239000000000001, 5.6533, 5.4065]\n"
     ]
    }
   ],
   "source": [
    "difference6_mon = []\n",
    "\n",
    "zip_object = zip(temp, temp_crn)\n",
    "for temp_i, temp_crn_i in zip_object:\n",
    "    difference6_mon.append(temp_i-temp_crn_i)\n",
    "\n",
    "print(difference6_mon)"
   ]
  },
  {
   "cell_type": "markdown",
   "id": "3438b2f5",
   "metadata": {},
   "source": [
    "<font size=\"3\">Holly Springs, MS: 2000 UTC 30 March 2022-2000 UTC 31 March 2022</font>"
   ]
  },
  {
   "cell_type": "code",
   "execution_count": 189,
   "id": "46abe4b4",
   "metadata": {},
   "outputs": [
    {
     "name": "stdout",
     "output_type": "stream",
     "text": [
      "[7.22504, 6.77554, 6.35239, 6.06937, 5.63028, 5.47153, 6.11795, 9.86456, 12.5329, 14.6949, 16.3432, 17.6192, 19.1267, 20.5045, 21.3582, 21.8312, 21.5547, 20.8471, 18.9027, 16.2859, 14.8638, 13.8175, 13.314, 12.8033, 12.0815]\n",
      "25\n"
     ]
    }
   ],
   "source": [
    "#12 hr hrrr:\n",
    "with open('hrrr_f12_Holly Springs_MS.txt') as f:\n",
    "    lst=[line.split()[1] for line in f]\n",
    "    temp=[]\n",
    "    for i in lst:\n",
    "        new=i.replace(',',\"\")\n",
    "        temp.append(new)\n",
    "    temp.pop(0)\n",
    "    temp=[float(x) for x in temp]\n",
    "    temp=temp[2778:2803]\n",
    "    #temp=temp[2015:2063]\n",
    "    print(temp)\n",
    "    print(len(temp))\n",
    "#full time period is [2015:2112]"
   ]
  },
  {
   "cell_type": "code",
   "execution_count": 190,
   "id": "9b9f6c92",
   "metadata": {},
   "outputs": [
    {
     "name": "stdout",
     "output_type": "stream",
     "text": [
      "[3.9, 3.2, 2.6, 2.3, 2.2, 2.0, 1.8, 4.8, 10.3, 13.8, 16.0, 18.3, 19.8, 20.9, 21.9, 22.4, 22.6, 22.3, 21.0, 15.9, 12.0, 9.9, 8.7, 8.2, 7.5]\n"
     ]
    }
   ],
   "source": [
    "#Air Temp CRN:\n",
    "with open('CRNH0203-2022-MS_Holly_Springs_4_N.txt') as f:\n",
    "    lst=[line.split()[9] for line in f]\n",
    "    #print(lst)\n",
    "    temp_crn=[]\n",
    "    for i in lst:\n",
    "        new=i.replace(',',\"\")\n",
    "        temp_crn.append(new)\n",
    "    temp_crn=[float(x) for x in temp_crn]\n",
    "    temp_crn=temp_crn[2789:2814]\n",
    "    print(temp_crn)\n",
    "    #print(len(temp_crn))\n",
    "    # print(temp_crn[2124])"
   ]
  },
  {
   "cell_type": "code",
   "execution_count": 191,
   "id": "f0e0272c",
   "metadata": {},
   "outputs": [
    {
     "name": "stdout",
     "output_type": "stream",
     "text": [
      "[3.32504, 3.57554, 3.7523899999999997, 3.7693700000000003, 3.4302799999999998, 3.4715299999999996, 4.317950000000001, 5.064560000000001, 2.232899999999999, 0.8948999999999998, 0.3431999999999995, -0.6808000000000014, -0.6733000000000011, -0.3954999999999984, -0.5417999999999985, -0.5687999999999995, -1.045300000000001, -1.4528999999999996, -2.0973000000000006, 0.38590000000000124, 2.8637999999999995, 3.9175000000000004, 4.614000000000001, 4.603300000000001, 4.5815]\n"
     ]
    }
   ],
   "source": [
    "difference6_hol = []\n",
    "\n",
    "zip_object = zip(temp, temp_crn)\n",
    "for temp_i, temp_crn_i in zip_object:\n",
    "    difference6_hol.append(temp_i-temp_crn_i)\n",
    "\n",
    "print(difference6_hol)"
   ]
  },
  {
   "cell_type": "markdown",
   "id": "076e6124",
   "metadata": {},
   "source": [
    "<font size=\"3\">Newton, MS: 2000 UTC 30 March 2022-2000 UTC 31 March 2022</font>"
   ]
  },
  {
   "cell_type": "code",
   "execution_count": 192,
   "id": "bead3030",
   "metadata": {},
   "outputs": [
    {
     "name": "stdout",
     "output_type": "stream",
     "text": [
      "[13.4125, 12.5255, 11.8524, 11.2569, 10.9428, 10.409, 10.743, 13.1146, 14.9704, 17.2574, 19.0932, 20.4942, 22.0642, 22.942, 23.7332, 24.1437, 23.9922, 23.2846, 21.5902, 18.9734, 17.3638, 16.0675, 14.814, 13.7408, 13.0815]\n",
      "25\n"
     ]
    }
   ],
   "source": [
    "#12 hr hrrr:\n",
    "with open('hrrr_f12_Newton_MS.txt') as f:\n",
    "    lst=[line.split()[1] for line in f]\n",
    "    temp=[]\n",
    "    for i in lst:\n",
    "        new=i.replace(',',\"\")\n",
    "        temp.append(new)\n",
    "    temp.pop(0)\n",
    "    temp=[float(x) for x in temp]\n",
    "    temp=temp[2778:2803]\n",
    "    #temp=temp[2015:2063]\n",
    "    print(temp)\n",
    "    print(len(temp))\n",
    "#full time period is [2015:2112]"
   ]
  },
  {
   "cell_type": "code",
   "execution_count": 193,
   "id": "03bfea99",
   "metadata": {},
   "outputs": [
    {
     "name": "stdout",
     "output_type": "stream",
     "text": [
      "[11.6, 11.3, 10.6, 9.3, 7.2, 6.5, 6.3, 9.2, 11.9, 14.2, 16.3, 18.4, 20.2, 21.2, 22.2, 22.7, 23.0, 22.7, 21.7, 16.9, 13.4, 11.3, 10.1, 9.1, 8.5]\n"
     ]
    }
   ],
   "source": [
    "#Air Temp CRN:\n",
    "with open('CRNH0203-2022-MS_Newton_5_ENE.txt') as f:\n",
    "    lst=[line.split()[9] for line in f]\n",
    "    #print(lst)\n",
    "    temp_crn=[]\n",
    "    for i in lst:\n",
    "        new=i.replace(',',\"\")\n",
    "        temp_crn.append(new)\n",
    "    temp_crn=[float(x) for x in temp_crn]\n",
    "    temp_crn=temp_crn[2789:2814]\n",
    "    print(temp_crn)\n",
    "    #print(len(temp_crn))\n",
    "    # print(temp_crn[2124])"
   ]
  },
  {
   "cell_type": "code",
   "execution_count": 194,
   "id": "4f7886f8",
   "metadata": {},
   "outputs": [
    {
     "name": "stdout",
     "output_type": "stream",
     "text": [
      "[1.8125, 1.2254999999999985, 1.2523999999999997, 1.9568999999999992, 3.7428, 3.9090000000000007, 4.4430000000000005, 3.9146, 3.0703999999999994, 3.0574000000000012, 2.793199999999999, 2.0942000000000007, 1.8642000000000003, 1.7420000000000009, 1.5332000000000008, 1.4436999999999998, 0.9922000000000004, 0.5846000000000018, -0.1097999999999999, 2.073400000000003, 3.963800000000001, 4.767499999999998, 4.714, 4.6408000000000005, 4.5815]\n"
     ]
    }
   ],
   "source": [
    "difference6_new = []\n",
    "\n",
    "zip_object = zip(temp, temp_crn)\n",
    "for temp_i, temp_crn_i in zip_object:\n",
    "    difference6_new.append(temp_i-temp_crn_i)\n",
    "\n",
    "print(difference6_new)"
   ]
  },
  {
   "cell_type": "markdown",
   "id": "4e9af6a3",
   "metadata": {},
   "source": [
    "<font size=\"3\">Gainesville, AL: 2300 UTC 30 March 2022-2300 UTC 31 March 2022</font>"
   ]
  },
  {
   "cell_type": "code",
   "execution_count": 195,
   "id": "738f0a5d",
   "metadata": {},
   "outputs": [
    {
     "name": "stdout",
     "output_type": "stream",
     "text": [
      "[12.6625, 11.588, 10.7274, 9.94437, 9.25528, 8.84653, 9.68045, 12.9271, 15.0954, 17.3199, 18.9057, 20.4317, 21.6267, 22.7545, 23.6707, 24.0812, 24.0547, 23.3471, 21.2152, 18.7234, 16.7388, 15.3175, 14.2515, 13.1783, 12.3315]\n",
      "25\n"
     ]
    }
   ],
   "source": [
    "#12 hr hrrr:\n",
    "with open('hrrr_f12_Gainesville_AL.txt') as f:\n",
    "    lst=[line.split()[1] for line in f]\n",
    "    temp=[]\n",
    "    for i in lst:\n",
    "        new=i.replace(',',\"\")\n",
    "        temp.append(new)\n",
    "    temp.pop(0)\n",
    "    temp=[float(x) for x in temp]\n",
    "    temp=temp[2778:2803]\n",
    "    #temp=temp[2015:2063]\n",
    "    print(temp)\n",
    "    print(len(temp))\n",
    "#full time period is [2015:2112]"
   ]
  },
  {
   "cell_type": "code",
   "execution_count": 196,
   "id": "b1426058",
   "metadata": {},
   "outputs": [
    {
     "name": "stdout",
     "output_type": "stream",
     "text": [
      "[13.0, 11.8, 10.8, 9.8, 8.9, 7.4, 7.5, 9.3, 11.8, 14.6, 16.9, 18.7, 20.1, 21.5, 22.6, 23.3, 23.5, 23.3, 21.9, 16.7, 13.8, 12.7, 11.8, 11.2, 10.5]\n"
     ]
    }
   ],
   "source": [
    "#Air Temp CRN:\n",
    "with open('CRNH0203-2022-AL_Gainesville_2_NE.txt') as f:\n",
    "    lst=[line.split()[9] for line in f]\n",
    "    #print(lst)\n",
    "    temp_crn=[]\n",
    "    for i in lst:\n",
    "        new=i.replace(',',\"\")\n",
    "        temp_crn.append(new)\n",
    "    temp_crn=[float(x) for x in temp_crn]\n",
    "    temp_crn=temp_crn[2789:2814]\n",
    "    print(temp_crn)\n",
    "    #print(len(temp_crn))\n",
    "    # print(temp_crn[2124])"
   ]
  },
  {
   "cell_type": "code",
   "execution_count": 197,
   "id": "e8a6f4ed",
   "metadata": {},
   "outputs": [
    {
     "name": "stdout",
     "output_type": "stream",
     "text": [
      "[-0.33750000000000036, -0.21200000000000152, -0.07260000000000133, 0.14436999999999856, 0.3552800000000005, 1.4465299999999992, 2.1804500000000004, 3.6270999999999987, 3.295399999999999, 2.719900000000001, 2.005700000000001, 1.7317, 1.5266999999999982, 1.2545000000000002, 1.0706999999999987, 0.7811999999999983, 0.5547000000000004, 0.047100000000000364, -0.6847999999999992, 2.0234000000000023, 2.9388000000000005, 2.6175000000000015, 2.4514999999999993, 1.9783000000000008, 1.8315000000000001]\n"
     ]
    }
   ],
   "source": [
    "difference6_gai = []\n",
    "\n",
    "zip_object = zip(temp, temp_crn)\n",
    "for temp_i, temp_crn_i in zip_object:\n",
    "    difference6_gai.append(temp_i-temp_crn_i)\n",
    "\n",
    "print(difference6_gai)"
   ]
  },
  {
   "cell_type": "markdown",
   "id": "b13fe7ed",
   "metadata": {},
   "source": [
    "<font size=\"3\">Fairhope, AL: 0100 UTC 31 March 2022-0100 UTC 1 April 2022</font>"
   ]
  },
  {
   "cell_type": "code",
   "execution_count": 198,
   "id": "0736cc70",
   "metadata": {},
   "outputs": [
    {
     "name": "stdout",
     "output_type": "stream",
     "text": [
      "[17.6625, 16.7755, 15.9774, 15.1944, 14.3803, 13.5965, 13.743, 15.3646, 17.4704, 19.7574, 22.3432, 23.9942, 25.1892, 25.6295, 25.9207, 26.1437, 25.5547, 24.7846, 22.7777, 20.8484, 19.3638, 18.005, 17.0015, 16.1783, 15.644]\n",
      "25\n"
     ]
    }
   ],
   "source": [
    "#12 hr hrrr:\n",
    "with open('hrrr_f12_Fairhope_AL.txt') as f:\n",
    "    lst=[line.split()[1] for line in f]\n",
    "    temp=[]\n",
    "    for i in lst:\n",
    "        new=i.replace(',',\"\")\n",
    "        temp.append(new)\n",
    "    temp.pop(0)\n",
    "    temp=[float(x) for x in temp]\n",
    "    temp=temp[2778:2803]\n",
    "    #temp=temp[2015:2063]\n",
    "    print(temp)\n",
    "    print(len(temp))\n",
    "#full time period is [2015:2112]"
   ]
  },
  {
   "cell_type": "code",
   "execution_count": 199,
   "id": "55cf288e",
   "metadata": {},
   "outputs": [
    {
     "name": "stdout",
     "output_type": "stream",
     "text": [
      "[16.0, 15.2, 14.4, 13.7, 13.3, 12.3, 11.8, 13.8, 16.0, 18.0, 20.1, 21.2, 22.2, 23.0, 24.0, 24.6, 24.8, 24.0, 22.2, 19.7, 18.3, 17.5, 15.9, 13.7, 12.4]\n"
     ]
    }
   ],
   "source": [
    "#Air Temp CRN:\n",
    "with open('CRNH0203-2022-AL_Fairhope_3_NE.txt') as f:\n",
    "    lst=[line.split()[9] for line in f]\n",
    "    #print(lst)\n",
    "    temp_crn=[]\n",
    "    for i in lst:\n",
    "        new=i.replace(',',\"\")\n",
    "        temp_crn.append(new)\n",
    "    temp_crn=[float(x) for x in temp_crn]\n",
    "    temp_crn=temp_crn[2789:2814]\n",
    "    print(temp_crn)\n",
    "    #print(len(temp_crn))\n",
    "    # print(temp_crn[2124])"
   ]
  },
  {
   "cell_type": "code",
   "execution_count": 200,
   "id": "287a85ae",
   "metadata": {},
   "outputs": [
    {
     "name": "stdout",
     "output_type": "stream",
     "text": [
      "[1.6625000000000014, 1.5755000000000017, 1.577399999999999, 1.4944000000000006, 1.0802999999999994, 1.2965, 1.9429999999999996, 1.5645999999999987, 1.4704000000000015, 1.7574000000000005, 2.243199999999998, 2.7942, 2.9892000000000003, 2.6295, 1.9207, 1.5436999999999976, 0.7546999999999997, 0.7846000000000011, 0.5777000000000001, 1.1484000000000023, 1.0638000000000005, 0.504999999999999, 1.1014999999999997, 2.478300000000001, 3.2439999999999998]\n"
     ]
    }
   ],
   "source": [
    "difference6_fai = []\n",
    "\n",
    "zip_object = zip(temp, temp_crn)\n",
    "for temp_i, temp_crn_i in zip_object:\n",
    "    difference6_fai.append(temp_i-temp_crn_i)\n",
    "\n",
    "print(difference6_fai)"
   ]
  },
  {
   "cell_type": "markdown",
   "id": "ac6cc4ff",
   "metadata": {},
   "source": [
    "<font size=\"3\">**Selma, AL: 0100 UTC 31 March 2022-0100 UTC 1 April 2022</font>"
   ]
  },
  {
   "cell_type": "code",
   "execution_count": 201,
   "id": "3199c7e8",
   "metadata": {},
   "outputs": [
    {
     "name": "stdout",
     "output_type": "stream",
     "text": [
      "[11.975, 11.2755, 10.6024, 10.0069, 9.25528, 8.59653, 9.49295, 11.9896, 14.2829, 16.4449, 18.5307, 20.1192, 21.6892, 23.0045, 23.6707, 24.0812, 24.0547, 23.2221, 21.1527, 18.4734, 16.3638, 15.005, 14.1265, 13.2408, 12.8315]\n",
      "25\n",
      "[10.4, 9.8, 9.2, 9.0, 8.4, 6.9, 6.6, 9.8, 12.1, 14.8, 17.2, 18.9, 20.7, 22.1, 23.5, 23.9, 24.1, 23.9, 22.2, 16.5, 13.1, 11.7, 10.6, 9.5, 8.8]\n",
      "25\n",
      "[1.5749999999999993, 1.4754999999999985, 1.4024, 1.0069, 0.8552800000000005, 1.6965299999999992, 2.892950000000001, 2.1895999999999987, 2.1829, 1.6448999999999998, 1.3307000000000002, 1.2192000000000007, 0.9892000000000003, 0.9044999999999987, 0.17070000000000007, 0.18120000000000047, -0.045300000000001006, -0.6778999999999975, -1.0473, 1.9734000000000016, 3.2638000000000016, 3.3050000000000015, 3.5265000000000004, 3.7408, 4.031499999999999]\n"
     ]
    }
   ],
   "source": [
    "#12 hr hrrr:\n",
    "with open('hrrr_f12_Selma_AL.txt') as f:\n",
    "    lst=[line.split()[1] for line in f]\n",
    "    temp=[]\n",
    "    for i in lst:\n",
    "        new=i.replace(',',\"\")\n",
    "        temp.append(new)\n",
    "    temp.pop(0)\n",
    "    temp=[float(x) for x in temp]\n",
    "    temp=temp[2778:2803]\n",
    "    \n",
    "#Air Temp CRN:\n",
    "with open('CRNH0203-2022-AL_Selma_13_WNW.txt') as f:\n",
    "    lst=[line.split()[9] for line in f]\n",
    "    #print(lst)\n",
    "    temp_crn=[]\n",
    "    for i in lst:\n",
    "        new=i.replace(',',\"\")\n",
    "        temp_crn.append(new)\n",
    "    temp_crn=[float(x) for x in temp_crn]\n",
    "    temp_crn=temp_crn[2789:2814]\n",
    "\n",
    "    print(temp)\n",
    "    print(len(temp))\n",
    "    print(temp_crn)\n",
    "    print(len(temp_crn))\n",
    "#full time period is [2015:2112]\n",
    "difference6_sel = []\n",
    "\n",
    "zip_object = zip(temp, temp_crn)\n",
    "for temp_i, temp_crn_i in zip_object:\n",
    "    difference6_sel.append(temp_i-temp_crn_i)\n",
    "\n",
    "print(difference6_sel)\n",
    "#print(len(difference3_sel))"
   ]
  },
  {
   "cell_type": "markdown",
   "id": "e53de0f0",
   "metadata": {},
   "source": [
    "<font size=\"3\">Bowling Green, KY: 0100 UTC 31 March 2022-0100 UTC 1 April 2022</font>"
   ]
  },
  {
   "cell_type": "code",
   "execution_count": 202,
   "id": "04636ad1",
   "metadata": {},
   "outputs": [
    {
     "name": "stdout",
     "output_type": "stream",
     "text": [
      "[6.97504, 6.46304, 5.97739, 5.75687, 5.88028, 5.34653, 6.86795, 10.3646, 12.6579, 14.5699, 16.5307, 18.1192, 19.4392, 20.1295, 20.7957, 21.1437, 20.7422, 20.0346, 18.4027, 15.5984, 14.4263, 13.3175, 12.814, 12.1783, 12.019]\n"
     ]
    }
   ],
   "source": [
    "#12 hr hrrr:\n",
    "with open('hrrr_f12_Bowling Green_KY.txt') as f:\n",
    "    lst=[line.split()[1] for line in f]\n",
    "    temp=[]\n",
    "    for i in lst:\n",
    "        new=i.replace(',',\"\")\n",
    "        temp.append(new)\n",
    "    temp.pop(0)\n",
    "    temp=[float(x) for x in temp]\n",
    "    temp=temp[2778:2803]\n",
    "#     x = np.array(temp)\n",
    "#     temp= ma.masked_array(x, mask=[0, 0, 0, 0, 0,0,1,0,0,0,0,0,0,0,0,0,0,0,0,0,0,0,0,0,0])\n",
    "    #temp=temp[2015:2063]\n",
    "    print(temp)\n",
    "    #print(len(temp))\n",
    "#full time period is [2015:2112]"
   ]
  },
  {
   "cell_type": "code",
   "execution_count": 203,
   "id": "3f5d5577",
   "metadata": {},
   "outputs": [
    {
     "name": "stdout",
     "output_type": "stream",
     "text": [
      "[6.0, 5.3, 4.7, 5.0, 4.6, 4.0, 4.6, 8.4, 11.6, 13.7, 15.1, 17.0, 17.8, 19.2, 20.1, 20.4, 20.5, 20.1, 18.4, 16.1, 14.2, 13.4, 13.0, 12.5, 12.0]\n"
     ]
    }
   ],
   "source": [
    "#Air Temp CRN:\n",
    "with open('CRNH0203-2022-KY_Bowling_Green_21_NNE.txt') as f:\n",
    "    lst=[line.split()[9] for line in f]\n",
    "    #print(lst)\n",
    "    temp_crn=[]\n",
    "    for i in lst:\n",
    "        new=i.replace(',',\"\")\n",
    "        temp_crn.append(new)\n",
    "    temp_crn=[float(x) for x in temp_crn]\n",
    "    temp_crn=temp_crn[2789:2814]\n",
    "#     y = np.array(temp_crn)\n",
    "#     temp_crn = ma.masked_array(y, mask=[0, 0, 0, 0, 0,0,1,0,0,0,0,0,0,0,0,0,0,0,0,0,0,0,0,0,0])\n",
    "    print(temp_crn)\n",
    "    #print(len(temp_crn))\n",
    "    # print(temp_crn[2124])"
   ]
  },
  {
   "cell_type": "code",
   "execution_count": 204,
   "id": "5c251190",
   "metadata": {},
   "outputs": [
    {
     "name": "stdout",
     "output_type": "stream",
     "text": [
      "[0.9750399999999999, 1.1630400000000005, 1.2773899999999996, 0.7568700000000002, 1.2802800000000003, 1.3465299999999996, 2.267950000000001, 1.964599999999999, 1.0579, 0.8699000000000012, 1.4306999999999999, 1.1191999999999993, 1.6391999999999989, 0.9295000000000009, 0.6956999999999987, 0.7437000000000005, 0.24220000000000041, -0.06540000000000035, 0.002700000000000813, -0.5016000000000016, 0.22630000000000017, -0.08249999999999957, -0.18599999999999994, -0.3216999999999999, 0.019000000000000128]\n"
     ]
    }
   ],
   "source": [
    "difference6_bow = []\n",
    "\n",
    "zip_object = zip(temp, temp_crn)\n",
    "for temp_i, temp_crn_i in zip_object:\n",
    "    difference6_bow.append(temp_i-temp_crn_i)\n",
    "\n",
    "print(difference6_bow)"
   ]
  },
  {
   "cell_type": "markdown",
   "id": "a5a07101",
   "metadata": {},
   "source": [
    "<font size=\"3\">Gadsden, AL: 0200 UTC 31 March 2022-0200 UTC 1 April 2022</font>"
   ]
  },
  {
   "cell_type": "code",
   "execution_count": 205,
   "id": "62e76d12",
   "metadata": {},
   "outputs": [
    {
     "name": "stdout",
     "output_type": "stream",
     "text": [
      "[8.60004, 8.02554, 7.66489, 7.31937, 7.06778, 6.40903, 7.55545, 10.3021, 12.6579, 15.5074, 17.4057, 19.1817, 20.8767, 21.2545, 21.7957, 21.8312, 21.4297, 20.4721, 18.2777, 16.4734, 14.9888, 13.6925, 12.939, 12.1783, 11.769]\n",
      "25\n"
     ]
    }
   ],
   "source": [
    "#12 hr hrrr:\n",
    "with open('hrrr_f12_Gadsden_AL.txt') as f:\n",
    "    lst=[line.split()[1] for line in f]\n",
    "    temp=[]\n",
    "    for i in lst:\n",
    "        new=i.replace(',',\"\")\n",
    "        temp.append(new)\n",
    "    temp.pop(0)\n",
    "    temp=[float(x) for x in temp]\n",
    "    temp=temp[2778:2803]\n",
    "    #temp=temp[2015:2063]\n",
    "    print(temp)\n",
    "    print(len(temp))\n",
    "#full time period is [2015:2112]"
   ]
  },
  {
   "cell_type": "code",
   "execution_count": 206,
   "id": "c5726e07",
   "metadata": {},
   "outputs": [
    {
     "name": "stdout",
     "output_type": "stream",
     "text": [
      "[8.8, 7.8, 6.4, 6.3, 6.0, 4.6, 4.8, 7.6, 11.2, 14.0, 16.3, 18.0, 19.4, 20.0, 20.5, 20.7, 20.8, 20.4, 18.9, 14.9, 12.0, 10.5, 9.4, 8.2, 7.5]\n"
     ]
    }
   ],
   "source": [
    "#Air Temp CRN:\n",
    "with open('CRNH0203-2022-AL_Gadsden_19_N.txt') as f:\n",
    "    lst=[line.split()[9] for line in f]\n",
    "    #print(lst)\n",
    "    temp_crn=[]\n",
    "    for i in lst:\n",
    "        new=i.replace(',',\"\")\n",
    "        temp_crn.append(new)\n",
    "    temp_crn=[float(x) for x in temp_crn]\n",
    "    temp_crn=temp_crn[2789:2814]\n",
    "    print(temp_crn)\n",
    "    #print(len(temp_crn))\n",
    "    # print(temp_crn[2124])"
   ]
  },
  {
   "cell_type": "code",
   "execution_count": 207,
   "id": "10f84193",
   "metadata": {},
   "outputs": [
    {
     "name": "stdout",
     "output_type": "stream",
     "text": [
      "[-0.1999600000000008, 0.22553999999999963, 1.2648899999999994, 1.0193700000000003, 1.06778, 1.80903, 2.7554500000000006, 2.7020999999999997, 1.4579000000000004, 1.5074000000000005, 1.1056999999999988, 1.1816999999999993, 1.476700000000001, 1.2545000000000002, 1.2957, 1.1311999999999998, 0.6296999999999997, 0.0721000000000025, -0.6222999999999992, 1.5734000000000012, 2.9887999999999995, 3.192500000000001, 3.5389999999999997, 3.978300000000001, 4.269]\n"
     ]
    }
   ],
   "source": [
    "difference6_gad = []\n",
    "\n",
    "zip_object = zip(temp, temp_crn)\n",
    "for temp_i, temp_crn_i in zip_object:\n",
    "    difference6_gad.append(temp_i-temp_crn_i)\n",
    "\n",
    "print(difference6_gad)"
   ]
  },
  {
   "cell_type": "markdown",
   "id": "8863111f",
   "metadata": {},
   "source": [
    "<font size=\"3\">Newton, GA: 0700 UTC 31 March 2022-0700 UTC 1 April 2022</font>"
   ]
  },
  {
   "cell_type": "code",
   "execution_count": 208,
   "id": "5b6d30eb",
   "metadata": {},
   "outputs": [
    {
     "name": "stdout",
     "output_type": "stream",
     "text": [
      "[18.475, 17.713, 17.2274, 16.1319, 15.5678, 15.5965, 16.243, 17.8646, 19.9704, 22.4449, 25.0307, 26.6817, 28.2517, 28.817, 29.1707, 29.4562, 28.9297, 28.0346, 25.2152, 22.8484, 21.3638, 20.005, 19.1265, 17.9908, 16.894]\n",
      "25\n"
     ]
    }
   ],
   "source": [
    "#12 hr hrrr:\n",
    "with open('hrrr_f12_Newton_GA.txt') as f:\n",
    "    lst=[line.split()[1] for line in f]\n",
    "    temp=[]\n",
    "    for i in lst:\n",
    "        new=i.replace(',',\"\")\n",
    "        temp.append(new)\n",
    "    temp.pop(0)\n",
    "    temp=[float(x) for x in temp]\n",
    "    temp=temp[2778:2803]\n",
    "    #temp=temp[2015:2063]\n",
    "    print(temp)\n",
    "    print(len(temp))\n",
    "#full time period is [2015:2112]"
   ]
  },
  {
   "cell_type": "code",
   "execution_count": 209,
   "id": "d7550634",
   "metadata": {},
   "outputs": [
    {
     "name": "stdout",
     "output_type": "stream",
     "text": [
      "[18.4, 17.3, 16.2, 15.9, 15.3, 14.5, 13.8, 15.0, 16.7, 18.6, 20.7, 22.9, 24.7, 26.3, 26.9, 27.3, 27.2, 26.6, 24.7, 20.6, 18.0, 16.7, 15.5, 14.5, 13.7]\n"
     ]
    }
   ],
   "source": [
    "#Air Temp CRN:\n",
    "with open('CRNH0203-2022-GA_Newton_11_SW.txt') as f:\n",
    "    lst=[line.split()[9] for line in f]\n",
    "    #print(lst)\n",
    "    temp_crn=[]\n",
    "    for i in lst:\n",
    "        new=i.replace(',',\"\")\n",
    "        temp_crn.append(new)\n",
    "    temp_crn=[float(x) for x in temp_crn]\n",
    "    temp_crn=temp_crn[2789:2814]\n",
    "    print(temp_crn)\n",
    "    #print(len(temp_crn))\n",
    "    # print(temp_crn[2124])"
   ]
  },
  {
   "cell_type": "code",
   "execution_count": 210,
   "id": "9134e3a3",
   "metadata": {},
   "outputs": [
    {
     "name": "stdout",
     "output_type": "stream",
     "text": [
      "[0.07500000000000284, 0.41300000000000026, 1.0274, 0.23190000000000133, 0.26779999999999937, 1.0965000000000007, 2.442999999999998, 2.8645999999999994, 3.270400000000002, 3.844899999999999, 4.3307, 3.7817000000000007, 3.5517000000000003, 2.5169999999999995, 2.2707000000000015, 2.1561999999999983, 1.7297000000000011, 1.4345999999999997, 0.5152000000000001, 2.2484, 3.3638000000000012, 3.3049999999999997, 3.6265, 3.4908, 3.193999999999999]\n"
     ]
    }
   ],
   "source": [
    "difference6_newt = []\n",
    "\n",
    "zip_object = zip(temp, temp_crn)\n",
    "for temp_i, temp_crn_i in zip_object:\n",
    "    difference6_newt.append(temp_i-temp_crn_i)\n",
    "\n",
    "print(difference6_newt)"
   ]
  },
  {
   "cell_type": "code",
   "execution_count": 211,
   "id": "8a134c48",
   "metadata": {},
   "outputs": [
    {
     "name": "stdout",
     "output_type": "stream",
     "text": [
      "25\n"
     ]
    }
   ],
   "source": [
    "hour=[6,7,8,9,10,11,12,13,14,15,16,17,18,19,20,21,22,23,0,1,2,3,4,5,6]\n",
    "print(len(hour))"
   ]
  },
  {
   "cell_type": "code",
   "execution_count": 212,
   "id": "45def68f",
   "metadata": {},
   "outputs": [
    {
     "name": "stdout",
     "output_type": "stream",
     "text": [
      "range(0, 25)\n"
     ]
    }
   ],
   "source": [
    "xs = range(len(hour))\n",
    "print(xs)"
   ]
  },
  {
   "cell_type": "code",
   "execution_count": 213,
   "id": "d5fd370b",
   "metadata": {},
   "outputs": [
    {
     "name": "stdout",
     "output_type": "stream",
     "text": [
      "[ 2.09715167  2.38671333  2.50189     2.683455    2.68310667  2.75115\n",
      "  2.21143833  2.43378833  2.94604545  1.6819375   0.31129167 -0.57844167\n",
      " -0.73839167 -0.6961     -0.85759167 -1.08994167 -1.317775   -2.22065\n",
      " -2.87835833 -0.94873333  0.22344833  1.30027818  2.03883583  2.17214333\n",
      "  1.93115   ]\n",
      "[1.94012898 2.14982431 2.22471616 2.28412846 2.31239208 2.60010517\n",
      " 2.99914249 2.77639069 2.51100573 1.83764541 1.59845676 1.72223857\n",
      " 2.04837625 2.16814653 2.2163306  2.1673504  2.02088139 2.10907945\n",
      " 2.11353191 2.75109038 2.89430767 2.5111864  2.77487301 2.79716149\n",
      " 3.00336466]\n"
     ]
    },
    {
     "name": "stderr",
     "output_type": "stream",
     "text": [
      "C:\\Users\\panwalaf\\AppData\\Local\\Temp\\ipykernel_6488\\2360887579.py:3: UserWarning: Warning: converting a masked element to nan.\n",
      "  c1 = np.array([difference1_sal,difference1_bat,difference1_laf,difference1_mon,difference1_hol,difference1_new,difference1_gai,difference1_fai,difference1_sel,difference1_bow,difference1_gad,difference1_newt])\n",
      "C:\\Users\\panwalaf\\AppData\\Local\\Temp\\ipykernel_6488\\2360887579.py:8: UserWarning: Warning: converting a masked element to nan.\n",
      "  b1 = np.array([difference1_sal,difference1_bat,difference1_laf,difference1_mon,difference1_hol,difference1_new,difference1_gai,difference1_fai,difference1_sel,difference1_bow,difference1_gad,difference1_newt])\n"
     ]
    },
    {
     "data": {
      "text/plain": [
       "25"
      ]
     },
     "execution_count": 213,
     "metadata": {},
     "output_type": "execute_result"
    }
   ],
   "source": [
    "# data = np.array([difference1_sal,difference1_sel,difference1_mon])\n",
    "# np.ma.average(data, axis=0)\n",
    "c1 = np.array([difference1_sal,difference1_bat,difference1_laf,difference1_mon,difference1_hol,difference1_new,difference1_gai,difference1_fai,difference1_sel,difference1_bow,difference1_gad,difference1_newt])\n",
    "c1=np.nanmean(c1, axis=0)\n",
    "print(c1)\n",
    "len(c1)\n",
    "\n",
    "b1 = np.array([difference1_sal,difference1_bat,difference1_laf,difference1_mon,difference1_hol,difference1_new,difference1_gai,difference1_fai,difference1_sel,difference1_bow,difference1_gad,difference1_newt])\n",
    "b1=np.nanstd(b1, axis=0)\n",
    "print(b1)\n",
    "len(b1)"
   ]
  },
  {
   "cell_type": "code",
   "execution_count": 214,
   "id": "0400ce89",
   "metadata": {
    "scrolled": false
   },
   "outputs": [],
   "source": [
    "# def mean(numbers):\n",
    "#     return float(sum(numbers)) / max(len(numbers), 1)\n",
    "\n",
    "# # difference1_sel[17]=None\n",
    "# # difference1_sel[18]=None\n",
    "# # difference1_sel[19]=None\n",
    "# # difference1_sel[20]=None\n",
    "# c1 = [mean(i) for i in zip(difference1_sal,difference1_bat,difference1_laf,difference1_mon,difference1_hol,difference1_new,difference1_gai,difference1_fai,difference1_sel,difference1_bow,difference1_gad,difference1_newt)]\n",
    "# #difference1_bow[6]=0\n",
    "# b1 = [np.std(i) for i in zip(difference1_sal,difference1_bat,difference1_laf,difference1_mon,difference1_hol,difference1_new,difference1_gai,difference1_fai,difference1_sel,difference1_bow,difference1_gad,difference1_newt)]\n",
    "# print (c1)\n",
    "# print(len(c1))\n",
    "# print(b1)\n",
    "# print(len(b1))"
   ]
  },
  {
   "cell_type": "code",
   "execution_count": 215,
   "id": "7d6e3e43",
   "metadata": {},
   "outputs": [
    {
     "data": {
      "image/png": "[encoded data removed]",
      "text/plain": [
       "<Figure size 792x396 with 1 Axes>"
      ]
     },
     "metadata": {},
     "output_type": "display_data"
    }
   ],
   "source": [
    "plt.style.use('seaborn-whitegrid')\n",
    "plt.rcParams[\"figure.figsize\"] = [11.00, 5.50]\n",
    "plt.rcParams[\"figure.autolayout\"] = True\n",
    "plt.yticks(np.arange(-8,10,2))\n",
    "plt.ylim(-8,8)\n",
    "# c[6]=None\n",
    "# b[6]=None\n",
    "\n",
    "plt.plot(xs,c1,c=\"black\")\n",
    "plt.errorbar(xs,c1,yerr=b1,linestyle='None', marker='s')\n",
    "# c[6]=None\n",
    "# b[6]=None\n",
    "\n",
    "plt.title(\"12-hr Avg. MBE All Stations\")\n",
    "plt.xlabel(\"UTC Hour\")\n",
    "plt.ylabel(\"MBE Air Temperature (C)\")\n",
    "#plt.plot(hour,c)\n",
    "#plt.errorbar(hour,c,yerr=b,ecolor='r',elinewidth=5,fmt='s',color='k')\n",
    "#plt.grid()\n",
    "#plt.xticks(np.arange(min(xs), max(xs)+1, 1.0))\n",
    "plt.xticks(xs, hour)\n",
    "plt.show()\n",
    "#plt.axvspan(-4, 4, color='green', alpha=0.2, lw=0)"
   ]
  },
  {
   "cell_type": "code",
   "execution_count": 216,
   "id": "d14691f0",
   "metadata": {},
   "outputs": [
    {
     "name": "stdout",
     "output_type": "stream",
     "text": [
      "[ 1.62590714  1.51785949  1.52512117  1.53900958  1.31938708  1.281374\n",
      "  1.12582169  1.581871    1.99660647  1.674725    1.3217625   1.11901167\n",
      "  0.76043917  0.76347167  0.651185    0.37076083  0.01959167 -0.62493583\n",
      " -1.64282917 -0.534085    0.52560833  0.98487833  1.02651417  0.77257\n",
      "  0.3284875 ]\n",
      "[1.50106169 1.8218365  1.73014031 1.70193549 1.83989673 1.92025148\n",
      " 1.9226139  1.66574297 1.08429633 1.05472801 1.29861233 1.40219237\n",
      " 1.43850042 1.47062646 1.39838738 1.17312836 1.10465938 1.0993794\n",
      " 1.26370276 1.33387454 1.74244245 2.21786025 2.48664599 2.42424334\n",
      " 2.47134062]\n"
     ]
    },
    {
     "data": {
      "text/plain": [
       "25"
      ]
     },
     "execution_count": 216,
     "metadata": {},
     "output_type": "execute_result"
    }
   ],
   "source": [
    "c2 = np.array([difference2_sal,difference2_bat,difference2_laf,difference2_mon,difference2_hol,difference2_new,difference2_gai,difference2_fai,difference2_sel,difference2_bow,difference2_gad,difference2_newt])\n",
    "c2=np.nanmean(c2, axis=0)\n",
    "print(c2)\n",
    "len(c2)\n",
    "\n",
    "b2 = np.array([difference2_sal,difference2_bat,difference2_laf,difference2_mon,difference2_hol,difference2_new,difference2_gai,difference2_fai,difference2_sel,difference2_bow,difference2_gad,difference2_newt])\n",
    "b2=np.nanstd(b2, axis=0)\n",
    "print(b2)\n",
    "len(b2)"
   ]
  },
  {
   "cell_type": "code",
   "execution_count": 217,
   "id": "4c8ac8a3",
   "metadata": {},
   "outputs": [
    {
     "data": {
      "image/png": "[encoded data removed]",
      "text/plain": [
       "<Figure size 792x396 with 1 Axes>"
      ]
     },
     "metadata": {},
     "output_type": "display_data"
    }
   ],
   "source": [
    "plt.style.use('seaborn-whitegrid')\n",
    "plt.rcParams[\"figure.figsize\"] = [11.00, 5.50]\n",
    "plt.yticks(np.arange(-8,10,2))\n",
    "plt.ylim(-8,8)\n",
    "# c[6]=None\n",
    "# b[6]=None\n",
    "\n",
    "plt.plot(xs,c2,c=\"red\")\n",
    "plt.errorbar(xs,c2,c=\"red\",yerr=b1,linestyle='None', marker='s')\n",
    "# c[6]=None\n",
    "# b[6]=None\n",
    "\n",
    "plt.title(\"12-hr Avg. MBE All Stations\")\n",
    "plt.xlabel(\"UTC Hour\")\n",
    "plt.ylabel(\"MBE Air Temperature (C)\")\n",
    "#plt.plot(hour,c)\n",
    "#plt.errorbar(hour,c,yerr=b,ecolor='r',elinewidth=5,fmt='s',color='k')\n",
    "#plt.grid()\n",
    "#plt.xticks(np.arange(min(xs), max(xs)+1, 1.0))\n",
    "plt.xticks(xs, hour)\n",
    "plt.show()\n",
    "#plt.axvspan(-4, 4, color='green', alpha=0.2, lw=0)"
   ]
  },
  {
   "cell_type": "code",
   "execution_count": 218,
   "id": "e0b94a04",
   "metadata": {},
   "outputs": [
    {
     "name": "stdout",
     "output_type": "stream",
     "text": [
      "[ 2.98503667  3.02589417  2.88643417  3.024175    3.22454333  3.42981\n",
      "  3.29769167  4.15942167  3.60857833  1.695525    0.21911667 -0.24274167\n",
      " -0.42928333 -0.27635    -0.398175   -0.45400833 -0.41469167 -0.96740833\n",
      " -1.38854167  0.4453      1.15415     1.82065167  2.18902667  2.620245\n",
      "  2.37139833]\n",
      "[2.44680376 2.58880686 2.58703416 2.52205958 2.35590091 2.45955037\n",
      " 2.49437627 1.9565378  1.7013237  1.6889047  1.43830442 1.3162393\n",
      " 1.16389738 1.13005231 1.13226963 1.15983631 1.46663818 1.62025315\n",
      " 1.67539997 1.68496724 1.65850475 2.04476579 2.73204591 2.85345175\n",
      " 2.86333793]\n"
     ]
    },
    {
     "data": {
      "text/plain": [
       "25"
      ]
     },
     "execution_count": 218,
     "metadata": {},
     "output_type": "execute_result"
    }
   ],
   "source": [
    "c3 = np.array([difference3_sal,difference3_bat,difference3_laf,difference3_mon,difference3_hol,difference3_new,difference3_gai,difference3_fai,difference3_sel,difference3_bow,difference3_gad,difference3_newt])\n",
    "c3=np.nanmean(c3, axis=0)\n",
    "print(c3)\n",
    "len(c3)\n",
    "\n",
    "b3 = np.array([difference3_sal,difference3_bat,difference3_laf,difference3_mon,difference3_hol,difference3_new,difference3_gai,difference3_fai,difference3_sel,difference3_bow,difference3_gad,difference3_newt])\n",
    "b3=np.nanstd(b3, axis=0)\n",
    "print(b3)\n",
    "len(b3)"
   ]
  },
  {
   "cell_type": "code",
   "execution_count": 219,
   "id": "0d8bef30",
   "metadata": {
    "scrolled": false
   },
   "outputs": [],
   "source": [
    "# def mean(numbers):\n",
    "#     return float(sum(numbers)) / max(len(numbers), 1)\n",
    "\n",
    "# # difference1_sel[17]=0\n",
    "# # difference1_sel[18]=0\n",
    "# # difference1_sel[19]=0\n",
    "# # difference1_sel[20]=0\n",
    "# c3 = [mean(i) for i in zip(difference3_sal,difference3_bat,difference3_laf,difference3_mon,difference3_hol,difference3_new,difference3_gai,difference3_fai,difference3_sel,difference3_bow,difference3_gad,difference3_newt)]\n",
    "# #difference1_bow[6]=0\n",
    "# b3 = [np.std(i) for i in zip(difference3_sal,difference3_bat,difference3_laf,difference3_mon,difference3_hol,difference3_new,difference3_gai,difference3_fai,difference3_sel,difference3_bow,difference3_gad,difference3_newt)]\n",
    "# print (c3)\n",
    "# print(len(c3))\n",
    "# print(b3)\n",
    "# print(len(b3))"
   ]
  },
  {
   "cell_type": "code",
   "execution_count": 220,
   "id": "00a5e783",
   "metadata": {},
   "outputs": [
    {
     "data": {
      "image/png": "[encoded data removed]",
      "text/plain": [
       "<Figure size 792x396 with 1 Axes>"
      ]
     },
     "metadata": {},
     "output_type": "display_data"
    }
   ],
   "source": [
    "plt.style.use('seaborn-whitegrid')\n",
    "plt.rcParams[\"figure.figsize\"] = [11.00, 5.50]\n",
    "plt.rcParams[\"figure.autolayout\"] = True\n",
    "plt.yticks(np.arange(-8,10,2))\n",
    "plt.ylim(-8,8)\n",
    "# c[6]=None\n",
    "# b[6]=None\n",
    "\n",
    "plt.plot(xs,c3,c=\"green\")\n",
    "plt.errorbar(xs,c3,c=\"green\",yerr=b3,linestyle='None', marker='s')\n",
    "# c[6]=None\n",
    "# b[6]=None\n",
    "\n",
    "plt.title(\"12-hr Avg. MBE All Stations\")\n",
    "plt.xlabel(\"UTC Hour\")\n",
    "plt.ylabel(\"MBE Air Temperature (C)\")\n",
    "#plt.plot(hour,c)\n",
    "#plt.errorbar(hour,c,yerr=b,ecolor='r',elinewidth=5,fmt='s',color='k')\n",
    "#plt.grid()\n",
    "#plt.xticks(np.arange(min(xs), max(xs)+1, 1.0))\n",
    "plt.xticks(xs, hour)\n",
    "plt.show()\n",
    "#plt.axvspan(-4, 4, color='green', alpha=0.2, lw=0)"
   ]
  },
  {
   "cell_type": "code",
   "execution_count": 221,
   "id": "a2b4f439",
   "metadata": {},
   "outputs": [
    {
     "name": "stdout",
     "output_type": "stream",
     "text": [
      "[ 2.83306667  2.61725833  2.84181667  2.83355167  2.664585    2.62143\n",
      "  2.43369667  3.42917917  2.03429833  0.87427917  0.43515     0.25443333\n",
      "  0.66134167  0.63414167  0.57444167  0.58955833  0.37520833 -0.08014167\n",
      " -0.86046667  0.08644167  0.8417075   1.1931575   1.51771     1.65582333\n",
      "  1.52715667]\n",
      "[1.58506759 1.7225242  1.70155104 1.9598366  1.69352132 1.78069243\n",
      " 1.78736423 1.72344335 1.44482463 1.38636201 1.38077858 1.33736695\n",
      " 1.32339189 1.21122633 1.13744801 1.36018973 1.41500017 1.1422344\n",
      " 0.87069377 1.65285783 1.9328883  2.01681469 2.07270452 2.16375467\n",
      " 2.20901239]\n"
     ]
    },
    {
     "data": {
      "text/plain": [
       "25"
      ]
     },
     "execution_count": 221,
     "metadata": {},
     "output_type": "execute_result"
    }
   ],
   "source": [
    "c4 = np.array([difference4_sal,difference4_bat,difference4_laf,difference4_mon,difference4_hol,difference4_new,difference4_gai,difference4_fai,difference4_sel,difference4_bow,difference4_gad,difference4_newt])\n",
    "c4=np.nanmean(c4, axis=0)\n",
    "print(c4)\n",
    "len(c4)\n",
    "\n",
    "b4 = np.array([difference4_sal,difference4_bat,difference4_laf,difference4_mon,difference4_hol,difference4_new,difference4_gai,difference4_fai,difference4_sel,difference4_bow,difference4_gad,difference4_newt])\n",
    "b4=np.nanstd(b4, axis=0)\n",
    "print(b4)\n",
    "len(b4)"
   ]
  },
  {
   "cell_type": "code",
   "execution_count": 222,
   "id": "b1774c6c",
   "metadata": {
    "scrolled": false
   },
   "outputs": [],
   "source": [
    "# def mean(numbers):\n",
    "#     return float(sum(numbers)) / max(len(numbers), 1)\n",
    "\n",
    "# # difference1_sel[17]=0\n",
    "# # difference1_sel[18]=0\n",
    "# # difference1_sel[19]=0\n",
    "# # difference1_sel[20]=0\n",
    "# c4 = [mean(i) for i in zip(difference4_sal,difference4_bat,difference4_laf,difference4_mon,difference4_hol,difference4_new,difference4_gai,difference4_fai,difference4_sel,difference4_bow,difference4_gad,difference4_newt)]\n",
    "# #difference1_bow[6]=0\n",
    "# b4 = [np.std(i) for i in zip(difference4_sal,difference4_bat,difference4_laf,difference4_mon,difference4_hol,difference4_new,difference4_gai,difference4_fai,difference4_sel,difference4_bow,difference4_gad,difference4_newt)]\n",
    "# print (c4)\n",
    "# print(len(c4))\n",
    "# print(b4)\n",
    "# print(len(b4))"
   ]
  },
  {
   "cell_type": "code",
   "execution_count": 223,
   "id": "e70a6cef",
   "metadata": {},
   "outputs": [
    {
     "data": {
      "image/png": "[encoded data removed]",
      "text/plain": [
       "<Figure size 792x396 with 1 Axes>"
      ]
     },
     "metadata": {},
     "output_type": "display_data"
    }
   ],
   "source": [
    "plt.style.use('seaborn-whitegrid')\n",
    "plt.rcParams[\"figure.figsize\"] = [11.00, 5.50]\n",
    "plt.rcParams[\"figure.autolayout\"] = True\n",
    "plt.yticks(np.arange(-8,10,2))\n",
    "plt.ylim(-8,8)\n",
    "# c[6]=None\n",
    "# b[6]=None\n",
    "\n",
    "plt.plot(xs,c4,c=\"orange\")\n",
    "plt.errorbar(xs,c4,c=\"orange\",yerr=b4,linestyle='None', marker='s')\n",
    "# c[6]=None\n",
    "# b[6]=None\n",
    "\n",
    "plt.title(\"12-hr Avg. MBE All Stations\")\n",
    "plt.xlabel(\"UTC Hour\")\n",
    "plt.ylabel(\"MBE Air Temperature (C)\")\n",
    "#plt.plot(hour,c)\n",
    "#plt.errorbar(hour,c,yerr=b,ecolor='r',elinewidth=5,fmt='s',color='k')\n",
    "#plt.grid()\n",
    "#plt.xticks(np.arange(min(xs), max(xs)+1, 1.0))\n",
    "plt.xticks(xs, hour)\n",
    "plt.show()\n",
    "#plt.axvspan(-4, 4, color='green', alpha=0.2, lw=0)"
   ]
  },
  {
   "cell_type": "code",
   "execution_count": 224,
   "id": "410bac86",
   "metadata": {},
   "outputs": [
    {
     "name": "stdout",
     "output_type": "stream",
     "text": [
      "[-0.0210075   0.4451005   0.57828292  0.925536    1.30389448  1.29885817\n",
      "  1.56729768  1.4112325   0.54732917  0.46954167  0.666765    0.54757167\n",
      "  0.70858333  0.699175    0.70010833  0.38826667  0.003325   -0.33428333\n",
      " -0.510025    0.66876     1.91627333  1.95519     1.99195417  1.76835167\n",
      "  1.64407417]\n",
      "[1.32342487 1.22731755 1.08521281 1.12768008 1.34826572 1.49143006\n",
      " 1.67014992 1.20748627 0.88673626 0.84279624 0.99716324 1.16223545\n",
      " 1.34736271 1.42271495 1.4544155  1.46608653 1.54661193 1.6761255\n",
      " 1.46283939 1.42800552 1.53790246 2.02125458 1.99760423 2.03266892\n",
      " 1.8542407 ]\n"
     ]
    },
    {
     "data": {
      "text/plain": [
       "25"
      ]
     },
     "execution_count": 224,
     "metadata": {},
     "output_type": "execute_result"
    }
   ],
   "source": [
    "# data = np.array([difference1_sal,difference1_sel,difference1_mon])\n",
    "# np.ma.average(data, axis=0)\n",
    "c5 = np.array([difference5_sal,difference5_bat,difference5_laf,difference5_mon,difference5_hol,difference5_new,difference5_gai,difference5_fai,difference5_sel,difference5_bow,difference5_gad,difference5_newt])\n",
    "c5=np.nanmean(c5, axis=0)\n",
    "print(c5)\n",
    "len(c5)\n",
    "\n",
    "b5 = np.array([difference5_sal,difference5_bat,difference5_laf,difference5_mon,difference5_hol,difference5_new,difference5_gai,difference5_fai,difference5_sel,difference5_bow,difference5_gad,difference5_newt])\n",
    "b5=np.nanstd(b5, axis=0)\n",
    "print(b5)\n",
    "len(b5)"
   ]
  },
  {
   "cell_type": "code",
   "execution_count": 225,
   "id": "ac07d6b1",
   "metadata": {},
   "outputs": [
    {
     "data": {
      "image/png": "[encoded data removed]",
      "text/plain": [
       "<Figure size 792x396 with 1 Axes>"
      ]
     },
     "metadata": {},
     "output_type": "display_data"
    }
   ],
   "source": [
    "plt.style.use('seaborn-whitegrid')\n",
    "plt.rcParams[\"figure.figsize\"] = [11.00, 5.50]\n",
    "plt.rcParams[\"figure.autolayout\"] = True\n",
    "plt.yticks(np.arange(-8,10,2))\n",
    "plt.ylim(-8,8)\n",
    "# c[6]=None\n",
    "# b[6]=None\n",
    "\n",
    "plt.plot(xs,c5,c=\"m\")\n",
    "plt.errorbar(xs,c5,c=\"m\",yerr=b1,linestyle='None', marker='s')\n",
    "# c[6]=None\n",
    "# b[6]=None\n",
    "\n",
    "plt.title(\"12-hr Avg. MBE All Stations\")\n",
    "plt.xlabel(\"UTC Hour\")\n",
    "plt.ylabel(\"MBE Air Temperature (C)\")\n",
    "#plt.plot(hour,c)\n",
    "#plt.errorbar(hour,c,yerr=b,ecolor='r',elinewidth=5,fmt='s',color='k')\n",
    "#plt.grid()\n",
    "#plt.xticks(np.arange(min(xs), max(xs)+1, 1.0))\n",
    "plt.xticks(xs, hour)\n",
    "plt.show()\n",
    "#plt.axvspan(-4, 4, color='green', alpha=0.2, lw=0)"
   ]
  },
  {
   "cell_type": "code",
   "execution_count": 226,
   "id": "9b993a8f",
   "metadata": {},
   "outputs": [
    {
     "name": "stdout",
     "output_type": "stream",
     "text": [
      "[ 1.386475    1.4901      1.47531167  1.3787575   1.68445333  2.33193667\n",
      "  3.148175    3.12396833  2.28185833  1.716775    1.48590833  1.28065833\n",
      "  1.392325    1.21804167  1.00611667  0.928075    0.576575    0.212725\n",
      " -0.17334167  1.06610833  2.3638      2.64770833  2.814       2.99809167\n",
      "  2.91483333]\n",
      "[1.83569822 1.8472135  1.76134526 1.80422676 1.84702967 1.5340751\n",
      " 1.46763745 1.48911604 1.40346909 1.27620577 1.551725   1.44787432\n",
      " 1.32057166 1.10591989 1.0993231  1.1062809  1.02642336 1.17637469\n",
      " 1.26562586 1.6513998  2.19833626 2.47491297 2.40891897 2.42013827\n",
      " 2.45031   ]\n"
     ]
    },
    {
     "data": {
      "text/plain": [
       "25"
      ]
     },
     "execution_count": 226,
     "metadata": {},
     "output_type": "execute_result"
    }
   ],
   "source": [
    "# data = np.array([difference1_sal,difference1_sel,difference1_mon])\n",
    "# np.ma.average(data, axis=0)\n",
    "c6 = np.array([difference6_sal,difference6_bat,difference6_laf,difference6_mon,difference6_hol,difference6_new,difference6_gai,difference6_fai,difference6_sel,difference6_bow,difference6_gad,difference6_newt])\n",
    "c6=np.nanmean(c6, axis=0)\n",
    "print(c6)\n",
    "len(c6)\n",
    "\n",
    "b6 = np.array([difference6_sal,difference6_bat,difference6_laf,difference6_mon,difference6_hol,difference6_new,difference6_gai,difference6_fai,difference6_sel,difference6_bow,difference6_gad,difference6_newt])\n",
    "b6=np.nanstd(b6, axis=0)\n",
    "print(b6)\n",
    "len(b6)"
   ]
  },
  {
   "cell_type": "code",
   "execution_count": 227,
   "id": "082182c5",
   "metadata": {},
   "outputs": [],
   "source": [
    "# c6=[1.18699667,1.2159875,1.202925,1.02153,0.915495,1.02571667,1.26524667,None,2.2831875,1.7132,1.37515833,1.22099167,1.35300833,1.414275,1.26331667,1.0291,0.78611667,0.569625,0.34864167,0.18683333,1.40921667,2.328025,2.40613333,2.28898333,2.3347]\n",
    "# print(c6)\n",
    "\n",
    "# b6=[1.97701539,1.9395002,1.87538972,1.65278454,1.56076627,1.60271154,1.38167358,None,1.35925266,1.47758425,1.57097252,1.69290383,1.59484406,1.23676456,1.09269393,1.01123893,0.9324703,0.81224555,0.88487667,1.22252443,1.84667376,2.11633728,2.18744841,1.95969035,1.94028697]\n",
    "# print(b6)"
   ]
  },
  {
   "cell_type": "code",
   "execution_count": 228,
   "id": "cdb8e9ef",
   "metadata": {},
   "outputs": [
    {
     "data": {
      "image/png": "[encoded data removed]",
      "text/plain": [
       "<Figure size 792x396 with 1 Axes>"
      ]
     },
     "metadata": {},
     "output_type": "display_data"
    }
   ],
   "source": [
    "plt.style.use('seaborn-whitegrid')\n",
    "plt.rcParams[\"figure.figsize\"] = [11.00, 5.50]\n",
    "plt.rcParams[\"figure.autolayout\"] = True\n",
    "plt.yticks(np.arange(-8,10,2))\n",
    "plt.ylim(-8,8)\n",
    "# c[6]=None\n",
    "# b[6]=None\n",
    "\n",
    "plt.plot(xs,c6,c=\"c\")\n",
    "plt.errorbar(xs,c6,c=\"c\",yerr=b6,linestyle='None', marker='s')\n",
    "# c[6]=None\n",
    "# b[6]=None\n",
    "\n",
    "plt.title(\"12-hr Avg. MBE All Stations\")\n",
    "plt.xlabel(\"UTC Hour\")\n",
    "plt.ylabel(\"MBE Air Temperature (C)\")\n",
    "#plt.plot(hour,c)\n",
    "#plt.errorbar(hour,c,yerr=b,ecolor='r',elinewidth=5,fmt='s',color='k')\n",
    "#plt.grid()\n",
    "#plt.xticks(np.arange(min(xs), max(xs)+1, 1.0))\n",
    "plt.xticks(xs, hour)\n",
    "plt.show()\n",
    "#plt.axvspan(-4, 4, color='green', alpha=0.2, lw=0)"
   ]
  },
  {
   "cell_type": "code",
   "execution_count": 229,
   "id": "240eafe4",
   "metadata": {},
   "outputs": [
    {
     "data": {
      "image/png": "[encoded data removed]",
      "text/plain": [
       "<Figure size 792x396 with 1 Axes>"
      ]
     },
     "metadata": {},
     "output_type": "display_data"
    }
   ],
   "source": [
    "plt.style.use('seaborn-whitegrid')\n",
    "plt.rcParams[\"figure.figsize\"] = [11.00, 5.50]\n",
    "plt.rcParams[\"figure.autolayout\"] = True\n",
    "plt.yticks(np.arange(-8,10,2))\n",
    "plt.ylim(-8,8)\n",
    "\n",
    "plt.plot(xs,c1,c=\"b\",label=\"IOP 1\")\n",
    "plt.errorbar(xs,c1,c=\"b\",yerr=b1,linestyle='None', marker='s')\n",
    "\n",
    "plt.plot(xs,c2,c=\"r\",label=\"IOP 2\")\n",
    "plt.errorbar(xs,c2,c=\"r\",yerr=b2,linestyle='None', marker='s')\n",
    "\n",
    "plt.plot(xs,c3,c=\"green\")\n",
    "plt.errorbar(xs,c3,c=\"green\",yerr=b3,linestyle='None', marker='s')\n",
    "\n",
    "plt.plot(xs,c4,c=\"orange\")\n",
    "plt.errorbar(xs,c4,c=\"orange\",yerr=b4,linestyle='None', marker='s')\n",
    "\n",
    "plt.plot(xs,c5,c=\"m\")\n",
    "plt.errorbar(xs,c5,c=\"m\",yerr=b5,linestyle='None', marker='s')\n",
    "\n",
    "plt.plot(xs,c6,c=\"c\")\n",
    "plt.errorbar(xs,c6,c=\"c\",yerr=b6,linestyle='None', marker='s')\n",
    "\n",
    "plt.title(\"12-hr Avg. MBE All Stations\")\n",
    "plt.xlabel(\"UTC Hour\")\n",
    "plt.ylabel(\"MBE Air Temperature (C)\")\n",
    "#plt.plot(hour,c)\n",
    "#plt.errorbar(hour,c,yerr=b,ecolor='r',elinewidth=5,fmt='s',color='k')\n",
    "#plt.grid()\n",
    "plt.xticks(xs, hour)\n",
    "plt.legend([\"IOP 1\", \"IOP 2\",\"IOP 3\",\"IOP 4\",\"IOP 5\",\"IOP 6\"], loc =\"lower right\")\n",
    "plt.show()"
   ]
  },
  {
   "cell_type": "code",
   "execution_count": null,
   "id": "f20cc188",
   "metadata": {},
   "outputs": [],
   "source": []
  }
 ],
 "metadata": {
  "kernelspec": {
   "display_name": "Python 3 (ipykernel)",
   "language": "python",
   "name": "python3"
  },
  "language_info": {
   "codemirror_mode": {
    "name": "ipython",
    "version": 3
   },
   "file_extension": ".py",
   "mimetype": "text/x-python",
   "name": "python",
   "nbconvert_exporter": "python",
   "pygments_lexer": "ipython3",
   "version": "3.9.12"
  }
 },
 "nbformat": 4,
 "nbformat_minor": 5
}
