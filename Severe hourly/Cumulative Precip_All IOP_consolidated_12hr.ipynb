{
 "cells": [
  {
   "cell_type": "code",
   "execution_count": 1,
   "id": "83d28093",
   "metadata": {},
   "outputs": [],
   "source": [
    "import numpy as np\n",
    "import matplotlib.pyplot as plt\n",
    "import math"
   ]
  },
  {
   "cell_type": "markdown",
   "id": "18ad22a0",
   "metadata": {},
   "source": [
    "<font size=\"3\">Salem, MO: 1200 UTC 22 March 2022-1200 UTC 23 March 2022</font>"
   ]
  },
  {
   "cell_type": "code",
   "execution_count": 2,
   "id": "9236619f",
   "metadata": {},
   "outputs": [],
   "source": [
    "# #12 hr hrrr:\n",
    "# with open('hrrr_f12_Salem_MO.txt') as f:\n",
    "#     lst=[line.split()[2] for line in f]\n",
    "#     temp=[]\n",
    "#     for i in lst:\n",
    "#         new=i.replace(',',\"\")\n",
    "#         temp.append(new)\n",
    "#     temp.pop(0)\n",
    "#     temp=[float(x) for x in temp]\n",
    "#     temp=temp[1920:1945]\n",
    "#     #temp=temp[2015:2063]\n",
    "#     temp=np.cumsum(temp)\n",
    "#     print(temp)\n",
    "# #full time period is [2015:2112]"
   ]
  },
  {
   "cell_type": "code",
   "execution_count": 3,
   "id": "e9d4dbcc",
   "metadata": {},
   "outputs": [],
   "source": [
    "# #Air Temp CRN:\n",
    "# with open('CRNH0203-2022-MO_Salem_10_W.txt') as f:\n",
    "#     lst=[line.split()[12] for line in f]\n",
    "#     #print(lst)\n",
    "#     temp_crn=[]\n",
    "#     for i in lst:\n",
    "#         new=i.replace(',',\"\")\n",
    "#         temp_crn.append(new)\n",
    "#     temp_crn=[float(x) for x in temp_crn]\n",
    "#     temp_crn=temp_crn[1931:1956]\n",
    "#     temp_crn=np.cumsum(temp_crn)\n",
    "#     #print(temp_crn)\n",
    "#     # print(temp_crn[2124])"
   ]
  },
  {
   "cell_type": "code",
   "execution_count": 4,
   "id": "75f1136d-8437-4565-9336-ca8529a631e6",
   "metadata": {},
   "outputs": [
    {
     "name": "stdout",
     "output_type": "stream",
     "text": [
      "25\n"
     ]
    }
   ],
   "source": [
    "hour=[]\n",
    "for i in range(-12,13,1):\n",
    "    hour.append(i)\n",
    "    i+=1\n",
    "print(len(hour))"
   ]
  },
  {
   "cell_type": "code",
   "execution_count": 5,
   "id": "1e9aed03-d99c-4045-812a-e26bcc99b84f",
   "metadata": {},
   "outputs": [],
   "source": [
    "# difference1_sal = []\n",
    "\n",
    "# zip_object = zip(temp, temp_crn)\n",
    "# for temp_i, temp_crn_i in zip_object:\n",
    "#     difference1_sal.append(temp_i-temp_crn_i)\n",
    "\n",
    "# print(difference1_sal)"
   ]
  },
  {
   "cell_type": "markdown",
   "id": "9043c519",
   "metadata": {},
   "source": [
    "<font size=\"3\">Batesville, AR: 1200 UTC 22 March 2022-1200 UTC 23 March 2022</font>"
   ]
  },
  {
   "cell_type": "code",
   "execution_count": 6,
   "id": "ee5d006f",
   "metadata": {},
   "outputs": [
    {
     "name": "stdout",
     "output_type": "stream",
     "text": [
      "[ 3.538  6.409  7.051  8.284  9.755 12.057 14.2   16.233 16.98  17.007\n",
      " 17.007 17.211 17.211 17.212 17.286 26.38  26.38  26.38  26.38  26.38\n",
      " 26.38  26.38  26.382 26.382 26.385]\n"
     ]
    }
   ],
   "source": [
    "#12 hr hrrr:\n",
    "with open('hrrr_f12_Batesville_AR.txt') as f:\n",
    "    lst=[line.split()[2] for line in f]\n",
    "    temp=[]\n",
    "    for i in lst:\n",
    "        new=i.replace(',',\"\")\n",
    "        temp.append(new)\n",
    "    temp.pop(0)\n",
    "    temp=[float(x) for x in temp]\n",
    "    temp=temp[1920:1945]\n",
    "    #temp=temp[2015:2063]\n",
    "    temp=np.cumsum(temp)\n",
    "    print(temp)\n",
    "#full time period is [2015:2112]"
   ]
  },
  {
   "cell_type": "code",
   "execution_count": 7,
   "id": "11b7f8b7",
   "metadata": {},
   "outputs": [],
   "source": [
    "#Air Temp CRN:\n",
    "with open('CRNH0203-2022-AR_Batesville_8_WNW.txt') as f:\n",
    "    lst=[line.split()[12] for line in f]\n",
    "    #print(lst)\n",
    "    temp_crn=[]\n",
    "    for i in lst:\n",
    "        new=i.replace(',',\"\")\n",
    "        temp_crn.append(new)\n",
    "    temp_crn=[float(x) for x in temp_crn]\n",
    "    temp_crn=temp_crn[1931:1956]\n",
    "    temp_crn=np.cumsum(temp_crn)\n",
    "    #print(temp_crn)\n",
    "    # print(temp_crn[2124])"
   ]
  },
  {
   "cell_type": "code",
   "execution_count": 8,
   "id": "62a46873",
   "metadata": {},
   "outputs": [
    {
     "name": "stdout",
     "output_type": "stream",
     "text": [
      "[-0.762, -0.391, -1.2490000000000006, -2.1159999999999997, -0.8449999999999989, -0.34299999999999997, -1.200000000000001, 0.8330000000000002, 1.58, 1.607000000000001, 1.607000000000001, 1.8110000000000017, 0.7110000000000021, 0.7120000000000033, 0.4860000000000042, 9.380000000000003, 9.380000000000003, 9.380000000000003, 9.380000000000003, 9.380000000000003, 9.380000000000003, 9.380000000000003, 9.382000000000001, 9.382000000000001, 9.385000000000002]\n"
     ]
    }
   ],
   "source": [
    "difference1_bat = []\n",
    "\n",
    "zip_object = zip(temp, temp_crn)\n",
    "for temp_i, temp_crn_i in zip_object:\n",
    "    difference1_bat.append(temp_i-temp_crn_i)\n",
    "\n",
    "print(difference1_bat)"
   ]
  },
  {
   "cell_type": "markdown",
   "id": "2a2589df",
   "metadata": {},
   "source": [
    "<font size=\"3\">Lafayette, LA: 1500 UTC 22 March 2022-1500 UTC 23 March 2022</font>"
   ]
  },
  {
   "cell_type": "code",
   "execution_count": 9,
   "id": "94433671",
   "metadata": {},
   "outputs": [
    {
     "name": "stdout",
     "output_type": "stream",
     "text": [
      "[0.0000e+00 0.0000e+00 0.0000e+00 8.0000e-03 7.4780e+00 3.0718e+01\n",
      " 3.6762e+01 3.6762e+01 3.6762e+01 3.6762e+01 3.6762e+01 3.6762e+01\n",
      " 3.6764e+01 3.6764e+01 3.6764e+01 3.6764e+01 3.6764e+01 3.6764e+01\n",
      " 3.6764e+01 3.6764e+01 3.6764e+01 3.6764e+01 3.6764e+01 3.6764e+01\n",
      " 3.6764e+01]\n"
     ]
    }
   ],
   "source": [
    "#12 hr hrrr:\n",
    "with open('hrrr_f12_Lafayette_LA.txt') as f:\n",
    "    lst=[line.split()[2] for line in f]\n",
    "    temp=[]\n",
    "    for i in lst:\n",
    "        new=i.replace(',',\"\")\n",
    "        temp.append(new)\n",
    "    temp.pop(0)\n",
    "    temp=[float(x) for x in temp]\n",
    "    temp=temp[1923:1948]\n",
    "    #temp=temp[2015:2063]\n",
    "    temp=np.cumsum(temp)\n",
    "    print(temp)\n",
    "#full time period is [2015:2112]"
   ]
  },
  {
   "cell_type": "code",
   "execution_count": 10,
   "id": "bfe1bb32",
   "metadata": {},
   "outputs": [],
   "source": [
    "#Air Temp CRN:\n",
    "with open('CRNH0203-2022-LA_Lafayette_13_SE.txt') as f:\n",
    "    lst=[line.split()[12] for line in f]\n",
    "    #print(lst)\n",
    "    temp_crn=[]\n",
    "    for i in lst:\n",
    "        new=i.replace(',',\"\")\n",
    "        temp_crn.append(new)\n",
    "    temp_crn=[float(x) for x in temp_crn]\n",
    "    temp_crn=temp_crn[1934:1959]\n",
    "    temp_crn=np.cumsum(temp_crn)\n",
    "    #print(temp_crn)\n",
    "    # print(temp_crn[2124])"
   ]
  },
  {
   "cell_type": "code",
   "execution_count": 11,
   "id": "9b94d0f9",
   "metadata": {},
   "outputs": [
    {
     "name": "stdout",
     "output_type": "stream",
     "text": [
      "[0.0, 0.0, 0.0, 0.008, 7.478, 7.617999999999995, 12.461999999999993, 12.461999999999993, 12.461999999999993, 12.461999999999993, 12.461999999999993, 12.461999999999993, 12.463999999999995, 12.463999999999995, 12.463999999999995, 12.463999999999995, 12.463999999999995, 12.463999999999995, 12.463999999999995, 12.463999999999995, 12.463999999999995, 12.463999999999995, 12.463999999999995, 12.463999999999995, 12.463999999999995]\n"
     ]
    }
   ],
   "source": [
    "difference1_laf = []\n",
    "\n",
    "zip_object = zip(temp, temp_crn)\n",
    "for temp_i, temp_crn_i in zip_object:\n",
    "    difference1_laf.append(temp_i-temp_crn_i)\n",
    "\n",
    "print(difference1_laf)"
   ]
  },
  {
   "cell_type": "markdown",
   "id": "7a8d079f",
   "metadata": {},
   "source": [
    "<font size=\"3\">Monroe, LA: 1500 UTC 22 March 2022-1500 UTC 23 March 2022</font>"
   ]
  },
  {
   "cell_type": "code",
   "execution_count": 12,
   "id": "821d447a",
   "metadata": {},
   "outputs": [
    {
     "name": "stdout",
     "output_type": "stream",
     "text": [
      "[ 3.221 10.496 15.125 20.29  20.369 20.37  20.37  20.37  20.37  20.37\n",
      " 20.592 21.28  21.29  21.29  21.296 21.306 21.321 21.34  21.34  21.34\n",
      " 21.341 21.341 21.342 21.342 21.347]\n"
     ]
    }
   ],
   "source": [
    "#12 hr hrrr:\n",
    "with open('hrrr_f12_Monroe_LA.txt') as f:\n",
    "    lst=[line.split()[2] for line in f]\n",
    "    temp=[]\n",
    "    for i in lst:\n",
    "        new=i.replace(',',\"\")\n",
    "        temp.append(new)\n",
    "    temp.pop(0)\n",
    "    temp=[float(x) for x in temp]\n",
    "    temp=temp[1923:1948]\n",
    "    #temp=temp[2015:2063]\n",
    "    temp=np.cumsum(temp)\n",
    "    print(temp)\n",
    "#full time period is [2015:2112]"
   ]
  },
  {
   "cell_type": "code",
   "execution_count": 13,
   "id": "5c3999a7",
   "metadata": {},
   "outputs": [],
   "source": [
    "#Air Temp CRN:\n",
    "with open('CRNH0203-2022-LA_Monroe_26_N.txt') as f:\n",
    "    lst=[line.split()[12] for line in f]\n",
    "    #print(lst)\n",
    "    temp_crn=[]\n",
    "    for i in lst:\n",
    "        new=i.replace(',',\"\")\n",
    "        temp_crn.append(new)\n",
    "    temp_crn=[float(x) for x in temp_crn]\n",
    "    temp_crn=temp_crn[1934:1959]\n",
    "    temp_crn=np.cumsum(temp_crn)\n",
    "    #print(temp_crn)\n",
    "    # print(temp_crn[2124])"
   ]
  },
  {
   "cell_type": "code",
   "execution_count": 14,
   "id": "2b4e383a",
   "metadata": {},
   "outputs": [
    {
     "name": "stdout",
     "output_type": "stream",
     "text": [
      "[-5.978999999999999, -3.703999999999999, -7.375, -8.510000000000002, -8.731000000000002, -8.73, -8.73, -8.73, -8.73, -8.73, -8.508, -7.82, -7.809999999999999, -7.809999999999999, -7.8039999999999985, -7.793999999999997, -7.778999999999996, -7.759999999999998, -7.759999999999998, -7.759999999999998, -7.758999999999997, -7.758999999999997, -7.757999999999996, -7.757999999999996, -7.752999999999997]\n"
     ]
    }
   ],
   "source": [
    "difference1_mon = []\n",
    "\n",
    "zip_object = zip(temp, temp_crn)\n",
    "for temp_i, temp_crn_i in zip_object:\n",
    "    difference1_mon.append(temp_i-temp_crn_i)\n",
    "\n",
    "print(difference1_mon)"
   ]
  },
  {
   "cell_type": "markdown",
   "id": "26c585ff",
   "metadata": {},
   "source": [
    "<font size=\"3\">Holly Springs, MS: 1800 UTC 22 March 2022-1800 UTC 23 March 2022</font>"
   ]
  },
  {
   "cell_type": "code",
   "execution_count": 15,
   "id": "4504c8c6",
   "metadata": {},
   "outputs": [
    {
     "name": "stdout",
     "output_type": "stream",
     "text": [
      "[3.0000e-03 6.0000e-03 2.0595e+01 3.8752e+01 4.4081e+01 5.0746e+01\n",
      " 5.2160e+01 5.2160e+01 5.2161e+01 5.2170e+01 5.2170e+01 5.2171e+01\n",
      " 5.2277e+01 5.2395e+01 5.2397e+01 5.2422e+01 5.2430e+01 5.2437e+01\n",
      " 5.2437e+01 5.2437e+01 5.2440e+01 5.2440e+01 5.2446e+01 5.2471e+01\n",
      " 5.2513e+01]\n"
     ]
    }
   ],
   "source": [
    "#12 hr hrrr:\n",
    "with open('hrrr_f12_Holly Springs_MS.txt') as f:\n",
    "    lst=[line.split()[2] for line in f]\n",
    "    temp=[]\n",
    "    for i in lst:\n",
    "        new=i.replace(',',\"\")\n",
    "        temp.append(new)\n",
    "    temp.pop(0)\n",
    "    temp=[float(x) for x in temp]\n",
    "    temp=temp[1926:1951]\n",
    "    #temp=temp[2015:2063]\n",
    "    temp=np.cumsum(temp)\n",
    "    print(temp)\n",
    "#full time period is [2015:2112]"
   ]
  },
  {
   "cell_type": "code",
   "execution_count": 16,
   "id": "19a3055f",
   "metadata": {},
   "outputs": [],
   "source": [
    "#Air Temp CRN:\n",
    "with open('CRNH0203-2022-MS_Holly_Springs_4_N.txt') as f:\n",
    "    lst=[line.split()[12] for line in f]\n",
    "    #print(lst)\n",
    "    temp_crn=[]\n",
    "    for i in lst:\n",
    "        new=i.replace(',',\"\")\n",
    "        temp_crn.append(new)\n",
    "    temp_crn=[float(x) for x in temp_crn]\n",
    "    temp_crn=temp_crn[1937:1962]\n",
    "    temp_crn=np.cumsum(temp_crn)\n",
    "    #print(temp_crn)\n",
    "    # print(temp_crn[2124])"
   ]
  },
  {
   "cell_type": "code",
   "execution_count": 17,
   "id": "46b095cb",
   "metadata": {},
   "outputs": [
    {
     "name": "stdout",
     "output_type": "stream",
     "text": [
      "[-0.197, -5.094, -0.8050000000000033, 10.151999999999994, 12.980999999999995, 19.345999999999993, 20.759999999999994, 20.759999999999994, 20.760999999999992, 20.769999999999992, 20.769999999999992, 20.77099999999999, 20.876999999999992, 20.994999999999994, 20.996999999999996, 21.021999999999995, 21.029999999999998, 21.036999999999995, 21.036999999999995, 21.036999999999995, 21.039999999999996, 21.039999999999996, 21.045999999999996, 21.070999999999994, 21.112999999999996]\n"
     ]
    }
   ],
   "source": [
    "difference1_hol = []\n",
    "\n",
    "zip_object = zip(temp, temp_crn)\n",
    "for temp_i, temp_crn_i in zip_object:\n",
    "    difference1_hol.append(temp_i-temp_crn_i)\n",
    "\n",
    "print(difference1_hol)"
   ]
  },
  {
   "cell_type": "markdown",
   "id": "1c76c308",
   "metadata": {},
   "source": [
    "<font size=\"3\">Newton, MS: 1800 UTC 22 March 2022-1800 UTC 23 March 2022</font>"
   ]
  },
  {
   "cell_type": "code",
   "execution_count": 18,
   "id": "a6fc5b55",
   "metadata": {},
   "outputs": [
    {
     "name": "stdout",
     "output_type": "stream",
     "text": [
      "[ 4.916  5.748 16.862 16.896 18.941 18.948 19.104 25.372 32.546 32.58\n",
      " 32.58  32.58  32.58  32.58  32.609 32.609 32.609 32.609 32.609 32.609\n",
      " 32.609 32.609 32.609 32.609 32.609]\n"
     ]
    }
   ],
   "source": [
    "#12 hr hrrr:\n",
    "with open('hrrr_f12_Newton_MS.txt') as f:\n",
    "    lst=[line.split()[2] for line in f]\n",
    "    temp=[]\n",
    "    for i in lst:\n",
    "        new=i.replace(',',\"\")\n",
    "        temp.append(new)\n",
    "    temp.pop(0)\n",
    "    temp=[float(x) for x in temp]\n",
    "    temp=temp[1926:1951]\n",
    "    #temp=temp[2015:2063]\n",
    "    temp=np.cumsum(temp)\n",
    "    print(temp)\n",
    "#full time period is [2015:2112]"
   ]
  },
  {
   "cell_type": "code",
   "execution_count": 19,
   "id": "3fb09a0f",
   "metadata": {},
   "outputs": [],
   "source": [
    "#Air Temp CRN:\n",
    "with open('CRNH0203-2022-MS_Newton_5_ENE.txt') as f:\n",
    "    lst=[line.split()[12] for line in f]\n",
    "    #print(lst)\n",
    "    temp_crn=[]\n",
    "    for i in lst:\n",
    "        new=i.replace(',',\"\")\n",
    "        temp_crn.append(new)\n",
    "    temp_crn=[float(x) for x in temp_crn]\n",
    "    temp_crn=temp_crn[1937:1962]\n",
    "    temp_crn=np.cumsum(temp_crn)\n",
    "    #print(temp_crn)\n",
    "    # print(temp_crn[2124])"
   ]
  },
  {
   "cell_type": "code",
   "execution_count": 20,
   "id": "e588ab70",
   "metadata": {},
   "outputs": [
    {
     "name": "stdout",
     "output_type": "stream",
     "text": [
      "[4.916, 5.448, 14.262000000000002, -18.204, -40.759, -54.452, -62.896, -60.227999999999994, -56.05399999999999, -57.51999999999999, -57.51999999999999, -57.51999999999999, -57.51999999999999, -57.51999999999999, -57.490999999999985, -57.490999999999985, -57.490999999999985, -57.490999999999985, -57.490999999999985, -57.490999999999985, -57.490999999999985, -57.490999999999985, -57.490999999999985, -57.490999999999985, -57.490999999999985]\n"
     ]
    }
   ],
   "source": [
    "difference1_new = []\n",
    "\n",
    "zip_object = zip(temp, temp_crn)\n",
    "for temp_i, temp_crn_i in zip_object:\n",
    "    difference1_new.append(temp_i-temp_crn_i)\n",
    "\n",
    "print(difference1_new)"
   ]
  },
  {
   "cell_type": "markdown",
   "id": "c9620694",
   "metadata": {},
   "source": [
    "<font size=\"3\">Gainesville, AL: 2200 UTC 22 March 2022-2200 UTC 23 March 2022</font>"
   ]
  },
  {
   "cell_type": "code",
   "execution_count": 21,
   "id": "038fabb5",
   "metadata": {},
   "outputs": [
    {
     "name": "stdout",
     "output_type": "stream",
     "text": [
      "[ 5.362  6.041  6.158  7.299 10.02  13.871 17.492 17.549 17.585 17.585\n",
      " 17.585 17.585 17.585 17.585 17.585 17.585 17.585 17.585 17.585 17.585\n",
      " 17.585 17.585 17.585 17.585 17.585]\n"
     ]
    }
   ],
   "source": [
    "#12 hr hrrr:\n",
    "with open('hrrr_f12_Gainesville_AL.txt') as f:\n",
    "    lst=[line.split()[2] for line in f]\n",
    "    temp=[]\n",
    "    for i in lst:\n",
    "        new=i.replace(',',\"\")\n",
    "        temp.append(new)\n",
    "    temp.pop(0)\n",
    "    temp=[float(x) for x in temp]\n",
    "    temp=temp[1930:1955]\n",
    "    #temp=temp[2015:2063]\n",
    "    temp=np.cumsum(temp)\n",
    "    print(temp)\n",
    "#full time period is [2015:2112]"
   ]
  },
  {
   "cell_type": "code",
   "execution_count": 22,
   "id": "2c97e541",
   "metadata": {},
   "outputs": [],
   "source": [
    "#Air Temp CRN:\n",
    "with open('CRNH0203-2022-AL_Gainesville_2_NE.txt') as f:\n",
    "    lst=[line.split()[12] for line in f]\n",
    "    #print(lst)\n",
    "    temp_crn=[]\n",
    "    for i in lst:\n",
    "        new=i.replace(',',\"\")\n",
    "        temp_crn.append(new)\n",
    "    temp_crn=[float(x) for x in temp_crn]\n",
    "    temp_crn=temp_crn[1941:1966]\n",
    "    temp_crn=np.cumsum(temp_crn)\n",
    "    #print(temp_crn)\n",
    "    # print(temp_crn[2124])"
   ]
  },
  {
   "cell_type": "code",
   "execution_count": 23,
   "id": "8df76a7b",
   "metadata": {},
   "outputs": [
    {
     "name": "stdout",
     "output_type": "stream",
     "text": [
      "[-0.1379999999999999, -39.059, -66.942, -79.60099999999998, -83.58, -80.229, -76.608, -76.551, -76.815, -76.815, -76.815, -76.815, -76.815, -76.815, -76.815, -76.815, -76.815, -76.815, -76.815, -76.815, -76.815, -76.815, -76.815, -76.815, -76.815]\n"
     ]
    }
   ],
   "source": [
    "difference1_gai = []\n",
    "\n",
    "zip_object = zip(temp, temp_crn)\n",
    "for temp_i, temp_crn_i in zip_object:\n",
    "    difference1_gai.append(temp_i-temp_crn_i)\n",
    "\n",
    "print(difference1_gai)"
   ]
  },
  {
   "cell_type": "markdown",
   "id": "2711dc15",
   "metadata": {},
   "source": [
    "<font size=\"3\">Fairhope, AL: 2200 UTC 22 March 2022-2200 UTC 23 March 2022</font>"
   ]
  },
  {
   "cell_type": "code",
   "execution_count": 24,
   "id": "b97b4753",
   "metadata": {},
   "outputs": [
    {
     "name": "stdout",
     "output_type": "stream",
     "text": [
      "[0.183 0.568 0.69  1.024 1.347 4.711 4.725 4.747 6.904 6.934 6.934 6.934\n",
      " 6.934 6.934 6.934 6.934 6.934 6.934 6.934 6.934 6.934 6.934 6.934 6.934\n",
      " 6.934]\n"
     ]
    }
   ],
   "source": [
    "#12 hr hrrr:\n",
    "with open('hrrr_f12_Fairhope_AL.txt') as f:\n",
    "    lst=[line.split()[2] for line in f]\n",
    "    temp=[]\n",
    "    for i in lst:\n",
    "        new=i.replace(',',\"\")\n",
    "        temp.append(new)\n",
    "    temp.pop(0)\n",
    "    temp=[float(x) for x in temp]\n",
    "    temp=temp[1930:1955]\n",
    "    #temp=temp[2015:2063]\n",
    "    temp=np.cumsum(temp)\n",
    "    print(temp)\n",
    "#full time period is [2015:2112]"
   ]
  },
  {
   "cell_type": "code",
   "execution_count": 25,
   "id": "4df09785",
   "metadata": {},
   "outputs": [],
   "source": [
    "#Air Temp CRN:\n",
    "with open('CRNH0203-2022-AL_Fairhope_3_NE.txt') as f:\n",
    "    lst=[line.split()[12] for line in f]\n",
    "    #print(lst)\n",
    "    temp_crn=[]\n",
    "    for i in lst:\n",
    "        new=i.replace(',',\"\")\n",
    "        temp_crn.append(new)\n",
    "    temp_crn=[float(x) for x in temp_crn]\n",
    "    temp_crn=temp_crn[1941:1966]\n",
    "    temp_crn=np.cumsum(temp_crn)\n",
    "    #print(temp_crn)\n",
    "    # print(temp_crn[2124])"
   ]
  },
  {
   "cell_type": "code",
   "execution_count": 26,
   "id": "a9ff3306",
   "metadata": {},
   "outputs": [
    {
     "name": "stdout",
     "output_type": "stream",
     "text": [
      "[0.183, 0.5680000000000001, 0.6900000000000001, 1.024, 1.347, 1.9110000000000005, -0.6749999999999998, -1.4529999999999994, -14.296, -19.365999999999996, -19.665999999999997, -19.665999999999997, -19.665999999999997, -19.665999999999997, -19.665999999999997, -19.665999999999997, -19.665999999999997, -19.665999999999997, -19.665999999999997, -19.665999999999997, -19.665999999999997, -19.665999999999997, -19.665999999999997, -19.665999999999997, -19.665999999999997]\n"
     ]
    }
   ],
   "source": [
    "difference1_fai = []\n",
    "\n",
    "zip_object = zip(temp, temp_crn)\n",
    "for temp_i, temp_crn_i in zip_object:\n",
    "    difference1_fai.append(temp_i-temp_crn_i)\n",
    "\n",
    "print(difference1_fai)"
   ]
  },
  {
   "cell_type": "markdown",
   "id": "f5dd4e4b",
   "metadata": {},
   "source": [
    "<font size=\"3\">**Selma, AL: 2200 UTC 22 March 2022-2200 UTC 23 March 2022</font>"
   ]
  },
  {
   "cell_type": "code",
   "execution_count": 27,
   "id": "af6b46b1",
   "metadata": {},
   "outputs": [
    {
     "name": "stdout",
     "output_type": "stream",
     "text": [
      "[0.0, 0.942, 1.384, 1.386, 0.22299999999999986, -6.644, -6.549, -40.048, -60.275000000000006, -59.99000000000001, -59.84400000000001, -59.91000000000001, -59.909000000000006, -59.909000000000006, -59.909000000000006, -59.909000000000006, -59.909000000000006, -59.909000000000006, -59.909000000000006, -59.909000000000006, -59.909000000000006, -59.909000000000006, -59.909000000000006, -59.909000000000006, -59.909000000000006]\n",
      "25\n"
     ]
    }
   ],
   "source": [
    "#1 hr hrrr:\n",
    "import numpy as np\n",
    "import numpy.ma as ma\n",
    "#12 hr hrrr:\n",
    "with open('hrrr_f12_Selma_AL.txt') as f:\n",
    "    lst=[line.split()[2] for line in f]\n",
    "    temp=[]\n",
    "    for i in lst:\n",
    "        new=i.replace(',',\"\")\n",
    "        temp.append(new)\n",
    "    temp.pop(0)\n",
    "    temp=[float(x) for x in temp]\n",
    "    temp=temp[1930:1955]\n",
    "\n",
    "#     x = np.array(temp)\n",
    "#     temp = ma.masked_array(x, mask=[0, 0, 0, 0, 0,0,0,0,0,0,0,0,0,0,0,0,0,1,1,1,1,0,0,0,0])\n",
    "    #temp=np.cumsum(temp)\n",
    "#Air Temp CRN:\n",
    "with open('CRNH0203-2022-AL_Selma_13_WNW.txt') as f:\n",
    "    lst=[line.split()[12] for line in f]\n",
    "    #print(lst)\n",
    "    temp_crn=[]\n",
    "    for i in lst:\n",
    "        new=i.replace(',',\"\")\n",
    "        temp_crn.append(new)\n",
    "    temp_crn=[float(x) for x in temp_crn]\n",
    "    temp_crn=temp_crn[1941:1966]\n",
    "#     y = np.array(temp_crn)\n",
    "#     temp_crn = ma.masked_array(y, mask=[0, 0, 0, 0, 0,0,0,0,0,0,0,0,0,0,0,0,0,1,1,1,1,0,0,0,0])\n",
    "    temp=np.cumsum(temp)\n",
    "    #print(temp)\n",
    "    temp_crn=np.cumsum(temp_crn)\n",
    "    #print(temp_crn)\n",
    "#full time period is [2015:2112]\n",
    "difference1_sel = []\n",
    "\n",
    "zip_object = zip(temp, temp_crn)\n",
    "for temp_i, temp_crn_i in zip_object:\n",
    "    difference1_sel.append(temp_i-temp_crn_i)\n",
    "\n",
    "print(difference1_sel)\n",
    "print(len(difference1_sel))"
   ]
  },
  {
   "cell_type": "code",
   "execution_count": 28,
   "id": "6fc35c65",
   "metadata": {},
   "outputs": [],
   "source": [
    "# import numpy as np\n",
    "# import numpy.ma as ma\n",
    "# x = np.array(temp_crn)\n",
    "# crnsel = ma.masked_array(x, mask=[0, 0, 0, 0, 0,0,0,0,0,0,0,0,0,0,0,0,0,1,1,1,1,0,0,0,0])\n",
    "# print(crnsel)\n",
    "# crnsel.mean()"
   ]
  },
  {
   "cell_type": "code",
   "execution_count": 29,
   "id": "fc41a8e0",
   "metadata": {},
   "outputs": [],
   "source": [
    "# temp[17]=0\n",
    "# temp[18]=0\n",
    "# temp[19]=0\n",
    "# temp[20]=0\n",
    "\n",
    "# temp_crn[17]=0\n",
    "# temp_crn[18]=0\n",
    "# temp_crn[19]=0\n",
    "# temp_crn[20]=0\n",
    "\n",
    "# difference1_sel[17]=0\n",
    "# difference1_sel[18]=0\n",
    "# difference1_sel[19]=0\n",
    "# difference1_sel[20]=0\n",
    "# temp=np.cumsum(temp)\n",
    "# temp_crn=np.cumsum(temp_crn)\n",
    "# print(difference1_sel)\n"
   ]
  },
  {
   "cell_type": "markdown",
   "id": "8fab4bdc",
   "metadata": {},
   "source": [
    "<font size=\"3\">Bowling Green, KY: 2300 UTC 22 March 2022-2300 UTC 23 March 2022</font>"
   ]
  },
  {
   "cell_type": "code",
   "execution_count": 30,
   "id": "ce9bcf66",
   "metadata": {},
   "outputs": [
    {
     "name": "stdout",
     "output_type": "stream",
     "text": [
      "[ 0.     0.123  2.246  5.1    8.146 10.929 12.436 12.436 12.461 13.154\n",
      " 14.504 14.507 14.507 14.507 14.509 14.592 14.592 16.052 16.455 17.302\n",
      " 17.311 17.315 17.336 17.488 17.511]\n"
     ]
    }
   ],
   "source": [
    "#12 hr hrrr:\n",
    "with open('hrrr_f12_Bowling Green_KY.txt') as f:\n",
    "    lst=[line.split()[2] for line in f]\n",
    "    temp=[]\n",
    "    for i in lst:\n",
    "        new=i.replace(',',\"\")\n",
    "        temp.append(new)\n",
    "    temp.pop(0)\n",
    "    temp=[float(x) for x in temp]\n",
    "    temp=temp[1931:1956]\n",
    "    #temp=temp[2015:2063]\n",
    "    temp=np.cumsum(temp)\n",
    "    print(temp)\n",
    "#full time period is [2015:2112]"
   ]
  },
  {
   "cell_type": "code",
   "execution_count": 31,
   "id": "b9e25e31",
   "metadata": {},
   "outputs": [],
   "source": [
    "#Air Temp CRN:\n",
    "with open('CRNH0203-2022-KY_Bowling_Green_21_NNE.txt') as f:\n",
    "    lst=[line.split()[12] for line in f]\n",
    "    #print(lst)\n",
    "    temp_crn=[]\n",
    "    for i in lst:\n",
    "        new=i.replace(',',\"\")\n",
    "        temp_crn.append(new)\n",
    "    temp_crn=[float(x) for x in temp_crn]\n",
    "    temp_crn=temp_crn[1942:1967]\n",
    "    temp_crn=np.cumsum(temp_crn)\n",
    "    #print(temp_crn)\n",
    "    # print(temp_crn[2124])"
   ]
  },
  {
   "cell_type": "code",
   "execution_count": 32,
   "id": "c1e72531",
   "metadata": {},
   "outputs": [
    {
     "name": "stdout",
     "output_type": "stream",
     "text": [
      "[0.0, 0.123, 1.8460000000000005, 0.7000000000000002, 1.5460000000000003, 0.8289999999999988, -0.8640000000000008, -1.564, -1.5389999999999997, -0.8460000000000001, 0.5039999999999996, 0.5069999999999997, 0.5069999999999997, 0.5069999999999997, 0.5090000000000003, 0.5920000000000005, 0.5920000000000005, 1.5519999999999996, 1.9549999999999983, 2.8019999999999996, 2.811, 2.8150000000000013, 2.836000000000002, 2.988000000000003, 3.011000000000003]\n"
     ]
    }
   ],
   "source": [
    "difference1_bow = []\n",
    "\n",
    "zip_object = zip(temp, temp_crn)\n",
    "for temp_i, temp_crn_i in zip_object:\n",
    "    difference1_bow.append(temp_i-temp_crn_i)\n",
    "\n",
    "print(difference1_bow)"
   ]
  },
  {
   "cell_type": "markdown",
   "id": "d1be2cc0",
   "metadata": {},
   "source": [
    "<font size=\"3\">Gadsden, AL: 0100 UTC 23 March 2022-0100 UTC 24 March 2022</font>"
   ]
  },
  {
   "cell_type": "code",
   "execution_count": 33,
   "id": "6d2be172",
   "metadata": {},
   "outputs": [],
   "source": [
    "# #12 hr hrrr:\n",
    "# with open('hrrr_f12_Gadsden_AL.txt') as f:\n",
    "#     lst=[line.split()[2] for line in f]\n",
    "#     temp=[]\n",
    "#     for i in lst:\n",
    "#         new=i.replace(',',\"\")\n",
    "#         temp.append(new)\n",
    "#     temp.pop(0)\n",
    "#     temp=[float(x) for x in temp]\n",
    "#     temp=temp[1933:1958]\n",
    "#     #temp=temp[2015:2063]\n",
    "#     temp=np.cumsum(temp)\n",
    "#     print(temp)\n",
    "# #full time period is [2015:2112]"
   ]
  },
  {
   "cell_type": "code",
   "execution_count": 34,
   "id": "eb5f934d",
   "metadata": {},
   "outputs": [],
   "source": [
    "# #Air Temp CRN:\n",
    "# with open('CRNH0203-2022-AL_Gadsden_19_N.txt') as f:\n",
    "#     lst=[line.split()[12] for line in f]\n",
    "#     #print(lst)\n",
    "#     temp_crn=[]\n",
    "#     for i in lst:\n",
    "#         new=i.replace(',',\"\")\n",
    "#         temp_crn.append(new)\n",
    "#     temp_crn=[float(x) for x in temp_crn]\n",
    "#     temp_crn=temp_crn[1944:1969]\n",
    "#     temp_crn=np.cumsum(temp_crn)\n",
    "#     #print(temp_crn)\n",
    "#     # print(temp_crn[2124])"
   ]
  },
  {
   "cell_type": "code",
   "execution_count": 35,
   "id": "c002ac76",
   "metadata": {},
   "outputs": [],
   "source": [
    "# difference1_gad = []\n",
    "\n",
    "# zip_object = zip(temp, temp_crn)\n",
    "# for temp_i, temp_crn_i in zip_object:\n",
    "#     difference1_gad.append(temp_i-temp_crn_i)\n",
    "\n",
    "# print(difference1_gad)"
   ]
  },
  {
   "cell_type": "markdown",
   "id": "d430f7c6",
   "metadata": {},
   "source": [
    "<font size=\"3\">Newton, GA: 0900 UTC 23 March 2022-0900 UTC 24 March 2022</font>"
   ]
  },
  {
   "cell_type": "code",
   "execution_count": 36,
   "id": "25095753",
   "metadata": {},
   "outputs": [
    {
     "name": "stdout",
     "output_type": "stream",
     "text": [
      "[ 0.03   2.463  3.872  9.221 11.006 18.119 22.989 24.368 24.886 24.886\n",
      " 24.887 24.887 24.887 24.887 24.887 24.887 24.887 24.887 24.887 24.887\n",
      " 24.887 24.887 24.887 24.887 24.92 ]\n"
     ]
    }
   ],
   "source": [
    "#12 hr hrrr:\n",
    "with open('hrrr_f12_Newton_GA.txt') as f:\n",
    "    lst=[line.split()[2] for line in f]\n",
    "    temp=[]\n",
    "    for i in lst:\n",
    "        new=i.replace(',',\"\")\n",
    "        temp.append(new)\n",
    "    temp.pop(0)\n",
    "    temp=[float(x) for x in temp]\n",
    "    temp=temp[1941:1966]\n",
    "    #temp=temp[2015:2063]\n",
    "    temp=np.cumsum(temp)\n",
    "    print(temp)\n",
    "#full time period is [2015:2112]"
   ]
  },
  {
   "cell_type": "code",
   "execution_count": 37,
   "id": "9851cf85",
   "metadata": {},
   "outputs": [],
   "source": [
    "#Air Temp CRN:\n",
    "with open('CRNH0203-2022-GA_Newton_11_SW.txt') as f:\n",
    "    lst=[line.split()[12] for line in f]\n",
    "    #print(lst)\n",
    "    temp_crn=[]\n",
    "    for i in lst:\n",
    "        new=i.replace(',',\"\")\n",
    "        temp_crn.append(new)\n",
    "    temp_crn=[float(x) for x in temp_crn]\n",
    "    temp_crn=temp_crn[1952:1977]\n",
    "    temp_crn=np.cumsum(temp_crn)\n",
    "    #print(temp_crn)\n",
    "    # print(temp_crn[2124])"
   ]
  },
  {
   "cell_type": "code",
   "execution_count": 38,
   "id": "f2141c03",
   "metadata": {},
   "outputs": [
    {
     "name": "stdout",
     "output_type": "stream",
     "text": [
      "[0.03, 1.7629999999999997, 0.9719999999999995, 4.721, 6.306, 13.419, 18.289, 19.668000000000003, 20.186000000000003, 20.186000000000003, 20.187000000000005, 20.187000000000005, 20.187000000000005, 20.187000000000005, 20.187000000000005, 20.187000000000005, 20.187000000000005, 20.187000000000005, 20.187000000000005, 20.187000000000005, 20.187000000000005, 20.187000000000005, 20.187000000000005, 20.187000000000005, 20.220000000000006]\n"
     ]
    }
   ],
   "source": [
    "difference1_newt = []\n",
    "\n",
    "zip_object = zip(temp, temp_crn)\n",
    "for temp_i, temp_crn_i in zip_object:\n",
    "    difference1_newt.append(temp_i-temp_crn_i)\n",
    "\n",
    "print(difference1_newt)"
   ]
  },
  {
   "cell_type": "markdown",
   "id": "ab4663ab",
   "metadata": {},
   "source": [
    "<font size=\"3\">Salem, MO: 1300 UTC 30 March 2022-1300 UTC 31 March 2022</font>"
   ]
  },
  {
   "cell_type": "code",
   "execution_count": 39,
   "id": "ede1cb39",
   "metadata": {},
   "outputs": [
    {
     "name": "stdout",
     "output_type": "stream",
     "text": [
      "[ 0.891  3.161 17.939 37.004 48.857 59.848 64.78  66.746 69.752 73.234\n",
      " 73.281 73.364 73.54  73.711 73.724 73.869 73.91  73.931 73.939 73.939\n",
      " 73.959 73.965 73.965 74.008 74.008]\n"
     ]
    }
   ],
   "source": [
    "#12 hr hrrr:\n",
    "with open('hrrr_f12_Salem_MO.txt') as f:\n",
    "    lst=[line.split()[2] for line in f]\n",
    "    temp=[]\n",
    "    for i in lst:\n",
    "        new=i.replace(',',\"\")\n",
    "        temp.append(new)\n",
    "    temp.pop(0)\n",
    "    temp=[float(x) for x in temp]\n",
    "    temp=temp[2113:2138]\n",
    "    #temp=temp[2015:2063]\n",
    "    temp=np.cumsum(temp)\n",
    "    print(temp)\n",
    "#full time period is [2015:2112]"
   ]
  },
  {
   "cell_type": "code",
   "execution_count": 40,
   "id": "01b4011e",
   "metadata": {},
   "outputs": [
    {
     "name": "stdout",
     "output_type": "stream",
     "text": [
      "[ 0.  12.7 20.2 26.1 30.4 32.8 35.  36.7 39.  40.8 43.1 45.1 47.3 48.1\n",
      " 48.4 48.4 48.4 48.4 48.4 48.4 48.4 48.4 48.4 48.4 48.4]\n"
     ]
    }
   ],
   "source": [
    "#Air Temp CRN:\n",
    "with open('CRNH0203-2022-MO_Salem_10_W.txt') as f:\n",
    "    lst=[line.split()[12] for line in f]\n",
    "    #print(lst)\n",
    "    temp_crn=[]\n",
    "    for i in lst:\n",
    "        new=i.replace(',',\"\")\n",
    "        temp_crn.append(new)\n",
    "    temp_crn=[float(x) for x in temp_crn]\n",
    "    temp_crn=temp_crn[2124:2149]\n",
    "    temp_crn=np.cumsum(temp_crn)\n",
    "    print(temp_crn)\n",
    "    # print(temp_crn[2124])"
   ]
  },
  {
   "cell_type": "code",
   "execution_count": 41,
   "id": "80548ed7",
   "metadata": {},
   "outputs": [
    {
     "name": "stdout",
     "output_type": "stream",
     "text": [
      "25\n"
     ]
    }
   ],
   "source": [
    "hour=[]\n",
    "for i in range(-12,13,1):\n",
    "    hour.append(i)\n",
    "    i+=1\n",
    "print(len(hour))"
   ]
  },
  {
   "cell_type": "code",
   "execution_count": 42,
   "id": "e426b6a3",
   "metadata": {},
   "outputs": [
    {
     "name": "stdout",
     "output_type": "stream",
     "text": [
      "[0.891, -9.539, -2.2609999999999992, 10.904000000000003, 18.457000000000004, 27.048000000000002, 29.779999999999994, 30.045999999999985, 30.75199999999999, 32.43399999999999, 30.18099999999999, 28.26399999999999, 26.239999999999988, 25.610999999999997, 25.324000000000005, 25.469, 25.509999999999998, 25.531, 25.538999999999994, 25.538999999999994, 25.55899999999999, 25.56499999999999, 25.56499999999999, 25.607999999999997, 25.607999999999997]\n"
     ]
    }
   ],
   "source": [
    "difference2_sal = []\n",
    "\n",
    "zip_object = zip(temp, temp_crn)\n",
    "for temp_i, temp_crn_i in zip_object:\n",
    "    difference2_sal.append(temp_i-temp_crn_i)\n",
    "\n",
    "print(difference2_sal)"
   ]
  },
  {
   "cell_type": "markdown",
   "id": "e17a19ca",
   "metadata": {},
   "source": [
    "<font size=\"3\">Batesville, AR: 1300 UTC 30 March 2022-1300 UTC 31 March 2022</font>"
   ]
  },
  {
   "cell_type": "code",
   "execution_count": 43,
   "id": "382cdc03",
   "metadata": {},
   "outputs": [
    {
     "name": "stdout",
     "output_type": "stream",
     "text": [
      "[2.3000e-02 4.2000e-02 3.8000e-01 8.3500e-01 2.0580e+00 3.8540e+00\n",
      " 1.6922e+01 2.0045e+01 2.4687e+01 2.4744e+01 2.5073e+01 2.5139e+01\n",
      " 2.5139e+01 2.5139e+01 2.5139e+01 2.5139e+01 2.5139e+01 2.5139e+01\n",
      " 2.5139e+01 2.5139e+01 2.5139e+01 2.5139e+01 2.5139e+01 2.5139e+01\n",
      " 2.5139e+01]\n"
     ]
    }
   ],
   "source": [
    "#12 hr hrrr:\n",
    "with open('hrrr_f12_Batesville_AR.txt') as f:\n",
    "    lst=[line.split()[2] for line in f]\n",
    "    temp=[]\n",
    "    for i in lst:\n",
    "        new=i.replace(',',\"\")\n",
    "        temp.append(new)\n",
    "    temp.pop(0)\n",
    "    temp=[float(x) for x in temp]\n",
    "    temp=temp[2113:2138]\n",
    "    #temp=temp[2015:2063]\n",
    "    temp=np.cumsum(temp)\n",
    "    print(temp)\n",
    "#full time period is [2015:2112]"
   ]
  },
  {
   "cell_type": "code",
   "execution_count": 44,
   "id": "2dcc93c0",
   "metadata": {},
   "outputs": [
    {
     "name": "stdout",
     "output_type": "stream",
     "text": [
      "[ 0.   0.   0.   0.   1.1  7.  12.4 16.3 21.9 24.3 24.3 24.3 25.  25.\n",
      " 25.  25.  25.  25.  25.  25.  25.  25.  25.  25.  25. ]\n"
     ]
    }
   ],
   "source": [
    "#Air Temp CRN:\n",
    "with open('CRNH0203-2022-AR_Batesville_8_WNW.txt') as f:\n",
    "    lst=[line.split()[12] for line in f]\n",
    "    #print(lst)\n",
    "    temp_crn=[]\n",
    "    for i in lst:\n",
    "        new=i.replace(',',\"\")\n",
    "        temp_crn.append(new)\n",
    "    temp_crn=[float(x) for x in temp_crn]\n",
    "    temp_crn=temp_crn[2124:2149]\n",
    "    temp_crn=np.cumsum(temp_crn)\n",
    "    print(temp_crn)\n",
    "    # print(temp_crn[2124])"
   ]
  },
  {
   "cell_type": "code",
   "execution_count": 45,
   "id": "12f91aa0",
   "metadata": {},
   "outputs": [
    {
     "name": "stdout",
     "output_type": "stream",
     "text": [
      "[0.023, 0.041999999999999996, 0.38, 0.835, 0.9579999999999997, -3.146, 4.522, 3.745000000000001, 2.7870000000000026, 0.4440000000000026, 0.7730000000000032, 0.8390000000000022, 0.1390000000000029, 0.1390000000000029, 0.1390000000000029, 0.1390000000000029, 0.1390000000000029, 0.1390000000000029, 0.1390000000000029, 0.1390000000000029, 0.1390000000000029, 0.1390000000000029, 0.1390000000000029, 0.1390000000000029, 0.1390000000000029]\n"
     ]
    }
   ],
   "source": [
    "difference2_bat = []\n",
    "\n",
    "zip_object = zip(temp, temp_crn)\n",
    "for temp_i, temp_crn_i in zip_object:\n",
    "    difference2_bat.append(temp_i-temp_crn_i)\n",
    "\n",
    "print(difference2_bat)"
   ]
  },
  {
   "cell_type": "markdown",
   "id": "0b95ca71",
   "metadata": {},
   "source": [
    "<font size=\"3\">Lafayette, LA: 1700 UTC 30 March 2022-1700 UTC 31 March 2022</font>"
   ]
  },
  {
   "cell_type": "code",
   "execution_count": 46,
   "id": "3617c9ac",
   "metadata": {},
   "outputs": [
    {
     "name": "stdout",
     "output_type": "stream",
     "text": [
      "[0.    0.    0.007 0.077 3.923 4.407 4.411 4.412 4.412 4.412 4.412 4.412\n",
      " 4.412 4.412 4.412 4.412 4.412 4.412 4.412 4.412 4.412 4.412 4.412 4.412\n",
      " 4.412]\n"
     ]
    }
   ],
   "source": [
    "#12 hr hrrr:\n",
    "with open('hrrr_f12_Lafayette_LA.txt') as f:\n",
    "    lst=[line.split()[2] for line in f]\n",
    "    temp=[]\n",
    "    for i in lst:\n",
    "        new=i.replace(',',\"\")\n",
    "        temp.append(new)\n",
    "    temp.pop(0)\n",
    "    temp=[float(x) for x in temp]\n",
    "    temp=temp[2117:2142]\n",
    "    #temp=temp[2015:2063]\n",
    "    temp=np.cumsum(temp)\n",
    "    print(temp)\n",
    "#full time period is [2015:2112]"
   ]
  },
  {
   "cell_type": "code",
   "execution_count": 47,
   "id": "16943c4f",
   "metadata": {},
   "outputs": [],
   "source": [
    "#Air Temp CRN:\n",
    "with open('CRNH0203-2022-LA_Lafayette_13_SE.txt') as f:\n",
    "    lst=[line.split()[12] for line in f]\n",
    "    #print(lst)\n",
    "    temp_crn=[]\n",
    "    for i in lst:\n",
    "        new=i.replace(',',\"\")\n",
    "        temp_crn.append(new)\n",
    "    temp_crn=[float(x) for x in temp_crn]\n",
    "    temp_crn=temp_crn[2128:2153]\n",
    "    temp_crn=np.cumsum(temp_crn)\n",
    "    #print(temp_crn)\n",
    "    # print(temp_crn[2124])"
   ]
  },
  {
   "cell_type": "code",
   "execution_count": 48,
   "id": "ad9e49f7",
   "metadata": {},
   "outputs": [
    {
     "name": "stdout",
     "output_type": "stream",
     "text": [
      "[0.0, 0.0, 0.007, 0.07700000000000001, 3.923, -19.093, -19.589, -19.588, -19.588, -19.588, -19.588, -19.588, -19.588, -19.588, -19.588, -19.588, -19.588, -19.588, -19.588, -19.588, -19.588, -19.588, -19.588, -19.588, -19.588]\n"
     ]
    }
   ],
   "source": [
    "difference2_laf = []\n",
    "\n",
    "zip_object = zip(temp, temp_crn)\n",
    "for temp_i, temp_crn_i in zip_object:\n",
    "    difference2_laf.append(temp_i-temp_crn_i)\n",
    "\n",
    "print(difference2_laf)"
   ]
  },
  {
   "cell_type": "markdown",
   "id": "5bdd017c",
   "metadata": {},
   "source": [
    "<font size=\"3\">Monroe, LA: 1700 UTC 30 March 2022-1700 UTC 31 March 2022</font>"
   ]
  },
  {
   "cell_type": "code",
   "execution_count": 49,
   "id": "10e3c873",
   "metadata": {},
   "outputs": [
    {
     "name": "stdout",
     "output_type": "stream",
     "text": [
      "[2.7000e-02 3.2900e+00 2.0035e+01 2.3491e+01 2.4016e+01 2.4016e+01\n",
      " 2.4016e+01 2.4016e+01 2.4016e+01 2.7358e+01 2.7358e+01 2.7358e+01\n",
      " 2.7358e+01 2.7358e+01 2.7358e+01 2.7358e+01 2.7358e+01 2.7358e+01\n",
      " 2.7358e+01 2.7358e+01 2.7358e+01 2.7358e+01 2.7358e+01 2.7358e+01\n",
      " 2.7358e+01]\n"
     ]
    }
   ],
   "source": [
    "#12 hr hrrr:\n",
    "with open('hrrr_f12_Monroe_LA.txt') as f:\n",
    "    lst=[line.split()[2] for line in f]\n",
    "    temp=[]\n",
    "    for i in lst:\n",
    "        new=i.replace(',',\"\")\n",
    "        temp.append(new)\n",
    "    temp.pop(0)\n",
    "    temp=[float(x) for x in temp]\n",
    "    temp=temp[2117:2142]\n",
    "    #temp=temp[2015:2063]\n",
    "    temp=np.cumsum(temp)\n",
    "    print(temp)\n",
    "#full time period is [2015:2112]"
   ]
  },
  {
   "cell_type": "code",
   "execution_count": 50,
   "id": "4d3f3d6e",
   "metadata": {},
   "outputs": [],
   "source": [
    "#Air Temp CRN:\n",
    "with open('CRNH0203-2022-LA_Monroe_26_N.txt') as f:\n",
    "    lst=[line.split()[12] for line in f]\n",
    "    #print(lst)\n",
    "    temp_crn=[]\n",
    "    for i in lst:\n",
    "        new=i.replace(',',\"\")\n",
    "        temp_crn.append(new)\n",
    "    temp_crn=[float(x) for x in temp_crn]\n",
    "    temp_crn=temp_crn[2128:2153]\n",
    "    temp_crn=np.cumsum(temp_crn)\n",
    "    #print(temp_crn)\n",
    "    # print(temp_crn[2124])"
   ]
  },
  {
   "cell_type": "code",
   "execution_count": 51,
   "id": "178b8e52",
   "metadata": {},
   "outputs": [
    {
     "name": "stdout",
     "output_type": "stream",
     "text": [
      "[-0.27299999999999996, 2.99, -7.164999999999999, -9.209000000000003, -9.284000000000006, -9.284000000000006, -9.284000000000006, -9.284000000000006, -9.284000000000006, -5.942000000000007, -5.942000000000007, -5.942000000000007, -5.942000000000007, -5.942000000000007, -5.942000000000007, -5.942000000000007, -5.942000000000007, -5.942000000000007, -5.942000000000007, -5.942000000000007, -5.942000000000007, -5.942000000000007, -5.942000000000007, -5.942000000000007, -5.942000000000007]\n"
     ]
    }
   ],
   "source": [
    "difference2_mon = []\n",
    "\n",
    "zip_object = zip(temp, temp_crn)\n",
    "for temp_i, temp_crn_i in zip_object:\n",
    "    difference2_mon.append(temp_i-temp_crn_i)\n",
    "\n",
    "print(difference2_mon)"
   ]
  },
  {
   "cell_type": "markdown",
   "id": "3e401515",
   "metadata": {},
   "source": [
    "<font size=\"3\">Holly Springs, MS: 2000 UTC 30 March 2022-2000 UTC 31 March 2022</font>"
   ]
  },
  {
   "cell_type": "code",
   "execution_count": 52,
   "id": "581a9384",
   "metadata": {},
   "outputs": [
    {
     "name": "stdout",
     "output_type": "stream",
     "text": [
      "[2.7000e-02 3.2900e+00 2.0035e+01 2.3491e+01 2.4016e+01 2.4016e+01\n",
      " 2.4016e+01 2.4016e+01 2.4016e+01 2.7358e+01 2.7358e+01 2.7358e+01\n",
      " 2.7358e+01 2.7358e+01 2.7358e+01 2.7358e+01 2.7358e+01 2.7358e+01\n",
      " 2.7358e+01 2.7358e+01 2.7358e+01 2.7358e+01 2.7358e+01 2.7358e+01\n",
      " 2.7358e+01]\n"
     ]
    }
   ],
   "source": [
    "#12 hr hrrr:\n",
    "with open('hrrr_f12_Monroe_LA.txt') as f:\n",
    "    lst=[line.split()[2] for line in f]\n",
    "    temp=[]\n",
    "    for i in lst:\n",
    "        new=i.replace(',',\"\")\n",
    "        temp.append(new)\n",
    "    temp.pop(0)\n",
    "    temp=[float(x) for x in temp]\n",
    "    temp=temp[2117:2142]\n",
    "    #temp=temp[2015:2063]\n",
    "    temp=np.cumsum(temp)\n",
    "    print(temp)\n",
    "#full time period is [2015:2112]"
   ]
  },
  {
   "cell_type": "code",
   "execution_count": 53,
   "id": "cc96dac3",
   "metadata": {},
   "outputs": [],
   "source": [
    "#Air Temp CRN:\n",
    "with open('CRNH0203-2022-MS_Holly_Springs_4_N.txt') as f:\n",
    "    lst=[line.split()[12] for line in f]\n",
    "    #print(lst)\n",
    "    temp_crn=[]\n",
    "    for i in lst:\n",
    "        new=i.replace(',',\"\")\n",
    "        temp_crn.append(new)\n",
    "    temp_crn=[float(x) for x in temp_crn]\n",
    "    temp_crn=temp_crn[2131:2156]\n",
    "    temp_crn=np.cumsum(temp_crn)\n",
    "    #print(temp_crn)\n",
    "    # print(temp_crn[2124])"
   ]
  },
  {
   "cell_type": "code",
   "execution_count": 54,
   "id": "b348cd62",
   "metadata": {},
   "outputs": [
    {
     "name": "stdout",
     "output_type": "stream",
     "text": [
      "[-2.173, -1.0100000000000007, 11.735, 5.290999999999997, 2.115999999999996, 1.8159999999999954, 1.8159999999999954, 1.8159999999999954, 1.8159999999999954, 4.457999999999995, 4.457999999999995, 4.457999999999995, 4.157999999999994, 3.8579999999999934, 3.8579999999999934, 3.8579999999999934, 3.8579999999999934, 3.8579999999999934, 3.8579999999999934, 3.8579999999999934, 3.8579999999999934, 3.8579999999999934, 3.8579999999999934, 3.8579999999999934, 3.8579999999999934]\n"
     ]
    }
   ],
   "source": [
    "difference2_hol = []\n",
    "\n",
    "zip_object = zip(temp, temp_crn)\n",
    "for temp_i, temp_crn_i in zip_object:\n",
    "    difference2_hol.append(temp_i-temp_crn_i)\n",
    "\n",
    "print(difference2_hol)"
   ]
  },
  {
   "cell_type": "markdown",
   "id": "b5225197",
   "metadata": {},
   "source": [
    "<font size=\"3\">Newton, MS: 2000 UTC 30 March 2022-2000 UTC 31 March 2022</font>"
   ]
  },
  {
   "cell_type": "code",
   "execution_count": 55,
   "id": "7639cfdd",
   "metadata": {},
   "outputs": [
    {
     "name": "stdout",
     "output_type": "stream",
     "text": [
      "[ 0.     0.     0.     0.     0.06  25.544 29.902 30.691 30.691 30.691\n",
      " 30.691 30.691 30.691 30.691 30.691 30.694 30.698 30.698 30.698 30.698\n",
      " 30.698 30.698 30.698 30.698 30.698]\n"
     ]
    }
   ],
   "source": [
    "#12 hr hrrr:\n",
    "with open('hrrr_f12_Newton_MS.txt') as f:\n",
    "    lst=[line.split()[2] for line in f]\n",
    "    temp=[]\n",
    "    for i in lst:\n",
    "        new=i.replace(',',\"\")\n",
    "        temp.append(new)\n",
    "    temp.pop(0)\n",
    "    temp=[float(x) for x in temp]\n",
    "    temp=temp[2120:2145]\n",
    "    #temp=temp[2015:2063]\n",
    "    temp=np.cumsum(temp)\n",
    "    print(temp)\n",
    "#full time period is [2015:2112]"
   ]
  },
  {
   "cell_type": "code",
   "execution_count": 56,
   "id": "b4fea934",
   "metadata": {},
   "outputs": [],
   "source": [
    "#Air Temp CRN:\n",
    "with open('CRNH0203-2022-MS_Newton_5_ENE.txt') as f:\n",
    "    lst=[line.split()[12] for line in f]\n",
    "    #print(lst)\n",
    "    temp_crn=[]\n",
    "    for i in lst:\n",
    "        new=i.replace(',',\"\")\n",
    "        temp_crn.append(new)\n",
    "    temp_crn=[float(x) for x in temp_crn]\n",
    "    temp_crn=temp_crn[2131:2156]\n",
    "    temp_crn=np.cumsum(temp_crn)\n",
    "    #print(temp_crn)\n",
    "    # print(temp_crn[2124])"
   ]
  },
  {
   "cell_type": "code",
   "execution_count": 57,
   "id": "cd6de2b7",
   "metadata": {},
   "outputs": [
    {
     "name": "stdout",
     "output_type": "stream",
     "text": [
      "[0.0, 0.0, 0.0, 0.0, -0.94, -10.556000000000001, -8.798000000000002, -8.009, -8.009, -8.009, -8.009, -8.009, -8.009, -8.009, -8.009, -8.006, -8.001999999999999, -8.001999999999999, -8.001999999999999, -8.001999999999999, -8.001999999999999, -8.001999999999999, -8.001999999999999, -8.001999999999999, -8.001999999999999]\n"
     ]
    }
   ],
   "source": [
    "difference2_new = []\n",
    "\n",
    "zip_object = zip(temp, temp_crn)\n",
    "for temp_i, temp_crn_i in zip_object:\n",
    "    difference2_new.append(temp_i-temp_crn_i)\n",
    "\n",
    "print(difference2_new)"
   ]
  },
  {
   "cell_type": "markdown",
   "id": "bfaeb78c",
   "metadata": {},
   "source": [
    "<font size=\"3\">Gainesville, AL: 2300 UTC 30 March 2022-2300 UTC 31 March 2022</font>"
   ]
  },
  {
   "cell_type": "code",
   "execution_count": 58,
   "id": "6ad50471",
   "metadata": {},
   "outputs": [
    {
     "name": "stdout",
     "output_type": "stream",
     "text": [
      "[ 0.     0.197  1.435 30.257 34.512 36.645 36.645 36.645 36.645 36.646\n",
      " 36.655 36.655 36.655 36.655 36.655 36.655 36.655 36.655 36.655 36.655\n",
      " 36.655 36.655 36.655 36.655 36.655]\n"
     ]
    }
   ],
   "source": [
    "#12 hr hrrr:\n",
    "with open('hrrr_f12_Gainesville_AL.txt') as f:\n",
    "    lst=[line.split()[2] for line in f]\n",
    "    temp=[]\n",
    "    for i in lst:\n",
    "        new=i.replace(',',\"\")\n",
    "        temp.append(new)\n",
    "    temp.pop(0)\n",
    "    temp=[float(x) for x in temp]\n",
    "    temp=temp[2123:2148]\n",
    "    #temp=temp[2015:2063]\n",
    "    temp=np.cumsum(temp)\n",
    "    print(temp)\n",
    "#full time period is [2015:2112]"
   ]
  },
  {
   "cell_type": "code",
   "execution_count": 59,
   "id": "1fd4e19a",
   "metadata": {},
   "outputs": [],
   "source": [
    "#Air Temp CRN:\n",
    "with open('CRNH0203-2022-AL_Gainesville_2_NE.txt') as f:\n",
    "    lst=[line.split()[12] for line in f]\n",
    "    #print(lst)\n",
    "    temp_crn=[]\n",
    "    for i in lst:\n",
    "        new=i.replace(',',\"\")\n",
    "        temp_crn.append(new)\n",
    "    temp_crn=[float(x) for x in temp_crn]\n",
    "    temp_crn=temp_crn[2134:2159]\n",
    "    temp_crn=np.cumsum(temp_crn)\n",
    "    #print(temp_crn)\n",
    "    # print(temp_crn[2124])"
   ]
  },
  {
   "cell_type": "code",
   "execution_count": 60,
   "id": "82a257d7",
   "metadata": {},
   "outputs": [
    {
     "name": "stdout",
     "output_type": "stream",
     "text": [
      "[0.0, -0.203, -1.2649999999999997, 20.256999999999998, 10.012, 11.245000000000005, 11.245000000000005, 11.245000000000005, 11.245000000000005, 11.246000000000002, 11.255000000000003, 11.255000000000003, 11.255000000000003, 11.255000000000003, 11.255000000000003, 11.255000000000003, 11.255000000000003, 11.255000000000003, 11.255000000000003, 11.255000000000003, 11.255000000000003, 11.255000000000003, 11.255000000000003, 11.255000000000003, 11.255000000000003]\n"
     ]
    }
   ],
   "source": [
    "difference2_gai = []\n",
    "\n",
    "zip_object = zip(temp, temp_crn)\n",
    "for temp_i, temp_crn_i in zip_object:\n",
    "    difference2_gai.append(temp_i-temp_crn_i)\n",
    "\n",
    "print(difference2_gai)"
   ]
  },
  {
   "cell_type": "markdown",
   "id": "0917b86d",
   "metadata": {},
   "source": [
    "<font size=\"3\">Fairhope, AL: 0100 UTC 31 March 2022-0100 UTC 1 April 2022</font>"
   ]
  },
  {
   "cell_type": "code",
   "execution_count": 61,
   "id": "102e4d08",
   "metadata": {},
   "outputs": [
    {
     "name": "stdout",
     "output_type": "stream",
     "text": [
      "[ 0.     0.     4.343  4.55   4.811 14.191 17.893 19.111 19.783 19.784\n",
      " 19.784 19.784 19.784 19.784 19.784 19.784 19.784 19.784 19.784 19.784\n",
      " 19.784 19.784 19.784 19.784 19.784]\n"
     ]
    }
   ],
   "source": [
    "#12 hr hrrr:\n",
    "with open('hrrr_f12_Fairhope_AL.txt') as f:\n",
    "    lst=[line.split()[2] for line in f]\n",
    "    temp=[]\n",
    "    for i in lst:\n",
    "        new=i.replace(',',\"\")\n",
    "        temp.append(new)\n",
    "    temp.pop(0)\n",
    "    temp=[float(x) for x in temp]\n",
    "    temp=temp[2125:2150]\n",
    "    #temp=temp[2015:2063]\n",
    "    temp=np.cumsum(temp)\n",
    "    print(temp)\n",
    "#full time period is [2015:2112]"
   ]
  },
  {
   "cell_type": "code",
   "execution_count": 62,
   "id": "96fb5481",
   "metadata": {},
   "outputs": [],
   "source": [
    "#Air Temp CRN:\n",
    "with open('CRNH0203-2022-AL_Fairhope_3_NE.txt') as f:\n",
    "    lst=[line.split()[12] for line in f]\n",
    "    #print(lst)\n",
    "    temp_crn=[]\n",
    "    for i in lst:\n",
    "        new=i.replace(',',\"\")\n",
    "        temp_crn.append(new)\n",
    "    temp_crn=[float(x) for x in temp_crn]\n",
    "    temp_crn=temp_crn[2136:2161]\n",
    "    temp_crn=np.cumsum(temp_crn)\n",
    "    #print(temp_crn)\n",
    "    # print(temp_crn[2124])"
   ]
  },
  {
   "cell_type": "code",
   "execution_count": 63,
   "id": "f15c30e0",
   "metadata": {},
   "outputs": [
    {
     "name": "stdout",
     "output_type": "stream",
     "text": [
      "[0.0, 0.0, 4.343, 4.55, -17.289, -11.109, -7.407, -6.388999999999999, -5.716999999999999, -5.7159999999999975, -5.7159999999999975, -5.7159999999999975, -5.7159999999999975, -5.7159999999999975, -5.7159999999999975, -5.7159999999999975, -5.7159999999999975, -5.7159999999999975, -5.7159999999999975, -5.7159999999999975, -5.7159999999999975, -5.7159999999999975, -5.7159999999999975, -5.7159999999999975, -5.7159999999999975]\n"
     ]
    }
   ],
   "source": [
    "difference2_fai = []\n",
    "\n",
    "zip_object = zip(temp, temp_crn)\n",
    "for temp_i, temp_crn_i in zip_object:\n",
    "    difference2_fai.append(temp_i-temp_crn_i)\n",
    "\n",
    "print(difference2_fai)"
   ]
  },
  {
   "cell_type": "markdown",
   "id": "e9530edf",
   "metadata": {},
   "source": [
    "<font size=\"3\">**Selma, AL: 0100 UTC 31 March 2022-0100 UTC 1 April 2022</font>"
   ]
  },
  {
   "cell_type": "code",
   "execution_count": 64,
   "id": "15e7e080",
   "metadata": {},
   "outputs": [
    {
     "name": "stdout",
     "output_type": "stream",
     "text": [
      "[ 0.     0.168  0.18   3.535 33.412 35.15  35.437 35.457 35.457 35.457\n",
      " 35.457 35.457 35.457 35.457 35.457 35.457 35.457 35.457 35.457 35.457\n",
      " 35.457 35.457 35.457 35.457 35.457]\n",
      "[ 0.   0.2  4.4 20.8 27.  29.7 30.1 30.1 30.1 30.1 30.1 30.1 30.1 30.1\n",
      " 30.1 30.1 30.1 30.1 30.1 30.1 30.1 30.1 30.1 30.1 30.1]\n",
      "[0.0, -0.032, -4.220000000000001, -17.264999999999997, 6.412000000000003, 5.450000000000003, 5.337000000000003, 5.357000000000006, 5.357000000000006, 5.357000000000006, 5.357000000000006, 5.357000000000006, 5.357000000000006, 5.357000000000006, 5.357000000000006, 5.357000000000006, 5.357000000000006, 5.357000000000006, 5.357000000000006, 5.357000000000006, 5.357000000000006, 5.357000000000006, 5.357000000000006, 5.357000000000006, 5.357000000000006]\n",
      "25\n"
     ]
    }
   ],
   "source": [
    "#12 hr hrrr:\n",
    "with open('hrrr_f12_Selma_AL.txt') as f:\n",
    "    lst=[line.split()[2] for line in f]\n",
    "    temp=[]\n",
    "    for i in lst:\n",
    "        new=i.replace(',',\"\")\n",
    "        temp.append(new)\n",
    "    temp.pop(0)\n",
    "    temp=[float(x) for x in temp]\n",
    "    temp=temp[2125:2150]\n",
    "    \n",
    "#Air Temp CRN:\n",
    "with open('CRNH0203-2022-AL_Selma_13_WNW.txt') as f:\n",
    "    lst=[line.split()[12] for line in f]\n",
    "    #print(lst)\n",
    "    temp_crn=[]\n",
    "    for i in lst:\n",
    "        new=i.replace(',',\"\")\n",
    "        temp_crn.append(new)\n",
    "    temp_crn=[float(x) for x in temp_crn]\n",
    "    temp_crn=temp_crn[2136:2161]\n",
    "\n",
    "    temp=np.cumsum(temp)\n",
    "    print(temp)\n",
    "    temp_crn=np.cumsum(temp_crn)\n",
    "    print(temp_crn)\n",
    "#full time period is [2015:2112]\n",
    "difference2_sel = []\n",
    "\n",
    "zip_object = zip(temp, temp_crn)\n",
    "for temp_i, temp_crn_i in zip_object:\n",
    "    difference2_sel.append(temp_i-temp_crn_i)\n",
    "\n",
    "print(difference2_sel)\n",
    "print(len(difference2_sel))"
   ]
  },
  {
   "cell_type": "markdown",
   "id": "96c13278",
   "metadata": {},
   "source": [
    "<font size=\"3\">Bowling Green, KY: 0100 UTC 31 March 2022-0100 UTC 1 April 2022</font>"
   ]
  },
  {
   "cell_type": "code",
   "execution_count": 65,
   "id": "20079007",
   "metadata": {},
   "outputs": [],
   "source": [
    "# #12 hr hrrr:\n",
    "# with open('hrrr_f12_Bowling Green_KY.txt') as f:\n",
    "#     lst=[line.split()[2] for line in f]\n",
    "#     temp=[]\n",
    "#     for i in lst:\n",
    "#         new=i.replace(',',\"\")\n",
    "#         temp.append(new)\n",
    "#     temp.pop(0)\n",
    "#     temp=[float(x) for x in temp]\n",
    "#     temp=temp[2125:2150]\n",
    "#     x = np.array(temp)\n",
    "#     temp= ma.masked_array(x, mask=[0, 0, 0, 0, 0,0,1,0,0,0,0,0,0,0,0,0,0,0,0,0,0,0,0,0,0])\n",
    "#     #temp=temp[2015:2063]\n",
    "#     temp=np.cumsum(temp)\n",
    "#     print(temp)\n",
    "# #full time period is [2015:2112]"
   ]
  },
  {
   "cell_type": "code",
   "execution_count": 66,
   "id": "60c4e4cc",
   "metadata": {},
   "outputs": [],
   "source": [
    "# #Air Temp CRN:\n",
    "# with open('CRNH0203-2022-KY_Bowling_Green_21_NNE.txt') as f:\n",
    "#     lst=[line.split()[12] for line in f]\n",
    "#     #print(lst)\n",
    "#     temp_crn=[]\n",
    "#     for i in lst:\n",
    "#         new=i.replace(',',\"\")\n",
    "#         temp_crn.append(new)\n",
    "#     temp_crn=[float(x) for x in temp_crn]\n",
    "#     temp_crn=temp_crn[2136:2161]\n",
    "#     y = np.array(temp_crn)\n",
    "#     temp_crn = ma.masked_array(y, mask=[0, 0, 0, 0, 0,0,1,0,0,0,0,0,0,0,0,0,0,0,0,0,0,0,0,0,0])\n",
    "#     temp_crn=np.cumsum(temp_crn)\n",
    "#     print(temp_crn)\n",
    "#     # print(temp_crn[2124])"
   ]
  },
  {
   "cell_type": "code",
   "execution_count": 67,
   "id": "90cedfd2",
   "metadata": {},
   "outputs": [],
   "source": [
    "# difference2_bow = []\n",
    "\n",
    "# zip_object = zip(temp, temp_crn)\n",
    "# for temp_i, temp_crn_i in zip_object:\n",
    "#     difference2_bow.append(temp_i-temp_crn_i)\n",
    "\n",
    "# print(difference2_bow)"
   ]
  },
  {
   "cell_type": "code",
   "execution_count": 68,
   "id": "47fff0d0",
   "metadata": {},
   "outputs": [],
   "source": [
    "# temp[6]=0\n",
    "# temp_crn[6]=0\n",
    "# difference2_bow[6]=0\n",
    "\n",
    "# temp=np.cumsum(temp)\n",
    "# temp_crn=np.cumsum(temp_crn)\n",
    "# print(difference2_bow)"
   ]
  },
  {
   "cell_type": "markdown",
   "id": "770eb1f1",
   "metadata": {},
   "source": [
    "<font size=\"3\">Gadsden, AL: 0200 UTC 31 March 2022-0200 UTC 1 April 2022</font>"
   ]
  },
  {
   "cell_type": "code",
   "execution_count": 69,
   "id": "b06370d2",
   "metadata": {},
   "outputs": [],
   "source": [
    "# #12 hr hrrr:\n",
    "# with open('hrrr_f12_Gadsden_AL.txt') as f:\n",
    "#     lst=[line.split()[2] for line in f]\n",
    "#     temp=[]\n",
    "#     for i in lst:\n",
    "#         new=i.replace(',',\"\")\n",
    "#         temp.append(new)\n",
    "#     temp.pop(0)\n",
    "#     temp=[float(x) for x in temp]\n",
    "#     temp=temp[2126:2151]\n",
    "#     #temp=temp[2015:2063]\n",
    "#     temp=np.cumsum(temp)\n",
    "#     print(temp)\n",
    "# #full time period is [2015:2112]"
   ]
  },
  {
   "cell_type": "code",
   "execution_count": 70,
   "id": "c0d02698",
   "metadata": {},
   "outputs": [],
   "source": [
    "# #Air Temp CRN:\n",
    "# with open('CRNH0203-2022-AL_Gadsden_19_N.txt') as f:\n",
    "#     lst=[line.split()[12] for line in f]\n",
    "#     #print(lst)\n",
    "#     temp_crn=[]\n",
    "#     for i in lst:\n",
    "#         new=i.replace(',',\"\")\n",
    "#         temp_crn.append(new)\n",
    "#     temp_crn=[float(x) for x in temp_crn]\n",
    "#     temp_crn=temp_crn[2137:2162]\n",
    "#     temp_crn=np.cumsum(temp_crn)\n",
    "#     #print(temp_crn)\n",
    "#     # print(temp_crn[2124])"
   ]
  },
  {
   "cell_type": "code",
   "execution_count": 71,
   "id": "d63723fd",
   "metadata": {},
   "outputs": [],
   "source": [
    "# difference2_gad = []\n",
    "\n",
    "# zip_object = zip(temp, temp_crn)\n",
    "# for temp_i, temp_crn_i in zip_object:\n",
    "#     difference2_gad.append(temp_i-temp_crn_i)\n",
    "\n",
    "# print(difference2_gad)"
   ]
  },
  {
   "cell_type": "markdown",
   "id": "cd4a8f77",
   "metadata": {},
   "source": [
    "<font size=\"3\">Newton, GA: 0700 UTC 31 March 2022-0700 UTC 1 April 2022</font>"
   ]
  },
  {
   "cell_type": "code",
   "execution_count": 72,
   "id": "29be0aef",
   "metadata": {},
   "outputs": [
    {
     "name": "stdout",
     "output_type": "stream",
     "text": [
      "[0.0000e+00 0.0000e+00 0.0000e+00 0.0000e+00 1.0000e-03 6.8260e+00\n",
      " 1.5502e+01 1.5516e+01 1.5516e+01 1.5517e+01 1.5517e+01 1.5517e+01\n",
      " 1.5517e+01 1.5517e+01 1.5517e+01 1.5517e+01 1.5517e+01 1.5517e+01\n",
      " 1.5517e+01 1.5517e+01 1.5517e+01 1.5517e+01 1.5517e+01 1.5517e+01\n",
      " 1.5517e+01]\n"
     ]
    }
   ],
   "source": [
    "#12 hr hrrr:\n",
    "with open('hrrr_f12_Newton_GA.txt') as f:\n",
    "    lst=[line.split()[2] for line in f]\n",
    "    temp=[]\n",
    "    for i in lst:\n",
    "        new=i.replace(',',\"\")\n",
    "        temp.append(new)\n",
    "    temp.pop(0)\n",
    "    temp=[float(x) for x in temp]\n",
    "    temp=temp[2131:2156]\n",
    "    #temp=temp[2015:2063]\n",
    "    temp=np.cumsum(temp)\n",
    "    print(temp)\n",
    "#full time period is [2015:2112]"
   ]
  },
  {
   "cell_type": "code",
   "execution_count": 73,
   "id": "1d798d77",
   "metadata": {},
   "outputs": [],
   "source": [
    "#Air Temp CRN:\n",
    "with open('CRNH0203-2022-GA_Newton_11_SW.txt') as f:\n",
    "    lst=[line.split()[12] for line in f]\n",
    "    #print(lst)\n",
    "    temp_crn=[]\n",
    "    for i in lst:\n",
    "        new=i.replace(',',\"\")\n",
    "        temp_crn.append(new)\n",
    "    temp_crn=[float(x) for x in temp_crn]\n",
    "    temp_crn=temp_crn[2142:2167]\n",
    "    temp_crn=np.cumsum(temp_crn)\n",
    "    #print(temp_crn)\n",
    "    # print(temp_crn[2124])"
   ]
  },
  {
   "cell_type": "code",
   "execution_count": 74,
   "id": "4bcfa192",
   "metadata": {},
   "outputs": [
    {
     "name": "stdout",
     "output_type": "stream",
     "text": [
      "[0.0, 0.0, 0.0, -3.3, -4.899, -3.6739999999999995, -9.897999999999998, -14.783999999999997, -17.683999999999997, -17.682999999999996, -17.682999999999996, -17.682999999999996, -17.682999999999996, -17.682999999999996, -17.682999999999996, -17.682999999999996, -17.682999999999996, -17.682999999999996, -17.682999999999996, -17.682999999999996, -17.682999999999996, -17.682999999999996, -17.682999999999996, -17.682999999999996, -17.682999999999996]\n"
     ]
    }
   ],
   "source": [
    "difference2_newt = []\n",
    "\n",
    "zip_object = zip(temp, temp_crn)\n",
    "for temp_i, temp_crn_i in zip_object:\n",
    "    difference2_newt.append(temp_i-temp_crn_i)\n",
    "\n",
    "print(difference2_newt)"
   ]
  },
  {
   "cell_type": "markdown",
   "id": "8148ba77",
   "metadata": {},
   "source": [
    "<font size=\"3\">Salem, MO: 1000 UTC 5 April 2022-1000 UTC 6 April 2022</font>"
   ]
  },
  {
   "cell_type": "code",
   "execution_count": 75,
   "id": "52be5eab",
   "metadata": {},
   "outputs": [
    {
     "name": "stdout",
     "output_type": "stream",
     "text": [
      "[0.071 0.071 0.071 0.071 0.071 0.071 0.071 0.071 0.071 0.071 0.071 0.071\n",
      " 0.071 0.071 0.071 0.071 0.262 0.28  0.281 3.271 5.159 5.597 5.747 5.834\n",
      " 5.913]\n"
     ]
    }
   ],
   "source": [
    "#12 hr hrrr:\n",
    "with open('hrrr_f12_Salem_MO.txt') as f:\n",
    "    lst=[line.split()[2] for line in f]\n",
    "    temp=[]\n",
    "    for i in lst:\n",
    "        new=i.replace(',',\"\")\n",
    "        temp.append(new)\n",
    "    temp.pop(0)\n",
    "    temp=[float(x) for x in temp]\n",
    "    temp=temp[2254:2279]\n",
    "    #temp=temp[2015:2063]\n",
    "    temp=np.cumsum(temp)\n",
    "    print(temp)\n",
    "#full time period is [2015:2112]"
   ]
  },
  {
   "cell_type": "code",
   "execution_count": 76,
   "id": "4616d240",
   "metadata": {},
   "outputs": [],
   "source": [
    "#Air Temp CRN:\n",
    "with open('CRNH0203-2022-MO_Salem_10_W.txt') as f:\n",
    "    lst=[line.split()[12] for line in f]\n",
    "    #print(lst)\n",
    "    temp_crn=[]\n",
    "    for i in lst:\n",
    "        new=i.replace(',',\"\")\n",
    "        temp_crn.append(new)\n",
    "    temp_crn=[float(x) for x in temp_crn]\n",
    "    temp_crn=temp_crn[2265:2290]\n",
    "    temp_crn=np.cumsum(temp_crn)\n",
    "    #print(temp_crn)\n",
    "    # print(temp_crn[2124])"
   ]
  },
  {
   "cell_type": "code",
   "execution_count": 77,
   "id": "b6a1a5d3",
   "metadata": {},
   "outputs": [
    {
     "name": "stdout",
     "output_type": "stream",
     "text": [
      "25\n"
     ]
    }
   ],
   "source": [
    "hour=[]\n",
    "for i in range(-12,13,1):\n",
    "    hour.append(i)\n",
    "    i+=1\n",
    "print(len(hour))"
   ]
  },
  {
   "cell_type": "code",
   "execution_count": 78,
   "id": "d9f71702",
   "metadata": {},
   "outputs": [
    {
     "name": "stdout",
     "output_type": "stream",
     "text": [
      "[0.071, 0.071, 0.071, 0.071, 0.071, 0.071, 0.071, 0.071, 0.071, 0.071, 0.071, 0.071, 0.071, 0.071, 0.071, 0.071, 0.262, 0.28, 0.281, 3.2710000000000004, 4.659000000000001, 5.097, 4.447000000000001, 4.534000000000001, 4.613]\n"
     ]
    }
   ],
   "source": [
    "difference3_sal = []\n",
    "\n",
    "zip_object = zip(temp, temp_crn)\n",
    "for temp_i, temp_crn_i in zip_object:\n",
    "    difference3_sal.append(temp_i-temp_crn_i)\n",
    "\n",
    "print(difference3_sal)"
   ]
  },
  {
   "cell_type": "markdown",
   "id": "cc4a44b1",
   "metadata": {},
   "source": [
    "<font size=\"3\">Batesville, AR: 1000 UTC 5 April 2022-1000 UTC 6 April 2022</font>"
   ]
  },
  {
   "cell_type": "code",
   "execution_count": 79,
   "id": "4fcfb5db",
   "metadata": {},
   "outputs": [
    {
     "name": "stdout",
     "output_type": "stream",
     "text": [
      "[0.591 1.214 1.218 1.222 1.222 1.225 1.225 1.225 1.225 1.225 1.225 1.225\n",
      " 1.225 1.225 1.225 1.225 1.225 1.226 1.226 1.229 1.232 1.234 1.235 5.378\n",
      " 6.518]\n"
     ]
    }
   ],
   "source": [
    "#12 hr hrrr:\n",
    "with open('hrrr_f12_Batesville_AR.txt') as f:\n",
    "    lst=[line.split()[2] for line in f]\n",
    "    temp=[]\n",
    "    for i in lst:\n",
    "        new=i.replace(',',\"\")\n",
    "        temp.append(new)\n",
    "    temp.pop(0)\n",
    "    temp=[float(x) for x in temp]\n",
    "    temp=temp[2254:2279]\n",
    "    #temp=temp[2015:2063]\n",
    "    temp=np.cumsum(temp)\n",
    "    print(temp)\n",
    "#full time period is [2015:2112]"
   ]
  },
  {
   "cell_type": "code",
   "execution_count": 80,
   "id": "509d7824",
   "metadata": {},
   "outputs": [],
   "source": [
    "#Air Temp CRN:\n",
    "with open('CRNH0203-2022-AR_Batesville_8_WNW.txt') as f:\n",
    "    lst=[line.split()[12] for line in f]\n",
    "    #print(lst)\n",
    "    temp_crn=[]\n",
    "    for i in lst:\n",
    "        new=i.replace(',',\"\")\n",
    "        temp_crn.append(new)\n",
    "    temp_crn=[float(x) for x in temp_crn]\n",
    "    temp_crn=temp_crn[2265:2290]\n",
    "    temp_crn=np.cumsum(temp_crn)\n",
    "    #print(temp_crn)\n",
    "    # print(temp_crn[2124])"
   ]
  },
  {
   "cell_type": "code",
   "execution_count": 81,
   "id": "c5f712f8",
   "metadata": {},
   "outputs": [
    {
     "name": "stdout",
     "output_type": "stream",
     "text": [
      "[-1.7089999999999999, -3.1860000000000004, -3.1820000000000004, -3.3780000000000006, -3.3780000000000006, -3.375000000000001, -3.375000000000001, -3.375000000000001, -3.375000000000001, -3.375000000000001, -3.375000000000001, -3.375000000000001, -3.375000000000001, -3.375000000000001, -3.375000000000001, -3.375000000000001, -3.375000000000001, -3.3740000000000006, -3.3740000000000006, -3.371000000000001, -3.368000000000001, -3.366000000000001, -13.565000000000001, -13.521999999999998, -12.382]\n"
     ]
    }
   ],
   "source": [
    "difference3_bat = []\n",
    "\n",
    "zip_object = zip(temp, temp_crn)\n",
    "for temp_i, temp_crn_i in zip_object:\n",
    "    difference3_bat.append(temp_i-temp_crn_i)\n",
    "\n",
    "print(difference3_bat)"
   ]
  },
  {
   "cell_type": "markdown",
   "id": "9f92620f",
   "metadata": {},
   "source": [
    "<font size=\"3\">Lafayette, LA: 1000 UTC 5 April 2022-1000 UTC 6 April 2022</font>"
   ]
  },
  {
   "cell_type": "code",
   "execution_count": 82,
   "id": "24bdf2f2",
   "metadata": {},
   "outputs": [
    {
     "name": "stdout",
     "output_type": "stream",
     "text": [
      "[0.03  0.232 0.232 0.387 0.47  0.47  0.47  0.47  0.47  0.47  0.47  0.47\n",
      " 0.47  0.47  0.47  0.476 0.476 0.476 0.476 0.476 0.476 0.476 0.476 0.476\n",
      " 0.476]\n"
     ]
    }
   ],
   "source": [
    "#12 hr hrrr:\n",
    "with open('hrrr_f12_Lafayette_LA.txt') as f:\n",
    "    lst=[line.split()[2] for line in f]\n",
    "    temp=[]\n",
    "    for i in lst:\n",
    "        new=i.replace(',',\"\")\n",
    "        temp.append(new)\n",
    "    temp.pop(0)\n",
    "    temp=[float(x) for x in temp]\n",
    "    temp=temp[2254:2279]\n",
    "    #temp=temp[2015:2063]\n",
    "    temp=np.cumsum(temp)\n",
    "    print(temp)\n",
    "#full time period is [2015:2112]"
   ]
  },
  {
   "cell_type": "code",
   "execution_count": 83,
   "id": "5a4b31fa",
   "metadata": {},
   "outputs": [],
   "source": [
    "#Air Temp CRN:\n",
    "with open('CRNH0203-2022-LA_Lafayette_13_SE.txt') as f:\n",
    "    lst=[line.split()[12] for line in f]\n",
    "    #print(lst)\n",
    "    temp_crn=[]\n",
    "    for i in lst:\n",
    "        new=i.replace(',',\"\")\n",
    "        temp_crn.append(new)\n",
    "    temp_crn=[float(x) for x in temp_crn]\n",
    "    temp_crn=temp_crn[2265:2290]\n",
    "    temp_crn=np.cumsum(temp_crn)\n",
    "    #print(temp_crn)\n",
    "    # print(temp_crn[2124])"
   ]
  },
  {
   "cell_type": "code",
   "execution_count": 84,
   "id": "18c37a9b",
   "metadata": {},
   "outputs": [
    {
     "name": "stdout",
     "output_type": "stream",
     "text": [
      "[0.03, 0.232, -1.068, -5.413, -5.33, -5.33, -5.33, -5.33, -5.33, -5.33, -5.33, -5.33, -5.33, -5.33, -5.33, -5.324, -5.324, -5.324, -5.324, -5.324, -5.324, -5.324, -5.324, -5.324, -5.324]\n"
     ]
    }
   ],
   "source": [
    "difference3_laf = []\n",
    "\n",
    "zip_object = zip(temp, temp_crn)\n",
    "for temp_i, temp_crn_i in zip_object:\n",
    "    difference3_laf.append(temp_i-temp_crn_i)\n",
    "\n",
    "print(difference3_laf)"
   ]
  },
  {
   "cell_type": "markdown",
   "id": "6bc47d22",
   "metadata": {},
   "source": [
    "<font size=\"3\">Monroe, LA: 1000 UTC 5 April 2022-1000 UTC 6 April 2022</font>"
   ]
  },
  {
   "cell_type": "code",
   "execution_count": 85,
   "id": "ff3754c7",
   "metadata": {},
   "outputs": [
    {
     "name": "stdout",
     "output_type": "stream",
     "text": [
      "[21.159 25.334 25.955 25.955 25.955 25.955 25.955 25.955 25.955 25.955\n",
      " 25.955 25.955 25.955 25.955 25.955 25.955 25.955 25.955 25.955 25.955\n",
      " 25.955 25.955 25.955 25.955 25.955]\n"
     ]
    }
   ],
   "source": [
    "#12 hr hrrr:\n",
    "with open('hrrr_f12_Monroe_LA.txt') as f:\n",
    "    lst=[line.split()[2] for line in f]\n",
    "    temp=[]\n",
    "    for i in lst:\n",
    "        new=i.replace(',',\"\")\n",
    "        temp.append(new)\n",
    "    temp.pop(0)\n",
    "    temp=[float(x) for x in temp]\n",
    "    temp=temp[2254:2279]\n",
    "    #temp=temp[2015:2063]\n",
    "    temp=np.cumsum(temp)\n",
    "    print(temp)\n",
    "#full time period is [2015:2112]"
   ]
  },
  {
   "cell_type": "code",
   "execution_count": 86,
   "id": "e443548a",
   "metadata": {},
   "outputs": [],
   "source": [
    "#Air Temp CRN:\n",
    "with open('CRNH0203-2022-LA_Monroe_26_N.txt') as f:\n",
    "    lst=[line.split()[12] for line in f]\n",
    "    #print(lst)\n",
    "    temp_crn=[]\n",
    "    for i in lst:\n",
    "        new=i.replace(',',\"\")\n",
    "        temp_crn.append(new)\n",
    "    temp_crn=[float(x) for x in temp_crn]\n",
    "    temp_crn=temp_crn[2265:2290]\n",
    "    temp_crn=np.cumsum(temp_crn)\n",
    "    #print(temp_crn)\n",
    "    # print(temp_crn[2124])"
   ]
  },
  {
   "cell_type": "code",
   "execution_count": 87,
   "id": "cc1402aa",
   "metadata": {},
   "outputs": [
    {
     "name": "stdout",
     "output_type": "stream",
     "text": [
      "[12.758999999999999, 16.134, 16.555, 16.555, 16.555, 16.555, 16.555, 16.555, 16.555, 16.555, 16.555, 16.555, 16.555, 16.555, 16.555, 16.555, 16.555, 16.555, 16.555, 16.555, 16.555, 16.555, 16.555, 16.555, 16.555]\n"
     ]
    }
   ],
   "source": [
    "difference3_mon = []\n",
    "\n",
    "zip_object = zip(temp, temp_crn)\n",
    "for temp_i, temp_crn_i in zip_object:\n",
    "    difference3_mon.append(temp_i-temp_crn_i)\n",
    "\n",
    "print(difference3_mon)"
   ]
  },
  {
   "cell_type": "markdown",
   "id": "8e498386",
   "metadata": {},
   "source": [
    "<font size=\"3\">Holly Springs, MS: 1100 UTC 5 April 2022-1100 UTC 6 April 2022</font>"
   ]
  },
  {
   "cell_type": "code",
   "execution_count": 88,
   "id": "4b862993",
   "metadata": {},
   "outputs": [
    {
     "name": "stdout",
     "output_type": "stream",
     "text": [
      "[ 1.171  4.742  9.94   9.981  9.982 10.054 10.289 10.289 10.289 10.289\n",
      " 10.289 10.289 10.289 10.289 10.289 10.289 10.289 10.289 10.289 10.289\n",
      " 10.289 10.289 10.289 10.289 10.292]\n"
     ]
    }
   ],
   "source": [
    "#12 hr hrrr:\n",
    "with open('hrrr_f12_Holly Springs_MS.txt') as f:\n",
    "    lst=[line.split()[2] for line in f]\n",
    "    temp=[]\n",
    "    for i in lst:\n",
    "        new=i.replace(',',\"\")\n",
    "        temp.append(new)\n",
    "    temp.pop(0)\n",
    "    temp=[float(x) for x in temp]\n",
    "    temp=temp[2255:2280]\n",
    "    #temp=temp[2015:2063]\n",
    "    temp=np.cumsum(temp)\n",
    "    print(temp)\n",
    "#full time period is [2015:2112]"
   ]
  },
  {
   "cell_type": "code",
   "execution_count": 89,
   "id": "cf8e50e8",
   "metadata": {},
   "outputs": [],
   "source": [
    "#Air Temp CRN:\n",
    "with open('CRNH0203-2022-MS_Holly_Springs_4_N.txt') as f:\n",
    "    lst=[line.split()[12] for line in f]\n",
    "    #print(lst)\n",
    "    temp_crn=[]\n",
    "    for i in lst:\n",
    "        new=i.replace(',',\"\")\n",
    "        temp_crn.append(new)\n",
    "    temp_crn=[float(x) for x in temp_crn]\n",
    "    temp_crn=temp_crn[2266:2291]\n",
    "    temp_crn=np.cumsum(temp_crn)\n",
    "    #print(temp_crn)\n",
    "    # print(temp_crn[2124])"
   ]
  },
  {
   "cell_type": "code",
   "execution_count": 90,
   "id": "9625595c",
   "metadata": {},
   "outputs": [
    {
     "name": "stdout",
     "output_type": "stream",
     "text": [
      "[-3.029, -4.358000000000001, 0.2400000000000002, 0.2810000000000006, -1.218, -1.5460000000000012, -1.3110000000000017, -1.3110000000000017, -1.3110000000000017, -1.3110000000000017, -1.3110000000000017, -1.3110000000000017, -1.3110000000000017, -1.3110000000000017, -1.3110000000000017, -1.3110000000000017, -1.3110000000000017, -1.3110000000000017, -1.3110000000000017, -1.3110000000000017, -1.3110000000000017, -1.3110000000000017, -1.3110000000000017, -1.3110000000000017, -1.3080000000000016]\n"
     ]
    }
   ],
   "source": [
    "difference3_hol = []\n",
    "\n",
    "zip_object = zip(temp, temp_crn)\n",
    "for temp_i, temp_crn_i in zip_object:\n",
    "    difference3_hol.append(temp_i-temp_crn_i)\n",
    "\n",
    "print(difference3_hol)"
   ]
  },
  {
   "cell_type": "markdown",
   "id": "cec214d2",
   "metadata": {},
   "source": [
    "<font size=\"3\">Newton, MS: 1100 UTC 5 April 2022-1100 UTC 6 April 2022</font>"
   ]
  },
  {
   "cell_type": "code",
   "execution_count": 91,
   "id": "503148e4",
   "metadata": {},
   "outputs": [
    {
     "name": "stdout",
     "output_type": "stream",
     "text": [
      "[4.0000e-03 6.5640e+00 1.3095e+01 3.3126e+01 3.5101e+01 3.7173e+01\n",
      " 3.7236e+01 3.7280e+01 3.7280e+01 3.7280e+01 3.7280e+01 3.7280e+01\n",
      " 3.7280e+01 3.7280e+01 3.7280e+01 3.7280e+01 3.7280e+01 3.7280e+01\n",
      " 3.7280e+01 3.7280e+01 3.7280e+01 3.7280e+01 3.7280e+01 3.7282e+01\n",
      " 3.7288e+01]\n"
     ]
    }
   ],
   "source": [
    "#12 hr hrrr:\n",
    "with open('hrrr_f12_Newton_MS.txt') as f:\n",
    "    lst=[line.split()[2] for line in f]\n",
    "    temp=[]\n",
    "    for i in lst:\n",
    "        new=i.replace(',',\"\")\n",
    "        temp.append(new)\n",
    "    temp.pop(0)\n",
    "    temp=[float(x) for x in temp]\n",
    "    temp=temp[2255:2280]\n",
    "    #temp=temp[2015:2063]\n",
    "    temp=np.cumsum(temp)\n",
    "    print(temp)\n",
    "#full time period is [2015:2112]"
   ]
  },
  {
   "cell_type": "code",
   "execution_count": 92,
   "id": "451fc547",
   "metadata": {},
   "outputs": [],
   "source": [
    "#Air Temp CRN:\n",
    "with open('CRNH0203-2022-MS_Newton_5_ENE.txt') as f:\n",
    "    lst=[line.split()[12] for line in f]\n",
    "    #print(lst)\n",
    "    temp_crn=[]\n",
    "    for i in lst:\n",
    "        new=i.replace(',',\"\")\n",
    "        temp_crn.append(new)\n",
    "    temp_crn=[float(x) for x in temp_crn]\n",
    "    temp_crn=temp_crn[2266:2291]\n",
    "    temp_crn=np.cumsum(temp_crn)\n",
    "    #print(temp_crn)\n",
    "    # print(temp_crn[2124])"
   ]
  },
  {
   "cell_type": "code",
   "execution_count": 93,
   "id": "a83781b3",
   "metadata": {},
   "outputs": [
    {
     "name": "stdout",
     "output_type": "stream",
     "text": [
      "[0.004, 6.163999999999999, 1.1949999999999985, 18.325999999999997, 18.500999999999998, 17.873, 16.836000000000002, 16.88, 16.88, 16.88, 16.88, 16.88, 16.88, 16.88, 16.88, 16.88, 16.88, 16.88, 16.88, 16.88, 16.88, 16.88, 16.88, 16.882, 16.888]\n"
     ]
    }
   ],
   "source": [
    "difference3_new = []\n",
    "\n",
    "zip_object = zip(temp, temp_crn)\n",
    "for temp_i, temp_crn_i in zip_object:\n",
    "    difference3_new.append(temp_i-temp_crn_i)\n",
    "\n",
    "print(difference3_new)"
   ]
  },
  {
   "cell_type": "markdown",
   "id": "576090a5",
   "metadata": {},
   "source": [
    "<font size=\"3\">Gainesville, AL: 1300 UTC 5 April 2022-1300 UTC 6 April 2022</font>"
   ]
  },
  {
   "cell_type": "code",
   "execution_count": 94,
   "id": "48d4bab2",
   "metadata": {},
   "outputs": [
    {
     "name": "stdout",
     "output_type": "stream",
     "text": [
      "[ 2.792 36.023 39.551 42.521 43.234 43.678 43.678 43.678 43.678 43.678\n",
      " 43.678 43.678 43.678 43.678 43.678 43.678 43.678 43.678 43.678 43.678\n",
      " 43.682 43.682 43.682 43.682 43.682]\n"
     ]
    }
   ],
   "source": [
    "#12 hr hrrr:\n",
    "with open('hrrr_f12_Gainesville_AL.txt') as f:\n",
    "    lst=[line.split()[2] for line in f]\n",
    "    temp=[]\n",
    "    for i in lst:\n",
    "        new=i.replace(',',\"\")\n",
    "        temp.append(new)\n",
    "    temp.pop(0)\n",
    "    temp=[float(x) for x in temp]\n",
    "    temp=temp[2257:2282]\n",
    "    #temp=temp[2015:2063]\n",
    "    temp=np.cumsum(temp)\n",
    "    print(temp)\n",
    "#full time period is [2015:2112]"
   ]
  },
  {
   "cell_type": "code",
   "execution_count": 95,
   "id": "d2d3b56b",
   "metadata": {},
   "outputs": [],
   "source": [
    "#Air Temp CRN:\n",
    "with open('CRNH0203-2022-AL_Gainesville_2_NE.txt') as f:\n",
    "    lst=[line.split()[12] for line in f]\n",
    "    #print(lst)\n",
    "    temp_crn=[]\n",
    "    for i in lst:\n",
    "        new=i.replace(',',\"\")\n",
    "        temp_crn.append(new)\n",
    "    temp_crn=[float(x) for x in temp_crn]\n",
    "    temp_crn=temp_crn[2268:2293]\n",
    "    temp_crn=np.cumsum(temp_crn)\n",
    "    #print(temp_crn)\n",
    "    # print(temp_crn[2124])"
   ]
  },
  {
   "cell_type": "code",
   "execution_count": 96,
   "id": "b1176cf2",
   "metadata": {},
   "outputs": [
    {
     "name": "stdout",
     "output_type": "stream",
     "text": [
      "[-1.108, 15.723000000000006, 17.951000000000004, 20.721000000000004, 20.634000000000004, 21.078000000000007, 21.078000000000007, 21.078000000000007, 21.078000000000007, 21.078000000000007, 21.078000000000007, 21.078000000000007, 21.078000000000007, 21.078000000000007, 21.078000000000007, 21.078000000000007, 21.078000000000007, 21.078000000000007, 21.078000000000007, 21.078000000000007, 21.082000000000004, 21.082000000000004, 21.082000000000004, 21.082000000000004, 21.082000000000004]\n"
     ]
    }
   ],
   "source": [
    "difference3_gai = []\n",
    "\n",
    "zip_object = zip(temp, temp_crn)\n",
    "for temp_i, temp_crn_i in zip_object:\n",
    "    difference3_gai.append(temp_i-temp_crn_i)\n",
    "\n",
    "print(difference3_gai)"
   ]
  },
  {
   "cell_type": "markdown",
   "id": "0a541e7a",
   "metadata": {},
   "source": [
    "<font size=\"3\">Fairhope, AL: 1300 UTC 5 April 2022-1300 UTC 6 April 2022</font>"
   ]
  },
  {
   "cell_type": "code",
   "execution_count": 97,
   "id": "26818932",
   "metadata": {},
   "outputs": [
    {
     "name": "stdout",
     "output_type": "stream",
     "text": [
      "[ 0.     0.     0.     0.083  0.085  0.085  0.091  3.574  7.085  7.546\n",
      "  7.818 26.055 26.055 26.055 26.056 26.056 26.056 26.058 26.075 26.078\n",
      " 26.079 26.084 26.101 26.111 26.111]\n"
     ]
    }
   ],
   "source": [
    "#12 hr hrrr:\n",
    "with open('hrrr_f12_Fairhope_AL.txt') as f:\n",
    "    lst=[line.split()[2] for line in f]\n",
    "    temp=[]\n",
    "    for i in lst:\n",
    "        new=i.replace(',',\"\")\n",
    "        temp.append(new)\n",
    "    temp.pop(0)\n",
    "    temp=[float(x) for x in temp]\n",
    "    temp=temp[2257:2282]\n",
    "    #temp=temp[2015:2063]\n",
    "    temp=np.cumsum(temp)\n",
    "    print(temp)\n",
    "#full time period is [2015:2112]"
   ]
  },
  {
   "cell_type": "code",
   "execution_count": 98,
   "id": "0f24863a",
   "metadata": {},
   "outputs": [],
   "source": [
    "#Air Temp CRN:\n",
    "with open('CRNH0203-2022-AL_Fairhope_3_NE.txt') as f:\n",
    "    lst=[line.split()[12] for line in f]\n",
    "    #print(lst)\n",
    "    temp_crn=[]\n",
    "    for i in lst:\n",
    "        new=i.replace(',',\"\")\n",
    "        temp_crn.append(new)\n",
    "    temp_crn=[float(x) for x in temp_crn]\n",
    "    temp_crn=temp_crn[2268:2293]\n",
    "    temp_crn=np.cumsum(temp_crn)\n",
    "    #print(temp_crn)\n",
    "    # print(temp_crn[2124])"
   ]
  },
  {
   "cell_type": "code",
   "execution_count": 99,
   "id": "e08d6481",
   "metadata": {},
   "outputs": [
    {
     "name": "stdout",
     "output_type": "stream",
     "text": [
      "[0.0, 0.0, 0.0, 0.083, 0.085, -26.015, -34.809000000000005, -38.32600000000001, -34.815000000000005, -34.354000000000006, -34.08200000000001, -15.845000000000006, -15.845000000000006, -15.845000000000006, -15.844000000000005, -15.844000000000005, -15.844000000000005, -15.842000000000006, -15.825000000000006, -15.822000000000006, -15.821000000000005, -15.816000000000006, -15.799000000000007, -15.789000000000005, -15.789000000000005]\n"
     ]
    }
   ],
   "source": [
    "difference3_fai = []\n",
    "\n",
    "zip_object = zip(temp, temp_crn)\n",
    "for temp_i, temp_crn_i in zip_object:\n",
    "    difference3_fai.append(temp_i-temp_crn_i)\n",
    "\n",
    "print(difference3_fai)"
   ]
  },
  {
   "cell_type": "markdown",
   "id": "817a1997",
   "metadata": {},
   "source": [
    "<font size=\"3\">Selma, AL: 1300 UTC 5 April 2022-1300 UTC 6 April 2022</font>"
   ]
  },
  {
   "cell_type": "code",
   "execution_count": 100,
   "id": "3850a5ea",
   "metadata": {},
   "outputs": [
    {
     "name": "stdout",
     "output_type": "stream",
     "text": [
      "[0.0000e+00 0.0000e+00 6.3000e-02 3.2832e+01 5.2113e+01 6.1267e+01\n",
      " 6.5530e+01 6.5629e+01 6.5679e+01 6.5679e+01 6.5679e+01 6.5679e+01\n",
      " 6.5679e+01 6.5679e+01 6.5679e+01 6.5679e+01 6.5679e+01 6.5679e+01\n",
      " 6.5679e+01 6.5679e+01 6.5679e+01 6.5679e+01 6.5686e+01 6.5686e+01\n",
      " 6.5686e+01]\n",
      "[17.4 28.1 40.8 44.4 47.6 48.5 48.8 48.8 48.8 48.8 48.8 48.8 48.8 48.8\n",
      " 48.8 48.8 48.8 48.8 48.8 48.8 48.8 48.8 48.8 48.8 49. ]\n",
      "[-17.4, -28.099999999999998, -40.736999999999995, -11.567999999999998, 4.512999999999998, 12.766999999999996, 16.730000000000004, 16.829000000000008, 16.879000000000005, 16.879000000000005, 16.879000000000005, 16.879000000000005, 16.879000000000005, 16.879000000000005, 16.879000000000005, 16.879000000000005, 16.879000000000005, 16.879000000000005, 16.879000000000005, 16.879000000000005, 16.879000000000005, 16.879000000000005, 16.88600000000001, 16.88600000000001, 16.686000000000007]\n",
      "25\n"
     ]
    }
   ],
   "source": [
    "#12 hr hrrr:\n",
    "with open('hrrr_f12_Selma_AL.txt') as f:\n",
    "    lst=[line.split()[2] for line in f]\n",
    "    temp=[]\n",
    "    for i in lst:\n",
    "        new=i.replace(',',\"\")\n",
    "        temp.append(new)\n",
    "    temp.pop(0)\n",
    "    temp=[float(x) for x in temp]\n",
    "    temp=temp[2257:2282]\n",
    "    \n",
    "#Air Temp CRN:\n",
    "with open('CRNH0203-2022-AL_Selma_13_WNW.txt') as f:\n",
    "    lst=[line.split()[12] for line in f]\n",
    "    #print(lst)\n",
    "    temp_crn=[]\n",
    "    for i in lst:\n",
    "        new=i.replace(',',\"\")\n",
    "        temp_crn.append(new)\n",
    "    temp_crn=[float(x) for x in temp_crn]\n",
    "    temp_crn=temp_crn[2268:2293]\n",
    "\n",
    "    temp=np.cumsum(temp)\n",
    "    print(temp)\n",
    "    temp_crn=np.cumsum(temp_crn)\n",
    "    print(temp_crn)\n",
    "#full time period is [2015:2112]\n",
    "difference3_sel = []\n",
    "\n",
    "zip_object = zip(temp, temp_crn)\n",
    "for temp_i, temp_crn_i in zip_object:\n",
    "    difference3_sel.append(temp_i-temp_crn_i)\n",
    "\n",
    "print(difference3_sel)\n",
    "print(len(difference3_sel))"
   ]
  },
  {
   "cell_type": "markdown",
   "id": "8492b45b",
   "metadata": {},
   "source": [
    "<font size=\"3\">Bowling Green, KY: 1500 UTC 5 April 2022-1500 UTC 6 April 2022</font>"
   ]
  },
  {
   "cell_type": "code",
   "execution_count": 101,
   "id": "f04dad03",
   "metadata": {},
   "outputs": [
    {
     "name": "stdout",
     "output_type": "stream",
     "text": [
      "[1.9000e-02 9.8000e-02 1.2800e-01 8.1200e-01 1.7120e+00 2.0660e+00\n",
      " 2.5290e+00 2.5310e+00 2.5310e+00 2.5310e+00 2.5310e+00 2.5310e+00\n",
      " 2.5310e+00 2.5310e+00 2.5310e+00 2.5310e+00 2.5310e+00 2.5310e+00\n",
      " 2.5310e+00 2.5310e+00 2.5310e+00 2.5310e+00 3.9620e+00 1.5843e+01\n",
      " 2.2046e+01]\n"
     ]
    }
   ],
   "source": [
    "#12 hr hrrr:\n",
    "with open('hrrr_f12_Bowling Green_KY.txt') as f:\n",
    "    lst=[line.split()[2] for line in f]\n",
    "    temp=[]\n",
    "    for i in lst:\n",
    "        new=i.replace(',',\"\")\n",
    "        temp.append(new)\n",
    "    temp.pop(0)\n",
    "    temp=[float(x) for x in temp]\n",
    "    temp=temp[2259:2284]\n",
    "    #temp=temp[2015:2063]\n",
    "    temp=np.cumsum(temp)\n",
    "    print(temp)"
   ]
  },
  {
   "cell_type": "code",
   "execution_count": 102,
   "id": "679e4a94",
   "metadata": {},
   "outputs": [],
   "source": [
    "# hour=[]\n",
    "# for i in range(-8,17,1):\n",
    "#     hour.append(i)\n",
    "#     i+=1\n",
    "# print(len(hour))"
   ]
  },
  {
   "cell_type": "code",
   "execution_count": 103,
   "id": "9c3d4d9e",
   "metadata": {},
   "outputs": [],
   "source": [
    "#Air Temp CRN:\n",
    "with open('CRNH0203-2022-KY_Bowling_Green_21_NNE.txt') as f:\n",
    "    lst=[line.split()[12] for line in f]\n",
    "    #print(lst)\n",
    "    temp_crn=[]\n",
    "    for i in lst:\n",
    "        new=i.replace(',',\"\")\n",
    "        temp_crn.append(new)\n",
    "    temp_crn=[float(x) for x in temp_crn]\n",
    "    temp_crn=temp_crn[2270:2295]\n",
    "    temp_crn=np.cumsum(temp_crn)\n",
    "    #print(temp_crn)\n",
    "    # print(temp_crn[2124])"
   ]
  },
  {
   "cell_type": "code",
   "execution_count": 104,
   "id": "8047270f",
   "metadata": {},
   "outputs": [
    {
     "name": "stdout",
     "output_type": "stream",
     "text": [
      "[0.019, -0.902, -1.472, -1.788, -3.688, -6.133999999999999, -6.170999999999999, -6.568999999999999, -6.568999999999999, -6.568999999999999, -6.568999999999999, -6.568999999999999, -6.568999999999999, -6.568999999999999, -6.568999999999999, -6.568999999999999, -6.568999999999999, -6.568999999999999, -6.568999999999999, -6.568999999999999, -6.568999999999999, -7.168999999999999, -10.838, -2.3569999999999993, 2.346]\n"
     ]
    }
   ],
   "source": [
    "difference3_bow = []\n",
    "\n",
    "zip_object = zip(temp, temp_crn)\n",
    "for temp_i, temp_crn_i in zip_object:\n",
    "    difference3_bow.append(temp_i-temp_crn_i)\n",
    "\n",
    "print(difference3_bow)"
   ]
  },
  {
   "cell_type": "markdown",
   "id": "e3343352",
   "metadata": {},
   "source": [
    "<font size=\"3\">Gadsden, AL: 1500 UTC 5 April 2022-1500 UTC 6 April 2022</font>"
   ]
  },
  {
   "cell_type": "code",
   "execution_count": 105,
   "id": "b5d956b1",
   "metadata": {},
   "outputs": [],
   "source": [
    "# #12 hr hrrr:\n",
    "# with open('hrrr_f12_Gadsden_AL.txt') as f:\n",
    "#     lst=[line.split()[2] for line in f]\n",
    "#     temp=[]\n",
    "#     for i in lst:\n",
    "#         new=i.replace(',',\"\")\n",
    "#         temp.append(new)\n",
    "#     temp.pop(0)\n",
    "#     temp=[float(x) for x in temp]\n",
    "#     temp=temp[2259:2284]\n",
    "#     #temp=temp[2015:2063]\n",
    "#     temp=np.cumsum(temp)\n",
    "#     print(temp)\n",
    "# #full time period is [2015:2112]"
   ]
  },
  {
   "cell_type": "code",
   "execution_count": 106,
   "id": "3e263dee",
   "metadata": {},
   "outputs": [],
   "source": [
    "# #Air Temp CRN:\n",
    "# with open('CRNH0203-2022-AL_Gadsden_19_N.txt') as f:\n",
    "#     lst=[line.split()[12] for line in f]\n",
    "#     #print(lst)\n",
    "#     temp_crn=[]\n",
    "#     for i in lst:\n",
    "#         new=i.replace(',',\"\")\n",
    "#         temp_crn.append(new)\n",
    "#     temp_crn=[float(x) for x in temp_crn]\n",
    "#     temp_crn=temp_crn[2270:2295]\n",
    "#     temp_crn=np.cumsum(temp_crn)\n",
    "#     print(temp_crn)\n",
    "#     # print(temp_crn[2124])"
   ]
  },
  {
   "cell_type": "code",
   "execution_count": 107,
   "id": "9ac3a61b",
   "metadata": {},
   "outputs": [],
   "source": [
    "# difference3_gad = []\n",
    "\n",
    "# zip_object = zip(temp, temp_crn)\n",
    "# for temp_i, temp_crn_i in zip_object:\n",
    "#     difference3_gad.append(temp_i-temp_crn_i)\n",
    "\n",
    "# print(difference3_gad)"
   ]
  },
  {
   "cell_type": "markdown",
   "id": "24b41c3d",
   "metadata": {},
   "source": [
    "<font size=\"3\">Newton, GA: 1800 UTC 5 April 2022-1800 UTC 6 April 2022</font>"
   ]
  },
  {
   "cell_type": "code",
   "execution_count": 108,
   "id": "a8841de8",
   "metadata": {},
   "outputs": [
    {
     "name": "stdout",
     "output_type": "stream",
     "text": [
      "[ 0.     0.     0.     0.091  4.352  8.26   8.961 10.214 10.226 10.226\n",
      " 10.594 10.594 10.651 10.651 10.652 10.652 10.656 10.656 10.656 10.656\n",
      " 10.656 10.656 10.656 10.656 11.717]\n"
     ]
    }
   ],
   "source": [
    "#12 hr hrrr:\n",
    "with open('hrrr_f12_Newton_GA.txt') as f:\n",
    "    lst=[line.split()[2] for line in f]\n",
    "    temp=[]\n",
    "    for i in lst:\n",
    "        new=i.replace(',',\"\")\n",
    "        temp.append(new)\n",
    "    temp.pop(0)\n",
    "    temp=[float(x) for x in temp]\n",
    "    temp=temp[2262:2287]\n",
    "    #temp=temp[2015:2063]\n",
    "    temp=np.cumsum(temp)\n",
    "    print(temp)\n",
    "#full time period is [2015:2112]"
   ]
  },
  {
   "cell_type": "code",
   "execution_count": 109,
   "id": "8a62826d",
   "metadata": {},
   "outputs": [],
   "source": [
    "#Air Temp CRN:\n",
    "with open('CRNH0203-2022-GA_Newton_11_SW.txt') as f:\n",
    "    lst=[line.split()[12] for line in f]\n",
    "    #print(lst)\n",
    "    temp_crn=[]\n",
    "    for i in lst:\n",
    "        new=i.replace(',',\"\")\n",
    "        temp_crn.append(new)\n",
    "    temp_crn=[float(x) for x in temp_crn]\n",
    "    temp_crn=temp_crn[2273:2298]\n",
    "    temp_crn=np.cumsum(temp_crn)\n",
    "    #print(temp_crn)\n",
    "    # print(temp_crn[2124])"
   ]
  },
  {
   "cell_type": "code",
   "execution_count": 110,
   "id": "474e5fae",
   "metadata": {},
   "outputs": [
    {
     "name": "stdout",
     "output_type": "stream",
     "text": [
      "[0.0, 0.0, -1.8, -26.509, -29.348000000000003, -27.140000000000008, -29.439000000000007, -28.486000000000004, -28.474000000000004, -28.474000000000004, -28.106, -28.106, -28.049, -28.049, -28.048000000000002, -28.048000000000002, -28.044000000000004, -28.044000000000004, -28.044000000000004, -28.044000000000004, -28.044000000000004, -28.044000000000004, -28.044000000000004, -28.044000000000004, -26.983000000000004]\n"
     ]
    }
   ],
   "source": [
    "difference3_newt = []\n",
    "\n",
    "zip_object = zip(temp, temp_crn)\n",
    "for temp_i, temp_crn_i in zip_object:\n",
    "    difference3_newt.append(temp_i-temp_crn_i)\n",
    "\n",
    "print(difference3_newt)"
   ]
  },
  {
   "cell_type": "markdown",
   "id": "e079df5d",
   "metadata": {},
   "source": [
    "<font size=\"3\">Salem, MO: 1500 UTC 13 April 2022-1500 UTC 14 April 2022</font>"
   ]
  },
  {
   "cell_type": "code",
   "execution_count": 111,
   "id": "8a544d44",
   "metadata": {},
   "outputs": [
    {
     "name": "stdout",
     "output_type": "stream",
     "text": [
      "[ 7.185 30.543 51.394 54.968 59.611 61.329 67.102 67.326 67.4   67.4\n",
      " 67.4   67.4   67.4   67.4   67.4   67.4   67.4   67.4   67.4   67.4\n",
      " 67.4   67.4   67.4   67.4   67.4  ]\n"
     ]
    }
   ],
   "source": [
    "#12 hr hrrr:\n",
    "with open('hrrr_f12_Salem_MO.txt') as f:\n",
    "    lst=[line.split()[2] for line in f]\n",
    "    temp=[]\n",
    "    for i in lst:\n",
    "        new=i.replace(',',\"\")\n",
    "        temp.append(new)\n",
    "    temp.pop(0)\n",
    "    temp=[float(x) for x in temp]\n",
    "    temp=temp[2451:2476]\n",
    "    #temp=temp[2015:2063]\n",
    "    temp=np.cumsum(temp)\n",
    "    print(temp)\n",
    "#full time period is [2015:2112]"
   ]
  },
  {
   "cell_type": "code",
   "execution_count": 112,
   "id": "7f147a99",
   "metadata": {},
   "outputs": [],
   "source": [
    "#Air Temp CRN:\n",
    "with open('CRNH0203-2022-MO_Salem_10_W.txt') as f:\n",
    "    lst=[line.split()[12] for line in f]\n",
    "    #print(lst)\n",
    "    temp_crn=[]\n",
    "    for i in lst:\n",
    "        new=i.replace(',',\"\")\n",
    "        temp_crn.append(new)\n",
    "    temp_crn=[float(x) for x in temp_crn]\n",
    "    temp_crn=temp_crn[2462:2487]\n",
    "    temp_crn=np.cumsum(temp_crn)\n",
    "    #print(temp_crn)\n",
    "    # print(temp_crn[2124])"
   ]
  },
  {
   "cell_type": "code",
   "execution_count": 114,
   "id": "cfc37d3d",
   "metadata": {},
   "outputs": [
    {
     "name": "stdout",
     "output_type": "stream",
     "text": [
      "[5.584999999999999, 20.243000000000002, 29.994, 26.967999999999996, 25.311, 22.628999999999998, 28.001999999999995, 28.226, 28.299999999999997, 28.299999999999997, 28.299999999999997, 28.299999999999997, 28.299999999999997, 28.299999999999997, 28.299999999999997, 28.299999999999997, 28.299999999999997, 28.299999999999997, 28.299999999999997, 28.299999999999997, 28.299999999999997, 28.299999999999997, 28.299999999999997, 28.299999999999997, 28.299999999999997]\n"
     ]
    }
   ],
   "source": [
    "difference4_sal = []\n",
    "\n",
    "zip_object = zip(temp, temp_crn)\n",
    "for temp_i, temp_crn_i in zip_object:\n",
    "    difference4_sal.append(temp_i-temp_crn_i)\n",
    "\n",
    "print(difference4_sal)"
   ]
  },
  {
   "cell_type": "markdown",
   "id": "1baa8356",
   "metadata": {},
   "source": [
    "<font size=\"3\">Batesville, AR: 1500 UTC 13 April 2022-1500 UTC 14 April 2022</font>"
   ]
  },
  {
   "cell_type": "code",
   "execution_count": 115,
   "id": "50af2a53",
   "metadata": {},
   "outputs": [
    {
     "name": "stdout",
     "output_type": "stream",
     "text": [
      "[0.    2.342 2.35  2.389 2.664 2.84  3.946 4.655 4.656 4.656 4.656 4.656\n",
      " 4.656 4.656 4.656 4.656 4.656 4.656 4.656 4.656 4.656 4.656 4.656 4.656\n",
      " 4.656]\n"
     ]
    }
   ],
   "source": [
    "#12 hr hrrr:\n",
    "with open('hrrr_f12_Batesville_AR.txt') as f:\n",
    "    lst=[line.split()[2] for line in f]\n",
    "    temp=[]\n",
    "    for i in lst:\n",
    "        new=i.replace(',',\"\")\n",
    "        temp.append(new)\n",
    "    temp.pop(0)\n",
    "    temp=[float(x) for x in temp]\n",
    "    temp=temp[2451:2476]\n",
    "    #temp=temp[2015:2063]\n",
    "    temp=np.cumsum(temp)\n",
    "    print(temp)\n",
    "#full time period is [2015:2112]"
   ]
  },
  {
   "cell_type": "code",
   "execution_count": 116,
   "id": "3f6ddd59",
   "metadata": {},
   "outputs": [],
   "source": [
    "#Air Temp CRN:\n",
    "with open('CRNH0203-2022-AR_Batesville_8_WNW.txt') as f:\n",
    "    lst=[line.split()[12] for line in f]\n",
    "    #print(lst)\n",
    "    temp_crn=[]\n",
    "    for i in lst:\n",
    "        new=i.replace(',',\"\")\n",
    "        temp_crn.append(new)\n",
    "    temp_crn=[float(x) for x in temp_crn]\n",
    "    temp_crn=temp_crn[2462:2487]\n",
    "    temp_crn=np.cumsum(temp_crn)\n",
    "    #print(temp_crn)\n",
    "    # print(temp_crn[2124])"
   ]
  },
  {
   "cell_type": "code",
   "execution_count": 117,
   "id": "3ca802b3",
   "metadata": {},
   "outputs": [
    {
     "name": "stdout",
     "output_type": "stream",
     "text": [
      "[-1.7, 0.6420000000000001, 0.6500000000000001, -1.2109999999999994, -19.536, -21.360000000000003, -20.254, -19.545, -19.544000000000004, -19.544000000000004, -19.544000000000004, -19.544000000000004, -19.544000000000004, -19.544000000000004, -19.544000000000004, -19.544000000000004, -19.544000000000004, -19.544000000000004, -19.544000000000004, -19.544000000000004, -19.544000000000004, -19.544000000000004, -19.544000000000004, -19.544000000000004, -19.544000000000004]\n"
     ]
    }
   ],
   "source": [
    "difference4_bat = []\n",
    "\n",
    "zip_object = zip(temp, temp_crn)\n",
    "for temp_i, temp_crn_i in zip_object:\n",
    "    difference4_bat.append(temp_i-temp_crn_i)\n",
    "\n",
    "print(difference4_bat)"
   ]
  },
  {
   "cell_type": "markdown",
   "id": "ed60c082",
   "metadata": {},
   "source": [
    "<font size=\"3\">Lafayette, LA: 2000 UTC 13 April 2022-2000 UTC 14 April 2022\n",
    "</font>"
   ]
  },
  {
   "cell_type": "code",
   "execution_count": 118,
   "id": "8be3433b",
   "metadata": {},
   "outputs": [
    {
     "name": "stdout",
     "output_type": "stream",
     "text": [
      "[0.0000e+00 0.0000e+00 1.0000e-03 1.3000e-02 5.7600e-01 6.2900e-01\n",
      " 8.7400e-01 1.0240e+00 1.8196e+01 2.6099e+01 2.6103e+01 2.6108e+01\n",
      " 2.6109e+01 2.6117e+01 2.6119e+01 2.6119e+01 2.6119e+01 2.6119e+01\n",
      " 2.6119e+01 2.6119e+01 2.6119e+01 2.6119e+01 2.6119e+01 2.6119e+01\n",
      " 2.6119e+01]\n"
     ]
    }
   ],
   "source": [
    "#12 hr hrrr:\n",
    "with open('hrrr_f12_Lafayette_LA.txt') as f:\n",
    "    lst=[line.split()[2] for line in f]\n",
    "    temp=[]\n",
    "    for i in lst:\n",
    "        new=i.replace(',',\"\")\n",
    "        temp.append(new)\n",
    "    temp.pop(0)\n",
    "    temp=[float(x) for x in temp]\n",
    "    temp=temp[2456:2481]\n",
    "    #temp=temp[2015:2063]\n",
    "    temp=np.cumsum(temp)\n",
    "    print(temp)\n",
    "#full time period is [2015:2112]"
   ]
  },
  {
   "cell_type": "code",
   "execution_count": 119,
   "id": "8a5add55",
   "metadata": {},
   "outputs": [],
   "source": [
    "#Air Temp CRN:\n",
    "with open('CRNH0203-2022-LA_Lafayette_13_SE.txt') as f:\n",
    "    lst=[line.split()[12] for line in f]\n",
    "    #print(lst)\n",
    "    temp_crn=[]\n",
    "    for i in lst:\n",
    "        new=i.replace(',',\"\")\n",
    "        temp_crn.append(new)\n",
    "    temp_crn=[float(x) for x in temp_crn]\n",
    "    temp_crn=temp_crn[2467:2492]\n",
    "    temp_crn=np.cumsum(temp_crn)\n",
    "    #print(temp_crn)\n",
    "    # print(temp_crn[2124])"
   ]
  },
  {
   "cell_type": "code",
   "execution_count": 120,
   "id": "f0730891",
   "metadata": {},
   "outputs": [
    {
     "name": "stdout",
     "output_type": "stream",
     "text": [
      "[0.0, 0.0, 0.001, 0.013000000000000001, 0.576, 0.629, 0.874, -6.876, -11.404, -5.101000000000003, -5.097000000000001, -5.092000000000002, -5.091000000000001, -5.083000000000002, -5.081000000000003, -5.081000000000003, -5.081000000000003, -5.081000000000003, -5.081000000000003, -5.081000000000003, -5.081000000000003, -5.081000000000003, -5.081000000000003, -5.081000000000003, -5.081000000000003]\n"
     ]
    }
   ],
   "source": [
    "difference4_laf = []\n",
    "\n",
    "zip_object = zip(temp, temp_crn)\n",
    "for temp_i, temp_crn_i in zip_object:\n",
    "    difference4_laf.append(temp_i-temp_crn_i)\n",
    "\n",
    "print(difference4_laf)"
   ]
  },
  {
   "cell_type": "markdown",
   "id": "a4cb46d7",
   "metadata": {},
   "source": [
    "<font size=\"3\">Monroe, LA: 2000 UTC 13 April 2022-2000 UTC 14 April 2022</font>"
   ]
  },
  {
   "cell_type": "code",
   "execution_count": 121,
   "id": "bc9822b1",
   "metadata": {},
   "outputs": [
    {
     "name": "stdout",
     "output_type": "stream",
     "text": [
      "[0.59  0.875 0.97  0.974 4.539 4.55  4.55  4.55  4.55  4.55  4.55  4.55\n",
      " 4.55  4.55  4.55  4.55  4.55  4.55  4.55  4.55  4.55  4.55  4.55  4.55\n",
      " 4.55 ]\n"
     ]
    }
   ],
   "source": [
    "#12 hr hrrr:\n",
    "with open('hrrr_f12_Monroe_LA.txt') as f:\n",
    "    lst=[line.split()[2] for line in f]\n",
    "    temp=[]\n",
    "    for i in lst:\n",
    "        new=i.replace(',',\"\")\n",
    "        temp.append(new)\n",
    "    temp.pop(0)\n",
    "    temp=[float(x) for x in temp]\n",
    "    temp=temp[2456:2481]\n",
    "    #temp=temp[2015:2063]\n",
    "    temp=np.cumsum(temp)\n",
    "    print(temp)\n",
    "#full time period is [2015:2112]"
   ]
  },
  {
   "cell_type": "code",
   "execution_count": 122,
   "id": "af7a34bf",
   "metadata": {},
   "outputs": [],
   "source": [
    "#Air Temp CRN:\n",
    "with open('CRNH0203-2022-LA_Monroe_26_N.txt') as f:\n",
    "    lst=[line.split()[12] for line in f]\n",
    "    #print(lst)\n",
    "    temp_crn=[]\n",
    "    for i in lst:\n",
    "        new=i.replace(',',\"\")\n",
    "        temp_crn.append(new)\n",
    "    temp_crn=[float(x) for x in temp_crn]\n",
    "    temp_crn=temp_crn[2467:2492]\n",
    "    temp_crn=np.cumsum(temp_crn)\n",
    "    #print(temp_crn)\n",
    "    # print(temp_crn[2124])"
   ]
  },
  {
   "cell_type": "code",
   "execution_count": 123,
   "id": "91696836",
   "metadata": {},
   "outputs": [
    {
     "name": "stdout",
     "output_type": "stream",
     "text": [
      "[0.59, 0.875, -2.5300000000000002, -2.526, -3.561, -3.55, -3.55, -3.55, -3.55, -3.55, -3.55, -3.55, -3.55, -3.55, -3.55, -3.55, -3.55, -3.55, -3.55, -3.55, -3.55, -3.55, -3.55, -3.55, -3.55]\n"
     ]
    }
   ],
   "source": [
    "difference4_mon = []\n",
    "\n",
    "zip_object = zip(temp, temp_crn)\n",
    "for temp_i, temp_crn_i in zip_object:\n",
    "    difference4_mon.append(temp_i-temp_crn_i)\n",
    "\n",
    "print(difference4_mon)"
   ]
  },
  {
   "cell_type": "markdown",
   "id": "797ab9bf",
   "metadata": {},
   "source": [
    "<font size=\"3\">Holly Springs, MS: 2300 UTC 13 April 2022-2300 UTC 14 April 2022</font>"
   ]
  },
  {
   "cell_type": "code",
   "execution_count": 124,
   "id": "25958065",
   "metadata": {},
   "outputs": [
    {
     "name": "stdout",
     "output_type": "stream",
     "text": [
      "[0.095 0.347 0.921 0.941 3.991 4.575 4.575 4.575 4.575 4.575 4.575 4.575\n",
      " 4.575 4.575 4.575 4.575 4.575 4.575 4.575 4.575 4.575 4.575 4.575 4.575\n",
      " 4.575]\n"
     ]
    }
   ],
   "source": [
    "#12 hr hrrr:\n",
    "with open('hrrr_f12_Holly Springs_MS.txt') as f:\n",
    "    lst=[line.split()[2] for line in f]\n",
    "    temp=[]\n",
    "    for i in lst:\n",
    "        new=i.replace(',',\"\")\n",
    "        temp.append(new)\n",
    "    temp.pop(0)\n",
    "    temp=[float(x) for x in temp]\n",
    "    temp=temp[2459:2484]\n",
    "    #temp=temp[2015:2063]\n",
    "    temp=np.cumsum(temp)\n",
    "    print(temp)\n",
    "#full time period is [2015:2112]"
   ]
  },
  {
   "cell_type": "code",
   "execution_count": 125,
   "id": "ffe3951c",
   "metadata": {},
   "outputs": [],
   "source": [
    "#Air Temp CRN:\n",
    "with open('CRNH0203-2022-MS_Holly_Springs_4_N.txt') as f:\n",
    "    lst=[line.split()[12] for line in f]\n",
    "    #print(lst)\n",
    "    temp_crn=[]\n",
    "    for i in lst:\n",
    "        new=i.replace(',',\"\")\n",
    "        temp_crn.append(new)\n",
    "    temp_crn=[float(x) for x in temp_crn]\n",
    "    temp_crn=temp_crn[2470:2495]\n",
    "    temp_crn=np.cumsum(temp_crn)\n",
    "    #print(temp_crn)\n",
    "    # print(temp_crn[2124])"
   ]
  },
  {
   "cell_type": "code",
   "execution_count": 126,
   "id": "6226fdc5",
   "metadata": {},
   "outputs": [
    {
     "name": "stdout",
     "output_type": "stream",
     "text": [
      "[-19.905, -29.352999999999998, -28.979, -28.959, -25.909, -25.325, -25.325, -25.325, -25.325, -25.325, -25.325, -25.325, -25.325, -25.325, -25.325, -25.325, -25.325, -25.325, -25.325, -25.325, -25.325, -25.325, -25.325, -25.325, -25.325]\n"
     ]
    }
   ],
   "source": [
    "difference4_hol = []\n",
    "\n",
    "zip_object = zip(temp, temp_crn)\n",
    "for temp_i, temp_crn_i in zip_object:\n",
    "    difference4_hol.append(temp_i-temp_crn_i)\n",
    "\n",
    "print(difference4_hol)"
   ]
  },
  {
   "cell_type": "markdown",
   "id": "2580ca75",
   "metadata": {},
   "source": [
    "<font size=\"3\">Newton, MS: 2300 UTC 13 April 2022-2300 UTC 14 April 2022</font>"
   ]
  },
  {
   "cell_type": "code",
   "execution_count": 127,
   "id": "2d759922",
   "metadata": {},
   "outputs": [
    {
     "name": "stdout",
     "output_type": "stream",
     "text": [
      "[0.0000e+00 0.0000e+00 3.5000e-02 1.9831e+01 2.6892e+01 2.7979e+01\n",
      " 2.8174e+01 3.7121e+01 3.8778e+01 3.9979e+01 3.9979e+01 3.9979e+01\n",
      " 3.9979e+01 3.9979e+01 3.9979e+01 3.9979e+01 3.9979e+01 3.9979e+01\n",
      " 3.9979e+01 3.9979e+01 3.9979e+01 3.9979e+01 3.9979e+01 3.9979e+01\n",
      " 3.9979e+01]\n"
     ]
    }
   ],
   "source": [
    "#12 hr hrrr:\n",
    "with open('hrrr_f12_Newton_MS.txt') as f:\n",
    "    lst=[line.split()[2] for line in f]\n",
    "    temp=[]\n",
    "    for i in lst:\n",
    "        new=i.replace(',',\"\")\n",
    "        temp.append(new)\n",
    "    temp.pop(0)\n",
    "    temp=[float(x) for x in temp]\n",
    "    temp=temp[2459:2484]\n",
    "    #temp=temp[2015:2063]\n",
    "    temp=np.cumsum(temp)\n",
    "    print(temp)\n",
    "#full time period is [2015:2112]"
   ]
  },
  {
   "cell_type": "code",
   "execution_count": 128,
   "id": "92e5271c",
   "metadata": {},
   "outputs": [],
   "source": [
    "#Air Temp CRN:\n",
    "with open('CRNH0203-2022-MS_Newton_5_ENE.txt') as f:\n",
    "    lst=[line.split()[12] for line in f]\n",
    "    #print(lst)\n",
    "    temp_crn=[]\n",
    "    for i in lst:\n",
    "        new=i.replace(',',\"\")\n",
    "        temp_crn.append(new)\n",
    "    temp_crn=[float(x) for x in temp_crn]\n",
    "    temp_crn=temp_crn[2470:2495]\n",
    "    temp_crn=np.cumsum(temp_crn)\n",
    "    #print(temp_crn)\n",
    "    # print(temp_crn[2124])"
   ]
  },
  {
   "cell_type": "code",
   "execution_count": 129,
   "id": "e75f9641",
   "metadata": {},
   "outputs": [
    {
     "name": "stdout",
     "output_type": "stream",
     "text": [
      "[0.0, 0.0, 0.035, 3.3309999999999995, 5.8919999999999995, 3.378999999999998, 2.9739999999999966, 11.920999999999992, 13.577999999999989, 14.57899999999999, 14.57899999999999, 14.57899999999999, 14.57899999999999, 14.57899999999999, 14.57899999999999, 14.57899999999999, 14.57899999999999, 14.57899999999999, 14.57899999999999, 14.57899999999999, 14.57899999999999, 14.57899999999999, 14.57899999999999, 14.57899999999999, 14.57899999999999]\n"
     ]
    }
   ],
   "source": [
    "difference4_new = []\n",
    "\n",
    "zip_object = zip(temp, temp_crn)\n",
    "for temp_i, temp_crn_i in zip_object:\n",
    "    difference4_new.append(temp_i-temp_crn_i)\n",
    "\n",
    "print(difference4_new)"
   ]
  },
  {
   "cell_type": "markdown",
   "id": "a7d0e1e9",
   "metadata": {},
   "source": [
    "<font size=\"3\">Gainesville, AL: 0200 UTC 14 April 2022-0200 UTC 15 April 2022</font>"
   ]
  },
  {
   "cell_type": "code",
   "execution_count": 130,
   "id": "4bddcdb7",
   "metadata": {},
   "outputs": [
    {
     "name": "stdout",
     "output_type": "stream",
     "text": [
      "[18.041 23.347 23.75  24.192 25.131 28.455 31.36  32.801 33.074 33.094\n",
      " 33.11  33.113 33.113 33.113 33.113 33.113 33.113 33.113 33.113 33.113\n",
      " 33.113 33.113 33.113 33.113 33.113]\n"
     ]
    }
   ],
   "source": [
    "#12 hr hrrr:\n",
    "with open('hrrr_f12_Gainesville_AL.txt') as f:\n",
    "    lst=[line.split()[2] for line in f]\n",
    "    temp=[]\n",
    "    for i in lst:\n",
    "        new=i.replace(',',\"\")\n",
    "        temp.append(new)\n",
    "    temp.pop(0)\n",
    "    temp=[float(x) for x in temp]\n",
    "    temp=temp[2462:2487]\n",
    "    #temp=temp[2015:2063]\n",
    "    temp=np.cumsum(temp)\n",
    "    print(temp)\n",
    "#full time period is [2015:2112]"
   ]
  },
  {
   "cell_type": "code",
   "execution_count": 131,
   "id": "b5314d1e",
   "metadata": {},
   "outputs": [],
   "source": [
    "#Air Temp CRN:\n",
    "with open('CRNH0203-2022-AL_Gainesville_2_NE.txt') as f:\n",
    "    lst=[line.split()[12] for line in f]\n",
    "    #print(lst)\n",
    "    temp_crn=[]\n",
    "    for i in lst:\n",
    "        new=i.replace(',',\"\")\n",
    "        temp_crn.append(new)\n",
    "    temp_crn=[float(x) for x in temp_crn]\n",
    "    temp_crn=temp_crn[2473:2498]\n",
    "    temp_crn=np.cumsum(temp_crn)\n",
    "    #print(temp_crn)\n",
    "    # print(temp_crn[2124])"
   ]
  },
  {
   "cell_type": "code",
   "execution_count": 132,
   "id": "c9db90a8",
   "metadata": {},
   "outputs": [
    {
     "name": "stdout",
     "output_type": "stream",
     "text": [
      "[18.041, 11.047, 7.149999999999999, 6.692, 7.631, 10.954999999999998, 13.86, 15.301000000000002, 15.574000000000005, 15.594000000000008, 15.610000000000007, 15.613000000000007, 15.613000000000007, 15.613000000000007, 15.613000000000007, 15.613000000000007, 15.613000000000007, 15.613000000000007, 15.613000000000007, 15.613000000000007, 15.613000000000007, 15.613000000000007, 15.613000000000007, 15.613000000000007, 15.613000000000007]\n"
     ]
    }
   ],
   "source": [
    "difference4_gai = []\n",
    "\n",
    "zip_object = zip(temp, temp_crn)\n",
    "for temp_i, temp_crn_i in zip_object:\n",
    "    difference4_gai.append(temp_i-temp_crn_i)\n",
    "\n",
    "print(difference4_gai)"
   ]
  },
  {
   "cell_type": "markdown",
   "id": "cdbcd1b4",
   "metadata": {},
   "source": [
    "<font size=\"3\">Fairhope, AL: 0200 UTC 14 April 2022-0200 UTC 15 April 2022</font>"
   ]
  },
  {
   "cell_type": "code",
   "execution_count": 133,
   "id": "1a0b9a6b",
   "metadata": {},
   "outputs": [
    {
     "name": "stdout",
     "output_type": "stream",
     "text": [
      "[0.0000e+00 0.0000e+00 0.0000e+00 0.0000e+00 0.0000e+00 1.8000e-02\n",
      " 1.1388e+01 1.4741e+01 1.7130e+01 1.7600e+01 1.7858e+01 1.7858e+01\n",
      " 1.7858e+01 1.7971e+01 2.3291e+01 2.3948e+01 2.5482e+01 2.7532e+01\n",
      " 2.8472e+01 2.9862e+01 3.0024e+01 3.0024e+01 3.0024e+01 3.0024e+01\n",
      " 3.0024e+01]\n"
     ]
    }
   ],
   "source": [
    "#12 hr hrrr:\n",
    "with open('hrrr_f12_Fairhope_AL.txt') as f:\n",
    "    lst=[line.split()[2] for line in f]\n",
    "    temp=[]\n",
    "    for i in lst:\n",
    "        new=i.replace(',',\"\")\n",
    "        temp.append(new)\n",
    "    temp.pop(0)\n",
    "    temp=[float(x) for x in temp]\n",
    "    temp=temp[2462:2487]\n",
    "    #temp=temp[2015:2063]\n",
    "    temp=np.cumsum(temp)\n",
    "    print(temp)\n",
    "#full time period is [2015:2112]"
   ]
  },
  {
   "cell_type": "code",
   "execution_count": 134,
   "id": "52234265",
   "metadata": {},
   "outputs": [],
   "source": [
    "#Air Temp CRN:\n",
    "with open('CRNH0203-2022-AL_Fairhope_3_NE.txt') as f:\n",
    "    lst=[line.split()[12] for line in f]\n",
    "    #print(lst)\n",
    "    temp_crn=[]\n",
    "    for i in lst:\n",
    "        new=i.replace(',',\"\")\n",
    "        temp_crn.append(new)\n",
    "    temp_crn=[float(x) for x in temp_crn]\n",
    "    temp_crn=temp_crn[2473:2498]\n",
    "    temp_crn=np.cumsum(temp_crn)\n",
    "    #print(temp_crn)\n",
    "    # print(temp_crn[2124])"
   ]
  },
  {
   "cell_type": "code",
   "execution_count": 135,
   "id": "2e2c6057",
   "metadata": {},
   "outputs": [
    {
     "name": "stdout",
     "output_type": "stream",
     "text": [
      "[0.0, 0.0, -2.1, -2.1, -10.9, -17.682, -8.711999999999998, -9.258999999999997, -11.469999999999995, -11.299999999999997, -11.041999999999998, -11.041999999999998, -11.041999999999998, -10.928999999999998, -5.608999999999998, -4.951999999999998, -3.4179999999999993, -1.3679999999999986, -0.42799999999999727, 0.9620000000000033, 1.1240000000000023, 1.1240000000000023, 1.1240000000000023, 1.1240000000000023, 1.1240000000000023]\n"
     ]
    }
   ],
   "source": [
    "difference4_fai = []\n",
    "\n",
    "zip_object = zip(temp, temp_crn)\n",
    "for temp_i, temp_crn_i in zip_object:\n",
    "    difference4_fai.append(temp_i-temp_crn_i)\n",
    "\n",
    "print(difference4_fai)"
   ]
  },
  {
   "cell_type": "markdown",
   "id": "ba62c881",
   "metadata": {},
   "source": [
    "<font size=\"3\">Selma, AL: 0200 UTC 14 April 2022-0200 UTC 15 April 2022\n",
    "</font>"
   ]
  },
  {
   "cell_type": "code",
   "execution_count": 136,
   "id": "935d8c80",
   "metadata": {},
   "outputs": [
    {
     "name": "stdout",
     "output_type": "stream",
     "text": [
      "[0.0000e+00 0.0000e+00 0.0000e+00 1.0000e-03 1.4893e+01 3.4938e+01\n",
      " 3.9613e+01 4.0263e+01 4.0265e+01 4.0265e+01 4.0782e+01 4.0946e+01\n",
      " 4.0994e+01 4.0994e+01 4.1214e+01 4.1372e+01 4.1372e+01 4.1372e+01\n",
      " 4.1372e+01 4.1372e+01 4.1372e+01 4.1372e+01 4.1372e+01 4.1372e+01\n",
      " 4.1372e+01]\n",
      "[ 0.   0.   9.9 15.1 20.  20.6 20.6 20.6 20.6 20.6 21.1 21.1 21.1 21.1\n",
      " 21.1 21.1 21.1 21.1 21.1 21.1 21.1 21.1 21.1 21.1 21.1]\n",
      "[0.0, 0.0, -9.9, -15.099000000000002, -5.107000000000001, 14.338000000000001, 19.012999999999998, 19.662999999999997, 19.665, 19.665, 19.682000000000002, 19.846000000000004, 19.894000000000005, 19.894000000000005, 20.114000000000004, 20.272000000000006, 20.272000000000006, 20.272000000000006, 20.272000000000006, 20.272000000000006, 20.272000000000006, 20.272000000000006, 20.272000000000006, 20.272000000000006, 20.272000000000006]\n",
      "25\n"
     ]
    }
   ],
   "source": [
    "#12 hr hrrr:\n",
    "with open('hrrr_f12_Selma_AL.txt') as f:\n",
    "    lst=[line.split()[2] for line in f]\n",
    "    temp=[]\n",
    "    for i in lst:\n",
    "        new=i.replace(',',\"\")\n",
    "        temp.append(new)\n",
    "    temp.pop(0)\n",
    "    temp=[float(x) for x in temp]\n",
    "    temp=temp[2462:2487]\n",
    "    \n",
    "#Air Temp CRN:\n",
    "with open('CRNH0203-2022-AL_Selma_13_WNW.txt') as f:\n",
    "    lst=[line.split()[12] for line in f]\n",
    "    #print(lst)\n",
    "    temp_crn=[]\n",
    "    for i in lst:\n",
    "        new=i.replace(',',\"\")\n",
    "        temp_crn.append(new)\n",
    "    temp_crn=[float(x) for x in temp_crn]\n",
    "    temp_crn=temp_crn[2473:2498]\n",
    "    temp=np.cumsum(temp)\n",
    "    print(temp)\n",
    "    temp_crn=np.cumsum(temp_crn)\n",
    "    print(temp_crn)\n",
    "#full time period is [2015:2112]\n",
    "difference4_sel = []\n",
    "\n",
    "zip_object = zip(temp, temp_crn)\n",
    "for temp_i, temp_crn_i in zip_object:\n",
    "    difference4_sel.append(temp_i-temp_crn_i)\n",
    "\n",
    "print(difference4_sel)\n",
    "print(len(difference4_sel))"
   ]
  },
  {
   "cell_type": "markdown",
   "id": "3a2e6fc9",
   "metadata": {},
   "source": [
    "<font size=\"3\">Bowling Green, KY: 0200 UTC 14 April 2022-0200 UTC 15 April 2022</font>"
   ]
  },
  {
   "cell_type": "code",
   "execution_count": 137,
   "id": "c761d214",
   "metadata": {},
   "outputs": [],
   "source": [
    "#12 hr hrrr:\n",
    "with open('hrrr_f12_Bowling Green_KY.txt') as f:\n",
    "    lst=[line.split()[2] for line in f]\n",
    "    temp=[]\n",
    "    for i in lst:\n",
    "        new=i.replace(',',\"\")\n",
    "        temp.append(new)\n",
    "    temp.pop(0)\n",
    "    temp=[float(x) for x in temp]\n",
    "    temp=temp[2462:2487]\n",
    "    #temp=temp[2015:2063]\n",
    "    temp=np.cumsum(temp)\n",
    "    #print(temp)\n",
    "#full time period is [2015:2112]"
   ]
  },
  {
   "cell_type": "code",
   "execution_count": 138,
   "id": "8b86ff4b",
   "metadata": {},
   "outputs": [],
   "source": [
    "# hour=[]\n",
    "# for i in range(-8,17,1):\n",
    "#     hour.append(i)\n",
    "#     i+=1\n",
    "# print(len(hour))"
   ]
  },
  {
   "cell_type": "code",
   "execution_count": 139,
   "id": "a22a0f0f",
   "metadata": {},
   "outputs": [],
   "source": [
    "#Air Temp CRN:\n",
    "with open('CRNH0203-2022-KY_Bowling_Green_21_NNE.txt') as f:\n",
    "    lst=[line.split()[12] for line in f]\n",
    "    #print(lst)\n",
    "    temp_crn=[]\n",
    "    for i in lst:\n",
    "        new=i.replace(',',\"\")\n",
    "        temp_crn.append(new)\n",
    "    temp_crn=[float(x) for x in temp_crn]\n",
    "    temp_crn=temp_crn[2473:2498]\n",
    "    temp_crn=np.cumsum(temp_crn)\n",
    "    #print(temp_crn)\n",
    "    # print(temp_crn[2124])"
   ]
  },
  {
   "cell_type": "code",
   "execution_count": 140,
   "id": "214cf6fd",
   "metadata": {},
   "outputs": [
    {
     "name": "stdout",
     "output_type": "stream",
     "text": [
      "[-0.3600000000000003, -2.0169999999999995, -2.1729999999999983, -2.171999999999999, -1.376999999999999, 0.6600000000000019, 0.6190000000000033, 0.6190000000000033, 0.6190000000000033, 0.6190000000000033, 0.6190000000000033, 0.6190000000000033, 0.6190000000000033, 0.6190000000000033, 0.6190000000000033, 0.6190000000000033, 0.6190000000000033, 0.6190000000000033, 0.6190000000000033, 0.6190000000000033, 0.6190000000000033, 0.6190000000000033, 0.6190000000000033, 0.6190000000000033, 0.6190000000000033]\n"
     ]
    }
   ],
   "source": [
    "difference4_bow = []\n",
    "\n",
    "zip_object = zip(temp, temp_crn)\n",
    "for temp_i, temp_crn_i in zip_object:\n",
    "    difference4_bow.append(temp_i-temp_crn_i)\n",
    "\n",
    "print(difference4_bow)"
   ]
  },
  {
   "cell_type": "markdown",
   "id": "d5df1525",
   "metadata": {},
   "source": [
    "<font size=\"3\">Gadsden, AL: 0200 UTC 14 April 2022-0200 UTC 15 April 2022\n",
    "</font>"
   ]
  },
  {
   "cell_type": "code",
   "execution_count": 141,
   "id": "d0c17372",
   "metadata": {},
   "outputs": [],
   "source": [
    "# #12 hr hrrr:\n",
    "# with open('hrrr_f12_Gadsden_AL.txt') as f:\n",
    "#     lst=[line.split()[2] for line in f]\n",
    "#     temp=[]\n",
    "#     for i in lst:\n",
    "#         new=i.replace(',',\"\")\n",
    "#         temp.append(new)\n",
    "#     temp.pop(0)\n",
    "#     temp=[float(x) for x in temp]\n",
    "#     temp=temp[2462:2487]\n",
    "#     #temp=temp[2015:2063]\n",
    "#     temp=np.cumsum(temp)\n",
    "#     print(temp)\n",
    "#full time period is [2015:2112]"
   ]
  },
  {
   "cell_type": "code",
   "execution_count": 142,
   "id": "4dd09550",
   "metadata": {},
   "outputs": [],
   "source": [
    "# #Air Temp CRN:\n",
    "# with open('CRNH0203-2022-AL_Gadsden_19_N.txt') as f:\n",
    "#     lst=[line.split()[12] for line in f]\n",
    "#     #print(lst)\n",
    "#     temp_crn=[]\n",
    "#     for i in lst:\n",
    "#         new=i.replace(',',\"\")\n",
    "#         temp_crn.append(new)\n",
    "#     temp_crn=[float(x) for x in temp_crn]\n",
    "#     temp_crn=temp_crn[2473:2498]\n",
    "#     temp_crn=np.cumsum(temp_crn)\n",
    "#     #print(temp_crn)\n",
    "#     # print(temp_crn[2124])"
   ]
  },
  {
   "cell_type": "code",
   "execution_count": 143,
   "id": "7476701f",
   "metadata": {},
   "outputs": [],
   "source": [
    "# difference4_gad = []\n",
    "\n",
    "# zip_object = zip(temp, temp_crn)\n",
    "# for temp_i, temp_crn_i in zip_object:\n",
    "#     difference4_gad.append(temp_i-temp_crn_i)\n",
    "\n",
    "# print(difference4_gad)"
   ]
  },
  {
   "cell_type": "markdown",
   "id": "047f5261",
   "metadata": {},
   "source": [
    "<font size=\"3\">Newton, GA: 0600 UTC 14 April 2022-0600 UTC 15 April 2022\n",
    "</font>"
   ]
  },
  {
   "cell_type": "code",
   "execution_count": 144,
   "id": "4eb1aeae",
   "metadata": {},
   "outputs": [
    {
     "name": "stdout",
     "output_type": "stream",
     "text": [
      "[0.    0.    0.    0.    0.    0.    0.001 0.001 0.001 0.001 0.001 0.001\n",
      " 0.001 0.001 0.001 0.001 0.001 0.001 0.001 0.001 0.001 0.001 0.001 0.001\n",
      " 0.001]\n"
     ]
    }
   ],
   "source": [
    "#12 hr hrrr:\n",
    "with open('hrrr_f12_Newton_GA.txt') as f:\n",
    "    lst=[line.split()[2] for line in f]\n",
    "    temp=[]\n",
    "    for i in lst:\n",
    "        new=i.replace(',',\"\")\n",
    "        temp.append(new)\n",
    "    temp.pop(0)\n",
    "    temp=[float(x) for x in temp]\n",
    "    temp=temp[2466:2491]\n",
    "    #temp=temp[2015:2063]\n",
    "    temp=np.cumsum(temp)\n",
    "    print(temp)\n",
    "#full time period is [2015:2112]"
   ]
  },
  {
   "cell_type": "code",
   "execution_count": 145,
   "id": "fb2e17c3",
   "metadata": {},
   "outputs": [],
   "source": [
    "#Air Temp CRN:\n",
    "with open('CRNH0203-2022-GA_Newton_11_SW.txt') as f:\n",
    "    lst=[line.split()[12] for line in f]\n",
    "    #print(lst)\n",
    "    temp_crn=[]\n",
    "    for i in lst:\n",
    "        new=i.replace(',',\"\")\n",
    "        temp_crn.append(new)\n",
    "    temp_crn=[float(x) for x in temp_crn]\n",
    "    temp_crn=temp_crn[2477:2502]\n",
    "    temp_crn=np.cumsum(temp_crn)\n",
    "    #print(temp_crn)\n",
    "    # print(temp_crn[2124])"
   ]
  },
  {
   "cell_type": "code",
   "execution_count": 146,
   "id": "37b874ca",
   "metadata": {},
   "outputs": [
    {
     "name": "stdout",
     "output_type": "stream",
     "text": [
      "[0.0, 0.0, 0.0, 0.0, 0.0, 0.0, 0.001, 0.001, 0.001, 0.001, 0.001, 0.001, 0.001, 0.001, 0.001, 0.001, 0.001, 0.001, 0.001, 0.001, 0.001, 0.001, 0.001, 0.001, 0.001]\n"
     ]
    }
   ],
   "source": [
    "difference4_newt = []\n",
    "\n",
    "zip_object = zip(temp, temp_crn)\n",
    "for temp_i, temp_crn_i in zip_object:\n",
    "    difference4_newt.append(temp_i-temp_crn_i)\n",
    "\n",
    "print(difference4_newt)"
   ]
  },
  {
   "cell_type": "code",
   "execution_count": 147,
   "id": "d5fd370b",
   "metadata": {},
   "outputs": [
    {
     "name": "stdout",
     "output_type": "stream",
     "text": [
      "[ -0.1947  -3.9404  -5.7217  -9.044  -10.4034 -10.7275 -10.6011 -13.4851\n",
      " -16.272  -16.8242 -16.6823 -16.5993 -16.6974 -16.6855 -16.7042 -15.803\n",
      " -15.8007 -15.7021 -15.6618 -15.5771 -15.5758 -15.5754 -15.5724 -15.5547\n",
      " -15.5441]\n",
      "[ 2.45375838 12.0173761  21.02522344 24.6078719  28.12471562 29.98016649\n",
      " 31.2143721  32.13627861 33.62609035 33.80248457 33.85792526 33.89487675\n",
      " 33.84874718 33.86191333 33.8473546  34.40657365 34.40777936 34.45587328\n",
      " 34.47625996 34.52044834 34.52126845 34.52148152 34.52340437 34.53418909\n",
      " 34.54362534]\n"
     ]
    },
    {
     "data": {
      "text/plain": [
       "25"
      ]
     },
     "execution_count": 147,
     "metadata": {},
     "output_type": "execute_result"
    }
   ],
   "source": [
    "# data = np.array([difference1_sal,difference1_sel,difference1_mon])\n",
    "# np.ma.average(data, axis=0)\n",
    "c1 = np.array([difference1_bat,difference1_laf,difference1_mon,difference1_hol,difference1_new,difference1_gai,difference1_fai,difference1_sel,difference1_bow,difference1_newt])\n",
    "c1=np.nanmean(c1, axis=0)\n",
    "print(c1)\n",
    "len(c1)\n",
    "\n",
    "b1 = np.array([difference1_bat,difference1_laf,difference1_mon,difference1_hol,difference1_new,difference1_gai,difference1_fai,difference1_sel,difference1_bow,difference1_newt])\n",
    "b1=np.nanstd(b1, axis=0)\n",
    "print(b1)\n",
    "len(b1)"
   ]
  },
  {
   "cell_type": "code",
   "execution_count": 148,
   "id": "0400ce89",
   "metadata": {
    "scrolled": false
   },
   "outputs": [],
   "source": [
    "# def mean(numbers):\n",
    "#     return float(sum(numbers)) / max(len(numbers), 1)\n",
    "\n",
    "# # difference1_sel[17]=None\n",
    "# # difference1_sel[18]=None\n",
    "# # difference1_sel[19]=None\n",
    "# # difference1_sel[20]=None\n",
    "# c1 = [mean(i) for i in zip(difference1_sal,difference1_bat,difference1_laf,difference1_mon,difference1_hol,difference1_new,difference1_gai,difference1_fai,difference1_sel,difference1_bow,difference1_gad,difference1_newt)]\n",
    "# #difference1_bow[6]=0\n",
    "# b1 = [np.std(i) for i in zip(difference1_sal,difference1_bat,difference1_laf,difference1_mon,difference1_hol,difference1_new,difference1_gai,difference1_fai,difference1_sel,difference1_bow,difference1_gad,difference1_newt)]\n",
    "# print (c1)\n",
    "# print(len(c1))\n",
    "# print(b1)\n",
    "# print(len(b1))"
   ]
  },
  {
   "cell_type": "code",
   "execution_count": 149,
   "id": "7d6e3e43",
   "metadata": {},
   "outputs": [
    {
     "data": {
      "image/png": "[encoded data removed]",
      "text/plain": [
       "<Figure size 792x396 with 1 Axes>"
      ]
     },
     "metadata": {},
     "output_type": "display_data"
    }
   ],
   "source": [
    "plt.style.use('seaborn-whitegrid')\n",
    "plt.rcParams[\"figure.figsize\"] = [11.00, 5.50]\n",
    "plt.rcParams[\"figure.autolayout\"] = True\n",
    "plt.yticks(np.arange(-60, 70,10))\n",
    "plt.ylim(-60, 60)\n",
    "# c[6]=None\n",
    "# b[6]=None\n",
    "\n",
    "plt.plot(hour,c1,c=\"black\")\n",
    "plt.errorbar(hour,c1,yerr=b1,linestyle='None', marker='s')\n",
    "# c[6]=None\n",
    "# b[6]=None\n",
    "\n",
    "plt.title(\"12-hr Avg. MBE All Stations\")\n",
    "plt.xlabel(\"Time Relative to Event Passage\")\n",
    "plt.ylabel(\"MBE Cumulative Precipitation (mm)\")\n",
    "#plt.plot(hour,c)\n",
    "#plt.errorbar(hour,c,yerr=b,ecolor='r',elinewidth=5,fmt='s',color='k')\n",
    "#plt.grid()\n",
    "plt.xticks(np.arange(min(hour), max(hour)+1, 1.0))\n",
    "plt.show()\n",
    "#plt.axvspan(-4, 4, color='green', alpha=0.2, lw=0)"
   ]
  },
  {
   "cell_type": "code",
   "execution_count": 150,
   "id": "d14691f0",
   "metadata": {},
   "outputs": [
    {
     "name": "stdout",
     "output_type": "stream",
     "text": [
      "[-0.1532 -0.7752  0.1554  1.214   0.9466 -1.1303 -0.2276 -0.5845 -0.8325\n",
      " -0.2999 -0.4914 -0.6765 -0.9789 -1.0718 -1.1005 -1.0857 -1.0812 -1.0791\n",
      " -1.0783 -1.0783 -1.0763 -1.0757 -1.0757 -1.0714 -1.0714]\n",
      "[ 0.73185829  3.08200207  4.82009131  9.78612051  9.50697296 12.59856666\n",
      " 13.28597287 13.65733695 14.08688066 14.33460203 13.8304885  13.41167278\n",
      " 12.96201466 12.81879113 12.75920165 12.78910773 12.79740748 12.80177179\n",
      " 12.80343481 12.80343481 12.80759337 12.80884123 12.80884123 12.81778803\n",
      " 12.81778803]\n"
     ]
    },
    {
     "data": {
      "text/plain": [
       "25"
      ]
     },
     "execution_count": 150,
     "metadata": {},
     "output_type": "execute_result"
    }
   ],
   "source": [
    "c2 = np.array([difference2_sal,difference2_bat,difference2_laf,difference2_mon,difference2_hol,difference2_new,difference2_gai,difference2_fai,difference2_sel,difference2_newt])\n",
    "c2=np.nanmean(c2, axis=0)\n",
    "print(c2)\n",
    "len(c2)\n",
    "\n",
    "b2 = np.array([difference2_sal,difference2_bat,difference2_laf,difference2_mon,difference2_hol,difference2_new,difference2_gai,difference2_fai,difference2_sel,difference2_newt])\n",
    "b2=np.nanstd(b2, axis=0)\n",
    "print(b2)\n",
    "len(b2)"
   ]
  },
  {
   "cell_type": "code",
   "execution_count": 151,
   "id": "7be0954b",
   "metadata": {
    "scrolled": false
   },
   "outputs": [],
   "source": [
    "# def mean(numbers):\n",
    "#     return float(sum(numbers)) / max(len(numbers), 1)\n",
    "\n",
    "# # difference1_sel[17]=0\n",
    "# # difference1_sel[18]=0\n",
    "# # difference1_sel[19]=0\n",
    "# # difference1_sel[20]=0\n",
    "# c2 = [mean(i) for i in zip(difference2_sal,difference2_bat,difference2_laf,difference2_mon,difference2_hol,difference2_new,difference2_gai,difference2_fai,difference2_sel,difference2_bow,difference2_gad,difference2_newt)]\n",
    "# #difference1_bow[6]=0\n",
    "# b2 = [np.std(i) for i in zip(difference2_sal,difference2_bat,difference2_laf,difference2_mon,difference2_hol,difference2_new,difference2_gai,difference2_fai,difference2_sel,difference2_bow,difference2_gad,difference2_newt)]\n",
    "# print (c2)\n",
    "# print(len(c2))\n",
    "# print(b2)\n",
    "# print(len(b2))"
   ]
  },
  {
   "cell_type": "code",
   "execution_count": 152,
   "id": "4c8ac8a3",
   "metadata": {},
   "outputs": [
    {
     "data": {
      "image/png": "[encoded data removed]",
      "text/plain": [
       "<Figure size 792x396 with 1 Axes>"
      ]
     },
     "metadata": {},
     "output_type": "display_data"
    }
   ],
   "source": [
    "plt.style.use('seaborn-whitegrid')\n",
    "plt.rcParams[\"figure.figsize\"] = [11.00, 5.50]\n",
    "plt.rcParams[\"figure.autolayout\"] = True\n",
    "plt.yticks(np.arange(-60, 70,10))\n",
    "plt.ylim(-60, 60)\n",
    "# c[6]=None\n",
    "# b[6]=None\n",
    "\n",
    "plt.plot(hour,c2,c=\"black\")\n",
    "plt.errorbar(hour,c2,c=\"r\",yerr=b2,linestyle='None', marker='s')\n",
    "# c[6]=None\n",
    "# b[6]=None\n",
    "\n",
    "plt.title(\"12-hr Avg. MBE All Stations\")\n",
    "plt.xlabel(\"Time Relative to Event Passage\")\n",
    "plt.ylabel(\"MBE Cumulative Precipitation (mm)\")\n",
    "#plt.plot(hour,c)\n",
    "#plt.errorbar(hour,c,yerr=b,ecolor='r',elinewidth=5,fmt='s',color='k')\n",
    "#plt.grid()\n",
    "plt.xticks(np.arange(min(hour), max(hour)+1, 1.0))\n",
    "plt.show()\n",
    "#plt.axvspan(-4, 4, color='green', alpha=0.2, lw=0)"
   ]
  },
  {
   "cell_type": "code",
   "execution_count": 153,
   "id": "e0b94a04",
   "metadata": {},
   "outputs": [
    {
     "name": "stdout",
     "output_type": "stream",
     "text": [
      "[-0.94209091  0.16163636 -1.11336364  0.671       1.58154545 -0.10872727\n",
      " -0.83318182 -1.08945455 -0.76463636 -0.72272727 -0.66454545  0.99336364\n",
      "  0.99854545  0.99854545  0.99872727  0.99927273  1.017       1.01890909\n",
      "  1.02054545  1.29290909  1.41981818  1.40572727  0.08809091  0.872\n",
      "  1.48945455]\n",
      "[ 6.53047887 11.13900363 14.33475569 13.19387766 13.31844936 15.64910962\n",
      " 17.66347933 18.18704146 17.55324819 17.47226506 17.37169152 14.7802601\n",
      " 14.77006371 14.77006371 14.76978125 14.76954763 14.76784274 14.76752534\n",
      " 14.76575695 14.77675557 14.79930652 14.83851391 15.59688226 15.24071308\n",
      " 14.90963912]\n"
     ]
    },
    {
     "data": {
      "text/plain": [
       "25"
      ]
     },
     "execution_count": 153,
     "metadata": {},
     "output_type": "execute_result"
    }
   ],
   "source": [
    "c3 = np.array([difference3_sal,difference3_bat,difference3_laf,difference3_mon,difference3_hol,difference3_new,difference3_gai,difference3_fai,difference3_sel,difference3_bow,difference3_newt])\n",
    "c3=np.nanmean(c3, axis=0)\n",
    "print(c3)\n",
    "len(c3)\n",
    "\n",
    "b3 = np.array([difference3_sal,difference3_bat,difference3_laf,difference3_mon,difference3_hol,difference3_new,difference3_gai,difference3_fai,difference3_sel,difference3_bow,difference3_newt])\n",
    "b3=np.nanstd(b3, axis=0)\n",
    "print(b3)\n",
    "len(b3)"
   ]
  },
  {
   "cell_type": "code",
   "execution_count": 154,
   "id": "0d8bef30",
   "metadata": {
    "scrolled": false
   },
   "outputs": [],
   "source": [
    "# def mean(numbers):\n",
    "#     return float(sum(numbers)) / max(len(numbers), 1)\n",
    "\n",
    "# # difference1_sel[17]=0\n",
    "# # difference1_sel[18]=0\n",
    "# # difference1_sel[19]=0\n",
    "# # difference1_sel[20]=0\n",
    "# c3 = [mean(i) for i in zip(difference3_sal,difference3_bat,difference3_laf,difference3_mon,difference3_hol,difference3_new,difference3_gai,difference3_fai,difference3_sel,difference3_bow,difference3_gad,difference3_newt)]\n",
    "# #difference1_bow[6]=0\n",
    "# b3 = [np.std(i) for i in zip(difference3_sal,difference3_bat,difference3_laf,difference3_mon,difference3_hol,difference3_new,difference3_gai,difference3_fai,difference3_sel,difference3_bow,difference3_gad,difference3_newt)]\n",
    "# print (c3)\n",
    "# print(len(c3))\n",
    "# print(b3)\n",
    "# print(len(b3))"
   ]
  },
  {
   "cell_type": "code",
   "execution_count": 155,
   "id": "00a5e783",
   "metadata": {},
   "outputs": [
    {
     "data": {
      "image/png": "[encoded data removed]",
      "text/plain": [
       "<Figure size 792x396 with 1 Axes>"
      ]
     },
     "metadata": {},
     "output_type": "display_data"
    }
   ],
   "source": [
    "plt.style.use('seaborn-whitegrid')\n",
    "plt.rcParams[\"figure.figsize\"] = [11.00, 5.50]\n",
    "plt.rcParams[\"figure.autolayout\"] = True\n",
    "plt.yticks(np.arange(-60, 70,10))\n",
    "plt.ylim(-60, 60)\n",
    "# c[6]=None\n",
    "# b[6]=None\n",
    "\n",
    "plt.plot(hour,c3,c=\"green\")\n",
    "plt.errorbar(hour,c3,c=\"green\",yerr=b3,linestyle='None', marker='s')\n",
    "# c[6]=None\n",
    "# b[6]=None\n",
    "\n",
    "plt.title(\"12-hr Avg. MBE All Stations\")\n",
    "plt.xlabel(\"Time Relative to Event Passage\")\n",
    "plt.ylabel(\"MBE Cumulative Precipitation (mm)\")\n",
    "#plt.plot(hour,c)\n",
    "#plt.errorbar(hour,c,yerr=b,ecolor='r',elinewidth=5,fmt='s',color='k')\n",
    "#plt.grid()\n",
    "plt.xticks(np.arange(min(hour), max(hour)+1, 1.0))\n",
    "plt.show()\n",
    "#plt.axvspan(-4, 4, color='green', alpha=0.2, lw=0)"
   ]
  },
  {
   "cell_type": "code",
   "execution_count": 156,
   "id": "a2b4f439",
   "metadata": {},
   "outputs": [
    {
     "name": "stdout",
     "output_type": "stream",
     "text": [
      "[ 0.20463636  0.13063636 -0.71381818 -1.36936364 -2.45272727 -1.39336364\n",
      "  0.682       1.016       0.58581818  1.26709091  1.29390909  1.30954545\n",
      "  1.314       1.325       1.82881818  1.90290909  2.04236364  2.22872727\n",
      "  2.31418182  2.44054545  2.45527273  2.45527273  2.45527273  2.45527273\n",
      "  2.45527273]\n",
      "[ 8.2890179  11.27536422 13.13879278 12.95482766 13.07374752 14.30643707\n",
      " 15.02320238 15.71789206 16.2611084  15.99909376 15.98376635 16.00104024\n",
      " 16.00606407 15.99787351 15.7207805  15.71037118 15.65561694 15.60161625\n",
      " 15.58424656 15.56712544 15.56579627 15.56579627 15.56579627 15.56579627\n",
      " 15.56579627]\n"
     ]
    },
    {
     "data": {
      "text/plain": [
       "25"
      ]
     },
     "execution_count": 156,
     "metadata": {},
     "output_type": "execute_result"
    }
   ],
   "source": [
    "c4 = np.array([difference4_sal,difference4_bat,difference4_laf,difference4_mon,difference4_hol,difference4_new,difference4_gai,difference4_fai,difference4_sel,difference4_bow,difference4_newt])\n",
    "c4=np.nanmean(c4, axis=0)\n",
    "print(c4)\n",
    "len(c4)\n",
    "\n",
    "b4 = np.array([difference4_sal,difference4_bat,difference4_laf,difference4_mon,difference4_hol,difference4_new,difference4_gai,difference4_fai,difference4_sel,difference4_bow,difference4_newt])\n",
    "b4=np.nanstd(b4, axis=0)\n",
    "print(b4)\n",
    "len(b4)"
   ]
  },
  {
   "cell_type": "code",
   "execution_count": 157,
   "id": "b1774c6c",
   "metadata": {
    "scrolled": false
   },
   "outputs": [],
   "source": [
    "# def mean(numbers):\n",
    "#     return float(sum(numbers)) / max(len(numbers), 1)\n",
    "\n",
    "# # difference1_sel[17]=0\n",
    "# # difference1_sel[18]=0\n",
    "# # difference1_sel[19]=0\n",
    "# # difference1_sel[20]=0\n",
    "# c4 = [mean(i) for i in zip(difference4_sal,difference4_bat,difference4_laf,difference4_mon,difference4_hol,difference4_new,difference4_gai,difference4_fai,difference4_sel,difference4_bow,difference4_gad,difference4_newt)]\n",
    "# #difference1_bow[6]=0\n",
    "# b4 = [np.std(i) for i in zip(difference4_sal,difference4_bat,difference4_laf,difference4_mon,difference4_hol,difference4_new,difference4_gai,difference4_fai,difference4_sel,difference4_bow,difference4_gad,difference4_newt)]\n",
    "# print (c4)\n",
    "# print(len(c4))\n",
    "# print(b4)\n",
    "# print(len(b4))"
   ]
  },
  {
   "cell_type": "code",
   "execution_count": 158,
   "id": "e70a6cef",
   "metadata": {},
   "outputs": [
    {
     "data": {
      "image/png": "[encoded data removed]",
      "text/plain": [
       "<Figure size 792x396 with 1 Axes>"
      ]
     },
     "metadata": {},
     "output_type": "display_data"
    }
   ],
   "source": [
    "plt.style.use('seaborn-whitegrid')\n",
    "plt.rcParams[\"figure.figsize\"] = [11.00, 5.50]\n",
    "plt.rcParams[\"figure.autolayout\"] = True\n",
    "plt.yticks(np.arange(-60, 70,10))\n",
    "plt.ylim(-60, 60)\n",
    "# c[6]=None\n",
    "# b[6]=None\n",
    "\n",
    "plt.plot(hour,c4,c=\"orange\")\n",
    "plt.errorbar(hour,c4,c=\"orange\",yerr=b4,linestyle='None', marker='s')\n",
    "# c[6]=None\n",
    "# b[6]=None\n",
    "\n",
    "plt.title(\"12-hr Avg. MBE All Stations\")\n",
    "plt.xlabel(\"Time Relative to Event Passage\")\n",
    "plt.ylabel(\"MBE Cumulative Precipitation (mm)\")\n",
    "#plt.plot(hour,c)\n",
    "#plt.errorbar(hour,c,yerr=b,ecolor='r',elinewidth=5,fmt='s',color='k')\n",
    "#plt.grid()\n",
    "plt.xticks(np.arange(min(hour), max(hour)+1, 1.0))\n",
    "plt.show()\n",
    "#plt.axvspan(-4, 4, color='green', alpha=0.2, lw=0)"
   ]
  },
  {
   "cell_type": "code",
   "execution_count": null,
   "id": "f721b50a",
   "metadata": {},
   "outputs": [],
   "source": []
  },
  {
   "cell_type": "code",
   "execution_count": 159,
   "id": "240eafe4",
   "metadata": {
    "scrolled": false
   },
   "outputs": [
    {
     "data": {
      "image/png": "[encoded data removed]",
      "text/plain": [
       "<Figure size 792x396 with 1 Axes>"
      ]
     },
     "metadata": {},
     "output_type": "display_data"
    }
   ],
   "source": [
    "plt.style.use('seaborn-whitegrid')\n",
    "plt.rcParams[\"figure.figsize\"] = [11.00, 5.50]\n",
    "plt.rcParams[\"figure.autolayout\"] = True\n",
    "plt.yticks(np.arange(-60, 70,10))\n",
    "plt.ylim(-60, 60)\n",
    "\n",
    "plt.plot(hour,c1,c=\"b\",label=\"IOP 1\")\n",
    "plt.errorbar(hour,c1,c=\"b\",yerr=b1,linestyle='None', marker='s')\n",
    "\n",
    "plt.plot(hour,c2,c=\"r\",label=\"IOP 2\")\n",
    "plt.errorbar(hour,c2,c=\"r\",yerr=b2,linestyle='None', marker='s')\n",
    "\n",
    "plt.plot(hour,c3,c=\"green\")\n",
    "plt.errorbar(hour,c3,c=\"green\",yerr=b3,linestyle='None', marker='s')\n",
    "\n",
    "plt.plot(hour,c4,c=\"orange\")\n",
    "plt.errorbar(hour,c4,c=\"orange\",yerr=b4,linestyle='None', marker='s')\n",
    "\n",
    "plt.title(\"12-hr Avg. MBE All Stations\")\n",
    "plt.xlabel(\"Time Relative to Event Passage\")\n",
    "plt.ylabel(\"MBE Cumulative Precipitation (mm)\")\n",
    "#plt.plot(hour,c)\n",
    "#plt.errorbar(hour,c,yerr=b,ecolor='r',elinewidth=5,fmt='s',color='k')\n",
    "#plt.grid()\n",
    "plt.xticks(np.arange(min(hour), max(hour)+1, 1.0))\n",
    "plt.legend([\"IOP 1\", \"IOP 2\",\"IOP 3\",\"IOP 4\"], loc =\"upper right\")\n",
    "plt.show()"
   ]
  },
  {
   "cell_type": "code",
   "execution_count": null,
   "id": "f20cc188",
   "metadata": {},
   "outputs": [],
   "source": []
  }
 ],
 "metadata": {
  "kernelspec": {
   "display_name": "Python 3 (ipykernel)",
   "language": "python",
   "name": "python3"
  },
  "language_info": {
   "codemirror_mode": {
    "name": "ipython",
    "version": 3
   },
   "file_extension": ".py",
   "mimetype": "text/x-python",
   "name": "python",
   "nbconvert_exporter": "python",
   "pygments_lexer": "ipython3",
   "version": "3.9.12"
  }
 },
 "nbformat": 4,
 "nbformat_minor": 5
}
