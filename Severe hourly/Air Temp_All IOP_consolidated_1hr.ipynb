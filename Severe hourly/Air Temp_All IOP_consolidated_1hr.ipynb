{
 "cells": [
  {
   "cell_type": "code",
   "execution_count": 161,
   "id": "83d28093",
   "metadata": {},
   "outputs": [],
   "source": [
    "import numpy as np\n",
    "import matplotlib.pyplot as plt\n",
    "import math"
   ]
  },
  {
   "cell_type": "markdown",
   "id": "18ad22a0",
   "metadata": {},
   "source": [
    "<font size=\"3\">Salem, MO: 1200 UTC 22 March 2022-1200 UTC 23 March 2022</font>"
   ]
  },
  {
   "cell_type": "code",
   "execution_count": 162,
   "id": "9d3b9481",
   "metadata": {},
   "outputs": [
    {
     "name": "stdout",
     "output_type": "stream",
     "text": [
      "[10.8003, 11.3603, 12.981, 13.2496, 13.5817, 13.2398, 14.0338, 13.7813, 13.7736, 12.4573, 12.233, 12.4707, 12.4734, 12.187, 11.8326, 11.6822, 10.9863, 10.7297, 10.0459, 8.65216, 7.68372, 7.47824, 7.01645, 6.64334, 6.32724]\n"
     ]
    }
   ],
   "source": [
    "#1 hr hrrr:\n",
    "with open('hrrr_f01_Salem_MO.txt') as f:\n",
    "    lst=[line.split()[1] for line in f]\n",
    "    temp=[]\n",
    "    for i in lst:\n",
    "        new=i.replace(',',\"\")\n",
    "        temp.append(new)\n",
    "    temp.pop(0)\n",
    "    temp=[float(x) for x in temp]\n",
    "    temp=temp[1931:1956]\n",
    "    #temp=temp[2015:2063]\n",
    "    print(temp)\n",
    "    #print(len(temp))\n",
    "#full time period is [2015:2112]"
   ]
  },
  {
   "cell_type": "code",
   "execution_count": 163,
   "id": "e9d4dbcc",
   "metadata": {},
   "outputs": [
    {
     "name": "stdout",
     "output_type": "stream",
     "text": [
      "[10.8, 12.4, 12.9, 12.5, 12.8, 13.3, 13.7, 14.6, 14.7, 14.4, 13.8, 13.1, 12.0, 11.8, 11.5, 11.5, 10.5, 10.0, 9.7, 9.2, 8.3, 7.3, 6.3, 5.9, 5.9]\n"
     ]
    }
   ],
   "source": [
    "#Air Temp CRN:\n",
    "with open('CRNH0203-2022-MO_Salem_10_W.txt') as f:\n",
    "    lst=[line.split()[9] for line in f]\n",
    "    #print(lst)\n",
    "    temp_crn=[]\n",
    "    for i in lst:\n",
    "        new=i.replace(',',\"\")\n",
    "        temp_crn.append(new)\n",
    "    temp_crn=[float(x) for x in temp_crn]\n",
    "    temp_crn=temp_crn[1931:1956]\n",
    "    print(temp_crn)\n",
    "    #print(len(temp_crn))\n",
    "    # print(temp_crn[2124])"
   ]
  },
  {
   "cell_type": "code",
   "execution_count": 164,
   "id": "75f1136d-8437-4565-9336-ca8529a631e6",
   "metadata": {},
   "outputs": [
    {
     "name": "stdout",
     "output_type": "stream",
     "text": [
      "25\n"
     ]
    }
   ],
   "source": [
    "hour=[]\n",
    "for i in range(-12,13,1):\n",
    "    hour.append(i)\n",
    "    i+=1\n",
    "print(len(hour))"
   ]
  },
  {
   "cell_type": "code",
   "execution_count": 170,
   "id": "1e9aed03-d99c-4045-812a-e26bcc99b84f",
   "metadata": {},
   "outputs": [
    {
     "name": "stdout",
     "output_type": "stream",
     "text": [
      "[0.0002999999999993008, -1.0396999999999998, 0.08099999999999952, 0.7495999999999992, 0.781699999999999, -0.06020000000000003, 0.3338000000000001, -0.8186999999999998, -0.9263999999999992, -1.9427000000000003, -1.5670000000000002, -0.6292999999999989, 0.4733999999999998, 0.3869999999999987, 0.33259999999999934, 0.18219999999999992, 0.48629999999999995, 0.7296999999999993, 0.3459000000000003, -0.547839999999999, -0.6162800000000006, 0.17824000000000062, 0.71645, 0.7433399999999999, 0.4272399999999994]\n"
     ]
    }
   ],
   "source": [
    "difference1_sal = []\n",
    "\n",
    "zip_object = zip(temp, temp_crn)\n",
    "for temp_i, temp_crn_i in zip_object:\n",
    "    difference1_sal.append(temp_i-temp_crn_i)\n",
    "\n",
    "print(difference1_sal)"
   ]
  },
  {
   "cell_type": "markdown",
   "id": "9043c519",
   "metadata": {},
   "source": [
    "<font size=\"3\">Batesville, AR: 1200 UTC 22 March 2022-1200 UTC 23 March 2022</font>"
   ]
  },
  {
   "cell_type": "code",
   "execution_count": 6,
   "id": "af395ecc",
   "metadata": {},
   "outputs": [
    {
     "name": "stdout",
     "output_type": "stream",
     "text": [
      "[12.3628, 12.7353, 13.106, 13.7496, 14.2067, 14.9273, 13.5338, 13.6563, 14.0236, 14.8323, 14.1705, 13.7207, 13.6609, 12.9995, 12.6451, 12.1822, 11.1113, 9.85471, 9.48337, 7.90216, 7.49622, 7.04074, 6.95395, 6.89334, 6.70224]\n"
     ]
    }
   ],
   "source": [
    "#1 hr hrrr:\n",
    "with open('hrrr_f01_Batesville_AR.txt') as f:\n",
    "    lst=[line.split()[1] for line in f]\n",
    "    temp=[]\n",
    "    for i in lst:\n",
    "        new=i.replace(',',\"\")\n",
    "        temp.append(new)\n",
    "    temp.pop(0)\n",
    "    temp=[float(x) for x in temp]\n",
    "    temp=temp[1931:1956]\n",
    "    #temp=temp[2015:2063]\n",
    "    print(temp)\n",
    "    #print(len(temp))\n",
    "#full time period is [2015:2112]"
   ]
  },
  {
   "cell_type": "code",
   "execution_count": 7,
   "id": "11b7f8b7",
   "metadata": {},
   "outputs": [
    {
     "name": "stdout",
     "output_type": "stream",
     "text": [
      "[12.8, 13.1, 13.2, 13.3, 13.4, 13.4, 13.4, 13.3, 13.9, 14.2, 14.3, 14.1, 13.5, 13.0, 12.8, 12.6, 11.5, 10.9, 10.0, 8.6, 7.6, 7.2, 7.0, 6.8, 6.7]\n"
     ]
    }
   ],
   "source": [
    "#Air Temp CRN:\n",
    "with open('CRNH0203-2022-AR_Batesville_8_WNW.txt') as f:\n",
    "    lst=[line.split()[9] for line in f]\n",
    "    #print(lst)\n",
    "    temp_crn=[]\n",
    "    for i in lst:\n",
    "        new=i.replace(',',\"\")\n",
    "        temp_crn.append(new)\n",
    "    temp_crn=[float(x) for x in temp_crn]\n",
    "    temp_crn=temp_crn[1931:1956]\n",
    "    print(temp_crn)\n",
    "    #print(len(temp_crn))\n",
    "    # print(temp_crn[2124])"
   ]
  },
  {
   "cell_type": "code",
   "execution_count": 8,
   "id": "62a46873",
   "metadata": {},
   "outputs": [
    {
     "name": "stdout",
     "output_type": "stream",
     "text": [
      "[-0.4372000000000007, -0.36469999999999914, -0.09399999999999942, 0.44959999999999845, 0.8066999999999993, 1.5273000000000003, 0.13379999999999903, 0.3562999999999992, 0.12359999999999971, 0.6323000000000008, -0.12950000000000017, -0.37929999999999886, 0.16089999999999982, -0.0005000000000006111, -0.15490000000000137, -0.4177999999999997, -0.38870000000000005, -1.0452899999999996, -0.5166299999999993, -0.6978399999999993, -0.10377999999999954, -0.15925999999999974, -0.046050000000000146, 0.09334000000000042, 0.0022399999999995757]\n"
     ]
    }
   ],
   "source": [
    "difference1_bat = []\n",
    "\n",
    "zip_object = zip(temp, temp_crn)\n",
    "for temp_i, temp_crn_i in zip_object:\n",
    "    difference1_bat.append(temp_i-temp_crn_i)\n",
    "\n",
    "print(difference1_bat)"
   ]
  },
  {
   "cell_type": "markdown",
   "id": "2a2589df",
   "metadata": {},
   "source": [
    "<font size=\"3\">Lafayette, LA: 1500 UTC 22 March 2022-1500 UTC 23 March 2022</font>"
   ]
  },
  {
   "cell_type": "code",
   "execution_count": 9,
   "id": "3fd34af2",
   "metadata": {},
   "outputs": [
    {
     "name": "stdout",
     "output_type": "stream",
     "text": [
      "[23.6871, 24.0192, 24.0523, 24.4713, 24.6563, 21.8986, 22.0823, 21.2955, 21.2832, 20.5984, 19.2495, 17.7076, 16.8697, 16.4238, 13.8547, 12.7334, 11.0897, 10.1212, 9.60324, 9.07895, 8.64334, 8.57724, 9.33261, 11.111, 12.4331]\n"
     ]
    }
   ],
   "source": [
    "#1 hr hrrr:\n",
    "with open('hrrr_f01_Lafayette_LA.txt') as f:\n",
    "    lst=[line.split()[1] for line in f]\n",
    "    temp=[]\n",
    "    for i in lst:\n",
    "        new=i.replace(',',\"\")\n",
    "        temp.append(new)\n",
    "    temp.pop(0)\n",
    "    temp=[float(x) for x in temp]\n",
    "    temp=temp[1934:1959]\n",
    "    #temp=temp[2015:2063]\n",
    "    print(temp)\n",
    "    #print(len(temp))\n",
    "#full time period is [2015:2112]"
   ]
  },
  {
   "cell_type": "code",
   "execution_count": 10,
   "id": "bfe1bb32",
   "metadata": {},
   "outputs": [
    {
     "name": "stdout",
     "output_type": "stream",
     "text": [
      "[23.4, 23.8, 23.8, 24.2, 23.3, 22.2, 20.6, 20.7, 20.8, 20.7, 19.0, 16.9, 15.4, 14.1, 15.7, 13.6, 12.1, 11.0, 9.5, 8.8, 8.6, 8.9, 8.9, 10.3, 11.9]\n"
     ]
    }
   ],
   "source": [
    "#Air Temp CRN:\n",
    "with open('CRNH0203-2022-LA_Lafayette_13_SE.txt') as f:\n",
    "    lst=[line.split()[9] for line in f]\n",
    "    #print(lst)\n",
    "    temp_crn=[]\n",
    "    for i in lst:\n",
    "        new=i.replace(',',\"\")\n",
    "        temp_crn.append(new)\n",
    "    temp_crn=[float(x) for x in temp_crn]\n",
    "    temp_crn=temp_crn[1934:1959]\n",
    "    print(temp_crn)\n",
    "    #print(len(temp_crn))\n",
    "    # print(temp_crn[2124])"
   ]
  },
  {
   "cell_type": "code",
   "execution_count": 11,
   "id": "9b94d0f9",
   "metadata": {},
   "outputs": [
    {
     "name": "stdout",
     "output_type": "stream",
     "text": [
      "[0.28710000000000235, 0.21920000000000073, 0.2522999999999982, 0.2713000000000001, 1.356300000000001, -0.301400000000001, 1.4822999999999986, 0.5955000000000013, 0.4832000000000001, -0.10159999999999769, 0.24950000000000117, 0.8076000000000008, 1.4697000000000013, 2.3238000000000003, -1.8453, -0.8666, -1.010299999999999, -0.8788, 0.10323999999999955, 0.27895000000000003, 0.0433400000000006, -0.3227600000000006, 0.4326100000000004, 0.8109999999999999, 0.5330999999999992]\n"
     ]
    }
   ],
   "source": [
    "difference1_laf = []\n",
    "\n",
    "zip_object = zip(temp, temp_crn)\n",
    "for temp_i, temp_crn_i in zip_object:\n",
    "    difference1_laf.append(temp_i-temp_crn_i)\n",
    "\n",
    "print(difference1_laf)"
   ]
  },
  {
   "cell_type": "markdown",
   "id": "7a8d079f",
   "metadata": {},
   "source": [
    "<font size=\"3\">Monroe, LA: 1500 UTC 22 March 2022-1500 UTC 23 March 2022</font>"
   ]
  },
  {
   "cell_type": "code",
   "execution_count": 12,
   "id": "9c6d2382",
   "metadata": {},
   "outputs": [
    {
     "name": "stdout",
     "output_type": "stream",
     "text": [
      "[14.5621, 14.5817, 15.1773, 14.7838, 15.4688, 15.0236, 15.3948, 15.608, 14.6582, 14.9109, 14.937, 13.0201, 11.1822, 10.0488, 9.97971, 9.35837, 9.33966, 8.74622, 7.91574, 8.20395, 8.08084, 8.07724, 8.33261, 8.92349, 10.2456]\n"
     ]
    }
   ],
   "source": [
    "#1 hr hrrr:\n",
    "with open('hrrr_f01_Monroe_LA.txt') as f:\n",
    "    lst=[line.split()[1] for line in f]\n",
    "    temp=[]\n",
    "    for i in lst:\n",
    "        new=i.replace(',',\"\")\n",
    "        temp.append(new)\n",
    "    temp.pop(0)\n",
    "    temp=[float(x) for x in temp]\n",
    "    temp=temp[1934:1959]\n",
    "    #temp=temp[2015:2063]\n",
    "    print(temp)\n",
    "    #print(len(temp))\n",
    "#full time period is [2015:2112]"
   ]
  },
  {
   "cell_type": "code",
   "execution_count": 13,
   "id": "5c3999a7",
   "metadata": {},
   "outputs": [
    {
     "name": "stdout",
     "output_type": "stream",
     "text": [
      "[14.3, 14.1, 14.0, 13.7, 13.7, 14.5, 14.9, 15.1, 15.1, 14.8, 14.7, 12.4, 11.2, 10.7, 10.1, 10.1, 9.8, 9.1, 8.7, 8.7, 8.5, 8.7, 8.7, 8.7, 9.3]\n"
     ]
    }
   ],
   "source": [
    "#Air Temp CRN:\n",
    "with open('CRNH0203-2022-LA_Monroe_26_N.txt') as f:\n",
    "    lst=[line.split()[9] for line in f]\n",
    "    #print(lst)\n",
    "    temp_crn=[]\n",
    "    for i in lst:\n",
    "        new=i.replace(',',\"\")\n",
    "        temp_crn.append(new)\n",
    "    temp_crn=[float(x) for x in temp_crn]\n",
    "    temp_crn=temp_crn[1934:1959]\n",
    "    print(temp_crn)\n",
    "    #print(len(temp_crn))\n",
    "    # print(temp_crn[2124])"
   ]
  },
  {
   "cell_type": "code",
   "execution_count": 14,
   "id": "2b4e383a",
   "metadata": {},
   "outputs": [
    {
     "name": "stdout",
     "output_type": "stream",
     "text": [
      "[0.26209999999999845, 0.4817, 1.1773000000000007, 1.0838, 1.7688000000000006, 0.5236000000000001, 0.4947999999999997, 0.5080000000000009, -0.44179999999999886, 0.11089999999999911, 0.2370000000000001, 0.620099999999999, -0.017799999999999372, -0.6511999999999993, -0.1202899999999989, -0.7416299999999989, -0.4603400000000004, -0.3537800000000004, -0.7842599999999988, -0.49604999999999855, -0.41915999999999976, -0.6227599999999995, -0.36738999999999855, 0.22348999999999997, 0.9455999999999989]\n"
     ]
    }
   ],
   "source": [
    "difference1_mon = []\n",
    "\n",
    "zip_object = zip(temp, temp_crn)\n",
    "for temp_i, temp_crn_i in zip_object:\n",
    "    difference1_mon.append(temp_i-temp_crn_i)\n",
    "\n",
    "print(difference1_mon)"
   ]
  },
  {
   "cell_type": "markdown",
   "id": "26c585ff",
   "metadata": {},
   "source": [
    "<font size=\"3\">Holly Springs, MS: 1800 UTC 22 March 2022-1800 UTC 23 March 2022</font>"
   ]
  },
  {
   "cell_type": "code",
   "execution_count": 15,
   "id": "175bd35c",
   "metadata": {},
   "outputs": [
    {
     "name": "stdout",
     "output_type": "stream",
     "text": [
      "[15.2213, 15.5938, 13.1486, 13.0198, 13.358, 15.0332, 13.9109, 14.2495, 14.7076, 14.3072, 14.2988, 13.9797, 13.2959, 12.9647, 13.1212, 11.6032, 11.0164, 9.70584, 9.76474, 8.83261, 8.29849, 8.37057, 8.1976, 7.84393, 8.36465]\n"
     ]
    }
   ],
   "source": [
    "#1 hr hrrr:\n",
    "with open('hrrr_f01_Holly Springs_MS.txt') as f:\n",
    "    lst=[line.split()[1] for line in f]\n",
    "    temp=[]\n",
    "    for i in lst:\n",
    "        new=i.replace(',',\"\")\n",
    "        temp.append(new)\n",
    "    temp.pop(0)\n",
    "    temp=[float(x) for x in temp]\n",
    "    temp=temp[1937:1962]\n",
    "    #temp=temp[2015:2063]\n",
    "    print(temp)\n",
    "    #print(len(temp))\n",
    "#full time period is [2015:2112]"
   ]
  },
  {
   "cell_type": "code",
   "execution_count": 16,
   "id": "19a3055f",
   "metadata": {},
   "outputs": [
    {
     "name": "stdout",
     "output_type": "stream",
     "text": [
      "[13.1, 13.1, 12.5, 12.4, 12.4, 13.4, 14.6, 14.3, 14.2, 14.7, 14.7, 14.6, 14.1, 13.7, 13.3, 12.0, 10.9, 9.7, 9.1, 8.7, 8.7, 8.4, 8.2, 8.3, 9.5]\n"
     ]
    }
   ],
   "source": [
    "#Air Temp CRN:\n",
    "with open('CRNH0203-2022-MS_Holly_Springs_4_N.txt') as f:\n",
    "    lst=[line.split()[9] for line in f]\n",
    "    #print(lst)\n",
    "    temp_crn=[]\n",
    "    for i in lst:\n",
    "        new=i.replace(',',\"\")\n",
    "        temp_crn.append(new)\n",
    "    temp_crn=[float(x) for x in temp_crn]\n",
    "    temp_crn=temp_crn[1937:1962]\n",
    "    print(temp_crn)\n",
    "    #print(len(temp_crn))\n",
    "    # print(temp_crn[2124])"
   ]
  },
  {
   "cell_type": "code",
   "execution_count": 17,
   "id": "46b095cb",
   "metadata": {},
   "outputs": [
    {
     "name": "stdout",
     "output_type": "stream",
     "text": [
      "[2.1212999999999997, 2.4938000000000002, 0.6486000000000001, 0.6197999999999997, 0.9580000000000002, 1.6332000000000004, -0.6890999999999998, -0.05050000000000132, 0.5076, -0.39279999999999937, -0.40119999999999933, -0.6203000000000003, -0.8041, -0.7352999999999987, -0.17880000000000074, -0.3968000000000007, 0.1164000000000005, 0.0058400000000009555, 0.6647400000000001, 0.13261000000000145, -0.40151000000000003, -0.029429999999999623, -0.0023999999999997357, -0.4560700000000004, -1.1353500000000007]\n"
     ]
    }
   ],
   "source": [
    "difference1_hol = []\n",
    "\n",
    "zip_object = zip(temp, temp_crn)\n",
    "for temp_i, temp_crn_i in zip_object:\n",
    "    difference1_hol.append(temp_i-temp_crn_i)\n",
    "\n",
    "print(difference1_hol)"
   ]
  },
  {
   "cell_type": "markdown",
   "id": "1c76c308",
   "metadata": {},
   "source": [
    "<font size=\"3\">Newton, MS: 1800 UTC 22 March 2022-1800 UTC 23 March 2022</font>"
   ]
  },
  {
   "cell_type": "code",
   "execution_count": 18,
   "id": "06decf86",
   "metadata": {},
   "outputs": [
    {
     "name": "stdout",
     "output_type": "stream",
     "text": [
      "[20.3463, 20.9063, 21.0861, 21.3323, 21.0455, 18.6582, 15.9109, 16.562, 16.9576, 17.7447, 16.9863, 17.4172, 16.1709, 15.9022, 14.2462, 13.2907, 11.3289, 11.5183, 11.8897, 10.8951, 10.486, 10.9956, 11.1976, 11.8439, 12.7397]\n"
     ]
    }
   ],
   "source": [
    "#1 hr hrrr:\n",
    "with open('hrrr_f01_Newton_MS.txt') as f:\n",
    "    lst=[line.split()[1] for line in f]\n",
    "    temp=[]\n",
    "    for i in lst:\n",
    "        new=i.replace(',',\"\")\n",
    "        temp.append(new)\n",
    "    temp.pop(0)\n",
    "    temp=[float(x) for x in temp]\n",
    "    temp=temp[1937:1962]\n",
    "    #temp=temp[2015:2063]\n",
    "    print(temp)\n",
    "    #print(len(temp))\n",
    "#full time period is [2015:2112]"
   ]
  },
  {
   "cell_type": "code",
   "execution_count": 19,
   "id": "3fb09a0f",
   "metadata": {},
   "outputs": [
    {
     "name": "stdout",
     "output_type": "stream",
     "text": [
      "[22.3, 23.0, 21.8, 18.2, 16.2, 15.9, 16.0, 16.0, 16.0, 16.7, 16.9, 17.1, 16.3, 15.4, 14.6, 13.7, 13.7, 12.3, 11.4, 11.0, 10.2, 10.7, 10.9, 12.1, 13.6]\n"
     ]
    }
   ],
   "source": [
    "#Air Temp CRN:\n",
    "with open('CRNH0203-2022-MS_Newton_5_ENE.txt') as f:\n",
    "    lst=[line.split()[9] for line in f]\n",
    "    #print(lst)\n",
    "    temp_crn=[]\n",
    "    for i in lst:\n",
    "        new=i.replace(',',\"\")\n",
    "        temp_crn.append(new)\n",
    "    temp_crn=[float(x) for x in temp_crn]\n",
    "    temp_crn=temp_crn[1937:1962]\n",
    "    print(temp_crn)\n",
    "    #print(len(temp_crn))\n",
    "    # print(temp_crn[2124])"
   ]
  },
  {
   "cell_type": "code",
   "execution_count": 20,
   "id": "e588ab70",
   "metadata": {},
   "outputs": [
    {
     "name": "stdout",
     "output_type": "stream",
     "text": [
      "[-1.9537000000000013, -2.0936999999999983, -0.7139000000000024, 3.1323000000000008, 4.845500000000001, 2.7582000000000004, -0.08910000000000018, 0.5620000000000012, 0.9575999999999993, 1.0447000000000024, 0.08630000000000138, 0.3171999999999997, -0.1291000000000011, 0.5022000000000002, -0.35379999999999967, -0.4093, -2.3710999999999984, -0.7817000000000007, 0.48969999999999914, -0.10490000000000066, 0.28600000000000136, 0.2956000000000003, 0.2975999999999992, -0.2561, -0.8603000000000005]\n"
     ]
    }
   ],
   "source": [
    "difference1_new = []\n",
    "\n",
    "zip_object = zip(temp, temp_crn)\n",
    "for temp_i, temp_crn_i in zip_object:\n",
    "    difference1_new.append(temp_i-temp_crn_i)\n",
    "\n",
    "print(difference1_new)"
   ]
  },
  {
   "cell_type": "markdown",
   "id": "c9620694",
   "metadata": {},
   "source": [
    "<font size=\"3\">Gainesville, AL: 2200 UTC 22 March 2022-2200 UTC 23 March 2022</font>"
   ]
  },
  {
   "cell_type": "code",
   "execution_count": 21,
   "id": "a422cd03",
   "metadata": {},
   "outputs": [
    {
     "name": "stdout",
     "output_type": "stream",
     "text": [
      "[21.233, 19.8457, 18.9734, 19.2495, 18.8951, 18.1197, 17.5488, 17.5422, 17.1084, 17.8397, 17.8712, 16.1032, 14.3289, 13.6433, 13.8897, 14.3951, 13.5485, 12.6831, 12.7601, 13.4689, 14.1147, 14.7589, 15.4942, 16.1762, 16.5881]\n"
     ]
    }
   ],
   "source": [
    "#1 hr hrrr:\n",
    "with open('hrrr_f01_Gainesville_AL.txt') as f:\n",
    "    lst=[line.split()[1] for line in f]\n",
    "    temp=[]\n",
    "    for i in lst:\n",
    "        new=i.replace(',',\"\")\n",
    "        temp.append(new)\n",
    "    temp.pop(0)\n",
    "    temp=[float(x) for x in temp]\n",
    "    temp=temp[1941:1966]\n",
    "    #temp=temp[2015:2063]\n",
    "    print(temp)\n",
    "    #print(len(temp))\n",
    "#full time period is [2015:2112]"
   ]
  },
  {
   "cell_type": "code",
   "execution_count": 22,
   "id": "2c97e541",
   "metadata": {},
   "outputs": [
    {
     "name": "stdout",
     "output_type": "stream",
     "text": [
      "[21.4, 16.7, 16.1, 16.2, 16.3, 16.3, 16.5, 16.8, 16.8, 16.7, 16.4, 15.1, 14.0, 12.9, 12.3, 13.1, 13.2, 13.3, 13.0, 13.3, 14.8, 16.1, 16.8, 17.2, 17.8]\n"
     ]
    }
   ],
   "source": [
    "#Air Temp CRN:\n",
    "with open('CRNH0203-2022-AL_Gainesville_2_NE.txt') as f:\n",
    "    lst=[line.split()[9] for line in f]\n",
    "    #print(lst)\n",
    "    temp_crn=[]\n",
    "    for i in lst:\n",
    "        new=i.replace(',',\"\")\n",
    "        temp_crn.append(new)\n",
    "    temp_crn=[float(x) for x in temp_crn]\n",
    "    temp_crn=temp_crn[1941:1966]\n",
    "    print(temp_crn)\n",
    "    #print(len(temp_crn))\n",
    "    # print(temp_crn[2124])"
   ]
  },
  {
   "cell_type": "code",
   "execution_count": 23,
   "id": "8df76a7b",
   "metadata": {},
   "outputs": [
    {
     "name": "stdout",
     "output_type": "stream",
     "text": [
      "[-0.16699999999999804, 3.1457000000000015, 2.8734, 3.049500000000002, 2.5950999999999986, 1.819700000000001, 1.0488, 0.7422000000000004, 0.3083999999999989, 1.1397000000000013, 1.4712000000000032, 1.0032000000000014, 0.32890000000000086, 0.7432999999999996, 1.5896999999999988, 1.2950999999999997, 0.34850000000000136, -0.6169000000000011, -0.23990000000000045, 0.16889999999999894, -0.6853000000000016, -1.3411000000000008, -1.3058000000000014, -1.0237999999999978, -1.2119]\n"
     ]
    }
   ],
   "source": [
    "difference1_gai = []\n",
    "\n",
    "zip_object = zip(temp, temp_crn)\n",
    "for temp_i, temp_crn_i in zip_object:\n",
    "    difference1_gai.append(temp_i-temp_crn_i)\n",
    "\n",
    "print(difference1_gai)"
   ]
  },
  {
   "cell_type": "markdown",
   "id": "2711dc15",
   "metadata": {},
   "source": [
    "<font size=\"3\">Fairhope, AL: 2200 UTC 22 March 2022-2200 UTC 23 March 2022</font>"
   ]
  },
  {
   "cell_type": "code",
   "execution_count": 24,
   "id": "64dbcf91",
   "metadata": {},
   "outputs": [
    {
     "name": "stdout",
     "output_type": "stream",
     "text": [
      "[23.5455, 23.4082, 22.9109, 22.812, 22.7701, 22.8697, 22.5488, 22.0422, 19.8584, 18.3397, 18.8087, 18.2282, 18.3914, 17.7058, 17.0147, 17.5826, 17.7985, 17.4331, 17.7601, 18.0314, 18.4897, 18.8214, 19.1192, 18.3012, 17.7131]\n"
     ]
    }
   ],
   "source": [
    "#1 hr hrrr:\n",
    "with open('hrrr_f01_Fairhope_AL.txt') as f:\n",
    "    lst=[line.split()[1] for line in f]\n",
    "    temp=[]\n",
    "    for i in lst:\n",
    "        new=i.replace(',',\"\")\n",
    "        temp.append(new)\n",
    "    temp.pop(0)\n",
    "    temp=[float(x) for x in temp]\n",
    "    temp=temp[1941:1966]\n",
    "    #temp=temp[2015:2063]\n",
    "    print(temp)\n",
    "    #print(len(temp))\n",
    "#full time period is [2015:2112]"
   ]
  },
  {
   "cell_type": "code",
   "execution_count": 25,
   "id": "4df09785",
   "metadata": {},
   "outputs": [
    {
     "name": "stdout",
     "output_type": "stream",
     "text": [
      "[22.6, 22.7, 22.6, 23.1, 23.3, 23.1, 22.7, 22.2, 20.5, 18.6, 18.4, 18.1, 18.1, 17.5, 17.1, 16.4, 17.0, 17.3, 17.5, 17.3, 17.4, 18.0, 18.6, 17.9, 17.3]\n"
     ]
    }
   ],
   "source": [
    "#Air Temp CRN:\n",
    "with open('CRNH0203-2022-AL_Fairhope_3_NE.txt') as f:\n",
    "    lst=[line.split()[9] for line in f]\n",
    "    #print(lst)\n",
    "    temp_crn=[]\n",
    "    for i in lst:\n",
    "        new=i.replace(',',\"\")\n",
    "        temp_crn.append(new)\n",
    "    temp_crn=[float(x) for x in temp_crn]\n",
    "    temp_crn=temp_crn[1941:1966]\n",
    "    print(temp_crn)\n",
    "    #print(len(temp_crn))\n",
    "    # print(temp_crn[2124])"
   ]
  },
  {
   "cell_type": "code",
   "execution_count": 26,
   "id": "a9ff3306",
   "metadata": {},
   "outputs": [
    {
     "name": "stdout",
     "output_type": "stream",
     "text": [
      "[0.9454999999999991, 0.7082000000000015, 0.3109000000000002, -0.28800000000000026, -0.5299000000000014, -0.23029999999999973, -0.15119999999999933, -0.15779999999999816, -0.6416000000000004, -0.26030000000000086, 0.40870000000000317, 0.12819999999999965, 0.29139999999999944, 0.20579999999999998, -0.08530000000000015, 1.1826000000000008, 0.7985000000000007, 0.13309999999999889, 0.26010000000000133, 0.7314000000000007, 1.0897000000000006, 0.8214000000000006, 0.5191999999999979, 0.4012000000000029, 0.4131]\n"
     ]
    }
   ],
   "source": [
    "difference1_fai = []\n",
    "\n",
    "zip_object = zip(temp, temp_crn)\n",
    "for temp_i, temp_crn_i in zip_object:\n",
    "    difference1_fai.append(temp_i-temp_crn_i)\n",
    "\n",
    "print(difference1_fai)"
   ]
  },
  {
   "cell_type": "markdown",
   "id": "f5dd4e4b",
   "metadata": {},
   "source": [
    "<font size=\"3\">**Selma, AL: 2200 UTC 22 March 2022-2200 UTC 23 March 2022</font>"
   ]
  },
  {
   "cell_type": "code",
   "execution_count": 27,
   "id": "af6b46b1",
   "metadata": {},
   "outputs": [
    {
     "name": "stdout",
     "output_type": "stream",
     "text": [
      "[24.983 22.4082 21.7234 20.437 19.7076 19.4322 19.6113 19.9172 20.0459\n",
      " 19.5272 20.4962 19.7907 19.7039 19.3933 16.8897 15.7701 16.861 -- -- --\n",
      " -- 18.9464 18.9942 18.5512 18.4006]\n",
      "[24.2 23.8 23.3 22.6 21.7 20.6 20.9 20.2 20.1 20.8 20.2 20.2 19.3 17.4\n",
      " 15.9 15.7 16.4 -- -- -- -- 19.2 18.7 18.5 18.7]\n",
      "[0.7830000000000013, -1.3918, -1.5765999999999991, -2.1630000000000003, -1.9924, -1.1677999999999997, -1.2886999999999986, -0.28279999999999816, -0.05410000000000181, -1.2728000000000002, 0.29620000000000246, -0.4092999999999982, 0.40390000000000015, 1.9933000000000014, 0.9897000000000009, 0.07010000000000005, 0.4610000000000021, masked, masked, masked, masked, -0.2535999999999987, 0.2942, 0.05120000000000147, -0.29939999999999856]\n",
      "25\n"
     ]
    }
   ],
   "source": [
    "#1 hr hrrr:\n",
    "import numpy as np\n",
    "import numpy.ma as ma\n",
    "with open('hrrr_f01_Selma_AL.txt') as f:\n",
    "    lst=[line.split()[1] for line in f]\n",
    "    temp=[]\n",
    "    for i in lst:\n",
    "        new=i.replace(',',\"\")\n",
    "        temp.append(new)\n",
    "    temp.pop(0)\n",
    "    temp=[float(x) for x in temp]\n",
    "    temp=temp[1941:1966]\n",
    "\n",
    "    x = np.array(temp)\n",
    "    temp = ma.masked_array(x, mask=[0, 0, 0, 0, 0,0,0,0,0,0,0,0,0,0,0,0,0,1,1,1,1,0,0,0,0])\n",
    "    #print(temp)\n",
    "#Air Temp CRN:\n",
    "with open('CRNH0203-2022-AL_Selma_13_WNW.txt') as f:\n",
    "    lst=[line.split()[9] for line in f]\n",
    "    #print(lst)\n",
    "    temp_crn=[]\n",
    "    for i in lst:\n",
    "        new=i.replace(',',\"\")\n",
    "        temp_crn.append(new)\n",
    "    temp_crn=[float(x) for x in temp_crn]\n",
    "    temp_crn=temp_crn[1941:1966]\n",
    "    y = np.array(temp_crn)\n",
    "    temp_crn = ma.masked_array(y, mask=[0, 0, 0, 0, 0,0,0,0,0,0,0,0,0,0,0,0,0,1,1,1,1,0,0,0,0])\n",
    "    print(temp)\n",
    "    #print(len(temp))\n",
    "    print(temp_crn)\n",
    "    #print(len(temp_crn))\n",
    "#full time period is [2015:2112]\n",
    "difference1_sel = []\n",
    "\n",
    "zip_object = zip(temp, temp_crn)\n",
    "for temp_i, temp_crn_i in zip_object:\n",
    "    difference1_sel.append(temp_i-temp_crn_i)\n",
    "\n",
    "print(difference1_sel)\n",
    "print(len(difference1_sel))"
   ]
  },
  {
   "cell_type": "code",
   "execution_count": 28,
   "id": "40fd982f",
   "metadata": {},
   "outputs": [],
   "source": [
    "# import numpy as np\n",
    "# import numpy.ma as ma\n",
    "# x = np.array(temp_crn)\n",
    "# crnsel = ma.masked_array(x, mask=[0, 0, 0, 0, 0,0,0,0,0,0,0,0,0,0,0,0,0,1,1,1,1,0,0,0,0])\n",
    "# print(crnsel)\n",
    "# crnsel.mean()"
   ]
  },
  {
   "cell_type": "code",
   "execution_count": 29,
   "id": "fc41a8e0",
   "metadata": {},
   "outputs": [],
   "source": [
    "# temp[17]=0\n",
    "# temp[18]=0\n",
    "# temp[19]=0\n",
    "# temp[20]=0\n",
    "\n",
    "# temp_crn[17]=0\n",
    "# temp_crn[18]=0\n",
    "# temp_crn[19]=0\n",
    "# temp_crn[20]=0\n",
    "\n",
    "# difference1_sel[17]=0\n",
    "# difference1_sel[18]=0\n",
    "# difference1_sel[19]=0\n",
    "# difference1_sel[20]=0\n",
    "# print(temp)\n",
    "# print(temp_crn)\n",
    "# print(difference1_sel)\n"
   ]
  },
  {
   "cell_type": "markdown",
   "id": "8fab4bdc",
   "metadata": {},
   "source": [
    "<font size=\"3\">Bowling Green, KY: 2300 UTC 22 March 2022-2300 UTC 23 March 2022</font>"
   ]
  },
  {
   "cell_type": "code",
   "execution_count": 30,
   "id": "bf608647",
   "metadata": {},
   "outputs": [
    {
     "name": "stdout",
     "output_type": "stream",
     "text": [
      "[22.0957, 19.9109, 20.2495, 16.8951, 15.8072, 15.8613, 15.2922, 15.1084, 15.3397, 15.5587, 15.1657, 15.1414, 15.0183, 14.1397, 15.2076, 16.2985, 16.6831, 17.2601, 17.6564, 15.6147, 16.0089, 14.6817, 13.3012, 13.4006, 11.3372]\n"
     ]
    }
   ],
   "source": [
    "#1 hr hrrr:\n",
    "with open('hrrr_f01_Bowling Green_KY.txt') as f:\n",
    "    lst=[line.split()[1] for line in f]\n",
    "    temp=[]\n",
    "    for i in lst:\n",
    "        new=i.replace(',',\"\")\n",
    "        temp.append(new)\n",
    "    temp.pop(0)\n",
    "    temp=[float(x) for x in temp]\n",
    "    temp=temp[1942:1967]\n",
    "    #temp=temp[2015:2063]\n",
    "    print(temp)\n",
    "    #print(len(temp))\n",
    "#full time period is [2015:2112]"
   ]
  },
  {
   "cell_type": "code",
   "execution_count": 31,
   "id": "b9e25e31",
   "metadata": {},
   "outputs": [
    {
     "name": "stdout",
     "output_type": "stream",
     "text": [
      "[22.6, 21.3, 20.2, 15.8, 15.3, 15.0, 15.0, 15.0, 14.8, 15.0, 15.1, 14.9, 14.6, 14.2, 14.5, 15.1, 16.8, 16.6, 18.1, 17.9, 17.7, 17.3, 14.4, 13.7, 11.4]\n"
     ]
    }
   ],
   "source": [
    "#Air Temp CRN:\n",
    "with open('CRNH0203-2022-KY_Bowling_Green_21_NNE.txt') as f:\n",
    "    lst=[line.split()[9] for line in f]\n",
    "    #print(lst)\n",
    "    temp_crn=[]\n",
    "    for i in lst:\n",
    "        new=i.replace(',',\"\")\n",
    "        temp_crn.append(new)\n",
    "    temp_crn=[float(x) for x in temp_crn]\n",
    "    temp_crn=temp_crn[1942:1967]\n",
    "    print(temp_crn)\n",
    "    #print(len(temp_crn))\n",
    "    # print(temp_crn[2124])"
   ]
  },
  {
   "cell_type": "code",
   "execution_count": 32,
   "id": "c1e72531",
   "metadata": {},
   "outputs": [
    {
     "name": "stdout",
     "output_type": "stream",
     "text": [
      "[-0.5043000000000006, -1.3890999999999991, 0.049500000000001876, 1.0950999999999986, 0.5071999999999992, 0.8613, 0.29219999999999935, 0.10839999999999961, 0.5396999999999998, 0.5587, 0.06569999999999965, 0.2414000000000005, 0.41830000000000034, -0.0602999999999998, 0.7075999999999993, 1.198500000000001, -0.11690000000000111, 0.6600999999999999, -0.4436, -2.2852999999999994, -1.6910999999999987, -2.6183000000000014, -1.0988000000000007, -0.29939999999999856, -0.06280000000000108]\n"
     ]
    }
   ],
   "source": [
    "difference1_bow = []\n",
    "\n",
    "zip_object = zip(temp, temp_crn)\n",
    "for temp_i, temp_crn_i in zip_object:\n",
    "    difference1_bow.append(temp_i-temp_crn_i)\n",
    "\n",
    "print(difference1_bow)"
   ]
  },
  {
   "cell_type": "markdown",
   "id": "d1be2cc0",
   "metadata": {},
   "source": [
    "<font size=\"3\">Gadsden, AL: 0100 UTC 23 March 2022-0100 UTC 24 March 2022</font>"
   ]
  },
  {
   "cell_type": "code",
   "execution_count": 33,
   "id": "02793170",
   "metadata": {},
   "outputs": [
    {
     "name": "stdout",
     "output_type": "stream",
     "text": [
      "[20.687, 19.3951, 16.3072, 16.3613, 14.7922, 14.4209, 14.6522, 15.8712, 16.4157, 16.3289, 16.8933, 17.6397, 16.7076, 15.986, 15.6831, 15.3851, 17.7814, 17.6147, 18.1964, 18.7442, 18.2387, 16.4006, 15.6497, 13.7619, 12.8547]\n"
     ]
    }
   ],
   "source": [
    "#1 hr hrrr:\n",
    "with open('hrrr_f01_Gadsden_AL.txt') as f:\n",
    "    lst=[line.split()[1] for line in f]\n",
    "    temp=[]\n",
    "    for i in lst:\n",
    "        new=i.replace(',',\"\")\n",
    "        temp.append(new)\n",
    "    temp.pop(0)\n",
    "    temp=[float(x) for x in temp]\n",
    "    temp=temp[1944:1969]\n",
    "    #temp=temp[2015:2063]\n",
    "    print(temp)\n",
    "    #print(len(temp))\n",
    "#full time period is [2015:2112]"
   ]
  },
  {
   "cell_type": "code",
   "execution_count": 34,
   "id": "eb5f934d",
   "metadata": {},
   "outputs": [
    {
     "name": "stdout",
     "output_type": "stream",
     "text": [
      "[21.3, 18.7, 15.8, 15.1, 14.8, 14.5, 14.6, 14.7, 15.1, 15.7, 17.0, 17.9, 18.0, 16.5, 15.4, 16.7, 18.0, 18.9, 19.0, 19.2, 18.7, 17.6, 16.4, 14.4, 12.7]\n"
     ]
    }
   ],
   "source": [
    "#Air Temp CRN:\n",
    "with open('CRNH0203-2022-AL_Gadsden_19_N.txt') as f:\n",
    "    lst=[line.split()[9] for line in f]\n",
    "    #print(lst)\n",
    "    temp_crn=[]\n",
    "    for i in lst:\n",
    "        new=i.replace(',',\"\")\n",
    "        temp_crn.append(new)\n",
    "    temp_crn=[float(x) for x in temp_crn]\n",
    "    temp_crn=temp_crn[1944:1969]\n",
    "    print(temp_crn)\n",
    "    #print(len(temp_crn))\n",
    "    # print(temp_crn[2124])"
   ]
  },
  {
   "cell_type": "code",
   "execution_count": 35,
   "id": "c002ac76",
   "metadata": {},
   "outputs": [
    {
     "name": "stdout",
     "output_type": "stream",
     "text": [
      "[-0.6129999999999995, 0.6951, 0.507200000000001, 1.2613000000000003, -0.007800000000001361, -0.07910000000000039, 0.05220000000000091, 1.1712000000000007, 1.3157000000000014, 0.6289000000000016, -0.10670000000000002, -0.2602999999999973, -1.2924000000000007, -0.5139999999999993, 0.28309999999999924, -1.3148999999999997, -0.21859999999999857, -1.2852999999999994, -0.8035999999999994, -0.4558, -0.4612999999999978, -1.1994000000000007, -0.7502999999999993, -0.6380999999999997, 0.15470000000000006]\n"
     ]
    }
   ],
   "source": [
    "difference1_gad = []\n",
    "\n",
    "zip_object = zip(temp, temp_crn)\n",
    "for temp_i, temp_crn_i in zip_object:\n",
    "    difference1_gad.append(temp_i-temp_crn_i)\n",
    "\n",
    "print(difference1_gad)"
   ]
  },
  {
   "cell_type": "markdown",
   "id": "d430f7c6",
   "metadata": {},
   "source": [
    "<font size=\"3\">Newton, GA: 0900 UTC 23 March 2022-0900 UTC 24 March 2022</font>"
   ]
  },
  {
   "cell_type": "code",
   "execution_count": 36,
   "id": "e78bb8bf",
   "metadata": {},
   "outputs": [
    {
     "name": "stdout",
     "output_type": "stream",
     "text": [
      "[20.5407, 20.5789, 20.0183, 19.9522, 19.8326, 19.611, 20.9956, 22.2601, 22.7814, 22.7397, 22.7589, 23.1192, 22.0512, 22.7131, 22.0247, 20.2619, 19.3547, 18.6958, 18.5749, 18.4619, 17.0284, 16.6118, 16.4276, 15.3758, 15.4254]\n"
     ]
    }
   ],
   "source": [
    "#1 hr hrrr:\n",
    "with open('hrrr_f01_Newton_GA.txt') as f:\n",
    "    lst=[line.split()[1] for line in f]\n",
    "    temp=[]\n",
    "    for i in lst:\n",
    "        new=i.replace(',',\"\")\n",
    "        temp.append(new)\n",
    "    temp.pop(0)\n",
    "    temp=[float(x) for x in temp]\n",
    "    temp=temp[1952:1977]\n",
    "    #temp=temp[2015:2063]\n",
    "    print(temp)\n",
    "    #print(len(temp))\n",
    "#full time period is [2015:2112]"
   ]
  },
  {
   "cell_type": "code",
   "execution_count": 37,
   "id": "9851cf85",
   "metadata": {},
   "outputs": [
    {
     "name": "stdout",
     "output_type": "stream",
     "text": [
      "[21.5, 21.9, 20.6, 20.1, 20.5, 21.1, 21.4, 22.1, 23.0, 22.9, 22.7, 23.5, 23.8, 23.6, 22.8, 22.0, 21.0, 20.1, 19.8, 19.0, 18.6, 17.9, 17.2, 16.6, 15.9]\n"
     ]
    }
   ],
   "source": [
    "#Air Temp CRN:\n",
    "with open('CRNH0203-2022-GA_Newton_11_SW.txt') as f:\n",
    "    lst=[line.split()[9] for line in f]\n",
    "    #print(lst)\n",
    "    temp_crn=[]\n",
    "    for i in lst:\n",
    "        new=i.replace(',',\"\")\n",
    "        temp_crn.append(new)\n",
    "    temp_crn=[float(x) for x in temp_crn]\n",
    "    temp_crn=temp_crn[1952:1977]\n",
    "    print(temp_crn)\n",
    "    #print(len(temp_crn))\n",
    "    # print(temp_crn[2124])"
   ]
  },
  {
   "cell_type": "code",
   "execution_count": 38,
   "id": "f2141c03",
   "metadata": {},
   "outputs": [
    {
     "name": "stdout",
     "output_type": "stream",
     "text": [
      "[-0.9592999999999989, -1.3210999999999977, -0.5817000000000014, -0.14780000000000015, -0.6674000000000007, -1.4890000000000008, -0.404399999999999, 0.1600999999999999, -0.21859999999999857, -0.16029999999999944, 0.058900000000001285, -0.3808000000000007, -1.7487999999999992, -0.8869000000000007, -0.7753000000000014, -1.7380999999999993, -1.6452999999999989, -1.404200000000003, -1.2251000000000012, -0.5381, -1.5716, -1.2881999999999998, -0.7723999999999975, -1.2242000000000015, -0.4746000000000006]\n"
     ]
    }
   ],
   "source": [
    "difference1_newt = []\n",
    "\n",
    "zip_object = zip(temp, temp_crn)\n",
    "for temp_i, temp_crn_i in zip_object:\n",
    "    difference1_newt.append(temp_i-temp_crn_i)\n",
    "\n",
    "print(difference1_newt)"
   ]
  },
  {
   "cell_type": "markdown",
   "id": "ab4663ab",
   "metadata": {},
   "source": [
    "<font size=\"3\">Salem, MO: 1300 UTC 30 March 2022-1300 UTC 31 March 2022</font>"
   ]
  },
  {
   "cell_type": "code",
   "execution_count": 39,
   "id": "6e382a43",
   "metadata": {},
   "outputs": [
    {
     "name": "stdout",
     "output_type": "stream",
     "text": [
      "[17.0787, 16.8248, 16.4124, 15.4409, 14.8282, 14.8928, 15.0907, 14.8171, 14.5162, 10.8295, 6.94501, 6.92621, 5.71863, 4.93109, 3.84183, 2.97488, 2.51657, 2.7937, 2.47037, 2.38724, 2.4791, 2.5416, 2.58963, 2.44495, 2.85843]\n"
     ]
    }
   ],
   "source": [
    "#1 hr hrrr:\n",
    "with open('hrrr_f01_Salem_MO.txt') as f:\n",
    "    lst=[line.split()[1] for line in f]\n",
    "    temp=[]\n",
    "    for i in lst:\n",
    "        new=i.replace(',',\"\")\n",
    "        temp.append(new)\n",
    "    temp.pop(0)\n",
    "    temp=[float(x) for x in temp]\n",
    "    temp=temp[2124:2149]\n",
    "    #temp=temp[2015:2063]\n",
    "    print(temp)\n",
    "    #print(len(temp))\n",
    "#full time period is [2015:2112]"
   ]
  },
  {
   "cell_type": "code",
   "execution_count": 40,
   "id": "01b4011e",
   "metadata": {},
   "outputs": [
    {
     "name": "stdout",
     "output_type": "stream",
     "text": [
      "[16.6, 15.8, 13.8, 13.6, 14.2, 14.5, 14.3, 14.0, 13.9, 10.5, 8.1, 5.9, 5.2, 4.5, 3.8, 3.2, 3.0, 2.7, 2.5, 2.2, 2.1, 2.2, 2.3, 2.2, 2.3]\n"
     ]
    }
   ],
   "source": [
    "#Air Temp CRN:\n",
    "with open('CRNH0203-2022-MO_Salem_10_W.txt') as f:\n",
    "    lst=[line.split()[9] for line in f]\n",
    "    #print(lst)\n",
    "    temp_crn=[]\n",
    "    for i in lst:\n",
    "        new=i.replace(',',\"\")\n",
    "        temp_crn.append(new)\n",
    "    temp_crn=[float(x) for x in temp_crn]\n",
    "    temp_crn=temp_crn[2124:2149]\n",
    "    print(temp_crn)\n",
    "    #print(len(temp_crn))\n",
    "    # print(temp_crn[2124])"
   ]
  },
  {
   "cell_type": "code",
   "execution_count": 41,
   "id": "80548ed7",
   "metadata": {},
   "outputs": [
    {
     "name": "stdout",
     "output_type": "stream",
     "text": [
      "25\n"
     ]
    }
   ],
   "source": [
    "hour=[]\n",
    "for i in range(-12,13,1):\n",
    "    hour.append(i)\n",
    "    i+=1\n",
    "print(len(hour))"
   ]
  },
  {
   "cell_type": "code",
   "execution_count": 42,
   "id": "e426b6a3",
   "metadata": {},
   "outputs": [
    {
     "name": "stdout",
     "output_type": "stream",
     "text": [
      "[0.4786999999999999, 1.024799999999999, 2.612400000000001, 1.8408999999999995, 0.6282000000000014, 0.39279999999999937, 0.7906999999999993, 0.8170999999999999, 0.6161999999999992, 0.32949999999999946, -1.1549899999999997, 1.0262099999999998, 0.5186299999999999, 0.4310900000000002, 0.041830000000000034, -0.22512, -0.4834299999999998, 0.09369999999999967, -0.029630000000000045, 0.18723999999999963, 0.37909999999999977, 0.3415999999999997, 0.2896300000000003, 0.24494999999999978, 0.55843]\n"
     ]
    }
   ],
   "source": [
    "difference2_sal = []\n",
    "\n",
    "zip_object = zip(temp, temp_crn)\n",
    "for temp_i, temp_crn_i in zip_object:\n",
    "    difference2_sal.append(temp_i-temp_crn_i)\n",
    "\n",
    "print(difference2_sal)"
   ]
  },
  {
   "cell_type": "markdown",
   "id": "e17a19ca",
   "metadata": {},
   "source": [
    "<font size=\"3\">Batesville, AR: 1300 UTC 30 March 2022-1300 UTC 31 March 2022</font>"
   ]
  },
  {
   "cell_type": "code",
   "execution_count": 43,
   "id": "4d0e2594",
   "metadata": {},
   "outputs": [
    {
     "name": "stdout",
     "output_type": "stream",
     "text": [
      "[18.7037, 19.1998, 20.1624, 19.7534, 18.3907, 18.4553, 17.5282, 16.7546, 14.9537, 15.7045, 16.7575, 14.5512, 10.3436, 8.74359, 7.65433, 6.97488, 6.14157, 5.6687, 5.40787, 4.88724, 5.5416, 4.5416, 3.90213, 3.44495, 4.60843]\n"
     ]
    }
   ],
   "source": [
    "#1 hr hrrr:\n",
    "with open('hrrr_f01_Batesville_AR.txt') as f:\n",
    "    lst=[line.split()[1] for line in f]\n",
    "    temp=[]\n",
    "    for i in lst:\n",
    "        new=i.replace(',',\"\")\n",
    "        temp.append(new)\n",
    "    temp.pop(0)\n",
    "    temp=[float(x) for x in temp]\n",
    "    temp=temp[2124:2149]\n",
    "    #temp=temp[2015:2063]\n",
    "    print(temp)\n",
    "    #print(len(temp))\n",
    "#full time period is [2015:2112]"
   ]
  },
  {
   "cell_type": "code",
   "execution_count": 44,
   "id": "2dcc93c0",
   "metadata": {},
   "outputs": [
    {
     "name": "stdout",
     "output_type": "stream",
     "text": [
      "[19.3, 19.3, 19.5, 19.6, 18.3, 18.0, 16.6, 16.2, 15.2, 14.6, 15.9, 15.9, 11.7, 8.7, 8.3, 7.6, 6.7, 6.6, 6.1, 5.4, 5.1, 5.4, 4.5, 2.8, 3.5]\n"
     ]
    }
   ],
   "source": [
    "#Air Temp CRN:\n",
    "with open('CRNH0203-2022-AR_Batesville_8_WNW.txt') as f:\n",
    "    lst=[line.split()[9] for line in f]\n",
    "    #print(lst)\n",
    "    temp_crn=[]\n",
    "    for i in lst:\n",
    "        new=i.replace(',',\"\")\n",
    "        temp_crn.append(new)\n",
    "    temp_crn=[float(x) for x in temp_crn]\n",
    "    temp_crn=temp_crn[2124:2149]\n",
    "    print(temp_crn)\n",
    "    #print(len(temp_crn))\n",
    "    # print(temp_crn[2124])"
   ]
  },
  {
   "cell_type": "code",
   "execution_count": 45,
   "id": "12f91aa0",
   "metadata": {},
   "outputs": [
    {
     "name": "stdout",
     "output_type": "stream",
     "text": [
      "[-0.5962999999999994, -0.10020000000000095, 0.6624000000000017, 0.15339999999999776, 0.09069999999999823, 0.45530000000000115, 0.9281999999999968, 0.5546000000000006, -0.24629999999999974, 1.1044999999999998, 0.8574999999999999, -1.3488000000000007, -1.356399999999999, 0.04359000000000002, -0.6456700000000009, -0.6251199999999999, -0.5584300000000004, -0.9312999999999994, -0.6921299999999997, -0.5127600000000001, 0.4416000000000002, -0.8584000000000005, -0.5978699999999999, 0.6449500000000001, 1.1084300000000002]\n"
     ]
    }
   ],
   "source": [
    "difference2_bat = []\n",
    "\n",
    "zip_object = zip(temp, temp_crn)\n",
    "for temp_i, temp_crn_i in zip_object:\n",
    "    difference2_bat.append(temp_i-temp_crn_i)\n",
    "\n",
    "print(difference2_bat)"
   ]
  },
  {
   "cell_type": "code",
   "execution_count": 46,
   "id": "fbc1d02a",
   "metadata": {},
   "outputs": [
    {
     "name": "stdout",
     "output_type": "stream",
     "text": [
      "[25.6407, 25.9553, 24.8407, 24.6921, 24.3287, 23.3295, 20.7575, 19.1762, 17.5936, 16.6811, 16.2168, 15.8499, 15.5791, 15.6062, 15.5329, 13.8247, 12.7291, 12.0416, 11.2771, 10.5699, 11.5459, 12.467, 13.814, 15.4414, 18.1687]\n"
     ]
    }
   ],
   "source": [
    "#1 hr hrrr:\n",
    "with open('hrrr_f01_Lafayette_LA.txt') as f:\n",
    "    lst=[line.split()[1] for line in f]\n",
    "    temp=[]\n",
    "    for i in lst:\n",
    "        new=i.replace(',',\"\")\n",
    "        temp.append(new)\n",
    "    temp.pop(0)\n",
    "    temp=[float(x) for x in temp]\n",
    "    temp=temp[2128:2153]\n",
    "    #temp=temp[2015:2063]\n",
    "    print(temp)\n",
    "    #print(len(temp))\n",
    "#full time period is [2015:2112]"
   ]
  },
  {
   "cell_type": "code",
   "execution_count": 47,
   "id": "16943c4f",
   "metadata": {},
   "outputs": [
    {
     "name": "stdout",
     "output_type": "stream",
     "text": [
      "[23.4, 24.1, 24.4, 24.3, 23.6, 19.5, 17.0, 17.7, 16.4, 15.4, 14.9, 15.5, 15.0, 16.0, 16.3, 15.0, 13.7, 12.2, 10.4, 9.8, 10.0, 12.0, 13.9, 15.8, 17.4]\n"
     ]
    }
   ],
   "source": [
    "#Air Temp CRN:\n",
    "with open('CRNH0203-2022-LA_Lafayette_13_SE.txt') as f:\n",
    "    lst=[line.split()[9] for line in f]\n",
    "    #print(lst)\n",
    "    temp_crn=[]\n",
    "    for i in lst:\n",
    "        new=i.replace(',',\"\")\n",
    "        temp_crn.append(new)\n",
    "    temp_crn=[float(x) for x in temp_crn]\n",
    "    temp_crn=temp_crn[2128:2153]\n",
    "    print(temp_crn)\n",
    "    #print(len(temp_crn))\n",
    "    # print(temp_crn[2124])"
   ]
  },
  {
   "cell_type": "code",
   "execution_count": 48,
   "id": "ad9e49f7",
   "metadata": {},
   "outputs": [
    {
     "name": "stdout",
     "output_type": "stream",
     "text": [
      "[2.2407000000000004, 1.8552999999999997, 0.44069999999999965, 0.3920999999999992, 0.7286999999999999, 3.8294999999999995, 3.7575000000000003, 1.4762000000000022, 1.1936, 1.2811000000000003, 1.3167999999999989, 0.3498999999999999, 0.5791000000000004, -0.3938000000000006, -0.767100000000001, -1.1753, -0.9708999999999985, -0.15839999999999854, 0.8771000000000004, 0.7698999999999998, 1.5458999999999996, 0.4670000000000005, -0.0860000000000003, -0.3586000000000009, 0.7687000000000026]\n"
     ]
    }
   ],
   "source": [
    "difference2_laf = []\n",
    "\n",
    "zip_object = zip(temp, temp_crn)\n",
    "for temp_i, temp_crn_i in zip_object:\n",
    "    difference2_laf.append(temp_i-temp_crn_i)\n",
    "\n",
    "print(difference2_laf)"
   ]
  },
  {
   "cell_type": "code",
   "execution_count": 49,
   "id": "21f64f76",
   "metadata": {},
   "outputs": [],
   "source": [
    "# hour=[]\n",
    "# for i in range(-15,16,1):\n",
    "#     hour.append(i)\n",
    "#     i+=1\n",
    "# print(len(hour))"
   ]
  },
  {
   "cell_type": "markdown",
   "id": "5bdd017c",
   "metadata": {},
   "source": [
    "<font size=\"3\">Monroe, LA: 1700 UTC 30 March 2022-1700 UTC 31 March 2022</font>"
   ]
  },
  {
   "cell_type": "code",
   "execution_count": 50,
   "id": "409be061",
   "metadata": {},
   "outputs": [
    {
     "name": "stdout",
     "output_type": "stream",
     "text": [
      "[22.8282, 21.8303, 20.7157, 17.8171, 16.2037, 17.767, 18.57, 17.5512, 16.6561, 15.9936, 12.6543, 11.0374, 10.9541, 9.9187, 8.84537, 8.51224, 7.7291, 7.1041, 6.58963, 6.00745, 6.60843, 8.40451, 10.439, 12.1289, 13.4812]\n"
     ]
    }
   ],
   "source": [
    "#1 hr hrrr:\n",
    "with open('hrrr_f01_Monroe_LA.txt') as f:\n",
    "    lst=[line.split()[1] for line in f]\n",
    "    temp=[]\n",
    "    for i in lst:\n",
    "        new=i.replace(',',\"\")\n",
    "        temp.append(new)\n",
    "    temp.pop(0)\n",
    "    temp=[float(x) for x in temp]\n",
    "    temp=temp[2128:2153]\n",
    "    #temp=temp[2015:2063]\n",
    "    print(temp)\n",
    "    #print(len(temp))\n",
    "#full time period is [2015:2112]"
   ]
  },
  {
   "cell_type": "code",
   "execution_count": 51,
   "id": "4d3f3d6e",
   "metadata": {},
   "outputs": [
    {
     "name": "stdout",
     "output_type": "stream",
     "text": [
      "[21.0, 21.1, 18.6, 16.0, 15.9, 16.8, 17.8, 17.7, 16.6, 16.2, 14.9, 13.7, 12.3, 10.4, 8.9, 8.8, 8.5, 6.2, 5.2, 4.6, 4.4, 7.5, 10.5, 12.7, 14.4]\n"
     ]
    }
   ],
   "source": [
    "#Air Temp CRN:\n",
    "with open('CRNH0203-2022-LA_Monroe_26_N.txt') as f:\n",
    "    lst=[line.split()[9] for line in f]\n",
    "    #print(lst)\n",
    "    temp_crn=[]\n",
    "    for i in lst:\n",
    "        new=i.replace(',',\"\")\n",
    "        temp_crn.append(new)\n",
    "    temp_crn=[float(x) for x in temp_crn]\n",
    "    temp_crn=temp_crn[2128:2153]\n",
    "    print(temp_crn)\n",
    "    #print(len(temp_crn))\n",
    "    # print(temp_crn[2124])"
   ]
  },
  {
   "cell_type": "code",
   "execution_count": 52,
   "id": "178b8e52",
   "metadata": {},
   "outputs": [
    {
     "name": "stdout",
     "output_type": "stream",
     "text": [
      "[1.828199999999999, 0.7302999999999997, 2.115699999999997, 1.8171, 0.30370000000000097, 0.9669999999999987, 0.7699999999999996, -0.14879999999999782, 0.05609999999999715, -0.20639999999999858, -2.245700000000001, -2.6625999999999994, -1.3459000000000003, -0.48130000000000095, -0.05462999999999951, -0.28776000000000046, -0.7709000000000001, 0.9040999999999997, 1.3896299999999995, 1.4074500000000008, 2.20843, 0.9045100000000001, -0.06099999999999994, -0.5710999999999995, -0.918800000000001]\n"
     ]
    }
   ],
   "source": [
    "difference2_mon = []\n",
    "\n",
    "zip_object = zip(temp, temp_crn)\n",
    "for temp_i, temp_crn_i in zip_object:\n",
    "    difference2_mon.append(temp_i-temp_crn_i)\n",
    "\n",
    "print(difference2_mon)"
   ]
  },
  {
   "cell_type": "markdown",
   "id": "3e401515",
   "metadata": {},
   "source": [
    "<font size=\"3\">Holly Springs, MS: 2000 UTC 30 March 2022-2000 UTC 31 March 2022</font>"
   ]
  },
  {
   "cell_type": "code",
   "execution_count": 53,
   "id": "bffada22",
   "metadata": {},
   "outputs": [
    {
     "name": "stdout",
     "output_type": "stream",
     "text": [
      "[22.7546, 21.2662, 19.9545, 19.32, 15.6762, 15.7186, 15.1186, 15.2168, 14.9749, 14.8291, 12.4187, 10.1579, 8.51224, 8.1041, 7.7916, 7.83963, 7.44495, 6.98343, 8.15451, 7.93896, 8.94138, 10.2937, 11.4629, 12.3257, 12.9888]\n"
     ]
    }
   ],
   "source": [
    "#1 hr hrrr:\n",
    "with open('hrrr_f01_Holly Springs_MS.txt') as f:\n",
    "    lst=[line.split()[1] for line in f]\n",
    "    temp=[]\n",
    "    for i in lst:\n",
    "        new=i.replace(',',\"\")\n",
    "        temp.append(new)\n",
    "    temp.pop(0)\n",
    "    temp=[float(x) for x in temp]\n",
    "    temp=temp[2131:2156]\n",
    "    #temp=temp[2015:2063]\n",
    "    print(temp)\n",
    "    #print(len(temp))\n",
    "#full time period is [2015:2112]"
   ]
  },
  {
   "cell_type": "code",
   "execution_count": 54,
   "id": "cc96dac3",
   "metadata": {},
   "outputs": [
    {
     "name": "stdout",
     "output_type": "stream",
     "text": [
      "[22.4, 20.2, 19.5, 17.8, 14.4, 14.8, 14.8, 14.7, 14.5, 14.7, 12.7, 11.2, 9.4, 7.6, 6.7, 6.3, 6.3, 6.5, 7.0, 8.2, 9.3, 10.6, 12.2, 13.4, 14.2]\n"
     ]
    }
   ],
   "source": [
    "#Air Temp CRN:\n",
    "with open('CRNH0203-2022-MS_Holly_Springs_4_N.txt') as f:\n",
    "    lst=[line.split()[9] for line in f]\n",
    "    #print(lst)\n",
    "    temp_crn=[]\n",
    "    for i in lst:\n",
    "        new=i.replace(',',\"\")\n",
    "        temp_crn.append(new)\n",
    "    temp_crn=[float(x) for x in temp_crn]\n",
    "    temp_crn=temp_crn[2131:2156]\n",
    "    print(temp_crn)\n",
    "    #print(len(temp_crn))\n",
    "    # print(temp_crn[2124])"
   ]
  },
  {
   "cell_type": "code",
   "execution_count": 55,
   "id": "b348cd62",
   "metadata": {},
   "outputs": [
    {
     "name": "stdout",
     "output_type": "stream",
     "text": [
      "[0.35460000000000136, 1.066200000000002, 0.45449999999999946, 1.5199999999999996, 1.2761999999999993, 0.9185999999999996, 0.3186, 0.5167999999999999, 0.4748999999999999, 0.1291000000000011, -0.2812999999999999, -1.0420999999999996, -0.8877600000000001, 0.5041000000000011, 1.0915999999999997, 1.5396299999999998, 1.1449500000000006, 0.48343000000000025, 1.1545100000000001, -0.2610399999999995, -0.35862000000000016, -0.30630000000000024, -0.7370999999999999, -1.074300000000001, -1.2111999999999998]\n"
     ]
    }
   ],
   "source": [
    "difference2_hol = []\n",
    "\n",
    "zip_object = zip(temp, temp_crn)\n",
    "for temp_i, temp_crn_i in zip_object:\n",
    "    difference2_hol.append(temp_i-temp_crn_i)\n",
    "\n",
    "print(difference2_hol)"
   ]
  },
  {
   "cell_type": "markdown",
   "id": "b5225197",
   "metadata": {},
   "source": [
    "<font size=\"3\">Newton, MS: 2000 UTC 30 March 2022-2000 UTC 31 March 2022</font>"
   ]
  },
  {
   "cell_type": "code",
   "execution_count": 56,
   "id": "c617605e",
   "metadata": {},
   "outputs": [
    {
     "name": "stdout",
     "output_type": "stream",
     "text": [
      "[26.5046, 26.1412, 24.767, 24.195, 21.8012, 20.3436, 18.6186, 17.2168, 16.2874, 14.9541, 14.2312, 13.9079, 13.7622, 13.6041, 12.3541, 11.1521, 11.6949, 11.6084, 11.7795, 11.314, 12.4414, 13.9812, 15.4629, 17.3882, 18.8013]\n"
     ]
    }
   ],
   "source": [
    "#1 hr hrrr:\n",
    "with open('hrrr_f01_Newton_MS.txt') as f:\n",
    "    lst=[line.split()[1] for line in f]\n",
    "    temp=[]\n",
    "    for i in lst:\n",
    "        new=i.replace(',',\"\")\n",
    "        temp.append(new)\n",
    "    temp.pop(0)\n",
    "    temp=[float(x) for x in temp]\n",
    "    temp=temp[2131:2156]\n",
    "    #temp=temp[2015:2063]\n",
    "    print(temp)\n",
    "    #print(len(temp))\n",
    "#full time period is [2015:2112]"
   ]
  },
  {
   "cell_type": "code",
   "execution_count": 57,
   "id": "b4fea934",
   "metadata": {},
   "outputs": [
    {
     "name": "stdout",
     "output_type": "stream",
     "text": [
      "[25.4, 25.1, 24.7, 23.8, 22.4, 18.3, 15.7, 15.2, 14.8, 14.2, 13.6, 13.5, 13.5, 13.3, 12.0, 11.2, 10.7, 10.5, 10.3, 10.8, 12.4, 14.0, 15.5, 16.9, 17.7]\n"
     ]
    }
   ],
   "source": [
    "#Air Temp CRN:\n",
    "with open('CRNH0203-2022-MS_Newton_5_ENE.txt') as f:\n",
    "    lst=[line.split()[9] for line in f]\n",
    "    #print(lst)\n",
    "    temp_crn=[]\n",
    "    for i in lst:\n",
    "        new=i.replace(',',\"\")\n",
    "        temp_crn.append(new)\n",
    "    temp_crn=[float(x) for x in temp_crn]\n",
    "    temp_crn=temp_crn[2131:2156]\n",
    "    print(temp_crn)\n",
    "    #print(len(temp_crn))\n",
    "    # print(temp_crn[2124])"
   ]
  },
  {
   "cell_type": "code",
   "execution_count": 58,
   "id": "cd6de2b7",
   "metadata": {},
   "outputs": [
    {
     "name": "stdout",
     "output_type": "stream",
     "text": [
      "[1.1046000000000014, 1.0412, 0.06700000000000017, 0.3949999999999996, -0.5987999999999971, 2.043599999999998, 2.9186000000000014, 2.0168, 1.487400000000001, 0.7541000000000011, 0.6311999999999998, 0.4078999999999997, 0.2622, 0.30410000000000004, 0.35410000000000075, -0.0478999999999985, 0.9949000000000012, 1.1083999999999996, 1.4794999999999998, 0.5139999999999993, 0.04139999999999944, -0.018800000000000594, -0.03710000000000058, 0.48820000000000263, 1.101300000000002]\n"
     ]
    }
   ],
   "source": [
    "difference2_new = []\n",
    "\n",
    "zip_object = zip(temp, temp_crn)\n",
    "for temp_i, temp_crn_i in zip_object:\n",
    "    difference2_new.append(temp_i-temp_crn_i)\n",
    "\n",
    "print(difference2_new)"
   ]
  },
  {
   "cell_type": "markdown",
   "id": "bfaeb78c",
   "metadata": {},
   "source": [
    "<font size=\"3\">Gainesville, AL: 2300 UTC 30 March 2022-2300 UTC 31 March 2022</font>"
   ]
  },
  {
   "cell_type": "code",
   "execution_count": 59,
   "id": "fdf21c78",
   "metadata": {},
   "outputs": [
    {
     "name": "stdout",
     "output_type": "stream",
     "text": [
      "[25.32, 23.8637, 21.2811, 20.2436, 19.2793, 18.2874, 17.1416, 16.3562, 15.3454, 14.9497, 15.6666, 14.4791, 13.4021, 13.3199, 12.4209, 12.092, 11.7515, 12.2539, 13.6062, 14.7754, 16.0132, 17.3013, 18.8931, 19.423, 19.3799]\n"
     ]
    }
   ],
   "source": [
    "#1 hr hrrr:\n",
    "with open('hrrr_f01_Gainesville_AL.txt') as f:\n",
    "    lst=[line.split()[1] for line in f]\n",
    "    temp=[]\n",
    "    for i in lst:\n",
    "        new=i.replace(',',\"\")\n",
    "        temp.append(new)\n",
    "    temp.pop(0)\n",
    "    temp=[float(x) for x in temp]\n",
    "    temp=temp[2134:2159]\n",
    "    #temp=temp[2015:2063]\n",
    "    print(temp)\n",
    "    #print(len(temp))\n",
    "#full time period is [2015:2112]"
   ]
  },
  {
   "cell_type": "code",
   "execution_count": 60,
   "id": "1fd4e19a",
   "metadata": {},
   "outputs": [
    {
     "name": "stdout",
     "output_type": "stream",
     "text": [
      "[25.1, 23.5, 22.0, 19.9, 16.4, 16.0, 15.6, 15.1, 14.4, 13.6, 13.7, 13.7, 12.5, 11.8, 11.8, 11.4, 11.5, 11.9, 12.9, 14.5, 15.6, 17.0, 17.7, 18.6, 18.8]\n"
     ]
    }
   ],
   "source": [
    "#Air Temp CRN:\n",
    "with open('CRNH0203-2022-AL_Gainesville_2_NE.txt') as f:\n",
    "    lst=[line.split()[9] for line in f]\n",
    "    #print(lst)\n",
    "    temp_crn=[]\n",
    "    for i in lst:\n",
    "        new=i.replace(',',\"\")\n",
    "        temp_crn.append(new)\n",
    "    temp_crn=[float(x) for x in temp_crn]\n",
    "    temp_crn=temp_crn[2134:2159]\n",
    "    print(temp_crn)\n",
    "    #print(len(temp_crn))\n",
    "    # print(temp_crn[2124])"
   ]
  },
  {
   "cell_type": "code",
   "execution_count": 61,
   "id": "82a257d7",
   "metadata": {},
   "outputs": [
    {
     "name": "stdout",
     "output_type": "stream",
     "text": [
      "[0.21999999999999886, 0.36370000000000147, -0.7189000000000014, 0.3436000000000021, 2.8793000000000006, 2.2874000000000017, 1.5416000000000007, 1.2562000000000015, 0.9453999999999994, 1.3497000000000003, 1.9666000000000015, 0.7791000000000015, 0.9021000000000008, 1.5198999999999998, 0.6208999999999989, 0.6920000000000002, 0.25150000000000006, 0.35389999999999944, 0.706199999999999, 0.2753999999999994, 0.41320000000000157, 0.30130000000000123, 1.1931000000000012, 0.8229999999999968, 0.5798999999999985]\n"
     ]
    }
   ],
   "source": [
    "difference2_gai = []\n",
    "\n",
    "zip_object = zip(temp, temp_crn)\n",
    "for temp_i, temp_crn_i in zip_object:\n",
    "    difference2_gai.append(temp_i-temp_crn_i)\n",
    "\n",
    "print(difference2_gai)"
   ]
  },
  {
   "cell_type": "markdown",
   "id": "0917b86d",
   "metadata": {},
   "source": [
    "<font size=\"3\">Fairhope, AL: 0100 UTC 31 March 2022-0100 UTC 1 April 2022</font>"
   ]
  },
  {
   "cell_type": "code",
   "execution_count": 62,
   "id": "d45d1a00",
   "metadata": {},
   "outputs": [
    {
     "name": "stdout",
     "output_type": "stream",
     "text": [
      "[23.9061, 24.0561, 23.5293, 23.4749, 23.3291, 18.9812, 17.7829, 18.1372, 18.1041, 17.8541, 17.5271, 17.5699, 18.4834, 19.0295, 18.6265, 20.0664, 20.9187, 21.9004, 23.4507, 24.6138, 24.2681, 23.7355, 22.5049, 21.6547, 20.423]\n"
     ]
    }
   ],
   "source": [
    "#1 hr hrrr:\n",
    "with open('hrrr_f01_Fairhope_AL.txt') as f:\n",
    "    lst=[line.split()[1] for line in f]\n",
    "    temp=[]\n",
    "    for i in lst:\n",
    "        new=i.replace(',',\"\")\n",
    "        temp.append(new)\n",
    "    temp.pop(0)\n",
    "    temp=[float(x) for x in temp]\n",
    "    temp=temp[2136:2161]\n",
    "    #temp=temp[2015:2063]\n",
    "    print(temp)\n",
    "    #print(len(temp))\n",
    "#full time period is [2015:2112]"
   ]
  },
  {
   "cell_type": "code",
   "execution_count": 63,
   "id": "96fb5481",
   "metadata": {},
   "outputs": [
    {
     "name": "stdout",
     "output_type": "stream",
     "text": [
      "[23.5, 23.4, 23.3, 23.4, 20.5, 17.1, 16.9, 17.0, 17.0, 16.8, 17.1, 17.3, 17.5, 17.5, 18.5, 19.1, 19.7, 20.5, 21.5, 22.3, 22.5, 21.9, 20.8, 19.6, 17.7]\n"
     ]
    }
   ],
   "source": [
    "#Air Temp CRN:\n",
    "with open('CRNH0203-2022-AL_Fairhope_3_NE.txt') as f:\n",
    "    lst=[line.split()[9] for line in f]\n",
    "    #print(lst)\n",
    "    temp_crn=[]\n",
    "    for i in lst:\n",
    "        new=i.replace(',',\"\")\n",
    "        temp_crn.append(new)\n",
    "    temp_crn=[float(x) for x in temp_crn]\n",
    "    temp_crn=temp_crn[2136:2161]\n",
    "    print(temp_crn)\n",
    "    #print(len(temp_crn))\n",
    "    # print(temp_crn[2124])"
   ]
  },
  {
   "cell_type": "code",
   "execution_count": 64,
   "id": "f15c30e0",
   "metadata": {},
   "outputs": [
    {
     "name": "stdout",
     "output_type": "stream",
     "text": [
      "[0.4060999999999986, 0.6561000000000021, 0.2292999999999985, 0.07490000000000308, 2.8291000000000004, 1.8811999999999998, 0.8829000000000029, 1.1372, 1.104099999999999, 1.0540999999999983, 0.42709999999999937, 0.2698999999999998, 0.9833999999999996, 1.5294999999999987, 0.12650000000000006, 0.9664000000000001, 1.218700000000002, 1.4004000000000012, 1.9507000000000012, 2.3138000000000005, 1.7681000000000004, 1.8354999999999997, 1.7048999999999985, 2.054699999999997, 2.722999999999999]\n"
     ]
    }
   ],
   "source": [
    "difference2_fai = []\n",
    "\n",
    "zip_object = zip(temp, temp_crn)\n",
    "for temp_i, temp_crn_i in zip_object:\n",
    "    difference2_fai.append(temp_i-temp_crn_i)\n",
    "\n",
    "print(difference2_fai)"
   ]
  },
  {
   "cell_type": "markdown",
   "id": "e9530edf",
   "metadata": {},
   "source": [
    "<font size=\"3\">**Selma, AL: 0100 UTC 31 March 2022-0100 UTC 1 April 2022</font>"
   ]
  },
  {
   "cell_type": "code",
   "execution_count": 65,
   "id": "15e7e080",
   "metadata": {},
   "outputs": [
    {
     "name": "stdout",
     "output_type": "stream",
     "text": [
      "[23.2811, 22.6811, 21.6543, 20.7874, 20.0166, 19.8562, 18.0954, 17.3247, 16.4166, 15.0416, 15.4021, 16.0699, 16.1709, 15.9045, 15.5015, 14.6289, 15.0437, 16.5879, 17.8257, 17.9888, 18.3931, 18.923, 18.1299, 17.3422, 15.9855]\n",
      "25\n",
      "[24.0, 23.4, 21.4, 20.4, 18.6, 17.8, 16.7, 16.5, 15.9, 15.6, 15.7, 15.4, 15.0, 13.9, 14.4, 15.7, 16.0, 16.4, 17.2, 17.6, 17.8, 18.1, 18.2, 17.1, 13.9]\n",
      "25\n",
      "[-0.7189000000000014, -0.7188999999999979, 0.25430000000000064, 0.3874000000000031, 1.416599999999999, 2.0562000000000005, 1.3954000000000022, 0.8247, 0.5165999999999986, -0.5583999999999989, -0.2978999999999985, 0.6699000000000002, 1.1708999999999996, 2.0045, 1.1014999999999997, -1.0710999999999995, -0.9563000000000006, 0.18790000000000262, 0.6257000000000019, 0.3887999999999998, 0.5930999999999997, 0.8229999999999968, -0.07010000000000005, 0.24219999999999686, 2.0854999999999997]\n",
      "25\n"
     ]
    }
   ],
   "source": [
    "#1 hr hrrr:\n",
    "with open('hrrr_f01_Selma_AL.txt') as f:\n",
    "    lst=[line.split()[1] for line in f]\n",
    "    temp=[]\n",
    "    for i in lst:\n",
    "        new=i.replace(',',\"\")\n",
    "        temp.append(new)\n",
    "    temp.pop(0)\n",
    "    temp=[float(x) for x in temp]\n",
    "    temp=temp[2136:2161]\n",
    "    \n",
    "#Air Temp CRN:\n",
    "with open('CRNH0203-2022-AL_Selma_13_WNW.txt') as f:\n",
    "    lst=[line.split()[9] for line in f]\n",
    "    #print(lst)\n",
    "    temp_crn=[]\n",
    "    for i in lst:\n",
    "        new=i.replace(',',\"\")\n",
    "        temp_crn.append(new)\n",
    "    temp_crn=[float(x) for x in temp_crn]\n",
    "    temp_crn=temp_crn[2136:2161]\n",
    "\n",
    "    print(temp)\n",
    "    print(len(temp))\n",
    "    print(temp_crn)\n",
    "    print(len(temp_crn))\n",
    "#full time period is [2015:2112]\n",
    "difference2_sel = []\n",
    "\n",
    "zip_object = zip(temp, temp_crn)\n",
    "for temp_i, temp_crn_i in zip_object:\n",
    "    difference2_sel.append(temp_i-temp_crn_i)\n",
    "\n",
    "print(difference2_sel)\n",
    "print(len(difference2_sel))"
   ]
  },
  {
   "cell_type": "markdown",
   "id": "96c13278",
   "metadata": {},
   "source": [
    "<font size=\"3\">Bowling Green, KY: 0100 UTC 31 March 2022-0100 UTC 1 April 2022</font>"
   ]
  },
  {
   "cell_type": "code",
   "execution_count": 66,
   "id": "20079007",
   "metadata": {},
   "outputs": [
    {
     "name": "stdout",
     "output_type": "stream",
     "text": [
      "[24.5936 21.7436 17.0293 16.5374 15.3916 15.3562 -- 14.5122 14.0416\n",
      " 11.9166 9.08963 8.19495 8.23343 7.27951 7.18896 6.75388 6.54367 6.33786\n",
      " 6.95074 7.30133 6.70563 6.798 7.50491 6.65472 6.2355]\n"
     ]
    }
   ],
   "source": [
    "#1 hr hrrr:\n",
    "with open('hrrr_f01_Bowling Green_KY.txt') as f:\n",
    "    lst=[line.split()[1] for line in f]\n",
    "    temp=[]\n",
    "    for i in lst:\n",
    "        new=i.replace(',',\"\")\n",
    "        temp.append(new)\n",
    "    temp.pop(0)\n",
    "    temp=[float(x) for x in temp]\n",
    "    temp=temp[2136:2161]\n",
    "    x = np.array(temp)\n",
    "    temp= ma.masked_array(x, mask=[0, 0, 0, 0, 0,0,1,0,0,0,0,0,0,0,0,0,0,0,0,0,0,0,0,0,0])\n",
    "    #temp=temp[2015:2063]\n",
    "    print(temp)\n",
    "    #print(len(temp))\n",
    "#full time period is [2015:2112]"
   ]
  },
  {
   "cell_type": "code",
   "execution_count": 67,
   "id": "60c4e4cc",
   "metadata": {},
   "outputs": [
    {
     "name": "stdout",
     "output_type": "stream",
     "text": [
      "[25.0 22.0 16.7 13.6 13.5 14.1 -- 14.5 14.4 13.8 10.2 9.1 8.5 7.0 7.0 7.0\n",
      " 7.3 7.2 6.9 6.6 7.0 7.0 7.1 6.7 5.7]\n"
     ]
    }
   ],
   "source": [
    "#Air Temp CRN:\n",
    "with open('CRNH0203-2022-KY_Bowling_Green_21_NNE.txt') as f:\n",
    "    lst=[line.split()[9] for line in f]\n",
    "    #print(lst)\n",
    "    temp_crn=[]\n",
    "    for i in lst:\n",
    "        new=i.replace(',',\"\")\n",
    "        temp_crn.append(new)\n",
    "    temp_crn=[float(x) for x in temp_crn]\n",
    "    temp_crn=temp_crn[2136:2161]\n",
    "    y = np.array(temp_crn)\n",
    "    temp_crn = ma.masked_array(y, mask=[0, 0, 0, 0, 0,0,1,0,0,0,0,0,0,0,0,0,0,0,0,0,0,0,0,0,0])\n",
    "    print(temp_crn)\n",
    "    #print(len(temp_crn))\n",
    "    # print(temp_crn[2124])"
   ]
  },
  {
   "cell_type": "code",
   "execution_count": 68,
   "id": "90cedfd2",
   "metadata": {},
   "outputs": [
    {
     "name": "stdout",
     "output_type": "stream",
     "text": [
      "[-0.4064000000000014, -0.2563999999999993, 0.3292999999999999, 2.937400000000002, 1.8916000000000004, 1.2561999999999998, masked, 0.012199999999999989, -0.3583999999999996, -1.8834, -1.1103699999999996, -0.9050499999999992, -0.26656999999999975, 0.27951000000000015, 0.1889599999999998, -0.24612000000000034, -0.7563300000000002, -0.8621400000000001, 0.05073999999999934, 0.7013300000000005, -0.2943699999999998, -0.20199999999999996, 0.4049100000000001, -0.04527999999999999, 0.5354999999999999]\n"
     ]
    }
   ],
   "source": [
    "difference2_bow = []\n",
    "\n",
    "zip_object = zip(temp, temp_crn)\n",
    "for temp_i, temp_crn_i in zip_object:\n",
    "    difference2_bow.append(temp_i-temp_crn_i)\n",
    "\n",
    "print(difference2_bow)"
   ]
  },
  {
   "cell_type": "code",
   "execution_count": 69,
   "id": "47fff0d0",
   "metadata": {},
   "outputs": [],
   "source": [
    "# temp[6]=0\n",
    "# temp_crn[6]=0\n",
    "# difference2_bow[6]=0\n",
    "\n",
    "# print(temp)\n",
    "# print(temp_crn)\n",
    "# print(difference2_bow)"
   ]
  },
  {
   "cell_type": "markdown",
   "id": "770eb1f1",
   "metadata": {},
   "source": [
    "<font size=\"3\">Gadsden, AL: 0200 UTC 31 March 2022-0200 UTC 1 April 2022</font>"
   ]
  },
  {
   "cell_type": "code",
   "execution_count": 70,
   "id": "c25cd2ac",
   "metadata": {},
   "outputs": [
    {
     "name": "stdout",
     "output_type": "stream",
     "text": [
      "[21.9936, 20.2793, 18.1624, 17.3916, 16.7937, 16.8454, 16.0122, 16.0416, 15.4166, 14.8396, 14.2574, 14.4834, 14.7795, 13.6265, 12.9414, 13.1687, 13.2754, 11.5757, 11.9263, 12.7056, 13.3605, 13.8799, 12.4672, 11.7355, 11.4161]\n"
     ]
    }
   ],
   "source": [
    "#1 hr hrrr:\n",
    "with open('hrrr_f01_Gadsden_AL.txt') as f:\n",
    "    lst=[line.split()[1] for line in f]\n",
    "    temp=[]\n",
    "    for i in lst:\n",
    "        new=i.replace(',',\"\")\n",
    "        temp.append(new)\n",
    "    temp.pop(0)\n",
    "    temp=[float(x) for x in temp]\n",
    "    temp=temp[2137:2162]\n",
    "    #temp=temp[2015:2063]\n",
    "    print(temp)\n",
    "    #print(len(temp))\n",
    "#full time period is [2015:2112]"
   ]
  },
  {
   "cell_type": "code",
   "execution_count": 71,
   "id": "c0d02698",
   "metadata": {},
   "outputs": [
    {
     "name": "stdout",
     "output_type": "stream",
     "text": [
      "[23.3, 21.8, 19.4, 17.3, 15.3, 15.1, 15.7, 15.8, 14.9, 14.5, 14.0, 13.9, 14.2, 14.5, 12.9, 12.3, 13.0, 13.4, 13.6, 14.0, 14.2, 13.7, 12.8, 10.9, 9.6]\n"
     ]
    }
   ],
   "source": [
    "#Air Temp CRN:\n",
    "with open('CRNH0203-2022-AL_Gadsden_19_N.txt') as f:\n",
    "    lst=[line.split()[9] for line in f]\n",
    "    #print(lst)\n",
    "    temp_crn=[]\n",
    "    for i in lst:\n",
    "        new=i.replace(',',\"\")\n",
    "        temp_crn.append(new)\n",
    "    temp_crn=[float(x) for x in temp_crn]\n",
    "    temp_crn=temp_crn[2137:2162]\n",
    "    print(temp_crn)\n",
    "    #print(len(temp_crn))\n",
    "    # print(temp_crn[2124])"
   ]
  },
  {
   "cell_type": "code",
   "execution_count": 72,
   "id": "d63723fd",
   "metadata": {},
   "outputs": [
    {
     "name": "stdout",
     "output_type": "stream",
     "text": [
      "[-1.3064, -1.5207000000000015, -1.237599999999997, 0.09159999999999968, 1.4937000000000005, 1.7454000000000018, 0.3122000000000007, 0.24159999999999826, 0.5166000000000004, 0.3396000000000008, 0.2574000000000005, 0.5833999999999993, 0.5795000000000012, -0.8734999999999999, 0.04139999999999944, 0.8686999999999987, 0.2753999999999994, -1.824300000000001, -1.6737000000000002, -1.2943999999999996, -0.8394999999999992, 0.17989999999999995, -0.33280000000000065, 0.8354999999999997, 1.8161000000000005]\n"
     ]
    }
   ],
   "source": [
    "difference2_gad = []\n",
    "\n",
    "zip_object = zip(temp, temp_crn)\n",
    "for temp_i, temp_crn_i in zip_object:\n",
    "    difference2_gad.append(temp_i-temp_crn_i)\n",
    "\n",
    "print(difference2_gad)"
   ]
  },
  {
   "cell_type": "markdown",
   "id": "cd4a8f77",
   "metadata": {},
   "source": [
    "<font size=\"3\">Newton, GA: 0700 UTC 31 March 2022-0700 UTC 1 April 2022</font>"
   ]
  },
  {
   "cell_type": "code",
   "execution_count": 73,
   "id": "94f61dc0",
   "metadata": {},
   "outputs": [
    {
     "name": "stdout",
     "output_type": "stream",
     "text": [
      "[21.1579, 21.8247, 21.5416, 20.6666, 20.3396, 20.4449, 19.2334, 18.967, 18.564, 20.6914, 20.7937, 22.1504, 23.6382, 24.5513, 25.2056, 25.4855, 24.9424, 22.5297, 20.923, 19.8536, 19.0623, 17.8514, 17.0028, 16.1295, 15.7458]\n"
     ]
    }
   ],
   "source": [
    "#1 hr hrrr:\n",
    "with open('hrrr_f01_Newton_GA.txt') as f:\n",
    "    lst=[line.split()[1] for line in f]\n",
    "    temp=[]\n",
    "    for i in lst:\n",
    "        new=i.replace(',',\"\")\n",
    "        temp.append(new)\n",
    "    temp.pop(0)\n",
    "    temp=[float(x) for x in temp]\n",
    "    temp=temp[2142:2167]\n",
    "    #temp=temp[2015:2063]\n",
    "    print(temp)\n",
    "    #print(len(temp))\n",
    "#full time period is [2015:2112]"
   ]
  },
  {
   "cell_type": "code",
   "execution_count": 74,
   "id": "1d798d77",
   "metadata": {},
   "outputs": [
    {
     "name": "stdout",
     "output_type": "stream",
     "text": [
      "[22.5, 22.8, 22.8, 21.5, 20.4, 20.5, 17.9, 17.2, 17.3, 18.0, 20.4, 22.9, 24.4, 25.5, 25.7, 25.6, 25.2, 23.6, 21.4, 20.9, 20.1, 19.0, 17.8, 16.9, 16.2]\n"
     ]
    }
   ],
   "source": [
    "#Air Temp CRN:\n",
    "with open('CRNH0203-2022-GA_Newton_11_SW.txt') as f:\n",
    "    lst=[line.split()[9] for line in f]\n",
    "    #print(lst)\n",
    "    temp_crn=[]\n",
    "    for i in lst:\n",
    "        new=i.replace(',',\"\")\n",
    "        temp_crn.append(new)\n",
    "    temp_crn=[float(x) for x in temp_crn]\n",
    "    temp_crn=temp_crn[2142:2167]\n",
    "    print(temp_crn)\n",
    "    #print(len(temp_crn))\n",
    "    # print(temp_crn[2124])"
   ]
  },
  {
   "cell_type": "code",
   "execution_count": 75,
   "id": "4bcfa192",
   "metadata": {},
   "outputs": [
    {
     "name": "stdout",
     "output_type": "stream",
     "text": [
      "[-1.3420999999999985, -0.9753000000000007, -1.2584000000000017, -0.833400000000001, -0.06039999999999779, -0.05509999999999948, 1.333400000000001, 1.7669999999999995, 1.2639999999999993, 2.6914000000000016, 0.3937000000000026, -0.7495999999999974, -0.7617999999999974, -0.9486999999999988, -0.49439999999999884, -0.11450000000000315, -0.25760000000000005, -1.0703000000000031, -0.4770000000000003, -1.0463999999999984, -1.037700000000001, -1.1485999999999983, -0.7972000000000001, -0.7704999999999984, -0.45420000000000016]\n"
     ]
    }
   ],
   "source": [
    "difference2_newt = []\n",
    "\n",
    "zip_object = zip(temp, temp_crn)\n",
    "for temp_i, temp_crn_i in zip_object:\n",
    "    difference2_newt.append(temp_i-temp_crn_i)\n",
    "\n",
    "print(difference2_newt)"
   ]
  },
  {
   "cell_type": "markdown",
   "id": "8148ba77",
   "metadata": {},
   "source": [
    "<font size=\"3\">Salem, MO: 1000 UTC 5 April 2022-1000 UTC 6 April 2022</font>"
   ]
  },
  {
   "cell_type": "code",
   "execution_count": 76,
   "id": "04e77b41",
   "metadata": {},
   "outputs": [
    {
     "name": "stdout",
     "output_type": "stream",
     "text": [
      "[11.1006, 10.3155, 10.1071, 11.1416, 12.1396, 12.9753, 14.0362, 16.2996, 18.4561, 19.5843, 20.8296, 21.1303, 21.1251, 20.4616, 18.9046, 16.8643, 15.8607, 15.473, 16.0073, 14.4636, 11.6288, 11.1275, 10.2509, 9.68369, 8.99307]\n",
      "25\n"
     ]
    }
   ],
   "source": [
    "#1 hr hrrr:\n",
    "with open('hrrr_f01_Salem_MO.txt') as f:\n",
    "    lst=[line.split()[1] for line in f]\n",
    "    temp=[]\n",
    "    for i in lst:\n",
    "        new=i.replace(',',\"\")\n",
    "        temp.append(new)\n",
    "    temp.pop(0)\n",
    "    temp=[float(x) for x in temp]\n",
    "    temp=temp[2265:2290]\n",
    "    #temp=temp[2015:2063]\n",
    "    print(temp)\n",
    "    print(len(temp))\n",
    "#full time period is [2015:2112]"
   ]
  },
  {
   "cell_type": "code",
   "execution_count": 77,
   "id": "4616d240",
   "metadata": {},
   "outputs": [
    {
     "name": "stdout",
     "output_type": "stream",
     "text": [
      "[11.3, 11.2, 11.0, 10.9, 10.9, 12.5, 15.1, 18.0, 20.3, 20.9, 20.5, 20.7, 21.1, 21.1, 20.7, 18.8, 16.0, 15.2, 17.1, 15.5, 11.9, 11.2, 10.4, 8.9, 8.1]\n"
     ]
    }
   ],
   "source": [
    "#Air Temp CRN:\n",
    "with open('CRNH0203-2022-MO_Salem_10_W.txt') as f:\n",
    "    lst=[line.split()[9] for line in f]\n",
    "    #print(lst)\n",
    "    temp_crn=[]\n",
    "    for i in lst:\n",
    "        new=i.replace(',',\"\")\n",
    "        temp_crn.append(new)\n",
    "    temp_crn=[float(x) for x in temp_crn]\n",
    "    temp_crn=temp_crn[2265:2290]\n",
    "    print(temp_crn)\n",
    "    #print(len(temp_crn))\n",
    "    # print(temp_crn[2124])"
   ]
  },
  {
   "cell_type": "code",
   "execution_count": 78,
   "id": "b6a1a5d3",
   "metadata": {},
   "outputs": [
    {
     "name": "stdout",
     "output_type": "stream",
     "text": [
      "25\n"
     ]
    }
   ],
   "source": [
    "hour=[]\n",
    "for i in range(-12,13,1):\n",
    "    hour.append(i)\n",
    "    i+=1\n",
    "print(len(hour))"
   ]
  },
  {
   "cell_type": "code",
   "execution_count": 79,
   "id": "d9f71702",
   "metadata": {},
   "outputs": [
    {
     "name": "stdout",
     "output_type": "stream",
     "text": [
      "[-0.1994000000000007, -0.8844999999999992, -0.8928999999999991, 0.24160000000000004, 1.2395999999999994, 0.4753000000000007, -1.0638000000000005, -1.7003999999999984, -1.8439000000000014, -1.3156999999999996, 0.3295999999999992, 0.430299999999999, 0.025099999999998346, -0.6384000000000007, -1.7954000000000008, -1.9357000000000006, -0.13930000000000042, 0.27300000000000146, -1.0927000000000007, -1.0364000000000004, -0.27120000000000033, -0.07249999999999979, -0.14910000000000068, 0.78369, 0.8930699999999998]\n"
     ]
    }
   ],
   "source": [
    "difference3_sal = []\n",
    "\n",
    "zip_object = zip(temp, temp_crn)\n",
    "for temp_i, temp_crn_i in zip_object:\n",
    "    difference3_sal.append(temp_i-temp_crn_i)\n",
    "\n",
    "print(difference3_sal)"
   ]
  },
  {
   "cell_type": "markdown",
   "id": "cc4a44b1",
   "metadata": {},
   "source": [
    "<font size=\"3\">Batesville, AR: 1000 UTC 5 April 2022-1000 UTC 6 April 2022</font>"
   ]
  },
  {
   "cell_type": "code",
   "execution_count": 80,
   "id": "ad34113c",
   "metadata": {},
   "outputs": [
    {
     "name": "stdout",
     "output_type": "stream",
     "text": [
      "[11.6631, 11.878, 11.5446, 12.3916, 13.3271, 15.1628, 15.5987, 17.3621, 18.4561, 19.7093, 20.4546, 21.5053, 22.1876, 22.0866, 20.3421, 18.5518, 17.8607, 17.2855, 16.6323, 16.3386, 16.0038, 16.065, 17.1259, 13.6212, 12.6181]\n"
     ]
    }
   ],
   "source": [
    "#1 hr hrrr:\n",
    "with open('hrrr_f01_Batesville_AR.txt') as f:\n",
    "    lst=[line.split()[1] for line in f]\n",
    "    temp=[]\n",
    "    for i in lst:\n",
    "        new=i.replace(',',\"\")\n",
    "        temp.append(new)\n",
    "    temp.pop(0)\n",
    "    temp=[float(x) for x in temp]\n",
    "    temp=temp[2265:2290]\n",
    "    #temp=temp[2015:2063]\n",
    "    print(temp)\n",
    "    #print(len(temp))\n",
    "#full time period is [2015:2112]"
   ]
  },
  {
   "cell_type": "code",
   "execution_count": 81,
   "id": "509d7824",
   "metadata": {},
   "outputs": [
    {
     "name": "stdout",
     "output_type": "stream",
     "text": [
      "[11.6, 11.8, 12.1, 12.0, 12.2, 13.5, 15.5, 17.6, 18.9, 20.4, 21.8, 22.6, 22.9, 23.1, 21.9, 20.1, 18.9, 18.2, 17.5, 15.9, 16.3, 18.2, 18.5, 14.7, 12.9]\n"
     ]
    }
   ],
   "source": [
    "#Air Temp CRN:\n",
    "with open('CRNH0203-2022-AR_Batesville_8_WNW.txt') as f:\n",
    "    lst=[line.split()[9] for line in f]\n",
    "    #print(lst)\n",
    "    temp_crn=[]\n",
    "    for i in lst:\n",
    "        new=i.replace(',',\"\")\n",
    "        temp_crn.append(new)\n",
    "    temp_crn=[float(x) for x in temp_crn]\n",
    "    temp_crn=temp_crn[2265:2290]\n",
    "    print(temp_crn)\n",
    "    #print(len(temp_crn))\n",
    "    # print(temp_crn[2124])"
   ]
  },
  {
   "cell_type": "code",
   "execution_count": 82,
   "id": "c5f712f8",
   "metadata": {},
   "outputs": [
    {
     "name": "stdout",
     "output_type": "stream",
     "text": [
      "[0.06310000000000038, 0.0779999999999994, -0.5553999999999988, 0.3916000000000004, 1.1271000000000004, 1.6628000000000007, 0.09869999999999912, -0.23789999999999978, -0.4438999999999993, -0.6906999999999996, -1.3454000000000015, -1.0947000000000031, -0.7123999999999988, -1.0134000000000007, -1.5579, -1.5482000000000014, -1.0392999999999972, -0.9145000000000003, -0.8676999999999992, 0.4385999999999992, -0.29620000000000246, -2.134999999999998, -1.3740999999999985, -1.0787999999999993, -0.28190000000000026]\n"
     ]
    }
   ],
   "source": [
    "difference3_bat = []\n",
    "\n",
    "zip_object = zip(temp, temp_crn)\n",
    "for temp_i, temp_crn_i in zip_object:\n",
    "    difference3_bat.append(temp_i-temp_crn_i)\n",
    "\n",
    "print(difference3_bat)"
   ]
  },
  {
   "cell_type": "markdown",
   "id": "9f92620f",
   "metadata": {},
   "source": [
    "<font size=\"3\">Lafayette, LA: 1000 UTC 5 April 2022-1000 UTC 6 April 2022</font>"
   ]
  },
  {
   "cell_type": "code",
   "execution_count": 83,
   "id": "4e113e1c",
   "metadata": {},
   "outputs": [
    {
     "name": "stdout",
     "output_type": "stream",
     "text": [
      "[22.2256, 22.628, 22.4821, 22.6416, 22.6396, 22.9753, 24.2237, 23.4246, 25.0811, 25.3343, 25.0796, 26.1303, 25.5001, 25.7116, 23.9671, 23.5518, 22.7982, 22.6605, 22.4448, 22.8386, 22.4413, 22.6275, 22.5634, 22.8712, 22.9931]\n"
     ]
    }
   ],
   "source": [
    "#1 hr hrrr:\n",
    "with open('hrrr_f01_Lafayette_LA.txt') as f:\n",
    "    lst=[line.split()[1] for line in f]\n",
    "    temp=[]\n",
    "    for i in lst:\n",
    "        new=i.replace(',',\"\")\n",
    "        temp.append(new)\n",
    "    temp.pop(0)\n",
    "    temp=[float(x) for x in temp]\n",
    "    temp=temp[2265:2290]\n",
    "    #temp=temp[2015:2063]\n",
    "    print(temp)\n",
    "    #print(len(temp))\n",
    "#full time period is [2015:2112]"
   ]
  },
  {
   "cell_type": "code",
   "execution_count": 84,
   "id": "5a4b31fa",
   "metadata": {},
   "outputs": [
    {
     "name": "stdout",
     "output_type": "stream",
     "text": [
      "[22.0, 22.2, 22.6, 22.5, 22.8, 23.5, 24.2, 25.3, 25.5, 25.5, 25.7, 25.9, 25.9, 25.4, 24.7, 23.4, 23.0, 23.0, 23.1, 23.2, 23.2, 23.3, 23.4, 23.4, 23.5]\n"
     ]
    }
   ],
   "source": [
    "#Air Temp CRN:\n",
    "with open('CRNH0203-2022-LA_Lafayette_13_SE.txt') as f:\n",
    "    lst=[line.split()[9] for line in f]\n",
    "    #print(lst)\n",
    "    temp_crn=[]\n",
    "    for i in lst:\n",
    "        new=i.replace(',',\"\")\n",
    "        temp_crn.append(new)\n",
    "    temp_crn=[float(x) for x in temp_crn]\n",
    "    temp_crn=temp_crn[2265:2290]\n",
    "    print(temp_crn)\n",
    "    #print(len(temp_crn))\n",
    "    # print(temp_crn[2124])"
   ]
  },
  {
   "cell_type": "code",
   "execution_count": 85,
   "id": "18c37a9b",
   "metadata": {},
   "outputs": [
    {
     "name": "stdout",
     "output_type": "stream",
     "text": [
      "[0.22560000000000002, 0.4280000000000008, -0.11790000000000234, 0.1416000000000004, -0.1603999999999992, -0.5246999999999993, 0.02370000000000161, -1.875399999999999, -0.4189000000000007, -0.16570000000000107, -0.6204000000000001, 0.23029999999999973, -0.3998999999999988, 0.3116000000000021, -0.7329000000000008, 0.1518000000000015, -0.20179999999999865, -0.339500000000001, -0.6552000000000007, -0.3613999999999997, -0.758700000000001, -0.6724999999999994, -0.8365999999999971, -0.5287999999999968, -0.5069000000000017]\n"
     ]
    }
   ],
   "source": [
    "difference3_laf = []\n",
    "\n",
    "zip_object = zip(temp, temp_crn)\n",
    "for temp_i, temp_crn_i in zip_object:\n",
    "    difference3_laf.append(temp_i-temp_crn_i)\n",
    "\n",
    "print(difference3_laf)"
   ]
  },
  {
   "cell_type": "markdown",
   "id": "6bc47d22",
   "metadata": {},
   "source": [
    "<font size=\"3\">Monroe, LA: 1000 UTC 5 April 2022-1000 UTC 6 April 2022</font>"
   ]
  },
  {
   "cell_type": "code",
   "execution_count": 86,
   "id": "527f3041",
   "metadata": {},
   "outputs": [
    {
     "name": "stdout",
     "output_type": "stream",
     "text": [
      "[17.9756, 17.253, 17.3571, 17.2041, 17.3271, 18.0378, 18.9737, 20.4246, 21.9561, 23.0218, 24.4546, 25.5678, 26.0626, 26.2116, 25.7796, 23.9893, 22.4232, 21.723, 21.7573, 22.0886, 22.1288, 22.44, 22.6884, 21.9337, 21.7431]\n"
     ]
    }
   ],
   "source": [
    "#1 hr hrrr:\n",
    "with open('hrrr_f01_Monroe_LA.txt') as f:\n",
    "    lst=[line.split()[1] for line in f]\n",
    "    temp=[]\n",
    "    for i in lst:\n",
    "        new=i.replace(',',\"\")\n",
    "        temp.append(new)\n",
    "    temp.pop(0)\n",
    "    temp=[float(x) for x in temp]\n",
    "    temp=temp[2265:2290]\n",
    "    #temp=temp[2015:2063]\n",
    "    print(temp)\n",
    "    #print(len(temp))\n",
    "#full time period is [2015:2112]"
   ]
  },
  {
   "cell_type": "code",
   "execution_count": 87,
   "id": "e443548a",
   "metadata": {},
   "outputs": [
    {
     "name": "stdout",
     "output_type": "stream",
     "text": [
      "[17.2, 16.2, 16.1, 16.0, 16.3, 16.9, 18.2, 21.1, 23.5, 25.6, 26.9, 28.1, 28.7, 28.6, 26.4, 22.1, 20.1, 20.8, 22.7, 22.8, 22.6, 22.5, 22.5, 22.5, 22.4]\n"
     ]
    }
   ],
   "source": [
    "#Air Temp CRN:\n",
    "with open('CRNH0203-2022-LA_Monroe_26_N.txt') as f:\n",
    "    lst=[line.split()[9] for line in f]\n",
    "    #print(lst)\n",
    "    temp_crn=[]\n",
    "    for i in lst:\n",
    "        new=i.replace(',',\"\")\n",
    "        temp_crn.append(new)\n",
    "    temp_crn=[float(x) for x in temp_crn]\n",
    "    temp_crn=temp_crn[2265:2290]\n",
    "    print(temp_crn)\n",
    "    #print(len(temp_crn))\n",
    "    # print(temp_crn[2124])"
   ]
  },
  {
   "cell_type": "code",
   "execution_count": 88,
   "id": "cc1402aa",
   "metadata": {},
   "outputs": [
    {
     "name": "stdout",
     "output_type": "stream",
     "text": [
      "[0.7756000000000007, 1.0530000000000008, 1.2570999999999977, 1.2041000000000004, 1.0271000000000008, 1.1378000000000021, 0.7737000000000016, -0.6753999999999998, -1.5439000000000007, -2.5782000000000025, -2.4453999999999994, -2.532200000000003, -2.6373999999999995, -2.3884000000000007, -0.6204000000000001, 1.8892999999999986, 2.3232, 0.9229999999999983, -0.9426999999999985, -0.7114000000000011, -0.47120000000000317, -0.05999999999999872, 0.18840000000000146, -0.5662999999999982, -0.6569000000000003]\n"
     ]
    }
   ],
   "source": [
    "difference3_mon = []\n",
    "\n",
    "zip_object = zip(temp, temp_crn)\n",
    "for temp_i, temp_crn_i in zip_object:\n",
    "    difference3_mon.append(temp_i-temp_crn_i)\n",
    "\n",
    "print(difference3_mon)"
   ]
  },
  {
   "cell_type": "markdown",
   "id": "8e498386",
   "metadata": {},
   "source": [
    "<font size=\"3\">Holly Springs, MS: 1100 UTC 5 April 2022-1100 UTC 6 April 2022</font>"
   ]
  },
  {
   "cell_type": "code",
   "execution_count": 89,
   "id": "e0c85560",
   "metadata": {},
   "outputs": [
    {
     "name": "stdout",
     "output_type": "stream",
     "text": [
      "[14.0655, 13.9196, 14.2041, 13.8271, 14.6003, 14.4737, 15.4246, 15.8311, 17.7093, 17.3296, 18.6928, 19.3126, 19.4616, 18.7796, 17.4268, 16.2982, 15.348, 15.1323, 14.5886, 14.6913, 14.8775, 15.1884, 16.9962, 18.5556, 19.0258]\n"
     ]
    }
   ],
   "source": [
    "#1 hr hrrr:\n",
    "with open('hrrr_f01_Holly Springs_MS.txt') as f:\n",
    "    lst=[line.split()[1] for line in f]\n",
    "    temp=[]\n",
    "    for i in lst:\n",
    "        new=i.replace(',',\"\")\n",
    "        temp.append(new)\n",
    "    temp.pop(0)\n",
    "    temp=[float(x) for x in temp]\n",
    "    temp=temp[2266:2291]\n",
    "    #temp=temp[2015:2063]\n",
    "    print(temp)\n",
    "    #print(len(temp))\n",
    "#full time period is [2015:2112]"
   ]
  },
  {
   "cell_type": "code",
   "execution_count": 90,
   "id": "cf8e50e8",
   "metadata": {},
   "outputs": [
    {
     "name": "stdout",
     "output_type": "stream",
     "text": [
      "[12.6, 12.6, 12.8, 13.2, 13.0, 13.2, 13.6, 14.7, 16.0, 17.1, 18.4, 19.7, 20.3, 19.2, 15.5, 14.2, 14.6, 14.8, 14.5, 14.4, 14.0, 13.7, 15.2, 16.2, 17.0]\n"
     ]
    }
   ],
   "source": [
    "#Air Temp CRN:\n",
    "with open('CRNH0203-2022-MS_Holly_Springs_4_N.txt') as f:\n",
    "    lst=[line.split()[9] for line in f]\n",
    "    #print(lst)\n",
    "    temp_crn=[]\n",
    "    for i in lst:\n",
    "        new=i.replace(',',\"\")\n",
    "        temp_crn.append(new)\n",
    "    temp_crn=[float(x) for x in temp_crn]\n",
    "    temp_crn=temp_crn[2266:2291]\n",
    "    print(temp_crn)\n",
    "    #print(len(temp_crn))\n",
    "    # print(temp_crn[2124])"
   ]
  },
  {
   "cell_type": "code",
   "execution_count": 91,
   "id": "9625595c",
   "metadata": {},
   "outputs": [
    {
     "name": "stdout",
     "output_type": "stream",
     "text": [
      "[1.4655000000000005, 1.3196000000000012, 1.4040999999999997, 0.6271000000000004, 1.6003000000000007, 1.2736999999999998, 1.8246000000000002, 1.1311, 1.709299999999999, 0.2295999999999978, 0.2927999999999997, -0.3873999999999995, -0.8384, -0.4204000000000008, 1.9268, 2.098200000000002, 0.7480000000000011, 0.33230000000000004, 0.08859999999999957, 0.29129999999999967, 0.8774999999999995, 1.4884000000000004, 1.7962000000000025, 2.355599999999999, 2.0258000000000003]\n"
     ]
    }
   ],
   "source": [
    "difference3_hol = []\n",
    "\n",
    "zip_object = zip(temp, temp_crn)\n",
    "for temp_i, temp_crn_i in zip_object:\n",
    "    difference3_hol.append(temp_i-temp_crn_i)\n",
    "\n",
    "print(difference3_hol)"
   ]
  },
  {
   "cell_type": "markdown",
   "id": "cec214d2",
   "metadata": {},
   "source": [
    "<font size=\"3\">Newton, MS: 1100 UTC 5 April 2022-1100 UTC 6 April 2022</font>"
   ]
  },
  {
   "cell_type": "code",
   "execution_count": 92,
   "id": "6a550d99",
   "metadata": {},
   "outputs": [
    {
     "name": "stdout",
     "output_type": "stream",
     "text": [
      "[18.378, 19.2946, 20.3291, 21.0771, 21.6628, 19.2862, 19.7371, 21.1436, 22.2718, 23.2671, 23.8178, 23.4376, 23.2741, 21.1546, 20.5518, 20.1107, 19.848, 19.4448, 19.8386, 20.1288, 20.5025, 20.9384, 21.4962, 21.7431, 22.0883]\n"
     ]
    }
   ],
   "source": [
    "#1 hr hrrr:\n",
    "with open('hrrr_f01_Newton_MS.txt') as f:\n",
    "    lst=[line.split()[1] for line in f]\n",
    "    temp=[]\n",
    "    for i in lst:\n",
    "        new=i.replace(',',\"\")\n",
    "        temp.append(new)\n",
    "    temp.pop(0)\n",
    "    temp=[float(x) for x in temp]\n",
    "    temp=temp[2266:2291]\n",
    "    #temp=temp[2015:2063]\n",
    "    print(temp)\n",
    "    #print(len(temp))\n",
    "#full time period is [2015:2112]"
   ]
  },
  {
   "cell_type": "code",
   "execution_count": 93,
   "id": "451fc547",
   "metadata": {},
   "outputs": [
    {
     "name": "stdout",
     "output_type": "stream",
     "text": [
      "[16.2, 18.1, 18.8, 18.0, 18.0, 17.5, 17.6, 20.0, 22.1, 23.2, 24.3, 24.3, 23.6, 22.0, 20.4, 19.7, 19.5, 19.5, 19.7, 19.6, 19.7, 20.4, 21.0, 21.3, 21.7]\n"
     ]
    }
   ],
   "source": [
    "#Air Temp CRN:\n",
    "with open('CRNH0203-2022-MS_Newton_5_ENE.txt') as f:\n",
    "    lst=[line.split()[9] for line in f]\n",
    "    #print(lst)\n",
    "    temp_crn=[]\n",
    "    for i in lst:\n",
    "        new=i.replace(',',\"\")\n",
    "        temp_crn.append(new)\n",
    "    temp_crn=[float(x) for x in temp_crn]\n",
    "    temp_crn=temp_crn[2266:2291]\n",
    "    print(temp_crn)\n",
    "    #print(len(temp_crn))\n",
    "    # print(temp_crn[2124])"
   ]
  },
  {
   "cell_type": "code",
   "execution_count": 94,
   "id": "a83781b3",
   "metadata": {},
   "outputs": [
    {
     "name": "stdout",
     "output_type": "stream",
     "text": [
      "[2.178000000000001, 1.1945999999999977, 1.5290999999999997, 3.0771000000000015, 3.6628000000000007, 1.786200000000001, 2.1371, 1.1435999999999993, 0.1717999999999975, 0.06709999999999994, -0.4822000000000024, -0.8624000000000009, -0.32590000000000074, -0.8454000000000015, 0.1518000000000015, 0.41070000000000206, 0.347999999999999, -0.05519999999999925, 0.13860000000000028, 0.5287999999999968, 0.802500000000002, 0.5384000000000029, 0.49620000000000175, 0.4430999999999976, 0.388300000000001]\n"
     ]
    }
   ],
   "source": [
    "difference3_new = []\n",
    "\n",
    "zip_object = zip(temp, temp_crn)\n",
    "for temp_i, temp_crn_i in zip_object:\n",
    "    difference3_new.append(temp_i-temp_crn_i)\n",
    "\n",
    "print(difference3_new)"
   ]
  },
  {
   "cell_type": "markdown",
   "id": "576090a5",
   "metadata": {},
   "source": [
    "<font size=\"3\">Gainesville, AL: 1300 UTC 5 April 2022-1300 UTC 6 April 2022</font>"
   ]
  },
  {
   "cell_type": "code",
   "execution_count": 95,
   "id": "37a998a0",
   "metadata": {},
   "outputs": [
    {
     "name": "stdout",
     "output_type": "stream",
     "text": [
      "[17.1416, 16.0146, 16.9753, 19.7862, 20.2996, 19.7686, 21.8343, 20.8296, 23.0053, 23.3751, 23.5866, 20.7171, 19.5518, 18.7982, 18.473, 18.6948, 19.2136, 19.5663, 19.7525, 20.0634, 20.4962, 20.7431, 21.2133, 21.6693, 22.4179]\n"
     ]
    }
   ],
   "source": [
    "#1 hr hrrr:\n",
    "with open('hrrr_f01_Gainesville_AL.txt') as f:\n",
    "    lst=[line.split()[1] for line in f]\n",
    "    temp=[]\n",
    "    for i in lst:\n",
    "        new=i.replace(',',\"\")\n",
    "        temp.append(new)\n",
    "    temp.pop(0)\n",
    "    temp=[float(x) for x in temp]\n",
    "    temp=temp[2268:2293]\n",
    "    #temp=temp[2015:2063]\n",
    "    print(temp)\n",
    "    #print(len(temp))\n",
    "#full time period is [2015:2112]"
   ]
  },
  {
   "cell_type": "code",
   "execution_count": 96,
   "id": "d2d3b56b",
   "metadata": {},
   "outputs": [
    {
     "name": "stdout",
     "output_type": "stream",
     "text": [
      "[15.6, 16.0, 16.1, 17.5, 17.9, 19.3, 21.1, 23.5, 25.0, 25.6, 25.0, 23.6, 21.4, 20.0, 19.1, 18.4, 18.4, 19.0, 19.0, 19.5, 20.0, 20.2, 20.3, 20.6, 21.1]\n"
     ]
    }
   ],
   "source": [
    "#Air Temp CRN:\n",
    "with open('CRNH0203-2022-AL_Gainesville_2_NE.txt') as f:\n",
    "    lst=[line.split()[9] for line in f]\n",
    "    #print(lst)\n",
    "    temp_crn=[]\n",
    "    for i in lst:\n",
    "        new=i.replace(',',\"\")\n",
    "        temp_crn.append(new)\n",
    "    temp_crn=[float(x) for x in temp_crn]\n",
    "    temp_crn=temp_crn[2268:2293]\n",
    "    print(temp_crn)\n",
    "    #print(len(temp_crn))\n",
    "    # print(temp_crn[2124])"
   ]
  },
  {
   "cell_type": "code",
   "execution_count": 97,
   "id": "b1176cf2",
   "metadata": {},
   "outputs": [
    {
     "name": "stdout",
     "output_type": "stream",
     "text": [
      "[1.5416000000000007, 0.0146000000000015, 0.8752999999999993, 2.286200000000001, 2.399600000000003, 0.4685999999999986, 0.7342999999999975, -2.6704000000000008, -1.9947000000000017, -2.2249000000000017, -1.4133999999999993, -2.882900000000003, -1.8481999999999985, -1.2017999999999986, -0.6270000000000024, 0.29480000000000217, 0.813600000000001, 0.5662999999999982, 0.7525000000000013, 0.5634000000000015, 0.49620000000000175, 0.543099999999999, 0.9132999999999996, 1.0692999999999984, 1.317899999999998]\n"
     ]
    }
   ],
   "source": [
    "difference3_gai = []\n",
    "\n",
    "zip_object = zip(temp, temp_crn)\n",
    "for temp_i, temp_crn_i in zip_object:\n",
    "    difference3_gai.append(temp_i-temp_crn_i)\n",
    "\n",
    "print(difference3_gai)"
   ]
  },
  {
   "cell_type": "markdown",
   "id": "0a541e7a",
   "metadata": {},
   "source": [
    "<font size=\"3\">Fairhope, AL: 1300 UTC 5 April 2022-1300 UTC 6 April 2022</font>"
   ]
  },
  {
   "cell_type": "code",
   "execution_count": 98,
   "id": "12319201",
   "metadata": {},
   "outputs": [
    {
     "name": "stdout",
     "output_type": "stream",
     "text": [
      "[23.3291, 24.0771, 23.9753, 23.9737, 24.4246, 19.0186, 18.7718, 19.0171, 20.0678, 20.1876, 19.7116, 19.7796, 19.7393, 19.9232, 20.973, 21.4448, 21.9011, 22.1913, 22.44, 22.2509, 22.1212, 22.0556, 22.5883, 22.4193, 22.9804]\n"
     ]
    }
   ],
   "source": [
    "#1 hr hrrr:\n",
    "with open('hrrr_f01_Fairhope_AL.txt') as f:\n",
    "    lst=[line.split()[1] for line in f]\n",
    "    temp=[]\n",
    "    for i in lst:\n",
    "        new=i.replace(',',\"\")\n",
    "        temp.append(new)\n",
    "    temp.pop(0)\n",
    "    temp=[float(x) for x in temp]\n",
    "    temp=temp[2268:2293]\n",
    "    #temp=temp[2015:2063]\n",
    "    print(temp)\n",
    "    #print(len(temp))\n",
    "#full time period is [2015:2112]"
   ]
  },
  {
   "cell_type": "code",
   "execution_count": 99,
   "id": "0f24863a",
   "metadata": {},
   "outputs": [
    {
     "name": "stdout",
     "output_type": "stream",
     "text": [
      "[23.4, 23.7, 24.1, 24.2, 23.9, 19.2, 16.3, 16.8, 18.1, 18.4, 18.6, 19.2, 19.5, 19.9, 20.5, 22.2, 22.9, 22.8, 22.9, 22.8, 22.6, 22.6, 22.8, 22.7, 23.1]\n"
     ]
    }
   ],
   "source": [
    "#Air Temp CRN:\n",
    "with open('CRNH0203-2022-AL_Fairhope_3_NE.txt') as f:\n",
    "    lst=[line.split()[9] for line in f]\n",
    "    #print(lst)\n",
    "    temp_crn=[]\n",
    "    for i in lst:\n",
    "        new=i.replace(',',\"\")\n",
    "        temp_crn.append(new)\n",
    "    temp_crn=[float(x) for x in temp_crn]\n",
    "    temp_crn=temp_crn[2268:2293]\n",
    "    print(temp_crn)\n",
    "    #print(len(temp_crn))\n",
    "    # print(temp_crn[2124])"
   ]
  },
  {
   "cell_type": "code",
   "execution_count": 100,
   "id": "e08d6481",
   "metadata": {},
   "outputs": [
    {
     "name": "stdout",
     "output_type": "stream",
     "text": [
      "[-0.07089999999999819, 0.3771000000000022, -0.1247000000000007, -0.2262999999999984, 0.5246000000000031, -0.1814, 2.471799999999998, 2.2170999999999985, 1.9677999999999969, 1.7876000000000012, 1.1115999999999993, 0.5795999999999992, 0.23930000000000007, 0.023200000000002774, 0.472999999999999, -0.7551999999999985, -0.998899999999999, -0.6087000000000025, -0.4599999999999973, -0.5490999999999993, -0.47879999999999967, -0.5444000000000031, -0.21170000000000044, -0.2806999999999995, -0.11960000000000193]\n"
     ]
    }
   ],
   "source": [
    "difference3_fai = []\n",
    "\n",
    "zip_object = zip(temp, temp_crn)\n",
    "for temp_i, temp_crn_i in zip_object:\n",
    "    difference3_fai.append(temp_i-temp_crn_i)\n",
    "\n",
    "print(difference3_fai)"
   ]
  },
  {
   "cell_type": "markdown",
   "id": "817a1997",
   "metadata": {},
   "source": [
    "<font size=\"3\">Selma, AL: 1300 UTC 5 April 2022-1300 UTC 6 April 2022</font>"
   ]
  },
  {
   "cell_type": "code",
   "execution_count": 101,
   "id": "3850a5ea",
   "metadata": {},
   "outputs": [
    {
     "name": "stdout",
     "output_type": "stream",
     "text": [
      "[18.9541, 19.8271, 22.0378, 20.9112, 21.1746, 20.5811, 20.3968, 20.8296, 20.3803, 20.7501, 20.0866, 18.4046, 17.4893, 16.7357, 16.223, 17.6948, 18.1511, 18.3788, 19.0025, 19.6884, 19.9962, 20.3681, 20.6508, 21.1068, 22.0429]\n",
      "25\n",
      "[16.5, 16.8, 18.5, 19.6, 18.7, 18.1, 17.8, 18.5, 19.3, 19.8, 19.8, 18.9, 18.2, 17.9, 17.7, 17.3, 18.5, 19.4, 19.5, 19.4, 19.3, 19.5, 19.9, 20.3, 20.6]\n",
      "25\n",
      "[2.4541000000000004, 3.027100000000001, 3.5378000000000007, 1.3111999999999995, 2.4746000000000024, 2.481099999999998, 2.596799999999998, 2.3295999999999992, 1.0802999999999976, 0.9500999999999991, 0.28659999999999997, -0.49540000000000006, -0.7106999999999992, -1.1642999999999972, -1.4770000000000003, 0.39480000000000004, -0.34890000000000043, -1.0212000000000003, -0.4974999999999987, 0.2884000000000029, 0.696200000000001, 0.8680999999999983, 0.7508000000000017, 0.8067999999999991, 1.442899999999998]\n",
      "25\n"
     ]
    }
   ],
   "source": [
    "#1 hr hrrr:\n",
    "with open('hrrr_f01_Selma_AL.txt') as f:\n",
    "    lst=[line.split()[1] for line in f]\n",
    "    temp=[]\n",
    "    for i in lst:\n",
    "        new=i.replace(',',\"\")\n",
    "        temp.append(new)\n",
    "    temp.pop(0)\n",
    "    temp=[float(x) for x in temp]\n",
    "    temp=temp[2268:2293]\n",
    "    \n",
    "#Air Temp CRN:\n",
    "with open('CRNH0203-2022-AL_Selma_13_WNW.txt') as f:\n",
    "    lst=[line.split()[9] for line in f]\n",
    "    #print(lst)\n",
    "    temp_crn=[]\n",
    "    for i in lst:\n",
    "        new=i.replace(',',\"\")\n",
    "        temp_crn.append(new)\n",
    "    temp_crn=[float(x) for x in temp_crn]\n",
    "    temp_crn=temp_crn[2268:2293]\n",
    "\n",
    "    print(temp)\n",
    "    print(len(temp))\n",
    "    print(temp_crn)\n",
    "    print(len(temp_crn))\n",
    "#full time period is [2015:2112]\n",
    "difference3_sel = []\n",
    "\n",
    "zip_object = zip(temp, temp_crn)\n",
    "for temp_i, temp_crn_i in zip_object:\n",
    "    difference3_sel.append(temp_i-temp_crn_i)\n",
    "\n",
    "print(difference3_sel)\n",
    "print(len(difference3_sel))"
   ]
  },
  {
   "cell_type": "markdown",
   "id": "8492b45b",
   "metadata": {},
   "source": [
    "<font size=\"3\">Bowling Green, KY: 1500 UTC 5 April 2022-1500 UTC 6 April 2022</font>"
   ]
  },
  {
   "cell_type": "code",
   "execution_count": 102,
   "id": "f04dad03",
   "metadata": {},
   "outputs": [
    {
     "name": "stdout",
     "output_type": "stream",
     "text": [
      "[13.9753, 15.4112, 12.8621, 13.2061, 13.3968, 12.7671, 12.8803, 13.2501, 13.6491, 12.4671, 12.4268, 12.1732, 10.7855, 10.0073, 10.9011, 9.50381, 9.5025, 10.9384, 11.4337, 11.5556, 11.7758, 12.2318, 12.7304, 14.2694, 14.3647]\n"
     ]
    }
   ],
   "source": [
    "#1 hr hrrr:\n",
    "with open('hrrr_f01_Bowling Green_KY.txt') as f:\n",
    "    lst=[line.split()[1] for line in f]\n",
    "    temp=[]\n",
    "    for i in lst:\n",
    "        new=i.replace(',',\"\")\n",
    "        temp.append(new)\n",
    "    temp.pop(0)\n",
    "    temp=[float(x) for x in temp]\n",
    "    temp=temp[2270:2295]\n",
    "    #temp=temp[2015:2063]\n",
    "    print(temp)\n",
    "    #print(len(temp))\n",
    "#full time period is [2015:2112]"
   ]
  },
  {
   "cell_type": "code",
   "execution_count": 103,
   "id": "679e4a94",
   "metadata": {},
   "outputs": [],
   "source": [
    "# hour=[]\n",
    "# for i in range(-8,17,1):\n",
    "#     hour.append(i)\n",
    "#     i+=1\n",
    "# print(len(hour))"
   ]
  },
  {
   "cell_type": "code",
   "execution_count": 104,
   "id": "9c3d4d9e",
   "metadata": {},
   "outputs": [
    {
     "name": "stdout",
     "output_type": "stream",
     "text": [
      "[12.1, 11.9, 12.0, 12.4, 12.2, 11.9, 12.2, 12.5, 12.4, 12.3, 11.9, 11.6, 10.7, 9.9, 10.3, 10.5, 10.4, 10.8, 11.1, 11.0, 11.2, 11.2, 12.1, 12.8, 13.5]\n"
     ]
    }
   ],
   "source": [
    "#Air Temp CRN:\n",
    "with open('CRNH0203-2022-KY_Bowling_Green_21_NNE.txt') as f:\n",
    "    lst=[line.split()[9] for line in f]\n",
    "    #print(lst)\n",
    "    temp_crn=[]\n",
    "    for i in lst:\n",
    "        new=i.replace(',',\"\")\n",
    "        temp_crn.append(new)\n",
    "    temp_crn=[float(x) for x in temp_crn]\n",
    "    temp_crn=temp_crn[2270:2295]\n",
    "    print(temp_crn)\n",
    "    #print(len(temp_crn))\n",
    "    # print(temp_crn[2124])"
   ]
  },
  {
   "cell_type": "code",
   "execution_count": 105,
   "id": "8047270f",
   "metadata": {},
   "outputs": [
    {
     "name": "stdout",
     "output_type": "stream",
     "text": [
      "[1.875300000000001, 3.5111999999999988, 0.8620999999999999, 0.8060999999999989, 1.1968000000000014, 0.8670999999999989, 0.6803000000000008, 0.7500999999999998, 1.2491000000000003, 0.16709999999999958, 0.5267999999999997, 0.5731999999999999, 0.08550000000000146, 0.1073000000000004, 0.6010999999999989, -0.9961900000000004, -0.8975000000000009, 0.13839999999999897, 0.33370000000000033, 0.5556000000000001, 0.575800000000001, 1.0318000000000005, 0.6303999999999998, 1.4693999999999985, 0.8646999999999991]\n"
     ]
    }
   ],
   "source": [
    "difference3_bow = []\n",
    "\n",
    "zip_object = zip(temp, temp_crn)\n",
    "for temp_i, temp_crn_i in zip_object:\n",
    "    difference3_bow.append(temp_i-temp_crn_i)\n",
    "\n",
    "print(difference3_bow)"
   ]
  },
  {
   "cell_type": "markdown",
   "id": "e3343352",
   "metadata": {},
   "source": [
    "<font size=\"3\">Gadsden, AL: 1500 UTC 5 April 2022-1500 UTC 6 April 2022</font>"
   ]
  },
  {
   "cell_type": "code",
   "execution_count": 106,
   "id": "b482f388",
   "metadata": {},
   "outputs": [
    {
     "name": "stdout",
     "output_type": "stream",
     "text": [
      "[10.9128, 10.6612, 13.4246, 13.4561, 15.2718, 15.3296, 16.0678, 16.6876, 17.2741, 16.8421, 15.3643, 14.2982, 13.598, 12.8198, 13.4636, 13.4413, 13.6275, 13.8134, 14.3712, 14.4931, 14.3383, 14.2943, 15.2929, 15.9569, 16.8022]\n"
     ]
    }
   ],
   "source": [
    "#1 hr hrrr:\n",
    "with open('hrrr_f01_Gadsden_AL.txt') as f:\n",
    "    lst=[line.split()[1] for line in f]\n",
    "    temp=[]\n",
    "    for i in lst:\n",
    "        new=i.replace(',',\"\")\n",
    "        temp.append(new)\n",
    "    temp.pop(0)\n",
    "    temp=[float(x) for x in temp]\n",
    "    temp=temp[2270:2295]\n",
    "    #temp=temp[2015:2063]\n",
    "    print(temp)\n",
    "    #print(len(temp))\n",
    "#full time period is [2015:2112]"
   ]
  },
  {
   "cell_type": "code",
   "execution_count": 107,
   "id": "3e263dee",
   "metadata": {},
   "outputs": [
    {
     "name": "stdout",
     "output_type": "stream",
     "text": [
      "[11.0, 11.3, 11.6, 12.4, 14.0, 16.9, 17.7, 18.1, 18.4, 18.3, 17.2, 14.9, 13.3, 12.1, 13.0, 13.0, 13.6, 13.9, 14.4, 14.6, 15.0, 15.4, 16.0, 16.9, 17.6]\n"
     ]
    }
   ],
   "source": [
    "#Air Temp CRN:\n",
    "with open('CRNH0203-2022-AL_Gadsden_19_N.txt') as f:\n",
    "    lst=[line.split()[9] for line in f]\n",
    "    #print(lst)\n",
    "    temp_crn=[]\n",
    "    for i in lst:\n",
    "        new=i.replace(',',\"\")\n",
    "        temp_crn.append(new)\n",
    "    temp_crn=[float(x) for x in temp_crn]\n",
    "    temp_crn=temp_crn[2270:2295]\n",
    "    print(temp_crn)\n",
    "    #print(len(temp_crn))\n",
    "    # print(temp_crn[2124])"
   ]
  },
  {
   "cell_type": "code",
   "execution_count": 108,
   "id": "9ac3a61b",
   "metadata": {},
   "outputs": [
    {
     "name": "stdout",
     "output_type": "stream",
     "text": [
      "[-0.08719999999999928, -0.6388000000000016, 1.8246000000000002, 1.056099999999999, 1.2718000000000007, -1.5703999999999994, -1.632200000000001, -1.4124000000000017, -1.125899999999998, -1.4579000000000022, -1.8356999999999992, -0.6018000000000008, 0.29800000000000004, 0.7198000000000011, 0.46359999999999957, 0.4413, 0.027499999999999858, -0.08660000000000068, -0.02880000000000038, -0.10689999999999955, -0.6616999999999997, -1.1057000000000006, -0.7071000000000005, -0.9430999999999994, -0.7978000000000023]\n"
     ]
    }
   ],
   "source": [
    "difference3_gad = []\n",
    "\n",
    "zip_object = zip(temp, temp_crn)\n",
    "for temp_i, temp_crn_i in zip_object:\n",
    "    difference3_gad.append(temp_i-temp_crn_i)\n",
    "\n",
    "print(difference3_gad)"
   ]
  },
  {
   "cell_type": "markdown",
   "id": "24b41c3d",
   "metadata": {},
   "source": [
    "<font size=\"3\">Newton, GA: 1800 UTC 5 April 2022-1800 UTC 6 April 2022</font>"
   ]
  },
  {
   "cell_type": "code",
   "execution_count": 109,
   "id": "1c1967dd",
   "metadata": {},
   "outputs": [
    {
     "name": "stdout",
     "output_type": "stream",
     "text": [
      "[26.8936, 26.9593, 27.0796, 20.6303, 20.7501, 19.1491, 18.0921, 17.3643, 16.8607, 16.9105, 17.5073, 17.2761, 17.7538, 18.315, 18.5009, 19.1212, 19.8056, 20.0883, 21.5443, 23.2304, 23.7694, 24.5522, 25.7326, 25.9385, 26.1719]\n"
     ]
    }
   ],
   "source": [
    "#1 hr hrrr:\n",
    "with open('hrrr_f01_Newton_GA.txt') as f:\n",
    "    lst=[line.split()[1] for line in f]\n",
    "    temp=[]\n",
    "    for i in lst:\n",
    "        new=i.replace(',',\"\")\n",
    "        temp.append(new)\n",
    "    temp.pop(0)\n",
    "    temp=[float(x) for x in temp]\n",
    "    temp=temp[2273:2298]\n",
    "    #temp=temp[2015:2063]\n",
    "    print(temp)\n",
    "    #print(len(temp))\n",
    "#full time period is [2015:2112]"
   ]
  },
  {
   "cell_type": "code",
   "execution_count": 110,
   "id": "8a62826d",
   "metadata": {},
   "outputs": [
    {
     "name": "stdout",
     "output_type": "stream",
     "text": [
      "[25.7, 27.0, 25.7, 17.5, 17.1, 16.9, 17.0, 17.1, 17.2, 17.2, 17.0, 17.2, 17.6, 18.1, 18.8, 19.7, 20.4, 21.1, 21.4, 22.2, 23.2, 24.5, 25.5, 26.7, 27.4]\n"
     ]
    }
   ],
   "source": [
    "#Air Temp CRN:\n",
    "with open('CRNH0203-2022-GA_Newton_11_SW.txt') as f:\n",
    "    lst=[line.split()[9] for line in f]\n",
    "    #print(lst)\n",
    "    temp_crn=[]\n",
    "    for i in lst:\n",
    "        new=i.replace(',',\"\")\n",
    "        temp_crn.append(new)\n",
    "    temp_crn=[float(x) for x in temp_crn]\n",
    "    temp_crn=temp_crn[2273:2298]\n",
    "    print(temp_crn)\n",
    "    #print(len(temp_crn))\n",
    "    # print(temp_crn[2124])"
   ]
  },
  {
   "cell_type": "code",
   "execution_count": 111,
   "id": "474e5fae",
   "metadata": {},
   "outputs": [
    {
     "name": "stdout",
     "output_type": "stream",
     "text": [
      "[1.1936, -0.04070000000000107, 1.3796, 3.1302999999999983, 3.6500999999999983, 2.249100000000002, 1.0920999999999985, 0.26429999999999865, -0.33929999999999794, -0.2895000000000003, 0.5073000000000008, 0.07610000000000028, 0.15379999999999683, 0.21499999999999986, -0.29909999999999926, -0.5787999999999975, -0.5944000000000003, -1.0117000000000012, 0.1443000000000012, 1.0304000000000002, 0.5694000000000017, 0.052199999999999136, 0.23260000000000147, -0.7614999999999981, -1.2280999999999977]\n"
     ]
    }
   ],
   "source": [
    "difference3_newt = []\n",
    "\n",
    "zip_object = zip(temp, temp_crn)\n",
    "for temp_i, temp_crn_i in zip_object:\n",
    "    difference3_newt.append(temp_i-temp_crn_i)\n",
    "\n",
    "print(difference3_newt)"
   ]
  },
  {
   "cell_type": "markdown",
   "id": "e079df5d",
   "metadata": {},
   "source": [
    "<font size=\"3\">Salem, MO: 1500 UTC 13 April 2022-1500 UTC 14 April 2022</font>"
   ]
  },
  {
   "cell_type": "code",
   "execution_count": 112,
   "id": "b943e635",
   "metadata": {},
   "outputs": [
    {
     "name": "stdout",
     "output_type": "stream",
     "text": [
      "[19.2549, 18.8531, 18.1182, 17.5997, 15.5489, 10.4234, 7.97363, 6.44534, 5.69016, 5.62787, 5.4241, 4.71841, 5.00217, 3.94424, 3.01419, 2.46942, 1.92947, 1.37457, 0.913788, 0.558075, 0.139709, 0.256287, 2.9653, 5.89767, 8.40634]\n",
      "25\n"
     ]
    }
   ],
   "source": [
    "#1 hr hrrr:\n",
    "with open('hrrr_f01_Salem_MO.txt') as f:\n",
    "    lst=[line.split()[1] for line in f]\n",
    "    temp=[]\n",
    "    for i in lst:\n",
    "        new=i.replace(',',\"\")\n",
    "        temp.append(new)\n",
    "    temp.pop(0)\n",
    "    temp=[float(x) for x in temp]\n",
    "    temp=temp[2462:2487]\n",
    "    #temp=temp[2015:2063]\n",
    "    print(temp)\n",
    "    print(len(temp))\n",
    "#full time period is [2015:2112]"
   ]
  },
  {
   "cell_type": "code",
   "execution_count": 113,
   "id": "7f147a99",
   "metadata": {},
   "outputs": [
    {
     "name": "stdout",
     "output_type": "stream",
     "text": [
      "[18.0, 16.9, 16.2, 14.9, 14.6, 13.5, 7.3, 6.4, 5.7, 5.5, 4.9, 4.8, 5.2, 4.3, 3.0, 1.3, -0.5, -0.9, -1.3, -1.6, -1.4, -1.6, 0.5, 5.6, 9.4]\n"
     ]
    }
   ],
   "source": [
    "#Air Temp CRN:\n",
    "with open('CRNH0203-2022-MO_Salem_10_W.txt') as f:\n",
    "    lst=[line.split()[9] for line in f]\n",
    "    #print(lst)\n",
    "    temp_crn=[]\n",
    "    for i in lst:\n",
    "        new=i.replace(',',\"\")\n",
    "        temp_crn.append(new)\n",
    "    temp_crn=[float(x) for x in temp_crn]\n",
    "    temp_crn=temp_crn[2462:2487]\n",
    "    print(temp_crn)\n",
    "    #print(len(temp_crn))\n",
    "    # print(temp_crn[2124])"
   ]
  },
  {
   "cell_type": "code",
   "execution_count": 114,
   "id": "9b8b2fac",
   "metadata": {},
   "outputs": [
    {
     "name": "stdout",
     "output_type": "stream",
     "text": [
      "25\n"
     ]
    }
   ],
   "source": [
    "hour=[]\n",
    "for i in range(-12,13,1):\n",
    "    hour.append(i)\n",
    "    i+=1\n",
    "print(len(hour))"
   ]
  },
  {
   "cell_type": "code",
   "execution_count": 115,
   "id": "cfc37d3d",
   "metadata": {},
   "outputs": [
    {
     "name": "stdout",
     "output_type": "stream",
     "text": [
      "[1.2548999999999992, 1.9531000000000027, 1.9182000000000023, 2.699699999999998, 0.9489000000000001, -3.076599999999999, 0.6736300000000002, 0.04533999999999949, -0.009840000000000515, 0.1278699999999997, 0.5240999999999998, -0.08158999999999939, -0.19783000000000062, -0.35575999999999963, 0.014190000000000147, 1.16942, 2.4294700000000002, 2.27457, 2.213788, 2.158075, 1.539709, 1.856287, 2.4653, 0.2976700000000001, -0.9936600000000002]\n"
     ]
    }
   ],
   "source": [
    "difference4_sal = []\n",
    "\n",
    "zip_object = zip(temp, temp_crn)\n",
    "for temp_i, temp_crn_i in zip_object:\n",
    "    difference4_sal.append(temp_i-temp_crn_i)\n",
    "\n",
    "print(difference4_sal)"
   ]
  },
  {
   "cell_type": "markdown",
   "id": "1baa8356",
   "metadata": {},
   "source": [
    "<font size=\"3\">Batesville, AR: 1500 UTC 13 April 2022-1500 UTC 14 April 2022</font>"
   ]
  },
  {
   "cell_type": "code",
   "execution_count": 116,
   "id": "007679ab",
   "metadata": {},
   "outputs": [
    {
     "name": "stdout",
     "output_type": "stream",
     "text": [
      "[20.0049, 22.1031, 22.4307, 20.6622, 19.0489, 19.6109, 19.8486, 13.8828, 12.3777, 11.3779, 10.6741, 9.90591, 9.06467, 8.19424, 7.63919, 7.15692, 6.36697, 5.62457, 4.78879, 4.05807, 3.13971, 2.31879, 3.8403, 6.71017, 9.15634]\n"
     ]
    }
   ],
   "source": [
    "#1 hr hrrr:\n",
    "with open('hrrr_f01_Batesville_AR.txt') as f:\n",
    "    lst=[line.split()[1] for line in f]\n",
    "    temp=[]\n",
    "    for i in lst:\n",
    "        new=i.replace(',',\"\")\n",
    "        temp.append(new)\n",
    "    temp.pop(0)\n",
    "    temp=[float(x) for x in temp]\n",
    "    temp=temp[2462:2487]\n",
    "    #temp=temp[2015:2063]\n",
    "    print(temp)\n",
    "    #print(len(temp))\n",
    "#full time period is [2015:2112]"
   ]
  },
  {
   "cell_type": "code",
   "execution_count": 117,
   "id": "3f6ddd59",
   "metadata": {},
   "outputs": [
    {
     "name": "stdout",
     "output_type": "stream",
     "text": [
      "[18.5, 19.4, 20.0, 20.2, 18.4, 17.9, 17.5, 17.3, 12.1, 10.9, 10.7, 10.3, 9.8, 8.9, 8.4, 7.4, 5.4, 3.2, 1.5, 1.3, 0.5, 0.0, 1.0, 5.4, 8.6]\n"
     ]
    }
   ],
   "source": [
    "#Air Temp CRN:\n",
    "with open('CRNH0203-2022-AR_Batesville_8_WNW.txt') as f:\n",
    "    lst=[line.split()[9] for line in f]\n",
    "    #print(lst)\n",
    "    temp_crn=[]\n",
    "    for i in lst:\n",
    "        new=i.replace(',',\"\")\n",
    "        temp_crn.append(new)\n",
    "    temp_crn=[float(x) for x in temp_crn]\n",
    "    temp_crn=temp_crn[2462:2487]\n",
    "    print(temp_crn)\n",
    "    #print(len(temp_crn))\n",
    "    # print(temp_crn[2124])"
   ]
  },
  {
   "cell_type": "code",
   "execution_count": 118,
   "id": "3ca802b3",
   "metadata": {},
   "outputs": [
    {
     "name": "stdout",
     "output_type": "stream",
     "text": [
      "[1.5048999999999992, 2.7031000000000027, 2.4307000000000016, 0.4621999999999993, 0.6489000000000011, 1.7109000000000023, 2.348600000000001, -3.417200000000001, 0.27770000000000117, 0.4779, -0.025900000000000034, -0.3940900000000003, -0.7353300000000011, -0.7057599999999997, -0.7608100000000002, -0.24307999999999996, 0.9669699999999999, 2.42457, 3.2887899999999997, 2.75807, 2.63971, 2.31879, 2.8403, 1.3101699999999994, 0.5563400000000005]\n"
     ]
    }
   ],
   "source": [
    "difference4_bat = []\n",
    "\n",
    "zip_object = zip(temp, temp_crn)\n",
    "for temp_i, temp_crn_i in zip_object:\n",
    "    difference4_bat.append(temp_i-temp_crn_i)\n",
    "\n",
    "print(difference4_bat)"
   ]
  },
  {
   "cell_type": "code",
   "execution_count": 119,
   "id": "8c77cf63",
   "metadata": {},
   "outputs": [
    {
     "name": "stdout",
     "output_type": "stream",
     "text": [
      "[25.3609, 25.4111, 24.7578, 24.5652, 23.6904, 23.3616, 23.0309, 22.9397, 19.8817, 17.5142, 16.9069, 17.0545, 17.0621, 16.5388, 15.9956, 15.0147, 13.8813, 14.8403, 15.8977, 17.4688, 19.5684, 21.3904, 23.0462, 24.75, 26.9259]\n"
     ]
    }
   ],
   "source": [
    "#1 hr hrrr:\n",
    "with open('hrrr_f01_Lafayette_LA.txt') as f:\n",
    "    lst=[line.split()[1] for line in f]\n",
    "    temp=[]\n",
    "    for i in lst:\n",
    "        new=i.replace(',',\"\")\n",
    "        temp.append(new)\n",
    "    temp.pop(0)\n",
    "    temp=[float(x) for x in temp]\n",
    "    temp=temp[2467:2492]\n",
    "    #temp=temp[2015:2063]\n",
    "    print(temp)\n",
    "    #print(len(temp))\n",
    "#full time period is [2015:2112]"
   ]
  },
  {
   "cell_type": "code",
   "execution_count": 120,
   "id": "8a5add55",
   "metadata": {},
   "outputs": [
    {
     "name": "stdout",
     "output_type": "stream",
     "text": [
      "[24.8, 25.0, 25.1, 24.5, 24.1, 23.7, 23.6, 22.2, 15.7, 15.5, 15.6, 16.0, 16.3, 17.2, 16.6, 15.5, 15.1, 15.1, 16.3, 18.2, 19.7, 21.8, 23.8, 24.9, 25.9]\n"
     ]
    }
   ],
   "source": [
    "#Air Temp CRN:\n",
    "with open('CRNH0203-2022-LA_Lafayette_13_SE.txt') as f:\n",
    "    lst=[line.split()[9] for line in f]\n",
    "    #print(lst)\n",
    "    temp_crn=[]\n",
    "    for i in lst:\n",
    "        new=i.replace(',',\"\")\n",
    "        temp_crn.append(new)\n",
    "    temp_crn=[float(x) for x in temp_crn]\n",
    "    temp_crn=temp_crn[2467:2492]\n",
    "    print(temp_crn)\n",
    "    #print(len(temp_crn))\n",
    "    # print(temp_crn[2124])"
   ]
  },
  {
   "cell_type": "code",
   "execution_count": 121,
   "id": "f0730891",
   "metadata": {},
   "outputs": [
    {
     "name": "stdout",
     "output_type": "stream",
     "text": [
      "[0.5609000000000002, 0.41110000000000113, -0.34220000000000184, 0.06520000000000081, -0.4096000000000011, -0.33840000000000003, -0.5691000000000024, 0.7396999999999991, 4.181699999999999, 2.014199999999999, 1.3069000000000006, 1.0545000000000009, 0.7621000000000002, -0.6612000000000009, -0.6044000000000018, -0.4853000000000005, -1.2187000000000001, -0.2597000000000005, -0.4023000000000003, -0.7311999999999976, -0.13159999999999883, -0.4096000000000011, -0.7538000000000018, -0.14999999999999858, 1.0259]\n"
     ]
    }
   ],
   "source": [
    "difference4_laf = []\n",
    "\n",
    "zip_object = zip(temp, temp_crn)\n",
    "for temp_i, temp_crn_i in zip_object:\n",
    "    difference4_laf.append(temp_i-temp_crn_i)\n",
    "\n",
    "print(difference4_laf)"
   ]
  },
  {
   "cell_type": "markdown",
   "id": "a4cb46d7",
   "metadata": {},
   "source": [
    "<font size=\"3\">Monroe, LA: 2000 UTC 13 April 2022-2000 UTC 14 April 2022</font>"
   ]
  },
  {
   "cell_type": "code",
   "execution_count": 122,
   "id": "699f132e",
   "metadata": {},
   "outputs": [
    {
     "name": "stdout",
     "output_type": "stream",
     "text": [
      "[22.8609, 22.2236, 21.7578, 21.9402, 21.1904, 19.9241, 18.5309, 17.1272, 14.3817, 12.6392, 12.0944, 11.617, 10.8746, 9.72629, 8.99557, 8.20221, 7.38129, 9.0903, 11.5852, 13.4688, 15.4434, 17.2029, 18.7962, 20.0625, 21.4884]\n"
     ]
    }
   ],
   "source": [
    "#1 hr hrrr:\n",
    "with open('hrrr_f01_Monroe_LA.txt') as f:\n",
    "    lst=[line.split()[1] for line in f]\n",
    "    temp=[]\n",
    "    for i in lst:\n",
    "        new=i.replace(',',\"\")\n",
    "        temp.append(new)\n",
    "    temp.pop(0)\n",
    "    temp=[float(x) for x in temp]\n",
    "    temp=temp[2467:2492]\n",
    "    #temp=temp[2015:2063]\n",
    "    print(temp)\n",
    "    #print(len(temp))\n",
    "#full time period is [2015:2112]"
   ]
  },
  {
   "cell_type": "code",
   "execution_count": 123,
   "id": "af7a34bf",
   "metadata": {},
   "outputs": [
    {
     "name": "stdout",
     "output_type": "stream",
     "text": [
      "[23.5, 23.8, 23.2, 23.0, 20.8, 19.1, 18.4, 15.5, 13.6, 12.5, 11.3, 10.3, 10.1, 10.5, 10.4, 9.5, 9.9, 10.4, 11.6, 12.9, 14.6, 16.4, 18.2, 19.6, 20.8]\n"
     ]
    }
   ],
   "source": [
    "#Air Temp CRN:\n",
    "with open('CRNH0203-2022-LA_Monroe_26_N.txt') as f:\n",
    "    lst=[line.split()[9] for line in f]\n",
    "    #print(lst)\n",
    "    temp_crn=[]\n",
    "    for i in lst:\n",
    "        new=i.replace(',',\"\")\n",
    "        temp_crn.append(new)\n",
    "    temp_crn=[float(x) for x in temp_crn]\n",
    "    temp_crn=temp_crn[2467:2492]\n",
    "    print(temp_crn)\n",
    "    #print(len(temp_crn))\n",
    "    # print(temp_crn[2124])"
   ]
  },
  {
   "cell_type": "code",
   "execution_count": 124,
   "id": "91696836",
   "metadata": {},
   "outputs": [
    {
     "name": "stdout",
     "output_type": "stream",
     "text": [
      "[-0.6390999999999991, -1.5763999999999996, -1.4421999999999997, -1.0597999999999992, 0.39039999999999964, 0.8240999999999978, 0.13090000000000046, 1.6271999999999984, 0.7817000000000007, 0.13920000000000066, 0.7943999999999996, 1.3170000000000002, 0.7745999999999995, -0.7737099999999995, -1.4044299999999996, -1.2977900000000009, -2.5187100000000004, -1.3097000000000012, -0.014799999999999258, 0.5687999999999995, 0.8434000000000008, 0.8029000000000011, 0.5961999999999996, 0.4624999999999986, 0.6883999999999979]\n"
     ]
    }
   ],
   "source": [
    "difference4_mon = []\n",
    "\n",
    "zip_object = zip(temp, temp_crn)\n",
    "for temp_i, temp_crn_i in zip_object:\n",
    "    difference4_mon.append(temp_i-temp_crn_i)\n",
    "\n",
    "print(difference4_mon)"
   ]
  },
  {
   "cell_type": "markdown",
   "id": "797ab9bf",
   "metadata": {},
   "source": [
    "<font size=\"3\">Holly Springs, MS: 2300 UTC 13 April 2022-2300 UTC 14 April 2022</font>"
   ]
  },
  {
   "cell_type": "code",
   "execution_count": 125,
   "id": "3ca81baa",
   "metadata": {},
   "outputs": [
    {
     "name": "stdout",
     "output_type": "stream",
     "text": [
      "[22.8152, 17.5029, 18.1116, 18.2184, 17.5647, 14.1942, 12.6392, 11.6569, 10.5545, 9.24957, 8.03879, 7.68307, 7.76471, 7.88129, 8.2153, 9.39767, 10.8438, 12.1934, 13.7654, 15.8587, 17.3125, 18.3009, 19.0211, 19.0841, 18.9452]\n"
     ]
    }
   ],
   "source": [
    "#1 hr hrrr:\n",
    "with open('hrrr_f01_Holly Springs_MS.txt') as f:\n",
    "    lst=[line.split()[1] for line in f]\n",
    "    temp=[]\n",
    "    for i in lst:\n",
    "        new=i.replace(',',\"\")\n",
    "        temp.append(new)\n",
    "    temp.pop(0)\n",
    "    temp=[float(x) for x in temp]\n",
    "    temp=temp[2470:2495]\n",
    "    #temp=temp[2015:2063]\n",
    "    print(temp)\n",
    "    #print(len(temp))\n",
    "#full time period is [2015:2112]"
   ]
  },
  {
   "cell_type": "code",
   "execution_count": 126,
   "id": "ffe3951c",
   "metadata": {},
   "outputs": [
    {
     "name": "stdout",
     "output_type": "stream",
     "text": [
      "[22.5, 16.2, 17.2, 17.2, 18.0, 15.9, 13.3, 11.3, 10.3, 9.2, 8.0, 7.1, 7.3, 7.3, 7.7, 9.1, 10.7, 12.7, 14.7, 16.7, 18.3, 19.1, 19.8, 20.0, 19.9]\n"
     ]
    }
   ],
   "source": [
    "#Air Temp CRN:\n",
    "with open('CRNH0203-2022-MS_Holly_Springs_4_N.txt') as f:\n",
    "    lst=[line.split()[9] for line in f]\n",
    "    #print(lst)\n",
    "    temp_crn=[]\n",
    "    for i in lst:\n",
    "        new=i.replace(',',\"\")\n",
    "        temp_crn.append(new)\n",
    "    temp_crn=[float(x) for x in temp_crn]\n",
    "    temp_crn=temp_crn[2470:2495]\n",
    "    print(temp_crn)\n",
    "    #print(len(temp_crn))\n",
    "    # print(temp_crn[2124])"
   ]
  },
  {
   "cell_type": "code",
   "execution_count": 127,
   "id": "6226fdc5",
   "metadata": {},
   "outputs": [
    {
     "name": "stdout",
     "output_type": "stream",
     "text": [
      "[0.3152000000000008, 1.302900000000001, 0.9116, 1.0183999999999997, -0.4353000000000016, -1.7058, -0.6608, 0.35689999999999955, 0.25450000000000017, 0.049570000000001, 0.038790000000000546, 0.5830700000000002, 0.4647100000000002, 0.5812900000000001, 0.515299999999999, 0.2976700000000001, 0.1438000000000006, -0.5065999999999988, -0.9345999999999997, -0.8412999999999986, -0.9875000000000007, -0.7991000000000028, -0.7789000000000001, -0.9159000000000006, -0.9547999999999988]\n"
     ]
    }
   ],
   "source": [
    "difference4_hol = []\n",
    "\n",
    "zip_object = zip(temp, temp_crn)\n",
    "for temp_i, temp_crn_i in zip_object:\n",
    "    difference4_hol.append(temp_i-temp_crn_i)\n",
    "\n",
    "print(difference4_hol)"
   ]
  },
  {
   "cell_type": "markdown",
   "id": "2580ca75",
   "metadata": {},
   "source": [
    "<font size=\"3\">Newton, MS: 2300 UTC 13 April 2022-2300 UTC 14 April 2022</font>"
   ]
  },
  {
   "cell_type": "code",
   "execution_count": 128,
   "id": "1b29344a",
   "metadata": {},
   "outputs": [
    {
     "name": "stdout",
     "output_type": "stream",
     "text": [
      "[26.5652, 25.0654, 24.6116, 22.9059, 20.5647, 19.7567, 19.0767, 18.7819, 18.242, 17.7496, 17.0388, 14.9331, 13.0772, 12.3813, 12.9028, 13.6477, 14.9688, 17.3184, 19.7654, 21.7962, 23.1875, 24.3634, 25.2086, 25.1466, 24.7577]\n"
     ]
    }
   ],
   "source": [
    "#1 hr hrrr:\n",
    "with open('hrrr_f01_Newton_MS.txt') as f:\n",
    "    lst=[line.split()[1] for line in f]\n",
    "    temp=[]\n",
    "    for i in lst:\n",
    "        new=i.replace(',',\"\")\n",
    "        temp.append(new)\n",
    "    temp.pop(0)\n",
    "    temp=[float(x) for x in temp]\n",
    "    temp=temp[2470:2495]\n",
    "    #temp=temp[2015:2063]\n",
    "    print(temp)\n",
    "    #print(len(temp))\n",
    "#full time period is [2015:2112]"
   ]
  },
  {
   "cell_type": "code",
   "execution_count": 129,
   "id": "92e5271c",
   "metadata": {},
   "outputs": [
    {
     "name": "stdout",
     "output_type": "stream",
     "text": [
      "[25.6, 25.0, 24.5, 21.7, 16.9, 16.8, 16.8, 16.9, 16.9, 16.9, 16.6, 15.1, 13.1, 11.3, 11.6, 12.6, 14.3, 16.3, 18.4, 20.1, 21.4, 22.4, 23.0, 23.2, 23.1]\n"
     ]
    }
   ],
   "source": [
    "#Air Temp CRN:\n",
    "with open('CRNH0203-2022-MS_Newton_5_ENE.txt') as f:\n",
    "    lst=[line.split()[9] for line in f]\n",
    "    #print(lst)\n",
    "    temp_crn=[]\n",
    "    for i in lst:\n",
    "        new=i.replace(',',\"\")\n",
    "        temp_crn.append(new)\n",
    "    temp_crn=[float(x) for x in temp_crn]\n",
    "    temp_crn=temp_crn[2470:2495]\n",
    "    print(temp_crn)\n",
    "    #print(len(temp_crn))\n",
    "    # print(temp_crn[2124])"
   ]
  },
  {
   "cell_type": "code",
   "execution_count": 130,
   "id": "e75f9641",
   "metadata": {},
   "outputs": [
    {
     "name": "stdout",
     "output_type": "stream",
     "text": [
      "[0.9651999999999994, 0.06540000000000035, 0.11159999999999926, 1.2058999999999997, 3.6647, 2.956699999999998, 2.276699999999998, 1.8819000000000017, 1.3420000000000023, 0.8496000000000024, 0.43879999999999697, -0.16690000000000005, -0.022800000000000153, 1.0812999999999988, 1.3027999999999995, 1.0477000000000007, 0.6687999999999992, 1.0183999999999997, 1.365400000000001, 1.6961999999999975, 1.7875000000000014, 1.9634, 2.2086000000000006, 1.9466, 1.6576999999999984]\n"
     ]
    }
   ],
   "source": [
    "difference4_new = []\n",
    "\n",
    "zip_object = zip(temp, temp_crn)\n",
    "for temp_i, temp_crn_i in zip_object:\n",
    "    difference4_new.append(temp_i-temp_crn_i)\n",
    "\n",
    "print(difference4_new)"
   ]
  },
  {
   "cell_type": "markdown",
   "id": "a7d0e1e9",
   "metadata": {},
   "source": [
    "<font size=\"3\">Gainesville, AL: 0200 UTC 14 April 2022-0200 UTC 15 April 2022</font>"
   ]
  },
  {
   "cell_type": "code",
   "execution_count": 131,
   "id": "7487893a",
   "metadata": {},
   "outputs": [
    {
     "name": "stdout",
     "output_type": "stream",
     "text": [
      "[23.9059, 19.6272, 20.0067, 19.3267, 18.5944, 18.492, 18.0621, 17.7888, 16.1206, 14.5147, 13.1938, 13.4653, 13.5852, 14.9063, 15.6309, 17.1404, 18.5462, 20.4375, 21.7384, 22.5211, 22.8341, 22.4452, 20.923, 19.1219, 16.9417]\n"
     ]
    }
   ],
   "source": [
    "#1 hr hrrr:\n",
    "with open('hrrr_f01_Gainesville_AL.txt') as f:\n",
    "    lst=[line.split()[1] for line in f]\n",
    "    temp=[]\n",
    "    for i in lst:\n",
    "        new=i.replace(',',\"\")\n",
    "        temp.append(new)\n",
    "    temp.pop(0)\n",
    "    temp=[float(x) for x in temp]\n",
    "    temp=temp[2473:2498]\n",
    "    #temp=temp[2015:2063]\n",
    "    print(temp)\n",
    "    #print(len(temp))\n",
    "#full time period is [2015:2112]"
   ]
  },
  {
   "cell_type": "code",
   "execution_count": 132,
   "id": "b5314d1e",
   "metadata": {},
   "outputs": [
    {
     "name": "stdout",
     "output_type": "stream",
     "text": [
      "[24.1, 19.6, 17.6, 17.4, 17.2, 17.0, 16.9, 17.0, 15.6, 14.2, 13.1, 13.1, 13.2, 14.3, 15.8, 17.3, 18.8, 20.1, 21.5, 22.4, 22.5, 21.9, 20.4, 17.6, 15.0]\n"
     ]
    }
   ],
   "source": [
    "#Air Temp CRN:\n",
    "with open('CRNH0203-2022-AL_Gainesville_2_NE.txt') as f:\n",
    "    lst=[line.split()[9] for line in f]\n",
    "    #print(lst)\n",
    "    temp_crn=[]\n",
    "    for i in lst:\n",
    "        new=i.replace(',',\"\")\n",
    "        temp_crn.append(new)\n",
    "    temp_crn=[float(x) for x in temp_crn]\n",
    "    temp_crn=temp_crn[2473:2498]\n",
    "    print(temp_crn)\n",
    "    #print(len(temp_crn))\n",
    "    # print(temp_crn[2124])"
   ]
  },
  {
   "cell_type": "code",
   "execution_count": 133,
   "id": "c9db90a8",
   "metadata": {},
   "outputs": [
    {
     "name": "stdout",
     "output_type": "stream",
     "text": [
      "[-0.19410000000000238, 0.027199999999997004, 2.406699999999997, 1.9267000000000003, 1.394400000000001, 1.4920000000000009, 1.1621000000000024, 0.7887999999999984, 0.5206, 0.3147000000000002, 0.09379999999999988, 0.3652999999999995, 0.3852000000000011, 0.6062999999999992, -0.16910000000000025, -0.15960000000000107, -0.2538000000000018, 0.3374999999999986, 0.2383999999999986, 0.12110000000000198, 0.3340999999999994, 0.5452000000000012, 0.5229999999999997, 1.5218999999999987, 1.9417000000000009]\n"
     ]
    }
   ],
   "source": [
    "difference4_gai = []\n",
    "\n",
    "zip_object = zip(temp, temp_crn)\n",
    "for temp_i, temp_crn_i in zip_object:\n",
    "    difference4_gai.append(temp_i-temp_crn_i)\n",
    "\n",
    "print(difference4_gai)"
   ]
  },
  {
   "cell_type": "markdown",
   "id": "cdbcd1b4",
   "metadata": {},
   "source": [
    "<font size=\"3\">Fairhope, AL: 0200 UTC 14 April 2022-0200 UTC 15 April 2022</font>"
   ]
  },
  {
   "cell_type": "code",
   "execution_count": 134,
   "id": "3faa1ec4",
   "metadata": {},
   "outputs": [
    {
     "name": "stdout",
     "output_type": "stream",
     "text": [
      "[22.5934, 22.6272, 22.5067, 22.2642, 22.0319, 21.3045, 19.6871, 18.2888, 17.9956, 17.7647, 18.8813, 19.6528, 19.4602, 20.8438, 19.7559, 20.3904, 21.1712, 22.375, 23.4259, 23.6461, 23.8966, 24.6327, 23.2355, 22.1844, 20.8792]\n"
     ]
    }
   ],
   "source": [
    "#1 hr hrrr:\n",
    "with open('hrrr_f01_Fairhope_AL.txt') as f:\n",
    "    lst=[line.split()[1] for line in f]\n",
    "    temp=[]\n",
    "    for i in lst:\n",
    "        new=i.replace(',',\"\")\n",
    "        temp.append(new)\n",
    "    temp.pop(0)\n",
    "    temp=[float(x) for x in temp]\n",
    "    temp=temp[2473:2498]\n",
    "    #temp=temp[2015:2063]\n",
    "    print(temp)\n",
    "    #print(len(temp))\n",
    "#full time period is [2015:2112]"
   ]
  },
  {
   "cell_type": "code",
   "execution_count": 135,
   "id": "52234265",
   "metadata": {},
   "outputs": [
    {
     "name": "stdout",
     "output_type": "stream",
     "text": [
      "[22.1, 22.2, 22.1, 21.8, 19.7, 18.1, 17.8, 17.9, 17.8, 17.7, 17.6, 17.6, 18.5, 19.0, 19.5, 19.9, 20.5, 22.4, 23.3, 23.3, 23.4, 23.6, 23.0, 20.4, 18.6]\n"
     ]
    }
   ],
   "source": [
    "#Air Temp CRN:\n",
    "with open('CRNH0203-2022-AL_Fairhope_3_NE.txt') as f:\n",
    "    lst=[line.split()[9] for line in f]\n",
    "    #print(lst)\n",
    "    temp_crn=[]\n",
    "    for i in lst:\n",
    "        new=i.replace(',',\"\")\n",
    "        temp_crn.append(new)\n",
    "    temp_crn=[float(x) for x in temp_crn]\n",
    "    temp_crn=temp_crn[2473:2498]\n",
    "    print(temp_crn)\n",
    "    #print(len(temp_crn))\n",
    "    # print(temp_crn[2124])"
   ]
  },
  {
   "cell_type": "code",
   "execution_count": 136,
   "id": "2e2c6057",
   "metadata": {},
   "outputs": [
    {
     "name": "stdout",
     "output_type": "stream",
     "text": [
      "[0.4933999999999976, 0.42719999999999914, 0.4066999999999972, 0.46419999999999817, 2.331900000000001, 3.2044999999999995, 1.8871000000000002, 0.3887999999999998, 0.19559999999999889, 0.06470000000000198, 1.281299999999998, 2.0527999999999977, 0.9602000000000004, 1.8438000000000017, 0.25590000000000046, 0.49040000000000106, 0.6711999999999989, -0.02499999999999858, 0.1258999999999979, 0.34609999999999985, 0.4966000000000008, 1.0326999999999984, 0.23549999999999827, 1.7844000000000015, 2.2791999999999994]\n"
     ]
    }
   ],
   "source": [
    "difference4_fai = []\n",
    "\n",
    "zip_object = zip(temp, temp_crn)\n",
    "for temp_i, temp_crn_i in zip_object:\n",
    "    difference4_fai.append(temp_i-temp_crn_i)\n",
    "\n",
    "print(difference4_fai)"
   ]
  },
  {
   "cell_type": "markdown",
   "id": "ba62c881",
   "metadata": {},
   "source": [
    "<font size=\"3\">Selma, AL: 0200 UTC 14 April 2022-0200 UTC 15 April 2022\n",
    "</font>"
   ]
  },
  {
   "cell_type": "code",
   "execution_count": 137,
   "id": "935d8c80",
   "metadata": {},
   "outputs": [
    {
     "name": "stdout",
     "output_type": "stream",
     "text": [
      "[20.9059, 20.3772, 20.1317, 19.6392, 18.9694, 18.117, 17.6871, 17.9763, 17.9331, 16.6397, 17.1938, 17.3403, 16.8977, 17.9688, 18.8184, 20.3904, 21.6712, 22.9375, 23.9884, 24.4586, 24.7716, 23.5077, 21.2355, 18.9969, 16.7542]\n",
      "25\n",
      "[22.9, 22.5, 21.2, 17.7, 17.3, 17.2, 17.3, 17.3, 17.2, 17.2, 17.3, 16.4, 16.9, 17.9, 19.0, 20.3, 21.9, 22.8, 23.8, 24.2, 24.2, 23.7, 21.8, 17.9, 15.6]\n",
      "25\n",
      "[-1.9940999999999995, -2.1228000000000016, -1.0683000000000007, 1.9391999999999996, 1.6693999999999996, 0.9170000000000016, 0.3871000000000002, 0.6762999999999977, 0.7331000000000003, -0.560299999999998, -0.10620000000000118, 0.9403000000000006, -0.0022999999999981924, 0.06880000000000308, -0.18159999999999954, 0.09039999999999893, -0.22879999999999967, 0.1374999999999993, 0.1883999999999979, 0.2586000000000013, 0.5716000000000001, -0.19229999999999947, -0.5645000000000024, 1.0969000000000015, 1.1542000000000012]\n",
      "25\n"
     ]
    }
   ],
   "source": [
    "#1 hr hrrr:\n",
    "with open('hrrr_f01_Selma_AL.txt') as f:\n",
    "    lst=[line.split()[1] for line in f]\n",
    "    temp=[]\n",
    "    for i in lst:\n",
    "        new=i.replace(',',\"\")\n",
    "        temp.append(new)\n",
    "    temp.pop(0)\n",
    "    temp=[float(x) for x in temp]\n",
    "    temp=temp[2473:2498]\n",
    "    \n",
    "#Air Temp CRN:\n",
    "with open('CRNH0203-2022-AL_Selma_13_WNW.txt') as f:\n",
    "    lst=[line.split()[9] for line in f]\n",
    "    #print(lst)\n",
    "    temp_crn=[]\n",
    "    for i in lst:\n",
    "        new=i.replace(',',\"\")\n",
    "        temp_crn.append(new)\n",
    "    temp_crn=[float(x) for x in temp_crn]\n",
    "    temp_crn=temp_crn[2473:2498]\n",
    "    print(temp)\n",
    "    print(len(temp))\n",
    "    print(temp_crn)\n",
    "    print(len(temp_crn))\n",
    "#full time period is [2015:2112]\n",
    "difference4_sel = []\n",
    "\n",
    "zip_object = zip(temp, temp_crn)\n",
    "for temp_i, temp_crn_i in zip_object:\n",
    "    difference4_sel.append(temp_i-temp_crn_i)\n",
    "\n",
    "print(difference4_sel)\n",
    "print(len(difference4_sel))"
   ]
  },
  {
   "cell_type": "markdown",
   "id": "3a2e6fc9",
   "metadata": {},
   "source": [
    "<font size=\"3\">Bowling Green, KY: 0200 UTC 14 April 2022-0200 UTC 15 April 2022</font>"
   ]
  },
  {
   "cell_type": "code",
   "execution_count": 138,
   "id": "c761d214",
   "metadata": {},
   "outputs": [
    {
     "name": "stdout",
     "output_type": "stream",
     "text": [
      "[17.2809, 16.0647, 16.5067, 16.2017, 16.5944, 10.742, 9.56207, 7.66379, 7.18307, 6.38971, 6.13129, 6.0903, 7.02267, 8.96884, 11.1934, 12.6404, 13.9837, 14.875, 15.7384, 16.7086, 16.8966, 16.5077, 14.3605, 12.5594, 11.3167]\n"
     ]
    }
   ],
   "source": [
    "#1 hr hrrr:\n",
    "with open('hrrr_f01_Bowling Green_KY.txt') as f:\n",
    "    lst=[line.split()[1] for line in f]\n",
    "    temp=[]\n",
    "    for i in lst:\n",
    "        new=i.replace(',',\"\")\n",
    "        temp.append(new)\n",
    "    temp.pop(0)\n",
    "    temp=[float(x) for x in temp]\n",
    "    temp=temp[2473:2498]\n",
    "    #temp=temp[2015:2063]\n",
    "    print(temp)\n",
    "    #print(len(temp))\n",
    "#full time period is [2015:2112]"
   ]
  },
  {
   "cell_type": "code",
   "execution_count": 139,
   "id": "8b86ff4b",
   "metadata": {},
   "outputs": [],
   "source": [
    "# hour=[]\n",
    "# for i in range(-8,17,1):\n",
    "#     hour.append(i)\n",
    "#     i+=1\n",
    "# print(len(hour))"
   ]
  },
  {
   "cell_type": "code",
   "execution_count": 140,
   "id": "a22a0f0f",
   "metadata": {},
   "outputs": [
    {
     "name": "stdout",
     "output_type": "stream",
     "text": [
      "[16.5, 16.2, 15.8, 16.0, 15.9, 10.6, 8.6, 7.8, 6.8, 6.0, 4.6, 5.5, 7.0, 8.8, 10.9, 12.8, 14.6, 16.0, 17.4, 17.7, 17.6, 16.8, 15.0, 13.4, 11.8]\n"
     ]
    }
   ],
   "source": [
    "#Air Temp CRN:\n",
    "with open('CRNH0203-2022-KY_Bowling_Green_21_NNE.txt') as f:\n",
    "    lst=[line.split()[9] for line in f]\n",
    "    #print(lst)\n",
    "    temp_crn=[]\n",
    "    for i in lst:\n",
    "        new=i.replace(',',\"\")\n",
    "        temp_crn.append(new)\n",
    "    temp_crn=[float(x) for x in temp_crn]\n",
    "    temp_crn=temp_crn[2473:2498]\n",
    "    print(temp_crn)\n",
    "    #print(len(temp_crn))\n",
    "    # print(temp_crn[2124])"
   ]
  },
  {
   "cell_type": "code",
   "execution_count": 141,
   "id": "214cf6fd",
   "metadata": {},
   "outputs": [
    {
     "name": "stdout",
     "output_type": "stream",
     "text": [
      "[0.780899999999999, -0.13530000000000086, 0.7066999999999979, 0.20169999999999888, 0.6943999999999999, 0.14200000000000124, 0.9620700000000006, -0.13621000000000016, 0.38307, 0.38971, 1.5312900000000003, 0.5903, 0.022669999999999746, 0.16883999999999943, 0.2934000000000001, -0.15960000000000107, -0.616299999999999, -1.125, -1.6615999999999982, -0.9913999999999987, -0.703400000000002, -0.2923000000000009, -0.6395, -0.8406000000000002, -0.48329999999999984]\n"
     ]
    }
   ],
   "source": [
    "difference4_bow = []\n",
    "\n",
    "zip_object = zip(temp, temp_crn)\n",
    "for temp_i, temp_crn_i in zip_object:\n",
    "    difference4_bow.append(temp_i-temp_crn_i)\n",
    "\n",
    "print(difference4_bow)"
   ]
  },
  {
   "cell_type": "markdown",
   "id": "d5df1525",
   "metadata": {},
   "source": [
    "<font size=\"3\">Gadsden, AL: 0200 UTC 14 April 2022-0200 UTC 15 April 2022\n",
    "</font>"
   ]
  },
  {
   "cell_type": "code",
   "execution_count": 142,
   "id": "27e32ade",
   "metadata": {},
   "outputs": [
    {
     "name": "stdout",
     "output_type": "stream",
     "text": [
      "[21.2184, 20.7522, 19.2567, 19.0767, 16.7819, 16.8045, 16.6871, 16.4138, 16.1831, 15.8272, 14.5063, 13.2778, 13.3352, 13.6563, 14.7559, 16.0779, 16.9212, 18.0, 18.4884, 19.2086, 19.0841, 18.1952, 16.048, 14.8094, 13.6917]\n"
     ]
    }
   ],
   "source": [
    "#1 hr hrrr:\n",
    "with open('hrrr_f01_Gadsden_AL.txt') as f:\n",
    "    lst=[line.split()[1] for line in f]\n",
    "    temp=[]\n",
    "    for i in lst:\n",
    "        new=i.replace(',',\"\")\n",
    "        temp.append(new)\n",
    "    temp.pop(0)\n",
    "    temp=[float(x) for x in temp]\n",
    "    temp=temp[2473:2498]\n",
    "    #temp=temp[2015:2063]\n",
    "    print(temp)\n",
    "    #print(len(temp))\n",
    "#full time period is [2015:2112]"
   ]
  },
  {
   "cell_type": "code",
   "execution_count": 143,
   "id": "4dd09550",
   "metadata": {},
   "outputs": [
    {
     "name": "stdout",
     "output_type": "stream",
     "text": [
      "[20.9, 20.7, 18.9, 17.8, 16.4, 15.3, 15.2, 15.1, 15.1, 15.2, 14.5, 12.9, 13.2, 13.6, 14.2, 15.6, 16.8, 17.8, 18.5, 18.7, 18.7, 18.2, 16.8, 14.0, 12.4]\n"
     ]
    }
   ],
   "source": [
    "#Air Temp CRN:\n",
    "with open('CRNH0203-2022-AL_Gadsden_19_N.txt') as f:\n",
    "    lst=[line.split()[9] for line in f]\n",
    "    #print(lst)\n",
    "    temp_crn=[]\n",
    "    for i in lst:\n",
    "        new=i.replace(',',\"\")\n",
    "        temp_crn.append(new)\n",
    "    temp_crn=[float(x) for x in temp_crn]\n",
    "    temp_crn=temp_crn[2473:2498]\n",
    "    print(temp_crn)\n",
    "    #print(len(temp_crn))\n",
    "    # print(temp_crn[2124])"
   ]
  },
  {
   "cell_type": "code",
   "execution_count": 144,
   "id": "7476701f",
   "metadata": {},
   "outputs": [
    {
     "name": "stdout",
     "output_type": "stream",
     "text": [
      "[0.31840000000000046, 0.052199999999999136, 0.3567, 1.2766999999999982, 0.3819000000000017, 1.5045000000000002, 1.4871000000000016, 1.3137999999999987, 1.0831, 0.6272000000000002, 0.006299999999999528, 0.3777999999999988, 0.1352000000000011, 0.05630000000000024, 0.5559000000000012, 0.4779, 0.1211999999999982, 0.1999999999999993, -0.011600000000001387, 0.5086000000000013, 0.3841000000000001, -0.004799999999999471, -0.7520000000000024, 0.8094000000000001, 1.2917000000000005]\n"
     ]
    }
   ],
   "source": [
    "difference4_gad = []\n",
    "\n",
    "zip_object = zip(temp, temp_crn)\n",
    "for temp_i, temp_crn_i in zip_object:\n",
    "    difference4_gad.append(temp_i-temp_crn_i)\n",
    "\n",
    "print(difference4_gad)"
   ]
  },
  {
   "cell_type": "markdown",
   "id": "047f5261",
   "metadata": {},
   "source": [
    "<font size=\"3\">Newton, GA: 0600 UTC 14 April 2022-0600 UTC 15 April 2022\n",
    "</font>"
   ]
  },
  {
   "cell_type": "code",
   "execution_count": 145,
   "id": "03eee81f",
   "metadata": {},
   "outputs": [
    {
     "name": "stdout",
     "output_type": "stream",
     "text": [
      "[17.1569, 17.117, 16.9996, 17.0388, 18.3706, 17.5147, 18.4438, 20.0903, 21.2727, 22.4063, 24.3184, 25.2029, 25.2337, 25.6875, 25.1759, 25.2086, 25.0841, 24.4452, 22.3605, 21.1844, 20.1917, 18.8815, 17.9935, 17.0558, 16.1996]\n"
     ]
    }
   ],
   "source": [
    "#1 hr hrrr:\n",
    "with open('hrrr_f01_Newton_GA.txt') as f:\n",
    "    lst=[line.split()[1] for line in f]\n",
    "    temp=[]\n",
    "    for i in lst:\n",
    "        new=i.replace(',',\"\")\n",
    "        temp.append(new)\n",
    "    temp.pop(0)\n",
    "    temp=[float(x) for x in temp]\n",
    "    temp=temp[2477:2502]\n",
    "    #temp=temp[2015:2063]\n",
    "    print(temp)\n",
    "    #print(len(temp))\n",
    "#full time period is [2015:2112]"
   ]
  },
  {
   "cell_type": "code",
   "execution_count": 146,
   "id": "fb2e17c3",
   "metadata": {},
   "outputs": [
    {
     "name": "stdout",
     "output_type": "stream",
     "text": [
      "[17.5, 16.4, 17.7, 19.6, 18.7, 18.0, 18.1, 18.4, 19.5, 20.3, 21.5, 22.3, 22.9, 23.1, 23.6, 24.0, 24.2, 23.9, 22.9, 21.1, 19.3, 18.2, 17.2, 16.3, 16.0]\n"
     ]
    }
   ],
   "source": [
    "#Air Temp CRN:\n",
    "with open('CRNH0203-2022-GA_Newton_11_SW.txt') as f:\n",
    "    lst=[line.split()[9] for line in f]\n",
    "    #print(lst)\n",
    "    temp_crn=[]\n",
    "    for i in lst:\n",
    "        new=i.replace(',',\"\")\n",
    "        temp_crn.append(new)\n",
    "    temp_crn=[float(x) for x in temp_crn]\n",
    "    temp_crn=temp_crn[2477:2502]\n",
    "    print(temp_crn)\n",
    "    #print(len(temp_crn))\n",
    "    # print(temp_crn[2124])"
   ]
  },
  {
   "cell_type": "code",
   "execution_count": 147,
   "id": "37b874ca",
   "metadata": {},
   "outputs": [
    {
     "name": "stdout",
     "output_type": "stream",
     "text": [
      "[-0.34309999999999974, 0.7170000000000023, -0.7003999999999984, -2.561200000000003, -0.3293999999999997, -0.48529999999999873, 0.3437999999999981, 1.6903000000000006, 1.7727000000000004, 2.106300000000001, 2.8184000000000005, 2.902899999999999, 2.3337000000000003, 2.5874999999999986, 1.5758999999999972, 1.2086000000000006, 0.8841000000000001, 0.5452000000000012, -0.5395000000000003, 0.0843999999999987, 0.8917000000000002, 0.6814999999999998, 0.7935000000000016, 0.7558000000000007, 0.19960000000000022]\n"
     ]
    }
   ],
   "source": [
    "difference4_newt = []\n",
    "\n",
    "zip_object = zip(temp, temp_crn)\n",
    "for temp_i, temp_crn_i in zip_object:\n",
    "    difference4_newt.append(temp_i-temp_crn_i)\n",
    "\n",
    "print(difference4_newt)"
   ]
  },
  {
   "cell_type": "code",
   "execution_count": 148,
   "id": "d5fd370b",
   "metadata": {},
   "outputs": [
    {
     "name": "stdout",
     "output_type": "stream",
     "text": [
      "[-0.0196      0.01196667  0.2445      0.75945833  0.86848333  0.48295833\n",
      "  0.10128333  0.24115833  0.162775   -0.001275    0.05575833  0.03653333\n",
      " -0.03714167  0.2756      0.0324175  -0.1630525  -0.33337833 -0.43974818\n",
      " -0.19540091 -0.34672455 -0.41190818 -0.54496417 -0.17359    -0.131175\n",
      " -0.1306975 ]\n",
      "[0.98909919 1.54345706 1.04542219 1.35890054 1.66491313 1.22033504\n",
      " 0.70511812 0.5078746  0.6284032  0.87379571 0.65575338 0.5406332\n",
      " 0.83250722 0.9779997  0.83639173 0.94788379 0.89732029 0.70480532\n",
      " 0.58329723 0.74471196 0.74738483 0.89277778 0.6450237  0.61530933\n",
      " 0.6561988 ]\n"
     ]
    },
    {
     "name": "stderr",
     "output_type": "stream",
     "text": [
      "C:\\Users\\panwalaf\\AppData\\Local\\Temp\\ipykernel_17184\\2360887579.py:3: UserWarning: Warning: converting a masked element to nan.\n",
      "  c1 = np.array([difference1_sal,difference1_bat,difference1_laf,difference1_mon,difference1_hol,difference1_new,difference1_gai,difference1_fai,difference1_sel,difference1_bow,difference1_gad,difference1_newt])\n",
      "C:\\Users\\panwalaf\\AppData\\Local\\Temp\\ipykernel_17184\\2360887579.py:8: UserWarning: Warning: converting a masked element to nan.\n",
      "  b1 = np.array([difference1_sal,difference1_bat,difference1_laf,difference1_mon,difference1_hol,difference1_new,difference1_gai,difference1_fai,difference1_sel,difference1_bow,difference1_gad,difference1_newt])\n"
     ]
    },
    {
     "data": {
      "text/plain": [
       "25"
      ]
     },
     "execution_count": 148,
     "metadata": {},
     "output_type": "execute_result"
    }
   ],
   "source": [
    "# data = np.array([difference1_sal,difference1_sel,difference1_mon])\n",
    "# np.ma.average(data, axis=0)\n",
    "c1 = np.array([difference1_sal,difference1_bat,difference1_laf,difference1_mon,difference1_hol,difference1_new,difference1_gai,difference1_fai,difference1_sel,difference1_bow,difference1_gad,difference1_newt])\n",
    "c1=np.nanmean(c1, axis=0)\n",
    "print(c1)\n",
    "len(c1)\n",
    "\n",
    "b1 = np.array([difference1_sal,difference1_bat,difference1_laf,difference1_mon,difference1_hol,difference1_new,difference1_gai,difference1_fai,difference1_sel,difference1_bow,difference1_gad,difference1_newt])\n",
    "b1=np.nanstd(b1, axis=0)\n",
    "print(b1)\n",
    "len(b1)"
   ]
  },
  {
   "cell_type": "code",
   "execution_count": 149,
   "id": "0400ce89",
   "metadata": {
    "scrolled": false
   },
   "outputs": [],
   "source": [
    "# def mean(numbers):\n",
    "#     return float(sum(numbers)) / max(len(numbers), 1)\n",
    "\n",
    "# # difference1_sel[17]=None\n",
    "# # difference1_sel[18]=None\n",
    "# # difference1_sel[19]=None\n",
    "# # difference1_sel[20]=None\n",
    "# c1 = [mean(i) for i in zip(difference1_sal,difference1_bat,difference1_laf,difference1_mon,difference1_hol,difference1_new,difference1_gai,difference1_fai,difference1_sel,difference1_bow,difference1_gad,difference1_newt)]\n",
    "# #difference1_bow[6]=0\n",
    "# b1 = [np.std(i) for i in zip(difference1_sal,difference1_bat,difference1_laf,difference1_mon,difference1_hol,difference1_new,difference1_gai,difference1_fai,difference1_sel,difference1_bow,difference1_gad,difference1_newt)]\n",
    "# print (c1)\n",
    "# print(len(c1))\n",
    "# print(b1)\n",
    "# print(len(b1))"
   ]
  },
  {
   "cell_type": "code",
   "execution_count": 150,
   "id": "7d6e3e43",
   "metadata": {},
   "outputs": [
    {
     "data": {
      "image/png": "[encoded data removed]",
      "text/plain": [
       "<Figure size 792x396 with 1 Axes>"
      ]
     },
     "metadata": {},
     "output_type": "display_data"
    }
   ],
   "source": [
    "plt.style.use('seaborn-whitegrid')\n",
    "plt.rcParams[\"figure.figsize\"] = [11.00, 5.50]\n",
    "plt.rcParams[\"figure.autolayout\"] = True\n",
    "plt.yticks(np.arange(-5,6,1))\n",
    "plt.ylim(-5,5)\n",
    "# c[6]=None\n",
    "# b[6]=None\n",
    "\n",
    "plt.plot(hour,c1,c=\"black\")\n",
    "plt.errorbar(hour,c1,yerr=b1,linestyle='None', marker='s')\n",
    "# c[6]=None\n",
    "# b[6]=None\n",
    "\n",
    "plt.title(\"1-hr Avg. MBE All Stations\")\n",
    "plt.xlabel(\"Time Relative to Event Passage\")\n",
    "plt.ylabel(\"MBE Air Temperature (C)\")\n",
    "#plt.plot(hour,c)\n",
    "#plt.errorbar(hour,c,yerr=b,ecolor='r',elinewidth=5,fmt='s',color='k')\n",
    "#plt.grid()\n",
    "plt.xticks(np.arange(min(hour), max(hour)+1, 1.0))\n",
    "plt.show()\n",
    "#plt.axvspan(-4, 4, color='green', alpha=0.2, lw=0)"
   ]
  },
  {
   "cell_type": "code",
   "execution_count": 151,
   "id": "3931d44b",
   "metadata": {},
   "outputs": [
    {
     "name": "stdout",
     "output_type": "stream",
     "text": [
      "[ 0.18856667  0.26384167  0.329225    0.76        1.07321667  1.48150833\n",
      "  1.35900909  0.87263333  0.63085     0.532075    0.06333667 -0.21848667\n",
      "  0.03145     0.3265825   0.13374917  0.0228175  -0.07237    -0.0262175\n",
      "  0.44680167  0.28694333  0.40505333  0.19322583  0.07278083  0.20947667\n",
      "  0.72438833]\n",
      "[1.09049612 0.95001332 1.10686974 1.00034489 1.05299921 1.01118903\n",
      " 1.02162285 0.65226781 0.57031702 1.09358667 1.11312975 1.06511873\n",
      " 0.87748148 0.91514266 0.57800304 0.79898219 0.79044288 0.93591147\n",
      " 1.00138884 0.95998752 0.96971283 0.76732912 0.71757118 0.8189509\n",
      " 1.12731836]\n"
     ]
    },
    {
     "name": "stderr",
     "output_type": "stream",
     "text": [
      "C:\\Users\\panwalaf\\AppData\\Local\\Temp\\ipykernel_17184\\2317409182.py:1: UserWarning: Warning: converting a masked element to nan.\n",
      "  c2 = np.array([difference2_sal,difference2_bat,difference2_laf,difference2_mon,difference2_hol,difference2_new,difference2_gai,difference2_fai,difference2_sel,difference2_bow,difference2_gad,difference2_newt])\n",
      "C:\\Users\\panwalaf\\AppData\\Local\\Temp\\ipykernel_17184\\2317409182.py:6: UserWarning: Warning: converting a masked element to nan.\n",
      "  b2 = np.array([difference2_sal,difference2_bat,difference2_laf,difference2_mon,difference2_hol,difference2_new,difference2_gai,difference2_fai,difference2_sel,difference2_bow,difference2_gad,difference2_newt])\n"
     ]
    },
    {
     "data": {
      "text/plain": [
       "25"
      ]
     },
     "execution_count": 151,
     "metadata": {},
     "output_type": "execute_result"
    }
   ],
   "source": [
    "c2 = np.array([difference2_sal,difference2_bat,difference2_laf,difference2_mon,difference2_hol,difference2_new,difference2_gai,difference2_fai,difference2_sel,difference2_bow,difference2_gad,difference2_newt])\n",
    "c2=np.nanmean(c2, axis=0)\n",
    "print(c2)\n",
    "len(c2)\n",
    "\n",
    "b2 = np.array([difference2_sal,difference2_bat,difference2_laf,difference2_mon,difference2_hol,difference2_new,difference2_gai,difference2_fai,difference2_sel,difference2_bow,difference2_gad,difference2_newt])\n",
    "b2=np.nanstd(b2, axis=0)\n",
    "print(b2)\n",
    "len(b2)"
   ]
  },
  {
   "cell_type": "code",
   "execution_count": 152,
   "id": "7be0954b",
   "metadata": {
    "scrolled": false
   },
   "outputs": [],
   "source": [
    "# def mean(numbers):\n",
    "#     return float(sum(numbers)) / max(len(numbers), 1)\n",
    "\n",
    "# # difference1_sel[17]=0\n",
    "# # difference1_sel[18]=0\n",
    "# # difference1_sel[19]=0\n",
    "# # difference1_sel[20]=0\n",
    "# c2 = [mean(i) for i in zip(difference2_sal,difference2_bat,difference2_laf,difference2_mon,difference2_hol,difference2_new,difference2_gai,difference2_fai,difference2_sel,difference2_bow,difference2_gad,difference2_newt)]\n",
    "# #difference1_bow[6]=0\n",
    "# b2 = [np.std(i) for i in zip(difference2_sal,difference2_bat,difference2_laf,difference2_mon,difference2_hol,difference2_new,difference2_gai,difference2_fai,difference2_sel,difference2_bow,difference2_gad,difference2_newt)]\n",
    "# print (c2)\n",
    "# print(len(c2))\n",
    "# print(b2)\n",
    "# print(len(b2))"
   ]
  },
  {
   "cell_type": "code",
   "execution_count": 153,
   "id": "4c8ac8a3",
   "metadata": {},
   "outputs": [
    {
     "data": {
      "image/png": "[encoded data removed]",
      "text/plain": [
       "<Figure size 792x396 with 1 Axes>"
      ]
     },
     "metadata": {},
     "output_type": "display_data"
    }
   ],
   "source": [
    "plt.style.use('seaborn-whitegrid')\n",
    "plt.rcParams[\"figure.figsize\"] = [11.00, 5.50]\n",
    "plt.rcParams[\"figure.autolayout\"] = True\n",
    "plt.yticks(np.arange(-5,6,1))\n",
    "plt.ylim(-5,5)\n",
    "# c[6]=None\n",
    "# b[6]=None\n",
    "\n",
    "plt.plot(hour,c2,c=\"black\")\n",
    "plt.errorbar(hour,c2,c=\"r\",yerr=b2,linestyle='None', marker='s')\n",
    "# c[6]=None\n",
    "# b[6]=None\n",
    "\n",
    "plt.title(\"1-hr Avg. MBE All Stations\")\n",
    "plt.xlabel(\"Time Relative to Event Passage\")\n",
    "plt.ylabel(\"MBE Air Temperature (C)\")\n",
    "#plt.plot(hour,c)\n",
    "#plt.errorbar(hour,c,yerr=b,ecolor='r',elinewidth=5,fmt='s',color='k')\n",
    "#plt.grid()\n",
    "plt.xticks(np.arange(min(hour), max(hour)+1, 1.0))\n",
    "plt.show()\n",
    "#plt.axvspan(-4, 4, color='green', alpha=0.2, lw=0)"
   ]
  },
  {
   "cell_type": "code",
   "execution_count": 154,
   "id": "e7aee5e0",
   "metadata": {},
   "outputs": [
    {
     "name": "stdout",
     "output_type": "stream",
     "text": [
      "[ 0.95124167  0.7866      0.9149      1.17055833  1.66783333  0.84376667\n",
      "  0.811425   -0.06134167 -0.12768333 -0.46009167 -0.42398333 -0.58060833\n",
      " -0.55593333 -0.5246     -0.29111667 -0.01109917  0.00335    -0.15036667\n",
      " -0.25724167  0.07760833  0.08998333 -0.005675    0.14410833  0.23072417\n",
      "  0.27845583]\n",
      "[0.91662595 1.28672566 1.16327435 1.06700655 1.11857941 1.13706667\n",
      " 1.27305243 1.56961472 1.31886451 1.21399135 1.06711764 1.09110508\n",
      " 0.85743301 0.82670858 1.03098903 1.17761219 0.92010212 0.61267372\n",
      " 0.55198261 0.59717051 0.60066316 0.96432167 0.82982176 1.04028311\n",
      " 0.98383785]\n"
     ]
    },
    {
     "data": {
      "text/plain": [
       "25"
      ]
     },
     "execution_count": 154,
     "metadata": {},
     "output_type": "execute_result"
    }
   ],
   "source": [
    "c3 = np.array([difference3_sal,difference3_bat,difference3_laf,difference3_mon,difference3_hol,difference3_new,difference3_gai,difference3_fai,difference3_sel,difference3_bow,difference3_gad,difference3_newt])\n",
    "c3=np.nanmean(c3, axis=0)\n",
    "print(c3)\n",
    "len(c3)\n",
    "\n",
    "b3 = np.array([difference3_sal,difference3_bat,difference3_laf,difference3_mon,difference3_hol,difference3_new,difference3_gai,difference3_fai,difference3_sel,difference3_bow,difference3_gad,difference3_newt])\n",
    "b3=np.nanstd(b3, axis=0)\n",
    "print(b3)\n",
    "len(b3)"
   ]
  },
  {
   "cell_type": "code",
   "execution_count": 155,
   "id": "0d8bef30",
   "metadata": {
    "scrolled": false
   },
   "outputs": [],
   "source": [
    "# def mean(numbers):\n",
    "#     return float(sum(numbers)) / max(len(numbers), 1)\n",
    "\n",
    "# # difference1_sel[17]=0\n",
    "# # difference1_sel[18]=0\n",
    "# # difference1_sel[19]=0\n",
    "# # difference1_sel[20]=0\n",
    "# c3 = [mean(i) for i in zip(difference3_sal,difference3_bat,difference3_laf,difference3_mon,difference3_hol,difference3_new,difference3_gai,difference3_fai,difference3_sel,difference3_bow,difference3_gad,difference3_newt)]\n",
    "# #difference1_bow[6]=0\n",
    "# b3 = [np.std(i) for i in zip(difference3_sal,difference3_bat,difference3_laf,difference3_mon,difference3_hol,difference3_new,difference3_gai,difference3_fai,difference3_sel,difference3_bow,difference3_gad,difference3_newt)]\n",
    "# print (c3)\n",
    "# print(len(c3))\n",
    "# print(b3)\n",
    "# print(len(b3))"
   ]
  },
  {
   "cell_type": "code",
   "execution_count": 156,
   "id": "00a5e783",
   "metadata": {},
   "outputs": [
    {
     "data": {
      "image/png": "[encoded data removed]",
      "text/plain": [
       "<Figure size 792x396 with 1 Axes>"
      ]
     },
     "metadata": {},
     "output_type": "display_data"
    }
   ],
   "source": [
    "plt.style.use('seaborn-whitegrid')\n",
    "plt.rcParams[\"figure.figsize\"] = [11.00, 5.50]\n",
    "plt.rcParams[\"figure.autolayout\"] = True\n",
    "plt.yticks(np.arange(-5,6,1))\n",
    "plt.ylim(-5,5)\n",
    "# c[6]=None\n",
    "# b[6]=None\n",
    "\n",
    "plt.plot(hour,c3,c=\"green\")\n",
    "plt.errorbar(hour,c3,c=\"green\",yerr=b3,linestyle='None', marker='s')\n",
    "# c[6]=None\n",
    "# b[6]=None\n",
    "\n",
    "plt.title(\"1-hr Avg. MBE All Stations\")\n",
    "plt.xlabel(\"Time Relative to Event Passage\")\n",
    "plt.ylabel(\"MBE Air Temperature (C)\")\n",
    "#plt.plot(hour,c)\n",
    "#plt.errorbar(hour,c,yerr=b,ecolor='r',elinewidth=5,fmt='s',color='k')\n",
    "#plt.grid()\n",
    "plt.xticks(np.arange(min(hour), max(hour)+1, 1.0))\n",
    "plt.show()\n",
    "#plt.axvspan(-4, 4, color='green', alpha=0.2, lw=0)"
   ]
  },
  {
   "cell_type": "code",
   "execution_count": 157,
   "id": "b2d7f7dd",
   "metadata": {},
   "outputs": [
    {
     "name": "stdout",
     "output_type": "stream",
     "text": [
      "[0.25195    0.318725   0.47465    0.636575   0.91255    0.59546667\n",
      " 0.8691     0.4963025  0.95966083 0.55005417 0.725165   0.79511583\n",
      " 0.40667667 0.37480833 0.1160875  0.20306    0.08743583 0.30931167\n",
      " 0.3213565  0.49467042 0.63882658 0.62522308 0.514475   0.67323667\n",
      " 0.696915  ]\n",
      "[0.90913082 1.27419343 1.22952862 1.35942938 1.16095354 1.74255888\n",
      " 0.96537659 1.33603483 1.0915686  0.75352457 0.83905519 0.91009846\n",
      " 0.73755281 0.99919016 0.8022619  0.70867243 1.18272771 1.10743584\n",
      " 1.30824007 1.1262369  0.97736588 0.97417738 1.27895849 0.90678623\n",
      " 1.03656496]\n"
     ]
    },
    {
     "data": {
      "text/plain": [
       "25"
      ]
     },
     "execution_count": 157,
     "metadata": {},
     "output_type": "execute_result"
    }
   ],
   "source": [
    "c4 = np.array([difference4_sal,difference4_bat,difference4_laf,difference4_mon,difference4_hol,difference4_new,difference4_gai,difference4_fai,difference4_sel,difference4_bow,difference4_gad,difference4_newt])\n",
    "c4=np.nanmean(c4, axis=0)\n",
    "print(c4)\n",
    "len(c4)\n",
    "\n",
    "b4 = np.array([difference4_sal,difference4_bat,difference4_laf,difference4_mon,difference4_hol,difference4_new,difference4_gai,difference4_fai,difference4_sel,difference4_bow,difference4_gad,difference4_newt])\n",
    "b4=np.nanstd(b4, axis=0)\n",
    "print(b4)\n",
    "len(b4)"
   ]
  },
  {
   "cell_type": "code",
   "execution_count": 158,
   "id": "b1774c6c",
   "metadata": {
    "scrolled": false
   },
   "outputs": [],
   "source": [
    "# def mean(numbers):\n",
    "#     return float(sum(numbers)) / max(len(numbers), 1)\n",
    "\n",
    "# # difference1_sel[17]=0\n",
    "# # difference1_sel[18]=0\n",
    "# # difference1_sel[19]=0\n",
    "# # difference1_sel[20]=0\n",
    "# c4 = [mean(i) for i in zip(difference4_sal,difference4_bat,difference4_laf,difference4_mon,difference4_hol,difference4_new,difference4_gai,difference4_fai,difference4_sel,difference4_bow,difference4_gad,difference4_newt)]\n",
    "# #difference1_bow[6]=0\n",
    "# b4 = [np.std(i) for i in zip(difference4_sal,difference4_bat,difference4_laf,difference4_mon,difference4_hol,difference4_new,difference4_gai,difference4_fai,difference4_sel,difference4_bow,difference4_gad,difference4_newt)]\n",
    "# print (c4)\n",
    "# print(len(c4))\n",
    "# print(b4)\n",
    "# print(len(b4))"
   ]
  },
  {
   "cell_type": "code",
   "execution_count": 159,
   "id": "e70a6cef",
   "metadata": {},
   "outputs": [
    {
     "data": {
      "image/png": "[encoded data removed]",
      "text/plain": [
       "<Figure size 792x396 with 1 Axes>"
      ]
     },
     "metadata": {},
     "output_type": "display_data"
    }
   ],
   "source": [
    "plt.style.use('seaborn-whitegrid')\n",
    "plt.rcParams[\"figure.figsize\"] = [11.00, 5.50]\n",
    "plt.rcParams[\"figure.autolayout\"] = True\n",
    "plt.yticks(np.arange(-5,6,1))\n",
    "plt.ylim(-5,5)\n",
    "# c[6]=None\n",
    "# b[6]=None\n",
    "\n",
    "plt.plot(hour,c4,c=\"orange\")\n",
    "plt.errorbar(hour,c4,c=\"orange\",yerr=b4,linestyle='None', marker='s')\n",
    "# c[6]=None\n",
    "# b[6]=None\n",
    "\n",
    "plt.title(\"1-hr Avg. MBE All Stations\")\n",
    "plt.xlabel(\"Time Relative to Event Passage\")\n",
    "plt.ylabel(\"MBE Air Temperature (C)\")\n",
    "#plt.plot(hour,c)\n",
    "#plt.errorbar(hour,c,yerr=b,ecolor='r',elinewidth=5,fmt='s',color='k')\n",
    "#plt.grid()\n",
    "plt.xticks(np.arange(min(hour), max(hour)+1, 1.0))\n",
    "plt.show()\n",
    "#plt.axvspan(-4, 4, color='green', alpha=0.2, lw=0)"
   ]
  },
  {
   "cell_type": "code",
   "execution_count": null,
   "id": "f721b50a",
   "metadata": {},
   "outputs": [],
   "source": []
  },
  {
   "cell_type": "code",
   "execution_count": 160,
   "id": "240eafe4",
   "metadata": {},
   "outputs": [
    {
     "data": {
      "image/png": "[encoded data removed]",
      "text/plain": [
       "<Figure size 792x396 with 1 Axes>"
      ]
     },
     "metadata": {},
     "output_type": "display_data"
    }
   ],
   "source": [
    "plt.style.use('seaborn-whitegrid')\n",
    "plt.rcParams[\"figure.figsize\"] = [11.00, 5.50]\n",
    "plt.rcParams[\"figure.autolayout\"] = True\n",
    "plt.yticks(np.arange(-5,6,1))\n",
    "plt.ylim(-5,5)\n",
    "\n",
    "plt.plot(hour,c1,c=\"b\",label=\"IOP 1\")\n",
    "plt.errorbar(hour,c1,c=\"b\",yerr=b1,linestyle='None', marker='s')\n",
    "\n",
    "plt.plot(hour,c2,c=\"r\",label=\"IOP 2\")\n",
    "plt.errorbar(hour,c2,c=\"r\",yerr=b2,linestyle='None', marker='s')\n",
    "\n",
    "plt.plot(hour,c3,c=\"green\")\n",
    "plt.errorbar(hour,c3,c=\"green\",yerr=b3,linestyle='None', marker='s')\n",
    "\n",
    "plt.plot(hour,c4,c=\"orange\")\n",
    "plt.errorbar(hour,c4,c=\"orange\",yerr=b4,linestyle='None', marker='s')\n",
    "\n",
    "plt.title(\"1-hr Avg. MBE All Stations\")\n",
    "plt.xlabel(\"Time Relative to Event Passage\")\n",
    "plt.ylabel(\"MBE Air Temperature (C)\")\n",
    "#plt.plot(hour,c)\n",
    "#plt.errorbar(hour,c,yerr=b,ecolor='r',elinewidth=5,fmt='s',color='k')\n",
    "#plt.grid()\n",
    "plt.xticks(np.arange(min(hour), max(hour)+1, 1.0))\n",
    "plt.legend([\"IOP 1\", \"IOP 2\",\"IOP 3\",\"IOP 4\"], loc =\"lower right\")\n",
    "plt.show()"
   ]
  },
  {
   "cell_type": "code",
   "execution_count": null,
   "id": "f20cc188",
   "metadata": {},
   "outputs": [],
   "source": []
  }
 ],
 "metadata": {
  "kernelspec": {
   "display_name": "Python 3 (ipykernel)",
   "language": "python",
   "name": "python3"
  },
  "language_info": {
   "codemirror_mode": {
    "name": "ipython",
    "version": 3
   },
   "file_extension": ".py",
   "mimetype": "text/x-python",
   "name": "python",
   "nbconvert_exporter": "python",
   "pygments_lexer": "ipython3",
   "version": "3.9.12"
  }
 },
 "nbformat": 4,
 "nbformat_minor": 5
}
