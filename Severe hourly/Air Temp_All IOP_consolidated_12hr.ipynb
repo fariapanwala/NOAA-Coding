{
 "cells": [
  {
   "cell_type": "code",
   "execution_count": 1,
   "id": "83d28093",
   "metadata": {},
   "outputs": [],
   "source": [
    "import numpy as np\n",
    "import matplotlib.pyplot as plt\n",
    "import math"
   ]
  },
  {
   "cell_type": "markdown",
   "id": "18ad22a0",
   "metadata": {},
   "source": [
    "<font size=\"3\">Salem, MO: 1200 UTC 22 March 2022-1200 UTC 23 March 2022</font>"
   ]
  },
  {
   "cell_type": "code",
   "execution_count": 2,
   "id": "9236619f",
   "metadata": {},
   "outputs": [
    {
     "name": "stdout",
     "output_type": "stream",
     "text": [
      "[11.045, 12.4084, 12.9207, 13.5876, 14.0399, 14.7673, 14.8621, 14.7643, 14.7425, 14.4402, 13.1906, 13.3362, 12.7822, 12.2495, 12.368, 12.325, 11.4661, 10.2885, 10.0953, 9.58463, 7.87729, 7.60562, 6.36633, 6.72891, 6.3024]\n",
      "25\n"
     ]
    }
   ],
   "source": [
    "#12 hr hrrr:\n",
    "with open('hrrr_f12_Salem_MO.txt') as f:\n",
    "    lst=[line.split()[1] for line in f]\n",
    "    temp=[]\n",
    "    for i in lst:\n",
    "        new=i.replace(',',\"\")\n",
    "        temp.append(new)\n",
    "    temp.pop(0)\n",
    "    temp=[float(x) for x in temp]\n",
    "    temp=temp[1920:1945]\n",
    "    #temp=temp[2015:2063]\n",
    "    print(temp)\n",
    "    print(len(temp))\n",
    "#full time period is [2015:2112]"
   ]
  },
  {
   "cell_type": "code",
   "execution_count": 3,
   "id": "e9d4dbcc",
   "metadata": {},
   "outputs": [
    {
     "name": "stdout",
     "output_type": "stream",
     "text": [
      "[10.8, 12.4, 12.9, 12.5, 12.8, 13.3, 13.7, 14.6, 14.7, 14.4, 13.8, 13.1, 12.0, 11.8, 11.5, 11.5, 10.5, 10.0, 9.7, 9.2, 8.3, 7.3, 6.3, 5.9, 5.9]\n"
     ]
    }
   ],
   "source": [
    "#Air Temp CRN:\n",
    "with open('CRNH0203-2022-MO_Salem_10_W.txt') as f:\n",
    "    lst=[line.split()[9] for line in f]\n",
    "    #print(lst)\n",
    "    temp_crn=[]\n",
    "    for i in lst:\n",
    "        new=i.replace(',',\"\")\n",
    "        temp_crn.append(new)\n",
    "    temp_crn=[float(x) for x in temp_crn]\n",
    "    temp_crn=temp_crn[1931:1956]\n",
    "    print(temp_crn)\n",
    "    #print(len(temp_crn))\n",
    "    # print(temp_crn[2124])"
   ]
  },
  {
   "cell_type": "code",
   "execution_count": 4,
   "id": "75f1136d-8437-4565-9336-ca8529a631e6",
   "metadata": {},
   "outputs": [
    {
     "name": "stdout",
     "output_type": "stream",
     "text": [
      "25\n"
     ]
    }
   ],
   "source": [
    "hour=[]\n",
    "for i in range(-12,13,1):\n",
    "    hour.append(i)\n",
    "    i+=1\n",
    "print(len(hour))"
   ]
  },
  {
   "cell_type": "code",
   "execution_count": 5,
   "id": "1e9aed03-d99c-4045-812a-e26bcc99b84f",
   "metadata": {},
   "outputs": [
    {
     "name": "stdout",
     "output_type": "stream",
     "text": [
      "[0.24499999999999922, 0.008399999999999963, 0.02069999999999972, 1.0876000000000001, 1.2398999999999987, 1.4672999999999998, 1.1621000000000006, 0.16430000000000078, 0.042500000000000426, 0.04020000000000046, -0.6094000000000008, 0.2362000000000002, 0.7821999999999996, 0.4494999999999987, 0.8680000000000003, 0.8249999999999993, 0.9661000000000008, 0.28850000000000087, 0.39530000000000065, 0.38463000000000136, -0.42271000000000036, 0.3056200000000002, 0.06632999999999978, 0.8289099999999996, 0.4023999999999992]\n"
     ]
    }
   ],
   "source": [
    "difference1_sal = []\n",
    "\n",
    "zip_object = zip(temp, temp_crn)\n",
    "for temp_i, temp_crn_i in zip_object:\n",
    "    difference1_sal.append(temp_i-temp_crn_i)\n",
    "\n",
    "print(difference1_sal)"
   ]
  },
  {
   "cell_type": "markdown",
   "id": "9043c519",
   "metadata": {},
   "source": [
    "<font size=\"3\">Batesville, AR: 1200 UTC 22 March 2022-1200 UTC 23 March 2022</font>"
   ]
  },
  {
   "cell_type": "code",
   "execution_count": 6,
   "id": "ee5d006f",
   "metadata": {},
   "outputs": [
    {
     "name": "stdout",
     "output_type": "stream",
     "text": [
      "[13.42, 13.2834, 13.9832, 15.2751, 14.8524, 14.9548, 14.6746, 13.9518, 15.805, 15.0652, 15.6281, 14.5862, 14.0322, 13.812, 13.868, 13.7, 11.4661, 9.60104, 8.97034, 8.83463, 7.75229, 6.35562, 6.55383, 6.60391, 6.6774]\n",
      "25\n"
     ]
    }
   ],
   "source": [
    "#12 hr hrrr:\n",
    "with open('hrrr_f12_Batesville_AR.txt') as f:\n",
    "    lst=[line.split()[1] for line in f]\n",
    "    temp=[]\n",
    "    for i in lst:\n",
    "        new=i.replace(',',\"\")\n",
    "        temp.append(new)\n",
    "    temp.pop(0)\n",
    "    temp=[float(x) for x in temp]\n",
    "    temp=temp[1920:1945]\n",
    "    #temp=temp[2015:2063]\n",
    "    print(temp)\n",
    "    print(len(temp))\n",
    "#full time period is [2015:2112]"
   ]
  },
  {
   "cell_type": "code",
   "execution_count": 7,
   "id": "11b7f8b7",
   "metadata": {},
   "outputs": [
    {
     "name": "stdout",
     "output_type": "stream",
     "text": [
      "[12.8, 13.1, 13.2, 13.3, 13.4, 13.4, 13.4, 13.3, 13.9, 14.2, 14.3, 14.1, 13.5, 13.0, 12.8, 12.6, 11.5, 10.9, 10.0, 8.6, 7.6, 7.2, 7.0, 6.8, 6.7]\n"
     ]
    }
   ],
   "source": [
    "#Air Temp CRN:\n",
    "with open('CRNH0203-2022-AR_Batesville_8_WNW.txt') as f:\n",
    "    lst=[line.split()[9] for line in f]\n",
    "    #print(lst)\n",
    "    temp_crn=[]\n",
    "    for i in lst:\n",
    "        new=i.replace(',',\"\")\n",
    "        temp_crn.append(new)\n",
    "    temp_crn=[float(x) for x in temp_crn]\n",
    "    temp_crn=temp_crn[1931:1956]\n",
    "    print(temp_crn)\n",
    "    #print(len(temp_crn))\n",
    "    # print(temp_crn[2124])"
   ]
  },
  {
   "cell_type": "code",
   "execution_count": 8,
   "id": "62a46873",
   "metadata": {},
   "outputs": [
    {
     "name": "stdout",
     "output_type": "stream",
     "text": [
      "[0.6199999999999992, 0.18340000000000067, 0.7832000000000008, 1.9750999999999994, 1.452399999999999, 1.5548000000000002, 1.2745999999999995, 0.6517999999999997, 1.9049999999999994, 0.8652000000000015, 1.3280999999999992, 0.4862000000000002, 0.5321999999999996, 0.8119999999999994, 1.0679999999999996, 1.0999999999999996, -0.03389999999999915, -1.298960000000001, -1.0296599999999998, 0.234630000000001, 0.1522900000000007, -0.8443800000000001, -0.4461700000000004, -0.19608999999999988, -0.02260000000000062]\n"
     ]
    }
   ],
   "source": [
    "difference1_bat = []\n",
    "\n",
    "zip_object = zip(temp, temp_crn)\n",
    "for temp_i, temp_crn_i in zip_object:\n",
    "    difference1_bat.append(temp_i-temp_crn_i)\n",
    "\n",
    "print(difference1_bat)"
   ]
  },
  {
   "cell_type": "markdown",
   "id": "2a2589df",
   "metadata": {},
   "source": [
    "<font size=\"3\">Lafayette, LA: 1500 UTC 22 March 2022-1500 UTC 23 March 2022</font>"
   ]
  },
  {
   "cell_type": "code",
   "execution_count": 9,
   "id": "94433671",
   "metadata": {},
   "outputs": [
    {
     "name": "stdout",
     "output_type": "stream",
     "text": [
      "[24.4626, 25.6649, 25.5798, 24.4871, 22.6393, 20.805, 22.3152, 22.1906, 19.9612, 19.8447, 19.1245, 18.118, 17.7, 13.9661, 11.7885, 11.1578, 10.2721, 9.68979, 8.98062, 8.49133, 8.16641, 7.8649, 8.48215, 10.2308, 11.5225]\n",
      "25\n"
     ]
    }
   ],
   "source": [
    "#12 hr hrrr:\n",
    "with open('hrrr_f12_Lafayette_LA.txt') as f:\n",
    "    lst=[line.split()[1] for line in f]\n",
    "    temp=[]\n",
    "    for i in lst:\n",
    "        new=i.replace(',',\"\")\n",
    "        temp.append(new)\n",
    "    temp.pop(0)\n",
    "    temp=[float(x) for x in temp]\n",
    "    temp=temp[1923:1948]\n",
    "    #temp=temp[2015:2063]\n",
    "    print(temp)\n",
    "    print(len(temp))\n",
    "#full time period is [2015:2112]"
   ]
  },
  {
   "cell_type": "code",
   "execution_count": 10,
   "id": "bfe1bb32",
   "metadata": {},
   "outputs": [
    {
     "name": "stdout",
     "output_type": "stream",
     "text": [
      "[23.4, 23.8, 23.8, 24.2, 23.3, 22.2, 20.6, 20.7, 20.8, 20.7, 19.0, 16.9, 15.4, 14.1, 15.7, 13.6, 12.1, 11.0, 9.5, 8.8, 8.6, 8.9, 8.9, 10.3, 11.9]\n"
     ]
    }
   ],
   "source": [
    "#Air Temp CRN:\n",
    "with open('CRNH0203-2022-LA_Lafayette_13_SE.txt') as f:\n",
    "    lst=[line.split()[9] for line in f]\n",
    "    #print(lst)\n",
    "    temp_crn=[]\n",
    "    for i in lst:\n",
    "        new=i.replace(',',\"\")\n",
    "        temp_crn.append(new)\n",
    "    temp_crn=[float(x) for x in temp_crn]\n",
    "    temp_crn=temp_crn[1934:1959]\n",
    "    print(temp_crn)\n",
    "    #print(len(temp_crn))\n",
    "    # print(temp_crn[2124])"
   ]
  },
  {
   "cell_type": "code",
   "execution_count": 11,
   "id": "9b94d0f9",
   "metadata": {},
   "outputs": [
    {
     "name": "stdout",
     "output_type": "stream",
     "text": [
      "[1.0625999999999998, 1.8648999999999987, 1.779799999999998, 0.28710000000000235, -0.6607000000000021, -1.3949999999999996, 1.7151999999999994, 1.4906000000000006, -0.8387999999999991, -0.8552999999999997, 0.12450000000000117, 1.218, 2.299999999999999, -0.1338999999999988, -3.9114999999999984, -2.4421999999999997, -1.8278999999999996, -1.3102099999999997, -0.51938, -0.3086700000000011, -0.4335899999999988, -1.0351000000000008, -0.4178499999999996, -0.06920000000000037, -0.3774999999999995]\n"
     ]
    }
   ],
   "source": [
    "difference1_laf = []\n",
    "\n",
    "zip_object = zip(temp, temp_crn)\n",
    "for temp_i, temp_crn_i in zip_object:\n",
    "    difference1_laf.append(temp_i-temp_crn_i)\n",
    "\n",
    "print(difference1_laf)"
   ]
  },
  {
   "cell_type": "markdown",
   "id": "7a8d079f",
   "metadata": {},
   "source": [
    "<font size=\"3\">Monroe, LA: 1500 UTC 22 March 2022-1500 UTC 23 March 2022</font>"
   ]
  },
  {
   "cell_type": "code",
   "execution_count": 12,
   "id": "821d447a",
   "metadata": {},
   "outputs": [
    {
     "name": "stdout",
     "output_type": "stream",
     "text": [
      "[15.9001, 15.3524, 15.1423, 16.3621, 17.3268, 16.7425, 17.3152, 19.1281, 17.8987, 16.2822, 16.437, 14.368, 12.1375, 10.6536, 10.0385, 9.47034, 8.58463, 8.06479, 7.41812, 6.67883, 6.91641, 6.6149, 6.60715, 7.35577, 8.08499]\n",
      "25\n"
     ]
    }
   ],
   "source": [
    "#12 hr hrrr:\n",
    "with open('hrrr_f12_Monroe_LA.txt') as f:\n",
    "    lst=[line.split()[1] for line in f]\n",
    "    temp=[]\n",
    "    for i in lst:\n",
    "        new=i.replace(',',\"\")\n",
    "        temp.append(new)\n",
    "    temp.pop(0)\n",
    "    temp=[float(x) for x in temp]\n",
    "    temp=temp[1923:1948]\n",
    "    #temp=temp[2015:2063]\n",
    "    print(temp)\n",
    "    print(len(temp))\n",
    "#full time period is [2015:2112]"
   ]
  },
  {
   "cell_type": "code",
   "execution_count": 13,
   "id": "5c3999a7",
   "metadata": {},
   "outputs": [
    {
     "name": "stdout",
     "output_type": "stream",
     "text": [
      "[14.3, 14.1, 14.0, 13.7, 13.7, 14.5, 14.9, 15.1, 15.1, 14.8, 14.7, 12.4, 11.2, 10.7, 10.1, 10.1, 9.8, 9.1, 8.7, 8.7, 8.5, 8.7, 8.7, 8.7, 9.3]\n"
     ]
    }
   ],
   "source": [
    "#Air Temp CRN:\n",
    "with open('CRNH0203-2022-LA_Monroe_26_N.txt') as f:\n",
    "    lst=[line.split()[9] for line in f]\n",
    "    #print(lst)\n",
    "    temp_crn=[]\n",
    "    for i in lst:\n",
    "        new=i.replace(',',\"\")\n",
    "        temp_crn.append(new)\n",
    "    temp_crn=[float(x) for x in temp_crn]\n",
    "    temp_crn=temp_crn[1934:1959]\n",
    "    print(temp_crn)\n",
    "    #print(len(temp_crn))\n",
    "    # print(temp_crn[2124])"
   ]
  },
  {
   "cell_type": "code",
   "execution_count": 14,
   "id": "2b4e383a",
   "metadata": {},
   "outputs": [
    {
     "name": "stdout",
     "output_type": "stream",
     "text": [
      "[1.6000999999999994, 1.2523999999999997, 1.1423000000000005, 2.6621000000000024, 3.6267999999999994, 2.2424999999999997, 2.4152000000000005, 4.0281, 2.798700000000002, 1.4821999999999989, 1.7370000000000019, 1.968, 0.9375, -0.04639999999999844, -0.06149999999999878, -0.6296599999999994, -1.21537, -1.0352099999999993, -1.2818799999999992, -2.0211699999999997, -1.58359, -2.0850999999999997, -2.0928499999999994, -1.3442299999999996, -1.2150100000000013]\n"
     ]
    }
   ],
   "source": [
    "difference1_mon = []\n",
    "\n",
    "zip_object = zip(temp, temp_crn)\n",
    "for temp_i, temp_crn_i in zip_object:\n",
    "    difference1_mon.append(temp_i-temp_crn_i)\n",
    "\n",
    "print(difference1_mon)"
   ]
  },
  {
   "cell_type": "markdown",
   "id": "26c585ff",
   "metadata": {},
   "source": [
    "<font size=\"3\">Holly Springs, MS: 1800 UTC 22 March 2022-1800 UTC 23 March 2022</font>"
   ]
  },
  {
   "cell_type": "code",
   "execution_count": 15,
   "id": "4504c8c6",
   "metadata": {},
   "outputs": [
    {
     "name": "stdout",
     "output_type": "stream",
     "text": [
      "[19.3621, 22.5143, 15.7425, 17.3152, 17.1906, 16.5862, 16.8447, 16.562, 16.8055, 16.95, 15.7161, 14.601, 14.4703, 13.7721, 12.1273, 10.9181, 10.6163, 9.04141, 7.7399, 7.41965, 6.98077, 8.20999, 8.03226, 7.29306, 7.53381]\n",
      "25\n"
     ]
    }
   ],
   "source": [
    "#12 hr hrrr:\n",
    "with open('hrrr_f12_Holly Springs_MS.txt') as f:\n",
    "    lst=[line.split()[1] for line in f]\n",
    "    temp=[]\n",
    "    for i in lst:\n",
    "        new=i.replace(',',\"\")\n",
    "        temp.append(new)\n",
    "    temp.pop(0)\n",
    "    temp=[float(x) for x in temp]\n",
    "    temp=temp[1926:1951]\n",
    "    #temp=temp[2015:2063]\n",
    "    print(temp)\n",
    "    print(len(temp))\n",
    "#full time period is [2015:2112]"
   ]
  },
  {
   "cell_type": "code",
   "execution_count": 16,
   "id": "19a3055f",
   "metadata": {},
   "outputs": [
    {
     "name": "stdout",
     "output_type": "stream",
     "text": [
      "[13.1, 13.1, 12.5, 12.4, 12.4, 13.4, 14.6, 14.3, 14.2, 14.7, 14.7, 14.6, 14.1, 13.7, 13.3, 12.0, 10.9, 9.7, 9.1, 8.7, 8.7, 8.4, 8.2, 8.3, 9.5]\n"
     ]
    }
   ],
   "source": [
    "#Air Temp CRN:\n",
    "with open('CRNH0203-2022-MS_Holly_Springs_4_N.txt') as f:\n",
    "    lst=[line.split()[9] for line in f]\n",
    "    #print(lst)\n",
    "    temp_crn=[]\n",
    "    for i in lst:\n",
    "        new=i.replace(',',\"\")\n",
    "        temp_crn.append(new)\n",
    "    temp_crn=[float(x) for x in temp_crn]\n",
    "    temp_crn=temp_crn[1937:1962]\n",
    "    print(temp_crn)\n",
    "    #print(len(temp_crn))\n",
    "    # print(temp_crn[2124])"
   ]
  },
  {
   "cell_type": "code",
   "execution_count": 17,
   "id": "46b095cb",
   "metadata": {},
   "outputs": [
    {
     "name": "stdout",
     "output_type": "stream",
     "text": [
      "[6.262100000000002, 9.414299999999999, 3.2424999999999997, 4.9152000000000005, 4.7905999999999995, 3.1862000000000013, 2.2447, 2.2620000000000005, 2.6054999999999993, 2.25, 1.0161000000000016, 0.0010000000000012221, 0.3703000000000003, 0.07210000000000072, -1.1727000000000007, -1.0818999999999992, -0.2836999999999996, -0.6585899999999985, -1.3601, -1.2803499999999994, -1.7192299999999996, -0.1900100000000009, -0.16773999999999845, -1.006940000000001, -1.96619]\n"
     ]
    }
   ],
   "source": [
    "difference1_hol = []\n",
    "\n",
    "zip_object = zip(temp, temp_crn)\n",
    "for temp_i, temp_crn_i in zip_object:\n",
    "    difference1_hol.append(temp_i-temp_crn_i)\n",
    "\n",
    "print(difference1_hol)"
   ]
  },
  {
   "cell_type": "markdown",
   "id": "1c76c308",
   "metadata": {},
   "source": [
    "<font size=\"3\">Newton, MS: 1800 UTC 22 March 2022-1800 UTC 23 March 2022</font>"
   ]
  },
  {
   "cell_type": "code",
   "execution_count": 18,
   "id": "a6fc5b55",
   "metadata": {},
   "outputs": [
    {
     "name": "stdout",
     "output_type": "stream",
     "text": [
      "[21.2996, 21.5768, 21.9925, 22.6902, 22.6281, 22.3362, 22.6572, 21.1245, 18.6805, 19.8875, 18.6536, 16.851, 16.4078, 15.6471, 15.1898, 12.1056, 11.7413, 11.6039, 10.4899, 9.35715, 9.79327, 10.3975, 11.4073, 12.0431, 12.2838]\n",
      "25\n"
     ]
    }
   ],
   "source": [
    "#12 hr hrrr:\n",
    "with open('hrrr_f12_Newton_MS.txt') as f:\n",
    "    lst=[line.split()[1] for line in f]\n",
    "    temp=[]\n",
    "    for i in lst:\n",
    "        new=i.replace(',',\"\")\n",
    "        temp.append(new)\n",
    "    temp.pop(0)\n",
    "    temp=[float(x) for x in temp]\n",
    "    temp=temp[1926:1951]\n",
    "    #temp=temp[2015:2063]\n",
    "    print(temp)\n",
    "    print(len(temp))\n",
    "#full time period is [2015:2112]"
   ]
  },
  {
   "cell_type": "code",
   "execution_count": 19,
   "id": "3fb09a0f",
   "metadata": {},
   "outputs": [
    {
     "name": "stdout",
     "output_type": "stream",
     "text": [
      "[22.3, 23.0, 21.8, 18.2, 16.2, 15.9, 16.0, 16.0, 16.0, 16.7, 16.9, 17.1, 16.3, 15.4, 14.6, 13.7, 13.7, 12.3, 11.4, 11.0, 10.2, 10.7, 10.9, 12.1, 13.6]\n"
     ]
    }
   ],
   "source": [
    "#Air Temp CRN:\n",
    "with open('CRNH0203-2022-MS_Newton_5_ENE.txt') as f:\n",
    "    lst=[line.split()[9] for line in f]\n",
    "    #print(lst)\n",
    "    temp_crn=[]\n",
    "    for i in lst:\n",
    "        new=i.replace(',',\"\")\n",
    "        temp_crn.append(new)\n",
    "    temp_crn=[float(x) for x in temp_crn]\n",
    "    temp_crn=temp_crn[1937:1962]\n",
    "    print(temp_crn)\n",
    "    #print(len(temp_crn))\n",
    "    # print(temp_crn[2124])"
   ]
  },
  {
   "cell_type": "code",
   "execution_count": 20,
   "id": "e588ab70",
   "metadata": {},
   "outputs": [
    {
     "name": "stdout",
     "output_type": "stream",
     "text": [
      "[-1.000399999999999, -1.4232000000000014, 0.192499999999999, 4.4902000000000015, 6.428100000000001, 6.436200000000001, 6.6572, 5.124500000000001, 2.6804999999999986, 3.1875, 1.7536000000000023, -0.24900000000000233, 0.107800000000001, 0.24709999999999965, 0.5898000000000003, -1.5943999999999985, -1.9586999999999986, -0.6961000000000013, -0.9100999999999999, -1.6428499999999993, -0.4067299999999996, -0.30249999999999844, 0.507299999999999, -0.05689999999999884, -1.3162000000000003]\n"
     ]
    }
   ],
   "source": [
    "difference1_new = []\n",
    "\n",
    "zip_object = zip(temp, temp_crn)\n",
    "for temp_i, temp_crn_i in zip_object:\n",
    "    difference1_new.append(temp_i-temp_crn_i)\n",
    "\n",
    "print(difference1_new)"
   ]
  },
  {
   "cell_type": "markdown",
   "id": "c9620694",
   "metadata": {},
   "source": [
    "<font size=\"3\">Gainesville, AL: 2200 UTC 22 March 2022-2200 UTC 23 March 2022</font>"
   ]
  },
  {
   "cell_type": "code",
   "execution_count": 21,
   "id": "038fabb5",
   "metadata": {},
   "outputs": [
    {
     "name": "stdout",
     "output_type": "stream",
     "text": [
      "[21.1281, 21.1487, 20.9697, 20.6245, 20.6805, 20.825, 19.7161, 19.5385, 19.0328, 16.6471, 16.0023, 16.0431, 15.0538, 14.2289, 13.5524, 12.6696, 11.7933, 12.3975, 12.9073, 13.9181, 14.5338, 14.5995, 14.3845, 13.6761, 12.61]\n",
      "25\n"
     ]
    }
   ],
   "source": [
    "#12 hr hrrr:\n",
    "with open('hrrr_f12_Gainesville_AL.txt') as f:\n",
    "    lst=[line.split()[1] for line in f]\n",
    "    temp=[]\n",
    "    for i in lst:\n",
    "        new=i.replace(',',\"\")\n",
    "        temp.append(new)\n",
    "    temp.pop(0)\n",
    "    temp=[float(x) for x in temp]\n",
    "    temp=temp[1930:1955]\n",
    "    #temp=temp[2015:2063]\n",
    "    print(temp)\n",
    "    print(len(temp))\n",
    "#full time period is [2015:2112]"
   ]
  },
  {
   "cell_type": "code",
   "execution_count": 22,
   "id": "2c97e541",
   "metadata": {},
   "outputs": [
    {
     "name": "stdout",
     "output_type": "stream",
     "text": [
      "[21.4, 16.7, 16.1, 16.2, 16.3, 16.3, 16.5, 16.8, 16.8, 16.7, 16.4, 15.1, 14.0, 12.9, 12.3, 13.1, 13.2, 13.3, 13.0, 13.3, 14.8, 16.1, 16.8, 17.2, 17.8]\n"
     ]
    }
   ],
   "source": [
    "#Air Temp CRN:\n",
    "with open('CRNH0203-2022-AL_Gainesville_2_NE.txt') as f:\n",
    "    lst=[line.split()[9] for line in f]\n",
    "    #print(lst)\n",
    "    temp_crn=[]\n",
    "    for i in lst:\n",
    "        new=i.replace(',',\"\")\n",
    "        temp_crn.append(new)\n",
    "    temp_crn=[float(x) for x in temp_crn]\n",
    "    temp_crn=temp_crn[1941:1966]\n",
    "    print(temp_crn)\n",
    "    #print(len(temp_crn))\n",
    "    # print(temp_crn[2124])"
   ]
  },
  {
   "cell_type": "code",
   "execution_count": 23,
   "id": "8df76a7b",
   "metadata": {},
   "outputs": [
    {
     "name": "stdout",
     "output_type": "stream",
     "text": [
      "[-0.2718999999999987, 4.448700000000002, 4.869699999999998, 4.424500000000002, 4.380499999999998, 4.524999999999999, 3.216100000000001, 2.7384999999999984, 2.232800000000001, -0.05290000000000106, -0.39769999999999683, 0.9430999999999994, 1.0538000000000007, 1.328899999999999, 1.2523999999999997, -0.4303999999999988, -1.406699999999999, -0.9024999999999999, -0.09270000000000067, 0.6181000000000001, -0.2662000000000013, -1.5005000000000006, -2.4155000000000015, -3.5238999999999994, -5.190000000000001]\n"
     ]
    }
   ],
   "source": [
    "difference1_gai = []\n",
    "\n",
    "zip_object = zip(temp, temp_crn)\n",
    "for temp_i, temp_crn_i in zip_object:\n",
    "    difference1_gai.append(temp_i-temp_crn_i)\n",
    "\n",
    "print(difference1_gai)"
   ]
  },
  {
   "cell_type": "markdown",
   "id": "2711dc15",
   "metadata": {},
   "source": [
    "<font size=\"3\">Fairhope, AL: 2200 UTC 22 March 2022-2200 UTC 23 March 2022</font>"
   ]
  },
  {
   "cell_type": "code",
   "execution_count": 24,
   "id": "b97b4753",
   "metadata": {},
   "outputs": [
    {
     "name": "stdout",
     "output_type": "stream",
     "text": [
      "[22.5031, 22.3362, 22.0322, 22.1245, 22.243, 22.325, 21.8411, 22.0385, 18.2828, 16.3971, 16.9398, 17.0431, 17.6788, 18.1664, 18.0524, 17.6071, 17.2308, 16.335, 16.3448, 15.4181, 15.6588, 17.037, 16.8845, 17.9261, 18.36]\n",
      "25\n"
     ]
    }
   ],
   "source": [
    "#12 hr hrrr:\n",
    "with open('hrrr_f12_Fairhope_AL.txt') as f:\n",
    "    lst=[line.split()[1] for line in f]\n",
    "    temp=[]\n",
    "    for i in lst:\n",
    "        new=i.replace(',',\"\")\n",
    "        temp.append(new)\n",
    "    temp.pop(0)\n",
    "    temp=[float(x) for x in temp]\n",
    "    temp=temp[1930:1955]\n",
    "    #temp=temp[2015:2063]\n",
    "    print(temp)\n",
    "    print(len(temp))\n",
    "#full time period is [2015:2112]"
   ]
  },
  {
   "cell_type": "code",
   "execution_count": 25,
   "id": "4df09785",
   "metadata": {},
   "outputs": [
    {
     "name": "stdout",
     "output_type": "stream",
     "text": [
      "[22.6, 22.7, 22.6, 23.1, 23.3, 23.1, 22.7, 22.2, 20.5, 18.6, 18.4, 18.1, 18.1, 17.5, 17.1, 16.4, 17.0, 17.3, 17.5, 17.3, 17.4, 18.0, 18.6, 17.9, 17.3]\n"
     ]
    }
   ],
   "source": [
    "#Air Temp CRN:\n",
    "with open('CRNH0203-2022-AL_Fairhope_3_NE.txt') as f:\n",
    "    lst=[line.split()[9] for line in f]\n",
    "    #print(lst)\n",
    "    temp_crn=[]\n",
    "    for i in lst:\n",
    "        new=i.replace(',',\"\")\n",
    "        temp_crn.append(new)\n",
    "    temp_crn=[float(x) for x in temp_crn]\n",
    "    temp_crn=temp_crn[1941:1966]\n",
    "    print(temp_crn)\n",
    "    #print(len(temp_crn))\n",
    "    # print(temp_crn[2124])"
   ]
  },
  {
   "cell_type": "code",
   "execution_count": 26,
   "id": "a9ff3306",
   "metadata": {},
   "outputs": [
    {
     "name": "stdout",
     "output_type": "stream",
     "text": [
      "[-0.09690000000000154, -0.3637999999999977, -0.5678000000000019, -0.9755000000000003, -1.0570000000000022, -0.7750000000000021, -0.8588999999999984, -0.1615000000000002, -2.2171999999999983, -2.202900000000003, -1.4601999999999968, -1.0569000000000024, -0.42120000000000246, 0.6663999999999994, 0.9523999999999972, 1.2071000000000005, 0.23079999999999856, -0.9649999999999999, -1.1552000000000007, -1.8819, -1.7411999999999992, -0.963000000000001, -1.7155000000000022, 0.02610000000000312, 1.0599999999999987]\n"
     ]
    }
   ],
   "source": [
    "difference1_fai = []\n",
    "\n",
    "zip_object = zip(temp, temp_crn)\n",
    "for temp_i, temp_crn_i in zip_object:\n",
    "    difference1_fai.append(temp_i-temp_crn_i)\n",
    "\n",
    "print(difference1_fai)"
   ]
  },
  {
   "cell_type": "markdown",
   "id": "f5dd4e4b",
   "metadata": {},
   "source": [
    "<font size=\"3\">**Selma, AL: 2200 UTC 22 March 2022-2200 UTC 23 March 2022</font>"
   ]
  },
  {
   "cell_type": "code",
   "execution_count": 27,
   "id": "af6b46b1",
   "metadata": {},
   "outputs": [
    {
     "name": "stdout",
     "output_type": "stream",
     "text": [
      "[25.3156 21.3987 20.4697 20.687 20.118 19.95 20.0911 20.226 18.7203\n",
      " 19.0846 18.8148 18.6681 17.9288 16.6039 16.3024 16.1071 16.3558 -- -- --\n",
      " -- 17.4745 16.8845 16.9261 15.9225]\n",
      "[24.2 23.8 23.3 22.6 21.7 20.6 20.9 20.2 20.1 20.8 20.2 20.2 19.3 17.4\n",
      " 15.9 15.7 16.4 -- -- -- -- 19.2 18.7 18.5 18.7]\n",
      "[1.1156000000000006, -2.401299999999999, -2.830300000000001, -1.9130000000000003, -1.5820000000000007, -0.6500000000000021, -0.8088999999999977, 0.0259999999999998, -1.3796999999999997, -1.7154000000000025, -1.3851999999999975, -1.5319000000000003, -1.3712000000000018, -0.7960999999999991, 0.4023999999999983, 0.4070999999999998, -0.04420000000000002, masked, masked, masked, masked, -1.7255000000000003, -1.8155000000000001, -1.5738999999999983, -2.7775]\n",
      "25\n"
     ]
    }
   ],
   "source": [
    "#1 hr hrrr:\n",
    "import numpy as np\n",
    "import numpy.ma as ma\n",
    "#12 hr hrrr:\n",
    "with open('hrrr_f12_Selma_AL.txt') as f:\n",
    "    lst=[line.split()[1] for line in f]\n",
    "    temp=[]\n",
    "    for i in lst:\n",
    "        new=i.replace(',',\"\")\n",
    "        temp.append(new)\n",
    "    temp.pop(0)\n",
    "    temp=[float(x) for x in temp]\n",
    "    temp=temp[1930:1955]\n",
    "\n",
    "    x = np.array(temp)\n",
    "    temp = ma.masked_array(x, mask=[0, 0, 0, 0, 0,0,0,0,0,0,0,0,0,0,0,0,0,1,1,1,1,0,0,0,0])\n",
    "    #print(temp)\n",
    "#Air Temp CRN:\n",
    "with open('CRNH0203-2022-AL_Selma_13_WNW.txt') as f:\n",
    "    lst=[line.split()[9] for line in f]\n",
    "    #print(lst)\n",
    "    temp_crn=[]\n",
    "    for i in lst:\n",
    "        new=i.replace(',',\"\")\n",
    "        temp_crn.append(new)\n",
    "    temp_crn=[float(x) for x in temp_crn]\n",
    "    temp_crn=temp_crn[1941:1966]\n",
    "    y = np.array(temp_crn)\n",
    "    temp_crn = ma.masked_array(y, mask=[0, 0, 0, 0, 0,0,0,0,0,0,0,0,0,0,0,0,0,1,1,1,1,0,0,0,0])\n",
    "    print(temp)\n",
    "    #print(len(temp))\n",
    "    print(temp_crn)\n",
    "    #print(len(temp_crn))\n",
    "#full time period is [2015:2112]\n",
    "difference1_sel = []\n",
    "\n",
    "zip_object = zip(temp, temp_crn)\n",
    "for temp_i, temp_crn_i in zip_object:\n",
    "    difference1_sel.append(temp_i-temp_crn_i)\n",
    "\n",
    "print(difference1_sel)\n",
    "print(len(difference1_sel))"
   ]
  },
  {
   "cell_type": "code",
   "execution_count": 28,
   "id": "6fc35c65",
   "metadata": {},
   "outputs": [],
   "source": [
    "# import numpy as np\n",
    "# import numpy.ma as ma\n",
    "# x = np.array(temp_crn)\n",
    "# crnsel = ma.masked_array(x, mask=[0, 0, 0, 0, 0,0,0,0,0,0,0,0,0,0,0,0,0,1,1,1,1,0,0,0,0])\n",
    "# print(crnsel)\n",
    "# crnsel.mean()"
   ]
  },
  {
   "cell_type": "code",
   "execution_count": 29,
   "id": "fc41a8e0",
   "metadata": {},
   "outputs": [],
   "source": [
    "# temp[17]=0\n",
    "# temp[18]=0\n",
    "# temp[19]=0\n",
    "# temp[20]=0\n",
    "\n",
    "# temp_crn[17]=0\n",
    "# temp_crn[18]=0\n",
    "# temp_crn[19]=0\n",
    "# temp_crn[20]=0\n",
    "\n",
    "# difference1_sel[17]=0\n",
    "# difference1_sel[18]=0\n",
    "# difference1_sel[19]=0\n",
    "# difference1_sel[20]=0\n",
    "# print(temp)\n",
    "# print(temp_crn)\n",
    "# print(difference1_sel)\n"
   ]
  },
  {
   "cell_type": "markdown",
   "id": "8fab4bdc",
   "metadata": {},
   "source": [
    "<font size=\"3\">Bowling Green, KY: 2300 UTC 22 March 2022-2300 UTC 23 March 2022</font>"
   ]
  },
  {
   "cell_type": "code",
   "execution_count": 30,
   "id": "ce9bcf66",
   "metadata": {},
   "outputs": [
    {
     "name": "stdout",
     "output_type": "stream",
     "text": [
      "[22.7737, 21.7197, 16.7495, 16.118, 15.075, 14.7786, 14.851, 14.4703, 14.8346, 14.9398, 15.5431, 14.9913, 14.9789, 14.9274, 14.7946, 15.5433, 16.2725, 15.5323, 14.4806, 13.8463, 14.4745, 12.697, 12.1136, 10.61, 9.24072]\n",
      "25\n"
     ]
    }
   ],
   "source": [
    "#12 hr hrrr:\n",
    "with open('hrrr_f12_Bowling Green_KY.txt') as f:\n",
    "    lst=[line.split()[1] for line in f]\n",
    "    temp=[]\n",
    "    for i in lst:\n",
    "        new=i.replace(',',\"\")\n",
    "        temp.append(new)\n",
    "    temp.pop(0)\n",
    "    temp=[float(x) for x in temp]\n",
    "    temp=temp[1931:1956]\n",
    "    #temp=temp[2015:2063]\n",
    "    print(temp)\n",
    "    print(len(temp))\n",
    "#full time period is [2015:2112]"
   ]
  },
  {
   "cell_type": "code",
   "execution_count": 31,
   "id": "b9e25e31",
   "metadata": {},
   "outputs": [
    {
     "name": "stdout",
     "output_type": "stream",
     "text": [
      "[22.6, 21.3, 20.2, 15.8, 15.3, 15.0, 15.0, 15.0, 14.8, 15.0, 15.1, 14.9, 14.6, 14.2, 14.5, 15.1, 16.8, 16.6, 18.1, 17.9, 17.7, 17.3, 14.4, 13.7, 11.4]\n"
     ]
    }
   ],
   "source": [
    "#Air Temp CRN:\n",
    "with open('CRNH0203-2022-KY_Bowling_Green_21_NNE.txt') as f:\n",
    "    lst=[line.split()[9] for line in f]\n",
    "    #print(lst)\n",
    "    temp_crn=[]\n",
    "    for i in lst:\n",
    "        new=i.replace(',',\"\")\n",
    "        temp_crn.append(new)\n",
    "    temp_crn=[float(x) for x in temp_crn]\n",
    "    temp_crn=temp_crn[1942:1967]\n",
    "    print(temp_crn)\n",
    "    #print(len(temp_crn))\n",
    "    # print(temp_crn[2124])"
   ]
  },
  {
   "cell_type": "code",
   "execution_count": 32,
   "id": "c1e72531",
   "metadata": {},
   "outputs": [
    {
     "name": "stdout",
     "output_type": "stream",
     "text": [
      "[0.1737000000000002, 0.41969999999999885, -3.450499999999998, 0.31799999999999784, -0.22500000000000142, -0.22139999999999915, -0.14899999999999913, -0.5297000000000001, 0.0345999999999993, -0.06020000000000003, 0.44310000000000116, 0.09130000000000038, 0.3788999999999998, 0.7274000000000012, 0.29460000000000086, 0.4433000000000007, -0.5274999999999999, -1.067700000000002, -3.6194000000000006, -4.053699999999999, -3.2254999999999985, -4.6030000000000015, -2.2864000000000004, -3.09, -2.1592800000000008]\n"
     ]
    }
   ],
   "source": [
    "difference1_bow = []\n",
    "\n",
    "zip_object = zip(temp, temp_crn)\n",
    "for temp_i, temp_crn_i in zip_object:\n",
    "    difference1_bow.append(temp_i-temp_crn_i)\n",
    "\n",
    "print(difference1_bow)"
   ]
  },
  {
   "cell_type": "markdown",
   "id": "d1be2cc0",
   "metadata": {},
   "source": [
    "<font size=\"3\">Gadsden, AL: 0100 UTC 23 March 2022-0100 UTC 24 March 2022</font>"
   ]
  },
  {
   "cell_type": "code",
   "execution_count": 33,
   "id": "6d2be172",
   "metadata": {},
   "outputs": [
    {
     "name": "stdout",
     "output_type": "stream",
     "text": [
      "[21.1245, 20.3055, 19.1375, 16.2786, 15.9135, 16.5328, 16.8346, 17.5648, 17.8556, 17.5538, 16.7914, 16.8649, 16.0446, 15.4183, 16.6475, 17.2823, 16.9181, 16.3463, 15.537, 15.072, 14.6761, 12.985, 11.7407, 9.90778, 9.52914]\n",
      "25\n"
     ]
    }
   ],
   "source": [
    "#12 hr hrrr:\n",
    "with open('hrrr_f12_Gadsden_AL.txt') as f:\n",
    "    lst=[line.split()[1] for line in f]\n",
    "    temp=[]\n",
    "    for i in lst:\n",
    "        new=i.replace(',',\"\")\n",
    "        temp.append(new)\n",
    "    temp.pop(0)\n",
    "    temp=[float(x) for x in temp]\n",
    "    temp=temp[1933:1958]\n",
    "    #temp=temp[2015:2063]\n",
    "    print(temp)\n",
    "    print(len(temp))\n",
    "#full time period is [2015:2112]"
   ]
  },
  {
   "cell_type": "code",
   "execution_count": 34,
   "id": "eb5f934d",
   "metadata": {},
   "outputs": [
    {
     "name": "stdout",
     "output_type": "stream",
     "text": [
      "[21.3, 18.7, 15.8, 15.1, 14.8, 14.5, 14.6, 14.7, 15.1, 15.7, 17.0, 17.9, 18.0, 16.5, 15.4, 16.7, 18.0, 18.9, 19.0, 19.2, 18.7, 17.6, 16.4, 14.4, 12.7]\n"
     ]
    }
   ],
   "source": [
    "#Air Temp CRN:\n",
    "with open('CRNH0203-2022-AL_Gadsden_19_N.txt') as f:\n",
    "    lst=[line.split()[9] for line in f]\n",
    "    #print(lst)\n",
    "    temp_crn=[]\n",
    "    for i in lst:\n",
    "        new=i.replace(',',\"\")\n",
    "        temp_crn.append(new)\n",
    "    temp_crn=[float(x) for x in temp_crn]\n",
    "    temp_crn=temp_crn[1944:1969]\n",
    "    print(temp_crn)\n",
    "    #print(len(temp_crn))\n",
    "    # print(temp_crn[2124])"
   ]
  },
  {
   "cell_type": "code",
   "execution_count": 35,
   "id": "c002ac76",
   "metadata": {},
   "outputs": [
    {
     "name": "stdout",
     "output_type": "stream",
     "text": [
      "[-0.17549999999999955, 1.6054999999999993, 3.3374999999999986, 1.1786000000000012, 1.1135000000000002, 2.0328000000000017, 2.2345999999999986, 2.8648000000000025, 2.7555999999999994, 1.8537999999999997, -0.20860000000000056, -1.0351, -1.955400000000001, -1.0816999999999997, 1.2475000000000005, 0.5823, -1.081900000000001, -2.553699999999999, -3.462999999999999, -4.128, -4.023899999999999, -4.615000000000002, -4.659299999999998, -4.49222, -3.1708599999999993]\n"
     ]
    }
   ],
   "source": [
    "difference1_gad = []\n",
    "\n",
    "zip_object = zip(temp, temp_crn)\n",
    "for temp_i, temp_crn_i in zip_object:\n",
    "    difference1_gad.append(temp_i-temp_crn_i)\n",
    "\n",
    "print(difference1_gad)"
   ]
  },
  {
   "cell_type": "markdown",
   "id": "d430f7c6",
   "metadata": {},
   "source": [
    "<font size=\"3\">Newton, GA: 0900 UTC 23 March 2022-0900 UTC 24 March 2022</font>"
   ]
  },
  {
   "cell_type": "code",
   "execution_count": 36,
   "id": "25095753",
   "metadata": {},
   "outputs": [
    {
     "name": "stdout",
     "output_type": "stream",
     "text": [
      "[19.7931, 19.5538, 20.4789, 20.4274, 20.7321, 20.9183, 20.8975, 21.6573, 23.0431, 22.3463, 24.037, 22.5095, 22.8636, 22.6725, 21.2407, 19.8453, 18.5291, 18.1114, 18.2567, 17.7208, 16.9784, 16.3949, 15.8307, 15.7187, 15.7753]\n",
      "25\n"
     ]
    }
   ],
   "source": [
    "#12 hr hrrr:\n",
    "with open('hrrr_f12_Newton_GA.txt') as f:\n",
    "    lst=[line.split()[1] for line in f]\n",
    "    temp=[]\n",
    "    for i in lst:\n",
    "        new=i.replace(',',\"\")\n",
    "        temp.append(new)\n",
    "    temp.pop(0)\n",
    "    temp=[float(x) for x in temp]\n",
    "    temp=temp[1941:1966]\n",
    "    #temp=temp[2015:2063]\n",
    "    print(temp)\n",
    "    print(len(temp))\n",
    "#full time period is [2015:2112]"
   ]
  },
  {
   "cell_type": "code",
   "execution_count": 37,
   "id": "9851cf85",
   "metadata": {},
   "outputs": [
    {
     "name": "stdout",
     "output_type": "stream",
     "text": [
      "[21.5, 21.9, 20.6, 20.1, 20.5, 21.1, 21.4, 22.1, 23.0, 22.9, 22.7, 23.5, 23.8, 23.6, 22.8, 22.0, 21.0, 20.1, 19.8, 19.0, 18.6, 17.9, 17.2, 16.6, 15.9]\n"
     ]
    }
   ],
   "source": [
    "#Air Temp CRN:\n",
    "with open('CRNH0203-2022-GA_Newton_11_SW.txt') as f:\n",
    "    lst=[line.split()[9] for line in f]\n",
    "    #print(lst)\n",
    "    temp_crn=[]\n",
    "    for i in lst:\n",
    "        new=i.replace(',',\"\")\n",
    "        temp_crn.append(new)\n",
    "    temp_crn=[float(x) for x in temp_crn]\n",
    "    temp_crn=temp_crn[1952:1977]\n",
    "    print(temp_crn)\n",
    "    #print(len(temp_crn))\n",
    "    # print(temp_crn[2124])"
   ]
  },
  {
   "cell_type": "code",
   "execution_count": 38,
   "id": "f2141c03",
   "metadata": {},
   "outputs": [
    {
     "name": "stdout",
     "output_type": "stream",
     "text": [
      "[-1.706900000000001, -2.3461999999999996, -0.12110000000000198, 0.32739999999999725, 0.23209999999999908, -0.18170000000000286, -0.5024999999999977, -0.4427000000000021, 0.04309999999999903, -0.5536999999999992, 1.3369999999999997, -0.9905000000000008, -0.936399999999999, -0.927500000000002, -1.5593000000000004, -2.1546999999999983, -2.4709000000000003, -1.9886000000000017, -1.5433000000000021, -1.2791999999999994, -1.6216000000000008, -1.5050999999999988, -1.369299999999999, -0.8813000000000013, -0.1247000000000007]\n"
     ]
    }
   ],
   "source": [
    "difference1_newt = []\n",
    "\n",
    "zip_object = zip(temp, temp_crn)\n",
    "for temp_i, temp_crn_i in zip_object:\n",
    "    difference1_newt.append(temp_i-temp_crn_i)\n",
    "\n",
    "print(difference1_newt)"
   ]
  },
  {
   "cell_type": "markdown",
   "id": "ab4663ab",
   "metadata": {},
   "source": [
    "<font size=\"3\">Salem, MO: 1300 UTC 30 March 2022-1300 UTC 31 March 2022</font>"
   ]
  },
  {
   "cell_type": "code",
   "execution_count": 39,
   "id": "ede1cb39",
   "metadata": {},
   "outputs": [
    {
     "name": "stdout",
     "output_type": "stream",
     "text": [
      "[16.9167, 17.1404, 14.5944, 14.6147, 14.7671, 14.7596, 15.7405, 15.1737, 15.1728, 11.946, 10.0304, 7.43417, 7.03113, 5.966, 4.9639, 4.41147, 3.68881, 3.34479, 3.14764, 2.77078, 2.56088, 1.9971, 1.72308, 1.32321, 1.94186]\n",
      "25\n"
     ]
    }
   ],
   "source": [
    "#12 hr hrrr:\n",
    "with open('hrrr_f12_Salem_MO.txt') as f:\n",
    "    lst=[line.split()[1] for line in f]\n",
    "    temp=[]\n",
    "    for i in lst:\n",
    "        new=i.replace(',',\"\")\n",
    "        temp.append(new)\n",
    "    temp.pop(0)\n",
    "    temp=[float(x) for x in temp]\n",
    "    temp=temp[2113:2138]\n",
    "    #temp=temp[2015:2063]\n",
    "    print(temp)\n",
    "    print(len(temp))\n",
    "#full time period is [2015:2112]"
   ]
  },
  {
   "cell_type": "code",
   "execution_count": 40,
   "id": "01b4011e",
   "metadata": {},
   "outputs": [
    {
     "name": "stdout",
     "output_type": "stream",
     "text": [
      "[16.6, 15.8, 13.8, 13.6, 14.2, 14.5, 14.3, 14.0, 13.9, 10.5, 8.1, 5.9, 5.2, 4.5, 3.8, 3.2, 3.0, 2.7, 2.5, 2.2, 2.1, 2.2, 2.3, 2.2, 2.3]\n"
     ]
    }
   ],
   "source": [
    "#Air Temp CRN:\n",
    "with open('CRNH0203-2022-MO_Salem_10_W.txt') as f:\n",
    "    lst=[line.split()[9] for line in f]\n",
    "    #print(lst)\n",
    "    temp_crn=[]\n",
    "    for i in lst:\n",
    "        new=i.replace(',',\"\")\n",
    "        temp_crn.append(new)\n",
    "    temp_crn=[float(x) for x in temp_crn]\n",
    "    temp_crn=temp_crn[2124:2149]\n",
    "    print(temp_crn)\n",
    "    #print(len(temp_crn))\n",
    "    # print(temp_crn[2124])"
   ]
  },
  {
   "cell_type": "code",
   "execution_count": 41,
   "id": "80548ed7",
   "metadata": {},
   "outputs": [
    {
     "name": "stdout",
     "output_type": "stream",
     "text": [
      "25\n"
     ]
    }
   ],
   "source": [
    "hour=[]\n",
    "for i in range(-12,13,1):\n",
    "    hour.append(i)\n",
    "    i+=1\n",
    "print(len(hour))"
   ]
  },
  {
   "cell_type": "code",
   "execution_count": 42,
   "id": "e426b6a3",
   "metadata": {},
   "outputs": [
    {
     "name": "stdout",
     "output_type": "stream",
     "text": [
      "[0.3166999999999973, 1.340399999999999, 0.7943999999999996, 1.0146999999999995, 0.5670999999999999, 0.2596000000000007, 1.4405000000000001, 1.1737000000000002, 1.2728000000000002, 1.4459999999999997, 1.9304000000000006, 1.5341699999999996, 1.83113, 1.4660000000000002, 1.1639, 1.2114699999999994, 0.6888100000000001, 0.64479, 0.64764, 0.5707799999999996, 0.46087999999999996, -0.20290000000000008, -0.5769199999999999, -0.8767900000000002, -0.3581399999999999]\n"
     ]
    }
   ],
   "source": [
    "difference2_sal = []\n",
    "\n",
    "zip_object = zip(temp, temp_crn)\n",
    "for temp_i, temp_crn_i in zip_object:\n",
    "    difference2_sal.append(temp_i-temp_crn_i)\n",
    "\n",
    "print(difference2_sal)"
   ]
  },
  {
   "cell_type": "markdown",
   "id": "e17a19ca",
   "metadata": {},
   "source": [
    "<font size=\"3\">Batesville, AR: 1300 UTC 30 March 2022-1300 UTC 31 March 2022</font>"
   ]
  },
  {
   "cell_type": "code",
   "execution_count": 43,
   "id": "382cdc03",
   "metadata": {},
   "outputs": [
    {
     "name": "stdout",
     "output_type": "stream",
     "text": [
      "[17.9167, 17.8904, 18.0319, 18.1772, 18.3296, 18.4471, 15.803, 16.7362, 16.2978, 16.6335, 16.5304, 13.9967, 12.0311, 9.4035, 8.2764, 7.16147, 6.18881, 5.21979, 4.96014, 3.89578, 4.87338, 3.6846, 2.72308, 2.32321, 3.56686]\n",
      "25\n"
     ]
    }
   ],
   "source": [
    "#12 hr hrrr:\n",
    "with open('hrrr_f12_Batesville_AR.txt') as f:\n",
    "    lst=[line.split()[1] for line in f]\n",
    "    temp=[]\n",
    "    for i in lst:\n",
    "        new=i.replace(',',\"\")\n",
    "        temp.append(new)\n",
    "    temp.pop(0)\n",
    "    temp=[float(x) for x in temp]\n",
    "    temp=temp[2113:2138]\n",
    "    #temp=temp[2015:2063]\n",
    "    print(temp)\n",
    "    print(len(temp))\n",
    "#full time period is [2015:2112]"
   ]
  },
  {
   "cell_type": "code",
   "execution_count": 44,
   "id": "2dcc93c0",
   "metadata": {},
   "outputs": [
    {
     "name": "stdout",
     "output_type": "stream",
     "text": [
      "[19.3, 19.3, 19.5, 19.6, 18.3, 18.0, 16.6, 16.2, 15.2, 14.6, 15.9, 15.9, 11.7, 8.7, 8.3, 7.6, 6.7, 6.6, 6.1, 5.4, 5.1, 5.4, 4.5, 2.8, 3.5]\n"
     ]
    }
   ],
   "source": [
    "#Air Temp CRN:\n",
    "with open('CRNH0203-2022-AR_Batesville_8_WNW.txt') as f:\n",
    "    lst=[line.split()[9] for line in f]\n",
    "    #print(lst)\n",
    "    temp_crn=[]\n",
    "    for i in lst:\n",
    "        new=i.replace(',',\"\")\n",
    "        temp_crn.append(new)\n",
    "    temp_crn=[float(x) for x in temp_crn]\n",
    "    temp_crn=temp_crn[2124:2149]\n",
    "    print(temp_crn)\n",
    "    #print(len(temp_crn))\n",
    "    # print(temp_crn[2124])"
   ]
  },
  {
   "cell_type": "code",
   "execution_count": 45,
   "id": "12f91aa0",
   "metadata": {},
   "outputs": [
    {
     "name": "stdout",
     "output_type": "stream",
     "text": [
      "[-1.383300000000002, -1.409600000000001, -1.4680999999999997, -1.4228000000000023, 0.029599999999998516, 0.44709999999999894, -0.7970000000000006, 0.5362000000000009, 1.0977999999999994, 2.033500000000002, 0.6303999999999998, -1.9032999999999998, 0.33110000000000106, 0.7035, -0.023600000000000065, -0.4385300000000001, -0.51119, -1.38021, -1.1398599999999997, -1.5042200000000006, -0.2266199999999996, -1.7154000000000003, -1.77692, -0.4767899999999998, 0.06686000000000014]\n"
     ]
    }
   ],
   "source": [
    "difference2_bat = []\n",
    "\n",
    "zip_object = zip(temp, temp_crn)\n",
    "for temp_i, temp_crn_i in zip_object:\n",
    "    difference2_bat.append(temp_i-temp_crn_i)\n",
    "\n",
    "print(difference2_bat)"
   ]
  },
  {
   "cell_type": "markdown",
   "id": "0b95ca71",
   "metadata": {},
   "source": [
    "<font size=\"3\">Lafayette, LA: 1700 UTC 30 March 2022-1700 UTC 31 March 2022</font>"
   ]
  },
  {
   "cell_type": "code",
   "execution_count": 46,
   "id": "3617c9ac",
   "metadata": {},
   "outputs": [
    {
     "name": "stdout",
     "output_type": "stream",
     "text": [
      "[26.8296, 25.0721, 24.303, 24.6112, 22.4853, 23.071, 21.9054, 20.8092, 18.5936, 17.6535, 17.9014, 18.349, 16.7513, 16.1573, 14.6476, 13.3333, 12.7484, 11.3721, 10.1606, 9.69821, 10.6919, 11.8606, 13.4502, 15.3598, 17.2993]\n",
      "25\n"
     ]
    }
   ],
   "source": [
    "#12 hr hrrr:\n",
    "with open('hrrr_f12_Lafayette_LA.txt') as f:\n",
    "    lst=[line.split()[1] for line in f]\n",
    "    temp=[]\n",
    "    for i in lst:\n",
    "        new=i.replace(',',\"\")\n",
    "        temp.append(new)\n",
    "    temp.pop(0)\n",
    "    temp=[float(x) for x in temp]\n",
    "    temp=temp[2117:2142]\n",
    "    #temp=temp[2015:2063]\n",
    "    print(temp)\n",
    "    print(len(temp))\n",
    "#full time period is [2015:2112]"
   ]
  },
  {
   "cell_type": "code",
   "execution_count": 47,
   "id": "16943c4f",
   "metadata": {},
   "outputs": [
    {
     "name": "stdout",
     "output_type": "stream",
     "text": [
      "[23.4, 24.1, 24.4, 24.3, 23.6, 19.5, 17.0, 17.7, 16.4, 15.4, 14.9, 15.5, 15.0, 16.0, 16.3, 15.0, 13.7, 12.2, 10.4, 9.8, 10.0, 12.0, 13.9, 15.8, 17.4]\n"
     ]
    }
   ],
   "source": [
    "#Air Temp CRN:\n",
    "with open('CRNH0203-2022-LA_Lafayette_13_SE.txt') as f:\n",
    "    lst=[line.split()[9] for line in f]\n",
    "    #print(lst)\n",
    "    temp_crn=[]\n",
    "    for i in lst:\n",
    "        new=i.replace(',',\"\")\n",
    "        temp_crn.append(new)\n",
    "    temp_crn=[float(x) for x in temp_crn]\n",
    "    temp_crn=temp_crn[2128:2153]\n",
    "    print(temp_crn)\n",
    "    #print(len(temp_crn))\n",
    "    # print(temp_crn[2124])"
   ]
  },
  {
   "cell_type": "code",
   "execution_count": 48,
   "id": "ad9e49f7",
   "metadata": {},
   "outputs": [
    {
     "name": "stdout",
     "output_type": "stream",
     "text": [
      "[3.4296000000000006, 0.9720999999999975, -0.09699999999999775, 0.3111999999999995, -1.1147000000000027, 3.5710000000000015, 4.9054, 3.1092000000000013, 2.1936, 2.2535000000000007, 3.0013999999999985, 2.849, 1.7513000000000005, 0.15729999999999933, -1.6524, -1.6667000000000005, -0.9515999999999991, -0.8278999999999996, -0.23939999999999984, -0.10179000000000116, 0.6919000000000004, -0.1394000000000002, -0.44979999999999976, -0.4402000000000008, -0.10069999999999979]\n"
     ]
    }
   ],
   "source": [
    "difference2_laf = []\n",
    "\n",
    "zip_object = zip(temp, temp_crn)\n",
    "for temp_i, temp_crn_i in zip_object:\n",
    "    difference2_laf.append(temp_i-temp_crn_i)\n",
    "\n",
    "print(difference2_laf)"
   ]
  },
  {
   "cell_type": "markdown",
   "id": "5bdd017c",
   "metadata": {},
   "source": [
    "<font size=\"3\">Monroe, LA: 1700 UTC 30 March 2022-1700 UTC 31 March 2022</font>"
   ]
  },
  {
   "cell_type": "code",
   "execution_count": 49,
   "id": "10e3c873",
   "metadata": {},
   "outputs": [
    {
     "name": "stdout",
     "output_type": "stream",
     "text": [
      "[24.9546, 22.3846, 16.7405, 16.1112, 17.6728, 18.571, 19.0304, 17.0592, 16.4061, 15.591, 12.7764, 11.1615, 11.0638, 10.2823, 9.77264, 8.27078, 8.24838, 6.8096, 6.66058, 6.44821, 7.62936, 8.98563, 10.5127, 11.8598, 13.1118]\n",
      "25\n"
     ]
    }
   ],
   "source": [
    "#12 hr hrrr:\n",
    "with open('hrrr_f12_Monroe_LA.txt') as f:\n",
    "    lst=[line.split()[1] for line in f]\n",
    "    temp=[]\n",
    "    for i in lst:\n",
    "        new=i.replace(',',\"\")\n",
    "        temp.append(new)\n",
    "    temp.pop(0)\n",
    "    temp=[float(x) for x in temp]\n",
    "    temp=temp[2117:2142]\n",
    "    #temp=temp[2015:2063]\n",
    "    print(temp)\n",
    "    print(len(temp))\n",
    "#full time period is [2015:2112]"
   ]
  },
  {
   "cell_type": "code",
   "execution_count": 50,
   "id": "4d3f3d6e",
   "metadata": {},
   "outputs": [
    {
     "name": "stdout",
     "output_type": "stream",
     "text": [
      "[21.0, 21.1, 18.6, 16.0, 15.9, 16.8, 17.8, 17.7, 16.6, 16.2, 14.9, 13.7, 12.3, 10.4, 8.9, 8.8, 8.5, 6.2, 5.2, 4.6, 4.4, 7.5, 10.5, 12.7, 14.4]\n"
     ]
    }
   ],
   "source": [
    "#Air Temp CRN:\n",
    "with open('CRNH0203-2022-LA_Monroe_26_N.txt') as f:\n",
    "    lst=[line.split()[9] for line in f]\n",
    "    #print(lst)\n",
    "    temp_crn=[]\n",
    "    for i in lst:\n",
    "        new=i.replace(',',\"\")\n",
    "        temp_crn.append(new)\n",
    "    temp_crn=[float(x) for x in temp_crn]\n",
    "    temp_crn=temp_crn[2128:2153]\n",
    "    print(temp_crn)\n",
    "    #print(len(temp_crn))\n",
    "    # print(temp_crn[2124])"
   ]
  },
  {
   "cell_type": "code",
   "execution_count": 51,
   "id": "178b8e52",
   "metadata": {},
   "outputs": [
    {
     "name": "stdout",
     "output_type": "stream",
     "text": [
      "[3.9545999999999992, 1.2845999999999975, -1.8595000000000006, 0.11120000000000019, 1.7727999999999984, 1.7710000000000008, 1.2303999999999995, -0.6407999999999987, -0.19390000000000285, -0.609, -2.1235999999999997, -2.538499999999999, -1.2362000000000002, -0.11770000000000103, 0.8726400000000005, -0.5292200000000005, -0.25162000000000084, 0.6095999999999995, 1.4605800000000002, 1.8482100000000008, 3.22936, 1.4856300000000005, 0.0127000000000006, -0.8401999999999994, -1.2881999999999998]\n"
     ]
    }
   ],
   "source": [
    "difference2_mon = []\n",
    "\n",
    "zip_object = zip(temp, temp_crn)\n",
    "for temp_i, temp_crn_i in zip_object:\n",
    "    difference2_mon.append(temp_i-temp_crn_i)\n",
    "\n",
    "print(difference2_mon)"
   ]
  },
  {
   "cell_type": "markdown",
   "id": "3e401515",
   "metadata": {},
   "source": [
    "<font size=\"3\">Holly Springs, MS: 2000 UTC 30 March 2022-2000 UTC 31 March 2022</font>"
   ]
  },
  {
   "cell_type": "code",
   "execution_count": 1,
   "id": "581a9384",
   "metadata": {},
   "outputs": [
    {
     "name": "stdout",
     "output_type": "stream",
     "text": [
      "[24.4546, 25.1971, 26.2405, 25.5487, 21.6728, 19.821, 16.8429, 15.4967, 15.2811, 14.7785, 14.9014, 15.1615, 14.4388, 12.0323, 9.77264, 8.20828, 6.93588, 5.9971, 6.22308, 5.32321, 5.94186, 6.04813, 7.01266, 8.1723, 9.11185]\n",
      "25\n"
     ]
    }
   ],
   "source": [
    "#12 hr hrrr:\n",
    "with open('hrrr_f12_Holly Springs_MS.txt') as f:\n",
    "    lst=[line.split()[1] for line in f]\n",
    "    temp=[]\n",
    "    for i in lst:\n",
    "        new=i.replace(',',\"\")\n",
    "        temp.append(new)\n",
    "    temp.pop(0)\n",
    "    temp=[float(x) for x in temp]\n",
    "    temp=temp[2117:2142]\n",
    "    #temp=temp[2015:2063]\n",
    "    print(temp)\n",
    "    print(len(temp))\n",
    "#full time period is [2015:2112]"
   ]
  },
  {
   "cell_type": "code",
   "execution_count": 2,
   "id": "cc96dac3",
   "metadata": {},
   "outputs": [
    {
     "name": "stdout",
     "output_type": "stream",
     "text": [
      "[22.4, 20.2, 19.5, 17.8, 14.4, 14.8, 14.8, 14.7, 14.5, 14.7, 12.7, 11.2, 9.4, 7.6, 6.7, 6.3, 6.3, 6.5, 7.0, 8.2, 9.3, 10.6, 12.2, 13.4, 14.2]\n"
     ]
    }
   ],
   "source": [
    "#Air Temp CRN:\n",
    "with open('CRNH0203-2022-MS_Holly_Springs_4_N.txt') as f:\n",
    "    lst=[line.split()[9] for line in f]\n",
    "    #print(lst)\n",
    "    temp_crn=[]\n",
    "    for i in lst:\n",
    "        new=i.replace(',',\"\")\n",
    "        temp_crn.append(new)\n",
    "    temp_crn=[float(x) for x in temp_crn]\n",
    "    temp_crn=temp_crn[2131:2156]\n",
    "    print(temp_crn)\n",
    "    #print(len(temp_crn))\n",
    "    # print(temp_crn[2124])"
   ]
  },
  {
   "cell_type": "code",
   "execution_count": 3,
   "id": "b348cd62",
   "metadata": {},
   "outputs": [
    {
     "name": "stdout",
     "output_type": "stream",
     "text": [
      "[2.0546000000000006, 4.9971, 6.740500000000001, 7.7486999999999995, 7.272799999999998, 5.021000000000001, 2.0428999999999995, 0.7967000000000013, 0.7811000000000003, 0.07850000000000001, 2.2014000000000014, 3.961500000000001, 5.0388, 4.4323, 3.0726400000000007, 1.9082800000000004, 0.6358800000000002, -0.5029000000000003, -0.7769199999999996, -2.876789999999999, -3.3581400000000006, -4.55187, -5.187339999999999, -5.2277000000000005, -5.088149999999999]\n"
     ]
    }
   ],
   "source": [
    "difference2_hol = []\n",
    "\n",
    "zip_object = zip(temp, temp_crn)\n",
    "for temp_i, temp_crn_i in zip_object:\n",
    "    difference2_hol.append(temp_i-temp_crn_i)\n",
    "\n",
    "print(difference2_hol)"
   ]
  },
  {
   "cell_type": "markdown",
   "id": "b5225197",
   "metadata": {},
   "source": [
    "<font size=\"3\">Newton, MS: 2000 UTC 30 March 2022-2000 UTC 31 March 2022</font>"
   ]
  },
  {
   "cell_type": "code",
   "execution_count": 55,
   "id": "7639cfdd",
   "metadata": {},
   "outputs": [
    {
     "name": "stdout",
     "output_type": "stream",
     "text": [
      "[26.0487, 25.4853, 25.696, 25.0929, 23.7467, 17.9686, 17.2785, 16.2764, 16.4115, 16.5638, 16.0323, 16.4601, 13.4583, 12.4359, 10.9971, 11.9106, 10.3232, 9.37936, 10.1731, 10.7002, 11.3598, 12.6743, 13.5604, 14.7877, 15.6379]\n",
      "25\n"
     ]
    }
   ],
   "source": [
    "#12 hr hrrr:\n",
    "with open('hrrr_f12_Newton_MS.txt') as f:\n",
    "    lst=[line.split()[1] for line in f]\n",
    "    temp=[]\n",
    "    for i in lst:\n",
    "        new=i.replace(',',\"\")\n",
    "        temp.append(new)\n",
    "    temp.pop(0)\n",
    "    temp=[float(x) for x in temp]\n",
    "    temp=temp[2120:2145]\n",
    "    #temp=temp[2015:2063]\n",
    "    print(temp)\n",
    "    print(len(temp))\n",
    "#full time period is [2015:2112]"
   ]
  },
  {
   "cell_type": "code",
   "execution_count": 56,
   "id": "b4fea934",
   "metadata": {},
   "outputs": [
    {
     "name": "stdout",
     "output_type": "stream",
     "text": [
      "[25.4, 25.1, 24.7, 23.8, 22.4, 18.3, 15.7, 15.2, 14.8, 14.2, 13.6, 13.5, 13.5, 13.3, 12.0, 11.2, 10.7, 10.5, 10.3, 10.8, 12.4, 14.0, 15.5, 16.9, 17.7]\n"
     ]
    }
   ],
   "source": [
    "#Air Temp CRN:\n",
    "with open('CRNH0203-2022-MS_Newton_5_ENE.txt') as f:\n",
    "    lst=[line.split()[9] for line in f]\n",
    "    #print(lst)\n",
    "    temp_crn=[]\n",
    "    for i in lst:\n",
    "        new=i.replace(',',\"\")\n",
    "        temp_crn.append(new)\n",
    "    temp_crn=[float(x) for x in temp_crn]\n",
    "    temp_crn=temp_crn[2131:2156]\n",
    "    print(temp_crn)\n",
    "    #print(len(temp_crn))\n",
    "    # print(temp_crn[2124])"
   ]
  },
  {
   "cell_type": "code",
   "execution_count": 57,
   "id": "cd6de2b7",
   "metadata": {},
   "outputs": [
    {
     "name": "stdout",
     "output_type": "stream",
     "text": [
      "[0.6487000000000016, 0.3852999999999973, 0.9960000000000022, 1.2928999999999995, 1.346700000000002, -0.33140000000000214, 1.5785000000000018, 1.0763999999999996, 1.6114999999999995, 2.3638000000000012, 2.4322999999999997, 2.9601000000000006, -0.041700000000000514, -0.8641000000000005, -1.0029000000000003, 0.7106000000000012, -0.37679999999999936, -1.1206399999999999, -0.1269000000000009, -0.09980000000000011, -1.0402000000000005, -1.3256999999999994, -1.9396000000000004, -2.1122999999999994, -2.062099999999999]\n"
     ]
    }
   ],
   "source": [
    "difference2_new = []\n",
    "\n",
    "zip_object = zip(temp, temp_crn)\n",
    "for temp_i, temp_crn_i in zip_object:\n",
    "    difference2_new.append(temp_i-temp_crn_i)\n",
    "\n",
    "print(difference2_new)"
   ]
  },
  {
   "cell_type": "markdown",
   "id": "bfaeb78c",
   "metadata": {},
   "source": [
    "<font size=\"3\">Gainesville, AL: 2300 UTC 30 March 2022-2300 UTC 31 March 2022</font>"
   ]
  },
  {
   "cell_type": "code",
   "execution_count": 58,
   "id": "6ad50471",
   "metadata": {},
   "outputs": [
    {
     "name": "stdout",
     "output_type": "stream",
     "text": [
      "[25.4679, 24.2467, 21.7811, 19.841, 16.5264, 16.9115, 17.5638, 16.9698, 16.7101, 15.9583, 15.9984, 14.4346, 13.4106, 11.5107, 11.5669, 10.4231, 10.6377, 11.5473, 12.3618, 12.9979, 14.2252, 14.9504, 15.2003, 15.6505, 15.0599]\n",
      "25\n"
     ]
    }
   ],
   "source": [
    "#12 hr hrrr:\n",
    "with open('hrrr_f12_Gainesville_AL.txt') as f:\n",
    "    lst=[line.split()[1] for line in f]\n",
    "    temp=[]\n",
    "    for i in lst:\n",
    "        new=i.replace(',',\"\")\n",
    "        temp.append(new)\n",
    "    temp.pop(0)\n",
    "    temp=[float(x) for x in temp]\n",
    "    temp=temp[2123:2148]\n",
    "    #temp=temp[2015:2063]\n",
    "    print(temp)\n",
    "    print(len(temp))\n",
    "#full time period is [2015:2112]"
   ]
  },
  {
   "cell_type": "code",
   "execution_count": 59,
   "id": "1fd4e19a",
   "metadata": {},
   "outputs": [
    {
     "name": "stdout",
     "output_type": "stream",
     "text": [
      "[25.1, 23.5, 22.0, 19.9, 16.4, 16.0, 15.6, 15.1, 14.4, 13.6, 13.7, 13.7, 12.5, 11.8, 11.8, 11.4, 11.5, 11.9, 12.9, 14.5, 15.6, 17.0, 17.7, 18.6, 18.8]\n"
     ]
    }
   ],
   "source": [
    "#Air Temp CRN:\n",
    "with open('CRNH0203-2022-AL_Gainesville_2_NE.txt') as f:\n",
    "    lst=[line.split()[9] for line in f]\n",
    "    #print(lst)\n",
    "    temp_crn=[]\n",
    "    for i in lst:\n",
    "        new=i.replace(',',\"\")\n",
    "        temp_crn.append(new)\n",
    "    temp_crn=[float(x) for x in temp_crn]\n",
    "    temp_crn=temp_crn[2134:2159]\n",
    "    print(temp_crn)\n",
    "    #print(len(temp_crn))\n",
    "    # print(temp_crn[2124])"
   ]
  },
  {
   "cell_type": "code",
   "execution_count": 60,
   "id": "82a257d7",
   "metadata": {},
   "outputs": [
    {
     "name": "stdout",
     "output_type": "stream",
     "text": [
      "[0.3678999999999988, 0.7467000000000006, -0.21890000000000143, -0.0589999999999975, 0.1264000000000003, 0.9115000000000002, 1.9638000000000009, 1.8697999999999997, 2.3101000000000003, 2.3583, 2.298400000000001, 0.7346000000000004, 0.9106000000000005, -0.2893000000000008, -0.2331000000000003, -0.9769000000000005, -0.8622999999999994, -0.35270000000000046, -0.5381999999999998, -1.5021000000000004, -1.3748000000000005, -2.0496, -2.499699999999999, -2.9495000000000022, -3.7401]\n"
     ]
    }
   ],
   "source": [
    "difference2_gai = []\n",
    "\n",
    "zip_object = zip(temp, temp_crn)\n",
    "for temp_i, temp_crn_i in zip_object:\n",
    "    difference2_gai.append(temp_i-temp_crn_i)\n",
    "\n",
    "print(difference2_gai)"
   ]
  },
  {
   "cell_type": "markdown",
   "id": "0917b86d",
   "metadata": {},
   "source": [
    "<font size=\"3\">Fairhope, AL: 0100 UTC 31 March 2022-0100 UTC 1 April 2022</font>"
   ]
  },
  {
   "cell_type": "code",
   "execution_count": 61,
   "id": "102e4d08",
   "metadata": {},
   "outputs": [
    {
     "name": "stdout",
     "output_type": "stream",
     "text": [
      "[22.9686, 23.0285, 22.0889, 22.7865, 22.5638, 18.6573, 17.8351, 18.7708, 18.8109, 18.5596, 18.4731, 17.8232, 18.2544, 17.1731, 17.3877, 18.1098, 19.6743, 20.9354, 22.3502, 22.8879, 22.7628, 22.338, 20.9349, 19.3734, 17.8964]\n",
      "25\n"
     ]
    }
   ],
   "source": [
    "#12 hr hrrr:\n",
    "with open('hrrr_f12_Fairhope_AL.txt') as f:\n",
    "    lst=[line.split()[1] for line in f]\n",
    "    temp=[]\n",
    "    for i in lst:\n",
    "        new=i.replace(',',\"\")\n",
    "        temp.append(new)\n",
    "    temp.pop(0)\n",
    "    temp=[float(x) for x in temp]\n",
    "    temp=temp[2125:2150]\n",
    "    #temp=temp[2015:2063]\n",
    "    print(temp)\n",
    "    print(len(temp))\n",
    "#full time period is [2015:2112]"
   ]
  },
  {
   "cell_type": "code",
   "execution_count": 62,
   "id": "96fb5481",
   "metadata": {},
   "outputs": [
    {
     "name": "stdout",
     "output_type": "stream",
     "text": [
      "[23.5, 23.4, 23.3, 23.4, 20.5, 17.1, 16.9, 17.0, 17.0, 16.8, 17.1, 17.3, 17.5, 17.5, 18.5, 19.1, 19.7, 20.5, 21.5, 22.3, 22.5, 21.9, 20.8, 19.6, 17.7]\n"
     ]
    }
   ],
   "source": [
    "#Air Temp CRN:\n",
    "with open('CRNH0203-2022-AL_Fairhope_3_NE.txt') as f:\n",
    "    lst=[line.split()[9] for line in f]\n",
    "    #print(lst)\n",
    "    temp_crn=[]\n",
    "    for i in lst:\n",
    "        new=i.replace(',',\"\")\n",
    "        temp_crn.append(new)\n",
    "    temp_crn=[float(x) for x in temp_crn]\n",
    "    temp_crn=temp_crn[2136:2161]\n",
    "    print(temp_crn)\n",
    "    #print(len(temp_crn))\n",
    "    # print(temp_crn[2124])"
   ]
  },
  {
   "cell_type": "code",
   "execution_count": 63,
   "id": "f15c30e0",
   "metadata": {},
   "outputs": [
    {
     "name": "stdout",
     "output_type": "stream",
     "text": [
      "[-0.5314000000000014, -0.3714999999999975, -1.2111000000000018, -0.6134999999999984, 2.0638000000000005, 1.557299999999998, 0.935100000000002, 1.7708000000000013, 1.8109000000000002, 1.759599999999999, 1.3730999999999973, 0.5231999999999992, 0.7544000000000004, -0.3268999999999984, -1.1123000000000012, -0.9902000000000015, -0.0257000000000005, 0.43540000000000134, 0.850200000000001, 0.5878999999999976, 0.2627999999999986, 0.4380000000000024, 0.13489999999999824, -0.22660000000000124, 0.19640000000000057]\n"
     ]
    }
   ],
   "source": [
    "difference2_fai = []\n",
    "\n",
    "zip_object = zip(temp, temp_crn)\n",
    "for temp_i, temp_crn_i in zip_object:\n",
    "    difference2_fai.append(temp_i-temp_crn_i)\n",
    "\n",
    "print(difference2_fai)"
   ]
  },
  {
   "cell_type": "markdown",
   "id": "e9530edf",
   "metadata": {},
   "source": [
    "<font size=\"3\">**Selma, AL: 0100 UTC 31 March 2022-0100 UTC 1 April 2022</font>"
   ]
  },
  {
   "cell_type": "code",
   "execution_count": 64,
   "id": "15e7e080",
   "metadata": {},
   "outputs": [
    {
     "name": "stdout",
     "output_type": "stream",
     "text": [
      "[23.4061, 22.2785, 22.2764, 20.599, 16.3138, 17.3448, 17.6476, 17.9583, 17.4984, 17.3721, 16.6606, 16.4482, 15.3169, 15.3606, 14.7002, 14.7973, 14.7368, 14.4979, 15.4752, 16.0129, 16.6378, 16.463, 15.3724, 13.9359, 12.6464]\n",
      "25\n",
      "[24.0, 23.4, 21.4, 20.4, 18.6, 17.8, 16.7, 16.5, 15.9, 15.6, 15.7, 15.4, 15.0, 13.9, 14.4, 15.7, 16.0, 16.4, 17.2, 17.6, 17.8, 18.1, 18.2, 17.1, 13.9]\n",
      "25\n",
      "[-0.5939000000000014, -1.1214999999999975, 0.8764000000000003, 0.19900000000000162, -2.286200000000001, -0.4552000000000014, 0.9476000000000013, 1.4583000000000013, 1.5983999999999998, 1.7721, 0.9605999999999995, 1.0481999999999996, 0.3169000000000004, 1.4605999999999995, 0.30020000000000024, -0.9026999999999994, -1.2631999999999994, -1.902099999999999, -1.7248, -1.587100000000003, -1.1622000000000021, -1.6370000000000005, -2.8275999999999986, -3.1641000000000012, -1.2536000000000005]\n",
      "25\n"
     ]
    }
   ],
   "source": [
    "#12 hr hrrr:\n",
    "with open('hrrr_f12_Selma_AL.txt') as f:\n",
    "    lst=[line.split()[1] for line in f]\n",
    "    temp=[]\n",
    "    for i in lst:\n",
    "        new=i.replace(',',\"\")\n",
    "        temp.append(new)\n",
    "    temp.pop(0)\n",
    "    temp=[float(x) for x in temp]\n",
    "    temp=temp[2125:2150]\n",
    "    \n",
    "#Air Temp CRN:\n",
    "with open('CRNH0203-2022-AL_Selma_13_WNW.txt') as f:\n",
    "    lst=[line.split()[9] for line in f]\n",
    "    #print(lst)\n",
    "    temp_crn=[]\n",
    "    for i in lst:\n",
    "        new=i.replace(',',\"\")\n",
    "        temp_crn.append(new)\n",
    "    temp_crn=[float(x) for x in temp_crn]\n",
    "    temp_crn=temp_crn[2136:2161]\n",
    "\n",
    "    print(temp)\n",
    "    print(len(temp))\n",
    "    print(temp_crn)\n",
    "    print(len(temp_crn))\n",
    "#full time period is [2015:2112]\n",
    "difference2_sel = []\n",
    "\n",
    "zip_object = zip(temp, temp_crn)\n",
    "for temp_i, temp_crn_i in zip_object:\n",
    "    difference2_sel.append(temp_i-temp_crn_i)\n",
    "\n",
    "print(difference2_sel)\n",
    "print(len(difference2_sel))"
   ]
  },
  {
   "cell_type": "markdown",
   "id": "96c13278",
   "metadata": {},
   "source": [
    "<font size=\"3\">Bowling Green, KY: 0100 UTC 31 March 2022-0100 UTC 1 April 2022</font>"
   ]
  },
  {
   "cell_type": "code",
   "execution_count": 65,
   "id": "20079007",
   "metadata": {},
   "outputs": [
    {
     "name": "stdout",
     "output_type": "stream",
     "text": [
      "[22.3436 21.7785 19.9014 16.0365 14.8138 15.8448 -- 13.3958 13.0609\n",
      " 12.1846 11.4106 10.8857 8.94186 8.29813 6.57516 6.7973 5.73685 6.18539\n",
      " 7.03772 7.26294 6.70029 6.52554 6.24738 6.24835 5.77139]\n"
     ]
    }
   ],
   "source": [
    "#12 hr hrrr:\n",
    "with open('hrrr_f12_Bowling Green_KY.txt') as f:\n",
    "    lst=[line.split()[1] for line in f]\n",
    "    temp=[]\n",
    "    for i in lst:\n",
    "        new=i.replace(',',\"\")\n",
    "        temp.append(new)\n",
    "    temp.pop(0)\n",
    "    temp=[float(x) for x in temp]\n",
    "    temp=temp[2125:2150]\n",
    "    x = np.array(temp)\n",
    "    temp= ma.masked_array(x, mask=[0, 0, 0, 0, 0,0,1,0,0,0,0,0,0,0,0,0,0,0,0,0,0,0,0,0,0])\n",
    "    #temp=temp[2015:2063]\n",
    "    print(temp)\n",
    "    #print(len(temp))\n",
    "#full time period is [2015:2112]"
   ]
  },
  {
   "cell_type": "code",
   "execution_count": 66,
   "id": "60c4e4cc",
   "metadata": {},
   "outputs": [
    {
     "name": "stdout",
     "output_type": "stream",
     "text": [
      "[25.0 22.0 16.7 13.6 13.5 14.1 -- 14.5 14.4 13.8 10.2 9.1 8.5 7.0 7.0 7.0\n",
      " 7.3 7.2 6.9 6.6 7.0 7.0 7.1 6.7 5.7]\n"
     ]
    }
   ],
   "source": [
    "#Air Temp CRN:\n",
    "with open('CRNH0203-2022-KY_Bowling_Green_21_NNE.txt') as f:\n",
    "    lst=[line.split()[9] for line in f]\n",
    "    #print(lst)\n",
    "    temp_crn=[]\n",
    "    for i in lst:\n",
    "        new=i.replace(',',\"\")\n",
    "        temp_crn.append(new)\n",
    "    temp_crn=[float(x) for x in temp_crn]\n",
    "    temp_crn=temp_crn[2136:2161]\n",
    "    y = np.array(temp_crn)\n",
    "    temp_crn = ma.masked_array(y, mask=[0, 0, 0, 0, 0,0,1,0,0,0,0,0,0,0,0,0,0,0,0,0,0,0,0,0,0])\n",
    "    print(temp_crn)\n",
    "    #print(len(temp_crn))\n",
    "    # print(temp_crn[2124])"
   ]
  },
  {
   "cell_type": "code",
   "execution_count": 67,
   "id": "90cedfd2",
   "metadata": {},
   "outputs": [
    {
     "name": "stdout",
     "output_type": "stream",
     "text": [
      "[-2.6564000000000014, -0.22149999999999892, 3.2013999999999996, 2.4365000000000006, 1.3138000000000005, 1.7447999999999997, masked, -1.1042000000000005, -1.3391000000000002, -1.615400000000001, 1.2106000000000012, 1.7857000000000003, 0.44186000000000014, 1.2981300000000005, -0.42483999999999966, -0.2027000000000001, -1.5631500000000003, -1.0146100000000002, 0.13771999999999984, 0.6629400000000008, -0.29971000000000014, -0.47445999999999966, -0.8526199999999999, -0.4516499999999999, 0.07139000000000006]\n"
     ]
    }
   ],
   "source": [
    "difference2_bow = []\n",
    "\n",
    "zip_object = zip(temp, temp_crn)\n",
    "for temp_i, temp_crn_i in zip_object:\n",
    "    difference2_bow.append(temp_i-temp_crn_i)\n",
    "\n",
    "print(difference2_bow)"
   ]
  },
  {
   "cell_type": "code",
   "execution_count": 68,
   "id": "47fff0d0",
   "metadata": {},
   "outputs": [],
   "source": [
    "# temp[6]=0\n",
    "# temp_crn[6]=0\n",
    "# difference2_bow[6]=0\n",
    "\n",
    "# print(temp)\n",
    "# print(temp_crn)\n",
    "# print(difference2_bow)"
   ]
  },
  {
   "cell_type": "markdown",
   "id": "770eb1f1",
   "metadata": {},
   "source": [
    "<font size=\"3\">Gadsden, AL: 0200 UTC 31 March 2022-0200 UTC 1 April 2022</font>"
   ]
  },
  {
   "cell_type": "code",
   "execution_count": 69,
   "id": "b06370d2",
   "metadata": {},
   "outputs": [
    {
     "name": "stdout",
     "output_type": "stream",
     "text": [
      "[20.5285, 19.9014, 17.9115, 17.2513, 16.9073, 15.9601, 16.3333, 15.1859, 14.7471, 14.7856, 14.0107, 14.2544, 13.7981, 12.5127, 12.4223, 12.0493, 11.1229, 11.0377, 11.4504, 11.7628, 11.588, 11.4974, 9.56085, 9.08389, 9.8559]\n",
      "25\n"
     ]
    }
   ],
   "source": [
    "#12 hr hrrr:\n",
    "with open('hrrr_f12_Gadsden_AL.txt') as f:\n",
    "    lst=[line.split()[1] for line in f]\n",
    "    temp=[]\n",
    "    for i in lst:\n",
    "        new=i.replace(',',\"\")\n",
    "        temp.append(new)\n",
    "    temp.pop(0)\n",
    "    temp=[float(x) for x in temp]\n",
    "    temp=temp[2126:2151]\n",
    "    #temp=temp[2015:2063]\n",
    "    print(temp)\n",
    "    print(len(temp))\n",
    "#full time period is [2015:2112]"
   ]
  },
  {
   "cell_type": "code",
   "execution_count": 70,
   "id": "c0d02698",
   "metadata": {},
   "outputs": [
    {
     "name": "stdout",
     "output_type": "stream",
     "text": [
      "[23.3, 21.8, 19.4, 17.3, 15.3, 15.1, 15.7, 15.8, 14.9, 14.5, 14.0, 13.9, 14.2, 14.5, 12.9, 12.3, 13.0, 13.4, 13.6, 14.0, 14.2, 13.7, 12.8, 10.9, 9.6]\n"
     ]
    }
   ],
   "source": [
    "#Air Temp CRN:\n",
    "with open('CRNH0203-2022-AL_Gadsden_19_N.txt') as f:\n",
    "    lst=[line.split()[9] for line in f]\n",
    "    #print(lst)\n",
    "    temp_crn=[]\n",
    "    for i in lst:\n",
    "        new=i.replace(',',\"\")\n",
    "        temp_crn.append(new)\n",
    "    temp_crn=[float(x) for x in temp_crn]\n",
    "    temp_crn=temp_crn[2137:2162]\n",
    "    print(temp_crn)\n",
    "    #print(len(temp_crn))\n",
    "    # print(temp_crn[2124])"
   ]
  },
  {
   "cell_type": "code",
   "execution_count": 71,
   "id": "d63723fd",
   "metadata": {},
   "outputs": [
    {
     "name": "stdout",
     "output_type": "stream",
     "text": [
      "[-2.7714999999999996, -1.8986000000000018, -1.4884999999999984, -0.04870000000000019, 1.6072999999999986, 0.860100000000001, 0.633300000000002, -0.6141000000000005, -0.1529000000000007, 0.2856000000000005, 0.010699999999999932, 0.35440000000000005, -0.4018999999999995, -1.9872999999999994, -0.47770000000000046, -0.25070000000000014, -1.8771000000000004, -2.362300000000001, -2.1495999999999995, -2.2371999999999996, -2.612, -2.2025999999999986, -3.2391500000000004, -1.8161100000000001, 0.25590000000000046]\n"
     ]
    }
   ],
   "source": [
    "difference2_gad = []\n",
    "\n",
    "zip_object = zip(temp, temp_crn)\n",
    "for temp_i, temp_crn_i in zip_object:\n",
    "    difference2_gad.append(temp_i-temp_crn_i)\n",
    "\n",
    "print(difference2_gad)"
   ]
  },
  {
   "cell_type": "markdown",
   "id": "cd4a8f77",
   "metadata": {},
   "source": [
    "<font size=\"3\">Newton, GA: 0700 UTC 31 March 2022-0700 UTC 1 April 2022</font>"
   ]
  },
  {
   "cell_type": "code",
   "execution_count": 72,
   "id": "29be0aef",
   "metadata": {},
   "outputs": [
    {
     "name": "stdout",
     "output_type": "stream",
     "text": [
      "[19.9601, 20.9583, 21.1234, 20.9346, 21.4106, 20.5107, 20.2544, 19.5481, 19.8877, 20.0473, 20.9868, 22.1229, 22.3502, 23.0129, 22.6378, 22.713, 21.8724, 20.2484, 19.2089, 18.2309, 17.3445, 16.635, 16.2623, 15.4491, 14.4879]\n",
      "25\n"
     ]
    }
   ],
   "source": [
    "#12 hr hrrr:\n",
    "with open('hrrr_f12_Newton_GA.txt') as f:\n",
    "    lst=[line.split()[1] for line in f]\n",
    "    temp=[]\n",
    "    for i in lst:\n",
    "        new=i.replace(',',\"\")\n",
    "        temp.append(new)\n",
    "    temp.pop(0)\n",
    "    temp=[float(x) for x in temp]\n",
    "    temp=temp[2131:2156]\n",
    "    #temp=temp[2015:2063]\n",
    "    print(temp)\n",
    "    print(len(temp))\n",
    "#full time period is [2015:2112]"
   ]
  },
  {
   "cell_type": "code",
   "execution_count": 73,
   "id": "1d798d77",
   "metadata": {},
   "outputs": [
    {
     "name": "stdout",
     "output_type": "stream",
     "text": [
      "[22.5, 22.8, 22.8, 21.5, 20.4, 20.5, 17.9, 17.2, 17.3, 18.0, 20.4, 22.9, 24.4, 25.5, 25.7, 25.6, 25.2, 23.6, 21.4, 20.9, 20.1, 19.0, 17.8, 16.9, 16.2]\n"
     ]
    }
   ],
   "source": [
    "#Air Temp CRN:\n",
    "with open('CRNH0203-2022-GA_Newton_11_SW.txt') as f:\n",
    "    lst=[line.split()[9] for line in f]\n",
    "    #print(lst)\n",
    "    temp_crn=[]\n",
    "    for i in lst:\n",
    "        new=i.replace(',',\"\")\n",
    "        temp_crn.append(new)\n",
    "    temp_crn=[float(x) for x in temp_crn]\n",
    "    temp_crn=temp_crn[2142:2167]\n",
    "    print(temp_crn)\n",
    "    #print(len(temp_crn))\n",
    "    # print(temp_crn[2124])"
   ]
  },
  {
   "cell_type": "code",
   "execution_count": 74,
   "id": "4bcfa192",
   "metadata": {},
   "outputs": [
    {
     "name": "stdout",
     "output_type": "stream",
     "text": [
      "[-2.5398999999999994, -1.8416999999999994, -1.6766000000000005, -0.5654000000000003, 1.0106000000000002, 0.010699999999999932, 2.354400000000002, 2.3481000000000023, 2.587699999999998, 2.0473, 0.5868000000000002, -0.7770999999999972, -2.0497999999999976, -2.4871000000000016, -3.0622000000000007, -2.8870000000000005, -3.3276000000000003, -3.3516000000000012, -2.1910999999999987, -2.6691000000000003, -2.7555000000000014, -2.3649999999999984, -1.537700000000001, -1.450899999999999, -1.7120999999999995]\n"
     ]
    }
   ],
   "source": [
    "difference2_newt = []\n",
    "\n",
    "zip_object = zip(temp, temp_crn)\n",
    "for temp_i, temp_crn_i in zip_object:\n",
    "    difference2_newt.append(temp_i-temp_crn_i)\n",
    "\n",
    "print(difference2_newt)"
   ]
  },
  {
   "cell_type": "markdown",
   "id": "8148ba77",
   "metadata": {},
   "source": [
    "<font size=\"3\">Salem, MO: 1000 UTC 5 April 2022-1000 UTC 6 April 2022</font>"
   ]
  },
  {
   "cell_type": "code",
   "execution_count": 75,
   "id": "52be5eab",
   "metadata": {},
   "outputs": [
    {
     "name": "stdout",
     "output_type": "stream",
     "text": [
      "[11.1378, 11.6931, 10.8264, 11.2671, 12.1022, 12.3876, 15.1745, 17.8014, 18.554, 19.9215, 20.3808, 19.3252, 18.554, 18.1644, 18.0953, 16.0568, 15.631, 14.764, 14.605, 13.5642, 11.0956, 9.65137, 8.5881, 8.259, 7.63846]\n",
      "25\n"
     ]
    }
   ],
   "source": [
    "#12 hr hrrr:\n",
    "with open('hrrr_f12_Salem_MO.txt') as f:\n",
    "    lst=[line.split()[1] for line in f]\n",
    "    temp=[]\n",
    "    for i in lst:\n",
    "        new=i.replace(',',\"\")\n",
    "        temp.append(new)\n",
    "    temp.pop(0)\n",
    "    temp=[float(x) for x in temp]\n",
    "    temp=temp[2254:2279]\n",
    "    #temp=temp[2015:2063]\n",
    "    print(temp)\n",
    "    print(len(temp))\n",
    "#full time period is [2015:2112]"
   ]
  },
  {
   "cell_type": "code",
   "execution_count": 76,
   "id": "4616d240",
   "metadata": {},
   "outputs": [
    {
     "name": "stdout",
     "output_type": "stream",
     "text": [
      "[11.3, 11.2, 11.0, 10.9, 10.9, 12.5, 15.1, 18.0, 20.3, 20.9, 20.5, 20.7, 21.1, 21.1, 20.7, 18.8, 16.0, 15.2, 17.1, 15.5, 11.9, 11.2, 10.4, 8.9, 8.1]\n"
     ]
    }
   ],
   "source": [
    "#Air Temp CRN:\n",
    "with open('CRNH0203-2022-MO_Salem_10_W.txt') as f:\n",
    "    lst=[line.split()[9] for line in f]\n",
    "    #print(lst)\n",
    "    temp_crn=[]\n",
    "    for i in lst:\n",
    "        new=i.replace(',',\"\")\n",
    "        temp_crn.append(new)\n",
    "    temp_crn=[float(x) for x in temp_crn]\n",
    "    temp_crn=temp_crn[2265:2290]\n",
    "    print(temp_crn)\n",
    "    #print(len(temp_crn))\n",
    "    # print(temp_crn[2124])"
   ]
  },
  {
   "cell_type": "code",
   "execution_count": 77,
   "id": "b6a1a5d3",
   "metadata": {},
   "outputs": [
    {
     "name": "stdout",
     "output_type": "stream",
     "text": [
      "25\n"
     ]
    }
   ],
   "source": [
    "hour=[]\n",
    "for i in range(-12,13,1):\n",
    "    hour.append(i)\n",
    "    i+=1\n",
    "print(len(hour))"
   ]
  },
  {
   "cell_type": "code",
   "execution_count": 78,
   "id": "d9f71702",
   "metadata": {},
   "outputs": [
    {
     "name": "stdout",
     "output_type": "stream",
     "text": [
      "[-0.16220000000000034, 0.4931000000000001, -0.17360000000000042, 0.36709999999999887, 1.2021999999999995, -0.11239999999999917, 0.07450000000000045, -0.198599999999999, -1.7460000000000022, -0.9784999999999968, -0.1191999999999993, -1.3748000000000005, -2.546000000000003, -2.935600000000001, -2.6046999999999976, -2.7432000000000016, -0.3689999999999998, -0.43599999999999994, -2.495000000000001, -1.9358000000000004, -0.8044000000000011, -1.5486299999999993, -1.8118999999999996, -0.641, -0.4615399999999994]\n"
     ]
    }
   ],
   "source": [
    "difference3_sal = []\n",
    "\n",
    "zip_object = zip(temp, temp_crn)\n",
    "for temp_i, temp_crn_i in zip_object:\n",
    "    difference3_sal.append(temp_i-temp_crn_i)\n",
    "\n",
    "print(difference3_sal)"
   ]
  },
  {
   "cell_type": "markdown",
   "id": "cc4a44b1",
   "metadata": {},
   "source": [
    "<font size=\"3\">Batesville, AR: 1000 UTC 5 April 2022-1000 UTC 6 April 2022</font>"
   ]
  },
  {
   "cell_type": "code",
   "execution_count": 79,
   "id": "4fcfb5db",
   "metadata": {},
   "outputs": [
    {
     "name": "stdout",
     "output_type": "stream",
     "text": [
      "[11.2628, 11.6306, 10.9514, 11.5171, 13.7272, 15.3876, 15.6745, 18.6139, 18.4915, 19.234, 20.2558, 19.5752, 19.679, 18.1644, 18.3453, 16.4943, 16.1935, 16.139, 15.5425, 15.9392, 16.0956, 15.9639, 16.3381, 12.8215, 11.7635]\n",
      "25\n"
     ]
    }
   ],
   "source": [
    "#12 hr hrrr:\n",
    "with open('hrrr_f12_Batesville_AR.txt') as f:\n",
    "    lst=[line.split()[1] for line in f]\n",
    "    temp=[]\n",
    "    for i in lst:\n",
    "        new=i.replace(',',\"\")\n",
    "        temp.append(new)\n",
    "    temp.pop(0)\n",
    "    temp=[float(x) for x in temp]\n",
    "    temp=temp[2254:2279]\n",
    "    #temp=temp[2015:2063]\n",
    "    print(temp)\n",
    "    print(len(temp))\n",
    "#full time period is [2015:2112]"
   ]
  },
  {
   "cell_type": "code",
   "execution_count": 80,
   "id": "509d7824",
   "metadata": {},
   "outputs": [
    {
     "name": "stdout",
     "output_type": "stream",
     "text": [
      "[11.6, 11.8, 12.1, 12.0, 12.2, 13.5, 15.5, 17.6, 18.9, 20.4, 21.8, 22.6, 22.9, 23.1, 21.9, 20.1, 18.9, 18.2, 17.5, 15.9, 16.3, 18.2, 18.5, 14.7, 12.9]\n"
     ]
    }
   ],
   "source": [
    "#Air Temp CRN:\n",
    "with open('CRNH0203-2022-AR_Batesville_8_WNW.txt') as f:\n",
    "    lst=[line.split()[9] for line in f]\n",
    "    #print(lst)\n",
    "    temp_crn=[]\n",
    "    for i in lst:\n",
    "        new=i.replace(',',\"\")\n",
    "        temp_crn.append(new)\n",
    "    temp_crn=[float(x) for x in temp_crn]\n",
    "    temp_crn=temp_crn[2265:2290]\n",
    "    print(temp_crn)\n",
    "    #print(len(temp_crn))\n",
    "    # print(temp_crn[2124])"
   ]
  },
  {
   "cell_type": "code",
   "execution_count": 81,
   "id": "c5f712f8",
   "metadata": {},
   "outputs": [
    {
     "name": "stdout",
     "output_type": "stream",
     "text": [
      "[-0.3371999999999993, -0.16940000000000133, -1.1486, -0.4829000000000008, 1.5272000000000006, 1.8876000000000008, 0.1745000000000001, 1.0138999999999996, -0.4085000000000001, -1.1659999999999968, -1.5442, -3.0248000000000026, -3.221, -4.935600000000001, -3.554699999999997, -3.6057000000000023, -2.7064999999999984, -2.061, -1.9574999999999996, 0.039199999999999235, -0.2043999999999997, -2.2360999999999986, -2.1618999999999993, -1.878499999999999, -1.1364999999999998]\n"
     ]
    }
   ],
   "source": [
    "difference3_bat = []\n",
    "\n",
    "zip_object = zip(temp, temp_crn)\n",
    "for temp_i, temp_crn_i in zip_object:\n",
    "    difference3_bat.append(temp_i-temp_crn_i)\n",
    "\n",
    "print(difference3_bat)"
   ]
  },
  {
   "cell_type": "markdown",
   "id": "9f92620f",
   "metadata": {},
   "source": [
    "<font size=\"3\">Lafayette, LA: 1000 UTC 5 April 2022-1000 UTC 6 April 2022</font>"
   ]
  },
  {
   "cell_type": "code",
   "execution_count": 82,
   "id": "24bdf2f2",
   "metadata": {},
   "outputs": [
    {
     "name": "stdout",
     "output_type": "stream",
     "text": [
      "[22.3253, 22.3181, 22.3264, 22.4546, 23.0397, 23.3251, 25.2995, 25.8639, 26.4915, 27.109, 28.6933, 28.4502, 26.2415, 25.6019, 24.1578, 22.4943, 21.6935, 22.139, 21.9175, 22.3142, 22.0331, 21.7139, 21.8381, 21.8215, 21.951]\n",
      "25\n"
     ]
    }
   ],
   "source": [
    "#12 hr hrrr:\n",
    "with open('hrrr_f12_Lafayette_LA.txt') as f:\n",
    "    lst=[line.split()[1] for line in f]\n",
    "    temp=[]\n",
    "    for i in lst:\n",
    "        new=i.replace(',',\"\")\n",
    "        temp.append(new)\n",
    "    temp.pop(0)\n",
    "    temp=[float(x) for x in temp]\n",
    "    temp=temp[2254:2279]\n",
    "    #temp=temp[2015:2063]\n",
    "    print(temp)\n",
    "    print(len(temp))\n",
    "#full time period is [2015:2112]"
   ]
  },
  {
   "cell_type": "code",
   "execution_count": 83,
   "id": "5a4b31fa",
   "metadata": {},
   "outputs": [
    {
     "name": "stdout",
     "output_type": "stream",
     "text": [
      "[22.0, 22.2, 22.6, 22.5, 22.8, 23.5, 24.2, 25.3, 25.5, 25.5, 25.7, 25.9, 25.9, 25.4, 24.7, 23.4, 23.0, 23.0, 23.1, 23.2, 23.2, 23.3, 23.4, 23.4, 23.5]\n"
     ]
    }
   ],
   "source": [
    "#Air Temp CRN:\n",
    "with open('CRNH0203-2022-LA_Lafayette_13_SE.txt') as f:\n",
    "    lst=[line.split()[9] for line in f]\n",
    "    #print(lst)\n",
    "    temp_crn=[]\n",
    "    for i in lst:\n",
    "        new=i.replace(',',\"\")\n",
    "        temp_crn.append(new)\n",
    "    temp_crn=[float(x) for x in temp_crn]\n",
    "    temp_crn=temp_crn[2265:2290]\n",
    "    print(temp_crn)\n",
    "    #print(len(temp_crn))\n",
    "    # print(temp_crn[2124])"
   ]
  },
  {
   "cell_type": "code",
   "execution_count": 84,
   "id": "18c37a9b",
   "metadata": {},
   "outputs": [
    {
     "name": "stdout",
     "output_type": "stream",
     "text": [
      "[0.3252999999999986, 0.11810000000000187, -0.27360000000000184, -0.04540000000000077, 0.23969999999999914, -0.17490000000000094, 1.099499999999999, 0.5639000000000003, 0.9914999999999985, 1.6090000000000018, 2.9933000000000014, 2.5502000000000002, 0.3414999999999999, 0.20190000000000197, -0.5421999999999976, -0.9056999999999995, -1.3064999999999998, -0.8610000000000007, -1.182500000000001, -0.8857999999999997, -1.1668999999999983, -1.5861000000000018, -1.5618999999999978, -1.5784999999999982, -1.5489999999999995]\n"
     ]
    }
   ],
   "source": [
    "difference3_laf = []\n",
    "\n",
    "zip_object = zip(temp, temp_crn)\n",
    "for temp_i, temp_crn_i in zip_object:\n",
    "    difference3_laf.append(temp_i-temp_crn_i)\n",
    "\n",
    "print(difference3_laf)"
   ]
  },
  {
   "cell_type": "markdown",
   "id": "6bc47d22",
   "metadata": {},
   "source": [
    "<font size=\"3\">Monroe, LA: 1000 UTC 5 April 2022-1000 UTC 6 April 2022</font>"
   ]
  },
  {
   "cell_type": "code",
   "execution_count": 85,
   "id": "ff3754c7",
   "metadata": {},
   "outputs": [
    {
     "name": "stdout",
     "output_type": "stream",
     "text": [
      "[18.3878, 17.6306, 17.3264, 17.3921, 17.8522, 19.2001, 21.2995, 21.4889, 22.8665, 24.5465, 24.1308, 24.8877, 25.3665, 24.5394, 23.9078, 22.2443, 21.381, 20.4515, 20.9175, 20.6892, 20.5956, 21.5264, 21.7131, 21.5715, 21.3885]\n",
      "25\n"
     ]
    }
   ],
   "source": [
    "#12 hr hrrr:\n",
    "with open('hrrr_f12_Monroe_LA.txt') as f:\n",
    "    lst=[line.split()[1] for line in f]\n",
    "    temp=[]\n",
    "    for i in lst:\n",
    "        new=i.replace(',',\"\")\n",
    "        temp.append(new)\n",
    "    temp.pop(0)\n",
    "    temp=[float(x) for x in temp]\n",
    "    temp=temp[2254:2279]\n",
    "    #temp=temp[2015:2063]\n",
    "    print(temp)\n",
    "    print(len(temp))\n",
    "#full time period is [2015:2112]"
   ]
  },
  {
   "cell_type": "code",
   "execution_count": 86,
   "id": "e443548a",
   "metadata": {},
   "outputs": [
    {
     "name": "stdout",
     "output_type": "stream",
     "text": [
      "[17.2, 16.2, 16.1, 16.0, 16.3, 16.9, 18.2, 21.1, 23.5, 25.6, 26.9, 28.1, 28.7, 28.6, 26.4, 22.1, 20.1, 20.8, 22.7, 22.8, 22.6, 22.5, 22.5, 22.5, 22.4]\n"
     ]
    }
   ],
   "source": [
    "#Air Temp CRN:\n",
    "with open('CRNH0203-2022-LA_Monroe_26_N.txt') as f:\n",
    "    lst=[line.split()[9] for line in f]\n",
    "    #print(lst)\n",
    "    temp_crn=[]\n",
    "    for i in lst:\n",
    "        new=i.replace(',',\"\")\n",
    "        temp_crn.append(new)\n",
    "    temp_crn=[float(x) for x in temp_crn]\n",
    "    temp_crn=temp_crn[2265:2290]\n",
    "    print(temp_crn)\n",
    "    #print(len(temp_crn))\n",
    "    # print(temp_crn[2124])"
   ]
  },
  {
   "cell_type": "code",
   "execution_count": 87,
   "id": "cc1402aa",
   "metadata": {},
   "outputs": [
    {
     "name": "stdout",
     "output_type": "stream",
     "text": [
      "[1.1877999999999993, 1.4306000000000019, 1.2263999999999982, 1.3920999999999992, 1.5521999999999991, 2.3001000000000005, 3.099499999999999, 0.3888999999999996, -0.6335000000000015, -1.0534999999999997, -2.769199999999998, -3.2123000000000026, -3.333500000000001, -4.060600000000001, -2.492199999999997, 0.14429999999999765, 1.2809999999999988, -0.34850000000000136, -1.7824999999999989, -2.110800000000001, -2.0044000000000004, -0.9736000000000011, -0.7868999999999993, -0.9284999999999997, -1.011499999999998]\n"
     ]
    }
   ],
   "source": [
    "difference3_mon = []\n",
    "\n",
    "zip_object = zip(temp, temp_crn)\n",
    "for temp_i, temp_crn_i in zip_object:\n",
    "    difference3_mon.append(temp_i-temp_crn_i)\n",
    "\n",
    "print(difference3_mon)"
   ]
  },
  {
   "cell_type": "markdown",
   "id": "8e498386",
   "metadata": {},
   "source": [
    "<font size=\"3\">Holly Springs, MS: 1100 UTC 5 April 2022-1100 UTC 6 April 2022</font>"
   ]
  },
  {
   "cell_type": "code",
   "execution_count": 88,
   "id": "4b862993",
   "metadata": {},
   "outputs": [
    {
     "name": "stdout",
     "output_type": "stream",
     "text": [
      "[14.8806, 13.3264, 13.2046, 14.0397, 14.5751, 14.1745, 14.3639, 16.2415, 17.234, 18.9433, 17.6377, 17.6165, 17.2894, 17.0953, 16.8693, 16.256, 15.639, 14.23, 13.9392, 14.5956, 15.2764, 15.7131, 16.8215, 17.8885, 18.1015]\n",
      "25\n"
     ]
    }
   ],
   "source": [
    "#12 hr hrrr:\n",
    "with open('hrrr_f12_Holly Springs_MS.txt') as f:\n",
    "    lst=[line.split()[1] for line in f]\n",
    "    temp=[]\n",
    "    for i in lst:\n",
    "        new=i.replace(',',\"\")\n",
    "        temp.append(new)\n",
    "    temp.pop(0)\n",
    "    temp=[float(x) for x in temp]\n",
    "    temp=temp[2255:2280]\n",
    "    #temp=temp[2015:2063]\n",
    "    print(temp)\n",
    "    print(len(temp))\n",
    "#full time period is [2015:2112]"
   ]
  },
  {
   "cell_type": "code",
   "execution_count": 89,
   "id": "cf8e50e8",
   "metadata": {},
   "outputs": [
    {
     "name": "stdout",
     "output_type": "stream",
     "text": [
      "[12.6, 12.6, 12.8, 13.2, 13.0, 13.2, 13.6, 14.7, 16.0, 17.1, 18.4, 19.7, 20.3, 19.2, 15.5, 14.2, 14.6, 14.8, 14.5, 14.4, 14.0, 13.7, 15.2, 16.2, 17.0]\n"
     ]
    }
   ],
   "source": [
    "#Air Temp CRN:\n",
    "with open('CRNH0203-2022-MS_Holly_Springs_4_N.txt') as f:\n",
    "    lst=[line.split()[9] for line in f]\n",
    "    #print(lst)\n",
    "    temp_crn=[]\n",
    "    for i in lst:\n",
    "        new=i.replace(',',\"\")\n",
    "        temp_crn.append(new)\n",
    "    temp_crn=[float(x) for x in temp_crn]\n",
    "    temp_crn=temp_crn[2266:2291]\n",
    "    print(temp_crn)\n",
    "    #print(len(temp_crn))\n",
    "    # print(temp_crn[2124])"
   ]
  },
  {
   "cell_type": "code",
   "execution_count": 90,
   "id": "9625595c",
   "metadata": {},
   "outputs": [
    {
     "name": "stdout",
     "output_type": "stream",
     "text": [
      "[2.2805999999999997, 0.7263999999999999, 0.4045999999999985, 0.8397000000000006, 1.5751000000000008, 0.9745000000000008, 0.7638999999999996, 1.5414999999999992, 1.2340000000000018, 1.8432999999999993, -0.7622999999999998, -2.083500000000001, -3.0106, -2.1046999999999976, 1.369299999999999, 2.056000000000001, 1.0389999999999997, -0.5700000000000003, -0.5608000000000004, 0.19559999999999889, 1.2764000000000006, 2.0131000000000014, 1.621500000000001, 1.6885000000000012, 1.1015000000000015]\n"
     ]
    }
   ],
   "source": [
    "difference3_hol = []\n",
    "\n",
    "zip_object = zip(temp, temp_crn)\n",
    "for temp_i, temp_crn_i in zip_object:\n",
    "    difference3_hol.append(temp_i-temp_crn_i)\n",
    "\n",
    "print(difference3_hol)"
   ]
  },
  {
   "cell_type": "markdown",
   "id": "cec214d2",
   "metadata": {},
   "source": [
    "<font size=\"3\">Newton, MS: 1100 UTC 5 April 2022-1100 UTC 6 April 2022</font>"
   ]
  },
  {
   "cell_type": "code",
   "execution_count": 91,
   "id": "503148e4",
   "metadata": {},
   "outputs": [
    {
     "name": "stdout",
     "output_type": "stream",
     "text": [
      "[18.1306, 19.2014, 20.6421, 17.2272, 17.3876, 18.0495, 22.2389, 20.929, 23.7965, 24.0058, 23.6377, 23.429, 22.9769, 21.8453, 21.0568, 19.6935, 19.514, 18.73, 19.1892, 17.4081, 19.2139, 19.5256, 20.1965, 20.7635, 20.664]\n",
      "25\n"
     ]
    }
   ],
   "source": [
    "#12 hr hrrr:\n",
    "with open('hrrr_f12_Newton_MS.txt') as f:\n",
    "    lst=[line.split()[1] for line in f]\n",
    "    temp=[]\n",
    "    for i in lst:\n",
    "        new=i.replace(',',\"\")\n",
    "        temp.append(new)\n",
    "    temp.pop(0)\n",
    "    temp=[float(x) for x in temp]\n",
    "    temp=temp[2255:2280]\n",
    "    #temp=temp[2015:2063]\n",
    "    print(temp)\n",
    "    print(len(temp))\n",
    "#full time period is [2015:2112]"
   ]
  },
  {
   "cell_type": "code",
   "execution_count": 92,
   "id": "451fc547",
   "metadata": {},
   "outputs": [
    {
     "name": "stdout",
     "output_type": "stream",
     "text": [
      "[16.2, 18.1, 18.8, 18.0, 18.0, 17.5, 17.6, 20.0, 22.1, 23.2, 24.3, 24.3, 23.6, 22.0, 20.4, 19.7, 19.5, 19.5, 19.7, 19.6, 19.7, 20.4, 21.0, 21.3, 21.7]\n"
     ]
    }
   ],
   "source": [
    "#Air Temp CRN:\n",
    "with open('CRNH0203-2022-MS_Newton_5_ENE.txt') as f:\n",
    "    lst=[line.split()[9] for line in f]\n",
    "    #print(lst)\n",
    "    temp_crn=[]\n",
    "    for i in lst:\n",
    "        new=i.replace(',',\"\")\n",
    "        temp_crn.append(new)\n",
    "    temp_crn=[float(x) for x in temp_crn]\n",
    "    temp_crn=temp_crn[2266:2291]\n",
    "    print(temp_crn)\n",
    "    #print(len(temp_crn))\n",
    "    # print(temp_crn[2124])"
   ]
  },
  {
   "cell_type": "code",
   "execution_count": 93,
   "id": "a83781b3",
   "metadata": {},
   "outputs": [
    {
     "name": "stdout",
     "output_type": "stream",
     "text": [
      "[1.9306000000000019, 1.1013999999999982, 1.8420999999999985, -0.7728000000000002, -0.6124000000000009, 0.5494999999999983, 4.6389, 0.9289999999999985, 1.6965000000000003, 0.8058000000000014, -0.6623000000000019, -0.8710000000000022, -0.6231000000000009, -0.15469999999999828, 0.6568000000000005, -0.006499999999999062, 0.013999999999999346, -0.7699999999999996, -0.5107999999999997, -2.1919000000000004, -0.4861000000000004, -0.8743999999999978, -0.8034999999999997, -0.5365000000000002, -1.0359999999999978]\n"
     ]
    }
   ],
   "source": [
    "difference3_new = []\n",
    "\n",
    "zip_object = zip(temp, temp_crn)\n",
    "for temp_i, temp_crn_i in zip_object:\n",
    "    difference3_new.append(temp_i-temp_crn_i)\n",
    "\n",
    "print(difference3_new)"
   ]
  },
  {
   "cell_type": "markdown",
   "id": "576090a5",
   "metadata": {},
   "source": [
    "<font size=\"3\">Gainesville, AL: 1300 UTC 5 April 2022-1300 UTC 6 April 2022</font>"
   ]
  },
  {
   "cell_type": "code",
   "execution_count": 94,
   "id": "48d4bab2",
   "metadata": {},
   "outputs": [
    {
     "name": "stdout",
     "output_type": "stream",
     "text": [
      "[18.5171, 19.0397, 18.0126, 17.612, 19.2389, 20.554, 23.1715, 24.8808, 23.3252, 22.804, 22.7894, 22.4703, 21.0568, 19.6935, 20.2015, 19.1675, 18.0642, 17.2206, 17.5264, 18.5256, 18.509, 19.576, 19.789, 20.3433, 20.8504]\n",
      "25\n"
     ]
    }
   ],
   "source": [
    "#12 hr hrrr:\n",
    "with open('hrrr_f12_Gainesville_AL.txt') as f:\n",
    "    lst=[line.split()[1] for line in f]\n",
    "    temp=[]\n",
    "    for i in lst:\n",
    "        new=i.replace(',',\"\")\n",
    "        temp.append(new)\n",
    "    temp.pop(0)\n",
    "    temp=[float(x) for x in temp]\n",
    "    temp=temp[2257:2282]\n",
    "    #temp=temp[2015:2063]\n",
    "    print(temp)\n",
    "    print(len(temp))\n",
    "#full time period is [2015:2112]"
   ]
  },
  {
   "cell_type": "code",
   "execution_count": 95,
   "id": "d2d3b56b",
   "metadata": {},
   "outputs": [
    {
     "name": "stdout",
     "output_type": "stream",
     "text": [
      "[15.6, 16.0, 16.1, 17.5, 17.9, 19.3, 21.1, 23.5, 25.0, 25.6, 25.0, 23.6, 21.4, 20.0, 19.1, 18.4, 18.4, 19.0, 19.0, 19.5, 20.0, 20.2, 20.3, 20.6, 21.1]\n"
     ]
    }
   ],
   "source": [
    "#Air Temp CRN:\n",
    "with open('CRNH0203-2022-AL_Gainesville_2_NE.txt') as f:\n",
    "    lst=[line.split()[9] for line in f]\n",
    "    #print(lst)\n",
    "    temp_crn=[]\n",
    "    for i in lst:\n",
    "        new=i.replace(',',\"\")\n",
    "        temp_crn.append(new)\n",
    "    temp_crn=[float(x) for x in temp_crn]\n",
    "    temp_crn=temp_crn[2268:2293]\n",
    "    print(temp_crn)\n",
    "    #print(len(temp_crn))\n",
    "    # print(temp_crn[2124])"
   ]
  },
  {
   "cell_type": "code",
   "execution_count": 96,
   "id": "b1176cf2",
   "metadata": {},
   "outputs": [
    {
     "name": "stdout",
     "output_type": "stream",
     "text": [
      "[2.9170999999999996, 3.0397, 1.9125999999999976, 0.11199999999999832, 1.3389000000000024, 1.2539999999999978, 2.0715000000000003, 1.3808000000000007, -1.6748000000000012, -2.796000000000003, -2.2105999999999995, -1.1296999999999997, -0.3431999999999995, -0.3064999999999998, 1.101499999999998, 0.7675000000000018, -0.335799999999999, -1.779399999999999, -1.4736000000000011, -0.9743999999999993, -1.4909999999999997, -0.6239999999999988, -0.5109999999999992, -0.25670000000000215, -0.24960000000000093]\n"
     ]
    }
   ],
   "source": [
    "difference3_gai = []\n",
    "\n",
    "zip_object = zip(temp, temp_crn)\n",
    "for temp_i, temp_crn_i in zip_object:\n",
    "    difference3_gai.append(temp_i-temp_crn_i)\n",
    "\n",
    "print(difference3_gai)"
   ]
  },
  {
   "cell_type": "markdown",
   "id": "0a541e7a",
   "metadata": {},
   "source": [
    "<font size=\"3\">Fairhope, AL: 1300 UTC 5 April 2022-1300 UTC 6 April 2022</font>"
   ]
  },
  {
   "cell_type": "code",
   "execution_count": 97,
   "id": "26818932",
   "metadata": {},
   "outputs": [
    {
     "name": "stdout",
     "output_type": "stream",
     "text": [
      "[22.5171, 23.2272, 23.9501, 24.237, 24.1764, 24.304, 23.609, 19.6933, 20.3877, 21.4915, 19.9144, 20.5953, 21.8693, 21.756, 21.8265, 21.7925, 21.8142, 21.7831, 21.7139, 21.7131, 21.6965, 21.7635, 21.9765, 21.9058, 22.2254]\n",
      "25\n"
     ]
    }
   ],
   "source": [
    "#12 hr hrrr:\n",
    "with open('hrrr_f12_Fairhope_AL.txt') as f:\n",
    "    lst=[line.split()[1] for line in f]\n",
    "    temp=[]\n",
    "    for i in lst:\n",
    "        new=i.replace(',',\"\")\n",
    "        temp.append(new)\n",
    "    temp.pop(0)\n",
    "    temp=[float(x) for x in temp]\n",
    "    temp=temp[2257:2282]\n",
    "    #temp=temp[2015:2063]\n",
    "    print(temp)\n",
    "    print(len(temp))\n",
    "#full time period is [2015:2112]"
   ]
  },
  {
   "cell_type": "code",
   "execution_count": 98,
   "id": "0f24863a",
   "metadata": {},
   "outputs": [
    {
     "name": "stdout",
     "output_type": "stream",
     "text": [
      "[23.4, 23.7, 24.1, 24.2, 23.9, 19.2, 16.3, 16.8, 18.1, 18.4, 18.6, 19.2, 19.5, 19.9, 20.5, 22.2, 22.9, 22.8, 22.9, 22.8, 22.6, 22.6, 22.8, 22.7, 23.1]\n"
     ]
    }
   ],
   "source": [
    "#Air Temp CRN:\n",
    "with open('CRNH0203-2022-AL_Fairhope_3_NE.txt') as f:\n",
    "    lst=[line.split()[9] for line in f]\n",
    "    #print(lst)\n",
    "    temp_crn=[]\n",
    "    for i in lst:\n",
    "        new=i.replace(',',\"\")\n",
    "        temp_crn.append(new)\n",
    "    temp_crn=[float(x) for x in temp_crn]\n",
    "    temp_crn=temp_crn[2268:2293]\n",
    "    print(temp_crn)\n",
    "    #print(len(temp_crn))\n",
    "    # print(temp_crn[2124])"
   ]
  },
  {
   "cell_type": "code",
   "execution_count": 99,
   "id": "e08d6481",
   "metadata": {},
   "outputs": [
    {
     "name": "stdout",
     "output_type": "stream",
     "text": [
      "[-0.8828999999999994, -0.47279999999999944, -0.14990000000000236, 0.036999999999999034, 0.2764000000000024, 5.103999999999999, 7.309000000000001, 2.8933, 2.2876999999999974, 3.0915, 1.3143999999999991, 1.3953000000000024, 2.369299999999999, 1.8560000000000016, 1.3264999999999993, -0.40749999999999886, -1.085799999999999, -1.0168999999999997, -1.1860999999999997, -1.0869, -0.9035000000000011, -0.8365000000000009, -0.8234999999999992, -0.7942, -0.8746000000000009]\n"
     ]
    }
   ],
   "source": [
    "difference3_fai = []\n",
    "\n",
    "zip_object = zip(temp, temp_crn)\n",
    "for temp_i, temp_crn_i in zip_object:\n",
    "    difference3_fai.append(temp_i-temp_crn_i)\n",
    "\n",
    "print(difference3_fai)"
   ]
  },
  {
   "cell_type": "markdown",
   "id": "817a1997",
   "metadata": {},
   "source": [
    "<font size=\"3\">Selma, AL: 1300 UTC 5 April 2022-1300 UTC 6 April 2022</font>"
   ]
  },
  {
   "cell_type": "code",
   "execution_count": 100,
   "id": "3850a5ea",
   "metadata": {},
   "outputs": [
    {
     "name": "stdout",
     "output_type": "stream",
     "text": [
      "[18.0171, 19.3522, 20.6376, 19.987, 20.9264, 19.554, 19.0465, 20.8183, 21.8877, 20.8665, 20.4144, 19.0328, 19.1193, 18.8185, 18.139, 18.605, 17.6267, 18.0331, 17.8389, 17.9006, 18.1965, 18.6385, 19.3515, 19.2183, 21.0379]\n",
      "25\n",
      "[16.5, 16.8, 18.5, 19.6, 18.7, 18.1, 17.8, 18.5, 19.3, 19.8, 19.8, 18.9, 18.2, 17.9, 17.7, 17.3, 18.5, 19.4, 19.5, 19.4, 19.3, 19.5, 19.9, 20.3, 20.6]\n",
      "25\n",
      "[1.5170999999999992, 2.552199999999999, 2.137599999999999, 0.3869999999999969, 2.2264000000000017, 1.453999999999997, 1.246500000000001, 2.3183000000000007, 2.587699999999998, 1.0664999999999978, 0.6143999999999998, 0.13280000000000314, 0.9192999999999998, 0.9185000000000016, 0.43900000000000006, 1.3049999999999997, -0.8733000000000004, -1.3668999999999976, -1.6611000000000011, -1.4993999999999978, -1.1035000000000004, -0.8614999999999995, -0.5484999999999971, -1.0817000000000014, 0.43789999999999907]\n",
      "25\n"
     ]
    }
   ],
   "source": [
    "#12 hr hrrr:\n",
    "with open('hrrr_f12_Selma_AL.txt') as f:\n",
    "    lst=[line.split()[1] for line in f]\n",
    "    temp=[]\n",
    "    for i in lst:\n",
    "        new=i.replace(',',\"\")\n",
    "        temp.append(new)\n",
    "    temp.pop(0)\n",
    "    temp=[float(x) for x in temp]\n",
    "    temp=temp[2257:2282]\n",
    "    \n",
    "#Air Temp CRN:\n",
    "with open('CRNH0203-2022-AL_Selma_13_WNW.txt') as f:\n",
    "    lst=[line.split()[9] for line in f]\n",
    "    #print(lst)\n",
    "    temp_crn=[]\n",
    "    for i in lst:\n",
    "        new=i.replace(',',\"\")\n",
    "        temp_crn.append(new)\n",
    "    temp_crn=[float(x) for x in temp_crn]\n",
    "    temp_crn=temp_crn[2268:2293]\n",
    "\n",
    "    print(temp)\n",
    "    print(len(temp))\n",
    "    print(temp_crn)\n",
    "    print(len(temp_crn))\n",
    "#full time period is [2015:2112]\n",
    "difference3_sel = []\n",
    "\n",
    "zip_object = zip(temp, temp_crn)\n",
    "for temp_i, temp_crn_i in zip_object:\n",
    "    difference3_sel.append(temp_i-temp_crn_i)\n",
    "\n",
    "print(difference3_sel)\n",
    "print(len(difference3_sel))"
   ]
  },
  {
   "cell_type": "markdown",
   "id": "8492b45b",
   "metadata": {},
   "source": [
    "<font size=\"3\">Bowling Green, KY: 1500 UTC 5 April 2022-1500 UTC 6 April 2022</font>"
   ]
  },
  {
   "cell_type": "code",
   "execution_count": 101,
   "id": "f04dad03",
   "metadata": {},
   "outputs": [
    {
     "name": "stdout",
     "output_type": "stream",
     "text": [
      "[15.2626, 17.112, 16.4264, 14.2415, 13.484, 14.5058, 13.3252, 13.304, 12.3519, 12.3453, 10.5568, 9.75601, 9.07651, 8.79248, 9.68918, 9.09561, 9.02637, 9.2756, 9.1965, 9.76346, 10.1015, 10.8433, 11.7254, 13.0771, 13.7357]\n",
      "25\n"
     ]
    }
   ],
   "source": [
    "#12 hr hrrr:\n",
    "with open('hrrr_f12_Bowling Green_KY.txt') as f:\n",
    "    lst=[line.split()[1] for line in f]\n",
    "    temp=[]\n",
    "    for i in lst:\n",
    "        new=i.replace(',',\"\")\n",
    "        temp.append(new)\n",
    "    temp.pop(0)\n",
    "    temp=[float(x) for x in temp]\n",
    "    temp=temp[2259:2284]\n",
    "    #temp=temp[2015:2063]\n",
    "    print(temp)\n",
    "    print(len(temp))"
   ]
  },
  {
   "cell_type": "code",
   "execution_count": 102,
   "id": "679e4a94",
   "metadata": {},
   "outputs": [],
   "source": [
    "# hour=[]\n",
    "# for i in range(-8,17,1):\n",
    "#     hour.append(i)\n",
    "#     i+=1\n",
    "# print(len(hour))"
   ]
  },
  {
   "cell_type": "code",
   "execution_count": 103,
   "id": "9c3d4d9e",
   "metadata": {},
   "outputs": [
    {
     "name": "stdout",
     "output_type": "stream",
     "text": [
      "[12.1, 11.9, 12.0, 12.4, 12.2, 11.9, 12.2, 12.5, 12.4, 12.3, 11.9, 11.6, 10.7, 9.9, 10.3, 10.5, 10.4, 10.8, 11.1, 11.0, 11.2, 11.2, 12.1, 12.8, 13.5]\n"
     ]
    }
   ],
   "source": [
    "#Air Temp CRN:\n",
    "with open('CRNH0203-2022-KY_Bowling_Green_21_NNE.txt') as f:\n",
    "    lst=[line.split()[9] for line in f]\n",
    "    #print(lst)\n",
    "    temp_crn=[]\n",
    "    for i in lst:\n",
    "        new=i.replace(',',\"\")\n",
    "        temp_crn.append(new)\n",
    "    temp_crn=[float(x) for x in temp_crn]\n",
    "    temp_crn=temp_crn[2270:2295]\n",
    "    print(temp_crn)\n",
    "    #print(len(temp_crn))\n",
    "    # print(temp_crn[2124])"
   ]
  },
  {
   "cell_type": "code",
   "execution_count": 104,
   "id": "8047270f",
   "metadata": {},
   "outputs": [
    {
     "name": "stdout",
     "output_type": "stream",
     "text": [
      "[3.162600000000001, 5.211999999999998, 4.426400000000001, 1.8415, 1.2840000000000007, 2.6058000000000003, 1.1252000000000013, 0.8040000000000003, -0.04809999999999981, 0.04529999999999923, -1.3431999999999995, -1.8439899999999998, -1.6234899999999985, -1.107520000000001, -0.6108200000000004, -1.4043899999999994, -1.3736300000000004, -1.5244, -1.9034999999999993, -1.2365399999999998, -1.0984999999999996, -0.3567, -0.37459999999999916, 0.277099999999999, 0.23569999999999958]\n"
     ]
    }
   ],
   "source": [
    "difference3_bow = []\n",
    "\n",
    "zip_object = zip(temp, temp_crn)\n",
    "for temp_i, temp_crn_i in zip_object:\n",
    "    difference3_bow.append(temp_i-temp_crn_i)\n",
    "\n",
    "print(difference3_bow)"
   ]
  },
  {
   "cell_type": "markdown",
   "id": "e3343352",
   "metadata": {},
   "source": [
    "<font size=\"3\">Gadsden, AL: 1500 UTC 5 April 2022-1500 UTC 6 April 2022</font>"
   ]
  },
  {
   "cell_type": "code",
   "execution_count": 105,
   "id": "b5d956b1",
   "metadata": {},
   "outputs": [
    {
     "name": "stdout",
     "output_type": "stream",
     "text": [
      "[11.5751, 11.987, 13.3014, 13.429, 15.7965, 18.7558, 18.8877, 19.3665, 18.9144, 17.6578, 16.2443, 14.8185, 13.764, 12.6675, 12.8142, 12.5956, 12.4014, 12.5256, 13.3215, 14.0135, 14.4765, 14.7808, 15.2254, 16.2021, 17.4232]\n",
      "25\n"
     ]
    }
   ],
   "source": [
    "#12 hr hrrr:\n",
    "with open('hrrr_f12_Gadsden_AL.txt') as f:\n",
    "    lst=[line.split()[1] for line in f]\n",
    "    temp=[]\n",
    "    for i in lst:\n",
    "        new=i.replace(',',\"\")\n",
    "        temp.append(new)\n",
    "    temp.pop(0)\n",
    "    temp=[float(x) for x in temp]\n",
    "    temp=temp[2259:2284]\n",
    "    #temp=temp[2015:2063]\n",
    "    print(temp)\n",
    "    print(len(temp))\n",
    "#full time period is [2015:2112]"
   ]
  },
  {
   "cell_type": "code",
   "execution_count": 106,
   "id": "3e263dee",
   "metadata": {},
   "outputs": [
    {
     "name": "stdout",
     "output_type": "stream",
     "text": [
      "[11.0, 11.3, 11.6, 12.4, 14.0, 16.9, 17.7, 18.1, 18.4, 18.3, 17.2, 14.9, 13.3, 12.1, 13.0, 13.0, 13.6, 13.9, 14.4, 14.6, 15.0, 15.4, 16.0, 16.9, 17.6]\n"
     ]
    }
   ],
   "source": [
    "#Air Temp CRN:\n",
    "with open('CRNH0203-2022-AL_Gadsden_19_N.txt') as f:\n",
    "    lst=[line.split()[9] for line in f]\n",
    "    #print(lst)\n",
    "    temp_crn=[]\n",
    "    for i in lst:\n",
    "        new=i.replace(',',\"\")\n",
    "        temp_crn.append(new)\n",
    "    temp_crn=[float(x) for x in temp_crn]\n",
    "    temp_crn=temp_crn[2270:2295]\n",
    "    print(temp_crn)\n",
    "    #print(len(temp_crn))\n",
    "    # print(temp_crn[2124])"
   ]
  },
  {
   "cell_type": "code",
   "execution_count": 107,
   "id": "9ac3a61b",
   "metadata": {},
   "outputs": [
    {
     "name": "stdout",
     "output_type": "stream",
     "text": [
      "[0.5751000000000008, 0.6869999999999994, 1.7013999999999996, 1.029, 1.7965, 1.8558000000000021, 1.1876999999999995, 1.266499999999997, 0.514400000000002, -0.642199999999999, -0.9557000000000002, -0.08150000000000013, 0.46399999999999864, 0.5675000000000008, -0.1858000000000004, -0.40440000000000076, -1.198599999999999, -1.3743999999999996, -1.0785, -0.5864999999999991, -0.5235000000000003, -0.6192000000000011, -0.7745999999999995, -0.6978999999999971, -0.17680000000000007]\n"
     ]
    }
   ],
   "source": [
    "difference3_gad = []\n",
    "\n",
    "zip_object = zip(temp, temp_crn)\n",
    "for temp_i, temp_crn_i in zip_object:\n",
    "    difference3_gad.append(temp_i-temp_crn_i)\n",
    "\n",
    "print(difference3_gad)"
   ]
  },
  {
   "cell_type": "markdown",
   "id": "24b41c3d",
   "metadata": {},
   "source": [
    "<font size=\"3\">Newton, GA: 1800 UTC 5 April 2022-1800 UTC 6 April 2022</font>"
   ]
  },
  {
   "cell_type": "code",
   "execution_count": 108,
   "id": "a8841de8",
   "metadata": {},
   "outputs": [
    {
     "name": "stdout",
     "output_type": "stream",
     "text": [
      "[25.7415, 27.6715, 28.2558, 26.9502, 22.8665, 18.9769, 18.9703, 19.1193, 19.131, 18.8265, 18.98, 18.7517, 21.5956, 21.0889, 20.5256, 19.009, 19.326, 18.2265, 18.5308, 21.0379, 23.1396, 24.2982, 25.0232, 26.2415, 25.5895]\n",
      "25\n"
     ]
    }
   ],
   "source": [
    "#12 hr hrrr:\n",
    "with open('hrrr_f12_Newton_GA.txt') as f:\n",
    "    lst=[line.split()[1] for line in f]\n",
    "    temp=[]\n",
    "    for i in lst:\n",
    "        new=i.replace(',',\"\")\n",
    "        temp.append(new)\n",
    "    temp.pop(0)\n",
    "    temp=[float(x) for x in temp]\n",
    "    temp=temp[2262:2287]\n",
    "    #temp=temp[2015:2063]\n",
    "    print(temp)\n",
    "    print(len(temp))\n",
    "#full time period is [2015:2112]"
   ]
  },
  {
   "cell_type": "code",
   "execution_count": 109,
   "id": "8a62826d",
   "metadata": {},
   "outputs": [
    {
     "name": "stdout",
     "output_type": "stream",
     "text": [
      "[25.7, 27.0, 25.7, 17.5, 17.1, 16.9, 17.0, 17.1, 17.2, 17.2, 17.0, 17.2, 17.6, 18.1, 18.8, 19.7, 20.4, 21.1, 21.4, 22.2, 23.2, 24.5, 25.5, 26.7, 27.4]\n"
     ]
    }
   ],
   "source": [
    "#Air Temp CRN:\n",
    "with open('CRNH0203-2022-GA_Newton_11_SW.txt') as f:\n",
    "    lst=[line.split()[9] for line in f]\n",
    "    #print(lst)\n",
    "    temp_crn=[]\n",
    "    for i in lst:\n",
    "        new=i.replace(',',\"\")\n",
    "        temp_crn.append(new)\n",
    "    temp_crn=[float(x) for x in temp_crn]\n",
    "    temp_crn=temp_crn[2273:2298]\n",
    "    print(temp_crn)\n",
    "    #print(len(temp_crn))\n",
    "    # print(temp_crn[2124])"
   ]
  },
  {
   "cell_type": "code",
   "execution_count": 110,
   "id": "474e5fae",
   "metadata": {},
   "outputs": [
    {
     "name": "stdout",
     "output_type": "stream",
     "text": [
      "[0.041499999999999204, 0.6715000000000018, 2.5558000000000014, 9.450199999999999, 5.766499999999997, 2.076900000000002, 1.9703000000000017, 2.0192999999999977, 1.931000000000001, 1.6265, 1.9800000000000004, 1.5517000000000003, 3.9955999999999996, 2.9888999999999974, 1.7256, -0.690999999999999, -1.073999999999998, -2.8735, -2.8691999999999993, -1.1620999999999988, -0.06039999999999779, -0.20179999999999865, -0.4768000000000008, -0.4585000000000008, -1.8104999999999976]\n"
     ]
    }
   ],
   "source": [
    "difference3_newt = []\n",
    "\n",
    "zip_object = zip(temp, temp_crn)\n",
    "for temp_i, temp_crn_i in zip_object:\n",
    "    difference3_newt.append(temp_i-temp_crn_i)\n",
    "\n",
    "print(difference3_newt)"
   ]
  },
  {
   "cell_type": "markdown",
   "id": "e079df5d",
   "metadata": {},
   "source": [
    "<font size=\"3\">Salem, MO: 1500 UTC 13 April 2022-1500 UTC 14 April 2022</font>"
   ]
  },
  {
   "cell_type": "code",
   "execution_count": 111,
   "id": "8a544d44",
   "metadata": {},
   "outputs": [
    {
     "name": "stdout",
     "output_type": "stream",
     "text": [
      "[17.2982, 16.377, 15.7038, 15.963, 16.9752, 13.2426, 8.42667, 6.45584, 6.00217, 5.60703, 4.5051, 4.23022, 3.49191, 3.34857, 2.78616, 2.5134, 1.95633, 1.65671, 1.38589, 1.13782, 0.966736, 1.28647, 3.80338, 6.94391, 8.70554]\n",
      "25\n"
     ]
    }
   ],
   "source": [
    "#12 hr hrrr:\n",
    "with open('hrrr_f12_Salem_MO.txt') as f:\n",
    "    lst=[line.split()[1] for line in f]\n",
    "    temp=[]\n",
    "    for i in lst:\n",
    "        new=i.replace(',',\"\")\n",
    "        temp.append(new)\n",
    "    temp.pop(0)\n",
    "    temp=[float(x) for x in temp]\n",
    "    temp=temp[2451:2476]\n",
    "    #temp=temp[2015:2063]\n",
    "    print(temp)\n",
    "    print(len(temp))\n",
    "#full time period is [2015:2112]"
   ]
  },
  {
   "cell_type": "code",
   "execution_count": 112,
   "id": "7f147a99",
   "metadata": {},
   "outputs": [
    {
     "name": "stdout",
     "output_type": "stream",
     "text": [
      "[18.0, 16.9, 16.2, 14.9, 14.6, 13.5, 7.3, 6.4, 5.7, 5.5, 4.9, 4.8, 5.2, 4.3, 3.0, 1.3, -0.5, -0.9, -1.3, -1.6, -1.4, -1.6, 0.5, 5.6, 9.4]\n"
     ]
    }
   ],
   "source": [
    "#Air Temp CRN:\n",
    "with open('CRNH0203-2022-MO_Salem_10_W.txt') as f:\n",
    "    lst=[line.split()[9] for line in f]\n",
    "    #print(lst)\n",
    "    temp_crn=[]\n",
    "    for i in lst:\n",
    "        new=i.replace(',',\"\")\n",
    "        temp_crn.append(new)\n",
    "    temp_crn=[float(x) for x in temp_crn]\n",
    "    temp_crn=temp_crn[2462:2487]\n",
    "    print(temp_crn)\n",
    "    #print(len(temp_crn))\n",
    "    # print(temp_crn[2124])"
   ]
  },
  {
   "cell_type": "code",
   "execution_count": 113,
   "id": "9b8b2fac",
   "metadata": {},
   "outputs": [
    {
     "name": "stdout",
     "output_type": "stream",
     "text": [
      "25\n"
     ]
    }
   ],
   "source": [
    "hour=[]\n",
    "for i in range(-12,13,1):\n",
    "    hour.append(i)\n",
    "    i+=1\n",
    "print(len(hour))"
   ]
  },
  {
   "cell_type": "code",
   "execution_count": 114,
   "id": "cfc37d3d",
   "metadata": {},
   "outputs": [
    {
     "name": "stdout",
     "output_type": "stream",
     "text": [
      "[-0.7017999999999986, -0.5229999999999997, -0.4962, 1.0629999999999988, 2.3752000000000013, -0.2574000000000005, 1.1266699999999998, 0.05583999999999989, 0.3021699999999994, 0.10702999999999996, -0.3949000000000007, -0.5697799999999997, -1.7080900000000003, -0.9514299999999998, -0.2138399999999998, 1.2133999999999998, 2.45633, 2.55671, 2.68589, 2.73782, 2.366736, 2.88647, 3.30338, 1.3439100000000002, -0.6944600000000012]\n"
     ]
    }
   ],
   "source": [
    "difference4_sal = []\n",
    "\n",
    "zip_object = zip(temp, temp_crn)\n",
    "for temp_i, temp_crn_i in zip_object:\n",
    "    difference4_sal.append(temp_i-temp_crn_i)\n",
    "\n",
    "print(difference4_sal)"
   ]
  },
  {
   "cell_type": "markdown",
   "id": "1baa8356",
   "metadata": {},
   "source": [
    "<font size=\"3\">Batesville, AR: 1500 UTC 13 April 2022-1500 UTC 14 April 2022</font>"
   ]
  },
  {
   "cell_type": "code",
   "execution_count": 115,
   "id": "50af2a53",
   "metadata": {},
   "outputs": [
    {
     "name": "stdout",
     "output_type": "stream",
     "text": [
      "[20.1732, 20.502, 21.5788, 21.463, 21.4127, 21.5551, 19.8642, 15.3308, 12.5647, 10.6695, 8.5051, 7.85522, 7.86691, 7.53607, 7.03616, 6.6384, 5.39383, 5.40671, 4.82339, 4.26282, 3.90424, 4.03647, 6.17838, 9.06891, 10.8305]\n",
      "25\n"
     ]
    }
   ],
   "source": [
    "#12 hr hrrr:\n",
    "with open('hrrr_f12_Batesville_AR.txt') as f:\n",
    "    lst=[line.split()[1] for line in f]\n",
    "    temp=[]\n",
    "    for i in lst:\n",
    "        new=i.replace(',',\"\")\n",
    "        temp.append(new)\n",
    "    temp.pop(0)\n",
    "    temp=[float(x) for x in temp]\n",
    "    temp=temp[2451:2476]\n",
    "    #temp=temp[2015:2063]\n",
    "    print(temp)\n",
    "    print(len(temp))\n",
    "#full time period is [2015:2112]"
   ]
  },
  {
   "cell_type": "code",
   "execution_count": 116,
   "id": "3f6ddd59",
   "metadata": {},
   "outputs": [
    {
     "name": "stdout",
     "output_type": "stream",
     "text": [
      "[18.5, 19.4, 20.0, 20.2, 18.4, 17.9, 17.5, 17.3, 12.1, 10.9, 10.7, 10.3, 9.8, 8.9, 8.4, 7.4, 5.4, 3.2, 1.5, 1.3, 0.5, 0.0, 1.0, 5.4, 8.6]\n"
     ]
    }
   ],
   "source": [
    "#Air Temp CRN:\n",
    "with open('CRNH0203-2022-AR_Batesville_8_WNW.txt') as f:\n",
    "    lst=[line.split()[9] for line in f]\n",
    "    #print(lst)\n",
    "    temp_crn=[]\n",
    "    for i in lst:\n",
    "        new=i.replace(',',\"\")\n",
    "        temp_crn.append(new)\n",
    "    temp_crn=[float(x) for x in temp_crn]\n",
    "    temp_crn=temp_crn[2462:2487]\n",
    "    print(temp_crn)\n",
    "    #print(len(temp_crn))\n",
    "    # print(temp_crn[2124])"
   ]
  },
  {
   "cell_type": "code",
   "execution_count": 117,
   "id": "3ca802b3",
   "metadata": {},
   "outputs": [
    {
     "name": "stdout",
     "output_type": "stream",
     "text": [
      "[1.6732000000000014, 1.1020000000000003, 1.578800000000001, 1.2630000000000017, 3.0127000000000024, 3.655100000000001, 2.3642000000000003, -1.9692000000000007, 0.46470000000000056, -0.23050000000000104, -2.1948999999999987, -2.4447800000000006, -1.9330900000000009, -1.3639300000000008, -1.3638400000000006, -0.7616000000000005, -0.006170000000000009, 2.20671, 3.32339, 2.96282, 3.40424, 4.03647, 5.17838, 3.6689100000000003, 2.230500000000001]\n"
     ]
    }
   ],
   "source": [
    "difference4_bat = []\n",
    "\n",
    "zip_object = zip(temp, temp_crn)\n",
    "for temp_i, temp_crn_i in zip_object:\n",
    "    difference4_bat.append(temp_i-temp_crn_i)\n",
    "\n",
    "print(difference4_bat)"
   ]
  },
  {
   "cell_type": "markdown",
   "id": "ed60c082",
   "metadata": {},
   "source": [
    "<font size=\"3\">Lafayette, LA: 2000 UTC 13 April 2022-2000 UTC 14 April 2022\n",
    "</font>"
   ]
  },
  {
   "cell_type": "code",
   "execution_count": 118,
   "id": "8be3433b",
   "metadata": {},
   "outputs": [
    {
     "name": "stdout",
     "output_type": "stream",
     "text": [
      "[27.3051, 25.4267, 24.7683, 24.1897, 23.482, 23.5676, 22.9802, 23.1794, 22.4736, 22.3487, 18.7009, 19.0188, 18.7817, 17.4484, 15.8253, 16.4042, 15.6615, 16.6784, 16.2564, 18.018, 18.9352, 20.6827, 22.0416, 23.1388, 24.6067]\n",
      "25\n"
     ]
    }
   ],
   "source": [
    "#12 hr hrrr:\n",
    "with open('hrrr_f12_Lafayette_LA.txt') as f:\n",
    "    lst=[line.split()[1] for line in f]\n",
    "    temp=[]\n",
    "    for i in lst:\n",
    "        new=i.replace(',',\"\")\n",
    "        temp.append(new)\n",
    "    temp.pop(0)\n",
    "    temp=[float(x) for x in temp]\n",
    "    temp=temp[2456:2481]\n",
    "    #temp=temp[2015:2063]\n",
    "    print(temp)\n",
    "    print(len(temp))\n",
    "#full time period is [2015:2112]"
   ]
  },
  {
   "cell_type": "code",
   "execution_count": 119,
   "id": "8a5add55",
   "metadata": {},
   "outputs": [
    {
     "name": "stdout",
     "output_type": "stream",
     "text": [
      "[24.8, 25.0, 25.1, 24.5, 24.1, 23.7, 23.6, 22.2, 15.7, 15.5, 15.6, 16.0, 16.3, 17.2, 16.6, 15.5, 15.1, 15.1, 16.3, 18.2, 19.7, 21.8, 23.8, 24.9, 25.9]\n"
     ]
    }
   ],
   "source": [
    "#Air Temp CRN:\n",
    "with open('CRNH0203-2022-LA_Lafayette_13_SE.txt') as f:\n",
    "    lst=[line.split()[9] for line in f]\n",
    "    #print(lst)\n",
    "    temp_crn=[]\n",
    "    for i in lst:\n",
    "        new=i.replace(',',\"\")\n",
    "        temp_crn.append(new)\n",
    "    temp_crn=[float(x) for x in temp_crn]\n",
    "    temp_crn=temp_crn[2467:2492]\n",
    "    print(temp_crn)\n",
    "    #print(len(temp_crn))\n",
    "    # print(temp_crn[2124])"
   ]
  },
  {
   "cell_type": "code",
   "execution_count": 120,
   "id": "f0730891",
   "metadata": {},
   "outputs": [
    {
     "name": "stdout",
     "output_type": "stream",
     "text": [
      "[2.5050999999999988, 0.4267000000000003, -0.33170000000000144, -0.3103000000000016, -0.6180000000000021, -0.13240000000000052, -0.6198000000000015, 0.9794000000000018, 6.773600000000002, 6.848700000000001, 3.100900000000001, 3.018799999999999, 2.4817, 0.24840000000000018, -0.774700000000001, 0.9041999999999994, 0.5615000000000006, 1.5784000000000002, -0.043600000000001415, -0.1819999999999986, -0.764800000000001, -1.1173000000000002, -1.7584000000000017, -1.7611999999999988, -1.2932999999999986]\n"
     ]
    }
   ],
   "source": [
    "difference4_laf = []\n",
    "\n",
    "zip_object = zip(temp, temp_crn)\n",
    "for temp_i, temp_crn_i in zip_object:\n",
    "    difference4_laf.append(temp_i-temp_crn_i)\n",
    "\n",
    "print(difference4_laf)"
   ]
  },
  {
   "cell_type": "markdown",
   "id": "a4cb46d7",
   "metadata": {},
   "source": [
    "<font size=\"3\">Monroe, LA: 2000 UTC 13 April 2022-2000 UTC 14 April 2022</font>"
   ]
  },
  {
   "cell_type": "code",
   "execution_count": 121,
   "id": "bc9822b1",
   "metadata": {},
   "outputs": [
    {
     "name": "stdout",
     "output_type": "stream",
     "text": [
      "[26.3676, 25.0517, 25.1433, 24.3772, 19.5445, 19.8176, 17.4177, 15.4294, 13.4111, 12.5987, 11.8884, 11.1438, 10.8442, 10.2609, 9.38782, 9.40424, 8.72397, 10.0534, 11.1314, 12.5805, 14.0602, 16.3702, 17.9166, 19.3263, 19.9817]\n",
      "25\n"
     ]
    }
   ],
   "source": [
    "#12 hr hrrr:\n",
    "with open('hrrr_f12_Monroe_LA.txt') as f:\n",
    "    lst=[line.split()[1] for line in f]\n",
    "    temp=[]\n",
    "    for i in lst:\n",
    "        new=i.replace(',',\"\")\n",
    "        temp.append(new)\n",
    "    temp.pop(0)\n",
    "    temp=[float(x) for x in temp]\n",
    "    temp=temp[2456:2481]\n",
    "    #temp=temp[2015:2063]\n",
    "    print(temp)\n",
    "    print(len(temp))\n",
    "#full time period is [2015:2112]"
   ]
  },
  {
   "cell_type": "code",
   "execution_count": 122,
   "id": "af7a34bf",
   "metadata": {},
   "outputs": [
    {
     "name": "stdout",
     "output_type": "stream",
     "text": [
      "[23.5, 23.8, 23.2, 23.0, 20.8, 19.1, 18.4, 15.5, 13.6, 12.5, 11.3, 10.3, 10.1, 10.5, 10.4, 9.5, 9.9, 10.4, 11.6, 12.9, 14.6, 16.4, 18.2, 19.6, 20.8]\n"
     ]
    }
   ],
   "source": [
    "#Air Temp CRN:\n",
    "with open('CRNH0203-2022-LA_Monroe_26_N.txt') as f:\n",
    "    lst=[line.split()[9] for line in f]\n",
    "    #print(lst)\n",
    "    temp_crn=[]\n",
    "    for i in lst:\n",
    "        new=i.replace(',',\"\")\n",
    "        temp_crn.append(new)\n",
    "    temp_crn=[float(x) for x in temp_crn]\n",
    "    temp_crn=temp_crn[2467:2492]\n",
    "    print(temp_crn)\n",
    "    #print(len(temp_crn))\n",
    "    # print(temp_crn[2124])"
   ]
  },
  {
   "cell_type": "code",
   "execution_count": 123,
   "id": "91696836",
   "metadata": {},
   "outputs": [
    {
     "name": "stdout",
     "output_type": "stream",
     "text": [
      "[2.8675999999999995, 1.2516999999999996, 1.9433000000000007, 1.3771999999999984, -1.2555000000000014, 0.7175999999999974, -0.9822999999999986, -0.07060000000000066, -0.1889000000000003, 0.09869999999999912, 0.5884, 0.8437999999999999, 0.7442000000000011, -0.23910000000000053, -1.0121800000000007, -0.09576000000000029, -1.1760300000000008, -0.34660000000000046, -0.46860000000000035, -0.3194999999999997, -0.5397999999999996, -0.02979999999999805, -0.2834000000000003, -0.2737000000000016, -0.8183000000000007]\n"
     ]
    }
   ],
   "source": [
    "difference4_mon = []\n",
    "\n",
    "zip_object = zip(temp, temp_crn)\n",
    "for temp_i, temp_crn_i in zip_object:\n",
    "    difference4_mon.append(temp_i-temp_crn_i)\n",
    "\n",
    "print(difference4_mon)"
   ]
  },
  {
   "cell_type": "markdown",
   "id": "797ab9bf",
   "metadata": {},
   "source": [
    "<font size=\"3\">Holly Springs, MS: 2300 UTC 13 April 2022-2300 UTC 14 April 2022</font>"
   ]
  },
  {
   "cell_type": "code",
   "execution_count": 124,
   "id": "25958065",
   "metadata": {},
   "outputs": [
    {
     "name": "stdout",
     "output_type": "stream",
     "text": [
      "[22.2522, 19.0445, 18.5676, 18.1052, 16.0544, 12.9736, 10.8487, 9.3259, 8.70633, 8.34421, 7.51089, 7.13782, 6.96674, 6.59897, 7.86588, 9.50641, 10.643, 12.5602, 14.3702, 16.0416, 17.3888, 18.1692, 18.352, 18.1054, 17.2137]\n",
      "25\n"
     ]
    }
   ],
   "source": [
    "#12 hr hrrr:\n",
    "with open('hrrr_f12_Holly Springs_MS.txt') as f:\n",
    "    lst=[line.split()[1] for line in f]\n",
    "    temp=[]\n",
    "    for i in lst:\n",
    "        new=i.replace(',',\"\")\n",
    "        temp.append(new)\n",
    "    temp.pop(0)\n",
    "    temp=[float(x) for x in temp]\n",
    "    temp=temp[2459:2484]\n",
    "    #temp=temp[2015:2063]\n",
    "    print(temp)\n",
    "    print(len(temp))\n",
    "#full time period is [2015:2112]"
   ]
  },
  {
   "cell_type": "code",
   "execution_count": 125,
   "id": "ffe3951c",
   "metadata": {},
   "outputs": [
    {
     "name": "stdout",
     "output_type": "stream",
     "text": [
      "[22.5, 16.2, 17.2, 17.2, 18.0, 15.9, 13.3, 11.3, 10.3, 9.2, 8.0, 7.1, 7.3, 7.3, 7.7, 9.1, 10.7, 12.7, 14.7, 16.7, 18.3, 19.1, 19.8, 20.0, 19.9]\n"
     ]
    }
   ],
   "source": [
    "#Air Temp CRN:\n",
    "with open('CRNH0203-2022-MS_Holly_Springs_4_N.txt') as f:\n",
    "    lst=[line.split()[9] for line in f]\n",
    "    #print(lst)\n",
    "    temp_crn=[]\n",
    "    for i in lst:\n",
    "        new=i.replace(',',\"\")\n",
    "        temp_crn.append(new)\n",
    "    temp_crn=[float(x) for x in temp_crn]\n",
    "    temp_crn=temp_crn[2470:2495]\n",
    "    print(temp_crn)\n",
    "    #print(len(temp_crn))\n",
    "    # print(temp_crn[2124])"
   ]
  },
  {
   "cell_type": "code",
   "execution_count": 126,
   "id": "6226fdc5",
   "metadata": {},
   "outputs": [
    {
     "name": "stdout",
     "output_type": "stream",
     "text": [
      "[-0.24780000000000157, 2.8445, 1.3675999999999995, 0.9052000000000007, -1.9455999999999989, -2.926400000000001, -2.4513000000000016, -1.9741, -1.5936700000000013, -0.8557899999999989, -0.48911000000000016, 0.037819999999999965, -0.3332600000000001, -0.7010300000000003, 0.16587999999999958, 0.40641000000000105, -0.05699999999999861, -0.13979999999999926, -0.32979999999999876, -0.6584000000000003, -0.9112000000000009, -0.9308000000000014, -1.4480000000000004, -1.8946000000000005, -2.6862999999999992]\n"
     ]
    }
   ],
   "source": [
    "difference4_hol = []\n",
    "\n",
    "zip_object = zip(temp, temp_crn)\n",
    "for temp_i, temp_crn_i in zip_object:\n",
    "    difference4_hol.append(temp_i-temp_crn_i)\n",
    "\n",
    "print(difference4_hol)"
   ]
  },
  {
   "cell_type": "markdown",
   "id": "2580ca75",
   "metadata": {},
   "source": [
    "<font size=\"3\">Newton, MS: 2300 UTC 13 April 2022-2300 UTC 14 April 2022</font>"
   ]
  },
  {
   "cell_type": "code",
   "execution_count": 127,
   "id": "2d759922",
   "metadata": {},
   "outputs": [
    {
     "name": "stdout",
     "output_type": "stream",
     "text": [
      "[27.1272, 25.1695, 24.1301, 18.9802, 20.7419, 21.2236, 19.1612, 20.8259, 19.2063, 16.7192, 14.8234, 13.0128, 14.1542, 13.974, 13.8659, 13.9439, 15.8305, 17.3102, 19.5577, 21.2291, 22.5763, 23.5442, 23.352, 22.4179, 21.9012]\n",
      "25\n"
     ]
    }
   ],
   "source": [
    "#12 hr hrrr:\n",
    "with open('hrrr_f12_Newton_MS.txt') as f:\n",
    "    lst=[line.split()[1] for line in f]\n",
    "    temp=[]\n",
    "    for i in lst:\n",
    "        new=i.replace(',',\"\")\n",
    "        temp.append(new)\n",
    "    temp.pop(0)\n",
    "    temp=[float(x) for x in temp]\n",
    "    temp=temp[2459:2484]\n",
    "    #temp=temp[2015:2063]\n",
    "    print(temp)\n",
    "    print(len(temp))\n",
    "#full time period is [2015:2112]"
   ]
  },
  {
   "cell_type": "code",
   "execution_count": 128,
   "id": "92e5271c",
   "metadata": {},
   "outputs": [
    {
     "name": "stdout",
     "output_type": "stream",
     "text": [
      "[25.6, 25.0, 24.5, 21.7, 16.9, 16.8, 16.8, 16.9, 16.9, 16.9, 16.6, 15.1, 13.1, 11.3, 11.6, 12.6, 14.3, 16.3, 18.4, 20.1, 21.4, 22.4, 23.0, 23.2, 23.1]\n"
     ]
    }
   ],
   "source": [
    "#Air Temp CRN:\n",
    "with open('CRNH0203-2022-MS_Newton_5_ENE.txt') as f:\n",
    "    lst=[line.split()[9] for line in f]\n",
    "    #print(lst)\n",
    "    temp_crn=[]\n",
    "    for i in lst:\n",
    "        new=i.replace(',',\"\")\n",
    "        temp_crn.append(new)\n",
    "    temp_crn=[float(x) for x in temp_crn]\n",
    "    temp_crn=temp_crn[2470:2495]\n",
    "    print(temp_crn)\n",
    "    #print(len(temp_crn))\n",
    "    # print(temp_crn[2124])"
   ]
  },
  {
   "cell_type": "code",
   "execution_count": 129,
   "id": "e75f9641",
   "metadata": {},
   "outputs": [
    {
     "name": "stdout",
     "output_type": "stream",
     "text": [
      "[1.527199999999997, 0.16949999999999932, -0.36990000000000123, -2.7197999999999993, 3.8419000000000025, 4.4236, 2.3612, 3.925900000000002, 2.3063000000000002, -0.18079999999999785, -1.776600000000002, -2.0871999999999993, 1.0541999999999998, 2.6739999999999995, 2.2659000000000002, 1.3438999999999997, 1.5305, 1.0101999999999975, 1.157700000000002, 1.1290999999999976, 1.1763000000000012, 1.1442000000000014, 0.3520000000000003, -0.7820999999999998, -1.198800000000002]\n"
     ]
    }
   ],
   "source": [
    "difference4_new = []\n",
    "\n",
    "zip_object = zip(temp, temp_crn)\n",
    "for temp_i, temp_crn_i in zip_object:\n",
    "    difference4_new.append(temp_i-temp_crn_i)\n",
    "\n",
    "print(difference4_new)"
   ]
  },
  {
   "cell_type": "markdown",
   "id": "a7d0e1e9",
   "metadata": {},
   "source": [
    "<font size=\"3\">Gainesville, AL: 0200 UTC 14 April 2022-0200 UTC 15 April 2022</font>"
   ]
  },
  {
   "cell_type": "code",
   "execution_count": 130,
   "id": "4bddcdb7",
   "metadata": {},
   "outputs": [
    {
     "name": "stdout",
     "output_type": "stream",
     "text": [
      "[18.5427, 21.1794, 21.0986, 20.4737, 20.7009, 19.8313, 19.4067, 15.8234, 14.7003, 14.5292, 14.1615, 14.6159, 14.5689, 15.2055, 15.4977, 17.9952, 17.9166, 18.7013, 20.2317, 20.727, 20.6679, 19.5887, 18.4084, 16.2025, 15.368]\n",
      "25\n"
     ]
    }
   ],
   "source": [
    "#12 hr hrrr:\n",
    "with open('hrrr_f12_Gainesville_AL.txt') as f:\n",
    "    lst=[line.split()[1] for line in f]\n",
    "    temp=[]\n",
    "    for i in lst:\n",
    "        new=i.replace(',',\"\")\n",
    "        temp.append(new)\n",
    "    temp.pop(0)\n",
    "    temp=[float(x) for x in temp]\n",
    "    temp=temp[2462:2487]\n",
    "    #temp=temp[2015:2063]\n",
    "    print(temp)\n",
    "    print(len(temp))\n",
    "#full time period is [2015:2112]"
   ]
  },
  {
   "cell_type": "code",
   "execution_count": 131,
   "id": "b5314d1e",
   "metadata": {},
   "outputs": [
    {
     "name": "stdout",
     "output_type": "stream",
     "text": [
      "[24.1, 19.6, 17.6, 17.4, 17.2, 17.0, 16.9, 17.0, 15.6, 14.2, 13.1, 13.1, 13.2, 14.3, 15.8, 17.3, 18.8, 20.1, 21.5, 22.4, 22.5, 21.9, 20.4, 17.6, 15.0]\n"
     ]
    }
   ],
   "source": [
    "#Air Temp CRN:\n",
    "with open('CRNH0203-2022-AL_Gainesville_2_NE.txt') as f:\n",
    "    lst=[line.split()[9] for line in f]\n",
    "    #print(lst)\n",
    "    temp_crn=[]\n",
    "    for i in lst:\n",
    "        new=i.replace(',',\"\")\n",
    "        temp_crn.append(new)\n",
    "    temp_crn=[float(x) for x in temp_crn]\n",
    "    temp_crn=temp_crn[2473:2498]\n",
    "    print(temp_crn)\n",
    "    #print(len(temp_crn))\n",
    "    # print(temp_crn[2124])"
   ]
  },
  {
   "cell_type": "code",
   "execution_count": 132,
   "id": "c9db90a8",
   "metadata": {},
   "outputs": [
    {
     "name": "stdout",
     "output_type": "stream",
     "text": [
      "[-5.5573000000000015, 1.5793999999999997, 3.4985999999999997, 3.0737000000000023, 3.5009000000000015, 2.831299999999999, 2.506700000000002, -1.1766000000000005, -0.8996999999999993, 0.32920000000000016, 1.0615000000000006, 1.5159000000000002, 1.3689, 0.9055, -0.3023000000000007, 0.6951999999999998, -0.8834000000000017, -1.3987000000000016, -1.2683, -1.6729999999999983, -1.8321000000000005, -2.3112999999999992, -1.9915999999999983, -1.3975000000000009, 0.3680000000000003]\n"
     ]
    }
   ],
   "source": [
    "difference4_gai = []\n",
    "\n",
    "zip_object = zip(temp, temp_crn)\n",
    "for temp_i, temp_crn_i in zip_object:\n",
    "    difference4_gai.append(temp_i-temp_crn_i)\n",
    "\n",
    "print(difference4_gai)"
   ]
  },
  {
   "cell_type": "markdown",
   "id": "cdbcd1b4",
   "metadata": {},
   "source": [
    "<font size=\"3\">Fairhope, AL: 0200 UTC 14 April 2022-0200 UTC 15 April 2022</font>"
   ]
  },
  {
   "cell_type": "code",
   "execution_count": 133,
   "id": "1a0b9a6b",
   "metadata": {},
   "outputs": [
    {
     "name": "stdout",
     "output_type": "stream",
     "text": [
      "[22.2927, 22.1169, 21.9111, 21.8487, 22.0134, 22.0813, 18.7817, 18.1359, 17.9503, 18.5292, 18.349, 19.1159, 20.2564, 20.5805, 18.4352, 19.9952, 19.0416, 21.8263, 20.8567, 21.102, 21.1679, 21.0887, 20.0334, 19.4525, 18.618]\n",
      "25\n"
     ]
    }
   ],
   "source": [
    "#12 hr hrrr:\n",
    "with open('hrrr_f12_Fairhope_AL.txt') as f:\n",
    "    lst=[line.split()[1] for line in f]\n",
    "    temp=[]\n",
    "    for i in lst:\n",
    "        new=i.replace(',',\"\")\n",
    "        temp.append(new)\n",
    "    temp.pop(0)\n",
    "    temp=[float(x) for x in temp]\n",
    "    temp=temp[2462:2487]\n",
    "    #temp=temp[2015:2063]\n",
    "    print(temp)\n",
    "    print(len(temp))\n",
    "#full time period is [2015:2112]"
   ]
  },
  {
   "cell_type": "code",
   "execution_count": 134,
   "id": "52234265",
   "metadata": {},
   "outputs": [
    {
     "name": "stdout",
     "output_type": "stream",
     "text": [
      "[22.1, 22.2, 22.1, 21.8, 19.7, 18.1, 17.8, 17.9, 17.8, 17.7, 17.6, 17.6, 18.5, 19.0, 19.5, 19.9, 20.5, 22.4, 23.3, 23.3, 23.4, 23.6, 23.0, 20.4, 18.6]\n"
     ]
    }
   ],
   "source": [
    "#Air Temp CRN:\n",
    "with open('CRNH0203-2022-AL_Fairhope_3_NE.txt') as f:\n",
    "    lst=[line.split()[9] for line in f]\n",
    "    #print(lst)\n",
    "    temp_crn=[]\n",
    "    for i in lst:\n",
    "        new=i.replace(',',\"\")\n",
    "        temp_crn.append(new)\n",
    "    temp_crn=[float(x) for x in temp_crn]\n",
    "    temp_crn=temp_crn[2473:2498]\n",
    "    print(temp_crn)\n",
    "    #print(len(temp_crn))\n",
    "    # print(temp_crn[2124])"
   ]
  },
  {
   "cell_type": "code",
   "execution_count": 135,
   "id": "2e2c6057",
   "metadata": {},
   "outputs": [
    {
     "name": "stdout",
     "output_type": "stream",
     "text": [
      "[0.19269999999999854, -0.08309999999999818, -0.1889000000000003, 0.04870000000000019, 2.3134000000000015, 3.9812999999999974, 0.9817, 0.2359000000000009, 0.15029999999999788, 0.8292000000000002, 0.7489999999999988, 1.5158999999999985, 1.7563999999999993, 1.5805000000000007, -1.0648000000000017, 0.09520000000000195, -1.458400000000001, -0.5736999999999988, -2.4433000000000007, -2.1980000000000004, -2.232099999999999, -2.511300000000002, -2.9665999999999997, -0.947499999999998, 0.01799999999999713]\n"
     ]
    }
   ],
   "source": [
    "difference4_fai = []\n",
    "\n",
    "zip_object = zip(temp, temp_crn)\n",
    "for temp_i, temp_crn_i in zip_object:\n",
    "    difference4_fai.append(temp_i-temp_crn_i)\n",
    "\n",
    "print(difference4_fai)"
   ]
  },
  {
   "cell_type": "markdown",
   "id": "ba62c881",
   "metadata": {},
   "source": [
    "<font size=\"3\">Selma, AL: 0200 UTC 14 April 2022-0200 UTC 15 April 2022\n",
    "</font>"
   ]
  },
  {
   "cell_type": "code",
   "execution_count": 136,
   "id": "935d8c80",
   "metadata": {},
   "outputs": [
    {
     "name": "stdout",
     "output_type": "stream",
     "text": [
      "[21.1052, 20.3044, 20.4111, 20.2862, 19.4509, 19.0188, 18.2192, 16.8859, 17.7628, 17.5917, 17.5365, 18.6159, 17.0689, 17.643, 16.9977, 17.9327, 17.5416, 19.4513, 20.7317, 22.1645, 22.2929, 20.7762, 18.5959, 17.265, 15.8055]\n",
      "25\n",
      "[22.9, 22.5, 21.2, 17.7, 17.3, 17.2, 17.3, 17.3, 17.2, 17.2, 17.3, 16.4, 16.9, 17.9, 19.0, 20.3, 21.9, 22.8, 23.8, 24.2, 24.2, 23.7, 21.8, 17.9, 15.6]\n",
      "25\n",
      "[-1.7947999999999986, -2.195599999999999, -0.7888999999999982, 2.5862000000000016, 2.1509, 1.8187999999999995, 0.9192, -0.41410000000000124, 0.5627999999999993, 0.39170000000000016, 0.2364999999999995, 2.2159000000000013, 0.16890000000000072, -0.2569999999999979, -2.0023000000000017, -2.3673, -4.3584, -3.348700000000001, -3.0683000000000007, -2.035499999999999, -1.9070999999999998, -2.9238, -3.2041000000000004, -0.634999999999998, 0.20550000000000068]\n",
      "25\n"
     ]
    }
   ],
   "source": [
    "#12 hr hrrr:\n",
    "with open('hrrr_f12_Selma_AL.txt') as f:\n",
    "    lst=[line.split()[1] for line in f]\n",
    "    temp=[]\n",
    "    for i in lst:\n",
    "        new=i.replace(',',\"\")\n",
    "        temp.append(new)\n",
    "    temp.pop(0)\n",
    "    temp=[float(x) for x in temp]\n",
    "    temp=temp[2462:2487]\n",
    "    \n",
    "#Air Temp CRN:\n",
    "with open('CRNH0203-2022-AL_Selma_13_WNW.txt') as f:\n",
    "    lst=[line.split()[9] for line in f]\n",
    "    #print(lst)\n",
    "    temp_crn=[]\n",
    "    for i in lst:\n",
    "        new=i.replace(',',\"\")\n",
    "        temp_crn.append(new)\n",
    "    temp_crn=[float(x) for x in temp_crn]\n",
    "    temp_crn=temp_crn[2473:2498]\n",
    "    print(temp)\n",
    "    print(len(temp))\n",
    "    print(temp_crn)\n",
    "    print(len(temp_crn))\n",
    "#full time period is [2015:2112]\n",
    "difference4_sel = []\n",
    "\n",
    "zip_object = zip(temp, temp_crn)\n",
    "for temp_i, temp_crn_i in zip_object:\n",
    "    difference4_sel.append(temp_i-temp_crn_i)\n",
    "\n",
    "print(difference4_sel)\n",
    "print(len(difference4_sel))"
   ]
  },
  {
   "cell_type": "markdown",
   "id": "3a2e6fc9",
   "metadata": {},
   "source": [
    "<font size=\"3\">Bowling Green, KY: 0200 UTC 14 April 2022-0200 UTC 15 April 2022</font>"
   ]
  },
  {
   "cell_type": "code",
   "execution_count": 137,
   "id": "c761d214",
   "metadata": {},
   "outputs": [
    {
     "name": "stdout",
     "output_type": "stream",
     "text": [
      "[17.4802, 17.6169, 16.8486, 16.7237, 11.0759, 8.83133, 8.03171, 6.38589, 6.01282, 5.46674, 5.78647, 6.36588, 7.25641, 9.01804, 10.6852, 12.1827, 13.2291, 14.5138, 15.0442, 15.227, 14.9804, 14.0262, 12.2834, 10.7025, 9.74295]\n"
     ]
    }
   ],
   "source": [
    "#12 hr hrrr:\n",
    "with open('hrrr_f12_Bowling Green_KY.txt') as f:\n",
    "    lst=[line.split()[1] for line in f]\n",
    "    temp=[]\n",
    "    for i in lst:\n",
    "        new=i.replace(',',\"\")\n",
    "        temp.append(new)\n",
    "    temp.pop(0)\n",
    "    temp=[float(x) for x in temp]\n",
    "    temp=temp[2462:2487]\n",
    "    #temp=temp[2015:2063]\n",
    "    print(temp)\n",
    "    #print(len(temp))\n",
    "#full time period is [2015:2112]"
   ]
  },
  {
   "cell_type": "code",
   "execution_count": 138,
   "id": "8b86ff4b",
   "metadata": {},
   "outputs": [],
   "source": [
    "# hour=[]\n",
    "# for i in range(-8,17,1):\n",
    "#     hour.append(i)\n",
    "#     i+=1\n",
    "# print(len(hour))"
   ]
  },
  {
   "cell_type": "code",
   "execution_count": 139,
   "id": "a22a0f0f",
   "metadata": {},
   "outputs": [
    {
     "name": "stdout",
     "output_type": "stream",
     "text": [
      "[16.5, 16.2, 15.8, 16.0, 15.9, 10.6, 8.6, 7.8, 6.8, 6.0, 4.6, 5.5, 7.0, 8.8, 10.9, 12.8, 14.6, 16.0, 17.4, 17.7, 17.6, 16.8, 15.0, 13.4, 11.8]\n"
     ]
    }
   ],
   "source": [
    "#Air Temp CRN:\n",
    "with open('CRNH0203-2022-KY_Bowling_Green_21_NNE.txt') as f:\n",
    "    lst=[line.split()[9] for line in f]\n",
    "    #print(lst)\n",
    "    temp_crn=[]\n",
    "    for i in lst:\n",
    "        new=i.replace(',',\"\")\n",
    "        temp_crn.append(new)\n",
    "    temp_crn=[float(x) for x in temp_crn]\n",
    "    temp_crn=temp_crn[2473:2498]\n",
    "    print(temp_crn)\n",
    "    #print(len(temp_crn))\n",
    "    # print(temp_crn[2124])"
   ]
  },
  {
   "cell_type": "code",
   "execution_count": 140,
   "id": "214cf6fd",
   "metadata": {},
   "outputs": [
    {
     "name": "stdout",
     "output_type": "stream",
     "text": [
      "[0.9802, 1.4169000000000018, 1.0486000000000004, 0.7237000000000009, -4.8241, -1.7686700000000002, -0.5682899999999993, -1.41411, -0.7871800000000002, -0.5332600000000003, 1.18647, 0.8658799999999998, 0.2564099999999998, 0.21803999999999846, -0.21480000000000032, -0.6173000000000002, -1.370899999999999, -1.4862000000000002, -2.3557999999999986, -2.472999999999999, -2.619600000000002, -2.7738000000000014, -2.7165999999999997, -2.6975, -2.0570500000000003]\n"
     ]
    }
   ],
   "source": [
    "difference4_bow = []\n",
    "\n",
    "zip_object = zip(temp, temp_crn)\n",
    "for temp_i, temp_crn_i in zip_object:\n",
    "    difference4_bow.append(temp_i-temp_crn_i)\n",
    "\n",
    "print(difference4_bow)"
   ]
  },
  {
   "cell_type": "markdown",
   "id": "d5df1525",
   "metadata": {},
   "source": [
    "<font size=\"3\">Gadsden, AL: 0200 UTC 14 April 2022-0200 UTC 15 April 2022\n",
    "</font>"
   ]
  },
  {
   "cell_type": "code",
   "execution_count": 141,
   "id": "d0c17372",
   "metadata": {},
   "outputs": [
    {
     "name": "stdout",
     "output_type": "stream",
     "text": [
      "[22.3552, 21.1794, 20.3486, 18.4737, 16.2009, 16.0813, 16.4067, 16.8234, 17.3878, 17.0292, 13.5365, 13.6159, 13.3189, 13.893, 14.3102, 16.1202, 17.2916, 18.6388, 18.7942, 18.727, 17.8554, 17.0262, 14.5334, 13.265, 12.3055]\n",
      "25\n"
     ]
    }
   ],
   "source": [
    "#12 hr hrrr:\n",
    "with open('hrrr_f12_Gadsden_AL.txt') as f:\n",
    "    lst=[line.split()[1] for line in f]\n",
    "    temp=[]\n",
    "    for i in lst:\n",
    "        new=i.replace(',',\"\")\n",
    "        temp.append(new)\n",
    "    temp.pop(0)\n",
    "    temp=[float(x) for x in temp]\n",
    "    temp=temp[2462:2487]\n",
    "    #temp=temp[2015:2063]\n",
    "    print(temp)\n",
    "    print(len(temp))\n",
    "#full time period is [2015:2112]"
   ]
  },
  {
   "cell_type": "code",
   "execution_count": 142,
   "id": "4dd09550",
   "metadata": {},
   "outputs": [
    {
     "name": "stdout",
     "output_type": "stream",
     "text": [
      "[20.9, 20.7, 18.9, 17.8, 16.4, 15.3, 15.2, 15.1, 15.1, 15.2, 14.5, 12.9, 13.2, 13.6, 14.2, 15.6, 16.8, 17.8, 18.5, 18.7, 18.7, 18.2, 16.8, 14.0, 12.4]\n"
     ]
    }
   ],
   "source": [
    "#Air Temp CRN:\n",
    "with open('CRNH0203-2022-AL_Gadsden_19_N.txt') as f:\n",
    "    lst=[line.split()[9] for line in f]\n",
    "    #print(lst)\n",
    "    temp_crn=[]\n",
    "    for i in lst:\n",
    "        new=i.replace(',',\"\")\n",
    "        temp_crn.append(new)\n",
    "    temp_crn=[float(x) for x in temp_crn]\n",
    "    temp_crn=temp_crn[2473:2498]\n",
    "    print(temp_crn)\n",
    "    #print(len(temp_crn))\n",
    "    # print(temp_crn[2124])"
   ]
  },
  {
   "cell_type": "code",
   "execution_count": 143,
   "id": "7476701f",
   "metadata": {},
   "outputs": [
    {
     "name": "stdout",
     "output_type": "stream",
     "text": [
      "[1.4552000000000014, 0.4794000000000018, 1.4486000000000026, 0.6737000000000002, -0.19909999999999783, 0.7812999999999981, 1.2067000000000014, 1.7233999999999998, 2.287799999999999, 1.8292000000000002, -0.9634999999999998, 0.7158999999999995, 0.1189, 0.29300000000000104, 0.11020000000000074, 0.5202000000000009, 0.49159999999999826, 0.8387999999999991, 0.2942, 0.027000000000001023, -0.8445999999999998, -1.1738, -2.2666000000000004, -0.7349999999999994, -0.09450000000000003]\n"
     ]
    }
   ],
   "source": [
    "difference4_gad = []\n",
    "\n",
    "zip_object = zip(temp, temp_crn)\n",
    "for temp_i, temp_crn_i in zip_object:\n",
    "    difference4_gad.append(temp_i-temp_crn_i)\n",
    "\n",
    "print(difference4_gad)"
   ]
  },
  {
   "cell_type": "markdown",
   "id": "047f5261",
   "metadata": {},
   "source": [
    "<font size=\"3\">Newton, GA: 0600 UTC 14 April 2022-0600 UTC 15 April 2022\n",
    "</font>"
   ]
  },
  {
   "cell_type": "code",
   "execution_count": 144,
   "id": "4eb1aeae",
   "metadata": {},
   "outputs": [
    {
     "name": "stdout",
     "output_type": "stream",
     "text": [
      "[16.7009, 16.3938, 15.7817, 17.4484, 16.2628, 16.0292, 17.474, 19.8659, 22.3189, 23.143, 25.9352, 26.3702, 27.9166, 27.7638, 28.2942, 27.602, 26.2304, 25.1512, 22.9084, 21.7025, 21.118, 20.6088, 19.6458, 18.9479, 18.3534]\n",
      "25\n"
     ]
    }
   ],
   "source": [
    "#12 hr hrrr:\n",
    "with open('hrrr_f12_Newton_GA.txt') as f:\n",
    "    lst=[line.split()[1] for line in f]\n",
    "    temp=[]\n",
    "    for i in lst:\n",
    "        new=i.replace(',',\"\")\n",
    "        temp.append(new)\n",
    "    temp.pop(0)\n",
    "    temp=[float(x) for x in temp]\n",
    "    temp=temp[2466:2491]\n",
    "    #temp=temp[2015:2063]\n",
    "    print(temp)\n",
    "    print(len(temp))\n",
    "#full time period is [2015:2112]"
   ]
  },
  {
   "cell_type": "code",
   "execution_count": 145,
   "id": "fb2e17c3",
   "metadata": {},
   "outputs": [
    {
     "name": "stdout",
     "output_type": "stream",
     "text": [
      "[17.5, 16.4, 17.7, 19.6, 18.7, 18.0, 18.1, 18.4, 19.5, 20.3, 21.5, 22.3, 22.9, 23.1, 23.6, 24.0, 24.2, 23.9, 22.9, 21.1, 19.3, 18.2, 17.2, 16.3, 16.0]\n"
     ]
    }
   ],
   "source": [
    "#Air Temp CRN:\n",
    "with open('CRNH0203-2022-GA_Newton_11_SW.txt') as f:\n",
    "    lst=[line.split()[9] for line in f]\n",
    "    #print(lst)\n",
    "    temp_crn=[]\n",
    "    for i in lst:\n",
    "        new=i.replace(',',\"\")\n",
    "        temp_crn.append(new)\n",
    "    temp_crn=[float(x) for x in temp_crn]\n",
    "    temp_crn=temp_crn[2477:2502]\n",
    "    print(temp_crn)\n",
    "    #print(len(temp_crn))\n",
    "    # print(temp_crn[2124])"
   ]
  },
  {
   "cell_type": "code",
   "execution_count": 146,
   "id": "37b874ca",
   "metadata": {},
   "outputs": [
    {
     "name": "stdout",
     "output_type": "stream",
     "text": [
      "[-0.7990999999999993, -0.006199999999999761, -1.9182999999999986, -2.151600000000002, -2.4372000000000007, -1.9708000000000006, -0.6260000000000012, 1.4659000000000013, 2.8188999999999993, 2.843, 4.435199999999998, 4.0702, 5.0166, 4.663799999999998, 4.694199999999999, 3.6020000000000003, 2.0304, 1.2512000000000008, 0.00840000000000174, 0.6024999999999991, 1.8179999999999978, 2.4087999999999994, 2.445800000000002, 2.6479, 2.3534000000000006]\n"
     ]
    }
   ],
   "source": [
    "difference4_newt = []\n",
    "\n",
    "zip_object = zip(temp, temp_crn)\n",
    "for temp_i, temp_crn_i in zip_object:\n",
    "    difference4_newt.append(temp_i-temp_crn_i)\n",
    "\n",
    "print(difference4_newt)"
   ]
  },
  {
   "cell_type": "code",
   "execution_count": 147,
   "id": "d5fd370b",
   "metadata": {},
   "outputs": [
    {
     "name": "stdout",
     "output_type": "stream",
     "text": [
      "[ 0.65229167  1.05523333  0.699875    1.564775    1.64493333  1.518475\n",
      "  1.55003333  1.51805833  0.88855     0.35320833  0.306525    0.0067\n",
      "  0.14820833  0.10981667 -0.00249167 -0.31403833 -0.80448917 -1.10800636\n",
      " -1.32540182 -1.39622545 -1.39017818 -1.58863083 -1.40104    -1.28163917\n",
      " -1.40478667]\n",
      "[1.90493021 3.11341659 2.32496998 2.10112502 2.46966262 2.25768331\n",
      " 2.026479   1.79889391 1.73368407 1.55320021 1.09485606 1.00516346\n",
      " 1.11658807 0.71916028 1.46152422 1.21679226 0.97858471 0.69637401\n",
      " 1.17941737 1.54656699 1.2463807  1.49931845 1.36546466 1.56108424\n",
      " 1.68831697]\n"
     ]
    },
    {
     "name": "stderr",
     "output_type": "stream",
     "text": [
      "C:\\Users\\panwalaf\\AppData\\Local\\Temp\\ipykernel_19644\\2360887579.py:3: UserWarning: Warning: converting a masked element to nan.\n",
      "  c1 = np.array([difference1_sal,difference1_bat,difference1_laf,difference1_mon,difference1_hol,difference1_new,difference1_gai,difference1_fai,difference1_sel,difference1_bow,difference1_gad,difference1_newt])\n",
      "C:\\Users\\panwalaf\\AppData\\Local\\Temp\\ipykernel_19644\\2360887579.py:8: UserWarning: Warning: converting a masked element to nan.\n",
      "  b1 = np.array([difference1_sal,difference1_bat,difference1_laf,difference1_mon,difference1_hol,difference1_new,difference1_gai,difference1_fai,difference1_sel,difference1_bow,difference1_gad,difference1_newt])\n"
     ]
    },
    {
     "data": {
      "text/plain": [
       "25"
      ]
     },
     "execution_count": 147,
     "metadata": {},
     "output_type": "execute_result"
    }
   ],
   "source": [
    "# data = np.array([difference1_sal,difference1_sel,difference1_mon])\n",
    "# np.ma.average(data, axis=0)\n",
    "c1 = np.array([difference1_sal,difference1_bat,difference1_laf,difference1_mon,difference1_hol,difference1_new,difference1_gai,difference1_fai,difference1_sel,difference1_bow,difference1_gad,difference1_newt])\n",
    "c1=np.nanmean(c1, axis=0)\n",
    "print(c1)\n",
    "len(c1)\n",
    "\n",
    "b1 = np.array([difference1_sal,difference1_bat,difference1_laf,difference1_mon,difference1_hol,difference1_new,difference1_gai,difference1_fai,difference1_sel,difference1_bow,difference1_gad,difference1_newt])\n",
    "b1=np.nanstd(b1, axis=0)\n",
    "print(b1)\n",
    "len(b1)"
   ]
  },
  {
   "cell_type": "code",
   "execution_count": 148,
   "id": "0400ce89",
   "metadata": {
    "scrolled": false
   },
   "outputs": [],
   "source": [
    "# def mean(numbers):\n",
    "#     return float(sum(numbers)) / max(len(numbers), 1)\n",
    "\n",
    "# # difference1_sel[17]=None\n",
    "# # difference1_sel[18]=None\n",
    "# # difference1_sel[19]=None\n",
    "# # difference1_sel[20]=None\n",
    "# c1 = [mean(i) for i in zip(difference1_sal,difference1_bat,difference1_laf,difference1_mon,difference1_hol,difference1_new,difference1_gai,difference1_fai,difference1_sel,difference1_bow,difference1_gad,difference1_newt)]\n",
    "# #difference1_bow[6]=0\n",
    "# b1 = [np.std(i) for i in zip(difference1_sal,difference1_bat,difference1_laf,difference1_mon,difference1_hol,difference1_new,difference1_gai,difference1_fai,difference1_sel,difference1_bow,difference1_gad,difference1_newt)]\n",
    "# print (c1)\n",
    "# print(len(c1))\n",
    "# print(b1)\n",
    "# print(len(b1))"
   ]
  },
  {
   "cell_type": "code",
   "execution_count": 149,
   "id": "7d6e3e43",
   "metadata": {},
   "outputs": [
    {
     "data": {
      "image/png": "[encoded data removed]",
      "text/plain": [
       "<Figure size 792x396 with 1 Axes>"
      ]
     },
     "metadata": {},
     "output_type": "display_data"
    }
   ],
   "source": [
    "plt.style.use('seaborn-whitegrid')\n",
    "plt.rcParams[\"figure.figsize\"] = [11.00, 5.50]\n",
    "plt.rcParams[\"figure.autolayout\"] = True\n",
    "plt.yticks(np.arange(-5,6,1))\n",
    "plt.ylim(-5,5)\n",
    "# c[6]=None\n",
    "# b[6]=None\n",
    "\n",
    "plt.plot(hour,c1,c=\"black\")\n",
    "plt.errorbar(hour,c1,yerr=b1,linestyle='None', marker='s')\n",
    "# c[6]=None\n",
    "# b[6]=None\n",
    "\n",
    "plt.title(\"12-hr Avg. MBE All Stations\")\n",
    "plt.xlabel(\"Time Relative to Event Passage\")\n",
    "plt.ylabel(\"MBE Air Temperature (C)\")\n",
    "#plt.plot(hour,c)\n",
    "#plt.errorbar(hour,c,yerr=b,ecolor='r',elinewidth=5,fmt='s',color='k')\n",
    "#plt.grid()\n",
    "plt.xticks(np.arange(min(hour), max(hour)+1, 1.0))\n",
    "plt.show()\n",
    "#plt.axvspan(-4, 4, color='green', alpha=0.2, lw=0)"
   ]
  },
  {
   "cell_type": "code",
   "execution_count": 150,
   "id": "d14691f0",
   "metadata": {},
   "outputs": [
    {
     "name": "stdout",
     "output_type": "stream",
     "text": [
      "[ 0.06630833  0.00410833 -0.40925     0.08060833  0.80916667  1.17645833\n",
      "  1.76567273  1.11188333  1.22525     1.24885833  1.03229167  0.54433083\n",
      "  0.3559575   0.14128583 -0.21497167 -0.41265    -0.69775583 -0.85938917\n",
      " -0.446095   -0.64860583 -0.54139417 -0.98356667 -1.4366425  -1.36211167\n",
      " -0.91771583]\n",
      "[2.20355934 1.30059246 1.591878   1.09113456 1.42034095 1.32680145\n",
      " 1.53606828 1.27476639 1.13920745 1.22547537 1.31266694 1.62212413\n",
      " 1.13153981 1.42970295 1.46932353 1.23328492 1.26425848 1.21250175\n",
      " 1.12103842 1.34581537 1.56370338 1.14409287 1.05593903 0.95023818\n",
      " 1.1450125 ]\n"
     ]
    },
    {
     "name": "stderr",
     "output_type": "stream",
     "text": [
      "C:\\Users\\panwalaf\\AppData\\Local\\Temp\\ipykernel_19644\\2317409182.py:1: UserWarning: Warning: converting a masked element to nan.\n",
      "  c2 = np.array([difference2_sal,difference2_bat,difference2_laf,difference2_mon,difference2_hol,difference2_new,difference2_gai,difference2_fai,difference2_sel,difference2_bow,difference2_gad,difference2_newt])\n",
      "C:\\Users\\panwalaf\\AppData\\Local\\Temp\\ipykernel_19644\\2317409182.py:6: UserWarning: Warning: converting a masked element to nan.\n",
      "  b2 = np.array([difference2_sal,difference2_bat,difference2_laf,difference2_mon,difference2_hol,difference2_new,difference2_gai,difference2_fai,difference2_sel,difference2_bow,difference2_gad,difference2_newt])\n"
     ]
    },
    {
     "data": {
      "text/plain": [
       "25"
      ]
     },
     "execution_count": 150,
     "metadata": {},
     "output_type": "execute_result"
    }
   ],
   "source": [
    "c2 = np.array([difference2_sal,difference2_bat,difference2_laf,difference2_mon,difference2_hol,difference2_new,difference2_gai,difference2_fai,difference2_sel,difference2_bow,difference2_gad,difference2_newt])\n",
    "c2=np.nanmean(c2, axis=0)\n",
    "print(c2)\n",
    "len(c2)\n",
    "\n",
    "b2 = np.array([difference2_sal,difference2_bat,difference2_laf,difference2_mon,difference2_hol,difference2_new,difference2_gai,difference2_fai,difference2_sel,difference2_bow,difference2_gad,difference2_newt])\n",
    "b2=np.nanstd(b2, axis=0)\n",
    "print(b2)\n",
    "len(b2)"
   ]
  },
  {
   "cell_type": "code",
   "execution_count": 151,
   "id": "7be0954b",
   "metadata": {
    "scrolled": false
   },
   "outputs": [],
   "source": [
    "# def mean(numbers):\n",
    "#     return float(sum(numbers)) / max(len(numbers), 1)\n",
    "\n",
    "# # difference1_sel[17]=0\n",
    "# # difference1_sel[18]=0\n",
    "# # difference1_sel[19]=0\n",
    "# # difference1_sel[20]=0\n",
    "# c2 = [mean(i) for i in zip(difference2_sal,difference2_bat,difference2_laf,difference2_mon,difference2_hol,difference2_new,difference2_gai,difference2_fai,difference2_sel,difference2_bow,difference2_gad,difference2_newt)]\n",
    "# #difference1_bow[6]=0\n",
    "# b2 = [np.std(i) for i in zip(difference2_sal,difference2_bat,difference2_laf,difference2_mon,difference2_hol,difference2_new,difference2_gai,difference2_fai,difference2_sel,difference2_bow,difference2_gad,difference2_newt)]\n",
    "# print (c2)\n",
    "# print(len(c2))\n",
    "# print(b2)\n",
    "# print(len(b2))"
   ]
  },
  {
   "cell_type": "code",
   "execution_count": 152,
   "id": "4c8ac8a3",
   "metadata": {},
   "outputs": [
    {
     "data": {
      "image/png": "[encoded data removed]",
      "text/plain": [
       "<Figure size 792x396 with 1 Axes>"
      ]
     },
     "metadata": {},
     "output_type": "display_data"
    }
   ],
   "source": [
    "plt.style.use('seaborn-whitegrid')\n",
    "plt.rcParams[\"figure.figsize\"] = [11.00, 5.50]\n",
    "plt.rcParams[\"figure.autolayout\"] = True\n",
    "plt.yticks(np.arange(-5,6,1))\n",
    "plt.ylim(-5,5)\n",
    "# c[6]=None\n",
    "# b[6]=None\n",
    "\n",
    "plt.plot(hour,c2,c=\"black\")\n",
    "plt.errorbar(hour,c2,c=\"r\",yerr=b2,linestyle='None', marker='s')\n",
    "# c[6]=None\n",
    "# b[6]=None\n",
    "\n",
    "plt.title(\"12-hr Avg. MBE All Stations\")\n",
    "plt.xlabel(\"Time Relative to Event Passage\")\n",
    "plt.ylabel(\"MBE Air Temperature (C)\")\n",
    "#plt.plot(hour,c)\n",
    "#plt.errorbar(hour,c,yerr=b,ecolor='r',elinewidth=5,fmt='s',color='k')\n",
    "#plt.grid()\n",
    "plt.xticks(np.arange(min(hour), max(hour)+1, 1.0))\n",
    "plt.show()\n",
    "#plt.axvspan(-4, 4, color='green', alpha=0.2, lw=0)"
   ]
  },
  {
   "cell_type": "code",
   "execution_count": 153,
   "id": "e0b94a04",
   "metadata": {},
   "outputs": [
    {
     "name": "stdout",
     "output_type": "stream",
     "text": [
      "[ 1.04628333  1.28248333  1.2051      1.17954167  1.51439167  1.64790833\n",
      "  2.06341667  1.2434      0.56099167  0.28764167 -0.28871667 -0.66596583\n",
      " -0.5509325  -0.756035   -0.28097667 -0.49129917 -0.66576083 -1.2485\n",
      " -1.55509167 -1.11961167 -0.71418333 -0.7254525  -0.75113333 -0.57386667\n",
      " -0.544245  ]\n",
      "[1.27061753 1.53842048 1.48121317 2.59541867 1.48700739 1.3492666\n",
      " 1.99348149 0.82682733 1.41287269 1.59797692 1.65016076 1.74868529\n",
      " 2.22275663 2.27241168 1.67916977 1.52122436 1.04488545 0.71015854\n",
      " 0.67973662 0.72982848 0.79343231 0.98937845 0.90036056 0.8718372\n",
      " 0.81869083]\n"
     ]
    },
    {
     "data": {
      "text/plain": [
       "25"
      ]
     },
     "execution_count": 153,
     "metadata": {},
     "output_type": "execute_result"
    }
   ],
   "source": [
    "c3 = np.array([difference3_sal,difference3_bat,difference3_laf,difference3_mon,difference3_hol,difference3_new,difference3_gai,difference3_fai,difference3_sel,difference3_bow,difference3_gad,difference3_newt])\n",
    "c3=np.nanmean(c3, axis=0)\n",
    "print(c3)\n",
    "len(c3)\n",
    "\n",
    "b3 = np.array([difference3_sal,difference3_bat,difference3_laf,difference3_mon,difference3_hol,difference3_new,difference3_gai,difference3_fai,difference3_sel,difference3_bow,difference3_gad,difference3_newt])\n",
    "b3=np.nanstd(b3, axis=0)\n",
    "print(b3)\n",
    "len(b3)"
   ]
  },
  {
   "cell_type": "code",
   "execution_count": 154,
   "id": "0d8bef30",
   "metadata": {
    "scrolled": false
   },
   "outputs": [],
   "source": [
    "# def mean(numbers):\n",
    "#     return float(sum(numbers)) / max(len(numbers), 1)\n",
    "\n",
    "# # difference1_sel[17]=0\n",
    "# # difference1_sel[18]=0\n",
    "# # difference1_sel[19]=0\n",
    "# # difference1_sel[20]=0\n",
    "# c3 = [mean(i) for i in zip(difference3_sal,difference3_bat,difference3_laf,difference3_mon,difference3_hol,difference3_new,difference3_gai,difference3_fai,difference3_sel,difference3_bow,difference3_gad,difference3_newt)]\n",
    "# #difference1_bow[6]=0\n",
    "# b3 = [np.std(i) for i in zip(difference3_sal,difference3_bat,difference3_laf,difference3_mon,difference3_hol,difference3_new,difference3_gai,difference3_fai,difference3_sel,difference3_bow,difference3_gad,difference3_newt)]\n",
    "# print (c3)\n",
    "# print(len(c3))\n",
    "# print(b3)\n",
    "# print(len(b3))"
   ]
  },
  {
   "cell_type": "code",
   "execution_count": 155,
   "id": "00a5e783",
   "metadata": {},
   "outputs": [
    {
     "data": {
      "image/png": "[encoded data removed]",
      "text/plain": [
       "<Figure size 792x396 with 1 Axes>"
      ]
     },
     "metadata": {},
     "output_type": "display_data"
    }
   ],
   "source": [
    "plt.style.use('seaborn-whitegrid')\n",
    "plt.rcParams[\"figure.figsize\"] = [11.00, 5.50]\n",
    "plt.rcParams[\"figure.autolayout\"] = True\n",
    "plt.yticks(np.arange(-5,6,1))\n",
    "plt.ylim(-5,5)\n",
    "# c[6]=None\n",
    "# b[6]=None\n",
    "\n",
    "plt.plot(hour,c3,c=\"green\")\n",
    "plt.errorbar(hour,c3,c=\"green\",yerr=b3,linestyle='None', marker='s')\n",
    "# c[6]=None\n",
    "# b[6]=None\n",
    "\n",
    "plt.title(\"12-hr Avg. MBE All Stations\")\n",
    "plt.xlabel(\"Time Relative to Event Passage\")\n",
    "plt.ylabel(\"MBE Air Temperature (C)\")\n",
    "#plt.plot(hour,c)\n",
    "#plt.errorbar(hour,c,yerr=b,ecolor='r',elinewidth=5,fmt='s',color='k')\n",
    "#plt.grid()\n",
    "plt.xticks(np.arange(min(hour), max(hour)+1, 1.0))\n",
    "plt.show()\n",
    "#plt.axvspan(-4, 4, color='green', alpha=0.2, lw=0)"
   ]
  },
  {
   "cell_type": "code",
   "execution_count": 156,
   "id": "a2b4f439",
   "metadata": {},
   "outputs": [
    {
     "name": "stdout",
     "output_type": "stream",
     "text": [
      "[ 0.17503333  0.53851667  0.56596667  0.54439167  0.49295833  0.92944417\n",
      "  0.51822333  0.11396917  1.01642667  0.956365    0.46158     0.808195\n",
      "  0.74931417  0.58922917  0.02395167  0.41154583 -0.18666417  0.17902667\n",
      " -0.20901    -0.17334667 -0.240502   -0.27466333 -0.44631167 -0.288615\n",
      " -0.30560917]\n",
      "[2.19233257 1.20541157 1.43075526 1.6104835  2.64246755 2.35446146\n",
      " 1.49534074 1.65149332 2.17245236 2.02959023 1.81486795 1.825316\n",
      " 1.7815099  1.62347885 1.73237738 1.37053715 1.77496524 1.64950541\n",
      " 1.87159493 1.73228633 1.88067216 2.27698231 2.61825762 1.81951072\n",
      " 1.45169628]\n"
     ]
    },
    {
     "data": {
      "text/plain": [
       "25"
      ]
     },
     "execution_count": 156,
     "metadata": {},
     "output_type": "execute_result"
    }
   ],
   "source": [
    "c4 = np.array([difference4_sal,difference4_bat,difference4_laf,difference4_mon,difference4_hol,difference4_new,difference4_gai,difference4_fai,difference4_sel,difference4_bow,difference4_gad,difference4_newt])\n",
    "c4=np.nanmean(c4, axis=0)\n",
    "print(c4)\n",
    "len(c4)\n",
    "\n",
    "b4 = np.array([difference4_sal,difference4_bat,difference4_laf,difference4_mon,difference4_hol,difference4_new,difference4_gai,difference4_fai,difference4_sel,difference4_bow,difference4_gad,difference4_newt])\n",
    "b4=np.nanstd(b4, axis=0)\n",
    "print(b4)\n",
    "len(b4)"
   ]
  },
  {
   "cell_type": "code",
   "execution_count": 157,
   "id": "b1774c6c",
   "metadata": {
    "scrolled": false
   },
   "outputs": [],
   "source": [
    "# def mean(numbers):\n",
    "#     return float(sum(numbers)) / max(len(numbers), 1)\n",
    "\n",
    "# # difference1_sel[17]=0\n",
    "# # difference1_sel[18]=0\n",
    "# # difference1_sel[19]=0\n",
    "# # difference1_sel[20]=0\n",
    "# c4 = [mean(i) for i in zip(difference4_sal,difference4_bat,difference4_laf,difference4_mon,difference4_hol,difference4_new,difference4_gai,difference4_fai,difference4_sel,difference4_bow,difference4_gad,difference4_newt)]\n",
    "# #difference1_bow[6]=0\n",
    "# b4 = [np.std(i) for i in zip(difference4_sal,difference4_bat,difference4_laf,difference4_mon,difference4_hol,difference4_new,difference4_gai,difference4_fai,difference4_sel,difference4_bow,difference4_gad,difference4_newt)]\n",
    "# print (c4)\n",
    "# print(len(c4))\n",
    "# print(b4)\n",
    "# print(len(b4))"
   ]
  },
  {
   "cell_type": "code",
   "execution_count": 158,
   "id": "e70a6cef",
   "metadata": {},
   "outputs": [
    {
     "data": {
      "image/png": "[encoded data removed]",
      "text/plain": [
       "<Figure size 792x396 with 1 Axes>"
      ]
     },
     "metadata": {},
     "output_type": "display_data"
    }
   ],
   "source": [
    "plt.style.use('seaborn-whitegrid')\n",
    "plt.rcParams[\"figure.figsize\"] = [11.00, 5.50]\n",
    "plt.rcParams[\"figure.autolayout\"] = True\n",
    "plt.yticks(np.arange(-5,6,1))\n",
    "plt.ylim(-5,5)\n",
    "# c[6]=None\n",
    "# b[6]=None\n",
    "\n",
    "plt.plot(hour,c4,c=\"orange\")\n",
    "plt.errorbar(hour,c4,c=\"orange\",yerr=b4,linestyle='None', marker='s')\n",
    "# c[6]=None\n",
    "# b[6]=None\n",
    "\n",
    "plt.title(\"12-hr Avg. MBE All Stations\")\n",
    "plt.xlabel(\"Time Relative to Event Passage\")\n",
    "plt.ylabel(\"MBE Air Temperature (C)\")\n",
    "#plt.plot(hour,c)\n",
    "#plt.errorbar(hour,c,yerr=b,ecolor='r',elinewidth=5,fmt='s',color='k')\n",
    "#plt.grid()\n",
    "plt.xticks(np.arange(min(hour), max(hour)+1, 1.0))\n",
    "plt.show()\n",
    "#plt.axvspan(-4, 4, color='green', alpha=0.2, lw=0)"
   ]
  },
  {
   "cell_type": "code",
   "execution_count": null,
   "id": "f721b50a",
   "metadata": {},
   "outputs": [],
   "source": []
  },
  {
   "cell_type": "code",
   "execution_count": 159,
   "id": "240eafe4",
   "metadata": {},
   "outputs": [
    {
     "data": {
      "image/png": "[encoded data removed]",
      "text/plain": [
       "<Figure size 792x396 with 1 Axes>"
      ]
     },
     "metadata": {},
     "output_type": "display_data"
    }
   ],
   "source": [
    "plt.style.use('seaborn-whitegrid')\n",
    "plt.rcParams[\"figure.figsize\"] = [11.00, 5.50]\n",
    "plt.rcParams[\"figure.autolayout\"] = True\n",
    "plt.yticks(np.arange(-5,6,1))\n",
    "plt.ylim(-5,5)\n",
    "\n",
    "plt.plot(hour,c1,c=\"b\",label=\"IOP 1\")\n",
    "plt.errorbar(hour,c1,c=\"b\",yerr=b1,linestyle='None', marker='s')\n",
    "\n",
    "plt.plot(hour,c2,c=\"r\",label=\"IOP 2\")\n",
    "plt.errorbar(hour,c2,c=\"r\",yerr=b2,linestyle='None', marker='s')\n",
    "\n",
    "plt.plot(hour,c3,c=\"green\")\n",
    "plt.errorbar(hour,c3,c=\"green\",yerr=b3,linestyle='None', marker='s')\n",
    "\n",
    "plt.plot(hour,c4,c=\"orange\")\n",
    "plt.errorbar(hour,c4,c=\"orange\",yerr=b4,linestyle='None', marker='s')\n",
    "\n",
    "plt.title(\"12-hr Avg. MBE All Stations\")\n",
    "plt.xlabel(\"Time Relative to Event Passage\")\n",
    "plt.ylabel(\"MBE Air Temperature (C)\")\n",
    "#plt.plot(hour,c)\n",
    "#plt.errorbar(hour,c,yerr=b,ecolor='r',elinewidth=5,fmt='s',color='k')\n",
    "#plt.grid()\n",
    "plt.xticks(np.arange(min(hour), max(hour)+1, 1.0))\n",
    "plt.legend([\"IOP 1\", \"IOP 2\",\"IOP 3\",\"IOP 4\"], loc =\"lower right\")\n",
    "plt.show()"
   ]
  },
  {
   "cell_type": "code",
   "execution_count": null,
   "id": "f20cc188",
   "metadata": {},
   "outputs": [],
   "source": []
  }
 ],
 "metadata": {
  "kernelspec": {
   "display_name": "Python 3 (ipykernel)",
   "language": "python",
   "name": "python3"
  },
  "language_info": {
   "codemirror_mode": {
    "name": "ipython",
    "version": 3
   },
   "file_extension": ".py",
   "mimetype": "text/x-python",
   "name": "python",
   "nbconvert_exporter": "python",
   "pygments_lexer": "ipython3",
   "version": "3.9.12"
  }
 },
 "nbformat": 4,
 "nbformat_minor": 5
}
