{
 "cells": [
  {
   "cell_type": "code",
   "execution_count": 1,
   "id": "83d28093",
   "metadata": {},
   "outputs": [],
   "source": [
    "import numpy as np\n",
    "import matplotlib.pyplot as plt\n",
    "import math"
   ]
  },
  {
   "cell_type": "markdown",
   "id": "18ad22a0",
   "metadata": {},
   "source": [
    "<font size=\"3\">Salem, MO: 1200 UTC 22 March 2022-1200 UTC 23 March 2022</font>"
   ]
  },
  {
   "cell_type": "code",
   "execution_count": 2,
   "id": "1b19b289",
   "metadata": {},
   "outputs": [
    {
     "name": "stdout",
     "output_type": "stream",
     "text": [
      "[10.3, 10.67, 12.87, 13.98, 14.86, 15.66, 14.2, 14.27, 15.27, 16.16, 13.54, 14.37, 13.23, 13.14, 12.08, 11.86, 11.57, 10.89, 10.86, 10.51, 9.81, 9.64001, 6.35001, 6.35001, 6.49002]\n"
     ]
    }
   ],
   "source": [
    "#18 hr hrrr:\n",
    "with open('hrrr_f18_Salem_MO.txt') as f:\n",
    "    lst=[line.split()[4] for line in f]\n",
    "    temp=[]\n",
    "    for i in lst:\n",
    "        new=i.replace(',',\"\")\n",
    "        temp.append(new)\n",
    "    temp.pop(0)\n",
    "    temp=[float(x) for x in temp]\n",
    "    #print(temp.index(6.91541))\n",
    "    temp=temp[1914:1939]\n",
    "    print(temp)\n",
    "    #print(len(temp))\n",
    "#full time period is [2015:2112]"
   ]
  },
  {
   "cell_type": "code",
   "execution_count": 3,
   "id": "e9d4dbcc",
   "metadata": {},
   "outputs": [
    {
     "name": "stdout",
     "output_type": "stream",
     "text": [
      "[9.3, 10.3, 11.1, 11.3, 11.9, 12.4, 12.8, 15.4, 14.9, 14.0, 13.1, 12.9, 12.0, 11.4, 10.5, 10.8, 10.0, 9.6, 8.9, 8.6, 8.1, 7.2, 6.7, 6.3, 6.3]\n"
     ]
    }
   ],
   "source": [
    "#Air Temp CRN:\n",
    "with open('CRNH0203-2022-MO_Salem_10_W.txt') as f:\n",
    "    lst=[line.split()[20] for line in f]\n",
    "    #print(lst)\n",
    "    temp_crn=[]\n",
    "    for i in lst:\n",
    "        new=i.replace(',',\"\")\n",
    "        temp_crn.append(new)\n",
    "    temp_crn=[float(x) for x in temp_crn]\n",
    "    temp_crn=temp_crn[1931:1956]\n",
    "    print(temp_crn)\n",
    "    #print(len(temp_crn))\n",
    "    # print(temp_crn[2124])"
   ]
  },
  {
   "cell_type": "code",
   "execution_count": 4,
   "id": "75f1136d-8437-4565-9336-ca8529a631e6",
   "metadata": {},
   "outputs": [
    {
     "name": "stdout",
     "output_type": "stream",
     "text": [
      "25\n"
     ]
    }
   ],
   "source": [
    "hour=[]\n",
    "for i in range(-12,13,1):\n",
    "    hour.append(i)\n",
    "    i+=1\n",
    "print(len(hour))"
   ]
  },
  {
   "cell_type": "code",
   "execution_count": 5,
   "id": "1e9aed03-d99c-4045-812a-e26bcc99b84f",
   "metadata": {},
   "outputs": [
    {
     "name": "stdout",
     "output_type": "stream",
     "text": [
      "[1.0, 0.3699999999999992, 1.7699999999999996, 2.6799999999999997, 2.959999999999999, 3.26, 1.3999999999999986, -1.1300000000000008, 0.3699999999999992, 2.16, 0.4399999999999995, 1.4699999999999989, 1.2300000000000004, 1.7400000000000002, 1.58, 1.0599999999999987, 1.5700000000000003, 1.290000000000001, 1.959999999999999, 1.9100000000000001, 1.7100000000000009, 2.44001, -0.34999, 0.05001000000000033, 0.19002000000000052]\n"
     ]
    }
   ],
   "source": [
    "difference1_sal = []\n",
    "\n",
    "zip_object = zip(temp, temp_crn)\n",
    "for temp_i, temp_crn_i in zip_object:\n",
    "    difference1_sal.append(temp_i-temp_crn_i)\n",
    "\n",
    "print(difference1_sal)"
   ]
  },
  {
   "cell_type": "markdown",
   "id": "9043c519",
   "metadata": {},
   "source": [
    "<font size=\"3\">Batesville, AR: 1200 UTC 22 March 2022-1200 UTC 23 March 2022</font>"
   ]
  },
  {
   "cell_type": "code",
   "execution_count": 6,
   "id": "394f1ff2",
   "metadata": {},
   "outputs": [
    {
     "name": "stdout",
     "output_type": "stream",
     "text": [
      "[12.75, 13.32, 15.08, 15.3, 15.57, 16.8, 17.5, 16.42, 16.65, 16.68, 16.79, 16.55, 15.26, 13.15, 13.17, 12.79, 10.8, 10.64, 10.45, 9.92001, 9.63, 8.27002, 7.26001, 7.05002, 6.91]\n"
     ]
    }
   ],
   "source": [
    "#18 hr hrrr:\n",
    "with open('hrrr_f18_Batesville_AR.txt') as f:\n",
    "    lst=[line.split()[4] for line in f]\n",
    "    temp=[]\n",
    "    for i in lst:\n",
    "        new=i.replace(',',\"\")\n",
    "        temp.append(new)\n",
    "    temp.pop(0)\n",
    "    temp=[float(x) for x in temp]\n",
    "    #print(temp.index(6.91541))\n",
    "    temp=temp[1914:1939]\n",
    "    print(temp)\n",
    "    #print(len(temp))\n",
    "#full time period is [2015:2112]"
   ]
  },
  {
   "cell_type": "code",
   "execution_count": 7,
   "id": "11b7f8b7",
   "metadata": {},
   "outputs": [
    {
     "name": "stdout",
     "output_type": "stream",
     "text": [
      "[12.5, 12.8, 12.9, 13.1, 13.3, 13.1, 13.1, 13.2, 14.5, 14.6, 14.4, 13.7, 13.3, 12.1, 11.5, 11.8, 10.4, 10.1, 9.5, 8.1, 7.1, 7.0, 6.9, 6.7, 6.6]\n"
     ]
    }
   ],
   "source": [
    "#Air Temp CRN:\n",
    "with open('CRNH0203-2022-AR_Batesville_8_WNW.txt') as f:\n",
    "    lst=[line.split()[20] for line in f]\n",
    "    #print(lst)\n",
    "    temp_crn=[]\n",
    "    for i in lst:\n",
    "        new=i.replace(',',\"\")\n",
    "        temp_crn.append(new)\n",
    "    temp_crn=[float(x) for x in temp_crn]\n",
    "    temp_crn=temp_crn[1931:1956]\n",
    "    print(temp_crn)\n",
    "    #print(len(temp_crn))\n",
    "    # print(temp_crn[2124])"
   ]
  },
  {
   "cell_type": "code",
   "execution_count": 8,
   "id": "62a46873",
   "metadata": {},
   "outputs": [
    {
     "name": "stdout",
     "output_type": "stream",
     "text": [
      "[0.25, 0.5199999999999996, 2.1799999999999997, 2.200000000000001, 2.2699999999999996, 3.700000000000001, 4.4, 3.2200000000000024, 2.1499999999999986, 2.08, 2.389999999999999, 2.8500000000000014, 1.959999999999999, 1.0500000000000007, 1.67, 0.9899999999999984, 0.40000000000000036, 0.5400000000000009, 0.9499999999999993, 1.82001, 2.530000000000001, 1.2700200000000006, 0.36000999999999994, 0.3500199999999998, 0.3100000000000005]\n"
     ]
    }
   ],
   "source": [
    "difference1_bat = []\n",
    "\n",
    "zip_object = zip(temp, temp_crn)\n",
    "for temp_i, temp_crn_i in zip_object:\n",
    "    difference1_bat.append(temp_i-temp_crn_i)\n",
    "\n",
    "print(difference1_bat)"
   ]
  },
  {
   "cell_type": "markdown",
   "id": "2a2589df",
   "metadata": {},
   "source": [
    "<font size=\"3\">Lafayette, LA: 1500 UTC 22 March 2022-1500 UTC 23 March 2022</font>"
   ]
  },
  {
   "cell_type": "code",
   "execution_count": 9,
   "id": "9d0a0e7b",
   "metadata": {},
   "outputs": [
    {
     "name": "stdout",
     "output_type": "stream",
     "text": [
      "[25.98, 27.23, 28.78, 24.97, 25.83, 20.84, 20.99, 22.23, 17.95, 19.31, 18.33, 17.87, 16.49, 13.37, 11.87, 10.33, 10.16, 9.35001, 8.58002, 8.02002, 7.70999, 7.5, 7.88, 10.52, 13.09]\n"
     ]
    }
   ],
   "source": [
    "#18 hr hrrr:\n",
    "with open('hrrr_f18_Lafayette_LA.txt') as f:\n",
    "    lst=[line.split()[4] for line in f]\n",
    "    temp=[]\n",
    "    for i in lst:\n",
    "        new=i.replace(',',\"\")\n",
    "        temp.append(new)\n",
    "    temp.pop(0)\n",
    "    temp=[float(x) for x in temp]\n",
    "    #print(temp.index(6.91541))\n",
    "    temp=temp[1917:1942]\n",
    "    print(temp)\n",
    "    #print(len(temp))\n",
    "#full time period is [2015:2112]"
   ]
  },
  {
   "cell_type": "code",
   "execution_count": 10,
   "id": "bfe1bb32",
   "metadata": {},
   "outputs": [
    {
     "name": "stdout",
     "output_type": "stream",
     "text": [
      "[23.1, 23.4, 24.1, 24.4, 22.9, 21.6, 20.6, 20.9, 20.9, 19.6, 15.5, 12.9, 12.2, 12.1, 14.3, 12.1, 10.2, 8.8, 6.9, 6.5, 6.6, 6.8, 7.2, 9.8, 13.1]\n"
     ]
    }
   ],
   "source": [
    "#Air Temp CRN:\n",
    "with open('CRNH0203-2022-LA_Lafayette_13_SE.txt') as f:\n",
    "    lst=[line.split()[20] for line in f]\n",
    "    #print(lst)\n",
    "    temp_crn=[]\n",
    "    for i in lst:\n",
    "        new=i.replace(',',\"\")\n",
    "        temp_crn.append(new)\n",
    "    temp_crn=[float(x) for x in temp_crn]\n",
    "    temp_crn=temp_crn[1934:1959]\n",
    "    print(temp_crn)\n",
    "    #print(len(temp_crn))\n",
    "    # print(temp_crn[2124])"
   ]
  },
  {
   "cell_type": "code",
   "execution_count": 11,
   "id": "9b94d0f9",
   "metadata": {},
   "outputs": [
    {
     "name": "stdout",
     "output_type": "stream",
     "text": [
      "[2.879999999999999, 3.830000000000002, 4.68, 0.5700000000000003, 2.9299999999999997, -0.7600000000000016, 0.389999999999997, 1.3300000000000018, -2.9499999999999993, -0.2900000000000027, 2.8299999999999983, 4.970000000000001, 4.289999999999999, 1.2699999999999996, -2.4300000000000015, -1.7699999999999996, -0.03999999999999915, 0.5500099999999986, 1.680019999999999, 1.5200200000000006, 1.1099900000000007, 0.7000000000000002, 0.6799999999999997, 0.7199999999999989, -0.009999999999999787]\n"
     ]
    }
   ],
   "source": [
    "difference1_laf = []\n",
    "\n",
    "zip_object = zip(temp, temp_crn)\n",
    "for temp_i, temp_crn_i in zip_object:\n",
    "    difference1_laf.append(temp_i-temp_crn_i)\n",
    "\n",
    "print(difference1_laf)"
   ]
  },
  {
   "cell_type": "markdown",
   "id": "7a8d079f",
   "metadata": {},
   "source": [
    "<font size=\"3\">Monroe, LA: 1500 UTC 22 March 2022-1500 UTC 23 March 2022</font>"
   ]
  },
  {
   "cell_type": "code",
   "execution_count": 12,
   "id": "f4c20224",
   "metadata": {},
   "outputs": [
    {
     "name": "stdout",
     "output_type": "stream",
     "text": [
      "[20.65, 17.02, 17.09, 17.76, 18.32, 20.6, 18.66, 20.89, 18.73, 17.92, 16.62, 13.62, 11.67, 10.1, 9.16, 9.26001, 9.13, 8.33002, 8.02002, 7.49002, 7.14001, 7.07001, 7.25, 7.89001, 9.22]\n"
     ]
    }
   ],
   "source": [
    "#18 hr hrrr:\n",
    "with open('hrrr_f18_Monroe_LA.txt') as f:\n",
    "    lst=[line.split()[4] for line in f]\n",
    "    temp=[]\n",
    "    for i in lst:\n",
    "        new=i.replace(',',\"\")\n",
    "        temp.append(new)\n",
    "    temp.pop(0)\n",
    "    temp=[float(x) for x in temp]\n",
    "    #print(temp.index(6.91541))\n",
    "    temp=temp[1917:1942]\n",
    "    print(temp)\n",
    "    #print(len(temp))\n",
    "#full time period is [2015:2112]"
   ]
  },
  {
   "cell_type": "code",
   "execution_count": 13,
   "id": "5c3999a7",
   "metadata": {},
   "outputs": [
    {
     "name": "stdout",
     "output_type": "stream",
     "text": [
      "[14.2, 14.0, 13.9, 13.6, 13.9, 15.8, 15.7, 15.5, 15.2, 15.1, 14.6, 12.7, 10.8, 10.3, 9.6, 9.6, 9.4, 8.6, 8.3, 8.2, 8.1, 8.2, 8.2, 8.5, 9.4]\n"
     ]
    }
   ],
   "source": [
    "#Air Temp CRN:\n",
    "with open('CRNH0203-2022-LA_Monroe_26_N.txt') as f:\n",
    "    lst=[line.split()[20] for line in f]\n",
    "    #print(lst)\n",
    "    temp_crn=[]\n",
    "    for i in lst:\n",
    "        new=i.replace(',',\"\")\n",
    "        temp_crn.append(new)\n",
    "    temp_crn=[float(x) for x in temp_crn]\n",
    "    temp_crn=temp_crn[1934:1959]\n",
    "    print(temp_crn)\n",
    "    #print(len(temp_crn))\n",
    "    # print(temp_crn[2124])"
   ]
  },
  {
   "cell_type": "code",
   "execution_count": 14,
   "id": "2b4e383a",
   "metadata": {},
   "outputs": [
    {
     "name": "stdout",
     "output_type": "stream",
     "text": [
      "[6.449999999999999, 3.0199999999999996, 3.1899999999999995, 4.160000000000002, 4.42, 4.800000000000001, 2.960000000000001, 5.390000000000001, 3.530000000000001, 2.820000000000002, 2.0200000000000014, 0.9199999999999999, 0.8699999999999992, -0.20000000000000107, -0.4399999999999995, -0.33999000000000024, -0.2699999999999996, -0.26998000000000033, -0.2799800000000001, -0.709979999999999, -0.9599899999999995, -1.1299899999999994, -0.9499999999999993, -0.6099899999999998, -0.17999999999999972]\n"
     ]
    }
   ],
   "source": [
    "difference1_mon = []\n",
    "\n",
    "zip_object = zip(temp, temp_crn)\n",
    "for temp_i, temp_crn_i in zip_object:\n",
    "    difference1_mon.append(temp_i-temp_crn_i)\n",
    "\n",
    "print(difference1_mon)"
   ]
  },
  {
   "cell_type": "markdown",
   "id": "26c585ff",
   "metadata": {},
   "source": [
    "<font size=\"3\">Holly Springs, MS: 1800 UTC 22 March 2022-1800 UTC 23 March 2022</font>"
   ]
  },
  {
   "cell_type": "code",
   "execution_count": 15,
   "id": "41fed7a9",
   "metadata": {},
   "outputs": [
    {
     "name": "stdout",
     "output_type": "stream",
     "text": [
      "[15.87, 17.2, 17.04, 16.65, 17.51, 16.99, 16.84, 16.88, 16.19, 15.12, 13.94, 14.65, 13.98, 14.65, 12.64, 11.48, 10.34, 8.92001, 8.75, 7.69, 7.05002, 7.16, 7.94, 7.67001, 7.78]\n"
     ]
    }
   ],
   "source": [
    "#18 hr hrrr:\n",
    "with open('hrrr_f18_Holly Springs_MS.txt') as f:\n",
    "    lst=[line.split()[4] for line in f]\n",
    "    temp=[]\n",
    "    for i in lst:\n",
    "        new=i.replace(',',\"\")\n",
    "        temp.append(new)\n",
    "    temp.pop(0)\n",
    "    temp=[float(x) for x in temp]\n",
    "    #print(temp.index(6.91541))\n",
    "    temp=temp[1920:1945]\n",
    "    print(temp)\n",
    "    #print(len(temp))\n",
    "#full time period is [2015:2112]"
   ]
  },
  {
   "cell_type": "code",
   "execution_count": 16,
   "id": "19a3055f",
   "metadata": {},
   "outputs": [
    {
     "name": "stdout",
     "output_type": "stream",
     "text": [
      "[13.9, 13.5, 12.6, 12.6, 12.6, 12.9, 13.6, 13.3, 13.3, 13.9, 13.7, 13.7, 13.4, 13.0, 12.7, 11.8, 11.0, 10.0, 9.4, 9.1, 9.1, 8.9, 8.8, 9.0, 12.2]\n"
     ]
    }
   ],
   "source": [
    "#Air Temp CRN:\n",
    "with open('CRNH0203-2022-MS_Holly_Springs_4_N.txt') as f:\n",
    "    lst=[line.split()[20] for line in f]\n",
    "    #print(lst)\n",
    "    temp_crn=[]\n",
    "    for i in lst:\n",
    "        new=i.replace(',',\"\")\n",
    "        temp_crn.append(new)\n",
    "    temp_crn=[float(x) for x in temp_crn]\n",
    "    temp_crn=temp_crn[1937:1962]\n",
    "    print(temp_crn)\n",
    "    #print(len(temp_crn))\n",
    "    # print(temp_crn[2124])"
   ]
  },
  {
   "cell_type": "code",
   "execution_count": 17,
   "id": "46b095cb",
   "metadata": {},
   "outputs": [
    {
     "name": "stdout",
     "output_type": "stream",
     "text": [
      "[1.9699999999999989, 3.6999999999999993, 4.4399999999999995, 4.049999999999999, 4.910000000000002, 4.089999999999998, 3.24, 3.5799999999999983, 2.8900000000000006, 1.2199999999999989, 0.2400000000000002, 0.9500000000000011, 0.5800000000000001, 1.6500000000000004, -0.05999999999999872, -0.3200000000000003, -0.6600000000000001, -1.0799900000000004, -0.6500000000000004, -1.4099999999999993, -2.0499799999999997, -1.7400000000000002, -0.8600000000000003, -1.3299899999999996, -4.419999999999999]\n"
     ]
    }
   ],
   "source": [
    "difference1_hol = []\n",
    "\n",
    "zip_object = zip(temp, temp_crn)\n",
    "for temp_i, temp_crn_i in zip_object:\n",
    "    difference1_hol.append(temp_i-temp_crn_i)\n",
    "\n",
    "print(difference1_hol)"
   ]
  },
  {
   "cell_type": "markdown",
   "id": "1c76c308",
   "metadata": {},
   "source": [
    "<font size=\"3\">Newton, MS: 1800 UTC 22 March 2022-1800 UTC 23 March 2022</font>"
   ]
  },
  {
   "cell_type": "code",
   "execution_count": 18,
   "id": "e8171095",
   "metadata": {},
   "outputs": [
    {
     "name": "stdout",
     "output_type": "stream",
     "text": [
      "[27.82, 24.16, 21.65, 22.4, 21.68, 21.24, 20.9, 19.26, 18.65, 18.24, 18.34, 18.21, 16.63, 16.94, 14.28, 13.48, 12.88, 10.98, 9.58002, 9.98001, 9.88, 10.58, 11.37, 13.92, 13.91]\n"
     ]
    }
   ],
   "source": [
    "#18 hr hrrr:\n",
    "with open('hrrr_f18_Newton_MS.txt') as f:\n",
    "    lst=[line.split()[4] for line in f]\n",
    "    temp=[]\n",
    "    for i in lst:\n",
    "        new=i.replace(',',\"\")\n",
    "        temp.append(new)\n",
    "    temp.pop(0)\n",
    "    temp=[float(x) for x in temp]\n",
    "    #print(temp.index(6.91541))\n",
    "    temp=temp[1920:1945]\n",
    "    print(temp)\n",
    "    #print(len(temp))\n",
    "#full time period is [2015:2112]"
   ]
  },
  {
   "cell_type": "code",
   "execution_count": 19,
   "id": "3fb09a0f",
   "metadata": {},
   "outputs": [
    {
     "name": "stdout",
     "output_type": "stream",
     "text": [
      "[23.5, 22.1, 20.0, 17.8, 16.1, 15.7, 15.8, 15.8, 15.8, 16.1, 16.4, 16.5, 15.2, 14.8, 13.9, 12.6, 13.2, 12.4, 11.7, 11.5, 11.1, 13.3, 13.4, 17.1, 21.6]\n"
     ]
    }
   ],
   "source": [
    "#Air Temp CRN:\n",
    "with open('CRNH0203-2022-MS_Newton_5_ENE.txt') as f:\n",
    "    lst=[line.split()[20] for line in f]\n",
    "    #print(lst)\n",
    "    temp_crn=[]\n",
    "    for i in lst:\n",
    "        new=i.replace(',',\"\")\n",
    "        temp_crn.append(new)\n",
    "    temp_crn=[float(x) for x in temp_crn]\n",
    "    temp_crn=temp_crn[1937:1962]\n",
    "    print(temp_crn)\n",
    "    #print(len(temp_crn))\n",
    "    # print(temp_crn[2124])"
   ]
  },
  {
   "cell_type": "code",
   "execution_count": 20,
   "id": "e588ab70",
   "metadata": {},
   "outputs": [
    {
     "name": "stdout",
     "output_type": "stream",
     "text": [
      "[4.32, 2.0599999999999987, 1.6499999999999986, 4.599999999999998, 5.579999999999998, 5.539999999999999, 5.099999999999998, 3.460000000000001, 2.849999999999998, 2.139999999999997, 1.9400000000000013, 1.7100000000000009, 1.4299999999999997, 2.1400000000000006, 0.379999999999999, 0.8800000000000008, -0.3199999999999985, -1.42, -2.11998, -1.51999, -1.2199999999999989, -2.7200000000000006, -2.030000000000001, -3.1800000000000015, -7.690000000000001]\n"
     ]
    }
   ],
   "source": [
    "difference1_new = []\n",
    "\n",
    "zip_object = zip(temp, temp_crn)\n",
    "for temp_i, temp_crn_i in zip_object:\n",
    "    difference1_new.append(temp_i-temp_crn_i)\n",
    "\n",
    "print(difference1_new)"
   ]
  },
  {
   "cell_type": "markdown",
   "id": "c9620694",
   "metadata": {},
   "source": [
    "<font size=\"3\">Gainesville, AL: 2200 UTC 22 March 2022-2200 UTC 23 March 2022</font>"
   ]
  },
  {
   "cell_type": "code",
   "execution_count": 21,
   "id": "a16fb94f",
   "metadata": {},
   "outputs": [],
   "source": [
    "# #18 hr hrrr:\n",
    "# with open('hrrr_f18_Gainesville_AL (1).txt') as f:\n",
    "#     lst=[line.split()[4] for line in f]\n",
    "#     temp=[]\n",
    "#     for i in lst:\n",
    "#         new=i.replace(',',\"\")\n",
    "#         temp.append(new)\n",
    "#     temp.pop(0)\n",
    "#     temp=[float(x) for x in temp]\n",
    "#     #print(temp.index(6.91541))\n",
    "#     temp=temp[1924:1949]\n",
    "#     print(temp)\n",
    "#     #print(len(temp))\n",
    "# #full time period is [2015:2112]"
   ]
  },
  {
   "cell_type": "code",
   "execution_count": 22,
   "id": "2c97e541",
   "metadata": {},
   "outputs": [],
   "source": [
    "# #Air Temp CRN:\n",
    "# with open('CRNH0203-2022-AL_Gainesville_2_NE.txt') as f:\n",
    "#     lst=[line.split()[20] for line in f]\n",
    "#     #print(lst)\n",
    "#     temp_crn=[]\n",
    "#     for i in lst:\n",
    "#         new=i.replace(',',\"\")\n",
    "#         temp_crn.append(new)\n",
    "#     temp_crn=[float(x) for x in temp_crn]\n",
    "#     temp_crn=temp_crn[1941:1966]\n",
    "#     print(temp_crn)\n",
    "#     #print(len(temp_crn))\n",
    "#     # print(temp_crn[2124])"
   ]
  },
  {
   "cell_type": "code",
   "execution_count": 23,
   "id": "8df76a7b",
   "metadata": {},
   "outputs": [],
   "source": [
    "# difference1_gai = []\n",
    "\n",
    "# zip_object = zip(temp, temp_crn)\n",
    "# for temp_i, temp_crn_i in zip_object:\n",
    "#     difference1_gai.append(temp_i-temp_crn_i)\n",
    "\n",
    "# print(difference1_gai)"
   ]
  },
  {
   "cell_type": "markdown",
   "id": "2711dc15",
   "metadata": {},
   "source": [
    "<font size=\"3\">Fairhope, AL: 2200 UTC 22 March 2022-2200 UTC 23 March 2022</font>"
   ]
  },
  {
   "cell_type": "code",
   "execution_count": 24,
   "id": "e9eb20f7",
   "metadata": {},
   "outputs": [
    {
     "name": "stdout",
     "output_type": "stream",
     "text": [
      "[24.63, 23.03, 22.1, 22.26, 22.15, 21.98, 21.62, 21.42, 18.32, 16.62, 18.38, 17.26, 17.83, 16.46, 16.81, 15.98, 17.34, 17.18, 18.56, 19.2, 19.05, 18.89, 18.97, 18.58, 17.73]\n"
     ]
    }
   ],
   "source": [
    "#18 hr hrrr:\n",
    "with open('hrrr_f18_Fairhope_AL.txt') as f:\n",
    "    lst=[line.split()[4] for line in f]\n",
    "    temp=[]\n",
    "    for i in lst:\n",
    "        new=i.replace(',',\"\")\n",
    "        temp.append(new)\n",
    "    temp.pop(0)\n",
    "    temp=[float(x) for x in temp]\n",
    "    #print(temp.index(6.91541))\n",
    "    temp=temp[1924:1949]\n",
    "    print(temp)\n",
    "    #print(len(temp))\n",
    "#full time period is [2015:2112]"
   ]
  },
  {
   "cell_type": "code",
   "execution_count": 25,
   "id": "4df09785",
   "metadata": {},
   "outputs": [
    {
     "name": "stdout",
     "output_type": "stream",
     "text": [
      "[23.2, 22.7, 22.1, 22.2, 22.3, 22.0, 21.7, 20.7, 20.0, 17.8, 17.5, 17.2, 17.1, 15.6, 16.0, 15.5, 18.3, 20.4, 20.6, 20.6, 22.9, 24.7, 24.8, 22.8, 21.1]\n"
     ]
    }
   ],
   "source": [
    "#Air Temp CRN:\n",
    "with open('CRNH0203-2022-AL_Fairhope_3_NE.txt') as f:\n",
    "    lst=[line.split()[20] for line in f]\n",
    "    #print(lst)\n",
    "    temp_crn=[]\n",
    "    for i in lst:\n",
    "        new=i.replace(',',\"\")\n",
    "        temp_crn.append(new)\n",
    "    temp_crn=[float(x) for x in temp_crn]\n",
    "    temp_crn=temp_crn[1941:1966]\n",
    "    print(temp_crn)\n",
    "    #print(len(temp_crn))\n",
    "    # print(temp_crn[2124])"
   ]
  },
  {
   "cell_type": "code",
   "execution_count": 26,
   "id": "a9ff3306",
   "metadata": {},
   "outputs": [
    {
     "name": "stdout",
     "output_type": "stream",
     "text": [
      "[1.4299999999999997, 0.33000000000000185, 0.0, 0.060000000000002274, -0.15000000000000213, -0.019999999999999574, -0.0799999999999983, 0.7200000000000024, -1.6799999999999997, -1.1799999999999997, 0.879999999999999, 0.060000000000002274, 0.7299999999999969, 0.8600000000000012, 0.8099999999999987, 0.4800000000000004, -0.9600000000000009, -3.219999999999999, -2.0400000000000027, -1.4000000000000021, -3.849999999999998, -5.809999999999999, -5.830000000000002, -4.220000000000002, -3.370000000000001]\n"
     ]
    }
   ],
   "source": [
    "difference1_fai = []\n",
    "\n",
    "zip_object = zip(temp, temp_crn)\n",
    "for temp_i, temp_crn_i in zip_object:\n",
    "    difference1_fai.append(temp_i-temp_crn_i)\n",
    "\n",
    "print(difference1_fai)"
   ]
  },
  {
   "cell_type": "markdown",
   "id": "f5dd4e4b",
   "metadata": {},
   "source": [
    "<font size=\"3\">**Selma, AL: 2200 UTC 22 March 2022-2200 UTC 23 March 2022</font>"
   ]
  },
  {
   "cell_type": "code",
   "execution_count": 27,
   "id": "af6b46b1",
   "metadata": {},
   "outputs": [
    {
     "name": "stdout",
     "output_type": "stream",
     "text": [
      "[23.77 22.66 21.46 20.77 19.61 19.53 19.9 19.46 19.53 20.44 18.13 17.21\n",
      " 17.19 16.93 15.78 16.67 17.6 -- -- -- -- 19.66 18.73 17.89 15.93]\n",
      "[23.1 22.2 21.6 21.0 19.9 19.4 19.6 19.6 19.4 19.6 19.3 19.4 18.7 17.2\n",
      " 16.0 16.1 18.7 -- -- -- -- 24.3 24.8 24.3 22.9]\n",
      "[0.6699999999999982, 0.46000000000000085, -0.14000000000000057, -0.23000000000000043, -0.28999999999999915, 0.13000000000000256, 0.29999999999999716, -0.14000000000000057, 0.13000000000000256, 0.8399999999999999, -1.1700000000000017, -2.1899999999999977, -1.509999999999998, -0.2699999999999996, -0.22000000000000064, 0.5700000000000003, -1.0999999999999979, masked, masked, masked, masked, -4.640000000000001, -6.07, -6.41, -6.969999999999999]\n",
      "25\n"
     ]
    }
   ],
   "source": [
    "import numpy as np\n",
    "import numpy.ma as ma\n",
    "#18 hr hrrr:\n",
    "with open('hrrr_f18_Selma_AL.txt') as f:\n",
    "    lst=[line.split()[4] for line in f]\n",
    "    temp=[]\n",
    "    for i in lst:\n",
    "        new=i.replace(',',\"\")\n",
    "        temp.append(new)\n",
    "    temp.pop(0)\n",
    "    temp=[float(x) for x in temp]\n",
    "    #print(temp.index(6.91541))\n",
    "    temp=temp[1924:1949]\n",
    "\n",
    "    x = np.array(temp)\n",
    "    temp = ma.masked_array(x, mask=[0, 0, 0, 0, 0,0,0,0,0,0,0,0,0,0,0,0,0,1,1,1,1,0,0,0,0])\n",
    "    #print(temp)\n",
    "#Air Temp CRN:\n",
    "with open('CRNH0203-2022-AL_Selma_13_WNW.txt') as f:\n",
    "    lst=[line.split()[20] for line in f]\n",
    "    #print(lst)\n",
    "    temp_crn=[]\n",
    "    for i in lst:\n",
    "        new=i.replace(',',\"\")\n",
    "        temp_crn.append(new)\n",
    "    temp_crn=[float(x) for x in temp_crn]\n",
    "    temp_crn=temp_crn[1941:1966]\n",
    "    y = np.array(temp_crn)\n",
    "    temp_crn = ma.masked_array(y, mask=[0, 0, 0, 0, 0,0,0,0,0,0,0,0,0,0,0,0,0,1,1,1,1,0,0,0,0])\n",
    "    print(temp)\n",
    "    #print(len(temp))\n",
    "    print(temp_crn)\n",
    "    #print(len(temp_crn))\n",
    "#full time period is [2015:2112]\n",
    "difference1_sel = []\n",
    "\n",
    "zip_object = zip(temp, temp_crn)\n",
    "for temp_i, temp_crn_i in zip_object:\n",
    "    difference1_sel.append(temp_i-temp_crn_i)\n",
    "\n",
    "print(difference1_sel)\n",
    "print(len(difference1_sel))"
   ]
  },
  {
   "cell_type": "code",
   "execution_count": 28,
   "id": "6fc35c65",
   "metadata": {},
   "outputs": [],
   "source": [
    "# import numpy as np\n",
    "# import numpy.ma as ma\n",
    "# x = np.array(temp_crn)\n",
    "# crnsel = ma.masked_array(x, mask=[0, 0, 0, 0, 0,0,0,0,0,0,0,0,0,0,0,0,0,1,1,1,1,0,0,0,0])\n",
    "# print(crnsel)\n",
    "# crnsel.mean()"
   ]
  },
  {
   "cell_type": "code",
   "execution_count": 29,
   "id": "fc41a8e0",
   "metadata": {},
   "outputs": [],
   "source": [
    "# temp[17]=0\n",
    "# temp[18]=0\n",
    "# temp[19]=0\n",
    "# temp[20]=0\n",
    "\n",
    "# temp_crn[17]=0\n",
    "# temp_crn[18]=0\n",
    "# temp_crn[19]=0\n",
    "# temp_crn[20]=0\n",
    "\n",
    "# difference1_sel[17]=0\n",
    "# difference1_sel[18]=0\n",
    "# difference1_sel[19]=0\n",
    "# difference1_sel[20]=0\n",
    "# print(temp)\n",
    "# print(temp_crn)\n",
    "# print(difference1_sel)\n"
   ]
  },
  {
   "cell_type": "markdown",
   "id": "8fab4bdc",
   "metadata": {},
   "source": [
    "<font size=\"3\">Bowling Green, KY: 2300 UTC 22 March 2022-2300 UTC 23 March 2022</font>"
   ]
  },
  {
   "cell_type": "code",
   "execution_count": 30,
   "id": "1caf0dec",
   "metadata": {},
   "outputs": [
    {
     "name": "stdout",
     "output_type": "stream",
     "text": [
      "[21.78, 18.83, 16.5, 16.62, 16.01, 15.24, 15.84, 14.73, 14.46, 15.1, 15.09, 16.04, 15.38, 15.32, 15.65, 16.6, 16.85, 14.54, 14.72, 13.9, 15.96, 12.66, 10.8, 10.38, 9.67001]\n"
     ]
    }
   ],
   "source": [
    "#18 hr hrrr:\n",
    "with open('hrrr_f18_Bowling Green_KY.txt') as f:\n",
    "    lst=[line.split()[4] for line in f]\n",
    "    temp=[]\n",
    "    for i in lst:\n",
    "        new=i.replace(',',\"\")\n",
    "        temp.append(new)\n",
    "    temp.pop(0)\n",
    "    temp=[float(x) for x in temp]\n",
    "    #print(temp.index(6.91541))\n",
    "    temp=temp[1925:1950]\n",
    "    print(temp)\n",
    "    #print(len(temp))\n",
    "#full time period is [2015:2112]"
   ]
  },
  {
   "cell_type": "code",
   "execution_count": 31,
   "id": "b9e25e31",
   "metadata": {},
   "outputs": [
    {
     "name": "stdout",
     "output_type": "stream",
     "text": [
      "[20.4, 17.4, 15.8, 14.7, 14.6, 14.5, 14.5, 14.1, 13.6, 13.8, 14.0, 13.9, 13.5, 12.6, 14.1, 15.2, 18.6, 17.5, 20.2, 18.4, 20.4, 20.2, 15.7, 15.1, 11.6]\n"
     ]
    }
   ],
   "source": [
    "#Air Temp CRN:\n",
    "with open('CRNH0203-2022-KY_Bowling_Green_21_NNE.txt') as f:\n",
    "    lst=[line.split()[20] for line in f]\n",
    "    #print(lst)\n",
    "    temp_crn=[]\n",
    "    for i in lst:\n",
    "        new=i.replace(',',\"\")\n",
    "        temp_crn.append(new)\n",
    "    temp_crn=[float(x) for x in temp_crn]\n",
    "    temp_crn=temp_crn[1942:1967]\n",
    "    print(temp_crn)\n",
    "    #print(len(temp_crn))\n",
    "    # print(temp_crn[2124])"
   ]
  },
  {
   "cell_type": "code",
   "execution_count": 32,
   "id": "c1e72531",
   "metadata": {},
   "outputs": [
    {
     "name": "stdout",
     "output_type": "stream",
     "text": [
      "[1.3800000000000026, 1.4299999999999997, 0.6999999999999993, 1.9200000000000017, 1.410000000000002, 0.7400000000000002, 1.3399999999999999, 0.6300000000000008, 0.8600000000000012, 1.299999999999999, 1.0899999999999999, 2.139999999999999, 1.8800000000000008, 2.7200000000000006, 1.5500000000000007, 1.4000000000000021, -1.75, -2.960000000000001, -5.479999999999999, -4.499999999999998, -4.439999999999998, -7.539999999999999, -4.899999999999999, -4.719999999999999, -1.92999]\n"
     ]
    }
   ],
   "source": [
    "difference1_bow = []\n",
    "\n",
    "zip_object = zip(temp, temp_crn)\n",
    "for temp_i, temp_crn_i in zip_object:\n",
    "    difference1_bow.append(temp_i-temp_crn_i)\n",
    "\n",
    "print(difference1_bow)"
   ]
  },
  {
   "cell_type": "markdown",
   "id": "d1be2cc0",
   "metadata": {},
   "source": [
    "<font size=\"3\">Gadsden, AL: 0100 UTC 23 March 2022-0100 UTC 24 March 2022</font>"
   ]
  },
  {
   "cell_type": "code",
   "execution_count": 33,
   "id": "03235bce",
   "metadata": {},
   "outputs": [
    {
     "name": "stdout",
     "output_type": "stream",
     "text": [
      "[20.94, 19.18, 17.95, 16.71, 16.31, 16.89, 17.34, 18.0, 17.67, 17.55, 16.36, 16.0, 15.56, 16.17, 17.59, 17.42, 17.56, 18.0, 17.78, 15.23, 15.27, 13.52, 12.06, 10.51, 9.82001]\n"
     ]
    }
   ],
   "source": [
    "#18 hr hrrr:\n",
    "with open('hrrr_f18_Gadsden_AL.txt') as f:\n",
    "    lst=[line.split()[4] for line in f]\n",
    "    temp=[]\n",
    "    for i in lst:\n",
    "        new=i.replace(',',\"\")\n",
    "        temp.append(new)\n",
    "    temp.pop(0)\n",
    "    temp=[float(x) for x in temp]\n",
    "    #print(temp.index(6.91541))\n",
    "    temp=temp[1927:1952]\n",
    "    print(temp)\n",
    "    #print(len(temp))\n",
    "#full time period is [2015:2112]"
   ]
  },
  {
   "cell_type": "code",
   "execution_count": 34,
   "id": "eb5f934d",
   "metadata": {},
   "outputs": [
    {
     "name": "stdout",
     "output_type": "stream",
     "text": [
      "[18.5, 15.3, 14.7, 14.5, 14.2, 14.2, 14.3, 14.5, 14.8, 15.2, 16.1, 16.7, 17.1, 16.4, 16.0, 19.2, 21.2, 22.8, 21.5, 21.3, 20.0, 18.9, 16.2, 13.2, 11.0]\n"
     ]
    }
   ],
   "source": [
    "#Air Temp CRN:\n",
    "with open('CRNH0203-2022-AL_Gadsden_19_N.txt') as f:\n",
    "    lst=[line.split()[20] for line in f]\n",
    "    #print(lst)\n",
    "    temp_crn=[]\n",
    "    for i in lst:\n",
    "        new=i.replace(',',\"\")\n",
    "        temp_crn.append(new)\n",
    "    temp_crn=[float(x) for x in temp_crn]\n",
    "    temp_crn=temp_crn[1944:1969]\n",
    "    print(temp_crn)\n",
    "    #print(len(temp_crn))\n",
    "    # print(temp_crn[2124])"
   ]
  },
  {
   "cell_type": "code",
   "execution_count": 35,
   "id": "c002ac76",
   "metadata": {},
   "outputs": [
    {
     "name": "stdout",
     "output_type": "stream",
     "text": [
      "[2.4400000000000013, 3.879999999999999, 3.25, 2.210000000000001, 2.1099999999999994, 2.6900000000000013, 3.039999999999999, 3.5, 2.870000000000001, 2.3500000000000014, 0.259999999999998, -0.6999999999999993, -1.540000000000001, -0.22999999999999687, 1.5899999999999999, -1.7799999999999976, -3.6400000000000006, -4.800000000000001, -3.719999999999999, -6.07, -4.73, -5.379999999999999, -4.139999999999999, -2.6899999999999995, -1.17999]\n"
     ]
    }
   ],
   "source": [
    "difference1_gad = []\n",
    "\n",
    "zip_object = zip(temp, temp_crn)\n",
    "for temp_i, temp_crn_i in zip_object:\n",
    "    difference1_gad.append(temp_i-temp_crn_i)\n",
    "\n",
    "print(difference1_gad)"
   ]
  },
  {
   "cell_type": "markdown",
   "id": "d430f7c6",
   "metadata": {},
   "source": [
    "<font size=\"3\">Newton, GA: 0900 UTC 23 March 2022-0900 UTC 24 March 2022</font>"
   ]
  },
  {
   "cell_type": "code",
   "execution_count": 36,
   "id": "13ffdd24",
   "metadata": {},
   "outputs": [
    {
     "name": "stdout",
     "output_type": "stream",
     "text": [
      "[19.68, 20.49, 20.05, 20.53, 20.68, 20.76, 22.83, 23.27, 25.11, 24.93, 23.02, 22.8, 20.88, 20.55, 19.79, 19.33, 18.41, 17.98, 17.56, 16.83, 16.42, 15.28, 14.37, 14.28, 13.97]\n"
     ]
    }
   ],
   "source": [
    "#18 hr hrrr:\n",
    "with open('hrrr_f18_Newton_GA.txt') as f:\n",
    "    lst=[line.split()[4] for line in f]\n",
    "    temp=[]\n",
    "    for i in lst:\n",
    "        new=i.replace(',',\"\")\n",
    "        temp.append(new)\n",
    "    temp.pop(0)\n",
    "    temp=[float(x) for x in temp]\n",
    "    #print(temp.index(6.91541))\n",
    "    temp=temp[1935:1960]\n",
    "    print(temp)\n",
    "    #print(len(temp))\n",
    "#full time period is [2015:2112]"
   ]
  },
  {
   "cell_type": "code",
   "execution_count": 37,
   "id": "9851cf85",
   "metadata": {},
   "outputs": [
    {
     "name": "stdout",
     "output_type": "stream",
     "text": [
      "[19.9, 20.2, 19.7, 19.4, 19.6, 19.8, 20.2, 21.0, 23.6, 23.4, 22.9, 24.3, 24.3, 23.9, 22.4, 21.2, 19.9, 18.6, 18.4, 17.9, 17.8, 17.2, 16.8, 16.0, 15.9]\n"
     ]
    }
   ],
   "source": [
    "#Air Temp CRN:\n",
    "with open('CRNH0203-2022-GA_Newton_11_SW.txt') as f:\n",
    "    lst=[line.split()[20] for line in f]\n",
    "    #print(lst)\n",
    "    temp_crn=[]\n",
    "    for i in lst:\n",
    "        new=i.replace(',',\"\")\n",
    "        temp_crn.append(new)\n",
    "    temp_crn=[float(x) for x in temp_crn]\n",
    "    temp_crn=temp_crn[1952:1977]\n",
    "    print(temp_crn)\n",
    "    #print(len(temp_crn))\n",
    "    # print(temp_crn[2124])"
   ]
  },
  {
   "cell_type": "code",
   "execution_count": 38,
   "id": "f2141c03",
   "metadata": {},
   "outputs": [
    {
     "name": "stdout",
     "output_type": "stream",
     "text": [
      "[-0.21999999999999886, 0.28999999999999915, 0.3500000000000014, 1.1300000000000026, 1.0799999999999983, 0.9600000000000009, 2.629999999999999, 2.2699999999999996, 1.509999999999998, 1.5300000000000011, 0.120000000000001, -1.5, -3.4200000000000017, -3.349999999999998, -2.6099999999999994, -1.870000000000001, -1.4899999999999984, -0.620000000000001, -0.8399999999999999, -1.0700000000000003, -1.379999999999999, -1.92, -2.4300000000000015, -1.7200000000000006, -1.9299999999999997]\n"
     ]
    }
   ],
   "source": [
    "difference1_newt = []\n",
    "\n",
    "zip_object = zip(temp, temp_crn)\n",
    "for temp_i, temp_crn_i in zip_object:\n",
    "    difference1_newt.append(temp_i-temp_crn_i)\n",
    "\n",
    "print(difference1_newt)"
   ]
  },
  {
   "cell_type": "markdown",
   "id": "ab4663ab",
   "metadata": {},
   "source": [
    "<font size=\"3\">Salem, MO: 1300 UTC 30 March 2022-1300 UTC 31 March 2022</font>"
   ]
  },
  {
   "cell_type": "code",
   "execution_count": 39,
   "id": "1fdf0a30",
   "metadata": {},
   "outputs": [
    {
     "name": "stdout",
     "output_type": "stream",
     "text": [
      "[14.81, 13.82, 13.9, 16.98, 17.87, 16.42, 18.06, 16.72, 17.11, 11.34, 10.38, 8.20999, 7.63, 6.59, 5.38, 4.78, 4.36002, 3.70001, 3.39001, 3.34, 2.98001, 2.56, 2.30002, 1.82001, 1.82001]\n"
     ]
    }
   ],
   "source": [
    "#18 hr hrrr:\n",
    "with open('hrrr_f18_Salem_MO.txt') as f:\n",
    "    lst=[line.split()[4] for line in f]\n",
    "    temp=[]\n",
    "    for i in lst:\n",
    "        new=i.replace(',',\"\")\n",
    "        temp.append(new)\n",
    "    temp.pop(0)\n",
    "    temp=[float(x) for x in temp]\n",
    "    #print(temp.index(6.91541))\n",
    "    temp=temp[2107:2132]\n",
    "    print(temp)\n",
    "    #print(len(temp))\n",
    "#full time period is [2015:2112]"
   ]
  },
  {
   "cell_type": "code",
   "execution_count": 40,
   "id": "01b4011e",
   "metadata": {},
   "outputs": [
    {
     "name": "stdout",
     "output_type": "stream",
     "text": [
      "[14.7, 14.6, 13.4, 13.3, 14.2, 15.1, 14.6, 14.1, 13.9, 11.5, 9.4, 7.4, 6.4, 5.6, 4.9, 4.3, 4.0, 3.8, 3.0, 2.9, 3.0, 3.2, 2.9, 2.9, 3.0]\n"
     ]
    }
   ],
   "source": [
    "#Air Temp CRN:\n",
    "with open('CRNH0203-2022-MO_Salem_10_W.txt') as f:\n",
    "    lst=[line.split()[20] for line in f]\n",
    "    #print(lst)\n",
    "    temp_crn=[]\n",
    "    for i in lst:\n",
    "        new=i.replace(',',\"\")\n",
    "        temp_crn.append(new)\n",
    "    temp_crn=[float(x) for x in temp_crn]\n",
    "    temp_crn=temp_crn[2124:2149]\n",
    "    print(temp_crn)\n",
    "    #print(len(temp_crn))\n",
    "    # print(temp_crn[2124])"
   ]
  },
  {
   "cell_type": "code",
   "execution_count": 41,
   "id": "80548ed7",
   "metadata": {},
   "outputs": [
    {
     "name": "stdout",
     "output_type": "stream",
     "text": [
      "25\n"
     ]
    }
   ],
   "source": [
    "hour=[]\n",
    "for i in range(-12,13,1):\n",
    "    hour.append(i)\n",
    "    i+=1\n",
    "print(len(hour))"
   ]
  },
  {
   "cell_type": "code",
   "execution_count": 42,
   "id": "e426b6a3",
   "metadata": {},
   "outputs": [
    {
     "name": "stdout",
     "output_type": "stream",
     "text": [
      "[0.11000000000000121, -0.7799999999999994, 0.5, 3.6799999999999997, 3.6700000000000017, 1.320000000000002, 3.459999999999999, 2.619999999999999, 3.209999999999999, -0.16000000000000014, 0.9800000000000004, 0.8099899999999991, 1.2299999999999995, 0.9900000000000002, 0.47999999999999954, 0.4800000000000004, 0.36001999999999956, -0.09999000000000002, 0.3900100000000002, 0.43999999999999995, -0.019989999999999952, -0.6400000000000001, -0.59998, -1.07999, -1.17999]\n"
     ]
    }
   ],
   "source": [
    "difference2_sal = []\n",
    "\n",
    "zip_object = zip(temp, temp_crn)\n",
    "for temp_i, temp_crn_i in zip_object:\n",
    "    difference2_sal.append(temp_i-temp_crn_i)\n",
    "\n",
    "print(difference2_sal)"
   ]
  },
  {
   "cell_type": "markdown",
   "id": "e17a19ca",
   "metadata": {},
   "source": [
    "<font size=\"3\">Batesville, AR: 1300 UTC 30 March 2022-1300 UTC 31 March 2022</font>"
   ]
  },
  {
   "cell_type": "code",
   "execution_count": 43,
   "id": "abddd912",
   "metadata": {},
   "outputs": [
    {
     "name": "stdout",
     "output_type": "stream",
     "text": [
      "[17.74, 18.94, 18.21, 18.18, 18.64, 17.6, 19.09, 19.55, 17.2, 17.16, 16.83, 13.51, 11.35, 8.84, 7.60001, 7.25, 6.25, 6.07001, 5.03, 4.48001, 4.01001, 3.23001, 2.77002, 3.24002, 4.04001]\n"
     ]
    }
   ],
   "source": [
    "#18 hr hrrr:\n",
    "with open('hrrr_f18_Batesville_AR.txt') as f:\n",
    "    lst=[line.split()[4] for line in f]\n",
    "    temp=[]\n",
    "    for i in lst:\n",
    "        new=i.replace(',',\"\")\n",
    "        temp.append(new)\n",
    "    temp.pop(0)\n",
    "    temp=[float(x) for x in temp]\n",
    "    #print(temp.index(6.91541))\n",
    "    temp=temp[2107:2132]\n",
    "    print(temp)\n",
    "    #print(len(temp))\n",
    "#full time period is [2015:2112]"
   ]
  },
  {
   "cell_type": "code",
   "execution_count": 44,
   "id": "2dcc93c0",
   "metadata": {},
   "outputs": [
    {
     "name": "stdout",
     "output_type": "stream",
     "text": [
      "[17.1, 17.2, 17.3, 17.4, 17.1, 17.1, 15.9, 15.9, 14.4, 14.8, 16.5, 14.8, 11.4, 8.7, 7.8, 7.2, 6.1, 6.2, 5.6, 4.8, 4.6, 4.9, 3.0, 0.9, 2.9]\n"
     ]
    }
   ],
   "source": [
    "#Air Temp CRN:\n",
    "with open('CRNH0203-2022-AR_Batesville_8_WNW.txt') as f:\n",
    "    lst=[line.split()[20] for line in f]\n",
    "    #print(lst)\n",
    "    temp_crn=[]\n",
    "    for i in lst:\n",
    "        new=i.replace(',',\"\")\n",
    "        temp_crn.append(new)\n",
    "    temp_crn=[float(x) for x in temp_crn]\n",
    "    temp_crn=temp_crn[2124:2149]\n",
    "    print(temp_crn)\n",
    "    #print(len(temp_crn))\n",
    "    # print(temp_crn[2124])"
   ]
  },
  {
   "cell_type": "code",
   "execution_count": 45,
   "id": "12f91aa0",
   "metadata": {},
   "outputs": [
    {
     "name": "stdout",
     "output_type": "stream",
     "text": [
      "[0.639999999999997, 1.740000000000002, 0.9100000000000001, 0.7800000000000011, 1.5399999999999991, 0.5, 3.1899999999999995, 3.6500000000000004, 2.799999999999999, 2.3599999999999994, 0.3299999999999983, -1.290000000000001, -0.05000000000000071, 0.14000000000000057, -0.19998999999999967, 0.04999999999999982, 0.15000000000000036, -0.12999000000000027, -0.5699999999999994, -0.3199899999999998, -0.5899899999999993, -1.6699900000000003, -0.22997999999999985, 2.34002, 1.1400099999999997]\n"
     ]
    }
   ],
   "source": [
    "difference2_bat = []\n",
    "\n",
    "zip_object = zip(temp, temp_crn)\n",
    "for temp_i, temp_crn_i in zip_object:\n",
    "    difference2_bat.append(temp_i-temp_crn_i)\n",
    "\n",
    "print(difference2_bat)"
   ]
  },
  {
   "cell_type": "markdown",
   "id": "0b95ca71",
   "metadata": {},
   "source": [
    "<font size=\"3\">Lafayette, LA: 1700 UTC 30 March 2022-1700 UTC 31 March 2022</font>"
   ]
  },
  {
   "cell_type": "code",
   "execution_count": 46,
   "id": "ee77bc4f",
   "metadata": {},
   "outputs": [
    {
     "name": "stdout",
     "output_type": "stream",
     "text": [
      "[27.8, 25.83, 24.62, 25.08, 22.09, 23.29, 22.93, 21.49, 19.89, 19.03, 18.61, 17.85, 16.37, 15.45, 15.17, 14.02, 13.15, 11.71, 11.16, 10.06, 11.48, 13.35, 15.73, 19.06, 22.26]\n"
     ]
    }
   ],
   "source": [
    "#18 hr hrrr:\n",
    "with open('hrrr_f18_Lafayette_LA.txt') as f:\n",
    "    lst=[line.split()[4] for line in f]\n",
    "    temp=[]\n",
    "    for i in lst:\n",
    "        new=i.replace(',',\"\")\n",
    "        temp.append(new)\n",
    "    temp.pop(0)\n",
    "    temp=[float(x) for x in temp]\n",
    "    #print(temp.index(6.91541))\n",
    "    temp=temp[2111:2136]\n",
    "    print(temp)\n",
    "    #print(len(temp))\n",
    "#full time period is [2015:2112]"
   ]
  },
  {
   "cell_type": "code",
   "execution_count": 47,
   "id": "16943c4f",
   "metadata": {},
   "outputs": [
    {
     "name": "stdout",
     "output_type": "stream",
     "text": [
      "[23.3, 24.9, 24.9, 24.3, 23.6, 19.3, 17.6, 17.9, 14.3, 12.4, 12.2, 13.0, 12.6, 14.4, 13.6, 12.3, 11.5, 9.4, 7.2, 6.5, 7.9, 12.5, 15.6, 20.0, 24.2]\n"
     ]
    }
   ],
   "source": [
    "#Air Temp CRN:\n",
    "with open('CRNH0203-2022-LA_Lafayette_13_SE.txt') as f:\n",
    "    lst=[line.split()[20] for line in f]\n",
    "    #print(lst)\n",
    "    temp_crn=[]\n",
    "    for i in lst:\n",
    "        new=i.replace(',',\"\")\n",
    "        temp_crn.append(new)\n",
    "    temp_crn=[float(x) for x in temp_crn]\n",
    "    temp_crn=temp_crn[2128:2153]\n",
    "    print(temp_crn)\n",
    "    #print(len(temp_crn))\n",
    "    # print(temp_crn[2124])"
   ]
  },
  {
   "cell_type": "code",
   "execution_count": 48,
   "id": "ad9e49f7",
   "metadata": {},
   "outputs": [
    {
     "name": "stdout",
     "output_type": "stream",
     "text": [
      "[4.5, 0.9299999999999997, -0.2799999999999976, 0.7799999999999976, -1.5100000000000016, 3.9899999999999984, 5.329999999999998, 3.59, 5.59, 6.630000000000001, 6.41, 4.850000000000001, 3.7700000000000014, 1.049999999999999, 1.5700000000000003, 1.7199999999999989, 1.6500000000000004, 2.3100000000000005, 3.96, 3.5600000000000005, 3.58, 0.8499999999999996, 0.13000000000000078, -0.9400000000000013, -1.9399999999999977]\n"
     ]
    }
   ],
   "source": [
    "difference2_laf = []\n",
    "\n",
    "zip_object = zip(temp, temp_crn)\n",
    "for temp_i, temp_crn_i in zip_object:\n",
    "    difference2_laf.append(temp_i-temp_crn_i)\n",
    "\n",
    "print(difference2_laf)"
   ]
  },
  {
   "cell_type": "markdown",
   "id": "5bdd017c",
   "metadata": {},
   "source": [
    "<font size=\"3\">Monroe, LA: 1700 UTC 30 March 2022-1700 UTC 31 March 2022</font>"
   ]
  },
  {
   "cell_type": "code",
   "execution_count": 49,
   "id": "45a5efcd",
   "metadata": {},
   "outputs": [
    {
     "name": "stdout",
     "output_type": "stream",
     "text": [
      "[21.62, 16.47, 17.08, 17.69, 18.03, 19.89, 19.58, 17.75, 15.5, 13.47, 11.93, 11.05, 9.55002, 10.58, 10.19, 8.45001, 7.95001, 7.28, 6.88, 6.77002, 7.79001, 10.11, 12.54, 14.18, 15.57]\n"
     ]
    }
   ],
   "source": [
    "#18 hr hrrr:\n",
    "with open('hrrr_f18_Monroe_LA.txt') as f:\n",
    "    lst=[line.split()[4] for line in f]\n",
    "    temp=[]\n",
    "    for i in lst:\n",
    "        new=i.replace(',',\"\")\n",
    "        temp.append(new)\n",
    "    temp.pop(0)\n",
    "    temp=[float(x) for x in temp]\n",
    "    #print(temp.index(6.91541))\n",
    "    temp=temp[2111:2136]\n",
    "    print(temp)\n",
    "    #print(len(temp))\n",
    "#full time period is [2015:2112]"
   ]
  },
  {
   "cell_type": "code",
   "execution_count": 50,
   "id": "4d3f3d6e",
   "metadata": {},
   "outputs": [
    {
     "name": "stdout",
     "output_type": "stream",
     "text": [
      "[20.5, 20.2, 18.3, 16.2, 16.6, 18.0, 18.0, 16.5, 15.7, 15.1, 13.3, 12.7, 11.1, 9.2, 7.9, 8.8, 8.2, 5.6, 4.7, 4.0, 4.5, 9.7, 13.0, 16.1, 18.8]\n"
     ]
    }
   ],
   "source": [
    "#Air Temp CRN:\n",
    "with open('CRNH0203-2022-LA_Monroe_26_N.txt') as f:\n",
    "    lst=[line.split()[20] for line in f]\n",
    "    #print(lst)\n",
    "    temp_crn=[]\n",
    "    for i in lst:\n",
    "        new=i.replace(',',\"\")\n",
    "        temp_crn.append(new)\n",
    "    temp_crn=[float(x) for x in temp_crn]\n",
    "    temp_crn=temp_crn[2128:2153]\n",
    "    print(temp_crn)\n",
    "    #print(len(temp_crn))\n",
    "    # print(temp_crn[2124])"
   ]
  },
  {
   "cell_type": "code",
   "execution_count": 51,
   "id": "178b8e52",
   "metadata": {},
   "outputs": [
    {
     "name": "stdout",
     "output_type": "stream",
     "text": [
      "[1.120000000000001, -3.7300000000000004, -1.2200000000000024, 1.490000000000002, 1.4299999999999997, 1.8900000000000006, 1.5799999999999983, 1.25, -0.1999999999999993, -1.629999999999999, -1.370000000000001, -1.6499999999999986, -1.5499799999999997, 1.3800000000000008, 2.289999999999999, -0.34999, -0.2499899999999995, 1.6800000000000006, 2.1799999999999997, 2.7700199999999997, 3.2900099999999997, 0.41000000000000014, -0.46000000000000085, -1.9200000000000017, -3.2300000000000004]\n"
     ]
    }
   ],
   "source": [
    "difference2_mon = []\n",
    "\n",
    "zip_object = zip(temp, temp_crn)\n",
    "for temp_i, temp_crn_i in zip_object:\n",
    "    difference2_mon.append(temp_i-temp_crn_i)\n",
    "\n",
    "print(difference2_mon)"
   ]
  },
  {
   "cell_type": "markdown",
   "id": "3e401515",
   "metadata": {},
   "source": [
    "<font size=\"3\">Holly Springs, MS: 2000 UTC 30 March 2022-2000 UTC 31 March 2022</font>"
   ]
  },
  {
   "cell_type": "code",
   "execution_count": 52,
   "id": "a7c0b3e3",
   "metadata": {},
   "outputs": [
    {
     "name": "stdout",
     "output_type": "stream",
     "text": [
      "[23.89, 20.75, 20.09, 15.99, 15.73, 15.45, 14.8, 14.62, 13.9, 11.55, 11.68, 10.76, 9.56, 7.92999, 6.61002, 6.70001, 5.83002, 6.01001, 7.44, 8.36002, 10.25, 11.75, 11.64, 12.21, 11.28]\n"
     ]
    }
   ],
   "source": [
    "#18 hr hrrr:\n",
    "with open('hrrr_f18_Holly Springs_MS.txt') as f:\n",
    "    lst=[line.split()[4] for line in f]\n",
    "    temp=[]\n",
    "    for i in lst:\n",
    "        new=i.replace(',',\"\")\n",
    "        temp.append(new)\n",
    "    temp.pop(0)\n",
    "    temp=[float(x) for x in temp]\n",
    "    #print(temp.index(6.91541))\n",
    "    temp=temp[2114:2139]\n",
    "    print(temp)\n",
    "    #print(len(temp))\n",
    "#full time period is [2015:2112]"
   ]
  },
  {
   "cell_type": "code",
   "execution_count": 53,
   "id": "cc96dac3",
   "metadata": {},
   "outputs": [
    {
     "name": "stdout",
     "output_type": "stream",
     "text": [
      "[20.2, 18.6, 18.3, 17.4, 14.8, 14.7, 13.9, 14.0, 13.7, 14.2, 12.7, 11.5, 10.5, 9.3, 8.4, 8.1, 8.0, 7.9, 8.9, 12.1, 15.7, 18.5, 21.1, 20.4, 21.4]\n"
     ]
    }
   ],
   "source": [
    "#Air Temp CRN:\n",
    "with open('CRNH0203-2022-MS_Holly_Springs_4_N.txt') as f:\n",
    "    lst=[line.split()[20] for line in f]\n",
    "    #print(lst)\n",
    "    temp_crn=[]\n",
    "    for i in lst:\n",
    "        new=i.replace(',',\"\")\n",
    "        temp_crn.append(new)\n",
    "    temp_crn=[float(x) for x in temp_crn]\n",
    "    temp_crn=temp_crn[2131:2156]\n",
    "    print(temp_crn)\n",
    "    #print(len(temp_crn))\n",
    "    # print(temp_crn[2124])"
   ]
  },
  {
   "cell_type": "code",
   "execution_count": 54,
   "id": "b348cd62",
   "metadata": {},
   "outputs": [
    {
     "name": "stdout",
     "output_type": "stream",
     "text": [
      "[3.6900000000000013, 2.1499999999999986, 1.7899999999999991, -1.4099999999999984, 0.9299999999999997, 0.75, 0.9000000000000004, 0.6199999999999992, 0.20000000000000107, -2.6499999999999986, -1.0199999999999996, -0.7400000000000002, -0.9399999999999995, -1.3700100000000006, -1.7899800000000008, -1.3999899999999998, -2.16998, -1.88999, -1.46, -3.739979999999999, -5.449999999999999, -6.75, -9.46, -8.189999999999998, -10.12]\n"
     ]
    }
   ],
   "source": [
    "difference2_hol = []\n",
    "\n",
    "zip_object = zip(temp, temp_crn)\n",
    "for temp_i, temp_crn_i in zip_object:\n",
    "    difference2_hol.append(temp_i-temp_crn_i)\n",
    "\n",
    "print(difference2_hol)"
   ]
  },
  {
   "cell_type": "markdown",
   "id": "b5225197",
   "metadata": {},
   "source": [
    "<font size=\"3\">Newton, MS: 2000 UTC 30 March 2022-2000 UTC 31 March 2022</font>"
   ]
  },
  {
   "cell_type": "code",
   "execution_count": 55,
   "id": "91b776a1",
   "metadata": {},
   "outputs": [
    {
     "name": "stdout",
     "output_type": "stream",
     "text": [
      "[28.61, 26.26, 25.66, 21.53, 20.67, 18.07, 16.8, 16.67, 15.83, 16.57, 16.22, 16.2, 14.52, 11.97, 11.51, 11.43, 10.73, 10.22, 10.2, 11.73, 14.09, 16.03, 17.67, 19.44, 19.89]\n"
     ]
    }
   ],
   "source": [
    "#18 hr hrrr:\n",
    "with open('hrrr_f18_Newton_MS.txt') as f:\n",
    "    lst=[line.split()[4] for line in f]\n",
    "    temp=[]\n",
    "    for i in lst:\n",
    "        new=i.replace(',',\"\")\n",
    "        temp.append(new)\n",
    "    temp.pop(0)\n",
    "    temp=[float(x) for x in temp]\n",
    "    #print(temp.index(6.91541))\n",
    "    temp=temp[2114:2139]\n",
    "    print(temp)\n",
    "    #print(len(temp))\n",
    "#full time period is [2015:2112]"
   ]
  },
  {
   "cell_type": "code",
   "execution_count": 56,
   "id": "b4fea934",
   "metadata": {},
   "outputs": [
    {
     "name": "stdout",
     "output_type": "stream",
     "text": [
      "[24.5, 23.5, 23.0, 21.6, 20.1, 17.7, 15.6, 15.1, 14.3, 12.6, 12.0, 12.0, 12.7, 13.1, 11.6, 10.5, 10.3, 10.7, 11.5, 13.9, 18.8, 22.3, 24.7, 25.5, 26.4]\n"
     ]
    }
   ],
   "source": [
    "#Air Temp CRN:\n",
    "with open('CRNH0203-2022-MS_Newton_5_ENE.txt') as f:\n",
    "    lst=[line.split()[20] for line in f]\n",
    "    #print(lst)\n",
    "    temp_crn=[]\n",
    "    for i in lst:\n",
    "        new=i.replace(',',\"\")\n",
    "        temp_crn.append(new)\n",
    "    temp_crn=[float(x) for x in temp_crn]\n",
    "    temp_crn=temp_crn[2131:2156]\n",
    "    print(temp_crn)\n",
    "    #print(len(temp_crn))\n",
    "    # print(temp_crn[2124])"
   ]
  },
  {
   "cell_type": "code",
   "execution_count": 57,
   "id": "cd6de2b7",
   "metadata": {},
   "outputs": [
    {
     "name": "stdout",
     "output_type": "stream",
     "text": [
      "[4.109999999999999, 2.7600000000000016, 2.66, -0.07000000000000028, 0.5700000000000003, 0.370000000000001, 1.200000000000001, 1.570000000000002, 1.5299999999999994, 3.9700000000000006, 4.219999999999999, 4.199999999999999, 1.8200000000000003, -1.129999999999999, -0.08999999999999986, 0.9299999999999997, 0.4299999999999997, -0.47999999999999865, -1.3000000000000007, -2.17, -4.710000000000001, -6.27, -7.029999999999998, -6.059999999999999, -6.509999999999998]\n"
     ]
    }
   ],
   "source": [
    "difference2_new = []\n",
    "\n",
    "zip_object = zip(temp, temp_crn)\n",
    "for temp_i, temp_crn_i in zip_object:\n",
    "    difference2_new.append(temp_i-temp_crn_i)\n",
    "\n",
    "print(difference2_new)"
   ]
  },
  {
   "cell_type": "markdown",
   "id": "bfaeb78c",
   "metadata": {},
   "source": [
    "<font size=\"3\">Gainesville, AL: 2300 UTC 30 March 2022-2300 UTC 31 March 2022</font>"
   ]
  },
  {
   "cell_type": "code",
   "execution_count": 58,
   "id": "15b5ce43",
   "metadata": {},
   "outputs": [],
   "source": [
    "# #18 hr hrrr:\n",
    "# with open('hrrr_f18_Gainesville_AL (1).txt') as f:\n",
    "#     lst=[line.split()[4] for line in f]\n",
    "#     temp=[]\n",
    "#     for i in lst:\n",
    "#         new=i.replace(',',\"\")\n",
    "#         temp.append(new)\n",
    "#     temp.pop(0)\n",
    "#     temp=[float(x) for x in temp]\n",
    "#     #print(temp.index(6.91541))\n",
    "#     temp=temp[2117:2142]\n",
    "#     print(temp)\n",
    "#     #print(len(temp))\n",
    "# #full time period is [2015:2112]"
   ]
  },
  {
   "cell_type": "code",
   "execution_count": 59,
   "id": "1fd4e19a",
   "metadata": {},
   "outputs": [],
   "source": [
    "# #Air Temp CRN:\n",
    "# with open('CRNH0203-2022-AL_Gainesville_2_NE.txt') as f:\n",
    "#     lst=[line.split()[20] for line in f]\n",
    "#     #print(lst)\n",
    "#     temp_crn=[]\n",
    "#     for i in lst:\n",
    "#         new=i.replace(',',\"\")\n",
    "#         temp_crn.append(new)\n",
    "#     temp_crn=[float(x) for x in temp_crn]\n",
    "#     temp_crn=temp_crn[2134:2159]\n",
    "#     print(temp_crn)\n",
    "#     #print(len(temp_crn))\n",
    "#     # print(temp_crn[2124])"
   ]
  },
  {
   "cell_type": "code",
   "execution_count": 60,
   "id": "82a257d7",
   "metadata": {},
   "outputs": [],
   "source": [
    "# difference2_gai = []\n",
    "\n",
    "# zip_object = zip(temp, temp_crn)\n",
    "# for temp_i, temp_crn_i in zip_object:\n",
    "#     difference2_gai.append(temp_i-temp_crn_i)\n",
    "\n",
    "# print(difference2_gai)"
   ]
  },
  {
   "cell_type": "markdown",
   "id": "0917b86d",
   "metadata": {},
   "source": [
    "<font size=\"3\">Fairhope, AL: 0100 UTC 31 March 2022-0100 UTC 1 April 2022</font>"
   ]
  },
  {
   "cell_type": "code",
   "execution_count": 61,
   "id": "f3ed96f4",
   "metadata": {},
   "outputs": [
    {
     "name": "stdout",
     "output_type": "stream",
     "text": [
      "[22.96, 23.12, 22.29, 22.67, 22.97, 22.26, 16.22, 16.95, 16.91, 17.87, 16.96, 16.99, 17.44, 18.56, 20.2, 20.38, 21.84, 24.57, 22.26, 22.37, 21.27, 21.05, 22.31, 19.62, 17.91]\n"
     ]
    }
   ],
   "source": [
    "#18 hr hrrr:\n",
    "with open('hrrr_f18_Fairhope_AL.txt') as f:\n",
    "    lst=[line.split()[4] for line in f]\n",
    "    temp=[]\n",
    "    for i in lst:\n",
    "        new=i.replace(',',\"\")\n",
    "        temp.append(new)\n",
    "    temp.pop(0)\n",
    "    temp=[float(x) for x in temp]\n",
    "    #print(temp.index(6.91541))\n",
    "    temp=temp[2119:2144]\n",
    "    print(temp)\n",
    "    #print(len(temp))\n",
    "#full time period is [2015:2112]"
   ]
  },
  {
   "cell_type": "code",
   "execution_count": 62,
   "id": "96fb5481",
   "metadata": {},
   "outputs": [
    {
     "name": "stdout",
     "output_type": "stream",
     "text": [
      "[22.7, 22.4, 22.1, 21.6, 20.0, 16.9, 16.6, 16.7, 16.6, 16.8, 16.7, 16.2, 17.3, 18.3, 21.6, 25.2, 27.9, 29.7, 30.9, 30.4, 29.0, 26.9, 23.0, 18.2, 13.2]\n"
     ]
    }
   ],
   "source": [
    "#Air Temp CRN:\n",
    "with open('CRNH0203-2022-AL_Fairhope_3_NE.txt') as f:\n",
    "    lst=[line.split()[20] for line in f]\n",
    "    #print(lst)\n",
    "    temp_crn=[]\n",
    "    for i in lst:\n",
    "        new=i.replace(',',\"\")\n",
    "        temp_crn.append(new)\n",
    "    temp_crn=[float(x) for x in temp_crn]\n",
    "    temp_crn=temp_crn[2136:2161]\n",
    "    print(temp_crn)\n",
    "    #print(len(temp_crn))\n",
    "    # print(temp_crn[2124])"
   ]
  },
  {
   "cell_type": "code",
   "execution_count": 63,
   "id": "f15c30e0",
   "metadata": {},
   "outputs": [
    {
     "name": "stdout",
     "output_type": "stream",
     "text": [
      "[0.26000000000000156, 0.7200000000000024, 0.18999999999999773, 1.0700000000000003, 2.969999999999999, 5.360000000000003, -0.38000000000000256, 0.25, 0.3099999999999987, 1.0700000000000003, 0.26000000000000156, 0.7899999999999991, 0.14000000000000057, 0.259999999999998, -1.4000000000000021, -4.82, -6.059999999999999, -5.129999999999999, -8.639999999999997, -8.029999999999998, -7.73, -5.849999999999998, -0.6900000000000013, 1.4200000000000017, 4.710000000000001]\n"
     ]
    }
   ],
   "source": [
    "difference2_fai = []\n",
    "\n",
    "zip_object = zip(temp, temp_crn)\n",
    "for temp_i, temp_crn_i in zip_object:\n",
    "    difference2_fai.append(temp_i-temp_crn_i)\n",
    "\n",
    "print(difference2_fai)"
   ]
  },
  {
   "cell_type": "markdown",
   "id": "e9530edf",
   "metadata": {},
   "source": [
    "<font size=\"3\">**Selma, AL: 0100 UTC 31 March 2022-0100 UTC 1 April 2022</font>"
   ]
  },
  {
   "cell_type": "code",
   "execution_count": 64,
   "id": "15e7e080",
   "metadata": {},
   "outputs": [
    {
     "name": "stdout",
     "output_type": "stream",
     "text": [
      "[22.98, 22.36, 22.14, 20.72, 15.79, 15.27, 16.24, 15.36, 15.49, 14.83, 15.31, 14.85, 14.83, 15.46, 17.21, 16.22, 17.68, 16.56, 17.77, 18.19, 18.27, 16.53, 15.47, 13.78, 12.55]\n",
      "25\n",
      "[22.9, 22.0, 19.8, 19.7, 18.3, 17.6, 16.6, 16.3, 15.8, 15.3, 15.5, 15.3, 15.2, 14.4, 16.4, 19.9, 21.8, 23.1, 24.2, 25.0, 25.0, 23.8, 21.5, 18.5, 14.7]\n",
      "25\n",
      "[0.08000000000000185, 0.35999999999999943, 2.34, 1.0199999999999996, -2.5100000000000016, -2.330000000000002, -0.360000000000003, -0.9400000000000013, -0.3100000000000005, -0.47000000000000064, -0.1899999999999995, -0.45000000000000107, -0.3699999999999992, 1.0600000000000005, 0.8100000000000023, -3.6799999999999997, -4.120000000000001, -6.540000000000003, -6.43, -6.809999999999999, -6.73, -7.27, -6.029999999999999, -4.720000000000001, -2.1499999999999986]\n",
      "25\n"
     ]
    }
   ],
   "source": [
    "#18 hr hrrr:\n",
    "with open('hrrr_f18_Selma_AL.txt') as f:\n",
    "    lst=[line.split()[4] for line in f]\n",
    "    temp=[]\n",
    "    for i in lst:\n",
    "        new=i.replace(',',\"\")\n",
    "        temp.append(new)\n",
    "    temp.pop(0)\n",
    "    temp=[float(x) for x in temp]\n",
    "    #print(temp.index(6.91541))\n",
    "    temp=temp[2119:2144]\n",
    "#Air Temp CRN:\n",
    "with open('CRNH0203-2022-AL_Selma_13_WNW.txt') as f:\n",
    "    lst=[line.split()[20] for line in f]\n",
    "    #print(lst)\n",
    "    temp_crn=[]\n",
    "    for i in lst:\n",
    "        new=i.replace(',',\"\")\n",
    "        temp_crn.append(new)\n",
    "    temp_crn=[float(x) for x in temp_crn]\n",
    "    temp_crn=temp_crn[2136:2161]\n",
    "\n",
    "    print(temp)\n",
    "    print(len(temp))\n",
    "    print(temp_crn)\n",
    "    print(len(temp_crn))\n",
    "#full time period is [2015:2112]\n",
    "difference2_sel = []\n",
    "\n",
    "zip_object = zip(temp, temp_crn)\n",
    "for temp_i, temp_crn_i in zip_object:\n",
    "    difference2_sel.append(temp_i-temp_crn_i)\n",
    "\n",
    "print(difference2_sel)\n",
    "print(len(difference2_sel))"
   ]
  },
  {
   "cell_type": "markdown",
   "id": "96c13278",
   "metadata": {},
   "source": [
    "<font size=\"3\">Bowling Green, KY: 0100 UTC 31 March 2022-0100 UTC 1 April 2022</font>"
   ]
  },
  {
   "cell_type": "code",
   "execution_count": 65,
   "id": "20079007",
   "metadata": {},
   "outputs": [
    {
     "name": "stdout",
     "output_type": "stream",
     "text": [
      "[21.07 17.19 16.77 15.48 13.96 14.83 -- 13.68 12.89 12.29 10.5 9.45001\n",
      " 8.70999 7.80002 7.48001 7.02002 8.27002 7.20001 7.83002 7.17001 6.89001\n",
      " 7.80002 6.38 5.64999 5.41]\n"
     ]
    }
   ],
   "source": [
    "#18 hr hrrr:\n",
    "with open('hrrr_f18_Bowling Green_KY.txt') as f:\n",
    "    lst=[line.split()[4] for line in f]\n",
    "    temp=[]\n",
    "    for i in lst:\n",
    "        new=i.replace(',',\"\")\n",
    "        temp.append(new)\n",
    "    temp.pop(0)\n",
    "    temp=[float(x) for x in temp]\n",
    "    #print(temp.index(6.91541))\n",
    "    temp=temp[2119:2144]\n",
    "    x = np.array(temp)\n",
    "    temp= ma.masked_array(x, mask=[0, 0, 0, 0, 0,0,1,0,0,0,0,0,0,0,0,0,0,0,0,0,0,0,0,0,0])\n",
    "    #temp=temp[2015:2063]\n",
    "    print(temp)\n",
    "    #print(len(temp))\n",
    "#full time period is [2015:2112]"
   ]
  },
  {
   "cell_type": "code",
   "execution_count": 66,
   "id": "60c4e4cc",
   "metadata": {},
   "outputs": [
    {
     "name": "stdout",
     "output_type": "stream",
     "text": [
      "[21.9 18.1 14.9 13.2 13.1 13.6 -- 13.5 13.1 12.9 9.8 8.6 8.5 7.3 7.5 7.8\n",
      " 8.4 8.1 8.1 7.6 8.1 7.5 7.1 6.3 5.4]\n"
     ]
    }
   ],
   "source": [
    "#Air Temp CRN:\n",
    "with open('CRNH0203-2022-KY_Bowling_Green_21_NNE.txt') as f:\n",
    "    lst=[line.split()[20] for line in f]\n",
    "    #print(lst)\n",
    "    temp_crn=[]\n",
    "    for i in lst:\n",
    "        new=i.replace(',',\"\")\n",
    "        temp_crn.append(new)\n",
    "    temp_crn=[float(x) for x in temp_crn]\n",
    "    temp_crn=temp_crn[2136:2161]\n",
    "    y = np.array(temp_crn)\n",
    "    temp_crn = ma.masked_array(y, mask=[0, 0, 0, 0, 0,0,1,0,0,0,0,0,0,0,0,0,0,0,0,0,0,0,0,0,0])\n",
    "    print(temp_crn)\n",
    "    #print(len(temp_crn))\n",
    "    # print(temp_crn[2124])"
   ]
  },
  {
   "cell_type": "code",
   "execution_count": 67,
   "id": "90cedfd2",
   "metadata": {},
   "outputs": [
    {
     "name": "stdout",
     "output_type": "stream",
     "text": [
      "[-0.8299999999999983, -0.9100000000000001, 1.8699999999999992, 2.280000000000001, 0.8600000000000012, 1.2300000000000004, masked, 0.17999999999999972, -0.20999999999999908, -0.6100000000000012, 0.6999999999999993, 0.850010000000001, 0.20998999999999945, 0.5000200000000001, -0.019989999999999952, -0.7799800000000001, -0.12997999999999976, -0.8999899999999998, -0.26997999999999944, -0.4299899999999992, -1.2099899999999995, 0.30001999999999995, -0.7199999999999998, -0.65001, 0.009999999999999787]\n"
     ]
    }
   ],
   "source": [
    "difference2_bow = []\n",
    "\n",
    "zip_object = zip(temp, temp_crn)\n",
    "for temp_i, temp_crn_i in zip_object:\n",
    "    difference2_bow.append(temp_i-temp_crn_i)\n",
    "\n",
    "print(difference2_bow)"
   ]
  },
  {
   "cell_type": "code",
   "execution_count": 68,
   "id": "47fff0d0",
   "metadata": {},
   "outputs": [],
   "source": [
    "# temp[6]=0\n",
    "# temp_crn[6]=0\n",
    "# difference2_bow[6]=0\n",
    "\n",
    "# print(temp)\n",
    "# print(temp_crn)\n",
    "# print(difference2_bow)"
   ]
  },
  {
   "cell_type": "markdown",
   "id": "770eb1f1",
   "metadata": {},
   "source": [
    "<font size=\"3\">Gadsden, AL: 0200 UTC 31 March 2022-0200 UTC 1 April 2022</font>"
   ]
  },
  {
   "cell_type": "code",
   "execution_count": 69,
   "id": "ae0b44e9",
   "metadata": {},
   "outputs": [
    {
     "name": "stdout",
     "output_type": "stream",
     "text": [
      "[20.42, 18.61, 15.8, 14.33, 14.81, 14.78, 13.59, 13.58, 13.81, 14.48, 14.48, 14.21, 13.61, 13.61, 15.32, 14.82, 11.51, 13.27, 15.33, 14.68, 13.01, 11.31, 9.95999, 9.06, 8.31]\n"
     ]
    }
   ],
   "source": [
    "#18 hr hrrr:\n",
    "with open('hrrr_f18_Gadsden_AL.txt') as f:\n",
    "    lst=[line.split()[4] for line in f]\n",
    "    temp=[]\n",
    "    for i in lst:\n",
    "        new=i.replace(',',\"\")\n",
    "        temp.append(new)\n",
    "    temp.pop(0)\n",
    "    temp=[float(x) for x in temp]\n",
    "    #print(temp.index(6.91541))\n",
    "    temp=temp[2120:2145]\n",
    "    print(temp)\n",
    "    #print(len(temp))\n",
    "#full time period is [2015:2112]"
   ]
  },
  {
   "cell_type": "code",
   "execution_count": 70,
   "id": "c0d02698",
   "metadata": {},
   "outputs": [
    {
     "name": "stdout",
     "output_type": "stream",
     "text": [
      "[20.3, 18.8, 16.3, 15.8, 14.8, 14.6, 15.2, 15.0, 13.7, 13.7, 13.4, 14.0, 14.9, 15.2, 14.5, 14.4, 16.5, 18.7, 17.9, 18.6, 17.4, 14.9, 12.4, 9.3, 7.9]\n"
     ]
    }
   ],
   "source": [
    "#Air Temp CRN:\n",
    "with open('CRNH0203-2022-AL_Gadsden_19_N.txt') as f:\n",
    "    lst=[line.split()[20] for line in f]\n",
    "    #print(lst)\n",
    "    temp_crn=[]\n",
    "    for i in lst:\n",
    "        new=i.replace(',',\"\")\n",
    "        temp_crn.append(new)\n",
    "    temp_crn=[float(x) for x in temp_crn]\n",
    "    temp_crn=temp_crn[2137:2162]\n",
    "    print(temp_crn)\n",
    "    #print(len(temp_crn))\n",
    "    # print(temp_crn[2124])"
   ]
  },
  {
   "cell_type": "code",
   "execution_count": 71,
   "id": "d63723fd",
   "metadata": {},
   "outputs": [
    {
     "name": "stdout",
     "output_type": "stream",
     "text": [
      "[0.120000000000001, -0.19000000000000128, -0.5, -1.4700000000000006, 0.009999999999999787, 0.17999999999999972, -1.6099999999999994, -1.42, 0.11000000000000121, 0.7800000000000011, 1.08, 0.21000000000000085, -1.290000000000001, -1.5899999999999999, 0.8200000000000003, 0.41999999999999993, -4.99, -5.43, -2.5699999999999985, -3.9200000000000017, -4.389999999999999, -3.59, -2.440010000000001, -0.2400000000000002, 0.41000000000000014]\n"
     ]
    }
   ],
   "source": [
    "difference2_gad = []\n",
    "\n",
    "zip_object = zip(temp, temp_crn)\n",
    "for temp_i, temp_crn_i in zip_object:\n",
    "    difference2_gad.append(temp_i-temp_crn_i)\n",
    "\n",
    "print(difference2_gad)"
   ]
  },
  {
   "cell_type": "markdown",
   "id": "cd4a8f77",
   "metadata": {},
   "source": [
    "<font size=\"3\">Newton, GA: 0700 UTC 31 March 2022-0700 UTC 1 April 2022</font>"
   ]
  },
  {
   "cell_type": "code",
   "execution_count": 72,
   "id": "27b76e85",
   "metadata": {},
   "outputs": [
    {
     "name": "stdout",
     "output_type": "stream",
     "text": [
      "[19.79, 19.86, 20.2, 20.42, 20.22, 19.53, 16.56, 18.4, 17.54, 20.33, 24.49, 25.18, 25.74, 25.19, 22.96, 22.6, 20.65, 19.62, 18.79, 18.7, 17.82, 16.68, 15.03, 14.77, 13.76]\n"
     ]
    }
   ],
   "source": [
    "#18 hr hrrr:\n",
    "with open('hrrr_f18_Newton_GA.txt') as f:\n",
    "    lst=[line.split()[4] for line in f]\n",
    "    temp=[]\n",
    "    for i in lst:\n",
    "        new=i.replace(',',\"\")\n",
    "        temp.append(new)\n",
    "    temp.pop(0)\n",
    "    temp=[float(x) for x in temp]\n",
    "    #print(temp.index(6.91541))\n",
    "    temp=temp[2125:2150]\n",
    "    print(temp)\n",
    "    #print(len(temp))\n",
    "#full time period is [2015:2112]"
   ]
  },
  {
   "cell_type": "code",
   "execution_count": 73,
   "id": "1d798d77",
   "metadata": {},
   "outputs": [
    {
     "name": "stdout",
     "output_type": "stream",
     "text": [
      "[19.9, 20.7, 20.9, 20.1, 19.6, 19.9, 18.1, 17.8, 18.4, 19.4, 24.9, 27.3, 28.9, 29.1, 28.0, 26.6, 24.1, 21.0, 18.4, 18.0, 17.5, 16.9, 16.2, 15.6, 15.2]\n"
     ]
    }
   ],
   "source": [
    "#Air Temp CRN:\n",
    "with open('CRNH0203-2022-GA_Newton_11_SW.txt') as f:\n",
    "    lst=[line.split()[20] for line in f]\n",
    "    #print(lst)\n",
    "    temp_crn=[]\n",
    "    for i in lst:\n",
    "        new=i.replace(',',\"\")\n",
    "        temp_crn.append(new)\n",
    "    temp_crn=[float(x) for x in temp_crn]\n",
    "    temp_crn=temp_crn[2142:2167]\n",
    "    print(temp_crn)\n",
    "    #print(len(temp_crn))\n",
    "    # print(temp_crn[2124])"
   ]
  },
  {
   "cell_type": "code",
   "execution_count": 74,
   "id": "4bcfa192",
   "metadata": {},
   "outputs": [
    {
     "name": "stdout",
     "output_type": "stream",
     "text": [
      "[-0.10999999999999943, -0.8399999999999999, -0.6999999999999993, 0.3200000000000003, 0.6199999999999974, -0.36999999999999744, -1.5400000000000027, 0.5999999999999979, -0.8599999999999994, 0.9299999999999997, -0.41000000000000014, -2.120000000000001, -3.16, -3.91, -5.039999999999999, -4.0, -3.450000000000003, -1.379999999999999, 0.39000000000000057, 0.6999999999999993, 0.3200000000000003, -0.21999999999999886, -1.17, -0.8300000000000001, -1.4399999999999995]\n"
     ]
    }
   ],
   "source": [
    "difference2_newt = []\n",
    "\n",
    "zip_object = zip(temp, temp_crn)\n",
    "for temp_i, temp_crn_i in zip_object:\n",
    "    difference2_newt.append(temp_i-temp_crn_i)\n",
    "\n",
    "print(difference2_newt)"
   ]
  },
  {
   "cell_type": "markdown",
   "id": "8148ba77",
   "metadata": {},
   "source": [
    "<font size=\"3\">Salem, MO: 1000 UTC 5 April 2022-1000 UTC 6 April 2022</font>"
   ]
  },
  {
   "cell_type": "code",
   "execution_count": 75,
   "id": "b05154f7",
   "metadata": {},
   "outputs": [
    {
     "name": "stdout",
     "output_type": "stream",
     "text": [
      "[12.25, 12.53, 10.84, 11.43, 11.34, 15.87, 17.74, 20.15, 22.28, 21.32, 22.27, 22.24, 21.46, 21.29, 17.6, 16.63, 16.46, 14.64, 14.96, 14.14, 12.58, 11.06, 8.45999, 6.89999, 7.03]\n"
     ]
    }
   ],
   "source": [
    "#18 hr hrrr:\n",
    "with open('hrrr_f18_Salem_MO.txt') as f:\n",
    "    lst=[line.split()[4] for line in f]\n",
    "    temp=[]\n",
    "    for i in lst:\n",
    "        new=i.replace(',',\"\")\n",
    "        temp.append(new)\n",
    "    temp.pop(0)\n",
    "    temp=[float(x) for x in temp]\n",
    "    #print(temp.index(6.91541))\n",
    "    temp=temp[2248:2273]\n",
    "    print(temp)\n",
    "    #print(len(temp))\n",
    "#full time period is [2015:2112]"
   ]
  },
  {
   "cell_type": "code",
   "execution_count": 76,
   "id": "4616d240",
   "metadata": {},
   "outputs": [
    {
     "name": "stdout",
     "output_type": "stream",
     "text": [
      "[10.3, 10.1, 10.2, 10.1, 10.9, 15.1, 21.3, 27.0, 30.6, 28.8, 24.3, 23.4, 24.1, 22.8, 18.8, 13.8, 9.5, 10.6, 14.0, 13.9, 11.4, 10.8, 10.1, 8.4, 7.4]\n"
     ]
    }
   ],
   "source": [
    "#Air Temp CRN:\n",
    "with open('CRNH0203-2022-MO_Salem_10_W.txt') as f:\n",
    "    lst=[line.split()[20] for line in f]\n",
    "    #print(lst)\n",
    "    temp_crn=[]\n",
    "    for i in lst:\n",
    "        new=i.replace(',',\"\")\n",
    "        temp_crn.append(new)\n",
    "    temp_crn=[float(x) for x in temp_crn]\n",
    "    temp_crn=temp_crn[2265:2290]\n",
    "    print(temp_crn)\n",
    "    #print(len(temp_crn))\n",
    "    # print(temp_crn[2124])"
   ]
  },
  {
   "cell_type": "code",
   "execution_count": 77,
   "id": "b6a1a5d3",
   "metadata": {},
   "outputs": [
    {
     "name": "stdout",
     "output_type": "stream",
     "text": [
      "25\n"
     ]
    }
   ],
   "source": [
    "hour=[]\n",
    "for i in range(-12,13,1):\n",
    "    hour.append(i)\n",
    "    i+=1\n",
    "print(len(hour))"
   ]
  },
  {
   "cell_type": "code",
   "execution_count": 78,
   "id": "d9f71702",
   "metadata": {},
   "outputs": [
    {
     "name": "stdout",
     "output_type": "stream",
     "text": [
      "[1.9499999999999993, 2.4299999999999997, 0.6400000000000006, 1.33, 0.4399999999999995, 0.7699999999999996, -3.5600000000000023, -6.850000000000001, -8.32, -7.48, -2.030000000000001, -1.1600000000000001, -2.6400000000000006, -1.5100000000000016, -1.1999999999999993, 2.8299999999999983, 6.960000000000001, 4.040000000000001, 0.9600000000000009, 0.2400000000000002, 1.1799999999999997, 0.2599999999999998, -1.6400100000000002, -1.5000100000000005, -0.3700000000000001]\n"
     ]
    }
   ],
   "source": [
    "difference3_sal = []\n",
    "\n",
    "zip_object = zip(temp, temp_crn)\n",
    "for temp_i, temp_crn_i in zip_object:\n",
    "    difference3_sal.append(temp_i-temp_crn_i)\n",
    "\n",
    "print(difference3_sal)"
   ]
  },
  {
   "cell_type": "markdown",
   "id": "cc4a44b1",
   "metadata": {},
   "source": [
    "<font size=\"3\">Batesville, AR: 1000 UTC 5 April 2022-1000 UTC 6 April 2022</font>"
   ]
  },
  {
   "cell_type": "code",
   "execution_count": 79,
   "id": "a85c830d",
   "metadata": {},
   "outputs": [
    {
     "name": "stdout",
     "output_type": "stream",
     "text": [
      "[12.7, 12.55, 12.26, 13.05, 13.73, 19.07, 19.98, 22.5, 23.4, 25.4, 24.44, 21.96, 22.06, 21.35, 18.64, 16.28, 15.49, 14.52, 14.1, 14.37, 15.52, 14.39, 14.85, 11.94, 11.45]\n"
     ]
    }
   ],
   "source": [
    "#18 hr hrrr:\n",
    "with open('hrrr_f18_Batesville_AR.txt') as f:\n",
    "    lst=[line.split()[4] for line in f]\n",
    "    temp=[]\n",
    "    for i in lst:\n",
    "        new=i.replace(',',\"\")\n",
    "        temp.append(new)\n",
    "    temp.pop(0)\n",
    "    temp=[float(x) for x in temp]\n",
    "    #print(temp.index(6.91541))\n",
    "    temp=temp[2248:2273]\n",
    "\n",
    "    print(temp)\n",
    "    #print(len(temp))\n",
    "#full time period is [2015:2112]"
   ]
  },
  {
   "cell_type": "code",
   "execution_count": 80,
   "id": "509d7824",
   "metadata": {},
   "outputs": [
    {
     "name": "stdout",
     "output_type": "stream",
     "text": [
      "[11.2, 11.4, 11.7, 11.5, 12.3, 16.1, 20.9, 22.5, 24.2, 23.7, 23.7, 24.6, 22.4, 21.2, 18.8, 17.1, 16.3, 14.7, 14.4, 13.8, 14.8, 16.5, 16.8, 14.5, 12.2]\n"
     ]
    }
   ],
   "source": [
    "#Air Temp CRN:\n",
    "with open('CRNH0203-2022-AR_Batesville_8_WNW.txt') as f:\n",
    "    lst=[line.split()[20] for line in f]\n",
    "    #print(lst)\n",
    "    temp_crn=[]\n",
    "    for i in lst:\n",
    "        new=i.replace(',',\"\")\n",
    "        temp_crn.append(new)\n",
    "    temp_crn=[float(x) for x in temp_crn]\n",
    "    temp_crn=temp_crn[2265:2290]\n",
    "    print(temp_crn)\n",
    "    #print(len(temp_crn))\n",
    "    # print(temp_crn[2124])"
   ]
  },
  {
   "cell_type": "code",
   "execution_count": 81,
   "id": "c5f712f8",
   "metadata": {},
   "outputs": [
    {
     "name": "stdout",
     "output_type": "stream",
     "text": [
      "[1.5, 1.1500000000000004, 0.5600000000000005, 1.5500000000000007, 1.4299999999999997, 2.969999999999999, -0.9199999999999982, 0.0, -0.8000000000000007, 1.6999999999999993, 0.740000000000002, -2.6400000000000006, -0.33999999999999986, 0.15000000000000213, -0.16000000000000014, -0.8200000000000003, -0.8100000000000005, -0.17999999999999972, -0.3000000000000007, 0.5699999999999985, 0.7199999999999989, -2.1099999999999994, -1.950000000000001, -2.5600000000000005, -0.75]\n"
     ]
    }
   ],
   "source": [
    "difference3_bat = []\n",
    "\n",
    "zip_object = zip(temp, temp_crn)\n",
    "for temp_i, temp_crn_i in zip_object:\n",
    "    difference3_bat.append(temp_i-temp_crn_i)\n",
    "\n",
    "print(difference3_bat)"
   ]
  },
  {
   "cell_type": "markdown",
   "id": "9f92620f",
   "metadata": {},
   "source": [
    "<font size=\"3\">Lafayette, LA: 1000 UTC 5 April 2022-1000 UTC 6 April 2022</font>"
   ]
  },
  {
   "cell_type": "code",
   "execution_count": 82,
   "id": "3253c180",
   "metadata": {},
   "outputs": [
    {
     "name": "stdout",
     "output_type": "stream",
     "text": [
      "[22.24, 21.84, 22.01, 22.24, 24.46, 23.88, 24.05, 23.54, 28.1, 29.01, 35.68, 30.02, 30.0, 27.39, 25.19, 23.32, 21.84, 21.3, 21.16, 21.97, 21.86, 21.19, 22.08, 22.04, 22.09]\n"
     ]
    }
   ],
   "source": [
    "#18 hr hrrr:\n",
    "with open('hrrr_f18_Lafayette_LA.txt') as f:\n",
    "    lst=[line.split()[4] for line in f]\n",
    "    temp=[]\n",
    "    for i in lst:\n",
    "        new=i.replace(',',\"\")\n",
    "        temp.append(new)\n",
    "    temp.pop(0)\n",
    "    temp=[float(x) for x in temp]\n",
    "    #print(temp.index(6.91541))\n",
    "    temp=temp[2248:2273]\n",
    "    print(temp)\n",
    "    #print(len(temp))\n",
    "#full time period is [2015:2112]"
   ]
  },
  {
   "cell_type": "code",
   "execution_count": 83,
   "id": "5a4b31fa",
   "metadata": {},
   "outputs": [
    {
     "name": "stdout",
     "output_type": "stream",
     "text": [
      "[21.9, 22.0, 22.3, 22.2, 22.7, 23.9, 24.3, 26.1, 25.9, 25.7, 25.7, 25.9, 26.7, 25.6, 24.2, 22.2, 22.2, 22.3, 22.5, 22.9, 23.0, 23.0, 23.0, 23.1, 23.1]\n"
     ]
    }
   ],
   "source": [
    "#Air Temp CRN:\n",
    "with open('CRNH0203-2022-LA_Lafayette_13_SE.txt') as f:\n",
    "    lst=[line.split()[20] for line in f]\n",
    "    #print(lst)\n",
    "    temp_crn=[]\n",
    "    for i in lst:\n",
    "        new=i.replace(',',\"\")\n",
    "        temp_crn.append(new)\n",
    "    temp_crn=[float(x) for x in temp_crn]\n",
    "    temp_crn=temp_crn[2265:2290]\n",
    "    print(temp_crn)\n",
    "    #print(len(temp_crn))\n",
    "    # print(temp_crn[2124])"
   ]
  },
  {
   "cell_type": "code",
   "execution_count": 84,
   "id": "18c37a9b",
   "metadata": {},
   "outputs": [
    {
     "name": "stdout",
     "output_type": "stream",
     "text": [
      "[0.33999999999999986, -0.16000000000000014, -0.28999999999999915, 0.03999999999999915, 1.7600000000000016, -0.019999999999999574, -0.25, -2.5600000000000023, 2.200000000000003, 3.3100000000000023, 9.98, 4.120000000000001, 3.3000000000000007, 1.7899999999999991, 0.990000000000002, 1.120000000000001, -0.35999999999999943, -1.0, -1.3399999999999999, -0.9299999999999997, -1.1400000000000006, -1.8099999999999987, -0.9200000000000017, -1.0600000000000023, -1.0100000000000016]\n"
     ]
    }
   ],
   "source": [
    "difference3_laf = []\n",
    "\n",
    "zip_object = zip(temp, temp_crn)\n",
    "for temp_i, temp_crn_i in zip_object:\n",
    "    difference3_laf.append(temp_i-temp_crn_i)\n",
    "\n",
    "print(difference3_laf)"
   ]
  },
  {
   "cell_type": "markdown",
   "id": "6bc47d22",
   "metadata": {},
   "source": [
    "<font size=\"3\">Monroe, LA: 1000 UTC 5 April 2022-1000 UTC 6 April 2022</font>"
   ]
  },
  {
   "cell_type": "code",
   "execution_count": 85,
   "id": "10cbddb4",
   "metadata": {},
   "outputs": [
    {
     "name": "stdout",
     "output_type": "stream",
     "text": [
      "[18.62, 16.77, 17.68, 17.85, 17.6, 19.58, 21.47, 22.49, 24.59, 26.37, 27.08, 26.11, 25.59, 25.3, 23.99, 21.91, 20.71, 20.91, 20.07, 21.1, 21.13, 21.26, 20.65, 20.76, 20.35]\n"
     ]
    }
   ],
   "source": [
    "#18 hr hrrr:\n",
    "with open('hrrr_f18_Monroe_LA.txt') as f:\n",
    "    lst=[line.split()[4] for line in f]\n",
    "    temp=[]\n",
    "    for i in lst:\n",
    "        new=i.replace(',',\"\")\n",
    "        temp.append(new)\n",
    "    temp.pop(0)\n",
    "    temp=[float(x) for x in temp]\n",
    "    #print(temp.index(6.91541))\n",
    "    temp=temp[2248:2273]\n",
    "    print(temp)\n",
    "    #print(len(temp))\n",
    "#full time period is [2015:2112]"
   ]
  },
  {
   "cell_type": "code",
   "execution_count": 86,
   "id": "e443548a",
   "metadata": {},
   "outputs": [
    {
     "name": "stdout",
     "output_type": "stream",
     "text": [
      "[17.0, 15.8, 15.9, 15.7, 16.1, 17.3, 19.5, 24.0, 27.3, 29.3, 30.4, 30.8, 30.1, 26.5, 23.3, 19.7, 17.9, 17.8, 20.3, 21.2, 21.2, 21.4, 21.5, 21.5, 21.3]\n"
     ]
    }
   ],
   "source": [
    "#Air Temp CRN:\n",
    "with open('CRNH0203-2022-LA_Monroe_26_N.txt') as f:\n",
    "    lst=[line.split()[20] for line in f]\n",
    "    #print(lst)\n",
    "    temp_crn=[]\n",
    "    for i in lst:\n",
    "        new=i.replace(',',\"\")\n",
    "        temp_crn.append(new)\n",
    "    temp_crn=[float(x) for x in temp_crn]\n",
    "    temp_crn=temp_crn[2265:2290]\n",
    "    print(temp_crn)\n",
    "    #print(len(temp_crn))\n",
    "    # print(temp_crn[2124])"
   ]
  },
  {
   "cell_type": "code",
   "execution_count": 87,
   "id": "cc1402aa",
   "metadata": {},
   "outputs": [
    {
     "name": "stdout",
     "output_type": "stream",
     "text": [
      "[1.620000000000001, 0.9699999999999989, 1.7799999999999994, 2.150000000000002, 1.5, 2.2799999999999976, 1.9699999999999989, -1.5100000000000016, -2.710000000000001, -2.9299999999999997, -3.3200000000000003, -4.690000000000001, -4.510000000000002, -1.1999999999999993, 0.6899999999999977, 2.210000000000001, 2.8100000000000023, 3.1099999999999994, -0.23000000000000043, -0.09999999999999787, -0.07000000000000028, -0.13999999999999702, -0.8500000000000014, -0.7399999999999984, -0.9499999999999993]\n"
     ]
    }
   ],
   "source": [
    "difference3_mon = []\n",
    "\n",
    "zip_object = zip(temp, temp_crn)\n",
    "for temp_i, temp_crn_i in zip_object:\n",
    "    difference3_mon.append(temp_i-temp_crn_i)\n",
    "\n",
    "print(difference3_mon)"
   ]
  },
  {
   "cell_type": "markdown",
   "id": "8e498386",
   "metadata": {},
   "source": [
    "<font size=\"3\">Holly Springs, MS: 1100 UTC 5 April 2022-1100 UTC 6 April 2022</font>"
   ]
  },
  {
   "cell_type": "code",
   "execution_count": 88,
   "id": "9769a849",
   "metadata": {},
   "outputs": [
    {
     "name": "stdout",
     "output_type": "stream",
     "text": [
      "[12.95, 13.95, 13.85, 13.48, 14.38, 13.99, 14.64, 17.75, 19.94, 19.96, 19.09, 19.58, 17.98, 17.67, 15.64, 15.16, 13.91, 13.52, 13.72, 14.01, 14.26, 14.95, 15.67, 16.24, 17.16]\n"
     ]
    }
   ],
   "source": [
    "#18 hr hrrr:\n",
    "with open('hrrr_f18_Holly Springs_MS.txt') as f:\n",
    "    lst=[line.split()[4] for line in f]\n",
    "    temp=[]\n",
    "    for i in lst:\n",
    "        new=i.replace(',',\"\")\n",
    "        temp.append(new)\n",
    "    temp.pop(0)\n",
    "    temp=[float(x) for x in temp]\n",
    "    #print(temp.index(6.91541))\n",
    "    temp=temp[2249:2274]\n",
    "    print(temp)\n",
    "    #print(len(temp))\n",
    "#full time period is [2015:2112]"
   ]
  },
  {
   "cell_type": "code",
   "execution_count": 89,
   "id": "cf8e50e8",
   "metadata": {},
   "outputs": [
    {
     "name": "stdout",
     "output_type": "stream",
     "text": [
      "[12.6, 12.6, 12.8, 13.4, 14.0, 14.6, 15.7, 18.1, 19.5, 19.5, 21.9, 22.7, 21.3, 17.7, 13.5, 11.9, 12.2, 12.7, 12.8, 12.9, 12.4, 12.2, 14.6, 15.6, 16.3]\n"
     ]
    }
   ],
   "source": [
    "#Air Temp CRN:\n",
    "with open('CRNH0203-2022-MS_Holly_Springs_4_N.txt') as f:\n",
    "    lst=[line.split()[20] for line in f]\n",
    "    #print(lst)\n",
    "    temp_crn=[]\n",
    "    for i in lst:\n",
    "        new=i.replace(',',\"\")\n",
    "        temp_crn.append(new)\n",
    "    temp_crn=[float(x) for x in temp_crn]\n",
    "    temp_crn=temp_crn[2266:2291]\n",
    "    print(temp_crn)\n",
    "    #print(len(temp_crn))\n",
    "    # print(temp_crn[2124])"
   ]
  },
  {
   "cell_type": "code",
   "execution_count": 90,
   "id": "9625595c",
   "metadata": {},
   "outputs": [
    {
     "name": "stdout",
     "output_type": "stream",
     "text": [
      "[0.34999999999999964, 1.3499999999999996, 1.049999999999999, 0.08000000000000007, 0.3800000000000008, -0.6099999999999994, -1.0599999999999987, -0.3500000000000014, 0.4400000000000013, 0.46000000000000085, -2.8099999999999987, -3.120000000000001, -3.3200000000000003, -0.029999999999997584, 2.1400000000000006, 3.26, 1.7100000000000009, 0.8200000000000003, 0.9199999999999999, 1.1099999999999994, 1.8599999999999994, 2.75, 1.0700000000000003, 0.6399999999999988, 0.8599999999999994]\n"
     ]
    }
   ],
   "source": [
    "difference3_hol = []\n",
    "\n",
    "zip_object = zip(temp, temp_crn)\n",
    "for temp_i, temp_crn_i in zip_object:\n",
    "    difference3_hol.append(temp_i-temp_crn_i)\n",
    "\n",
    "print(difference3_hol)"
   ]
  },
  {
   "cell_type": "markdown",
   "id": "cec214d2",
   "metadata": {},
   "source": [
    "<font size=\"3\">Newton, MS: 1100 UTC 5 April 2022-1100 UTC 6 April 2022</font>"
   ]
  },
  {
   "cell_type": "code",
   "execution_count": 91,
   "id": "3f7fda17",
   "metadata": {},
   "outputs": [
    {
     "name": "stdout",
     "output_type": "stream",
     "text": [
      "[17.23, 18.75, 19.73, 19.89, 21.29, 20.38, 22.36, 22.86, 24.11, 24.0, 23.07, 23.16, 23.28, 20.5, 19.57, 19.31, 18.71, 18.84, 18.46, 19.37, 20.09, 19.89, 19.4, 19.96, 19.99]\n"
     ]
    }
   ],
   "source": [
    "#18 hr hrrr:\n",
    "with open('hrrr_f18_Newton_MS.txt') as f:\n",
    "    lst=[line.split()[4] for line in f]\n",
    "    temp=[]\n",
    "    for i in lst:\n",
    "        new=i.replace(',',\"\")\n",
    "        temp.append(new)\n",
    "    temp.pop(0)\n",
    "    temp=[float(x) for x in temp]\n",
    "    #print(temp.index(6.91541))\n",
    "    temp=temp[2249:2274]\n",
    "    print(temp)\n",
    "    #print(len(temp))\n",
    "#full time period is [2015:2112]"
   ]
  },
  {
   "cell_type": "code",
   "execution_count": 92,
   "id": "451fc547",
   "metadata": {},
   "outputs": [
    {
     "name": "stdout",
     "output_type": "stream",
     "text": [
      "[16.2, 17.8, 18.4, 17.4, 18.0, 17.6, 19.4, 26.0, 27.1, 27.5, 28.6, 28.3, 25.1, 22.0, 19.6, 19.0, 18.6, 19.0, 19.5, 19.6, 19.7, 20.1, 20.5, 20.8, 20.8]\n"
     ]
    }
   ],
   "source": [
    "#Air Temp CRN:\n",
    "with open('CRNH0203-2022-MS_Newton_5_ENE.txt') as f:\n",
    "    lst=[line.split()[20] for line in f]\n",
    "    #print(lst)\n",
    "    temp_crn=[]\n",
    "    for i in lst:\n",
    "        new=i.replace(',',\"\")\n",
    "        temp_crn.append(new)\n",
    "    temp_crn=[float(x) for x in temp_crn]\n",
    "    temp_crn=temp_crn[2266:2291]\n",
    "    print(temp_crn)\n",
    "    #print(len(temp_crn))\n",
    "    # print(temp_crn[2124])"
   ]
  },
  {
   "cell_type": "code",
   "execution_count": 93,
   "id": "a83781b3",
   "metadata": {},
   "outputs": [
    {
     "name": "stdout",
     "output_type": "stream",
     "text": [
      "[1.0300000000000011, 0.9499999999999993, 1.3300000000000018, 2.490000000000002, 3.289999999999999, 2.7799999999999976, 2.960000000000001, -3.1400000000000006, -2.990000000000002, -3.5, -5.530000000000001, -5.140000000000001, -1.8200000000000003, -1.5, -0.030000000000001137, 0.3099999999999987, 0.10999999999999943, -0.16000000000000014, -1.0399999999999991, -0.23000000000000043, 0.39000000000000057, -0.21000000000000085, -1.1000000000000014, -0.8399999999999999, -0.8100000000000023]\n"
     ]
    }
   ],
   "source": [
    "difference3_new = []\n",
    "\n",
    "zip_object = zip(temp, temp_crn)\n",
    "for temp_i, temp_crn_i in zip_object:\n",
    "    difference3_new.append(temp_i-temp_crn_i)\n",
    "\n",
    "print(difference3_new)"
   ]
  },
  {
   "cell_type": "markdown",
   "id": "576090a5",
   "metadata": {},
   "source": [
    "<font size=\"3\">Gainesville, AL: 1300 UTC 5 April 2022-1300 UTC 6 April 2022</font>"
   ]
  },
  {
   "cell_type": "code",
   "execution_count": 94,
   "id": "1108d683",
   "metadata": {},
   "outputs": [],
   "source": [
    "# #18 hr hrrr:\n",
    "# with open('hrrr_f18_Gainesville_AL (1).txt') as f:\n",
    "#     lst=[line.split()[4] for line in f]\n",
    "#     temp=[]\n",
    "#     for i in lst:\n",
    "#         new=i.replace(',',\"\")\n",
    "#         temp.append(new)\n",
    "#     temp.pop(0)\n",
    "#     temp=[float(x) for x in temp]\n",
    "#     #print(temp.index(6.91541))\n",
    "#     temp=temp[2251:2276]\n",
    "#     print(temp)\n",
    "#     #print(len(temp))\n",
    "# #full time period is [2015:2112]"
   ]
  },
  {
   "cell_type": "code",
   "execution_count": 95,
   "id": "d2d3b56b",
   "metadata": {},
   "outputs": [],
   "source": [
    "# #Air Temp CRN:\n",
    "# with open('CRNH0203-2022-AL_Gainesville_2_NE.txt') as f:\n",
    "#     lst=[line.split()[20] for line in f]\n",
    "#     #print(lst)\n",
    "#     temp_crn=[]\n",
    "#     for i in lst:\n",
    "#         new=i.replace(',',\"\")\n",
    "#         temp_crn.append(new)\n",
    "#     temp_crn=[float(x) for x in temp_crn]\n",
    "#     temp_crn=temp_crn[2268:2293]\n",
    "#     print(temp_crn)\n",
    "#     #print(len(temp_crn))\n",
    "#     # print(temp_crn[2124])"
   ]
  },
  {
   "cell_type": "code",
   "execution_count": 96,
   "id": "b1176cf2",
   "metadata": {},
   "outputs": [],
   "source": [
    "# difference3_gai = []\n",
    "\n",
    "# zip_object = zip(temp, temp_crn)\n",
    "# for temp_i, temp_crn_i in zip_object:\n",
    "#     difference3_gai.append(temp_i-temp_crn_i)\n",
    "\n",
    "# print(difference3_gai)"
   ]
  },
  {
   "cell_type": "markdown",
   "id": "0a541e7a",
   "metadata": {},
   "source": [
    "<font size=\"3\">Fairhope, AL: 1300 UTC 5 April 2022-1300 UTC 6 April 2022</font>"
   ]
  },
  {
   "cell_type": "code",
   "execution_count": 97,
   "id": "f96de255",
   "metadata": {},
   "outputs": [
    {
     "name": "stdout",
     "output_type": "stream",
     "text": [
      "[22.26, 22.26, 24.86, 23.93, 22.63, 18.65, 18.08, 19.01, 19.85, 19.38, 20.16, 18.96, 20.63, 19.03, 21.29, 21.36, 21.15, 21.57, 21.62, 21.13, 21.14, 21.18, 21.55, 21.77, 22.83]\n"
     ]
    }
   ],
   "source": [
    "#18 hr hrrr:\n",
    "with open('hrrr_f18_Fairhope_AL.txt') as f:\n",
    "    lst=[line.split()[4] for line in f]\n",
    "    temp=[]\n",
    "    for i in lst:\n",
    "        new=i.replace(',',\"\")\n",
    "        temp.append(new)\n",
    "    temp.pop(0)\n",
    "    temp=[float(x) for x in temp]\n",
    "    #print(temp.index(6.91541))\n",
    "    temp=temp[2251:2276]\n",
    "    print(temp)\n",
    "    #print(len(temp))\n",
    "#full time period is [2015:2112]"
   ]
  },
  {
   "cell_type": "code",
   "execution_count": 98,
   "id": "0f24863a",
   "metadata": {},
   "outputs": [
    {
     "name": "stdout",
     "output_type": "stream",
     "text": [
      "[22.6, 23.3, 24.5, 25.1, 25.1, 19.5, 16.8, 17.8, 21.8, 21.0, 20.2, 19.9, 19.5, 19.7, 20.1, 21.4, 21.9, 21.8, 22.0, 22.1, 22.0, 22.0, 22.0, 21.9, 22.8]\n"
     ]
    }
   ],
   "source": [
    "#Air Temp CRN:\n",
    "with open('CRNH0203-2022-AL_Fairhope_3_NE.txt') as f:\n",
    "    lst=[line.split()[20] for line in f]\n",
    "    #print(lst)\n",
    "    temp_crn=[]\n",
    "    for i in lst:\n",
    "        new=i.replace(',',\"\")\n",
    "        temp_crn.append(new)\n",
    "    temp_crn=[float(x) for x in temp_crn]\n",
    "    temp_crn=temp_crn[2268:2293]\n",
    "    print(temp_crn)\n",
    "    #print(len(temp_crn))\n",
    "    # print(temp_crn[2124])"
   ]
  },
  {
   "cell_type": "code",
   "execution_count": 99,
   "id": "e08d6481",
   "metadata": {},
   "outputs": [
    {
     "name": "stdout",
     "output_type": "stream",
     "text": [
      "[-0.33999999999999986, -1.0399999999999991, 0.35999999999999943, -1.1700000000000017, -2.4700000000000024, -0.8500000000000014, 1.2799999999999976, 1.2100000000000009, -1.9499999999999993, -1.620000000000001, -0.03999999999999915, -0.9399999999999977, 1.129999999999999, -0.6699999999999982, 1.1899999999999977, -0.03999999999999915, -0.75, -0.23000000000000043, -0.379999999999999, -0.9700000000000024, -0.8599999999999994, -0.8200000000000003, -0.4499999999999993, -0.129999999999999, 0.029999999999997584]\n"
     ]
    }
   ],
   "source": [
    "difference3_fai = []\n",
    "\n",
    "zip_object = zip(temp, temp_crn)\n",
    "for temp_i, temp_crn_i in zip_object:\n",
    "    difference3_fai.append(temp_i-temp_crn_i)\n",
    "\n",
    "print(difference3_fai)"
   ]
  },
  {
   "cell_type": "markdown",
   "id": "817a1997",
   "metadata": {},
   "source": [
    "<font size=\"3\">Selma, AL: 1300 UTC 5 April 2022-1300 UTC 6 April 2022</font>"
   ]
  },
  {
   "cell_type": "code",
   "execution_count": 100,
   "id": "3850a5ea",
   "metadata": {},
   "outputs": [
    {
     "name": "stdout",
     "output_type": "stream",
     "text": [
      "[17.75, 19.31, 19.84, 20.52, 19.28, 20.96, 19.43, 20.93, 20.78, 19.9, 20.63, 18.34, 16.96, 17.36, 17.97, 17.8, 17.35, 18.03, 18.74, 19.06, 19.35, 20.23, 19.94, 20.18, 21.27]\n",
      "25\n",
      "[16.3, 16.5, 17.6, 18.5, 18.2, 18.0, 17.9, 19.5, 20.9, 21.4, 21.6, 19.4, 18.2, 17.7, 17.3, 16.9, 18.0, 18.8, 19.0, 19.0, 18.9, 19.1, 19.5, 19.8, 20.0]\n",
      "25\n",
      "[1.4499999999999993, 2.8099999999999987, 2.2399999999999984, 2.0199999999999996, 1.0800000000000018, 2.960000000000001, 1.5300000000000011, 1.4299999999999997, -0.11999999999999744, -1.5, -0.9700000000000024, -1.0599999999999987, -1.2399999999999984, -0.33999999999999986, 0.6699999999999982, 0.9000000000000021, -0.6499999999999986, -0.7699999999999996, -0.26000000000000156, 0.05999999999999872, 0.45000000000000284, 1.129999999999999, 0.4400000000000013, 0.379999999999999, 1.2699999999999996]\n",
      "25\n"
     ]
    }
   ],
   "source": [
    "#18 hr hrrr:\n",
    "with open('hrrr_f18_Selma_AL.txt') as f:\n",
    "    lst=[line.split()[4] for line in f]\n",
    "    temp=[]\n",
    "    for i in lst:\n",
    "        new=i.replace(',',\"\")\n",
    "        temp.append(new)\n",
    "    temp.pop(0)\n",
    "    temp=[float(x) for x in temp]\n",
    "    #print(temp.index(6.91541))\n",
    "    temp=temp[2251:2276]\n",
    "    \n",
    "    \n",
    "#Air Temp CRN:\n",
    "with open('CRNH0203-2022-AL_Selma_13_WNW.txt') as f:\n",
    "    lst=[line.split()[20] for line in f]\n",
    "    #print(lst)\n",
    "    temp_crn=[]\n",
    "    for i in lst:\n",
    "        new=i.replace(',',\"\")\n",
    "        temp_crn.append(new)\n",
    "    temp_crn=[float(x) for x in temp_crn]\n",
    "    temp_crn=temp_crn[2268:2293]\n",
    "\n",
    "    print(temp)\n",
    "    print(len(temp))\n",
    "    print(temp_crn)\n",
    "    print(len(temp_crn))\n",
    "#full time period is [2015:2112]\n",
    "difference3_sel = []\n",
    "\n",
    "zip_object = zip(temp, temp_crn)\n",
    "for temp_i, temp_crn_i in zip_object:\n",
    "    difference3_sel.append(temp_i-temp_crn_i)\n",
    "\n",
    "print(difference3_sel)\n",
    "print(len(difference3_sel))"
   ]
  },
  {
   "cell_type": "markdown",
   "id": "8492b45b",
   "metadata": {},
   "source": [
    "<font size=\"3\">Bowling Green, KY: 1500 UTC 5 April 2022-1500 UTC 6 April 2022</font>"
   ]
  },
  {
   "cell_type": "code",
   "execution_count": 101,
   "id": "ebe0c97f",
   "metadata": {},
   "outputs": [
    {
     "name": "stdout",
     "output_type": "stream",
     "text": [
      "[16.25, 16.58, 17.12, 14.16, 15.77, 16.25, 13.98, 14.36, 14.65, 13.86, 11.82, 9.64999, 9.5, 8.58002, 8.89001, 10.36, 7.60001, 8.19, 9.92001, 9.38, 10.32, 10.5, 11.69, 11.82, 13.17]\n"
     ]
    }
   ],
   "source": [
    "#18 hr hrrr:\n",
    "with open('hrrr_f18_Bowling Green_KY.txt') as f:\n",
    "    lst=[line.split()[4] for line in f]\n",
    "    temp=[]\n",
    "    for i in lst:\n",
    "        new=i.replace(',',\"\")\n",
    "        temp.append(new)\n",
    "    temp.pop(0)\n",
    "    temp=[float(x) for x in temp]\n",
    "    #print(temp.index(6.91541))\n",
    "    temp=temp[2253:2278]\n",
    "    print(temp)\n",
    "# with open('CRNH0203-2022-KY_Bowling_Green_21_NNE.txt') as f:\n",
    "#     lst=[line.split()[20] for line in f]\n",
    "#     #print(lst)\n",
    "#     temp_crn=[]\n",
    "#     for i in lst:\n",
    "#         new=i.replace(',',\"\")\n",
    "#         temp_crn.append(new)\n",
    "#     temp_crn=[float(x) for x in temp_crn]\n",
    "#     temp_crn=temp_crn[2136:2161]\n",
    "#     print(temp_crn)\n",
    "#     #print(len(temp))\n",
    "# #full time period is [2015:2112]"
   ]
  },
  {
   "cell_type": "code",
   "execution_count": 102,
   "id": "679e4a94",
   "metadata": {},
   "outputs": [],
   "source": [
    "# hour=[]\n",
    "# for i in range(-8,17,1):\n",
    "#     hour.append(i)\n",
    "#     i+=1\n",
    "# print(len(hour))"
   ]
  },
  {
   "cell_type": "code",
   "execution_count": 103,
   "id": "9c3d4d9e",
   "metadata": {},
   "outputs": [
    {
     "name": "stdout",
     "output_type": "stream",
     "text": [
      "[11.1, 11.7, 13.0, 14.5, 13.9, 13.0, 13.6, 14.1, 13.1, 12.3, 11.3, 10.8, 7.2, 5.6, 8.7, 8.5, 8.4, 10.5, 10.8, 10.8, 10.8, 10.6, 11.7, 12.5, 13.6]\n"
     ]
    }
   ],
   "source": [
    "#Air Temp CRN:\n",
    "with open('CRNH0203-2022-KY_Bowling_Green_21_NNE.txt') as f:\n",
    "    lst=[line.split()[20] for line in f]\n",
    "    #print(lst)\n",
    "    temp_crn=[]\n",
    "    for i in lst:\n",
    "        new=i.replace(',',\"\")\n",
    "        temp_crn.append(new)\n",
    "    temp_crn=[float(x) for x in temp_crn]\n",
    "    temp_crn=temp_crn[2270:2295]\n",
    "    print(temp_crn)\n",
    "    #print(len(temp_crn))\n",
    "    # print(temp_crn[2124])"
   ]
  },
  {
   "cell_type": "code",
   "execution_count": 104,
   "id": "8047270f",
   "metadata": {},
   "outputs": [
    {
     "name": "stdout",
     "output_type": "stream",
     "text": [
      "[5.15, 4.879999999999999, 4.120000000000001, -0.33999999999999986, 1.8699999999999992, 3.25, 0.3800000000000008, 0.2599999999999998, 1.5500000000000007, 1.5599999999999987, 0.5199999999999996, -1.15001, 2.3, 2.9800199999999997, 0.1900100000000009, 1.8599999999999994, -0.7999900000000002, -2.3100000000000005, -0.8799900000000012, -1.42, -0.4800000000000004, -0.09999999999999964, -0.009999999999999787, -0.6799999999999997, -0.4299999999999997]\n"
     ]
    }
   ],
   "source": [
    "difference3_bow = []\n",
    "\n",
    "zip_object = zip(temp, temp_crn)\n",
    "for temp_i, temp_crn_i in zip_object:\n",
    "    difference3_bow.append(temp_i-temp_crn_i)\n",
    "\n",
    "print(difference3_bow)"
   ]
  },
  {
   "cell_type": "markdown",
   "id": "e3343352",
   "metadata": {},
   "source": [
    "<font size=\"3\">Gadsden, AL: 1500 UTC 5 April 2022-1500 UTC 6 April 2022</font>"
   ]
  },
  {
   "cell_type": "code",
   "execution_count": 105,
   "id": "e6be65b9",
   "metadata": {},
   "outputs": [
    {
     "name": "stdout",
     "output_type": "stream",
     "text": [
      "[12.07, 13.16, 13.85, 14.7, 16.87, 18.07, 19.28, 16.73, 16.93, 16.73, 15.9, 16.44, 13.98, 13.17, 13.29, 13.16, 12.65, 11.67, 11.82, 11.14, 12.86, 13.2, 14.18, 15.83, 17.47]\n"
     ]
    }
   ],
   "source": [
    "#18 hr hrrr:\n",
    "with open('hrrr_f18_Gadsden_AL.txt') as f:\n",
    "    lst=[line.split()[4] for line in f]\n",
    "    temp=[]\n",
    "    for i in lst:\n",
    "        new=i.replace(',',\"\")\n",
    "        temp.append(new)\n",
    "    temp.pop(0)\n",
    "    temp=[float(x) for x in temp]\n",
    "    #print(temp.index(6.91541))\n",
    "    temp=temp[2253:2278]\n",
    "    print(temp)\n",
    "    #print(len(temp))\n",
    "#full time period is [2015:2112]"
   ]
  },
  {
   "cell_type": "code",
   "execution_count": 106,
   "id": "3e263dee",
   "metadata": {},
   "outputs": [
    {
     "name": "stdout",
     "output_type": "stream",
     "text": [
      "[11.0, 11.1, 11.6, 12.7, 14.7, 18.2, 17.3, 17.4, 17.7, 16.9, 15.6, 13.4, 12.0, 11.6, 13.1, 12.7, 13.5, 13.7, 14.2, 14.4, 14.7, 15.0, 15.9, 17.1, 18.3]\n"
     ]
    }
   ],
   "source": [
    "#Air Temp CRN:\n",
    "with open('CRNH0203-2022-AL_Gadsden_19_N.txt') as f:\n",
    "    lst=[line.split()[20] for line in f]\n",
    "    #print(lst)\n",
    "    temp_crn=[]\n",
    "    for i in lst:\n",
    "        new=i.replace(',',\"\")\n",
    "        temp_crn.append(new)\n",
    "    temp_crn=[float(x) for x in temp_crn]\n",
    "    temp_crn=temp_crn[2270:2295]\n",
    "    print(temp_crn)\n",
    "    #print(len(temp_crn))\n",
    "    # print(temp_crn[2124])"
   ]
  },
  {
   "cell_type": "code",
   "execution_count": 107,
   "id": "9ac3a61b",
   "metadata": {},
   "outputs": [
    {
     "name": "stdout",
     "output_type": "stream",
     "text": [
      "[1.0700000000000003, 2.0600000000000005, 2.25, 2.0, 2.1700000000000017, -0.129999999999999, 1.9800000000000004, -0.6699999999999982, -0.7699999999999996, -0.16999999999999815, 0.3000000000000007, 3.040000000000001, 1.9800000000000004, 1.5700000000000003, 0.1899999999999995, 0.46000000000000085, -0.8499999999999996, -2.0299999999999994, -2.379999999999999, -3.26, -1.8399999999999999, -1.8000000000000007, -1.7200000000000006, -1.2700000000000014, -0.8300000000000018]\n"
     ]
    }
   ],
   "source": [
    "difference3_gad = []\n",
    "\n",
    "zip_object = zip(temp, temp_crn)\n",
    "for temp_i, temp_crn_i in zip_object:\n",
    "    difference3_gad.append(temp_i-temp_crn_i)\n",
    "\n",
    "print(difference3_gad)"
   ]
  },
  {
   "cell_type": "markdown",
   "id": "24b41c3d",
   "metadata": {},
   "source": [
    "<font size=\"3\">Newton, GA: 1800 UTC 5 April 2022-1800 UTC 6 April 2022</font>"
   ]
  },
  {
   "cell_type": "code",
   "execution_count": 108,
   "id": "6dd4dcb8",
   "metadata": {},
   "outputs": [
    {
     "name": "stdout",
     "output_type": "stream",
     "text": [
      "[27.42, 29.42, 26.77, 25.58, 19.35, 19.57, 19.07, 18.29, 18.22, 19.0, 19.3, 19.76, 19.14, 20.58, 21.08, 20.67, 20.28, 20.74, 21.57, 21.61, 23.52, 23.76, 24.98, 26.01, 24.24]\n"
     ]
    }
   ],
   "source": [
    "#18 hr hrrr:\n",
    "with open('hrrr_f18_Newton_GA.txt') as f:\n",
    "    lst=[line.split()[4] for line in f]\n",
    "    temp=[]\n",
    "    for i in lst:\n",
    "        new=i.replace(',',\"\")\n",
    "        temp.append(new)\n",
    "    temp.pop(0)\n",
    "    temp=[float(x) for x in temp]\n",
    "    #print(temp.index(6.91541))\n",
    "    temp=temp[2256:2281]\n",
    "    print(temp)\n",
    "    #print(len(temp))\n",
    "#full time period is [2015:2112]"
   ]
  },
  {
   "cell_type": "code",
   "execution_count": 109,
   "id": "8a62826d",
   "metadata": {},
   "outputs": [
    {
     "name": "stdout",
     "output_type": "stream",
     "text": [
      "[27.2, 26.8, 24.2, 17.6, 17.5, 17.5, 17.5, 17.3, 17.3, 17.0, 16.6, 16.9, 17.4, 17.9, 18.5, 19.2, 19.8, 20.3, 20.6, 21.4, 22.4, 24.8, 26.3, 28.4, 29.4]\n"
     ]
    }
   ],
   "source": [
    "#Air Temp CRN:\n",
    "with open('CRNH0203-2022-GA_Newton_11_SW.txt') as f:\n",
    "    lst=[line.split()[20] for line in f]\n",
    "    #print(lst)\n",
    "    temp_crn=[]\n",
    "    for i in lst:\n",
    "        new=i.replace(',',\"\")\n",
    "        temp_crn.append(new)\n",
    "    temp_crn=[float(x) for x in temp_crn]\n",
    "    temp_crn=temp_crn[2273:2298]\n",
    "    print(temp_crn)\n",
    "    #print(len(temp_crn))\n",
    "    # print(temp_crn[2124])"
   ]
  },
  {
   "cell_type": "code",
   "execution_count": 110,
   "id": "474e5fae",
   "metadata": {},
   "outputs": [
    {
     "name": "stdout",
     "output_type": "stream",
     "text": [
      "[0.22000000000000242, 2.620000000000001, 2.5700000000000003, 7.979999999999997, 1.8500000000000014, 2.0700000000000003, 1.5700000000000003, 0.9899999999999984, 0.9199999999999982, 2.0, 2.6999999999999993, 2.860000000000003, 1.740000000000002, 2.6799999999999997, 2.5799999999999983, 1.4700000000000024, 0.4800000000000004, 0.4399999999999977, 0.9699999999999989, 0.21000000000000085, 1.120000000000001, -1.0399999999999991, -1.3200000000000003, -2.389999999999997, -5.16]\n"
     ]
    }
   ],
   "source": [
    "difference3_newt = []\n",
    "\n",
    "zip_object = zip(temp, temp_crn)\n",
    "for temp_i, temp_crn_i in zip_object:\n",
    "    difference3_newt.append(temp_i-temp_crn_i)\n",
    "\n",
    "print(difference3_newt)"
   ]
  },
  {
   "cell_type": "markdown",
   "id": "e079df5d",
   "metadata": {},
   "source": [
    "<font size=\"3\">Salem, MO: 1500 UTC 13 April 2022-1500 UTC 14 April 2022</font>"
   ]
  },
  {
   "cell_type": "code",
   "execution_count": 111,
   "id": "076a4df1",
   "metadata": {},
   "outputs": [
    {
     "name": "stdout",
     "output_type": "stream",
     "text": [
      "[19.23, 19.25, 18.13, 15.9, 16.39, 13.04, 7.77002, 7.42999, 7.17001, 6.37, 5.24002, 4.63, 3.75, 3.78, 3.16, 2.84, 2.09, 1.69, 1.45999, 1.20999, 0.679993, 0.830017, 3.38, 6.78, 9.78]\n"
     ]
    }
   ],
   "source": [
    "#18 hr hrrr:\n",
    "with open('hrrr_f18_Salem_MO.txt') as f:\n",
    "    lst=[line.split()[4] for line in f]\n",
    "    temp=[]\n",
    "    for i in lst:\n",
    "        new=i.replace(',',\"\")\n",
    "        temp.append(new)\n",
    "    temp.pop(0)\n",
    "    temp=[float(x) for x in temp]\n",
    "    #print(temp.index(6.91541))\n",
    "    temp=temp[2445:2470]\n",
    "    print(temp)\n",
    "    #print(len(temp))\n",
    "#full time period is [2015:2112]"
   ]
  },
  {
   "cell_type": "code",
   "execution_count": 112,
   "id": "7f147a99",
   "metadata": {},
   "outputs": [
    {
     "name": "stdout",
     "output_type": "stream",
     "text": [
      "[17.3, 16.3, 15.5, 14.5, 14.3, 13.9, 9.6, 9.5, 8.7, 8.1, 5.5, 5.7, 5.8, 3.7, 1.5, 0.2, -1.1, -1.7, -2.3, -2.7, -3.1, -3.5, -0.3, 6.9, 12.0]\n"
     ]
    }
   ],
   "source": [
    "#Air Temp CRN:\n",
    "with open('CRNH0203-2022-MO_Salem_10_W.txt') as f:\n",
    "    lst=[line.split()[20] for line in f]\n",
    "    #print(lst)\n",
    "    temp_crn=[]\n",
    "    for i in lst:\n",
    "        new=i.replace(',',\"\")\n",
    "        temp_crn.append(new)\n",
    "    temp_crn=[float(x) for x in temp_crn]\n",
    "    temp_crn=temp_crn[2462:2487]\n",
    "    print(temp_crn)\n",
    "    #print(len(temp_crn))\n",
    "    # print(temp_crn[2124])"
   ]
  },
  {
   "cell_type": "code",
   "execution_count": 113,
   "id": "9b8b2fac",
   "metadata": {},
   "outputs": [
    {
     "name": "stdout",
     "output_type": "stream",
     "text": [
      "25\n"
     ]
    }
   ],
   "source": [
    "hour=[]\n",
    "for i in range(-12,13,1):\n",
    "    hour.append(i)\n",
    "    i+=1\n",
    "print(len(hour))"
   ]
  },
  {
   "cell_type": "code",
   "execution_count": 114,
   "id": "cfc37d3d",
   "metadata": {},
   "outputs": [
    {
     "name": "stdout",
     "output_type": "stream",
     "text": [
      "[1.9299999999999997, 2.9499999999999993, 2.629999999999999, 1.4000000000000004, 2.09, -0.8600000000000012, -1.82998, -2.07001, -1.5299899999999989, -1.7299999999999995, -0.25997999999999966, -1.0700000000000003, -2.05, 0.07999999999999963, 1.6600000000000001, 2.6399999999999997, 3.19, 3.3899999999999997, 3.7599899999999997, 3.90999, 3.779993, 4.330017, 3.6799999999999997, -0.1200000000000001, -2.2200000000000006]\n"
     ]
    }
   ],
   "source": [
    "difference4_sal = []\n",
    "\n",
    "zip_object = zip(temp, temp_crn)\n",
    "for temp_i, temp_crn_i in zip_object:\n",
    "    difference4_sal.append(temp_i-temp_crn_i)\n",
    "\n",
    "print(difference4_sal)"
   ]
  },
  {
   "cell_type": "markdown",
   "id": "1baa8356",
   "metadata": {},
   "source": [
    "<font size=\"3\">Batesville, AR: 1500 UTC 13 April 2022-1500 UTC 14 April 2022</font>"
   ]
  },
  {
   "cell_type": "code",
   "execution_count": 115,
   "id": "06a18925",
   "metadata": {},
   "outputs": [
    {
     "name": "stdout",
     "output_type": "stream",
     "text": [
      "[20.2, 18.47, 24.0, 20.13, 19.27, 20.69, 19.33, 15.41, 12.04, 10.37, 8.87, 7.67001, 7.29001, 7.41, 6.84, 6.5, 5.66, 5.24002, 4.49002, 4.02002, 3.55002, 3.30002, 6.30002, 10.69, 13.65]\n"
     ]
    }
   ],
   "source": [
    "#18 hr hrrr:\n",
    "with open('hrrr_f18_Batesville_AR.txt') as f:\n",
    "    lst=[line.split()[4] for line in f]\n",
    "    temp=[]\n",
    "    for i in lst:\n",
    "        new=i.replace(',',\"\")\n",
    "        temp.append(new)\n",
    "    temp.pop(0)\n",
    "    temp=[float(x) for x in temp]\n",
    "    #print(temp.index(6.91541))\n",
    "    temp=temp[2445:2470]\n",
    "\n",
    "    print(temp)\n",
    "    #print(len(temp))\n",
    "#full time period is [2015:2112]"
   ]
  },
  {
   "cell_type": "code",
   "execution_count": 116,
   "id": "3f6ddd59",
   "metadata": {},
   "outputs": [
    {
     "name": "stdout",
     "output_type": "stream",
     "text": [
      "[17.4, 18.6, 17.9, 17.8, 17.4, 16.7, 16.5, 16.6, 12.5, 11.1, 10.0, 9.3, 8.8, 7.6, 6.9, 6.2, 3.9, 1.6, 0.4, 0.5, -0.1, -0.3, 1.6, 8.5, 12.6]\n"
     ]
    }
   ],
   "source": [
    "#Air Temp CRN:\n",
    "with open('CRNH0203-2022-AR_Batesville_8_WNW.txt') as f:\n",
    "    lst=[line.split()[20] for line in f]\n",
    "    #print(lst)\n",
    "    temp_crn=[]\n",
    "    for i in lst:\n",
    "        new=i.replace(',',\"\")\n",
    "        temp_crn.append(new)\n",
    "    temp_crn=[float(x) for x in temp_crn]\n",
    "    temp_crn=temp_crn[2462:2487]\n",
    "    print(temp_crn)\n",
    "    #print(len(temp_crn))\n",
    "    # print(temp_crn[2124])"
   ]
  },
  {
   "cell_type": "code",
   "execution_count": 117,
   "id": "3ca802b3",
   "metadata": {},
   "outputs": [
    {
     "name": "stdout",
     "output_type": "stream",
     "text": [
      "[2.8000000000000007, -0.13000000000000256, 6.100000000000001, 2.3299999999999983, 1.870000000000001, 3.990000000000002, 2.8299999999999983, -1.1900000000000013, -0.46000000000000085, -0.7300000000000004, -1.1300000000000008, -1.6299900000000003, -1.509990000000001, -0.1899999999999995, -0.0600000000000005, 0.2999999999999998, 1.7600000000000002, 3.6400200000000003, 4.09002, 3.5200199999999997, 3.65002, 3.6000199999999998, 4.70002, 2.1899999999999995, 1.0500000000000007]\n"
     ]
    }
   ],
   "source": [
    "difference4_bat = []\n",
    "\n",
    "zip_object = zip(temp, temp_crn)\n",
    "for temp_i, temp_crn_i in zip_object:\n",
    "    difference4_bat.append(temp_i-temp_crn_i)\n",
    "\n",
    "print(difference4_bat)"
   ]
  },
  {
   "cell_type": "markdown",
   "id": "ed60c082",
   "metadata": {},
   "source": [
    "<font size=\"3\">Lafayette, LA: 2000 UTC 13 April 2022-2000 UTC 14 April 2022\n",
    "</font>"
   ]
  },
  {
   "cell_type": "code",
   "execution_count": 118,
   "id": "c8525d4c",
   "metadata": {},
   "outputs": [
    {
     "name": "stdout",
     "output_type": "stream",
     "text": [
      "[24.77, 27.78, 23.58, 23.39, 23.52, 23.7, 23.11, 22.68, 22.76, 22.83, 19.22, 18.5, 16.69, 15.75, 14.87, 14.74, 14.86, 15.23, 16.68, 18.57, 19.96, 22.75, 25.43, 26.4, 28.22]\n"
     ]
    }
   ],
   "source": [
    "#18 hr hrrr:\n",
    "with open('hrrr_f18_Lafayette_LA.txt') as f:\n",
    "    lst=[line.split()[4] for line in f]\n",
    "    temp=[]\n",
    "    for i in lst:\n",
    "        new=i.replace(',',\"\")\n",
    "        temp.append(new)\n",
    "    temp.pop(0)\n",
    "    temp=[float(x) for x in temp]\n",
    "    #print(temp.index(6.91541))\n",
    "    \n",
    "    temp=temp[2450:2475]\n",
    "    print(temp)\n",
    "    #print(len(temp))\n",
    "#full time period is [2015:2112]"
   ]
  },
  {
   "cell_type": "code",
   "execution_count": 119,
   "id": "8a5add55",
   "metadata": {},
   "outputs": [
    {
     "name": "stdout",
     "output_type": "stream",
     "text": [
      "[26.9, 27.0, 26.2, 24.9, 24.0, 23.3, 23.1, 22.1, 15.6, 15.6, 15.7, 16.2, 16.4, 16.8, 15.7, 14.5, 14.1, 14.1, 16.5, 20.1, 22.6, 28.0, 31.0, 32.8, 33.7]\n"
     ]
    }
   ],
   "source": [
    "#Air Temp CRN:\n",
    "with open('CRNH0203-2022-LA_Lafayette_13_SE.txt') as f:\n",
    "    lst=[line.split()[20] for line in f]\n",
    "    #print(lst)\n",
    "    temp_crn=[]\n",
    "    for i in lst:\n",
    "        new=i.replace(',',\"\")\n",
    "        temp_crn.append(new)\n",
    "    temp_crn=[float(x) for x in temp_crn]\n",
    "    temp_crn=temp_crn[2467:2492]\n",
    "    print(temp_crn)\n",
    "    #print(len(temp_crn))\n",
    "    # print(temp_crn[2124])"
   ]
  },
  {
   "cell_type": "code",
   "execution_count": 120,
   "id": "f0730891",
   "metadata": {},
   "outputs": [
    {
     "name": "stdout",
     "output_type": "stream",
     "text": [
      "[-2.129999999999999, 0.7800000000000011, -2.620000000000001, -1.509999999999998, -0.4800000000000004, 0.3999999999999986, 0.00999999999999801, 0.5799999999999983, 7.160000000000002, 7.229999999999999, 3.5199999999999996, 2.3000000000000007, 0.2900000000000027, -1.0500000000000007, -0.8300000000000001, 0.2400000000000002, 0.7599999999999998, 1.1300000000000008, 0.17999999999999972, -1.5300000000000011, -2.6400000000000006, -5.25, -5.57, -6.399999999999999, -5.480000000000004]\n"
     ]
    }
   ],
   "source": [
    "difference4_laf = []\n",
    "\n",
    "zip_object = zip(temp, temp_crn)\n",
    "for temp_i, temp_crn_i in zip_object:\n",
    "    difference4_laf.append(temp_i-temp_crn_i)\n",
    "\n",
    "print(difference4_laf)"
   ]
  },
  {
   "cell_type": "markdown",
   "id": "a4cb46d7",
   "metadata": {},
   "source": [
    "<font size=\"3\">Monroe, LA: 2000 UTC 13 April 2022-2000 UTC 14 April 2022</font>"
   ]
  },
  {
   "cell_type": "code",
   "execution_count": 121,
   "id": "02b53a77",
   "metadata": {},
   "outputs": [
    {
     "name": "stdout",
     "output_type": "stream",
     "text": [
      "[24.08, 23.12, 23.45, 23.57, 23.21, 18.78, 15.84, 13.5, 12.47, 11.42, 11.04, 10.24, 9.94, 9.28, 8.5, 8.48001, 7.98001, 9.61002, 12.02, 14.54, 18.16, 20.22, 22.58, 24.28, 25.03]\n"
     ]
    }
   ],
   "source": [
    "#18 hr hrrr:\n",
    "with open('hrrr_f18_Monroe_LA.txt') as f:\n",
    "    lst=[line.split()[4] for line in f]\n",
    "    temp=[]\n",
    "    for i in lst:\n",
    "        new=i.replace(',',\"\")\n",
    "        temp.append(new)\n",
    "    temp.pop(0)\n",
    "    temp=[float(x) for x in temp]\n",
    "    #print(temp.index(6.91541))\n",
    "    temp=temp[2450:2475]   \n",
    "    print(temp)\n",
    "    #print(len(temp))\n",
    "#full time period is [2015:2112]"
   ]
  },
  {
   "cell_type": "code",
   "execution_count": 122,
   "id": "af7a34bf",
   "metadata": {},
   "outputs": [
    {
     "name": "stdout",
     "output_type": "stream",
     "text": [
      "[24.0, 23.1, 22.6, 22.4, 20.4, 18.6, 17.8, 14.7, 12.5, 11.5, 10.2, 9.0, 9.0, 9.4, 9.1, 8.2, 8.3, 9.2, 12.4, 15.1, 17.8, 21.0, 23.6, 25.4, 26.2]\n"
     ]
    }
   ],
   "source": [
    "#Air Temp CRN:\n",
    "with open('CRNH0203-2022-LA_Monroe_26_N.txt') as f:\n",
    "    lst=[line.split()[20] for line in f]\n",
    "    #print(lst)\n",
    "    temp_crn=[]\n",
    "    for i in lst:\n",
    "        new=i.replace(',',\"\")\n",
    "        temp_crn.append(new)\n",
    "    temp_crn=[float(x) for x in temp_crn]\n",
    "    temp_crn=temp_crn[2467:2492]\n",
    "    print(temp_crn)\n",
    "    #print(len(temp_crn))\n",
    "    # print(temp_crn[2124])"
   ]
  },
  {
   "cell_type": "code",
   "execution_count": 123,
   "id": "91696836",
   "metadata": {},
   "outputs": [
    {
     "name": "stdout",
     "output_type": "stream",
     "text": [
      "[0.0799999999999983, 0.019999999999999574, 0.8499999999999979, 1.1700000000000017, 2.8100000000000023, 0.17999999999999972, -1.9600000000000009, -1.1999999999999993, -0.02999999999999936, -0.08000000000000007, 0.8399999999999999, 1.2400000000000002, 0.9399999999999995, -0.120000000000001, -0.5999999999999996, 0.28001000000000076, -0.31999000000000066, 0.41002000000000116, -0.3800000000000008, -0.5600000000000005, 0.35999999999999943, -0.7800000000000011, -1.0200000000000031, -1.1199999999999974, -1.1699999999999982]\n"
     ]
    }
   ],
   "source": [
    "difference4_mon = []\n",
    "\n",
    "zip_object = zip(temp, temp_crn)\n",
    "for temp_i, temp_crn_i in zip_object:\n",
    "    difference4_mon.append(temp_i-temp_crn_i)\n",
    "\n",
    "print(difference4_mon)"
   ]
  },
  {
   "cell_type": "markdown",
   "id": "797ab9bf",
   "metadata": {},
   "source": [
    "<font size=\"3\">Holly Springs, MS: 2300 UTC 13 April 2022-2300 UTC 14 April 2022</font>"
   ]
  },
  {
   "cell_type": "code",
   "execution_count": 124,
   "id": "68b1d7ab",
   "metadata": {},
   "outputs": [
    {
     "name": "stdout",
     "output_type": "stream",
     "text": [
      "[21.96, 21.16, 19.99, 19.44, 13.71, 11.61, 10.91, 9.35001, 8.48001, 7.77002, 7.17001, 7.03, 6.64001, 6.56, 8.17001, 11.09, 13.81, 15.75, 18.34, 19.88, 20.54, 20.63, 19.21, 18.36, 17.31]\n"
     ]
    }
   ],
   "source": [
    "#18 hr hrrr:\n",
    "with open('hrrr_f18_Holly Springs_MS.txt') as f:\n",
    "    lst=[line.split()[4] for line in f]\n",
    "    temp=[]\n",
    "    for i in lst:\n",
    "        new=i.replace(',',\"\")\n",
    "        temp.append(new)\n",
    "    temp.pop(0)\n",
    "    temp=[float(x) for x in temp]\n",
    "    #print(temp.index(6.91541))\n",
    "    temp=temp[2453:2478]\n",
    "    print(temp)\n",
    "    #print(len(temp))\n",
    "#full time period is [2015:2112]"
   ]
  },
  {
   "cell_type": "code",
   "execution_count": 125,
   "id": "ffe3951c",
   "metadata": {},
   "outputs": [
    {
     "name": "stdout",
     "output_type": "stream",
     "text": [
      "[20.3, 17.0, 17.0, 17.0, 17.6, 16.4, 14.2, 12.2, 11.0, 9.8, 8.4, 7.5, 8.6, 8.3, 8.7, 12.0, 15.5, 19.0, 22.1, 24.5, 25.7, 25.6, 24.9, 23.2, 20.6]\n"
     ]
    }
   ],
   "source": [
    "#Air Temp CRN:\n",
    "with open('CRNH0203-2022-MS_Holly_Springs_4_N.txt') as f:\n",
    "    lst=[line.split()[20] for line in f]\n",
    "    #print(lst)\n",
    "    temp_crn=[]\n",
    "    for i in lst:\n",
    "        new=i.replace(',',\"\")\n",
    "        temp_crn.append(new)\n",
    "    temp_crn=[float(x) for x in temp_crn]\n",
    "    temp_crn=temp_crn[2470:2495]\n",
    "    print(temp_crn)\n",
    "    #print(len(temp_crn))\n",
    "    # print(temp_crn[2124])"
   ]
  },
  {
   "cell_type": "code",
   "execution_count": 126,
   "id": "6226fdc5",
   "metadata": {},
   "outputs": [
    {
     "name": "stdout",
     "output_type": "stream",
     "text": [
      "[1.6600000000000001, 4.16, 2.9899999999999984, 2.4400000000000013, -3.8900000000000006, -4.789999999999999, -3.289999999999999, -2.84999, -2.51999, -2.029980000000001, -1.22999, -0.46999999999999975, -1.9599899999999995, -1.740000000000001, -0.5299899999999997, -0.9100000000000001, -1.6899999999999995, -3.25, -3.7600000000000016, -4.620000000000001, -5.16, -4.970000000000002, -5.689999999999998, -4.84, -3.2900000000000027]\n"
     ]
    }
   ],
   "source": [
    "difference4_hol = []\n",
    "\n",
    "zip_object = zip(temp, temp_crn)\n",
    "for temp_i, temp_crn_i in zip_object:\n",
    "    difference4_hol.append(temp_i-temp_crn_i)\n",
    "\n",
    "print(difference4_hol)"
   ]
  },
  {
   "cell_type": "markdown",
   "id": "2580ca75",
   "metadata": {},
   "source": [
    "<font size=\"3\">Newton, MS: 2300 UTC 13 April 2022-2300 UTC 14 April 2022</font>"
   ]
  },
  {
   "cell_type": "code",
   "execution_count": 127,
   "id": "bbb2fba3",
   "metadata": {},
   "outputs": [
    {
     "name": "stdout",
     "output_type": "stream",
     "text": [
      "[22.88, 24.34, 24.3, 23.34, 21.93, 21.52, 21.05, 21.07, 19.9, 16.21, 13.92, 12.98, 11.89, 11.6, 12.68, 14.98, 17.04, 19.69, 21.05, 22.82, 26.83, 28.29, 27.78, 26.09, 23.87]\n"
     ]
    }
   ],
   "source": [
    "#18 hr hrrr:\n",
    "with open('hrrr_f18_Newton_MS.txt') as f:\n",
    "    lst=[line.split()[4] for line in f]\n",
    "    temp=[]\n",
    "    for i in lst:\n",
    "        new=i.replace(',',\"\")\n",
    "        temp.append(new)\n",
    "    temp.pop(0)\n",
    "    temp=[float(x) for x in temp]\n",
    "    #print(temp.index(6.91541))\n",
    "    temp=temp[2453:2478]\n",
    "    print(temp)\n",
    "    #print(len(temp))\n",
    "#full time period is [2015:2112]"
   ]
  },
  {
   "cell_type": "code",
   "execution_count": 128,
   "id": "92e5271c",
   "metadata": {},
   "outputs": [
    {
     "name": "stdout",
     "output_type": "stream",
     "text": [
      "[24.0, 23.0, 22.5, 20.3, 17.0, 16.9, 17.0, 17.2, 17.2, 17.3, 16.8, 14.8, 12.9, 10.8, 12.9, 16.2, 20.3, 24.7, 28.1, 29.2, 30.4, 31.4, 30.2, 29.2, 26.4]\n"
     ]
    }
   ],
   "source": [
    "#Air Temp CRN:\n",
    "with open('CRNH0203-2022-MS_Newton_5_ENE.txt') as f:\n",
    "    lst=[line.split()[20] for line in f]\n",
    "    #print(lst)\n",
    "    temp_crn=[]\n",
    "    for i in lst:\n",
    "        new=i.replace(',',\"\")\n",
    "        temp_crn.append(new)\n",
    "    temp_crn=[float(x) for x in temp_crn]\n",
    "    temp_crn=temp_crn[2470:2495]\n",
    "    print(temp_crn)\n",
    "    #print(len(temp_crn))\n",
    "    # print(temp_crn[2124])"
   ]
  },
  {
   "cell_type": "code",
   "execution_count": 129,
   "id": "e75f9641",
   "metadata": {},
   "outputs": [
    {
     "name": "stdout",
     "output_type": "stream",
     "text": [
      "[-1.120000000000001, 1.3399999999999999, 1.8000000000000007, 3.039999999999999, 4.93, 4.620000000000001, 4.050000000000001, 3.870000000000001, 2.6999999999999993, -1.0899999999999999, -2.880000000000001, -1.8200000000000003, -1.0099999999999998, 0.7999999999999989, -0.22000000000000064, -1.2199999999999989, -3.2600000000000016, -5.009999999999998, -7.050000000000001, -6.379999999999999, -3.5700000000000003, -3.1099999999999994, -2.419999999999998, -3.1099999999999994, -2.5299999999999976]\n"
     ]
    }
   ],
   "source": [
    "difference4_new = []\n",
    "\n",
    "zip_object = zip(temp, temp_crn)\n",
    "for temp_i, temp_crn_i in zip_object:\n",
    "    difference4_new.append(temp_i-temp_crn_i)\n",
    "\n",
    "print(difference4_new)"
   ]
  },
  {
   "cell_type": "markdown",
   "id": "a7d0e1e9",
   "metadata": {},
   "source": [
    "<font size=\"3\">Gainesville, AL: 0200 UTC 14 April 2022-0200 UTC 15 April 2022</font>"
   ]
  },
  {
   "cell_type": "code",
   "execution_count": 130,
   "id": "06cf162a",
   "metadata": {},
   "outputs": [],
   "source": [
    "# #18 hr hrrr:\n",
    "# with open('hrrr_f18_Gainesville_AL (1).txt') as f:\n",
    "#     lst=[line.split()[4] for line in f]\n",
    "#     temp=[]\n",
    "#     for i in lst:\n",
    "#         new=i.replace(',',\"\")\n",
    "#         temp.append(new)\n",
    "#     temp.pop(0)\n",
    "#     temp=[float(x) for x in temp]\n",
    "#     #print(temp.index(6.91541))\n",
    "#     temp=temp[2456:2481]\n",
    "#     print(temp)\n",
    "#     #print(len(temp))\n",
    "# #full time period is [2015:2112]"
   ]
  },
  {
   "cell_type": "code",
   "execution_count": 131,
   "id": "b5314d1e",
   "metadata": {},
   "outputs": [],
   "source": [
    "# #Air Temp CRN:\n",
    "# with open('CRNH0203-2022-AL_Gainesville_2_NE.txt') as f:\n",
    "#     lst=[line.split()[20] for line in f]\n",
    "#     #print(lst)\n",
    "#     temp_crn=[]\n",
    "#     for i in lst:\n",
    "#         new=i.replace(',',\"\")\n",
    "#         temp_crn.append(new)\n",
    "#     temp_crn=[float(x) for x in temp_crn]\n",
    "#     temp_crn=temp_crn[2473:2498]\n",
    "#     print(temp_crn)\n",
    "#     #print(len(temp_crn))\n",
    "#     # print(temp_crn[2124])"
   ]
  },
  {
   "cell_type": "code",
   "execution_count": 132,
   "id": "c9db90a8",
   "metadata": {},
   "outputs": [],
   "source": [
    "# difference4_gai = []\n",
    "\n",
    "# zip_object = zip(temp, temp_crn)\n",
    "# for temp_i, temp_crn_i in zip_object:\n",
    "#     difference4_gai.append(temp_i-temp_crn_i)\n",
    "\n",
    "# print(difference4_gai)"
   ]
  },
  {
   "cell_type": "markdown",
   "id": "cdbcd1b4",
   "metadata": {},
   "source": [
    "<font size=\"3\">Fairhope, AL: 0200 UTC 14 April 2022-0200 UTC 15 April 2022</font>"
   ]
  },
  {
   "cell_type": "code",
   "execution_count": 133,
   "id": "3fdccdf0",
   "metadata": {},
   "outputs": [
    {
     "name": "stdout",
     "output_type": "stream",
     "text": [
      "[21.84, 21.51, 21.49, 21.78, 21.27, 21.17, 19.1, 18.66, 17.96, 18.4, 18.93, 19.95, 20.3, 20.76, 19.73, 25.0, 25.36, 28.61, 25.89, 21.1, 23.02, 20.28, 19.64, 20.06, 19.16]\n"
     ]
    }
   ],
   "source": [
    "#18 hr hrrr:\n",
    "with open('hrrr_f18_Fairhope_AL.txt') as f:\n",
    "    lst=[line.split()[4] for line in f]\n",
    "    temp=[]\n",
    "    for i in lst:\n",
    "        new=i.replace(',',\"\")\n",
    "        temp.append(new)\n",
    "    temp.pop(0)\n",
    "    temp=[float(x) for x in temp]\n",
    "    #print(temp.index(6.91541))\n",
    "    temp=temp[2456:2481]\n",
    "    print(temp)\n",
    "    #print(len(temp))\n",
    "#full time period is [2015:2112]"
   ]
  },
  {
   "cell_type": "code",
   "execution_count": 134,
   "id": "52234265",
   "metadata": {},
   "outputs": [
    {
     "name": "stdout",
     "output_type": "stream",
     "text": [
      "[21.5, 21.7, 21.5, 21.0, 19.5, 17.7, 17.6, 17.7, 17.6, 17.4, 17.3, 17.5, 19.0, 19.6, 20.5, 21.3, 22.2, 26.0, 26.7, 25.8, 24.7, 23.9, 21.4, 17.5, 15.7]\n"
     ]
    }
   ],
   "source": [
    "#Air Temp CRN:\n",
    "with open('CRNH0203-2022-AL_Fairhope_3_NE.txt') as f:\n",
    "    lst=[line.split()[20] for line in f]\n",
    "    #print(lst)\n",
    "    temp_crn=[]\n",
    "    for i in lst:\n",
    "        new=i.replace(',',\"\")\n",
    "        temp_crn.append(new)\n",
    "    temp_crn=[float(x) for x in temp_crn]\n",
    "    temp_crn=temp_crn[2473:2498]\n",
    "    print(temp_crn)\n",
    "    #print(len(temp_crn))\n",
    "    # print(temp_crn[2124])"
   ]
  },
  {
   "cell_type": "code",
   "execution_count": 135,
   "id": "2e2c6057",
   "metadata": {},
   "outputs": [
    {
     "name": "stdout",
     "output_type": "stream",
     "text": [
      "[0.33999999999999986, -0.18999999999999773, -0.010000000000001563, 0.7800000000000011, 1.7699999999999996, 3.4700000000000024, 1.5, 0.9600000000000009, 0.35999999999999943, 1.0, 1.629999999999999, 2.4499999999999993, 1.3000000000000007, 1.1600000000000001, -0.7699999999999996, 3.6999999999999993, 3.16, 2.6099999999999994, -0.8099999999999987, -4.699999999999999, -1.6799999999999997, -3.6199999999999974, -1.759999999999998, 2.5599999999999987, 3.460000000000001]\n"
     ]
    }
   ],
   "source": [
    "difference4_fai = []\n",
    "\n",
    "zip_object = zip(temp, temp_crn)\n",
    "for temp_i, temp_crn_i in zip_object:\n",
    "    difference4_fai.append(temp_i-temp_crn_i)\n",
    "\n",
    "print(difference4_fai)"
   ]
  },
  {
   "cell_type": "markdown",
   "id": "ba62c881",
   "metadata": {},
   "source": [
    "<font size=\"3\">Selma, AL: 0200 UTC 14 April 2022-0200 UTC 15 April 2022\n",
    "</font>"
   ]
  },
  {
   "cell_type": "code",
   "execution_count": 136,
   "id": "935d8c80",
   "metadata": {},
   "outputs": [
    {
     "name": "stdout",
     "output_type": "stream",
     "text": [
      "[20.37, 20.25, 20.35, 20.3, 19.94, 20.14, 17.76, 17.69, 19.05, 17.41, 17.32, 17.08, 16.86, 18.17, 21.56, 22.42, 22.95, 22.28, 24.76, 23.22, 20.91, 20.23, 18.0, 16.01, 14.94]\n",
      "25\n",
      "[21.7, 21.5, 20.6, 17.8, 17.4, 17.0, 17.2, 17.4, 17.3, 17.4, 17.4, 17.0, 19.2, 23.0, 26.5, 29.5, 30.9, 31.8, 32.3, 31.7, 29.8, 27.0, 22.1, 18.4, 15.9]\n",
      "25\n",
      "[-1.3299999999999983, -1.25, -0.25, 2.5, 2.5400000000000027, 3.1400000000000006, 0.5600000000000023, 0.2900000000000027, 1.75, 0.010000000000001563, -0.0799999999999983, 0.0799999999999983, -2.34, -4.829999999999998, -4.940000000000001, -7.079999999999998, -7.949999999999999, -9.52, -7.539999999999996, -8.48, -8.89, -6.77, -4.100000000000001, -2.389999999999997, -0.9600000000000009]\n",
      "25\n"
     ]
    }
   ],
   "source": [
    "#18 hr hrrr:\n",
    "with open('hrrr_f18_Selma_AL.txt') as f:\n",
    "    lst=[line.split()[4] for line in f]\n",
    "    temp=[]\n",
    "    for i in lst:\n",
    "        new=i.replace(',',\"\")\n",
    "        temp.append(new)\n",
    "    temp.pop(0)\n",
    "    temp=[float(x) for x in temp]\n",
    "    #print(temp.index(6.91541))\n",
    "    temp=temp[2456:2481]\n",
    "    \n",
    "#Air Temp CRN:\n",
    "with open('CRNH0203-2022-AL_Selma_13_WNW.txt') as f:\n",
    "    lst=[line.split()[20] for line in f]\n",
    "    #print(lst)\n",
    "    temp_crn=[]\n",
    "    for i in lst:\n",
    "        new=i.replace(',',\"\")\n",
    "        temp_crn.append(new)\n",
    "    temp_crn=[float(x) for x in temp_crn]\n",
    "    temp_crn=temp_crn[2473:2498]\n",
    "    print(temp)\n",
    "    print(len(temp))\n",
    "    print(temp_crn)\n",
    "    print(len(temp_crn))\n",
    "#full time period is [2015:2112]\n",
    "difference4_sel = []\n",
    "\n",
    "zip_object = zip(temp, temp_crn)\n",
    "for temp_i, temp_crn_i in zip_object:\n",
    "    difference4_sel.append(temp_i-temp_crn_i)\n",
    "\n",
    "print(difference4_sel)\n",
    "print(len(difference4_sel))"
   ]
  },
  {
   "cell_type": "markdown",
   "id": "3a2e6fc9",
   "metadata": {},
   "source": [
    "<font size=\"3\">Bowling Green, KY: 0200 UTC 14 April 2022-0200 UTC 15 April 2022</font>"
   ]
  },
  {
   "cell_type": "code",
   "execution_count": 137,
   "id": "a799c601",
   "metadata": {},
   "outputs": [
    {
     "name": "stdout",
     "output_type": "stream",
     "text": [
      "[16.28, 17.48, 16.24, 17.42, 10.88, 9.22, 7.70999, 7.60001, 6.39001, 5.67001, 5.62, 7.76001, 10.41, 12.65, 15.06, 17.05, 17.83, 17.67, 18.09, 17.52, 16.14, 14.28, 12.08, 10.18, 8.89001]\n"
     ]
    }
   ],
   "source": [
    "#18 hr hrrr:\n",
    "with open('hrrr_f18_Bowling Green_KY.txt') as f:\n",
    "    lst=[line.split()[4] for line in f]\n",
    "    temp=[]\n",
    "    for i in lst:\n",
    "        new=i.replace(',',\"\")\n",
    "        temp.append(new)\n",
    "    temp.pop(0)\n",
    "    temp=[float(x) for x in temp]\n",
    "    #print(temp.index(6.91541))\n",
    "    temp=temp[2456:2481]\n",
    "    print(temp)\n",
    "# with open('CRNH0203-2022-KY_Bowling_Green_21_NNE.txt') as f:\n",
    "#     lst=[line.split()[20] for line in f]\n",
    "#     #print(lst)\n",
    "#     temp_crn=[]\n",
    "#     for i in lst:\n",
    "#         new=i.replace(',',\"\")\n",
    "#         temp_crn.append(new)\n",
    "#     temp_crn=[float(x) for x in temp_crn]\n",
    "#     temp_crn=temp_crn[2136:2161]\n",
    "#     print(temp_crn)\n",
    "#     #print(len(temp))\n",
    "# #full time period is [2015:2112]"
   ]
  },
  {
   "cell_type": "code",
   "execution_count": 138,
   "id": "8b86ff4b",
   "metadata": {},
   "outputs": [],
   "source": [
    "# hour=[]\n",
    "# for i in range(-8,17,1):\n",
    "#     hour.append(i)\n",
    "#     i+=1\n",
    "# print(len(hour))"
   ]
  },
  {
   "cell_type": "code",
   "execution_count": 139,
   "id": "a22a0f0f",
   "metadata": {},
   "outputs": [
    {
     "name": "stdout",
     "output_type": "stream",
     "text": [
      "[16.3, 15.9, 15.5, 15.4, 15.4, 11.2, 9.4, 8.6, 7.4, 6.2, 3.8, 7.4, 11.1, 14.7, 18.5, 22.1, 24.3, 25.3, 25.3, 23.8, 21.6, 16.7, 11.7, 6.8, 5.5]\n"
     ]
    }
   ],
   "source": [
    "#Air Temp CRN:\n",
    "with open('CRNH0203-2022-KY_Bowling_Green_21_NNE.txt') as f:\n",
    "    lst=[line.split()[20] for line in f]\n",
    "    #print(lst)\n",
    "    temp_crn=[]\n",
    "    for i in lst:\n",
    "        new=i.replace(',',\"\")\n",
    "        temp_crn.append(new)\n",
    "    temp_crn=[float(x) for x in temp_crn]\n",
    "    temp_crn=temp_crn[2473:2498]\n",
    "    print(temp_crn)\n",
    "    #print(len(temp_crn))\n",
    "    # print(temp_crn[2124])"
   ]
  },
  {
   "cell_type": "code",
   "execution_count": 140,
   "id": "214cf6fd",
   "metadata": {},
   "outputs": [
    {
     "name": "stdout",
     "output_type": "stream",
     "text": [
      "[-0.019999999999999574, 1.58, 0.7399999999999984, 2.0200000000000014, -4.52, -1.9799999999999986, -1.69001, -0.9999899999999995, -1.0099900000000002, -0.5299899999999997, 1.8200000000000003, 0.36000999999999994, -0.6899999999999995, -2.049999999999999, -3.4399999999999995, -5.050000000000001, -6.470000000000002, -7.629999999999999, -7.210000000000001, -6.280000000000001, -5.460000000000001, -2.42, 0.3800000000000008, 3.38, 3.39001]\n"
     ]
    }
   ],
   "source": [
    "difference4_bow = []\n",
    "\n",
    "zip_object = zip(temp, temp_crn)\n",
    "for temp_i, temp_crn_i in zip_object:\n",
    "    difference4_bow.append(temp_i-temp_crn_i)\n",
    "\n",
    "print(difference4_bow)"
   ]
  },
  {
   "cell_type": "markdown",
   "id": "d5df1525",
   "metadata": {},
   "source": [
    "<font size=\"3\">Gadsden, AL: 0200 UTC 14 April 2022-0200 UTC 15 April 2022\n",
    "</font>"
   ]
  },
  {
   "cell_type": "code",
   "execution_count": 141,
   "id": "421ed42e",
   "metadata": {},
   "outputs": [
    {
     "name": "stdout",
     "output_type": "stream",
     "text": [
      "[21.45, 20.35, 19.89, 18.75, 16.82, 16.61, 16.22, 16.86, 16.55, 16.63, 13.84, 12.58, 13.62, 16.88, 18.35, 19.74, 20.81, 21.46, 21.92, 22.41, 18.25, 16.65, 14.54, 12.98, 11.92]\n"
     ]
    }
   ],
   "source": [
    "#18 hr hrrr:\n",
    "with open('hrrr_f18_Gadsden_AL.txt') as f:\n",
    "    lst=[line.split()[4] for line in f]\n",
    "    temp=[]\n",
    "    for i in lst:\n",
    "        new=i.replace(',',\"\")\n",
    "        temp.append(new)\n",
    "    temp.pop(0)\n",
    "    temp=[float(x) for x in temp]\n",
    "    #print(temp.index(6.91541))\n",
    "    temp=temp[2456:2481]\n",
    "    print(temp)\n",
    "    #print(len(temp))\n",
    "#full time period is [2015:2112]"
   ]
  },
  {
   "cell_type": "code",
   "execution_count": 142,
   "id": "4dd09550",
   "metadata": {},
   "outputs": [
    {
     "name": "stdout",
     "output_type": "stream",
     "text": [
      "[18.5, 18.4, 17.6, 17.0, 16.3, 15.3, 15.0, 15.2, 15.2, 15.2, 14.7, 13.3, 14.6, 17.1, 20.0, 23.3, 25.0, 24.8, 25.0, 23.4, 21.7, 19.3, 16.2, 12.2, 10.2]\n"
     ]
    }
   ],
   "source": [
    "#Air Temp CRN:\n",
    "with open('CRNH0203-2022-AL_Gadsden_19_N.txt') as f:\n",
    "    lst=[line.split()[20] for line in f]\n",
    "    #print(lst)\n",
    "    temp_crn=[]\n",
    "    for i in lst:\n",
    "        new=i.replace(',',\"\")\n",
    "        temp_crn.append(new)\n",
    "    temp_crn=[float(x) for x in temp_crn]\n",
    "    temp_crn=temp_crn[2473:2498]\n",
    "    print(temp_crn)\n",
    "    #print(len(temp_crn))\n",
    "    # print(temp_crn[2124])"
   ]
  },
  {
   "cell_type": "code",
   "execution_count": 143,
   "id": "7476701f",
   "metadata": {},
   "outputs": [
    {
     "name": "stdout",
     "output_type": "stream",
     "text": [
      "[2.9499999999999993, 1.9500000000000028, 2.289999999999999, 1.75, 0.5199999999999996, 1.3099999999999987, 1.2199999999999989, 1.6600000000000001, 1.3500000000000014, 1.4299999999999997, -0.8599999999999994, -0.7200000000000006, -0.9800000000000004, -0.22000000000000242, -1.6499999999999986, -3.5600000000000023, -4.190000000000001, -3.34, -3.0799999999999983, -0.9899999999999984, -3.4499999999999993, -2.650000000000002, -1.6600000000000001, 0.7800000000000011, 1.7200000000000006]\n"
     ]
    }
   ],
   "source": [
    "difference4_gad = []\n",
    "\n",
    "zip_object = zip(temp, temp_crn)\n",
    "for temp_i, temp_crn_i in zip_object:\n",
    "    difference4_gad.append(temp_i-temp_crn_i)\n",
    "\n",
    "print(difference4_gad)"
   ]
  },
  {
   "cell_type": "markdown",
   "id": "047f5261",
   "metadata": {},
   "source": [
    "<font size=\"3\">Newton, GA: 0600 UTC 14 April 2022-0600 UTC 15 April 2022\n",
    "</font>"
   ]
  },
  {
   "cell_type": "code",
   "execution_count": 144,
   "id": "6c8de3c6",
   "metadata": {},
   "outputs": [
    {
     "name": "stdout",
     "output_type": "stream",
     "text": [
      "[17.25, 16.32, 16.03, 15.37, 15.96, 18.03, 17.32, 18.98, 21.04, 27.97, 28.38, 31.63, 30.62, 30.93, 31.18, 28.28, 28.19, 21.28, 21.12, 23.36, 22.31, 22.03, 20.47, 18.69, 17.99]\n"
     ]
    }
   ],
   "source": [
    "#18 hr hrrr:\n",
    "with open('hrrr_f18_Newton_GA.txt') as f:\n",
    "    lst=[line.split()[4] for line in f]\n",
    "    temp=[]\n",
    "    for i in lst:\n",
    "        new=i.replace(',',\"\")\n",
    "        temp.append(new)\n",
    "    temp.pop(0)\n",
    "    temp=[float(x) for x in temp]\n",
    "    #print(temp.index(6.91541))\n",
    "    temp=temp[2460:2485]\n",
    "    print(temp)\n",
    "    #print(len(temp))\n",
    "#full time period is [2015:2112]"
   ]
  },
  {
   "cell_type": "code",
   "execution_count": 145,
   "id": "fb2e17c3",
   "metadata": {},
   "outputs": [
    {
     "name": "stdout",
     "output_type": "stream",
     "text": [
      "[16.8, 16.1, 17.2, 18.6, 17.8, 17.3, 17.7, 18.5, 20.1, 21.5, 25.2, 26.8, 27.3, 26.5, 27.9, 29.9, 28.6, 25.7, 22.6, 19.7, 17.9, 16.9, 16.1, 15.5, 15.4]\n"
     ]
    }
   ],
   "source": [
    "#Air Temp CRN:\n",
    "with open('CRNH0203-2022-GA_Newton_11_SW.txt') as f:\n",
    "    lst=[line.split()[20] for line in f]\n",
    "    #print(lst)\n",
    "    temp_crn=[]\n",
    "    for i in lst:\n",
    "        new=i.replace(',',\"\")\n",
    "        temp_crn.append(new)\n",
    "    temp_crn=[float(x) for x in temp_crn]\n",
    "    temp_crn=temp_crn[2477:2502]\n",
    "    print(temp_crn)\n",
    "    #print(len(temp_crn))\n",
    "    # print(temp_crn[2124])"
   ]
  },
  {
   "cell_type": "code",
   "execution_count": 146,
   "id": "37b874ca",
   "metadata": {},
   "outputs": [
    {
     "name": "stdout",
     "output_type": "stream",
     "text": [
      "[0.4499999999999993, 0.21999999999999886, -1.1699999999999982, -3.230000000000002, -1.8399999999999999, 0.7300000000000004, -0.379999999999999, 0.4800000000000004, 0.9399999999999977, 6.469999999999999, 3.1799999999999997, 4.829999999999998, 3.3200000000000003, 4.43, 3.280000000000001, -1.6199999999999974, -0.41000000000000014, -4.419999999999998, -1.4800000000000004, 3.66, 4.41, 5.130000000000003, 4.369999999999997, 3.1900000000000013, 2.589999999999998]\n"
     ]
    }
   ],
   "source": [
    "difference4_newt = []\n",
    "\n",
    "zip_object = zip(temp, temp_crn)\n",
    "for temp_i, temp_crn_i in zip_object:\n",
    "    difference4_newt.append(temp_i-temp_crn_i)\n",
    "\n",
    "print(difference4_newt)"
   ]
  },
  {
   "cell_type": "code",
   "execution_count": 147,
   "id": "d5fd370b",
   "metadata": {},
   "outputs": [
    {
     "name": "stdout",
     "output_type": "stream",
     "text": [
      "[ 2.05181818  1.80818182  2.00636364  2.12272727  2.47545455  2.28454545\n",
      "  2.24727273  2.07545455  1.13909091  1.36090909  1.00363636  0.97090909\n",
      "  0.59090909  0.67090909  0.16545455 -0.06363545 -0.75090909 -1.198996\n",
      " -1.053994   -1.142994   -1.327998   -2.40636    -2.41090727 -2.15999545\n",
      " -2.47090545]\n",
      "[1.84866939 1.46688797 1.63245645 1.58267949 1.84850979 2.05971915\n",
      " 1.63037135 1.86375654 1.95913921 1.1431651  1.13415786 1.94018019\n",
      " 1.98794757 1.58458744 1.46715162 1.18187251 1.26845256 1.835548\n",
      " 2.24028431 2.47404498 2.41551423 3.02762019 2.34382336 2.19389219\n",
      " 2.70450859]\n"
     ]
    },
    {
     "name": "stderr",
     "output_type": "stream",
     "text": [
      "C:\\Users\\panwalaf\\AppData\\Local\\Temp\\ipykernel_7464\\2334402417.py:3: UserWarning: Warning: converting a masked element to nan.\n",
      "  c1 = np.array([difference1_sal,difference1_bat,difference1_laf,difference1_mon,difference1_hol,difference1_new,difference1_fai,difference1_sel,difference1_bow,difference1_gad,difference1_newt])\n",
      "C:\\Users\\panwalaf\\AppData\\Local\\Temp\\ipykernel_7464\\2334402417.py:8: UserWarning: Warning: converting a masked element to nan.\n",
      "  b1 = np.array([difference1_sal,difference1_bat,difference1_laf,difference1_mon,difference1_hol,difference1_new,difference1_fai,difference1_sel,difference1_bow,difference1_gad,difference1_newt])\n"
     ]
    },
    {
     "data": {
      "text/plain": [
       "25"
      ]
     },
     "execution_count": 147,
     "metadata": {},
     "output_type": "execute_result"
    }
   ],
   "source": [
    "# data = np.array([difference1_sal,difference1_sel,difference1_mon])\n",
    "# np.ma.average(data, axis=0)\n",
    "c1 = np.array([difference1_sal,difference1_bat,difference1_laf,difference1_mon,difference1_hol,difference1_new,difference1_fai,difference1_sel,difference1_bow,difference1_gad,difference1_newt])\n",
    "c1=np.nanmean(c1, axis=0)\n",
    "print(c1)\n",
    "len(c1)\n",
    "\n",
    "b1 = np.array([difference1_sal,difference1_bat,difference1_laf,difference1_mon,difference1_hol,difference1_new,difference1_fai,difference1_sel,difference1_bow,difference1_gad,difference1_newt])\n",
    "b1=np.nanstd(b1, axis=0)\n",
    "print(b1)\n",
    "len(b1)"
   ]
  },
  {
   "cell_type": "code",
   "execution_count": 148,
   "id": "0400ce89",
   "metadata": {
    "scrolled": false
   },
   "outputs": [],
   "source": [
    "# def mean(numbers):\n",
    "#     return float(sum(numbers)) / max(len(numbers), 1)\n",
    "\n",
    "# # difference1_sel[17]=None\n",
    "# # difference1_sel[18]=None\n",
    "# # difference1_sel[19]=None\n",
    "# # difference1_sel[20]=None\n",
    "# c1 = [mean(i) for i in zip(difference1_sal,difference1_bat,difference1_laf,difference1_mon,difference1_hol,difference1_new,difference1_gai,difference1_fai,difference1_sel,difference1_bow,difference1_gad,difference1_newt)]\n",
    "# #difference1_bow[6]=0\n",
    "# b1 = [np.std(i) for i in zip(difference1_sal,difference1_bat,difference1_laf,difference1_mon,difference1_hol,difference1_new,difference1_gai,difference1_fai,difference1_sel,difference1_bow,difference1_gad,difference1_newt)]\n",
    "# print (c1)\n",
    "# print(len(c1))\n",
    "# print(b1)\n",
    "# print(len(b1))"
   ]
  },
  {
   "cell_type": "code",
   "execution_count": 149,
   "id": "7d6e3e43",
   "metadata": {},
   "outputs": [
    {
     "data": {
      "image/png": "[encoded data removed]",
      "text/plain": [
       "<Figure size 792x396 with 1 Axes>"
      ]
     },
     "metadata": {},
     "output_type": "display_data"
    }
   ],
   "source": [
    "plt.style.use('seaborn-whitegrid')\n",
    "plt.rcParams[\"figure.figsize\"] = [11.00, 5.50]\n",
    "plt.rcParams[\"figure.autolayout\"] = True\n",
    "plt.yticks(np.arange(-7,8,1))\n",
    "plt.ylim(-7,7)\n",
    "# c[6]=None\n",
    "# b[6]=None\n",
    "\n",
    "plt.plot(hour,c1,c=\"black\")\n",
    "plt.errorbar(hour,c1,yerr=b1,linestyle='None', marker='s')\n",
    "# c[6]=None\n",
    "# b[6]=None\n",
    "\n",
    "plt.title(\"18-hr Avg. MBE All Stations\")\n",
    "plt.xlabel(\"Time Relative to Event Passage\")\n",
    "plt.ylabel(\"MBE Surface Temperature (C)\")\n",
    "#plt.plot(hour,c)\n",
    "#plt.errorbar(hour,c,yerr=b,ecolor='r',elinewidth=5,fmt='s',color='k')\n",
    "#plt.grid()\n",
    "plt.xticks(np.arange(min(hour), max(hour)+1, 1.0))\n",
    "plt.show()\n",
    "#plt.axvspan(-4, 4, color='green', alpha=0.2, lw=0)"
   ]
  },
  {
   "cell_type": "code",
   "execution_count": 150,
   "id": "d14691f0",
   "metadata": {},
   "outputs": [
    {
     "name": "stdout",
     "output_type": "stream",
     "text": [
      "[ 1.24454545  0.20090909  0.68727273  0.77        0.78        1.17181818\n",
      "  1.177       1.08818182  1.10636364  0.92909091  0.99909091  0.49636364\n",
      " -0.01727182 -0.23818091 -0.23363273 -1.03908727 -1.68908455 -1.63545091\n",
      " -1.30181545 -1.63181273 -2.14908727 -2.79090636 -2.60908818 -1.89727091\n",
      " -1.84545273]\n",
      "[1.81373228 1.7169659  1.26049839 1.41734066 1.67625123 1.97530121\n",
      " 2.16072696 1.59020192 1.8910472  2.49924154 2.21218302 2.13478241\n",
      " 1.76258468 1.53130413 1.88972334 2.08504432 2.46733652 2.76099362\n",
      " 3.42338268 3.52840816 3.70448981 3.06572899 3.15293605 3.02834457\n",
      " 3.73276337]\n"
     ]
    },
    {
     "name": "stderr",
     "output_type": "stream",
     "text": [
      "C:\\Users\\panwalaf\\AppData\\Local\\Temp\\ipykernel_7464\\4244075433.py:1: UserWarning: Warning: converting a masked element to nan.\n",
      "  c2 = np.array([difference2_sal,difference2_bat,difference2_laf,difference2_mon,difference2_hol,difference2_new,difference2_fai,difference2_sel,difference2_bow,difference2_gad,difference2_newt])\n",
      "C:\\Users\\panwalaf\\AppData\\Local\\Temp\\ipykernel_7464\\4244075433.py:6: UserWarning: Warning: converting a masked element to nan.\n",
      "  b2 = np.array([difference2_sal,difference2_bat,difference2_laf,difference2_mon,difference2_hol,difference2_new,difference2_fai,difference2_sel,difference2_bow,difference2_gad,difference2_newt])\n"
     ]
    },
    {
     "data": {
      "text/plain": [
       "25"
      ]
     },
     "execution_count": 150,
     "metadata": {},
     "output_type": "execute_result"
    }
   ],
   "source": [
    "c2 = np.array([difference2_sal,difference2_bat,difference2_laf,difference2_mon,difference2_hol,difference2_new,difference2_fai,difference2_sel,difference2_bow,difference2_gad,difference2_newt])\n",
    "c2=np.nanmean(c2, axis=0)\n",
    "print(c2)\n",
    "len(c2)\n",
    "\n",
    "b2 = np.array([difference2_sal,difference2_bat,difference2_laf,difference2_mon,difference2_hol,difference2_new,difference2_fai,difference2_sel,difference2_bow,difference2_gad,difference2_newt])\n",
    "b2=np.nanstd(b2, axis=0)\n",
    "print(b2)\n",
    "len(b2)"
   ]
  },
  {
   "cell_type": "code",
   "execution_count": 151,
   "id": "7be0954b",
   "metadata": {
    "scrolled": false
   },
   "outputs": [],
   "source": [
    "# def mean(numbers):\n",
    "#     return float(sum(numbers)) / max(len(numbers), 1)\n",
    "\n",
    "# # difference1_sel[17]=0\n",
    "# # difference1_sel[18]=0\n",
    "# # difference1_sel[19]=0\n",
    "# # difference1_sel[20]=0\n",
    "# c2 = [mean(i) for i in zip(difference2_sal,difference2_bat,difference2_laf,difference2_mon,difference2_hol,difference2_new,difference2_gai,difference2_fai,difference2_sel,difference2_bow,difference2_gad,difference2_newt)]\n",
    "# #difference1_bow[6]=0\n",
    "# b2 = [np.std(i) for i in zip(difference2_sal,difference2_bat,difference2_laf,difference2_mon,difference2_hol,difference2_new,difference2_gai,difference2_fai,difference2_sel,difference2_bow,difference2_gad,difference2_newt)]\n",
    "# print (c2)\n",
    "# print(len(c2))\n",
    "# print(b2)\n",
    "# print(len(b2))"
   ]
  },
  {
   "cell_type": "code",
   "execution_count": 152,
   "id": "4c8ac8a3",
   "metadata": {},
   "outputs": [
    {
     "data": {
      "image/png": "[encoded data removed]",
      "text/plain": [
       "<Figure size 792x396 with 1 Axes>"
      ]
     },
     "metadata": {},
     "output_type": "display_data"
    }
   ],
   "source": [
    "plt.style.use('seaborn-whitegrid')\n",
    "plt.rcParams[\"figure.figsize\"] = [11.00, 5.50]\n",
    "plt.rcParams[\"figure.autolayout\"] = True\n",
    "plt.yticks(np.arange(-7,8,1))\n",
    "plt.ylim(-7,7)\n",
    "# c[6]=None\n",
    "# b[6]=None\n",
    "\n",
    "plt.plot(hour,c2,c=\"black\")\n",
    "plt.errorbar(hour,c2,c=\"r\",yerr=b2,linestyle='None', marker='s')\n",
    "# c[6]=None\n",
    "# b[6]=None\n",
    "\n",
    "plt.title(\"18-hr Avg. MBE All Stations\")\n",
    "plt.xlabel(\"Time Relative to Event Passage\")\n",
    "plt.ylabel(\"MBE Surface Temperature (C)\")\n",
    "#plt.plot(hour,c)\n",
    "#plt.errorbar(hour,c,yerr=b,ecolor='r',elinewidth=5,fmt='s',color='k')\n",
    "#plt.grid()\n",
    "plt.xticks(np.arange(min(hour), max(hour)+1, 1.0))\n",
    "plt.show()\n",
    "#plt.axvspan(-4, 4, color='green', alpha=0.2, lw=0)"
   ]
  },
  {
   "cell_type": "code",
   "execution_count": 153,
   "id": "e0b94a04",
   "metadata": {},
   "outputs": [
    {
     "name": "stdout",
     "output_type": "stream",
     "text": [
      "[ 1.30363636  1.63818182  1.51        1.64818182  1.20909091  1.40636364\n",
      "  0.53454545 -1.01727273 -1.14090909 -0.74272727 -0.04181818 -0.89818273\n",
      " -0.31090909  0.35636545  0.65909182  1.23272727  0.71363727  0.15727273\n",
      " -0.35999909 -0.42909091  0.12090909 -0.35363636 -0.76818273 -0.92272818\n",
      " -0.74090909]\n",
      "[1.38877495 1.51654403 1.18915554 2.30347097 1.39379439 1.51672658\n",
      " 1.77647436 2.32301955 2.77194534 2.95591577 3.84166114 2.94366143\n",
      " 2.46132431 1.56359026 1.01432833 1.18595639 2.27706798 1.8524779\n",
      " 0.99791554 1.13416733 1.06509457 1.35938671 0.90562791 0.96167608\n",
      " 1.56938004]\n"
     ]
    },
    {
     "data": {
      "text/plain": [
       "25"
      ]
     },
     "execution_count": 153,
     "metadata": {},
     "output_type": "execute_result"
    }
   ],
   "source": [
    "c3 = np.array([difference3_sal,difference3_bat,difference3_laf,difference3_mon,difference3_hol,difference3_new,difference3_fai,difference3_sel,difference3_bow,difference3_gad,difference3_newt])\n",
    "c3=np.nanmean(c3, axis=0)\n",
    "print(c3)\n",
    "len(c3)\n",
    "\n",
    "b3 = np.array([difference3_sal,difference3_bat,difference3_laf,difference3_mon,difference3_hol,difference3_new,difference3_fai,difference3_sel,difference3_bow,difference3_gad,difference3_newt])\n",
    "b3=np.nanstd(b3, axis=0)\n",
    "print(b3)\n",
    "len(b3)"
   ]
  },
  {
   "cell_type": "code",
   "execution_count": 154,
   "id": "0d8bef30",
   "metadata": {
    "scrolled": false
   },
   "outputs": [],
   "source": [
    "# def mean(numbers):\n",
    "#     return float(sum(numbers)) / max(len(numbers), 1)\n",
    "\n",
    "# # difference1_sel[17]=0\n",
    "# # difference1_sel[18]=0\n",
    "# # difference1_sel[19]=0\n",
    "# # difference1_sel[20]=0\n",
    "# c3 = [mean(i) for i in zip(difference3_sal,difference3_bat,difference3_laf,difference3_mon,difference3_hol,difference3_new,difference3_gai,difference3_fai,difference3_sel,difference3_bow,difference3_gad,difference3_newt)]\n",
    "# #difference1_bow[6]=0\n",
    "# b3 = [np.std(i) for i in zip(difference3_sal,difference3_bat,difference3_laf,difference3_mon,difference3_hol,difference3_new,difference3_gai,difference3_fai,difference3_sel,difference3_bow,difference3_gad,difference3_newt)]\n",
    "# print (c3)\n",
    "# print(len(c3))\n",
    "# print(b3)\n",
    "# print(len(b3))"
   ]
  },
  {
   "cell_type": "code",
   "execution_count": 155,
   "id": "00a5e783",
   "metadata": {},
   "outputs": [
    {
     "data": {
      "image/png": "[encoded data removed]",
      "text/plain": [
       "<Figure size 792x396 with 1 Axes>"
      ]
     },
     "metadata": {},
     "output_type": "display_data"
    }
   ],
   "source": [
    "plt.style.use('seaborn-whitegrid')\n",
    "plt.rcParams[\"figure.figsize\"] = [11.00, 5.50]\n",
    "plt.rcParams[\"figure.autolayout\"] = True\n",
    "plt.yticks(np.arange(-7,8,1))\n",
    "plt.ylim(-7,7)\n",
    "# c[6]=None\n",
    "# b[6]=None\n",
    "\n",
    "plt.plot(hour,c3,c=\"green\")\n",
    "plt.errorbar(hour,c3,c=\"green\",yerr=b3,linestyle='None', marker='s')\n",
    "# c[6]=None\n",
    "# b[6]=None\n",
    "\n",
    "plt.title(\"18-hr Avg. MBE All Stations\")\n",
    "plt.xlabel(\"Time Relative to Event Passage\")\n",
    "plt.ylabel(\"MBE Surface Temperature (C)\")\n",
    "#plt.plot(hour,c)\n",
    "#plt.errorbar(hour,c,yerr=b,ecolor='r',elinewidth=5,fmt='s',color='k')\n",
    "#plt.grid()\n",
    "plt.xticks(np.arange(min(hour), max(hour)+1, 1.0))\n",
    "plt.show()\n",
    "#plt.axvspan(-4, 4, color='green', alpha=0.2, lw=0)"
   ]
  },
  {
   "cell_type": "code",
   "execution_count": 156,
   "id": "a2b4f439",
   "metadata": {},
   "outputs": [
    {
     "name": "stdout",
     "output_type": "stream",
     "text": [
      "[ 0.51        1.03909091  1.21363636  1.15363636  0.52727273  0.92818182\n",
      "  0.09272818 -0.04272636  0.79182091  0.90454818  0.41363909  0.50454727\n",
      " -0.42636182 -0.33909091 -0.73636273 -1.11636273 -1.40181727 -1.99908727\n",
      " -2.11636273 -2.04090818 -1.69545336 -1.50090573 -0.82636182 -0.53454545\n",
      " -0.31272636]\n",
      "[1.59678655 1.49235905 2.23434055 1.80976278 2.79677116 2.6923083\n",
      " 2.1188328  1.79768496 2.47681641 2.97413894 1.88760056 1.93879595\n",
      " 1.64970527 2.1765797  2.09943409 3.02143979 3.54957853 4.30898652\n",
      " 3.89384579 4.20365636 4.10628354 3.90345177 3.57164688 3.18310987\n",
      " 2.82249555]\n"
     ]
    },
    {
     "data": {
      "text/plain": [
       "25"
      ]
     },
     "execution_count": 156,
     "metadata": {},
     "output_type": "execute_result"
    }
   ],
   "source": [
    "c4 = np.array([difference4_sal,difference4_bat,difference4_laf,difference4_mon,difference4_hol,difference4_new,difference4_fai,difference4_sel,difference4_bow,difference4_gad,difference4_newt])\n",
    "c4=np.nanmean(c4, axis=0)\n",
    "print(c4)\n",
    "len(c4)\n",
    "\n",
    "b4 = np.array([difference4_sal,difference4_bat,difference4_laf,difference4_mon,difference4_hol,difference4_new,difference4_fai,difference4_sel,difference4_bow,difference4_gad,difference4_newt])\n",
    "b4=np.nanstd(b4, axis=0)\n",
    "print(b4)\n",
    "len(b4)"
   ]
  },
  {
   "cell_type": "code",
   "execution_count": 157,
   "id": "b1774c6c",
   "metadata": {
    "scrolled": false
   },
   "outputs": [],
   "source": [
    "# def mean(numbers):\n",
    "#     return float(sum(numbers)) / max(len(numbers), 1)\n",
    "\n",
    "# # difference1_sel[17]=0\n",
    "# # difference1_sel[18]=0\n",
    "# # difference1_sel[19]=0\n",
    "# # difference1_sel[20]=0\n",
    "# c4 = [mean(i) for i in zip(difference4_sal,difference4_bat,difference4_laf,difference4_mon,difference4_hol,difference4_new,difference4_gai,difference4_fai,difference4_sel,difference4_bow,difference4_gad,difference4_newt)]\n",
    "# #difference1_bow[6]=0\n",
    "# b4 = [np.std(i) for i in zip(difference4_sal,difference4_bat,difference4_laf,difference4_mon,difference4_hol,difference4_new,difference4_gai,difference4_fai,difference4_sel,difference4_bow,difference4_gad,difference4_newt)]\n",
    "# print (c4)\n",
    "# print(len(c4))\n",
    "# print(b4)\n",
    "# print(len(b4))"
   ]
  },
  {
   "cell_type": "code",
   "execution_count": 158,
   "id": "e70a6cef",
   "metadata": {},
   "outputs": [
    {
     "data": {
      "image/png": "[encoded data removed]",
      "text/plain": [
       "<Figure size 792x396 with 1 Axes>"
      ]
     },
     "metadata": {},
     "output_type": "display_data"
    }
   ],
   "source": [
    "plt.style.use('seaborn-whitegrid')\n",
    "plt.rcParams[\"figure.figsize\"] = [11.00, 5.50]\n",
    "plt.rcParams[\"figure.autolayout\"] = True\n",
    "plt.yticks(np.arange(-7,8,1))\n",
    "plt.ylim(-7,7)\n",
    "# c[6]=None\n",
    "# b[6]=None\n",
    "\n",
    "plt.plot(hour,c4,c=\"orange\")\n",
    "plt.errorbar(hour,c4,c=\"orange\",yerr=b4,linestyle='None', marker='s')\n",
    "# c[6]=None\n",
    "# b[6]=None\n",
    "\n",
    "plt.title(\"18-hr Avg. MBE All Stations\")\n",
    "plt.xlabel(\"Time Relative to Event Passage\")\n",
    "plt.ylabel(\"MBE Surface Temperature (C)\")\n",
    "#plt.plot(hour,c)\n",
    "#plt.errorbar(hour,c,yerr=b,ecolor='r',elinewidth=5,fmt='s',color='k')\n",
    "#plt.grid()\n",
    "plt.xticks(np.arange(min(hour), max(hour)+1, 1.0))\n",
    "plt.show()\n",
    "#plt.axvspan(-4, 4, color='green', alpha=0.2, lw=0)"
   ]
  },
  {
   "cell_type": "code",
   "execution_count": null,
   "id": "f721b50a",
   "metadata": {},
   "outputs": [],
   "source": []
  },
  {
   "cell_type": "code",
   "execution_count": 159,
   "id": "240eafe4",
   "metadata": {},
   "outputs": [
    {
     "data": {
      "image/png": "[encoded data removed]",
      "text/plain": [
       "<Figure size 792x396 with 1 Axes>"
      ]
     },
     "metadata": {},
     "output_type": "display_data"
    }
   ],
   "source": [
    "plt.style.use('seaborn-whitegrid')\n",
    "plt.rcParams[\"figure.figsize\"] = [11.00, 5.50]\n",
    "plt.rcParams[\"figure.autolayout\"] = True\n",
    "plt.yticks(np.arange(-7,8,1))\n",
    "plt.ylim(-7,7)\n",
    "\n",
    "plt.plot(hour,c1,c=\"b\",label=\"IOP 1\")\n",
    "plt.errorbar(hour,c1,c=\"b\",yerr=b1,linestyle='None', marker='s')\n",
    "\n",
    "plt.plot(hour,c2,c=\"r\",label=\"IOP 2\")\n",
    "plt.errorbar(hour,c2,c=\"r\",yerr=b2,linestyle='None', marker='s')\n",
    "\n",
    "plt.plot(hour,c3,c=\"green\")\n",
    "plt.errorbar(hour,c3,c=\"green\",yerr=b3,linestyle='None', marker='s')\n",
    "\n",
    "plt.plot(hour,c4,c=\"orange\")\n",
    "plt.errorbar(hour,c4,c=\"orange\",yerr=b4,linestyle='None', marker='s')\n",
    "\n",
    "plt.title(\"18-hr Avg. MBE All Stations\")\n",
    "plt.xlabel(\"Time Relative to Event Passage\")\n",
    "plt.ylabel(\"MBE Surface Temperature (C)\")\n",
    "#plt.plot(hour,c)\n",
    "#plt.errorbar(hour,c,yerr=b,ecolor='r',elinewidth=5,fmt='s',color='k')\n",
    "#plt.grid()\n",
    "plt.xticks(np.arange(min(hour), max(hour)+1, 1.0))\n",
    "plt.legend([\"IOP 1\", \"IOP 2\",\"IOP 3\",\"IOP 4\"], loc =\"upper right\")\n",
    "plt.show()"
   ]
  },
  {
   "cell_type": "code",
   "execution_count": null,
   "id": "f20cc188",
   "metadata": {},
   "outputs": [],
   "source": []
  }
 ],
 "metadata": {
  "kernelspec": {
   "display_name": "Python 3 (ipykernel)",
   "language": "python",
   "name": "python3"
  },
  "language_info": {
   "codemirror_mode": {
    "name": "ipython",
    "version": 3
   },
   "file_extension": ".py",
   "mimetype": "text/x-python",
   "name": "python",
   "nbconvert_exporter": "python",
   "pygments_lexer": "ipython3",
   "version": "3.9.12"
  }
 },
 "nbformat": 4,
 "nbformat_minor": 5
}
