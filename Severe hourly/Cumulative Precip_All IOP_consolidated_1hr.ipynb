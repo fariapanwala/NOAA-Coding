{
 "cells": [
  {
   "cell_type": "code",
   "execution_count": 1,
   "id": "83d28093",
   "metadata": {},
   "outputs": [],
   "source": [
    "import numpy as np\n",
    "import matplotlib.pyplot as plt\n",
    "import math"
   ]
  },
  {
   "cell_type": "markdown",
   "id": "18ad22a0",
   "metadata": {},
   "source": [
    "<font size=\"3\">Salem, MO: 1200 UTC 22 March 2022-1200 UTC 23 March 2022</font>"
   ]
  },
  {
   "cell_type": "code",
   "execution_count": 2,
   "id": "9d3b9481",
   "metadata": {},
   "outputs": [],
   "source": [
    "# #1 hr hrrr:\n",
    "# with open('hrrr_f01_Salem_MO.txt') as f:\n",
    "#     lst=[line.split()[2] for line in f]\n",
    "#     temp=[]\n",
    "#     for i in lst:\n",
    "#         new=i.replace(',',\"\")\n",
    "#         temp.append(new)\n",
    "#     temp.pop(0)\n",
    "#     temp=[float(x) for x in temp]\n",
    "#     temp=temp[1931:1956]\n",
    "#     #temp=temp[2015:2063]\n",
    "#     temp=np.cumsum(temp)\n",
    "#     print(temp)\n",
    "# #full time period is [2015:2112]"
   ]
  },
  {
   "cell_type": "code",
   "execution_count": 3,
   "id": "e9d4dbcc",
   "metadata": {},
   "outputs": [],
   "source": [
    "# #Air Temp CRN:\n",
    "# with open('CRNH0203-2022-MO_Salem_10_W.txt') as f:\n",
    "#     lst=[line.split()[12] for line in f]\n",
    "#     #print(lst)\n",
    "#     temp_crn=[]\n",
    "#     for i in lst:\n",
    "#         new=i.replace(',',\"\")\n",
    "#         temp_crn.append(new)\n",
    "#     temp_crn=[float(x) for x in temp_crn]\n",
    "#     temp_crn=temp_crn[1931:1956]\n",
    "#     temp_crn=np.cumsum(temp_crn)\n",
    "#     print(temp_crn)\n",
    "#     # print(temp_crn[2124])"
   ]
  },
  {
   "cell_type": "code",
   "execution_count": 4,
   "id": "75f1136d-8437-4565-9336-ca8529a631e6",
   "metadata": {},
   "outputs": [
    {
     "name": "stdout",
     "output_type": "stream",
     "text": [
      "25\n"
     ]
    }
   ],
   "source": [
    "hour=[]\n",
    "for i in range(-12,13,1):\n",
    "    hour.append(i)\n",
    "    i+=1\n",
    "print(len(hour))"
   ]
  },
  {
   "cell_type": "code",
   "execution_count": 5,
   "id": "1e9aed03-d99c-4045-812a-e26bcc99b84f",
   "metadata": {},
   "outputs": [],
   "source": [
    "# difference1_sal = []\n",
    "\n",
    "# zip_object = zip(temp, temp_crn)\n",
    "# for temp_i, temp_crn_i in zip_object:\n",
    "#     difference1_sal.append(temp_i-temp_crn_i)\n",
    "\n",
    "# print(difference1_sal)"
   ]
  },
  {
   "cell_type": "markdown",
   "id": "9043c519",
   "metadata": {},
   "source": [
    "<font size=\"3\">Batesville, AR: 1200 UTC 22 March 2022-1200 UTC 23 March 2022</font>"
   ]
  },
  {
   "cell_type": "code",
   "execution_count": 6,
   "id": "af395ecc",
   "metadata": {},
   "outputs": [
    {
     "name": "stdout",
     "output_type": "stream",
     "text": [
      "[2.328 3.198 3.802 4.812 5.49  6.287 7.607 8.113 8.114 8.114 8.114 8.153\n",
      " 8.307 8.39  8.405 8.635 8.655 8.655 8.655 8.655 8.655 8.655 8.655 8.655\n",
      " 8.655]\n"
     ]
    }
   ],
   "source": [
    "#1 hr hrrr:\n",
    "with open('hrrr_f01_Batesville_AR.txt') as f:\n",
    "    lst=[line.split()[2] for line in f]\n",
    "    temp=[]\n",
    "    for i in lst:\n",
    "        new=i.replace(',',\"\")\n",
    "        temp.append(new)\n",
    "    temp.pop(0)\n",
    "    temp=[float(x) for x in temp]\n",
    "    temp=temp[1931:1956]\n",
    "    #temp=temp[2015:2063]\n",
    "    temp=np.cumsum(temp)\n",
    "    print(temp)\n",
    "#full time period is [2015:2112]"
   ]
  },
  {
   "cell_type": "code",
   "execution_count": 7,
   "id": "11b7f8b7",
   "metadata": {},
   "outputs": [
    {
     "name": "stdout",
     "output_type": "stream",
     "text": [
      "[ 4.3  6.8  8.3 10.4 10.6 12.4 15.4 15.4 15.4 15.4 15.4 15.4 16.5 16.5\n",
      " 16.8 17.  17.  17.  17.  17.  17.  17.  17.  17.  17. ]\n"
     ]
    }
   ],
   "source": [
    "#Air Temp CRN:\n",
    "with open('CRNH0203-2022-AR_Batesville_8_WNW.txt') as f:\n",
    "    lst=[line.split()[12] for line in f]\n",
    "    #print(lst)\n",
    "    temp_crn=[]\n",
    "    for i in lst:\n",
    "        new=i.replace(',',\"\")\n",
    "        temp_crn.append(new)\n",
    "    temp_crn=[float(x) for x in temp_crn]\n",
    "    temp_crn=temp_crn[1931:1956]\n",
    "    temp_crn=np.cumsum(temp_crn)\n",
    "    print(temp_crn)\n",
    "    # print(temp_crn[2124])"
   ]
  },
  {
   "cell_type": "code",
   "execution_count": 8,
   "id": "62a46873",
   "metadata": {},
   "outputs": [
    {
     "name": "stdout",
     "output_type": "stream",
     "text": [
      "[-1.972, -3.602, -4.498000000000001, -5.588, -5.109999999999999, -6.113, -7.793, -7.287000000000001, -7.286000000000001, -7.286000000000001, -7.286000000000001, -7.247000000000002, -8.193000000000001, -8.110000000000001, -8.395000000000001, -8.365, -8.345, -8.345, -8.345, -8.345, -8.345, -8.345, -8.345, -8.345, -8.345]\n"
     ]
    }
   ],
   "source": [
    "difference1_bat = []\n",
    "\n",
    "zip_object = zip(temp, temp_crn)\n",
    "for temp_i, temp_crn_i in zip_object:\n",
    "    difference1_bat.append(temp_i-temp_crn_i)\n",
    "\n",
    "print(difference1_bat)"
   ]
  },
  {
   "cell_type": "markdown",
   "id": "2a2589df",
   "metadata": {},
   "source": [
    "<font size=\"3\">Lafayette, LA: 1500 UTC 22 March 2022-1500 UTC 23 March 2022</font>"
   ]
  },
  {
   "cell_type": "code",
   "execution_count": 9,
   "id": "3fd34af2",
   "metadata": {},
   "outputs": [
    {
     "name": "stdout",
     "output_type": "stream",
     "text": [
      "[ 0.416  0.422  0.422  1.052  1.097 21.687 24.393 24.418 24.418 24.418\n",
      " 24.418 24.418 24.418 24.418 24.418 24.418 24.418 24.418 24.418 24.418\n",
      " 24.418 24.418 24.418 24.418 24.418]\n"
     ]
    }
   ],
   "source": [
    "#1 hr hrrr:\n",
    "with open('hrrr_f01_Lafayette_LA.txt') as f:\n",
    "    lst=[line.split()[2] for line in f]\n",
    "    temp=[]\n",
    "    for i in lst:\n",
    "        new=i.replace(',',\"\")\n",
    "        temp.append(new)\n",
    "    temp.pop(0)\n",
    "    temp=[float(x) for x in temp]\n",
    "    temp=temp[1934:1959]\n",
    "    #temp=temp[2015:2063]\n",
    "    temp=np.cumsum(temp)\n",
    "    print(temp)\n",
    "#full time period is [2015:2112]"
   ]
  },
  {
   "cell_type": "code",
   "execution_count": 10,
   "id": "bfe1bb32",
   "metadata": {},
   "outputs": [
    {
     "name": "stdout",
     "output_type": "stream",
     "text": [
      "[ 0.   0.   0.   0.   0.  23.1 24.3 24.3 24.3 24.3 24.3 24.3 24.3 24.3\n",
      " 24.3 24.3 24.3 24.3 24.3 24.3 24.3 24.3 24.3 24.3 24.3]\n"
     ]
    }
   ],
   "source": [
    "#Air Temp CRN:\n",
    "with open('CRNH0203-2022-LA_Lafayette_13_SE.txt') as f:\n",
    "    lst=[line.split()[12] for line in f]\n",
    "    #print(lst)\n",
    "    temp_crn=[]\n",
    "    for i in lst:\n",
    "        new=i.replace(',',\"\")\n",
    "        temp_crn.append(new)\n",
    "    temp_crn=[float(x) for x in temp_crn]\n",
    "    temp_crn=temp_crn[1934:1959]\n",
    "    temp_crn=np.cumsum(temp_crn)\n",
    "    print(temp_crn)\n",
    "    # print(temp_crn[2124])"
   ]
  },
  {
   "cell_type": "code",
   "execution_count": 11,
   "id": "9b94d0f9",
   "metadata": {},
   "outputs": [
    {
     "name": "stdout",
     "output_type": "stream",
     "text": [
      "[0.416, 0.422, 0.422, 1.052, 1.097, -1.4130000000000003, 0.09299999999999997, 0.11799999999999855, 0.11799999999999855, 0.11799999999999855, 0.11799999999999855, 0.11799999999999855, 0.11799999999999855, 0.11799999999999855, 0.11799999999999855, 0.11799999999999855, 0.11799999999999855, 0.11799999999999855, 0.11799999999999855, 0.11799999999999855, 0.11799999999999855, 0.11799999999999855, 0.11799999999999855, 0.11799999999999855, 0.11799999999999855]\n"
     ]
    }
   ],
   "source": [
    "difference1_laf = []\n",
    "\n",
    "zip_object = zip(temp, temp_crn)\n",
    "for temp_i, temp_crn_i in zip_object:\n",
    "    difference1_laf.append(temp_i-temp_crn_i)\n",
    "\n",
    "print(difference1_laf)"
   ]
  },
  {
   "cell_type": "markdown",
   "id": "7a8d079f",
   "metadata": {},
   "source": [
    "<font size=\"3\">Monroe, LA: 1500 UTC 22 March 2022-1500 UTC 23 March 2022</font>"
   ]
  },
  {
   "cell_type": "code",
   "execution_count": 12,
   "id": "9c6d2382",
   "metadata": {},
   "outputs": [
    {
     "name": "stdout",
     "output_type": "stream",
     "text": [
      "[ 1.515  4.393  5.236 14.634 16.991 17.08  17.086 17.086 17.426 17.427\n",
      " 17.428 17.466 17.466 17.466 17.466 17.466 17.466 17.466 17.466 17.466\n",
      " 17.466 17.466 17.466 17.466 17.466]\n"
     ]
    }
   ],
   "source": [
    "#1 hr hrrr:\n",
    "with open('hrrr_f01_Monroe_LA.txt') as f:\n",
    "    lst=[line.split()[2] for line in f]\n",
    "    temp=[]\n",
    "    for i in lst:\n",
    "        new=i.replace(',',\"\")\n",
    "        temp.append(new)\n",
    "    temp.pop(0)\n",
    "    temp=[float(x) for x in temp]\n",
    "    temp=temp[1934:1959]\n",
    "    #temp=temp[2015:2063]\n",
    "    temp=np.cumsum(temp)\n",
    "    print(temp)\n",
    "#full time period is [2015:2112]"
   ]
  },
  {
   "cell_type": "code",
   "execution_count": 13,
   "id": "5c3999a7",
   "metadata": {},
   "outputs": [
    {
     "name": "stdout",
     "output_type": "stream",
     "text": [
      "[ 9.2 14.2 22.5 28.8 29.1 29.1 29.1 29.1 29.1 29.1 29.1 29.1 29.1 29.1\n",
      " 29.1 29.1 29.1 29.1 29.1 29.1 29.1 29.1 29.1 29.1 29.1]\n"
     ]
    }
   ],
   "source": [
    "#Air Temp CRN:\n",
    "with open('CRNH0203-2022-LA_Monroe_26_N.txt') as f:\n",
    "    lst=[line.split()[12] for line in f]\n",
    "    #print(lst)\n",
    "    temp_crn=[]\n",
    "    for i in lst:\n",
    "        new=i.replace(',',\"\")\n",
    "        temp_crn.append(new)\n",
    "    temp_crn=[float(x) for x in temp_crn]\n",
    "    temp_crn=temp_crn[1934:1959]\n",
    "    temp_crn=np.cumsum(temp_crn)\n",
    "    print(temp_crn)\n",
    "    # print(temp_crn[2124])"
   ]
  },
  {
   "cell_type": "code",
   "execution_count": 14,
   "id": "2b4e383a",
   "metadata": {},
   "outputs": [
    {
     "name": "stdout",
     "output_type": "stream",
     "text": [
      "[-7.685, -9.806999999999999, -17.264, -14.166, -12.109000000000002, -12.020000000000003, -12.014000000000003, -12.014000000000003, -11.674000000000003, -11.673000000000002, -11.672, -11.634, -11.634, -11.634, -11.634, -11.634, -11.634, -11.634, -11.634, -11.634, -11.634, -11.634, -11.634, -11.634, -11.634]\n"
     ]
    }
   ],
   "source": [
    "difference1_mon = []\n",
    "\n",
    "zip_object = zip(temp, temp_crn)\n",
    "for temp_i, temp_crn_i in zip_object:\n",
    "    difference1_mon.append(temp_i-temp_crn_i)\n",
    "\n",
    "print(difference1_mon)"
   ]
  },
  {
   "cell_type": "markdown",
   "id": "26c585ff",
   "metadata": {},
   "source": [
    "<font size=\"3\">Holly Springs, MS: 1800 UTC 22 March 2022-1800 UTC 23 March 2022</font>"
   ]
  },
  {
   "cell_type": "code",
   "execution_count": 15,
   "id": "175bd35c",
   "metadata": {},
   "outputs": [
    {
     "name": "stdout",
     "output_type": "stream",
     "text": [
      "[ 0.693  3.224  9.854 20.61  21.418 22.818 23.157 23.17  23.171 23.21\n",
      " 23.339 23.339 23.339 23.339 23.339 23.339 23.339 23.339 23.339 23.339\n",
      " 23.339 23.339 23.339 23.34  23.34 ]\n"
     ]
    }
   ],
   "source": [
    "#1 hr hrrr:\n",
    "with open('hrrr_f01_Holly Springs_MS.txt') as f:\n",
    "    lst=[line.split()[2] for line in f]\n",
    "    temp=[]\n",
    "    for i in lst:\n",
    "        new=i.replace(',',\"\")\n",
    "        temp.append(new)\n",
    "    temp.pop(0)\n",
    "    temp=[float(x) for x in temp]\n",
    "    temp=temp[1937:1962]\n",
    "    #temp=temp[2015:2063]\n",
    "    temp=np.cumsum(temp)\n",
    "    print(temp)\n",
    "#full time period is [2015:2112]"
   ]
  },
  {
   "cell_type": "code",
   "execution_count": 16,
   "id": "19a3055f",
   "metadata": {},
   "outputs": [
    {
     "name": "stdout",
     "output_type": "stream",
     "text": [
      "[ 0.2  5.1 21.4 28.6 31.1 31.4 31.4 31.4 31.4 31.4 31.4 31.4 31.4 31.4\n",
      " 31.4 31.4 31.4 31.4 31.4 31.4 31.4 31.4 31.4 31.4 31.4]\n"
     ]
    }
   ],
   "source": [
    "#Air Temp CRN:\n",
    "with open('CRNH0203-2022-MS_Holly_Springs_4_N.txt') as f:\n",
    "    lst=[line.split()[12] for line in f]\n",
    "    #print(lst)\n",
    "    temp_crn=[]\n",
    "    for i in lst:\n",
    "        new=i.replace(',',\"\")\n",
    "        temp_crn.append(new)\n",
    "    temp_crn=[float(x) for x in temp_crn]\n",
    "    temp_crn=temp_crn[1937:1962]\n",
    "    temp_crn=np.cumsum(temp_crn)\n",
    "    print(temp_crn)\n",
    "    # print(temp_crn[2124])"
   ]
  },
  {
   "cell_type": "code",
   "execution_count": 17,
   "id": "46b095cb",
   "metadata": {},
   "outputs": [
    {
     "name": "stdout",
     "output_type": "stream",
     "text": [
      "[0.49299999999999994, -1.8760000000000003, -11.546000000000003, -7.990000000000002, -9.682000000000002, -8.582000000000004, -8.243000000000006, -8.230000000000004, -8.229000000000003, -8.190000000000001, -8.061, -8.061, -8.061, -8.061, -8.061, -8.061, -8.061, -8.061, -8.061, -8.061, -8.061, -8.061, -8.061, -8.059999999999999, -8.059999999999999]\n"
     ]
    }
   ],
   "source": [
    "difference1_hol = []\n",
    "\n",
    "zip_object = zip(temp, temp_crn)\n",
    "for temp_i, temp_crn_i in zip_object:\n",
    "    difference1_hol.append(temp_i-temp_crn_i)\n",
    "\n",
    "print(difference1_hol)"
   ]
  },
  {
   "cell_type": "markdown",
   "id": "1c76c308",
   "metadata": {},
   "source": [
    "<font size=\"3\">Newton, MS: 1800 UTC 22 March 2022-1800 UTC 23 March 2022</font>"
   ]
  },
  {
   "cell_type": "code",
   "execution_count": 18,
   "id": "06decf86",
   "metadata": {},
   "outputs": [
    {
     "name": "stdout",
     "output_type": "stream",
     "text": [
      "[ 2.436  6.568  8.087 11.957 19.778 29.456 32.905 41.015 44.959 45.669\n",
      " 45.669 45.706 45.733 45.733 45.733 45.733 45.733 45.733 45.733 45.733\n",
      " 45.733 45.733 45.733 45.733 45.733]\n"
     ]
    }
   ],
   "source": [
    "#1 hr hrrr:\n",
    "with open('hrrr_f01_Newton_MS.txt') as f:\n",
    "    lst=[line.split()[2] for line in f]\n",
    "    temp=[]\n",
    "    for i in lst:\n",
    "        new=i.replace(',',\"\")\n",
    "        temp.append(new)\n",
    "    temp.pop(0)\n",
    "    temp=[float(x) for x in temp]\n",
    "    temp=temp[1937:1962]\n",
    "    #temp=temp[2015:2063]\n",
    "    temp=np.cumsum(temp)\n",
    "    print(temp)\n",
    "#full time period is [2015:2112]"
   ]
  },
  {
   "cell_type": "code",
   "execution_count": 19,
   "id": "3fb09a0f",
   "metadata": {},
   "outputs": [
    {
     "name": "stdout",
     "output_type": "stream",
     "text": [
      "[ 0.   0.3  2.6 35.1 59.7 73.4 82.  85.6 88.6 90.1 90.1 90.1 90.1 90.1\n",
      " 90.1 90.1 90.1 90.1 90.1 90.1 90.1 90.1 90.1 90.1 90.1]\n"
     ]
    }
   ],
   "source": [
    "#Air Temp CRN:\n",
    "with open('CRNH0203-2022-MS_Newton_5_ENE.txt') as f:\n",
    "    lst=[line.split()[12] for line in f]\n",
    "    #print(lst)\n",
    "    temp_crn=[]\n",
    "    for i in lst:\n",
    "        new=i.replace(',',\"\")\n",
    "        temp_crn.append(new)\n",
    "    temp_crn=[float(x) for x in temp_crn]\n",
    "    temp_crn=temp_crn[1937:1962]\n",
    "    temp_crn=np.cumsum(temp_crn)\n",
    "    print(temp_crn)\n",
    "    # print(temp_crn[2124])"
   ]
  },
  {
   "cell_type": "code",
   "execution_count": 20,
   "id": "e588ab70",
   "metadata": {},
   "outputs": [
    {
     "name": "stdout",
     "output_type": "stream",
     "text": [
      "[2.436, 6.268, 5.487, -23.143, -39.922000000000004, -43.944, -49.095, -44.584999999999994, -43.64099999999999, -44.43099999999999, -44.43099999999999, -44.39399999999999, -44.36699999999999, -44.36699999999999, -44.36699999999999, -44.36699999999999, -44.36699999999999, -44.36699999999999, -44.36699999999999, -44.36699999999999, -44.36699999999999, -44.36699999999999, -44.36699999999999, -44.36699999999999, -44.36699999999999]\n"
     ]
    }
   ],
   "source": [
    "difference1_new = []\n",
    "\n",
    "zip_object = zip(temp, temp_crn)\n",
    "for temp_i, temp_crn_i in zip_object:\n",
    "    difference1_new.append(temp_i-temp_crn_i)\n",
    "\n",
    "print(difference1_new)"
   ]
  },
  {
   "cell_type": "markdown",
   "id": "c9620694",
   "metadata": {},
   "source": [
    "<font size=\"3\">Gainesville, AL: 2200 UTC 22 March 2022-2200 UTC 23 March 2022</font>"
   ]
  },
  {
   "cell_type": "code",
   "execution_count": 21,
   "id": "a422cd03",
   "metadata": {},
   "outputs": [
    {
     "name": "stdout",
     "output_type": "stream",
     "text": [
      "[ 0.843  2.182 21.087 28.137 34.216 38.952 39.114 39.137 40.599 42.438\n",
      " 42.441 42.441 42.441 42.441 42.441 42.441 42.441 42.441 42.441 42.441\n",
      " 42.441 42.441 42.441 42.441 42.441]\n"
     ]
    }
   ],
   "source": [
    "#1 hr hrrr:\n",
    "with open('hrrr_f01_Gainesville_AL.txt') as f:\n",
    "    lst=[line.split()[2] for line in f]\n",
    "    temp=[]\n",
    "    for i in lst:\n",
    "        new=i.replace(',',\"\")\n",
    "        temp.append(new)\n",
    "    temp.pop(0)\n",
    "    temp=[float(x) for x in temp]\n",
    "    temp=temp[1941:1966]\n",
    "    #temp=temp[2015:2063]\n",
    "    temp=np.cumsum(temp)\n",
    "    print(temp)\n",
    "#full time period is [2015:2112]"
   ]
  },
  {
   "cell_type": "code",
   "execution_count": 22,
   "id": "2c97e541",
   "metadata": {},
   "outputs": [
    {
     "name": "stdout",
     "output_type": "stream",
     "text": [
      "[ 5.5 45.1 73.1 86.9 93.6 94.1 94.1 94.1 94.4 94.4 94.4 94.4 94.4 94.4\n",
      " 94.4 94.4 94.4 94.4 94.4 94.4 94.4 94.4 94.4 94.4 94.4]\n"
     ]
    }
   ],
   "source": [
    "#Air Temp CRN:\n",
    "with open('CRNH0203-2022-AL_Gainesville_2_NE.txt') as f:\n",
    "    lst=[line.split()[12] for line in f]\n",
    "    #print(lst)\n",
    "    temp_crn=[]\n",
    "    for i in lst:\n",
    "        new=i.replace(',',\"\")\n",
    "        temp_crn.append(new)\n",
    "    temp_crn=[float(x) for x in temp_crn]\n",
    "    temp_crn=temp_crn[1941:1966]\n",
    "    temp_crn=np.cumsum(temp_crn)\n",
    "    print(temp_crn)\n",
    "    # print(temp_crn[2124])"
   ]
  },
  {
   "cell_type": "code",
   "execution_count": 23,
   "id": "8df76a7b",
   "metadata": {},
   "outputs": [
    {
     "name": "stdout",
     "output_type": "stream",
     "text": [
      "[-4.657, -42.918, -52.01299999999999, -58.76299999999999, -59.38399999999999, -55.147999999999996, -54.986, -54.962999999999994, -53.80099999999999, -51.96199999999999, -51.95899999999999, -51.95899999999999, -51.95899999999999, -51.95899999999999, -51.95899999999999, -51.95899999999999, -51.95899999999999, -51.95899999999999, -51.95899999999999, -51.95899999999999, -51.95899999999999, -51.95899999999999, -51.95899999999999, -51.95899999999999, -51.95899999999999]\n"
     ]
    }
   ],
   "source": [
    "difference1_gai = []\n",
    "\n",
    "zip_object = zip(temp, temp_crn)\n",
    "for temp_i, temp_crn_i in zip_object:\n",
    "    difference1_gai.append(temp_i-temp_crn_i)\n",
    "\n",
    "print(difference1_gai)"
   ]
  },
  {
   "cell_type": "markdown",
   "id": "2711dc15",
   "metadata": {},
   "source": [
    "<font size=\"3\">Fairhope, AL: 2200 UTC 22 March 2022-2200 UTC 23 March 2022</font>"
   ]
  },
  {
   "cell_type": "code",
   "execution_count": 24,
   "id": "64dbcf91",
   "metadata": {},
   "outputs": [
    {
     "name": "stdout",
     "output_type": "stream",
     "text": [
      "[1.6000e-02 1.6000e-02 2.0000e-02 3.8000e-02 3.8000e-02 4.5560e+00\n",
      " 7.0980e+00 2.0008e+01 2.5479e+01 2.5802e+01 2.5820e+01 2.5863e+01\n",
      " 2.5863e+01 2.5863e+01 2.5863e+01 2.5863e+01 2.5863e+01 2.5863e+01\n",
      " 2.5863e+01 2.5863e+01 2.5863e+01 2.5863e+01 2.5863e+01 2.5863e+01\n",
      " 2.5863e+01]\n"
     ]
    }
   ],
   "source": [
    "#1 hr hrrr:\n",
    "with open('hrrr_f01_Fairhope_AL.txt') as f:\n",
    "    lst=[line.split()[2] for line in f]\n",
    "    temp=[]\n",
    "    for i in lst:\n",
    "        new=i.replace(',',\"\")\n",
    "        temp.append(new)\n",
    "    temp.pop(0)\n",
    "    temp=[float(x) for x in temp]\n",
    "    temp=temp[1941:1966]\n",
    "    #temp=temp[2015:2063]\n",
    "    temp=np.cumsum(temp)\n",
    "    print(temp)\n",
    "#full time period is [2015:2112]"
   ]
  },
  {
   "cell_type": "code",
   "execution_count": 25,
   "id": "4df09785",
   "metadata": {},
   "outputs": [
    {
     "name": "stdout",
     "output_type": "stream",
     "text": [
      "[ 0.   0.   0.   0.   0.   2.8  5.4  6.2 21.2 26.3 26.6 26.6 26.6 26.6\n",
      " 26.6 26.6 26.6 26.6 26.6 26.6 26.6 26.6 26.6 26.6 26.6]\n"
     ]
    }
   ],
   "source": [
    "#Air Temp CRN:\n",
    "with open('CRNH0203-2022-AL_Fairhope_3_NE.txt') as f:\n",
    "    lst=[line.split()[12] for line in f]\n",
    "    #print(lst)\n",
    "    temp_crn=[]\n",
    "    for i in lst:\n",
    "        new=i.replace(',',\"\")\n",
    "        temp_crn.append(new)\n",
    "    temp_crn=[float(x) for x in temp_crn]\n",
    "    temp_crn=temp_crn[1941:1966]\n",
    "    temp_crn=np.cumsum(temp_crn)\n",
    "    print(temp_crn)\n",
    "    # print(temp_crn[2124])"
   ]
  },
  {
   "cell_type": "code",
   "execution_count": 26,
   "id": "a9ff3306",
   "metadata": {},
   "outputs": [
    {
     "name": "stdout",
     "output_type": "stream",
     "text": [
      "[0.016, 0.016, 0.02, 0.038, 0.038, 1.7560000000000002, 1.6979999999999995, 13.808, 4.279, -0.49799999999999756, -0.7799999999999976, -0.7369999999999983, -0.7369999999999983, -0.7369999999999983, -0.7369999999999983, -0.7369999999999983, -0.7369999999999983, -0.7369999999999983, -0.7369999999999983, -0.7369999999999983, -0.7369999999999983, -0.7369999999999983, -0.7369999999999983, -0.7369999999999983, -0.7369999999999983]\n"
     ]
    }
   ],
   "source": [
    "difference1_fai = []\n",
    "\n",
    "zip_object = zip(temp, temp_crn)\n",
    "for temp_i, temp_crn_i in zip_object:\n",
    "    difference1_fai.append(temp_i-temp_crn_i)\n",
    "\n",
    "print(difference1_fai)"
   ]
  },
  {
   "cell_type": "markdown",
   "id": "f5dd4e4b",
   "metadata": {},
   "source": [
    "<font size=\"3\">**Selma, AL: 2200 UTC 22 March 2022-2200 UTC 23 March 2022</font>"
   ]
  },
  {
   "cell_type": "code",
   "execution_count": 27,
   "id": "af6b46b1",
   "metadata": {},
   "outputs": [
    {
     "name": "stdout",
     "output_type": "stream",
     "text": [
      "[0.13 0.13 0.13 0.639 6.195 24.863 26.567999999999998 30.377 33.647 43.187\n",
      " 43.573 43.573 43.581 43.581 43.581 43.581 43.581 -- -- -- -- 43.581\n",
      " 43.581 43.581 43.581]\n",
      "[0.0 0.0 0.0 0.0 1.2 8.4 9.5 47.2 69.9 69.9 69.9 70.10000000000001\n",
      " 70.10000000000001 70.10000000000001 70.10000000000001 70.10000000000001\n",
      " 70.10000000000001 -- -- -- -- 70.10000000000001 70.10000000000001\n",
      " 70.10000000000001 70.10000000000001]\n",
      "[0.13, 0.13, 0.13, 0.639, 4.995, 16.463, 17.067999999999998, -16.823000000000004, -36.25300000000001, -26.713000000000008, -26.327000000000005, -26.527000000000008, -26.519000000000005, -26.519000000000005, -26.519000000000005, -26.519000000000005, -26.519000000000005, masked, masked, masked, masked, -26.519000000000005, -26.519000000000005, -26.519000000000005, -26.519000000000005]\n",
      "25\n"
     ]
    }
   ],
   "source": [
    "#1 hr hrrr:\n",
    "import numpy as np\n",
    "import numpy.ma as ma\n",
    "with open('hrrr_f01_Selma_AL.txt') as f:\n",
    "    lst=[line.split()[2] for line in f]\n",
    "    temp=[]\n",
    "    for i in lst:\n",
    "        new=i.replace(',',\"\")\n",
    "        temp.append(new)\n",
    "    temp.pop(0)\n",
    "    temp=[float(x) for x in temp]\n",
    "    temp=temp[1941:1966]\n",
    "\n",
    "    x = np.array(temp)\n",
    "    temp = ma.masked_array(x, mask=[0, 0, 0, 0, 0,0,0,0,0,0,0,0,0,0,0,0,0,1,1,1,1,0,0,0,0])\n",
    "    #temp=np.cumsum(temp)\n",
    "#Air Temp CRN:\n",
    "with open('CRNH0203-2022-AL_Selma_13_WNW.txt') as f:\n",
    "    lst=[line.split()[12] for line in f]\n",
    "    #print(lst)\n",
    "    temp_crn=[]\n",
    "    for i in lst:\n",
    "        new=i.replace(',',\"\")\n",
    "        temp_crn.append(new)\n",
    "    temp_crn=[float(x) for x in temp_crn]\n",
    "    temp_crn=temp_crn[1941:1966]\n",
    "    y = np.array(temp_crn)\n",
    "    temp_crn = ma.masked_array(y, mask=[0, 0, 0, 0, 0,0,0,0,0,0,0,0,0,0,0,0,0,1,1,1,1,0,0,0,0])\n",
    "    temp=np.cumsum(temp)\n",
    "    print(temp)\n",
    "    temp_crn=np.cumsum(temp_crn)\n",
    "    print(temp_crn)\n",
    "#full time period is [2015:2112]\n",
    "difference1_sel = []\n",
    "\n",
    "zip_object = zip(temp, temp_crn)\n",
    "for temp_i, temp_crn_i in zip_object:\n",
    "    difference1_sel.append(temp_i-temp_crn_i)\n",
    "\n",
    "print(difference1_sel)\n",
    "print(len(difference1_sel))"
   ]
  },
  {
   "cell_type": "code",
   "execution_count": 28,
   "id": "40fd982f",
   "metadata": {},
   "outputs": [],
   "source": [
    "# import numpy as np\n",
    "# import numpy.ma as ma\n",
    "# x = np.array(temp_crn)\n",
    "# crnsel = ma.masked_array(x, mask=[0, 0, 0, 0, 0,0,0,0,0,0,0,0,0,0,0,0,0,1,1,1,1,0,0,0,0])\n",
    "# print(crnsel)\n",
    "# crnsel.mean()"
   ]
  },
  {
   "cell_type": "code",
   "execution_count": 29,
   "id": "fc41a8e0",
   "metadata": {},
   "outputs": [],
   "source": [
    "# temp[17]=0\n",
    "# temp[18]=0\n",
    "# temp[19]=0\n",
    "# temp[20]=0\n",
    "\n",
    "# temp_crn[17]=0\n",
    "# temp_crn[18]=0\n",
    "# temp_crn[19]=0\n",
    "# temp_crn[20]=0\n",
    "\n",
    "# difference1_sel[17]=0\n",
    "# difference1_sel[18]=0\n",
    "# difference1_sel[19]=0\n",
    "# difference1_sel[20]=0\n",
    "# temp=np.cumsum(temp)\n",
    "# temp_crn=np.cumsum(temp_crn)\n",
    "# print(difference1_sel)\n"
   ]
  },
  {
   "cell_type": "markdown",
   "id": "8fab4bdc",
   "metadata": {},
   "source": [
    "<font size=\"3\">Bowling Green, KY: 2300 UTC 22 March 2022-2300 UTC 23 March 2022</font>"
   ]
  },
  {
   "cell_type": "code",
   "execution_count": 30,
   "id": "bf608647",
   "metadata": {},
   "outputs": [
    {
     "name": "stdout",
     "output_type": "stream",
     "text": [
      "[2.000e-03 2.090e-01 2.680e-01 6.370e-01 1.657e+00 2.314e+00 4.306e+00\n",
      " 4.591e+00 4.591e+00 4.594e+00 4.594e+00 4.594e+00 4.639e+00 4.639e+00\n",
      " 4.639e+00 4.640e+00 4.640e+00 4.692e+00 4.692e+00 4.692e+00 4.692e+00\n",
      " 4.692e+00 4.692e+00 4.692e+00 4.692e+00]\n"
     ]
    }
   ],
   "source": [
    "#1 hr hrrr:\n",
    "with open('hrrr_f01_Bowling Green_KY.txt') as f:\n",
    "    lst=[line.split()[2] for line in f]\n",
    "    temp=[]\n",
    "    for i in lst:\n",
    "        new=i.replace(',',\"\")\n",
    "        temp.append(new)\n",
    "    temp.pop(0)\n",
    "    temp=[float(x) for x in temp]\n",
    "    temp=temp[1942:1967]\n",
    "    #temp=temp[2015:2063]\n",
    "    temp=np.cumsum(temp)\n",
    "    print(temp)\n",
    "#full time period is [2015:2112]"
   ]
  },
  {
   "cell_type": "code",
   "execution_count": 31,
   "id": "b9e25e31",
   "metadata": {},
   "outputs": [
    {
     "name": "stdout",
     "output_type": "stream",
     "text": [
      "[ 0.   0.   0.4  4.4  6.6 10.1 13.3 14.  14.  14.  14.  14.  14.  14.\n",
      " 14.  14.  14.  14.5 14.5 14.5 14.5 14.5 14.5 14.5 14.5]\n"
     ]
    }
   ],
   "source": [
    "#Air Temp CRN:\n",
    "with open('CRNH0203-2022-KY_Bowling_Green_21_NNE.txt') as f:\n",
    "    lst=[line.split()[12] for line in f]\n",
    "    #print(lst)\n",
    "    temp_crn=[]\n",
    "    for i in lst:\n",
    "        new=i.replace(',',\"\")\n",
    "        temp_crn.append(new)\n",
    "    temp_crn=[float(x) for x in temp_crn]\n",
    "    temp_crn=temp_crn[1942:1967]\n",
    "    temp_crn=np.cumsum(temp_crn)\n",
    "    print(temp_crn)\n",
    "    # print(temp_crn[2124])"
   ]
  },
  {
   "cell_type": "code",
   "execution_count": 32,
   "id": "c1e72531",
   "metadata": {},
   "outputs": [
    {
     "name": "stdout",
     "output_type": "stream",
     "text": [
      "[0.002, 0.209, -0.132, -3.7630000000000003, -4.9430000000000005, -7.786000000000001, -8.994, -9.408999999999999, -9.408999999999999, -9.405999999999999, -9.405999999999999, -9.405999999999999, -9.361, -9.361, -9.361, -9.36, -9.36, -9.808, -9.808, -9.808, -9.808, -9.808, -9.808, -9.808, -9.808]\n"
     ]
    }
   ],
   "source": [
    "difference1_bow = []\n",
    "\n",
    "zip_object = zip(temp, temp_crn)\n",
    "for temp_i, temp_crn_i in zip_object:\n",
    "    difference1_bow.append(temp_i-temp_crn_i)\n",
    "\n",
    "print(difference1_bow)"
   ]
  },
  {
   "cell_type": "markdown",
   "id": "d1be2cc0",
   "metadata": {},
   "source": [
    "<font size=\"3\">Gadsden, AL: 0100 UTC 23 March 2022-0100 UTC 24 March 2022</font>"
   ]
  },
  {
   "cell_type": "code",
   "execution_count": 33,
   "id": "02793170",
   "metadata": {},
   "outputs": [],
   "source": [
    "# #1 hr hrrr:\n",
    "# with open('hrrr_f01_Gadsden_AL.txt') as f:\n",
    "#     lst=[line.split()[2] for line in f]\n",
    "#     temp=[]\n",
    "#     for i in lst:\n",
    "#         new=i.replace(',',\"\")\n",
    "#         temp.append(new)\n",
    "#     temp.pop(0)\n",
    "#     temp=[float(x) for x in temp]\n",
    "#     temp=temp[1944:1969]\n",
    "#     #temp=temp[2015:2063]\n",
    "#     temp=np.cumsum(temp)\n",
    "#     print(temp)\n",
    "# #full time period is [2015:2112]"
   ]
  },
  {
   "cell_type": "code",
   "execution_count": 34,
   "id": "eb5f934d",
   "metadata": {},
   "outputs": [],
   "source": [
    "# #Air Temp CRN:\n",
    "# with open('CRNH0203-2022-AL_Gadsden_19_N.txt') as f:\n",
    "#     lst=[line.split()[12] for line in f]\n",
    "#     #print(lst)\n",
    "#     temp_crn=[]\n",
    "#     for i in lst:\n",
    "#         new=i.replace(',',\"\")\n",
    "#         temp_crn.append(new)\n",
    "#     temp_crn=[float(x) for x in temp_crn]\n",
    "#     temp_crn=temp_crn[1944:1969]\n",
    "#     temp_crn=np.cumsum(temp_crn)\n",
    "#     print(temp_crn)\n",
    "#     # print(temp_crn[2124])"
   ]
  },
  {
   "cell_type": "code",
   "execution_count": 35,
   "id": "c002ac76",
   "metadata": {},
   "outputs": [],
   "source": [
    "# difference1_gad = []\n",
    "\n",
    "# zip_object = zip(temp, temp_crn)\n",
    "# for temp_i, temp_crn_i in zip_object:\n",
    "#     difference1_gad.append(temp_i-temp_crn_i)\n",
    "\n",
    "# print(difference1_gad)"
   ]
  },
  {
   "cell_type": "markdown",
   "id": "d430f7c6",
   "metadata": {},
   "source": [
    "<font size=\"3\">Newton, GA: 0900 UTC 23 March 2022-0900 UTC 24 March 2022</font>"
   ]
  },
  {
   "cell_type": "code",
   "execution_count": 36,
   "id": "e78bb8bf",
   "metadata": {},
   "outputs": [
    {
     "name": "stdout",
     "output_type": "stream",
     "text": [
      "[ 0.     0.499  5.848 13.618 20.46  24.086 25.227 25.328 25.328 25.328\n",
      " 25.328 25.328 25.328 25.331 25.331 25.331 25.331 25.331 25.331 25.331\n",
      " 25.331 25.331 25.331 25.331 25.331]\n"
     ]
    }
   ],
   "source": [
    "#1 hr hrrr:\n",
    "with open('hrrr_f01_Newton_GA.txt') as f:\n",
    "    lst=[line.split()[2] for line in f]\n",
    "    temp=[]\n",
    "    for i in lst:\n",
    "        new=i.replace(',',\"\")\n",
    "        temp.append(new)\n",
    "    temp.pop(0)\n",
    "    temp=[float(x) for x in temp]\n",
    "    temp=temp[1952:1977]\n",
    "    #temp=temp[2015:2063]\n",
    "    temp=np.cumsum(temp)\n",
    "    print(temp)\n",
    "#full time period is [2015:2112]"
   ]
  },
  {
   "cell_type": "code",
   "execution_count": 37,
   "id": "9851cf85",
   "metadata": {},
   "outputs": [
    {
     "name": "stdout",
     "output_type": "stream",
     "text": [
      "[0.  0.7 2.9 4.5 4.7 4.7 4.7 4.7 4.7 4.7 4.7 4.7 4.7 4.7 4.7 4.7 4.7 4.7\n",
      " 4.7 4.7 4.7 4.7 4.7 4.7 4.7]\n"
     ]
    }
   ],
   "source": [
    "#Air Temp CRN:\n",
    "with open('CRNH0203-2022-GA_Newton_11_SW.txt') as f:\n",
    "    lst=[line.split()[12] for line in f]\n",
    "    #print(lst)\n",
    "    temp_crn=[]\n",
    "    for i in lst:\n",
    "        new=i.replace(',',\"\")\n",
    "        temp_crn.append(new)\n",
    "    temp_crn=[float(x) for x in temp_crn]\n",
    "    temp_crn=temp_crn[1952:1977]\n",
    "    temp_crn=np.cumsum(temp_crn)\n",
    "    print(temp_crn)\n",
    "    # print(temp_crn[2124])"
   ]
  },
  {
   "cell_type": "code",
   "execution_count": 38,
   "id": "f2141c03",
   "metadata": {},
   "outputs": [
    {
     "name": "stdout",
     "output_type": "stream",
     "text": [
      "[0.0, -0.20099999999999996, 2.9479999999999995, 9.117999999999999, 15.759999999999998, 19.386, 20.526999999999997, 20.627999999999997, 20.627999999999997, 20.627999999999997, 20.627999999999997, 20.627999999999997, 20.627999999999997, 20.630999999999997, 20.630999999999997, 20.630999999999997, 20.630999999999997, 20.630999999999997, 20.630999999999997, 20.630999999999997, 20.630999999999997, 20.630999999999997, 20.630999999999997, 20.630999999999997, 20.630999999999997]\n"
     ]
    }
   ],
   "source": [
    "difference1_newt = []\n",
    "\n",
    "zip_object = zip(temp, temp_crn)\n",
    "for temp_i, temp_crn_i in zip_object:\n",
    "    difference1_newt.append(temp_i-temp_crn_i)\n",
    "\n",
    "print(difference1_newt)"
   ]
  },
  {
   "cell_type": "markdown",
   "id": "ab4663ab",
   "metadata": {},
   "source": [
    "<font size=\"3\">Salem, MO: 1300 UTC 30 March 2022-1300 UTC 31 March 2022</font>"
   ]
  },
  {
   "cell_type": "code",
   "execution_count": 39,
   "id": "6e382a43",
   "metadata": {},
   "outputs": [
    {
     "name": "stdout",
     "output_type": "stream",
     "text": [
      "[6.0000e-03 2.5600e+00 5.8310e+00 1.0444e+01 1.3194e+01 1.6102e+01\n",
      " 2.0450e+01 2.2770e+01 2.4689e+01 2.7180e+01 2.7302e+01 2.8689e+01\n",
      " 3.2825e+01 3.4150e+01 3.4446e+01 3.4514e+01 3.4530e+01 3.4531e+01\n",
      " 3.4531e+01 3.4531e+01 3.4531e+01 3.4531e+01 3.4531e+01 3.4531e+01\n",
      " 3.4531e+01]\n"
     ]
    }
   ],
   "source": [
    "#1 hr hrrr:\n",
    "with open('hrrr_f01_Salem_MO.txt') as f:\n",
    "    lst=[line.split()[2] for line in f]\n",
    "    temp=[]\n",
    "    for i in lst:\n",
    "        new=i.replace(',',\"\")\n",
    "        temp.append(new)\n",
    "    temp.pop(0)\n",
    "    temp=[float(x) for x in temp]\n",
    "    temp=temp[2124:2149]\n",
    "    #temp=temp[2015:2063]\n",
    "    temp=np.cumsum(temp)\n",
    "    print(temp)\n",
    "#full time period is [2015:2112]"
   ]
  },
  {
   "cell_type": "code",
   "execution_count": 40,
   "id": "01b4011e",
   "metadata": {},
   "outputs": [
    {
     "name": "stdout",
     "output_type": "stream",
     "text": [
      "[ 0.  12.7 20.2 26.1 30.4 32.8 35.  36.7 39.  40.8 43.1 45.1 47.3 48.1\n",
      " 48.4 48.4 48.4 48.4 48.4 48.4 48.4 48.4 48.4 48.4 48.4]\n"
     ]
    }
   ],
   "source": [
    "#Air Temp CRN:\n",
    "with open('CRNH0203-2022-MO_Salem_10_W.txt') as f:\n",
    "    lst=[line.split()[12] for line in f]\n",
    "    #print(lst)\n",
    "    temp_crn=[]\n",
    "    for i in lst:\n",
    "        new=i.replace(',',\"\")\n",
    "        temp_crn.append(new)\n",
    "    temp_crn=[float(x) for x in temp_crn]\n",
    "    temp_crn=temp_crn[2124:2149]\n",
    "    temp_crn=np.cumsum(temp_crn)\n",
    "    print(temp_crn)\n",
    "    # print(temp_crn[2124])"
   ]
  },
  {
   "cell_type": "code",
   "execution_count": 41,
   "id": "80548ed7",
   "metadata": {},
   "outputs": [
    {
     "name": "stdout",
     "output_type": "stream",
     "text": [
      "25\n"
     ]
    }
   ],
   "source": [
    "hour=[]\n",
    "for i in range(-12,13,1):\n",
    "    hour.append(i)\n",
    "    i+=1\n",
    "print(len(hour))"
   ]
  },
  {
   "cell_type": "code",
   "execution_count": 42,
   "id": "e426b6a3",
   "metadata": {},
   "outputs": [
    {
     "name": "stdout",
     "output_type": "stream",
     "text": [
      "[0.006, -10.14, -14.369, -15.656000000000002, -17.206000000000003, -16.698000000000004, -14.550000000000008, -13.93000000000001, -14.311000000000007, -13.620000000000005, -15.798000000000002, -16.411, -14.475000000000001, -13.949999999999996, -13.953999999999994, -13.885999999999996, -13.869999999999997, -13.869, -13.869, -13.869, -13.869, -13.869, -13.869, -13.869, -13.869]\n"
     ]
    }
   ],
   "source": [
    "difference2_sal = []\n",
    "\n",
    "zip_object = zip(temp, temp_crn)\n",
    "for temp_i, temp_crn_i in zip_object:\n",
    "    difference2_sal.append(temp_i-temp_crn_i)\n",
    "\n",
    "print(difference2_sal)"
   ]
  },
  {
   "cell_type": "markdown",
   "id": "e17a19ca",
   "metadata": {},
   "source": [
    "<font size=\"3\">Batesville, AR: 1300 UTC 30 March 2022-1300 UTC 31 March 2022</font>"
   ]
  },
  {
   "cell_type": "code",
   "execution_count": 43,
   "id": "4d0e2594",
   "metadata": {},
   "outputs": [
    {
     "name": "stdout",
     "output_type": "stream",
     "text": [
      "[1.0000e-02 1.1000e-02 1.8000e-02 1.8000e-02 1.0030e+00 6.0470e+00\n",
      " 9.1280e+00 1.3258e+01 1.7878e+01 1.8962e+01 1.8962e+01 1.9845e+01\n",
      " 2.0093e+01 2.0548e+01 2.0548e+01 2.0548e+01 2.0548e+01 2.0548e+01\n",
      " 2.0548e+01 2.0548e+01 2.0548e+01 2.0548e+01 2.0548e+01 2.0548e+01\n",
      " 2.0548e+01]\n"
     ]
    }
   ],
   "source": [
    "#1 hr hrrr:\n",
    "with open('hrrr_f01_Batesville_AR.txt') as f:\n",
    "    lst=[line.split()[2] for line in f]\n",
    "    temp=[]\n",
    "    for i in lst:\n",
    "        new=i.replace(',',\"\")\n",
    "        temp.append(new)\n",
    "    temp.pop(0)\n",
    "    temp=[float(x) for x in temp]\n",
    "    temp=temp[2124:2149]\n",
    "    #temp=temp[2015:2063]\n",
    "    temp=np.cumsum(temp)\n",
    "    print(temp)\n",
    "#full time period is [2015:2112]"
   ]
  },
  {
   "cell_type": "code",
   "execution_count": 44,
   "id": "2dcc93c0",
   "metadata": {},
   "outputs": [
    {
     "name": "stdout",
     "output_type": "stream",
     "text": [
      "[ 0.   0.   0.   0.   1.1  7.  12.4 16.3 21.9 24.3 24.3 24.3 25.  25.\n",
      " 25.  25.  25.  25.  25.  25.  25.  25.  25.  25.  25. ]\n"
     ]
    }
   ],
   "source": [
    "#Air Temp CRN:\n",
    "with open('CRNH0203-2022-AR_Batesville_8_WNW.txt') as f:\n",
    "    lst=[line.split()[12] for line in f]\n",
    "    #print(lst)\n",
    "    temp_crn=[]\n",
    "    for i in lst:\n",
    "        new=i.replace(',',\"\")\n",
    "        temp_crn.append(new)\n",
    "    temp_crn=[float(x) for x in temp_crn]\n",
    "    temp_crn=temp_crn[2124:2149]\n",
    "    temp_crn=np.cumsum(temp_crn)\n",
    "    print(temp_crn)\n",
    "    # print(temp_crn[2124])"
   ]
  },
  {
   "cell_type": "code",
   "execution_count": 45,
   "id": "12f91aa0",
   "metadata": {},
   "outputs": [
    {
     "name": "stdout",
     "output_type": "stream",
     "text": [
      "[0.01, 0.011, 0.018, 0.018, -0.0970000000000002, -0.9530000000000003, -3.2720000000000002, -3.0420000000000016, -4.0219999999999985, -5.337999999999997, -5.337999999999997, -4.454999999999998, -4.9069999999999965, -4.451999999999998, -4.451999999999998, -4.451999999999998, -4.451999999999998, -4.451999999999998, -4.451999999999998, -4.451999999999998, -4.451999999999998, -4.451999999999998, -4.451999999999998, -4.451999999999998, -4.451999999999998]\n"
     ]
    }
   ],
   "source": [
    "difference2_bat = []\n",
    "\n",
    "zip_object = zip(temp, temp_crn)\n",
    "for temp_i, temp_crn_i in zip_object:\n",
    "    difference2_bat.append(temp_i-temp_crn_i)\n",
    "\n",
    "print(difference2_bat)"
   ]
  },
  {
   "cell_type": "code",
   "execution_count": 46,
   "id": "fbc1d02a",
   "metadata": {},
   "outputs": [
    {
     "name": "stdout",
     "output_type": "stream",
     "text": [
      "[3.000e-03 3.000e-03 3.000e-03 1.000e-02 1.620e-01 7.850e-01 7.680e+00\n",
      " 7.681e+00 7.681e+00 7.681e+00 7.681e+00 7.681e+00 7.681e+00 7.681e+00\n",
      " 7.681e+00 7.681e+00 7.681e+00 7.681e+00 7.681e+00 7.681e+00 7.681e+00\n",
      " 7.681e+00 7.681e+00 7.681e+00 7.681e+00]\n"
     ]
    }
   ],
   "source": [
    "#1 hr hrrr:\n",
    "with open('hrrr_f01_Lafayette_LA.txt') as f:\n",
    "    lst=[line.split()[2] for line in f]\n",
    "    temp=[]\n",
    "    for i in lst:\n",
    "        new=i.replace(',',\"\")\n",
    "        temp.append(new)\n",
    "    temp.pop(0)\n",
    "    temp=[float(x) for x in temp]\n",
    "    temp=temp[2128:2153]\n",
    "    #temp=temp[2015:2063]\n",
    "    temp=np.cumsum(temp)\n",
    "    print(temp)\n",
    "#full time period is [2015:2112]"
   ]
  },
  {
   "cell_type": "code",
   "execution_count": 47,
   "id": "16943c4f",
   "metadata": {},
   "outputs": [
    {
     "name": "stdout",
     "output_type": "stream",
     "text": [
      "[ 0.   0.   0.   0.   0.  23.5 24.  24.  24.  24.  24.  24.  24.  24.\n",
      " 24.  24.  24.  24.  24.  24.  24.  24.  24.  24.  24. ]\n"
     ]
    }
   ],
   "source": [
    "#Air Temp CRN:\n",
    "with open('CRNH0203-2022-LA_Lafayette_13_SE.txt') as f:\n",
    "    lst=[line.split()[12] for line in f]\n",
    "    #print(lst)\n",
    "    temp_crn=[]\n",
    "    for i in lst:\n",
    "        new=i.replace(',',\"\")\n",
    "        temp_crn.append(new)\n",
    "    temp_crn=[float(x) for x in temp_crn]\n",
    "    temp_crn=temp_crn[2128:2153]\n",
    "    temp_crn=np.cumsum(temp_crn)\n",
    "    print(temp_crn)\n",
    "    # print(temp_crn[2124])"
   ]
  },
  {
   "cell_type": "code",
   "execution_count": 48,
   "id": "ad9e49f7",
   "metadata": {},
   "outputs": [
    {
     "name": "stdout",
     "output_type": "stream",
     "text": [
      "[0.003, 0.003, 0.003, 0.01, 0.162, -22.715, -16.32, -16.319, -16.319, -16.319, -16.319, -16.319, -16.319, -16.319, -16.319, -16.319, -16.319, -16.319, -16.319, -16.319, -16.319, -16.319, -16.319, -16.319, -16.319]\n"
     ]
    }
   ],
   "source": [
    "difference2_laf = []\n",
    "\n",
    "zip_object = zip(temp, temp_crn)\n",
    "for temp_i, temp_crn_i in zip_object:\n",
    "    difference2_laf.append(temp_i-temp_crn_i)\n",
    "\n",
    "print(difference2_laf)"
   ]
  },
  {
   "cell_type": "code",
   "execution_count": 49,
   "id": "21f64f76",
   "metadata": {},
   "outputs": [],
   "source": [
    "# hour=[]\n",
    "# for i in range(-15,16,1):\n",
    "#     hour.append(i)\n",
    "#     i+=1\n",
    "# print(len(hour))"
   ]
  },
  {
   "cell_type": "markdown",
   "id": "5bdd017c",
   "metadata": {},
   "source": [
    "<font size=\"3\">Monroe, LA: 1700 UTC 30 March 2022-1700 UTC 31 March 2022</font>"
   ]
  },
  {
   "cell_type": "code",
   "execution_count": 50,
   "id": "409be061",
   "metadata": {},
   "outputs": [
    {
     "name": "stdout",
     "output_type": "stream",
     "text": [
      "[ 0.156  0.99  35.406 37.24  41.582 41.584 41.584 41.584 41.584 41.584\n",
      " 41.584 41.584 41.584 41.584 41.584 41.584 41.584 41.584 41.584 41.584\n",
      " 41.584 41.584 41.584 41.584 41.584]\n"
     ]
    }
   ],
   "source": [
    "#1 hr hrrr:\n",
    "with open('hrrr_f01_Monroe_LA.txt') as f:\n",
    "    lst=[line.split()[2] for line in f]\n",
    "    temp=[]\n",
    "    for i in lst:\n",
    "        new=i.replace(',',\"\")\n",
    "        temp.append(new)\n",
    "    temp.pop(0)\n",
    "    temp=[float(x) for x in temp]\n",
    "    temp=temp[2128:2153]\n",
    "    #temp=temp[2015:2063]\n",
    "    temp=np.cumsum(temp)\n",
    "    print(temp)\n",
    "#full time period is [2015:2112]"
   ]
  },
  {
   "cell_type": "code",
   "execution_count": 51,
   "id": "4d3f3d6e",
   "metadata": {},
   "outputs": [
    {
     "name": "stdout",
     "output_type": "stream",
     "text": [
      "[ 0.3  0.3 27.2 32.7 33.3 33.3 33.3 33.3 33.3 33.3 33.3 33.3 33.3 33.3\n",
      " 33.3 33.3 33.3 33.3 33.3 33.3 33.3 33.3 33.3 33.3 33.3]\n"
     ]
    }
   ],
   "source": [
    "#Air Temp CRN:\n",
    "with open('CRNH0203-2022-LA_Monroe_26_N.txt') as f:\n",
    "    lst=[line.split()[12] for line in f]\n",
    "    #print(lst)\n",
    "    temp_crn=[]\n",
    "    for i in lst:\n",
    "        new=i.replace(',',\"\")\n",
    "        temp_crn.append(new)\n",
    "    temp_crn=[float(x) for x in temp_crn]\n",
    "    temp_crn=temp_crn[2128:2153]\n",
    "    temp_crn=np.cumsum(temp_crn)\n",
    "    print(temp_crn)\n",
    "    # print(temp_crn[2124])"
   ]
  },
  {
   "cell_type": "code",
   "execution_count": 52,
   "id": "178b8e52",
   "metadata": {},
   "outputs": [
    {
     "name": "stdout",
     "output_type": "stream",
     "text": [
      "[-0.144, 0.69, 8.206, 4.539999999999999, 8.281999999999996, 8.283999999999999, 8.283999999999999, 8.283999999999999, 8.283999999999999, 8.283999999999999, 8.283999999999999, 8.283999999999999, 8.283999999999999, 8.283999999999999, 8.283999999999999, 8.283999999999999, 8.283999999999999, 8.283999999999999, 8.283999999999999, 8.283999999999999, 8.283999999999999, 8.283999999999999, 8.283999999999999, 8.283999999999999, 8.283999999999999]\n"
     ]
    }
   ],
   "source": [
    "difference2_mon = []\n",
    "\n",
    "zip_object = zip(temp, temp_crn)\n",
    "for temp_i, temp_crn_i in zip_object:\n",
    "    difference2_mon.append(temp_i-temp_crn_i)\n",
    "\n",
    "print(difference2_mon)"
   ]
  },
  {
   "cell_type": "markdown",
   "id": "3e401515",
   "metadata": {},
   "source": [
    "<font size=\"3\">Holly Springs, MS: 2000 UTC 30 March 2022-2000 UTC 31 March 2022</font>"
   ]
  },
  {
   "cell_type": "code",
   "execution_count": 53,
   "id": "bffada22",
   "metadata": {},
   "outputs": [
    {
     "name": "stdout",
     "output_type": "stream",
     "text": [
      "[ 1.052  2.262  3.503 19.075 37.976 39.343 39.343 39.344 39.344 39.708\n",
      " 39.925 39.963 40.125 40.133 40.133 40.133 40.133 40.133 40.133 40.133\n",
      " 40.133 40.133 40.133 40.133 40.133]\n"
     ]
    }
   ],
   "source": [
    "#1 hr hrrr:\n",
    "with open('hrrr_f01_Holly Springs_MS.txt') as f:\n",
    "    lst=[line.split()[2] for line in f]\n",
    "    temp=[]\n",
    "    for i in lst:\n",
    "        new=i.replace(',',\"\")\n",
    "        temp.append(new)\n",
    "    temp.pop(0)\n",
    "    temp=[float(x) for x in temp]\n",
    "    temp=temp[2131:2156]\n",
    "    #temp=temp[2015:2063]\n",
    "    temp=np.cumsum(temp)\n",
    "    print(temp)\n",
    "#full time period is [2015:2112]"
   ]
  },
  {
   "cell_type": "code",
   "execution_count": 54,
   "id": "cc96dac3",
   "metadata": {},
   "outputs": [
    {
     "name": "stdout",
     "output_type": "stream",
     "text": [
      "[ 2.2  4.3  8.3 18.2 21.9 22.2 22.2 22.2 22.2 22.9 22.9 22.9 23.2 23.5\n",
      " 23.5 23.5 23.5 23.5 23.5 23.5 23.5 23.5 23.5 23.5 23.5]\n"
     ]
    }
   ],
   "source": [
    "#Air Temp CRN:\n",
    "with open('CRNH0203-2022-MS_Holly_Springs_4_N.txt') as f:\n",
    "    lst=[line.split()[12] for line in f]\n",
    "    #print(lst)\n",
    "    temp_crn=[]\n",
    "    for i in lst:\n",
    "        new=i.replace(',',\"\")\n",
    "        temp_crn.append(new)\n",
    "    temp_crn=[float(x) for x in temp_crn]\n",
    "    temp_crn=temp_crn[2131:2156]\n",
    "    temp_crn=np.cumsum(temp_crn)\n",
    "    print(temp_crn)\n",
    "    # print(temp_crn[2124])"
   ]
  },
  {
   "cell_type": "code",
   "execution_count": 55,
   "id": "b348cd62",
   "metadata": {},
   "outputs": [
    {
     "name": "stdout",
     "output_type": "stream",
     "text": [
      "[-1.1480000000000001, -2.0380000000000007, -4.797000000000001, 0.8749999999999964, 16.075999999999997, 17.142999999999994, 17.142999999999994, 17.14399999999999, 17.14399999999999, 16.80799999999999, 17.024999999999988, 17.062999999999985, 16.924999999999983, 16.632999999999985, 16.632999999999985, 16.632999999999985, 16.632999999999985, 16.632999999999985, 16.632999999999985, 16.632999999999985, 16.632999999999985, 16.632999999999985, 16.632999999999985, 16.632999999999985, 16.632999999999985]\n"
     ]
    }
   ],
   "source": [
    "difference2_hol = []\n",
    "\n",
    "zip_object = zip(temp, temp_crn)\n",
    "for temp_i, temp_crn_i in zip_object:\n",
    "    difference2_hol.append(temp_i-temp_crn_i)\n",
    "\n",
    "print(difference2_hol)"
   ]
  },
  {
   "cell_type": "markdown",
   "id": "b5225197",
   "metadata": {},
   "source": [
    "<font size=\"3\">Newton, MS: 2000 UTC 30 March 2022-2000 UTC 31 March 2022</font>"
   ]
  },
  {
   "cell_type": "code",
   "execution_count": 56,
   "id": "c617605e",
   "metadata": {},
   "outputs": [
    {
     "name": "stdout",
     "output_type": "stream",
     "text": [
      "[ 0.     0.     0.033  0.093  1.306 24.587 25.527 25.531 25.531 25.531\n",
      " 25.531 25.531 25.531 25.531 25.531 25.531 25.531 25.531 25.531 25.531\n",
      " 25.531 25.531 25.531 25.531 25.531]\n"
     ]
    }
   ],
   "source": [
    "#1 hr hrrr:\n",
    "with open('hrrr_f01_Newton_MS.txt') as f:\n",
    "    lst=[line.split()[2] for line in f]\n",
    "    temp=[]\n",
    "    for i in lst:\n",
    "        new=i.replace(',',\"\")\n",
    "        temp.append(new)\n",
    "    temp.pop(0)\n",
    "    temp=[float(x) for x in temp]\n",
    "    temp=temp[2131:2156]\n",
    "    #temp=temp[2015:2063]\n",
    "    temp=np.cumsum(temp)\n",
    "    print(temp)\n",
    "#full time period is [2015:2112]"
   ]
  },
  {
   "cell_type": "code",
   "execution_count": 57,
   "id": "b4fea934",
   "metadata": {},
   "outputs": [
    {
     "name": "stdout",
     "output_type": "stream",
     "text": [
      "[ 0.   0.   0.   0.   1.  36.1 38.7 38.7 38.7 38.7 38.7 38.7 38.7 38.7\n",
      " 38.7 38.7 38.7 38.7 38.7 38.7 38.7 38.7 38.7 38.7 38.7]\n"
     ]
    }
   ],
   "source": [
    "#Air Temp CRN:\n",
    "with open('CRNH0203-2022-MS_Newton_5_ENE.txt') as f:\n",
    "    lst=[line.split()[12] for line in f]\n",
    "    #print(lst)\n",
    "    temp_crn=[]\n",
    "    for i in lst:\n",
    "        new=i.replace(',',\"\")\n",
    "        temp_crn.append(new)\n",
    "    temp_crn=[float(x) for x in temp_crn]\n",
    "    temp_crn=temp_crn[2131:2156]\n",
    "    temp_crn=np.cumsum(temp_crn)\n",
    "    print(temp_crn)\n",
    "    # print(temp_crn[2124])"
   ]
  },
  {
   "cell_type": "code",
   "execution_count": 58,
   "id": "cd6de2b7",
   "metadata": {},
   "outputs": [
    {
     "name": "stdout",
     "output_type": "stream",
     "text": [
      "[0.0, 0.0, 0.033, 0.093, 0.30600000000000005, -11.513000000000002, -13.173000000000002, -13.169, -13.169, -13.169, -13.169, -13.169, -13.169, -13.169, -13.169, -13.169, -13.169, -13.169, -13.169, -13.169, -13.169, -13.169, -13.169, -13.169, -13.169]\n"
     ]
    }
   ],
   "source": [
    "difference2_new = []\n",
    "\n",
    "zip_object = zip(temp, temp_crn)\n",
    "for temp_i, temp_crn_i in zip_object:\n",
    "    difference2_new.append(temp_i-temp_crn_i)\n",
    "\n",
    "print(difference2_new)"
   ]
  },
  {
   "cell_type": "markdown",
   "id": "bfaeb78c",
   "metadata": {},
   "source": [
    "<font size=\"3\">Gainesville, AL: 2300 UTC 30 March 2022-2300 UTC 31 March 2022</font>"
   ]
  },
  {
   "cell_type": "code",
   "execution_count": 59,
   "id": "fdf21c78",
   "metadata": {},
   "outputs": [
    {
     "name": "stdout",
     "output_type": "stream",
     "text": [
      "[2.0000e-03 2.1000e-01 1.0770e+00 2.2560e+00 1.5995e+01 1.7355e+01\n",
      " 1.7358e+01 1.7358e+01 1.7358e+01 1.7358e+01 1.7358e+01 1.7358e+01\n",
      " 1.7358e+01 1.7358e+01 1.7358e+01 1.7358e+01 1.7358e+01 1.7358e+01\n",
      " 1.7358e+01 1.7358e+01 1.7358e+01 1.7358e+01 1.7358e+01 1.7358e+01\n",
      " 1.7358e+01]\n"
     ]
    }
   ],
   "source": [
    "#1 hr hrrr:\n",
    "with open('hrrr_f01_Gainesville_AL.txt') as f:\n",
    "    lst=[line.split()[2] for line in f]\n",
    "    temp=[]\n",
    "    for i in lst:\n",
    "        new=i.replace(',',\"\")\n",
    "        temp.append(new)\n",
    "    temp.pop(0)\n",
    "    temp=[float(x) for x in temp]\n",
    "    temp=temp[2134:2159]\n",
    "    #temp=temp[2015:2063]\n",
    "    temp=np.cumsum(temp)\n",
    "    print(temp)\n",
    "#full time period is [2015:2112]"
   ]
  },
  {
   "cell_type": "code",
   "execution_count": 60,
   "id": "1fd4e19a",
   "metadata": {},
   "outputs": [
    {
     "name": "stdout",
     "output_type": "stream",
     "text": [
      "[ 0.   0.4  2.7 10.  24.5 25.4 25.4 25.4 25.4 25.4 25.4 25.4 25.4 25.4\n",
      " 25.4 25.4 25.4 25.4 25.4 25.4 25.4 25.4 25.4 25.4 25.4]\n"
     ]
    }
   ],
   "source": [
    "#Air Temp CRN:\n",
    "with open('CRNH0203-2022-AL_Gainesville_2_NE.txt') as f:\n",
    "    lst=[line.split()[12] for line in f]\n",
    "    #print(lst)\n",
    "    temp_crn=[]\n",
    "    for i in lst:\n",
    "        new=i.replace(',',\"\")\n",
    "        temp_crn.append(new)\n",
    "    temp_crn=[float(x) for x in temp_crn]\n",
    "    temp_crn=temp_crn[2134:2159]\n",
    "    temp_crn=np.cumsum(temp_crn)\n",
    "    print(temp_crn)\n",
    "    # print(temp_crn[2124])"
   ]
  },
  {
   "cell_type": "code",
   "execution_count": 61,
   "id": "82a257d7",
   "metadata": {},
   "outputs": [
    {
     "name": "stdout",
     "output_type": "stream",
     "text": [
      "[0.002, -0.19000000000000003, -1.6229999999999998, -7.744, -8.504999999999999, -8.044999999999998, -8.041999999999998, -8.041999999999998, -8.041999999999998, -8.041999999999998, -8.041999999999998, -8.041999999999998, -8.041999999999998, -8.041999999999998, -8.041999999999998, -8.041999999999998, -8.041999999999998, -8.041999999999998, -8.041999999999998, -8.041999999999998, -8.041999999999998, -8.041999999999998, -8.041999999999998, -8.041999999999998, -8.041999999999998]\n"
     ]
    }
   ],
   "source": [
    "difference2_gai = []\n",
    "\n",
    "zip_object = zip(temp, temp_crn)\n",
    "for temp_i, temp_crn_i in zip_object:\n",
    "    difference2_gai.append(temp_i-temp_crn_i)\n",
    "\n",
    "print(difference2_gai)"
   ]
  },
  {
   "cell_type": "markdown",
   "id": "0917b86d",
   "metadata": {},
   "source": [
    "<font size=\"3\">Fairhope, AL: 0100 UTC 31 March 2022-0100 UTC 1 April 2022</font>"
   ]
  },
  {
   "cell_type": "code",
   "execution_count": 62,
   "id": "d45d1a00",
   "metadata": {},
   "outputs": [
    {
     "name": "stdout",
     "output_type": "stream",
     "text": [
      "[1.000e-03 1.000e-03 2.000e-03 2.400e-02 7.600e-02 5.876e+00 5.898e+00\n",
      " 5.952e+00 5.964e+00 5.991e+00 5.992e+00 5.992e+00 5.992e+00 5.992e+00\n",
      " 5.992e+00 5.992e+00 5.992e+00 5.992e+00 5.992e+00 5.992e+00 5.992e+00\n",
      " 5.992e+00 5.992e+00 5.992e+00 5.992e+00]\n"
     ]
    }
   ],
   "source": [
    "#1 hr hrrr:\n",
    "with open('hrrr_f01_Fairhope_AL.txt') as f:\n",
    "    lst=[line.split()[2] for line in f]\n",
    "    temp=[]\n",
    "    for i in lst:\n",
    "        new=i.replace(',',\"\")\n",
    "        temp.append(new)\n",
    "    temp.pop(0)\n",
    "    temp=[float(x) for x in temp]\n",
    "    temp=temp[2136:2161]\n",
    "    #temp=temp[2015:2063]\n",
    "    temp=np.cumsum(temp)\n",
    "    print(temp)\n",
    "#full time period is [2015:2112]"
   ]
  },
  {
   "cell_type": "code",
   "execution_count": 63,
   "id": "96fb5481",
   "metadata": {},
   "outputs": [
    {
     "name": "stdout",
     "output_type": "stream",
     "text": [
      "[ 0.   0.   0.   0.  22.1 25.3 25.3 25.5 25.5 25.5 25.5 25.5 25.5 25.5\n",
      " 25.5 25.5 25.5 25.5 25.5 25.5 25.5 25.5 25.5 25.5 25.5]\n"
     ]
    }
   ],
   "source": [
    "#Air Temp CRN:\n",
    "with open('CRNH0203-2022-AL_Fairhope_3_NE.txt') as f:\n",
    "    lst=[line.split()[12] for line in f]\n",
    "    #print(lst)\n",
    "    temp_crn=[]\n",
    "    for i in lst:\n",
    "        new=i.replace(',',\"\")\n",
    "        temp_crn.append(new)\n",
    "    temp_crn=[float(x) for x in temp_crn]\n",
    "    temp_crn=temp_crn[2136:2161]\n",
    "    temp_crn=np.cumsum(temp_crn)\n",
    "    print(temp_crn)\n",
    "    # print(temp_crn[2124])"
   ]
  },
  {
   "cell_type": "code",
   "execution_count": 64,
   "id": "f15c30e0",
   "metadata": {},
   "outputs": [
    {
     "name": "stdout",
     "output_type": "stream",
     "text": [
      "[0.001, 0.001, 0.002, 0.024, -22.024, -19.424, -19.402, -19.548000000000002, -19.536, -19.509, -19.508, -19.508, -19.508, -19.508, -19.508, -19.508, -19.508, -19.508, -19.508, -19.508, -19.508, -19.508, -19.508, -19.508, -19.508]\n"
     ]
    }
   ],
   "source": [
    "difference2_fai = []\n",
    "\n",
    "zip_object = zip(temp, temp_crn)\n",
    "for temp_i, temp_crn_i in zip_object:\n",
    "    difference2_fai.append(temp_i-temp_crn_i)\n",
    "\n",
    "print(difference2_fai)"
   ]
  },
  {
   "cell_type": "markdown",
   "id": "e9530edf",
   "metadata": {},
   "source": [
    "<font size=\"3\">**Selma, AL: 0100 UTC 31 March 2022-0100 UTC 1 April 2022</font>"
   ]
  },
  {
   "cell_type": "code",
   "execution_count": 65,
   "id": "15e7e080",
   "metadata": {},
   "outputs": [
    {
     "name": "stdout",
     "output_type": "stream",
     "text": [
      "25\n",
      "25\n",
      "[0.0, -0.167, -4.111000000000001, -19.935999999999996, -10.368999999999996, -2.088999999999995, 5.88600000000001, 7.166000000000011, 7.174000000000014, 7.174000000000014, 7.174000000000014, 7.174000000000014, 7.174000000000014, 7.174000000000014, 7.174000000000014, 7.174000000000014, 7.174000000000014, 7.174000000000014, 7.174000000000014, 7.174000000000014, 7.174000000000014, 7.174000000000014, 7.174000000000014, 7.174000000000014, 7.174000000000014]\n",
      "25\n"
     ]
    }
   ],
   "source": [
    "#1 hr hrrr:\n",
    "with open('hrrr_f01_Selma_AL.txt') as f:\n",
    "    lst=[line.split()[2] for line in f]\n",
    "    temp=[]\n",
    "    for i in lst:\n",
    "        new=i.replace(',',\"\")\n",
    "        temp.append(new)\n",
    "    temp.pop(0)\n",
    "    temp=[float(x) for x in temp]\n",
    "    temp=temp[2136:2161]\n",
    "    \n",
    "#Air Temp CRN:\n",
    "with open('CRNH0203-2022-AL_Selma_13_WNW.txt') as f:\n",
    "    lst=[line.split()[12] for line in f]\n",
    "    #print(lst)\n",
    "    temp_crn=[]\n",
    "    for i in lst:\n",
    "        new=i.replace(',',\"\")\n",
    "        temp_crn.append(new)\n",
    "    temp_crn=[float(x) for x in temp_crn]\n",
    "    temp_crn=temp_crn[2136:2161]\n",
    "\n",
    "    temp=np.cumsum(temp)\n",
    "    print(len(temp))\n",
    "    temp_crn=np.cumsum(temp_crn)\n",
    "    print(len(temp_crn))\n",
    "#full time period is [2015:2112]\n",
    "difference2_sel = []\n",
    "\n",
    "zip_object = zip(temp, temp_crn)\n",
    "for temp_i, temp_crn_i in zip_object:\n",
    "    difference2_sel.append(temp_i-temp_crn_i)\n",
    "\n",
    "print(difference2_sel)\n",
    "print(len(difference2_sel))"
   ]
  },
  {
   "cell_type": "markdown",
   "id": "96c13278",
   "metadata": {},
   "source": [
    "<font size=\"3\">Bowling Green, KY: 0100 UTC 31 March 2022-0100 UTC 1 April 2022</font>"
   ]
  },
  {
   "cell_type": "code",
   "execution_count": 66,
   "id": "20079007",
   "metadata": {},
   "outputs": [],
   "source": [
    "# #1 hr hrrr:\n",
    "# with open('hrrr_f01_Bowling Green_KY.txt') as f:\n",
    "#     lst=[line.split()[2] for line in f]\n",
    "#     temp=[]\n",
    "#     for i in lst:\n",
    "#         new=i.replace(',',\"\")\n",
    "#         temp.append(new)\n",
    "#     temp.pop(0)\n",
    "#     temp=[float(x) for x in temp]\n",
    "#     temp=temp[2136:2161]\n",
    "# #     x = np.array(temp)\n",
    "# #     temp= ma.masked_array(x, mask=[0, 0, 0, 0, 0,0,1,0,0,0,0,0,0,0,0,0,0,0,0,0,0,0,0,0,0])\n",
    "#     #temp=temp[2015:2063]\n",
    "#     temp=np.cumsum(temp)\n",
    "#     print(temp)\n",
    "# #full time period is [2015:2112]"
   ]
  },
  {
   "cell_type": "code",
   "execution_count": 67,
   "id": "60c4e4cc",
   "metadata": {},
   "outputs": [],
   "source": [
    "# #Air Temp CRN:\n",
    "# with open('CRNH0203-2022-KY_Bowling_Green_21_NNE.txt') as f:\n",
    "#     lst=[line.split()[12] for line in f]\n",
    "#     #print(lst)\n",
    "#     temp_crn=[]\n",
    "#     for i in lst:\n",
    "#         new=i.replace(',',\"\")\n",
    "#         temp_crn.append(new)\n",
    "#     temp_crn=[float(x) for x in temp_crn]\n",
    "#     temp_crn=temp_crn[2136:2161]\n",
    "#     y = np.array(temp_crn)\n",
    "#     temp_crn = ma.masked_array(y, mask=[0, 0, 0, 0, 0,0,1,0,0,0,0,0,0,0,0,0,0,0,0,0,0,0,0,0,0])\n",
    "#     temp_crn=np.cumsum(temp_crn)\n",
    "#     print(temp_crn)\n",
    "#     # print(temp_crn[2124])"
   ]
  },
  {
   "cell_type": "code",
   "execution_count": 68,
   "id": "90cedfd2",
   "metadata": {},
   "outputs": [],
   "source": [
    "# difference2_bow = []\n",
    "\n",
    "# zip_object = zip(temp, temp_crn)\n",
    "# for temp_i, temp_crn_i in zip_object:\n",
    "#     difference2_bow.append(temp_i-temp_crn_i)\n",
    "\n",
    "# print(difference2_bow)"
   ]
  },
  {
   "cell_type": "code",
   "execution_count": 69,
   "id": "47fff0d0",
   "metadata": {},
   "outputs": [],
   "source": [
    "# temp[6]=0\n",
    "# temp_crn[6]=0\n",
    "# difference2_bow[6]=0\n",
    "\n",
    "# temp=np.cumsum(temp)\n",
    "# temp_crn=np.cumsum(temp_crn)\n",
    "# print(difference2_bow)"
   ]
  },
  {
   "cell_type": "markdown",
   "id": "770eb1f1",
   "metadata": {},
   "source": [
    "<font size=\"3\">Gadsden, AL: 0200 UTC 31 March 2022-0200 UTC 1 April 2022</font>"
   ]
  },
  {
   "cell_type": "code",
   "execution_count": 70,
   "id": "c25cd2ac",
   "metadata": {},
   "outputs": [],
   "source": [
    "# #1 hr hrrr:\n",
    "# with open('hrrr_f01_Gadsden_AL.txt') as f:\n",
    "#     lst=[line.split()[2] for line in f]\n",
    "#     temp=[]\n",
    "#     for i in lst:\n",
    "#         new=i.replace(',',\"\")\n",
    "#         temp.append(new)\n",
    "#     temp.pop(0)\n",
    "#     temp=[float(x) for x in temp]\n",
    "#     temp=temp[2137:2162]\n",
    "#     #temp=temp[2015:2063]\n",
    "#     temp=np.cumsum(temp)\n",
    "#     print(temp)\n",
    "# #full time period is [2015:2112]"
   ]
  },
  {
   "cell_type": "code",
   "execution_count": 71,
   "id": "c0d02698",
   "metadata": {},
   "outputs": [],
   "source": [
    "# #Air Temp CRN:\n",
    "# with open('CRNH0203-2022-AL_Gadsden_19_N.txt') as f:\n",
    "#     lst=[line.split()[12] for line in f]\n",
    "#     #print(lst)\n",
    "#     temp_crn=[]\n",
    "#     for i in lst:\n",
    "#         new=i.replace(',',\"\")\n",
    "#         temp_crn.append(new)\n",
    "#     temp_crn=[float(x) for x in temp_crn]\n",
    "#     temp_crn=temp_crn[2137:2162]\n",
    "#     temp_crn=np.cumsum(temp_crn)\n",
    "#     print(temp_crn)\n",
    "#     # print(temp_crn[2124])"
   ]
  },
  {
   "cell_type": "code",
   "execution_count": 72,
   "id": "d63723fd",
   "metadata": {},
   "outputs": [],
   "source": [
    "# difference2_gad = []\n",
    "\n",
    "# zip_object = zip(temp, temp_crn)\n",
    "# for temp_i, temp_crn_i in zip_object:\n",
    "#     difference2_gad.append(temp_i-temp_crn_i)\n",
    "\n",
    "# print(difference2_gad)"
   ]
  },
  {
   "cell_type": "markdown",
   "id": "cd4a8f77",
   "metadata": {},
   "source": [
    "<font size=\"3\">Newton, GA: 0700 UTC 31 March 2022-0700 UTC 1 April 2022</font>"
   ]
  },
  {
   "cell_type": "code",
   "execution_count": 73,
   "id": "94f61dc0",
   "metadata": {},
   "outputs": [
    {
     "name": "stdout",
     "output_type": "stream",
     "text": [
      "[0.0000e+00 0.0000e+00 1.1000e-02 5.6200e-01 3.6090e+00 8.0190e+00\n",
      " 1.7959e+01 2.1839e+01 2.3631e+01 2.3631e+01 2.3631e+01 2.3631e+01\n",
      " 2.3631e+01 2.3631e+01 2.3631e+01 2.3631e+01 2.3631e+01 2.3631e+01\n",
      " 2.3631e+01 2.3631e+01 2.3631e+01 2.3631e+01 2.3631e+01 2.3631e+01\n",
      " 2.3631e+01]\n"
     ]
    }
   ],
   "source": [
    "#1 hr hrrr:\n",
    "with open('hrrr_f01_Newton_GA.txt') as f:\n",
    "    lst=[line.split()[2] for line in f]\n",
    "    temp=[]\n",
    "    for i in lst:\n",
    "        new=i.replace(',',\"\")\n",
    "        temp.append(new)\n",
    "    temp.pop(0)\n",
    "    temp=[float(x) for x in temp]\n",
    "    temp=temp[2142:2167]\n",
    "    #temp=temp[2015:2063]\n",
    "    temp=np.cumsum(temp)\n",
    "    print(temp)\n",
    "#full time period is [2015:2112]"
   ]
  },
  {
   "cell_type": "code",
   "execution_count": 74,
   "id": "1d798d77",
   "metadata": {},
   "outputs": [
    {
     "name": "stdout",
     "output_type": "stream",
     "text": [
      "[ 0.   0.   0.   3.3  4.9 10.5 25.4 30.3 33.2 33.2 33.2 33.2 33.2 33.2\n",
      " 33.2 33.2 33.2 33.2 33.2 33.2 33.2 33.2 33.2 33.2 33.2]\n"
     ]
    }
   ],
   "source": [
    "#Air Temp CRN:\n",
    "with open('CRNH0203-2022-GA_Newton_11_SW.txt') as f:\n",
    "    lst=[line.split()[12] for line in f]\n",
    "    #print(lst)\n",
    "    temp_crn=[]\n",
    "    for i in lst:\n",
    "        new=i.replace(',',\"\")\n",
    "        temp_crn.append(new)\n",
    "    temp_crn=[float(x) for x in temp_crn]\n",
    "    temp_crn=temp_crn[2142:2167]\n",
    "    temp_crn=np.cumsum(temp_crn)\n",
    "    print(temp_crn)\n",
    "    # print(temp_crn[2124])"
   ]
  },
  {
   "cell_type": "code",
   "execution_count": 75,
   "id": "4bcfa192",
   "metadata": {},
   "outputs": [
    {
     "name": "stdout",
     "output_type": "stream",
     "text": [
      "[0.0, 0.0, 0.011, -2.7379999999999995, -1.2910000000000004, -2.481, -7.440999999999999, -8.460999999999999, -9.568999999999996, -9.568999999999996, -9.568999999999996, -9.568999999999996, -9.568999999999996, -9.568999999999996, -9.568999999999996, -9.568999999999996, -9.568999999999996, -9.568999999999996, -9.568999999999996, -9.568999999999996, -9.568999999999996, -9.568999999999996, -9.568999999999996, -9.568999999999996, -9.568999999999996]\n"
     ]
    }
   ],
   "source": [
    "difference2_newt = []\n",
    "\n",
    "zip_object = zip(temp, temp_crn)\n",
    "for temp_i, temp_crn_i in zip_object:\n",
    "    difference2_newt.append(temp_i-temp_crn_i)\n",
    "\n",
    "print(difference2_newt)"
   ]
  },
  {
   "cell_type": "markdown",
   "id": "8148ba77",
   "metadata": {},
   "source": [
    "<font size=\"3\">Salem, MO: 1000 UTC 5 April 2022-1000 UTC 6 April 2022</font>"
   ]
  },
  {
   "cell_type": "code",
   "execution_count": 76,
   "id": "04e77b41",
   "metadata": {},
   "outputs": [
    {
     "name": "stdout",
     "output_type": "stream",
     "text": [
      "25\n"
     ]
    }
   ],
   "source": [
    "#1 hr hrrr:\n",
    "with open('hrrr_f01_Salem_MO.txt') as f:\n",
    "    lst=[line.split()[2] for line in f]\n",
    "    temp=[]\n",
    "    for i in lst:\n",
    "        new=i.replace(',',\"\")\n",
    "        temp.append(new)\n",
    "    temp.pop(0)\n",
    "    temp=[float(x) for x in temp]\n",
    "    temp=temp[2265:2290]\n",
    "    #temp=temp[2015:2063]\n",
    "    temp=np.cumsum(temp)\n",
    "    print(len(temp))\n",
    "#full time period is [2015:2112]"
   ]
  },
  {
   "cell_type": "code",
   "execution_count": 77,
   "id": "4616d240",
   "metadata": {},
   "outputs": [
    {
     "name": "stdout",
     "output_type": "stream",
     "text": [
      "[0.  0.  0.  0.  0.  0.  0.  0.  0.  0.  0.  0.  0.  0.  0.  0.  0.  0.\n",
      " 0.  0.  0.5 0.5 1.3 1.3 1.3]\n"
     ]
    }
   ],
   "source": [
    "#Air Temp CRN:\n",
    "with open('CRNH0203-2022-MO_Salem_10_W.txt') as f:\n",
    "    lst=[line.split()[12] for line in f]\n",
    "    #print(lst)\n",
    "    temp_crn=[]\n",
    "    for i in lst:\n",
    "        new=i.replace(',',\"\")\n",
    "        temp_crn.append(new)\n",
    "    temp_crn=[float(x) for x in temp_crn]\n",
    "    temp_crn=temp_crn[2265:2290]\n",
    "    temp_crn=np.cumsum(temp_crn)\n",
    "    print(temp_crn)\n",
    "    # print(temp_crn[2124])"
   ]
  },
  {
   "cell_type": "code",
   "execution_count": 78,
   "id": "b6a1a5d3",
   "metadata": {},
   "outputs": [
    {
     "name": "stdout",
     "output_type": "stream",
     "text": [
      "25\n"
     ]
    }
   ],
   "source": [
    "hour=[]\n",
    "for i in range(-12,13,1):\n",
    "    hour.append(i)\n",
    "    i+=1\n",
    "print(len(hour))"
   ]
  },
  {
   "cell_type": "code",
   "execution_count": 79,
   "id": "d9f71702",
   "metadata": {},
   "outputs": [
    {
     "name": "stdout",
     "output_type": "stream",
     "text": [
      "[0.0, 0.0, 0.0, 0.0, 0.0, 0.006, 0.006, 0.006, 0.006, 0.006, 0.006, 0.006, 0.006, 0.006, 0.006, 0.006, 0.006, 0.006, 0.011, 0.997, 0.815, 0.8219999999999998, 0.02499999999999969, 0.02699999999999969, 0.028999999999999693]\n"
     ]
    }
   ],
   "source": [
    "difference3_sal = []\n",
    "\n",
    "zip_object = zip(temp, temp_crn)\n",
    "for temp_i, temp_crn_i in zip_object:\n",
    "    difference3_sal.append(temp_i-temp_crn_i)\n",
    "\n",
    "print(difference3_sal)"
   ]
  },
  {
   "cell_type": "markdown",
   "id": "cc4a44b1",
   "metadata": {},
   "source": [
    "<font size=\"3\">Batesville, AR: 1000 UTC 5 April 2022-1000 UTC 6 April 2022</font>"
   ]
  },
  {
   "cell_type": "code",
   "execution_count": 80,
   "id": "ad34113c",
   "metadata": {},
   "outputs": [
    {
     "name": "stdout",
     "output_type": "stream",
     "text": [
      "[ 0.453  1.023  1.132  1.17   1.236  1.236  1.236  1.236  1.236  1.236\n",
      "  1.236  1.236  1.236  1.236  1.236  1.236  1.236  1.236  1.236  1.236\n",
      "  1.236  1.236  5.784 10.854 12.411]\n"
     ]
    }
   ],
   "source": [
    "#1 hr hrrr:\n",
    "with open('hrrr_f01_Batesville_AR.txt') as f:\n",
    "    lst=[line.split()[2] for line in f]\n",
    "    temp=[]\n",
    "    for i in lst:\n",
    "        new=i.replace(',',\"\")\n",
    "        temp.append(new)\n",
    "    temp.pop(0)\n",
    "    temp=[float(x) for x in temp]\n",
    "    temp=temp[2265:2290]\n",
    "    #temp=temp[2015:2063]\n",
    "    temp=np.cumsum(temp)\n",
    "    print(temp)\n",
    "#full time period is [2015:2112]"
   ]
  },
  {
   "cell_type": "code",
   "execution_count": 81,
   "id": "509d7824",
   "metadata": {},
   "outputs": [
    {
     "name": "stdout",
     "output_type": "stream",
     "text": [
      "[ 2.3  4.4  4.4  4.6  4.6  4.6  4.6  4.6  4.6  4.6  4.6  4.6  4.6  4.6\n",
      "  4.6  4.6  4.6  4.6  4.6  4.6  4.6  4.6 14.8 18.9 18.9]\n"
     ]
    }
   ],
   "source": [
    "#Air Temp CRN:\n",
    "with open('CRNH0203-2022-AR_Batesville_8_WNW.txt') as f:\n",
    "    lst=[line.split()[12] for line in f]\n",
    "    #print(lst)\n",
    "    temp_crn=[]\n",
    "    for i in lst:\n",
    "        new=i.replace(',',\"\")\n",
    "        temp_crn.append(new)\n",
    "    temp_crn=[float(x) for x in temp_crn]\n",
    "    temp_crn=temp_crn[2265:2290]\n",
    "    temp_crn=np.cumsum(temp_crn)\n",
    "    print(temp_crn)\n",
    "    # print(temp_crn[2124])"
   ]
  },
  {
   "cell_type": "code",
   "execution_count": 82,
   "id": "c5f712f8",
   "metadata": {},
   "outputs": [
    {
     "name": "stdout",
     "output_type": "stream",
     "text": [
      "[-1.8469999999999998, -3.3770000000000007, -3.2680000000000007, -3.4300000000000006, -3.3640000000000008, -3.3640000000000008, -3.3640000000000008, -3.3640000000000008, -3.3640000000000008, -3.3640000000000008, -3.3640000000000008, -3.3640000000000008, -3.3640000000000008, -3.3640000000000008, -3.3640000000000008, -3.3640000000000008, -3.3640000000000008, -3.3640000000000008, -3.3640000000000008, -3.3640000000000008, -3.3640000000000008, -3.3640000000000008, -9.016000000000002, -8.046, -6.488999999999999]\n"
     ]
    }
   ],
   "source": [
    "difference3_bat = []\n",
    "\n",
    "zip_object = zip(temp, temp_crn)\n",
    "for temp_i, temp_crn_i in zip_object:\n",
    "    difference3_bat.append(temp_i-temp_crn_i)\n",
    "\n",
    "print(difference3_bat)"
   ]
  },
  {
   "cell_type": "markdown",
   "id": "9f92620f",
   "metadata": {},
   "source": [
    "<font size=\"3\">Lafayette, LA: 1000 UTC 5 April 2022-1000 UTC 6 April 2022</font>"
   ]
  },
  {
   "cell_type": "code",
   "execution_count": 83,
   "id": "4e113e1c",
   "metadata": {},
   "outputs": [
    {
     "name": "stdout",
     "output_type": "stream",
     "text": [
      "[1.0000e-03 4.0000e-02 8.4300e-01 1.0760e+01 1.3978e+01 1.7656e+01\n",
      " 1.7658e+01 2.0320e+01 2.0407e+01 2.0600e+01 2.0606e+01 2.0606e+01\n",
      " 2.0609e+01 2.0609e+01 2.0609e+01 2.0609e+01 2.0609e+01 2.0609e+01\n",
      " 2.0610e+01 2.0610e+01 2.0610e+01 2.0610e+01 2.0610e+01 2.0610e+01\n",
      " 2.0610e+01]\n"
     ]
    }
   ],
   "source": [
    "#1 hr hrrr:\n",
    "with open('hrrr_f01_Lafayette_LA.txt') as f:\n",
    "    lst=[line.split()[2] for line in f]\n",
    "    temp=[]\n",
    "    for i in lst:\n",
    "        new=i.replace(',',\"\")\n",
    "        temp.append(new)\n",
    "    temp.pop(0)\n",
    "    temp=[float(x) for x in temp]\n",
    "    temp=temp[2265:2290]\n",
    "    #temp=temp[2015:2063]\n",
    "    temp=np.cumsum(temp)\n",
    "    print(temp)\n",
    "#full time period is [2015:2112]"
   ]
  },
  {
   "cell_type": "code",
   "execution_count": 84,
   "id": "5a4b31fa",
   "metadata": {},
   "outputs": [
    {
     "name": "stdout",
     "output_type": "stream",
     "text": [
      "[0.  0.  1.3 5.8 5.8 5.8 5.8 5.8 5.8 5.8 5.8 5.8 5.8 5.8 5.8 5.8 5.8 5.8\n",
      " 5.8 5.8 5.8 5.8 5.8 5.8 5.8]\n"
     ]
    }
   ],
   "source": [
    "#Air Temp CRN:\n",
    "with open('CRNH0203-2022-LA_Lafayette_13_SE.txt') as f:\n",
    "    lst=[line.split()[12] for line in f]\n",
    "    #print(lst)\n",
    "    temp_crn=[]\n",
    "    for i in lst:\n",
    "        new=i.replace(',',\"\")\n",
    "        temp_crn.append(new)\n",
    "    temp_crn=[float(x) for x in temp_crn]\n",
    "    temp_crn=temp_crn[2265:2290]\n",
    "    temp_crn=np.cumsum(temp_crn)\n",
    "    print(temp_crn)\n",
    "    # print(temp_crn[2124])"
   ]
  },
  {
   "cell_type": "code",
   "execution_count": 85,
   "id": "18c37a9b",
   "metadata": {},
   "outputs": [
    {
     "name": "stdout",
     "output_type": "stream",
     "text": [
      "[0.001, 0.04, -0.45699999999999996, 4.96, 8.178, 11.855999999999998, 11.857999999999997, 14.519999999999996, 14.606999999999996, 14.799999999999997, 14.805999999999997, 14.805999999999997, 14.808999999999997, 14.808999999999997, 14.808999999999997, 14.808999999999997, 14.808999999999997, 14.808999999999997, 14.809999999999999, 14.809999999999999, 14.809999999999999, 14.809999999999999, 14.809999999999999, 14.809999999999999, 14.809999999999999]\n"
     ]
    }
   ],
   "source": [
    "difference3_laf = []\n",
    "\n",
    "zip_object = zip(temp, temp_crn)\n",
    "for temp_i, temp_crn_i in zip_object:\n",
    "    difference3_laf.append(temp_i-temp_crn_i)\n",
    "\n",
    "print(difference3_laf)"
   ]
  },
  {
   "cell_type": "markdown",
   "id": "6bc47d22",
   "metadata": {},
   "source": [
    "<font size=\"3\">Monroe, LA: 1000 UTC 5 April 2022-1000 UTC 6 April 2022</font>"
   ]
  },
  {
   "cell_type": "code",
   "execution_count": 86,
   "id": "527f3041",
   "metadata": {},
   "outputs": [
    {
     "name": "stdout",
     "output_type": "stream",
     "text": [
      "[2.602 2.858 3.107 3.173 3.175 3.175 3.175 3.175 3.175 3.175 3.175 3.175\n",
      " 3.175 3.175 3.175 3.175 3.175 3.175 3.175 3.175 3.175 3.175 3.175 3.175\n",
      " 3.175]\n"
     ]
    }
   ],
   "source": [
    "#1 hr hrrr:\n",
    "with open('hrrr_f01_Monroe_LA.txt') as f:\n",
    "    lst=[line.split()[2] for line in f]\n",
    "    temp=[]\n",
    "    for i in lst:\n",
    "        new=i.replace(',',\"\")\n",
    "        temp.append(new)\n",
    "    temp.pop(0)\n",
    "    temp=[float(x) for x in temp]\n",
    "    temp=temp[2265:2290]\n",
    "    #temp=temp[2015:2063]\n",
    "    temp=np.cumsum(temp)\n",
    "    print(temp)\n",
    "#full time period is [2015:2112]"
   ]
  },
  {
   "cell_type": "code",
   "execution_count": 87,
   "id": "e443548a",
   "metadata": {},
   "outputs": [
    {
     "name": "stdout",
     "output_type": "stream",
     "text": [
      "[8.4 9.2 9.4 9.4 9.4 9.4 9.4 9.4 9.4 9.4 9.4 9.4 9.4 9.4 9.4 9.4 9.4 9.4\n",
      " 9.4 9.4 9.4 9.4 9.4 9.4 9.4]\n"
     ]
    }
   ],
   "source": [
    "#Air Temp CRN:\n",
    "with open('CRNH0203-2022-LA_Monroe_26_N.txt') as f:\n",
    "    lst=[line.split()[12] for line in f]\n",
    "    #print(lst)\n",
    "    temp_crn=[]\n",
    "    for i in lst:\n",
    "        new=i.replace(',',\"\")\n",
    "        temp_crn.append(new)\n",
    "    temp_crn=[float(x) for x in temp_crn]\n",
    "    temp_crn=temp_crn[2265:2290]\n",
    "    temp_crn=np.cumsum(temp_crn)\n",
    "    print(temp_crn)\n",
    "    # print(temp_crn[2124])"
   ]
  },
  {
   "cell_type": "code",
   "execution_count": 88,
   "id": "cc1402aa",
   "metadata": {},
   "outputs": [
    {
     "name": "stdout",
     "output_type": "stream",
     "text": [
      "[-5.798, -6.342000000000001, -6.293000000000001, -6.227, -6.225000000000001, -6.225000000000001, -6.225000000000001, -6.225000000000001, -6.225000000000001, -6.225000000000001, -6.225000000000001, -6.225000000000001, -6.225000000000001, -6.225000000000001, -6.225000000000001, -6.225000000000001, -6.225000000000001, -6.225000000000001, -6.225000000000001, -6.225000000000001, -6.225000000000001, -6.225000000000001, -6.225000000000001, -6.225000000000001, -6.225000000000001]\n"
     ]
    }
   ],
   "source": [
    "difference3_mon = []\n",
    "\n",
    "zip_object = zip(temp, temp_crn)\n",
    "for temp_i, temp_crn_i in zip_object:\n",
    "    difference3_mon.append(temp_i-temp_crn_i)\n",
    "\n",
    "print(difference3_mon)"
   ]
  },
  {
   "cell_type": "markdown",
   "id": "8e498386",
   "metadata": {},
   "source": [
    "<font size=\"3\">Holly Springs, MS: 1100 UTC 5 April 2022-1100 UTC 6 April 2022</font>"
   ]
  },
  {
   "cell_type": "code",
   "execution_count": 89,
   "id": "e0c85560",
   "metadata": {},
   "outputs": [
    {
     "name": "stdout",
     "output_type": "stream",
     "text": [
      "[0.725 2.633 7.293 7.317 7.384 7.816 7.82  7.82  7.82  7.82  7.82  7.82\n",
      " 7.82  7.82  7.82  7.82  7.82  7.82  7.82  7.82  7.82  7.82  7.825 7.828\n",
      " 7.838]\n"
     ]
    }
   ],
   "source": [
    "#1 hr hrrr:\n",
    "with open('hrrr_f01_Holly Springs_MS.txt') as f:\n",
    "    lst=[line.split()[2] for line in f]\n",
    "    temp=[]\n",
    "    for i in lst:\n",
    "        new=i.replace(',',\"\")\n",
    "        temp.append(new)\n",
    "    temp.pop(0)\n",
    "    temp=[float(x) for x in temp]\n",
    "    temp=temp[2266:2291]\n",
    "    #temp=temp[2015:2063]\n",
    "    temp=np.cumsum(temp)\n",
    "    print(temp)\n",
    "#full time period is [2015:2112]"
   ]
  },
  {
   "cell_type": "code",
   "execution_count": 90,
   "id": "cf8e50e8",
   "metadata": {},
   "outputs": [
    {
     "name": "stdout",
     "output_type": "stream",
     "text": [
      "[ 4.2  9.1  9.7  9.7 11.2 11.6 11.6 11.6 11.6 11.6 11.6 11.6 11.6 11.6\n",
      " 11.6 11.6 11.6 11.6 11.6 11.6 11.6 11.6 11.6 11.6 11.6]\n"
     ]
    }
   ],
   "source": [
    "#Air Temp CRN:\n",
    "with open('CRNH0203-2022-MS_Holly_Springs_4_N.txt') as f:\n",
    "    lst=[line.split()[12] for line in f]\n",
    "    #print(lst)\n",
    "    temp_crn=[]\n",
    "    for i in lst:\n",
    "        new=i.replace(',',\"\")\n",
    "        temp_crn.append(new)\n",
    "    temp_crn=[float(x) for x in temp_crn]\n",
    "    temp_crn=temp_crn[2266:2291]\n",
    "    temp_crn=np.cumsum(temp_crn)\n",
    "    print(temp_crn)\n",
    "    # print(temp_crn[2124])"
   ]
  },
  {
   "cell_type": "code",
   "execution_count": 91,
   "id": "9625595c",
   "metadata": {},
   "outputs": [
    {
     "name": "stdout",
     "output_type": "stream",
     "text": [
      "[-3.475, -6.467000000000001, -2.407000000000001, -2.383000000000001, -3.8160000000000007, -3.7840000000000007, -3.780000000000001, -3.780000000000001, -3.780000000000001, -3.780000000000001, -3.780000000000001, -3.780000000000001, -3.780000000000001, -3.780000000000001, -3.780000000000001, -3.780000000000001, -3.780000000000001, -3.780000000000001, -3.780000000000001, -3.780000000000001, -3.780000000000001, -3.780000000000001, -3.7750000000000012, -3.772000000000001, -3.7620000000000013]\n"
     ]
    }
   ],
   "source": [
    "difference3_hol = []\n",
    "\n",
    "zip_object = zip(temp, temp_crn)\n",
    "for temp_i, temp_crn_i in zip_object:\n",
    "    difference3_hol.append(temp_i-temp_crn_i)\n",
    "\n",
    "print(difference3_hol)"
   ]
  },
  {
   "cell_type": "markdown",
   "id": "cec214d2",
   "metadata": {},
   "source": [
    "<font size=\"3\">Newton, MS: 1100 UTC 5 April 2022-1100 UTC 6 April 2022</font>"
   ]
  },
  {
   "cell_type": "code",
   "execution_count": 92,
   "id": "6a550d99",
   "metadata": {},
   "outputs": [
    {
     "name": "stdout",
     "output_type": "stream",
     "text": [
      "[ 8.745  9.012 39.737 43.41  43.804 45.149 45.298 45.298 45.298 45.298\n",
      " 45.298 45.298 45.298 45.298 45.298 45.298 45.298 45.298 45.298 45.298\n",
      " 45.298 45.298 45.309 45.31  45.31 ]\n"
     ]
    }
   ],
   "source": [
    "#1 hr hrrr:\n",
    "with open('hrrr_f01_Newton_MS.txt') as f:\n",
    "    lst=[line.split()[2] for line in f]\n",
    "    temp=[]\n",
    "    for i in lst:\n",
    "        new=i.replace(',',\"\")\n",
    "        temp.append(new)\n",
    "    temp.pop(0)\n",
    "    temp=[float(x) for x in temp]\n",
    "    temp=temp[2266:2291]\n",
    "    #temp=temp[2015:2063]\n",
    "    temp=np.cumsum(temp)\n",
    "    print(temp)\n",
    "#full time period is [2015:2112]"
   ]
  },
  {
   "cell_type": "code",
   "execution_count": 93,
   "id": "451fc547",
   "metadata": {},
   "outputs": [
    {
     "name": "stdout",
     "output_type": "stream",
     "text": [
      "[ 0.   0.4 11.9 14.8 16.6 19.3 20.4 20.4 20.4 20.4 20.4 20.4 20.4 20.4\n",
      " 20.4 20.4 20.4 20.4 20.4 20.4 20.4 20.4 20.4 20.4 20.4]\n"
     ]
    }
   ],
   "source": [
    "#Air Temp CRN:\n",
    "with open('CRNH0203-2022-MS_Newton_5_ENE.txt') as f:\n",
    "    lst=[line.split()[12] for line in f]\n",
    "    #print(lst)\n",
    "    temp_crn=[]\n",
    "    for i in lst:\n",
    "        new=i.replace(',',\"\")\n",
    "        temp_crn.append(new)\n",
    "    temp_crn=[float(x) for x in temp_crn]\n",
    "    temp_crn=temp_crn[2266:2291]\n",
    "    temp_crn=np.cumsum(temp_crn)\n",
    "    print(temp_crn)\n",
    "    # print(temp_crn[2124])"
   ]
  },
  {
   "cell_type": "code",
   "execution_count": 94,
   "id": "a83781b3",
   "metadata": {},
   "outputs": [
    {
     "name": "stdout",
     "output_type": "stream",
     "text": [
      "[8.745, 8.611999999999998, 27.837000000000003, 28.610000000000003, 27.204, 25.849, 24.898, 24.898, 24.898, 24.898, 24.898, 24.898, 24.898, 24.898, 24.898, 24.898, 24.898, 24.898, 24.898, 24.898, 24.898, 24.898, 24.909000000000002, 24.91, 24.91]\n"
     ]
    }
   ],
   "source": [
    "difference3_new = []\n",
    "\n",
    "zip_object = zip(temp, temp_crn)\n",
    "for temp_i, temp_crn_i in zip_object:\n",
    "    difference3_new.append(temp_i-temp_crn_i)\n",
    "\n",
    "print(difference3_new)"
   ]
  },
  {
   "cell_type": "markdown",
   "id": "576090a5",
   "metadata": {},
   "source": [
    "<font size=\"3\">Gainesville, AL: 1300 UTC 5 April 2022-1300 UTC 6 April 2022</font>"
   ]
  },
  {
   "cell_type": "code",
   "execution_count": 95,
   "id": "37a998a0",
   "metadata": {},
   "outputs": [
    {
     "name": "stdout",
     "output_type": "stream",
     "text": [
      "[ 1.569  8.812  9.763 10.279 10.939 10.948 10.948 10.948 10.948 10.948\n",
      " 10.948 10.948 10.948 10.948 10.948 10.949 10.949 10.949 10.949 10.949\n",
      " 10.949 10.949 10.949 10.949 10.949]\n"
     ]
    }
   ],
   "source": [
    "#1 hr hrrr:\n",
    "with open('hrrr_f01_Gainesville_AL.txt') as f:\n",
    "    lst=[line.split()[2] for line in f]\n",
    "    temp=[]\n",
    "    for i in lst:\n",
    "        new=i.replace(',',\"\")\n",
    "        temp.append(new)\n",
    "    temp.pop(0)\n",
    "    temp=[float(x) for x in temp]\n",
    "    temp=temp[2268:2293]\n",
    "    #temp=temp[2015:2063]\n",
    "    temp=np.cumsum(temp)\n",
    "    print(temp)\n",
    "#full time period is [2015:2112]"
   ]
  },
  {
   "cell_type": "code",
   "execution_count": 96,
   "id": "d2d3b56b",
   "metadata": {},
   "outputs": [
    {
     "name": "stdout",
     "output_type": "stream",
     "text": [
      "[ 3.9 20.3 21.6 21.8 22.6 22.6 22.6 22.6 22.6 22.6 22.6 22.6 22.6 22.6\n",
      " 22.6 22.6 22.6 22.6 22.6 22.6 22.6 22.6 22.6 22.6 22.6]\n"
     ]
    }
   ],
   "source": [
    "#Air Temp CRN:\n",
    "with open('CRNH0203-2022-AL_Gainesville_2_NE.txt') as f:\n",
    "    lst=[line.split()[12] for line in f]\n",
    "    #print(lst)\n",
    "    temp_crn=[]\n",
    "    for i in lst:\n",
    "        new=i.replace(',',\"\")\n",
    "        temp_crn.append(new)\n",
    "    temp_crn=[float(x) for x in temp_crn]\n",
    "    temp_crn=temp_crn[2268:2293]\n",
    "    temp_crn=np.cumsum(temp_crn)\n",
    "    print(temp_crn)\n",
    "    # print(temp_crn[2124])"
   ]
  },
  {
   "cell_type": "code",
   "execution_count": 97,
   "id": "b1176cf2",
   "metadata": {},
   "outputs": [
    {
     "name": "stdout",
     "output_type": "stream",
     "text": [
      "[-2.331, -11.487999999999996, -11.836999999999996, -11.520999999999995, -11.660999999999996, -11.651999999999996, -11.651999999999996, -11.651999999999996, -11.651999999999996, -11.651999999999996, -11.651999999999996, -11.651999999999996, -11.651999999999996, -11.651999999999996, -11.651999999999996, -11.650999999999996, -11.650999999999996, -11.650999999999996, -11.650999999999996, -11.650999999999996, -11.650999999999996, -11.650999999999996, -11.650999999999996, -11.650999999999996, -11.650999999999996]\n"
     ]
    }
   ],
   "source": [
    "difference3_gai = []\n",
    "\n",
    "zip_object = zip(temp, temp_crn)\n",
    "for temp_i, temp_crn_i in zip_object:\n",
    "    difference3_gai.append(temp_i-temp_crn_i)\n",
    "\n",
    "print(difference3_gai)"
   ]
  },
  {
   "cell_type": "markdown",
   "id": "0a541e7a",
   "metadata": {},
   "source": [
    "<font size=\"3\">Fairhope, AL: 1300 UTC 5 April 2022-1300 UTC 6 April 2022</font>"
   ]
  },
  {
   "cell_type": "code",
   "execution_count": 98,
   "id": "12319201",
   "metadata": {},
   "outputs": [
    {
     "name": "stdout",
     "output_type": "stream",
     "text": [
      "[ 0.058  0.295  0.297  0.344  0.568 28.831 33.109 34.805 37.677 37.681\n",
      " 37.682 37.682 37.73  38.18  38.377 38.572 38.576 38.576 38.576 38.576\n",
      " 38.576 38.576 38.576 38.576 38.576]\n"
     ]
    }
   ],
   "source": [
    "#1 hr hrrr:\n",
    "with open('hrrr_f01_Fairhope_AL.txt') as f:\n",
    "    lst=[line.split()[2] for line in f]\n",
    "    temp=[]\n",
    "    for i in lst:\n",
    "        new=i.replace(',',\"\")\n",
    "        temp.append(new)\n",
    "    temp.pop(0)\n",
    "    temp=[float(x) for x in temp]\n",
    "    temp=temp[2268:2293]\n",
    "    #temp=temp[2015:2063]\n",
    "    temp=np.cumsum(temp)\n",
    "    print(temp)\n",
    "#full time period is [2015:2112]"
   ]
  },
  {
   "cell_type": "code",
   "execution_count": 99,
   "id": "0f24863a",
   "metadata": {},
   "outputs": [
    {
     "name": "stdout",
     "output_type": "stream",
     "text": [
      "[ 0.   0.   0.   0.   0.  26.1 34.9 41.9 41.9 41.9 41.9 41.9 41.9 41.9\n",
      " 41.9 41.9 41.9 41.9 41.9 41.9 41.9 41.9 41.9 41.9 41.9]\n"
     ]
    }
   ],
   "source": [
    "#Air Temp CRN:\n",
    "with open('CRNH0203-2022-AL_Fairhope_3_NE.txt') as f:\n",
    "    lst=[line.split()[12] for line in f]\n",
    "    #print(lst)\n",
    "    temp_crn=[]\n",
    "    for i in lst:\n",
    "        new=i.replace(',',\"\")\n",
    "        temp_crn.append(new)\n",
    "    temp_crn=[float(x) for x in temp_crn]\n",
    "    temp_crn=temp_crn[2268:2293]\n",
    "    temp_crn=np.cumsum(temp_crn)\n",
    "    print(temp_crn)\n",
    "    # print(temp_crn[2124])"
   ]
  },
  {
   "cell_type": "code",
   "execution_count": 100,
   "id": "e08d6481",
   "metadata": {},
   "outputs": [
    {
     "name": "stdout",
     "output_type": "stream",
     "text": [
      "[0.058, 0.295, 0.297, 0.344, 0.568, 2.7310000000000016, -1.791000000000004, -7.095000000000006, -4.223000000000006, -4.219000000000008, -4.218000000000011, -4.218000000000011, -4.170000000000009, -3.720000000000006, -3.5230000000000032, -3.328000000000003, -3.324000000000005, -3.324000000000005, -3.324000000000005, -3.324000000000005, -3.324000000000005, -3.324000000000005, -3.324000000000005, -3.324000000000005, -3.324000000000005]\n"
     ]
    }
   ],
   "source": [
    "difference3_fai = []\n",
    "\n",
    "zip_object = zip(temp, temp_crn)\n",
    "for temp_i, temp_crn_i in zip_object:\n",
    "    difference3_fai.append(temp_i-temp_crn_i)\n",
    "\n",
    "print(difference3_fai)"
   ]
  },
  {
   "cell_type": "markdown",
   "id": "817a1997",
   "metadata": {},
   "source": [
    "<font size=\"3\">Selma, AL: 1300 UTC 5 April 2022-1300 UTC 6 April 2022</font>"
   ]
  },
  {
   "cell_type": "code",
   "execution_count": 101,
   "id": "3850a5ea",
   "metadata": {},
   "outputs": [
    {
     "name": "stdout",
     "output_type": "stream",
     "text": [
      "25\n",
      "25\n",
      "[-16.977, -19.012999999999998, -25.028, -20.009999999999998, -19.79, -18.985999999999997, -18.037999999999993, -18.036999999999992, -18.036999999999992, -18.03599999999999, -18.03199999999999, -18.03199999999999, -18.03199999999999, -18.03199999999999, -18.03199999999999, -18.03199999999999, -18.03199999999999, -18.03199999999999, -18.03199999999999, -18.03199999999999, -18.03199999999999, -18.027999999999988, -18.027999999999988, -18.023999999999987, -18.21599999999999]\n",
      "25\n"
     ]
    }
   ],
   "source": [
    "#1 hr hrrr:\n",
    "with open('hrrr_f01_Selma_AL.txt') as f:\n",
    "    lst=[line.split()[2] for line in f]\n",
    "    temp=[]\n",
    "    for i in lst:\n",
    "        new=i.replace(',',\"\")\n",
    "        temp.append(new)\n",
    "    temp.pop(0)\n",
    "    temp=[float(x) for x in temp]\n",
    "    temp=temp[2268:2293]\n",
    "    \n",
    "#Air Temp CRN:\n",
    "with open('CRNH0203-2022-AL_Selma_13_WNW.txt') as f:\n",
    "    lst=[line.split()[12] for line in f]\n",
    "    #print(lst)\n",
    "    temp_crn=[]\n",
    "    for i in lst:\n",
    "        new=i.replace(',',\"\")\n",
    "        temp_crn.append(new)\n",
    "    temp_crn=[float(x) for x in temp_crn]\n",
    "    temp_crn=temp_crn[2268:2293]\n",
    "\n",
    "    temp=np.cumsum(temp)\n",
    "    print(len(temp))\n",
    "    temp_crn=np.cumsum(temp_crn)\n",
    "    print(len(temp_crn))\n",
    "#full time period is [2015:2112]\n",
    "difference3_sel = []\n",
    "\n",
    "zip_object = zip(temp, temp_crn)\n",
    "for temp_i, temp_crn_i in zip_object:\n",
    "    difference3_sel.append(temp_i-temp_crn_i)\n",
    "\n",
    "print(difference3_sel)\n",
    "print(len(difference3_sel))"
   ]
  },
  {
   "cell_type": "markdown",
   "id": "8492b45b",
   "metadata": {},
   "source": [
    "<font size=\"3\">Bowling Green, KY: 1500 UTC 5 April 2022-1500 UTC 6 April 2022</font>"
   ]
  },
  {
   "cell_type": "code",
   "execution_count": 102,
   "id": "f04dad03",
   "metadata": {},
   "outputs": [
    {
     "name": "stdout",
     "output_type": "stream",
     "text": [
      "[ 0.042  0.45   0.972  1.887  3.385  6.123  6.907  7.438  7.438  7.438\n",
      "  7.438  7.438  7.438  7.438  7.438  7.438  7.438  7.438  7.438  7.438\n",
      "  7.438  7.597  9.013 10.68  12.391]\n"
     ]
    }
   ],
   "source": [
    "#1 hr hrrr:\n",
    "with open('hrrr_f01_Bowling Green_KY.txt') as f:\n",
    "    lst=[line.split()[2] for line in f]\n",
    "    temp=[]\n",
    "    for i in lst:\n",
    "        new=i.replace(',',\"\")\n",
    "        temp.append(new)\n",
    "    temp.pop(0)\n",
    "    temp=[float(x) for x in temp]\n",
    "    temp=temp[2270:2295]\n",
    "    #temp=temp[2015:2063]\n",
    "    temp=np.cumsum(temp)\n",
    "    print(temp)\n",
    "#full time period is [2015:2112]"
   ]
  },
  {
   "cell_type": "code",
   "execution_count": 103,
   "id": "679e4a94",
   "metadata": {},
   "outputs": [],
   "source": [
    "# hour=[]\n",
    "# for i in range(-8,17,1):\n",
    "#     hour.append(i)\n",
    "#     i+=1\n",
    "# print(len(hour))"
   ]
  },
  {
   "cell_type": "code",
   "execution_count": 104,
   "id": "9c3d4d9e",
   "metadata": {},
   "outputs": [
    {
     "name": "stdout",
     "output_type": "stream",
     "text": [
      "[ 0.   1.   1.6  2.6  5.4  8.2  8.7  9.1  9.1  9.1  9.1  9.1  9.1  9.1\n",
      "  9.1  9.1  9.1  9.1  9.1  9.1  9.1  9.7 14.8 18.2 19.7]\n"
     ]
    }
   ],
   "source": [
    "#Air Temp CRN:\n",
    "with open('CRNH0203-2022-KY_Bowling_Green_21_NNE.txt') as f:\n",
    "    lst=[line.split()[12] for line in f]\n",
    "    #print(lst)\n",
    "    temp_crn=[]\n",
    "    for i in lst:\n",
    "        new=i.replace(',',\"\")\n",
    "        temp_crn.append(new)\n",
    "    temp_crn=[float(x) for x in temp_crn]\n",
    "    temp_crn=temp_crn[2270:2295]\n",
    "    temp_crn=np.cumsum(temp_crn)\n",
    "    print(temp_crn)\n",
    "    # print(temp_crn[2124])"
   ]
  },
  {
   "cell_type": "code",
   "execution_count": 105,
   "id": "8047270f",
   "metadata": {},
   "outputs": [
    {
     "name": "stdout",
     "output_type": "stream",
     "text": [
      "[0.042, -0.55, -0.6280000000000001, -0.7130000000000001, -2.0150000000000006, -2.077, -1.7930000000000001, -1.6620000000000008, -1.6620000000000008, -1.6620000000000008, -1.6620000000000008, -1.6620000000000008, -1.6620000000000008, -1.6620000000000008, -1.6620000000000008, -1.6620000000000008, -1.6620000000000008, -1.6620000000000008, -1.6620000000000008, -1.6620000000000008, -1.6620000000000008, -2.1030000000000006, -5.787000000000001, -7.520000000000001, -7.309000000000001]\n"
     ]
    }
   ],
   "source": [
    "difference3_bow = []\n",
    "\n",
    "zip_object = zip(temp, temp_crn)\n",
    "for temp_i, temp_crn_i in zip_object:\n",
    "    difference3_bow.append(temp_i-temp_crn_i)\n",
    "\n",
    "print(difference3_bow)"
   ]
  },
  {
   "cell_type": "markdown",
   "id": "e3343352",
   "metadata": {},
   "source": [
    "<font size=\"3\">Gadsden, AL: 1500 UTC 5 April 2022-1500 UTC 6 April 2022</font>"
   ]
  },
  {
   "cell_type": "code",
   "execution_count": 106,
   "id": "b482f388",
   "metadata": {},
   "outputs": [],
   "source": [
    "# #1 hr hrrr:\n",
    "# with open('hrrr_f01_Gadsden_AL.txt') as f:\n",
    "#     lst=[line.split()[2] for line in f]\n",
    "#     temp=[]\n",
    "#     for i in lst:\n",
    "#         new=i.replace(',',\"\")\n",
    "#         temp.append(new)\n",
    "#     temp.pop(0)\n",
    "#     temp=[float(x) for x in temp]\n",
    "#     temp=temp[2270:2295]\n",
    "#     #temp=temp[2015:2063]\n",
    "#     temp=np.cumsum(temp)\n",
    "#     print(temp)\n",
    "# #full time period is [2015:2112]"
   ]
  },
  {
   "cell_type": "code",
   "execution_count": 107,
   "id": "3e263dee",
   "metadata": {},
   "outputs": [],
   "source": [
    "# #Air Temp CRN:\n",
    "# with open('CRNH0203-2022-AL_Gadsden_19_N.txt') as f:\n",
    "#     lst=[line.split()[12] for line in f]\n",
    "#     #print(lst)\n",
    "#     temp_crn=[]\n",
    "#     for i in lst:\n",
    "#         new=i.replace(',',\"\")\n",
    "#         temp_crn.append(new)\n",
    "#     temp_crn=[float(x) for x in temp_crn]\n",
    "#     temp_crn=temp_crn[2270:2295]\n",
    "#     temp_crn=np.cumsum(temp_crn)\n",
    "#     print(temp_crn)\n",
    "#     # print(temp_crn[2124])"
   ]
  },
  {
   "cell_type": "code",
   "execution_count": 108,
   "id": "9ac3a61b",
   "metadata": {},
   "outputs": [],
   "source": [
    "# difference3_gad = []\n",
    "\n",
    "# zip_object = zip(temp, temp_crn)\n",
    "# for temp_i, temp_crn_i in zip_object:\n",
    "#     difference3_gad.append(temp_i-temp_crn_i)\n",
    "\n",
    "# print(difference3_gad)"
   ]
  },
  {
   "cell_type": "markdown",
   "id": "24b41c3d",
   "metadata": {},
   "source": [
    "<font size=\"3\">Newton, GA: 1800 UTC 5 April 2022-1800 UTC 6 April 2022</font>"
   ]
  },
  {
   "cell_type": "code",
   "execution_count": 109,
   "id": "1c1967dd",
   "metadata": {},
   "outputs": [
    {
     "name": "stdout",
     "output_type": "stream",
     "text": [
      "[ 0.     0.     0.022  6.957 10.791 11.464 20.176 20.799 20.799 20.799\n",
      " 20.799 20.799 20.799 20.799 20.799 20.799 20.799 20.799 20.799 20.799\n",
      " 20.799 20.799 20.799 20.799 20.804]\n"
     ]
    }
   ],
   "source": [
    "#1 hr hrrr:\n",
    "with open('hrrr_f01_Newton_GA.txt') as f:\n",
    "    lst=[line.split()[2] for line in f]\n",
    "    temp=[]\n",
    "    for i in lst:\n",
    "        new=i.replace(',',\"\")\n",
    "        temp.append(new)\n",
    "    temp.pop(0)\n",
    "    temp=[float(x) for x in temp]\n",
    "    temp=temp[2273:2298]\n",
    "    #temp=temp[2015:2063]\n",
    "    temp=np.cumsum(temp)\n",
    "    print(temp)\n",
    "#full time period is [2015:2112]"
   ]
  },
  {
   "cell_type": "code",
   "execution_count": 110,
   "id": "8a62826d",
   "metadata": {},
   "outputs": [
    {
     "name": "stdout",
     "output_type": "stream",
     "text": [
      "[ 0.   0.   1.8 26.6 33.7 35.4 38.4 38.7 38.7 38.7 38.7 38.7 38.7 38.7\n",
      " 38.7 38.7 38.7 38.7 38.7 38.7 38.7 38.7 38.7 38.7 38.7]\n"
     ]
    }
   ],
   "source": [
    "#Air Temp CRN:\n",
    "with open('CRNH0203-2022-GA_Newton_11_SW.txt') as f:\n",
    "    lst=[line.split()[12] for line in f]\n",
    "    #print(lst)\n",
    "    temp_crn=[]\n",
    "    for i in lst:\n",
    "        new=i.replace(',',\"\")\n",
    "        temp_crn.append(new)\n",
    "    temp_crn=[float(x) for x in temp_crn]\n",
    "    temp_crn=temp_crn[2273:2298]\n",
    "    temp_crn=np.cumsum(temp_crn)\n",
    "    print(temp_crn)\n",
    "    # print(temp_crn[2124])"
   ]
  },
  {
   "cell_type": "code",
   "execution_count": 111,
   "id": "474e5fae",
   "metadata": {},
   "outputs": [
    {
     "name": "stdout",
     "output_type": "stream",
     "text": [
      "[0.0, 0.0, -1.778, -19.643, -22.909000000000002, -23.936000000000007, -18.224000000000004, -17.901, -17.901, -17.901, -17.901, -17.901, -17.901, -17.901, -17.901, -17.901, -17.901, -17.901, -17.901, -17.901, -17.901, -17.901, -17.901, -17.901, -17.896]\n"
     ]
    }
   ],
   "source": [
    "difference3_newt = []\n",
    "\n",
    "zip_object = zip(temp, temp_crn)\n",
    "for temp_i, temp_crn_i in zip_object:\n",
    "    difference3_newt.append(temp_i-temp_crn_i)\n",
    "\n",
    "print(difference3_newt)"
   ]
  },
  {
   "cell_type": "markdown",
   "id": "e079df5d",
   "metadata": {},
   "source": [
    "<font size=\"3\">Salem, MO: 1500 UTC 13 April 2022-1500 UTC 14 April 2022</font>"
   ]
  },
  {
   "cell_type": "code",
   "execution_count": 112,
   "id": "b943e635",
   "metadata": {},
   "outputs": [
    {
     "name": "stdout",
     "output_type": "stream",
     "text": [
      "25\n"
     ]
    }
   ],
   "source": [
    "#1 hr hrrr:\n",
    "with open('hrrr_f01_Salem_MO.txt') as f:\n",
    "    lst=[line.split()[2] for line in f]\n",
    "    temp=[]\n",
    "    for i in lst:\n",
    "        new=i.replace(',',\"\")\n",
    "        temp.append(new)\n",
    "    temp.pop(0)\n",
    "    temp=[float(x) for x in temp]\n",
    "    temp=temp[2462:2487]\n",
    "    #temp=temp[2015:2063]\n",
    "    temp=np.cumsum(temp)\n",
    "    print(len(temp))\n",
    "#full time period is [2015:2112]"
   ]
  },
  {
   "cell_type": "code",
   "execution_count": 113,
   "id": "7f147a99",
   "metadata": {},
   "outputs": [
    {
     "name": "stdout",
     "output_type": "stream",
     "text": [
      "[ 1.6 10.3 21.4 28.  34.3 38.7 39.1 39.1 39.1 39.1 39.1 39.1 39.1 39.1\n",
      " 39.1 39.1 39.1 39.1 39.1 39.1 39.1 39.1 39.1 39.1 39.1]\n"
     ]
    }
   ],
   "source": [
    "#Air Temp CRN:\n",
    "with open('CRNH0203-2022-MO_Salem_10_W.txt') as f:\n",
    "    lst=[line.split()[12] for line in f]\n",
    "    #print(lst)\n",
    "    temp_crn=[]\n",
    "    for i in lst:\n",
    "        new=i.replace(',',\"\")\n",
    "        temp_crn.append(new)\n",
    "    temp_crn=[float(x) for x in temp_crn]\n",
    "    temp_crn=temp_crn[2462:2487]\n",
    "    temp_crn=np.cumsum(temp_crn)\n",
    "    print(temp_crn)\n",
    "    # print(temp_crn[2124])"
   ]
  },
  {
   "cell_type": "code",
   "execution_count": 114,
   "id": "9b8b2fac",
   "metadata": {},
   "outputs": [
    {
     "name": "stdout",
     "output_type": "stream",
     "text": [
      "25\n"
     ]
    }
   ],
   "source": [
    "hour=[]\n",
    "for i in range(-12,13,1):\n",
    "    hour.append(i)\n",
    "    i+=1\n",
    "print(len(hour))"
   ]
  },
  {
   "cell_type": "code",
   "execution_count": 115,
   "id": "cfc37d3d",
   "metadata": {},
   "outputs": [
    {
     "name": "stdout",
     "output_type": "stream",
     "text": [
      "[-1.473, -6.889999999999999, -16.576999999999998, -18.831, -13.645999999999997, -12.652999999999995, -12.922999999999995, -12.168999999999993, -12.028999999999993, -12.028999999999993, -12.028999999999993, -12.028999999999993, -12.028999999999993, -12.028999999999993, -12.028999999999993, -12.028999999999993, -12.028999999999993, -12.028999999999993, -12.028999999999993, -12.028999999999993, -12.028999999999993, -12.028999999999993, -12.028999999999993, -12.028999999999993, -12.028999999999993]\n"
     ]
    }
   ],
   "source": [
    "difference4_sal = []\n",
    "\n",
    "zip_object = zip(temp, temp_crn)\n",
    "for temp_i, temp_crn_i in zip_object:\n",
    "    difference4_sal.append(temp_i-temp_crn_i)\n",
    "\n",
    "print(difference4_sal)"
   ]
  },
  {
   "cell_type": "markdown",
   "id": "1baa8356",
   "metadata": {},
   "source": [
    "<font size=\"3\">Batesville, AR: 1500 UTC 13 April 2022-1500 UTC 14 April 2022</font>"
   ]
  },
  {
   "cell_type": "code",
   "execution_count": 116,
   "id": "007679ab",
   "metadata": {},
   "outputs": [
    {
     "name": "stdout",
     "output_type": "stream",
     "text": [
      "[ 0.044  0.044  0.141  3.417 13.736 14.888 14.999 15.394 15.554 15.554\n",
      " 15.554 15.554 15.554 15.554 15.554 15.554 15.554 15.554 15.554 15.554\n",
      " 15.554 15.554 15.554 15.554 15.554]\n"
     ]
    }
   ],
   "source": [
    "#1 hr hrrr:\n",
    "with open('hrrr_f01_Batesville_AR.txt') as f:\n",
    "    lst=[line.split()[2] for line in f]\n",
    "    temp=[]\n",
    "    for i in lst:\n",
    "        new=i.replace(',',\"\")\n",
    "        temp.append(new)\n",
    "    temp.pop(0)\n",
    "    temp=[float(x) for x in temp]\n",
    "    temp=temp[2462:2487]\n",
    "    #temp=temp[2015:2063]\n",
    "    temp=np.cumsum(temp)\n",
    "    print(temp)\n",
    "#full time period is [2015:2112]"
   ]
  },
  {
   "cell_type": "code",
   "execution_count": 117,
   "id": "3f6ddd59",
   "metadata": {},
   "outputs": [
    {
     "name": "stdout",
     "output_type": "stream",
     "text": [
      "[ 1.7  1.7  1.7  3.6 22.2 24.2 24.2 24.2 24.2 24.2 24.2 24.2 24.2 24.2\n",
      " 24.2 24.2 24.2 24.2 24.2 24.2 24.2 24.2 24.2 24.2 24.2]\n"
     ]
    }
   ],
   "source": [
    "#Air Temp CRN:\n",
    "with open('CRNH0203-2022-AR_Batesville_8_WNW.txt') as f:\n",
    "    lst=[line.split()[12] for line in f]\n",
    "    #print(lst)\n",
    "    temp_crn=[]\n",
    "    for i in lst:\n",
    "        new=i.replace(',',\"\")\n",
    "        temp_crn.append(new)\n",
    "    temp_crn=[float(x) for x in temp_crn]\n",
    "    temp_crn=temp_crn[2462:2487]\n",
    "    temp_crn=np.cumsum(temp_crn)\n",
    "    print(temp_crn)\n",
    "    # print(temp_crn[2124])"
   ]
  },
  {
   "cell_type": "code",
   "execution_count": 118,
   "id": "3ca802b3",
   "metadata": {},
   "outputs": [
    {
     "name": "stdout",
     "output_type": "stream",
     "text": [
      "[-1.656, -1.656, -1.559, -0.18299999999999983, -8.464000000000002, -9.312000000000003, -9.201000000000002, -8.806000000000003, -8.646000000000003, -8.646000000000003, -8.646000000000003, -8.646000000000003, -8.646000000000003, -8.646000000000003, -8.646000000000003, -8.646000000000003, -8.646000000000003, -8.646000000000003, -8.646000000000003, -8.646000000000003, -8.646000000000003, -8.646000000000003, -8.646000000000003, -8.646000000000003, -8.646000000000003]\n"
     ]
    }
   ],
   "source": [
    "difference4_bat = []\n",
    "\n",
    "zip_object = zip(temp, temp_crn)\n",
    "for temp_i, temp_crn_i in zip_object:\n",
    "    difference4_bat.append(temp_i-temp_crn_i)\n",
    "\n",
    "print(difference4_bat)"
   ]
  },
  {
   "cell_type": "code",
   "execution_count": 119,
   "id": "8c77cf63",
   "metadata": {},
   "outputs": [
    {
     "name": "stdout",
     "output_type": "stream",
     "text": [
      "[ 0.     0.     0.     0.     0.06   0.17   0.72   1.082  3.056 15.066\n",
      " 15.066 15.066 15.066 15.066 15.066 15.066 15.066 15.066 15.066 15.066\n",
      " 15.066 15.066 15.066 15.066 15.066]\n"
     ]
    }
   ],
   "source": [
    "#1 hr hrrr:\n",
    "with open('hrrr_f01_Lafayette_LA.txt') as f:\n",
    "    lst=[line.split()[2] for line in f]\n",
    "    temp=[]\n",
    "    for i in lst:\n",
    "        new=i.replace(',',\"\")\n",
    "        temp.append(new)\n",
    "    temp.pop(0)\n",
    "    temp=[float(x) for x in temp]\n",
    "    temp=temp[2467:2492]\n",
    "    #temp=temp[2015:2063]\n",
    "    temp=np.cumsum(temp)\n",
    "    print(temp)\n",
    "#full time period is [2015:2112]"
   ]
  },
  {
   "cell_type": "code",
   "execution_count": 120,
   "id": "8a5add55",
   "metadata": {},
   "outputs": [
    {
     "name": "stdout",
     "output_type": "stream",
     "text": [
      "[ 0.   0.   0.   0.   0.   0.   0.   7.9 29.6 31.2 31.2 31.2 31.2 31.2\n",
      " 31.2 31.2 31.2 31.2 31.2 31.2 31.2 31.2 31.2 31.2 31.2]\n"
     ]
    }
   ],
   "source": [
    "#Air Temp CRN:\n",
    "with open('CRNH0203-2022-LA_Lafayette_13_SE.txt') as f:\n",
    "    lst=[line.split()[12] for line in f]\n",
    "    #print(lst)\n",
    "    temp_crn=[]\n",
    "    for i in lst:\n",
    "        new=i.replace(',',\"\")\n",
    "        temp_crn.append(new)\n",
    "    temp_crn=[float(x) for x in temp_crn]\n",
    "    temp_crn=temp_crn[2467:2492]\n",
    "    temp_crn=np.cumsum(temp_crn)\n",
    "    print(temp_crn)\n",
    "    # print(temp_crn[2124])"
   ]
  },
  {
   "cell_type": "code",
   "execution_count": 121,
   "id": "f0730891",
   "metadata": {},
   "outputs": [
    {
     "name": "stdout",
     "output_type": "stream",
     "text": [
      "[0.0, 0.0, 0.0, 0.0, 0.06, 0.16999999999999998, 0.72, -6.8180000000000005, -26.544, -16.134000000000004, -16.134000000000004, -16.134000000000004, -16.134000000000004, -16.134000000000004, -16.134000000000004, -16.134000000000004, -16.134000000000004, -16.134000000000004, -16.134000000000004, -16.134000000000004, -16.134000000000004, -16.134000000000004, -16.134000000000004, -16.134000000000004, -16.134000000000004]\n"
     ]
    }
   ],
   "source": [
    "difference4_laf = []\n",
    "\n",
    "zip_object = zip(temp, temp_crn)\n",
    "for temp_i, temp_crn_i in zip_object:\n",
    "    difference4_laf.append(temp_i-temp_crn_i)\n",
    "\n",
    "print(difference4_laf)"
   ]
  },
  {
   "cell_type": "markdown",
   "id": "a4cb46d7",
   "metadata": {},
   "source": [
    "<font size=\"3\">Monroe, LA: 2000 UTC 13 April 2022-2000 UTC 14 April 2022</font>"
   ]
  },
  {
   "cell_type": "code",
   "execution_count": 122,
   "id": "699f132e",
   "metadata": {},
   "outputs": [
    {
     "name": "stdout",
     "output_type": "stream",
     "text": [
      "[1.294 3.457 3.851 4.971 5.101 5.101 5.101 5.101 5.101 5.101 5.101 5.101\n",
      " 5.101 5.101 5.101 5.101 5.101 5.101 5.101 5.101 5.101 5.101 5.101 5.101\n",
      " 5.101]\n"
     ]
    }
   ],
   "source": [
    "#1 hr hrrr:\n",
    "with open('hrrr_f01_Monroe_LA.txt') as f:\n",
    "    lst=[line.split()[2] for line in f]\n",
    "    temp=[]\n",
    "    for i in lst:\n",
    "        new=i.replace(',',\"\")\n",
    "        temp.append(new)\n",
    "    temp.pop(0)\n",
    "    temp=[float(x) for x in temp]\n",
    "    temp=temp[2467:2492]\n",
    "    #temp=temp[2015:2063]\n",
    "    temp=np.cumsum(temp)\n",
    "    print(temp)\n",
    "#full time period is [2015:2112]"
   ]
  },
  {
   "cell_type": "code",
   "execution_count": 123,
   "id": "af7a34bf",
   "metadata": {},
   "outputs": [
    {
     "name": "stdout",
     "output_type": "stream",
     "text": [
      "[0.  0.  3.5 3.5 8.1 8.1 8.1 8.1 8.1 8.1 8.1 8.1 8.1 8.1 8.1 8.1 8.1 8.1\n",
      " 8.1 8.1 8.1 8.1 8.1 8.1 8.1]\n"
     ]
    }
   ],
   "source": [
    "#Air Temp CRN:\n",
    "with open('CRNH0203-2022-LA_Monroe_26_N.txt') as f:\n",
    "    lst=[line.split()[12] for line in f]\n",
    "    #print(lst)\n",
    "    temp_crn=[]\n",
    "    for i in lst:\n",
    "        new=i.replace(',',\"\")\n",
    "        temp_crn.append(new)\n",
    "    temp_crn=[float(x) for x in temp_crn]\n",
    "    temp_crn=temp_crn[2467:2492]\n",
    "    temp_crn=np.cumsum(temp_crn)\n",
    "    print(temp_crn)\n",
    "    # print(temp_crn[2124])"
   ]
  },
  {
   "cell_type": "code",
   "execution_count": 124,
   "id": "91696836",
   "metadata": {},
   "outputs": [
    {
     "name": "stdout",
     "output_type": "stream",
     "text": [
      "[1.294, 3.457, 0.351, 1.471, -2.9989999999999997, -2.9989999999999997, -2.9989999999999997, -2.9989999999999997, -2.9989999999999997, -2.9989999999999997, -2.9989999999999997, -2.9989999999999997, -2.9989999999999997, -2.9989999999999997, -2.9989999999999997, -2.9989999999999997, -2.9989999999999997, -2.9989999999999997, -2.9989999999999997, -2.9989999999999997, -2.9989999999999997, -2.9989999999999997, -2.9989999999999997, -2.9989999999999997, -2.9989999999999997]\n"
     ]
    }
   ],
   "source": [
    "difference4_mon = []\n",
    "\n",
    "zip_object = zip(temp, temp_crn)\n",
    "for temp_i, temp_crn_i in zip_object:\n",
    "    difference4_mon.append(temp_i-temp_crn_i)\n",
    "\n",
    "print(difference4_mon)"
   ]
  },
  {
   "cell_type": "markdown",
   "id": "797ab9bf",
   "metadata": {},
   "source": [
    "<font size=\"3\">Holly Springs, MS: 2300 UTC 13 April 2022-2300 UTC 14 April 2022</font>"
   ]
  },
  {
   "cell_type": "code",
   "execution_count": 125,
   "id": "3ca81baa",
   "metadata": {},
   "outputs": [
    {
     "name": "stdout",
     "output_type": "stream",
     "text": [
      "[1.0000e-02 7.7800e+00 1.2016e+01 1.4416e+01 1.4422e+01 1.4437e+01\n",
      " 1.4437e+01 1.4437e+01 1.4437e+01 1.4437e+01 1.4437e+01 1.4437e+01\n",
      " 1.4437e+01 1.4437e+01 1.4437e+01 1.4437e+01 1.4437e+01 1.4437e+01\n",
      " 1.4437e+01 1.4437e+01 1.4437e+01 1.4437e+01 1.4437e+01 1.4437e+01\n",
      " 1.4437e+01]\n"
     ]
    }
   ],
   "source": [
    "#1 hr hrrr:\n",
    "with open('hrrr_f01_Holly Springs_MS.txt') as f:\n",
    "    lst=[line.split()[2] for line in f]\n",
    "    temp=[]\n",
    "    for i in lst:\n",
    "        new=i.replace(',',\"\")\n",
    "        temp.append(new)\n",
    "    temp.pop(0)\n",
    "    temp=[float(x) for x in temp]\n",
    "    temp=temp[2470:2495]\n",
    "    #temp=temp[2015:2063]\n",
    "    temp=np.cumsum(temp)\n",
    "    print(temp)\n",
    "#full time period is [2015:2112]"
   ]
  },
  {
   "cell_type": "code",
   "execution_count": 126,
   "id": "ffe3951c",
   "metadata": {},
   "outputs": [
    {
     "name": "stdout",
     "output_type": "stream",
     "text": [
      "[20.  29.7 29.9 29.9 29.9 29.9 29.9 29.9 29.9 29.9 29.9 29.9 29.9 29.9\n",
      " 29.9 29.9 29.9 29.9 29.9 29.9 29.9 29.9 29.9 29.9 29.9]\n"
     ]
    }
   ],
   "source": [
    "#Air Temp CRN:\n",
    "with open('CRNH0203-2022-MS_Holly_Springs_4_N.txt') as f:\n",
    "    lst=[line.split()[12] for line in f]\n",
    "    #print(lst)\n",
    "    temp_crn=[]\n",
    "    for i in lst:\n",
    "        new=i.replace(',',\"\")\n",
    "        temp_crn.append(new)\n",
    "    temp_crn=[float(x) for x in temp_crn]\n",
    "    temp_crn=temp_crn[2470:2495]\n",
    "    temp_crn=np.cumsum(temp_crn)\n",
    "    print(temp_crn)\n",
    "    # print(temp_crn[2124])"
   ]
  },
  {
   "cell_type": "code",
   "execution_count": 127,
   "id": "6226fdc5",
   "metadata": {},
   "outputs": [
    {
     "name": "stdout",
     "output_type": "stream",
     "text": [
      "[-19.99, -21.92, -17.884, -15.484, -15.478, -15.463, -15.463, -15.463, -15.463, -15.463, -15.463, -15.463, -15.463, -15.463, -15.463, -15.463, -15.463, -15.463, -15.463, -15.463, -15.463, -15.463, -15.463, -15.463, -15.463]\n"
     ]
    }
   ],
   "source": [
    "difference4_hol = []\n",
    "\n",
    "zip_object = zip(temp, temp_crn)\n",
    "for temp_i, temp_crn_i in zip_object:\n",
    "    difference4_hol.append(temp_i-temp_crn_i)\n",
    "\n",
    "print(difference4_hol)"
   ]
  },
  {
   "cell_type": "markdown",
   "id": "2580ca75",
   "metadata": {},
   "source": [
    "<font size=\"3\">Newton, MS: 2300 UTC 13 April 2022-2300 UTC 14 April 2022</font>"
   ]
  },
  {
   "cell_type": "code",
   "execution_count": 128,
   "id": "1b29344a",
   "metadata": {},
   "outputs": [
    {
     "name": "stdout",
     "output_type": "stream",
     "text": [
      "[0.    0.    0.006 0.566 0.99  2.284 2.694 2.702 2.772 3.528 3.595 3.687\n",
      " 3.687 3.687 3.687 3.687 3.687 3.687 3.687 3.687 3.687 3.687 3.687 3.687\n",
      " 3.687]\n"
     ]
    }
   ],
   "source": [
    "#1 hr hrrr:\n",
    "with open('hrrr_f01_Newton_MS.txt') as f:\n",
    "    lst=[line.split()[2] for line in f]\n",
    "    temp=[]\n",
    "    for i in lst:\n",
    "        new=i.replace(',',\"\")\n",
    "        temp.append(new)\n",
    "    temp.pop(0)\n",
    "    temp=[float(x) for x in temp]\n",
    "    temp=temp[2470:2495]\n",
    "    #temp=temp[2015:2063]\n",
    "    temp=np.cumsum(temp)\n",
    "    print(temp)\n",
    "#full time period is [2015:2112]"
   ]
  },
  {
   "cell_type": "code",
   "execution_count": 129,
   "id": "92e5271c",
   "metadata": {},
   "outputs": [
    {
     "name": "stdout",
     "output_type": "stream",
     "text": [
      "[ 0.   0.   0.  16.5 21.  24.6 25.2 25.2 25.2 25.4 25.4 25.4 25.4 25.4\n",
      " 25.4 25.4 25.4 25.4 25.4 25.4 25.4 25.4 25.4 25.4 25.4]\n"
     ]
    }
   ],
   "source": [
    "#Air Temp CRN:\n",
    "with open('CRNH0203-2022-MS_Newton_5_ENE.txt') as f:\n",
    "    lst=[line.split()[12] for line in f]\n",
    "    #print(lst)\n",
    "    temp_crn=[]\n",
    "    for i in lst:\n",
    "        new=i.replace(',',\"\")\n",
    "        temp_crn.append(new)\n",
    "    temp_crn=[float(x) for x in temp_crn]\n",
    "    temp_crn=temp_crn[2470:2495]\n",
    "    temp_crn=np.cumsum(temp_crn)\n",
    "    print(temp_crn)\n",
    "    # print(temp_crn[2124])"
   ]
  },
  {
   "cell_type": "code",
   "execution_count": 130,
   "id": "e75f9641",
   "metadata": {},
   "outputs": [
    {
     "name": "stdout",
     "output_type": "stream",
     "text": [
      "[0.0, 0.0, 0.006, -15.934, -20.01, -22.316000000000003, -22.506000000000004, -22.498000000000005, -22.428000000000004, -21.872000000000003, -21.805000000000003, -21.713, -21.713, -21.713, -21.713, -21.713, -21.713, -21.713, -21.713, -21.713, -21.713, -21.713, -21.713, -21.713, -21.713]\n"
     ]
    }
   ],
   "source": [
    "difference4_new = []\n",
    "\n",
    "zip_object = zip(temp, temp_crn)\n",
    "for temp_i, temp_crn_i in zip_object:\n",
    "    difference4_new.append(temp_i-temp_crn_i)\n",
    "\n",
    "print(difference4_new)"
   ]
  },
  {
   "cell_type": "markdown",
   "id": "a7d0e1e9",
   "metadata": {},
   "source": [
    "<font size=\"3\">Gainesville, AL: 0200 UTC 14 April 2022-0200 UTC 15 April 2022</font>"
   ]
  },
  {
   "cell_type": "code",
   "execution_count": 131,
   "id": "7487893a",
   "metadata": {},
   "outputs": [
    {
     "name": "stdout",
     "output_type": "stream",
     "text": [
      "[ 0.06  15.045 16.291 16.561 16.987 16.987 17.008 17.562 17.858 17.861\n",
      " 17.861 17.861 17.861 17.861 17.861 17.861 17.861 17.861 17.861 17.861\n",
      " 17.861 17.861 17.861 17.861 17.861]\n"
     ]
    }
   ],
   "source": [
    "#1 hr hrrr:\n",
    "with open('hrrr_f01_Gainesville_AL.txt') as f:\n",
    "    lst=[line.split()[2] for line in f]\n",
    "    temp=[]\n",
    "    for i in lst:\n",
    "        new=i.replace(',',\"\")\n",
    "        temp.append(new)\n",
    "    temp.pop(0)\n",
    "    temp=[float(x) for x in temp]\n",
    "    temp=temp[2473:2498]\n",
    "    #temp=temp[2015:2063]\n",
    "    temp=np.cumsum(temp)\n",
    "    print(temp)\n",
    "#full time period is [2015:2112]"
   ]
  },
  {
   "cell_type": "code",
   "execution_count": 132,
   "id": "b5314d1e",
   "metadata": {},
   "outputs": [
    {
     "name": "stdout",
     "output_type": "stream",
     "text": [
      "[ 0.  12.3 16.6 17.5 17.5 17.5 17.5 17.5 17.5 17.5 17.5 17.5 17.5 17.5\n",
      " 17.5 17.5 17.5 17.5 17.5 17.5 17.5 17.5 17.5 17.5 17.5]\n"
     ]
    }
   ],
   "source": [
    "#Air Temp CRN:\n",
    "with open('CRNH0203-2022-AL_Gainesville_2_NE.txt') as f:\n",
    "    lst=[line.split()[12] for line in f]\n",
    "    #print(lst)\n",
    "    temp_crn=[]\n",
    "    for i in lst:\n",
    "        new=i.replace(',',\"\")\n",
    "        temp_crn.append(new)\n",
    "    temp_crn=[float(x) for x in temp_crn]\n",
    "    temp_crn=temp_crn[2473:2498]\n",
    "    temp_crn=np.cumsum(temp_crn)\n",
    "    print(temp_crn)\n",
    "    # print(temp_crn[2124])"
   ]
  },
  {
   "cell_type": "code",
   "execution_count": 133,
   "id": "c9db90a8",
   "metadata": {},
   "outputs": [
    {
     "name": "stdout",
     "output_type": "stream",
     "text": [
      "[0.06, 2.744999999999999, -0.30900000000000105, -0.9390000000000001, -0.5130000000000017, -0.5130000000000017, -0.4920000000000009, 0.06199999999999761, 0.357999999999997, 0.3609999999999971, 0.3609999999999971, 0.3609999999999971, 0.3609999999999971, 0.3609999999999971, 0.3609999999999971, 0.3609999999999971, 0.3609999999999971, 0.3609999999999971, 0.3609999999999971, 0.3609999999999971, 0.3609999999999971, 0.3609999999999971, 0.3609999999999971, 0.3609999999999971, 0.3609999999999971]\n"
     ]
    }
   ],
   "source": [
    "difference4_gai = []\n",
    "\n",
    "zip_object = zip(temp, temp_crn)\n",
    "for temp_i, temp_crn_i in zip_object:\n",
    "    difference4_gai.append(temp_i-temp_crn_i)\n",
    "\n",
    "print(difference4_gai)"
   ]
  },
  {
   "cell_type": "markdown",
   "id": "cdbcd1b4",
   "metadata": {},
   "source": [
    "<font size=\"3\">Fairhope, AL: 0200 UTC 14 April 2022-0200 UTC 15 April 2022</font>"
   ]
  },
  {
   "cell_type": "code",
   "execution_count": 134,
   "id": "3faa1ec4",
   "metadata": {},
   "outputs": [
    {
     "name": "stdout",
     "output_type": "stream",
     "text": [
      "[0.02  0.052 0.286 0.376 0.407 0.96  2.148 3.783 4.07  4.155 4.157 4.157\n",
      " 4.204 4.204 4.412 4.523 4.523 4.523 4.523 4.523 4.523 4.523 4.523 4.523\n",
      " 4.523]\n"
     ]
    }
   ],
   "source": [
    "#1 hr hrrr:\n",
    "with open('hrrr_f01_Fairhope_AL.txt') as f:\n",
    "    lst=[line.split()[2] for line in f]\n",
    "    temp=[]\n",
    "    for i in lst:\n",
    "        new=i.replace(',',\"\")\n",
    "        temp.append(new)\n",
    "    temp.pop(0)\n",
    "    temp=[float(x) for x in temp]\n",
    "    temp=temp[2473:2498]\n",
    "    #temp=temp[2015:2063]\n",
    "    temp=np.cumsum(temp)\n",
    "    print(temp)\n",
    "#full time period is [2015:2112]"
   ]
  },
  {
   "cell_type": "code",
   "execution_count": 135,
   "id": "52234265",
   "metadata": {},
   "outputs": [
    {
     "name": "stdout",
     "output_type": "stream",
     "text": [
      "[ 0.   0.   2.1  2.1 10.9 17.7 20.1 24.  28.6 28.9 28.9 28.9 28.9 28.9\n",
      " 28.9 28.9 28.9 28.9 28.9 28.9 28.9 28.9 28.9 28.9 28.9]\n"
     ]
    }
   ],
   "source": [
    "#Air Temp CRN:\n",
    "with open('CRNH0203-2022-AL_Fairhope_3_NE.txt') as f:\n",
    "    lst=[line.split()[12] for line in f]\n",
    "    #print(lst)\n",
    "    temp_crn=[]\n",
    "    for i in lst:\n",
    "        new=i.replace(',',\"\")\n",
    "        temp_crn.append(new)\n",
    "    temp_crn=[float(x) for x in temp_crn]\n",
    "    temp_crn=temp_crn[2473:2498]\n",
    "    temp_crn=np.cumsum(temp_crn)\n",
    "    print(temp_crn)\n",
    "    # print(temp_crn[2124])"
   ]
  },
  {
   "cell_type": "code",
   "execution_count": 136,
   "id": "2e2c6057",
   "metadata": {},
   "outputs": [
    {
     "name": "stdout",
     "output_type": "stream",
     "text": [
      "[0.02, 0.052000000000000005, -1.814, -1.7240000000000002, -10.493, -16.74, -17.951999999999998, -20.216999999999995, -24.529999999999994, -24.744999999999994, -24.742999999999995, -24.742999999999995, -24.695999999999994, -24.695999999999994, -24.487999999999996, -24.376999999999995, -24.376999999999995, -24.376999999999995, -24.376999999999995, -24.376999999999995, -24.376999999999995, -24.376999999999995, -24.376999999999995, -24.376999999999995, -24.376999999999995]\n"
     ]
    }
   ],
   "source": [
    "difference4_fai = []\n",
    "\n",
    "zip_object = zip(temp, temp_crn)\n",
    "for temp_i, temp_crn_i in zip_object:\n",
    "    difference4_fai.append(temp_i-temp_crn_i)\n",
    "\n",
    "print(difference4_fai)"
   ]
  },
  {
   "cell_type": "markdown",
   "id": "ba62c881",
   "metadata": {},
   "source": [
    "<font size=\"3\">Selma, AL: 0200 UTC 14 April 2022-0200 UTC 15 April 2022\n",
    "</font>"
   ]
  },
  {
   "cell_type": "code",
   "execution_count": 137,
   "id": "935d8c80",
   "metadata": {},
   "outputs": [
    {
     "name": "stdout",
     "output_type": "stream",
     "text": [
      "25\n",
      "25\n",
      "[0.0, 0.0, -9.899000000000001, -14.789000000000001, -14.312999999999999, -11.871000000000002, -11.642000000000003, -11.632000000000003, -11.632000000000003, -11.632000000000003, -11.920000000000003, -11.920000000000003, -11.920000000000003, -11.920000000000003, -11.920000000000003, -11.920000000000003, -11.920000000000003, -11.920000000000003, -11.920000000000003, -11.920000000000003, -11.920000000000003, -11.920000000000003, -11.920000000000003, -11.920000000000003, -11.920000000000003]\n",
      "25\n"
     ]
    }
   ],
   "source": [
    "#1 hr hrrr:\n",
    "with open('hrrr_f01_Selma_AL.txt') as f:\n",
    "    lst=[line.split()[2] for line in f]\n",
    "    temp=[]\n",
    "    for i in lst:\n",
    "        new=i.replace(',',\"\")\n",
    "        temp.append(new)\n",
    "    temp.pop(0)\n",
    "    temp=[float(x) for x in temp]\n",
    "    temp=temp[2473:2498]\n",
    "    \n",
    "#Air Temp CRN:\n",
    "with open('CRNH0203-2022-AL_Selma_13_WNW.txt') as f:\n",
    "    lst=[line.split()[12] for line in f]\n",
    "    #print(lst)\n",
    "    temp_crn=[]\n",
    "    for i in lst:\n",
    "        new=i.replace(',',\"\")\n",
    "        temp_crn.append(new)\n",
    "    temp_crn=[float(x) for x in temp_crn]\n",
    "    temp_crn=temp_crn[2473:2498]\n",
    "    temp=np.cumsum(temp)\n",
    "    print(len(temp))\n",
    "    temp_crn=np.cumsum(temp_crn)\n",
    "    print(len(temp_crn))\n",
    "#full time period is [2015:2112]\n",
    "difference4_sel = []\n",
    "\n",
    "zip_object = zip(temp, temp_crn)\n",
    "for temp_i, temp_crn_i in zip_object:\n",
    "    difference4_sel.append(temp_i-temp_crn_i)\n",
    "\n",
    "print(difference4_sel)\n",
    "print(len(difference4_sel))"
   ]
  },
  {
   "cell_type": "markdown",
   "id": "3a2e6fc9",
   "metadata": {},
   "source": [
    "<font size=\"3\">Bowling Green, KY: 0200 UTC 14 April 2022-0200 UTC 15 April 2022</font>"
   ]
  },
  {
   "cell_type": "code",
   "execution_count": 138,
   "id": "c761d214",
   "metadata": {},
   "outputs": [
    {
     "name": "stdout",
     "output_type": "stream",
     "text": [
      "[1.08  3.643 3.728 3.728 3.906 4.226 4.605 4.616 4.616 4.616 4.616 4.616\n",
      " 4.616 4.616 4.616 4.616 4.616 4.616 4.616 4.616 4.616 4.616 4.616 4.616\n",
      " 4.616]\n"
     ]
    }
   ],
   "source": [
    "#1 hr hrrr:\n",
    "with open('hrrr_f01_Bowling Green_KY.txt') as f:\n",
    "    lst=[line.split()[2] for line in f]\n",
    "    temp=[]\n",
    "    for i in lst:\n",
    "        new=i.replace(',',\"\")\n",
    "        temp.append(new)\n",
    "    temp.pop(0)\n",
    "    temp=[float(x) for x in temp]\n",
    "    temp=temp[2473:2498]\n",
    "    #temp=temp[2015:2063]\n",
    "    temp=np.cumsum(temp)\n",
    "    print(temp)\n",
    "#full time period is [2015:2112]"
   ]
  },
  {
   "cell_type": "code",
   "execution_count": 139,
   "id": "8b86ff4b",
   "metadata": {},
   "outputs": [],
   "source": [
    "# hour=[]\n",
    "# for i in range(-8,17,1):\n",
    "#     hour.append(i)\n",
    "#     i+=1\n",
    "# print(len(hour))"
   ]
  },
  {
   "cell_type": "code",
   "execution_count": 140,
   "id": "a22a0f0f",
   "metadata": {},
   "outputs": [
    {
     "name": "stdout",
     "output_type": "stream",
     "text": [
      "[ 6.4 11.7 11.9 11.9 12.5 12.7 12.9 12.9 12.9 12.9 12.9 12.9 12.9 12.9\n",
      " 12.9 12.9 12.9 12.9 12.9 12.9 12.9 12.9 12.9 12.9 12.9]\n"
     ]
    }
   ],
   "source": [
    "#Air Temp CRN:\n",
    "with open('CRNH0203-2022-KY_Bowling_Green_21_NNE.txt') as f:\n",
    "    lst=[line.split()[12] for line in f]\n",
    "    #print(lst)\n",
    "    temp_crn=[]\n",
    "    for i in lst:\n",
    "        new=i.replace(',',\"\")\n",
    "        temp_crn.append(new)\n",
    "    temp_crn=[float(x) for x in temp_crn]\n",
    "    temp_crn=temp_crn[2473:2498]\n",
    "    temp_crn=np.cumsum(temp_crn)\n",
    "    print(temp_crn)\n",
    "    # print(temp_crn[2124])"
   ]
  },
  {
   "cell_type": "code",
   "execution_count": 141,
   "id": "214cf6fd",
   "metadata": {},
   "outputs": [
    {
     "name": "stdout",
     "output_type": "stream",
     "text": [
      "[-5.32, -8.056999999999999, -8.171999999999999, -8.171999999999999, -8.593999999999998, -8.473999999999997, -8.294999999999996, -8.283999999999995, -8.283999999999995, -8.283999999999995, -8.283999999999995, -8.283999999999995, -8.283999999999995, -8.283999999999995, -8.283999999999995, -8.283999999999995, -8.283999999999995, -8.283999999999995, -8.283999999999995, -8.283999999999995, -8.283999999999995, -8.283999999999995, -8.283999999999995, -8.283999999999995, -8.283999999999995]\n"
     ]
    }
   ],
   "source": [
    "difference4_bow = []\n",
    "\n",
    "zip_object = zip(temp, temp_crn)\n",
    "for temp_i, temp_crn_i in zip_object:\n",
    "    difference4_bow.append(temp_i-temp_crn_i)\n",
    "\n",
    "print(difference4_bow)"
   ]
  },
  {
   "cell_type": "markdown",
   "id": "d5df1525",
   "metadata": {},
   "source": [
    "<font size=\"3\">Gadsden, AL: 0200 UTC 14 April 2022-0200 UTC 15 April 2022\n",
    "</font>"
   ]
  },
  {
   "cell_type": "code",
   "execution_count": 142,
   "id": "27e32ade",
   "metadata": {},
   "outputs": [],
   "source": [
    "# #1 hr hrrr:\n",
    "# with open('hrrr_f01_Gadsden_AL.txt') as f:\n",
    "#     lst=[line.split()[2] for line in f]\n",
    "#     temp=[]\n",
    "#     for i in lst:\n",
    "#         new=i.replace(',',\"\")\n",
    "#         temp.append(new)\n",
    "#     temp.pop(0)\n",
    "#     temp=[float(x) for x in temp]\n",
    "#     temp=temp[2473:2498]\n",
    "#     #temp=temp[2015:2063]\n",
    "#     temp=np.cumsum(temp)\n",
    "#     print(temp)\n",
    "# #full time period is [2015:2112]"
   ]
  },
  {
   "cell_type": "code",
   "execution_count": 143,
   "id": "4dd09550",
   "metadata": {},
   "outputs": [],
   "source": [
    "# #Air Temp CRN:\n",
    "# with open('CRNH0203-2022-AL_Gadsden_19_N.txt') as f:\n",
    "#     lst=[line.split()[12] for line in f]\n",
    "#     #print(lst)\n",
    "#     temp_crn=[]\n",
    "#     for i in lst:\n",
    "#         new=i.replace(',',\"\")\n",
    "#         temp_crn.append(new)\n",
    "#     temp_crn=[float(x) for x in temp_crn]\n",
    "#     temp_crn=temp_crn[2473:2498]\n",
    "#     temp_crn=np.cumsum(temp_crn)\n",
    "#     print(temp_crn)\n",
    "#     # print(temp_crn[2124])"
   ]
  },
  {
   "cell_type": "code",
   "execution_count": 144,
   "id": "7476701f",
   "metadata": {},
   "outputs": [],
   "source": [
    "# difference4_gad = []\n",
    "\n",
    "# zip_object = zip(temp, temp_crn)\n",
    "# for temp_i, temp_crn_i in zip_object:\n",
    "#     difference4_gad.append(temp_i-temp_crn_i)\n",
    "\n",
    "# print(difference4_gad)"
   ]
  },
  {
   "cell_type": "markdown",
   "id": "047f5261",
   "metadata": {},
   "source": [
    "<font size=\"3\">Newton, GA: 0600 UTC 14 April 2022-0600 UTC 15 April 2022\n",
    "</font>"
   ]
  },
  {
   "cell_type": "code",
   "execution_count": 145,
   "id": "03eee81f",
   "metadata": {},
   "outputs": [
    {
     "name": "stdout",
     "output_type": "stream",
     "text": [
      "[0.    0.    0.    0.    0.009 0.009 0.009 0.009 0.009 0.009 0.009 0.009\n",
      " 0.009 0.009 0.009 0.009 0.009 0.009 0.009 0.009 0.009 0.009 0.009 0.009\n",
      " 0.009]\n"
     ]
    }
   ],
   "source": [
    "#1 hr hrrr:\n",
    "with open('hrrr_f01_Newton_GA.txt') as f:\n",
    "    lst=[line.split()[2] for line in f]\n",
    "    temp=[]\n",
    "    for i in lst:\n",
    "        new=i.replace(',',\"\")\n",
    "        temp.append(new)\n",
    "    temp.pop(0)\n",
    "    temp=[float(x) for x in temp]\n",
    "    temp=temp[2477:2502]\n",
    "    #temp=temp[2015:2063]\n",
    "    temp=np.cumsum(temp)\n",
    "    print(temp)\n",
    "#full time period is [2015:2112]"
   ]
  },
  {
   "cell_type": "code",
   "execution_count": 146,
   "id": "fb2e17c3",
   "metadata": {},
   "outputs": [
    {
     "name": "stdout",
     "output_type": "stream",
     "text": [
      "[0. 0. 0. 0. 0. 0. 0. 0. 0. 0. 0. 0. 0. 0. 0. 0. 0. 0. 0. 0. 0. 0. 0. 0.\n",
      " 0.]\n"
     ]
    }
   ],
   "source": [
    "#Air Temp CRN:\n",
    "with open('CRNH0203-2022-GA_Newton_11_SW.txt') as f:\n",
    "    lst=[line.split()[12] for line in f]\n",
    "    #print(lst)\n",
    "    temp_crn=[]\n",
    "    for i in lst:\n",
    "        new=i.replace(',',\"\")\n",
    "        temp_crn.append(new)\n",
    "    temp_crn=[float(x) for x in temp_crn]\n",
    "    temp_crn=temp_crn[2477:2502]\n",
    "    temp_crn=np.cumsum(temp_crn)\n",
    "    print(temp_crn)\n",
    "    # print(temp_crn[2124])"
   ]
  },
  {
   "cell_type": "code",
   "execution_count": 147,
   "id": "37b874ca",
   "metadata": {},
   "outputs": [
    {
     "name": "stdout",
     "output_type": "stream",
     "text": [
      "[0.0, 0.0, 0.0, 0.0, 0.009, 0.009, 0.009, 0.009, 0.009, 0.009, 0.009, 0.009, 0.009, 0.009, 0.009, 0.009, 0.009, 0.009, 0.009, 0.009, 0.009, 0.009, 0.009, 0.009, 0.009]\n"
     ]
    }
   ],
   "source": [
    "difference4_newt = []\n",
    "\n",
    "zip_object = zip(temp, temp_crn)\n",
    "for temp_i, temp_crn_i in zip_object:\n",
    "    difference4_newt.append(temp_i-temp_crn_i)\n",
    "\n",
    "print(difference4_newt)"
   ]
  },
  {
   "cell_type": "code",
   "execution_count": 148,
   "id": "d5fd370b",
   "metadata": {},
   "outputs": [
    {
     "name": "stdout",
     "output_type": "stream",
     "text": [
      "[ -1.0821      -5.1359      -7.6446     -10.2566     -10.926\n",
      "  -9.7401     -10.1739     -11.8757     -14.5268     -13.9413\n",
      " -13.9176     -13.9219     -14.0085     -13.9999     -14.0284\n",
      " -14.0253     -14.0233     -12.68466667 -12.68466667 -12.68466667\n",
      " -12.68466667 -14.0681     -14.0681     -14.068      -14.068     ]\n",
      "[ 2.8159122  13.15453614 16.16029571 18.25175648 21.19409732 22.34218145\n",
      " 23.38411671 22.02574025 21.89186436 20.53002457 20.4911618  20.50230877\n",
      " 20.46997736 20.47285784 20.46483555 20.46568613 20.46624015 21.11456126\n",
      " 21.11456126 21.11456126 21.11456126 20.45647129 20.45647129 20.45650065\n",
      " 20.45650065]\n"
     ]
    },
    {
     "name": "stderr",
     "output_type": "stream",
     "text": [
      "C:\\Users\\panwalaf\\AppData\\Local\\Temp\\ipykernel_2952\\500250758.py:3: UserWarning: Warning: converting a masked element to nan.\n",
      "  c1 = np.array([difference1_bat,difference1_laf,difference1_mon,difference1_hol,difference1_new,difference1_gai,difference1_fai,difference1_sel,difference1_bow,difference1_newt])\n",
      "C:\\Users\\panwalaf\\AppData\\Local\\Temp\\ipykernel_2952\\500250758.py:8: UserWarning: Warning: converting a masked element to nan.\n",
      "  b1 = np.array([difference1_bat,difference1_laf,difference1_mon,difference1_hol,difference1_new,difference1_gai,difference1_fai,difference1_sel,difference1_bow,difference1_newt])\n"
     ]
    },
    {
     "data": {
      "text/plain": [
       "25"
      ]
     },
     "execution_count": 148,
     "metadata": {},
     "output_type": "execute_result"
    }
   ],
   "source": [
    "# data = np.array([difference1_sal,difference1_sel,difference1_mon])\n",
    "# np.ma.average(data, axis=0)\n",
    "c1 = np.array([difference1_bat,difference1_laf,difference1_mon,difference1_hol,difference1_new,difference1_gai,difference1_fai,difference1_sel,difference1_bow,difference1_newt])\n",
    "c1=np.nanmean(c1, axis=0)\n",
    "print(c1)\n",
    "len(c1)\n",
    "\n",
    "b1 = np.array([difference1_bat,difference1_laf,difference1_mon,difference1_hol,difference1_new,difference1_gai,difference1_fai,difference1_sel,difference1_bow,difference1_newt])\n",
    "b1=np.nanstd(b1, axis=0)\n",
    "print(b1)\n",
    "len(b1)"
   ]
  },
  {
   "cell_type": "code",
   "execution_count": 149,
   "id": "0400ce89",
   "metadata": {
    "scrolled": false
   },
   "outputs": [],
   "source": [
    "# def mean(numbers):\n",
    "#     return float(sum(numbers)) / max(len(numbers), 1)\n",
    "\n",
    "# # difference1_sel[17]=None\n",
    "# # difference1_sel[18]=None\n",
    "# # difference1_sel[19]=None\n",
    "# # difference1_sel[20]=None\n",
    "# c1 = [mean(i) for i in zip(difference1_sal,difference1_bat,difference1_laf,difference1_mon,difference1_hol,difference1_new,difference1_gai,difference1_fai,difference1_sel,difference1_bow,difference1_gad,difference1_newt)]\n",
    "# #difference1_bow[6]=0\n",
    "# b1 = [np.std(i) for i in zip(difference1_sal,difference1_bat,difference1_laf,difference1_mon,difference1_hol,difference1_new,difference1_gai,difference1_fai,difference1_sel,difference1_bow,difference1_gad,difference1_newt)]\n",
    "# print (c1)\n",
    "# print(len(c1))\n",
    "# print(b1)\n",
    "# print(len(b1))"
   ]
  },
  {
   "cell_type": "code",
   "execution_count": 150,
   "id": "7d6e3e43",
   "metadata": {},
   "outputs": [
    {
     "data": {
      "image/png": "[encoded data removed]",
      "text/plain": [
       "<Figure size 792x396 with 1 Axes>"
      ]
     },
     "metadata": {},
     "output_type": "display_data"
    }
   ],
   "source": [
    "plt.style.use('seaborn-whitegrid')\n",
    "plt.rcParams[\"figure.figsize\"] = [11.00, 5.50]\n",
    "plt.rcParams[\"figure.autolayout\"] = True\n",
    "plt.yticks(np.arange(-60, 70,10))\n",
    "plt.ylim(-60, 60)\n",
    "# c[6]=None\n",
    "# b[6]=None\n",
    "\n",
    "plt.plot(hour,c1,c=\"black\")\n",
    "plt.errorbar(hour,c1,yerr=b1,linestyle='None', marker='s')\n",
    "# c[6]=None\n",
    "# b[6]=None\n",
    "\n",
    "plt.title(\"1-hr Avg. MBE All Stations\")\n",
    "plt.xlabel(\"Time Relative to Event Passage\")\n",
    "plt.ylabel(\"MBE Cumulative Precipitation (mm)\")\n",
    "#plt.plot(hour,c)\n",
    "#plt.errorbar(hour,c,yerr=b,ecolor='r',elinewidth=5,fmt='s',color='k')\n",
    "#plt.grid()\n",
    "plt.xticks(np.arange(min(hour), max(hour)+1, 1.0))\n",
    "plt.show()\n",
    "#plt.axvspan(-4, 4, color='green', alpha=0.2, lw=0)"
   ]
  },
  {
   "cell_type": "code",
   "execution_count": 151,
   "id": "3931d44b",
   "metadata": {},
   "outputs": [
    {
     "name": "stdout",
     "output_type": "stream",
     "text": [
      "[-0.127  -1.183  -1.6627 -4.0514 -3.4666 -5.8491 -5.0887 -4.9917 -5.2366\n",
      " -5.33   -5.526  -5.4952 -5.3606 -5.2918 -5.2922 -5.2854 -5.2838 -5.2837\n",
      " -5.2837 -5.2837 -5.2837 -5.2837 -5.2837 -5.2837 -5.2837]\n",
      "[ 0.3431472   3.0580774   5.37315634  7.53172667 10.81483385 11.83711235\n",
      " 11.38842433 11.51581449 11.56890756 11.44151375 11.65838649 11.72589667\n",
      " 11.5296332  11.43535248 11.4356554  11.43052186 11.42931893 11.42924381\n",
      " 11.42924381 11.42924381 11.42924381 11.42924381 11.42924381 11.42924381\n",
      " 11.42924381]\n"
     ]
    },
    {
     "data": {
      "text/plain": [
       "25"
      ]
     },
     "execution_count": 151,
     "metadata": {},
     "output_type": "execute_result"
    }
   ],
   "source": [
    "c2 = np.array([difference2_sal,difference2_bat,difference2_laf,difference2_mon,difference2_hol,difference2_new,difference2_gai,difference2_fai,difference2_sel,difference2_newt])\n",
    "c2=np.nanmean(c2, axis=0)\n",
    "print(c2)\n",
    "len(c2)\n",
    "\n",
    "b2 = np.array([difference2_sal,difference2_bat,difference2_laf,difference2_mon,difference2_hol,difference2_new,difference2_gai,difference2_fai,difference2_sel,difference2_newt])\n",
    "b2=np.nanstd(b2, axis=0)\n",
    "print(b2)\n",
    "len(b2)"
   ]
  },
  {
   "cell_type": "code",
   "execution_count": 152,
   "id": "7be0954b",
   "metadata": {
    "scrolled": false
   },
   "outputs": [],
   "source": [
    "# def mean(numbers):\n",
    "#     return float(sum(numbers)) / max(len(numbers), 1)\n",
    "\n",
    "# # difference1_sel[17]=0\n",
    "# # difference1_sel[18]=0\n",
    "# # difference1_sel[19]=0\n",
    "# # difference1_sel[20]=0\n",
    "# c2 = [mean(i) for i in zip(difference2_sal,difference2_bat,difference2_laf,difference2_mon,difference2_hol,difference2_new,difference2_gai,difference2_fai,difference2_sel,difference2_bow,difference2_gad,difference2_newt)]\n",
    "# #difference1_bow[6]=0\n",
    "# b2 = [np.std(i) for i in zip(difference2_sal,difference2_bat,difference2_laf,difference2_mon,difference2_hol,difference2_new,difference2_gai,difference2_fai,difference2_sel,difference2_bow,difference2_gad,difference2_newt)]\n",
    "# print (c2)\n",
    "# print(len(c2))\n",
    "# print(b2)\n",
    "# print(len(b2))"
   ]
  },
  {
   "cell_type": "code",
   "execution_count": 153,
   "id": "4c8ac8a3",
   "metadata": {},
   "outputs": [
    {
     "data": {
      "image/png": "[encoded data removed]",
      "text/plain": [
       "<Figure size 792x396 with 1 Axes>"
      ]
     },
     "metadata": {},
     "output_type": "display_data"
    }
   ],
   "source": [
    "plt.style.use('seaborn-whitegrid')\n",
    "plt.rcParams[\"figure.figsize\"] = [11.00, 5.50]\n",
    "plt.rcParams[\"figure.autolayout\"] = True\n",
    "plt.yticks(np.arange(-60, 70,10))\n",
    "plt.ylim(-60, 60)\n",
    "# c[6]=None\n",
    "# b[6]=None\n",
    "\n",
    "plt.plot(hour,c2,c=\"black\")\n",
    "plt.errorbar(hour,c2,c=\"r\",yerr=b2,linestyle='None', marker='s')\n",
    "# c[6]=None\n",
    "# b[6]=None\n",
    "\n",
    "plt.title(\"1-hr Avg. MBE All Stations\")\n",
    "plt.xlabel(\"Time Relative to Event Passage\")\n",
    "plt.ylabel(\"MBE Cumulative Precipitation (mm)\")\n",
    "#plt.plot(hour,c)\n",
    "#plt.errorbar(hour,c,yerr=b,ecolor='r',elinewidth=5,fmt='s',color='k')\n",
    "#plt.grid()\n",
    "plt.xticks(np.arange(min(hour), max(hour)+1, 1.0))\n",
    "plt.show()\n",
    "#plt.axvspan(-4, 4, color='green', alpha=0.2, lw=0)"
   ]
  },
  {
   "cell_type": "code",
   "execution_count": 154,
   "id": "e7aee5e0",
   "metadata": {},
   "outputs": [
    {
     "name": "stdout",
     "output_type": "stream",
     "text": [
      "[-1.962      -3.48090909 -2.142      -2.72845455 -3.07545455 -2.68927273\n",
      " -2.555      -2.75381818 -2.48481818 -2.46681818 -2.46581818 -2.46581818\n",
      " -2.46118182 -2.42027273 -2.40236364 -2.38454545 -2.38418182 -2.38418182\n",
      " -2.38363636 -2.294      -2.31054545 -2.34963636 -3.26936364 -3.33781818\n",
      " -3.193     ]\n",
      "[ 5.85345429  6.92944413 11.87385273 12.56644669 12.87828264 13.05411454\n",
      " 11.8810204  12.23381024 12.17992805 12.20448225 12.20477716 12.20477716\n",
      " 12.20454438 12.19950109 12.19772439 12.19615539 12.19612731 12.19612731\n",
      " 12.19634463 12.2172199  12.21287425 12.21110143 12.36654989 12.37176358\n",
      " 12.33993304]\n"
     ]
    },
    {
     "data": {
      "text/plain": [
       "25"
      ]
     },
     "execution_count": 154,
     "metadata": {},
     "output_type": "execute_result"
    }
   ],
   "source": [
    "c3 = np.array([difference3_sal,difference3_bat,difference3_laf,difference3_mon,difference3_hol,difference3_new,difference3_gai,difference3_fai,difference3_sel,difference3_bow,difference3_newt])\n",
    "c3=np.nanmean(c3, axis=0)\n",
    "print(c3)\n",
    "len(c3)\n",
    "\n",
    "b3 = np.array([difference3_sal,difference3_bat,difference3_laf,difference3_mon,difference3_hol,difference3_new,difference3_gai,difference3_fai,difference3_sel,difference3_bow,difference3_newt])\n",
    "b3=np.nanstd(b3, axis=0)\n",
    "print(b3)\n",
    "len(b3)"
   ]
  },
  {
   "cell_type": "code",
   "execution_count": 155,
   "id": "0d8bef30",
   "metadata": {
    "scrolled": false
   },
   "outputs": [],
   "source": [
    "# def mean(numbers):\n",
    "#     return float(sum(numbers)) / max(len(numbers), 1)\n",
    "\n",
    "# # difference1_sel[17]=0\n",
    "# # difference1_sel[18]=0\n",
    "# # difference1_sel[19]=0\n",
    "# # difference1_sel[20]=0\n",
    "# c3 = [mean(i) for i in zip(difference3_sal,difference3_bat,difference3_laf,difference3_mon,difference3_hol,difference3_new,difference3_gai,difference3_fai,difference3_sel,difference3_bow,difference3_gad,difference3_newt)]\n",
    "# #difference1_bow[6]=0\n",
    "# b3 = [np.std(i) for i in zip(difference3_sal,difference3_bat,difference3_laf,difference3_mon,difference3_hol,difference3_new,difference3_gai,difference3_fai,difference3_sel,difference3_bow,difference3_gad,difference3_newt)]\n",
    "# print (c3)\n",
    "# print(len(c3))\n",
    "# print(b3)\n",
    "# print(len(b3))"
   ]
  },
  {
   "cell_type": "code",
   "execution_count": 156,
   "id": "00a5e783",
   "metadata": {},
   "outputs": [
    {
     "data": {
      "image/png": "[encoded data removed]",
      "text/plain": [
       "<Figure size 792x396 with 1 Axes>"
      ]
     },
     "metadata": {},
     "output_type": "display_data"
    }
   ],
   "source": [
    "plt.style.use('seaborn-whitegrid')\n",
    "plt.rcParams[\"figure.figsize\"] = [11.00, 5.50]\n",
    "plt.rcParams[\"figure.autolayout\"] = True\n",
    "plt.yticks(np.arange(-60, 70,10))\n",
    "plt.ylim(-60, 60)\n",
    "# c[6]=None\n",
    "# b[6]=None\n",
    "\n",
    "plt.plot(hour,c3,c=\"green\")\n",
    "plt.errorbar(hour,c3,c=\"green\",yerr=b3,linestyle='None', marker='s')\n",
    "# c[6]=None\n",
    "# b[6]=None\n",
    "\n",
    "plt.title(\"1-hr Avg. MBE All Stations\")\n",
    "plt.xlabel(\"Time Relative to Event Passage\")\n",
    "plt.ylabel(\"MBE Cumulative Precipitation (mm)\")\n",
    "#plt.plot(hour,c)\n",
    "#plt.errorbar(hour,c,yerr=b,ecolor='r',elinewidth=5,fmt='s',color='k')\n",
    "#plt.grid()\n",
    "plt.xticks(np.arange(min(hour), max(hour)+1, 1.0))\n",
    "plt.show()\n",
    "#plt.axvspan(-4, 4, color='green', alpha=0.2, lw=0)"
   ]
  },
  {
   "cell_type": "code",
   "execution_count": 157,
   "id": "b2d7f7dd",
   "metadata": {},
   "outputs": [
    {
     "name": "stdout",
     "output_type": "stream",
     "text": [
      "[ -2.46045455  -2.93354545  -5.07790909  -6.78045455  -8.58554545\n",
      "  -9.10563636  -9.15854545  -9.89227273 -12.01709091 -11.03945455\n",
      " -11.05936364 -11.051      -11.04672727 -11.04672727 -11.02781818\n",
      " -11.01772727 -11.01772727 -11.01772727 -11.01772727 -11.01772727\n",
      " -11.01772727 -11.01772727 -11.01772727 -11.01772727 -11.01772727]\n",
      "[5.7832108  6.87843854 6.61753316 7.59234245 6.64062157 7.22448046\n",
      " 7.45282296 7.15163765 9.00711668 7.87428064 7.86803227 7.85664599\n",
      " 7.84920788 7.84920788 7.81648573 7.79915486 7.79915486 7.79915486\n",
      " 7.79915486 7.79915486 7.79915486 7.79915486 7.79915486 7.79915486\n",
      " 7.79915486]\n"
     ]
    },
    {
     "data": {
      "text/plain": [
       "25"
      ]
     },
     "execution_count": 157,
     "metadata": {},
     "output_type": "execute_result"
    }
   ],
   "source": [
    "c4 = np.array([difference4_sal,difference4_bat,difference4_laf,difference4_mon,difference4_hol,difference4_new,difference4_gai,difference4_fai,difference4_sel,difference4_bow,difference4_newt])\n",
    "c4=np.nanmean(c4, axis=0)\n",
    "print(c4)\n",
    "len(c4)\n",
    "\n",
    "b4 = np.array([difference4_sal,difference4_bat,difference4_laf,difference4_mon,difference4_hol,difference4_new,difference4_gai,difference4_fai,difference4_sel,difference4_bow,difference4_newt])\n",
    "b4=np.nanstd(b4, axis=0)\n",
    "print(b4)\n",
    "len(b4)"
   ]
  },
  {
   "cell_type": "code",
   "execution_count": 158,
   "id": "b1774c6c",
   "metadata": {
    "scrolled": false
   },
   "outputs": [],
   "source": [
    "# def mean(numbers):\n",
    "#     return float(sum(numbers)) / max(len(numbers), 1)\n",
    "\n",
    "# # difference1_sel[17]=0\n",
    "# # difference1_sel[18]=0\n",
    "# # difference1_sel[19]=0\n",
    "# # difference1_sel[20]=0\n",
    "# c4 = [mean(i) for i in zip(difference4_sal,difference4_bat,difference4_laf,difference4_mon,difference4_hol,difference4_new,difference4_gai,difference4_fai,difference4_sel,difference4_bow,difference4_gad,difference4_newt)]\n",
    "# #difference1_bow[6]=0\n",
    "# b4 = [np.std(i) for i in zip(difference4_sal,difference4_bat,difference4_laf,difference4_mon,difference4_hol,difference4_new,difference4_gai,difference4_fai,difference4_sel,difference4_bow,difference4_gad,difference4_newt)]\n",
    "# print (c4)\n",
    "# print(len(c4))\n",
    "# print(b4)\n",
    "# print(len(b4))"
   ]
  },
  {
   "cell_type": "code",
   "execution_count": 159,
   "id": "e70a6cef",
   "metadata": {},
   "outputs": [
    {
     "data": {
      "image/png": "[encoded data removed]",
      "text/plain": [
       "<Figure size 792x396 with 1 Axes>"
      ]
     },
     "metadata": {},
     "output_type": "display_data"
    }
   ],
   "source": [
    "plt.style.use('seaborn-whitegrid')\n",
    "plt.rcParams[\"figure.figsize\"] = [11.00, 5.50]\n",
    "plt.rcParams[\"figure.autolayout\"] = True\n",
    "plt.yticks(np.arange(-60, 70,10))\n",
    "plt.ylim(-60, 60)\n",
    "# c[6]=None\n",
    "# b[6]=None\n",
    "\n",
    "plt.plot(hour,c4,c=\"orange\")\n",
    "plt.errorbar(hour,c4,c=\"orange\",yerr=b4,linestyle='None', marker='s')\n",
    "# c[6]=None\n",
    "# b[6]=None\n",
    "\n",
    "plt.title(\"1-hr Avg. MBE All Stations\")\n",
    "plt.xlabel(\"Time Relative to Event Passage\")\n",
    "plt.ylabel(\"MBE Cumulative Precipitation (mm)\")\n",
    "#plt.plot(hour,c)\n",
    "#plt.errorbar(hour,c,yerr=b,ecolor='r',elinewidth=5,fmt='s',color='k')\n",
    "#plt.grid()\n",
    "plt.xticks(np.arange(min(hour), max(hour)+1, 1.0))\n",
    "plt.show()\n",
    "#plt.axvspan(-4, 4, color='green', alpha=0.2, lw=0)"
   ]
  },
  {
   "cell_type": "code",
   "execution_count": null,
   "id": "f721b50a",
   "metadata": {},
   "outputs": [],
   "source": []
  },
  {
   "cell_type": "code",
   "execution_count": 160,
   "id": "240eafe4",
   "metadata": {
    "scrolled": false
   },
   "outputs": [
    {
     "data": {
      "image/png": "[encoded data removed]",
      "text/plain": [
       "<Figure size 792x396 with 1 Axes>"
      ]
     },
     "metadata": {},
     "output_type": "display_data"
    }
   ],
   "source": [
    "plt.style.use('seaborn-whitegrid')\n",
    "plt.rcParams[\"figure.figsize\"] = [11.00, 5.50]\n",
    "plt.rcParams[\"figure.autolayout\"] = True\n",
    "plt.yticks(np.arange(-60, 70,10))\n",
    "plt.ylim(-60, 60)\n",
    "\n",
    "plt.plot(hour,c1,c=\"b\",label=\"IOP 1\")\n",
    "plt.errorbar(hour,c1,c=\"b\",yerr=b1,linestyle='None', marker='s')\n",
    "\n",
    "plt.plot(hour,c2,c=\"r\",label=\"IOP 2\")\n",
    "plt.errorbar(hour,c2,c=\"r\",yerr=b2,linestyle='None', marker='s')\n",
    "\n",
    "plt.plot(hour,c3,c=\"green\")\n",
    "plt.errorbar(hour,c3,c=\"green\",yerr=b3,linestyle='None', marker='s')\n",
    "\n",
    "plt.plot(hour,c4,c=\"orange\")\n",
    "plt.errorbar(hour,c4,c=\"orange\",yerr=b4,linestyle='None', marker='s')\n",
    "\n",
    "plt.title(\"1-hr Avg. MBE All Stations\")\n",
    "plt.xlabel(\"Time Relative to Event Passage\")\n",
    "plt.ylabel(\"MBE Cumulative Precipitation (mm)\")\n",
    "#plt.plot(hour,c)\n",
    "#plt.errorbar(hour,c,yerr=b,ecolor='r',elinewidth=5,fmt='s',color='k')\n",
    "#plt.grid()\n",
    "plt.xticks(np.arange(min(hour), max(hour)+1, 1.0))\n",
    "plt.legend([\"IOP 1\", \"IOP 2\",\"IOP 3\",\"IOP 4\"], loc =\"lower right\")\n",
    "plt.show()"
   ]
  },
  {
   "cell_type": "code",
   "execution_count": null,
   "id": "f20cc188",
   "metadata": {},
   "outputs": [],
   "source": []
  }
 ],
 "metadata": {
  "kernelspec": {
   "display_name": "Python 3 (ipykernel)",
   "language": "python",
   "name": "python3"
  },
  "language_info": {
   "codemirror_mode": {
    "name": "ipython",
    "version": 3
   },
   "file_extension": ".py",
   "mimetype": "text/x-python",
   "name": "python",
   "nbconvert_exporter": "python",
   "pygments_lexer": "ipython3",
   "version": "3.9.12"
  }
 },
 "nbformat": 4,
 "nbformat_minor": 5
}
