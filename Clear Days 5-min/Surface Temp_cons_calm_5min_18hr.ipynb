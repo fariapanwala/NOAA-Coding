{
 "cells": [
  {
   "cell_type": "code",
   "execution_count": 1,
   "id": "83d28093",
   "metadata": {},
   "outputs": [],
   "source": [
    "import numpy as np\n",
    "import matplotlib.pyplot as plt\n",
    "import math\n",
    "import numpy.ma as ma"
   ]
  },
  {
   "cell_type": "markdown",
   "id": "18ad22a0",
   "metadata": {},
   "source": [
    "<font size=\"3\">Salem, MO: 0600 UTC (12:00 am CST) 01 March 2022-0600 UTC (12:00 am CST) 02 March 2022</font>"
   ]
  },
  {
   "cell_type": "code",
   "execution_count": 2,
   "id": "9d3b9481",
   "metadata": {},
   "outputs": [
    {
     "name": "stdout",
     "output_type": "stream",
     "text": [
      "[1.53, 0.940002, 0.27002, 0.720001, 0.580017, 0.410004, 0.0, 0.51001, 4.26001, 8.77002, 12.46, 16.11, 19.1, 22.1, 23.37, 22.86, 21.6, 18.79, 14.02, 11.51, 9.95999, 8.67999, 8.14001, 7.51001, 6.82001]\n",
      "25\n"
     ]
    }
   ],
   "source": [
    "#1 hr hrrr:\n",
    "with open('hrrr_f18_Salem_MO.txt') as f:\n",
    "    lst=[line.split()[4] for line in f]\n",
    "    temp=[]\n",
    "    for i in lst:\n",
    "        new=i.replace(',',\"\")\n",
    "        temp.append(new)\n",
    "    temp.pop(0)\n",
    "    temp=[float(x) for x in temp]\n",
    "    temp=temp[1404:1429]\n",
    "    #temp=temp[2015:2063]\n",
    "    print(temp)\n",
    "    print(len(temp))\n",
    "#full time period is [2015:2112]"
   ]
  },
  {
   "cell_type": "code",
   "execution_count": 3,
   "id": "e9d4dbcc",
   "metadata": {},
   "outputs": [
    {
     "name": "stdout",
     "output_type": "stream",
     "text": [
      "[-4.85, -5.4, -6.0, -5.55, -5.15, -2.2, -0.8500000000000001, -0.30000000000000004, 5.3, 12.3, 17.950000000000003, 22.450000000000003, 24.75, 25.049999999999997, 25.3, 23.75, 20.5, 15.100000000000001, 7.05, 3.75, 0.6499999999999999, -0.35, -0.6, -0.75, -0.7]\n"
     ]
    }
   ],
   "source": [
    "#Air Temp CRN:\n",
    "with open('CRNS0101-05-2022-MO_Salem_10_W.txt') as f:\n",
    "    lst=[line.split()[12] for line in f]\n",
    "\n",
    "    a=(float(lst[17063])+float(lst[17064]))/2\n",
    "    b=(float(lst[17075])+float(lst[17076]))/2\n",
    "    c=(float(lst[17087])+float(lst[17088]))/2\n",
    "    d=(float(lst[17099])+float(lst[17100]))/2\n",
    "    e=(float(lst[17111])+float(lst[17112]))/2\n",
    "    f=(float(lst[17123])+float(lst[17124]))/2\n",
    "    g=(float(lst[17135])+float(lst[17136]))/2\n",
    "    h=(float(lst[17147])+float(lst[17148]))/2\n",
    "    i=(float(lst[17159])+float(lst[17160]))/2\n",
    "    j=(float(lst[17171])+float(lst[17172]))/2\n",
    "    k=(float(lst[17183])+float(lst[17184]))/2\n",
    "    l=(float(lst[17195])+float(lst[17196]))/2\n",
    "    m=(float(lst[17207])+float(lst[17208]))/2\n",
    "    n=(float(lst[17219])+float(lst[17220]))/2\n",
    "    o=(float(lst[17231])+float(lst[17232]))/2\n",
    "    p=(float(lst[17243])+float(lst[17244]))/2\n",
    "    q=(float(lst[17255])+float(lst[17256]))/2\n",
    "    r=(float(lst[17267])+float(lst[17268]))/2\n",
    "    s=(float(lst[17279])+float(lst[17280]))/2\n",
    "    t=(float(lst[17291])+float(lst[17292]))/2\n",
    "    u=(float(lst[17303])+float(lst[17304]))/2\n",
    "    v=(float(lst[17315])+float(lst[17316]))/2\n",
    "    w=(float(lst[17327])+float(lst[17328]))/2\n",
    "    x=(float(lst[17339])+float(lst[17340]))/2\n",
    "    y=(float(lst[17351])+float(lst[17352]))/2\n",
    "    temp_crn=[a,b,c,d,e,f,g,h,i,j,k,l,m,n,o,p,q,r,s,t,u,v,w,x,y]\n",
    "    print(temp_crn)"
   ]
  },
  {
   "cell_type": "code",
   "execution_count": 4,
   "id": "1e9aed03-d99c-4045-812a-e26bcc99b84f",
   "metadata": {},
   "outputs": [
    {
     "name": "stdout",
     "output_type": "stream",
     "text": [
      "[6.38, 6.340002, 6.27002, 6.270001, 5.730017, 2.610004, 0.8500000000000001, 0.81001, -1.0399899999999995, -3.52998, -5.490000000000002, -6.340000000000003, -5.649999999999999, -2.9499999999999957, -1.9299999999999997, -0.8900000000000006, 1.1000000000000014, 3.6899999999999977, 6.97, 7.76, 9.309989999999999, 9.02999, 8.74001, 8.260010000000001, 7.52001]\n"
     ]
    }
   ],
   "source": [
    "difference1_sal = []\n",
    "\n",
    "zip_object = zip(temp, temp_crn)\n",
    "for temp_i, temp_crn_i in zip_object:\n",
    "    difference1_sal.append(temp_i-temp_crn_i)\n",
    "\n",
    "print(difference1_sal)"
   ]
  },
  {
   "cell_type": "markdown",
   "id": "9043c519",
   "metadata": {},
   "source": [
    "<font size=\"3\">Batesville, AR: 0600 UTC (12:00 am CST) 01 March 2022-0600 UTC (12:00 am CST) 02 March 2022</font>"
   ]
  },
  {
   "cell_type": "code",
   "execution_count": 5,
   "id": "af395ecc",
   "metadata": {},
   "outputs": [
    {
     "name": "stdout",
     "output_type": "stream",
     "text": [
      "[2.47, 1.45999, 0.720001, 0.589996, 0.450012, 0.279999, 0.0899963, 0.100006, 4.54001, 10.85, 15.04, 18.03, 20.02, 20.41, 20.59, 20.18, 19.24, 17.38, 12.98, 10.57, 9.16, 8.12, 7.20001, 6.28, 5.44]\n",
      "25\n"
     ]
    }
   ],
   "source": [
    "#1 hr hrrr:\n",
    "with open('hrrr_f18_Batesville_AR.txt') as f:\n",
    "    lst=[line.split()[4] for line in f]\n",
    "    temp=[]\n",
    "    for i in lst:\n",
    "        new=i.replace(',',\"\")\n",
    "        temp.append(new)\n",
    "    temp.pop(0)\n",
    "    temp=[float(x) for x in temp]\n",
    "    temp=temp[1404:1429]\n",
    "#     x = np.array(temp)\n",
    "#     temp = ma.masked_array(x, mask=[0, 0, 0, 0, 0,0,0,0,0,0,0,0,0,0,0,0,0,0,0,0,0,1,0,0,0])\n",
    "    #temp=temp[2015:2063]\n",
    "    print(temp)\n",
    "    print(len(temp))\n",
    "#full time period is [2015:2112]"
   ]
  },
  {
   "cell_type": "code",
   "execution_count": 6,
   "id": "5da1fd53",
   "metadata": {},
   "outputs": [
    {
     "name": "stdout",
     "output_type": "stream",
     "text": [
      "[-0.8, -1.4, -1.7000000000000002, -2.1500000000000004, -2.5, -2.55, -2.6500000000000004, -1.65, 3.8499999999999996, 12.45, 17.65, 22.15, 23.65, 23.6, 22.25, 21.1, 18.3, 14.600000000000001, 6.95, 7.55, 4.55, 2.55, 2.2, 1.35, 1.0]\n"
     ]
    }
   ],
   "source": [
    "#Air Temp CRN:\n",
    "with open('CRNS0101-05-2022-AR_Batesville_8_WNW.txt') as f:\n",
    "    lst=[line.split()[12] for line in f]\n",
    "    \n",
    "    a=(float(lst[17063])+float(lst[17064]))/2\n",
    "    b=(float(lst[17075])+float(lst[17076]))/2\n",
    "    c=(float(lst[17087])+float(lst[17088]))/2\n",
    "    d=(float(lst[17099])+float(lst[17100]))/2\n",
    "    e=(float(lst[17111])+float(lst[17112]))/2\n",
    "    f=(float(lst[17123])+float(lst[17124]))/2\n",
    "    g=(float(lst[17135])+float(lst[17136]))/2\n",
    "    h=(float(lst[17147])+float(lst[17148]))/2\n",
    "    i=(float(lst[17159])+float(lst[17160]))/2\n",
    "    j=(float(lst[17171])+float(lst[17172]))/2\n",
    "    k=(float(lst[17183])+float(lst[17184]))/2\n",
    "    l=(float(lst[17195])+float(lst[17196]))/2\n",
    "    m=(float(lst[17207])+float(lst[17208]))/2\n",
    "    n=(float(lst[17219])+float(lst[17220]))/2\n",
    "    o=(float(lst[17231])+float(lst[17232]))/2\n",
    "    p=(float(lst[17243])+float(lst[17244]))/2\n",
    "    q=(float(lst[17255])+float(lst[17256]))/2\n",
    "    r=(float(lst[17267])+float(lst[17268]))/2\n",
    "    s=(float(lst[17279])+float(lst[17280]))/2\n",
    "    t=(float(lst[17291])+float(lst[17292]))/2\n",
    "    u=(float(lst[17303])+float(lst[17304]))/2\n",
    "    v=(float(lst[17315])+float(lst[17316]))/2\n",
    "    w=(float(lst[17327])+float(lst[17328]))/2\n",
    "    x=(float(lst[17339])+float(lst[17340]))/2\n",
    "    y=(float(lst[17351])+float(lst[17352]))/2\n",
    "    temp_crn=[a,b,c,d,e,f,g,h,i,j,k,l,m,n,o,p,q,r,s,t,u,v,w,x,y]\n",
    "    print(temp_crn)"
   ]
  },
  {
   "cell_type": "code",
   "execution_count": 7,
   "id": "62a46873",
   "metadata": {},
   "outputs": [
    {
     "name": "stdout",
     "output_type": "stream",
     "text": [
      "[3.2700000000000005, 2.85999, 2.420001, 2.7399960000000005, 2.950012, 2.829999, 2.7399963000000005, 1.750006, 0.69001, -1.5999999999999996, -2.6099999999999994, -4.119999999999997, -3.629999999999999, -3.1900000000000013, -1.6600000000000001, -0.9200000000000017, 0.9399999999999977, 2.7799999999999976, 6.03, 3.0200000000000005, 4.61, 5.569999999999999, 5.00001, 4.93, 4.44]\n"
     ]
    }
   ],
   "source": [
    "difference1_bat = []\n",
    "\n",
    "zip_object = zip(temp, temp_crn)\n",
    "for temp_i, temp_crn_i in zip_object:\n",
    "    difference1_bat.append(temp_i-temp_crn_i)\n",
    "\n",
    "print(difference1_bat)"
   ]
  },
  {
   "cell_type": "markdown",
   "id": "2a2589df",
   "metadata": {},
   "source": [
    "<font size=\"3\">Lafayette, LA: 0600 UTC (12:00 am CST) 01 March 2022-0600 UTC (12:00 am CST) 02 March 2022</font>"
   ]
  },
  {
   "cell_type": "code",
   "execution_count": 8,
   "id": "3fd34af2",
   "metadata": {},
   "outputs": [
    {
     "name": "stdout",
     "output_type": "stream",
     "text": [
      "[6.62, 6.28, 6.05002, 5.12, 4.86002, 3.94, 3.42001, 2.69, 8.49002, 15.16, 21.65, 25.87, 28.8, 30.38, 30.44, 29.08, 25.97, 22.76, 18.59, 15.24, 13.59, 11.93, 10.26, 9.04001, 8.78]\n"
     ]
    }
   ],
   "source": [
    "#1 hr hrrr:\n",
    "with open('hrrr_f18_Lafayette_LA.txt') as f:\n",
    "    lst=[line.split()[4] for line in f]\n",
    "    temp=[]\n",
    "    for i in lst:\n",
    "        new=i.replace(',',\"\")\n",
    "        temp.append(new)\n",
    "    temp.pop(0)\n",
    "    temp=[float(x) for x in temp]\n",
    "    temp=temp[1404:1429]\n",
    "    #temp=temp[2015:2063]\n",
    "    print(temp)\n",
    "    #print(len(temp))\n",
    "#full time period is [2015:2112]"
   ]
  },
  {
   "cell_type": "code",
   "execution_count": 9,
   "id": "2aa0e7ac",
   "metadata": {},
   "outputs": [
    {
     "name": "stdout",
     "output_type": "stream",
     "text": [
      "[1.2000000000000002, 0.7, 0.3, 0.2, -0.1, -0.1, -0.25, 1.25, 9.65, 15.35, 21.6, 24.85, 25.6, 27.3, 27.700000000000003, 25.25, 22.5, 17.25, 8.399999999999999, 6.65, 7.449999999999999, 6.0, 3.9499999999999997, 3.25, 2.45]\n"
     ]
    }
   ],
   "source": [
    "#Air Temp CRN:\n",
    "with open('CRNS0101-05-2022-LA_Lafayette_13_SE.txt') as f:\n",
    "    lst=[line.split()[12] for line in f]\n",
    "    \n",
    "    a=(float(lst[17063])+float(lst[17064]))/2\n",
    "    b=(float(lst[17075])+float(lst[17076]))/2\n",
    "    c=(float(lst[17087])+float(lst[17088]))/2\n",
    "    d=(float(lst[17099])+float(lst[17100]))/2\n",
    "    e=(float(lst[17111])+float(lst[17112]))/2\n",
    "    f=(float(lst[17123])+float(lst[17124]))/2\n",
    "    g=(float(lst[17135])+float(lst[17136]))/2\n",
    "    h=(float(lst[17147])+float(lst[17148]))/2\n",
    "    i=(float(lst[17159])+float(lst[17160]))/2\n",
    "    j=(float(lst[17171])+float(lst[17172]))/2\n",
    "    k=(float(lst[17183])+float(lst[17184]))/2\n",
    "    l=(float(lst[17195])+float(lst[17196]))/2\n",
    "    m=(float(lst[17207])+float(lst[17208]))/2\n",
    "    n=(float(lst[17219])+float(lst[17220]))/2\n",
    "    o=(float(lst[17231])+float(lst[17232]))/2\n",
    "    p=(float(lst[17243])+float(lst[17244]))/2\n",
    "    q=(float(lst[17255])+float(lst[17256]))/2\n",
    "    r=(float(lst[17267])+float(lst[17268]))/2\n",
    "    s=(float(lst[17279])+float(lst[17280]))/2\n",
    "    t=(float(lst[17291])+float(lst[17292]))/2\n",
    "    u=(float(lst[17303])+float(lst[17304]))/2\n",
    "    v=(float(lst[17315])+float(lst[17316]))/2\n",
    "    w=(float(lst[17327])+float(lst[17328]))/2\n",
    "    x=(float(lst[17339])+float(lst[17340]))/2\n",
    "    y=(float(lst[17351])+float(lst[17352]))/2\n",
    "    temp_crn=[a,b,c,d,e,f,g,h,i,j,k,l,m,n,o,p,q,r,s,t,u,v,w,x,y]\n",
    "    print(temp_crn)"
   ]
  },
  {
   "cell_type": "code",
   "execution_count": 10,
   "id": "9b94d0f9",
   "metadata": {},
   "outputs": [
    {
     "name": "stdout",
     "output_type": "stream",
     "text": [
      "[5.42, 5.58, 5.75002, 4.92, 4.960019999999999, 4.04, 3.67001, 1.44, -1.159980000000001, -0.1899999999999995, 0.04999999999999716, 1.0199999999999996, 3.1999999999999993, 3.0799999999999983, 2.7399999999999984, 3.8299999999999983, 3.469999999999999, 5.510000000000002, 10.190000000000001, 8.59, 6.140000000000001, 5.93, 6.3100000000000005, 5.7900100000000005, 6.329999999999999]\n"
     ]
    }
   ],
   "source": [
    "difference1_laf = []\n",
    "\n",
    "zip_object = zip(temp, temp_crn)\n",
    "for temp_i, temp_crn_i in zip_object:\n",
    "    difference1_laf.append(temp_i-temp_crn_i)\n",
    "\n",
    "print(difference1_laf)"
   ]
  },
  {
   "cell_type": "markdown",
   "id": "7a8d079f",
   "metadata": {},
   "source": [
    "<font size=\"3\">Monroe, LA: 0600 UTC (12:00 am CST) 01 March 2022-0600 UTC (12:00 am CST) 02 March 2022</font>"
   ]
  },
  {
   "cell_type": "code",
   "execution_count": 11,
   "id": "9c6d2382",
   "metadata": {},
   "outputs": [
    {
     "name": "stdout",
     "output_type": "stream",
     "text": [
      "[2.81, 2.11002, 1.79001, 1.86002, 1.88, 0.880005, 0.380005, 0.200012, 4.85001, 10.51, 15.21, 18.25, 20.16, 21.18, 21.6, 22.52, 20.97, 18.42, 13.32, 10.74, 9.5, 8.53, 7.69, 6.88, 6.14999]\n"
     ]
    }
   ],
   "source": [
    "#1 hr hrrr:\n",
    "with open('hrrr_f18_Monroe_LA.txt') as f:\n",
    "    lst=[line.split()[4] for line in f]\n",
    "    temp=[]\n",
    "    for i in lst:\n",
    "        new=i.replace(',',\"\")\n",
    "        temp.append(new)\n",
    "    temp.pop(0)\n",
    "    temp=[float(x) for x in temp]\n",
    "    temp=temp[1404:1429]\n",
    "    #temp=temp[2015:2063]\n",
    "    print(temp)\n",
    "    #print(len(temp))\n",
    "#full time period is [2015:2112]"
   ]
  },
  {
   "cell_type": "code",
   "execution_count": 12,
   "id": "3fe08a4e",
   "metadata": {},
   "outputs": [
    {
     "name": "stdout",
     "output_type": "stream",
     "text": [
      "[1.3, 1.8, 2.2, 0.7, -0.45, -0.8, -0.15000000000000002, -0.2, 3.25, 13.350000000000001, 17.9, 21.55, 23.75, 24.6, 24.950000000000003, 24.2, 23.15, 17.450000000000003, 8.0, 5.15, 3.85, 2.75, 2.2, 1.65, 1.1]\n"
     ]
    }
   ],
   "source": [
    "#Air Temp CRN:\n",
    "with open('CRNS0101-05-2022-LA_Monroe_26_N.txt') as f:\n",
    "    lst=[line.split()[12] for line in f]\n",
    "    \n",
    "    a=(float(lst[17063])+float(lst[17064]))/2\n",
    "    b=(float(lst[17075])+float(lst[17076]))/2\n",
    "    c=(float(lst[17087])+float(lst[17088]))/2\n",
    "    d=(float(lst[17099])+float(lst[17100]))/2\n",
    "    e=(float(lst[17111])+float(lst[17112]))/2\n",
    "    f=(float(lst[17123])+float(lst[17124]))/2\n",
    "    g=(float(lst[17135])+float(lst[17136]))/2\n",
    "    h=(float(lst[17147])+float(lst[17148]))/2\n",
    "    i=(float(lst[17159])+float(lst[17160]))/2\n",
    "    j=(float(lst[17171])+float(lst[17172]))/2\n",
    "    k=(float(lst[17183])+float(lst[17184]))/2\n",
    "    l=(float(lst[17195])+float(lst[17196]))/2\n",
    "    m=(float(lst[17207])+float(lst[17208]))/2\n",
    "    n=(float(lst[17219])+float(lst[17220]))/2\n",
    "    o=(float(lst[17231])+float(lst[17232]))/2\n",
    "    p=(float(lst[17243])+float(lst[17244]))/2\n",
    "    q=(float(lst[17255])+float(lst[17256]))/2\n",
    "    r=(float(lst[17267])+float(lst[17268]))/2\n",
    "    s=(float(lst[17279])+float(lst[17280]))/2\n",
    "    t=(float(lst[17291])+float(lst[17292]))/2\n",
    "    u=(float(lst[17303])+float(lst[17304]))/2\n",
    "    v=(float(lst[17315])+float(lst[17316]))/2\n",
    "    w=(float(lst[17327])+float(lst[17328]))/2\n",
    "    x=(float(lst[17339])+float(lst[17340]))/2\n",
    "    y=(float(lst[17351])+float(lst[17352]))/2\n",
    "    temp_crn=[a,b,c,d,e,f,g,h,i,j,k,l,m,n,o,p,q,r,s,t,u,v,w,x,y]\n",
    "    print(temp_crn)"
   ]
  },
  {
   "cell_type": "code",
   "execution_count": 13,
   "id": "2b4e383a",
   "metadata": {},
   "outputs": [
    {
     "name": "stdout",
     "output_type": "stream",
     "text": [
      "[1.51, 0.31001999999999996, -0.4099900000000001, 1.16002, 2.33, 1.680005, 0.5300050000000001, 0.40001200000000003, 1.6000100000000002, -2.8400000000000016, -2.6899999999999977, -3.3000000000000007, -3.59, -3.4200000000000017, -3.3500000000000014, -1.6799999999999997, -2.1799999999999997, 0.9699999999999989, 5.32, 5.59, 5.65, 5.779999999999999, 5.49, 5.23, 5.049989999999999]\n"
     ]
    }
   ],
   "source": [
    "difference1_mon = []\n",
    "\n",
    "zip_object = zip(temp, temp_crn)\n",
    "for temp_i, temp_crn_i in zip_object:\n",
    "    difference1_mon.append(temp_i-temp_crn_i)\n",
    "\n",
    "print(difference1_mon)"
   ]
  },
  {
   "cell_type": "markdown",
   "id": "26c585ff",
   "metadata": {},
   "source": [
    "<font size=\"3\">Holly Springs, MS: 0600 UTC (12:00 am CST) 01 March 2022-0600 UTC (12:00 am CST) 02 March 2022</font>"
   ]
  },
  {
   "cell_type": "code",
   "execution_count": 14,
   "id": "175bd35c",
   "metadata": {},
   "outputs": [
    {
     "name": "stdout",
     "output_type": "stream",
     "text": [
      "[2.36002, 1.88, 1.11002, 1.45999, 1.37, 1.35001, 0.690002, 1.45999, 5.14999, 9.22, 12.78, 15.04, 16.52, 17.29, 17.14, 16.98, 15.32, 13.64, 10.42, 8.94, 8.19, 7.72, 7.64001, 6.87, 6.22]\n"
     ]
    }
   ],
   "source": [
    "#1 hr hrrr:\n",
    "with open('hrrr_f18_Holly Springs_MS.txt') as f:\n",
    "    lst=[line.split()[4] for line in f]\n",
    "    temp=[]\n",
    "    for i in lst:\n",
    "        new=i.replace(',',\"\")\n",
    "        temp.append(new)\n",
    "    temp.pop(0)\n",
    "    temp=[float(x) for x in temp]\n",
    "    temp=temp[1404:1429]\n",
    "    #temp=temp[2015:2063]\n",
    "    print(temp)\n",
    "    #print(len(temp))\n",
    "#full time period is [2015:2112]"
   ]
  },
  {
   "cell_type": "code",
   "execution_count": 15,
   "id": "f416219a",
   "metadata": {},
   "outputs": [
    {
     "name": "stdout",
     "output_type": "stream",
     "text": [
      "[0.8, 0.2, -0.1, -0.4, -1.15, -1.65, -2.1, -1.65, 4.6, 11.8, 17.8, 21.549999999999997, 23.200000000000003, 23.299999999999997, 22.75, 21.45, 18.25, 12.25, 6.85, 5.2, 4.25, 4.25, 4.300000000000001, 3.4, 2.3]\n"
     ]
    }
   ],
   "source": [
    "#Air Temp CRN:\n",
    "with open('CRNS0101-05-2022-MS_Holly_Springs_4_N.txt') as f:\n",
    "    lst=[line.split()[12] for line in f]\n",
    "    \n",
    "    a=(float(lst[17063])+float(lst[17064]))/2\n",
    "    b=(float(lst[17075])+float(lst[17076]))/2\n",
    "    c=(float(lst[17087])+float(lst[17088]))/2\n",
    "    d=(float(lst[17099])+float(lst[17100]))/2\n",
    "    e=(float(lst[17111])+float(lst[17112]))/2\n",
    "    f=(float(lst[17123])+float(lst[17124]))/2\n",
    "    g=(float(lst[17135])+float(lst[17136]))/2\n",
    "    h=(float(lst[17147])+float(lst[17148]))/2\n",
    "    i=(float(lst[17159])+float(lst[17160]))/2\n",
    "    j=(float(lst[17171])+float(lst[17172]))/2\n",
    "    k=(float(lst[17183])+float(lst[17184]))/2\n",
    "    l=(float(lst[17195])+float(lst[17196]))/2\n",
    "    m=(float(lst[17207])+float(lst[17208]))/2\n",
    "    n=(float(lst[17219])+float(lst[17220]))/2\n",
    "    o=(float(lst[17231])+float(lst[17232]))/2\n",
    "    p=(float(lst[17243])+float(lst[17244]))/2\n",
    "    q=(float(lst[17255])+float(lst[17256]))/2\n",
    "    r=(float(lst[17267])+float(lst[17268]))/2\n",
    "    s=(float(lst[17279])+float(lst[17280]))/2\n",
    "    t=(float(lst[17291])+float(lst[17292]))/2\n",
    "    u=(float(lst[17303])+float(lst[17304]))/2\n",
    "    v=(float(lst[17315])+float(lst[17316]))/2\n",
    "    w=(float(lst[17327])+float(lst[17328]))/2\n",
    "    x=(float(lst[17339])+float(lst[17340]))/2\n",
    "    y=(float(lst[17351])+float(lst[17352]))/2\n",
    "    temp_crn=[a,b,c,d,e,f,g,h,i,j,k,l,m,n,o,p,q,r,s,t,u,v,w,x,y]\n",
    "    print(temp_crn)"
   ]
  },
  {
   "cell_type": "code",
   "execution_count": 16,
   "id": "46b095cb",
   "metadata": {},
   "outputs": [
    {
     "name": "stdout",
     "output_type": "stream",
     "text": [
      "[1.56002, 1.68, 1.21002, 1.8599899999999998, 2.52, 3.0000099999999996, 2.7900020000000003, 3.10999, 0.5499900000000002, -2.58, -5.020000000000001, -6.509999999999998, -6.680000000000003, -6.009999999999998, -5.609999999999999, -4.469999999999999, -2.9299999999999997, 1.3900000000000006, 3.5700000000000003, 3.7399999999999993, 3.9399999999999995, 3.4699999999999998, 3.3400099999999995, 3.47, 3.92]\n"
     ]
    }
   ],
   "source": [
    "difference1_hol = []\n",
    "\n",
    "zip_object = zip(temp, temp_crn)\n",
    "for temp_i, temp_crn_i in zip_object:\n",
    "    difference1_hol.append(temp_i-temp_crn_i)\n",
    "\n",
    "print(difference1_hol)"
   ]
  },
  {
   "cell_type": "markdown",
   "id": "1c76c308",
   "metadata": {},
   "source": [
    "<font size=\"3\">Newton, MS: 0600 UTC (12:00 am CST) 01 March 2022-0600 UTC (12:00 am CST) 02 March 2022</font>"
   ]
  },
  {
   "cell_type": "code",
   "execution_count": 17,
   "id": "06decf86",
   "metadata": {},
   "outputs": [
    {
     "name": "stdout",
     "output_type": "stream",
     "text": [
      "[3.51001, 2.72, 2.26001, 1.67001, 1.77002, 1.67001, 0.779999, 0.990021, 8.17999, 14.16, 20.54, 23.95, 25.95, 26.8, 26.6, 25.91, 23.37, 20.02, 14.69, 11.76, 9.78, 8.39999, 7.94, 6.94, 5.5]\n"
     ]
    }
   ],
   "source": [
    "#1 hr hrrr:\n",
    "with open('hrrr_f18_Newton_MS.txt') as f:\n",
    "    lst=[line.split()[4] for line in f]\n",
    "    temp=[]\n",
    "    for i in lst:\n",
    "        new=i.replace(',',\"\")\n",
    "        temp.append(new)\n",
    "    temp.pop(0)\n",
    "    temp=[float(x) for x in temp]\n",
    "    temp=temp[1404:1429]\n",
    "    #temp=temp[2015:2063]\n",
    "    print(temp)\n",
    "    #print(len(temp))\n",
    "#full time period is [2015:2112]"
   ]
  },
  {
   "cell_type": "code",
   "execution_count": 18,
   "id": "9672674c",
   "metadata": {},
   "outputs": [
    {
     "name": "stdout",
     "output_type": "stream",
     "text": [
      "[0.9, 0.2, -0.05, -0.7, -1.15, -1.45, 0.0, 1.65, 8.05, 15.75, 22.15, 24.45, 27.299999999999997, 28.5, 27.4, 26.549999999999997, 22.3, 17.85, 9.85, 7.050000000000001, 5.65, 4.3, 3.25, 2.45, 1.75]\n"
     ]
    }
   ],
   "source": [
    "#Air Temp CRN:\n",
    "with open('CRNS0101-05-2022-MS_Newton_5_ENE.txt') as f:\n",
    "    lst=[line.split()[12] for line in f]\n",
    "    \n",
    "    a=(float(lst[17063])+float(lst[17064]))/2\n",
    "    b=(float(lst[17075])+float(lst[17076]))/2\n",
    "    c=(float(lst[17087])+float(lst[17088]))/2\n",
    "    d=(float(lst[17099])+float(lst[17100]))/2\n",
    "    e=(float(lst[17111])+float(lst[17112]))/2\n",
    "    f=(float(lst[17123])+float(lst[17124]))/2\n",
    "    g=(float(lst[17135])+float(lst[17136]))/2\n",
    "    h=(float(lst[17147])+float(lst[17148]))/2\n",
    "    i=(float(lst[17159])+float(lst[17160]))/2\n",
    "    j=(float(lst[17171])+float(lst[17172]))/2\n",
    "    k=(float(lst[17183])+float(lst[17184]))/2\n",
    "    l=(float(lst[17195])+float(lst[17196]))/2\n",
    "    m=(float(lst[17207])+float(lst[17208]))/2\n",
    "    n=(float(lst[17219])+float(lst[17220]))/2\n",
    "    o=(float(lst[17231])+float(lst[17232]))/2\n",
    "    p=(float(lst[17243])+float(lst[17244]))/2\n",
    "    q=(float(lst[17255])+float(lst[17256]))/2\n",
    "    r=(float(lst[17267])+float(lst[17268]))/2\n",
    "    s=(float(lst[17279])+float(lst[17280]))/2\n",
    "    t=(float(lst[17291])+float(lst[17292]))/2\n",
    "    u=(float(lst[17303])+float(lst[17304]))/2\n",
    "    v=(float(lst[17315])+float(lst[17316]))/2\n",
    "    w=(float(lst[17327])+float(lst[17328]))/2\n",
    "    x=(float(lst[17339])+float(lst[17340]))/2\n",
    "    y=(float(lst[17351])+float(lst[17352]))/2\n",
    "    temp_crn=[a,b,c,d,e,f,g,h,i,j,k,l,m,n,o,p,q,r,s,t,u,v,w,x,y]\n",
    "    print(temp_crn)"
   ]
  },
  {
   "cell_type": "code",
   "execution_count": 19,
   "id": "e588ab70",
   "metadata": {},
   "outputs": [
    {
     "name": "stdout",
     "output_type": "stream",
     "text": [
      "[2.61001, 2.52, 2.3100099999999997, 2.3700099999999997, 2.92002, 3.1200099999999997, 0.779999, -0.6599789999999999, 0.12998999999999938, -1.5899999999999999, -1.6099999999999994, -0.5, -1.3499999999999979, -1.6999999999999993, -0.7999999999999972, -0.639999999999997, 1.0700000000000003, 2.169999999999998, 4.84, 4.709999999999999, 4.129999999999999, 4.099990000000001, 4.69, 4.49, 3.75]\n"
     ]
    }
   ],
   "source": [
    "difference1_new = []\n",
    "\n",
    "zip_object = zip(temp, temp_crn)\n",
    "for temp_i, temp_crn_i in zip_object:\n",
    "    difference1_new.append(temp_i-temp_crn_i)\n",
    "\n",
    "print(difference1_new)"
   ]
  },
  {
   "cell_type": "markdown",
   "id": "c9620694",
   "metadata": {},
   "source": [
    "<font size=\"3\">Gainesville, AL: 0600 UTC (12:00 am CST) 01 March 2022-0600 UTC (12:00 am CST) 02 March 2022</font>"
   ]
  },
  {
   "cell_type": "code",
   "execution_count": 20,
   "id": "a422cd03",
   "metadata": {},
   "outputs": [],
   "source": [
    "# #1 hr hrrr:\n",
    "# with open('hrrr_f18_Gainesville_AL.txt') as f:\n",
    "#     lst=[line.split()[4] for line in f]\n",
    "#     temp=[]\n",
    "#     for i in lst:\n",
    "#         new=i.replace(',',\"\")\n",
    "#         temp.append(new)\n",
    "#     temp.pop(0)\n",
    "#     temp=[float(x) for x in temp]\n",
    "#     temp=temp[1404:1429]\n",
    "#     #temp=temp[2015:2063]\n",
    "#     print(temp)\n",
    "#     #print(len(temp))\n",
    "# #full time period is [2015:2112]"
   ]
  },
  {
   "cell_type": "code",
   "execution_count": 21,
   "id": "2c97e541",
   "metadata": {},
   "outputs": [],
   "source": [
    "# #Air Temp CRN:\n",
    "# with open('CRNH0203-2022-AL_Gainesville_2_NE.txt') as f:\n",
    "#     lst=[line.split()[13] for line in f]\n",
    "#     #prfloat(lst)\n",
    "#     temp_crn=[]\n",
    "#     for i in lst:\n",
    "#         new=i.replace(',',\"\")\n",
    "#         temp_crn.append(new)\n",
    "#     temp_crn=[float(x) for x in temp_crn]\n",
    "#     temp_crn=temp_crn[1421:1446]\n",
    "#     print(temp_crn)\n",
    "#     #print(len(temp_crn))\n",
    "#     # print(temp_crn[2124])"
   ]
  },
  {
   "cell_type": "code",
   "execution_count": 22,
   "id": "8df76a7b",
   "metadata": {},
   "outputs": [],
   "source": [
    "# difference1_gai = []\n",
    "\n",
    "# zip_object = zip(temp, temp_crn)\n",
    "# for temp_i, temp_crn_i in zip_object:\n",
    "#     difference1_gai.append(temp_i-temp_crn_i)\n",
    "\n",
    "# print(difference1_gai)"
   ]
  },
  {
   "cell_type": "markdown",
   "id": "2711dc15",
   "metadata": {},
   "source": [
    "<font size=\"3\">Fairhope, AL: 0600 UTC (12:00 am CST) 01 March 2022-0600 UTC (12:00 am CST) 02 March 2022</font>"
   ]
  },
  {
   "cell_type": "code",
   "execution_count": 23,
   "id": "64dbcf91",
   "metadata": {},
   "outputs": [
    {
     "name": "stdout",
     "output_type": "stream",
     "text": [
      "[8.14001, 7.99002, 7.38, 6.94, 6.47, 6.0, 5.94, 6.63, 11.79, 16.81, 21.36, 25.03, 26.02, 26.04, 25.87, 24.98, 22.45, 18.5, 14.89, 13.21, 11.56, 10.53, 10.14, 9.44, 8.54001]\n"
     ]
    }
   ],
   "source": [
    "#1 hr hrrr:\n",
    "with open('hrrr_f18_Fairhope_AL.txt') as f:\n",
    "    lst=[line.split()[4] for line in f]\n",
    "    temp=[]\n",
    "    for i in lst:\n",
    "        new=i.replace(',',\"\")\n",
    "        temp.append(new)\n",
    "    temp.pop(0)\n",
    "    temp=[float(x) for x in temp]\n",
    "    temp=temp[1404:1429]\n",
    "    #temp=temp[2015:2063]\n",
    "    print(temp)\n",
    "    #print(len(temp))\n",
    "#full time period is [2015:2112]"
   ]
  },
  {
   "cell_type": "code",
   "execution_count": 24,
   "id": "83dc8266",
   "metadata": {},
   "outputs": [
    {
     "name": "stdout",
     "output_type": "stream",
     "text": [
      "[4.6, 4.300000000000001, 2.2, 2.3, 3.3, 4.15, 0.6, 5.55, 13.8, 22.3, 26.05, 30.8, 31.1, 30.0, 28.549999999999997, 25.7, 21.55, 14.899999999999999, 10.85, 6.65, 3.75, 2.6500000000000004, 1.8, 1.05, 0.8500000000000001]\n"
     ]
    }
   ],
   "source": [
    "#Air Temp CRN:\n",
    "with open('CRNS0101-05-2022-AL_Fairhope_3_NE.txt') as f:\n",
    "    lst=[line.split()[12] for line in f]\n",
    "    \n",
    "    a=(float(lst[17063])+float(lst[17064]))/2\n",
    "    b=(float(lst[17075])+float(lst[17076]))/2\n",
    "    c=(float(lst[17087])+float(lst[17088]))/2\n",
    "    d=(float(lst[17099])+float(lst[17100]))/2\n",
    "    e=(float(lst[17111])+float(lst[17112]))/2\n",
    "    f=(float(lst[17123])+float(lst[17124]))/2\n",
    "    g=(float(lst[17135])+float(lst[17136]))/2\n",
    "    h=(float(lst[17147])+float(lst[17148]))/2\n",
    "    i=(float(lst[17159])+float(lst[17160]))/2\n",
    "    j=(float(lst[17171])+float(lst[17172]))/2\n",
    "    k=(float(lst[17183])+float(lst[17184]))/2\n",
    "    l=(float(lst[17195])+float(lst[17196]))/2\n",
    "    m=(float(lst[17207])+float(lst[17208]))/2\n",
    "    n=(float(lst[17219])+float(lst[17220]))/2\n",
    "    o=(float(lst[17231])+float(lst[17232]))/2\n",
    "    p=(float(lst[17243])+float(lst[17244]))/2\n",
    "    q=(float(lst[17255])+float(lst[17256]))/2\n",
    "    r=(float(lst[17267])+float(lst[17268]))/2\n",
    "    s=(float(lst[17279])+float(lst[17280]))/2\n",
    "    t=(float(lst[17291])+float(lst[17292]))/2\n",
    "    u=(float(lst[17303])+float(lst[17304]))/2\n",
    "    v=(float(lst[17315])+float(lst[17316]))/2\n",
    "    w=(float(lst[17327])+float(lst[17328]))/2\n",
    "    x=(float(lst[17339])+float(lst[17340]))/2\n",
    "    y=(float(lst[17351])+float(lst[17352]))/2\n",
    "    temp_crn=[a,b,c,d,e,f,g,h,i,j,k,l,m,n,o,p,q,r,s,t,u,v,w,x,y]\n",
    "    print(temp_crn)"
   ]
  },
  {
   "cell_type": "code",
   "execution_count": 25,
   "id": "a9ff3306",
   "metadata": {},
   "outputs": [
    {
     "name": "stdout",
     "output_type": "stream",
     "text": [
      "[3.5400100000000005, 3.6900199999999996, 5.18, 4.640000000000001, 3.17, 1.8499999999999996, 5.340000000000001, 1.08, -2.0100000000000016, -5.490000000000002, -4.690000000000001, -5.77, -5.080000000000002, -3.960000000000001, -2.679999999999996, -0.7199999999999989, 0.8999999999999986, 3.6000000000000014, 4.040000000000001, 6.5600000000000005, 7.8100000000000005, 7.879999999999999, 8.34, 8.389999999999999, 7.690010000000001]\n"
     ]
    }
   ],
   "source": [
    "difference1_fai = []\n",
    "\n",
    "zip_object = zip(temp, temp_crn)\n",
    "for temp_i, temp_crn_i in zip_object:\n",
    "    difference1_fai.append(temp_i-temp_crn_i)\n",
    "\n",
    "print(difference1_fai)"
   ]
  },
  {
   "cell_type": "markdown",
   "id": "f5dd4e4b",
   "metadata": {},
   "source": [
    "<font size=\"3\">**Selma, AL: 0600 UTC (12:00 am CST) 01 March 2022-0600 UTC (12:00 am CST) 02 March 2022</font>"
   ]
  },
  {
   "cell_type": "code",
   "execution_count": 26,
   "id": "af6b46b1",
   "metadata": {},
   "outputs": [
    {
     "name": "stdout",
     "output_type": "stream",
     "text": [
      "[4.66, 4.36002, 3.64999, 3.62, 4.06, 3.79001, 2.07001, 2.81, 8.0, 12.97, 16.93, 19.88, 22.36, 24.25, 24.62, 23.67, 21.36, 18.08, 13.56, 10.83, 9.20999, 7.94, 6.89001, 6.01001, 5.07001]\n"
     ]
    }
   ],
   "source": [
    "#1 hr hrrr:\n",
    "import numpy as np\n",
    "import numpy.ma as ma\n",
    "with open('hrrr_f18_Selma_AL.txt') as f:\n",
    "    lst=[line.split()[4] for line in f]\n",
    "    temp=[]\n",
    "    for i in lst:\n",
    "        new=i.replace(',',\"\")\n",
    "        temp.append(new)\n",
    "    temp.pop(0)\n",
    "    temp=[float(x) for x in temp]\n",
    "    temp=temp[1404:1429]\n",
    "\n",
    "#     x = np.array(temp)\n",
    "#     temp = ma.masked_array(x, mask=[0, 0, 0, 0, 0,0,0,0,0,0,0,0,0,0,0,0,0,1,1,1,1,0,0,0,0])\n",
    "    print(temp)"
   ]
  },
  {
   "cell_type": "code",
   "execution_count": 27,
   "id": "942dc824",
   "metadata": {},
   "outputs": [
    {
     "name": "stdout",
     "output_type": "stream",
     "text": [
      "[3.05, 2.25, 1.75, 1.2, 0.6, 0.8500000000000001, 1.85, 2.9000000000000004, 10.9, 14.5, 21.8, 24.25, 25.75, 26.75, 25.9, 23.75, 19.3, 17.25, 12.399999999999999, 8.8, 7.0, 5.75, 4.9, 4.2, 3.6500000000000004]\n"
     ]
    }
   ],
   "source": [
    "#Air Temp CRN:\n",
    "with open('CRNS0101-05-2022-AL_Selma_13_WNW.txt') as f:\n",
    "    lst=[line.split()[12] for line in f]\n",
    "    \n",
    "    a=(float(lst[17063])+float(lst[17064]))/2\n",
    "    b=(float(lst[17075])+float(lst[17076]))/2\n",
    "    c=(float(lst[17087])+float(lst[17088]))/2\n",
    "    d=(float(lst[17099])+float(lst[17100]))/2\n",
    "    e=(float(lst[17111])+float(lst[17112]))/2\n",
    "    f=(float(lst[17123])+float(lst[17124]))/2\n",
    "    g=(float(lst[17135])+float(lst[17136]))/2\n",
    "    h=(float(lst[17147])+float(lst[17148]))/2\n",
    "    i=(float(lst[17159])+float(lst[17160]))/2\n",
    "    j=(float(lst[17171])+float(lst[17172]))/2\n",
    "    k=(float(lst[17183])+float(lst[17184]))/2\n",
    "    l=(float(lst[17195])+float(lst[17196]))/2\n",
    "    m=(float(lst[17207])+float(lst[17208]))/2\n",
    "    n=(float(lst[17219])+float(lst[17220]))/2\n",
    "    o=(float(lst[17231])+float(lst[17232]))/2\n",
    "    p=(float(lst[17243])+float(lst[17244]))/2\n",
    "    q=(float(lst[17255])+float(lst[17256]))/2\n",
    "    r=(float(lst[17267])+float(lst[17268]))/2\n",
    "    s=(float(lst[17279])+float(lst[17280]))/2\n",
    "    t=(float(lst[17291])+float(lst[17292]))/2\n",
    "    u=(float(lst[17303])+float(lst[17304]))/2\n",
    "    v=(float(lst[17315])+float(lst[17316]))/2\n",
    "    w=(float(lst[17327])+float(lst[17328]))/2\n",
    "    x=(float(lst[17339])+float(lst[17340]))/2\n",
    "    y=(float(lst[17351])+float(lst[17352]))/2\n",
    "    temp_crn=[a,b,c,d,e,f,g,h,i,j,k,l,m,n,o,p,q,r,s,t,u,v,w,x,y]\n",
    "    print(temp_crn)"
   ]
  },
  {
   "cell_type": "code",
   "execution_count": 28,
   "id": "fdfb15c8",
   "metadata": {},
   "outputs": [
    {
     "name": "stdout",
     "output_type": "stream",
     "text": [
      "[1.6100000000000003, 2.1100199999999996, 1.8999899999999998, 2.42, 3.4599999999999995, 2.94001, 0.22000999999999982, -0.0900000000000003, -2.9000000000000004, -1.5299999999999994, -4.870000000000001, -4.370000000000001, -3.3900000000000006, -2.5, -1.2799999999999976, -0.0799999999999983, 2.0599999999999987, 0.8299999999999983, 1.160000000000002, 2.0299999999999994, 2.2099899999999995, 2.1900000000000004, 1.9900099999999998, 1.8100100000000001, 1.4200099999999996]\n"
     ]
    }
   ],
   "source": [
    "difference1_sel = []\n",
    "\n",
    "zip_object = zip(temp, temp_crn)\n",
    "for temp_i, temp_crn_i in zip_object:\n",
    "    difference1_sel.append(temp_i-temp_crn_i)\n",
    "\n",
    "print(difference1_sel)\n",
    "#print(len(difference1_sel))"
   ]
  },
  {
   "cell_type": "markdown",
   "id": "8fab4bdc",
   "metadata": {},
   "source": [
    "<font size=\"3\">Bowling Green, KY: 0600 UTC (12:00 am CST) 01 March 2022-0600 UTC (12:00 am CST) 02 March 2022</font>"
   ]
  },
  {
   "cell_type": "code",
   "execution_count": 29,
   "id": "bf608647",
   "metadata": {},
   "outputs": [
    {
     "name": "stdout",
     "output_type": "stream",
     "text": [
      "[1.39001, 1.12, 1.09, 1.14999, 1.04001, 0.779999, 0.600006, 1.27002, 4.86002, 9.16, 13.09, 16.37, 19.34, 21.06, 21.28, 20.13, 18.23, 15.04, 12.01, 10.55, 9.59, 8.79001, 8.10001, 7.36002, 6.88]\n"
     ]
    }
   ],
   "source": [
    "#1 hr hrrr:\n",
    "with open('hrrr_f18_Bowling Green_KY.txt') as f:\n",
    "    lst=[line.split()[4] for line in f]\n",
    "    temp=[]\n",
    "    for i in lst:\n",
    "        new=i.replace(',',\"\")\n",
    "        temp.append(new)\n",
    "    temp.pop(0)\n",
    "    temp=[float(x) for x in temp]\n",
    "    temp=temp[1404:1429]\n",
    "    #temp=temp[2015:2063]\n",
    "    print(temp)\n",
    "    #print(len(temp))\n",
    "#full time period is [2015:2112]"
   ]
  },
  {
   "cell_type": "code",
   "execution_count": 30,
   "id": "d7253497",
   "metadata": {},
   "outputs": [
    {
     "name": "stdout",
     "output_type": "stream",
     "text": [
      "[-2.8, -3.2, -3.3, -3.1500000000000004, -2.3, -2.3, -1.8, 0.85, 7.45, 15.1, 20.4, 24.450000000000003, 27.5, 25.799999999999997, 25.75, 23.1, 18.35, 12.350000000000001, 7.05, 4.449999999999999, 5.2, 4.0, 2.2, 2.1, 1.35]\n"
     ]
    }
   ],
   "source": [
    "#Air Temp CRN:\n",
    "with open('CRNS0101-05-2022-KY_Bowling_Green_21_NNE.txt') as f:\n",
    "    lst=[line.split()[12] for line in f]\n",
    "    \n",
    "    a=(float(lst[17063])+float(lst[17064]))/2\n",
    "    b=(float(lst[17075])+float(lst[17076]))/2\n",
    "    c=(float(lst[17087])+float(lst[17088]))/2\n",
    "    d=(float(lst[17099])+float(lst[17100]))/2\n",
    "    e=(float(lst[17111])+float(lst[17112]))/2\n",
    "    f=(float(lst[17123])+float(lst[17124]))/2\n",
    "    g=(float(lst[17135])+float(lst[17136]))/2\n",
    "    h=(float(lst[17147])+float(lst[17148]))/2\n",
    "    i=(float(lst[17159])+float(lst[17160]))/2\n",
    "    j=(float(lst[17171])+float(lst[17172]))/2\n",
    "    k=(float(lst[17183])+float(lst[17184]))/2\n",
    "    l=(float(lst[17195])+float(lst[17196]))/2\n",
    "    m=(float(lst[17207])+float(lst[17208]))/2\n",
    "    n=(float(lst[17219])+float(lst[17220]))/2\n",
    "    o=(float(lst[17231])+float(lst[17232]))/2\n",
    "    p=(float(lst[17243])+float(lst[17244]))/2\n",
    "    q=(float(lst[17255])+float(lst[17256]))/2\n",
    "    r=(float(lst[17267])+float(lst[17268]))/2\n",
    "    s=(float(lst[17279])+float(lst[17280]))/2\n",
    "    t=(float(lst[17291])+float(lst[17292]))/2\n",
    "    u=(float(lst[17303])+float(lst[17304]))/2\n",
    "    v=(float(lst[17315])+float(lst[17316]))/2\n",
    "    w=(float(lst[17327])+float(lst[17328]))/2\n",
    "    x=(float(lst[17339])+float(lst[17340]))/2\n",
    "    y=(float(lst[17351])+float(lst[17352]))/2\n",
    "    temp_crn=[a,b,c,d,e,f,g,h,i,j,k,l,m,n,o,p,q,r,s,t,u,v,w,x,y]\n",
    "    print(temp_crn)"
   ]
  },
  {
   "cell_type": "code",
   "execution_count": 31,
   "id": "c1e72531",
   "metadata": {},
   "outputs": [
    {
     "name": "stdout",
     "output_type": "stream",
     "text": [
      "[4.19001, 4.32, 4.39, 4.29999, 3.34001, 3.079999, 2.4000060000000003, 0.42001999999999995, -2.5899800000000006, -5.9399999999999995, -7.309999999999999, -8.080000000000002, -8.16, -4.739999999999998, -4.469999999999999, -2.9700000000000024, -0.120000000000001, 2.6899999999999977, 4.96, 6.100000000000001, 4.39, 4.7900100000000005, 5.900009999999999, 5.260019999999999, 5.529999999999999]\n"
     ]
    }
   ],
   "source": [
    "difference1_bow = []\n",
    "\n",
    "zip_object = zip(temp, temp_crn)\n",
    "for temp_i, temp_crn_i in zip_object:\n",
    "    difference1_bow.append(temp_i-temp_crn_i)\n",
    "\n",
    "print(difference1_bow)"
   ]
  },
  {
   "cell_type": "markdown",
   "id": "d1be2cc0",
   "metadata": {},
   "source": [
    "<font size=\"3\">Gadsden, AL: 0600 UTC (12:00 am CST) 01 March 2022-0600 UTC (12:00 am CST) 02 March 2022</font>"
   ]
  },
  {
   "cell_type": "code",
   "execution_count": 32,
   "id": "02793170",
   "metadata": {},
   "outputs": [
    {
     "name": "stdout",
     "output_type": "stream",
     "text": [
      "[3.31, 2.99002, 2.70001, 2.22, 2.20999, 1.99002, 1.29001, 2.32001, 6.64001, 11.0, 14.28, 16.26, 17.59, 18.18, 18.29, 17.6, 15.66, 12.85, 9.69, 8.22, 7.01001, 6.05002, 5.97, 5.22, 4.38]\n"
     ]
    }
   ],
   "source": [
    "#1 hr hrrr:\n",
    "with open('hrrr_f18_Gadsden_AL.txt') as f:\n",
    "    lst=[line.split()[4] for line in f]\n",
    "    temp=[]\n",
    "    for i in lst:\n",
    "        new=i.replace(',',\"\")\n",
    "        temp.append(new)\n",
    "    temp.pop(0)\n",
    "    temp=[float(x) for x in temp]\n",
    "    temp=temp[1404:1429]\n",
    "#     x = np.array(temp)\n",
    "#     temp = ma.masked_array(x, mask=[0, 0, 0, 0, 0,0,0,0,1,0,0,0,0,0,0,0,0,0,0,0,0,0,0,0,0])\n",
    "    #temp=temp[2015:2063]\n",
    "    print(temp)\n",
    "    #print(len(temp))\n",
    "#full time period is [2015:2112]"
   ]
  },
  {
   "cell_type": "code",
   "execution_count": 33,
   "id": "5fd7f4a3",
   "metadata": {},
   "outputs": [
    {
     "name": "stdout",
     "output_type": "stream",
     "text": [
      "[0.6499999999999999, 0.6, 0.8, 1.3, 0.7, 0.2, -0.5, 2.7, 12.05, 16.5, 19.9, 21.450000000000003, 23.15, 23.0, 22.1, 18.700000000000003, 16.2, 13.05, 7.550000000000001, 5.45, 4.4, 4.25, 3.55, 3.55, 3.25]\n"
     ]
    }
   ],
   "source": [
    "#Air Temp CRN:\n",
    "with open('CRNS0101-05-2022-AL_Gadsden_19_N.txt') as f:\n",
    "    lst=[line.split()[12] for line in f]\n",
    "    \n",
    "    a=(float(lst[17063])+float(lst[17064]))/2\n",
    "    b=(float(lst[17075])+float(lst[17076]))/2\n",
    "    c=(float(lst[17087])+float(lst[17088]))/2\n",
    "    d=(float(lst[17099])+float(lst[17100]))/2\n",
    "    e=(float(lst[17111])+float(lst[17112]))/2\n",
    "    f=(float(lst[17123])+float(lst[17124]))/2\n",
    "    g=(float(lst[17135])+float(lst[17136]))/2\n",
    "    h=(float(lst[17147])+float(lst[17148]))/2\n",
    "    i=(float(lst[17159])+float(lst[17160]))/2\n",
    "    j=(float(lst[17171])+float(lst[17172]))/2\n",
    "    k=(float(lst[17183])+float(lst[17184]))/2\n",
    "    l=(float(lst[17195])+float(lst[17196]))/2\n",
    "    m=(float(lst[17207])+float(lst[17208]))/2\n",
    "    n=(float(lst[17219])+float(lst[17220]))/2\n",
    "    o=(float(lst[17231])+float(lst[17232]))/2\n",
    "    p=(float(lst[17243])+float(lst[17244]))/2\n",
    "    q=(float(lst[17255])+float(lst[17256]))/2\n",
    "    r=(float(lst[17267])+float(lst[17268]))/2\n",
    "    s=(float(lst[17279])+float(lst[17280]))/2\n",
    "    t=(float(lst[17291])+float(lst[17292]))/2\n",
    "    u=(float(lst[17303])+float(lst[17304]))/2\n",
    "    v=(float(lst[17315])+float(lst[17316]))/2\n",
    "    w=(float(lst[17327])+float(lst[17328]))/2\n",
    "    x=(float(lst[17339])+float(lst[17340]))/2\n",
    "    y=(float(lst[17351])+float(lst[17352]))/2\n",
    "    temp_crn=[a,b,c,d,e,f,g,h,i,j,k,l,m,n,o,p,q,r,s,t,u,v,w,x,y]\n",
    "    print(temp_crn)"
   ]
  },
  {
   "cell_type": "code",
   "execution_count": 34,
   "id": "c002ac76",
   "metadata": {},
   "outputs": [
    {
     "name": "stdout",
     "output_type": "stream",
     "text": [
      "[2.66, 2.39002, 1.9000099999999998, 0.9200000000000002, 1.50999, 1.79002, 1.79001, -0.37999000000000027, -5.4099900000000005, -5.5, -5.619999999999999, -5.190000000000001, -5.559999999999999, -4.82, -3.8100000000000023, -1.1000000000000014, -0.5399999999999991, -0.20000000000000107, 2.139999999999999, 2.7700000000000005, 2.61001, 1.80002, 2.42, 1.67, 1.13]\n"
     ]
    }
   ],
   "source": [
    "difference1_gad = []\n",
    "\n",
    "zip_object = zip(temp, temp_crn)\n",
    "for temp_i, temp_crn_i in zip_object:\n",
    "    difference1_gad.append(temp_i-temp_crn_i)\n",
    "\n",
    "print(difference1_gad)"
   ]
  },
  {
   "cell_type": "markdown",
   "id": "d430f7c6",
   "metadata": {},
   "source": [
    "<font size=\"3\">Newton, GA: 0600 UTC (12:00 am CST) 01 March 2022-0600 UTC (12:00 am CST) 02 March 2022</font>"
   ]
  },
  {
   "cell_type": "code",
   "execution_count": 35,
   "id": "e78bb8bf",
   "metadata": {},
   "outputs": [
    {
     "name": "stdout",
     "output_type": "stream",
     "text": [
      "[9.94, 7.31, 5.89999, 5.24002, 4.92001, 5.76001, 4.70001, 7.75, 11.08, 16.98, 20.51, 24.82, 26.32, 27.18, 26.75, 25.3, 23.21, 19.51, 14.67, 12.46, 10.88, 9.80002, 9.44, 8.26001, 7.25]\n"
     ]
    }
   ],
   "source": [
    "#1 hr hrrr:\n",
    "with open('hrrr_f18_Newton_GA.txt') as f:\n",
    "    lst=[line.split()[4] for line in f]\n",
    "    temp=[]\n",
    "    for i in lst:\n",
    "        new=i.replace(',',\"\")\n",
    "        temp.append(new)\n",
    "    temp.pop(0)\n",
    "    temp=[float(x) for x in temp]\n",
    "    temp=temp[1404:1429]\n",
    "    #temp=temp[2015:2063]\n",
    "    print(temp)\n",
    "    #print(len(temp))\n",
    "#full time period is [2015:2112]"
   ]
  },
  {
   "cell_type": "code",
   "execution_count": 36,
   "id": "52b388f2",
   "metadata": {},
   "outputs": [
    {
     "name": "stdout",
     "output_type": "stream",
     "text": [
      "[6.5, 5.65, 5.15, 4.7, 4.15, 3.9, 3.8, 7.5, 12.55, 17.0, 23.85, 27.55, 28.6, 29.55, 28.45, 26.65, 21.75, 15.95, 10.75, 9.149999999999999, 7.65, 7.0, 6.25, 5.35, 4.85]\n"
     ]
    }
   ],
   "source": [
    "#Air Temp CRN:\n",
    "with open('CRNS0101-05-2022-GA_Newton_11_SW.txt') as f:\n",
    "    lst=[line.split()[12] for line in f]\n",
    "    \n",
    "    a=(float(lst[17063])+float(lst[17064]))/2\n",
    "    b=(float(lst[17075])+float(lst[17076]))/2\n",
    "    c=(float(lst[17087])+float(lst[17088]))/2\n",
    "    d=(float(lst[17099])+float(lst[17100]))/2\n",
    "    e=(float(lst[17111])+float(lst[17112]))/2\n",
    "    f=(float(lst[17123])+float(lst[17124]))/2\n",
    "    g=(float(lst[17135])+float(lst[17136]))/2\n",
    "    h=(float(lst[17147])+float(lst[17148]))/2\n",
    "    i=(float(lst[17159])+float(lst[17160]))/2\n",
    "    j=(float(lst[17171])+float(lst[17172]))/2\n",
    "    k=(float(lst[17183])+float(lst[17184]))/2\n",
    "    l=(float(lst[17195])+float(lst[17196]))/2\n",
    "    m=(float(lst[17207])+float(lst[17208]))/2\n",
    "    n=(float(lst[17219])+float(lst[17220]))/2\n",
    "    o=(float(lst[17231])+float(lst[17232]))/2\n",
    "    p=(float(lst[17243])+float(lst[17244]))/2\n",
    "    q=(float(lst[17255])+float(lst[17256]))/2\n",
    "    r=(float(lst[17267])+float(lst[17268]))/2\n",
    "    s=(float(lst[17279])+float(lst[17280]))/2\n",
    "    t=(float(lst[17291])+float(lst[17292]))/2\n",
    "    u=(float(lst[17303])+float(lst[17304]))/2\n",
    "    v=(float(lst[17315])+float(lst[17316]))/2\n",
    "    w=(float(lst[17327])+float(lst[17328]))/2\n",
    "    x=(float(lst[17339])+float(lst[17340]))/2\n",
    "    y=(float(lst[17351])+float(lst[17352]))/2\n",
    "    temp_crn=[a,b,c,d,e,f,g,h,i,j,k,l,m,n,o,p,q,r,s,t,u,v,w,x,y]\n",
    "    print(temp_crn)"
   ]
  },
  {
   "cell_type": "code",
   "execution_count": 37,
   "id": "f2141c03",
   "metadata": {},
   "outputs": [
    {
     "name": "stdout",
     "output_type": "stream",
     "text": [
      "[3.4399999999999995, 1.6599999999999993, 0.7499899999999995, 0.5400200000000002, 0.7700100000000001, 1.8600100000000004, 0.90001, 0.25, -1.4700000000000006, -0.019999999999999574, -3.34, -2.7300000000000004, -2.280000000000001, -2.370000000000001, -1.6999999999999993, -1.3499999999999979, 1.4600000000000009, 3.5600000000000023, 3.92, 3.3100000000000023, 3.2300000000000004, 2.80002, 3.1899999999999995, 2.9100099999999998, 2.4000000000000004]\n"
     ]
    }
   ],
   "source": [
    "difference1_newt = []\n",
    "\n",
    "zip_object = zip(temp, temp_crn)\n",
    "for temp_i, temp_crn_i in zip_object:\n",
    "    difference1_newt.append(temp_i-temp_crn_i)\n",
    "\n",
    "print(difference1_newt)"
   ]
  },
  {
   "cell_type": "markdown",
   "id": "8ee79bb2",
   "metadata": {},
   "source": [
    "<font size=\"3\">Salem, MO: 1200 UTC 22 March 2022-1200 UTC 23 March 2022</font>"
   ]
  },
  {
   "cell_type": "code",
   "execution_count": 38,
   "id": "01442781",
   "metadata": {},
   "outputs": [
    {
     "name": "stdout",
     "output_type": "stream",
     "text": [
      "[-1.42999, -1.25, -0.549988, -0.559998, -0.669983, -0.630005, -0.799988, 0.300018, 3.62, 7.19, 10.97, 15.01, 18.17, 20.36, 20.87, 20.32, 18.9, 16.48, 12.6, 10.12, 9.11002, 8.27002, 7.48001, 6.84, 6.06]\n",
      "25\n"
     ]
    }
   ],
   "source": [
    "#1 hr hrrr:\n",
    "with open('hrrr_f18_Salem_MO.txt') as f:\n",
    "    lst=[line.split()[4] for line in f]\n",
    "    temp=[]\n",
    "    for i in lst:\n",
    "        new=i.replace(',',\"\")\n",
    "        temp.append(new)\n",
    "    temp.pop(0)\n",
    "    temp=[float(x) for x in temp]\n",
    "    temp=temp[1692:1717]\n",
    "    #temp=temp[2015:2063]\n",
    "    print(temp)\n",
    "    print(len(temp))\n",
    "#full time period is [2015:2112]"
   ]
  },
  {
   "cell_type": "code",
   "execution_count": 39,
   "id": "5c26c31d",
   "metadata": {},
   "outputs": [
    {
     "name": "stdout",
     "output_type": "stream",
     "text": [
      "[-3.85, -1.15, -3.25, -1.1, -2.0, -1.8, -2.8499999999999996, -0.45, 6.65, 13.45, 19.950000000000003, 25.55, 27.0, 28.35, 27.65, 24.8, 20.4, 14.7, 8.85, 2.95, 5.25, 5.35, 4.9, 4.5, 3.45]\n"
     ]
    }
   ],
   "source": [
    "#Air Temp CRN:\n",
    "with open('CRNS0101-05-2022-MO_Salem_10_W.txt') as f:\n",
    "    lst=[line.split()[12] for line in f]\n",
    "    \n",
    "    a=(float(lst[20519])+float(lst[20520]))/2\n",
    "    b=(float(lst[20531])+float(lst[20532]))/2\n",
    "    c=(float(lst[20543])+float(lst[20544]))/2\n",
    "    d=(float(lst[20555])+float(lst[20556]))/2\n",
    "    e=(float(lst[20567])+float(lst[20568]))/2\n",
    "    f=(float(lst[20579])+float(lst[20580]))/2\n",
    "    g=(float(lst[20591])+float(lst[20592]))/2\n",
    "    h=(float(lst[20603])+float(lst[20604]))/2\n",
    "    i=(float(lst[20615])+float(lst[20616]))/2\n",
    "    j=(float(lst[20627])+float(lst[20628]))/2\n",
    "    k=(float(lst[20639])+float(lst[20640]))/2\n",
    "    l=(float(lst[20651])+float(lst[20652]))/2\n",
    "    m=(float(lst[20663])+float(lst[20664]))/2\n",
    "    n=(float(lst[20675])+float(lst[20676]))/2\n",
    "    o=(float(lst[20687])+float(lst[20688]))/2\n",
    "    p=(float(lst[20699])+float(lst[20700]))/2\n",
    "    q=(float(lst[20711])+float(lst[20712]))/2\n",
    "    r=(float(lst[20723])+float(lst[20724]))/2\n",
    "    s=(float(lst[20735])+float(lst[20736]))/2\n",
    "    t=(float(lst[20747])+float(lst[20748]))/2\n",
    "    u=(float(lst[20759])+float(lst[20760]))/2\n",
    "    v=(float(lst[20771])+float(lst[20772]))/2\n",
    "    w=(float(lst[20783])+float(lst[20784]))/2\n",
    "    x=(float(lst[20795])+float(lst[20796]))/2\n",
    "    y=(float(lst[20807])+float(lst[20808]))/2\n",
    "    \n",
    "    temp_crn=[a,b,c,d,e,f,g,h,i,j,k,l,m,n,o,p,q,r,s,t,u,v,w,x,y]\n",
    "    print(temp_crn)"
   ]
  },
  {
   "cell_type": "code",
   "execution_count": 40,
   "id": "3f860af3",
   "metadata": {},
   "outputs": [
    {
     "name": "stdout",
     "output_type": "stream",
     "text": [
      "[2.42001, -0.10000000000000009, 2.700012, 0.5400020000000001, 1.330017, 1.1699950000000001, 2.0500119999999997, 0.7500180000000001, -3.0300000000000002, -6.259999999999999, -8.980000000000002, -10.540000000000001, -8.829999999999998, -7.990000000000002, -6.779999999999998, -4.48, -1.5, 1.7800000000000011, 3.75, 7.169999999999999, 3.8600200000000005, 2.920020000000001, 2.5800099999999997, 2.34, 2.6099999999999994]\n"
     ]
    }
   ],
   "source": [
    "difference2_sal = []\n",
    "\n",
    "zip_object = zip(temp, temp_crn)\n",
    "for temp_i, temp_crn_i in zip_object:\n",
    "    difference2_sal.append(temp_i-temp_crn_i)\n",
    "\n",
    "print(difference2_sal)"
   ]
  },
  {
   "cell_type": "markdown",
   "id": "521bd7c5",
   "metadata": {},
   "source": [
    "<font size=\"3\">Batesville, AR: 0600 UTC (12:00 am CST) 01 March 2022-0600 UTC (12:00 am CST) 02 March 2022</font>"
   ]
  },
  {
   "cell_type": "code",
   "execution_count": 41,
   "id": "fac2aa09",
   "metadata": {},
   "outputs": [
    {
     "name": "stdout",
     "output_type": "stream",
     "text": [
      "[-0.769989, -0.72998, -0.709991, -0.699982, -0.690002, -0.630005, -0.619995, -0.22998, 3.88, 7.52002, 10.65, 13.46, 15.4, 16.82, 17.68, 17.64, 16.42, 14.32, 10.4, 7.67001, 6.14001, 5.39001, 4.41, 3.98001, 3.5]\n",
      "25\n"
     ]
    }
   ],
   "source": [
    "#1 hr hrrr:\n",
    "with open('hrrr_f18_Batesville_AR.txt') as f:\n",
    "    lst=[line.split()[4] for line in f]\n",
    "    temp=[]\n",
    "    for i in lst:\n",
    "        new=i.replace(',',\"\")\n",
    "        temp.append(new)\n",
    "    temp.pop(0)\n",
    "    temp=[float(x) for x in temp]\n",
    "    temp=temp[1692:1717]\n",
    "#     x = np.array(temp)\n",
    "#     temp = ma.masked_array(x, mask=[0, 0, 0, 0, 0,0,0,0,0,0,0,0,0,0,0,0,0,0,0,0,0,1,0,0,0])\n",
    "    #temp=temp[2015:2063]\n",
    "    print(temp)\n",
    "    print(len(temp))\n",
    "#full time period is [2015:2112]"
   ]
  },
  {
   "cell_type": "code",
   "execution_count": 42,
   "id": "ddec2780",
   "metadata": {},
   "outputs": [
    {
     "name": "stdout",
     "output_type": "stream",
     "text": [
      "[-4.0, -1.7, -0.9, -0.8500000000000001, -0.8, -1.1, -1.75, 0.44999999999999996, 4.4, 9.15, 12.95, 17.299999999999997, 19.950000000000003, 19.549999999999997, 19.0, 17.8, 15.5, 12.3, 8.0, 5.7, 3.1500000000000004, 4.85, 5.45, 5.75, 5.75]\n"
     ]
    }
   ],
   "source": [
    "#Air Temp CRN:\n",
    "with open('CRNS0101-05-2022-AR_Batesville_8_WNW.txt') as f:\n",
    "    lst=[line.split()[12] for line in f]\n",
    "    \n",
    "    a=(float(lst[20519])+float(lst[20520]))/2\n",
    "    b=(float(lst[20531])+float(lst[20532]))/2\n",
    "    c=(float(lst[20543])+float(lst[20544]))/2\n",
    "    d=(float(lst[20555])+float(lst[20556]))/2\n",
    "    e=(float(lst[20567])+float(lst[20568]))/2\n",
    "    f=(float(lst[20579])+float(lst[20580]))/2\n",
    "    g=(float(lst[20591])+float(lst[20592]))/2\n",
    "    h=(float(lst[20603])+float(lst[20604]))/2\n",
    "    i=(float(lst[20615])+float(lst[20616]))/2\n",
    "    j=(float(lst[20627])+float(lst[20628]))/2\n",
    "    k=(float(lst[20639])+float(lst[20640]))/2\n",
    "    l=(float(lst[20651])+float(lst[20652]))/2\n",
    "    m=(float(lst[20663])+float(lst[20664]))/2\n",
    "    n=(float(lst[20675])+float(lst[20676]))/2\n",
    "    o=(float(lst[20687])+float(lst[20688]))/2\n",
    "    p=(float(lst[20699])+float(lst[20700]))/2\n",
    "    q=(float(lst[20711])+float(lst[20712]))/2\n",
    "    r=(float(lst[20723])+float(lst[20724]))/2\n",
    "    s=(float(lst[20735])+float(lst[20736]))/2\n",
    "    t=(float(lst[20747])+float(lst[20748]))/2\n",
    "    u=(float(lst[20759])+float(lst[20760]))/2\n",
    "    v=(float(lst[20771])+float(lst[20772]))/2\n",
    "    w=(float(lst[20783])+float(lst[20784]))/2\n",
    "    x=(float(lst[20795])+float(lst[20796]))/2\n",
    "    y=(float(lst[20807])+float(lst[20808]))/2\n",
    "    \n",
    "    temp_crn=[a,b,c,d,e,f,g,h,i,j,k,l,m,n,o,p,q,r,s,t,u,v,w,x,y]\n",
    "    print(temp_crn)"
   ]
  },
  {
   "cell_type": "code",
   "execution_count": 43,
   "id": "6a5a229b",
   "metadata": {},
   "outputs": [
    {
     "name": "stdout",
     "output_type": "stream",
     "text": [
      "[3.230011, 0.97002, 0.19000899999999998, 0.1500180000000001, 0.10999800000000004, 0.46999500000000005, 1.1300050000000001, -0.6799799999999999, -0.5200000000000005, -1.6299800000000007, -2.299999999999999, -3.8399999999999963, -4.5500000000000025, -2.729999999999997, -1.3200000000000003, -0.16000000000000014, 0.9200000000000017, 2.0199999999999996, 2.4000000000000004, 1.9700100000000003, 2.99001, 0.5400100000000005, -1.04, -1.76999, -2.25]\n"
     ]
    }
   ],
   "source": [
    "difference2_bat = []\n",
    "\n",
    "zip_object = zip(temp, temp_crn)\n",
    "for temp_i, temp_crn_i in zip_object:\n",
    "    difference2_bat.append(temp_i-temp_crn_i)\n",
    "\n",
    "print(difference2_bat)"
   ]
  },
  {
   "cell_type": "markdown",
   "id": "16bf265f",
   "metadata": {},
   "source": [
    "<font size=\"3\">Lafayette, LA: 0600 UTC (12:00 am CST) 01 March 2022-0600 UTC (12:00 am CST) 02 March 2022</font>"
   ]
  },
  {
   "cell_type": "code",
   "execution_count": 44,
   "id": "b23c7950",
   "metadata": {},
   "outputs": [
    {
     "name": "stdout",
     "output_type": "stream",
     "text": [
      "[2.76001, 2.14999, 1.72, 1.0, 0.26001, -0.269989, -0.47998, 0.700012, 6.60001, 12.2, 16.63, 20.58, 23.22, 24.66, 24.83, 24.18, 21.56, 17.8, 14.09, 11.47, 9.89999, 9.35001, 9.59, 9.36002, 9.02002]\n"
     ]
    }
   ],
   "source": [
    "#1 hr hrrr:\n",
    "with open('hrrr_f18_Lafayette_LA.txt') as f:\n",
    "    lst=[line.split()[4] for line in f]\n",
    "    temp=[]\n",
    "    for i in lst:\n",
    "        new=i.replace(',',\"\")\n",
    "        temp.append(new)\n",
    "    temp.pop(0)\n",
    "    temp=[float(x) for x in temp]\n",
    "    temp=temp[1692:1717]\n",
    "    #temp=temp[2015:2063]\n",
    "    print(temp)\n",
    "    #print(len(temp))\n",
    "#full time period is [2015:2112]"
   ]
  },
  {
   "cell_type": "code",
   "execution_count": 45,
   "id": "322db923",
   "metadata": {},
   "outputs": [
    {
     "name": "stdout",
     "output_type": "stream",
     "text": [
      "[-1.65, -2.25, -3.0, -3.45, -3.9, -4.15, -3.4, -0.8, 5.35, 12.35, 17.5, 21.799999999999997, 23.75, 24.35, 23.8, 20.25, 18.549999999999997, 14.600000000000001, 9.0, 5.550000000000001, 4.25, 5.5, 4.85, 4.15, 6.9]\n"
     ]
    }
   ],
   "source": [
    "#Air Temp CRN:\n",
    "with open('CRNS0101-05-2022-LA_Lafayette_13_SE.txt') as f:\n",
    "    lst=[line.split()[12] for line in f]\n",
    "    \n",
    "    a=(float(lst[20519])+float(lst[20520]))/2\n",
    "    b=(float(lst[20531])+float(lst[20532]))/2\n",
    "    c=(float(lst[20543])+float(lst[20544]))/2\n",
    "    d=(float(lst[20555])+float(lst[20556]))/2\n",
    "    e=(float(lst[20567])+float(lst[20568]))/2\n",
    "    f=(float(lst[20579])+float(lst[20580]))/2\n",
    "    g=(float(lst[20591])+float(lst[20592]))/2\n",
    "    h=(float(lst[20603])+float(lst[20604]))/2\n",
    "    i=(float(lst[20615])+float(lst[20616]))/2\n",
    "    j=(float(lst[20627])+float(lst[20628]))/2\n",
    "    k=(float(lst[20639])+float(lst[20640]))/2\n",
    "    l=(float(lst[20651])+float(lst[20652]))/2\n",
    "    m=(float(lst[20663])+float(lst[20664]))/2\n",
    "    n=(float(lst[20675])+float(lst[20676]))/2\n",
    "    o=(float(lst[20687])+float(lst[20688]))/2\n",
    "    p=(float(lst[20699])+float(lst[20700]))/2\n",
    "    q=(float(lst[20711])+float(lst[20712]))/2\n",
    "    r=(float(lst[20723])+float(lst[20724]))/2\n",
    "    s=(float(lst[20735])+float(lst[20736]))/2\n",
    "    t=(float(lst[20747])+float(lst[20748]))/2\n",
    "    u=(float(lst[20759])+float(lst[20760]))/2\n",
    "    v=(float(lst[20771])+float(lst[20772]))/2\n",
    "    w=(float(lst[20783])+float(lst[20784]))/2\n",
    "    x=(float(lst[20795])+float(lst[20796]))/2\n",
    "    y=(float(lst[20807])+float(lst[20808]))/2\n",
    "    \n",
    "    temp_crn=[a,b,c,d,e,f,g,h,i,j,k,l,m,n,o,p,q,r,s,t,u,v,w,x,y]\n",
    "    print(temp_crn)"
   ]
  },
  {
   "cell_type": "code",
   "execution_count": 46,
   "id": "07cf95c8",
   "metadata": {},
   "outputs": [
    {
     "name": "stdout",
     "output_type": "stream",
     "text": [
      "[4.41001, 4.39999, 4.72, 4.45, 4.16001, 3.8800110000000005, 2.92002, 1.500012, 1.2500100000000005, -0.15000000000000036, -0.870000000000001, -1.2199999999999989, -0.5300000000000011, 0.3099999999999987, 1.0299999999999976, 3.9299999999999997, 3.0100000000000016, 3.1999999999999993, 5.09, 5.92, 5.649990000000001, 3.8500099999999993, 4.74, 5.21002, 2.1200200000000002]\n"
     ]
    }
   ],
   "source": [
    "difference2_laf = []\n",
    "\n",
    "zip_object = zip(temp, temp_crn)\n",
    "for temp_i, temp_crn_i in zip_object:\n",
    "    difference2_laf.append(temp_i-temp_crn_i)\n",
    "\n",
    "print(difference2_laf)"
   ]
  },
  {
   "cell_type": "markdown",
   "id": "cda99a3a",
   "metadata": {},
   "source": [
    "<font size=\"3\">Monroe, LA: 0600 UTC (12:00 am CST) 01 March 2022-0600 UTC (12:00 am CST) 02 March 2022</font>"
   ]
  },
  {
   "cell_type": "code",
   "execution_count": 47,
   "id": "3c145693",
   "metadata": {},
   "outputs": [
    {
     "name": "stdout",
     "output_type": "stream",
     "text": [
      "[0.830017, 0.330017, 0.190002, -0.00997925, -0.329987, -0.859985, -0.98999, -0.339996, 3.44, 8.44, 13.17, 17.82, 21.03, 22.9, 23.34, 22.48, 20.49, 17.5, 13.33, 10.37, 8.85001, 7.84, 6.76001, 6.12, 5.30002]\n"
     ]
    }
   ],
   "source": [
    "#1 hr hrrr:\n",
    "with open('hrrr_f18_Monroe_LA.txt') as f:\n",
    "    lst=[line.split()[4] for line in f]\n",
    "    temp=[]\n",
    "    for i in lst:\n",
    "        new=i.replace(',',\"\")\n",
    "        temp.append(new)\n",
    "    temp.pop(0)\n",
    "    temp=[float(x) for x in temp]\n",
    "    temp=temp[1692:1717]\n",
    "    #temp=temp[2015:2063]\n",
    "    print(temp)\n",
    "    #print(len(temp))\n",
    "#full time period is [2015:2112]"
   ]
  },
  {
   "cell_type": "code",
   "execution_count": 48,
   "id": "facb606c",
   "metadata": {},
   "outputs": [
    {
     "name": "stdout",
     "output_type": "stream",
     "text": [
      "[-2.05, -2.4, -2.5, -2.7, -2.95, -3.1500000000000004, -3.25, -1.75, 4.05, 9.2, 13.2, 17.15, 19.25, 20.65, 20.4, 19.4, 18.9, 13.1, 10.100000000000001, 4.9, 3.2, 1.5, 1.35, 1.65, 2.1]\n"
     ]
    }
   ],
   "source": [
    "#Air Temp CRN:\n",
    "with open('CRNS0101-05-2022-LA_Monroe_26_N.txt') as f:\n",
    "    lst=[line.split()[12] for line in f]\n",
    "    \n",
    "    a=(float(lst[20519])+float(lst[20520]))/2\n",
    "    b=(float(lst[20531])+float(lst[20532]))/2\n",
    "    c=(float(lst[20543])+float(lst[20544]))/2\n",
    "    d=(float(lst[20555])+float(lst[20556]))/2\n",
    "    e=(float(lst[20567])+float(lst[20568]))/2\n",
    "    f=(float(lst[20579])+float(lst[20580]))/2\n",
    "    g=(float(lst[20591])+float(lst[20592]))/2\n",
    "    h=(float(lst[20603])+float(lst[20604]))/2\n",
    "    i=(float(lst[20615])+float(lst[20616]))/2\n",
    "    j=(float(lst[20627])+float(lst[20628]))/2\n",
    "    k=(float(lst[20639])+float(lst[20640]))/2\n",
    "    l=(float(lst[20651])+float(lst[20652]))/2\n",
    "    m=(float(lst[20663])+float(lst[20664]))/2\n",
    "    n=(float(lst[20675])+float(lst[20676]))/2\n",
    "    o=(float(lst[20687])+float(lst[20688]))/2\n",
    "    p=(float(lst[20699])+float(lst[20700]))/2\n",
    "    q=(float(lst[20711])+float(lst[20712]))/2\n",
    "    r=(float(lst[20723])+float(lst[20724]))/2\n",
    "    s=(float(lst[20735])+float(lst[20736]))/2\n",
    "    t=(float(lst[20747])+float(lst[20748]))/2\n",
    "    u=(float(lst[20759])+float(lst[20760]))/2\n",
    "    v=(float(lst[20771])+float(lst[20772]))/2\n",
    "    w=(float(lst[20783])+float(lst[20784]))/2\n",
    "    x=(float(lst[20795])+float(lst[20796]))/2\n",
    "    y=(float(lst[20807])+float(lst[20808]))/2\n",
    "    \n",
    "    temp_crn=[a,b,c,d,e,f,g,h,i,j,k,l,m,n,o,p,q,r,s,t,u,v,w,x,y]\n",
    "    print(temp_crn)"
   ]
  },
  {
   "cell_type": "code",
   "execution_count": 49,
   "id": "e5057ed5",
   "metadata": {},
   "outputs": [
    {
     "name": "stdout",
     "output_type": "stream",
     "text": [
      "[2.8800169999999996, 2.730017, 2.690002, 2.69002075, 2.620013, 2.2900150000000004, 2.26001, 1.410004, -0.6099999999999999, -0.7599999999999998, -0.02999999999999936, 0.6700000000000017, 1.7800000000000011, 2.25, 2.9400000000000013, 3.080000000000002, 1.5899999999999999, 4.4, 3.2299999999999986, 5.469999999999999, 5.650009999999999, 6.34, 5.41001, 4.470000000000001, 3.20002]\n"
     ]
    }
   ],
   "source": [
    "difference2_mon = []\n",
    "\n",
    "zip_object = zip(temp, temp_crn)\n",
    "for temp_i, temp_crn_i in zip_object:\n",
    "    difference2_mon.append(temp_i-temp_crn_i)\n",
    "\n",
    "print(difference2_mon)"
   ]
  },
  {
   "cell_type": "markdown",
   "id": "50b6ccdc",
   "metadata": {},
   "source": [
    "<font size=\"3\">Holly Springs, MS: 0600 UTC (12:00 am CST) 01 March 2022-0600 UTC (12:00 am CST) 02 March 2022</font>"
   ]
  },
  {
   "cell_type": "code",
   "execution_count": 50,
   "id": "04968dd0",
   "metadata": {},
   "outputs": [
    {
     "name": "stdout",
     "output_type": "stream",
     "text": [
      "[-0.829987, -0.820007, -0.799988, -0.829987, -0.769989, -0.72998, -0.72998, -0.309998, 2.56, 6.16, 9.60001, 13.27, 16.5, 18.27, 18.95, 18.23, 16.6, 14.15, 10.35, 8.37, 7.11002, 6.10001, 5.22, 4.24002, 3.69]\n"
     ]
    }
   ],
   "source": [
    "#1 hr hrrr:\n",
    "with open('hrrr_f18_Holly Springs_MS.txt') as f:\n",
    "    lst=[line.split()[4] for line in f]\n",
    "    temp=[]\n",
    "    for i in lst:\n",
    "        new=i.replace(',',\"\")\n",
    "        temp.append(new)\n",
    "    temp.pop(0)\n",
    "    temp=[float(x) for x in temp]\n",
    "    temp=temp[1692:1717]\n",
    "    #temp=temp[2015:2063]\n",
    "    print(temp)\n",
    "    #print(len(temp))\n",
    "#full time period is [2015:2112]"
   ]
  },
  {
   "cell_type": "code",
   "execution_count": 51,
   "id": "3d3b4214",
   "metadata": {},
   "outputs": [
    {
     "name": "stdout",
     "output_type": "stream",
     "text": [
      "[-4.2, -4.2, -4.1, -4.25, -4.25, -4.1, -3.8, -2.65, 1.35, 9.149999999999999, 13.75, 18.1, 20.05, 21.049999999999997, 20.799999999999997, 18.5, 16.15, 11.15, 6.25, 3.3499999999999996, 2.7, 2.05, 1.45, 1.3, 1.5]\n"
     ]
    }
   ],
   "source": [
    "#Air Temp CRN:\n",
    "with open('CRNS0101-05-2022-MS_Holly_Springs_4_N.txt') as f:\n",
    "    lst=[line.split()[12] for line in f]\n",
    "    \n",
    "    a=(float(lst[20519])+float(lst[20520]))/2\n",
    "    b=(float(lst[20531])+float(lst[20532]))/2\n",
    "    c=(float(lst[20543])+float(lst[20544]))/2\n",
    "    d=(float(lst[20555])+float(lst[20556]))/2\n",
    "    e=(float(lst[20567])+float(lst[20568]))/2\n",
    "    f=(float(lst[20579])+float(lst[20580]))/2\n",
    "    g=(float(lst[20591])+float(lst[20592]))/2\n",
    "    h=(float(lst[20603])+float(lst[20604]))/2\n",
    "    i=(float(lst[20615])+float(lst[20616]))/2\n",
    "    j=(float(lst[20627])+float(lst[20628]))/2\n",
    "    k=(float(lst[20639])+float(lst[20640]))/2\n",
    "    l=(float(lst[20651])+float(lst[20652]))/2\n",
    "    m=(float(lst[20663])+float(lst[20664]))/2\n",
    "    n=(float(lst[20675])+float(lst[20676]))/2\n",
    "    o=(float(lst[20687])+float(lst[20688]))/2\n",
    "    p=(float(lst[20699])+float(lst[20700]))/2\n",
    "    q=(float(lst[20711])+float(lst[20712]))/2\n",
    "    r=(float(lst[20723])+float(lst[20724]))/2\n",
    "    s=(float(lst[20735])+float(lst[20736]))/2\n",
    "    t=(float(lst[20747])+float(lst[20748]))/2\n",
    "    u=(float(lst[20759])+float(lst[20760]))/2\n",
    "    v=(float(lst[20771])+float(lst[20772]))/2\n",
    "    w=(float(lst[20783])+float(lst[20784]))/2\n",
    "    x=(float(lst[20795])+float(lst[20796]))/2\n",
    "    y=(float(lst[20807])+float(lst[20808]))/2\n",
    "    \n",
    "    temp_crn=[a,b,c,d,e,f,g,h,i,j,k,l,m,n,o,p,q,r,s,t,u,v,w,x,y]\n",
    "    print(temp_crn)"
   ]
  },
  {
   "cell_type": "code",
   "execution_count": 52,
   "id": "b1ba34c2",
   "metadata": {},
   "outputs": [
    {
     "name": "stdout",
     "output_type": "stream",
     "text": [
      "[3.370013, 3.3799930000000002, 3.3000119999999997, 3.420013, 3.480011, 3.37002, 3.07002, 2.340002, 1.21, -2.9899999999999984, -4.149990000000001, -4.830000000000002, -3.5500000000000007, -2.7799999999999976, -1.8499999999999979, -0.2699999999999996, 0.45000000000000284, 3.0, 4.1, 5.02, 4.410019999999999, 4.05001, 3.7699999999999996, 2.9400200000000005, 2.19]\n"
     ]
    }
   ],
   "source": [
    "difference2_hol = []\n",
    "\n",
    "zip_object = zip(temp, temp_crn)\n",
    "for temp_i, temp_crn_i in zip_object:\n",
    "    difference2_hol.append(temp_i-temp_crn_i)\n",
    "\n",
    "print(difference2_hol)"
   ]
  },
  {
   "cell_type": "markdown",
   "id": "9dd596b5",
   "metadata": {},
   "source": [
    "<font size=\"3\">Newton, MS: 0600 UTC (12:00 am CST) 01 March 2022-0600 UTC (12:00 am CST) 02 March 2022</font>"
   ]
  },
  {
   "cell_type": "code",
   "execution_count": 53,
   "id": "67050150",
   "metadata": {},
   "outputs": [
    {
     "name": "stdout",
     "output_type": "stream",
     "text": [
      "[-1.60999, -2.57001, -4.73999, -5.25998, -5.25, -5.25998, -5.34, -3.07001, 4.30002, 9.98001, 14.39, 18.4, 20.42, 21.78, 21.7, 20.97, 18.87, 15.7, 11.68, 9.33002, 7.56, 6.39001, 5.62, 4.88, 3.69]\n"
     ]
    }
   ],
   "source": [
    "#1 hr hrrr:\n",
    "with open('hrrr_f18_Newton_MS.txt') as f:\n",
    "    lst=[line.split()[4] for line in f]\n",
    "    temp=[]\n",
    "    for i in lst:\n",
    "        new=i.replace(',',\"\")\n",
    "        temp.append(new)\n",
    "    temp.pop(0)\n",
    "    temp=[float(x) for x in temp]\n",
    "    temp=temp[1692:1717]\n",
    "    #temp=temp[2015:2063]\n",
    "    print(temp)\n",
    "    #print(len(temp))\n",
    "#full time period is [2015:2112]"
   ]
  },
  {
   "cell_type": "code",
   "execution_count": 54,
   "id": "668cca8c",
   "metadata": {},
   "outputs": [
    {
     "name": "stdout",
     "output_type": "stream",
     "text": [
      "[-3.6500000000000004, -4.0, -4.45, -4.7, -5.0, -5.05, -5.15, -1.25, 6.05, 11.850000000000001, 18.15, 21.299999999999997, 23.299999999999997, 24.1, 24.95, 23.1, 19.65, 15.2, 7.55, 4.1, 2.55, 1.55, 0.7, 0.25, -0.2]\n"
     ]
    }
   ],
   "source": [
    "#Air Temp CRN:\n",
    "with open('CRNS0101-05-2022-MS_Newton_5_ENE.txt') as f:\n",
    "    lst=[line.split()[12] for line in f]\n",
    "    \n",
    "    a=(float(lst[20519])+float(lst[20520]))/2\n",
    "    b=(float(lst[20531])+float(lst[20532]))/2\n",
    "    c=(float(lst[20543])+float(lst[20544]))/2\n",
    "    d=(float(lst[20555])+float(lst[20556]))/2\n",
    "    e=(float(lst[20567])+float(lst[20568]))/2\n",
    "    f=(float(lst[20579])+float(lst[20580]))/2\n",
    "    g=(float(lst[20591])+float(lst[20592]))/2\n",
    "    h=(float(lst[20603])+float(lst[20604]))/2\n",
    "    i=(float(lst[20615])+float(lst[20616]))/2\n",
    "    j=(float(lst[20627])+float(lst[20628]))/2\n",
    "    k=(float(lst[20639])+float(lst[20640]))/2\n",
    "    l=(float(lst[20651])+float(lst[20652]))/2\n",
    "    m=(float(lst[20663])+float(lst[20664]))/2\n",
    "    n=(float(lst[20675])+float(lst[20676]))/2\n",
    "    o=(float(lst[20687])+float(lst[20688]))/2\n",
    "    p=(float(lst[20699])+float(lst[20700]))/2\n",
    "    q=(float(lst[20711])+float(lst[20712]))/2\n",
    "    r=(float(lst[20723])+float(lst[20724]))/2\n",
    "    s=(float(lst[20735])+float(lst[20736]))/2\n",
    "    t=(float(lst[20747])+float(lst[20748]))/2\n",
    "    u=(float(lst[20759])+float(lst[20760]))/2\n",
    "    v=(float(lst[20771])+float(lst[20772]))/2\n",
    "    w=(float(lst[20783])+float(lst[20784]))/2\n",
    "    x=(float(lst[20795])+float(lst[20796]))/2\n",
    "    y=(float(lst[20807])+float(lst[20808]))/2\n",
    "    \n",
    "    temp_crn=[a,b,c,d,e,f,g,h,i,j,k,l,m,n,o,p,q,r,s,t,u,v,w,x,y]\n",
    "    print(temp_crn)"
   ]
  },
  {
   "cell_type": "code",
   "execution_count": 55,
   "id": "e8bd78b0",
   "metadata": {},
   "outputs": [
    {
     "name": "stdout",
     "output_type": "stream",
     "text": [
      "[2.0400100000000005, 1.42999, -0.2899899999999995, -0.5599799999999995, -0.25, -0.20997999999999983, -0.1899999999999995, -1.82001, -1.7499799999999999, -1.8699900000000014, -3.759999999999998, -2.8999999999999986, -2.8799999999999955, -2.3200000000000003, -3.25, -2.1300000000000026, -0.7799999999999976, 0.5, 4.13, 5.23002, 5.01, 4.84001, 4.92, 4.63, 3.89]\n"
     ]
    }
   ],
   "source": [
    "difference2_new = []\n",
    "\n",
    "zip_object = zip(temp, temp_crn)\n",
    "for temp_i, temp_crn_i in zip_object:\n",
    "    difference2_new.append(temp_i-temp_crn_i)\n",
    "\n",
    "print(difference2_new)"
   ]
  },
  {
   "cell_type": "markdown",
   "id": "ec499d8b",
   "metadata": {},
   "source": [
    "<font size=\"3\">Gainesville, AL: 0600 UTC (12:00 am CST) 01 March 2022-0600 UTC (12:00 am CST) 02 March 2022</font>"
   ]
  },
  {
   "cell_type": "code",
   "execution_count": 56,
   "id": "e9f22db0",
   "metadata": {},
   "outputs": [],
   "source": [
    "# #1 hr hrrr:\n",
    "# with open('hrrr_f18_Gainesville_AL.txt') as f:\n",
    "#     lst=[line.split()[4] for line in f]\n",
    "#     temp=[]\n",
    "#     for i in lst:\n",
    "#         new=i.replace(',',\"\")\n",
    "#         temp.append(new)\n",
    "#     temp.pop(0)\n",
    "#     temp=[float(x) for x in temp]\n",
    "#     temp=temp[1692:1717]\n",
    "#     #temp=temp[2015:2063]\n",
    "#     print(temp)\n",
    "#     #print(len(temp))\n",
    "# #full time period is [2015:2112]"
   ]
  },
  {
   "cell_type": "code",
   "execution_count": 57,
   "id": "de89a88f",
   "metadata": {},
   "outputs": [],
   "source": [
    "# #Air Temp CRN:\n",
    "# with open('CRNH0203-2022-AL_Gainesville_2_NE.txt') as f:\n",
    "#     lst=[line.split()[13] for line in f]\n",
    "#     #prfloat(lst)\n",
    "#     temp_crn=[]\n",
    "#     for i in lst:\n",
    "#         new=i.replace(',',\"\")\n",
    "#         temp_crn.append(new)\n",
    "#     temp_crn=[float(x) for x in temp_crn]\n",
    "#     temp_crn=temp_crn[1709:1734]\n",
    "#     print(temp_crn)\n",
    "#     #print(len(temp_crn))\n",
    "#     # print(temp_crn[2124])"
   ]
  },
  {
   "cell_type": "code",
   "execution_count": 58,
   "id": "2d1d92b8",
   "metadata": {},
   "outputs": [],
   "source": [
    "# difference2_gai = []\n",
    "\n",
    "# zip_object = zip(temp, temp_crn)\n",
    "# for temp_i, temp_crn_i in zip_object:\n",
    "#     difference2_gai.append(temp_i-temp_crn_i)\n",
    "\n",
    "# print(difference2_gai)"
   ]
  },
  {
   "cell_type": "markdown",
   "id": "4019fb67",
   "metadata": {},
   "source": [
    "<font size=\"3\">Fairhope, AL: 0600 UTC (12:00 am CST) 01 March 2022-0600 UTC (12:00 am CST) 02 March 2022</font>"
   ]
  },
  {
   "cell_type": "code",
   "execution_count": 59,
   "id": "c7e8255a",
   "metadata": {},
   "outputs": [
    {
     "name": "stdout",
     "output_type": "stream",
     "text": [
      "[1.07001, 0.529999, 0.0800171, -0.169983, -0.660004, -1.13, -1.45999, 0.809998, 5.53, 10.38, 14.76, 17.86, 19.89, 20.94, 21.07, 19.86, 17.11, 14.4, 10.81, 8.87, 7.42999, 6.14001, 5.10001, 4.28, 3.82001]\n"
     ]
    }
   ],
   "source": [
    "#1 hr hrrr:\n",
    "with open('hrrr_f18_Fairhope_AL.txt') as f:\n",
    "    lst=[line.split()[4] for line in f]\n",
    "    temp=[]\n",
    "    for i in lst:\n",
    "        new=i.replace(',',\"\")\n",
    "        temp.append(new)\n",
    "    temp.pop(0)\n",
    "    temp=[float(x) for x in temp]\n",
    "    temp=temp[1692:1717]\n",
    "    #temp=temp[2015:2063]\n",
    "    print(temp)\n",
    "    #print(len(temp))\n",
    "#full time period is [2015:2112]"
   ]
  },
  {
   "cell_type": "code",
   "execution_count": 60,
   "id": "7e7a4b0d",
   "metadata": {},
   "outputs": [
    {
     "name": "stdout",
     "output_type": "stream",
     "text": [
      "[-1.3, -2.55, -4.95, -4.9, -3.4, -4.550000000000001, -3.5, 1.0, 9.75, 15.7, 22.15, 26.3, 29.1, 24.85, 23.299999999999997, 20.1, 14.8, 10.1, 3.7, -0.15000000000000002, -0.8500000000000001, -1.45, -1.85, -2.25, -2.55]\n"
     ]
    }
   ],
   "source": [
    "#Air Temp CRN:\n",
    "with open('CRNS0101-05-2022-AL_Fairhope_3_NE.txt') as f:\n",
    "    lst=[line.split()[12] for line in f]\n",
    "    \n",
    "    a=(float(lst[20519])+float(lst[20520]))/2\n",
    "    b=(float(lst[20531])+float(lst[20532]))/2\n",
    "    c=(float(lst[20543])+float(lst[20544]))/2\n",
    "    d=(float(lst[20555])+float(lst[20556]))/2\n",
    "    e=(float(lst[20567])+float(lst[20568]))/2\n",
    "    f=(float(lst[20579])+float(lst[20580]))/2\n",
    "    g=(float(lst[20591])+float(lst[20592]))/2\n",
    "    h=(float(lst[20603])+float(lst[20604]))/2\n",
    "    i=(float(lst[20615])+float(lst[20616]))/2\n",
    "    j=(float(lst[20627])+float(lst[20628]))/2\n",
    "    k=(float(lst[20639])+float(lst[20640]))/2\n",
    "    l=(float(lst[20651])+float(lst[20652]))/2\n",
    "    m=(float(lst[20663])+float(lst[20664]))/2\n",
    "    n=(float(lst[20675])+float(lst[20676]))/2\n",
    "    o=(float(lst[20687])+float(lst[20688]))/2\n",
    "    p=(float(lst[20699])+float(lst[20700]))/2\n",
    "    q=(float(lst[20711])+float(lst[20712]))/2\n",
    "    r=(float(lst[20723])+float(lst[20724]))/2\n",
    "    s=(float(lst[20735])+float(lst[20736]))/2\n",
    "    t=(float(lst[20747])+float(lst[20748]))/2\n",
    "    u=(float(lst[20759])+float(lst[20760]))/2\n",
    "    v=(float(lst[20771])+float(lst[20772]))/2\n",
    "    w=(float(lst[20783])+float(lst[20784]))/2\n",
    "    x=(float(lst[20795])+float(lst[20796]))/2\n",
    "    y=(float(lst[20807])+float(lst[20808]))/2\n",
    "    \n",
    "    temp_crn=[a,b,c,d,e,f,g,h,i,j,k,l,m,n,o,p,q,r,s,t,u,v,w,x,y]\n",
    "    print(temp_crn)"
   ]
  },
  {
   "cell_type": "code",
   "execution_count": 61,
   "id": "e99e35e0",
   "metadata": {},
   "outputs": [
    {
     "name": "stdout",
     "output_type": "stream",
     "text": [
      "[2.3700099999999997, 3.079999, 5.0300171, 4.730017, 2.7399959999999997, 3.420000000000001, 2.04001, -0.190002, -4.22, -5.3199999999999985, -7.389999999999999, -8.440000000000001, -9.21, -3.91, -2.229999999999997, -0.240000000000002, 2.3099999999999987, 4.300000000000001, 7.11, 9.02, 8.27999, 7.59001, 6.950010000000001, 6.53, 6.37001]\n"
     ]
    }
   ],
   "source": [
    "difference2_fai = []\n",
    "\n",
    "zip_object = zip(temp, temp_crn)\n",
    "for temp_i, temp_crn_i in zip_object:\n",
    "    difference2_fai.append(temp_i-temp_crn_i)\n",
    "\n",
    "print(difference2_fai)"
   ]
  },
  {
   "cell_type": "markdown",
   "id": "cb09fde7",
   "metadata": {},
   "source": [
    "<font size=\"3\">**Selma, AL: 0600 UTC (12:00 am CST) 01 March 2022-0600 UTC (12:00 am CST) 02 March 2022</font>"
   ]
  },
  {
   "cell_type": "code",
   "execution_count": 62,
   "id": "fe2b2257",
   "metadata": {},
   "outputs": [
    {
     "name": "stdout",
     "output_type": "stream",
     "text": [
      "[-0.470001, -0.449982, -0.449982, -0.459991, -0.419983, -0.47998, -0.47998, 0.630005, 4.07001, 7.52002, 10.76, 13.18, 14.9, 15.89, 16.09, 15.54, 14.05, 12.62, 8.77002, 6.67001, 5.39999, 4.44, 3.91, 3.27002, 2.55002]\n"
     ]
    }
   ],
   "source": [
    "#1 hr hrrr:\n",
    "with open('hrrr_f18_Selma_AL.txt') as f:\n",
    "    lst=[line.split()[4] for line in f]\n",
    "    temp=[]\n",
    "    for i in lst:\n",
    "        new=i.replace(',',\"\")\n",
    "        temp.append(new)\n",
    "    temp.pop(0)\n",
    "    temp=[float(x) for x in temp]\n",
    "    temp=temp[1692:1717]\n",
    "    print(temp)"
   ]
  },
  {
   "cell_type": "code",
   "execution_count": 63,
   "id": "c7293c23",
   "metadata": {},
   "outputs": [
    {
     "name": "stdout",
     "output_type": "stream",
     "text": [
      "[-1.55, -1.9, -2.55, -3.0, -3.4, -3.5, -3.6500000000000004, 0.0, 7.15, 10.85, 15.45, 19.450000000000003, 20.65, 21.35, 21.1, 20.7, 17.4, 14.95, 10.2, 6.699999999999999, 5.05, 4.0, 3.1500000000000004, 2.5, 2.3499999999999996]\n"
     ]
    }
   ],
   "source": [
    "#Air Temp CRN:\n",
    "with open('CRNS0101-05-2022-AL_Selma_13_WNW.txt') as f:\n",
    "    lst=[line.split()[12] for line in f]\n",
    "    \n",
    "    a=(float(lst[20519])+float(lst[20520]))/2\n",
    "    b=(float(lst[20531])+float(lst[20532]))/2\n",
    "    c=(float(lst[20543])+float(lst[20544]))/2\n",
    "    d=(float(lst[20555])+float(lst[20556]))/2\n",
    "    e=(float(lst[20567])+float(lst[20568]))/2\n",
    "    f=(float(lst[20579])+float(lst[20580]))/2\n",
    "    g=(float(lst[20591])+float(lst[20592]))/2\n",
    "    h=(float(lst[20603])+float(lst[20604]))/2\n",
    "    i=(float(lst[20615])+float(lst[20616]))/2\n",
    "    j=(float(lst[20627])+float(lst[20628]))/2\n",
    "    k=(float(lst[20639])+float(lst[20640]))/2\n",
    "    l=(float(lst[20651])+float(lst[20652]))/2\n",
    "    m=(float(lst[20663])+float(lst[20664]))/2\n",
    "    n=(float(lst[20675])+float(lst[20676]))/2\n",
    "    o=(float(lst[20687])+float(lst[20688]))/2\n",
    "    p=(float(lst[20699])+float(lst[20700]))/2\n",
    "    q=(float(lst[20711])+float(lst[20712]))/2\n",
    "    r=(float(lst[20723])+float(lst[20724]))/2\n",
    "    s=(float(lst[20735])+float(lst[20736]))/2\n",
    "    t=(float(lst[20747])+float(lst[20748]))/2\n",
    "    u=(float(lst[20759])+float(lst[20760]))/2\n",
    "    v=(float(lst[20771])+float(lst[20772]))/2\n",
    "    w=(float(lst[20783])+float(lst[20784]))/2\n",
    "    x=(float(lst[20795])+float(lst[20796]))/2\n",
    "    y=(float(lst[20807])+float(lst[20808]))/2\n",
    "    \n",
    "    temp_crn=[a,b,c,d,e,f,g,h,i,j,k,l,m,n,o,p,q,r,s,t,u,v,w,x,y]\n",
    "    print(temp_crn)"
   ]
  },
  {
   "cell_type": "code",
   "execution_count": 64,
   "id": "837ad3be",
   "metadata": {},
   "outputs": [
    {
     "name": "stdout",
     "output_type": "stream",
     "text": [
      "[1.079999, 1.450018, 2.100018, 2.540009, 2.980017, 3.02002, 3.1700200000000005, 0.630005, -3.0799900000000004, -3.32998, -4.6899999999999995, -6.270000000000003, -5.749999999999998, -5.460000000000001, -5.010000000000002, -5.16, -3.349999999999998, -2.33, -1.4299799999999987, -0.02998999999999885, 0.34999, 0.4400000000000004, 0.7599999999999998, 0.7700200000000001, 0.2000200000000003]\n",
      "25\n"
     ]
    }
   ],
   "source": [
    "difference2_sel = []\n",
    "\n",
    "zip_object = zip(temp, temp_crn)\n",
    "for temp_i, temp_crn_i in zip_object:\n",
    "    difference2_sel.append(temp_i-temp_crn_i)\n",
    "\n",
    "print(difference2_sel)\n",
    "print(len(difference2_sel))"
   ]
  },
  {
   "cell_type": "markdown",
   "id": "9767e5fd",
   "metadata": {},
   "source": [
    "<font size=\"3\">Bowling Green, KY: 0600 UTC (12:00 am CST) 01 March 2022-0600 UTC (12:00 am CST) 02 March 2022</font>"
   ]
  },
  {
   "cell_type": "code",
   "execution_count": 65,
   "id": "a031b19f",
   "metadata": {},
   "outputs": [
    {
     "name": "stdout",
     "output_type": "stream",
     "text": [
      "[-5.26999, -5.32001, -5.17999, -5.26999, -5.91998, -6.10001, -5.59, -3.59, -1.41, 2.32001, 5.11002, 8.62, 11.16, 13.12, 14.42, 14.27, 12.82, 10.46, 7.27002, 5.49002, 4.48001, 3.92999, 3.20001, 2.70999, 2.41]\n"
     ]
    }
   ],
   "source": [
    "#1 hr hrrr:\n",
    "with open('hrrr_f18_Bowling Green_KY.txt') as f:\n",
    "    lst=[line.split()[4] for line in f]\n",
    "    temp=[]\n",
    "    for i in lst:\n",
    "        new=i.replace(',',\"\")\n",
    "        temp.append(new)\n",
    "    temp.pop(0)\n",
    "    temp=[float(x) for x in temp]\n",
    "    temp=temp[1692:1717]\n",
    "    #temp=temp[2015:2063]\n",
    "    print(temp)\n",
    "    #print(len(temp))\n",
    "#full time period is [2015:2112]"
   ]
  },
  {
   "cell_type": "code",
   "execution_count": 66,
   "id": "c134b665",
   "metadata": {},
   "outputs": [
    {
     "name": "stdout",
     "output_type": "stream",
     "text": [
      "[-11.399999999999999, -11.2, -11.45, -11.0, -6.949999999999999, -5.85, -5.3, -4.4, -2.7, -0.75, 1.5499999999999998, 5.55, 12.8, 16.4, 17.9, 15.1, 12.75, 8.2, 2.4000000000000004, 0.25, 0.25, 1.4, 1.75, 1.35, 1.2999999999999998]\n"
     ]
    }
   ],
   "source": [
    "#Air Temp CRN:\n",
    "with open('CRNS0101-05-2022-KY_Bowling_Green_21_NNE.txt') as f:\n",
    "    lst=[line.split()[12] for line in f]\n",
    "    \n",
    "    a=(float(lst[20519])+float(lst[20520]))/2\n",
    "    b=(float(lst[20531])+float(lst[20532]))/2\n",
    "    c=(float(lst[20543])+float(lst[20544]))/2\n",
    "    d=(float(lst[20555])+float(lst[20556]))/2\n",
    "    e=(float(lst[20567])+float(lst[20568]))/2\n",
    "    f=(float(lst[20579])+float(lst[20580]))/2\n",
    "    g=(float(lst[20591])+float(lst[20592]))/2\n",
    "    h=(float(lst[20603])+float(lst[20604]))/2\n",
    "    i=(float(lst[20615])+float(lst[20616]))/2\n",
    "    j=(float(lst[20627])+float(lst[20628]))/2\n",
    "    k=(float(lst[20639])+float(lst[20640]))/2\n",
    "    l=(float(lst[20651])+float(lst[20652]))/2\n",
    "    m=(float(lst[20663])+float(lst[20664]))/2\n",
    "    n=(float(lst[20675])+float(lst[20676]))/2\n",
    "    o=(float(lst[20687])+float(lst[20688]))/2\n",
    "    p=(float(lst[20699])+float(lst[20700]))/2\n",
    "    q=(float(lst[20711])+float(lst[20712]))/2\n",
    "    r=(float(lst[20723])+float(lst[20724]))/2\n",
    "    s=(float(lst[20735])+float(lst[20736]))/2\n",
    "    t=(float(lst[20747])+float(lst[20748]))/2\n",
    "    u=(float(lst[20759])+float(lst[20760]))/2\n",
    "    v=(float(lst[20771])+float(lst[20772]))/2\n",
    "    w=(float(lst[20783])+float(lst[20784]))/2\n",
    "    x=(float(lst[20795])+float(lst[20796]))/2\n",
    "    y=(float(lst[20807])+float(lst[20808]))/2\n",
    "    \n",
    "    temp_crn=[a,b,c,d,e,f,g,h,i,j,k,l,m,n,o,p,q,r,s,t,u,v,w,x,y]\n",
    "    print(temp_crn)"
   ]
  },
  {
   "cell_type": "code",
   "execution_count": 67,
   "id": "d326cffb",
   "metadata": {},
   "outputs": [
    {
     "name": "stdout",
     "output_type": "stream",
     "text": [
      "[6.130009999999999, 5.879989999999999, 6.270009999999999, 5.73001, 1.0300199999999995, -0.2500100000000005, -0.29000000000000004, 0.8100000000000005, 1.2900000000000003, 3.07001, 3.5600199999999997, 3.0699999999999994, -1.6400000000000006, -3.2799999999999994, -3.4799999999999986, -0.8300000000000001, 0.07000000000000028, 2.2600000000000016, 4.870019999999999, 5.24002, 4.23001, 2.52999, 1.4500099999999998, 1.3599899999999998, 1.1100000000000003]\n"
     ]
    }
   ],
   "source": [
    "difference2_bow = []\n",
    "\n",
    "zip_object = zip(temp, temp_crn)\n",
    "for temp_i, temp_crn_i in zip_object:\n",
    "    difference2_bow.append(temp_i-temp_crn_i)\n",
    "\n",
    "print(difference2_bow)"
   ]
  },
  {
   "cell_type": "markdown",
   "id": "cf477d73",
   "metadata": {},
   "source": [
    "<font size=\"3\">Gadsden, AL: 0600 UTC (12:00 am CST) 01 March 2022-0600 UTC (12:00 am CST) 02 March 2022</font>"
   ]
  },
  {
   "cell_type": "code",
   "execution_count": 68,
   "id": "8d9653aa",
   "metadata": {},
   "outputs": [
    {
     "name": "stdout",
     "output_type": "stream",
     "text": [
      "[-1.06, -0.98999, -1.06, -1.00998, -1.00998, -1.04001, -0.97998, -0.369995, 1.91, 5.07001, 8.11002, 10.77, 12.71, 13.85, 14.17, 13.82, 12.21, 9.74002, 6.70001, 5.11002, 3.73001, 2.67999, 1.92999, 1.37, 0.820007]\n"
     ]
    }
   ],
   "source": [
    "#1 hr hrrr:\n",
    "with open('hrrr_f18_Gadsden_AL.txt') as f:\n",
    "    lst=[line.split()[4] for line in f]\n",
    "    temp=[]\n",
    "    for i in lst:\n",
    "        new=i.replace(',',\"\")\n",
    "        temp.append(new)\n",
    "    temp.pop(0)\n",
    "    temp=[float(x) for x in temp]\n",
    "    temp=temp[1692:1717]\n",
    "#     x = np.array(temp)\n",
    "#     temp = ma.masked_array(x, mask=[0, 0, 0, 0, 0,0,0,0,1,0,0,0,0,0,0,0,0,0,0,0,0,0,0,0,0])\n",
    "    #temp=temp[2015:2063]\n",
    "    print(temp)\n",
    "    #print(len(temp))\n",
    "#full time period is [2015:2112]"
   ]
  },
  {
   "cell_type": "code",
   "execution_count": 69,
   "id": "5e83c09d",
   "metadata": {},
   "outputs": [
    {
     "name": "stdout",
     "output_type": "stream",
     "text": [
      "[-5.05, -5.35, -5.6, -5.75, -5.5, -5.8, -5.65, -0.8, 3.55, 9.3, 13.15, 16.2, 18.55, 18.75, 18.9, 16.05, 13.100000000000001, 9.6, 4.6, 3.2, 3.2, 2.75, 2.4, 1.95, 1.15]\n"
     ]
    }
   ],
   "source": [
    "#Air Temp CRN:\n",
    "with open('CRNS0101-05-2022-AL_Gadsden_19_N.txt') as f:\n",
    "    lst=[line.split()[12] for line in f]\n",
    "    \n",
    "    a=(float(lst[20519])+float(lst[20520]))/2\n",
    "    b=(float(lst[20531])+float(lst[20532]))/2\n",
    "    c=(float(lst[20543])+float(lst[20544]))/2\n",
    "    d=(float(lst[20555])+float(lst[20556]))/2\n",
    "    e=(float(lst[20567])+float(lst[20568]))/2\n",
    "    f=(float(lst[20579])+float(lst[20580]))/2\n",
    "    g=(float(lst[20591])+float(lst[20592]))/2\n",
    "    h=(float(lst[20603])+float(lst[20604]))/2\n",
    "    i=(float(lst[20615])+float(lst[20616]))/2\n",
    "    j=(float(lst[20627])+float(lst[20628]))/2\n",
    "    k=(float(lst[20639])+float(lst[20640]))/2\n",
    "    l=(float(lst[20651])+float(lst[20652]))/2\n",
    "    m=(float(lst[20663])+float(lst[20664]))/2\n",
    "    n=(float(lst[20675])+float(lst[20676]))/2\n",
    "    o=(float(lst[20687])+float(lst[20688]))/2\n",
    "    p=(float(lst[20699])+float(lst[20700]))/2\n",
    "    q=(float(lst[20711])+float(lst[20712]))/2\n",
    "    r=(float(lst[20723])+float(lst[20724]))/2\n",
    "    s=(float(lst[20735])+float(lst[20736]))/2\n",
    "    t=(float(lst[20747])+float(lst[20748]))/2\n",
    "    u=(float(lst[20759])+float(lst[20760]))/2\n",
    "    v=(float(lst[20771])+float(lst[20772]))/2\n",
    "    w=(float(lst[20783])+float(lst[20784]))/2\n",
    "    x=(float(lst[20795])+float(lst[20796]))/2\n",
    "    y=(float(lst[20807])+float(lst[20808]))/2\n",
    "    \n",
    "    temp_crn=[a,b,c,d,e,f,g,h,i,j,k,l,m,n,o,p,q,r,s,t,u,v,w,x,y]\n",
    "    print(temp_crn)"
   ]
  },
  {
   "cell_type": "code",
   "execution_count": 70,
   "id": "254e1e52",
   "metadata": {},
   "outputs": [
    {
     "name": "stdout",
     "output_type": "stream",
     "text": [
      "[3.9899999999999998, 4.36001, 4.539999999999999, 4.7400199999999995, 4.4900199999999995, 4.75999, 4.67002, 0.430005, -1.64, -4.229990000000001, -5.03998, -5.43, -5.84, -4.9, -4.729999999999999, -2.2300000000000004, -0.8900000000000006, 0.1400199999999998, 2.10001, 1.9100199999999994, 0.5300099999999999, -0.0700099999999999, -0.4700099999999998, -0.5799999999999998, -0.32999299999999987]\n"
     ]
    }
   ],
   "source": [
    "difference2_gad = []\n",
    "\n",
    "zip_object = zip(temp, temp_crn)\n",
    "for temp_i, temp_crn_i in zip_object:\n",
    "    difference2_gad.append(temp_i-temp_crn_i)\n",
    "\n",
    "print(difference2_gad)"
   ]
  },
  {
   "cell_type": "markdown",
   "id": "75862889",
   "metadata": {},
   "source": [
    "<font size=\"3\">Newton, GA: 0600 UTC (12:00 am CST) 01 March 2022-0600 UTC (12:00 am CST) 02 March 2022</font>"
   ]
  },
  {
   "cell_type": "code",
   "execution_count": 71,
   "id": "06608db6",
   "metadata": {},
   "outputs": [
    {
     "name": "stdout",
     "output_type": "stream",
     "text": [
      "[-0.470001, -0.559998, -0.619995, -0.759979, -0.880005, -0.959991, -0.929993, 0.690002, 3.92001, 7.60001, 10.94, 14.1, 17.05, 19.06, 19.64, 18.62, 16.54, 13.4, 9.17001, 7.49002, 6.42999, 5.42999, 4.55002, 3.89001, 3.20001]\n"
     ]
    }
   ],
   "source": [
    "#1 hr hrrr:\n",
    "with open('hrrr_f18_Newton_GA.txt') as f:\n",
    "    lst=[line.split()[4] for line in f]\n",
    "    temp=[]\n",
    "    for i in lst:\n",
    "        new=i.replace(',',\"\")\n",
    "        temp.append(new)\n",
    "    temp.pop(0)\n",
    "    temp=[float(x) for x in temp]\n",
    "    temp=temp[1692:1717]\n",
    "    #temp=temp[2015:2063]\n",
    "    print(temp)\n",
    "    #print(len(temp))\n",
    "#full time period is [2015:2112]"
   ]
  },
  {
   "cell_type": "code",
   "execution_count": 72,
   "id": "bd71ef9e",
   "metadata": {},
   "outputs": [
    {
     "name": "stdout",
     "output_type": "stream",
     "text": [
      "[0.7, 0.15000000000000002, -0.45, -0.55, -1.05, -1.4, -1.4, 2.3, 7.8, 13.95, 17.549999999999997, 21.85, 24.700000000000003, 24.95, 23.85, 22.049999999999997, 17.950000000000003, 13.15, 7.55, 6.05, 5.05, 4.2, 3.6500000000000004, 3.2, 2.8]\n"
     ]
    }
   ],
   "source": [
    "#Air Temp CRN:\n",
    "with open('CRNS0101-05-2022-GA_Newton_11_SW.txt') as f:\n",
    "    lst=[line.split()[12] for line in f]\n",
    "    \n",
    "    a=(float(lst[20519])+float(lst[20520]))/2\n",
    "    b=(float(lst[20531])+float(lst[20532]))/2\n",
    "    c=(float(lst[20543])+float(lst[20544]))/2\n",
    "    d=(float(lst[20555])+float(lst[20556]))/2\n",
    "    e=(float(lst[20567])+float(lst[20568]))/2\n",
    "    f=(float(lst[20579])+float(lst[20580]))/2\n",
    "    g=(float(lst[20591])+float(lst[20592]))/2\n",
    "    h=(float(lst[20603])+float(lst[20604]))/2\n",
    "    i=(float(lst[20615])+float(lst[20616]))/2\n",
    "    j=(float(lst[20627])+float(lst[20628]))/2\n",
    "    k=(float(lst[20639])+float(lst[20640]))/2\n",
    "    l=(float(lst[20651])+float(lst[20652]))/2\n",
    "    m=(float(lst[20663])+float(lst[20664]))/2\n",
    "    n=(float(lst[20675])+float(lst[20676]))/2\n",
    "    o=(float(lst[20687])+float(lst[20688]))/2\n",
    "    p=(float(lst[20699])+float(lst[20700]))/2\n",
    "    q=(float(lst[20711])+float(lst[20712]))/2\n",
    "    r=(float(lst[20723])+float(lst[20724]))/2\n",
    "    s=(float(lst[20735])+float(lst[20736]))/2\n",
    "    t=(float(lst[20747])+float(lst[20748]))/2\n",
    "    u=(float(lst[20759])+float(lst[20760]))/2\n",
    "    v=(float(lst[20771])+float(lst[20772]))/2\n",
    "    w=(float(lst[20783])+float(lst[20784]))/2\n",
    "    x=(float(lst[20795])+float(lst[20796]))/2\n",
    "    y=(float(lst[20807])+float(lst[20808]))/2\n",
    "    \n",
    "    temp_crn=[a,b,c,d,e,f,g,h,i,j,k,l,m,n,o,p,q,r,s,t,u,v,w,x,y]\n",
    "    print(temp_crn)"
   ]
  },
  {
   "cell_type": "code",
   "execution_count": 73,
   "id": "405581a9",
   "metadata": {},
   "outputs": [
    {
     "name": "stdout",
     "output_type": "stream",
     "text": [
      "[-1.170001, -0.709998, -0.16999499999999995, -0.20997899999999992, 0.169995, 0.4400089999999999, 0.47000699999999995, -1.6099979999999998, -3.87999, -6.349989999999999, -6.609999999999998, -7.750000000000002, -7.650000000000002, -5.890000000000001, -4.210000000000001, -3.429999999999996, -1.4100000000000037, 0.25, 1.6200099999999997, 1.4400200000000005, 1.3799900000000003, 1.22999, 0.9000199999999996, 0.69001, 0.40001]\n"
     ]
    }
   ],
   "source": [
    "difference2_newt = []\n",
    "\n",
    "zip_object = zip(temp, temp_crn)\n",
    "for temp_i, temp_crn_i in zip_object:\n",
    "    difference2_newt.append(temp_i-temp_crn_i)\n",
    "\n",
    "print(difference2_newt)"
   ]
  },
  {
   "cell_type": "markdown",
   "id": "70443283",
   "metadata": {},
   "source": [
    "<font size=\"3\">Salem, MO: 0500 UTC (12:00 am CDT) 20 March 2022-0500 UTC (12:00 am CDT) 21 March 2022</font>"
   ]
  },
  {
   "cell_type": "code",
   "execution_count": 74,
   "id": "2d0299c0",
   "metadata": {},
   "outputs": [
    {
     "name": "stdout",
     "output_type": "stream",
     "text": [
      "[3.24002, 2.89001, 1.99002, 1.56, 1.30002, 1.31, 0.899994, 2.36002, 7.16, 11.43, 14.95, 17.28, 19.3, 21.46, 22.99, 23.24, 21.75, 19.49, 15.04, 11.87, 10.15, 9.45001, 9.11002, 8.78, 8.73001]\n",
      "25\n"
     ]
    }
   ],
   "source": [
    "#1 hr hrrr:\n",
    "with open('hrrr_f18_Salem_MO.txt') as f:\n",
    "    lst=[line.split()[4] for line in f]\n",
    "    temp=[]\n",
    "    for i in lst:\n",
    "        new=i.replace(',',\"\")\n",
    "        temp.append(new)\n",
    "    temp.pop(0)\n",
    "    temp=[float(x) for x in temp]\n",
    "    temp=temp[1860:1885]\n",
    "    #temp=temp[2015:2063]\n",
    "    print(temp)\n",
    "    print(len(temp))\n",
    "#full time period is [2015:2112]"
   ]
  },
  {
   "cell_type": "code",
   "execution_count": 75,
   "id": "fb918883",
   "metadata": {},
   "outputs": [
    {
     "name": "stdout",
     "output_type": "stream",
     "text": [
      "[-2.6, -3.0, -2.95, -2.8499999999999996, -3.3, -3.6500000000000004, -3.8, -0.1, 10.35, 17.05, 22.3, 27.2, 29.4, 31.75, 32.05, 28.9, 22.05, 17.45, 8.85, 4.5, 3.3, 7.1, 6.55, 6.5, 7.3]\n"
     ]
    }
   ],
   "source": [
    "#Air Temp CRN:\n",
    "with open('CRNS0101-05-2022-MO_Salem_10_W.txt') as f:\n",
    "    lst=[line.split()[12] for line in f]\n",
    "    \n",
    "    a=(float(lst[22535])+float(lst[22536]))/2\n",
    "    b=(float(lst[22547])+float(lst[22548]))/2\n",
    "    c=(float(lst[22559])+float(lst[22560]))/2\n",
    "    d=(float(lst[22571])+float(lst[22572]))/2\n",
    "    e=(float(lst[22583])+float(lst[22584]))/2\n",
    "    f=(float(lst[22595])+float(lst[22596]))/2\n",
    "    g=(float(lst[22607])+float(lst[22608]))/2\n",
    "    h=(float(lst[22619])+float(lst[22620]))/2\n",
    "    i=(float(lst[22631])+float(lst[22632]))/2\n",
    "    j=(float(lst[22643])+float(lst[22644]))/2\n",
    "    k=(float(lst[22655])+float(lst[22656]))/2\n",
    "    l=(float(lst[22667])+float(lst[22668]))/2\n",
    "    m=(float(lst[22679])+float(lst[22680]))/2\n",
    "    n=(float(lst[22691])+float(lst[22692]))/2\n",
    "    o=(float(lst[22703])+float(lst[22704]))/2\n",
    "    p=(float(lst[22715])+float(lst[22716]))/2\n",
    "    q=(float(lst[22727])+float(lst[22728]))/2\n",
    "    r=(float(lst[22739])+float(lst[22740]))/2\n",
    "    s=(float(lst[22751])+float(lst[22752]))/2\n",
    "    t=(float(lst[22763])+float(lst[22764]))/2\n",
    "    u=(float(lst[22775])+float(lst[22776]))/2\n",
    "    v=(float(lst[22787])+float(lst[22788]))/2\n",
    "    w=(float(lst[22799])+float(lst[22800]))/2\n",
    "    x=(float(lst[22811])+float(lst[22812]))/2\n",
    "    y=(float(lst[22823])+float(lst[22824]))/2\n",
    "    \n",
    "    temp_crn=[a,b,c,d,e,f,g,h,i,j,k,l,m,n,o,p,q,r,s,t,u,v,w,x,y]\n",
    "    print(temp_crn)"
   ]
  },
  {
   "cell_type": "code",
   "execution_count": 76,
   "id": "e8c3c3a5",
   "metadata": {},
   "outputs": [
    {
     "name": "stdout",
     "output_type": "stream",
     "text": [
      "[5.84002, 5.89001, 4.9400200000000005, 4.41, 4.60002, 4.960000000000001, 4.699994, 2.46002, -3.1899999999999995, -5.620000000000001, -7.350000000000001, -9.919999999999998, -10.099999999999998, -10.29, -9.059999999999999, -5.66, -0.3000000000000007, 2.039999999999999, 6.1899999999999995, 7.369999999999999, 6.8500000000000005, 2.350010000000001, 2.5600200000000006, 2.2799999999999994, 1.4300100000000002]\n"
     ]
    }
   ],
   "source": [
    "difference3_sal = []\n",
    "\n",
    "zip_object = zip(temp, temp_crn)\n",
    "for temp_i, temp_crn_i in zip_object:\n",
    "    difference3_sal.append(temp_i-temp_crn_i)\n",
    "\n",
    "print(difference3_sal)"
   ]
  },
  {
   "cell_type": "markdown",
   "id": "176d67cb",
   "metadata": {},
   "source": [
    "<font size=\"3\">Batesville, AR: 0600 UTC (12:00 am CST) 01 March 2022-0600 UTC (12:00 am CST) 02 March 2022</font>"
   ]
  },
  {
   "cell_type": "code",
   "execution_count": 77,
   "id": "51a628f5",
   "metadata": {},
   "outputs": [
    {
     "name": "stdout",
     "output_type": "stream",
     "text": [
      "[6.17001, 5.53, 5.20001, 4.88, 4.35001, 3.85001, 3.5, 4.79001, 9.95001, 14.34, 17.8, 21.34, 24.63, 26.92, 27.76, 26.84, 25.06, 22.48, 18.29, 14.79, 12.89, 11.49, 10.5, 9.88, 9.55002]\n",
      "25\n"
     ]
    }
   ],
   "source": [
    "#1 hr hrrr:\n",
    "with open('hrrr_f18_Batesville_AR.txt') as f:\n",
    "    lst=[line.split()[4] for line in f]\n",
    "    temp=[]\n",
    "    for i in lst:\n",
    "        new=i.replace(',',\"\")\n",
    "        temp.append(new)\n",
    "    temp.pop(0)\n",
    "    temp=[float(x) for x in temp]\n",
    "    temp=temp[1860:1885]\n",
    "#     x = np.array(temp)\n",
    "#     temp = ma.masked_array(x, mask=[0, 0, 0, 0, 0,0,0,0,0,0,0,0,0,0,0,0,0,0,0,0,0,1,0,0,0])\n",
    "    #temp=temp[2015:2063]\n",
    "    print(temp)\n",
    "    print(len(temp))\n",
    "#full time period is [2015:2112]"
   ]
  },
  {
   "cell_type": "code",
   "execution_count": 78,
   "id": "08f9b3ea",
   "metadata": {},
   "outputs": [
    {
     "name": "stdout",
     "output_type": "stream",
     "text": [
      "[1.6, 1.0, 0.8500000000000001, 0.55, 0.6499999999999999, 0.15000000000000002, -0.3, 2.7, 10.45, 15.6, 20.1, 23.3, 25.799999999999997, 25.55, 23.4, 22.95, 20.0, 17.3, 10.85, 9.35, 8.2, 7.0, 6.449999999999999, 6.25, 5.65]\n"
     ]
    }
   ],
   "source": [
    "#Air Temp CRN:\n",
    "with open('CRNS0101-05-2022-AR_Batesville_8_WNW.txt') as f:\n",
    "    lst=[line.split()[12] for line in f]\n",
    "    \n",
    "    a=(float(lst[22535])+float(lst[22536]))/2\n",
    "    b=(float(lst[22547])+float(lst[22548]))/2\n",
    "    c=(float(lst[22559])+float(lst[22560]))/2\n",
    "    d=(float(lst[22571])+float(lst[22572]))/2\n",
    "    e=(float(lst[22583])+float(lst[22584]))/2\n",
    "    f=(float(lst[22595])+float(lst[22596]))/2\n",
    "    g=(float(lst[22607])+float(lst[22608]))/2\n",
    "    h=(float(lst[22619])+float(lst[22620]))/2\n",
    "    i=(float(lst[22631])+float(lst[22632]))/2\n",
    "    j=(float(lst[22643])+float(lst[22644]))/2\n",
    "    k=(float(lst[22655])+float(lst[22656]))/2\n",
    "    l=(float(lst[22667])+float(lst[22668]))/2\n",
    "    m=(float(lst[22679])+float(lst[22680]))/2\n",
    "    n=(float(lst[22691])+float(lst[22692]))/2\n",
    "    o=(float(lst[22703])+float(lst[22704]))/2\n",
    "    p=(float(lst[22715])+float(lst[22716]))/2\n",
    "    q=(float(lst[22727])+float(lst[22728]))/2\n",
    "    r=(float(lst[22739])+float(lst[22740]))/2\n",
    "    s=(float(lst[22751])+float(lst[22752]))/2\n",
    "    t=(float(lst[22763])+float(lst[22764]))/2\n",
    "    u=(float(lst[22775])+float(lst[22776]))/2\n",
    "    v=(float(lst[22787])+float(lst[22788]))/2\n",
    "    w=(float(lst[22799])+float(lst[22800]))/2\n",
    "    x=(float(lst[22811])+float(lst[22812]))/2\n",
    "    y=(float(lst[22823])+float(lst[22824]))/2\n",
    "    \n",
    "    temp_crn=[a,b,c,d,e,f,g,h,i,j,k,l,m,n,o,p,q,r,s,t,u,v,w,x,y]\n",
    "    print(temp_crn)"
   ]
  },
  {
   "cell_type": "code",
   "execution_count": 79,
   "id": "19589d21",
   "metadata": {},
   "outputs": [
    {
     "name": "stdout",
     "output_type": "stream",
     "text": [
      "[4.57001, 4.53, 4.350009999999999, 4.33, 3.7000100000000002, 3.7000100000000002, 3.8, 2.0900099999999995, -0.4999899999999986, -1.2599999999999998, -2.3000000000000007, -1.9600000000000009, -1.1699999999999982, 1.370000000000001, 4.360000000000003, 3.8900000000000006, 5.059999999999999, 5.18, 7.4399999999999995, 5.4399999999999995, 4.690000000000001, 4.49, 4.050000000000001, 3.630000000000001, 3.9000199999999996]\n"
     ]
    }
   ],
   "source": [
    "difference3_bat = []\n",
    "\n",
    "zip_object = zip(temp, temp_crn)\n",
    "for temp_i, temp_crn_i in zip_object:\n",
    "    difference3_bat.append(temp_i-temp_crn_i)\n",
    "\n",
    "print(difference3_bat)"
   ]
  },
  {
   "cell_type": "markdown",
   "id": "9ac05a40",
   "metadata": {},
   "source": [
    "<font size=\"3\">Lafayette, LA: 0600 UTC (12:00 am CST) 01 March 2022-0600 UTC (12:00 am CST) 02 March 2022</font>"
   ]
  },
  {
   "cell_type": "code",
   "execution_count": 80,
   "id": "f280badb",
   "metadata": {},
   "outputs": [
    {
     "name": "stdout",
     "output_type": "stream",
     "text": [
      "[9.58002, 8.86002, 8.31, 7.24002, 6.17001, 6.09, 5.59, 7.85001, 15.45, 22.39, 27.05, 30.09, 32.43, 33.67, 33.41, 32.36, 30.09, 26.72, 22.62, 18.51, 16.13, 14.6, 14.19, 13.07, 12.26]\n"
     ]
    }
   ],
   "source": [
    "#1 hr hrrr:\n",
    "with open('hrrr_f18_Lafayette_LA.txt') as f:\n",
    "    lst=[line.split()[4] for line in f]\n",
    "    temp=[]\n",
    "    for i in lst:\n",
    "        new=i.replace(',',\"\")\n",
    "        temp.append(new)\n",
    "    temp.pop(0)\n",
    "    temp=[float(x) for x in temp]\n",
    "    temp=temp[1860:1885]\n",
    "    #temp=temp[2015:2063]\n",
    "    print(temp)\n",
    "    #print(len(temp))\n",
    "#full time period is [2015:2112]"
   ]
  },
  {
   "cell_type": "code",
   "execution_count": 81,
   "id": "7e7917cd",
   "metadata": {},
   "outputs": [
    {
     "name": "stdout",
     "output_type": "stream",
     "text": [
      "[3.4, 3.2, 2.8499999999999996, 2.55, 2.05, 2.0, 1.7, 7.65, 13.9, 19.65, 24.8, 27.8, 29.200000000000003, 29.9, 28.6, 27.7, 24.25, 20.5, 14.5, 9.55, 11.2, 10.45, 8.7, 7.699999999999999, 8.45]\n"
     ]
    }
   ],
   "source": [
    "#Air Temp CRN:\n",
    "with open('CRNS0101-05-2022-LA_Lafayette_13_SE.txt') as f:\n",
    "    lst=[line.split()[12] for line in f]\n",
    "    \n",
    "    a=(float(lst[22535])+float(lst[22536]))/2\n",
    "    b=(float(lst[22547])+float(lst[22548]))/2\n",
    "    c=(float(lst[22559])+float(lst[22560]))/2\n",
    "    d=(float(lst[22571])+float(lst[22572]))/2\n",
    "    e=(float(lst[22583])+float(lst[22584]))/2\n",
    "    f=(float(lst[22595])+float(lst[22596]))/2\n",
    "    g=(float(lst[22607])+float(lst[22608]))/2\n",
    "    h=(float(lst[22619])+float(lst[22620]))/2\n",
    "    i=(float(lst[22631])+float(lst[22632]))/2\n",
    "    j=(float(lst[22643])+float(lst[22644]))/2\n",
    "    k=(float(lst[22655])+float(lst[22656]))/2\n",
    "    l=(float(lst[22667])+float(lst[22668]))/2\n",
    "    m=(float(lst[22679])+float(lst[22680]))/2\n",
    "    n=(float(lst[22691])+float(lst[22692]))/2\n",
    "    o=(float(lst[22703])+float(lst[22704]))/2\n",
    "    p=(float(lst[22715])+float(lst[22716]))/2\n",
    "    q=(float(lst[22727])+float(lst[22728]))/2\n",
    "    r=(float(lst[22739])+float(lst[22740]))/2\n",
    "    s=(float(lst[22751])+float(lst[22752]))/2\n",
    "    t=(float(lst[22763])+float(lst[22764]))/2\n",
    "    u=(float(lst[22775])+float(lst[22776]))/2\n",
    "    v=(float(lst[22787])+float(lst[22788]))/2\n",
    "    w=(float(lst[22799])+float(lst[22800]))/2\n",
    "    x=(float(lst[22811])+float(lst[22812]))/2\n",
    "    y=(float(lst[22823])+float(lst[22824]))/2\n",
    "    \n",
    "    temp_crn=[a,b,c,d,e,f,g,h,i,j,k,l,m,n,o,p,q,r,s,t,u,v,w,x,y]\n",
    "    print(temp_crn)"
   ]
  },
  {
   "cell_type": "code",
   "execution_count": 82,
   "id": "36c6a6c7",
   "metadata": {},
   "outputs": [
    {
     "name": "stdout",
     "output_type": "stream",
     "text": [
      "[6.180019999999999, 5.66002, 5.460000000000001, 4.6900200000000005, 4.120010000000001, 4.09, 3.8899999999999997, 0.2000099999999998, 1.549999999999999, 2.740000000000002, 2.25, 2.289999999999999, 3.229999999999997, 3.770000000000003, 4.809999999999995, 4.66, 5.84, 6.219999999999999, 8.120000000000001, 8.96, 4.93, 4.15, 5.49, 5.370000000000001, 3.8100000000000005]\n"
     ]
    }
   ],
   "source": [
    "difference3_laf = []\n",
    "\n",
    "zip_object = zip(temp, temp_crn)\n",
    "for temp_i, temp_crn_i in zip_object:\n",
    "    difference3_laf.append(temp_i-temp_crn_i)\n",
    "\n",
    "print(difference3_laf)"
   ]
  },
  {
   "cell_type": "markdown",
   "id": "9f50a0c5",
   "metadata": {},
   "source": [
    "<font size=\"3\">Monroe, LA: 0600 UTC (12:00 am CST) 01 March 2022-0600 UTC (12:00 am CST) 02 March 2022</font>"
   ]
  },
  {
   "cell_type": "code",
   "execution_count": 83,
   "id": "afe54e44",
   "metadata": {},
   "outputs": [
    {
     "name": "stdout",
     "output_type": "stream",
     "text": [
      "[8.60001, 7.89001, 7.80002, 7.26001, 6.97, 6.87, 6.44, 7.51001, 12.52, 16.9, 21.63, 26.35, 30.4, 32.11, 32.05, 30.82, 28.38, 25.05, 20.67, 17.32, 15.12, 13.52, 12.18, 11.61, 10.81]\n"
     ]
    }
   ],
   "source": [
    "#1 hr hrrr:\n",
    "with open('hrrr_f18_Monroe_LA.txt') as f:\n",
    "    lst=[line.split()[4] for line in f]\n",
    "    temp=[]\n",
    "    for i in lst:\n",
    "        new=i.replace(',',\"\")\n",
    "        temp.append(new)\n",
    "    temp.pop(0)\n",
    "    temp=[float(x) for x in temp]\n",
    "    temp=temp[1860:1885]\n",
    "    #temp=temp[2015:2063]\n",
    "    print(temp)\n",
    "    #print(len(temp))\n",
    "#full time period is [2015:2112]"
   ]
  },
  {
   "cell_type": "code",
   "execution_count": 84,
   "id": "e83f03aa",
   "metadata": {},
   "outputs": [
    {
     "name": "stdout",
     "output_type": "stream",
     "text": [
      "[4.25, 3.7, 3.5, 3.1500000000000004, 2.8, 2.7, 2.3, 4.949999999999999, 12.0, 18.4, 22.549999999999997, 25.65, 27.45, 29.15, 28.15, 27.85, 25.65, 19.65, 14.100000000000001, 9.8, 8.65, 7.3, 6.2, 5.9, 5.45]\n"
     ]
    }
   ],
   "source": [
    "#Air Temp CRN:\n",
    "with open('CRNS0101-05-2022-LA_Monroe_26_N.txt') as f:\n",
    "    lst=[line.split()[12] for line in f]\n",
    "    \n",
    "    a=(float(lst[22535])+float(lst[22536]))/2\n",
    "    b=(float(lst[22547])+float(lst[22548]))/2\n",
    "    c=(float(lst[22559])+float(lst[22560]))/2\n",
    "    d=(float(lst[22571])+float(lst[22572]))/2\n",
    "    e=(float(lst[22583])+float(lst[22584]))/2\n",
    "    f=(float(lst[22595])+float(lst[22596]))/2\n",
    "    g=(float(lst[22607])+float(lst[22608]))/2\n",
    "    h=(float(lst[22619])+float(lst[22620]))/2\n",
    "    i=(float(lst[22631])+float(lst[22632]))/2\n",
    "    j=(float(lst[22643])+float(lst[22644]))/2\n",
    "    k=(float(lst[22655])+float(lst[22656]))/2\n",
    "    l=(float(lst[22667])+float(lst[22668]))/2\n",
    "    m=(float(lst[22679])+float(lst[22680]))/2\n",
    "    n=(float(lst[22691])+float(lst[22692]))/2\n",
    "    o=(float(lst[22703])+float(lst[22704]))/2\n",
    "    p=(float(lst[22715])+float(lst[22716]))/2\n",
    "    q=(float(lst[22727])+float(lst[22728]))/2\n",
    "    r=(float(lst[22739])+float(lst[22740]))/2\n",
    "    s=(float(lst[22751])+float(lst[22752]))/2\n",
    "    t=(float(lst[22763])+float(lst[22764]))/2\n",
    "    u=(float(lst[22775])+float(lst[22776]))/2\n",
    "    v=(float(lst[22787])+float(lst[22788]))/2\n",
    "    w=(float(lst[22799])+float(lst[22800]))/2\n",
    "    x=(float(lst[22811])+float(lst[22812]))/2\n",
    "    y=(float(lst[22823])+float(lst[22824]))/2\n",
    "    \n",
    "    temp_crn=[a,b,c,d,e,f,g,h,i,j,k,l,m,n,o,p,q,r,s,t,u,v,w,x,y]\n",
    "    print(temp_crn)"
   ]
  },
  {
   "cell_type": "code",
   "execution_count": 85,
   "id": "79ffb554",
   "metadata": {},
   "outputs": [
    {
     "name": "stdout",
     "output_type": "stream",
     "text": [
      "[4.350009999999999, 4.19001, 4.30002, 4.11001, 4.17, 4.17, 4.140000000000001, 2.560010000000001, 0.5199999999999996, -1.5, -0.9199999999999982, 0.7000000000000028, 2.9499999999999993, 2.960000000000001, 3.8999999999999986, 2.969999999999999, 2.7300000000000004, 5.400000000000002, 6.57, 7.52, 6.469999999999999, 6.22, 5.9799999999999995, 5.709999999999999, 5.36]\n"
     ]
    }
   ],
   "source": [
    "difference3_mon = []\n",
    "\n",
    "zip_object = zip(temp, temp_crn)\n",
    "for temp_i, temp_crn_i in zip_object:\n",
    "    difference3_mon.append(temp_i-temp_crn_i)\n",
    "\n",
    "print(difference3_mon)"
   ]
  },
  {
   "cell_type": "markdown",
   "id": "1bf55dcc",
   "metadata": {},
   "source": [
    "<font size=\"3\">Holly Springs, MS: 0600 UTC (12:00 am CST) 01 March 2022-0600 UTC (12:00 am CST) 02 March 2022</font>"
   ]
  },
  {
   "cell_type": "code",
   "execution_count": 86,
   "id": "70182e09",
   "metadata": {},
   "outputs": [
    {
     "name": "stdout",
     "output_type": "stream",
     "text": [
      "[7.04001, 6.51001, 6.16, 5.38, 4.70001, 4.26001, 3.95001, 6.31, 11.32, 15.51, 19.17, 22.81, 25.89, 26.79, 26.69, 25.67, 23.58, 20.89, 16.79, 13.72, 12.05, 11.27, 11.19, 10.47, 9.97]\n"
     ]
    }
   ],
   "source": [
    "#1 hr hrrr:\n",
    "with open('hrrr_f18_Holly Springs_MS.txt') as f:\n",
    "    lst=[line.split()[4] for line in f]\n",
    "    temp=[]\n",
    "    for i in lst:\n",
    "        new=i.replace(',',\"\")\n",
    "        temp.append(new)\n",
    "    temp.pop(0)\n",
    "    temp=[float(x) for x in temp]\n",
    "    temp=temp[1860:1885]\n",
    "    #temp=temp[2015:2063]\n",
    "    print(temp)\n",
    "    #print(len(temp))\n",
    "#full time period is [2015:2112]"
   ]
  },
  {
   "cell_type": "code",
   "execution_count": 87,
   "id": "c2aa5abe",
   "metadata": {},
   "outputs": [
    {
     "name": "stdout",
     "output_type": "stream",
     "text": [
      "[3.55, 3.55, 3.0, 2.5, 2.1, 1.65, 1.6, 4.55, 11.899999999999999, 16.95, 21.95, 24.1, 26.4, 26.2, 25.6, 24.2, 22.1, 17.85, 11.5, 8.85, 7.35, 6.3, 5.65, 5.15, 4.75]\n"
     ]
    }
   ],
   "source": [
    "#Air Temp CRN:\n",
    "with open('CRNS0101-05-2022-MS_Holly_Springs_4_N.txt') as f:\n",
    "    lst=[line.split()[12] for line in f]\n",
    "    \n",
    "    a=(float(lst[22535])+float(lst[22536]))/2\n",
    "    b=(float(lst[22547])+float(lst[22548]))/2\n",
    "    c=(float(lst[22559])+float(lst[22560]))/2\n",
    "    d=(float(lst[22571])+float(lst[22572]))/2\n",
    "    e=(float(lst[22583])+float(lst[22584]))/2\n",
    "    f=(float(lst[22595])+float(lst[22596]))/2\n",
    "    g=(float(lst[22607])+float(lst[22608]))/2\n",
    "    h=(float(lst[22619])+float(lst[22620]))/2\n",
    "    i=(float(lst[22631])+float(lst[22632]))/2\n",
    "    j=(float(lst[22643])+float(lst[22644]))/2\n",
    "    k=(float(lst[22655])+float(lst[22656]))/2\n",
    "    l=(float(lst[22667])+float(lst[22668]))/2\n",
    "    m=(float(lst[22679])+float(lst[22680]))/2\n",
    "    n=(float(lst[22691])+float(lst[22692]))/2\n",
    "    o=(float(lst[22703])+float(lst[22704]))/2\n",
    "    p=(float(lst[22715])+float(lst[22716]))/2\n",
    "    q=(float(lst[22727])+float(lst[22728]))/2\n",
    "    r=(float(lst[22739])+float(lst[22740]))/2\n",
    "    s=(float(lst[22751])+float(lst[22752]))/2\n",
    "    t=(float(lst[22763])+float(lst[22764]))/2\n",
    "    u=(float(lst[22775])+float(lst[22776]))/2\n",
    "    v=(float(lst[22787])+float(lst[22788]))/2\n",
    "    w=(float(lst[22799])+float(lst[22800]))/2\n",
    "    x=(float(lst[22811])+float(lst[22812]))/2\n",
    "    y=(float(lst[22823])+float(lst[22824]))/2\n",
    "    \n",
    "    temp_crn=[a,b,c,d,e,f,g,h,i,j,k,l,m,n,o,p,q,r,s,t,u,v,w,x,y]\n",
    "    print(temp_crn)"
   ]
  },
  {
   "cell_type": "code",
   "execution_count": 88,
   "id": "9d0ab2f8",
   "metadata": {},
   "outputs": [
    {
     "name": "stdout",
     "output_type": "stream",
     "text": [
      "[3.49001, 2.9600100000000005, 3.16, 2.88, 2.6000099999999997, 2.6100100000000004, 2.3500099999999997, 1.7599999999999998, -0.5799999999999983, -1.4399999999999995, -2.7799999999999976, -1.2900000000000027, -0.509999999999998, 0.5899999999999999, 1.0899999999999999, 1.4700000000000024, 1.4799999999999969, 3.039999999999999, 5.289999999999999, 4.870000000000001, 4.700000000000001, 4.97, 5.539999999999999, 5.32, 5.220000000000001]\n"
     ]
    }
   ],
   "source": [
    "difference3_hol = []\n",
    "\n",
    "zip_object = zip(temp, temp_crn)\n",
    "for temp_i, temp_crn_i in zip_object:\n",
    "    difference3_hol.append(temp_i-temp_crn_i)\n",
    "\n",
    "print(difference3_hol)"
   ]
  },
  {
   "cell_type": "markdown",
   "id": "2d2b0ce7",
   "metadata": {},
   "source": [
    "<font size=\"3\">Newton, MS: 0600 UTC (12:00 am CST) 01 March 2022-0600 UTC (12:00 am CST) 02 March 2022</font>"
   ]
  },
  {
   "cell_type": "code",
   "execution_count": 89,
   "id": "d10078d2",
   "metadata": {},
   "outputs": [
    {
     "name": "stdout",
     "output_type": "stream",
     "text": [
      "[7.27002, 6.58002, 6.35001, 5.92001, 5.17999, 4.72, 4.14999, 7.12, 14.04, 20.78, 25.69, 28.34, 30.04, 29.93, 29.5, 27.89, 25.8, 22.87, 18.78, 16.18, 14.68, 13.02, 12.09, 10.78, 10.1]\n"
     ]
    }
   ],
   "source": [
    "#1 hr hrrr:\n",
    "with open('hrrr_f18_Newton_MS.txt') as f:\n",
    "    lst=[line.split()[4] for line in f]\n",
    "    temp=[]\n",
    "    for i in lst:\n",
    "        new=i.replace(',',\"\")\n",
    "        temp.append(new)\n",
    "    temp.pop(0)\n",
    "    temp=[float(x) for x in temp]\n",
    "    temp=temp[1860:1885]\n",
    "    #temp=temp[2015:2063]\n",
    "    print(temp)\n",
    "    #print(len(temp))\n",
    "#full time period is [2015:2112]"
   ]
  },
  {
   "cell_type": "code",
   "execution_count": 90,
   "id": "493b49d2",
   "metadata": {},
   "outputs": [
    {
     "name": "stdout",
     "output_type": "stream",
     "text": [
      "[2.55, 2.4, 1.8, 1.55, 1.3, 0.8500000000000001, 0.75, 6.65, 14.8, 21.4, 25.799999999999997, 30.55, 29.65, 30.85, 29.6, 28.4, 26.25, 22.1, 14.3, 10.8, 9.6, 8.149999999999999, 7.050000000000001, 6.1, 5.35]\n"
     ]
    }
   ],
   "source": [
    "#Air Temp CRN:\n",
    "with open('CRNS0101-05-2022-MS_Newton_5_ENE.txt') as f:\n",
    "    lst=[line.split()[12] for line in f]\n",
    "    \n",
    "    a=(float(lst[22535])+float(lst[22536]))/2\n",
    "    b=(float(lst[22547])+float(lst[22548]))/2\n",
    "    c=(float(lst[22559])+float(lst[22560]))/2\n",
    "    d=(float(lst[22571])+float(lst[22572]))/2\n",
    "    e=(float(lst[22583])+float(lst[22584]))/2\n",
    "    f=(float(lst[22595])+float(lst[22596]))/2\n",
    "    g=(float(lst[22607])+float(lst[22608]))/2\n",
    "    h=(float(lst[22619])+float(lst[22620]))/2\n",
    "    i=(float(lst[22631])+float(lst[22632]))/2\n",
    "    j=(float(lst[22643])+float(lst[22644]))/2\n",
    "    k=(float(lst[22655])+float(lst[22656]))/2\n",
    "    l=(float(lst[22667])+float(lst[22668]))/2\n",
    "    m=(float(lst[22679])+float(lst[22680]))/2\n",
    "    n=(float(lst[22691])+float(lst[22692]))/2\n",
    "    o=(float(lst[22703])+float(lst[22704]))/2\n",
    "    p=(float(lst[22715])+float(lst[22716]))/2\n",
    "    q=(float(lst[22727])+float(lst[22728]))/2\n",
    "    r=(float(lst[22739])+float(lst[22740]))/2\n",
    "    s=(float(lst[22751])+float(lst[22752]))/2\n",
    "    t=(float(lst[22763])+float(lst[22764]))/2\n",
    "    u=(float(lst[22775])+float(lst[22776]))/2\n",
    "    v=(float(lst[22787])+float(lst[22788]))/2\n",
    "    w=(float(lst[22799])+float(lst[22800]))/2\n",
    "    x=(float(lst[22811])+float(lst[22812]))/2\n",
    "    y=(float(lst[22823])+float(lst[22824]))/2\n",
    "    \n",
    "    temp_crn=[a,b,c,d,e,f,g,h,i,j,k,l,m,n,o,p,q,r,s,t,u,v,w,x,y]\n",
    "    print(temp_crn)"
   ]
  },
  {
   "cell_type": "code",
   "execution_count": 91,
   "id": "9f44baa8",
   "metadata": {},
   "outputs": [
    {
     "name": "stdout",
     "output_type": "stream",
     "text": [
      "[4.72002, 4.180020000000001, 4.55001, 4.370010000000001, 3.8799900000000003, 3.8699999999999997, 3.39999, 0.46999999999999975, -0.7600000000000016, -0.6199999999999974, -0.10999999999999588, -2.210000000000001, 0.39000000000000057, -0.9200000000000017, -0.10000000000000142, -0.509999999999998, -0.4499999999999993, 0.7699999999999996, 4.48, 5.379999999999999, 5.08, 4.870000000000001, 5.039999999999999, 4.68, 4.75]\n"
     ]
    }
   ],
   "source": [
    "difference3_new = []\n",
    "\n",
    "zip_object = zip(temp, temp_crn)\n",
    "for temp_i, temp_crn_i in zip_object:\n",
    "    difference3_new.append(temp_i-temp_crn_i)\n",
    "\n",
    "print(difference3_new)"
   ]
  },
  {
   "cell_type": "markdown",
   "id": "538036ab",
   "metadata": {},
   "source": [
    "<font size=\"3\">Gainesville, AL: 0600 UTC (12:00 am CST) 01 March 2022-0600 UTC (12:00 am CST) 02 March 2022</font>"
   ]
  },
  {
   "cell_type": "code",
   "execution_count": 92,
   "id": "24a63117",
   "metadata": {},
   "outputs": [],
   "source": [
    "# #1 hr hrrr:\n",
    "# with open('hrrr_f18_Gainesville_AL.txt') as f:\n",
    "#     lst=[line.split()[4] for line in f]\n",
    "#     temp=[]\n",
    "#     for i in lst:\n",
    "#         new=i.replace(',',\"\")\n",
    "#         temp.append(new)\n",
    "#     temp.pop(0)\n",
    "#     temp=[float(x) for x in temp]\n",
    "#     temp=temp[1860:1885]\n",
    "#     #temp=temp[2015:2063]\n",
    "#     print(temp)\n",
    "#     #print(len(temp))\n",
    "# #full time period is [2015:2112]"
   ]
  },
  {
   "cell_type": "code",
   "execution_count": 93,
   "id": "232e137f",
   "metadata": {},
   "outputs": [],
   "source": [
    "# #Air Temp CRN:\n",
    "# with open('CRNH0203-2022-AL_Gainesville_2_NE.txt') as f:\n",
    "#     lst=[line.split()[13] for line in f]\n",
    "#     #prfloat(lst)\n",
    "#     temp_crn=[]\n",
    "#     for i in lst:\n",
    "#         new=i.replace(',',\"\")\n",
    "#         temp_crn.append(new)\n",
    "#     temp_crn=[float(x) for x in temp_crn]\n",
    "#     temp_crn=temp_crn[1877:1902]\n",
    "#     print(temp_crn)\n",
    "#     #print(len(temp_crn))\n",
    "#     # print(temp_crn[2124])"
   ]
  },
  {
   "cell_type": "code",
   "execution_count": 94,
   "id": "b6c8652b",
   "metadata": {},
   "outputs": [],
   "source": [
    "# difference3_gai = []\n",
    "\n",
    "# zip_object = zip(temp, temp_crn)\n",
    "# for temp_i, temp_crn_i in zip_object:\n",
    "#     difference3_gai.append(temp_i-temp_crn_i)\n",
    "\n",
    "# print(difference3_gai)"
   ]
  },
  {
   "cell_type": "markdown",
   "id": "bec1bd8b",
   "metadata": {},
   "source": [
    "<font size=\"3\">Fairhope, AL: 0600 UTC (12:00 am CST) 01 March 2022-0600 UTC (12:00 am CST) 02 March 2022</font>"
   ]
  },
  {
   "cell_type": "code",
   "execution_count": 95,
   "id": "1d46687a",
   "metadata": {},
   "outputs": [
    {
     "name": "stdout",
     "output_type": "stream",
     "text": [
      "[10.71, 10.07, 9.38, 8.75, 8.20001, 7.75, 7.07001, 9.09, 12.96, 16.51, 20.2, 23.07, 26.16, 27.12, 27.62, 26.6, 24.61, 22.05, 18.27, 15.79, 14.06, 13.09, 12.12, 11.5, 10.68]\n"
     ]
    }
   ],
   "source": [
    "#1 hr hrrr:\n",
    "with open('hrrr_f18_Fairhope_AL.txt') as f:\n",
    "    lst=[line.split()[4] for line in f]\n",
    "    temp=[]\n",
    "    for i in lst:\n",
    "        new=i.replace(',',\"\")\n",
    "        temp.append(new)\n",
    "    temp.pop(0)\n",
    "    temp=[float(x) for x in temp]\n",
    "    temp=temp[1860:1885]\n",
    "    #temp=temp[2015:2063]\n",
    "    print(temp)\n",
    "    #print(len(temp))\n",
    "#full time period is [2015:2112]"
   ]
  },
  {
   "cell_type": "code",
   "execution_count": 96,
   "id": "8a4a762c",
   "metadata": {},
   "outputs": [
    {
     "name": "stdout",
     "output_type": "stream",
     "text": [
      "[2.45, 1.85, 0.8, 0.25, 0.15000000000000002, 0.5, 0.2, 10.15, 17.950000000000003, 22.799999999999997, 26.75, 29.9, 31.3, 31.35, 30.0, 26.799999999999997, 22.7, 17.05, 9.95, 6.75, 5.9, 5.1, 4.1, 3.65, 3.7]\n"
     ]
    }
   ],
   "source": [
    "#Air Temp CRN:\n",
    "with open('CRNS0101-05-2022-AL_Fairhope_3_NE.txt') as f:\n",
    "    lst=[line.split()[12] for line in f]\n",
    "    \n",
    "    a=(float(lst[22535])+float(lst[22536]))/2\n",
    "    b=(float(lst[22547])+float(lst[22548]))/2\n",
    "    c=(float(lst[22559])+float(lst[22560]))/2\n",
    "    d=(float(lst[22571])+float(lst[22572]))/2\n",
    "    e=(float(lst[22583])+float(lst[22584]))/2\n",
    "    f=(float(lst[22595])+float(lst[22596]))/2\n",
    "    g=(float(lst[22607])+float(lst[22608]))/2\n",
    "    h=(float(lst[22619])+float(lst[22620]))/2\n",
    "    i=(float(lst[22631])+float(lst[22632]))/2\n",
    "    j=(float(lst[22643])+float(lst[22644]))/2\n",
    "    k=(float(lst[22655])+float(lst[22656]))/2\n",
    "    l=(float(lst[22667])+float(lst[22668]))/2\n",
    "    m=(float(lst[22679])+float(lst[22680]))/2\n",
    "    n=(float(lst[22691])+float(lst[22692]))/2\n",
    "    o=(float(lst[22703])+float(lst[22704]))/2\n",
    "    p=(float(lst[22715])+float(lst[22716]))/2\n",
    "    q=(float(lst[22727])+float(lst[22728]))/2\n",
    "    r=(float(lst[22739])+float(lst[22740]))/2\n",
    "    s=(float(lst[22751])+float(lst[22752]))/2\n",
    "    t=(float(lst[22763])+float(lst[22764]))/2\n",
    "    u=(float(lst[22775])+float(lst[22776]))/2\n",
    "    v=(float(lst[22787])+float(lst[22788]))/2\n",
    "    w=(float(lst[22799])+float(lst[22800]))/2\n",
    "    x=(float(lst[22811])+float(lst[22812]))/2\n",
    "    y=(float(lst[22823])+float(lst[22824]))/2\n",
    "    \n",
    "    temp_crn=[a,b,c,d,e,f,g,h,i,j,k,l,m,n,o,p,q,r,s,t,u,v,w,x,y]\n",
    "    print(temp_crn)"
   ]
  },
  {
   "cell_type": "code",
   "execution_count": 97,
   "id": "e5202245",
   "metadata": {},
   "outputs": [
    {
     "name": "stdout",
     "output_type": "stream",
     "text": [
      "[8.260000000000002, 8.22, 8.58, 8.5, 8.05001, 7.25, 6.87001, -1.0600000000000005, -4.990000000000002, -6.289999999999996, -6.550000000000001, -6.829999999999998, -5.140000000000001, -4.23, -2.379999999999999, -0.19999999999999574, 1.9100000000000001, 5.0, 8.32, 9.04, 8.16, 7.99, 8.02, 7.85, 6.9799999999999995]\n"
     ]
    }
   ],
   "source": [
    "difference3_fai = []\n",
    "\n",
    "zip_object = zip(temp, temp_crn)\n",
    "for temp_i, temp_crn_i in zip_object:\n",
    "    difference3_fai.append(temp_i-temp_crn_i)\n",
    "\n",
    "print(difference3_fai)"
   ]
  },
  {
   "cell_type": "markdown",
   "id": "5450f80c",
   "metadata": {},
   "source": [
    "<font size=\"3\">**Selma, AL: 0600 UTC (12:00 am CST) 01 March 2022-0600 UTC (12:00 am CST) 02 March 2022</font>"
   ]
  },
  {
   "cell_type": "code",
   "execution_count": 98,
   "id": "168fefba",
   "metadata": {},
   "outputs": [
    {
     "name": "stdout",
     "output_type": "stream",
     "text": [
      "[7.42001, 6.67001, 6.26001, 5.69, 5.33002, 4.97, 4.57001, 7.84, 12.18, 16.05, 19.01, 20.66, 21.53, 21.87, 21.44, 20.7, 19.52, 17.6, 14.48, 12.65, 11.34, 10.28, 9.56, 8.80002, 8.25]\n"
     ]
    }
   ],
   "source": [
    "#1 hr hrrr:\n",
    "import numpy as np\n",
    "import numpy.ma as ma\n",
    "with open('hrrr_f18_Selma_AL.txt') as f:\n",
    "    lst=[line.split()[4] for line in f]\n",
    "    temp=[]\n",
    "    for i in lst:\n",
    "        new=i.replace(',',\"\")\n",
    "        temp.append(new)\n",
    "    temp.pop(0)\n",
    "    temp=[float(x) for x in temp]\n",
    "    temp=temp[1860:1885]\n",
    "    print(temp)"
   ]
  },
  {
   "cell_type": "code",
   "execution_count": 99,
   "id": "f289b0c4",
   "metadata": {},
   "outputs": [
    {
     "name": "stdout",
     "output_type": "stream",
     "text": [
      "[5.2, 4.35, 3.95, 3.45, 3.3, 2.7, 2.6, 8.55, 16.15, 20.8, 25.3, 27.0, 29.049999999999997, 29.35, 29.200000000000003, 27.15, 24.6, 21.9, 16.45, 12.8, 11.0, 9.850000000000001, 9.05, 8.149999999999999, 7.45]\n"
     ]
    }
   ],
   "source": [
    "#Air Temp CRN:\n",
    "with open('CRNS0101-05-2022-AL_Selma_13_WNW.txt') as f:\n",
    "    lst=[line.split()[12] for line in f]\n",
    "    \n",
    "    a=(float(lst[22535])+float(lst[22536]))/2\n",
    "    b=(float(lst[22547])+float(lst[22548]))/2\n",
    "    c=(float(lst[22559])+float(lst[22560]))/2\n",
    "    d=(float(lst[22571])+float(lst[22572]))/2\n",
    "    e=(float(lst[22583])+float(lst[22584]))/2\n",
    "    f=(float(lst[22595])+float(lst[22596]))/2\n",
    "    g=(float(lst[22607])+float(lst[22608]))/2\n",
    "    h=(float(lst[22619])+float(lst[22620]))/2\n",
    "    i=(float(lst[22631])+float(lst[22632]))/2\n",
    "    j=(float(lst[22643])+float(lst[22644]))/2\n",
    "    k=(float(lst[22655])+float(lst[22656]))/2\n",
    "    l=(float(lst[22667])+float(lst[22668]))/2\n",
    "    m=(float(lst[22679])+float(lst[22680]))/2\n",
    "    n=(float(lst[22691])+float(lst[22692]))/2\n",
    "    o=(float(lst[22703])+float(lst[22704]))/2\n",
    "    p=(float(lst[22715])+float(lst[22716]))/2\n",
    "    q=(float(lst[22727])+float(lst[22728]))/2\n",
    "    r=(float(lst[22739])+float(lst[22740]))/2\n",
    "    s=(float(lst[22751])+float(lst[22752]))/2\n",
    "    t=(float(lst[22763])+float(lst[22764]))/2\n",
    "    u=(float(lst[22775])+float(lst[22776]))/2\n",
    "    v=(float(lst[22787])+float(lst[22788]))/2\n",
    "    w=(float(lst[22799])+float(lst[22800]))/2\n",
    "    x=(float(lst[22811])+float(lst[22812]))/2\n",
    "    y=(float(lst[22823])+float(lst[22824]))/2\n",
    "    \n",
    "    temp_crn=[a,b,c,d,e,f,g,h,i,j,k,l,m,n,o,p,q,r,s,t,u,v,w,x,y]\n",
    "    print(temp_crn)"
   ]
  },
  {
   "cell_type": "code",
   "execution_count": 100,
   "id": "3e2532e4",
   "metadata": {},
   "outputs": [
    {
     "name": "stdout",
     "output_type": "stream",
     "text": [
      "[2.2200100000000003, 2.320010000000001, 2.31001, 2.24, 2.0300200000000004, 2.2699999999999996, 1.9700099999999998, -0.7100000000000009, -3.969999999999999, -4.75, -6.289999999999999, -6.34, -7.519999999999996, -7.48, -7.760000000000002, -6.449999999999999, -5.080000000000002, -4.299999999999997, -1.9699999999999989, -0.15000000000000036, 0.33999999999999986, 0.42999999999999794, 0.5099999999999998, 0.6500200000000014, 0.7999999999999998]\n",
      "25\n"
     ]
    }
   ],
   "source": [
    "difference3_sel = []\n",
    "\n",
    "zip_object = zip(temp, temp_crn)\n",
    "for temp_i, temp_crn_i in zip_object:\n",
    "    difference3_sel.append(temp_i-temp_crn_i)\n",
    "\n",
    "print(difference3_sel)\n",
    "print(len(difference3_sel))"
   ]
  },
  {
   "cell_type": "markdown",
   "id": "d837cb2c",
   "metadata": {},
   "source": [
    "<font size=\"3\">Bowling Green, KY: 0600 UTC (12:00 am CST) 01 March 2022-0600 UTC (12:00 am CST) 02 March 2022</font>"
   ]
  },
  {
   "cell_type": "code",
   "execution_count": 101,
   "id": "4d2fd05e",
   "metadata": {},
   "outputs": [
    {
     "name": "stdout",
     "output_type": "stream",
     "text": [
      "[2.23001, 1.36002, 1.17001, 0.480011, 0.0299988, -0.459991, -1.07001, 3.11002, 9.69, 14.95, 18.75, 21.88, 23.65, 24.23, 23.92, 22.49, 20.09, 17.29, 12.64, 10.13, 8.64001, 7.48001, 6.59, 6.20999, 5.81]\n"
     ]
    }
   ],
   "source": [
    "#1 hr hrrr:\n",
    "with open('hrrr_f18_Bowling Green_KY.txt') as f:\n",
    "    lst=[line.split()[4] for line in f]\n",
    "    temp=[]\n",
    "    for i in lst:\n",
    "        new=i.replace(',',\"\")\n",
    "        temp.append(new)\n",
    "    temp.pop(0)\n",
    "    temp=[float(x) for x in temp]\n",
    "    temp=temp[1860:1885]\n",
    "    #temp=temp[2015:2063]\n",
    "    print(temp)\n",
    "    #print(len(temp))\n",
    "#full time period is [2015:2112]"
   ]
  },
  {
   "cell_type": "code",
   "execution_count": 102,
   "id": "8f455593",
   "metadata": {},
   "outputs": [
    {
     "name": "stdout",
     "output_type": "stream",
     "text": [
      "[-0.25, -0.6499999999999999, -0.8500000000000001, -1.2, -1.5, -1.7, -1.7, 3.95, 10.100000000000001, 17.15, 22.1, 25.25, 27.25, 26.9, 26.049999999999997, 23.85, 18.9, 12.35, 5.95, 4.55, 3.7, 3.8499999999999996, 2.95, 2.45, 2.2]\n"
     ]
    }
   ],
   "source": [
    "#Air Temp CRN:\n",
    "with open('CRNS0101-05-2022-KY_Bowling_Green_21_NNE.txt') as f:\n",
    "    lst=[line.split()[12] for line in f]\n",
    "    \n",
    "    a=(float(lst[22535])+float(lst[22536]))/2\n",
    "    b=(float(lst[22547])+float(lst[22548]))/2\n",
    "    c=(float(lst[22559])+float(lst[22560]))/2\n",
    "    d=(float(lst[22571])+float(lst[22572]))/2\n",
    "    e=(float(lst[22583])+float(lst[22584]))/2\n",
    "    f=(float(lst[22595])+float(lst[22596]))/2\n",
    "    g=(float(lst[22607])+float(lst[22608]))/2\n",
    "    h=(float(lst[22619])+float(lst[22620]))/2\n",
    "    i=(float(lst[22631])+float(lst[22632]))/2\n",
    "    j=(float(lst[22643])+float(lst[22644]))/2\n",
    "    k=(float(lst[22655])+float(lst[22656]))/2\n",
    "    l=(float(lst[22667])+float(lst[22668]))/2\n",
    "    m=(float(lst[22679])+float(lst[22680]))/2\n",
    "    n=(float(lst[22691])+float(lst[22692]))/2\n",
    "    o=(float(lst[22703])+float(lst[22704]))/2\n",
    "    p=(float(lst[22715])+float(lst[22716]))/2\n",
    "    q=(float(lst[22727])+float(lst[22728]))/2\n",
    "    r=(float(lst[22739])+float(lst[22740]))/2\n",
    "    s=(float(lst[22751])+float(lst[22752]))/2\n",
    "    t=(float(lst[22763])+float(lst[22764]))/2\n",
    "    u=(float(lst[22775])+float(lst[22776]))/2\n",
    "    v=(float(lst[22787])+float(lst[22788]))/2\n",
    "    w=(float(lst[22799])+float(lst[22800]))/2\n",
    "    x=(float(lst[22811])+float(lst[22812]))/2\n",
    "    y=(float(lst[22823])+float(lst[22824]))/2\n",
    "    \n",
    "    temp_crn=[a,b,c,d,e,f,g,h,i,j,k,l,m,n,o,p,q,r,s,t,u,v,w,x,y]\n",
    "    print(temp_crn)"
   ]
  },
  {
   "cell_type": "code",
   "execution_count": 103,
   "id": "c1e44909",
   "metadata": {},
   "outputs": [
    {
     "name": "stdout",
     "output_type": "stream",
     "text": [
      "[2.48001, 2.01002, 2.02001, 1.680011, 1.5299988, 1.240009, 0.62999, -0.8399800000000002, -0.4100000000000019, -2.1999999999999993, -3.3500000000000014, -3.370000000000001, -3.6000000000000014, -2.669999999999998, -2.1299999999999955, -1.360000000000003, 1.1900000000000013, 4.9399999999999995, 6.69, 5.580000000000001, 4.94001, 3.6300100000000004, 3.6399999999999997, 3.75999, 3.6099999999999994]\n"
     ]
    }
   ],
   "source": [
    "difference3_bow = []\n",
    "\n",
    "zip_object = zip(temp, temp_crn)\n",
    "for temp_i, temp_crn_i in zip_object:\n",
    "    difference3_bow.append(temp_i-temp_crn_i)\n",
    "\n",
    "print(difference3_bow)"
   ]
  },
  {
   "cell_type": "markdown",
   "id": "21c9a287",
   "metadata": {},
   "source": [
    "<font size=\"3\">Gadsden, AL: 0600 UTC (12:00 am CST) 01 March 2022-0600 UTC (12:00 am CST) 02 March 2022</font>"
   ]
  },
  {
   "cell_type": "code",
   "execution_count": 104,
   "id": "77a1ef95",
   "metadata": {},
   "outputs": [
    {
     "name": "stdout",
     "output_type": "stream",
     "text": [
      "[5.06, 4.66, 3.45999, 2.91, 2.64999, 2.83002, 2.44, 5.26001, 10.24, 14.59, 17.94, 19.73, 21.22, 21.74, 21.48, 20.59, 18.58, 16.3, 12.61, 11.07, 10.21, 8.72, 7.38, 6.45001, 5.87]\n"
     ]
    }
   ],
   "source": [
    "#1 hr hrrr:\n",
    "with open('hrrr_f18_Gadsden_AL.txt') as f:\n",
    "    lst=[line.split()[4] for line in f]\n",
    "    temp=[]\n",
    "    for i in lst:\n",
    "        new=i.replace(',',\"\")\n",
    "        temp.append(new)\n",
    "    temp.pop(0)\n",
    "    temp=[float(x) for x in temp]\n",
    "    temp=temp[1860:1885]\n",
    "#     x = np.array(temp)\n",
    "#     temp = ma.masked_array(x, mask=[0, 0, 0, 0, 0,0,0,0,1,0,0,0,0,0,0,0,0,0,0,0,0,0,0,0,0])\n",
    "    #temp=temp[2015:2063]\n",
    "    print(temp)\n",
    "    #print(len(temp))\n",
    "#full time period is [2015:2112]"
   ]
  },
  {
   "cell_type": "code",
   "execution_count": 105,
   "id": "90d48370",
   "metadata": {},
   "outputs": [
    {
     "name": "stdout",
     "output_type": "stream",
     "text": [
      "[1.75, 1.15, 0.6499999999999999, 0.55, 0.4, 0.1, 0.65, 7.6, 11.95, 15.65, 19.4, 20.450000000000003, 22.0, 22.6, 22.45, 20.0, 18.1, 15.0, 9.55, 7.15, 5.95, 5.15, 4.25, 3.7, 3.3]\n"
     ]
    }
   ],
   "source": [
    "#Air Temp CRN:\n",
    "with open('CRNS0101-05-2022-AL_Gadsden_19_N.txt') as f:\n",
    "    lst=[line.split()[12] for line in f]\n",
    "    \n",
    "    a=(float(lst[22535])+float(lst[22536]))/2\n",
    "    b=(float(lst[22547])+float(lst[22548]))/2\n",
    "    c=(float(lst[22559])+float(lst[22560]))/2\n",
    "    d=(float(lst[22571])+float(lst[22572]))/2\n",
    "    e=(float(lst[22583])+float(lst[22584]))/2\n",
    "    f=(float(lst[22595])+float(lst[22596]))/2\n",
    "    g=(float(lst[22607])+float(lst[22608]))/2\n",
    "    h=(float(lst[22619])+float(lst[22620]))/2\n",
    "    i=(float(lst[22631])+float(lst[22632]))/2\n",
    "    j=(float(lst[22643])+float(lst[22644]))/2\n",
    "    k=(float(lst[22655])+float(lst[22656]))/2\n",
    "    l=(float(lst[22667])+float(lst[22668]))/2\n",
    "    m=(float(lst[22679])+float(lst[22680]))/2\n",
    "    n=(float(lst[22691])+float(lst[22692]))/2\n",
    "    o=(float(lst[22703])+float(lst[22704]))/2\n",
    "    p=(float(lst[22715])+float(lst[22716]))/2\n",
    "    q=(float(lst[22727])+float(lst[22728]))/2\n",
    "    r=(float(lst[22739])+float(lst[22740]))/2\n",
    "    s=(float(lst[22751])+float(lst[22752]))/2\n",
    "    t=(float(lst[22763])+float(lst[22764]))/2\n",
    "    u=(float(lst[22775])+float(lst[22776]))/2\n",
    "    v=(float(lst[22787])+float(lst[22788]))/2\n",
    "    w=(float(lst[22799])+float(lst[22800]))/2\n",
    "    x=(float(lst[22811])+float(lst[22812]))/2\n",
    "    y=(float(lst[22823])+float(lst[22824]))/2\n",
    "    \n",
    "    temp_crn=[a,b,c,d,e,f,g,h,i,j,k,l,m,n,o,p,q,r,s,t,u,v,w,x,y]\n",
    "    print(temp_crn)"
   ]
  },
  {
   "cell_type": "code",
   "execution_count": 106,
   "id": "cf4acb88",
   "metadata": {},
   "outputs": [
    {
     "name": "stdout",
     "output_type": "stream",
     "text": [
      "[3.3099999999999996, 3.5100000000000002, 2.80999, 2.3600000000000003, 2.24999, 2.73002, 1.79, -2.3399899999999993, -1.709999999999999, -1.0600000000000005, -1.4599999999999973, -0.7200000000000024, -0.7800000000000011, -0.860000000000003, -0.9699999999999989, 0.5899999999999999, 0.4799999999999969, 1.3000000000000007, 3.0599999999999987, 3.92, 4.260000000000001, 3.5700000000000003, 3.13, 2.7500099999999996, 2.5700000000000003]\n"
     ]
    }
   ],
   "source": [
    "difference3_gad = []\n",
    "\n",
    "zip_object = zip(temp, temp_crn)\n",
    "for temp_i, temp_crn_i in zip_object:\n",
    "    difference3_gad.append(temp_i-temp_crn_i)\n",
    "\n",
    "print(difference3_gad)"
   ]
  },
  {
   "cell_type": "markdown",
   "id": "93b56dfb",
   "metadata": {},
   "source": [
    "<font size=\"3\">Newton, GA: 0600 UTC (12:00 am CST) 01 March 2022-0600 UTC (12:00 am CST) 02 March 2022</font>"
   ]
  },
  {
   "cell_type": "code",
   "execution_count": 107,
   "id": "53a55c7c",
   "metadata": {},
   "outputs": [
    {
     "name": "stdout",
     "output_type": "stream",
     "text": [
      "[11.5, 10.78, 9.67001, 9.51001, 8.85001, 8.31, 7.52002, 10.54, 13.45, 15.21, 17.19, 18.76, 19.94, 20.17, 20.1, 19.85, 19.06, 17.38, 14.15, 12.36, 11.06, 10.11, 9.57001, 8.83002, 8.35001]\n"
     ]
    }
   ],
   "source": [
    "#1 hr hrrr:\n",
    "with open('hrrr_f18_Newton_GA.txt') as f:\n",
    "    lst=[line.split()[4] for line in f]\n",
    "    temp=[]\n",
    "    for i in lst:\n",
    "        new=i.replace(',',\"\")\n",
    "        temp.append(new)\n",
    "    temp.pop(0)\n",
    "    temp=[float(x) for x in temp]\n",
    "    temp=temp[1860:1885]\n",
    "    #temp=temp[2015:2063]\n",
    "    print(temp)\n",
    "    #print(len(temp))\n",
    "#full time period is [2015:2112]"
   ]
  },
  {
   "cell_type": "code",
   "execution_count": 108,
   "id": "e0002988",
   "metadata": {},
   "outputs": [
    {
     "name": "stdout",
     "output_type": "stream",
     "text": [
      "[11.1, 10.75, 10.05, 8.95, 7.800000000000001, 7.75, 7.5, 11.65, 16.2, 20.450000000000003, 24.2, 25.35, 28.5, 27.35, 26.35, 25.549999999999997, 22.3, 18.4, 13.65, 12.0, 11.05, 10.0, 9.149999999999999, 8.5, 7.85]\n"
     ]
    }
   ],
   "source": [
    "#Air Temp CRN:\n",
    "with open('CRNS0101-05-2022-GA_Newton_11_SW.txt') as f:\n",
    "    lst=[line.split()[12] for line in f]\n",
    "    \n",
    "    a=(float(lst[22535])+float(lst[22536]))/2\n",
    "    b=(float(lst[22547])+float(lst[22548]))/2\n",
    "    c=(float(lst[22559])+float(lst[22560]))/2\n",
    "    d=(float(lst[22571])+float(lst[22572]))/2\n",
    "    e=(float(lst[22583])+float(lst[22584]))/2\n",
    "    f=(float(lst[22595])+float(lst[22596]))/2\n",
    "    g=(float(lst[22607])+float(lst[22608]))/2\n",
    "    h=(float(lst[22619])+float(lst[22620]))/2\n",
    "    i=(float(lst[22631])+float(lst[22632]))/2\n",
    "    j=(float(lst[22643])+float(lst[22644]))/2\n",
    "    k=(float(lst[22655])+float(lst[22656]))/2\n",
    "    l=(float(lst[22667])+float(lst[22668]))/2\n",
    "    m=(float(lst[22679])+float(lst[22680]))/2\n",
    "    n=(float(lst[22691])+float(lst[22692]))/2\n",
    "    o=(float(lst[22703])+float(lst[22704]))/2\n",
    "    p=(float(lst[22715])+float(lst[22716]))/2\n",
    "    q=(float(lst[22727])+float(lst[22728]))/2\n",
    "    r=(float(lst[22739])+float(lst[22740]))/2\n",
    "    s=(float(lst[22751])+float(lst[22752]))/2\n",
    "    t=(float(lst[22763])+float(lst[22764]))/2\n",
    "    u=(float(lst[22775])+float(lst[22776]))/2\n",
    "    v=(float(lst[22787])+float(lst[22788]))/2\n",
    "    w=(float(lst[22799])+float(lst[22800]))/2\n",
    "    x=(float(lst[22811])+float(lst[22812]))/2\n",
    "    y=(float(lst[22823])+float(lst[22824]))/2\n",
    "    \n",
    "    temp_crn=[a,b,c,d,e,f,g,h,i,j,k,l,m,n,o,p,q,r,s,t,u,v,w,x,y]\n",
    "    print(temp_crn)"
   ]
  },
  {
   "cell_type": "code",
   "execution_count": 109,
   "id": "b71c6000",
   "metadata": {},
   "outputs": [
    {
     "name": "stdout",
     "output_type": "stream",
     "text": [
      "[0.40000000000000036, 0.02999999999999936, -0.37999000000000116, 0.5600100000000001, 1.0500099999999986, 0.5600000000000005, 0.020019999999999705, -1.1100000000000012, -2.75, -5.240000000000002, -7.009999999999998, -6.59, -8.559999999999999, -7.18, -6.25, -5.699999999999996, -3.240000000000002, -1.0199999999999996, 0.5, 0.35999999999999943, 0.009999999999999787, 0.10999999999999943, 0.4200100000000013, 0.3300199999999993, 0.5000099999999996]\n"
     ]
    }
   ],
   "source": [
    "difference3_newt = []\n",
    "\n",
    "zip_object = zip(temp, temp_crn)\n",
    "for temp_i, temp_crn_i in zip_object:\n",
    "    difference3_newt.append(temp_i-temp_crn_i)\n",
    "\n",
    "print(difference3_newt)"
   ]
  },
  {
   "cell_type": "markdown",
   "id": "e079df5d",
   "metadata": {},
   "source": [
    "<font size=\"3\">Salem, MO: 0500 UTC (12:00 am CDT) 03 April 2022-0500 UTC (12:00 am CDT) 04 April 2022</font>"
   ]
  },
  {
   "cell_type": "code",
   "execution_count": 110,
   "id": "2bda3233",
   "metadata": {},
   "outputs": [
    {
     "name": "stdout",
     "output_type": "stream",
     "text": [
      "[3.37, 2.75, 1.97, 1.91, 1.51001, 1.41, 1.31, 4.07001, 8.62, 11.66, 14.75, 17.27, 19.53, 21.12, 21.93, 21.53, 19.89, 17.06, 14.87, 12.38, 11.46, 11.02, 10.67, 10.62, 10.11]\n",
      "25\n"
     ]
    }
   ],
   "source": [
    "#1 hr hrrr:\n",
    "with open('hrrr_f18_Salem_MO.txt') as f:\n",
    "    lst=[line.split()[4] for line in f]\n",
    "    temp=[]\n",
    "    for i in lst:\n",
    "        new=i.replace(',',\"\")\n",
    "        temp.append(new)\n",
    "    temp.pop(0)\n",
    "    temp=[float(x) for x in temp]\n",
    "    temp=temp[2196:2221]\n",
    "    #temp=temp[2015:2063]\n",
    "    print(temp)\n",
    "    print(len(temp))\n",
    "#full time period is [2015:2112]"
   ]
  },
  {
   "cell_type": "code",
   "execution_count": 111,
   "id": "3a8d2e0d",
   "metadata": {},
   "outputs": [
    {
     "name": "stdout",
     "output_type": "stream",
     "text": [
      "[-2.1500000000000004, -2.7, -2.7, -3.3, -3.45, -3.75, -3.15, 4.0, 12.25, 18.5, 25.450000000000003, 29.75, 32.2, 32.45, 28.049999999999997, 28.8, 22.95, 16.05, 14.3, 11.55, 11.5, 11.9, 11.7, 11.3, 8.850000000000001]\n"
     ]
    }
   ],
   "source": [
    "#Air Temp CRN:\n",
    "with open('CRNS0101-05-2022-MO_Salem_10_W.txt') as f:\n",
    "    lst=[line.split()[12] for line in f]\n",
    "    \n",
    "    a=(float(lst[26567])+float(lst[26568]))/2\n",
    "    b=(float(lst[26579])+float(lst[26580]))/2\n",
    "    c=(float(lst[26591])+float(lst[26592]))/2\n",
    "    d=(float(lst[26603])+float(lst[26604]))/2\n",
    "    e=(float(lst[26615])+float(lst[26616]))/2\n",
    "    f=(float(lst[26627])+float(lst[26628]))/2\n",
    "    g=(float(lst[26639])+float(lst[26640]))/2\n",
    "    h=(float(lst[26651])+float(lst[26652]))/2\n",
    "    i=(float(lst[26663])+float(lst[26664]))/2\n",
    "    j=(float(lst[26675])+float(lst[26676]))/2\n",
    "    k=(float(lst[26687])+float(lst[26688]))/2\n",
    "    l=(float(lst[26699])+float(lst[26700]))/2\n",
    "    m=(float(lst[26711])+float(lst[26712]))/2\n",
    "    n=(float(lst[26723])+float(lst[26724]))/2\n",
    "    o=(float(lst[26735])+float(lst[26736]))/2\n",
    "    p=(float(lst[26747])+float(lst[26748]))/2\n",
    "    q=(float(lst[26759])+float(lst[26760]))/2\n",
    "    r=(float(lst[26773])+float(lst[26774]))/2\n",
    "    s=(float(lst[26783])+float(lst[26784]))/2\n",
    "    t=(float(lst[26795])+float(lst[26796]))/2\n",
    "    u=(float(lst[26807])+float(lst[26808]))/2\n",
    "    v=(float(lst[26819])+float(lst[26820]))/2\n",
    "    w=(float(lst[26831])+float(lst[26832]))/2\n",
    "    x=(float(lst[26843])+float(lst[26844]))/2\n",
    "    y=(float(lst[26855])+float(lst[26856]))/2\n",
    "    \n",
    "    temp_crn=[a,b,c,d,e,f,g,h,i,j,k,l,m,n,o,p,q,r,s,t,u,v,w,x,y]\n",
    "    print(temp_crn)"
   ]
  },
  {
   "cell_type": "code",
   "execution_count": 112,
   "id": "2f3aad80",
   "metadata": {},
   "outputs": [
    {
     "name": "stdout",
     "output_type": "stream",
     "text": [
      "[5.5200000000000005, 5.45, 4.67, 5.21, 4.9600100000000005, 5.16, 4.46, 0.0700099999999999, -3.630000000000001, -6.84, -10.700000000000003, -12.48, -12.670000000000002, -11.330000000000002, -6.119999999999997, -7.27, -3.0599999999999987, 1.009999999999998, 0.5699999999999985, 0.8300000000000001, -0.03999999999999915, -0.8800000000000008, -1.0299999999999994, -0.6800000000000015, 1.259999999999998]\n"
     ]
    }
   ],
   "source": [
    "difference4_sal = []\n",
    "\n",
    "zip_object = zip(temp, temp_crn)\n",
    "for temp_i, temp_crn_i in zip_object:\n",
    "    difference4_sal.append(temp_i-temp_crn_i)\n",
    "\n",
    "print(difference4_sal)"
   ]
  },
  {
   "cell_type": "markdown",
   "id": "f30e9b3b",
   "metadata": {},
   "source": [
    "<font size=\"3\">Batesville, AR: 0600 UTC (12:00 am CST) 01 March 2022-0600 UTC (12:00 am CST) 02 March 2022</font>"
   ]
  },
  {
   "cell_type": "code",
   "execution_count": 113,
   "id": "ea25905e",
   "metadata": {},
   "outputs": [
    {
     "name": "stdout",
     "output_type": "stream",
     "text": [
      "[7.74002, 6.89001, 5.78, 5.08002, 4.24002, 4.12, 3.49002, 6.28, 10.63, 13.68, 16.38, 18.67, 20.54, 22.19, 23.7, 23.49, 22.17, 19.89, 16.6, 13.28, 11.96, 11.25, 12.57, 9.73001, 9.31]\n",
      "25\n"
     ]
    }
   ],
   "source": [
    "#1 hr hrrr:\n",
    "with open('hrrr_f18_Batesville_AR.txt') as f:\n",
    "    lst=[line.split()[4] for line in f]\n",
    "    temp=[]\n",
    "    for i in lst:\n",
    "        new=i.replace(',',\"\")\n",
    "        temp.append(new)\n",
    "    temp.pop(0)\n",
    "    temp=[float(x) for x in temp]\n",
    "    temp=temp[2196:2221]\n",
    "#     x = np.array(temp)\n",
    "#     temp = ma.masked_array(x, mask=[0, 0, 0, 0, 0,0,0,0,0,0,0,0,0,0,0,0,0,0,0,0,0,1,0,0,0])\n",
    "    #temp=temp[2015:2063]\n",
    "    print(temp)\n",
    "    print(len(temp))\n",
    "#full time period is [2015:2112]"
   ]
  },
  {
   "cell_type": "code",
   "execution_count": 114,
   "id": "6ac93b59",
   "metadata": {},
   "outputs": [
    {
     "name": "stdout",
     "output_type": "stream",
     "text": [
      "[2.75, 2.1, 2.5, 1.2999999999999998, 0.7, 0.2, 0.4, 5.5, 12.5, 14.45, 18.5, 19.8, 20.950000000000003, 22.1, 21.4, 19.5, 17.05, 14.2, 12.75, 10.05, 8.85, 8.7, 7.6, 10.2, 9.05]\n"
     ]
    }
   ],
   "source": [
    "#Air Temp CRN:\n",
    "with open('CRNS0101-05-2022-AR_Batesville_8_WNW.txt') as f:\n",
    "    lst=[line.split()[12] for line in f]\n",
    "    \n",
    "    a=(float(lst[26567])+float(lst[26568]))/2\n",
    "    b=(float(lst[26579])+float(lst[26580]))/2\n",
    "    c=(float(lst[26591])+float(lst[26592]))/2\n",
    "    d=(float(lst[26603])+float(lst[26604]))/2\n",
    "    e=(float(lst[26615])+float(lst[26616]))/2\n",
    "    f=(float(lst[26627])+float(lst[26628]))/2\n",
    "    g=(float(lst[26639])+float(lst[26640]))/2\n",
    "    h=(float(lst[26651])+float(lst[26652]))/2\n",
    "    i=(float(lst[26663])+float(lst[26664]))/2\n",
    "    j=(float(lst[26675])+float(lst[26676]))/2\n",
    "    k=(float(lst[26687])+float(lst[26688]))/2\n",
    "    l=(float(lst[26699])+float(lst[26700]))/2\n",
    "    m=(float(lst[26711])+float(lst[26712]))/2\n",
    "    n=(float(lst[26723])+float(lst[26724]))/2\n",
    "    o=(float(lst[26735])+float(lst[26736]))/2\n",
    "    p=(float(lst[26747])+float(lst[26748]))/2\n",
    "    q=(float(lst[26759])+float(lst[26760]))/2\n",
    "    r=(float(lst[26773])+float(lst[26774]))/2\n",
    "    s=(float(lst[26783])+float(lst[26784]))/2\n",
    "    t=(float(lst[26795])+float(lst[26796]))/2\n",
    "    u=(float(lst[26807])+float(lst[26808]))/2\n",
    "    v=(float(lst[26819])+float(lst[26820]))/2\n",
    "    w=(float(lst[26831])+float(lst[26832]))/2\n",
    "    x=(float(lst[26843])+float(lst[26844]))/2\n",
    "    y=(float(lst[26855])+float(lst[26856]))/2\n",
    "    \n",
    "    temp_crn=[a,b,c,d,e,f,g,h,i,j,k,l,m,n,o,p,q,r,s,t,u,v,w,x,y]\n",
    "    print(temp_crn)"
   ]
  },
  {
   "cell_type": "code",
   "execution_count": 115,
   "id": "32d53f73",
   "metadata": {},
   "outputs": [
    {
     "name": "stdout",
     "output_type": "stream",
     "text": [
      "[4.99002, 4.7900100000000005, 3.2800000000000002, 3.7800200000000004, 3.54002, 3.92, 3.09002, 0.7800000000000002, -1.8699999999999992, -0.7699999999999996, -2.120000000000001, -1.129999999999999, -0.4100000000000037, 0.08999999999999986, 2.3000000000000007, 3.9899999999999984, 5.120000000000001, 5.690000000000001, 3.8500000000000014, 3.2299999999999986, 3.110000000000001, 2.5500000000000007, 4.970000000000001, -0.46998999999999924, 0.2599999999999998]\n"
     ]
    }
   ],
   "source": [
    "difference4_bat = []\n",
    "\n",
    "zip_object = zip(temp, temp_crn)\n",
    "for temp_i, temp_crn_i in zip_object:\n",
    "    difference4_bat.append(temp_i-temp_crn_i)\n",
    "\n",
    "print(difference4_bat)"
   ]
  },
  {
   "cell_type": "markdown",
   "id": "2869b9dc",
   "metadata": {},
   "source": [
    "<font size=\"3\">Lafayette, LA: 0600 UTC (12:00 am CST) 01 March 2022-0600 UTC (12:00 am CST) 02 March 2022</font>"
   ]
  },
  {
   "cell_type": "code",
   "execution_count": 116,
   "id": "fd2670e5",
   "metadata": {},
   "outputs": [
    {
     "name": "stdout",
     "output_type": "stream",
     "text": [
      "[16.22, 14.65, 13.42, 13.82, 12.93, 12.27, 11.74, 14.83, 22.02, 28.02, 31.83, 34.92, 36.51, 37.41, 36.76, 35.98, 33.57, 30.12, 26.05, 21.74, 19.77, 18.79, 17.95, 17.23, 16.77]\n"
     ]
    }
   ],
   "source": [
    "#1 hr hrrr:\n",
    "with open('hrrr_f18_Lafayette_LA.txt') as f:\n",
    "    lst=[line.split()[4] for line in f]\n",
    "    temp=[]\n",
    "    for i in lst:\n",
    "        new=i.replace(',',\"\")\n",
    "        temp.append(new)\n",
    "    temp.pop(0)\n",
    "    temp=[float(x) for x in temp]\n",
    "    temp=temp[2196:2221]\n",
    "    #temp=temp[2015:2063]\n",
    "    print(temp)\n",
    "    #print(len(temp))\n",
    "#full time period is [2015:2112]"
   ]
  },
  {
   "cell_type": "code",
   "execution_count": 117,
   "id": "59735c23",
   "metadata": {},
   "outputs": [
    {
     "name": "stdout",
     "output_type": "stream",
     "text": [
      "[9.9, 9.149999999999999, 8.55, 8.3, 8.05, 8.149999999999999, 8.350000000000001, 14.5, 19.1, 24.35, 28.75, 31.6, 34.05, 34.95, 34.2, 31.7, 28.3, 23.75, 20.049999999999997, 17.4, 16.35, 15.9, 14.35, 12.95, 11.649999999999999]\n"
     ]
    }
   ],
   "source": [
    "#Air Temp CRN:\n",
    "with open('CRNS0101-05-2022-LA_Lafayette_13_SE.txt') as f:\n",
    "    lst=[line.split()[12] for line in f]\n",
    "    \n",
    "    a=(float(lst[26567])+float(lst[26568]))/2\n",
    "    b=(float(lst[26579])+float(lst[26580]))/2\n",
    "    c=(float(lst[26591])+float(lst[26592]))/2\n",
    "    d=(float(lst[26603])+float(lst[26604]))/2\n",
    "    e=(float(lst[26615])+float(lst[26616]))/2\n",
    "    f=(float(lst[26627])+float(lst[26628]))/2\n",
    "    g=(float(lst[26639])+float(lst[26640]))/2\n",
    "    h=(float(lst[26651])+float(lst[26652]))/2\n",
    "    i=(float(lst[26663])+float(lst[26664]))/2\n",
    "    j=(float(lst[26675])+float(lst[26676]))/2\n",
    "    k=(float(lst[26687])+float(lst[26688]))/2\n",
    "    l=(float(lst[26699])+float(lst[26700]))/2\n",
    "    m=(float(lst[26711])+float(lst[26712]))/2\n",
    "    n=(float(lst[26723])+float(lst[26724]))/2\n",
    "    o=(float(lst[26735])+float(lst[26736]))/2\n",
    "    p=(float(lst[26747])+float(lst[26748]))/2\n",
    "    q=(float(lst[26759])+float(lst[26760]))/2\n",
    "    r=(float(lst[26773])+float(lst[26774]))/2\n",
    "    s=(float(lst[26783])+float(lst[26784]))/2\n",
    "    t=(float(lst[26795])+float(lst[26796]))/2\n",
    "    u=(float(lst[26807])+float(lst[26808]))/2\n",
    "    v=(float(lst[26819])+float(lst[26820]))/2\n",
    "    w=(float(lst[26831])+float(lst[26832]))/2\n",
    "    x=(float(lst[26843])+float(lst[26844]))/2\n",
    "    y=(float(lst[26855])+float(lst[26856]))/2\n",
    "    \n",
    "    temp_crn=[a,b,c,d,e,f,g,h,i,j,k,l,m,n,o,p,q,r,s,t,u,v,w,x,y]\n",
    "    print(temp_crn)"
   ]
  },
  {
   "cell_type": "code",
   "execution_count": 118,
   "id": "c02f8d98",
   "metadata": {},
   "outputs": [
    {
     "name": "stdout",
     "output_type": "stream",
     "text": [
      "[6.3199999999999985, 5.500000000000002, 4.869999999999999, 5.52, 4.879999999999999, 4.120000000000001, 3.389999999999999, 0.33000000000000007, 2.919999999999998, 3.669999999999998, 3.0799999999999983, 3.3200000000000003, 2.460000000000001, 2.4599999999999937, 2.559999999999995, 4.279999999999998, 5.27, 6.370000000000001, 6.0000000000000036, 4.34, 3.419999999999998, 2.889999999999999, 3.5999999999999996, 4.280000000000001, 5.120000000000001]\n"
     ]
    }
   ],
   "source": [
    "difference4_laf = []\n",
    "\n",
    "zip_object = zip(temp, temp_crn)\n",
    "for temp_i, temp_crn_i in zip_object:\n",
    "    difference4_laf.append(temp_i-temp_crn_i)\n",
    "\n",
    "print(difference4_laf)"
   ]
  },
  {
   "cell_type": "markdown",
   "id": "ab48fc12",
   "metadata": {},
   "source": [
    "<font size=\"3\">Monroe, LA: 0600 UTC (12:00 am CST) 01 March 2022-0600 UTC (12:00 am CST) 02 March 2022</font>"
   ]
  },
  {
   "cell_type": "code",
   "execution_count": 119,
   "id": "b61707d0",
   "metadata": {},
   "outputs": [
    {
     "name": "stdout",
     "output_type": "stream",
     "text": [
      "[12.58, 11.69, 11.29, 10.88, 10.29, 9.83002, 9.45001, 12.11, 15.52, 18.93, 22.19, 25.68, 29.89, 32.07, 32.66, 31.67, 29.58, 26.52, 22.75, 19.46, 17.96, 16.79, 15.65, 14.33, 13.89]\n"
     ]
    }
   ],
   "source": [
    "#1 hr hrrr:\n",
    "with open('hrrr_f18_Monroe_LA.txt') as f:\n",
    "    lst=[line.split()[4] for line in f]\n",
    "    temp=[]\n",
    "    for i in lst:\n",
    "        new=i.replace(',',\"\")\n",
    "        temp.append(new)\n",
    "    temp.pop(0)\n",
    "    temp=[float(x) for x in temp]\n",
    "    temp=temp[2196:2221]\n",
    "    #temp=temp[2015:2063]\n",
    "    print(temp)\n",
    "    #print(len(temp))\n",
    "#full time period is [2015:2112]"
   ]
  },
  {
   "cell_type": "code",
   "execution_count": 120,
   "id": "2bcf6d37",
   "metadata": {},
   "outputs": [
    {
     "name": "stdout",
     "output_type": "stream",
     "text": [
      "[7.85, 7.45, 6.95, 6.55, 6.199999999999999, 5.7, 6.15, 10.65, 17.35, 21.35, 24.25, 26.9, 28.65, 29.1, 28.8, 28.45, 27.1, 20.0, 17.549999999999997, 12.5, 11.45, 10.649999999999999, 10.9, 10.75, 9.45]\n"
     ]
    }
   ],
   "source": [
    "#Air Temp CRN:\n",
    "with open('CRNS0101-05-2022-LA_Monroe_26_N.txt') as f:\n",
    "    lst=[line.split()[12] for line in f]\n",
    "    \n",
    "    a=(float(lst[26567])+float(lst[26568]))/2\n",
    "    b=(float(lst[26579])+float(lst[26580]))/2\n",
    "    c=(float(lst[26591])+float(lst[26592]))/2\n",
    "    d=(float(lst[26603])+float(lst[26604]))/2\n",
    "    e=(float(lst[26615])+float(lst[26616]))/2\n",
    "    f=(float(lst[26627])+float(lst[26628]))/2\n",
    "    g=(float(lst[26639])+float(lst[26640]))/2\n",
    "    h=(float(lst[26651])+float(lst[26652]))/2\n",
    "    i=(float(lst[26663])+float(lst[26664]))/2\n",
    "    j=(float(lst[26675])+float(lst[26676]))/2\n",
    "    k=(float(lst[26687])+float(lst[26688]))/2\n",
    "    l=(float(lst[26699])+float(lst[26700]))/2\n",
    "    m=(float(lst[26711])+float(lst[26712]))/2\n",
    "    n=(float(lst[26723])+float(lst[26724]))/2\n",
    "    o=(float(lst[26735])+float(lst[26736]))/2\n",
    "    p=(float(lst[26747])+float(lst[26748]))/2\n",
    "    q=(float(lst[26759])+float(lst[26760]))/2\n",
    "    r=(float(lst[26773])+float(lst[26774]))/2\n",
    "    s=(float(lst[26783])+float(lst[26784]))/2\n",
    "    t=(float(lst[26795])+float(lst[26796]))/2\n",
    "    u=(float(lst[26807])+float(lst[26808]))/2\n",
    "    v=(float(lst[26819])+float(lst[26820]))/2\n",
    "    w=(float(lst[26831])+float(lst[26832]))/2\n",
    "    x=(float(lst[26843])+float(lst[26844]))/2\n",
    "    y=(float(lst[26855])+float(lst[26856]))/2\n",
    "    \n",
    "    temp_crn=[a,b,c,d,e,f,g,h,i,j,k,l,m,n,o,p,q,r,s,t,u,v,w,x,y]\n",
    "    print(temp_crn)"
   ]
  },
  {
   "cell_type": "code",
   "execution_count": 121,
   "id": "e8911bcb",
   "metadata": {},
   "outputs": [
    {
     "name": "stdout",
     "output_type": "stream",
     "text": [
      "[4.73, 4.239999999999999, 4.339999999999999, 4.330000000000001, 4.09, 4.130019999999999, 3.3000100000000003, 1.459999999999999, -1.8300000000000018, -2.4200000000000017, -2.0599999999999987, -1.2199999999999989, 1.240000000000002, 2.969999999999999, 3.859999999999996, 3.2200000000000024, 2.479999999999997, 6.52, 5.200000000000003, 6.960000000000001, 6.510000000000002, 6.140000000000001, 4.75, 3.58, 4.440000000000001]\n"
     ]
    }
   ],
   "source": [
    "difference4_mon = []\n",
    "\n",
    "zip_object = zip(temp, temp_crn)\n",
    "for temp_i, temp_crn_i in zip_object:\n",
    "    difference4_mon.append(temp_i-temp_crn_i)\n",
    "\n",
    "print(difference4_mon)"
   ]
  },
  {
   "cell_type": "markdown",
   "id": "dbfdd9c6",
   "metadata": {},
   "source": [
    "<font size=\"3\">Holly Springs, MS: 0600 UTC (12:00 am CST) 01 March 2022-0600 UTC (12:00 am CST) 02 March 2022</font>"
   ]
  },
  {
   "cell_type": "code",
   "execution_count": 122,
   "id": "055b4b13",
   "metadata": {},
   "outputs": [
    {
     "name": "stdout",
     "output_type": "stream",
     "text": [
      "[9.23001, 8.69, 6.70001, 6.24002, 5.34, 4.92001, 4.48001, 7.67999, 11.28, 14.14, 16.87, 20.55, 23.32, 24.65, 25.36, 24.55, 22.46, 19.91, 16.52, 13.2, 11.68, 10.82, 10.05, 9.29001, 8.77002]\n"
     ]
    }
   ],
   "source": [
    "#1 hr hrrr:\n",
    "with open('hrrr_f18_Holly Springs_MS.txt') as f:\n",
    "    lst=[line.split()[4] for line in f]\n",
    "    temp=[]\n",
    "    for i in lst:\n",
    "        new=i.replace(',',\"\")\n",
    "        temp.append(new)\n",
    "    temp.pop(0)\n",
    "    temp=[float(x) for x in temp]\n",
    "    temp=temp[2196:2221]\n",
    "    #temp=temp[2015:2063]\n",
    "    print(temp)\n",
    "    #print(len(temp))\n",
    "#full time period is [2015:2112]"
   ]
  },
  {
   "cell_type": "code",
   "execution_count": 123,
   "id": "13e28750",
   "metadata": {},
   "outputs": [
    {
     "name": "stdout",
     "output_type": "stream",
     "text": [
      "[7.7, 5.5, 5.6, 4.5, 3.7, 3.0999999999999996, 2.7, 9.0, 12.5, 16.549999999999997, 20.5, 23.75, 26.200000000000003, 26.700000000000003, 26.05, 24.200000000000003, 21.05, 16.700000000000003, 10.85, 8.1, 7.05, 6.2, 5.45, 5.1, 5.35]\n"
     ]
    }
   ],
   "source": [
    "#Air Temp CRN:\n",
    "with open('CRNS0101-05-2022-MS_Holly_Springs_4_N.txt') as f:\n",
    "    lst=[line.split()[12] for line in f]\n",
    "    \n",
    "    a=(float(lst[26567])+float(lst[26568]))/2\n",
    "    b=(float(lst[26579])+float(lst[26580]))/2\n",
    "    c=(float(lst[26591])+float(lst[26592]))/2\n",
    "    d=(float(lst[26603])+float(lst[26604]))/2\n",
    "    e=(float(lst[26615])+float(lst[26616]))/2\n",
    "    f=(float(lst[26627])+float(lst[26628]))/2\n",
    "    g=(float(lst[26639])+float(lst[26640]))/2\n",
    "    h=(float(lst[26651])+float(lst[26652]))/2\n",
    "    i=(float(lst[26663])+float(lst[26664]))/2\n",
    "    j=(float(lst[26675])+float(lst[26676]))/2\n",
    "    k=(float(lst[26687])+float(lst[26688]))/2\n",
    "    l=(float(lst[26699])+float(lst[26700]))/2\n",
    "    m=(float(lst[26711])+float(lst[26712]))/2\n",
    "    n=(float(lst[26723])+float(lst[26724]))/2\n",
    "    o=(float(lst[26735])+float(lst[26736]))/2\n",
    "    p=(float(lst[26747])+float(lst[26748]))/2\n",
    "    q=(float(lst[26759])+float(lst[26760]))/2\n",
    "    r=(float(lst[26773])+float(lst[26774]))/2\n",
    "    s=(float(lst[26783])+float(lst[26784]))/2\n",
    "    t=(float(lst[26795])+float(lst[26796]))/2\n",
    "    u=(float(lst[26807])+float(lst[26808]))/2\n",
    "    v=(float(lst[26819])+float(lst[26820]))/2\n",
    "    w=(float(lst[26831])+float(lst[26832]))/2\n",
    "    x=(float(lst[26843])+float(lst[26844]))/2\n",
    "    y=(float(lst[26855])+float(lst[26856]))/2\n",
    "    \n",
    "    temp_crn=[a,b,c,d,e,f,g,h,i,j,k,l,m,n,o,p,q,r,s,t,u,v,w,x,y]\n",
    "    print(temp_crn)"
   ]
  },
  {
   "cell_type": "code",
   "execution_count": 124,
   "id": "6836c3bb",
   "metadata": {},
   "outputs": [
    {
     "name": "stdout",
     "output_type": "stream",
     "text": [
      "[1.5300099999999999, 3.1899999999999995, 1.1000100000000002, 1.7400200000000003, 1.6399999999999997, 1.8200100000000008, 1.7800099999999999, -1.32001, -1.2200000000000006, -2.4099999999999966, -3.629999999999999, -3.1999999999999993, -2.8800000000000026, -2.0500000000000043, -0.6900000000000013, 0.34999999999999787, 1.4100000000000001, 3.2099999999999973, 5.67, 5.1, 4.63, 4.62, 4.6000000000000005, 4.190010000000001, 3.420020000000001]\n"
     ]
    }
   ],
   "source": [
    "difference4_hol = []\n",
    "\n",
    "zip_object = zip(temp, temp_crn)\n",
    "for temp_i, temp_crn_i in zip_object:\n",
    "    difference4_hol.append(temp_i-temp_crn_i)\n",
    "\n",
    "print(difference4_hol)"
   ]
  },
  {
   "cell_type": "markdown",
   "id": "9c7354c6",
   "metadata": {},
   "source": [
    "<font size=\"3\">Newton, MS: 0600 UTC (12:00 am CST) 01 March 2022-0600 UTC (12:00 am CST) 02 March 2022</font>"
   ]
  },
  {
   "cell_type": "code",
   "execution_count": 125,
   "id": "93316a90",
   "metadata": {},
   "outputs": [
    {
     "name": "stdout",
     "output_type": "stream",
     "text": [
      "[11.93, 11.83, 11.17, 11.91, 9.91, 8.81, 8.22, 12.69, 18.04, 23.26, 27.07, 29.98, 30.86, 31.0, 30.79, 29.74, 27.45, 24.05, 20.96, 18.02, 16.85, 15.38, 14.15, 12.71, 12.23]\n"
     ]
    }
   ],
   "source": [
    "#1 hr hrrr:\n",
    "with open('hrrr_f18_Newton_MS.txt') as f:\n",
    "    lst=[line.split()[4] for line in f]\n",
    "    temp=[]\n",
    "    for i in lst:\n",
    "        new=i.replace(',',\"\")\n",
    "        temp.append(new)\n",
    "    temp.pop(0)\n",
    "    temp=[float(x) for x in temp]\n",
    "    temp=temp[2196:2221]\n",
    "    #temp=temp[2015:2063]\n",
    "    print(temp)\n",
    "    #print(len(temp))\n",
    "#full time period is [2015:2112]"
   ]
  },
  {
   "cell_type": "code",
   "execution_count": 126,
   "id": "17e49fc9",
   "metadata": {},
   "outputs": [
    {
     "name": "stdout",
     "output_type": "stream",
     "text": [
      "[7.55, 7.1, 6.5, 6.2, 5.55, 5.2, 5.35, 11.899999999999999, 19.85, 24.9, 28.450000000000003, 31.4, 32.15, 31.700000000000003, 31.15, 30.5, 28.1, 23.65, 18.1, 13.1, 11.350000000000001, 10.05, 9.25, 8.25, 7.45]\n"
     ]
    }
   ],
   "source": [
    "#Air Temp CRN:\n",
    "with open('CRNS0101-05-2022-MS_Newton_5_ENE.txt') as f:\n",
    "    lst=[line.split()[12] for line in f]\n",
    "    \n",
    "    a=(float(lst[26567])+float(lst[26568]))/2\n",
    "    b=(float(lst[26579])+float(lst[26580]))/2\n",
    "    c=(float(lst[26591])+float(lst[26592]))/2\n",
    "    d=(float(lst[26603])+float(lst[26604]))/2\n",
    "    e=(float(lst[26615])+float(lst[26616]))/2\n",
    "    f=(float(lst[26627])+float(lst[26628]))/2\n",
    "    g=(float(lst[26639])+float(lst[26640]))/2\n",
    "    h=(float(lst[26651])+float(lst[26652]))/2\n",
    "    i=(float(lst[26663])+float(lst[26664]))/2\n",
    "    j=(float(lst[26675])+float(lst[26676]))/2\n",
    "    k=(float(lst[26687])+float(lst[26688]))/2\n",
    "    l=(float(lst[26699])+float(lst[26700]))/2\n",
    "    m=(float(lst[26711])+float(lst[26712]))/2\n",
    "    n=(float(lst[26723])+float(lst[26724]))/2\n",
    "    o=(float(lst[26735])+float(lst[26736]))/2\n",
    "    p=(float(lst[26747])+float(lst[26748]))/2\n",
    "    q=(float(lst[26759])+float(lst[26760]))/2\n",
    "    r=(float(lst[26773])+float(lst[26774]))/2\n",
    "    s=(float(lst[26783])+float(lst[26784]))/2\n",
    "    t=(float(lst[26795])+float(lst[26796]))/2\n",
    "    u=(float(lst[26807])+float(lst[26808]))/2\n",
    "    v=(float(lst[26819])+float(lst[26820]))/2\n",
    "    w=(float(lst[26831])+float(lst[26832]))/2\n",
    "    x=(float(lst[26843])+float(lst[26844]))/2\n",
    "    y=(float(lst[26855])+float(lst[26856]))/2\n",
    "    \n",
    "    temp_crn=[a,b,c,d,e,f,g,h,i,j,k,l,m,n,o,p,q,r,s,t,u,v,w,x,y]\n",
    "    print(temp_crn)"
   ]
  },
  {
   "cell_type": "code",
   "execution_count": 127,
   "id": "895bb872",
   "metadata": {},
   "outputs": [
    {
     "name": "stdout",
     "output_type": "stream",
     "text": [
      "[4.38, 4.73, 4.67, 5.71, 4.36, 3.6100000000000003, 2.870000000000001, 0.7900000000000009, -1.8100000000000023, -1.639999999999997, -1.3800000000000026, -1.4199999999999982, -1.2899999999999991, -0.7000000000000028, -0.35999999999999943, -0.7600000000000016, -0.6500000000000021, 0.40000000000000213, 2.8599999999999994, 4.92, 5.5, 5.33, 4.9, 4.460000000000001, 4.78]\n"
     ]
    }
   ],
   "source": [
    "difference4_new = []\n",
    "\n",
    "zip_object = zip(temp, temp_crn)\n",
    "for temp_i, temp_crn_i in zip_object:\n",
    "    difference4_new.append(temp_i-temp_crn_i)\n",
    "\n",
    "print(difference4_new)"
   ]
  },
  {
   "cell_type": "markdown",
   "id": "9e553db4",
   "metadata": {},
   "source": [
    "<font size=\"3\">Gainesville, AL: 0600 UTC (12:00 am CST) 01 March 2022-0600 UTC (12:00 am CST) 02 March 2022</font>"
   ]
  },
  {
   "cell_type": "code",
   "execution_count": 128,
   "id": "34bf4646",
   "metadata": {},
   "outputs": [],
   "source": [
    "# #1 hr hrrr:\n",
    "# with open('hrrr_f18_Gainesville_AL.txt') as f:\n",
    "#     lst=[line.split()[4] for line in f]\n",
    "#     temp=[]\n",
    "#     for i in lst:\n",
    "#         new=i.replace(',',\"\")\n",
    "#         temp.append(new)\n",
    "#     temp.pop(0)\n",
    "#     temp=[float(x) for x in temp]\n",
    "#     temp=temp[2196:2221]\n",
    "#     #temp=temp[2015:2063]\n",
    "#     print(temp)\n",
    "#     #print(len(temp))\n",
    "# #full time period is [2015:2112]"
   ]
  },
  {
   "cell_type": "code",
   "execution_count": 129,
   "id": "67168607",
   "metadata": {},
   "outputs": [],
   "source": [
    "# #Air Temp CRN:\n",
    "# with open('CRNH0203-2022-AL_Gainesville_2_NE.txt') as f:\n",
    "#     lst=[line.split()[13] for line in f]\n",
    "#     #prfloat(lst)\n",
    "#     temp_crn=[]\n",
    "#     for i in lst:\n",
    "#         new=i.replace(',',\"\")\n",
    "#         temp_crn.append(new)\n",
    "#     temp_crn=[float(x) for x in temp_crn]\n",
    "#     temp_crn=temp_crn[2213:2238]\n",
    "#     print(temp_crn)\n",
    "#     #print(len(temp_crn))\n",
    "#     # print(temp_crn[2124])"
   ]
  },
  {
   "cell_type": "code",
   "execution_count": 130,
   "id": "4baf3368",
   "metadata": {},
   "outputs": [],
   "source": [
    "# difference4_gai = []\n",
    "\n",
    "# zip_object = zip(temp, temp_crn)\n",
    "# for temp_i, temp_crn_i in zip_object:\n",
    "#     difference4_gai.append(temp_i-temp_crn_i)\n",
    "\n",
    "# print(difference4_gai)"
   ]
  },
  {
   "cell_type": "markdown",
   "id": "7dcabe11",
   "metadata": {},
   "source": [
    "<font size=\"3\">Fairhope, AL: 0600 UTC (12:00 am CST) 01 March 2022-0600 UTC (12:00 am CST) 02 March 2022</font>"
   ]
  },
  {
   "cell_type": "code",
   "execution_count": 131,
   "id": "66bf707b",
   "metadata": {},
   "outputs": [
    {
     "name": "stdout",
     "output_type": "stream",
     "text": [
      "[12.29, 11.17, 10.77, 10.6, 10.3, 9.91, 10.1, 14.06, 19.2, 23.52, 27.23, 29.92, 31.58, 31.87, 31.57, 30.28, 28.07, 24.97, 21.7, 18.73, 16.94, 15.96, 15.21, 14.58, 14.06]\n"
     ]
    }
   ],
   "source": [
    "#1 hr hrrr:\n",
    "with open('hrrr_f18_Fairhope_AL.txt') as f:\n",
    "    lst=[line.split()[4] for line in f]\n",
    "    temp=[]\n",
    "    for i in lst:\n",
    "        new=i.replace(',',\"\")\n",
    "        temp.append(new)\n",
    "    temp.pop(0)\n",
    "    temp=[float(x) for x in temp]\n",
    "    temp=temp[2196:2221]\n",
    "    #temp=temp[2015:2063]\n",
    "    print(temp)\n",
    "    #print(len(temp))\n",
    "#full time period is [2015:2112]"
   ]
  },
  {
   "cell_type": "code",
   "execution_count": 132,
   "id": "e6d98c95",
   "metadata": {},
   "outputs": [
    {
     "name": "stdout",
     "output_type": "stream",
     "text": [
      "[5.5, 5.05, 5.25, 4.7, 4.5, 4.5, 5.949999999999999, 14.25, 20.8, 26.15, 30.3, 33.05, 32.05, 32.6, 30.9, 27.7, 25.3, 20.3, 14.65, 10.100000000000001, 9.8, 9.350000000000001, 8.25, 8.05, 7.7]\n"
     ]
    }
   ],
   "source": [
    "#Air Temp CRN:\n",
    "with open('CRNS0101-05-2022-AL_Fairhope_3_NE.txt') as f:\n",
    "    lst=[line.split()[12] for line in f]\n",
    "    \n",
    "    a=(float(lst[26567])+float(lst[26568]))/2\n",
    "    b=(float(lst[26579])+float(lst[26580]))/2\n",
    "    c=(float(lst[26591])+float(lst[26592]))/2\n",
    "    d=(float(lst[26603])+float(lst[26604]))/2\n",
    "    e=(float(lst[26615])+float(lst[26616]))/2\n",
    "    f=(float(lst[26627])+float(lst[26628]))/2\n",
    "    g=(float(lst[26639])+float(lst[26640]))/2\n",
    "    h=(float(lst[26651])+float(lst[26652]))/2\n",
    "    i=(float(lst[26663])+float(lst[26664]))/2\n",
    "    j=(float(lst[26675])+float(lst[26676]))/2\n",
    "    k=(float(lst[26687])+float(lst[26688]))/2\n",
    "    l=(float(lst[26699])+float(lst[26700]))/2\n",
    "    m=(float(lst[26711])+float(lst[26712]))/2\n",
    "    n=(float(lst[26723])+float(lst[26724]))/2\n",
    "    o=(float(lst[26735])+float(lst[26736]))/2\n",
    "    p=(float(lst[26747])+float(lst[26748]))/2\n",
    "    q=(float(lst[26759])+float(lst[26760]))/2\n",
    "    r=(float(lst[26773])+float(lst[26774]))/2\n",
    "    s=(float(lst[26783])+float(lst[26784]))/2\n",
    "    t=(float(lst[26795])+float(lst[26796]))/2\n",
    "    u=(float(lst[26807])+float(lst[26808]))/2\n",
    "    v=(float(lst[26819])+float(lst[26820]))/2\n",
    "    w=(float(lst[26831])+float(lst[26832]))/2\n",
    "    x=(float(lst[26843])+float(lst[26844]))/2\n",
    "    y=(float(lst[26855])+float(lst[26856]))/2\n",
    "    \n",
    "    temp_crn=[a,b,c,d,e,f,g,h,i,j,k,l,m,n,o,p,q,r,s,t,u,v,w,x,y]\n",
    "    print(temp_crn)"
   ]
  },
  {
   "cell_type": "code",
   "execution_count": 133,
   "id": "320724ae",
   "metadata": {},
   "outputs": [
    {
     "name": "stdout",
     "output_type": "stream",
     "text": [
      "[6.789999999999999, 6.12, 5.52, 5.8999999999999995, 5.800000000000001, 5.41, 4.15, -0.1899999999999995, -1.6000000000000014, -2.629999999999999, -3.0700000000000003, -3.1299999999999955, -0.46999999999999886, -0.7300000000000004, 0.6700000000000017, 2.580000000000002, 2.7699999999999996, 4.669999999999998, 7.049999999999999, 8.629999999999999, 7.140000000000001, 6.609999999999999, 6.960000000000001, 6.529999999999999, 6.36]\n"
     ]
    }
   ],
   "source": [
    "difference4_fai = []\n",
    "\n",
    "zip_object = zip(temp, temp_crn)\n",
    "for temp_i, temp_crn_i in zip_object:\n",
    "    difference4_fai.append(temp_i-temp_crn_i)\n",
    "\n",
    "print(difference4_fai)"
   ]
  },
  {
   "cell_type": "markdown",
   "id": "057898bf",
   "metadata": {},
   "source": [
    "<font size=\"3\">**Selma, AL: 0600 UTC (12:00 am CST) 01 March 2022-0600 UTC (12:00 am CST) 02 March 2022</font>"
   ]
  },
  {
   "cell_type": "code",
   "execution_count": 134,
   "id": "dd6c27fb",
   "metadata": {},
   "outputs": [
    {
     "name": "stdout",
     "output_type": "stream",
     "text": [
      "[10.2, 9.45001, 9.06, 8.92001, 8.06, 7.57001, 7.41, 11.41, 15.09, 18.47, 21.09, 23.35, 24.48, 25.9, 26.59, 25.93, 23.75, 21.03, 17.77, 14.84, 13.46, 12.54, 11.62, 10.48, 9.79001]\n"
     ]
    }
   ],
   "source": [
    "#1 hr hrrr:\n",
    "import numpy as np\n",
    "import numpy.ma as ma\n",
    "with open('hrrr_f18_Selma_AL.txt') as f:\n",
    "    lst=[line.split()[4] for line in f]\n",
    "    temp=[]\n",
    "    for i in lst:\n",
    "        new=i.replace(',',\"\")\n",
    "        temp.append(new)\n",
    "    temp.pop(0)\n",
    "    temp=[float(x) for x in temp]\n",
    "    temp=temp[2196:2221]\n",
    "    print(temp)\n"
   ]
  },
  {
   "cell_type": "code",
   "execution_count": 135,
   "id": "b91246e9",
   "metadata": {},
   "outputs": [
    {
     "name": "stdout",
     "output_type": "stream",
     "text": [
      "[8.75, 8.1, 7.45, 7.05, 6.65, 5.85, 6.85, 14.3, 19.9, 24.35, 29.049999999999997, 31.05, 32.8, 33.099999999999994, 32.65, 31.200000000000003, 27.4, 22.3, 17.85, 13.85, 11.95, 10.8, 9.6, 8.6, 7.7]\n"
     ]
    }
   ],
   "source": [
    "#Air Temp CRN:\n",
    "with open('CRNS0101-05-2022-AL_Selma_13_WNW.txt') as f:\n",
    "    lst=[line.split()[12] for line in f]\n",
    "    \n",
    "    a=(float(lst[26567])+float(lst[26568]))/2\n",
    "    b=(float(lst[26579])+float(lst[26580]))/2\n",
    "    c=(float(lst[26591])+float(lst[26592]))/2\n",
    "    d=(float(lst[26603])+float(lst[26604]))/2\n",
    "    e=(float(lst[26615])+float(lst[26616]))/2\n",
    "    f=(float(lst[26627])+float(lst[26628]))/2\n",
    "    g=(float(lst[26639])+float(lst[26640]))/2\n",
    "    h=(float(lst[26651])+float(lst[26652]))/2\n",
    "    i=(float(lst[26663])+float(lst[26664]))/2\n",
    "    j=(float(lst[26675])+float(lst[26676]))/2\n",
    "    k=(float(lst[26687])+float(lst[26688]))/2\n",
    "    l=(float(lst[26699])+float(lst[26700]))/2\n",
    "    m=(float(lst[26711])+float(lst[26712]))/2\n",
    "    n=(float(lst[26723])+float(lst[26724]))/2\n",
    "    o=(float(lst[26735])+float(lst[26736]))/2\n",
    "    p=(float(lst[26747])+float(lst[26748]))/2\n",
    "    q=(float(lst[26759])+float(lst[26760]))/2\n",
    "    r=(float(lst[26773])+float(lst[26774]))/2\n",
    "    s=(float(lst[26783])+float(lst[26784]))/2\n",
    "    t=(float(lst[26795])+float(lst[26796]))/2\n",
    "    u=(float(lst[26807])+float(lst[26808]))/2\n",
    "    v=(float(lst[26819])+float(lst[26820]))/2\n",
    "    w=(float(lst[26831])+float(lst[26832]))/2\n",
    "    x=(float(lst[26843])+float(lst[26844]))/2\n",
    "    y=(float(lst[26855])+float(lst[26856]))/2\n",
    "    \n",
    "    temp_crn=[a,b,c,d,e,f,g,h,i,j,k,l,m,n,o,p,q,r,s,t,u,v,w,x,y]\n",
    "    print(temp_crn)"
   ]
  },
  {
   "cell_type": "code",
   "execution_count": 136,
   "id": "38eaf77e",
   "metadata": {},
   "outputs": [
    {
     "name": "stdout",
     "output_type": "stream",
     "text": [
      "[1.4499999999999993, 1.350010000000001, 1.6100000000000003, 1.8700099999999997, 1.4100000000000001, 1.7200100000000003, 0.5600000000000005, -2.8900000000000006, -4.809999999999999, -5.880000000000003, -7.959999999999997, -7.699999999999999, -8.319999999999997, -7.199999999999996, -6.059999999999999, -5.270000000000003, -3.6499999999999986, -1.2699999999999996, -0.08000000000000185, 0.9900000000000002, 1.5100000000000016, 1.7399999999999984, 2.0199999999999996, 1.8800000000000008, 2.0900100000000004]\n"
     ]
    }
   ],
   "source": [
    "difference4_sel = []\n",
    "\n",
    "zip_object = zip(temp, temp_crn)\n",
    "for temp_i, temp_crn_i in zip_object:\n",
    "    difference4_sel.append(temp_i-temp_crn_i)\n",
    "\n",
    "print(difference4_sel)\n",
    "#print(len(difference3_sel))"
   ]
  },
  {
   "cell_type": "markdown",
   "id": "cb37cdb6",
   "metadata": {},
   "source": [
    "<font size=\"3\">Bowling Green, KY: 0600 UTC (12:00 am CST) 01 March 2022-0600 UTC (12:00 am CST) 02 March 2022</font>"
   ]
  },
  {
   "cell_type": "code",
   "execution_count": 137,
   "id": "14e1ecd0",
   "metadata": {},
   "outputs": [
    {
     "name": "stdout",
     "output_type": "stream",
     "text": [
      "[4.76001, 4.22, 3.35001, 3.49002, 2.55002, 1.69, 1.5, 4.87, 8.66, 12.82, 16.93, 20.57, 22.11, 22.65, 22.73, 21.43, 19.18, 16.03, 12.4, 10.26, 9.27002, 8.97, 7.73001, 7.89001, 6.88]\n"
     ]
    }
   ],
   "source": [
    "#1 hr hrrr:\n",
    "with open('hrrr_f18_Bowling Green_KY.txt') as f:\n",
    "    lst=[line.split()[4] for line in f]\n",
    "    temp=[]\n",
    "    for i in lst:\n",
    "        new=i.replace(',',\"\")\n",
    "        temp.append(new)\n",
    "    temp.pop(0)\n",
    "    temp=[float(x) for x in temp]\n",
    "    temp=temp[2196:2221]\n",
    "    #temp=temp[2015:2063]\n",
    "    print(temp)\n",
    "    #print(len(temp))\n",
    "#full time period is [2015:2112]"
   ]
  },
  {
   "cell_type": "code",
   "execution_count": 138,
   "id": "80d9d555",
   "metadata": {},
   "outputs": [
    {
     "name": "stdout",
     "output_type": "stream",
     "text": [
      "[0.55, -0.45, -0.65, -1.65, -2.2, -2.55, -1.2, 7.75, 13.05, 17.95, 21.95, 25.0, 26.049999999999997, 26.5, 24.950000000000003, 22.85, 17.75, 11.55, 5.8, 3.9, 2.95, 4.699999999999999, 3.65, 3.1, 5.45]\n"
     ]
    }
   ],
   "source": [
    "#Air Temp CRN:\n",
    "with open('CRNS0101-05-2022-KY_Bowling_Green_21_NNE.txt') as f:\n",
    "    lst=[line.split()[12] for line in f]\n",
    "    \n",
    "    a=(float(lst[26567])+float(lst[26568]))/2\n",
    "    b=(float(lst[26579])+float(lst[26580]))/2\n",
    "    c=(float(lst[26591])+float(lst[26592]))/2\n",
    "    d=(float(lst[26603])+float(lst[26604]))/2\n",
    "    e=(float(lst[26615])+float(lst[26616]))/2\n",
    "    f=(float(lst[26627])+float(lst[26628]))/2\n",
    "    g=(float(lst[26639])+float(lst[26640]))/2\n",
    "    h=(float(lst[26651])+float(lst[26652]))/2\n",
    "    i=(float(lst[26663])+float(lst[26664]))/2\n",
    "    j=(float(lst[26675])+float(lst[26676]))/2\n",
    "    k=(float(lst[26687])+float(lst[26688]))/2\n",
    "    l=(float(lst[26699])+float(lst[26700]))/2\n",
    "    m=(float(lst[26711])+float(lst[26712]))/2\n",
    "    n=(float(lst[26723])+float(lst[26724]))/2\n",
    "    o=(float(lst[26735])+float(lst[26736]))/2\n",
    "    p=(float(lst[26747])+float(lst[26748]))/2\n",
    "    q=(float(lst[26759])+float(lst[26760]))/2\n",
    "    r=(float(lst[26773])+float(lst[26774]))/2\n",
    "    s=(float(lst[26783])+float(lst[26784]))/2\n",
    "    t=(float(lst[26795])+float(lst[26796]))/2\n",
    "    u=(float(lst[26807])+float(lst[26808]))/2\n",
    "    v=(float(lst[26819])+float(lst[26820]))/2\n",
    "    w=(float(lst[26831])+float(lst[26832]))/2\n",
    "    x=(float(lst[26843])+float(lst[26844]))/2\n",
    "    y=(float(lst[26855])+float(lst[26856]))/2\n",
    "    \n",
    "    temp_crn=[a,b,c,d,e,f,g,h,i,j,k,l,m,n,o,p,q,r,s,t,u,v,w,x,y]\n",
    "    print(temp_crn)"
   ]
  },
  {
   "cell_type": "code",
   "execution_count": 139,
   "id": "cbe21805",
   "metadata": {},
   "outputs": [
    {
     "name": "stdout",
     "output_type": "stream",
     "text": [
      "[4.2100100000000005, 4.67, 4.0000100000000005, 5.14002, 4.75002, 4.24, 2.7, -2.88, -4.390000000000001, -5.129999999999999, -5.02, -4.43, -3.9399999999999977, -3.8500000000000014, -2.2200000000000024, -1.4200000000000017, 1.4299999999999997, 4.48, 6.6000000000000005, 6.359999999999999, 6.32002, 4.270000000000001, 4.08001, 4.7900100000000005, 1.4299999999999997]\n"
     ]
    }
   ],
   "source": [
    "difference4_bow = []\n",
    "\n",
    "zip_object = zip(temp, temp_crn)\n",
    "for temp_i, temp_crn_i in zip_object:\n",
    "    difference4_bow.append(temp_i-temp_crn_i)\n",
    "\n",
    "print(difference4_bow)"
   ]
  },
  {
   "cell_type": "markdown",
   "id": "b962f206",
   "metadata": {},
   "source": [
    "<font size=\"3\">Gadsden, AL: 0600 UTC (12:00 am CST) 01 March 2022-0600 UTC (12:00 am CST) 02 March 2022</font>"
   ]
  },
  {
   "cell_type": "code",
   "execution_count": 140,
   "id": "e76025fd",
   "metadata": {},
   "outputs": [
    {
     "name": "stdout",
     "output_type": "stream",
     "text": [
      "[10.57, 10.37, 9.64999, 8.95001, 8.10001, 7.05002, 6.75, 9.14999, 12.75, 16.14, 19.15, 21.72, 22.92, 23.35, 23.12, 22.07, 19.65, 16.94, 13.85, 11.94, 10.98, 9.64999, 8.82001, 7.74002, 6.80002]\n"
     ]
    }
   ],
   "source": [
    "#1 hr hrrr:\n",
    "with open('hrrr_f18_Gadsden_AL.txt') as f:\n",
    "    lst=[line.split()[4] for line in f]\n",
    "    temp=[]\n",
    "    for i in lst:\n",
    "        new=i.replace(',',\"\")\n",
    "        temp.append(new)\n",
    "    temp.pop(0)\n",
    "    temp=[float(x) for x in temp]\n",
    "    temp=temp[2196:2221]\n",
    "#     x = np.array(temp)\n",
    "#     temp = ma.masked_array(x, mask=[0, 0, 0, 0, 0,0,0,0,1,0,0,0,0,0,0,0,0,0,0,0,0,0,0,0,0])\n",
    "    #temp=temp[2015:2063]\n",
    "    print(temp)\n",
    "    #print(len(temp))\n",
    "#full time period is [2015:2112]"
   ]
  },
  {
   "cell_type": "code",
   "execution_count": 141,
   "id": "94193a19",
   "metadata": {},
   "outputs": [
    {
     "name": "stdout",
     "output_type": "stream",
     "text": [
      "[4.95, 4.65, 4.4, 3.75, 5.7, 5.25, 6.5, 10.850000000000001, 13.649999999999999, 18.15, 20.55, 22.75, 24.05, 24.3, 24.3, 21.05, 19.25, 14.8, 10.15, 8.3, 7.25, 6.15, 4.8, 4.15, 4.8]\n"
     ]
    }
   ],
   "source": [
    "#Air Temp CRN:\n",
    "with open('CRNS0101-05-2022-AL_Gadsden_19_N.txt') as f:\n",
    "    lst=[line.split()[12] for line in f]\n",
    "    \n",
    "    a=(float(lst[26567])+float(lst[26568]))/2\n",
    "    b=(float(lst[26579])+float(lst[26580]))/2\n",
    "    c=(float(lst[26591])+float(lst[26592]))/2\n",
    "    d=(float(lst[26603])+float(lst[26604]))/2\n",
    "    e=(float(lst[26615])+float(lst[26616]))/2\n",
    "    f=(float(lst[26627])+float(lst[26628]))/2\n",
    "    g=(float(lst[26639])+float(lst[26640]))/2\n",
    "    h=(float(lst[26651])+float(lst[26652]))/2\n",
    "    i=(float(lst[26663])+float(lst[26664]))/2\n",
    "    j=(float(lst[26675])+float(lst[26676]))/2\n",
    "    k=(float(lst[26687])+float(lst[26688]))/2\n",
    "    l=(float(lst[26699])+float(lst[26700]))/2\n",
    "    m=(float(lst[26711])+float(lst[26712]))/2\n",
    "    n=(float(lst[26723])+float(lst[26724]))/2\n",
    "    o=(float(lst[26735])+float(lst[26736]))/2\n",
    "    p=(float(lst[26747])+float(lst[26748]))/2\n",
    "    q=(float(lst[26759])+float(lst[26760]))/2\n",
    "    r=(float(lst[26773])+float(lst[26774]))/2\n",
    "    s=(float(lst[26783])+float(lst[26784]))/2\n",
    "    t=(float(lst[26795])+float(lst[26796]))/2\n",
    "    u=(float(lst[26807])+float(lst[26808]))/2\n",
    "    v=(float(lst[26819])+float(lst[26820]))/2\n",
    "    w=(float(lst[26831])+float(lst[26832]))/2\n",
    "    x=(float(lst[26843])+float(lst[26844]))/2\n",
    "    y=(float(lst[26855])+float(lst[26856]))/2\n",
    "    \n",
    "    temp_crn=[a,b,c,d,e,f,g,h,i,j,k,l,m,n,o,p,q,r,s,t,u,v,w,x,y]\n",
    "    print(temp_crn)"
   ]
  },
  {
   "cell_type": "code",
   "execution_count": 142,
   "id": "fd78be39",
   "metadata": {},
   "outputs": [
    {
     "name": "stdout",
     "output_type": "stream",
     "text": [
      "[5.62, 5.719999999999999, 5.24999, 5.200010000000001, 2.400009999999999, 1.80002, 0.25, -1.7000100000000007, -0.8999999999999986, -2.009999999999998, -1.4000000000000021, -1.0300000000000011, -1.129999999999999, -0.9499999999999993, -1.1799999999999997, 1.0199999999999996, 0.3999999999999986, 2.1400000000000006, 3.6999999999999993, 3.639999999999999, 3.7300000000000004, 3.4999900000000004, 4.02001, 3.59002, 2.00002]\n"
     ]
    }
   ],
   "source": [
    "difference4_gad = []\n",
    "\n",
    "zip_object = zip(temp, temp_crn)\n",
    "for temp_i, temp_crn_i in zip_object:\n",
    "    difference4_gad.append(temp_i-temp_crn_i)\n",
    "\n",
    "print(difference4_gad)"
   ]
  },
  {
   "cell_type": "markdown",
   "id": "de9fab15",
   "metadata": {},
   "source": [
    "<font size=\"3\">Newton, GA: 0600 UTC (12:00 am CST) 01 March 2022-0600 UTC (12:00 am CST) 02 March 2022</font>"
   ]
  },
  {
   "cell_type": "code",
   "execution_count": 143,
   "id": "ee45f74b",
   "metadata": {},
   "outputs": [
    {
     "name": "stdout",
     "output_type": "stream",
     "text": [
      "[12.26, 10.74, 10.5, 9.78, 9.30002, 9.72, 9.92001, 14.34, 18.73, 22.59, 25.29, 27.98, 29.53, 30.38, 29.87, 28.62, 26.54, 23.54, 19.4, 16.58, 15.42, 14.17, 13.25, 12.52, 11.17]\n"
     ]
    }
   ],
   "source": [
    "#1 hr hrrr:\n",
    "with open('hrrr_f18_Newton_GA.txt') as f:\n",
    "    lst=[line.split()[4] for line in f]\n",
    "    temp=[]\n",
    "    for i in lst:\n",
    "        new=i.replace(',',\"\")\n",
    "        temp.append(new)\n",
    "    temp.pop(0)\n",
    "    temp=[float(x) for x in temp]\n",
    "    temp=temp[2196:2221]\n",
    "    #temp=temp[2015:2063]\n",
    "    print(temp)\n",
    "    #print(len(temp))\n",
    "#full time period is [2015:2112]"
   ]
  },
  {
   "cell_type": "code",
   "execution_count": 144,
   "id": "79e42b34",
   "metadata": {},
   "outputs": [
    {
     "name": "stdout",
     "output_type": "stream",
     "text": [
      "[9.5, 9.1, 8.7, 8.5, 8.25, 7.9, 9.7, 14.3, 18.25, 23.6, 26.85, 29.45, 31.85, 31.9, 30.6, 28.6, 26.049999999999997, 20.9, 16.05, 13.8, 12.8, 11.95, 11.2, 10.6, 10.1]\n"
     ]
    }
   ],
   "source": [
    "#Air Temp CRN:\n",
    "with open('CRNS0101-05-2022-GA_Newton_11_SW.txt') as f:\n",
    "    lst=[line.split()[12] for line in f]\n",
    "    \n",
    "    a=(float(lst[26567])+float(lst[26568]))/2\n",
    "    b=(float(lst[26579])+float(lst[26580]))/2\n",
    "    c=(float(lst[26591])+float(lst[26592]))/2\n",
    "    d=(float(lst[26603])+float(lst[26604]))/2\n",
    "    e=(float(lst[26615])+float(lst[26616]))/2\n",
    "    f=(float(lst[26627])+float(lst[26628]))/2\n",
    "    g=(float(lst[26639])+float(lst[26640]))/2\n",
    "    h=(float(lst[26651])+float(lst[26652]))/2\n",
    "    i=(float(lst[26663])+float(lst[26664]))/2\n",
    "    j=(float(lst[26675])+float(lst[26676]))/2\n",
    "    k=(float(lst[26687])+float(lst[26688]))/2\n",
    "    l=(float(lst[26699])+float(lst[26700]))/2\n",
    "    m=(float(lst[26711])+float(lst[26712]))/2\n",
    "    n=(float(lst[26723])+float(lst[26724]))/2\n",
    "    o=(float(lst[26735])+float(lst[26736]))/2\n",
    "    p=(float(lst[26747])+float(lst[26748]))/2\n",
    "    q=(float(lst[26759])+float(lst[26760]))/2\n",
    "    r=(float(lst[26773])+float(lst[26774]))/2\n",
    "    s=(float(lst[26783])+float(lst[26784]))/2\n",
    "    t=(float(lst[26795])+float(lst[26796]))/2\n",
    "    u=(float(lst[26807])+float(lst[26808]))/2\n",
    "    v=(float(lst[26819])+float(lst[26820]))/2\n",
    "    w=(float(lst[26831])+float(lst[26832]))/2\n",
    "    x=(float(lst[26843])+float(lst[26844]))/2\n",
    "    y=(float(lst[26855])+float(lst[26856]))/2\n",
    "    \n",
    "    temp_crn=[a,b,c,d,e,f,g,h,i,j,k,l,m,n,o,p,q,r,s,t,u,v,w,x,y]\n",
    "    print(temp_crn)"
   ]
  },
  {
   "cell_type": "code",
   "execution_count": 145,
   "id": "23233b5a",
   "metadata": {},
   "outputs": [
    {
     "name": "stdout",
     "output_type": "stream",
     "text": [
      "[2.76, 1.6400000000000006, 1.8000000000000007, 1.2799999999999994, 1.05002, 1.8200000000000003, 0.22001000000000026, 0.03999999999999915, 0.4800000000000004, -1.0100000000000016, -1.5600000000000023, -1.4699999999999989, -2.3200000000000003, -1.5199999999999996, -0.7300000000000004, 0.019999999999999574, 0.490000000000002, 2.6400000000000006, 3.349999999999998, 2.7799999999999976, 2.619999999999999, 2.2200000000000006, 2.0500000000000007, 1.92, 1.0700000000000003]\n"
     ]
    }
   ],
   "source": [
    "difference4_newt = []\n",
    "\n",
    "zip_object = zip(temp, temp_crn)\n",
    "for temp_i, temp_crn_i in zip_object:\n",
    "    difference4_newt.append(temp_i-temp_crn_i)\n",
    "\n",
    "print(difference4_newt)"
   ]
  },
  {
   "cell_type": "markdown",
   "id": "ab4663ab",
   "metadata": {},
   "source": [
    "<font size=\"3\">Salem, MO: 0500 UTC (12:00 am CDT) 19 April 2022-0500 UTC (12:00 am CDT) 20 April 2022</font>"
   ]
  },
  {
   "cell_type": "code",
   "execution_count": 146,
   "id": "3fe4d4d8",
   "metadata": {},
   "outputs": [
    {
     "name": "stdout",
     "output_type": "stream",
     "text": [
      "[0.309998, -0.169983, -0.339996, -0.389984, -0.429993, -0.449982, -0.399994, 2.45001, 6.01001, 9.08002, 11.95, 14.59, 16.42, 17.58, 17.67, 16.85, 14.44, 13.26, 11.76, 10.11, 9.61002, 8.56, 7.72, 7.13, 6.83002]\n",
      "25\n"
     ]
    }
   ],
   "source": [
    "#1 hr hrrr:\n",
    "with open('hrrr_f18_Salem_MO.txt') as f:\n",
    "    lst=[line.split()[4] for line in f]\n",
    "    temp=[]\n",
    "    for i in lst:\n",
    "        new=i.replace(',',\"\")\n",
    "        temp.append(new)\n",
    "    temp.pop(0)\n",
    "    temp=[float(x) for x in temp]\n",
    "    temp=temp[2580:2605]\n",
    "    #temp=temp[2015:2063]\n",
    "    print(temp)\n",
    "    print(len(temp))\n",
    "#full time period is [2015:2112]"
   ]
  },
  {
   "cell_type": "code",
   "execution_count": 147,
   "id": "739015b3",
   "metadata": {},
   "outputs": [
    {
     "name": "stdout",
     "output_type": "stream",
     "text": [
      "[-3.2, -2.8, -2.7, -4.449999999999999, -5.25, -5.7, -3.15, 4.800000000000001, 10.95, 18.9, 24.15, 26.55, 31.6, 31.05, 29.85, 26.4, 22.549999999999997, 16.35, 11.9, 8.850000000000001, 7.95, 9.3, 8.0, 7.949999999999999, 6.199999999999999]\n"
     ]
    }
   ],
   "source": [
    "#Air Temp CRN:\n",
    "with open('CRNS0101-05-2022-MO_Salem_10_W.txt') as f:\n",
    "    lst=[line.split()[12] for line in f]\n",
    "    \n",
    "    a=(float(lst[31175])+float(lst[31176]))/2\n",
    "    b=(float(lst[31187])+float(lst[31188]))/2\n",
    "    c=(float(lst[31199])+float(lst[31200]))/2\n",
    "    d=(float(lst[31211])+float(lst[31212]))/2\n",
    "    e=(float(lst[31223])+float(lst[31224]))/2\n",
    "    f=(float(lst[31235])+float(lst[31236]))/2\n",
    "    g=(float(lst[31247])+float(lst[31248]))/2\n",
    "    h=(float(lst[31259])+float(lst[31260]))/2\n",
    "    i=(float(lst[31271])+float(lst[31272]))/2\n",
    "    j=(float(lst[31283])+float(lst[31284]))/2\n",
    "    k=(float(lst[31295])+float(lst[31296]))/2\n",
    "    l=(float(lst[31307])+float(lst[31308]))/2\n",
    "    m=(float(lst[31319])+float(lst[31320]))/2\n",
    "    n=(float(lst[31331])+float(lst[31332]))/2\n",
    "    o=(float(lst[31343])+float(lst[31344]))/2\n",
    "    p=(float(lst[31355])+float(lst[31356]))/2\n",
    "    q=(float(lst[31367])+float(lst[31368]))/2\n",
    "    r=(float(lst[31379])+float(lst[31380]))/2\n",
    "    s=(float(lst[31391])+float(lst[31392]))/2\n",
    "    t=(float(lst[31403])+float(lst[31404]))/2\n",
    "    u=(float(lst[31415])+float(lst[31416]))/2\n",
    "    v=(float(lst[31427])+float(lst[31428]))/2\n",
    "    w=(float(lst[31439])+float(lst[31440]))/2\n",
    "    x=(float(lst[31451])+float(lst[31452]))/2\n",
    "    y=(float(lst[31463])+float(lst[31464]))/2\n",
    "    \n",
    "    temp_crn=[a,b,c,d,e,f,g,h,i,j,k,l,m,n,o,p,q,r,s,t,u,v,w,x,y]\n",
    "    print(temp_crn)"
   ]
  },
  {
   "cell_type": "code",
   "execution_count": 148,
   "id": "631903a7",
   "metadata": {},
   "outputs": [
    {
     "name": "stdout",
     "output_type": "stream",
     "text": [
      "[3.5099980000000004, 2.6300169999999996, 2.360004, 4.060015999999999, 4.820007, 5.250018, 2.750006, -2.349990000000001, -4.939989999999999, -9.81998, -12.2, -11.96, -15.18, -13.470000000000002, -12.18, -9.549999999999997, -8.109999999999998, -3.0900000000000016, -0.14000000000000057, 1.259999999999998, 1.6600200000000003, -0.7400000000000002, -0.28000000000000025, -0.8199999999999994, 0.6300200000000009]\n"
     ]
    }
   ],
   "source": [
    "difference5_sal = []\n",
    "\n",
    "zip_object = zip(temp, temp_crn)\n",
    "for temp_i, temp_crn_i in zip_object:\n",
    "    difference5_sal.append(temp_i-temp_crn_i)\n",
    "\n",
    "print(difference5_sal)"
   ]
  },
  {
   "cell_type": "markdown",
   "id": "eb16f605",
   "metadata": {},
   "source": [
    "<font size=\"3\">Batesville, AR: 0600 UTC (12:00 am CST) 01 March 2022-0600 UTC (12:00 am CST) 02 March 2022</font>"
   ]
  },
  {
   "cell_type": "code",
   "execution_count": 149,
   "id": "5f6566a3",
   "metadata": {},
   "outputs": [
    {
     "name": "stdout",
     "output_type": "stream",
     "text": [
      "[4.76001, 3.07001, 2.51001, 1.83002, 1.17999, 0.679993, 0.959991, 5.42001, 9.91, 13.81, 17.42, 20.34, 22.58, 23.37, 23.08, 22.01, 20.78, 17.43, 15.02, 12.43, 11.38, 9.82001, 9.37, 7.92001, 8.20001]\n",
      "25\n"
     ]
    }
   ],
   "source": [
    "#1 hr hrrr:\n",
    "with open('hrrr_f18_Batesville_AR.txt') as f:\n",
    "    lst=[line.split()[4] for line in f]\n",
    "    temp=[]\n",
    "    for i in lst:\n",
    "        new=i.replace(',',\"\")\n",
    "        temp.append(new)\n",
    "    temp.pop(0)\n",
    "    temp=[float(x) for x in temp]\n",
    "    temp=temp[2580:2605]\n",
    "#     x = np.array(temp)\n",
    "#     temp = ma.masked_array(x, mask=[0, 0, 0, 0, 0,0,0,0,0,0,0,0,0,0,0,0,0,0,0,0,0,1,0,0,0])\n",
    "    #temp=temp[2015:2063]\n",
    "    print(temp)\n",
    "    print(len(temp))\n",
    "#full time period is [2015:2112]"
   ]
  },
  {
   "cell_type": "code",
   "execution_count": 150,
   "id": "9d4ec43c",
   "metadata": {},
   "outputs": [
    {
     "name": "stdout",
     "output_type": "stream",
     "text": [
      "[1.15, 0.0, -0.3, 0.4, -0.55, -0.95, 0.1, 5.75, 9.45, 14.649999999999999, 16.6, 19.1, 19.9, 19.65, 18.55, 16.6, 15.3, 12.850000000000001, 10.149999999999999, 7.25, 6.25, 4.45, 5.7, 5.800000000000001, 5.25]\n"
     ]
    }
   ],
   "source": [
    "#Air Temp CRN:\n",
    "with open('CRNS0101-05-2022-AR_Batesville_8_WNW.txt') as f:\n",
    "    lst=[line.split()[12] for line in f]\n",
    "    \n",
    "    a=(float(lst[31175])+float(lst[31176]))/2\n",
    "    b=(float(lst[31187])+float(lst[31188]))/2\n",
    "    c=(float(lst[31199])+float(lst[31200]))/2\n",
    "    d=(float(lst[31211])+float(lst[31212]))/2\n",
    "    e=(float(lst[31223])+float(lst[31224]))/2\n",
    "    f=(float(lst[31235])+float(lst[31236]))/2\n",
    "    g=(float(lst[31247])+float(lst[31248]))/2\n",
    "    h=(float(lst[31259])+float(lst[31260]))/2\n",
    "    i=(float(lst[31271])+float(lst[31272]))/2\n",
    "    j=(float(lst[31283])+float(lst[31284]))/2\n",
    "    k=(float(lst[31295])+float(lst[31296]))/2\n",
    "    l=(float(lst[31307])+float(lst[31308]))/2\n",
    "    m=(float(lst[31319])+float(lst[31320]))/2\n",
    "    n=(float(lst[31331])+float(lst[31332]))/2\n",
    "    o=(float(lst[31343])+float(lst[31344]))/2\n",
    "    p=(float(lst[31355])+float(lst[31356]))/2\n",
    "    q=(float(lst[31367])+float(lst[31368]))/2\n",
    "    r=(float(lst[31379])+float(lst[31380]))/2\n",
    "    s=(float(lst[31391])+float(lst[31392]))/2\n",
    "    t=(float(lst[31403])+float(lst[31404]))/2\n",
    "    u=(float(lst[31415])+float(lst[31416]))/2\n",
    "    v=(float(lst[31427])+float(lst[31428]))/2\n",
    "    w=(float(lst[31439])+float(lst[31440]))/2\n",
    "    x=(float(lst[31451])+float(lst[31452]))/2\n",
    "    y=(float(lst[31463])+float(lst[31464]))/2\n",
    "    \n",
    "    temp_crn=[a,b,c,d,e,f,g,h,i,j,k,l,m,n,o,p,q,r,s,t,u,v,w,x,y]\n",
    "    print(temp_crn)"
   ]
  },
  {
   "cell_type": "code",
   "execution_count": 151,
   "id": "32ec4102",
   "metadata": {},
   "outputs": [
    {
     "name": "stdout",
     "output_type": "stream",
     "text": [
      "[3.6100100000000004, 3.07001, 2.8100099999999997, 1.4300199999999998, 1.7299900000000001, 1.6299929999999998, 0.8599910000000001, -0.32998999999999956, 0.46000000000000085, -0.8399999999999981, 0.8200000000000003, 1.2399999999999984, 2.6799999999999997, 3.7200000000000024, 4.529999999999998, 5.41, 5.48, 4.579999999999998, 4.870000000000001, 5.18, 5.130000000000001, 5.37001, 3.669999999999999, 2.1200099999999997, 2.9500100000000007]\n"
     ]
    }
   ],
   "source": [
    "difference5_bat = []\n",
    "\n",
    "zip_object = zip(temp, temp_crn)\n",
    "for temp_i, temp_crn_i in zip_object:\n",
    "    difference5_bat.append(temp_i-temp_crn_i)\n",
    "\n",
    "print(difference5_bat)"
   ]
  },
  {
   "cell_type": "markdown",
   "id": "ab0f4798",
   "metadata": {},
   "source": [
    "<font size=\"3\">Lafayette, LA: 0600 UTC (12:00 am CST) 01 March 2022-0600 UTC (12:00 am CST) 02 March 2022</font>"
   ]
  },
  {
   "cell_type": "code",
   "execution_count": 152,
   "id": "bf4ca647",
   "metadata": {},
   "outputs": [
    {
     "name": "stdout",
     "output_type": "stream",
     "text": [
      "[12.94, 12.52, 11.73, 11.51, 11.1, 10.88, 10.94, 14.23, 18.0, 21.12, 26.04, 29.09, 31.26, 32.29, 32.5, 31.42, 29.7, 26.77, 23.44, 20.4, 18.52, 17.43, 16.52, 15.8, 15.79]\n"
     ]
    }
   ],
   "source": [
    "#1 hr hrrr:\n",
    "with open('hrrr_f18_Lafayette_LA.txt') as f:\n",
    "    lst=[line.split()[4] for line in f]\n",
    "    temp=[]\n",
    "    for i in lst:\n",
    "        new=i.replace(',',\"\")\n",
    "        temp.append(new)\n",
    "    temp.pop(0)\n",
    "    temp=[float(x) for x in temp]\n",
    "    temp=temp[2580:2605]\n",
    "    #temp=temp[2015:2063]\n",
    "    print(temp)\n",
    "    #print(len(temp))\n",
    "#full time period is [2015:2112]"
   ]
  },
  {
   "cell_type": "code",
   "execution_count": 153,
   "id": "a94179a0",
   "metadata": {},
   "outputs": [
    {
     "name": "stdout",
     "output_type": "stream",
     "text": [
      "[11.6, 10.5, 9.7, 8.75, 9.6, 9.15, 10.15, 13.75, 16.8, 21.15, 24.95, 29.049999999999997, 31.05, 31.65, 31.9, 29.700000000000003, 25.299999999999997, 23.049999999999997, 17.049999999999997, 12.25, 11.1, 10.5, 11.5, 10.05, 11.5]\n"
     ]
    }
   ],
   "source": [
    "#Air Temp CRN:\n",
    "with open('CRNS0101-05-2022-LA_Lafayette_13_SE.txt') as f:\n",
    "    lst=[line.split()[12] for line in f]\n",
    "    \n",
    "    a=(float(lst[31175])+float(lst[31176]))/2\n",
    "    b=(float(lst[31187])+float(lst[31188]))/2\n",
    "    c=(float(lst[31199])+float(lst[31200]))/2\n",
    "    d=(float(lst[31211])+float(lst[31212]))/2\n",
    "    e=(float(lst[31223])+float(lst[31224]))/2\n",
    "    f=(float(lst[31235])+float(lst[31236]))/2\n",
    "    g=(float(lst[31247])+float(lst[31248]))/2\n",
    "    h=(float(lst[31259])+float(lst[31260]))/2\n",
    "    i=(float(lst[31271])+float(lst[31272]))/2\n",
    "    j=(float(lst[31283])+float(lst[31284]))/2\n",
    "    k=(float(lst[31295])+float(lst[31296]))/2\n",
    "    l=(float(lst[31307])+float(lst[31308]))/2\n",
    "    m=(float(lst[31319])+float(lst[31320]))/2\n",
    "    n=(float(lst[31331])+float(lst[31332]))/2\n",
    "    o=(float(lst[31343])+float(lst[31344]))/2\n",
    "    p=(float(lst[31355])+float(lst[31356]))/2\n",
    "    q=(float(lst[31367])+float(lst[31368]))/2\n",
    "    r=(float(lst[31379])+float(lst[31380]))/2\n",
    "    s=(float(lst[31391])+float(lst[31392]))/2\n",
    "    t=(float(lst[31403])+float(lst[31404]))/2\n",
    "    u=(float(lst[31415])+float(lst[31416]))/2\n",
    "    v=(float(lst[31427])+float(lst[31428]))/2\n",
    "    w=(float(lst[31439])+float(lst[31440]))/2\n",
    "    x=(float(lst[31451])+float(lst[31452]))/2\n",
    "    y=(float(lst[31463])+float(lst[31464]))/2\n",
    "    \n",
    "    temp_crn=[a,b,c,d,e,f,g,h,i,j,k,l,m,n,o,p,q,r,s,t,u,v,w,x,y]\n",
    "    print(temp_crn)"
   ]
  },
  {
   "cell_type": "code",
   "execution_count": 154,
   "id": "482bd1ef",
   "metadata": {},
   "outputs": [
    {
     "name": "stdout",
     "output_type": "stream",
     "text": [
      "[1.3399999999999999, 2.0199999999999996, 2.030000000000001, 2.76, 1.5, 1.7300000000000004, 0.7899999999999991, 0.4800000000000004, 1.1999999999999993, -0.029999999999997584, 1.0899999999999999, 0.0400000000000027, 0.21000000000000085, 0.6400000000000006, 0.6000000000000014, 1.7199999999999989, 4.400000000000002, 3.7200000000000024, 6.390000000000004, 8.149999999999999, 7.42, 6.93, 5.02, 5.75, 4.289999999999999]\n"
     ]
    }
   ],
   "source": [
    "difference5_laf = []\n",
    "\n",
    "zip_object = zip(temp, temp_crn)\n",
    "for temp_i, temp_crn_i in zip_object:\n",
    "    difference5_laf.append(temp_i-temp_crn_i)\n",
    "\n",
    "print(difference5_laf)"
   ]
  },
  {
   "cell_type": "markdown",
   "id": "de00e832",
   "metadata": {},
   "source": [
    "<font size=\"3\">Monroe, LA: 0600 UTC (12:00 am CST) 01 March 2022-0600 UTC (12:00 am CST) 02 March 2022</font>"
   ]
  },
  {
   "cell_type": "code",
   "execution_count": 155,
   "id": "4e202ed7",
   "metadata": {},
   "outputs": [
    {
     "name": "stdout",
     "output_type": "stream",
     "text": [
      "[8.86002, 7.82001, 7.87, 7.67001, 6.87, 6.35001, 6.08002, 9.37, 12.37, 15.39, 18.4, 22.49, 25.57, 26.91, 27.31, 26.33, 24.71, 21.52, 18.47, 15.53, 14.11, 12.87, 12.15, 11.83, 10.68]\n"
     ]
    }
   ],
   "source": [
    "#1 hr hrrr:\n",
    "with open('hrrr_f18_Monroe_LA.txt') as f:\n",
    "    lst=[line.split()[4] for line in f]\n",
    "    temp=[]\n",
    "    for i in lst:\n",
    "        new=i.replace(',',\"\")\n",
    "        temp.append(new)\n",
    "    temp.pop(0)\n",
    "    temp=[float(x) for x in temp]\n",
    "    temp=temp[2580:2605]\n",
    "    #temp=temp[2015:2063]\n",
    "    print(temp)\n",
    "    #print(len(temp))\n",
    "#full time period is [2015:2112]"
   ]
  },
  {
   "cell_type": "code",
   "execution_count": 156,
   "id": "4e6ab640",
   "metadata": {},
   "outputs": [
    {
     "name": "stdout",
     "output_type": "stream",
     "text": [
      "[8.3, 7.65, 7.4, 6.8, 7.050000000000001, 7.75, 8.0, 11.4, 13.7, 17.0, 18.9, 21.05, 23.75, 23.9, 23.549999999999997, 23.85, 22.4, 16.65, 14.7, 10.850000000000001, 10.1, 9.45, 9.05, 10.5, 9.55]\n"
     ]
    }
   ],
   "source": [
    "#Air Temp CRN:\n",
    "with open('CRNS0101-05-2022-LA_Monroe_26_N.txt') as f:\n",
    "    lst=[line.split()[12] for line in f]\n",
    "    \n",
    "    a=(float(lst[31175])+float(lst[31176]))/2\n",
    "    b=(float(lst[31187])+float(lst[31188]))/2\n",
    "    c=(float(lst[31199])+float(lst[31200]))/2\n",
    "    d=(float(lst[31211])+float(lst[31212]))/2\n",
    "    e=(float(lst[31223])+float(lst[31224]))/2\n",
    "    f=(float(lst[31235])+float(lst[31236]))/2\n",
    "    g=(float(lst[31247])+float(lst[31248]))/2\n",
    "    h=(float(lst[31259])+float(lst[31260]))/2\n",
    "    i=(float(lst[31271])+float(lst[31272]))/2\n",
    "    j=(float(lst[31283])+float(lst[31284]))/2\n",
    "    k=(float(lst[31295])+float(lst[31296]))/2\n",
    "    l=(float(lst[31307])+float(lst[31308]))/2\n",
    "    m=(float(lst[31319])+float(lst[31320]))/2\n",
    "    n=(float(lst[31331])+float(lst[31332]))/2\n",
    "    o=(float(lst[31343])+float(lst[31344]))/2\n",
    "    p=(float(lst[31355])+float(lst[31356]))/2\n",
    "    q=(float(lst[31367])+float(lst[31368]))/2\n",
    "    r=(float(lst[31379])+float(lst[31380]))/2\n",
    "    s=(float(lst[31391])+float(lst[31392]))/2\n",
    "    t=(float(lst[31403])+float(lst[31404]))/2\n",
    "    u=(float(lst[31415])+float(lst[31416]))/2\n",
    "    v=(float(lst[31427])+float(lst[31428]))/2\n",
    "    w=(float(lst[31439])+float(lst[31440]))/2\n",
    "    x=(float(lst[31451])+float(lst[31452]))/2\n",
    "    y=(float(lst[31463])+float(lst[31464]))/2\n",
    "    \n",
    "    temp_crn=[a,b,c,d,e,f,g,h,i,j,k,l,m,n,o,p,q,r,s,t,u,v,w,x,y]\n",
    "    print(temp_crn)"
   ]
  },
  {
   "cell_type": "code",
   "execution_count": 157,
   "id": "461ef9d6",
   "metadata": {},
   "outputs": [
    {
     "name": "stdout",
     "output_type": "stream",
     "text": [
      "[0.5600199999999997, 0.17000999999999955, 0.46999999999999975, 0.8700100000000006, -0.1800000000000006, -1.3999899999999998, -1.9199799999999998, -2.030000000000001, -1.33, -1.6099999999999994, -0.5, 1.4399999999999977, 1.8200000000000003, 3.0100000000000016, 3.7600000000000016, 2.479999999999997, 2.3100000000000023, 4.870000000000001, 3.7699999999999996, 4.679999999999998, 4.01, 3.42, 3.0999999999999996, 1.33, 1.129999999999999]\n"
     ]
    }
   ],
   "source": [
    "difference5_mon = []\n",
    "\n",
    "zip_object = zip(temp, temp_crn)\n",
    "for temp_i, temp_crn_i in zip_object:\n",
    "    difference5_mon.append(temp_i-temp_crn_i)\n",
    "\n",
    "print(difference5_mon)"
   ]
  },
  {
   "cell_type": "markdown",
   "id": "10c3e262",
   "metadata": {},
   "source": [
    "<font size=\"3\">Holly Springs, MS: 0600 UTC (12:00 am CST) 01 March 2022-0600 UTC (12:00 am CST) 02 March 2022</font>"
   ]
  },
  {
   "cell_type": "code",
   "execution_count": 158,
   "id": "02dfc76f",
   "metadata": {},
   "outputs": [
    {
     "name": "stdout",
     "output_type": "stream",
     "text": [
      "[5.64999, 4.70999, 4.17999, 3.55002, 2.83002, 2.38, 2.97, 5.79001, 8.74002, 11.54, 14.24, 16.44, 18.45, 20.07, 20.88, 20.39, 19.08, 16.56, 13.51, 10.58, 9.86002, 8.67001, 8.19, 7.67001, 7.01001]\n"
     ]
    }
   ],
   "source": [
    "#1 hr hrrr:\n",
    "with open('hrrr_f18_Holly Springs_MS.txt') as f:\n",
    "    lst=[line.split()[4] for line in f]\n",
    "    temp=[]\n",
    "    for i in lst:\n",
    "        new=i.replace(',',\"\")\n",
    "        temp.append(new)\n",
    "    temp.pop(0)\n",
    "    temp=[float(x) for x in temp]\n",
    "    temp=temp[2580:2605]\n",
    "    #temp=temp[2015:2063]\n",
    "    print(temp)\n",
    "    #print(len(temp))\n",
    "#full time period is [2015:2112]"
   ]
  },
  {
   "cell_type": "code",
   "execution_count": 159,
   "id": "f0bb8bfb",
   "metadata": {},
   "outputs": [
    {
     "name": "stdout",
     "output_type": "stream",
     "text": [
      "[3.2, 2.8, 2.1500000000000004, 1.7999999999999998, 1.3, 0.95, 1.6, 7.75, 11.2, 15.55, 18.549999999999997, 22.25, 23.65, 24.8, 22.950000000000003, 27.25, 25.4, 20.4, 11.95, 7.949999999999999, 6.6, 5.35, 4.75, 4.55, 4.75]\n"
     ]
    }
   ],
   "source": [
    "#Air Temp CRN:\n",
    "with open('CRNS0101-05-2022-MS_Holly_Springs_4_N.txt') as f:\n",
    "    lst=[line.split()[12] for line in f]\n",
    "    \n",
    "    a=(float(lst[31175])+float(lst[31176]))/2\n",
    "    b=(float(lst[31187])+float(lst[31188]))/2\n",
    "    c=(float(lst[31199])+float(lst[31200]))/2\n",
    "    d=(float(lst[31211])+float(lst[31212]))/2\n",
    "    e=(float(lst[31223])+float(lst[31224]))/2\n",
    "    f=(float(lst[31235])+float(lst[31236]))/2\n",
    "    g=(float(lst[31247])+float(lst[31248]))/2\n",
    "    h=(float(lst[31259])+float(lst[31260]))/2\n",
    "    i=(float(lst[31271])+float(lst[31272]))/2\n",
    "    j=(float(lst[31283])+float(lst[31284]))/2\n",
    "    k=(float(lst[31295])+float(lst[31296]))/2\n",
    "    l=(float(lst[31307])+float(lst[31308]))/2\n",
    "    m=(float(lst[31319])+float(lst[31320]))/2\n",
    "    n=(float(lst[31331])+float(lst[31332]))/2\n",
    "    o=(float(lst[31343])+float(lst[31344]))/2\n",
    "    p=(float(lst[31355])+float(lst[31356]))/2\n",
    "    q=(float(lst[31367])+float(lst[31368]))/2\n",
    "    r=(float(lst[31379])+float(lst[31380]))/2\n",
    "    s=(float(lst[31391])+float(lst[31392]))/2\n",
    "    t=(float(lst[31403])+float(lst[31404]))/2\n",
    "    u=(float(lst[31415])+float(lst[31416]))/2\n",
    "    v=(float(lst[31427])+float(lst[31428]))/2\n",
    "    w=(float(lst[31439])+float(lst[31440]))/2\n",
    "    x=(float(lst[31451])+float(lst[31452]))/2\n",
    "    y=(float(lst[31463])+float(lst[31464]))/2\n",
    "    \n",
    "    temp_crn=[a,b,c,d,e,f,g,h,i,j,k,l,m,n,o,p,q,r,s,t,u,v,w,x,y]\n",
    "    print(temp_crn)"
   ]
  },
  {
   "cell_type": "code",
   "execution_count": 160,
   "id": "33e182d5",
   "metadata": {},
   "outputs": [
    {
     "name": "stdout",
     "output_type": "stream",
     "text": [
      "[2.4499899999999997, 1.9099900000000005, 2.0299899999999997, 1.7500200000000001, 1.5300200000000002, 1.43, 1.37, -1.9599900000000003, -2.45998, -4.010000000000002, -4.309999999999997, -5.809999999999999, -5.199999999999999, -4.73, -2.070000000000004, -6.859999999999999, -6.32, -3.84, 1.5600000000000005, 2.630000000000001, 3.260020000000001, 3.32001, 3.4399999999999995, 3.1200100000000006, 2.2600100000000003]\n"
     ]
    }
   ],
   "source": [
    "difference5_hol = []\n",
    "\n",
    "zip_object = zip(temp, temp_crn)\n",
    "for temp_i, temp_crn_i in zip_object:\n",
    "    difference5_hol.append(temp_i-temp_crn_i)\n",
    "\n",
    "print(difference5_hol)"
   ]
  },
  {
   "cell_type": "markdown",
   "id": "c3611246",
   "metadata": {},
   "source": [
    "<font size=\"3\">Newton, MS: 0600 UTC (12:00 am CST) 01 March 2022-0600 UTC (12:00 am CST) 02 March 2022</font>"
   ]
  },
  {
   "cell_type": "code",
   "execution_count": 161,
   "id": "c9844209",
   "metadata": {},
   "outputs": [
    {
     "name": "stdout",
     "output_type": "stream",
     "text": [
      "[9.69, 8.83002, 8.12, 7.56, 7.12, 6.85001, 6.33002, 8.74002, 11.43, 14.04, 16.82, 19.04, 21.27, 23.14, 23.98, 23.29, 21.94, 19.79, 16.78, 14.01, 12.72, 11.57, 10.82, 9.88, 9.22]\n"
     ]
    }
   ],
   "source": [
    "#1 hr hrrr:\n",
    "with open('hrrr_f18_Newton_MS.txt') as f:\n",
    "    lst=[line.split()[4] for line in f]\n",
    "    temp=[]\n",
    "    for i in lst:\n",
    "        new=i.replace(',',\"\")\n",
    "        temp.append(new)\n",
    "    temp.pop(0)\n",
    "    temp=[float(x) for x in temp]\n",
    "    temp=temp[2580:2605]\n",
    "    #temp=temp[2015:2063]\n",
    "    print(temp)\n",
    "    #print(len(temp))\n",
    "#full time period is [2015:2112]"
   ]
  },
  {
   "cell_type": "code",
   "execution_count": 162,
   "id": "e52605db",
   "metadata": {},
   "outputs": [
    {
     "name": "stdout",
     "output_type": "stream",
     "text": [
      "[6.95, 6.15, 5.9, 4.9, 4.3, 3.8499999999999996, 6.15, 11.100000000000001, 14.350000000000001, 18.45, 22.05, 25.9, 27.25, 28.25, 28.25, 25.9, 24.700000000000003, 21.4, 16.049999999999997, 10.55, 8.95, 8.0, 7.65, 6.65, 5.8]\n"
     ]
    }
   ],
   "source": [
    "#Air Temp CRN:\n",
    "with open('CRNS0101-05-2022-MS_Newton_5_ENE.txt') as f:\n",
    "    lst=[line.split()[12] for line in f]\n",
    "    \n",
    "    a=(float(lst[31175])+float(lst[31176]))/2\n",
    "    b=(float(lst[31187])+float(lst[31188]))/2\n",
    "    c=(float(lst[31199])+float(lst[31200]))/2\n",
    "    d=(float(lst[31211])+float(lst[31212]))/2\n",
    "    e=(float(lst[31223])+float(lst[31224]))/2\n",
    "    f=(float(lst[31235])+float(lst[31236]))/2\n",
    "    g=(float(lst[31247])+float(lst[31248]))/2\n",
    "    h=(float(lst[31259])+float(lst[31260]))/2\n",
    "    i=(float(lst[31271])+float(lst[31272]))/2\n",
    "    j=(float(lst[31283])+float(lst[31284]))/2\n",
    "    k=(float(lst[31295])+float(lst[31296]))/2\n",
    "    l=(float(lst[31307])+float(lst[31308]))/2\n",
    "    m=(float(lst[31319])+float(lst[31320]))/2\n",
    "    n=(float(lst[31331])+float(lst[31332]))/2\n",
    "    o=(float(lst[31343])+float(lst[31344]))/2\n",
    "    p=(float(lst[31355])+float(lst[31356]))/2\n",
    "    q=(float(lst[31367])+float(lst[31368]))/2\n",
    "    r=(float(lst[31379])+float(lst[31380]))/2\n",
    "    s=(float(lst[31391])+float(lst[31392]))/2\n",
    "    t=(float(lst[31403])+float(lst[31404]))/2\n",
    "    u=(float(lst[31415])+float(lst[31416]))/2\n",
    "    v=(float(lst[31427])+float(lst[31428]))/2\n",
    "    w=(float(lst[31439])+float(lst[31440]))/2\n",
    "    x=(float(lst[31451])+float(lst[31452]))/2\n",
    "    y=(float(lst[31463])+float(lst[31464]))/2\n",
    "    \n",
    "    temp_crn=[a,b,c,d,e,f,g,h,i,j,k,l,m,n,o,p,q,r,s,t,u,v,w,x,y]\n",
    "    print(temp_crn)"
   ]
  },
  {
   "cell_type": "code",
   "execution_count": 163,
   "id": "26f39b75",
   "metadata": {},
   "outputs": [
    {
     "name": "stdout",
     "output_type": "stream",
     "text": [
      "[2.7399999999999993, 2.680019999999999, 2.219999999999999, 2.6599999999999993, 2.8200000000000003, 3.0000100000000005, 0.18001999999999985, -2.359980000000002, -2.9200000000000017, -4.41, -5.23, -6.859999999999999, -5.98, -5.109999999999999, -4.27, -2.6099999999999994, -2.7600000000000016, -1.6099999999999994, 0.730000000000004, 3.459999999999999, 3.7700000000000014, 3.5700000000000003, 3.17, 3.2300000000000004, 3.420000000000001]\n"
     ]
    }
   ],
   "source": [
    "difference5_new = []\n",
    "\n",
    "zip_object = zip(temp, temp_crn)\n",
    "for temp_i, temp_crn_i in zip_object:\n",
    "    difference5_new.append(temp_i-temp_crn_i)\n",
    "\n",
    "print(difference5_new)"
   ]
  },
  {
   "cell_type": "markdown",
   "id": "35f6ffe5",
   "metadata": {},
   "source": [
    "<font size=\"3\">Gainesville, AL: 0600 UTC (12:00 am CST) 01 March 2022-0600 UTC (12:00 am CST) 02 March 2022</font>"
   ]
  },
  {
   "cell_type": "code",
   "execution_count": 164,
   "id": "d2bd1457",
   "metadata": {},
   "outputs": [],
   "source": [
    "# #1 hr hrrr:\n",
    "# with open('hrrr_f18_Gainesville_AL.txt') as f:\n",
    "#     lst=[line.split()[4] for line in f]\n",
    "#     temp=[]\n",
    "#     for i in lst:\n",
    "#         new=i.replace(',',\"\")\n",
    "#         temp.append(new)\n",
    "#     temp.pop(0)\n",
    "#     temp=[float(x) for x in temp]\n",
    "#     temp=temp[2580:2605]\n",
    "#     #temp=temp[2015:2063]\n",
    "#     print(temp)\n",
    "#     #print(len(temp))\n",
    "# #full time period is [2015:2112]"
   ]
  },
  {
   "cell_type": "code",
   "execution_count": 165,
   "id": "4f5c8ab2",
   "metadata": {},
   "outputs": [],
   "source": [
    "# #Air Temp CRN:\n",
    "# with open('CRNH0203-2022-AL_Gainesville_2_NE.txt') as f:\n",
    "#     lst=[line.split()[13] for line in f]\n",
    "#     #prfloat(lst)\n",
    "#     temp_crn=[]\n",
    "#     for i in lst:\n",
    "#         new=i.replace(',',\"\")\n",
    "#         temp_crn.append(new)\n",
    "#     temp_crn=[float(x) for x in temp_crn]\n",
    "#     temp_crn=temp_crn[2597:2622]\n",
    "#     print(temp_crn)\n",
    "#     #print(len(temp_crn))\n",
    "#     # print(temp_crn[2124])"
   ]
  },
  {
   "cell_type": "code",
   "execution_count": 166,
   "id": "8356bd44",
   "metadata": {},
   "outputs": [],
   "source": [
    "# difference5_gai = []\n",
    "\n",
    "# zip_object = zip(temp, temp_crn)\n",
    "# for temp_i, temp_crn_i in zip_object:\n",
    "#     difference5_gai.append(temp_i-temp_crn_i)\n",
    "\n",
    "# print(difference5_gai)"
   ]
  },
  {
   "cell_type": "markdown",
   "id": "fb46ce72",
   "metadata": {},
   "source": [
    "<font size=\"3\">Fairhope, AL: 0600 UTC (12:00 am CST) 01 March 2022-0600 UTC (12:00 am CST) 02 March 2022</font>"
   ]
  },
  {
   "cell_type": "code",
   "execution_count": 167,
   "id": "eb7efbb3",
   "metadata": {},
   "outputs": [
    {
     "name": "stdout",
     "output_type": "stream",
     "text": [
      "[12.06, 11.22, 10.83, 10.08, 9.70999, 9.31, 9.83002, 11.94, 14.92, 18.35, 21.99, 24.1, 26.29, 27.18, 27.29, 26.1, 24.26, 21.01, 17.99, 16.03, 14.92, 13.77, 12.84, 12.14, 11.82]\n"
     ]
    }
   ],
   "source": [
    "#1 hr hrrr:\n",
    "with open('hrrr_f18_Fairhope_AL.txt') as f:\n",
    "    lst=[line.split()[4] for line in f]\n",
    "    temp=[]\n",
    "    for i in lst:\n",
    "        new=i.replace(',',\"\")\n",
    "        temp.append(new)\n",
    "    temp.pop(0)\n",
    "    temp=[float(x) for x in temp]\n",
    "    temp=temp[2580:2605]\n",
    "    #temp=temp[2015:2063]\n",
    "    print(temp)\n",
    "    #print(len(temp))\n",
    "#full time period is [2015:2112]"
   ]
  },
  {
   "cell_type": "code",
   "execution_count": 168,
   "id": "02193ad1",
   "metadata": {},
   "outputs": [
    {
     "name": "stdout",
     "output_type": "stream",
     "text": [
      "[10.850000000000001, 9.5, 10.8, 10.3, 9.0, 8.1, 9.45, 12.899999999999999, 16.450000000000003, 19.2, 21.25, 23.6, 24.95, 25.450000000000003, 23.4, 22.95, 21.05, 17.9, 13.1, 8.5, 7.0, 6.35, 5.75, 5.449999999999999, 5.0]\n"
     ]
    }
   ],
   "source": [
    "#Air Temp CRN:\n",
    "with open('CRNS0101-05-2022-AL_Fairhope_3_NE.txt') as f:\n",
    "    lst=[line.split()[12] for line in f]\n",
    "    \n",
    "    a=(float(lst[31175])+float(lst[31176]))/2\n",
    "    b=(float(lst[31187])+float(lst[31188]))/2\n",
    "    c=(float(lst[31199])+float(lst[31200]))/2\n",
    "    d=(float(lst[31211])+float(lst[31212]))/2\n",
    "    e=(float(lst[31223])+float(lst[31224]))/2\n",
    "    f=(float(lst[31235])+float(lst[31236]))/2\n",
    "    g=(float(lst[31247])+float(lst[31248]))/2\n",
    "    h=(float(lst[31259])+float(lst[31260]))/2\n",
    "    i=(float(lst[31271])+float(lst[31272]))/2\n",
    "    j=(float(lst[31283])+float(lst[31284]))/2\n",
    "    k=(float(lst[31295])+float(lst[31296]))/2\n",
    "    l=(float(lst[31307])+float(lst[31308]))/2\n",
    "    m=(float(lst[31319])+float(lst[31320]))/2\n",
    "    n=(float(lst[31331])+float(lst[31332]))/2\n",
    "    o=(float(lst[31343])+float(lst[31344]))/2\n",
    "    p=(float(lst[31355])+float(lst[31356]))/2\n",
    "    q=(float(lst[31367])+float(lst[31368]))/2\n",
    "    r=(float(lst[31379])+float(lst[31380]))/2\n",
    "    s=(float(lst[31391])+float(lst[31392]))/2\n",
    "    t=(float(lst[31403])+float(lst[31404]))/2\n",
    "    u=(float(lst[31415])+float(lst[31416]))/2\n",
    "    v=(float(lst[31427])+float(lst[31428]))/2\n",
    "    w=(float(lst[31439])+float(lst[31440]))/2\n",
    "    x=(float(lst[31451])+float(lst[31452]))/2\n",
    "    y=(float(lst[31463])+float(lst[31464]))/2\n",
    "    \n",
    "    temp_crn=[a,b,c,d,e,f,g,h,i,j,k,l,m,n,o,p,q,r,s,t,u,v,w,x,y]\n",
    "    print(temp_crn)"
   ]
  },
  {
   "cell_type": "code",
   "execution_count": 169,
   "id": "27eb4d35",
   "metadata": {},
   "outputs": [
    {
     "name": "stdout",
     "output_type": "stream",
     "text": [
      "[1.209999999999999, 1.7200000000000006, 0.02999999999999936, -0.22000000000000064, 0.7099899999999995, 1.2100000000000009, 0.38002, -0.9599999999999991, -1.530000000000003, -0.8499999999999979, 0.7399999999999984, 0.5, 1.3399999999999999, 1.7299999999999969, 3.8900000000000006, 3.150000000000002, 3.210000000000001, 3.110000000000003, 4.889999999999999, 7.530000000000001, 7.92, 7.42, 7.09, 6.690000000000001, 6.82]\n"
     ]
    }
   ],
   "source": [
    "difference5_fai = []\n",
    "\n",
    "zip_object = zip(temp, temp_crn)\n",
    "for temp_i, temp_crn_i in zip_object:\n",
    "    difference5_fai.append(temp_i-temp_crn_i)\n",
    "\n",
    "print(difference5_fai)"
   ]
  },
  {
   "cell_type": "markdown",
   "id": "26ae7516",
   "metadata": {},
   "source": [
    "<font size=\"3\">**Selma, AL: 0600 UTC (12:00 am CST) 01 March 2022-0600 UTC (12:00 am CST) 02 March 2022</font>"
   ]
  },
  {
   "cell_type": "code",
   "execution_count": 170,
   "id": "bb3e0d4e",
   "metadata": {},
   "outputs": [
    {
     "name": "stdout",
     "output_type": "stream",
     "text": [
      "[9.28, 8.47, 7.57001, 7.0, 6.23001, 5.81, 6.66, 9.42999, 11.86, 14.06, 16.37, 17.79, 19.01, 19.71, 19.26, 18.73, 17.48, 15.68, 14.07, 11.79, 10.69, 9.64001, 8.70999, 8.13, 7.67999]\n"
     ]
    }
   ],
   "source": [
    "#1 hr hrrr:\n",
    "import numpy as np\n",
    "import numpy.ma as ma\n",
    "with open('hrrr_f18_Selma_AL.txt') as f:\n",
    "    lst=[line.split()[4] for line in f]\n",
    "    temp=[]\n",
    "    for i in lst:\n",
    "        new=i.replace(',',\"\")\n",
    "        temp.append(new)\n",
    "    temp.pop(0)\n",
    "    temp=[float(x) for x in temp]\n",
    "    temp=temp[2580:2605]\n",
    "\n",
    "#     x = np.array(temp)\n",
    "#     temp = ma.masked_array(x, mask=[0, 0, 0, 0, 0,0,0,0,0,0,0,0,0,0,0,0,0,1,1,1,1,0,0,0,0])\n",
    "    print(temp)"
   ]
  },
  {
   "cell_type": "code",
   "execution_count": 171,
   "id": "61d838c0",
   "metadata": {},
   "outputs": [
    {
     "name": "stdout",
     "output_type": "stream",
     "text": [
      "[10.350000000000001, 9.05, 7.6, 6.65, 5.85, 5.3, 7.949999999999999, 12.600000000000001, 15.75, 19.200000000000003, 22.799999999999997, 25.049999999999997, 26.15, 27.25, 27.35, 26.8, 25.35, 21.05, 16.4, 12.25, 10.55, 9.55, 8.75, 8.0, 7.2]\n"
     ]
    }
   ],
   "source": [
    "#Air Temp CRN:\n",
    "with open('CRNS0101-05-2022-AL_Selma_13_WNW.txt') as f:\n",
    "    lst=[line.split()[12] for line in f]\n",
    "    \n",
    "    a=(float(lst[31175])+float(lst[31176]))/2\n",
    "    b=(float(lst[31187])+float(lst[31188]))/2\n",
    "    c=(float(lst[31199])+float(lst[31200]))/2\n",
    "    d=(float(lst[31211])+float(lst[31212]))/2\n",
    "    e=(float(lst[31223])+float(lst[31224]))/2\n",
    "    f=(float(lst[31235])+float(lst[31236]))/2\n",
    "    g=(float(lst[31247])+float(lst[31248]))/2\n",
    "    h=(float(lst[31259])+float(lst[31260]))/2\n",
    "    i=(float(lst[31271])+float(lst[31272]))/2\n",
    "    j=(float(lst[31283])+float(lst[31284]))/2\n",
    "    k=(float(lst[31295])+float(lst[31296]))/2\n",
    "    l=(float(lst[31307])+float(lst[31308]))/2\n",
    "    m=(float(lst[31319])+float(lst[31320]))/2\n",
    "    n=(float(lst[31331])+float(lst[31332]))/2\n",
    "    o=(float(lst[31343])+float(lst[31344]))/2\n",
    "    p=(float(lst[31355])+float(lst[31356]))/2\n",
    "    q=(float(lst[31367])+float(lst[31368]))/2\n",
    "    r=(float(lst[31379])+float(lst[31380]))/2\n",
    "    s=(float(lst[31391])+float(lst[31392]))/2\n",
    "    t=(float(lst[31403])+float(lst[31404]))/2\n",
    "    u=(float(lst[31415])+float(lst[31416]))/2\n",
    "    v=(float(lst[31427])+float(lst[31428]))/2\n",
    "    w=(float(lst[31439])+float(lst[31440]))/2\n",
    "    x=(float(lst[31451])+float(lst[31452]))/2\n",
    "    y=(float(lst[31463])+float(lst[31464]))/2\n",
    "    \n",
    "    temp_crn=[a,b,c,d,e,f,g,h,i,j,k,l,m,n,o,p,q,r,s,t,u,v,w,x,y]\n",
    "    print(temp_crn)"
   ]
  },
  {
   "cell_type": "code",
   "execution_count": 172,
   "id": "f7556132",
   "metadata": {},
   "outputs": [
    {
     "name": "stdout",
     "output_type": "stream",
     "text": [
      "[-1.070000000000002, -0.5800000000000001, -0.02998999999999974, 0.34999999999999964, 0.3800100000000004, 0.5099999999999998, -1.2899999999999991, -3.1700100000000013, -3.8900000000000006, -5.140000000000002, -6.429999999999996, -7.259999999999998, -7.139999999999997, -7.539999999999999, -8.09, -8.07, -7.870000000000001, -5.370000000000001, -2.3299999999999983, -0.46000000000000085, 0.1399999999999988, 0.09000999999999948, -0.040010000000000545, 0.13000000000000078, 0.4799899999999999]\n"
     ]
    }
   ],
   "source": [
    "difference5_sel = []\n",
    "\n",
    "zip_object = zip(temp, temp_crn)\n",
    "for temp_i, temp_crn_i in zip_object:\n",
    "    difference5_sel.append(temp_i-temp_crn_i)\n",
    "\n",
    "print(difference5_sel)\n",
    "#print(len(difference3_sel))"
   ]
  },
  {
   "cell_type": "markdown",
   "id": "d56aedb3",
   "metadata": {},
   "source": [
    "<font size=\"3\">Bowling Green, KY: 0600 UTC (12:00 am CST) 01 March 2022-0600 UTC (12:00 am CST) 02 March 2022</font>"
   ]
  },
  {
   "cell_type": "code",
   "execution_count": 173,
   "id": "24633681",
   "metadata": {},
   "outputs": [
    {
     "name": "stdout",
     "output_type": "stream",
     "text": [
      "[0.959991, 0.440002, -0.00997925, -0.259979, -0.449982, -0.48999, 0.450012, 3.64001, 6.95999, 10.2, 13.56, 16.63, 18.96, 19.8, 19.71, 18.58, 16.7, 13.89, 10.73, 7.88, 6.5, 5.74002, 4.88, 6.67999, 6.57001]\n"
     ]
    }
   ],
   "source": [
    "#1 hr hrrr:\n",
    "with open('hrrr_f18_Bowling Green_KY.txt') as f:\n",
    "    lst=[line.split()[4] for line in f]\n",
    "    temp=[]\n",
    "    for i in lst:\n",
    "        new=i.replace(',',\"\")\n",
    "        temp.append(new)\n",
    "    temp.pop(0)\n",
    "    temp=[float(x) for x in temp]\n",
    "    temp=temp[2580:2605]\n",
    "    #temp=temp[2015:2063]\n",
    "    print(temp)\n",
    "    #print(len(temp))\n",
    "#full time period is [2015:2112]"
   ]
  },
  {
   "cell_type": "code",
   "execution_count": 174,
   "id": "853a3ee4",
   "metadata": {},
   "outputs": [
    {
     "name": "stdout",
     "output_type": "stream",
     "text": [
      "[-0.9, -1.4, -0.95, -1.85, -2.8499999999999996, -3.3499999999999996, 0.6, 6.6, 11.1, 15.3, 18.549999999999997, 20.299999999999997, 21.75, 22.25, 21.15, 19.5, 15.35, 11.05, 5.550000000000001, 3.0, 2.1500000000000004, 1.85, 3.1500000000000004, 3.2, 6.35]\n"
     ]
    }
   ],
   "source": [
    "#Air Temp CRN:\n",
    "with open('CRNS0101-05-2022-KY_Bowling_Green_21_NNE.txt') as f:\n",
    "    lst=[line.split()[12] for line in f]\n",
    "    \n",
    "    a=(float(lst[31175])+float(lst[31176]))/2\n",
    "    b=(float(lst[31187])+float(lst[31188]))/2\n",
    "    c=(float(lst[31199])+float(lst[31200]))/2\n",
    "    d=(float(lst[31211])+float(lst[31212]))/2\n",
    "    e=(float(lst[31223])+float(lst[31224]))/2\n",
    "    f=(float(lst[31235])+float(lst[31236]))/2\n",
    "    g=(float(lst[31247])+float(lst[31248]))/2\n",
    "    h=(float(lst[31259])+float(lst[31260]))/2\n",
    "    i=(float(lst[31271])+float(lst[31272]))/2\n",
    "    j=(float(lst[31283])+float(lst[31284]))/2\n",
    "    k=(float(lst[31295])+float(lst[31296]))/2\n",
    "    l=(float(lst[31307])+float(lst[31308]))/2\n",
    "    m=(float(lst[31319])+float(lst[31320]))/2\n",
    "    n=(float(lst[31331])+float(lst[31332]))/2\n",
    "    o=(float(lst[31343])+float(lst[31344]))/2\n",
    "    p=(float(lst[31355])+float(lst[31356]))/2\n",
    "    q=(float(lst[31367])+float(lst[31368]))/2\n",
    "    r=(float(lst[31379])+float(lst[31380]))/2\n",
    "    s=(float(lst[31391])+float(lst[31392]))/2\n",
    "    t=(float(lst[31403])+float(lst[31404]))/2\n",
    "    u=(float(lst[31415])+float(lst[31416]))/2\n",
    "    v=(float(lst[31427])+float(lst[31428]))/2\n",
    "    w=(float(lst[31439])+float(lst[31440]))/2\n",
    "    x=(float(lst[31451])+float(lst[31452]))/2\n",
    "    y=(float(lst[31463])+float(lst[31464]))/2\n",
    "    \n",
    "    temp_crn=[a,b,c,d,e,f,g,h,i,j,k,l,m,n,o,p,q,r,s,t,u,v,w,x,y]\n",
    "    print(temp_crn)"
   ]
  },
  {
   "cell_type": "code",
   "execution_count": 175,
   "id": "0855a124",
   "metadata": {},
   "outputs": [
    {
     "name": "stdout",
     "output_type": "stream",
     "text": [
      "[1.859991, 1.840002, 0.94002075, 1.5900210000000001, 2.4000179999999998, 2.8600099999999995, -0.14998799999999995, -2.9599899999999995, -4.140009999999999, -5.100000000000001, -4.989999999999997, -3.669999999999998, -2.789999999999999, -2.4499999999999993, -1.4399999999999977, -0.9200000000000017, 1.3499999999999996, 2.84, 5.18, 4.88, 4.35, 3.8900200000000003, 1.7299999999999995, 3.47999, 0.22001000000000026]\n"
     ]
    }
   ],
   "source": [
    "difference5_bow = []\n",
    "\n",
    "zip_object = zip(temp, temp_crn)\n",
    "for temp_i, temp_crn_i in zip_object:\n",
    "    difference5_bow.append(temp_i-temp_crn_i)\n",
    "\n",
    "print(difference5_bow)"
   ]
  },
  {
   "cell_type": "markdown",
   "id": "230d1a46",
   "metadata": {},
   "source": [
    "<font size=\"3\">Gadsden, AL: 0600 UTC (12:00 am CST) 01 March 2022-0600 UTC (12:00 am CST) 02 March 2022</font>"
   ]
  },
  {
   "cell_type": "code",
   "execution_count": 176,
   "id": "c5f9ab54",
   "metadata": {},
   "outputs": [
    {
     "name": "stdout",
     "output_type": "stream",
     "text": [
      "[6.30002, 5.38, 4.41, 3.88, 3.07001, 2.58002, 3.72, 6.77002, 9.98001, 13.75, 17.18, 19.35, 20.83, 21.16, 20.96, 20.12, 18.23, 15.59, 12.88, 10.84, 9.95001, 8.42999, 7.63, 6.52002, 5.82001]\n"
     ]
    }
   ],
   "source": [
    "#1 hr hrrr:\n",
    "with open('hrrr_f18_Gadsden_AL.txt') as f:\n",
    "    lst=[line.split()[4] for line in f]\n",
    "    temp=[]\n",
    "    for i in lst:\n",
    "        new=i.replace(',',\"\")\n",
    "        temp.append(new)\n",
    "    temp.pop(0)\n",
    "    temp=[float(x) for x in temp]\n",
    "    temp=temp[2580:2605]\n",
    "#     x = np.array(temp)\n",
    "#     temp = ma.masked_array(x, mask=[0, 0, 0, 0, 0,0,0,0,1,0,0,0,0,0,0,0,0,0,0,0,0,0,0,0,0])\n",
    "    #temp=temp[2015:2063]\n",
    "    print(temp)\n",
    "    #print(len(temp))\n",
    "#full time period is [2015:2112]"
   ]
  },
  {
   "cell_type": "code",
   "execution_count": 177,
   "id": "68a16b18",
   "metadata": {},
   "outputs": [
    {
     "name": "stdout",
     "output_type": "stream",
     "text": [
      "[4.35, 3.5, 4.05, 4.4, 4.1, 2.9, 5.4, 8.899999999999999, 11.350000000000001, 14.75, 18.299999999999997, 20.65, 22.8, 22.299999999999997, 21.8, 20.4, 19.0, 15.399999999999999, 11.15, 7.55, 6.05, 5.55, 4.85, 4.5, 4.55]\n"
     ]
    }
   ],
   "source": [
    "#Air Temp CRN:\n",
    "with open('CRNS0101-05-2022-AL_Gadsden_19_N.txt') as f:\n",
    "    lst=[line.split()[12] for line in f]\n",
    "    \n",
    "    a=(float(lst[31175])+float(lst[31176]))/2\n",
    "    b=(float(lst[31187])+float(lst[31188]))/2\n",
    "    c=(float(lst[31199])+float(lst[31200]))/2\n",
    "    d=(float(lst[31211])+float(lst[31212]))/2\n",
    "    e=(float(lst[31223])+float(lst[31224]))/2\n",
    "    f=(float(lst[31235])+float(lst[31236]))/2\n",
    "    g=(float(lst[31247])+float(lst[31248]))/2\n",
    "    h=(float(lst[31259])+float(lst[31260]))/2\n",
    "    i=(float(lst[31271])+float(lst[31272]))/2\n",
    "    j=(float(lst[31283])+float(lst[31284]))/2\n",
    "    k=(float(lst[31295])+float(lst[31296]))/2\n",
    "    l=(float(lst[31307])+float(lst[31308]))/2\n",
    "    m=(float(lst[31319])+float(lst[31320]))/2\n",
    "    n=(float(lst[31331])+float(lst[31332]))/2\n",
    "    o=(float(lst[31343])+float(lst[31344]))/2\n",
    "    p=(float(lst[31355])+float(lst[31356]))/2\n",
    "    q=(float(lst[31367])+float(lst[31368]))/2\n",
    "    r=(float(lst[31379])+float(lst[31380]))/2\n",
    "    s=(float(lst[31391])+float(lst[31392]))/2\n",
    "    t=(float(lst[31403])+float(lst[31404]))/2\n",
    "    u=(float(lst[31415])+float(lst[31416]))/2\n",
    "    v=(float(lst[31427])+float(lst[31428]))/2\n",
    "    w=(float(lst[31439])+float(lst[31440]))/2\n",
    "    x=(float(lst[31451])+float(lst[31452]))/2\n",
    "    y=(float(lst[31463])+float(lst[31464]))/2\n",
    "    \n",
    "    temp_crn=[a,b,c,d,e,f,g,h,i,j,k,l,m,n,o,p,q,r,s,t,u,v,w,x,y]\n",
    "    print(temp_crn)"
   ]
  },
  {
   "cell_type": "code",
   "execution_count": 178,
   "id": "20f98582",
   "metadata": {},
   "outputs": [
    {
     "name": "stdout",
     "output_type": "stream",
     "text": [
      "[1.9500200000000003, 1.88, 0.3600000000000003, -0.5200000000000005, -1.0299899999999997, -0.3199799999999997, -1.6800000000000002, -2.129979999999999, -1.3699900000000014, -1.0, -1.1199999999999974, -1.2999999999999972, -1.9700000000000024, -1.139999999999997, -0.8399999999999999, -0.2799999999999976, -0.7699999999999996, 0.19000000000000128, 1.7300000000000004, 3.29, 3.900010000000001, 2.8799900000000003, 2.7800000000000002, 2.0200199999999997, 1.27001]\n"
     ]
    }
   ],
   "source": [
    "difference5_gad = []\n",
    "\n",
    "zip_object = zip(temp, temp_crn)\n",
    "for temp_i, temp_crn_i in zip_object:\n",
    "    difference5_gad.append(temp_i-temp_crn_i)\n",
    "\n",
    "print(difference5_gad)"
   ]
  },
  {
   "cell_type": "markdown",
   "id": "200f3740",
   "metadata": {},
   "source": [
    "<font size=\"3\">Newton, GA: 0600 UTC (12:00 am CST) 01 March 2022-0600 UTC (12:00 am CST) 02 March 2022</font>"
   ]
  },
  {
   "cell_type": "code",
   "execution_count": 179,
   "id": "c0676e97",
   "metadata": {},
   "outputs": [
    {
     "name": "stdout",
     "output_type": "stream",
     "text": [
      "[11.69, 11.02, 9.83002, 9.11002, 8.20001, 8.09, 9.0, 12.1, 15.71, 19.62, 22.84, 25.19, 26.61, 26.97, 26.99, 25.71, 23.89, 20.94, 17.5, 15.07, 13.82, 12.07, 11.44, 10.49, 9.67001]\n"
     ]
    }
   ],
   "source": [
    "#1 hr hrrr:\n",
    "with open('hrrr_f18_Newton_GA.txt') as f:\n",
    "    lst=[line.split()[4] for line in f]\n",
    "    temp=[]\n",
    "    for i in lst:\n",
    "        new=i.replace(',',\"\")\n",
    "        temp.append(new)\n",
    "    temp.pop(0)\n",
    "    temp=[float(x) for x in temp]\n",
    "    temp=temp[2580:2605]\n",
    "    #temp=temp[2015:2063]\n",
    "    print(temp)\n",
    "    #print(len(temp))\n",
    "#full time period is [2015:2112]"
   ]
  },
  {
   "cell_type": "code",
   "execution_count": 180,
   "id": "f1c9c102",
   "metadata": {},
   "outputs": [
    {
     "name": "stdout",
     "output_type": "stream",
     "text": [
      "[13.05, 11.6, 10.5, 10.7, 10.4, 9.6, 11.05, 13.95, 17.15, 21.7, 24.65, 28.0, 30.3, 30.55, 29.799999999999997, 27.799999999999997, 24.8, 20.85, 15.600000000000001, 12.850000000000001, 11.649999999999999, 10.649999999999999, 9.95, 9.4, 8.75]\n"
     ]
    }
   ],
   "source": [
    "#Air Temp CRN:\n",
    "with open('CRNS0101-05-2022-GA_Newton_11_SW.txt') as f:\n",
    "    lst=[line.split()[12] for line in f]\n",
    "    \n",
    "    a=(float(lst[31175])+float(lst[31176]))/2\n",
    "    b=(float(lst[31187])+float(lst[31188]))/2\n",
    "    c=(float(lst[31199])+float(lst[31200]))/2\n",
    "    d=(float(lst[31211])+float(lst[31212]))/2\n",
    "    e=(float(lst[31223])+float(lst[31224]))/2\n",
    "    f=(float(lst[31235])+float(lst[31236]))/2\n",
    "    g=(float(lst[31247])+float(lst[31248]))/2\n",
    "    h=(float(lst[31259])+float(lst[31260]))/2\n",
    "    i=(float(lst[31271])+float(lst[31272]))/2\n",
    "    j=(float(lst[31283])+float(lst[31284]))/2\n",
    "    k=(float(lst[31295])+float(lst[31296]))/2\n",
    "    l=(float(lst[31307])+float(lst[31308]))/2\n",
    "    m=(float(lst[31319])+float(lst[31320]))/2\n",
    "    n=(float(lst[31331])+float(lst[31332]))/2\n",
    "    o=(float(lst[31343])+float(lst[31344]))/2\n",
    "    p=(float(lst[31355])+float(lst[31356]))/2\n",
    "    q=(float(lst[31367])+float(lst[31368]))/2\n",
    "    r=(float(lst[31379])+float(lst[31380]))/2\n",
    "    s=(float(lst[31391])+float(lst[31392]))/2\n",
    "    t=(float(lst[31403])+float(lst[31404]))/2\n",
    "    u=(float(lst[31415])+float(lst[31416]))/2\n",
    "    v=(float(lst[31427])+float(lst[31428]))/2\n",
    "    w=(float(lst[31439])+float(lst[31440]))/2\n",
    "    x=(float(lst[31451])+float(lst[31452]))/2\n",
    "    y=(float(lst[31463])+float(lst[31464]))/2\n",
    "    \n",
    "    temp_crn=[a,b,c,d,e,f,g,h,i,j,k,l,m,n,o,p,q,r,s,t,u,v,w,x,y]\n",
    "    print(temp_crn)"
   ]
  },
  {
   "cell_type": "code",
   "execution_count": 181,
   "id": "4d737508",
   "metadata": {},
   "outputs": [
    {
     "name": "stdout",
     "output_type": "stream",
     "text": [
      "[-1.3600000000000012, -0.5800000000000001, -0.6699800000000007, -1.5899799999999988, -2.1999899999999997, -1.5099999999999998, -2.0500000000000007, -1.8499999999999996, -1.4399999999999977, -2.0799999999999983, -1.8099999999999987, -2.8099999999999987, -3.6900000000000013, -3.580000000000002, -2.8099999999999987, -2.0899999999999963, -0.9100000000000001, 0.08999999999999986, 1.8999999999999986, 2.219999999999999, 2.1700000000000017, 1.4200000000000017, 1.4900000000000002, 1.0899999999999999, 0.9200099999999996]\n"
     ]
    }
   ],
   "source": [
    "difference5_newt = []\n",
    "\n",
    "zip_object = zip(temp, temp_crn)\n",
    "for temp_i, temp_crn_i in zip_object:\n",
    "    difference5_newt.append(temp_i-temp_crn_i)\n",
    "\n",
    "print(difference5_newt)"
   ]
  },
  {
   "cell_type": "markdown",
   "id": "cd4a8f77",
   "metadata": {},
   "source": [
    "<font size=\"3\">Salem, MO: 0500 UTC (12:00 am CDT) 27 April 2022-0500 UTC (12:00 am CDT) 28 April 2022</font>"
   ]
  },
  {
   "cell_type": "code",
   "execution_count": 182,
   "id": "e74c5bbe",
   "metadata": {},
   "outputs": [
    {
     "name": "stdout",
     "output_type": "stream",
     "text": [
      "[5.55002, 5.14001, 5.33002, 4.39001, 4.03, 4.28, 4.75, 8.87, 12.61, 16.04, 18.68, 21.92, 24.41, 25.66, 25.92, 25.01, 23.26, 21.07, 18.16, 15.1, 13.52, 11.8, 11.3, 10.59, 9.77002]\n",
      "25\n"
     ]
    }
   ],
   "source": [
    "#1 hr hrrr:\n",
    "with open('hrrr_f18_Salem_MO.txt') as f:\n",
    "    lst=[line.split()[4] for line in f]\n",
    "    temp=[]\n",
    "    for i in lst:\n",
    "        new=i.replace(',',\"\")\n",
    "        temp.append(new)\n",
    "    temp.pop(0)\n",
    "    temp=[float(x) for x in temp]\n",
    "    temp=temp[2772:2797]\n",
    "    #temp=temp[2015:2063]\n",
    "    print(temp)\n",
    "    print(len(temp))\n",
    "#full time period is [2015:2112]"
   ]
  },
  {
   "cell_type": "code",
   "execution_count": 183,
   "id": "c0c399a0",
   "metadata": {},
   "outputs": [
    {
     "name": "stdout",
     "output_type": "stream",
     "text": [
      "[0.6499999999999999, 0.6499999999999999, 0.75, 0.6499999999999999, 0.5, 1.0, 4.55, 9.55, 16.95, 22.9, 28.75, 30.85, 33.25, 34.05, 32.05, 29.9, 25.950000000000003, 19.5, 15.600000000000001, 13.6, 12.350000000000001, 11.0, 10.45, 11.95, 11.4]\n"
     ]
    }
   ],
   "source": [
    "#Air Temp CRN:\n",
    "with open('CRNS0101-05-2022-MO_Salem_10_W.txt') as f:\n",
    "    lst=[line.split()[12] for line in f]\n",
    "    \n",
    "    a=(float(lst[33479])+float(lst[33480]))/2\n",
    "    b=(float(lst[33491])+float(lst[33492]))/2\n",
    "    c=(float(lst[33503])+float(lst[33504]))/2\n",
    "    d=(float(lst[33515])+float(lst[33516]))/2\n",
    "    e=(float(lst[33527])+float(lst[33528]))/2\n",
    "    f=(float(lst[33539])+float(lst[33540]))/2\n",
    "    g=(float(lst[33551])+float(lst[33552]))/2\n",
    "    h=(float(lst[33563])+float(lst[33564]))/2\n",
    "    i=(float(lst[33575])+float(lst[33576]))/2\n",
    "    j=(float(lst[33587])+float(lst[33588]))/2\n",
    "    k=(float(lst[33599])+float(lst[33600]))/2\n",
    "    l=(float(lst[33611])+float(lst[33612]))/2\n",
    "    m=(float(lst[33623])+float(lst[33624]))/2\n",
    "    n=(float(lst[33635])+float(lst[33636]))/2\n",
    "    o=(float(lst[33647])+float(lst[33648]))/2\n",
    "    p=(float(lst[33659])+float(lst[33660]))/2\n",
    "    q=(float(lst[33671])+float(lst[33672]))/2\n",
    "    r=(float(lst[33683])+float(lst[33684]))/2\n",
    "    s=(float(lst[33695])+float(lst[33696]))/2\n",
    "    t=(float(lst[33707])+float(lst[33708]))/2\n",
    "    u=(float(lst[33719])+float(lst[33720]))/2\n",
    "    v=(float(lst[33731])+float(lst[33732]))/2\n",
    "    w=(float(lst[33743])+float(lst[33744]))/2\n",
    "    x=(float(lst[33755])+float(lst[33756]))/2\n",
    "    y=(float(lst[33767])+float(lst[33768]))/2\n",
    "    \n",
    "    temp_crn=[a,b,c,d,e,f,g,h,i,j,k,l,m,n,o,p,q,r,s,t,u,v,w,x,y]\n",
    "    print(temp_crn)"
   ]
  },
  {
   "cell_type": "code",
   "execution_count": 184,
   "id": "38ad8303",
   "metadata": {},
   "outputs": [
    {
     "name": "stdout",
     "output_type": "stream",
     "text": [
      "[4.90002, 4.49001, 4.58002, 3.7400100000000003, 3.5300000000000002, 3.2800000000000002, 0.20000000000000018, -0.6800000000000015, -4.34, -6.859999999999999, -10.07, -8.93, -8.84, -8.389999999999997, -6.1299999999999955, -4.889999999999997, -2.6900000000000013, 1.5700000000000003, 2.5599999999999987, 1.5, 1.1699999999999982, 0.8000000000000007, 0.8500000000000014, -1.3599999999999994, -1.6299799999999998]\n"
     ]
    }
   ],
   "source": [
    "difference6_sal = []\n",
    "\n",
    "zip_object = zip(temp, temp_crn)\n",
    "for temp_i, temp_crn_i in zip_object:\n",
    "    difference6_sal.append(temp_i-temp_crn_i)\n",
    "\n",
    "print(difference6_sal)"
   ]
  },
  {
   "cell_type": "markdown",
   "id": "a9ca1aca",
   "metadata": {},
   "source": [
    "<font size=\"3\">Batesville, AR: 0600 UTC (12:00 am CST) 01 March 2022-0600 UTC (12:00 am CST) 02 March 2022</font>"
   ]
  },
  {
   "cell_type": "code",
   "execution_count": 185,
   "id": "90b292da",
   "metadata": {},
   "outputs": [
    {
     "name": "stdout",
     "output_type": "stream",
     "text": [
      "[7.24002, 6.63, 6.12, 5.67001, 5.20999, 4.84, 5.67001, 10.35, 14.69, 17.87, 20.14, 21.78, 23.28, 24.57, 25.33, 24.94, 23.44, 21.22, 18.7, 15.0, 13.14, 11.95, 10.88, 10.09, 9.52002]\n",
      "25\n"
     ]
    }
   ],
   "source": [
    "#1 hr hrrr:\n",
    "with open('hrrr_f18_Batesville_AR.txt') as f:\n",
    "    lst=[line.split()[4] for line in f]\n",
    "    temp=[]\n",
    "    for i in lst:\n",
    "        new=i.replace(',',\"\")\n",
    "        temp.append(new)\n",
    "    temp.pop(0)\n",
    "    temp=[float(x) for x in temp]\n",
    "    temp=temp[2772:2797]\n",
    "#     x = np.array(temp)\n",
    "#     temp = ma.masked_array(x, mask=[0, 0, 0, 0, 0,0,0,0,0,0,0,0,0,0,0,0,0,0,0,0,0,1,0,0,0])\n",
    "    #temp=temp[2015:2063]\n",
    "    print(temp)\n",
    "    print(len(temp))\n",
    "#full time period is [2015:2112]"
   ]
  },
  {
   "cell_type": "code",
   "execution_count": 186,
   "id": "f0f385de",
   "metadata": {},
   "outputs": [
    {
     "name": "stdout",
     "output_type": "stream",
     "text": [
      "[2.5, 2.05, 1.8, 1.2, 1.1, 0.7, 3.15, 8.350000000000001, 14.350000000000001, 16.0, 19.65, 21.15, 22.2, 22.4, 21.6, 20.9, 18.95, 16.9, 13.25, 9.55, 8.45, 7.65, 7.05, 6.35, 6.55]\n"
     ]
    }
   ],
   "source": [
    "#Air Temp CRN:\n",
    "with open('CRNS0101-05-2022-AR_Batesville_8_WNW.txt') as f:\n",
    "    lst=[line.split()[12] for line in f]\n",
    "    \n",
    "    a=(float(lst[33479])+float(lst[33480]))/2\n",
    "    b=(float(lst[33491])+float(lst[33492]))/2\n",
    "    c=(float(lst[33503])+float(lst[33504]))/2\n",
    "    d=(float(lst[33515])+float(lst[33516]))/2\n",
    "    e=(float(lst[33527])+float(lst[33528]))/2\n",
    "    f=(float(lst[33539])+float(lst[33540]))/2\n",
    "    g=(float(lst[33551])+float(lst[33552]))/2\n",
    "    h=(float(lst[33563])+float(lst[33564]))/2\n",
    "    i=(float(lst[33575])+float(lst[33576]))/2\n",
    "    j=(float(lst[33587])+float(lst[33588]))/2\n",
    "    k=(float(lst[33599])+float(lst[33600]))/2\n",
    "    l=(float(lst[33611])+float(lst[33612]))/2\n",
    "    m=(float(lst[33623])+float(lst[33624]))/2\n",
    "    n=(float(lst[33635])+float(lst[33636]))/2\n",
    "    o=(float(lst[33647])+float(lst[33648]))/2\n",
    "    p=(float(lst[33659])+float(lst[33660]))/2\n",
    "    q=(float(lst[33671])+float(lst[33672]))/2\n",
    "    r=(float(lst[33683])+float(lst[33684]))/2\n",
    "    s=(float(lst[33695])+float(lst[33696]))/2\n",
    "    t=(float(lst[33707])+float(lst[33708]))/2\n",
    "    u=(float(lst[33719])+float(lst[33720]))/2\n",
    "    v=(float(lst[33731])+float(lst[33732]))/2\n",
    "    w=(float(lst[33743])+float(lst[33744]))/2\n",
    "    x=(float(lst[33755])+float(lst[33756]))/2\n",
    "    y=(float(lst[33767])+float(lst[33768]))/2\n",
    "    \n",
    "    temp_crn=[a,b,c,d,e,f,g,h,i,j,k,l,m,n,o,p,q,r,s,t,u,v,w,x,y]\n",
    "    print(temp_crn)"
   ]
  },
  {
   "cell_type": "code",
   "execution_count": 187,
   "id": "ea97b53d",
   "metadata": {},
   "outputs": [
    {
     "name": "stdout",
     "output_type": "stream",
     "text": [
      "[4.74002, 4.58, 4.32, 4.47001, 4.10999, 4.14, 2.5200100000000005, 1.9999999999999982, 0.3399999999999981, 1.870000000000001, 0.490000000000002, 0.6300000000000026, 1.0800000000000018, 2.1700000000000017, 3.729999999999997, 4.040000000000003, 4.490000000000002, 4.32, 5.449999999999999, 5.449999999999999, 4.690000000000001, 4.299999999999999, 3.830000000000001, 3.74, 2.9700200000000008]\n"
     ]
    }
   ],
   "source": [
    "difference6_bat = []\n",
    "\n",
    "zip_object = zip(temp, temp_crn)\n",
    "for temp_i, temp_crn_i in zip_object:\n",
    "    difference6_bat.append(temp_i-temp_crn_i)\n",
    "\n",
    "print(difference6_bat)"
   ]
  },
  {
   "cell_type": "markdown",
   "id": "5726dedb",
   "metadata": {},
   "source": [
    "<font size=\"3\">Lafayette, LA: 0600 UTC (12:00 am CST) 01 March 2022-0600 UTC (12:00 am CST) 02 March 2022</font>"
   ]
  },
  {
   "cell_type": "code",
   "execution_count": 188,
   "id": "4afdefd5",
   "metadata": {},
   "outputs": [
    {
     "name": "stdout",
     "output_type": "stream",
     "text": [
      "[17.27, 16.51, 16.07, 15.04, 14.77, 13.68, 13.51, 17.6, 21.94, 26.89, 31.51, 34.77, 36.49, 36.82, 36.61, 35.33, 33.14, 29.93, 26.28, 22.42, 19.96, 18.33, 17.57, 16.22, 15.24]\n"
     ]
    }
   ],
   "source": [
    "#1 hr hrrr:\n",
    "with open('hrrr_f18_Lafayette_LA.txt') as f:\n",
    "    lst=[line.split()[4] for line in f]\n",
    "    temp=[]\n",
    "    for i in lst:\n",
    "        new=i.replace(',',\"\")\n",
    "        temp.append(new)\n",
    "    temp.pop(0)\n",
    "    temp=[float(x) for x in temp]\n",
    "    temp=temp[2772:2797]\n",
    "    #temp=temp[2015:2063]\n",
    "    print(temp)\n",
    "    #print(len(temp))\n",
    "#full time period is [2015:2112]"
   ]
  },
  {
   "cell_type": "code",
   "execution_count": 189,
   "id": "8a2dd83c",
   "metadata": {},
   "outputs": [
    {
     "name": "stdout",
     "output_type": "stream",
     "text": [
      "[12.350000000000001, 11.25, 10.9, 11.0, 10.2, 9.05, 10.95, 16.15, 21.45, 28.65, 36.2, 39.650000000000006, 41.9, 42.35, 39.95, 38.2, 33.3, 26.85, 19.45, 13.1, 11.8, 11.05, 10.3, 10.05, 9.75]\n"
     ]
    }
   ],
   "source": [
    "#Air Temp CRN:\n",
    "with open('CRNS0101-05-2022-LA_Lafayette_13_SE.txt') as f:\n",
    "    lst=[line.split()[12] for line in f]\n",
    "    \n",
    "    a=(float(lst[33479])+float(lst[33480]))/2\n",
    "    b=(float(lst[33491])+float(lst[33492]))/2\n",
    "    c=(float(lst[33503])+float(lst[33504]))/2\n",
    "    d=(float(lst[33515])+float(lst[33516]))/2\n",
    "    e=(float(lst[33527])+float(lst[33528]))/2\n",
    "    f=(float(lst[33539])+float(lst[33540]))/2\n",
    "    g=(float(lst[33551])+float(lst[33552]))/2\n",
    "    h=(float(lst[33563])+float(lst[33564]))/2\n",
    "    i=(float(lst[33575])+float(lst[33576]))/2\n",
    "    j=(float(lst[33587])+float(lst[33588]))/2\n",
    "    k=(float(lst[33599])+float(lst[33600]))/2\n",
    "    l=(float(lst[33611])+float(lst[33612]))/2\n",
    "    m=(float(lst[33623])+float(lst[33624]))/2\n",
    "    n=(float(lst[33635])+float(lst[33636]))/2\n",
    "    o=(float(lst[33647])+float(lst[33648]))/2\n",
    "    p=(float(lst[33659])+float(lst[33660]))/2\n",
    "    q=(float(lst[33671])+float(lst[33672]))/2\n",
    "    r=(float(lst[33683])+float(lst[33684]))/2\n",
    "    s=(float(lst[33695])+float(lst[33696]))/2\n",
    "    t=(float(lst[33707])+float(lst[33708]))/2\n",
    "    u=(float(lst[33719])+float(lst[33720]))/2\n",
    "    v=(float(lst[33731])+float(lst[33732]))/2\n",
    "    w=(float(lst[33743])+float(lst[33744]))/2\n",
    "    x=(float(lst[33755])+float(lst[33756]))/2\n",
    "    y=(float(lst[33767])+float(lst[33768]))/2\n",
    "    \n",
    "    temp_crn=[a,b,c,d,e,f,g,h,i,j,k,l,m,n,o,p,q,r,s,t,u,v,w,x,y]\n",
    "    print(temp_crn)"
   ]
  },
  {
   "cell_type": "code",
   "execution_count": 190,
   "id": "7b222157",
   "metadata": {},
   "outputs": [
    {
     "name": "stdout",
     "output_type": "stream",
     "text": [
      "[4.919999999999998, 5.260000000000002, 5.17, 4.039999999999999, 4.57, 4.629999999999999, 2.5600000000000005, 1.4500000000000028, 0.490000000000002, -1.759999999999998, -4.690000000000001, -4.880000000000003, -5.409999999999997, -5.530000000000001, -3.3400000000000034, -2.8700000000000045, -0.1599999999999966, 3.0799999999999983, 6.830000000000002, 9.320000000000002, 8.16, 7.279999999999998, 7.27, 6.169999999999998, 5.49]\n"
     ]
    }
   ],
   "source": [
    "difference6_laf = []\n",
    "\n",
    "zip_object = zip(temp, temp_crn)\n",
    "for temp_i, temp_crn_i in zip_object:\n",
    "    difference6_laf.append(temp_i-temp_crn_i)\n",
    "\n",
    "print(difference6_laf)"
   ]
  },
  {
   "cell_type": "markdown",
   "id": "de2bb1cb",
   "metadata": {},
   "source": [
    "<font size=\"3\">Monroe, LA: 0600 UTC (12:00 am CST) 01 March 2022-0600 UTC (12:00 am CST) 02 March 2022</font>"
   ]
  },
  {
   "cell_type": "code",
   "execution_count": 191,
   "id": "ebecba2f",
   "metadata": {},
   "outputs": [
    {
     "name": "stdout",
     "output_type": "stream",
     "text": [
      "[10.39, 9.60001, 9.06, 8.39999, 7.89001, 7.51001, 7.56, 10.85, 14.71, 18.15, 21.72, 26.02, 29.28, 31.05, 31.22, 30.13, 28.13, 25.25, 21.96, 18.19, 16.18, 14.76, 13.3, 12.21, 11.3]\n"
     ]
    }
   ],
   "source": [
    "#1 hr hrrr:\n",
    "with open('hrrr_f18_Monroe_LA.txt') as f:\n",
    "    lst=[line.split()[4] for line in f]\n",
    "    temp=[]\n",
    "    for i in lst:\n",
    "        new=i.replace(',',\"\")\n",
    "        temp.append(new)\n",
    "    temp.pop(0)\n",
    "    temp=[float(x) for x in temp]\n",
    "    temp=temp[2772:2797]\n",
    "    #temp=temp[2015:2063]\n",
    "    print(temp)\n",
    "    #print(len(temp))\n",
    "#full time period is [2015:2112]"
   ]
  },
  {
   "cell_type": "code",
   "execution_count": 192,
   "id": "5cea29ca",
   "metadata": {},
   "outputs": [
    {
     "name": "stdout",
     "output_type": "stream",
     "text": [
      "[10.75, 10.850000000000001, 9.7, 8.55, 7.7, 6.199999999999999, 7.0, 13.4, 16.1, 20.05, 22.05, 25.15, 26.7, 27.450000000000003, 27.25, 27.2, 26.15, 19.3, 16.2, 11.399999999999999, 9.55, 8.649999999999999, 7.800000000000001, 7.35, 6.9]\n"
     ]
    }
   ],
   "source": [
    "#Air Temp CRN:\n",
    "with open('CRNS0101-05-2022-LA_Monroe_26_N.txt') as f:\n",
    "    lst=[line.split()[12] for line in f]\n",
    "    \n",
    "    a=(float(lst[33479])+float(lst[33480]))/2\n",
    "    b=(float(lst[33491])+float(lst[33492]))/2\n",
    "    c=(float(lst[33503])+float(lst[33504]))/2\n",
    "    d=(float(lst[33515])+float(lst[33516]))/2\n",
    "    e=(float(lst[33527])+float(lst[33528]))/2\n",
    "    f=(float(lst[33539])+float(lst[33540]))/2\n",
    "    g=(float(lst[33551])+float(lst[33552]))/2\n",
    "    h=(float(lst[33563])+float(lst[33564]))/2\n",
    "    i=(float(lst[33575])+float(lst[33576]))/2\n",
    "    j=(float(lst[33587])+float(lst[33588]))/2\n",
    "    k=(float(lst[33599])+float(lst[33600]))/2\n",
    "    l=(float(lst[33611])+float(lst[33612]))/2\n",
    "    m=(float(lst[33623])+float(lst[33624]))/2\n",
    "    n=(float(lst[33635])+float(lst[33636]))/2\n",
    "    o=(float(lst[33647])+float(lst[33648]))/2\n",
    "    p=(float(lst[33659])+float(lst[33660]))/2\n",
    "    q=(float(lst[33671])+float(lst[33672]))/2\n",
    "    r=(float(lst[33683])+float(lst[33684]))/2\n",
    "    s=(float(lst[33695])+float(lst[33696]))/2\n",
    "    t=(float(lst[33707])+float(lst[33708]))/2\n",
    "    u=(float(lst[33719])+float(lst[33720]))/2\n",
    "    v=(float(lst[33731])+float(lst[33732]))/2\n",
    "    w=(float(lst[33743])+float(lst[33744]))/2\n",
    "    x=(float(lst[33755])+float(lst[33756]))/2\n",
    "    y=(float(lst[33767])+float(lst[33768]))/2\n",
    "    \n",
    "    temp_crn=[a,b,c,d,e,f,g,h,i,j,k,l,m,n,o,p,q,r,s,t,u,v,w,x,y]\n",
    "    print(temp_crn)"
   ]
  },
  {
   "cell_type": "code",
   "execution_count": 193,
   "id": "7f448702",
   "metadata": {},
   "outputs": [
    {
     "name": "stdout",
     "output_type": "stream",
     "text": [
      "[-0.35999999999999943, -1.2499900000000022, -0.6399999999999988, -0.15000999999999998, 0.19001, 1.310010000000001, 0.5599999999999996, -2.5500000000000007, -1.3900000000000006, -1.9000000000000021, -0.33000000000000185, 0.870000000000001, 2.580000000000002, 3.599999999999998, 3.969999999999999, 2.9299999999999997, 1.9800000000000004, 5.949999999999999, 5.760000000000002, 6.790000000000003, 6.629999999999999, 6.110000000000001, 5.5, 4.860000000000001, 4.4]\n"
     ]
    }
   ],
   "source": [
    "difference6_mon = []\n",
    "\n",
    "zip_object = zip(temp, temp_crn)\n",
    "for temp_i, temp_crn_i in zip_object:\n",
    "    difference6_mon.append(temp_i-temp_crn_i)\n",
    "\n",
    "print(difference6_mon)"
   ]
  },
  {
   "cell_type": "markdown",
   "id": "49e00369",
   "metadata": {},
   "source": [
    "<font size=\"3\">Holly Springs, MS: 0600 UTC (12:00 am CST) 01 March 2022-0600 UTC (12:00 am CST) 02 March 2022</font>"
   ]
  },
  {
   "cell_type": "code",
   "execution_count": 194,
   "id": "a9302d89",
   "metadata": {},
   "outputs": [
    {
     "name": "stdout",
     "output_type": "stream",
     "text": [
      "[6.04001, 5.49002, 5.17001, 4.72, 4.27002, 3.88, 5.13, 9.62, 13.28, 16.42, 19.48, 22.42, 24.75, 26.53, 26.82, 25.98, 24.1, 21.58, 18.63, 14.87, 13.05, 11.86, 10.89, 10.31, 9.79001]\n"
     ]
    }
   ],
   "source": [
    "#1 hr hrrr:\n",
    "with open('hrrr_f18_Holly Springs_MS.txt') as f:\n",
    "    lst=[line.split()[4] for line in f]\n",
    "    temp=[]\n",
    "    for i in lst:\n",
    "        new=i.replace(',',\"\")\n",
    "        temp.append(new)\n",
    "    temp.pop(0)\n",
    "    temp=[float(x) for x in temp]\n",
    "    temp=temp[2772:2797]\n",
    "    #temp=temp[2015:2063]\n",
    "    print(temp)\n",
    "    #print(len(temp))\n",
    "#full time period is [2015:2112]"
   ]
  },
  {
   "cell_type": "code",
   "execution_count": 195,
   "id": "49cb6701",
   "metadata": {},
   "outputs": [
    {
     "name": "stdout",
     "output_type": "stream",
     "text": [
      "[5.9, 5.4, 4.5, 4.2, 3.75, 3.45, 5.6, 12.45, 17.5, 23.85, 30.55, 34.9, 35.95, 36.45, 35.25, 32.7, 28.35, 23.4, 16.75, 12.7, 11.2, 10.55, 9.649999999999999, 9.850000000000001, 8.55]\n"
     ]
    }
   ],
   "source": [
    "#Air Temp CRN:\n",
    "with open('CRNS0101-05-2022-MS_Holly_Springs_4_N.txt') as f:\n",
    "    lst=[line.split()[12] for line in f]\n",
    "    \n",
    "    a=(float(lst[33479])+float(lst[33480]))/2\n",
    "    b=(float(lst[33491])+float(lst[33492]))/2\n",
    "    c=(float(lst[33503])+float(lst[33504]))/2\n",
    "    d=(float(lst[33515])+float(lst[33516]))/2\n",
    "    e=(float(lst[33527])+float(lst[33528]))/2\n",
    "    f=(float(lst[33539])+float(lst[33540]))/2\n",
    "    g=(float(lst[33551])+float(lst[33552]))/2\n",
    "    h=(float(lst[33563])+float(lst[33564]))/2\n",
    "    i=(float(lst[33575])+float(lst[33576]))/2\n",
    "    j=(float(lst[33587])+float(lst[33588]))/2\n",
    "    k=(float(lst[33599])+float(lst[33600]))/2\n",
    "    l=(float(lst[33611])+float(lst[33612]))/2\n",
    "    m=(float(lst[33623])+float(lst[33624]))/2\n",
    "    n=(float(lst[33635])+float(lst[33636]))/2\n",
    "    o=(float(lst[33647])+float(lst[33648]))/2\n",
    "    p=(float(lst[33659])+float(lst[33660]))/2\n",
    "    q=(float(lst[33671])+float(lst[33672]))/2\n",
    "    r=(float(lst[33683])+float(lst[33684]))/2\n",
    "    s=(float(lst[33695])+float(lst[33696]))/2\n",
    "    t=(float(lst[33707])+float(lst[33708]))/2\n",
    "    u=(float(lst[33719])+float(lst[33720]))/2\n",
    "    v=(float(lst[33731])+float(lst[33732]))/2\n",
    "    w=(float(lst[33743])+float(lst[33744]))/2\n",
    "    x=(float(lst[33755])+float(lst[33756]))/2\n",
    "    y=(float(lst[33767])+float(lst[33768]))/2\n",
    "    \n",
    "    temp_crn=[a,b,c,d,e,f,g,h,i,j,k,l,m,n,o,p,q,r,s,t,u,v,w,x,y]\n",
    "    print(temp_crn)"
   ]
  },
  {
   "cell_type": "code",
   "execution_count": 196,
   "id": "19a13a82",
   "metadata": {},
   "outputs": [
    {
     "name": "stdout",
     "output_type": "stream",
     "text": [
      "[0.1400099999999993, 0.09001999999999999, 0.6700100000000004, 0.5199999999999996, 0.5200199999999997, 0.4299999999999997, -0.46999999999999975, -2.83, -4.220000000000001, -7.43, -11.07, -12.479999999999997, -11.200000000000003, -9.920000000000002, -8.43, -6.720000000000002, -4.25, -1.8200000000000003, 1.879999999999999, 2.17, 1.8500000000000014, 1.3099999999999987, 1.240000000000002, 0.4599999999999991, 1.2400099999999998]\n"
     ]
    }
   ],
   "source": [
    "difference6_hol = []\n",
    "\n",
    "zip_object = zip(temp, temp_crn)\n",
    "for temp_i, temp_crn_i in zip_object:\n",
    "    difference6_hol.append(temp_i-temp_crn_i)\n",
    "\n",
    "print(difference6_hol)"
   ]
  },
  {
   "cell_type": "markdown",
   "id": "4753a3b0",
   "metadata": {},
   "source": [
    "<font size=\"3\">Newton, MS: 0600 UTC (12:00 am CST) 01 March 2022-0600 UTC (12:00 am CST) 02 March 2022</font>"
   ]
  },
  {
   "cell_type": "code",
   "execution_count": 197,
   "id": "68f58603",
   "metadata": {},
   "outputs": [
    {
     "name": "stdout",
     "output_type": "stream",
     "text": [
      "[12.75, 11.98, 11.41, 10.58, 9.92999, 9.55002, 10.26, 14.04, 18.28, 22.34, 25.73, 28.53, 30.0, 30.31, 29.89, 28.82, 26.77, 24.06, 21.2, 17.77, 16.21, 14.76, 13.59, 12.41, 11.49]\n"
     ]
    }
   ],
   "source": [
    "#1 hr hrrr:\n",
    "with open('hrrr_f18_Newton_MS.txt') as f:\n",
    "    lst=[line.split()[4] for line in f]\n",
    "    temp=[]\n",
    "    for i in lst:\n",
    "        new=i.replace(',',\"\")\n",
    "        temp.append(new)\n",
    "    temp.pop(0)\n",
    "    temp=[float(x) for x in temp]\n",
    "    temp=temp[2772:2797]\n",
    "    #temp=temp[2015:2063]\n",
    "    print(temp)\n",
    "    #print(len(temp))\n",
    "#full time period is [2015:2112]"
   ]
  },
  {
   "cell_type": "code",
   "execution_count": 198,
   "id": "ddffa4a1",
   "metadata": {},
   "outputs": [
    {
     "name": "stdout",
     "output_type": "stream",
     "text": [
      "[9.649999999999999, 9.4, 8.5, 7.15, 6.2, 5.5, 8.45, 14.05, 17.7, 24.1, 28.4, 31.5, 32.3, 33.15, 33.599999999999994, 31.85, 28.35, 24.8, 19.5, 13.0, 10.9, 9.55, 8.5, 7.85, 7.1]\n"
     ]
    }
   ],
   "source": [
    "#Air Temp CRN:\n",
    "with open('CRNS0101-05-2022-MS_Newton_5_ENE.txt') as f:\n",
    "    lst=[line.split()[12] for line in f]\n",
    "    \n",
    "    a=(float(lst[33479])+float(lst[33480]))/2\n",
    "    b=(float(lst[33491])+float(lst[33492]))/2\n",
    "    c=(float(lst[33503])+float(lst[33504]))/2\n",
    "    d=(float(lst[33515])+float(lst[33516]))/2\n",
    "    e=(float(lst[33527])+float(lst[33528]))/2\n",
    "    f=(float(lst[33539])+float(lst[33540]))/2\n",
    "    g=(float(lst[33551])+float(lst[33552]))/2\n",
    "    h=(float(lst[33563])+float(lst[33564]))/2\n",
    "    i=(float(lst[33575])+float(lst[33576]))/2\n",
    "    j=(float(lst[33587])+float(lst[33588]))/2\n",
    "    k=(float(lst[33599])+float(lst[33600]))/2\n",
    "    l=(float(lst[33611])+float(lst[33612]))/2\n",
    "    m=(float(lst[33623])+float(lst[33624]))/2\n",
    "    n=(float(lst[33635])+float(lst[33636]))/2\n",
    "    o=(float(lst[33647])+float(lst[33648]))/2\n",
    "    p=(float(lst[33659])+float(lst[33660]))/2\n",
    "    q=(float(lst[33671])+float(lst[33672]))/2\n",
    "    r=(float(lst[33683])+float(lst[33684]))/2\n",
    "    s=(float(lst[33695])+float(lst[33696]))/2\n",
    "    t=(float(lst[33707])+float(lst[33708]))/2\n",
    "    u=(float(lst[33719])+float(lst[33720]))/2\n",
    "    v=(float(lst[33731])+float(lst[33732]))/2\n",
    "    w=(float(lst[33743])+float(lst[33744]))/2\n",
    "    x=(float(lst[33755])+float(lst[33756]))/2\n",
    "    y=(float(lst[33767])+float(lst[33768]))/2\n",
    "    \n",
    "    temp_crn=[a,b,c,d,e,f,g,h,i,j,k,l,m,n,o,p,q,r,s,t,u,v,w,x,y]\n",
    "    print(temp_crn)"
   ]
  },
  {
   "cell_type": "code",
   "execution_count": 199,
   "id": "d00b8a13",
   "metadata": {},
   "outputs": [
    {
     "name": "stdout",
     "output_type": "stream",
     "text": [
      "[3.1000000000000014, 2.58, 2.91, 3.4299999999999997, 3.72999, 4.05002, 1.8100000000000005, -0.010000000000001563, 0.5800000000000018, -1.7600000000000016, -2.669999999999998, -2.969999999999999, -2.299999999999997, -2.84, -3.7099999999999937, -3.030000000000001, -1.5800000000000018, -0.740000000000002, 1.6999999999999993, 4.77, 5.3100000000000005, 5.209999999999999, 5.09, 4.5600000000000005, 4.390000000000001]\n"
     ]
    }
   ],
   "source": [
    "difference6_new = []\n",
    "\n",
    "zip_object = zip(temp, temp_crn)\n",
    "for temp_i, temp_crn_i in zip_object:\n",
    "    difference6_new.append(temp_i-temp_crn_i)\n",
    "\n",
    "print(difference6_new)"
   ]
  },
  {
   "cell_type": "markdown",
   "id": "f6dc6918",
   "metadata": {},
   "source": [
    "<font size=\"3\">Gainesville, AL: 0600 UTC (12:00 am CST) 01 March 2022-0600 UTC (12:00 am CST) 02 March 2022</font>"
   ]
  },
  {
   "cell_type": "code",
   "execution_count": 200,
   "id": "853a5cd2",
   "metadata": {},
   "outputs": [],
   "source": [
    "# #1 hr hrrr:\n",
    "# with open('hrrr_f18_Gainesville_AL.txt') as f:\n",
    "#     lst=[line.split()[4] for line in f]\n",
    "#     temp=[]\n",
    "#     for i in lst:\n",
    "#         new=i.replace(',',\"\")\n",
    "#         temp.append(new)\n",
    "#     temp.pop(0)\n",
    "#     temp=[float(x) for x in temp]\n",
    "#     temp=temp[2772:2797]\n",
    "#     #temp=temp[2015:2063]\n",
    "#     print(temp)\n",
    "#     #print(len(temp))\n",
    "# #full time period is [2015:2112]"
   ]
  },
  {
   "cell_type": "code",
   "execution_count": 201,
   "id": "12cd5b43",
   "metadata": {},
   "outputs": [],
   "source": [
    "# #Air Temp CRN:\n",
    "# with open('CRNH0203-2022-AL_Gainesville_2_NE.txt') as f:\n",
    "#     lst=[line.split()[13] for line in f]\n",
    "#     #prfloat(lst)\n",
    "#     temp_crn=[]\n",
    "#     for i in lst:\n",
    "#         new=i.replace(',',\"\")\n",
    "#         temp_crn.append(new)\n",
    "#     temp_crn=[float(x) for x in temp_crn]\n",
    "#     temp_crn=temp_crn[2789:2814]\n",
    "#     print(temp_crn)\n",
    "#     #print(len(temp_crn))\n",
    "#     # print(temp_crn[2124])"
   ]
  },
  {
   "cell_type": "code",
   "execution_count": 202,
   "id": "182dac80",
   "metadata": {},
   "outputs": [],
   "source": [
    "# difference6_gai = []\n",
    "\n",
    "# zip_object = zip(temp, temp_crn)\n",
    "# for temp_i, temp_crn_i in zip_object:\n",
    "#     difference6_gai.append(temp_i-temp_crn_i)\n",
    "\n",
    "# print(difference6_gai)"
   ]
  },
  {
   "cell_type": "markdown",
   "id": "dca2fd19",
   "metadata": {},
   "source": [
    "<font size=\"3\">Fairhope, AL: 0600 UTC (12:00 am CST) 01 March 2022-0600 UTC (12:00 am CST) 02 March 2022</font>"
   ]
  },
  {
   "cell_type": "code",
   "execution_count": 203,
   "id": "a7ac678b",
   "metadata": {},
   "outputs": [
    {
     "name": "stdout",
     "output_type": "stream",
     "text": [
      "[17.27, 16.13, 15.94, 15.37, 14.7, 13.75, 14.09, 17.33, 21.15, 25.32, 28.93, 31.72, 33.04, 33.15, 32.33, 31.19, 28.85, 25.8, 22.36, 19.67, 18.41, 17.32, 16.01, 15.49, 14.72]\n"
     ]
    }
   ],
   "source": [
    "#1 hr hrrr:\n",
    "with open('hrrr_f18_Fairhope_AL.txt') as f:\n",
    "    lst=[line.split()[4] for line in f]\n",
    "    temp=[]\n",
    "    for i in lst:\n",
    "        new=i.replace(',',\"\")\n",
    "        temp.append(new)\n",
    "    temp.pop(0)\n",
    "    temp=[float(x) for x in temp]\n",
    "    temp=temp[2772:2797]\n",
    "    #temp=temp[2015:2063]\n",
    "    print(temp)\n",
    "    #print(len(temp))\n",
    "#full time period is [2015:2112]"
   ]
  },
  {
   "cell_type": "code",
   "execution_count": 204,
   "id": "eaa19ef2",
   "metadata": {},
   "outputs": [
    {
     "name": "stdout",
     "output_type": "stream",
     "text": [
      "[13.4, 12.45, 11.7, 11.5, 10.100000000000001, 9.5, 12.100000000000001, 16.1, 19.4, 22.85, 27.35, 27.3, 27.5, 27.299999999999997, 26.8, 26.200000000000003, 24.25, 20.9, 16.3, 12.45, 12.8, 10.149999999999999, 7.949999999999999, 6.9, 6.45]\n"
     ]
    }
   ],
   "source": [
    "#Air Temp CRN:\n",
    "with open('CRNS0101-05-2022-AL_Fairhope_3_NE.txt') as f:\n",
    "    lst=[line.split()[12] for line in f]\n",
    "    \n",
    "    a=(float(lst[33479])+float(lst[33480]))/2\n",
    "    b=(float(lst[33491])+float(lst[33492]))/2\n",
    "    c=(float(lst[33503])+float(lst[33504]))/2\n",
    "    d=(float(lst[33515])+float(lst[33516]))/2\n",
    "    e=(float(lst[33527])+float(lst[33528]))/2\n",
    "    f=(float(lst[33539])+float(lst[33540]))/2\n",
    "    g=(float(lst[33551])+float(lst[33552]))/2\n",
    "    h=(float(lst[33563])+float(lst[33564]))/2\n",
    "    i=(float(lst[33575])+float(lst[33576]))/2\n",
    "    j=(float(lst[33587])+float(lst[33588]))/2\n",
    "    k=(float(lst[33599])+float(lst[33600]))/2\n",
    "    l=(float(lst[33611])+float(lst[33612]))/2\n",
    "    m=(float(lst[33623])+float(lst[33624]))/2\n",
    "    n=(float(lst[33635])+float(lst[33636]))/2\n",
    "    o=(float(lst[33647])+float(lst[33648]))/2\n",
    "    p=(float(lst[33659])+float(lst[33660]))/2\n",
    "    q=(float(lst[33671])+float(lst[33672]))/2\n",
    "    r=(float(lst[33683])+float(lst[33684]))/2\n",
    "    s=(float(lst[33695])+float(lst[33696]))/2\n",
    "    t=(float(lst[33707])+float(lst[33708]))/2\n",
    "    u=(float(lst[33719])+float(lst[33720]))/2\n",
    "    v=(float(lst[33731])+float(lst[33732]))/2\n",
    "    w=(float(lst[33743])+float(lst[33744]))/2\n",
    "    x=(float(lst[33755])+float(lst[33756]))/2\n",
    "    y=(float(lst[33767])+float(lst[33768]))/2\n",
    "    \n",
    "    temp_crn=[a,b,c,d,e,f,g,h,i,j,k,l,m,n,o,p,q,r,s,t,u,v,w,x,y]\n",
    "    print(temp_crn)"
   ]
  },
  {
   "cell_type": "code",
   "execution_count": 205,
   "id": "c79c3a66",
   "metadata": {},
   "outputs": [
    {
     "name": "stdout",
     "output_type": "stream",
     "text": [
      "[3.869999999999999, 3.6799999999999997, 4.24, 3.869999999999999, 4.599999999999998, 4.25, 1.9899999999999984, 1.2299999999999969, 1.75, 2.469999999999999, 1.5799999999999983, 4.419999999999998, 5.539999999999999, 5.850000000000001, 5.529999999999998, 4.989999999999998, 4.600000000000001, 4.900000000000002, 6.059999999999999, 7.220000000000002, 5.609999999999999, 7.170000000000002, 8.060000000000002, 8.59, 8.27]\n"
     ]
    }
   ],
   "source": [
    "difference6_fai = []\n",
    "\n",
    "zip_object = zip(temp, temp_crn)\n",
    "for temp_i, temp_crn_i in zip_object:\n",
    "    difference6_fai.append(temp_i-temp_crn_i)\n",
    "\n",
    "print(difference6_fai)"
   ]
  },
  {
   "cell_type": "markdown",
   "id": "142d4e9c",
   "metadata": {},
   "source": [
    "<font size=\"3\">**Selma, AL: 0600 UTC (12:00 am CST) 01 March 2022-0600 UTC (12:00 am CST) 02 March 2022</font>"
   ]
  },
  {
   "cell_type": "code",
   "execution_count": 206,
   "id": "96d329b9",
   "metadata": {},
   "outputs": [
    {
     "name": "stdout",
     "output_type": "stream",
     "text": [
      "[11.26, 10.45, 9.81, 8.89001, 8.32001, 7.75, 9.26001, 12.63, 16.14, 19.53, 23.05, 25.78, 27.98, 28.67, 28.24, 27.44, 25.51, 23.02, 20.24, 16.68, 15.07, 13.77, 12.6, 11.5, 10.91]\n"
     ]
    }
   ],
   "source": [
    "#1 hr hrrr:\n",
    "import numpy as np\n",
    "import numpy.ma as ma\n",
    "with open('hrrr_f18_Selma_AL.txt') as f:\n",
    "    lst=[line.split()[4] for line in f]\n",
    "    temp=[]\n",
    "    for i in lst:\n",
    "        new=i.replace(',',\"\")\n",
    "        temp.append(new)\n",
    "    temp.pop(0)\n",
    "    temp=[float(x) for x in temp]\n",
    "    temp=temp[2772:2797]\n",
    "\n",
    "#     x = np.array(temp)\n",
    "#     temp = ma.masked_array(x, mask=[0, 0, 0, 0, 0,0,0,0,0,0,0,0,0,0,0,0,0,1,1,1,1,0,0,0,0])\n",
    "    print(temp)"
   ]
  },
  {
   "cell_type": "code",
   "execution_count": 207,
   "id": "08c28298",
   "metadata": {},
   "outputs": [
    {
     "name": "stdout",
     "output_type": "stream",
     "text": [
      "[9.7, 8.8, 8.2, 8.149999999999999, 7.0, 6.25, 10.15, 15.75, 20.4, 26.9, 32.35, 36.4, 39.0, 39.75, 38.25, 36.25, 32.900000000000006, 26.3, 20.3, 14.8, 12.649999999999999, 11.25, 10.4, 9.6, 8.8]\n"
     ]
    }
   ],
   "source": [
    "#Air Temp CRN:\n",
    "with open('CRNS0101-05-2022-AL_Selma_13_WNW.txt') as f:\n",
    "    lst=[line.split()[12] for line in f]\n",
    "    \n",
    "    a=(float(lst[33479])+float(lst[33480]))/2\n",
    "    b=(float(lst[33491])+float(lst[33492]))/2\n",
    "    c=(float(lst[33503])+float(lst[33504]))/2\n",
    "    d=(float(lst[33515])+float(lst[33516]))/2\n",
    "    e=(float(lst[33527])+float(lst[33528]))/2\n",
    "    f=(float(lst[33539])+float(lst[33540]))/2\n",
    "    g=(float(lst[33551])+float(lst[33552]))/2\n",
    "    h=(float(lst[33563])+float(lst[33564]))/2\n",
    "    i=(float(lst[33575])+float(lst[33576]))/2\n",
    "    j=(float(lst[33587])+float(lst[33588]))/2\n",
    "    k=(float(lst[33599])+float(lst[33600]))/2\n",
    "    l=(float(lst[33611])+float(lst[33612]))/2\n",
    "    m=(float(lst[33623])+float(lst[33624]))/2\n",
    "    n=(float(lst[33635])+float(lst[33636]))/2\n",
    "    o=(float(lst[33647])+float(lst[33648]))/2\n",
    "    p=(float(lst[33659])+float(lst[33660]))/2\n",
    "    q=(float(lst[33671])+float(lst[33672]))/2\n",
    "    r=(float(lst[33683])+float(lst[33684]))/2\n",
    "    s=(float(lst[33695])+float(lst[33696]))/2\n",
    "    t=(float(lst[33707])+float(lst[33708]))/2\n",
    "    u=(float(lst[33719])+float(lst[33720]))/2\n",
    "    v=(float(lst[33731])+float(lst[33732]))/2\n",
    "    w=(float(lst[33743])+float(lst[33744]))/2\n",
    "    x=(float(lst[33755])+float(lst[33756]))/2\n",
    "    y=(float(lst[33767])+float(lst[33768]))/2\n",
    "    \n",
    "    temp_crn=[a,b,c,d,e,f,g,h,i,j,k,l,m,n,o,p,q,r,s,t,u,v,w,x,y]\n",
    "    print(temp_crn)"
   ]
  },
  {
   "cell_type": "code",
   "execution_count": 208,
   "id": "9d9623a2",
   "metadata": {},
   "outputs": [
    {
     "name": "stdout",
     "output_type": "stream",
     "text": [
      "[1.5600000000000005, 1.6499999999999986, 1.6100000000000012, 0.7400100000000016, 1.32001, 1.5, -0.889990000000001, -3.119999999999999, -4.259999999999998, -7.369999999999997, -9.3, -10.619999999999997, -11.02, -11.079999999999998, -10.010000000000002, -8.809999999999999, -7.390000000000004, -3.280000000000001, -0.060000000000002274, 1.879999999999999, 2.4200000000000017, 2.5199999999999996, 2.1999999999999993, 1.9000000000000004, 2.1099999999999994]\n"
     ]
    }
   ],
   "source": [
    "difference6_sel = []\n",
    "\n",
    "zip_object = zip(temp, temp_crn)\n",
    "for temp_i, temp_crn_i in zip_object:\n",
    "    difference6_sel.append(temp_i-temp_crn_i)\n",
    "\n",
    "print(difference6_sel)\n",
    "#print(len(difference3_sel))"
   ]
  },
  {
   "cell_type": "markdown",
   "id": "36c4d6a8",
   "metadata": {},
   "source": [
    "<font size=\"3\">Bowling Green, KY: 0600 UTC (12:00 am CST) 01 March 2022-0600 UTC (12:00 am CST) 02 March 2022</font>"
   ]
  },
  {
   "cell_type": "code",
   "execution_count": 209,
   "id": "d83d7c4d",
   "metadata": {},
   "outputs": [
    {
     "name": "stdout",
     "output_type": "stream",
     "text": [
      "[5.29001, 4.69, 4.29001, 3.89999, 3.67999, 3.38, 6.29001, 11.18, 15.32, 19.53, 22.94, 25.91, 26.8, 27.63, 27.34, 25.92, 23.56, 20.88, 17.68, 14.62, 13.32, 12.26, 10.97, 10.87, 11.15]\n"
     ]
    }
   ],
   "source": [
    "#1 hr hrrr:\n",
    "with open('hrrr_f18_Bowling Green_KY.txt') as f:\n",
    "    lst=[line.split()[4] for line in f]\n",
    "    temp=[]\n",
    "    for i in lst:\n",
    "        new=i.replace(',',\"\")\n",
    "        temp.append(new)\n",
    "    temp.pop(0)\n",
    "    temp=[float(x) for x in temp]\n",
    "    temp=temp[2772:2797]\n",
    "    #temp=temp[2015:2063]\n",
    "    print(temp)\n",
    "    #print(len(temp))\n",
    "#full time period is [2015:2112]"
   ]
  },
  {
   "cell_type": "code",
   "execution_count": 210,
   "id": "e74d2987",
   "metadata": {},
   "outputs": [
    {
     "name": "stdout",
     "output_type": "stream",
     "text": [
      "[2.3, 1.9, 1.6, 1.55, 1.2, 1.15, 6.85, 11.85, 15.75, 19.0, 22.8, 24.299999999999997, 26.05, 26.65, 25.25, 24.5, 22.2, 18.25, 12.7, 8.8, 7.9, 7.85, 7.6, 7.95, 6.6]\n"
     ]
    }
   ],
   "source": [
    "#Air Temp CRN:\n",
    "with open('CRNS0101-05-2022-KY_Bowling_Green_21_NNE.txt') as f:\n",
    "    lst=[line.split()[12] for line in f]\n",
    "    \n",
    "    a=(float(lst[33479])+float(lst[33480]))/2\n",
    "    b=(float(lst[33491])+float(lst[33492]))/2\n",
    "    c=(float(lst[33503])+float(lst[33504]))/2\n",
    "    d=(float(lst[33515])+float(lst[33516]))/2\n",
    "    e=(float(lst[33527])+float(lst[33528]))/2\n",
    "    f=(float(lst[33539])+float(lst[33540]))/2\n",
    "    g=(float(lst[33551])+float(lst[33552]))/2\n",
    "    h=(float(lst[33563])+float(lst[33564]))/2\n",
    "    i=(float(lst[33575])+float(lst[33576]))/2\n",
    "    j=(float(lst[33587])+float(lst[33588]))/2\n",
    "    k=(float(lst[33599])+float(lst[33600]))/2\n",
    "    l=(float(lst[33611])+float(lst[33612]))/2\n",
    "    m=(float(lst[33623])+float(lst[33624]))/2\n",
    "    n=(float(lst[33635])+float(lst[33636]))/2\n",
    "    o=(float(lst[33647])+float(lst[33648]))/2\n",
    "    p=(float(lst[33659])+float(lst[33660]))/2\n",
    "    q=(float(lst[33671])+float(lst[33672]))/2\n",
    "    r=(float(lst[33683])+float(lst[33684]))/2\n",
    "    s=(float(lst[33695])+float(lst[33696]))/2\n",
    "    t=(float(lst[33707])+float(lst[33708]))/2\n",
    "    u=(float(lst[33719])+float(lst[33720]))/2\n",
    "    v=(float(lst[33731])+float(lst[33732]))/2\n",
    "    w=(float(lst[33743])+float(lst[33744]))/2\n",
    "    x=(float(lst[33755])+float(lst[33756]))/2\n",
    "    y=(float(lst[33767])+float(lst[33768]))/2\n",
    "    \n",
    "    temp_crn=[a,b,c,d,e,f,g,h,i,j,k,l,m,n,o,p,q,r,s,t,u,v,w,x,y]\n",
    "    print(temp_crn)"
   ]
  },
  {
   "cell_type": "code",
   "execution_count": 211,
   "id": "e091d5ac",
   "metadata": {},
   "outputs": [
    {
     "name": "stdout",
     "output_type": "stream",
     "text": [
      "[2.99001, 2.7900000000000005, 2.6900099999999996, 2.34999, 2.47999, 2.23, -0.55999, -0.6699999999999999, -0.4299999999999997, 0.5300000000000011, 0.14000000000000057, 1.610000000000003, 0.75, 0.9800000000000004, 2.09, 1.4200000000000017, 1.3599999999999994, 2.629999999999999, 4.98, 5.8199999999999985, 5.42, 4.41, 3.370000000000001, 2.919999999999999, 4.550000000000001]\n"
     ]
    }
   ],
   "source": [
    "difference6_bow = []\n",
    "\n",
    "zip_object = zip(temp, temp_crn)\n",
    "for temp_i, temp_crn_i in zip_object:\n",
    "    difference6_bow.append(temp_i-temp_crn_i)\n",
    "\n",
    "print(difference6_bow)"
   ]
  },
  {
   "cell_type": "markdown",
   "id": "f806c48f",
   "metadata": {},
   "source": [
    "<font size=\"3\">Gadsden, AL: 0600 UTC (12:00 am CST) 01 March 2022-0600 UTC (12:00 am CST) 02 March 2022</font>"
   ]
  },
  {
   "cell_type": "code",
   "execution_count": 212,
   "id": "8d69cb25",
   "metadata": {},
   "outputs": [
    {
     "name": "stdout",
     "output_type": "stream",
     "text": [
      "[7.78, 7.10001, 6.89999, 6.53, 6.20001, 5.38, 7.08002, 10.63, 14.37, 18.19, 21.86, 24.72, 26.18, 26.87, 26.56, 25.38, 23.27, 20.9, 17.98, 15.46, 13.78, 12.63, 11.21, 9.74002, 9.5]\n"
     ]
    }
   ],
   "source": [
    "#1 hr hrrr:\n",
    "with open('hrrr_f18_Gadsden_AL.txt') as f:\n",
    "    lst=[line.split()[4] for line in f]\n",
    "    temp=[]\n",
    "    for i in lst:\n",
    "        new=i.replace(',',\"\")\n",
    "        temp.append(new)\n",
    "    temp.pop(0)\n",
    "    temp=[float(x) for x in temp]\n",
    "    temp=temp[2772:2797]\n",
    "#     x = np.array(temp)\n",
    "#     temp = ma.masked_array(x, mask=[0, 0, 0, 0, 0,0,0,0,1,0,0,0,0,0,0,0,0,0,0,0,0,0,0,0,0])\n",
    "    #temp=temp[2015:2063]\n",
    "    print(temp)\n",
    "    #print(len(temp))\n",
    "#full time period is [2015:2112]"
   ]
  },
  {
   "cell_type": "code",
   "execution_count": 213,
   "id": "8090f870",
   "metadata": {},
   "outputs": [
    {
     "name": "stdout",
     "output_type": "stream",
     "text": [
      "[7.15, 6.3, 4.949999999999999, 5.5, 4.5, 3.1, 8.600000000000001, 13.6, 16.450000000000003, 20.4, 24.8, 27.15, 28.05, 27.95, 26.799999999999997, 24.9, 23.450000000000003, 19.3, 15.3, 10.9, 9.75, 8.3, 7.65, 6.800000000000001, 6.4]\n"
     ]
    }
   ],
   "source": [
    "#Air Temp CRN:\n",
    "with open('CRNS0101-05-2022-AL_Gadsden_19_N.txt') as f:\n",
    "    lst=[line.split()[12] for line in f]\n",
    "    \n",
    "    a=(float(lst[33479])+float(lst[33480]))/2\n",
    "    b=(float(lst[33491])+float(lst[33492]))/2\n",
    "    c=(float(lst[33503])+float(lst[33504]))/2\n",
    "    d=(float(lst[33515])+float(lst[33516]))/2\n",
    "    e=(float(lst[33527])+float(lst[33528]))/2\n",
    "    f=(float(lst[33539])+float(lst[33540]))/2\n",
    "    g=(float(lst[33551])+float(lst[33552]))/2\n",
    "    h=(float(lst[33563])+float(lst[33564]))/2\n",
    "    i=(float(lst[33575])+float(lst[33576]))/2\n",
    "    j=(float(lst[33587])+float(lst[33588]))/2\n",
    "    k=(float(lst[33599])+float(lst[33600]))/2\n",
    "    l=(float(lst[33611])+float(lst[33612]))/2\n",
    "    m=(float(lst[33623])+float(lst[33624]))/2\n",
    "    n=(float(lst[33635])+float(lst[33636]))/2\n",
    "    o=(float(lst[33647])+float(lst[33648]))/2\n",
    "    p=(float(lst[33659])+float(lst[33660]))/2\n",
    "    q=(float(lst[33671])+float(lst[33672]))/2\n",
    "    r=(float(lst[33683])+float(lst[33684]))/2\n",
    "    s=(float(lst[33695])+float(lst[33696]))/2\n",
    "    t=(float(lst[33707])+float(lst[33708]))/2\n",
    "    u=(float(lst[33719])+float(lst[33720]))/2\n",
    "    v=(float(lst[33731])+float(lst[33732]))/2\n",
    "    w=(float(lst[33743])+float(lst[33744]))/2\n",
    "    x=(float(lst[33755])+float(lst[33756]))/2\n",
    "    y=(float(lst[33767])+float(lst[33768]))/2\n",
    "    \n",
    "    temp_crn=[a,b,c,d,e,f,g,h,i,j,k,l,m,n,o,p,q,r,s,t,u,v,w,x,y]\n",
    "    print(temp_crn)"
   ]
  },
  {
   "cell_type": "code",
   "execution_count": 214,
   "id": "8b6d3e05",
   "metadata": {},
   "outputs": [
    {
     "name": "stdout",
     "output_type": "stream",
     "text": [
      "[0.6299999999999999, 0.8000100000000003, 1.9499900000000006, 1.0300000000000002, 1.7000099999999998, 2.28, -1.5199800000000012, -2.969999999999999, -2.0800000000000036, -2.2099999999999973, -2.9400000000000013, -2.4299999999999997, -1.870000000000001, -1.0799999999999983, -0.23999999999999844, 0.4800000000000004, -0.18000000000000327, 1.5999999999999979, 2.6799999999999997, 4.5600000000000005, 4.029999999999999, 4.33, 3.5600000000000005, 2.9400199999999987, 3.0999999999999996]\n"
     ]
    }
   ],
   "source": [
    "difference6_gad = []\n",
    "\n",
    "zip_object = zip(temp, temp_crn)\n",
    "for temp_i, temp_crn_i in zip_object:\n",
    "    difference6_gad.append(temp_i-temp_crn_i)\n",
    "\n",
    "print(difference6_gad)"
   ]
  },
  {
   "cell_type": "markdown",
   "id": "a0cf3d12",
   "metadata": {},
   "source": [
    "<font size=\"3\">Newton, GA: 0600 UTC (12:00 am CST) 01 March 2022-0600 UTC (12:00 am CST) 02 March 2022</font>"
   ]
  },
  {
   "cell_type": "code",
   "execution_count": 215,
   "id": "3fd04e58",
   "metadata": {},
   "outputs": [
    {
     "name": "stdout",
     "output_type": "stream",
     "text": [
      "[20.16, 18.28, 17.38, 15.9, 15.1, 14.2, 16.02, 19.83, 24.13, 28.4, 32.24, 34.35, 35.22, 35.32, 34.48, 33.31, 30.88, 27.98, 24.34, 21.64, 20.53, 19.55, 18.97, 18.0, 17.36]\n"
     ]
    }
   ],
   "source": [
    "#1 hr hrrr:\n",
    "with open('hrrr_f18_Newton_GA.txt') as f:\n",
    "    lst=[line.split()[4] for line in f]\n",
    "    temp=[]\n",
    "    for i in lst:\n",
    "        new=i.replace(',',\"\")\n",
    "        temp.append(new)\n",
    "    temp.pop(0)\n",
    "    temp=[float(x) for x in temp]\n",
    "    temp=temp[2772:2797]\n",
    "    #temp=temp[2015:2063]\n",
    "    print(temp)\n",
    "    #print(len(temp))\n",
    "#full time period is [2015:2112]"
   ]
  },
  {
   "cell_type": "code",
   "execution_count": 216,
   "id": "b2f733b9",
   "metadata": {},
   "outputs": [
    {
     "name": "stdout",
     "output_type": "stream",
     "text": [
      "[17.25, 15.7, 15.7, 15.1, 14.25, 13.55, 16.05, 20.75, 27.3, 32.4, 38.25, 41.8, 43.95, 43.15, 41.2, 37.85, 33.05, 27.65, 21.2, 18.05, 16.65, 15.75, 14.850000000000001, 14.05, 13.6]\n"
     ]
    }
   ],
   "source": [
    "#Air Temp CRN:\n",
    "with open('CRNS0101-05-2022-GA_Newton_11_SW.txt') as f:\n",
    "    lst=[line.split()[12] for line in f]\n",
    "    \n",
    "    a=(float(lst[33479])+float(lst[33480]))/2\n",
    "    b=(float(lst[33491])+float(lst[33492]))/2\n",
    "    c=(float(lst[33503])+float(lst[33504]))/2\n",
    "    d=(float(lst[33515])+float(lst[33516]))/2\n",
    "    e=(float(lst[33527])+float(lst[33528]))/2\n",
    "    f=(float(lst[33539])+float(lst[33540]))/2\n",
    "    g=(float(lst[33551])+float(lst[33552]))/2\n",
    "    h=(float(lst[33563])+float(lst[33564]))/2\n",
    "    i=(float(lst[33575])+float(lst[33576]))/2\n",
    "    j=(float(lst[33587])+float(lst[33588]))/2\n",
    "    k=(float(lst[33599])+float(lst[33600]))/2\n",
    "    l=(float(lst[33611])+float(lst[33612]))/2\n",
    "    m=(float(lst[33623])+float(lst[33624]))/2\n",
    "    n=(float(lst[33635])+float(lst[33636]))/2\n",
    "    o=(float(lst[33647])+float(lst[33648]))/2\n",
    "    p=(float(lst[33659])+float(lst[33660]))/2\n",
    "    q=(float(lst[33671])+float(lst[33672]))/2\n",
    "    r=(float(lst[33683])+float(lst[33684]))/2\n",
    "    s=(float(lst[33695])+float(lst[33696]))/2\n",
    "    t=(float(lst[33707])+float(lst[33708]))/2\n",
    "    u=(float(lst[33719])+float(lst[33720]))/2\n",
    "    v=(float(lst[33731])+float(lst[33732]))/2\n",
    "    w=(float(lst[33743])+float(lst[33744]))/2\n",
    "    x=(float(lst[33755])+float(lst[33756]))/2\n",
    "    y=(float(lst[33767])+float(lst[33768]))/2\n",
    "    \n",
    "    temp_crn=[a,b,c,d,e,f,g,h,i,j,k,l,m,n,o,p,q,r,s,t,u,v,w,x,y]\n",
    "    print(temp_crn)"
   ]
  },
  {
   "cell_type": "code",
   "execution_count": 217,
   "id": "53f1a23a",
   "metadata": {},
   "outputs": [
    {
     "name": "stdout",
     "output_type": "stream",
     "text": [
      "[2.91, 2.580000000000002, 1.6799999999999997, 0.8000000000000007, 0.8499999999999996, 0.6499999999999986, -0.030000000000001137, -0.9200000000000017, -3.1700000000000017, -4.0, -6.009999999999998, -7.449999999999996, -8.730000000000004, -7.829999999999998, -6.720000000000006, -4.539999999999999, -2.169999999999998, 0.33000000000000185, 3.1400000000000006, 3.59, 3.8800000000000026, 3.8000000000000007, 4.119999999999997, 3.9499999999999993, 3.76]\n"
     ]
    }
   ],
   "source": [
    "difference6_newt = []\n",
    "\n",
    "zip_object = zip(temp, temp_crn)\n",
    "for temp_i, temp_crn_i in zip_object:\n",
    "    difference6_newt.append(temp_i-temp_crn_i)\n",
    "\n",
    "print(difference6_newt)"
   ]
  },
  {
   "cell_type": "code",
   "execution_count": 218,
   "id": "8a134c48",
   "metadata": {},
   "outputs": [
    {
     "name": "stdout",
     "output_type": "stream",
     "text": [
      "25\n"
     ]
    }
   ],
   "source": [
    "hour=[6,7,8,9,10,11,12,13,14,15,16,17,18,19,20,21,22,23,0,1,2,3,4,5,6]\n",
    "print(len(hour))"
   ]
  },
  {
   "cell_type": "code",
   "execution_count": 219,
   "id": "45def68f",
   "metadata": {},
   "outputs": [
    {
     "name": "stdout",
     "output_type": "stream",
     "text": [
      "range(0, 25)\n"
     ]
    }
   ],
   "source": [
    "xs = range(len(hour))\n",
    "print(xs)"
   ]
  },
  {
   "cell_type": "code",
   "execution_count": 220,
   "id": "d5fd370b",
   "metadata": {},
   "outputs": [
    {
     "name": "stdout",
     "output_type": "stream",
     "text": [
      "[ 3.29000455  3.04182473  2.87909736  2.92182064  3.06000718  2.61818791\n",
      "  2.00091348  0.73909718 -1.23726727 -2.80090727 -3.92727273 -4.17181818\n",
      " -3.83363636 -2.96181818 -2.23181818 -0.99909091  0.47545455  2.45363636\n",
      "  4.83090909  4.92545455  4.91181727  4.84909364  5.03727727  4.74636909\n",
      "  4.47091091]\n",
      "[1.50222079 1.7109124  2.08689502 1.77240434 1.33117683 0.70787317\n",
      " 1.49758753 1.02729809 1.89570135 2.00059222 2.00486268 2.56463649\n",
      " 2.90773349 2.25275515 2.10495873 1.92869459 1.74827896 1.55684572\n",
      " 2.31106215 2.05997071 2.07018848 2.17952908 2.12642281 2.14042627\n",
      " 2.13531653]\n"
     ]
    },
    {
     "data": {
      "text/plain": [
       "25"
      ]
     },
     "execution_count": 220,
     "metadata": {},
     "output_type": "execute_result"
    }
   ],
   "source": [
    "# data = np.array([difference1_sal,difference1_sel,difference1_mon])\n",
    "# np.ma.average(data, axis=0)\n",
    "c1 = np.array([difference1_sal,difference1_bat,difference1_laf,difference1_mon,difference1_hol,difference1_new,difference1_fai,difference1_sel,difference1_bow,difference1_gad,difference1_newt])\n",
    "c1=np.nanmean(c1, axis=0)\n",
    "print(c1)\n",
    "len(c1)\n",
    "\n",
    "b1 = np.array([difference1_sal,difference1_bat,difference1_laf,difference1_mon,difference1_hol,difference1_new,difference1_fai,difference1_sel,difference1_bow,difference1_gad,difference1_newt])\n",
    "b1=np.nanstd(b1, axis=0)\n",
    "print(b1)\n",
    "len(b1)"
   ]
  },
  {
   "cell_type": "code",
   "execution_count": 221,
   "id": "7d6e3e43",
   "metadata": {},
   "outputs": [
    {
     "data": {
      "image/png": "[encoded data removed]",
      "text/plain": [
       "<Figure size 792x396 with 1 Axes>"
      ]
     },
     "metadata": {},
     "output_type": "display_data"
    }
   ],
   "source": [
    "plt.style.use('seaborn-whitegrid')\n",
    "plt.rcParams[\"figure.figsize\"] = [11.00, 5.50]\n",
    "plt.rcParams[\"figure.autolayout\"] = True\n",
    "plt.yticks(np.arange(-10,12,2))\n",
    "plt.ylim(-10,10)\n",
    "# c[6]=None\n",
    "# b[6]=None\n",
    "\n",
    "plt.plot(xs,c1,c=\"b\")\n",
    "plt.errorbar(xs,c1,c=\"b\",yerr=b1,linestyle='None', marker='s')\n",
    "# c[6]=None\n",
    "# b[6]=None\n",
    "\n",
    "plt.title(\"18-hr Avg. MBE All Stations\")\n",
    "plt.xlabel(\"UTC Hour\")\n",
    "plt.ylabel(\"MBE Surface Temperature (C)\")\n",
    "#plt.plot(hour,c)\n",
    "#plt.errorbar(hour,c,yerr=b,ecolor='r',elinewidth=5,fmt='s',color='k')\n",
    "#plt.grid()\n",
    "#plt.xticks(np.arange(min(xs), max(xs)+1, 1.0))\n",
    "plt.xticks(xs, hour)\n",
    "plt.show()\n",
    "#plt.axvspan(-4, 4, color='green', alpha=0.2, lw=0)"
   ]
  },
  {
   "cell_type": "code",
   "execution_count": 222,
   "id": "d14691f0",
   "metadata": {},
   "outputs": [
    {
     "name": "stdout",
     "output_type": "stream",
     "text": [
      "[ 2.79546264  2.44272991  2.82546319  2.56546825  2.07819064  2.03273318\n",
      "  1.93637491  0.32455055 -1.36181364 -2.71090182 -3.65999545 -4.31636364\n",
      " -4.42272727 -3.33636364 -2.62636364 -1.08363636  0.03818182  1.77454727\n",
      "  3.36091455  4.39637273  3.84909455  3.11454909  2.72455     2.41727909\n",
      "  1.77364427]\n",
      "[1.78985473 1.93705158 2.12482853 2.15606095 1.60268898 1.69405529\n",
      " 1.46642672 1.23430268 1.95901913 2.71484034 3.42547175 3.8623033\n",
      " 3.31739517 2.72493627 2.65954635 2.71075391 1.77925326 1.92042153\n",
      " 2.11328481 2.60667965 2.29666692 2.38709569 2.49092851 2.47596791\n",
      " 2.21670307]\n"
     ]
    },
    {
     "data": {
      "text/plain": [
       "25"
      ]
     },
     "execution_count": 222,
     "metadata": {},
     "output_type": "execute_result"
    }
   ],
   "source": [
    "c2 = np.array([difference2_sal,difference2_bat,difference2_laf,difference2_mon,difference2_hol,difference2_new,difference2_fai,difference2_sel,difference2_bow,difference2_gad,difference2_newt])\n",
    "c2=np.nanmean(c2, axis=0)\n",
    "print(c2)\n",
    "len(c2)\n",
    "\n",
    "b2 = np.array([difference2_sal,difference2_bat,difference2_laf,difference2_mon,difference2_hol,difference2_new,difference2_fai,difference2_sel,difference2_bow,difference2_gad,difference2_newt])\n",
    "b2=np.nanstd(b2, axis=0)\n",
    "print(b2)\n",
    "len(b2)"
   ]
  },
  {
   "cell_type": "code",
   "execution_count": 223,
   "id": "4c8ac8a3",
   "metadata": {},
   "outputs": [
    {
     "data": {
      "image/png": "[encoded data removed]",
      "text/plain": [
       "<Figure size 792x396 with 1 Axes>"
      ]
     },
     "metadata": {},
     "output_type": "display_data"
    }
   ],
   "source": [
    "plt.style.use('seaborn-whitegrid')\n",
    "plt.rcParams[\"figure.figsize\"] = [11.00, 5.50]\n",
    "plt.yticks(np.arange(-10,12,2))\n",
    "plt.ylim(-10,10)\n",
    "# c[6]=None\n",
    "# b[6]=None\n",
    "\n",
    "plt.plot(xs,c2,c=\"red\")\n",
    "plt.errorbar(xs,c2,c=\"red\",yerr=b1,linestyle='None', marker='s')\n",
    "# c[6]=None\n",
    "# b[6]=None\n",
    "\n",
    "plt.title(\"18-hr Avg. MBE All Stations\")\n",
    "plt.xlabel(\"UTC Hour\")\n",
    "plt.ylabel(\"MBE Surface Temperature (C)\")\n",
    "#plt.plot(hour,c)\n",
    "#plt.errorbar(hour,c,yerr=b,ecolor='r',elinewidth=5,fmt='s',color='k')\n",
    "#plt.grid()\n",
    "#plt.xticks(np.arange(min(xs), max(xs)+1, 1.0))\n",
    "plt.xticks(xs, hour)\n",
    "plt.show()\n",
    "#plt.axvspan(-4, 4, color='green', alpha=0.2, lw=0)"
   ]
  },
  {
   "cell_type": "code",
   "execution_count": 224,
   "id": "e0b94a04",
   "metadata": {},
   "outputs": [
    {
     "name": "stdout",
     "output_type": "stream",
     "text": [
      "[ 4.16546455  3.95455455  3.82728     3.64818736  3.45273353  3.40454991\n",
      "  3.05091127  0.31637091 -1.52636273 -2.47636364 -3.26090909 -3.29454545\n",
      " -2.80090909 -2.26727273 -1.31727273 -0.57272727  0.87454545  2.59727273\n",
      "  4.97181818  5.29909091  4.58454636  3.88909273  4.03454818  3.84818545\n",
      "  3.53909455]\n",
      "[2.04773418 2.09605393 2.17967838 2.00109343 1.84199675 1.75076079\n",
      " 1.86291151 1.60317636 1.89978647 2.58455649 3.02945976 3.53275418\n",
      " 4.33214718 4.35523111 4.59221098 3.72762681 3.05748668 3.09099599\n",
      " 3.109922   2.90604841 2.35554819 2.20731954 2.20948249 2.15282636\n",
      " 1.94893916]\n"
     ]
    },
    {
     "data": {
      "text/plain": [
       "25"
      ]
     },
     "execution_count": 224,
     "metadata": {},
     "output_type": "execute_result"
    }
   ],
   "source": [
    "c3 = np.array([difference3_sal,difference3_bat,difference3_laf,difference3_mon,difference3_hol,difference3_new,difference3_fai,difference3_sel,difference3_bow,difference3_gad,difference3_newt])\n",
    "c3=np.nanmean(c3, axis=0)\n",
    "print(c3)\n",
    "len(c3)\n",
    "\n",
    "b3 = np.array([difference3_sal,difference3_bat,difference3_laf,difference3_mon,difference3_hol,difference3_new,difference3_fai,difference3_sel,difference3_bow,difference3_gad,difference3_newt])\n",
    "b3=np.nanstd(b3, axis=0)\n",
    "print(b3)\n",
    "len(b3)"
   ]
  },
  {
   "cell_type": "code",
   "execution_count": 225,
   "id": "0d8bef30",
   "metadata": {
    "scrolled": false
   },
   "outputs": [],
   "source": [
    "# def mean(numbers):\n",
    "#     return float(sum(numbers)) / max(len(numbers), 1)\n",
    "\n",
    "# # difference1_sel[17]=0\n",
    "# # difference1_sel[18]=0\n",
    "# # difference1_sel[19]=0\n",
    "# # difference1_sel[20]=0\n",
    "# c3 = [mean(i) for i in zip(difference3_sal,difference3_bat,difference3_laf,difference3_mon,difference3_hol,difference3_new,difference3_gai,difference3_fai,difference3_sel,difference3_bow,difference3_gad,difference3_newt)]\n",
    "# #difference1_bow[6]=0\n",
    "# b3 = [np.std(i) for i in zip(difference3_sal,difference3_bat,difference3_laf,difference3_mon,difference3_hol,difference3_new,difference3_gai,difference3_fai,difference3_sel,difference3_bow,difference3_gad,difference3_newt)]\n",
    "# print (c3)\n",
    "# print(len(c3))\n",
    "# print(b3)\n",
    "# print(len(b3))"
   ]
  },
  {
   "cell_type": "code",
   "execution_count": 226,
   "id": "00a5e783",
   "metadata": {},
   "outputs": [
    {
     "data": {
      "image/png": "[encoded data removed]",
      "text/plain": [
       "<Figure size 792x396 with 1 Axes>"
      ]
     },
     "metadata": {},
     "output_type": "display_data"
    }
   ],
   "source": [
    "plt.style.use('seaborn-whitegrid')\n",
    "plt.rcParams[\"figure.figsize\"] = [11.00, 5.50]\n",
    "plt.rcParams[\"figure.autolayout\"] = True\n",
    "plt.yticks(np.arange(-10,12,2))\n",
    "plt.ylim(-10,10)\n",
    "# c[6]=None\n",
    "# b[6]=None\n",
    "\n",
    "plt.plot(xs,c3,c=\"green\")\n",
    "plt.errorbar(xs,c3,c=\"green\",yerr=b3,linestyle='None', marker='s')\n",
    "# c[6]=None\n",
    "# b[6]=None\n",
    "\n",
    "plt.title(\"18-hr Avg. MBE All Stations\")\n",
    "plt.xlabel(\"UTC Hour\")\n",
    "plt.ylabel(\"MBE Surface Temperature (C)\")\n",
    "#plt.plot(hour,c)\n",
    "#plt.errorbar(hour,c,yerr=b,ecolor='r',elinewidth=5,fmt='s',color='k')\n",
    "#plt.grid()\n",
    "#plt.xticks(np.arange(min(xs), max(xs)+1, 1.0))\n",
    "plt.xticks(xs, hour)\n",
    "plt.show()\n",
    "#plt.axvspan(-4, 4, color='green', alpha=0.2, lw=0)"
   ]
  },
  {
   "cell_type": "code",
   "execution_count": 227,
   "id": "a2b4f439",
   "metadata": {},
   "outputs": [
    {
     "name": "stdout",
     "output_type": "stream",
     "text": [
      "[ 4.39091273  4.30909273  3.73727364  4.15273455  3.53455273  3.43182364\n",
      "  2.43364091 -0.50091    -1.69636364 -2.46090909 -3.25636364 -3.08090909\n",
      " -2.70272727 -2.07363636 -0.72454545  0.06727273  1.09181818  3.26\n",
      "  4.07        4.34363636  4.04091091  3.54454455  3.72000182  3.09727727\n",
      "  2.93000455]\n",
      "[1.71259649 1.52750662 1.48826746 1.65121778 1.56683897 1.33392994\n",
      " 1.44648919 1.41532337 2.0816963  2.72118108 3.48416228 3.92331134\n",
      " 4.15078107 3.94335638 3.06082093 3.51097783 2.73428674 2.43245854\n",
      " 2.22554181 2.29547093 2.12770004 2.06730113 1.99461122 2.11994044\n",
      " 1.89979821]\n"
     ]
    },
    {
     "data": {
      "text/plain": [
       "25"
      ]
     },
     "execution_count": 227,
     "metadata": {},
     "output_type": "execute_result"
    }
   ],
   "source": [
    "c4 = np.array([difference4_sal,difference4_bat,difference4_laf,difference4_mon,difference4_hol,difference4_new,difference4_fai,difference4_sel,difference4_bow,difference4_gad,difference4_newt])\n",
    "c4=np.nanmean(c4, axis=0)\n",
    "print(c4)\n",
    "len(c4)\n",
    "\n",
    "b4 = np.array([difference4_sal,difference4_bat,difference4_laf,difference4_mon,difference4_hol,difference4_new,difference4_fai,difference4_sel,difference4_bow,difference4_gad,difference4_newt])\n",
    "b4=np.nanstd(b4, axis=0)\n",
    "print(b4)\n",
    "len(b4)"
   ]
  },
  {
   "cell_type": "code",
   "execution_count": 228,
   "id": "b1774c6c",
   "metadata": {
    "scrolled": false
   },
   "outputs": [],
   "source": [
    "# def mean(numbers):\n",
    "#     return float(sum(numbers)) / max(len(numbers), 1)\n",
    "\n",
    "# # difference1_sel[17]=0\n",
    "# # difference1_sel[18]=0\n",
    "# # difference1_sel[19]=0\n",
    "# # difference1_sel[20]=0\n",
    "# c4 = [mean(i) for i in zip(difference4_sal,difference4_bat,difference4_laf,difference4_mon,difference4_hol,difference4_new,difference4_gai,difference4_fai,difference4_sel,difference4_bow,difference4_gad,difference4_newt)]\n",
    "# #difference1_bow[6]=0\n",
    "# b4 = [np.std(i) for i in zip(difference4_sal,difference4_bat,difference4_laf,difference4_mon,difference4_hol,difference4_new,difference4_gai,difference4_fai,difference4_sel,difference4_bow,difference4_gad,difference4_newt)]\n",
    "# print (c4)\n",
    "# print(len(c4))\n",
    "# print(b4)\n",
    "# print(len(b4))"
   ]
  },
  {
   "cell_type": "code",
   "execution_count": 229,
   "id": "e70a6cef",
   "metadata": {},
   "outputs": [
    {
     "data": {
      "image/png": "[encoded data removed]",
      "text/plain": [
       "<Figure size 792x396 with 1 Axes>"
      ]
     },
     "metadata": {},
     "output_type": "display_data"
    }
   ],
   "source": [
    "plt.style.use('seaborn-whitegrid')\n",
    "plt.rcParams[\"figure.figsize\"] = [11.00, 5.50]\n",
    "plt.rcParams[\"figure.autolayout\"] = True\n",
    "plt.yticks(np.arange(-10,12,2))\n",
    "plt.ylim(-10,10)\n",
    "# c[6]=None\n",
    "# b[6]=None\n",
    "\n",
    "plt.plot(xs,c4,c=\"orange\")\n",
    "plt.errorbar(xs,c4,c=\"orange\",yerr=b4,linestyle='None', marker='s')\n",
    "# c[6]=None\n",
    "# b[6]=None\n",
    "\n",
    "plt.title(\"18-hr Avg. MBE All Stations\")\n",
    "plt.xlabel(\"UTC Hour\")\n",
    "plt.ylabel(\"MBE Surface Temperature (C)\")\n",
    "#plt.plot(hour,c)\n",
    "#plt.errorbar(hour,c,yerr=b,ecolor='r',elinewidth=5,fmt='s',color='k')\n",
    "#plt.grid()\n",
    "#plt.xticks(np.arange(min(xs), max(xs)+1, 1.0))\n",
    "plt.xticks(xs, hour)\n",
    "plt.show()\n",
    "#plt.axvspan(-4, 4, color='green', alpha=0.2, lw=0)"
   ]
  },
  {
   "cell_type": "code",
   "execution_count": 230,
   "id": "dbef1150",
   "metadata": {},
   "outputs": [
    {
     "name": "stdout",
     "output_type": "stream",
     "text": [
      "[ 1.52727536  1.52364082  1.14091407  1.19455518  1.13455045  1.30818736\n",
      " -0.06908464 -1.78363    -2.03272455 -3.17181636 -3.08545455 -3.31363636\n",
      " -3.26363636 -2.62909091 -1.72       -1.60181818 -0.90818182  0.49909091\n",
      "  2.59545455  3.89272727  3.97545909  3.41545818  2.83363545  2.55818455\n",
      "  2.21727818]\n",
      "[1.5676852  1.21717765 1.12824127 1.56211671 1.83281347 1.89925456\n",
      " 1.45618618 1.04839427 1.79680014 2.74810179 3.85512967 4.07543254\n",
      " 4.9051314  4.83513364 4.90456003 4.6276576  4.61686989 3.42844108\n",
      " 2.53025462 2.43881898 2.19068586 2.43201886 2.02544971 2.1390339\n",
      " 1.92484994]\n"
     ]
    },
    {
     "data": {
      "text/plain": [
       "25"
      ]
     },
     "execution_count": 230,
     "metadata": {},
     "output_type": "execute_result"
    }
   ],
   "source": [
    "# data = np.array([difference1_sal,difference1_sel,difference1_mon])\n",
    "# np.ma.average(data, axis=0)\n",
    "c5 = np.array([difference5_sal,difference5_bat,difference5_laf,difference5_mon,difference5_hol,difference5_new,difference5_fai,difference5_sel,difference5_bow,difference5_gad,difference5_newt])\n",
    "c5=np.nanmean(c5, axis=0)\n",
    "print(c5)\n",
    "len(c5)\n",
    "\n",
    "b5 = np.array([difference5_sal,difference5_bat,difference5_laf,difference5_mon,difference5_hol,difference5_new,difference5_fai,difference5_sel,difference5_bow,difference5_gad,difference5_newt])\n",
    "b5=np.nanstd(b5, axis=0)\n",
    "print(b5)\n",
    "len(b5)"
   ]
  },
  {
   "cell_type": "code",
   "execution_count": 231,
   "id": "f702e673",
   "metadata": {},
   "outputs": [
    {
     "data": {
      "image/png": "[encoded data removed]",
      "text/plain": [
       "<Figure size 792x396 with 1 Axes>"
      ]
     },
     "metadata": {},
     "output_type": "display_data"
    }
   ],
   "source": [
    "plt.style.use('seaborn-whitegrid')\n",
    "plt.rcParams[\"figure.figsize\"] = [11.00, 5.50]\n",
    "plt.rcParams[\"figure.autolayout\"] = True\n",
    "plt.yticks(np.arange(-10,12,2))\n",
    "plt.ylim(-10,10)\n",
    "# c[6]=None\n",
    "# b[6]=None\n",
    "\n",
    "plt.plot(xs,c5,c=\"m\")\n",
    "plt.errorbar(xs,c5,c=\"m\",yerr=b1,linestyle='None', marker='s')\n",
    "# c[6]=None\n",
    "# b[6]=None\n",
    "\n",
    "plt.title(\"18-hr Avg. MBE All Stations\")\n",
    "plt.xlabel(\"UTC Hour\")\n",
    "plt.ylabel(\"MBE Surface Temperature (C)\")\n",
    "#plt.plot(hour,c)\n",
    "#plt.errorbar(hour,c,yerr=b,ecolor='r',elinewidth=5,fmt='s',color='k')\n",
    "#plt.grid()\n",
    "#plt.xticks(np.arange(min(xs), max(xs)+1, 1.0))\n",
    "plt.xticks(xs, hour)\n",
    "plt.show()\n",
    "#plt.axvspan(-4, 4, color='green', alpha=0.2, lw=0)"
   ]
  },
  {
   "cell_type": "code",
   "execution_count": 232,
   "id": "9a9988dd",
   "metadata": {},
   "outputs": [
    {
     "name": "stdout",
     "output_type": "stream",
     "text": [
      "[ 2.67273273  2.47727727  2.65273     2.25818273  2.50909273  2.61363909\n",
      "  0.56091364 -0.82454545 -1.52090909 -2.58363636 -4.07909091 -3.83909091\n",
      " -3.58363636 -3.09727273 -2.11454545 -1.54545455 -0.54454545  1.68545455\n",
      "  3.72545455  4.82454545  4.47        4.29454545  4.09909091  3.52091091\n",
      "  3.51364091]\n",
      "[1.83602203 1.92756688 1.72464675 1.62376256 1.591782   1.45860101\n",
      " 1.37082574 1.78277803 2.12332695 3.35372865 4.30818134 5.25253091\n",
      " 5.53586533 5.55971237 5.17349954 4.37447839 3.45098501 2.74660241\n",
      " 2.09777962 2.32689947 1.99400009 2.04144941 2.17256637 2.5643831\n",
      " 2.3984916 ]\n"
     ]
    },
    {
     "data": {
      "text/plain": [
       "25"
      ]
     },
     "execution_count": 232,
     "metadata": {},
     "output_type": "execute_result"
    }
   ],
   "source": [
    "# data = np.array([difference1_sal,difference1_sel,difference1_mon])\n",
    "# np.ma.average(data, axis=0)\n",
    "c6 = np.array([difference6_sal,difference6_bat,difference6_laf,difference6_mon,difference6_hol,difference6_new,difference6_fai,difference6_sel,difference6_bow,difference6_gad,difference6_newt])\n",
    "c6=np.nanmean(c6, axis=0)\n",
    "print(c6)\n",
    "len(c6)\n",
    "\n",
    "b6 = np.array([difference6_sal,difference6_bat,difference6_laf,difference6_mon,difference6_hol,difference6_new,difference6_fai,difference6_sel,difference6_bow,difference6_gad,difference6_newt])\n",
    "b6=np.nanstd(b6, axis=0)\n",
    "print(b6)\n",
    "len(b6)"
   ]
  },
  {
   "cell_type": "code",
   "execution_count": 233,
   "id": "fe59ac61",
   "metadata": {},
   "outputs": [],
   "source": [
    "# c6=[1.18699667,1.2159875,1.202925,1.02153,0.915495,1.02571667,1.26524667,None,2.2831875,1.7132,1.37515833,1.22099167,1.35300833,1.414275,1.26331667,1.0291,0.78611667,0.569625,0.34864167,0.18683333,1.40921667,2.328025,2.40613333,2.28898333,2.3347]\n",
    "# print(c6)\n",
    "\n",
    "# b6=[1.97701539,1.9395002,1.87538972,1.65278454,1.56076627,1.60271154,1.38167358,None,1.35925266,1.47758425,1.57097252,1.69290383,1.59484406,1.23676456,1.09269393,1.01123893,0.9324703,0.81224555,0.88487667,1.22252443,1.84667376,2.11633728,2.18744841,1.95969035,1.94028697]\n",
    "# print(b6)"
   ]
  },
  {
   "cell_type": "code",
   "execution_count": 234,
   "id": "da13ba5a",
   "metadata": {},
   "outputs": [
    {
     "data": {
      "image/png": "[encoded data removed]",
      "text/plain": [
       "<Figure size 792x396 with 1 Axes>"
      ]
     },
     "metadata": {},
     "output_type": "display_data"
    }
   ],
   "source": [
    "plt.style.use('seaborn-whitegrid')\n",
    "plt.rcParams[\"figure.figsize\"] = [11.00, 5.50]\n",
    "plt.rcParams[\"figure.autolayout\"] = True\n",
    "plt.yticks(np.arange(-10,12,2))\n",
    "plt.ylim(-10,10)\n",
    "# c[6]=None\n",
    "# b[6]=None\n",
    "\n",
    "plt.plot(xs,c6,c=\"c\")\n",
    "plt.errorbar(xs,c6,c=\"c\",yerr=b6,linestyle='None', marker='s')\n",
    "# c[6]=None\n",
    "# b[6]=None\n",
    "\n",
    "plt.title(\"18-hr Avg. MBE All Stations\")\n",
    "plt.xlabel(\"UTC Hour\")\n",
    "plt.ylabel(\"MBE Surface Temperature (C)\")\n",
    "#plt.plot(hour,c)\n",
    "#plt.errorbar(hour,c,yerr=b,ecolor='r',elinewidth=5,fmt='s',color='k')\n",
    "#plt.grid()\n",
    "#plt.xticks(np.arange(min(xs), max(xs)+1, 1.0))\n",
    "plt.xticks(xs, hour)\n",
    "plt.show()\n",
    "#plt.axvspan(-4, 4, color='green', alpha=0.2, lw=0)"
   ]
  },
  {
   "cell_type": "code",
   "execution_count": 235,
   "id": "240eafe4",
   "metadata": {},
   "outputs": [
    {
     "data": {
      "image/png": "[encoded data removed]",
      "text/plain": [
       "<Figure size 792x396 with 1 Axes>"
      ]
     },
     "metadata": {},
     "output_type": "display_data"
    }
   ],
   "source": [
    "plt.style.use('seaborn-whitegrid')\n",
    "plt.rcParams[\"figure.figsize\"] = [11.00, 5.50]\n",
    "plt.rcParams[\"figure.autolayout\"] = True\n",
    "plt.yticks(np.arange(-10,12,2))\n",
    "plt.ylim(-10,10)\n",
    "\n",
    "plt.plot(xs,c1,c=\"b\",label=\"IOP 1\")\n",
    "plt.errorbar(xs,c1,c=\"b\",yerr=b1,linestyle='None', marker='s')\n",
    "\n",
    "plt.plot(xs,c2,c=\"r\",label=\"IOP 2\")\n",
    "plt.errorbar(xs,c2,c=\"r\",yerr=b2,linestyle='None', marker='s')\n",
    "\n",
    "plt.plot(xs,c3,c=\"green\")\n",
    "plt.errorbar(xs,c3,c=\"green\",yerr=b3,linestyle='None', marker='s')\n",
    "\n",
    "plt.plot(xs,c4,c=\"orange\")\n",
    "plt.errorbar(xs,c4,c=\"orange\",yerr=b4,linestyle='None', marker='s')\n",
    "\n",
    "plt.plot(xs,c5,c=\"m\")\n",
    "plt.errorbar(xs,c5,c=\"m\",yerr=b5,linestyle='None', marker='s')\n",
    "\n",
    "plt.plot(xs,c6,c=\"c\")\n",
    "plt.errorbar(xs,c6,c=\"c\",yerr=b6,linestyle='None', marker='s')\n",
    "\n",
    "plt.title(\"18-hr Avg. MBE All Stations\")\n",
    "plt.xlabel(\"UTC Hour\")\n",
    "plt.ylabel(\"MBE Surface Temperature (C)\")\n",
    "#plt.plot(hour,c)\n",
    "#plt.errorbar(hour,c,yerr=b,ecolor='r',elinewidth=5,fmt='s',color='k')\n",
    "#plt.grid()\n",
    "plt.xticks(xs, hour)\n",
    "plt.legend([\"IOP 1\", \"IOP 2\",\"IOP 3\",\"IOP 4\",\"IOP 5\",\"IOP 6\"], loc =\"lower right\")\n",
    "plt.show()"
   ]
  },
  {
   "cell_type": "code",
   "execution_count": null,
   "id": "fb2dfa55",
   "metadata": {},
   "outputs": [],
   "source": []
  },
  {
   "cell_type": "code",
   "execution_count": null,
   "id": "30914e00",
   "metadata": {},
   "outputs": [],
   "source": []
  }
 ],
 "metadata": {
  "kernelspec": {
   "display_name": "Python 3 (ipykernel)",
   "language": "python",
   "name": "python3"
  },
  "language_info": {
   "codemirror_mode": {
    "name": "ipython",
    "version": 3
   },
   "file_extension": ".py",
   "mimetype": "text/x-python",
   "name": "python",
   "nbconvert_exporter": "python",
   "pygments_lexer": "ipython3",
   "version": "3.9.12"
  }
 },
 "nbformat": 4,
 "nbformat_minor": 5
}
