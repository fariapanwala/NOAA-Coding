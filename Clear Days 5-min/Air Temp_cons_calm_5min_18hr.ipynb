{
 "cells": [
  {
   "cell_type": "code",
   "execution_count": 1,
   "id": "83d28093",
   "metadata": {},
   "outputs": [],
   "source": [
    "import numpy as np\n",
    "import matplotlib.pyplot as plt\n",
    "import math\n",
    "import numpy.ma as ma"
   ]
  },
  {
   "cell_type": "markdown",
   "id": "18ad22a0",
   "metadata": {},
   "source": [
    "<font size=\"3\">Salem, MO: 0600 UTC (12:00 am CST) 01 March 2022-0600 UTC (12:00 am CST) 02 March 2022</font>"
   ]
  },
  {
   "cell_type": "code",
   "execution_count": 2,
   "id": "9d3b9481",
   "metadata": {},
   "outputs": [
    {
     "name": "stdout",
     "output_type": "stream",
     "text": [
      "[3.18735, 2.33096, 1.89999, 2.15555, 2.08304, 1.95718, 1.74136, 2.18704, 5.07303, 9.15997, 12.4778, 15.9657, 18.4326, 20.5579, 21.8496, 21.926, 21.6734, 19.4111, 15.7227, 13.1557, 11.6357, 10.4175, 9.76852, 9.10385, 8.45621]\n",
      "25\n"
     ]
    }
   ],
   "source": [
    "#1 hr hrrr:\n",
    "with open('hrrr_f18_Salem_MO.txt') as f:\n",
    "    lst=[line.split()[1] for line in f]\n",
    "    temp=[]\n",
    "    for i in lst:\n",
    "        new=i.replace(',',\"\")\n",
    "        temp.append(new)\n",
    "    temp.pop(0)\n",
    "    temp=[float(x) for x in temp]\n",
    "    temp=temp[1404:1429]\n",
    "    #temp=temp[2015:2063]\n",
    "    print(temp)\n",
    "    print(len(temp))\n",
    "#full time period is [2015:2112]"
   ]
  },
  {
   "cell_type": "code",
   "execution_count": 3,
   "id": "e9d4dbcc",
   "metadata": {},
   "outputs": [
    {
     "name": "stdout",
     "output_type": "stream",
     "text": [
      "[-1.35, -2.95, -3.05, -2.7, -0.44999999999999996, 5.2, 6.8, 7.15, 10.0, 12.45, 15.649999999999999, 18.85, 21.2, 22.6, 23.5, 23.55, 23.4, 22.0, 19.35, 17.6, 15.7, 9.55, 8.55, 8.2, 11.75]\n"
     ]
    }
   ],
   "source": [
    "#Air Temp CRN:\n",
    "with open('CRNS0101-05-2022-MO_Salem_10_W.txt') as f:\n",
    "    lst=[line.split()[8] for line in f]\n",
    "\n",
    "    a=(float(lst[17063])+float(lst[17064]))/2\n",
    "    b=(float(lst[17075])+float(lst[17076]))/2\n",
    "    c=(float(lst[17087])+float(lst[17088]))/2\n",
    "    d=(float(lst[17099])+float(lst[17100]))/2\n",
    "    e=(float(lst[17111])+float(lst[17112]))/2\n",
    "    f=(float(lst[17123])+float(lst[17124]))/2\n",
    "    g=(float(lst[17135])+float(lst[17136]))/2\n",
    "    h=(float(lst[17147])+float(lst[17148]))/2\n",
    "    i=(float(lst[17159])+float(lst[17160]))/2\n",
    "    j=(float(lst[17171])+float(lst[17172]))/2\n",
    "    k=(float(lst[17183])+float(lst[17184]))/2\n",
    "    l=(float(lst[17195])+float(lst[17196]))/2\n",
    "    m=(float(lst[17207])+float(lst[17208]))/2\n",
    "    n=(float(lst[17219])+float(lst[17220]))/2\n",
    "    o=(float(lst[17231])+float(lst[17232]))/2\n",
    "    p=(float(lst[17243])+float(lst[17244]))/2\n",
    "    q=(float(lst[17255])+float(lst[17256]))/2\n",
    "    r=(float(lst[17267])+float(lst[17268]))/2\n",
    "    s=(float(lst[17279])+float(lst[17280]))/2\n",
    "    t=(float(lst[17291])+float(lst[17292]))/2\n",
    "    u=(float(lst[17303])+float(lst[17304]))/2\n",
    "    v=(float(lst[17315])+float(lst[17316]))/2\n",
    "    w=(float(lst[17327])+float(lst[17328]))/2\n",
    "    x=(float(lst[17339])+float(lst[17340]))/2\n",
    "    y=(float(lst[17351])+float(lst[17352]))/2\n",
    "    temp_crn=[a,b,c,d,e,f,g,h,i,j,k,l,m,n,o,p,q,r,s,t,u,v,w,x,y]\n",
    "    print(temp_crn)"
   ]
  },
  {
   "cell_type": "code",
   "execution_count": 4,
   "id": "1e9aed03-d99c-4045-812a-e26bcc99b84f",
   "metadata": {},
   "outputs": [
    {
     "name": "stdout",
     "output_type": "stream",
     "text": [
      "[4.53735, 5.28096, 4.94999, 4.85555, 2.5330399999999997, -3.24282, -5.05864, -4.962960000000001, -4.92697, -3.29003, -3.1721999999999984, -2.8843000000000014, -2.7673999999999985, -2.0421000000000014, -1.6504000000000012, -1.6240000000000023, -1.7265999999999977, -2.588899999999999, -3.6273000000000017, -4.444300000000002, -4.064299999999999, 0.8674999999999997, 1.2185199999999998, 0.9038500000000003, -3.2937899999999996]\n"
     ]
    }
   ],
   "source": [
    "difference1_sal = []\n",
    "\n",
    "zip_object = zip(temp, temp_crn)\n",
    "for temp_i, temp_crn_i in zip_object:\n",
    "    difference1_sal.append(temp_i-temp_crn_i)\n",
    "\n",
    "print(difference1_sal)"
   ]
  },
  {
   "cell_type": "markdown",
   "id": "9043c519",
   "metadata": {},
   "source": [
    "<font size=\"3\">Batesville, AR: 0600 UTC (12:00 am CST) 01 March 2022-0600 UTC (12:00 am CST) 02 March 2022</font>"
   ]
  },
  {
   "cell_type": "code",
   "execution_count": 5,
   "id": "af395ecc",
   "metadata": {},
   "outputs": [
    {
     "name": "stdout",
     "output_type": "stream",
     "text": [
      "[5.37485, 4.70596, 4.33749, 4.09305, 4.58304, 5.14468, 4.99136, 4.99954, 6.19803, 10.535, 14.1653, 16.4657, 18.4951, 19.3704, 20.0371, 20.301, 19.6109, 18.2236, 14.5352, 12.1557, 11.0107, 10.9175, 10.6435, 10.7289, 9.83121]\n"
     ]
    }
   ],
   "source": [
    "#1 hr hrrr:\n",
    "with open('hrrr_f18_Batesville_AR.txt') as f:\n",
    "    lst=[line.split()[1] for line in f]\n",
    "    temp=[]\n",
    "    for i in lst:\n",
    "        new=i.replace(',',\"\")\n",
    "        temp.append(new)\n",
    "    temp.pop(0)\n",
    "    temp=[float(x) for x in temp]\n",
    "    temp=temp[1404:1429]\n",
    "#     x = np.array(temp)\n",
    "#     temp = ma.masked_array(x, mask=[0, 0, 0, 0, 0,0,0,0,0,0,0,0,0,0,0,0,0,0,0,0,0,1,0,0,0])\n",
    "    #temp=temp[2015:2063]\n",
    "    print(temp)\n",
    "    ##prfloat(len(temp))\n",
    "#full time period is [2015:2112]"
   ]
  },
  {
   "cell_type": "code",
   "execution_count": 6,
   "id": "5da1fd53",
   "metadata": {},
   "outputs": [
    {
     "name": "stdout",
     "output_type": "stream",
     "text": [
      "[1.45, -0.25, -0.35, -0.9, -1.05, -1.45, -1.4, -1.15, 2.8, 11.7, 17.0, 20.15, 22.049999999999997, 22.9, 22.85, 23.05, 22.6, 21.1, 18.3, 16.5, 13.25, 8.05, 7.35, 5.5, 3.85]\n"
     ]
    }
   ],
   "source": [
    "#Air Temp CRN:\n",
    "with open('CRNS0101-05-2022-AR_Batesville_8_WNW.txt') as f:\n",
    "    lst=[line.split()[8] for line in f]\n",
    "    \n",
    "    a=(float(lst[17063])+float(lst[17064]))/2\n",
    "    b=(float(lst[17075])+float(lst[17076]))/2\n",
    "    c=(float(lst[17087])+float(lst[17088]))/2\n",
    "    d=(float(lst[17099])+float(lst[17100]))/2\n",
    "    e=(float(lst[17111])+float(lst[17112]))/2\n",
    "    f=(float(lst[17123])+float(lst[17124]))/2\n",
    "    g=(float(lst[17135])+float(lst[17136]))/2\n",
    "    h=(float(lst[17147])+float(lst[17148]))/2\n",
    "    i=(float(lst[17159])+float(lst[17160]))/2\n",
    "    j=(float(lst[17171])+float(lst[17172]))/2\n",
    "    k=(float(lst[17183])+float(lst[17184]))/2\n",
    "    l=(float(lst[17195])+float(lst[17196]))/2\n",
    "    m=(float(lst[17207])+float(lst[17208]))/2\n",
    "    n=(float(lst[17219])+float(lst[17220]))/2\n",
    "    o=(float(lst[17231])+float(lst[17232]))/2\n",
    "    p=(float(lst[17243])+float(lst[17244]))/2\n",
    "    q=(float(lst[17255])+float(lst[17256]))/2\n",
    "    r=(float(lst[17267])+float(lst[17268]))/2\n",
    "    s=(float(lst[17279])+float(lst[17280]))/2\n",
    "    t=(float(lst[17291])+float(lst[17292]))/2\n",
    "    u=(float(lst[17303])+float(lst[17304]))/2\n",
    "    v=(float(lst[17315])+float(lst[17316]))/2\n",
    "    w=(float(lst[17327])+float(lst[17328]))/2\n",
    "    x=(float(lst[17339])+float(lst[17340]))/2\n",
    "    y=(float(lst[17351])+float(lst[17352]))/2\n",
    "    temp_crn=[a,b,c,d,e,f,g,h,i,j,k,l,m,n,o,p,q,r,s,t,u,v,w,x,y]\n",
    "    print(temp_crn)"
   ]
  },
  {
   "cell_type": "code",
   "execution_count": 7,
   "id": "62a46873",
   "metadata": {},
   "outputs": [
    {
     "name": "stdout",
     "output_type": "stream",
     "text": [
      "[3.92485, 4.95596, 4.6874899999999995, 4.99305, 5.633039999999999, 6.59468, 6.391360000000001, 6.14954, 3.3980300000000003, -1.1649999999999991, -2.8346999999999998, -3.6843000000000004, -3.5548999999999964, -3.5295999999999985, -2.8129000000000026, -2.7490000000000023, -2.9891000000000005, -2.8764000000000003, -3.764800000000001, -4.3443000000000005, -2.2393, 2.8674999999999997, 3.2935, 5.228899999999999, 5.981210000000001]\n"
     ]
    }
   ],
   "source": [
    "difference1_bat = []\n",
    "\n",
    "zip_object = zip(temp, temp_crn)\n",
    "for temp_i, temp_crn_i in zip_object:\n",
    "    difference1_bat.append(temp_i-temp_crn_i)\n",
    "\n",
    "print(difference1_bat)"
   ]
  },
  {
   "cell_type": "markdown",
   "id": "2a2589df",
   "metadata": {},
   "source": [
    "<font size=\"3\">Lafayette, LA: 0600 UTC (12:00 am CST) 01 March 2022-0600 UTC (12:00 am CST) 02 March 2022</font>"
   ]
  },
  {
   "cell_type": "code",
   "execution_count": 8,
   "id": "3fd34af2",
   "metadata": {},
   "outputs": [
    {
     "name": "stdout",
     "output_type": "stream",
     "text": [
      "[7.24985, 6.70596, 6.46249, 5.59305, 5.33304, 4.45718, 4.05386, 3.43704, 7.44803, 11.8475, 16.1028, 18.6532, 20.3701, 21.8079, 22.6621, 23.1135, 22.4859, 21.5361, 18.9727, 15.5307, 13.8857, 12.2925, 10.7685, 9.97885, 9.39371]\n"
     ]
    }
   ],
   "source": [
    "#1 hr hrrr:\n",
    "with open('hrrr_f18_Lafayette_LA.txt') as f:\n",
    "    lst=[line.split()[1] for line in f]\n",
    "    temp=[]\n",
    "    for i in lst:\n",
    "        new=i.replace(',',\"\")\n",
    "        temp.append(new)\n",
    "    temp.pop(0)\n",
    "    temp=[float(x) for x in temp]\n",
    "    temp=temp[1404:1429]\n",
    "    #temp=temp[2015:2063]\n",
    "    print(temp)\n",
    "    ##prfloat(len(temp))\n",
    "#full time period is [2015:2112]"
   ]
  },
  {
   "cell_type": "code",
   "execution_count": 9,
   "id": "2aa0e7ac",
   "metadata": {},
   "outputs": [
    {
     "name": "stdout",
     "output_type": "stream",
     "text": [
      "[6.7, 4.9, 4.05, 3.45, 2.7, 2.75, 2.75, 2.4, 8.350000000000001, 12.0, 15.55, 17.3, 17.65, 18.9, 19.8, 20.5, 20.35, 20.2, 17.799999999999997, 13.8, 12.25, 11.350000000000001, 10.0, 9.25, 7.0]\n"
     ]
    }
   ],
   "source": [
    "#Air Temp CRN:\n",
    "with open('CRNS0101-05-2022-LA_Lafayette_13_SE.txt') as f:\n",
    "    lst=[line.split()[8] for line in f]\n",
    "    \n",
    "    a=(float(lst[17063])+float(lst[17064]))/2\n",
    "    b=(float(lst[17075])+float(lst[17076]))/2\n",
    "    c=(float(lst[17087])+float(lst[17088]))/2\n",
    "    d=(float(lst[17099])+float(lst[17100]))/2\n",
    "    e=(float(lst[17111])+float(lst[17112]))/2\n",
    "    f=(float(lst[17123])+float(lst[17124]))/2\n",
    "    g=(float(lst[17135])+float(lst[17136]))/2\n",
    "    h=(float(lst[17147])+float(lst[17148]))/2\n",
    "    i=(float(lst[17159])+float(lst[17160]))/2\n",
    "    j=(float(lst[17171])+float(lst[17172]))/2\n",
    "    k=(float(lst[17183])+float(lst[17184]))/2\n",
    "    l=(float(lst[17195])+float(lst[17196]))/2\n",
    "    m=(float(lst[17207])+float(lst[17208]))/2\n",
    "    n=(float(lst[17219])+float(lst[17220]))/2\n",
    "    o=(float(lst[17231])+float(lst[17232]))/2\n",
    "    p=(float(lst[17243])+float(lst[17244]))/2\n",
    "    q=(float(lst[17255])+float(lst[17256]))/2\n",
    "    r=(float(lst[17267])+float(lst[17268]))/2\n",
    "    s=(float(lst[17279])+float(lst[17280]))/2\n",
    "    t=(float(lst[17291])+float(lst[17292]))/2\n",
    "    u=(float(lst[17303])+float(lst[17304]))/2\n",
    "    v=(float(lst[17315])+float(lst[17316]))/2\n",
    "    w=(float(lst[17327])+float(lst[17328]))/2\n",
    "    x=(float(lst[17339])+float(lst[17340]))/2\n",
    "    y=(float(lst[17351])+float(lst[17352]))/2\n",
    "    temp_crn=[a,b,c,d,e,f,g,h,i,j,k,l,m,n,o,p,q,r,s,t,u,v,w,x,y]\n",
    "    print(temp_crn)"
   ]
  },
  {
   "cell_type": "code",
   "execution_count": 10,
   "id": "9b94d0f9",
   "metadata": {},
   "outputs": [
    {
     "name": "stdout",
     "output_type": "stream",
     "text": [
      "[0.5498500000000002, 1.8059599999999998, 2.41249, 2.1430499999999997, 2.6330399999999994, 1.7071800000000001, 1.3038600000000002, 1.0370400000000002, -0.9019700000000013, -0.15249999999999986, 0.5527999999999977, 1.3531999999999975, 2.720100000000002, 2.9079000000000015, 2.862099999999998, 2.6134999999999984, 2.1358999999999995, 1.3361000000000018, 1.1727000000000025, 1.7306999999999988, 1.6357, 0.942499999999999, 0.7684999999999995, 0.7288499999999996, 2.3937100000000004]\n"
     ]
    }
   ],
   "source": [
    "difference1_laf = []\n",
    "\n",
    "zip_object = zip(temp, temp_crn)\n",
    "for temp_i, temp_crn_i in zip_object:\n",
    "    difference1_laf.append(temp_i-temp_crn_i)\n",
    "\n",
    "print(difference1_laf)"
   ]
  },
  {
   "cell_type": "markdown",
   "id": "7a8d079f",
   "metadata": {},
   "source": [
    "<font size=\"3\">Monroe, LA: 0600 UTC (12:00 am CST) 01 March 2022-0600 UTC (12:00 am CST) 02 March 2022</font>"
   ]
  },
  {
   "cell_type": "code",
   "execution_count": 11,
   "id": "9c6d2382",
   "metadata": {},
   "outputs": [
    {
     "name": "stdout",
     "output_type": "stream",
     "text": [
      "[4.18735, 3.26846, 2.33749, 1.84305, 1.64554, 1.08218, 1.67886, 1.06204, 4.07303, 9.40997, 13.0403, 15.7782, 17.3076, 18.1204, 18.6621, 19.426, 19.2359, 18.4736, 14.4102, 12.2807, 10.6982, 9.79254, 8.70602, 7.79135, 7.08121]\n"
     ]
    }
   ],
   "source": [
    "#1 hr hrrr:\n",
    "with open('hrrr_f18_Monroe_LA.txt') as f:\n",
    "    lst=[line.split()[1] for line in f]\n",
    "    temp=[]\n",
    "    for i in lst:\n",
    "        new=i.replace(',',\"\")\n",
    "        temp.append(new)\n",
    "    temp.pop(0)\n",
    "    temp=[float(x) for x in temp]\n",
    "    temp=temp[1404:1429]\n",
    "    #temp=temp[2015:2063]\n",
    "    print(temp)\n",
    "    ##prfloat(len(temp))\n",
    "#full time period is [2015:2112]"
   ]
  },
  {
   "cell_type": "code",
   "execution_count": 12,
   "id": "3fe08a4e",
   "metadata": {},
   "outputs": [
    {
     "name": "stdout",
     "output_type": "stream",
     "text": [
      "[2.0, 2.6500000000000004, 2.4, 1.45, 0.4, -0.45, -0.2, -0.4, 2.25, 11.55, 15.7, 17.6, 18.700000000000003, 19.95, 20.95, 21.4, 21.3, 20.45, 13.899999999999999, 9.45, 7.25, 5.35, 4.25, 3.7, 3.2]\n"
     ]
    }
   ],
   "source": [
    "#Air Temp CRN:\n",
    "with open('CRNS0101-05-2022-LA_Monroe_26_N.txt') as f:\n",
    "    lst=[line.split()[8] for line in f]\n",
    "    \n",
    "    a=(float(lst[17063])+float(lst[17064]))/2\n",
    "    b=(float(lst[17075])+float(lst[17076]))/2\n",
    "    c=(float(lst[17087])+float(lst[17088]))/2\n",
    "    d=(float(lst[17099])+float(lst[17100]))/2\n",
    "    e=(float(lst[17111])+float(lst[17112]))/2\n",
    "    f=(float(lst[17123])+float(lst[17124]))/2\n",
    "    g=(float(lst[17135])+float(lst[17136]))/2\n",
    "    h=(float(lst[17147])+float(lst[17148]))/2\n",
    "    i=(float(lst[17159])+float(lst[17160]))/2\n",
    "    j=(float(lst[17171])+float(lst[17172]))/2\n",
    "    k=(float(lst[17183])+float(lst[17184]))/2\n",
    "    l=(float(lst[17195])+float(lst[17196]))/2\n",
    "    m=(float(lst[17207])+float(lst[17208]))/2\n",
    "    n=(float(lst[17219])+float(lst[17220]))/2\n",
    "    o=(float(lst[17231])+float(lst[17232]))/2\n",
    "    p=(float(lst[17243])+float(lst[17244]))/2\n",
    "    q=(float(lst[17255])+float(lst[17256]))/2\n",
    "    r=(float(lst[17267])+float(lst[17268]))/2\n",
    "    s=(float(lst[17279])+float(lst[17280]))/2\n",
    "    t=(float(lst[17291])+float(lst[17292]))/2\n",
    "    u=(float(lst[17303])+float(lst[17304]))/2\n",
    "    v=(float(lst[17315])+float(lst[17316]))/2\n",
    "    w=(float(lst[17327])+float(lst[17328]))/2\n",
    "    x=(float(lst[17339])+float(lst[17340]))/2\n",
    "    y=(float(lst[17351])+float(lst[17352]))/2\n",
    "    temp_crn=[a,b,c,d,e,f,g,h,i,j,k,l,m,n,o,p,q,r,s,t,u,v,w,x,y]\n",
    "    print(temp_crn)"
   ]
  },
  {
   "cell_type": "code",
   "execution_count": 13,
   "id": "2b4e383a",
   "metadata": {},
   "outputs": [
    {
     "name": "stdout",
     "output_type": "stream",
     "text": [
      "[2.1873500000000003, 0.6184599999999998, -0.06251000000000007, 0.3930500000000001, 1.24554, 1.5321799999999999, 1.87886, 1.46204, 1.8230300000000002, -2.140030000000001, -2.659699999999999, -1.8218000000000014, -1.392400000000002, -1.8295999999999992, -2.2879000000000005, -1.9740000000000002, -2.0641, -1.9763999999999982, 0.5102000000000011, 2.8307, 3.4482, 4.442540000000001, 4.4560200000000005, 4.09135, 3.8812099999999994]\n"
     ]
    }
   ],
   "source": [
    "difference1_mon = []\n",
    "\n",
    "zip_object = zip(temp, temp_crn)\n",
    "for temp_i, temp_crn_i in zip_object:\n",
    "    difference1_mon.append(temp_i-temp_crn_i)\n",
    "\n",
    "print(difference1_mon)"
   ]
  },
  {
   "cell_type": "markdown",
   "id": "26c585ff",
   "metadata": {},
   "source": [
    "<font size=\"3\">Holly Springs, MS: 0600 UTC (12:00 am CST) 01 March 2022-0600 UTC (12:00 am CST) 02 March 2022</font>"
   ]
  },
  {
   "cell_type": "code",
   "execution_count": 14,
   "id": "175bd35c",
   "metadata": {},
   "outputs": [
    {
     "name": "stdout",
     "output_type": "stream",
     "text": [
      "[3.37485, 2.95596, 2.64999, 2.78055, 2.52054, 2.20718, 1.80386, 2.37454, 5.38553, 8.97247, 11.3528, 13.0282, 14.6201, 15.6204, 15.9746, 16.551, 15.4234, 13.9736, 11.2852, 9.96823, 9.26065, 8.60504, 8.64352, 7.91635, 7.26871]\n"
     ]
    }
   ],
   "source": [
    "#1 hr hrrr:\n",
    "with open('hrrr_f18_Holly Springs_MS.txt') as f:\n",
    "    lst=[line.split()[1] for line in f]\n",
    "    temp=[]\n",
    "    for i in lst:\n",
    "        new=i.replace(',',\"\")\n",
    "        temp.append(new)\n",
    "    temp.pop(0)\n",
    "    temp=[float(x) for x in temp]\n",
    "    temp=temp[1404:1429]\n",
    "    #temp=temp[2015:2063]\n",
    "    print(temp)\n",
    "    ##prfloat(len(temp))\n",
    "#full time period is [2015:2112]"
   ]
  },
  {
   "cell_type": "code",
   "execution_count": 15,
   "id": "f416219a",
   "metadata": {},
   "outputs": [
    {
     "name": "stdout",
     "output_type": "stream",
     "text": [
      "[0.55, -0.25, -0.8, -1.2, -1.8, -2.1500000000000004, -2.05, -1.85, 2.5, 11.2, 14.55, 17.6, 19.1, 20.0, 20.3, 20.700000000000003, 20.1, 18.55, 14.350000000000001, 12.0, 9.25, 9.8, 11.35, 9.75, 6.05]\n"
     ]
    }
   ],
   "source": [
    "#Air Temp CRN:\n",
    "with open('CRNS0101-05-2022-MS_Holly_Springs_4_N.txt') as f:\n",
    "    lst=[line.split()[8] for line in f]\n",
    "    \n",
    "    a=(float(lst[17063])+float(lst[17064]))/2\n",
    "    b=(float(lst[17075])+float(lst[17076]))/2\n",
    "    c=(float(lst[17087])+float(lst[17088]))/2\n",
    "    d=(float(lst[17099])+float(lst[17100]))/2\n",
    "    e=(float(lst[17111])+float(lst[17112]))/2\n",
    "    f=(float(lst[17123])+float(lst[17124]))/2\n",
    "    g=(float(lst[17135])+float(lst[17136]))/2\n",
    "    h=(float(lst[17147])+float(lst[17148]))/2\n",
    "    i=(float(lst[17159])+float(lst[17160]))/2\n",
    "    j=(float(lst[17171])+float(lst[17172]))/2\n",
    "    k=(float(lst[17183])+float(lst[17184]))/2\n",
    "    l=(float(lst[17195])+float(lst[17196]))/2\n",
    "    m=(float(lst[17207])+float(lst[17208]))/2\n",
    "    n=(float(lst[17219])+float(lst[17220]))/2\n",
    "    o=(float(lst[17231])+float(lst[17232]))/2\n",
    "    p=(float(lst[17243])+float(lst[17244]))/2\n",
    "    q=(float(lst[17255])+float(lst[17256]))/2\n",
    "    r=(float(lst[17267])+float(lst[17268]))/2\n",
    "    s=(float(lst[17279])+float(lst[17280]))/2\n",
    "    t=(float(lst[17291])+float(lst[17292]))/2\n",
    "    u=(float(lst[17303])+float(lst[17304]))/2\n",
    "    v=(float(lst[17315])+float(lst[17316]))/2\n",
    "    w=(float(lst[17327])+float(lst[17328]))/2\n",
    "    x=(float(lst[17339])+float(lst[17340]))/2\n",
    "    y=(float(lst[17351])+float(lst[17352]))/2\n",
    "    temp_crn=[a,b,c,d,e,f,g,h,i,j,k,l,m,n,o,p,q,r,s,t,u,v,w,x,y]\n",
    "    print(temp_crn)"
   ]
  },
  {
   "cell_type": "code",
   "execution_count": 16,
   "id": "46b095cb",
   "metadata": {},
   "outputs": [
    {
     "name": "stdout",
     "output_type": "stream",
     "text": [
      "[2.8248499999999996, 3.20596, 3.4499899999999997, 3.98055, 4.32054, 4.3571800000000005, 3.85386, 4.22454, 2.88553, -2.22753, -3.1972000000000005, -4.571800000000001, -4.479900000000001, -4.3796, -4.3254, -4.1490000000000045, -4.6766000000000005, -4.576400000000001, -3.0648000000000017, -2.03177, 0.010650000000000048, -1.19496, -2.706479999999999, -1.8336499999999996, 1.2187099999999997]\n"
     ]
    }
   ],
   "source": [
    "difference1_hol = []\n",
    "\n",
    "zip_object = zip(temp, temp_crn)\n",
    "for temp_i, temp_crn_i in zip_object:\n",
    "    difference1_hol.append(temp_i-temp_crn_i)\n",
    "\n",
    "print(difference1_hol)"
   ]
  },
  {
   "cell_type": "markdown",
   "id": "1c76c308",
   "metadata": {},
   "source": [
    "<font size=\"3\">Newton, MS: 0600 UTC (12:00 am CST) 01 March 2022-0600 UTC (12:00 am CST) 02 March 2022</font>"
   ]
  },
  {
   "cell_type": "code",
   "execution_count": 17,
   "id": "06decf86",
   "metadata": {},
   "outputs": [
    {
     "name": "stdout",
     "output_type": "stream",
     "text": [
      "[4.24985, 3.45596, 3.02499, 2.59305, 2.77054, 2.58218, 1.67886, 1.62454, 6.82303, 11.16, 14.7903, 16.9657, 18.6201, 19.6829, 20.2871, 21.2385, 20.7984, 19.9736, 15.9102, 13.0932, 11.2607, 10.1675, 9.01852, 8.10385, 6.64371]\n"
     ]
    }
   ],
   "source": [
    "#1 hr hrrr:\n",
    "with open('hrrr_f18_Newton_MS.txt') as f:\n",
    "    lst=[line.split()[1] for line in f]\n",
    "    temp=[]\n",
    "    for i in lst:\n",
    "        new=i.replace(',',\"\")\n",
    "        temp.append(new)\n",
    "    temp.pop(0)\n",
    "    temp=[float(x) for x in temp]\n",
    "    temp=temp[1404:1429]\n",
    "    #temp=temp[2015:2063]\n",
    "    print(temp)\n",
    "    ##prfloat(len(temp))\n",
    "#full time period is [2015:2112]"
   ]
  },
  {
   "cell_type": "code",
   "execution_count": 18,
   "id": "9672674c",
   "metadata": {},
   "outputs": [
    {
     "name": "stdout",
     "output_type": "stream",
     "text": [
      "[1.95, 1.15, 0.5, 0.15000000000000002, -0.7, -1.05, -0.55, 0.30000000000000004, 3.75, 9.25, 13.1, 15.0, 17.1, 17.85, 19.4, 19.75, 20.1, 19.200000000000003, 14.35, 9.7, 7.7, 6.1, 4.75, 3.75, 2.8]\n"
     ]
    }
   ],
   "source": [
    "#Air Temp CRN:\n",
    "with open('CRNS0101-05-2022-MS_Newton_5_ENE.txt') as f:\n",
    "    lst=[line.split()[8] for line in f]\n",
    "    \n",
    "    a=(float(lst[17063])+float(lst[17064]))/2\n",
    "    b=(float(lst[17075])+float(lst[17076]))/2\n",
    "    c=(float(lst[17087])+float(lst[17088]))/2\n",
    "    d=(float(lst[17099])+float(lst[17100]))/2\n",
    "    e=(float(lst[17111])+float(lst[17112]))/2\n",
    "    f=(float(lst[17123])+float(lst[17124]))/2\n",
    "    g=(float(lst[17135])+float(lst[17136]))/2\n",
    "    h=(float(lst[17147])+float(lst[17148]))/2\n",
    "    i=(float(lst[17159])+float(lst[17160]))/2\n",
    "    j=(float(lst[17171])+float(lst[17172]))/2\n",
    "    k=(float(lst[17183])+float(lst[17184]))/2\n",
    "    l=(float(lst[17195])+float(lst[17196]))/2\n",
    "    m=(float(lst[17207])+float(lst[17208]))/2\n",
    "    n=(float(lst[17219])+float(lst[17220]))/2\n",
    "    o=(float(lst[17231])+float(lst[17232]))/2\n",
    "    p=(float(lst[17243])+float(lst[17244]))/2\n",
    "    q=(float(lst[17255])+float(lst[17256]))/2\n",
    "    r=(float(lst[17267])+float(lst[17268]))/2\n",
    "    s=(float(lst[17279])+float(lst[17280]))/2\n",
    "    t=(float(lst[17291])+float(lst[17292]))/2\n",
    "    u=(float(lst[17303])+float(lst[17304]))/2\n",
    "    v=(float(lst[17315])+float(lst[17316]))/2\n",
    "    w=(float(lst[17327])+float(lst[17328]))/2\n",
    "    x=(float(lst[17339])+float(lst[17340]))/2\n",
    "    y=(float(lst[17351])+float(lst[17352]))/2\n",
    "    temp_crn=[a,b,c,d,e,f,g,h,i,j,k,l,m,n,o,p,q,r,s,t,u,v,w,x,y]\n",
    "    print(temp_crn)"
   ]
  },
  {
   "cell_type": "code",
   "execution_count": 19,
   "id": "e588ab70",
   "metadata": {},
   "outputs": [
    {
     "name": "stdout",
     "output_type": "stream",
     "text": [
      "[2.29985, 2.3059600000000002, 2.52499, 2.44305, 3.4705399999999997, 3.63218, 2.22886, 1.32454, 3.07303, 1.9100000000000001, 1.6903000000000006, 1.9656999999999982, 1.5200999999999993, 1.8328999999999986, 0.8871000000000002, 1.4884999999999984, 0.6983999999999995, 0.7735999999999983, 1.5602, 3.3932, 3.5606999999999998, 4.067500000000001, 4.2685200000000005, 4.3538499999999996, 3.8437099999999997]\n"
     ]
    }
   ],
   "source": [
    "difference1_new = []\n",
    "\n",
    "zip_object = zip(temp, temp_crn)\n",
    "for temp_i, temp_crn_i in zip_object:\n",
    "    difference1_new.append(temp_i-temp_crn_i)\n",
    "\n",
    "print(difference1_new)"
   ]
  },
  {
   "cell_type": "markdown",
   "id": "c9620694",
   "metadata": {},
   "source": [
    "<font size=\"3\">Gainesville, AL: 0600 UTC (12:00 am CST) 01 March 2022-0600 UTC (12:00 am CST) 02 March 2022</font>"
   ]
  },
  {
   "cell_type": "code",
   "execution_count": 20,
   "id": "a422cd03",
   "metadata": {},
   "outputs": [
    {
     "name": "stdout",
     "output_type": "stream",
     "text": [
      "[4.56235, 4.26846, 4.02499, 4.28055, 4.02054, 3.14468, 2.42886, 2.81204, 5.76053, 9.72247, 13.9778, 16.1532, 17.6201, 18.7454, 19.5371, 20.176, 19.4859, 18.0986, 14.3477, 12.2182, 10.8232, 9.41754, 8.83102, 7.41635, 6.39371]\n"
     ]
    }
   ],
   "source": [
    "#1 hr hrrr:\n",
    "with open('hrrr_f18_Gainesville_AL (1).txt') as f:\n",
    "    lst=[line.split()[1] for line in f]\n",
    "    temp=[]\n",
    "    for i in lst:\n",
    "        new=i.replace(',',\"\")\n",
    "        temp.append(new)\n",
    "    temp.pop(0)\n",
    "    temp=[float(x) for x in temp]\n",
    "    temp=temp[1404:1429]\n",
    "    #temp=temp[2015:2063]\n",
    "    print(temp)\n",
    "    ##prfloat(len(temp))\n",
    "#full time period is [2015:2112]"
   ]
  },
  {
   "cell_type": "code",
   "execution_count": 21,
   "id": "627f3159",
   "metadata": {},
   "outputs": [
    {
     "name": "stdout",
     "output_type": "stream",
     "text": [
      "[2.6, 2.4, 2.4, 1.2, 1.5499999999999998, 1.4, 1.4, 1.95, 5.2, 8.8, 12.85, 15.3, 16.85, 18.4, 19.15, 19.75, 19.55, 19.2, 14.7, 11.55, 9.399999999999999, 7.6, 6.4, 5.75, 4.55]\n"
     ]
    }
   ],
   "source": [
    "#Air Temp CRN:\n",
    "with open('CRNS0101-05-2022-AL_Gainesville_2_NE.txt') as f:\n",
    "    lst=[line.split()[8] for line in f]\n",
    "    \n",
    "    a=(float(lst[17063])+float(lst[17064]))/2\n",
    "    b=(float(lst[17075])+float(lst[17076]))/2\n",
    "    c=(float(lst[17087])+float(lst[17088]))/2\n",
    "    d=(float(lst[17099])+float(lst[17100]))/2\n",
    "    e=(float(lst[17111])+float(lst[17112]))/2\n",
    "    f=(float(lst[17123])+float(lst[17124]))/2\n",
    "    g=(float(lst[17135])+float(lst[17136]))/2\n",
    "    h=(float(lst[17147])+float(lst[17148]))/2\n",
    "    i=(float(lst[17159])+float(lst[17160]))/2\n",
    "    j=(float(lst[17171])+float(lst[17172]))/2\n",
    "    k=(float(lst[17183])+float(lst[17184]))/2\n",
    "    l=(float(lst[17195])+float(lst[17196]))/2\n",
    "    m=(float(lst[17207])+float(lst[17208]))/2\n",
    "    n=(float(lst[17219])+float(lst[17220]))/2\n",
    "    o=(float(lst[17231])+float(lst[17232]))/2\n",
    "    p=(float(lst[17243])+float(lst[17244]))/2\n",
    "    q=(float(lst[17255])+float(lst[17256]))/2\n",
    "    r=(float(lst[17267])+float(lst[17268]))/2\n",
    "    s=(float(lst[17279])+float(lst[17280]))/2\n",
    "    t=(float(lst[17291])+float(lst[17292]))/2\n",
    "    u=(float(lst[17303])+float(lst[17304]))/2\n",
    "    v=(float(lst[17315])+float(lst[17316]))/2\n",
    "    w=(float(lst[17327])+float(lst[17328]))/2\n",
    "    x=(float(lst[17339])+float(lst[17340]))/2\n",
    "    y=(float(lst[17351])+float(lst[17352]))/2\n",
    "    temp_crn=[a,b,c,d,e,f,g,h,i,j,k,l,m,n,o,p,q,r,s,t,u,v,w,x,y]\n",
    "    print(temp_crn)"
   ]
  },
  {
   "cell_type": "code",
   "execution_count": 22,
   "id": "8df76a7b",
   "metadata": {},
   "outputs": [
    {
     "name": "stdout",
     "output_type": "stream",
     "text": [
      "[1.9623500000000003, 1.8684600000000002, 1.62499, 3.0805499999999997, 2.4705399999999997, 1.7446800000000002, 1.0288599999999999, 0.8620400000000001, 0.56053, 0.9224699999999988, 1.1278000000000006, 0.8531999999999975, 0.7700999999999993, 0.3454000000000015, 0.3871000000000002, 0.4259999999999984, -0.06409999999999982, -1.1013999999999982, -0.3522999999999996, 0.6681999999999988, 1.4232000000000014, 1.817540000000001, 2.43102, 1.6663500000000004, 1.8437099999999997]\n"
     ]
    }
   ],
   "source": [
    "difference1_gai = []\n",
    "\n",
    "zip_object = zip(temp, temp_crn)\n",
    "for temp_i, temp_crn_i in zip_object:\n",
    "    difference1_gai.append(temp_i-temp_crn_i)\n",
    "\n",
    "print(difference1_gai)"
   ]
  },
  {
   "cell_type": "markdown",
   "id": "2711dc15",
   "metadata": {},
   "source": [
    "<font size=\"3\">Fairhope, AL: 0600 UTC (12:00 am CST) 01 March 2022-0600 UTC (12:00 am CST) 02 March 2022</font>"
   ]
  },
  {
   "cell_type": "code",
   "execution_count": 23,
   "id": "64dbcf91",
   "metadata": {},
   "outputs": [
    {
     "name": "stdout",
     "output_type": "stream",
     "text": [
      "[8.56235, 8.39346, 7.71249, 7.34305, 6.89554, 6.39468, 6.36636, 6.81204, 10.698, 13.785, 16.7278, 18.7157, 19.4951, 19.6829, 20.2871, 20.9885, 20.1109, 17.9111, 15.2852, 13.9057, 12.8232, 12.7925, 11.7685, 11.1039, 10.7062]\n"
     ]
    }
   ],
   "source": [
    "#1 hr hrrr:\n",
    "with open('hrrr_f18_Fairhope_AL.txt') as f:\n",
    "    lst=[line.split()[1] for line in f]\n",
    "    temp=[]\n",
    "    for i in lst:\n",
    "        new=i.replace(',',\"\")\n",
    "        temp.append(new)\n",
    "    temp.pop(0)\n",
    "    temp=[float(x) for x in temp]\n",
    "    temp=temp[1404:1429]\n",
    "    #temp=temp[2015:2063]\n",
    "    print(temp)\n",
    "    ##prfloat(len(temp))\n",
    "#full time period is [2015:2112]"
   ]
  },
  {
   "cell_type": "code",
   "execution_count": 24,
   "id": "83dc8266",
   "metadata": {},
   "outputs": [
    {
     "name": "stdout",
     "output_type": "stream",
     "text": [
      "[9.9, 9.4, 8.85, 8.149999999999999, 8.2, 8.2, 6.75, 5.25, 11.5, 15.100000000000001, 17.15, 18.45, 18.15, 18.6, 19.299999999999997, 20.1, 20.2, 17.05, 14.9, 13.8, 10.45, 9.05, 7.65, 6.45, 6.0]\n"
     ]
    }
   ],
   "source": [
    "#Air Temp CRN:\n",
    "with open('CRNS0101-05-2022-AL_Fairhope_3_NE.txt') as f:\n",
    "    lst=[line.split()[8] for line in f]\n",
    "    \n",
    "    a=(float(lst[17063])+float(lst[17064]))/2\n",
    "    b=(float(lst[17075])+float(lst[17076]))/2\n",
    "    c=(float(lst[17087])+float(lst[17088]))/2\n",
    "    d=(float(lst[17099])+float(lst[17100]))/2\n",
    "    e=(float(lst[17111])+float(lst[17112]))/2\n",
    "    f=(float(lst[17123])+float(lst[17124]))/2\n",
    "    g=(float(lst[17135])+float(lst[17136]))/2\n",
    "    h=(float(lst[17147])+float(lst[17148]))/2\n",
    "    i=(float(lst[17159])+float(lst[17160]))/2\n",
    "    j=(float(lst[17171])+float(lst[17172]))/2\n",
    "    k=(float(lst[17183])+float(lst[17184]))/2\n",
    "    l=(float(lst[17195])+float(lst[17196]))/2\n",
    "    m=(float(lst[17207])+float(lst[17208]))/2\n",
    "    n=(float(lst[17219])+float(lst[17220]))/2\n",
    "    o=(float(lst[17231])+float(lst[17232]))/2\n",
    "    p=(float(lst[17243])+float(lst[17244]))/2\n",
    "    q=(float(lst[17255])+float(lst[17256]))/2\n",
    "    r=(float(lst[17267])+float(lst[17268]))/2\n",
    "    s=(float(lst[17279])+float(lst[17280]))/2\n",
    "    t=(float(lst[17291])+float(lst[17292]))/2\n",
    "    u=(float(lst[17303])+float(lst[17304]))/2\n",
    "    v=(float(lst[17315])+float(lst[17316]))/2\n",
    "    w=(float(lst[17327])+float(lst[17328]))/2\n",
    "    x=(float(lst[17339])+float(lst[17340]))/2\n",
    "    y=(float(lst[17351])+float(lst[17352]))/2\n",
    "    temp_crn=[a,b,c,d,e,f,g,h,i,j,k,l,m,n,o,p,q,r,s,t,u,v,w,x,y]\n",
    "    print(temp_crn)"
   ]
  },
  {
   "cell_type": "code",
   "execution_count": 25,
   "id": "a9ff3306",
   "metadata": {},
   "outputs": [
    {
     "name": "stdout",
     "output_type": "stream",
     "text": [
      "[-1.33765, -1.006540000000001, -1.1375099999999998, -0.8069499999999987, -1.3044599999999997, -1.8053199999999991, -0.38363999999999976, 1.5620399999999997, -0.8019999999999996, -1.3150000000000013, -0.42220000000000013, 0.26569999999999894, 1.3451000000000022, 1.0828999999999986, 0.9871000000000016, 0.888499999999997, -0.0890999999999984, 0.8611000000000004, 0.3851999999999993, 0.1056999999999988, 2.3732000000000006, 3.7424999999999997, 4.118499999999999, 4.653899999999999, 4.706200000000001]\n"
     ]
    }
   ],
   "source": [
    "difference1_fai = []\n",
    "\n",
    "zip_object = zip(temp, temp_crn)\n",
    "for temp_i, temp_crn_i in zip_object:\n",
    "    difference1_fai.append(temp_i-temp_crn_i)\n",
    "\n",
    "print(difference1_fai)"
   ]
  },
  {
   "cell_type": "markdown",
   "id": "f5dd4e4b",
   "metadata": {},
   "source": [
    "<font size=\"3\">**Selma, AL: 0600 UTC (12:00 am CST) 01 March 2022-0600 UTC (12:00 am CST) 02 March 2022</font>"
   ]
  },
  {
   "cell_type": "code",
   "execution_count": 26,
   "id": "af6b46b1",
   "metadata": {},
   "outputs": [
    {
     "name": "stdout",
     "output_type": "stream",
     "text": [
      "[5.81235, 5.45596, 4.77499, 4.71805, 4.70804, 4.58218, 3.55386, 3.62454, 7.19803, 10.5975, 13.7278, 16.2157, 18.0576, 19.4329, 20.1621, 20.676, 20.3609, 18.5361, 15.2227, 13.0307, 11.3232, 9.73004, 9.08102, 8.54135, 7.64371]\n"
     ]
    }
   ],
   "source": [
    "#1 hr hrrr:\n",
    "import numpy as np\n",
    "import numpy.ma as ma\n",
    "with open('hrrr_f18_Selma_AL.txt') as f:\n",
    "    lst=[line.split()[1] for line in f]\n",
    "    temp=[]\n",
    "    for i in lst:\n",
    "        new=i.replace(',',\"\")\n",
    "        temp.append(new)\n",
    "    temp.pop(0)\n",
    "    temp=[float(x) for x in temp]\n",
    "    temp=temp[1404:1429]\n",
    "\n",
    "#     x = np.array(temp)\n",
    "#     temp = ma.masked_array(x, mask=[0, 0, 0, 0, 0,0,0,0,0,0,0,0,0,0,0,0,0,1,1,1,1,0,0,0,0])\n",
    "    print(temp)"
   ]
  },
  {
   "cell_type": "code",
   "execution_count": 27,
   "id": "942dc824",
   "metadata": {},
   "outputs": [
    {
     "name": "stdout",
     "output_type": "stream",
     "text": [
      "[2.8, 1.65, 1.7000000000000002, 1.1, 0.45, 0.35, 1.25, 1.65, 6.3, 9.95, 13.9, 16.0, 17.5, 18.6, 19.4, 19.549999999999997, 19.3, 18.4, 14.25, 8.8, 7.05, 5.65, 4.85, 4.199999999999999, 3.3]\n"
     ]
    }
   ],
   "source": [
    "#Air Temp CRN:\n",
    "with open('CRNS0101-05-2022-AL_Selma_13_WNW.txt') as f:\n",
    "    lst=[line.split()[8] for line in f]\n",
    "    \n",
    "    a=(float(lst[17063])+float(lst[17064]))/2\n",
    "    b=(float(lst[17075])+float(lst[17076]))/2\n",
    "    c=(float(lst[17087])+float(lst[17088]))/2\n",
    "    d=(float(lst[17099])+float(lst[17100]))/2\n",
    "    e=(float(lst[17111])+float(lst[17112]))/2\n",
    "    f=(float(lst[17123])+float(lst[17124]))/2\n",
    "    g=(float(lst[17135])+float(lst[17136]))/2\n",
    "    h=(float(lst[17147])+float(lst[17148]))/2\n",
    "    i=(float(lst[17159])+float(lst[17160]))/2\n",
    "    j=(float(lst[17171])+float(lst[17172]))/2\n",
    "    k=(float(lst[17183])+float(lst[17184]))/2\n",
    "    l=(float(lst[17195])+float(lst[17196]))/2\n",
    "    m=(float(lst[17207])+float(lst[17208]))/2\n",
    "    n=(float(lst[17219])+float(lst[17220]))/2\n",
    "    o=(float(lst[17231])+float(lst[17232]))/2\n",
    "    p=(float(lst[17243])+float(lst[17244]))/2\n",
    "    q=(float(lst[17255])+float(lst[17256]))/2\n",
    "    r=(float(lst[17267])+float(lst[17268]))/2\n",
    "    s=(float(lst[17279])+float(lst[17280]))/2\n",
    "    t=(float(lst[17291])+float(lst[17292]))/2\n",
    "    u=(float(lst[17303])+float(lst[17304]))/2\n",
    "    v=(float(lst[17315])+float(lst[17316]))/2\n",
    "    w=(float(lst[17327])+float(lst[17328]))/2\n",
    "    x=(float(lst[17339])+float(lst[17340]))/2\n",
    "    y=(float(lst[17351])+float(lst[17352]))/2\n",
    "    temp_crn=[a,b,c,d,e,f,g,h,i,j,k,l,m,n,o,p,q,r,s,t,u,v,w,x,y]\n",
    "    print(temp_crn)"
   ]
  },
  {
   "cell_type": "code",
   "execution_count": 28,
   "id": "fdfb15c8",
   "metadata": {},
   "outputs": [
    {
     "name": "stdout",
     "output_type": "stream",
     "text": [
      "[3.0123500000000005, 3.8059600000000002, 3.0749899999999997, 3.6180499999999998, 4.258039999999999, 4.2321800000000005, 2.30386, 1.9745400000000002, 0.8980300000000003, 0.6475000000000009, -0.17220000000000013, 0.21569999999999823, 0.5576000000000008, 0.8328999999999986, 0.7621000000000002, 1.1260000000000012, 1.0609000000000002, 0.13610000000000255, 0.9726999999999997, 4.230699999999999, 4.2732, 4.08004, 4.231020000000001, 4.34135, 4.34371]\n"
     ]
    }
   ],
   "source": [
    "difference1_sel = []\n",
    "\n",
    "zip_object = zip(temp, temp_crn)\n",
    "for temp_i, temp_crn_i in zip_object:\n",
    "    difference1_sel.append(temp_i-temp_crn_i)\n",
    "\n",
    "print(difference1_sel)\n",
    "##prfloat(len(difference1_sel))"
   ]
  },
  {
   "cell_type": "markdown",
   "id": "8fab4bdc",
   "metadata": {},
   "source": [
    "<font size=\"3\">Bowling Green, KY: 0600 UTC (12:00 am CST) 01 March 2022-0600 UTC (12:00 am CST) 02 March 2022</font>"
   ]
  },
  {
   "cell_type": "code",
   "execution_count": 29,
   "id": "bf608647",
   "metadata": {},
   "outputs": [
    {
     "name": "stdout",
     "output_type": "stream",
     "text": [
      "[2.06235, 1.70596, 1.64999, 1.71805, 1.58304, 1.33218, 1.11636, 1.56204, 4.32303, 7.22247, 10.1028, 12.7782, 14.9951, 16.7454, 17.6621, 17.7385, 17.5484, 15.4736, 12.7852, 11.2807, 10.2607, 9.35504, 8.64352, 7.91635, 7.39371]\n"
     ]
    }
   ],
   "source": [
    "#1 hr hrrr:\n",
    "with open('hrrr_f18_Bowling Green_KY.txt') as f:\n",
    "    lst=[line.split()[1] for line in f]\n",
    "    temp=[]\n",
    "    for i in lst:\n",
    "        new=i.replace(',',\"\")\n",
    "        temp.append(new)\n",
    "    temp.pop(0)\n",
    "    temp=[float(x) for x in temp]\n",
    "    temp=temp[1404:1429]\n",
    "    #temp=temp[2015:2063]\n",
    "    print(temp)\n",
    "    ##prfloat(len(temp))\n",
    "#full time period is [2015:2112]"
   ]
  },
  {
   "cell_type": "code",
   "execution_count": 30,
   "id": "d7253497",
   "metadata": {},
   "outputs": [
    {
     "name": "stdout",
     "output_type": "stream",
     "text": [
      "[4.95, 4.4, 4.0, 3.5, 3.3, 2.8499999999999996, 3.0, 3.8499999999999996, 6.199999999999999, 9.55, 12.7, 15.45, 18.6, 19.2, 20.15, 20.65, 19.7, 18.25, 16.2, 14.9, 14.4, 13.3, 12.85, 11.6, 10.9]\n"
     ]
    }
   ],
   "source": [
    "#Air Temp CRN:\n",
    "with open('CRNS0101-05-2022-KY_Bowling_Green_21_NNE.txt') as f:\n",
    "    lst=[line.split()[8] for line in f]\n",
    "    \n",
    "    a=(float(lst[17063])+float(lst[17064]))/2\n",
    "    b=(float(lst[17075])+float(lst[17076]))/2\n",
    "    c=(float(lst[17087])+float(lst[17088]))/2\n",
    "    d=(float(lst[17099])+float(lst[17100]))/2\n",
    "    e=(float(lst[17111])+float(lst[17112]))/2\n",
    "    f=(float(lst[17123])+float(lst[17124]))/2\n",
    "    g=(float(lst[17135])+float(lst[17136]))/2\n",
    "    h=(float(lst[17147])+float(lst[17148]))/2\n",
    "    i=(float(lst[17159])+float(lst[17160]))/2\n",
    "    j=(float(lst[17171])+float(lst[17172]))/2\n",
    "    k=(float(lst[17183])+float(lst[17184]))/2\n",
    "    l=(float(lst[17195])+float(lst[17196]))/2\n",
    "    m=(float(lst[17207])+float(lst[17208]))/2\n",
    "    n=(float(lst[17219])+float(lst[17220]))/2\n",
    "    o=(float(lst[17231])+float(lst[17232]))/2\n",
    "    p=(float(lst[17243])+float(lst[17244]))/2\n",
    "    q=(float(lst[17255])+float(lst[17256]))/2\n",
    "    r=(float(lst[17267])+float(lst[17268]))/2\n",
    "    s=(float(lst[17279])+float(lst[17280]))/2\n",
    "    t=(float(lst[17291])+float(lst[17292]))/2\n",
    "    u=(float(lst[17303])+float(lst[17304]))/2\n",
    "    v=(float(lst[17315])+float(lst[17316]))/2\n",
    "    w=(float(lst[17327])+float(lst[17328]))/2\n",
    "    x=(float(lst[17339])+float(lst[17340]))/2\n",
    "    y=(float(lst[17351])+float(lst[17352]))/2\n",
    "    temp_crn=[a,b,c,d,e,f,g,h,i,j,k,l,m,n,o,p,q,r,s,t,u,v,w,x,y]\n",
    "    print(temp_crn)"
   ]
  },
  {
   "cell_type": "code",
   "execution_count": 31,
   "id": "c1e72531",
   "metadata": {},
   "outputs": [
    {
     "name": "stdout",
     "output_type": "stream",
     "text": [
      "[-2.8876500000000003, -2.69404, -2.35001, -1.78195, -1.7169599999999998, -1.5178199999999997, -1.88364, -2.2879599999999995, -1.8769699999999991, -2.3275300000000003, -2.597199999999999, -2.6717999999999993, -3.6049000000000007, -2.4545999999999992, -2.4879, -2.9115, -2.1515999999999984, -2.7764000000000006, -3.4147999999999996, -3.619300000000001, -4.1393, -3.94496, -4.206479999999999, -3.683649999999999, -3.506290000000001]\n"
     ]
    }
   ],
   "source": [
    "difference1_bow = []\n",
    "\n",
    "zip_object = zip(temp, temp_crn)\n",
    "for temp_i, temp_crn_i in zip_object:\n",
    "    difference1_bow.append(temp_i-temp_crn_i)\n",
    "\n",
    "print(difference1_bow)"
   ]
  },
  {
   "cell_type": "markdown",
   "id": "d1be2cc0",
   "metadata": {},
   "source": [
    "<font size=\"3\">Gadsden, AL: 0600 UTC (12:00 am CST) 01 March 2022-0600 UTC (12:00 am CST) 02 March 2022</font>"
   ]
  },
  {
   "cell_type": "code",
   "execution_count": 32,
   "id": "02793170",
   "metadata": {},
   "outputs": [
    {
     "name": "stdout",
     "output_type": "stream",
     "text": [
      "[3.93735 3.64346 3.39999 3.09305 3.08304 2.83218 2.74136 -- 6.26053\n",
      " 9.09747 11.2903 13.2157 14.1201 14.9329 15.2246 15.4885 14.7984 13.0986\n",
      " 10.5352 9.28073 8.32315 7.41754 7.26852 6.66635 5.95621]\n"
     ]
    }
   ],
   "source": [
    "#1 hr hrrr:\n",
    "with open('hrrr_f18_Gadsden_AL.txt') as f:\n",
    "    lst=[line.split()[1] for line in f]\n",
    "    temp=[]\n",
    "    for i in lst:\n",
    "        new=i.replace(',',\"\")\n",
    "        temp.append(new)\n",
    "    temp.pop(0)\n",
    "    temp=[float(x) for x in temp]\n",
    "    temp=temp[1404:1429]\n",
    "    x = np.array(temp)\n",
    "    temp = ma.masked_array(x, mask=[0, 0, 0, 0, 0,0,0,1,0,0,0,0,0,0,0,0,0,0,0,0,0,0,0,0,0])\n",
    "    #temp=temp[2015:2063]\n",
    "    print(temp)\n",
    "    ##prfloat(len(temp))\n",
    "#full time period is [2015:2112]"
   ]
  },
  {
   "cell_type": "code",
   "execution_count": 33,
   "id": "5fd7f4a3",
   "metadata": {},
   "outputs": [
    {
     "name": "stdout",
     "output_type": "stream",
     "text": [
      "[0.8 0.55 0.95 0.9 1.35 0.1 0.25 -- 7.7 10.8 12.45 13.9 15.15\n",
      " 15.850000000000001 17.0 17.3 17.15 16.15 10.0 8.0 6.550000000000001 5.9\n",
      " 5.0 6.6 5.65]\n"
     ]
    }
   ],
   "source": [
    "#Air Temp CRN:\n",
    "with open('CRNS0101-05-2022-AL_Gadsden_19_N.txt') as f:\n",
    "    lst=[line.split()[8] for line in f]\n",
    "    \n",
    "    a=(float(lst[17063])+float(lst[17064]))/2\n",
    "    b=(float(lst[17075])+float(lst[17076]))/2\n",
    "    c=(float(lst[17087])+float(lst[17088]))/2\n",
    "    d=(float(lst[17099])+float(lst[17100]))/2\n",
    "    e=(float(lst[17111])+float(lst[17112]))/2\n",
    "    f=(float(lst[17123])+float(lst[17124]))/2\n",
    "    g=(float(lst[17135])+float(lst[17136]))/2\n",
    "    h=(float(lst[17147])+float(lst[17148]))/2\n",
    "    i=(float(lst[17159])+float(lst[17160]))/2\n",
    "    j=(float(lst[17171])+float(lst[17172]))/2\n",
    "    k=(float(lst[17183])+float(lst[17184]))/2\n",
    "    l=(float(lst[17195])+float(lst[17196]))/2\n",
    "    m=(float(lst[17207])+float(lst[17208]))/2\n",
    "    n=(float(lst[17219])+float(lst[17220]))/2\n",
    "    o=(float(lst[17231])+float(lst[17232]))/2\n",
    "    p=(float(lst[17243])+float(lst[17244]))/2\n",
    "    q=(float(lst[17255])+float(lst[17256]))/2\n",
    "    r=(float(lst[17267])+float(lst[17268]))/2\n",
    "    s=(float(lst[17279])+float(lst[17280]))/2\n",
    "    t=(float(lst[17291])+float(lst[17292]))/2\n",
    "    u=(float(lst[17303])+float(lst[17304]))/2\n",
    "    v=(float(lst[17315])+float(lst[17316]))/2\n",
    "    w=(float(lst[17327])+float(lst[17328]))/2\n",
    "    x=(float(lst[17339])+float(lst[17340]))/2\n",
    "    y=(float(lst[17351])+float(lst[17352]))/2\n",
    "    temp_crn=[a,b,c,d,e,f,g,h,i,j,k,l,m,n,o,p,q,r,s,t,u,v,w,x,y]\n",
    "    y = np.array(temp_crn)\n",
    "    temp_crn = ma.masked_array(y, mask=[0, 0, 0, 0, 0,0,0,1,0,0,0,0,0,0,0,0,0,0,0,0,0,0,0,0,0])\n",
    "    print(temp_crn)"
   ]
  },
  {
   "cell_type": "code",
   "execution_count": 34,
   "id": "c002ac76",
   "metadata": {},
   "outputs": [
    {
     "name": "stdout",
     "output_type": "stream",
     "text": [
      "[3.1373499999999996, 3.0934600000000003, 2.4499899999999997, 2.19305, 1.73304, 2.73218, 2.49136, masked, -1.43947, -1.7025300000000012, -1.159699999999999, -0.6843000000000004, -1.0298999999999996, -0.9171000000000014, -1.7753999999999994, -1.8115000000000006, -2.3515999999999977, -3.0513999999999992, 0.5351999999999997, 1.2807300000000001, 1.7731499999999993, 1.5175399999999994, 2.2685199999999996, 0.0663500000000008, 0.3062099999999992]\n"
     ]
    }
   ],
   "source": [
    "difference1_gad = []\n",
    "\n",
    "zip_object = zip(temp, temp_crn)\n",
    "for temp_i, temp_crn_i in zip_object:\n",
    "    difference1_gad.append(temp_i-temp_crn_i)\n",
    "\n",
    "print(difference1_gad)"
   ]
  },
  {
   "cell_type": "markdown",
   "id": "d430f7c6",
   "metadata": {},
   "source": [
    "<font size=\"3\">Newton, GA: 0600 UTC (12:00 am CST) 01 March 2022-0600 UTC (12:00 am CST) 02 March 2022</font>"
   ]
  },
  {
   "cell_type": "code",
   "execution_count": 35,
   "id": "e78bb8bf",
   "metadata": {},
   "outputs": [
    {
     "name": "stdout",
     "output_type": "stream",
     "text": [
      "[10.1873, 7.76846, 6.83749, 5.78055, 5.39554, 5.76968, 5.05386, 7.56204, 9.82303, 13.5975, 16.1653, 18.8407, 19.9951, 20.6829, 21.2871, 21.551, 21.4234, 19.7861, 16.8477, 15.2807, 13.3232, 12.23, 10.7685, 9.85385, 8.89371]\n"
     ]
    }
   ],
   "source": [
    "#1 hr hrrr:\n",
    "with open('hrrr_f18_Newton_GA.txt') as f:\n",
    "    lst=[line.split()[1] for line in f]\n",
    "    temp=[]\n",
    "    for i in lst:\n",
    "        new=i.replace(',',\"\")\n",
    "        temp.append(new)\n",
    "    temp.pop(0)\n",
    "    temp=[float(x) for x in temp]\n",
    "    temp=temp[1404:1429]\n",
    "    #temp=temp[2015:2063]\n",
    "    print(temp)\n",
    "    ##prfloat(len(temp))\n",
    "#full time period is [2015:2112]"
   ]
  },
  {
   "cell_type": "code",
   "execution_count": 36,
   "id": "52b388f2",
   "metadata": {},
   "outputs": [
    {
     "name": "stdout",
     "output_type": "stream",
     "text": [
      "[6.75, 5.75, 5.15, 5.4, 4.0, 3.95, 3.4, 5.35, 9.5, 12.65, 16.35, 18.1, 18.9, 20.0, 21.05, 21.25, 21.2, 19.85, 15.350000000000001, 12.45, 10.7, 9.45, 7.35, 7.15, 6.2]\n"
     ]
    }
   ],
   "source": [
    "#Air Temp CRN:\n",
    "with open('CRNS0101-05-2022-GA_Newton_11_SW.txt') as f:\n",
    "    lst=[line.split()[8] for line in f]\n",
    "    \n",
    "    a=(float(lst[17063])+float(lst[17064]))/2\n",
    "    b=(float(lst[17075])+float(lst[17076]))/2\n",
    "    c=(float(lst[17087])+float(lst[17088]))/2\n",
    "    d=(float(lst[17099])+float(lst[17100]))/2\n",
    "    e=(float(lst[17111])+float(lst[17112]))/2\n",
    "    f=(float(lst[17123])+float(lst[17124]))/2\n",
    "    g=(float(lst[17135])+float(lst[17136]))/2\n",
    "    h=(float(lst[17147])+float(lst[17148]))/2\n",
    "    i=(float(lst[17159])+float(lst[17160]))/2\n",
    "    j=(float(lst[17171])+float(lst[17172]))/2\n",
    "    k=(float(lst[17183])+float(lst[17184]))/2\n",
    "    l=(float(lst[17195])+float(lst[17196]))/2\n",
    "    m=(float(lst[17207])+float(lst[17208]))/2\n",
    "    n=(float(lst[17219])+float(lst[17220]))/2\n",
    "    o=(float(lst[17231])+float(lst[17232]))/2\n",
    "    p=(float(lst[17243])+float(lst[17244]))/2\n",
    "    q=(float(lst[17255])+float(lst[17256]))/2\n",
    "    r=(float(lst[17267])+float(lst[17268]))/2\n",
    "    s=(float(lst[17279])+float(lst[17280]))/2\n",
    "    t=(float(lst[17291])+float(lst[17292]))/2\n",
    "    u=(float(lst[17303])+float(lst[17304]))/2\n",
    "    v=(float(lst[17315])+float(lst[17316]))/2\n",
    "    w=(float(lst[17327])+float(lst[17328]))/2\n",
    "    x=(float(lst[17339])+float(lst[17340]))/2\n",
    "    y=(float(lst[17351])+float(lst[17352]))/2\n",
    "    temp_crn=[a,b,c,d,e,f,g,h,i,j,k,l,m,n,o,p,q,r,s,t,u,v,w,x,y]\n",
    "    print(temp_crn)"
   ]
  },
  {
   "cell_type": "code",
   "execution_count": 37,
   "id": "f2141c03",
   "metadata": {},
   "outputs": [
    {
     "name": "stdout",
     "output_type": "stream",
     "text": [
      "[3.4373000000000005, 2.01846, 1.6874899999999995, 0.3805499999999995, 1.3955399999999996, 1.81968, 1.6538600000000003, 2.21204, 0.32302999999999926, 0.9474999999999998, -0.18470000000000297, 0.7406999999999968, 1.0951000000000022, 0.6829000000000001, 0.2370999999999981, 0.3009999999999984, 0.2234000000000016, -0.06390000000000029, 1.4976999999999983, 2.8307, 2.6232000000000006, 2.780000000000001, 3.4185, 2.703849999999999, 2.6937100000000003]\n"
     ]
    }
   ],
   "source": [
    "difference1_newt = []\n",
    "\n",
    "zip_object = zip(temp, temp_crn)\n",
    "for temp_i, temp_crn_i in zip_object:\n",
    "    difference1_newt.append(temp_i-temp_crn_i)\n",
    "\n",
    "print(difference1_newt)"
   ]
  },
  {
   "cell_type": "markdown",
   "id": "8ee79bb2",
   "metadata": {},
   "source": [
    "<font size=\"3\">Salem, MO: 1200 UTC 22 March 2022-1200 UTC 23 March 2022</font>"
   ]
  },
  {
   "cell_type": "code",
   "execution_count": 38,
   "id": "01442781",
   "metadata": {},
   "outputs": [
    {
     "name": "stdout",
     "output_type": "stream",
     "text": [
      "[-0.821716, -0.594757, 0.175842, 0.161285, 0.092804, 0.260651, 0.0857849, 1.13373, 3.98474, 7.06326, 9.66782, 12.3443, 14.4905, 16.4275, 17.4315, 17.8438, 17.7749, 16.6209, 13.4806, 11.0204, 9.95654, 9.08353, 8.30722, 7.58017, 6.89639]\n"
     ]
    }
   ],
   "source": [
    "#1 hr hrrr:\n",
    "with open('hrrr_f18_Salem_MO.txt') as f:\n",
    "    lst=[line.split()[1] for line in f]\n",
    "    temp=[]\n",
    "    for i in lst:\n",
    "        new=i.replace(',',\"\")\n",
    "        temp.append(new)\n",
    "    temp.pop(0)\n",
    "    temp=[float(x) for x in temp]\n",
    "    temp=temp[1692:1717]\n",
    "    #temp=temp[2015:2063]\n",
    "    print(temp)\n",
    "    #prfloat(len(temp))\n",
    "#full time period is [2015:2112]"
   ]
  },
  {
   "cell_type": "code",
   "execution_count": 39,
   "id": "5c26c31d",
   "metadata": {},
   "outputs": [
    {
     "name": "stdout",
     "output_type": "stream",
     "text": [
      "[-1.2999999999999998, -0.5, -0.8500000000000001, -0.05, 1.6, 1.7, 0.8, 2.15, 5.5, 9.35, 12.600000000000001, 15.5, 17.15, 18.35, 18.9, 19.0, 18.9, 17.65, 15.55, 12.35, 11.95, 11.350000000000001, 10.45, 9.850000000000001, 8.8]\n"
     ]
    }
   ],
   "source": [
    "#Air Temp CRN:\n",
    "with open('CRNS0101-05-2022-MO_Salem_10_W.txt') as f:\n",
    "    lst=[line.split()[8] for line in f]\n",
    "    \n",
    "    a=(float(lst[20519])+float(lst[20520]))/2\n",
    "    b=(float(lst[20531])+float(lst[20532]))/2\n",
    "    c=(float(lst[20543])+float(lst[20544]))/2\n",
    "    d=(float(lst[20555])+float(lst[20556]))/2\n",
    "    e=(float(lst[20567])+float(lst[20568]))/2\n",
    "    f=(float(lst[20579])+float(lst[20580]))/2\n",
    "    g=(float(lst[20591])+float(lst[20592]))/2\n",
    "    h=(float(lst[20603])+float(lst[20604]))/2\n",
    "    i=(float(lst[20615])+float(lst[20616]))/2\n",
    "    j=(float(lst[20627])+float(lst[20628]))/2\n",
    "    k=(float(lst[20639])+float(lst[20640]))/2\n",
    "    l=(float(lst[20651])+float(lst[20652]))/2\n",
    "    m=(float(lst[20663])+float(lst[20664]))/2\n",
    "    n=(float(lst[20675])+float(lst[20676]))/2\n",
    "    o=(float(lst[20687])+float(lst[20688]))/2\n",
    "    p=(float(lst[20699])+float(lst[20700]))/2\n",
    "    q=(float(lst[20711])+float(lst[20712]))/2\n",
    "    r=(float(lst[20723])+float(lst[20724]))/2\n",
    "    s=(float(lst[20735])+float(lst[20736]))/2\n",
    "    t=(float(lst[20747])+float(lst[20748]))/2\n",
    "    u=(float(lst[20759])+float(lst[20760]))/2\n",
    "    v=(float(lst[20771])+float(lst[20772]))/2\n",
    "    w=(float(lst[20783])+float(lst[20784]))/2\n",
    "    x=(float(lst[20795])+float(lst[20796]))/2\n",
    "    y=(float(lst[20807])+float(lst[20808]))/2\n",
    "    \n",
    "    temp_crn=[a,b,c,d,e,f,g,h,i,j,k,l,m,n,o,p,q,r,s,t,u,v,w,x,y]\n",
    "    print(temp_crn)"
   ]
  },
  {
   "cell_type": "code",
   "execution_count": 40,
   "id": "3f860af3",
   "metadata": {},
   "outputs": [
    {
     "name": "stdout",
     "output_type": "stream",
     "text": [
      "[0.4782839999999998, -0.09475699999999998, 1.0258420000000001, 0.211285, -1.507196, -1.439349, -0.7142151000000001, -1.01627, -1.51526, -2.28674, -2.9321800000000007, -3.1556999999999995, -2.6594999999999978, -1.922500000000003, -1.4684999999999988, -1.1561999999999983, -1.1250999999999998, -1.0290999999999997, -2.0694, -1.3295999999999992, -1.993459999999999, -2.2664700000000018, -2.14278, -2.2698300000000016, -1.9036100000000005]\n"
     ]
    }
   ],
   "source": [
    "difference2_sal = []\n",
    "\n",
    "zip_object = zip(temp, temp_crn)\n",
    "for temp_i, temp_crn_i in zip_object:\n",
    "    difference2_sal.append(temp_i-temp_crn_i)\n",
    "\n",
    "print(difference2_sal)"
   ]
  },
  {
   "cell_type": "markdown",
   "id": "521bd7c5",
   "metadata": {},
   "source": [
    "<font size=\"3\">Batesville, AR: 0600 UTC (12:00 am CST) 01 March 2022-0600 UTC (12:00 am CST) 02 March 2022</font>"
   ]
  },
  {
   "cell_type": "code",
   "execution_count": 41,
   "id": "fac2aa09",
   "metadata": {},
   "outputs": [
    {
     "name": "stdout",
     "output_type": "stream",
     "text": [
      "[-0.00921631, 0.155243, 0.550842, 0.473785, 0.467804, 0.573151, 0.460785, 0.758728, 4.04724, 7.00076, 9.16782, 11.2818, 12.803, 14.1775, 15.1815, 15.7188, 15.7124, 14.6834, 11.6056, 9.20786, 7.76904, 7.02103, 6.55722, 6.01767, 4.83389]\n"
     ]
    }
   ],
   "source": [
    "#1 hr hrrr:\n",
    "with open('hrrr_f18_Batesville_AR.txt') as f:\n",
    "    lst=[line.split()[1] for line in f]\n",
    "    temp=[]\n",
    "    for i in lst:\n",
    "        new=i.replace(',',\"\")\n",
    "        temp.append(new)\n",
    "    temp.pop(0)\n",
    "    temp=[float(x) for x in temp]\n",
    "    temp=temp[1692:1717]\n",
    "#     x = np.array(temp)\n",
    "#     temp = ma.masked_array(x, mask=[0, 0, 0, 0, 0,0,0,0,0,0,0,0,0,0,0,0,0,0,0,0,0,1,0,0,0])\n",
    "    #temp=temp[2015:2063]\n",
    "    print(temp)\n",
    "    #prfloat(len(temp))\n",
    "#full time period is [2015:2112]"
   ]
  },
  {
   "cell_type": "code",
   "execution_count": 42,
   "id": "ddec2780",
   "metadata": {},
   "outputs": [
    {
     "name": "stdout",
     "output_type": "stream",
     "text": [
      "[-1.8, 1.05, 1.45, 1.45, 1.4, 1.65, 1.45, 2.5, 4.85, 7.35, 9.55, 12.35, 14.7, 15.3, 16.0, 16.85, 17.0, 16.15, 13.65, 11.0, 9.1, 9.399999999999999, 9.75, 9.55, 9.5]\n"
     ]
    }
   ],
   "source": [
    "#Air Temp CRN:\n",
    "with open('CRNS0101-05-2022-AR_Batesville_8_WNW.txt') as f:\n",
    "    lst=[line.split()[8] for line in f]\n",
    "    \n",
    "    a=(float(lst[20519])+float(lst[20520]))/2\n",
    "    b=(float(lst[20531])+float(lst[20532]))/2\n",
    "    c=(float(lst[20543])+float(lst[20544]))/2\n",
    "    d=(float(lst[20555])+float(lst[20556]))/2\n",
    "    e=(float(lst[20567])+float(lst[20568]))/2\n",
    "    f=(float(lst[20579])+float(lst[20580]))/2\n",
    "    g=(float(lst[20591])+float(lst[20592]))/2\n",
    "    h=(float(lst[20603])+float(lst[20604]))/2\n",
    "    i=(float(lst[20615])+float(lst[20616]))/2\n",
    "    j=(float(lst[20627])+float(lst[20628]))/2\n",
    "    k=(float(lst[20639])+float(lst[20640]))/2\n",
    "    l=(float(lst[20651])+float(lst[20652]))/2\n",
    "    m=(float(lst[20663])+float(lst[20664]))/2\n",
    "    n=(float(lst[20675])+float(lst[20676]))/2\n",
    "    o=(float(lst[20687])+float(lst[20688]))/2\n",
    "    p=(float(lst[20699])+float(lst[20700]))/2\n",
    "    q=(float(lst[20711])+float(lst[20712]))/2\n",
    "    r=(float(lst[20723])+float(lst[20724]))/2\n",
    "    s=(float(lst[20735])+float(lst[20736]))/2\n",
    "    t=(float(lst[20747])+float(lst[20748]))/2\n",
    "    u=(float(lst[20759])+float(lst[20760]))/2\n",
    "    v=(float(lst[20771])+float(lst[20772]))/2\n",
    "    w=(float(lst[20783])+float(lst[20784]))/2\n",
    "    x=(float(lst[20795])+float(lst[20796]))/2\n",
    "    y=(float(lst[20807])+float(lst[20808]))/2\n",
    "    \n",
    "    temp_crn=[a,b,c,d,e,f,g,h,i,j,k,l,m,n,o,p,q,r,s,t,u,v,w,x,y]\n",
    "    print(temp_crn)"
   ]
  },
  {
   "cell_type": "code",
   "execution_count": 43,
   "id": "6a5a229b",
   "metadata": {},
   "outputs": [
    {
     "name": "stdout",
     "output_type": "stream",
     "text": [
      "[1.79078369, -0.894757, -0.8991579999999999, -0.9762149999999999, -0.9321959999999999, -1.076849, -0.989215, -1.741272, -0.8027599999999993, -0.34924, -0.38217999999999996, -1.0681999999999992, -1.8969999999999985, -1.1225000000000005, -0.8185000000000002, -1.1312000000000015, -1.2875999999999994, -1.466599999999998, -2.0443999999999996, -1.7921399999999998, -1.3309599999999993, -2.378969999999999, -3.19278, -3.532330000000001, -4.66611]\n"
     ]
    }
   ],
   "source": [
    "difference2_bat = []\n",
    "\n",
    "zip_object = zip(temp, temp_crn)\n",
    "for temp_i, temp_crn_i in zip_object:\n",
    "    difference2_bat.append(temp_i-temp_crn_i)\n",
    "\n",
    "print(difference2_bat)"
   ]
  },
  {
   "cell_type": "markdown",
   "id": "16bf265f",
   "metadata": {},
   "source": [
    "<font size=\"3\">Lafayette, LA: 0600 UTC (12:00 am CST) 01 March 2022-0600 UTC (12:00 am CST) 02 March 2022</font>"
   ]
  },
  {
   "cell_type": "code",
   "execution_count": 44,
   "id": "b23c7950",
   "metadata": {},
   "outputs": [
    {
     "name": "stdout",
     "output_type": "stream",
     "text": [
      "[3.30328, 2.59274, 2.17584, 1.53629, 0.717804, 0.198151, -0.0392151, 0.821228, 4.92224, 8.25076, 10.4178, 12.8443, 14.7405, 16.115, 17.119, 17.9063, 17.2749, 15.8084, 14.1056, 11.8329, 10.644, 9.95853, 9.99472, 9.76767, 9.39639]\n"
     ]
    }
   ],
   "source": [
    "#1 hr hrrr:\n",
    "with open('hrrr_f18_Lafayette_LA.txt') as f:\n",
    "    lst=[line.split()[1] for line in f]\n",
    "    temp=[]\n",
    "    for i in lst:\n",
    "        new=i.replace(',',\"\")\n",
    "        temp.append(new)\n",
    "    temp.pop(0)\n",
    "    temp=[float(x) for x in temp]\n",
    "    temp=temp[1692:1717]\n",
    "    #temp=temp[2015:2063]\n",
    "    print(temp)\n",
    "    ##prfloat(len(temp))\n",
    "#full time period is [2015:2112]"
   ]
  },
  {
   "cell_type": "code",
   "execution_count": 45,
   "id": "322db923",
   "metadata": {},
   "outputs": [
    {
     "name": "stdout",
     "output_type": "stream",
     "text": [
      "[2.5, 1.6, 0.15, -0.8500000000000001, -1.55, -1.5, 0.6499999999999999, 1.25, 4.4, 7.35, 9.8, 11.15, 12.6, 13.649999999999999, 14.5, 14.4, 14.45, 14.45, 12.6, 11.25, 8.75, 7.75, 8.8, 7.85, 8.9]\n"
     ]
    }
   ],
   "source": [
    "#Air Temp CRN:\n",
    "with open('CRNS0101-05-2022-LA_Lafayette_13_SE.txt') as f:\n",
    "    lst=[line.split()[8] for line in f]\n",
    "    \n",
    "    a=(float(lst[20519])+float(lst[20520]))/2\n",
    "    b=(float(lst[20531])+float(lst[20532]))/2\n",
    "    c=(float(lst[20543])+float(lst[20544]))/2\n",
    "    d=(float(lst[20555])+float(lst[20556]))/2\n",
    "    e=(float(lst[20567])+float(lst[20568]))/2\n",
    "    f=(float(lst[20579])+float(lst[20580]))/2\n",
    "    g=(float(lst[20591])+float(lst[20592]))/2\n",
    "    h=(float(lst[20603])+float(lst[20604]))/2\n",
    "    i=(float(lst[20615])+float(lst[20616]))/2\n",
    "    j=(float(lst[20627])+float(lst[20628]))/2\n",
    "    k=(float(lst[20639])+float(lst[20640]))/2\n",
    "    l=(float(lst[20651])+float(lst[20652]))/2\n",
    "    m=(float(lst[20663])+float(lst[20664]))/2\n",
    "    n=(float(lst[20675])+float(lst[20676]))/2\n",
    "    o=(float(lst[20687])+float(lst[20688]))/2\n",
    "    p=(float(lst[20699])+float(lst[20700]))/2\n",
    "    q=(float(lst[20711])+float(lst[20712]))/2\n",
    "    r=(float(lst[20723])+float(lst[20724]))/2\n",
    "    s=(float(lst[20735])+float(lst[20736]))/2\n",
    "    t=(float(lst[20747])+float(lst[20748]))/2\n",
    "    u=(float(lst[20759])+float(lst[20760]))/2\n",
    "    v=(float(lst[20771])+float(lst[20772]))/2\n",
    "    w=(float(lst[20783])+float(lst[20784]))/2\n",
    "    x=(float(lst[20795])+float(lst[20796]))/2\n",
    "    y=(float(lst[20807])+float(lst[20808]))/2\n",
    "    \n",
    "    temp_crn=[a,b,c,d,e,f,g,h,i,j,k,l,m,n,o,p,q,r,s,t,u,v,w,x,y]\n",
    "    print(temp_crn)"
   ]
  },
  {
   "cell_type": "code",
   "execution_count": 46,
   "id": "07cf95c8",
   "metadata": {},
   "outputs": [
    {
     "name": "stdout",
     "output_type": "stream",
     "text": [
      "[0.80328, 0.99274, 2.02584, 2.38629, 2.267804, 1.698151, -0.6892151, -0.42877200000000004, 0.52224, 0.90076, 0.617799999999999, 1.6943000000000001, 2.140500000000001, 2.465, 2.6189999999999998, 3.5063000000000013, 2.8248999999999995, 1.3584000000000014, 1.5056000000000012, 0.5829000000000004, 1.8940000000000001, 2.2085299999999997, 1.1947199999999984, 1.917670000000001, 0.4963899999999999]\n"
     ]
    }
   ],
   "source": [
    "difference2_laf = []\n",
    "\n",
    "zip_object = zip(temp, temp_crn)\n",
    "for temp_i, temp_crn_i in zip_object:\n",
    "    difference2_laf.append(temp_i-temp_crn_i)\n",
    "\n",
    "print(difference2_laf)"
   ]
  },
  {
   "cell_type": "markdown",
   "id": "cda99a3a",
   "metadata": {},
   "source": [
    "<font size=\"3\">Monroe, LA: 0600 UTC (12:00 am CST) 01 March 2022-0600 UTC (12:00 am CST) 02 March 2022</font>"
   ]
  },
  {
   "cell_type": "code",
   "execution_count": 47,
   "id": "3c145693",
   "metadata": {},
   "outputs": [
    {
     "name": "stdout",
     "output_type": "stream",
     "text": [
      "[1.36578, 0.842743, 0.738342, 0.598785, 0.217804, -0.239349, -0.476715, 0.00872803, 2.73474, 5.93826, 8.73032, 11.5318, 13.3655, 15.115, 16.119, 16.5938, 16.6499, 16.1209, 13.7931, 11.0204, 9.45654, 8.58353, 7.61972, 7.08017, 6.02139]\n"
     ]
    }
   ],
   "source": [
    "#1 hr hrrr:\n",
    "with open('hrrr_f18_Monroe_LA.txt') as f:\n",
    "    lst=[line.split()[1] for line in f]\n",
    "    temp=[]\n",
    "    for i in lst:\n",
    "        new=i.replace(',',\"\")\n",
    "        temp.append(new)\n",
    "    temp.pop(0)\n",
    "    temp=[float(x) for x in temp]\n",
    "    temp=temp[1692:1717]\n",
    "    #temp=temp[2015:2063]\n",
    "    print(temp)\n",
    "    ##prfloat(len(temp))\n",
    "#full time period is [2015:2112]"
   ]
  },
  {
   "cell_type": "code",
   "execution_count": 48,
   "id": "facb606c",
   "metadata": {},
   "outputs": [
    {
     "name": "stdout",
     "output_type": "stream",
     "text": [
      "[-1.8, -2.25, -2.1500000000000004, -2.0, -2.6500000000000004, -3.05, -3.0, -1.8, 2.65, 6.35, 9.4, 12.0, 13.25, 14.4, 15.55, 15.75, 16.4, 15.850000000000001, 13.85, 9.5, 7.2, 5.05, 4.4, 5.2, 5.1]\n"
     ]
    }
   ],
   "source": [
    "#Air Temp CRN:\n",
    "with open('CRNS0101-05-2022-LA_Monroe_26_N.txt') as f:\n",
    "    lst=[line.split()[8] for line in f]\n",
    "    \n",
    "    a=(float(lst[20519])+float(lst[20520]))/2\n",
    "    b=(float(lst[20531])+float(lst[20532]))/2\n",
    "    c=(float(lst[20543])+float(lst[20544]))/2\n",
    "    d=(float(lst[20555])+float(lst[20556]))/2\n",
    "    e=(float(lst[20567])+float(lst[20568]))/2\n",
    "    f=(float(lst[20579])+float(lst[20580]))/2\n",
    "    g=(float(lst[20591])+float(lst[20592]))/2\n",
    "    h=(float(lst[20603])+float(lst[20604]))/2\n",
    "    i=(float(lst[20615])+float(lst[20616]))/2\n",
    "    j=(float(lst[20627])+float(lst[20628]))/2\n",
    "    k=(float(lst[20639])+float(lst[20640]))/2\n",
    "    l=(float(lst[20651])+float(lst[20652]))/2\n",
    "    m=(float(lst[20663])+float(lst[20664]))/2\n",
    "    n=(float(lst[20675])+float(lst[20676]))/2\n",
    "    o=(float(lst[20687])+float(lst[20688]))/2\n",
    "    p=(float(lst[20699])+float(lst[20700]))/2\n",
    "    q=(float(lst[20711])+float(lst[20712]))/2\n",
    "    r=(float(lst[20723])+float(lst[20724]))/2\n",
    "    s=(float(lst[20735])+float(lst[20736]))/2\n",
    "    t=(float(lst[20747])+float(lst[20748]))/2\n",
    "    u=(float(lst[20759])+float(lst[20760]))/2\n",
    "    v=(float(lst[20771])+float(lst[20772]))/2\n",
    "    w=(float(lst[20783])+float(lst[20784]))/2\n",
    "    x=(float(lst[20795])+float(lst[20796]))/2\n",
    "    y=(float(lst[20807])+float(lst[20808]))/2\n",
    "    \n",
    "    temp_crn=[a,b,c,d,e,f,g,h,i,j,k,l,m,n,o,p,q,r,s,t,u,v,w,x,y]\n",
    "    print(temp_crn)"
   ]
  },
  {
   "cell_type": "code",
   "execution_count": 49,
   "id": "e5057ed5",
   "metadata": {},
   "outputs": [
    {
     "name": "stdout",
     "output_type": "stream",
     "text": [
      "[3.16578, 3.092743, 2.8883420000000006, 2.598785, 2.8678040000000005, 2.810651, 2.523285, 1.8087280300000002, 0.08474000000000004, -0.41174, -0.6696799999999996, -0.4681999999999995, 0.11550000000000082, 0.7149999999999999, 0.5689999999999991, 0.8438000000000017, 0.24990000000000023, 0.2708999999999975, -0.05689999999999884, 1.5204000000000004, 2.25654, 3.53353, 3.2197199999999997, 1.8801699999999997, 0.9213900000000006]\n"
     ]
    }
   ],
   "source": [
    "difference2_mon = []\n",
    "\n",
    "zip_object = zip(temp, temp_crn)\n",
    "for temp_i, temp_crn_i in zip_object:\n",
    "    difference2_mon.append(temp_i-temp_crn_i)\n",
    "\n",
    "print(difference2_mon)"
   ]
  },
  {
   "cell_type": "markdown",
   "id": "50b6ccdc",
   "metadata": {},
   "source": [
    "<font size=\"3\">Holly Springs, MS: 0600 UTC (12:00 am CST) 01 March 2022-0600 UTC (12:00 am CST) 02 March 2022</font>"
   ]
  },
  {
   "cell_type": "code",
   "execution_count": 50,
   "id": "04968dd0",
   "metadata": {},
   "outputs": [
    {
     "name": "stdout",
     "output_type": "stream",
     "text": [
      "[-0.634216, -0.594757, -0.574158, -0.588715, -0.532196, -0.489349, -0.539215, -0.241272, 1.73474, 4.12576, 6.41782, 9.09427, 11.303, 13.0525, 14.619, 15.0313, 14.8999, 14.1834, 11.1056, 9.33286, 8.08154, 7.02103, 5.93222, 5.01767, 4.45889]\n"
     ]
    }
   ],
   "source": [
    "#1 hr hrrr:\n",
    "with open('hrrr_f18_Holly Springs_MS.txt') as f:\n",
    "    lst=[line.split()[1] for line in f]\n",
    "    temp=[]\n",
    "    for i in lst:\n",
    "        new=i.replace(',',\"\")\n",
    "        temp.append(new)\n",
    "    temp.pop(0)\n",
    "    temp=[float(x) for x in temp]\n",
    "    temp=temp[1692:1717]\n",
    "    #temp=temp[2015:2063]\n",
    "    print(temp)\n",
    "    ##prfloat(len(temp))\n",
    "#full time period is [2015:2112]"
   ]
  },
  {
   "cell_type": "code",
   "execution_count": 51,
   "id": "3d3b4214",
   "metadata": {},
   "outputs": [
    {
     "name": "stdout",
     "output_type": "stream",
     "text": [
      "[-5.85, -6.5, -4.699999999999999, -4.5, -5.15, -4.699999999999999, -4.1, -2.7, 0.35, 4.15, 7.4, 10.0, 12.1, 13.3, 14.35, 15.05, 15.0, 14.0, 12.25, 5.35, 4.7, 3.45, 4.65, 6.1, 6.05]\n"
     ]
    }
   ],
   "source": [
    "#Air Temp CRN:\n",
    "with open('CRNS0101-05-2022-MS_Holly_Springs_4_N.txt') as f:\n",
    "    lst=[line.split()[8] for line in f]\n",
    "    \n",
    "    a=(float(lst[20519])+float(lst[20520]))/2\n",
    "    b=(float(lst[20531])+float(lst[20532]))/2\n",
    "    c=(float(lst[20543])+float(lst[20544]))/2\n",
    "    d=(float(lst[20555])+float(lst[20556]))/2\n",
    "    e=(float(lst[20567])+float(lst[20568]))/2\n",
    "    f=(float(lst[20579])+float(lst[20580]))/2\n",
    "    g=(float(lst[20591])+float(lst[20592]))/2\n",
    "    h=(float(lst[20603])+float(lst[20604]))/2\n",
    "    i=(float(lst[20615])+float(lst[20616]))/2\n",
    "    j=(float(lst[20627])+float(lst[20628]))/2\n",
    "    k=(float(lst[20639])+float(lst[20640]))/2\n",
    "    l=(float(lst[20651])+float(lst[20652]))/2\n",
    "    m=(float(lst[20663])+float(lst[20664]))/2\n",
    "    n=(float(lst[20675])+float(lst[20676]))/2\n",
    "    o=(float(lst[20687])+float(lst[20688]))/2\n",
    "    p=(float(lst[20699])+float(lst[20700]))/2\n",
    "    q=(float(lst[20711])+float(lst[20712]))/2\n",
    "    r=(float(lst[20723])+float(lst[20724]))/2\n",
    "    s=(float(lst[20735])+float(lst[20736]))/2\n",
    "    t=(float(lst[20747])+float(lst[20748]))/2\n",
    "    u=(float(lst[20759])+float(lst[20760]))/2\n",
    "    v=(float(lst[20771])+float(lst[20772]))/2\n",
    "    w=(float(lst[20783])+float(lst[20784]))/2\n",
    "    x=(float(lst[20795])+float(lst[20796]))/2\n",
    "    y=(float(lst[20807])+float(lst[20808]))/2\n",
    "    \n",
    "    temp_crn=[a,b,c,d,e,f,g,h,i,j,k,l,m,n,o,p,q,r,s,t,u,v,w,x,y]\n",
    "    print(temp_crn)"
   ]
  },
  {
   "cell_type": "code",
   "execution_count": 52,
   "id": "b1ba34c2",
   "metadata": {},
   "outputs": [
    {
     "name": "stdout",
     "output_type": "stream",
     "text": [
      "[5.215783999999999, 5.9052430000000005, 4.125842, 3.911285, 4.6178040000000005, 4.2106509999999995, 3.5607849999999996, 2.4587280000000002, 1.3847399999999999, -0.024240000000000705, -0.9821800000000005, -0.9057300000000001, -0.7969999999999988, -0.2475000000000005, 0.26900000000000013, -0.018700000000000827, -0.10009999999999941, 0.18340000000000067, -1.1443999999999992, 3.9828600000000005, 3.38154, 3.5710299999999995, 1.2822199999999997, -1.0823299999999998, -1.5911099999999996]\n"
     ]
    }
   ],
   "source": [
    "difference2_hol = []\n",
    "\n",
    "zip_object = zip(temp, temp_crn)\n",
    "for temp_i, temp_crn_i in zip_object:\n",
    "    difference2_hol.append(temp_i-temp_crn_i)\n",
    "\n",
    "print(difference2_hol)"
   ]
  },
  {
   "cell_type": "markdown",
   "id": "9dd596b5",
   "metadata": {},
   "source": [
    "<font size=\"3\">Newton, MS: 0600 UTC (12:00 am CST) 01 March 2022-0600 UTC (12:00 am CST) 02 March 2022</font>"
   ]
  },
  {
   "cell_type": "code",
   "execution_count": 53,
   "id": "67050150",
   "metadata": {},
   "outputs": [
    {
     "name": "stdout",
     "output_type": "stream",
     "text": [
      "[-0.946716, -1.59476, -2.76166, -3.27621, -3.3447, -3.36435, -4.10172, -2.80377, 1.85974, 4.75076, 7.16782, 10.4068, 12.053, 13.8025, 14.869, 15.5938, 15.4624, 14.6834, 12.1681, 9.95786, 8.26904, 7.02103, 6.30722, 5.51767, 4.52139]\n"
     ]
    }
   ],
   "source": [
    "#1 hr hrrr:\n",
    "with open('hrrr_f18_Newton_MS.txt') as f:\n",
    "    lst=[line.split()[1] for line in f]\n",
    "    temp=[]\n",
    "    for i in lst:\n",
    "        new=i.replace(',',\"\")\n",
    "        temp.append(new)\n",
    "    temp.pop(0)\n",
    "    temp=[float(x) for x in temp]\n",
    "    temp=temp[1692:1717]\n",
    "    #temp=temp[2015:2063]\n",
    "    print(temp)\n",
    "    ##prfloat(len(temp))\n",
    "#full time period is [2015:2112]"
   ]
  },
  {
   "cell_type": "code",
   "execution_count": 54,
   "id": "668cca8c",
   "metadata": {},
   "outputs": [
    {
     "name": "stdout",
     "output_type": "stream",
     "text": [
      "[-3.25, -3.9, -4.1, -4.5, -4.800000000000001, -4.7, -5.25, -3.85, 0.4, 3.1, 6.15, 8.1, 10.3, 11.850000000000001, 13.399999999999999, 14.350000000000001, 14.8, 14.3, 11.75, 7.050000000000001, 5.0, 3.2, 2.25, 1.5499999999999998, 0.6]\n"
     ]
    }
   ],
   "source": [
    "#Air Temp CRN:\n",
    "with open('CRNS0101-05-2022-MS_Newton_5_ENE.txt') as f:\n",
    "    lst=[line.split()[8] for line in f]\n",
    "    \n",
    "    a=(float(lst[20519])+float(lst[20520]))/2\n",
    "    b=(float(lst[20531])+float(lst[20532]))/2\n",
    "    c=(float(lst[20543])+float(lst[20544]))/2\n",
    "    d=(float(lst[20555])+float(lst[20556]))/2\n",
    "    e=(float(lst[20567])+float(lst[20568]))/2\n",
    "    f=(float(lst[20579])+float(lst[20580]))/2\n",
    "    g=(float(lst[20591])+float(lst[20592]))/2\n",
    "    h=(float(lst[20603])+float(lst[20604]))/2\n",
    "    i=(float(lst[20615])+float(lst[20616]))/2\n",
    "    j=(float(lst[20627])+float(lst[20628]))/2\n",
    "    k=(float(lst[20639])+float(lst[20640]))/2\n",
    "    l=(float(lst[20651])+float(lst[20652]))/2\n",
    "    m=(float(lst[20663])+float(lst[20664]))/2\n",
    "    n=(float(lst[20675])+float(lst[20676]))/2\n",
    "    o=(float(lst[20687])+float(lst[20688]))/2\n",
    "    p=(float(lst[20699])+float(lst[20700]))/2\n",
    "    q=(float(lst[20711])+float(lst[20712]))/2\n",
    "    r=(float(lst[20723])+float(lst[20724]))/2\n",
    "    s=(float(lst[20735])+float(lst[20736]))/2\n",
    "    t=(float(lst[20747])+float(lst[20748]))/2\n",
    "    u=(float(lst[20759])+float(lst[20760]))/2\n",
    "    v=(float(lst[20771])+float(lst[20772]))/2\n",
    "    w=(float(lst[20783])+float(lst[20784]))/2\n",
    "    x=(float(lst[20795])+float(lst[20796]))/2\n",
    "    y=(float(lst[20807])+float(lst[20808]))/2\n",
    "    \n",
    "    temp_crn=[a,b,c,d,e,f,g,h,i,j,k,l,m,n,o,p,q,r,s,t,u,v,w,x,y]\n",
    "    print(temp_crn)"
   ]
  },
  {
   "cell_type": "code",
   "execution_count": 55,
   "id": "e8bd78b0",
   "metadata": {},
   "outputs": [
    {
     "name": "stdout",
     "output_type": "stream",
     "text": [
      "[2.303284, 2.30524, 1.3383399999999996, 1.2237900000000002, 1.4553000000000007, 1.3356500000000002, 1.1482799999999997, 1.04623, 1.45974, 1.6507599999999996, 1.0178199999999995, 2.306800000000001, 1.7530000000000001, 1.9524999999999988, 1.4690000000000012, 1.2437999999999985, 0.6623999999999999, 0.38339999999999996, 0.4181000000000008, 2.9078599999999994, 3.2690400000000004, 3.8210299999999995, 4.05722, 3.96767, 3.92139]\n"
     ]
    }
   ],
   "source": [
    "difference2_new = []\n",
    "\n",
    "zip_object = zip(temp, temp_crn)\n",
    "for temp_i, temp_crn_i in zip_object:\n",
    "    difference2_new.append(temp_i-temp_crn_i)\n",
    "\n",
    "print(difference2_new)"
   ]
  },
  {
   "cell_type": "markdown",
   "id": "ec499d8b",
   "metadata": {},
   "source": [
    "<font size=\"3\">Gainesville, AL: 0600 UTC (12:00 am CST) 01 March 2022-0600 UTC (12:00 am CST) 02 March 2022</font>"
   ]
  },
  {
   "cell_type": "code",
   "execution_count": 56,
   "id": "e9f22db0",
   "metadata": {},
   "outputs": [
    {
     "name": "stdout",
     "output_type": "stream",
     "text": [
      "[-2.32172, -3.28226, -3.69916, -3.77621, -3.7197, -3.80185, -3.97672, -2.74127, 1.54724, 4.18826, 6.85532, 9.84427, 11.928, 13.6775, 15.119, 15.7188, 15.5874, 14.6834, 11.8556, 9.83286, 8.26904, 7.02103, 6.05722, 5.01767, 4.20889]\n"
     ]
    }
   ],
   "source": [
    "#1 hr hrrr:\n",
    "with open('hrrr_f18_Gainesville_AL (1).txt') as f:\n",
    "    lst=[line.split()[1] for line in f]\n",
    "    temp=[]\n",
    "    for i in lst:\n",
    "        new=i.replace(',',\"\")\n",
    "        temp.append(new)\n",
    "    temp.pop(0)\n",
    "    temp=[float(x) for x in temp]\n",
    "    temp=temp[1692:1717]\n",
    "    #temp=temp[2015:2063]\n",
    "    print(temp)\n",
    "    ##prfloat(len(temp))\n",
    "#full time period is [2015:2112]"
   ]
  },
  {
   "cell_type": "code",
   "execution_count": 57,
   "id": "c87621ea",
   "metadata": {},
   "outputs": [
    {
     "name": "stdout",
     "output_type": "stream",
     "text": [
      "[-2.25, -2.9, -3.0, -3.1500000000000004, -3.25, -3.3, -3.75, -2.65, 0.6000000000000001, 2.9000000000000004, 5.35, 7.65, 9.85, 11.899999999999999, 12.850000000000001, 13.899999999999999, 14.350000000000001, 13.95, 12.350000000000001, 8.850000000000001, 6.449999999999999, 5.1, 4.550000000000001, 3.55, 2.75]\n"
     ]
    }
   ],
   "source": [
    "#Air Temp CRN:\n",
    "with open('CRNS0101-05-2022-AL_Gainesville_2_NE.txt') as f:\n",
    "    lst=[line.split()[8] for line in f]\n",
    "    \n",
    "    a=(float(lst[20519])+float(lst[20520]))/2\n",
    "    b=(float(lst[20531])+float(lst[20532]))/2\n",
    "    c=(float(lst[20543])+float(lst[20544]))/2\n",
    "    d=(float(lst[20555])+float(lst[20556]))/2\n",
    "    e=(float(lst[20567])+float(lst[20568]))/2\n",
    "    f=(float(lst[20579])+float(lst[20580]))/2\n",
    "    g=(float(lst[20591])+float(lst[20592]))/2\n",
    "    h=(float(lst[20603])+float(lst[20604]))/2\n",
    "    i=(float(lst[20615])+float(lst[20616]))/2\n",
    "    j=(float(lst[20627])+float(lst[20628]))/2\n",
    "    k=(float(lst[20639])+float(lst[20640]))/2\n",
    "    l=(float(lst[20651])+float(lst[20652]))/2\n",
    "    m=(float(lst[20663])+float(lst[20664]))/2\n",
    "    n=(float(lst[20675])+float(lst[20676]))/2\n",
    "    o=(float(lst[20687])+float(lst[20688]))/2\n",
    "    p=(float(lst[20699])+float(lst[20700]))/2\n",
    "    q=(float(lst[20711])+float(lst[20712]))/2\n",
    "    r=(float(lst[20723])+float(lst[20724]))/2\n",
    "    s=(float(lst[20735])+float(lst[20736]))/2\n",
    "    t=(float(lst[20747])+float(lst[20748]))/2\n",
    "    u=(float(lst[20759])+float(lst[20760]))/2\n",
    "    v=(float(lst[20771])+float(lst[20772]))/2\n",
    "    w=(float(lst[20783])+float(lst[20784]))/2\n",
    "    x=(float(lst[20795])+float(lst[20796]))/2\n",
    "    y=(float(lst[20807])+float(lst[20808]))/2\n",
    "    \n",
    "    temp_crn=[a,b,c,d,e,f,g,h,i,j,k,l,m,n,o,p,q,r,s,t,u,v,w,x,y]\n",
    "    print(temp_crn)"
   ]
  },
  {
   "cell_type": "code",
   "execution_count": 58,
   "id": "2d1d92b8",
   "metadata": {},
   "outputs": [
    {
     "name": "stdout",
     "output_type": "stream",
     "text": [
      "[-0.07172, -0.38226000000000004, -0.69916, -0.6262099999999995, -0.4697, -0.5018500000000001, -0.2267199999999998, -0.09127000000000018, 0.9472399999999999, 1.2882599999999993, 1.5053200000000002, 2.1942699999999995, 2.078000000000001, 1.7775000000000016, 2.2689999999999984, 1.8188000000000013, 1.2373999999999992, 0.7334000000000014, -0.4944000000000006, 0.9828599999999987, 1.819040000000001, 1.92103, 1.5072199999999993, 1.46767, 1.4588900000000002]\n"
     ]
    }
   ],
   "source": [
    "difference2_gai = []\n",
    "\n",
    "zip_object = zip(temp, temp_crn)\n",
    "for temp_i, temp_crn_i in zip_object:\n",
    "    difference2_gai.append(temp_i-temp_crn_i)\n",
    "\n",
    "print(difference2_gai)"
   ]
  },
  {
   "cell_type": "markdown",
   "id": "4019fb67",
   "metadata": {},
   "source": [
    "<font size=\"3\">Fairhope, AL: 0600 UTC (12:00 am CST) 01 March 2022-0600 UTC (12:00 am CST) 02 March 2022</font>"
   ]
  },
  {
   "cell_type": "code",
   "execution_count": 59,
   "id": "c7e8255a",
   "metadata": {},
   "outputs": [
    {
     "name": "stdout",
     "output_type": "stream",
     "text": [
      "[1.30328, 0.717743, 0.363342, 0.0987854, -0.407196, -0.801849, -1.03922, 0.446228, 2.79724, 5.31326, 7.79282, 9.78177, 11.303, 12.74, 13.5565, 13.8438, 13.0874, 12.8084, 10.9181, 9.14536, 7.83154, 6.89603, 5.93222, 5.26767, 4.95889]\n"
     ]
    }
   ],
   "source": [
    "#1 hr hrrr:\n",
    "with open('hrrr_f18_Fairhope_AL.txt') as f:\n",
    "    lst=[line.split()[1] for line in f]\n",
    "    temp=[]\n",
    "    for i in lst:\n",
    "        new=i.replace(',',\"\")\n",
    "        temp.append(new)\n",
    "    temp.pop(0)\n",
    "    temp=[float(x) for x in temp]\n",
    "    temp=temp[1692:1717]\n",
    "    #temp=temp[2015:2063]\n",
    "    print(temp)\n",
    "    ##prfloat(len(temp))\n",
    "#full time period is [2015:2112]"
   ]
  },
  {
   "cell_type": "code",
   "execution_count": 60,
   "id": "7e7a4b0d",
   "metadata": {},
   "outputs": [
    {
     "name": "stdout",
     "output_type": "stream",
     "text": [
      "[1.4, 0.9, -1.15, -1.0, -0.6499999999999999, -1.2000000000000002, -0.9, 0.44999999999999996, 3.05, 5.95, 7.85, 10.15, 11.5, 10.55, 11.3, 11.649999999999999, 11.0, 10.4, 8.35, 5.8, 3.9000000000000004, 3.0, 1.9, 1.5, 1.15]\n"
     ]
    }
   ],
   "source": [
    "#Air Temp CRN:\n",
    "with open('CRNS0101-05-2022-AL_Fairhope_3_NE.txt') as f:\n",
    "    lst=[line.split()[8] for line in f]\n",
    "    \n",
    "    a=(float(lst[20519])+float(lst[20520]))/2\n",
    "    b=(float(lst[20531])+float(lst[20532]))/2\n",
    "    c=(float(lst[20543])+float(lst[20544]))/2\n",
    "    d=(float(lst[20555])+float(lst[20556]))/2\n",
    "    e=(float(lst[20567])+float(lst[20568]))/2\n",
    "    f=(float(lst[20579])+float(lst[20580]))/2\n",
    "    g=(float(lst[20591])+float(lst[20592]))/2\n",
    "    h=(float(lst[20603])+float(lst[20604]))/2\n",
    "    i=(float(lst[20615])+float(lst[20616]))/2\n",
    "    j=(float(lst[20627])+float(lst[20628]))/2\n",
    "    k=(float(lst[20639])+float(lst[20640]))/2\n",
    "    l=(float(lst[20651])+float(lst[20652]))/2\n",
    "    m=(float(lst[20663])+float(lst[20664]))/2\n",
    "    n=(float(lst[20675])+float(lst[20676]))/2\n",
    "    o=(float(lst[20687])+float(lst[20688]))/2\n",
    "    p=(float(lst[20699])+float(lst[20700]))/2\n",
    "    q=(float(lst[20711])+float(lst[20712]))/2\n",
    "    r=(float(lst[20723])+float(lst[20724]))/2\n",
    "    s=(float(lst[20735])+float(lst[20736]))/2\n",
    "    t=(float(lst[20747])+float(lst[20748]))/2\n",
    "    u=(float(lst[20759])+float(lst[20760]))/2\n",
    "    v=(float(lst[20771])+float(lst[20772]))/2\n",
    "    w=(float(lst[20783])+float(lst[20784]))/2\n",
    "    x=(float(lst[20795])+float(lst[20796]))/2\n",
    "    y=(float(lst[20807])+float(lst[20808]))/2\n",
    "    \n",
    "    temp_crn=[a,b,c,d,e,f,g,h,i,j,k,l,m,n,o,p,q,r,s,t,u,v,w,x,y]\n",
    "    print(temp_crn)"
   ]
  },
  {
   "cell_type": "code",
   "execution_count": 61,
   "id": "e99e35e0",
   "metadata": {},
   "outputs": [
    {
     "name": "stdout",
     "output_type": "stream",
     "text": [
      "[-0.09671999999999992, -0.182257, 1.513342, 1.0987854, 0.2428039999999999, 0.39815100000000014, -0.13922, -0.003771999999999942, -0.2527599999999999, -0.6367400000000005, -0.05717999999999979, -0.3682300000000005, -0.19699999999999918, 2.1899999999999995, 2.256499999999999, 2.1938000000000013, 2.0874000000000006, 2.4084000000000003, 2.568100000000001, 3.3453600000000003, 3.93154, 3.8960299999999997, 4.032220000000001, 3.76767, 3.8088900000000003]\n"
     ]
    }
   ],
   "source": [
    "difference2_fai = []\n",
    "\n",
    "zip_object = zip(temp, temp_crn)\n",
    "for temp_i, temp_crn_i in zip_object:\n",
    "    difference2_fai.append(temp_i-temp_crn_i)\n",
    "\n",
    "print(difference2_fai)"
   ]
  },
  {
   "cell_type": "markdown",
   "id": "cb09fde7",
   "metadata": {},
   "source": [
    "<font size=\"3\">**Selma, AL: 0600 UTC (12:00 am CST) 01 March 2022-0600 UTC (12:00 am CST) 02 March 2022</font>"
   ]
  },
  {
   "cell_type": "code",
   "execution_count": 62,
   "id": "fe2b2257",
   "metadata": {},
   "outputs": [
    {
     "name": "stdout",
     "output_type": "stream",
     "text": [
      "[-0.384216, -0.344757, -0.324158, -0.401215, -0.344696, -0.426849, -0.476715, 0.00872803, 1.54724, 3.31326, 5.48032, 7.59427, 9.24048, 10.8025, 12.1815, 12.9063, 12.9624, 12.8084, 10.2306, 7.95786, 6.45654, 5.83353, 4.93222, 4.20517, 3.70889]\n"
     ]
    }
   ],
   "source": [
    "#1 hr hrrr:\n",
    "with open('hrrr_f18_Selma_AL.txt') as f:\n",
    "    lst=[line.split()[1] for line in f]\n",
    "    temp=[]\n",
    "    for i in lst:\n",
    "        new=i.replace(',',\"\")\n",
    "        temp.append(new)\n",
    "    temp.pop(0)\n",
    "    temp=[float(x) for x in temp]\n",
    "    temp=temp[1692:1717]\n",
    "    print(temp)"
   ]
  },
  {
   "cell_type": "code",
   "execution_count": 63,
   "id": "c7293c23",
   "metadata": {},
   "outputs": [
    {
     "name": "stdout",
     "output_type": "stream",
     "text": [
      "[-2.75, -2.8499999999999996, -3.7, -4.3, -4.6, -4.800000000000001, -4.75, -2.3, 0.8500000000000001, 3.45, 5.65, 7.9, 9.2, 10.8, 12.05, 13.0, 13.4, 13.45, 10.05, 5.9, 4.75, 3.45, 2.65, 2.45, 2.3]\n"
     ]
    }
   ],
   "source": [
    "#Air Temp CRN:\n",
    "with open('CRNS0101-05-2022-AL_Selma_13_WNW.txt') as f:\n",
    "    lst=[line.split()[8] for line in f]\n",
    "    \n",
    "    a=(float(lst[20519])+float(lst[20520]))/2\n",
    "    b=(float(lst[20531])+float(lst[20532]))/2\n",
    "    c=(float(lst[20543])+float(lst[20544]))/2\n",
    "    d=(float(lst[20555])+float(lst[20556]))/2\n",
    "    e=(float(lst[20567])+float(lst[20568]))/2\n",
    "    f=(float(lst[20579])+float(lst[20580]))/2\n",
    "    g=(float(lst[20591])+float(lst[20592]))/2\n",
    "    h=(float(lst[20603])+float(lst[20604]))/2\n",
    "    i=(float(lst[20615])+float(lst[20616]))/2\n",
    "    j=(float(lst[20627])+float(lst[20628]))/2\n",
    "    k=(float(lst[20639])+float(lst[20640]))/2\n",
    "    l=(float(lst[20651])+float(lst[20652]))/2\n",
    "    m=(float(lst[20663])+float(lst[20664]))/2\n",
    "    n=(float(lst[20675])+float(lst[20676]))/2\n",
    "    o=(float(lst[20687])+float(lst[20688]))/2\n",
    "    p=(float(lst[20699])+float(lst[20700]))/2\n",
    "    q=(float(lst[20711])+float(lst[20712]))/2\n",
    "    r=(float(lst[20723])+float(lst[20724]))/2\n",
    "    s=(float(lst[20735])+float(lst[20736]))/2\n",
    "    t=(float(lst[20747])+float(lst[20748]))/2\n",
    "    u=(float(lst[20759])+float(lst[20760]))/2\n",
    "    v=(float(lst[20771])+float(lst[20772]))/2\n",
    "    w=(float(lst[20783])+float(lst[20784]))/2\n",
    "    x=(float(lst[20795])+float(lst[20796]))/2\n",
    "    y=(float(lst[20807])+float(lst[20808]))/2\n",
    "    \n",
    "    temp_crn=[a,b,c,d,e,f,g,h,i,j,k,l,m,n,o,p,q,r,s,t,u,v,w,x,y]\n",
    "    print(temp_crn)"
   ]
  },
  {
   "cell_type": "code",
   "execution_count": 64,
   "id": "837ad3be",
   "metadata": {},
   "outputs": [
    {
     "name": "stdout",
     "output_type": "stream",
     "text": [
      "[2.365784, 2.5052429999999997, 3.375842, 3.8987849999999997, 4.255304, 4.373151000000001, 4.273285, 2.3087280299999997, 0.6972399999999999, -0.13674000000000008, -0.1696800000000005, -0.3057300000000005, 0.040480000000000516, 0.0024999999999995026, 0.13149999999999906, -0.09370000000000012, -0.43759999999999977, -0.6415999999999986, 0.1806000000000001, 2.05786, 1.7065400000000004, 2.3835299999999995, 2.28222, 1.7551699999999997, 1.40889]\n"
     ]
    }
   ],
   "source": [
    "difference2_sel = []\n",
    "\n",
    "zip_object = zip(temp, temp_crn)\n",
    "for temp_i, temp_crn_i in zip_object:\n",
    "    difference2_sel.append(temp_i-temp_crn_i)\n",
    "\n",
    "print(difference2_sel)\n",
    "#prfloat(len(difference2_sel))"
   ]
  },
  {
   "cell_type": "markdown",
   "id": "9767e5fd",
   "metadata": {},
   "source": [
    "<font size=\"3\">Bowling Green, KY: 0600 UTC (12:00 am CST) 01 March 2022-0600 UTC (12:00 am CST) 02 March 2022</font>"
   ]
  },
  {
   "cell_type": "code",
   "execution_count": 65,
   "id": "a031b19f",
   "metadata": {},
   "outputs": [
    {
     "name": "stdout",
     "output_type": "stream",
     "text": [
      "[-5.19672, -5.21976, -5.07416, -5.15121, -5.5947, -5.67685, -5.35172, -3.61627, -1.82776, 0.375763, 2.66782, 5.34427, 7.24048, 9.11496, 10.619, 11.5938, 11.7749, 10.8084, 8.23056, 6.58286, 5.64404, 5.08353, 4.24472, 3.64267, 3.33389]\n"
     ]
    }
   ],
   "source": [
    "#1 hr hrrr:\n",
    "with open('hrrr_f18_Bowling Green_KY.txt') as f:\n",
    "    lst=[line.split()[1] for line in f]\n",
    "    temp=[]\n",
    "    for i in lst:\n",
    "        new=i.replace(',',\"\")\n",
    "        temp.append(new)\n",
    "    temp.pop(0)\n",
    "    temp=[float(x) for x in temp]\n",
    "    temp=temp[1692:1717]\n",
    "    #temp=temp[2015:2063]\n",
    "    print(temp)\n",
    "    ##prfloat(len(temp))\n",
    "#full time period is [2015:2112]"
   ]
  },
  {
   "cell_type": "code",
   "execution_count": 66,
   "id": "c134b665",
   "metadata": {},
   "outputs": [
    {
     "name": "stdout",
     "output_type": "stream",
     "text": [
      "[-7.05, -7.0, -7.3, -7.2, -6.1, -5.1, -4.65, -3.8499999999999996, -2.5, -0.75, 1.9, 4.3, 6.9, 9.350000000000001, 11.45, 12.05, 12.5, 11.75, 9.75, 8.45, 7.8, 7.6, 7.15, 6.6, 6.1]\n"
     ]
    }
   ],
   "source": [
    "#Air Temp CRN:\n",
    "with open('CRNS0101-05-2022-KY_Bowling_Green_21_NNE.txt') as f:\n",
    "    lst=[line.split()[8] for line in f]\n",
    "    \n",
    "    a=(float(lst[20519])+float(lst[20520]))/2\n",
    "    b=(float(lst[20531])+float(lst[20532]))/2\n",
    "    c=(float(lst[20543])+float(lst[20544]))/2\n",
    "    d=(float(lst[20555])+float(lst[20556]))/2\n",
    "    e=(float(lst[20567])+float(lst[20568]))/2\n",
    "    f=(float(lst[20579])+float(lst[20580]))/2\n",
    "    g=(float(lst[20591])+float(lst[20592]))/2\n",
    "    h=(float(lst[20603])+float(lst[20604]))/2\n",
    "    i=(float(lst[20615])+float(lst[20616]))/2\n",
    "    j=(float(lst[20627])+float(lst[20628]))/2\n",
    "    k=(float(lst[20639])+float(lst[20640]))/2\n",
    "    l=(float(lst[20651])+float(lst[20652]))/2\n",
    "    m=(float(lst[20663])+float(lst[20664]))/2\n",
    "    n=(float(lst[20675])+float(lst[20676]))/2\n",
    "    o=(float(lst[20687])+float(lst[20688]))/2\n",
    "    p=(float(lst[20699])+float(lst[20700]))/2\n",
    "    q=(float(lst[20711])+float(lst[20712]))/2\n",
    "    r=(float(lst[20723])+float(lst[20724]))/2\n",
    "    s=(float(lst[20735])+float(lst[20736]))/2\n",
    "    t=(float(lst[20747])+float(lst[20748]))/2\n",
    "    u=(float(lst[20759])+float(lst[20760]))/2\n",
    "    v=(float(lst[20771])+float(lst[20772]))/2\n",
    "    w=(float(lst[20783])+float(lst[20784]))/2\n",
    "    x=(float(lst[20795])+float(lst[20796]))/2\n",
    "    y=(float(lst[20807])+float(lst[20808]))/2\n",
    "    \n",
    "    temp_crn=[a,b,c,d,e,f,g,h,i,j,k,l,m,n,o,p,q,r,s,t,u,v,w,x,y]\n",
    "    print(temp_crn)"
   ]
  },
  {
   "cell_type": "code",
   "execution_count": 67,
   "id": "d326cffb",
   "metadata": {},
   "outputs": [
    {
     "name": "stdout",
     "output_type": "stream",
     "text": [
      "[1.8532799999999998, 1.78024, 2.22584, 2.0487900000000003, 0.5053000000000001, -0.5768500000000003, -0.7017199999999999, 0.23372999999999955, 0.67224, 1.125763, 0.76782, 1.04427, 0.34047999999999945, -0.23504000000000147, -0.8309999999999995, -0.4562000000000008, -0.7250999999999994, -0.9415999999999993, -1.5194399999999995, -1.8671399999999991, -2.1559599999999994, -2.51647, -2.9052800000000003, -2.95733, -2.76611]\n"
     ]
    }
   ],
   "source": [
    "difference2_bow = []\n",
    "\n",
    "zip_object = zip(temp, temp_crn)\n",
    "for temp_i, temp_crn_i in zip_object:\n",
    "    difference2_bow.append(temp_i-temp_crn_i)\n",
    "\n",
    "print(difference2_bow)"
   ]
  },
  {
   "cell_type": "markdown",
   "id": "cf477d73",
   "metadata": {},
   "source": [
    "<font size=\"3\">Gadsden, AL: 0600 UTC (12:00 am CST) 01 March 2022-0600 UTC (12:00 am CST) 02 March 2022</font>"
   ]
  },
  {
   "cell_type": "code",
   "execution_count": 68,
   "id": "8d9653aa",
   "metadata": {},
   "outputs": [
    {
     "name": "stdout",
     "output_type": "stream",
     "text": [
      "[-1.57172, -1.53226, -1.44916, -1.40121, -1.4072, -1.42685, -1.47672, -1.24127, -0.265259, 1.62576, 3.66782, 5.78177, 7.42798, 8.67746, 9.68155, 10.4063, 10.3999, 9.74588, 7.35556, 6.14536, 5.20654, 4.58353, 4.18222, 3.51767, 3.27139]\n"
     ]
    }
   ],
   "source": [
    "#1 hr hrrr:\n",
    "with open('hrrr_f18_Gadsden_AL.txt') as f:\n",
    "    lst=[line.split()[1] for line in f]\n",
    "    temp=[]\n",
    "    for i in lst:\n",
    "        new=i.replace(',',\"\")\n",
    "        temp.append(new)\n",
    "    temp.pop(0)\n",
    "    temp=[float(x) for x in temp]\n",
    "    temp=temp[1692:1717]\n",
    "#     x = np.array(temp)\n",
    "#     temp = ma.masked_array(x, mask=[0, 0, 0, 0, 0,0,0,0,1,0,0,0,0,0,0,0,0,0,0,0,0,0,0,0,0])\n",
    "    #temp=temp[2015:2063]\n",
    "    print(temp)\n",
    "    ##prfloat(len(temp))\n",
    "#full time period is [2015:2112]"
   ]
  },
  {
   "cell_type": "code",
   "execution_count": 69,
   "id": "5e83c09d",
   "metadata": {},
   "outputs": [
    {
     "name": "stdout",
     "output_type": "stream",
     "text": [
      "[-5.0, -5.8, -6.35, -6.65, -6.05, -6.65, -6.5, -3.9, -1.85, 0.0, 2.6, 4.65, 7.050000000000001, 8.5, 9.8, 10.5, 10.95, 10.4, 7.45, 6.05, 6.300000000000001, 5.35, 4.85, 4.05, 2.4]\n"
     ]
    }
   ],
   "source": [
    "#Air Temp CRN:\n",
    "with open('CRNS0101-05-2022-AL_Gadsden_19_N.txt') as f:\n",
    "    lst=[line.split()[8] for line in f]\n",
    "    \n",
    "    a=(float(lst[20519])+float(lst[20520]))/2\n",
    "    b=(float(lst[20531])+float(lst[20532]))/2\n",
    "    c=(float(lst[20543])+float(lst[20544]))/2\n",
    "    d=(float(lst[20555])+float(lst[20556]))/2\n",
    "    e=(float(lst[20567])+float(lst[20568]))/2\n",
    "    f=(float(lst[20579])+float(lst[20580]))/2\n",
    "    g=(float(lst[20591])+float(lst[20592]))/2\n",
    "    h=(float(lst[20603])+float(lst[20604]))/2\n",
    "    i=(float(lst[20615])+float(lst[20616]))/2\n",
    "    j=(float(lst[20627])+float(lst[20628]))/2\n",
    "    k=(float(lst[20639])+float(lst[20640]))/2\n",
    "    l=(float(lst[20651])+float(lst[20652]))/2\n",
    "    m=(float(lst[20663])+float(lst[20664]))/2\n",
    "    n=(float(lst[20675])+float(lst[20676]))/2\n",
    "    o=(float(lst[20687])+float(lst[20688]))/2\n",
    "    p=(float(lst[20699])+float(lst[20700]))/2\n",
    "    q=(float(lst[20711])+float(lst[20712]))/2\n",
    "    r=(float(lst[20723])+float(lst[20724]))/2\n",
    "    s=(float(lst[20735])+float(lst[20736]))/2\n",
    "    t=(float(lst[20747])+float(lst[20748]))/2\n",
    "    u=(float(lst[20759])+float(lst[20760]))/2\n",
    "    v=(float(lst[20771])+float(lst[20772]))/2\n",
    "    w=(float(lst[20783])+float(lst[20784]))/2\n",
    "    x=(float(lst[20795])+float(lst[20796]))/2\n",
    "    y=(float(lst[20807])+float(lst[20808]))/2\n",
    "    \n",
    "    temp_crn=[a,b,c,d,e,f,g,h,i,j,k,l,m,n,o,p,q,r,s,t,u,v,w,x,y]\n",
    "    print(temp_crn)"
   ]
  },
  {
   "cell_type": "code",
   "execution_count": 70,
   "id": "254e1e52",
   "metadata": {},
   "outputs": [
    {
     "name": "stdout",
     "output_type": "stream",
     "text": [
      "[3.42828, 4.26774, 4.90084, 5.2487900000000005, 4.642799999999999, 5.22315, 5.02328, 2.65873, 1.5847410000000002, 1.62576, 1.0678199999999998, 1.1317699999999995, 0.3779799999999991, 0.17745999999999995, -0.11845000000000105, -0.09370000000000012, -0.5500999999999987, -0.6541200000000007, -0.09444000000000052, 0.09536000000000033, -1.0934600000000003, -0.76647, -0.6677799999999996, -0.53233, 0.8713899999999999]\n"
     ]
    }
   ],
   "source": [
    "difference2_gad = []\n",
    "\n",
    "zip_object = zip(temp, temp_crn)\n",
    "for temp_i, temp_crn_i in zip_object:\n",
    "    difference2_gad.append(temp_i-temp_crn_i)\n",
    "\n",
    "print(difference2_gad)"
   ]
  },
  {
   "cell_type": "markdown",
   "id": "75862889",
   "metadata": {},
   "source": [
    "<font size=\"3\">Newton, GA: 0600 UTC (12:00 am CST) 01 March 2022-0600 UTC (12:00 am CST) 02 March 2022</font>"
   ]
  },
  {
   "cell_type": "code",
   "execution_count": 71,
   "id": "06608db6",
   "metadata": {},
   "outputs": [
    {
     "name": "stdout",
     "output_type": "stream",
     "text": [
      "[-0.259216, -0.407257, -0.511658, -0.651215, -0.782196, -0.926849, -0.914215, -0.053772, 1.54724, 3.68826, 5.85532, 7.96927, 10.053, 11.8025, 13.119, 13.5938, 13.5874, 12.9959, 10.1056, 8.27036, 7.14404, 5.95853, 5.18222, 4.45517, 3.77139]\n"
     ]
    }
   ],
   "source": [
    "#1 hr hrrr:\n",
    "with open('hrrr_f18_Newton_GA.txt') as f:\n",
    "    lst=[line.split()[1] for line in f]\n",
    "    temp=[]\n",
    "    for i in lst:\n",
    "        new=i.replace(',',\"\")\n",
    "        temp.append(new)\n",
    "    temp.pop(0)\n",
    "    temp=[float(x) for x in temp]\n",
    "    temp=temp[1692:1717]\n",
    "    #temp=temp[2015:2063]\n",
    "    print(temp)\n",
    "    ##prfloat(len(temp))\n",
    "#full time period is [2015:2112]"
   ]
  },
  {
   "cell_type": "code",
   "execution_count": 72,
   "id": "bd71ef9e",
   "metadata": {},
   "outputs": [
    {
     "name": "stdout",
     "output_type": "stream",
     "text": [
      "[0.25, -1.25, -2.85, -1.25, -1.7000000000000002, -2.5999999999999996, -3.0, -0.25, 2.3, 4.3, 5.699999999999999, 7.85, 9.899999999999999, 11.35, 13.0, 13.4, 13.75, 13.25, 9.25, 6.5, 5.1, 3.95, 2.5, 2.8, 2.0999999999999996]\n"
     ]
    }
   ],
   "source": [
    "#Air Temp CRN:\n",
    "with open('CRNS0101-05-2022-GA_Newton_11_SW.txt') as f:\n",
    "    lst=[line.split()[8] for line in f]\n",
    "    \n",
    "    a=(float(lst[20519])+float(lst[20520]))/2\n",
    "    b=(float(lst[20531])+float(lst[20532]))/2\n",
    "    c=(float(lst[20543])+float(lst[20544]))/2\n",
    "    d=(float(lst[20555])+float(lst[20556]))/2\n",
    "    e=(float(lst[20567])+float(lst[20568]))/2\n",
    "    f=(float(lst[20579])+float(lst[20580]))/2\n",
    "    g=(float(lst[20591])+float(lst[20592]))/2\n",
    "    h=(float(lst[20603])+float(lst[20604]))/2\n",
    "    i=(float(lst[20615])+float(lst[20616]))/2\n",
    "    j=(float(lst[20627])+float(lst[20628]))/2\n",
    "    k=(float(lst[20639])+float(lst[20640]))/2\n",
    "    l=(float(lst[20651])+float(lst[20652]))/2\n",
    "    m=(float(lst[20663])+float(lst[20664]))/2\n",
    "    n=(float(lst[20675])+float(lst[20676]))/2\n",
    "    o=(float(lst[20687])+float(lst[20688]))/2\n",
    "    p=(float(lst[20699])+float(lst[20700]))/2\n",
    "    q=(float(lst[20711])+float(lst[20712]))/2\n",
    "    r=(float(lst[20723])+float(lst[20724]))/2\n",
    "    s=(float(lst[20735])+float(lst[20736]))/2\n",
    "    t=(float(lst[20747])+float(lst[20748]))/2\n",
    "    u=(float(lst[20759])+float(lst[20760]))/2\n",
    "    v=(float(lst[20771])+float(lst[20772]))/2\n",
    "    w=(float(lst[20783])+float(lst[20784]))/2\n",
    "    x=(float(lst[20795])+float(lst[20796]))/2\n",
    "    y=(float(lst[20807])+float(lst[20808]))/2\n",
    "    \n",
    "    temp_crn=[a,b,c,d,e,f,g,h,i,j,k,l,m,n,o,p,q,r,s,t,u,v,w,x,y]\n",
    "    print(temp_crn)"
   ]
  },
  {
   "cell_type": "code",
   "execution_count": 73,
   "id": "405581a9",
   "metadata": {},
   "outputs": [
    {
     "name": "stdout",
     "output_type": "stream",
     "text": [
      "[-0.509216, 0.842743, 2.338342, 0.598785, 0.9178040000000002, 1.6731509999999996, 2.085785, 0.196228, -0.7527599999999999, -0.6117399999999997, 0.15532000000000057, 0.11927000000000021, 0.15300000000000225, 0.45250000000000057, 0.11899999999999977, 0.19379999999999953, -0.1625999999999994, -0.2540999999999993, 0.8556000000000008, 1.7703600000000002, 2.0440400000000007, 2.0085299999999995, 2.68222, 1.65517, 1.6713900000000002]\n"
     ]
    }
   ],
   "source": [
    "difference2_newt = []\n",
    "\n",
    "zip_object = zip(temp, temp_crn)\n",
    "for temp_i, temp_crn_i in zip_object:\n",
    "    difference2_newt.append(temp_i-temp_crn_i)\n",
    "\n",
    "print(difference2_newt)"
   ]
  },
  {
   "cell_type": "markdown",
   "id": "70443283",
   "metadata": {},
   "source": [
    "<font size=\"3\">Salem, MO: 0500 UTC (12:00 am CDT) 20 March 2022-0500 UTC (12:00 am CDT) 21 March 2022</font>"
   ]
  },
  {
   "cell_type": "code",
   "execution_count": 74,
   "id": "2d0299c0",
   "metadata": {},
   "outputs": [
    {
     "name": "stdout",
     "output_type": "stream",
     "text": [
      "[4.70572, 4.05078, 4.62503, 4.15353, 2.32617, 2.45975, 2.28726, 3.27219, 7.26749, 11.2346, 14.0778, 15.8745, 17.6717, 19.2315, 20.0336, 20.7605, 20.6311, 19.7278, 15.9768, 13.0325, 11.3219, 10.541, 10.1119, 9.76016, 9.64438]\n"
     ]
    }
   ],
   "source": [
    "#1 hr hrrr:\n",
    "with open('hrrr_f18_Salem_MO.txt') as f:\n",
    "    lst=[line.split()[1] for line in f]\n",
    "    temp=[]\n",
    "    for i in lst:\n",
    "        new=i.replace(',',\"\")\n",
    "        temp.append(new)\n",
    "    temp.pop(0)\n",
    "    temp=[float(x) for x in temp]\n",
    "    temp=temp[1860:1885]\n",
    "    #temp=temp[2015:2063]\n",
    "    print(temp)\n",
    "    #prfloat(len(temp))\n",
    "#full time period is [2015:2112]"
   ]
  },
  {
   "cell_type": "code",
   "execution_count": 75,
   "id": "fb918883",
   "metadata": {},
   "outputs": [
    {
     "name": "stdout",
     "output_type": "stream",
     "text": [
      "[-1.5, -2.0, -2.1, -2.8, -2.5999999999999996, -3.1, -3.45, -0.65, 8.35, 14.4, 17.4, 19.25, 20.25, 21.75, 22.25, 21.9, 22.0, 21.200000000000003, 18.85, 13.6, 10.9, 14.1, 13.350000000000001, 12.95, 13.1]\n"
     ]
    }
   ],
   "source": [
    "#Air Temp CRN:\n",
    "with open('CRNS0101-05-2022-MO_Salem_10_W.txt') as f:\n",
    "    lst=[line.split()[8] for line in f]\n",
    "    \n",
    "    a=(float(lst[22535])+float(lst[22536]))/2\n",
    "    b=(float(lst[22547])+float(lst[22548]))/2\n",
    "    c=(float(lst[22559])+float(lst[22560]))/2\n",
    "    d=(float(lst[22571])+float(lst[22572]))/2\n",
    "    e=(float(lst[22583])+float(lst[22584]))/2\n",
    "    f=(float(lst[22595])+float(lst[22596]))/2\n",
    "    g=(float(lst[22607])+float(lst[22608]))/2\n",
    "    h=(float(lst[22619])+float(lst[22620]))/2\n",
    "    i=(float(lst[22631])+float(lst[22632]))/2\n",
    "    j=(float(lst[22643])+float(lst[22644]))/2\n",
    "    k=(float(lst[22655])+float(lst[22656]))/2\n",
    "    l=(float(lst[22667])+float(lst[22668]))/2\n",
    "    m=(float(lst[22679])+float(lst[22680]))/2\n",
    "    n=(float(lst[22691])+float(lst[22692]))/2\n",
    "    o=(float(lst[22703])+float(lst[22704]))/2\n",
    "    p=(float(lst[22715])+float(lst[22716]))/2\n",
    "    q=(float(lst[22727])+float(lst[22728]))/2\n",
    "    r=(float(lst[22739])+float(lst[22740]))/2\n",
    "    s=(float(lst[22751])+float(lst[22752]))/2\n",
    "    t=(float(lst[22763])+float(lst[22764]))/2\n",
    "    u=(float(lst[22775])+float(lst[22776]))/2\n",
    "    v=(float(lst[22787])+float(lst[22788]))/2\n",
    "    w=(float(lst[22799])+float(lst[22800]))/2\n",
    "    x=(float(lst[22811])+float(lst[22812]))/2\n",
    "    y=(float(lst[22823])+float(lst[22824]))/2\n",
    "    \n",
    "    temp_crn=[a,b,c,d,e,f,g,h,i,j,k,l,m,n,o,p,q,r,s,t,u,v,w,x,y]\n",
    "    print(temp_crn)"
   ]
  },
  {
   "cell_type": "code",
   "execution_count": 76,
   "id": "e8c3c3a5",
   "metadata": {},
   "outputs": [
    {
     "name": "stdout",
     "output_type": "stream",
     "text": [
      "[6.20572, 6.05078, 6.72503, 6.95353, 4.926169999999999, 5.55975, 5.73726, 3.92219, -1.08251, -3.1654, -3.3221999999999987, -3.3755000000000006, -2.5782999999999987, -2.5184999999999995, -2.2164, -1.1394999999999982, -1.3689, -1.4722000000000044, -2.8732000000000006, -0.567499999999999, 0.42189999999999905, -3.5589999999999993, -3.238100000000001, -3.1898399999999985, -3.4556199999999997]\n"
     ]
    }
   ],
   "source": [
    "difference3_sal = []\n",
    "\n",
    "zip_object = zip(temp, temp_crn)\n",
    "for temp_i, temp_crn_i in zip_object:\n",
    "    difference3_sal.append(temp_i-temp_crn_i)\n",
    "\n",
    "print(difference3_sal)"
   ]
  },
  {
   "cell_type": "markdown",
   "id": "176d67cb",
   "metadata": {},
   "source": [
    "<font size=\"3\">Batesville, AR: 0600 UTC (12:00 am CST) 01 March 2022-0600 UTC (12:00 am CST) 02 March 2022</font>"
   ]
  },
  {
   "cell_type": "code",
   "execution_count": 77,
   "id": "51a628f5",
   "metadata": {},
   "outputs": [
    {
     "name": "stdout",
     "output_type": "stream",
     "text": [
      "[8.89322, 8.17578, 7.68753, 7.27853, 6.95117, 6.83475, 6.47476, 6.70969, 9.51749, 12.9846, 15.5153, 18.1245, 20.1717, 22.044, 23.1586, 23.6355, 23.3186, 22.6028, 19.4768, 16.845, 14.9469, 12.791, 12.1744, 12.0727, 11.0819]\n"
     ]
    }
   ],
   "source": [
    "#1 hr hrrr:\n",
    "with open('hrrr_f18_Batesville_AR.txt') as f:\n",
    "    lst=[line.split()[1] for line in f]\n",
    "    temp=[]\n",
    "    for i in lst:\n",
    "        new=i.replace(',',\"\")\n",
    "        temp.append(new)\n",
    "    temp.pop(0)\n",
    "    temp=[float(x) for x in temp]\n",
    "    temp=temp[1860:1885]\n",
    "#     x = np.array(temp)\n",
    "#     temp = ma.masked_array(x, mask=[0, 0, 0, 0, 0,0,0,0,0,0,0,0,0,0,0,0,0,0,0,0,0,1,0,0,0])\n",
    "    #temp=temp[2015:2063]\n",
    "    print(temp)\n",
    "    #prfloat(len(temp))\n",
    "#full time period is [2015:2112]"
   ]
  },
  {
   "cell_type": "code",
   "execution_count": 78,
   "id": "08f9b3ea",
   "metadata": {},
   "outputs": [
    {
     "name": "stdout",
     "output_type": "stream",
     "text": [
      "[2.8, 2.05, 1.7000000000000002, 0.8, 1.25, 0.0, 0.05, 1.55, 7.050000000000001, 12.9, 16.2, 18.6, 20.55, 22.200000000000003, 23.6, 23.7, 23.3, 22.05, 18.299999999999997, 15.950000000000001, 12.45, 10.5, 8.75, 8.3, 8.05]\n"
     ]
    }
   ],
   "source": [
    "#Air Temp CRN:\n",
    "with open('CRNS0101-05-2022-AR_Batesville_8_WNW.txt') as f:\n",
    "    lst=[line.split()[8] for line in f]\n",
    "    \n",
    "    a=(float(lst[22535])+float(lst[22536]))/2\n",
    "    b=(float(lst[22547])+float(lst[22548]))/2\n",
    "    c=(float(lst[22559])+float(lst[22560]))/2\n",
    "    d=(float(lst[22571])+float(lst[22572]))/2\n",
    "    e=(float(lst[22583])+float(lst[22584]))/2\n",
    "    f=(float(lst[22595])+float(lst[22596]))/2\n",
    "    g=(float(lst[22607])+float(lst[22608]))/2\n",
    "    h=(float(lst[22619])+float(lst[22620]))/2\n",
    "    i=(float(lst[22631])+float(lst[22632]))/2\n",
    "    j=(float(lst[22643])+float(lst[22644]))/2\n",
    "    k=(float(lst[22655])+float(lst[22656]))/2\n",
    "    l=(float(lst[22667])+float(lst[22668]))/2\n",
    "    m=(float(lst[22679])+float(lst[22680]))/2\n",
    "    n=(float(lst[22691])+float(lst[22692]))/2\n",
    "    o=(float(lst[22703])+float(lst[22704]))/2\n",
    "    p=(float(lst[22715])+float(lst[22716]))/2\n",
    "    q=(float(lst[22727])+float(lst[22728]))/2\n",
    "    r=(float(lst[22739])+float(lst[22740]))/2\n",
    "    s=(float(lst[22751])+float(lst[22752]))/2\n",
    "    t=(float(lst[22763])+float(lst[22764]))/2\n",
    "    u=(float(lst[22775])+float(lst[22776]))/2\n",
    "    v=(float(lst[22787])+float(lst[22788]))/2\n",
    "    w=(float(lst[22799])+float(lst[22800]))/2\n",
    "    x=(float(lst[22811])+float(lst[22812]))/2\n",
    "    y=(float(lst[22823])+float(lst[22824]))/2\n",
    "    \n",
    "    temp_crn=[a,b,c,d,e,f,g,h,i,j,k,l,m,n,o,p,q,r,s,t,u,v,w,x,y]\n",
    "    print(temp_crn)"
   ]
  },
  {
   "cell_type": "code",
   "execution_count": 79,
   "id": "19589d21",
   "metadata": {},
   "outputs": [
    {
     "name": "stdout",
     "output_type": "stream",
     "text": [
      "[6.09322, 6.12578, 5.98753, 6.47853, 5.70117, 6.83475, 6.42476, 5.15969, 2.4674899999999997, 0.08460000000000001, -0.6846999999999994, -0.47550000000000026, -0.3782999999999994, -0.15600000000000236, -0.44140000000000157, -0.06449999999999889, 0.018599999999999284, 0.5527999999999977, 1.1768000000000036, 0.8949999999999978, 2.4969, 2.2910000000000004, 3.4244000000000003, 3.7726999999999986, 3.0318999999999985]\n"
     ]
    }
   ],
   "source": [
    "difference3_bat = []\n",
    "\n",
    "zip_object = zip(temp, temp_crn)\n",
    "for temp_i, temp_crn_i in zip_object:\n",
    "    difference3_bat.append(temp_i-temp_crn_i)\n",
    "\n",
    "print(difference3_bat)"
   ]
  },
  {
   "cell_type": "markdown",
   "id": "9ac05a40",
   "metadata": {},
   "source": [
    "<font size=\"3\">Lafayette, LA: 0600 UTC (12:00 am CST) 01 March 2022-0600 UTC (12:00 am CST) 02 March 2022</font>"
   ]
  },
  {
   "cell_type": "code",
   "execution_count": 80,
   "id": "f280badb",
   "metadata": {},
   "outputs": [
    {
     "name": "stdout",
     "output_type": "stream",
     "text": [
      "[10.3932, 9.48828, 9.12503, 8.15353, 7.26367, 7.33475, 7.34976, 8.02219, 14.08, 18.7971, 21.7653, 23.3745, 25.1092, 25.919, 26.2211, 26.448, 26.0686, 25.0403, 22.8518, 18.72, 16.5719, 15.3535, 14.6744, 13.5102, 12.7694]\n"
     ]
    }
   ],
   "source": [
    "#1 hr hrrr:\n",
    "with open('hrrr_f18_Lafayette_LA.txt') as f:\n",
    "    lst=[line.split()[1] for line in f]\n",
    "    temp=[]\n",
    "    for i in lst:\n",
    "        new=i.replace(',',\"\")\n",
    "        temp.append(new)\n",
    "    temp.pop(0)\n",
    "    temp=[float(x) for x in temp]\n",
    "    temp=temp[1860:1885]\n",
    "    #temp=temp[2015:2063]\n",
    "    print(temp)\n",
    "    ##prfloat(len(temp))\n",
    "#full time period is [2015:2112]"
   ]
  },
  {
   "cell_type": "code",
   "execution_count": 81,
   "id": "7e7917cd",
   "metadata": {},
   "outputs": [
    {
     "name": "stdout",
     "output_type": "stream",
     "text": [
      "[7.95, 7.05, 6.4, 6.05, 5.1, 5.2, 4.55, 6.6, 12.75, 17.25, 20.1, 21.7, 22.9, 23.55, 23.9, 24.0, 23.6, 22.15, 18.5, 15.3, 15.8, 15.149999999999999, 13.45, 12.8, 12.4]\n"
     ]
    }
   ],
   "source": [
    "#Air Temp CRN:\n",
    "with open('CRNS0101-05-2022-LA_Lafayette_13_SE.txt') as f:\n",
    "    lst=[line.split()[8] for line in f]\n",
    "    \n",
    "    a=(float(lst[22535])+float(lst[22536]))/2\n",
    "    b=(float(lst[22547])+float(lst[22548]))/2\n",
    "    c=(float(lst[22559])+float(lst[22560]))/2\n",
    "    d=(float(lst[22571])+float(lst[22572]))/2\n",
    "    e=(float(lst[22583])+float(lst[22584]))/2\n",
    "    f=(float(lst[22595])+float(lst[22596]))/2\n",
    "    g=(float(lst[22607])+float(lst[22608]))/2\n",
    "    h=(float(lst[22619])+float(lst[22620]))/2\n",
    "    i=(float(lst[22631])+float(lst[22632]))/2\n",
    "    j=(float(lst[22643])+float(lst[22644]))/2\n",
    "    k=(float(lst[22655])+float(lst[22656]))/2\n",
    "    l=(float(lst[22667])+float(lst[22668]))/2\n",
    "    m=(float(lst[22679])+float(lst[22680]))/2\n",
    "    n=(float(lst[22691])+float(lst[22692]))/2\n",
    "    o=(float(lst[22703])+float(lst[22704]))/2\n",
    "    p=(float(lst[22715])+float(lst[22716]))/2\n",
    "    q=(float(lst[22727])+float(lst[22728]))/2\n",
    "    r=(float(lst[22739])+float(lst[22740]))/2\n",
    "    s=(float(lst[22751])+float(lst[22752]))/2\n",
    "    t=(float(lst[22763])+float(lst[22764]))/2\n",
    "    u=(float(lst[22775])+float(lst[22776]))/2\n",
    "    v=(float(lst[22787])+float(lst[22788]))/2\n",
    "    w=(float(lst[22799])+float(lst[22800]))/2\n",
    "    x=(float(lst[22811])+float(lst[22812]))/2\n",
    "    y=(float(lst[22823])+float(lst[22824]))/2\n",
    "    \n",
    "    temp_crn=[a,b,c,d,e,f,g,h,i,j,k,l,m,n,o,p,q,r,s,t,u,v,w,x,y]\n",
    "    print(temp_crn)"
   ]
  },
  {
   "cell_type": "code",
   "execution_count": 82,
   "id": "36c6a6c7",
   "metadata": {},
   "outputs": [
    {
     "name": "stdout",
     "output_type": "stream",
     "text": [
      "[2.4432, 2.43828, 2.7250300000000003, 2.10353, 2.1636700000000006, 2.1347499999999995, 2.79976, 1.4221900000000005, 1.33, 1.5471000000000004, 1.6652999999999984, 1.6745000000000019, 2.2092000000000027, 2.3689999999999998, 2.3211000000000013, 2.4480000000000004, 2.4685999999999986, 2.8903, 4.351800000000001, 3.419999999999998, 0.7718999999999987, 0.2035000000000018, 1.224400000000001, 0.7101999999999986, 0.36939999999999884]\n"
     ]
    }
   ],
   "source": [
    "difference3_laf = []\n",
    "\n",
    "zip_object = zip(temp, temp_crn)\n",
    "for temp_i, temp_crn_i in zip_object:\n",
    "    difference3_laf.append(temp_i-temp_crn_i)\n",
    "\n",
    "print(difference3_laf)"
   ]
  },
  {
   "cell_type": "markdown",
   "id": "9f50a0c5",
   "metadata": {},
   "source": [
    "<font size=\"3\">Monroe, LA: 0600 UTC (12:00 am CST) 01 March 2022-0600 UTC (12:00 am CST) 02 March 2022</font>"
   ]
  },
  {
   "cell_type": "code",
   "execution_count": 83,
   "id": "afe54e44",
   "metadata": {},
   "outputs": [
    {
     "name": "stdout",
     "output_type": "stream",
     "text": [
      "[9.58072, 8.86328, 8.93753, 8.21603, 7.88867, 7.83475, 7.47476, 8.08469, 12.5175, 15.7346, 19.0778, 21.1245, 23.6092, 24.794, 25.4086, 25.3855, 24.8186, 23.9778, 21.1018, 17.97, 15.8219, 14.291, 13.1119, 12.2602, 11.5819]\n"
     ]
    }
   ],
   "source": [
    "#1 hr hrrr:\n",
    "with open('hrrr_f18_Monroe_LA.txt') as f:\n",
    "    lst=[line.split()[1] for line in f]\n",
    "    temp=[]\n",
    "    for i in lst:\n",
    "        new=i.replace(',',\"\")\n",
    "        temp.append(new)\n",
    "    temp.pop(0)\n",
    "    temp=[float(x) for x in temp]\n",
    "    temp=temp[1860:1885]\n",
    "    #temp=temp[2015:2063]\n",
    "    print(temp)\n",
    "    ##prfloat(len(temp))\n",
    "#full time period is [2015:2112]"
   ]
  },
  {
   "cell_type": "code",
   "execution_count": 84,
   "id": "e83f03aa",
   "metadata": {},
   "outputs": [
    {
     "name": "stdout",
     "output_type": "stream",
     "text": [
      "[5.25, 4.5, 4.15, 4.3, 4.05, 3.3499999999999996, 2.9, 3.9, 11.35, 17.7, 20.3, 22.45, 23.85, 24.8, 24.85, 24.9, 24.6, 23.95, 19.6, 14.649999999999999, 13.6, 12.0, 9.55, 8.350000000000001, 7.55]\n"
     ]
    }
   ],
   "source": [
    "#Air Temp CRN:\n",
    "with open('CRNS0101-05-2022-LA_Monroe_26_N.txt') as f:\n",
    "    lst=[line.split()[8] for line in f]\n",
    "    \n",
    "    a=(float(lst[22535])+float(lst[22536]))/2\n",
    "    b=(float(lst[22547])+float(lst[22548]))/2\n",
    "    c=(float(lst[22559])+float(lst[22560]))/2\n",
    "    d=(float(lst[22571])+float(lst[22572]))/2\n",
    "    e=(float(lst[22583])+float(lst[22584]))/2\n",
    "    f=(float(lst[22595])+float(lst[22596]))/2\n",
    "    g=(float(lst[22607])+float(lst[22608]))/2\n",
    "    h=(float(lst[22619])+float(lst[22620]))/2\n",
    "    i=(float(lst[22631])+float(lst[22632]))/2\n",
    "    j=(float(lst[22643])+float(lst[22644]))/2\n",
    "    k=(float(lst[22655])+float(lst[22656]))/2\n",
    "    l=(float(lst[22667])+float(lst[22668]))/2\n",
    "    m=(float(lst[22679])+float(lst[22680]))/2\n",
    "    n=(float(lst[22691])+float(lst[22692]))/2\n",
    "    o=(float(lst[22703])+float(lst[22704]))/2\n",
    "    p=(float(lst[22715])+float(lst[22716]))/2\n",
    "    q=(float(lst[22727])+float(lst[22728]))/2\n",
    "    r=(float(lst[22739])+float(lst[22740]))/2\n",
    "    s=(float(lst[22751])+float(lst[22752]))/2\n",
    "    t=(float(lst[22763])+float(lst[22764]))/2\n",
    "    u=(float(lst[22775])+float(lst[22776]))/2\n",
    "    v=(float(lst[22787])+float(lst[22788]))/2\n",
    "    w=(float(lst[22799])+float(lst[22800]))/2\n",
    "    x=(float(lst[22811])+float(lst[22812]))/2\n",
    "    y=(float(lst[22823])+float(lst[22824]))/2\n",
    "    \n",
    "    temp_crn=[a,b,c,d,e,f,g,h,i,j,k,l,m,n,o,p,q,r,s,t,u,v,w,x,y]\n",
    "    print(temp_crn)"
   ]
  },
  {
   "cell_type": "code",
   "execution_count": 85,
   "id": "79ffb554",
   "metadata": {},
   "outputs": [
    {
     "name": "stdout",
     "output_type": "stream",
     "text": [
      "[4.3307199999999995, 4.36328, 4.78753, 3.91603, 3.8386700000000005, 4.48475, 4.5747599999999995, 4.18469, 1.1675000000000004, -1.965399999999999, -1.2222000000000008, -1.3254999999999981, -0.24080000000000013, -0.006000000000000227, 0.5585999999999984, 0.4855000000000018, 0.21859999999999857, 0.02779999999999916, 1.5017999999999994, 3.3200000000000003, 2.2218999999999998, 2.2910000000000004, 3.5618999999999996, 3.910199999999998, 4.031899999999999]\n"
     ]
    }
   ],
   "source": [
    "difference3_mon = []\n",
    "\n",
    "zip_object = zip(temp, temp_crn)\n",
    "for temp_i, temp_crn_i in zip_object:\n",
    "    difference3_mon.append(temp_i-temp_crn_i)\n",
    "\n",
    "print(difference3_mon)"
   ]
  },
  {
   "cell_type": "markdown",
   "id": "1bf55dcc",
   "metadata": {},
   "source": [
    "<font size=\"3\">Holly Springs, MS: 0600 UTC (12:00 am CST) 01 March 2022-0600 UTC (12:00 am CST) 02 March 2022</font>"
   ]
  },
  {
   "cell_type": "code",
   "execution_count": 86,
   "id": "70182e09",
   "metadata": {},
   "outputs": [
    {
     "name": "stdout",
     "output_type": "stream",
     "text": [
      "[8.26822, 7.67578, 7.37503, 6.96603, 6.57617, 6.27225, 6.22476, 7.14719, 10.83, 13.1721, 16.1403, 18.562, 20.3592, 21.044, 21.7211, 21.698, 21.1936, 20.4778, 17.9768, 16.0325, 14.5094, 13.3535, 12.6119, 11.4477, 10.9569]\n"
     ]
    }
   ],
   "source": [
    "#1 hr hrrr:\n",
    "with open('hrrr_f18_Holly Springs_MS.txt') as f:\n",
    "    lst=[line.split()[1] for line in f]\n",
    "    temp=[]\n",
    "    for i in lst:\n",
    "        new=i.replace(',',\"\")\n",
    "        temp.append(new)\n",
    "    temp.pop(0)\n",
    "    temp=[float(x) for x in temp]\n",
    "    temp=temp[1860:1885]\n",
    "    #temp=temp[2015:2063]\n",
    "    print(temp)\n",
    "    ##prfloat(len(temp))\n",
    "#full time period is [2015:2112]"
   ]
  },
  {
   "cell_type": "code",
   "execution_count": 87,
   "id": "c2aa5abe",
   "metadata": {},
   "outputs": [
    {
     "name": "stdout",
     "output_type": "stream",
     "text": [
      "[5.4, 6.199999999999999, 4.1, 3.1500000000000004, 2.1, 1.55, 1.1, 2.65, 10.2, 14.95, 17.299999999999997, 19.75, 20.95, 21.450000000000003, 22.1, 22.7, 22.2, 21.2, 15.950000000000001, 11.649999999999999, 9.6, 7.55, 6.65, 5.5, 5.35]\n"
     ]
    }
   ],
   "source": [
    "#Air Temp CRN:\n",
    "with open('CRNS0101-05-2022-MS_Holly_Springs_4_N.txt') as f:\n",
    "    lst=[line.split()[8] for line in f]\n",
    "    \n",
    "    a=(float(lst[22535])+float(lst[22536]))/2\n",
    "    b=(float(lst[22547])+float(lst[22548]))/2\n",
    "    c=(float(lst[22559])+float(lst[22560]))/2\n",
    "    d=(float(lst[22571])+float(lst[22572]))/2\n",
    "    e=(float(lst[22583])+float(lst[22584]))/2\n",
    "    f=(float(lst[22595])+float(lst[22596]))/2\n",
    "    g=(float(lst[22607])+float(lst[22608]))/2\n",
    "    h=(float(lst[22619])+float(lst[22620]))/2\n",
    "    i=(float(lst[22631])+float(lst[22632]))/2\n",
    "    j=(float(lst[22643])+float(lst[22644]))/2\n",
    "    k=(float(lst[22655])+float(lst[22656]))/2\n",
    "    l=(float(lst[22667])+float(lst[22668]))/2\n",
    "    m=(float(lst[22679])+float(lst[22680]))/2\n",
    "    n=(float(lst[22691])+float(lst[22692]))/2\n",
    "    o=(float(lst[22703])+float(lst[22704]))/2\n",
    "    p=(float(lst[22715])+float(lst[22716]))/2\n",
    "    q=(float(lst[22727])+float(lst[22728]))/2\n",
    "    r=(float(lst[22739])+float(lst[22740]))/2\n",
    "    s=(float(lst[22751])+float(lst[22752]))/2\n",
    "    t=(float(lst[22763])+float(lst[22764]))/2\n",
    "    u=(float(lst[22775])+float(lst[22776]))/2\n",
    "    v=(float(lst[22787])+float(lst[22788]))/2\n",
    "    w=(float(lst[22799])+float(lst[22800]))/2\n",
    "    x=(float(lst[22811])+float(lst[22812]))/2\n",
    "    y=(float(lst[22823])+float(lst[22824]))/2\n",
    "    \n",
    "    temp_crn=[a,b,c,d,e,f,g,h,i,j,k,l,m,n,o,p,q,r,s,t,u,v,w,x,y]\n",
    "    print(temp_crn)"
   ]
  },
  {
   "cell_type": "code",
   "execution_count": 88,
   "id": "9d0ab2f8",
   "metadata": {},
   "outputs": [
    {
     "name": "stdout",
     "output_type": "stream",
     "text": [
      "[2.868219999999999, 1.4757800000000003, 3.27503, 3.8160299999999996, 4.47617, 4.72225, 5.12476, 4.49719, 0.6300000000000008, -1.777899999999999, -1.1596999999999973, -1.1879999999999988, -0.590799999999998, -0.40600000000000236, -0.37890000000000157, -1.001999999999999, -1.0063999999999993, -0.7222000000000008, 2.0267999999999997, 4.3825, 4.9094, 5.8035000000000005, 5.9619, 5.947699999999999, 5.6068999999999996]\n"
     ]
    }
   ],
   "source": [
    "difference3_hol = []\n",
    "\n",
    "zip_object = zip(temp, temp_crn)\n",
    "for temp_i, temp_crn_i in zip_object:\n",
    "    difference3_hol.append(temp_i-temp_crn_i)\n",
    "\n",
    "print(difference3_hol)"
   ]
  },
  {
   "cell_type": "markdown",
   "id": "2d2b0ce7",
   "metadata": {},
   "source": [
    "<font size=\"3\">Newton, MS: 0600 UTC (12:00 am CST) 01 March 2022-0600 UTC (12:00 am CST) 02 March 2022</font>"
   ]
  },
  {
   "cell_type": "code",
   "execution_count": 89,
   "id": "d10078d2",
   "metadata": {},
   "outputs": [
    {
     "name": "stdout",
     "output_type": "stream",
     "text": [
      "[8.45572, 7.73828, 7.12503, 6.65353, 5.76367, 5.45975, 5.03726, 6.89719, 12.3925, 17.2346, 20.4528, 21.9995, 23.2967, 23.419, 23.6586, 23.2605, 22.8186, 22.1653, 19.6018, 17.4075, 15.3844, 14.041, 13.0494, 11.9477, 11.0194]\n"
     ]
    }
   ],
   "source": [
    "#1 hr hrrr:\n",
    "with open('hrrr_f18_Newton_MS.txt') as f:\n",
    "    lst=[line.split()[1] for line in f]\n",
    "    temp=[]\n",
    "    for i in lst:\n",
    "        new=i.replace(',',\"\")\n",
    "        temp.append(new)\n",
    "    temp.pop(0)\n",
    "    temp=[float(x) for x in temp]\n",
    "    temp=temp[1860:1885]\n",
    "    #temp=temp[2015:2063]\n",
    "    print(temp)\n",
    "    ##prfloat(len(temp))\n",
    "#full time period is [2015:2112]"
   ]
  },
  {
   "cell_type": "code",
   "execution_count": 90,
   "id": "493b49d2",
   "metadata": {},
   "outputs": [
    {
     "name": "stdout",
     "output_type": "stream",
     "text": [
      "[3.6, 2.9, 2.7, 2.25, 1.9, 1.5499999999999998, 1.2999999999999998, 3.3, 9.2, 14.9, 18.25, 20.55, 21.45, 22.2, 22.85, 23.05, 23.1, 22.25, 18.0, 13.95, 12.75, 10.5, 8.899999999999999, 7.3, 6.6]\n"
     ]
    }
   ],
   "source": [
    "#Air Temp CRN:\n",
    "with open('CRNS0101-05-2022-MS_Newton_5_ENE.txt') as f:\n",
    "    lst=[line.split()[8] for line in f]\n",
    "    \n",
    "    a=(float(lst[22535])+float(lst[22536]))/2\n",
    "    b=(float(lst[22547])+float(lst[22548]))/2\n",
    "    c=(float(lst[22559])+float(lst[22560]))/2\n",
    "    d=(float(lst[22571])+float(lst[22572]))/2\n",
    "    e=(float(lst[22583])+float(lst[22584]))/2\n",
    "    f=(float(lst[22595])+float(lst[22596]))/2\n",
    "    g=(float(lst[22607])+float(lst[22608]))/2\n",
    "    h=(float(lst[22619])+float(lst[22620]))/2\n",
    "    i=(float(lst[22631])+float(lst[22632]))/2\n",
    "    j=(float(lst[22643])+float(lst[22644]))/2\n",
    "    k=(float(lst[22655])+float(lst[22656]))/2\n",
    "    l=(float(lst[22667])+float(lst[22668]))/2\n",
    "    m=(float(lst[22679])+float(lst[22680]))/2\n",
    "    n=(float(lst[22691])+float(lst[22692]))/2\n",
    "    o=(float(lst[22703])+float(lst[22704]))/2\n",
    "    p=(float(lst[22715])+float(lst[22716]))/2\n",
    "    q=(float(lst[22727])+float(lst[22728]))/2\n",
    "    r=(float(lst[22739])+float(lst[22740]))/2\n",
    "    s=(float(lst[22751])+float(lst[22752]))/2\n",
    "    t=(float(lst[22763])+float(lst[22764]))/2\n",
    "    u=(float(lst[22775])+float(lst[22776]))/2\n",
    "    v=(float(lst[22787])+float(lst[22788]))/2\n",
    "    w=(float(lst[22799])+float(lst[22800]))/2\n",
    "    x=(float(lst[22811])+float(lst[22812]))/2\n",
    "    y=(float(lst[22823])+float(lst[22824]))/2\n",
    "    \n",
    "    temp_crn=[a,b,c,d,e,f,g,h,i,j,k,l,m,n,o,p,q,r,s,t,u,v,w,x,y]\n",
    "    print(temp_crn)"
   ]
  },
  {
   "cell_type": "code",
   "execution_count": 91,
   "id": "9f44baa8",
   "metadata": {},
   "outputs": [
    {
     "name": "stdout",
     "output_type": "stream",
     "text": [
      "[4.85572, 4.838279999999999, 4.42503, 4.40353, 3.8636700000000004, 3.90975, 3.73726, 3.5971900000000003, 3.192500000000001, 2.3346, 2.2028, 1.4495000000000005, 1.846700000000002, 1.2190000000000012, 0.8085999999999984, 0.2104999999999997, -0.2814000000000014, -0.08470000000000155, 1.6018000000000008, 3.4574999999999996, 2.6343999999999994, 3.5410000000000004, 4.149400000000002, 4.6476999999999995, 4.4193999999999996]\n"
     ]
    }
   ],
   "source": [
    "difference3_new = []\n",
    "\n",
    "zip_object = zip(temp, temp_crn)\n",
    "for temp_i, temp_crn_i in zip_object:\n",
    "    difference3_new.append(temp_i-temp_crn_i)\n",
    "\n",
    "print(difference3_new)"
   ]
  },
  {
   "cell_type": "markdown",
   "id": "538036ab",
   "metadata": {},
   "source": [
    "<font size=\"3\">Gainesville, AL: 0600 UTC (12:00 am CST) 01 March 2022-0600 UTC (12:00 am CST) 02 March 2022</font>"
   ]
  },
  {
   "cell_type": "code",
   "execution_count": 92,
   "id": "24a63117",
   "metadata": {},
   "outputs": [
    {
     "name": "stdout",
     "output_type": "stream",
     "text": [
      "[7.89322, 7.17578, 6.68753, 6.09103, 5.70117, 5.33475, 5.34976, 6.89719, 12.205, 16.1721, 19.1403, 20.8745, 22.3592, 22.6065, 23.0336, 22.948, 22.4436, 21.6653, 18.7268, 16.47, 14.3844, 13.8535, 12.4244, 11.1352, 10.3319]\n"
     ]
    }
   ],
   "source": [
    "#1 hr hrrr:\n",
    "with open('hrrr_f18_Gainesville_AL (1).txt') as f:\n",
    "    lst=[line.split()[1] for line in f]\n",
    "    temp=[]\n",
    "    for i in lst:\n",
    "        new=i.replace(',',\"\")\n",
    "        temp.append(new)\n",
    "    temp.pop(0)\n",
    "    temp=[float(x) for x in temp]\n",
    "    temp=temp[1860:1885]\n",
    "    #temp=temp[2015:2063]\n",
    "    print(temp)\n",
    "    ##prfloat(len(temp))\n",
    "#full time period is [2015:2112]"
   ]
  },
  {
   "cell_type": "code",
   "execution_count": 93,
   "id": "99f327da",
   "metadata": {},
   "outputs": [
    {
     "name": "stdout",
     "output_type": "stream",
     "text": [
      "[5.65, 5.0, 4.65, 3.95, 4.25, 3.55, 3.25, 4.949999999999999, 9.2, 14.25, 17.700000000000003, 19.4, 20.65, 21.55, 22.200000000000003, 22.7, 22.55, 22.4, 19.5, 15.4, 13.3, 11.5, 10.25, 9.25, 8.8]\n"
     ]
    }
   ],
   "source": [
    "#Air Temp CRN:\n",
    "with open('CRNS0101-05-2022-AL_Gainesville_2_NE.txt') as f:\n",
    "    lst=[line.split()[8] for line in f]\n",
    "    \n",
    "    a=(float(lst[22535])+float(lst[22536]))/2\n",
    "    b=(float(lst[22547])+float(lst[22548]))/2\n",
    "    c=(float(lst[22559])+float(lst[22560]))/2\n",
    "    d=(float(lst[22571])+float(lst[22572]))/2\n",
    "    e=(float(lst[22583])+float(lst[22584]))/2\n",
    "    f=(float(lst[22595])+float(lst[22596]))/2\n",
    "    g=(float(lst[22607])+float(lst[22608]))/2\n",
    "    h=(float(lst[22619])+float(lst[22620]))/2\n",
    "    i=(float(lst[22631])+float(lst[22632]))/2\n",
    "    j=(float(lst[22643])+float(lst[22644]))/2\n",
    "    k=(float(lst[22655])+float(lst[22656]))/2\n",
    "    l=(float(lst[22667])+float(lst[22668]))/2\n",
    "    m=(float(lst[22679])+float(lst[22680]))/2\n",
    "    n=(float(lst[22691])+float(lst[22692]))/2\n",
    "    o=(float(lst[22703])+float(lst[22704]))/2\n",
    "    p=(float(lst[22715])+float(lst[22716]))/2\n",
    "    q=(float(lst[22727])+float(lst[22728]))/2\n",
    "    r=(float(lst[22739])+float(lst[22740]))/2\n",
    "    s=(float(lst[22751])+float(lst[22752]))/2\n",
    "    t=(float(lst[22763])+float(lst[22764]))/2\n",
    "    u=(float(lst[22775])+float(lst[22776]))/2\n",
    "    v=(float(lst[22787])+float(lst[22788]))/2\n",
    "    w=(float(lst[22799])+float(lst[22800]))/2\n",
    "    x=(float(lst[22811])+float(lst[22812]))/2\n",
    "    y=(float(lst[22823])+float(lst[22824]))/2\n",
    "    \n",
    "    temp_crn=[a,b,c,d,e,f,g,h,i,j,k,l,m,n,o,p,q,r,s,t,u,v,w,x,y]\n",
    "    print(temp_crn)"
   ]
  },
  {
   "cell_type": "code",
   "execution_count": 94,
   "id": "b6c8652b",
   "metadata": {},
   "outputs": [
    {
     "name": "stdout",
     "output_type": "stream",
     "text": [
      "[2.24322, 2.1757799999999996, 2.0375299999999994, 2.1410299999999998, 1.4511700000000003, 1.7847499999999998, 2.09976, 1.9471900000000009, 3.005000000000001, 1.9221000000000004, 1.440299999999997, 1.4745000000000026, 1.7092000000000027, 1.0564999999999998, 0.833599999999997, 0.2480000000000011, -0.10640000000000072, -0.7347000000000001, -0.7731999999999992, 1.0699999999999985, 1.0843999999999987, 2.3535000000000004, 2.1744000000000003, 1.8851999999999993, 1.5318999999999985]\n"
     ]
    }
   ],
   "source": [
    "difference3_gai = []\n",
    "\n",
    "zip_object = zip(temp, temp_crn)\n",
    "for temp_i, temp_crn_i in zip_object:\n",
    "    difference3_gai.append(temp_i-temp_crn_i)\n",
    "\n",
    "print(difference3_gai)"
   ]
  },
  {
   "cell_type": "markdown",
   "id": "bec1bd8b",
   "metadata": {},
   "source": [
    "<font size=\"3\">Fairhope, AL: 0600 UTC (12:00 am CST) 01 March 2022-0600 UTC (12:00 am CST) 02 March 2022</font>"
   ]
  },
  {
   "cell_type": "code",
   "execution_count": 95,
   "id": "1d46687a",
   "metadata": {},
   "outputs": [
    {
     "name": "stdout",
     "output_type": "stream",
     "text": [
      "[11.3932, 10.8633, 10.25, 9.59103, 8.95117, 8.45975, 7.84976, 9.08469, 11.8925, 14.4846, 17.0153, 18.8745, 20.9217, 21.7315, 22.7836, 22.7605, 22.3811, 21.6653, 19.1643, 16.22, 14.9469, 14.4785, 13.6119, 12.2602, 11.5194]\n"
     ]
    }
   ],
   "source": [
    "#1 hr hrrr:\n",
    "with open('hrrr_f18_Fairhope_AL.txt') as f:\n",
    "    lst=[line.split()[1] for line in f]\n",
    "    temp=[]\n",
    "    for i in lst:\n",
    "        new=i.replace(',',\"\")\n",
    "        temp.append(new)\n",
    "    temp.pop(0)\n",
    "    temp=[float(x) for x in temp]\n",
    "    temp=temp[1860:1885]\n",
    "    #temp=temp[2015:2063]\n",
    "    print(temp)\n",
    "    ##prfloat(len(temp))\n",
    "#full time period is [2015:2112]"
   ]
  },
  {
   "cell_type": "code",
   "execution_count": 96,
   "id": "8a4a762c",
   "metadata": {},
   "outputs": [
    {
     "name": "stdout",
     "output_type": "stream",
     "text": [
      "[8.9, 8.25, 6.35, 5.35, 4.55, 5.35, 4.45, 8.899999999999999, 12.7, 16.6, 18.950000000000003, 21.049999999999997, 22.05, 22.25, 23.05, 21.549999999999997, 20.299999999999997, 18.799999999999997, 17.5, 12.4, 11.149999999999999, 10.1, 9.149999999999999, 8.35, 8.35]\n"
     ]
    }
   ],
   "source": [
    "#Air Temp CRN:\n",
    "with open('CRNS0101-05-2022-AL_Fairhope_3_NE.txt') as f:\n",
    "    lst=[line.split()[8] for line in f]\n",
    "    \n",
    "    a=(float(lst[22535])+float(lst[22536]))/2\n",
    "    b=(float(lst[22547])+float(lst[22548]))/2\n",
    "    c=(float(lst[22559])+float(lst[22560]))/2\n",
    "    d=(float(lst[22571])+float(lst[22572]))/2\n",
    "    e=(float(lst[22583])+float(lst[22584]))/2\n",
    "    f=(float(lst[22595])+float(lst[22596]))/2\n",
    "    g=(float(lst[22607])+float(lst[22608]))/2\n",
    "    h=(float(lst[22619])+float(lst[22620]))/2\n",
    "    i=(float(lst[22631])+float(lst[22632]))/2\n",
    "    j=(float(lst[22643])+float(lst[22644]))/2\n",
    "    k=(float(lst[22655])+float(lst[22656]))/2\n",
    "    l=(float(lst[22667])+float(lst[22668]))/2\n",
    "    m=(float(lst[22679])+float(lst[22680]))/2\n",
    "    n=(float(lst[22691])+float(lst[22692]))/2\n",
    "    o=(float(lst[22703])+float(lst[22704]))/2\n",
    "    p=(float(lst[22715])+float(lst[22716]))/2\n",
    "    q=(float(lst[22727])+float(lst[22728]))/2\n",
    "    r=(float(lst[22739])+float(lst[22740]))/2\n",
    "    s=(float(lst[22751])+float(lst[22752]))/2\n",
    "    t=(float(lst[22763])+float(lst[22764]))/2\n",
    "    u=(float(lst[22775])+float(lst[22776]))/2\n",
    "    v=(float(lst[22787])+float(lst[22788]))/2\n",
    "    w=(float(lst[22799])+float(lst[22800]))/2\n",
    "    x=(float(lst[22811])+float(lst[22812]))/2\n",
    "    y=(float(lst[22823])+float(lst[22824]))/2\n",
    "    \n",
    "    temp_crn=[a,b,c,d,e,f,g,h,i,j,k,l,m,n,o,p,q,r,s,t,u,v,w,x,y]\n",
    "    print(temp_crn)"
   ]
  },
  {
   "cell_type": "code",
   "execution_count": 97,
   "id": "e5202245",
   "metadata": {},
   "outputs": [
    {
     "name": "stdout",
     "output_type": "stream",
     "text": [
      "[2.4932, 2.6133000000000006, 3.9000000000000004, 4.24103, 4.40117, 3.10975, 3.3997599999999997, 0.18469000000000158, -0.8074999999999992, -2.115400000000001, -1.934700000000003, -2.175499999999996, -1.1282999999999994, -0.5184999999999995, -0.26640000000000086, 1.2105000000000032, 2.081100000000003, 2.8653000000000013, 1.6643000000000008, 3.8199999999999985, 3.796900000000001, 4.378500000000001, 4.461900000000002, 3.9101999999999997, 3.1693999999999996]\n"
     ]
    }
   ],
   "source": [
    "difference3_fai = []\n",
    "\n",
    "zip_object = zip(temp, temp_crn)\n",
    "for temp_i, temp_crn_i in zip_object:\n",
    "    difference3_fai.append(temp_i-temp_crn_i)\n",
    "\n",
    "print(difference3_fai)"
   ]
  },
  {
   "cell_type": "markdown",
   "id": "5450f80c",
   "metadata": {},
   "source": [
    "<font size=\"3\">**Selma, AL: 0600 UTC (12:00 am CST) 01 March 2022-0600 UTC (12:00 am CST) 02 March 2022</font>"
   ]
  },
  {
   "cell_type": "code",
   "execution_count": 98,
   "id": "168fefba",
   "metadata": {},
   "outputs": [
    {
     "name": "stdout",
     "output_type": "stream",
     "text": [
      "[8.39322, 7.73828, 7.75003, 7.34103, 6.95117, 6.52225, 6.22476, 8.02219, 10.8925, 13.7971, 16.5153, 18.687, 19.9842, 20.544, 20.7836, 20.573, 19.8186, 18.4153, 16.2893, 14.4075, 13.1344, 12.166, 11.4244, 11.3227, 10.7069]\n"
     ]
    }
   ],
   "source": [
    "#1 hr hrrr:\n",
    "import numpy as np\n",
    "import numpy.ma as ma\n",
    "with open('hrrr_f18_Selma_AL.txt') as f:\n",
    "    lst=[line.split()[1] for line in f]\n",
    "    temp=[]\n",
    "    for i in lst:\n",
    "        new=i.replace(',',\"\")\n",
    "        temp.append(new)\n",
    "    temp.pop(0)\n",
    "    temp=[float(x) for x in temp]\n",
    "    temp=temp[1860:1885]\n",
    "    print(temp)"
   ]
  },
  {
   "cell_type": "code",
   "execution_count": 99,
   "id": "f289b0c4",
   "metadata": {},
   "outputs": [
    {
     "name": "stdout",
     "output_type": "stream",
     "text": [
      "[5.1, 3.6500000000000004, 3.25, 2.65, 2.35, 2.05, 1.8, 5.550000000000001, 10.3, 13.649999999999999, 16.4, 18.35, 20.0, 21.3, 22.2, 22.5, 22.4, 21.3, 16.049999999999997, 12.8, 10.8, 9.5, 8.95, 7.9, 7.199999999999999]\n"
     ]
    }
   ],
   "source": [
    "#Air Temp CRN:\n",
    "with open('CRNS0101-05-2022-AL_Selma_13_WNW.txt') as f:\n",
    "    lst=[line.split()[8] for line in f]\n",
    "    \n",
    "    a=(float(lst[22535])+float(lst[22536]))/2\n",
    "    b=(float(lst[22547])+float(lst[22548]))/2\n",
    "    c=(float(lst[22559])+float(lst[22560]))/2\n",
    "    d=(float(lst[22571])+float(lst[22572]))/2\n",
    "    e=(float(lst[22583])+float(lst[22584]))/2\n",
    "    f=(float(lst[22595])+float(lst[22596]))/2\n",
    "    g=(float(lst[22607])+float(lst[22608]))/2\n",
    "    h=(float(lst[22619])+float(lst[22620]))/2\n",
    "    i=(float(lst[22631])+float(lst[22632]))/2\n",
    "    j=(float(lst[22643])+float(lst[22644]))/2\n",
    "    k=(float(lst[22655])+float(lst[22656]))/2\n",
    "    l=(float(lst[22667])+float(lst[22668]))/2\n",
    "    m=(float(lst[22679])+float(lst[22680]))/2\n",
    "    n=(float(lst[22691])+float(lst[22692]))/2\n",
    "    o=(float(lst[22703])+float(lst[22704]))/2\n",
    "    p=(float(lst[22715])+float(lst[22716]))/2\n",
    "    q=(float(lst[22727])+float(lst[22728]))/2\n",
    "    r=(float(lst[22739])+float(lst[22740]))/2\n",
    "    s=(float(lst[22751])+float(lst[22752]))/2\n",
    "    t=(float(lst[22763])+float(lst[22764]))/2\n",
    "    u=(float(lst[22775])+float(lst[22776]))/2\n",
    "    v=(float(lst[22787])+float(lst[22788]))/2\n",
    "    w=(float(lst[22799])+float(lst[22800]))/2\n",
    "    x=(float(lst[22811])+float(lst[22812]))/2\n",
    "    y=(float(lst[22823])+float(lst[22824]))/2\n",
    "    \n",
    "    temp_crn=[a,b,c,d,e,f,g,h,i,j,k,l,m,n,o,p,q,r,s,t,u,v,w,x,y]\n",
    "    print(temp_crn)"
   ]
  },
  {
   "cell_type": "code",
   "execution_count": 100,
   "id": "3e2532e4",
   "metadata": {},
   "outputs": [
    {
     "name": "stdout",
     "output_type": "stream",
     "text": [
      "[3.29322, 4.088279999999999, 4.50003, 4.69103, 4.60117, 4.47225, 4.42476, 2.4721899999999994, 0.5924999999999994, 0.14710000000000178, 0.11530000000000129, 0.33699999999999974, -0.015799999999998704, -0.7560000000000002, -1.4163999999999994, -1.9269999999999996, -2.5813999999999986, -2.8847000000000023, 0.23930000000000362, 1.6075, 2.3343999999999987, 2.6660000000000004, 2.474400000000001, 3.422699999999999, 3.5069]\n"
     ]
    }
   ],
   "source": [
    "difference3_sel = []\n",
    "\n",
    "zip_object = zip(temp, temp_crn)\n",
    "for temp_i, temp_crn_i in zip_object:\n",
    "    difference3_sel.append(temp_i-temp_crn_i)\n",
    "\n",
    "print(difference3_sel)\n",
    "#prfloat(len(difference3_sel))"
   ]
  },
  {
   "cell_type": "markdown",
   "id": "d837cb2c",
   "metadata": {},
   "source": [
    "<font size=\"3\">Bowling Green, KY: 0600 UTC (12:00 am CST) 01 March 2022-0600 UTC (12:00 am CST) 02 March 2022</font>"
   ]
  },
  {
   "cell_type": "code",
   "execution_count": 101,
   "id": "4d2fd05e",
   "metadata": {},
   "outputs": [
    {
     "name": "stdout",
     "output_type": "stream",
     "text": [
      "[2.83072, 2.30078, 2.31253, 1.71603, 1.32617, 0.959747, 0.662262, 3.14719, 7.39249, 10.4221, 12.8278, 15.1245, 16.4217, 17.3565, 18.0961, 18.198, 17.7561, 17.2278, 14.1643, 12.345, 11.0719, 9.66599, 8.67441, 8.63516, 8.33188]\n"
     ]
    }
   ],
   "source": [
    "#1 hr hrrr:\n",
    "with open('hrrr_f18_Bowling Green_KY.txt') as f:\n",
    "    lst=[line.split()[1] for line in f]\n",
    "    temp=[]\n",
    "    for i in lst:\n",
    "        new=i.replace(',',\"\")\n",
    "        temp.append(new)\n",
    "    temp.pop(0)\n",
    "    temp=[float(x) for x in temp]\n",
    "    temp=temp[1860:1885]\n",
    "    #temp=temp[2015:2063]\n",
    "    print(temp)\n",
    "    ##prfloat(len(temp))\n",
    "#full time period is [2015:2112]"
   ]
  },
  {
   "cell_type": "code",
   "execution_count": 102,
   "id": "8f455593",
   "metadata": {},
   "outputs": [
    {
     "name": "stdout",
     "output_type": "stream",
     "text": [
      "[4.05, 3.8499999999999996, 4.0, 3.8, 3.45, 3.1, 2.8, 4.35, 6.699999999999999, 10.75, 14.05, 15.3, 16.700000000000003, 17.700000000000003, 18.25, 18.6, 18.35, 17.35, 15.850000000000001, 13.25, 12.55, 12.5, 11.850000000000001, 11.15, 10.2]\n"
     ]
    }
   ],
   "source": [
    "#Air Temp CRN:\n",
    "with open('CRNS0101-05-2022-KY_Bowling_Green_21_NNE.txt') as f:\n",
    "    lst=[line.split()[8] for line in f]\n",
    "    \n",
    "    a=(float(lst[22535])+float(lst[22536]))/2\n",
    "    b=(float(lst[22547])+float(lst[22548]))/2\n",
    "    c=(float(lst[22559])+float(lst[22560]))/2\n",
    "    d=(float(lst[22571])+float(lst[22572]))/2\n",
    "    e=(float(lst[22583])+float(lst[22584]))/2\n",
    "    f=(float(lst[22595])+float(lst[22596]))/2\n",
    "    g=(float(lst[22607])+float(lst[22608]))/2\n",
    "    h=(float(lst[22619])+float(lst[22620]))/2\n",
    "    i=(float(lst[22631])+float(lst[22632]))/2\n",
    "    j=(float(lst[22643])+float(lst[22644]))/2\n",
    "    k=(float(lst[22655])+float(lst[22656]))/2\n",
    "    l=(float(lst[22667])+float(lst[22668]))/2\n",
    "    m=(float(lst[22679])+float(lst[22680]))/2\n",
    "    n=(float(lst[22691])+float(lst[22692]))/2\n",
    "    o=(float(lst[22703])+float(lst[22704]))/2\n",
    "    p=(float(lst[22715])+float(lst[22716]))/2\n",
    "    q=(float(lst[22727])+float(lst[22728]))/2\n",
    "    r=(float(lst[22739])+float(lst[22740]))/2\n",
    "    s=(float(lst[22751])+float(lst[22752]))/2\n",
    "    t=(float(lst[22763])+float(lst[22764]))/2\n",
    "    u=(float(lst[22775])+float(lst[22776]))/2\n",
    "    v=(float(lst[22787])+float(lst[22788]))/2\n",
    "    w=(float(lst[22799])+float(lst[22800]))/2\n",
    "    x=(float(lst[22811])+float(lst[22812]))/2\n",
    "    y=(float(lst[22823])+float(lst[22824]))/2\n",
    "    \n",
    "    temp_crn=[a,b,c,d,e,f,g,h,i,j,k,l,m,n,o,p,q,r,s,t,u,v,w,x,y]\n",
    "    print(temp_crn)"
   ]
  },
  {
   "cell_type": "code",
   "execution_count": 103,
   "id": "c1e44909",
   "metadata": {},
   "outputs": [
    {
     "name": "stdout",
     "output_type": "stream",
     "text": [
      "[-1.21928, -1.5492199999999996, -1.6874699999999998, -2.08397, -2.12383, -2.140253, -2.1377379999999997, -1.2028099999999995, 0.6924900000000003, -0.32789999999999964, -1.2222000000000008, -0.17550000000000132, -0.27830000000000155, -0.34350000000000236, -0.15390000000000015, -0.402000000000001, -0.5939000000000014, -0.12220000000000297, -1.6857000000000006, -0.9049999999999994, -1.4781000000000013, -2.8340099999999993, -3.1755900000000015, -2.5148399999999995, -1.8681199999999993]\n"
     ]
    }
   ],
   "source": [
    "difference3_bow = []\n",
    "\n",
    "zip_object = zip(temp, temp_crn)\n",
    "for temp_i, temp_crn_i in zip_object:\n",
    "    difference3_bow.append(temp_i-temp_crn_i)\n",
    "\n",
    "print(difference3_bow)"
   ]
  },
  {
   "cell_type": "markdown",
   "id": "21c9a287",
   "metadata": {},
   "source": [
    "<font size=\"3\">Gadsden, AL: 0600 UTC (12:00 am CST) 01 March 2022-0600 UTC (12:00 am CST) 02 March 2022</font>"
   ]
  },
  {
   "cell_type": "code",
   "execution_count": 104,
   "id": "77a1ef95",
   "metadata": {},
   "outputs": [
    {
     "name": "stdout",
     "output_type": "stream",
     "text": [
      "[6.01822, 5.61328, 4.81253, 4.34103, 4.07617, 3.95975, 3.59976, 5.45969, 9.64249, 12.2971, 14.2028, 15.3745, 16.4217, 17.3565, 17.7836, 17.948, 17.5061, 16.5403, 13.8518, 12.47, 11.5719, 10.4785, 9.79941, 9.57266, 9.39438]\n"
     ]
    }
   ],
   "source": [
    "#1 hr hrrr:\n",
    "with open('hrrr_f18_Gadsden_AL.txt') as f:\n",
    "    lst=[line.split()[1] for line in f]\n",
    "    temp=[]\n",
    "    for i in lst:\n",
    "        new=i.replace(',',\"\")\n",
    "        temp.append(new)\n",
    "    temp.pop(0)\n",
    "    temp=[float(x) for x in temp]\n",
    "    temp=temp[1860:1885]\n",
    "#     x = np.array(temp)\n",
    "#     temp = ma.masked_array(x, mask=[0, 0, 0, 0, 0,0,0,0,1,0,0,0,0,0,0,0,0,0,0,0,0,0,0,0,0])\n",
    "    #temp=temp[2015:2063]\n",
    "    print(temp)\n",
    "    ##prfloat(len(temp))\n",
    "#full time period is [2015:2112]"
   ]
  },
  {
   "cell_type": "code",
   "execution_count": 105,
   "id": "90d48370",
   "metadata": {},
   "outputs": [
    {
     "name": "stdout",
     "output_type": "stream",
     "text": [
      "[2.5, 1.25, 1.0, 0.85, 1.15, 0.75, 0.0, 4.550000000000001, 9.2, 11.75, 13.65, 15.350000000000001, 16.65, 17.200000000000003, 17.95, 18.05, 17.95, 17.15, 13.7, 11.2, 8.95, 7.15, 6.45, 5.300000000000001, 4.75]\n"
     ]
    }
   ],
   "source": [
    "#Air Temp CRN:\n",
    "with open('CRNS0101-05-2022-AL_Gadsden_19_N.txt') as f:\n",
    "    lst=[line.split()[8] for line in f]\n",
    "    \n",
    "    a=(float(lst[22535])+float(lst[22536]))/2\n",
    "    b=(float(lst[22547])+float(lst[22548]))/2\n",
    "    c=(float(lst[22559])+float(lst[22560]))/2\n",
    "    d=(float(lst[22571])+float(lst[22572]))/2\n",
    "    e=(float(lst[22583])+float(lst[22584]))/2\n",
    "    f=(float(lst[22595])+float(lst[22596]))/2\n",
    "    g=(float(lst[22607])+float(lst[22608]))/2\n",
    "    h=(float(lst[22619])+float(lst[22620]))/2\n",
    "    i=(float(lst[22631])+float(lst[22632]))/2\n",
    "    j=(float(lst[22643])+float(lst[22644]))/2\n",
    "    k=(float(lst[22655])+float(lst[22656]))/2\n",
    "    l=(float(lst[22667])+float(lst[22668]))/2\n",
    "    m=(float(lst[22679])+float(lst[22680]))/2\n",
    "    n=(float(lst[22691])+float(lst[22692]))/2\n",
    "    o=(float(lst[22703])+float(lst[22704]))/2\n",
    "    p=(float(lst[22715])+float(lst[22716]))/2\n",
    "    q=(float(lst[22727])+float(lst[22728]))/2\n",
    "    r=(float(lst[22739])+float(lst[22740]))/2\n",
    "    s=(float(lst[22751])+float(lst[22752]))/2\n",
    "    t=(float(lst[22763])+float(lst[22764]))/2\n",
    "    u=(float(lst[22775])+float(lst[22776]))/2\n",
    "    v=(float(lst[22787])+float(lst[22788]))/2\n",
    "    w=(float(lst[22799])+float(lst[22800]))/2\n",
    "    x=(float(lst[22811])+float(lst[22812]))/2\n",
    "    y=(float(lst[22823])+float(lst[22824]))/2\n",
    "    \n",
    "    temp_crn=[a,b,c,d,e,f,g,h,i,j,k,l,m,n,o,p,q,r,s,t,u,v,w,x,y]\n",
    "    print(temp_crn)"
   ]
  },
  {
   "cell_type": "code",
   "execution_count": 106,
   "id": "cf4acb88",
   "metadata": {},
   "outputs": [
    {
     "name": "stdout",
     "output_type": "stream",
     "text": [
      "[3.5182200000000003, 4.36328, 3.8125299999999998, 3.49103, 2.9261700000000004, 3.20975, 3.59976, 0.9096899999999994, 0.44249000000000116, 0.5471000000000004, 0.5527999999999995, 0.024499999999997968, -0.22829999999999728, 0.15649999999999764, -0.16639999999999944, -0.10200000000000031, -0.4438999999999993, -0.6097000000000001, 0.1518000000000015, 1.2700000000000014, 2.6219, 3.3285, 3.3494099999999998, 4.27266, 4.64438]\n"
     ]
    }
   ],
   "source": [
    "difference3_gad = []\n",
    "\n",
    "zip_object = zip(temp, temp_crn)\n",
    "for temp_i, temp_crn_i in zip_object:\n",
    "    difference3_gad.append(temp_i-temp_crn_i)\n",
    "\n",
    "print(difference3_gad)"
   ]
  },
  {
   "cell_type": "markdown",
   "id": "93b56dfb",
   "metadata": {},
   "source": [
    "<font size=\"3\">Newton, GA: 0600 UTC (12:00 am CST) 01 March 2022-0600 UTC (12:00 am CST) 02 March 2022</font>"
   ]
  },
  {
   "cell_type": "code",
   "execution_count": 107,
   "id": "53a55c7c",
   "metadata": {},
   "outputs": [
    {
     "name": "stdout",
     "output_type": "stream",
     "text": [
      "[11.9557, 11.3008, 10.1875, 9.90353, 9.26367, 8.83475, 8.16226, 10.2097, 12.455, 13.9846, 16.2653, 17.687, 19.4217, 20.2315, 20.2836, 20.2605, 19.6311, 18.4153, 16.2268, 14.47, 12.9469, 11.791, 10.9869, 10.2602, 9.45688]\n"
     ]
    }
   ],
   "source": [
    "#1 hr hrrr:\n",
    "with open('hrrr_f18_Newton_GA.txt') as f:\n",
    "    lst=[line.split()[1] for line in f]\n",
    "    temp=[]\n",
    "    for i in lst:\n",
    "        new=i.replace(',',\"\")\n",
    "        temp.append(new)\n",
    "    temp.pop(0)\n",
    "    temp=[float(x) for x in temp]\n",
    "    temp=temp[1860:1885]\n",
    "    #temp=temp[2015:2063]\n",
    "    print(temp)\n",
    "    ##prfloat(len(temp))\n",
    "#full time period is [2015:2112]"
   ]
  },
  {
   "cell_type": "code",
   "execution_count": 108,
   "id": "e0002988",
   "metadata": {},
   "outputs": [
    {
     "name": "stdout",
     "output_type": "stream",
     "text": [
      "[13.75, 13.2, 12.25, 10.9, 8.850000000000001, 9.05, 7.8999999999999995, 10.25, 13.0, 15.75, 17.799999999999997, 19.45, 20.85, 21.6, 21.9, 22.1, 22.25, 21.55, 17.0, 14.149999999999999, 12.3, 10.45, 9.350000000000001, 7.699999999999999, 7.7]\n"
     ]
    }
   ],
   "source": [
    "#Air Temp CRN:\n",
    "with open('CRNS0101-05-2022-GA_Newton_11_SW.txt') as f:\n",
    "    lst=[line.split()[8] for line in f]\n",
    "    \n",
    "    a=(float(lst[22535])+float(lst[22536]))/2\n",
    "    b=(float(lst[22547])+float(lst[22548]))/2\n",
    "    c=(float(lst[22559])+float(lst[22560]))/2\n",
    "    d=(float(lst[22571])+float(lst[22572]))/2\n",
    "    e=(float(lst[22583])+float(lst[22584]))/2\n",
    "    f=(float(lst[22595])+float(lst[22596]))/2\n",
    "    g=(float(lst[22607])+float(lst[22608]))/2\n",
    "    h=(float(lst[22619])+float(lst[22620]))/2\n",
    "    i=(float(lst[22631])+float(lst[22632]))/2\n",
    "    j=(float(lst[22643])+float(lst[22644]))/2\n",
    "    k=(float(lst[22655])+float(lst[22656]))/2\n",
    "    l=(float(lst[22667])+float(lst[22668]))/2\n",
    "    m=(float(lst[22679])+float(lst[22680]))/2\n",
    "    n=(float(lst[22691])+float(lst[22692]))/2\n",
    "    o=(float(lst[22703])+float(lst[22704]))/2\n",
    "    p=(float(lst[22715])+float(lst[22716]))/2\n",
    "    q=(float(lst[22727])+float(lst[22728]))/2\n",
    "    r=(float(lst[22739])+float(lst[22740]))/2\n",
    "    s=(float(lst[22751])+float(lst[22752]))/2\n",
    "    t=(float(lst[22763])+float(lst[22764]))/2\n",
    "    u=(float(lst[22775])+float(lst[22776]))/2\n",
    "    v=(float(lst[22787])+float(lst[22788]))/2\n",
    "    w=(float(lst[22799])+float(lst[22800]))/2\n",
    "    x=(float(lst[22811])+float(lst[22812]))/2\n",
    "    y=(float(lst[22823])+float(lst[22824]))/2\n",
    "    \n",
    "    temp_crn=[a,b,c,d,e,f,g,h,i,j,k,l,m,n,o,p,q,r,s,t,u,v,w,x,y]\n",
    "    print(temp_crn)"
   ]
  },
  {
   "cell_type": "code",
   "execution_count": 109,
   "id": "b71c6000",
   "metadata": {},
   "outputs": [
    {
     "name": "stdout",
     "output_type": "stream",
     "text": [
      "[-1.7942999999999998, -1.8991999999999987, -2.0625, -0.9964700000000004, 0.413669999999998, -0.21525000000000105, 0.2622600000000004, -0.040300000000000225, -0.5449999999999999, -1.7653999999999996, -1.5346999999999973, -1.7629999999999981, -1.4283000000000001, -1.368500000000001, -1.6163999999999987, -1.839500000000001, -2.6189, -3.1347000000000023, -0.7731999999999992, 0.32000000000000206, 0.6468999999999987, 1.341000000000001, 1.636899999999999, 2.5602, 1.7568799999999998]\n"
     ]
    }
   ],
   "source": [
    "difference3_newt = []\n",
    "\n",
    "zip_object = zip(temp, temp_crn)\n",
    "for temp_i, temp_crn_i in zip_object:\n",
    "    difference3_newt.append(temp_i-temp_crn_i)\n",
    "\n",
    "print(difference3_newt)"
   ]
  },
  {
   "cell_type": "markdown",
   "id": "e079df5d",
   "metadata": {},
   "source": [
    "<font size=\"3\">Salem, MO: 0500 UTC (12:00 am CDT) 03 April 2022-0500 UTC (12:00 am CDT) 04 April 2022</font>"
   ]
  },
  {
   "cell_type": "code",
   "execution_count": 110,
   "id": "2bda3233",
   "metadata": {},
   "outputs": [
    {
     "name": "stdout",
     "output_type": "stream",
     "text": [
      "[4.95435, 4.68204, 4.20578, 2.75894, 2.43747, 2.2562, 2.28012, 4.2764, 8.24515, 9.9816, 12.2873, 13.9133, 15.6179, 16.6087, 17.7177, 18.1941, 18.1299, 17.0601, 15.4084, 13.1461, 12.0627, 11.6, 11.2948, 11.3419, 10.8337]\n"
     ]
    }
   ],
   "source": [
    "#1 hr hrrr:\n",
    "with open('hrrr_f18_Salem_MO.txt') as f:\n",
    "    lst=[line.split()[1] for line in f]\n",
    "    temp=[]\n",
    "    for i in lst:\n",
    "        new=i.replace(',',\"\")\n",
    "        temp.append(new)\n",
    "    temp.pop(0)\n",
    "    temp=[float(x) for x in temp]\n",
    "    temp=temp[2196:2221]\n",
    "    #temp=temp[2015:2063]\n",
    "    print(temp)\n",
    "    #prfloat(len(temp))\n",
    "#full time period is [2015:2112]"
   ]
  },
  {
   "cell_type": "code",
   "execution_count": 111,
   "id": "3a8d2e0d",
   "metadata": {},
   "outputs": [
    {
     "name": "stdout",
     "output_type": "stream",
     "text": [
      "[-0.19999999999999998, -0.65, -1.7000000000000002, -2.1500000000000004, -2.05, -1.95, -1.9500000000000002, 1.7, 10.3, 13.350000000000001, 15.649999999999999, 16.95, 18.05, 19.1, 19.75, 20.85, 20.4, 18.9, 17.9, 16.700000000000003, 15.649999999999999, 15.0, 14.149999999999999, 13.45, 10.149999999999999]\n"
     ]
    }
   ],
   "source": [
    "#Air Temp CRN:\n",
    "with open('CRNS0101-05-2022-MO_Salem_10_W.txt') as f:\n",
    "    lst=[line.split()[8] for line in f]\n",
    "    \n",
    "    a=(float(lst[26567])+float(lst[26568]))/2\n",
    "    b=(float(lst[26579])+float(lst[26580]))/2\n",
    "    c=(float(lst[26591])+float(lst[26592]))/2\n",
    "    d=(float(lst[26603])+float(lst[26604]))/2\n",
    "    e=(float(lst[26615])+float(lst[26616]))/2\n",
    "    f=(float(lst[26627])+float(lst[26628]))/2\n",
    "    g=(float(lst[26639])+float(lst[26640]))/2\n",
    "    h=(float(lst[26651])+float(lst[26652]))/2\n",
    "    i=(float(lst[26663])+float(lst[26664]))/2\n",
    "    j=(float(lst[26675])+float(lst[26676]))/2\n",
    "    k=(float(lst[26687])+float(lst[26688]))/2\n",
    "    l=(float(lst[26699])+float(lst[26700]))/2\n",
    "    m=(float(lst[26711])+float(lst[26712]))/2\n",
    "    n=(float(lst[26723])+float(lst[26724]))/2\n",
    "    o=(float(lst[26735])+float(lst[26736]))/2\n",
    "    p=(float(lst[26747])+float(lst[26748]))/2\n",
    "    q=(float(lst[26759])+float(lst[26760]))/2\n",
    "    r=(float(lst[26773])+float(lst[26774]))/2\n",
    "    s=(float(lst[26783])+float(lst[26784]))/2\n",
    "    t=(float(lst[26795])+float(lst[26796]))/2\n",
    "    u=(float(lst[26807])+float(lst[26808]))/2\n",
    "    v=(float(lst[26819])+float(lst[26820]))/2\n",
    "    w=(float(lst[26831])+float(lst[26832]))/2\n",
    "    x=(float(lst[26843])+float(lst[26844]))/2\n",
    "    y=(float(lst[26855])+float(lst[26856]))/2\n",
    "    \n",
    "    temp_crn=[a,b,c,d,e,f,g,h,i,j,k,l,m,n,o,p,q,r,s,t,u,v,w,x,y]\n",
    "    print(temp_crn)"
   ]
  },
  {
   "cell_type": "code",
   "execution_count": 112,
   "id": "2f3aad80",
   "metadata": {},
   "outputs": [
    {
     "name": "stdout",
     "output_type": "stream",
     "text": [
      "[5.15435, 5.33204, 5.90578, 4.90894, 4.48747, 4.2062, 4.23012, 2.5763999999999996, -2.05485, -3.368400000000001, -3.3626999999999985, -3.0366999999999997, -2.4321, -2.4913000000000025, -2.0322999999999993, -2.6559000000000026, -2.2700999999999993, -1.8399, -2.4915999999999983, -3.5539000000000023, -3.587299999999999, -3.4000000000000004, -2.855199999999998, -2.1080999999999985, 0.6837000000000018]\n"
     ]
    }
   ],
   "source": [
    "difference4_sal = []\n",
    "\n",
    "zip_object = zip(temp, temp_crn)\n",
    "for temp_i, temp_crn_i in zip_object:\n",
    "    difference4_sal.append(temp_i-temp_crn_i)\n",
    "\n",
    "print(difference4_sal)"
   ]
  },
  {
   "cell_type": "markdown",
   "id": "f30e9b3b",
   "metadata": {},
   "source": [
    "<font size=\"3\">Batesville, AR: 0600 UTC (12:00 am CST) 01 March 2022-0600 UTC (12:00 am CST) 02 March 2022</font>"
   ]
  },
  {
   "cell_type": "code",
   "execution_count": 113,
   "id": "ea25905e",
   "metadata": {},
   "outputs": [
    {
     "name": "stdout",
     "output_type": "stream",
     "text": [
      "[9.01685, 8.55704, 7.83078, 7.13394, 6.31247, 5.8187, 5.34262, 6.5264, 9.62015, 11.3566, 13.2873, 15.0383, 16.5554, 18.0462, 19.7802, 20.3816, 20.5674, 19.9351, 17.3459, 14.2711, 12.9377, 12.2875, 13.1698, 11.0919, 10.5837]\n"
     ]
    }
   ],
   "source": [
    "#1 hr hrrr:\n",
    "with open('hrrr_f18_Batesville_AR.txt') as f:\n",
    "    lst=[line.split()[1] for line in f]\n",
    "    temp=[]\n",
    "    for i in lst:\n",
    "        new=i.replace(',',\"\")\n",
    "        temp.append(new)\n",
    "    temp.pop(0)\n",
    "    temp=[float(x) for x in temp]\n",
    "    temp=temp[2196:2221]\n",
    "#     x = np.array(temp)\n",
    "#     temp = ma.masked_array(x, mask=[0, 0, 0, 0, 0,0,0,0,0,0,0,0,0,0,0,0,0,0,0,0,0,1,0,0,0])\n",
    "    #temp=temp[2015:2063]\n",
    "    print(temp)\n",
    "    #prfloat(len(temp))\n",
    "#full time period is [2015:2112]"
   ]
  },
  {
   "cell_type": "code",
   "execution_count": 114,
   "id": "6ac93b59",
   "metadata": {},
   "outputs": [
    {
     "name": "stdout",
     "output_type": "stream",
     "text": [
      "[4.65, 4.9, 3.8, 2.45, 2.0, 1.35, 0.8500000000000001, 4.4, 10.0, 12.55, 14.5, 15.75, 16.799999999999997, 17.700000000000003, 18.75, 19.1, 18.6, 17.4, 16.35, 14.1, 13.1, 13.0, 11.850000000000001, 12.350000000000001, 11.100000000000001]\n"
     ]
    }
   ],
   "source": [
    "#Air Temp CRN:\n",
    "with open('CRNS0101-05-2022-AR_Batesville_8_WNW.txt') as f:\n",
    "    lst=[line.split()[8] for line in f]\n",
    "    \n",
    "    a=(float(lst[26567])+float(lst[26568]))/2\n",
    "    b=(float(lst[26579])+float(lst[26580]))/2\n",
    "    c=(float(lst[26591])+float(lst[26592]))/2\n",
    "    d=(float(lst[26603])+float(lst[26604]))/2\n",
    "    e=(float(lst[26615])+float(lst[26616]))/2\n",
    "    f=(float(lst[26627])+float(lst[26628]))/2\n",
    "    g=(float(lst[26639])+float(lst[26640]))/2\n",
    "    h=(float(lst[26651])+float(lst[26652]))/2\n",
    "    i=(float(lst[26663])+float(lst[26664]))/2\n",
    "    j=(float(lst[26675])+float(lst[26676]))/2\n",
    "    k=(float(lst[26687])+float(lst[26688]))/2\n",
    "    l=(float(lst[26699])+float(lst[26700]))/2\n",
    "    m=(float(lst[26711])+float(lst[26712]))/2\n",
    "    n=(float(lst[26723])+float(lst[26724]))/2\n",
    "    o=(float(lst[26735])+float(lst[26736]))/2\n",
    "    p=(float(lst[26747])+float(lst[26748]))/2\n",
    "    q=(float(lst[26759])+float(lst[26760]))/2\n",
    "    r=(float(lst[26773])+float(lst[26774]))/2\n",
    "    s=(float(lst[26783])+float(lst[26784]))/2\n",
    "    t=(float(lst[26795])+float(lst[26796]))/2\n",
    "    u=(float(lst[26807])+float(lst[26808]))/2\n",
    "    v=(float(lst[26819])+float(lst[26820]))/2\n",
    "    w=(float(lst[26831])+float(lst[26832]))/2\n",
    "    x=(float(lst[26843])+float(lst[26844]))/2\n",
    "    y=(float(lst[26855])+float(lst[26856]))/2\n",
    "    \n",
    "    temp_crn=[a,b,c,d,e,f,g,h,i,j,k,l,m,n,o,p,q,r,s,t,u,v,w,x,y]\n",
    "    print(temp_crn)"
   ]
  },
  {
   "cell_type": "code",
   "execution_count": 115,
   "id": "32d53f73",
   "metadata": {},
   "outputs": [
    {
     "name": "stdout",
     "output_type": "stream",
     "text": [
      "[4.3668499999999995, 3.6570400000000003, 4.03078, 4.68394, 4.31247, 4.4687, 4.4926200000000005, 2.1263999999999994, -0.37984999999999935, -1.1934000000000005, -1.2127, -0.7117000000000004, -0.24459999999999837, 0.34619999999999607, 1.0302000000000007, 1.2815999999999974, 1.9673999999999978, 2.5351, 0.9958999999999989, 0.17110000000000092, -0.1623000000000001, -0.7125000000000004, 1.319799999999999, -1.2581000000000007, -0.5163000000000011]\n"
     ]
    }
   ],
   "source": [
    "difference4_bat = []\n",
    "\n",
    "zip_object = zip(temp, temp_crn)\n",
    "for temp_i, temp_crn_i in zip_object:\n",
    "    difference4_bat.append(temp_i-temp_crn_i)\n",
    "\n",
    "print(difference4_bat)"
   ]
  },
  {
   "cell_type": "markdown",
   "id": "2869b9dc",
   "metadata": {},
   "source": [
    "<font size=\"3\">Lafayette, LA: 0600 UTC (12:00 am CST) 01 March 2022-0600 UTC (12:00 am CST) 02 March 2022</font>"
   ]
  },
  {
   "cell_type": "code",
   "execution_count": 116,
   "id": "fd2670e5",
   "metadata": {},
   "outputs": [
    {
     "name": "stdout",
     "output_type": "stream",
     "text": [
      "[16.8918, 15.432, 14.1433, 14.3839, 13.5, 13.3187, 12.5301, 14.2139, 19.4951, 22.8566, 24.8498, 26.9133, 27.8679, 28.8587, 29.0927, 29.3816, 29.0049, 27.8101, 25.9084, 21.7086, 19.8127, 18.9125, 18.1698, 17.5294, 17.0837]\n"
     ]
    }
   ],
   "source": [
    "#1 hr hrrr:\n",
    "with open('hrrr_f18_Lafayette_LA.txt') as f:\n",
    "    lst=[line.split()[1] for line in f]\n",
    "    temp=[]\n",
    "    for i in lst:\n",
    "        new=i.replace(',',\"\")\n",
    "        temp.append(new)\n",
    "    temp.pop(0)\n",
    "    temp=[float(x) for x in temp]\n",
    "    temp=temp[2196:2221]\n",
    "    #temp=temp[2015:2063]\n",
    "    print(temp)\n",
    "    ##prfloat(len(temp))\n",
    "#full time period is [2015:2112]"
   ]
  },
  {
   "cell_type": "code",
   "execution_count": 117,
   "id": "59735c23",
   "metadata": {},
   "outputs": [
    {
     "name": "stdout",
     "output_type": "stream",
     "text": [
      "[13.2, 12.4, 11.8, 11.2, 12.0, 11.149999999999999, 11.7, 13.45, 17.700000000000003, 20.75, 22.799999999999997, 24.200000000000003, 25.45, 26.5, 26.85, 27.2, 27.05, 25.9, 22.75, 20.35, 19.2, 18.9, 17.5, 16.35, 15.75]\n"
     ]
    }
   ],
   "source": [
    "#Air Temp CRN:\n",
    "with open('CRNS0101-05-2022-LA_Lafayette_13_SE.txt') as f:\n",
    "    lst=[line.split()[8] for line in f]\n",
    "    \n",
    "    a=(float(lst[26567])+float(lst[26568]))/2\n",
    "    b=(float(lst[26579])+float(lst[26580]))/2\n",
    "    c=(float(lst[26591])+float(lst[26592]))/2\n",
    "    d=(float(lst[26603])+float(lst[26604]))/2\n",
    "    e=(float(lst[26615])+float(lst[26616]))/2\n",
    "    f=(float(lst[26627])+float(lst[26628]))/2\n",
    "    g=(float(lst[26639])+float(lst[26640]))/2\n",
    "    h=(float(lst[26651])+float(lst[26652]))/2\n",
    "    i=(float(lst[26663])+float(lst[26664]))/2\n",
    "    j=(float(lst[26675])+float(lst[26676]))/2\n",
    "    k=(float(lst[26687])+float(lst[26688]))/2\n",
    "    l=(float(lst[26699])+float(lst[26700]))/2\n",
    "    m=(float(lst[26711])+float(lst[26712]))/2\n",
    "    n=(float(lst[26723])+float(lst[26724]))/2\n",
    "    o=(float(lst[26735])+float(lst[26736]))/2\n",
    "    p=(float(lst[26747])+float(lst[26748]))/2\n",
    "    q=(float(lst[26759])+float(lst[26760]))/2\n",
    "    r=(float(lst[26773])+float(lst[26774]))/2\n",
    "    s=(float(lst[26783])+float(lst[26784]))/2\n",
    "    t=(float(lst[26795])+float(lst[26796]))/2\n",
    "    u=(float(lst[26807])+float(lst[26808]))/2\n",
    "    v=(float(lst[26819])+float(lst[26820]))/2\n",
    "    w=(float(lst[26831])+float(lst[26832]))/2\n",
    "    x=(float(lst[26843])+float(lst[26844]))/2\n",
    "    y=(float(lst[26855])+float(lst[26856]))/2\n",
    "    \n",
    "    temp_crn=[a,b,c,d,e,f,g,h,i,j,k,l,m,n,o,p,q,r,s,t,u,v,w,x,y]\n",
    "    print(temp_crn)"
   ]
  },
  {
   "cell_type": "code",
   "execution_count": 118,
   "id": "c02f8d98",
   "metadata": {},
   "outputs": [
    {
     "name": "stdout",
     "output_type": "stream",
     "text": [
      "[3.6918000000000006, 3.032, 2.3432999999999993, 3.1839000000000013, 1.5, 2.168700000000001, 0.8300999999999998, 0.7639000000000014, 1.795099999999998, 2.1066000000000003, 2.049800000000001, 2.7132999999999967, 2.4178999999999995, 2.358699999999999, 2.2426999999999992, 2.1815999999999995, 1.9548999999999985, 1.9101, 3.1584000000000003, 1.3585999999999991, 0.6127000000000002, 0.012500000000002842, 0.6697999999999986, 1.1793999999999976, 1.3337000000000003]\n"
     ]
    }
   ],
   "source": [
    "difference4_laf = []\n",
    "\n",
    "zip_object = zip(temp, temp_crn)\n",
    "for temp_i, temp_crn_i in zip_object:\n",
    "    difference4_laf.append(temp_i-temp_crn_i)\n",
    "\n",
    "print(difference4_laf)"
   ]
  },
  {
   "cell_type": "markdown",
   "id": "ab48fc12",
   "metadata": {},
   "source": [
    "<font size=\"3\">Monroe, LA: 0600 UTC (12:00 am CST) 01 March 2022-0600 UTC (12:00 am CST) 02 March 2022</font>"
   ]
  },
  {
   "cell_type": "code",
   "execution_count": 119,
   "id": "b61707d0",
   "metadata": {},
   "outputs": [
    {
     "name": "stdout",
     "output_type": "stream",
     "text": [
      "[13.1418, 12.682, 12.0808, 11.6339, 11.3125, 10.6937, 10.2801, 11.9014, 14.4951, 16.6691, 18.8498, 21.4133, 23.3054, 24.6087, 25.7177, 25.9441, 25.6924, 24.9976, 23.0959, 20.1461, 18.6252, 17.475, 16.4823, 15.2169, 14.7087]\n"
     ]
    }
   ],
   "source": [
    "#1 hr hrrr:\n",
    "with open('hrrr_f18_Monroe_LA.txt') as f:\n",
    "    lst=[line.split()[1] for line in f]\n",
    "    temp=[]\n",
    "    for i in lst:\n",
    "        new=i.replace(',',\"\")\n",
    "        temp.append(new)\n",
    "    temp.pop(0)\n",
    "    temp=[float(x) for x in temp]\n",
    "    temp=temp[2196:2221]\n",
    "    #temp=temp[2015:2063]\n",
    "    print(temp)\n",
    "    ##prfloat(len(temp))\n",
    "#full time period is [2015:2112]"
   ]
  },
  {
   "cell_type": "code",
   "execution_count": 120,
   "id": "2bcf6d37",
   "metadata": {},
   "outputs": [
    {
     "name": "stdout",
     "output_type": "stream",
     "text": [
      "[9.7, 9.05, 8.350000000000001, 7.65, 7.25, 6.65, 6.65, 8.399999999999999, 15.100000000000001, 19.15, 21.45, 22.9, 23.75, 24.3, 24.7, 25.35, 25.1, 23.950000000000003, 21.700000000000003, 17.05, 15.399999999999999, 14.25, 14.55, 14.0, 12.149999999999999]\n"
     ]
    }
   ],
   "source": [
    "#Air Temp CRN:\n",
    "with open('CRNS0101-05-2022-LA_Monroe_26_N.txt') as f:\n",
    "    lst=[line.split()[8] for line in f]\n",
    "    \n",
    "    a=(float(lst[26567])+float(lst[26568]))/2\n",
    "    b=(float(lst[26579])+float(lst[26580]))/2\n",
    "    c=(float(lst[26591])+float(lst[26592]))/2\n",
    "    d=(float(lst[26603])+float(lst[26604]))/2\n",
    "    e=(float(lst[26615])+float(lst[26616]))/2\n",
    "    f=(float(lst[26627])+float(lst[26628]))/2\n",
    "    g=(float(lst[26639])+float(lst[26640]))/2\n",
    "    h=(float(lst[26651])+float(lst[26652]))/2\n",
    "    i=(float(lst[26663])+float(lst[26664]))/2\n",
    "    j=(float(lst[26675])+float(lst[26676]))/2\n",
    "    k=(float(lst[26687])+float(lst[26688]))/2\n",
    "    l=(float(lst[26699])+float(lst[26700]))/2\n",
    "    m=(float(lst[26711])+float(lst[26712]))/2\n",
    "    n=(float(lst[26723])+float(lst[26724]))/2\n",
    "    o=(float(lst[26735])+float(lst[26736]))/2\n",
    "    p=(float(lst[26747])+float(lst[26748]))/2\n",
    "    q=(float(lst[26759])+float(lst[26760]))/2\n",
    "    r=(float(lst[26773])+float(lst[26774]))/2\n",
    "    s=(float(lst[26783])+float(lst[26784]))/2\n",
    "    t=(float(lst[26795])+float(lst[26796]))/2\n",
    "    u=(float(lst[26807])+float(lst[26808]))/2\n",
    "    v=(float(lst[26819])+float(lst[26820]))/2\n",
    "    w=(float(lst[26831])+float(lst[26832]))/2\n",
    "    x=(float(lst[26843])+float(lst[26844]))/2\n",
    "    y=(float(lst[26855])+float(lst[26856]))/2\n",
    "    \n",
    "    temp_crn=[a,b,c,d,e,f,g,h,i,j,k,l,m,n,o,p,q,r,s,t,u,v,w,x,y]\n",
    "    print(temp_crn)"
   ]
  },
  {
   "cell_type": "code",
   "execution_count": 121,
   "id": "e8911bcb",
   "metadata": {},
   "outputs": [
    {
     "name": "stdout",
     "output_type": "stream",
     "text": [
      "[3.4418000000000006, 3.6319999999999997, 3.7307999999999986, 3.9839, 4.0625, 4.043699999999999, 3.6300999999999988, 3.501400000000002, -0.6049000000000007, -2.4808999999999983, -2.600200000000001, -1.486699999999999, -0.4446000000000012, 0.3086999999999982, 1.0177000000000014, 0.5940999999999974, 0.5923999999999978, 1.0475999999999956, 1.3958999999999975, 3.0961, 3.225200000000001, 3.2250000000000014, 1.932299999999998, 1.2169000000000008, 2.5587000000000018]\n"
     ]
    }
   ],
   "source": [
    "difference4_mon = []\n",
    "\n",
    "zip_object = zip(temp, temp_crn)\n",
    "for temp_i, temp_crn_i in zip_object:\n",
    "    difference4_mon.append(temp_i-temp_crn_i)\n",
    "\n",
    "print(difference4_mon)"
   ]
  },
  {
   "cell_type": "markdown",
   "id": "dbfdd9c6",
   "metadata": {},
   "source": [
    "<font size=\"3\">Holly Springs, MS: 0600 UTC (12:00 am CST) 01 March 2022-0600 UTC (12:00 am CST) 02 March 2022</font>"
   ]
  },
  {
   "cell_type": "code",
   "execution_count": 122,
   "id": "055b4b13",
   "metadata": {},
   "outputs": [
    {
     "name": "stdout",
     "output_type": "stream",
     "text": [
      "[10.2668, 9.43204, 7.70578, 7.25894, 6.37497, 5.8187, 5.46762, 7.7764, 10.4326, 12.1066, 13.7873, 16.1008, 17.4304, 18.4212, 19.5302, 19.8191, 19.5674, 19.0601, 17.1584, 14.4586, 12.8127, 12.0375, 11.4198, 10.5919, 10.0212]\n"
     ]
    }
   ],
   "source": [
    "#1 hr hrrr:\n",
    "with open('hrrr_f18_Holly Springs_MS.txt') as f:\n",
    "    lst=[line.split()[1] for line in f]\n",
    "    temp=[]\n",
    "    for i in lst:\n",
    "        new=i.replace(',',\"\")\n",
    "        temp.append(new)\n",
    "    temp.pop(0)\n",
    "    temp=[float(x) for x in temp]\n",
    "    temp=temp[2196:2221]\n",
    "    #temp=temp[2015:2063]\n",
    "    print(temp)\n",
    "    ##prfloat(len(temp))\n",
    "#full time period is [2015:2112]"
   ]
  },
  {
   "cell_type": "code",
   "execution_count": 123,
   "id": "13e28750",
   "metadata": {},
   "outputs": [
    {
     "name": "stdout",
     "output_type": "stream",
     "text": [
      "[7.65, 7.45, 9.05, 7.85, 6.5, 5.3, 4.55, 8.65, 11.5, 13.4, 15.25, 16.6, 17.75, 19.1, 19.1, 19.85, 20.0, 19.35, 15.25, 10.649999999999999, 8.9, 7.9, 6.55, 6.3, 6.65]\n"
     ]
    }
   ],
   "source": [
    "#Air Temp CRN:\n",
    "with open('CRNS0101-05-2022-MS_Holly_Springs_4_N.txt') as f:\n",
    "    lst=[line.split()[8] for line in f]\n",
    "    \n",
    "    a=(float(lst[26567])+float(lst[26568]))/2\n",
    "    b=(float(lst[26579])+float(lst[26580]))/2\n",
    "    c=(float(lst[26591])+float(lst[26592]))/2\n",
    "    d=(float(lst[26603])+float(lst[26604]))/2\n",
    "    e=(float(lst[26615])+float(lst[26616]))/2\n",
    "    f=(float(lst[26627])+float(lst[26628]))/2\n",
    "    g=(float(lst[26639])+float(lst[26640]))/2\n",
    "    h=(float(lst[26651])+float(lst[26652]))/2\n",
    "    i=(float(lst[26663])+float(lst[26664]))/2\n",
    "    j=(float(lst[26675])+float(lst[26676]))/2\n",
    "    k=(float(lst[26687])+float(lst[26688]))/2\n",
    "    l=(float(lst[26699])+float(lst[26700]))/2\n",
    "    m=(float(lst[26711])+float(lst[26712]))/2\n",
    "    n=(float(lst[26723])+float(lst[26724]))/2\n",
    "    o=(float(lst[26735])+float(lst[26736]))/2\n",
    "    p=(float(lst[26747])+float(lst[26748]))/2\n",
    "    q=(float(lst[26759])+float(lst[26760]))/2\n",
    "    r=(float(lst[26773])+float(lst[26774]))/2\n",
    "    s=(float(lst[26783])+float(lst[26784]))/2\n",
    "    t=(float(lst[26795])+float(lst[26796]))/2\n",
    "    u=(float(lst[26807])+float(lst[26808]))/2\n",
    "    v=(float(lst[26819])+float(lst[26820]))/2\n",
    "    w=(float(lst[26831])+float(lst[26832]))/2\n",
    "    x=(float(lst[26843])+float(lst[26844]))/2\n",
    "    y=(float(lst[26855])+float(lst[26856]))/2\n",
    "    \n",
    "    temp_crn=[a,b,c,d,e,f,g,h,i,j,k,l,m,n,o,p,q,r,s,t,u,v,w,x,y]\n",
    "    print(temp_crn)"
   ]
  },
  {
   "cell_type": "code",
   "execution_count": 124,
   "id": "6836c3bb",
   "metadata": {},
   "outputs": [
    {
     "name": "stdout",
     "output_type": "stream",
     "text": [
      "[2.6167999999999996, 1.9820400000000005, -1.3442200000000009, -0.5910599999999997, -0.12502999999999975, 0.5186999999999999, 0.9176200000000003, -0.8736000000000006, -1.0673999999999992, -1.2934, -1.4627, -0.49920000000000186, -0.3196000000000012, -0.6788000000000025, 0.43019999999999925, -0.030900000000002592, -0.43260000000000076, -0.28990000000000293, 1.9084000000000003, 3.808600000000002, 3.912699999999999, 4.137499999999999, 4.869800000000001, 4.291900000000001, 3.3712]\n"
     ]
    }
   ],
   "source": [
    "difference4_hol = []\n",
    "\n",
    "zip_object = zip(temp, temp_crn)\n",
    "for temp_i, temp_crn_i in zip_object:\n",
    "    difference4_hol.append(temp_i-temp_crn_i)\n",
    "\n",
    "print(difference4_hol)"
   ]
  },
  {
   "cell_type": "markdown",
   "id": "9c7354c6",
   "metadata": {},
   "source": [
    "<font size=\"3\">Newton, MS: 0600 UTC (12:00 am CST) 01 March 2022-0600 UTC (12:00 am CST) 02 March 2022</font>"
   ]
  },
  {
   "cell_type": "code",
   "execution_count": 125,
   "id": "93316a90",
   "metadata": {},
   "outputs": [
    {
     "name": "stdout",
     "output_type": "stream",
     "text": [
      "[12.5168, 12.432, 12.0183, 12.3214, 10.6875, 9.7562, 9.53012, 12.2139, 15.3701, 18.7316, 20.9123, 22.8508, 23.5554, 23.9212, 24.5927, 24.8191, 24.3799, 23.2476, 21.4709, 18.8961, 17.5002, 16.225, 15.2323, 13.9044, 13.1462]\n"
     ]
    }
   ],
   "source": [
    "#1 hr hrrr:\n",
    "with open('hrrr_f18_Newton_MS.txt') as f:\n",
    "    lst=[line.split()[1] for line in f]\n",
    "    temp=[]\n",
    "    for i in lst:\n",
    "        new=i.replace(',',\"\")\n",
    "        temp.append(new)\n",
    "    temp.pop(0)\n",
    "    temp=[float(x) for x in temp]\n",
    "    temp=temp[2196:2221]\n",
    "    #temp=temp[2015:2063]\n",
    "    print(temp)\n",
    "    ##prfloat(len(temp))\n",
    "#full time period is [2015:2112]"
   ]
  },
  {
   "cell_type": "code",
   "execution_count": 126,
   "id": "17e49fc9",
   "metadata": {},
   "outputs": [
    {
     "name": "stdout",
     "output_type": "stream",
     "text": [
      "[8.350000000000001, 7.9, 7.300000000000001, 6.8, 6.4, 5.95, 5.55, 8.65, 14.8, 18.65, 20.200000000000003, 21.2, 22.15, 23.15, 23.549999999999997, 23.5, 23.65, 22.85, 19.35, 15.6, 13.05, 11.850000000000001, 10.649999999999999, 9.3, 8.7]\n"
     ]
    }
   ],
   "source": [
    "#Air Temp CRN:\n",
    "with open('CRNS0101-05-2022-MS_Newton_5_ENE.txt') as f:\n",
    "    lst=[line.split()[8] for line in f]\n",
    "    \n",
    "    a=(float(lst[26567])+float(lst[26568]))/2\n",
    "    b=(float(lst[26579])+float(lst[26580]))/2\n",
    "    c=(float(lst[26591])+float(lst[26592]))/2\n",
    "    d=(float(lst[26603])+float(lst[26604]))/2\n",
    "    e=(float(lst[26615])+float(lst[26616]))/2\n",
    "    f=(float(lst[26627])+float(lst[26628]))/2\n",
    "    g=(float(lst[26639])+float(lst[26640]))/2\n",
    "    h=(float(lst[26651])+float(lst[26652]))/2\n",
    "    i=(float(lst[26663])+float(lst[26664]))/2\n",
    "    j=(float(lst[26675])+float(lst[26676]))/2\n",
    "    k=(float(lst[26687])+float(lst[26688]))/2\n",
    "    l=(float(lst[26699])+float(lst[26700]))/2\n",
    "    m=(float(lst[26711])+float(lst[26712]))/2\n",
    "    n=(float(lst[26723])+float(lst[26724]))/2\n",
    "    o=(float(lst[26735])+float(lst[26736]))/2\n",
    "    p=(float(lst[26747])+float(lst[26748]))/2\n",
    "    q=(float(lst[26759])+float(lst[26760]))/2\n",
    "    r=(float(lst[26773])+float(lst[26774]))/2\n",
    "    s=(float(lst[26783])+float(lst[26784]))/2\n",
    "    t=(float(lst[26795])+float(lst[26796]))/2\n",
    "    u=(float(lst[26807])+float(lst[26808]))/2\n",
    "    v=(float(lst[26819])+float(lst[26820]))/2\n",
    "    w=(float(lst[26831])+float(lst[26832]))/2\n",
    "    x=(float(lst[26843])+float(lst[26844]))/2\n",
    "    y=(float(lst[26855])+float(lst[26856]))/2\n",
    "    \n",
    "    temp_crn=[a,b,c,d,e,f,g,h,i,j,k,l,m,n,o,p,q,r,s,t,u,v,w,x,y]\n",
    "    print(temp_crn)"
   ]
  },
  {
   "cell_type": "code",
   "execution_count": 127,
   "id": "895bb872",
   "metadata": {},
   "outputs": [
    {
     "name": "stdout",
     "output_type": "stream",
     "text": [
      "[4.1667999999999985, 4.532, 4.718299999999999, 5.521400000000001, 4.2875, 3.8061999999999996, 3.9801200000000003, 3.5639000000000003, 0.5701, 0.08160000000000167, 0.7122999999999955, 1.6508000000000003, 1.4054000000000002, 0.7712000000000003, 1.0427000000000035, 1.3190999999999988, 0.7299000000000007, 0.39759999999999707, 2.120899999999999, 3.296100000000001, 4.450199999999999, 4.375, 4.582300000000002, 4.6044, 4.446200000000001]\n"
     ]
    }
   ],
   "source": [
    "difference4_new = []\n",
    "\n",
    "zip_object = zip(temp, temp_crn)\n",
    "for temp_i, temp_crn_i in zip_object:\n",
    "    difference4_new.append(temp_i-temp_crn_i)\n",
    "\n",
    "print(difference4_new)"
   ]
  },
  {
   "cell_type": "markdown",
   "id": "9e553db4",
   "metadata": {},
   "source": [
    "<font size=\"3\">Gainesville, AL: 0600 UTC (12:00 am CST) 01 March 2022-0600 UTC (12:00 am CST) 02 March 2022</font>"
   ]
  },
  {
   "cell_type": "code",
   "execution_count": 128,
   "id": "34bf4646",
   "metadata": {},
   "outputs": [
    {
     "name": "stdout",
     "output_type": "stream",
     "text": [
      "[12.1418, 11.932, 11.5183, 10.8839, 10.0625, 9.0062, 8.40512, 11.7139, 14.4326, 16.7316, 19.0373, 21.6633, 22.1804, 22.8587, 23.5302, 23.6316, 23.3174, 22.4976, 20.5334, 17.7711, 16.0627, 14.725, 13.6698, 12.1544, 11.8962]\n"
     ]
    }
   ],
   "source": [
    "#1 hr hrrr:\n",
    "with open('hrrr_f18_Gainesville_AL (1).txt') as f:\n",
    "    lst=[line.split()[1] for line in f]\n",
    "    temp=[]\n",
    "    for i in lst:\n",
    "        new=i.replace(',',\"\")\n",
    "        temp.append(new)\n",
    "    temp.pop(0)\n",
    "    temp=[float(x) for x in temp]\n",
    "    temp=temp[2196:2221]\n",
    "    #temp=temp[2015:2063]\n",
    "    print(temp)\n",
    "    ##prfloat(len(temp))\n",
    "#full time period is [2015:2112]"
   ]
  },
  {
   "cell_type": "code",
   "execution_count": 129,
   "id": "81d766ff",
   "metadata": {},
   "outputs": [
    {
     "name": "stdout",
     "output_type": "stream",
     "text": [
      "[9.7, 9.4, 9.1, 8.25, 7.95, 8.0, 7.6, 11.0, 14.25, 17.65, 19.35, 20.6, 21.5, 21.95, 22.5, 22.5, 22.25, 21.35, 19.75, 15.35, 13.95, 11.6, 10.7, 9.7, 9.45]\n"
     ]
    }
   ],
   "source": [
    "#Air Temp CRN:\n",
    "with open('CRNS0101-05-2022-AL_Gainesville_2_NE.txt') as f:\n",
    "    lst=[line.split()[8] for line in f]\n",
    "    \n",
    "    a=(float(lst[26567])+float(lst[26568]))/2\n",
    "    b=(float(lst[26579])+float(lst[26580]))/2\n",
    "    c=(float(lst[26591])+float(lst[26592]))/2\n",
    "    d=(float(lst[26603])+float(lst[26604]))/2\n",
    "    e=(float(lst[26615])+float(lst[26616]))/2\n",
    "    f=(float(lst[26627])+float(lst[26628]))/2\n",
    "    g=(float(lst[26639])+float(lst[26640]))/2\n",
    "    h=(float(lst[26651])+float(lst[26652]))/2\n",
    "    i=(float(lst[26663])+float(lst[26664]))/2\n",
    "    j=(float(lst[26675])+float(lst[26676]))/2\n",
    "    k=(float(lst[26687])+float(lst[26688]))/2\n",
    "    l=(float(lst[26699])+float(lst[26700]))/2\n",
    "    m=(float(lst[26711])+float(lst[26712]))/2\n",
    "    n=(float(lst[26723])+float(lst[26724]))/2\n",
    "    o=(float(lst[26735])+float(lst[26736]))/2\n",
    "    p=(float(lst[26747])+float(lst[26748]))/2\n",
    "    q=(float(lst[26759])+float(lst[26760]))/2\n",
    "    r=(float(lst[26773])+float(lst[26774]))/2\n",
    "    s=(float(lst[26783])+float(lst[26784]))/2\n",
    "    t=(float(lst[26795])+float(lst[26796]))/2\n",
    "    u=(float(lst[26807])+float(lst[26808]))/2\n",
    "    v=(float(lst[26819])+float(lst[26820]))/2\n",
    "    w=(float(lst[26831])+float(lst[26832]))/2\n",
    "    x=(float(lst[26843])+float(lst[26844]))/2\n",
    "    y=(float(lst[26855])+float(lst[26856]))/2\n",
    "    \n",
    "    temp_crn=[a,b,c,d,e,f,g,h,i,j,k,l,m,n,o,p,q,r,s,t,u,v,w,x,y]\n",
    "    print(temp_crn)"
   ]
  },
  {
   "cell_type": "code",
   "execution_count": 130,
   "id": "4baf3368",
   "metadata": {},
   "outputs": [
    {
     "name": "stdout",
     "output_type": "stream",
     "text": [
      "[2.4418000000000006, 2.532, 2.4183000000000003, 2.6339000000000006, 2.1125, 1.0061999999999998, 0.8051200000000005, 0.7139000000000006, 0.18260000000000076, -0.9183999999999983, -0.3127000000000031, 1.0632999999999981, 0.6803999999999988, 0.9086999999999996, 1.0302000000000007, 1.1315999999999988, 1.0673999999999992, 1.147599999999997, 0.7834000000000003, 2.421100000000001, 2.1127000000000002, 3.125, 2.969800000000001, 2.4544000000000015, 2.446200000000001]\n"
     ]
    }
   ],
   "source": [
    "difference4_gai = []\n",
    "\n",
    "zip_object = zip(temp, temp_crn)\n",
    "for temp_i, temp_crn_i in zip_object:\n",
    "    difference4_gai.append(temp_i-temp_crn_i)\n",
    "\n",
    "print(difference4_gai)"
   ]
  },
  {
   "cell_type": "markdown",
   "id": "7dcabe11",
   "metadata": {},
   "source": [
    "<font size=\"3\">Fairhope, AL: 0600 UTC (12:00 am CST) 01 March 2022-0600 UTC (12:00 am CST) 02 March 2022</font>"
   ]
  },
  {
   "cell_type": "code",
   "execution_count": 131,
   "id": "66bf707b",
   "metadata": {},
   "outputs": [
    {
     "name": "stdout",
     "output_type": "stream",
     "text": [
      "[13.8293, 12.6195, 12.3308, 11.9464, 11.25, 11.0062, 10.9051, 13.9014, 17.3076, 19.7316, 21.8498, 23.7258, 25.3054, 25.8587, 26.2802, 26.1941, 25.6924, 24.5601, 22.3459, 20.1461, 17.5002, 16.6625, 16.3573, 15.9669, 15.6462]\n"
     ]
    }
   ],
   "source": [
    "#1 hr hrrr:\n",
    "with open('hrrr_f18_Fairhope_AL.txt') as f:\n",
    "    lst=[line.split()[1] for line in f]\n",
    "    temp=[]\n",
    "    for i in lst:\n",
    "        new=i.replace(',',\"\")\n",
    "        temp.append(new)\n",
    "    temp.pop(0)\n",
    "    temp=[float(x) for x in temp]\n",
    "    temp=temp[2196:2221]\n",
    "    #temp=temp[2015:2063]\n",
    "    print(temp)\n",
    "    ##prfloat(len(temp))\n",
    "#full time period is [2015:2112]"
   ]
  },
  {
   "cell_type": "code",
   "execution_count": 132,
   "id": "e6d98c95",
   "metadata": {},
   "outputs": [
    {
     "name": "stdout",
     "output_type": "stream",
     "text": [
      "[9.0, 8.45, 8.4, 7.85, 7.6, 7.75, 6.75, 12.149999999999999, 17.950000000000003, 20.45, 21.799999999999997, 23.0, 23.2, 24.6, 25.049999999999997, 25.15, 25.1, 24.200000000000003, 22.2, 15.85, 16.05, 14.0, 12.8, 11.95, 11.649999999999999]\n"
     ]
    }
   ],
   "source": [
    "#Air Temp CRN:\n",
    "with open('CRNS0101-05-2022-AL_Fairhope_3_NE.txt') as f:\n",
    "    lst=[line.split()[8] for line in f]\n",
    "    \n",
    "    a=(float(lst[26567])+float(lst[26568]))/2\n",
    "    b=(float(lst[26579])+float(lst[26580]))/2\n",
    "    c=(float(lst[26591])+float(lst[26592]))/2\n",
    "    d=(float(lst[26603])+float(lst[26604]))/2\n",
    "    e=(float(lst[26615])+float(lst[26616]))/2\n",
    "    f=(float(lst[26627])+float(lst[26628]))/2\n",
    "    g=(float(lst[26639])+float(lst[26640]))/2\n",
    "    h=(float(lst[26651])+float(lst[26652]))/2\n",
    "    i=(float(lst[26663])+float(lst[26664]))/2\n",
    "    j=(float(lst[26675])+float(lst[26676]))/2\n",
    "    k=(float(lst[26687])+float(lst[26688]))/2\n",
    "    l=(float(lst[26699])+float(lst[26700]))/2\n",
    "    m=(float(lst[26711])+float(lst[26712]))/2\n",
    "    n=(float(lst[26723])+float(lst[26724]))/2\n",
    "    o=(float(lst[26735])+float(lst[26736]))/2\n",
    "    p=(float(lst[26747])+float(lst[26748]))/2\n",
    "    q=(float(lst[26759])+float(lst[26760]))/2\n",
    "    r=(float(lst[26773])+float(lst[26774]))/2\n",
    "    s=(float(lst[26783])+float(lst[26784]))/2\n",
    "    t=(float(lst[26795])+float(lst[26796]))/2\n",
    "    u=(float(lst[26807])+float(lst[26808]))/2\n",
    "    v=(float(lst[26819])+float(lst[26820]))/2\n",
    "    w=(float(lst[26831])+float(lst[26832]))/2\n",
    "    x=(float(lst[26843])+float(lst[26844]))/2\n",
    "    y=(float(lst[26855])+float(lst[26856]))/2\n",
    "    \n",
    "    temp_crn=[a,b,c,d,e,f,g,h,i,j,k,l,m,n,o,p,q,r,s,t,u,v,w,x,y]\n",
    "    print(temp_crn)"
   ]
  },
  {
   "cell_type": "code",
   "execution_count": 133,
   "id": "320724ae",
   "metadata": {},
   "outputs": [
    {
     "name": "stdout",
     "output_type": "stream",
     "text": [
      "[4.8293, 4.169500000000001, 3.9307999999999996, 4.096400000000001, 3.6500000000000004, 3.2561999999999998, 4.155099999999999, 1.751400000000002, -0.6424000000000021, -0.718399999999999, 0.04980000000000118, 0.7257999999999996, 2.1053999999999995, 1.2586999999999975, 1.2302000000000035, 1.0441000000000003, 0.5923999999999978, 0.36009999999999565, 0.14590000000000103, 4.296100000000001, 1.4501999999999988, 2.6625000000000014, 3.557299999999998, 4.0169000000000015, 3.9962000000000018]\n"
     ]
    }
   ],
   "source": [
    "difference4_fai = []\n",
    "\n",
    "zip_object = zip(temp, temp_crn)\n",
    "for temp_i, temp_crn_i in zip_object:\n",
    "    difference4_fai.append(temp_i-temp_crn_i)\n",
    "\n",
    "print(difference4_fai)"
   ]
  },
  {
   "cell_type": "markdown",
   "id": "057898bf",
   "metadata": {},
   "source": [
    "<font size=\"3\">**Selma, AL: 0600 UTC (12:00 am CST) 01 March 2022-0600 UTC (12:00 am CST) 02 March 2022</font>"
   ]
  },
  {
   "cell_type": "code",
   "execution_count": 134,
   "id": "dd6c27fb",
   "metadata": {},
   "outputs": [
    {
     "name": "stdout",
     "output_type": "stream",
     "text": [
      "[11.7043, 10.807, 10.2683, 10.0089, 9.62497, 8.8812, 8.59262, 11.0889, 14.0576, 16.1066, 17.9748, 20.4133, 21.5554, 22.7962, 23.3427, 23.6316, 22.9424, 21.3726, 19.2834, 16.8336, 15.2502, 14.475, 13.4198, 12.4669, 11.2087]\n"
     ]
    }
   ],
   "source": [
    "#1 hr hrrr:\n",
    "import numpy as np\n",
    "import numpy.ma as ma\n",
    "with open('hrrr_f18_Selma_AL.txt') as f:\n",
    "    lst=[line.split()[1] for line in f]\n",
    "    temp=[]\n",
    "    for i in lst:\n",
    "        new=i.replace(',',\"\")\n",
    "        temp.append(new)\n",
    "    temp.pop(0)\n",
    "    temp=[float(x) for x in temp]\n",
    "    temp=temp[2196:2221]\n",
    "    print(temp)\n"
   ]
  },
  {
   "cell_type": "code",
   "execution_count": 135,
   "id": "b91246e9",
   "metadata": {},
   "outputs": [
    {
     "name": "stdout",
     "output_type": "stream",
     "text": [
      "[9.0, 8.350000000000001, 7.7, 7.3, 6.85, 6.2, 6.15, 10.600000000000001, 15.05, 18.0, 20.45, 21.4, 22.7, 23.2, 23.55, 23.65, 23.45, 22.25, 18.25, 13.85, 11.85, 11.2, 9.2, 8.4, 7.7]\n"
     ]
    }
   ],
   "source": [
    "#Air Temp CRN:\n",
    "with open('CRNS0101-05-2022-AL_Selma_13_WNW.txt') as f:\n",
    "    lst=[line.split()[8] for line in f]\n",
    "    \n",
    "    a=(float(lst[26567])+float(lst[26568]))/2\n",
    "    b=(float(lst[26579])+float(lst[26580]))/2\n",
    "    c=(float(lst[26591])+float(lst[26592]))/2\n",
    "    d=(float(lst[26603])+float(lst[26604]))/2\n",
    "    e=(float(lst[26615])+float(lst[26616]))/2\n",
    "    f=(float(lst[26627])+float(lst[26628]))/2\n",
    "    g=(float(lst[26639])+float(lst[26640]))/2\n",
    "    h=(float(lst[26651])+float(lst[26652]))/2\n",
    "    i=(float(lst[26663])+float(lst[26664]))/2\n",
    "    j=(float(lst[26675])+float(lst[26676]))/2\n",
    "    k=(float(lst[26687])+float(lst[26688]))/2\n",
    "    l=(float(lst[26699])+float(lst[26700]))/2\n",
    "    m=(float(lst[26711])+float(lst[26712]))/2\n",
    "    n=(float(lst[26723])+float(lst[26724]))/2\n",
    "    o=(float(lst[26735])+float(lst[26736]))/2\n",
    "    p=(float(lst[26747])+float(lst[26748]))/2\n",
    "    q=(float(lst[26759])+float(lst[26760]))/2\n",
    "    r=(float(lst[26773])+float(lst[26774]))/2\n",
    "    s=(float(lst[26783])+float(lst[26784]))/2\n",
    "    t=(float(lst[26795])+float(lst[26796]))/2\n",
    "    u=(float(lst[26807])+float(lst[26808]))/2\n",
    "    v=(float(lst[26819])+float(lst[26820]))/2\n",
    "    w=(float(lst[26831])+float(lst[26832]))/2\n",
    "    x=(float(lst[26843])+float(lst[26844]))/2\n",
    "    y=(float(lst[26855])+float(lst[26856]))/2\n",
    "    \n",
    "    temp_crn=[a,b,c,d,e,f,g,h,i,j,k,l,m,n,o,p,q,r,s,t,u,v,w,x,y]\n",
    "    print(temp_crn)"
   ]
  },
  {
   "cell_type": "code",
   "execution_count": 136,
   "id": "38eaf77e",
   "metadata": {},
   "outputs": [
    {
     "name": "stdout",
     "output_type": "stream",
     "text": [
      "[2.7043, 2.456999999999999, 2.5683, 2.7089000000000008, 2.7749699999999997, 2.6811999999999996, 2.44262, 0.4888999999999992, -0.9924, -1.8933999999999997, -2.475200000000001, -0.986699999999999, -1.1446000000000005, -0.4038000000000004, -0.20730000000000004, -0.01839999999999975, -0.5076, -0.8774000000000015, 1.0334000000000003, 2.983600000000001, 3.4002, 3.2750000000000004, 4.219800000000001, 4.0669, 3.5087]\n"
     ]
    }
   ],
   "source": [
    "difference4_sel = []\n",
    "\n",
    "zip_object = zip(temp, temp_crn)\n",
    "for temp_i, temp_crn_i in zip_object:\n",
    "    difference4_sel.append(temp_i-temp_crn_i)\n",
    "\n",
    "print(difference4_sel)\n",
    "##prfloat(len(difference3_sel))"
   ]
  },
  {
   "cell_type": "markdown",
   "id": "cb37cdb6",
   "metadata": {},
   "source": [
    "<font size=\"3\">Bowling Green, KY: 0600 UTC (12:00 am CST) 01 March 2022-0600 UTC (12:00 am CST) 02 March 2022</font>"
   ]
  },
  {
   "cell_type": "code",
   "execution_count": 137,
   "id": "14e1ecd0",
   "metadata": {},
   "outputs": [
    {
     "name": "stdout",
     "output_type": "stream",
     "text": [
      "[5.01685, 4.49454, 3.64328, 3.69644, 2.81247, 1.9437, 1.71762, 3.1514, 5.12015, 7.7316, 9.91232, 12.8508, 13.9304, 14.6087, 15.9052, 16.0066, 15.6299, 14.9351, 13.0334, 11.2086, 10.3127, 9.72498, 8.4823, 8.52936, 7.89618]\n"
     ]
    }
   ],
   "source": [
    "#1 hr hrrr:\n",
    "with open('hrrr_f18_Bowling Green_KY.txt') as f:\n",
    "    lst=[line.split()[1] for line in f]\n",
    "    temp=[]\n",
    "    for i in lst:\n",
    "        new=i.replace(',',\"\")\n",
    "        temp.append(new)\n",
    "    temp.pop(0)\n",
    "    temp=[float(x) for x in temp]\n",
    "    temp=temp[2196:2221]\n",
    "    #temp=temp[2015:2063]\n",
    "    print(temp)\n",
    "    ##prfloat(len(temp))\n",
    "#full time period is [2015:2112]"
   ]
  },
  {
   "cell_type": "code",
   "execution_count": 138,
   "id": "80d9d555",
   "metadata": {},
   "outputs": [
    {
     "name": "stdout",
     "output_type": "stream",
     "text": [
      "[5.85, 4.85, 3.6, 2.6500000000000004, 2.2, 1.7, 2.1500000000000004, 5.4, 7.25, 9.7, 12.25, 14.1, 14.899999999999999, 15.45, 15.850000000000001, 16.35, 15.950000000000001, 14.85, 13.649999999999999, 12.1, 10.65, 9.35, 9.1, 9.7, 10.45]\n"
     ]
    }
   ],
   "source": [
    "#Air Temp CRN:\n",
    "with open('CRNS0101-05-2022-KY_Bowling_Green_21_NNE.txt') as f:\n",
    "    lst=[line.split()[8] for line in f]\n",
    "    \n",
    "    a=(float(lst[26567])+float(lst[26568]))/2\n",
    "    b=(float(lst[26579])+float(lst[26580]))/2\n",
    "    c=(float(lst[26591])+float(lst[26592]))/2\n",
    "    d=(float(lst[26603])+float(lst[26604]))/2\n",
    "    e=(float(lst[26615])+float(lst[26616]))/2\n",
    "    f=(float(lst[26627])+float(lst[26628]))/2\n",
    "    g=(float(lst[26639])+float(lst[26640]))/2\n",
    "    h=(float(lst[26651])+float(lst[26652]))/2\n",
    "    i=(float(lst[26663])+float(lst[26664]))/2\n",
    "    j=(float(lst[26675])+float(lst[26676]))/2\n",
    "    k=(float(lst[26687])+float(lst[26688]))/2\n",
    "    l=(float(lst[26699])+float(lst[26700]))/2\n",
    "    m=(float(lst[26711])+float(lst[26712]))/2\n",
    "    n=(float(lst[26723])+float(lst[26724]))/2\n",
    "    o=(float(lst[26735])+float(lst[26736]))/2\n",
    "    p=(float(lst[26747])+float(lst[26748]))/2\n",
    "    q=(float(lst[26759])+float(lst[26760]))/2\n",
    "    r=(float(lst[26773])+float(lst[26774]))/2\n",
    "    s=(float(lst[26783])+float(lst[26784]))/2\n",
    "    t=(float(lst[26795])+float(lst[26796]))/2\n",
    "    u=(float(lst[26807])+float(lst[26808]))/2\n",
    "    v=(float(lst[26819])+float(lst[26820]))/2\n",
    "    w=(float(lst[26831])+float(lst[26832]))/2\n",
    "    x=(float(lst[26843])+float(lst[26844]))/2\n",
    "    y=(float(lst[26855])+float(lst[26856]))/2\n",
    "    \n",
    "    temp_crn=[a,b,c,d,e,f,g,h,i,j,k,l,m,n,o,p,q,r,s,t,u,v,w,x,y]\n",
    "    print(temp_crn)"
   ]
  },
  {
   "cell_type": "code",
   "execution_count": 139,
   "id": "cbe21805",
   "metadata": {},
   "outputs": [
    {
     "name": "stdout",
     "output_type": "stream",
     "text": [
      "[-0.8331499999999998, -0.3554599999999999, 0.04327999999999976, 1.0464399999999996, 0.6124699999999996, 0.24370000000000003, -0.43238000000000043, -2.2486, -2.1298500000000002, -1.968399999999999, -2.3376800000000006, -1.2492, -0.969599999999998, -0.8412999999999986, 0.05519999999999925, -0.3434000000000026, -0.3201000000000018, 0.08510000000000062, -0.6165999999999983, -0.8913999999999991, -0.3373000000000008, 0.37498000000000076, -0.6176999999999992, -1.1706399999999988, -2.553819999999999]\n"
     ]
    }
   ],
   "source": [
    "difference4_bow = []\n",
    "\n",
    "zip_object = zip(temp, temp_crn)\n",
    "for temp_i, temp_crn_i in zip_object:\n",
    "    difference4_bow.append(temp_i-temp_crn_i)\n",
    "\n",
    "print(difference4_bow)"
   ]
  },
  {
   "cell_type": "markdown",
   "id": "b962f206",
   "metadata": {},
   "source": [
    "<font size=\"3\">Gadsden, AL: 0600 UTC (12:00 am CST) 01 March 2022-0600 UTC (12:00 am CST) 02 March 2022</font>"
   ]
  },
  {
   "cell_type": "code",
   "execution_count": 140,
   "id": "e76025fd",
   "metadata": {},
   "outputs": [
    {
     "name": "stdout",
     "output_type": "stream",
     "text": [
      "[11.2043, 10.932, 10.1433, 9.25894, 8.43747, 7.3812, 6.96762, 8.3389, 10.2451, 12.3566, 14.0998, 16.1008, 17.0554, 17.8587, 18.2802, 18.5066, 17.6924, 16.8101, 14.5959, 12.9586, 11.9377, 10.975, 10.2948, 9.40436, 8.77118]\n"
     ]
    }
   ],
   "source": [
    "#1 hr hrrr:\n",
    "with open('hrrr_f18_Gadsden_AL.txt') as f:\n",
    "    lst=[line.split()[1] for line in f]\n",
    "    temp=[]\n",
    "    for i in lst:\n",
    "        new=i.replace(',',\"\")\n",
    "        temp.append(new)\n",
    "    temp.pop(0)\n",
    "    temp=[float(x) for x in temp]\n",
    "    temp=temp[2196:2221]\n",
    "#     x = np.array(temp)\n",
    "#     temp = ma.masked_array(x, mask=[0, 0, 0, 0, 0,0,0,0,1,0,0,0,0,0,0,0,0,0,0,0,0,0,0,0,0])\n",
    "    #temp=temp[2015:2063]\n",
    "    print(temp)\n",
    "    ##prfloat(len(temp))\n",
    "#full time period is [2015:2112]"
   ]
  },
  {
   "cell_type": "code",
   "execution_count": 141,
   "id": "94193a19",
   "metadata": {},
   "outputs": [
    {
     "name": "stdout",
     "output_type": "stream",
     "text": [
      "[6.3, 4.8, 5.199999999999999, 4.2, 5.65, 6.35, 6.8, 9.649999999999999, 11.1, 12.9, 14.05, 14.649999999999999, 16.05, 17.1, 17.4, 17.65, 17.55, 16.15, 13.85, 12.4, 10.8, 9.1, 6.85, 4.800000000000001, 5.35]\n"
     ]
    }
   ],
   "source": [
    "#Air Temp CRN:\n",
    "with open('CRNS0101-05-2022-AL_Gadsden_19_N.txt') as f:\n",
    "    lst=[line.split()[8] for line in f]\n",
    "    \n",
    "    a=(float(lst[26567])+float(lst[26568]))/2\n",
    "    b=(float(lst[26579])+float(lst[26580]))/2\n",
    "    c=(float(lst[26591])+float(lst[26592]))/2\n",
    "    d=(float(lst[26603])+float(lst[26604]))/2\n",
    "    e=(float(lst[26615])+float(lst[26616]))/2\n",
    "    f=(float(lst[26627])+float(lst[26628]))/2\n",
    "    g=(float(lst[26639])+float(lst[26640]))/2\n",
    "    h=(float(lst[26651])+float(lst[26652]))/2\n",
    "    i=(float(lst[26663])+float(lst[26664]))/2\n",
    "    j=(float(lst[26675])+float(lst[26676]))/2\n",
    "    k=(float(lst[26687])+float(lst[26688]))/2\n",
    "    l=(float(lst[26699])+float(lst[26700]))/2\n",
    "    m=(float(lst[26711])+float(lst[26712]))/2\n",
    "    n=(float(lst[26723])+float(lst[26724]))/2\n",
    "    o=(float(lst[26735])+float(lst[26736]))/2\n",
    "    p=(float(lst[26747])+float(lst[26748]))/2\n",
    "    q=(float(lst[26759])+float(lst[26760]))/2\n",
    "    r=(float(lst[26773])+float(lst[26774]))/2\n",
    "    s=(float(lst[26783])+float(lst[26784]))/2\n",
    "    t=(float(lst[26795])+float(lst[26796]))/2\n",
    "    u=(float(lst[26807])+float(lst[26808]))/2\n",
    "    v=(float(lst[26819])+float(lst[26820]))/2\n",
    "    w=(float(lst[26831])+float(lst[26832]))/2\n",
    "    x=(float(lst[26843])+float(lst[26844]))/2\n",
    "    y=(float(lst[26855])+float(lst[26856]))/2\n",
    "    \n",
    "    temp_crn=[a,b,c,d,e,f,g,h,i,j,k,l,m,n,o,p,q,r,s,t,u,v,w,x,y]\n",
    "    print(temp_crn)"
   ]
  },
  {
   "cell_type": "code",
   "execution_count": 142,
   "id": "fd78be39",
   "metadata": {},
   "outputs": [
    {
     "name": "stdout",
     "output_type": "stream",
     "text": [
      "[4.9043, 6.132000000000001, 4.943300000000001, 5.058940000000001, 2.787469999999999, 1.0312000000000001, 0.16762000000000032, -1.311099999999998, -0.8548999999999989, -0.5434000000000001, 0.0497999999999994, 1.450800000000001, 1.005399999999998, 0.7586999999999975, 0.8802000000000021, 0.8566000000000003, 0.14239999999999853, 0.6600999999999999, 0.7459000000000007, 0.5586000000000002, 1.1376999999999988, 1.875, 3.4448000000000008, 4.60436, 3.4211799999999997]\n"
     ]
    }
   ],
   "source": [
    "difference4_gad = []\n",
    "\n",
    "zip_object = zip(temp, temp_crn)\n",
    "for temp_i, temp_crn_i in zip_object:\n",
    "    difference4_gad.append(temp_i-temp_crn_i)\n",
    "\n",
    "print(difference4_gad)"
   ]
  },
  {
   "cell_type": "markdown",
   "id": "de9fab15",
   "metadata": {},
   "source": [
    "<font size=\"3\">Newton, GA: 0600 UTC (12:00 am CST) 01 March 2022-0600 UTC (12:00 am CST) 02 March 2022</font>"
   ]
  },
  {
   "cell_type": "code",
   "execution_count": 143,
   "id": "ee45f74b",
   "metadata": {},
   "outputs": [
    {
     "name": "stdout",
     "output_type": "stream",
     "text": [
      "[12.7043, 11.7445, 11.2683, 10.7589, 10.125, 10.3187, 10.3426, 13.7139, 16.8076, 19.2316, 20.7248, 22.4133, 23.5554, 24.7337, 25.1552, 25.3191, 25.0674, 23.6851, 20.9084, 18.4586, 16.5627, 15.4125, 14.8573, 13.7169, 12.8962]\n"
     ]
    }
   ],
   "source": [
    "#1 hr hrrr:\n",
    "with open('hrrr_f18_Newton_GA.txt') as f:\n",
    "    lst=[line.split()[1] for line in f]\n",
    "    temp=[]\n",
    "    for i in lst:\n",
    "        new=i.replace(',',\"\")\n",
    "        temp.append(new)\n",
    "    temp.pop(0)\n",
    "    temp=[float(x) for x in temp]\n",
    "    temp=temp[2196:2221]\n",
    "    #temp=temp[2015:2063]\n",
    "    print(temp)\n",
    "    ##prfloat(len(temp))\n",
    "#full time period is [2015:2112]"
   ]
  },
  {
   "cell_type": "code",
   "execution_count": 144,
   "id": "79e42b34",
   "metadata": {},
   "outputs": [
    {
     "name": "stdout",
     "output_type": "stream",
     "text": [
      "[9.649999999999999, 8.649999999999999, 8.75, 8.2, 8.45, 7.95, 8.350000000000001, 13.55, 16.299999999999997, 19.15, 20.35, 22.75, 23.4, 23.75, 24.6, 24.950000000000003, 24.85, 23.55, 20.4, 17.0, 14.8, 12.3, 11.55, 11.0, 10.0]\n"
     ]
    }
   ],
   "source": [
    "#Air Temp CRN:\n",
    "with open('CRNS0101-05-2022-GA_Newton_11_SW.txt') as f:\n",
    "    lst=[line.split()[8] for line in f]\n",
    "    \n",
    "    a=(float(lst[26567])+float(lst[26568]))/2\n",
    "    b=(float(lst[26579])+float(lst[26580]))/2\n",
    "    c=(float(lst[26591])+float(lst[26592]))/2\n",
    "    d=(float(lst[26603])+float(lst[26604]))/2\n",
    "    e=(float(lst[26615])+float(lst[26616]))/2\n",
    "    f=(float(lst[26627])+float(lst[26628]))/2\n",
    "    g=(float(lst[26639])+float(lst[26640]))/2\n",
    "    h=(float(lst[26651])+float(lst[26652]))/2\n",
    "    i=(float(lst[26663])+float(lst[26664]))/2\n",
    "    j=(float(lst[26675])+float(lst[26676]))/2\n",
    "    k=(float(lst[26687])+float(lst[26688]))/2\n",
    "    l=(float(lst[26699])+float(lst[26700]))/2\n",
    "    m=(float(lst[26711])+float(lst[26712]))/2\n",
    "    n=(float(lst[26723])+float(lst[26724]))/2\n",
    "    o=(float(lst[26735])+float(lst[26736]))/2\n",
    "    p=(float(lst[26747])+float(lst[26748]))/2\n",
    "    q=(float(lst[26759])+float(lst[26760]))/2\n",
    "    r=(float(lst[26773])+float(lst[26774]))/2\n",
    "    s=(float(lst[26783])+float(lst[26784]))/2\n",
    "    t=(float(lst[26795])+float(lst[26796]))/2\n",
    "    u=(float(lst[26807])+float(lst[26808]))/2\n",
    "    v=(float(lst[26819])+float(lst[26820]))/2\n",
    "    w=(float(lst[26831])+float(lst[26832]))/2\n",
    "    x=(float(lst[26843])+float(lst[26844]))/2\n",
    "    y=(float(lst[26855])+float(lst[26856]))/2\n",
    "    \n",
    "    temp_crn=[a,b,c,d,e,f,g,h,i,j,k,l,m,n,o,p,q,r,s,t,u,v,w,x,y]\n",
    "    print(temp_crn)"
   ]
  },
  {
   "cell_type": "code",
   "execution_count": 145,
   "id": "23233b5a",
   "metadata": {},
   "outputs": [
    {
     "name": "stdout",
     "output_type": "stream",
     "text": [
      "[3.0543000000000013, 3.094500000000002, 2.5183, 2.5589000000000013, 1.6750000000000007, 2.3686999999999996, 1.9925999999999977, 0.16389999999999993, 0.5076000000000036, 0.08160000000000167, 0.3747999999999969, -0.33670000000000044, 0.1554000000000002, 0.9836999999999989, 0.5551999999999992, 0.369099999999996, 0.21739999999999782, 0.13509999999999778, 0.5084000000000017, 1.4586000000000006, 1.7626999999999988, 3.112499999999999, 3.3072999999999997, 2.7169000000000008, 2.8962000000000003]\n"
     ]
    }
   ],
   "source": [
    "difference4_newt = []\n",
    "\n",
    "zip_object = zip(temp, temp_crn)\n",
    "for temp_i, temp_crn_i in zip_object:\n",
    "    difference4_newt.append(temp_i-temp_crn_i)\n",
    "\n",
    "print(difference4_newt)"
   ]
  },
  {
   "cell_type": "markdown",
   "id": "ab4663ab",
   "metadata": {},
   "source": [
    "<font size=\"3\">Salem, MO: 0500 UTC (12:00 am CDT) 19 April 2022-0500 UTC (12:00 am CDT) 20 April 2022</font>"
   ]
  },
  {
   "cell_type": "code",
   "execution_count": 146,
   "id": "3fe4d4d8",
   "metadata": {},
   "outputs": [
    {
     "name": "stdout",
     "output_type": "stream",
     "text": [
      "[1.10486, 0.542145, 0.24472, 0.0844421, -0.161835, -0.223541, -0.215698, 1.48685, 3.2905, 5.29208, 7.25894, 9.03424, 10.4525, 11.8652, 12.8778, 13.0588, 13.4104, 13.3111, 12.0762, 10.6087, 10.1308, 9.28384, 8.26126, 7.69431, 7.272]\n"
     ]
    }
   ],
   "source": [
    "#1 hr hrrr:\n",
    "with open('hrrr_f18_Salem_MO.txt') as f:\n",
    "    lst=[line.split()[1] for line in f]\n",
    "    temp=[]\n",
    "    for i in lst:\n",
    "        new=i.replace(',',\"\")\n",
    "        temp.append(new)\n",
    "    temp.pop(0)\n",
    "    temp=[float(x) for x in temp]\n",
    "    temp=temp[2580:2605]\n",
    "    #temp=temp[2015:2063]\n",
    "    print(temp)\n",
    "    #prfloat(len(temp))\n",
    "#full time period is [2015:2112]"
   ]
  },
  {
   "cell_type": "code",
   "execution_count": 147,
   "id": "739015b3",
   "metadata": {},
   "outputs": [
    {
     "name": "stdout",
     "output_type": "stream",
     "text": [
      "[-0.6499999999999999, 0.6, 1.9, -1.8, -3.4, -4.25, -3.7, 1.1, 4.75, 6.85, 8.850000000000001, 10.15, 12.399999999999999, 13.3, 15.05, 16.0, 16.75, 15.7, 14.350000000000001, 12.05, 12.1, 11.9, 10.8, 10.1, 9.1]\n"
     ]
    }
   ],
   "source": [
    "#Air Temp CRN:\n",
    "with open('CRNS0101-05-2022-MO_Salem_10_W.txt') as f:\n",
    "    lst=[line.split()[8] for line in f]\n",
    "    \n",
    "    a=(float(lst[31175])+float(lst[31176]))/2\n",
    "    b=(float(lst[31187])+float(lst[31188]))/2\n",
    "    c=(float(lst[31199])+float(lst[31200]))/2\n",
    "    d=(float(lst[31211])+float(lst[31212]))/2\n",
    "    e=(float(lst[31223])+float(lst[31224]))/2\n",
    "    f=(float(lst[31235])+float(lst[31236]))/2\n",
    "    g=(float(lst[31247])+float(lst[31248]))/2\n",
    "    h=(float(lst[31259])+float(lst[31260]))/2\n",
    "    i=(float(lst[31271])+float(lst[31272]))/2\n",
    "    j=(float(lst[31283])+float(lst[31284]))/2\n",
    "    k=(float(lst[31295])+float(lst[31296]))/2\n",
    "    l=(float(lst[31307])+float(lst[31308]))/2\n",
    "    m=(float(lst[31319])+float(lst[31320]))/2\n",
    "    n=(float(lst[31331])+float(lst[31332]))/2\n",
    "    o=(float(lst[31343])+float(lst[31344]))/2\n",
    "    p=(float(lst[31355])+float(lst[31356]))/2\n",
    "    q=(float(lst[31367])+float(lst[31368]))/2\n",
    "    r=(float(lst[31379])+float(lst[31380]))/2\n",
    "    s=(float(lst[31391])+float(lst[31392]))/2\n",
    "    t=(float(lst[31403])+float(lst[31404]))/2\n",
    "    u=(float(lst[31415])+float(lst[31416]))/2\n",
    "    v=(float(lst[31427])+float(lst[31428]))/2\n",
    "    w=(float(lst[31439])+float(lst[31440]))/2\n",
    "    x=(float(lst[31451])+float(lst[31452]))/2\n",
    "    y=(float(lst[31463])+float(lst[31464]))/2\n",
    "    \n",
    "    temp_crn=[a,b,c,d,e,f,g,h,i,j,k,l,m,n,o,p,q,r,s,t,u,v,w,x,y]\n",
    "    print(temp_crn)"
   ]
  },
  {
   "cell_type": "code",
   "execution_count": 148,
   "id": "631903a7",
   "metadata": {},
   "outputs": [
    {
     "name": "stdout",
     "output_type": "stream",
     "text": [
      "[1.7548599999999999, -0.05785499999999999, -1.6552799999999999, 1.8844421, 3.238165, 4.026459, 3.484302, 0.3868499999999999, -1.4594999999999998, -1.5579199999999993, -1.5910600000000015, -1.1157599999999999, -1.947499999999998, -1.434800000000001, -2.1722, -2.9412000000000003, -3.339600000000001, -2.3888999999999996, -2.2738000000000014, -1.4413, -1.969199999999999, -2.6161600000000007, -2.5387400000000007, -2.40569, -1.8279999999999994]\n"
     ]
    }
   ],
   "source": [
    "difference5_sal = []\n",
    "\n",
    "zip_object = zip(temp, temp_crn)\n",
    "for temp_i, temp_crn_i in zip_object:\n",
    "    difference5_sal.append(temp_i-temp_crn_i)\n",
    "\n",
    "print(difference5_sal)"
   ]
  },
  {
   "cell_type": "markdown",
   "id": "eb16f605",
   "metadata": {},
   "source": [
    "<font size=\"3\">Batesville, AR: 0600 UTC (12:00 am CST) 01 March 2022-0600 UTC (12:00 am CST) 02 March 2022</font>"
   ]
  },
  {
   "cell_type": "code",
   "execution_count": 149,
   "id": "5f6566a3",
   "metadata": {},
   "outputs": [
    {
     "name": "stdout",
     "output_type": "stream",
     "text": [
      "[5.72986, 4.54214, 3.93222, 3.33444, 2.96317, 2.40146, 1.8468, 4.67435, 6.978, 9.22958, 11.1339, 13.0342, 14.9525, 16.2402, 17.0653, 17.2463, 17.5354, 16.6236, 15.2637, 12.9837, 11.9433, 10.4713, 10.0113, 8.75681, 8.7095]\n"
     ]
    }
   ],
   "source": [
    "#1 hr hrrr:\n",
    "with open('hrrr_f18_Batesville_AR.txt') as f:\n",
    "    lst=[line.split()[1] for line in f]\n",
    "    temp=[]\n",
    "    for i in lst:\n",
    "        new=i.replace(',',\"\")\n",
    "        temp.append(new)\n",
    "    temp.pop(0)\n",
    "    temp=[float(x) for x in temp]\n",
    "    temp=temp[2580:2605]\n",
    "#     x = np.array(temp)\n",
    "#     temp = ma.masked_array(x, mask=[0, 0, 0, 0, 0,0,0,0,0,0,0,0,0,0,0,0,0,0,0,0,0,1,0,0,0])\n",
    "    #temp=temp[2015:2063]\n",
    "    print(temp)\n",
    "    #prfloat(len(temp))\n",
    "#full time period is [2015:2112]"
   ]
  },
  {
   "cell_type": "code",
   "execution_count": 150,
   "id": "9d4ec43c",
   "metadata": {},
   "outputs": [
    {
     "name": "stdout",
     "output_type": "stream",
     "text": [
      "[3.0, 1.65, 1.25, 0.8999999999999999, 0.2, -1.15, 0.5, 6.25, 8.0, 10.05, 11.35, 12.7, 13.7, 14.9, 15.649999999999999, 15.649999999999999, 15.55, 14.649999999999999, 13.0, 10.5, 7.8, 7.050000000000001, 8.05, 7.9, 6.65]\n"
     ]
    }
   ],
   "source": [
    "#Air Temp CRN:\n",
    "with open('CRNS0101-05-2022-AR_Batesville_8_WNW.txt') as f:\n",
    "    lst=[line.split()[8] for line in f]\n",
    "    \n",
    "    a=(float(lst[31175])+float(lst[31176]))/2\n",
    "    b=(float(lst[31187])+float(lst[31188]))/2\n",
    "    c=(float(lst[31199])+float(lst[31200]))/2\n",
    "    d=(float(lst[31211])+float(lst[31212]))/2\n",
    "    e=(float(lst[31223])+float(lst[31224]))/2\n",
    "    f=(float(lst[31235])+float(lst[31236]))/2\n",
    "    g=(float(lst[31247])+float(lst[31248]))/2\n",
    "    h=(float(lst[31259])+float(lst[31260]))/2\n",
    "    i=(float(lst[31271])+float(lst[31272]))/2\n",
    "    j=(float(lst[31283])+float(lst[31284]))/2\n",
    "    k=(float(lst[31295])+float(lst[31296]))/2\n",
    "    l=(float(lst[31307])+float(lst[31308]))/2\n",
    "    m=(float(lst[31319])+float(lst[31320]))/2\n",
    "    n=(float(lst[31331])+float(lst[31332]))/2\n",
    "    o=(float(lst[31343])+float(lst[31344]))/2\n",
    "    p=(float(lst[31355])+float(lst[31356]))/2\n",
    "    q=(float(lst[31367])+float(lst[31368]))/2\n",
    "    r=(float(lst[31379])+float(lst[31380]))/2\n",
    "    s=(float(lst[31391])+float(lst[31392]))/2\n",
    "    t=(float(lst[31403])+float(lst[31404]))/2\n",
    "    u=(float(lst[31415])+float(lst[31416]))/2\n",
    "    v=(float(lst[31427])+float(lst[31428]))/2\n",
    "    w=(float(lst[31439])+float(lst[31440]))/2\n",
    "    x=(float(lst[31451])+float(lst[31452]))/2\n",
    "    y=(float(lst[31463])+float(lst[31464]))/2\n",
    "    \n",
    "    temp_crn=[a,b,c,d,e,f,g,h,i,j,k,l,m,n,o,p,q,r,s,t,u,v,w,x,y]\n",
    "    print(temp_crn)"
   ]
  },
  {
   "cell_type": "code",
   "execution_count": 151,
   "id": "32ec4102",
   "metadata": {},
   "outputs": [
    {
     "name": "stdout",
     "output_type": "stream",
     "text": [
      "[2.7298600000000004, 2.89214, 2.68222, 2.43444, 2.7631699999999997, 3.55146, 1.3468, -1.5756500000000004, -1.0220000000000002, -0.8204200000000004, -0.21609999999999907, 0.33420000000000094, 1.2525000000000013, 1.3402000000000012, 1.415300000000002, 1.596300000000003, 1.9853999999999985, 1.9736000000000011, 2.2637, 2.4837000000000007, 4.143300000000001, 3.4212999999999987, 1.9612999999999996, 0.8568099999999994, 2.0595]\n"
     ]
    }
   ],
   "source": [
    "difference5_bat = []\n",
    "\n",
    "zip_object = zip(temp, temp_crn)\n",
    "for temp_i, temp_crn_i in zip_object:\n",
    "    difference5_bat.append(temp_i-temp_crn_i)\n",
    "\n",
    "print(difference5_bat)"
   ]
  },
  {
   "cell_type": "markdown",
   "id": "ab0f4798",
   "metadata": {},
   "source": [
    "<font size=\"3\">Lafayette, LA: 0600 UTC (12:00 am CST) 01 March 2022-0600 UTC (12:00 am CST) 02 March 2022</font>"
   ]
  },
  {
   "cell_type": "code",
   "execution_count": 152,
   "id": "bf4ca647",
   "metadata": {},
   "outputs": [
    {
     "name": "stdout",
     "output_type": "stream",
     "text": [
      "[12.9799, 12.4796, 11.8697, 11.5844, 11.2132, 11.089, 11.0968, 13.2368, 15.228, 17.1671, 19.6964, 21.5342, 23.015, 23.9902, 24.8153, 24.8088, 24.7854, 23.9986, 23.0762, 20.7337, 18.8183, 17.7213, 16.8238, 16.0693, 15.9595]\n"
     ]
    }
   ],
   "source": [
    "#1 hr hrrr:\n",
    "with open('hrrr_f18_Lafayette_LA.txt') as f:\n",
    "    lst=[line.split()[1] for line in f]\n",
    "    temp=[]\n",
    "    for i in lst:\n",
    "        new=i.replace(',',\"\")\n",
    "        temp.append(new)\n",
    "    temp.pop(0)\n",
    "    temp=[float(x) for x in temp]\n",
    "    temp=temp[2580:2605]\n",
    "    #temp=temp[2015:2063]\n",
    "    print(temp)\n",
    "    ##prfloat(len(temp))\n",
    "#full time period is [2015:2112]"
   ]
  },
  {
   "cell_type": "code",
   "execution_count": 153,
   "id": "a94179a0",
   "metadata": {},
   "outputs": [
    {
     "name": "stdout",
     "output_type": "stream",
     "text": [
      "[13.149999999999999, 12.3, 11.5, 10.75, 10.9, 10.7, 10.850000000000001, 13.0, 15.399999999999999, 17.15, 18.65, 19.9, 20.6, 21.7, 22.35, 22.65, 21.950000000000003, 22.15, 19.95, 16.950000000000003, 16.65, 14.899999999999999, 14.75, 13.55, 13.95]\n"
     ]
    }
   ],
   "source": [
    "#Air Temp CRN:\n",
    "with open('CRNS0101-05-2022-LA_Lafayette_13_SE.txt') as f:\n",
    "    lst=[line.split()[8] for line in f]\n",
    "    \n",
    "    a=(float(lst[31175])+float(lst[31176]))/2\n",
    "    b=(float(lst[31187])+float(lst[31188]))/2\n",
    "    c=(float(lst[31199])+float(lst[31200]))/2\n",
    "    d=(float(lst[31211])+float(lst[31212]))/2\n",
    "    e=(float(lst[31223])+float(lst[31224]))/2\n",
    "    f=(float(lst[31235])+float(lst[31236]))/2\n",
    "    g=(float(lst[31247])+float(lst[31248]))/2\n",
    "    h=(float(lst[31259])+float(lst[31260]))/2\n",
    "    i=(float(lst[31271])+float(lst[31272]))/2\n",
    "    j=(float(lst[31283])+float(lst[31284]))/2\n",
    "    k=(float(lst[31295])+float(lst[31296]))/2\n",
    "    l=(float(lst[31307])+float(lst[31308]))/2\n",
    "    m=(float(lst[31319])+float(lst[31320]))/2\n",
    "    n=(float(lst[31331])+float(lst[31332]))/2\n",
    "    o=(float(lst[31343])+float(lst[31344]))/2\n",
    "    p=(float(lst[31355])+float(lst[31356]))/2\n",
    "    q=(float(lst[31367])+float(lst[31368]))/2\n",
    "    r=(float(lst[31379])+float(lst[31380]))/2\n",
    "    s=(float(lst[31391])+float(lst[31392]))/2\n",
    "    t=(float(lst[31403])+float(lst[31404]))/2\n",
    "    u=(float(lst[31415])+float(lst[31416]))/2\n",
    "    v=(float(lst[31427])+float(lst[31428]))/2\n",
    "    w=(float(lst[31439])+float(lst[31440]))/2\n",
    "    x=(float(lst[31451])+float(lst[31452]))/2\n",
    "    y=(float(lst[31463])+float(lst[31464]))/2\n",
    "    \n",
    "    temp_crn=[a,b,c,d,e,f,g,h,i,j,k,l,m,n,o,p,q,r,s,t,u,v,w,x,y]\n",
    "    print(temp_crn)"
   ]
  },
  {
   "cell_type": "code",
   "execution_count": 154,
   "id": "482bd1ef",
   "metadata": {},
   "outputs": [
    {
     "name": "stdout",
     "output_type": "stream",
     "text": [
      "[-0.17009999999999792, 0.17959999999999887, 0.3696999999999999, 0.8344000000000005, 0.31320000000000014, 0.3890000000000011, 0.24679999999999858, 0.23680000000000057, -0.17199999999999882, 0.01710000000000278, 1.046400000000002, 1.6341999999999999, 2.414999999999999, 2.2902000000000022, 2.465299999999999, 2.158800000000003, 2.8353999999999964, 1.8486000000000011, 3.1262000000000008, 3.783699999999996, 2.168300000000002, 2.821300000000001, 2.0737999999999985, 2.5192999999999977, 2.009500000000001]\n"
     ]
    }
   ],
   "source": [
    "difference5_laf = []\n",
    "\n",
    "zip_object = zip(temp, temp_crn)\n",
    "for temp_i, temp_crn_i in zip_object:\n",
    "    difference5_laf.append(temp_i-temp_crn_i)\n",
    "\n",
    "print(difference5_laf)"
   ]
  },
  {
   "cell_type": "markdown",
   "id": "de00e832",
   "metadata": {},
   "source": [
    "<font size=\"3\">Monroe, LA: 0600 UTC (12:00 am CST) 01 March 2022-0600 UTC (12:00 am CST) 02 March 2022</font>"
   ]
  },
  {
   "cell_type": "code",
   "execution_count": 155,
   "id": "4e202ed7",
   "metadata": {},
   "outputs": [
    {
     "name": "stdout",
     "output_type": "stream",
     "text": [
      "[9.29236, 8.22964, 8.36972, 8.20944, 7.40067, 7.15146, 6.8468, 9.11185, 10.978, 12.7296, 14.3214, 15.9717, 17.39, 18.4902, 19.5653, 19.8713, 20.2229, 19.4986, 18.5137, 15.9212, 14.5058, 13.2213, 12.5738, 12.3818, 11.147]\n"
     ]
    }
   ],
   "source": [
    "#1 hr hrrr:\n",
    "with open('hrrr_f18_Monroe_LA.txt') as f:\n",
    "    lst=[line.split()[1] for line in f]\n",
    "    temp=[]\n",
    "    for i in lst:\n",
    "        new=i.replace(',',\"\")\n",
    "        temp.append(new)\n",
    "    temp.pop(0)\n",
    "    temp=[float(x) for x in temp]\n",
    "    temp=temp[2580:2605]\n",
    "    #temp=temp[2015:2063]\n",
    "    print(temp)\n",
    "    ##prfloat(len(temp))\n",
    "#full time period is [2015:2112]"
   ]
  },
  {
   "cell_type": "code",
   "execution_count": 156,
   "id": "4e6ab640",
   "metadata": {},
   "outputs": [
    {
     "name": "stdout",
     "output_type": "stream",
     "text": [
      "[9.350000000000001, 8.6, 8.1, 7.5, 7.7, 9.1, 10.100000000000001, 11.649999999999999, 12.7, 14.350000000000001, 15.2, 15.95, 17.299999999999997, 17.9, 18.35, 19.15, 19.299999999999997, 18.5, 17.049999999999997, 12.25, 10.850000000000001, 10.1, 10.1, 12.5, 10.7]\n"
     ]
    }
   ],
   "source": [
    "#Air Temp CRN:\n",
    "with open('CRNS0101-05-2022-LA_Monroe_26_N.txt') as f:\n",
    "    lst=[line.split()[8] for line in f]\n",
    "    \n",
    "    a=(float(lst[31175])+float(lst[31176]))/2\n",
    "    b=(float(lst[31187])+float(lst[31188]))/2\n",
    "    c=(float(lst[31199])+float(lst[31200]))/2\n",
    "    d=(float(lst[31211])+float(lst[31212]))/2\n",
    "    e=(float(lst[31223])+float(lst[31224]))/2\n",
    "    f=(float(lst[31235])+float(lst[31236]))/2\n",
    "    g=(float(lst[31247])+float(lst[31248]))/2\n",
    "    h=(float(lst[31259])+float(lst[31260]))/2\n",
    "    i=(float(lst[31271])+float(lst[31272]))/2\n",
    "    j=(float(lst[31283])+float(lst[31284]))/2\n",
    "    k=(float(lst[31295])+float(lst[31296]))/2\n",
    "    l=(float(lst[31307])+float(lst[31308]))/2\n",
    "    m=(float(lst[31319])+float(lst[31320]))/2\n",
    "    n=(float(lst[31331])+float(lst[31332]))/2\n",
    "    o=(float(lst[31343])+float(lst[31344]))/2\n",
    "    p=(float(lst[31355])+float(lst[31356]))/2\n",
    "    q=(float(lst[31367])+float(lst[31368]))/2\n",
    "    r=(float(lst[31379])+float(lst[31380]))/2\n",
    "    s=(float(lst[31391])+float(lst[31392]))/2\n",
    "    t=(float(lst[31403])+float(lst[31404]))/2\n",
    "    u=(float(lst[31415])+float(lst[31416]))/2\n",
    "    v=(float(lst[31427])+float(lst[31428]))/2\n",
    "    w=(float(lst[31439])+float(lst[31440]))/2\n",
    "    x=(float(lst[31451])+float(lst[31452]))/2\n",
    "    y=(float(lst[31463])+float(lst[31464]))/2\n",
    "    \n",
    "    temp_crn=[a,b,c,d,e,f,g,h,i,j,k,l,m,n,o,p,q,r,s,t,u,v,w,x,y]\n",
    "    print(temp_crn)"
   ]
  },
  {
   "cell_type": "code",
   "execution_count": 157,
   "id": "461ef9d6",
   "metadata": {},
   "outputs": [
    {
     "name": "stdout",
     "output_type": "stream",
     "text": [
      "[-0.057640000000001024, -0.3703599999999998, 0.2697199999999995, 0.7094400000000007, -0.2993300000000003, -1.9485399999999995, -3.2532000000000014, -2.538149999999998, -1.7219999999999995, -1.6204000000000018, -0.8785999999999987, 0.02170000000000094, 0.09000000000000341, 0.590200000000003, 1.2152999999999992, 0.7213000000000029, 0.922900000000002, 0.9985999999999997, 1.4637000000000029, 3.6712000000000007, 3.6557999999999993, 3.1212999999999997, 2.4738000000000007, -0.11819999999999986, 0.44700000000000095]\n"
     ]
    }
   ],
   "source": [
    "difference5_mon = []\n",
    "\n",
    "zip_object = zip(temp, temp_crn)\n",
    "for temp_i, temp_crn_i in zip_object:\n",
    "    difference5_mon.append(temp_i-temp_crn_i)\n",
    "\n",
    "print(difference5_mon)"
   ]
  },
  {
   "cell_type": "markdown",
   "id": "10c3e262",
   "metadata": {},
   "source": [
    "<font size=\"3\">Holly Springs, MS: 0600 UTC (12:00 am CST) 01 March 2022-0600 UTC (12:00 am CST) 02 March 2022</font>"
   ]
  },
  {
   "cell_type": "code",
   "execution_count": 158,
   "id": "02dfc76f",
   "metadata": {},
   "outputs": [
    {
     "name": "stdout",
     "output_type": "stream",
     "text": [
      "[6.10486, 5.22964, 4.68222, 4.08444, 3.52567, 3.08896, 3.0968, 5.36185, 6.9155, 8.41708, 10.0089, 11.2217, 12.515, 13.8652, 14.8153, 15.3088, 15.5979, 15.1236, 13.7637, 11.2962, 10.6933, 9.59634, 9.01126, 8.38181, 7.647]\n"
     ]
    }
   ],
   "source": [
    "#1 hr hrrr:\n",
    "with open('hrrr_f18_Holly Springs_MS.txt') as f:\n",
    "    lst=[line.split()[1] for line in f]\n",
    "    temp=[]\n",
    "    for i in lst:\n",
    "        new=i.replace(',',\"\")\n",
    "        temp.append(new)\n",
    "    temp.pop(0)\n",
    "    temp=[float(x) for x in temp]\n",
    "    temp=temp[2580:2605]\n",
    "    #temp=temp[2015:2063]\n",
    "    print(temp)\n",
    "    ##prfloat(len(temp))\n",
    "#full time period is [2015:2112]"
   ]
  },
  {
   "cell_type": "code",
   "execution_count": 159,
   "id": "f0bb8bfb",
   "metadata": {},
   "outputs": [
    {
     "name": "stdout",
     "output_type": "stream",
     "text": [
      "[3.4, 3.5, 2.8, 1.85, 1.0, -0.15000000000000002, 0.25, 6.699999999999999, 8.850000000000001, 10.350000000000001, 11.75, 12.85, 14.05, 15.35, 16.450000000000003, 16.6, 17.0, 17.05, 13.7, 9.350000000000001, 6.9, 5.85, 4.85, 4.35, 4.8]\n"
     ]
    }
   ],
   "source": [
    "#Air Temp CRN:\n",
    "with open('CRNS0101-05-2022-MS_Holly_Springs_4_N.txt') as f:\n",
    "    lst=[line.split()[8] for line in f]\n",
    "    \n",
    "    a=(float(lst[31175])+float(lst[31176]))/2\n",
    "    b=(float(lst[31187])+float(lst[31188]))/2\n",
    "    c=(float(lst[31199])+float(lst[31200]))/2\n",
    "    d=(float(lst[31211])+float(lst[31212]))/2\n",
    "    e=(float(lst[31223])+float(lst[31224]))/2\n",
    "    f=(float(lst[31235])+float(lst[31236]))/2\n",
    "    g=(float(lst[31247])+float(lst[31248]))/2\n",
    "    h=(float(lst[31259])+float(lst[31260]))/2\n",
    "    i=(float(lst[31271])+float(lst[31272]))/2\n",
    "    j=(float(lst[31283])+float(lst[31284]))/2\n",
    "    k=(float(lst[31295])+float(lst[31296]))/2\n",
    "    l=(float(lst[31307])+float(lst[31308]))/2\n",
    "    m=(float(lst[31319])+float(lst[31320]))/2\n",
    "    n=(float(lst[31331])+float(lst[31332]))/2\n",
    "    o=(float(lst[31343])+float(lst[31344]))/2\n",
    "    p=(float(lst[31355])+float(lst[31356]))/2\n",
    "    q=(float(lst[31367])+float(lst[31368]))/2\n",
    "    r=(float(lst[31379])+float(lst[31380]))/2\n",
    "    s=(float(lst[31391])+float(lst[31392]))/2\n",
    "    t=(float(lst[31403])+float(lst[31404]))/2\n",
    "    u=(float(lst[31415])+float(lst[31416]))/2\n",
    "    v=(float(lst[31427])+float(lst[31428]))/2\n",
    "    w=(float(lst[31439])+float(lst[31440]))/2\n",
    "    x=(float(lst[31451])+float(lst[31452]))/2\n",
    "    y=(float(lst[31463])+float(lst[31464]))/2\n",
    "    \n",
    "    temp_crn=[a,b,c,d,e,f,g,h,i,j,k,l,m,n,o,p,q,r,s,t,u,v,w,x,y]\n",
    "    print(temp_crn)"
   ]
  },
  {
   "cell_type": "code",
   "execution_count": 160,
   "id": "33e182d5",
   "metadata": {},
   "outputs": [
    {
     "name": "stdout",
     "output_type": "stream",
     "text": [
      "[2.7048600000000005, 1.7296399999999998, 1.8822200000000002, 2.2344399999999998, 2.52567, 3.23896, 2.8468, -1.3381499999999997, -1.9345000000000017, -1.932920000000001, -1.7410999999999994, -1.6282999999999994, -1.5350000000000001, -1.4848, -1.6347000000000023, -1.2912000000000017, -1.4021000000000008, -1.926400000000001, 0.06370000000000076, 1.9461999999999993, 3.7933000000000003, 3.74634, 4.16126, 4.03181, 2.8470000000000004]\n"
     ]
    }
   ],
   "source": [
    "difference5_hol = []\n",
    "\n",
    "zip_object = zip(temp, temp_crn)\n",
    "for temp_i, temp_crn_i in zip_object:\n",
    "    difference5_hol.append(temp_i-temp_crn_i)\n",
    "\n",
    "print(difference5_hol)"
   ]
  },
  {
   "cell_type": "markdown",
   "id": "c3611246",
   "metadata": {},
   "source": [
    "<font size=\"3\">Newton, MS: 0600 UTC (12:00 am CST) 01 March 2022-0600 UTC (12:00 am CST) 02 March 2022</font>"
   ]
  },
  {
   "cell_type": "code",
   "execution_count": 161,
   "id": "c9844209",
   "metadata": {},
   "outputs": [
    {
     "name": "stdout",
     "output_type": "stream",
     "text": [
      "[9.97986, 9.04214, 8.43222, 7.95944, 7.52567, 7.21396, 6.7218, 8.54935, 10.1655, 11.4796, 13.0714, 14.3467, 15.5775, 16.9277, 18.0653, 18.4963, 18.6604, 18.3736, 16.9512, 14.4212, 13.1308, 11.9713, 11.1988, 10.3193, 9.7095]\n"
     ]
    }
   ],
   "source": [
    "#1 hr hrrr:\n",
    "with open('hrrr_f18_Newton_MS.txt') as f:\n",
    "    lst=[line.split()[1] for line in f]\n",
    "    temp=[]\n",
    "    for i in lst:\n",
    "        new=i.replace(',',\"\")\n",
    "        temp.append(new)\n",
    "    temp.pop(0)\n",
    "    temp=[float(x) for x in temp]\n",
    "    temp=temp[2580:2605]\n",
    "    #temp=temp[2015:2063]\n",
    "    print(temp)\n",
    "    ##prfloat(len(temp))\n",
    "#full time period is [2015:2112]"
   ]
  },
  {
   "cell_type": "code",
   "execution_count": 162,
   "id": "e52605db",
   "metadata": {},
   "outputs": [
    {
     "name": "stdout",
     "output_type": "stream",
     "text": [
      "[8.3, 7.35, 7.2, 6.45, 5.65, 5.05, 5.5, 9.2, 11.15, 12.4, 13.8, 14.8, 16.1, 17.35, 18.25, 18.55, 19.0, 18.6, 15.5, 11.85, 9.8, 8.55, 7.95, 7.45, 6.7]\n"
     ]
    }
   ],
   "source": [
    "#Air Temp CRN:\n",
    "with open('CRNS0101-05-2022-MS_Newton_5_ENE.txt') as f:\n",
    "    lst=[line.split()[8] for line in f]\n",
    "    \n",
    "    a=(float(lst[31175])+float(lst[31176]))/2\n",
    "    b=(float(lst[31187])+float(lst[31188]))/2\n",
    "    c=(float(lst[31199])+float(lst[31200]))/2\n",
    "    d=(float(lst[31211])+float(lst[31212]))/2\n",
    "    e=(float(lst[31223])+float(lst[31224]))/2\n",
    "    f=(float(lst[31235])+float(lst[31236]))/2\n",
    "    g=(float(lst[31247])+float(lst[31248]))/2\n",
    "    h=(float(lst[31259])+float(lst[31260]))/2\n",
    "    i=(float(lst[31271])+float(lst[31272]))/2\n",
    "    j=(float(lst[31283])+float(lst[31284]))/2\n",
    "    k=(float(lst[31295])+float(lst[31296]))/2\n",
    "    l=(float(lst[31307])+float(lst[31308]))/2\n",
    "    m=(float(lst[31319])+float(lst[31320]))/2\n",
    "    n=(float(lst[31331])+float(lst[31332]))/2\n",
    "    o=(float(lst[31343])+float(lst[31344]))/2\n",
    "    p=(float(lst[31355])+float(lst[31356]))/2\n",
    "    q=(float(lst[31367])+float(lst[31368]))/2\n",
    "    r=(float(lst[31379])+float(lst[31380]))/2\n",
    "    s=(float(lst[31391])+float(lst[31392]))/2\n",
    "    t=(float(lst[31403])+float(lst[31404]))/2\n",
    "    u=(float(lst[31415])+float(lst[31416]))/2\n",
    "    v=(float(lst[31427])+float(lst[31428]))/2\n",
    "    w=(float(lst[31439])+float(lst[31440]))/2\n",
    "    x=(float(lst[31451])+float(lst[31452]))/2\n",
    "    y=(float(lst[31463])+float(lst[31464]))/2\n",
    "    \n",
    "    temp_crn=[a,b,c,d,e,f,g,h,i,j,k,l,m,n,o,p,q,r,s,t,u,v,w,x,y]\n",
    "    print(temp_crn)"
   ]
  },
  {
   "cell_type": "code",
   "execution_count": 163,
   "id": "26f39b75",
   "metadata": {},
   "outputs": [
    {
     "name": "stdout",
     "output_type": "stream",
     "text": [
      "[1.6798599999999997, 1.6921400000000002, 1.232219999999999, 1.5094399999999997, 1.8756699999999995, 2.1639600000000003, 1.2218, -0.6506499999999988, -0.9845000000000006, -0.9204000000000008, -0.7286000000000001, -0.4533000000000005, -0.5225000000000009, -0.4222999999999999, -0.18469999999999942, -0.05369999999999919, -0.3396000000000008, -0.2264000000000017, 1.4512, 2.571200000000001, 3.3308, 3.4212999999999987, 3.2488, 2.8693, 3.0095]\n"
     ]
    }
   ],
   "source": [
    "difference5_new = []\n",
    "\n",
    "zip_object = zip(temp, temp_crn)\n",
    "for temp_i, temp_crn_i in zip_object:\n",
    "    difference5_new.append(temp_i-temp_crn_i)\n",
    "\n",
    "print(difference5_new)"
   ]
  },
  {
   "cell_type": "markdown",
   "id": "35f6ffe5",
   "metadata": {},
   "source": [
    "<font size=\"3\">Gainesville, AL: 0600 UTC (12:00 am CST) 01 March 2022-0600 UTC (12:00 am CST) 02 March 2022</font>"
   ]
  },
  {
   "cell_type": "code",
   "execution_count": 164,
   "id": "d2bd1457",
   "metadata": {},
   "outputs": [
    {
     "name": "stdout",
     "output_type": "stream",
     "text": [
      "[9.47986, 8.85464, 8.11972, 7.52194, 7.08817, 6.52646, 6.5968, 8.54935, 10.0405, 11.0421, 12.5714, 13.4092, 14.39, 15.3652, 16.1278, 16.6213, 16.8479, 16.1236, 15.1387, 13.7962, 12.7558, 11.5338, 10.5113, 9.81931, 8.8345]\n"
     ]
    }
   ],
   "source": [
    "#1 hr hrrr:\n",
    "with open('hrrr_f18_Gainesville_AL (1).txt') as f:\n",
    "    lst=[line.split()[1] for line in f]\n",
    "    temp=[]\n",
    "    for i in lst:\n",
    "        new=i.replace(',',\"\")\n",
    "        temp.append(new)\n",
    "    temp.pop(0)\n",
    "    temp=[float(x) for x in temp]\n",
    "    temp=temp[2580:2605]\n",
    "    #temp=temp[2015:2063]\n",
    "    print(temp)\n",
    "    ##prfloat(len(temp))\n",
    "#full time period is [2015:2112]"
   ]
  },
  {
   "cell_type": "code",
   "execution_count": 165,
   "id": "7d4ad874",
   "metadata": {},
   "outputs": [
    {
     "name": "stdout",
     "output_type": "stream",
     "text": [
      "[9.350000000000001, 7.65, 7.85, 6.05, 5.9, 5.8, 7.15, 8.9, 11.05, 12.649999999999999, 13.8, 15.149999999999999, 15.850000000000001, 17.1, 17.95, 18.15, 18.25, 18.0, 15.2, 11.8, 10.4, 9.4, 8.85, 8.4, 7.85]\n"
     ]
    }
   ],
   "source": [
    "#Air Temp CRN:\n",
    "with open('CRNS0101-05-2022-AL_Gainesville_2_NE.txt') as f:\n",
    "    lst=[line.split()[8] for line in f]\n",
    "    \n",
    "    a=(float(lst[31175])+float(lst[31176]))/2\n",
    "    b=(float(lst[31187])+float(lst[31188]))/2\n",
    "    c=(float(lst[31199])+float(lst[31200]))/2\n",
    "    d=(float(lst[31211])+float(lst[31212]))/2\n",
    "    e=(float(lst[31223])+float(lst[31224]))/2\n",
    "    f=(float(lst[31235])+float(lst[31236]))/2\n",
    "    g=(float(lst[31247])+float(lst[31248]))/2\n",
    "    h=(float(lst[31259])+float(lst[31260]))/2\n",
    "    i=(float(lst[31271])+float(lst[31272]))/2\n",
    "    j=(float(lst[31283])+float(lst[31284]))/2\n",
    "    k=(float(lst[31295])+float(lst[31296]))/2\n",
    "    l=(float(lst[31307])+float(lst[31308]))/2\n",
    "    m=(float(lst[31319])+float(lst[31320]))/2\n",
    "    n=(float(lst[31331])+float(lst[31332]))/2\n",
    "    o=(float(lst[31343])+float(lst[31344]))/2\n",
    "    p=(float(lst[31355])+float(lst[31356]))/2\n",
    "    q=(float(lst[31367])+float(lst[31368]))/2\n",
    "    r=(float(lst[31379])+float(lst[31380]))/2\n",
    "    s=(float(lst[31391])+float(lst[31392]))/2\n",
    "    t=(float(lst[31403])+float(lst[31404]))/2\n",
    "    u=(float(lst[31415])+float(lst[31416]))/2\n",
    "    v=(float(lst[31427])+float(lst[31428]))/2\n",
    "    w=(float(lst[31439])+float(lst[31440]))/2\n",
    "    x=(float(lst[31451])+float(lst[31452]))/2\n",
    "    y=(float(lst[31463])+float(lst[31464]))/2\n",
    "    \n",
    "    temp_crn=[a,b,c,d,e,f,g,h,i,j,k,l,m,n,o,p,q,r,s,t,u,v,w,x,y]\n",
    "    print(temp_crn)"
   ]
  },
  {
   "cell_type": "code",
   "execution_count": 166,
   "id": "8356bd44",
   "metadata": {},
   "outputs": [
    {
     "name": "stdout",
     "output_type": "stream",
     "text": [
      "[0.12985999999999898, 1.2046399999999995, 0.2697199999999995, 1.47194, 1.1881699999999995, 0.7264600000000003, -0.5532000000000004, -0.3506499999999999, -1.009500000000001, -1.607899999999999, -1.2286000000000001, -1.7407999999999983, -1.4600000000000009, -1.7348000000000017, -1.8221999999999987, -1.528699999999997, -1.4021000000000008, -1.8764000000000003, -0.061299999999999244, 1.9962, 2.3558000000000003, 2.133799999999999, 1.6613000000000007, 1.4193099999999994, 0.9845000000000006]\n"
     ]
    }
   ],
   "source": [
    "difference5_gai = []\n",
    "\n",
    "zip_object = zip(temp, temp_crn)\n",
    "for temp_i, temp_crn_i in zip_object:\n",
    "    difference5_gai.append(temp_i-temp_crn_i)\n",
    "\n",
    "print(difference5_gai)"
   ]
  },
  {
   "cell_type": "markdown",
   "id": "fb46ce72",
   "metadata": {},
   "source": [
    "<font size=\"3\">Fairhope, AL: 0600 UTC (12:00 am CST) 01 March 2022-0600 UTC (12:00 am CST) 02 March 2022</font>"
   ]
  },
  {
   "cell_type": "code",
   "execution_count": 167,
   "id": "eb7efbb3",
   "metadata": {},
   "outputs": [
    {
     "name": "stdout",
     "output_type": "stream",
     "text": [
      "[12.2299, 11.3546, 10.9947, 10.2719, 9.96317, 9.58896, 9.9093, 11.1743, 12.603, 14.2921, 16.1964, 17.3467, 18.9525, 19.9902, 20.8778, 20.9963, 20.9104, 19.4986, 18.0137, 16.2337, 15.1933, 14.0338, 13.1363, 12.5068, 12.147]\n"
     ]
    }
   ],
   "source": [
    "#1 hr hrrr:\n",
    "with open('hrrr_f18_Fairhope_AL.txt') as f:\n",
    "    lst=[line.split()[1] for line in f]\n",
    "    temp=[]\n",
    "    for i in lst:\n",
    "        new=i.replace(',',\"\")\n",
    "        temp.append(new)\n",
    "    temp.pop(0)\n",
    "    temp=[float(x) for x in temp]\n",
    "    temp=temp[2580:2605]\n",
    "    #temp=temp[2015:2063]\n",
    "    print(temp)\n",
    "    ##prfloat(len(temp))\n",
    "#full time period is [2015:2112]"
   ]
  },
  {
   "cell_type": "code",
   "execution_count": 168,
   "id": "02193ad1",
   "metadata": {},
   "outputs": [
    {
     "name": "stdout",
     "output_type": "stream",
     "text": [
      "[12.25, 11.15, 12.149999999999999, 11.850000000000001, 10.6, 9.7, 9.8, 11.45, 13.399999999999999, 15.3, 16.6, 17.950000000000003, 19.25, 20.2, 20.85, 21.3, 21.1, 20.4, 17.6, 14.149999999999999, 12.55, 10.45, 9.55, 8.8, 8.55]\n"
     ]
    }
   ],
   "source": [
    "#Air Temp CRN:\n",
    "with open('CRNS0101-05-2022-AL_Fairhope_3_NE.txt') as f:\n",
    "    lst=[line.split()[8] for line in f]\n",
    "    \n",
    "    a=(float(lst[31175])+float(lst[31176]))/2\n",
    "    b=(float(lst[31187])+float(lst[31188]))/2\n",
    "    c=(float(lst[31199])+float(lst[31200]))/2\n",
    "    d=(float(lst[31211])+float(lst[31212]))/2\n",
    "    e=(float(lst[31223])+float(lst[31224]))/2\n",
    "    f=(float(lst[31235])+float(lst[31236]))/2\n",
    "    g=(float(lst[31247])+float(lst[31248]))/2\n",
    "    h=(float(lst[31259])+float(lst[31260]))/2\n",
    "    i=(float(lst[31271])+float(lst[31272]))/2\n",
    "    j=(float(lst[31283])+float(lst[31284]))/2\n",
    "    k=(float(lst[31295])+float(lst[31296]))/2\n",
    "    l=(float(lst[31307])+float(lst[31308]))/2\n",
    "    m=(float(lst[31319])+float(lst[31320]))/2\n",
    "    n=(float(lst[31331])+float(lst[31332]))/2\n",
    "    o=(float(lst[31343])+float(lst[31344]))/2\n",
    "    p=(float(lst[31355])+float(lst[31356]))/2\n",
    "    q=(float(lst[31367])+float(lst[31368]))/2\n",
    "    r=(float(lst[31379])+float(lst[31380]))/2\n",
    "    s=(float(lst[31391])+float(lst[31392]))/2\n",
    "    t=(float(lst[31403])+float(lst[31404]))/2\n",
    "    u=(float(lst[31415])+float(lst[31416]))/2\n",
    "    v=(float(lst[31427])+float(lst[31428]))/2\n",
    "    w=(float(lst[31439])+float(lst[31440]))/2\n",
    "    x=(float(lst[31451])+float(lst[31452]))/2\n",
    "    y=(float(lst[31463])+float(lst[31464]))/2\n",
    "    \n",
    "    temp_crn=[a,b,c,d,e,f,g,h,i,j,k,l,m,n,o,p,q,r,s,t,u,v,w,x,y]\n",
    "    print(temp_crn)"
   ]
  },
  {
   "cell_type": "code",
   "execution_count": 169,
   "id": "27eb4d35",
   "metadata": {},
   "outputs": [
    {
     "name": "stdout",
     "output_type": "stream",
     "text": [
      "[-0.02009999999999934, 0.20459999999999923, -1.1552999999999987, -1.578100000000001, -0.6368299999999998, -0.11103999999999914, 0.10929999999999929, -0.2756999999999987, -0.7969999999999988, -1.0079000000000011, -0.40360000000000085, -0.6033000000000044, -0.29749999999999943, -0.20979999999999777, 0.02779999999999916, -0.3036999999999992, -0.1896000000000022, -0.9013999999999989, 0.4136999999999986, 2.0837000000000003, 2.6433, 3.5838, 3.5862999999999996, 3.7067999999999994, 3.5969999999999995]\n"
     ]
    }
   ],
   "source": [
    "difference5_fai = []\n",
    "\n",
    "zip_object = zip(temp, temp_crn)\n",
    "for temp_i, temp_crn_i in zip_object:\n",
    "    difference5_fai.append(temp_i-temp_crn_i)\n",
    "\n",
    "print(difference5_fai)"
   ]
  },
  {
   "cell_type": "markdown",
   "id": "26ae7516",
   "metadata": {},
   "source": [
    "<font size=\"3\">**Selma, AL: 0600 UTC (12:00 am CST) 01 March 2022-0600 UTC (12:00 am CST) 02 March 2022</font>"
   ]
  },
  {
   "cell_type": "code",
   "execution_count": 170,
   "id": "bb3e0d4e",
   "metadata": {},
   "outputs": [
    {
     "name": "stdout",
     "output_type": "stream",
     "text": [
      "[9.60486, 8.85464, 7.93222, 7.58444, 6.90067, 6.52646, 6.8468, 8.73685, 10.1655, 11.3546, 12.7589, 13.6592, 14.7025, 15.6777, 16.1903, 16.6838, 16.7229, 15.8111, 14.7012, 13.2337, 12.1308, 11.2213, 10.1988, 9.38181, 8.8345]\n"
     ]
    }
   ],
   "source": [
    "#1 hr hrrr:\n",
    "import numpy as np\n",
    "import numpy.ma as ma\n",
    "with open('hrrr_f18_Selma_AL.txt') as f:\n",
    "    lst=[line.split()[1] for line in f]\n",
    "    temp=[]\n",
    "    for i in lst:\n",
    "        new=i.replace(',',\"\")\n",
    "        temp.append(new)\n",
    "    temp.pop(0)\n",
    "    temp=[float(x) for x in temp]\n",
    "    temp=temp[2580:2605]\n",
    "\n",
    "#     x = np.array(temp)\n",
    "#     temp = ma.masked_array(x, mask=[0, 0, 0, 0, 0,0,0,0,0,0,0,0,0,0,0,0,0,1,1,1,1,0,0,0,0])\n",
    "    print(temp)"
   ]
  },
  {
   "cell_type": "code",
   "execution_count": 171,
   "id": "61d838c0",
   "metadata": {},
   "outputs": [
    {
     "name": "stdout",
     "output_type": "stream",
     "text": [
      "[10.6, 9.05, 7.75, 6.449999999999999, 5.85, 4.95, 6.2, 9.35, 11.25, 12.7, 14.0, 15.149999999999999, 16.0, 17.35, 18.2, 18.8, 19.05, 18.55, 14.350000000000001, 11.3, 9.45, 8.45, 8.25, 7.45, 7.0]\n"
     ]
    }
   ],
   "source": [
    "#Air Temp CRN:\n",
    "with open('CRNS0101-05-2022-AL_Selma_13_WNW.txt') as f:\n",
    "    lst=[line.split()[8] for line in f]\n",
    "    \n",
    "    a=(float(lst[31175])+float(lst[31176]))/2\n",
    "    b=(float(lst[31187])+float(lst[31188]))/2\n",
    "    c=(float(lst[31199])+float(lst[31200]))/2\n",
    "    d=(float(lst[31211])+float(lst[31212]))/2\n",
    "    e=(float(lst[31223])+float(lst[31224]))/2\n",
    "    f=(float(lst[31235])+float(lst[31236]))/2\n",
    "    g=(float(lst[31247])+float(lst[31248]))/2\n",
    "    h=(float(lst[31259])+float(lst[31260]))/2\n",
    "    i=(float(lst[31271])+float(lst[31272]))/2\n",
    "    j=(float(lst[31283])+float(lst[31284]))/2\n",
    "    k=(float(lst[31295])+float(lst[31296]))/2\n",
    "    l=(float(lst[31307])+float(lst[31308]))/2\n",
    "    m=(float(lst[31319])+float(lst[31320]))/2\n",
    "    n=(float(lst[31331])+float(lst[31332]))/2\n",
    "    o=(float(lst[31343])+float(lst[31344]))/2\n",
    "    p=(float(lst[31355])+float(lst[31356]))/2\n",
    "    q=(float(lst[31367])+float(lst[31368]))/2\n",
    "    r=(float(lst[31379])+float(lst[31380]))/2\n",
    "    s=(float(lst[31391])+float(lst[31392]))/2\n",
    "    t=(float(lst[31403])+float(lst[31404]))/2\n",
    "    u=(float(lst[31415])+float(lst[31416]))/2\n",
    "    v=(float(lst[31427])+float(lst[31428]))/2\n",
    "    w=(float(lst[31439])+float(lst[31440]))/2\n",
    "    x=(float(lst[31451])+float(lst[31452]))/2\n",
    "    y=(float(lst[31463])+float(lst[31464]))/2\n",
    "    \n",
    "    temp_crn=[a,b,c,d,e,f,g,h,i,j,k,l,m,n,o,p,q,r,s,t,u,v,w,x,y]\n",
    "    print(temp_crn)"
   ]
  },
  {
   "cell_type": "code",
   "execution_count": 172,
   "id": "f7556132",
   "metadata": {},
   "outputs": [
    {
     "name": "stdout",
     "output_type": "stream",
     "text": [
      "[-0.9951399999999992, -0.19536000000000087, 0.18222000000000005, 1.1344400000000006, 1.0506700000000002, 1.57646, 0.6467999999999998, -0.6131499999999992, -1.0845000000000002, -1.3453999999999997, -1.2410999999999994, -1.4907999999999983, -1.2974999999999994, -1.6723000000000017, -2.0096999999999987, -2.116199999999999, -2.3271000000000015, -2.738900000000001, 0.3511999999999986, 1.9337, 2.6808000000000014, 2.7713, 1.9488000000000003, 1.9318099999999996, 1.8345000000000002]\n"
     ]
    }
   ],
   "source": [
    "difference5_sel = []\n",
    "\n",
    "zip_object = zip(temp, temp_crn)\n",
    "for temp_i, temp_crn_i in zip_object:\n",
    "    difference5_sel.append(temp_i-temp_crn_i)\n",
    "\n",
    "print(difference5_sel)\n",
    "##prfloat(len(difference3_sel))"
   ]
  },
  {
   "cell_type": "markdown",
   "id": "d56aedb3",
   "metadata": {},
   "source": [
    "<font size=\"3\">Bowling Green, KY: 0600 UTC (12:00 am CST) 01 March 2022-0600 UTC (12:00 am CST) 02 March 2022</font>"
   ]
  },
  {
   "cell_type": "code",
   "execution_count": 173,
   "id": "24633681",
   "metadata": {},
   "outputs": [
    {
     "name": "stdout",
     "output_type": "stream",
     "text": [
      "[1.41736, 0.917145, 0.49472, 0.209442, -0.0368347, -0.161041, 0.409302, 1.79935, 3.353, 4.97958, 6.82144, 8.47174, 10.14, 11.3652, 12.3778, 12.8088, 12.8479, 12.3111, 10.9512, 8.85873, 7.94327, 7.03384, 6.26126, 7.13181, 6.8345]\n"
     ]
    }
   ],
   "source": [
    "#1 hr hrrr:\n",
    "with open('hrrr_f18_Bowling Green_KY.txt') as f:\n",
    "    lst=[line.split()[1] for line in f]\n",
    "    temp=[]\n",
    "    for i in lst:\n",
    "        new=i.replace(',',\"\")\n",
    "        temp.append(new)\n",
    "    temp.pop(0)\n",
    "    temp=[float(x) for x in temp]\n",
    "    temp=temp[2580:2605]\n",
    "    #temp=temp[2015:2063]\n",
    "    print(temp)\n",
    "    ##prfloat(len(temp))\n",
    "#full time period is [2015:2112]"
   ]
  },
  {
   "cell_type": "code",
   "execution_count": 174,
   "id": "853a3ee4",
   "metadata": {},
   "outputs": [
    {
     "name": "stdout",
     "output_type": "stream",
     "text": [
      "[2.3499999999999996, 2.0, 1.7999999999999998, 0.8, -0.1, -0.55, 0.8500000000000001, 3.5, 5.3, 7.45, 8.45, 9.95, 11.45, 12.649999999999999, 12.8, 13.45, 13.15, 11.95, 10.149999999999999, 8.9, 7.3, 7.0, 6.699999999999999, 6.65, 7.65]\n"
     ]
    }
   ],
   "source": [
    "#Air Temp CRN:\n",
    "with open('CRNS0101-05-2022-KY_Bowling_Green_21_NNE.txt') as f:\n",
    "    lst=[line.split()[8] for line in f]\n",
    "    \n",
    "    a=(float(lst[31175])+float(lst[31176]))/2\n",
    "    b=(float(lst[31187])+float(lst[31188]))/2\n",
    "    c=(float(lst[31199])+float(lst[31200]))/2\n",
    "    d=(float(lst[31211])+float(lst[31212]))/2\n",
    "    e=(float(lst[31223])+float(lst[31224]))/2\n",
    "    f=(float(lst[31235])+float(lst[31236]))/2\n",
    "    g=(float(lst[31247])+float(lst[31248]))/2\n",
    "    h=(float(lst[31259])+float(lst[31260]))/2\n",
    "    i=(float(lst[31271])+float(lst[31272]))/2\n",
    "    j=(float(lst[31283])+float(lst[31284]))/2\n",
    "    k=(float(lst[31295])+float(lst[31296]))/2\n",
    "    l=(float(lst[31307])+float(lst[31308]))/2\n",
    "    m=(float(lst[31319])+float(lst[31320]))/2\n",
    "    n=(float(lst[31331])+float(lst[31332]))/2\n",
    "    o=(float(lst[31343])+float(lst[31344]))/2\n",
    "    p=(float(lst[31355])+float(lst[31356]))/2\n",
    "    q=(float(lst[31367])+float(lst[31368]))/2\n",
    "    r=(float(lst[31379])+float(lst[31380]))/2\n",
    "    s=(float(lst[31391])+float(lst[31392]))/2\n",
    "    t=(float(lst[31403])+float(lst[31404]))/2\n",
    "    u=(float(lst[31415])+float(lst[31416]))/2\n",
    "    v=(float(lst[31427])+float(lst[31428]))/2\n",
    "    w=(float(lst[31439])+float(lst[31440]))/2\n",
    "    x=(float(lst[31451])+float(lst[31452]))/2\n",
    "    y=(float(lst[31463])+float(lst[31464]))/2\n",
    "    \n",
    "    temp_crn=[a,b,c,d,e,f,g,h,i,j,k,l,m,n,o,p,q,r,s,t,u,v,w,x,y]\n",
    "    print(temp_crn)"
   ]
  },
  {
   "cell_type": "code",
   "execution_count": 175,
   "id": "0855a124",
   "metadata": {},
   "outputs": [
    {
     "name": "stdout",
     "output_type": "stream",
     "text": [
      "[-0.9326399999999997, -1.082855, -1.3052799999999998, -0.590558, 0.06316530000000001, 0.38895900000000005, -0.4406980000000001, -1.70065, -1.9469999999999996, -2.47042, -1.6285599999999993, -1.4782599999999988, -1.3099999999999987, -1.2847999999999988, -0.42220000000000013, -0.6411999999999995, -0.30210000000000115, 0.3611000000000004, 0.8012000000000015, -0.041270000000000806, 0.6432700000000002, 0.03383999999999965, -0.43873999999999924, 0.4818099999999994, -0.8155000000000001]\n"
     ]
    }
   ],
   "source": [
    "difference5_bow = []\n",
    "\n",
    "zip_object = zip(temp, temp_crn)\n",
    "for temp_i, temp_crn_i in zip_object:\n",
    "    difference5_bow.append(temp_i-temp_crn_i)\n",
    "\n",
    "print(difference5_bow)"
   ]
  },
  {
   "cell_type": "markdown",
   "id": "230d1a46",
   "metadata": {},
   "source": [
    "<font size=\"3\">Gadsden, AL: 0600 UTC (12:00 am CST) 01 March 2022-0600 UTC (12:00 am CST) 02 March 2022</font>"
   ]
  },
  {
   "cell_type": "code",
   "execution_count": 176,
   "id": "c5f9ab54",
   "metadata": {},
   "outputs": [
    {
     "name": "stdout",
     "output_type": "stream",
     "text": [
      "[6.54236, 5.60464, 4.68222, 4.08444, 3.27567, 2.83896, 3.6593, 4.86185, 6.1655, 8.04208, 10.1339, 11.4717, 13.14, 14.3027, 15.1278, 15.6213, 15.4729, 14.7486, 13.2637, 11.7337, 10.8183, 9.78384, 9.26126, 8.75681, 8.0845]\n"
     ]
    }
   ],
   "source": [
    "#1 hr hrrr:\n",
    "with open('hrrr_f18_Gadsden_AL.txt') as f:\n",
    "    lst=[line.split()[1] for line in f]\n",
    "    temp=[]\n",
    "    for i in lst:\n",
    "        new=i.replace(',',\"\")\n",
    "        temp.append(new)\n",
    "    temp.pop(0)\n",
    "    temp=[float(x) for x in temp]\n",
    "    temp=temp[2580:2605]\n",
    "#     x = np.array(temp)\n",
    "#     temp = ma.masked_array(x, mask=[0, 0, 0, 0, 0,0,0,0,1,0,0,0,0,0,0,0,0,0,0,0,0,0,0,0,0])\n",
    "    #temp=temp[2015:2063]\n",
    "    print(temp)\n",
    "    ##prfloat(len(temp))\n",
    "#full time period is [2015:2112]"
   ]
  },
  {
   "cell_type": "code",
   "execution_count": 177,
   "id": "68a16b18",
   "metadata": {},
   "outputs": [
    {
     "name": "stdout",
     "output_type": "stream",
     "text": [
      "[5.800000000000001, 4.8, 4.85, 5.1, 5.3, 3.9499999999999997, 5.1, 6.6, 7.2, 8.5, 9.8, 10.9, 11.9, 13.15, 14.15, 14.3, 14.35, 14.350000000000001, 12.4, 8.75, 6.75, 6.55, 5.0, 4.75, 4.65]\n"
     ]
    }
   ],
   "source": [
    "#Air Temp CRN:\n",
    "with open('CRNS0101-05-2022-AL_Gadsden_19_N.txt') as f:\n",
    "    lst=[line.split()[8] for line in f]\n",
    "    \n",
    "    a=(float(lst[31175])+float(lst[31176]))/2\n",
    "    b=(float(lst[31187])+float(lst[31188]))/2\n",
    "    c=(float(lst[31199])+float(lst[31200]))/2\n",
    "    d=(float(lst[31211])+float(lst[31212]))/2\n",
    "    e=(float(lst[31223])+float(lst[31224]))/2\n",
    "    f=(float(lst[31235])+float(lst[31236]))/2\n",
    "    g=(float(lst[31247])+float(lst[31248]))/2\n",
    "    h=(float(lst[31259])+float(lst[31260]))/2\n",
    "    i=(float(lst[31271])+float(lst[31272]))/2\n",
    "    j=(float(lst[31283])+float(lst[31284]))/2\n",
    "    k=(float(lst[31295])+float(lst[31296]))/2\n",
    "    l=(float(lst[31307])+float(lst[31308]))/2\n",
    "    m=(float(lst[31319])+float(lst[31320]))/2\n",
    "    n=(float(lst[31331])+float(lst[31332]))/2\n",
    "    o=(float(lst[31343])+float(lst[31344]))/2\n",
    "    p=(float(lst[31355])+float(lst[31356]))/2\n",
    "    q=(float(lst[31367])+float(lst[31368]))/2\n",
    "    r=(float(lst[31379])+float(lst[31380]))/2\n",
    "    s=(float(lst[31391])+float(lst[31392]))/2\n",
    "    t=(float(lst[31403])+float(lst[31404]))/2\n",
    "    u=(float(lst[31415])+float(lst[31416]))/2\n",
    "    v=(float(lst[31427])+float(lst[31428]))/2\n",
    "    w=(float(lst[31439])+float(lst[31440]))/2\n",
    "    x=(float(lst[31451])+float(lst[31452]))/2\n",
    "    y=(float(lst[31463])+float(lst[31464]))/2\n",
    "    \n",
    "    temp_crn=[a,b,c,d,e,f,g,h,i,j,k,l,m,n,o,p,q,r,s,t,u,v,w,x,y]\n",
    "    print(temp_crn)"
   ]
  },
  {
   "cell_type": "code",
   "execution_count": 178,
   "id": "20f98582",
   "metadata": {},
   "outputs": [
    {
     "name": "stdout",
     "output_type": "stream",
     "text": [
      "[0.7423599999999997, 0.80464, -0.1677799999999996, -1.0155599999999998, -2.02433, -1.1110399999999996, -1.4406999999999996, -1.73815, -1.0345000000000004, -0.45791999999999966, 0.33389999999999986, 0.5716999999999999, 1.2400000000000002, 1.1526999999999994, 0.9778000000000002, 1.321299999999999, 1.1228999999999996, 0.3985999999999983, 0.8636999999999997, 2.9837000000000007, 4.068300000000001, 3.23384, 4.26126, 4.00681, 3.4345]\n"
     ]
    }
   ],
   "source": [
    "difference5_gad = []\n",
    "\n",
    "zip_object = zip(temp, temp_crn)\n",
    "for temp_i, temp_crn_i in zip_object:\n",
    "    difference5_gad.append(temp_i-temp_crn_i)\n",
    "\n",
    "print(difference5_gad)"
   ]
  },
  {
   "cell_type": "markdown",
   "id": "200f3740",
   "metadata": {},
   "source": [
    "<font size=\"3\">Newton, GA: 0600 UTC (12:00 am CST) 01 March 2022-0600 UTC (12:00 am CST) 02 March 2022</font>"
   ]
  },
  {
   "cell_type": "code",
   "execution_count": 179,
   "id": "c0676e97",
   "metadata": {},
   "outputs": [
    {
     "name": "stdout",
     "output_type": "stream",
     "text": [
      "[12.1674, 11.4171, 10.2447, 9.52194, 8.52567, 8.40146, 8.9718, 10.3618, 11.978, 14.2921, 16.2589, 18.0967, 19.515, 20.3652, 21.3153, 21.5588, 21.5354, 20.5611, 18.2012, 16.0462, 14.6933, 13.1588, 12.3238, 11.4443, 10.5845]\n"
     ]
    }
   ],
   "source": [
    "#1 hr hrrr:\n",
    "with open('hrrr_f18_Newton_GA.txt') as f:\n",
    "    lst=[line.split()[1] for line in f]\n",
    "    temp=[]\n",
    "    for i in lst:\n",
    "        new=i.replace(',',\"\")\n",
    "        temp.append(new)\n",
    "    temp.pop(0)\n",
    "    temp=[float(x) for x in temp]\n",
    "    temp=temp[2580:2605]\n",
    "    #temp=temp[2015:2063]\n",
    "    print(temp)\n",
    "    ##prfloat(len(temp))\n",
    "#full time period is [2015:2112]"
   ]
  },
  {
   "cell_type": "code",
   "execution_count": 180,
   "id": "f1c9c102",
   "metadata": {},
   "outputs": [
    {
     "name": "stdout",
     "output_type": "stream",
     "text": [
      "[13.850000000000001, 12.100000000000001, 9.8, 10.6, 10.649999999999999, 10.1, 10.05, 11.55, 12.95, 14.149999999999999, 15.2, 16.5, 17.6, 18.85, 19.55, 19.450000000000003, 19.7, 19.35, 16.05, 12.850000000000001, 11.25, 9.85, 8.9, 8.149999999999999, 7.550000000000001]\n"
     ]
    }
   ],
   "source": [
    "#Air Temp CRN:\n",
    "with open('CRNS0101-05-2022-GA_Newton_11_SW.txt') as f:\n",
    "    lst=[line.split()[8] for line in f]\n",
    "    \n",
    "    a=(float(lst[31175])+float(lst[31176]))/2\n",
    "    b=(float(lst[31187])+float(lst[31188]))/2\n",
    "    c=(float(lst[31199])+float(lst[31200]))/2\n",
    "    d=(float(lst[31211])+float(lst[31212]))/2\n",
    "    e=(float(lst[31223])+float(lst[31224]))/2\n",
    "    f=(float(lst[31235])+float(lst[31236]))/2\n",
    "    g=(float(lst[31247])+float(lst[31248]))/2\n",
    "    h=(float(lst[31259])+float(lst[31260]))/2\n",
    "    i=(float(lst[31271])+float(lst[31272]))/2\n",
    "    j=(float(lst[31283])+float(lst[31284]))/2\n",
    "    k=(float(lst[31295])+float(lst[31296]))/2\n",
    "    l=(float(lst[31307])+float(lst[31308]))/2\n",
    "    m=(float(lst[31319])+float(lst[31320]))/2\n",
    "    n=(float(lst[31331])+float(lst[31332]))/2\n",
    "    o=(float(lst[31343])+float(lst[31344]))/2\n",
    "    p=(float(lst[31355])+float(lst[31356]))/2\n",
    "    q=(float(lst[31367])+float(lst[31368]))/2\n",
    "    r=(float(lst[31379])+float(lst[31380]))/2\n",
    "    s=(float(lst[31391])+float(lst[31392]))/2\n",
    "    t=(float(lst[31403])+float(lst[31404]))/2\n",
    "    u=(float(lst[31415])+float(lst[31416]))/2\n",
    "    v=(float(lst[31427])+float(lst[31428]))/2\n",
    "    w=(float(lst[31439])+float(lst[31440]))/2\n",
    "    x=(float(lst[31451])+float(lst[31452]))/2\n",
    "    y=(float(lst[31463])+float(lst[31464]))/2\n",
    "    \n",
    "    temp_crn=[a,b,c,d,e,f,g,h,i,j,k,l,m,n,o,p,q,r,s,t,u,v,w,x,y]\n",
    "    print(temp_crn)"
   ]
  },
  {
   "cell_type": "code",
   "execution_count": 181,
   "id": "4d737508",
   "metadata": {},
   "outputs": [
    {
     "name": "stdout",
     "output_type": "stream",
     "text": [
      "[-1.6826000000000008, -0.6829000000000018, 0.4446999999999992, -1.078059999999999, -2.1243299999999987, -1.6985399999999995, -1.0782000000000007, -1.1882000000000001, -0.9719999999999995, 0.142100000000001, 1.0589000000000013, 1.5966999999999985, 1.9149999999999991, 1.5152, 1.7652999999999999, 2.1087999999999987, 1.8354, 1.2110999999999983, 2.1511999999999993, 3.1961999999999975, 3.4433000000000007, 3.3087999999999997, 3.4238, 3.2943000000000016, 3.0344999999999995]\n"
     ]
    }
   ],
   "source": [
    "difference5_newt = []\n",
    "\n",
    "zip_object = zip(temp, temp_crn)\n",
    "for temp_i, temp_crn_i in zip_object:\n",
    "    difference5_newt.append(temp_i-temp_crn_i)\n",
    "\n",
    "print(difference5_newt)"
   ]
  },
  {
   "cell_type": "markdown",
   "id": "cd4a8f77",
   "metadata": {},
   "source": [
    "<font size=\"3\">Salem, MO: 0500 UTC (12:00 am CDT) 27 April 2022-0500 UTC (12:00 am CDT) 28 April 2022</font>"
   ]
  },
  {
   "cell_type": "code",
   "execution_count": 182,
   "id": "e74c5bbe",
   "metadata": {},
   "outputs": [
    {
     "name": "stdout",
     "output_type": "stream",
     "text": [
      "[6.36545, 5.94803, 5.98154, 5.24121, 4.92538, 5.07712, 5.29129, 8.92239, 11.8365, 14.2448, 15.8783, 17.8792, 19.6024, 20.7322, 21.499, 21.5675, 21.1547, 20.5738, 18.5305, 15.8204, 14.2217, 12.5952, 12.0421, 11.3834, 10.6396]\n"
     ]
    }
   ],
   "source": [
    "#1 hr hrrr:\n",
    "with open('hrrr_f18_Salem_MO.txt') as f:\n",
    "    lst=[line.split()[1] for line in f]\n",
    "    temp=[]\n",
    "    for i in lst:\n",
    "        new=i.replace(',',\"\")\n",
    "        temp.append(new)\n",
    "    temp.pop(0)\n",
    "    temp=[float(x) for x in temp]\n",
    "    temp=temp[2772:2797]\n",
    "#     x = np.array(temp)\n",
    "#     temp = ma.masked_array(x, mask=[0, 0, 0, 0, 0,0,1,0,0,0,0,0,0,0,0,0,0,0,0,0,0,0,0,0,0])\n",
    "    #temp=temp[2015:2063]\n",
    "    print(temp)\n",
    "    #prfloat(len(temp))\n",
    "#full time period is [2015:2112]"
   ]
  },
  {
   "cell_type": "code",
   "execution_count": 183,
   "id": "c0c399a0",
   "metadata": {},
   "outputs": [
    {
     "name": "stdout",
     "output_type": "stream",
     "text": [
      "[2.3, 2.1500000000000004, 5.65, 1.55, 1.7999999999999998, 1.25, 2.7, 10.0, 13.600000000000001, 16.65, 19.0, 19.799999999999997, 20.7, 21.8, 22.15, 22.7, 22.55, 21.45, 19.6, 18.15, 17.2, 16.0, 15.0, 14.75, 14.5]\n"
     ]
    }
   ],
   "source": [
    "#Air Temp CRN:\n",
    "with open('CRNS0101-05-2022-MO_Salem_10_W.txt') as f:\n",
    "    lst=[line.split()[8] for line in f]\n",
    "    \n",
    "    a=(float(lst[33479])+float(lst[33480]))/2\n",
    "    b=(float(lst[33491])+float(lst[33492]))/2\n",
    "    c=(float(lst[33503])+float(lst[33504]))/2\n",
    "    d=(float(lst[33515])+float(lst[33516]))/2\n",
    "    e=(float(lst[33527])+float(lst[33528]))/2\n",
    "    f=(float(lst[33539])+float(lst[33540]))/2\n",
    "    g=(float(lst[33551])+float(lst[33552]))/2\n",
    "    h=(float(lst[33563])+float(lst[33564]))/2\n",
    "    i=(float(lst[33575])+float(lst[33576]))/2\n",
    "    j=(float(lst[33587])+float(lst[33588]))/2\n",
    "    k=(float(lst[33599])+float(lst[33600]))/2\n",
    "    l=(float(lst[33611])+float(lst[33612]))/2\n",
    "    m=(float(lst[33623])+float(lst[33624]))/2\n",
    "    n=(float(lst[33635])+float(lst[33636]))/2\n",
    "    o=(float(lst[33647])+float(lst[33648]))/2\n",
    "    p=(float(lst[33659])+float(lst[33660]))/2\n",
    "    q=(float(lst[33671])+float(lst[33672]))/2\n",
    "    r=(float(lst[33683])+float(lst[33684]))/2\n",
    "    s=(float(lst[33695])+float(lst[33696]))/2\n",
    "    t=(float(lst[33707])+float(lst[33708]))/2\n",
    "    u=(float(lst[33719])+float(lst[33720]))/2\n",
    "    v=(float(lst[33731])+float(lst[33732]))/2\n",
    "    w=(float(lst[33743])+float(lst[33744]))/2\n",
    "    x=(float(lst[33755])+float(lst[33756]))/2\n",
    "    y=(float(lst[33767])+float(lst[33768]))/2\n",
    "    \n",
    "    temp_crn=[a,b,c,d,e,f,g,h,i,j,k,l,m,n,o,p,q,r,s,t,u,v,w,x,y]\n",
    "    print(temp_crn)"
   ]
  },
  {
   "cell_type": "code",
   "execution_count": 184,
   "id": "38ad8303",
   "metadata": {},
   "outputs": [
    {
     "name": "stdout",
     "output_type": "stream",
     "text": [
      "[4.06545, 3.79803, 0.3315399999999995, 3.69121, 3.12538, 3.82712, 2.59129, -1.07761, -1.7635000000000023, -2.405199999999999, -3.1217000000000006, -1.9207999999999963, -1.0976, -1.0678000000000019, -0.6509999999999998, -1.1325000000000003, -1.3953000000000024, -0.8762000000000008, -1.0695000000000014, -2.3295999999999992, -2.978299999999999, -3.4048, -2.9579000000000004, -3.3666, -3.8604000000000003]\n"
     ]
    }
   ],
   "source": [
    "difference6_sal = []\n",
    "\n",
    "zip_object = zip(temp, temp_crn)\n",
    "for temp_i, temp_crn_i in zip_object:\n",
    "    difference6_sal.append(temp_i-temp_crn_i)\n",
    "\n",
    "print(difference6_sal)"
   ]
  },
  {
   "cell_type": "markdown",
   "id": "a9ca1aca",
   "metadata": {},
   "source": [
    "<font size=\"3\">Batesville, AR: 0600 UTC (12:00 am CST) 01 March 2022-0600 UTC (12:00 am CST) 02 March 2022</font>"
   ]
  },
  {
   "cell_type": "code",
   "execution_count": 185,
   "id": "90b292da",
   "metadata": {},
   "outputs": [
    {
     "name": "stdout",
     "output_type": "stream",
     "text": [
      "[8.49045, 8.26053, 7.79404, 7.67871, 7.30038, 7.07712, 7.22879, 9.79739, 12.8365, 14.9323, 16.3158, 17.7542, 18.9149, 20.0447, 20.9365, 21.505, 21.4047, 20.8863, 19.1555, 16.0704, 14.3467, 13.4702, 12.9796, 12.6959, 12.2646]\n"
     ]
    }
   ],
   "source": [
    "#1 hr hrrr:\n",
    "with open('hrrr_f18_Batesville_AR.txt') as f:\n",
    "    lst=[line.split()[1] for line in f]\n",
    "    temp=[]\n",
    "    for i in lst:\n",
    "        new=i.replace(',',\"\")\n",
    "        temp.append(new)\n",
    "    temp.pop(0)\n",
    "    temp=[float(x) for x in temp]\n",
    "    temp=temp[2772:2797]\n",
    "#     x = np.array(temp)\n",
    "#     temp = ma.masked_array(x, mask=[0, 0, 0, 0, 0,0,1,0,0,0,0,0,0,0,0,0,0,0,0,0,0,0,0,0,0])\n",
    "#     #temp=temp[2015:2063]\n",
    "    print(temp)\n",
    "    #prfloat(len(temp))\n",
    "#full time period is [2015:2112]"
   ]
  },
  {
   "cell_type": "code",
   "execution_count": 186,
   "id": "f0f385de",
   "metadata": {},
   "outputs": [
    {
     "name": "stdout",
     "output_type": "stream",
     "text": [
      "[4.05, 3.55, 3.0, 2.75, 2.5, 1.9, 2.95, 5.75, 11.2, 14.75, 16.4, 18.0, 19.299999999999997, 20.3, 20.65, 20.65, 20.3, 19.65, 16.9, 12.9, 10.0, 9.149999999999999, 8.6, 7.6, 8.1]\n"
     ]
    }
   ],
   "source": [
    "#Air Temp CRN:\n",
    "with open('CRNS0101-05-2022-AR_Batesville_8_WNW.txt') as f:\n",
    "    lst=[line.split()[8] for line in f]\n",
    "    \n",
    "    a=(float(lst[33479])+float(lst[33480]))/2\n",
    "    b=(float(lst[33491])+float(lst[33492]))/2\n",
    "    c=(float(lst[33503])+float(lst[33504]))/2\n",
    "    d=(float(lst[33515])+float(lst[33516]))/2\n",
    "    e=(float(lst[33527])+float(lst[33528]))/2\n",
    "    f=(float(lst[33539])+float(lst[33540]))/2\n",
    "    g=(float(lst[33551])+float(lst[33552]))/2\n",
    "    h=(float(lst[33563])+float(lst[33564]))/2\n",
    "    i=(float(lst[33575])+float(lst[33576]))/2\n",
    "    j=(float(lst[33587])+float(lst[33588]))/2\n",
    "    k=(float(lst[33599])+float(lst[33600]))/2\n",
    "    l=(float(lst[33611])+float(lst[33612]))/2\n",
    "    m=(float(lst[33623])+float(lst[33624]))/2\n",
    "    n=(float(lst[33635])+float(lst[33636]))/2\n",
    "    o=(float(lst[33647])+float(lst[33648]))/2\n",
    "    p=(float(lst[33659])+float(lst[33660]))/2\n",
    "    q=(float(lst[33671])+float(lst[33672]))/2\n",
    "    r=(float(lst[33683])+float(lst[33684]))/2\n",
    "    s=(float(lst[33695])+float(lst[33696]))/2\n",
    "    t=(float(lst[33707])+float(lst[33708]))/2\n",
    "    u=(float(lst[33719])+float(lst[33720]))/2\n",
    "    v=(float(lst[33731])+float(lst[33732]))/2\n",
    "    w=(float(lst[33743])+float(lst[33744]))/2\n",
    "    x=(float(lst[33755])+float(lst[33756]))/2\n",
    "    y=(float(lst[33767])+float(lst[33768]))/2\n",
    "    \n",
    "    temp_crn=[a,b,c,d,e,f,g,h,i,j,k,l,m,n,o,p,q,r,s,t,u,v,w,x,y]\n",
    "    print(temp_crn)"
   ]
  },
  {
   "cell_type": "code",
   "execution_count": 187,
   "id": "ea97b53d",
   "metadata": {},
   "outputs": [
    {
     "name": "stdout",
     "output_type": "stream",
     "text": [
      "[4.440449999999999, 4.710529999999999, 4.79404, 4.92871, 4.80038, 5.17712, 4.27879, 4.04739, 1.6364999999999998, 0.18229999999999968, -0.08419999999999916, -0.24579999999999913, -0.3850999999999978, -0.25530000000000186, 0.2865000000000002, 0.8550000000000004, 1.1046999999999976, 1.2363, 2.2555000000000014, 3.170399999999999, 4.3467, 4.320200000000002, 4.3796, 5.0959, 4.1646]\n"
     ]
    }
   ],
   "source": [
    "difference6_bat = []\n",
    "\n",
    "zip_object = zip(temp, temp_crn)\n",
    "for temp_i, temp_crn_i in zip_object:\n",
    "    difference6_bat.append(temp_i-temp_crn_i)\n",
    "\n",
    "print(difference6_bat)"
   ]
  },
  {
   "cell_type": "markdown",
   "id": "5726dedb",
   "metadata": {},
   "source": [
    "<font size=\"3\">Lafayette, LA: 0600 UTC (12:00 am CST) 01 March 2022-0600 UTC (12:00 am CST) 02 March 2022</font>"
   ]
  },
  {
   "cell_type": "code",
   "execution_count": 188,
   "id": "4afdefd5",
   "metadata": {},
   "outputs": [
    {
     "name": "stdout",
     "output_type": "stream",
     "text": [
      "[17.4279, 16.698, 16.294, 15.2412, 14.9254, 13.8896, 13.6038, 16.1099, 18.4615, 20.9948, 23.6283, 25.5042, 26.6649, 27.4197, 28.124, 28.38, 27.9672, 27.1363, 25.9055, 22.9454, 20.7217, 19.2202, 18.1671, 17.0709, 16.0146]\n"
     ]
    }
   ],
   "source": [
    "#1 hr hrrr:\n",
    "with open('hrrr_f18_Lafayette_LA.txt') as f:\n",
    "    lst=[line.split()[1] for line in f]\n",
    "    temp=[]\n",
    "    for i in lst:\n",
    "        new=i.replace(',',\"\")\n",
    "        temp.append(new)\n",
    "    temp.pop(0)\n",
    "    temp=[float(x) for x in temp]\n",
    "    temp=temp[2772:2797]\n",
    "#     x = np.array(temp)\n",
    "#     temp = ma.masked_array(x, mask=[0, 0, 0, 0, 0,0,1,0,0,0,0,0,0,0,0,0,0,0,0,0,0,0,0,0,0])\n",
    "    #temp=temp[2015:2063]\n",
    "    print(temp)\n",
    "    ##prfloat(len(temp))\n",
    "#full time period is [2015:2112]"
   ]
  },
  {
   "cell_type": "code",
   "execution_count": 189,
   "id": "8a2dd83c",
   "metadata": {},
   "outputs": [
    {
     "name": "stdout",
     "output_type": "stream",
     "text": [
      "[15.25, 13.9, 13.75, 13.7, 12.9, 11.55, 11.9, 14.15, 16.9, 19.15, 21.45, 22.75, 23.7, 24.3, 25.15, 25.5, 25.4, 24.700000000000003, 22.95, 18.450000000000003, 15.9, 14.5, 13.45, 12.850000000000001, 12.2]\n"
     ]
    }
   ],
   "source": [
    "#Air Temp CRN:\n",
    "with open('CRNS0101-05-2022-LA_Lafayette_13_SE.txt') as f:\n",
    "    lst=[line.split()[8] for line in f]\n",
    "    \n",
    "    a=(float(lst[33479])+float(lst[33480]))/2\n",
    "    b=(float(lst[33491])+float(lst[33492]))/2\n",
    "    c=(float(lst[33503])+float(lst[33504]))/2\n",
    "    d=(float(lst[33515])+float(lst[33516]))/2\n",
    "    e=(float(lst[33527])+float(lst[33528]))/2\n",
    "    f=(float(lst[33539])+float(lst[33540]))/2\n",
    "    g=(float(lst[33551])+float(lst[33552]))/2\n",
    "    h=(float(lst[33563])+float(lst[33564]))/2\n",
    "    i=(float(lst[33575])+float(lst[33576]))/2\n",
    "    j=(float(lst[33587])+float(lst[33588]))/2\n",
    "    k=(float(lst[33599])+float(lst[33600]))/2\n",
    "    l=(float(lst[33611])+float(lst[33612]))/2\n",
    "    m=(float(lst[33623])+float(lst[33624]))/2\n",
    "    n=(float(lst[33635])+float(lst[33636]))/2\n",
    "    o=(float(lst[33647])+float(lst[33648]))/2\n",
    "    p=(float(lst[33659])+float(lst[33660]))/2\n",
    "    q=(float(lst[33671])+float(lst[33672]))/2\n",
    "    r=(float(lst[33683])+float(lst[33684]))/2\n",
    "    s=(float(lst[33695])+float(lst[33696]))/2\n",
    "    t=(float(lst[33707])+float(lst[33708]))/2\n",
    "    u=(float(lst[33719])+float(lst[33720]))/2\n",
    "    v=(float(lst[33731])+float(lst[33732]))/2\n",
    "    w=(float(lst[33743])+float(lst[33744]))/2\n",
    "    x=(float(lst[33755])+float(lst[33756]))/2\n",
    "    y=(float(lst[33767])+float(lst[33768]))/2\n",
    "    \n",
    "    temp_crn=[a,b,c,d,e,f,g,h,i,j,k,l,m,n,o,p,q,r,s,t,u,v,w,x,y]\n",
    "    print(temp_crn)"
   ]
  },
  {
   "cell_type": "code",
   "execution_count": 190,
   "id": "7b222157",
   "metadata": {},
   "outputs": [
    {
     "name": "stdout",
     "output_type": "stream",
     "text": [
      "[2.177900000000001, 2.798, 2.5440000000000005, 1.5412, 2.0253999999999994, 2.339599999999999, 1.7037999999999993, 1.9598999999999993, 1.5615000000000023, 1.8448000000000029, 2.1783, 2.754200000000001, 2.9649, 3.119699999999998, 2.974, 2.879999999999999, 2.5671999999999997, 2.4362999999999957, 2.9555000000000007, 4.4953999999999965, 4.821699999999998, 4.720199999999998, 4.717100000000002, 4.2209, 3.814600000000002]\n"
     ]
    }
   ],
   "source": [
    "difference6_laf = []\n",
    "\n",
    "zip_object = zip(temp, temp_crn)\n",
    "for temp_i, temp_crn_i in zip_object:\n",
    "    difference6_laf.append(temp_i-temp_crn_i)\n",
    "\n",
    "print(difference6_laf)"
   ]
  },
  {
   "cell_type": "markdown",
   "id": "de2bb1cb",
   "metadata": {},
   "source": [
    "<font size=\"3\">Monroe, LA: 0600 UTC (12:00 am CST) 01 March 2022-0600 UTC (12:00 am CST) 02 March 2022</font>"
   ]
  },
  {
   "cell_type": "code",
   "execution_count": 191,
   "id": "ebecba2f",
   "metadata": {},
   "outputs": [
    {
     "name": "stdout",
     "output_type": "stream",
     "text": [
      "[10.8654, 10.073, 9.54404, 8.92871, 8.55038, 8.26462, 7.85379, 10.4849, 13.149, 15.1198, 17.0658, 19.3167, 21.1024, 22.9197, 23.9365, 24.1925, 24.0922, 23.4488, 22.1555, 19.0079, 16.9717, 15.7202, 14.3546, 13.1959, 12.5771]\n"
     ]
    }
   ],
   "source": [
    "#1 hr hrrr:\n",
    "with open('hrrr_f18_Monroe_LA.txt') as f:\n",
    "    lst=[line.split()[1] for line in f]\n",
    "    temp=[]\n",
    "    for i in lst:\n",
    "        new=i.replace(',',\"\")\n",
    "        temp.append(new)\n",
    "    temp.pop(0)\n",
    "    temp=[float(x) for x in temp]\n",
    "    temp=temp[2772:2797]\n",
    "#     x = np.array(temp)\n",
    "#     temp = ma.masked_array(x, mask=[0, 0, 0, 0, 0,0,1,0,0,0,0,0,0,0,0,0,0,0,0,0,0,0,0,0,0])\n",
    "    #temp=temp[2015:2063]\n",
    "    print(temp)\n",
    "    ##prfloat(len(temp))\n",
    "#full time period is [2015:2112]"
   ]
  },
  {
   "cell_type": "code",
   "execution_count": 192,
   "id": "5cea29ca",
   "metadata": {},
   "outputs": [
    {
     "name": "stdout",
     "output_type": "stream",
     "text": [
      "[12.95, 12.649999999999999, 11.8, 10.75, 9.65, 7.25, 7.6, 12.149999999999999, 14.2, 16.55, 17.8, 19.25, 20.85, 21.4, 21.95, 23.200000000000003, 22.85, 22.2, 19.5, 14.15, 11.4, 9.75, 8.7, 8.15, 7.6]\n"
     ]
    }
   ],
   "source": [
    "#Air Temp CRN:\n",
    "with open('CRNS0101-05-2022-LA_Monroe_26_N.txt') as f:\n",
    "    lst=[line.split()[8] for line in f]\n",
    "    \n",
    "    a=(float(lst[33479])+float(lst[33480]))/2\n",
    "    b=(float(lst[33491])+float(lst[33492]))/2\n",
    "    c=(float(lst[33503])+float(lst[33504]))/2\n",
    "    d=(float(lst[33515])+float(lst[33516]))/2\n",
    "    e=(float(lst[33527])+float(lst[33528]))/2\n",
    "    f=(float(lst[33539])+float(lst[33540]))/2\n",
    "    g=(float(lst[33551])+float(lst[33552]))/2\n",
    "    h=(float(lst[33563])+float(lst[33564]))/2\n",
    "    i=(float(lst[33575])+float(lst[33576]))/2\n",
    "    j=(float(lst[33587])+float(lst[33588]))/2\n",
    "    k=(float(lst[33599])+float(lst[33600]))/2\n",
    "    l=(float(lst[33611])+float(lst[33612]))/2\n",
    "    m=(float(lst[33623])+float(lst[33624]))/2\n",
    "    n=(float(lst[33635])+float(lst[33636]))/2\n",
    "    o=(float(lst[33647])+float(lst[33648]))/2\n",
    "    p=(float(lst[33659])+float(lst[33660]))/2\n",
    "    q=(float(lst[33671])+float(lst[33672]))/2\n",
    "    r=(float(lst[33683])+float(lst[33684]))/2\n",
    "    s=(float(lst[33695])+float(lst[33696]))/2\n",
    "    t=(float(lst[33707])+float(lst[33708]))/2\n",
    "    u=(float(lst[33719])+float(lst[33720]))/2\n",
    "    v=(float(lst[33731])+float(lst[33732]))/2\n",
    "    w=(float(lst[33743])+float(lst[33744]))/2\n",
    "    x=(float(lst[33755])+float(lst[33756]))/2\n",
    "    y=(float(lst[33767])+float(lst[33768]))/2\n",
    "    \n",
    "    temp_crn=[a,b,c,d,e,f,g,h,i,j,k,l,m,n,o,p,q,r,s,t,u,v,w,x,y]\n",
    "    print(temp_crn)"
   ]
  },
  {
   "cell_type": "code",
   "execution_count": 193,
   "id": "7f448702",
   "metadata": {},
   "outputs": [
    {
     "name": "stdout",
     "output_type": "stream",
     "text": [
      "[-2.0846, -2.576999999999998, -2.25596, -1.8212899999999994, -1.0996199999999998, 1.0146200000000007, 0.2537900000000004, -1.665099999999999, -1.0510000000000002, -1.430200000000001, -0.7342000000000013, 0.06670000000000087, 0.25239999999999796, 1.5197000000000003, 1.9864999999999995, 0.9924999999999962, 1.2421999999999969, 1.2487999999999992, 2.6555, 4.857899999999999, 5.571699999999998, 5.9702, 5.6546, 5.0459, 4.9771]\n"
     ]
    }
   ],
   "source": [
    "difference6_mon = []\n",
    "\n",
    "zip_object = zip(temp, temp_crn)\n",
    "for temp_i, temp_crn_i in zip_object:\n",
    "    difference6_mon.append(temp_i-temp_crn_i)\n",
    "\n",
    "print(difference6_mon)"
   ]
  },
  {
   "cell_type": "markdown",
   "id": "49e00369",
   "metadata": {},
   "source": [
    "<font size=\"3\">Holly Springs, MS: 0600 UTC (12:00 am CST) 01 March 2022-0600 UTC (12:00 am CST) 02 March 2022</font>"
   ]
  },
  {
   "cell_type": "code",
   "execution_count": 194,
   "id": "a9302d89",
   "metadata": {},
   "outputs": [
    {
     "name": "stdout",
     "output_type": "stream",
     "text": [
      "[6.86545, 6.38553, 6.29404, 5.92871, 5.42538, 5.13962, 5.72879, 9.35989, 11.9615, 13.8698, 16.0658, 18.3167, 19.9774, 21.2322, 21.999, 22.255, 21.9047, 21.1988, 19.1555, 16.1954, 14.5342, 13.5327, 12.6671, 12.3834, 11.7021]\n"
     ]
    }
   ],
   "source": [
    "#1 hr hrrr:\n",
    "with open('hrrr_f18_Holly Springs_MS.txt') as f:\n",
    "    lst=[line.split()[1] for line in f]\n",
    "    temp=[]\n",
    "    for i in lst:\n",
    "        new=i.replace(',',\"\")\n",
    "        temp.append(new)\n",
    "    temp.pop(0)\n",
    "    temp=[float(x) for x in temp]\n",
    "    temp=temp[2772:2797]\n",
    "#     x = np.array(temp)\n",
    "#     temp = ma.masked_array(x, mask=[0, 0, 0, 0, 0,0,1,0,0,0,0,0,0,0,0,0,0,0,0,0,0,0,0,0,0])\n",
    "    #temp=temp[2015:2063]\n",
    "    print(temp)\n",
    "    ##prfloat(len(temp))\n",
    "#full time period is [2015:2112]"
   ]
  },
  {
   "cell_type": "code",
   "execution_count": 195,
   "id": "49cb6701",
   "metadata": {},
   "outputs": [
    {
     "name": "stdout",
     "output_type": "stream",
     "text": [
      "[3.55, 2.95, 2.45, 2.25, 2.2, 1.7999999999999998, 2.5, 7.8, 12.6, 14.7, 17.4, 19.3, 20.25, 21.1, 22.0, 22.5, 22.549999999999997, 22.0, 18.9, 13.45, 10.850000000000001, 9.05, 8.7, 7.95, 7.05]\n"
     ]
    }
   ],
   "source": [
    "#Air Temp CRN:\n",
    "with open('CRNS0101-05-2022-MS_Holly_Springs_4_N.txt') as f:\n",
    "    lst=[line.split()[8] for line in f]\n",
    "    \n",
    "    a=(float(lst[33479])+float(lst[33480]))/2\n",
    "    b=(float(lst[33491])+float(lst[33492]))/2\n",
    "    c=(float(lst[33503])+float(lst[33504]))/2\n",
    "    d=(float(lst[33515])+float(lst[33516]))/2\n",
    "    e=(float(lst[33527])+float(lst[33528]))/2\n",
    "    f=(float(lst[33539])+float(lst[33540]))/2\n",
    "    g=(float(lst[33551])+float(lst[33552]))/2\n",
    "    h=(float(lst[33563])+float(lst[33564]))/2\n",
    "    i=(float(lst[33575])+float(lst[33576]))/2\n",
    "    j=(float(lst[33587])+float(lst[33588]))/2\n",
    "    k=(float(lst[33599])+float(lst[33600]))/2\n",
    "    l=(float(lst[33611])+float(lst[33612]))/2\n",
    "    m=(float(lst[33623])+float(lst[33624]))/2\n",
    "    n=(float(lst[33635])+float(lst[33636]))/2\n",
    "    o=(float(lst[33647])+float(lst[33648]))/2\n",
    "    p=(float(lst[33659])+float(lst[33660]))/2\n",
    "    q=(float(lst[33671])+float(lst[33672]))/2\n",
    "    r=(float(lst[33683])+float(lst[33684]))/2\n",
    "    s=(float(lst[33695])+float(lst[33696]))/2\n",
    "    t=(float(lst[33707])+float(lst[33708]))/2\n",
    "    u=(float(lst[33719])+float(lst[33720]))/2\n",
    "    v=(float(lst[33731])+float(lst[33732]))/2\n",
    "    w=(float(lst[33743])+float(lst[33744]))/2\n",
    "    x=(float(lst[33755])+float(lst[33756]))/2\n",
    "    y=(float(lst[33767])+float(lst[33768]))/2\n",
    "    \n",
    "    temp_crn=[a,b,c,d,e,f,g,h,i,j,k,l,m,n,o,p,q,r,s,t,u,v,w,x,y]\n",
    "    print(temp_crn)"
   ]
  },
  {
   "cell_type": "code",
   "execution_count": 196,
   "id": "19a13a82",
   "metadata": {},
   "outputs": [
    {
     "name": "stdout",
     "output_type": "stream",
     "text": [
      "[3.3154500000000002, 3.43553, 3.8440399999999997, 3.6787099999999997, 3.2253799999999995, 3.33962, 3.22879, 1.5598900000000002, -0.6385000000000005, -0.8301999999999996, -1.3341999999999992, -0.9832999999999998, -0.2726000000000006, 0.13219999999999743, -0.0010000000000012221, -0.245000000000001, -0.6452999999999989, -0.8012000000000015, 0.2555000000000014, 2.7454, 3.684199999999999, 4.4826999999999995, 3.9671000000000003, 4.4334, 4.6521]\n"
     ]
    }
   ],
   "source": [
    "difference6_hol = []\n",
    "\n",
    "zip_object = zip(temp, temp_crn)\n",
    "for temp_i, temp_crn_i in zip_object:\n",
    "    difference6_hol.append(temp_i-temp_crn_i)\n",
    "\n",
    "print(difference6_hol)"
   ]
  },
  {
   "cell_type": "markdown",
   "id": "4753a3b0",
   "metadata": {},
   "source": [
    "<font size=\"3\">Newton, MS: 0600 UTC (12:00 am CST) 01 March 2022-0600 UTC (12:00 am CST) 02 March 2022</font>"
   ]
  },
  {
   "cell_type": "code",
   "execution_count": 197,
   "id": "68f58603",
   "metadata": {},
   "outputs": [
    {
     "name": "stdout",
     "output_type": "stream",
     "text": [
      "[13.0529, 12.2605, 11.7315, 10.9287, 10.3004, 9.88962, 10.2913, 12.4849, 14.7115, 16.8073, 18.8783, 21.1292, 22.4149, 23.3572, 23.9365, 24.255, 23.9047, 23.1988, 21.5305, 18.7579, 17.1592, 15.8452, 14.6046, 13.3834, 12.5771]\n"
     ]
    }
   ],
   "source": [
    "#1 hr hrrr:\n",
    "with open('hrrr_f18_Newton_MS.txt') as f:\n",
    "    lst=[line.split()[1] for line in f]\n",
    "    temp=[]\n",
    "    for i in lst:\n",
    "        new=i.replace(',',\"\")\n",
    "        temp.append(new)\n",
    "    temp.pop(0)\n",
    "    temp=[float(x) for x in temp]\n",
    "    temp=temp[2772:2797]\n",
    "#     x = np.array(temp)\n",
    "#     temp = ma.masked_array(x, mask=[0, 0, 0, 0, 0,0,1,0,0,0,0,0,0,0,0,0,0,0,0,0,0,0,0,0,0])\n",
    "    #temp=temp[2015:2063]\n",
    "    print(temp)\n",
    "    ##prfloat(len(temp))\n",
    "#full time period is [2015:2112]"
   ]
  },
  {
   "cell_type": "code",
   "execution_count": 198,
   "id": "ddffa4a1",
   "metadata": {},
   "outputs": [
    {
     "name": "stdout",
     "output_type": "stream",
     "text": [
      "[11.149999999999999, 11.05, 10.25, 7.85, 6.85, 6.2, 7.0, 10.75, 13.05, 15.2, 17.35, 19.25, 20.9, 21.8, 22.450000000000003, 23.0, 23.1, 22.35, 20.75, 14.7, 12.3, 10.8, 9.55, 8.649999999999999, 8.2]\n"
     ]
    }
   ],
   "source": [
    "#Air Temp CRN:\n",
    "with open('CRNS0101-05-2022-MS_Newton_5_ENE.txt') as f:\n",
    "    lst=[line.split()[8] for line in f]\n",
    "    \n",
    "    a=(float(lst[33479])+float(lst[33480]))/2\n",
    "    b=(float(lst[33491])+float(lst[33492]))/2\n",
    "    c=(float(lst[33503])+float(lst[33504]))/2\n",
    "    d=(float(lst[33515])+float(lst[33516]))/2\n",
    "    e=(float(lst[33527])+float(lst[33528]))/2\n",
    "    f=(float(lst[33539])+float(lst[33540]))/2\n",
    "    g=(float(lst[33551])+float(lst[33552]))/2\n",
    "    h=(float(lst[33563])+float(lst[33564]))/2\n",
    "    i=(float(lst[33575])+float(lst[33576]))/2\n",
    "    j=(float(lst[33587])+float(lst[33588]))/2\n",
    "    k=(float(lst[33599])+float(lst[33600]))/2\n",
    "    l=(float(lst[33611])+float(lst[33612]))/2\n",
    "    m=(float(lst[33623])+float(lst[33624]))/2\n",
    "    n=(float(lst[33635])+float(lst[33636]))/2\n",
    "    o=(float(lst[33647])+float(lst[33648]))/2\n",
    "    p=(float(lst[33659])+float(lst[33660]))/2\n",
    "    q=(float(lst[33671])+float(lst[33672]))/2\n",
    "    r=(float(lst[33683])+float(lst[33684]))/2\n",
    "    s=(float(lst[33695])+float(lst[33696]))/2\n",
    "    t=(float(lst[33707])+float(lst[33708]))/2\n",
    "    u=(float(lst[33719])+float(lst[33720]))/2\n",
    "    v=(float(lst[33731])+float(lst[33732]))/2\n",
    "    w=(float(lst[33743])+float(lst[33744]))/2\n",
    "    x=(float(lst[33755])+float(lst[33756]))/2\n",
    "    y=(float(lst[33767])+float(lst[33768]))/2\n",
    "    \n",
    "    temp_crn=[a,b,c,d,e,f,g,h,i,j,k,l,m,n,o,p,q,r,s,t,u,v,w,x,y]\n",
    "    print(temp_crn)"
   ]
  },
  {
   "cell_type": "code",
   "execution_count": 199,
   "id": "d00b8a13",
   "metadata": {},
   "outputs": [
    {
     "name": "stdout",
     "output_type": "stream",
     "text": [
      "[1.9029000000000007, 1.2104999999999997, 1.4815000000000005, 3.0786999999999995, 3.4504, 3.6896200000000006, 3.2912999999999997, 1.7348999999999997, 1.6614999999999984, 1.6073000000000022, 1.528299999999998, 1.8792000000000009, 1.5149000000000008, 1.5571999999999981, 1.486499999999996, 1.254999999999999, 0.8046999999999969, 0.8487999999999971, 0.7805, 4.0579, 4.859199999999998, 5.0451999999999995, 5.054599999999999, 4.733400000000001, 4.3771]\n"
     ]
    }
   ],
   "source": [
    "difference6_new = []\n",
    "\n",
    "zip_object = zip(temp, temp_crn)\n",
    "for temp_i, temp_crn_i in zip_object:\n",
    "    difference6_new.append(temp_i-temp_crn_i)\n",
    "\n",
    "print(difference6_new)"
   ]
  },
  {
   "cell_type": "markdown",
   "id": "f6dc6918",
   "metadata": {},
   "source": [
    "<font size=\"3\">Gainesville, AL: 0600 UTC (12:00 am CST) 01 March 2022-0600 UTC (12:00 am CST) 02 March 2022</font>"
   ]
  },
  {
   "cell_type": "code",
   "execution_count": 200,
   "id": "853a5cd2",
   "metadata": {},
   "outputs": [
    {
     "name": "stdout",
     "output_type": "stream",
     "text": [
      "[12.2404, 11.323, 10.669, 9.80371, 9.17538, 8.51462, 9.35379, 12.3599, 14.5865, 16.5573, 18.7533, 20.7542, 22.3524, 23.2947, 23.874, 24.4425, 24.2172, 23.3238, 21.1555, 18.3829, 16.6592, 15.0952, 13.9171, 13.1334, 12.2646]\n"
     ]
    }
   ],
   "source": [
    "#1 hr hrrr:\n",
    "with open('hrrr_f18_Gainesville_AL (1).txt') as f:\n",
    "    lst=[line.split()[1] for line in f]\n",
    "    temp=[]\n",
    "    for i in lst:\n",
    "        new=i.replace(',',\"\")\n",
    "        temp.append(new)\n",
    "    temp.pop(0)\n",
    "    temp=[float(x) for x in temp]\n",
    "    temp=temp[2772:2797]\n",
    "#     x = np.array(temp)\n",
    "#     temp = ma.masked_array(x, mask=[0, 0, 0, 0, 0,0,1,0,0,0,0,0,0,0,0,0,0,0,0,0,0,0,0,0,0])\n",
    "    #temp=temp[2015:2063]\n",
    "    print(temp)\n",
    "    ##prfloat(len(temp))\n",
    "#full time period is [2015:2112]"
   ]
  },
  {
   "cell_type": "code",
   "execution_count": 201,
   "id": "5becbc53",
   "metadata": {},
   "outputs": [
    {
     "name": "stdout",
     "output_type": "stream",
     "text": [
      "[12.45, 11.4, 10.4, 9.2, 8.7, 6.75, 8.5, 10.3, 13.3, 15.9, 17.55, 19.4, 20.9, 22.2, 23.1, 23.549999999999997, 23.4, 23.0, 19.2, 15.1, 13.05, 12.2, 11.5, 10.75, 10.149999999999999]\n"
     ]
    }
   ],
   "source": [
    "#Air Temp CRN:\n",
    "with open('CRNS0101-05-2022-AL_Gainesville_2_NE.txt') as f:\n",
    "    lst=[line.split()[8] for line in f]\n",
    "    \n",
    "    a=(float(lst[33479])+float(lst[33480]))/2\n",
    "    b=(float(lst[33491])+float(lst[33492]))/2\n",
    "    c=(float(lst[33503])+float(lst[33504]))/2\n",
    "    d=(float(lst[33515])+float(lst[33516]))/2\n",
    "    e=(float(lst[33527])+float(lst[33528]))/2\n",
    "    f=(float(lst[33539])+float(lst[33540]))/2\n",
    "    g=(float(lst[33551])+float(lst[33552]))/2\n",
    "    h=(float(lst[33563])+float(lst[33564]))/2\n",
    "    i=(float(lst[33575])+float(lst[33576]))/2\n",
    "    j=(float(lst[33587])+float(lst[33588]))/2\n",
    "    k=(float(lst[33599])+float(lst[33600]))/2\n",
    "    l=(float(lst[33611])+float(lst[33612]))/2\n",
    "    m=(float(lst[33623])+float(lst[33624]))/2\n",
    "    n=(float(lst[33635])+float(lst[33636]))/2\n",
    "    o=(float(lst[33647])+float(lst[33648]))/2\n",
    "    p=(float(lst[33659])+float(lst[33660]))/2\n",
    "    q=(float(lst[33671])+float(lst[33672]))/2\n",
    "    r=(float(lst[33683])+float(lst[33684]))/2\n",
    "    s=(float(lst[33695])+float(lst[33696]))/2\n",
    "    t=(float(lst[33707])+float(lst[33708]))/2\n",
    "    u=(float(lst[33719])+float(lst[33720]))/2\n",
    "    v=(float(lst[33731])+float(lst[33732]))/2\n",
    "    w=(float(lst[33743])+float(lst[33744]))/2\n",
    "    x=(float(lst[33755])+float(lst[33756]))/2\n",
    "    y=(float(lst[33767])+float(lst[33768]))/2\n",
    "    \n",
    "    temp_crn=[a,b,c,d,e,f,g,h,i,j,k,l,m,n,o,p,q,r,s,t,u,v,w,x,y]\n",
    "    print(temp_crn)"
   ]
  },
  {
   "cell_type": "code",
   "execution_count": 202,
   "id": "182dac80",
   "metadata": {},
   "outputs": [
    {
     "name": "stdout",
     "output_type": "stream",
     "text": [
      "[-0.2096, -0.07699999999999996, 0.26900000000000013, 0.6037100000000013, 0.47538000000000125, 1.7646200000000007, 0.85379, 2.059899999999999, 1.2864999999999984, 0.6573000000000011, 1.2032999999999987, 1.3542000000000023, 1.4524000000000008, 1.0946999999999996, 0.7739999999999974, 0.8925000000000018, 0.8171999999999997, 0.32379999999999853, 1.9555000000000007, 3.2828999999999997, 3.6091999999999977, 2.895200000000001, 2.4170999999999996, 2.3834, 2.114600000000001]\n"
     ]
    }
   ],
   "source": [
    "difference6_gai = []\n",
    "\n",
    "zip_object = zip(temp, temp_crn)\n",
    "for temp_i, temp_crn_i in zip_object:\n",
    "    difference6_gai.append(temp_i-temp_crn_i)\n",
    "\n",
    "print(difference6_gai)"
   ]
  },
  {
   "cell_type": "markdown",
   "id": "dca2fd19",
   "metadata": {},
   "source": [
    "<font size=\"3\">Fairhope, AL: 0600 UTC (12:00 am CST) 01 March 2022-0600 UTC (12:00 am CST) 02 March 2022</font>"
   ]
  },
  {
   "cell_type": "code",
   "execution_count": 203,
   "id": "a7ac678b",
   "metadata": {},
   "outputs": [
    {
     "name": "stdout",
     "output_type": "stream",
     "text": [
      "[17.4904, 16.323, 16.1065, 15.5537, 14.8629, 13.9521, 14.0413, 15.4849, 17.4615, 19.6823, 22.0658, 24.0042, 25.3524, 26.1072, 26.3115, 26.505, 25.8422, 24.6988, 22.593, 20.1954, 18.9717, 17.8452, 16.7296, 16.1334, 15.3896]\n"
     ]
    }
   ],
   "source": [
    "#1 hr hrrr:\n",
    "with open('hrrr_f18_Fairhope_AL.txt') as f:\n",
    "    lst=[line.split()[1] for line in f]\n",
    "    temp=[]\n",
    "    for i in lst:\n",
    "        new=i.replace(',',\"\")\n",
    "        temp.append(new)\n",
    "    temp.pop(0)\n",
    "    temp=[float(x) for x in temp]\n",
    "    temp=temp[2772:2797]\n",
    "#     x = np.array(temp)\n",
    "#     temp = ma.masked_array(x, mask=[0, 0, 0, 0, 0,0,1,0,0,0,0,0,0,0,0,0,0,0,0,0,0,0,0,0,0])\n",
    "    #temp=temp[2015:2063]\n",
    "    print(temp)\n",
    "    ##prfloat(len(temp))\n",
    "#full time period is [2015:2112]"
   ]
  },
  {
   "cell_type": "code",
   "execution_count": 204,
   "id": "eaa19ef2",
   "metadata": {},
   "outputs": [
    {
     "name": "stdout",
     "output_type": "stream",
     "text": [
      "[15.7, 14.7, 13.8, 13.6, 12.8, 11.7, 12.4, 15.15, 16.85, 18.950000000000003, 21.05, 21.799999999999997, 22.7, 23.35, 24.35, 25.0, 24.7, 23.200000000000003, 21.35, 18.35, 17.9, 16.700000000000003, 14.7, 12.399999999999999, 11.8]\n"
     ]
    }
   ],
   "source": [
    "#Air Temp CRN:\n",
    "with open('CRNS0101-05-2022-AL_Fairhope_3_NE.txt') as f:\n",
    "    lst=[line.split()[8] for line in f]\n",
    "    \n",
    "    a=(float(lst[33479])+float(lst[33480]))/2\n",
    "    b=(float(lst[33491])+float(lst[33492]))/2\n",
    "    c=(float(lst[33503])+float(lst[33504]))/2\n",
    "    d=(float(lst[33515])+float(lst[33516]))/2\n",
    "    e=(float(lst[33527])+float(lst[33528]))/2\n",
    "    f=(float(lst[33539])+float(lst[33540]))/2\n",
    "    g=(float(lst[33551])+float(lst[33552]))/2\n",
    "    h=(float(lst[33563])+float(lst[33564]))/2\n",
    "    i=(float(lst[33575])+float(lst[33576]))/2\n",
    "    j=(float(lst[33587])+float(lst[33588]))/2\n",
    "    k=(float(lst[33599])+float(lst[33600]))/2\n",
    "    l=(float(lst[33611])+float(lst[33612]))/2\n",
    "    m=(float(lst[33623])+float(lst[33624]))/2\n",
    "    n=(float(lst[33635])+float(lst[33636]))/2\n",
    "    o=(float(lst[33647])+float(lst[33648]))/2\n",
    "    p=(float(lst[33659])+float(lst[33660]))/2\n",
    "    q=(float(lst[33671])+float(lst[33672]))/2\n",
    "    r=(float(lst[33683])+float(lst[33684]))/2\n",
    "    s=(float(lst[33695])+float(lst[33696]))/2\n",
    "    t=(float(lst[33707])+float(lst[33708]))/2\n",
    "    u=(float(lst[33719])+float(lst[33720]))/2\n",
    "    v=(float(lst[33731])+float(lst[33732]))/2\n",
    "    w=(float(lst[33743])+float(lst[33744]))/2\n",
    "    x=(float(lst[33755])+float(lst[33756]))/2\n",
    "    y=(float(lst[33767])+float(lst[33768]))/2\n",
    "    \n",
    "    temp_crn=[a,b,c,d,e,f,g,h,i,j,k,l,m,n,o,p,q,r,s,t,u,v,w,x,y]\n",
    "    print(temp_crn)"
   ]
  },
  {
   "cell_type": "code",
   "execution_count": 205,
   "id": "c79c3a66",
   "metadata": {},
   "outputs": [
    {
     "name": "stdout",
     "output_type": "stream",
     "text": [
      "[1.7904000000000018, 1.623000000000001, 2.3064999999999998, 1.9536999999999995, 2.062899999999999, 2.2521000000000004, 1.6412999999999993, 0.3348999999999993, 0.6114999999999995, 0.7322999999999986, 1.0157999999999987, 2.2042000000000037, 2.6524, 2.7571999999999974, 1.9614999999999974, 1.504999999999999, 1.142199999999999, 1.4987999999999957, 1.2429999999999986, 1.845399999999998, 1.0716999999999999, 1.1451999999999956, 2.029600000000002, 3.733400000000003, 3.589599999999999]\n"
     ]
    }
   ],
   "source": [
    "difference6_fai = []\n",
    "\n",
    "zip_object = zip(temp, temp_crn)\n",
    "for temp_i, temp_crn_i in zip_object:\n",
    "    difference6_fai.append(temp_i-temp_crn_i)\n",
    "\n",
    "print(difference6_fai)"
   ]
  },
  {
   "cell_type": "markdown",
   "id": "142d4e9c",
   "metadata": {},
   "source": [
    "<font size=\"3\">**Selma, AL: 0600 UTC (12:00 am CST) 01 March 2022-0600 UTC (12:00 am CST) 02 March 2022</font>"
   ]
  },
  {
   "cell_type": "code",
   "execution_count": 206,
   "id": "96d329b9",
   "metadata": {},
   "outputs": [
    {
     "name": "stdout",
     "output_type": "stream",
     "text": [
      "[11.8654, 11.0105, 10.3565, 9.49121, 9.23788, 8.70212, 9.29129, 11.7349, 14.024, 16.0573, 18.4408, 20.4417, 22.2274, 23.2947, 23.874, 24.3175, 23.9672, 23.0738, 21.093, 18.0704, 16.7217, 15.3452, 14.4796, 13.6959, 13.3271]\n"
     ]
    }
   ],
   "source": [
    "#1 hr hrrr:\n",
    "import numpy as np\n",
    "import numpy.ma as ma\n",
    "with open('hrrr_f18_Selma_AL.txt') as f:\n",
    "    lst=[line.split()[1] for line in f]\n",
    "    temp=[]\n",
    "    for i in lst:\n",
    "        new=i.replace(',',\"\")\n",
    "        temp.append(new)\n",
    "    temp.pop(0)\n",
    "    temp=[float(x) for x in temp]\n",
    "    temp=temp[2772:2797]\n",
    "#     x = np.array(temp)\n",
    "#     temp = ma.masked_array(x, mask=[0, 0, 0, 0, 0,0,1,0,0,0,0,0,0,0,0,0,0,0,0,0,0,0,0,0,0])\n",
    "    print(temp)"
   ]
  },
  {
   "cell_type": "code",
   "execution_count": 207,
   "id": "08c28298",
   "metadata": {},
   "outputs": [
    {
     "name": "stdout",
     "output_type": "stream",
     "text": [
      "[9.8, 9.649999999999999, 8.7, 9.149999999999999, 7.4, 6.3, 8.15, 11.1, 13.75, 15.9, 18.2, 19.75, 21.35, 23.0, 23.95, 24.0, 24.25, 23.4, 19.15, 14.2, 12.45, 11.149999999999999, 10.2, 9.0, 8.5]\n"
     ]
    }
   ],
   "source": [
    "#Air Temp CRN:\n",
    "with open('CRNS0101-05-2022-AL_Selma_13_WNW.txt') as f:\n",
    "    lst=[line.split()[8] for line in f]\n",
    "    \n",
    "    a=(float(lst[33479])+float(lst[33480]))/2\n",
    "    b=(float(lst[33491])+float(lst[33492]))/2\n",
    "    c=(float(lst[33503])+float(lst[33504]))/2\n",
    "    d=(float(lst[33515])+float(lst[33516]))/2\n",
    "    e=(float(lst[33527])+float(lst[33528]))/2\n",
    "    f=(float(lst[33539])+float(lst[33540]))/2\n",
    "    g=(float(lst[33551])+float(lst[33552]))/2\n",
    "    h=(float(lst[33563])+float(lst[33564]))/2\n",
    "    i=(float(lst[33575])+float(lst[33576]))/2\n",
    "    j=(float(lst[33587])+float(lst[33588]))/2\n",
    "    k=(float(lst[33599])+float(lst[33600]))/2\n",
    "    l=(float(lst[33611])+float(lst[33612]))/2\n",
    "    m=(float(lst[33623])+float(lst[33624]))/2\n",
    "    n=(float(lst[33635])+float(lst[33636]))/2\n",
    "    o=(float(lst[33647])+float(lst[33648]))/2\n",
    "    p=(float(lst[33659])+float(lst[33660]))/2\n",
    "    q=(float(lst[33671])+float(lst[33672]))/2\n",
    "    r=(float(lst[33683])+float(lst[33684]))/2\n",
    "    s=(float(lst[33695])+float(lst[33696]))/2\n",
    "    t=(float(lst[33707])+float(lst[33708]))/2\n",
    "    u=(float(lst[33719])+float(lst[33720]))/2\n",
    "    v=(float(lst[33731])+float(lst[33732]))/2\n",
    "    w=(float(lst[33743])+float(lst[33744]))/2\n",
    "    x=(float(lst[33755])+float(lst[33756]))/2\n",
    "    y=(float(lst[33767])+float(lst[33768]))/2\n",
    "    \n",
    "    temp_crn=[a,b,c,d,e,f,g,h,i,j,k,l,m,n,o,p,q,r,s,t,u,v,w,x,y]\n",
    "    print(temp_crn)"
   ]
  },
  {
   "cell_type": "code",
   "execution_count": 208,
   "id": "9d9623a2",
   "metadata": {},
   "outputs": [
    {
     "name": "stdout",
     "output_type": "stream",
     "text": [
      "[2.0653999999999986, 1.3605000000000018, 1.6565000000000012, 0.341210000000002, 1.8378800000000002, 2.402120000000001, 1.1412899999999997, 0.6349, 0.27399999999999913, 0.1573000000000011, 0.24080000000000013, 0.6917000000000009, 0.877399999999998, 0.29469999999999885, -0.07600000000000051, 0.317499999999999, -0.2828000000000017, -0.32620000000000005, 1.9430000000000014, 3.8704, 4.271699999999999, 4.195200000000002, 4.2796, 4.6959, 4.8271]\n"
     ]
    }
   ],
   "source": [
    "difference6_sel = []\n",
    "\n",
    "zip_object = zip(temp, temp_crn)\n",
    "for temp_i, temp_crn_i in zip_object:\n",
    "    difference6_sel.append(temp_i-temp_crn_i)\n",
    "\n",
    "print(difference6_sel)\n",
    "##prfloat(len(difference3_sel))"
   ]
  },
  {
   "cell_type": "markdown",
   "id": "36c4d6a8",
   "metadata": {},
   "source": [
    "<font size=\"3\">Bowling Green, KY: 0600 UTC (12:00 am CST) 01 March 2022-0600 UTC (12:00 am CST) 02 March 2022</font>"
   ]
  },
  {
   "cell_type": "code",
   "execution_count": 209,
   "id": "d83d7c4d",
   "metadata": {},
   "outputs": [
    {
     "name": "stdout",
     "output_type": "stream",
     "text": [
      "[6.49045, 6.01053, 5.79404, 5.42871, 5.55038, 5.45212, 6.66629, 10.1099, 12.524, 14.6198, 16.3783, 18.1917, 19.1649, 20.1697, 20.999, 21.005, 20.4672, 19.8863, 18.0305, 15.3829, 14.2842, 13.4702, 12.1046, 12.5084, 12.0771]\n"
     ]
    }
   ],
   "source": [
    "#1 hr hrrr:\n",
    "with open('hrrr_f18_Bowling Green_KY.txt') as f:\n",
    "    lst=[line.split()[1] for line in f]\n",
    "    temp=[]\n",
    "    for i in lst:\n",
    "        new=i.replace(',',\"\")\n",
    "        temp.append(new)\n",
    "    temp.pop(0)\n",
    "    temp=[float(x) for x in temp]\n",
    "    temp=temp[2772:2797]\n",
    "#     x = np.array(temp)\n",
    "#     temp = ma.masked_array(x, mask=[0, 0, 0, 0, 0,0,1,0,0,0,0,0,0,0,0,0,0,0,0,0,0,0,0,0,0])\n",
    "    #temp=temp[2015:2063]\n",
    "    print(temp)\n",
    "    ##prfloat(len(temp))\n",
    "#full time period is [2015:2112]"
   ]
  },
  {
   "cell_type": "code",
   "execution_count": 210,
   "id": "e74d2987",
   "metadata": {},
   "outputs": [
    {
     "name": "stdout",
     "output_type": "stream",
     "text": [
      "[6.0, 4.9, 4.65, 5.300000000000001, 4.05, 3.8499999999999996, 6.4, 10.0, 12.9, 14.25, 16.25, 17.05, 18.55, 19.95, 20.05, 20.75, 20.5, 19.6, 17.65, 14.6, 13.8, 13.149999999999999, 12.5, 12.7, 11.649999999999999]\n"
     ]
    }
   ],
   "source": [
    "#Air Temp CRN:\n",
    "with open('CRNS0101-05-2022-KY_Bowling_Green_21_NNE.txt') as f:\n",
    "    lst=[line.split()[8] for line in f]\n",
    "    \n",
    "    a=(float(lst[33479])+float(lst[33480]))/2\n",
    "    b=(float(lst[33491])+float(lst[33492]))/2\n",
    "    c=(float(lst[33503])+float(lst[33504]))/2\n",
    "    d=(float(lst[33515])+float(lst[33516]))/2\n",
    "    e=(float(lst[33527])+float(lst[33528]))/2\n",
    "    f=(float(lst[33539])+float(lst[33540]))/2\n",
    "    g=(float(lst[33551])+float(lst[33552]))/2\n",
    "    h=(float(lst[33563])+float(lst[33564]))/2\n",
    "    i=(float(lst[33575])+float(lst[33576]))/2\n",
    "    j=(float(lst[33587])+float(lst[33588]))/2\n",
    "    k=(float(lst[33599])+float(lst[33600]))/2\n",
    "    l=(float(lst[33611])+float(lst[33612]))/2\n",
    "    m=(float(lst[33623])+float(lst[33624]))/2\n",
    "    n=(float(lst[33635])+float(lst[33636]))/2\n",
    "    o=(float(lst[33647])+float(lst[33648]))/2\n",
    "    p=(float(lst[33659])+float(lst[33660]))/2\n",
    "    q=(float(lst[33671])+float(lst[33672]))/2\n",
    "    r=(float(lst[33683])+float(lst[33684]))/2\n",
    "    s=(float(lst[33695])+float(lst[33696]))/2\n",
    "    t=(float(lst[33707])+float(lst[33708]))/2\n",
    "    u=(float(lst[33719])+float(lst[33720]))/2\n",
    "    v=(float(lst[33731])+float(lst[33732]))/2\n",
    "    w=(float(lst[33743])+float(lst[33744]))/2\n",
    "    x=(float(lst[33755])+float(lst[33756]))/2\n",
    "    y=(float(lst[33767])+float(lst[33768]))/2\n",
    "    \n",
    "    temp_crn=[a,b,c,d,e,f,g,h,i,j,k,l,m,n,o,p,q,r,s,t,u,v,w,x,y]\n",
    "    print(temp_crn)"
   ]
  },
  {
   "cell_type": "code",
   "execution_count": 211,
   "id": "e091d5ac",
   "metadata": {},
   "outputs": [
    {
     "name": "stdout",
     "output_type": "stream",
     "text": [
      "[0.49045000000000005, 1.1105299999999998, 1.1440399999999995, 0.128709999999999, 1.5003799999999998, 1.6021200000000002, 0.2662899999999997, 0.10989999999999966, -0.3760000000000012, 0.3697999999999997, 0.12829999999999941, 1.1417000000000002, 0.6148999999999987, 0.21969999999999956, 0.9489999999999981, 0.254999999999999, -0.03280000000000172, 0.2862999999999971, 0.3805000000000014, 0.7828999999999997, 0.4841999999999995, 0.3202000000000016, -0.3954000000000004, -0.19159999999999933, 0.42710000000000115]\n"
     ]
    }
   ],
   "source": [
    "difference6_bow = []\n",
    "\n",
    "zip_object = zip(temp, temp_crn)\n",
    "for temp_i, temp_crn_i in zip_object:\n",
    "    difference6_bow.append(temp_i-temp_crn_i)\n",
    "\n",
    "print(difference6_bow)"
   ]
  },
  {
   "cell_type": "markdown",
   "id": "f806c48f",
   "metadata": {},
   "source": [
    "<font size=\"3\">Gadsden, AL: 0600 UTC (12:00 am CST) 01 March 2022-0600 UTC (12:00 am CST) 02 March 2022</font>"
   ]
  },
  {
   "cell_type": "code",
   "execution_count": 212,
   "id": "8d69cb25",
   "metadata": {},
   "outputs": [
    {
     "name": "stdout",
     "output_type": "stream",
     "text": [
      "[8.36545, 7.63553, 7.54404, 7.24121, 6.98788, 6.20212, 7.35379, 9.98489, 12.4615, 15.0573, 17.6908, 19.8167, 21.0399, 21.8572, 22.3115, 22.3175, 21.5922, 20.8238, 18.6555, 16.4454, 15.0342, 13.9077, 12.9171, 11.8209, 11.3896]\n"
     ]
    }
   ],
   "source": [
    "#1 hr hrrr:\n",
    "with open('hrrr_f18_Gadsden_AL.txt') as f:\n",
    "    lst=[line.split()[1] for line in f]\n",
    "    temp=[]\n",
    "    for i in lst:\n",
    "        new=i.replace(',',\"\")\n",
    "        temp.append(new)\n",
    "    temp.pop(0)\n",
    "    temp=[float(x) for x in temp]\n",
    "    temp=temp[2772:2797]\n",
    "#     x = np.array(temp)\n",
    "#     temp = ma.masked_array(x, mask=[0, 0, 0, 0, 0,0,1,0,0,0,0,0,0,0,0,0,0,0,0,0,0,0,0,0,0])\n",
    "    #temp=temp[2015:2063]\n",
    "    print(temp)\n",
    "    ##prfloat(len(temp))\n",
    "#full time period is [2015:2112]"
   ]
  },
  {
   "cell_type": "code",
   "execution_count": 213,
   "id": "8090f870",
   "metadata": {},
   "outputs": [
    {
     "name": "stdout",
     "output_type": "stream",
     "text": [
      "[8.350000000000001, 7.35, 6.1, 6.5, 5.300000000000001, 3.2, 6.300000000000001, 9.2, 12.9, 14.95, 17.2, 18.950000000000003, 19.95, 20.4, 20.6, 20.6, 20.75, 20.15, 16.5, 13.3, 11.75, 9.45, 8.7, 7.7, 7.449999999999999]\n"
     ]
    }
   ],
   "source": [
    "#Air Temp CRN:\n",
    "with open('CRNS0101-05-2022-AL_Gadsden_19_N.txt') as f:\n",
    "    lst=[line.split()[8] for line in f]\n",
    "    \n",
    "    a=(float(lst[33479])+float(lst[33480]))/2\n",
    "    b=(float(lst[33491])+float(lst[33492]))/2\n",
    "    c=(float(lst[33503])+float(lst[33504]))/2\n",
    "    d=(float(lst[33515])+float(lst[33516]))/2\n",
    "    e=(float(lst[33527])+float(lst[33528]))/2\n",
    "    f=(float(lst[33539])+float(lst[33540]))/2\n",
    "    g=(float(lst[33551])+float(lst[33552]))/2\n",
    "    h=(float(lst[33563])+float(lst[33564]))/2\n",
    "    i=(float(lst[33575])+float(lst[33576]))/2\n",
    "    j=(float(lst[33587])+float(lst[33588]))/2\n",
    "    k=(float(lst[33599])+float(lst[33600]))/2\n",
    "    l=(float(lst[33611])+float(lst[33612]))/2\n",
    "    m=(float(lst[33623])+float(lst[33624]))/2\n",
    "    n=(float(lst[33635])+float(lst[33636]))/2\n",
    "    o=(float(lst[33647])+float(lst[33648]))/2\n",
    "    p=(float(lst[33659])+float(lst[33660]))/2\n",
    "    q=(float(lst[33671])+float(lst[33672]))/2\n",
    "    r=(float(lst[33683])+float(lst[33684]))/2\n",
    "    s=(float(lst[33695])+float(lst[33696]))/2\n",
    "    t=(float(lst[33707])+float(lst[33708]))/2\n",
    "    u=(float(lst[33719])+float(lst[33720]))/2\n",
    "    v=(float(lst[33731])+float(lst[33732]))/2\n",
    "    w=(float(lst[33743])+float(lst[33744]))/2\n",
    "    x=(float(lst[33755])+float(lst[33756]))/2\n",
    "    y=(float(lst[33767])+float(lst[33768]))/2\n",
    "    \n",
    "    temp_crn=[a,b,c,d,e,f,g,h,i,j,k,l,m,n,o,p,q,r,s,t,u,v,w,x,y]\n",
    "    print(temp_crn)"
   ]
  },
  {
   "cell_type": "code",
   "execution_count": 214,
   "id": "8b6d3e05",
   "metadata": {},
   "outputs": [
    {
     "name": "stdout",
     "output_type": "stream",
     "text": [
      "[0.015449999999997743, 0.2855300000000005, 1.4440400000000002, 0.7412099999999997, 1.687879999999999, 3.0021199999999997, 1.0537899999999993, 0.7848900000000008, -0.4385000000000012, 0.1073000000000004, 0.4908000000000001, 0.866699999999998, 1.0899, 1.4572000000000003, 1.7114999999999974, 1.7174999999999976, 0.8421999999999983, 0.6738, 2.1555, 3.1453999999999986, 3.2842000000000002, 4.457700000000001, 4.2171, 4.1209, 3.9396000000000004]\n"
     ]
    }
   ],
   "source": [
    "difference6_gad = []\n",
    "\n",
    "zip_object = zip(temp, temp_crn)\n",
    "for temp_i, temp_crn_i in zip_object:\n",
    "    difference6_gad.append(temp_i-temp_crn_i)\n",
    "\n",
    "print(difference6_gad)"
   ]
  },
  {
   "cell_type": "markdown",
   "id": "a0cf3d12",
   "metadata": {},
   "source": [
    "<font size=\"3\">Newton, GA: 0600 UTC (12:00 am CST) 01 March 2022-0600 UTC (12:00 am CST) 02 March 2022</font>"
   ]
  },
  {
   "cell_type": "code",
   "execution_count": 215,
   "id": "3fd04e58",
   "metadata": {},
   "outputs": [
    {
     "name": "stdout",
     "output_type": "stream",
     "text": [
      "[20.1154, 18.573, 17.544, 16.1162, 15.3004, 14.3896, 15.5413, 17.4849, 20.0865, 22.3073, 24.8158, 26.9417, 28.2899, 29.0447, 29.3115, 29.505, 28.7172, 27.8238, 25.0305, 22.4454, 21.2217, 20.2827, 19.6046, 18.6334, 17.9521]\n"
     ]
    }
   ],
   "source": [
    "#1 hr hrrr:\n",
    "with open('hrrr_f18_Newton_GA.txt') as f:\n",
    "    lst=[line.split()[1] for line in f]\n",
    "    temp=[]\n",
    "    for i in lst:\n",
    "        new=i.replace(',',\"\")\n",
    "        temp.append(new)\n",
    "    temp.pop(0)\n",
    "    temp=[float(x) for x in temp]\n",
    "    temp=temp[2772:2797]\n",
    "#     x = np.array(temp)\n",
    "#     temp = ma.masked_array(x, mask=[0, 0, 0, 0, 0,0,1,0,0,0,0,0,0,0,0,0,0,0,0,0,0,0,0,0,0])\n",
    "    #temp=temp[2015:2063]\n",
    "    print(temp)\n",
    "    ##prfloat(len(temp))\n",
    "#full time period is [2015:2112]"
   ]
  },
  {
   "cell_type": "code",
   "execution_count": 216,
   "id": "b2f733b9",
   "metadata": {},
   "outputs": [
    {
     "name": "stdout",
     "output_type": "stream",
     "text": [
      "[18.0, 16.1, 16.0, 15.6, 14.95, 14.0, 14.3, 15.7, 17.65, 19.7, 21.700000000000003, 23.65, 26.05, 26.65, 27.200000000000003, 27.299999999999997, 26.95, 26.1, 22.200000000000003, 19.6, 17.2, 15.9, 15.399999999999999, 13.85, 13.2]\n"
     ]
    }
   ],
   "source": [
    "#Air Temp CRN:\n",
    "with open('CRNS0101-05-2022-GA_Newton_11_SW.txt') as f:\n",
    "    lst=[line.split()[8] for line in f]\n",
    "    \n",
    "    a=(float(lst[33479])+float(lst[33480]))/2\n",
    "    b=(float(lst[33491])+float(lst[33492]))/2\n",
    "    c=(float(lst[33503])+float(lst[33504]))/2\n",
    "    d=(float(lst[33515])+float(lst[33516]))/2\n",
    "    e=(float(lst[33527])+float(lst[33528]))/2\n",
    "    f=(float(lst[33539])+float(lst[33540]))/2\n",
    "    g=(float(lst[33551])+float(lst[33552]))/2\n",
    "    h=(float(lst[33563])+float(lst[33564]))/2\n",
    "    i=(float(lst[33575])+float(lst[33576]))/2\n",
    "    j=(float(lst[33587])+float(lst[33588]))/2\n",
    "    k=(float(lst[33599])+float(lst[33600]))/2\n",
    "    l=(float(lst[33611])+float(lst[33612]))/2\n",
    "    m=(float(lst[33623])+float(lst[33624]))/2\n",
    "    n=(float(lst[33635])+float(lst[33636]))/2\n",
    "    o=(float(lst[33647])+float(lst[33648]))/2\n",
    "    p=(float(lst[33659])+float(lst[33660]))/2\n",
    "    q=(float(lst[33671])+float(lst[33672]))/2\n",
    "    r=(float(lst[33683])+float(lst[33684]))/2\n",
    "    s=(float(lst[33695])+float(lst[33696]))/2\n",
    "    t=(float(lst[33707])+float(lst[33708]))/2\n",
    "    u=(float(lst[33719])+float(lst[33720]))/2\n",
    "    v=(float(lst[33731])+float(lst[33732]))/2\n",
    "    w=(float(lst[33743])+float(lst[33744]))/2\n",
    "    x=(float(lst[33755])+float(lst[33756]))/2\n",
    "    y=(float(lst[33767])+float(lst[33768]))/2\n",
    "    \n",
    "    temp_crn=[a,b,c,d,e,f,g,h,i,j,k,l,m,n,o,p,q,r,s,t,u,v,w,x,y]\n",
    "    print(temp_crn)"
   ]
  },
  {
   "cell_type": "code",
   "execution_count": 217,
   "id": "53f1a23a",
   "metadata": {},
   "outputs": [
    {
     "name": "stdout",
     "output_type": "stream",
     "text": [
      "[2.115400000000001, 2.472999999999999, 1.5440000000000005, 0.5161999999999995, 0.3504000000000005, 0.3895999999999997, 1.241299999999999, 1.7849000000000004, 2.4365000000000023, 2.607300000000002, 3.1157999999999966, 3.2917000000000023, 2.2398999999999987, 2.3947000000000003, 2.111499999999996, 2.205000000000002, 1.767199999999999, 1.7237999999999971, 2.830499999999997, 2.845399999999998, 4.021699999999999, 4.382699999999998, 4.204600000000003, 4.783400000000002, 4.752100000000002]\n"
     ]
    }
   ],
   "source": [
    "difference6_newt = []\n",
    "\n",
    "zip_object = zip(temp, temp_crn)\n",
    "for temp_i, temp_crn_i in zip_object:\n",
    "    difference6_newt.append(temp_i-temp_crn_i)\n",
    "\n",
    "print(difference6_newt)"
   ]
  },
  {
   "cell_type": "code",
   "execution_count": 218,
   "id": "8a134c48",
   "metadata": {},
   "outputs": [],
   "source": [
    "hour=[6,7,8,9,10,11,12,13,14,15,16,17,18,19,20,21,22,23,0,1,2,3,4,5,6]\n",
    "#prfloat(len(hour))"
   ]
  },
  {
   "cell_type": "code",
   "execution_count": 219,
   "id": "45def68f",
   "metadata": {},
   "outputs": [
    {
     "name": "stdout",
     "output_type": "stream",
     "text": [
      "range(0, 25)\n"
     ]
    }
   ],
   "source": [
    "xs = range(len(hour))\n",
    "print(xs)"
   ]
  },
  {
   "cell_type": "code",
   "execution_count": 220,
   "id": "d5fd370b",
   "metadata": {},
   "outputs": [
    {
     "name": "stdout",
     "output_type": "stream",
     "text": [
      "[ 1.97067917  2.10491833  1.94269833  2.1243      2.22262333  1.81551333\n",
      "  1.31740167  1.23249455  0.2511525  -0.82439    -1.08574167 -0.91034167\n",
      " -0.73510833 -0.62230833 -0.76810833 -0.69795833 -0.99951667 -1.32535833\n",
      " -0.63250833  0.21924667  0.88985833  1.83210333  1.963305    1.93510833\n",
      "  2.03433417]\n",
      "[2.09077129 2.20629107 2.10259301 2.08719122 2.07961856 2.72621023\n",
      " 2.73353717 2.79223392 2.31723236 1.56663821 1.68363337 2.05881273\n",
      " 2.3003196  2.15334925 1.99125993 2.0123218  1.88094082 1.82863834\n",
      " 2.06966218 2.96938471 2.77416622 2.36014399 2.69829218 2.69225076\n",
      " 2.85881747]\n"
     ]
    },
    {
     "name": "stderr",
     "output_type": "stream",
     "text": [
      "C:\\Users\\panwalaf\\AppData\\Local\\Temp\\ipykernel_12284\\2360887579.py:3: UserWarning: Warning: converting a masked element to nan.\n",
      "  c1 = np.array([difference1_sal,difference1_bat,difference1_laf,difference1_mon,difference1_hol,difference1_new,difference1_gai,difference1_fai,difference1_sel,difference1_bow,difference1_gad,difference1_newt])\n",
      "C:\\Users\\panwalaf\\AppData\\Local\\Temp\\ipykernel_12284\\2360887579.py:8: UserWarning: Warning: converting a masked element to nan.\n",
      "  b1 = np.array([difference1_sal,difference1_bat,difference1_laf,difference1_mon,difference1_hol,difference1_new,difference1_gai,difference1_fai,difference1_sel,difference1_bow,difference1_gad,difference1_newt])\n"
     ]
    },
    {
     "data": {
      "text/plain": [
       "25"
      ]
     },
     "execution_count": 220,
     "metadata": {},
     "output_type": "execute_result"
    }
   ],
   "source": [
    "# data = np.array([difference1_sal,difference1_sel,difference1_mon])\n",
    "# np.ma.average(data, axis=0)\n",
    "c1 = np.array([difference1_sal,difference1_bat,difference1_laf,difference1_mon,difference1_hol,difference1_new,difference1_gai,difference1_fai,difference1_sel,difference1_bow,difference1_gad,difference1_newt])\n",
    "c1=np.nanmean(c1, axis=0)\n",
    "print(c1)\n",
    "len(c1)\n",
    "\n",
    "b1 = np.array([difference1_sal,difference1_bat,difference1_laf,difference1_mon,difference1_hol,difference1_new,difference1_gai,difference1_fai,difference1_sel,difference1_bow,difference1_gad,difference1_newt])\n",
    "b1=np.nanstd(b1, axis=0)\n",
    "print(b1)\n",
    "len(b1)"
   ]
  },
  {
   "cell_type": "code",
   "execution_count": 221,
   "id": "0400ce89",
   "metadata": {
    "scrolled": false
   },
   "outputs": [],
   "source": [
    "# def mean(numbers):\n",
    "#     return float(sum(numbers)) / max(len(numbers), 1)\n",
    "\n",
    "# # difference1_sel[17]=None\n",
    "# # difference1_sel[18]=None\n",
    "# # difference1_sel[19]=None\n",
    "# # difference1_sel[20]=None\n",
    "# c1 = [mean(i) for i in zip(difference1_sal,difference1_bat,difference1_laf,difference1_mon,difference1_hol,difference1_new,difference1_gai,difference1_fai,difference1_sel,difference1_bow,difference1_gad,difference1_newt)]\n",
    "# #difference1_bow[6]=0\n",
    "# b1 = [np.std(i) for i in zip(difference1_sal,difference1_bat,difference1_laf,difference1_mon,difference1_hol,difference1_new,difference1_gai,difference1_fai,difference1_sel,difference1_bow,difference1_gad,difference1_newt)]\n",
    "# print (c1)\n",
    "# #prfloat(len(c1))\n",
    "# print(b1)\n",
    "# #prfloat(len(b1))"
   ]
  },
  {
   "cell_type": "code",
   "execution_count": 222,
   "id": "7d6e3e43",
   "metadata": {},
   "outputs": [
    {
     "data": {
      "image/png": "[encoded data removed]",
      "text/plain": [
       "<Figure size 792x396 with 1 Axes>"
      ]
     },
     "metadata": {},
     "output_type": "display_data"
    }
   ],
   "source": [
    "plt.style.use('seaborn-whitegrid')\n",
    "plt.rcParams[\"figure.figsize\"] = [11.00, 5.50]\n",
    "plt.rcParams[\"figure.autolayout\"] = True\n",
    "plt.yticks(np.arange(-8,10,2))\n",
    "plt.ylim(-8,8)\n",
    "# c[6]=None\n",
    "# b[6]=None\n",
    "\n",
    "plt.plot(xs,c1,c=\"black\")\n",
    "plt.errorbar(xs,c1,yerr=b1,linestyle='None', marker='s')\n",
    "# c[6]=None\n",
    "# b[6]=None\n",
    "\n",
    "plt.title(\"18-hr Avg. MBE All Stations\")\n",
    "plt.xlabel(\"UTC Hour\")\n",
    "plt.ylabel(\"MBE Air Temperature (C)\")\n",
    "#plt.plot(hour,c)\n",
    "#plt.errorbar(hour,c,yerr=b,ecolor='r',elinewidth=5,fmt='s',color='k')\n",
    "#plt.grid()\n",
    "#plt.xticks(np.arange(min(xs), max(xs)+1, 1.0))\n",
    "plt.xticks(xs, hour)\n",
    "plt.show()\n",
    "#plt.axvspan(-4, 4, color='green', alpha=0.2, lw=0)"
   ]
  },
  {
   "cell_type": "code",
   "execution_count": 223,
   "id": "d14691f0",
   "metadata": {},
   "outputs": [
    {
     "name": "stdout",
     "output_type": "stream",
     "text": [
      "[ 1.72724031  1.67815842  2.01334117  1.80191212  1.57196933  1.51065067\n",
      "  1.26286623  0.6191455   0.33578175  0.17784358 -0.00509833  0.1849075\n",
      "  0.12070333  0.51707667  0.53879583  0.57088333  0.22281667  0.02923167\n",
      " -0.15794833  1.02141167  1.14403667  1.28457167  0.94576167  0.50308667\n",
      "  0.30264   ]\n",
      "[1.62969267 1.96426952 1.66068199 1.82995307 2.06835871 2.16201827\n",
      " 2.07361195 1.3711483  0.95275732 1.1197662  1.14113149 1.50969795\n",
      " 1.39763945 1.305618   1.28232422 1.34297781 1.21634735 1.05782576\n",
      " 1.34904278 1.88087186 2.09245176 2.43611316 2.47942816 2.41380488\n",
      " 2.46858122]\n"
     ]
    },
    {
     "data": {
      "text/plain": [
       "25"
      ]
     },
     "execution_count": 223,
     "metadata": {},
     "output_type": "execute_result"
    }
   ],
   "source": [
    "c2 = np.array([difference2_sal,difference2_bat,difference2_laf,difference2_mon,difference2_hol,difference2_new,difference2_gai,difference2_fai,difference2_sel,difference2_bow,difference2_gad,difference2_newt])\n",
    "c2=np.nanmean(c2, axis=0)\n",
    "print(c2)\n",
    "len(c2)\n",
    "\n",
    "b2 = np.array([difference2_sal,difference2_bat,difference2_laf,difference2_mon,difference2_hol,difference2_new,difference2_gai,difference2_fai,difference2_sel,difference2_bow,difference2_gad,difference2_newt])\n",
    "b2=np.nanstd(b2, axis=0)\n",
    "print(b2)\n",
    "len(b2)"
   ]
  },
  {
   "cell_type": "code",
   "execution_count": 224,
   "id": "4c8ac8a3",
   "metadata": {},
   "outputs": [
    {
     "data": {
      "image/png": "[encoded data removed]",
      "text/plain": [
       "<Figure size 792x396 with 1 Axes>"
      ]
     },
     "metadata": {},
     "output_type": "display_data"
    }
   ],
   "source": [
    "plt.style.use('seaborn-whitegrid')\n",
    "plt.rcParams[\"figure.figsize\"] = [11.00, 5.50]\n",
    "plt.yticks(np.arange(-8,10,2))\n",
    "plt.ylim(-8,8)\n",
    "# c[6]=None\n",
    "# b[6]=None\n",
    "\n",
    "plt.plot(xs,c2,c=\"red\")\n",
    "plt.errorbar(xs,c2,c=\"red\",yerr=b1,linestyle='None', marker='s')\n",
    "# c[6]=None\n",
    "# b[6]=None\n",
    "\n",
    "plt.title(\"18-hr Avg. MBE All Stations\")\n",
    "plt.xlabel(\"UTC Hour\")\n",
    "plt.ylabel(\"MBE Air Temperature (C)\")\n",
    "#plt.plot(hour,c)\n",
    "#plt.errorbar(hour,c,yerr=b,ecolor='r',elinewidth=5,fmt='s',color='k')\n",
    "#plt.grid()\n",
    "#plt.xticks(np.arange(min(xs), max(xs)+1, 1.0))\n",
    "plt.xticks(xs, hour)\n",
    "plt.show()\n",
    "#plt.axvspan(-4, 4, color='green', alpha=0.2, lw=0)"
   ]
  },
  {
   "cell_type": "code",
   "execution_count": 225,
   "id": "e0b94a04",
   "metadata": {},
   "outputs": [
    {
     "name": "stdout",
     "output_type": "stream",
     "text": [
      "[ 2.94425667  2.9237      3.20210833  3.262905    3.05325333  3.15558308\n",
      "  3.33726017  2.2544825   0.92374667 -0.3779     -0.425325   -0.459875\n",
      " -0.09184167 -0.106      -0.17785833 -0.15616667 -0.35119167 -0.28574167\n",
      "  0.55075833  1.84083333  1.8719      1.81704083  2.16711     2.444565\n",
      "  2.22876833]\n",
      "[2.36856138 2.50755201 2.58095847 2.55566224 2.14426217 2.38352874\n",
      " 2.28557484 1.95630865 1.34620005 1.7052691  1.57545566 1.50874297\n",
      " 1.34634399 1.20648206 1.17830274 1.19312629 1.47315791 1.77155224\n",
      " 1.84288792 1.71255576 1.61912399 2.62252242 2.70100383 2.69507348\n",
      " 2.60964322]\n"
     ]
    },
    {
     "data": {
      "text/plain": [
       "25"
      ]
     },
     "execution_count": 225,
     "metadata": {},
     "output_type": "execute_result"
    }
   ],
   "source": [
    "c3 = np.array([difference3_sal,difference3_bat,difference3_laf,difference3_mon,difference3_hol,difference3_new,difference3_gai,difference3_fai,difference3_sel,difference3_bow,difference3_gad,difference3_newt])\n",
    "c3=np.nanmean(c3, axis=0)\n",
    "print(c3)\n",
    "len(c3)\n",
    "\n",
    "b3 = np.array([difference3_sal,difference3_bat,difference3_laf,difference3_mon,difference3_hol,difference3_new,difference3_gai,difference3_fai,difference3_sel,difference3_bow,difference3_gad,difference3_newt])\n",
    "b3=np.nanstd(b3, axis=0)\n",
    "print(b3)\n",
    "len(b3)"
   ]
  },
  {
   "cell_type": "code",
   "execution_count": 226,
   "id": "0d8bef30",
   "metadata": {
    "scrolled": false
   },
   "outputs": [],
   "source": [
    "# def mean(numbers):\n",
    "#     return float(sum(numbers)) / max(len(numbers), 1)\n",
    "\n",
    "# # difference1_sel[17]=0\n",
    "# # difference1_sel[18]=0\n",
    "# # difference1_sel[19]=0\n",
    "# # difference1_sel[20]=0\n",
    "# c3 = [mean(i) for i in zip(difference3_sal,difference3_bat,difference3_laf,difference3_mon,difference3_hol,difference3_new,difference3_gai,difference3_fai,difference3_sel,difference3_bow,difference3_gad,difference3_newt)]\n",
    "# #difference1_bow[6]=0\n",
    "# b3 = [np.std(i) for i in zip(difference3_sal,difference3_bat,difference3_laf,difference3_mon,difference3_hol,difference3_new,difference3_gai,difference3_fai,difference3_sel,difference3_bow,difference3_gad,difference3_newt)]\n",
    "# print (c3)\n",
    "# #prfloat(len(c3))\n",
    "# print(b3)\n",
    "# #prfloat(len(b3))"
   ]
  },
  {
   "cell_type": "code",
   "execution_count": 227,
   "id": "00a5e783",
   "metadata": {},
   "outputs": [
    {
     "data": {
      "image/png": "[encoded data removed]",
      "text/plain": [
       "<Figure size 792x396 with 1 Axes>"
      ]
     },
     "metadata": {},
     "output_type": "display_data"
    }
   ],
   "source": [
    "plt.style.use('seaborn-whitegrid')\n",
    "plt.rcParams[\"figure.figsize\"] = [11.00, 5.50]\n",
    "plt.rcParams[\"figure.autolayout\"] = True\n",
    "plt.yticks(np.arange(-8,10,2))\n",
    "plt.ylim(-8,8)\n",
    "# c[6]=None\n",
    "# b[6]=None\n",
    "\n",
    "plt.plot(xs,c3,c=\"green\")\n",
    "plt.errorbar(xs,c3,c=\"green\",yerr=b3,linestyle='None', marker='s')\n",
    "# c[6]=None\n",
    "# b[6]=None\n",
    "\n",
    "plt.title(\"18-hr Avg. MBE All Stations\")\n",
    "plt.xlabel(\"UTC Hour\")\n",
    "plt.ylabel(\"MBE Air Temperature (C)\")\n",
    "#plt.plot(hour,c)\n",
    "#plt.errorbar(hour,c,yerr=b,ecolor='r',elinewidth=5,fmt='s',color='k')\n",
    "#plt.grid()\n",
    "#plt.xticks(np.arange(min(xs), max(xs)+1, 1.0))\n",
    "plt.xticks(xs, hour)\n",
    "plt.show()\n",
    "#plt.axvspan(-4, 4, color='green', alpha=0.2, lw=0)"
   ]
  },
  {
   "cell_type": "code",
   "execution_count": 228,
   "id": "a2b4f439",
   "metadata": {},
   "outputs": [
    {
     "name": "stdout",
     "output_type": "stream",
     "text": [
      "[ 3.37827083  3.34972167  2.98391833  3.31620833  2.67811     2.48328333\n",
      "  2.26761333  0.93473333 -0.47259583 -1.009025   -0.87728167 -0.058575\n",
      "  0.18456667  0.27328333  0.60624167  0.47743333  0.31115     0.43926667\n",
      "  0.80735833  1.5836      1.49811667  1.83854     2.28334167  2.05126833\n",
      "  2.132655  ]\n",
      "[1.55569347 1.61103572 1.96712266 1.71284273 1.47919037 1.4436538\n",
      " 1.70752626 1.77013957 1.06828634 1.35234292 1.55421676 1.54496936\n",
      " 1.34994534 1.18914177 0.99258263 1.16093458 1.10576731 1.12406597\n",
      " 1.36443344 2.15680247 2.13105652 2.21903253 2.21156677 2.35723231\n",
      " 1.96836897]\n"
     ]
    },
    {
     "data": {
      "text/plain": [
       "25"
      ]
     },
     "execution_count": 228,
     "metadata": {},
     "output_type": "execute_result"
    }
   ],
   "source": [
    "c4 = np.array([difference4_sal,difference4_bat,difference4_laf,difference4_mon,difference4_hol,difference4_new,difference4_gai,difference4_fai,difference4_sel,difference4_bow,difference4_gad,difference4_newt])\n",
    "c4=np.nanmean(c4, axis=0)\n",
    "print(c4)\n",
    "len(c4)\n",
    "\n",
    "b4 = np.array([difference4_sal,difference4_bat,difference4_laf,difference4_mon,difference4_hol,difference4_new,difference4_gai,difference4_fai,difference4_sel,difference4_bow,difference4_gad,difference4_newt])\n",
    "b4=np.nanstd(b4, axis=0)\n",
    "print(b4)\n",
    "len(b4)"
   ]
  },
  {
   "cell_type": "code",
   "execution_count": 229,
   "id": "b1774c6c",
   "metadata": {
    "scrolled": false
   },
   "outputs": [],
   "source": [
    "# def mean(numbers):\n",
    "#     return float(sum(numbers)) / max(len(numbers), 1)\n",
    "\n",
    "# # difference1_sel[17]=0\n",
    "# # difference1_sel[18]=0\n",
    "# # difference1_sel[19]=0\n",
    "# # difference1_sel[20]=0\n",
    "# c4 = [mean(i) for i in zip(difference4_sal,difference4_bat,difference4_laf,difference4_mon,difference4_hol,difference4_new,difference4_gai,difference4_fai,difference4_sel,difference4_bow,difference4_gad,difference4_newt)]\n",
    "# #difference1_bow[6]=0\n",
    "# b4 = [np.std(i) for i in zip(difference4_sal,difference4_bat,difference4_laf,difference4_mon,difference4_hol,difference4_new,difference4_gai,difference4_fai,difference4_sel,difference4_bow,difference4_gad,difference4_newt)]\n",
    "# print (c4)\n",
    "# #prfloat(len(c4))\n",
    "# print(b4)\n",
    "# #prfloat(len(b4))"
   ]
  },
  {
   "cell_type": "code",
   "execution_count": 230,
   "id": "e70a6cef",
   "metadata": {},
   "outputs": [
    {
     "data": {
      "image/png": "[encoded data removed]",
      "text/plain": [
       "<Figure size 792x396 with 1 Axes>"
      ]
     },
     "metadata": {},
     "output_type": "display_data"
    }
   ],
   "source": [
    "plt.style.use('seaborn-whitegrid')\n",
    "plt.rcParams[\"figure.figsize\"] = [11.00, 5.50]\n",
    "plt.rcParams[\"figure.autolayout\"] = True\n",
    "plt.yticks(np.arange(-8,10,2))\n",
    "plt.ylim(-8,8)\n",
    "# c[6]=None\n",
    "# b[6]=None\n",
    "\n",
    "plt.plot(xs,c4,c=\"orange\")\n",
    "plt.errorbar(xs,c4,c=\"orange\",yerr=b4,linestyle='None', marker='s')\n",
    "# c[6]=None\n",
    "# b[6]=None\n",
    "\n",
    "plt.title(\"18-hr Avg. MBE All Stations\")\n",
    "plt.xlabel(\"UTC Hour\")\n",
    "plt.ylabel(\"MBE Air Temperature (C)\")\n",
    "#plt.plot(hour,c)\n",
    "#plt.errorbar(hour,c,yerr=b,ecolor='r',elinewidth=5,fmt='s',color='k')\n",
    "#plt.grid()\n",
    "#plt.xticks(np.arange(min(xs), max(xs)+1, 1.0))\n",
    "plt.xticks(xs, hour)\n",
    "plt.show()\n",
    "#plt.axvspan(-4, 4, color='green', alpha=0.2, lw=0)"
   ]
  },
  {
   "cell_type": "code",
   "execution_count": 231,
   "id": "410bac86",
   "metadata": {},
   "outputs": [
    {
     "name": "stdout",
     "output_type": "stream",
     "text": [
      "[ 0.49028667  0.52650583  0.25409     0.66255868  0.66108836  0.93271317\n",
      "  0.26138367 -0.94545417 -1.17825    -1.13186667 -0.60151    -0.36266833\n",
      " -0.12145833 -0.112925   -0.031575   -0.08078333 -0.05001667 -0.27223333\n",
      "  0.88453333  2.09724417  2.57975583  2.41506333  2.15191167  1.8828475\n",
      "  1.71783333]\n",
      "[1.38675822 1.11367606 1.21793526 1.32811794 1.69551109 1.93226001\n",
      " 1.76881158 0.84252138 0.48802056 0.7461125  0.9470667  1.15414388\n",
      " 1.42824428 1.37850996 1.54329974 1.61974176 1.78361198 1.59374864\n",
      " 1.33057332 1.43884944 1.66526892 1.79084879 1.88208339 1.85865287\n",
      " 1.64606011]\n"
     ]
    },
    {
     "data": {
      "text/plain": [
       "25"
      ]
     },
     "execution_count": 231,
     "metadata": {},
     "output_type": "execute_result"
    }
   ],
   "source": [
    "# data = np.array([difference1_sal,difference1_sel,difference1_mon])\n",
    "# np.ma.average(data, axis=0)\n",
    "c5 = np.array([difference5_sal,difference5_bat,difference5_laf,difference5_mon,difference5_hol,difference5_new,difference5_gai,difference5_fai,difference5_sel,difference5_bow,difference5_gad,difference5_newt])\n",
    "c5=np.nanmean(c5, axis=0)\n",
    "print(c5)\n",
    "len(c5)\n",
    "\n",
    "b5 = np.array([difference5_sal,difference5_bat,difference5_laf,difference5_mon,difference5_hol,difference5_new,difference5_gai,difference5_fai,difference5_sel,difference5_bow,difference5_gad,difference5_newt])\n",
    "b5=np.nanstd(b5, axis=0)\n",
    "print(b5)\n",
    "len(b5)"
   ]
  },
  {
   "cell_type": "code",
   "execution_count": 232,
   "id": "ac07d6b1",
   "metadata": {},
   "outputs": [
    {
     "data": {
      "image/png": "[encoded data removed]",
      "text/plain": [
       "<Figure size 792x396 with 1 Axes>"
      ]
     },
     "metadata": {},
     "output_type": "display_data"
    }
   ],
   "source": [
    "plt.style.use('seaborn-whitegrid')\n",
    "plt.rcParams[\"figure.figsize\"] = [11.00, 5.50]\n",
    "plt.rcParams[\"figure.autolayout\"] = True\n",
    "plt.yticks(np.arange(-8,10,2))\n",
    "plt.ylim(-8,8)\n",
    "# c[6]=None\n",
    "# b[6]=None\n",
    "\n",
    "plt.plot(xs,c5,c=\"m\")\n",
    "plt.errorbar(xs,c5,c=\"m\",yerr=b1,linestyle='None', marker='s')\n",
    "# c[6]=None\n",
    "# b[6]=None\n",
    "\n",
    "plt.title(\"18-hr Avg. MBE All Stations\")\n",
    "plt.xlabel(\"UTC Hour\")\n",
    "plt.ylabel(\"MBE Air Temperature (C)\")\n",
    "#plt.plot(hour,c)\n",
    "#plt.errorbar(hour,c,yerr=b,ecolor='r',elinewidth=5,fmt='s',color='k')\n",
    "#plt.grid()\n",
    "#plt.xticks(np.arange(min(xs), max(xs)+1, 1.0))\n",
    "plt.xticks(xs, hour)\n",
    "plt.show()\n",
    "#plt.axvspan(-4, 4, color='green', alpha=0.2, lw=0)"
   ]
  },
  {
   "cell_type": "code",
   "execution_count": 233,
   "id": "9b993a8f",
   "metadata": {},
   "outputs": [
    {
     "name": "stdout",
     "output_type": "stream",
     "text": [
      "[1.67375417 1.6792625  1.59193667 1.615165   1.95351167 2.56669833\n",
      " 1.79546    1.02239667 0.433375   0.30000833 0.38559167 0.92503333\n",
      " 0.99198333 1.10199167 1.12608333 0.958125   0.66095    0.689425\n",
      " 1.52841667 2.73081667 3.087325   3.210825   3.13064167 3.30735833\n",
      " 3.14793333]\n",
      "[1.79260344 1.88048122 1.71096167 1.8358937  1.51984387 1.26987513\n",
      " 1.22513156 1.46140381 1.24564998 1.33538051 1.57773785 1.46146984\n",
      " 1.19950981 1.22170537 1.04204368 1.03888117 1.04116446 0.97532213\n",
      " 1.17638253 1.86117006 2.31804024 2.52473248 2.41051547 2.4655251\n",
      " 2.45627562]\n"
     ]
    },
    {
     "data": {
      "text/plain": [
       "25"
      ]
     },
     "execution_count": 233,
     "metadata": {},
     "output_type": "execute_result"
    }
   ],
   "source": [
    "# data = np.array([difference1_sal,difference1_sel,difference1_mon])\n",
    "# np.ma.average(data, axis=0)\n",
    "c6 = np.array([difference6_sal,difference6_bat,difference6_laf,difference6_mon,difference6_hol,difference6_new,difference6_gai,difference6_fai,difference6_sel,difference6_bow,difference6_gad,difference6_newt])\n",
    "c6=np.nanmean(c6, axis=0)\n",
    "print(c6)\n",
    "len(c6)\n",
    "\n",
    "b6 = np.array([difference6_sal,difference6_bat,difference6_laf,difference6_mon,difference6_hol,difference6_new,difference6_gai,difference6_fai,difference6_sel,difference6_bow,difference6_gad,difference6_newt])\n",
    "b6=np.nanstd(b6, axis=0)\n",
    "print(b6)\n",
    "len(b6)"
   ]
  },
  {
   "cell_type": "code",
   "execution_count": 234,
   "id": "ec1cde35",
   "metadata": {},
   "outputs": [],
   "source": [
    "# c6=[1.69515417 ,1.70709167, 1.26736333, 1.34882833 ,1.49238333, 1.87774667,\n",
    "#         np.nan, 0.48735417, 0.05486667, 0.14599167, 0.066825 ,  0.507175,\n",
    "#  0.58094167 ,0.65081667, 0.77076667 ,0.55695 ,   0.619625,   0.856975,\n",
    "#  2.04933333 ,3.60505 ,   3.39469167 ,3.1228  ,   2.84731667, 2.81386667,\n",
    "#  2.46251667]\n",
    "# print(c6)\n",
    "\n",
    "# b6=[1.92558988, 1.75340783 ,1.69348421, 1.63957646 ,1.37669294 ,1.24622615,\n",
    "#         np.nan ,1.54066215, 1.32796772 ,1.31405125 ,1.3790577 , 1.21399312,\n",
    "#  0.96395262 ,1.05115058, 0.95782595, 0.88687625 ,0.87859566, 0.90294837,\n",
    "#  1.06229573, 1.91024172 ,2.20450804 ,2.17887586, 1.91778161, 2.1142395,\n",
    "#  1.85524898]\n",
    "# print(b6)"
   ]
  },
  {
   "cell_type": "code",
   "execution_count": 235,
   "id": "cdb8e9ef",
   "metadata": {},
   "outputs": [
    {
     "data": {
      "image/png": "[encoded data removed]",
      "text/plain": [
       "<Figure size 792x396 with 1 Axes>"
      ]
     },
     "metadata": {},
     "output_type": "display_data"
    }
   ],
   "source": [
    "plt.style.use('seaborn-whitegrid')\n",
    "plt.rcParams[\"figure.figsize\"] = [11.00, 5.50]\n",
    "plt.rcParams[\"figure.autolayout\"] = True\n",
    "plt.yticks(np.arange(-8,10,2))\n",
    "plt.ylim(-8,8)\n",
    "# c[6]=None\n",
    "# b[6]=None\n",
    "\n",
    "plt.plot(xs,c6,c=\"c\")\n",
    "plt.errorbar(xs,c6,c=\"c\",yerr=b6,linestyle='None', marker='s')\n",
    "# c[6]=None\n",
    "# b[6]=None\n",
    "\n",
    "plt.title(\"18-hr Avg. MBE All Stations\")\n",
    "plt.xlabel(\"UTC Hour\")\n",
    "plt.ylabel(\"MBE Air Temperature (C)\")\n",
    "#plt.plot(hour,c)\n",
    "#plt.errorbar(hour,c,yerr=b,ecolor='r',elinewidth=5,fmt='s',color='k')\n",
    "#plt.grid()\n",
    "#plt.xticks(np.arange(min(xs), max(xs)+1, 1.0))\n",
    "plt.xticks(xs, hour)\n",
    "plt.show()\n",
    "#plt.axvspan(-4, 4, color='green', alpha=0.2, lw=0)"
   ]
  },
  {
   "cell_type": "code",
   "execution_count": 236,
   "id": "240eafe4",
   "metadata": {},
   "outputs": [
    {
     "data": {
      "image/png": "[encoded data removed]",
      "text/plain": [
       "<Figure size 792x396 with 1 Axes>"
      ]
     },
     "metadata": {},
     "output_type": "display_data"
    }
   ],
   "source": [
    "plt.style.use('seaborn-whitegrid')\n",
    "plt.rcParams[\"figure.figsize\"] = [11.00, 5.50]\n",
    "plt.rcParams[\"figure.autolayout\"] = True\n",
    "plt.yticks(np.arange(-8,10,2))\n",
    "plt.ylim(-8,8)\n",
    "\n",
    "plt.plot(xs,c1,c=\"b\",label=\"IOP 1\")\n",
    "plt.errorbar(xs,c1,c=\"b\",yerr=b1,linestyle='None', marker='s')\n",
    "\n",
    "plt.plot(xs,c2,c=\"r\",label=\"IOP 2\")\n",
    "plt.errorbar(xs,c2,c=\"r\",yerr=b2,linestyle='None', marker='s')\n",
    "\n",
    "plt.plot(xs,c3,c=\"green\")\n",
    "plt.errorbar(xs,c3,c=\"green\",yerr=b3,linestyle='None', marker='s')\n",
    "\n",
    "plt.plot(xs,c4,c=\"orange\")\n",
    "plt.errorbar(xs,c4,c=\"orange\",yerr=b4,linestyle='None', marker='s')\n",
    "\n",
    "plt.plot(xs,c5,c=\"m\")\n",
    "plt.errorbar(xs,c5,c=\"m\",yerr=b5,linestyle='None', marker='s')\n",
    "\n",
    "plt.plot(xs,c6,c=\"c\")\n",
    "plt.errorbar(xs,c6,c=\"c\",yerr=b6,linestyle='None', marker='s')\n",
    "\n",
    "plt.title(\"18-hr Avg. MBE All Stations\")\n",
    "plt.xlabel(\"UTC Hour\")\n",
    "plt.ylabel(\"MBE Air Temperature (C)\")\n",
    "#plt.plot(hour,c)\n",
    "#plt.errorbar(hour,c,yerr=b,ecolor='r',elinewidth=5,fmt='s',color='k')\n",
    "#plt.grid()\n",
    "plt.xticks(xs, hour)\n",
    "plt.legend([\"IOP 1\", \"IOP 2\",\"IOP 3\",\"IOP 4\",\"IOP 5\",\"IOP 6\"], loc =\"lower right\")\n",
    "plt.show()"
   ]
  }
 ],
 "metadata": {
  "kernelspec": {
   "display_name": "Python 3 (ipykernel)",
   "language": "python",
   "name": "python3"
  },
  "language_info": {
   "codemirror_mode": {
    "name": "ipython",
    "version": 3
   },
   "file_extension": ".py",
   "mimetype": "text/x-python",
   "name": "python",
   "nbconvert_exporter": "python",
   "pygments_lexer": "ipython3",
   "version": "3.9.12"
  }
 },
 "nbformat": 4,
 "nbformat_minor": 5
}
