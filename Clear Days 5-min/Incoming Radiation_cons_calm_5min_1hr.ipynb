{
 "cells": [
  {
   "cell_type": "code",
   "execution_count": 1,
   "id": "83d28093",
   "metadata": {},
   "outputs": [],
   "source": [
    "import numpy as np\n",
    "import matplotlib.pyplot as plt\n",
    "import math\n",
    "import numpy.ma as ma"
   ]
  },
  {
   "cell_type": "markdown",
   "id": "18ad22a0",
   "metadata": {},
   "source": [
    "<font size=\"3\">Salem, MO: 0600 UTC (12:00 am CST) 01 March 2022-0600 UTC (12:00 am CST) 02 March 2022</font>"
   ]
  },
  {
   "cell_type": "code",
   "execution_count": 2,
   "id": "9d3b9481",
   "metadata": {},
   "outputs": [
    {
     "name": "stdout",
     "output_type": "stream",
     "text": [
      "[0.0, 0.0, 0.0, 0.0, 0.0, 0.0, 0.0, 22.9, 227.3, 428.8, 598.5, 717.4, 774.1, 763.3, 683.6, 547.8, 363.2, 154.6, 0.0, 0.0, 0.0, 0.0, 0.0, 0.0, 0.0]\n",
      "25\n"
     ]
    }
   ],
   "source": [
    "#1 hr hrrr:\n",
    "with open('hrrr_f01_Salem_MO.txt') as f:\n",
    "    lst=[line.split()[3] for line in f]\n",
    "    temp=[]\n",
    "    for i in lst:\n",
    "        new=i.replace(',',\"\")\n",
    "        temp.append(new)\n",
    "    temp.pop(0)\n",
    "    temp=[float(x) for x in temp]\n",
    "    temp=temp[1421:1446]\n",
    "    #temp=temp[2015:2063]\n",
    "    print(temp)\n",
    "    print(len(temp))\n",
    "#full time period is [2015:2112]"
   ]
  },
  {
   "cell_type": "code",
   "execution_count": 3,
   "id": "e9d4dbcc",
   "metadata": {},
   "outputs": [
    {
     "name": "stdout",
     "output_type": "stream",
     "text": [
      "[0.0, 0.0, 0.0, 0.0, 0.0, 0.0, 0.0, 31.0, 228.5, 432.0, 596.0, 706.5, 754.5, 744.5, 668.5, 534.0, 350.0, 145.0, 0.0, 0.0, 0.0, 0.0, 0.0, 0.0, 0.0]\n"
     ]
    }
   ],
   "source": [
    "#Air Temp CRN:\n",
    "with open('CRNS0101-05-2022-MO_Salem_10_W.txt') as f:\n",
    "    lst=[line.split()[10] for line in f]\n",
    "\n",
    "    a=(int(lst[17063])+int(lst[17064]))/2\n",
    "    b=(int(lst[17075])+int(lst[17076]))/2\n",
    "    c=(int(lst[17087])+int(lst[17088]))/2\n",
    "    d=(int(lst[17099])+int(lst[17100]))/2\n",
    "    e=(int(lst[17111])+int(lst[17112]))/2\n",
    "    f=(int(lst[17123])+int(lst[17124]))/2\n",
    "    g=(int(lst[17135])+int(lst[17136]))/2\n",
    "    h=(int(lst[17147])+int(lst[17148]))/2\n",
    "    i=(int(lst[17159])+int(lst[17160]))/2\n",
    "    j=(int(lst[17171])+int(lst[17172]))/2\n",
    "    k=(int(lst[17183])+int(lst[17184]))/2\n",
    "    l=(int(lst[17195])+int(lst[17196]))/2\n",
    "    m=(int(lst[17207])+int(lst[17208]))/2\n",
    "    n=(int(lst[17219])+int(lst[17220]))/2\n",
    "    o=(int(lst[17231])+int(lst[17232]))/2\n",
    "    p=(int(lst[17243])+int(lst[17244]))/2\n",
    "    q=(int(lst[17255])+int(lst[17256]))/2\n",
    "    r=(int(lst[17267])+int(lst[17268]))/2\n",
    "    s=(int(lst[17279])+int(lst[17280]))/2\n",
    "    t=(int(lst[17291])+int(lst[17292]))/2\n",
    "    u=(int(lst[17303])+int(lst[17304]))/2\n",
    "    v=(int(lst[17315])+int(lst[17316]))/2\n",
    "    w=(int(lst[17327])+int(lst[17328]))/2\n",
    "    x=(int(lst[17339])+int(lst[17340]))/2\n",
    "    y=(int(lst[17351])+int(lst[17352]))/2\n",
    "    temp_crn=[a,b,c,d,e,f,g,h,i,j,k,l,m,n,o,p,q,r,s,t,u,v,w,x,y]\n",
    "    print(temp_crn)"
   ]
  },
  {
   "cell_type": "code",
   "execution_count": 4,
   "id": "1e9aed03-d99c-4045-812a-e26bcc99b84f",
   "metadata": {},
   "outputs": [
    {
     "name": "stdout",
     "output_type": "stream",
     "text": [
      "[0.0, 0.0, 0.0, 0.0, 0.0, 0.0, 0.0, -8.100000000000001, -1.1999999999999886, -3.1999999999999886, 2.5, 10.899999999999977, 19.600000000000023, 18.799999999999955, 15.100000000000023, 13.799999999999955, 13.199999999999989, 9.599999999999994, 0.0, 0.0, 0.0, 0.0, 0.0, 0.0, 0.0]\n"
     ]
    }
   ],
   "source": [
    "difference1_sal = []\n",
    "\n",
    "zip_object = zip(temp, temp_crn)\n",
    "for temp_i, temp_crn_i in zip_object:\n",
    "    difference1_sal.append(temp_i-temp_crn_i)\n",
    "\n",
    "print(difference1_sal)"
   ]
  },
  {
   "cell_type": "markdown",
   "id": "9043c519",
   "metadata": {},
   "source": [
    "<font size=\"3\">Batesville, AR: 0600 UTC (12:00 am CST) 01 March 2022-0600 UTC (12:00 am CST) 02 March 2022</font>"
   ]
  },
  {
   "cell_type": "code",
   "execution_count": 5,
   "id": "af395ecc",
   "metadata": {},
   "outputs": [
    {
     "name": "stdout",
     "output_type": "stream",
     "text": [
      "[0.0, 0.0, 0.0, 0.0, 0.0, 0.0, 0.0, 27.5, 240.9, 452.7, 627.3, 749.2, 805.2, 789.5, 714.6, 567.9, 376.3, 165.1, 0.0, 0.0, 0.0, 0.0, 0.0, 0.0, 0.0]\n",
      "25\n"
     ]
    }
   ],
   "source": [
    "#1 hr hrrr:\n",
    "with open('hrrr_f01_Batesville_AR.txt') as f:\n",
    "    lst=[line.split()[3] for line in f]\n",
    "    temp=[]\n",
    "    for i in lst:\n",
    "        new=i.replace(',',\"\")\n",
    "        temp.append(new)\n",
    "    temp.pop(0)\n",
    "    temp=[float(x) for x in temp]\n",
    "    temp=temp[1421:1446]\n",
    "#     x = np.array(temp)\n",
    "#     temp = ma.masked_array(x, mask=[0, 0, 0, 0, 0,0,0,0,0,0,0,0,0,0,0,0,0,0,0,0,0,1,0,0,0])\n",
    "    #temp=temp[2015:2063]\n",
    "    print(temp)\n",
    "    print(len(temp))\n",
    "#full time period is [2015:2112]"
   ]
  },
  {
   "cell_type": "code",
   "execution_count": 6,
   "id": "5da1fd53",
   "metadata": {},
   "outputs": [
    {
     "name": "stdout",
     "output_type": "stream",
     "text": [
      "[0.0, 0.0, 0.0, 0.0, 0.0, 0.0, 0.0, 42.0, 236.0, 451.0, 629.0, 749.0, 805.5, 795.0, 715.0, 577.0, 390.5, 172.0, 0.0, 0.0, 0.0, 0.0, 0.0, 0.0, 0.0]\n"
     ]
    }
   ],
   "source": [
    "#Air Temp CRN:\n",
    "with open('CRNS0101-05-2022-AR_Batesville_8_WNW.txt') as f:\n",
    "    lst=[line.split()[10] for line in f]\n",
    "    \n",
    "    a=(int(lst[17063])+int(lst[17064]))/2\n",
    "    b=(int(lst[17075])+int(lst[17076]))/2\n",
    "    c=(int(lst[17087])+int(lst[17088]))/2\n",
    "    d=(int(lst[17099])+int(lst[17100]))/2\n",
    "    e=(int(lst[17111])+int(lst[17112]))/2\n",
    "    f=(int(lst[17123])+int(lst[17124]))/2\n",
    "    g=(int(lst[17135])+int(lst[17136]))/2\n",
    "    h=(int(lst[17147])+int(lst[17148]))/2\n",
    "    i=(int(lst[17159])+int(lst[17160]))/2\n",
    "    j=(int(lst[17171])+int(lst[17172]))/2\n",
    "    k=(int(lst[17183])+int(lst[17184]))/2\n",
    "    l=(int(lst[17195])+int(lst[17196]))/2\n",
    "    m=(int(lst[17207])+int(lst[17208]))/2\n",
    "    n=(int(lst[17219])+int(lst[17220]))/2\n",
    "    o=(int(lst[17231])+int(lst[17232]))/2\n",
    "    p=(int(lst[17243])+int(lst[17244]))/2\n",
    "    q=(int(lst[17255])+int(lst[17256]))/2\n",
    "    r=(int(lst[17267])+int(lst[17268]))/2\n",
    "    s=(int(lst[17279])+int(lst[17280]))/2\n",
    "    t=(int(lst[17291])+int(lst[17292]))/2\n",
    "    u=(int(lst[17303])+int(lst[17304]))/2\n",
    "    v=(int(lst[17315])+int(lst[17316]))/2\n",
    "    w=(int(lst[17327])+int(lst[17328]))/2\n",
    "    x=(int(lst[17339])+int(lst[17340]))/2\n",
    "    y=(int(lst[17351])+int(lst[17352]))/2\n",
    "    temp_crn=[a,b,c,d,e,f,g,h,i,j,k,l,m,n,o,p,q,r,s,t,u,v,w,x,y]\n",
    "    print(temp_crn)"
   ]
  },
  {
   "cell_type": "code",
   "execution_count": 7,
   "id": "62a46873",
   "metadata": {},
   "outputs": [
    {
     "name": "stdout",
     "output_type": "stream",
     "text": [
      "[0.0, 0.0, 0.0, 0.0, 0.0, 0.0, 0.0, -14.5, 4.900000000000006, 1.6999999999999886, -1.7000000000000455, 0.20000000000004547, -0.2999999999999545, -5.5, -0.39999999999997726, -9.100000000000023, -14.199999999999989, -6.900000000000006, 0.0, 0.0, 0.0, 0.0, 0.0, 0.0, 0.0]\n"
     ]
    }
   ],
   "source": [
    "difference1_bat = []\n",
    "\n",
    "zip_object = zip(temp, temp_crn)\n",
    "for temp_i, temp_crn_i in zip_object:\n",
    "    difference1_bat.append(temp_i-temp_crn_i)\n",
    "\n",
    "print(difference1_bat)"
   ]
  },
  {
   "cell_type": "markdown",
   "id": "2a2589df",
   "metadata": {},
   "source": [
    "<font size=\"3\">Lafayette, LA: 0600 UTC (12:00 am CST) 01 March 2022-0600 UTC (12:00 am CST) 02 March 2022</font>"
   ]
  },
  {
   "cell_type": "code",
   "execution_count": 8,
   "id": "3fd34af2",
   "metadata": {},
   "outputs": [
    {
     "name": "stdout",
     "output_type": "stream",
     "text": [
      "[0.0, 0.0, 0.0, 0.0, 0.0, 0.0, 0.0, 42.4, 276.8, 507.3, 696.9, 828.6, 855.9, 866.2, 786.4, 632.7, 429.7, 199.4, 2.9, 0.0, 0.0, 0.0, 0.0, 0.0, 0.0]\n"
     ]
    }
   ],
   "source": [
    "#1 hr hrrr:\n",
    "with open('hrrr_f01_Lafayette_LA.txt') as f:\n",
    "    lst=[line.split()[3] for line in f]\n",
    "    temp=[]\n",
    "    for i in lst:\n",
    "        new=i.replace(',',\"\")\n",
    "        temp.append(new)\n",
    "    temp.pop(0)\n",
    "    temp=[float(x) for x in temp]\n",
    "    temp=temp[1421:1446]\n",
    "    #temp=temp[2015:2063]\n",
    "    print(temp)\n",
    "    #print(len(temp))\n",
    "#full time period is [2015:2112]"
   ]
  },
  {
   "cell_type": "code",
   "execution_count": 9,
   "id": "2aa0e7ac",
   "metadata": {},
   "outputs": [
    {
     "name": "stdout",
     "output_type": "stream",
     "text": [
      "[0.0, 0.0, 0.0, 0.0, 0.0, 0.0, 0.0, 68.5, 277.0, 486.5, 662.0, 739.5, 790.0, 822.0, 746.0, 617.5, 410.5, 188.5, 4.0, 0.0, 0.0, 0.0, 0.0, 0.0, 0.0]\n"
     ]
    }
   ],
   "source": [
    "#Air Temp CRN:\n",
    "with open('CRNS0101-05-2022-LA_Lafayette_13_SE.txt') as f:\n",
    "    lst=[line.split()[10] for line in f]\n",
    "    \n",
    "    a=(int(lst[17063])+int(lst[17064]))/2\n",
    "    b=(int(lst[17075])+int(lst[17076]))/2\n",
    "    c=(int(lst[17087])+int(lst[17088]))/2\n",
    "    d=(int(lst[17099])+int(lst[17100]))/2\n",
    "    e=(int(lst[17111])+int(lst[17112]))/2\n",
    "    f=(int(lst[17123])+int(lst[17124]))/2\n",
    "    g=(int(lst[17135])+int(lst[17136]))/2\n",
    "    h=(int(lst[17147])+int(lst[17148]))/2\n",
    "    i=(int(lst[17159])+int(lst[17160]))/2\n",
    "    j=(int(lst[17171])+int(lst[17172]))/2\n",
    "    k=(int(lst[17183])+int(lst[17184]))/2\n",
    "    l=(int(lst[17195])+int(lst[17196]))/2\n",
    "    m=(int(lst[17207])+int(lst[17208]))/2\n",
    "    n=(int(lst[17219])+int(lst[17220]))/2\n",
    "    o=(int(lst[17231])+int(lst[17232]))/2\n",
    "    p=(int(lst[17243])+int(lst[17244]))/2\n",
    "    q=(int(lst[17255])+int(lst[17256]))/2\n",
    "    r=(int(lst[17267])+int(lst[17268]))/2\n",
    "    s=(int(lst[17279])+int(lst[17280]))/2\n",
    "    t=(int(lst[17291])+int(lst[17292]))/2\n",
    "    u=(int(lst[17303])+int(lst[17304]))/2\n",
    "    v=(int(lst[17315])+int(lst[17316]))/2\n",
    "    w=(int(lst[17327])+int(lst[17328]))/2\n",
    "    x=(int(lst[17339])+int(lst[17340]))/2\n",
    "    y=(int(lst[17351])+int(lst[17352]))/2\n",
    "    temp_crn=[a,b,c,d,e,f,g,h,i,j,k,l,m,n,o,p,q,r,s,t,u,v,w,x,y]\n",
    "    print(temp_crn)"
   ]
  },
  {
   "cell_type": "code",
   "execution_count": 10,
   "id": "9b94d0f9",
   "metadata": {},
   "outputs": [
    {
     "name": "stdout",
     "output_type": "stream",
     "text": [
      "[0.0, 0.0, 0.0, 0.0, 0.0, 0.0, 0.0, -26.1, -0.19999999999998863, 20.80000000000001, 34.89999999999998, 89.10000000000002, 65.89999999999998, 44.200000000000045, 40.39999999999998, 15.200000000000045, 19.19999999999999, 10.900000000000006, -1.1, 0.0, 0.0, 0.0, 0.0, 0.0, 0.0]\n"
     ]
    }
   ],
   "source": [
    "difference1_laf = []\n",
    "\n",
    "zip_object = zip(temp, temp_crn)\n",
    "for temp_i, temp_crn_i in zip_object:\n",
    "    difference1_laf.append(temp_i-temp_crn_i)\n",
    "\n",
    "print(difference1_laf)"
   ]
  },
  {
   "cell_type": "markdown",
   "id": "7a8d079f",
   "metadata": {},
   "source": [
    "<font size=\"3\">Monroe, LA: 0600 UTC (12:00 am CST) 01 March 2022-0600 UTC (12:00 am CST) 02 March 2022</font>"
   ]
  },
  {
   "cell_type": "code",
   "execution_count": 11,
   "id": "9c6d2382",
   "metadata": {},
   "outputs": [
    {
     "name": "stdout",
     "output_type": "stream",
     "text": [
      "[0.0, 0.0, 0.0, 0.0, 0.0, 0.0, 0.0, 26.4, 221.9, 454.0, 649.7, 781.4, 842.1, 829.0, 749.8, 606.4, 412.5, 190.1, 1.3, 0.0, 0.0, 0.0, 0.0, 0.0, 0.0]\n"
     ]
    }
   ],
   "source": [
    "#1 hr hrrr:\n",
    "with open('hrrr_f01_Monroe_LA.txt') as f:\n",
    "    lst=[line.split()[3] for line in f]\n",
    "    temp=[]\n",
    "    for i in lst:\n",
    "        new=i.replace(',',\"\")\n",
    "        temp.append(new)\n",
    "    temp.pop(0)\n",
    "    temp=[float(x) for x in temp]\n",
    "    temp=temp[1421:1446]\n",
    "    #temp=temp[2015:2063]\n",
    "    print(temp)\n",
    "    #print(len(temp))\n",
    "#full time period is [2015:2112]"
   ]
  },
  {
   "cell_type": "code",
   "execution_count": 12,
   "id": "3fe08a4e",
   "metadata": {},
   "outputs": [
    {
     "name": "stdout",
     "output_type": "stream",
     "text": [
      "[0.0, 0.0, 0.0, 0.0, 0.0, 0.0, 0.0, 25.0, 135.5, 462.5, 610.0, 766.5, 817.5, 801.5, 719.0, 575.0, 375.5, 33.0, 3.0, 0.0, 0.0, 0.0, 0.0, 0.0, 0.0]\n"
     ]
    }
   ],
   "source": [
    "#Air Temp CRN:\n",
    "with open('CRNS0101-05-2022-LA_Monroe_26_N.txt') as f:\n",
    "    lst=[line.split()[10] for line in f]\n",
    "    \n",
    "    a=(int(lst[17063])+int(lst[17064]))/2\n",
    "    b=(int(lst[17075])+int(lst[17076]))/2\n",
    "    c=(int(lst[17087])+int(lst[17088]))/2\n",
    "    d=(int(lst[17099])+int(lst[17100]))/2\n",
    "    e=(int(lst[17111])+int(lst[17112]))/2\n",
    "    f=(int(lst[17123])+int(lst[17124]))/2\n",
    "    g=(int(lst[17135])+int(lst[17136]))/2\n",
    "    h=(int(lst[17147])+int(lst[17148]))/2\n",
    "    i=(int(lst[17159])+int(lst[17160]))/2\n",
    "    j=(int(lst[17171])+int(lst[17172]))/2\n",
    "    k=(int(lst[17183])+int(lst[17184]))/2\n",
    "    l=(int(lst[17195])+int(lst[17196]))/2\n",
    "    m=(int(lst[17207])+int(lst[17208]))/2\n",
    "    n=(int(lst[17219])+int(lst[17220]))/2\n",
    "    o=(int(lst[17231])+int(lst[17232]))/2\n",
    "    p=(int(lst[17243])+int(lst[17244]))/2\n",
    "    q=(int(lst[17255])+int(lst[17256]))/2\n",
    "    r=(int(lst[17267])+int(lst[17268]))/2\n",
    "    s=(int(lst[17279])+int(lst[17280]))/2\n",
    "    t=(int(lst[17291])+int(lst[17292]))/2\n",
    "    u=(int(lst[17303])+int(lst[17304]))/2\n",
    "    v=(int(lst[17315])+int(lst[17316]))/2\n",
    "    w=(int(lst[17327])+int(lst[17328]))/2\n",
    "    x=(int(lst[17339])+int(lst[17340]))/2\n",
    "    y=(int(lst[17351])+int(lst[17352]))/2\n",
    "    temp_crn=[a,b,c,d,e,f,g,h,i,j,k,l,m,n,o,p,q,r,s,t,u,v,w,x,y]\n",
    "    print(temp_crn)"
   ]
  },
  {
   "cell_type": "code",
   "execution_count": 13,
   "id": "2b4e383a",
   "metadata": {},
   "outputs": [
    {
     "name": "stdout",
     "output_type": "stream",
     "text": [
      "[0.0, 0.0, 0.0, 0.0, 0.0, 0.0, 0.0, 1.3999999999999986, 86.4, -8.5, 39.700000000000045, 14.899999999999977, 24.600000000000023, 27.5, 30.799999999999955, 31.399999999999977, 37.0, 157.1, -1.7, 0.0, 0.0, 0.0, 0.0, 0.0, 0.0]\n"
     ]
    }
   ],
   "source": [
    "difference1_mon = []\n",
    "\n",
    "zip_object = zip(temp, temp_crn)\n",
    "for temp_i, temp_crn_i in zip_object:\n",
    "    difference1_mon.append(temp_i-temp_crn_i)\n",
    "\n",
    "print(difference1_mon)"
   ]
  },
  {
   "cell_type": "markdown",
   "id": "26c585ff",
   "metadata": {},
   "source": [
    "<font size=\"3\">Holly Springs, MS: 0600 UTC (12:00 am CST) 01 March 2022-0600 UTC (12:00 am CST) 02 March 2022</font>"
   ]
  },
  {
   "cell_type": "code",
   "execution_count": 14,
   "id": "175bd35c",
   "metadata": {},
   "outputs": [
    {
     "name": "stdout",
     "output_type": "stream",
     "text": [
      "[0.0, 0.0, 0.0, 0.0, 0.0, 0.0, 0.0, 57.2, 280.5, 492.9, 663.2, 778.7, 822.3, 800.4, 708.5, 557.0, 357.6, 139.4, 0.0, 0.0, 0.0, 0.0, 0.0, 0.0, 0.0]\n"
     ]
    }
   ],
   "source": [
    "#1 hr hrrr:\n",
    "with open('hrrr_f01_Holly Springs_MS.txt') as f:\n",
    "    lst=[line.split()[3] for line in f]\n",
    "    temp=[]\n",
    "    for i in lst:\n",
    "        new=i.replace(',',\"\")\n",
    "        temp.append(new)\n",
    "    temp.pop(0)\n",
    "    temp=[float(x) for x in temp]\n",
    "    temp=temp[1421:1446]\n",
    "    #temp=temp[2015:2063]\n",
    "    print(temp)\n",
    "    #print(len(temp))\n",
    "#full time period is [2015:2112]"
   ]
  },
  {
   "cell_type": "code",
   "execution_count": 15,
   "id": "f416219a",
   "metadata": {},
   "outputs": [
    {
     "name": "stdout",
     "output_type": "stream",
     "text": [
      "[0.0, 0.0, 0.0, 0.0, 0.0, 0.0, 0.0, 11.0, 313.5, 524.5, 679.5, 772.5, 801.0, 762.5, 663.0, 507.5, 306.0, 69.0, 0.0, 0.0, 0.0, 0.0, 0.0, 0.0, 0.0]\n"
     ]
    }
   ],
   "source": [
    "#Air Temp CRN:\n",
    "with open('CRNS0101-05-2022-MS_Holly_Springs_4_N.txt') as f:\n",
    "    lst=[line.split()[10] for line in f]\n",
    "    \n",
    "    a=(int(lst[17063])+int(lst[17064]))/2\n",
    "    b=(int(lst[17075])+int(lst[17076]))/2\n",
    "    c=(int(lst[17087])+int(lst[17088]))/2\n",
    "    d=(int(lst[17099])+int(lst[17100]))/2\n",
    "    e=(int(lst[17111])+int(lst[17112]))/2\n",
    "    f=(int(lst[17123])+int(lst[17124]))/2\n",
    "    g=(int(lst[17135])+int(lst[17136]))/2\n",
    "    h=(int(lst[17147])+int(lst[17148]))/2\n",
    "    i=(int(lst[17159])+int(lst[17160]))/2\n",
    "    j=(int(lst[17171])+int(lst[17172]))/2\n",
    "    k=(int(lst[17183])+int(lst[17184]))/2\n",
    "    l=(int(lst[17195])+int(lst[17196]))/2\n",
    "    m=(int(lst[17207])+int(lst[17208]))/2\n",
    "    n=(int(lst[17219])+int(lst[17220]))/2\n",
    "    o=(int(lst[17231])+int(lst[17232]))/2\n",
    "    p=(int(lst[17243])+int(lst[17244]))/2\n",
    "    q=(int(lst[17255])+int(lst[17256]))/2\n",
    "    r=(int(lst[17267])+int(lst[17268]))/2\n",
    "    s=(int(lst[17279])+int(lst[17280]))/2\n",
    "    t=(int(lst[17291])+int(lst[17292]))/2\n",
    "    u=(int(lst[17303])+int(lst[17304]))/2\n",
    "    v=(int(lst[17315])+int(lst[17316]))/2\n",
    "    w=(int(lst[17327])+int(lst[17328]))/2\n",
    "    x=(int(lst[17339])+int(lst[17340]))/2\n",
    "    y=(int(lst[17351])+int(lst[17352]))/2\n",
    "    temp_crn=[a,b,c,d,e,f,g,h,i,j,k,l,m,n,o,p,q,r,s,t,u,v,w,x,y]\n",
    "    print(temp_crn)"
   ]
  },
  {
   "cell_type": "code",
   "execution_count": 16,
   "id": "46b095cb",
   "metadata": {},
   "outputs": [
    {
     "name": "stdout",
     "output_type": "stream",
     "text": [
      "[0.0, 0.0, 0.0, 0.0, 0.0, 0.0, 0.0, 46.2, -33.0, -31.600000000000023, -16.299999999999955, 6.2000000000000455, 21.299999999999955, 37.89999999999998, 45.5, 49.5, 51.60000000000002, 70.4, 0.0, 0.0, 0.0, 0.0, 0.0, 0.0, 0.0]\n"
     ]
    }
   ],
   "source": [
    "difference1_hol = []\n",
    "\n",
    "zip_object = zip(temp, temp_crn)\n",
    "for temp_i, temp_crn_i in zip_object:\n",
    "    difference1_hol.append(temp_i-temp_crn_i)\n",
    "\n",
    "print(difference1_hol)"
   ]
  },
  {
   "cell_type": "markdown",
   "id": "1c76c308",
   "metadata": {},
   "source": [
    "<font size=\"3\">Newton, MS: 0600 UTC (12:00 am CST) 01 March 2022-0600 UTC (12:00 am CST) 02 March 2022</font>"
   ]
  },
  {
   "cell_type": "code",
   "execution_count": 17,
   "id": "06decf86",
   "metadata": {},
   "outputs": [
    {
     "name": "stdout",
     "output_type": "stream",
     "text": [
      "[0.0, 0.0, 0.0, 0.0, 0.0, 0.0, 0.0, 55.8, 222.8, 500.5, 617.6, 815.5, 864.8, 838.3, 739.5, 576.8, 373.6, 147.5, 0.0, 0.0, 0.0, 0.0, 0.0, 0.0, 0.0]\n"
     ]
    }
   ],
   "source": [
    "#1 hr hrrr:\n",
    "with open('hrrr_f01_Newton_MS.txt') as f:\n",
    "    lst=[line.split()[3] for line in f]\n",
    "    temp=[]\n",
    "    for i in lst:\n",
    "        new=i.replace(',',\"\")\n",
    "        temp.append(new)\n",
    "    temp.pop(0)\n",
    "    temp=[float(x) for x in temp]\n",
    "    temp=temp[1421:1446]\n",
    "    #temp=temp[2015:2063]\n",
    "    print(temp)\n",
    "    #print(len(temp))\n",
    "#full time period is [2015:2112]"
   ]
  },
  {
   "cell_type": "code",
   "execution_count": 18,
   "id": "9672674c",
   "metadata": {},
   "outputs": [
    {
     "name": "stdout",
     "output_type": "stream",
     "text": [
      "[0.0, 0.0, 0.0, 0.0, 0.0, 0.0, 0.0, 30.0, 266.0, 452.5, 642.0, 787.5, 806.5, 804.5, 715.0, 564.5, 370.0, 150.0, 0.0, 0.0, 0.0, 0.0, 0.0, 0.0, 0.0]\n"
     ]
    }
   ],
   "source": [
    "#Air Temp CRN:\n",
    "with open('CRNS0101-05-2022-MS_Newton_5_ENE.txt') as f:\n",
    "    lst=[line.split()[10] for line in f]\n",
    "    \n",
    "    a=(int(lst[17063])+int(lst[17064]))/2\n",
    "    b=(int(lst[17075])+int(lst[17076]))/2\n",
    "    c=(int(lst[17087])+int(lst[17088]))/2\n",
    "    d=(int(lst[17099])+int(lst[17100]))/2\n",
    "    e=(int(lst[17111])+int(lst[17112]))/2\n",
    "    f=(int(lst[17123])+int(lst[17124]))/2\n",
    "    g=(int(lst[17135])+int(lst[17136]))/2\n",
    "    h=(int(lst[17147])+int(lst[17148]))/2\n",
    "    i=(int(lst[17159])+int(lst[17160]))/2\n",
    "    j=(int(lst[17171])+int(lst[17172]))/2\n",
    "    k=(int(lst[17183])+int(lst[17184]))/2\n",
    "    l=(int(lst[17195])+int(lst[17196]))/2\n",
    "    m=(int(lst[17207])+int(lst[17208]))/2\n",
    "    n=(int(lst[17219])+int(lst[17220]))/2\n",
    "    o=(int(lst[17231])+int(lst[17232]))/2\n",
    "    p=(int(lst[17243])+int(lst[17244]))/2\n",
    "    q=(int(lst[17255])+int(lst[17256]))/2\n",
    "    r=(int(lst[17267])+int(lst[17268]))/2\n",
    "    s=(int(lst[17279])+int(lst[17280]))/2\n",
    "    t=(int(lst[17291])+int(lst[17292]))/2\n",
    "    u=(int(lst[17303])+int(lst[17304]))/2\n",
    "    v=(int(lst[17315])+int(lst[17316]))/2\n",
    "    w=(int(lst[17327])+int(lst[17328]))/2\n",
    "    x=(int(lst[17339])+int(lst[17340]))/2\n",
    "    y=(int(lst[17351])+int(lst[17352]))/2\n",
    "    temp_crn=[a,b,c,d,e,f,g,h,i,j,k,l,m,n,o,p,q,r,s,t,u,v,w,x,y]\n",
    "    print(temp_crn)"
   ]
  },
  {
   "cell_type": "code",
   "execution_count": 19,
   "id": "e588ab70",
   "metadata": {},
   "outputs": [
    {
     "name": "stdout",
     "output_type": "stream",
     "text": [
      "[0.0, 0.0, 0.0, 0.0, 0.0, 0.0, 0.0, 25.799999999999997, -43.19999999999999, 48.0, -24.399999999999977, 28.0, 58.299999999999955, 33.799999999999955, 24.5, 12.299999999999955, 3.6000000000000227, -2.5, 0.0, 0.0, 0.0, 0.0, 0.0, 0.0, 0.0]\n"
     ]
    }
   ],
   "source": [
    "difference1_new = []\n",
    "\n",
    "zip_object = zip(temp, temp_crn)\n",
    "for temp_i, temp_crn_i in zip_object:\n",
    "    difference1_new.append(temp_i-temp_crn_i)\n",
    "\n",
    "print(difference1_new)"
   ]
  },
  {
   "cell_type": "markdown",
   "id": "c9620694",
   "metadata": {},
   "source": [
    "<font size=\"3\">Gainesville, AL: 0600 UTC (12:00 am CST) 01 March 2022-0600 UTC (12:00 am CST) 02 March 2022</font>"
   ]
  },
  {
   "cell_type": "code",
   "execution_count": 20,
   "id": "a422cd03",
   "metadata": {},
   "outputs": [],
   "source": [
    "# #1 hr hrrr:\n",
    "# with open('hrrr_f01_Gainesville_AL.txt') as f:\n",
    "#     lst=[line.split()[3] for line in f]\n",
    "#     temp=[]\n",
    "#     for i in lst:\n",
    "#         new=i.replace(',',\"\")\n",
    "#         temp.append(new)\n",
    "#     temp.pop(0)\n",
    "#     temp=[float(x) for x in temp]\n",
    "#     temp=temp[1421:1446]\n",
    "#     #temp=temp[2015:2063]\n",
    "#     print(temp)\n",
    "#     #print(len(temp))\n",
    "# #full time period is [2015:2112]"
   ]
  },
  {
   "cell_type": "code",
   "execution_count": 21,
   "id": "2c97e541",
   "metadata": {},
   "outputs": [],
   "source": [
    "# #Air Temp CRN:\n",
    "# with open('CRNH0203-2022-AL_Gainesville_2_NE.txt') as f:\n",
    "#     lst=[line.split()[13] for line in f]\n",
    "#     #print(lst)\n",
    "#     temp_crn=[]\n",
    "#     for i in lst:\n",
    "#         new=i.replace(',',\"\")\n",
    "#         temp_crn.append(new)\n",
    "#     temp_crn=[float(x) for x in temp_crn]\n",
    "#     temp_crn=temp_crn[1421:1446]\n",
    "#     print(temp_crn)\n",
    "#     #print(len(temp_crn))\n",
    "#     # print(temp_crn[2124])"
   ]
  },
  {
   "cell_type": "code",
   "execution_count": 22,
   "id": "8df76a7b",
   "metadata": {},
   "outputs": [],
   "source": [
    "# difference1_gai = []\n",
    "\n",
    "# zip_object = zip(temp, temp_crn)\n",
    "# for temp_i, temp_crn_i in zip_object:\n",
    "#     difference1_gai.append(temp_i-temp_crn_i)\n",
    "\n",
    "# print(difference1_gai)"
   ]
  },
  {
   "cell_type": "markdown",
   "id": "2711dc15",
   "metadata": {},
   "source": [
    "<font size=\"3\">Fairhope, AL: 0600 UTC (12:00 am CST) 01 March 2022-0600 UTC (12:00 am CST) 02 March 2022</font>"
   ]
  },
  {
   "cell_type": "code",
   "execution_count": 23,
   "id": "64dbcf91",
   "metadata": {},
   "outputs": [
    {
     "name": "stdout",
     "output_type": "stream",
     "text": [
      "[0.0, 0.0, 0.0, 0.0, 0.0, 0.0, 0.0, 99.0, 330.4, 510.8, 721.9, 837.5, 874.9, 833.6, 751.2, 584.9, 351.5, 135.2, 0.0, 0.0, 0.0, 0.0, 0.0, 0.0, 0.0]\n"
     ]
    }
   ],
   "source": [
    "#1 hr hrrr:\n",
    "with open('hrrr_f01_Fairhope_AL.txt') as f:\n",
    "    lst=[line.split()[3] for line in f]\n",
    "    temp=[]\n",
    "    for i in lst:\n",
    "        new=i.replace(',',\"\")\n",
    "        temp.append(new)\n",
    "    temp.pop(0)\n",
    "    temp=[float(x) for x in temp]\n",
    "    temp=temp[1421:1446]\n",
    "    #temp=temp[2015:2063]\n",
    "    print(temp)\n",
    "    #print(len(temp))\n",
    "#full time period is [2015:2112]"
   ]
  },
  {
   "cell_type": "code",
   "execution_count": 24,
   "id": "83dc8266",
   "metadata": {},
   "outputs": [
    {
     "name": "stdout",
     "output_type": "stream",
     "text": [
      "[0.0, 0.0, 0.0, 0.0, 0.0, 0.0, 0.0, 111.0, 328.0, 565.0, 602.0, 800.0, 832.0, 811.5, 715.5, 569.0, 364.0, 140.0, 0.0, 0.0, 0.0, 0.0, 0.0, 0.0, 0.0]\n"
     ]
    }
   ],
   "source": [
    "#Air Temp CRN:\n",
    "with open('CRNS0101-05-2022-AL_Fairhope_3_NE.txt') as f:\n",
    "    lst=[line.split()[10] for line in f]\n",
    "    \n",
    "    a=(int(lst[17063])+int(lst[17064]))/2\n",
    "    b=(int(lst[17075])+int(lst[17076]))/2\n",
    "    c=(int(lst[17087])+int(lst[17088]))/2\n",
    "    d=(int(lst[17099])+int(lst[17100]))/2\n",
    "    e=(int(lst[17111])+int(lst[17112]))/2\n",
    "    f=(int(lst[17123])+int(lst[17124]))/2\n",
    "    g=(int(lst[17135])+int(lst[17136]))/2\n",
    "    h=(int(lst[17147])+int(lst[17148]))/2\n",
    "    i=(int(lst[17159])+int(lst[17160]))/2\n",
    "    j=(int(lst[17171])+int(lst[17172]))/2\n",
    "    k=(int(lst[17183])+int(lst[17184]))/2\n",
    "    l=(int(lst[17195])+int(lst[17196]))/2\n",
    "    m=(int(lst[17207])+int(lst[17208]))/2\n",
    "    n=(int(lst[17219])+int(lst[17220]))/2\n",
    "    o=(int(lst[17231])+int(lst[17232]))/2\n",
    "    p=(int(lst[17243])+int(lst[17244]))/2\n",
    "    q=(int(lst[17255])+int(lst[17256]))/2\n",
    "    r=(int(lst[17267])+int(lst[17268]))/2\n",
    "    s=(int(lst[17279])+int(lst[17280]))/2\n",
    "    t=(int(lst[17291])+int(lst[17292]))/2\n",
    "    u=(int(lst[17303])+int(lst[17304]))/2\n",
    "    v=(int(lst[17315])+int(lst[17316]))/2\n",
    "    w=(int(lst[17327])+int(lst[17328]))/2\n",
    "    x=(int(lst[17339])+int(lst[17340]))/2\n",
    "    y=(int(lst[17351])+int(lst[17352]))/2\n",
    "    temp_crn=[a,b,c,d,e,f,g,h,i,j,k,l,m,n,o,p,q,r,s,t,u,v,w,x,y]\n",
    "    print(temp_crn)"
   ]
  },
  {
   "cell_type": "code",
   "execution_count": 25,
   "id": "a9ff3306",
   "metadata": {},
   "outputs": [
    {
     "name": "stdout",
     "output_type": "stream",
     "text": [
      "[0.0, 0.0, 0.0, 0.0, 0.0, 0.0, 0.0, -12.0, 2.3999999999999773, -54.19999999999999, 119.89999999999998, 37.5, 42.89999999999998, 22.100000000000023, 35.700000000000045, 15.899999999999977, -12.5, -4.800000000000011, 0.0, 0.0, 0.0, 0.0, 0.0, 0.0, 0.0]\n"
     ]
    }
   ],
   "source": [
    "difference1_fai = []\n",
    "\n",
    "zip_object = zip(temp, temp_crn)\n",
    "for temp_i, temp_crn_i in zip_object:\n",
    "    difference1_fai.append(temp_i-temp_crn_i)\n",
    "\n",
    "print(difference1_fai)"
   ]
  },
  {
   "cell_type": "markdown",
   "id": "f5dd4e4b",
   "metadata": {},
   "source": [
    "<font size=\"3\">**Selma, AL: 0600 UTC (12:00 am CST) 01 March 2022-0600 UTC (12:00 am CST) 02 March 2022</font>"
   ]
  },
  {
   "cell_type": "code",
   "execution_count": 26,
   "id": "af6b46b1",
   "metadata": {},
   "outputs": [
    {
     "name": "stdout",
     "output_type": "stream",
     "text": [
      "[0.0, 0.0, 0.0, 0.0, 0.0, 0.0, 0.0, 110.2, 337.5, 550.3, 665.2, 830.5, 866.6, 830.8, 722.3, 556.4, 343.9, 116.6, 0.0, 0.0, 0.0, 0.0, 0.0, 0.0, 0.0]\n"
     ]
    }
   ],
   "source": [
    "#1 hr hrrr:\n",
    "import numpy as np\n",
    "import numpy.ma as ma\n",
    "with open('hrrr_f01_Selma_AL.txt') as f:\n",
    "    lst=[line.split()[3] for line in f]\n",
    "    temp=[]\n",
    "    for i in lst:\n",
    "        new=i.replace(',',\"\")\n",
    "        temp.append(new)\n",
    "    temp.pop(0)\n",
    "    temp=[float(x) for x in temp]\n",
    "    temp=temp[1421:1446]\n",
    "\n",
    "#     x = np.array(temp)\n",
    "#     temp = ma.masked_array(x, mask=[0, 0, 0, 0, 0,0,0,0,0,0,0,0,0,0,0,0,0,1,1,1,1,0,0,0,0])\n",
    "    print(temp)"
   ]
  },
  {
   "cell_type": "code",
   "execution_count": 27,
   "id": "942dc824",
   "metadata": {},
   "outputs": [
    {
     "name": "stdout",
     "output_type": "stream",
     "text": [
      "[0.0, 0.0, 0.0, 0.0, 0.0, 0.0, 0.0, 78.0, 370.0, 419.5, 689.0, 772.0, 808.5, 769.5, 672.0, 513.5, 311.5, 102.5, 0.0, 0.0, 0.0, 0.0, 0.0, 0.0, 0.0]\n"
     ]
    }
   ],
   "source": [
    "#Air Temp CRN:\n",
    "with open('CRNS0101-05-2022-AL_Selma_13_WNW.txt') as f:\n",
    "    lst=[line.split()[10] for line in f]\n",
    "    \n",
    "    a=(int(lst[17063])+int(lst[17064]))/2\n",
    "    b=(int(lst[17075])+int(lst[17076]))/2\n",
    "    c=(int(lst[17087])+int(lst[17088]))/2\n",
    "    d=(int(lst[17099])+int(lst[17100]))/2\n",
    "    e=(int(lst[17111])+int(lst[17112]))/2\n",
    "    f=(int(lst[17123])+int(lst[17124]))/2\n",
    "    g=(int(lst[17135])+int(lst[17136]))/2\n",
    "    h=(int(lst[17147])+int(lst[17148]))/2\n",
    "    i=(int(lst[17159])+int(lst[17160]))/2\n",
    "    j=(int(lst[17171])+int(lst[17172]))/2\n",
    "    k=(int(lst[17183])+int(lst[17184]))/2\n",
    "    l=(int(lst[17195])+int(lst[17196]))/2\n",
    "    m=(int(lst[17207])+int(lst[17208]))/2\n",
    "    n=(int(lst[17219])+int(lst[17220]))/2\n",
    "    o=(int(lst[17231])+int(lst[17232]))/2\n",
    "    p=(int(lst[17243])+int(lst[17244]))/2\n",
    "    q=(int(lst[17255])+int(lst[17256]))/2\n",
    "    r=(int(lst[17267])+int(lst[17268]))/2\n",
    "    s=(int(lst[17279])+int(lst[17280]))/2\n",
    "    t=(int(lst[17291])+int(lst[17292]))/2\n",
    "    u=(int(lst[17303])+int(lst[17304]))/2\n",
    "    v=(int(lst[17315])+int(lst[17316]))/2\n",
    "    w=(int(lst[17327])+int(lst[17328]))/2\n",
    "    x=(int(lst[17339])+int(lst[17340]))/2\n",
    "    y=(int(lst[17351])+int(lst[17352]))/2\n",
    "    temp_crn=[a,b,c,d,e,f,g,h,i,j,k,l,m,n,o,p,q,r,s,t,u,v,w,x,y]\n",
    "    print(temp_crn)"
   ]
  },
  {
   "cell_type": "code",
   "execution_count": 28,
   "id": "fdfb15c8",
   "metadata": {},
   "outputs": [
    {
     "name": "stdout",
     "output_type": "stream",
     "text": [
      "[0.0, 0.0, 0.0, 0.0, 0.0, 0.0, 0.0, 32.2, -32.5, 130.79999999999995, -23.799999999999955, 58.5, 58.10000000000002, 61.299999999999955, 50.299999999999955, 42.89999999999998, 32.39999999999998, 14.099999999999994, 0.0, 0.0, 0.0, 0.0, 0.0, 0.0, 0.0]\n"
     ]
    }
   ],
   "source": [
    "difference1_sel = []\n",
    "\n",
    "zip_object = zip(temp, temp_crn)\n",
    "for temp_i, temp_crn_i in zip_object:\n",
    "    difference1_sel.append(temp_i-temp_crn_i)\n",
    "\n",
    "print(difference1_sel)\n",
    "#print(len(difference1_sel))"
   ]
  },
  {
   "cell_type": "markdown",
   "id": "8fab4bdc",
   "metadata": {},
   "source": [
    "<font size=\"3\">Bowling Green, KY: 0600 UTC (12:00 am CST) 01 March 2022-0600 UTC (12:00 am CST) 02 March 2022</font>"
   ]
  },
  {
   "cell_type": "code",
   "execution_count": 29,
   "id": "bf608647",
   "metadata": {},
   "outputs": [
    {
     "name": "stdout",
     "output_type": "stream",
     "text": [
      "[0.0, 0.0, 0.0, 0.0, 0.0, 0.0, 0.0, 91.3, 297.9, 490.2, 642.9, 740.3, 773.4, 734.2, 627.6, 476.6, 284.4, 80.8, 0.0, 0.0, 0.0, 0.0, 0.0, 0.0, 0.0]\n"
     ]
    }
   ],
   "source": [
    "#1 hr hrrr:\n",
    "with open('hrrr_f01_Bowling Green_KY.txt') as f:\n",
    "    lst=[line.split()[3] for line in f]\n",
    "    temp=[]\n",
    "    for i in lst:\n",
    "        new=i.replace(',',\"\")\n",
    "        temp.append(new)\n",
    "    temp.pop(0)\n",
    "    temp=[float(x) for x in temp]\n",
    "    temp=temp[1421:1446]\n",
    "    #temp=temp[2015:2063]\n",
    "    print(temp)\n",
    "    #print(len(temp))\n",
    "#full time period is [2015:2112]"
   ]
  },
  {
   "cell_type": "code",
   "execution_count": 30,
   "id": "d7253497",
   "metadata": {},
   "outputs": [
    {
     "name": "stdout",
     "output_type": "stream",
     "text": [
      "[0.0, 0.0, 0.0, 0.0, 0.0, 0.0, 0.0, 59.0, 274.0, 436.0, 594.0, 685.5, 713.5, 679.0, 581.0, 439.5, 258.0, 29.0, 0.0, 0.0, 0.0, 0.0, 0.0, 0.0, 0.0]\n"
     ]
    }
   ],
   "source": [
    "#Air Temp CRN:\n",
    "with open('CRNS0101-05-2022-KY_Bowling_Green_21_NNE.txt') as f:\n",
    "    lst=[line.split()[10] for line in f]\n",
    "    \n",
    "    a=(int(lst[17063])+int(lst[17064]))/2\n",
    "    b=(int(lst[17075])+int(lst[17076]))/2\n",
    "    c=(int(lst[17087])+int(lst[17088]))/2\n",
    "    d=(int(lst[17099])+int(lst[17100]))/2\n",
    "    e=(int(lst[17111])+int(lst[17112]))/2\n",
    "    f=(int(lst[17123])+int(lst[17124]))/2\n",
    "    g=(int(lst[17135])+int(lst[17136]))/2\n",
    "    h=(int(lst[17147])+int(lst[17148]))/2\n",
    "    i=(int(lst[17159])+int(lst[17160]))/2\n",
    "    j=(int(lst[17171])+int(lst[17172]))/2\n",
    "    k=(int(lst[17183])+int(lst[17184]))/2\n",
    "    l=(int(lst[17195])+int(lst[17196]))/2\n",
    "    m=(int(lst[17207])+int(lst[17208]))/2\n",
    "    n=(int(lst[17219])+int(lst[17220]))/2\n",
    "    o=(int(lst[17231])+int(lst[17232]))/2\n",
    "    p=(int(lst[17243])+int(lst[17244]))/2\n",
    "    q=(int(lst[17255])+int(lst[17256]))/2\n",
    "    r=(int(lst[17267])+int(lst[17268]))/2\n",
    "    s=(int(lst[17279])+int(lst[17280]))/2\n",
    "    t=(int(lst[17291])+int(lst[17292]))/2\n",
    "    u=(int(lst[17303])+int(lst[17304]))/2\n",
    "    v=(int(lst[17315])+int(lst[17316]))/2\n",
    "    w=(int(lst[17327])+int(lst[17328]))/2\n",
    "    x=(int(lst[17339])+int(lst[17340]))/2\n",
    "    y=(int(lst[17351])+int(lst[17352]))/2\n",
    "    temp_crn=[a,b,c,d,e,f,g,h,i,j,k,l,m,n,o,p,q,r,s,t,u,v,w,x,y]\n",
    "    print(temp_crn)"
   ]
  },
  {
   "cell_type": "code",
   "execution_count": 31,
   "id": "c1e72531",
   "metadata": {},
   "outputs": [
    {
     "name": "stdout",
     "output_type": "stream",
     "text": [
      "[0.0, 0.0, 0.0, 0.0, 0.0, 0.0, 0.0, 32.3, 23.899999999999977, 54.19999999999999, 48.89999999999998, 54.799999999999955, 59.89999999999998, 55.200000000000045, 46.60000000000002, 37.10000000000002, 26.399999999999977, 51.8, 0.0, 0.0, 0.0, 0.0, 0.0, 0.0, 0.0]\n"
     ]
    }
   ],
   "source": [
    "difference1_bow = []\n",
    "\n",
    "zip_object = zip(temp, temp_crn)\n",
    "for temp_i, temp_crn_i in zip_object:\n",
    "    difference1_bow.append(temp_i-temp_crn_i)\n",
    "\n",
    "print(difference1_bow)"
   ]
  },
  {
   "cell_type": "markdown",
   "id": "d1be2cc0",
   "metadata": {},
   "source": [
    "<font size=\"3\">Gadsden, AL: 0600 UTC (12:00 am CST) 01 March 2022-0600 UTC (12:00 am CST) 02 March 2022</font>"
   ]
  },
  {
   "cell_type": "code",
   "execution_count": 32,
   "id": "02793170",
   "metadata": {},
   "outputs": [
    {
     "name": "stdout",
     "output_type": "stream",
     "text": [
      "[0.0, 0.0, 0.0, 0.0, 0.0, 0.0, 0.0, 114.9, 339.8, 547.7, 706.9, 806.5, 839.6, 801.7, 693.2, 524.3, 316.8, 95.3, 0.0, 0.0, 0.0, 0.0, 0.0, 0.0, 0.0]\n"
     ]
    }
   ],
   "source": [
    "#1 hr hrrr:\n",
    "with open('hrrr_f01_Gadsden_AL.txt') as f:\n",
    "    lst=[line.split()[3] for line in f]\n",
    "    temp=[]\n",
    "    for i in lst:\n",
    "        new=i.replace(',',\"\")\n",
    "        temp.append(new)\n",
    "    temp.pop(0)\n",
    "    temp=[float(x) for x in temp]\n",
    "    temp=temp[1421:1446]\n",
    "#     x = np.array(temp)\n",
    "#     temp = ma.masked_array(x, mask=[0, 0, 0, 0, 0,0,0,0,1,0,0,0,0,0,0,0,0,0,0,0,0,0,0,0,0])\n",
    "    #temp=temp[2015:2063]\n",
    "    print(temp)\n",
    "    #print(len(temp))\n",
    "#full time period is [2015:2112]"
   ]
  },
  {
   "cell_type": "code",
   "execution_count": 33,
   "id": "5fd7f4a3",
   "metadata": {},
   "outputs": [
    {
     "name": "stdout",
     "output_type": "stream",
     "text": [
      "[0.0, 0.0, 0.0, 0.0, 0.0, 0.0, 0.0, 126.0, 329.5, 524.0, 671.5, 762.5, 795.5, 756.5, 658.0, 511.0, 310.0, 104.0, 0.0, 0.0, 0.0, 0.0, 0.0, 0.0, 0.0]\n"
     ]
    }
   ],
   "source": [
    "#Air Temp CRN:\n",
    "with open('CRNS0101-05-2022-AL_Gadsden_19_N.txt') as f:\n",
    "    lst=[line.split()[10] for line in f]\n",
    "    \n",
    "    a=(int(lst[17063])+int(lst[17064]))/2\n",
    "    b=(int(lst[17075])+int(lst[17076]))/2\n",
    "    c=(int(lst[17087])+int(lst[17088]))/2\n",
    "    d=(int(lst[17099])+int(lst[17100]))/2\n",
    "    e=(int(lst[17111])+int(lst[17112]))/2\n",
    "    f=(int(lst[17123])+int(lst[17124]))/2\n",
    "    g=(int(lst[17135])+int(lst[17136]))/2\n",
    "    h=(int(lst[17147])+int(lst[17148]))/2\n",
    "    i=(int(lst[17159])+int(lst[17160]))/2\n",
    "    j=(int(lst[17171])+int(lst[17172]))/2\n",
    "    k=(int(lst[17183])+int(lst[17184]))/2\n",
    "    l=(int(lst[17195])+int(lst[17196]))/2\n",
    "    m=(int(lst[17207])+int(lst[17208]))/2\n",
    "    n=(int(lst[17219])+int(lst[17220]))/2\n",
    "    o=(int(lst[17231])+int(lst[17232]))/2\n",
    "    p=(int(lst[17243])+int(lst[17244]))/2\n",
    "    q=(int(lst[17255])+int(lst[17256]))/2\n",
    "    r=(int(lst[17267])+int(lst[17268]))/2\n",
    "    s=(int(lst[17279])+int(lst[17280]))/2\n",
    "    t=(int(lst[17291])+int(lst[17292]))/2\n",
    "    u=(int(lst[17303])+int(lst[17304]))/2\n",
    "    v=(int(lst[17315])+int(lst[17316]))/2\n",
    "    w=(int(lst[17327])+int(lst[17328]))/2\n",
    "    x=(int(lst[17339])+int(lst[17340]))/2\n",
    "    y=(int(lst[17351])+int(lst[17352]))/2\n",
    "    temp_crn=[a,b,c,d,e,f,g,h,i,j,k,l,m,n,o,p,q,r,s,t,u,v,w,x,y]\n",
    "    print(temp_crn)"
   ]
  },
  {
   "cell_type": "code",
   "execution_count": 34,
   "id": "c002ac76",
   "metadata": {},
   "outputs": [
    {
     "name": "stdout",
     "output_type": "stream",
     "text": [
      "[0.0, 0.0, 0.0, 0.0, 0.0, 0.0, 0.0, -11.099999999999994, 10.300000000000011, 23.700000000000045, 35.39999999999998, 44.0, 44.10000000000002, 45.200000000000045, 35.200000000000045, 13.299999999999955, 6.800000000000011, -8.700000000000003, 0.0, 0.0, 0.0, 0.0, 0.0, 0.0, 0.0]\n"
     ]
    }
   ],
   "source": [
    "difference1_gad = []\n",
    "\n",
    "zip_object = zip(temp, temp_crn)\n",
    "for temp_i, temp_crn_i in zip_object:\n",
    "    difference1_gad.append(temp_i-temp_crn_i)\n",
    "\n",
    "print(difference1_gad)"
   ]
  },
  {
   "cell_type": "markdown",
   "id": "d430f7c6",
   "metadata": {},
   "source": [
    "<font size=\"3\">Newton, GA: 0600 UTC (12:00 am CST) 01 March 2022-0600 UTC (12:00 am CST) 02 March 2022</font>"
   ]
  },
  {
   "cell_type": "code",
   "execution_count": 35,
   "id": "e78bb8bf",
   "metadata": {},
   "outputs": [
    {
     "name": "stdout",
     "output_type": "stream",
     "text": [
      "[0.0, 0.0, 0.0, 0.0, 0.0, 0.0, 0.0, 128.0, 341.1, 544.0, 729.9, 817.4, 860.6, 812.5, 700.5, 524.2, 305.9, 83.5, 0.0, 0.0, 0.0, 0.0, 0.0, 0.0, 0.0]\n"
     ]
    }
   ],
   "source": [
    "#1 hr hrrr:\n",
    "with open('hrrr_f01_Newton_GA.txt') as f:\n",
    "    lst=[line.split()[3] for line in f]\n",
    "    temp=[]\n",
    "    for i in lst:\n",
    "        new=i.replace(',',\"\")\n",
    "        temp.append(new)\n",
    "    temp.pop(0)\n",
    "    temp=[float(x) for x in temp]\n",
    "    temp=temp[1421:1446]\n",
    "    #temp=temp[2015:2063]\n",
    "    print(temp)\n",
    "    #print(len(temp))\n",
    "#full time period is [2015:2112]"
   ]
  },
  {
   "cell_type": "code",
   "execution_count": 36,
   "id": "52b388f2",
   "metadata": {},
   "outputs": [
    {
     "name": "stdout",
     "output_type": "stream",
     "text": [
      "[0.0, 0.0, 0.0, 0.0, 0.0, 0.0, 1.0, 107.5, 252.0, 340.0, 617.5, 749.0, 765.5, 718.5, 623.5, 462.5, 261.0, 62.0, 0.0, 0.0, 0.0, 0.0, 0.0, 0.0, 0.0]\n"
     ]
    }
   ],
   "source": [
    "#Air Temp CRN:\n",
    "with open('CRNS0101-05-2022-GA_Newton_11_SW.txt') as f:\n",
    "    lst=[line.split()[10] for line in f]\n",
    "    \n",
    "    a=(int(lst[17063])+int(lst[17064]))/2\n",
    "    b=(int(lst[17075])+int(lst[17076]))/2\n",
    "    c=(int(lst[17087])+int(lst[17088]))/2\n",
    "    d=(int(lst[17099])+int(lst[17100]))/2\n",
    "    e=(int(lst[17111])+int(lst[17112]))/2\n",
    "    f=(int(lst[17123])+int(lst[17124]))/2\n",
    "    g=(int(lst[17135])+int(lst[17136]))/2\n",
    "    h=(int(lst[17147])+int(lst[17148]))/2\n",
    "    i=(int(lst[17159])+int(lst[17160]))/2\n",
    "    j=(int(lst[17171])+int(lst[17172]))/2\n",
    "    k=(int(lst[17183])+int(lst[17184]))/2\n",
    "    l=(int(lst[17195])+int(lst[17196]))/2\n",
    "    m=(int(lst[17207])+int(lst[17208]))/2\n",
    "    n=(int(lst[17219])+int(lst[17220]))/2\n",
    "    o=(int(lst[17231])+int(lst[17232]))/2\n",
    "    p=(int(lst[17243])+int(lst[17244]))/2\n",
    "    q=(int(lst[17255])+int(lst[17256]))/2\n",
    "    r=(int(lst[17267])+int(lst[17268]))/2\n",
    "    s=(int(lst[17279])+int(lst[17280]))/2\n",
    "    t=(int(lst[17291])+int(lst[17292]))/2\n",
    "    u=(int(lst[17303])+int(lst[17304]))/2\n",
    "    v=(int(lst[17315])+int(lst[17316]))/2\n",
    "    w=(int(lst[17327])+int(lst[17328]))/2\n",
    "    x=(int(lst[17339])+int(lst[17340]))/2\n",
    "    y=(int(lst[17351])+int(lst[17352]))/2\n",
    "    temp_crn=[a,b,c,d,e,f,g,h,i,j,k,l,m,n,o,p,q,r,s,t,u,v,w,x,y]\n",
    "    print(temp_crn)"
   ]
  },
  {
   "cell_type": "code",
   "execution_count": 37,
   "id": "f2141c03",
   "metadata": {},
   "outputs": [
    {
     "name": "stdout",
     "output_type": "stream",
     "text": [
      "[0.0, 0.0, 0.0, 0.0, 0.0, 0.0, -1.0, 20.5, 89.10000000000002, 204.0, 112.39999999999998, 68.39999999999998, 95.10000000000002, 94.0, 77.0, 61.700000000000045, 44.89999999999998, 21.5, 0.0, 0.0, 0.0, 0.0, 0.0, 0.0, 0.0]\n"
     ]
    }
   ],
   "source": [
    "difference1_newt = []\n",
    "\n",
    "zip_object = zip(temp, temp_crn)\n",
    "for temp_i, temp_crn_i in zip_object:\n",
    "    difference1_newt.append(temp_i-temp_crn_i)\n",
    "\n",
    "print(difference1_newt)"
   ]
  },
  {
   "cell_type": "markdown",
   "id": "8ee79bb2",
   "metadata": {},
   "source": [
    "<font size=\"3\">Salem, MO: 1200 UTC 22 March 2022-1200 UTC 23 March 2022</font>"
   ]
  },
  {
   "cell_type": "code",
   "execution_count": 38,
   "id": "01442781",
   "metadata": {},
   "outputs": [
    {
     "name": "stdout",
     "output_type": "stream",
     "text": [
      "[0.0, 0.0, 0.0, 0.0, 0.0, 0.0, 0.0, 75.7, 285.5, 490.3, 658.3, 773.0, 826.0, 814.0, 734.0, 594.3, 406.9, 195.5, 10.8, 0.0, 0.0, 0.0, 0.0, 0.0, 0.0]\n",
      "25\n"
     ]
    }
   ],
   "source": [
    "#1 hr hrrr:\n",
    "with open('hrrr_f01_Salem_MO.txt') as f:\n",
    "    lst=[line.split()[3] for line in f]\n",
    "    temp=[]\n",
    "    for i in lst:\n",
    "        new=i.replace(',',\"\")\n",
    "        temp.append(new)\n",
    "    temp.pop(0)\n",
    "    temp=[float(x) for x in temp]\n",
    "    temp=temp[1709:1734]\n",
    "    #temp=temp[2015:2063]\n",
    "    print(temp)\n",
    "    print(len(temp))\n",
    "#full time period is [2015:2112]"
   ]
  },
  {
   "cell_type": "code",
   "execution_count": 39,
   "id": "5c26c31d",
   "metadata": {},
   "outputs": [
    {
     "name": "stdout",
     "output_type": "stream",
     "text": [
      "[0.0, 0.0, 0.0, 0.0, 0.0, 0.0, 0.0, 85.5, 290.0, 493.5, 656.5, 763.0, 809.0, 792.0, 715.5, 581.0, 394.5, 183.5, 2.5, 0.0, 0.0, 0.0, 0.0, 0.0, 0.0]\n"
     ]
    }
   ],
   "source": [
    "#Air Temp CRN:\n",
    "with open('CRNS0101-05-2022-MO_Salem_10_W.txt') as f:\n",
    "    lst=[line.split()[10] for line in f]\n",
    "    \n",
    "    a=(int(lst[20519])+int(lst[20520]))/2\n",
    "    b=(int(lst[20531])+int(lst[20532]))/2\n",
    "    c=(int(lst[20543])+int(lst[20544]))/2\n",
    "    d=(int(lst[20555])+int(lst[20556]))/2\n",
    "    e=(int(lst[20567])+int(lst[20568]))/2\n",
    "    f=(int(lst[20579])+int(lst[20580]))/2\n",
    "    g=(int(lst[20591])+int(lst[20592]))/2\n",
    "    h=(int(lst[20603])+int(lst[20604]))/2\n",
    "    i=(int(lst[20615])+int(lst[20616]))/2\n",
    "    j=(int(lst[20627])+int(lst[20628]))/2\n",
    "    k=(int(lst[20639])+int(lst[20640]))/2\n",
    "    l=(int(lst[20651])+int(lst[20652]))/2\n",
    "    m=(int(lst[20663])+int(lst[20664]))/2\n",
    "    n=(int(lst[20675])+int(lst[20676]))/2\n",
    "    o=(int(lst[20687])+int(lst[20688]))/2\n",
    "    p=(int(lst[20699])+int(lst[20700]))/2\n",
    "    q=(int(lst[20711])+int(lst[20712]))/2\n",
    "    r=(int(lst[20723])+int(lst[20724]))/2\n",
    "    s=(int(lst[20735])+int(lst[20736]))/2\n",
    "    t=(int(lst[20747])+int(lst[20748]))/2\n",
    "    u=(int(lst[20759])+int(lst[20760]))/2\n",
    "    v=(int(lst[20771])+int(lst[20772]))/2\n",
    "    w=(int(lst[20783])+int(lst[20784]))/2\n",
    "    x=(int(lst[20795])+int(lst[20796]))/2\n",
    "    y=(int(lst[20807])+int(lst[20808]))/2\n",
    "    \n",
    "    temp_crn=[a,b,c,d,e,f,g,h,i,j,k,l,m,n,o,p,q,r,s,t,u,v,w,x,y]\n",
    "    print(temp_crn)"
   ]
  },
  {
   "cell_type": "code",
   "execution_count": 40,
   "id": "3f860af3",
   "metadata": {},
   "outputs": [
    {
     "name": "stdout",
     "output_type": "stream",
     "text": [
      "[0.0, 0.0, 0.0, 0.0, 0.0, 0.0, 0.0, -9.799999999999997, -4.5, -3.1999999999999886, 1.7999999999999545, 10.0, 17.0, 22.0, 18.5, 13.299999999999955, 12.399999999999977, 12.0, 8.3, 0.0, 0.0, 0.0, 0.0, 0.0, 0.0]\n"
     ]
    }
   ],
   "source": [
    "difference2_sal = []\n",
    "\n",
    "zip_object = zip(temp, temp_crn)\n",
    "for temp_i, temp_crn_i in zip_object:\n",
    "    difference2_sal.append(temp_i-temp_crn_i)\n",
    "\n",
    "print(difference2_sal)"
   ]
  },
  {
   "cell_type": "markdown",
   "id": "521bd7c5",
   "metadata": {},
   "source": [
    "<font size=\"3\">Batesville, AR: 0600 UTC (12:00 am CST) 01 March 2022-0600 UTC (12:00 am CST) 02 March 2022</font>"
   ]
  },
  {
   "cell_type": "code",
   "execution_count": 41,
   "id": "fac2aa09",
   "metadata": {},
   "outputs": [
    {
     "name": "stdout",
     "output_type": "stream",
     "text": [
      "[0.0, 0.0, 0.0, 0.0, 0.0, 0.0, 0.0, 77.7, 291.6, 502.2, 676.5, 797.6, 854.0, 841.0, 756.0, 611.9, 421.0, 203.9, 12.9, 0.0, 0.0, 0.0, 0.0, 0.0, 0.0]\n",
      "25\n"
     ]
    }
   ],
   "source": [
    "#1 hr hrrr:\n",
    "with open('hrrr_f01_Batesville_AR.txt') as f:\n",
    "    lst=[line.split()[3] for line in f]\n",
    "    temp=[]\n",
    "    for i in lst:\n",
    "        new=i.replace(',',\"\")\n",
    "        temp.append(new)\n",
    "    temp.pop(0)\n",
    "    temp=[float(x) for x in temp]\n",
    "    temp=temp[1709:1734]\n",
    "#     x = np.array(temp)\n",
    "#     temp = ma.masked_array(x, mask=[0, 0, 0, 0, 0,0,0,0,0,0,0,0,0,0,0,0,0,0,0,0,0,1,0,0,0])\n",
    "    #temp=temp[2015:2063]\n",
    "    print(temp)\n",
    "    print(len(temp))\n",
    "#full time period is [2015:2112]"
   ]
  },
  {
   "cell_type": "code",
   "execution_count": 42,
   "id": "ddec2780",
   "metadata": {},
   "outputs": [
    {
     "name": "stdout",
     "output_type": "stream",
     "text": [
      "[0.0, 0.0, 0.0, 0.0, 0.0, 0.0, 0.0, 86.5, 295.0, 504.0, 672.5, 790.0, 845.0, 833.0, 753.5, 615.0, 428.0, 208.0, 0.5, 0.0, 0.0, 0.0, 0.0, 0.0, 0.0]\n"
     ]
    }
   ],
   "source": [
    "#Air Temp CRN:\n",
    "with open('CRNS0101-05-2022-AR_Batesville_8_WNW.txt') as f:\n",
    "    lst=[line.split()[10] for line in f]\n",
    "    \n",
    "    a=(int(lst[20519])+int(lst[20520]))/2\n",
    "    b=(int(lst[20531])+int(lst[20532]))/2\n",
    "    c=(int(lst[20543])+int(lst[20544]))/2\n",
    "    d=(int(lst[20555])+int(lst[20556]))/2\n",
    "    e=(int(lst[20567])+int(lst[20568]))/2\n",
    "    f=(int(lst[20579])+int(lst[20580]))/2\n",
    "    g=(int(lst[20591])+int(lst[20592]))/2\n",
    "    h=(int(lst[20603])+int(lst[20604]))/2\n",
    "    i=(int(lst[20615])+int(lst[20616]))/2\n",
    "    j=(int(lst[20627])+int(lst[20628]))/2\n",
    "    k=(int(lst[20639])+int(lst[20640]))/2\n",
    "    l=(int(lst[20651])+int(lst[20652]))/2\n",
    "    m=(int(lst[20663])+int(lst[20664]))/2\n",
    "    n=(int(lst[20675])+int(lst[20676]))/2\n",
    "    o=(int(lst[20687])+int(lst[20688]))/2\n",
    "    p=(int(lst[20699])+int(lst[20700]))/2\n",
    "    q=(int(lst[20711])+int(lst[20712]))/2\n",
    "    r=(int(lst[20723])+int(lst[20724]))/2\n",
    "    s=(int(lst[20735])+int(lst[20736]))/2\n",
    "    t=(int(lst[20747])+int(lst[20748]))/2\n",
    "    u=(int(lst[20759])+int(lst[20760]))/2\n",
    "    v=(int(lst[20771])+int(lst[20772]))/2\n",
    "    w=(int(lst[20783])+int(lst[20784]))/2\n",
    "    x=(int(lst[20795])+int(lst[20796]))/2\n",
    "    y=(int(lst[20807])+int(lst[20808]))/2\n",
    "    \n",
    "    temp_crn=[a,b,c,d,e,f,g,h,i,j,k,l,m,n,o,p,q,r,s,t,u,v,w,x,y]\n",
    "    print(temp_crn)"
   ]
  },
  {
   "cell_type": "code",
   "execution_count": 43,
   "id": "6a5a229b",
   "metadata": {},
   "outputs": [
    {
     "name": "stdout",
     "output_type": "stream",
     "text": [
      "[0.0, 0.0, 0.0, 0.0, 0.0, 0.0, 0.0, -8.799999999999997, -3.3999999999999773, -1.8000000000000114, 4.0, 7.600000000000023, 9.0, 8.0, 2.5, -3.1000000000000227, -7.0, -4.099999999999994, 12.4, 0.0, 0.0, 0.0, 0.0, 0.0, 0.0]\n"
     ]
    }
   ],
   "source": [
    "difference2_bat = []\n",
    "\n",
    "zip_object = zip(temp, temp_crn)\n",
    "for temp_i, temp_crn_i in zip_object:\n",
    "    difference2_bat.append(temp_i-temp_crn_i)\n",
    "\n",
    "print(difference2_bat)"
   ]
  },
  {
   "cell_type": "markdown",
   "id": "16bf265f",
   "metadata": {},
   "source": [
    "<font size=\"3\">Lafayette, LA: 0600 UTC (12:00 am CST) 01 March 2022-0600 UTC (12:00 am CST) 02 March 2022</font>"
   ]
  },
  {
   "cell_type": "code",
   "execution_count": 44,
   "id": "b23c7950",
   "metadata": {},
   "outputs": [
    {
     "name": "stdout",
     "output_type": "stream",
     "text": [
      "[0.0, 0.0, 0.0, 0.0, 0.0, 0.0, 0.0, 97.6, 337.4, 570.1, 757.9, 888.7, 947.0, 931.0, 837.0, 676.3, 456.9, 225.5, 18.3, 0.0, 0.0, 0.0, 0.0, 0.0, 0.0]\n"
     ]
    }
   ],
   "source": [
    "#1 hr hrrr:\n",
    "with open('hrrr_f01_Lafayette_LA.txt') as f:\n",
    "    lst=[line.split()[3] for line in f]\n",
    "    temp=[]\n",
    "    for i in lst:\n",
    "        new=i.replace(',',\"\")\n",
    "        temp.append(new)\n",
    "    temp.pop(0)\n",
    "    temp=[float(x) for x in temp]\n",
    "    temp=temp[1709:1734]\n",
    "    #temp=temp[2015:2063]\n",
    "    print(temp)\n",
    "    #print(len(temp))\n",
    "#full time period is [2015:2112]"
   ]
  },
  {
   "cell_type": "code",
   "execution_count": 45,
   "id": "322db923",
   "metadata": {},
   "outputs": [
    {
     "name": "stdout",
     "output_type": "stream",
     "text": [
      "[0.0, 0.0, 0.0, 0.0, 0.0, 0.0, 0.0, 114.0, 336.5, 550.5, 722.5, 840.0, 890.0, 870.5, 784.0, 630.5, 445.0, 219.0, 14.5, 0.0, 0.0, 0.0, 0.0, 0.0, 0.0]\n"
     ]
    }
   ],
   "source": [
    "#Air Temp CRN:\n",
    "with open('CRNS0101-05-2022-LA_Lafayette_13_SE.txt') as f:\n",
    "    lst=[line.split()[10] for line in f]\n",
    "    \n",
    "    a=(int(lst[20519])+int(lst[20520]))/2\n",
    "    b=(int(lst[20531])+int(lst[20532]))/2\n",
    "    c=(int(lst[20543])+int(lst[20544]))/2\n",
    "    d=(int(lst[20555])+int(lst[20556]))/2\n",
    "    e=(int(lst[20567])+int(lst[20568]))/2\n",
    "    f=(int(lst[20579])+int(lst[20580]))/2\n",
    "    g=(int(lst[20591])+int(lst[20592]))/2\n",
    "    h=(int(lst[20603])+int(lst[20604]))/2\n",
    "    i=(int(lst[20615])+int(lst[20616]))/2\n",
    "    j=(int(lst[20627])+int(lst[20628]))/2\n",
    "    k=(int(lst[20639])+int(lst[20640]))/2\n",
    "    l=(int(lst[20651])+int(lst[20652]))/2\n",
    "    m=(int(lst[20663])+int(lst[20664]))/2\n",
    "    n=(int(lst[20675])+int(lst[20676]))/2\n",
    "    o=(int(lst[20687])+int(lst[20688]))/2\n",
    "    p=(int(lst[20699])+int(lst[20700]))/2\n",
    "    q=(int(lst[20711])+int(lst[20712]))/2\n",
    "    r=(int(lst[20723])+int(lst[20724]))/2\n",
    "    s=(int(lst[20735])+int(lst[20736]))/2\n",
    "    t=(int(lst[20747])+int(lst[20748]))/2\n",
    "    u=(int(lst[20759])+int(lst[20760]))/2\n",
    "    v=(int(lst[20771])+int(lst[20772]))/2\n",
    "    w=(int(lst[20783])+int(lst[20784]))/2\n",
    "    x=(int(lst[20795])+int(lst[20796]))/2\n",
    "    y=(int(lst[20807])+int(lst[20808]))/2\n",
    "    \n",
    "    temp_crn=[a,b,c,d,e,f,g,h,i,j,k,l,m,n,o,p,q,r,s,t,u,v,w,x,y]\n",
    "    print(temp_crn)"
   ]
  },
  {
   "cell_type": "code",
   "execution_count": 46,
   "id": "07cf95c8",
   "metadata": {},
   "outputs": [
    {
     "name": "stdout",
     "output_type": "stream",
     "text": [
      "[0.0, 0.0, 0.0, 0.0, 0.0, 0.0, 0.0, -16.400000000000006, 0.8999999999999773, 19.600000000000023, 35.39999999999998, 48.700000000000045, 57.0, 60.5, 53.0, 45.799999999999955, 11.899999999999977, 6.5, 3.8000000000000007, 0.0, 0.0, 0.0, 0.0, 0.0, 0.0]\n"
     ]
    }
   ],
   "source": [
    "difference2_laf = []\n",
    "\n",
    "zip_object = zip(temp, temp_crn)\n",
    "for temp_i, temp_crn_i in zip_object:\n",
    "    difference2_laf.append(temp_i-temp_crn_i)\n",
    "\n",
    "print(difference2_laf)"
   ]
  },
  {
   "cell_type": "markdown",
   "id": "cda99a3a",
   "metadata": {},
   "source": [
    "<font size=\"3\">Monroe, LA: 0600 UTC (12:00 am CST) 01 March 2022-0600 UTC (12:00 am CST) 02 March 2022</font>"
   ]
  },
  {
   "cell_type": "code",
   "execution_count": 47,
   "id": "3c145693",
   "metadata": {},
   "outputs": [
    {
     "name": "stdout",
     "output_type": "stream",
     "text": [
      "[0.0, 0.0, 0.0, 0.0, 0.0, 0.0, 0.0, 82.2, 306.7, 526.1, 708.5, 832.2, 891.0, 879.0, 798.0, 646.6, 446.8, 223.5, 18.8, 0.0, 0.0, 0.0, 0.0, 0.0, 0.0]\n"
     ]
    }
   ],
   "source": [
    "#1 hr hrrr:\n",
    "with open('hrrr_f01_Monroe_LA.txt') as f:\n",
    "    lst=[line.split()[3] for line in f]\n",
    "    temp=[]\n",
    "    for i in lst:\n",
    "        new=i.replace(',',\"\")\n",
    "        temp.append(new)\n",
    "    temp.pop(0)\n",
    "    temp=[float(x) for x in temp]\n",
    "    temp=temp[1709:1734]\n",
    "    #temp=temp[2015:2063]\n",
    "    print(temp)\n",
    "    #print(len(temp))\n",
    "#full time period is [2015:2112]"
   ]
  },
  {
   "cell_type": "code",
   "execution_count": 48,
   "id": "facb606c",
   "metadata": {},
   "outputs": [
    {
     "name": "stdout",
     "output_type": "stream",
     "text": [
      "[0.0, 0.0, 0.0, 0.0, 0.0, 0.0, 0.0, 86.0, 292.5, 510.0, 688.0, 810.0, 865.5, 851.5, 754.5, 622.0, 424.0, 28.5, 8.0, 0.0, 0.0, 0.0, 0.0, 0.0, 0.0]\n"
     ]
    }
   ],
   "source": [
    "#Air Temp CRN:\n",
    "with open('CRNS0101-05-2022-LA_Monroe_26_N.txt') as f:\n",
    "    lst=[line.split()[10] for line in f]\n",
    "    \n",
    "    a=(int(lst[20519])+int(lst[20520]))/2\n",
    "    b=(int(lst[20531])+int(lst[20532]))/2\n",
    "    c=(int(lst[20543])+int(lst[20544]))/2\n",
    "    d=(int(lst[20555])+int(lst[20556]))/2\n",
    "    e=(int(lst[20567])+int(lst[20568]))/2\n",
    "    f=(int(lst[20579])+int(lst[20580]))/2\n",
    "    g=(int(lst[20591])+int(lst[20592]))/2\n",
    "    h=(int(lst[20603])+int(lst[20604]))/2\n",
    "    i=(int(lst[20615])+int(lst[20616]))/2\n",
    "    j=(int(lst[20627])+int(lst[20628]))/2\n",
    "    k=(int(lst[20639])+int(lst[20640]))/2\n",
    "    l=(int(lst[20651])+int(lst[20652]))/2\n",
    "    m=(int(lst[20663])+int(lst[20664]))/2\n",
    "    n=(int(lst[20675])+int(lst[20676]))/2\n",
    "    o=(int(lst[20687])+int(lst[20688]))/2\n",
    "    p=(int(lst[20699])+int(lst[20700]))/2\n",
    "    q=(int(lst[20711])+int(lst[20712]))/2\n",
    "    r=(int(lst[20723])+int(lst[20724]))/2\n",
    "    s=(int(lst[20735])+int(lst[20736]))/2\n",
    "    t=(int(lst[20747])+int(lst[20748]))/2\n",
    "    u=(int(lst[20759])+int(lst[20760]))/2\n",
    "    v=(int(lst[20771])+int(lst[20772]))/2\n",
    "    w=(int(lst[20783])+int(lst[20784]))/2\n",
    "    x=(int(lst[20795])+int(lst[20796]))/2\n",
    "    y=(int(lst[20807])+int(lst[20808]))/2\n",
    "    \n",
    "    temp_crn=[a,b,c,d,e,f,g,h,i,j,k,l,m,n,o,p,q,r,s,t,u,v,w,x,y]\n",
    "    print(temp_crn)"
   ]
  },
  {
   "cell_type": "code",
   "execution_count": 49,
   "id": "e5057ed5",
   "metadata": {},
   "outputs": [
    {
     "name": "stdout",
     "output_type": "stream",
     "text": [
      "[0.0, 0.0, 0.0, 0.0, 0.0, 0.0, 0.0, -3.799999999999997, 14.199999999999989, 16.100000000000023, 20.5, 22.200000000000045, 25.5, 27.5, 43.5, 24.600000000000023, 22.80000000000001, 195.0, 10.8, 0.0, 0.0, 0.0, 0.0, 0.0, 0.0]\n"
     ]
    }
   ],
   "source": [
    "difference2_mon = []\n",
    "\n",
    "zip_object = zip(temp, temp_crn)\n",
    "for temp_i, temp_crn_i in zip_object:\n",
    "    difference2_mon.append(temp_i-temp_crn_i)\n",
    "\n",
    "print(difference2_mon)"
   ]
  },
  {
   "cell_type": "markdown",
   "id": "50b6ccdc",
   "metadata": {},
   "source": [
    "<font size=\"3\">Holly Springs, MS: 0600 UTC (12:00 am CST) 01 March 2022-0600 UTC (12:00 am CST) 02 March 2022</font>"
   ]
  },
  {
   "cell_type": "code",
   "execution_count": 50,
   "id": "04968dd0",
   "metadata": {},
   "outputs": [
    {
     "name": "stdout",
     "output_type": "stream",
     "text": [
      "[0.0, 0.0, 0.0, 0.0, 0.0, 0.0, 0.0, 112.1, 332.9, 542.5, 710.9, 823.7, 870.0, 845.0, 750.0, 596.8, 396.9, 173.7, 0.0, 0.0, 0.0, 0.0, 0.0, 0.0, 0.0]\n"
     ]
    }
   ],
   "source": [
    "#1 hr hrrr:\n",
    "with open('hrrr_f01_Holly Springs_MS.txt') as f:\n",
    "    lst=[line.split()[3] for line in f]\n",
    "    temp=[]\n",
    "    for i in lst:\n",
    "        new=i.replace(',',\"\")\n",
    "        temp.append(new)\n",
    "    temp.pop(0)\n",
    "    temp=[float(x) for x in temp]\n",
    "    temp=temp[1709:1734]\n",
    "    #temp=temp[2015:2063]\n",
    "    print(temp)\n",
    "    #print(len(temp))\n",
    "#full time period is [2015:2112]"
   ]
  },
  {
   "cell_type": "code",
   "execution_count": 51,
   "id": "3d3b4214",
   "metadata": {},
   "outputs": [
    {
     "name": "stdout",
     "output_type": "stream",
     "text": [
      "[0.0, 0.0, 0.0, 0.0, 0.0, 0.0, 0.0, 120.0, 377.5, 580.5, 732.5, 823.5, 850.5, 810.5, 708.5, 549.5, 349.5, 108.0, 0.0, 0.0, 0.0, 0.0, 0.0, 0.0, 0.0]\n"
     ]
    }
   ],
   "source": [
    "#Air Temp CRN:\n",
    "with open('CRNS0101-05-2022-MS_Holly_Springs_4_N.txt') as f:\n",
    "    lst=[line.split()[10] for line in f]\n",
    "    \n",
    "    a=(int(lst[20519])+int(lst[20520]))/2\n",
    "    b=(int(lst[20531])+int(lst[20532]))/2\n",
    "    c=(int(lst[20543])+int(lst[20544]))/2\n",
    "    d=(int(lst[20555])+int(lst[20556]))/2\n",
    "    e=(int(lst[20567])+int(lst[20568]))/2\n",
    "    f=(int(lst[20579])+int(lst[20580]))/2\n",
    "    g=(int(lst[20591])+int(lst[20592]))/2\n",
    "    h=(int(lst[20603])+int(lst[20604]))/2\n",
    "    i=(int(lst[20615])+int(lst[20616]))/2\n",
    "    j=(int(lst[20627])+int(lst[20628]))/2\n",
    "    k=(int(lst[20639])+int(lst[20640]))/2\n",
    "    l=(int(lst[20651])+int(lst[20652]))/2\n",
    "    m=(int(lst[20663])+int(lst[20664]))/2\n",
    "    n=(int(lst[20675])+int(lst[20676]))/2\n",
    "    o=(int(lst[20687])+int(lst[20688]))/2\n",
    "    p=(int(lst[20699])+int(lst[20700]))/2\n",
    "    q=(int(lst[20711])+int(lst[20712]))/2\n",
    "    r=(int(lst[20723])+int(lst[20724]))/2\n",
    "    s=(int(lst[20735])+int(lst[20736]))/2\n",
    "    t=(int(lst[20747])+int(lst[20748]))/2\n",
    "    u=(int(lst[20759])+int(lst[20760]))/2\n",
    "    v=(int(lst[20771])+int(lst[20772]))/2\n",
    "    w=(int(lst[20783])+int(lst[20784]))/2\n",
    "    x=(int(lst[20795])+int(lst[20796]))/2\n",
    "    y=(int(lst[20807])+int(lst[20808]))/2\n",
    "    \n",
    "    temp_crn=[a,b,c,d,e,f,g,h,i,j,k,l,m,n,o,p,q,r,s,t,u,v,w,x,y]\n",
    "    print(temp_crn)"
   ]
  },
  {
   "cell_type": "code",
   "execution_count": 52,
   "id": "b1ba34c2",
   "metadata": {},
   "outputs": [
    {
     "name": "stdout",
     "output_type": "stream",
     "text": [
      "[0.0, 0.0, 0.0, 0.0, 0.0, 0.0, 0.0, -7.900000000000006, -44.60000000000002, -38.0, -21.600000000000023, 0.20000000000004547, 19.5, 34.5, 41.5, 47.299999999999955, 47.39999999999998, 65.69999999999999, 0.0, 0.0, 0.0, 0.0, 0.0, 0.0, 0.0]\n"
     ]
    }
   ],
   "source": [
    "difference2_hol = []\n",
    "\n",
    "zip_object = zip(temp, temp_crn)\n",
    "for temp_i, temp_crn_i in zip_object:\n",
    "    difference2_hol.append(temp_i-temp_crn_i)\n",
    "\n",
    "print(difference2_hol)"
   ]
  },
  {
   "cell_type": "markdown",
   "id": "9dd596b5",
   "metadata": {},
   "source": [
    "<font size=\"3\">Newton, MS: 0600 UTC (12:00 am CST) 01 March 2022-0600 UTC (12:00 am CST) 02 March 2022</font>"
   ]
  },
  {
   "cell_type": "code",
   "execution_count": 53,
   "id": "67050150",
   "metadata": {},
   "outputs": [
    {
     "name": "stdout",
     "output_type": "stream",
     "text": [
      "[0.0, 0.0, 0.0, 0.0, 0.0, 0.0, 0.0, 128.4, 358.1, 580.6, 752.3, 867.0, 912.0, 884.0, 784.0, 622.2, 413.9, 182.2, 0.0, 0.0, 0.0, 0.0, 0.0, 0.0, 0.0]\n"
     ]
    }
   ],
   "source": [
    "#1 hr hrrr:\n",
    "with open('hrrr_f01_Newton_MS.txt') as f:\n",
    "    lst=[line.split()[3] for line in f]\n",
    "    temp=[]\n",
    "    for i in lst:\n",
    "        new=i.replace(',',\"\")\n",
    "        temp.append(new)\n",
    "    temp.pop(0)\n",
    "    temp=[float(x) for x in temp]\n",
    "    temp=temp[1709:1734]\n",
    "    #temp=temp[2015:2063]\n",
    "    print(temp)\n",
    "    #print(len(temp))\n",
    "#full time period is [2015:2112]"
   ]
  },
  {
   "cell_type": "code",
   "execution_count": 54,
   "id": "668cca8c",
   "metadata": {},
   "outputs": [
    {
     "name": "stdout",
     "output_type": "stream",
     "text": [
      "[0.0, 0.0, 0.0, 0.0, 0.0, 0.0, 0.0, 132.0, 368.0, 571.5, 731.5, 834.0, 875.0, 851.0, 757.0, 606.5, 408.5, 188.0, 0.0, 0.0, 0.0, 0.0, 0.0, 0.0, 0.0]\n"
     ]
    }
   ],
   "source": [
    "#Air Temp CRN:\n",
    "with open('CRNS0101-05-2022-MS_Newton_5_ENE.txt') as f:\n",
    "    lst=[line.split()[10] for line in f]\n",
    "    \n",
    "    a=(int(lst[20519])+int(lst[20520]))/2\n",
    "    b=(int(lst[20531])+int(lst[20532]))/2\n",
    "    c=(int(lst[20543])+int(lst[20544]))/2\n",
    "    d=(int(lst[20555])+int(lst[20556]))/2\n",
    "    e=(int(lst[20567])+int(lst[20568]))/2\n",
    "    f=(int(lst[20579])+int(lst[20580]))/2\n",
    "    g=(int(lst[20591])+int(lst[20592]))/2\n",
    "    h=(int(lst[20603])+int(lst[20604]))/2\n",
    "    i=(int(lst[20615])+int(lst[20616]))/2\n",
    "    j=(int(lst[20627])+int(lst[20628]))/2\n",
    "    k=(int(lst[20639])+int(lst[20640]))/2\n",
    "    l=(int(lst[20651])+int(lst[20652]))/2\n",
    "    m=(int(lst[20663])+int(lst[20664]))/2\n",
    "    n=(int(lst[20675])+int(lst[20676]))/2\n",
    "    o=(int(lst[20687])+int(lst[20688]))/2\n",
    "    p=(int(lst[20699])+int(lst[20700]))/2\n",
    "    q=(int(lst[20711])+int(lst[20712]))/2\n",
    "    r=(int(lst[20723])+int(lst[20724]))/2\n",
    "    s=(int(lst[20735])+int(lst[20736]))/2\n",
    "    t=(int(lst[20747])+int(lst[20748]))/2\n",
    "    u=(int(lst[20759])+int(lst[20760]))/2\n",
    "    v=(int(lst[20771])+int(lst[20772]))/2\n",
    "    w=(int(lst[20783])+int(lst[20784]))/2\n",
    "    x=(int(lst[20795])+int(lst[20796]))/2\n",
    "    y=(int(lst[20807])+int(lst[20808]))/2\n",
    "    \n",
    "    temp_crn=[a,b,c,d,e,f,g,h,i,j,k,l,m,n,o,p,q,r,s,t,u,v,w,x,y]\n",
    "    print(temp_crn)"
   ]
  },
  {
   "cell_type": "code",
   "execution_count": 55,
   "id": "e8bd78b0",
   "metadata": {},
   "outputs": [
    {
     "name": "stdout",
     "output_type": "stream",
     "text": [
      "[0.0, 0.0, 0.0, 0.0, 0.0, 0.0, 0.0, -3.5999999999999943, -9.899999999999977, 9.100000000000023, 20.799999999999955, 33.0, 37.0, 33.0, 27.0, 15.700000000000045, 5.399999999999977, -5.800000000000011, 0.0, 0.0, 0.0, 0.0, 0.0, 0.0, 0.0]\n"
     ]
    }
   ],
   "source": [
    "difference2_new = []\n",
    "\n",
    "zip_object = zip(temp, temp_crn)\n",
    "for temp_i, temp_crn_i in zip_object:\n",
    "    difference2_new.append(temp_i-temp_crn_i)\n",
    "\n",
    "print(difference2_new)"
   ]
  },
  {
   "cell_type": "markdown",
   "id": "ec499d8b",
   "metadata": {},
   "source": [
    "<font size=\"3\">Gainesville, AL: 0600 UTC (12:00 am CST) 01 March 2022-0600 UTC (12:00 am CST) 02 March 2022</font>"
   ]
  },
  {
   "cell_type": "code",
   "execution_count": 56,
   "id": "e9f22db0",
   "metadata": {},
   "outputs": [],
   "source": [
    "# #1 hr hrrr:\n",
    "# with open('hrrr_f01_Gainesville_AL.txt') as f:\n",
    "#     lst=[line.split()[3] for line in f]\n",
    "#     temp=[]\n",
    "#     for i in lst:\n",
    "#         new=i.replace(',',\"\")\n",
    "#         temp.append(new)\n",
    "#     temp.pop(0)\n",
    "#     temp=[float(x) for x in temp]\n",
    "#     temp=temp[1709:1734]\n",
    "#     #temp=temp[2015:2063]\n",
    "#     print(temp)\n",
    "#     #print(len(temp))\n",
    "# #full time period is [2015:2112]"
   ]
  },
  {
   "cell_type": "code",
   "execution_count": 57,
   "id": "de89a88f",
   "metadata": {},
   "outputs": [],
   "source": [
    "# #Air Temp CRN:\n",
    "# with open('CRNH0203-2022-AL_Gainesville_2_NE.txt') as f:\n",
    "#     lst=[line.split()[13] for line in f]\n",
    "#     #print(lst)\n",
    "#     temp_crn=[]\n",
    "#     for i in lst:\n",
    "#         new=i.replace(',',\"\")\n",
    "#         temp_crn.append(new)\n",
    "#     temp_crn=[float(x) for x in temp_crn]\n",
    "#     temp_crn=temp_crn[1709:1734]\n",
    "#     print(temp_crn)\n",
    "#     #print(len(temp_crn))\n",
    "#     # print(temp_crn[2124])"
   ]
  },
  {
   "cell_type": "code",
   "execution_count": 58,
   "id": "2d1d92b8",
   "metadata": {},
   "outputs": [],
   "source": [
    "# difference2_gai = []\n",
    "\n",
    "# zip_object = zip(temp, temp_crn)\n",
    "# for temp_i, temp_crn_i in zip_object:\n",
    "#     difference2_gai.append(temp_i-temp_crn_i)\n",
    "\n",
    "# print(difference2_gai)"
   ]
  },
  {
   "cell_type": "markdown",
   "id": "4019fb67",
   "metadata": {},
   "source": [
    "<font size=\"3\">Fairhope, AL: 0600 UTC (12:00 am CST) 01 March 2022-0600 UTC (12:00 am CST) 02 March 2022</font>"
   ]
  },
  {
   "cell_type": "code",
   "execution_count": 59,
   "id": "c7e8255a",
   "metadata": {},
   "outputs": [
    {
     "name": "stdout",
     "output_type": "stream",
     "text": [
      "[0.0, 0.0, 0.0, 0.0, 0.0, 0.0, 0.0, 158.4, 398.6, 624.6, 799.1, 911.2, 949.0, 908.0, 797.0, 626.2, 410.8, 171.1, 0.0, 0.0, 0.0, 0.0, 0.0, 0.0, 0.0]\n"
     ]
    }
   ],
   "source": [
    "#1 hr hrrr:\n",
    "with open('hrrr_f01_Fairhope_AL.txt') as f:\n",
    "    lst=[line.split()[3] for line in f]\n",
    "    temp=[]\n",
    "    for i in lst:\n",
    "        new=i.replace(',',\"\")\n",
    "        temp.append(new)\n",
    "    temp.pop(0)\n",
    "    temp=[float(x) for x in temp]\n",
    "    temp=temp[1709:1734]\n",
    "    #temp=temp[2015:2063]\n",
    "    print(temp)\n",
    "    #print(len(temp))\n",
    "#full time period is [2015:2112]"
   ]
  },
  {
   "cell_type": "code",
   "execution_count": 60,
   "id": "7e7a4b0d",
   "metadata": {},
   "outputs": [
    {
     "name": "stdout",
     "output_type": "stream",
     "text": [
      "[0.0, 0.0, 0.0, 0.0, 0.0, 0.0, 0.0, 165.0, 391.5, 598.0, 755.5, 854.0, 891.0, 857.5, 762.0, 606.5, 404.0, 177.0, 0.0, 0.0, 0.0, 0.0, 0.0, 0.0, 0.0]\n"
     ]
    }
   ],
   "source": [
    "#Air Temp CRN:\n",
    "with open('CRNS0101-05-2022-AL_Fairhope_3_NE.txt') as f:\n",
    "    lst=[line.split()[10] for line in f]\n",
    "    \n",
    "    a=(int(lst[20519])+int(lst[20520]))/2\n",
    "    b=(int(lst[20531])+int(lst[20532]))/2\n",
    "    c=(int(lst[20543])+int(lst[20544]))/2\n",
    "    d=(int(lst[20555])+int(lst[20556]))/2\n",
    "    e=(int(lst[20567])+int(lst[20568]))/2\n",
    "    f=(int(lst[20579])+int(lst[20580]))/2\n",
    "    g=(int(lst[20591])+int(lst[20592]))/2\n",
    "    h=(int(lst[20603])+int(lst[20604]))/2\n",
    "    i=(int(lst[20615])+int(lst[20616]))/2\n",
    "    j=(int(lst[20627])+int(lst[20628]))/2\n",
    "    k=(int(lst[20639])+int(lst[20640]))/2\n",
    "    l=(int(lst[20651])+int(lst[20652]))/2\n",
    "    m=(int(lst[20663])+int(lst[20664]))/2\n",
    "    n=(int(lst[20675])+int(lst[20676]))/2\n",
    "    o=(int(lst[20687])+int(lst[20688]))/2\n",
    "    p=(int(lst[20699])+int(lst[20700]))/2\n",
    "    q=(int(lst[20711])+int(lst[20712]))/2\n",
    "    r=(int(lst[20723])+int(lst[20724]))/2\n",
    "    s=(int(lst[20735])+int(lst[20736]))/2\n",
    "    t=(int(lst[20747])+int(lst[20748]))/2\n",
    "    u=(int(lst[20759])+int(lst[20760]))/2\n",
    "    v=(int(lst[20771])+int(lst[20772]))/2\n",
    "    w=(int(lst[20783])+int(lst[20784]))/2\n",
    "    x=(int(lst[20795])+int(lst[20796]))/2\n",
    "    y=(int(lst[20807])+int(lst[20808]))/2\n",
    "    \n",
    "    temp_crn=[a,b,c,d,e,f,g,h,i,j,k,l,m,n,o,p,q,r,s,t,u,v,w,x,y]\n",
    "    print(temp_crn)"
   ]
  },
  {
   "cell_type": "code",
   "execution_count": 61,
   "id": "e99e35e0",
   "metadata": {},
   "outputs": [
    {
     "name": "stdout",
     "output_type": "stream",
     "text": [
      "[0.0, 0.0, 0.0, 0.0, 0.0, 0.0, 0.0, -6.599999999999994, 7.100000000000023, 26.600000000000023, 43.60000000000002, 57.200000000000045, 58.0, 50.5, 35.0, 19.700000000000045, 6.800000000000011, -5.900000000000006, 0.0, 0.0, 0.0, 0.0, 0.0, 0.0, 0.0]\n"
     ]
    }
   ],
   "source": [
    "difference2_fai = []\n",
    "\n",
    "zip_object = zip(temp, temp_crn)\n",
    "for temp_i, temp_crn_i in zip_object:\n",
    "    difference2_fai.append(temp_i-temp_crn_i)\n",
    "\n",
    "print(difference2_fai)"
   ]
  },
  {
   "cell_type": "markdown",
   "id": "cb09fde7",
   "metadata": {},
   "source": [
    "<font size=\"3\">**Selma, AL: 0600 UTC (12:00 am CST) 01 March 2022-0600 UTC (12:00 am CST) 02 March 2022</font>"
   ]
  },
  {
   "cell_type": "code",
   "execution_count": 62,
   "id": "fe2b2257",
   "metadata": {},
   "outputs": [
    {
     "name": "stdout",
     "output_type": "stream",
     "text": [
      "[0.0, 0.0, 0.0, 0.0, 0.0, 0.0, 0.0, 161.8, 395.0, 606.4, 775.5, 880.6, 915.0, 878.0, 767.0, 598.0, 382.5, 150.0, 0.0, 0.0, 0.0, 0.0, 0.0, 0.0, 0.0]\n"
     ]
    }
   ],
   "source": [
    "#1 hr hrrr:\n",
    "with open('hrrr_f01_Selma_AL.txt') as f:\n",
    "    lst=[line.split()[3] for line in f]\n",
    "    temp=[]\n",
    "    for i in lst:\n",
    "        new=i.replace(',',\"\")\n",
    "        temp.append(new)\n",
    "    temp.pop(0)\n",
    "    temp=[float(x) for x in temp]\n",
    "    temp=temp[1709:1734]\n",
    "    print(temp)"
   ]
  },
  {
   "cell_type": "code",
   "execution_count": 63,
   "id": "c7293c23",
   "metadata": {},
   "outputs": [
    {
     "name": "stdout",
     "output_type": "stream",
     "text": [
      "[0.0, 0.0, 0.0, 0.0, 0.0, 0.0, 0.0, 165.5, 394.5, 592.0, 741.0, 831.5, 856.5, 817.0, 712.5, 549.0, 344.5, 127.5, 0.0, 0.0, 0.0, 0.0, 0.0, 0.0, 0.0]\n"
     ]
    }
   ],
   "source": [
    "#Air Temp CRN:\n",
    "with open('CRNS0101-05-2022-AL_Selma_13_WNW.txt') as f:\n",
    "    lst=[line.split()[10] for line in f]\n",
    "    \n",
    "    a=(int(lst[20519])+int(lst[20520]))/2\n",
    "    b=(int(lst[20531])+int(lst[20532]))/2\n",
    "    c=(int(lst[20543])+int(lst[20544]))/2\n",
    "    d=(int(lst[20555])+int(lst[20556]))/2\n",
    "    e=(int(lst[20567])+int(lst[20568]))/2\n",
    "    f=(int(lst[20579])+int(lst[20580]))/2\n",
    "    g=(int(lst[20591])+int(lst[20592]))/2\n",
    "    h=(int(lst[20603])+int(lst[20604]))/2\n",
    "    i=(int(lst[20615])+int(lst[20616]))/2\n",
    "    j=(int(lst[20627])+int(lst[20628]))/2\n",
    "    k=(int(lst[20639])+int(lst[20640]))/2\n",
    "    l=(int(lst[20651])+int(lst[20652]))/2\n",
    "    m=(int(lst[20663])+int(lst[20664]))/2\n",
    "    n=(int(lst[20675])+int(lst[20676]))/2\n",
    "    o=(int(lst[20687])+int(lst[20688]))/2\n",
    "    p=(int(lst[20699])+int(lst[20700]))/2\n",
    "    q=(int(lst[20711])+int(lst[20712]))/2\n",
    "    r=(int(lst[20723])+int(lst[20724]))/2\n",
    "    s=(int(lst[20735])+int(lst[20736]))/2\n",
    "    t=(int(lst[20747])+int(lst[20748]))/2\n",
    "    u=(int(lst[20759])+int(lst[20760]))/2\n",
    "    v=(int(lst[20771])+int(lst[20772]))/2\n",
    "    w=(int(lst[20783])+int(lst[20784]))/2\n",
    "    x=(int(lst[20795])+int(lst[20796]))/2\n",
    "    y=(int(lst[20807])+int(lst[20808]))/2\n",
    "    \n",
    "    temp_crn=[a,b,c,d,e,f,g,h,i,j,k,l,m,n,o,p,q,r,s,t,u,v,w,x,y]\n",
    "    print(temp_crn)"
   ]
  },
  {
   "cell_type": "code",
   "execution_count": 64,
   "id": "837ad3be",
   "metadata": {},
   "outputs": [
    {
     "name": "stdout",
     "output_type": "stream",
     "text": [
      "[0.0, 0.0, 0.0, 0.0, 0.0, 0.0, 0.0, -3.6999999999999886, 0.5, 14.399999999999977, 34.5, 49.10000000000002, 58.5, 61.0, 54.5, 49.0, 38.0, 22.5, 0.0, 0.0, 0.0, 0.0, 0.0, 0.0, 0.0]\n",
      "25\n"
     ]
    }
   ],
   "source": [
    "difference2_sel = []\n",
    "\n",
    "zip_object = zip(temp, temp_crn)\n",
    "for temp_i, temp_crn_i in zip_object:\n",
    "    difference2_sel.append(temp_i-temp_crn_i)\n",
    "\n",
    "print(difference2_sel)\n",
    "print(len(difference2_sel))"
   ]
  },
  {
   "cell_type": "markdown",
   "id": "9767e5fd",
   "metadata": {},
   "source": [
    "<font size=\"3\">Bowling Green, KY: 0600 UTC (12:00 am CST) 01 March 2022-0600 UTC (12:00 am CST) 02 March 2022</font>"
   ]
  },
  {
   "cell_type": "code",
   "execution_count": 65,
   "id": "a031b19f",
   "metadata": {},
   "outputs": [
    {
     "name": "stdout",
     "output_type": "stream",
     "text": [
      "[0.0, 0.0, 0.0, 0.0, 0.0, 0.0, 0.0, 148.3, 361.2, 555.5, 711.7, 804.9, 831.0, 791.0, 685.0, 526.3, 327.5, 118.0, 0.0, 0.0, 0.0, 0.0, 0.0, 0.0, 0.0]\n"
     ]
    }
   ],
   "source": [
    "#1 hr hrrr:\n",
    "with open('hrrr_f01_Bowling Green_KY.txt') as f:\n",
    "    lst=[line.split()[3] for line in f]\n",
    "    temp=[]\n",
    "    for i in lst:\n",
    "        new=i.replace(',',\"\")\n",
    "        temp.append(new)\n",
    "    temp.pop(0)\n",
    "    temp=[float(x) for x in temp]\n",
    "    temp=temp[1709:1734]\n",
    "    #temp=temp[2015:2063]\n",
    "    print(temp)\n",
    "    #print(len(temp))\n",
    "#full time period is [2015:2112]"
   ]
  },
  {
   "cell_type": "code",
   "execution_count": 66,
   "id": "c134b665",
   "metadata": {},
   "outputs": [
    {
     "name": "stdout",
     "output_type": "stream",
     "text": [
      "[0.0, 0.0, 0.0, 0.0, 0.0, 0.0, 0.0, 44.5, 165.5, 320.5, 634.5, 748.0, 773.0, 733.0, 633.5, 485.0, 301.5, 109.5, 0.0, 0.0, 0.0, 0.0, 0.0, 0.0, 0.0]\n"
     ]
    }
   ],
   "source": [
    "#Air Temp CRN:\n",
    "with open('CRNS0101-05-2022-KY_Bowling_Green_21_NNE.txt') as f:\n",
    "    lst=[line.split()[10] for line in f]\n",
    "    \n",
    "    a=(int(lst[20519])+int(lst[20520]))/2\n",
    "    b=(int(lst[20531])+int(lst[20532]))/2\n",
    "    c=(int(lst[20543])+int(lst[20544]))/2\n",
    "    d=(int(lst[20555])+int(lst[20556]))/2\n",
    "    e=(int(lst[20567])+int(lst[20568]))/2\n",
    "    f=(int(lst[20579])+int(lst[20580]))/2\n",
    "    g=(int(lst[20591])+int(lst[20592]))/2\n",
    "    h=(int(lst[20603])+int(lst[20604]))/2\n",
    "    i=(int(lst[20615])+int(lst[20616]))/2\n",
    "    j=(int(lst[20627])+int(lst[20628]))/2\n",
    "    k=(int(lst[20639])+int(lst[20640]))/2\n",
    "    l=(int(lst[20651])+int(lst[20652]))/2\n",
    "    m=(int(lst[20663])+int(lst[20664]))/2\n",
    "    n=(int(lst[20675])+int(lst[20676]))/2\n",
    "    o=(int(lst[20687])+int(lst[20688]))/2\n",
    "    p=(int(lst[20699])+int(lst[20700]))/2\n",
    "    q=(int(lst[20711])+int(lst[20712]))/2\n",
    "    r=(int(lst[20723])+int(lst[20724]))/2\n",
    "    s=(int(lst[20735])+int(lst[20736]))/2\n",
    "    t=(int(lst[20747])+int(lst[20748]))/2\n",
    "    u=(int(lst[20759])+int(lst[20760]))/2\n",
    "    v=(int(lst[20771])+int(lst[20772]))/2\n",
    "    w=(int(lst[20783])+int(lst[20784]))/2\n",
    "    x=(int(lst[20795])+int(lst[20796]))/2\n",
    "    y=(int(lst[20807])+int(lst[20808]))/2\n",
    "    \n",
    "    temp_crn=[a,b,c,d,e,f,g,h,i,j,k,l,m,n,o,p,q,r,s,t,u,v,w,x,y]\n",
    "    print(temp_crn)"
   ]
  },
  {
   "cell_type": "code",
   "execution_count": 67,
   "id": "d326cffb",
   "metadata": {},
   "outputs": [
    {
     "name": "stdout",
     "output_type": "stream",
     "text": [
      "[0.0, 0.0, 0.0, 0.0, 0.0, 0.0, 0.0, 103.80000000000001, 195.7, 235.0, 77.20000000000005, 56.89999999999998, 58.0, 58.0, 51.5, 41.299999999999955, 26.0, 8.5, 0.0, 0.0, 0.0, 0.0, 0.0, 0.0, 0.0]\n"
     ]
    }
   ],
   "source": [
    "difference2_bow = []\n",
    "\n",
    "zip_object = zip(temp, temp_crn)\n",
    "for temp_i, temp_crn_i in zip_object:\n",
    "    difference2_bow.append(temp_i-temp_crn_i)\n",
    "\n",
    "print(difference2_bow)"
   ]
  },
  {
   "cell_type": "markdown",
   "id": "cf477d73",
   "metadata": {},
   "source": [
    "<font size=\"3\">Gadsden, AL: 0600 UTC (12:00 am CST) 01 March 2022-0600 UTC (12:00 am CST) 02 March 2022</font>"
   ]
  },
  {
   "cell_type": "code",
   "execution_count": 68,
   "id": "8d9653aa",
   "metadata": {},
   "outputs": [
    {
     "name": "stdout",
     "output_type": "stream",
     "text": [
      "[0.0, 0.0, 0.0, 0.0, 0.0, 0.0, 0.0, 178.3, 366.1, 585.0, 759.0, 857.3, 886.0, 843.0, 733.0, 564.5, 353.3, 128.7, 0.0, 0.0, 0.0, 0.0, 0.0, 0.0, 0.0]\n"
     ]
    }
   ],
   "source": [
    "#1 hr hrrr:\n",
    "with open('hrrr_f01_Gadsden_AL.txt') as f:\n",
    "    lst=[line.split()[3] for line in f]\n",
    "    temp=[]\n",
    "    for i in lst:\n",
    "        new=i.replace(',',\"\")\n",
    "        temp.append(new)\n",
    "    temp.pop(0)\n",
    "    temp=[float(x) for x in temp]\n",
    "    temp=temp[1709:1734]\n",
    "#     x = np.array(temp)\n",
    "#     temp = ma.masked_array(x, mask=[0, 0, 0, 0, 0,0,0,0,1,0,0,0,0,0,0,0,0,0,0,0,0,0,0,0,0])\n",
    "    #temp=temp[2015:2063]\n",
    "    print(temp)\n",
    "    #print(len(temp))\n",
    "#full time period is [2015:2112]"
   ]
  },
  {
   "cell_type": "code",
   "execution_count": 69,
   "id": "5e83c09d",
   "metadata": {},
   "outputs": [
    {
     "name": "stdout",
     "output_type": "stream",
     "text": [
      "[0.0, 0.0, 0.0, 0.0, 0.0, 0.0, 0.0, 175.5, 389.5, 574.5, 725.0, 812.5, 836.0, 793.5, 688.5, 528.0, 328.5, 118.0, 0.0, 0.0, 0.0, 0.0, 0.0, 0.0, 0.0]\n"
     ]
    }
   ],
   "source": [
    "#Air Temp CRN:\n",
    "with open('CRNS0101-05-2022-AL_Gadsden_19_N.txt') as f:\n",
    "    lst=[line.split()[10] for line in f]\n",
    "    \n",
    "    a=(int(lst[20519])+int(lst[20520]))/2\n",
    "    b=(int(lst[20531])+int(lst[20532]))/2\n",
    "    c=(int(lst[20543])+int(lst[20544]))/2\n",
    "    d=(int(lst[20555])+int(lst[20556]))/2\n",
    "    e=(int(lst[20567])+int(lst[20568]))/2\n",
    "    f=(int(lst[20579])+int(lst[20580]))/2\n",
    "    g=(int(lst[20591])+int(lst[20592]))/2\n",
    "    h=(int(lst[20603])+int(lst[20604]))/2\n",
    "    i=(int(lst[20615])+int(lst[20616]))/2\n",
    "    j=(int(lst[20627])+int(lst[20628]))/2\n",
    "    k=(int(lst[20639])+int(lst[20640]))/2\n",
    "    l=(int(lst[20651])+int(lst[20652]))/2\n",
    "    m=(int(lst[20663])+int(lst[20664]))/2\n",
    "    n=(int(lst[20675])+int(lst[20676]))/2\n",
    "    o=(int(lst[20687])+int(lst[20688]))/2\n",
    "    p=(int(lst[20699])+int(lst[20700]))/2\n",
    "    q=(int(lst[20711])+int(lst[20712]))/2\n",
    "    r=(int(lst[20723])+int(lst[20724]))/2\n",
    "    s=(int(lst[20735])+int(lst[20736]))/2\n",
    "    t=(int(lst[20747])+int(lst[20748]))/2\n",
    "    u=(int(lst[20759])+int(lst[20760]))/2\n",
    "    v=(int(lst[20771])+int(lst[20772]))/2\n",
    "    w=(int(lst[20783])+int(lst[20784]))/2\n",
    "    x=(int(lst[20795])+int(lst[20796]))/2\n",
    "    y=(int(lst[20807])+int(lst[20808]))/2\n",
    "    \n",
    "    temp_crn=[a,b,c,d,e,f,g,h,i,j,k,l,m,n,o,p,q,r,s,t,u,v,w,x,y]\n",
    "    print(temp_crn)"
   ]
  },
  {
   "cell_type": "code",
   "execution_count": 70,
   "id": "254e1e52",
   "metadata": {},
   "outputs": [
    {
     "name": "stdout",
     "output_type": "stream",
     "text": [
      "[0.0, 0.0, 0.0, 0.0, 0.0, 0.0, 0.0, 2.8000000000000114, -23.399999999999977, 10.5, 34.0, 44.799999999999955, 50.0, 49.5, 44.5, 36.5, 24.80000000000001, 10.699999999999989, 0.0, 0.0, 0.0, 0.0, 0.0, 0.0, 0.0]\n"
     ]
    }
   ],
   "source": [
    "difference2_gad = []\n",
    "\n",
    "zip_object = zip(temp, temp_crn)\n",
    "for temp_i, temp_crn_i in zip_object:\n",
    "    difference2_gad.append(temp_i-temp_crn_i)\n",
    "\n",
    "print(difference2_gad)"
   ]
  },
  {
   "cell_type": "markdown",
   "id": "75862889",
   "metadata": {},
   "source": [
    "<font size=\"3\">Newton, GA: 0600 UTC (12:00 am CST) 01 March 2022-0600 UTC (12:00 am CST) 02 March 2022</font>"
   ]
  },
  {
   "cell_type": "code",
   "execution_count": 71,
   "id": "06608db6",
   "metadata": {},
   "outputs": [
    {
     "name": "stdout",
     "output_type": "stream",
     "text": [
      "[0.0, 0.0, 0.0, 0.0, 0.0, 0.0, 0.0, 214.9, 457.5, 671.2, 830.5, 922.9, 943.0, 891.0, 768.0, 584.6, 358.0, 118.5, 0.0, 0.0, 0.0, 0.0, 0.0, 0.0, 0.0]\n"
     ]
    }
   ],
   "source": [
    "#1 hr hrrr:\n",
    "with open('hrrr_f01_Newton_GA.txt') as f:\n",
    "    lst=[line.split()[3] for line in f]\n",
    "    temp=[]\n",
    "    for i in lst:\n",
    "        new=i.replace(',',\"\")\n",
    "        temp.append(new)\n",
    "    temp.pop(0)\n",
    "    temp=[float(x) for x in temp]\n",
    "    temp=temp[1709:1734]\n",
    "    #temp=temp[2015:2063]\n",
    "    print(temp)\n",
    "    #print(len(temp))\n",
    "#full time period is [2015:2112]"
   ]
  },
  {
   "cell_type": "code",
   "execution_count": 72,
   "id": "bd71ef9e",
   "metadata": {},
   "outputs": [
    {
     "name": "stdout",
     "output_type": "stream",
     "text": [
      "[0.0, 0.0, 0.0, 0.0, 0.0, 0.0, 5.5, 198.0, 412.5, 599.0, 740.0, 824.0, 843.0, 794.5, 683.0, 518.0, 312.5, 108.5, 0.0, 0.0, 0.0, 0.0, 0.0, 0.0, 0.0]\n"
     ]
    }
   ],
   "source": [
    "#Air Temp CRN:\n",
    "with open('CRNS0101-05-2022-GA_Newton_11_SW.txt') as f:\n",
    "    lst=[line.split()[10] for line in f]\n",
    "    \n",
    "    a=(int(lst[20519])+int(lst[20520]))/2\n",
    "    b=(int(lst[20531])+int(lst[20532]))/2\n",
    "    c=(int(lst[20543])+int(lst[20544]))/2\n",
    "    d=(int(lst[20555])+int(lst[20556]))/2\n",
    "    e=(int(lst[20567])+int(lst[20568]))/2\n",
    "    f=(int(lst[20579])+int(lst[20580]))/2\n",
    "    g=(int(lst[20591])+int(lst[20592]))/2\n",
    "    h=(int(lst[20603])+int(lst[20604]))/2\n",
    "    i=(int(lst[20615])+int(lst[20616]))/2\n",
    "    j=(int(lst[20627])+int(lst[20628]))/2\n",
    "    k=(int(lst[20639])+int(lst[20640]))/2\n",
    "    l=(int(lst[20651])+int(lst[20652]))/2\n",
    "    m=(int(lst[20663])+int(lst[20664]))/2\n",
    "    n=(int(lst[20675])+int(lst[20676]))/2\n",
    "    o=(int(lst[20687])+int(lst[20688]))/2\n",
    "    p=(int(lst[20699])+int(lst[20700]))/2\n",
    "    q=(int(lst[20711])+int(lst[20712]))/2\n",
    "    r=(int(lst[20723])+int(lst[20724]))/2\n",
    "    s=(int(lst[20735])+int(lst[20736]))/2\n",
    "    t=(int(lst[20747])+int(lst[20748]))/2\n",
    "    u=(int(lst[20759])+int(lst[20760]))/2\n",
    "    v=(int(lst[20771])+int(lst[20772]))/2\n",
    "    w=(int(lst[20783])+int(lst[20784]))/2\n",
    "    x=(int(lst[20795])+int(lst[20796]))/2\n",
    "    y=(int(lst[20807])+int(lst[20808]))/2\n",
    "    \n",
    "    temp_crn=[a,b,c,d,e,f,g,h,i,j,k,l,m,n,o,p,q,r,s,t,u,v,w,x,y]\n",
    "    print(temp_crn)"
   ]
  },
  {
   "cell_type": "code",
   "execution_count": 73,
   "id": "405581a9",
   "metadata": {},
   "outputs": [
    {
     "name": "stdout",
     "output_type": "stream",
     "text": [
      "[0.0, 0.0, 0.0, 0.0, 0.0, 0.0, -5.5, 16.900000000000006, 45.0, 72.20000000000005, 90.5, 98.89999999999998, 100.0, 96.5, 85.0, 66.60000000000002, 45.5, 10.0, 0.0, 0.0, 0.0, 0.0, 0.0, 0.0, 0.0]\n"
     ]
    }
   ],
   "source": [
    "difference2_newt = []\n",
    "\n",
    "zip_object = zip(temp, temp_crn)\n",
    "for temp_i, temp_crn_i in zip_object:\n",
    "    difference2_newt.append(temp_i-temp_crn_i)\n",
    "\n",
    "print(difference2_newt)"
   ]
  },
  {
   "cell_type": "markdown",
   "id": "70443283",
   "metadata": {},
   "source": [
    "<font size=\"3\">Salem, MO: 0500 UTC (12:00 am CDT) 20 March 2022-0500 UTC (12:00 am CDT) 21 March 2022</font>"
   ]
  },
  {
   "cell_type": "code",
   "execution_count": 74,
   "id": "2d0299c0",
   "metadata": {},
   "outputs": [
    {
     "name": "stdout",
     "output_type": "stream",
     "text": [
      "[0.0, 0.0, 0.0, 0.0, 0.0, 0.0, 0.0, 109.5, 324.0, 530.6, 699.4, 813.3, 865.0, 845.0, 762.0, 619.0, 430.2, 216.7, 24.0, 0.0, 0.0, 0.0, 0.0, 0.0, 0.0]\n",
      "25\n"
     ]
    }
   ],
   "source": [
    "#1 hr hrrr:\n",
    "with open('hrrr_f01_Salem_MO.txt') as f:\n",
    "    lst=[line.split()[3] for line in f]\n",
    "    temp=[]\n",
    "    for i in lst:\n",
    "        new=i.replace(',',\"\")\n",
    "        temp.append(new)\n",
    "    temp.pop(0)\n",
    "    temp=[float(x) for x in temp]\n",
    "    temp=temp[1877:1902]\n",
    "    #temp=temp[2015:2063]\n",
    "    print(temp)\n",
    "    print(len(temp))\n",
    "#full time period is [2015:2112]"
   ]
  },
  {
   "cell_type": "code",
   "execution_count": 75,
   "id": "fb918883",
   "metadata": {},
   "outputs": [
    {
     "name": "stdout",
     "output_type": "stream",
     "text": [
      "[0.0, 0.0, 0.0, 0.0, 0.0, 0.0, 0.0, 142.0, 329.0, 534.5, 688.5, 794.0, 823.5, 821.5, 740.0, 576.0, 286.0, 172.5, 9.0, 0.0, 0.0, 0.0, 0.0, 0.0, 0.0]\n"
     ]
    }
   ],
   "source": [
    "#Air Temp CRN:\n",
    "with open('CRNS0101-05-2022-MO_Salem_10_W.txt') as f:\n",
    "    lst=[line.split()[10] for line in f]\n",
    "    \n",
    "    a=(int(lst[22535])+int(lst[22536]))/2\n",
    "    b=(int(lst[22547])+int(lst[22548]))/2\n",
    "    c=(int(lst[22559])+int(lst[22560]))/2\n",
    "    d=(int(lst[22571])+int(lst[22572]))/2\n",
    "    e=(int(lst[22583])+int(lst[22584]))/2\n",
    "    f=(int(lst[22595])+int(lst[22596]))/2\n",
    "    g=(int(lst[22607])+int(lst[22608]))/2\n",
    "    h=(int(lst[22619])+int(lst[22620]))/2\n",
    "    i=(int(lst[22631])+int(lst[22632]))/2\n",
    "    j=(int(lst[22643])+int(lst[22644]))/2\n",
    "    k=(int(lst[22655])+int(lst[22656]))/2\n",
    "    l=(int(lst[22667])+int(lst[22668]))/2\n",
    "    m=(int(lst[22679])+int(lst[22680]))/2\n",
    "    n=(int(lst[22691])+int(lst[22692]))/2\n",
    "    o=(int(lst[22703])+int(lst[22704]))/2\n",
    "    p=(int(lst[22715])+int(lst[22716]))/2\n",
    "    q=(int(lst[22727])+int(lst[22728]))/2\n",
    "    r=(int(lst[22739])+int(lst[22740]))/2\n",
    "    s=(int(lst[22751])+int(lst[22752]))/2\n",
    "    t=(int(lst[22763])+int(lst[22764]))/2\n",
    "    u=(int(lst[22775])+int(lst[22776]))/2\n",
    "    v=(int(lst[22787])+int(lst[22788]))/2\n",
    "    w=(int(lst[22799])+int(lst[22800]))/2\n",
    "    x=(int(lst[22811])+int(lst[22812]))/2\n",
    "    y=(int(lst[22823])+int(lst[22824]))/2\n",
    "    \n",
    "    temp_crn=[a,b,c,d,e,f,g,h,i,j,k,l,m,n,o,p,q,r,s,t,u,v,w,x,y]\n",
    "    print(temp_crn)"
   ]
  },
  {
   "cell_type": "code",
   "execution_count": 76,
   "id": "e8c3c3a5",
   "metadata": {},
   "outputs": [
    {
     "name": "stdout",
     "output_type": "stream",
     "text": [
      "[0.0, 0.0, 0.0, 0.0, 0.0, 0.0, 0.0, -32.5, -5.0, -3.8999999999999773, 10.899999999999977, 19.299999999999955, 41.5, 23.5, 22.0, 43.0, 144.2, 44.19999999999999, 15.0, 0.0, 0.0, 0.0, 0.0, 0.0, 0.0]\n"
     ]
    }
   ],
   "source": [
    "difference3_sal = []\n",
    "\n",
    "zip_object = zip(temp, temp_crn)\n",
    "for temp_i, temp_crn_i in zip_object:\n",
    "    difference3_sal.append(temp_i-temp_crn_i)\n",
    "\n",
    "print(difference3_sal)"
   ]
  },
  {
   "cell_type": "markdown",
   "id": "176d67cb",
   "metadata": {},
   "source": [
    "<font size=\"3\">Batesville, AR: 0600 UTC (12:00 am CST) 01 March 2022-0600 UTC (12:00 am CST) 02 March 2022</font>"
   ]
  },
  {
   "cell_type": "code",
   "execution_count": 77,
   "id": "51a628f5",
   "metadata": {},
   "outputs": [
    {
     "name": "stdout",
     "output_type": "stream",
     "text": [
      "[0.0, 0.0, 0.0, 0.0, 0.0, 0.0, 0.0, 106.3, 323.0, 533.7, 705.6, 823.9, 874.0, 854.0, 767.0, 624.5, 431.4, 218.5, 25.3, 0.0, 0.0, 0.0, 0.0, 0.0, 0.0]\n",
      "25\n"
     ]
    }
   ],
   "source": [
    "#1 hr hrrr:\n",
    "with open('hrrr_f01_Batesville_AR.txt') as f:\n",
    "    lst=[line.split()[3] for line in f]\n",
    "    temp=[]\n",
    "    for i in lst:\n",
    "        new=i.replace(',',\"\")\n",
    "        temp.append(new)\n",
    "    temp.pop(0)\n",
    "    temp=[float(x) for x in temp]\n",
    "    temp=temp[1877:1902]\n",
    "#     x = np.array(temp)\n",
    "#     temp = ma.masked_array(x, mask=[0, 0, 0, 0, 0,0,0,0,0,0,0,0,0,0,0,0,0,0,0,0,0,1,0,0,0])\n",
    "    #temp=temp[2015:2063]\n",
    "    print(temp)\n",
    "    print(len(temp))\n",
    "#full time period is [2015:2112]"
   ]
  },
  {
   "cell_type": "code",
   "execution_count": 78,
   "id": "08f9b3ea",
   "metadata": {},
   "outputs": [
    {
     "name": "stdout",
     "output_type": "stream",
     "text": [
      "[0.0, 0.0, 0.0, 0.0, 0.0, 0.0, 0.0, 111.5, 321.5, 496.5, 676.5, 785.0, 837.5, 840.0, 767.0, 621.5, 433.5, 224.5, 5.0, 0.0, 0.0, 0.0, 0.0, 0.0, 0.0]\n"
     ]
    }
   ],
   "source": [
    "#Air Temp CRN:\n",
    "with open('CRNS0101-05-2022-AR_Batesville_8_WNW.txt') as f:\n",
    "    lst=[line.split()[10] for line in f]\n",
    "    \n",
    "    a=(int(lst[22535])+int(lst[22536]))/2\n",
    "    b=(int(lst[22547])+int(lst[22548]))/2\n",
    "    c=(int(lst[22559])+int(lst[22560]))/2\n",
    "    d=(int(lst[22571])+int(lst[22572]))/2\n",
    "    e=(int(lst[22583])+int(lst[22584]))/2\n",
    "    f=(int(lst[22595])+int(lst[22596]))/2\n",
    "    g=(int(lst[22607])+int(lst[22608]))/2\n",
    "    h=(int(lst[22619])+int(lst[22620]))/2\n",
    "    i=(int(lst[22631])+int(lst[22632]))/2\n",
    "    j=(int(lst[22643])+int(lst[22644]))/2\n",
    "    k=(int(lst[22655])+int(lst[22656]))/2\n",
    "    l=(int(lst[22667])+int(lst[22668]))/2\n",
    "    m=(int(lst[22679])+int(lst[22680]))/2\n",
    "    n=(int(lst[22691])+int(lst[22692]))/2\n",
    "    o=(int(lst[22703])+int(lst[22704]))/2\n",
    "    p=(int(lst[22715])+int(lst[22716]))/2\n",
    "    q=(int(lst[22727])+int(lst[22728]))/2\n",
    "    r=(int(lst[22739])+int(lst[22740]))/2\n",
    "    s=(int(lst[22751])+int(lst[22752]))/2\n",
    "    t=(int(lst[22763])+int(lst[22764]))/2\n",
    "    u=(int(lst[22775])+int(lst[22776]))/2\n",
    "    v=(int(lst[22787])+int(lst[22788]))/2\n",
    "    w=(int(lst[22799])+int(lst[22800]))/2\n",
    "    x=(int(lst[22811])+int(lst[22812]))/2\n",
    "    y=(int(lst[22823])+int(lst[22824]))/2\n",
    "    \n",
    "    temp_crn=[a,b,c,d,e,f,g,h,i,j,k,l,m,n,o,p,q,r,s,t,u,v,w,x,y]\n",
    "    print(temp_crn)"
   ]
  },
  {
   "cell_type": "code",
   "execution_count": 79,
   "id": "19589d21",
   "metadata": {},
   "outputs": [
    {
     "name": "stdout",
     "output_type": "stream",
     "text": [
      "[0.0, 0.0, 0.0, 0.0, 0.0, 0.0, 0.0, -5.200000000000003, 1.5, 37.200000000000045, 29.100000000000023, 38.89999999999998, 36.5, 14.0, 0.0, 3.0, -2.1000000000000227, -6.0, 20.3, 0.0, 0.0, 0.0, 0.0, 0.0, 0.0]\n"
     ]
    }
   ],
   "source": [
    "difference3_bat = []\n",
    "\n",
    "zip_object = zip(temp, temp_crn)\n",
    "for temp_i, temp_crn_i in zip_object:\n",
    "    difference3_bat.append(temp_i-temp_crn_i)\n",
    "\n",
    "print(difference3_bat)"
   ]
  },
  {
   "cell_type": "markdown",
   "id": "9ac05a40",
   "metadata": {},
   "source": [
    "<font size=\"3\">Lafayette, LA: 0600 UTC (12:00 am CST) 01 March 2022-0600 UTC (12:00 am CST) 02 March 2022</font>"
   ]
  },
  {
   "cell_type": "code",
   "execution_count": 80,
   "id": "f280badb",
   "metadata": {},
   "outputs": [
    {
     "name": "stdout",
     "output_type": "stream",
     "text": [
      "[0.0, 0.0, 0.0, 0.0, 0.0, 0.0, 0.0, 89.9, 359.6, 589.2, 775.8, 903.6, 964.0, 947.0, 864.0, 702.1, 492.7, 249.5, 30.3, 0.0, 0.0, 0.0, 0.0, 0.0, 0.0]\n"
     ]
    }
   ],
   "source": [
    "#1 hr hrrr:\n",
    "with open('hrrr_f01_Lafayette_LA.txt') as f:\n",
    "    lst=[line.split()[3] for line in f]\n",
    "    temp=[]\n",
    "    for i in lst:\n",
    "        new=i.replace(',',\"\")\n",
    "        temp.append(new)\n",
    "    temp.pop(0)\n",
    "    temp=[float(x) for x in temp]\n",
    "    temp=temp[1877:1902]\n",
    "    #temp=temp[2015:2063]\n",
    "    print(temp)\n",
    "    #print(len(temp))\n",
    "#full time period is [2015:2112]"
   ]
  },
  {
   "cell_type": "code",
   "execution_count": 81,
   "id": "7e7917cd",
   "metadata": {},
   "outputs": [
    {
     "name": "stdout",
     "output_type": "stream",
     "text": [
      "[0.0, 0.0, 0.0, 0.0, 0.0, 0.0, 0.0, 114.5, 358.5, 569.5, 738.0, 852.0, 902.5, 883.5, 797.5, 656.0, 466.0, 236.5, 31.0, 0.0, 0.0, 0.0, 0.0, 0.0, 0.0]\n"
     ]
    }
   ],
   "source": [
    "#Air Temp CRN:\n",
    "with open('CRNS0101-05-2022-LA_Lafayette_13_SE.txt') as f:\n",
    "    lst=[line.split()[10] for line in f]\n",
    "    \n",
    "    a=(int(lst[22535])+int(lst[22536]))/2\n",
    "    b=(int(lst[22547])+int(lst[22548]))/2\n",
    "    c=(int(lst[22559])+int(lst[22560]))/2\n",
    "    d=(int(lst[22571])+int(lst[22572]))/2\n",
    "    e=(int(lst[22583])+int(lst[22584]))/2\n",
    "    f=(int(lst[22595])+int(lst[22596]))/2\n",
    "    g=(int(lst[22607])+int(lst[22608]))/2\n",
    "    h=(int(lst[22619])+int(lst[22620]))/2\n",
    "    i=(int(lst[22631])+int(lst[22632]))/2\n",
    "    j=(int(lst[22643])+int(lst[22644]))/2\n",
    "    k=(int(lst[22655])+int(lst[22656]))/2\n",
    "    l=(int(lst[22667])+int(lst[22668]))/2\n",
    "    m=(int(lst[22679])+int(lst[22680]))/2\n",
    "    n=(int(lst[22691])+int(lst[22692]))/2\n",
    "    o=(int(lst[22703])+int(lst[22704]))/2\n",
    "    p=(int(lst[22715])+int(lst[22716]))/2\n",
    "    q=(int(lst[22727])+int(lst[22728]))/2\n",
    "    r=(int(lst[22739])+int(lst[22740]))/2\n",
    "    s=(int(lst[22751])+int(lst[22752]))/2\n",
    "    t=(int(lst[22763])+int(lst[22764]))/2\n",
    "    u=(int(lst[22775])+int(lst[22776]))/2\n",
    "    v=(int(lst[22787])+int(lst[22788]))/2\n",
    "    w=(int(lst[22799])+int(lst[22800]))/2\n",
    "    x=(int(lst[22811])+int(lst[22812]))/2\n",
    "    y=(int(lst[22823])+int(lst[22824]))/2\n",
    "    \n",
    "    temp_crn=[a,b,c,d,e,f,g,h,i,j,k,l,m,n,o,p,q,r,s,t,u,v,w,x,y]\n",
    "    print(temp_crn)"
   ]
  },
  {
   "cell_type": "code",
   "execution_count": 82,
   "id": "36c6a6c7",
   "metadata": {},
   "outputs": [
    {
     "name": "stdout",
     "output_type": "stream",
     "text": [
      "[0.0, 0.0, 0.0, 0.0, 0.0, 0.0, 0.0, -24.599999999999994, 1.1000000000000227, 19.700000000000045, 37.799999999999955, 51.60000000000002, 61.5, 63.5, 66.5, 46.10000000000002, 26.69999999999999, 13.0, -0.6999999999999993, 0.0, 0.0, 0.0, 0.0, 0.0, 0.0]\n"
     ]
    }
   ],
   "source": [
    "difference3_laf = []\n",
    "\n",
    "zip_object = zip(temp, temp_crn)\n",
    "for temp_i, temp_crn_i in zip_object:\n",
    "    difference3_laf.append(temp_i-temp_crn_i)\n",
    "\n",
    "print(difference3_laf)"
   ]
  },
  {
   "cell_type": "markdown",
   "id": "9f50a0c5",
   "metadata": {},
   "source": [
    "<font size=\"3\">Monroe, LA: 0600 UTC (12:00 am CST) 01 March 2022-0600 UTC (12:00 am CST) 02 March 2022</font>"
   ]
  },
  {
   "cell_type": "code",
   "execution_count": 83,
   "id": "afe54e44",
   "metadata": {},
   "outputs": [
    {
     "name": "stdout",
     "output_type": "stream",
     "text": [
      "[0.0, 0.0, 0.0, 0.0, 0.0, 0.0, 0.0, 113.1, 342.3, 560.2, 741.9, 864.1, 921.0, 908.0, 822.0, 671.3, 470.6, 241.5, 31.3, 0.0, 0.0, 0.0, 0.0, 0.0, 0.0]\n"
     ]
    }
   ],
   "source": [
    "#1 hr hrrr:\n",
    "with open('hrrr_f01_Monroe_LA.txt') as f:\n",
    "    lst=[line.split()[3] for line in f]\n",
    "    temp=[]\n",
    "    for i in lst:\n",
    "        new=i.replace(',',\"\")\n",
    "        temp.append(new)\n",
    "    temp.pop(0)\n",
    "    temp=[float(x) for x in temp]\n",
    "    temp=temp[1877:1902]\n",
    "    #temp=temp[2015:2063]\n",
    "    print(temp)\n",
    "    #print(len(temp))\n",
    "#full time period is [2015:2112]"
   ]
  },
  {
   "cell_type": "code",
   "execution_count": 84,
   "id": "e83f03aa",
   "metadata": {},
   "outputs": [
    {
     "name": "stdout",
     "output_type": "stream",
     "text": [
      "[0.0, 0.0, 0.0, 0.0, 0.0, 0.0, 0.5, 91.0, 324.5, 550.5, 727.0, 837.0, 889.5, 870.0, 781.5, 628.5, 424.5, 32.0, 12.0, 0.0, 0.0, 0.0, 0.0, 0.0, 0.0]\n"
     ]
    }
   ],
   "source": [
    "#Air Temp CRN:\n",
    "with open('CRNS0101-05-2022-LA_Monroe_26_N.txt') as f:\n",
    "    lst=[line.split()[10] for line in f]\n",
    "    \n",
    "    a=(int(lst[22535])+int(lst[22536]))/2\n",
    "    b=(int(lst[22547])+int(lst[22548]))/2\n",
    "    c=(int(lst[22559])+int(lst[22560]))/2\n",
    "    d=(int(lst[22571])+int(lst[22572]))/2\n",
    "    e=(int(lst[22583])+int(lst[22584]))/2\n",
    "    f=(int(lst[22595])+int(lst[22596]))/2\n",
    "    g=(int(lst[22607])+int(lst[22608]))/2\n",
    "    h=(int(lst[22619])+int(lst[22620]))/2\n",
    "    i=(int(lst[22631])+int(lst[22632]))/2\n",
    "    j=(int(lst[22643])+int(lst[22644]))/2\n",
    "    k=(int(lst[22655])+int(lst[22656]))/2\n",
    "    l=(int(lst[22667])+int(lst[22668]))/2\n",
    "    m=(int(lst[22679])+int(lst[22680]))/2\n",
    "    n=(int(lst[22691])+int(lst[22692]))/2\n",
    "    o=(int(lst[22703])+int(lst[22704]))/2\n",
    "    p=(int(lst[22715])+int(lst[22716]))/2\n",
    "    q=(int(lst[22727])+int(lst[22728]))/2\n",
    "    r=(int(lst[22739])+int(lst[22740]))/2\n",
    "    s=(int(lst[22751])+int(lst[22752]))/2\n",
    "    t=(int(lst[22763])+int(lst[22764]))/2\n",
    "    u=(int(lst[22775])+int(lst[22776]))/2\n",
    "    v=(int(lst[22787])+int(lst[22788]))/2\n",
    "    w=(int(lst[22799])+int(lst[22800]))/2\n",
    "    x=(int(lst[22811])+int(lst[22812]))/2\n",
    "    y=(int(lst[22823])+int(lst[22824]))/2\n",
    "    \n",
    "    temp_crn=[a,b,c,d,e,f,g,h,i,j,k,l,m,n,o,p,q,r,s,t,u,v,w,x,y]\n",
    "    print(temp_crn)"
   ]
  },
  {
   "cell_type": "code",
   "execution_count": 85,
   "id": "79ffb554",
   "metadata": {},
   "outputs": [
    {
     "name": "stdout",
     "output_type": "stream",
     "text": [
      "[0.0, 0.0, 0.0, 0.0, 0.0, 0.0, -0.5, 22.099999999999994, 17.80000000000001, 9.700000000000045, 14.899999999999977, 27.100000000000023, 31.5, 38.0, 40.5, 42.799999999999955, 46.10000000000002, 209.5, 19.3, 0.0, 0.0, 0.0, 0.0, 0.0, 0.0]\n"
     ]
    }
   ],
   "source": [
    "difference3_mon = []\n",
    "\n",
    "zip_object = zip(temp, temp_crn)\n",
    "for temp_i, temp_crn_i in zip_object:\n",
    "    difference3_mon.append(temp_i-temp_crn_i)\n",
    "\n",
    "print(difference3_mon)"
   ]
  },
  {
   "cell_type": "markdown",
   "id": "1bf55dcc",
   "metadata": {},
   "source": [
    "<font size=\"3\">Holly Springs, MS: 0600 UTC (12:00 am CST) 01 March 2022-0600 UTC (12:00 am CST) 02 March 2022</font>"
   ]
  },
  {
   "cell_type": "code",
   "execution_count": 86,
   "id": "70182e09",
   "metadata": {},
   "outputs": [
    {
     "name": "stdout",
     "output_type": "stream",
     "text": [
      "[0.0, 0.0, 0.0, 0.0, 0.0, 0.0, 0.0, 143.7, 365.1, 573.0, 739.4, 844.8, 886.0, 858.0, 767.0, 613.0, 414.0, 194.2, 6.4, 0.0, 0.0, 0.0, 0.0, 0.0, 0.0]\n"
     ]
    }
   ],
   "source": [
    "#1 hr hrrr:\n",
    "with open('hrrr_f01_Holly Springs_MS.txt') as f:\n",
    "    lst=[line.split()[3] for line in f]\n",
    "    temp=[]\n",
    "    for i in lst:\n",
    "        new=i.replace(',',\"\")\n",
    "        temp.append(new)\n",
    "    temp.pop(0)\n",
    "    temp=[float(x) for x in temp]\n",
    "    temp=temp[1877:1902]\n",
    "    #temp=temp[2015:2063]\n",
    "    print(temp)\n",
    "    #print(len(temp))\n",
    "#full time period is [2015:2112]"
   ]
  },
  {
   "cell_type": "code",
   "execution_count": 87,
   "id": "c2aa5abe",
   "metadata": {},
   "outputs": [
    {
     "name": "stdout",
     "output_type": "stream",
     "text": [
      "[0.0, 0.0, 0.0, 0.0, 0.0, 0.0, 0.0, 188.0, 409.5, 599.0, 760.0, 831.0, 839.5, 778.0, 714.5, 563.5, 357.5, 139.0, 0.5, 0.0, 0.0, 0.0, 0.0, 0.0, 0.0]\n"
     ]
    }
   ],
   "source": [
    "#Air Temp CRN:\n",
    "with open('CRNS0101-05-2022-MS_Holly_Springs_4_N.txt') as f:\n",
    "    lst=[line.split()[10] for line in f]\n",
    "    \n",
    "    a=(int(lst[22535])+int(lst[22536]))/2\n",
    "    b=(int(lst[22547])+int(lst[22548]))/2\n",
    "    c=(int(lst[22559])+int(lst[22560]))/2\n",
    "    d=(int(lst[22571])+int(lst[22572]))/2\n",
    "    e=(int(lst[22583])+int(lst[22584]))/2\n",
    "    f=(int(lst[22595])+int(lst[22596]))/2\n",
    "    g=(int(lst[22607])+int(lst[22608]))/2\n",
    "    h=(int(lst[22619])+int(lst[22620]))/2\n",
    "    i=(int(lst[22631])+int(lst[22632]))/2\n",
    "    j=(int(lst[22643])+int(lst[22644]))/2\n",
    "    k=(int(lst[22655])+int(lst[22656]))/2\n",
    "    l=(int(lst[22667])+int(lst[22668]))/2\n",
    "    m=(int(lst[22679])+int(lst[22680]))/2\n",
    "    n=(int(lst[22691])+int(lst[22692]))/2\n",
    "    o=(int(lst[22703])+int(lst[22704]))/2\n",
    "    p=(int(lst[22715])+int(lst[22716]))/2\n",
    "    q=(int(lst[22727])+int(lst[22728]))/2\n",
    "    r=(int(lst[22739])+int(lst[22740]))/2\n",
    "    s=(int(lst[22751])+int(lst[22752]))/2\n",
    "    t=(int(lst[22763])+int(lst[22764]))/2\n",
    "    u=(int(lst[22775])+int(lst[22776]))/2\n",
    "    v=(int(lst[22787])+int(lst[22788]))/2\n",
    "    w=(int(lst[22799])+int(lst[22800]))/2\n",
    "    x=(int(lst[22811])+int(lst[22812]))/2\n",
    "    y=(int(lst[22823])+int(lst[22824]))/2\n",
    "    \n",
    "    temp_crn=[a,b,c,d,e,f,g,h,i,j,k,l,m,n,o,p,q,r,s,t,u,v,w,x,y]\n",
    "    print(temp_crn)"
   ]
  },
  {
   "cell_type": "code",
   "execution_count": 88,
   "id": "9d0ab2f8",
   "metadata": {},
   "outputs": [
    {
     "name": "stdout",
     "output_type": "stream",
     "text": [
      "[0.0, 0.0, 0.0, 0.0, 0.0, 0.0, 0.0, -44.30000000000001, -44.39999999999998, -26.0, -20.600000000000023, 13.799999999999955, 46.5, 80.0, 52.5, 49.5, 56.5, 55.19999999999999, 5.9, 0.0, 0.0, 0.0, 0.0, 0.0, 0.0]\n"
     ]
    }
   ],
   "source": [
    "difference3_hol = []\n",
    "\n",
    "zip_object = zip(temp, temp_crn)\n",
    "for temp_i, temp_crn_i in zip_object:\n",
    "    difference3_hol.append(temp_i-temp_crn_i)\n",
    "\n",
    "print(difference3_hol)"
   ]
  },
  {
   "cell_type": "markdown",
   "id": "2d2b0ce7",
   "metadata": {},
   "source": [
    "<font size=\"3\">Newton, MS: 0600 UTC (12:00 am CST) 01 March 2022-0600 UTC (12:00 am CST) 02 March 2022</font>"
   ]
  },
  {
   "cell_type": "code",
   "execution_count": 89,
   "id": "d10078d2",
   "metadata": {},
   "outputs": [
    {
     "name": "stdout",
     "output_type": "stream",
     "text": [
      "[0.0, 0.0, 0.0, 0.0, 0.0, 0.0, 0.0, 150.7, 393.1, 610.1, 779.5, 892.7, 936.0, 905.0, 805.0, 641.0, 430.3, 198.1, 4.7, 0.0, 0.0, 0.0, 0.0, 0.0, 0.0]\n"
     ]
    }
   ],
   "source": [
    "#1 hr hrrr:\n",
    "with open('hrrr_f01_Newton_MS.txt') as f:\n",
    "    lst=[line.split()[3] for line in f]\n",
    "    temp=[]\n",
    "    for i in lst:\n",
    "        new=i.replace(',',\"\")\n",
    "        temp.append(new)\n",
    "    temp.pop(0)\n",
    "    temp=[float(x) for x in temp]\n",
    "    temp=temp[1877:1902]\n",
    "    #temp=temp[2015:2063]\n",
    "    print(temp)\n",
    "    #print(len(temp))\n",
    "#full time period is [2015:2112]"
   ]
  },
  {
   "cell_type": "code",
   "execution_count": 90,
   "id": "493b49d2",
   "metadata": {},
   "outputs": [
    {
     "name": "stdout",
     "output_type": "stream",
     "text": [
      "[0.0, 0.0, 0.0, 0.0, 0.0, 0.0, 0.0, 171.5, 391.5, 601.5, 741.0, 875.0, 894.5, 861.0, 767.0, 616.0, 415.0, 188.5, 0.5, 0.0, 0.0, 0.0, 0.0, 0.0, 0.0]\n"
     ]
    }
   ],
   "source": [
    "#Air Temp CRN:\n",
    "with open('CRNS0101-05-2022-MS_Newton_5_ENE.txt') as f:\n",
    "    lst=[line.split()[10] for line in f]\n",
    "    \n",
    "    a=(int(lst[22535])+int(lst[22536]))/2\n",
    "    b=(int(lst[22547])+int(lst[22548]))/2\n",
    "    c=(int(lst[22559])+int(lst[22560]))/2\n",
    "    d=(int(lst[22571])+int(lst[22572]))/2\n",
    "    e=(int(lst[22583])+int(lst[22584]))/2\n",
    "    f=(int(lst[22595])+int(lst[22596]))/2\n",
    "    g=(int(lst[22607])+int(lst[22608]))/2\n",
    "    h=(int(lst[22619])+int(lst[22620]))/2\n",
    "    i=(int(lst[22631])+int(lst[22632]))/2\n",
    "    j=(int(lst[22643])+int(lst[22644]))/2\n",
    "    k=(int(lst[22655])+int(lst[22656]))/2\n",
    "    l=(int(lst[22667])+int(lst[22668]))/2\n",
    "    m=(int(lst[22679])+int(lst[22680]))/2\n",
    "    n=(int(lst[22691])+int(lst[22692]))/2\n",
    "    o=(int(lst[22703])+int(lst[22704]))/2\n",
    "    p=(int(lst[22715])+int(lst[22716]))/2\n",
    "    q=(int(lst[22727])+int(lst[22728]))/2\n",
    "    r=(int(lst[22739])+int(lst[22740]))/2\n",
    "    s=(int(lst[22751])+int(lst[22752]))/2\n",
    "    t=(int(lst[22763])+int(lst[22764]))/2\n",
    "    u=(int(lst[22775])+int(lst[22776]))/2\n",
    "    v=(int(lst[22787])+int(lst[22788]))/2\n",
    "    w=(int(lst[22799])+int(lst[22800]))/2\n",
    "    x=(int(lst[22811])+int(lst[22812]))/2\n",
    "    y=(int(lst[22823])+int(lst[22824]))/2\n",
    "    \n",
    "    temp_crn=[a,b,c,d,e,f,g,h,i,j,k,l,m,n,o,p,q,r,s,t,u,v,w,x,y]\n",
    "    print(temp_crn)"
   ]
  },
  {
   "cell_type": "code",
   "execution_count": 91,
   "id": "9f44baa8",
   "metadata": {},
   "outputs": [
    {
     "name": "stdout",
     "output_type": "stream",
     "text": [
      "[0.0, 0.0, 0.0, 0.0, 0.0, 0.0, 0.0, -20.80000000000001, 1.6000000000000227, 8.600000000000023, 38.5, 17.700000000000045, 41.5, 44.0, 38.0, 25.0, 15.300000000000011, 9.599999999999994, 4.2, 0.0, 0.0, 0.0, 0.0, 0.0, 0.0]\n"
     ]
    }
   ],
   "source": [
    "difference3_new = []\n",
    "\n",
    "zip_object = zip(temp, temp_crn)\n",
    "for temp_i, temp_crn_i in zip_object:\n",
    "    difference3_new.append(temp_i-temp_crn_i)\n",
    "\n",
    "print(difference3_new)"
   ]
  },
  {
   "cell_type": "markdown",
   "id": "538036ab",
   "metadata": {},
   "source": [
    "<font size=\"3\">Gainesville, AL: 0600 UTC (12:00 am CST) 01 March 2022-0600 UTC (12:00 am CST) 02 March 2022</font>"
   ]
  },
  {
   "cell_type": "code",
   "execution_count": 92,
   "id": "24a63117",
   "metadata": {},
   "outputs": [],
   "source": [
    "# #1 hr hrrr:\n",
    "# with open('hrrr_f01_Gainesville_AL.txt') as f:\n",
    "#     lst=[line.split()[3] for line in f]\n",
    "#     temp=[]\n",
    "#     for i in lst:\n",
    "#         new=i.replace(',',\"\")\n",
    "#         temp.append(new)\n",
    "#     temp.pop(0)\n",
    "#     temp=[float(x) for x in temp]\n",
    "#     temp=temp[1877:1902]\n",
    "#     #temp=temp[2015:2063]\n",
    "#     print(temp)\n",
    "#     #print(len(temp))\n",
    "# #full time period is [2015:2112]"
   ]
  },
  {
   "cell_type": "code",
   "execution_count": 93,
   "id": "232e137f",
   "metadata": {},
   "outputs": [],
   "source": [
    "# #Air Temp CRN:\n",
    "# with open('CRNH0203-2022-AL_Gainesville_2_NE.txt') as f:\n",
    "#     lst=[line.split()[13] for line in f]\n",
    "#     #print(lst)\n",
    "#     temp_crn=[]\n",
    "#     for i in lst:\n",
    "#         new=i.replace(',',\"\")\n",
    "#         temp_crn.append(new)\n",
    "#     temp_crn=[float(x) for x in temp_crn]\n",
    "#     temp_crn=temp_crn[1877:1902]\n",
    "#     print(temp_crn)\n",
    "#     #print(len(temp_crn))\n",
    "#     # print(temp_crn[2124])"
   ]
  },
  {
   "cell_type": "code",
   "execution_count": 94,
   "id": "b6c8652b",
   "metadata": {},
   "outputs": [],
   "source": [
    "# difference3_gai = []\n",
    "\n",
    "# zip_object = zip(temp, temp_crn)\n",
    "# for temp_i, temp_crn_i in zip_object:\n",
    "#     difference3_gai.append(temp_i-temp_crn_i)\n",
    "\n",
    "# print(difference3_gai)"
   ]
  },
  {
   "cell_type": "markdown",
   "id": "bec1bd8b",
   "metadata": {},
   "source": [
    "<font size=\"3\">Fairhope, AL: 0600 UTC (12:00 am CST) 01 March 2022-0600 UTC (12:00 am CST) 02 March 2022</font>"
   ]
  },
  {
   "cell_type": "code",
   "execution_count": 95,
   "id": "1d46687a",
   "metadata": {},
   "outputs": [
    {
     "name": "stdout",
     "output_type": "stream",
     "text": [
      "[0.0, 0.0, 0.0, 0.0, 0.0, 0.0, 0.0, 191.1, 433.0, 653.8, 821.7, 927.3, 965.0, 927.0, 817.0, 646.8, 428.5, 183.8, 0.0, 0.0, 0.0, 0.0, 0.0, 0.0, 0.0]\n"
     ]
    }
   ],
   "source": [
    "#1 hr hrrr:\n",
    "with open('hrrr_f01_Fairhope_AL.txt') as f:\n",
    "    lst=[line.split()[3] for line in f]\n",
    "    temp=[]\n",
    "    for i in lst:\n",
    "        new=i.replace(',',\"\")\n",
    "        temp.append(new)\n",
    "    temp.pop(0)\n",
    "    temp=[float(x) for x in temp]\n",
    "    temp=temp[1877:1902]\n",
    "    #temp=temp[2015:2063]\n",
    "    print(temp)\n",
    "    #print(len(temp))\n",
    "#full time period is [2015:2112]"
   ]
  },
  {
   "cell_type": "code",
   "execution_count": 96,
   "id": "8a4a762c",
   "metadata": {},
   "outputs": [
    {
     "name": "stdout",
     "output_type": "stream",
     "text": [
      "[0.0, 0.0, 0.0, 0.0, 0.0, 0.0, 3.5, 191.5, 416.5, 621.0, 778.0, 874.5, 910.0, 877.0, 775.5, 611.5, 412.5, 185.0, 0.0, 0.0, 0.0, 0.0, 0.0, 0.0, 0.0]\n"
     ]
    }
   ],
   "source": [
    "#Air Temp CRN:\n",
    "with open('CRNS0101-05-2022-AL_Fairhope_3_NE.txt') as f:\n",
    "    lst=[line.split()[10] for line in f]\n",
    "    \n",
    "    a=(int(lst[22535])+int(lst[22536]))/2\n",
    "    b=(int(lst[22547])+int(lst[22548]))/2\n",
    "    c=(int(lst[22559])+int(lst[22560]))/2\n",
    "    d=(int(lst[22571])+int(lst[22572]))/2\n",
    "    e=(int(lst[22583])+int(lst[22584]))/2\n",
    "    f=(int(lst[22595])+int(lst[22596]))/2\n",
    "    g=(int(lst[22607])+int(lst[22608]))/2\n",
    "    h=(int(lst[22619])+int(lst[22620]))/2\n",
    "    i=(int(lst[22631])+int(lst[22632]))/2\n",
    "    j=(int(lst[22643])+int(lst[22644]))/2\n",
    "    k=(int(lst[22655])+int(lst[22656]))/2\n",
    "    l=(int(lst[22667])+int(lst[22668]))/2\n",
    "    m=(int(lst[22679])+int(lst[22680]))/2\n",
    "    n=(int(lst[22691])+int(lst[22692]))/2\n",
    "    o=(int(lst[22703])+int(lst[22704]))/2\n",
    "    p=(int(lst[22715])+int(lst[22716]))/2\n",
    "    q=(int(lst[22727])+int(lst[22728]))/2\n",
    "    r=(int(lst[22739])+int(lst[22740]))/2\n",
    "    s=(int(lst[22751])+int(lst[22752]))/2\n",
    "    t=(int(lst[22763])+int(lst[22764]))/2\n",
    "    u=(int(lst[22775])+int(lst[22776]))/2\n",
    "    v=(int(lst[22787])+int(lst[22788]))/2\n",
    "    w=(int(lst[22799])+int(lst[22800]))/2\n",
    "    x=(int(lst[22811])+int(lst[22812]))/2\n",
    "    y=(int(lst[22823])+int(lst[22824]))/2\n",
    "    \n",
    "    temp_crn=[a,b,c,d,e,f,g,h,i,j,k,l,m,n,o,p,q,r,s,t,u,v,w,x,y]\n",
    "    print(temp_crn)"
   ]
  },
  {
   "cell_type": "code",
   "execution_count": 97,
   "id": "e5202245",
   "metadata": {},
   "outputs": [
    {
     "name": "stdout",
     "output_type": "stream",
     "text": [
      "[0.0, 0.0, 0.0, 0.0, 0.0, 0.0, -3.5, -0.4000000000000057, 16.5, 32.799999999999955, 43.700000000000045, 52.799999999999955, 55.0, 50.0, 41.5, 35.299999999999955, 16.0, -1.1999999999999886, 0.0, 0.0, 0.0, 0.0, 0.0, 0.0, 0.0]\n"
     ]
    }
   ],
   "source": [
    "difference3_fai = []\n",
    "\n",
    "zip_object = zip(temp, temp_crn)\n",
    "for temp_i, temp_crn_i in zip_object:\n",
    "    difference3_fai.append(temp_i-temp_crn_i)\n",
    "\n",
    "print(difference3_fai)"
   ]
  },
  {
   "cell_type": "markdown",
   "id": "5450f80c",
   "metadata": {},
   "source": [
    "<font size=\"3\">**Selma, AL: 0600 UTC (12:00 am CST) 01 March 2022-0600 UTC (12:00 am CST) 02 March 2022</font>"
   ]
  },
  {
   "cell_type": "code",
   "execution_count": 98,
   "id": "168fefba",
   "metadata": {},
   "outputs": [
    {
     "name": "stdout",
     "output_type": "stream",
     "text": [
      "[0.0, 0.0, 0.0, 0.0, 0.0, 0.0, 0.0, 192.0, 418.6, 630.0, 790.9, 894.0, 931.0, 894.0, 784.0, 612.3, 398.1, 167.4, 0.0, 0.0, 0.0, 0.0, 0.0, 0.0, 0.0]\n"
     ]
    }
   ],
   "source": [
    "#1 hr hrrr:\n",
    "import numpy as np\n",
    "import numpy.ma as ma\n",
    "with open('hrrr_f01_Selma_AL.txt') as f:\n",
    "    lst=[line.split()[3] for line in f]\n",
    "    temp=[]\n",
    "    for i in lst:\n",
    "        new=i.replace(',',\"\")\n",
    "        temp.append(new)\n",
    "    temp.pop(0)\n",
    "    temp=[float(x) for x in temp]\n",
    "    temp=temp[1877:1902]\n",
    "    print(temp)"
   ]
  },
  {
   "cell_type": "code",
   "execution_count": 99,
   "id": "f289b0c4",
   "metadata": {},
   "outputs": [
    {
     "name": "stdout",
     "output_type": "stream",
     "text": [
      "[0.0, 0.0, 0.0, 0.0, 0.0, 0.0, 2.0, 200.0, 415.0, 613.0, 759.5, 844.5, 857.0, 810.5, 722.5, 562.0, 357.5, 135.0, 0.0, 0.0, 0.0, 0.0, 0.0, 0.0, 0.0]\n"
     ]
    }
   ],
   "source": [
    "#Air Temp CRN:\n",
    "with open('CRNS0101-05-2022-AL_Selma_13_WNW.txt') as f:\n",
    "    lst=[line.split()[10] for line in f]\n",
    "    \n",
    "    a=(int(lst[22535])+int(lst[22536]))/2\n",
    "    b=(int(lst[22547])+int(lst[22548]))/2\n",
    "    c=(int(lst[22559])+int(lst[22560]))/2\n",
    "    d=(int(lst[22571])+int(lst[22572]))/2\n",
    "    e=(int(lst[22583])+int(lst[22584]))/2\n",
    "    f=(int(lst[22595])+int(lst[22596]))/2\n",
    "    g=(int(lst[22607])+int(lst[22608]))/2\n",
    "    h=(int(lst[22619])+int(lst[22620]))/2\n",
    "    i=(int(lst[22631])+int(lst[22632]))/2\n",
    "    j=(int(lst[22643])+int(lst[22644]))/2\n",
    "    k=(int(lst[22655])+int(lst[22656]))/2\n",
    "    l=(int(lst[22667])+int(lst[22668]))/2\n",
    "    m=(int(lst[22679])+int(lst[22680]))/2\n",
    "    n=(int(lst[22691])+int(lst[22692]))/2\n",
    "    o=(int(lst[22703])+int(lst[22704]))/2\n",
    "    p=(int(lst[22715])+int(lst[22716]))/2\n",
    "    q=(int(lst[22727])+int(lst[22728]))/2\n",
    "    r=(int(lst[22739])+int(lst[22740]))/2\n",
    "    s=(int(lst[22751])+int(lst[22752]))/2\n",
    "    t=(int(lst[22763])+int(lst[22764]))/2\n",
    "    u=(int(lst[22775])+int(lst[22776]))/2\n",
    "    v=(int(lst[22787])+int(lst[22788]))/2\n",
    "    w=(int(lst[22799])+int(lst[22800]))/2\n",
    "    x=(int(lst[22811])+int(lst[22812]))/2\n",
    "    y=(int(lst[22823])+int(lst[22824]))/2\n",
    "    \n",
    "    temp_crn=[a,b,c,d,e,f,g,h,i,j,k,l,m,n,o,p,q,r,s,t,u,v,w,x,y]\n",
    "    print(temp_crn)"
   ]
  },
  {
   "cell_type": "code",
   "execution_count": 100,
   "id": "3e2532e4",
   "metadata": {},
   "outputs": [
    {
     "name": "stdout",
     "output_type": "stream",
     "text": [
      "[0.0, 0.0, 0.0, 0.0, 0.0, 0.0, -2.0, -8.0, 3.6000000000000227, 17.0, 31.399999999999977, 49.5, 74.0, 83.5, 61.5, 50.299999999999955, 40.60000000000002, 32.400000000000006, 0.0, 0.0, 0.0, 0.0, 0.0, 0.0, 0.0]\n",
      "25\n"
     ]
    }
   ],
   "source": [
    "difference3_sel = []\n",
    "\n",
    "zip_object = zip(temp, temp_crn)\n",
    "for temp_i, temp_crn_i in zip_object:\n",
    "    difference3_sel.append(temp_i-temp_crn_i)\n",
    "\n",
    "print(difference3_sel)\n",
    "print(len(difference3_sel))"
   ]
  },
  {
   "cell_type": "markdown",
   "id": "d837cb2c",
   "metadata": {},
   "source": [
    "<font size=\"3\">Bowling Green, KY: 0600 UTC (12:00 am CST) 01 March 2022-0600 UTC (12:00 am CST) 02 March 2022</font>"
   ]
  },
  {
   "cell_type": "code",
   "execution_count": 101,
   "id": "4d2fd05e",
   "metadata": {},
   "outputs": [
    {
     "name": "stdout",
     "output_type": "stream",
     "text": [
      "[0.0, 0.0, 0.0, 0.0, 0.0, 0.0, 0.0, 187.1, 404.7, 596.0, 749.0, 839.7, 867.0, 826.0, 720.0, 558.5, 356.8, 141.3, 0.0, 0.0, 0.0, 0.0, 0.0, 0.0, 0.0]\n"
     ]
    }
   ],
   "source": [
    "#1 hr hrrr:\n",
    "with open('hrrr_f01_Bowling Green_KY.txt') as f:\n",
    "    lst=[line.split()[3] for line in f]\n",
    "    temp=[]\n",
    "    for i in lst:\n",
    "        new=i.replace(',',\"\")\n",
    "        temp.append(new)\n",
    "    temp.pop(0)\n",
    "    temp=[float(x) for x in temp]\n",
    "    temp=temp[1877:1902]\n",
    "    #temp=temp[2015:2063]\n",
    "    print(temp)\n",
    "    #print(len(temp))\n",
    "#full time period is [2015:2112]"
   ]
  },
  {
   "cell_type": "code",
   "execution_count": 102,
   "id": "8f455593",
   "metadata": {},
   "outputs": [
    {
     "name": "stdout",
     "output_type": "stream",
     "text": [
      "[0.0, 0.0, 0.0, 0.0, 0.0, 0.0, 5.5, 175.5, 374.5, 553.0, 695.5, 783.5, 810.5, 767.5, 664.0, 511.5, 323.5, 124.0, 0.0, 0.0, 0.0, 0.0, 0.0, 0.0, 0.0]\n"
     ]
    }
   ],
   "source": [
    "#Air Temp CRN:\n",
    "with open('CRNS0101-05-2022-KY_Bowling_Green_21_NNE.txt') as f:\n",
    "    lst=[line.split()[10] for line in f]\n",
    "    \n",
    "    a=(int(lst[22535])+int(lst[22536]))/2\n",
    "    b=(int(lst[22547])+int(lst[22548]))/2\n",
    "    c=(int(lst[22559])+int(lst[22560]))/2\n",
    "    d=(int(lst[22571])+int(lst[22572]))/2\n",
    "    e=(int(lst[22583])+int(lst[22584]))/2\n",
    "    f=(int(lst[22595])+int(lst[22596]))/2\n",
    "    g=(int(lst[22607])+int(lst[22608]))/2\n",
    "    h=(int(lst[22619])+int(lst[22620]))/2\n",
    "    i=(int(lst[22631])+int(lst[22632]))/2\n",
    "    j=(int(lst[22643])+int(lst[22644]))/2\n",
    "    k=(int(lst[22655])+int(lst[22656]))/2\n",
    "    l=(int(lst[22667])+int(lst[22668]))/2\n",
    "    m=(int(lst[22679])+int(lst[22680]))/2\n",
    "    n=(int(lst[22691])+int(lst[22692]))/2\n",
    "    o=(int(lst[22703])+int(lst[22704]))/2\n",
    "    p=(int(lst[22715])+int(lst[22716]))/2\n",
    "    q=(int(lst[22727])+int(lst[22728]))/2\n",
    "    r=(int(lst[22739])+int(lst[22740]))/2\n",
    "    s=(int(lst[22751])+int(lst[22752]))/2\n",
    "    t=(int(lst[22763])+int(lst[22764]))/2\n",
    "    u=(int(lst[22775])+int(lst[22776]))/2\n",
    "    v=(int(lst[22787])+int(lst[22788]))/2\n",
    "    w=(int(lst[22799])+int(lst[22800]))/2\n",
    "    x=(int(lst[22811])+int(lst[22812]))/2\n",
    "    y=(int(lst[22823])+int(lst[22824]))/2\n",
    "    \n",
    "    temp_crn=[a,b,c,d,e,f,g,h,i,j,k,l,m,n,o,p,q,r,s,t,u,v,w,x,y]\n",
    "    print(temp_crn)"
   ]
  },
  {
   "cell_type": "code",
   "execution_count": 103,
   "id": "c1e44909",
   "metadata": {},
   "outputs": [
    {
     "name": "stdout",
     "output_type": "stream",
     "text": [
      "[0.0, 0.0, 0.0, 0.0, 0.0, 0.0, -5.5, 11.599999999999994, 30.19999999999999, 43.0, 53.5, 56.200000000000045, 56.5, 58.5, 56.0, 47.0, 33.30000000000001, 17.30000000000001, 0.0, 0.0, 0.0, 0.0, 0.0, 0.0, 0.0]\n"
     ]
    }
   ],
   "source": [
    "difference3_bow = []\n",
    "\n",
    "zip_object = zip(temp, temp_crn)\n",
    "for temp_i, temp_crn_i in zip_object:\n",
    "    difference3_bow.append(temp_i-temp_crn_i)\n",
    "\n",
    "print(difference3_bow)"
   ]
  },
  {
   "cell_type": "markdown",
   "id": "21c9a287",
   "metadata": {},
   "source": [
    "<font size=\"3\">Gadsden, AL: 0600 UTC (12:00 am CST) 01 March 2022-0600 UTC (12:00 am CST) 02 March 2022</font>"
   ]
  },
  {
   "cell_type": "code",
   "execution_count": 104,
   "id": "77a1ef95",
   "metadata": {},
   "outputs": [
    {
     "name": "stdout",
     "output_type": "stream",
     "text": [
      "[0.0, 0.0, 0.0, 0.0, 0.0, 0.0, 0.0, 205.1, 431.4, 640.4, 799.6, 896.1, 925.0, 879.0, 765.0, 593.8, 380.8, 151.7, 0.0, 0.0, 0.0, 0.0, 0.0, 0.0, 0.0]\n"
     ]
    }
   ],
   "source": [
    "#1 hr hrrr:\n",
    "with open('hrrr_f01_Gadsden_AL.txt') as f:\n",
    "    lst=[line.split()[3] for line in f]\n",
    "    temp=[]\n",
    "    for i in lst:\n",
    "        new=i.replace(',',\"\")\n",
    "        temp.append(new)\n",
    "    temp.pop(0)\n",
    "    temp=[float(x) for x in temp]\n",
    "    temp=temp[1877:1902]\n",
    "#     x = np.array(temp)\n",
    "#     temp = ma.masked_array(x, mask=[0, 0, 0, 0, 0,0,0,0,1,0,0,0,0,0,0,0,0,0,0,0,0,0,0,0,0])\n",
    "    #temp=temp[2015:2063]\n",
    "    print(temp)\n",
    "    #print(len(temp))\n",
    "#full time period is [2015:2112]"
   ]
  },
  {
   "cell_type": "code",
   "execution_count": 105,
   "id": "90d48370",
   "metadata": {},
   "outputs": [
    {
     "name": "stdout",
     "output_type": "stream",
     "text": [
      "[0.0, 0.0, 0.0, 0.0, 0.0, 0.0, 23.0, 205.0, 428.5, 620.0, 768.5, 859.0, 885.0, 821.0, 735.0, 566.5, 343.5, 132.5, 0.0, 0.0, 0.0, 0.0, 0.0, 0.0, 0.0]\n"
     ]
    }
   ],
   "source": [
    "#Air Temp CRN:\n",
    "with open('CRNS0101-05-2022-AL_Gadsden_19_N.txt') as f:\n",
    "    lst=[line.split()[10] for line in f]\n",
    "    \n",
    "    a=(int(lst[22535])+int(lst[22536]))/2\n",
    "    b=(int(lst[22547])+int(lst[22548]))/2\n",
    "    c=(int(lst[22559])+int(lst[22560]))/2\n",
    "    d=(int(lst[22571])+int(lst[22572]))/2\n",
    "    e=(int(lst[22583])+int(lst[22584]))/2\n",
    "    f=(int(lst[22595])+int(lst[22596]))/2\n",
    "    g=(int(lst[22607])+int(lst[22608]))/2\n",
    "    h=(int(lst[22619])+int(lst[22620]))/2\n",
    "    i=(int(lst[22631])+int(lst[22632]))/2\n",
    "    j=(int(lst[22643])+int(lst[22644]))/2\n",
    "    k=(int(lst[22655])+int(lst[22656]))/2\n",
    "    l=(int(lst[22667])+int(lst[22668]))/2\n",
    "    m=(int(lst[22679])+int(lst[22680]))/2\n",
    "    n=(int(lst[22691])+int(lst[22692]))/2\n",
    "    o=(int(lst[22703])+int(lst[22704]))/2\n",
    "    p=(int(lst[22715])+int(lst[22716]))/2\n",
    "    q=(int(lst[22727])+int(lst[22728]))/2\n",
    "    r=(int(lst[22739])+int(lst[22740]))/2\n",
    "    s=(int(lst[22751])+int(lst[22752]))/2\n",
    "    t=(int(lst[22763])+int(lst[22764]))/2\n",
    "    u=(int(lst[22775])+int(lst[22776]))/2\n",
    "    v=(int(lst[22787])+int(lst[22788]))/2\n",
    "    w=(int(lst[22799])+int(lst[22800]))/2\n",
    "    x=(int(lst[22811])+int(lst[22812]))/2\n",
    "    y=(int(lst[22823])+int(lst[22824]))/2\n",
    "    \n",
    "    temp_crn=[a,b,c,d,e,f,g,h,i,j,k,l,m,n,o,p,q,r,s,t,u,v,w,x,y]\n",
    "    print(temp_crn)"
   ]
  },
  {
   "cell_type": "code",
   "execution_count": 106,
   "id": "cf4acb88",
   "metadata": {},
   "outputs": [
    {
     "name": "stdout",
     "output_type": "stream",
     "text": [
      "[0.0, 0.0, 0.0, 0.0, 0.0, 0.0, -23.0, 0.09999999999999432, 2.8999999999999773, 20.399999999999977, 31.100000000000023, 37.10000000000002, 40.0, 58.0, 30.0, 27.299999999999955, 37.30000000000001, 19.19999999999999, 0.0, 0.0, 0.0, 0.0, 0.0, 0.0, 0.0]\n"
     ]
    }
   ],
   "source": [
    "difference3_gad = []\n",
    "\n",
    "zip_object = zip(temp, temp_crn)\n",
    "for temp_i, temp_crn_i in zip_object:\n",
    "    difference3_gad.append(temp_i-temp_crn_i)\n",
    "\n",
    "print(difference3_gad)"
   ]
  },
  {
   "cell_type": "markdown",
   "id": "93b56dfb",
   "metadata": {},
   "source": [
    "<font size=\"3\">Newton, GA: 0600 UTC (12:00 am CST) 01 March 2022-0600 UTC (12:00 am CST) 02 March 2022</font>"
   ]
  },
  {
   "cell_type": "code",
   "execution_count": 107,
   "id": "53a55c7c",
   "metadata": {},
   "outputs": [
    {
     "name": "stdout",
     "output_type": "stream",
     "text": [
      "[0.0, 0.0, 0.0, 0.0, 0.0, 0.0, 0.0, 243.3, 482.2, 692.5, 848.5, 939.4, 960.0, 904.0, 779.0, 595.7, 371.1, 133.5, 0.0, 0.0, 0.0, 0.0, 0.0, 0.0, 0.0]\n"
     ]
    }
   ],
   "source": [
    "#1 hr hrrr:\n",
    "with open('hrrr_f01_Newton_GA.txt') as f:\n",
    "    lst=[line.split()[3] for line in f]\n",
    "    temp=[]\n",
    "    for i in lst:\n",
    "        new=i.replace(',',\"\")\n",
    "        temp.append(new)\n",
    "    temp.pop(0)\n",
    "    temp=[float(x) for x in temp]\n",
    "    temp=temp[1877:1902]\n",
    "    #temp=temp[2015:2063]\n",
    "    print(temp)\n",
    "    #print(len(temp))\n",
    "#full time period is [2015:2112]"
   ]
  },
  {
   "cell_type": "code",
   "execution_count": 108,
   "id": "e0002988",
   "metadata": {},
   "outputs": [
    {
     "name": "stdout",
     "output_type": "stream",
     "text": [
      "[0.0, 0.0, 0.0, 0.0, 0.0, 0.0, 39.0, 229.0, 441.5, 626.0, 765.5, 849.5, 863.0, 828.5, 697.5, 530.5, 326.0, 116.5, 0.0, 0.0, 0.0, 0.0, 0.0, 0.0, 0.0]\n"
     ]
    }
   ],
   "source": [
    "#Air Temp CRN:\n",
    "with open('CRNS0101-05-2022-GA_Newton_11_SW.txt') as f:\n",
    "    lst=[line.split()[10] for line in f]\n",
    "    \n",
    "    a=(int(lst[22535])+int(lst[22536]))/2\n",
    "    b=(int(lst[22547])+int(lst[22548]))/2\n",
    "    c=(int(lst[22559])+int(lst[22560]))/2\n",
    "    d=(int(lst[22571])+int(lst[22572]))/2\n",
    "    e=(int(lst[22583])+int(lst[22584]))/2\n",
    "    f=(int(lst[22595])+int(lst[22596]))/2\n",
    "    g=(int(lst[22607])+int(lst[22608]))/2\n",
    "    h=(int(lst[22619])+int(lst[22620]))/2\n",
    "    i=(int(lst[22631])+int(lst[22632]))/2\n",
    "    j=(int(lst[22643])+int(lst[22644]))/2\n",
    "    k=(int(lst[22655])+int(lst[22656]))/2\n",
    "    l=(int(lst[22667])+int(lst[22668]))/2\n",
    "    m=(int(lst[22679])+int(lst[22680]))/2\n",
    "    n=(int(lst[22691])+int(lst[22692]))/2\n",
    "    o=(int(lst[22703])+int(lst[22704]))/2\n",
    "    p=(int(lst[22715])+int(lst[22716]))/2\n",
    "    q=(int(lst[22727])+int(lst[22728]))/2\n",
    "    r=(int(lst[22739])+int(lst[22740]))/2\n",
    "    s=(int(lst[22751])+int(lst[22752]))/2\n",
    "    t=(int(lst[22763])+int(lst[22764]))/2\n",
    "    u=(int(lst[22775])+int(lst[22776]))/2\n",
    "    v=(int(lst[22787])+int(lst[22788]))/2\n",
    "    w=(int(lst[22799])+int(lst[22800]))/2\n",
    "    x=(int(lst[22811])+int(lst[22812]))/2\n",
    "    y=(int(lst[22823])+int(lst[22824]))/2\n",
    "    \n",
    "    temp_crn=[a,b,c,d,e,f,g,h,i,j,k,l,m,n,o,p,q,r,s,t,u,v,w,x,y]\n",
    "    print(temp_crn)"
   ]
  },
  {
   "cell_type": "code",
   "execution_count": 109,
   "id": "b71c6000",
   "metadata": {},
   "outputs": [
    {
     "name": "stdout",
     "output_type": "stream",
     "text": [
      "[0.0, 0.0, 0.0, 0.0, 0.0, 0.0, -39.0, 14.300000000000011, 40.69999999999999, 66.5, 83.0, 89.89999999999998, 97.0, 75.5, 81.5, 65.20000000000005, 45.10000000000002, 17.0, 0.0, 0.0, 0.0, 0.0, 0.0, 0.0, 0.0]\n"
     ]
    }
   ],
   "source": [
    "difference3_newt = []\n",
    "\n",
    "zip_object = zip(temp, temp_crn)\n",
    "for temp_i, temp_crn_i in zip_object:\n",
    "    difference3_newt.append(temp_i-temp_crn_i)\n",
    "\n",
    "print(difference3_newt)"
   ]
  },
  {
   "cell_type": "markdown",
   "id": "e079df5d",
   "metadata": {},
   "source": [
    "<font size=\"3\">Salem, MO: 0500 UTC (12:00 am CDT) 03 April 2022-0500 UTC (12:00 am CDT) 04 April 2022</font>"
   ]
  },
  {
   "cell_type": "code",
   "execution_count": 110,
   "id": "2bda3233",
   "metadata": {},
   "outputs": [
    {
     "name": "stdout",
     "output_type": "stream",
     "text": [
      "[0.0, 0.0, 0.0, 0.0, 0.0, 0.0, 0.0, 180.2, 399.2, 599.5, 760.8, 866.0, 910.0, 889.0, 801.0, 655.0, 461.0, 223.0, 62.7, 0.0, 0.0, 0.0, 0.0, 0.0, 0.0]\n",
      "25\n"
     ]
    }
   ],
   "source": [
    "#1 hr hrrr:\n",
    "with open('hrrr_f01_Salem_MO.txt') as f:\n",
    "    lst=[line.split()[3] for line in f]\n",
    "    temp=[]\n",
    "    for i in lst:\n",
    "        new=i.replace(',',\"\")\n",
    "        temp.append(new)\n",
    "    temp.pop(0)\n",
    "    temp=[float(x) for x in temp]\n",
    "    temp=temp[2213:2238]\n",
    "    #temp=temp[2015:2063]\n",
    "    print(temp)\n",
    "    print(len(temp))\n",
    "#full time period is [2015:2112]"
   ]
  },
  {
   "cell_type": "code",
   "execution_count": 111,
   "id": "3a8d2e0d",
   "metadata": {},
   "outputs": [
    {
     "name": "stdout",
     "output_type": "stream",
     "text": [
      "[0.0, 0.0, 0.0, 0.0, 0.0, 0.0, 7.5, 181.0, 408.5, 610.0, 744.0, 850.5, 885.0, 745.0, 578.5, 649.5, 354.0, 77.5, 0.0, 0.0, 0.0, 0.0, 0.0, 0.0, 0.0]\n"
     ]
    }
   ],
   "source": [
    "#Air Temp CRN:\n",
    "with open('CRNS0101-05-2022-MO_Salem_10_W.txt') as f:\n",
    "    lst=[line.split()[10] for line in f]\n",
    "    \n",
    "    a=(int(lst[26567])+int(lst[26568]))/2\n",
    "    b=(int(lst[26579])+int(lst[26580]))/2\n",
    "    c=(int(lst[26591])+int(lst[26592]))/2\n",
    "    d=(int(lst[26603])+int(lst[26604]))/2\n",
    "    e=(int(lst[26615])+int(lst[26616]))/2\n",
    "    f=(int(lst[26627])+int(lst[26628]))/2\n",
    "    g=(int(lst[26639])+int(lst[26640]))/2\n",
    "    h=(int(lst[26651])+int(lst[26652]))/2\n",
    "    i=(int(lst[26663])+int(lst[26664]))/2\n",
    "    j=(int(lst[26675])+int(lst[26676]))/2\n",
    "    k=(int(lst[26687])+int(lst[26688]))/2\n",
    "    l=(int(lst[26699])+int(lst[26700]))/2\n",
    "    m=(int(lst[26711])+int(lst[26712]))/2\n",
    "    n=(int(lst[26723])+int(lst[26724]))/2\n",
    "    o=(int(lst[26735])+int(lst[26736]))/2\n",
    "    p=(int(lst[26747])+int(lst[26748]))/2\n",
    "    q=(int(lst[26759])+int(lst[26760]))/2\n",
    "    r=(int(lst[26773])+int(lst[26774]))/2\n",
    "    s=(int(lst[26783])+int(lst[26784]))/2\n",
    "    t=(int(lst[26795])+int(lst[26796]))/2\n",
    "    u=(int(lst[26807])+int(lst[26808]))/2\n",
    "    v=(int(lst[26819])+int(lst[26820]))/2\n",
    "    w=(int(lst[26831])+int(lst[26832]))/2\n",
    "    x=(int(lst[26843])+int(lst[26844]))/2\n",
    "    y=(int(lst[26855])+int(lst[26856]))/2\n",
    "    \n",
    "    temp_crn=[a,b,c,d,e,f,g,h,i,j,k,l,m,n,o,p,q,r,s,t,u,v,w,x,y]\n",
    "    print(temp_crn)"
   ]
  },
  {
   "cell_type": "code",
   "execution_count": 112,
   "id": "2f3aad80",
   "metadata": {},
   "outputs": [
    {
     "name": "stdout",
     "output_type": "stream",
     "text": [
      "[0.0, 0.0, 0.0, 0.0, 0.0, 0.0, -7.5, -0.8000000000000114, -9.300000000000011, -10.5, 16.799999999999955, 15.5, 25.0, 144.0, 222.5, 5.5, 107.0, 145.5, 62.7, 0.0, 0.0, 0.0, 0.0, 0.0, 0.0]\n"
     ]
    }
   ],
   "source": [
    "difference4_sal = []\n",
    "\n",
    "zip_object = zip(temp, temp_crn)\n",
    "for temp_i, temp_crn_i in zip_object:\n",
    "    difference4_sal.append(temp_i-temp_crn_i)\n",
    "\n",
    "print(difference4_sal)"
   ]
  },
  {
   "cell_type": "markdown",
   "id": "f30e9b3b",
   "metadata": {},
   "source": [
    "<font size=\"3\">Batesville, AR: 0600 UTC (12:00 am CST) 01 March 2022-0600 UTC (12:00 am CST) 02 March 2022</font>"
   ]
  },
  {
   "cell_type": "code",
   "execution_count": 113,
   "id": "ea25905e",
   "metadata": {},
   "outputs": [
    {
     "name": "stdout",
     "output_type": "stream",
     "text": [
      "[0.0, 0.0, 0.0, 0.0, 0.0, 0.0, 0.0, 154.6, 369.5, 570.8, 746.7, 866.0, 910.0, 893.0, 805.0, 658.0, 466.1, 245.8, 46.7, 0.0, 0.0, 0.0, 0.0, 0.0, 0.0]\n",
      "25\n"
     ]
    }
   ],
   "source": [
    "#1 hr hrrr:\n",
    "with open('hrrr_f01_Batesville_AR.txt') as f:\n",
    "    lst=[line.split()[3] for line in f]\n",
    "    temp=[]\n",
    "    for i in lst:\n",
    "        new=i.replace(',',\"\")\n",
    "        temp.append(new)\n",
    "    temp.pop(0)\n",
    "    temp=[float(x) for x in temp]\n",
    "    temp=temp[2213:2238]\n",
    "#     x = np.array(temp)\n",
    "#     temp = ma.masked_array(x, mask=[0, 0, 0, 0, 0,0,0,0,0,0,0,0,0,0,0,0,0,0,0,0,0,1,0,0,0])\n",
    "    #temp=temp[2015:2063]\n",
    "    print(temp)\n",
    "    print(len(temp))\n",
    "#full time period is [2015:2112]"
   ]
  },
  {
   "cell_type": "code",
   "execution_count": 114,
   "id": "6ac93b59",
   "metadata": {},
   "outputs": [
    {
     "name": "stdout",
     "output_type": "stream",
     "text": [
      "[0.0, 0.0, 0.0, 0.0, 0.0, 0.0, 3.5, 179.5, 399.5, 600.0, 759.5, 865.0, 914.5, 894.0, 780.5, 648.0, 412.5, 156.0, 34.5, 0.0, 0.0, 0.0, 0.0, 0.0, 0.0]\n"
     ]
    }
   ],
   "source": [
    "#Air Temp CRN:\n",
    "with open('CRNS0101-05-2022-AR_Batesville_8_WNW.txt') as f:\n",
    "    lst=[line.split()[10] for line in f]\n",
    "    \n",
    "    a=(int(lst[26567])+int(lst[26568]))/2\n",
    "    b=(int(lst[26579])+int(lst[26580]))/2\n",
    "    c=(int(lst[26591])+int(lst[26592]))/2\n",
    "    d=(int(lst[26603])+int(lst[26604]))/2\n",
    "    e=(int(lst[26615])+int(lst[26616]))/2\n",
    "    f=(int(lst[26627])+int(lst[26628]))/2\n",
    "    g=(int(lst[26639])+int(lst[26640]))/2\n",
    "    h=(int(lst[26651])+int(lst[26652]))/2\n",
    "    i=(int(lst[26663])+int(lst[26664]))/2\n",
    "    j=(int(lst[26675])+int(lst[26676]))/2\n",
    "    k=(int(lst[26687])+int(lst[26688]))/2\n",
    "    l=(int(lst[26699])+int(lst[26700]))/2\n",
    "    m=(int(lst[26711])+int(lst[26712]))/2\n",
    "    n=(int(lst[26723])+int(lst[26724]))/2\n",
    "    o=(int(lst[26735])+int(lst[26736]))/2\n",
    "    p=(int(lst[26747])+int(lst[26748]))/2\n",
    "    q=(int(lst[26759])+int(lst[26760]))/2\n",
    "    r=(int(lst[26773])+int(lst[26774]))/2\n",
    "    s=(int(lst[26783])+int(lst[26784]))/2\n",
    "    t=(int(lst[26795])+int(lst[26796]))/2\n",
    "    u=(int(lst[26807])+int(lst[26808]))/2\n",
    "    v=(int(lst[26819])+int(lst[26820]))/2\n",
    "    w=(int(lst[26831])+int(lst[26832]))/2\n",
    "    x=(int(lst[26843])+int(lst[26844]))/2\n",
    "    y=(int(lst[26855])+int(lst[26856]))/2\n",
    "    \n",
    "    temp_crn=[a,b,c,d,e,f,g,h,i,j,k,l,m,n,o,p,q,r,s,t,u,v,w,x,y]\n",
    "    print(temp_crn)"
   ]
  },
  {
   "cell_type": "code",
   "execution_count": 115,
   "id": "32d53f73",
   "metadata": {},
   "outputs": [
    {
     "name": "stdout",
     "output_type": "stream",
     "text": [
      "[0.0, 0.0, 0.0, 0.0, 0.0, 0.0, -3.5, -24.900000000000006, -30.0, -29.200000000000045, -12.799999999999955, 1.0, -4.5, -1.0, 24.5, 10.0, 53.60000000000002, 89.80000000000001, 12.200000000000003, 0.0, 0.0, 0.0, 0.0, 0.0, 0.0]\n"
     ]
    }
   ],
   "source": [
    "difference4_bat = []\n",
    "\n",
    "zip_object = zip(temp, temp_crn)\n",
    "for temp_i, temp_crn_i in zip_object:\n",
    "    difference4_bat.append(temp_i-temp_crn_i)\n",
    "\n",
    "print(difference4_bat)"
   ]
  },
  {
   "cell_type": "markdown",
   "id": "2869b9dc",
   "metadata": {},
   "source": [
    "<font size=\"3\">Lafayette, LA: 0600 UTC (12:00 am CST) 01 March 2022-0600 UTC (12:00 am CST) 02 March 2022</font>"
   ]
  },
  {
   "cell_type": "code",
   "execution_count": 116,
   "id": "fd2670e5",
   "metadata": {},
   "outputs": [
    {
     "name": "stdout",
     "output_type": "stream",
     "text": [
      "[0.0, 0.0, 0.0, 0.0, 0.0, 0.0, 0.0, 178.6, 414.1, 633.9, 811.9, 931.0, 979.0, 951.0, 860.0, 703.0, 499.9, 269.3, 51.0, 0.0, 0.0, 0.0, 0.0, 0.0, 0.0]\n"
     ]
    }
   ],
   "source": [
    "#1 hr hrrr:\n",
    "with open('hrrr_f01_Lafayette_LA.txt') as f:\n",
    "    lst=[line.split()[3] for line in f]\n",
    "    temp=[]\n",
    "    for i in lst:\n",
    "        new=i.replace(',',\"\")\n",
    "        temp.append(new)\n",
    "    temp.pop(0)\n",
    "    temp=[float(x) for x in temp]\n",
    "    temp=temp[2213:2238]\n",
    "    #temp=temp[2015:2063]\n",
    "    print(temp)\n",
    "    #print(len(temp))\n",
    "#full time period is [2015:2112]"
   ]
  },
  {
   "cell_type": "code",
   "execution_count": 117,
   "id": "59735c23",
   "metadata": {},
   "outputs": [
    {
     "name": "stdout",
     "output_type": "stream",
     "text": [
      "[0.0, 0.0, 0.0, 0.0, 0.0, 0.0, 1.0, 185.0, 396.5, 596.5, 757.0, 867.0, 908.5, 888.0, 803.5, 663.0, 469.5, 213.0, 47.5, 0.0, 0.0, 0.0, 0.0, 0.0, 0.0]\n"
     ]
    }
   ],
   "source": [
    "#Air Temp CRN:\n",
    "with open('CRNS0101-05-2022-LA_Lafayette_13_SE.txt') as f:\n",
    "    lst=[line.split()[10] for line in f]\n",
    "    \n",
    "    a=(int(lst[26567])+int(lst[26568]))/2\n",
    "    b=(int(lst[26579])+int(lst[26580]))/2\n",
    "    c=(int(lst[26591])+int(lst[26592]))/2\n",
    "    d=(int(lst[26603])+int(lst[26604]))/2\n",
    "    e=(int(lst[26615])+int(lst[26616]))/2\n",
    "    f=(int(lst[26627])+int(lst[26628]))/2\n",
    "    g=(int(lst[26639])+int(lst[26640]))/2\n",
    "    h=(int(lst[26651])+int(lst[26652]))/2\n",
    "    i=(int(lst[26663])+int(lst[26664]))/2\n",
    "    j=(int(lst[26675])+int(lst[26676]))/2\n",
    "    k=(int(lst[26687])+int(lst[26688]))/2\n",
    "    l=(int(lst[26699])+int(lst[26700]))/2\n",
    "    m=(int(lst[26711])+int(lst[26712]))/2\n",
    "    n=(int(lst[26723])+int(lst[26724]))/2\n",
    "    o=(int(lst[26735])+int(lst[26736]))/2\n",
    "    p=(int(lst[26747])+int(lst[26748]))/2\n",
    "    q=(int(lst[26759])+int(lst[26760]))/2\n",
    "    r=(int(lst[26773])+int(lst[26774]))/2\n",
    "    s=(int(lst[26783])+int(lst[26784]))/2\n",
    "    t=(int(lst[26795])+int(lst[26796]))/2\n",
    "    u=(int(lst[26807])+int(lst[26808]))/2\n",
    "    v=(int(lst[26819])+int(lst[26820]))/2\n",
    "    w=(int(lst[26831])+int(lst[26832]))/2\n",
    "    x=(int(lst[26843])+int(lst[26844]))/2\n",
    "    y=(int(lst[26855])+int(lst[26856]))/2\n",
    "    \n",
    "    temp_crn=[a,b,c,d,e,f,g,h,i,j,k,l,m,n,o,p,q,r,s,t,u,v,w,x,y]\n",
    "    print(temp_crn)"
   ]
  },
  {
   "cell_type": "code",
   "execution_count": 118,
   "id": "c02f8d98",
   "metadata": {},
   "outputs": [
    {
     "name": "stdout",
     "output_type": "stream",
     "text": [
      "[0.0, 0.0, 0.0, 0.0, 0.0, 0.0, -1.0, -6.400000000000006, 17.600000000000023, 37.39999999999998, 54.89999999999998, 64.0, 70.5, 63.0, 56.5, 40.0, 30.399999999999977, 56.30000000000001, 3.5, 0.0, 0.0, 0.0, 0.0, 0.0, 0.0]\n"
     ]
    }
   ],
   "source": [
    "difference4_laf = []\n",
    "\n",
    "zip_object = zip(temp, temp_crn)\n",
    "for temp_i, temp_crn_i in zip_object:\n",
    "    difference4_laf.append(temp_i-temp_crn_i)\n",
    "\n",
    "print(difference4_laf)"
   ]
  },
  {
   "cell_type": "markdown",
   "id": "ab48fc12",
   "metadata": {},
   "source": [
    "<font size=\"3\">Monroe, LA: 0600 UTC (12:00 am CST) 01 March 2022-0600 UTC (12:00 am CST) 02 March 2022</font>"
   ]
  },
  {
   "cell_type": "code",
   "execution_count": 119,
   "id": "b61707d0",
   "metadata": {},
   "outputs": [
    {
     "name": "stdout",
     "output_type": "stream",
     "text": [
      "[0.0, 0.0, 0.0, 0.0, 0.0, 0.0, 0.0, 169.0, 395.1, 613.4, 781.9, 896.0, 944.0, 919.0, 829.0, 677.0, 483.5, 267.5, 55.7, 0.0, 0.0, 0.0, 0.0, 0.0, 0.0]\n"
     ]
    }
   ],
   "source": [
    "#1 hr hrrr:\n",
    "with open('hrrr_f01_Monroe_LA.txt') as f:\n",
    "    lst=[line.split()[3] for line in f]\n",
    "    temp=[]\n",
    "    for i in lst:\n",
    "        new=i.replace(',',\"\")\n",
    "        temp.append(new)\n",
    "    temp.pop(0)\n",
    "    temp=[float(x) for x in temp]\n",
    "    temp=temp[2213:2238]\n",
    "    #temp=temp[2015:2063]\n",
    "    print(temp)\n",
    "    #print(len(temp))\n",
    "#full time period is [2015:2112]"
   ]
  },
  {
   "cell_type": "code",
   "execution_count": 120,
   "id": "2bcf6d37",
   "metadata": {},
   "outputs": [
    {
     "name": "stdout",
     "output_type": "stream",
     "text": [
      "[0.0, 0.0, 0.0, 0.0, 0.0, 0.0, 6.5, 164.5, 388.5, 598.0, 763.5, 868.5, 911.5, 890.5, 799.5, 644.5, 454.5, 28.5, 15.0, 0.0, 0.0, 0.0, 0.0, 0.0, 0.0]\n"
     ]
    }
   ],
   "source": [
    "#Air Temp CRN:\n",
    "with open('CRNS0101-05-2022-LA_Monroe_26_N.txt') as f:\n",
    "    lst=[line.split()[10] for line in f]\n",
    "    \n",
    "    a=(int(lst[26567])+int(lst[26568]))/2\n",
    "    b=(int(lst[26579])+int(lst[26580]))/2\n",
    "    c=(int(lst[26591])+int(lst[26592]))/2\n",
    "    d=(int(lst[26603])+int(lst[26604]))/2\n",
    "    e=(int(lst[26615])+int(lst[26616]))/2\n",
    "    f=(int(lst[26627])+int(lst[26628]))/2\n",
    "    g=(int(lst[26639])+int(lst[26640]))/2\n",
    "    h=(int(lst[26651])+int(lst[26652]))/2\n",
    "    i=(int(lst[26663])+int(lst[26664]))/2\n",
    "    j=(int(lst[26675])+int(lst[26676]))/2\n",
    "    k=(int(lst[26687])+int(lst[26688]))/2\n",
    "    l=(int(lst[26699])+int(lst[26700]))/2\n",
    "    m=(int(lst[26711])+int(lst[26712]))/2\n",
    "    n=(int(lst[26723])+int(lst[26724]))/2\n",
    "    o=(int(lst[26735])+int(lst[26736]))/2\n",
    "    p=(int(lst[26747])+int(lst[26748]))/2\n",
    "    q=(int(lst[26759])+int(lst[26760]))/2\n",
    "    r=(int(lst[26773])+int(lst[26774]))/2\n",
    "    s=(int(lst[26783])+int(lst[26784]))/2\n",
    "    t=(int(lst[26795])+int(lst[26796]))/2\n",
    "    u=(int(lst[26807])+int(lst[26808]))/2\n",
    "    v=(int(lst[26819])+int(lst[26820]))/2\n",
    "    w=(int(lst[26831])+int(lst[26832]))/2\n",
    "    x=(int(lst[26843])+int(lst[26844]))/2\n",
    "    y=(int(lst[26855])+int(lst[26856]))/2\n",
    "    \n",
    "    temp_crn=[a,b,c,d,e,f,g,h,i,j,k,l,m,n,o,p,q,r,s,t,u,v,w,x,y]\n",
    "    print(temp_crn)"
   ]
  },
  {
   "cell_type": "code",
   "execution_count": 121,
   "id": "e8911bcb",
   "metadata": {},
   "outputs": [
    {
     "name": "stdout",
     "output_type": "stream",
     "text": [
      "[0.0, 0.0, 0.0, 0.0, 0.0, 0.0, -6.5, 4.5, 6.600000000000023, 15.399999999999977, 18.399999999999977, 27.5, 32.5, 28.5, 29.5, 32.5, 29.0, 239.0, 40.7, 0.0, 0.0, 0.0, 0.0, 0.0, 0.0]\n"
     ]
    }
   ],
   "source": [
    "difference4_mon = []\n",
    "\n",
    "zip_object = zip(temp, temp_crn)\n",
    "for temp_i, temp_crn_i in zip_object:\n",
    "    difference4_mon.append(temp_i-temp_crn_i)\n",
    "\n",
    "print(difference4_mon)"
   ]
  },
  {
   "cell_type": "markdown",
   "id": "dbfdd9c6",
   "metadata": {},
   "source": [
    "<font size=\"3\">Holly Springs, MS: 0600 UTC (12:00 am CST) 01 March 2022-0600 UTC (12:00 am CST) 02 March 2022</font>"
   ]
  },
  {
   "cell_type": "code",
   "execution_count": 122,
   "id": "055b4b13",
   "metadata": {},
   "outputs": [
    {
     "name": "stdout",
     "output_type": "stream",
     "text": [
      "[0.0, 0.0, 0.0, 0.0, 0.0, 0.0, 0.0, 214.0, 444.1, 652.0, 815.8, 922.0, 958.0, 927.0, 824.0, 665.0, 459.8, 232.7, 29.3, 0.0, 0.0, 0.0, 0.0, 0.0, 0.0]\n"
     ]
    }
   ],
   "source": [
    "#1 hr hrrr:\n",
    "with open('hrrr_f01_Holly Springs_MS.txt') as f:\n",
    "    lst=[line.split()[3] for line in f]\n",
    "    temp=[]\n",
    "    for i in lst:\n",
    "        new=i.replace(',',\"\")\n",
    "        temp.append(new)\n",
    "    temp.pop(0)\n",
    "    temp=[float(x) for x in temp]\n",
    "    temp=temp[2213:2238]\n",
    "    #temp=temp[2015:2063]\n",
    "    print(temp)\n",
    "    #print(len(temp))\n",
    "#full time period is [2015:2112]"
   ]
  },
  {
   "cell_type": "code",
   "execution_count": 123,
   "id": "13e28750",
   "metadata": {},
   "outputs": [
    {
     "name": "stdout",
     "output_type": "stream",
     "text": [
      "[0.0, 0.0, 0.0, 0.0, 0.0, 0.0, 1.5, 270.5, 488.5, 686.5, 826.0, 905.5, 926.0, 876.0, 772.0, 609.0, 404.0, 124.5, 3.5, 0.0, 0.0, 0.0, 0.0, 0.0, 0.0]\n"
     ]
    }
   ],
   "source": [
    "#Air Temp CRN:\n",
    "with open('CRNS0101-05-2022-MS_Holly_Springs_4_N.txt') as f:\n",
    "    lst=[line.split()[10] for line in f]\n",
    "    \n",
    "    a=(int(lst[26567])+int(lst[26568]))/2\n",
    "    b=(int(lst[26579])+int(lst[26580]))/2\n",
    "    c=(int(lst[26591])+int(lst[26592]))/2\n",
    "    d=(int(lst[26603])+int(lst[26604]))/2\n",
    "    e=(int(lst[26615])+int(lst[26616]))/2\n",
    "    f=(int(lst[26627])+int(lst[26628]))/2\n",
    "    g=(int(lst[26639])+int(lst[26640]))/2\n",
    "    h=(int(lst[26651])+int(lst[26652]))/2\n",
    "    i=(int(lst[26663])+int(lst[26664]))/2\n",
    "    j=(int(lst[26675])+int(lst[26676]))/2\n",
    "    k=(int(lst[26687])+int(lst[26688]))/2\n",
    "    l=(int(lst[26699])+int(lst[26700]))/2\n",
    "    m=(int(lst[26711])+int(lst[26712]))/2\n",
    "    n=(int(lst[26723])+int(lst[26724]))/2\n",
    "    o=(int(lst[26735])+int(lst[26736]))/2\n",
    "    p=(int(lst[26747])+int(lst[26748]))/2\n",
    "    q=(int(lst[26759])+int(lst[26760]))/2\n",
    "    r=(int(lst[26773])+int(lst[26774]))/2\n",
    "    s=(int(lst[26783])+int(lst[26784]))/2\n",
    "    t=(int(lst[26795])+int(lst[26796]))/2\n",
    "    u=(int(lst[26807])+int(lst[26808]))/2\n",
    "    v=(int(lst[26819])+int(lst[26820]))/2\n",
    "    w=(int(lst[26831])+int(lst[26832]))/2\n",
    "    x=(int(lst[26843])+int(lst[26844]))/2\n",
    "    y=(int(lst[26855])+int(lst[26856]))/2\n",
    "    \n",
    "    temp_crn=[a,b,c,d,e,f,g,h,i,j,k,l,m,n,o,p,q,r,s,t,u,v,w,x,y]\n",
    "    print(temp_crn)"
   ]
  },
  {
   "cell_type": "code",
   "execution_count": 124,
   "id": "6836c3bb",
   "metadata": {},
   "outputs": [
    {
     "name": "stdout",
     "output_type": "stream",
     "text": [
      "[0.0, 0.0, 0.0, 0.0, 0.0, 0.0, -1.5, -56.5, -44.39999999999998, -34.5, -10.200000000000045, 16.5, 32.0, 51.0, 52.0, 56.0, 55.80000000000001, 108.19999999999999, 25.8, 0.0, 0.0, 0.0, 0.0, 0.0, 0.0]\n"
     ]
    }
   ],
   "source": [
    "difference4_hol = []\n",
    "\n",
    "zip_object = zip(temp, temp_crn)\n",
    "for temp_i, temp_crn_i in zip_object:\n",
    "    difference4_hol.append(temp_i-temp_crn_i)\n",
    "\n",
    "print(difference4_hol)"
   ]
  },
  {
   "cell_type": "markdown",
   "id": "9c7354c6",
   "metadata": {},
   "source": [
    "<font size=\"3\">Newton, MS: 0600 UTC (12:00 am CST) 01 March 2022-0600 UTC (12:00 am CST) 02 March 2022</font>"
   ]
  },
  {
   "cell_type": "code",
   "execution_count": 125,
   "id": "93316a90",
   "metadata": {},
   "outputs": [
    {
     "name": "stdout",
     "output_type": "stream",
     "text": [
      "[0.0, 0.0, 0.0, 0.0, 0.0, 0.0, 0.0, 220.1, 452.3, 663.8, 826.4, 926.0, 953.0, 913.0, 806.0, 643.0, 438.0, 214.4, 21.3, 0.0, 0.0, 0.0, 0.0, 0.0, 0.0]\n"
     ]
    }
   ],
   "source": [
    "#1 hr hrrr:\n",
    "with open('hrrr_f01_Newton_MS.txt') as f:\n",
    "    lst=[line.split()[3] for line in f]\n",
    "    temp=[]\n",
    "    for i in lst:\n",
    "        new=i.replace(',',\"\")\n",
    "        temp.append(new)\n",
    "    temp.pop(0)\n",
    "    temp=[float(x) for x in temp]\n",
    "    temp=temp[2213:2238]\n",
    "    #temp=temp[2015:2063]\n",
    "    print(temp)\n",
    "    #print(len(temp))\n",
    "#full time period is [2015:2112]"
   ]
  },
  {
   "cell_type": "code",
   "execution_count": 126,
   "id": "17e49fc9",
   "metadata": {},
   "outputs": [
    {
     "name": "stdout",
     "output_type": "stream",
     "text": [
      "[0.0, 0.0, 0.0, 0.0, 0.0, 0.0, 6.5, 229.5, 449.5, 646.0, 793.5, 890.5, 921.0, 886.5, 792.5, 638.0, 444.0, 181.5, 19.5, 0.0, 0.0, 0.0, 0.0, 0.0, 0.0]\n"
     ]
    }
   ],
   "source": [
    "#Air Temp CRN:\n",
    "with open('CRNS0101-05-2022-MS_Newton_5_ENE.txt') as f:\n",
    "    lst=[line.split()[10] for line in f]\n",
    "    \n",
    "    a=(int(lst[26567])+int(lst[26568]))/2\n",
    "    b=(int(lst[26579])+int(lst[26580]))/2\n",
    "    c=(int(lst[26591])+int(lst[26592]))/2\n",
    "    d=(int(lst[26603])+int(lst[26604]))/2\n",
    "    e=(int(lst[26615])+int(lst[26616]))/2\n",
    "    f=(int(lst[26627])+int(lst[26628]))/2\n",
    "    g=(int(lst[26639])+int(lst[26640]))/2\n",
    "    h=(int(lst[26651])+int(lst[26652]))/2\n",
    "    i=(int(lst[26663])+int(lst[26664]))/2\n",
    "    j=(int(lst[26675])+int(lst[26676]))/2\n",
    "    k=(int(lst[26687])+int(lst[26688]))/2\n",
    "    l=(int(lst[26699])+int(lst[26700]))/2\n",
    "    m=(int(lst[26711])+int(lst[26712]))/2\n",
    "    n=(int(lst[26723])+int(lst[26724]))/2\n",
    "    o=(int(lst[26735])+int(lst[26736]))/2\n",
    "    p=(int(lst[26747])+int(lst[26748]))/2\n",
    "    q=(int(lst[26759])+int(lst[26760]))/2\n",
    "    r=(int(lst[26773])+int(lst[26774]))/2\n",
    "    s=(int(lst[26783])+int(lst[26784]))/2\n",
    "    t=(int(lst[26795])+int(lst[26796]))/2\n",
    "    u=(int(lst[26807])+int(lst[26808]))/2\n",
    "    v=(int(lst[26819])+int(lst[26820]))/2\n",
    "    w=(int(lst[26831])+int(lst[26832]))/2\n",
    "    x=(int(lst[26843])+int(lst[26844]))/2\n",
    "    y=(int(lst[26855])+int(lst[26856]))/2\n",
    "    \n",
    "    temp_crn=[a,b,c,d,e,f,g,h,i,j,k,l,m,n,o,p,q,r,s,t,u,v,w,x,y]\n",
    "    print(temp_crn)"
   ]
  },
  {
   "cell_type": "code",
   "execution_count": 127,
   "id": "895bb872",
   "metadata": {},
   "outputs": [
    {
     "name": "stdout",
     "output_type": "stream",
     "text": [
      "[0.0, 0.0, 0.0, 0.0, 0.0, 0.0, -6.5, -9.400000000000006, 2.8000000000000114, 17.799999999999955, 32.89999999999998, 35.5, 32.0, 26.5, 13.5, 5.0, -6.0, 32.900000000000006, 1.8000000000000007, 0.0, 0.0, 0.0, 0.0, 0.0, 0.0]\n"
     ]
    }
   ],
   "source": [
    "difference4_new = []\n",
    "\n",
    "zip_object = zip(temp, temp_crn)\n",
    "for temp_i, temp_crn_i in zip_object:\n",
    "    difference4_new.append(temp_i-temp_crn_i)\n",
    "\n",
    "print(difference4_new)"
   ]
  },
  {
   "cell_type": "markdown",
   "id": "9e553db4",
   "metadata": {},
   "source": [
    "<font size=\"3\">Gainesville, AL: 0600 UTC (12:00 am CST) 01 March 2022-0600 UTC (12:00 am CST) 02 March 2022</font>"
   ]
  },
  {
   "cell_type": "code",
   "execution_count": 128,
   "id": "34bf4646",
   "metadata": {},
   "outputs": [],
   "source": [
    "# #1 hr hrrr:\n",
    "# with open('hrrr_f01_Gainesville_AL.txt') as f:\n",
    "#     lst=[line.split()[3] for line in f]\n",
    "#     temp=[]\n",
    "#     for i in lst:\n",
    "#         new=i.replace(',',\"\")\n",
    "#         temp.append(new)\n",
    "#     temp.pop(0)\n",
    "#     temp=[float(x) for x in temp]\n",
    "#     temp=temp[2213:2238]\n",
    "#     #temp=temp[2015:2063]\n",
    "#     print(temp)\n",
    "#     #print(len(temp))\n",
    "# #full time period is [2015:2112]"
   ]
  },
  {
   "cell_type": "code",
   "execution_count": 129,
   "id": "67168607",
   "metadata": {},
   "outputs": [],
   "source": [
    "# #Air Temp CRN:\n",
    "# with open('CRNH0203-2022-AL_Gainesville_2_NE.txt') as f:\n",
    "#     lst=[line.split()[13] for line in f]\n",
    "#     #print(lst)\n",
    "#     temp_crn=[]\n",
    "#     for i in lst:\n",
    "#         new=i.replace(',',\"\")\n",
    "#         temp_crn.append(new)\n",
    "#     temp_crn=[float(x) for x in temp_crn]\n",
    "#     temp_crn=temp_crn[2213:2238]\n",
    "#     print(temp_crn)\n",
    "#     #print(len(temp_crn))\n",
    "#     # print(temp_crn[2124])"
   ]
  },
  {
   "cell_type": "code",
   "execution_count": 130,
   "id": "4baf3368",
   "metadata": {},
   "outputs": [],
   "source": [
    "# difference4_gai = []\n",
    "\n",
    "# zip_object = zip(temp, temp_crn)\n",
    "# for temp_i, temp_crn_i in zip_object:\n",
    "#     difference4_gai.append(temp_i-temp_crn_i)\n",
    "\n",
    "# print(difference4_gai)"
   ]
  },
  {
   "cell_type": "markdown",
   "id": "7dcabe11",
   "metadata": {},
   "source": [
    "<font size=\"3\">Fairhope, AL: 0600 UTC (12:00 am CST) 01 March 2022-0600 UTC (12:00 am CST) 02 March 2022</font>"
   ]
  },
  {
   "cell_type": "code",
   "execution_count": 131,
   "id": "66bf707b",
   "metadata": {},
   "outputs": [
    {
     "name": "stdout",
     "output_type": "stream",
     "text": [
      "[0.0, 0.0, 0.0, 0.0, 0.0, 0.0, 25.0, 241.5, 476.9, 684.4, 846.4, 944.0, 970.0, 929.0, 824.0, 661.0, 447.4, 211.4, 11.2, 0.0, 0.0, 0.0, 0.0, 0.0, 0.0]\n"
     ]
    }
   ],
   "source": [
    "#1 hr hrrr:\n",
    "with open('hrrr_f01_Fairhope_AL.txt') as f:\n",
    "    lst=[line.split()[3] for line in f]\n",
    "    temp=[]\n",
    "    for i in lst:\n",
    "        new=i.replace(',',\"\")\n",
    "        temp.append(new)\n",
    "    temp.pop(0)\n",
    "    temp=[float(x) for x in temp]\n",
    "    temp=temp[2213:2238]\n",
    "    #temp=temp[2015:2063]\n",
    "    print(temp)\n",
    "    #print(len(temp))\n",
    "#full time period is [2015:2112]"
   ]
  },
  {
   "cell_type": "code",
   "execution_count": 132,
   "id": "e6d98c95",
   "metadata": {},
   "outputs": [
    {
     "name": "stdout",
     "output_type": "stream",
     "text": [
      "[0.0, 0.0, 0.0, 0.0, 0.0, 0.0, 30.0, 214.0, 436.5, 632.5, 787.5, 884.0, 917.5, 885.0, 785.5, 629.5, 426.0, 166.0, 0.5, 0.0, 0.0, 0.0, 0.0, 0.0, 0.0]\n"
     ]
    }
   ],
   "source": [
    "#Air Temp CRN:\n",
    "with open('CRNS0101-05-2022-AL_Fairhope_3_NE.txt') as f:\n",
    "    lst=[line.split()[10] for line in f]\n",
    "    \n",
    "    a=(int(lst[26567])+int(lst[26568]))/2\n",
    "    b=(int(lst[26579])+int(lst[26580]))/2\n",
    "    c=(int(lst[26591])+int(lst[26592]))/2\n",
    "    d=(int(lst[26603])+int(lst[26604]))/2\n",
    "    e=(int(lst[26615])+int(lst[26616]))/2\n",
    "    f=(int(lst[26627])+int(lst[26628]))/2\n",
    "    g=(int(lst[26639])+int(lst[26640]))/2\n",
    "    h=(int(lst[26651])+int(lst[26652]))/2\n",
    "    i=(int(lst[26663])+int(lst[26664]))/2\n",
    "    j=(int(lst[26675])+int(lst[26676]))/2\n",
    "    k=(int(lst[26687])+int(lst[26688]))/2\n",
    "    l=(int(lst[26699])+int(lst[26700]))/2\n",
    "    m=(int(lst[26711])+int(lst[26712]))/2\n",
    "    n=(int(lst[26723])+int(lst[26724]))/2\n",
    "    o=(int(lst[26735])+int(lst[26736]))/2\n",
    "    p=(int(lst[26747])+int(lst[26748]))/2\n",
    "    q=(int(lst[26759])+int(lst[26760]))/2\n",
    "    r=(int(lst[26773])+int(lst[26774]))/2\n",
    "    s=(int(lst[26783])+int(lst[26784]))/2\n",
    "    t=(int(lst[26795])+int(lst[26796]))/2\n",
    "    u=(int(lst[26807])+int(lst[26808]))/2\n",
    "    v=(int(lst[26819])+int(lst[26820]))/2\n",
    "    w=(int(lst[26831])+int(lst[26832]))/2\n",
    "    x=(int(lst[26843])+int(lst[26844]))/2\n",
    "    y=(int(lst[26855])+int(lst[26856]))/2\n",
    "    \n",
    "    temp_crn=[a,b,c,d,e,f,g,h,i,j,k,l,m,n,o,p,q,r,s,t,u,v,w,x,y]\n",
    "    print(temp_crn)"
   ]
  },
  {
   "cell_type": "code",
   "execution_count": 133,
   "id": "320724ae",
   "metadata": {},
   "outputs": [
    {
     "name": "stdout",
     "output_type": "stream",
     "text": [
      "[0.0, 0.0, 0.0, 0.0, 0.0, 0.0, -5.0, 27.5, 40.39999999999998, 51.89999999999998, 58.89999999999998, 60.0, 52.5, 44.0, 38.5, 31.5, 21.399999999999977, 45.400000000000006, 10.7, 0.0, 0.0, 0.0, 0.0, 0.0, 0.0]\n"
     ]
    }
   ],
   "source": [
    "difference4_fai = []\n",
    "\n",
    "zip_object = zip(temp, temp_crn)\n",
    "for temp_i, temp_crn_i in zip_object:\n",
    "    difference4_fai.append(temp_i-temp_crn_i)\n",
    "\n",
    "print(difference4_fai)"
   ]
  },
  {
   "cell_type": "markdown",
   "id": "057898bf",
   "metadata": {},
   "source": [
    "<font size=\"3\">**Selma, AL: 0600 UTC (12:00 am CST) 01 March 2022-0600 UTC (12:00 am CST) 02 March 2022</font>"
   ]
  },
  {
   "cell_type": "code",
   "execution_count": 134,
   "id": "dd6c27fb",
   "metadata": {},
   "outputs": [
    {
     "name": "stdout",
     "output_type": "stream",
     "text": [
      "[0.0, 0.0, 0.0, 0.0, 0.0, 0.0, 34.6, 255.9, 488.8, 688.4, 839.1, 936.0, 961.0, 914.0, 802.0, 636.0, 419.2, 193.1, 6.0, 0.0, 0.0, 0.0, 0.0, 0.0, 0.0]\n"
     ]
    }
   ],
   "source": [
    "#1 hr hrrr:\n",
    "import numpy as np\n",
    "import numpy.ma as ma\n",
    "with open('hrrr_f01_Selma_AL.txt') as f:\n",
    "    lst=[line.split()[3] for line in f]\n",
    "    temp=[]\n",
    "    for i in lst:\n",
    "        new=i.replace(',',\"\")\n",
    "        temp.append(new)\n",
    "    temp.pop(0)\n",
    "    temp=[float(x) for x in temp]\n",
    "    temp=temp[2213:2238]\n",
    "    print(temp)\n"
   ]
  },
  {
   "cell_type": "code",
   "execution_count": 135,
   "id": "b91246e9",
   "metadata": {},
   "outputs": [
    {
     "name": "stdout",
     "output_type": "stream",
     "text": [
      "[0.0, 0.0, 0.0, 0.0, 0.0, 0.0, 38.0, 246.0, 472.0, 665.0, 801.0, 878.0, 893.0, 853.0, 753.5, 593.5, 395.0, 52.5, 0.0, 0.0, 0.0, 0.0, 0.0, 0.0, 0.0]\n"
     ]
    }
   ],
   "source": [
    "#Air Temp CRN:\n",
    "with open('CRNS0101-05-2022-AL_Selma_13_WNW.txt') as f:\n",
    "    lst=[line.split()[10] for line in f]\n",
    "    \n",
    "    a=(int(lst[26567])+int(lst[26568]))/2\n",
    "    b=(int(lst[26579])+int(lst[26580]))/2\n",
    "    c=(int(lst[26591])+int(lst[26592]))/2\n",
    "    d=(int(lst[26603])+int(lst[26604]))/2\n",
    "    e=(int(lst[26615])+int(lst[26616]))/2\n",
    "    f=(int(lst[26627])+int(lst[26628]))/2\n",
    "    g=(int(lst[26639])+int(lst[26640]))/2\n",
    "    h=(int(lst[26651])+int(lst[26652]))/2\n",
    "    i=(int(lst[26663])+int(lst[26664]))/2\n",
    "    j=(int(lst[26675])+int(lst[26676]))/2\n",
    "    k=(int(lst[26687])+int(lst[26688]))/2\n",
    "    l=(int(lst[26699])+int(lst[26700]))/2\n",
    "    m=(int(lst[26711])+int(lst[26712]))/2\n",
    "    n=(int(lst[26723])+int(lst[26724]))/2\n",
    "    o=(int(lst[26735])+int(lst[26736]))/2\n",
    "    p=(int(lst[26747])+int(lst[26748]))/2\n",
    "    q=(int(lst[26759])+int(lst[26760]))/2\n",
    "    r=(int(lst[26773])+int(lst[26774]))/2\n",
    "    s=(int(lst[26783])+int(lst[26784]))/2\n",
    "    t=(int(lst[26795])+int(lst[26796]))/2\n",
    "    u=(int(lst[26807])+int(lst[26808]))/2\n",
    "    v=(int(lst[26819])+int(lst[26820]))/2\n",
    "    w=(int(lst[26831])+int(lst[26832]))/2\n",
    "    x=(int(lst[26843])+int(lst[26844]))/2\n",
    "    y=(int(lst[26855])+int(lst[26856]))/2\n",
    "    \n",
    "    temp_crn=[a,b,c,d,e,f,g,h,i,j,k,l,m,n,o,p,q,r,s,t,u,v,w,x,y]\n",
    "    print(temp_crn)"
   ]
  },
  {
   "cell_type": "code",
   "execution_count": 136,
   "id": "38eaf77e",
   "metadata": {},
   "outputs": [
    {
     "name": "stdout",
     "output_type": "stream",
     "text": [
      "[0.0, 0.0, 0.0, 0.0, 0.0, 0.0, -3.3999999999999986, 9.900000000000006, 16.80000000000001, 23.399999999999977, 38.10000000000002, 58.0, 68.0, 61.0, 48.5, 42.5, 24.19999999999999, 140.6, 6.0, 0.0, 0.0, 0.0, 0.0, 0.0, 0.0]\n"
     ]
    }
   ],
   "source": [
    "difference4_sel = []\n",
    "\n",
    "zip_object = zip(temp, temp_crn)\n",
    "for temp_i, temp_crn_i in zip_object:\n",
    "    difference4_sel.append(temp_i-temp_crn_i)\n",
    "\n",
    "print(difference4_sel)\n",
    "#print(len(difference3_sel))"
   ]
  },
  {
   "cell_type": "markdown",
   "id": "cb37cdb6",
   "metadata": {},
   "source": [
    "<font size=\"3\">Bowling Green, KY: 0600 UTC (12:00 am CST) 01 March 2022-0600 UTC (12:00 am CST) 02 March 2022</font>"
   ]
  },
  {
   "cell_type": "code",
   "execution_count": 137,
   "id": "14e1ecd0",
   "metadata": {},
   "outputs": [
    {
     "name": "stdout",
     "output_type": "stream",
     "text": [
      "[0.0, 0.0, 0.0, 0.0, 0.0, 0.0, 49.1, 264.1, 481.9, 674.0, 817.2, 901.0, 924.0, 875.0, 769.0, 608.0, 403.2, 182.5, 5.0, 0.0, 0.0, 0.0, 0.0, 0.0, 0.0]\n"
     ]
    }
   ],
   "source": [
    "#1 hr hrrr:\n",
    "with open('hrrr_f01_Bowling Green_KY.txt') as f:\n",
    "    lst=[line.split()[3] for line in f]\n",
    "    temp=[]\n",
    "    for i in lst:\n",
    "        new=i.replace(',',\"\")\n",
    "        temp.append(new)\n",
    "    temp.pop(0)\n",
    "    temp=[float(x) for x in temp]\n",
    "    temp=temp[2213:2238]\n",
    "    #temp=temp[2015:2063]\n",
    "    print(temp)\n",
    "    #print(len(temp))\n",
    "#full time period is [2015:2112]"
   ]
  },
  {
   "cell_type": "code",
   "execution_count": 138,
   "id": "80d9d555",
   "metadata": {},
   "outputs": [
    {
     "name": "stdout",
     "output_type": "stream",
     "text": [
      "[0.0, 0.0, 0.0, 0.0, 0.0, 0.0, 34.0, 242.0, 442.0, 621.0, 769.5, 854.0, 872.5, 822.0, 711.5, 555.0, 367.5, 135.5, 2.5, 0.0, 0.0, 0.0, 0.0, 0.0, 0.0]\n"
     ]
    }
   ],
   "source": [
    "#Air Temp CRN:\n",
    "with open('CRNS0101-05-2022-KY_Bowling_Green_21_NNE.txt') as f:\n",
    "    lst=[line.split()[10] for line in f]\n",
    "    \n",
    "    a=(int(lst[26567])+int(lst[26568]))/2\n",
    "    b=(int(lst[26579])+int(lst[26580]))/2\n",
    "    c=(int(lst[26591])+int(lst[26592]))/2\n",
    "    d=(int(lst[26603])+int(lst[26604]))/2\n",
    "    e=(int(lst[26615])+int(lst[26616]))/2\n",
    "    f=(int(lst[26627])+int(lst[26628]))/2\n",
    "    g=(int(lst[26639])+int(lst[26640]))/2\n",
    "    h=(int(lst[26651])+int(lst[26652]))/2\n",
    "    i=(int(lst[26663])+int(lst[26664]))/2\n",
    "    j=(int(lst[26675])+int(lst[26676]))/2\n",
    "    k=(int(lst[26687])+int(lst[26688]))/2\n",
    "    l=(int(lst[26699])+int(lst[26700]))/2\n",
    "    m=(int(lst[26711])+int(lst[26712]))/2\n",
    "    n=(int(lst[26723])+int(lst[26724]))/2\n",
    "    o=(int(lst[26735])+int(lst[26736]))/2\n",
    "    p=(int(lst[26747])+int(lst[26748]))/2\n",
    "    q=(int(lst[26759])+int(lst[26760]))/2\n",
    "    r=(int(lst[26773])+int(lst[26774]))/2\n",
    "    s=(int(lst[26783])+int(lst[26784]))/2\n",
    "    t=(int(lst[26795])+int(lst[26796]))/2\n",
    "    u=(int(lst[26807])+int(lst[26808]))/2\n",
    "    v=(int(lst[26819])+int(lst[26820]))/2\n",
    "    w=(int(lst[26831])+int(lst[26832]))/2\n",
    "    x=(int(lst[26843])+int(lst[26844]))/2\n",
    "    y=(int(lst[26855])+int(lst[26856]))/2\n",
    "    \n",
    "    temp_crn=[a,b,c,d,e,f,g,h,i,j,k,l,m,n,o,p,q,r,s,t,u,v,w,x,y]\n",
    "    print(temp_crn)"
   ]
  },
  {
   "cell_type": "code",
   "execution_count": 139,
   "id": "cbe21805",
   "metadata": {},
   "outputs": [
    {
     "name": "stdout",
     "output_type": "stream",
     "text": [
      "[0.0, 0.0, 0.0, 0.0, 0.0, 0.0, 15.100000000000001, 22.100000000000023, 39.89999999999998, 53.0, 47.700000000000045, 47.0, 51.5, 53.0, 57.5, 53.0, 35.69999999999999, 47.0, 2.5, 0.0, 0.0, 0.0, 0.0, 0.0, 0.0]\n"
     ]
    }
   ],
   "source": [
    "difference4_bow = []\n",
    "\n",
    "zip_object = zip(temp, temp_crn)\n",
    "for temp_i, temp_crn_i in zip_object:\n",
    "    difference4_bow.append(temp_i-temp_crn_i)\n",
    "\n",
    "print(difference4_bow)"
   ]
  },
  {
   "cell_type": "markdown",
   "id": "b962f206",
   "metadata": {},
   "source": [
    "<font size=\"3\">Gadsden, AL: 0600 UTC (12:00 am CST) 01 March 2022-0600 UTC (12:00 am CST) 02 March 2022</font>"
   ]
  },
  {
   "cell_type": "code",
   "execution_count": 140,
   "id": "e76025fd",
   "metadata": {},
   "outputs": [
    {
     "name": "stdout",
     "output_type": "stream",
     "text": [
      "[0.0, 0.0, 0.0, 0.0, 0.0, 0.0, 48.3, 266.8, 493.6, 696.7, 849.7, 948.0, 970.0, 921.0, 805.0, 636.0, 422.4, 188.1, 1.6, 0.0, 0.0, 0.0, 0.0, 0.0, 0.0]\n"
     ]
    }
   ],
   "source": [
    "#1 hr hrrr:\n",
    "with open('hrrr_f01_Gadsden_AL.txt') as f:\n",
    "    lst=[line.split()[3] for line in f]\n",
    "    temp=[]\n",
    "    for i in lst:\n",
    "        new=i.replace(',',\"\")\n",
    "        temp.append(new)\n",
    "    temp.pop(0)\n",
    "    temp=[float(x) for x in temp]\n",
    "    temp=temp[2213:2238]\n",
    "#     x = np.array(temp)\n",
    "#     temp = ma.masked_array(x, mask=[0, 0, 0, 0, 0,0,0,0,1,0,0,0,0,0,0,0,0,0,0,0,0,0,0,0,0])\n",
    "    #temp=temp[2015:2063]\n",
    "    print(temp)\n",
    "    #print(len(temp))\n",
    "#full time period is [2015:2112]"
   ]
  },
  {
   "cell_type": "code",
   "execution_count": 141,
   "id": "94193a19",
   "metadata": {},
   "outputs": [
    {
     "name": "stdout",
     "output_type": "stream",
     "text": [
      "[0.0, 0.0, 0.0, 0.0, 0.0, 0.0, 52.0, 259.0, 479.0, 668.5, 811.0, 893.5, 911.0, 865.5, 758.0, 592.5, 390.0, 134.5, 0.0, 0.0, 0.0, 0.0, 0.0, 0.0, 0.0]\n"
     ]
    }
   ],
   "source": [
    "#Air Temp CRN:\n",
    "with open('CRNS0101-05-2022-AL_Gadsden_19_N.txt') as f:\n",
    "    lst=[line.split()[10] for line in f]\n",
    "    \n",
    "    a=(int(lst[26567])+int(lst[26568]))/2\n",
    "    b=(int(lst[26579])+int(lst[26580]))/2\n",
    "    c=(int(lst[26591])+int(lst[26592]))/2\n",
    "    d=(int(lst[26603])+int(lst[26604]))/2\n",
    "    e=(int(lst[26615])+int(lst[26616]))/2\n",
    "    f=(int(lst[26627])+int(lst[26628]))/2\n",
    "    g=(int(lst[26639])+int(lst[26640]))/2\n",
    "    h=(int(lst[26651])+int(lst[26652]))/2\n",
    "    i=(int(lst[26663])+int(lst[26664]))/2\n",
    "    j=(int(lst[26675])+int(lst[26676]))/2\n",
    "    k=(int(lst[26687])+int(lst[26688]))/2\n",
    "    l=(int(lst[26699])+int(lst[26700]))/2\n",
    "    m=(int(lst[26711])+int(lst[26712]))/2\n",
    "    n=(int(lst[26723])+int(lst[26724]))/2\n",
    "    o=(int(lst[26735])+int(lst[26736]))/2\n",
    "    p=(int(lst[26747])+int(lst[26748]))/2\n",
    "    q=(int(lst[26759])+int(lst[26760]))/2\n",
    "    r=(int(lst[26773])+int(lst[26774]))/2\n",
    "    s=(int(lst[26783])+int(lst[26784]))/2\n",
    "    t=(int(lst[26795])+int(lst[26796]))/2\n",
    "    u=(int(lst[26807])+int(lst[26808]))/2\n",
    "    v=(int(lst[26819])+int(lst[26820]))/2\n",
    "    w=(int(lst[26831])+int(lst[26832]))/2\n",
    "    x=(int(lst[26843])+int(lst[26844]))/2\n",
    "    y=(int(lst[26855])+int(lst[26856]))/2\n",
    "    \n",
    "    temp_crn=[a,b,c,d,e,f,g,h,i,j,k,l,m,n,o,p,q,r,s,t,u,v,w,x,y]\n",
    "    print(temp_crn)"
   ]
  },
  {
   "cell_type": "code",
   "execution_count": 142,
   "id": "fd78be39",
   "metadata": {},
   "outputs": [
    {
     "name": "stdout",
     "output_type": "stream",
     "text": [
      "[0.0, 0.0, 0.0, 0.0, 0.0, 0.0, -3.700000000000003, 7.800000000000011, 14.600000000000023, 28.200000000000045, 38.700000000000045, 54.5, 59.0, 55.5, 47.0, 43.5, 32.39999999999998, 53.599999999999994, 1.6, 0.0, 0.0, 0.0, 0.0, 0.0, 0.0]\n"
     ]
    }
   ],
   "source": [
    "difference4_gad = []\n",
    "\n",
    "zip_object = zip(temp, temp_crn)\n",
    "for temp_i, temp_crn_i in zip_object:\n",
    "    difference4_gad.append(temp_i-temp_crn_i)\n",
    "\n",
    "print(difference4_gad)"
   ]
  },
  {
   "cell_type": "markdown",
   "id": "de9fab15",
   "metadata": {},
   "source": [
    "<font size=\"3\">Newton, GA: 0600 UTC (12:00 am CST) 01 March 2022-0600 UTC (12:00 am CST) 02 March 2022</font>"
   ]
  },
  {
   "cell_type": "code",
   "execution_count": 143,
   "id": "ee45f74b",
   "metadata": {},
   "outputs": [
    {
     "name": "stdout",
     "output_type": "stream",
     "text": [
      "[0.0, 0.0, 0.0, 0.0, 0.0, 0.0, 55.2, 293.0, 524.2, 726.3, 876.4, 966.0, 982.0, 926.0, 801.0, 617.0, 392.9, 157.2, 0.0, 0.0, 0.0, 0.0, 0.0, 0.0, 0.0]\n"
     ]
    }
   ],
   "source": [
    "#1 hr hrrr:\n",
    "with open('hrrr_f01_Newton_GA.txt') as f:\n",
    "    lst=[line.split()[3] for line in f]\n",
    "    temp=[]\n",
    "    for i in lst:\n",
    "        new=i.replace(',',\"\")\n",
    "        temp.append(new)\n",
    "    temp.pop(0)\n",
    "    temp=[float(x) for x in temp]\n",
    "    temp=temp[2213:2238]\n",
    "    #temp=temp[2015:2063]\n",
    "    print(temp)\n",
    "    #print(len(temp))\n",
    "#full time period is [2015:2112]"
   ]
  },
  {
   "cell_type": "code",
   "execution_count": 144,
   "id": "79e42b34",
   "metadata": {},
   "outputs": [
    {
     "name": "stdout",
     "output_type": "stream",
     "text": [
      "[0.0, 0.0, 0.0, 0.0, 0.0, 0.0, 69.0, 276.5, 505.0, 694.0, 831.5, 912.0, 923.5, 865.0, 754.0, 582.5, 368.5, 105.0, 0.0, 0.0, 0.0, 0.0, 0.0, 0.0, 0.0]\n"
     ]
    }
   ],
   "source": [
    "#Air Temp CRN:\n",
    "with open('CRNS0101-05-2022-GA_Newton_11_SW.txt') as f:\n",
    "    lst=[line.split()[10] for line in f]\n",
    "    \n",
    "    a=(int(lst[26567])+int(lst[26568]))/2\n",
    "    b=(int(lst[26579])+int(lst[26580]))/2\n",
    "    c=(int(lst[26591])+int(lst[26592]))/2\n",
    "    d=(int(lst[26603])+int(lst[26604]))/2\n",
    "    e=(int(lst[26615])+int(lst[26616]))/2\n",
    "    f=(int(lst[26627])+int(lst[26628]))/2\n",
    "    g=(int(lst[26639])+int(lst[26640]))/2\n",
    "    h=(int(lst[26651])+int(lst[26652]))/2\n",
    "    i=(int(lst[26663])+int(lst[26664]))/2\n",
    "    j=(int(lst[26675])+int(lst[26676]))/2\n",
    "    k=(int(lst[26687])+int(lst[26688]))/2\n",
    "    l=(int(lst[26699])+int(lst[26700]))/2\n",
    "    m=(int(lst[26711])+int(lst[26712]))/2\n",
    "    n=(int(lst[26723])+int(lst[26724]))/2\n",
    "    o=(int(lst[26735])+int(lst[26736]))/2\n",
    "    p=(int(lst[26747])+int(lst[26748]))/2\n",
    "    q=(int(lst[26759])+int(lst[26760]))/2\n",
    "    r=(int(lst[26773])+int(lst[26774]))/2\n",
    "    s=(int(lst[26783])+int(lst[26784]))/2\n",
    "    t=(int(lst[26795])+int(lst[26796]))/2\n",
    "    u=(int(lst[26807])+int(lst[26808]))/2\n",
    "    v=(int(lst[26819])+int(lst[26820]))/2\n",
    "    w=(int(lst[26831])+int(lst[26832]))/2\n",
    "    x=(int(lst[26843])+int(lst[26844]))/2\n",
    "    y=(int(lst[26855])+int(lst[26856]))/2\n",
    "    \n",
    "    temp_crn=[a,b,c,d,e,f,g,h,i,j,k,l,m,n,o,p,q,r,s,t,u,v,w,x,y]\n",
    "    print(temp_crn)"
   ]
  },
  {
   "cell_type": "code",
   "execution_count": 145,
   "id": "23233b5a",
   "metadata": {},
   "outputs": [
    {
     "name": "stdout",
     "output_type": "stream",
     "text": [
      "[0.0, 0.0, 0.0, 0.0, 0.0, 0.0, -13.799999999999997, 16.5, 19.200000000000045, 32.299999999999955, 44.89999999999998, 54.0, 58.5, 61.0, 47.0, 34.5, 24.399999999999977, 52.19999999999999, 0.0, 0.0, 0.0, 0.0, 0.0, 0.0, 0.0]\n"
     ]
    }
   ],
   "source": [
    "difference4_newt = []\n",
    "\n",
    "zip_object = zip(temp, temp_crn)\n",
    "for temp_i, temp_crn_i in zip_object:\n",
    "    difference4_newt.append(temp_i-temp_crn_i)\n",
    "\n",
    "print(difference4_newt)"
   ]
  },
  {
   "cell_type": "markdown",
   "id": "ab4663ab",
   "metadata": {},
   "source": [
    "<font size=\"3\">Salem, MO: 0500 UTC (12:00 am CDT) 19 April 2022-0500 UTC (12:00 am CDT) 20 April 2022</font>"
   ]
  },
  {
   "cell_type": "code",
   "execution_count": 146,
   "id": "3fe4d4d8",
   "metadata": {},
   "outputs": [
    {
     "name": "stdout",
     "output_type": "stream",
     "text": [
      "[0.0, 0.0, 0.0, 0.0, 0.0, 0.0, 53.1, 269.8, 490.6, 678.0, 844.1, 946.0, 983.0, 951.0, 859.0, 710.0, 513.6, 284.5, 60.2, 0.0, 0.0, 0.0, 0.0, 0.0, 0.0]\n",
      "25\n"
     ]
    }
   ],
   "source": [
    "#1 hr hrrr:\n",
    "with open('hrrr_f01_Salem_MO.txt') as f:\n",
    "    lst=[line.split()[3] for line in f]\n",
    "    temp=[]\n",
    "    for i in lst:\n",
    "        new=i.replace(',',\"\")\n",
    "        temp.append(new)\n",
    "    temp.pop(0)\n",
    "    temp=[float(x) for x in temp]\n",
    "    temp=temp[2597:2622]\n",
    "    #temp=temp[2015:2063]\n",
    "    print(temp)\n",
    "    print(len(temp))\n",
    "#full time period is [2015:2112]"
   ]
  },
  {
   "cell_type": "code",
   "execution_count": 147,
   "id": "739015b3",
   "metadata": {},
   "outputs": [
    {
     "name": "stdout",
     "output_type": "stream",
     "text": [
      "[0.0, 0.0, 0.0, 0.0, 0.0, 0.0, 70.0, 265.5, 488.5, 682.5, 825.0, 798.5, 943.0, 914.0, 826.5, 672.0, 452.5, 180.5, 0.0, 0.0, 0.0, 0.0, 0.0, 0.0, 0.0]\n"
     ]
    }
   ],
   "source": [
    "#Air Temp CRN:\n",
    "with open('CRNS0101-05-2022-MO_Salem_10_W.txt') as f:\n",
    "    lst=[line.split()[10] for line in f]\n",
    "    \n",
    "    a=(int(lst[31175])+int(lst[31176]))/2\n",
    "    b=(int(lst[31187])+int(lst[31188]))/2\n",
    "    c=(int(lst[31199])+int(lst[31200]))/2\n",
    "    d=(int(lst[31211])+int(lst[31212]))/2\n",
    "    e=(int(lst[31223])+int(lst[31224]))/2\n",
    "    f=(int(lst[31235])+int(lst[31236]))/2\n",
    "    g=(int(lst[31247])+int(lst[31248]))/2\n",
    "    h=(int(lst[31259])+int(lst[31260]))/2\n",
    "    i=(int(lst[31271])+int(lst[31272]))/2\n",
    "    j=(int(lst[31283])+int(lst[31284]))/2\n",
    "    k=(int(lst[31295])+int(lst[31296]))/2\n",
    "    l=(int(lst[31307])+int(lst[31308]))/2\n",
    "    m=(int(lst[31319])+int(lst[31320]))/2\n",
    "    n=(int(lst[31331])+int(lst[31332]))/2\n",
    "    o=(int(lst[31343])+int(lst[31344]))/2\n",
    "    p=(int(lst[31355])+int(lst[31356]))/2\n",
    "    q=(int(lst[31367])+int(lst[31368]))/2\n",
    "    r=(int(lst[31379])+int(lst[31380]))/2\n",
    "    s=(int(lst[31391])+int(lst[31392]))/2\n",
    "    t=(int(lst[31403])+int(lst[31404]))/2\n",
    "    u=(int(lst[31415])+int(lst[31416]))/2\n",
    "    v=(int(lst[31427])+int(lst[31428]))/2\n",
    "    w=(int(lst[31439])+int(lst[31440]))/2\n",
    "    x=(int(lst[31451])+int(lst[31452]))/2\n",
    "    y=(int(lst[31463])+int(lst[31464]))/2\n",
    "    \n",
    "    temp_crn=[a,b,c,d,e,f,g,h,i,j,k,l,m,n,o,p,q,r,s,t,u,v,w,x,y]\n",
    "    print(temp_crn)"
   ]
  },
  {
   "cell_type": "code",
   "execution_count": 148,
   "id": "631903a7",
   "metadata": {},
   "outputs": [
    {
     "name": "stdout",
     "output_type": "stream",
     "text": [
      "[0.0, 0.0, 0.0, 0.0, 0.0, 0.0, -16.9, 4.300000000000011, 2.1000000000000227, -4.5, 19.100000000000023, 147.5, 40.0, 37.0, 32.5, 38.0, 61.10000000000002, 104.0, 60.2, 0.0, 0.0, 0.0, 0.0, 0.0, 0.0]\n"
     ]
    }
   ],
   "source": [
    "difference5_sal = []\n",
    "\n",
    "zip_object = zip(temp, temp_crn)\n",
    "for temp_i, temp_crn_i in zip_object:\n",
    "    difference5_sal.append(temp_i-temp_crn_i)\n",
    "\n",
    "print(difference5_sal)"
   ]
  },
  {
   "cell_type": "markdown",
   "id": "eb16f605",
   "metadata": {},
   "source": [
    "<font size=\"3\">Batesville, AR: 0600 UTC (12:00 am CST) 01 March 2022-0600 UTC (12:00 am CST) 02 March 2022</font>"
   ]
  },
  {
   "cell_type": "code",
   "execution_count": 149,
   "id": "5f6566a3",
   "metadata": {},
   "outputs": [
    {
     "name": "stdout",
     "output_type": "stream",
     "text": [
      "[0.0, 0.0, 0.0, 0.0, 0.0, 0.0, 45.4, 258.7, 483.5, 684.7, 845.7, 950.0, 987.0, 957.0, 864.0, 713.0, 516.8, 298.8, 89.1, 0.0, 0.0, 0.0, 0.0, 0.0, 0.0]\n",
      "25\n"
     ]
    }
   ],
   "source": [
    "#1 hr hrrr:\n",
    "with open('hrrr_f01_Batesville_AR.txt') as f:\n",
    "    lst=[line.split()[3] for line in f]\n",
    "    temp=[]\n",
    "    for i in lst:\n",
    "        new=i.replace(',',\"\")\n",
    "        temp.append(new)\n",
    "    temp.pop(0)\n",
    "    temp=[float(x) for x in temp]\n",
    "    temp=temp[2597:2622]\n",
    "#     x = np.array(temp)\n",
    "#     temp = ma.masked_array(x, mask=[0, 0, 0, 0, 0,0,0,0,0,0,0,0,0,0,0,0,0,0,0,0,0,1,0,0,0])\n",
    "    #temp=temp[2015:2063]\n",
    "    print(temp)\n",
    "    print(len(temp))\n",
    "#full time period is [2015:2112]"
   ]
  },
  {
   "cell_type": "code",
   "execution_count": 150,
   "id": "9d4ec43c",
   "metadata": {},
   "outputs": [
    {
     "name": "stdout",
     "output_type": "stream",
     "text": [
      "[0.0, 0.0, 0.0, 0.0, 0.0, 0.0, 59.0, 249.0, 470.0, 671.0, 826.5, 926.5, 969.0, 929.0, 837.0, 698.5, 514.0, 302.0, 80.5, 0.0, 0.0, 0.0, 0.0, 0.0, 0.0]\n"
     ]
    }
   ],
   "source": [
    "#Air Temp CRN:\n",
    "with open('CRNS0101-05-2022-AR_Batesville_8_WNW.txt') as f:\n",
    "    lst=[line.split()[10] for line in f]\n",
    "    \n",
    "    a=(int(lst[31175])+int(lst[31176]))/2\n",
    "    b=(int(lst[31187])+int(lst[31188]))/2\n",
    "    c=(int(lst[31199])+int(lst[31200]))/2\n",
    "    d=(int(lst[31211])+int(lst[31212]))/2\n",
    "    e=(int(lst[31223])+int(lst[31224]))/2\n",
    "    f=(int(lst[31235])+int(lst[31236]))/2\n",
    "    g=(int(lst[31247])+int(lst[31248]))/2\n",
    "    h=(int(lst[31259])+int(lst[31260]))/2\n",
    "    i=(int(lst[31271])+int(lst[31272]))/2\n",
    "    j=(int(lst[31283])+int(lst[31284]))/2\n",
    "    k=(int(lst[31295])+int(lst[31296]))/2\n",
    "    l=(int(lst[31307])+int(lst[31308]))/2\n",
    "    m=(int(lst[31319])+int(lst[31320]))/2\n",
    "    n=(int(lst[31331])+int(lst[31332]))/2\n",
    "    o=(int(lst[31343])+int(lst[31344]))/2\n",
    "    p=(int(lst[31355])+int(lst[31356]))/2\n",
    "    q=(int(lst[31367])+int(lst[31368]))/2\n",
    "    r=(int(lst[31379])+int(lst[31380]))/2\n",
    "    s=(int(lst[31391])+int(lst[31392]))/2\n",
    "    t=(int(lst[31403])+int(lst[31404]))/2\n",
    "    u=(int(lst[31415])+int(lst[31416]))/2\n",
    "    v=(int(lst[31427])+int(lst[31428]))/2\n",
    "    w=(int(lst[31439])+int(lst[31440]))/2\n",
    "    x=(int(lst[31451])+int(lst[31452]))/2\n",
    "    y=(int(lst[31463])+int(lst[31464]))/2\n",
    "    \n",
    "    temp_crn=[a,b,c,d,e,f,g,h,i,j,k,l,m,n,o,p,q,r,s,t,u,v,w,x,y]\n",
    "    print(temp_crn)"
   ]
  },
  {
   "cell_type": "code",
   "execution_count": 151,
   "id": "32ec4102",
   "metadata": {},
   "outputs": [
    {
     "name": "stdout",
     "output_type": "stream",
     "text": [
      "[0.0, 0.0, 0.0, 0.0, 0.0, 0.0, -13.600000000000001, 9.699999999999989, 13.5, 13.700000000000045, 19.200000000000045, 23.5, 18.0, 28.0, 27.0, 14.5, 2.7999999999999545, -3.1999999999999886, 8.599999999999994, 0.0, 0.0, 0.0, 0.0, 0.0, 0.0]\n"
     ]
    }
   ],
   "source": [
    "difference5_bat = []\n",
    "\n",
    "zip_object = zip(temp, temp_crn)\n",
    "for temp_i, temp_crn_i in zip_object:\n",
    "    difference5_bat.append(temp_i-temp_crn_i)\n",
    "\n",
    "print(difference5_bat)"
   ]
  },
  {
   "cell_type": "markdown",
   "id": "ab0f4798",
   "metadata": {},
   "source": [
    "<font size=\"3\">Lafayette, LA: 0600 UTC (12:00 am CST) 01 March 2022-0600 UTC (12:00 am CST) 02 March 2022</font>"
   ]
  },
  {
   "cell_type": "code",
   "execution_count": 152,
   "id": "bf4ca647",
   "metadata": {},
   "outputs": [
    {
     "name": "stdout",
     "output_type": "stream",
     "text": [
      "[0.0, 0.0, 0.0, 0.0, 0.0, 0.0, 30.7, 249.8, 471.5, 704.1, 867.3, 986.0, 1027.0, 993.0, 899.0, 743.0, 537.3, 304.1, 78.9, 0.0, 0.0, 0.0, 0.0, 0.0, 0.0]\n"
     ]
    }
   ],
   "source": [
    "#1 hr hrrr:\n",
    "with open('hrrr_f01_Lafayette_LA.txt') as f:\n",
    "    lst=[line.split()[3] for line in f]\n",
    "    temp=[]\n",
    "    for i in lst:\n",
    "        new=i.replace(',',\"\")\n",
    "        temp.append(new)\n",
    "    temp.pop(0)\n",
    "    temp=[float(x) for x in temp]\n",
    "    temp=temp[2597:2622]\n",
    "    #temp=temp[2015:2063]\n",
    "    print(temp)\n",
    "    #print(len(temp))\n",
    "#full time period is [2015:2112]"
   ]
  },
  {
   "cell_type": "code",
   "execution_count": 153,
   "id": "a94179a0",
   "metadata": {},
   "outputs": [
    {
     "name": "stdout",
     "output_type": "stream",
     "text": [
      "[0.0, 0.0, 0.0, 0.0, 0.0, 0.0, 48.0, 226.5, 396.5, 631.0, 737.0, 887.0, 928.0, 921.0, 846.0, 699.5, 418.0, 291.5, 69.0, 0.0, 0.0, 0.0, 0.0, 0.0, 0.0]\n"
     ]
    }
   ],
   "source": [
    "#Air Temp CRN:\n",
    "with open('CRNS0101-05-2022-LA_Lafayette_13_SE.txt') as f:\n",
    "    lst=[line.split()[10] for line in f]\n",
    "    \n",
    "    a=(int(lst[31175])+int(lst[31176]))/2\n",
    "    b=(int(lst[31187])+int(lst[31188]))/2\n",
    "    c=(int(lst[31199])+int(lst[31200]))/2\n",
    "    d=(int(lst[31211])+int(lst[31212]))/2\n",
    "    e=(int(lst[31223])+int(lst[31224]))/2\n",
    "    f=(int(lst[31235])+int(lst[31236]))/2\n",
    "    g=(int(lst[31247])+int(lst[31248]))/2\n",
    "    h=(int(lst[31259])+int(lst[31260]))/2\n",
    "    i=(int(lst[31271])+int(lst[31272]))/2\n",
    "    j=(int(lst[31283])+int(lst[31284]))/2\n",
    "    k=(int(lst[31295])+int(lst[31296]))/2\n",
    "    l=(int(lst[31307])+int(lst[31308]))/2\n",
    "    m=(int(lst[31319])+int(lst[31320]))/2\n",
    "    n=(int(lst[31331])+int(lst[31332]))/2\n",
    "    o=(int(lst[31343])+int(lst[31344]))/2\n",
    "    p=(int(lst[31355])+int(lst[31356]))/2\n",
    "    q=(int(lst[31367])+int(lst[31368]))/2\n",
    "    r=(int(lst[31379])+int(lst[31380]))/2\n",
    "    s=(int(lst[31391])+int(lst[31392]))/2\n",
    "    t=(int(lst[31403])+int(lst[31404]))/2\n",
    "    u=(int(lst[31415])+int(lst[31416]))/2\n",
    "    v=(int(lst[31427])+int(lst[31428]))/2\n",
    "    w=(int(lst[31439])+int(lst[31440]))/2\n",
    "    x=(int(lst[31451])+int(lst[31452]))/2\n",
    "    y=(int(lst[31463])+int(lst[31464]))/2\n",
    "    \n",
    "    temp_crn=[a,b,c,d,e,f,g,h,i,j,k,l,m,n,o,p,q,r,s,t,u,v,w,x,y]\n",
    "    print(temp_crn)"
   ]
  },
  {
   "cell_type": "code",
   "execution_count": 154,
   "id": "482bd1ef",
   "metadata": {},
   "outputs": [
    {
     "name": "stdout",
     "output_type": "stream",
     "text": [
      "[0.0, 0.0, 0.0, 0.0, 0.0, 0.0, -17.3, 23.30000000000001, 75.0, 73.10000000000002, 130.29999999999995, 99.0, 99.0, 72.0, 53.0, 43.5, 119.29999999999995, 12.600000000000023, 9.900000000000006, 0.0, 0.0, 0.0, 0.0, 0.0, 0.0]\n"
     ]
    }
   ],
   "source": [
    "difference5_laf = []\n",
    "\n",
    "zip_object = zip(temp, temp_crn)\n",
    "for temp_i, temp_crn_i in zip_object:\n",
    "    difference5_laf.append(temp_i-temp_crn_i)\n",
    "\n",
    "print(difference5_laf)"
   ]
  },
  {
   "cell_type": "markdown",
   "id": "de00e832",
   "metadata": {},
   "source": [
    "<font size=\"3\">Monroe, LA: 0600 UTC (12:00 am CST) 01 March 2022-0600 UTC (12:00 am CST) 02 March 2022</font>"
   ]
  },
  {
   "cell_type": "code",
   "execution_count": 155,
   "id": "4e202ed7",
   "metadata": {},
   "outputs": [
    {
     "name": "stdout",
     "output_type": "stream",
     "text": [
      "[0.0, 0.0, 0.0, 0.0, 0.0, 0.0, 33.3, 243.9, 471.0, 681.6, 848.2, 962.0, 1006.0, 977.0, 885.0, 732.0, 530.7, 307.7, 87.4, 0.0, 0.0, 0.0, 0.0, 0.0, 0.0]\n"
     ]
    }
   ],
   "source": [
    "#1 hr hrrr:\n",
    "with open('hrrr_f01_Monroe_LA.txt') as f:\n",
    "    lst=[line.split()[3] for line in f]\n",
    "    temp=[]\n",
    "    for i in lst:\n",
    "        new=i.replace(',',\"\")\n",
    "        temp.append(new)\n",
    "    temp.pop(0)\n",
    "    temp=[float(x) for x in temp]\n",
    "    temp=temp[2597:2622]\n",
    "    #temp=temp[2015:2063]\n",
    "    print(temp)\n",
    "    #print(len(temp))\n",
    "#full time period is [2015:2112]"
   ]
  },
  {
   "cell_type": "code",
   "execution_count": 156,
   "id": "4e6ab640",
   "metadata": {},
   "outputs": [
    {
     "name": "stdout",
     "output_type": "stream",
     "text": [
      "[0.0, 0.0, 0.0, 0.0, 0.0, 0.0, 20.0, 222.0, 456.5, 658.5, 824.0, 930.0, 968.0, 939.0, 846.5, 692.0, 493.0, 47.5, 21.0, 0.0, 0.0, 0.0, 0.0, 0.0, 0.0]\n"
     ]
    }
   ],
   "source": [
    "#Air Temp CRN:\n",
    "with open('CRNS0101-05-2022-LA_Monroe_26_N.txt') as f:\n",
    "    lst=[line.split()[10] for line in f]\n",
    "    \n",
    "    a=(int(lst[31175])+int(lst[31176]))/2\n",
    "    b=(int(lst[31187])+int(lst[31188]))/2\n",
    "    c=(int(lst[31199])+int(lst[31200]))/2\n",
    "    d=(int(lst[31211])+int(lst[31212]))/2\n",
    "    e=(int(lst[31223])+int(lst[31224]))/2\n",
    "    f=(int(lst[31235])+int(lst[31236]))/2\n",
    "    g=(int(lst[31247])+int(lst[31248]))/2\n",
    "    h=(int(lst[31259])+int(lst[31260]))/2\n",
    "    i=(int(lst[31271])+int(lst[31272]))/2\n",
    "    j=(int(lst[31283])+int(lst[31284]))/2\n",
    "    k=(int(lst[31295])+int(lst[31296]))/2\n",
    "    l=(int(lst[31307])+int(lst[31308]))/2\n",
    "    m=(int(lst[31319])+int(lst[31320]))/2\n",
    "    n=(int(lst[31331])+int(lst[31332]))/2\n",
    "    o=(int(lst[31343])+int(lst[31344]))/2\n",
    "    p=(int(lst[31355])+int(lst[31356]))/2\n",
    "    q=(int(lst[31367])+int(lst[31368]))/2\n",
    "    r=(int(lst[31379])+int(lst[31380]))/2\n",
    "    s=(int(lst[31391])+int(lst[31392]))/2\n",
    "    t=(int(lst[31403])+int(lst[31404]))/2\n",
    "    u=(int(lst[31415])+int(lst[31416]))/2\n",
    "    v=(int(lst[31427])+int(lst[31428]))/2\n",
    "    w=(int(lst[31439])+int(lst[31440]))/2\n",
    "    x=(int(lst[31451])+int(lst[31452]))/2\n",
    "    y=(int(lst[31463])+int(lst[31464]))/2\n",
    "    \n",
    "    temp_crn=[a,b,c,d,e,f,g,h,i,j,k,l,m,n,o,p,q,r,s,t,u,v,w,x,y]\n",
    "    print(temp_crn)"
   ]
  },
  {
   "cell_type": "code",
   "execution_count": 157,
   "id": "461ef9d6",
   "metadata": {},
   "outputs": [
    {
     "name": "stdout",
     "output_type": "stream",
     "text": [
      "[0.0, 0.0, 0.0, 0.0, 0.0, 0.0, 13.299999999999997, 21.900000000000006, 14.5, 23.100000000000023, 24.200000000000045, 32.0, 38.0, 38.0, 38.5, 40.0, 37.700000000000045, 260.2, 66.4, 0.0, 0.0, 0.0, 0.0, 0.0, 0.0]\n"
     ]
    }
   ],
   "source": [
    "difference5_mon = []\n",
    "\n",
    "zip_object = zip(temp, temp_crn)\n",
    "for temp_i, temp_crn_i in zip_object:\n",
    "    difference5_mon.append(temp_i-temp_crn_i)\n",
    "\n",
    "print(difference5_mon)"
   ]
  },
  {
   "cell_type": "markdown",
   "id": "10c3e262",
   "metadata": {},
   "source": [
    "<font size=\"3\">Holly Springs, MS: 0600 UTC (12:00 am CST) 01 March 2022-0600 UTC (12:00 am CST) 02 March 2022</font>"
   ]
  },
  {
   "cell_type": "code",
   "execution_count": 158,
   "id": "02dfc76f",
   "metadata": {},
   "outputs": [
    {
     "name": "stdout",
     "output_type": "stream",
     "text": [
      "[0.0, 0.0, 0.0, 0.0, 0.0, 0.0, 78.0, 298.6, 527.7, 734.5, 888.7, 982.0, 1008.0, 967.0, 862.0, 697.0, 496.7, 270.9, 60.0, 0.0, 0.0, 0.0, 0.0, 0.0, 0.0]\n"
     ]
    }
   ],
   "source": [
    "#1 hr hrrr:\n",
    "with open('hrrr_f01_Holly Springs_MS.txt') as f:\n",
    "    lst=[line.split()[3] for line in f]\n",
    "    temp=[]\n",
    "    for i in lst:\n",
    "        new=i.replace(',',\"\")\n",
    "        temp.append(new)\n",
    "    temp.pop(0)\n",
    "    temp=[float(x) for x in temp]\n",
    "    temp=temp[2597:2622]\n",
    "    #temp=temp[2015:2063]\n",
    "    print(temp)\n",
    "    #print(len(temp))\n",
    "#full time period is [2015:2112]"
   ]
  },
  {
   "cell_type": "code",
   "execution_count": 159,
   "id": "f0bb8bfb",
   "metadata": {},
   "outputs": [
    {
     "name": "stdout",
     "output_type": "stream",
     "text": [
      "[0.0, 0.0, 0.0, 0.0, 0.0, 0.0, 86.5, 330.5, 558.0, 745.0, 876.5, 949.0, 960.0, 909.5, 801.5, 635.0, 429.0, 207.0, 15.0, 0.0, 0.0, 0.0, 0.0, 0.0, 0.0]\n"
     ]
    }
   ],
   "source": [
    "#Air Temp CRN:\n",
    "with open('CRNS0101-05-2022-MS_Holly_Springs_4_N.txt') as f:\n",
    "    lst=[line.split()[10] for line in f]\n",
    "    \n",
    "    a=(int(lst[31175])+int(lst[31176]))/2\n",
    "    b=(int(lst[31187])+int(lst[31188]))/2\n",
    "    c=(int(lst[31199])+int(lst[31200]))/2\n",
    "    d=(int(lst[31211])+int(lst[31212]))/2\n",
    "    e=(int(lst[31223])+int(lst[31224]))/2\n",
    "    f=(int(lst[31235])+int(lst[31236]))/2\n",
    "    g=(int(lst[31247])+int(lst[31248]))/2\n",
    "    h=(int(lst[31259])+int(lst[31260]))/2\n",
    "    i=(int(lst[31271])+int(lst[31272]))/2\n",
    "    j=(int(lst[31283])+int(lst[31284]))/2\n",
    "    k=(int(lst[31295])+int(lst[31296]))/2\n",
    "    l=(int(lst[31307])+int(lst[31308]))/2\n",
    "    m=(int(lst[31319])+int(lst[31320]))/2\n",
    "    n=(int(lst[31331])+int(lst[31332]))/2\n",
    "    o=(int(lst[31343])+int(lst[31344]))/2\n",
    "    p=(int(lst[31355])+int(lst[31356]))/2\n",
    "    q=(int(lst[31367])+int(lst[31368]))/2\n",
    "    r=(int(lst[31379])+int(lst[31380]))/2\n",
    "    s=(int(lst[31391])+int(lst[31392]))/2\n",
    "    t=(int(lst[31403])+int(lst[31404]))/2\n",
    "    u=(int(lst[31415])+int(lst[31416]))/2\n",
    "    v=(int(lst[31427])+int(lst[31428]))/2\n",
    "    w=(int(lst[31439])+int(lst[31440]))/2\n",
    "    x=(int(lst[31451])+int(lst[31452]))/2\n",
    "    y=(int(lst[31463])+int(lst[31464]))/2\n",
    "    \n",
    "    temp_crn=[a,b,c,d,e,f,g,h,i,j,k,l,m,n,o,p,q,r,s,t,u,v,w,x,y]\n",
    "    print(temp_crn)"
   ]
  },
  {
   "cell_type": "code",
   "execution_count": 160,
   "id": "33e182d5",
   "metadata": {},
   "outputs": [
    {
     "name": "stdout",
     "output_type": "stream",
     "text": [
      "[0.0, 0.0, 0.0, 0.0, 0.0, 0.0, -8.5, -31.899999999999977, -30.299999999999955, -10.5, 12.200000000000045, 33.0, 48.0, 57.5, 60.5, 62.0, 67.69999999999999, 63.89999999999998, 45.0, 0.0, 0.0, 0.0, 0.0, 0.0, 0.0]\n"
     ]
    }
   ],
   "source": [
    "difference5_hol = []\n",
    "\n",
    "zip_object = zip(temp, temp_crn)\n",
    "for temp_i, temp_crn_i in zip_object:\n",
    "    difference5_hol.append(temp_i-temp_crn_i)\n",
    "\n",
    "print(difference5_hol)"
   ]
  },
  {
   "cell_type": "markdown",
   "id": "c3611246",
   "metadata": {},
   "source": [
    "<font size=\"3\">Newton, MS: 0600 UTC (12:00 am CST) 01 March 2022-0600 UTC (12:00 am CST) 02 March 2022</font>"
   ]
  },
  {
   "cell_type": "code",
   "execution_count": 161,
   "id": "c9844209",
   "metadata": {},
   "outputs": [
    {
     "name": "stdout",
     "output_type": "stream",
     "text": [
      "[0.0, 0.0, 0.0, 0.0, 0.0, 0.0, 74.9, 297.6, 530.1, 733.9, 891.8, 989.0, 1019.0, 979.0, 870.0, 705.0, 494.0, 263.6, 51.0, 0.0, 0.0, 0.0, 0.0, 0.0, 0.0]\n"
     ]
    }
   ],
   "source": [
    "#1 hr hrrr:\n",
    "with open('hrrr_f01_Newton_MS.txt') as f:\n",
    "    lst=[line.split()[3] for line in f]\n",
    "    temp=[]\n",
    "    for i in lst:\n",
    "        new=i.replace(',',\"\")\n",
    "        temp.append(new)\n",
    "    temp.pop(0)\n",
    "    temp=[float(x) for x in temp]\n",
    "    temp=temp[2597:2622]\n",
    "    #temp=temp[2015:2063]\n",
    "    print(temp)\n",
    "    #print(len(temp))\n",
    "#full time period is [2015:2112]"
   ]
  },
  {
   "cell_type": "code",
   "execution_count": 162,
   "id": "e52605db",
   "metadata": {},
   "outputs": [
    {
     "name": "stdout",
     "output_type": "stream",
     "text": [
      "[0.0, 0.0, 0.0, 0.0, 0.0, 0.0, 73.5, 282.5, 508.0, 700.5, 846.0, 936.5, 962.5, 925.0, 825.5, 670.0, 472.5, 249.5, 46.5, 0.0, 0.0, 0.0, 0.0, 0.0, 0.0]\n"
     ]
    }
   ],
   "source": [
    "#Air Temp CRN:\n",
    "with open('CRNS0101-05-2022-MS_Newton_5_ENE.txt') as f:\n",
    "    lst=[line.split()[10] for line in f]\n",
    "    \n",
    "    a=(int(lst[31175])+int(lst[31176]))/2\n",
    "    b=(int(lst[31187])+int(lst[31188]))/2\n",
    "    c=(int(lst[31199])+int(lst[31200]))/2\n",
    "    d=(int(lst[31211])+int(lst[31212]))/2\n",
    "    e=(int(lst[31223])+int(lst[31224]))/2\n",
    "    f=(int(lst[31235])+int(lst[31236]))/2\n",
    "    g=(int(lst[31247])+int(lst[31248]))/2\n",
    "    h=(int(lst[31259])+int(lst[31260]))/2\n",
    "    i=(int(lst[31271])+int(lst[31272]))/2\n",
    "    j=(int(lst[31283])+int(lst[31284]))/2\n",
    "    k=(int(lst[31295])+int(lst[31296]))/2\n",
    "    l=(int(lst[31307])+int(lst[31308]))/2\n",
    "    m=(int(lst[31319])+int(lst[31320]))/2\n",
    "    n=(int(lst[31331])+int(lst[31332]))/2\n",
    "    o=(int(lst[31343])+int(lst[31344]))/2\n",
    "    p=(int(lst[31355])+int(lst[31356]))/2\n",
    "    q=(int(lst[31367])+int(lst[31368]))/2\n",
    "    r=(int(lst[31379])+int(lst[31380]))/2\n",
    "    s=(int(lst[31391])+int(lst[31392]))/2\n",
    "    t=(int(lst[31403])+int(lst[31404]))/2\n",
    "    u=(int(lst[31415])+int(lst[31416]))/2\n",
    "    v=(int(lst[31427])+int(lst[31428]))/2\n",
    "    w=(int(lst[31439])+int(lst[31440]))/2\n",
    "    x=(int(lst[31451])+int(lst[31452]))/2\n",
    "    y=(int(lst[31463])+int(lst[31464]))/2\n",
    "    \n",
    "    temp_crn=[a,b,c,d,e,f,g,h,i,j,k,l,m,n,o,p,q,r,s,t,u,v,w,x,y]\n",
    "    print(temp_crn)"
   ]
  },
  {
   "cell_type": "code",
   "execution_count": 163,
   "id": "26f39b75",
   "metadata": {},
   "outputs": [
    {
     "name": "stdout",
     "output_type": "stream",
     "text": [
      "[0.0, 0.0, 0.0, 0.0, 0.0, 0.0, 1.4000000000000057, 15.100000000000023, 22.100000000000023, 33.39999999999998, 45.799999999999955, 52.5, 56.5, 54.0, 44.5, 35.0, 21.5, 14.100000000000023, 4.5, 0.0, 0.0, 0.0, 0.0, 0.0, 0.0]\n"
     ]
    }
   ],
   "source": [
    "difference5_new = []\n",
    "\n",
    "zip_object = zip(temp, temp_crn)\n",
    "for temp_i, temp_crn_i in zip_object:\n",
    "    difference5_new.append(temp_i-temp_crn_i)\n",
    "\n",
    "print(difference5_new)"
   ]
  },
  {
   "cell_type": "markdown",
   "id": "35f6ffe5",
   "metadata": {},
   "source": [
    "<font size=\"3\">Gainesville, AL: 0600 UTC (12:00 am CST) 01 March 2022-0600 UTC (12:00 am CST) 02 March 2022</font>"
   ]
  },
  {
   "cell_type": "code",
   "execution_count": 164,
   "id": "d2bd1457",
   "metadata": {},
   "outputs": [],
   "source": [
    "# #1 hr hrrr:\n",
    "# with open('hrrr_f01_Gainesville_AL.txt') as f:\n",
    "#     lst=[line.split()[3] for line in f]\n",
    "#     temp=[]\n",
    "#     for i in lst:\n",
    "#         new=i.replace(',',\"\")\n",
    "#         temp.append(new)\n",
    "#     temp.pop(0)\n",
    "#     temp=[float(x) for x in temp]\n",
    "#     temp=temp[2597:2622]\n",
    "#     #temp=temp[2015:2063]\n",
    "#     print(temp)\n",
    "#     #print(len(temp))\n",
    "# #full time period is [2015:2112]"
   ]
  },
  {
   "cell_type": "code",
   "execution_count": 165,
   "id": "4f5c8ab2",
   "metadata": {},
   "outputs": [],
   "source": [
    "# #Air Temp CRN:\n",
    "# with open('CRNH0203-2022-AL_Gainesville_2_NE.txt') as f:\n",
    "#     lst=[line.split()[13] for line in f]\n",
    "#     #print(lst)\n",
    "#     temp_crn=[]\n",
    "#     for i in lst:\n",
    "#         new=i.replace(',',\"\")\n",
    "#         temp_crn.append(new)\n",
    "#     temp_crn=[float(x) for x in temp_crn]\n",
    "#     temp_crn=temp_crn[2597:2622]\n",
    "#     print(temp_crn)\n",
    "#     #print(len(temp_crn))\n",
    "#     # print(temp_crn[2124])"
   ]
  },
  {
   "cell_type": "code",
   "execution_count": 166,
   "id": "8356bd44",
   "metadata": {},
   "outputs": [],
   "source": [
    "# difference5_gai = []\n",
    "\n",
    "# zip_object = zip(temp, temp_crn)\n",
    "# for temp_i, temp_crn_i in zip_object:\n",
    "#     difference5_gai.append(temp_i-temp_crn_i)\n",
    "\n",
    "# print(difference5_gai)"
   ]
  },
  {
   "cell_type": "markdown",
   "id": "fb46ce72",
   "metadata": {},
   "source": [
    "<font size=\"3\">Fairhope, AL: 0600 UTC (12:00 am CST) 01 March 2022-0600 UTC (12:00 am CST) 02 March 2022</font>"
   ]
  },
  {
   "cell_type": "code",
   "execution_count": 167,
   "id": "eb7efbb3",
   "metadata": {},
   "outputs": [
    {
     "name": "stdout",
     "output_type": "stream",
     "text": [
      "[0.0, 0.0, 0.0, 0.0, 0.0, 0.0, 88.5, 319.3, 552.9, 756.5, 913.7, 1010.0, 1031.0, 981.0, 866.0, 693.0, 476.5, 242.8, 33.9, 0.0, 0.0, 0.0, 0.0, 0.0, 0.0]\n"
     ]
    }
   ],
   "source": [
    "#1 hr hrrr:\n",
    "with open('hrrr_f01_Fairhope_AL.txt') as f:\n",
    "    lst=[line.split()[3] for line in f]\n",
    "    temp=[]\n",
    "    for i in lst:\n",
    "        new=i.replace(',',\"\")\n",
    "        temp.append(new)\n",
    "    temp.pop(0)\n",
    "    temp=[float(x) for x in temp]\n",
    "    temp=temp[2597:2622]\n",
    "    #temp=temp[2015:2063]\n",
    "    print(temp)\n",
    "    #print(len(temp))\n",
    "#full time period is [2015:2112]"
   ]
  },
  {
   "cell_type": "code",
   "execution_count": 168,
   "id": "02193ad1",
   "metadata": {},
   "outputs": [
    {
     "name": "stdout",
     "output_type": "stream",
     "text": [
      "[0.0, 0.0, 0.0, 0.0, 0.0, 0.0, 81.0, 268.0, 494.5, 688.0, 839.5, 935.0, 956.5, 923.0, 816.5, 652.5, 452.5, 226.5, 26.5, 0.0, 0.0, 0.0, 0.0, 0.0, 0.0]\n"
     ]
    }
   ],
   "source": [
    "#Air Temp CRN:\n",
    "with open('CRNS0101-05-2022-AL_Fairhope_3_NE.txt') as f:\n",
    "    lst=[line.split()[10] for line in f]\n",
    "    \n",
    "    a=(int(lst[31175])+int(lst[31176]))/2\n",
    "    b=(int(lst[31187])+int(lst[31188]))/2\n",
    "    c=(int(lst[31199])+int(lst[31200]))/2\n",
    "    d=(int(lst[31211])+int(lst[31212]))/2\n",
    "    e=(int(lst[31223])+int(lst[31224]))/2\n",
    "    f=(int(lst[31235])+int(lst[31236]))/2\n",
    "    g=(int(lst[31247])+int(lst[31248]))/2\n",
    "    h=(int(lst[31259])+int(lst[31260]))/2\n",
    "    i=(int(lst[31271])+int(lst[31272]))/2\n",
    "    j=(int(lst[31283])+int(lst[31284]))/2\n",
    "    k=(int(lst[31295])+int(lst[31296]))/2\n",
    "    l=(int(lst[31307])+int(lst[31308]))/2\n",
    "    m=(int(lst[31319])+int(lst[31320]))/2\n",
    "    n=(int(lst[31331])+int(lst[31332]))/2\n",
    "    o=(int(lst[31343])+int(lst[31344]))/2\n",
    "    p=(int(lst[31355])+int(lst[31356]))/2\n",
    "    q=(int(lst[31367])+int(lst[31368]))/2\n",
    "    r=(int(lst[31379])+int(lst[31380]))/2\n",
    "    s=(int(lst[31391])+int(lst[31392]))/2\n",
    "    t=(int(lst[31403])+int(lst[31404]))/2\n",
    "    u=(int(lst[31415])+int(lst[31416]))/2\n",
    "    v=(int(lst[31427])+int(lst[31428]))/2\n",
    "    w=(int(lst[31439])+int(lst[31440]))/2\n",
    "    x=(int(lst[31451])+int(lst[31452]))/2\n",
    "    y=(int(lst[31463])+int(lst[31464]))/2\n",
    "    \n",
    "    temp_crn=[a,b,c,d,e,f,g,h,i,j,k,l,m,n,o,p,q,r,s,t,u,v,w,x,y]\n",
    "    print(temp_crn)"
   ]
  },
  {
   "cell_type": "code",
   "execution_count": 169,
   "id": "27eb4d35",
   "metadata": {},
   "outputs": [
    {
     "name": "stdout",
     "output_type": "stream",
     "text": [
      "[0.0, 0.0, 0.0, 0.0, 0.0, 0.0, 7.5, 51.30000000000001, 58.39999999999998, 68.5, 74.20000000000005, 75.0, 74.5, 58.0, 49.5, 40.5, 24.0, 16.30000000000001, 7.399999999999999, 0.0, 0.0, 0.0, 0.0, 0.0, 0.0]\n"
     ]
    }
   ],
   "source": [
    "difference5_fai = []\n",
    "\n",
    "zip_object = zip(temp, temp_crn)\n",
    "for temp_i, temp_crn_i in zip_object:\n",
    "    difference5_fai.append(temp_i-temp_crn_i)\n",
    "\n",
    "print(difference5_fai)"
   ]
  },
  {
   "cell_type": "markdown",
   "id": "26ae7516",
   "metadata": {},
   "source": [
    "<font size=\"3\">**Selma, AL: 0600 UTC (12:00 am CST) 01 March 2022-0600 UTC (12:00 am CST) 02 March 2022</font>"
   ]
  },
  {
   "cell_type": "code",
   "execution_count": 170,
   "id": "bb3e0d4e",
   "metadata": {},
   "outputs": [
    {
     "name": "stdout",
     "output_type": "stream",
     "text": [
      "[0.0, 0.0, 0.0, 0.0, 0.0, 0.0, 106.0, 333.6, 564.2, 767.9, 919.8, 1011.0, 1032.0, 978.0, 861.0, 686.0, 468.5, 235.3, 29.0, 0.0, 0.0, 0.0, 0.0, 0.0, 0.0]\n"
     ]
    }
   ],
   "source": [
    "#1 hr hrrr:\n",
    "import numpy as np\n",
    "import numpy.ma as ma\n",
    "with open('hrrr_f01_Selma_AL.txt') as f:\n",
    "    lst=[line.split()[3] for line in f]\n",
    "    temp=[]\n",
    "    for i in lst:\n",
    "        new=i.replace(',',\"\")\n",
    "        temp.append(new)\n",
    "    temp.pop(0)\n",
    "    temp=[float(x) for x in temp]\n",
    "    temp=temp[2597:2622]\n",
    "\n",
    "#     x = np.array(temp)\n",
    "#     temp = ma.masked_array(x, mask=[0, 0, 0, 0, 0,0,0,0,0,0,0,0,0,0,0,0,0,1,1,1,1,0,0,0,0])\n",
    "    print(temp)"
   ]
  },
  {
   "cell_type": "code",
   "execution_count": 171,
   "id": "61d838c0",
   "metadata": {},
   "outputs": [
    {
     "name": "stdout",
     "output_type": "stream",
     "text": [
      "[0.0, 0.0, 0.0, 0.0, 0.0, 0.0, 103.0, 322.0, 547.0, 735.0, 865.5, 938.5, 956.0, 906.5, 798.0, 638.5, 433.5, 106.5, 8.5, 0.0, 0.0, 0.0, 0.0, 0.0, 0.0]\n"
     ]
    }
   ],
   "source": [
    "#Air Temp CRN:\n",
    "with open('CRNS0101-05-2022-AL_Selma_13_WNW.txt') as f:\n",
    "    lst=[line.split()[10] for line in f]\n",
    "    \n",
    "    a=(int(lst[31175])+int(lst[31176]))/2\n",
    "    b=(int(lst[31187])+int(lst[31188]))/2\n",
    "    c=(int(lst[31199])+int(lst[31200]))/2\n",
    "    d=(int(lst[31211])+int(lst[31212]))/2\n",
    "    e=(int(lst[31223])+int(lst[31224]))/2\n",
    "    f=(int(lst[31235])+int(lst[31236]))/2\n",
    "    g=(int(lst[31247])+int(lst[31248]))/2\n",
    "    h=(int(lst[31259])+int(lst[31260]))/2\n",
    "    i=(int(lst[31271])+int(lst[31272]))/2\n",
    "    j=(int(lst[31283])+int(lst[31284]))/2\n",
    "    k=(int(lst[31295])+int(lst[31296]))/2\n",
    "    l=(int(lst[31307])+int(lst[31308]))/2\n",
    "    m=(int(lst[31319])+int(lst[31320]))/2\n",
    "    n=(int(lst[31331])+int(lst[31332]))/2\n",
    "    o=(int(lst[31343])+int(lst[31344]))/2\n",
    "    p=(int(lst[31355])+int(lst[31356]))/2\n",
    "    q=(int(lst[31367])+int(lst[31368]))/2\n",
    "    r=(int(lst[31379])+int(lst[31380]))/2\n",
    "    s=(int(lst[31391])+int(lst[31392]))/2\n",
    "    t=(int(lst[31403])+int(lst[31404]))/2\n",
    "    u=(int(lst[31415])+int(lst[31416]))/2\n",
    "    v=(int(lst[31427])+int(lst[31428]))/2\n",
    "    w=(int(lst[31439])+int(lst[31440]))/2\n",
    "    x=(int(lst[31451])+int(lst[31452]))/2\n",
    "    y=(int(lst[31463])+int(lst[31464]))/2\n",
    "    \n",
    "    temp_crn=[a,b,c,d,e,f,g,h,i,j,k,l,m,n,o,p,q,r,s,t,u,v,w,x,y]\n",
    "    print(temp_crn)"
   ]
  },
  {
   "cell_type": "code",
   "execution_count": 172,
   "id": "f7556132",
   "metadata": {},
   "outputs": [
    {
     "name": "stdout",
     "output_type": "stream",
     "text": [
      "[0.0, 0.0, 0.0, 0.0, 0.0, 0.0, 3.0, 11.600000000000023, 17.200000000000045, 32.89999999999998, 54.299999999999955, 72.5, 76.0, 71.5, 63.0, 47.5, 35.0, 128.8, 20.5, 0.0, 0.0, 0.0, 0.0, 0.0, 0.0]\n"
     ]
    }
   ],
   "source": [
    "difference5_sel = []\n",
    "\n",
    "zip_object = zip(temp, temp_crn)\n",
    "for temp_i, temp_crn_i in zip_object:\n",
    "    difference5_sel.append(temp_i-temp_crn_i)\n",
    "\n",
    "print(difference5_sel)\n",
    "#print(len(difference3_sel))"
   ]
  },
  {
   "cell_type": "markdown",
   "id": "d56aedb3",
   "metadata": {},
   "source": [
    "<font size=\"3\">Bowling Green, KY: 0600 UTC (12:00 am CST) 01 March 2022-0600 UTC (12:00 am CST) 02 March 2022</font>"
   ]
  },
  {
   "cell_type": "code",
   "execution_count": 173,
   "id": "24633681",
   "metadata": {},
   "outputs": [
    {
     "name": "stdout",
     "output_type": "stream",
     "text": [
      "[0.0, 0.0, 0.0, 0.0, 0.0, 0.0, 127.1, 348.2, 565.7, 755.4, 894.9, 973.0, 989.0, 938.0, 822.0, 655.0, 446.9, 224.0, 32.1, 0.0, 0.0, 0.0, 0.0, 0.0, 0.0]\n"
     ]
    }
   ],
   "source": [
    "#1 hr hrrr:\n",
    "with open('hrrr_f01_Bowling Green_KY.txt') as f:\n",
    "    lst=[line.split()[3] for line in f]\n",
    "    temp=[]\n",
    "    for i in lst:\n",
    "        new=i.replace(',',\"\")\n",
    "        temp.append(new)\n",
    "    temp.pop(0)\n",
    "    temp=[float(x) for x in temp]\n",
    "    temp=temp[2597:2622]\n",
    "    #temp=temp[2015:2063]\n",
    "    print(temp)\n",
    "    #print(len(temp))\n",
    "#full time period is [2015:2112]"
   ]
  },
  {
   "cell_type": "code",
   "execution_count": 174,
   "id": "853a3ee4",
   "metadata": {},
   "outputs": [
    {
     "name": "stdout",
     "output_type": "stream",
     "text": [
      "[0.0, 0.0, 0.0, 0.0, 0.0, 0.0, 123.5, 321.5, 521.0, 697.5, 832.0, 895.0, 929.0, 874.0, 764.5, 601.5, 387.5, 163.0, 16.0, 0.0, 0.0, 0.0, 0.0, 0.0, 0.0]\n"
     ]
    }
   ],
   "source": [
    "#Air Temp CRN:\n",
    "with open('CRNS0101-05-2022-KY_Bowling_Green_21_NNE.txt') as f:\n",
    "    lst=[line.split()[10] for line in f]\n",
    "    \n",
    "    a=(int(lst[31175])+int(lst[31176]))/2\n",
    "    b=(int(lst[31187])+int(lst[31188]))/2\n",
    "    c=(int(lst[31199])+int(lst[31200]))/2\n",
    "    d=(int(lst[31211])+int(lst[31212]))/2\n",
    "    e=(int(lst[31223])+int(lst[31224]))/2\n",
    "    f=(int(lst[31235])+int(lst[31236]))/2\n",
    "    g=(int(lst[31247])+int(lst[31248]))/2\n",
    "    h=(int(lst[31259])+int(lst[31260]))/2\n",
    "    i=(int(lst[31271])+int(lst[31272]))/2\n",
    "    j=(int(lst[31283])+int(lst[31284]))/2\n",
    "    k=(int(lst[31295])+int(lst[31296]))/2\n",
    "    l=(int(lst[31307])+int(lst[31308]))/2\n",
    "    m=(int(lst[31319])+int(lst[31320]))/2\n",
    "    n=(int(lst[31331])+int(lst[31332]))/2\n",
    "    o=(int(lst[31343])+int(lst[31344]))/2\n",
    "    p=(int(lst[31355])+int(lst[31356]))/2\n",
    "    q=(int(lst[31367])+int(lst[31368]))/2\n",
    "    r=(int(lst[31379])+int(lst[31380]))/2\n",
    "    s=(int(lst[31391])+int(lst[31392]))/2\n",
    "    t=(int(lst[31403])+int(lst[31404]))/2\n",
    "    u=(int(lst[31415])+int(lst[31416]))/2\n",
    "    v=(int(lst[31427])+int(lst[31428]))/2\n",
    "    w=(int(lst[31439])+int(lst[31440]))/2\n",
    "    x=(int(lst[31451])+int(lst[31452]))/2\n",
    "    y=(int(lst[31463])+int(lst[31464]))/2\n",
    "    \n",
    "    temp_crn=[a,b,c,d,e,f,g,h,i,j,k,l,m,n,o,p,q,r,s,t,u,v,w,x,y]\n",
    "    print(temp_crn)"
   ]
  },
  {
   "cell_type": "code",
   "execution_count": 175,
   "id": "0855a124",
   "metadata": {},
   "outputs": [
    {
     "name": "stdout",
     "output_type": "stream",
     "text": [
      "[0.0, 0.0, 0.0, 0.0, 0.0, 0.0, 3.5999999999999943, 26.69999999999999, 44.700000000000045, 57.89999999999998, 62.89999999999998, 78.0, 60.0, 64.0, 57.5, 53.5, 59.39999999999998, 61.0, 16.1, 0.0, 0.0, 0.0, 0.0, 0.0, 0.0]\n"
     ]
    }
   ],
   "source": [
    "difference5_bow = []\n",
    "\n",
    "zip_object = zip(temp, temp_crn)\n",
    "for temp_i, temp_crn_i in zip_object:\n",
    "    difference5_bow.append(temp_i-temp_crn_i)\n",
    "\n",
    "print(difference5_bow)"
   ]
  },
  {
   "cell_type": "markdown",
   "id": "230d1a46",
   "metadata": {},
   "source": [
    "<font size=\"3\">Gadsden, AL: 0600 UTC (12:00 am CST) 01 March 2022-0600 UTC (12:00 am CST) 02 March 2022</font>"
   ]
  },
  {
   "cell_type": "code",
   "execution_count": 176,
   "id": "c5f9ab54",
   "metadata": {},
   "outputs": [
    {
     "name": "stdout",
     "output_type": "stream",
     "text": [
      "[0.0, 0.0, 0.0, 0.0, 0.0, 0.0, 128.1, 361.5, 591.4, 788.1, 934.8, 1019.0, 1032.0, 975.0, 854.0, 675.0, 458.5, 226.3, 24.0, 0.0, 0.0, 0.0, 0.0, 0.0, 0.0]\n"
     ]
    }
   ],
   "source": [
    "#1 hr hrrr:\n",
    "with open('hrrr_f01_Gadsden_AL.txt') as f:\n",
    "    lst=[line.split()[3] for line in f]\n",
    "    temp=[]\n",
    "    for i in lst:\n",
    "        new=i.replace(',',\"\")\n",
    "        temp.append(new)\n",
    "    temp.pop(0)\n",
    "    temp=[float(x) for x in temp]\n",
    "    temp=temp[2597:2622]\n",
    "#     x = np.array(temp)\n",
    "#     temp = ma.masked_array(x, mask=[0, 0, 0, 0, 0,0,0,0,1,0,0,0,0,0,0,0,0,0,0,0,0,0,0,0,0])\n",
    "    #temp=temp[2015:2063]\n",
    "    print(temp)\n",
    "    #print(len(temp))\n",
    "#full time period is [2015:2112]"
   ]
  },
  {
   "cell_type": "code",
   "execution_count": 177,
   "id": "68a16b18",
   "metadata": {},
   "outputs": [
    {
     "name": "stdout",
     "output_type": "stream",
     "text": [
      "[0.0, 0.0, 0.0, 0.0, 0.0, 0.0, 129.0, 348.0, 574.0, 756.0, 890.5, 965.5, 974.5, 922.0, 807.0, 638.5, 428.5, 204.0, 18.0, 0.0, 0.0, 0.0, 0.0, 0.0, 0.0]\n"
     ]
    }
   ],
   "source": [
    "#Air Temp CRN:\n",
    "with open('CRNS0101-05-2022-AL_Gadsden_19_N.txt') as f:\n",
    "    lst=[line.split()[10] for line in f]\n",
    "    \n",
    "    a=(int(lst[31175])+int(lst[31176]))/2\n",
    "    b=(int(lst[31187])+int(lst[31188]))/2\n",
    "    c=(int(lst[31199])+int(lst[31200]))/2\n",
    "    d=(int(lst[31211])+int(lst[31212]))/2\n",
    "    e=(int(lst[31223])+int(lst[31224]))/2\n",
    "    f=(int(lst[31235])+int(lst[31236]))/2\n",
    "    g=(int(lst[31247])+int(lst[31248]))/2\n",
    "    h=(int(lst[31259])+int(lst[31260]))/2\n",
    "    i=(int(lst[31271])+int(lst[31272]))/2\n",
    "    j=(int(lst[31283])+int(lst[31284]))/2\n",
    "    k=(int(lst[31295])+int(lst[31296]))/2\n",
    "    l=(int(lst[31307])+int(lst[31308]))/2\n",
    "    m=(int(lst[31319])+int(lst[31320]))/2\n",
    "    n=(int(lst[31331])+int(lst[31332]))/2\n",
    "    o=(int(lst[31343])+int(lst[31344]))/2\n",
    "    p=(int(lst[31355])+int(lst[31356]))/2\n",
    "    q=(int(lst[31367])+int(lst[31368]))/2\n",
    "    r=(int(lst[31379])+int(lst[31380]))/2\n",
    "    s=(int(lst[31391])+int(lst[31392]))/2\n",
    "    t=(int(lst[31403])+int(lst[31404]))/2\n",
    "    u=(int(lst[31415])+int(lst[31416]))/2\n",
    "    v=(int(lst[31427])+int(lst[31428]))/2\n",
    "    w=(int(lst[31439])+int(lst[31440]))/2\n",
    "    x=(int(lst[31451])+int(lst[31452]))/2\n",
    "    y=(int(lst[31463])+int(lst[31464]))/2\n",
    "    \n",
    "    temp_crn=[a,b,c,d,e,f,g,h,i,j,k,l,m,n,o,p,q,r,s,t,u,v,w,x,y]\n",
    "    print(temp_crn)"
   ]
  },
  {
   "cell_type": "code",
   "execution_count": 178,
   "id": "20f98582",
   "metadata": {},
   "outputs": [
    {
     "name": "stdout",
     "output_type": "stream",
     "text": [
      "[0.0, 0.0, 0.0, 0.0, 0.0, 0.0, -0.9000000000000057, 13.5, 17.399999999999977, 32.10000000000002, 44.299999999999955, 53.5, 57.5, 53.0, 47.0, 36.5, 30.0, 22.30000000000001, 6.0, 0.0, 0.0, 0.0, 0.0, 0.0, 0.0]\n"
     ]
    }
   ],
   "source": [
    "difference5_gad = []\n",
    "\n",
    "zip_object = zip(temp, temp_crn)\n",
    "for temp_i, temp_crn_i in zip_object:\n",
    "    difference5_gad.append(temp_i-temp_crn_i)\n",
    "\n",
    "print(difference5_gad)"
   ]
  },
  {
   "cell_type": "markdown",
   "id": "200f3740",
   "metadata": {},
   "source": [
    "<font size=\"3\">Newton, GA: 0600 UTC (12:00 am CST) 01 March 2022-0600 UTC (12:00 am CST) 02 March 2022</font>"
   ]
  },
  {
   "cell_type": "code",
   "execution_count": 179,
   "id": "c0676e97",
   "metadata": {},
   "outputs": [
    {
     "name": "stdout",
     "output_type": "stream",
     "text": [
      "[0.0, 0.0, 0.0, 0.0, 0.0, 0.0, 140.5, 381.5, 616.5, 813.0, 958.8, 1036.0, 1039.0, 975.0, 846.0, 660.0, 435.5, 197.3, 5.4, 0.0, 0.0, 0.0, 0.0, 0.0, 0.0]\n"
     ]
    }
   ],
   "source": [
    "#1 hr hrrr:\n",
    "with open('hrrr_f01_Newton_GA.txt') as f:\n",
    "    lst=[line.split()[3] for line in f]\n",
    "    temp=[]\n",
    "    for i in lst:\n",
    "        new=i.replace(',',\"\")\n",
    "        temp.append(new)\n",
    "    temp.pop(0)\n",
    "    temp=[float(x) for x in temp]\n",
    "    temp=temp[2597:2622]\n",
    "    #temp=temp[2015:2063]\n",
    "    print(temp)\n",
    "    #print(len(temp))\n",
    "#full time period is [2015:2112]"
   ]
  },
  {
   "cell_type": "code",
   "execution_count": 180,
   "id": "f1c9c102",
   "metadata": {},
   "outputs": [
    {
     "name": "stdout",
     "output_type": "stream",
     "text": [
      "[0.0, 0.0, 0.0, 0.0, 0.0, 0.0, 127.0, 363.0, 589.5, 773.0, 906.5, 972.5, 974.5, 915.5, 796.5, 621.5, 404.0, 166.0, 0.0, 0.0, 0.0, 0.0, 0.0, 0.0, 0.0]\n"
     ]
    }
   ],
   "source": [
    "#Air Temp CRN:\n",
    "with open('CRNS0101-05-2022-GA_Newton_11_SW.txt') as f:\n",
    "    lst=[line.split()[10] for line in f]\n",
    "    \n",
    "    a=(int(lst[31175])+int(lst[31176]))/2\n",
    "    b=(int(lst[31187])+int(lst[31188]))/2\n",
    "    c=(int(lst[31199])+int(lst[31200]))/2\n",
    "    d=(int(lst[31211])+int(lst[31212]))/2\n",
    "    e=(int(lst[31223])+int(lst[31224]))/2\n",
    "    f=(int(lst[31235])+int(lst[31236]))/2\n",
    "    g=(int(lst[31247])+int(lst[31248]))/2\n",
    "    h=(int(lst[31259])+int(lst[31260]))/2\n",
    "    i=(int(lst[31271])+int(lst[31272]))/2\n",
    "    j=(int(lst[31283])+int(lst[31284]))/2\n",
    "    k=(int(lst[31295])+int(lst[31296]))/2\n",
    "    l=(int(lst[31307])+int(lst[31308]))/2\n",
    "    m=(int(lst[31319])+int(lst[31320]))/2\n",
    "    n=(int(lst[31331])+int(lst[31332]))/2\n",
    "    o=(int(lst[31343])+int(lst[31344]))/2\n",
    "    p=(int(lst[31355])+int(lst[31356]))/2\n",
    "    q=(int(lst[31367])+int(lst[31368]))/2\n",
    "    r=(int(lst[31379])+int(lst[31380]))/2\n",
    "    s=(int(lst[31391])+int(lst[31392]))/2\n",
    "    t=(int(lst[31403])+int(lst[31404]))/2\n",
    "    u=(int(lst[31415])+int(lst[31416]))/2\n",
    "    v=(int(lst[31427])+int(lst[31428]))/2\n",
    "    w=(int(lst[31439])+int(lst[31440]))/2\n",
    "    x=(int(lst[31451])+int(lst[31452]))/2\n",
    "    y=(int(lst[31463])+int(lst[31464]))/2\n",
    "    \n",
    "    temp_crn=[a,b,c,d,e,f,g,h,i,j,k,l,m,n,o,p,q,r,s,t,u,v,w,x,y]\n",
    "    print(temp_crn)"
   ]
  },
  {
   "cell_type": "code",
   "execution_count": 181,
   "id": "4d737508",
   "metadata": {},
   "outputs": [
    {
     "name": "stdout",
     "output_type": "stream",
     "text": [
      "[0.0, 0.0, 0.0, 0.0, 0.0, 0.0, 13.5, 18.5, 27.0, 40.0, 52.299999999999955, 63.5, 64.5, 59.5, 49.5, 38.5, 31.5, 31.30000000000001, 5.4, 0.0, 0.0, 0.0, 0.0, 0.0, 0.0]\n"
     ]
    }
   ],
   "source": [
    "difference5_newt = []\n",
    "\n",
    "zip_object = zip(temp, temp_crn)\n",
    "for temp_i, temp_crn_i in zip_object:\n",
    "    difference5_newt.append(temp_i-temp_crn_i)\n",
    "\n",
    "print(difference5_newt)"
   ]
  },
  {
   "cell_type": "markdown",
   "id": "cd4a8f77",
   "metadata": {},
   "source": [
    "<font size=\"3\">Salem, MO: 0500 UTC (12:00 am CDT) 27 April 2022-0500 UTC (12:00 am CDT) 28 April 2022</font>"
   ]
  },
  {
   "cell_type": "code",
   "execution_count": 182,
   "id": "e74c5bbe",
   "metadata": {},
   "outputs": [
    {
     "name": "stdout",
     "output_type": "stream",
     "text": [
      "[0.0, 0.0, 0.0, 0.0, 0.0, 0.0, 83.1, 290.9, 505.1, 701.2, 853.0, 954.0, 990.0, 957.0, 870.0, 723.0, 534.3, 320.3, 111.2, 0.0, 0.0, 0.0, 0.0, 0.0, 0.0]\n",
      "25\n"
     ]
    }
   ],
   "source": [
    "#1 hr hrrr:\n",
    "with open('hrrr_f01_Salem_MO.txt') as f:\n",
    "    lst=[line.split()[3] for line in f]\n",
    "    temp=[]\n",
    "    for i in lst:\n",
    "        new=i.replace(',',\"\")\n",
    "        temp.append(new)\n",
    "    temp.pop(0)\n",
    "    temp=[float(x) for x in temp]\n",
    "    temp=temp[2789:2814]\n",
    "    #temp=temp[2015:2063]\n",
    "    print(temp)\n",
    "    print(len(temp))\n",
    "#full time period is [2015:2112]"
   ]
  },
  {
   "cell_type": "code",
   "execution_count": 183,
   "id": "c0c399a0",
   "metadata": {},
   "outputs": [
    {
     "name": "stdout",
     "output_type": "stream",
     "text": [
      "[0.0, 0.0, 0.0, 0.0, 0.0, 0.0, 80.5, 283.0, 503.0, 686.0, 822.5, 912.0, 941.5, 915.5, 836.0, 696.5, 523.0, 206.5, 45.0, 0.0, 0.0, 0.0, 0.0, 0.0, 0.0]\n"
     ]
    }
   ],
   "source": [
    "#Air Temp CRN:\n",
    "with open('CRNS0101-05-2022-MO_Salem_10_W.txt') as f:\n",
    "    lst=[line.split()[10] for line in f]\n",
    "    \n",
    "    a=(int(lst[33479])+int(lst[33480]))/2\n",
    "    b=(int(lst[33491])+int(lst[33492]))/2\n",
    "    c=(int(lst[33503])+int(lst[33504]))/2\n",
    "    d=(int(lst[33515])+int(lst[33516]))/2\n",
    "    e=(int(lst[33527])+int(lst[33528]))/2\n",
    "    f=(int(lst[33539])+int(lst[33540]))/2\n",
    "    g=(int(lst[33551])+int(lst[33552]))/2\n",
    "    h=(int(lst[33563])+int(lst[33564]))/2\n",
    "    i=(int(lst[33575])+int(lst[33576]))/2\n",
    "    j=(int(lst[33587])+int(lst[33588]))/2\n",
    "    k=(int(lst[33599])+int(lst[33600]))/2\n",
    "    l=(int(lst[33611])+int(lst[33612]))/2\n",
    "    m=(int(lst[33623])+int(lst[33624]))/2\n",
    "    n=(int(lst[33635])+int(lst[33636]))/2\n",
    "    o=(int(lst[33647])+int(lst[33648]))/2\n",
    "    p=(int(lst[33659])+int(lst[33660]))/2\n",
    "    q=(int(lst[33671])+int(lst[33672]))/2\n",
    "    r=(int(lst[33683])+int(lst[33684]))/2\n",
    "    s=(int(lst[33695])+int(lst[33696]))/2\n",
    "    t=(int(lst[33707])+int(lst[33708]))/2\n",
    "    u=(int(lst[33719])+int(lst[33720]))/2\n",
    "    v=(int(lst[33731])+int(lst[33732]))/2\n",
    "    w=(int(lst[33743])+int(lst[33744]))/2\n",
    "    x=(int(lst[33755])+int(lst[33756]))/2\n",
    "    y=(int(lst[33767])+int(lst[33768]))/2\n",
    "    \n",
    "    temp_crn=[a,b,c,d,e,f,g,h,i,j,k,l,m,n,o,p,q,r,s,t,u,v,w,x,y]\n",
    "    print(temp_crn)"
   ]
  },
  {
   "cell_type": "code",
   "execution_count": 184,
   "id": "38ad8303",
   "metadata": {},
   "outputs": [
    {
     "name": "stdout",
     "output_type": "stream",
     "text": [
      "[0.0, 0.0, 0.0, 0.0, 0.0, 0.0, 2.5999999999999943, 7.899999999999977, 2.1000000000000227, 15.200000000000045, 30.5, 42.0, 48.5, 41.5, 34.0, 26.5, 11.299999999999955, 113.80000000000001, 66.2, 0.0, 0.0, 0.0, 0.0, 0.0, 0.0]\n"
     ]
    }
   ],
   "source": [
    "difference6_sal = []\n",
    "\n",
    "zip_object = zip(temp, temp_crn)\n",
    "for temp_i, temp_crn_i in zip_object:\n",
    "    difference6_sal.append(temp_i-temp_crn_i)\n",
    "\n",
    "print(difference6_sal)"
   ]
  },
  {
   "cell_type": "markdown",
   "id": "a9ca1aca",
   "metadata": {},
   "source": [
    "<font size=\"3\">Batesville, AR: 0600 UTC (12:00 am CST) 01 March 2022-0600 UTC (12:00 am CST) 02 March 2022</font>"
   ]
  },
  {
   "cell_type": "code",
   "execution_count": 185,
   "id": "90b292da",
   "metadata": {},
   "outputs": [
    {
     "name": "stdout",
     "output_type": "stream",
     "text": [
      "[0.0, 0.0, 0.0, 0.0, 0.0, 0.0, 76.4, 285.2, 505.0, 701.2, 862.0, 964.0, 1002.0, 970.0, 875.0, 728.0, 535.3, 319.9, 108.0, 0.0, 0.0, 0.0, 0.0, 0.0, 0.0]\n",
      "25\n"
     ]
    }
   ],
   "source": [
    "#1 hr hrrr:\n",
    "with open('hrrr_f01_Batesville_AR.txt') as f:\n",
    "    lst=[line.split()[3] for line in f]\n",
    "    temp=[]\n",
    "    for i in lst:\n",
    "        new=i.replace(',',\"\")\n",
    "        temp.append(new)\n",
    "    temp.pop(0)\n",
    "    temp=[float(x) for x in temp]\n",
    "    temp=temp[2789:2814]\n",
    "#     x = np.array(temp)\n",
    "#     temp = ma.masked_array(x, mask=[0, 0, 0, 0, 0,0,0,0,0,0,0,0,0,0,0,0,0,0,0,0,0,1,0,0,0])\n",
    "    #temp=temp[2015:2063]\n",
    "    print(temp)\n",
    "    print(len(temp))\n",
    "#full time period is [2015:2112]"
   ]
  },
  {
   "cell_type": "code",
   "execution_count": 186,
   "id": "f0f385de",
   "metadata": {},
   "outputs": [
    {
     "name": "stdout",
     "output_type": "stream",
     "text": [
      "[0.0, 0.0, 0.0, 0.0, 0.0, 0.0, 63.5, 242.5, 503.0, 699.5, 850.5, 948.5, 981.0, 959.0, 871.5, 726.0, 538.5, 311.0, 40.0, 0.0, 0.0, 0.0, 0.0, 0.0, 0.0]\n"
     ]
    }
   ],
   "source": [
    "#Air Temp CRN:\n",
    "with open('CRNS0101-05-2022-AR_Batesville_8_WNW.txt') as f:\n",
    "    lst=[line.split()[10] for line in f]\n",
    "    \n",
    "    a=(int(lst[33479])+int(lst[33480]))/2\n",
    "    b=(int(lst[33491])+int(lst[33492]))/2\n",
    "    c=(int(lst[33503])+int(lst[33504]))/2\n",
    "    d=(int(lst[33515])+int(lst[33516]))/2\n",
    "    e=(int(lst[33527])+int(lst[33528]))/2\n",
    "    f=(int(lst[33539])+int(lst[33540]))/2\n",
    "    g=(int(lst[33551])+int(lst[33552]))/2\n",
    "    h=(int(lst[33563])+int(lst[33564]))/2\n",
    "    i=(int(lst[33575])+int(lst[33576]))/2\n",
    "    j=(int(lst[33587])+int(lst[33588]))/2\n",
    "    k=(int(lst[33599])+int(lst[33600]))/2\n",
    "    l=(int(lst[33611])+int(lst[33612]))/2\n",
    "    m=(int(lst[33623])+int(lst[33624]))/2\n",
    "    n=(int(lst[33635])+int(lst[33636]))/2\n",
    "    o=(int(lst[33647])+int(lst[33648]))/2\n",
    "    p=(int(lst[33659])+int(lst[33660]))/2\n",
    "    q=(int(lst[33671])+int(lst[33672]))/2\n",
    "    r=(int(lst[33683])+int(lst[33684]))/2\n",
    "    s=(int(lst[33695])+int(lst[33696]))/2\n",
    "    t=(int(lst[33707])+int(lst[33708]))/2\n",
    "    u=(int(lst[33719])+int(lst[33720]))/2\n",
    "    v=(int(lst[33731])+int(lst[33732]))/2\n",
    "    w=(int(lst[33743])+int(lst[33744]))/2\n",
    "    x=(int(lst[33755])+int(lst[33756]))/2\n",
    "    y=(int(lst[33767])+int(lst[33768]))/2\n",
    "    \n",
    "    temp_crn=[a,b,c,d,e,f,g,h,i,j,k,l,m,n,o,p,q,r,s,t,u,v,w,x,y]\n",
    "    print(temp_crn)"
   ]
  },
  {
   "cell_type": "code",
   "execution_count": 187,
   "id": "ea97b53d",
   "metadata": {},
   "outputs": [
    {
     "name": "stdout",
     "output_type": "stream",
     "text": [
      "[0.0, 0.0, 0.0, 0.0, 0.0, 0.0, 12.900000000000006, 42.69999999999999, 2.0, 1.7000000000000455, 11.5, 15.5, 21.0, 11.0, 3.5, 2.0, -3.2000000000000455, 8.899999999999977, 68.0, 0.0, 0.0, 0.0, 0.0, 0.0, 0.0]\n"
     ]
    }
   ],
   "source": [
    "difference6_bat = []\n",
    "\n",
    "zip_object = zip(temp, temp_crn)\n",
    "for temp_i, temp_crn_i in zip_object:\n",
    "    difference6_bat.append(temp_i-temp_crn_i)\n",
    "\n",
    "print(difference6_bat)"
   ]
  },
  {
   "cell_type": "markdown",
   "id": "5726dedb",
   "metadata": {},
   "source": [
    "<font size=\"3\">Lafayette, LA: 0600 UTC (12:00 am CST) 01 March 2022-0600 UTC (12:00 am CST) 02 March 2022</font>"
   ]
  },
  {
   "cell_type": "code",
   "execution_count": 188,
   "id": "4afdefd5",
   "metadata": {},
   "outputs": [
    {
     "name": "stdout",
     "output_type": "stream",
     "text": [
      "[0.0, 0.0, 0.0, 0.0, 0.0, 0.0, 51.4, 230.2, 476.6, 713.1, 887.0, 999.0, 1045.0, 1016.0, 913.0, 753.0, 549.4, 319.3, 93.1, 0.0, 0.0, 0.0, 0.0, 0.0, 0.0]\n"
     ]
    }
   ],
   "source": [
    "#1 hr hrrr:\n",
    "with open('hrrr_f01_Lafayette_LA.txt') as f:\n",
    "    lst=[line.split()[3] for line in f]\n",
    "    temp=[]\n",
    "    for i in lst:\n",
    "        new=i.replace(',',\"\")\n",
    "        temp.append(new)\n",
    "    temp.pop(0)\n",
    "    temp=[float(x) for x in temp]\n",
    "    temp=temp[2789:2814]\n",
    "    #temp=temp[2015:2063]\n",
    "    print(temp)\n",
    "    #print(len(temp))\n",
    "#full time period is [2015:2112]"
   ]
  },
  {
   "cell_type": "code",
   "execution_count": 189,
   "id": "8a2dd83c",
   "metadata": {},
   "outputs": [
    {
     "name": "stdout",
     "output_type": "stream",
     "text": [
      "[0.0, 0.0, 0.0, 0.0, 0.0, 0.0, 41.5, 267.0, 490.0, 689.5, 841.0, 939.5, 978.5, 948.0, 855.5, 714.5, 526.0, 305.0, 92.0, 0.0, 0.0, 0.0, 0.0, 0.0, 0.0]\n"
     ]
    }
   ],
   "source": [
    "#Air Temp CRN:\n",
    "with open('CRNS0101-05-2022-LA_Lafayette_13_SE.txt') as f:\n",
    "    lst=[line.split()[10] for line in f]\n",
    "    \n",
    "    a=(int(lst[33479])+int(lst[33480]))/2\n",
    "    b=(int(lst[33491])+int(lst[33492]))/2\n",
    "    c=(int(lst[33503])+int(lst[33504]))/2\n",
    "    d=(int(lst[33515])+int(lst[33516]))/2\n",
    "    e=(int(lst[33527])+int(lst[33528]))/2\n",
    "    f=(int(lst[33539])+int(lst[33540]))/2\n",
    "    g=(int(lst[33551])+int(lst[33552]))/2\n",
    "    h=(int(lst[33563])+int(lst[33564]))/2\n",
    "    i=(int(lst[33575])+int(lst[33576]))/2\n",
    "    j=(int(lst[33587])+int(lst[33588]))/2\n",
    "    k=(int(lst[33599])+int(lst[33600]))/2\n",
    "    l=(int(lst[33611])+int(lst[33612]))/2\n",
    "    m=(int(lst[33623])+int(lst[33624]))/2\n",
    "    n=(int(lst[33635])+int(lst[33636]))/2\n",
    "    o=(int(lst[33647])+int(lst[33648]))/2\n",
    "    p=(int(lst[33659])+int(lst[33660]))/2\n",
    "    q=(int(lst[33671])+int(lst[33672]))/2\n",
    "    r=(int(lst[33683])+int(lst[33684]))/2\n",
    "    s=(int(lst[33695])+int(lst[33696]))/2\n",
    "    t=(int(lst[33707])+int(lst[33708]))/2\n",
    "    u=(int(lst[33719])+int(lst[33720]))/2\n",
    "    v=(int(lst[33731])+int(lst[33732]))/2\n",
    "    w=(int(lst[33743])+int(lst[33744]))/2\n",
    "    x=(int(lst[33755])+int(lst[33756]))/2\n",
    "    y=(int(lst[33767])+int(lst[33768]))/2\n",
    "    \n",
    "    temp_crn=[a,b,c,d,e,f,g,h,i,j,k,l,m,n,o,p,q,r,s,t,u,v,w,x,y]\n",
    "    print(temp_crn)"
   ]
  },
  {
   "cell_type": "code",
   "execution_count": 190,
   "id": "7b222157",
   "metadata": {},
   "outputs": [
    {
     "name": "stdout",
     "output_type": "stream",
     "text": [
      "[0.0, 0.0, 0.0, 0.0, 0.0, 0.0, 9.899999999999999, -36.80000000000001, -13.399999999999977, 23.600000000000023, 46.0, 59.5, 66.5, 68.0, 57.5, 38.5, 23.399999999999977, 14.300000000000011, 1.0999999999999943, 0.0, 0.0, 0.0, 0.0, 0.0, 0.0]\n"
     ]
    }
   ],
   "source": [
    "difference6_laf = []\n",
    "\n",
    "zip_object = zip(temp, temp_crn)\n",
    "for temp_i, temp_crn_i in zip_object:\n",
    "    difference6_laf.append(temp_i-temp_crn_i)\n",
    "\n",
    "print(difference6_laf)"
   ]
  },
  {
   "cell_type": "markdown",
   "id": "de2bb1cb",
   "metadata": {},
   "source": [
    "<font size=\"3\">Monroe, LA: 0600 UTC (12:00 am CST) 01 March 2022-0600 UTC (12:00 am CST) 02 March 2022</font>"
   ]
  },
  {
   "cell_type": "code",
   "execution_count": 191,
   "id": "ebecba2f",
   "metadata": {},
   "outputs": [
    {
     "name": "stdout",
     "output_type": "stream",
     "text": [
      "[0.0, 0.0, 0.0, 0.0, 0.0, 0.0, 56.7, 275.4, 502.7, 710.4, 878.0, 983.0, 1027.0, 1000.0, 906.0, 752.0, 550.9, 329.2, 106.6, 0.0, 0.0, 0.0, 0.0, 0.0, 0.0]\n"
     ]
    }
   ],
   "source": [
    "#1 hr hrrr:\n",
    "with open('hrrr_f01_Monroe_LA.txt') as f:\n",
    "    lst=[line.split()[3] for line in f]\n",
    "    temp=[]\n",
    "    for i in lst:\n",
    "        new=i.replace(',',\"\")\n",
    "        temp.append(new)\n",
    "    temp.pop(0)\n",
    "    temp=[float(x) for x in temp]\n",
    "    temp=temp[2789:2814]\n",
    "    #temp=temp[2015:2063]\n",
    "    print(temp)\n",
    "    #print(len(temp))\n",
    "#full time period is [2015:2112]"
   ]
  },
  {
   "cell_type": "code",
   "execution_count": 192,
   "id": "5cea29ca",
   "metadata": {},
   "outputs": [
    {
     "name": "stdout",
     "output_type": "stream",
     "text": [
      "[0.0, 0.0, 0.0, 0.0, 0.0, 0.0, 23.5, 258.0, 494.0, 697.0, 858.5, 960.5, 999.0, 969.0, 870.5, 709.5, 506.5, 42.0, 24.0, 0.0, 0.0, 0.0, 0.0, 0.0, 0.0]\n"
     ]
    }
   ],
   "source": [
    "#Air Temp CRN:\n",
    "with open('CRNS0101-05-2022-LA_Monroe_26_N.txt') as f:\n",
    "    lst=[line.split()[10] for line in f]\n",
    "    \n",
    "    a=(int(lst[33479])+int(lst[33480]))/2\n",
    "    b=(int(lst[33491])+int(lst[33492]))/2\n",
    "    c=(int(lst[33503])+int(lst[33504]))/2\n",
    "    d=(int(lst[33515])+int(lst[33516]))/2\n",
    "    e=(int(lst[33527])+int(lst[33528]))/2\n",
    "    f=(int(lst[33539])+int(lst[33540]))/2\n",
    "    g=(int(lst[33551])+int(lst[33552]))/2\n",
    "    h=(int(lst[33563])+int(lst[33564]))/2\n",
    "    i=(int(lst[33575])+int(lst[33576]))/2\n",
    "    j=(int(lst[33587])+int(lst[33588]))/2\n",
    "    k=(int(lst[33599])+int(lst[33600]))/2\n",
    "    l=(int(lst[33611])+int(lst[33612]))/2\n",
    "    m=(int(lst[33623])+int(lst[33624]))/2\n",
    "    n=(int(lst[33635])+int(lst[33636]))/2\n",
    "    o=(int(lst[33647])+int(lst[33648]))/2\n",
    "    p=(int(lst[33659])+int(lst[33660]))/2\n",
    "    q=(int(lst[33671])+int(lst[33672]))/2\n",
    "    r=(int(lst[33683])+int(lst[33684]))/2\n",
    "    s=(int(lst[33695])+int(lst[33696]))/2\n",
    "    t=(int(lst[33707])+int(lst[33708]))/2\n",
    "    u=(int(lst[33719])+int(lst[33720]))/2\n",
    "    v=(int(lst[33731])+int(lst[33732]))/2\n",
    "    w=(int(lst[33743])+int(lst[33744]))/2\n",
    "    x=(int(lst[33755])+int(lst[33756]))/2\n",
    "    y=(int(lst[33767])+int(lst[33768]))/2\n",
    "    \n",
    "    temp_crn=[a,b,c,d,e,f,g,h,i,j,k,l,m,n,o,p,q,r,s,t,u,v,w,x,y]\n",
    "    print(temp_crn)"
   ]
  },
  {
   "cell_type": "code",
   "execution_count": 193,
   "id": "7f448702",
   "metadata": {},
   "outputs": [
    {
     "name": "stdout",
     "output_type": "stream",
     "text": [
      "[0.0, 0.0, 0.0, 0.0, 0.0, 0.0, 33.2, 17.399999999999977, 8.699999999999989, 13.399999999999977, 19.5, 22.5, 28.0, 31.0, 35.5, 42.5, 44.39999999999998, 287.2, 82.6, 0.0, 0.0, 0.0, 0.0, 0.0, 0.0]\n"
     ]
    }
   ],
   "source": [
    "difference6_mon = []\n",
    "\n",
    "zip_object = zip(temp, temp_crn)\n",
    "for temp_i, temp_crn_i in zip_object:\n",
    "    difference6_mon.append(temp_i-temp_crn_i)\n",
    "\n",
    "print(difference6_mon)"
   ]
  },
  {
   "cell_type": "markdown",
   "id": "49e00369",
   "metadata": {},
   "source": [
    "<font size=\"3\">Holly Springs, MS: 0600 UTC (12:00 am CST) 01 March 2022-0600 UTC (12:00 am CST) 02 March 2022</font>"
   ]
  },
  {
   "cell_type": "code",
   "execution_count": 194,
   "id": "a9302d89",
   "metadata": {},
   "outputs": [
    {
     "name": "stdout",
     "output_type": "stream",
     "text": [
      "[0.0, 0.0, 0.0, 0.0, 0.0, 0.0, 108.9, 332.2, 557.9, 755.4, 907.0, 1000.0, 1026.0, 988.0, 881.0, 719.0, 517.5, 291.7, 78.4, 0.0, 0.0, 0.0, 0.0, 0.0, 0.0]\n"
     ]
    }
   ],
   "source": [
    "#1 hr hrrr:\n",
    "with open('hrrr_f01_Holly Springs_MS.txt') as f:\n",
    "    lst=[line.split()[3] for line in f]\n",
    "    temp=[]\n",
    "    for i in lst:\n",
    "        new=i.replace(',',\"\")\n",
    "        temp.append(new)\n",
    "    temp.pop(0)\n",
    "    temp=[float(x) for x in temp]\n",
    "    temp=temp[2789:2814]\n",
    "    #temp=temp[2015:2063]\n",
    "    print(temp)\n",
    "    #print(len(temp))\n",
    "#full time period is [2015:2112]"
   ]
  },
  {
   "cell_type": "code",
   "execution_count": 195,
   "id": "49cb6701",
   "metadata": {},
   "outputs": [
    {
     "name": "stdout",
     "output_type": "stream",
     "text": [
      "[0.0, 0.0, 0.0, 0.0, 0.0, 0.0, 118.5, 350.0, 580.0, 761.5, 893.0, 964.5, 974.5, 923.5, 816.5, 656.5, 455.0, 233.0, 30.5, 0.0, 0.0, 0.0, 0.0, 0.0, 0.0]\n"
     ]
    }
   ],
   "source": [
    "#Air Temp CRN:\n",
    "with open('CRNS0101-05-2022-MS_Holly_Springs_4_N.txt') as f:\n",
    "    lst=[line.split()[10] for line in f]\n",
    "    \n",
    "    a=(int(lst[33479])+int(lst[33480]))/2\n",
    "    b=(int(lst[33491])+int(lst[33492]))/2\n",
    "    c=(int(lst[33503])+int(lst[33504]))/2\n",
    "    d=(int(lst[33515])+int(lst[33516]))/2\n",
    "    e=(int(lst[33527])+int(lst[33528]))/2\n",
    "    f=(int(lst[33539])+int(lst[33540]))/2\n",
    "    g=(int(lst[33551])+int(lst[33552]))/2\n",
    "    h=(int(lst[33563])+int(lst[33564]))/2\n",
    "    i=(int(lst[33575])+int(lst[33576]))/2\n",
    "    j=(int(lst[33587])+int(lst[33588]))/2\n",
    "    k=(int(lst[33599])+int(lst[33600]))/2\n",
    "    l=(int(lst[33611])+int(lst[33612]))/2\n",
    "    m=(int(lst[33623])+int(lst[33624]))/2\n",
    "    n=(int(lst[33635])+int(lst[33636]))/2\n",
    "    o=(int(lst[33647])+int(lst[33648]))/2\n",
    "    p=(int(lst[33659])+int(lst[33660]))/2\n",
    "    q=(int(lst[33671])+int(lst[33672]))/2\n",
    "    r=(int(lst[33683])+int(lst[33684]))/2\n",
    "    s=(int(lst[33695])+int(lst[33696]))/2\n",
    "    t=(int(lst[33707])+int(lst[33708]))/2\n",
    "    u=(int(lst[33719])+int(lst[33720]))/2\n",
    "    v=(int(lst[33731])+int(lst[33732]))/2\n",
    "    w=(int(lst[33743])+int(lst[33744]))/2\n",
    "    x=(int(lst[33755])+int(lst[33756]))/2\n",
    "    y=(int(lst[33767])+int(lst[33768]))/2\n",
    "    \n",
    "    temp_crn=[a,b,c,d,e,f,g,h,i,j,k,l,m,n,o,p,q,r,s,t,u,v,w,x,y]\n",
    "    print(temp_crn)"
   ]
  },
  {
   "cell_type": "code",
   "execution_count": 196,
   "id": "19a13a82",
   "metadata": {},
   "outputs": [
    {
     "name": "stdout",
     "output_type": "stream",
     "text": [
      "[0.0, 0.0, 0.0, 0.0, 0.0, 0.0, -9.599999999999994, -17.80000000000001, -22.100000000000023, -6.100000000000023, 14.0, 35.5, 51.5, 64.5, 64.5, 62.5, 62.5, 58.69999999999999, 47.900000000000006, 0.0, 0.0, 0.0, 0.0, 0.0, 0.0]\n"
     ]
    }
   ],
   "source": [
    "difference6_hol = []\n",
    "\n",
    "zip_object = zip(temp, temp_crn)\n",
    "for temp_i, temp_crn_i in zip_object:\n",
    "    difference6_hol.append(temp_i-temp_crn_i)\n",
    "\n",
    "print(difference6_hol)"
   ]
  },
  {
   "cell_type": "markdown",
   "id": "4753a3b0",
   "metadata": {},
   "source": [
    "<font size=\"3\">Newton, MS: 0600 UTC (12:00 am CST) 01 March 2022-0600 UTC (12:00 am CST) 02 March 2022</font>"
   ]
  },
  {
   "cell_type": "code",
   "execution_count": 197,
   "id": "68f58603",
   "metadata": {},
   "outputs": [
    {
     "name": "stdout",
     "output_type": "stream",
     "text": [
      "[0.0, 0.0, 0.0, 0.0, 0.0, 0.0, 104.2, 332.6, 565.2, 771.4, 931.0, 1023.0, 1053.0, 1005.0, 892.0, 729.0, 517.1, 285.3, 66.2, 0.0, 0.0, 0.0, 0.0, 0.0, 0.0]\n"
     ]
    }
   ],
   "source": [
    "#1 hr hrrr:\n",
    "with open('hrrr_f01_Newton_MS.txt') as f:\n",
    "    lst=[line.split()[3] for line in f]\n",
    "    temp=[]\n",
    "    for i in lst:\n",
    "        new=i.replace(',',\"\")\n",
    "        temp.append(new)\n",
    "    temp.pop(0)\n",
    "    temp=[float(x) for x in temp]\n",
    "    temp=temp[2789:2814]\n",
    "    #temp=temp[2015:2063]\n",
    "    print(temp)\n",
    "    #print(len(temp))\n",
    "#full time period is [2015:2112]"
   ]
  },
  {
   "cell_type": "code",
   "execution_count": 198,
   "id": "ddffa4a1",
   "metadata": {},
   "outputs": [
    {
     "name": "stdout",
     "output_type": "stream",
     "text": [
      "[0.0, 0.0, 0.0, 0.0, 0.0, 0.0, 109.5, 321.5, 548.5, 737.5, 882.0, 966.5, 992.0, 954.0, 853.0, 697.5, 502.5, 276.5, 66.5, 0.0, 0.0, 0.0, 0.0, 0.0, 0.0]\n"
     ]
    }
   ],
   "source": [
    "#Air Temp CRN:\n",
    "with open('CRNS0101-05-2022-MS_Newton_5_ENE.txt') as f:\n",
    "    lst=[line.split()[10] for line in f]\n",
    "    \n",
    "    a=(int(lst[33479])+int(lst[33480]))/2\n",
    "    b=(int(lst[33491])+int(lst[33492]))/2\n",
    "    c=(int(lst[33503])+int(lst[33504]))/2\n",
    "    d=(int(lst[33515])+int(lst[33516]))/2\n",
    "    e=(int(lst[33527])+int(lst[33528]))/2\n",
    "    f=(int(lst[33539])+int(lst[33540]))/2\n",
    "    g=(int(lst[33551])+int(lst[33552]))/2\n",
    "    h=(int(lst[33563])+int(lst[33564]))/2\n",
    "    i=(int(lst[33575])+int(lst[33576]))/2\n",
    "    j=(int(lst[33587])+int(lst[33588]))/2\n",
    "    k=(int(lst[33599])+int(lst[33600]))/2\n",
    "    l=(int(lst[33611])+int(lst[33612]))/2\n",
    "    m=(int(lst[33623])+int(lst[33624]))/2\n",
    "    n=(int(lst[33635])+int(lst[33636]))/2\n",
    "    o=(int(lst[33647])+int(lst[33648]))/2\n",
    "    p=(int(lst[33659])+int(lst[33660]))/2\n",
    "    q=(int(lst[33671])+int(lst[33672]))/2\n",
    "    r=(int(lst[33683])+int(lst[33684]))/2\n",
    "    s=(int(lst[33695])+int(lst[33696]))/2\n",
    "    t=(int(lst[33707])+int(lst[33708]))/2\n",
    "    u=(int(lst[33719])+int(lst[33720]))/2\n",
    "    v=(int(lst[33731])+int(lst[33732]))/2\n",
    "    w=(int(lst[33743])+int(lst[33744]))/2\n",
    "    x=(int(lst[33755])+int(lst[33756]))/2\n",
    "    y=(int(lst[33767])+int(lst[33768]))/2\n",
    "    \n",
    "    temp_crn=[a,b,c,d,e,f,g,h,i,j,k,l,m,n,o,p,q,r,s,t,u,v,w,x,y]\n",
    "    print(temp_crn)"
   ]
  },
  {
   "cell_type": "code",
   "execution_count": 199,
   "id": "d00b8a13",
   "metadata": {},
   "outputs": [
    {
     "name": "stdout",
     "output_type": "stream",
     "text": [
      "[0.0, 0.0, 0.0, 0.0, 0.0, 0.0, -5.299999999999997, 11.100000000000023, 16.700000000000045, 33.89999999999998, 49.0, 56.5, 61.0, 51.0, 39.0, 31.5, 14.600000000000023, 8.800000000000011, -0.29999999999999716, 0.0, 0.0, 0.0, 0.0, 0.0, 0.0]\n"
     ]
    }
   ],
   "source": [
    "difference6_new = []\n",
    "\n",
    "zip_object = zip(temp, temp_crn)\n",
    "for temp_i, temp_crn_i in zip_object:\n",
    "    difference6_new.append(temp_i-temp_crn_i)\n",
    "\n",
    "print(difference6_new)"
   ]
  },
  {
   "cell_type": "markdown",
   "id": "f6dc6918",
   "metadata": {},
   "source": [
    "<font size=\"3\">Gainesville, AL: 0600 UTC (12:00 am CST) 01 March 2022-0600 UTC (12:00 am CST) 02 March 2022</font>"
   ]
  },
  {
   "cell_type": "code",
   "execution_count": 200,
   "id": "853a5cd2",
   "metadata": {},
   "outputs": [],
   "source": [
    "# #1 hr hrrr:\n",
    "# with open('hrrr_f01_Gainesville_AL.txt') as f:\n",
    "#     lst=[line.split()[3] for line in f]\n",
    "#     temp=[]\n",
    "#     for i in lst:\n",
    "#         new=i.replace(',',\"\")\n",
    "#         temp.append(new)\n",
    "#     temp.pop(0)\n",
    "#     temp=[float(x) for x in temp]\n",
    "#     temp=temp[2789:2814]\n",
    "#     #temp=temp[2015:2063]\n",
    "#     print(temp)\n",
    "#     #print(len(temp))\n",
    "# #full time period is [2015:2112]"
   ]
  },
  {
   "cell_type": "code",
   "execution_count": 201,
   "id": "12cd5b43",
   "metadata": {},
   "outputs": [],
   "source": [
    "# #Air Temp CRN:\n",
    "# with open('CRNH0203-2022-AL_Gainesville_2_NE.txt') as f:\n",
    "#     lst=[line.split()[13] for line in f]\n",
    "#     #print(lst)\n",
    "#     temp_crn=[]\n",
    "#     for i in lst:\n",
    "#         new=i.replace(',',\"\")\n",
    "#         temp_crn.append(new)\n",
    "#     temp_crn=[float(x) for x in temp_crn]\n",
    "#     temp_crn=temp_crn[2789:2814]\n",
    "#     print(temp_crn)\n",
    "#     #print(len(temp_crn))\n",
    "#     # print(temp_crn[2124])"
   ]
  },
  {
   "cell_type": "code",
   "execution_count": 202,
   "id": "182dac80",
   "metadata": {},
   "outputs": [],
   "source": [
    "# difference6_gai = []\n",
    "\n",
    "# zip_object = zip(temp, temp_crn)\n",
    "# for temp_i, temp_crn_i in zip_object:\n",
    "#     difference6_gai.append(temp_i-temp_crn_i)\n",
    "\n",
    "# print(difference6_gai)"
   ]
  },
  {
   "cell_type": "markdown",
   "id": "dca2fd19",
   "metadata": {},
   "source": [
    "<font size=\"3\">Fairhope, AL: 0600 UTC (12:00 am CST) 01 March 2022-0600 UTC (12:00 am CST) 02 March 2022</font>"
   ]
  },
  {
   "cell_type": "code",
   "execution_count": 203,
   "id": "a7ac678b",
   "metadata": {},
   "outputs": [
    {
     "name": "stdout",
     "output_type": "stream",
     "text": [
      "[0.0, 0.0, 0.0, 0.0, 0.0, 0.0, 111.2, 339.8, 573.2, 779.2, 935.0, 1023.0, 1040.0, 986.0, 875.0, 708.0, 490.7, 253.3, 42.8, 0.0, 0.0, 0.0, 0.0, 0.0, 0.0]\n"
     ]
    }
   ],
   "source": [
    "#1 hr hrrr:\n",
    "with open('hrrr_f01_Fairhope_AL.txt') as f:\n",
    "    lst=[line.split()[3] for line in f]\n",
    "    temp=[]\n",
    "    for i in lst:\n",
    "        new=i.replace(',',\"\")\n",
    "        temp.append(new)\n",
    "    temp.pop(0)\n",
    "    temp=[float(x) for x in temp]\n",
    "    temp=temp[2789:2814]\n",
    "    #temp=temp[2015:2063]\n",
    "    print(temp)\n",
    "    #print(len(temp))\n",
    "#full time period is [2015:2112]"
   ]
  },
  {
   "cell_type": "code",
   "execution_count": 204,
   "id": "eaa19ef2",
   "metadata": {},
   "outputs": [
    {
     "name": "stdout",
     "output_type": "stream",
     "text": [
      "[0.0, 0.0, 0.0, 0.0, 0.0, 0.0, 97.0, 313.5, 530.5, 718.0, 860.0, 955.5, 966.5, 932.0, 829.0, 672.5, 457.0, 242.5, 46.5, 0.0, 0.0, 0.0, 0.0, 0.0, 0.0]\n"
     ]
    }
   ],
   "source": [
    "#Air Temp CRN:\n",
    "with open('CRNS0101-05-2022-AL_Fairhope_3_NE.txt') as f:\n",
    "    lst=[line.split()[10] for line in f]\n",
    "    \n",
    "    a=(int(lst[33479])+int(lst[33480]))/2\n",
    "    b=(int(lst[33491])+int(lst[33492]))/2\n",
    "    c=(int(lst[33503])+int(lst[33504]))/2\n",
    "    d=(int(lst[33515])+int(lst[33516]))/2\n",
    "    e=(int(lst[33527])+int(lst[33528]))/2\n",
    "    f=(int(lst[33539])+int(lst[33540]))/2\n",
    "    g=(int(lst[33551])+int(lst[33552]))/2\n",
    "    h=(int(lst[33563])+int(lst[33564]))/2\n",
    "    i=(int(lst[33575])+int(lst[33576]))/2\n",
    "    j=(int(lst[33587])+int(lst[33588]))/2\n",
    "    k=(int(lst[33599])+int(lst[33600]))/2\n",
    "    l=(int(lst[33611])+int(lst[33612]))/2\n",
    "    m=(int(lst[33623])+int(lst[33624]))/2\n",
    "    n=(int(lst[33635])+int(lst[33636]))/2\n",
    "    o=(int(lst[33647])+int(lst[33648]))/2\n",
    "    p=(int(lst[33659])+int(lst[33660]))/2\n",
    "    q=(int(lst[33671])+int(lst[33672]))/2\n",
    "    r=(int(lst[33683])+int(lst[33684]))/2\n",
    "    s=(int(lst[33695])+int(lst[33696]))/2\n",
    "    t=(int(lst[33707])+int(lst[33708]))/2\n",
    "    u=(int(lst[33719])+int(lst[33720]))/2\n",
    "    v=(int(lst[33731])+int(lst[33732]))/2\n",
    "    w=(int(lst[33743])+int(lst[33744]))/2\n",
    "    x=(int(lst[33755])+int(lst[33756]))/2\n",
    "    y=(int(lst[33767])+int(lst[33768]))/2\n",
    "    \n",
    "    temp_crn=[a,b,c,d,e,f,g,h,i,j,k,l,m,n,o,p,q,r,s,t,u,v,w,x,y]\n",
    "    print(temp_crn)"
   ]
  },
  {
   "cell_type": "code",
   "execution_count": 205,
   "id": "c79c3a66",
   "metadata": {},
   "outputs": [
    {
     "name": "stdout",
     "output_type": "stream",
     "text": [
      "[0.0, 0.0, 0.0, 0.0, 0.0, 0.0, 14.200000000000003, 26.30000000000001, 42.700000000000045, 61.200000000000045, 75.0, 67.5, 73.5, 54.0, 46.0, 35.5, 33.69999999999999, 10.800000000000011, -3.700000000000003, 0.0, 0.0, 0.0, 0.0, 0.0, 0.0]\n"
     ]
    }
   ],
   "source": [
    "difference6_fai = []\n",
    "\n",
    "zip_object = zip(temp, temp_crn)\n",
    "for temp_i, temp_crn_i in zip_object:\n",
    "    difference6_fai.append(temp_i-temp_crn_i)\n",
    "\n",
    "print(difference6_fai)"
   ]
  },
  {
   "cell_type": "markdown",
   "id": "142d4e9c",
   "metadata": {},
   "source": [
    "<font size=\"3\">**Selma, AL: 0600 UTC (12:00 am CST) 01 March 2022-0600 UTC (12:00 am CST) 02 March 2022</font>"
   ]
  },
  {
   "cell_type": "code",
   "execution_count": 206,
   "id": "96d329b9",
   "metadata": {},
   "outputs": [
    {
     "name": "stdout",
     "output_type": "stream",
     "text": [
      "[0.0, 0.0, 0.0, 0.0, 0.0, 0.0, 131.3, 360.3, 588.5, 785.5, 934.0, 1021.0, 1039.0, 989.0, 869.0, 694.0, 479.1, 247.9, 41.5, 0.0, 0.0, 0.0, 0.0, 0.0, 0.0]\n"
     ]
    }
   ],
   "source": [
    "#1 hr hrrr:\n",
    "import numpy as np\n",
    "import numpy.ma as ma\n",
    "with open('hrrr_f01_Selma_AL.txt') as f:\n",
    "    lst=[line.split()[3] for line in f]\n",
    "    temp=[]\n",
    "    for i in lst:\n",
    "        new=i.replace(',',\"\")\n",
    "        temp.append(new)\n",
    "    temp.pop(0)\n",
    "    temp=[float(x) for x in temp]\n",
    "    temp=temp[2789:2814]\n",
    "\n",
    "#     x = np.array(temp)\n",
    "#     temp = ma.masked_array(x, mask=[0, 0, 0, 0, 0,0,0,0,0,0,0,0,0,0,0,0,0,1,1,1,1,0,0,0,0])\n",
    "    print(temp)"
   ]
  },
  {
   "cell_type": "code",
   "execution_count": 207,
   "id": "08c28298",
   "metadata": {},
   "outputs": [
    {
     "name": "stdout",
     "output_type": "stream",
     "text": [
      "[0.0, 0.0, 0.0, 0.0, 0.0, 0.0, 118.0, 349.5, 573.5, 761.0, 886.5, 957.5, 970.0, 921.5, 816.5, 658.0, 455.5, 99.0, 3.5, 0.0, 0.0, 0.0, 0.0, 0.0, 0.0]\n"
     ]
    }
   ],
   "source": [
    "#Air Temp CRN:\n",
    "with open('CRNS0101-05-2022-AL_Selma_13_WNW.txt') as f:\n",
    "    lst=[line.split()[10] for line in f]\n",
    "    \n",
    "    a=(int(lst[33479])+int(lst[33480]))/2\n",
    "    b=(int(lst[33491])+int(lst[33492]))/2\n",
    "    c=(int(lst[33503])+int(lst[33504]))/2\n",
    "    d=(int(lst[33515])+int(lst[33516]))/2\n",
    "    e=(int(lst[33527])+int(lst[33528]))/2\n",
    "    f=(int(lst[33539])+int(lst[33540]))/2\n",
    "    g=(int(lst[33551])+int(lst[33552]))/2\n",
    "    h=(int(lst[33563])+int(lst[33564]))/2\n",
    "    i=(int(lst[33575])+int(lst[33576]))/2\n",
    "    j=(int(lst[33587])+int(lst[33588]))/2\n",
    "    k=(int(lst[33599])+int(lst[33600]))/2\n",
    "    l=(int(lst[33611])+int(lst[33612]))/2\n",
    "    m=(int(lst[33623])+int(lst[33624]))/2\n",
    "    n=(int(lst[33635])+int(lst[33636]))/2\n",
    "    o=(int(lst[33647])+int(lst[33648]))/2\n",
    "    p=(int(lst[33659])+int(lst[33660]))/2\n",
    "    q=(int(lst[33671])+int(lst[33672]))/2\n",
    "    r=(int(lst[33683])+int(lst[33684]))/2\n",
    "    s=(int(lst[33695])+int(lst[33696]))/2\n",
    "    t=(int(lst[33707])+int(lst[33708]))/2\n",
    "    u=(int(lst[33719])+int(lst[33720]))/2\n",
    "    v=(int(lst[33731])+int(lst[33732]))/2\n",
    "    w=(int(lst[33743])+int(lst[33744]))/2\n",
    "    x=(int(lst[33755])+int(lst[33756]))/2\n",
    "    y=(int(lst[33767])+int(lst[33768]))/2\n",
    "    \n",
    "    temp_crn=[a,b,c,d,e,f,g,h,i,j,k,l,m,n,o,p,q,r,s,t,u,v,w,x,y]\n",
    "    print(temp_crn)"
   ]
  },
  {
   "cell_type": "code",
   "execution_count": 208,
   "id": "9d9623a2",
   "metadata": {},
   "outputs": [
    {
     "name": "stdout",
     "output_type": "stream",
     "text": [
      "[0.0, 0.0, 0.0, 0.0, 0.0, 0.0, 13.300000000000011, 10.800000000000011, 15.0, 24.5, 47.5, 63.5, 69.0, 67.5, 52.5, 36.0, 23.600000000000023, 148.9, 38.0, 0.0, 0.0, 0.0, 0.0, 0.0, 0.0]\n"
     ]
    }
   ],
   "source": [
    "difference6_sel = []\n",
    "\n",
    "zip_object = zip(temp, temp_crn)\n",
    "for temp_i, temp_crn_i in zip_object:\n",
    "    difference6_sel.append(temp_i-temp_crn_i)\n",
    "\n",
    "print(difference6_sel)\n",
    "#print(len(difference3_sel))"
   ]
  },
  {
   "cell_type": "markdown",
   "id": "36c4d6a8",
   "metadata": {},
   "source": [
    "<font size=\"3\">Bowling Green, KY: 0600 UTC (12:00 am CST) 01 March 2022-0600 UTC (12:00 am CST) 02 March 2022</font>"
   ]
  },
  {
   "cell_type": "code",
   "execution_count": 209,
   "id": "d83d7c4d",
   "metadata": {},
   "outputs": [
    {
     "name": "stdout",
     "output_type": "stream",
     "text": [
      "[0.0, 0.0, 0.0, 0.0, 0.0, 0.0, 156.7, 374.6, 582.1, 767.3, 898.0, 976.0, 993.0, 942.0, 824.0, 657.0, 454.8, 241.0, 47.7, 0.0, 0.0, 0.0, 0.0, 0.0, 0.0]\n"
     ]
    }
   ],
   "source": [
    "#1 hr hrrr:\n",
    "with open('hrrr_f01_Bowling Green_KY.txt') as f:\n",
    "    lst=[line.split()[3] for line in f]\n",
    "    temp=[]\n",
    "    for i in lst:\n",
    "        new=i.replace(',',\"\")\n",
    "        temp.append(new)\n",
    "    temp.pop(0)\n",
    "    temp=[float(x) for x in temp]\n",
    "    temp=temp[2789:2814]\n",
    "    #temp=temp[2015:2063]\n",
    "    print(temp)\n",
    "    #print(len(temp))\n",
    "#full time period is [2015:2112]"
   ]
  },
  {
   "cell_type": "code",
   "execution_count": 210,
   "id": "e74d2987",
   "metadata": {},
   "outputs": [
    {
     "name": "stdout",
     "output_type": "stream",
     "text": [
      "[0.0, 0.0, 0.0, 0.0, 0.0, 1.5, 136.0, 331.0, 528.5, 702.0, 837.0, 918.0, 933.5, 880.0, 767.0, 607.0, 419.5, 215.5, 16.5, 0.0, 0.0, 0.0, 0.0, 0.0, 0.0]\n"
     ]
    }
   ],
   "source": [
    "#Air Temp CRN:\n",
    "with open('CRNS0101-05-2022-KY_Bowling_Green_21_NNE.txt') as f:\n",
    "    lst=[line.split()[10] for line in f]\n",
    "    \n",
    "    a=(int(lst[33479])+int(lst[33480]))/2\n",
    "    b=(int(lst[33491])+int(lst[33492]))/2\n",
    "    c=(int(lst[33503])+int(lst[33504]))/2\n",
    "    d=(int(lst[33515])+int(lst[33516]))/2\n",
    "    e=(int(lst[33527])+int(lst[33528]))/2\n",
    "    f=(int(lst[33539])+int(lst[33540]))/2\n",
    "    g=(int(lst[33551])+int(lst[33552]))/2\n",
    "    h=(int(lst[33563])+int(lst[33564]))/2\n",
    "    i=(int(lst[33575])+int(lst[33576]))/2\n",
    "    j=(int(lst[33587])+int(lst[33588]))/2\n",
    "    k=(int(lst[33599])+int(lst[33600]))/2\n",
    "    l=(int(lst[33611])+int(lst[33612]))/2\n",
    "    m=(int(lst[33623])+int(lst[33624]))/2\n",
    "    n=(int(lst[33635])+int(lst[33636]))/2\n",
    "    o=(int(lst[33647])+int(lst[33648]))/2\n",
    "    p=(int(lst[33659])+int(lst[33660]))/2\n",
    "    q=(int(lst[33671])+int(lst[33672]))/2\n",
    "    r=(int(lst[33683])+int(lst[33684]))/2\n",
    "    s=(int(lst[33695])+int(lst[33696]))/2\n",
    "    t=(int(lst[33707])+int(lst[33708]))/2\n",
    "    u=(int(lst[33719])+int(lst[33720]))/2\n",
    "    v=(int(lst[33731])+int(lst[33732]))/2\n",
    "    w=(int(lst[33743])+int(lst[33744]))/2\n",
    "    x=(int(lst[33755])+int(lst[33756]))/2\n",
    "    y=(int(lst[33767])+int(lst[33768]))/2\n",
    "    \n",
    "    temp_crn=[a,b,c,d,e,f,g,h,i,j,k,l,m,n,o,p,q,r,s,t,u,v,w,x,y]\n",
    "    print(temp_crn)"
   ]
  },
  {
   "cell_type": "code",
   "execution_count": 211,
   "id": "e091d5ac",
   "metadata": {},
   "outputs": [
    {
     "name": "stdout",
     "output_type": "stream",
     "text": [
      "[0.0, 0.0, 0.0, 0.0, 0.0, -1.5, 20.69999999999999, 43.60000000000002, 53.60000000000002, 65.29999999999995, 61.0, 58.0, 59.5, 62.0, 57.0, 50.0, 35.30000000000001, 25.5, 31.200000000000003, 0.0, 0.0, 0.0, 0.0, 0.0, 0.0]\n"
     ]
    }
   ],
   "source": [
    "difference6_bow = []\n",
    "\n",
    "zip_object = zip(temp, temp_crn)\n",
    "for temp_i, temp_crn_i in zip_object:\n",
    "    difference6_bow.append(temp_i-temp_crn_i)\n",
    "\n",
    "print(difference6_bow)"
   ]
  },
  {
   "cell_type": "markdown",
   "id": "f806c48f",
   "metadata": {},
   "source": [
    "<font size=\"3\">Gadsden, AL: 0600 UTC (12:00 am CST) 01 March 2022-0600 UTC (12:00 am CST) 02 March 2022</font>"
   ]
  },
  {
   "cell_type": "code",
   "execution_count": 212,
   "id": "8d69cb25",
   "metadata": {},
   "outputs": [
    {
     "name": "stdout",
     "output_type": "stream",
     "text": [
      "[0.0, 0.0, 0.0, 0.0, 0.0, 0.0, 162.1, 395.9, 621.4, 811.7, 953.0, 1032.0, 1047.0, 987.0, 865.0, 688.0, 474.4, 243.1, 38.1, 0.0, 0.0, 0.0, 0.0, 0.0, 0.0]\n"
     ]
    }
   ],
   "source": [
    "#1 hr hrrr:\n",
    "with open('hrrr_f01_Gadsden_AL.txt') as f:\n",
    "    lst=[line.split()[3] for line in f]\n",
    "    temp=[]\n",
    "    for i in lst:\n",
    "        new=i.replace(',',\"\")\n",
    "        temp.append(new)\n",
    "    temp.pop(0)\n",
    "    temp=[float(x) for x in temp]\n",
    "    temp=temp[2789:2814]\n",
    "#     x = np.array(temp)\n",
    "#     temp = ma.masked_array(x, mask=[0, 0, 0, 0, 0,0,0,0,1,0,0,0,0,0,0,0,0,0,0,0,0,0,0,0,0])\n",
    "    #temp=temp[2015:2063]\n",
    "    print(temp)\n",
    "    #print(len(temp))\n",
    "#full time period is [2015:2112]"
   ]
  },
  {
   "cell_type": "code",
   "execution_count": 213,
   "id": "8090f870",
   "metadata": {},
   "outputs": [
    {
     "name": "stdout",
     "output_type": "stream",
     "text": [
      "[0.0, 0.0, 0.0, 0.0, 0.0, 0.0, 155.0, 376.0, 593.5, 777.0, 903.0, 971.5, 978.0, 923.5, 811.0, 647.0, 442.5, 220.0, 32.5, 0.0, 0.0, 0.0, 0.0, 0.0, 0.0]\n"
     ]
    }
   ],
   "source": [
    "#Air Temp CRN:\n",
    "with open('CRNS0101-05-2022-AL_Gadsden_19_N.txt') as f:\n",
    "    lst=[line.split()[10] for line in f]\n",
    "    \n",
    "    a=(int(lst[33479])+int(lst[33480]))/2\n",
    "    b=(int(lst[33491])+int(lst[33492]))/2\n",
    "    c=(int(lst[33503])+int(lst[33504]))/2\n",
    "    d=(int(lst[33515])+int(lst[33516]))/2\n",
    "    e=(int(lst[33527])+int(lst[33528]))/2\n",
    "    f=(int(lst[33539])+int(lst[33540]))/2\n",
    "    g=(int(lst[33551])+int(lst[33552]))/2\n",
    "    h=(int(lst[33563])+int(lst[33564]))/2\n",
    "    i=(int(lst[33575])+int(lst[33576]))/2\n",
    "    j=(int(lst[33587])+int(lst[33588]))/2\n",
    "    k=(int(lst[33599])+int(lst[33600]))/2\n",
    "    l=(int(lst[33611])+int(lst[33612]))/2\n",
    "    m=(int(lst[33623])+int(lst[33624]))/2\n",
    "    n=(int(lst[33635])+int(lst[33636]))/2\n",
    "    o=(int(lst[33647])+int(lst[33648]))/2\n",
    "    p=(int(lst[33659])+int(lst[33660]))/2\n",
    "    q=(int(lst[33671])+int(lst[33672]))/2\n",
    "    r=(int(lst[33683])+int(lst[33684]))/2\n",
    "    s=(int(lst[33695])+int(lst[33696]))/2\n",
    "    t=(int(lst[33707])+int(lst[33708]))/2\n",
    "    u=(int(lst[33719])+int(lst[33720]))/2\n",
    "    v=(int(lst[33731])+int(lst[33732]))/2\n",
    "    w=(int(lst[33743])+int(lst[33744]))/2\n",
    "    x=(int(lst[33755])+int(lst[33756]))/2\n",
    "    y=(int(lst[33767])+int(lst[33768]))/2\n",
    "    \n",
    "    temp_crn=[a,b,c,d,e,f,g,h,i,j,k,l,m,n,o,p,q,r,s,t,u,v,w,x,y]\n",
    "    print(temp_crn)"
   ]
  },
  {
   "cell_type": "code",
   "execution_count": 214,
   "id": "8b6d3e05",
   "metadata": {},
   "outputs": [
    {
     "name": "stdout",
     "output_type": "stream",
     "text": [
      "[0.0, 0.0, 0.0, 0.0, 0.0, 0.0, 7.099999999999994, 19.899999999999977, 27.899999999999977, 34.700000000000045, 50.0, 60.5, 69.0, 63.5, 54.0, 41.0, 31.899999999999977, 23.099999999999994, 5.600000000000001, 0.0, 0.0, 0.0, 0.0, 0.0, 0.0]\n"
     ]
    }
   ],
   "source": [
    "difference6_gad = []\n",
    "\n",
    "zip_object = zip(temp, temp_crn)\n",
    "for temp_i, temp_crn_i in zip_object:\n",
    "    difference6_gad.append(temp_i-temp_crn_i)\n",
    "\n",
    "print(difference6_gad)"
   ]
  },
  {
   "cell_type": "markdown",
   "id": "a0cf3d12",
   "metadata": {},
   "source": [
    "<font size=\"3\">Newton, GA: 0600 UTC (12:00 am CST) 01 March 2022-0600 UTC (12:00 am CST) 02 March 2022</font>"
   ]
  },
  {
   "cell_type": "code",
   "execution_count": 215,
   "id": "3fd04e58",
   "metadata": {},
   "outputs": [
    {
     "name": "stdout",
     "output_type": "stream",
     "text": [
      "[0.0, 0.0, 0.0, 0.0, 0.0, 0.0, 155.5, 379.2, 609.3, 801.2, 943.0, 1018.0, 1022.0, 960.0, 834.0, 653.0, 434.2, 202.6, 13.6, 0.0, 0.0, 0.0, 0.0, 0.0, 0.0]\n"
     ]
    }
   ],
   "source": [
    "#1 hr hrrr:\n",
    "with open('hrrr_f01_Newton_GA.txt') as f:\n",
    "    lst=[line.split()[3] for line in f]\n",
    "    temp=[]\n",
    "    for i in lst:\n",
    "        new=i.replace(',',\"\")\n",
    "        temp.append(new)\n",
    "    temp.pop(0)\n",
    "    temp=[float(x) for x in temp]\n",
    "    temp=temp[2789:2814]\n",
    "    #temp=temp[2015:2063]\n",
    "    print(temp)\n",
    "    #print(len(temp))\n",
    "#full time period is [2015:2112]"
   ]
  },
  {
   "cell_type": "code",
   "execution_count": 216,
   "id": "b2f733b9",
   "metadata": {},
   "outputs": [
    {
     "name": "stdout",
     "output_type": "stream",
     "text": [
      "[0.0, 0.0, 0.0, 0.0, 0.0, 0.0, 145.0, 372.5, 597.0, 774.0, 889.5, 963.0, 960.0, 904.0, 788.5, 621.5, 390.5, 166.0, 1.5, 0.0, 0.0, 0.0, 0.0, 0.0, 0.0]\n"
     ]
    }
   ],
   "source": [
    "#Air Temp CRN:\n",
    "with open('CRNS0101-05-2022-GA_Newton_11_SW.txt') as f:\n",
    "    lst=[line.split()[10] for line in f]\n",
    "    \n",
    "    a=(int(lst[33479])+int(lst[33480]))/2\n",
    "    b=(int(lst[33491])+int(lst[33492]))/2\n",
    "    c=(int(lst[33503])+int(lst[33504]))/2\n",
    "    d=(int(lst[33515])+int(lst[33516]))/2\n",
    "    e=(int(lst[33527])+int(lst[33528]))/2\n",
    "    f=(int(lst[33539])+int(lst[33540]))/2\n",
    "    g=(int(lst[33551])+int(lst[33552]))/2\n",
    "    h=(int(lst[33563])+int(lst[33564]))/2\n",
    "    i=(int(lst[33575])+int(lst[33576]))/2\n",
    "    j=(int(lst[33587])+int(lst[33588]))/2\n",
    "    k=(int(lst[33599])+int(lst[33600]))/2\n",
    "    l=(int(lst[33611])+int(lst[33612]))/2\n",
    "    m=(int(lst[33623])+int(lst[33624]))/2\n",
    "    n=(int(lst[33635])+int(lst[33636]))/2\n",
    "    o=(int(lst[33647])+int(lst[33648]))/2\n",
    "    p=(int(lst[33659])+int(lst[33660]))/2\n",
    "    q=(int(lst[33671])+int(lst[33672]))/2\n",
    "    r=(int(lst[33683])+int(lst[33684]))/2\n",
    "    s=(int(lst[33695])+int(lst[33696]))/2\n",
    "    t=(int(lst[33707])+int(lst[33708]))/2\n",
    "    u=(int(lst[33719])+int(lst[33720]))/2\n",
    "    v=(int(lst[33731])+int(lst[33732]))/2\n",
    "    w=(int(lst[33743])+int(lst[33744]))/2\n",
    "    x=(int(lst[33755])+int(lst[33756]))/2\n",
    "    y=(int(lst[33767])+int(lst[33768]))/2\n",
    "    \n",
    "    temp_crn=[a,b,c,d,e,f,g,h,i,j,k,l,m,n,o,p,q,r,s,t,u,v,w,x,y]\n",
    "    print(temp_crn)"
   ]
  },
  {
   "cell_type": "code",
   "execution_count": 217,
   "id": "53f1a23a",
   "metadata": {},
   "outputs": [
    {
     "name": "stdout",
     "output_type": "stream",
     "text": [
      "[0.0, 0.0, 0.0, 0.0, 0.0, 0.0, 10.5, 6.699999999999989, 12.299999999999955, 27.200000000000045, 53.5, 55.0, 62.0, 56.0, 45.5, 31.5, 43.69999999999999, 36.599999999999994, 12.1, 0.0, 0.0, 0.0, 0.0, 0.0, 0.0]\n"
     ]
    }
   ],
   "source": [
    "difference6_newt = []\n",
    "\n",
    "zip_object = zip(temp, temp_crn)\n",
    "for temp_i, temp_crn_i in zip_object:\n",
    "    difference6_newt.append(temp_i-temp_crn_i)\n",
    "\n",
    "print(difference6_newt)"
   ]
  },
  {
   "cell_type": "code",
   "execution_count": 218,
   "id": "8a134c48",
   "metadata": {},
   "outputs": [
    {
     "name": "stdout",
     "output_type": "stream",
     "text": [
      "25\n"
     ]
    }
   ],
   "source": [
    "hour=[6,7,8,9,10,11,12,13,14,15,16,17,18,19,20,21,22,23,0,1,2,3,4,5,6]\n",
    "print(len(hour))"
   ]
  },
  {
   "cell_type": "code",
   "execution_count": 219,
   "id": "45def68f",
   "metadata": {},
   "outputs": [
    {
     "name": "stdout",
     "output_type": "stream",
     "text": [
      "range(0, 25)\n"
     ]
    }
   ],
   "source": [
    "xs = range(len(hour))\n",
    "print(xs)"
   ]
  },
  {
   "cell_type": "code",
   "execution_count": 220,
   "id": "d5fd370b",
   "metadata": {},
   "outputs": [
    {
     "name": "stdout",
     "output_type": "stream",
     "text": [
      "[ 0.          0.          0.          0.          0.          0.\n",
      " -0.09090909  7.87272727  9.71818182 35.06363636 29.77272727 37.5\n",
      " 44.5        39.5        36.42727273 25.81818182 18.94545455 28.40909091\n",
      " -0.25454545  0.          0.          0.          0.          0.\n",
      "  0.        ]\n",
      "[ 0.          0.          0.          0.          0.          0.\n",
      "  0.28747979 23.05117196 41.65326176 71.00457441 47.80100971 27.10159338\n",
      " 25.57502333 24.64633478 19.13407674 19.57000572 20.90242977 47.16179992\n",
      "  0.55491791  0.          0.          0.          0.          0.\n",
      "  0.        ]\n"
     ]
    },
    {
     "data": {
      "text/plain": [
       "25"
      ]
     },
     "execution_count": 220,
     "metadata": {},
     "output_type": "execute_result"
    }
   ],
   "source": [
    "c1 = np.array([difference1_sal,difference1_bat,difference1_laf,difference1_mon,difference1_hol,difference1_new,difference1_fai,difference1_sel,difference1_bow,difference1_gad,difference1_newt])\n",
    "c1=np.nanmean(c1, axis=0)\n",
    "print(c1)\n",
    "len(c1)\n",
    "\n",
    "b1 = np.array([difference1_sal,difference1_bat,difference1_laf,difference1_mon,difference1_hol,difference1_new,difference1_fai,difference1_sel,difference1_bow,difference1_gad,difference1_newt])\n",
    "b1=np.nanstd(b1, axis=0)\n",
    "print(b1)\n",
    "len(b1)"
   ]
  },
  {
   "cell_type": "code",
   "execution_count": 221,
   "id": "7d6e3e43",
   "metadata": {},
   "outputs": [
    {
     "data": {
      "image/png": "[encoded data removed]",
      "text/plain": [
       "<Figure size 792x396 with 1 Axes>"
      ]
     },
     "metadata": {},
     "output_type": "display_data"
    }
   ],
   "source": [
    "plt.style.use('seaborn-whitegrid')\n",
    "plt.rcParams[\"figure.figsize\"] = [11.00, 5.50]\n",
    "plt.rcParams[\"figure.autolayout\"] = True\n",
    "plt.yticks(np.arange(-300, 310, 100.0))\n",
    "plt.ylim(-300, 300)\n",
    "# c[6]=None\n",
    "# b[6]=None\n",
    "\n",
    "plt.plot(xs,c1,c=\"blue\")\n",
    "plt.errorbar(xs,c1,c=\"b\",yerr=b1,linestyle='None', marker='s')\n",
    "# c[6]=None\n",
    "# b[6]=None\n",
    "\n",
    "plt.title(\"1-hr Avg. MBE All Stations\")\n",
    "plt.xlabel(\"UTC Hour\")\n",
    "plt.ylabel(\"MBE Incoming Radiation (W/m^2)\")\n",
    "#plt.plot(hour,c)\n",
    "#plt.errorbar(hour,c,yerr=b,ecolor='r',elinewidth=5,fmt='s',color='k')\n",
    "#plt.grid()\n",
    "plt.xticks(xs, hour)\n",
    "plt.show()\n",
    "#plt.axvspan(-4, 4, color='green', alpha=0.2, lw=0)"
   ]
  },
  {
   "cell_type": "code",
   "execution_count": 222,
   "id": "3931d44b",
   "metadata": {},
   "outputs": [
    {
     "name": "stdout",
     "output_type": "stream",
     "text": [
      "[ 0.          0.          0.          0.          0.          0.\n",
      " -0.5         5.71818182 16.14545455 32.77272727 30.97272727 38.96363636\n",
      " 44.5        45.54545455 41.5        32.42727273 21.27272727 28.64545455\n",
      "  3.20909091  0.          0.          0.          0.          0.\n",
      "  0.        ]\n",
      "[ 0.          0.          0.          0.          0.          0.\n",
      "  1.58113883 32.04785678 60.58480703 68.64407663 30.80251144 27.1695442\n",
      " 25.01999201 23.00835278 20.46948949 19.23269427 16.55251098 55.90560817\n",
      "  4.67536183  0.          0.          0.          0.          0.\n",
      "  0.        ]\n"
     ]
    },
    {
     "data": {
      "text/plain": [
       "25"
      ]
     },
     "execution_count": 222,
     "metadata": {},
     "output_type": "execute_result"
    }
   ],
   "source": [
    "c2 = np.array([difference2_sal,difference2_bat,difference2_laf,difference2_mon,difference2_hol,difference2_new,difference2_fai,difference2_sel,difference2_bow,difference2_gad,difference2_newt])\n",
    "c2=np.nanmean(c2, axis=0)\n",
    "print(c2)\n",
    "len(c2)\n",
    "\n",
    "b2 = np.array([difference2_sal,difference2_bat,difference2_laf,difference2_mon,difference2_hol,difference2_new,difference2_fai,difference2_sel,difference2_bow,difference2_gad,difference2_newt])\n",
    "b2=np.nanstd(b2, axis=0)\n",
    "print(b2)\n",
    "len(b2)"
   ]
  },
  {
   "cell_type": "code",
   "execution_count": 223,
   "id": "4c8ac8a3",
   "metadata": {},
   "outputs": [
    {
     "data": {
      "image/png": "[encoded data removed]",
      "text/plain": [
       "<Figure size 792x396 with 1 Axes>"
      ]
     },
     "metadata": {},
     "output_type": "display_data"
    }
   ],
   "source": [
    "plt.style.use('seaborn-whitegrid')\n",
    "plt.rcParams[\"figure.figsize\"] = [11.00, 5.50]\n",
    "plt.rcParams[\"figure.autolayout\"] = True\n",
    "plt.yticks(np.arange(-300, 310, 100.0))\n",
    "plt.ylim(-300, 300)\n",
    "# c[6]=None\n",
    "# b[6]=None\n",
    "\n",
    "plt.plot(xs,c2,c=\"r\")\n",
    "plt.errorbar(xs,c2,c=\"r\",yerr=b2,linestyle='None', marker='s')\n",
    "# c[6]=None\n",
    "# b[6]=None\n",
    "\n",
    "plt.title(\"1-hr Avg. MBE All Stations\")\n",
    "plt.xlabel(\"UTC Hour\")\n",
    "plt.ylabel(\"MBE Incoming Radiation (W/m^2)\")\n",
    "#plt.plot(hour,c)\n",
    "#plt.errorbar(hour,c,yerr=b,ecolor='r',elinewidth=5,fmt='s',color='k')\n",
    "#plt.grid()\n",
    "plt.xticks(xs, hour)\n",
    "plt.show()\n",
    "#plt.axvspan(-4, 4, color='green', alpha=0.2, lw=0)"
   ]
  },
  {
   "cell_type": "code",
   "execution_count": 224,
   "id": "e7aee5e0",
   "metadata": {},
   "outputs": [
    {
     "name": "stdout",
     "output_type": "stream",
     "text": [
      "[ 0.          0.          0.          0.          0.          0.\n",
      " -6.68181818 -7.97272727  6.04545455 20.45454545 32.11818182 41.26363636\n",
      " 52.86363636 53.5        44.54545455 39.5        41.72727273 37.29090909\n",
      "  5.81818182  0.          0.          0.          0.          0.\n",
      "  0.        ]\n",
      "[ 0.          0.          0.          0.          0.          0.\n",
      " 12.08167795 19.71617199 20.84433054 23.51240924 24.8446745  21.13116065\n",
      " 18.27951027 21.39349944 21.53691814 15.69325275 36.11625398 57.12783837\n",
      "  7.92095244  0.          0.          0.          0.          0.\n",
      "  0.        ]\n"
     ]
    },
    {
     "data": {
      "text/plain": [
       "25"
      ]
     },
     "execution_count": 224,
     "metadata": {},
     "output_type": "execute_result"
    }
   ],
   "source": [
    "c3 = np.array([difference3_sal,difference3_bat,difference3_laf,difference3_mon,difference3_hol,difference3_new,difference3_fai,difference3_sel,difference3_bow,difference3_gad,difference3_newt])\n",
    "c3=np.nanmean(c3, axis=0)\n",
    "print(c3)\n",
    "len(c3)\n",
    "\n",
    "b3 = np.array([difference3_sal,difference3_bat,difference3_laf,difference3_mon,difference3_hol,difference3_new,difference3_fai,difference3_sel,difference3_bow,difference3_gad,difference3_newt])\n",
    "b3=np.nanstd(b3, axis=0)\n",
    "print(b3)\n",
    "len(b3)"
   ]
  },
  {
   "cell_type": "code",
   "execution_count": 225,
   "id": "00a5e783",
   "metadata": {},
   "outputs": [
    {
     "data": {
      "image/png": "[encoded data removed]",
      "text/plain": [
       "<Figure size 792x396 with 1 Axes>"
      ]
     },
     "metadata": {},
     "output_type": "display_data"
    }
   ],
   "source": [
    "plt.style.use('seaborn-whitegrid')\n",
    "plt.rcParams[\"figure.figsize\"] = [11.00, 5.50]\n",
    "plt.rcParams[\"figure.autolayout\"] = True\n",
    "plt.yticks(np.arange(-300, 310, 100.0))\n",
    "plt.ylim(-300, 300)\n",
    "# c[6]=None\n",
    "# b[6]=None\n",
    "\n",
    "plt.plot(xs,c3,c=\"green\")\n",
    "plt.errorbar(xs,c3,c=\"green\",yerr=b3,linestyle='None', marker='s')\n",
    "# c[6]=None\n",
    "# b[6]=None\n",
    "\n",
    "plt.title(\"1-hr Avg. MBE All Stations\")\n",
    "plt.xlabel(\"UTC Hour\")\n",
    "plt.ylabel(\"MBE Incoming Radiation (W/m^2)\")\n",
    "#plt.plot(hour,c)\n",
    "#plt.errorbar(hour,c,yerr=b,ecolor='r',elinewidth=5,fmt='s',color='k')\n",
    "#plt.grid()\n",
    "plt.xticks(xs, hour)\n",
    "plt.show()\n",
    "#plt.axvspan(-4, 4, color='green', alpha=0.2, lw=0)"
   ]
  },
  {
   "cell_type": "code",
   "execution_count": 226,
   "id": "b2d7f7dd",
   "metadata": {},
   "outputs": [
    {
     "name": "stdout",
     "output_type": "stream",
     "text": [
      "[ 0.          0.          0.          0.          0.          0.\n",
      " -3.39090909 -0.88181818  6.74545455 16.83636364 29.84545455 39.40909091\n",
      " 43.36363636 53.31818182 57.90909091 32.18181818 37.08181818 91.86363636\n",
      " 15.22727273  0.          0.          0.          0.          0.\n",
      "  0.        ]\n",
      "[ 0.          0.          0.          0.          0.          0.\n",
      "  6.73166932 22.62274874 25.05758327 28.4069541  23.15294459 20.45262617\n",
      " 21.25825071 34.13560706 53.70450217 17.17592492 27.09293159 59.63734755\n",
      " 19.13227121  0.          0.          0.          0.          0.\n",
      "  0.        ]\n"
     ]
    },
    {
     "data": {
      "text/plain": [
       "25"
      ]
     },
     "execution_count": 226,
     "metadata": {},
     "output_type": "execute_result"
    }
   ],
   "source": [
    "c4 = np.array([difference4_sal,difference4_bat,difference4_laf,difference4_mon,difference4_hol,difference4_new,difference4_fai,difference4_sel,difference4_bow,difference4_gad,difference4_newt])\n",
    "c4=np.nanmean(c4, axis=0)\n",
    "print(c4)\n",
    "len(c4)\n",
    "\n",
    "b4 = np.array([difference4_sal,difference4_bat,difference4_laf,difference4_mon,difference4_hol,difference4_new,difference4_fai,difference4_sel,difference4_bow,difference4_gad,difference4_newt])\n",
    "b4=np.nanstd(b4, axis=0)\n",
    "print(b4)\n",
    "len(b4)"
   ]
  },
  {
   "cell_type": "code",
   "execution_count": 227,
   "id": "e70a6cef",
   "metadata": {},
   "outputs": [
    {
     "data": {
      "image/png": "[encoded data removed]",
      "text/plain": [
       "<Figure size 792x396 with 1 Axes>"
      ]
     },
     "metadata": {},
     "output_type": "display_data"
    }
   ],
   "source": [
    "plt.style.use('seaborn-whitegrid')\n",
    "plt.rcParams[\"figure.figsize\"] = [11.00, 5.50]\n",
    "plt.rcParams[\"figure.autolayout\"] = True\n",
    "plt.yticks(np.arange(-300, 310, 100.0))\n",
    "plt.ylim(-300, 300)\n",
    "# c[6]=None\n",
    "# b[6]=None\n",
    "\n",
    "plt.plot(xs,c4,c=\"orange\")\n",
    "plt.errorbar(xs,c4,c=\"orange\",yerr=b4,linestyle='None', marker='s')\n",
    "# c[6]=None\n",
    "# b[6]=None\n",
    "\n",
    "plt.title(\"1-hr Avg. MBE All Stations\")\n",
    "plt.xlabel(\"UTC Hour\")\n",
    "plt.ylabel(\"MBE Incoming Radiation (W/m^2)\")\n",
    "#plt.plot(hour,c)\n",
    "#plt.errorbar(hour,c,yerr=b,ecolor='r',elinewidth=5,fmt='s',color='k')\n",
    "#plt.grid()\n",
    "plt.xticks(xs, hour)\n",
    "plt.show()\n",
    "#plt.axvspan(-4, 4, color='green', alpha=0.2, lw=0)"
   ]
  },
  {
   "cell_type": "code",
   "execution_count": 228,
   "id": "9d950af1",
   "metadata": {},
   "outputs": [
    {
     "name": "stdout",
     "output_type": "stream",
     "text": [
      "[ 0.          0.          0.          0.          0.          0.\n",
      " -1.35454545 14.90909091 23.78181818 32.7        48.98181818 66.36363636\n",
      " 57.45454545 53.86363636 47.5        40.86363636 44.54545455 64.66363636\n",
      " 22.72727273  0.          0.          0.          0.          0.\n",
      "  0.        ]\n",
      "[ 0.          0.          0.          0.          0.          0.\n",
      " 10.71128238 18.92388844 26.87231824 25.77218374 31.99513651 33.56546582\n",
      " 20.77307539 13.51949923 10.79983165 11.36399999 29.90090797 73.25480155\n",
      " 22.09027309  0.          0.          0.          0.          0.\n",
      "  0.        ]\n"
     ]
    },
    {
     "data": {
      "text/plain": [
       "25"
      ]
     },
     "execution_count": 228,
     "metadata": {},
     "output_type": "execute_result"
    }
   ],
   "source": [
    "# data = np.array([difference1_sal,difference1_sel,difference1_mon])\n",
    "# np.ma.average(data, axis=0)\n",
    "c5 = np.array([difference5_sal,difference5_bat,difference5_laf,difference5_mon,difference5_hol,difference5_new,difference5_fai,difference5_sel,difference5_bow,difference5_gad,difference5_newt])\n",
    "c5=np.nanmean(c5, axis=0)\n",
    "print(c5)\n",
    "len(c5)\n",
    "\n",
    "b5 = np.array([difference5_sal,difference5_bat,difference5_laf,difference5_mon,difference5_hol,difference5_new,difference5_fai,difference5_sel,difference5_bow,difference5_gad,difference5_newt])\n",
    "b5=np.nanstd(b5, axis=0)\n",
    "print(b5)\n",
    "len(b5)"
   ]
  },
  {
   "cell_type": "code",
   "execution_count": 229,
   "id": "ccd6d564",
   "metadata": {},
   "outputs": [
    {
     "data": {
      "image/png": "[encoded data removed]",
      "text/plain": [
       "<Figure size 792x396 with 1 Axes>"
      ]
     },
     "metadata": {},
     "output_type": "display_data"
    }
   ],
   "source": [
    "plt.style.use('seaborn-whitegrid')\n",
    "plt.rcParams[\"figure.figsize\"] = [11.00, 5.50]\n",
    "plt.rcParams[\"figure.autolayout\"] = True\n",
    "plt.yticks(np.arange(-300, 310, 100.0))\n",
    "plt.ylim(-300, 300)\n",
    "# c[6]=None\n",
    "# b[6]=None\n",
    "\n",
    "plt.plot(xs,c5,c=\"m\")\n",
    "plt.errorbar(xs,c5,c=\"m\",yerr=b5,linestyle='None', marker='s')\n",
    "# c[6]=None\n",
    "# b[6]=None\n",
    "\n",
    "plt.title(\"1-hr Avg. MBE All Stations\")\n",
    "plt.xlabel(\"UTC Hour\")\n",
    "plt.ylabel(\"MBE Incoming Radiation (W/m^2)\")\n",
    "#plt.plot(hour,c)\n",
    "#plt.errorbar(hour,c,yerr=b,ecolor='r',elinewidth=5,fmt='s',color='k')\n",
    "#plt.grid()\n",
    "plt.xticks(xs, hour)\n",
    "plt.show()\n",
    "#plt.axvspan(-4, 4, color='green', alpha=0.2, lw=0)"
   ]
  },
  {
   "cell_type": "code",
   "execution_count": 230,
   "id": "6a1cf932",
   "metadata": {},
   "outputs": [
    {
     "name": "stdout",
     "output_type": "stream",
     "text": [
      "[ 0.          0.          0.          0.          0.         -0.13636364\n",
      "  9.95454545 11.98181818 13.22727273 26.78181818 41.59090909 48.72727273\n",
      " 55.40909091 51.81818182 44.45454545 36.13636364 29.2        66.96363636\n",
      " 31.7         0.          0.          0.          0.          0.\n",
      "  0.        ]\n",
      "[ 0.          0.          0.          0.          0.          0.43121968\n",
      " 11.16539814 22.46964895 21.22892927 20.9342181  19.28826561 16.57813954\n",
      " 16.26320188 16.88903992 15.91233733 14.32907234 17.22382071 82.42184477\n",
      " 29.66482459  0.          0.          0.          0.          0.\n",
      "  0.        ]\n"
     ]
    },
    {
     "data": {
      "text/plain": [
       "25"
      ]
     },
     "execution_count": 230,
     "metadata": {},
     "output_type": "execute_result"
    }
   ],
   "source": [
    "# data = np.array([difference1_sal,difference1_sel,difference1_mon])\n",
    "# np.ma.average(data, axis=0)\n",
    "c6 = np.array([difference6_sal,difference6_bat,difference6_laf,difference6_mon,difference6_hol,difference6_new,difference6_fai,difference6_sel,difference6_bow,difference6_gad,difference6_newt])\n",
    "c6=np.nanmean(c6, axis=0)\n",
    "print(c6)\n",
    "len(c6)\n",
    "\n",
    "b6 = np.array([difference6_sal,difference6_bat,difference6_laf,difference6_mon,difference6_hol,difference6_new,difference6_fai,difference6_sel,difference6_bow,difference6_gad,difference6_newt])\n",
    "b6=np.nanstd(b6, axis=0)\n",
    "print(b6)\n",
    "len(b6)"
   ]
  },
  {
   "cell_type": "code",
   "execution_count": 231,
   "id": "11ff266d",
   "metadata": {},
   "outputs": [
    {
     "data": {
      "image/png": "[encoded data removed]",
      "text/plain": [
       "<Figure size 792x396 with 1 Axes>"
      ]
     },
     "metadata": {},
     "output_type": "display_data"
    }
   ],
   "source": [
    "plt.style.use('seaborn-whitegrid')\n",
    "plt.rcParams[\"figure.figsize\"] = [11.00, 5.50]\n",
    "plt.rcParams[\"figure.autolayout\"] = True\n",
    "plt.yticks(np.arange(-300, 310, 100.0))\n",
    "plt.ylim(-300, 300)\n",
    "# c[6]=None\n",
    "# b[6]=None\n",
    "\n",
    "plt.plot(xs,c6,c=\"c\")\n",
    "plt.errorbar(xs,c6,c=\"c\",yerr=b6,linestyle='None', marker='s')\n",
    "# c[6]=None\n",
    "# b[6]=None\n",
    "\n",
    "plt.title(\"1-hr Avg. MBE All Stations\")\n",
    "plt.xlabel(\"UTC Hour\")\n",
    "plt.ylabel(\"MBE Incoming Radiation (W/m^2)\")\n",
    "#plt.plot(hour,c)\n",
    "#plt.errorbar(hour,c,yerr=b,ecolor='r',elinewidth=5,fmt='s',color='k')\n",
    "#plt.grid()\n",
    "plt.xticks(xs, hour)\n",
    "plt.show()\n",
    "#plt.axvspan(-4, 4, color='green', alpha=0.2, lw=0)"
   ]
  },
  {
   "cell_type": "code",
   "execution_count": 232,
   "id": "240eafe4",
   "metadata": {},
   "outputs": [
    {
     "data": {
      "image/png": "[encoded data removed]",
      "text/plain": [
       "<Figure size 792x396 with 1 Axes>"
      ]
     },
     "metadata": {},
     "output_type": "display_data"
    }
   ],
   "source": [
    "plt.style.use('seaborn-whitegrid')\n",
    "plt.rcParams[\"figure.figsize\"] = [11.00, 5.50]\n",
    "plt.rcParams[\"figure.autolayout\"] = True\n",
    "plt.yticks(np.arange(-200, 210, 100.0))\n",
    "plt.ylim(-200, 200)\n",
    "\n",
    "plt.plot(xs,c1,c=\"b\",label=\"IOP 1\")\n",
    "plt.errorbar(xs,c1,c=\"b\",yerr=b1,linestyle='None', marker='s')\n",
    "\n",
    "plt.plot(xs,c2,c=\"r\",label=\"IOP 2\")\n",
    "plt.errorbar(xs,c2,c=\"r\",yerr=b2,linestyle='None', marker='s')\n",
    "\n",
    "plt.plot(xs,c3,c=\"green\")\n",
    "plt.errorbar(xs,c3,c=\"green\",yerr=b3,linestyle='None', marker='s')\n",
    "\n",
    "plt.plot(xs,c4,c=\"orange\")\n",
    "plt.errorbar(xs,c4,c=\"orange\",yerr=b4,linestyle='None', marker='s')\n",
    "\n",
    "plt.plot(xs,c5,c=\"m\")\n",
    "plt.errorbar(xs,c5,c=\"m\",yerr=b5,linestyle='None', marker='s')\n",
    "\n",
    "plt.plot(xs,c6,c=\"c\")\n",
    "plt.errorbar(xs,c6,c=\"c\",yerr=b6,linestyle='None', marker='s')\n",
    "\n",
    "plt.title(\"1-hr Avg. MBE All Stations\")\n",
    "plt.xlabel(\"UTC Hour\")\n",
    "plt.ylabel(\"MBE Incoming Radiation (W/m^2)\")\n",
    "#plt.plot(hour,c)\n",
    "#plt.errorbar(hour,c,yerr=b,ecolor='r',elinewidth=5,fmt='s',color='k')\n",
    "#plt.grid()\n",
    "plt.xticks(xs, hour)\n",
    "#plt.axvspan(-4, 4, color='green', alpha=0.2, lw=0)\n",
    "plt.legend([\"IOP 1\", \"IOP 2\",\"IOP 3\",\"IOP 4\",\"IOP 5\",\"IOP 6\"], loc =\"lower right\")\n",
    "plt.show()"
   ]
  }
 ],
 "metadata": {
  "kernelspec": {
   "display_name": "Python 3 (ipykernel)",
   "language": "python",
   "name": "python3"
  },
  "language_info": {
   "codemirror_mode": {
    "name": "ipython",
    "version": 3
   },
   "file_extension": ".py",
   "mimetype": "text/x-python",
   "name": "python",
   "nbconvert_exporter": "python",
   "pygments_lexer": "ipython3",
   "version": "3.9.12"
  }
 },
 "nbformat": 4,
 "nbformat_minor": 5
}
