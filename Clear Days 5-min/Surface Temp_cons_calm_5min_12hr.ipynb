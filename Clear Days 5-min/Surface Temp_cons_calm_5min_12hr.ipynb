{
 "cells": [
  {
   "cell_type": "code",
   "execution_count": 1,
   "id": "83d28093",
   "metadata": {},
   "outputs": [],
   "source": [
    "import numpy as np\n",
    "import matplotlib.pyplot as plt\n",
    "import math\n",
    "import numpy.ma as ma"
   ]
  },
  {
   "cell_type": "markdown",
   "id": "18ad22a0",
   "metadata": {},
   "source": [
    "<font size=\"3\">Salem, MO: 0600 UTC (12:00 am CST) 01 March 2022-0600 UTC (12:00 am CST) 02 March 2022</font>"
   ]
  },
  {
   "cell_type": "code",
   "execution_count": 2,
   "id": "9d3b9481",
   "metadata": {},
   "outputs": [
    {
     "name": "stdout",
     "output_type": "stream",
     "text": [
      "[1.87, 1.17001, 0.76001, 0.429993, 0.0200195, 1.60001, 1.14999, 1.84, 5.19, 9.22, 12.7, 15.65, 18.72, 21.9, 22.88, 22.52, 21.44, 18.63, 13.92, 11.4, 10.23, 8.87, 8.07001, 7.27002, 6.81]\n",
      "25\n"
     ]
    }
   ],
   "source": [
    "#1 hr hrrr:\n",
    "with open('hrrr_f12_Salem_MO.txt') as f:\n",
    "    lst=[line.split()[4] for line in f]\n",
    "    temp=[]\n",
    "    for i in lst:\n",
    "        new=i.replace(',',\"\")\n",
    "        temp.append(new)\n",
    "    temp.pop(0)\n",
    "    temp=[float(x) for x in temp]\n",
    "    temp=temp[1410:1435]\n",
    "    #temp=temp[2015:2063]\n",
    "    print(temp)\n",
    "    print(len(temp))\n",
    "#full time period is [2015:2112]"
   ]
  },
  {
   "cell_type": "code",
   "execution_count": 3,
   "id": "e9d4dbcc",
   "metadata": {},
   "outputs": [
    {
     "name": "stdout",
     "output_type": "stream",
     "text": [
      "[-4.85, -5.4, -6.0, -5.55, -5.15, -2.2, -0.8500000000000001, -0.30000000000000004, 5.3, 12.3, 17.950000000000003, 22.450000000000003, 24.75, 25.049999999999997, 25.3, 23.75, 20.5, 15.100000000000001, 7.05, 3.75, 0.6499999999999999, -0.35, -0.6, -0.75, -0.7]\n"
     ]
    }
   ],
   "source": [
    "#Air Temp CRN:\n",
    "with open('CRNS0101-05-2022-MO_Salem_10_W.txt') as f:\n",
    "    lst=[line.split()[12] for line in f]\n",
    "\n",
    "    a=(float(lst[17063])+float(lst[17064]))/2\n",
    "    b=(float(lst[17075])+float(lst[17076]))/2\n",
    "    c=(float(lst[17087])+float(lst[17088]))/2\n",
    "    d=(float(lst[17099])+float(lst[17100]))/2\n",
    "    e=(float(lst[17111])+float(lst[17112]))/2\n",
    "    f=(float(lst[17123])+float(lst[17124]))/2\n",
    "    g=(float(lst[17135])+float(lst[17136]))/2\n",
    "    h=(float(lst[17147])+float(lst[17148]))/2\n",
    "    i=(float(lst[17159])+float(lst[17160]))/2\n",
    "    j=(float(lst[17171])+float(lst[17172]))/2\n",
    "    k=(float(lst[17183])+float(lst[17184]))/2\n",
    "    l=(float(lst[17195])+float(lst[17196]))/2\n",
    "    m=(float(lst[17207])+float(lst[17208]))/2\n",
    "    n=(float(lst[17219])+float(lst[17220]))/2\n",
    "    o=(float(lst[17231])+float(lst[17232]))/2\n",
    "    p=(float(lst[17243])+float(lst[17244]))/2\n",
    "    q=(float(lst[17255])+float(lst[17256]))/2\n",
    "    r=(float(lst[17267])+float(lst[17268]))/2\n",
    "    s=(float(lst[17279])+float(lst[17280]))/2\n",
    "    t=(float(lst[17291])+float(lst[17292]))/2\n",
    "    u=(float(lst[17303])+float(lst[17304]))/2\n",
    "    v=(float(lst[17315])+float(lst[17316]))/2\n",
    "    w=(float(lst[17327])+float(lst[17328]))/2\n",
    "    x=(float(lst[17339])+float(lst[17340]))/2\n",
    "    y=(float(lst[17351])+float(lst[17352]))/2\n",
    "    temp_crn=[a,b,c,d,e,f,g,h,i,j,k,l,m,n,o,p,q,r,s,t,u,v,w,x,y]\n",
    "    print(temp_crn)"
   ]
  },
  {
   "cell_type": "code",
   "execution_count": 4,
   "id": "1e9aed03-d99c-4045-812a-e26bcc99b84f",
   "metadata": {},
   "outputs": [
    {
     "name": "stdout",
     "output_type": "stream",
     "text": [
      "[6.72, 6.57001, 6.76001, 5.9799929999999994, 5.1700195, 3.8000100000000003, 1.9999900000000002, 2.14, -0.10999999999999943, -3.08, -5.2500000000000036, -6.8000000000000025, -6.030000000000001, -3.1499999999999986, -2.4200000000000017, -1.2300000000000004, 0.9400000000000013, 3.5299999999999976, 6.87, 7.65, 9.58, 9.219999999999999, 8.67001, 8.020019999999999, 7.51]\n"
     ]
    }
   ],
   "source": [
    "difference1_sal = []\n",
    "\n",
    "zip_object = zip(temp, temp_crn)\n",
    "for temp_i, temp_crn_i in zip_object:\n",
    "    difference1_sal.append(temp_i-temp_crn_i)\n",
    "\n",
    "print(difference1_sal)"
   ]
  },
  {
   "cell_type": "markdown",
   "id": "9043c519",
   "metadata": {},
   "source": [
    "<font size=\"3\">Batesville, AR: 0600 UTC (12:00 am CST) 01 March 2022-0600 UTC (12:00 am CST) 02 March 2022</font>"
   ]
  },
  {
   "cell_type": "code",
   "execution_count": 5,
   "id": "af395ecc",
   "metadata": {},
   "outputs": [
    {
     "name": "stdout",
     "output_type": "stream",
     "text": [
      "[3.26001, 3.04001, 2.36002, 1.89001, 1.57001, 1.01001, 0.779999, 0.440002, 4.78, 10.72, 14.84, 17.84, 19.89, 21.06, 20.79, 20.35, 19.16, 16.49, 12.2, 9.77002, 8.82001, 8.02002, 7.25, 6.73001, 6.20999]\n",
      "25\n"
     ]
    }
   ],
   "source": [
    "#1 hr hrrr:\n",
    "with open('hrrr_f12_Batesville_AR.txt') as f:\n",
    "    lst=[line.split()[4] for line in f]\n",
    "    temp=[]\n",
    "    for i in lst:\n",
    "        new=i.replace(',',\"\")\n",
    "        temp.append(new)\n",
    "    temp.pop(0)\n",
    "    temp=[float(x) for x in temp]\n",
    "    temp=temp[1410:1435]\n",
    "#     x = np.array(temp)\n",
    "#     temp = ma.masked_array(x, mask=[0, 0, 0, 0, 0,0,0,0,0,0,0,0,0,0,0,0,0,0,0,0,0,1,0,0,0])\n",
    "    #temp=temp[2015:2063]\n",
    "    print(temp)\n",
    "    print(len(temp))\n",
    "#full time period is [2015:2112]"
   ]
  },
  {
   "cell_type": "code",
   "execution_count": 6,
   "id": "5da1fd53",
   "metadata": {},
   "outputs": [
    {
     "name": "stdout",
     "output_type": "stream",
     "text": [
      "[-0.8, -1.4, -1.7000000000000002, -2.1500000000000004, -2.5, -2.55, -2.6500000000000004, -1.65, 3.8499999999999996, 12.45, 17.65, 22.15, 23.65, 23.6, 22.25, 21.1, 18.3, 14.600000000000001, 6.95, 7.55, 4.55, 2.55, 2.2, 1.35, 1.0]\n"
     ]
    }
   ],
   "source": [
    "#Air Temp CRN:\n",
    "with open('CRNS0101-05-2022-AR_Batesville_8_WNW.txt') as f:\n",
    "    lst=[line.split()[12] for line in f]\n",
    "    \n",
    "    a=(float(lst[17063])+float(lst[17064]))/2\n",
    "    b=(float(lst[17075])+float(lst[17076]))/2\n",
    "    c=(float(lst[17087])+float(lst[17088]))/2\n",
    "    d=(float(lst[17099])+float(lst[17100]))/2\n",
    "    e=(float(lst[17111])+float(lst[17112]))/2\n",
    "    f=(float(lst[17123])+float(lst[17124]))/2\n",
    "    g=(float(lst[17135])+float(lst[17136]))/2\n",
    "    h=(float(lst[17147])+float(lst[17148]))/2\n",
    "    i=(float(lst[17159])+float(lst[17160]))/2\n",
    "    j=(float(lst[17171])+float(lst[17172]))/2\n",
    "    k=(float(lst[17183])+float(lst[17184]))/2\n",
    "    l=(float(lst[17195])+float(lst[17196]))/2\n",
    "    m=(float(lst[17207])+float(lst[17208]))/2\n",
    "    n=(float(lst[17219])+float(lst[17220]))/2\n",
    "    o=(float(lst[17231])+float(lst[17232]))/2\n",
    "    p=(float(lst[17243])+float(lst[17244]))/2\n",
    "    q=(float(lst[17255])+float(lst[17256]))/2\n",
    "    r=(float(lst[17267])+float(lst[17268]))/2\n",
    "    s=(float(lst[17279])+float(lst[17280]))/2\n",
    "    t=(float(lst[17291])+float(lst[17292]))/2\n",
    "    u=(float(lst[17303])+float(lst[17304]))/2\n",
    "    v=(float(lst[17315])+float(lst[17316]))/2\n",
    "    w=(float(lst[17327])+float(lst[17328]))/2\n",
    "    x=(float(lst[17339])+float(lst[17340]))/2\n",
    "    y=(float(lst[17351])+float(lst[17352]))/2\n",
    "    temp_crn=[a,b,c,d,e,f,g,h,i,j,k,l,m,n,o,p,q,r,s,t,u,v,w,x,y]\n",
    "    print(temp_crn)"
   ]
  },
  {
   "cell_type": "code",
   "execution_count": 7,
   "id": "62a46873",
   "metadata": {},
   "outputs": [
    {
     "name": "stdout",
     "output_type": "stream",
     "text": [
      "[4.06001, 4.44001, 4.06002, 4.0400100000000005, 4.07001, 3.56001, 3.4299990000000005, 2.090002, 0.9300000000000006, -1.7299999999999986, -2.8099999999999987, -4.309999999999999, -3.759999999999998, -2.5400000000000027, -1.4600000000000009, -0.75, 0.8599999999999994, 1.889999999999997, 5.249999999999999, 2.2200200000000008, 4.27001, 5.470020000000001, 5.05, 5.38001, 5.20999]\n"
     ]
    }
   ],
   "source": [
    "difference1_bat = []\n",
    "\n",
    "zip_object = zip(temp, temp_crn)\n",
    "for temp_i, temp_crn_i in zip_object:\n",
    "    difference1_bat.append(temp_i-temp_crn_i)\n",
    "\n",
    "print(difference1_bat)"
   ]
  },
  {
   "cell_type": "markdown",
   "id": "2a2589df",
   "metadata": {},
   "source": [
    "<font size=\"3\">Lafayette, LA: 0600 UTC (12:00 am CST) 01 March 2022-0600 UTC (12:00 am CST) 02 March 2022</font>"
   ]
  },
  {
   "cell_type": "code",
   "execution_count": 8,
   "id": "3fd34af2",
   "metadata": {},
   "outputs": [
    {
     "name": "stdout",
     "output_type": "stream",
     "text": [
      "[7.41, 6.36002, 5.48001, 4.5, 3.63, 3.45001, 2.75, 2.73001, 8.39999, 15.55, 21.66, 25.53, 28.26, 29.91, 30.17, 29.2, 26.27, 22.37, 18.66, 14.58, 13.21, 12.23, 10.8, 9.61002, 8.73001]\n"
     ]
    }
   ],
   "source": [
    "#1 hr hrrr:\n",
    "with open('hrrr_f12_Lafayette_LA.txt') as f:\n",
    "    lst=[line.split()[4] for line in f]\n",
    "    temp=[]\n",
    "    for i in lst:\n",
    "        new=i.replace(',',\"\")\n",
    "        temp.append(new)\n",
    "    temp.pop(0)\n",
    "    temp=[float(x) for x in temp]\n",
    "    temp=temp[1410:1435]\n",
    "    #temp=temp[2015:2063]\n",
    "    print(temp)\n",
    "    #print(len(temp))\n",
    "#full time period is [2015:2112]"
   ]
  },
  {
   "cell_type": "code",
   "execution_count": 9,
   "id": "2aa0e7ac",
   "metadata": {},
   "outputs": [
    {
     "name": "stdout",
     "output_type": "stream",
     "text": [
      "[1.2000000000000002, 0.7, 0.3, 0.2, -0.1, -0.1, -0.25, 1.25, 9.65, 15.35, 21.6, 24.85, 25.6, 27.3, 27.700000000000003, 25.25, 22.5, 17.25, 8.399999999999999, 6.65, 7.449999999999999, 6.0, 3.9499999999999997, 3.25, 2.45]\n"
     ]
    }
   ],
   "source": [
    "#Air Temp CRN:\n",
    "with open('CRNS0101-05-2022-LA_Lafayette_13_SE.txt') as f:\n",
    "    lst=[line.split()[12] for line in f]\n",
    "    \n",
    "    a=(float(lst[17063])+float(lst[17064]))/2\n",
    "    b=(float(lst[17075])+float(lst[17076]))/2\n",
    "    c=(float(lst[17087])+float(lst[17088]))/2\n",
    "    d=(float(lst[17099])+float(lst[17100]))/2\n",
    "    e=(float(lst[17111])+float(lst[17112]))/2\n",
    "    f=(float(lst[17123])+float(lst[17124]))/2\n",
    "    g=(float(lst[17135])+float(lst[17136]))/2\n",
    "    h=(float(lst[17147])+float(lst[17148]))/2\n",
    "    i=(float(lst[17159])+float(lst[17160]))/2\n",
    "    j=(float(lst[17171])+float(lst[17172]))/2\n",
    "    k=(float(lst[17183])+float(lst[17184]))/2\n",
    "    l=(float(lst[17195])+float(lst[17196]))/2\n",
    "    m=(float(lst[17207])+float(lst[17208]))/2\n",
    "    n=(float(lst[17219])+float(lst[17220]))/2\n",
    "    o=(float(lst[17231])+float(lst[17232]))/2\n",
    "    p=(float(lst[17243])+float(lst[17244]))/2\n",
    "    q=(float(lst[17255])+float(lst[17256]))/2\n",
    "    r=(float(lst[17267])+float(lst[17268]))/2\n",
    "    s=(float(lst[17279])+float(lst[17280]))/2\n",
    "    t=(float(lst[17291])+float(lst[17292]))/2\n",
    "    u=(float(lst[17303])+float(lst[17304]))/2\n",
    "    v=(float(lst[17315])+float(lst[17316]))/2\n",
    "    w=(float(lst[17327])+float(lst[17328]))/2\n",
    "    x=(float(lst[17339])+float(lst[17340]))/2\n",
    "    y=(float(lst[17351])+float(lst[17352]))/2\n",
    "    temp_crn=[a,b,c,d,e,f,g,h,i,j,k,l,m,n,o,p,q,r,s,t,u,v,w,x,y]\n",
    "    print(temp_crn)"
   ]
  },
  {
   "cell_type": "code",
   "execution_count": 10,
   "id": "9b94d0f9",
   "metadata": {},
   "outputs": [
    {
     "name": "stdout",
     "output_type": "stream",
     "text": [
      "[6.21, 5.660019999999999, 5.18001, 4.3, 3.73, 3.55001, 3.0, 1.48001, -1.2500099999999996, 0.20000000000000107, 0.05999999999999872, 0.6799999999999997, 2.66, 2.6099999999999994, 2.469999999999999, 3.9499999999999993, 3.7699999999999996, 5.120000000000001, 10.260000000000002, 7.93, 5.760000000000002, 6.23, 6.850000000000001, 6.3600200000000005, 6.28001]\n"
     ]
    }
   ],
   "source": [
    "difference1_laf = []\n",
    "\n",
    "zip_object = zip(temp, temp_crn)\n",
    "for temp_i, temp_crn_i in zip_object:\n",
    "    difference1_laf.append(temp_i-temp_crn_i)\n",
    "\n",
    "print(difference1_laf)"
   ]
  },
  {
   "cell_type": "markdown",
   "id": "7a8d079f",
   "metadata": {},
   "source": [
    "<font size=\"3\">Monroe, LA: 0600 UTC (12:00 am CST) 01 March 2022-0600 UTC (12:00 am CST) 02 March 2022</font>"
   ]
  },
  {
   "cell_type": "code",
   "execution_count": 11,
   "id": "9c6d2382",
   "metadata": {},
   "outputs": [
    {
     "name": "stdout",
     "output_type": "stream",
     "text": [
      "[3.25, 3.20999, 3.34, 3.63, 2.42001, 2.39999, 3.20999, 2.54001, 5.45999, 10.24, 14.65, 17.48, 19.31, 20.48, 21.38, 21.47, 20.61, 17.66, 13.05, 10.31, 9.14999, 8.26001, 7.98001, 7.17999, 6.95999]\n"
     ]
    }
   ],
   "source": [
    "#1 hr hrrr:\n",
    "with open('hrrr_f12_Monroe_LA.txt') as f:\n",
    "    lst=[line.split()[4] for line in f]\n",
    "    temp=[]\n",
    "    for i in lst:\n",
    "        new=i.replace(',',\"\")\n",
    "        temp.append(new)\n",
    "    temp.pop(0)\n",
    "    temp=[float(x) for x in temp]\n",
    "    temp=temp[1410:1435]\n",
    "    #temp=temp[2015:2063]\n",
    "    print(temp)\n",
    "    #print(len(temp))\n",
    "#full time period is [2015:2112]"
   ]
  },
  {
   "cell_type": "code",
   "execution_count": 12,
   "id": "3fe08a4e",
   "metadata": {},
   "outputs": [
    {
     "name": "stdout",
     "output_type": "stream",
     "text": [
      "[1.3, 1.8, 2.2, 0.7, -0.45, -0.8, -0.15000000000000002, -0.2, 3.25, 13.350000000000001, 17.9, 21.55, 23.75, 24.6, 24.950000000000003, 24.2, 23.15, 17.450000000000003, 8.0, 5.15, 3.85, 2.75, 2.2, 1.65, 1.1]\n"
     ]
    }
   ],
   "source": [
    "#Air Temp CRN:\n",
    "with open('CRNS0101-05-2022-LA_Monroe_26_N.txt') as f:\n",
    "    lst=[line.split()[12] for line in f]\n",
    "    \n",
    "    a=(float(lst[17063])+float(lst[17064]))/2\n",
    "    b=(float(lst[17075])+float(lst[17076]))/2\n",
    "    c=(float(lst[17087])+float(lst[17088]))/2\n",
    "    d=(float(lst[17099])+float(lst[17100]))/2\n",
    "    e=(float(lst[17111])+float(lst[17112]))/2\n",
    "    f=(float(lst[17123])+float(lst[17124]))/2\n",
    "    g=(float(lst[17135])+float(lst[17136]))/2\n",
    "    h=(float(lst[17147])+float(lst[17148]))/2\n",
    "    i=(float(lst[17159])+float(lst[17160]))/2\n",
    "    j=(float(lst[17171])+float(lst[17172]))/2\n",
    "    k=(float(lst[17183])+float(lst[17184]))/2\n",
    "    l=(float(lst[17195])+float(lst[17196]))/2\n",
    "    m=(float(lst[17207])+float(lst[17208]))/2\n",
    "    n=(float(lst[17219])+float(lst[17220]))/2\n",
    "    o=(float(lst[17231])+float(lst[17232]))/2\n",
    "    p=(float(lst[17243])+float(lst[17244]))/2\n",
    "    q=(float(lst[17255])+float(lst[17256]))/2\n",
    "    r=(float(lst[17267])+float(lst[17268]))/2\n",
    "    s=(float(lst[17279])+float(lst[17280]))/2\n",
    "    t=(float(lst[17291])+float(lst[17292]))/2\n",
    "    u=(float(lst[17303])+float(lst[17304]))/2\n",
    "    v=(float(lst[17315])+float(lst[17316]))/2\n",
    "    w=(float(lst[17327])+float(lst[17328]))/2\n",
    "    x=(float(lst[17339])+float(lst[17340]))/2\n",
    "    y=(float(lst[17351])+float(lst[17352]))/2\n",
    "    temp_crn=[a,b,c,d,e,f,g,h,i,j,k,l,m,n,o,p,q,r,s,t,u,v,w,x,y]\n",
    "    print(temp_crn)"
   ]
  },
  {
   "cell_type": "code",
   "execution_count": 13,
   "id": "2b4e383a",
   "metadata": {},
   "outputs": [
    {
     "name": "stdout",
     "output_type": "stream",
     "text": [
      "[1.95, 1.4099899999999999, 1.1399999999999997, 2.9299999999999997, 2.87001, 3.1999899999999997, 3.35999, 2.7400100000000003, 2.2099900000000003, -3.110000000000001, -3.2499999999999982, -4.07, -4.440000000000001, -4.120000000000001, -3.570000000000004, -2.7300000000000004, -2.539999999999999, 0.2099999999999973, 5.050000000000001, 5.16, 5.299990000000001, 5.510009999999999, 5.78001, 5.52999, 5.85999]\n"
     ]
    }
   ],
   "source": [
    "difference1_mon = []\n",
    "\n",
    "zip_object = zip(temp, temp_crn)\n",
    "for temp_i, temp_crn_i in zip_object:\n",
    "    difference1_mon.append(temp_i-temp_crn_i)\n",
    "\n",
    "print(difference1_mon)"
   ]
  },
  {
   "cell_type": "markdown",
   "id": "26c585ff",
   "metadata": {},
   "source": [
    "<font size=\"3\">Holly Springs, MS: 0600 UTC (12:00 am CST) 01 March 2022-0600 UTC (12:00 am CST) 02 March 2022</font>"
   ]
  },
  {
   "cell_type": "code",
   "execution_count": 14,
   "id": "175bd35c",
   "metadata": {},
   "outputs": [
    {
     "name": "stdout",
     "output_type": "stream",
     "text": [
      "[2.95999, 2.60001, 2.30002, 2.12, 2.36002, 2.08002, 1.63, 1.72, 5.5, 9.39999, 12.68, 14.31, 15.66, 16.64, 16.38, 15.83, 14.91, 13.29, 10.14, 8.94, 8.34, 8.34, 7.87, 6.85001, 6.56]\n"
     ]
    }
   ],
   "source": [
    "#1 hr hrrr:\n",
    "with open('hrrr_f12_Holly Springs_MS.txt') as f:\n",
    "    lst=[line.split()[4] for line in f]\n",
    "    temp=[]\n",
    "    for i in lst:\n",
    "        new=i.replace(',',\"\")\n",
    "        temp.append(new)\n",
    "    temp.pop(0)\n",
    "    temp=[float(x) for x in temp]\n",
    "    temp=temp[1410:1435]\n",
    "    #temp=temp[2015:2063]\n",
    "    print(temp)\n",
    "    #print(len(temp))\n",
    "#full time period is [2015:2112]"
   ]
  },
  {
   "cell_type": "code",
   "execution_count": 15,
   "id": "f416219a",
   "metadata": {},
   "outputs": [
    {
     "name": "stdout",
     "output_type": "stream",
     "text": [
      "[0.8, 0.2, -0.1, -0.4, -1.15, -1.65, -2.1, -1.65, 4.6, 11.8, 17.8, 21.549999999999997, 23.200000000000003, 23.299999999999997, 22.75, 21.45, 18.25, 12.25, 6.85, 5.2, 4.25, 4.25, 4.300000000000001, 3.4, 2.3]\n"
     ]
    }
   ],
   "source": [
    "#Air Temp CRN:\n",
    "with open('CRNS0101-05-2022-MS_Holly_Springs_4_N.txt') as f:\n",
    "    lst=[line.split()[12] for line in f]\n",
    "    \n",
    "    a=(float(lst[17063])+float(lst[17064]))/2\n",
    "    b=(float(lst[17075])+float(lst[17076]))/2\n",
    "    c=(float(lst[17087])+float(lst[17088]))/2\n",
    "    d=(float(lst[17099])+float(lst[17100]))/2\n",
    "    e=(float(lst[17111])+float(lst[17112]))/2\n",
    "    f=(float(lst[17123])+float(lst[17124]))/2\n",
    "    g=(float(lst[17135])+float(lst[17136]))/2\n",
    "    h=(float(lst[17147])+float(lst[17148]))/2\n",
    "    i=(float(lst[17159])+float(lst[17160]))/2\n",
    "    j=(float(lst[17171])+float(lst[17172]))/2\n",
    "    k=(float(lst[17183])+float(lst[17184]))/2\n",
    "    l=(float(lst[17195])+float(lst[17196]))/2\n",
    "    m=(float(lst[17207])+float(lst[17208]))/2\n",
    "    n=(float(lst[17219])+float(lst[17220]))/2\n",
    "    o=(float(lst[17231])+float(lst[17232]))/2\n",
    "    p=(float(lst[17243])+float(lst[17244]))/2\n",
    "    q=(float(lst[17255])+float(lst[17256]))/2\n",
    "    r=(float(lst[17267])+float(lst[17268]))/2\n",
    "    s=(float(lst[17279])+float(lst[17280]))/2\n",
    "    t=(float(lst[17291])+float(lst[17292]))/2\n",
    "    u=(float(lst[17303])+float(lst[17304]))/2\n",
    "    v=(float(lst[17315])+float(lst[17316]))/2\n",
    "    w=(float(lst[17327])+float(lst[17328]))/2\n",
    "    x=(float(lst[17339])+float(lst[17340]))/2\n",
    "    y=(float(lst[17351])+float(lst[17352]))/2\n",
    "    temp_crn=[a,b,c,d,e,f,g,h,i,j,k,l,m,n,o,p,q,r,s,t,u,v,w,x,y]\n",
    "    print(temp_crn)"
   ]
  },
  {
   "cell_type": "code",
   "execution_count": 16,
   "id": "46b095cb",
   "metadata": {},
   "outputs": [
    {
     "name": "stdout",
     "output_type": "stream",
     "text": [
      "[2.1599899999999996, 2.40001, 2.40002, 2.52, 3.51002, 3.73002, 3.73, 3.37, 0.9000000000000004, -2.40001, -5.120000000000001, -7.239999999999997, -7.540000000000003, -6.659999999999997, -6.370000000000001, -5.619999999999999, -3.34, 1.0399999999999991, 3.290000000000001, 3.7399999999999993, 4.09, 4.09, 3.5699999999999994, 3.4500100000000002, 4.26]\n"
     ]
    }
   ],
   "source": [
    "difference1_hol = []\n",
    "\n",
    "zip_object = zip(temp, temp_crn)\n",
    "for temp_i, temp_crn_i in zip_object:\n",
    "    difference1_hol.append(temp_i-temp_crn_i)\n",
    "\n",
    "print(difference1_hol)"
   ]
  },
  {
   "cell_type": "markdown",
   "id": "1c76c308",
   "metadata": {},
   "source": [
    "<font size=\"3\">Newton, MS: 0600 UTC (12:00 am CST) 01 March 2022-0600 UTC (12:00 am CST) 02 March 2022</font>"
   ]
  },
  {
   "cell_type": "code",
   "execution_count": 17,
   "id": "06decf86",
   "metadata": {},
   "outputs": [
    {
     "name": "stdout",
     "output_type": "stream",
     "text": [
      "[4.01001, 3.33002, 2.89999, 2.56, 2.52002, 2.87, 1.83002, 2.29001, 8.22, 15.24, 20.18, 22.9, 25.49, 26.24, 26.31, 24.95, 22.72, 19.94, 14.82, 12.1, 10.49, 9.33002, 8.39999, 6.89999, 5.79001]\n"
     ]
    }
   ],
   "source": [
    "#1 hr hrrr:\n",
    "with open('hrrr_f12_Newton_MS.txt') as f:\n",
    "    lst=[line.split()[4] for line in f]\n",
    "    temp=[]\n",
    "    for i in lst:\n",
    "        new=i.replace(',',\"\")\n",
    "        temp.append(new)\n",
    "    temp.pop(0)\n",
    "    temp=[float(x) for x in temp]\n",
    "    temp=temp[1410:1435]\n",
    "    #temp=temp[2015:2063]\n",
    "    print(temp)\n",
    "    #print(len(temp))\n",
    "#full time period is [2015:2112]"
   ]
  },
  {
   "cell_type": "code",
   "execution_count": 18,
   "id": "9672674c",
   "metadata": {},
   "outputs": [
    {
     "name": "stdout",
     "output_type": "stream",
     "text": [
      "[0.9, 0.2, -0.05, -0.7, -1.15, -1.45, 0.0, 1.65, 8.05, 15.75, 22.15, 24.45, 27.299999999999997, 28.5, 27.4, 26.549999999999997, 22.3, 17.85, 9.85, 7.050000000000001, 5.65, 4.3, 3.25, 2.45, 1.75]\n"
     ]
    }
   ],
   "source": [
    "#Air Temp CRN:\n",
    "with open('CRNS0101-05-2022-MS_Newton_5_ENE.txt') as f:\n",
    "    lst=[line.split()[12] for line in f]\n",
    "    \n",
    "    a=(float(lst[17063])+float(lst[17064]))/2\n",
    "    b=(float(lst[17075])+float(lst[17076]))/2\n",
    "    c=(float(lst[17087])+float(lst[17088]))/2\n",
    "    d=(float(lst[17099])+float(lst[17100]))/2\n",
    "    e=(float(lst[17111])+float(lst[17112]))/2\n",
    "    f=(float(lst[17123])+float(lst[17124]))/2\n",
    "    g=(float(lst[17135])+float(lst[17136]))/2\n",
    "    h=(float(lst[17147])+float(lst[17148]))/2\n",
    "    i=(float(lst[17159])+float(lst[17160]))/2\n",
    "    j=(float(lst[17171])+float(lst[17172]))/2\n",
    "    k=(float(lst[17183])+float(lst[17184]))/2\n",
    "    l=(float(lst[17195])+float(lst[17196]))/2\n",
    "    m=(float(lst[17207])+float(lst[17208]))/2\n",
    "    n=(float(lst[17219])+float(lst[17220]))/2\n",
    "    o=(float(lst[17231])+float(lst[17232]))/2\n",
    "    p=(float(lst[17243])+float(lst[17244]))/2\n",
    "    q=(float(lst[17255])+float(lst[17256]))/2\n",
    "    r=(float(lst[17267])+float(lst[17268]))/2\n",
    "    s=(float(lst[17279])+float(lst[17280]))/2\n",
    "    t=(float(lst[17291])+float(lst[17292]))/2\n",
    "    u=(float(lst[17303])+float(lst[17304]))/2\n",
    "    v=(float(lst[17315])+float(lst[17316]))/2\n",
    "    w=(float(lst[17327])+float(lst[17328]))/2\n",
    "    x=(float(lst[17339])+float(lst[17340]))/2\n",
    "    y=(float(lst[17351])+float(lst[17352]))/2\n",
    "    temp_crn=[a,b,c,d,e,f,g,h,i,j,k,l,m,n,o,p,q,r,s,t,u,v,w,x,y]\n",
    "    print(temp_crn)"
   ]
  },
  {
   "cell_type": "code",
   "execution_count": 19,
   "id": "e588ab70",
   "metadata": {},
   "outputs": [
    {
     "name": "stdout",
     "output_type": "stream",
     "text": [
      "[3.1100100000000004, 3.13002, 2.9499899999999997, 3.26, 3.67002, 4.32, 1.83002, 0.6400100000000002, 0.16999999999999993, -0.5099999999999998, -1.9699999999999989, -1.5500000000000007, -1.8099999999999987, -2.2600000000000016, -1.0899999999999999, -1.5999999999999979, 0.41999999999999815, 2.09, 4.970000000000001, 5.049999999999999, 4.84, 5.0300199999999995, 5.149990000000001, 4.44999, 4.04001]\n"
     ]
    }
   ],
   "source": [
    "difference1_new = []\n",
    "\n",
    "zip_object = zip(temp, temp_crn)\n",
    "for temp_i, temp_crn_i in zip_object:\n",
    "    difference1_new.append(temp_i-temp_crn_i)\n",
    "\n",
    "print(difference1_new)"
   ]
  },
  {
   "cell_type": "markdown",
   "id": "c9620694",
   "metadata": {},
   "source": [
    "<font size=\"3\">Gainesville, AL: 0600 UTC (12:00 am CST) 01 March 2022-0600 UTC (12:00 am CST) 02 March 2022</font>"
   ]
  },
  {
   "cell_type": "code",
   "execution_count": 20,
   "id": "a422cd03",
   "metadata": {},
   "outputs": [],
   "source": [
    "# #1 hr hrrr:\n",
    "# with open('hrrr_f12_Gainesville_AL.txt') as f:\n",
    "#     lst=[line.split()[4] for line in f]\n",
    "#     temp=[]\n",
    "#     for i in lst:\n",
    "#         new=i.replace(',',\"\")\n",
    "#         temp.append(new)\n",
    "#     temp.pop(0)\n",
    "#     temp=[float(x) for x in temp]\n",
    "#     temp=temp[1410:1435]\n",
    "#     #temp=temp[2015:2063]\n",
    "#     print(temp)\n",
    "#     #print(len(temp))\n",
    "# #full time period is [2015:2112]"
   ]
  },
  {
   "cell_type": "code",
   "execution_count": 21,
   "id": "2c97e541",
   "metadata": {},
   "outputs": [],
   "source": [
    "# #Air Temp CRN:\n",
    "# with open('CRNH0203-2022-AL_Gainesville_2_NE.txt') as f:\n",
    "#     lst=[line.split()[13] for line in f]\n",
    "#     #prfloat(lst)\n",
    "#     temp_crn=[]\n",
    "#     for i in lst:\n",
    "#         new=i.replace(',',\"\")\n",
    "#         temp_crn.append(new)\n",
    "#     temp_crn=[float(x) for x in temp_crn]\n",
    "#     temp_crn=temp_crn[1421:1446]\n",
    "#     print(temp_crn)\n",
    "#     #print(len(temp_crn))\n",
    "#     # print(temp_crn[2124])"
   ]
  },
  {
   "cell_type": "code",
   "execution_count": 22,
   "id": "8df76a7b",
   "metadata": {},
   "outputs": [],
   "source": [
    "# difference1_gai = []\n",
    "\n",
    "# zip_object = zip(temp, temp_crn)\n",
    "# for temp_i, temp_crn_i in zip_object:\n",
    "#     difference1_gai.append(temp_i-temp_crn_i)\n",
    "\n",
    "# print(difference1_gai)"
   ]
  },
  {
   "cell_type": "markdown",
   "id": "2711dc15",
   "metadata": {},
   "source": [
    "<font size=\"3\">Fairhope, AL: 0600 UTC (12:00 am CST) 01 March 2022-0600 UTC (12:00 am CST) 02 March 2022</font>"
   ]
  },
  {
   "cell_type": "code",
   "execution_count": 23,
   "id": "64dbcf91",
   "metadata": {},
   "outputs": [
    {
     "name": "stdout",
     "output_type": "stream",
     "text": [
      "[8.95001, 8.41, 7.95001, 7.62, 7.23001, 6.73001, 6.45999, 7.23001, 11.7, 16.68, 21.14, 24.86, 26.27, 26.17, 25.55, 24.1, 22.94, 18.75, 14.82, 13.11, 12.02, 10.42, 9.98001, 9.20999, 8.10001]\n"
     ]
    }
   ],
   "source": [
    "#1 hr hrrr:\n",
    "with open('hrrr_f12_Fairhope_AL.txt') as f:\n",
    "    lst=[line.split()[4] for line in f]\n",
    "    temp=[]\n",
    "    for i in lst:\n",
    "        new=i.replace(',',\"\")\n",
    "        temp.append(new)\n",
    "    temp.pop(0)\n",
    "    temp=[float(x) for x in temp]\n",
    "    temp=temp[1410:1435]\n",
    "    #temp=temp[2015:2063]\n",
    "    print(temp)\n",
    "    #print(len(temp))\n",
    "#full time period is [2015:2112]"
   ]
  },
  {
   "cell_type": "code",
   "execution_count": 24,
   "id": "83dc8266",
   "metadata": {},
   "outputs": [
    {
     "name": "stdout",
     "output_type": "stream",
     "text": [
      "[4.6, 4.300000000000001, 2.2, 2.3, 3.3, 4.15, 0.6, 5.55, 13.8, 22.3, 26.05, 30.8, 31.1, 30.0, 28.549999999999997, 25.7, 21.55, 14.899999999999999, 10.85, 6.65, 3.75, 2.6500000000000004, 1.8, 1.05, 0.8500000000000001]\n"
     ]
    }
   ],
   "source": [
    "#Air Temp CRN:\n",
    "with open('CRNS0101-05-2022-AL_Fairhope_3_NE.txt') as f:\n",
    "    lst=[line.split()[12] for line in f]\n",
    "    \n",
    "    a=(float(lst[17063])+float(lst[17064]))/2\n",
    "    b=(float(lst[17075])+float(lst[17076]))/2\n",
    "    c=(float(lst[17087])+float(lst[17088]))/2\n",
    "    d=(float(lst[17099])+float(lst[17100]))/2\n",
    "    e=(float(lst[17111])+float(lst[17112]))/2\n",
    "    f=(float(lst[17123])+float(lst[17124]))/2\n",
    "    g=(float(lst[17135])+float(lst[17136]))/2\n",
    "    h=(float(lst[17147])+float(lst[17148]))/2\n",
    "    i=(float(lst[17159])+float(lst[17160]))/2\n",
    "    j=(float(lst[17171])+float(lst[17172]))/2\n",
    "    k=(float(lst[17183])+float(lst[17184]))/2\n",
    "    l=(float(lst[17195])+float(lst[17196]))/2\n",
    "    m=(float(lst[17207])+float(lst[17208]))/2\n",
    "    n=(float(lst[17219])+float(lst[17220]))/2\n",
    "    o=(float(lst[17231])+float(lst[17232]))/2\n",
    "    p=(float(lst[17243])+float(lst[17244]))/2\n",
    "    q=(float(lst[17255])+float(lst[17256]))/2\n",
    "    r=(float(lst[17267])+float(lst[17268]))/2\n",
    "    s=(float(lst[17279])+float(lst[17280]))/2\n",
    "    t=(float(lst[17291])+float(lst[17292]))/2\n",
    "    u=(float(lst[17303])+float(lst[17304]))/2\n",
    "    v=(float(lst[17315])+float(lst[17316]))/2\n",
    "    w=(float(lst[17327])+float(lst[17328]))/2\n",
    "    x=(float(lst[17339])+float(lst[17340]))/2\n",
    "    y=(float(lst[17351])+float(lst[17352]))/2\n",
    "    temp_crn=[a,b,c,d,e,f,g,h,i,j,k,l,m,n,o,p,q,r,s,t,u,v,w,x,y]\n",
    "    print(temp_crn)"
   ]
  },
  {
   "cell_type": "code",
   "execution_count": 25,
   "id": "a9ff3306",
   "metadata": {},
   "outputs": [
    {
     "name": "stdout",
     "output_type": "stream",
     "text": [
      "[4.350010000000001, 4.109999999999999, 5.75001, 5.32, 3.9300100000000002, 2.5800099999999997, 5.859990000000001, 1.6800100000000002, -2.1000000000000014, -5.620000000000001, -4.91, -5.940000000000001, -4.830000000000002, -3.8299999999999983, -2.9999999999999964, -1.5999999999999979, 1.3900000000000006, 3.8500000000000014, 3.9700000000000006, 6.459999999999999, 8.27, 7.77, 8.18001, 8.159989999999999, 7.25001]\n"
     ]
    }
   ],
   "source": [
    "difference1_fai = []\n",
    "\n",
    "zip_object = zip(temp, temp_crn)\n",
    "for temp_i, temp_crn_i in zip_object:\n",
    "    difference1_fai.append(temp_i-temp_crn_i)\n",
    "\n",
    "print(difference1_fai)"
   ]
  },
  {
   "cell_type": "markdown",
   "id": "f5dd4e4b",
   "metadata": {},
   "source": [
    "<font size=\"3\">**Selma, AL: 0600 UTC (12:00 am CST) 01 March 2022-0600 UTC (12:00 am CST) 02 March 2022</font>"
   ]
  },
  {
   "cell_type": "code",
   "execution_count": 26,
   "id": "af6b46b1",
   "metadata": {},
   "outputs": [
    {
     "name": "stdout",
     "output_type": "stream",
     "text": [
      "[5.17001, 4.48001, 3.98001, 3.70999, 3.72, 2.88, 2.61002, 3.56, 8.62, 13.29, 16.53, 19.29, 21.44, 23.44, 23.9, 22.92, 20.92, 18.0, 13.07, 10.68, 9.24002, 8.34, 7.41, 6.25, 5.53]\n"
     ]
    }
   ],
   "source": [
    "#1 hr hrrr:\n",
    "import numpy as np\n",
    "import numpy.ma as ma\n",
    "with open('hrrr_f12_Selma_AL.txt') as f:\n",
    "    lst=[line.split()[4] for line in f]\n",
    "    temp=[]\n",
    "    for i in lst:\n",
    "        new=i.replace(',',\"\")\n",
    "        temp.append(new)\n",
    "    temp.pop(0)\n",
    "    temp=[float(x) for x in temp]\n",
    "    temp=temp[1410:1435]\n",
    "\n",
    "#     x = np.array(temp)\n",
    "#     temp = ma.masked_array(x, mask=[0, 0, 0, 0, 0,0,0,0,0,0,0,0,0,0,0,0,0,1,1,1,1,0,0,0,0])\n",
    "    print(temp)"
   ]
  },
  {
   "cell_type": "code",
   "execution_count": 27,
   "id": "942dc824",
   "metadata": {},
   "outputs": [
    {
     "name": "stdout",
     "output_type": "stream",
     "text": [
      "[3.05, 2.25, 1.75, 1.2, 0.6, 0.8500000000000001, 1.85, 2.9000000000000004, 10.9, 14.5, 21.8, 24.25, 25.75, 26.75, 25.9, 23.75, 19.3, 17.25, 12.399999999999999, 8.8, 7.0, 5.75, 4.9, 4.2, 3.6500000000000004]\n"
     ]
    }
   ],
   "source": [
    "#Air Temp CRN:\n",
    "with open('CRNS0101-05-2022-AL_Selma_13_WNW.txt') as f:\n",
    "    lst=[line.split()[12] for line in f]\n",
    "    \n",
    "    a=(float(lst[17063])+float(lst[17064]))/2\n",
    "    b=(float(lst[17075])+float(lst[17076]))/2\n",
    "    c=(float(lst[17087])+float(lst[17088]))/2\n",
    "    d=(float(lst[17099])+float(lst[17100]))/2\n",
    "    e=(float(lst[17111])+float(lst[17112]))/2\n",
    "    f=(float(lst[17123])+float(lst[17124]))/2\n",
    "    g=(float(lst[17135])+float(lst[17136]))/2\n",
    "    h=(float(lst[17147])+float(lst[17148]))/2\n",
    "    i=(float(lst[17159])+float(lst[17160]))/2\n",
    "    j=(float(lst[17171])+float(lst[17172]))/2\n",
    "    k=(float(lst[17183])+float(lst[17184]))/2\n",
    "    l=(float(lst[17195])+float(lst[17196]))/2\n",
    "    m=(float(lst[17207])+float(lst[17208]))/2\n",
    "    n=(float(lst[17219])+float(lst[17220]))/2\n",
    "    o=(float(lst[17231])+float(lst[17232]))/2\n",
    "    p=(float(lst[17243])+float(lst[17244]))/2\n",
    "    q=(float(lst[17255])+float(lst[17256]))/2\n",
    "    r=(float(lst[17267])+float(lst[17268]))/2\n",
    "    s=(float(lst[17279])+float(lst[17280]))/2\n",
    "    t=(float(lst[17291])+float(lst[17292]))/2\n",
    "    u=(float(lst[17303])+float(lst[17304]))/2\n",
    "    v=(float(lst[17315])+float(lst[17316]))/2\n",
    "    w=(float(lst[17327])+float(lst[17328]))/2\n",
    "    x=(float(lst[17339])+float(lst[17340]))/2\n",
    "    y=(float(lst[17351])+float(lst[17352]))/2\n",
    "    temp_crn=[a,b,c,d,e,f,g,h,i,j,k,l,m,n,o,p,q,r,s,t,u,v,w,x,y]\n",
    "    print(temp_crn)"
   ]
  },
  {
   "cell_type": "code",
   "execution_count": 28,
   "id": "fdfb15c8",
   "metadata": {},
   "outputs": [
    {
     "name": "stdout",
     "output_type": "stream",
     "text": [
      "[2.1200100000000006, 2.23001, 2.23001, 2.50999, 3.12, 2.03, 0.7600199999999999, 0.6599999999999997, -2.280000000000001, -1.2100000000000009, -5.27, -4.960000000000001, -4.309999999999999, -3.3099999999999987, -2.0, -0.8299999999999983, 1.620000000000001, 0.75, 0.6700000000000017, 1.879999999999999, 2.2400199999999995, 2.59, 2.51, 2.05, 1.88]\n"
     ]
    }
   ],
   "source": [
    "difference1_sel = []\n",
    "\n",
    "zip_object = zip(temp, temp_crn)\n",
    "for temp_i, temp_crn_i in zip_object:\n",
    "    difference1_sel.append(temp_i-temp_crn_i)\n",
    "\n",
    "print(difference1_sel)\n",
    "#print(len(difference1_sel))"
   ]
  },
  {
   "cell_type": "markdown",
   "id": "8fab4bdc",
   "metadata": {},
   "source": [
    "<font size=\"3\">Bowling Green, KY: 0600 UTC (12:00 am CST) 01 March 2022-0600 UTC (12:00 am CST) 02 March 2022</font>"
   ]
  },
  {
   "cell_type": "code",
   "execution_count": 29,
   "id": "bf608647",
   "metadata": {},
   "outputs": [
    {
     "name": "stdout",
     "output_type": "stream",
     "text": [
      "[2.13, 1.28, 0.869995, 0.450012, 0.330017, 0.300018, 0.279999, 1.17999, 5.10001, 9.39999, 13.23, 16.25, 19.28, 21.01, 21.16, 19.92, 18.15, 15.14, 12.07, 10.39, 9.37, 8.58002, 8.19, 7.42999, 7.24002]\n"
     ]
    }
   ],
   "source": [
    "#1 hr hrrr:\n",
    "with open('hrrr_f12_Bowling Green_KY.txt') as f:\n",
    "    lst=[line.split()[4] for line in f]\n",
    "    temp=[]\n",
    "    for i in lst:\n",
    "        new=i.replace(',',\"\")\n",
    "        temp.append(new)\n",
    "    temp.pop(0)\n",
    "    temp=[float(x) for x in temp]\n",
    "    temp=temp[1410:1435]\n",
    "    #temp=temp[2015:2063]\n",
    "    print(temp)\n",
    "    #print(len(temp))\n",
    "#full time period is [2015:2112]"
   ]
  },
  {
   "cell_type": "code",
   "execution_count": 30,
   "id": "d7253497",
   "metadata": {},
   "outputs": [
    {
     "name": "stdout",
     "output_type": "stream",
     "text": [
      "[-2.8, -3.2, -3.3, -3.1500000000000004, -2.3, -2.3, -1.8, 0.85, 7.45, 15.1, 20.4, 24.450000000000003, 27.5, 25.799999999999997, 25.75, 23.1, 18.35, 12.350000000000001, 7.05, 4.449999999999999, 5.2, 4.0, 2.2, 2.1, 1.35]\n"
     ]
    }
   ],
   "source": [
    "#Air Temp CRN:\n",
    "with open('CRNS0101-05-2022-KY_Bowling_Green_21_NNE.txt') as f:\n",
    "    lst=[line.split()[12] for line in f]\n",
    "    \n",
    "    a=(float(lst[17063])+float(lst[17064]))/2\n",
    "    b=(float(lst[17075])+float(lst[17076]))/2\n",
    "    c=(float(lst[17087])+float(lst[17088]))/2\n",
    "    d=(float(lst[17099])+float(lst[17100]))/2\n",
    "    e=(float(lst[17111])+float(lst[17112]))/2\n",
    "    f=(float(lst[17123])+float(lst[17124]))/2\n",
    "    g=(float(lst[17135])+float(lst[17136]))/2\n",
    "    h=(float(lst[17147])+float(lst[17148]))/2\n",
    "    i=(float(lst[17159])+float(lst[17160]))/2\n",
    "    j=(float(lst[17171])+float(lst[17172]))/2\n",
    "    k=(float(lst[17183])+float(lst[17184]))/2\n",
    "    l=(float(lst[17195])+float(lst[17196]))/2\n",
    "    m=(float(lst[17207])+float(lst[17208]))/2\n",
    "    n=(float(lst[17219])+float(lst[17220]))/2\n",
    "    o=(float(lst[17231])+float(lst[17232]))/2\n",
    "    p=(float(lst[17243])+float(lst[17244]))/2\n",
    "    q=(float(lst[17255])+float(lst[17256]))/2\n",
    "    r=(float(lst[17267])+float(lst[17268]))/2\n",
    "    s=(float(lst[17279])+float(lst[17280]))/2\n",
    "    t=(float(lst[17291])+float(lst[17292]))/2\n",
    "    u=(float(lst[17303])+float(lst[17304]))/2\n",
    "    v=(float(lst[17315])+float(lst[17316]))/2\n",
    "    w=(float(lst[17327])+float(lst[17328]))/2\n",
    "    x=(float(lst[17339])+float(lst[17340]))/2\n",
    "    y=(float(lst[17351])+float(lst[17352]))/2\n",
    "    temp_crn=[a,b,c,d,e,f,g,h,i,j,k,l,m,n,o,p,q,r,s,t,u,v,w,x,y]\n",
    "    print(temp_crn)"
   ]
  },
  {
   "cell_type": "code",
   "execution_count": 31,
   "id": "c1e72531",
   "metadata": {},
   "outputs": [
    {
     "name": "stdout",
     "output_type": "stream",
     "text": [
      "[4.93, 4.48, 4.169995, 3.6000120000000004, 2.6300169999999996, 2.600018, 2.079999, 0.3299900000000001, -2.34999, -5.700009999999999, -7.169999999999998, -8.200000000000003, -8.219999999999999, -4.789999999999996, -4.59, -3.1799999999999997, -0.20000000000000284, 2.789999999999999, 5.0200000000000005, 5.940000000000001, 4.169999999999999, 4.580019999999999, 5.989999999999999, 5.3299900000000004, 5.89002]\n"
     ]
    }
   ],
   "source": [
    "difference1_bow = []\n",
    "\n",
    "zip_object = zip(temp, temp_crn)\n",
    "for temp_i, temp_crn_i in zip_object:\n",
    "    difference1_bow.append(temp_i-temp_crn_i)\n",
    "\n",
    "print(difference1_bow)"
   ]
  },
  {
   "cell_type": "markdown",
   "id": "d1be2cc0",
   "metadata": {},
   "source": [
    "<font size=\"3\">Gadsden, AL: 0600 UTC (12:00 am CST) 01 March 2022-0600 UTC (12:00 am CST) 02 March 2022</font>"
   ]
  },
  {
   "cell_type": "code",
   "execution_count": 32,
   "id": "02793170",
   "metadata": {},
   "outputs": [
    {
     "name": "stdout",
     "output_type": "stream",
     "text": [
      "[3.64999, 3.34, 2.82001, 2.57001, 2.61002, 2.49002, 1.83002, 2.5, 6.64001, 11.31, 13.68, 15.49, 16.81, 17.42, 17.53, 16.54, 15.12, 12.57, 9.42001, 8.11002, 7.33002, 6.55002, 6.91, 7.08002, 5.80002]\n"
     ]
    }
   ],
   "source": [
    "#1 hr hrrr:\n",
    "with open('hrrr_f12_Gadsden_AL.txt') as f:\n",
    "    lst=[line.split()[4] for line in f]\n",
    "    temp=[]\n",
    "    for i in lst:\n",
    "        new=i.replace(',',\"\")\n",
    "        temp.append(new)\n",
    "    temp.pop(0)\n",
    "    temp=[float(x) for x in temp]\n",
    "    temp=temp[1410:1435]\n",
    "#     x = np.array(temp)\n",
    "#     temp = ma.masked_array(x, mask=[0, 0, 0, 0, 0,0,0,0,1,0,0,0,0,0,0,0,0,0,0,0,0,0,0,0,0])\n",
    "    #temp=temp[2015:2063]\n",
    "    print(temp)\n",
    "    #print(len(temp))\n",
    "#full time period is [2015:2112]"
   ]
  },
  {
   "cell_type": "code",
   "execution_count": 33,
   "id": "5fd7f4a3",
   "metadata": {},
   "outputs": [
    {
     "name": "stdout",
     "output_type": "stream",
     "text": [
      "[0.6499999999999999, 0.6, 0.8, 1.3, 0.7, 0.2, -0.5, 2.7, 12.05, 16.5, 19.9, 21.450000000000003, 23.15, 23.0, 22.1, 18.700000000000003, 16.2, 13.05, 7.550000000000001, 5.45, 4.4, 4.25, 3.55, 3.55, 3.25]\n"
     ]
    }
   ],
   "source": [
    "#Air Temp CRN:\n",
    "with open('CRNS0101-05-2022-AL_Gadsden_19_N.txt') as f:\n",
    "    lst=[line.split()[12] for line in f]\n",
    "    \n",
    "    a=(float(lst[17063])+float(lst[17064]))/2\n",
    "    b=(float(lst[17075])+float(lst[17076]))/2\n",
    "    c=(float(lst[17087])+float(lst[17088]))/2\n",
    "    d=(float(lst[17099])+float(lst[17100]))/2\n",
    "    e=(float(lst[17111])+float(lst[17112]))/2\n",
    "    f=(float(lst[17123])+float(lst[17124]))/2\n",
    "    g=(float(lst[17135])+float(lst[17136]))/2\n",
    "    h=(float(lst[17147])+float(lst[17148]))/2\n",
    "    i=(float(lst[17159])+float(lst[17160]))/2\n",
    "    j=(float(lst[17171])+float(lst[17172]))/2\n",
    "    k=(float(lst[17183])+float(lst[17184]))/2\n",
    "    l=(float(lst[17195])+float(lst[17196]))/2\n",
    "    m=(float(lst[17207])+float(lst[17208]))/2\n",
    "    n=(float(lst[17219])+float(lst[17220]))/2\n",
    "    o=(float(lst[17231])+float(lst[17232]))/2\n",
    "    p=(float(lst[17243])+float(lst[17244]))/2\n",
    "    q=(float(lst[17255])+float(lst[17256]))/2\n",
    "    r=(float(lst[17267])+float(lst[17268]))/2\n",
    "    s=(float(lst[17279])+float(lst[17280]))/2\n",
    "    t=(float(lst[17291])+float(lst[17292]))/2\n",
    "    u=(float(lst[17303])+float(lst[17304]))/2\n",
    "    v=(float(lst[17315])+float(lst[17316]))/2\n",
    "    w=(float(lst[17327])+float(lst[17328]))/2\n",
    "    x=(float(lst[17339])+float(lst[17340]))/2\n",
    "    y=(float(lst[17351])+float(lst[17352]))/2\n",
    "    temp_crn=[a,b,c,d,e,f,g,h,i,j,k,l,m,n,o,p,q,r,s,t,u,v,w,x,y]\n",
    "    print(temp_crn)"
   ]
  },
  {
   "cell_type": "code",
   "execution_count": 34,
   "id": "c002ac76",
   "metadata": {},
   "outputs": [
    {
     "name": "stdout",
     "output_type": "stream",
     "text": [
      "[2.99999, 2.7399999999999998, 2.02001, 1.2700099999999999, 1.91002, 2.2900199999999997, 2.33002, -0.20000000000000018, -5.4099900000000005, -5.1899999999999995, -6.219999999999999, -5.960000000000003, -6.34, -5.579999999999998, -4.57, -2.1600000000000037, -1.08, -0.4800000000000004, 1.8700099999999988, 2.6600200000000003, 2.93002, 2.30002, 3.3600000000000003, 3.5300200000000004, 2.55002]\n"
     ]
    }
   ],
   "source": [
    "difference1_gad = []\n",
    "\n",
    "zip_object = zip(temp, temp_crn)\n",
    "for temp_i, temp_crn_i in zip_object:\n",
    "    difference1_gad.append(temp_i-temp_crn_i)\n",
    "\n",
    "print(difference1_gad)"
   ]
  },
  {
   "cell_type": "markdown",
   "id": "d430f7c6",
   "metadata": {},
   "source": [
    "<font size=\"3\">Newton, GA: 0600 UTC (12:00 am CST) 01 March 2022-0600 UTC (12:00 am CST) 02 March 2022</font>"
   ]
  },
  {
   "cell_type": "code",
   "execution_count": 35,
   "id": "e78bb8bf",
   "metadata": {},
   "outputs": [
    {
     "name": "stdout",
     "output_type": "stream",
     "text": [
      "[7.89999, 10.25, 7.62, 6.67999, 5.87, 5.24002, 5.09, 6.56, 11.01, 15.97, 20.64, 22.96, 25.8, 26.66, 26.5, 25.15, 22.99, 19.86, 15.24, 12.98, 11.92, 10.91, 9.55002, 8.81, 7.92999]\n"
     ]
    }
   ],
   "source": [
    "#1 hr hrrr:\n",
    "with open('hrrr_f12_Newton_GA.txt') as f:\n",
    "    lst=[line.split()[4] for line in f]\n",
    "    temp=[]\n",
    "    for i in lst:\n",
    "        new=i.replace(',',\"\")\n",
    "        temp.append(new)\n",
    "    temp.pop(0)\n",
    "    temp=[float(x) for x in temp]\n",
    "    temp=temp[1410:1435]\n",
    "    #temp=temp[2015:2063]\n",
    "    print(temp)\n",
    "    #print(len(temp))\n",
    "#full time period is [2015:2112]"
   ]
  },
  {
   "cell_type": "code",
   "execution_count": 36,
   "id": "52b388f2",
   "metadata": {},
   "outputs": [
    {
     "name": "stdout",
     "output_type": "stream",
     "text": [
      "[6.5, 5.65, 5.15, 4.7, 4.15, 3.9, 3.8, 7.5, 12.55, 17.0, 23.85, 27.55, 28.6, 29.55, 28.45, 26.65, 21.75, 15.95, 10.75, 9.149999999999999, 7.65, 7.0, 6.25, 5.35, 4.85]\n"
     ]
    }
   ],
   "source": [
    "#Air Temp CRN:\n",
    "with open('CRNS0101-05-2022-GA_Newton_11_SW.txt') as f:\n",
    "    lst=[line.split()[12] for line in f]\n",
    "    \n",
    "    a=(float(lst[17063])+float(lst[17064]))/2\n",
    "    b=(float(lst[17075])+float(lst[17076]))/2\n",
    "    c=(float(lst[17087])+float(lst[17088]))/2\n",
    "    d=(float(lst[17099])+float(lst[17100]))/2\n",
    "    e=(float(lst[17111])+float(lst[17112]))/2\n",
    "    f=(float(lst[17123])+float(lst[17124]))/2\n",
    "    g=(float(lst[17135])+float(lst[17136]))/2\n",
    "    h=(float(lst[17147])+float(lst[17148]))/2\n",
    "    i=(float(lst[17159])+float(lst[17160]))/2\n",
    "    j=(float(lst[17171])+float(lst[17172]))/2\n",
    "    k=(float(lst[17183])+float(lst[17184]))/2\n",
    "    l=(float(lst[17195])+float(lst[17196]))/2\n",
    "    m=(float(lst[17207])+float(lst[17208]))/2\n",
    "    n=(float(lst[17219])+float(lst[17220]))/2\n",
    "    o=(float(lst[17231])+float(lst[17232]))/2\n",
    "    p=(float(lst[17243])+float(lst[17244]))/2\n",
    "    q=(float(lst[17255])+float(lst[17256]))/2\n",
    "    r=(float(lst[17267])+float(lst[17268]))/2\n",
    "    s=(float(lst[17279])+float(lst[17280]))/2\n",
    "    t=(float(lst[17291])+float(lst[17292]))/2\n",
    "    u=(float(lst[17303])+float(lst[17304]))/2\n",
    "    v=(float(lst[17315])+float(lst[17316]))/2\n",
    "    w=(float(lst[17327])+float(lst[17328]))/2\n",
    "    x=(float(lst[17339])+float(lst[17340]))/2\n",
    "    y=(float(lst[17351])+float(lst[17352]))/2\n",
    "    temp_crn=[a,b,c,d,e,f,g,h,i,j,k,l,m,n,o,p,q,r,s,t,u,v,w,x,y]\n",
    "    print(temp_crn)"
   ]
  },
  {
   "cell_type": "code",
   "execution_count": 37,
   "id": "f2141c03",
   "metadata": {},
   "outputs": [
    {
     "name": "stdout",
     "output_type": "stream",
     "text": [
      "[1.3999899999999998, 4.6, 2.4699999999999998, 1.97999, 1.7199999999999998, 1.3400200000000004, 1.29, -0.9400000000000004, -1.540000000000001, -1.0299999999999994, -3.210000000000001, -4.59, -2.8000000000000007, -2.8900000000000006, -1.9499999999999993, -1.5, 1.2399999999999984, 3.91, 4.49, 3.830000000000002, 4.27, 3.91, 3.30002, 3.460000000000001, 3.0799900000000004]\n"
     ]
    }
   ],
   "source": [
    "difference1_newt = []\n",
    "\n",
    "zip_object = zip(temp, temp_crn)\n",
    "for temp_i, temp_crn_i in zip_object:\n",
    "    difference1_newt.append(temp_i-temp_crn_i)\n",
    "\n",
    "print(difference1_newt)"
   ]
  },
  {
   "cell_type": "markdown",
   "id": "8ee79bb2",
   "metadata": {},
   "source": [
    "<font size=\"3\">Salem, MO: 1200 UTC 22 March 2022-1200 UTC 23 March 2022</font>"
   ]
  },
  {
   "cell_type": "code",
   "execution_count": 38,
   "id": "01442781",
   "metadata": {},
   "outputs": [
    {
     "name": "stdout",
     "output_type": "stream",
     "text": [
      "[-1.04999, -0.72998, -0.630005, -0.549988, -0.559998, -0.47998, -0.5, -0.019989, 3.34, 6.87, 10.47, 14.41, 17.96, 19.9, 20.54, 20.33, 19.02, 16.63, 12.92, 10.62, 9.42999, 8.52002, 7.76001, 7.36002, 6.25]\n",
      "25\n"
     ]
    }
   ],
   "source": [
    "#1 hr hrrr:\n",
    "with open('hrrr_f12_Salem_MO.txt') as f:\n",
    "    lst=[line.split()[4] for line in f]\n",
    "    temp=[]\n",
    "    for i in lst:\n",
    "        new=i.replace(',',\"\")\n",
    "        temp.append(new)\n",
    "    temp.pop(0)\n",
    "    temp=[float(x) for x in temp]\n",
    "    temp=temp[1698:1723]\n",
    "    #temp=temp[2015:2063]\n",
    "    print(temp)\n",
    "    print(len(temp))\n",
    "#full time period is [2015:2112]"
   ]
  },
  {
   "cell_type": "code",
   "execution_count": 39,
   "id": "5c26c31d",
   "metadata": {},
   "outputs": [
    {
     "name": "stdout",
     "output_type": "stream",
     "text": [
      "[-3.85, -1.15, -3.25, -1.1, -2.0, -1.8, -2.8499999999999996, -0.45, 6.65, 13.45, 19.950000000000003, 25.55, 27.0, 28.35, 27.65, 24.8, 20.4, 14.7, 8.85, 2.95, 5.25, 5.35, 4.9, 4.5, 3.45]\n"
     ]
    }
   ],
   "source": [
    "#Air Temp CRN:\n",
    "with open('CRNS0101-05-2022-MO_Salem_10_W.txt') as f:\n",
    "    lst=[line.split()[12] for line in f]\n",
    "    \n",
    "    a=(float(lst[20519])+float(lst[20520]))/2\n",
    "    b=(float(lst[20531])+float(lst[20532]))/2\n",
    "    c=(float(lst[20543])+float(lst[20544]))/2\n",
    "    d=(float(lst[20555])+float(lst[20556]))/2\n",
    "    e=(float(lst[20567])+float(lst[20568]))/2\n",
    "    f=(float(lst[20579])+float(lst[20580]))/2\n",
    "    g=(float(lst[20591])+float(lst[20592]))/2\n",
    "    h=(float(lst[20603])+float(lst[20604]))/2\n",
    "    i=(float(lst[20615])+float(lst[20616]))/2\n",
    "    j=(float(lst[20627])+float(lst[20628]))/2\n",
    "    k=(float(lst[20639])+float(lst[20640]))/2\n",
    "    l=(float(lst[20651])+float(lst[20652]))/2\n",
    "    m=(float(lst[20663])+float(lst[20664]))/2\n",
    "    n=(float(lst[20675])+float(lst[20676]))/2\n",
    "    o=(float(lst[20687])+float(lst[20688]))/2\n",
    "    p=(float(lst[20699])+float(lst[20700]))/2\n",
    "    q=(float(lst[20711])+float(lst[20712]))/2\n",
    "    r=(float(lst[20723])+float(lst[20724]))/2\n",
    "    s=(float(lst[20735])+float(lst[20736]))/2\n",
    "    t=(float(lst[20747])+float(lst[20748]))/2\n",
    "    u=(float(lst[20759])+float(lst[20760]))/2\n",
    "    v=(float(lst[20771])+float(lst[20772]))/2\n",
    "    w=(float(lst[20783])+float(lst[20784]))/2\n",
    "    x=(float(lst[20795])+float(lst[20796]))/2\n",
    "    y=(float(lst[20807])+float(lst[20808]))/2\n",
    "    \n",
    "    temp_crn=[a,b,c,d,e,f,g,h,i,j,k,l,m,n,o,p,q,r,s,t,u,v,w,x,y]\n",
    "    print(temp_crn)"
   ]
  },
  {
   "cell_type": "code",
   "execution_count": 40,
   "id": "3f860af3",
   "metadata": {},
   "outputs": [
    {
     "name": "stdout",
     "output_type": "stream",
     "text": [
      "[2.8000100000000003, 0.42001999999999995, 2.619995, 0.5500120000000001, 1.440002, 1.32002, 2.3499999999999996, 0.43001100000000003, -3.3100000000000005, -6.579999999999999, -9.480000000000002, -11.14, -9.04, -8.450000000000003, -7.109999999999999, -4.470000000000002, -1.379999999999999, 1.9299999999999997, 4.07, 7.669999999999999, 4.17999, 3.170020000000001, 2.86001, 2.8600199999999996, 2.8]\n"
     ]
    }
   ],
   "source": [
    "difference2_sal = []\n",
    "\n",
    "zip_object = zip(temp, temp_crn)\n",
    "for temp_i, temp_crn_i in zip_object:\n",
    "    difference2_sal.append(temp_i-temp_crn_i)\n",
    "\n",
    "print(difference2_sal)"
   ]
  },
  {
   "cell_type": "markdown",
   "id": "521bd7c5",
   "metadata": {},
   "source": [
    "<font size=\"3\">Batesville, AR: 0600 UTC (12:00 am CST) 01 March 2022-0600 UTC (12:00 am CST) 02 March 2022</font>"
   ]
  },
  {
   "cell_type": "code",
   "execution_count": 41,
   "id": "fac2aa09",
   "metadata": {},
   "outputs": [
    {
     "name": "stdout",
     "output_type": "stream",
     "text": [
      "[-0.75, -0.579987, -0.559998, -0.579987, -0.570007, -0.540009, -0.579987, -0.160004, 4.09, 7.53, 10.79, 13.33, 15.15, 16.56, 17.33, 17.59, 16.57, 14.42, 10.72, 7.89999, 6.44, 5.63, 4.95001, 4.36002, 3.64001]\n",
      "25\n"
     ]
    }
   ],
   "source": [
    "#1 hr hrrr:\n",
    "with open('hrrr_f12_Batesville_AR.txt') as f:\n",
    "    lst=[line.split()[4] for line in f]\n",
    "    temp=[]\n",
    "    for i in lst:\n",
    "        new=i.replace(',',\"\")\n",
    "        temp.append(new)\n",
    "    temp.pop(0)\n",
    "    temp=[float(x) for x in temp]\n",
    "    temp=temp[1698:1723]\n",
    "#     x = np.array(temp)\n",
    "#     temp = ma.masked_array(x, mask=[0, 0, 0, 0, 0,0,0,0,0,0,0,0,0,0,0,0,0,0,0,0,0,1,0,0,0])\n",
    "    #temp=temp[2015:2063]\n",
    "    print(temp)\n",
    "    print(len(temp))\n",
    "#full time period is [2015:2112]"
   ]
  },
  {
   "cell_type": "code",
   "execution_count": 42,
   "id": "ddec2780",
   "metadata": {},
   "outputs": [
    {
     "name": "stdout",
     "output_type": "stream",
     "text": [
      "[-4.0, -1.7, -0.9, -0.8500000000000001, -0.8, -1.1, -1.75, 0.44999999999999996, 4.4, 9.15, 12.95, 17.299999999999997, 19.950000000000003, 19.549999999999997, 19.0, 17.8, 15.5, 12.3, 8.0, 5.7, 3.1500000000000004, 4.85, 5.45, 5.75, 5.75]\n"
     ]
    }
   ],
   "source": [
    "#Air Temp CRN:\n",
    "with open('CRNS0101-05-2022-AR_Batesville_8_WNW.txt') as f:\n",
    "    lst=[line.split()[12] for line in f]\n",
    "    \n",
    "    a=(float(lst[20519])+float(lst[20520]))/2\n",
    "    b=(float(lst[20531])+float(lst[20532]))/2\n",
    "    c=(float(lst[20543])+float(lst[20544]))/2\n",
    "    d=(float(lst[20555])+float(lst[20556]))/2\n",
    "    e=(float(lst[20567])+float(lst[20568]))/2\n",
    "    f=(float(lst[20579])+float(lst[20580]))/2\n",
    "    g=(float(lst[20591])+float(lst[20592]))/2\n",
    "    h=(float(lst[20603])+float(lst[20604]))/2\n",
    "    i=(float(lst[20615])+float(lst[20616]))/2\n",
    "    j=(float(lst[20627])+float(lst[20628]))/2\n",
    "    k=(float(lst[20639])+float(lst[20640]))/2\n",
    "    l=(float(lst[20651])+float(lst[20652]))/2\n",
    "    m=(float(lst[20663])+float(lst[20664]))/2\n",
    "    n=(float(lst[20675])+float(lst[20676]))/2\n",
    "    o=(float(lst[20687])+float(lst[20688]))/2\n",
    "    p=(float(lst[20699])+float(lst[20700]))/2\n",
    "    q=(float(lst[20711])+float(lst[20712]))/2\n",
    "    r=(float(lst[20723])+float(lst[20724]))/2\n",
    "    s=(float(lst[20735])+float(lst[20736]))/2\n",
    "    t=(float(lst[20747])+float(lst[20748]))/2\n",
    "    u=(float(lst[20759])+float(lst[20760]))/2\n",
    "    v=(float(lst[20771])+float(lst[20772]))/2\n",
    "    w=(float(lst[20783])+float(lst[20784]))/2\n",
    "    x=(float(lst[20795])+float(lst[20796]))/2\n",
    "    y=(float(lst[20807])+float(lst[20808]))/2\n",
    "    \n",
    "    temp_crn=[a,b,c,d,e,f,g,h,i,j,k,l,m,n,o,p,q,r,s,t,u,v,w,x,y]\n",
    "    print(temp_crn)"
   ]
  },
  {
   "cell_type": "code",
   "execution_count": 43,
   "id": "6a5a229b",
   "metadata": {},
   "outputs": [
    {
     "name": "stdout",
     "output_type": "stream",
     "text": [
      "[3.25, 1.120013, 0.340002, 0.27001300000000006, 0.229993, 0.5599910000000001, 1.170013, -0.610004, -0.3100000000000005, -1.62, -2.16, -3.969999999999997, -4.8000000000000025, -2.9899999999999984, -1.6700000000000017, -0.21000000000000085, 1.0700000000000003, 2.119999999999999, 2.7200000000000006, 2.1999899999999997, 3.29, 0.7800000000000002, -0.4999900000000004, -1.3899800000000004, -2.10999]\n"
     ]
    }
   ],
   "source": [
    "difference2_bat = []\n",
    "\n",
    "zip_object = zip(temp, temp_crn)\n",
    "for temp_i, temp_crn_i in zip_object:\n",
    "    difference2_bat.append(temp_i-temp_crn_i)\n",
    "\n",
    "print(difference2_bat)"
   ]
  },
  {
   "cell_type": "markdown",
   "id": "16bf265f",
   "metadata": {},
   "source": [
    "<font size=\"3\">Lafayette, LA: 0600 UTC (12:00 am CST) 01 March 2022-0600 UTC (12:00 am CST) 02 March 2022</font>"
   ]
  },
  {
   "cell_type": "code",
   "execution_count": 44,
   "id": "b23c7950",
   "metadata": {},
   "outputs": [
    {
     "name": "stdout",
     "output_type": "stream",
     "text": [
      "[2.73001, 1.86002, 1.29001, 0.76001, 0.110016, -0.0700073, -0.359985, 0.820007, 6.41, 12.41, 17.21, 21.08, 23.69, 25.03, 24.89, 23.82, 20.81, 17.77, 14.1, 12.17, 10.99, 11.29, 11.36, 10.1, 10.66]\n"
     ]
    }
   ],
   "source": [
    "#1 hr hrrr:\n",
    "with open('hrrr_f12_Lafayette_LA.txt') as f:\n",
    "    lst=[line.split()[4] for line in f]\n",
    "    temp=[]\n",
    "    for i in lst:\n",
    "        new=i.replace(',',\"\")\n",
    "        temp.append(new)\n",
    "    temp.pop(0)\n",
    "    temp=[float(x) for x in temp]\n",
    "    temp=temp[1698:1723]\n",
    "    #temp=temp[2015:2063]\n",
    "    print(temp)\n",
    "    #print(len(temp))\n",
    "#full time period is [2015:2112]"
   ]
  },
  {
   "cell_type": "code",
   "execution_count": 45,
   "id": "322db923",
   "metadata": {},
   "outputs": [
    {
     "name": "stdout",
     "output_type": "stream",
     "text": [
      "[-1.65, -2.25, -3.0, -3.45, -3.9, -4.15, -3.4, -0.8, 5.35, 12.35, 17.5, 21.799999999999997, 23.75, 24.35, 23.8, 20.25, 18.549999999999997, 14.600000000000001, 9.0, 5.550000000000001, 4.25, 5.5, 4.85, 4.15, 6.9]\n"
     ]
    }
   ],
   "source": [
    "#Air Temp CRN:\n",
    "with open('CRNS0101-05-2022-LA_Lafayette_13_SE.txt') as f:\n",
    "    lst=[line.split()[12] for line in f]\n",
    "    \n",
    "    a=(float(lst[20519])+float(lst[20520]))/2\n",
    "    b=(float(lst[20531])+float(lst[20532]))/2\n",
    "    c=(float(lst[20543])+float(lst[20544]))/2\n",
    "    d=(float(lst[20555])+float(lst[20556]))/2\n",
    "    e=(float(lst[20567])+float(lst[20568]))/2\n",
    "    f=(float(lst[20579])+float(lst[20580]))/2\n",
    "    g=(float(lst[20591])+float(lst[20592]))/2\n",
    "    h=(float(lst[20603])+float(lst[20604]))/2\n",
    "    i=(float(lst[20615])+float(lst[20616]))/2\n",
    "    j=(float(lst[20627])+float(lst[20628]))/2\n",
    "    k=(float(lst[20639])+float(lst[20640]))/2\n",
    "    l=(float(lst[20651])+float(lst[20652]))/2\n",
    "    m=(float(lst[20663])+float(lst[20664]))/2\n",
    "    n=(float(lst[20675])+float(lst[20676]))/2\n",
    "    o=(float(lst[20687])+float(lst[20688]))/2\n",
    "    p=(float(lst[20699])+float(lst[20700]))/2\n",
    "    q=(float(lst[20711])+float(lst[20712]))/2\n",
    "    r=(float(lst[20723])+float(lst[20724]))/2\n",
    "    s=(float(lst[20735])+float(lst[20736]))/2\n",
    "    t=(float(lst[20747])+float(lst[20748]))/2\n",
    "    u=(float(lst[20759])+float(lst[20760]))/2\n",
    "    v=(float(lst[20771])+float(lst[20772]))/2\n",
    "    w=(float(lst[20783])+float(lst[20784]))/2\n",
    "    x=(float(lst[20795])+float(lst[20796]))/2\n",
    "    y=(float(lst[20807])+float(lst[20808]))/2\n",
    "    \n",
    "    temp_crn=[a,b,c,d,e,f,g,h,i,j,k,l,m,n,o,p,q,r,s,t,u,v,w,x,y]\n",
    "    print(temp_crn)"
   ]
  },
  {
   "cell_type": "code",
   "execution_count": 46,
   "id": "07cf95c8",
   "metadata": {},
   "outputs": [
    {
     "name": "stdout",
     "output_type": "stream",
     "text": [
      "[4.38001, 4.1100200000000005, 4.2900100000000005, 4.2100100000000005, 4.010016, 4.0799927, 3.040015, 1.6200070000000002, 1.0600000000000005, 0.0600000000000005, -0.28999999999999915, -0.7199999999999989, -0.05999999999999872, 0.6799999999999997, 1.0899999999999999, 3.5700000000000003, 2.2600000000000016, 3.169999999999998, 5.1, 6.619999999999999, 6.74, 5.789999999999999, 6.51, 5.949999999999999, 3.76]\n"
     ]
    }
   ],
   "source": [
    "difference2_laf = []\n",
    "\n",
    "zip_object = zip(temp, temp_crn)\n",
    "for temp_i, temp_crn_i in zip_object:\n",
    "    difference2_laf.append(temp_i-temp_crn_i)\n",
    "\n",
    "print(difference2_laf)"
   ]
  },
  {
   "cell_type": "markdown",
   "id": "cda99a3a",
   "metadata": {},
   "source": [
    "<font size=\"3\">Monroe, LA: 0600 UTC (12:00 am CST) 01 March 2022-0600 UTC (12:00 am CST) 02 March 2022</font>"
   ]
  },
  {
   "cell_type": "code",
   "execution_count": 47,
   "id": "3c145693",
   "metadata": {},
   "outputs": [
    {
     "name": "stdout",
     "output_type": "stream",
     "text": [
      "[0.410004, -0.0400085, -0.359985, -0.759979, -1.10001, -1.07001, -0.970001, -0.380005, 3.64001, 8.27002, 12.63, 17.2, 20.46, 22.59, 22.9, 22.07, 20.13, 17.04, 13.2, 10.24, 8.64999, 7.72, 6.95001, 6.38, 6.01001]\n"
     ]
    }
   ],
   "source": [
    "#1 hr hrrr:\n",
    "with open('hrrr_f12_Monroe_LA.txt') as f:\n",
    "    lst=[line.split()[4] for line in f]\n",
    "    temp=[]\n",
    "    for i in lst:\n",
    "        new=i.replace(',',\"\")\n",
    "        temp.append(new)\n",
    "    temp.pop(0)\n",
    "    temp=[float(x) for x in temp]\n",
    "    temp=temp[1698:1723]\n",
    "    #temp=temp[2015:2063]\n",
    "    print(temp)\n",
    "    #print(len(temp))\n",
    "#full time period is [2015:2112]"
   ]
  },
  {
   "cell_type": "code",
   "execution_count": 48,
   "id": "facb606c",
   "metadata": {},
   "outputs": [
    {
     "name": "stdout",
     "output_type": "stream",
     "text": [
      "[-2.05, -2.4, -2.5, -2.7, -2.95, -3.1500000000000004, -3.25, -1.75, 4.05, 9.2, 13.2, 17.15, 19.25, 20.65, 20.4, 19.4, 18.9, 13.1, 10.100000000000001, 4.9, 3.2, 1.5, 1.35, 1.65, 2.1]\n"
     ]
    }
   ],
   "source": [
    "#Air Temp CRN:\n",
    "with open('CRNS0101-05-2022-LA_Monroe_26_N.txt') as f:\n",
    "    lst=[line.split()[12] for line in f]\n",
    "    \n",
    "    a=(float(lst[20519])+float(lst[20520]))/2\n",
    "    b=(float(lst[20531])+float(lst[20532]))/2\n",
    "    c=(float(lst[20543])+float(lst[20544]))/2\n",
    "    d=(float(lst[20555])+float(lst[20556]))/2\n",
    "    e=(float(lst[20567])+float(lst[20568]))/2\n",
    "    f=(float(lst[20579])+float(lst[20580]))/2\n",
    "    g=(float(lst[20591])+float(lst[20592]))/2\n",
    "    h=(float(lst[20603])+float(lst[20604]))/2\n",
    "    i=(float(lst[20615])+float(lst[20616]))/2\n",
    "    j=(float(lst[20627])+float(lst[20628]))/2\n",
    "    k=(float(lst[20639])+float(lst[20640]))/2\n",
    "    l=(float(lst[20651])+float(lst[20652]))/2\n",
    "    m=(float(lst[20663])+float(lst[20664]))/2\n",
    "    n=(float(lst[20675])+float(lst[20676]))/2\n",
    "    o=(float(lst[20687])+float(lst[20688]))/2\n",
    "    p=(float(lst[20699])+float(lst[20700]))/2\n",
    "    q=(float(lst[20711])+float(lst[20712]))/2\n",
    "    r=(float(lst[20723])+float(lst[20724]))/2\n",
    "    s=(float(lst[20735])+float(lst[20736]))/2\n",
    "    t=(float(lst[20747])+float(lst[20748]))/2\n",
    "    u=(float(lst[20759])+float(lst[20760]))/2\n",
    "    v=(float(lst[20771])+float(lst[20772]))/2\n",
    "    w=(float(lst[20783])+float(lst[20784]))/2\n",
    "    x=(float(lst[20795])+float(lst[20796]))/2\n",
    "    y=(float(lst[20807])+float(lst[20808]))/2\n",
    "    \n",
    "    temp_crn=[a,b,c,d,e,f,g,h,i,j,k,l,m,n,o,p,q,r,s,t,u,v,w,x,y]\n",
    "    print(temp_crn)"
   ]
  },
  {
   "cell_type": "code",
   "execution_count": 49,
   "id": "e5057ed5",
   "metadata": {},
   "outputs": [
    {
     "name": "stdout",
     "output_type": "stream",
     "text": [
      "[2.4600039999999996, 2.3599915, 2.140015, 1.9400210000000002, 1.8499900000000002, 2.0799900000000004, 2.279999, 1.369995, -0.40998999999999963, -0.9299799999999987, -0.5699999999999985, 0.05000000000000071, 1.2100000000000009, 1.9400000000000013, 2.5, 2.6700000000000017, 1.2300000000000004, 3.9399999999999995, 3.099999999999998, 5.34, 5.449990000000001, 6.22, 5.600009999999999, 4.73, 3.91001]\n"
     ]
    }
   ],
   "source": [
    "difference2_mon = []\n",
    "\n",
    "zip_object = zip(temp, temp_crn)\n",
    "for temp_i, temp_crn_i in zip_object:\n",
    "    difference2_mon.append(temp_i-temp_crn_i)\n",
    "\n",
    "print(difference2_mon)"
   ]
  },
  {
   "cell_type": "markdown",
   "id": "50b6ccdc",
   "metadata": {},
   "source": [
    "<font size=\"3\">Holly Springs, MS: 0600 UTC (12:00 am CST) 01 March 2022-0600 UTC (12:00 am CST) 02 March 2022</font>"
   ]
  },
  {
   "cell_type": "code",
   "execution_count": 50,
   "id": "04968dd0",
   "metadata": {},
   "outputs": [
    {
     "name": "stdout",
     "output_type": "stream",
     "text": [
      "[-0.850006, -0.829987, -0.919983, -0.899994, -0.919983, -0.859985, -0.889984, -0.470001, 2.47, 6.12, 9.72, 13.14, 16.2, 18.19, 18.62, 18.22, 16.38, 13.73, 10.06, 7.79001, 6.67001, 5.81, 5.11002, 4.5, 3.67999]\n"
     ]
    }
   ],
   "source": [
    "#1 hr hrrr:\n",
    "with open('hrrr_f12_Holly Springs_MS.txt') as f:\n",
    "    lst=[line.split()[4] for line in f]\n",
    "    temp=[]\n",
    "    for i in lst:\n",
    "        new=i.replace(',',\"\")\n",
    "        temp.append(new)\n",
    "    temp.pop(0)\n",
    "    temp=[float(x) for x in temp]\n",
    "    temp=temp[1698:1723]\n",
    "    #temp=temp[2015:2063]\n",
    "    print(temp)\n",
    "    #print(len(temp))\n",
    "#full time period is [2015:2112]"
   ]
  },
  {
   "cell_type": "code",
   "execution_count": 51,
   "id": "3d3b4214",
   "metadata": {},
   "outputs": [
    {
     "name": "stdout",
     "output_type": "stream",
     "text": [
      "[-4.2, -4.2, -4.1, -4.25, -4.25, -4.1, -3.8, -2.65, 1.35, 9.149999999999999, 13.75, 18.1, 20.05, 21.049999999999997, 20.799999999999997, 18.5, 16.15, 11.15, 6.25, 3.3499999999999996, 2.7, 2.05, 1.45, 1.3, 1.5]\n"
     ]
    }
   ],
   "source": [
    "#Air Temp CRN:\n",
    "with open('CRNS0101-05-2022-MS_Holly_Springs_4_N.txt') as f:\n",
    "    lst=[line.split()[12] for line in f]\n",
    "    \n",
    "    a=(float(lst[20519])+float(lst[20520]))/2\n",
    "    b=(float(lst[20531])+float(lst[20532]))/2\n",
    "    c=(float(lst[20543])+float(lst[20544]))/2\n",
    "    d=(float(lst[20555])+float(lst[20556]))/2\n",
    "    e=(float(lst[20567])+float(lst[20568]))/2\n",
    "    f=(float(lst[20579])+float(lst[20580]))/2\n",
    "    g=(float(lst[20591])+float(lst[20592]))/2\n",
    "    h=(float(lst[20603])+float(lst[20604]))/2\n",
    "    i=(float(lst[20615])+float(lst[20616]))/2\n",
    "    j=(float(lst[20627])+float(lst[20628]))/2\n",
    "    k=(float(lst[20639])+float(lst[20640]))/2\n",
    "    l=(float(lst[20651])+float(lst[20652]))/2\n",
    "    m=(float(lst[20663])+float(lst[20664]))/2\n",
    "    n=(float(lst[20675])+float(lst[20676]))/2\n",
    "    o=(float(lst[20687])+float(lst[20688]))/2\n",
    "    p=(float(lst[20699])+float(lst[20700]))/2\n",
    "    q=(float(lst[20711])+float(lst[20712]))/2\n",
    "    r=(float(lst[20723])+float(lst[20724]))/2\n",
    "    s=(float(lst[20735])+float(lst[20736]))/2\n",
    "    t=(float(lst[20747])+float(lst[20748]))/2\n",
    "    u=(float(lst[20759])+float(lst[20760]))/2\n",
    "    v=(float(lst[20771])+float(lst[20772]))/2\n",
    "    w=(float(lst[20783])+float(lst[20784]))/2\n",
    "    x=(float(lst[20795])+float(lst[20796]))/2\n",
    "    y=(float(lst[20807])+float(lst[20808]))/2\n",
    "    \n",
    "    temp_crn=[a,b,c,d,e,f,g,h,i,j,k,l,m,n,o,p,q,r,s,t,u,v,w,x,y]\n",
    "    print(temp_crn)"
   ]
  },
  {
   "cell_type": "code",
   "execution_count": 52,
   "id": "b1ba34c2",
   "metadata": {},
   "outputs": [
    {
     "name": "stdout",
     "output_type": "stream",
     "text": [
      "[3.349994, 3.370013, 3.1800169999999994, 3.350006, 3.330017, 3.2400149999999996, 2.9100159999999997, 2.179999, 1.12, -3.0299999999999985, -4.029999999999999, -4.960000000000001, -3.8500000000000014, -2.859999999999996, -2.179999999999996, -0.28000000000000114, 0.23000000000000043, 2.58, 3.8100000000000005, 4.44001, 3.9700100000000003, 3.76, 3.6600199999999994, 3.2, 2.17999]\n"
     ]
    }
   ],
   "source": [
    "difference2_hol = []\n",
    "\n",
    "zip_object = zip(temp, temp_crn)\n",
    "for temp_i, temp_crn_i in zip_object:\n",
    "    difference2_hol.append(temp_i-temp_crn_i)\n",
    "\n",
    "print(difference2_hol)"
   ]
  },
  {
   "cell_type": "markdown",
   "id": "9dd596b5",
   "metadata": {},
   "source": [
    "<font size=\"3\">Newton, MS: 0600 UTC (12:00 am CST) 01 March 2022-0600 UTC (12:00 am CST) 02 March 2022</font>"
   ]
  },
  {
   "cell_type": "code",
   "execution_count": 53,
   "id": "67050150",
   "metadata": {},
   "outputs": [
    {
     "name": "stdout",
     "output_type": "stream",
     "text": [
      "[-1.45999, -1.78, -4.64999, -5.42999, -5.42999, -5.38998, -5.39999, -3.07999, 4.37, 10.19, 14.97, 18.33, 20.21, 21.64, 21.54, 20.55, 18.55, 15.45, 11.62, 9.01001, 7.39999, 6.37, 5.38, 4.51001, 3.53]\n"
     ]
    }
   ],
   "source": [
    "#1 hr hrrr:\n",
    "with open('hrrr_f12_Newton_MS.txt') as f:\n",
    "    lst=[line.split()[4] for line in f]\n",
    "    temp=[]\n",
    "    for i in lst:\n",
    "        new=i.replace(',',\"\")\n",
    "        temp.append(new)\n",
    "    temp.pop(0)\n",
    "    temp=[float(x) for x in temp]\n",
    "    temp=temp[1698:1723]\n",
    "    #temp=temp[2015:2063]\n",
    "    print(temp)\n",
    "    #print(len(temp))\n",
    "#full time period is [2015:2112]"
   ]
  },
  {
   "cell_type": "code",
   "execution_count": 54,
   "id": "668cca8c",
   "metadata": {},
   "outputs": [
    {
     "name": "stdout",
     "output_type": "stream",
     "text": [
      "[-3.6500000000000004, -4.0, -4.45, -4.7, -5.0, -5.05, -5.15, -1.25, 6.05, 11.850000000000001, 18.15, 21.299999999999997, 23.299999999999997, 24.1, 24.95, 23.1, 19.65, 15.2, 7.55, 4.1, 2.55, 1.55, 0.7, 0.25, -0.2]\n"
     ]
    }
   ],
   "source": [
    "#Air Temp CRN:\n",
    "with open('CRNS0101-05-2022-MS_Newton_5_ENE.txt') as f:\n",
    "    lst=[line.split()[12] for line in f]\n",
    "    \n",
    "    a=(float(lst[20519])+float(lst[20520]))/2\n",
    "    b=(float(lst[20531])+float(lst[20532]))/2\n",
    "    c=(float(lst[20543])+float(lst[20544]))/2\n",
    "    d=(float(lst[20555])+float(lst[20556]))/2\n",
    "    e=(float(lst[20567])+float(lst[20568]))/2\n",
    "    f=(float(lst[20579])+float(lst[20580]))/2\n",
    "    g=(float(lst[20591])+float(lst[20592]))/2\n",
    "    h=(float(lst[20603])+float(lst[20604]))/2\n",
    "    i=(float(lst[20615])+float(lst[20616]))/2\n",
    "    j=(float(lst[20627])+float(lst[20628]))/2\n",
    "    k=(float(lst[20639])+float(lst[20640]))/2\n",
    "    l=(float(lst[20651])+float(lst[20652]))/2\n",
    "    m=(float(lst[20663])+float(lst[20664]))/2\n",
    "    n=(float(lst[20675])+float(lst[20676]))/2\n",
    "    o=(float(lst[20687])+float(lst[20688]))/2\n",
    "    p=(float(lst[20699])+float(lst[20700]))/2\n",
    "    q=(float(lst[20711])+float(lst[20712]))/2\n",
    "    r=(float(lst[20723])+float(lst[20724]))/2\n",
    "    s=(float(lst[20735])+float(lst[20736]))/2\n",
    "    t=(float(lst[20747])+float(lst[20748]))/2\n",
    "    u=(float(lst[20759])+float(lst[20760]))/2\n",
    "    v=(float(lst[20771])+float(lst[20772]))/2\n",
    "    w=(float(lst[20783])+float(lst[20784]))/2\n",
    "    x=(float(lst[20795])+float(lst[20796]))/2\n",
    "    y=(float(lst[20807])+float(lst[20808]))/2\n",
    "    \n",
    "    temp_crn=[a,b,c,d,e,f,g,h,i,j,k,l,m,n,o,p,q,r,s,t,u,v,w,x,y]\n",
    "    print(temp_crn)"
   ]
  },
  {
   "cell_type": "code",
   "execution_count": 55,
   "id": "e8bd78b0",
   "metadata": {},
   "outputs": [
    {
     "name": "stdout",
     "output_type": "stream",
     "text": [
      "[2.1900100000000005, 2.2199999999999998, -0.19998999999999967, -0.7299899999999999, -0.4299900000000001, -0.3399800000000006, -0.2499899999999995, -1.82999, -1.6799999999999997, -1.660000000000002, -3.179999999999998, -2.969999999999999, -3.0899999999999963, -2.460000000000001, -3.41, -2.5500000000000007, -1.0999999999999979, 0.25, 4.069999999999999, 4.91001, 4.84999, 4.82, 4.68, 4.26001, 3.73]\n"
     ]
    }
   ],
   "source": [
    "difference2_new = []\n",
    "\n",
    "zip_object = zip(temp, temp_crn)\n",
    "for temp_i, temp_crn_i in zip_object:\n",
    "    difference2_new.append(temp_i-temp_crn_i)\n",
    "\n",
    "print(difference2_new)"
   ]
  },
  {
   "cell_type": "markdown",
   "id": "ec499d8b",
   "metadata": {},
   "source": [
    "<font size=\"3\">Gainesville, AL: 0600 UTC (12:00 am CST) 01 March 2022-0600 UTC (12:00 am CST) 02 March 2022</font>"
   ]
  },
  {
   "cell_type": "code",
   "execution_count": 56,
   "id": "e9f22db0",
   "metadata": {},
   "outputs": [],
   "source": [
    "# #1 hr hrrr:\n",
    "# with open('hrrr_f12_Gainesville_AL.txt') as f:\n",
    "#     lst=[line.split()[4] for line in f]\n",
    "#     temp=[]\n",
    "#     for i in lst:\n",
    "#         new=i.replace(',',\"\")\n",
    "#         temp.append(new)\n",
    "#     temp.pop(0)\n",
    "#     temp=[float(x) for x in temp]\n",
    "#     temp=temp[1698:1723]\n",
    "#     #temp=temp[2015:2063]\n",
    "#     print(temp)\n",
    "#     #print(len(temp))\n",
    "# #full time period is [2015:2112]"
   ]
  },
  {
   "cell_type": "code",
   "execution_count": 57,
   "id": "de89a88f",
   "metadata": {},
   "outputs": [],
   "source": [
    "# #Air Temp CRN:\n",
    "# with open('CRNH0203-2022-AL_Gainesville_2_NE.txt') as f:\n",
    "#     lst=[line.split()[13] for line in f]\n",
    "#     #prfloat(lst)\n",
    "#     temp_crn=[]\n",
    "#     for i in lst:\n",
    "#         new=i.replace(',',\"\")\n",
    "#         temp_crn.append(new)\n",
    "#     temp_crn=[float(x) for x in temp_crn]\n",
    "#     temp_crn=temp_crn[1709:1734]\n",
    "#     print(temp_crn)\n",
    "#     #print(len(temp_crn))\n",
    "#     # print(temp_crn[2124])"
   ]
  },
  {
   "cell_type": "code",
   "execution_count": 58,
   "id": "2d1d92b8",
   "metadata": {},
   "outputs": [],
   "source": [
    "# difference2_gai = []\n",
    "\n",
    "# zip_object = zip(temp, temp_crn)\n",
    "# for temp_i, temp_crn_i in zip_object:\n",
    "#     difference2_gai.append(temp_i-temp_crn_i)\n",
    "\n",
    "# print(difference2_gai)"
   ]
  },
  {
   "cell_type": "markdown",
   "id": "4019fb67",
   "metadata": {},
   "source": [
    "<font size=\"3\">Fairhope, AL: 0600 UTC (12:00 am CST) 01 March 2022-0600 UTC (12:00 am CST) 02 March 2022</font>"
   ]
  },
  {
   "cell_type": "code",
   "execution_count": 59,
   "id": "c7e8255a",
   "metadata": {},
   "outputs": [
    {
     "name": "stdout",
     "output_type": "stream",
     "text": [
      "[1.55002, 1.14001, 0.580017, 0.200012, -0.320007, -0.779999, -1.07999, 1.13, 5.97, 10.6, 14.64, 18.13, 20.24, 21.32, 20.92, 19.22, 17.26, 14.01, 10.4, 8.42001, 6.77002, 5.53, 4.70001, 4.10001, 3.61002]\n"
     ]
    }
   ],
   "source": [
    "#1 hr hrrr:\n",
    "with open('hrrr_f12_Fairhope_AL.txt') as f:\n",
    "    lst=[line.split()[4] for line in f]\n",
    "    temp=[]\n",
    "    for i in lst:\n",
    "        new=i.replace(',',\"\")\n",
    "        temp.append(new)\n",
    "    temp.pop(0)\n",
    "    temp=[float(x) for x in temp]\n",
    "    temp=temp[1698:1723]\n",
    "    #temp=temp[2015:2063]\n",
    "    print(temp)\n",
    "    #print(len(temp))\n",
    "#full time period is [2015:2112]"
   ]
  },
  {
   "cell_type": "code",
   "execution_count": 60,
   "id": "7e7a4b0d",
   "metadata": {},
   "outputs": [
    {
     "name": "stdout",
     "output_type": "stream",
     "text": [
      "[-1.3, -2.55, -4.95, -4.9, -3.4, -4.550000000000001, -3.5, 1.0, 9.75, 15.7, 22.15, 26.3, 29.1, 24.85, 23.299999999999997, 20.1, 14.8, 10.1, 3.7, -0.15000000000000002, -0.8500000000000001, -1.45, -1.85, -2.25, -2.55]\n"
     ]
    }
   ],
   "source": [
    "#Air Temp CRN:\n",
    "with open('CRNS0101-05-2022-AL_Fairhope_3_NE.txt') as f:\n",
    "    lst=[line.split()[12] for line in f]\n",
    "    \n",
    "    a=(float(lst[20519])+float(lst[20520]))/2\n",
    "    b=(float(lst[20531])+float(lst[20532]))/2\n",
    "    c=(float(lst[20543])+float(lst[20544]))/2\n",
    "    d=(float(lst[20555])+float(lst[20556]))/2\n",
    "    e=(float(lst[20567])+float(lst[20568]))/2\n",
    "    f=(float(lst[20579])+float(lst[20580]))/2\n",
    "    g=(float(lst[20591])+float(lst[20592]))/2\n",
    "    h=(float(lst[20603])+float(lst[20604]))/2\n",
    "    i=(float(lst[20615])+float(lst[20616]))/2\n",
    "    j=(float(lst[20627])+float(lst[20628]))/2\n",
    "    k=(float(lst[20639])+float(lst[20640]))/2\n",
    "    l=(float(lst[20651])+float(lst[20652]))/2\n",
    "    m=(float(lst[20663])+float(lst[20664]))/2\n",
    "    n=(float(lst[20675])+float(lst[20676]))/2\n",
    "    o=(float(lst[20687])+float(lst[20688]))/2\n",
    "    p=(float(lst[20699])+float(lst[20700]))/2\n",
    "    q=(float(lst[20711])+float(lst[20712]))/2\n",
    "    r=(float(lst[20723])+float(lst[20724]))/2\n",
    "    s=(float(lst[20735])+float(lst[20736]))/2\n",
    "    t=(float(lst[20747])+float(lst[20748]))/2\n",
    "    u=(float(lst[20759])+float(lst[20760]))/2\n",
    "    v=(float(lst[20771])+float(lst[20772]))/2\n",
    "    w=(float(lst[20783])+float(lst[20784]))/2\n",
    "    x=(float(lst[20795])+float(lst[20796]))/2\n",
    "    y=(float(lst[20807])+float(lst[20808]))/2\n",
    "    \n",
    "    temp_crn=[a,b,c,d,e,f,g,h,i,j,k,l,m,n,o,p,q,r,s,t,u,v,w,x,y]\n",
    "    print(temp_crn)"
   ]
  },
  {
   "cell_type": "code",
   "execution_count": 61,
   "id": "e99e35e0",
   "metadata": {},
   "outputs": [
    {
     "name": "stdout",
     "output_type": "stream",
     "text": [
      "[2.8500199999999998, 3.69001, 5.530017, 5.100012, 3.079993, 3.7700010000000006, 2.42001, 0.1299999999999999, -3.7800000000000002, -5.1, -7.509999999999998, -8.170000000000002, -8.860000000000003, -3.530000000000001, -2.3799999999999955, -0.8800000000000026, 2.460000000000001, 3.91, 6.7, 8.57001, 7.62002, 6.98, 6.55001, 6.35001, 6.160019999999999]\n"
     ]
    }
   ],
   "source": [
    "difference2_fai = []\n",
    "\n",
    "zip_object = zip(temp, temp_crn)\n",
    "for temp_i, temp_crn_i in zip_object:\n",
    "    difference2_fai.append(temp_i-temp_crn_i)\n",
    "\n",
    "print(difference2_fai)"
   ]
  },
  {
   "cell_type": "markdown",
   "id": "cb09fde7",
   "metadata": {},
   "source": [
    "<font size=\"3\">**Selma, AL: 0600 UTC (12:00 am CST) 01 March 2022-0600 UTC (12:00 am CST) 02 March 2022</font>"
   ]
  },
  {
   "cell_type": "code",
   "execution_count": 62,
   "id": "fe2b2257",
   "metadata": {},
   "outputs": [
    {
     "name": "stdout",
     "output_type": "stream",
     "text": [
      "[-0.519989, -0.529999, -0.559998, -0.48999, -0.509979, -0.540009, -0.519989, 0.740021, 4.33002, 7.64001, 10.63, 13.06, 14.44, 15.36, 15.58, 15.01, 13.8, 11.94, 8.56, 6.36002, 5.51001, 4.84, 4.39999, 3.60001, 2.56]\n"
     ]
    }
   ],
   "source": [
    "#1 hr hrrr:\n",
    "with open('hrrr_f12_Selma_AL.txt') as f:\n",
    "    lst=[line.split()[4] for line in f]\n",
    "    temp=[]\n",
    "    for i in lst:\n",
    "        new=i.replace(',',\"\")\n",
    "        temp.append(new)\n",
    "    temp.pop(0)\n",
    "    temp=[float(x) for x in temp]\n",
    "    temp=temp[1698:1723]\n",
    "    print(temp)"
   ]
  },
  {
   "cell_type": "code",
   "execution_count": 63,
   "id": "c7293c23",
   "metadata": {},
   "outputs": [
    {
     "name": "stdout",
     "output_type": "stream",
     "text": [
      "[-1.55, -1.9, -2.55, -3.0, -3.4, -3.5, -3.6500000000000004, 0.0, 7.15, 10.85, 15.45, 19.450000000000003, 20.65, 21.35, 21.1, 20.7, 17.4, 14.95, 10.2, 6.699999999999999, 5.05, 4.0, 3.1500000000000004, 2.5, 2.3499999999999996]\n"
     ]
    }
   ],
   "source": [
    "#Air Temp CRN:\n",
    "with open('CRNS0101-05-2022-AL_Selma_13_WNW.txt') as f:\n",
    "    lst=[line.split()[12] for line in f]\n",
    "    \n",
    "    a=(float(lst[20519])+float(lst[20520]))/2\n",
    "    b=(float(lst[20531])+float(lst[20532]))/2\n",
    "    c=(float(lst[20543])+float(lst[20544]))/2\n",
    "    d=(float(lst[20555])+float(lst[20556]))/2\n",
    "    e=(float(lst[20567])+float(lst[20568]))/2\n",
    "    f=(float(lst[20579])+float(lst[20580]))/2\n",
    "    g=(float(lst[20591])+float(lst[20592]))/2\n",
    "    h=(float(lst[20603])+float(lst[20604]))/2\n",
    "    i=(float(lst[20615])+float(lst[20616]))/2\n",
    "    j=(float(lst[20627])+float(lst[20628]))/2\n",
    "    k=(float(lst[20639])+float(lst[20640]))/2\n",
    "    l=(float(lst[20651])+float(lst[20652]))/2\n",
    "    m=(float(lst[20663])+float(lst[20664]))/2\n",
    "    n=(float(lst[20675])+float(lst[20676]))/2\n",
    "    o=(float(lst[20687])+float(lst[20688]))/2\n",
    "    p=(float(lst[20699])+float(lst[20700]))/2\n",
    "    q=(float(lst[20711])+float(lst[20712]))/2\n",
    "    r=(float(lst[20723])+float(lst[20724]))/2\n",
    "    s=(float(lst[20735])+float(lst[20736]))/2\n",
    "    t=(float(lst[20747])+float(lst[20748]))/2\n",
    "    u=(float(lst[20759])+float(lst[20760]))/2\n",
    "    v=(float(lst[20771])+float(lst[20772]))/2\n",
    "    w=(float(lst[20783])+float(lst[20784]))/2\n",
    "    x=(float(lst[20795])+float(lst[20796]))/2\n",
    "    y=(float(lst[20807])+float(lst[20808]))/2\n",
    "    \n",
    "    temp_crn=[a,b,c,d,e,f,g,h,i,j,k,l,m,n,o,p,q,r,s,t,u,v,w,x,y]\n",
    "    print(temp_crn)"
   ]
  },
  {
   "cell_type": "code",
   "execution_count": 64,
   "id": "837ad3be",
   "metadata": {},
   "outputs": [
    {
     "name": "stdout",
     "output_type": "stream",
     "text": [
      "[1.030011, 1.3700009999999998, 1.9900019999999998, 2.51001, 2.890021, 2.959991, 3.1300110000000005, 0.740021, -2.81998, -3.2099899999999995, -4.8199999999999985, -6.390000000000002, -6.209999999999999, -5.990000000000002, -5.520000000000001, -5.6899999999999995, -3.599999999999998, -3.01, -1.6399999999999988, -0.3399799999999997, 0.4600100000000005, 0.8399999999999999, 1.2499899999999995, 1.1000100000000002, 0.2100000000000004]\n",
      "25\n"
     ]
    }
   ],
   "source": [
    "difference2_sel = []\n",
    "\n",
    "zip_object = zip(temp, temp_crn)\n",
    "for temp_i, temp_crn_i in zip_object:\n",
    "    difference2_sel.append(temp_i-temp_crn_i)\n",
    "\n",
    "print(difference2_sel)\n",
    "print(len(difference2_sel))"
   ]
  },
  {
   "cell_type": "markdown",
   "id": "9767e5fd",
   "metadata": {},
   "source": [
    "<font size=\"3\">Bowling Green, KY: 0600 UTC (12:00 am CST) 01 March 2022-0600 UTC (12:00 am CST) 02 March 2022</font>"
   ]
  },
  {
   "cell_type": "code",
   "execution_count": 65,
   "id": "a031b19f",
   "metadata": {},
   "outputs": [
    {
     "name": "stdout",
     "output_type": "stream",
     "text": [
      "[-5.41998, -5.37, -5.51999, -6.04999, -6.19, -5.44, -5.63998, -3.57001, -1.38998, -0.369995, 4.57001, 7.64001, 10.39, 12.27, 13.52, 13.71, 12.37, 10.22, 7.25, 5.60001, 4.84, 4.07001, 3.31, 2.91, 2.30002]\n"
     ]
    }
   ],
   "source": [
    "#1 hr hrrr:\n",
    "with open('hrrr_f12_Bowling Green_KY.txt') as f:\n",
    "    lst=[line.split()[4] for line in f]\n",
    "    temp=[]\n",
    "    for i in lst:\n",
    "        new=i.replace(',',\"\")\n",
    "        temp.append(new)\n",
    "    temp.pop(0)\n",
    "    temp=[float(x) for x in temp]\n",
    "    temp=temp[1698:1723]\n",
    "    #temp=temp[2015:2063]\n",
    "    print(temp)\n",
    "    #print(len(temp))\n",
    "#full time period is [2015:2112]"
   ]
  },
  {
   "cell_type": "code",
   "execution_count": 66,
   "id": "c134b665",
   "metadata": {},
   "outputs": [
    {
     "name": "stdout",
     "output_type": "stream",
     "text": [
      "[-11.399999999999999, -11.2, -11.45, -11.0, -6.949999999999999, -5.85, -5.3, -4.4, -2.7, -0.75, 1.5499999999999998, 5.55, 12.8, 16.4, 17.9, 15.1, 12.75, 8.2, 2.4000000000000004, 0.25, 0.25, 1.4, 1.75, 1.35, 1.2999999999999998]\n"
     ]
    }
   ],
   "source": [
    "#Air Temp CRN:\n",
    "with open('CRNS0101-05-2022-KY_Bowling_Green_21_NNE.txt') as f:\n",
    "    lst=[line.split()[12] for line in f]\n",
    "    \n",
    "    a=(float(lst[20519])+float(lst[20520]))/2\n",
    "    b=(float(lst[20531])+float(lst[20532]))/2\n",
    "    c=(float(lst[20543])+float(lst[20544]))/2\n",
    "    d=(float(lst[20555])+float(lst[20556]))/2\n",
    "    e=(float(lst[20567])+float(lst[20568]))/2\n",
    "    f=(float(lst[20579])+float(lst[20580]))/2\n",
    "    g=(float(lst[20591])+float(lst[20592]))/2\n",
    "    h=(float(lst[20603])+float(lst[20604]))/2\n",
    "    i=(float(lst[20615])+float(lst[20616]))/2\n",
    "    j=(float(lst[20627])+float(lst[20628]))/2\n",
    "    k=(float(lst[20639])+float(lst[20640]))/2\n",
    "    l=(float(lst[20651])+float(lst[20652]))/2\n",
    "    m=(float(lst[20663])+float(lst[20664]))/2\n",
    "    n=(float(lst[20675])+float(lst[20676]))/2\n",
    "    o=(float(lst[20687])+float(lst[20688]))/2\n",
    "    p=(float(lst[20699])+float(lst[20700]))/2\n",
    "    q=(float(lst[20711])+float(lst[20712]))/2\n",
    "    r=(float(lst[20723])+float(lst[20724]))/2\n",
    "    s=(float(lst[20735])+float(lst[20736]))/2\n",
    "    t=(float(lst[20747])+float(lst[20748]))/2\n",
    "    u=(float(lst[20759])+float(lst[20760]))/2\n",
    "    v=(float(lst[20771])+float(lst[20772]))/2\n",
    "    w=(float(lst[20783])+float(lst[20784]))/2\n",
    "    x=(float(lst[20795])+float(lst[20796]))/2\n",
    "    y=(float(lst[20807])+float(lst[20808]))/2\n",
    "    \n",
    "    temp_crn=[a,b,c,d,e,f,g,h,i,j,k,l,m,n,o,p,q,r,s,t,u,v,w,x,y]\n",
    "    print(temp_crn)"
   ]
  },
  {
   "cell_type": "code",
   "execution_count": 67,
   "id": "d326cffb",
   "metadata": {},
   "outputs": [
    {
     "name": "stdout",
     "output_type": "stream",
     "text": [
      "[5.980019999999999, 5.829999999999999, 5.930009999999999, 4.95001, 0.7599999999999989, 0.40999999999999925, -0.3399800000000006, 0.8299900000000004, 1.3100200000000002, 0.380005, 3.02001, 2.0900100000000004, -2.41, -4.129999999999999, -4.379999999999999, -1.3899999999999988, -0.3800000000000008, 2.0200000000000014, 4.85, 5.35001, 4.59, 2.67001, 1.56, 1.56, 1.0000200000000001]\n"
     ]
    }
   ],
   "source": [
    "difference2_bow = []\n",
    "\n",
    "zip_object = zip(temp, temp_crn)\n",
    "for temp_i, temp_crn_i in zip_object:\n",
    "    difference2_bow.append(temp_i-temp_crn_i)\n",
    "\n",
    "print(difference2_bow)"
   ]
  },
  {
   "cell_type": "markdown",
   "id": "cf477d73",
   "metadata": {},
   "source": [
    "<font size=\"3\">Gadsden, AL: 0600 UTC (12:00 am CST) 01 March 2022-0600 UTC (12:00 am CST) 02 March 2022</font>"
   ]
  },
  {
   "cell_type": "code",
   "execution_count": 68,
   "id": "8d9653aa",
   "metadata": {},
   "outputs": [
    {
     "name": "stdout",
     "output_type": "stream",
     "text": [
      "[-0.970001, -0.98999, -1.09, -1.41, -1.89999, -3.75998, -3.50998, -0.570007, 2.17001, 5.07001, 7.92999, 10.45, 12.1, 13.08, 13.49, 13.03, 11.35, 8.84, 5.74002, 4.26001, 3.64999, 3.07001, 2.16, 1.52002, 0.929993]\n"
     ]
    }
   ],
   "source": [
    "#1 hr hrrr:\n",
    "with open('hrrr_f12_Gadsden_AL.txt') as f:\n",
    "    lst=[line.split()[4] for line in f]\n",
    "    temp=[]\n",
    "    for i in lst:\n",
    "        new=i.replace(',',\"\")\n",
    "        temp.append(new)\n",
    "    temp.pop(0)\n",
    "    temp=[float(x) for x in temp]\n",
    "    temp=temp[1698:1723]\n",
    "#     x = np.array(temp)\n",
    "#     temp = ma.masked_array(x, mask=[0, 0, 0, 0, 0,0,0,0,1,0,0,0,0,0,0,0,0,0,0,0,0,0,0,0,0])\n",
    "    #temp=temp[2015:2063]\n",
    "    print(temp)\n",
    "    #print(len(temp))\n",
    "#full time period is [2015:2112]"
   ]
  },
  {
   "cell_type": "code",
   "execution_count": 69,
   "id": "5e83c09d",
   "metadata": {},
   "outputs": [
    {
     "name": "stdout",
     "output_type": "stream",
     "text": [
      "[-5.05, -5.35, -5.6, -5.75, -5.5, -5.8, -5.65, -0.8, 3.55, 9.3, 13.15, 16.2, 18.55, 18.75, 18.9, 16.05, 13.100000000000001, 9.6, 4.6, 3.2, 3.2, 2.75, 2.4, 1.95, 1.15]\n"
     ]
    }
   ],
   "source": [
    "#Air Temp CRN:\n",
    "with open('CRNS0101-05-2022-AL_Gadsden_19_N.txt') as f:\n",
    "    lst=[line.split()[12] for line in f]\n",
    "    \n",
    "    a=(float(lst[20519])+float(lst[20520]))/2\n",
    "    b=(float(lst[20531])+float(lst[20532]))/2\n",
    "    c=(float(lst[20543])+float(lst[20544]))/2\n",
    "    d=(float(lst[20555])+float(lst[20556]))/2\n",
    "    e=(float(lst[20567])+float(lst[20568]))/2\n",
    "    f=(float(lst[20579])+float(lst[20580]))/2\n",
    "    g=(float(lst[20591])+float(lst[20592]))/2\n",
    "    h=(float(lst[20603])+float(lst[20604]))/2\n",
    "    i=(float(lst[20615])+float(lst[20616]))/2\n",
    "    j=(float(lst[20627])+float(lst[20628]))/2\n",
    "    k=(float(lst[20639])+float(lst[20640]))/2\n",
    "    l=(float(lst[20651])+float(lst[20652]))/2\n",
    "    m=(float(lst[20663])+float(lst[20664]))/2\n",
    "    n=(float(lst[20675])+float(lst[20676]))/2\n",
    "    o=(float(lst[20687])+float(lst[20688]))/2\n",
    "    p=(float(lst[20699])+float(lst[20700]))/2\n",
    "    q=(float(lst[20711])+float(lst[20712]))/2\n",
    "    r=(float(lst[20723])+float(lst[20724]))/2\n",
    "    s=(float(lst[20735])+float(lst[20736]))/2\n",
    "    t=(float(lst[20747])+float(lst[20748]))/2\n",
    "    u=(float(lst[20759])+float(lst[20760]))/2\n",
    "    v=(float(lst[20771])+float(lst[20772]))/2\n",
    "    w=(float(lst[20783])+float(lst[20784]))/2\n",
    "    x=(float(lst[20795])+float(lst[20796]))/2\n",
    "    y=(float(lst[20807])+float(lst[20808]))/2\n",
    "    \n",
    "    temp_crn=[a,b,c,d,e,f,g,h,i,j,k,l,m,n,o,p,q,r,s,t,u,v,w,x,y]\n",
    "    print(temp_crn)"
   ]
  },
  {
   "cell_type": "code",
   "execution_count": 70,
   "id": "254e1e52",
   "metadata": {},
   "outputs": [
    {
     "name": "stdout",
     "output_type": "stream",
     "text": [
      "[4.079999, 4.36001, 4.51, 4.34, 3.60001, 2.0400199999999997, 2.1400200000000003, 0.229993, -1.3799899999999998, -4.229990000000001, -5.22001, -5.75, -6.450000000000001, -5.67, -5.409999999999998, -3.0200000000000014, -1.7500000000000018, -0.7599999999999998, 1.1400200000000007, 1.0600100000000001, 0.44998999999999967, 0.3200099999999999, -0.23999999999999977, -0.42998000000000003, -0.22000699999999995]\n"
     ]
    }
   ],
   "source": [
    "difference2_gad = []\n",
    "\n",
    "zip_object = zip(temp, temp_crn)\n",
    "for temp_i, temp_crn_i in zip_object:\n",
    "    difference2_gad.append(temp_i-temp_crn_i)\n",
    "\n",
    "print(difference2_gad)"
   ]
  },
  {
   "cell_type": "markdown",
   "id": "75862889",
   "metadata": {},
   "source": [
    "<font size=\"3\">Newton, GA: 0600 UTC (12:00 am CST) 01 March 2022-0600 UTC (12:00 am CST) 02 March 2022</font>"
   ]
  },
  {
   "cell_type": "code",
   "execution_count": 71,
   "id": "06608db6",
   "metadata": {},
   "outputs": [
    {
     "name": "stdout",
     "output_type": "stream",
     "text": [
      "[-0.309998, -0.540009, -0.910004, -0.899994, -0.919983, -0.970001, -0.970001, 0.630005, 4.0, 7.59, 11.0, 13.95, 17.01, 19.11, 19.45, 18.58, 16.54, 13.39, 9.17001, 7.66, 6.69, 5.30002, 4.22, 3.47, 3.13]\n"
     ]
    }
   ],
   "source": [
    "#1 hr hrrr:\n",
    "with open('hrrr_f12_Newton_GA.txt') as f:\n",
    "    lst=[line.split()[4] for line in f]\n",
    "    temp=[]\n",
    "    for i in lst:\n",
    "        new=i.replace(',',\"\")\n",
    "        temp.append(new)\n",
    "    temp.pop(0)\n",
    "    temp=[float(x) for x in temp]\n",
    "    temp=temp[1698:1723]\n",
    "    #temp=temp[2015:2063]\n",
    "    print(temp)\n",
    "    #print(len(temp))\n",
    "#full time period is [2015:2112]"
   ]
  },
  {
   "cell_type": "code",
   "execution_count": 72,
   "id": "bd71ef9e",
   "metadata": {},
   "outputs": [
    {
     "name": "stdout",
     "output_type": "stream",
     "text": [
      "[0.7, 0.15000000000000002, -0.45, -0.55, -1.05, -1.4, -1.4, 2.3, 7.8, 13.95, 17.549999999999997, 21.85, 24.700000000000003, 24.95, 23.85, 22.049999999999997, 17.950000000000003, 13.15, 7.55, 6.05, 5.05, 4.2, 3.6500000000000004, 3.2, 2.8]\n"
     ]
    }
   ],
   "source": [
    "#Air Temp CRN:\n",
    "with open('CRNS0101-05-2022-GA_Newton_11_SW.txt') as f:\n",
    "    lst=[line.split()[12] for line in f]\n",
    "    \n",
    "    a=(float(lst[20519])+float(lst[20520]))/2\n",
    "    b=(float(lst[20531])+float(lst[20532]))/2\n",
    "    c=(float(lst[20543])+float(lst[20544]))/2\n",
    "    d=(float(lst[20555])+float(lst[20556]))/2\n",
    "    e=(float(lst[20567])+float(lst[20568]))/2\n",
    "    f=(float(lst[20579])+float(lst[20580]))/2\n",
    "    g=(float(lst[20591])+float(lst[20592]))/2\n",
    "    h=(float(lst[20603])+float(lst[20604]))/2\n",
    "    i=(float(lst[20615])+float(lst[20616]))/2\n",
    "    j=(float(lst[20627])+float(lst[20628]))/2\n",
    "    k=(float(lst[20639])+float(lst[20640]))/2\n",
    "    l=(float(lst[20651])+float(lst[20652]))/2\n",
    "    m=(float(lst[20663])+float(lst[20664]))/2\n",
    "    n=(float(lst[20675])+float(lst[20676]))/2\n",
    "    o=(float(lst[20687])+float(lst[20688]))/2\n",
    "    p=(float(lst[20699])+float(lst[20700]))/2\n",
    "    q=(float(lst[20711])+float(lst[20712]))/2\n",
    "    r=(float(lst[20723])+float(lst[20724]))/2\n",
    "    s=(float(lst[20735])+float(lst[20736]))/2\n",
    "    t=(float(lst[20747])+float(lst[20748]))/2\n",
    "    u=(float(lst[20759])+float(lst[20760]))/2\n",
    "    v=(float(lst[20771])+float(lst[20772]))/2\n",
    "    w=(float(lst[20783])+float(lst[20784]))/2\n",
    "    x=(float(lst[20795])+float(lst[20796]))/2\n",
    "    y=(float(lst[20807])+float(lst[20808]))/2\n",
    "    \n",
    "    temp_crn=[a,b,c,d,e,f,g,h,i,j,k,l,m,n,o,p,q,r,s,t,u,v,w,x,y]\n",
    "    print(temp_crn)"
   ]
  },
  {
   "cell_type": "code",
   "execution_count": 73,
   "id": "405581a9",
   "metadata": {},
   "outputs": [
    {
     "name": "stdout",
     "output_type": "stream",
     "text": [
      "[-1.009998, -0.690009, -0.460004, -0.3499939999999999, 0.13001700000000005, 0.4299989999999999, 0.4299989999999999, -1.6699949999999997, -3.8, -6.359999999999999, -6.549999999999997, -7.900000000000002, -7.690000000000001, -5.84, -4.400000000000002, -3.469999999999999, -1.4100000000000037, 0.2400000000000002, 1.6200099999999997, 1.6100000000000003, 1.6400000000000006, 1.1000199999999998, 0.5699999999999994, 0.27, 0.33000000000000007]\n"
     ]
    }
   ],
   "source": [
    "difference2_newt = []\n",
    "\n",
    "zip_object = zip(temp, temp_crn)\n",
    "for temp_i, temp_crn_i in zip_object:\n",
    "    difference2_newt.append(temp_i-temp_crn_i)\n",
    "\n",
    "print(difference2_newt)"
   ]
  },
  {
   "cell_type": "markdown",
   "id": "70443283",
   "metadata": {},
   "source": [
    "<font size=\"3\">Salem, MO: 0500 UTC (12:00 am CDT) 20 March 2022-0500 UTC (12:00 am CDT) 21 March 2022</font>"
   ]
  },
  {
   "cell_type": "code",
   "execution_count": 74,
   "id": "2d0299c0",
   "metadata": {},
   "outputs": [
    {
     "name": "stdout",
     "output_type": "stream",
     "text": [
      "[2.69, 2.35001, 1.99002, 1.81, 1.89999, 1.49002, 1.51001, 2.77002, 7.41, 11.98, 15.14, 17.37, 19.17, 20.91, 22.66, 23.06, 21.71, 19.3, 14.89, 11.9, 10.34, 9.76001, 9.38, 9.39999, 8.98001]\n",
      "25\n"
     ]
    }
   ],
   "source": [
    "#1 hr hrrr:\n",
    "with open('hrrr_f12_Salem_MO.txt') as f:\n",
    "    lst=[line.split()[4] for line in f]\n",
    "    temp=[]\n",
    "    for i in lst:\n",
    "        new=i.replace(',',\"\")\n",
    "        temp.append(new)\n",
    "    temp.pop(0)\n",
    "    temp=[float(x) for x in temp]\n",
    "    temp=temp[1866:1891]\n",
    "    #temp=temp[2015:2063]\n",
    "    print(temp)\n",
    "    print(len(temp))\n",
    "#full time period is [2015:2112]"
   ]
  },
  {
   "cell_type": "code",
   "execution_count": 75,
   "id": "fb918883",
   "metadata": {},
   "outputs": [
    {
     "name": "stdout",
     "output_type": "stream",
     "text": [
      "[-2.6, -3.0, -2.95, -2.8499999999999996, -3.3, -3.6500000000000004, -3.8, -0.1, 10.35, 17.05, 22.3, 27.2, 29.4, 31.75, 32.05, 28.9, 22.05, 17.45, 8.85, 4.5, 3.3, 7.1, 6.55, 6.5, 7.3]\n"
     ]
    }
   ],
   "source": [
    "#Air Temp CRN:\n",
    "with open('CRNS0101-05-2022-MO_Salem_10_W.txt') as f:\n",
    "    lst=[line.split()[12] for line in f]\n",
    "    \n",
    "    a=(float(lst[22535])+float(lst[22536]))/2\n",
    "    b=(float(lst[22547])+float(lst[22548]))/2\n",
    "    c=(float(lst[22559])+float(lst[22560]))/2\n",
    "    d=(float(lst[22571])+float(lst[22572]))/2\n",
    "    e=(float(lst[22583])+float(lst[22584]))/2\n",
    "    f=(float(lst[22595])+float(lst[22596]))/2\n",
    "    g=(float(lst[22607])+float(lst[22608]))/2\n",
    "    h=(float(lst[22619])+float(lst[22620]))/2\n",
    "    i=(float(lst[22631])+float(lst[22632]))/2\n",
    "    j=(float(lst[22643])+float(lst[22644]))/2\n",
    "    k=(float(lst[22655])+float(lst[22656]))/2\n",
    "    l=(float(lst[22667])+float(lst[22668]))/2\n",
    "    m=(float(lst[22679])+float(lst[22680]))/2\n",
    "    n=(float(lst[22691])+float(lst[22692]))/2\n",
    "    o=(float(lst[22703])+float(lst[22704]))/2\n",
    "    p=(float(lst[22715])+float(lst[22716]))/2\n",
    "    q=(float(lst[22727])+float(lst[22728]))/2\n",
    "    r=(float(lst[22739])+float(lst[22740]))/2\n",
    "    s=(float(lst[22751])+float(lst[22752]))/2\n",
    "    t=(float(lst[22763])+float(lst[22764]))/2\n",
    "    u=(float(lst[22775])+float(lst[22776]))/2\n",
    "    v=(float(lst[22787])+float(lst[22788]))/2\n",
    "    w=(float(lst[22799])+float(lst[22800]))/2\n",
    "    x=(float(lst[22811])+float(lst[22812]))/2\n",
    "    y=(float(lst[22823])+float(lst[22824]))/2\n",
    "    \n",
    "    temp_crn=[a,b,c,d,e,f,g,h,i,j,k,l,m,n,o,p,q,r,s,t,u,v,w,x,y]\n",
    "    print(temp_crn)"
   ]
  },
  {
   "cell_type": "code",
   "execution_count": 76,
   "id": "e8c3c3a5",
   "metadata": {},
   "outputs": [
    {
     "name": "stdout",
     "output_type": "stream",
     "text": [
      "[5.29, 5.35001, 4.9400200000000005, 4.66, 5.19999, 5.14002, 5.31001, 2.8700200000000002, -2.9399999999999995, -5.07, -7.16, -9.829999999999998, -10.229999999999997, -10.84, -9.389999999999997, -5.84, -0.33999999999999986, 1.8500000000000014, 6.040000000000001, 7.4, 7.04, 2.6600099999999998, 2.830000000000001, 2.8999900000000007, 1.6800100000000002]\n"
     ]
    }
   ],
   "source": [
    "difference3_sal = []\n",
    "\n",
    "zip_object = zip(temp, temp_crn)\n",
    "for temp_i, temp_crn_i in zip_object:\n",
    "    difference3_sal.append(temp_i-temp_crn_i)\n",
    "\n",
    "print(difference3_sal)"
   ]
  },
  {
   "cell_type": "markdown",
   "id": "176d67cb",
   "metadata": {},
   "source": [
    "<font size=\"3\">Batesville, AR: 0600 UTC (12:00 am CST) 01 March 2022-0600 UTC (12:00 am CST) 02 March 2022</font>"
   ]
  },
  {
   "cell_type": "code",
   "execution_count": 77,
   "id": "51a628f5",
   "metadata": {},
   "outputs": [
    {
     "name": "stdout",
     "output_type": "stream",
     "text": [
      "[6.38, 5.89001, 5.48001, 5.08002, 4.67001, 4.48001, 4.10001, 5.67999, 10.78, 15.08, 18.56, 21.94, 24.33, 26.53, 26.93, 26.43, 24.74, 21.93, 17.86, 14.38, 12.72, 11.53, 11.04, 10.31, 9.88]\n",
      "25\n"
     ]
    }
   ],
   "source": [
    "#1 hr hrrr:\n",
    "with open('hrrr_f12_Batesville_AR.txt') as f:\n",
    "    lst=[line.split()[4] for line in f]\n",
    "    temp=[]\n",
    "    for i in lst:\n",
    "        new=i.replace(',',\"\")\n",
    "        temp.append(new)\n",
    "    temp.pop(0)\n",
    "    temp=[float(x) for x in temp]\n",
    "    temp=temp[1866:1891]\n",
    "#     x = np.array(temp)\n",
    "#     temp = ma.masked_array(x, mask=[0, 0, 0, 0, 0,0,0,0,0,0,0,0,0,0,0,0,0,0,0,0,0,1,0,0,0])\n",
    "    #temp=temp[2015:2063]\n",
    "    print(temp)\n",
    "    print(len(temp))\n",
    "#full time period is [2015:2112]"
   ]
  },
  {
   "cell_type": "code",
   "execution_count": 78,
   "id": "08f9b3ea",
   "metadata": {},
   "outputs": [
    {
     "name": "stdout",
     "output_type": "stream",
     "text": [
      "[1.6, 1.0, 0.8500000000000001, 0.55, 0.6499999999999999, 0.15000000000000002, -0.3, 2.7, 10.45, 15.6, 20.1, 23.3, 25.799999999999997, 25.55, 23.4, 22.95, 20.0, 17.3, 10.85, 9.35, 8.2, 7.0, 6.449999999999999, 6.25, 5.65]\n"
     ]
    }
   ],
   "source": [
    "#Air Temp CRN:\n",
    "with open('CRNS0101-05-2022-AR_Batesville_8_WNW.txt') as f:\n",
    "    lst=[line.split()[12] for line in f]\n",
    "    \n",
    "    a=(float(lst[22535])+float(lst[22536]))/2\n",
    "    b=(float(lst[22547])+float(lst[22548]))/2\n",
    "    c=(float(lst[22559])+float(lst[22560]))/2\n",
    "    d=(float(lst[22571])+float(lst[22572]))/2\n",
    "    e=(float(lst[22583])+float(lst[22584]))/2\n",
    "    f=(float(lst[22595])+float(lst[22596]))/2\n",
    "    g=(float(lst[22607])+float(lst[22608]))/2\n",
    "    h=(float(lst[22619])+float(lst[22620]))/2\n",
    "    i=(float(lst[22631])+float(lst[22632]))/2\n",
    "    j=(float(lst[22643])+float(lst[22644]))/2\n",
    "    k=(float(lst[22655])+float(lst[22656]))/2\n",
    "    l=(float(lst[22667])+float(lst[22668]))/2\n",
    "    m=(float(lst[22679])+float(lst[22680]))/2\n",
    "    n=(float(lst[22691])+float(lst[22692]))/2\n",
    "    o=(float(lst[22703])+float(lst[22704]))/2\n",
    "    p=(float(lst[22715])+float(lst[22716]))/2\n",
    "    q=(float(lst[22727])+float(lst[22728]))/2\n",
    "    r=(float(lst[22739])+float(lst[22740]))/2\n",
    "    s=(float(lst[22751])+float(lst[22752]))/2\n",
    "    t=(float(lst[22763])+float(lst[22764]))/2\n",
    "    u=(float(lst[22775])+float(lst[22776]))/2\n",
    "    v=(float(lst[22787])+float(lst[22788]))/2\n",
    "    w=(float(lst[22799])+float(lst[22800]))/2\n",
    "    x=(float(lst[22811])+float(lst[22812]))/2\n",
    "    y=(float(lst[22823])+float(lst[22824]))/2\n",
    "    \n",
    "    temp_crn=[a,b,c,d,e,f,g,h,i,j,k,l,m,n,o,p,q,r,s,t,u,v,w,x,y]\n",
    "    print(temp_crn)"
   ]
  },
  {
   "cell_type": "code",
   "execution_count": 79,
   "id": "19589d21",
   "metadata": {},
   "outputs": [
    {
     "name": "stdout",
     "output_type": "stream",
     "text": [
      "[4.779999999999999, 4.89001, 4.63001, 4.53002, 4.020010000000001, 4.33001, 4.40001, 2.97999, 0.33000000000000007, -0.5199999999999996, -1.5400000000000027, -1.3599999999999994, -1.4699999999999989, 0.9800000000000004, 3.530000000000001, 3.4800000000000004, 4.739999999999998, 4.629999999999999, 7.01, 5.030000000000001, 4.520000000000001, 4.529999999999999, 4.59, 4.0600000000000005, 4.23]\n"
     ]
    }
   ],
   "source": [
    "difference3_bat = []\n",
    "\n",
    "zip_object = zip(temp, temp_crn)\n",
    "for temp_i, temp_crn_i in zip_object:\n",
    "    difference3_bat.append(temp_i-temp_crn_i)\n",
    "\n",
    "print(difference3_bat)"
   ]
  },
  {
   "cell_type": "markdown",
   "id": "9ac05a40",
   "metadata": {},
   "source": [
    "<font size=\"3\">Lafayette, LA: 0600 UTC (12:00 am CST) 01 March 2022-0600 UTC (12:00 am CST) 02 March 2022</font>"
   ]
  },
  {
   "cell_type": "code",
   "execution_count": 80,
   "id": "f280badb",
   "metadata": {},
   "outputs": [
    {
     "name": "stdout",
     "output_type": "stream",
     "text": [
      "[10.05, 9.24002, 8.42999, 7.56, 7.28, 7.0, 6.38, 8.47, 15.34, 22.16, 26.28, 29.57, 31.92, 32.94, 33.07, 32.15, 30.07, 26.46, 22.63, 18.54, 16.31, 15.3, 14.24, 13.12, 12.27]\n"
     ]
    }
   ],
   "source": [
    "#1 hr hrrr:\n",
    "with open('hrrr_f12_Lafayette_LA.txt') as f:\n",
    "    lst=[line.split()[4] for line in f]\n",
    "    temp=[]\n",
    "    for i in lst:\n",
    "        new=i.replace(',',\"\")\n",
    "        temp.append(new)\n",
    "    temp.pop(0)\n",
    "    temp=[float(x) for x in temp]\n",
    "    temp=temp[1866:1891]\n",
    "    #temp=temp[2015:2063]\n",
    "    print(temp)\n",
    "    #print(len(temp))\n",
    "#full time period is [2015:2112]"
   ]
  },
  {
   "cell_type": "code",
   "execution_count": 81,
   "id": "7e7917cd",
   "metadata": {},
   "outputs": [
    {
     "name": "stdout",
     "output_type": "stream",
     "text": [
      "[3.4, 3.2, 2.8499999999999996, 2.55, 2.05, 2.0, 1.7, 7.65, 13.9, 19.65, 24.8, 27.8, 29.200000000000003, 29.9, 28.6, 27.7, 24.25, 20.5, 14.5, 9.55, 11.2, 10.45, 8.7, 7.699999999999999, 8.45]\n"
     ]
    }
   ],
   "source": [
    "#Air Temp CRN:\n",
    "with open('CRNS0101-05-2022-LA_Lafayette_13_SE.txt') as f:\n",
    "    lst=[line.split()[12] for line in f]\n",
    "    \n",
    "    a=(float(lst[22535])+float(lst[22536]))/2\n",
    "    b=(float(lst[22547])+float(lst[22548]))/2\n",
    "    c=(float(lst[22559])+float(lst[22560]))/2\n",
    "    d=(float(lst[22571])+float(lst[22572]))/2\n",
    "    e=(float(lst[22583])+float(lst[22584]))/2\n",
    "    f=(float(lst[22595])+float(lst[22596]))/2\n",
    "    g=(float(lst[22607])+float(lst[22608]))/2\n",
    "    h=(float(lst[22619])+float(lst[22620]))/2\n",
    "    i=(float(lst[22631])+float(lst[22632]))/2\n",
    "    j=(float(lst[22643])+float(lst[22644]))/2\n",
    "    k=(float(lst[22655])+float(lst[22656]))/2\n",
    "    l=(float(lst[22667])+float(lst[22668]))/2\n",
    "    m=(float(lst[22679])+float(lst[22680]))/2\n",
    "    n=(float(lst[22691])+float(lst[22692]))/2\n",
    "    o=(float(lst[22703])+float(lst[22704]))/2\n",
    "    p=(float(lst[22715])+float(lst[22716]))/2\n",
    "    q=(float(lst[22727])+float(lst[22728]))/2\n",
    "    r=(float(lst[22739])+float(lst[22740]))/2\n",
    "    s=(float(lst[22751])+float(lst[22752]))/2\n",
    "    t=(float(lst[22763])+float(lst[22764]))/2\n",
    "    u=(float(lst[22775])+float(lst[22776]))/2\n",
    "    v=(float(lst[22787])+float(lst[22788]))/2\n",
    "    w=(float(lst[22799])+float(lst[22800]))/2\n",
    "    x=(float(lst[22811])+float(lst[22812]))/2\n",
    "    y=(float(lst[22823])+float(lst[22824]))/2\n",
    "    \n",
    "    temp_crn=[a,b,c,d,e,f,g,h,i,j,k,l,m,n,o,p,q,r,s,t,u,v,w,x,y]\n",
    "    print(temp_crn)"
   ]
  },
  {
   "cell_type": "code",
   "execution_count": 82,
   "id": "36c6a6c7",
   "metadata": {},
   "outputs": [
    {
     "name": "stdout",
     "output_type": "stream",
     "text": [
      "[6.65, 6.040019999999999, 5.5799900000000004, 5.01, 5.23, 5.0, 4.68, 0.8200000000000003, 1.4399999999999995, 2.5100000000000016, 1.4800000000000004, 1.7699999999999996, 2.719999999999999, 3.039999999999999, 4.469999999999999, 4.449999999999999, 5.82, 5.960000000000001, 8.129999999999999, 8.989999999999998, 5.109999999999999, 4.850000000000001, 5.540000000000001, 5.42, 3.8200000000000003]\n"
     ]
    }
   ],
   "source": [
    "difference3_laf = []\n",
    "\n",
    "zip_object = zip(temp, temp_crn)\n",
    "for temp_i, temp_crn_i in zip_object:\n",
    "    difference3_laf.append(temp_i-temp_crn_i)\n",
    "\n",
    "print(difference3_laf)"
   ]
  },
  {
   "cell_type": "markdown",
   "id": "9f50a0c5",
   "metadata": {},
   "source": [
    "<font size=\"3\">Monroe, LA: 0600 UTC (12:00 am CST) 01 March 2022-0600 UTC (12:00 am CST) 02 March 2022</font>"
   ]
  },
  {
   "cell_type": "code",
   "execution_count": 83,
   "id": "afe54e44",
   "metadata": {},
   "outputs": [
    {
     "name": "stdout",
     "output_type": "stream",
     "text": [
      "[9.20999, 8.66, 7.95999, 7.42001, 7.32001, 7.23001, 6.91, 7.66, 11.95, 16.53, 20.91, 25.31, 28.99, 31.14, 31.22, 30.2, 28.13, 24.66, 20.34, 17.3, 15.36, 13.79, 12.36, 11.85, 11.14]\n"
     ]
    }
   ],
   "source": [
    "#1 hr hrrr:\n",
    "with open('hrrr_f12_Monroe_LA.txt') as f:\n",
    "    lst=[line.split()[4] for line in f]\n",
    "    temp=[]\n",
    "    for i in lst:\n",
    "        new=i.replace(',',\"\")\n",
    "        temp.append(new)\n",
    "    temp.pop(0)\n",
    "    temp=[float(x) for x in temp]\n",
    "    temp=temp[1866:1891]\n",
    "    #temp=temp[2015:2063]\n",
    "    print(temp)\n",
    "    #print(len(temp))\n",
    "#full time period is [2015:2112]"
   ]
  },
  {
   "cell_type": "code",
   "execution_count": 84,
   "id": "e83f03aa",
   "metadata": {},
   "outputs": [
    {
     "name": "stdout",
     "output_type": "stream",
     "text": [
      "[4.25, 3.7, 3.5, 3.1500000000000004, 2.8, 2.7, 2.3, 4.949999999999999, 12.0, 18.4, 22.549999999999997, 25.65, 27.45, 29.15, 28.15, 27.85, 25.65, 19.65, 14.100000000000001, 9.8, 8.65, 7.3, 6.2, 5.9, 5.45]\n"
     ]
    }
   ],
   "source": [
    "#Air Temp CRN:\n",
    "with open('CRNS0101-05-2022-LA_Monroe_26_N.txt') as f:\n",
    "    lst=[line.split()[12] for line in f]\n",
    "    \n",
    "    a=(float(lst[22535])+float(lst[22536]))/2\n",
    "    b=(float(lst[22547])+float(lst[22548]))/2\n",
    "    c=(float(lst[22559])+float(lst[22560]))/2\n",
    "    d=(float(lst[22571])+float(lst[22572]))/2\n",
    "    e=(float(lst[22583])+float(lst[22584]))/2\n",
    "    f=(float(lst[22595])+float(lst[22596]))/2\n",
    "    g=(float(lst[22607])+float(lst[22608]))/2\n",
    "    h=(float(lst[22619])+float(lst[22620]))/2\n",
    "    i=(float(lst[22631])+float(lst[22632]))/2\n",
    "    j=(float(lst[22643])+float(lst[22644]))/2\n",
    "    k=(float(lst[22655])+float(lst[22656]))/2\n",
    "    l=(float(lst[22667])+float(lst[22668]))/2\n",
    "    m=(float(lst[22679])+float(lst[22680]))/2\n",
    "    n=(float(lst[22691])+float(lst[22692]))/2\n",
    "    o=(float(lst[22703])+float(lst[22704]))/2\n",
    "    p=(float(lst[22715])+float(lst[22716]))/2\n",
    "    q=(float(lst[22727])+float(lst[22728]))/2\n",
    "    r=(float(lst[22739])+float(lst[22740]))/2\n",
    "    s=(float(lst[22751])+float(lst[22752]))/2\n",
    "    t=(float(lst[22763])+float(lst[22764]))/2\n",
    "    u=(float(lst[22775])+float(lst[22776]))/2\n",
    "    v=(float(lst[22787])+float(lst[22788]))/2\n",
    "    w=(float(lst[22799])+float(lst[22800]))/2\n",
    "    x=(float(lst[22811])+float(lst[22812]))/2\n",
    "    y=(float(lst[22823])+float(lst[22824]))/2\n",
    "    \n",
    "    temp_crn=[a,b,c,d,e,f,g,h,i,j,k,l,m,n,o,p,q,r,s,t,u,v,w,x,y]\n",
    "    print(temp_crn)"
   ]
  },
  {
   "cell_type": "code",
   "execution_count": 85,
   "id": "79ffb554",
   "metadata": {},
   "outputs": [
    {
     "name": "stdout",
     "output_type": "stream",
     "text": [
      "[4.9599899999999995, 4.96, 4.45999, 4.27001, 4.52001, 4.53001, 4.61, 2.710000000000001, -0.05000000000000071, -1.8699999999999974, -1.639999999999997, -0.33999999999999986, 1.5399999999999991, 1.990000000000002, 3.0700000000000003, 2.349999999999998, 2.4800000000000004, 5.010000000000002, 6.239999999999998, 7.5, 6.709999999999999, 6.489999999999999, 6.159999999999999, 5.949999999999999, 5.69]\n"
     ]
    }
   ],
   "source": [
    "difference3_mon = []\n",
    "\n",
    "zip_object = zip(temp, temp_crn)\n",
    "for temp_i, temp_crn_i in zip_object:\n",
    "    difference3_mon.append(temp_i-temp_crn_i)\n",
    "\n",
    "print(difference3_mon)"
   ]
  },
  {
   "cell_type": "markdown",
   "id": "1bf55dcc",
   "metadata": {},
   "source": [
    "<font size=\"3\">Holly Springs, MS: 0600 UTC (12:00 am CST) 01 March 2022-0600 UTC (12:00 am CST) 02 March 2022</font>"
   ]
  },
  {
   "cell_type": "code",
   "execution_count": 86,
   "id": "70182e09",
   "metadata": {},
   "outputs": [
    {
     "name": "stdout",
     "output_type": "stream",
     "text": [
      "[6.26001, 6.35001, 6.19, 6.27002, 5.14999, 5.31, 5.14001, 6.42999, 10.63, 14.71, 18.3, 21.41, 24.23, 25.92, 26.14, 25.4, 23.53, 20.75, 16.95, 14.11, 13.1, 12.65, 12.33, 11.83, 11.28]\n"
     ]
    }
   ],
   "source": [
    "#1 hr hrrr:\n",
    "with open('hrrr_f12_Holly Springs_MS.txt') as f:\n",
    "    lst=[line.split()[4] for line in f]\n",
    "    temp=[]\n",
    "    for i in lst:\n",
    "        new=i.replace(',',\"\")\n",
    "        temp.append(new)\n",
    "    temp.pop(0)\n",
    "    temp=[float(x) for x in temp]\n",
    "    temp=temp[1866:1891]\n",
    "    #temp=temp[2015:2063]\n",
    "    print(temp)\n",
    "    #print(len(temp))\n",
    "#full time period is [2015:2112]"
   ]
  },
  {
   "cell_type": "code",
   "execution_count": 87,
   "id": "c2aa5abe",
   "metadata": {},
   "outputs": [
    {
     "name": "stdout",
     "output_type": "stream",
     "text": [
      "[3.55, 3.55, 3.0, 2.5, 2.1, 1.65, 1.6, 4.55, 11.899999999999999, 16.95, 21.95, 24.1, 26.4, 26.2, 25.6, 24.2, 22.1, 17.85, 11.5, 8.85, 7.35, 6.3, 5.65, 5.15, 4.75]\n"
     ]
    }
   ],
   "source": [
    "#Air Temp CRN:\n",
    "with open('CRNS0101-05-2022-MS_Holly_Springs_4_N.txt') as f:\n",
    "    lst=[line.split()[12] for line in f]\n",
    "    \n",
    "    a=(float(lst[22535])+float(lst[22536]))/2\n",
    "    b=(float(lst[22547])+float(lst[22548]))/2\n",
    "    c=(float(lst[22559])+float(lst[22560]))/2\n",
    "    d=(float(lst[22571])+float(lst[22572]))/2\n",
    "    e=(float(lst[22583])+float(lst[22584]))/2\n",
    "    f=(float(lst[22595])+float(lst[22596]))/2\n",
    "    g=(float(lst[22607])+float(lst[22608]))/2\n",
    "    h=(float(lst[22619])+float(lst[22620]))/2\n",
    "    i=(float(lst[22631])+float(lst[22632]))/2\n",
    "    j=(float(lst[22643])+float(lst[22644]))/2\n",
    "    k=(float(lst[22655])+float(lst[22656]))/2\n",
    "    l=(float(lst[22667])+float(lst[22668]))/2\n",
    "    m=(float(lst[22679])+float(lst[22680]))/2\n",
    "    n=(float(lst[22691])+float(lst[22692]))/2\n",
    "    o=(float(lst[22703])+float(lst[22704]))/2\n",
    "    p=(float(lst[22715])+float(lst[22716]))/2\n",
    "    q=(float(lst[22727])+float(lst[22728]))/2\n",
    "    r=(float(lst[22739])+float(lst[22740]))/2\n",
    "    s=(float(lst[22751])+float(lst[22752]))/2\n",
    "    t=(float(lst[22763])+float(lst[22764]))/2\n",
    "    u=(float(lst[22775])+float(lst[22776]))/2\n",
    "    v=(float(lst[22787])+float(lst[22788]))/2\n",
    "    w=(float(lst[22799])+float(lst[22800]))/2\n",
    "    x=(float(lst[22811])+float(lst[22812]))/2\n",
    "    y=(float(lst[22823])+float(lst[22824]))/2\n",
    "    \n",
    "    temp_crn=[a,b,c,d,e,f,g,h,i,j,k,l,m,n,o,p,q,r,s,t,u,v,w,x,y]\n",
    "    print(temp_crn)"
   ]
  },
  {
   "cell_type": "code",
   "execution_count": 88,
   "id": "9d0ab2f8",
   "metadata": {},
   "outputs": [
    {
     "name": "stdout",
     "output_type": "stream",
     "text": [
      "[2.7100100000000005, 2.8000100000000003, 3.1900000000000004, 3.7700199999999997, 3.0499899999999998, 3.6599999999999997, 3.54001, 1.8799900000000003, -1.2699999999999978, -2.2399999999999984, -3.6499999999999986, -2.6900000000000013, -2.169999999999998, -0.2799999999999976, 0.5399999999999991, 1.1999999999999993, 1.4299999999999997, 2.8999999999999986, 5.449999999999999, 5.26, 5.75, 6.3500000000000005, 6.68, 6.68, 6.529999999999999]\n"
     ]
    }
   ],
   "source": [
    "difference3_hol = []\n",
    "\n",
    "zip_object = zip(temp, temp_crn)\n",
    "for temp_i, temp_crn_i in zip_object:\n",
    "    difference3_hol.append(temp_i-temp_crn_i)\n",
    "\n",
    "print(difference3_hol)"
   ]
  },
  {
   "cell_type": "markdown",
   "id": "2d2b0ce7",
   "metadata": {},
   "source": [
    "<font size=\"3\">Newton, MS: 0600 UTC (12:00 am CST) 01 March 2022-0600 UTC (12:00 am CST) 02 March 2022</font>"
   ]
  },
  {
   "cell_type": "code",
   "execution_count": 89,
   "id": "d10078d2",
   "metadata": {},
   "outputs": [
    {
     "name": "stdout",
     "output_type": "stream",
     "text": [
      "[7.32001, 6.79001, 6.17001, 5.76001, 5.42999, 5.17999, 4.66, 7.32001, 14.21, 20.52, 24.73, 27.46, 28.8, 29.67, 29.25, 27.89, 25.99, 23.11, 19.16, 16.26, 14.51, 13.37, 12.65, 11.59, 10.68]\n"
     ]
    }
   ],
   "source": [
    "#1 hr hrrr:\n",
    "with open('hrrr_f12_Newton_MS.txt') as f:\n",
    "    lst=[line.split()[4] for line in f]\n",
    "    temp=[]\n",
    "    for i in lst:\n",
    "        new=i.replace(',',\"\")\n",
    "        temp.append(new)\n",
    "    temp.pop(0)\n",
    "    temp=[float(x) for x in temp]\n",
    "    temp=temp[1866:1891]\n",
    "    #temp=temp[2015:2063]\n",
    "    print(temp)\n",
    "    #print(len(temp))\n",
    "#full time period is [2015:2112]"
   ]
  },
  {
   "cell_type": "code",
   "execution_count": 90,
   "id": "493b49d2",
   "metadata": {},
   "outputs": [
    {
     "name": "stdout",
     "output_type": "stream",
     "text": [
      "[2.55, 2.4, 1.8, 1.55, 1.3, 0.8500000000000001, 0.75, 6.65, 14.8, 21.4, 25.799999999999997, 30.55, 29.65, 30.85, 29.6, 28.4, 26.25, 22.1, 14.3, 10.8, 9.6, 8.149999999999999, 7.050000000000001, 6.1, 5.35]\n"
     ]
    }
   ],
   "source": [
    "#Air Temp CRN:\n",
    "with open('CRNS0101-05-2022-MS_Newton_5_ENE.txt') as f:\n",
    "    lst=[line.split()[12] for line in f]\n",
    "    \n",
    "    a=(float(lst[22535])+float(lst[22536]))/2\n",
    "    b=(float(lst[22547])+float(lst[22548]))/2\n",
    "    c=(float(lst[22559])+float(lst[22560]))/2\n",
    "    d=(float(lst[22571])+float(lst[22572]))/2\n",
    "    e=(float(lst[22583])+float(lst[22584]))/2\n",
    "    f=(float(lst[22595])+float(lst[22596]))/2\n",
    "    g=(float(lst[22607])+float(lst[22608]))/2\n",
    "    h=(float(lst[22619])+float(lst[22620]))/2\n",
    "    i=(float(lst[22631])+float(lst[22632]))/2\n",
    "    j=(float(lst[22643])+float(lst[22644]))/2\n",
    "    k=(float(lst[22655])+float(lst[22656]))/2\n",
    "    l=(float(lst[22667])+float(lst[22668]))/2\n",
    "    m=(float(lst[22679])+float(lst[22680]))/2\n",
    "    n=(float(lst[22691])+float(lst[22692]))/2\n",
    "    o=(float(lst[22703])+float(lst[22704]))/2\n",
    "    p=(float(lst[22715])+float(lst[22716]))/2\n",
    "    q=(float(lst[22727])+float(lst[22728]))/2\n",
    "    r=(float(lst[22739])+float(lst[22740]))/2\n",
    "    s=(float(lst[22751])+float(lst[22752]))/2\n",
    "    t=(float(lst[22763])+float(lst[22764]))/2\n",
    "    u=(float(lst[22775])+float(lst[22776]))/2\n",
    "    v=(float(lst[22787])+float(lst[22788]))/2\n",
    "    w=(float(lst[22799])+float(lst[22800]))/2\n",
    "    x=(float(lst[22811])+float(lst[22812]))/2\n",
    "    y=(float(lst[22823])+float(lst[22824]))/2\n",
    "    \n",
    "    temp_crn=[a,b,c,d,e,f,g,h,i,j,k,l,m,n,o,p,q,r,s,t,u,v,w,x,y]\n",
    "    print(temp_crn)"
   ]
  },
  {
   "cell_type": "code",
   "execution_count": 91,
   "id": "9f44baa8",
   "metadata": {},
   "outputs": [
    {
     "name": "stdout",
     "output_type": "stream",
     "text": [
      "[4.77001, 4.39001, 4.370010000000001, 4.2100100000000005, 4.12999, 4.3299900000000004, 3.91, 0.6700099999999996, -0.5899999999999999, -0.879999999999999, -1.0699999999999967, -3.09, -0.8499999999999979, -1.1799999999999997, -0.3500000000000014, -0.509999999999998, -0.26000000000000156, 1.009999999999998, 4.859999999999999, 5.460000000000001, 4.91, 5.220000000000001, 5.6, 5.49, 5.33]\n"
     ]
    }
   ],
   "source": [
    "difference3_new = []\n",
    "\n",
    "zip_object = zip(temp, temp_crn)\n",
    "for temp_i, temp_crn_i in zip_object:\n",
    "    difference3_new.append(temp_i-temp_crn_i)\n",
    "\n",
    "print(difference3_new)"
   ]
  },
  {
   "cell_type": "markdown",
   "id": "538036ab",
   "metadata": {},
   "source": [
    "<font size=\"3\">Gainesville, AL: 0600 UTC (12:00 am CST) 01 March 2022-0600 UTC (12:00 am CST) 02 March 2022</font>"
   ]
  },
  {
   "cell_type": "code",
   "execution_count": 92,
   "id": "24a63117",
   "metadata": {},
   "outputs": [],
   "source": [
    "# #1 hr hrrr:\n",
    "# with open('hrrr_f12_Gainesville_AL.txt') as f:\n",
    "#     lst=[line.split()[4] for line in f]\n",
    "#     temp=[]\n",
    "#     for i in lst:\n",
    "#         new=i.replace(',',\"\")\n",
    "#         temp.append(new)\n",
    "#     temp.pop(0)\n",
    "#     temp=[float(x) for x in temp]\n",
    "#     temp=temp[1866:1891]\n",
    "#     #temp=temp[2015:2063]\n",
    "#     print(temp)\n",
    "#     #print(len(temp))\n",
    "# #full time period is [2015:2112]"
   ]
  },
  {
   "cell_type": "code",
   "execution_count": 93,
   "id": "232e137f",
   "metadata": {},
   "outputs": [],
   "source": [
    "# #Air Temp CRN:\n",
    "# with open('CRNH0203-2022-AL_Gainesville_2_NE.txt') as f:\n",
    "#     lst=[line.split()[13] for line in f]\n",
    "#     #prfloat(lst)\n",
    "#     temp_crn=[]\n",
    "#     for i in lst:\n",
    "#         new=i.replace(',',\"\")\n",
    "#         temp_crn.append(new)\n",
    "#     temp_crn=[float(x) for x in temp_crn]\n",
    "#     temp_crn=temp_crn[1877:1902]\n",
    "#     print(temp_crn)\n",
    "#     #print(len(temp_crn))\n",
    "#     # print(temp_crn[2124])"
   ]
  },
  {
   "cell_type": "code",
   "execution_count": 94,
   "id": "b6c8652b",
   "metadata": {},
   "outputs": [],
   "source": [
    "# difference3_gai = []\n",
    "\n",
    "# zip_object = zip(temp, temp_crn)\n",
    "# for temp_i, temp_crn_i in zip_object:\n",
    "#     difference3_gai.append(temp_i-temp_crn_i)\n",
    "\n",
    "# print(difference3_gai)"
   ]
  },
  {
   "cell_type": "markdown",
   "id": "bec1bd8b",
   "metadata": {},
   "source": [
    "<font size=\"3\">Fairhope, AL: 0600 UTC (12:00 am CST) 01 March 2022-0600 UTC (12:00 am CST) 02 March 2022</font>"
   ]
  },
  {
   "cell_type": "code",
   "execution_count": 95,
   "id": "1d46687a",
   "metadata": {},
   "outputs": [
    {
     "name": "stdout",
     "output_type": "stream",
     "text": [
      "[10.98, 9.88, 9.14001, 8.35001, 8.20001, 7.91, 7.58002, 9.66, 13.46, 16.81, 20.06, 22.52, 25.18, 26.84, 27.14, 26.35, 24.86, 22.07, 18.38, 15.82, 14.31, 13.21, 12.12, 11.61, 11.27]\n"
     ]
    }
   ],
   "source": [
    "#1 hr hrrr:\n",
    "with open('hrrr_f12_Fairhope_AL.txt') as f:\n",
    "    lst=[line.split()[4] for line in f]\n",
    "    temp=[]\n",
    "    for i in lst:\n",
    "        new=i.replace(',',\"\")\n",
    "        temp.append(new)\n",
    "    temp.pop(0)\n",
    "    temp=[float(x) for x in temp]\n",
    "    temp=temp[1866:1891]\n",
    "    #temp=temp[2015:2063]\n",
    "    print(temp)\n",
    "    #print(len(temp))\n",
    "#full time period is [2015:2112]"
   ]
  },
  {
   "cell_type": "code",
   "execution_count": 96,
   "id": "8a4a762c",
   "metadata": {},
   "outputs": [
    {
     "name": "stdout",
     "output_type": "stream",
     "text": [
      "[2.45, 1.85, 0.8, 0.25, 0.15000000000000002, 0.5, 0.2, 10.15, 17.950000000000003, 22.799999999999997, 26.75, 29.9, 31.3, 31.35, 30.0, 26.799999999999997, 22.7, 17.05, 9.95, 6.75, 5.9, 5.1, 4.1, 3.65, 3.7]\n"
     ]
    }
   ],
   "source": [
    "#Air Temp CRN:\n",
    "with open('CRNS0101-05-2022-AL_Fairhope_3_NE.txt') as f:\n",
    "    lst=[line.split()[12] for line in f]\n",
    "    \n",
    "    a=(float(lst[22535])+float(lst[22536]))/2\n",
    "    b=(float(lst[22547])+float(lst[22548]))/2\n",
    "    c=(float(lst[22559])+float(lst[22560]))/2\n",
    "    d=(float(lst[22571])+float(lst[22572]))/2\n",
    "    e=(float(lst[22583])+float(lst[22584]))/2\n",
    "    f=(float(lst[22595])+float(lst[22596]))/2\n",
    "    g=(float(lst[22607])+float(lst[22608]))/2\n",
    "    h=(float(lst[22619])+float(lst[22620]))/2\n",
    "    i=(float(lst[22631])+float(lst[22632]))/2\n",
    "    j=(float(lst[22643])+float(lst[22644]))/2\n",
    "    k=(float(lst[22655])+float(lst[22656]))/2\n",
    "    l=(float(lst[22667])+float(lst[22668]))/2\n",
    "    m=(float(lst[22679])+float(lst[22680]))/2\n",
    "    n=(float(lst[22691])+float(lst[22692]))/2\n",
    "    o=(float(lst[22703])+float(lst[22704]))/2\n",
    "    p=(float(lst[22715])+float(lst[22716]))/2\n",
    "    q=(float(lst[22727])+float(lst[22728]))/2\n",
    "    r=(float(lst[22739])+float(lst[22740]))/2\n",
    "    s=(float(lst[22751])+float(lst[22752]))/2\n",
    "    t=(float(lst[22763])+float(lst[22764]))/2\n",
    "    u=(float(lst[22775])+float(lst[22776]))/2\n",
    "    v=(float(lst[22787])+float(lst[22788]))/2\n",
    "    w=(float(lst[22799])+float(lst[22800]))/2\n",
    "    x=(float(lst[22811])+float(lst[22812]))/2\n",
    "    y=(float(lst[22823])+float(lst[22824]))/2\n",
    "    \n",
    "    temp_crn=[a,b,c,d,e,f,g,h,i,j,k,l,m,n,o,p,q,r,s,t,u,v,w,x,y]\n",
    "    print(temp_crn)"
   ]
  },
  {
   "cell_type": "code",
   "execution_count": 97,
   "id": "e5202245",
   "metadata": {},
   "outputs": [
    {
     "name": "stdout",
     "output_type": "stream",
     "text": [
      "[8.530000000000001, 8.030000000000001, 8.34001, 8.10001, 8.05001, 7.41, 7.38002, -0.4900000000000002, -4.490000000000002, -5.989999999999998, -6.690000000000001, -7.379999999999999, -6.120000000000001, -4.510000000000002, -2.8599999999999994, -0.44999999999999574, 2.16, 5.02, 8.43, 9.07, 8.41, 8.110000000000001, 8.02, 7.959999999999999, 7.569999999999999]\n"
     ]
    }
   ],
   "source": [
    "difference3_fai = []\n",
    "\n",
    "zip_object = zip(temp, temp_crn)\n",
    "for temp_i, temp_crn_i in zip_object:\n",
    "    difference3_fai.append(temp_i-temp_crn_i)\n",
    "\n",
    "print(difference3_fai)"
   ]
  },
  {
   "cell_type": "markdown",
   "id": "5450f80c",
   "metadata": {},
   "source": [
    "<font size=\"3\">**Selma, AL: 0600 UTC (12:00 am CST) 01 March 2022-0600 UTC (12:00 am CST) 02 March 2022</font>"
   ]
  },
  {
   "cell_type": "code",
   "execution_count": 98,
   "id": "168fefba",
   "metadata": {},
   "outputs": [
    {
     "name": "stdout",
     "output_type": "stream",
     "text": [
      "[7.47, 6.82001, 6.10001, 5.57001, 5.54001, 5.39001, 5.11002, 7.89999, 12.07, 15.67, 18.01, 19.9, 20.53, 21.44, 21.04, 20.31, 19.22, 17.46, 14.59, 12.38, 11.24, 10.45, 10.23, 9.67999, 9.42999]\n"
     ]
    }
   ],
   "source": [
    "#1 hr hrrr:\n",
    "import numpy as np\n",
    "import numpy.ma as ma\n",
    "with open('hrrr_f12_Selma_AL.txt') as f:\n",
    "    lst=[line.split()[4] for line in f]\n",
    "    temp=[]\n",
    "    for i in lst:\n",
    "        new=i.replace(',',\"\")\n",
    "        temp.append(new)\n",
    "    temp.pop(0)\n",
    "    temp=[float(x) for x in temp]\n",
    "    temp=temp[1866:1891]\n",
    "    print(temp)"
   ]
  },
  {
   "cell_type": "code",
   "execution_count": 99,
   "id": "f289b0c4",
   "metadata": {},
   "outputs": [
    {
     "name": "stdout",
     "output_type": "stream",
     "text": [
      "[5.2, 4.35, 3.95, 3.45, 3.3, 2.7, 2.6, 8.55, 16.15, 20.8, 25.3, 27.0, 29.049999999999997, 29.35, 29.200000000000003, 27.15, 24.6, 21.9, 16.45, 12.8, 11.0, 9.850000000000001, 9.05, 8.149999999999999, 7.45]\n"
     ]
    }
   ],
   "source": [
    "#Air Temp CRN:\n",
    "with open('CRNS0101-05-2022-AL_Selma_13_WNW.txt') as f:\n",
    "    lst=[line.split()[12] for line in f]\n",
    "    \n",
    "    a=(float(lst[22535])+float(lst[22536]))/2\n",
    "    b=(float(lst[22547])+float(lst[22548]))/2\n",
    "    c=(float(lst[22559])+float(lst[22560]))/2\n",
    "    d=(float(lst[22571])+float(lst[22572]))/2\n",
    "    e=(float(lst[22583])+float(lst[22584]))/2\n",
    "    f=(float(lst[22595])+float(lst[22596]))/2\n",
    "    g=(float(lst[22607])+float(lst[22608]))/2\n",
    "    h=(float(lst[22619])+float(lst[22620]))/2\n",
    "    i=(float(lst[22631])+float(lst[22632]))/2\n",
    "    j=(float(lst[22643])+float(lst[22644]))/2\n",
    "    k=(float(lst[22655])+float(lst[22656]))/2\n",
    "    l=(float(lst[22667])+float(lst[22668]))/2\n",
    "    m=(float(lst[22679])+float(lst[22680]))/2\n",
    "    n=(float(lst[22691])+float(lst[22692]))/2\n",
    "    o=(float(lst[22703])+float(lst[22704]))/2\n",
    "    p=(float(lst[22715])+float(lst[22716]))/2\n",
    "    q=(float(lst[22727])+float(lst[22728]))/2\n",
    "    r=(float(lst[22739])+float(lst[22740]))/2\n",
    "    s=(float(lst[22751])+float(lst[22752]))/2\n",
    "    t=(float(lst[22763])+float(lst[22764]))/2\n",
    "    u=(float(lst[22775])+float(lst[22776]))/2\n",
    "    v=(float(lst[22787])+float(lst[22788]))/2\n",
    "    w=(float(lst[22799])+float(lst[22800]))/2\n",
    "    x=(float(lst[22811])+float(lst[22812]))/2\n",
    "    y=(float(lst[22823])+float(lst[22824]))/2\n",
    "    \n",
    "    temp_crn=[a,b,c,d,e,f,g,h,i,j,k,l,m,n,o,p,q,r,s,t,u,v,w,x,y]\n",
    "    print(temp_crn)"
   ]
  },
  {
   "cell_type": "code",
   "execution_count": 100,
   "id": "3e2532e4",
   "metadata": {},
   "outputs": [
    {
     "name": "stdout",
     "output_type": "stream",
     "text": [
      "[2.2699999999999996, 2.4700100000000003, 2.15001, 2.1200099999999997, 2.24001, 2.69001, 2.5100199999999995, -0.6500100000000009, -4.079999999999998, -5.130000000000001, -7.289999999999999, -7.100000000000001, -8.519999999999996, -7.91, -8.160000000000004, -6.84, -5.380000000000003, -4.439999999999998, -1.8599999999999994, -0.41999999999999993, 0.2400000000000002, 0.5999999999999979, 1.1799999999999997, 1.5299900000000015, 1.97999]\n",
      "25\n"
     ]
    }
   ],
   "source": [
    "difference3_sel = []\n",
    "\n",
    "zip_object = zip(temp, temp_crn)\n",
    "for temp_i, temp_crn_i in zip_object:\n",
    "    difference3_sel.append(temp_i-temp_crn_i)\n",
    "\n",
    "print(difference3_sel)\n",
    "print(len(difference3_sel))"
   ]
  },
  {
   "cell_type": "markdown",
   "id": "d837cb2c",
   "metadata": {},
   "source": [
    "<font size=\"3\">Bowling Green, KY: 0600 UTC (12:00 am CST) 01 March 2022-0600 UTC (12:00 am CST) 02 March 2022</font>"
   ]
  },
  {
   "cell_type": "code",
   "execution_count": 101,
   "id": "4d2fd05e",
   "metadata": {},
   "outputs": [
    {
     "name": "stdout",
     "output_type": "stream",
     "text": [
      "[1.92999, 1.22, 0.649994, -0.0799866, -0.339996, -0.779999, -1.44998, 2.85001, 9.87, 15.35, 18.99, 21.54, 22.96, 23.89, 23.52, 22.44, 20.36, 17.42, 12.9, 10.07, 8.60001, 7.92001, 6.76001, 5.86002, 5.37]\n"
     ]
    }
   ],
   "source": [
    "#1 hr hrrr:\n",
    "with open('hrrr_f12_Bowling Green_KY.txt') as f:\n",
    "    lst=[line.split()[4] for line in f]\n",
    "    temp=[]\n",
    "    for i in lst:\n",
    "        new=i.replace(',',\"\")\n",
    "        temp.append(new)\n",
    "    temp.pop(0)\n",
    "    temp=[float(x) for x in temp]\n",
    "    temp=temp[1866:1891]\n",
    "    #temp=temp[2015:2063]\n",
    "    print(temp)\n",
    "    #print(len(temp))\n",
    "#full time period is [2015:2112]"
   ]
  },
  {
   "cell_type": "code",
   "execution_count": 102,
   "id": "8f455593",
   "metadata": {},
   "outputs": [
    {
     "name": "stdout",
     "output_type": "stream",
     "text": [
      "[-0.25, -0.6499999999999999, -0.8500000000000001, -1.2, -1.5, -1.7, -1.7, 3.95, 10.100000000000001, 17.15, 22.1, 25.25, 27.25, 26.9, 26.049999999999997, 23.85, 18.9, 12.35, 5.95, 4.55, 3.7, 3.8499999999999996, 2.95, 2.45, 2.2]\n"
     ]
    }
   ],
   "source": [
    "#Air Temp CRN:\n",
    "with open('CRNS0101-05-2022-KY_Bowling_Green_21_NNE.txt') as f:\n",
    "    lst=[line.split()[12] for line in f]\n",
    "    \n",
    "    a=(float(lst[22535])+float(lst[22536]))/2\n",
    "    b=(float(lst[22547])+float(lst[22548]))/2\n",
    "    c=(float(lst[22559])+float(lst[22560]))/2\n",
    "    d=(float(lst[22571])+float(lst[22572]))/2\n",
    "    e=(float(lst[22583])+float(lst[22584]))/2\n",
    "    f=(float(lst[22595])+float(lst[22596]))/2\n",
    "    g=(float(lst[22607])+float(lst[22608]))/2\n",
    "    h=(float(lst[22619])+float(lst[22620]))/2\n",
    "    i=(float(lst[22631])+float(lst[22632]))/2\n",
    "    j=(float(lst[22643])+float(lst[22644]))/2\n",
    "    k=(float(lst[22655])+float(lst[22656]))/2\n",
    "    l=(float(lst[22667])+float(lst[22668]))/2\n",
    "    m=(float(lst[22679])+float(lst[22680]))/2\n",
    "    n=(float(lst[22691])+float(lst[22692]))/2\n",
    "    o=(float(lst[22703])+float(lst[22704]))/2\n",
    "    p=(float(lst[22715])+float(lst[22716]))/2\n",
    "    q=(float(lst[22727])+float(lst[22728]))/2\n",
    "    r=(float(lst[22739])+float(lst[22740]))/2\n",
    "    s=(float(lst[22751])+float(lst[22752]))/2\n",
    "    t=(float(lst[22763])+float(lst[22764]))/2\n",
    "    u=(float(lst[22775])+float(lst[22776]))/2\n",
    "    v=(float(lst[22787])+float(lst[22788]))/2\n",
    "    w=(float(lst[22799])+float(lst[22800]))/2\n",
    "    x=(float(lst[22811])+float(lst[22812]))/2\n",
    "    y=(float(lst[22823])+float(lst[22824]))/2\n",
    "    \n",
    "    temp_crn=[a,b,c,d,e,f,g,h,i,j,k,l,m,n,o,p,q,r,s,t,u,v,w,x,y]\n",
    "    print(temp_crn)"
   ]
  },
  {
   "cell_type": "code",
   "execution_count": 103,
   "id": "c1e44909",
   "metadata": {},
   "outputs": [
    {
     "name": "stdout",
     "output_type": "stream",
     "text": [
      "[2.17999, 1.8699999999999999, 1.499994, 1.1200134, 1.160004, 0.920001, 0.2500199999999999, -1.09999, -0.2300000000000022, -1.799999999999999, -3.110000000000003, -3.710000000000001, -4.289999999999999, -3.009999999999998, -2.5299999999999976, -1.4100000000000001, 1.4600000000000009, 5.070000000000002, 6.95, 5.5200000000000005, 4.900009999999999, 4.070010000000001, 3.81001, 3.4100199999999994, 3.17]\n"
     ]
    }
   ],
   "source": [
    "difference3_bow = []\n",
    "\n",
    "zip_object = zip(temp, temp_crn)\n",
    "for temp_i, temp_crn_i in zip_object:\n",
    "    difference3_bow.append(temp_i-temp_crn_i)\n",
    "\n",
    "print(difference3_bow)"
   ]
  },
  {
   "cell_type": "markdown",
   "id": "21c9a287",
   "metadata": {},
   "source": [
    "<font size=\"3\">Gadsden, AL: 0600 UTC (12:00 am CST) 01 March 2022-0600 UTC (12:00 am CST) 02 March 2022</font>"
   ]
  },
  {
   "cell_type": "code",
   "execution_count": 104,
   "id": "77a1ef95",
   "metadata": {},
   "outputs": [
    {
     "name": "stdout",
     "output_type": "stream",
     "text": [
      "[4.17999, 3.30002, 2.47, 2.55002, 1.92999, 1.97, 2.04001, 5.74002, 11.3, 14.97, 17.57, 19.55, 20.63, 21.4, 21.12, 20.22, 18.76, 16.37, 12.88, 11.45, 10.33, 8.73001, 7.49002, 6.72, 5.81]\n"
     ]
    }
   ],
   "source": [
    "#1 hr hrrr:\n",
    "with open('hrrr_f12_Gadsden_AL.txt') as f:\n",
    "    lst=[line.split()[4] for line in f]\n",
    "    temp=[]\n",
    "    for i in lst:\n",
    "        new=i.replace(',',\"\")\n",
    "        temp.append(new)\n",
    "    temp.pop(0)\n",
    "    temp=[float(x) for x in temp]\n",
    "    temp=temp[1866:1891]\n",
    "#     x = np.array(temp)\n",
    "#     temp = ma.masked_array(x, mask=[0, 0, 0, 0, 0,0,0,0,1,0,0,0,0,0,0,0,0,0,0,0,0,0,0,0,0])\n",
    "    #temp=temp[2015:2063]\n",
    "    print(temp)\n",
    "    #print(len(temp))\n",
    "#full time period is [2015:2112]"
   ]
  },
  {
   "cell_type": "code",
   "execution_count": 105,
   "id": "90d48370",
   "metadata": {},
   "outputs": [
    {
     "name": "stdout",
     "output_type": "stream",
     "text": [
      "[1.75, 1.15, 0.6499999999999999, 0.55, 0.4, 0.1, 0.65, 7.6, 11.95, 15.65, 19.4, 20.450000000000003, 22.0, 22.6, 22.45, 20.0, 18.1, 15.0, 9.55, 7.15, 5.95, 5.15, 4.25, 3.7, 3.3]\n"
     ]
    }
   ],
   "source": [
    "#Air Temp CRN:\n",
    "with open('CRNS0101-05-2022-AL_Gadsden_19_N.txt') as f:\n",
    "    lst=[line.split()[12] for line in f]\n",
    "    \n",
    "    a=(float(lst[22535])+float(lst[22536]))/2\n",
    "    b=(float(lst[22547])+float(lst[22548]))/2\n",
    "    c=(float(lst[22559])+float(lst[22560]))/2\n",
    "    d=(float(lst[22571])+float(lst[22572]))/2\n",
    "    e=(float(lst[22583])+float(lst[22584]))/2\n",
    "    f=(float(lst[22595])+float(lst[22596]))/2\n",
    "    g=(float(lst[22607])+float(lst[22608]))/2\n",
    "    h=(float(lst[22619])+float(lst[22620]))/2\n",
    "    i=(float(lst[22631])+float(lst[22632]))/2\n",
    "    j=(float(lst[22643])+float(lst[22644]))/2\n",
    "    k=(float(lst[22655])+float(lst[22656]))/2\n",
    "    l=(float(lst[22667])+float(lst[22668]))/2\n",
    "    m=(float(lst[22679])+float(lst[22680]))/2\n",
    "    n=(float(lst[22691])+float(lst[22692]))/2\n",
    "    o=(float(lst[22703])+float(lst[22704]))/2\n",
    "    p=(float(lst[22715])+float(lst[22716]))/2\n",
    "    q=(float(lst[22727])+float(lst[22728]))/2\n",
    "    r=(float(lst[22739])+float(lst[22740]))/2\n",
    "    s=(float(lst[22751])+float(lst[22752]))/2\n",
    "    t=(float(lst[22763])+float(lst[22764]))/2\n",
    "    u=(float(lst[22775])+float(lst[22776]))/2\n",
    "    v=(float(lst[22787])+float(lst[22788]))/2\n",
    "    w=(float(lst[22799])+float(lst[22800]))/2\n",
    "    x=(float(lst[22811])+float(lst[22812]))/2\n",
    "    y=(float(lst[22823])+float(lst[22824]))/2\n",
    "    \n",
    "    temp_crn=[a,b,c,d,e,f,g,h,i,j,k,l,m,n,o,p,q,r,s,t,u,v,w,x,y]\n",
    "    print(temp_crn)"
   ]
  },
  {
   "cell_type": "code",
   "execution_count": 106,
   "id": "cf4acb88",
   "metadata": {},
   "outputs": [
    {
     "name": "stdout",
     "output_type": "stream",
     "text": [
      "[2.42999, 2.15002, 1.8200000000000003, 2.00002, 1.5299900000000002, 1.8699999999999999, 1.3900100000000002, -1.8599799999999993, -0.6499999999999986, -0.6799999999999997, -1.8299999999999983, -0.9000000000000021, -1.370000000000001, -1.2000000000000028, -1.3299999999999983, 0.21999999999999886, 0.6600000000000001, 1.370000000000001, 3.33, 4.299999999999999, 4.38, 3.5800099999999997, 3.2400200000000003, 3.0199999999999996, 2.51]\n"
     ]
    }
   ],
   "source": [
    "difference3_gad = []\n",
    "\n",
    "zip_object = zip(temp, temp_crn)\n",
    "for temp_i, temp_crn_i in zip_object:\n",
    "    difference3_gad.append(temp_i-temp_crn_i)\n",
    "\n",
    "print(difference3_gad)"
   ]
  },
  {
   "cell_type": "markdown",
   "id": "93b56dfb",
   "metadata": {},
   "source": [
    "<font size=\"3\">Newton, GA: 0600 UTC (12:00 am CST) 01 March 2022-0600 UTC (12:00 am CST) 02 March 2022</font>"
   ]
  },
  {
   "cell_type": "code",
   "execution_count": 107,
   "id": "53a55c7c",
   "metadata": {},
   "outputs": [
    {
     "name": "stdout",
     "output_type": "stream",
     "text": [
      "[12.25, 11.11, 10.02, 9.17999, 8.77002, 8.14001, 7.44, 10.16, 12.91, 15.26, 16.91, 18.56, 19.49, 19.93, 19.44, 19.43, 19.12, 17.38, 14.73, 12.52, 11.21, 10.38, 10.2, 9.52002, 8.80002]\n"
     ]
    }
   ],
   "source": [
    "#1 hr hrrr:\n",
    "with open('hrrr_f12_Newton_GA.txt') as f:\n",
    "    lst=[line.split()[4] for line in f]\n",
    "    temp=[]\n",
    "    for i in lst:\n",
    "        new=i.replace(',',\"\")\n",
    "        temp.append(new)\n",
    "    temp.pop(0)\n",
    "    temp=[float(x) for x in temp]\n",
    "    temp=temp[1866:1891]\n",
    "    #temp=temp[2015:2063]\n",
    "    print(temp)\n",
    "    #print(len(temp))\n",
    "#full time period is [2015:2112]"
   ]
  },
  {
   "cell_type": "code",
   "execution_count": 108,
   "id": "e0002988",
   "metadata": {},
   "outputs": [
    {
     "name": "stdout",
     "output_type": "stream",
     "text": [
      "[11.1, 10.75, 10.05, 8.95, 7.800000000000001, 7.75, 7.5, 11.65, 16.2, 20.450000000000003, 24.2, 25.35, 28.5, 27.35, 26.35, 25.549999999999997, 22.3, 18.4, 13.65, 12.0, 11.05, 10.0, 9.149999999999999, 8.5, 7.85]\n"
     ]
    }
   ],
   "source": [
    "#Air Temp CRN:\n",
    "with open('CRNS0101-05-2022-GA_Newton_11_SW.txt') as f:\n",
    "    lst=[line.split()[12] for line in f]\n",
    "    \n",
    "    a=(float(lst[22535])+float(lst[22536]))/2\n",
    "    b=(float(lst[22547])+float(lst[22548]))/2\n",
    "    c=(float(lst[22559])+float(lst[22560]))/2\n",
    "    d=(float(lst[22571])+float(lst[22572]))/2\n",
    "    e=(float(lst[22583])+float(lst[22584]))/2\n",
    "    f=(float(lst[22595])+float(lst[22596]))/2\n",
    "    g=(float(lst[22607])+float(lst[22608]))/2\n",
    "    h=(float(lst[22619])+float(lst[22620]))/2\n",
    "    i=(float(lst[22631])+float(lst[22632]))/2\n",
    "    j=(float(lst[22643])+float(lst[22644]))/2\n",
    "    k=(float(lst[22655])+float(lst[22656]))/2\n",
    "    l=(float(lst[22667])+float(lst[22668]))/2\n",
    "    m=(float(lst[22679])+float(lst[22680]))/2\n",
    "    n=(float(lst[22691])+float(lst[22692]))/2\n",
    "    o=(float(lst[22703])+float(lst[22704]))/2\n",
    "    p=(float(lst[22715])+float(lst[22716]))/2\n",
    "    q=(float(lst[22727])+float(lst[22728]))/2\n",
    "    r=(float(lst[22739])+float(lst[22740]))/2\n",
    "    s=(float(lst[22751])+float(lst[22752]))/2\n",
    "    t=(float(lst[22763])+float(lst[22764]))/2\n",
    "    u=(float(lst[22775])+float(lst[22776]))/2\n",
    "    v=(float(lst[22787])+float(lst[22788]))/2\n",
    "    w=(float(lst[22799])+float(lst[22800]))/2\n",
    "    x=(float(lst[22811])+float(lst[22812]))/2\n",
    "    y=(float(lst[22823])+float(lst[22824]))/2\n",
    "    \n",
    "    temp_crn=[a,b,c,d,e,f,g,h,i,j,k,l,m,n,o,p,q,r,s,t,u,v,w,x,y]\n",
    "    print(temp_crn)"
   ]
  },
  {
   "cell_type": "code",
   "execution_count": 109,
   "id": "b71c6000",
   "metadata": {},
   "outputs": [
    {
     "name": "stdout",
     "output_type": "stream",
     "text": [
      "[1.1500000000000004, 0.35999999999999943, -0.030000000000001137, 0.2299900000000008, 0.9700199999999999, 0.3900100000000002, -0.05999999999999961, -1.4900000000000002, -3.289999999999999, -5.190000000000003, -7.289999999999999, -6.790000000000003, -9.010000000000002, -7.420000000000002, -6.91, -6.119999999999997, -3.1799999999999997, -1.0199999999999996, 1.08, 0.5199999999999996, 0.16000000000000014, 0.3800000000000008, 1.0500000000000007, 1.0200200000000006, 0.9500200000000003]\n"
     ]
    }
   ],
   "source": [
    "difference3_newt = []\n",
    "\n",
    "zip_object = zip(temp, temp_crn)\n",
    "for temp_i, temp_crn_i in zip_object:\n",
    "    difference3_newt.append(temp_i-temp_crn_i)\n",
    "\n",
    "print(difference3_newt)"
   ]
  },
  {
   "cell_type": "markdown",
   "id": "e079df5d",
   "metadata": {},
   "source": [
    "<font size=\"3\">Salem, MO: 0500 UTC (12:00 am CDT) 03 April 2022-0500 UTC (12:00 am CDT) 04 April 2022</font>"
   ]
  },
  {
   "cell_type": "code",
   "execution_count": 110,
   "id": "2bda3233",
   "metadata": {},
   "outputs": [
    {
     "name": "stdout",
     "output_type": "stream",
     "text": [
      "[3.35001, 2.89999, 2.62, 2.24002, 2.30002, 2.07001, 1.72, 4.80002, 9.07001, 12.75, 15.15, 16.89, 19.45, 21.43, 21.01, 18.51, 17.98, 17.07, 14.85, 12.63, 11.67, 11.65, 10.92, 10.71, 10.5]\n",
      "25\n"
     ]
    }
   ],
   "source": [
    "#1 hr hrrr:\n",
    "with open('hrrr_f12_Salem_MO.txt') as f:\n",
    "    lst=[line.split()[4] for line in f]\n",
    "    temp=[]\n",
    "    for i in lst:\n",
    "        new=i.replace(',',\"\")\n",
    "        temp.append(new)\n",
    "    temp.pop(0)\n",
    "    temp=[float(x) for x in temp]\n",
    "    temp=temp[2202:2227]\n",
    "    #temp=temp[2015:2063]\n",
    "    print(temp)\n",
    "    print(len(temp))\n",
    "#full time period is [2015:2112]"
   ]
  },
  {
   "cell_type": "code",
   "execution_count": 111,
   "id": "3a8d2e0d",
   "metadata": {},
   "outputs": [
    {
     "name": "stdout",
     "output_type": "stream",
     "text": [
      "[-2.1500000000000004, -2.7, -2.7, -3.3, -3.45, -3.75, -3.15, 4.0, 12.25, 18.5, 25.450000000000003, 29.75, 32.2, 32.45, 28.049999999999997, 28.8, 22.95, 16.05, 14.3, 11.55, 11.5, 11.9, 11.7, 11.3, 8.850000000000001]\n"
     ]
    }
   ],
   "source": [
    "#Air Temp CRN:\n",
    "with open('CRNS0101-05-2022-MO_Salem_10_W.txt') as f:\n",
    "    lst=[line.split()[12] for line in f]\n",
    "    \n",
    "    a=(float(lst[26567])+float(lst[26568]))/2\n",
    "    b=(float(lst[26579])+float(lst[26580]))/2\n",
    "    c=(float(lst[26591])+float(lst[26592]))/2\n",
    "    d=(float(lst[26603])+float(lst[26604]))/2\n",
    "    e=(float(lst[26615])+float(lst[26616]))/2\n",
    "    f=(float(lst[26627])+float(lst[26628]))/2\n",
    "    g=(float(lst[26639])+float(lst[26640]))/2\n",
    "    h=(float(lst[26651])+float(lst[26652]))/2\n",
    "    i=(float(lst[26663])+float(lst[26664]))/2\n",
    "    j=(float(lst[26675])+float(lst[26676]))/2\n",
    "    k=(float(lst[26687])+float(lst[26688]))/2\n",
    "    l=(float(lst[26699])+float(lst[26700]))/2\n",
    "    m=(float(lst[26711])+float(lst[26712]))/2\n",
    "    n=(float(lst[26723])+float(lst[26724]))/2\n",
    "    o=(float(lst[26735])+float(lst[26736]))/2\n",
    "    p=(float(lst[26747])+float(lst[26748]))/2\n",
    "    q=(float(lst[26759])+float(lst[26760]))/2\n",
    "    r=(float(lst[26773])+float(lst[26774]))/2\n",
    "    s=(float(lst[26783])+float(lst[26784]))/2\n",
    "    t=(float(lst[26795])+float(lst[26796]))/2\n",
    "    u=(float(lst[26807])+float(lst[26808]))/2\n",
    "    v=(float(lst[26819])+float(lst[26820]))/2\n",
    "    w=(float(lst[26831])+float(lst[26832]))/2\n",
    "    x=(float(lst[26843])+float(lst[26844]))/2\n",
    "    y=(float(lst[26855])+float(lst[26856]))/2\n",
    "    \n",
    "    temp_crn=[a,b,c,d,e,f,g,h,i,j,k,l,m,n,o,p,q,r,s,t,u,v,w,x,y]\n",
    "    print(temp_crn)"
   ]
  },
  {
   "cell_type": "code",
   "execution_count": 112,
   "id": "2f3aad80",
   "metadata": {},
   "outputs": [
    {
     "name": "stdout",
     "output_type": "stream",
     "text": [
      "[5.5000100000000005, 5.59999, 5.32, 5.54002, 5.75002, 5.82001, 4.87, 0.80002, -3.17999, -5.75, -10.300000000000002, -12.86, -12.750000000000004, -11.020000000000003, -7.039999999999996, -10.29, -4.969999999999999, 1.0199999999999996, 0.5499999999999989, 1.08, 0.16999999999999993, -0.25, -0.7799999999999994, -0.5899999999999999, 1.6499999999999986]\n"
     ]
    }
   ],
   "source": [
    "difference4_sal = []\n",
    "\n",
    "zip_object = zip(temp, temp_crn)\n",
    "for temp_i, temp_crn_i in zip_object:\n",
    "    difference4_sal.append(temp_i-temp_crn_i)\n",
    "\n",
    "print(difference4_sal)"
   ]
  },
  {
   "cell_type": "markdown",
   "id": "f30e9b3b",
   "metadata": {},
   "source": [
    "<font size=\"3\">Batesville, AR: 0600 UTC (12:00 am CST) 01 March 2022-0600 UTC (12:00 am CST) 02 March 2022</font>"
   ]
  },
  {
   "cell_type": "code",
   "execution_count": 113,
   "id": "ea25905e",
   "metadata": {},
   "outputs": [
    {
     "name": "stdout",
     "output_type": "stream",
     "text": [
      "[6.87, 6.39999, 5.89001, 5.34, 4.89999, 4.74002, 4.54001, 7.13, 10.92, 13.89, 16.81, 18.9, 20.88, 22.61, 23.85, 23.69, 22.28, 19.68, 16.67, 13.38, 11.76, 10.8, 9.91, 9.56, 9.14001]\n",
      "25\n"
     ]
    }
   ],
   "source": [
    "#1 hr hrrr:\n",
    "with open('hrrr_f12_Batesville_AR.txt') as f:\n",
    "    lst=[line.split()[4] for line in f]\n",
    "    temp=[]\n",
    "    for i in lst:\n",
    "        new=i.replace(',',\"\")\n",
    "        temp.append(new)\n",
    "    temp.pop(0)\n",
    "    temp=[float(x) for x in temp]\n",
    "    temp=temp[2202:2227]\n",
    "#     x = np.array(temp)\n",
    "#     temp = ma.masked_array(x, mask=[0, 0, 0, 0, 0,0,0,0,0,0,0,0,0,0,0,0,0,0,0,0,0,1,0,0,0])\n",
    "    #temp=temp[2015:2063]\n",
    "    print(temp)\n",
    "    print(len(temp))\n",
    "#full time period is [2015:2112]"
   ]
  },
  {
   "cell_type": "code",
   "execution_count": 114,
   "id": "6ac93b59",
   "metadata": {},
   "outputs": [
    {
     "name": "stdout",
     "output_type": "stream",
     "text": [
      "[2.75, 2.1, 2.5, 1.2999999999999998, 0.7, 0.2, 0.4, 5.5, 12.5, 14.45, 18.5, 19.8, 20.950000000000003, 22.1, 21.4, 19.5, 17.05, 14.2, 12.75, 10.05, 8.85, 8.7, 7.6, 10.2, 9.05]\n"
     ]
    }
   ],
   "source": [
    "#Air Temp CRN:\n",
    "with open('CRNS0101-05-2022-AR_Batesville_8_WNW.txt') as f:\n",
    "    lst=[line.split()[12] for line in f]\n",
    "    \n",
    "    a=(float(lst[26567])+float(lst[26568]))/2\n",
    "    b=(float(lst[26579])+float(lst[26580]))/2\n",
    "    c=(float(lst[26591])+float(lst[26592]))/2\n",
    "    d=(float(lst[26603])+float(lst[26604]))/2\n",
    "    e=(float(lst[26615])+float(lst[26616]))/2\n",
    "    f=(float(lst[26627])+float(lst[26628]))/2\n",
    "    g=(float(lst[26639])+float(lst[26640]))/2\n",
    "    h=(float(lst[26651])+float(lst[26652]))/2\n",
    "    i=(float(lst[26663])+float(lst[26664]))/2\n",
    "    j=(float(lst[26675])+float(lst[26676]))/2\n",
    "    k=(float(lst[26687])+float(lst[26688]))/2\n",
    "    l=(float(lst[26699])+float(lst[26700]))/2\n",
    "    m=(float(lst[26711])+float(lst[26712]))/2\n",
    "    n=(float(lst[26723])+float(lst[26724]))/2\n",
    "    o=(float(lst[26735])+float(lst[26736]))/2\n",
    "    p=(float(lst[26747])+float(lst[26748]))/2\n",
    "    q=(float(lst[26759])+float(lst[26760]))/2\n",
    "    r=(float(lst[26773])+float(lst[26774]))/2\n",
    "    s=(float(lst[26783])+float(lst[26784]))/2\n",
    "    t=(float(lst[26795])+float(lst[26796]))/2\n",
    "    u=(float(lst[26807])+float(lst[26808]))/2\n",
    "    v=(float(lst[26819])+float(lst[26820]))/2\n",
    "    w=(float(lst[26831])+float(lst[26832]))/2\n",
    "    x=(float(lst[26843])+float(lst[26844]))/2\n",
    "    y=(float(lst[26855])+float(lst[26856]))/2\n",
    "    \n",
    "    temp_crn=[a,b,c,d,e,f,g,h,i,j,k,l,m,n,o,p,q,r,s,t,u,v,w,x,y]\n",
    "    print(temp_crn)"
   ]
  },
  {
   "cell_type": "code",
   "execution_count": 115,
   "id": "32d53f73",
   "metadata": {},
   "outputs": [
    {
     "name": "stdout",
     "output_type": "stream",
     "text": [
      "[4.12, 4.299989999999999, 3.39001, 4.04, 4.19999, 4.54002, 4.140009999999999, 1.63, -1.58, -0.5599999999999987, -1.6900000000000013, -0.9000000000000021, -0.07000000000000384, 0.509999999999998, 2.450000000000003, 4.190000000000001, 5.23, 5.48, 3.9200000000000017, 3.33, 2.91, 2.1000000000000014, 2.3100000000000005, -0.6399999999999988, 0.09000999999999948]\n"
     ]
    }
   ],
   "source": [
    "difference4_bat = []\n",
    "\n",
    "zip_object = zip(temp, temp_crn)\n",
    "for temp_i, temp_crn_i in zip_object:\n",
    "    difference4_bat.append(temp_i-temp_crn_i)\n",
    "\n",
    "print(difference4_bat)"
   ]
  },
  {
   "cell_type": "markdown",
   "id": "2869b9dc",
   "metadata": {},
   "source": [
    "<font size=\"3\">Lafayette, LA: 0600 UTC (12:00 am CST) 01 March 2022-0600 UTC (12:00 am CST) 02 March 2022</font>"
   ]
  },
  {
   "cell_type": "code",
   "execution_count": 116,
   "id": "fd2670e5",
   "metadata": {},
   "outputs": [
    {
     "name": "stdout",
     "output_type": "stream",
     "text": [
      "[16.03, 15.05, 14.65, 14.09, 13.44, 12.96, 12.18, 14.8, 21.33, 27.55, 31.54, 34.64, 36.44, 37.22, 37.19, 36.15, 33.66, 30.5, 25.0, 21.92, 20.22, 19.21, 18.46, 17.3, 16.33]\n"
     ]
    }
   ],
   "source": [
    "#1 hr hrrr:\n",
    "with open('hrrr_f12_Lafayette_LA.txt') as f:\n",
    "    lst=[line.split()[4] for line in f]\n",
    "    temp=[]\n",
    "    for i in lst:\n",
    "        new=i.replace(',',\"\")\n",
    "        temp.append(new)\n",
    "    temp.pop(0)\n",
    "    temp=[float(x) for x in temp]\n",
    "    temp=temp[2202:2227]\n",
    "    #temp=temp[2015:2063]\n",
    "    print(temp)\n",
    "    #print(len(temp))\n",
    "#full time period is [2015:2112]"
   ]
  },
  {
   "cell_type": "code",
   "execution_count": 117,
   "id": "59735c23",
   "metadata": {},
   "outputs": [
    {
     "name": "stdout",
     "output_type": "stream",
     "text": [
      "[9.9, 9.149999999999999, 8.55, 8.3, 8.05, 8.149999999999999, 8.350000000000001, 14.5, 19.1, 24.35, 28.75, 31.6, 34.05, 34.95, 34.2, 31.7, 28.3, 23.75, 20.049999999999997, 17.4, 16.35, 15.9, 14.35, 12.95, 11.649999999999999]\n"
     ]
    }
   ],
   "source": [
    "#Air Temp CRN:\n",
    "with open('CRNS0101-05-2022-LA_Lafayette_13_SE.txt') as f:\n",
    "    lst=[line.split()[12] for line in f]\n",
    "    \n",
    "    a=(float(lst[26567])+float(lst[26568]))/2\n",
    "    b=(float(lst[26579])+float(lst[26580]))/2\n",
    "    c=(float(lst[26591])+float(lst[26592]))/2\n",
    "    d=(float(lst[26603])+float(lst[26604]))/2\n",
    "    e=(float(lst[26615])+float(lst[26616]))/2\n",
    "    f=(float(lst[26627])+float(lst[26628]))/2\n",
    "    g=(float(lst[26639])+float(lst[26640]))/2\n",
    "    h=(float(lst[26651])+float(lst[26652]))/2\n",
    "    i=(float(lst[26663])+float(lst[26664]))/2\n",
    "    j=(float(lst[26675])+float(lst[26676]))/2\n",
    "    k=(float(lst[26687])+float(lst[26688]))/2\n",
    "    l=(float(lst[26699])+float(lst[26700]))/2\n",
    "    m=(float(lst[26711])+float(lst[26712]))/2\n",
    "    n=(float(lst[26723])+float(lst[26724]))/2\n",
    "    o=(float(lst[26735])+float(lst[26736]))/2\n",
    "    p=(float(lst[26747])+float(lst[26748]))/2\n",
    "    q=(float(lst[26759])+float(lst[26760]))/2\n",
    "    r=(float(lst[26773])+float(lst[26774]))/2\n",
    "    s=(float(lst[26783])+float(lst[26784]))/2\n",
    "    t=(float(lst[26795])+float(lst[26796]))/2\n",
    "    u=(float(lst[26807])+float(lst[26808]))/2\n",
    "    v=(float(lst[26819])+float(lst[26820]))/2\n",
    "    w=(float(lst[26831])+float(lst[26832]))/2\n",
    "    x=(float(lst[26843])+float(lst[26844]))/2\n",
    "    y=(float(lst[26855])+float(lst[26856]))/2\n",
    "    \n",
    "    temp_crn=[a,b,c,d,e,f,g,h,i,j,k,l,m,n,o,p,q,r,s,t,u,v,w,x,y]\n",
    "    print(temp_crn)"
   ]
  },
  {
   "cell_type": "code",
   "execution_count": 118,
   "id": "c02f8d98",
   "metadata": {},
   "outputs": [
    {
     "name": "stdout",
     "output_type": "stream",
     "text": [
      "[6.130000000000001, 5.900000000000002, 6.1, 5.789999999999999, 5.389999999999999, 4.810000000000002, 3.8299999999999983, 0.3000000000000007, 2.229999999999997, 3.1999999999999993, 2.789999999999999, 3.039999999999999, 2.3900000000000006, 2.269999999999996, 2.989999999999995, 4.449999999999999, 5.359999999999996, 6.75, 4.950000000000003, 4.520000000000003, 3.8699999999999974, 3.3100000000000005, 4.110000000000001, 4.350000000000001, 4.68]\n"
     ]
    }
   ],
   "source": [
    "difference4_laf = []\n",
    "\n",
    "zip_object = zip(temp, temp_crn)\n",
    "for temp_i, temp_crn_i in zip_object:\n",
    "    difference4_laf.append(temp_i-temp_crn_i)\n",
    "\n",
    "print(difference4_laf)"
   ]
  },
  {
   "cell_type": "markdown",
   "id": "ab48fc12",
   "metadata": {},
   "source": [
    "<font size=\"3\">Monroe, LA: 0600 UTC (12:00 am CST) 01 March 2022-0600 UTC (12:00 am CST) 02 March 2022</font>"
   ]
  },
  {
   "cell_type": "code",
   "execution_count": 119,
   "id": "b61707d0",
   "metadata": {},
   "outputs": [
    {
     "name": "stdout",
     "output_type": "stream",
     "text": [
      "[12.64, 12.13, 11.38, 10.94, 10.53, 10.16, 9.45999, 11.91, 15.26, 18.79, 22.25, 25.34, 29.58, 31.81, 32.07, 31.27, 29.33, 26.26, 22.69, 19.43, 17.9, 16.41, 15.11, 14.3, 13.7]\n"
     ]
    }
   ],
   "source": [
    "#1 hr hrrr:\n",
    "with open('hrrr_f12_Monroe_LA.txt') as f:\n",
    "    lst=[line.split()[4] for line in f]\n",
    "    temp=[]\n",
    "    for i in lst:\n",
    "        new=i.replace(',',\"\")\n",
    "        temp.append(new)\n",
    "    temp.pop(0)\n",
    "    temp=[float(x) for x in temp]\n",
    "    temp=temp[2202:2227]\n",
    "    #temp=temp[2015:2063]\n",
    "    print(temp)\n",
    "    #print(len(temp))\n",
    "#full time period is [2015:2112]"
   ]
  },
  {
   "cell_type": "code",
   "execution_count": 120,
   "id": "2bcf6d37",
   "metadata": {},
   "outputs": [
    {
     "name": "stdout",
     "output_type": "stream",
     "text": [
      "[7.85, 7.45, 6.95, 6.55, 6.199999999999999, 5.7, 6.15, 10.65, 17.35, 21.35, 24.25, 26.9, 28.65, 29.1, 28.8, 28.45, 27.1, 20.0, 17.549999999999997, 12.5, 11.45, 10.649999999999999, 10.9, 10.75, 9.45]\n"
     ]
    }
   ],
   "source": [
    "#Air Temp CRN:\n",
    "with open('CRNS0101-05-2022-LA_Monroe_26_N.txt') as f:\n",
    "    lst=[line.split()[12] for line in f]\n",
    "    \n",
    "    a=(float(lst[26567])+float(lst[26568]))/2\n",
    "    b=(float(lst[26579])+float(lst[26580]))/2\n",
    "    c=(float(lst[26591])+float(lst[26592]))/2\n",
    "    d=(float(lst[26603])+float(lst[26604]))/2\n",
    "    e=(float(lst[26615])+float(lst[26616]))/2\n",
    "    f=(float(lst[26627])+float(lst[26628]))/2\n",
    "    g=(float(lst[26639])+float(lst[26640]))/2\n",
    "    h=(float(lst[26651])+float(lst[26652]))/2\n",
    "    i=(float(lst[26663])+float(lst[26664]))/2\n",
    "    j=(float(lst[26675])+float(lst[26676]))/2\n",
    "    k=(float(lst[26687])+float(lst[26688]))/2\n",
    "    l=(float(lst[26699])+float(lst[26700]))/2\n",
    "    m=(float(lst[26711])+float(lst[26712]))/2\n",
    "    n=(float(lst[26723])+float(lst[26724]))/2\n",
    "    o=(float(lst[26735])+float(lst[26736]))/2\n",
    "    p=(float(lst[26747])+float(lst[26748]))/2\n",
    "    q=(float(lst[26759])+float(lst[26760]))/2\n",
    "    r=(float(lst[26773])+float(lst[26774]))/2\n",
    "    s=(float(lst[26783])+float(lst[26784]))/2\n",
    "    t=(float(lst[26795])+float(lst[26796]))/2\n",
    "    u=(float(lst[26807])+float(lst[26808]))/2\n",
    "    v=(float(lst[26819])+float(lst[26820]))/2\n",
    "    w=(float(lst[26831])+float(lst[26832]))/2\n",
    "    x=(float(lst[26843])+float(lst[26844]))/2\n",
    "    y=(float(lst[26855])+float(lst[26856]))/2\n",
    "    \n",
    "    temp_crn=[a,b,c,d,e,f,g,h,i,j,k,l,m,n,o,p,q,r,s,t,u,v,w,x,y]\n",
    "    print(temp_crn)"
   ]
  },
  {
   "cell_type": "code",
   "execution_count": 121,
   "id": "e8911bcb",
   "metadata": {},
   "outputs": [
    {
     "name": "stdout",
     "output_type": "stream",
     "text": [
      "[4.790000000000001, 4.680000000000001, 4.430000000000001, 4.39, 4.33, 4.46, 3.309989999999999, 1.2599999999999998, -2.0900000000000016, -2.5600000000000023, -2.0, -1.5599999999999987, 0.9299999999999997, 2.7099999999999973, 3.2699999999999996, 2.8200000000000003, 2.229999999999997, 6.260000000000002, 5.140000000000004, 6.93, 6.449999999999999, 5.760000000000002, 4.209999999999999, 3.5500000000000007, 4.25]\n"
     ]
    }
   ],
   "source": [
    "difference4_mon = []\n",
    "\n",
    "zip_object = zip(temp, temp_crn)\n",
    "for temp_i, temp_crn_i in zip_object:\n",
    "    difference4_mon.append(temp_i-temp_crn_i)\n",
    "\n",
    "print(difference4_mon)"
   ]
  },
  {
   "cell_type": "markdown",
   "id": "dbfdd9c6",
   "metadata": {},
   "source": [
    "<font size=\"3\">Holly Springs, MS: 0600 UTC (12:00 am CST) 01 March 2022-0600 UTC (12:00 am CST) 02 March 2022</font>"
   ]
  },
  {
   "cell_type": "code",
   "execution_count": 122,
   "id": "055b4b13",
   "metadata": {},
   "outputs": [
    {
     "name": "stdout",
     "output_type": "stream",
     "text": [
      "[8.80002, 7.67999, 7.01001, 6.53, 6.12, 6.06, 5.24002, 7.98001, 11.11, 14.31, 17.49, 20.6, 23.76, 25.04, 25.45, 25.02, 23.17, 20.26, 16.69, 13.28, 11.39, 10.36, 9.39999, 8.64999, 8.17001]\n"
     ]
    }
   ],
   "source": [
    "#1 hr hrrr:\n",
    "with open('hrrr_f12_Holly Springs_MS.txt') as f:\n",
    "    lst=[line.split()[4] for line in f]\n",
    "    temp=[]\n",
    "    for i in lst:\n",
    "        new=i.replace(',',\"\")\n",
    "        temp.append(new)\n",
    "    temp.pop(0)\n",
    "    temp=[float(x) for x in temp]\n",
    "    temp=temp[2202:2227]\n",
    "    #temp=temp[2015:2063]\n",
    "    print(temp)\n",
    "    #print(len(temp))\n",
    "#full time period is [2015:2112]"
   ]
  },
  {
   "cell_type": "code",
   "execution_count": 123,
   "id": "13e28750",
   "metadata": {},
   "outputs": [
    {
     "name": "stdout",
     "output_type": "stream",
     "text": [
      "[7.7, 5.5, 5.6, 4.5, 3.7, 3.0999999999999996, 2.7, 9.0, 12.5, 16.549999999999997, 20.5, 23.75, 26.200000000000003, 26.700000000000003, 26.05, 24.200000000000003, 21.05, 16.700000000000003, 10.85, 8.1, 7.05, 6.2, 5.45, 5.1, 5.35]\n"
     ]
    }
   ],
   "source": [
    "#Air Temp CRN:\n",
    "with open('CRNS0101-05-2022-MS_Holly_Springs_4_N.txt') as f:\n",
    "    lst=[line.split()[12] for line in f]\n",
    "    \n",
    "    a=(float(lst[26567])+float(lst[26568]))/2\n",
    "    b=(float(lst[26579])+float(lst[26580]))/2\n",
    "    c=(float(lst[26591])+float(lst[26592]))/2\n",
    "    d=(float(lst[26603])+float(lst[26604]))/2\n",
    "    e=(float(lst[26615])+float(lst[26616]))/2\n",
    "    f=(float(lst[26627])+float(lst[26628]))/2\n",
    "    g=(float(lst[26639])+float(lst[26640]))/2\n",
    "    h=(float(lst[26651])+float(lst[26652]))/2\n",
    "    i=(float(lst[26663])+float(lst[26664]))/2\n",
    "    j=(float(lst[26675])+float(lst[26676]))/2\n",
    "    k=(float(lst[26687])+float(lst[26688]))/2\n",
    "    l=(float(lst[26699])+float(lst[26700]))/2\n",
    "    m=(float(lst[26711])+float(lst[26712]))/2\n",
    "    n=(float(lst[26723])+float(lst[26724]))/2\n",
    "    o=(float(lst[26735])+float(lst[26736]))/2\n",
    "    p=(float(lst[26747])+float(lst[26748]))/2\n",
    "    q=(float(lst[26759])+float(lst[26760]))/2\n",
    "    r=(float(lst[26773])+float(lst[26774]))/2\n",
    "    s=(float(lst[26783])+float(lst[26784]))/2\n",
    "    t=(float(lst[26795])+float(lst[26796]))/2\n",
    "    u=(float(lst[26807])+float(lst[26808]))/2\n",
    "    v=(float(lst[26819])+float(lst[26820]))/2\n",
    "    w=(float(lst[26831])+float(lst[26832]))/2\n",
    "    x=(float(lst[26843])+float(lst[26844]))/2\n",
    "    y=(float(lst[26855])+float(lst[26856]))/2\n",
    "    \n",
    "    temp_crn=[a,b,c,d,e,f,g,h,i,j,k,l,m,n,o,p,q,r,s,t,u,v,w,x,y]\n",
    "    print(temp_crn)"
   ]
  },
  {
   "cell_type": "code",
   "execution_count": 124,
   "id": "6836c3bb",
   "metadata": {},
   "outputs": [
    {
     "name": "stdout",
     "output_type": "stream",
     "text": [
      "[1.1000199999999998, 2.17999, 1.4100100000000007, 2.0300000000000002, 2.42, 2.96, 2.54002, -1.01999, -1.3900000000000006, -2.2399999999999967, -3.0100000000000016, -3.1499999999999986, -2.4400000000000013, -1.6600000000000037, -0.6000000000000014, 0.8199999999999967, 2.120000000000001, 3.5599999999999987, 5.840000000000002, 5.18, 4.340000000000001, 4.159999999999999, 3.9499900000000006, 3.549990000000001, 2.82001]\n"
     ]
    }
   ],
   "source": [
    "difference4_hol = []\n",
    "\n",
    "zip_object = zip(temp, temp_crn)\n",
    "for temp_i, temp_crn_i in zip_object:\n",
    "    difference4_hol.append(temp_i-temp_crn_i)\n",
    "\n",
    "print(difference4_hol)"
   ]
  },
  {
   "cell_type": "markdown",
   "id": "9c7354c6",
   "metadata": {},
   "source": [
    "<font size=\"3\">Newton, MS: 0600 UTC (12:00 am CST) 01 March 2022-0600 UTC (12:00 am CST) 02 March 2022</font>"
   ]
  },
  {
   "cell_type": "code",
   "execution_count": 125,
   "id": "93316a90",
   "metadata": {},
   "outputs": [
    {
     "name": "stdout",
     "output_type": "stream",
     "text": [
      "[12.7, 11.62, 10.99, 10.53, 9.54001, 9.12, 8.81, 12.97, 19.28, 24.17, 27.56, 29.37, 31.02, 31.39, 31.08, 29.96, 27.86, 24.69, 21.16, 18.45, 16.76, 15.58, 14.37, 13.24, 12.8]\n"
     ]
    }
   ],
   "source": [
    "#1 hr hrrr:\n",
    "with open('hrrr_f12_Newton_MS.txt') as f:\n",
    "    lst=[line.split()[4] for line in f]\n",
    "    temp=[]\n",
    "    for i in lst:\n",
    "        new=i.replace(',',\"\")\n",
    "        temp.append(new)\n",
    "    temp.pop(0)\n",
    "    temp=[float(x) for x in temp]\n",
    "    temp=temp[2202:2227]\n",
    "    #temp=temp[2015:2063]\n",
    "    print(temp)\n",
    "    #print(len(temp))\n",
    "#full time period is [2015:2112]"
   ]
  },
  {
   "cell_type": "code",
   "execution_count": 126,
   "id": "17e49fc9",
   "metadata": {},
   "outputs": [
    {
     "name": "stdout",
     "output_type": "stream",
     "text": [
      "[7.55, 7.1, 6.5, 6.2, 5.55, 5.2, 5.35, 11.899999999999999, 19.85, 24.9, 28.450000000000003, 31.4, 32.15, 31.700000000000003, 31.15, 30.5, 28.1, 23.65, 18.1, 13.1, 11.350000000000001, 10.05, 9.25, 8.25, 7.45]\n"
     ]
    }
   ],
   "source": [
    "#Air Temp CRN:\n",
    "with open('CRNS0101-05-2022-MS_Newton_5_ENE.txt') as f:\n",
    "    lst=[line.split()[12] for line in f]\n",
    "    \n",
    "    a=(float(lst[26567])+float(lst[26568]))/2\n",
    "    b=(float(lst[26579])+float(lst[26580]))/2\n",
    "    c=(float(lst[26591])+float(lst[26592]))/2\n",
    "    d=(float(lst[26603])+float(lst[26604]))/2\n",
    "    e=(float(lst[26615])+float(lst[26616]))/2\n",
    "    f=(float(lst[26627])+float(lst[26628]))/2\n",
    "    g=(float(lst[26639])+float(lst[26640]))/2\n",
    "    h=(float(lst[26651])+float(lst[26652]))/2\n",
    "    i=(float(lst[26663])+float(lst[26664]))/2\n",
    "    j=(float(lst[26675])+float(lst[26676]))/2\n",
    "    k=(float(lst[26687])+float(lst[26688]))/2\n",
    "    l=(float(lst[26699])+float(lst[26700]))/2\n",
    "    m=(float(lst[26711])+float(lst[26712]))/2\n",
    "    n=(float(lst[26723])+float(lst[26724]))/2\n",
    "    o=(float(lst[26735])+float(lst[26736]))/2\n",
    "    p=(float(lst[26747])+float(lst[26748]))/2\n",
    "    q=(float(lst[26759])+float(lst[26760]))/2\n",
    "    r=(float(lst[26773])+float(lst[26774]))/2\n",
    "    s=(float(lst[26783])+float(lst[26784]))/2\n",
    "    t=(float(lst[26795])+float(lst[26796]))/2\n",
    "    u=(float(lst[26807])+float(lst[26808]))/2\n",
    "    v=(float(lst[26819])+float(lst[26820]))/2\n",
    "    w=(float(lst[26831])+float(lst[26832]))/2\n",
    "    x=(float(lst[26843])+float(lst[26844]))/2\n",
    "    y=(float(lst[26855])+float(lst[26856]))/2\n",
    "    \n",
    "    temp_crn=[a,b,c,d,e,f,g,h,i,j,k,l,m,n,o,p,q,r,s,t,u,v,w,x,y]\n",
    "    print(temp_crn)"
   ]
  },
  {
   "cell_type": "code",
   "execution_count": 127,
   "id": "895bb872",
   "metadata": {},
   "outputs": [
    {
     "name": "stdout",
     "output_type": "stream",
     "text": [
      "[5.1499999999999995, 4.52, 4.49, 4.329999999999999, 3.9900100000000007, 3.919999999999999, 3.460000000000001, 1.070000000000002, -0.5700000000000003, -0.7299999999999969, -0.8900000000000041, -2.0299999999999976, -1.129999999999999, -0.3100000000000023, -0.07000000000000028, -0.5399999999999991, -0.240000000000002, 1.0400000000000027, 3.0599999999999987, 5.35, 5.41, 5.529999999999999, 5.119999999999999, 4.99, 5.3500000000000005]\n"
     ]
    }
   ],
   "source": [
    "difference4_new = []\n",
    "\n",
    "zip_object = zip(temp, temp_crn)\n",
    "for temp_i, temp_crn_i in zip_object:\n",
    "    difference4_new.append(temp_i-temp_crn_i)\n",
    "\n",
    "print(difference4_new)"
   ]
  },
  {
   "cell_type": "markdown",
   "id": "9e553db4",
   "metadata": {},
   "source": [
    "<font size=\"3\">Gainesville, AL: 0600 UTC (12:00 am CST) 01 March 2022-0600 UTC (12:00 am CST) 02 March 2022</font>"
   ]
  },
  {
   "cell_type": "code",
   "execution_count": 128,
   "id": "34bf4646",
   "metadata": {},
   "outputs": [],
   "source": [
    "# #1 hr hrrr:\n",
    "# with open('hrrr_f12_Gainesville_AL.txt') as f:\n",
    "#     lst=[line.split()[4] for line in f]\n",
    "#     temp=[]\n",
    "#     for i in lst:\n",
    "#         new=i.replace(',',\"\")\n",
    "#         temp.append(new)\n",
    "#     temp.pop(0)\n",
    "#     temp=[float(x) for x in temp]\n",
    "#     temp=temp[2202:2227]\n",
    "#     #temp=temp[2015:2063]\n",
    "#     print(temp)\n",
    "#     #print(len(temp))\n",
    "# #full time period is [2015:2112]"
   ]
  },
  {
   "cell_type": "code",
   "execution_count": 129,
   "id": "67168607",
   "metadata": {},
   "outputs": [],
   "source": [
    "# #Air Temp CRN:\n",
    "# with open('CRNH0203-2022-AL_Gainesville_2_NE.txt') as f:\n",
    "#     lst=[line.split()[13] for line in f]\n",
    "#     #prfloat(lst)\n",
    "#     temp_crn=[]\n",
    "#     for i in lst:\n",
    "#         new=i.replace(',',\"\")\n",
    "#         temp_crn.append(new)\n",
    "#     temp_crn=[float(x) for x in temp_crn]\n",
    "#     temp_crn=temp_crn[2213:2238]\n",
    "#     print(temp_crn)\n",
    "#     #print(len(temp_crn))\n",
    "#     # print(temp_crn[2124])"
   ]
  },
  {
   "cell_type": "code",
   "execution_count": 130,
   "id": "4baf3368",
   "metadata": {},
   "outputs": [],
   "source": [
    "# difference4_gai = []\n",
    "\n",
    "# zip_object = zip(temp, temp_crn)\n",
    "# for temp_i, temp_crn_i in zip_object:\n",
    "#     difference4_gai.append(temp_i-temp_crn_i)\n",
    "\n",
    "# print(difference4_gai)"
   ]
  },
  {
   "cell_type": "markdown",
   "id": "7dcabe11",
   "metadata": {},
   "source": [
    "<font size=\"3\">Fairhope, AL: 0600 UTC (12:00 am CST) 01 March 2022-0600 UTC (12:00 am CST) 02 March 2022</font>"
   ]
  },
  {
   "cell_type": "code",
   "execution_count": 131,
   "id": "66bf707b",
   "metadata": {},
   "outputs": [
    {
     "name": "stdout",
     "output_type": "stream",
     "text": [
      "[11.8, 11.09, 10.99, 10.69, 10.4, 10.39, 9.99002, 13.71, 19.25, 23.3, 26.94, 29.08, 30.87, 31.59, 31.47, 30.57, 28.45, 25.32, 21.8, 19.35, 17.38, 16.15, 15.22, 15.02, 14.07]\n"
     ]
    }
   ],
   "source": [
    "#1 hr hrrr:\n",
    "with open('hrrr_f12_Fairhope_AL.txt') as f:\n",
    "    lst=[line.split()[4] for line in f]\n",
    "    temp=[]\n",
    "    for i in lst:\n",
    "        new=i.replace(',',\"\")\n",
    "        temp.append(new)\n",
    "    temp.pop(0)\n",
    "    temp=[float(x) for x in temp]\n",
    "    temp=temp[2202:2227]\n",
    "    #temp=temp[2015:2063]\n",
    "    print(temp)\n",
    "    #print(len(temp))\n",
    "#full time period is [2015:2112]"
   ]
  },
  {
   "cell_type": "code",
   "execution_count": 132,
   "id": "e6d98c95",
   "metadata": {},
   "outputs": [
    {
     "name": "stdout",
     "output_type": "stream",
     "text": [
      "[5.5, 5.05, 5.25, 4.7, 4.5, 4.5, 5.949999999999999, 14.25, 20.8, 26.15, 30.3, 33.05, 32.05, 32.6, 30.9, 27.7, 25.3, 20.3, 14.65, 10.100000000000001, 9.8, 9.350000000000001, 8.25, 8.05, 7.7]\n"
     ]
    }
   ],
   "source": [
    "#Air Temp CRN:\n",
    "with open('CRNS0101-05-2022-AL_Fairhope_3_NE.txt') as f:\n",
    "    lst=[line.split()[12] for line in f]\n",
    "    \n",
    "    a=(float(lst[26567])+float(lst[26568]))/2\n",
    "    b=(float(lst[26579])+float(lst[26580]))/2\n",
    "    c=(float(lst[26591])+float(lst[26592]))/2\n",
    "    d=(float(lst[26603])+float(lst[26604]))/2\n",
    "    e=(float(lst[26615])+float(lst[26616]))/2\n",
    "    f=(float(lst[26627])+float(lst[26628]))/2\n",
    "    g=(float(lst[26639])+float(lst[26640]))/2\n",
    "    h=(float(lst[26651])+float(lst[26652]))/2\n",
    "    i=(float(lst[26663])+float(lst[26664]))/2\n",
    "    j=(float(lst[26675])+float(lst[26676]))/2\n",
    "    k=(float(lst[26687])+float(lst[26688]))/2\n",
    "    l=(float(lst[26699])+float(lst[26700]))/2\n",
    "    m=(float(lst[26711])+float(lst[26712]))/2\n",
    "    n=(float(lst[26723])+float(lst[26724]))/2\n",
    "    o=(float(lst[26735])+float(lst[26736]))/2\n",
    "    p=(float(lst[26747])+float(lst[26748]))/2\n",
    "    q=(float(lst[26759])+float(lst[26760]))/2\n",
    "    r=(float(lst[26773])+float(lst[26774]))/2\n",
    "    s=(float(lst[26783])+float(lst[26784]))/2\n",
    "    t=(float(lst[26795])+float(lst[26796]))/2\n",
    "    u=(float(lst[26807])+float(lst[26808]))/2\n",
    "    v=(float(lst[26819])+float(lst[26820]))/2\n",
    "    w=(float(lst[26831])+float(lst[26832]))/2\n",
    "    x=(float(lst[26843])+float(lst[26844]))/2\n",
    "    y=(float(lst[26855])+float(lst[26856]))/2\n",
    "    \n",
    "    temp_crn=[a,b,c,d,e,f,g,h,i,j,k,l,m,n,o,p,q,r,s,t,u,v,w,x,y]\n",
    "    print(temp_crn)"
   ]
  },
  {
   "cell_type": "code",
   "execution_count": 133,
   "id": "320724ae",
   "metadata": {},
   "outputs": [
    {
     "name": "stdout",
     "output_type": "stream",
     "text": [
      "[6.300000000000001, 6.04, 5.74, 5.989999999999999, 5.9, 5.890000000000001, 4.04002, -0.5399999999999991, -1.5500000000000007, -2.849999999999998, -3.3599999999999994, -3.969999999999999, -1.1799999999999962, -1.0100000000000016, 0.5700000000000003, 2.870000000000001, 3.1499999999999986, 5.02, 7.15, 9.25, 7.579999999999998, 6.799999999999997, 6.970000000000001, 6.969999999999999, 6.37]\n"
     ]
    }
   ],
   "source": [
    "difference4_fai = []\n",
    "\n",
    "zip_object = zip(temp, temp_crn)\n",
    "for temp_i, temp_crn_i in zip_object:\n",
    "    difference4_fai.append(temp_i-temp_crn_i)\n",
    "\n",
    "print(difference4_fai)"
   ]
  },
  {
   "cell_type": "markdown",
   "id": "057898bf",
   "metadata": {},
   "source": [
    "<font size=\"3\">**Selma, AL: 0600 UTC (12:00 am CST) 01 March 2022-0600 UTC (12:00 am CST) 02 March 2022</font>"
   ]
  },
  {
   "cell_type": "code",
   "execution_count": 134,
   "id": "dd6c27fb",
   "metadata": {},
   "outputs": [
    {
     "name": "stdout",
     "output_type": "stream",
     "text": [
      "[10.01, 9.45999, 8.94, 8.62, 7.79001, 7.42001, 7.30002, 11.12, 15.8, 19.18, 21.5, 22.58, 24.11, 25.45, 26.12, 25.76, 24.2, 21.57, 17.96, 15.27, 13.92, 13.04, 11.69, 10.89, 10.06]\n"
     ]
    }
   ],
   "source": [
    "#1 hr hrrr:\n",
    "import numpy as np\n",
    "import numpy.ma as ma\n",
    "with open('hrrr_f12_Selma_AL.txt') as f:\n",
    "    lst=[line.split()[4] for line in f]\n",
    "    temp=[]\n",
    "    for i in lst:\n",
    "        new=i.replace(',',\"\")\n",
    "        temp.append(new)\n",
    "    temp.pop(0)\n",
    "    temp=[float(x) for x in temp]\n",
    "    temp=temp[2202:2227]\n",
    "    print(temp)\n"
   ]
  },
  {
   "cell_type": "code",
   "execution_count": 135,
   "id": "b91246e9",
   "metadata": {},
   "outputs": [
    {
     "name": "stdout",
     "output_type": "stream",
     "text": [
      "[8.75, 8.1, 7.45, 7.05, 6.65, 5.85, 6.85, 14.3, 19.9, 24.35, 29.049999999999997, 31.05, 32.8, 33.099999999999994, 32.65, 31.200000000000003, 27.4, 22.3, 17.85, 13.85, 11.95, 10.8, 9.6, 8.6, 7.7]\n"
     ]
    }
   ],
   "source": [
    "#Air Temp CRN:\n",
    "with open('CRNS0101-05-2022-AL_Selma_13_WNW.txt') as f:\n",
    "    lst=[line.split()[12] for line in f]\n",
    "    \n",
    "    a=(float(lst[26567])+float(lst[26568]))/2\n",
    "    b=(float(lst[26579])+float(lst[26580]))/2\n",
    "    c=(float(lst[26591])+float(lst[26592]))/2\n",
    "    d=(float(lst[26603])+float(lst[26604]))/2\n",
    "    e=(float(lst[26615])+float(lst[26616]))/2\n",
    "    f=(float(lst[26627])+float(lst[26628]))/2\n",
    "    g=(float(lst[26639])+float(lst[26640]))/2\n",
    "    h=(float(lst[26651])+float(lst[26652]))/2\n",
    "    i=(float(lst[26663])+float(lst[26664]))/2\n",
    "    j=(float(lst[26675])+float(lst[26676]))/2\n",
    "    k=(float(lst[26687])+float(lst[26688]))/2\n",
    "    l=(float(lst[26699])+float(lst[26700]))/2\n",
    "    m=(float(lst[26711])+float(lst[26712]))/2\n",
    "    n=(float(lst[26723])+float(lst[26724]))/2\n",
    "    o=(float(lst[26735])+float(lst[26736]))/2\n",
    "    p=(float(lst[26747])+float(lst[26748]))/2\n",
    "    q=(float(lst[26759])+float(lst[26760]))/2\n",
    "    r=(float(lst[26773])+float(lst[26774]))/2\n",
    "    s=(float(lst[26783])+float(lst[26784]))/2\n",
    "    t=(float(lst[26795])+float(lst[26796]))/2\n",
    "    u=(float(lst[26807])+float(lst[26808]))/2\n",
    "    v=(float(lst[26819])+float(lst[26820]))/2\n",
    "    w=(float(lst[26831])+float(lst[26832]))/2\n",
    "    x=(float(lst[26843])+float(lst[26844]))/2\n",
    "    y=(float(lst[26855])+float(lst[26856]))/2\n",
    "    \n",
    "    temp_crn=[a,b,c,d,e,f,g,h,i,j,k,l,m,n,o,p,q,r,s,t,u,v,w,x,y]\n",
    "    print(temp_crn)"
   ]
  },
  {
   "cell_type": "code",
   "execution_count": 136,
   "id": "38eaf77e",
   "metadata": {},
   "outputs": [
    {
     "name": "stdout",
     "output_type": "stream",
     "text": [
      "[1.2599999999999998, 1.3599899999999998, 1.4899999999999993, 1.5699999999999994, 1.1400099999999993, 1.5700100000000008, 0.4500200000000003, -3.1800000000000015, -4.099999999999998, -5.170000000000002, -7.549999999999997, -8.470000000000002, -8.689999999999998, -7.649999999999995, -6.529999999999998, -5.440000000000001, -3.1999999999999993, -0.7300000000000004, 0.10999999999999943, 1.42, 1.9700000000000006, 2.2399999999999984, 2.09, 2.290000000000001, 2.3600000000000003]\n"
     ]
    }
   ],
   "source": [
    "difference4_sel = []\n",
    "\n",
    "zip_object = zip(temp, temp_crn)\n",
    "for temp_i, temp_crn_i in zip_object:\n",
    "    difference4_sel.append(temp_i-temp_crn_i)\n",
    "\n",
    "print(difference4_sel)\n",
    "#print(len(difference3_sel))"
   ]
  },
  {
   "cell_type": "markdown",
   "id": "cb37cdb6",
   "metadata": {},
   "source": [
    "<font size=\"3\">Bowling Green, KY: 0600 UTC (12:00 am CST) 01 March 2022-0600 UTC (12:00 am CST) 02 March 2022</font>"
   ]
  },
  {
   "cell_type": "code",
   "execution_count": 137,
   "id": "14e1ecd0",
   "metadata": {},
   "outputs": [
    {
     "name": "stdout",
     "output_type": "stream",
     "text": [
      "[4.82001, 3.61002, 3.20001, 2.36002, 2.60001, 1.04001, 0.550018, 5.12, 9.52002, 13.53, 17.56, 20.62, 22.31, 22.9, 22.69, 21.49, 19.19, 16.26, 12.38, 9.76001, 8.01001, 7.03, 6.39999, 6.24002, 6.44]\n"
     ]
    }
   ],
   "source": [
    "#1 hr hrrr:\n",
    "with open('hrrr_f12_Bowling Green_KY.txt') as f:\n",
    "    lst=[line.split()[4] for line in f]\n",
    "    temp=[]\n",
    "    for i in lst:\n",
    "        new=i.replace(',',\"\")\n",
    "        temp.append(new)\n",
    "    temp.pop(0)\n",
    "    temp=[float(x) for x in temp]\n",
    "    temp=temp[2202:2227]\n",
    "    #temp=temp[2015:2063]\n",
    "    print(temp)\n",
    "    #print(len(temp))\n",
    "#full time period is [2015:2112]"
   ]
  },
  {
   "cell_type": "code",
   "execution_count": 138,
   "id": "80d9d555",
   "metadata": {},
   "outputs": [
    {
     "name": "stdout",
     "output_type": "stream",
     "text": [
      "[0.55, -0.45, -0.65, -1.65, -2.2, -2.55, -1.2, 7.75, 13.05, 17.95, 21.95, 25.0, 26.049999999999997, 26.5, 24.950000000000003, 22.85, 17.75, 11.55, 5.8, 3.9, 2.95, 4.699999999999999, 3.65, 3.1, 5.45]\n"
     ]
    }
   ],
   "source": [
    "#Air Temp CRN:\n",
    "with open('CRNS0101-05-2022-KY_Bowling_Green_21_NNE.txt') as f:\n",
    "    lst=[line.split()[12] for line in f]\n",
    "    \n",
    "    a=(float(lst[26567])+float(lst[26568]))/2\n",
    "    b=(float(lst[26579])+float(lst[26580]))/2\n",
    "    c=(float(lst[26591])+float(lst[26592]))/2\n",
    "    d=(float(lst[26603])+float(lst[26604]))/2\n",
    "    e=(float(lst[26615])+float(lst[26616]))/2\n",
    "    f=(float(lst[26627])+float(lst[26628]))/2\n",
    "    g=(float(lst[26639])+float(lst[26640]))/2\n",
    "    h=(float(lst[26651])+float(lst[26652]))/2\n",
    "    i=(float(lst[26663])+float(lst[26664]))/2\n",
    "    j=(float(lst[26675])+float(lst[26676]))/2\n",
    "    k=(float(lst[26687])+float(lst[26688]))/2\n",
    "    l=(float(lst[26699])+float(lst[26700]))/2\n",
    "    m=(float(lst[26711])+float(lst[26712]))/2\n",
    "    n=(float(lst[26723])+float(lst[26724]))/2\n",
    "    o=(float(lst[26735])+float(lst[26736]))/2\n",
    "    p=(float(lst[26747])+float(lst[26748]))/2\n",
    "    q=(float(lst[26759])+float(lst[26760]))/2\n",
    "    r=(float(lst[26773])+float(lst[26774]))/2\n",
    "    s=(float(lst[26783])+float(lst[26784]))/2\n",
    "    t=(float(lst[26795])+float(lst[26796]))/2\n",
    "    u=(float(lst[26807])+float(lst[26808]))/2\n",
    "    v=(float(lst[26819])+float(lst[26820]))/2\n",
    "    w=(float(lst[26831])+float(lst[26832]))/2\n",
    "    x=(float(lst[26843])+float(lst[26844]))/2\n",
    "    y=(float(lst[26855])+float(lst[26856]))/2\n",
    "    \n",
    "    temp_crn=[a,b,c,d,e,f,g,h,i,j,k,l,m,n,o,p,q,r,s,t,u,v,w,x,y]\n",
    "    print(temp_crn)"
   ]
  },
  {
   "cell_type": "code",
   "execution_count": 139,
   "id": "cbe21805",
   "metadata": {},
   "outputs": [
    {
     "name": "stdout",
     "output_type": "stream",
     "text": [
      "[4.27001, 4.06002, 3.8500099999999997, 4.01002, 4.80001, 3.59001, 1.7500179999999999, -2.63, -3.52998, -4.42, -4.390000000000001, -4.379999999999999, -3.7399999999999984, -3.6000000000000014, -2.2600000000000016, -1.360000000000003, 1.4400000000000013, 4.710000000000001, 6.580000000000001, 5.860009999999999, 5.060009999999999, 2.330000000000001, 2.74999, 3.1400200000000003, 0.9900000000000002]\n"
     ]
    }
   ],
   "source": [
    "difference4_bow = []\n",
    "\n",
    "zip_object = zip(temp, temp_crn)\n",
    "for temp_i, temp_crn_i in zip_object:\n",
    "    difference4_bow.append(temp_i-temp_crn_i)\n",
    "\n",
    "print(difference4_bow)"
   ]
  },
  {
   "cell_type": "markdown",
   "id": "b962f206",
   "metadata": {},
   "source": [
    "<font size=\"3\">Gadsden, AL: 0600 UTC (12:00 am CST) 01 March 2022-0600 UTC (12:00 am CST) 02 March 2022</font>"
   ]
  },
  {
   "cell_type": "code",
   "execution_count": 140,
   "id": "e76025fd",
   "metadata": {},
   "outputs": [
    {
     "name": "stdout",
     "output_type": "stream",
     "text": [
      "[9.83002, 9.0, 8.89001, 8.38, 8.11002, 8.05002, 7.59, 10.59, 13.65, 17.23, 19.51, 21.31, 22.72, 23.21, 22.98, 21.85, 19.95, 17.06, 13.66, 11.8, 10.83, 9.92999, 8.88, 7.48001, 6.64999]\n"
     ]
    }
   ],
   "source": [
    "#1 hr hrrr:\n",
    "with open('hrrr_f12_Gadsden_AL.txt') as f:\n",
    "    lst=[line.split()[4] for line in f]\n",
    "    temp=[]\n",
    "    for i in lst:\n",
    "        new=i.replace(',',\"\")\n",
    "        temp.append(new)\n",
    "    temp.pop(0)\n",
    "    temp=[float(x) for x in temp]\n",
    "    temp=temp[2202:2227]\n",
    "#     x = np.array(temp)\n",
    "#     temp = ma.masked_array(x, mask=[0, 0, 0, 0, 0,0,0,0,1,0,0,0,0,0,0,0,0,0,0,0,0,0,0,0,0])\n",
    "    #temp=temp[2015:2063]\n",
    "    print(temp)\n",
    "    #print(len(temp))\n",
    "#full time period is [2015:2112]"
   ]
  },
  {
   "cell_type": "code",
   "execution_count": 141,
   "id": "94193a19",
   "metadata": {},
   "outputs": [
    {
     "name": "stdout",
     "output_type": "stream",
     "text": [
      "[4.95, 4.65, 4.4, 3.75, 5.7, 5.25, 6.5, 10.850000000000001, 13.649999999999999, 18.15, 20.55, 22.75, 24.05, 24.3, 24.3, 21.05, 19.25, 14.8, 10.15, 8.3, 7.25, 6.15, 4.8, 4.15, 4.8]\n"
     ]
    }
   ],
   "source": [
    "#Air Temp CRN:\n",
    "with open('CRNS0101-05-2022-AL_Gadsden_19_N.txt') as f:\n",
    "    lst=[line.split()[12] for line in f]\n",
    "    \n",
    "    a=(float(lst[26567])+float(lst[26568]))/2\n",
    "    b=(float(lst[26579])+float(lst[26580]))/2\n",
    "    c=(float(lst[26591])+float(lst[26592]))/2\n",
    "    d=(float(lst[26603])+float(lst[26604]))/2\n",
    "    e=(float(lst[26615])+float(lst[26616]))/2\n",
    "    f=(float(lst[26627])+float(lst[26628]))/2\n",
    "    g=(float(lst[26639])+float(lst[26640]))/2\n",
    "    h=(float(lst[26651])+float(lst[26652]))/2\n",
    "    i=(float(lst[26663])+float(lst[26664]))/2\n",
    "    j=(float(lst[26675])+float(lst[26676]))/2\n",
    "    k=(float(lst[26687])+float(lst[26688]))/2\n",
    "    l=(float(lst[26699])+float(lst[26700]))/2\n",
    "    m=(float(lst[26711])+float(lst[26712]))/2\n",
    "    n=(float(lst[26723])+float(lst[26724]))/2\n",
    "    o=(float(lst[26735])+float(lst[26736]))/2\n",
    "    p=(float(lst[26747])+float(lst[26748]))/2\n",
    "    q=(float(lst[26759])+float(lst[26760]))/2\n",
    "    r=(float(lst[26773])+float(lst[26774]))/2\n",
    "    s=(float(lst[26783])+float(lst[26784]))/2\n",
    "    t=(float(lst[26795])+float(lst[26796]))/2\n",
    "    u=(float(lst[26807])+float(lst[26808]))/2\n",
    "    v=(float(lst[26819])+float(lst[26820]))/2\n",
    "    w=(float(lst[26831])+float(lst[26832]))/2\n",
    "    x=(float(lst[26843])+float(lst[26844]))/2\n",
    "    y=(float(lst[26855])+float(lst[26856]))/2\n",
    "    \n",
    "    temp_crn=[a,b,c,d,e,f,g,h,i,j,k,l,m,n,o,p,q,r,s,t,u,v,w,x,y]\n",
    "    print(temp_crn)"
   ]
  },
  {
   "cell_type": "code",
   "execution_count": 142,
   "id": "fd78be39",
   "metadata": {},
   "outputs": [
    {
     "name": "stdout",
     "output_type": "stream",
     "text": [
      "[4.880019999999999, 4.35, 4.49001, 4.630000000000001, 2.4100200000000003, 2.80002, 1.0899999999999999, -0.26000000000000156, 1.7763568394002505e-15, -0.9199999999999982, -1.0399999999999991, -1.4400000000000013, -1.3300000000000018, -1.0899999999999999, -1.3200000000000003, 0.8000000000000007, 0.6999999999999993, 2.259999999999998, 3.51, 3.5, 3.58, 3.7799899999999997, 4.080000000000001, 3.3300099999999997, 1.84999]\n"
     ]
    }
   ],
   "source": [
    "difference4_gad = []\n",
    "\n",
    "zip_object = zip(temp, temp_crn)\n",
    "for temp_i, temp_crn_i in zip_object:\n",
    "    difference4_gad.append(temp_i-temp_crn_i)\n",
    "\n",
    "print(difference4_gad)"
   ]
  },
  {
   "cell_type": "markdown",
   "id": "de9fab15",
   "metadata": {},
   "source": [
    "<font size=\"3\">Newton, GA: 0600 UTC (12:00 am CST) 01 March 2022-0600 UTC (12:00 am CST) 02 March 2022</font>"
   ]
  },
  {
   "cell_type": "code",
   "execution_count": 143,
   "id": "ee45f74b",
   "metadata": {},
   "outputs": [
    {
     "name": "stdout",
     "output_type": "stream",
     "text": [
      "[10.94, 10.26, 9.41, 8.73001, 8.11002, 7.87, 8.31, 12.75, 17.41, 21.71, 25.28, 27.72, 29.21, 29.94, 29.6, 28.65, 26.54, 23.74, 19.7, 17.0, 15.77, 14.41, 13.72, 13.04, 12.23]\n"
     ]
    }
   ],
   "source": [
    "#1 hr hrrr:\n",
    "with open('hrrr_f12_Newton_GA.txt') as f:\n",
    "    lst=[line.split()[4] for line in f]\n",
    "    temp=[]\n",
    "    for i in lst:\n",
    "        new=i.replace(',',\"\")\n",
    "        temp.append(new)\n",
    "    temp.pop(0)\n",
    "    temp=[float(x) for x in temp]\n",
    "    temp=temp[2202:2227]\n",
    "    #temp=temp[2015:2063]\n",
    "    print(temp)\n",
    "    #print(len(temp))\n",
    "#full time period is [2015:2112]"
   ]
  },
  {
   "cell_type": "code",
   "execution_count": 144,
   "id": "79e42b34",
   "metadata": {},
   "outputs": [
    {
     "name": "stdout",
     "output_type": "stream",
     "text": [
      "[9.5, 9.1, 8.7, 8.5, 8.25, 7.9, 9.7, 14.3, 18.25, 23.6, 26.85, 29.45, 31.85, 31.9, 30.6, 28.6, 26.049999999999997, 20.9, 16.05, 13.8, 12.8, 11.95, 11.2, 10.6, 10.1]\n"
     ]
    }
   ],
   "source": [
    "#Air Temp CRN:\n",
    "with open('CRNS0101-05-2022-GA_Newton_11_SW.txt') as f:\n",
    "    lst=[line.split()[12] for line in f]\n",
    "    \n",
    "    a=(float(lst[26567])+float(lst[26568]))/2\n",
    "    b=(float(lst[26579])+float(lst[26580]))/2\n",
    "    c=(float(lst[26591])+float(lst[26592]))/2\n",
    "    d=(float(lst[26603])+float(lst[26604]))/2\n",
    "    e=(float(lst[26615])+float(lst[26616]))/2\n",
    "    f=(float(lst[26627])+float(lst[26628]))/2\n",
    "    g=(float(lst[26639])+float(lst[26640]))/2\n",
    "    h=(float(lst[26651])+float(lst[26652]))/2\n",
    "    i=(float(lst[26663])+float(lst[26664]))/2\n",
    "    j=(float(lst[26675])+float(lst[26676]))/2\n",
    "    k=(float(lst[26687])+float(lst[26688]))/2\n",
    "    l=(float(lst[26699])+float(lst[26700]))/2\n",
    "    m=(float(lst[26711])+float(lst[26712]))/2\n",
    "    n=(float(lst[26723])+float(lst[26724]))/2\n",
    "    o=(float(lst[26735])+float(lst[26736]))/2\n",
    "    p=(float(lst[26747])+float(lst[26748]))/2\n",
    "    q=(float(lst[26759])+float(lst[26760]))/2\n",
    "    r=(float(lst[26773])+float(lst[26774]))/2\n",
    "    s=(float(lst[26783])+float(lst[26784]))/2\n",
    "    t=(float(lst[26795])+float(lst[26796]))/2\n",
    "    u=(float(lst[26807])+float(lst[26808]))/2\n",
    "    v=(float(lst[26819])+float(lst[26820]))/2\n",
    "    w=(float(lst[26831])+float(lst[26832]))/2\n",
    "    x=(float(lst[26843])+float(lst[26844]))/2\n",
    "    y=(float(lst[26855])+float(lst[26856]))/2\n",
    "    \n",
    "    temp_crn=[a,b,c,d,e,f,g,h,i,j,k,l,m,n,o,p,q,r,s,t,u,v,w,x,y]\n",
    "    print(temp_crn)"
   ]
  },
  {
   "cell_type": "code",
   "execution_count": 145,
   "id": "23233b5a",
   "metadata": {},
   "outputs": [
    {
     "name": "stdout",
     "output_type": "stream",
     "text": [
      "[1.4399999999999995, 1.1600000000000001, 0.7100000000000009, 0.23001000000000005, -0.13997999999999955, -0.03000000000000025, -1.3899999999999988, -1.5500000000000007, -0.8399999999999999, -1.8900000000000006, -1.5700000000000003, -1.7300000000000004, -2.6400000000000006, -1.9599999999999973, -1.0, 0.04999999999999716, 0.490000000000002, 2.84, 3.6499999999999986, 3.1999999999999993, 2.969999999999999, 2.460000000000001, 2.5200000000000014, 2.4399999999999995, 2.130000000000001]\n"
     ]
    }
   ],
   "source": [
    "difference4_newt = []\n",
    "\n",
    "zip_object = zip(temp, temp_crn)\n",
    "for temp_i, temp_crn_i in zip_object:\n",
    "    difference4_newt.append(temp_i-temp_crn_i)\n",
    "\n",
    "print(difference4_newt)"
   ]
  },
  {
   "cell_type": "markdown",
   "id": "ab4663ab",
   "metadata": {},
   "source": [
    "<font size=\"3\">Salem, MO: 0500 UTC (12:00 am CDT) 19 April 2022-0500 UTC (12:00 am CDT) 20 April 2022</font>"
   ]
  },
  {
   "cell_type": "code",
   "execution_count": 146,
   "id": "3fe4d4d8",
   "metadata": {},
   "outputs": [
    {
     "name": "stdout",
     "output_type": "stream",
     "text": [
      "[0.580017, -0.0700073, -0.369995, -0.369995, -0.399994, -0.440002, -0.269989, 2.70001, 6.42999, 9.56, 12.3, 14.59, 16.35, 17.43, 17.9, 17.6, 15.56, 12.86, 11.26, 9.80002, 8.84, 7.74002, 7.48001, 6.70001, 6.62]\n",
      "25\n"
     ]
    }
   ],
   "source": [
    "#1 hr hrrr:\n",
    "with open('hrrr_f12_Salem_MO.txt') as f:\n",
    "    lst=[line.split()[4] for line in f]\n",
    "    temp=[]\n",
    "    for i in lst:\n",
    "        new=i.replace(',',\"\")\n",
    "        temp.append(new)\n",
    "    temp.pop(0)\n",
    "    temp=[float(x) for x in temp]\n",
    "    temp=temp[2586:2611]\n",
    "    #temp=temp[2015:2063]\n",
    "    print(temp)\n",
    "    print(len(temp))\n",
    "#full time period is [2015:2112]"
   ]
  },
  {
   "cell_type": "code",
   "execution_count": 147,
   "id": "739015b3",
   "metadata": {},
   "outputs": [
    {
     "name": "stdout",
     "output_type": "stream",
     "text": [
      "[-3.2, -2.8, -2.7, -4.449999999999999, -5.25, -5.7, -3.15, 4.800000000000001, 10.95, 18.9, 24.15, 26.55, 31.6, 31.05, 29.85, 26.4, 22.549999999999997, 16.35, 11.9, 8.850000000000001, 7.95, 9.3, 8.0, 7.949999999999999, 6.199999999999999]\n"
     ]
    }
   ],
   "source": [
    "#Air Temp CRN:\n",
    "with open('CRNS0101-05-2022-MO_Salem_10_W.txt') as f:\n",
    "    lst=[line.split()[12] for line in f]\n",
    "    \n",
    "    a=(float(lst[31175])+float(lst[31176]))/2\n",
    "    b=(float(lst[31187])+float(lst[31188]))/2\n",
    "    c=(float(lst[31199])+float(lst[31200]))/2\n",
    "    d=(float(lst[31211])+float(lst[31212]))/2\n",
    "    e=(float(lst[31223])+float(lst[31224]))/2\n",
    "    f=(float(lst[31235])+float(lst[31236]))/2\n",
    "    g=(float(lst[31247])+float(lst[31248]))/2\n",
    "    h=(float(lst[31259])+float(lst[31260]))/2\n",
    "    i=(float(lst[31271])+float(lst[31272]))/2\n",
    "    j=(float(lst[31283])+float(lst[31284]))/2\n",
    "    k=(float(lst[31295])+float(lst[31296]))/2\n",
    "    l=(float(lst[31307])+float(lst[31308]))/2\n",
    "    m=(float(lst[31319])+float(lst[31320]))/2\n",
    "    n=(float(lst[31331])+float(lst[31332]))/2\n",
    "    o=(float(lst[31343])+float(lst[31344]))/2\n",
    "    p=(float(lst[31355])+float(lst[31356]))/2\n",
    "    q=(float(lst[31367])+float(lst[31368]))/2\n",
    "    r=(float(lst[31379])+float(lst[31380]))/2\n",
    "    s=(float(lst[31391])+float(lst[31392]))/2\n",
    "    t=(float(lst[31403])+float(lst[31404]))/2\n",
    "    u=(float(lst[31415])+float(lst[31416]))/2\n",
    "    v=(float(lst[31427])+float(lst[31428]))/2\n",
    "    w=(float(lst[31439])+float(lst[31440]))/2\n",
    "    x=(float(lst[31451])+float(lst[31452]))/2\n",
    "    y=(float(lst[31463])+float(lst[31464]))/2\n",
    "    \n",
    "    temp_crn=[a,b,c,d,e,f,g,h,i,j,k,l,m,n,o,p,q,r,s,t,u,v,w,x,y]\n",
    "    print(temp_crn)"
   ]
  },
  {
   "cell_type": "code",
   "execution_count": 148,
   "id": "631903a7",
   "metadata": {},
   "outputs": [
    {
     "name": "stdout",
     "output_type": "stream",
     "text": [
      "[3.780017, 2.7299927, 2.3300050000000003, 4.080004999999999, 4.850006, 5.259998, 2.880011, -2.099990000000001, -4.520009999999999, -9.339999999999998, -11.849999999999998, -11.96, -15.25, -13.620000000000001, -11.950000000000003, -8.799999999999997, -6.989999999999997, -3.490000000000002, -0.6400000000000006, 0.9500199999999985, 0.8899999999999997, -1.5599800000000004, -0.51999, -1.2499899999999995, 0.4200000000000008]\n"
     ]
    }
   ],
   "source": [
    "difference5_sal = []\n",
    "\n",
    "zip_object = zip(temp, temp_crn)\n",
    "for temp_i, temp_crn_i in zip_object:\n",
    "    difference5_sal.append(temp_i-temp_crn_i)\n",
    "\n",
    "print(difference5_sal)"
   ]
  },
  {
   "cell_type": "markdown",
   "id": "eb16f605",
   "metadata": {},
   "source": [
    "<font size=\"3\">Batesville, AR: 0600 UTC (12:00 am CST) 01 March 2022-0600 UTC (12:00 am CST) 02 March 2022</font>"
   ]
  },
  {
   "cell_type": "code",
   "execution_count": 149,
   "id": "5f6566a3",
   "metadata": {},
   "outputs": [
    {
     "name": "stdout",
     "output_type": "stream",
     "text": [
      "[4.22, 3.52002, 2.99002, 2.73001, 2.16, 1.62, 1.57001, 6.17001, 10.54, 14.16, 17.93, 20.58, 22.67, 23.45, 23.47, 22.51, 19.11, 18.03, 15.15, 12.8, 11.48, 9.95999, 8.76001, 8.36002, 7.14001]\n",
      "25\n"
     ]
    }
   ],
   "source": [
    "#1 hr hrrr:\n",
    "with open('hrrr_f12_Batesville_AR.txt') as f:\n",
    "    lst=[line.split()[4] for line in f]\n",
    "    temp=[]\n",
    "    for i in lst:\n",
    "        new=i.replace(',',\"\")\n",
    "        temp.append(new)\n",
    "    temp.pop(0)\n",
    "    temp=[float(x) for x in temp]\n",
    "    temp=temp[2586:2611]\n",
    "#     x = np.array(temp)\n",
    "#     temp = ma.masked_array(x, mask=[0, 0, 0, 0, 0,0,0,0,0,0,0,0,0,0,0,0,0,0,0,0,0,1,0,0,0])\n",
    "    #temp=temp[2015:2063]\n",
    "    print(temp)\n",
    "    print(len(temp))\n",
    "#full time period is [2015:2112]"
   ]
  },
  {
   "cell_type": "code",
   "execution_count": 150,
   "id": "9d4ec43c",
   "metadata": {},
   "outputs": [
    {
     "name": "stdout",
     "output_type": "stream",
     "text": [
      "[1.15, 0.0, -0.3, 0.4, -0.55, -0.95, 0.1, 5.75, 9.45, 14.649999999999999, 16.6, 19.1, 19.9, 19.65, 18.55, 16.6, 15.3, 12.850000000000001, 10.149999999999999, 7.25, 6.25, 4.45, 5.7, 5.800000000000001, 5.25]\n"
     ]
    }
   ],
   "source": [
    "#Air Temp CRN:\n",
    "with open('CRNS0101-05-2022-AR_Batesville_8_WNW.txt') as f:\n",
    "    lst=[line.split()[12] for line in f]\n",
    "    \n",
    "    a=(float(lst[31175])+float(lst[31176]))/2\n",
    "    b=(float(lst[31187])+float(lst[31188]))/2\n",
    "    c=(float(lst[31199])+float(lst[31200]))/2\n",
    "    d=(float(lst[31211])+float(lst[31212]))/2\n",
    "    e=(float(lst[31223])+float(lst[31224]))/2\n",
    "    f=(float(lst[31235])+float(lst[31236]))/2\n",
    "    g=(float(lst[31247])+float(lst[31248]))/2\n",
    "    h=(float(lst[31259])+float(lst[31260]))/2\n",
    "    i=(float(lst[31271])+float(lst[31272]))/2\n",
    "    j=(float(lst[31283])+float(lst[31284]))/2\n",
    "    k=(float(lst[31295])+float(lst[31296]))/2\n",
    "    l=(float(lst[31307])+float(lst[31308]))/2\n",
    "    m=(float(lst[31319])+float(lst[31320]))/2\n",
    "    n=(float(lst[31331])+float(lst[31332]))/2\n",
    "    o=(float(lst[31343])+float(lst[31344]))/2\n",
    "    p=(float(lst[31355])+float(lst[31356]))/2\n",
    "    q=(float(lst[31367])+float(lst[31368]))/2\n",
    "    r=(float(lst[31379])+float(lst[31380]))/2\n",
    "    s=(float(lst[31391])+float(lst[31392]))/2\n",
    "    t=(float(lst[31403])+float(lst[31404]))/2\n",
    "    u=(float(lst[31415])+float(lst[31416]))/2\n",
    "    v=(float(lst[31427])+float(lst[31428]))/2\n",
    "    w=(float(lst[31439])+float(lst[31440]))/2\n",
    "    x=(float(lst[31451])+float(lst[31452]))/2\n",
    "    y=(float(lst[31463])+float(lst[31464]))/2\n",
    "    \n",
    "    temp_crn=[a,b,c,d,e,f,g,h,i,j,k,l,m,n,o,p,q,r,s,t,u,v,w,x,y]\n",
    "    print(temp_crn)"
   ]
  },
  {
   "cell_type": "code",
   "execution_count": 151,
   "id": "32ec4102",
   "metadata": {},
   "outputs": [
    {
     "name": "stdout",
     "output_type": "stream",
     "text": [
      "[3.07, 3.52002, 3.2900199999999997, 2.33001, 2.71, 2.5700000000000003, 1.4700099999999998, 0.42001000000000044, 1.0899999999999999, -0.48999999999999844, 1.3299999999999983, 1.4799999999999969, 2.770000000000003, 3.8000000000000007, 4.919999999999998, 5.91, 3.8099999999999987, 5.18, 5.000000000000002, 5.550000000000001, 5.23, 5.509989999999999, 3.0600099999999992, 2.5600199999999997, 1.8900100000000002]\n"
     ]
    }
   ],
   "source": [
    "difference5_bat = []\n",
    "\n",
    "zip_object = zip(temp, temp_crn)\n",
    "for temp_i, temp_crn_i in zip_object:\n",
    "    difference5_bat.append(temp_i-temp_crn_i)\n",
    "\n",
    "print(difference5_bat)"
   ]
  },
  {
   "cell_type": "markdown",
   "id": "ab0f4798",
   "metadata": {},
   "source": [
    "<font size=\"3\">Lafayette, LA: 0600 UTC (12:00 am CST) 01 March 2022-0600 UTC (12:00 am CST) 02 March 2022</font>"
   ]
  },
  {
   "cell_type": "code",
   "execution_count": 152,
   "id": "bf4ca647",
   "metadata": {},
   "outputs": [
    {
     "name": "stdout",
     "output_type": "stream",
     "text": [
      "[12.76, 12.21, 11.88, 11.91, 12.18, 11.72, 12.05, 14.69, 18.96, 22.87, 26.39, 29.5, 31.45, 32.74, 32.73, 30.32, 29.1, 26.66, 23.48, 20.33, 18.69, 17.59, 16.87, 15.58, 14.52]\n"
     ]
    }
   ],
   "source": [
    "#1 hr hrrr:\n",
    "with open('hrrr_f12_Lafayette_LA.txt') as f:\n",
    "    lst=[line.split()[4] for line in f]\n",
    "    temp=[]\n",
    "    for i in lst:\n",
    "        new=i.replace(',',\"\")\n",
    "        temp.append(new)\n",
    "    temp.pop(0)\n",
    "    temp=[float(x) for x in temp]\n",
    "    temp=temp[2586:2611]\n",
    "    #temp=temp[2015:2063]\n",
    "    print(temp)\n",
    "    #print(len(temp))\n",
    "#full time period is [2015:2112]"
   ]
  },
  {
   "cell_type": "code",
   "execution_count": 153,
   "id": "a94179a0",
   "metadata": {},
   "outputs": [
    {
     "name": "stdout",
     "output_type": "stream",
     "text": [
      "[11.6, 10.5, 9.7, 8.75, 9.6, 9.15, 10.15, 13.75, 16.8, 21.15, 24.95, 29.049999999999997, 31.05, 31.65, 31.9, 29.700000000000003, 25.299999999999997, 23.049999999999997, 17.049999999999997, 12.25, 11.1, 10.5, 11.5, 10.05, 11.5]\n"
     ]
    }
   ],
   "source": [
    "#Air Temp CRN:\n",
    "with open('CRNS0101-05-2022-LA_Lafayette_13_SE.txt') as f:\n",
    "    lst=[line.split()[12] for line in f]\n",
    "    \n",
    "    a=(float(lst[31175])+float(lst[31176]))/2\n",
    "    b=(float(lst[31187])+float(lst[31188]))/2\n",
    "    c=(float(lst[31199])+float(lst[31200]))/2\n",
    "    d=(float(lst[31211])+float(lst[31212]))/2\n",
    "    e=(float(lst[31223])+float(lst[31224]))/2\n",
    "    f=(float(lst[31235])+float(lst[31236]))/2\n",
    "    g=(float(lst[31247])+float(lst[31248]))/2\n",
    "    h=(float(lst[31259])+float(lst[31260]))/2\n",
    "    i=(float(lst[31271])+float(lst[31272]))/2\n",
    "    j=(float(lst[31283])+float(lst[31284]))/2\n",
    "    k=(float(lst[31295])+float(lst[31296]))/2\n",
    "    l=(float(lst[31307])+float(lst[31308]))/2\n",
    "    m=(float(lst[31319])+float(lst[31320]))/2\n",
    "    n=(float(lst[31331])+float(lst[31332]))/2\n",
    "    o=(float(lst[31343])+float(lst[31344]))/2\n",
    "    p=(float(lst[31355])+float(lst[31356]))/2\n",
    "    q=(float(lst[31367])+float(lst[31368]))/2\n",
    "    r=(float(lst[31379])+float(lst[31380]))/2\n",
    "    s=(float(lst[31391])+float(lst[31392]))/2\n",
    "    t=(float(lst[31403])+float(lst[31404]))/2\n",
    "    u=(float(lst[31415])+float(lst[31416]))/2\n",
    "    v=(float(lst[31427])+float(lst[31428]))/2\n",
    "    w=(float(lst[31439])+float(lst[31440]))/2\n",
    "    x=(float(lst[31451])+float(lst[31452]))/2\n",
    "    y=(float(lst[31463])+float(lst[31464]))/2\n",
    "    \n",
    "    temp_crn=[a,b,c,d,e,f,g,h,i,j,k,l,m,n,o,p,q,r,s,t,u,v,w,x,y]\n",
    "    print(temp_crn)"
   ]
  },
  {
   "cell_type": "code",
   "execution_count": 154,
   "id": "482bd1ef",
   "metadata": {},
   "outputs": [
    {
     "name": "stdout",
     "output_type": "stream",
     "text": [
      "[1.1600000000000001, 1.7100000000000009, 2.1800000000000015, 3.16, 2.58, 2.5700000000000003, 1.9000000000000004, 0.9399999999999995, 2.16, 1.7200000000000024, 1.4400000000000013, 0.45000000000000284, 0.3999999999999986, 1.0900000000000034, 0.8299999999999983, 0.6199999999999974, 3.8000000000000043, 3.610000000000003, 6.430000000000003, 8.079999999999998, 7.590000000000002, 7.09, 5.370000000000001, 5.529999999999999, 3.0199999999999996]\n"
     ]
    }
   ],
   "source": [
    "difference5_laf = []\n",
    "\n",
    "zip_object = zip(temp, temp_crn)\n",
    "for temp_i, temp_crn_i in zip_object:\n",
    "    difference5_laf.append(temp_i-temp_crn_i)\n",
    "\n",
    "print(difference5_laf)"
   ]
  },
  {
   "cell_type": "markdown",
   "id": "de00e832",
   "metadata": {},
   "source": [
    "<font size=\"3\">Monroe, LA: 0600 UTC (12:00 am CST) 01 March 2022-0600 UTC (12:00 am CST) 02 March 2022</font>"
   ]
  },
  {
   "cell_type": "code",
   "execution_count": 155,
   "id": "4e202ed7",
   "metadata": {},
   "outputs": [
    {
     "name": "stdout",
     "output_type": "stream",
     "text": [
      "[9.39999, 9.14001, 9.13, 8.62, 7.92999, 7.23001, 7.08002, 9.80002, 12.62, 15.77, 18.96, 22.61, 25.74, 27.24, 27.6, 26.7, 24.47, 21.87, 18.28, 15.48, 13.9, 13.11, 11.83, 11.89, 12.29]\n"
     ]
    }
   ],
   "source": [
    "#1 hr hrrr:\n",
    "with open('hrrr_f12_Monroe_LA.txt') as f:\n",
    "    lst=[line.split()[4] for line in f]\n",
    "    temp=[]\n",
    "    for i in lst:\n",
    "        new=i.replace(',',\"\")\n",
    "        temp.append(new)\n",
    "    temp.pop(0)\n",
    "    temp=[float(x) for x in temp]\n",
    "    temp=temp[2586:2611]\n",
    "    #temp=temp[2015:2063]\n",
    "    print(temp)\n",
    "    #print(len(temp))\n",
    "#full time period is [2015:2112]"
   ]
  },
  {
   "cell_type": "code",
   "execution_count": 156,
   "id": "4e6ab640",
   "metadata": {},
   "outputs": [
    {
     "name": "stdout",
     "output_type": "stream",
     "text": [
      "[8.3, 7.65, 7.4, 6.8, 7.050000000000001, 7.75, 8.0, 11.4, 13.7, 17.0, 18.9, 21.05, 23.75, 23.9, 23.549999999999997, 23.85, 22.4, 16.65, 14.7, 10.850000000000001, 10.1, 9.45, 9.05, 10.5, 9.55]\n"
     ]
    }
   ],
   "source": [
    "#Air Temp CRN:\n",
    "with open('CRNS0101-05-2022-LA_Monroe_26_N.txt') as f:\n",
    "    lst=[line.split()[12] for line in f]\n",
    "    \n",
    "    a=(float(lst[31175])+float(lst[31176]))/2\n",
    "    b=(float(lst[31187])+float(lst[31188]))/2\n",
    "    c=(float(lst[31199])+float(lst[31200]))/2\n",
    "    d=(float(lst[31211])+float(lst[31212]))/2\n",
    "    e=(float(lst[31223])+float(lst[31224]))/2\n",
    "    f=(float(lst[31235])+float(lst[31236]))/2\n",
    "    g=(float(lst[31247])+float(lst[31248]))/2\n",
    "    h=(float(lst[31259])+float(lst[31260]))/2\n",
    "    i=(float(lst[31271])+float(lst[31272]))/2\n",
    "    j=(float(lst[31283])+float(lst[31284]))/2\n",
    "    k=(float(lst[31295])+float(lst[31296]))/2\n",
    "    l=(float(lst[31307])+float(lst[31308]))/2\n",
    "    m=(float(lst[31319])+float(lst[31320]))/2\n",
    "    n=(float(lst[31331])+float(lst[31332]))/2\n",
    "    o=(float(lst[31343])+float(lst[31344]))/2\n",
    "    p=(float(lst[31355])+float(lst[31356]))/2\n",
    "    q=(float(lst[31367])+float(lst[31368]))/2\n",
    "    r=(float(lst[31379])+float(lst[31380]))/2\n",
    "    s=(float(lst[31391])+float(lst[31392]))/2\n",
    "    t=(float(lst[31403])+float(lst[31404]))/2\n",
    "    u=(float(lst[31415])+float(lst[31416]))/2\n",
    "    v=(float(lst[31427])+float(lst[31428]))/2\n",
    "    w=(float(lst[31439])+float(lst[31440]))/2\n",
    "    x=(float(lst[31451])+float(lst[31452]))/2\n",
    "    y=(float(lst[31463])+float(lst[31464]))/2\n",
    "    \n",
    "    temp_crn=[a,b,c,d,e,f,g,h,i,j,k,l,m,n,o,p,q,r,s,t,u,v,w,x,y]\n",
    "    print(temp_crn)"
   ]
  },
  {
   "cell_type": "code",
   "execution_count": 157,
   "id": "461ef9d6",
   "metadata": {},
   "outputs": [
    {
     "name": "stdout",
     "output_type": "stream",
     "text": [
      "[1.09999, 1.4900099999999998, 1.7300000000000004, 1.8199999999999994, 0.8799899999999994, -0.51999, -0.9199799999999998, -1.5999800000000004, -1.08, -1.2300000000000004, 0.060000000000002274, 1.5599999999999987, 1.9899999999999984, 3.34, 4.050000000000004, 2.849999999999998, 2.0700000000000003, 5.220000000000002, 3.580000000000002, 4.629999999999999, 3.8000000000000007, 3.66, 2.7799999999999994, 1.3900000000000006, 2.7399999999999984]\n"
     ]
    }
   ],
   "source": [
    "difference5_mon = []\n",
    "\n",
    "zip_object = zip(temp, temp_crn)\n",
    "for temp_i, temp_crn_i in zip_object:\n",
    "    difference5_mon.append(temp_i-temp_crn_i)\n",
    "\n",
    "print(difference5_mon)"
   ]
  },
  {
   "cell_type": "markdown",
   "id": "10c3e262",
   "metadata": {},
   "source": [
    "<font size=\"3\">Holly Springs, MS: 0600 UTC (12:00 am CST) 01 March 2022-0600 UTC (12:00 am CST) 02 March 2022</font>"
   ]
  },
  {
   "cell_type": "code",
   "execution_count": 158,
   "id": "02dfc76f",
   "metadata": {},
   "outputs": [
    {
     "name": "stdout",
     "output_type": "stream",
     "text": [
      "[5.45999, 4.83002, 4.41, 3.85001, 3.22, 2.83002, 3.22, 6.29001, 9.16, 12.23, 14.98, 16.73, 18.49, 20.08, 21.11, 20.67, 19.29, 16.79, 13.93, 10.72, 9.57001, 8.72, 8.12, 7.84, 7.33002]\n"
     ]
    }
   ],
   "source": [
    "#1 hr hrrr:\n",
    "with open('hrrr_f12_Holly Springs_MS.txt') as f:\n",
    "    lst=[line.split()[4] for line in f]\n",
    "    temp=[]\n",
    "    for i in lst:\n",
    "        new=i.replace(',',\"\")\n",
    "        temp.append(new)\n",
    "    temp.pop(0)\n",
    "    temp=[float(x) for x in temp]\n",
    "    temp=temp[2586:2611]\n",
    "    #temp=temp[2015:2063]\n",
    "    print(temp)\n",
    "    #print(len(temp))\n",
    "#full time period is [2015:2112]"
   ]
  },
  {
   "cell_type": "code",
   "execution_count": 159,
   "id": "f0bb8bfb",
   "metadata": {},
   "outputs": [
    {
     "name": "stdout",
     "output_type": "stream",
     "text": [
      "[3.2, 2.8, 2.1500000000000004, 1.7999999999999998, 1.3, 0.95, 1.6, 7.75, 11.2, 15.55, 18.549999999999997, 22.25, 23.65, 24.8, 22.950000000000003, 27.25, 25.4, 20.4, 11.95, 7.949999999999999, 6.6, 5.35, 4.75, 4.55, 4.75]\n"
     ]
    }
   ],
   "source": [
    "#Air Temp CRN:\n",
    "with open('CRNS0101-05-2022-MS_Holly_Springs_4_N.txt') as f:\n",
    "    lst=[line.split()[12] for line in f]\n",
    "    \n",
    "    a=(float(lst[31175])+float(lst[31176]))/2\n",
    "    b=(float(lst[31187])+float(lst[31188]))/2\n",
    "    c=(float(lst[31199])+float(lst[31200]))/2\n",
    "    d=(float(lst[31211])+float(lst[31212]))/2\n",
    "    e=(float(lst[31223])+float(lst[31224]))/2\n",
    "    f=(float(lst[31235])+float(lst[31236]))/2\n",
    "    g=(float(lst[31247])+float(lst[31248]))/2\n",
    "    h=(float(lst[31259])+float(lst[31260]))/2\n",
    "    i=(float(lst[31271])+float(lst[31272]))/2\n",
    "    j=(float(lst[31283])+float(lst[31284]))/2\n",
    "    k=(float(lst[31295])+float(lst[31296]))/2\n",
    "    l=(float(lst[31307])+float(lst[31308]))/2\n",
    "    m=(float(lst[31319])+float(lst[31320]))/2\n",
    "    n=(float(lst[31331])+float(lst[31332]))/2\n",
    "    o=(float(lst[31343])+float(lst[31344]))/2\n",
    "    p=(float(lst[31355])+float(lst[31356]))/2\n",
    "    q=(float(lst[31367])+float(lst[31368]))/2\n",
    "    r=(float(lst[31379])+float(lst[31380]))/2\n",
    "    s=(float(lst[31391])+float(lst[31392]))/2\n",
    "    t=(float(lst[31403])+float(lst[31404]))/2\n",
    "    u=(float(lst[31415])+float(lst[31416]))/2\n",
    "    v=(float(lst[31427])+float(lst[31428]))/2\n",
    "    w=(float(lst[31439])+float(lst[31440]))/2\n",
    "    x=(float(lst[31451])+float(lst[31452]))/2\n",
    "    y=(float(lst[31463])+float(lst[31464]))/2\n",
    "    \n",
    "    temp_crn=[a,b,c,d,e,f,g,h,i,j,k,l,m,n,o,p,q,r,s,t,u,v,w,x,y]\n",
    "    print(temp_crn)"
   ]
  },
  {
   "cell_type": "code",
   "execution_count": 160,
   "id": "33e182d5",
   "metadata": {},
   "outputs": [
    {
     "name": "stdout",
     "output_type": "stream",
     "text": [
      "[2.25999, 2.0300200000000004, 2.26, 2.0500100000000003, 1.9200000000000002, 1.8800200000000002, 1.62, -1.4599900000000003, -2.039999999999999, -3.3200000000000003, -3.5699999999999967, -5.52, -5.16, -4.720000000000002, -1.8400000000000034, -6.579999999999998, -6.109999999999999, -3.6099999999999994, 1.9800000000000004, 2.7700000000000014, 2.9700100000000003, 3.370000000000001, 3.369999999999999, 3.29, 2.58002]\n"
     ]
    }
   ],
   "source": [
    "difference5_hol = []\n",
    "\n",
    "zip_object = zip(temp, temp_crn)\n",
    "for temp_i, temp_crn_i in zip_object:\n",
    "    difference5_hol.append(temp_i-temp_crn_i)\n",
    "\n",
    "print(difference5_hol)"
   ]
  },
  {
   "cell_type": "markdown",
   "id": "c3611246",
   "metadata": {},
   "source": [
    "<font size=\"3\">Newton, MS: 0600 UTC (12:00 am CST) 01 March 2022-0600 UTC (12:00 am CST) 02 March 2022</font>"
   ]
  },
  {
   "cell_type": "code",
   "execution_count": 161,
   "id": "c9844209",
   "metadata": {},
   "outputs": [
    {
     "name": "stdout",
     "output_type": "stream",
     "text": [
      "[9.37, 9.07001, 8.91, 8.36002, 8.39001, 7.54001, 7.25, 9.54001, 12.02, 14.65, 17.28, 19.44, 21.75, 23.44, 24.29, 23.61, 22.21, 19.67, 16.48, 14.13, 12.79, 11.88, 10.83, 10.35, 9.79001]\n"
     ]
    }
   ],
   "source": [
    "#1 hr hrrr:\n",
    "with open('hrrr_f12_Newton_MS.txt') as f:\n",
    "    lst=[line.split()[4] for line in f]\n",
    "    temp=[]\n",
    "    for i in lst:\n",
    "        new=i.replace(',',\"\")\n",
    "        temp.append(new)\n",
    "    temp.pop(0)\n",
    "    temp=[float(x) for x in temp]\n",
    "    temp=temp[2586:2611]\n",
    "    #temp=temp[2015:2063]\n",
    "    print(temp)\n",
    "    #print(len(temp))\n",
    "#full time period is [2015:2112]"
   ]
  },
  {
   "cell_type": "code",
   "execution_count": 162,
   "id": "e52605db",
   "metadata": {},
   "outputs": [
    {
     "name": "stdout",
     "output_type": "stream",
     "text": [
      "[6.95, 6.15, 5.9, 4.9, 4.3, 3.8499999999999996, 6.15, 11.100000000000001, 14.350000000000001, 18.45, 22.05, 25.9, 27.25, 28.25, 28.25, 25.9, 24.700000000000003, 21.4, 16.049999999999997, 10.55, 8.95, 8.0, 7.65, 6.65, 5.8]\n"
     ]
    }
   ],
   "source": [
    "#Air Temp CRN:\n",
    "with open('CRNS0101-05-2022-MS_Newton_5_ENE.txt') as f:\n",
    "    lst=[line.split()[12] for line in f]\n",
    "    \n",
    "    a=(float(lst[31175])+float(lst[31176]))/2\n",
    "    b=(float(lst[31187])+float(lst[31188]))/2\n",
    "    c=(float(lst[31199])+float(lst[31200]))/2\n",
    "    d=(float(lst[31211])+float(lst[31212]))/2\n",
    "    e=(float(lst[31223])+float(lst[31224]))/2\n",
    "    f=(float(lst[31235])+float(lst[31236]))/2\n",
    "    g=(float(lst[31247])+float(lst[31248]))/2\n",
    "    h=(float(lst[31259])+float(lst[31260]))/2\n",
    "    i=(float(lst[31271])+float(lst[31272]))/2\n",
    "    j=(float(lst[31283])+float(lst[31284]))/2\n",
    "    k=(float(lst[31295])+float(lst[31296]))/2\n",
    "    l=(float(lst[31307])+float(lst[31308]))/2\n",
    "    m=(float(lst[31319])+float(lst[31320]))/2\n",
    "    n=(float(lst[31331])+float(lst[31332]))/2\n",
    "    o=(float(lst[31343])+float(lst[31344]))/2\n",
    "    p=(float(lst[31355])+float(lst[31356]))/2\n",
    "    q=(float(lst[31367])+float(lst[31368]))/2\n",
    "    r=(float(lst[31379])+float(lst[31380]))/2\n",
    "    s=(float(lst[31391])+float(lst[31392]))/2\n",
    "    t=(float(lst[31403])+float(lst[31404]))/2\n",
    "    u=(float(lst[31415])+float(lst[31416]))/2\n",
    "    v=(float(lst[31427])+float(lst[31428]))/2\n",
    "    w=(float(lst[31439])+float(lst[31440]))/2\n",
    "    x=(float(lst[31451])+float(lst[31452]))/2\n",
    "    y=(float(lst[31463])+float(lst[31464]))/2\n",
    "    \n",
    "    temp_crn=[a,b,c,d,e,f,g,h,i,j,k,l,m,n,o,p,q,r,s,t,u,v,w,x,y]\n",
    "    print(temp_crn)"
   ]
  },
  {
   "cell_type": "code",
   "execution_count": 163,
   "id": "26f39b75",
   "metadata": {},
   "outputs": [
    {
     "name": "stdout",
     "output_type": "stream",
     "text": [
      "[2.419999999999999, 2.9200099999999996, 3.01, 3.46002, 4.09001, 3.69001, 1.0999999999999996, -1.5599900000000009, -2.330000000000002, -3.799999999999999, -4.77, -6.459999999999997, -5.5, -4.809999999999999, -3.960000000000001, -2.289999999999999, -2.490000000000002, -1.7299999999999969, 0.43000000000000327, 3.58, 3.84, 3.880000000000001, 3.1799999999999997, 3.6999999999999993, 3.9900100000000007]\n"
     ]
    }
   ],
   "source": [
    "difference5_new = []\n",
    "\n",
    "zip_object = zip(temp, temp_crn)\n",
    "for temp_i, temp_crn_i in zip_object:\n",
    "    difference5_new.append(temp_i-temp_crn_i)\n",
    "\n",
    "print(difference5_new)"
   ]
  },
  {
   "cell_type": "markdown",
   "id": "35f6ffe5",
   "metadata": {},
   "source": [
    "<font size=\"3\">Gainesville, AL: 0600 UTC (12:00 am CST) 01 March 2022-0600 UTC (12:00 am CST) 02 March 2022</font>"
   ]
  },
  {
   "cell_type": "code",
   "execution_count": 164,
   "id": "d2bd1457",
   "metadata": {},
   "outputs": [],
   "source": [
    "# #1 hr hrrr:\n",
    "# with open('hrrr_f12_Gainesville_AL.txt') as f:\n",
    "#     lst=[line.split()[4] for line in f]\n",
    "#     temp=[]\n",
    "#     for i in lst:\n",
    "#         new=i.replace(',',\"\")\n",
    "#         temp.append(new)\n",
    "#     temp.pop(0)\n",
    "#     temp=[float(x) for x in temp]\n",
    "#     temp=temp[2586:2611]\n",
    "#     #temp=temp[2015:2063]\n",
    "#     print(temp)\n",
    "#     #print(len(temp))\n",
    "# #full time period is [2015:2112]"
   ]
  },
  {
   "cell_type": "code",
   "execution_count": 165,
   "id": "4f5c8ab2",
   "metadata": {},
   "outputs": [],
   "source": [
    "# #Air Temp CRN:\n",
    "# with open('CRNH0203-2022-AL_Gainesville_2_NE.txt') as f:\n",
    "#     lst=[line.split()[13] for line in f]\n",
    "#     #prfloat(lst)\n",
    "#     temp_crn=[]\n",
    "#     for i in lst:\n",
    "#         new=i.replace(',',\"\")\n",
    "#         temp_crn.append(new)\n",
    "#     temp_crn=[float(x) for x in temp_crn]\n",
    "#     temp_crn=temp_crn[2597:2622]\n",
    "#     print(temp_crn)\n",
    "#     #print(len(temp_crn))\n",
    "#     # print(temp_crn[2124])"
   ]
  },
  {
   "cell_type": "code",
   "execution_count": 166,
   "id": "8356bd44",
   "metadata": {},
   "outputs": [],
   "source": [
    "# difference5_gai = []\n",
    "\n",
    "# zip_object = zip(temp, temp_crn)\n",
    "# for temp_i, temp_crn_i in zip_object:\n",
    "#     difference5_gai.append(temp_i-temp_crn_i)\n",
    "\n",
    "# print(difference5_gai)"
   ]
  },
  {
   "cell_type": "markdown",
   "id": "fb46ce72",
   "metadata": {},
   "source": [
    "<font size=\"3\">Fairhope, AL: 0600 UTC (12:00 am CST) 01 March 2022-0600 UTC (12:00 am CST) 02 March 2022</font>"
   ]
  },
  {
   "cell_type": "code",
   "execution_count": 167,
   "id": "eb7efbb3",
   "metadata": {},
   "outputs": [
    {
     "name": "stdout",
     "output_type": "stream",
     "text": [
      "[11.53, 11.24, 11.14, 10.89, 10.92, 10.07, 10.4, 13.12, 16.73, 19.81, 22.23, 24.42, 26.18, 27.09, 27.21, 26.15, 24.32, 21.49, 18.56, 16.45, 15.12, 14.09, 13.25, 12.57, 12.13]\n"
     ]
    }
   ],
   "source": [
    "#1 hr hrrr:\n",
    "with open('hrrr_f12_Fairhope_AL.txt') as f:\n",
    "    lst=[line.split()[4] for line in f]\n",
    "    temp=[]\n",
    "    for i in lst:\n",
    "        new=i.replace(',',\"\")\n",
    "        temp.append(new)\n",
    "    temp.pop(0)\n",
    "    temp=[float(x) for x in temp]\n",
    "    temp=temp[2586:2611]\n",
    "    #temp=temp[2015:2063]\n",
    "    print(temp)\n",
    "    #print(len(temp))\n",
    "#full time period is [2015:2112]"
   ]
  },
  {
   "cell_type": "code",
   "execution_count": 168,
   "id": "02193ad1",
   "metadata": {},
   "outputs": [
    {
     "name": "stdout",
     "output_type": "stream",
     "text": [
      "[10.850000000000001, 9.5, 10.8, 10.3, 9.0, 8.1, 9.45, 12.899999999999999, 16.450000000000003, 19.2, 21.25, 23.6, 24.95, 25.450000000000003, 23.4, 22.95, 21.05, 17.9, 13.1, 8.5, 7.0, 6.35, 5.75, 5.449999999999999, 5.0]\n"
     ]
    }
   ],
   "source": [
    "#Air Temp CRN:\n",
    "with open('CRNS0101-05-2022-AL_Fairhope_3_NE.txt') as f:\n",
    "    lst=[line.split()[12] for line in f]\n",
    "    \n",
    "    a=(float(lst[31175])+float(lst[31176]))/2\n",
    "    b=(float(lst[31187])+float(lst[31188]))/2\n",
    "    c=(float(lst[31199])+float(lst[31200]))/2\n",
    "    d=(float(lst[31211])+float(lst[31212]))/2\n",
    "    e=(float(lst[31223])+float(lst[31224]))/2\n",
    "    f=(float(lst[31235])+float(lst[31236]))/2\n",
    "    g=(float(lst[31247])+float(lst[31248]))/2\n",
    "    h=(float(lst[31259])+float(lst[31260]))/2\n",
    "    i=(float(lst[31271])+float(lst[31272]))/2\n",
    "    j=(float(lst[31283])+float(lst[31284]))/2\n",
    "    k=(float(lst[31295])+float(lst[31296]))/2\n",
    "    l=(float(lst[31307])+float(lst[31308]))/2\n",
    "    m=(float(lst[31319])+float(lst[31320]))/2\n",
    "    n=(float(lst[31331])+float(lst[31332]))/2\n",
    "    o=(float(lst[31343])+float(lst[31344]))/2\n",
    "    p=(float(lst[31355])+float(lst[31356]))/2\n",
    "    q=(float(lst[31367])+float(lst[31368]))/2\n",
    "    r=(float(lst[31379])+float(lst[31380]))/2\n",
    "    s=(float(lst[31391])+float(lst[31392]))/2\n",
    "    t=(float(lst[31403])+float(lst[31404]))/2\n",
    "    u=(float(lst[31415])+float(lst[31416]))/2\n",
    "    v=(float(lst[31427])+float(lst[31428]))/2\n",
    "    w=(float(lst[31439])+float(lst[31440]))/2\n",
    "    x=(float(lst[31451])+float(lst[31452]))/2\n",
    "    y=(float(lst[31463])+float(lst[31464]))/2\n",
    "    \n",
    "    temp_crn=[a,b,c,d,e,f,g,h,i,j,k,l,m,n,o,p,q,r,s,t,u,v,w,x,y]\n",
    "    print(temp_crn)"
   ]
  },
  {
   "cell_type": "code",
   "execution_count": 169,
   "id": "27eb4d35",
   "metadata": {},
   "outputs": [
    {
     "name": "stdout",
     "output_type": "stream",
     "text": [
      "[0.6799999999999979, 1.7400000000000002, 0.33999999999999986, 0.5899999999999999, 1.92, 1.9700000000000006, 0.9500000000000011, 0.22000000000000064, 0.2799999999999976, 0.6099999999999994, 0.9800000000000004, 0.8200000000000003, 1.2300000000000004, 1.639999999999997, 3.8100000000000023, 3.1999999999999993, 3.2699999999999996, 3.59, 5.459999999999999, 7.949999999999999, 8.12, 7.74, 7.5, 7.120000000000001, 7.130000000000001]\n"
     ]
    }
   ],
   "source": [
    "difference5_fai = []\n",
    "\n",
    "zip_object = zip(temp, temp_crn)\n",
    "for temp_i, temp_crn_i in zip_object:\n",
    "    difference5_fai.append(temp_i-temp_crn_i)\n",
    "\n",
    "print(difference5_fai)"
   ]
  },
  {
   "cell_type": "markdown",
   "id": "26ae7516",
   "metadata": {},
   "source": [
    "<font size=\"3\">**Selma, AL: 0600 UTC (12:00 am CST) 01 March 2022-0600 UTC (12:00 am CST) 02 March 2022</font>"
   ]
  },
  {
   "cell_type": "code",
   "execution_count": 170,
   "id": "bb3e0d4e",
   "metadata": {},
   "outputs": [
    {
     "name": "stdout",
     "output_type": "stream",
     "text": [
      "[8.92001, 8.27002, 7.92001, 7.42001, 7.06, 6.42001, 7.38, 10.17, 12.21, 14.47, 16.74, 18.33, 19.45, 19.82, 19.77, 18.8, 17.26, 15.88, 14.17, 11.86, 10.68, 9.79001, 9.0, 8.5, 7.99002]\n"
     ]
    }
   ],
   "source": [
    "#1 hr hrrr:\n",
    "import numpy as np\n",
    "import numpy.ma as ma\n",
    "with open('hrrr_f12_Selma_AL.txt') as f:\n",
    "    lst=[line.split()[4] for line in f]\n",
    "    temp=[]\n",
    "    for i in lst:\n",
    "        new=i.replace(',',\"\")\n",
    "        temp.append(new)\n",
    "    temp.pop(0)\n",
    "    temp=[float(x) for x in temp]\n",
    "    temp=temp[2586:2611]\n",
    "\n",
    "#     x = np.array(temp)\n",
    "#     temp = ma.masked_array(x, mask=[0, 0, 0, 0, 0,0,0,0,0,0,0,0,0,0,0,0,0,1,1,1,1,0,0,0,0])\n",
    "    print(temp)"
   ]
  },
  {
   "cell_type": "code",
   "execution_count": 171,
   "id": "61d838c0",
   "metadata": {},
   "outputs": [
    {
     "name": "stdout",
     "output_type": "stream",
     "text": [
      "[10.350000000000001, 9.05, 7.6, 6.65, 5.85, 5.3, 7.949999999999999, 12.600000000000001, 15.75, 19.200000000000003, 22.799999999999997, 25.049999999999997, 26.15, 27.25, 27.35, 26.8, 25.35, 21.05, 16.4, 12.25, 10.55, 9.55, 8.75, 8.0, 7.2]\n"
     ]
    }
   ],
   "source": [
    "#Air Temp CRN:\n",
    "with open('CRNS0101-05-2022-AL_Selma_13_WNW.txt') as f:\n",
    "    lst=[line.split()[12] for line in f]\n",
    "    \n",
    "    a=(float(lst[31175])+float(lst[31176]))/2\n",
    "    b=(float(lst[31187])+float(lst[31188]))/2\n",
    "    c=(float(lst[31199])+float(lst[31200]))/2\n",
    "    d=(float(lst[31211])+float(lst[31212]))/2\n",
    "    e=(float(lst[31223])+float(lst[31224]))/2\n",
    "    f=(float(lst[31235])+float(lst[31236]))/2\n",
    "    g=(float(lst[31247])+float(lst[31248]))/2\n",
    "    h=(float(lst[31259])+float(lst[31260]))/2\n",
    "    i=(float(lst[31271])+float(lst[31272]))/2\n",
    "    j=(float(lst[31283])+float(lst[31284]))/2\n",
    "    k=(float(lst[31295])+float(lst[31296]))/2\n",
    "    l=(float(lst[31307])+float(lst[31308]))/2\n",
    "    m=(float(lst[31319])+float(lst[31320]))/2\n",
    "    n=(float(lst[31331])+float(lst[31332]))/2\n",
    "    o=(float(lst[31343])+float(lst[31344]))/2\n",
    "    p=(float(lst[31355])+float(lst[31356]))/2\n",
    "    q=(float(lst[31367])+float(lst[31368]))/2\n",
    "    r=(float(lst[31379])+float(lst[31380]))/2\n",
    "    s=(float(lst[31391])+float(lst[31392]))/2\n",
    "    t=(float(lst[31403])+float(lst[31404]))/2\n",
    "    u=(float(lst[31415])+float(lst[31416]))/2\n",
    "    v=(float(lst[31427])+float(lst[31428]))/2\n",
    "    w=(float(lst[31439])+float(lst[31440]))/2\n",
    "    x=(float(lst[31451])+float(lst[31452]))/2\n",
    "    y=(float(lst[31463])+float(lst[31464]))/2\n",
    "    \n",
    "    temp_crn=[a,b,c,d,e,f,g,h,i,j,k,l,m,n,o,p,q,r,s,t,u,v,w,x,y]\n",
    "    print(temp_crn)"
   ]
  },
  {
   "cell_type": "code",
   "execution_count": 172,
   "id": "f7556132",
   "metadata": {},
   "outputs": [
    {
     "name": "stdout",
     "output_type": "stream",
     "text": [
      "[-1.4299900000000019, -0.7799800000000001, 0.3200100000000008, 0.7700100000000001, 1.21, 1.1200100000000006, -0.5699999999999994, -2.4300000000000015, -3.539999999999999, -4.730000000000002, -6.059999999999999, -6.719999999999999, -6.699999999999999, -7.43, -7.580000000000002, -8.0, -8.09, -5.17, -2.2299999999999986, -0.39000000000000057, 0.129999999999999, 0.24000999999999983, 0.25, 0.5, 0.7900200000000002]\n"
     ]
    }
   ],
   "source": [
    "difference5_sel = []\n",
    "\n",
    "zip_object = zip(temp, temp_crn)\n",
    "for temp_i, temp_crn_i in zip_object:\n",
    "    difference5_sel.append(temp_i-temp_crn_i)\n",
    "\n",
    "print(difference5_sel)\n",
    "#print(len(difference3_sel))"
   ]
  },
  {
   "cell_type": "markdown",
   "id": "d56aedb3",
   "metadata": {},
   "source": [
    "<font size=\"3\">Bowling Green, KY: 0600 UTC (12:00 am CST) 01 March 2022-0600 UTC (12:00 am CST) 02 March 2022</font>"
   ]
  },
  {
   "cell_type": "code",
   "execution_count": 173,
   "id": "24633681",
   "metadata": {},
   "outputs": [
    {
     "name": "stdout",
     "output_type": "stream",
     "text": [
      "[1.56, 1.25, 1.14999, 0.429993, -0.179993, -0.579987, 0.589996, 3.97, 7.42999, 10.88, 13.94, 16.93, 19.07, 20.1, 20.01, 18.87, 17.06, 14.13, 10.78, 8.08002, 6.38, 5.31, 4.67001, 4.44, 5.19]\n"
     ]
    }
   ],
   "source": [
    "#1 hr hrrr:\n",
    "with open('hrrr_f12_Bowling Green_KY.txt') as f:\n",
    "    lst=[line.split()[4] for line in f]\n",
    "    temp=[]\n",
    "    for i in lst:\n",
    "        new=i.replace(',',\"\")\n",
    "        temp.append(new)\n",
    "    temp.pop(0)\n",
    "    temp=[float(x) for x in temp]\n",
    "    temp=temp[2586:2611]\n",
    "    #temp=temp[2015:2063]\n",
    "    print(temp)\n",
    "    #print(len(temp))\n",
    "#full time period is [2015:2112]"
   ]
  },
  {
   "cell_type": "code",
   "execution_count": 174,
   "id": "853a3ee4",
   "metadata": {},
   "outputs": [
    {
     "name": "stdout",
     "output_type": "stream",
     "text": [
      "[-0.9, -1.4, -0.95, -1.85, -2.8499999999999996, -3.3499999999999996, 0.6, 6.6, 11.1, 15.3, 18.549999999999997, 20.299999999999997, 21.75, 22.25, 21.15, 19.5, 15.35, 11.05, 5.550000000000001, 3.0, 2.1500000000000004, 1.85, 3.1500000000000004, 3.2, 6.35]\n"
     ]
    }
   ],
   "source": [
    "#Air Temp CRN:\n",
    "with open('CRNS0101-05-2022-KY_Bowling_Green_21_NNE.txt') as f:\n",
    "    lst=[line.split()[12] for line in f]\n",
    "    \n",
    "    a=(float(lst[31175])+float(lst[31176]))/2\n",
    "    b=(float(lst[31187])+float(lst[31188]))/2\n",
    "    c=(float(lst[31199])+float(lst[31200]))/2\n",
    "    d=(float(lst[31211])+float(lst[31212]))/2\n",
    "    e=(float(lst[31223])+float(lst[31224]))/2\n",
    "    f=(float(lst[31235])+float(lst[31236]))/2\n",
    "    g=(float(lst[31247])+float(lst[31248]))/2\n",
    "    h=(float(lst[31259])+float(lst[31260]))/2\n",
    "    i=(float(lst[31271])+float(lst[31272]))/2\n",
    "    j=(float(lst[31283])+float(lst[31284]))/2\n",
    "    k=(float(lst[31295])+float(lst[31296]))/2\n",
    "    l=(float(lst[31307])+float(lst[31308]))/2\n",
    "    m=(float(lst[31319])+float(lst[31320]))/2\n",
    "    n=(float(lst[31331])+float(lst[31332]))/2\n",
    "    o=(float(lst[31343])+float(lst[31344]))/2\n",
    "    p=(float(lst[31355])+float(lst[31356]))/2\n",
    "    q=(float(lst[31367])+float(lst[31368]))/2\n",
    "    r=(float(lst[31379])+float(lst[31380]))/2\n",
    "    s=(float(lst[31391])+float(lst[31392]))/2\n",
    "    t=(float(lst[31403])+float(lst[31404]))/2\n",
    "    u=(float(lst[31415])+float(lst[31416]))/2\n",
    "    v=(float(lst[31427])+float(lst[31428]))/2\n",
    "    w=(float(lst[31439])+float(lst[31440]))/2\n",
    "    x=(float(lst[31451])+float(lst[31452]))/2\n",
    "    y=(float(lst[31463])+float(lst[31464]))/2\n",
    "    \n",
    "    temp_crn=[a,b,c,d,e,f,g,h,i,j,k,l,m,n,o,p,q,r,s,t,u,v,w,x,y]\n",
    "    print(temp_crn)"
   ]
  },
  {
   "cell_type": "code",
   "execution_count": 175,
   "id": "0855a124",
   "metadata": {},
   "outputs": [
    {
     "name": "stdout",
     "output_type": "stream",
     "text": [
      "[2.46, 2.65, 2.09999, 2.279993, 2.6700069999999996, 2.7700129999999996, -0.010004000000000013, -2.6299999999999994, -3.6700099999999996, -4.42, -4.609999999999998, -3.3699999999999974, -2.6799999999999997, -2.1499999999999986, -1.139999999999997, -0.629999999999999, 1.709999999999999, 3.08, 5.229999999999999, 5.080019999999999, 4.2299999999999995, 3.4599999999999995, 1.52001, 1.2400000000000002, -1.1599999999999993]\n"
     ]
    }
   ],
   "source": [
    "difference5_bow = []\n",
    "\n",
    "zip_object = zip(temp, temp_crn)\n",
    "for temp_i, temp_crn_i in zip_object:\n",
    "    difference5_bow.append(temp_i-temp_crn_i)\n",
    "\n",
    "print(difference5_bow)"
   ]
  },
  {
   "cell_type": "markdown",
   "id": "230d1a46",
   "metadata": {},
   "source": [
    "<font size=\"3\">Gadsden, AL: 0600 UTC (12:00 am CST) 01 March 2022-0600 UTC (12:00 am CST) 02 March 2022</font>"
   ]
  },
  {
   "cell_type": "code",
   "execution_count": 176,
   "id": "c5f9ab54",
   "metadata": {},
   "outputs": [
    {
     "name": "stdout",
     "output_type": "stream",
     "text": [
      "[5.51001, 5.01001, 4.69, 4.70999, 4.0, 3.56, 4.42001, 7.70999, 11.11, 14.83, 17.97, 19.94, 21.32, 21.97, 21.68, 20.54, 18.74, 16.39, 13.32, 10.79, 9.49002, 8.39999, 7.29001, 6.63, 5.79001]\n"
     ]
    }
   ],
   "source": [
    "#1 hr hrrr:\n",
    "with open('hrrr_f12_Gadsden_AL.txt') as f:\n",
    "    lst=[line.split()[4] for line in f]\n",
    "    temp=[]\n",
    "    for i in lst:\n",
    "        new=i.replace(',',\"\")\n",
    "        temp.append(new)\n",
    "    temp.pop(0)\n",
    "    temp=[float(x) for x in temp]\n",
    "    temp=temp[2586:2611]\n",
    "#     x = np.array(temp)\n",
    "#     temp = ma.masked_array(x, mask=[0, 0, 0, 0, 0,0,0,0,1,0,0,0,0,0,0,0,0,0,0,0,0,0,0,0,0])\n",
    "    #temp=temp[2015:2063]\n",
    "    print(temp)\n",
    "    #print(len(temp))\n",
    "#full time period is [2015:2112]"
   ]
  },
  {
   "cell_type": "code",
   "execution_count": 177,
   "id": "68a16b18",
   "metadata": {},
   "outputs": [
    {
     "name": "stdout",
     "output_type": "stream",
     "text": [
      "[4.35, 3.5, 4.05, 4.4, 4.1, 2.9, 5.4, 8.899999999999999, 11.350000000000001, 14.75, 18.299999999999997, 20.65, 22.8, 22.299999999999997, 21.8, 20.4, 19.0, 15.399999999999999, 11.15, 7.55, 6.05, 5.55, 4.85, 4.5, 4.55]\n"
     ]
    }
   ],
   "source": [
    "#Air Temp CRN:\n",
    "with open('CRNS0101-05-2022-AL_Gadsden_19_N.txt') as f:\n",
    "    lst=[line.split()[12] for line in f]\n",
    "    \n",
    "    a=(float(lst[31175])+float(lst[31176]))/2\n",
    "    b=(float(lst[31187])+float(lst[31188]))/2\n",
    "    c=(float(lst[31199])+float(lst[31200]))/2\n",
    "    d=(float(lst[31211])+float(lst[31212]))/2\n",
    "    e=(float(lst[31223])+float(lst[31224]))/2\n",
    "    f=(float(lst[31235])+float(lst[31236]))/2\n",
    "    g=(float(lst[31247])+float(lst[31248]))/2\n",
    "    h=(float(lst[31259])+float(lst[31260]))/2\n",
    "    i=(float(lst[31271])+float(lst[31272]))/2\n",
    "    j=(float(lst[31283])+float(lst[31284]))/2\n",
    "    k=(float(lst[31295])+float(lst[31296]))/2\n",
    "    l=(float(lst[31307])+float(lst[31308]))/2\n",
    "    m=(float(lst[31319])+float(lst[31320]))/2\n",
    "    n=(float(lst[31331])+float(lst[31332]))/2\n",
    "    o=(float(lst[31343])+float(lst[31344]))/2\n",
    "    p=(float(lst[31355])+float(lst[31356]))/2\n",
    "    q=(float(lst[31367])+float(lst[31368]))/2\n",
    "    r=(float(lst[31379])+float(lst[31380]))/2\n",
    "    s=(float(lst[31391])+float(lst[31392]))/2\n",
    "    t=(float(lst[31403])+float(lst[31404]))/2\n",
    "    u=(float(lst[31415])+float(lst[31416]))/2\n",
    "    v=(float(lst[31427])+float(lst[31428]))/2\n",
    "    w=(float(lst[31439])+float(lst[31440]))/2\n",
    "    x=(float(lst[31451])+float(lst[31452]))/2\n",
    "    y=(float(lst[31463])+float(lst[31464]))/2\n",
    "    \n",
    "    temp_crn=[a,b,c,d,e,f,g,h,i,j,k,l,m,n,o,p,q,r,s,t,u,v,w,x,y]\n",
    "    print(temp_crn)"
   ]
  },
  {
   "cell_type": "code",
   "execution_count": 178,
   "id": "20f98582",
   "metadata": {},
   "outputs": [
    {
     "name": "stdout",
     "output_type": "stream",
     "text": [
      "[1.1600100000000007, 1.5100100000000003, 0.6400000000000006, 0.30999, -0.09999999999999964, 0.6600000000000001, -0.9799899999999999, -1.1900099999999982, -0.240000000000002, 0.08000000000000007, -0.3299999999999983, -0.7099999999999973, -1.4800000000000004, -0.3299999999999983, -0.120000000000001, 0.14000000000000057, -0.26000000000000156, 0.990000000000002, 2.17, 3.2399999999999993, 3.4400199999999996, 2.849990000000001, 2.44001, 2.13, 1.2400099999999998]\n"
     ]
    }
   ],
   "source": [
    "difference5_gad = []\n",
    "\n",
    "zip_object = zip(temp, temp_crn)\n",
    "for temp_i, temp_crn_i in zip_object:\n",
    "    difference5_gad.append(temp_i-temp_crn_i)\n",
    "\n",
    "print(difference5_gad)"
   ]
  },
  {
   "cell_type": "markdown",
   "id": "200f3740",
   "metadata": {},
   "source": [
    "<font size=\"3\">Newton, GA: 0600 UTC (12:00 am CST) 01 March 2022-0600 UTC (12:00 am CST) 02 March 2022</font>"
   ]
  },
  {
   "cell_type": "code",
   "execution_count": 179,
   "id": "c0676e97",
   "metadata": {},
   "outputs": [
    {
     "name": "stdout",
     "output_type": "stream",
     "text": [
      "[12.16, 11.32, 10.77, 10.55, 9.72, 9.55002, 10.42, 13.62, 16.94, 20.02, 23.15, 24.99, 26.77, 27.27, 27.33, 25.97, 24.03, 21.11, 17.62, 15.27, 13.79, 12.55, 11.55, 10.37, 9.61002]\n"
     ]
    }
   ],
   "source": [
    "#1 hr hrrr:\n",
    "with open('hrrr_f12_Newton_GA.txt') as f:\n",
    "    lst=[line.split()[4] for line in f]\n",
    "    temp=[]\n",
    "    for i in lst:\n",
    "        new=i.replace(',',\"\")\n",
    "        temp.append(new)\n",
    "    temp.pop(0)\n",
    "    temp=[float(x) for x in temp]\n",
    "    temp=temp[2586:2611]\n",
    "    #temp=temp[2015:2063]\n",
    "    print(temp)\n",
    "    #print(len(temp))\n",
    "#full time period is [2015:2112]"
   ]
  },
  {
   "cell_type": "code",
   "execution_count": 180,
   "id": "f1c9c102",
   "metadata": {},
   "outputs": [
    {
     "name": "stdout",
     "output_type": "stream",
     "text": [
      "[13.05, 11.6, 10.5, 10.7, 10.4, 9.6, 11.05, 13.95, 17.15, 21.7, 24.65, 28.0, 30.3, 30.55, 29.799999999999997, 27.799999999999997, 24.8, 20.85, 15.600000000000001, 12.850000000000001, 11.649999999999999, 10.649999999999999, 9.95, 9.4, 8.75]\n"
     ]
    }
   ],
   "source": [
    "#Air Temp CRN:\n",
    "with open('CRNS0101-05-2022-GA_Newton_11_SW.txt') as f:\n",
    "    lst=[line.split()[12] for line in f]\n",
    "    \n",
    "    a=(float(lst[31175])+float(lst[31176]))/2\n",
    "    b=(float(lst[31187])+float(lst[31188]))/2\n",
    "    c=(float(lst[31199])+float(lst[31200]))/2\n",
    "    d=(float(lst[31211])+float(lst[31212]))/2\n",
    "    e=(float(lst[31223])+float(lst[31224]))/2\n",
    "    f=(float(lst[31235])+float(lst[31236]))/2\n",
    "    g=(float(lst[31247])+float(lst[31248]))/2\n",
    "    h=(float(lst[31259])+float(lst[31260]))/2\n",
    "    i=(float(lst[31271])+float(lst[31272]))/2\n",
    "    j=(float(lst[31283])+float(lst[31284]))/2\n",
    "    k=(float(lst[31295])+float(lst[31296]))/2\n",
    "    l=(float(lst[31307])+float(lst[31308]))/2\n",
    "    m=(float(lst[31319])+float(lst[31320]))/2\n",
    "    n=(float(lst[31331])+float(lst[31332]))/2\n",
    "    o=(float(lst[31343])+float(lst[31344]))/2\n",
    "    p=(float(lst[31355])+float(lst[31356]))/2\n",
    "    q=(float(lst[31367])+float(lst[31368]))/2\n",
    "    r=(float(lst[31379])+float(lst[31380]))/2\n",
    "    s=(float(lst[31391])+float(lst[31392]))/2\n",
    "    t=(float(lst[31403])+float(lst[31404]))/2\n",
    "    u=(float(lst[31415])+float(lst[31416]))/2\n",
    "    v=(float(lst[31427])+float(lst[31428]))/2\n",
    "    w=(float(lst[31439])+float(lst[31440]))/2\n",
    "    x=(float(lst[31451])+float(lst[31452]))/2\n",
    "    y=(float(lst[31463])+float(lst[31464]))/2\n",
    "    \n",
    "    temp_crn=[a,b,c,d,e,f,g,h,i,j,k,l,m,n,o,p,q,r,s,t,u,v,w,x,y]\n",
    "    print(temp_crn)"
   ]
  },
  {
   "cell_type": "code",
   "execution_count": 181,
   "id": "4d737508",
   "metadata": {},
   "outputs": [
    {
     "name": "stdout",
     "output_type": "stream",
     "text": [
      "[-0.8900000000000006, -0.27999999999999936, 0.2699999999999996, -0.14999999999999858, -0.6799999999999997, -0.04997999999999969, -0.6300000000000008, -0.33000000000000007, -0.2099999999999973, -1.6799999999999997, -1.5, -3.0100000000000016, -3.530000000000001, -3.280000000000001, -2.469999999999999, -1.8299999999999983, -0.7699999999999996, 0.259999999999998, 2.0199999999999996, 2.419999999999998, 2.1400000000000006, 1.9000000000000021, 1.6000000000000014, 0.9699999999999989, 0.8600200000000005]\n"
     ]
    }
   ],
   "source": [
    "difference5_newt = []\n",
    "\n",
    "zip_object = zip(temp, temp_crn)\n",
    "for temp_i, temp_crn_i in zip_object:\n",
    "    difference5_newt.append(temp_i-temp_crn_i)\n",
    "\n",
    "print(difference5_newt)"
   ]
  },
  {
   "cell_type": "markdown",
   "id": "cd4a8f77",
   "metadata": {},
   "source": [
    "<font size=\"3\">Salem, MO: 0500 UTC (12:00 am CDT) 27 April 2022-0500 UTC (12:00 am CDT) 28 April 2022</font>"
   ]
  },
  {
   "cell_type": "code",
   "execution_count": 182,
   "id": "e74c5bbe",
   "metadata": {},
   "outputs": [
    {
     "name": "stdout",
     "output_type": "stream",
     "text": [
      "[5.72, 5.14001, 4.67001, 4.52002, 4.26001, 5.17001, 6.24002, 9.60001, 12.93, 16.04, 18.69, 21.99, 24.41, 25.57, 25.65, 24.71, 23.11, 20.48, 17.68, 14.67, 13.19, 12.02, 11.17, 10.57, 10.0]\n",
      "25\n"
     ]
    }
   ],
   "source": [
    "#1 hr hrrr:\n",
    "with open('hrrr_f12_Salem_MO.txt') as f:\n",
    "    lst=[line.split()[4] for line in f]\n",
    "    temp=[]\n",
    "    for i in lst:\n",
    "        new=i.replace(',',\"\")\n",
    "        temp.append(new)\n",
    "    temp.pop(0)\n",
    "    temp=[float(x) for x in temp]\n",
    "    temp=temp[2778:2803]\n",
    "    #temp=temp[2015:2063]\n",
    "    print(temp)\n",
    "    print(len(temp))\n",
    "#full time period is [2015:2112]"
   ]
  },
  {
   "cell_type": "code",
   "execution_count": 183,
   "id": "c0c399a0",
   "metadata": {},
   "outputs": [
    {
     "name": "stdout",
     "output_type": "stream",
     "text": [
      "[0.6499999999999999, 0.6499999999999999, 0.75, 0.6499999999999999, 0.5, 1.0, 4.55, 9.55, 16.95, 22.9, 28.75, 30.85, 33.25, 34.05, 32.05, 29.9, 25.950000000000003, 19.5, 15.600000000000001, 13.6, 12.350000000000001, 11.0, 10.45, 11.95, 11.4]\n"
     ]
    }
   ],
   "source": [
    "#Air Temp CRN:\n",
    "with open('CRNS0101-05-2022-MO_Salem_10_W.txt') as f:\n",
    "    lst=[line.split()[12] for line in f]\n",
    "    \n",
    "    a=(float(lst[33479])+float(lst[33480]))/2\n",
    "    b=(float(lst[33491])+float(lst[33492]))/2\n",
    "    c=(float(lst[33503])+float(lst[33504]))/2\n",
    "    d=(float(lst[33515])+float(lst[33516]))/2\n",
    "    e=(float(lst[33527])+float(lst[33528]))/2\n",
    "    f=(float(lst[33539])+float(lst[33540]))/2\n",
    "    g=(float(lst[33551])+float(lst[33552]))/2\n",
    "    h=(float(lst[33563])+float(lst[33564]))/2\n",
    "    i=(float(lst[33575])+float(lst[33576]))/2\n",
    "    j=(float(lst[33587])+float(lst[33588]))/2\n",
    "    k=(float(lst[33599])+float(lst[33600]))/2\n",
    "    l=(float(lst[33611])+float(lst[33612]))/2\n",
    "    m=(float(lst[33623])+float(lst[33624]))/2\n",
    "    n=(float(lst[33635])+float(lst[33636]))/2\n",
    "    o=(float(lst[33647])+float(lst[33648]))/2\n",
    "    p=(float(lst[33659])+float(lst[33660]))/2\n",
    "    q=(float(lst[33671])+float(lst[33672]))/2\n",
    "    r=(float(lst[33683])+float(lst[33684]))/2\n",
    "    s=(float(lst[33695])+float(lst[33696]))/2\n",
    "    t=(float(lst[33707])+float(lst[33708]))/2\n",
    "    u=(float(lst[33719])+float(lst[33720]))/2\n",
    "    v=(float(lst[33731])+float(lst[33732]))/2\n",
    "    w=(float(lst[33743])+float(lst[33744]))/2\n",
    "    x=(float(lst[33755])+float(lst[33756]))/2\n",
    "    y=(float(lst[33767])+float(lst[33768]))/2\n",
    "    \n",
    "    temp_crn=[a,b,c,d,e,f,g,h,i,j,k,l,m,n,o,p,q,r,s,t,u,v,w,x,y]\n",
    "    print(temp_crn)"
   ]
  },
  {
   "cell_type": "code",
   "execution_count": 184,
   "id": "38ad8303",
   "metadata": {},
   "outputs": [
    {
     "name": "stdout",
     "output_type": "stream",
     "text": [
      "[5.07, 4.49001, 3.9200100000000004, 3.87002, 3.7600100000000003, 4.17001, 1.6900200000000005, 0.050009999999998556, -4.02, -6.859999999999999, -10.059999999999999, -8.860000000000003, -8.84, -8.479999999999997, -6.399999999999999, -5.189999999999998, -2.8400000000000034, 0.9800000000000004, 2.0799999999999983, 1.0700000000000003, 0.8399999999999981, 1.0199999999999996, 0.7200000000000006, -1.379999999999999, -1.4000000000000004]\n"
     ]
    }
   ],
   "source": [
    "difference6_sal = []\n",
    "\n",
    "zip_object = zip(temp, temp_crn)\n",
    "for temp_i, temp_crn_i in zip_object:\n",
    "    difference6_sal.append(temp_i-temp_crn_i)\n",
    "\n",
    "print(difference6_sal)"
   ]
  },
  {
   "cell_type": "markdown",
   "id": "a9ca1aca",
   "metadata": {},
   "source": [
    "<font size=\"3\">Batesville, AR: 0600 UTC (12:00 am CST) 01 March 2022-0600 UTC (12:00 am CST) 02 March 2022</font>"
   ]
  },
  {
   "cell_type": "code",
   "execution_count": 185,
   "id": "90b292da",
   "metadata": {},
   "outputs": [
    {
     "name": "stdout",
     "output_type": "stream",
     "text": [
      "[7.78, 7.20999, 6.67001, 6.20001, 5.91, 5.67999, 6.49002, 11.13, 15.41, 17.99, 20.21, 22.02, 23.4, 24.34, 24.74, 24.43, 23.09, 20.97, 18.42, 14.76, 13.13, 12.12, 11.35, 10.52, 9.67999]\n",
      "25\n"
     ]
    }
   ],
   "source": [
    "#1 hr hrrr:\n",
    "with open('hrrr_f12_Batesville_AR.txt') as f:\n",
    "    lst=[line.split()[4] for line in f]\n",
    "    temp=[]\n",
    "    for i in lst:\n",
    "        new=i.replace(',',\"\")\n",
    "        temp.append(new)\n",
    "    temp.pop(0)\n",
    "    temp=[float(x) for x in temp]\n",
    "    temp=temp[2778:2803]\n",
    "#     x = np.array(temp)\n",
    "#     temp = ma.masked_array(x, mask=[0, 0, 0, 0, 0,0,0,0,0,0,0,0,0,0,0,0,0,0,0,0,0,1,0,0,0])\n",
    "    #temp=temp[2015:2063]\n",
    "    print(temp)\n",
    "    print(len(temp))\n",
    "#full time period is [2015:2112]"
   ]
  },
  {
   "cell_type": "code",
   "execution_count": 186,
   "id": "f0f385de",
   "metadata": {},
   "outputs": [
    {
     "name": "stdout",
     "output_type": "stream",
     "text": [
      "[2.5, 2.05, 1.8, 1.2, 1.1, 0.7, 3.15, 8.350000000000001, 14.350000000000001, 16.0, 19.65, 21.15, 22.2, 22.4, 21.6, 20.9, 18.95, 16.9, 13.25, 9.55, 8.45, 7.65, 7.05, 6.35, 6.55]\n"
     ]
    }
   ],
   "source": [
    "#Air Temp CRN:\n",
    "with open('CRNS0101-05-2022-AR_Batesville_8_WNW.txt') as f:\n",
    "    lst=[line.split()[12] for line in f]\n",
    "    \n",
    "    a=(float(lst[33479])+float(lst[33480]))/2\n",
    "    b=(float(lst[33491])+float(lst[33492]))/2\n",
    "    c=(float(lst[33503])+float(lst[33504]))/2\n",
    "    d=(float(lst[33515])+float(lst[33516]))/2\n",
    "    e=(float(lst[33527])+float(lst[33528]))/2\n",
    "    f=(float(lst[33539])+float(lst[33540]))/2\n",
    "    g=(float(lst[33551])+float(lst[33552]))/2\n",
    "    h=(float(lst[33563])+float(lst[33564]))/2\n",
    "    i=(float(lst[33575])+float(lst[33576]))/2\n",
    "    j=(float(lst[33587])+float(lst[33588]))/2\n",
    "    k=(float(lst[33599])+float(lst[33600]))/2\n",
    "    l=(float(lst[33611])+float(lst[33612]))/2\n",
    "    m=(float(lst[33623])+float(lst[33624]))/2\n",
    "    n=(float(lst[33635])+float(lst[33636]))/2\n",
    "    o=(float(lst[33647])+float(lst[33648]))/2\n",
    "    p=(float(lst[33659])+float(lst[33660]))/2\n",
    "    q=(float(lst[33671])+float(lst[33672]))/2\n",
    "    r=(float(lst[33683])+float(lst[33684]))/2\n",
    "    s=(float(lst[33695])+float(lst[33696]))/2\n",
    "    t=(float(lst[33707])+float(lst[33708]))/2\n",
    "    u=(float(lst[33719])+float(lst[33720]))/2\n",
    "    v=(float(lst[33731])+float(lst[33732]))/2\n",
    "    w=(float(lst[33743])+float(lst[33744]))/2\n",
    "    x=(float(lst[33755])+float(lst[33756]))/2\n",
    "    y=(float(lst[33767])+float(lst[33768]))/2\n",
    "    \n",
    "    temp_crn=[a,b,c,d,e,f,g,h,i,j,k,l,m,n,o,p,q,r,s,t,u,v,w,x,y]\n",
    "    print(temp_crn)"
   ]
  },
  {
   "cell_type": "code",
   "execution_count": 187,
   "id": "ea97b53d",
   "metadata": {},
   "outputs": [
    {
     "name": "stdout",
     "output_type": "stream",
     "text": [
      "[5.28, 5.1599900000000005, 4.870010000000001, 5.00001, 4.8100000000000005, 4.97999, 3.3400200000000004, 2.7799999999999994, 1.0599999999999987, 1.9899999999999984, 0.5600000000000023, 0.870000000000001, 1.1999999999999993, 1.9400000000000013, 3.139999999999997, 3.530000000000001, 4.140000000000001, 4.07, 5.170000000000002, 5.209999999999999, 4.6800000000000015, 4.469999999999999, 4.3, 4.17, 3.1299900000000003]\n"
     ]
    }
   ],
   "source": [
    "difference6_bat = []\n",
    "\n",
    "zip_object = zip(temp, temp_crn)\n",
    "for temp_i, temp_crn_i in zip_object:\n",
    "    difference6_bat.append(temp_i-temp_crn_i)\n",
    "\n",
    "print(difference6_bat)"
   ]
  },
  {
   "cell_type": "markdown",
   "id": "5726dedb",
   "metadata": {},
   "source": [
    "<font size=\"3\">Lafayette, LA: 0600 UTC (12:00 am CST) 01 March 2022-0600 UTC (12:00 am CST) 02 March 2022</font>"
   ]
  },
  {
   "cell_type": "code",
   "execution_count": 188,
   "id": "4afdefd5",
   "metadata": {},
   "outputs": [
    {
     "name": "stdout",
     "output_type": "stream",
     "text": [
      "[17.17, 16.53, 15.89, 15.12, 14.45, 13.95, 13.92, 17.41, 22.38, 27.09, 31.32, 34.1, 35.79, 36.48, 36.47, 35.37, 33.24, 30.34, 26.69, 22.69, 20.71, 18.77, 17.29, 16.14, 15.04]\n"
     ]
    }
   ],
   "source": [
    "#1 hr hrrr:\n",
    "with open('hrrr_f12_Lafayette_LA.txt') as f:\n",
    "    lst=[line.split()[4] for line in f]\n",
    "    temp=[]\n",
    "    for i in lst:\n",
    "        new=i.replace(',',\"\")\n",
    "        temp.append(new)\n",
    "    temp.pop(0)\n",
    "    temp=[float(x) for x in temp]\n",
    "    temp=temp[2778:2803]\n",
    "    #temp=temp[2015:2063]\n",
    "    print(temp)\n",
    "    #print(len(temp))\n",
    "#full time period is [2015:2112]"
   ]
  },
  {
   "cell_type": "code",
   "execution_count": 189,
   "id": "8a2dd83c",
   "metadata": {},
   "outputs": [
    {
     "name": "stdout",
     "output_type": "stream",
     "text": [
      "[12.350000000000001, 11.25, 10.9, 11.0, 10.2, 9.05, 10.95, 16.15, 21.45, 28.65, 36.2, 39.650000000000006, 41.9, 42.35, 39.95, 38.2, 33.3, 26.85, 19.45, 13.1, 11.8, 11.05, 10.3, 10.05, 9.75]\n"
     ]
    }
   ],
   "source": [
    "#Air Temp CRN:\n",
    "with open('CRNS0101-05-2022-LA_Lafayette_13_SE.txt') as f:\n",
    "    lst=[line.split()[12] for line in f]\n",
    "    \n",
    "    a=(float(lst[33479])+float(lst[33480]))/2\n",
    "    b=(float(lst[33491])+float(lst[33492]))/2\n",
    "    c=(float(lst[33503])+float(lst[33504]))/2\n",
    "    d=(float(lst[33515])+float(lst[33516]))/2\n",
    "    e=(float(lst[33527])+float(lst[33528]))/2\n",
    "    f=(float(lst[33539])+float(lst[33540]))/2\n",
    "    g=(float(lst[33551])+float(lst[33552]))/2\n",
    "    h=(float(lst[33563])+float(lst[33564]))/2\n",
    "    i=(float(lst[33575])+float(lst[33576]))/2\n",
    "    j=(float(lst[33587])+float(lst[33588]))/2\n",
    "    k=(float(lst[33599])+float(lst[33600]))/2\n",
    "    l=(float(lst[33611])+float(lst[33612]))/2\n",
    "    m=(float(lst[33623])+float(lst[33624]))/2\n",
    "    n=(float(lst[33635])+float(lst[33636]))/2\n",
    "    o=(float(lst[33647])+float(lst[33648]))/2\n",
    "    p=(float(lst[33659])+float(lst[33660]))/2\n",
    "    q=(float(lst[33671])+float(lst[33672]))/2\n",
    "    r=(float(lst[33683])+float(lst[33684]))/2\n",
    "    s=(float(lst[33695])+float(lst[33696]))/2\n",
    "    t=(float(lst[33707])+float(lst[33708]))/2\n",
    "    u=(float(lst[33719])+float(lst[33720]))/2\n",
    "    v=(float(lst[33731])+float(lst[33732]))/2\n",
    "    w=(float(lst[33743])+float(lst[33744]))/2\n",
    "    x=(float(lst[33755])+float(lst[33756]))/2\n",
    "    y=(float(lst[33767])+float(lst[33768]))/2\n",
    "    \n",
    "    temp_crn=[a,b,c,d,e,f,g,h,i,j,k,l,m,n,o,p,q,r,s,t,u,v,w,x,y]\n",
    "    print(temp_crn)"
   ]
  },
  {
   "cell_type": "code",
   "execution_count": 190,
   "id": "7b222157",
   "metadata": {},
   "outputs": [
    {
     "name": "stdout",
     "output_type": "stream",
     "text": [
      "[4.82, 5.280000000000001, 4.99, 4.119999999999999, 4.25, 4.899999999999999, 2.9700000000000006, 1.2600000000000016, 0.9299999999999997, -1.5599999999999987, -4.880000000000003, -5.550000000000004, -6.109999999999999, -5.8700000000000045, -3.480000000000004, -2.8300000000000054, -0.05999999999999517, 3.4899999999999984, 7.240000000000002, 9.590000000000002, 8.91, 7.719999999999999, 6.989999999999998, 6.09, 5.289999999999999]\n"
     ]
    }
   ],
   "source": [
    "difference6_laf = []\n",
    "\n",
    "zip_object = zip(temp, temp_crn)\n",
    "for temp_i, temp_crn_i in zip_object:\n",
    "    difference6_laf.append(temp_i-temp_crn_i)\n",
    "\n",
    "print(difference6_laf)"
   ]
  },
  {
   "cell_type": "markdown",
   "id": "de2bb1cb",
   "metadata": {},
   "source": [
    "<font size=\"3\">Monroe, LA: 0600 UTC (12:00 am CST) 01 March 2022-0600 UTC (12:00 am CST) 02 March 2022</font>"
   ]
  },
  {
   "cell_type": "code",
   "execution_count": 191,
   "id": "ebecba2f",
   "metadata": {},
   "outputs": [
    {
     "name": "stdout",
     "output_type": "stream",
     "text": [
      "[10.64, 10.04, 9.17999, 8.51001, 8.07001, 7.78, 7.81, 11.04, 14.86, 18.41, 21.69, 25.17, 28.61, 30.42, 30.76, 30.13, 28.13, 25.44, 22.08, 18.35, 16.14, 14.56, 13.45, 12.69, 11.8]\n"
     ]
    }
   ],
   "source": [
    "#1 hr hrrr:\n",
    "with open('hrrr_f12_Monroe_LA.txt') as f:\n",
    "    lst=[line.split()[4] for line in f]\n",
    "    temp=[]\n",
    "    for i in lst:\n",
    "        new=i.replace(',',\"\")\n",
    "        temp.append(new)\n",
    "    temp.pop(0)\n",
    "    temp=[float(x) for x in temp]\n",
    "    temp=temp[2778:2803]\n",
    "    #temp=temp[2015:2063]\n",
    "    print(temp)\n",
    "    #print(len(temp))\n",
    "#full time period is [2015:2112]"
   ]
  },
  {
   "cell_type": "code",
   "execution_count": 192,
   "id": "5cea29ca",
   "metadata": {},
   "outputs": [
    {
     "name": "stdout",
     "output_type": "stream",
     "text": [
      "[10.75, 10.850000000000001, 9.7, 8.55, 7.7, 6.199999999999999, 7.0, 13.4, 16.1, 20.05, 22.05, 25.15, 26.7, 27.450000000000003, 27.25, 27.2, 26.15, 19.3, 16.2, 11.399999999999999, 9.55, 8.649999999999999, 7.800000000000001, 7.35, 6.9]\n"
     ]
    }
   ],
   "source": [
    "#Air Temp CRN:\n",
    "with open('CRNS0101-05-2022-LA_Monroe_26_N.txt') as f:\n",
    "    lst=[line.split()[12] for line in f]\n",
    "    \n",
    "    a=(float(lst[33479])+float(lst[33480]))/2\n",
    "    b=(float(lst[33491])+float(lst[33492]))/2\n",
    "    c=(float(lst[33503])+float(lst[33504]))/2\n",
    "    d=(float(lst[33515])+float(lst[33516]))/2\n",
    "    e=(float(lst[33527])+float(lst[33528]))/2\n",
    "    f=(float(lst[33539])+float(lst[33540]))/2\n",
    "    g=(float(lst[33551])+float(lst[33552]))/2\n",
    "    h=(float(lst[33563])+float(lst[33564]))/2\n",
    "    i=(float(lst[33575])+float(lst[33576]))/2\n",
    "    j=(float(lst[33587])+float(lst[33588]))/2\n",
    "    k=(float(lst[33599])+float(lst[33600]))/2\n",
    "    l=(float(lst[33611])+float(lst[33612]))/2\n",
    "    m=(float(lst[33623])+float(lst[33624]))/2\n",
    "    n=(float(lst[33635])+float(lst[33636]))/2\n",
    "    o=(float(lst[33647])+float(lst[33648]))/2\n",
    "    p=(float(lst[33659])+float(lst[33660]))/2\n",
    "    q=(float(lst[33671])+float(lst[33672]))/2\n",
    "    r=(float(lst[33683])+float(lst[33684]))/2\n",
    "    s=(float(lst[33695])+float(lst[33696]))/2\n",
    "    t=(float(lst[33707])+float(lst[33708]))/2\n",
    "    u=(float(lst[33719])+float(lst[33720]))/2\n",
    "    v=(float(lst[33731])+float(lst[33732]))/2\n",
    "    w=(float(lst[33743])+float(lst[33744]))/2\n",
    "    x=(float(lst[33755])+float(lst[33756]))/2\n",
    "    y=(float(lst[33767])+float(lst[33768]))/2\n",
    "    \n",
    "    temp_crn=[a,b,c,d,e,f,g,h,i,j,k,l,m,n,o,p,q,r,s,t,u,v,w,x,y]\n",
    "    print(temp_crn)"
   ]
  },
  {
   "cell_type": "code",
   "execution_count": 193,
   "id": "7f448702",
   "metadata": {},
   "outputs": [
    {
     "name": "stdout",
     "output_type": "stream",
     "text": [
      "[-0.10999999999999943, -0.8100000000000023, -0.5200099999999992, -0.0399900000000013, 0.37000999999999973, 1.580000000000001, 0.8099999999999996, -2.360000000000001, -1.240000000000002, -1.6400000000000006, -0.35999999999999943, 0.020000000000003126, 1.9100000000000001, 2.969999999999999, 3.5100000000000016, 2.9299999999999997, 1.9800000000000004, 6.140000000000001, 5.879999999999999, 6.950000000000003, 6.59, 5.910000000000002, 5.649999999999999, 5.34, 4.9]\n"
     ]
    }
   ],
   "source": [
    "difference6_mon = []\n",
    "\n",
    "zip_object = zip(temp, temp_crn)\n",
    "for temp_i, temp_crn_i in zip_object:\n",
    "    difference6_mon.append(temp_i-temp_crn_i)\n",
    "\n",
    "print(difference6_mon)"
   ]
  },
  {
   "cell_type": "markdown",
   "id": "49e00369",
   "metadata": {},
   "source": [
    "<font size=\"3\">Holly Springs, MS: 0600 UTC (12:00 am CST) 01 March 2022-0600 UTC (12:00 am CST) 02 March 2022</font>"
   ]
  },
  {
   "cell_type": "code",
   "execution_count": 194,
   "id": "a9302d89",
   "metadata": {},
   "outputs": [
    {
     "name": "stdout",
     "output_type": "stream",
     "text": [
      "[6.49002, 5.85001, 5.36002, 4.97, 4.54001, 4.26001, 5.60001, 9.91, 13.62, 16.97, 19.69, 21.76, 23.84, 25.63, 26.1, 25.49, 23.7, 21.16, 18.42, 14.95, 13.31, 12.22, 11.45, 10.82, 10.22]\n"
     ]
    }
   ],
   "source": [
    "#1 hr hrrr:\n",
    "with open('hrrr_f12_Holly Springs_MS.txt') as f:\n",
    "    lst=[line.split()[4] for line in f]\n",
    "    temp=[]\n",
    "    for i in lst:\n",
    "        new=i.replace(',',\"\")\n",
    "        temp.append(new)\n",
    "    temp.pop(0)\n",
    "    temp=[float(x) for x in temp]\n",
    "    temp=temp[2778:2803]\n",
    "    #temp=temp[2015:2063]\n",
    "    print(temp)\n",
    "    #print(len(temp))\n",
    "#full time period is [2015:2112]"
   ]
  },
  {
   "cell_type": "code",
   "execution_count": 195,
   "id": "49cb6701",
   "metadata": {},
   "outputs": [
    {
     "name": "stdout",
     "output_type": "stream",
     "text": [
      "[5.9, 5.4, 4.5, 4.2, 3.75, 3.45, 5.6, 12.45, 17.5, 23.85, 30.55, 34.9, 35.95, 36.45, 35.25, 32.7, 28.35, 23.4, 16.75, 12.7, 11.2, 10.55, 9.649999999999999, 9.850000000000001, 8.55]\n"
     ]
    }
   ],
   "source": [
    "#Air Temp CRN:\n",
    "with open('CRNS0101-05-2022-MS_Holly_Springs_4_N.txt') as f:\n",
    "    lst=[line.split()[12] for line in f]\n",
    "    \n",
    "    a=(float(lst[33479])+float(lst[33480]))/2\n",
    "    b=(float(lst[33491])+float(lst[33492]))/2\n",
    "    c=(float(lst[33503])+float(lst[33504]))/2\n",
    "    d=(float(lst[33515])+float(lst[33516]))/2\n",
    "    e=(float(lst[33527])+float(lst[33528]))/2\n",
    "    f=(float(lst[33539])+float(lst[33540]))/2\n",
    "    g=(float(lst[33551])+float(lst[33552]))/2\n",
    "    h=(float(lst[33563])+float(lst[33564]))/2\n",
    "    i=(float(lst[33575])+float(lst[33576]))/2\n",
    "    j=(float(lst[33587])+float(lst[33588]))/2\n",
    "    k=(float(lst[33599])+float(lst[33600]))/2\n",
    "    l=(float(lst[33611])+float(lst[33612]))/2\n",
    "    m=(float(lst[33623])+float(lst[33624]))/2\n",
    "    n=(float(lst[33635])+float(lst[33636]))/2\n",
    "    o=(float(lst[33647])+float(lst[33648]))/2\n",
    "    p=(float(lst[33659])+float(lst[33660]))/2\n",
    "    q=(float(lst[33671])+float(lst[33672]))/2\n",
    "    r=(float(lst[33683])+float(lst[33684]))/2\n",
    "    s=(float(lst[33695])+float(lst[33696]))/2\n",
    "    t=(float(lst[33707])+float(lst[33708]))/2\n",
    "    u=(float(lst[33719])+float(lst[33720]))/2\n",
    "    v=(float(lst[33731])+float(lst[33732]))/2\n",
    "    w=(float(lst[33743])+float(lst[33744]))/2\n",
    "    x=(float(lst[33755])+float(lst[33756]))/2\n",
    "    y=(float(lst[33767])+float(lst[33768]))/2\n",
    "    \n",
    "    temp_crn=[a,b,c,d,e,f,g,h,i,j,k,l,m,n,o,p,q,r,s,t,u,v,w,x,y]\n",
    "    print(temp_crn)"
   ]
  },
  {
   "cell_type": "code",
   "execution_count": 196,
   "id": "19a13a82",
   "metadata": {},
   "outputs": [
    {
     "name": "stdout",
     "output_type": "stream",
     "text": [
      "[0.59002, 0.4500099999999998, 0.8600199999999996, 0.7699999999999996, 0.7900099999999997, 0.8100100000000001, 1.0000000000509601e-05, -2.539999999999999, -3.880000000000001, -6.880000000000003, -10.86, -13.139999999999997, -12.110000000000003, -10.820000000000004, -9.149999999999999, -7.210000000000004, -4.650000000000002, -2.2399999999999984, 1.6700000000000017, 2.25, 2.110000000000001, 1.67, 1.8000000000000007, 0.9699999999999989, 1.67]\n"
     ]
    }
   ],
   "source": [
    "difference6_hol = []\n",
    "\n",
    "zip_object = zip(temp, temp_crn)\n",
    "for temp_i, temp_crn_i in zip_object:\n",
    "    difference6_hol.append(temp_i-temp_crn_i)\n",
    "\n",
    "print(difference6_hol)"
   ]
  },
  {
   "cell_type": "markdown",
   "id": "4753a3b0",
   "metadata": {},
   "source": [
    "<font size=\"3\">Newton, MS: 0600 UTC (12:00 am CST) 01 March 2022-0600 UTC (12:00 am CST) 02 March 2022</font>"
   ]
  },
  {
   "cell_type": "code",
   "execution_count": 197,
   "id": "68f58603",
   "metadata": {},
   "outputs": [
    {
     "name": "stdout",
     "output_type": "stream",
     "text": [
      "[13.1, 12.23, 11.53, 10.9, 10.6, 10.08, 10.72, 14.53, 18.6, 22.62, 25.67, 27.94, 29.37, 29.95, 29.77, 28.68, 26.77, 24.21, 21.2, 18.16, 16.21, 14.8, 13.8, 12.71, 11.83]\n"
     ]
    }
   ],
   "source": [
    "#1 hr hrrr:\n",
    "with open('hrrr_f12_Newton_MS.txt') as f:\n",
    "    lst=[line.split()[4] for line in f]\n",
    "    temp=[]\n",
    "    for i in lst:\n",
    "        new=i.replace(',',\"\")\n",
    "        temp.append(new)\n",
    "    temp.pop(0)\n",
    "    temp=[float(x) for x in temp]\n",
    "    temp=temp[2778:2803]\n",
    "    #temp=temp[2015:2063]\n",
    "    print(temp)\n",
    "    #print(len(temp))\n",
    "#full time period is [2015:2112]"
   ]
  },
  {
   "cell_type": "code",
   "execution_count": 198,
   "id": "ddffa4a1",
   "metadata": {},
   "outputs": [
    {
     "name": "stdout",
     "output_type": "stream",
     "text": [
      "[9.649999999999999, 9.4, 8.5, 7.15, 6.2, 5.5, 8.45, 14.05, 17.7, 24.1, 28.4, 31.5, 32.3, 33.15, 33.599999999999994, 31.85, 28.35, 24.8, 19.5, 13.0, 10.9, 9.55, 8.5, 7.85, 7.1]\n"
     ]
    }
   ],
   "source": [
    "#Air Temp CRN:\n",
    "with open('CRNS0101-05-2022-MS_Newton_5_ENE.txt') as f:\n",
    "    lst=[line.split()[12] for line in f]\n",
    "    \n",
    "    a=(float(lst[33479])+float(lst[33480]))/2\n",
    "    b=(float(lst[33491])+float(lst[33492]))/2\n",
    "    c=(float(lst[33503])+float(lst[33504]))/2\n",
    "    d=(float(lst[33515])+float(lst[33516]))/2\n",
    "    e=(float(lst[33527])+float(lst[33528]))/2\n",
    "    f=(float(lst[33539])+float(lst[33540]))/2\n",
    "    g=(float(lst[33551])+float(lst[33552]))/2\n",
    "    h=(float(lst[33563])+float(lst[33564]))/2\n",
    "    i=(float(lst[33575])+float(lst[33576]))/2\n",
    "    j=(float(lst[33587])+float(lst[33588]))/2\n",
    "    k=(float(lst[33599])+float(lst[33600]))/2\n",
    "    l=(float(lst[33611])+float(lst[33612]))/2\n",
    "    m=(float(lst[33623])+float(lst[33624]))/2\n",
    "    n=(float(lst[33635])+float(lst[33636]))/2\n",
    "    o=(float(lst[33647])+float(lst[33648]))/2\n",
    "    p=(float(lst[33659])+float(lst[33660]))/2\n",
    "    q=(float(lst[33671])+float(lst[33672]))/2\n",
    "    r=(float(lst[33683])+float(lst[33684]))/2\n",
    "    s=(float(lst[33695])+float(lst[33696]))/2\n",
    "    t=(float(lst[33707])+float(lst[33708]))/2\n",
    "    u=(float(lst[33719])+float(lst[33720]))/2\n",
    "    v=(float(lst[33731])+float(lst[33732]))/2\n",
    "    w=(float(lst[33743])+float(lst[33744]))/2\n",
    "    x=(float(lst[33755])+float(lst[33756]))/2\n",
    "    y=(float(lst[33767])+float(lst[33768]))/2\n",
    "    \n",
    "    temp_crn=[a,b,c,d,e,f,g,h,i,j,k,l,m,n,o,p,q,r,s,t,u,v,w,x,y]\n",
    "    print(temp_crn)"
   ]
  },
  {
   "cell_type": "code",
   "execution_count": 199,
   "id": "d00b8a13",
   "metadata": {},
   "outputs": [
    {
     "name": "stdout",
     "output_type": "stream",
     "text": [
      "[3.450000000000001, 2.83, 3.0299999999999994, 3.75, 4.3999999999999995, 4.58, 2.2700000000000014, 0.47999999999999865, 0.9000000000000021, -1.4800000000000004, -2.729999999999997, -3.5599999999999987, -2.929999999999996, -3.1999999999999993, -3.8299999999999947, -3.1700000000000017, -1.5800000000000018, -0.5899999999999999, 1.6999999999999993, 5.16, 5.3100000000000005, 5.25, 5.300000000000001, 4.860000000000001, 4.73]\n"
     ]
    }
   ],
   "source": [
    "difference6_new = []\n",
    "\n",
    "zip_object = zip(temp, temp_crn)\n",
    "for temp_i, temp_crn_i in zip_object:\n",
    "    difference6_new.append(temp_i-temp_crn_i)\n",
    "\n",
    "print(difference6_new)"
   ]
  },
  {
   "cell_type": "markdown",
   "id": "f6dc6918",
   "metadata": {},
   "source": [
    "<font size=\"3\">Gainesville, AL: 0600 UTC (12:00 am CST) 01 March 2022-0600 UTC (12:00 am CST) 02 March 2022</font>"
   ]
  },
  {
   "cell_type": "code",
   "execution_count": 200,
   "id": "853a5cd2",
   "metadata": {},
   "outputs": [],
   "source": [
    "# #1 hr hrrr:\n",
    "# with open('hrrr_f12_Gainesville_AL.txt') as f:\n",
    "#     lst=[line.split()[4] for line in f]\n",
    "#     temp=[]\n",
    "#     for i in lst:\n",
    "#         new=i.replace(',',\"\")\n",
    "#         temp.append(new)\n",
    "#     temp.pop(0)\n",
    "#     temp=[float(x) for x in temp]\n",
    "#     temp=temp[2778:2803]\n",
    "#     #temp=temp[2015:2063]\n",
    "#     print(temp)\n",
    "#     #print(len(temp))\n",
    "# #full time period is [2015:2112]"
   ]
  },
  {
   "cell_type": "code",
   "execution_count": 201,
   "id": "12cd5b43",
   "metadata": {},
   "outputs": [],
   "source": [
    "# #Air Temp CRN:\n",
    "# with open('CRNH0203-2022-AL_Gainesville_2_NE.txt') as f:\n",
    "#     lst=[line.split()[13] for line in f]\n",
    "#     #prfloat(lst)\n",
    "#     temp_crn=[]\n",
    "#     for i in lst:\n",
    "#         new=i.replace(',',\"\")\n",
    "#         temp_crn.append(new)\n",
    "#     temp_crn=[float(x) for x in temp_crn]\n",
    "#     temp_crn=temp_crn[2789:2814]\n",
    "#     print(temp_crn)\n",
    "#     #print(len(temp_crn))\n",
    "#     # print(temp_crn[2124])"
   ]
  },
  {
   "cell_type": "code",
   "execution_count": 202,
   "id": "182dac80",
   "metadata": {},
   "outputs": [],
   "source": [
    "# difference6_gai = []\n",
    "\n",
    "# zip_object = zip(temp, temp_crn)\n",
    "# for temp_i, temp_crn_i in zip_object:\n",
    "#     difference6_gai.append(temp_i-temp_crn_i)\n",
    "\n",
    "# print(difference6_gai)"
   ]
  },
  {
   "cell_type": "markdown",
   "id": "dca2fd19",
   "metadata": {},
   "source": [
    "<font size=\"3\">Fairhope, AL: 0600 UTC (12:00 am CST) 01 March 2022-0600 UTC (12:00 am CST) 02 March 2022</font>"
   ]
  },
  {
   "cell_type": "code",
   "execution_count": 203,
   "id": "a7ac678b",
   "metadata": {},
   "outputs": [
    {
     "name": "stdout",
     "output_type": "stream",
     "text": [
      "[17.45, 16.54, 15.72, 14.91, 14.11, 13.33, 13.7, 16.92, 20.98, 24.97, 28.92, 31.46, 32.67, 32.54, 31.98, 30.82, 28.42, 25.78, 22.56, 20.3, 18.8, 17.41, 16.41, 15.51, 14.9]\n"
     ]
    }
   ],
   "source": [
    "#1 hr hrrr:\n",
    "with open('hrrr_f12_Fairhope_AL.txt') as f:\n",
    "    lst=[line.split()[4] for line in f]\n",
    "    temp=[]\n",
    "    for i in lst:\n",
    "        new=i.replace(',',\"\")\n",
    "        temp.append(new)\n",
    "    temp.pop(0)\n",
    "    temp=[float(x) for x in temp]\n",
    "    temp=temp[2778:2803]\n",
    "    #temp=temp[2015:2063]\n",
    "    print(temp)\n",
    "    #print(len(temp))\n",
    "#full time period is [2015:2112]"
   ]
  },
  {
   "cell_type": "code",
   "execution_count": 204,
   "id": "eaa19ef2",
   "metadata": {},
   "outputs": [
    {
     "name": "stdout",
     "output_type": "stream",
     "text": [
      "[13.4, 12.45, 11.7, 11.5, 10.100000000000001, 9.5, 12.100000000000001, 16.1, 19.4, 22.85, 27.35, 27.3, 27.5, 27.299999999999997, 26.8, 26.200000000000003, 24.25, 20.9, 16.3, 12.45, 12.8, 10.149999999999999, 7.949999999999999, 6.9, 6.45]\n"
     ]
    }
   ],
   "source": [
    "#Air Temp CRN:\n",
    "with open('CRNS0101-05-2022-AL_Fairhope_3_NE.txt') as f:\n",
    "    lst=[line.split()[12] for line in f]\n",
    "    \n",
    "    a=(float(lst[33479])+float(lst[33480]))/2\n",
    "    b=(float(lst[33491])+float(lst[33492]))/2\n",
    "    c=(float(lst[33503])+float(lst[33504]))/2\n",
    "    d=(float(lst[33515])+float(lst[33516]))/2\n",
    "    e=(float(lst[33527])+float(lst[33528]))/2\n",
    "    f=(float(lst[33539])+float(lst[33540]))/2\n",
    "    g=(float(lst[33551])+float(lst[33552]))/2\n",
    "    h=(float(lst[33563])+float(lst[33564]))/2\n",
    "    i=(float(lst[33575])+float(lst[33576]))/2\n",
    "    j=(float(lst[33587])+float(lst[33588]))/2\n",
    "    k=(float(lst[33599])+float(lst[33600]))/2\n",
    "    l=(float(lst[33611])+float(lst[33612]))/2\n",
    "    m=(float(lst[33623])+float(lst[33624]))/2\n",
    "    n=(float(lst[33635])+float(lst[33636]))/2\n",
    "    o=(float(lst[33647])+float(lst[33648]))/2\n",
    "    p=(float(lst[33659])+float(lst[33660]))/2\n",
    "    q=(float(lst[33671])+float(lst[33672]))/2\n",
    "    r=(float(lst[33683])+float(lst[33684]))/2\n",
    "    s=(float(lst[33695])+float(lst[33696]))/2\n",
    "    t=(float(lst[33707])+float(lst[33708]))/2\n",
    "    u=(float(lst[33719])+float(lst[33720]))/2\n",
    "    v=(float(lst[33731])+float(lst[33732]))/2\n",
    "    w=(float(lst[33743])+float(lst[33744]))/2\n",
    "    x=(float(lst[33755])+float(lst[33756]))/2\n",
    "    y=(float(lst[33767])+float(lst[33768]))/2\n",
    "    \n",
    "    temp_crn=[a,b,c,d,e,f,g,h,i,j,k,l,m,n,o,p,q,r,s,t,u,v,w,x,y]\n",
    "    print(temp_crn)"
   ]
  },
  {
   "cell_type": "code",
   "execution_count": 205,
   "id": "c79c3a66",
   "metadata": {},
   "outputs": [
    {
     "name": "stdout",
     "output_type": "stream",
     "text": [
      "[4.049999999999999, 4.09, 4.020000000000001, 3.41, 4.009999999999998, 3.83, 1.5999999999999979, 0.8200000000000003, 1.5800000000000018, 2.1199999999999974, 1.5700000000000003, 4.16, 5.170000000000002, 5.240000000000002, 5.18, 4.619999999999997, 4.170000000000002, 4.880000000000003, 6.259999999999998, 7.850000000000001, 6.0, 7.260000000000002, 8.46, 8.61, 8.45]\n"
     ]
    }
   ],
   "source": [
    "difference6_fai = []\n",
    "\n",
    "zip_object = zip(temp, temp_crn)\n",
    "for temp_i, temp_crn_i in zip_object:\n",
    "    difference6_fai.append(temp_i-temp_crn_i)\n",
    "\n",
    "print(difference6_fai)"
   ]
  },
  {
   "cell_type": "markdown",
   "id": "142d4e9c",
   "metadata": {},
   "source": [
    "<font size=\"3\">**Selma, AL: 0600 UTC (12:00 am CST) 01 March 2022-0600 UTC (12:00 am CST) 02 March 2022</font>"
   ]
  },
  {
   "cell_type": "code",
   "execution_count": 206,
   "id": "96d329b9",
   "metadata": {},
   "outputs": [
    {
     "name": "stdout",
     "output_type": "stream",
     "text": [
      "[11.42, 10.67, 9.76001, 9.08002, 8.54001, 7.95999, 9.38, 12.78, 16.39, 19.92, 22.98, 25.32, 27.26, 28.13, 28.11, 27.28, 25.47, 23.13, 20.25, 16.49, 14.6, 13.38, 12.32, 11.41, 10.71]\n"
     ]
    }
   ],
   "source": [
    "#1 hr hrrr:\n",
    "import numpy as np\n",
    "import numpy.ma as ma\n",
    "with open('hrrr_f12_Selma_AL.txt') as f:\n",
    "    lst=[line.split()[4] for line in f]\n",
    "    temp=[]\n",
    "    for i in lst:\n",
    "        new=i.replace(',',\"\")\n",
    "        temp.append(new)\n",
    "    temp.pop(0)\n",
    "    temp=[float(x) for x in temp]\n",
    "    temp=temp[2778:2803]\n",
    "\n",
    "#     x = np.array(temp)\n",
    "#     temp = ma.masked_array(x, mask=[0, 0, 0, 0, 0,0,0,0,0,0,0,0,0,0,0,0,0,1,1,1,1,0,0,0,0])\n",
    "    print(temp)"
   ]
  },
  {
   "cell_type": "code",
   "execution_count": 207,
   "id": "08c28298",
   "metadata": {},
   "outputs": [
    {
     "name": "stdout",
     "output_type": "stream",
     "text": [
      "[9.7, 8.8, 8.2, 8.149999999999999, 7.0, 6.25, 10.15, 15.75, 20.4, 26.9, 32.35, 36.4, 39.0, 39.75, 38.25, 36.25, 32.900000000000006, 26.3, 20.3, 14.8, 12.649999999999999, 11.25, 10.4, 9.6, 8.8]\n"
     ]
    }
   ],
   "source": [
    "#Air Temp CRN:\n",
    "with open('CRNS0101-05-2022-AL_Selma_13_WNW.txt') as f:\n",
    "    lst=[line.split()[12] for line in f]\n",
    "    \n",
    "    a=(float(lst[33479])+float(lst[33480]))/2\n",
    "    b=(float(lst[33491])+float(lst[33492]))/2\n",
    "    c=(float(lst[33503])+float(lst[33504]))/2\n",
    "    d=(float(lst[33515])+float(lst[33516]))/2\n",
    "    e=(float(lst[33527])+float(lst[33528]))/2\n",
    "    f=(float(lst[33539])+float(lst[33540]))/2\n",
    "    g=(float(lst[33551])+float(lst[33552]))/2\n",
    "    h=(float(lst[33563])+float(lst[33564]))/2\n",
    "    i=(float(lst[33575])+float(lst[33576]))/2\n",
    "    j=(float(lst[33587])+float(lst[33588]))/2\n",
    "    k=(float(lst[33599])+float(lst[33600]))/2\n",
    "    l=(float(lst[33611])+float(lst[33612]))/2\n",
    "    m=(float(lst[33623])+float(lst[33624]))/2\n",
    "    n=(float(lst[33635])+float(lst[33636]))/2\n",
    "    o=(float(lst[33647])+float(lst[33648]))/2\n",
    "    p=(float(lst[33659])+float(lst[33660]))/2\n",
    "    q=(float(lst[33671])+float(lst[33672]))/2\n",
    "    r=(float(lst[33683])+float(lst[33684]))/2\n",
    "    s=(float(lst[33695])+float(lst[33696]))/2\n",
    "    t=(float(lst[33707])+float(lst[33708]))/2\n",
    "    u=(float(lst[33719])+float(lst[33720]))/2\n",
    "    v=(float(lst[33731])+float(lst[33732]))/2\n",
    "    w=(float(lst[33743])+float(lst[33744]))/2\n",
    "    x=(float(lst[33755])+float(lst[33756]))/2\n",
    "    y=(float(lst[33767])+float(lst[33768]))/2\n",
    "    \n",
    "    temp_crn=[a,b,c,d,e,f,g,h,i,j,k,l,m,n,o,p,q,r,s,t,u,v,w,x,y]\n",
    "    print(temp_crn)"
   ]
  },
  {
   "cell_type": "code",
   "execution_count": 208,
   "id": "9d9623a2",
   "metadata": {},
   "outputs": [
    {
     "name": "stdout",
     "output_type": "stream",
     "text": [
      "[1.7200000000000006, 1.8699999999999992, 1.5600100000000001, 0.9300200000000007, 1.5400100000000005, 1.7099900000000003, -0.7699999999999996, -2.9700000000000006, -4.009999999999998, -6.979999999999997, -9.370000000000001, -11.079999999999998, -11.739999999999998, -11.620000000000001, -10.14, -8.969999999999999, -7.430000000000007, -3.1700000000000017, -0.05000000000000071, 1.6899999999999977, 1.950000000000001, 2.130000000000001, 1.92, 1.8100000000000005, 1.9100000000000001]\n"
     ]
    }
   ],
   "source": [
    "difference6_sel = []\n",
    "\n",
    "zip_object = zip(temp, temp_crn)\n",
    "for temp_i, temp_crn_i in zip_object:\n",
    "    difference6_sel.append(temp_i-temp_crn_i)\n",
    "\n",
    "print(difference6_sel)\n",
    "#print(len(difference3_sel))"
   ]
  },
  {
   "cell_type": "markdown",
   "id": "36c4d6a8",
   "metadata": {},
   "source": [
    "<font size=\"3\">Bowling Green, KY: 0600 UTC (12:00 am CST) 01 March 2022-0600 UTC (12:00 am CST) 02 March 2022</font>"
   ]
  },
  {
   "cell_type": "code",
   "execution_count": 209,
   "id": "d83d7c4d",
   "metadata": {},
   "outputs": [
    {
     "name": "stdout",
     "output_type": "stream",
     "text": [
      "[5.61002, 5.13, 4.5, 4.19, 3.83002, 3.69, 6.56, 11.4, 15.59, 19.64, 23.31, 25.76, 27.08, 27.35, 27.14, 26.05, 23.89, 21.09, 18.01, 14.78, 13.39, 12.04, 11.41, 10.82, 9.70999]\n"
     ]
    }
   ],
   "source": [
    "#1 hr hrrr:\n",
    "with open('hrrr_f12_Bowling Green_KY.txt') as f:\n",
    "    lst=[line.split()[4] for line in f]\n",
    "    temp=[]\n",
    "    for i in lst:\n",
    "        new=i.replace(',',\"\")\n",
    "        temp.append(new)\n",
    "    temp.pop(0)\n",
    "    temp=[float(x) for x in temp]\n",
    "    temp=temp[2778:2803]\n",
    "    #temp=temp[2015:2063]\n",
    "    print(temp)\n",
    "    #print(len(temp))\n",
    "#full time period is [2015:2112]"
   ]
  },
  {
   "cell_type": "code",
   "execution_count": 210,
   "id": "e74d2987",
   "metadata": {},
   "outputs": [
    {
     "name": "stdout",
     "output_type": "stream",
     "text": [
      "[2.3, 1.9, 1.6, 1.55, 1.2, 1.15, 6.85, 11.85, 15.75, 19.0, 22.8, 24.299999999999997, 26.05, 26.65, 25.25, 24.5, 22.2, 18.25, 12.7, 8.8, 7.9, 7.85, 7.6, 7.95, 6.6]\n"
     ]
    }
   ],
   "source": [
    "#Air Temp CRN:\n",
    "with open('CRNS0101-05-2022-KY_Bowling_Green_21_NNE.txt') as f:\n",
    "    lst=[line.split()[12] for line in f]\n",
    "    \n",
    "    a=(float(lst[33479])+float(lst[33480]))/2\n",
    "    b=(float(lst[33491])+float(lst[33492]))/2\n",
    "    c=(float(lst[33503])+float(lst[33504]))/2\n",
    "    d=(float(lst[33515])+float(lst[33516]))/2\n",
    "    e=(float(lst[33527])+float(lst[33528]))/2\n",
    "    f=(float(lst[33539])+float(lst[33540]))/2\n",
    "    g=(float(lst[33551])+float(lst[33552]))/2\n",
    "    h=(float(lst[33563])+float(lst[33564]))/2\n",
    "    i=(float(lst[33575])+float(lst[33576]))/2\n",
    "    j=(float(lst[33587])+float(lst[33588]))/2\n",
    "    k=(float(lst[33599])+float(lst[33600]))/2\n",
    "    l=(float(lst[33611])+float(lst[33612]))/2\n",
    "    m=(float(lst[33623])+float(lst[33624]))/2\n",
    "    n=(float(lst[33635])+float(lst[33636]))/2\n",
    "    o=(float(lst[33647])+float(lst[33648]))/2\n",
    "    p=(float(lst[33659])+float(lst[33660]))/2\n",
    "    q=(float(lst[33671])+float(lst[33672]))/2\n",
    "    r=(float(lst[33683])+float(lst[33684]))/2\n",
    "    s=(float(lst[33695])+float(lst[33696]))/2\n",
    "    t=(float(lst[33707])+float(lst[33708]))/2\n",
    "    u=(float(lst[33719])+float(lst[33720]))/2\n",
    "    v=(float(lst[33731])+float(lst[33732]))/2\n",
    "    w=(float(lst[33743])+float(lst[33744]))/2\n",
    "    x=(float(lst[33755])+float(lst[33756]))/2\n",
    "    y=(float(lst[33767])+float(lst[33768]))/2\n",
    "    \n",
    "    temp_crn=[a,b,c,d,e,f,g,h,i,j,k,l,m,n,o,p,q,r,s,t,u,v,w,x,y]\n",
    "    print(temp_crn)"
   ]
  },
  {
   "cell_type": "code",
   "execution_count": 211,
   "id": "e091d5ac",
   "metadata": {},
   "outputs": [
    {
     "name": "stdout",
     "output_type": "stream",
     "text": [
      "[3.3100199999999997, 3.23, 2.9, 2.6400000000000006, 2.63002, 2.54, -0.29000000000000004, -0.4499999999999993, -0.16000000000000014, 0.6400000000000006, 0.509999999999998, 1.4600000000000044, 1.0299999999999976, 0.7000000000000028, 1.8900000000000006, 1.5500000000000007, 1.6900000000000013, 2.84, 5.310000000000002, 5.979999999999999, 5.49, 4.1899999999999995, 3.8100000000000005, 2.87, 3.10999]\n"
     ]
    }
   ],
   "source": [
    "difference6_bow = []\n",
    "\n",
    "zip_object = zip(temp, temp_crn)\n",
    "for temp_i, temp_crn_i in zip_object:\n",
    "    difference6_bow.append(temp_i-temp_crn_i)\n",
    "\n",
    "print(difference6_bow)"
   ]
  },
  {
   "cell_type": "markdown",
   "id": "f806c48f",
   "metadata": {},
   "source": [
    "<font size=\"3\">Gadsden, AL: 0600 UTC (12:00 am CST) 01 March 2022-0600 UTC (12:00 am CST) 02 March 2022</font>"
   ]
  },
  {
   "cell_type": "code",
   "execution_count": 212,
   "id": "8d69cb25",
   "metadata": {},
   "outputs": [
    {
     "name": "stdout",
     "output_type": "stream",
     "text": [
      "[8.04001, 7.45001, 6.95999, 6.60001, 6.26001, 5.59, 7.29001, 10.89, 14.61, 18.6, 21.8, 24.39, 26.05, 26.01, 25.95, 24.86, 23.1, 20.63, 17.65, 15.56, 14.03, 12.16, 11.08, 9.94, 9.67999]\n"
     ]
    }
   ],
   "source": [
    "#1 hr hrrr:\n",
    "with open('hrrr_f12_Gadsden_AL.txt') as f:\n",
    "    lst=[line.split()[4] for line in f]\n",
    "    temp=[]\n",
    "    for i in lst:\n",
    "        new=i.replace(',',\"\")\n",
    "        temp.append(new)\n",
    "    temp.pop(0)\n",
    "    temp=[float(x) for x in temp]\n",
    "    temp=temp[2778:2803]\n",
    "#     x = np.array(temp)\n",
    "#     temp = ma.masked_array(x, mask=[0, 0, 0, 0, 0,0,0,0,1,0,0,0,0,0,0,0,0,0,0,0,0,0,0,0,0])\n",
    "    #temp=temp[2015:2063]\n",
    "    print(temp)\n",
    "    #print(len(temp))\n",
    "#full time period is [2015:2112]"
   ]
  },
  {
   "cell_type": "code",
   "execution_count": 213,
   "id": "8090f870",
   "metadata": {},
   "outputs": [
    {
     "name": "stdout",
     "output_type": "stream",
     "text": [
      "[7.15, 6.3, 4.949999999999999, 5.5, 4.5, 3.1, 8.600000000000001, 13.6, 16.450000000000003, 20.4, 24.8, 27.15, 28.05, 27.95, 26.799999999999997, 24.9, 23.450000000000003, 19.3, 15.3, 10.9, 9.75, 8.3, 7.65, 6.800000000000001, 6.4]\n"
     ]
    }
   ],
   "source": [
    "#Air Temp CRN:\n",
    "with open('CRNS0101-05-2022-AL_Gadsden_19_N.txt') as f:\n",
    "    lst=[line.split()[12] for line in f]\n",
    "    \n",
    "    a=(float(lst[33479])+float(lst[33480]))/2\n",
    "    b=(float(lst[33491])+float(lst[33492]))/2\n",
    "    c=(float(lst[33503])+float(lst[33504]))/2\n",
    "    d=(float(lst[33515])+float(lst[33516]))/2\n",
    "    e=(float(lst[33527])+float(lst[33528]))/2\n",
    "    f=(float(lst[33539])+float(lst[33540]))/2\n",
    "    g=(float(lst[33551])+float(lst[33552]))/2\n",
    "    h=(float(lst[33563])+float(lst[33564]))/2\n",
    "    i=(float(lst[33575])+float(lst[33576]))/2\n",
    "    j=(float(lst[33587])+float(lst[33588]))/2\n",
    "    k=(float(lst[33599])+float(lst[33600]))/2\n",
    "    l=(float(lst[33611])+float(lst[33612]))/2\n",
    "    m=(float(lst[33623])+float(lst[33624]))/2\n",
    "    n=(float(lst[33635])+float(lst[33636]))/2\n",
    "    o=(float(lst[33647])+float(lst[33648]))/2\n",
    "    p=(float(lst[33659])+float(lst[33660]))/2\n",
    "    q=(float(lst[33671])+float(lst[33672]))/2\n",
    "    r=(float(lst[33683])+float(lst[33684]))/2\n",
    "    s=(float(lst[33695])+float(lst[33696]))/2\n",
    "    t=(float(lst[33707])+float(lst[33708]))/2\n",
    "    u=(float(lst[33719])+float(lst[33720]))/2\n",
    "    v=(float(lst[33731])+float(lst[33732]))/2\n",
    "    w=(float(lst[33743])+float(lst[33744]))/2\n",
    "    x=(float(lst[33755])+float(lst[33756]))/2\n",
    "    y=(float(lst[33767])+float(lst[33768]))/2\n",
    "    \n",
    "    temp_crn=[a,b,c,d,e,f,g,h,i,j,k,l,m,n,o,p,q,r,s,t,u,v,w,x,y]\n",
    "    print(temp_crn)"
   ]
  },
  {
   "cell_type": "code",
   "execution_count": 214,
   "id": "8b6d3e05",
   "metadata": {},
   "outputs": [
    {
     "name": "stdout",
     "output_type": "stream",
     "text": [
      "[0.8900100000000002, 1.15001, 2.009990000000001, 1.1000100000000002, 1.7600100000000003, 2.4899999999999998, -1.3099900000000018, -2.709999999999999, -1.8400000000000034, -1.7999999999999972, -3.0, -2.759999999999998, -2.0, -1.9399999999999977, -0.8499999999999979, -0.03999999999999915, -0.3500000000000014, 1.3299999999999983, 2.349999999999998, 4.66, 4.279999999999999, 3.8599999999999994, 3.4299999999999997, 3.139999999999999, 3.2799899999999997]\n"
     ]
    }
   ],
   "source": [
    "difference6_gad = []\n",
    "\n",
    "zip_object = zip(temp, temp_crn)\n",
    "for temp_i, temp_crn_i in zip_object:\n",
    "    difference6_gad.append(temp_i-temp_crn_i)\n",
    "\n",
    "print(difference6_gad)"
   ]
  },
  {
   "cell_type": "markdown",
   "id": "a0cf3d12",
   "metadata": {},
   "source": [
    "<font size=\"3\">Newton, GA: 0600 UTC (12:00 am CST) 01 March 2022-0600 UTC (12:00 am CST) 02 March 2022</font>"
   ]
  },
  {
   "cell_type": "code",
   "execution_count": 215,
   "id": "3fd04e58",
   "metadata": {},
   "outputs": [
    {
     "name": "stdout",
     "output_type": "stream",
     "text": [
      "[18.37, 17.53, 17.0, 15.91, 15.32, 15.38, 16.51, 19.86, 24.17, 28.49, 32.0, 33.95, 35.31, 35.19, 34.56, 33.4, 31.12, 28.21, 24.54, 21.99, 20.55, 19.28, 18.46, 17.36, 16.18]\n"
     ]
    }
   ],
   "source": [
    "#1 hr hrrr:\n",
    "with open('hrrr_f12_Newton_GA.txt') as f:\n",
    "    lst=[line.split()[4] for line in f]\n",
    "    temp=[]\n",
    "    for i in lst:\n",
    "        new=i.replace(',',\"\")\n",
    "        temp.append(new)\n",
    "    temp.pop(0)\n",
    "    temp=[float(x) for x in temp]\n",
    "    temp=temp[2778:2803]\n",
    "    #temp=temp[2015:2063]\n",
    "    print(temp)\n",
    "    #print(len(temp))\n",
    "#full time period is [2015:2112]"
   ]
  },
  {
   "cell_type": "code",
   "execution_count": 216,
   "id": "b2f733b9",
   "metadata": {},
   "outputs": [
    {
     "name": "stdout",
     "output_type": "stream",
     "text": [
      "[17.25, 15.7, 15.7, 15.1, 14.25, 13.55, 16.05, 20.75, 27.3, 32.4, 38.25, 41.8, 43.95, 43.15, 41.2, 37.85, 33.05, 27.65, 21.2, 18.05, 16.65, 15.75, 14.850000000000001, 14.05, 13.6]\n"
     ]
    }
   ],
   "source": [
    "#Air Temp CRN:\n",
    "with open('CRNS0101-05-2022-GA_Newton_11_SW.txt') as f:\n",
    "    lst=[line.split()[12] for line in f]\n",
    "    \n",
    "    a=(float(lst[33479])+float(lst[33480]))/2\n",
    "    b=(float(lst[33491])+float(lst[33492]))/2\n",
    "    c=(float(lst[33503])+float(lst[33504]))/2\n",
    "    d=(float(lst[33515])+float(lst[33516]))/2\n",
    "    e=(float(lst[33527])+float(lst[33528]))/2\n",
    "    f=(float(lst[33539])+float(lst[33540]))/2\n",
    "    g=(float(lst[33551])+float(lst[33552]))/2\n",
    "    h=(float(lst[33563])+float(lst[33564]))/2\n",
    "    i=(float(lst[33575])+float(lst[33576]))/2\n",
    "    j=(float(lst[33587])+float(lst[33588]))/2\n",
    "    k=(float(lst[33599])+float(lst[33600]))/2\n",
    "    l=(float(lst[33611])+float(lst[33612]))/2\n",
    "    m=(float(lst[33623])+float(lst[33624]))/2\n",
    "    n=(float(lst[33635])+float(lst[33636]))/2\n",
    "    o=(float(lst[33647])+float(lst[33648]))/2\n",
    "    p=(float(lst[33659])+float(lst[33660]))/2\n",
    "    q=(float(lst[33671])+float(lst[33672]))/2\n",
    "    r=(float(lst[33683])+float(lst[33684]))/2\n",
    "    s=(float(lst[33695])+float(lst[33696]))/2\n",
    "    t=(float(lst[33707])+float(lst[33708]))/2\n",
    "    u=(float(lst[33719])+float(lst[33720]))/2\n",
    "    v=(float(lst[33731])+float(lst[33732]))/2\n",
    "    w=(float(lst[33743])+float(lst[33744]))/2\n",
    "    x=(float(lst[33755])+float(lst[33756]))/2\n",
    "    y=(float(lst[33767])+float(lst[33768]))/2\n",
    "    \n",
    "    temp_crn=[a,b,c,d,e,f,g,h,i,j,k,l,m,n,o,p,q,r,s,t,u,v,w,x,y]\n",
    "    print(temp_crn)"
   ]
  },
  {
   "cell_type": "code",
   "execution_count": 217,
   "id": "53f1a23a",
   "metadata": {},
   "outputs": [
    {
     "name": "stdout",
     "output_type": "stream",
     "text": [
      "[1.120000000000001, 1.8300000000000018, 1.3000000000000007, 0.8100000000000005, 1.0700000000000003, 1.83, 0.46000000000000085, -0.8900000000000006, -3.129999999999999, -3.91, -6.25, -7.849999999999994, -8.64, -7.960000000000001, -6.640000000000001, -4.450000000000003, -1.9299999999999962, 0.5600000000000023, 3.34, 3.9399999999999977, 3.900000000000002, 3.530000000000001, 3.6099999999999994, 3.3099999999999987, 2.58]\n"
     ]
    }
   ],
   "source": [
    "difference6_newt = []\n",
    "\n",
    "zip_object = zip(temp, temp_crn)\n",
    "for temp_i, temp_crn_i in zip_object:\n",
    "    difference6_newt.append(temp_i-temp_crn_i)\n",
    "\n",
    "print(difference6_newt)"
   ]
  },
  {
   "cell_type": "code",
   "execution_count": 218,
   "id": "8a134c48",
   "metadata": {},
   "outputs": [
    {
     "name": "stdout",
     "output_type": "stream",
     "text": [
      "25\n"
     ]
    }
   ],
   "source": [
    "hour=[6,7,8,9,10,11,12,13,14,15,16,17,18,19,20,21,22,23,0,1,2,3,4,5,6]\n",
    "print(len(hour))"
   ]
  },
  {
   "cell_type": "code",
   "execution_count": 219,
   "id": "45def68f",
   "metadata": {},
   "outputs": [
    {
     "name": "stdout",
     "output_type": "stream",
     "text": [
      "range(0, 25)\n"
     ]
    }
   ],
   "source": [
    "xs = range(len(hour))\n",
    "print(xs)"
   ]
  },
  {
   "cell_type": "code",
   "execution_count": 220,
   "id": "d5fd370b",
   "metadata": {},
   "outputs": [
    {
     "name": "stdout",
     "output_type": "stream",
     "text": [
      "[ 3.63727364  3.79727909  3.55727955  3.42818227  3.30273877  3.00000982\n",
      "  2.69727527  1.27182109 -0.98454545 -2.67091091 -4.10181818 -4.81272727\n",
      " -4.31090909 -3.32       -2.59545455 -1.56818182  0.28        2.24545455\n",
      "  4.70091     4.77454909  5.06545818  5.15455364  5.31000364  5.06545818\n",
      "  4.89182182]\n",
      "[1.69225205 1.49088512 1.68375341 1.34684643 0.95094473 0.85855829\n",
      " 1.33568602 1.23986857 2.00613374 1.98347138 1.98467684 2.44191836\n",
      " 2.86833957 2.26505067 2.20029074 2.18467729 1.90830243 1.67782524\n",
      " 2.3938868  1.99968829 2.06266495 1.96570483 1.93965453 1.84348216\n",
      " 1.7924229 ]\n"
     ]
    },
    {
     "data": {
      "text/plain": [
       "25"
      ]
     },
     "execution_count": 220,
     "metadata": {},
     "output_type": "execute_result"
    }
   ],
   "source": [
    "# data = np.array([difference1_sal,difference1_sel,difference1_mon])\n",
    "# np.ma.average(data, axis=0)\n",
    "c1 = np.array([difference1_sal,difference1_bat,difference1_laf,difference1_mon,difference1_hol,difference1_new,difference1_fai,difference1_sel,difference1_bow,difference1_gad,difference1_newt])\n",
    "c1=np.nanmean(c1, axis=0)\n",
    "print(c1)\n",
    "len(c1)\n",
    "\n",
    "b1 = np.array([difference1_sal,difference1_bat,difference1_laf,difference1_mon,difference1_hol,difference1_new,difference1_fai,difference1_sel,difference1_bow,difference1_gad,difference1_newt])\n",
    "b1=np.nanstd(b1, axis=0)\n",
    "print(b1)\n",
    "len(b1)"
   ]
  },
  {
   "cell_type": "code",
   "execution_count": 221,
   "id": "7d6e3e43",
   "metadata": {},
   "outputs": [
    {
     "data": {
      "image/png": "[encoded data removed]",
      "text/plain": [
       "<Figure size 792x396 with 1 Axes>"
      ]
     },
     "metadata": {},
     "output_type": "display_data"
    }
   ],
   "source": [
    "plt.style.use('seaborn-whitegrid')\n",
    "plt.rcParams[\"figure.figsize\"] = [11.00, 5.50]\n",
    "plt.rcParams[\"figure.autolayout\"] = True\n",
    "plt.yticks(np.arange(-10,12,2))\n",
    "plt.ylim(-10,10)\n",
    "# c[6]=None\n",
    "# b[6]=None\n",
    "\n",
    "plt.plot(xs,c1,c=\"b\")\n",
    "plt.errorbar(xs,c1,c=\"b\",yerr=b1,linestyle='None', marker='s')\n",
    "# c[6]=None\n",
    "# b[6]=None\n",
    "\n",
    "plt.title(\"12-hr Avg. MBE All Stations\")\n",
    "plt.xlabel(\"UTC Hour\")\n",
    "plt.ylabel(\"MBE Surface Temperature (C)\")\n",
    "#plt.plot(hour,c)\n",
    "#plt.errorbar(hour,c,yerr=b,ecolor='r',elinewidth=5,fmt='s',color='k')\n",
    "#plt.grid()\n",
    "#plt.xticks(np.arange(min(xs), max(xs)+1, 1.0))\n",
    "plt.xticks(xs, hour)\n",
    "plt.show()\n",
    "#plt.axvspan(-4, 4, color='green', alpha=0.2, lw=0)"
   ]
  },
  {
   "cell_type": "code",
   "execution_count": 222,
   "id": "d14691f0",
   "metadata": {},
   "outputs": [
    {
     "name": "stdout",
     "output_type": "stream",
     "text": [
      "[ 2.85091636  2.56000632  2.71546127  2.37637364  1.89909718  1.86818543\n",
      "  1.75273755  0.31091155 -1.27272182 -2.93454136 -3.70818182 -4.52999909\n",
      " -4.65909091 -3.57272727 -2.98818182 -1.42909091 -0.21545455  1.49\n",
      "  3.23091182  4.31182364  3.93090909  3.31364182  2.95455     2.58728091\n",
      "  1.97727664]\n",
      "[1.72845084 1.83540628 2.11624063 2.07300859 1.4961764  1.43779741\n",
      " 1.22855479 1.2132395  1.88061583 2.31201908 3.42378749 3.75978399\n",
      " 3.2394148  2.86108718 2.74500147 2.70114943 1.77427764 2.02604406\n",
      " 2.15034405 2.71727931 2.23553503 2.28283889 2.49956703 2.46548222\n",
      " 2.26684663]\n"
     ]
    },
    {
     "data": {
      "text/plain": [
       "25"
      ]
     },
     "execution_count": 222,
     "metadata": {},
     "output_type": "execute_result"
    }
   ],
   "source": [
    "c2 = np.array([difference2_sal,difference2_bat,difference2_laf,difference2_mon,difference2_hol,difference2_new,difference2_fai,difference2_sel,difference2_bow,difference2_gad,difference2_newt])\n",
    "c2=np.nanmean(c2, axis=0)\n",
    "print(c2)\n",
    "len(c2)\n",
    "\n",
    "b2 = np.array([difference2_sal,difference2_bat,difference2_laf,difference2_mon,difference2_hol,difference2_new,difference2_fai,difference2_sel,difference2_bow,difference2_gad,difference2_newt])\n",
    "b2=np.nanstd(b2, axis=0)\n",
    "print(b2)\n",
    "len(b2)"
   ]
  },
  {
   "cell_type": "code",
   "execution_count": 223,
   "id": "4c8ac8a3",
   "metadata": {},
   "outputs": [
    {
     "data": {
      "image/png": "[encoded data removed]",
      "text/plain": [
       "<Figure size 792x396 with 1 Axes>"
      ]
     },
     "metadata": {},
     "output_type": "display_data"
    }
   ],
   "source": [
    "plt.style.use('seaborn-whitegrid')\n",
    "plt.rcParams[\"figure.figsize\"] = [11.00, 5.50]\n",
    "plt.yticks(np.arange(-10,12,2))\n",
    "plt.ylim(-10,10)\n",
    "# c[6]=None\n",
    "# b[6]=None\n",
    "\n",
    "plt.plot(xs,c2,c=\"red\")\n",
    "plt.errorbar(xs,c2,c=\"red\",yerr=b1,linestyle='None', marker='s')\n",
    "# c[6]=None\n",
    "# b[6]=None\n",
    "\n",
    "plt.title(\"12-hr Avg. MBE All Stations\")\n",
    "plt.xlabel(\"UTC Hour\")\n",
    "plt.ylabel(\"MBE Surface Temperature (C)\")\n",
    "#plt.plot(hour,c)\n",
    "#plt.errorbar(hour,c,yerr=b,ecolor='r',elinewidth=5,fmt='s',color='k')\n",
    "#plt.grid()\n",
    "#plt.xticks(np.arange(min(xs), max(xs)+1, 1.0))\n",
    "plt.xticks(xs, hour)\n",
    "plt.show()\n",
    "#plt.axvspan(-4, 4, color='green', alpha=0.2, lw=0)"
   ]
  },
  {
   "cell_type": "code",
   "execution_count": 224,
   "id": "e0b94a04",
   "metadata": {},
   "outputs": [
    {
     "name": "stdout",
     "output_type": "stream",
     "text": [
      "[ 4.15636273  3.93728091  3.72273036  3.63819122  3.64545673  3.66091373\n",
      "  3.44728182  0.57636636 -1.43818182 -2.44181818 -3.61727273 -3.76545455\n",
      " -3.61545455 -2.75818182 -1.81090909 -0.86090909  0.87181818  2.48727273\n",
      "  5.06        5.33        4.73909182  4.25818455  4.42727545  4.31272909\n",
      "  3.95091091]\n",
      "[2.12385361 2.11138548 2.20407337 2.07404354 2.03621405 1.95514885\n",
      " 2.14417662 1.73244881 1.86214841 2.50113726 2.90952383 3.41252603\n",
      " 4.15314199 4.24178311 4.52330019 3.71198661 3.05476325 3.02107173\n",
      " 2.97597959 2.9199066  2.43563869 2.27665054 2.13024451 2.07431334\n",
      " 2.03388935]\n"
     ]
    },
    {
     "data": {
      "text/plain": [
       "25"
      ]
     },
     "execution_count": 224,
     "metadata": {},
     "output_type": "execute_result"
    }
   ],
   "source": [
    "c3 = np.array([difference3_sal,difference3_bat,difference3_laf,difference3_mon,difference3_hol,difference3_new,difference3_fai,difference3_sel,difference3_bow,difference3_gad,difference3_newt])\n",
    "c3=np.nanmean(c3, axis=0)\n",
    "print(c3)\n",
    "len(c3)\n",
    "\n",
    "b3 = np.array([difference3_sal,difference3_bat,difference3_laf,difference3_mon,difference3_hol,difference3_new,difference3_fai,difference3_sel,difference3_bow,difference3_gad,difference3_newt])\n",
    "b3=np.nanstd(b3, axis=0)\n",
    "print(b3)\n",
    "len(b3)"
   ]
  },
  {
   "cell_type": "code",
   "execution_count": 225,
   "id": "0d8bef30",
   "metadata": {
    "scrolled": false
   },
   "outputs": [],
   "source": [
    "# def mean(numbers):\n",
    "#     return float(sum(numbers)) / max(len(numbers), 1)\n",
    "\n",
    "# # difference1_sel[17]=0\n",
    "# # difference1_sel[18]=0\n",
    "# # difference1_sel[19]=0\n",
    "# # difference1_sel[20]=0\n",
    "# c3 = [mean(i) for i in zip(difference3_sal,difference3_bat,difference3_laf,difference3_mon,difference3_hol,difference3_new,difference3_gai,difference3_fai,difference3_sel,difference3_bow,difference3_gad,difference3_newt)]\n",
    "# #difference1_bow[6]=0\n",
    "# b3 = [np.std(i) for i in zip(difference3_sal,difference3_bat,difference3_laf,difference3_mon,difference3_hol,difference3_new,difference3_gai,difference3_fai,difference3_sel,difference3_bow,difference3_gad,difference3_newt)]\n",
    "# print (c3)\n",
    "# print(len(c3))\n",
    "# print(b3)\n",
    "# print(len(b3))"
   ]
  },
  {
   "cell_type": "code",
   "execution_count": 226,
   "id": "00a5e783",
   "metadata": {},
   "outputs": [
    {
     "data": {
      "image/png": "[encoded data removed]",
      "text/plain": [
       "<Figure size 792x396 with 1 Axes>"
      ]
     },
     "metadata": {},
     "output_type": "display_data"
    }
   ],
   "source": [
    "plt.style.use('seaborn-whitegrid')\n",
    "plt.rcParams[\"figure.figsize\"] = [11.00, 5.50]\n",
    "plt.rcParams[\"figure.autolayout\"] = True\n",
    "plt.yticks(np.arange(-10,12,2))\n",
    "plt.ylim(-10,10)\n",
    "# c[6]=None\n",
    "# b[6]=None\n",
    "\n",
    "plt.plot(xs,c3,c=\"green\")\n",
    "plt.errorbar(xs,c3,c=\"green\",yerr=b3,linestyle='None', marker='s')\n",
    "# c[6]=None\n",
    "# b[6]=None\n",
    "\n",
    "plt.title(\"12-hr Avg. MBE All Stations\")\n",
    "plt.xlabel(\"UTC Hour\")\n",
    "plt.ylabel(\"MBE Surface Temperature (C)\")\n",
    "#plt.plot(hour,c)\n",
    "#plt.errorbar(hour,c,yerr=b,ecolor='r',elinewidth=5,fmt='s',color='k')\n",
    "#plt.grid()\n",
    "#plt.xticks(np.arange(min(xs), max(xs)+1, 1.0))\n",
    "plt.xticks(xs, hour)\n",
    "plt.show()\n",
    "#plt.axvspan(-4, 4, color='green', alpha=0.2, lw=0)"
   ]
  },
  {
   "cell_type": "code",
   "execution_count": 227,
   "id": "a2b4f439",
   "metadata": {},
   "outputs": [
    {
     "name": "stdout",
     "output_type": "stream",
     "text": [
      "[ 4.08546     4.01363455  3.76545818  3.86818636  3.65364364  3.66637\n",
      "  2.55364345 -0.37454273 -1.50908818 -2.17181818 -3.00090909 -3.40454545\n",
      " -2.78636364 -2.07363636 -0.86727273 -0.14818182  1.11909091  3.47363636\n",
      "  4.04181818  4.51091     4.02818273  3.47454455  3.39363455  3.03454727\n",
      "  2.95818273]\n",
      "[1.84085003 1.64112236 1.74425901 1.75817476 1.86882329 1.69655411\n",
      " 1.80604583 1.51979983 1.69316209 2.38635827 3.33893139 4.00182541\n",
      " 4.16268548 3.89967195 3.27669482 4.18047587 3.00754341 2.29503525\n",
      " 2.14125205 2.27121749 1.98333017 1.92405978 1.88779468 2.11529651\n",
      " 1.86101452]\n"
     ]
    },
    {
     "data": {
      "text/plain": [
       "25"
      ]
     },
     "execution_count": 227,
     "metadata": {},
     "output_type": "execute_result"
    }
   ],
   "source": [
    "c4 = np.array([difference4_sal,difference4_bat,difference4_laf,difference4_mon,difference4_hol,difference4_new,difference4_fai,difference4_sel,difference4_bow,difference4_gad,difference4_newt])\n",
    "c4=np.nanmean(c4, axis=0)\n",
    "print(c4)\n",
    "len(c4)\n",
    "\n",
    "b4 = np.array([difference4_sal,difference4_bat,difference4_laf,difference4_mon,difference4_hol,difference4_new,difference4_fai,difference4_sel,difference4_bow,difference4_gad,difference4_newt])\n",
    "b4=np.nanstd(b4, axis=0)\n",
    "print(b4)\n",
    "len(b4)"
   ]
  },
  {
   "cell_type": "code",
   "execution_count": 228,
   "id": "b1774c6c",
   "metadata": {
    "scrolled": false
   },
   "outputs": [],
   "source": [
    "# def mean(numbers):\n",
    "#     return float(sum(numbers)) / max(len(numbers), 1)\n",
    "\n",
    "# # difference1_sel[17]=0\n",
    "# # difference1_sel[18]=0\n",
    "# # difference1_sel[19]=0\n",
    "# # difference1_sel[20]=0\n",
    "# c4 = [mean(i) for i in zip(difference4_sal,difference4_bat,difference4_laf,difference4_mon,difference4_hol,difference4_new,difference4_gai,difference4_fai,difference4_sel,difference4_bow,difference4_gad,difference4_newt)]\n",
    "# #difference1_bow[6]=0\n",
    "# b4 = [np.std(i) for i in zip(difference4_sal,difference4_bat,difference4_laf,difference4_mon,difference4_hol,difference4_new,difference4_gai,difference4_fai,difference4_sel,difference4_bow,difference4_gad,difference4_newt)]\n",
    "# print (c4)\n",
    "# print(len(c4))\n",
    "# print(b4)\n",
    "# print(len(b4))"
   ]
  },
  {
   "cell_type": "code",
   "execution_count": 229,
   "id": "e70a6cef",
   "metadata": {},
   "outputs": [
    {
     "data": {
      "image/png": "[encoded data removed]",
      "text/plain": [
       "<Figure size 792x396 with 1 Axes>"
      ]
     },
     "metadata": {},
     "output_type": "display_data"
    }
   ],
   "source": [
    "plt.style.use('seaborn-whitegrid')\n",
    "plt.rcParams[\"figure.figsize\"] = [11.00, 5.50]\n",
    "plt.rcParams[\"figure.autolayout\"] = True\n",
    "plt.yticks(np.arange(-10,12,2))\n",
    "plt.ylim(-10,10)\n",
    "# c[6]=None\n",
    "# b[6]=None\n",
    "\n",
    "plt.plot(xs,c4,c=\"orange\")\n",
    "plt.errorbar(xs,c4,c=\"orange\",yerr=b4,linestyle='None', marker='s')\n",
    "# c[6]=None\n",
    "# b[6]=None\n",
    "\n",
    "plt.title(\"12-hr Avg. MBE All Stations\")\n",
    "plt.xlabel(\"UTC Hour\")\n",
    "plt.ylabel(\"MBE Surface Temperature (C)\")\n",
    "#plt.plot(hour,c)\n",
    "#plt.errorbar(hour,c,yerr=b,ecolor='r',elinewidth=5,fmt='s',color='k')\n",
    "#plt.grid()\n",
    "#plt.xticks(np.arange(min(xs), max(xs)+1, 1.0))\n",
    "plt.xticks(xs, hour)\n",
    "plt.show()\n",
    "#plt.axvspan(-4, 4, color='green', alpha=0.2, lw=0)"
   ]
  },
  {
   "cell_type": "code",
   "execution_count": 230,
   "id": "410bac86",
   "metadata": {},
   "outputs": [
    {
     "name": "stdout",
     "output_type": "stream",
     "text": [
      "[ 1.43363791  1.74909843  1.67909318  1.88182164  2.00454664  1.99273464\n",
      "  0.61909518 -1.06545    -1.28182    -2.41818182 -2.62545455 -3.04\n",
      " -3.08272727 -2.40636364 -1.40454545 -1.40090909 -0.91363636  0.72090909\n",
      "  2.67545455  3.98727636  3.85273     3.46727364  2.77727636  2.47091182\n",
      "  2.13637182]\n",
      "[1.51720622 1.24313646 1.05588077 1.30912409 1.57432757 1.59156599\n",
      " 1.24735608 1.14824946 2.02592462 2.98779279 3.87577878 4.10281943\n",
      " 4.90762318 4.93033702 4.86970853 4.5310333  4.22306281 3.56437284\n",
      " 2.6261668  2.51451677 2.34982367 2.59887955 2.13113981 2.25516821\n",
      " 2.08527699]\n"
     ]
    },
    {
     "data": {
      "text/plain": [
       "25"
      ]
     },
     "execution_count": 230,
     "metadata": {},
     "output_type": "execute_result"
    }
   ],
   "source": [
    "# data = np.array([difference1_sal,difference1_sel,difference1_mon])\n",
    "# np.ma.average(data, axis=0)\n",
    "c5 = np.array([difference5_sal,difference5_bat,difference5_laf,difference5_mon,difference5_hol,difference5_new,difference5_fai,difference5_sel,difference5_bow,difference5_gad,difference5_newt])\n",
    "c5=np.nanmean(c5, axis=0)\n",
    "print(c5)\n",
    "len(c5)\n",
    "\n",
    "b5 = np.array([difference5_sal,difference5_bat,difference5_laf,difference5_mon,difference5_hol,difference5_new,difference5_fai,difference5_sel,difference5_bow,difference5_gad,difference5_newt])\n",
    "b5=np.nanstd(b5, axis=0)\n",
    "print(b5)\n",
    "len(b5)"
   ]
  },
  {
   "cell_type": "code",
   "execution_count": 231,
   "id": "ac07d6b1",
   "metadata": {},
   "outputs": [
    {
     "data": {
      "image/png": "[encoded data removed]",
      "text/plain": [
       "<Figure size 792x396 with 1 Axes>"
      ]
     },
     "metadata": {},
     "output_type": "display_data"
    }
   ],
   "source": [
    "plt.style.use('seaborn-whitegrid')\n",
    "plt.rcParams[\"figure.figsize\"] = [11.00, 5.50]\n",
    "plt.rcParams[\"figure.autolayout\"] = True\n",
    "plt.yticks(np.arange(-10,12,2))\n",
    "plt.ylim(-10,10)\n",
    "# c[6]=None\n",
    "# b[6]=None\n",
    "\n",
    "plt.plot(xs,c5,c=\"m\")\n",
    "plt.errorbar(xs,c5,c=\"m\",yerr=b1,linestyle='None', marker='s')\n",
    "# c[6]=None\n",
    "# b[6]=None\n",
    "\n",
    "plt.title(\"12-hr Avg. MBE All Stations\")\n",
    "plt.xlabel(\"UTC Hour\")\n",
    "plt.ylabel(\"MBE Surface Temperature (C)\")\n",
    "#plt.plot(hour,c)\n",
    "#plt.errorbar(hour,c,yerr=b,ecolor='r',elinewidth=5,fmt='s',color='k')\n",
    "#plt.grid()\n",
    "#plt.xticks(np.arange(min(xs), max(xs)+1, 1.0))\n",
    "plt.xticks(xs, hour)\n",
    "plt.show()\n",
    "#plt.axvspan(-4, 4, color='green', alpha=0.2, lw=0)"
   ]
  },
  {
   "cell_type": "code",
   "execution_count": 232,
   "id": "9b993a8f",
   "metadata": {},
   "outputs": [
    {
     "name": "stdout",
     "output_type": "stream",
     "text": [
      "[ 2.74455     2.68818364  2.63091182  2.39637     2.67182455  3.03818182\n",
      "  0.97909636 -0.59363545 -1.25545455 -2.39636364 -4.07909091 -4.20818182\n",
      " -3.91454545 -3.54909091 -2.43363636 -1.74818182 -0.62363636  1.66272727\n",
      "  3.72272727  4.94090909  4.55090909  4.27363636  4.18090909  3.61727273\n",
      "  3.42272455]\n",
      "[1.87286781 1.89187917 1.67250342 1.64507066 1.55339684 1.4265575\n",
      " 1.45419607 1.79711049 2.13195755 3.22845382 4.33179882 5.32608985\n",
      " 5.65291134 5.54161849 5.1037353  4.35282733 3.41477078 2.80212287\n",
      " 2.24306645 2.50794177 2.2099957  2.0704996  2.20355273 2.55817794\n",
      " 2.37763506]\n"
     ]
    },
    {
     "data": {
      "text/plain": [
       "25"
      ]
     },
     "execution_count": 232,
     "metadata": {},
     "output_type": "execute_result"
    }
   ],
   "source": [
    "# data = np.array([difference1_sal,difference1_sel,difference1_mon])\n",
    "# np.ma.average(data, axis=0)\n",
    "c6 = np.array([difference6_sal,difference6_bat,difference6_laf,difference6_mon,difference6_hol,difference6_new,difference6_fai,difference6_sel,difference6_bow,difference6_gad,difference6_newt])\n",
    "c6=np.nanmean(c6, axis=0)\n",
    "print(c6)\n",
    "len(c6)\n",
    "\n",
    "b6 = np.array([difference6_sal,difference6_bat,difference6_laf,difference6_mon,difference6_hol,difference6_new,difference6_fai,difference6_sel,difference6_bow,difference6_gad,difference6_newt])\n",
    "b6=np.nanstd(b6, axis=0)\n",
    "print(b6)\n",
    "len(b6)"
   ]
  },
  {
   "cell_type": "code",
   "execution_count": 233,
   "id": "082182c5",
   "metadata": {},
   "outputs": [],
   "source": [
    "# c6=[1.18699667,1.2159875,1.202925,1.02153,0.915495,1.02571667,1.26524667,None,2.2831875,1.7132,1.37515833,1.22099167,1.35300833,1.414275,1.26331667,1.0291,0.78611667,0.569625,0.34864167,0.18683333,1.40921667,2.328025,2.40613333,2.28898333,2.3347]\n",
    "# print(c6)\n",
    "\n",
    "# b6=[1.97701539,1.9395002,1.87538972,1.65278454,1.56076627,1.60271154,1.38167358,None,1.35925266,1.47758425,1.57097252,1.69290383,1.59484406,1.23676456,1.09269393,1.01123893,0.9324703,0.81224555,0.88487667,1.22252443,1.84667376,2.11633728,2.18744841,1.95969035,1.94028697]\n",
    "# print(b6)"
   ]
  },
  {
   "cell_type": "code",
   "execution_count": 234,
   "id": "cdb8e9ef",
   "metadata": {},
   "outputs": [
    {
     "data": {
      "image/png": "[encoded data removed]",
      "text/plain": [
       "<Figure size 792x396 with 1 Axes>"
      ]
     },
     "metadata": {},
     "output_type": "display_data"
    }
   ],
   "source": [
    "plt.style.use('seaborn-whitegrid')\n",
    "plt.rcParams[\"figure.figsize\"] = [11.00, 5.50]\n",
    "plt.rcParams[\"figure.autolayout\"] = True\n",
    "plt.yticks(np.arange(-10,12,2))\n",
    "plt.ylim(-10,10)\n",
    "# c[6]=None\n",
    "# b[6]=None\n",
    "\n",
    "plt.plot(xs,c6,c=\"c\")\n",
    "plt.errorbar(xs,c6,c=\"c\",yerr=b6,linestyle='None', marker='s')\n",
    "# c[6]=None\n",
    "# b[6]=None\n",
    "\n",
    "plt.title(\"12-hr Avg. MBE All Stations\")\n",
    "plt.xlabel(\"UTC Hour\")\n",
    "plt.ylabel(\"MBE Surface Temperature (C)\")\n",
    "#plt.plot(hour,c)\n",
    "#plt.errorbar(hour,c,yerr=b,ecolor='r',elinewidth=5,fmt='s',color='k')\n",
    "#plt.grid()\n",
    "#plt.xticks(np.arange(min(xs), max(xs)+1, 1.0))\n",
    "plt.xticks(xs, hour)\n",
    "plt.show()\n",
    "#plt.axvspan(-4, 4, color='green', alpha=0.2, lw=0)"
   ]
  },
  {
   "cell_type": "code",
   "execution_count": 235,
   "id": "240eafe4",
   "metadata": {},
   "outputs": [
    {
     "data": {
      "image/png": "[encoded data removed]",
      "text/plain": [
       "<Figure size 792x396 with 1 Axes>"
      ]
     },
     "metadata": {},
     "output_type": "display_data"
    }
   ],
   "source": [
    "plt.style.use('seaborn-whitegrid')\n",
    "plt.rcParams[\"figure.figsize\"] = [11.00, 5.50]\n",
    "plt.rcParams[\"figure.autolayout\"] = True\n",
    "plt.yticks(np.arange(-10,12,2))\n",
    "plt.ylim(-10,10)\n",
    "\n",
    "plt.plot(xs,c1,c=\"b\",label=\"IOP 1\")\n",
    "plt.errorbar(xs,c1,c=\"b\",yerr=b1,linestyle='None', marker='s')\n",
    "\n",
    "plt.plot(xs,c2,c=\"r\",label=\"IOP 2\")\n",
    "plt.errorbar(xs,c2,c=\"r\",yerr=b2,linestyle='None', marker='s')\n",
    "\n",
    "plt.plot(xs,c3,c=\"green\")\n",
    "plt.errorbar(xs,c3,c=\"green\",yerr=b3,linestyle='None', marker='s')\n",
    "\n",
    "plt.plot(xs,c4,c=\"orange\")\n",
    "plt.errorbar(xs,c4,c=\"orange\",yerr=b4,linestyle='None', marker='s')\n",
    "\n",
    "plt.plot(xs,c5,c=\"m\")\n",
    "plt.errorbar(xs,c5,c=\"m\",yerr=b5,linestyle='None', marker='s')\n",
    "\n",
    "plt.plot(xs,c6,c=\"c\")\n",
    "plt.errorbar(xs,c6,c=\"c\",yerr=b6,linestyle='None', marker='s')\n",
    "\n",
    "plt.title(\"12-hr Avg. MBE All Stations\")\n",
    "plt.xlabel(\"UTC Hour\")\n",
    "plt.ylabel(\"MBE Surface Temperature (C)\")\n",
    "#plt.plot(hour,c)\n",
    "#plt.errorbar(hour,c,yerr=b,ecolor='r',elinewidth=5,fmt='s',color='k')\n",
    "#plt.grid()\n",
    "plt.xticks(xs, hour)\n",
    "plt.legend([\"IOP 1\", \"IOP 2\",\"IOP 3\",\"IOP 4\",\"IOP 5\",\"IOP 6\"], loc =\"lower right\")\n",
    "plt.show()"
   ]
  },
  {
   "cell_type": "code",
   "execution_count": null,
   "id": "f20cc188",
   "metadata": {},
   "outputs": [],
   "source": []
  },
  {
   "cell_type": "code",
   "execution_count": null,
   "id": "b750314f",
   "metadata": {},
   "outputs": [],
   "source": []
  }
 ],
 "metadata": {
  "kernelspec": {
   "display_name": "Python 3 (ipykernel)",
   "language": "python",
   "name": "python3"
  },
  "language_info": {
   "codemirror_mode": {
    "name": "ipython",
    "version": 3
   },
   "file_extension": ".py",
   "mimetype": "text/x-python",
   "name": "python",
   "nbconvert_exporter": "python",
   "pygments_lexer": "ipython3",
   "version": "3.9.12"
  }
 },
 "nbformat": 4,
 "nbformat_minor": 5
}
