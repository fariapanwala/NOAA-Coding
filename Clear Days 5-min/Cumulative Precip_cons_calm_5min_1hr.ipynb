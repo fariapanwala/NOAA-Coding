{
 "cells": [
  {
   "cell_type": "code",
   "execution_count": 1,
   "id": "83d28093",
   "metadata": {},
   "outputs": [],
   "source": [
    "import numpy as np\n",
    "import matplotlib.pyplot as plt\n",
    "import math\n",
    "import numpy.ma as ma"
   ]
  },
  {
   "cell_type": "markdown",
   "id": "18ad22a0",
   "metadata": {},
   "source": [
    "<font size=\"3\">Salem, MO: 0600 UTC (12:00 am CST) 01 March 2022-0600 UTC (12:00 am CST) 02 March 2022</font>"
   ]
  },
  {
   "cell_type": "code",
   "execution_count": 2,
   "id": "9d3b9481",
   "metadata": {},
   "outputs": [
    {
     "name": "stdout",
     "output_type": "stream",
     "text": [
      "[0. 0. 0. 0. 0. 0. 0. 0. 0. 0. 0. 0. 0. 0. 0. 0. 0. 0. 0. 0. 0. 0. 0. 0.\n",
      " 0.]\n"
     ]
    }
   ],
   "source": [
    "#1 hr hrrr:\n",
    "with open('hrrr_f01_Salem_MO.txt') as f:\n",
    "    lst=[line.split()[2] for line in f]\n",
    "    temp=[]\n",
    "    for i in lst:\n",
    "        new=i.replace(',',\"\")\n",
    "        temp.append(new)\n",
    "    temp.pop(0)\n",
    "    temp=[float(x) for x in temp]\n",
    "    temp=temp[1421:1446]\n",
    "    #temp=temp[2015:2063]\n",
    "    temp=np.cumsum(temp)\n",
    "    print(temp)\n",
    "#full time period is [2015:2112]"
   ]
  },
  {
   "cell_type": "code",
   "execution_count": 3,
   "id": "e9d4dbcc",
   "metadata": {},
   "outputs": [
    {
     "name": "stdout",
     "output_type": "stream",
     "text": [
      "[0. 0. 0. 0. 0. 0. 0. 0. 0. 0. 0. 0. 0. 0. 0. 0. 0. 0. 0. 0. 0. 0. 0. 0.\n",
      " 0.]\n"
     ]
    }
   ],
   "source": [
    "#Air Temp CRN:\n",
    "with open('CRNS0101-05-2022-MO_Salem_10_W.txt') as f:\n",
    "    lst=[line.split()[9] for line in f]\n",
    "\n",
    "    a=(float(lst[17063])+float(lst[17064]))/2\n",
    "    b=(float(lst[17075])+float(lst[17076]))/2\n",
    "    c=(float(lst[17087])+float(lst[17088]))/2\n",
    "    d=(float(lst[17099])+float(lst[17100]))/2\n",
    "    e=(float(lst[17111])+float(lst[17112]))/2\n",
    "    f=(float(lst[17123])+float(lst[17124]))/2\n",
    "    g=(float(lst[17135])+float(lst[17136]))/2\n",
    "    h=(float(lst[17147])+float(lst[17148]))/2\n",
    "    i=(float(lst[17159])+float(lst[17160]))/2\n",
    "    j=(float(lst[17171])+float(lst[17172]))/2\n",
    "    k=(float(lst[17183])+float(lst[17184]))/2\n",
    "    l=(float(lst[17195])+float(lst[17196]))/2\n",
    "    m=(float(lst[17207])+float(lst[17208]))/2\n",
    "    n=(float(lst[17219])+float(lst[17220]))/2\n",
    "    o=(float(lst[17231])+float(lst[17232]))/2\n",
    "    p=(float(lst[17243])+float(lst[17244]))/2\n",
    "    q=(float(lst[17255])+float(lst[17256]))/2\n",
    "    r=(float(lst[17267])+float(lst[17268]))/2\n",
    "    s=(float(lst[17279])+float(lst[17280]))/2\n",
    "    t=(float(lst[17291])+float(lst[17292]))/2\n",
    "    u=(float(lst[17303])+float(lst[17304]))/2\n",
    "    v=(float(lst[17315])+float(lst[17316]))/2\n",
    "    w=(float(lst[17327])+float(lst[17328]))/2\n",
    "    x=(float(lst[17339])+float(lst[17340]))/2\n",
    "    y=(float(lst[17351])+float(lst[17352]))/2\n",
    "    temp_crn=[a,b,c,d,e,f,g,h,i,j,k,l,m,n,o,p,q,r,s,t,u,v,w,x,y]\n",
    "    temp_crn=np.cumsum(temp_crn)\n",
    "    print(temp_crn)"
   ]
  },
  {
   "cell_type": "code",
   "execution_count": 4,
   "id": "1e9aed03-d99c-4045-812a-e26bcc99b84f",
   "metadata": {},
   "outputs": [
    {
     "name": "stdout",
     "output_type": "stream",
     "text": [
      "[0.0, 0.0, 0.0, 0.0, 0.0, 0.0, 0.0, 0.0, 0.0, 0.0, 0.0, 0.0, 0.0, 0.0, 0.0, 0.0, 0.0, 0.0, 0.0, 0.0, 0.0, 0.0, 0.0, 0.0, 0.0]\n"
     ]
    }
   ],
   "source": [
    "difference1_sal = []\n",
    "\n",
    "zip_object = zip(temp, temp_crn)\n",
    "for temp_i, temp_crn_i in zip_object:\n",
    "    difference1_sal.append(temp_i-temp_crn_i)\n",
    "\n",
    "print(difference1_sal)"
   ]
  },
  {
   "cell_type": "markdown",
   "id": "9043c519",
   "metadata": {},
   "source": [
    "<font size=\"3\">Batesville, AR: 0600 UTC (12:00 am CST) 01 March 2022-0600 UTC (12:00 am CST) 02 March 2022</font>"
   ]
  },
  {
   "cell_type": "code",
   "execution_count": 5,
   "id": "af395ecc",
   "metadata": {},
   "outputs": [
    {
     "name": "stdout",
     "output_type": "stream",
     "text": [
      "[0. 0. 0. 0. 0. 0. 0. 0. 0. 0. 0. 0. 0. 0. 0. 0. 0. 0. 0. 0. 0. 0. 0. 0.\n",
      " 0.]\n"
     ]
    }
   ],
   "source": [
    "#1 hr hrrr:\n",
    "with open('hrrr_f01_Batesville_AR.txt') as f:\n",
    "    lst=[line.split()[2] for line in f]\n",
    "    temp=[]\n",
    "    for i in lst:\n",
    "        new=i.replace(',',\"\")\n",
    "        temp.append(new)\n",
    "    temp.pop(0)\n",
    "    temp=[float(x) for x in temp]\n",
    "    temp=temp[1421:1446]\n",
    "#     x = np.array(temp)\n",
    "#     temp = ma.masked_array(x, mask=[0, 0, 0, 0, 0,0,0,0,0,0,0,0,0,0,0,0,0,0,0,0,0,1,0,0,0])\n",
    "    #temp=temp[2015:2063]\n",
    "    temp=np.cumsum(temp)\n",
    "    print(temp)\n",
    "#full time period is [2015:2112]"
   ]
  },
  {
   "cell_type": "code",
   "execution_count": 6,
   "id": "5da1fd53",
   "metadata": {},
   "outputs": [
    {
     "name": "stdout",
     "output_type": "stream",
     "text": [
      "[0. 0. 0. 0. 0. 0. 0. 0. 0. 0. 0. 0. 0. 0. 0. 0. 0. 0. 0. 0. 0. 0. 0. 0.\n",
      " 0.]\n"
     ]
    }
   ],
   "source": [
    "#Air Temp CRN:\n",
    "with open('CRNS0101-05-2022-AR_Batesville_8_WNW.txt') as f:\n",
    "    lst=[line.split()[9] for line in f]\n",
    "    \n",
    "    a=(float(lst[17063])+float(lst[17064]))/2\n",
    "    b=(float(lst[17075])+float(lst[17076]))/2\n",
    "    c=(float(lst[17087])+float(lst[17088]))/2\n",
    "    d=(float(lst[17099])+float(lst[17100]))/2\n",
    "    e=(float(lst[17111])+float(lst[17112]))/2\n",
    "    f=(float(lst[17123])+float(lst[17124]))/2\n",
    "    g=(float(lst[17135])+float(lst[17136]))/2\n",
    "    h=(float(lst[17147])+float(lst[17148]))/2\n",
    "    i=(float(lst[17159])+float(lst[17160]))/2\n",
    "    j=(float(lst[17171])+float(lst[17172]))/2\n",
    "    k=(float(lst[17183])+float(lst[17184]))/2\n",
    "    l=(float(lst[17195])+float(lst[17196]))/2\n",
    "    m=(float(lst[17207])+float(lst[17208]))/2\n",
    "    n=(float(lst[17219])+float(lst[17220]))/2\n",
    "    o=(float(lst[17231])+float(lst[17232]))/2\n",
    "    p=(float(lst[17243])+float(lst[17244]))/2\n",
    "    q=(float(lst[17255])+float(lst[17256]))/2\n",
    "    r=(float(lst[17267])+float(lst[17268]))/2\n",
    "    s=(float(lst[17279])+float(lst[17280]))/2\n",
    "    t=(float(lst[17291])+float(lst[17292]))/2\n",
    "    u=(float(lst[17303])+float(lst[17304]))/2\n",
    "    v=(float(lst[17315])+float(lst[17316]))/2\n",
    "    w=(float(lst[17327])+float(lst[17328]))/2\n",
    "    x=(float(lst[17339])+float(lst[17340]))/2\n",
    "    y=(float(lst[17351])+float(lst[17352]))/2\n",
    "    temp_crn=[a,b,c,d,e,f,g,h,i,j,k,l,m,n,o,p,q,r,s,t,u,v,w,x,y]\n",
    "    temp_crn=np.cumsum(temp_crn)\n",
    "    print(temp_crn)"
   ]
  },
  {
   "cell_type": "code",
   "execution_count": 7,
   "id": "62a46873",
   "metadata": {},
   "outputs": [
    {
     "name": "stdout",
     "output_type": "stream",
     "text": [
      "[0.0, 0.0, 0.0, 0.0, 0.0, 0.0, 0.0, 0.0, 0.0, 0.0, 0.0, 0.0, 0.0, 0.0, 0.0, 0.0, 0.0, 0.0, 0.0, 0.0, 0.0, 0.0, 0.0, 0.0, 0.0]\n"
     ]
    }
   ],
   "source": [
    "difference1_bat = []\n",
    "\n",
    "zip_object = zip(temp, temp_crn)\n",
    "for temp_i, temp_crn_i in zip_object:\n",
    "    difference1_bat.append(temp_i-temp_crn_i)\n",
    "\n",
    "print(difference1_bat)"
   ]
  },
  {
   "cell_type": "markdown",
   "id": "2a2589df",
   "metadata": {},
   "source": [
    "<font size=\"3\">Lafayette, LA: 0600 UTC (12:00 am CST) 01 March 2022-0600 UTC (12:00 am CST) 02 March 2022</font>"
   ]
  },
  {
   "cell_type": "code",
   "execution_count": 8,
   "id": "3fd34af2",
   "metadata": {},
   "outputs": [
    {
     "name": "stdout",
     "output_type": "stream",
     "text": [
      "[0. 0. 0. 0. 0. 0. 0. 0. 0. 0. 0. 0. 0. 0. 0. 0. 0. 0. 0. 0. 0. 0. 0. 0.\n",
      " 0.]\n"
     ]
    }
   ],
   "source": [
    "#1 hr hrrr:\n",
    "with open('hrrr_f01_Lafayette_LA.txt') as f:\n",
    "    lst=[line.split()[2] for line in f]\n",
    "    temp=[]\n",
    "    for i in lst:\n",
    "        new=i.replace(',',\"\")\n",
    "        temp.append(new)\n",
    "    temp.pop(0)\n",
    "    temp=[float(x) for x in temp]\n",
    "    temp=temp[1421:1446]\n",
    "    #temp=temp[2015:2063]\n",
    "    temp=np.cumsum(temp)\n",
    "    print(temp)\n",
    "#full time period is [2015:2112]"
   ]
  },
  {
   "cell_type": "code",
   "execution_count": 9,
   "id": "2aa0e7ac",
   "metadata": {},
   "outputs": [
    {
     "name": "stdout",
     "output_type": "stream",
     "text": [
      "[0. 0. 0. 0. 0. 0. 0. 0. 0. 0. 0. 0. 0. 0. 0. 0. 0. 0. 0. 0. 0. 0. 0. 0.\n",
      " 0.]\n"
     ]
    }
   ],
   "source": [
    "#Air Temp CRN:\n",
    "with open('CRNS0101-05-2022-LA_Lafayette_13_SE.txt') as f:\n",
    "    lst=[line.split()[9] for line in f]\n",
    "    \n",
    "    a=(float(lst[17063])+float(lst[17064]))/2\n",
    "    b=(float(lst[17075])+float(lst[17076]))/2\n",
    "    c=(float(lst[17087])+float(lst[17088]))/2\n",
    "    d=(float(lst[17099])+float(lst[17100]))/2\n",
    "    e=(float(lst[17111])+float(lst[17112]))/2\n",
    "    f=(float(lst[17123])+float(lst[17124]))/2\n",
    "    g=(float(lst[17135])+float(lst[17136]))/2\n",
    "    h=(float(lst[17147])+float(lst[17148]))/2\n",
    "    i=(float(lst[17159])+float(lst[17160]))/2\n",
    "    j=(float(lst[17171])+float(lst[17172]))/2\n",
    "    k=(float(lst[17183])+float(lst[17184]))/2\n",
    "    l=(float(lst[17195])+float(lst[17196]))/2\n",
    "    m=(float(lst[17207])+float(lst[17208]))/2\n",
    "    n=(float(lst[17219])+float(lst[17220]))/2\n",
    "    o=(float(lst[17231])+float(lst[17232]))/2\n",
    "    p=(float(lst[17243])+float(lst[17244]))/2\n",
    "    q=(float(lst[17255])+float(lst[17256]))/2\n",
    "    r=(float(lst[17267])+float(lst[17268]))/2\n",
    "    s=(float(lst[17279])+float(lst[17280]))/2\n",
    "    t=(float(lst[17291])+float(lst[17292]))/2\n",
    "    u=(float(lst[17303])+float(lst[17304]))/2\n",
    "    v=(float(lst[17315])+float(lst[17316]))/2\n",
    "    w=(float(lst[17327])+float(lst[17328]))/2\n",
    "    x=(float(lst[17339])+float(lst[17340]))/2\n",
    "    y=(float(lst[17351])+float(lst[17352]))/2\n",
    "    temp_crn=[a,b,c,d,e,f,g,h,i,j,k,l,m,n,o,p,q,r,s,t,u,v,w,x,y]\n",
    "    temp_crn=np.cumsum(temp_crn)\n",
    "    print(temp_crn)"
   ]
  },
  {
   "cell_type": "code",
   "execution_count": 10,
   "id": "9b94d0f9",
   "metadata": {},
   "outputs": [
    {
     "name": "stdout",
     "output_type": "stream",
     "text": [
      "[0.0, 0.0, 0.0, 0.0, 0.0, 0.0, 0.0, 0.0, 0.0, 0.0, 0.0, 0.0, 0.0, 0.0, 0.0, 0.0, 0.0, 0.0, 0.0, 0.0, 0.0, 0.0, 0.0, 0.0, 0.0]\n"
     ]
    }
   ],
   "source": [
    "difference1_laf = []\n",
    "\n",
    "zip_object = zip(temp, temp_crn)\n",
    "for temp_i, temp_crn_i in zip_object:\n",
    "    difference1_laf.append(temp_i-temp_crn_i)\n",
    "\n",
    "print(difference1_laf)"
   ]
  },
  {
   "cell_type": "markdown",
   "id": "7a8d079f",
   "metadata": {},
   "source": [
    "<font size=\"3\">Monroe, LA: 0600 UTC (12:00 am CST) 01 March 2022-0600 UTC (12:00 am CST) 02 March 2022</font>"
   ]
  },
  {
   "cell_type": "code",
   "execution_count": 11,
   "id": "9c6d2382",
   "metadata": {},
   "outputs": [
    {
     "name": "stdout",
     "output_type": "stream",
     "text": [
      "[0. 0. 0. 0. 0. 0. 0. 0. 0. 0. 0. 0. 0. 0. 0. 0. 0. 0. 0. 0. 0. 0. 0. 0.\n",
      " 0.]\n"
     ]
    }
   ],
   "source": [
    "#1 hr hrrr:\n",
    "with open('hrrr_f01_Monroe_LA.txt') as f:\n",
    "    lst=[line.split()[2] for line in f]\n",
    "    temp=[]\n",
    "    for i in lst:\n",
    "        new=i.replace(',',\"\")\n",
    "        temp.append(new)\n",
    "    temp.pop(0)\n",
    "    temp=[float(x) for x in temp]\n",
    "    temp=temp[1421:1446]\n",
    "    #temp=temp[2015:2063]\n",
    "    temp=np.cumsum(temp)\n",
    "    print(temp)\n",
    "#full time period is [2015:2112]"
   ]
  },
  {
   "cell_type": "code",
   "execution_count": 12,
   "id": "3fe08a4e",
   "metadata": {},
   "outputs": [
    {
     "name": "stdout",
     "output_type": "stream",
     "text": [
      "[0. 0. 0. 0. 0. 0. 0. 0. 0. 0. 0. 0. 0. 0. 0. 0. 0. 0. 0. 0. 0. 0. 0. 0.\n",
      " 0.]\n"
     ]
    }
   ],
   "source": [
    "#Air Temp CRN:\n",
    "with open('CRNS0101-05-2022-LA_Monroe_26_N.txt') as f:\n",
    "    lst=[line.split()[9] for line in f]\n",
    "    \n",
    "    a=(float(lst[17063])+float(lst[17064]))/2\n",
    "    b=(float(lst[17075])+float(lst[17076]))/2\n",
    "    c=(float(lst[17087])+float(lst[17088]))/2\n",
    "    d=(float(lst[17099])+float(lst[17100]))/2\n",
    "    e=(float(lst[17111])+float(lst[17112]))/2\n",
    "    f=(float(lst[17123])+float(lst[17124]))/2\n",
    "    g=(float(lst[17135])+float(lst[17136]))/2\n",
    "    h=(float(lst[17147])+float(lst[17148]))/2\n",
    "    i=(float(lst[17159])+float(lst[17160]))/2\n",
    "    j=(float(lst[17171])+float(lst[17172]))/2\n",
    "    k=(float(lst[17183])+float(lst[17184]))/2\n",
    "    l=(float(lst[17195])+float(lst[17196]))/2\n",
    "    m=(float(lst[17207])+float(lst[17208]))/2\n",
    "    n=(float(lst[17219])+float(lst[17220]))/2\n",
    "    o=(float(lst[17231])+float(lst[17232]))/2\n",
    "    p=(float(lst[17243])+float(lst[17244]))/2\n",
    "    q=(float(lst[17255])+float(lst[17256]))/2\n",
    "    r=(float(lst[17267])+float(lst[17268]))/2\n",
    "    s=(float(lst[17279])+float(lst[17280]))/2\n",
    "    t=(float(lst[17291])+float(lst[17292]))/2\n",
    "    u=(float(lst[17303])+float(lst[17304]))/2\n",
    "    v=(float(lst[17315])+float(lst[17316]))/2\n",
    "    w=(float(lst[17327])+float(lst[17328]))/2\n",
    "    x=(float(lst[17339])+float(lst[17340]))/2\n",
    "    y=(float(lst[17351])+float(lst[17352]))/2\n",
    "    temp_crn=[a,b,c,d,e,f,g,h,i,j,k,l,m,n,o,p,q,r,s,t,u,v,w,x,y]\n",
    "    temp_crn=np.cumsum(temp_crn)\n",
    "    print(temp_crn)"
   ]
  },
  {
   "cell_type": "code",
   "execution_count": 13,
   "id": "2b4e383a",
   "metadata": {},
   "outputs": [
    {
     "name": "stdout",
     "output_type": "stream",
     "text": [
      "[0.0, 0.0, 0.0, 0.0, 0.0, 0.0, 0.0, 0.0, 0.0, 0.0, 0.0, 0.0, 0.0, 0.0, 0.0, 0.0, 0.0, 0.0, 0.0, 0.0, 0.0, 0.0, 0.0, 0.0, 0.0]\n"
     ]
    }
   ],
   "source": [
    "difference1_mon = []\n",
    "\n",
    "zip_object = zip(temp, temp_crn)\n",
    "for temp_i, temp_crn_i in zip_object:\n",
    "    difference1_mon.append(temp_i-temp_crn_i)\n",
    "\n",
    "print(difference1_mon)"
   ]
  },
  {
   "cell_type": "markdown",
   "id": "26c585ff",
   "metadata": {},
   "source": [
    "<font size=\"3\">Holly Springs, MS: 0600 UTC (12:00 am CST) 01 March 2022-0600 UTC (12:00 am CST) 02 March 2022</font>"
   ]
  },
  {
   "cell_type": "code",
   "execution_count": 14,
   "id": "175bd35c",
   "metadata": {},
   "outputs": [
    {
     "name": "stdout",
     "output_type": "stream",
     "text": [
      "[0. 0. 0. 0. 0. 0. 0. 0. 0. 0. 0. 0. 0. 0. 0. 0. 0. 0. 0. 0. 0. 0. 0. 0.\n",
      " 0.]\n"
     ]
    }
   ],
   "source": [
    "#1 hr hrrr:\n",
    "with open('hrrr_f01_Holly Springs_MS.txt') as f:\n",
    "    lst=[line.split()[2] for line in f]\n",
    "    temp=[]\n",
    "    for i in lst:\n",
    "        new=i.replace(',',\"\")\n",
    "        temp.append(new)\n",
    "    temp.pop(0)\n",
    "    temp=[float(x) for x in temp]\n",
    "    temp=temp[1421:1446]\n",
    "    #temp=temp[2015:2063]\n",
    "    temp=np.cumsum(temp)\n",
    "    print(temp)\n",
    "#full time period is [2015:2112]"
   ]
  },
  {
   "cell_type": "code",
   "execution_count": 15,
   "id": "f416219a",
   "metadata": {},
   "outputs": [
    {
     "name": "stdout",
     "output_type": "stream",
     "text": [
      "[0. 0. 0. 0. 0. 0. 0. 0. 0. 0. 0. 0. 0. 0. 0. 0. 0. 0. 0. 0. 0. 0. 0. 0.\n",
      " 0.]\n"
     ]
    }
   ],
   "source": [
    "#Air Temp CRN:\n",
    "with open('CRNS0101-05-2022-MS_Holly_Springs_4_N.txt') as f:\n",
    "    lst=[line.split()[9] for line in f]\n",
    "    \n",
    "    a=(float(lst[17063])+float(lst[17064]))/2\n",
    "    b=(float(lst[17075])+float(lst[17076]))/2\n",
    "    c=(float(lst[17087])+float(lst[17088]))/2\n",
    "    d=(float(lst[17099])+float(lst[17100]))/2\n",
    "    e=(float(lst[17111])+float(lst[17112]))/2\n",
    "    f=(float(lst[17123])+float(lst[17124]))/2\n",
    "    g=(float(lst[17135])+float(lst[17136]))/2\n",
    "    h=(float(lst[17147])+float(lst[17148]))/2\n",
    "    i=(float(lst[17159])+float(lst[17160]))/2\n",
    "    j=(float(lst[17171])+float(lst[17172]))/2\n",
    "    k=(float(lst[17183])+float(lst[17184]))/2\n",
    "    l=(float(lst[17195])+float(lst[17196]))/2\n",
    "    m=(float(lst[17207])+float(lst[17208]))/2\n",
    "    n=(float(lst[17219])+float(lst[17220]))/2\n",
    "    o=(float(lst[17231])+float(lst[17232]))/2\n",
    "    p=(float(lst[17243])+float(lst[17244]))/2\n",
    "    q=(float(lst[17255])+float(lst[17256]))/2\n",
    "    r=(float(lst[17267])+float(lst[17268]))/2\n",
    "    s=(float(lst[17279])+float(lst[17280]))/2\n",
    "    t=(float(lst[17291])+float(lst[17292]))/2\n",
    "    u=(float(lst[17303])+float(lst[17304]))/2\n",
    "    v=(float(lst[17315])+float(lst[17316]))/2\n",
    "    w=(float(lst[17327])+float(lst[17328]))/2\n",
    "    x=(float(lst[17339])+float(lst[17340]))/2\n",
    "    y=(float(lst[17351])+float(lst[17352]))/2\n",
    "    temp_crn=[a,b,c,d,e,f,g,h,i,j,k,l,m,n,o,p,q,r,s,t,u,v,w,x,y]\n",
    "    temp_crn=np.cumsum(temp_crn)\n",
    "    print(temp_crn)"
   ]
  },
  {
   "cell_type": "code",
   "execution_count": 16,
   "id": "46b095cb",
   "metadata": {},
   "outputs": [
    {
     "name": "stdout",
     "output_type": "stream",
     "text": [
      "[0.0, 0.0, 0.0, 0.0, 0.0, 0.0, 0.0, 0.0, 0.0, 0.0, 0.0, 0.0, 0.0, 0.0, 0.0, 0.0, 0.0, 0.0, 0.0, 0.0, 0.0, 0.0, 0.0, 0.0, 0.0]\n"
     ]
    }
   ],
   "source": [
    "difference1_hol = []\n",
    "\n",
    "zip_object = zip(temp, temp_crn)\n",
    "for temp_i, temp_crn_i in zip_object:\n",
    "    difference1_hol.append(temp_i-temp_crn_i)\n",
    "\n",
    "print(difference1_hol)"
   ]
  },
  {
   "cell_type": "markdown",
   "id": "1c76c308",
   "metadata": {},
   "source": [
    "<font size=\"3\">Newton, MS: 0600 UTC (12:00 am CST) 01 March 2022-0600 UTC (12:00 am CST) 02 March 2022</font>"
   ]
  },
  {
   "cell_type": "code",
   "execution_count": 17,
   "id": "06decf86",
   "metadata": {},
   "outputs": [
    {
     "name": "stdout",
     "output_type": "stream",
     "text": [
      "[0. 0. 0. 0. 0. 0. 0. 0. 0. 0. 0. 0. 0. 0. 0. 0. 0. 0. 0. 0. 0. 0. 0. 0.\n",
      " 0.]\n"
     ]
    }
   ],
   "source": [
    "#1 hr hrrr:\n",
    "with open('hrrr_f01_Newton_MS.txt') as f:\n",
    "    lst=[line.split()[2] for line in f]\n",
    "    temp=[]\n",
    "    for i in lst:\n",
    "        new=i.replace(',',\"\")\n",
    "        temp.append(new)\n",
    "    temp.pop(0)\n",
    "    temp=[float(x) for x in temp]\n",
    "    temp=temp[1421:1446]\n",
    "    #temp=temp[2015:2063]\n",
    "    temp=np.cumsum(temp)\n",
    "    print(temp)\n",
    "#full time period is [2015:2112]"
   ]
  },
  {
   "cell_type": "code",
   "execution_count": 18,
   "id": "9672674c",
   "metadata": {},
   "outputs": [
    {
     "name": "stdout",
     "output_type": "stream",
     "text": [
      "[0. 0. 0. 0. 0. 0. 0. 0. 0. 0. 0. 0. 0. 0. 0. 0. 0. 0. 0. 0. 0. 0. 0. 0.\n",
      " 0.]\n"
     ]
    }
   ],
   "source": [
    "#Air Temp CRN:\n",
    "with open('CRNS0101-05-2022-MS_Newton_5_ENE.txt') as f:\n",
    "    lst=[line.split()[9] for line in f]\n",
    "    \n",
    "    a=(float(lst[17063])+float(lst[17064]))/2\n",
    "    b=(float(lst[17075])+float(lst[17076]))/2\n",
    "    c=(float(lst[17087])+float(lst[17088]))/2\n",
    "    d=(float(lst[17099])+float(lst[17100]))/2\n",
    "    e=(float(lst[17111])+float(lst[17112]))/2\n",
    "    f=(float(lst[17123])+float(lst[17124]))/2\n",
    "    g=(float(lst[17135])+float(lst[17136]))/2\n",
    "    h=(float(lst[17147])+float(lst[17148]))/2\n",
    "    i=(float(lst[17159])+float(lst[17160]))/2\n",
    "    j=(float(lst[17171])+float(lst[17172]))/2\n",
    "    k=(float(lst[17183])+float(lst[17184]))/2\n",
    "    l=(float(lst[17195])+float(lst[17196]))/2\n",
    "    m=(float(lst[17207])+float(lst[17208]))/2\n",
    "    n=(float(lst[17219])+float(lst[17220]))/2\n",
    "    o=(float(lst[17231])+float(lst[17232]))/2\n",
    "    p=(float(lst[17243])+float(lst[17244]))/2\n",
    "    q=(float(lst[17255])+float(lst[17256]))/2\n",
    "    r=(float(lst[17267])+float(lst[17268]))/2\n",
    "    s=(float(lst[17279])+float(lst[17280]))/2\n",
    "    t=(float(lst[17291])+float(lst[17292]))/2\n",
    "    u=(float(lst[17303])+float(lst[17304]))/2\n",
    "    v=(float(lst[17315])+float(lst[17316]))/2\n",
    "    w=(float(lst[17327])+float(lst[17328]))/2\n",
    "    x=(float(lst[17339])+float(lst[17340]))/2\n",
    "    y=(float(lst[17351])+float(lst[17352]))/2\n",
    "    temp_crn=[a,b,c,d,e,f,g,h,i,j,k,l,m,n,o,p,q,r,s,t,u,v,w,x,y]\n",
    "    temp_crn=np.cumsum(temp_crn)\n",
    "    print(temp_crn)"
   ]
  },
  {
   "cell_type": "code",
   "execution_count": 19,
   "id": "e588ab70",
   "metadata": {},
   "outputs": [
    {
     "name": "stdout",
     "output_type": "stream",
     "text": [
      "[0.0, 0.0, 0.0, 0.0, 0.0, 0.0, 0.0, 0.0, 0.0, 0.0, 0.0, 0.0, 0.0, 0.0, 0.0, 0.0, 0.0, 0.0, 0.0, 0.0, 0.0, 0.0, 0.0, 0.0, 0.0]\n"
     ]
    }
   ],
   "source": [
    "difference1_new = []\n",
    "\n",
    "zip_object = zip(temp, temp_crn)\n",
    "for temp_i, temp_crn_i in zip_object:\n",
    "    difference1_new.append(temp_i-temp_crn_i)\n",
    "\n",
    "print(difference1_new)"
   ]
  },
  {
   "cell_type": "markdown",
   "id": "c9620694",
   "metadata": {},
   "source": [
    "<font size=\"3\">Gainesville, AL: 0600 UTC (12:00 am CST) 01 March 2022-0600 UTC (12:00 am CST) 02 March 2022</font>"
   ]
  },
  {
   "cell_type": "code",
   "execution_count": 20,
   "id": "a422cd03",
   "metadata": {},
   "outputs": [
    {
     "name": "stdout",
     "output_type": "stream",
     "text": [
      "[0. 0. 0. 0. 0. 0. 0. 0. 0. 0. 0. 0. 0. 0. 0. 0. 0. 0. 0. 0. 0. 0. 0. 0.\n",
      " 0.]\n"
     ]
    }
   ],
   "source": [
    "#1 hr hrrr:\n",
    "with open('hrrr_f01_Gainesville_AL.txt') as f:\n",
    "    lst=[line.split()[2] for line in f]\n",
    "    temp=[]\n",
    "    for i in lst:\n",
    "        new=i.replace(',',\"\")\n",
    "        temp.append(new)\n",
    "    temp.pop(0)\n",
    "    temp=[float(x) for x in temp]\n",
    "    temp=temp[1421:1446]\n",
    "    #temp=temp[2015:2063]\n",
    "    temp=np.cumsum(temp)\n",
    "    print(temp)\n",
    "#full time period is [2015:2112]"
   ]
  },
  {
   "cell_type": "code",
   "execution_count": 21,
   "id": "627f3159",
   "metadata": {},
   "outputs": [
    {
     "name": "stdout",
     "output_type": "stream",
     "text": [
      "[0. 0. 0. 0. 0. 0. 0. 0. 0. 0. 0. 0. 0. 0. 0. 0. 0. 0. 0. 0. 0. 0. 0. 0.\n",
      " 0.]\n"
     ]
    }
   ],
   "source": [
    "#Air Temp CRN:\n",
    "with open('CRNS0101-05-2022-AL_Gainesville_2_NE.txt') as f:\n",
    "    lst=[line.split()[9] for line in f]\n",
    "    \n",
    "    a=(float(lst[17063])+float(lst[17064]))/2\n",
    "    b=(float(lst[17075])+float(lst[17076]))/2\n",
    "    c=(float(lst[17087])+float(lst[17088]))/2\n",
    "    d=(float(lst[17099])+float(lst[17100]))/2\n",
    "    e=(float(lst[17111])+float(lst[17112]))/2\n",
    "    f=(float(lst[17123])+float(lst[17124]))/2\n",
    "    g=(float(lst[17135])+float(lst[17136]))/2\n",
    "    h=(float(lst[17147])+float(lst[17148]))/2\n",
    "    i=(float(lst[17159])+float(lst[17160]))/2\n",
    "    j=(float(lst[17171])+float(lst[17172]))/2\n",
    "    k=(float(lst[17183])+float(lst[17184]))/2\n",
    "    l=(float(lst[17195])+float(lst[17196]))/2\n",
    "    m=(float(lst[17207])+float(lst[17208]))/2\n",
    "    n=(float(lst[17219])+float(lst[17220]))/2\n",
    "    o=(float(lst[17231])+float(lst[17232]))/2\n",
    "    p=(float(lst[17243])+float(lst[17244]))/2\n",
    "    q=(float(lst[17255])+float(lst[17256]))/2\n",
    "    r=(float(lst[17267])+float(lst[17268]))/2\n",
    "    s=(float(lst[17279])+float(lst[17280]))/2\n",
    "    t=(float(lst[17291])+float(lst[17292]))/2\n",
    "    u=(float(lst[17303])+float(lst[17304]))/2\n",
    "    v=(float(lst[17315])+float(lst[17316]))/2\n",
    "    w=(float(lst[17327])+float(lst[17328]))/2\n",
    "    x=(float(lst[17339])+float(lst[17340]))/2\n",
    "    y=(float(lst[17351])+float(lst[17352]))/2\n",
    "    temp_crn=[a,b,c,d,e,f,g,h,i,j,k,l,m,n,o,p,q,r,s,t,u,v,w,x,y]\n",
    "    temp_crn=np.cumsum(temp_crn)\n",
    "    print(temp_crn)"
   ]
  },
  {
   "cell_type": "code",
   "execution_count": 22,
   "id": "8df76a7b",
   "metadata": {},
   "outputs": [
    {
     "name": "stdout",
     "output_type": "stream",
     "text": [
      "[0.0, 0.0, 0.0, 0.0, 0.0, 0.0, 0.0, 0.0, 0.0, 0.0, 0.0, 0.0, 0.0, 0.0, 0.0, 0.0, 0.0, 0.0, 0.0, 0.0, 0.0, 0.0, 0.0, 0.0, 0.0]\n"
     ]
    }
   ],
   "source": [
    "difference1_gai = []\n",
    "\n",
    "zip_object = zip(temp, temp_crn)\n",
    "for temp_i, temp_crn_i in zip_object:\n",
    "    difference1_gai.append(temp_i-temp_crn_i)\n",
    "\n",
    "print(difference1_gai)"
   ]
  },
  {
   "cell_type": "markdown",
   "id": "2711dc15",
   "metadata": {},
   "source": [
    "<font size=\"3\">Fairhope, AL: 0600 UTC (12:00 am CST) 01 March 2022-0600 UTC (12:00 am CST) 02 March 2022</font>"
   ]
  },
  {
   "cell_type": "code",
   "execution_count": 23,
   "id": "64dbcf91",
   "metadata": {},
   "outputs": [
    {
     "name": "stdout",
     "output_type": "stream",
     "text": [
      "[0. 0. 0. 0. 0. 0. 0. 0. 0. 0. 0. 0. 0. 0. 0. 0. 0. 0. 0. 0. 0. 0. 0. 0.\n",
      " 0.]\n"
     ]
    }
   ],
   "source": [
    "#1 hr hrrr:\n",
    "with open('hrrr_f01_Fairhope_AL.txt') as f:\n",
    "    lst=[line.split()[2] for line in f]\n",
    "    temp=[]\n",
    "    for i in lst:\n",
    "        new=i.replace(',',\"\")\n",
    "        temp.append(new)\n",
    "    temp.pop(0)\n",
    "    temp=[float(x) for x in temp]\n",
    "    temp=temp[1421:1446]\n",
    "    #temp=temp[2015:2063]\n",
    "    temp=np.cumsum(temp)\n",
    "    print(temp)\n",
    "#full time period is [2015:2112]"
   ]
  },
  {
   "cell_type": "code",
   "execution_count": 24,
   "id": "83dc8266",
   "metadata": {},
   "outputs": [
    {
     "name": "stdout",
     "output_type": "stream",
     "text": [
      "[0. 0. 0. 0. 0. 0. 0. 0. 0. 0. 0. 0. 0. 0. 0. 0. 0. 0. 0. 0. 0. 0. 0. 0.\n",
      " 0.]\n"
     ]
    }
   ],
   "source": [
    "#Air Temp CRN:\n",
    "with open('CRNS0101-05-2022-AL_Fairhope_3_NE.txt') as f:\n",
    "    lst=[line.split()[9] for line in f]\n",
    "    \n",
    "    a=(float(lst[17063])+float(lst[17064]))/2\n",
    "    b=(float(lst[17075])+float(lst[17076]))/2\n",
    "    c=(float(lst[17087])+float(lst[17088]))/2\n",
    "    d=(float(lst[17099])+float(lst[17100]))/2\n",
    "    e=(float(lst[17111])+float(lst[17112]))/2\n",
    "    f=(float(lst[17123])+float(lst[17124]))/2\n",
    "    g=(float(lst[17135])+float(lst[17136]))/2\n",
    "    h=(float(lst[17147])+float(lst[17148]))/2\n",
    "    i=(float(lst[17159])+float(lst[17160]))/2\n",
    "    j=(float(lst[17171])+float(lst[17172]))/2\n",
    "    k=(float(lst[17183])+float(lst[17184]))/2\n",
    "    l=(float(lst[17195])+float(lst[17196]))/2\n",
    "    m=(float(lst[17207])+float(lst[17208]))/2\n",
    "    n=(float(lst[17219])+float(lst[17220]))/2\n",
    "    o=(float(lst[17231])+float(lst[17232]))/2\n",
    "    p=(float(lst[17243])+float(lst[17244]))/2\n",
    "    q=(float(lst[17255])+float(lst[17256]))/2\n",
    "    r=(float(lst[17267])+float(lst[17268]))/2\n",
    "    s=(float(lst[17279])+float(lst[17280]))/2\n",
    "    t=(float(lst[17291])+float(lst[17292]))/2\n",
    "    u=(float(lst[17303])+float(lst[17304]))/2\n",
    "    v=(float(lst[17315])+float(lst[17316]))/2\n",
    "    w=(float(lst[17327])+float(lst[17328]))/2\n",
    "    x=(float(lst[17339])+float(lst[17340]))/2\n",
    "    y=(float(lst[17351])+float(lst[17352]))/2\n",
    "    temp_crn=[a,b,c,d,e,f,g,h,i,j,k,l,m,n,o,p,q,r,s,t,u,v,w,x,y]\n",
    "    temp_crn=np.cumsum(temp_crn)\n",
    "    print(temp_crn)"
   ]
  },
  {
   "cell_type": "code",
   "execution_count": 25,
   "id": "a9ff3306",
   "metadata": {},
   "outputs": [
    {
     "name": "stdout",
     "output_type": "stream",
     "text": [
      "[0.0, 0.0, 0.0, 0.0, 0.0, 0.0, 0.0, 0.0, 0.0, 0.0, 0.0, 0.0, 0.0, 0.0, 0.0, 0.0, 0.0, 0.0, 0.0, 0.0, 0.0, 0.0, 0.0, 0.0, 0.0]\n"
     ]
    }
   ],
   "source": [
    "difference1_fai = []\n",
    "\n",
    "zip_object = zip(temp, temp_crn)\n",
    "for temp_i, temp_crn_i in zip_object:\n",
    "    difference1_fai.append(temp_i-temp_crn_i)\n",
    "\n",
    "print(difference1_fai)"
   ]
  },
  {
   "cell_type": "markdown",
   "id": "f5dd4e4b",
   "metadata": {},
   "source": [
    "<font size=\"3\">**Selma, AL: 0600 UTC (12:00 am CST) 01 March 2022-0600 UTC (12:00 am CST) 02 March 2022</font>"
   ]
  },
  {
   "cell_type": "code",
   "execution_count": 26,
   "id": "af6b46b1",
   "metadata": {},
   "outputs": [
    {
     "name": "stdout",
     "output_type": "stream",
     "text": [
      "[0. 0. 0. 0. 0. 0. 0. 0. 0. 0. 0. 0. 0. 0. 0. 0. 0. 0. 0. 0. 0. 0. 0. 0.\n",
      " 0.]\n"
     ]
    }
   ],
   "source": [
    "#1 hr hrrr:\n",
    "import numpy as np\n",
    "import numpy.ma as ma\n",
    "with open('hrrr_f01_Selma_AL.txt') as f:\n",
    "    lst=[line.split()[2] for line in f]\n",
    "    temp=[]\n",
    "    for i in lst:\n",
    "        new=i.replace(',',\"\")\n",
    "        temp.append(new)\n",
    "    temp.pop(0)\n",
    "    temp=[float(x) for x in temp]\n",
    "    temp=temp[1421:1446]\n",
    "\n",
    "#     x = np.array(temp)\n",
    "#     temp = ma.masked_array(x, mask=[0, 0, 0, 0, 0,0,0,0,0,0,0,0,0,0,0,0,0,1,1,1,1,0,0,0,0])\n",
    "    temp=np.cumsum(temp)\n",
    "    print(temp_crn)"
   ]
  },
  {
   "cell_type": "code",
   "execution_count": 27,
   "id": "942dc824",
   "metadata": {},
   "outputs": [
    {
     "name": "stdout",
     "output_type": "stream",
     "text": [
      "[0. 0. 0. 0. 0. 0. 0. 0. 0. 0. 0. 0. 0. 0. 0. 0. 0. 0. 0. 0. 0. 0. 0. 0.\n",
      " 0.]\n"
     ]
    }
   ],
   "source": [
    "#Air Temp CRN:\n",
    "with open('CRNS0101-05-2022-AL_Selma_13_WNW.txt') as f:\n",
    "    lst=[line.split()[9] for line in f]\n",
    "    \n",
    "    a=(float(lst[17063])+float(lst[17064]))/2\n",
    "    b=(float(lst[17075])+float(lst[17076]))/2\n",
    "    c=(float(lst[17087])+float(lst[17088]))/2\n",
    "    d=(float(lst[17099])+float(lst[17100]))/2\n",
    "    e=(float(lst[17111])+float(lst[17112]))/2\n",
    "    f=(float(lst[17123])+float(lst[17124]))/2\n",
    "    g=(float(lst[17135])+float(lst[17136]))/2\n",
    "    h=(float(lst[17147])+float(lst[17148]))/2\n",
    "    i=(float(lst[17159])+float(lst[17160]))/2\n",
    "    j=(float(lst[17171])+float(lst[17172]))/2\n",
    "    k=(float(lst[17183])+float(lst[17184]))/2\n",
    "    l=(float(lst[17195])+float(lst[17196]))/2\n",
    "    m=(float(lst[17207])+float(lst[17208]))/2\n",
    "    n=(float(lst[17219])+float(lst[17220]))/2\n",
    "    o=(float(lst[17231])+float(lst[17232]))/2\n",
    "    p=(float(lst[17243])+float(lst[17244]))/2\n",
    "    q=(float(lst[17255])+float(lst[17256]))/2\n",
    "    r=(float(lst[17267])+float(lst[17268]))/2\n",
    "    s=(float(lst[17279])+float(lst[17280]))/2\n",
    "    t=(float(lst[17291])+float(lst[17292]))/2\n",
    "    u=(float(lst[17303])+float(lst[17304]))/2\n",
    "    v=(float(lst[17315])+float(lst[17316]))/2\n",
    "    w=(float(lst[17327])+float(lst[17328]))/2\n",
    "    x=(float(lst[17339])+float(lst[17340]))/2\n",
    "    y=(float(lst[17351])+float(lst[17352]))/2\n",
    "    temp_crn=[a,b,c,d,e,f,g,h,i,j,k,l,m,n,o,p,q,r,s,t,u,v,w,x,y]\n",
    "    temp_crn=np.cumsum(temp_crn)\n",
    "    print(temp_crn)"
   ]
  },
  {
   "cell_type": "code",
   "execution_count": 28,
   "id": "fdfb15c8",
   "metadata": {},
   "outputs": [
    {
     "name": "stdout",
     "output_type": "stream",
     "text": [
      "[0.0, 0.0, 0.0, 0.0, 0.0, 0.0, 0.0, 0.0, 0.0, 0.0, 0.0, 0.0, 0.0, 0.0, 0.0, 0.0, 0.0, 0.0, 0.0, 0.0, 0.0, 0.0, 0.0, 0.0, 0.0]\n"
     ]
    }
   ],
   "source": [
    "difference1_sel = []\n",
    "\n",
    "zip_object = zip(temp, temp_crn)\n",
    "for temp_i, temp_crn_i in zip_object:\n",
    "    difference1_sel.append(temp_i-temp_crn_i)\n",
    "\n",
    "print(difference1_sel)\n",
    "#print(len(difference1_sel))"
   ]
  },
  {
   "cell_type": "markdown",
   "id": "8fab4bdc",
   "metadata": {},
   "source": [
    "<font size=\"3\">Bowling Green, KY: 0600 UTC (12:00 am CST) 01 March 2022-0600 UTC (12:00 am CST) 02 March 2022</font>"
   ]
  },
  {
   "cell_type": "code",
   "execution_count": 29,
   "id": "bf608647",
   "metadata": {},
   "outputs": [
    {
     "name": "stdout",
     "output_type": "stream",
     "text": [
      "[0. 0. 0. 0. 0. 0. 0. 0. 0. 0. 0. 0. 0. 0. 0. 0. 0. 0. 0. 0. 0. 0. 0. 0.\n",
      " 0.]\n"
     ]
    }
   ],
   "source": [
    "#1 hr hrrr:\n",
    "with open('hrrr_f01_Bowling Green_KY.txt') as f:\n",
    "    lst=[line.split()[2] for line in f]\n",
    "    temp=[]\n",
    "    for i in lst:\n",
    "        new=i.replace(',',\"\")\n",
    "        temp.append(new)\n",
    "    temp.pop(0)\n",
    "    temp=[float(x) for x in temp]\n",
    "    temp=temp[1421:1446]\n",
    "    #temp=temp[2015:2063]\n",
    "    temp=np.cumsum(temp)\n",
    "    print(temp)\n",
    "#full time period is [2015:2112]"
   ]
  },
  {
   "cell_type": "code",
   "execution_count": 30,
   "id": "d7253497",
   "metadata": {},
   "outputs": [
    {
     "name": "stdout",
     "output_type": "stream",
     "text": [
      "[0. 0. 0. 0. 0. 0. 0. 0. 0. 0. 0. 0. 0. 0. 0. 0. 0. 0. 0. 0. 0. 0. 0. 0.\n",
      " 0.]\n"
     ]
    }
   ],
   "source": [
    "#Air Temp CRN:\n",
    "with open('CRNS0101-05-2022-KY_Bowling_Green_21_NNE.txt') as f:\n",
    "    lst=[line.split()[9] for line in f]\n",
    "    \n",
    "    a=(float(lst[17063])+float(lst[17064]))/2\n",
    "    b=(float(lst[17075])+float(lst[17076]))/2\n",
    "    c=(float(lst[17087])+float(lst[17088]))/2\n",
    "    d=(float(lst[17099])+float(lst[17100]))/2\n",
    "    e=(float(lst[17111])+float(lst[17112]))/2\n",
    "    f=(float(lst[17123])+float(lst[17124]))/2\n",
    "    g=(float(lst[17135])+float(lst[17136]))/2\n",
    "    h=(float(lst[17147])+float(lst[17148]))/2\n",
    "    i=(float(lst[17159])+float(lst[17160]))/2\n",
    "    j=(float(lst[17171])+float(lst[17172]))/2\n",
    "    k=(float(lst[17183])+float(lst[17184]))/2\n",
    "    l=(float(lst[17195])+float(lst[17196]))/2\n",
    "    m=(float(lst[17207])+float(lst[17208]))/2\n",
    "    n=(float(lst[17219])+float(lst[17220]))/2\n",
    "    o=(float(lst[17231])+float(lst[17232]))/2\n",
    "    p=(float(lst[17243])+float(lst[17244]))/2\n",
    "    q=(float(lst[17255])+float(lst[17256]))/2\n",
    "    r=(float(lst[17267])+float(lst[17268]))/2\n",
    "    s=(float(lst[17279])+float(lst[17280]))/2\n",
    "    t=(float(lst[17291])+float(lst[17292]))/2\n",
    "    u=(float(lst[17303])+float(lst[17304]))/2\n",
    "    v=(float(lst[17315])+float(lst[17316]))/2\n",
    "    w=(float(lst[17327])+float(lst[17328]))/2\n",
    "    x=(float(lst[17339])+float(lst[17340]))/2\n",
    "    y=(float(lst[17351])+float(lst[17352]))/2\n",
    "    temp_crn=[a,b,c,d,e,f,g,h,i,j,k,l,m,n,o,p,q,r,s,t,u,v,w,x,y]\n",
    "    temp_crn=np.cumsum(temp_crn)\n",
    "    print(temp_crn)"
   ]
  },
  {
   "cell_type": "code",
   "execution_count": 31,
   "id": "c1e72531",
   "metadata": {},
   "outputs": [
    {
     "name": "stdout",
     "output_type": "stream",
     "text": [
      "[0.0, 0.0, 0.0, 0.0, 0.0, 0.0, 0.0, 0.0, 0.0, 0.0, 0.0, 0.0, 0.0, 0.0, 0.0, 0.0, 0.0, 0.0, 0.0, 0.0, 0.0, 0.0, 0.0, 0.0, 0.0]\n"
     ]
    }
   ],
   "source": [
    "difference1_bow = []\n",
    "\n",
    "zip_object = zip(temp, temp_crn)\n",
    "for temp_i, temp_crn_i in zip_object:\n",
    "    difference1_bow.append(temp_i-temp_crn_i)\n",
    "\n",
    "print(difference1_bow)"
   ]
  },
  {
   "cell_type": "markdown",
   "id": "d1be2cc0",
   "metadata": {},
   "source": [
    "<font size=\"3\">Gadsden, AL: 0600 UTC (12:00 am CST) 01 March 2022-0600 UTC (12:00 am CST) 02 March 2022</font>"
   ]
  },
  {
   "cell_type": "code",
   "execution_count": 32,
   "id": "02793170",
   "metadata": {},
   "outputs": [
    {
     "name": "stdout",
     "output_type": "stream",
     "text": [
      "[0. 0. 0. 0. 0. 0. 0. 0. 0. 0. 0. 0. 0. 0. 0. 0. 0. 0. 0. 0. 0. 0. 0. 0.\n",
      " 0.]\n"
     ]
    }
   ],
   "source": [
    "#1 hr hrrr:\n",
    "with open('hrrr_f01_Gadsden_AL.txt') as f:\n",
    "    lst=[line.split()[2] for line in f]\n",
    "    temp=[]\n",
    "    for i in lst:\n",
    "        new=i.replace(',',\"\")\n",
    "        temp.append(new)\n",
    "    temp.pop(0)\n",
    "    temp=[float(x) for x in temp]\n",
    "    temp=temp[1421:1446]\n",
    "#     x = np.array(temp)\n",
    "#     temp = ma.masked_array(x, mask=[0, 0, 0, 0, 0,0,0,0,1,0,0,0,0,0,0,0,0,0,0,0,0,0,0,0,0])\n",
    "    #temp=temp[2015:2063]\n",
    "    temp=np.cumsum(temp)\n",
    "    print(temp)\n",
    "#full time period is [2015:2112]"
   ]
  },
  {
   "cell_type": "code",
   "execution_count": 33,
   "id": "5fd7f4a3",
   "metadata": {},
   "outputs": [
    {
     "name": "stdout",
     "output_type": "stream",
     "text": [
      "[0.  0.  0.  0.  0.  0.  0.  0.1 0.1 0.1 0.1 0.1 0.1 0.1 0.1 0.1 0.1 0.1\n",
      " 0.1 0.1 0.1 0.1 0.1 0.1 0.1]\n"
     ]
    }
   ],
   "source": [
    "#Air Temp CRN:\n",
    "with open('CRNS0101-05-2022-AL_Gadsden_19_N.txt') as f:\n",
    "    lst=[line.split()[9] for line in f]\n",
    "    \n",
    "    a=(float(lst[17063])+float(lst[17064]))/2\n",
    "    b=(float(lst[17075])+float(lst[17076]))/2\n",
    "    c=(float(lst[17087])+float(lst[17088]))/2\n",
    "    d=(float(lst[17099])+float(lst[17100]))/2\n",
    "    e=(float(lst[17111])+float(lst[17112]))/2\n",
    "    f=(float(lst[17123])+float(lst[17124]))/2\n",
    "    g=(float(lst[17135])+float(lst[17136]))/2\n",
    "    h=(float(lst[17147])+float(lst[17148]))/2\n",
    "    i=(float(lst[17159])+float(lst[17160]))/2\n",
    "    j=(float(lst[17171])+float(lst[17172]))/2\n",
    "    k=(float(lst[17183])+float(lst[17184]))/2\n",
    "    l=(float(lst[17195])+float(lst[17196]))/2\n",
    "    m=(float(lst[17207])+float(lst[17208]))/2\n",
    "    n=(float(lst[17219])+float(lst[17220]))/2\n",
    "    o=(float(lst[17231])+float(lst[17232]))/2\n",
    "    p=(float(lst[17243])+float(lst[17244]))/2\n",
    "    q=(float(lst[17255])+float(lst[17256]))/2\n",
    "    r=(float(lst[17267])+float(lst[17268]))/2\n",
    "    s=(float(lst[17279])+float(lst[17280]))/2\n",
    "    t=(float(lst[17291])+float(lst[17292]))/2\n",
    "    u=(float(lst[17303])+float(lst[17304]))/2\n",
    "    v=(float(lst[17315])+float(lst[17316]))/2\n",
    "    w=(float(lst[17327])+float(lst[17328]))/2\n",
    "    x=(float(lst[17339])+float(lst[17340]))/2\n",
    "    y=(float(lst[17351])+float(lst[17352]))/2\n",
    "    temp_crn=[a,b,c,d,e,f,g,h,i,j,k,l,m,n,o,p,q,r,s,t,u,v,w,x,y]\n",
    "    temp_crn=np.cumsum(temp_crn)\n",
    "    print(temp_crn)"
   ]
  },
  {
   "cell_type": "code",
   "execution_count": 34,
   "id": "c002ac76",
   "metadata": {},
   "outputs": [
    {
     "name": "stdout",
     "output_type": "stream",
     "text": [
      "[0.0, 0.0, 0.0, 0.0, 0.0, 0.0, 0.0, -0.1, -0.1, -0.1, -0.1, -0.1, -0.1, -0.1, -0.1, -0.1, -0.1, -0.1, -0.1, -0.1, -0.1, -0.1, -0.1, -0.1, -0.1]\n"
     ]
    }
   ],
   "source": [
    "difference1_gad = []\n",
    "\n",
    "zip_object = zip(temp, temp_crn)\n",
    "for temp_i, temp_crn_i in zip_object:\n",
    "    difference1_gad.append(temp_i-temp_crn_i)\n",
    "\n",
    "print(difference1_gad)"
   ]
  },
  {
   "cell_type": "markdown",
   "id": "d430f7c6",
   "metadata": {},
   "source": [
    "<font size=\"3\">Newton, GA: 0600 UTC (12:00 am CST) 01 March 2022-0600 UTC (12:00 am CST) 02 March 2022</font>"
   ]
  },
  {
   "cell_type": "code",
   "execution_count": 35,
   "id": "e78bb8bf",
   "metadata": {},
   "outputs": [
    {
     "name": "stdout",
     "output_type": "stream",
     "text": [
      "[0. 0. 0. 0. 0. 0. 0. 0. 0. 0. 0. 0. 0. 0. 0. 0. 0. 0. 0. 0. 0. 0. 0. 0.\n",
      " 0.]\n"
     ]
    }
   ],
   "source": [
    "#1 hr hrrr:\n",
    "with open('hrrr_f01_Newton_GA.txt') as f:\n",
    "    lst=[line.split()[2] for line in f]\n",
    "    temp=[]\n",
    "    for i in lst:\n",
    "        new=i.replace(',',\"\")\n",
    "        temp.append(new)\n",
    "    temp.pop(0)\n",
    "    temp=[float(x) for x in temp]\n",
    "    temp=temp[1421:1446]\n",
    "    #temp=temp[2015:2063]\n",
    "    temp=np.cumsum(temp)\n",
    "    print(temp)\n",
    "#full time period is [2015:2112]"
   ]
  },
  {
   "cell_type": "code",
   "execution_count": 36,
   "id": "52b388f2",
   "metadata": {},
   "outputs": [
    {
     "name": "stdout",
     "output_type": "stream",
     "text": [
      "[0.0 0.0 0.0 0.0 0.0 0.0 0.0 -- -- -- -- 0.0 0.0 0.0 0.0 0.0 0.0 0.0 0.0\n",
      " 0.0 0.0 0.0 0.0 0.0 0.0]\n"
     ]
    }
   ],
   "source": [
    "#Air Temp CRN:\n",
    "with open('CRNS0101-05-2022-GA_Newton_11_SW.txt') as f:\n",
    "    lst=[line.split()[9] for line in f]\n",
    "    \n",
    "    a=(float(lst[17063])+float(lst[17064]))/2\n",
    "    b=(float(lst[17075])+float(lst[17076]))/2\n",
    "    c=(float(lst[17087])+float(lst[17088]))/2\n",
    "    d=(float(lst[17099])+float(lst[17100]))/2\n",
    "    e=(float(lst[17111])+float(lst[17112]))/2\n",
    "    f=(float(lst[17123])+float(lst[17124]))/2\n",
    "    g=(float(lst[17135])+float(lst[17136]))/2\n",
    "    h=(float(lst[17147])+float(lst[17148]))/2\n",
    "    i=(float(lst[17159])+float(lst[17160]))/2\n",
    "    j=(float(lst[17171])+float(lst[17172]))/2\n",
    "    k=(float(lst[17183])+float(lst[17184]))/2\n",
    "    l=(float(lst[17195])+float(lst[17196]))/2\n",
    "    m=(float(lst[17207])+float(lst[17208]))/2\n",
    "    n=(float(lst[17219])+float(lst[17220]))/2\n",
    "    o=(float(lst[17231])+float(lst[17232]))/2\n",
    "    p=(float(lst[17243])+float(lst[17244]))/2\n",
    "    q=(float(lst[17255])+float(lst[17256]))/2\n",
    "    r=(float(lst[17267])+float(lst[17268]))/2\n",
    "    s=(float(lst[17279])+float(lst[17280]))/2\n",
    "    t=(float(lst[17291])+float(lst[17292]))/2\n",
    "    u=(float(lst[17303])+float(lst[17304]))/2\n",
    "    v=(float(lst[17315])+float(lst[17316]))/2\n",
    "    w=(float(lst[17327])+float(lst[17328]))/2\n",
    "    x=(float(lst[17339])+float(lst[17340]))/2\n",
    "    y=(float(lst[17351])+float(lst[17352]))/2\n",
    "    temp_crn=[a,b,c,d,e,f,g,h,i,j,k,l,m,n,o,p,q,r,s,t,u,v,w,x,y]\n",
    "    y = np.array(temp_crn)\n",
    "    temp_crn = ma.masked_array(y, mask=[0, 0, 0, 0, 0,0,0,1,1,1,1,0,0,0,0,0,0,0,0,0,0,0,0,0,0])\n",
    "    temp_crn=np.cumsum(temp_crn)\n",
    "    print(temp_crn)"
   ]
  },
  {
   "cell_type": "code",
   "execution_count": 37,
   "id": "f2141c03",
   "metadata": {},
   "outputs": [
    {
     "name": "stdout",
     "output_type": "stream",
     "text": [
      "[0.0, 0.0, 0.0, 0.0, 0.0, 0.0, 0.0, masked, masked, masked, masked, 0.0, 0.0, 0.0, 0.0, 0.0, 0.0, 0.0, 0.0, 0.0, 0.0, 0.0, 0.0, 0.0, 0.0]\n"
     ]
    }
   ],
   "source": [
    "difference1_newt = []\n",
    "\n",
    "zip_object = zip(temp, temp_crn)\n",
    "for temp_i, temp_crn_i in zip_object:\n",
    "    difference1_newt.append(temp_i-temp_crn_i)\n",
    "\n",
    "print(difference1_newt)"
   ]
  },
  {
   "cell_type": "markdown",
   "id": "8ee79bb2",
   "metadata": {},
   "source": [
    "<font size=\"3\">Salem, MO: 1200 UTC 22 March 2022-1200 UTC 23 March 2022</font>"
   ]
  },
  {
   "cell_type": "code",
   "execution_count": 38,
   "id": "01442781",
   "metadata": {},
   "outputs": [
    {
     "name": "stdout",
     "output_type": "stream",
     "text": [
      "[0. 0. 0. 0. 0. 0. 0. 0. 0. 0. 0. 0. 0. 0. 0. 0. 0. 0. 0. 0. 0. 0. 0. 0.\n",
      " 0.]\n"
     ]
    }
   ],
   "source": [
    "#1 hr hrrr:\n",
    "with open('hrrr_f01_Salem_MO.txt') as f:\n",
    "    lst=[line.split()[2] for line in f]\n",
    "    temp=[]\n",
    "    for i in lst:\n",
    "        new=i.replace(',',\"\")\n",
    "        temp.append(new)\n",
    "    temp.pop(0)\n",
    "    temp=[float(x) for x in temp]\n",
    "    temp=temp[1709:1734]\n",
    "    #temp=temp[2015:2063]\n",
    "    temp=np.cumsum(temp)\n",
    "    print(temp)\n",
    "#full time period is [2015:2112]"
   ]
  },
  {
   "cell_type": "code",
   "execution_count": 39,
   "id": "5c26c31d",
   "metadata": {},
   "outputs": [
    {
     "name": "stdout",
     "output_type": "stream",
     "text": [
      "[0. 0. 0. 0. 0. 0. 0. 0. 0. 0. 0. 0. 0. 0. 0. 0. 0. 0. 0. 0. 0. 0. 0. 0.\n",
      " 0.]\n"
     ]
    }
   ],
   "source": [
    "#Air Temp CRN:\n",
    "with open('CRNS0101-05-2022-MO_Salem_10_W.txt') as f:\n",
    "    lst=[line.split()[9] for line in f]\n",
    "    \n",
    "    a=(float(lst[20519])+float(lst[20520]))/2\n",
    "    b=(float(lst[20531])+float(lst[20532]))/2\n",
    "    c=(float(lst[20543])+float(lst[20544]))/2\n",
    "    d=(float(lst[20555])+float(lst[20556]))/2\n",
    "    e=(float(lst[20567])+float(lst[20568]))/2\n",
    "    f=(float(lst[20579])+float(lst[20580]))/2\n",
    "    g=(float(lst[20591])+float(lst[20592]))/2\n",
    "    h=(float(lst[20603])+float(lst[20604]))/2\n",
    "    i=(float(lst[20615])+float(lst[20616]))/2\n",
    "    j=(float(lst[20627])+float(lst[20628]))/2\n",
    "    k=(float(lst[20639])+float(lst[20640]))/2\n",
    "    l=(float(lst[20651])+float(lst[20652]))/2\n",
    "    m=(float(lst[20663])+float(lst[20664]))/2\n",
    "    n=(float(lst[20675])+float(lst[20676]))/2\n",
    "    o=(float(lst[20687])+float(lst[20688]))/2\n",
    "    p=(float(lst[20699])+float(lst[20700]))/2\n",
    "    q=(float(lst[20711])+float(lst[20712]))/2\n",
    "    r=(float(lst[20723])+float(lst[20724]))/2\n",
    "    s=(float(lst[20735])+float(lst[20736]))/2\n",
    "    t=(float(lst[20747])+float(lst[20748]))/2\n",
    "    u=(float(lst[20759])+float(lst[20760]))/2\n",
    "    v=(float(lst[20771])+float(lst[20772]))/2\n",
    "    w=(float(lst[20783])+float(lst[20784]))/2\n",
    "    x=(float(lst[20795])+float(lst[20796]))/2\n",
    "    y=(float(lst[20807])+float(lst[20808]))/2\n",
    "    \n",
    "    temp_crn=[a,b,c,d,e,f,g,h,i,j,k,l,m,n,o,p,q,r,s,t,u,v,w,x,y]\n",
    "    temp_crn=np.cumsum(temp_crn)\n",
    "    print(temp_crn)"
   ]
  },
  {
   "cell_type": "code",
   "execution_count": 40,
   "id": "3f860af3",
   "metadata": {},
   "outputs": [
    {
     "name": "stdout",
     "output_type": "stream",
     "text": [
      "[0.0, 0.0, 0.0, 0.0, 0.0, 0.0, 0.0, 0.0, 0.0, 0.0, 0.0, 0.0, 0.0, 0.0, 0.0, 0.0, 0.0, 0.0, 0.0, 0.0, 0.0, 0.0, 0.0, 0.0, 0.0]\n"
     ]
    }
   ],
   "source": [
    "difference2_sal = []\n",
    "\n",
    "zip_object = zip(temp, temp_crn)\n",
    "for temp_i, temp_crn_i in zip_object:\n",
    "    difference2_sal.append(temp_i-temp_crn_i)\n",
    "\n",
    "print(difference2_sal)"
   ]
  },
  {
   "cell_type": "markdown",
   "id": "521bd7c5",
   "metadata": {},
   "source": [
    "<font size=\"3\">Batesville, AR: 0600 UTC (12:00 am CST) 01 March 2022-0600 UTC (12:00 am CST) 02 March 2022</font>"
   ]
  },
  {
   "cell_type": "code",
   "execution_count": 41,
   "id": "fac2aa09",
   "metadata": {},
   "outputs": [
    {
     "name": "stdout",
     "output_type": "stream",
     "text": [
      "[0. 0. 0. 0. 0. 0. 0. 0. 0. 0. 0. 0. 0. 0. 0. 0. 0. 0. 0. 0. 0. 0. 0. 0.\n",
      " 0.]\n"
     ]
    }
   ],
   "source": [
    "#1 hr hrrr:\n",
    "with open('hrrr_f01_Batesville_AR.txt') as f:\n",
    "    lst=[line.split()[2] for line in f]\n",
    "    temp=[]\n",
    "    for i in lst:\n",
    "        new=i.replace(',',\"\")\n",
    "        temp.append(new)\n",
    "    temp.pop(0)\n",
    "    temp=[float(x) for x in temp]\n",
    "    temp=temp[1709:1734]\n",
    "#     x = np.array(temp)\n",
    "#     temp = ma.masked_array(x, mask=[0, 0, 0, 0, 0,0,0,0,0,0,0,0,0,0,0,0,0,0,0,0,0,1,0,0,0])\n",
    "    #temp=temp[2015:2063]\n",
    "    temp=np.cumsum(temp)\n",
    "    print(temp)\n",
    "#full time period is [2015:2112]"
   ]
  },
  {
   "cell_type": "code",
   "execution_count": 42,
   "id": "ddec2780",
   "metadata": {},
   "outputs": [
    {
     "name": "stdout",
     "output_type": "stream",
     "text": [
      "[0. 0. 0. 0. 0. 0. 0. 0. 0. 0. 0. 0. 0. 0. 0. 0. 0. 0. 0. 0. 0. 0. 0. 0.\n",
      " 0.]\n"
     ]
    }
   ],
   "source": [
    "#Air Temp CRN:\n",
    "with open('CRNS0101-05-2022-AR_Batesville_8_WNW.txt') as f:\n",
    "    lst=[line.split()[9] for line in f]\n",
    "    \n",
    "    a=(float(lst[20519])+float(lst[20520]))/2\n",
    "    b=(float(lst[20531])+float(lst[20532]))/2\n",
    "    c=(float(lst[20543])+float(lst[20544]))/2\n",
    "    d=(float(lst[20555])+float(lst[20556]))/2\n",
    "    e=(float(lst[20567])+float(lst[20568]))/2\n",
    "    f=(float(lst[20579])+float(lst[20580]))/2\n",
    "    g=(float(lst[20591])+float(lst[20592]))/2\n",
    "    h=(float(lst[20603])+float(lst[20604]))/2\n",
    "    i=(float(lst[20615])+float(lst[20616]))/2\n",
    "    j=(float(lst[20627])+float(lst[20628]))/2\n",
    "    k=(float(lst[20639])+float(lst[20640]))/2\n",
    "    l=(float(lst[20651])+float(lst[20652]))/2\n",
    "    m=(float(lst[20663])+float(lst[20664]))/2\n",
    "    n=(float(lst[20675])+float(lst[20676]))/2\n",
    "    o=(float(lst[20687])+float(lst[20688]))/2\n",
    "    p=(float(lst[20699])+float(lst[20700]))/2\n",
    "    q=(float(lst[20711])+float(lst[20712]))/2\n",
    "    r=(float(lst[20723])+float(lst[20724]))/2\n",
    "    s=(float(lst[20735])+float(lst[20736]))/2\n",
    "    t=(float(lst[20747])+float(lst[20748]))/2\n",
    "    u=(float(lst[20759])+float(lst[20760]))/2\n",
    "    v=(float(lst[20771])+float(lst[20772]))/2\n",
    "    w=(float(lst[20783])+float(lst[20784]))/2\n",
    "    x=(float(lst[20795])+float(lst[20796]))/2\n",
    "    y=(float(lst[20807])+float(lst[20808]))/2\n",
    "    \n",
    "    temp_crn=[a,b,c,d,e,f,g,h,i,j,k,l,m,n,o,p,q,r,s,t,u,v,w,x,y]\n",
    "    temp_crn=np.cumsum(temp_crn)\n",
    "    print(temp_crn)"
   ]
  },
  {
   "cell_type": "code",
   "execution_count": 43,
   "id": "6a5a229b",
   "metadata": {},
   "outputs": [
    {
     "name": "stdout",
     "output_type": "stream",
     "text": [
      "[0.0, 0.0, 0.0, 0.0, 0.0, 0.0, 0.0, 0.0, 0.0, 0.0, 0.0, 0.0, 0.0, 0.0, 0.0, 0.0, 0.0, 0.0, 0.0, 0.0, 0.0, 0.0, 0.0, 0.0, 0.0]\n"
     ]
    }
   ],
   "source": [
    "difference2_bat = []\n",
    "\n",
    "zip_object = zip(temp, temp_crn)\n",
    "for temp_i, temp_crn_i in zip_object:\n",
    "    difference2_bat.append(temp_i-temp_crn_i)\n",
    "\n",
    "print(difference2_bat)"
   ]
  },
  {
   "cell_type": "markdown",
   "id": "16bf265f",
   "metadata": {},
   "source": [
    "<font size=\"3\">Lafayette, LA: 0600 UTC (12:00 am CST) 01 March 2022-0600 UTC (12:00 am CST) 02 March 2022</font>"
   ]
  },
  {
   "cell_type": "code",
   "execution_count": 44,
   "id": "b23c7950",
   "metadata": {},
   "outputs": [
    {
     "name": "stdout",
     "output_type": "stream",
     "text": [
      "[0. 0. 0. 0. 0. 0. 0. 0. 0. 0. 0. 0. 0. 0. 0. 0. 0. 0. 0. 0. 0. 0. 0. 0.\n",
      " 0.]\n"
     ]
    }
   ],
   "source": [
    "#1 hr hrrr:\n",
    "with open('hrrr_f01_Lafayette_LA.txt') as f:\n",
    "    lst=[line.split()[2] for line in f]\n",
    "    temp=[]\n",
    "    for i in lst:\n",
    "        new=i.replace(',',\"\")\n",
    "        temp.append(new)\n",
    "    temp.pop(0)\n",
    "    temp=[float(x) for x in temp]\n",
    "    temp=temp[1709:1734]\n",
    "    #temp=temp[2015:2063]\n",
    "    temp=np.cumsum(temp)\n",
    "    print(temp)\n",
    "#full time period is [2015:2112]"
   ]
  },
  {
   "cell_type": "code",
   "execution_count": 45,
   "id": "322db923",
   "metadata": {},
   "outputs": [
    {
     "name": "stdout",
     "output_type": "stream",
     "text": [
      "[0. 0. 0. 0. 0. 0. 0. 0. 0. 0. 0. 0. 0. 0. 0. 0. 0. 0. 0. 0. 0. 0. 0. 0.\n",
      " 0.]\n"
     ]
    }
   ],
   "source": [
    "#Air Temp CRN:\n",
    "with open('CRNS0101-05-2022-LA_Lafayette_13_SE.txt') as f:\n",
    "    lst=[line.split()[9] for line in f]\n",
    "    \n",
    "    a=(float(lst[20519])+float(lst[20520]))/2\n",
    "    b=(float(lst[20531])+float(lst[20532]))/2\n",
    "    c=(float(lst[20543])+float(lst[20544]))/2\n",
    "    d=(float(lst[20555])+float(lst[20556]))/2\n",
    "    e=(float(lst[20567])+float(lst[20568]))/2\n",
    "    f=(float(lst[20579])+float(lst[20580]))/2\n",
    "    g=(float(lst[20591])+float(lst[20592]))/2\n",
    "    h=(float(lst[20603])+float(lst[20604]))/2\n",
    "    i=(float(lst[20615])+float(lst[20616]))/2\n",
    "    j=(float(lst[20627])+float(lst[20628]))/2\n",
    "    k=(float(lst[20639])+float(lst[20640]))/2\n",
    "    l=(float(lst[20651])+float(lst[20652]))/2\n",
    "    m=(float(lst[20663])+float(lst[20664]))/2\n",
    "    n=(float(lst[20675])+float(lst[20676]))/2\n",
    "    o=(float(lst[20687])+float(lst[20688]))/2\n",
    "    p=(float(lst[20699])+float(lst[20700]))/2\n",
    "    q=(float(lst[20711])+float(lst[20712]))/2\n",
    "    r=(float(lst[20723])+float(lst[20724]))/2\n",
    "    s=(float(lst[20735])+float(lst[20736]))/2\n",
    "    t=(float(lst[20747])+float(lst[20748]))/2\n",
    "    u=(float(lst[20759])+float(lst[20760]))/2\n",
    "    v=(float(lst[20771])+float(lst[20772]))/2\n",
    "    w=(float(lst[20783])+float(lst[20784]))/2\n",
    "    x=(float(lst[20795])+float(lst[20796]))/2\n",
    "    y=(float(lst[20807])+float(lst[20808]))/2\n",
    "    \n",
    "    temp_crn=[a,b,c,d,e,f,g,h,i,j,k,l,m,n,o,p,q,r,s,t,u,v,w,x,y]\n",
    "    temp_crn=np.cumsum(temp_crn)\n",
    "    print(temp_crn)"
   ]
  },
  {
   "cell_type": "code",
   "execution_count": 46,
   "id": "07cf95c8",
   "metadata": {},
   "outputs": [
    {
     "name": "stdout",
     "output_type": "stream",
     "text": [
      "[0.0, 0.0, 0.0, 0.0, 0.0, 0.0, 0.0, 0.0, 0.0, 0.0, 0.0, 0.0, 0.0, 0.0, 0.0, 0.0, 0.0, 0.0, 0.0, 0.0, 0.0, 0.0, 0.0, 0.0, 0.0]\n"
     ]
    }
   ],
   "source": [
    "difference2_laf = []\n",
    "\n",
    "zip_object = zip(temp, temp_crn)\n",
    "for temp_i, temp_crn_i in zip_object:\n",
    "    difference2_laf.append(temp_i-temp_crn_i)\n",
    "\n",
    "print(difference2_laf)"
   ]
  },
  {
   "cell_type": "markdown",
   "id": "cda99a3a",
   "metadata": {},
   "source": [
    "<font size=\"3\">Monroe, LA: 0600 UTC (12:00 am CST) 01 March 2022-0600 UTC (12:00 am CST) 02 March 2022</font>"
   ]
  },
  {
   "cell_type": "code",
   "execution_count": 47,
   "id": "3c145693",
   "metadata": {},
   "outputs": [
    {
     "name": "stdout",
     "output_type": "stream",
     "text": [
      "[0. 0. 0. 0. 0. 0. 0. 0. 0. 0. 0. 0. 0. 0. 0. 0. 0. 0. 0. 0. 0. 0. 0. 0.\n",
      " 0.]\n"
     ]
    }
   ],
   "source": [
    "#1 hr hrrr:\n",
    "with open('hrrr_f01_Monroe_LA.txt') as f:\n",
    "    lst=[line.split()[2] for line in f]\n",
    "    temp=[]\n",
    "    for i in lst:\n",
    "        new=i.replace(',',\"\")\n",
    "        temp.append(new)\n",
    "    temp.pop(0)\n",
    "    temp=[float(x) for x in temp]\n",
    "    temp=temp[1709:1734]\n",
    "    #temp=temp[2015:2063]\n",
    "    temp=np.cumsum(temp)\n",
    "    print(temp)\n",
    "#full time period is [2015:2112]"
   ]
  },
  {
   "cell_type": "code",
   "execution_count": 48,
   "id": "facb606c",
   "metadata": {},
   "outputs": [
    {
     "name": "stdout",
     "output_type": "stream",
     "text": [
      "[0. 0. 0. 0. 0. 0. 0. 0. 0. 0. 0. 0. 0. 0. 0. 0. 0. 0. 0. 0. 0. 0. 0. 0.\n",
      " 0.]\n"
     ]
    }
   ],
   "source": [
    "#Air Temp CRN:\n",
    "with open('CRNS0101-05-2022-LA_Monroe_26_N.txt') as f:\n",
    "    lst=[line.split()[9] for line in f]\n",
    "    \n",
    "    a=(float(lst[20519])+float(lst[20520]))/2\n",
    "    b=(float(lst[20531])+float(lst[20532]))/2\n",
    "    c=(float(lst[20543])+float(lst[20544]))/2\n",
    "    d=(float(lst[20555])+float(lst[20556]))/2\n",
    "    e=(float(lst[20567])+float(lst[20568]))/2\n",
    "    f=(float(lst[20579])+float(lst[20580]))/2\n",
    "    g=(float(lst[20591])+float(lst[20592]))/2\n",
    "    h=(float(lst[20603])+float(lst[20604]))/2\n",
    "    i=(float(lst[20615])+float(lst[20616]))/2\n",
    "    j=(float(lst[20627])+float(lst[20628]))/2\n",
    "    k=(float(lst[20639])+float(lst[20640]))/2\n",
    "    l=(float(lst[20651])+float(lst[20652]))/2\n",
    "    m=(float(lst[20663])+float(lst[20664]))/2\n",
    "    n=(float(lst[20675])+float(lst[20676]))/2\n",
    "    o=(float(lst[20687])+float(lst[20688]))/2\n",
    "    p=(float(lst[20699])+float(lst[20700]))/2\n",
    "    q=(float(lst[20711])+float(lst[20712]))/2\n",
    "    r=(float(lst[20723])+float(lst[20724]))/2\n",
    "    s=(float(lst[20735])+float(lst[20736]))/2\n",
    "    t=(float(lst[20747])+float(lst[20748]))/2\n",
    "    u=(float(lst[20759])+float(lst[20760]))/2\n",
    "    v=(float(lst[20771])+float(lst[20772]))/2\n",
    "    w=(float(lst[20783])+float(lst[20784]))/2\n",
    "    x=(float(lst[20795])+float(lst[20796]))/2\n",
    "    y=(float(lst[20807])+float(lst[20808]))/2\n",
    "    \n",
    "    temp_crn=[a,b,c,d,e,f,g,h,i,j,k,l,m,n,o,p,q,r,s,t,u,v,w,x,y]\n",
    "    temp_crn=np.cumsum(temp_crn)\n",
    "    print(temp_crn)"
   ]
  },
  {
   "cell_type": "code",
   "execution_count": 49,
   "id": "e5057ed5",
   "metadata": {},
   "outputs": [
    {
     "name": "stdout",
     "output_type": "stream",
     "text": [
      "[0.0, 0.0, 0.0, 0.0, 0.0, 0.0, 0.0, 0.0, 0.0, 0.0, 0.0, 0.0, 0.0, 0.0, 0.0, 0.0, 0.0, 0.0, 0.0, 0.0, 0.0, 0.0, 0.0, 0.0, 0.0]\n"
     ]
    }
   ],
   "source": [
    "difference2_mon = []\n",
    "\n",
    "zip_object = zip(temp, temp_crn)\n",
    "for temp_i, temp_crn_i in zip_object:\n",
    "    difference2_mon.append(temp_i-temp_crn_i)\n",
    "\n",
    "print(difference2_mon)"
   ]
  },
  {
   "cell_type": "markdown",
   "id": "50b6ccdc",
   "metadata": {},
   "source": [
    "<font size=\"3\">Holly Springs, MS: 0600 UTC (12:00 am CST) 01 March 2022-0600 UTC (12:00 am CST) 02 March 2022</font>"
   ]
  },
  {
   "cell_type": "code",
   "execution_count": 50,
   "id": "04968dd0",
   "metadata": {},
   "outputs": [
    {
     "name": "stdout",
     "output_type": "stream",
     "text": [
      "[0. 0. 0. 0. 0. 0. 0. 0. 0. 0. 0. 0. 0. 0. 0. 0. 0. 0. 0. 0. 0. 0. 0. 0.\n",
      " 0.]\n"
     ]
    }
   ],
   "source": [
    "#1 hr hrrr:\n",
    "with open('hrrr_f01_Holly Springs_MS.txt') as f:\n",
    "    lst=[line.split()[2] for line in f]\n",
    "    temp=[]\n",
    "    for i in lst:\n",
    "        new=i.replace(',',\"\")\n",
    "        temp.append(new)\n",
    "    temp.pop(0)\n",
    "    temp=[float(x) for x in temp]\n",
    "    temp=temp[1709:1734]\n",
    "    #temp=temp[2015:2063]\n",
    "    temp=np.cumsum(temp)\n",
    "    print(temp)\n",
    "#full time period is [2015:2112]"
   ]
  },
  {
   "cell_type": "code",
   "execution_count": 51,
   "id": "3d3b4214",
   "metadata": {},
   "outputs": [
    {
     "name": "stdout",
     "output_type": "stream",
     "text": [
      "[0. 0. 0. 0. 0. 0. 0. 0. 0. 0. 0. 0. 0. 0. 0. 0. 0. 0. 0. 0. 0. 0. 0. 0.\n",
      " 0.]\n"
     ]
    }
   ],
   "source": [
    "#Air Temp CRN:\n",
    "with open('CRNS0101-05-2022-MS_Holly_Springs_4_N.txt') as f:\n",
    "    lst=[line.split()[9] for line in f]\n",
    "    \n",
    "    a=(float(lst[20519])+float(lst[20520]))/2\n",
    "    b=(float(lst[20531])+float(lst[20532]))/2\n",
    "    c=(float(lst[20543])+float(lst[20544]))/2\n",
    "    d=(float(lst[20555])+float(lst[20556]))/2\n",
    "    e=(float(lst[20567])+float(lst[20568]))/2\n",
    "    f=(float(lst[20579])+float(lst[20580]))/2\n",
    "    g=(float(lst[20591])+float(lst[20592]))/2\n",
    "    h=(float(lst[20603])+float(lst[20604]))/2\n",
    "    i=(float(lst[20615])+float(lst[20616]))/2\n",
    "    j=(float(lst[20627])+float(lst[20628]))/2\n",
    "    k=(float(lst[20639])+float(lst[20640]))/2\n",
    "    l=(float(lst[20651])+float(lst[20652]))/2\n",
    "    m=(float(lst[20663])+float(lst[20664]))/2\n",
    "    n=(float(lst[20675])+float(lst[20676]))/2\n",
    "    o=(float(lst[20687])+float(lst[20688]))/2\n",
    "    p=(float(lst[20699])+float(lst[20700]))/2\n",
    "    q=(float(lst[20711])+float(lst[20712]))/2\n",
    "    r=(float(lst[20723])+float(lst[20724]))/2\n",
    "    s=(float(lst[20735])+float(lst[20736]))/2\n",
    "    t=(float(lst[20747])+float(lst[20748]))/2\n",
    "    u=(float(lst[20759])+float(lst[20760]))/2\n",
    "    v=(float(lst[20771])+float(lst[20772]))/2\n",
    "    w=(float(lst[20783])+float(lst[20784]))/2\n",
    "    x=(float(lst[20795])+float(lst[20796]))/2\n",
    "    y=(float(lst[20807])+float(lst[20808]))/2\n",
    "    \n",
    "    temp_crn=[a,b,c,d,e,f,g,h,i,j,k,l,m,n,o,p,q,r,s,t,u,v,w,x,y]\n",
    "    temp_crn=np.cumsum(temp_crn)\n",
    "    print(temp_crn)"
   ]
  },
  {
   "cell_type": "code",
   "execution_count": 52,
   "id": "b1ba34c2",
   "metadata": {},
   "outputs": [
    {
     "name": "stdout",
     "output_type": "stream",
     "text": [
      "[0.0, 0.0, 0.0, 0.0, 0.0, 0.0, 0.0, 0.0, 0.0, 0.0, 0.0, 0.0, 0.0, 0.0, 0.0, 0.0, 0.0, 0.0, 0.0, 0.0, 0.0, 0.0, 0.0, 0.0, 0.0]\n"
     ]
    }
   ],
   "source": [
    "difference2_hol = []\n",
    "\n",
    "zip_object = zip(temp, temp_crn)\n",
    "for temp_i, temp_crn_i in zip_object:\n",
    "    difference2_hol.append(temp_i-temp_crn_i)\n",
    "\n",
    "print(difference2_hol)"
   ]
  },
  {
   "cell_type": "markdown",
   "id": "9dd596b5",
   "metadata": {},
   "source": [
    "<font size=\"3\">Newton, MS: 0600 UTC (12:00 am CST) 01 March 2022-0600 UTC (12:00 am CST) 02 March 2022</font>"
   ]
  },
  {
   "cell_type": "code",
   "execution_count": 53,
   "id": "67050150",
   "metadata": {},
   "outputs": [
    {
     "name": "stdout",
     "output_type": "stream",
     "text": [
      "[0. 0. 0. 0. 0. 0. 0. 0. 0. 0. 0. 0. 0. 0. 0. 0. 0. 0. 0. 0. 0. 0. 0. 0.\n",
      " 0.]\n"
     ]
    }
   ],
   "source": [
    "#1 hr hrrr:\n",
    "with open('hrrr_f01_Newton_MS.txt') as f:\n",
    "    lst=[line.split()[2] for line in f]\n",
    "    temp=[]\n",
    "    for i in lst:\n",
    "        new=i.replace(',',\"\")\n",
    "        temp.append(new)\n",
    "    temp.pop(0)\n",
    "    temp=[float(x) for x in temp]\n",
    "    temp=temp[1709:1734]\n",
    "    #temp=temp[2015:2063]\n",
    "    temp=np.cumsum(temp)\n",
    "    print(temp)\n",
    "#full time period is [2015:2112]"
   ]
  },
  {
   "cell_type": "code",
   "execution_count": 54,
   "id": "668cca8c",
   "metadata": {},
   "outputs": [
    {
     "name": "stdout",
     "output_type": "stream",
     "text": [
      "[0. 0. 0. 0. 0. 0. 0. 0. 0. 0. 0. 0. 0. 0. 0. 0. 0. 0. 0. 0. 0. 0. 0. 0.\n",
      " 0.]\n"
     ]
    }
   ],
   "source": [
    "#Air Temp CRN:\n",
    "with open('CRNS0101-05-2022-MS_Newton_5_ENE.txt') as f:\n",
    "    lst=[line.split()[9] for line in f]\n",
    "    \n",
    "    a=(float(lst[20519])+float(lst[20520]))/2\n",
    "    b=(float(lst[20531])+float(lst[20532]))/2\n",
    "    c=(float(lst[20543])+float(lst[20544]))/2\n",
    "    d=(float(lst[20555])+float(lst[20556]))/2\n",
    "    e=(float(lst[20567])+float(lst[20568]))/2\n",
    "    f=(float(lst[20579])+float(lst[20580]))/2\n",
    "    g=(float(lst[20591])+float(lst[20592]))/2\n",
    "    h=(float(lst[20603])+float(lst[20604]))/2\n",
    "    i=(float(lst[20615])+float(lst[20616]))/2\n",
    "    j=(float(lst[20627])+float(lst[20628]))/2\n",
    "    k=(float(lst[20639])+float(lst[20640]))/2\n",
    "    l=(float(lst[20651])+float(lst[20652]))/2\n",
    "    m=(float(lst[20663])+float(lst[20664]))/2\n",
    "    n=(float(lst[20675])+float(lst[20676]))/2\n",
    "    o=(float(lst[20687])+float(lst[20688]))/2\n",
    "    p=(float(lst[20699])+float(lst[20700]))/2\n",
    "    q=(float(lst[20711])+float(lst[20712]))/2\n",
    "    r=(float(lst[20723])+float(lst[20724]))/2\n",
    "    s=(float(lst[20735])+float(lst[20736]))/2\n",
    "    t=(float(lst[20747])+float(lst[20748]))/2\n",
    "    u=(float(lst[20759])+float(lst[20760]))/2\n",
    "    v=(float(lst[20771])+float(lst[20772]))/2\n",
    "    w=(float(lst[20783])+float(lst[20784]))/2\n",
    "    x=(float(lst[20795])+float(lst[20796]))/2\n",
    "    y=(float(lst[20807])+float(lst[20808]))/2\n",
    "    \n",
    "    temp_crn=[a,b,c,d,e,f,g,h,i,j,k,l,m,n,o,p,q,r,s,t,u,v,w,x,y]\n",
    "    temp_crn=np.cumsum(temp_crn)\n",
    "    print(temp_crn)"
   ]
  },
  {
   "cell_type": "code",
   "execution_count": 55,
   "id": "e8bd78b0",
   "metadata": {},
   "outputs": [
    {
     "name": "stdout",
     "output_type": "stream",
     "text": [
      "[0.0, 0.0, 0.0, 0.0, 0.0, 0.0, 0.0, 0.0, 0.0, 0.0, 0.0, 0.0, 0.0, 0.0, 0.0, 0.0, 0.0, 0.0, 0.0, 0.0, 0.0, 0.0, 0.0, 0.0, 0.0]\n"
     ]
    }
   ],
   "source": [
    "difference2_new = []\n",
    "\n",
    "zip_object = zip(temp, temp_crn)\n",
    "for temp_i, temp_crn_i in zip_object:\n",
    "    difference2_new.append(temp_i-temp_crn_i)\n",
    "\n",
    "print(difference2_new)"
   ]
  },
  {
   "cell_type": "markdown",
   "id": "ec499d8b",
   "metadata": {},
   "source": [
    "<font size=\"3\">Gainesville, AL: 0600 UTC (12:00 am CST) 01 March 2022-0600 UTC (12:00 am CST) 02 March 2022</font>"
   ]
  },
  {
   "cell_type": "code",
   "execution_count": 56,
   "id": "e9f22db0",
   "metadata": {},
   "outputs": [
    {
     "name": "stdout",
     "output_type": "stream",
     "text": [
      "[0. 0. 0. 0. 0. 0. 0. 0. 0. 0. 0. 0. 0. 0. 0. 0. 0. 0. 0. 0. 0. 0. 0. 0.\n",
      " 0.]\n"
     ]
    }
   ],
   "source": [
    "#1 hr hrrr:\n",
    "with open('hrrr_f01_Gainesville_AL.txt') as f:\n",
    "    lst=[line.split()[2] for line in f]\n",
    "    temp=[]\n",
    "    for i in lst:\n",
    "        new=i.replace(',',\"\")\n",
    "        temp.append(new)\n",
    "    temp.pop(0)\n",
    "    temp=[float(x) for x in temp]\n",
    "    temp=temp[1709:1734]\n",
    "    #temp=temp[2015:2063]\n",
    "    temp=np.cumsum(temp)\n",
    "    print(temp)\n",
    "#full time period is [2015:2112]"
   ]
  },
  {
   "cell_type": "code",
   "execution_count": 57,
   "id": "c87621ea",
   "metadata": {},
   "outputs": [
    {
     "name": "stdout",
     "output_type": "stream",
     "text": [
      "[0. 0. 0. 0. 0. 0. 0. 0. 0. 0. 0. 0. 0. 0. 0. 0. 0. 0. 0. 0. 0. 0. 0. 0.\n",
      " 0.]\n"
     ]
    }
   ],
   "source": [
    "#Air Temp CRN:\n",
    "with open('CRNS0101-05-2022-AL_Gainesville_2_NE.txt') as f:\n",
    "    lst=[line.split()[9] for line in f]\n",
    "    \n",
    "    a=(float(lst[20519])+float(lst[20520]))/2\n",
    "    b=(float(lst[20531])+float(lst[20532]))/2\n",
    "    c=(float(lst[20543])+float(lst[20544]))/2\n",
    "    d=(float(lst[20555])+float(lst[20556]))/2\n",
    "    e=(float(lst[20567])+float(lst[20568]))/2\n",
    "    f=(float(lst[20579])+float(lst[20580]))/2\n",
    "    g=(float(lst[20591])+float(lst[20592]))/2\n",
    "    h=(float(lst[20603])+float(lst[20604]))/2\n",
    "    i=(float(lst[20615])+float(lst[20616]))/2\n",
    "    j=(float(lst[20627])+float(lst[20628]))/2\n",
    "    k=(float(lst[20639])+float(lst[20640]))/2\n",
    "    l=(float(lst[20651])+float(lst[20652]))/2\n",
    "    m=(float(lst[20663])+float(lst[20664]))/2\n",
    "    n=(float(lst[20675])+float(lst[20676]))/2\n",
    "    o=(float(lst[20687])+float(lst[20688]))/2\n",
    "    p=(float(lst[20699])+float(lst[20700]))/2\n",
    "    q=(float(lst[20711])+float(lst[20712]))/2\n",
    "    r=(float(lst[20723])+float(lst[20724]))/2\n",
    "    s=(float(lst[20735])+float(lst[20736]))/2\n",
    "    t=(float(lst[20747])+float(lst[20748]))/2\n",
    "    u=(float(lst[20759])+float(lst[20760]))/2\n",
    "    v=(float(lst[20771])+float(lst[20772]))/2\n",
    "    w=(float(lst[20783])+float(lst[20784]))/2\n",
    "    x=(float(lst[20795])+float(lst[20796]))/2\n",
    "    y=(float(lst[20807])+float(lst[20808]))/2\n",
    "    \n",
    "    temp_crn=[a,b,c,d,e,f,g,h,i,j,k,l,m,n,o,p,q,r,s,t,u,v,w,x,y]\n",
    "    temp_crn=np.cumsum(temp_crn)\n",
    "    print(temp_crn)"
   ]
  },
  {
   "cell_type": "code",
   "execution_count": 58,
   "id": "2d1d92b8",
   "metadata": {},
   "outputs": [
    {
     "name": "stdout",
     "output_type": "stream",
     "text": [
      "[0.0, 0.0, 0.0, 0.0, 0.0, 0.0, 0.0, 0.0, 0.0, 0.0, 0.0, 0.0, 0.0, 0.0, 0.0, 0.0, 0.0, 0.0, 0.0, 0.0, 0.0, 0.0, 0.0, 0.0, 0.0]\n"
     ]
    }
   ],
   "source": [
    "difference2_gai = []\n",
    "\n",
    "zip_object = zip(temp, temp_crn)\n",
    "for temp_i, temp_crn_i in zip_object:\n",
    "    difference2_gai.append(temp_i-temp_crn_i)\n",
    "\n",
    "print(difference2_gai)"
   ]
  },
  {
   "cell_type": "markdown",
   "id": "4019fb67",
   "metadata": {},
   "source": [
    "<font size=\"3\">Fairhope, AL: 0600 UTC (12:00 am CST) 01 March 2022-0600 UTC (12:00 am CST) 02 March 2022</font>"
   ]
  },
  {
   "cell_type": "code",
   "execution_count": 59,
   "id": "c7e8255a",
   "metadata": {},
   "outputs": [
    {
     "name": "stdout",
     "output_type": "stream",
     "text": [
      "[0. 0. 0. 0. 0. 0. 0. 0. 0. 0. 0. 0. 0. 0. 0. 0. 0. 0. 0. 0. 0. 0. 0. 0.\n",
      " 0.]\n"
     ]
    }
   ],
   "source": [
    "#1 hr hrrr:\n",
    "with open('hrrr_f01_Fairhope_AL.txt') as f:\n",
    "    lst=[line.split()[2] for line in f]\n",
    "    temp=[]\n",
    "    for i in lst:\n",
    "        new=i.replace(',',\"\")\n",
    "        temp.append(new)\n",
    "    temp.pop(0)\n",
    "    temp=[float(x) for x in temp]\n",
    "    temp=temp[1709:1734]\n",
    "    #temp=temp[2015:2063]\n",
    "    temp=np.cumsum(temp)\n",
    "    print(temp)\n",
    "#full time period is [2015:2112]"
   ]
  },
  {
   "cell_type": "code",
   "execution_count": 60,
   "id": "7e7a4b0d",
   "metadata": {},
   "outputs": [
    {
     "name": "stdout",
     "output_type": "stream",
     "text": [
      "[0. 0. 0. 0. 0. 0. 0. 0. 0. 0. 0. 0. 0. 0. 0. 0. 0. 0. 0. 0. 0. 0. 0. 0.\n",
      " 0.]\n"
     ]
    }
   ],
   "source": [
    "#Air Temp CRN:\n",
    "with open('CRNS0101-05-2022-AL_Fairhope_3_NE.txt') as f:\n",
    "    lst=[line.split()[9] for line in f]\n",
    "    \n",
    "    a=(float(lst[20519])+float(lst[20520]))/2\n",
    "    b=(float(lst[20531])+float(lst[20532]))/2\n",
    "    c=(float(lst[20543])+float(lst[20544]))/2\n",
    "    d=(float(lst[20555])+float(lst[20556]))/2\n",
    "    e=(float(lst[20567])+float(lst[20568]))/2\n",
    "    f=(float(lst[20579])+float(lst[20580]))/2\n",
    "    g=(float(lst[20591])+float(lst[20592]))/2\n",
    "    h=(float(lst[20603])+float(lst[20604]))/2\n",
    "    i=(float(lst[20615])+float(lst[20616]))/2\n",
    "    j=(float(lst[20627])+float(lst[20628]))/2\n",
    "    k=(float(lst[20639])+float(lst[20640]))/2\n",
    "    l=(float(lst[20651])+float(lst[20652]))/2\n",
    "    m=(float(lst[20663])+float(lst[20664]))/2\n",
    "    n=(float(lst[20675])+float(lst[20676]))/2\n",
    "    o=(float(lst[20687])+float(lst[20688]))/2\n",
    "    p=(float(lst[20699])+float(lst[20700]))/2\n",
    "    q=(float(lst[20711])+float(lst[20712]))/2\n",
    "    r=(float(lst[20723])+float(lst[20724]))/2\n",
    "    s=(float(lst[20735])+float(lst[20736]))/2\n",
    "    t=(float(lst[20747])+float(lst[20748]))/2\n",
    "    u=(float(lst[20759])+float(lst[20760]))/2\n",
    "    v=(float(lst[20771])+float(lst[20772]))/2\n",
    "    w=(float(lst[20783])+float(lst[20784]))/2\n",
    "    x=(float(lst[20795])+float(lst[20796]))/2\n",
    "    y=(float(lst[20807])+float(lst[20808]))/2\n",
    "    \n",
    "    temp_crn=[a,b,c,d,e,f,g,h,i,j,k,l,m,n,o,p,q,r,s,t,u,v,w,x,y]\n",
    "    temp_crn=np.cumsum(temp_crn)\n",
    "    print(temp_crn)"
   ]
  },
  {
   "cell_type": "code",
   "execution_count": 61,
   "id": "e99e35e0",
   "metadata": {},
   "outputs": [
    {
     "name": "stdout",
     "output_type": "stream",
     "text": [
      "[0.0, 0.0, 0.0, 0.0, 0.0, 0.0, 0.0, 0.0, 0.0, 0.0, 0.0, 0.0, 0.0, 0.0, 0.0, 0.0, 0.0, 0.0, 0.0, 0.0, 0.0, 0.0, 0.0, 0.0, 0.0]\n"
     ]
    }
   ],
   "source": [
    "difference2_fai = []\n",
    "\n",
    "zip_object = zip(temp, temp_crn)\n",
    "for temp_i, temp_crn_i in zip_object:\n",
    "    difference2_fai.append(temp_i-temp_crn_i)\n",
    "\n",
    "print(difference2_fai)"
   ]
  },
  {
   "cell_type": "markdown",
   "id": "cb09fde7",
   "metadata": {},
   "source": [
    "<font size=\"3\">**Selma, AL: 0600 UTC (12:00 am CST) 01 March 2022-0600 UTC (12:00 am CST) 02 March 2022</font>"
   ]
  },
  {
   "cell_type": "code",
   "execution_count": 62,
   "id": "fe2b2257",
   "metadata": {},
   "outputs": [
    {
     "name": "stdout",
     "output_type": "stream",
     "text": [
      "[0. 0. 0. 0. 0. 0. 0. 0. 0. 0. 0. 0. 0. 0. 0. 0. 0. 0. 0. 0. 0. 0. 0. 0.\n",
      " 0.]\n"
     ]
    }
   ],
   "source": [
    "#1 hr hrrr:\n",
    "with open('hrrr_f01_Selma_AL.txt') as f:\n",
    "    lst=[line.split()[2] for line in f]\n",
    "    temp=[]\n",
    "    for i in lst:\n",
    "        new=i.replace(',',\"\")\n",
    "        temp.append(new)\n",
    "    temp.pop(0)\n",
    "    temp=[float(x) for x in temp]\n",
    "    temp=temp[1709:1734]\n",
    "    temp=np.cumsum(temp)\n",
    "    print(temp)"
   ]
  },
  {
   "cell_type": "code",
   "execution_count": 63,
   "id": "c7293c23",
   "metadata": {},
   "outputs": [
    {
     "name": "stdout",
     "output_type": "stream",
     "text": [
      "[0. 0. 0. 0. 0. 0. 0. 0. 0. 0. 0. 0. 0. 0. 0. 0. 0. 0. 0. 0. 0. 0. 0. 0.\n",
      " 0.]\n"
     ]
    }
   ],
   "source": [
    "#Air Temp CRN:\n",
    "with open('CRNS0101-05-2022-AL_Selma_13_WNW.txt') as f:\n",
    "    lst=[line.split()[9] for line in f]\n",
    "    \n",
    "    a=(float(lst[20519])+float(lst[20520]))/2\n",
    "    b=(float(lst[20531])+float(lst[20532]))/2\n",
    "    c=(float(lst[20543])+float(lst[20544]))/2\n",
    "    d=(float(lst[20555])+float(lst[20556]))/2\n",
    "    e=(float(lst[20567])+float(lst[20568]))/2\n",
    "    f=(float(lst[20579])+float(lst[20580]))/2\n",
    "    g=(float(lst[20591])+float(lst[20592]))/2\n",
    "    h=(float(lst[20603])+float(lst[20604]))/2\n",
    "    i=(float(lst[20615])+float(lst[20616]))/2\n",
    "    j=(float(lst[20627])+float(lst[20628]))/2\n",
    "    k=(float(lst[20639])+float(lst[20640]))/2\n",
    "    l=(float(lst[20651])+float(lst[20652]))/2\n",
    "    m=(float(lst[20663])+float(lst[20664]))/2\n",
    "    n=(float(lst[20675])+float(lst[20676]))/2\n",
    "    o=(float(lst[20687])+float(lst[20688]))/2\n",
    "    p=(float(lst[20699])+float(lst[20700]))/2\n",
    "    q=(float(lst[20711])+float(lst[20712]))/2\n",
    "    r=(float(lst[20723])+float(lst[20724]))/2\n",
    "    s=(float(lst[20735])+float(lst[20736]))/2\n",
    "    t=(float(lst[20747])+float(lst[20748]))/2\n",
    "    u=(float(lst[20759])+float(lst[20760]))/2\n",
    "    v=(float(lst[20771])+float(lst[20772]))/2\n",
    "    w=(float(lst[20783])+float(lst[20784]))/2\n",
    "    x=(float(lst[20795])+float(lst[20796]))/2\n",
    "    y=(float(lst[20807])+float(lst[20808]))/2\n",
    "    \n",
    "    temp_crn=[a,b,c,d,e,f,g,h,i,j,k,l,m,n,o,p,q,r,s,t,u,v,w,x,y]\n",
    "    temp_crn=np.cumsum(temp_crn)\n",
    "    print(temp_crn)"
   ]
  },
  {
   "cell_type": "code",
   "execution_count": 64,
   "id": "837ad3be",
   "metadata": {},
   "outputs": [
    {
     "name": "stdout",
     "output_type": "stream",
     "text": [
      "[0.0, 0.0, 0.0, 0.0, 0.0, 0.0, 0.0, 0.0, 0.0, 0.0, 0.0, 0.0, 0.0, 0.0, 0.0, 0.0, 0.0, 0.0, 0.0, 0.0, 0.0, 0.0, 0.0, 0.0, 0.0]\n",
      "25\n"
     ]
    }
   ],
   "source": [
    "difference2_sel = []\n",
    "\n",
    "zip_object = zip(temp, temp_crn)\n",
    "for temp_i, temp_crn_i in zip_object:\n",
    "    difference2_sel.append(temp_i-temp_crn_i)\n",
    "\n",
    "print(difference2_sel)\n",
    "print(len(difference2_sel))"
   ]
  },
  {
   "cell_type": "markdown",
   "id": "9767e5fd",
   "metadata": {},
   "source": [
    "<font size=\"3\">Bowling Green, KY: 0600 UTC (12:00 am CST) 01 March 2022-0600 UTC (12:00 am CST) 02 March 2022</font>"
   ]
  },
  {
   "cell_type": "code",
   "execution_count": 65,
   "id": "a031b19f",
   "metadata": {},
   "outputs": [
    {
     "name": "stdout",
     "output_type": "stream",
     "text": [
      "[0. 0. 0. 0. 0. 0. 0. 0. 0. 0. 0. 0. 0. 0. 0. 0. 0. 0. 0. 0. 0. 0. 0. 0.\n",
      " 0.]\n"
     ]
    }
   ],
   "source": [
    "#1 hr hrrr:\n",
    "with open('hrrr_f01_Bowling Green_KY.txt') as f:\n",
    "    lst=[line.split()[2] for line in f]\n",
    "    temp=[]\n",
    "    for i in lst:\n",
    "        new=i.replace(',',\"\")\n",
    "        temp.append(new)\n",
    "    temp.pop(0)\n",
    "    temp=[float(x) for x in temp]\n",
    "    temp=temp[1709:1734]\n",
    "    #temp=temp[2015:2063]\n",
    "    temp=np.cumsum(temp)\n",
    "    print(temp)\n",
    "#full time period is [2015:2112]"
   ]
  },
  {
   "cell_type": "code",
   "execution_count": 66,
   "id": "c134b665",
   "metadata": {},
   "outputs": [
    {
     "name": "stdout",
     "output_type": "stream",
     "text": [
      "[0. 0. 0. 0. 0. 0. 0. 0. 0. 0. 0. 0. 0. 0. 0. 0. 0. 0. 0. 0. 0. 0. 0. 0.\n",
      " 0.]\n"
     ]
    }
   ],
   "source": [
    "#Air Temp CRN:\n",
    "with open('CRNS0101-05-2022-KY_Bowling_Green_21_NNE.txt') as f:\n",
    "    lst=[line.split()[9] for line in f]\n",
    "    \n",
    "    a=(float(lst[20519])+float(lst[20520]))/2\n",
    "    b=(float(lst[20531])+float(lst[20532]))/2\n",
    "    c=(float(lst[20543])+float(lst[20544]))/2\n",
    "    d=(float(lst[20555])+float(lst[20556]))/2\n",
    "    e=(float(lst[20567])+float(lst[20568]))/2\n",
    "    f=(float(lst[20579])+float(lst[20580]))/2\n",
    "    g=(float(lst[20591])+float(lst[20592]))/2\n",
    "    h=(float(lst[20603])+float(lst[20604]))/2\n",
    "    i=(float(lst[20615])+float(lst[20616]))/2\n",
    "    j=(float(lst[20627])+float(lst[20628]))/2\n",
    "    k=(float(lst[20639])+float(lst[20640]))/2\n",
    "    l=(float(lst[20651])+float(lst[20652]))/2\n",
    "    m=(float(lst[20663])+float(lst[20664]))/2\n",
    "    n=(float(lst[20675])+float(lst[20676]))/2\n",
    "    o=(float(lst[20687])+float(lst[20688]))/2\n",
    "    p=(float(lst[20699])+float(lst[20700]))/2\n",
    "    q=(float(lst[20711])+float(lst[20712]))/2\n",
    "    r=(float(lst[20723])+float(lst[20724]))/2\n",
    "    s=(float(lst[20735])+float(lst[20736]))/2\n",
    "    t=(float(lst[20747])+float(lst[20748]))/2\n",
    "    u=(float(lst[20759])+float(lst[20760]))/2\n",
    "    v=(float(lst[20771])+float(lst[20772]))/2\n",
    "    w=(float(lst[20783])+float(lst[20784]))/2\n",
    "    x=(float(lst[20795])+float(lst[20796]))/2\n",
    "    y=(float(lst[20807])+float(lst[20808]))/2\n",
    "    \n",
    "    temp_crn=[a,b,c,d,e,f,g,h,i,j,k,l,m,n,o,p,q,r,s,t,u,v,w,x,y]\n",
    "    temp_crn=np.cumsum(temp_crn)\n",
    "    print(temp_crn)"
   ]
  },
  {
   "cell_type": "code",
   "execution_count": 67,
   "id": "d326cffb",
   "metadata": {},
   "outputs": [
    {
     "name": "stdout",
     "output_type": "stream",
     "text": [
      "[0.0, 0.0, 0.0, 0.0, 0.0, 0.0, 0.0, 0.0, 0.0, 0.0, 0.0, 0.0, 0.0, 0.0, 0.0, 0.0, 0.0, 0.0, 0.0, 0.0, 0.0, 0.0, 0.0, 0.0, 0.0]\n"
     ]
    }
   ],
   "source": [
    "difference2_bow = []\n",
    "\n",
    "zip_object = zip(temp, temp_crn)\n",
    "for temp_i, temp_crn_i in zip_object:\n",
    "    difference2_bow.append(temp_i-temp_crn_i)\n",
    "\n",
    "print(difference2_bow)"
   ]
  },
  {
   "cell_type": "markdown",
   "id": "cf477d73",
   "metadata": {},
   "source": [
    "<font size=\"3\">Gadsden, AL: 0600 UTC (12:00 am CST) 01 March 2022-0600 UTC (12:00 am CST) 02 March 2022</font>"
   ]
  },
  {
   "cell_type": "code",
   "execution_count": 68,
   "id": "8d9653aa",
   "metadata": {},
   "outputs": [],
   "source": [
    "# #1 hr hrrr:\n",
    "# with open('hrrr_f01_Gadsden_AL.txt') as f:\n",
    "#     lst=[line.split()[2] for line in f]\n",
    "#     temp=[]\n",
    "#     for i in lst:\n",
    "#         new=i.replace(',',\"\")\n",
    "#         temp.append(new)\n",
    "#     temp.pop(0)\n",
    "#     temp=[float(x) for x in temp]\n",
    "#     temp=temp[1709:1734]\n",
    "# #     x = np.array(temp)\n",
    "# #     temp = ma.masked_array(x, mask=[0, 0, 0, 0, 0,0,0,0,1,0,0,0,0,0,0,0,0,0,0,0,0,0,0,0,0])\n",
    "#     #temp=temp[2015:2063]\n",
    "#     temp=np.cumsum(temp)\n",
    "#     print(temp)\n",
    "# #full time period is [2015:2112]"
   ]
  },
  {
   "cell_type": "code",
   "execution_count": 69,
   "id": "5e83c09d",
   "metadata": {},
   "outputs": [],
   "source": [
    "#Air Temp CRN:\n",
    "# with open('CRNS0101-05-2022-AL_Gadsden_19_N.txt') as f:\n",
    "#     lst=[line.split()[9] for line in f]\n",
    "    \n",
    "#     a=(float(lst[20519])+float(lst[20520]))/2\n",
    "#     b=(float(lst[20531])+float(lst[20532]))/2\n",
    "#     c=(float(lst[20543])+float(lst[20544]))/2\n",
    "#     d=(float(lst[20555])+float(lst[20556]))/2\n",
    "#     e=(float(lst[20567])+float(lst[20568]))/2\n",
    "#     f=(float(lst[20579])+float(lst[20580]))/2\n",
    "#     g=(float(lst[20591])+float(lst[20592]))/2\n",
    "#     h=(float(lst[20603])+float(lst[20604]))/2\n",
    "#     i=(float(lst[20615])+float(lst[20616]))/2\n",
    "#     j=(float(lst[20627])+float(lst[20628]))/2\n",
    "#     k=(float(lst[20639])+float(lst[20640]))/2\n",
    "#     l=(float(lst[20651])+float(lst[20652]))/2\n",
    "#     m=(float(lst[20663])+float(lst[20664]))/2\n",
    "#     n=(float(lst[20675])+float(lst[20676]))/2\n",
    "#     o=(float(lst[20687])+float(lst[20688]))/2\n",
    "#     p=(float(lst[20699])+float(lst[20700]))/2\n",
    "#     q=(float(lst[20711])+float(lst[20712]))/2\n",
    "#     r=(float(lst[20723])+float(lst[20724]))/2\n",
    "#     s=(float(lst[20735])+float(lst[20736]))/2\n",
    "#     t=(float(lst[20747])+float(lst[20748]))/2\n",
    "#     u=(float(lst[20759])+float(lst[20760]))/2\n",
    "#     v=(float(lst[20771])+float(lst[20772]))/2\n",
    "#     w=(float(lst[20783])+float(lst[20784]))/2\n",
    "#     x=(float(lst[20795])+float(lst[20796]))/2\n",
    "#     y=(float(lst[20807])+float(lst[20808]))/2\n",
    "    \n",
    "#     temp_crn=[a,b,c,d,e,f,g,h,i,j,k,l,m,n,o,p,q,r,s,t,u,v,w,x,y]\n",
    "#     temp_crn=np.cumsum(temp_crn)\n",
    "#     print(temp_crn)"
   ]
  },
  {
   "cell_type": "code",
   "execution_count": 70,
   "id": "254e1e52",
   "metadata": {},
   "outputs": [],
   "source": [
    "# difference2_gad = []\n",
    "\n",
    "# zip_object = zip(temp, temp_crn)\n",
    "# for temp_i, temp_crn_i in zip_object:\n",
    "#     difference2_gad.append(temp_i-temp_crn_i)\n",
    "\n",
    "# print(difference2_gad)"
   ]
  },
  {
   "cell_type": "markdown",
   "id": "75862889",
   "metadata": {},
   "source": [
    "<font size=\"3\">Newton, GA: 0600 UTC (12:00 am CST) 01 March 2022-0600 UTC (12:00 am CST) 02 March 2022</font>"
   ]
  },
  {
   "cell_type": "code",
   "execution_count": 71,
   "id": "06608db6",
   "metadata": {},
   "outputs": [
    {
     "name": "stdout",
     "output_type": "stream",
     "text": [
      "[0. 0. 0. 0. 0. 0. 0. 0. 0. 0. 0. 0. 0. 0. 0. 0. 0. 0. 0. 0. 0. 0. 0. 0.\n",
      " 0.]\n"
     ]
    }
   ],
   "source": [
    "#1 hr hrrr:\n",
    "with open('hrrr_f01_Newton_GA.txt') as f:\n",
    "    lst=[line.split()[2] for line in f]\n",
    "    temp=[]\n",
    "    for i in lst:\n",
    "        new=i.replace(',',\"\")\n",
    "        temp.append(new)\n",
    "    temp.pop(0)\n",
    "    temp=[float(x) for x in temp]\n",
    "    temp=temp[1709:1734]\n",
    "    #temp=temp[2015:2063]\n",
    "    temp=np.cumsum(temp)\n",
    "    print(temp)\n",
    "#full time period is [2015:2112]"
   ]
  },
  {
   "cell_type": "code",
   "execution_count": 72,
   "id": "bd71ef9e",
   "metadata": {},
   "outputs": [
    {
     "name": "stdout",
     "output_type": "stream",
     "text": [
      "[0. 0. 0. 0. 0. 0. 0. 0. 0. 0. 0. 0. 0. 0. 0. 0. 0. 0. 0. 0. 0. 0. 0. 0.\n",
      " 0.]\n"
     ]
    }
   ],
   "source": [
    "#Air Temp CRN:\n",
    "with open('CRNS0101-05-2022-GA_Newton_11_SW.txt') as f:\n",
    "    lst=[line.split()[9] for line in f]\n",
    "    \n",
    "    a=(float(lst[20519])+float(lst[20520]))/2\n",
    "    b=(float(lst[20531])+float(lst[20532]))/2\n",
    "    c=(float(lst[20543])+float(lst[20544]))/2\n",
    "    d=(float(lst[20555])+float(lst[20556]))/2\n",
    "    e=(float(lst[20567])+float(lst[20568]))/2\n",
    "    f=(float(lst[20579])+float(lst[20580]))/2\n",
    "    g=(float(lst[20591])+float(lst[20592]))/2\n",
    "    h=(float(lst[20603])+float(lst[20604]))/2\n",
    "    i=(float(lst[20615])+float(lst[20616]))/2\n",
    "    j=(float(lst[20627])+float(lst[20628]))/2\n",
    "    k=(float(lst[20639])+float(lst[20640]))/2\n",
    "    l=(float(lst[20651])+float(lst[20652]))/2\n",
    "    m=(float(lst[20663])+float(lst[20664]))/2\n",
    "    n=(float(lst[20675])+float(lst[20676]))/2\n",
    "    o=(float(lst[20687])+float(lst[20688]))/2\n",
    "    p=(float(lst[20699])+float(lst[20700]))/2\n",
    "    q=(float(lst[20711])+float(lst[20712]))/2\n",
    "    r=(float(lst[20723])+float(lst[20724]))/2\n",
    "    s=(float(lst[20735])+float(lst[20736]))/2\n",
    "    t=(float(lst[20747])+float(lst[20748]))/2\n",
    "    u=(float(lst[20759])+float(lst[20760]))/2\n",
    "    v=(float(lst[20771])+float(lst[20772]))/2\n",
    "    w=(float(lst[20783])+float(lst[20784]))/2\n",
    "    x=(float(lst[20795])+float(lst[20796]))/2\n",
    "    y=(float(lst[20807])+float(lst[20808]))/2\n",
    "    \n",
    "    temp_crn=[a,b,c,d,e,f,g,h,i,j,k,l,m,n,o,p,q,r,s,t,u,v,w,x,y]\n",
    "    temp_crn=np.cumsum(temp_crn)\n",
    "    print(temp_crn)"
   ]
  },
  {
   "cell_type": "code",
   "execution_count": 73,
   "id": "405581a9",
   "metadata": {},
   "outputs": [
    {
     "name": "stdout",
     "output_type": "stream",
     "text": [
      "[0.0, 0.0, 0.0, 0.0, 0.0, 0.0, 0.0, 0.0, 0.0, 0.0, 0.0, 0.0, 0.0, 0.0, 0.0, 0.0, 0.0, 0.0, 0.0, 0.0, 0.0, 0.0, 0.0, 0.0, 0.0]\n"
     ]
    }
   ],
   "source": [
    "difference2_newt = []\n",
    "\n",
    "zip_object = zip(temp, temp_crn)\n",
    "for temp_i, temp_crn_i in zip_object:\n",
    "    difference2_newt.append(temp_i-temp_crn_i)\n",
    "\n",
    "print(difference2_newt)"
   ]
  },
  {
   "cell_type": "markdown",
   "id": "70443283",
   "metadata": {},
   "source": [
    "<font size=\"3\">Salem, MO: 0500 UTC (12:00 am CDT) 20 March 2022-0500 UTC (12:00 am CDT) 21 March 2022</font>"
   ]
  },
  {
   "cell_type": "code",
   "execution_count": 74,
   "id": "2d0299c0",
   "metadata": {},
   "outputs": [
    {
     "name": "stdout",
     "output_type": "stream",
     "text": [
      "[0. 0. 0. 0. 0. 0. 0. 0. 0. 0. 0. 0. 0. 0. 0. 0. 0. 0. 0. 0. 0. 0. 0. 0.\n",
      " 0.]\n"
     ]
    }
   ],
   "source": [
    "#1 hr hrrr:\n",
    "with open('hrrr_f01_Salem_MO.txt') as f:\n",
    "    lst=[line.split()[2] for line in f]\n",
    "    temp=[]\n",
    "    for i in lst:\n",
    "        new=i.replace(',',\"\")\n",
    "        temp.append(new)\n",
    "    temp.pop(0)\n",
    "    temp=[float(x) for x in temp]\n",
    "    temp=temp[1877:1902]\n",
    "    #temp=temp[2015:2063]\n",
    "    temp=np.cumsum(temp)\n",
    "    print(temp)\n",
    "#full time period is [2015:2112]"
   ]
  },
  {
   "cell_type": "code",
   "execution_count": 75,
   "id": "fb918883",
   "metadata": {},
   "outputs": [
    {
     "name": "stdout",
     "output_type": "stream",
     "text": [
      "[0. 0. 0. 0. 0. 0. 0. 0. 0. 0. 0. 0. 0. 0. 0. 0. 0. 0. 0. 0. 0. 0. 0. 0.\n",
      " 0.]\n"
     ]
    }
   ],
   "source": [
    "#Air Temp CRN:\n",
    "with open('CRNS0101-05-2022-MO_Salem_10_W.txt') as f:\n",
    "    lst=[line.split()[9] for line in f]\n",
    "    \n",
    "    a=(float(lst[22535])+float(lst[22536]))/2\n",
    "    b=(float(lst[22547])+float(lst[22548]))/2\n",
    "    c=(float(lst[22559])+float(lst[22560]))/2\n",
    "    d=(float(lst[22571])+float(lst[22572]))/2\n",
    "    e=(float(lst[22583])+float(lst[22584]))/2\n",
    "    f=(float(lst[22595])+float(lst[22596]))/2\n",
    "    g=(float(lst[22607])+float(lst[22608]))/2\n",
    "    h=(float(lst[22619])+float(lst[22620]))/2\n",
    "    i=(float(lst[22631])+float(lst[22632]))/2\n",
    "    j=(float(lst[22643])+float(lst[22644]))/2\n",
    "    k=(float(lst[22655])+float(lst[22656]))/2\n",
    "    l=(float(lst[22667])+float(lst[22668]))/2\n",
    "    m=(float(lst[22679])+float(lst[22680]))/2\n",
    "    n=(float(lst[22691])+float(lst[22692]))/2\n",
    "    o=(float(lst[22703])+float(lst[22704]))/2\n",
    "    p=(float(lst[22715])+float(lst[22716]))/2\n",
    "    q=(float(lst[22727])+float(lst[22728]))/2\n",
    "    r=(float(lst[22739])+float(lst[22740]))/2\n",
    "    s=(float(lst[22751])+float(lst[22752]))/2\n",
    "    t=(float(lst[22763])+float(lst[22764]))/2\n",
    "    u=(float(lst[22775])+float(lst[22776]))/2\n",
    "    v=(float(lst[22787])+float(lst[22788]))/2\n",
    "    w=(float(lst[22799])+float(lst[22800]))/2\n",
    "    x=(float(lst[22811])+float(lst[22812]))/2\n",
    "    y=(float(lst[22823])+float(lst[22824]))/2\n",
    "    \n",
    "    temp_crn=[a,b,c,d,e,f,g,h,i,j,k,l,m,n,o,p,q,r,s,t,u,v,w,x,y]\n",
    "    temp_crn=np.cumsum(temp_crn)\n",
    "    print(temp_crn)"
   ]
  },
  {
   "cell_type": "code",
   "execution_count": 76,
   "id": "e8c3c3a5",
   "metadata": {},
   "outputs": [
    {
     "name": "stdout",
     "output_type": "stream",
     "text": [
      "[0.0, 0.0, 0.0, 0.0, 0.0, 0.0, 0.0, 0.0, 0.0, 0.0, 0.0, 0.0, 0.0, 0.0, 0.0, 0.0, 0.0, 0.0, 0.0, 0.0, 0.0, 0.0, 0.0, 0.0, 0.0]\n"
     ]
    }
   ],
   "source": [
    "difference3_sal = []\n",
    "\n",
    "zip_object = zip(temp, temp_crn)\n",
    "for temp_i, temp_crn_i in zip_object:\n",
    "    difference3_sal.append(temp_i-temp_crn_i)\n",
    "\n",
    "print(difference3_sal)"
   ]
  },
  {
   "cell_type": "markdown",
   "id": "176d67cb",
   "metadata": {},
   "source": [
    "<font size=\"3\">Batesville, AR: 0600 UTC (12:00 am CST) 01 March 2022-0600 UTC (12:00 am CST) 02 March 2022</font>"
   ]
  },
  {
   "cell_type": "code",
   "execution_count": 77,
   "id": "51a628f5",
   "metadata": {},
   "outputs": [
    {
     "name": "stdout",
     "output_type": "stream",
     "text": [
      "[0. 0. 0. 0. 0. 0. 0. 0. 0. 0. 0. 0. 0. 0. 0. 0. 0. 0. 0. 0. 0. 0. 0. 0.\n",
      " 0.]\n"
     ]
    }
   ],
   "source": [
    "#1 hr hrrr:\n",
    "with open('hrrr_f01_Batesville_AR.txt') as f:\n",
    "    lst=[line.split()[2] for line in f]\n",
    "    temp=[]\n",
    "    for i in lst:\n",
    "        new=i.replace(',',\"\")\n",
    "        temp.append(new)\n",
    "    temp.pop(0)\n",
    "    temp=[float(x) for x in temp]\n",
    "    temp=temp[1877:1902]\n",
    "#     x = np.array(temp)\n",
    "#     temp = ma.masked_array(x, mask=[0, 0, 0, 0, 0,0,0,0,0,0,0,0,0,0,0,0,0,0,0,0,0,1,0,0,0])\n",
    "    #temp=temp[2015:2063]\n",
    "    temp=np.cumsum(temp)\n",
    "    print(temp)\n",
    "#full time period is [2015:2112]"
   ]
  },
  {
   "cell_type": "code",
   "execution_count": 78,
   "id": "08f9b3ea",
   "metadata": {},
   "outputs": [
    {
     "name": "stdout",
     "output_type": "stream",
     "text": [
      "[0. 0. 0. 0. 0. 0. 0. 0. 0. 0. 0. 0. 0. 0. 0. 0. 0. 0. 0. 0. 0. 0. 0. 0.\n",
      " 0.]\n"
     ]
    }
   ],
   "source": [
    "#Air Temp CRN:\n",
    "with open('CRNS0101-05-2022-AR_Batesville_8_WNW.txt') as f:\n",
    "    lst=[line.split()[9] for line in f]\n",
    "    \n",
    "    a=(float(lst[22535])+float(lst[22536]))/2\n",
    "    b=(float(lst[22547])+float(lst[22548]))/2\n",
    "    c=(float(lst[22559])+float(lst[22560]))/2\n",
    "    d=(float(lst[22571])+float(lst[22572]))/2\n",
    "    e=(float(lst[22583])+float(lst[22584]))/2\n",
    "    f=(float(lst[22595])+float(lst[22596]))/2\n",
    "    g=(float(lst[22607])+float(lst[22608]))/2\n",
    "    h=(float(lst[22619])+float(lst[22620]))/2\n",
    "    i=(float(lst[22631])+float(lst[22632]))/2\n",
    "    j=(float(lst[22643])+float(lst[22644]))/2\n",
    "    k=(float(lst[22655])+float(lst[22656]))/2\n",
    "    l=(float(lst[22667])+float(lst[22668]))/2\n",
    "    m=(float(lst[22679])+float(lst[22680]))/2\n",
    "    n=(float(lst[22691])+float(lst[22692]))/2\n",
    "    o=(float(lst[22703])+float(lst[22704]))/2\n",
    "    p=(float(lst[22715])+float(lst[22716]))/2\n",
    "    q=(float(lst[22727])+float(lst[22728]))/2\n",
    "    r=(float(lst[22739])+float(lst[22740]))/2\n",
    "    s=(float(lst[22751])+float(lst[22752]))/2\n",
    "    t=(float(lst[22763])+float(lst[22764]))/2\n",
    "    u=(float(lst[22775])+float(lst[22776]))/2\n",
    "    v=(float(lst[22787])+float(lst[22788]))/2\n",
    "    w=(float(lst[22799])+float(lst[22800]))/2\n",
    "    x=(float(lst[22811])+float(lst[22812]))/2\n",
    "    y=(float(lst[22823])+float(lst[22824]))/2\n",
    "    \n",
    "    temp_crn=[a,b,c,d,e,f,g,h,i,j,k,l,m,n,o,p,q,r,s,t,u,v,w,x,y]\n",
    "    temp_crn=np.cumsum(temp_crn)\n",
    "    print(temp_crn)"
   ]
  },
  {
   "cell_type": "code",
   "execution_count": 79,
   "id": "19589d21",
   "metadata": {},
   "outputs": [
    {
     "name": "stdout",
     "output_type": "stream",
     "text": [
      "[0.0, 0.0, 0.0, 0.0, 0.0, 0.0, 0.0, 0.0, 0.0, 0.0, 0.0, 0.0, 0.0, 0.0, 0.0, 0.0, 0.0, 0.0, 0.0, 0.0, 0.0, 0.0, 0.0, 0.0, 0.0]\n"
     ]
    }
   ],
   "source": [
    "difference3_bat = []\n",
    "\n",
    "zip_object = zip(temp, temp_crn)\n",
    "for temp_i, temp_crn_i in zip_object:\n",
    "    difference3_bat.append(temp_i-temp_crn_i)\n",
    "\n",
    "print(difference3_bat)"
   ]
  },
  {
   "cell_type": "markdown",
   "id": "9ac05a40",
   "metadata": {},
   "source": [
    "<font size=\"3\">Lafayette, LA: 0600 UTC (12:00 am CST) 01 March 2022-0600 UTC (12:00 am CST) 02 March 2022</font>"
   ]
  },
  {
   "cell_type": "code",
   "execution_count": 80,
   "id": "f280badb",
   "metadata": {},
   "outputs": [
    {
     "name": "stdout",
     "output_type": "stream",
     "text": [
      "[0. 0. 0. 0. 0. 0. 0. 0. 0. 0. 0. 0. 0. 0. 0. 0. 0. 0. 0. 0. 0. 0. 0. 0.\n",
      " 0.]\n"
     ]
    }
   ],
   "source": [
    "#1 hr hrrr:\n",
    "with open('hrrr_f01_Lafayette_LA.txt') as f:\n",
    "    lst=[line.split()[2] for line in f]\n",
    "    temp=[]\n",
    "    for i in lst:\n",
    "        new=i.replace(',',\"\")\n",
    "        temp.append(new)\n",
    "    temp.pop(0)\n",
    "    temp=[float(x) for x in temp]\n",
    "    temp=temp[1877:1902]\n",
    "    #temp=temp[2015:2063]\n",
    "    temp=np.cumsum(temp)\n",
    "    print(temp)\n",
    "#full time period is [2015:2112]"
   ]
  },
  {
   "cell_type": "code",
   "execution_count": 81,
   "id": "7e7917cd",
   "metadata": {},
   "outputs": [
    {
     "name": "stdout",
     "output_type": "stream",
     "text": [
      "[0. 0. 0. 0. 0. 0. 0. 0. 0. 0. 0. 0. 0. 0. 0. 0. 0. 0. 0. 0. 0. 0. 0. 0.\n",
      " 0.]\n"
     ]
    }
   ],
   "source": [
    "#Air Temp CRN:\n",
    "with open('CRNS0101-05-2022-LA_Lafayette_13_SE.txt') as f:\n",
    "    lst=[line.split()[9] for line in f]\n",
    "    \n",
    "    a=(float(lst[22535])+float(lst[22536]))/2\n",
    "    b=(float(lst[22547])+float(lst[22548]))/2\n",
    "    c=(float(lst[22559])+float(lst[22560]))/2\n",
    "    d=(float(lst[22571])+float(lst[22572]))/2\n",
    "    e=(float(lst[22583])+float(lst[22584]))/2\n",
    "    f=(float(lst[22595])+float(lst[22596]))/2\n",
    "    g=(float(lst[22607])+float(lst[22608]))/2\n",
    "    h=(float(lst[22619])+float(lst[22620]))/2\n",
    "    i=(float(lst[22631])+float(lst[22632]))/2\n",
    "    j=(float(lst[22643])+float(lst[22644]))/2\n",
    "    k=(float(lst[22655])+float(lst[22656]))/2\n",
    "    l=(float(lst[22667])+float(lst[22668]))/2\n",
    "    m=(float(lst[22679])+float(lst[22680]))/2\n",
    "    n=(float(lst[22691])+float(lst[22692]))/2\n",
    "    o=(float(lst[22703])+float(lst[22704]))/2\n",
    "    p=(float(lst[22715])+float(lst[22716]))/2\n",
    "    q=(float(lst[22727])+float(lst[22728]))/2\n",
    "    r=(float(lst[22739])+float(lst[22740]))/2\n",
    "    s=(float(lst[22751])+float(lst[22752]))/2\n",
    "    t=(float(lst[22763])+float(lst[22764]))/2\n",
    "    u=(float(lst[22775])+float(lst[22776]))/2\n",
    "    v=(float(lst[22787])+float(lst[22788]))/2\n",
    "    w=(float(lst[22799])+float(lst[22800]))/2\n",
    "    x=(float(lst[22811])+float(lst[22812]))/2\n",
    "    y=(float(lst[22823])+float(lst[22824]))/2\n",
    "    \n",
    "    temp_crn=[a,b,c,d,e,f,g,h,i,j,k,l,m,n,o,p,q,r,s,t,u,v,w,x,y]\n",
    "    temp_crn=np.cumsum(temp_crn)\n",
    "    print(temp_crn)"
   ]
  },
  {
   "cell_type": "code",
   "execution_count": 82,
   "id": "36c6a6c7",
   "metadata": {},
   "outputs": [
    {
     "name": "stdout",
     "output_type": "stream",
     "text": [
      "[0.0, 0.0, 0.0, 0.0, 0.0, 0.0, 0.0, 0.0, 0.0, 0.0, 0.0, 0.0, 0.0, 0.0, 0.0, 0.0, 0.0, 0.0, 0.0, 0.0, 0.0, 0.0, 0.0, 0.0, 0.0]\n"
     ]
    }
   ],
   "source": [
    "difference3_laf = []\n",
    "\n",
    "zip_object = zip(temp, temp_crn)\n",
    "for temp_i, temp_crn_i in zip_object:\n",
    "    difference3_laf.append(temp_i-temp_crn_i)\n",
    "\n",
    "print(difference3_laf)"
   ]
  },
  {
   "cell_type": "markdown",
   "id": "9f50a0c5",
   "metadata": {},
   "source": [
    "<font size=\"3\">Monroe, LA: 0600 UTC (12:00 am CST) 01 March 2022-0600 UTC (12:00 am CST) 02 March 2022</font>"
   ]
  },
  {
   "cell_type": "code",
   "execution_count": 83,
   "id": "afe54e44",
   "metadata": {},
   "outputs": [
    {
     "name": "stdout",
     "output_type": "stream",
     "text": [
      "[0. 0. 0. 0. 0. 0. 0. 0. 0. 0. 0. 0. 0. 0. 0. 0. 0. 0. 0. 0. 0. 0. 0. 0.\n",
      " 0.]\n"
     ]
    }
   ],
   "source": [
    "#1 hr hrrr:\n",
    "with open('hrrr_f01_Monroe_LA.txt') as f:\n",
    "    lst=[line.split()[2] for line in f]\n",
    "    temp=[]\n",
    "    for i in lst:\n",
    "        new=i.replace(',',\"\")\n",
    "        temp.append(new)\n",
    "    temp.pop(0)\n",
    "    temp=[float(x) for x in temp]\n",
    "    temp=temp[1877:1902]\n",
    "    #temp=temp[2015:2063]\n",
    "    temp=np.cumsum(temp)\n",
    "    print(temp)\n",
    "#full time period is [2015:2112]"
   ]
  },
  {
   "cell_type": "code",
   "execution_count": 84,
   "id": "e83f03aa",
   "metadata": {},
   "outputs": [
    {
     "name": "stdout",
     "output_type": "stream",
     "text": [
      "[0. 0. 0. 0. 0. 0. 0. 0. 0. 0. 0. 0. 0. 0. 0. 0. 0. 0. 0. 0. 0. 0. 0. 0.\n",
      " 0.]\n"
     ]
    }
   ],
   "source": [
    "#Air Temp CRN:\n",
    "with open('CRNS0101-05-2022-LA_Monroe_26_N.txt') as f:\n",
    "    lst=[line.split()[9] for line in f]\n",
    "    \n",
    "    a=(float(lst[22535])+float(lst[22536]))/2\n",
    "    b=(float(lst[22547])+float(lst[22548]))/2\n",
    "    c=(float(lst[22559])+float(lst[22560]))/2\n",
    "    d=(float(lst[22571])+float(lst[22572]))/2\n",
    "    e=(float(lst[22583])+float(lst[22584]))/2\n",
    "    f=(float(lst[22595])+float(lst[22596]))/2\n",
    "    g=(float(lst[22607])+float(lst[22608]))/2\n",
    "    h=(float(lst[22619])+float(lst[22620]))/2\n",
    "    i=(float(lst[22631])+float(lst[22632]))/2\n",
    "    j=(float(lst[22643])+float(lst[22644]))/2\n",
    "    k=(float(lst[22655])+float(lst[22656]))/2\n",
    "    l=(float(lst[22667])+float(lst[22668]))/2\n",
    "    m=(float(lst[22679])+float(lst[22680]))/2\n",
    "    n=(float(lst[22691])+float(lst[22692]))/2\n",
    "    o=(float(lst[22703])+float(lst[22704]))/2\n",
    "    p=(float(lst[22715])+float(lst[22716]))/2\n",
    "    q=(float(lst[22727])+float(lst[22728]))/2\n",
    "    r=(float(lst[22739])+float(lst[22740]))/2\n",
    "    s=(float(lst[22751])+float(lst[22752]))/2\n",
    "    t=(float(lst[22763])+float(lst[22764]))/2\n",
    "    u=(float(lst[22775])+float(lst[22776]))/2\n",
    "    v=(float(lst[22787])+float(lst[22788]))/2\n",
    "    w=(float(lst[22799])+float(lst[22800]))/2\n",
    "    x=(float(lst[22811])+float(lst[22812]))/2\n",
    "    y=(float(lst[22823])+float(lst[22824]))/2\n",
    "    \n",
    "    temp_crn=[a,b,c,d,e,f,g,h,i,j,k,l,m,n,o,p,q,r,s,t,u,v,w,x,y]\n",
    "    temp_crn=np.cumsum(temp_crn)\n",
    "    print(temp_crn)"
   ]
  },
  {
   "cell_type": "code",
   "execution_count": 85,
   "id": "79ffb554",
   "metadata": {},
   "outputs": [
    {
     "name": "stdout",
     "output_type": "stream",
     "text": [
      "[0.0, 0.0, 0.0, 0.0, 0.0, 0.0, 0.0, 0.0, 0.0, 0.0, 0.0, 0.0, 0.0, 0.0, 0.0, 0.0, 0.0, 0.0, 0.0, 0.0, 0.0, 0.0, 0.0, 0.0, 0.0]\n"
     ]
    }
   ],
   "source": [
    "difference3_mon = []\n",
    "\n",
    "zip_object = zip(temp, temp_crn)\n",
    "for temp_i, temp_crn_i in zip_object:\n",
    "    difference3_mon.append(temp_i-temp_crn_i)\n",
    "\n",
    "print(difference3_mon)"
   ]
  },
  {
   "cell_type": "markdown",
   "id": "1bf55dcc",
   "metadata": {},
   "source": [
    "<font size=\"3\">Holly Springs, MS: 0600 UTC (12:00 am CST) 01 March 2022-0600 UTC (12:00 am CST) 02 March 2022</font>"
   ]
  },
  {
   "cell_type": "code",
   "execution_count": 86,
   "id": "70182e09",
   "metadata": {},
   "outputs": [
    {
     "name": "stdout",
     "output_type": "stream",
     "text": [
      "[0. 0. 0. 0. 0. 0. 0. 0. 0. 0. 0. 0. 0. 0. 0. 0. 0. 0. 0. 0. 0. 0. 0. 0.\n",
      " 0.]\n"
     ]
    }
   ],
   "source": [
    "#1 hr hrrr:\n",
    "with open('hrrr_f01_Holly Springs_MS.txt') as f:\n",
    "    lst=[line.split()[2] for line in f]\n",
    "    temp=[]\n",
    "    for i in lst:\n",
    "        new=i.replace(',',\"\")\n",
    "        temp.append(new)\n",
    "    temp.pop(0)\n",
    "    temp=[float(x) for x in temp]\n",
    "    temp=temp[1877:1902]\n",
    "    #temp=temp[2015:2063]\n",
    "    temp=np.cumsum(temp)\n",
    "    print(temp)\n",
    "#full time period is [2015:2112]"
   ]
  },
  {
   "cell_type": "code",
   "execution_count": 87,
   "id": "c2aa5abe",
   "metadata": {},
   "outputs": [
    {
     "name": "stdout",
     "output_type": "stream",
     "text": [
      "[0. 0. 0. 0. 0. 0. 0. 0. 0. 0. 0. 0. 0. 0. 0. 0. 0. 0. 0. 0. 0. 0. 0. 0.\n",
      " 0.]\n"
     ]
    }
   ],
   "source": [
    "#Air Temp CRN:\n",
    "with open('CRNS0101-05-2022-MS_Holly_Springs_4_N.txt') as f:\n",
    "    lst=[line.split()[9] for line in f]\n",
    "    \n",
    "    a=(float(lst[22535])+float(lst[22536]))/2\n",
    "    b=(float(lst[22547])+float(lst[22548]))/2\n",
    "    c=(float(lst[22559])+float(lst[22560]))/2\n",
    "    d=(float(lst[22571])+float(lst[22572]))/2\n",
    "    e=(float(lst[22583])+float(lst[22584]))/2\n",
    "    f=(float(lst[22595])+float(lst[22596]))/2\n",
    "    g=(float(lst[22607])+float(lst[22608]))/2\n",
    "    h=(float(lst[22619])+float(lst[22620]))/2\n",
    "    i=(float(lst[22631])+float(lst[22632]))/2\n",
    "    j=(float(lst[22643])+float(lst[22644]))/2\n",
    "    k=(float(lst[22655])+float(lst[22656]))/2\n",
    "    l=(float(lst[22667])+float(lst[22668]))/2\n",
    "    m=(float(lst[22679])+float(lst[22680]))/2\n",
    "    n=(float(lst[22691])+float(lst[22692]))/2\n",
    "    o=(float(lst[22703])+float(lst[22704]))/2\n",
    "    p=(float(lst[22715])+float(lst[22716]))/2\n",
    "    q=(float(lst[22727])+float(lst[22728]))/2\n",
    "    r=(float(lst[22739])+float(lst[22740]))/2\n",
    "    s=(float(lst[22751])+float(lst[22752]))/2\n",
    "    t=(float(lst[22763])+float(lst[22764]))/2\n",
    "    u=(float(lst[22775])+float(lst[22776]))/2\n",
    "    v=(float(lst[22787])+float(lst[22788]))/2\n",
    "    w=(float(lst[22799])+float(lst[22800]))/2\n",
    "    x=(float(lst[22811])+float(lst[22812]))/2\n",
    "    y=(float(lst[22823])+float(lst[22824]))/2\n",
    "    \n",
    "    temp_crn=[a,b,c,d,e,f,g,h,i,j,k,l,m,n,o,p,q,r,s,t,u,v,w,x,y]\n",
    "    temp_crn=np.cumsum(temp_crn)\n",
    "    print(temp_crn)"
   ]
  },
  {
   "cell_type": "code",
   "execution_count": 88,
   "id": "9d0ab2f8",
   "metadata": {},
   "outputs": [
    {
     "name": "stdout",
     "output_type": "stream",
     "text": [
      "[0.0, 0.0, 0.0, 0.0, 0.0, 0.0, 0.0, 0.0, 0.0, 0.0, 0.0, 0.0, 0.0, 0.0, 0.0, 0.0, 0.0, 0.0, 0.0, 0.0, 0.0, 0.0, 0.0, 0.0, 0.0]\n"
     ]
    }
   ],
   "source": [
    "difference3_hol = []\n",
    "\n",
    "zip_object = zip(temp, temp_crn)\n",
    "for temp_i, temp_crn_i in zip_object:\n",
    "    difference3_hol.append(temp_i-temp_crn_i)\n",
    "\n",
    "print(difference3_hol)"
   ]
  },
  {
   "cell_type": "markdown",
   "id": "2d2b0ce7",
   "metadata": {},
   "source": [
    "<font size=\"3\">Newton, MS: 0600 UTC (12:00 am CST) 01 March 2022-0600 UTC (12:00 am CST) 02 March 2022</font>"
   ]
  },
  {
   "cell_type": "code",
   "execution_count": 89,
   "id": "d10078d2",
   "metadata": {},
   "outputs": [
    {
     "name": "stdout",
     "output_type": "stream",
     "text": [
      "[0. 0. 0. 0. 0. 0. 0. 0. 0. 0. 0. 0. 0. 0. 0. 0. 0. 0. 0. 0. 0. 0. 0. 0.\n",
      " 0.]\n"
     ]
    }
   ],
   "source": [
    "#1 hr hrrr:\n",
    "with open('hrrr_f01_Newton_MS.txt') as f:\n",
    "    lst=[line.split()[2] for line in f]\n",
    "    temp=[]\n",
    "    for i in lst:\n",
    "        new=i.replace(',',\"\")\n",
    "        temp.append(new)\n",
    "    temp.pop(0)\n",
    "    temp=[float(x) for x in temp]\n",
    "    temp=temp[1877:1902]\n",
    "    #temp=temp[2015:2063]\n",
    "    temp=np.cumsum(temp)\n",
    "    print(temp)\n",
    "#full time period is [2015:2112]"
   ]
  },
  {
   "cell_type": "code",
   "execution_count": 90,
   "id": "493b49d2",
   "metadata": {},
   "outputs": [
    {
     "name": "stdout",
     "output_type": "stream",
     "text": [
      "[0. 0. 0. 0. 0. 0. 0. 0. 0. 0. 0. 0. 0. 0. 0. 0. 0. 0. 0. 0. 0. 0. 0. 0.\n",
      " 0.]\n"
     ]
    }
   ],
   "source": [
    "#Air Temp CRN:\n",
    "with open('CRNS0101-05-2022-MS_Newton_5_ENE.txt') as f:\n",
    "    lst=[line.split()[9] for line in f]\n",
    "    \n",
    "    a=(float(lst[22535])+float(lst[22536]))/2\n",
    "    b=(float(lst[22547])+float(lst[22548]))/2\n",
    "    c=(float(lst[22559])+float(lst[22560]))/2\n",
    "    d=(float(lst[22571])+float(lst[22572]))/2\n",
    "    e=(float(lst[22583])+float(lst[22584]))/2\n",
    "    f=(float(lst[22595])+float(lst[22596]))/2\n",
    "    g=(float(lst[22607])+float(lst[22608]))/2\n",
    "    h=(float(lst[22619])+float(lst[22620]))/2\n",
    "    i=(float(lst[22631])+float(lst[22632]))/2\n",
    "    j=(float(lst[22643])+float(lst[22644]))/2\n",
    "    k=(float(lst[22655])+float(lst[22656]))/2\n",
    "    l=(float(lst[22667])+float(lst[22668]))/2\n",
    "    m=(float(lst[22679])+float(lst[22680]))/2\n",
    "    n=(float(lst[22691])+float(lst[22692]))/2\n",
    "    o=(float(lst[22703])+float(lst[22704]))/2\n",
    "    p=(float(lst[22715])+float(lst[22716]))/2\n",
    "    q=(float(lst[22727])+float(lst[22728]))/2\n",
    "    r=(float(lst[22739])+float(lst[22740]))/2\n",
    "    s=(float(lst[22751])+float(lst[22752]))/2\n",
    "    t=(float(lst[22763])+float(lst[22764]))/2\n",
    "    u=(float(lst[22775])+float(lst[22776]))/2\n",
    "    v=(float(lst[22787])+float(lst[22788]))/2\n",
    "    w=(float(lst[22799])+float(lst[22800]))/2\n",
    "    x=(float(lst[22811])+float(lst[22812]))/2\n",
    "    y=(float(lst[22823])+float(lst[22824]))/2\n",
    "    \n",
    "    temp_crn=[a,b,c,d,e,f,g,h,i,j,k,l,m,n,o,p,q,r,s,t,u,v,w,x,y]\n",
    "    temp_crn=np.cumsum(temp_crn)\n",
    "    print(temp_crn)"
   ]
  },
  {
   "cell_type": "code",
   "execution_count": 91,
   "id": "9f44baa8",
   "metadata": {},
   "outputs": [
    {
     "name": "stdout",
     "output_type": "stream",
     "text": [
      "[0.0, 0.0, 0.0, 0.0, 0.0, 0.0, 0.0, 0.0, 0.0, 0.0, 0.0, 0.0, 0.0, 0.0, 0.0, 0.0, 0.0, 0.0, 0.0, 0.0, 0.0, 0.0, 0.0, 0.0, 0.0]\n"
     ]
    }
   ],
   "source": [
    "difference3_new = []\n",
    "\n",
    "zip_object = zip(temp, temp_crn)\n",
    "for temp_i, temp_crn_i in zip_object:\n",
    "    difference3_new.append(temp_i-temp_crn_i)\n",
    "\n",
    "print(difference3_new)"
   ]
  },
  {
   "cell_type": "markdown",
   "id": "538036ab",
   "metadata": {},
   "source": [
    "<font size=\"3\">Gainesville, AL: 0600 UTC (12:00 am CST) 01 March 2022-0600 UTC (12:00 am CST) 02 March 2022</font>"
   ]
  },
  {
   "cell_type": "code",
   "execution_count": 92,
   "id": "24a63117",
   "metadata": {},
   "outputs": [
    {
     "name": "stdout",
     "output_type": "stream",
     "text": [
      "[0. 0. 0. 0. 0. 0. 0. 0. 0. 0. 0. 0. 0. 0. 0. 0. 0. 0. 0. 0. 0. 0. 0. 0.\n",
      " 0.]\n"
     ]
    }
   ],
   "source": [
    "#1 hr hrrr:\n",
    "with open('hrrr_f01_Gainesville_AL.txt') as f:\n",
    "    lst=[line.split()[2] for line in f]\n",
    "    temp=[]\n",
    "    for i in lst:\n",
    "        new=i.replace(',',\"\")\n",
    "        temp.append(new)\n",
    "    temp.pop(0)\n",
    "    temp=[float(x) for x in temp]\n",
    "    temp=temp[1877:1902]\n",
    "    #temp=temp[2015:2063]\n",
    "    temp=np.cumsum(temp)\n",
    "    print(temp)\n",
    "#full time period is [2015:2112]"
   ]
  },
  {
   "cell_type": "code",
   "execution_count": 93,
   "id": "99f327da",
   "metadata": {},
   "outputs": [
    {
     "name": "stdout",
     "output_type": "stream",
     "text": [
      "[0. 0. 0. 0. 0. 0. 0. 0. 0. 0. 0. 0. 0. 0. 0. 0. 0. 0. 0. 0. 0. 0. 0. 0.\n",
      " 0.]\n"
     ]
    }
   ],
   "source": [
    "#Air Temp CRN:\n",
    "with open('CRNS0101-05-2022-AL_Gainesville_2_NE.txt') as f:\n",
    "    lst=[line.split()[9] for line in f]\n",
    "    \n",
    "    a=(float(lst[22535])+float(lst[22536]))/2\n",
    "    b=(float(lst[22547])+float(lst[22548]))/2\n",
    "    c=(float(lst[22559])+float(lst[22560]))/2\n",
    "    d=(float(lst[22571])+float(lst[22572]))/2\n",
    "    e=(float(lst[22583])+float(lst[22584]))/2\n",
    "    f=(float(lst[22595])+float(lst[22596]))/2\n",
    "    g=(float(lst[22607])+float(lst[22608]))/2\n",
    "    h=(float(lst[22619])+float(lst[22620]))/2\n",
    "    i=(float(lst[22631])+float(lst[22632]))/2\n",
    "    j=(float(lst[22643])+float(lst[22644]))/2\n",
    "    k=(float(lst[22655])+float(lst[22656]))/2\n",
    "    l=(float(lst[22667])+float(lst[22668]))/2\n",
    "    m=(float(lst[22679])+float(lst[22680]))/2\n",
    "    n=(float(lst[22691])+float(lst[22692]))/2\n",
    "    o=(float(lst[22703])+float(lst[22704]))/2\n",
    "    p=(float(lst[22715])+float(lst[22716]))/2\n",
    "    q=(float(lst[22727])+float(lst[22728]))/2\n",
    "    r=(float(lst[22739])+float(lst[22740]))/2\n",
    "    s=(float(lst[22751])+float(lst[22752]))/2\n",
    "    t=(float(lst[22763])+float(lst[22764]))/2\n",
    "    u=(float(lst[22775])+float(lst[22776]))/2\n",
    "    v=(float(lst[22787])+float(lst[22788]))/2\n",
    "    w=(float(lst[22799])+float(lst[22800]))/2\n",
    "    x=(float(lst[22811])+float(lst[22812]))/2\n",
    "    y=(float(lst[22823])+float(lst[22824]))/2\n",
    "    \n",
    "    temp_crn=[a,b,c,d,e,f,g,h,i,j,k,l,m,n,o,p,q,r,s,t,u,v,w,x,y]\n",
    "    temp_crn=np.cumsum(temp_crn)\n",
    "    print(temp_crn)"
   ]
  },
  {
   "cell_type": "code",
   "execution_count": 94,
   "id": "b6c8652b",
   "metadata": {},
   "outputs": [
    {
     "name": "stdout",
     "output_type": "stream",
     "text": [
      "[0.0, 0.0, 0.0, 0.0, 0.0, 0.0, 0.0, 0.0, 0.0, 0.0, 0.0, 0.0, 0.0, 0.0, 0.0, 0.0, 0.0, 0.0, 0.0, 0.0, 0.0, 0.0, 0.0, 0.0, 0.0]\n"
     ]
    }
   ],
   "source": [
    "difference3_gai = []\n",
    "\n",
    "zip_object = zip(temp, temp_crn)\n",
    "for temp_i, temp_crn_i in zip_object:\n",
    "    difference3_gai.append(temp_i-temp_crn_i)\n",
    "\n",
    "print(difference3_gai)"
   ]
  },
  {
   "cell_type": "markdown",
   "id": "bec1bd8b",
   "metadata": {},
   "source": [
    "<font size=\"3\">Fairhope, AL: 0600 UTC (12:00 am CST) 01 March 2022-0600 UTC (12:00 am CST) 02 March 2022</font>"
   ]
  },
  {
   "cell_type": "code",
   "execution_count": 95,
   "id": "1d46687a",
   "metadata": {},
   "outputs": [
    {
     "name": "stdout",
     "output_type": "stream",
     "text": [
      "[0. 0. 0. 0. 0. 0. 0. 0. 0. 0. 0. 0. 0. 0. 0. 0. 0. 0. 0. 0. 0. 0. 0. 0.\n",
      " 0.]\n"
     ]
    }
   ],
   "source": [
    "#1 hr hrrr:\n",
    "with open('hrrr_f01_Fairhope_AL.txt') as f:\n",
    "    lst=[line.split()[2] for line in f]\n",
    "    temp=[]\n",
    "    for i in lst:\n",
    "        new=i.replace(',',\"\")\n",
    "        temp.append(new)\n",
    "    temp.pop(0)\n",
    "    temp=[float(x) for x in temp]\n",
    "    temp=temp[1877:1902]\n",
    "    #temp=temp[2015:2063]\n",
    "    temp=np.cumsum(temp)\n",
    "    print(temp)\n",
    "#full time period is [2015:2112]"
   ]
  },
  {
   "cell_type": "code",
   "execution_count": 96,
   "id": "8a4a762c",
   "metadata": {},
   "outputs": [
    {
     "name": "stdout",
     "output_type": "stream",
     "text": [
      "[0. 0. 0. 0. 0. 0. 0. 0. 0. 0. 0. 0. 0. 0. 0. 0. 0. 0. 0. 0. 0. 0. 0. 0.\n",
      " 0.]\n"
     ]
    }
   ],
   "source": [
    "#Air Temp CRN:\n",
    "with open('CRNS0101-05-2022-AL_Fairhope_3_NE.txt') as f:\n",
    "    lst=[line.split()[9] for line in f]\n",
    "    \n",
    "    a=(float(lst[22535])+float(lst[22536]))/2\n",
    "    b=(float(lst[22547])+float(lst[22548]))/2\n",
    "    c=(float(lst[22559])+float(lst[22560]))/2\n",
    "    d=(float(lst[22571])+float(lst[22572]))/2\n",
    "    e=(float(lst[22583])+float(lst[22584]))/2\n",
    "    f=(float(lst[22595])+float(lst[22596]))/2\n",
    "    g=(float(lst[22607])+float(lst[22608]))/2\n",
    "    h=(float(lst[22619])+float(lst[22620]))/2\n",
    "    i=(float(lst[22631])+float(lst[22632]))/2\n",
    "    j=(float(lst[22643])+float(lst[22644]))/2\n",
    "    k=(float(lst[22655])+float(lst[22656]))/2\n",
    "    l=(float(lst[22667])+float(lst[22668]))/2\n",
    "    m=(float(lst[22679])+float(lst[22680]))/2\n",
    "    n=(float(lst[22691])+float(lst[22692]))/2\n",
    "    o=(float(lst[22703])+float(lst[22704]))/2\n",
    "    p=(float(lst[22715])+float(lst[22716]))/2\n",
    "    q=(float(lst[22727])+float(lst[22728]))/2\n",
    "    r=(float(lst[22739])+float(lst[22740]))/2\n",
    "    s=(float(lst[22751])+float(lst[22752]))/2\n",
    "    t=(float(lst[22763])+float(lst[22764]))/2\n",
    "    u=(float(lst[22775])+float(lst[22776]))/2\n",
    "    v=(float(lst[22787])+float(lst[22788]))/2\n",
    "    w=(float(lst[22799])+float(lst[22800]))/2\n",
    "    x=(float(lst[22811])+float(lst[22812]))/2\n",
    "    y=(float(lst[22823])+float(lst[22824]))/2\n",
    "    \n",
    "    temp_crn=[a,b,c,d,e,f,g,h,i,j,k,l,m,n,o,p,q,r,s,t,u,v,w,x,y]\n",
    "    temp_crn=np.cumsum(temp_crn)\n",
    "    print(temp_crn)"
   ]
  },
  {
   "cell_type": "code",
   "execution_count": 97,
   "id": "e5202245",
   "metadata": {},
   "outputs": [
    {
     "name": "stdout",
     "output_type": "stream",
     "text": [
      "[0.0, 0.0, 0.0, 0.0, 0.0, 0.0, 0.0, 0.0, 0.0, 0.0, 0.0, 0.0, 0.0, 0.0, 0.0, 0.0, 0.0, 0.0, 0.0, 0.0, 0.0, 0.0, 0.0, 0.0, 0.0]\n"
     ]
    }
   ],
   "source": [
    "difference3_fai = []\n",
    "\n",
    "zip_object = zip(temp, temp_crn)\n",
    "for temp_i, temp_crn_i in zip_object:\n",
    "    difference3_fai.append(temp_i-temp_crn_i)\n",
    "\n",
    "print(difference3_fai)"
   ]
  },
  {
   "cell_type": "markdown",
   "id": "5450f80c",
   "metadata": {},
   "source": [
    "<font size=\"3\">**Selma, AL: 0600 UTC (12:00 am CST) 01 March 2022-0600 UTC (12:00 am CST) 02 March 2022</font>"
   ]
  },
  {
   "cell_type": "code",
   "execution_count": 98,
   "id": "168fefba",
   "metadata": {},
   "outputs": [
    {
     "name": "stdout",
     "output_type": "stream",
     "text": [
      "[0. 0. 0. 0. 0. 0. 0. 0. 0. 0. 0. 0. 0. 0. 0. 0. 0. 0. 0. 0. 0. 0. 0. 0.\n",
      " 0.]\n"
     ]
    }
   ],
   "source": [
    "#1 hr hrrr:\n",
    "import numpy as np\n",
    "import numpy.ma as ma\n",
    "with open('hrrr_f01_Selma_AL.txt') as f:\n",
    "    lst=[line.split()[2] for line in f]\n",
    "    temp=[]\n",
    "    for i in lst:\n",
    "        new=i.replace(',',\"\")\n",
    "        temp.append(new)\n",
    "    temp.pop(0)\n",
    "    temp=[float(x) for x in temp]\n",
    "    temp=temp[1877:1902]\n",
    "    temp=np.cumsum(temp)\n",
    "    print(temp)"
   ]
  },
  {
   "cell_type": "code",
   "execution_count": 99,
   "id": "f289b0c4",
   "metadata": {},
   "outputs": [
    {
     "name": "stdout",
     "output_type": "stream",
     "text": [
      "[0. 0. 0. 0. 0. 0. 0. 0. 0. 0. 0. 0. 0. 0. 0. 0. 0. 0. 0. 0. 0. 0. 0. 0.\n",
      " 0.]\n"
     ]
    }
   ],
   "source": [
    "#Air Temp CRN:\n",
    "with open('CRNS0101-05-2022-AL_Selma_13_WNW.txt') as f:\n",
    "    lst=[line.split()[9] for line in f]\n",
    "    \n",
    "    a=(float(lst[22535])+float(lst[22536]))/2\n",
    "    b=(float(lst[22547])+float(lst[22548]))/2\n",
    "    c=(float(lst[22559])+float(lst[22560]))/2\n",
    "    d=(float(lst[22571])+float(lst[22572]))/2\n",
    "    e=(float(lst[22583])+float(lst[22584]))/2\n",
    "    f=(float(lst[22595])+float(lst[22596]))/2\n",
    "    g=(float(lst[22607])+float(lst[22608]))/2\n",
    "    h=(float(lst[22619])+float(lst[22620]))/2\n",
    "    i=(float(lst[22631])+float(lst[22632]))/2\n",
    "    j=(float(lst[22643])+float(lst[22644]))/2\n",
    "    k=(float(lst[22655])+float(lst[22656]))/2\n",
    "    l=(float(lst[22667])+float(lst[22668]))/2\n",
    "    m=(float(lst[22679])+float(lst[22680]))/2\n",
    "    n=(float(lst[22691])+float(lst[22692]))/2\n",
    "    o=(float(lst[22703])+float(lst[22704]))/2\n",
    "    p=(float(lst[22715])+float(lst[22716]))/2\n",
    "    q=(float(lst[22727])+float(lst[22728]))/2\n",
    "    r=(float(lst[22739])+float(lst[22740]))/2\n",
    "    s=(float(lst[22751])+float(lst[22752]))/2\n",
    "    t=(float(lst[22763])+float(lst[22764]))/2\n",
    "    u=(float(lst[22775])+float(lst[22776]))/2\n",
    "    v=(float(lst[22787])+float(lst[22788]))/2\n",
    "    w=(float(lst[22799])+float(lst[22800]))/2\n",
    "    x=(float(lst[22811])+float(lst[22812]))/2\n",
    "    y=(float(lst[22823])+float(lst[22824]))/2\n",
    "    \n",
    "    temp_crn=[a,b,c,d,e,f,g,h,i,j,k,l,m,n,o,p,q,r,s,t,u,v,w,x,y]\n",
    "    temp_crn=np.cumsum(temp_crn)\n",
    "    print(temp_crn)"
   ]
  },
  {
   "cell_type": "code",
   "execution_count": 100,
   "id": "3e2532e4",
   "metadata": {},
   "outputs": [
    {
     "name": "stdout",
     "output_type": "stream",
     "text": [
      "[0.0, 0.0, 0.0, 0.0, 0.0, 0.0, 0.0, 0.0, 0.0, 0.0, 0.0, 0.0, 0.0, 0.0, 0.0, 0.0, 0.0, 0.0, 0.0, 0.0, 0.0, 0.0, 0.0, 0.0, 0.0]\n",
      "25\n"
     ]
    }
   ],
   "source": [
    "difference3_sel = []\n",
    "\n",
    "zip_object = zip(temp, temp_crn)\n",
    "for temp_i, temp_crn_i in zip_object:\n",
    "    difference3_sel.append(temp_i-temp_crn_i)\n",
    "\n",
    "print(difference3_sel)\n",
    "print(len(difference3_sel))"
   ]
  },
  {
   "cell_type": "markdown",
   "id": "d837cb2c",
   "metadata": {},
   "source": [
    "<font size=\"3\">Bowling Green, KY: 0600 UTC (12:00 am CST) 01 March 2022-0600 UTC (12:00 am CST) 02 March 2022</font>"
   ]
  },
  {
   "cell_type": "code",
   "execution_count": 101,
   "id": "4d2fd05e",
   "metadata": {},
   "outputs": [
    {
     "name": "stdout",
     "output_type": "stream",
     "text": [
      "[0. 0. 0. 0. 0. 0. 0. 0. 0. 0. 0. 0. 0. 0. 0. 0. 0. 0. 0. 0. 0. 0. 0. 0.\n",
      " 0.]\n"
     ]
    }
   ],
   "source": [
    "#1 hr hrrr:\n",
    "with open('hrrr_f01_Bowling Green_KY.txt') as f:\n",
    "    lst=[line.split()[2] for line in f]\n",
    "    temp=[]\n",
    "    for i in lst:\n",
    "        new=i.replace(',',\"\")\n",
    "        temp.append(new)\n",
    "    temp.pop(0)\n",
    "    temp=[float(x) for x in temp]\n",
    "    temp=temp[1877:1902]\n",
    "    #temp=temp[2015:2063]\n",
    "    temp=np.cumsum(temp)\n",
    "    print(temp)\n",
    "#full time period is [2015:2112]"
   ]
  },
  {
   "cell_type": "code",
   "execution_count": 102,
   "id": "8f455593",
   "metadata": {},
   "outputs": [
    {
     "name": "stdout",
     "output_type": "stream",
     "text": [
      "[0. 0. 0. 0. 0. 0. 0. 0. 0. 0. 0. 0. 0. 0. 0. 0. 0. 0. 0. 0. 0. 0. 0. 0.\n",
      " 0.]\n"
     ]
    }
   ],
   "source": [
    "#Air Temp CRN:\n",
    "with open('CRNS0101-05-2022-KY_Bowling_Green_21_NNE.txt') as f:\n",
    "    lst=[line.split()[9] for line in f]\n",
    "    \n",
    "    a=(float(lst[22535])+float(lst[22536]))/2\n",
    "    b=(float(lst[22547])+float(lst[22548]))/2\n",
    "    c=(float(lst[22559])+float(lst[22560]))/2\n",
    "    d=(float(lst[22571])+float(lst[22572]))/2\n",
    "    e=(float(lst[22583])+float(lst[22584]))/2\n",
    "    f=(float(lst[22595])+float(lst[22596]))/2\n",
    "    g=(float(lst[22607])+float(lst[22608]))/2\n",
    "    h=(float(lst[22619])+float(lst[22620]))/2\n",
    "    i=(float(lst[22631])+float(lst[22632]))/2\n",
    "    j=(float(lst[22643])+float(lst[22644]))/2\n",
    "    k=(float(lst[22655])+float(lst[22656]))/2\n",
    "    l=(float(lst[22667])+float(lst[22668]))/2\n",
    "    m=(float(lst[22679])+float(lst[22680]))/2\n",
    "    n=(float(lst[22691])+float(lst[22692]))/2\n",
    "    o=(float(lst[22703])+float(lst[22704]))/2\n",
    "    p=(float(lst[22715])+float(lst[22716]))/2\n",
    "    q=(float(lst[22727])+float(lst[22728]))/2\n",
    "    r=(float(lst[22739])+float(lst[22740]))/2\n",
    "    s=(float(lst[22751])+float(lst[22752]))/2\n",
    "    t=(float(lst[22763])+float(lst[22764]))/2\n",
    "    u=(float(lst[22775])+float(lst[22776]))/2\n",
    "    v=(float(lst[22787])+float(lst[22788]))/2\n",
    "    w=(float(lst[22799])+float(lst[22800]))/2\n",
    "    x=(float(lst[22811])+float(lst[22812]))/2\n",
    "    y=(float(lst[22823])+float(lst[22824]))/2\n",
    "    \n",
    "    temp_crn=[a,b,c,d,e,f,g,h,i,j,k,l,m,n,o,p,q,r,s,t,u,v,w,x,y]\n",
    "    temp_crn=np.cumsum(temp_crn)\n",
    "    print(temp_crn)"
   ]
  },
  {
   "cell_type": "code",
   "execution_count": 103,
   "id": "c1e44909",
   "metadata": {},
   "outputs": [
    {
     "name": "stdout",
     "output_type": "stream",
     "text": [
      "[0.0, 0.0, 0.0, 0.0, 0.0, 0.0, 0.0, 0.0, 0.0, 0.0, 0.0, 0.0, 0.0, 0.0, 0.0, 0.0, 0.0, 0.0, 0.0, 0.0, 0.0, 0.0, 0.0, 0.0, 0.0]\n"
     ]
    }
   ],
   "source": [
    "difference3_bow = []\n",
    "\n",
    "zip_object = zip(temp, temp_crn)\n",
    "for temp_i, temp_crn_i in zip_object:\n",
    "    difference3_bow.append(temp_i-temp_crn_i)\n",
    "\n",
    "print(difference3_bow)"
   ]
  },
  {
   "cell_type": "markdown",
   "id": "21c9a287",
   "metadata": {},
   "source": [
    "<font size=\"3\">Gadsden, AL: 0600 UTC (12:00 am CST) 01 March 2022-0600 UTC (12:00 am CST) 02 March 2022</font>"
   ]
  },
  {
   "cell_type": "code",
   "execution_count": 104,
   "id": "77a1ef95",
   "metadata": {},
   "outputs": [],
   "source": [
    "# #1 hr hrrr:\n",
    "# with open('hrrr_f01_Gadsden_AL.txt') as f:\n",
    "#     lst=[line.split()[2] for line in f]\n",
    "#     temp=[]\n",
    "#     for i in lst:\n",
    "#         new=i.replace(',',\"\")\n",
    "#         temp.append(new)\n",
    "#     temp.pop(0)\n",
    "#     temp=[float(x) for x in temp]\n",
    "#     temp=temp[1877:1902]\n",
    "# #     x = np.array(temp)\n",
    "# #     temp = ma.masked_array(x, mask=[0, 0, 0, 0, 0,0,0,0,1,0,0,0,0,0,0,0,0,0,0,0,0,0,0,0,0])\n",
    "#     #temp=temp[2015:2063]\n",
    "#     temp=np.cumsum(temp)\n",
    "#     print(temp)\n",
    "# #full time period is [2015:2112]"
   ]
  },
  {
   "cell_type": "code",
   "execution_count": 105,
   "id": "90d48370",
   "metadata": {},
   "outputs": [],
   "source": [
    "# #Air Temp CRN:\n",
    "# with open('CRNS0101-05-2022-AL_Gadsden_19_N.txt') as f:\n",
    "#     lst=[line.split()[9] for line in f]\n",
    "    \n",
    "#     a=(float(lst[22535])+float(lst[22536]))/2\n",
    "#     b=(float(lst[22547])+float(lst[22548]))/2\n",
    "#     c=(float(lst[22559])+float(lst[22560]))/2\n",
    "#     d=(float(lst[22571])+float(lst[22572]))/2\n",
    "#     e=(float(lst[22583])+float(lst[22584]))/2\n",
    "#     f=(float(lst[22595])+float(lst[22596]))/2\n",
    "#     g=(float(lst[22607])+float(lst[22608]))/2\n",
    "#     h=(float(lst[22619])+float(lst[22620]))/2\n",
    "#     i=(float(lst[22631])+float(lst[22632]))/2\n",
    "#     j=(float(lst[22643])+float(lst[22644]))/2\n",
    "#     k=(float(lst[22655])+float(lst[22656]))/2\n",
    "#     l=(float(lst[22667])+float(lst[22668]))/2\n",
    "#     m=(float(lst[22679])+float(lst[22680]))/2\n",
    "#     n=(float(lst[22691])+float(lst[22692]))/2\n",
    "#     o=(float(lst[22703])+float(lst[22704]))/2\n",
    "#     p=(float(lst[22715])+float(lst[22716]))/2\n",
    "#     q=(float(lst[22727])+float(lst[22728]))/2\n",
    "#     r=(float(lst[22739])+float(lst[22740]))/2\n",
    "#     s=(float(lst[22751])+float(lst[22752]))/2\n",
    "#     t=(float(lst[22763])+float(lst[22764]))/2\n",
    "#     u=(float(lst[22775])+float(lst[22776]))/2\n",
    "#     v=(float(lst[22787])+float(lst[22788]))/2\n",
    "#     w=(float(lst[22799])+float(lst[22800]))/2\n",
    "#     x=(float(lst[22811])+float(lst[22812]))/2\n",
    "#     y=(float(lst[22823])+float(lst[22824]))/2\n",
    "    \n",
    "#     temp_crn=[a,b,c,d,e,f,g,h,i,j,k,l,m,n,o,p,q,r,s,t,u,v,w,x,y]\n",
    "#     temp_crn=np.cumsum(temp_crn)\n",
    "#     print(temp_crn)"
   ]
  },
  {
   "cell_type": "code",
   "execution_count": 106,
   "id": "cf4acb88",
   "metadata": {},
   "outputs": [],
   "source": [
    "# difference3_gad = []\n",
    "\n",
    "# zip_object = zip(temp, temp_crn)\n",
    "# for temp_i, temp_crn_i in zip_object:\n",
    "#     difference3_gad.append(temp_i-temp_crn_i)\n",
    "\n",
    "# print(difference3_gad)"
   ]
  },
  {
   "cell_type": "markdown",
   "id": "93b56dfb",
   "metadata": {},
   "source": [
    "<font size=\"3\">Newton, GA: 0600 UTC (12:00 am CST) 01 March 2022-0600 UTC (12:00 am CST) 02 March 2022</font>"
   ]
  },
  {
   "cell_type": "code",
   "execution_count": 107,
   "id": "53a55c7c",
   "metadata": {},
   "outputs": [
    {
     "name": "stdout",
     "output_type": "stream",
     "text": [
      "[0. 0. 0. 0. 0. 0. 0. 0. 0. 0. 0. 0. 0. 0. 0. 0. 0. 0. 0. 0. 0. 0. 0. 0.\n",
      " 0.]\n"
     ]
    }
   ],
   "source": [
    "#1 hr hrrr:\n",
    "with open('hrrr_f01_Newton_GA.txt') as f:\n",
    "    lst=[line.split()[2] for line in f]\n",
    "    temp=[]\n",
    "    for i in lst:\n",
    "        new=i.replace(',',\"\")\n",
    "        temp.append(new)\n",
    "    temp.pop(0)\n",
    "    temp=[float(x) for x in temp]\n",
    "    temp=temp[1877:1902]\n",
    "    #temp=temp[2015:2063]\n",
    "    temp=np.cumsum(temp)\n",
    "    print(temp)\n",
    "#full time period is [2015:2112]"
   ]
  },
  {
   "cell_type": "code",
   "execution_count": 108,
   "id": "e0002988",
   "metadata": {},
   "outputs": [
    {
     "name": "stdout",
     "output_type": "stream",
     "text": [
      "[0. 0. 0. 0. 0. 0. 0. 0. 0. 0. 0. 0. 0. 0. 0. 0. 0. 0. 0. 0. 0. 0. 0. 0.\n",
      " 0.]\n"
     ]
    }
   ],
   "source": [
    "#Air Temp CRN:\n",
    "with open('CRNS0101-05-2022-GA_Newton_11_SW.txt') as f:\n",
    "    lst=[line.split()[9] for line in f]\n",
    "    \n",
    "    a=(float(lst[22535])+float(lst[22536]))/2\n",
    "    b=(float(lst[22547])+float(lst[22548]))/2\n",
    "    c=(float(lst[22559])+float(lst[22560]))/2\n",
    "    d=(float(lst[22571])+float(lst[22572]))/2\n",
    "    e=(float(lst[22583])+float(lst[22584]))/2\n",
    "    f=(float(lst[22595])+float(lst[22596]))/2\n",
    "    g=(float(lst[22607])+float(lst[22608]))/2\n",
    "    h=(float(lst[22619])+float(lst[22620]))/2\n",
    "    i=(float(lst[22631])+float(lst[22632]))/2\n",
    "    j=(float(lst[22643])+float(lst[22644]))/2\n",
    "    k=(float(lst[22655])+float(lst[22656]))/2\n",
    "    l=(float(lst[22667])+float(lst[22668]))/2\n",
    "    m=(float(lst[22679])+float(lst[22680]))/2\n",
    "    n=(float(lst[22691])+float(lst[22692]))/2\n",
    "    o=(float(lst[22703])+float(lst[22704]))/2\n",
    "    p=(float(lst[22715])+float(lst[22716]))/2\n",
    "    q=(float(lst[22727])+float(lst[22728]))/2\n",
    "    r=(float(lst[22739])+float(lst[22740]))/2\n",
    "    s=(float(lst[22751])+float(lst[22752]))/2\n",
    "    t=(float(lst[22763])+float(lst[22764]))/2\n",
    "    u=(float(lst[22775])+float(lst[22776]))/2\n",
    "    v=(float(lst[22787])+float(lst[22788]))/2\n",
    "    w=(float(lst[22799])+float(lst[22800]))/2\n",
    "    x=(float(lst[22811])+float(lst[22812]))/2\n",
    "    y=(float(lst[22823])+float(lst[22824]))/2\n",
    "    \n",
    "    temp_crn=[a,b,c,d,e,f,g,h,i,j,k,l,m,n,o,p,q,r,s,t,u,v,w,x,y]\n",
    "    temp_crn=np.cumsum(temp_crn)\n",
    "    print(temp_crn)"
   ]
  },
  {
   "cell_type": "code",
   "execution_count": 109,
   "id": "b71c6000",
   "metadata": {},
   "outputs": [
    {
     "name": "stdout",
     "output_type": "stream",
     "text": [
      "[0.0, 0.0, 0.0, 0.0, 0.0, 0.0, 0.0, 0.0, 0.0, 0.0, 0.0, 0.0, 0.0, 0.0, 0.0, 0.0, 0.0, 0.0, 0.0, 0.0, 0.0, 0.0, 0.0, 0.0, 0.0]\n"
     ]
    }
   ],
   "source": [
    "difference3_newt = []\n",
    "\n",
    "zip_object = zip(temp, temp_crn)\n",
    "for temp_i, temp_crn_i in zip_object:\n",
    "    difference3_newt.append(temp_i-temp_crn_i)\n",
    "\n",
    "print(difference3_newt)"
   ]
  },
  {
   "cell_type": "markdown",
   "id": "e079df5d",
   "metadata": {},
   "source": [
    "<font size=\"3\">Salem, MO: 0500 UTC (12:00 am CDT) 03 April 2022-0500 UTC (12:00 am CDT) 04 April 2022</font>"
   ]
  },
  {
   "cell_type": "code",
   "execution_count": 110,
   "id": "2bda3233",
   "metadata": {},
   "outputs": [
    {
     "name": "stdout",
     "output_type": "stream",
     "text": [
      "[0.    0.    0.    0.    0.    0.    0.    0.    0.    0.    0.    0.\n",
      " 0.    0.    0.    0.    0.    0.    0.    0.004 0.004 0.004 0.005 0.005\n",
      " 0.052]\n"
     ]
    }
   ],
   "source": [
    "#1 hr hrrr:\n",
    "with open('hrrr_f01_Salem_MO.txt') as f:\n",
    "    lst=[line.split()[2] for line in f]\n",
    "    temp=[]\n",
    "    for i in lst:\n",
    "        new=i.replace(',',\"\")\n",
    "        temp.append(new)\n",
    "    temp.pop(0)\n",
    "    temp=[float(x) for x in temp]\n",
    "    temp=temp[2213:2238]\n",
    "    #temp=temp[2015:2063]\n",
    "    temp=np.cumsum(temp)\n",
    "    print(temp)\n",
    "#full time period is [2015:2112]"
   ]
  },
  {
   "cell_type": "code",
   "execution_count": 111,
   "id": "3a8d2e0d",
   "metadata": {},
   "outputs": [
    {
     "name": "stdout",
     "output_type": "stream",
     "text": [
      "[0. 0. 0. 0. 0. 0. 0. 0. 0. 0. 0. 0. 0. 0. 0. 0. 0. 0. 0. 0. 0. 0. 0. 0.\n",
      " 0.]\n"
     ]
    }
   ],
   "source": [
    "#Air Temp CRN:\n",
    "with open('CRNS0101-05-2022-MO_Salem_10_W.txt') as f:\n",
    "    lst=[line.split()[9] for line in f]\n",
    "    \n",
    "    a=(float(lst[26567])+float(lst[26568]))/2\n",
    "    b=(float(lst[26579])+float(lst[26580]))/2\n",
    "    c=(float(lst[26591])+float(lst[26592]))/2\n",
    "    d=(float(lst[26603])+float(lst[26604]))/2\n",
    "    e=(float(lst[26615])+float(lst[26616]))/2\n",
    "    f=(float(lst[26627])+float(lst[26628]))/2\n",
    "    g=(float(lst[26639])+float(lst[26640]))/2\n",
    "    h=(float(lst[26651])+float(lst[26652]))/2\n",
    "    i=(float(lst[26663])+float(lst[26664]))/2\n",
    "    j=(float(lst[26675])+float(lst[26676]))/2\n",
    "    k=(float(lst[26687])+float(lst[26688]))/2\n",
    "    l=(float(lst[26699])+float(lst[26700]))/2\n",
    "    m=(float(lst[26711])+float(lst[26712]))/2\n",
    "    n=(float(lst[26723])+float(lst[26724]))/2\n",
    "    o=(float(lst[26735])+float(lst[26736]))/2\n",
    "    p=(float(lst[26747])+float(lst[26748]))/2\n",
    "    q=(float(lst[26759])+float(lst[26760]))/2\n",
    "    r=(float(lst[26773])+float(lst[26774]))/2\n",
    "    s=(float(lst[26783])+float(lst[26784]))/2\n",
    "    t=(float(lst[26795])+float(lst[26796]))/2\n",
    "    u=(float(lst[26807])+float(lst[26808]))/2\n",
    "    v=(float(lst[26819])+float(lst[26820]))/2\n",
    "    w=(float(lst[26831])+float(lst[26832]))/2\n",
    "    x=(float(lst[26843])+float(lst[26844]))/2\n",
    "    y=(float(lst[26855])+float(lst[26856]))/2\n",
    "    \n",
    "    temp_crn=[a,b,c,d,e,f,g,h,i,j,k,l,m,n,o,p,q,r,s,t,u,v,w,x,y]\n",
    "    temp_crn=np.cumsum(temp_crn)\n",
    "    print(temp_crn)"
   ]
  },
  {
   "cell_type": "code",
   "execution_count": 112,
   "id": "2f3aad80",
   "metadata": {},
   "outputs": [
    {
     "name": "stdout",
     "output_type": "stream",
     "text": [
      "[0.0, 0.0, 0.0, 0.0, 0.0, 0.0, 0.0, 0.0, 0.0, 0.0, 0.0, 0.0, 0.0, 0.0, 0.0, 0.0, 0.0, 0.0, 0.0, 0.004, 0.004, 0.004, 0.005, 0.005, 0.052]\n"
     ]
    }
   ],
   "source": [
    "difference4_sal = []\n",
    "\n",
    "zip_object = zip(temp, temp_crn)\n",
    "for temp_i, temp_crn_i in zip_object:\n",
    "    difference4_sal.append(temp_i-temp_crn_i)\n",
    "\n",
    "print(difference4_sal)"
   ]
  },
  {
   "cell_type": "markdown",
   "id": "f30e9b3b",
   "metadata": {},
   "source": [
    "<font size=\"3\">Batesville, AR: 0600 UTC (12:00 am CST) 01 March 2022-0600 UTC (12:00 am CST) 02 March 2022</font>"
   ]
  },
  {
   "cell_type": "code",
   "execution_count": 113,
   "id": "ea25905e",
   "metadata": {},
   "outputs": [
    {
     "name": "stdout",
     "output_type": "stream",
     "text": [
      "[0. 0. 0. 0. 0. 0. 0. 0. 0. 0. 0. 0. 0. 0. 0. 0. 0. 0. 0. 0. 0. 0. 0. 0.\n",
      " 0.]\n"
     ]
    }
   ],
   "source": [
    "#1 hr hrrr:\n",
    "with open('hrrr_f01_Batesville_AR.txt') as f:\n",
    "    lst=[line.split()[2] for line in f]\n",
    "    temp=[]\n",
    "    for i in lst:\n",
    "        new=i.replace(',',\"\")\n",
    "        temp.append(new)\n",
    "    temp.pop(0)\n",
    "    temp=[float(x) for x in temp]\n",
    "    temp=temp[2213:2238]\n",
    "#     x = np.array(temp)\n",
    "#     temp = ma.masked_array(x, mask=[0, 0, 0, 0, 0,0,0,0,0,0,0,0,0,0,0,0,0,0,0,0,0,1,0,0,0])\n",
    "    #temp=temp[2015:2063]\n",
    "    temp=np.cumsum(temp)\n",
    "    print(temp)\n",
    "#full time period is [2015:2112]"
   ]
  },
  {
   "cell_type": "code",
   "execution_count": 114,
   "id": "6ac93b59",
   "metadata": {},
   "outputs": [
    {
     "name": "stdout",
     "output_type": "stream",
     "text": [
      "[0. 0. 0. 0. 0. 0. 0. 0. 0. 0. 0. 0. 0. 0. 0. 0. 0. 0. 0. 0. 0. 0. 0. 0.\n",
      " 0.]\n"
     ]
    }
   ],
   "source": [
    "#Air Temp CRN:\n",
    "with open('CRNS0101-05-2022-AR_Batesville_8_WNW.txt') as f:\n",
    "    lst=[line.split()[9] for line in f]\n",
    "    \n",
    "    a=(float(lst[26567])+float(lst[26568]))/2\n",
    "    b=(float(lst[26579])+float(lst[26580]))/2\n",
    "    c=(float(lst[26591])+float(lst[26592]))/2\n",
    "    d=(float(lst[26603])+float(lst[26604]))/2\n",
    "    e=(float(lst[26615])+float(lst[26616]))/2\n",
    "    f=(float(lst[26627])+float(lst[26628]))/2\n",
    "    g=(float(lst[26639])+float(lst[26640]))/2\n",
    "    h=(float(lst[26651])+float(lst[26652]))/2\n",
    "    i=(float(lst[26663])+float(lst[26664]))/2\n",
    "    j=(float(lst[26675])+float(lst[26676]))/2\n",
    "    k=(float(lst[26687])+float(lst[26688]))/2\n",
    "    l=(float(lst[26699])+float(lst[26700]))/2\n",
    "    m=(float(lst[26711])+float(lst[26712]))/2\n",
    "    n=(float(lst[26723])+float(lst[26724]))/2\n",
    "    o=(float(lst[26735])+float(lst[26736]))/2\n",
    "    p=(float(lst[26747])+float(lst[26748]))/2\n",
    "    q=(float(lst[26759])+float(lst[26760]))/2\n",
    "    r=(float(lst[26773])+float(lst[26774]))/2\n",
    "    s=(float(lst[26783])+float(lst[26784]))/2\n",
    "    t=(float(lst[26795])+float(lst[26796]))/2\n",
    "    u=(float(lst[26807])+float(lst[26808]))/2\n",
    "    v=(float(lst[26819])+float(lst[26820]))/2\n",
    "    w=(float(lst[26831])+float(lst[26832]))/2\n",
    "    x=(float(lst[26843])+float(lst[26844]))/2\n",
    "    y=(float(lst[26855])+float(lst[26856]))/2\n",
    "    \n",
    "    temp_crn=[a,b,c,d,e,f,g,h,i,j,k,l,m,n,o,p,q,r,s,t,u,v,w,x,y]\n",
    "    temp_crn=np.cumsum(temp_crn)\n",
    "    print(temp_crn)"
   ]
  },
  {
   "cell_type": "code",
   "execution_count": 115,
   "id": "32d53f73",
   "metadata": {},
   "outputs": [
    {
     "name": "stdout",
     "output_type": "stream",
     "text": [
      "[0.0, 0.0, 0.0, 0.0, 0.0, 0.0, 0.0, 0.0, 0.0, 0.0, 0.0, 0.0, 0.0, 0.0, 0.0, 0.0, 0.0, 0.0, 0.0, 0.0, 0.0, 0.0, 0.0, 0.0, 0.0]\n"
     ]
    }
   ],
   "source": [
    "difference4_bat = []\n",
    "\n",
    "zip_object = zip(temp, temp_crn)\n",
    "for temp_i, temp_crn_i in zip_object:\n",
    "    difference4_bat.append(temp_i-temp_crn_i)\n",
    "\n",
    "print(difference4_bat)"
   ]
  },
  {
   "cell_type": "markdown",
   "id": "2869b9dc",
   "metadata": {},
   "source": [
    "<font size=\"3\">Lafayette, LA: 0600 UTC (12:00 am CST) 01 March 2022-0600 UTC (12:00 am CST) 02 March 2022</font>"
   ]
  },
  {
   "cell_type": "code",
   "execution_count": 116,
   "id": "fd2670e5",
   "metadata": {},
   "outputs": [
    {
     "name": "stdout",
     "output_type": "stream",
     "text": [
      "[0. 0. 0. 0. 0. 0. 0. 0. 0. 0. 0. 0. 0. 0. 0. 0. 0. 0. 0. 0. 0. 0. 0. 0.\n",
      " 0.]\n"
     ]
    }
   ],
   "source": [
    "#1 hr hrrr:\n",
    "with open('hrrr_f01_Lafayette_LA.txt') as f:\n",
    "    lst=[line.split()[2] for line in f]\n",
    "    temp=[]\n",
    "    for i in lst:\n",
    "        new=i.replace(',',\"\")\n",
    "        temp.append(new)\n",
    "    temp.pop(0)\n",
    "    temp=[float(x) for x in temp]\n",
    "    temp=temp[2213:2238]\n",
    "    #temp=temp[2015:2063]\n",
    "    temp=np.cumsum(temp)\n",
    "    print(temp)\n",
    "#full time period is [2015:2112]"
   ]
  },
  {
   "cell_type": "code",
   "execution_count": 117,
   "id": "59735c23",
   "metadata": {},
   "outputs": [
    {
     "name": "stdout",
     "output_type": "stream",
     "text": [
      "[0. 0. 0. 0. 0. 0. 0. 0. 0. 0. 0. 0. 0. 0. 0. 0. 0. 0. 0. 0. 0. 0. 0. 0.\n",
      " 0.]\n"
     ]
    }
   ],
   "source": [
    "#Air Temp CRN:\n",
    "with open('CRNS0101-05-2022-LA_Lafayette_13_SE.txt') as f:\n",
    "    lst=[line.split()[9] for line in f]\n",
    "    \n",
    "    a=(float(lst[26567])+float(lst[26568]))/2\n",
    "    b=(float(lst[26579])+float(lst[26580]))/2\n",
    "    c=(float(lst[26591])+float(lst[26592]))/2\n",
    "    d=(float(lst[26603])+float(lst[26604]))/2\n",
    "    e=(float(lst[26615])+float(lst[26616]))/2\n",
    "    f=(float(lst[26627])+float(lst[26628]))/2\n",
    "    g=(float(lst[26639])+float(lst[26640]))/2\n",
    "    h=(float(lst[26651])+float(lst[26652]))/2\n",
    "    i=(float(lst[26663])+float(lst[26664]))/2\n",
    "    j=(float(lst[26675])+float(lst[26676]))/2\n",
    "    k=(float(lst[26687])+float(lst[26688]))/2\n",
    "    l=(float(lst[26699])+float(lst[26700]))/2\n",
    "    m=(float(lst[26711])+float(lst[26712]))/2\n",
    "    n=(float(lst[26723])+float(lst[26724]))/2\n",
    "    o=(float(lst[26735])+float(lst[26736]))/2\n",
    "    p=(float(lst[26747])+float(lst[26748]))/2\n",
    "    q=(float(lst[26759])+float(lst[26760]))/2\n",
    "    r=(float(lst[26773])+float(lst[26774]))/2\n",
    "    s=(float(lst[26783])+float(lst[26784]))/2\n",
    "    t=(float(lst[26795])+float(lst[26796]))/2\n",
    "    u=(float(lst[26807])+float(lst[26808]))/2\n",
    "    v=(float(lst[26819])+float(lst[26820]))/2\n",
    "    w=(float(lst[26831])+float(lst[26832]))/2\n",
    "    x=(float(lst[26843])+float(lst[26844]))/2\n",
    "    y=(float(lst[26855])+float(lst[26856]))/2\n",
    "    \n",
    "    temp_crn=[a,b,c,d,e,f,g,h,i,j,k,l,m,n,o,p,q,r,s,t,u,v,w,x,y]\n",
    "    temp_crn=np.cumsum(temp_crn)\n",
    "    print(temp_crn)"
   ]
  },
  {
   "cell_type": "code",
   "execution_count": 118,
   "id": "c02f8d98",
   "metadata": {},
   "outputs": [
    {
     "name": "stdout",
     "output_type": "stream",
     "text": [
      "[0.0, 0.0, 0.0, 0.0, 0.0, 0.0, 0.0, 0.0, 0.0, 0.0, 0.0, 0.0, 0.0, 0.0, 0.0, 0.0, 0.0, 0.0, 0.0, 0.0, 0.0, 0.0, 0.0, 0.0, 0.0]\n"
     ]
    }
   ],
   "source": [
    "difference4_laf = []\n",
    "\n",
    "zip_object = zip(temp, temp_crn)\n",
    "for temp_i, temp_crn_i in zip_object:\n",
    "    difference4_laf.append(temp_i-temp_crn_i)\n",
    "\n",
    "print(difference4_laf)"
   ]
  },
  {
   "cell_type": "markdown",
   "id": "ab48fc12",
   "metadata": {},
   "source": [
    "<font size=\"3\">Monroe, LA: 0600 UTC (12:00 am CST) 01 March 2022-0600 UTC (12:00 am CST) 02 March 2022</font>"
   ]
  },
  {
   "cell_type": "code",
   "execution_count": 119,
   "id": "b61707d0",
   "metadata": {},
   "outputs": [
    {
     "name": "stdout",
     "output_type": "stream",
     "text": [
      "[0. 0. 0. 0. 0. 0. 0. 0. 0. 0. 0. 0. 0. 0. 0. 0. 0. 0. 0. 0. 0. 0. 0. 0.\n",
      " 0.]\n"
     ]
    }
   ],
   "source": [
    "#1 hr hrrr:\n",
    "with open('hrrr_f01_Monroe_LA.txt') as f:\n",
    "    lst=[line.split()[2] for line in f]\n",
    "    temp=[]\n",
    "    for i in lst:\n",
    "        new=i.replace(',',\"\")\n",
    "        temp.append(new)\n",
    "    temp.pop(0)\n",
    "    temp=[float(x) for x in temp]\n",
    "    temp=temp[2213:2238]\n",
    "    #temp=temp[2015:2063]\n",
    "    temp=np.cumsum(temp)\n",
    "    print(temp)\n",
    "#full time period is [2015:2112]"
   ]
  },
  {
   "cell_type": "code",
   "execution_count": 120,
   "id": "2bcf6d37",
   "metadata": {},
   "outputs": [
    {
     "name": "stdout",
     "output_type": "stream",
     "text": [
      "[0. 0. 0. 0. 0. 0. 0. 0. 0. 0. 0. 0. 0. 0. 0. 0. 0. 0. 0. 0. 0. 0. 0. 0.\n",
      " 0.]\n"
     ]
    }
   ],
   "source": [
    "#Air Temp CRN:\n",
    "with open('CRNS0101-05-2022-LA_Monroe_26_N.txt') as f:\n",
    "    lst=[line.split()[9] for line in f]\n",
    "    \n",
    "    a=(float(lst[26567])+float(lst[26568]))/2\n",
    "    b=(float(lst[26579])+float(lst[26580]))/2\n",
    "    c=(float(lst[26591])+float(lst[26592]))/2\n",
    "    d=(float(lst[26603])+float(lst[26604]))/2\n",
    "    e=(float(lst[26615])+float(lst[26616]))/2\n",
    "    f=(float(lst[26627])+float(lst[26628]))/2\n",
    "    g=(float(lst[26639])+float(lst[26640]))/2\n",
    "    h=(float(lst[26651])+float(lst[26652]))/2\n",
    "    i=(float(lst[26663])+float(lst[26664]))/2\n",
    "    j=(float(lst[26675])+float(lst[26676]))/2\n",
    "    k=(float(lst[26687])+float(lst[26688]))/2\n",
    "    l=(float(lst[26699])+float(lst[26700]))/2\n",
    "    m=(float(lst[26711])+float(lst[26712]))/2\n",
    "    n=(float(lst[26723])+float(lst[26724]))/2\n",
    "    o=(float(lst[26735])+float(lst[26736]))/2\n",
    "    p=(float(lst[26747])+float(lst[26748]))/2\n",
    "    q=(float(lst[26759])+float(lst[26760]))/2\n",
    "    r=(float(lst[26773])+float(lst[26774]))/2\n",
    "    s=(float(lst[26783])+float(lst[26784]))/2\n",
    "    t=(float(lst[26795])+float(lst[26796]))/2\n",
    "    u=(float(lst[26807])+float(lst[26808]))/2\n",
    "    v=(float(lst[26819])+float(lst[26820]))/2\n",
    "    w=(float(lst[26831])+float(lst[26832]))/2\n",
    "    x=(float(lst[26843])+float(lst[26844]))/2\n",
    "    y=(float(lst[26855])+float(lst[26856]))/2\n",
    "    \n",
    "    temp_crn=[a,b,c,d,e,f,g,h,i,j,k,l,m,n,o,p,q,r,s,t,u,v,w,x,y]\n",
    "    temp_crn=np.cumsum(temp_crn)\n",
    "    print(temp_crn)"
   ]
  },
  {
   "cell_type": "code",
   "execution_count": 121,
   "id": "e8911bcb",
   "metadata": {},
   "outputs": [
    {
     "name": "stdout",
     "output_type": "stream",
     "text": [
      "[0.0, 0.0, 0.0, 0.0, 0.0, 0.0, 0.0, 0.0, 0.0, 0.0, 0.0, 0.0, 0.0, 0.0, 0.0, 0.0, 0.0, 0.0, 0.0, 0.0, 0.0, 0.0, 0.0, 0.0, 0.0]\n"
     ]
    }
   ],
   "source": [
    "difference4_mon = []\n",
    "\n",
    "zip_object = zip(temp, temp_crn)\n",
    "for temp_i, temp_crn_i in zip_object:\n",
    "    difference4_mon.append(temp_i-temp_crn_i)\n",
    "\n",
    "print(difference4_mon)"
   ]
  },
  {
   "cell_type": "markdown",
   "id": "dbfdd9c6",
   "metadata": {},
   "source": [
    "<font size=\"3\">Holly Springs, MS: 0600 UTC (12:00 am CST) 01 March 2022-0600 UTC (12:00 am CST) 02 March 2022</font>"
   ]
  },
  {
   "cell_type": "code",
   "execution_count": 122,
   "id": "055b4b13",
   "metadata": {},
   "outputs": [
    {
     "name": "stdout",
     "output_type": "stream",
     "text": [
      "[0. 0. 0. 0. 0. 0. 0. 0. 0. 0. 0. 0. 0. 0. 0. 0. 0. 0. 0. 0. 0. 0. 0. 0.\n",
      " 0.]\n"
     ]
    }
   ],
   "source": [
    "#1 hr hrrr:\n",
    "with open('hrrr_f01_Holly Springs_MS.txt') as f:\n",
    "    lst=[line.split()[2] for line in f]\n",
    "    temp=[]\n",
    "    for i in lst:\n",
    "        new=i.replace(',',\"\")\n",
    "        temp.append(new)\n",
    "    temp.pop(0)\n",
    "    temp=[float(x) for x in temp]\n",
    "    temp=temp[2213:2238]\n",
    "    #temp=temp[2015:2063]\n",
    "    temp=np.cumsum(temp)\n",
    "    print(temp)\n",
    "#full time period is [2015:2112]"
   ]
  },
  {
   "cell_type": "code",
   "execution_count": 123,
   "id": "13e28750",
   "metadata": {},
   "outputs": [
    {
     "name": "stdout",
     "output_type": "stream",
     "text": [
      "[0. 0. 0. 0. 0. 0. 0. 0. 0. 0. 0. 0. 0. 0. 0. 0. 0. 0. 0. 0. 0. 0. 0. 0.\n",
      " 0.]\n"
     ]
    }
   ],
   "source": [
    "#Air Temp CRN:\n",
    "with open('CRNS0101-05-2022-MS_Holly_Springs_4_N.txt') as f:\n",
    "    lst=[line.split()[9] for line in f]\n",
    "    \n",
    "    a=(float(lst[26567])+float(lst[26568]))/2\n",
    "    b=(float(lst[26579])+float(lst[26580]))/2\n",
    "    c=(float(lst[26591])+float(lst[26592]))/2\n",
    "    d=(float(lst[26603])+float(lst[26604]))/2\n",
    "    e=(float(lst[26615])+float(lst[26616]))/2\n",
    "    f=(float(lst[26627])+float(lst[26628]))/2\n",
    "    g=(float(lst[26639])+float(lst[26640]))/2\n",
    "    h=(float(lst[26651])+float(lst[26652]))/2\n",
    "    i=(float(lst[26663])+float(lst[26664]))/2\n",
    "    j=(float(lst[26675])+float(lst[26676]))/2\n",
    "    k=(float(lst[26687])+float(lst[26688]))/2\n",
    "    l=(float(lst[26699])+float(lst[26700]))/2\n",
    "    m=(float(lst[26711])+float(lst[26712]))/2\n",
    "    n=(float(lst[26723])+float(lst[26724]))/2\n",
    "    o=(float(lst[26735])+float(lst[26736]))/2\n",
    "    p=(float(lst[26747])+float(lst[26748]))/2\n",
    "    q=(float(lst[26759])+float(lst[26760]))/2\n",
    "    r=(float(lst[26773])+float(lst[26774]))/2\n",
    "    s=(float(lst[26783])+float(lst[26784]))/2\n",
    "    t=(float(lst[26795])+float(lst[26796]))/2\n",
    "    u=(float(lst[26807])+float(lst[26808]))/2\n",
    "    v=(float(lst[26819])+float(lst[26820]))/2\n",
    "    w=(float(lst[26831])+float(lst[26832]))/2\n",
    "    x=(float(lst[26843])+float(lst[26844]))/2\n",
    "    y=(float(lst[26855])+float(lst[26856]))/2\n",
    "    \n",
    "    temp_crn=[a,b,c,d,e,f,g,h,i,j,k,l,m,n,o,p,q,r,s,t,u,v,w,x,y]\n",
    "    temp_crn=np.cumsum(temp_crn)\n",
    "    print(temp_crn)"
   ]
  },
  {
   "cell_type": "code",
   "execution_count": 124,
   "id": "6836c3bb",
   "metadata": {},
   "outputs": [
    {
     "name": "stdout",
     "output_type": "stream",
     "text": [
      "[0.0, 0.0, 0.0, 0.0, 0.0, 0.0, 0.0, 0.0, 0.0, 0.0, 0.0, 0.0, 0.0, 0.0, 0.0, 0.0, 0.0, 0.0, 0.0, 0.0, 0.0, 0.0, 0.0, 0.0, 0.0]\n"
     ]
    }
   ],
   "source": [
    "difference4_hol = []\n",
    "\n",
    "zip_object = zip(temp, temp_crn)\n",
    "for temp_i, temp_crn_i in zip_object:\n",
    "    difference4_hol.append(temp_i-temp_crn_i)\n",
    "\n",
    "print(difference4_hol)"
   ]
  },
  {
   "cell_type": "markdown",
   "id": "9c7354c6",
   "metadata": {},
   "source": [
    "<font size=\"3\">Newton, MS: 0600 UTC (12:00 am CST) 01 March 2022-0600 UTC (12:00 am CST) 02 March 2022</font>"
   ]
  },
  {
   "cell_type": "code",
   "execution_count": 125,
   "id": "93316a90",
   "metadata": {},
   "outputs": [
    {
     "name": "stdout",
     "output_type": "stream",
     "text": [
      "[0. 0. 0. 0. 0. 0. 0. 0. 0. 0. 0. 0. 0. 0. 0. 0. 0. 0. 0. 0. 0. 0. 0. 0.\n",
      " 0.]\n"
     ]
    }
   ],
   "source": [
    "#1 hr hrrr:\n",
    "with open('hrrr_f01_Newton_MS.txt') as f:\n",
    "    lst=[line.split()[2] for line in f]\n",
    "    temp=[]\n",
    "    for i in lst:\n",
    "        new=i.replace(',',\"\")\n",
    "        temp.append(new)\n",
    "    temp.pop(0)\n",
    "    temp=[float(x) for x in temp]\n",
    "    temp=temp[2213:2238]\n",
    "    #temp=temp[2015:2063]\n",
    "    temp=np.cumsum(temp)\n",
    "    print(temp)\n",
    "#full time period is [2015:2112]"
   ]
  },
  {
   "cell_type": "code",
   "execution_count": 126,
   "id": "17e49fc9",
   "metadata": {},
   "outputs": [
    {
     "name": "stdout",
     "output_type": "stream",
     "text": [
      "[0. 0. 0. 0. 0. 0. 0. 0. 0. 0. 0. 0. 0. 0. 0. 0. 0. 0. 0. 0. 0. 0. 0. 0.\n",
      " 0.]\n"
     ]
    }
   ],
   "source": [
    "#Air Temp CRN:\n",
    "with open('CRNS0101-05-2022-MS_Newton_5_ENE.txt') as f:\n",
    "    lst=[line.split()[9] for line in f]\n",
    "    \n",
    "    a=(float(lst[26567])+float(lst[26568]))/2\n",
    "    b=(float(lst[26579])+float(lst[26580]))/2\n",
    "    c=(float(lst[26591])+float(lst[26592]))/2\n",
    "    d=(float(lst[26603])+float(lst[26604]))/2\n",
    "    e=(float(lst[26615])+float(lst[26616]))/2\n",
    "    f=(float(lst[26627])+float(lst[26628]))/2\n",
    "    g=(float(lst[26639])+float(lst[26640]))/2\n",
    "    h=(float(lst[26651])+float(lst[26652]))/2\n",
    "    i=(float(lst[26663])+float(lst[26664]))/2\n",
    "    j=(float(lst[26675])+float(lst[26676]))/2\n",
    "    k=(float(lst[26687])+float(lst[26688]))/2\n",
    "    l=(float(lst[26699])+float(lst[26700]))/2\n",
    "    m=(float(lst[26711])+float(lst[26712]))/2\n",
    "    n=(float(lst[26723])+float(lst[26724]))/2\n",
    "    o=(float(lst[26735])+float(lst[26736]))/2\n",
    "    p=(float(lst[26747])+float(lst[26748]))/2\n",
    "    q=(float(lst[26759])+float(lst[26760]))/2\n",
    "    r=(float(lst[26773])+float(lst[26774]))/2\n",
    "    s=(float(lst[26783])+float(lst[26784]))/2\n",
    "    t=(float(lst[26795])+float(lst[26796]))/2\n",
    "    u=(float(lst[26807])+float(lst[26808]))/2\n",
    "    v=(float(lst[26819])+float(lst[26820]))/2\n",
    "    w=(float(lst[26831])+float(lst[26832]))/2\n",
    "    x=(float(lst[26843])+float(lst[26844]))/2\n",
    "    y=(float(lst[26855])+float(lst[26856]))/2\n",
    "    \n",
    "    temp_crn=[a,b,c,d,e,f,g,h,i,j,k,l,m,n,o,p,q,r,s,t,u,v,w,x,y]\n",
    "    temp_crn=np.cumsum(temp_crn)\n",
    "    print(temp_crn)"
   ]
  },
  {
   "cell_type": "code",
   "execution_count": 127,
   "id": "895bb872",
   "metadata": {},
   "outputs": [
    {
     "name": "stdout",
     "output_type": "stream",
     "text": [
      "[0.0, 0.0, 0.0, 0.0, 0.0, 0.0, 0.0, 0.0, 0.0, 0.0, 0.0, 0.0, 0.0, 0.0, 0.0, 0.0, 0.0, 0.0, 0.0, 0.0, 0.0, 0.0, 0.0, 0.0, 0.0]\n"
     ]
    }
   ],
   "source": [
    "difference4_new = []\n",
    "\n",
    "zip_object = zip(temp, temp_crn)\n",
    "for temp_i, temp_crn_i in zip_object:\n",
    "    difference4_new.append(temp_i-temp_crn_i)\n",
    "\n",
    "print(difference4_new)"
   ]
  },
  {
   "cell_type": "markdown",
   "id": "9e553db4",
   "metadata": {},
   "source": [
    "<font size=\"3\">Gainesville, AL: 0600 UTC (12:00 am CST) 01 March 2022-0600 UTC (12:00 am CST) 02 March 2022</font>"
   ]
  },
  {
   "cell_type": "code",
   "execution_count": 128,
   "id": "34bf4646",
   "metadata": {},
   "outputs": [
    {
     "name": "stdout",
     "output_type": "stream",
     "text": [
      "[0. 0. 0. 0. 0. 0. 0. 0. 0. 0. 0. 0. 0. 0. 0. 0. 0. 0. 0. 0. 0. 0. 0. 0.\n",
      " 0.]\n"
     ]
    }
   ],
   "source": [
    "#1 hr hrrr:\n",
    "with open('hrrr_f01_Gainesville_AL.txt') as f:\n",
    "    lst=[line.split()[2] for line in f]\n",
    "    temp=[]\n",
    "    for i in lst:\n",
    "        new=i.replace(',',\"\")\n",
    "        temp.append(new)\n",
    "    temp.pop(0)\n",
    "    temp=[float(x) for x in temp]\n",
    "    temp=temp[2213:2238]\n",
    "    #temp=temp[2015:2063]\n",
    "    temp=np.cumsum(temp)\n",
    "    print(temp)\n",
    "#full time period is [2015:2112]"
   ]
  },
  {
   "cell_type": "code",
   "execution_count": 129,
   "id": "81d766ff",
   "metadata": {},
   "outputs": [
    {
     "name": "stdout",
     "output_type": "stream",
     "text": [
      "[0. 0. 0. 0. 0. 0. 0. 0. 0. 0. 0. 0. 0. 0. 0. 0. 0. 0. 0. 0. 0. 0. 0. 0.\n",
      " 0.]\n"
     ]
    }
   ],
   "source": [
    "#Air Temp CRN:\n",
    "with open('CRNS0101-05-2022-AL_Gainesville_2_NE.txt') as f:\n",
    "    lst=[line.split()[9] for line in f]\n",
    "    \n",
    "    a=(float(lst[26567])+float(lst[26568]))/2\n",
    "    b=(float(lst[26579])+float(lst[26580]))/2\n",
    "    c=(float(lst[26591])+float(lst[26592]))/2\n",
    "    d=(float(lst[26603])+float(lst[26604]))/2\n",
    "    e=(float(lst[26615])+float(lst[26616]))/2\n",
    "    f=(float(lst[26627])+float(lst[26628]))/2\n",
    "    g=(float(lst[26639])+float(lst[26640]))/2\n",
    "    h=(float(lst[26651])+float(lst[26652]))/2\n",
    "    i=(float(lst[26663])+float(lst[26664]))/2\n",
    "    j=(float(lst[26675])+float(lst[26676]))/2\n",
    "    k=(float(lst[26687])+float(lst[26688]))/2\n",
    "    l=(float(lst[26699])+float(lst[26700]))/2\n",
    "    m=(float(lst[26711])+float(lst[26712]))/2\n",
    "    n=(float(lst[26723])+float(lst[26724]))/2\n",
    "    o=(float(lst[26735])+float(lst[26736]))/2\n",
    "    p=(float(lst[26747])+float(lst[26748]))/2\n",
    "    q=(float(lst[26759])+float(lst[26760]))/2\n",
    "    r=(float(lst[26773])+float(lst[26774]))/2\n",
    "    s=(float(lst[26783])+float(lst[26784]))/2\n",
    "    t=(float(lst[26795])+float(lst[26796]))/2\n",
    "    u=(float(lst[26807])+float(lst[26808]))/2\n",
    "    v=(float(lst[26819])+float(lst[26820]))/2\n",
    "    w=(float(lst[26831])+float(lst[26832]))/2\n",
    "    x=(float(lst[26843])+float(lst[26844]))/2\n",
    "    y=(float(lst[26855])+float(lst[26856]))/2\n",
    "    \n",
    "    temp_crn=[a,b,c,d,e,f,g,h,i,j,k,l,m,n,o,p,q,r,s,t,u,v,w,x,y]\n",
    "    temp_crn=np.cumsum(temp_crn)\n",
    "    print(temp_crn)"
   ]
  },
  {
   "cell_type": "code",
   "execution_count": 130,
   "id": "4baf3368",
   "metadata": {},
   "outputs": [
    {
     "name": "stdout",
     "output_type": "stream",
     "text": [
      "[0.0, 0.0, 0.0, 0.0, 0.0, 0.0, 0.0, 0.0, 0.0, 0.0, 0.0, 0.0, 0.0, 0.0, 0.0, 0.0, 0.0, 0.0, 0.0, 0.0, 0.0, 0.0, 0.0, 0.0, 0.0]\n"
     ]
    }
   ],
   "source": [
    "difference4_gai = []\n",
    "\n",
    "zip_object = zip(temp, temp_crn)\n",
    "for temp_i, temp_crn_i in zip_object:\n",
    "    difference4_gai.append(temp_i-temp_crn_i)\n",
    "\n",
    "print(difference4_gai)"
   ]
  },
  {
   "cell_type": "markdown",
   "id": "7dcabe11",
   "metadata": {},
   "source": [
    "<font size=\"3\">Fairhope, AL: 0600 UTC (12:00 am CST) 01 March 2022-0600 UTC (12:00 am CST) 02 March 2022</font>"
   ]
  },
  {
   "cell_type": "code",
   "execution_count": 131,
   "id": "66bf707b",
   "metadata": {},
   "outputs": [
    {
     "name": "stdout",
     "output_type": "stream",
     "text": [
      "[0. 0. 0. 0. 0. 0. 0. 0. 0. 0. 0. 0. 0. 0. 0. 0. 0. 0. 0. 0. 0. 0. 0. 0.\n",
      " 0.]\n"
     ]
    }
   ],
   "source": [
    "#1 hr hrrr:\n",
    "with open('hrrr_f01_Fairhope_AL.txt') as f:\n",
    "    lst=[line.split()[2] for line in f]\n",
    "    temp=[]\n",
    "    for i in lst:\n",
    "        new=i.replace(',',\"\")\n",
    "        temp.append(new)\n",
    "    temp.pop(0)\n",
    "    temp=[float(x) for x in temp]\n",
    "    temp=temp[2213:2238]\n",
    "    #temp=temp[2015:2063]\n",
    "    temp=np.cumsum(temp)\n",
    "    print(temp)\n",
    "#full time period is [2015:2112]"
   ]
  },
  {
   "cell_type": "code",
   "execution_count": 132,
   "id": "e6d98c95",
   "metadata": {},
   "outputs": [
    {
     "name": "stdout",
     "output_type": "stream",
     "text": [
      "[0. 0. 0. 0. 0. 0. 0. 0. 0. 0. 0. 0. 0. 0. 0. 0. 0. 0. 0. 0. 0. 0. 0. 0.\n",
      " 0.]\n"
     ]
    }
   ],
   "source": [
    "#Air Temp CRN:\n",
    "with open('CRNS0101-05-2022-AL_Fairhope_3_NE.txt') as f:\n",
    "    lst=[line.split()[9] for line in f]\n",
    "    \n",
    "    a=(float(lst[26567])+float(lst[26568]))/2\n",
    "    b=(float(lst[26579])+float(lst[26580]))/2\n",
    "    c=(float(lst[26591])+float(lst[26592]))/2\n",
    "    d=(float(lst[26603])+float(lst[26604]))/2\n",
    "    e=(float(lst[26615])+float(lst[26616]))/2\n",
    "    f=(float(lst[26627])+float(lst[26628]))/2\n",
    "    g=(float(lst[26639])+float(lst[26640]))/2\n",
    "    h=(float(lst[26651])+float(lst[26652]))/2\n",
    "    i=(float(lst[26663])+float(lst[26664]))/2\n",
    "    j=(float(lst[26675])+float(lst[26676]))/2\n",
    "    k=(float(lst[26687])+float(lst[26688]))/2\n",
    "    l=(float(lst[26699])+float(lst[26700]))/2\n",
    "    m=(float(lst[26711])+float(lst[26712]))/2\n",
    "    n=(float(lst[26723])+float(lst[26724]))/2\n",
    "    o=(float(lst[26735])+float(lst[26736]))/2\n",
    "    p=(float(lst[26747])+float(lst[26748]))/2\n",
    "    q=(float(lst[26759])+float(lst[26760]))/2\n",
    "    r=(float(lst[26773])+float(lst[26774]))/2\n",
    "    s=(float(lst[26783])+float(lst[26784]))/2\n",
    "    t=(float(lst[26795])+float(lst[26796]))/2\n",
    "    u=(float(lst[26807])+float(lst[26808]))/2\n",
    "    v=(float(lst[26819])+float(lst[26820]))/2\n",
    "    w=(float(lst[26831])+float(lst[26832]))/2\n",
    "    x=(float(lst[26843])+float(lst[26844]))/2\n",
    "    y=(float(lst[26855])+float(lst[26856]))/2\n",
    "    \n",
    "    temp_crn=[a,b,c,d,e,f,g,h,i,j,k,l,m,n,o,p,q,r,s,t,u,v,w,x,y]\n",
    "    temp_crn=np.cumsum(temp_crn)\n",
    "    print(temp_crn)"
   ]
  },
  {
   "cell_type": "code",
   "execution_count": 133,
   "id": "320724ae",
   "metadata": {},
   "outputs": [
    {
     "name": "stdout",
     "output_type": "stream",
     "text": [
      "[0.0, 0.0, 0.0, 0.0, 0.0, 0.0, 0.0, 0.0, 0.0, 0.0, 0.0, 0.0, 0.0, 0.0, 0.0, 0.0, 0.0, 0.0, 0.0, 0.0, 0.0, 0.0, 0.0, 0.0, 0.0]\n"
     ]
    }
   ],
   "source": [
    "difference4_fai = []\n",
    "\n",
    "zip_object = zip(temp, temp_crn)\n",
    "for temp_i, temp_crn_i in zip_object:\n",
    "    difference4_fai.append(temp_i-temp_crn_i)\n",
    "\n",
    "print(difference4_fai)"
   ]
  },
  {
   "cell_type": "markdown",
   "id": "057898bf",
   "metadata": {},
   "source": [
    "<font size=\"3\">**Selma, AL: 0600 UTC (12:00 am CST) 01 March 2022-0600 UTC (12:00 am CST) 02 March 2022</font>"
   ]
  },
  {
   "cell_type": "code",
   "execution_count": 134,
   "id": "dd6c27fb",
   "metadata": {},
   "outputs": [
    {
     "name": "stdout",
     "output_type": "stream",
     "text": [
      "[0. 0. 0. 0. 0. 0. 0. 0. 0. 0. 0. 0. 0. 0. 0. 0. 0. 0. 0. 0. 0. 0. 0. 0.\n",
      " 0.]\n"
     ]
    }
   ],
   "source": [
    "#1 hr hrrr:\n",
    "import numpy as np\n",
    "import numpy.ma as ma\n",
    "with open('hrrr_f01_Selma_AL.txt') as f:\n",
    "    lst=[line.split()[2] for line in f]\n",
    "    temp=[]\n",
    "    for i in lst:\n",
    "        new=i.replace(',',\"\")\n",
    "        temp.append(new)\n",
    "    temp.pop(0)\n",
    "    temp=[float(x) for x in temp]\n",
    "    temp=temp[2213:2238]\n",
    "    temp=np.cumsum(temp)\n",
    "    print(temp)"
   ]
  },
  {
   "cell_type": "code",
   "execution_count": 135,
   "id": "b91246e9",
   "metadata": {},
   "outputs": [
    {
     "name": "stdout",
     "output_type": "stream",
     "text": [
      "[0. 0. 0. 0. 0. 0. 0. 0. 0. 0. 0. 0. 0. 0. 0. 0. 0. 0. 0. 0. 0. 0. 0. 0.\n",
      " 0.]\n"
     ]
    }
   ],
   "source": [
    "#Air Temp CRN:\n",
    "with open('CRNS0101-05-2022-AL_Selma_13_WNW.txt') as f:\n",
    "    lst=[line.split()[9] for line in f]\n",
    "    \n",
    "    a=(float(lst[26567])+float(lst[26568]))/2\n",
    "    b=(float(lst[26579])+float(lst[26580]))/2\n",
    "    c=(float(lst[26591])+float(lst[26592]))/2\n",
    "    d=(float(lst[26603])+float(lst[26604]))/2\n",
    "    e=(float(lst[26615])+float(lst[26616]))/2\n",
    "    f=(float(lst[26627])+float(lst[26628]))/2\n",
    "    g=(float(lst[26639])+float(lst[26640]))/2\n",
    "    h=(float(lst[26651])+float(lst[26652]))/2\n",
    "    i=(float(lst[26663])+float(lst[26664]))/2\n",
    "    j=(float(lst[26675])+float(lst[26676]))/2\n",
    "    k=(float(lst[26687])+float(lst[26688]))/2\n",
    "    l=(float(lst[26699])+float(lst[26700]))/2\n",
    "    m=(float(lst[26711])+float(lst[26712]))/2\n",
    "    n=(float(lst[26723])+float(lst[26724]))/2\n",
    "    o=(float(lst[26735])+float(lst[26736]))/2\n",
    "    p=(float(lst[26747])+float(lst[26748]))/2\n",
    "    q=(float(lst[26759])+float(lst[26760]))/2\n",
    "    r=(float(lst[26773])+float(lst[26774]))/2\n",
    "    s=(float(lst[26783])+float(lst[26784]))/2\n",
    "    t=(float(lst[26795])+float(lst[26796]))/2\n",
    "    u=(float(lst[26807])+float(lst[26808]))/2\n",
    "    v=(float(lst[26819])+float(lst[26820]))/2\n",
    "    w=(float(lst[26831])+float(lst[26832]))/2\n",
    "    x=(float(lst[26843])+float(lst[26844]))/2\n",
    "    y=(float(lst[26855])+float(lst[26856]))/2\n",
    "    \n",
    "    temp_crn=[a,b,c,d,e,f,g,h,i,j,k,l,m,n,o,p,q,r,s,t,u,v,w,x,y]\n",
    "    temp_crn=np.cumsum(temp_crn)\n",
    "    print(temp_crn)"
   ]
  },
  {
   "cell_type": "code",
   "execution_count": 136,
   "id": "38eaf77e",
   "metadata": {},
   "outputs": [
    {
     "name": "stdout",
     "output_type": "stream",
     "text": [
      "[0.0, 0.0, 0.0, 0.0, 0.0, 0.0, 0.0, 0.0, 0.0, 0.0, 0.0, 0.0, 0.0, 0.0, 0.0, 0.0, 0.0, 0.0, 0.0, 0.0, 0.0, 0.0, 0.0, 0.0, 0.0]\n"
     ]
    }
   ],
   "source": [
    "difference4_sel = []\n",
    "\n",
    "zip_object = zip(temp, temp_crn)\n",
    "for temp_i, temp_crn_i in zip_object:\n",
    "    difference4_sel.append(temp_i-temp_crn_i)\n",
    "\n",
    "print(difference4_sel)\n",
    "#print(len(difference3_sel))"
   ]
  },
  {
   "cell_type": "markdown",
   "id": "cb37cdb6",
   "metadata": {},
   "source": [
    "<font size=\"3\">Bowling Green, KY: 0600 UTC (12:00 am CST) 01 March 2022-0600 UTC (12:00 am CST) 02 March 2022</font>"
   ]
  },
  {
   "cell_type": "code",
   "execution_count": 137,
   "id": "14e1ecd0",
   "metadata": {},
   "outputs": [
    {
     "name": "stdout",
     "output_type": "stream",
     "text": [
      "[0. 0. 0. 0. 0. 0. 0. 0. 0. 0. 0. 0. 0. 0. 0. 0. 0. 0. 0. 0. 0. 0. 0. 0.\n",
      " 0.]\n"
     ]
    }
   ],
   "source": [
    "#1 hr hrrr:\n",
    "with open('hrrr_f01_Bowling Green_KY.txt') as f:\n",
    "    lst=[line.split()[2] for line in f]\n",
    "    temp=[]\n",
    "    for i in lst:\n",
    "        new=i.replace(',',\"\")\n",
    "        temp.append(new)\n",
    "    temp.pop(0)\n",
    "    temp=[float(x) for x in temp]\n",
    "    temp=temp[2213:2238]\n",
    "    #temp=temp[2015:2063]\n",
    "    temp=np.cumsum(temp)\n",
    "    print(temp)\n",
    "#full time period is [2015:2112]"
   ]
  },
  {
   "cell_type": "code",
   "execution_count": 138,
   "id": "80d9d555",
   "metadata": {},
   "outputs": [
    {
     "name": "stdout",
     "output_type": "stream",
     "text": [
      "[0. 0. 0. 0. 0. 0. 0. 0. 0. 0. 0. 0. 0. 0. 0. 0. 0. 0. 0. 0. 0. 0. 0. 0.\n",
      " 0.]\n"
     ]
    }
   ],
   "source": [
    "#Air Temp CRN:\n",
    "with open('CRNS0101-05-2022-KY_Bowling_Green_21_NNE.txt') as f:\n",
    "    lst=[line.split()[9] for line in f]\n",
    "    \n",
    "    a=(float(lst[26567])+float(lst[26568]))/2\n",
    "    b=(float(lst[26579])+float(lst[26580]))/2\n",
    "    c=(float(lst[26591])+float(lst[26592]))/2\n",
    "    d=(float(lst[26603])+float(lst[26604]))/2\n",
    "    e=(float(lst[26615])+float(lst[26616]))/2\n",
    "    f=(float(lst[26627])+float(lst[26628]))/2\n",
    "    g=(float(lst[26639])+float(lst[26640]))/2\n",
    "    h=(float(lst[26651])+float(lst[26652]))/2\n",
    "    i=(float(lst[26663])+float(lst[26664]))/2\n",
    "    j=(float(lst[26675])+float(lst[26676]))/2\n",
    "    k=(float(lst[26687])+float(lst[26688]))/2\n",
    "    l=(float(lst[26699])+float(lst[26700]))/2\n",
    "    m=(float(lst[26711])+float(lst[26712]))/2\n",
    "    n=(float(lst[26723])+float(lst[26724]))/2\n",
    "    o=(float(lst[26735])+float(lst[26736]))/2\n",
    "    p=(float(lst[26747])+float(lst[26748]))/2\n",
    "    q=(float(lst[26759])+float(lst[26760]))/2\n",
    "    r=(float(lst[26773])+float(lst[26774]))/2\n",
    "    s=(float(lst[26783])+float(lst[26784]))/2\n",
    "    t=(float(lst[26795])+float(lst[26796]))/2\n",
    "    u=(float(lst[26807])+float(lst[26808]))/2\n",
    "    v=(float(lst[26819])+float(lst[26820]))/2\n",
    "    w=(float(lst[26831])+float(lst[26832]))/2\n",
    "    x=(float(lst[26843])+float(lst[26844]))/2\n",
    "    y=(float(lst[26855])+float(lst[26856]))/2\n",
    "    \n",
    "    temp_crn=[a,b,c,d,e,f,g,h,i,j,k,l,m,n,o,p,q,r,s,t,u,v,w,x,y]\n",
    "    temp_crn=np.cumsum(temp_crn)\n",
    "    print(temp_crn)"
   ]
  },
  {
   "cell_type": "code",
   "execution_count": 139,
   "id": "cbe21805",
   "metadata": {},
   "outputs": [
    {
     "name": "stdout",
     "output_type": "stream",
     "text": [
      "[0.0, 0.0, 0.0, 0.0, 0.0, 0.0, 0.0, 0.0, 0.0, 0.0, 0.0, 0.0, 0.0, 0.0, 0.0, 0.0, 0.0, 0.0, 0.0, 0.0, 0.0, 0.0, 0.0, 0.0, 0.0]\n"
     ]
    }
   ],
   "source": [
    "difference4_bow = []\n",
    "\n",
    "zip_object = zip(temp, temp_crn)\n",
    "for temp_i, temp_crn_i in zip_object:\n",
    "    difference4_bow.append(temp_i-temp_crn_i)\n",
    "\n",
    "print(difference4_bow)"
   ]
  },
  {
   "cell_type": "markdown",
   "id": "b962f206",
   "metadata": {},
   "source": [
    "<font size=\"3\">Gadsden, AL: 0600 UTC (12:00 am CST) 01 March 2022-0600 UTC (12:00 am CST) 02 March 2022</font>"
   ]
  },
  {
   "cell_type": "code",
   "execution_count": 140,
   "id": "e76025fd",
   "metadata": {},
   "outputs": [],
   "source": [
    "# #1 hr hrrr:\n",
    "# with open('hrrr_f01_Gadsden_AL.txt') as f:\n",
    "#     lst=[line.split()[2] for line in f]\n",
    "#     temp=[]\n",
    "#     for i in lst:\n",
    "#         new=i.replace(',',\"\")\n",
    "#         temp.append(new)\n",
    "#     temp.pop(0)\n",
    "#     temp=[float(x) for x in temp]\n",
    "#     temp=temp[2213:2238]\n",
    "# #     x = np.array(temp)\n",
    "# #     temp = ma.masked_array(x, mask=[0, 0, 0, 0, 0,0,0,0,1,0,0,0,0,0,0,0,0,0,0,0,0,0,0,0,0])\n",
    "#     #temp=temp[2015:2063]\n",
    "#     temp=np.cumsum(temp)\n",
    "#     print(temp)\n",
    "# #full time period is [2015:2112]"
   ]
  },
  {
   "cell_type": "code",
   "execution_count": 141,
   "id": "94193a19",
   "metadata": {},
   "outputs": [],
   "source": [
    "# #Air Temp CRN:\n",
    "# with open('CRNS0101-05-2022-AL_Gadsden_19_N.txt') as f:\n",
    "#     lst=[line.split()[9] for line in f]\n",
    "    \n",
    "#     a=(float(lst[26567])+float(lst[26568]))/2\n",
    "#     b=(float(lst[26579])+float(lst[26580]))/2\n",
    "#     c=(float(lst[26591])+float(lst[26592]))/2\n",
    "#     d=(float(lst[26603])+float(lst[26604]))/2\n",
    "#     e=(float(lst[26615])+float(lst[26616]))/2\n",
    "#     f=(float(lst[26627])+float(lst[26628]))/2\n",
    "#     g=(float(lst[26639])+float(lst[26640]))/2\n",
    "#     h=(float(lst[26651])+float(lst[26652]))/2\n",
    "#     i=(float(lst[26663])+float(lst[26664]))/2\n",
    "#     j=(float(lst[26675])+float(lst[26676]))/2\n",
    "#     k=(float(lst[26687])+float(lst[26688]))/2\n",
    "#     l=(float(lst[26699])+float(lst[26700]))/2\n",
    "#     m=(float(lst[26711])+float(lst[26712]))/2\n",
    "#     n=(float(lst[26723])+float(lst[26724]))/2\n",
    "#     o=(float(lst[26735])+float(lst[26736]))/2\n",
    "#     p=(float(lst[26747])+float(lst[26748]))/2\n",
    "#     q=(float(lst[26759])+float(lst[26760]))/2\n",
    "#     r=(float(lst[26773])+float(lst[26774]))/2\n",
    "#     s=(float(lst[26783])+float(lst[26784]))/2\n",
    "#     t=(float(lst[26795])+float(lst[26796]))/2\n",
    "#     u=(float(lst[26807])+float(lst[26808]))/2\n",
    "#     v=(float(lst[26819])+float(lst[26820]))/2\n",
    "#     w=(float(lst[26831])+float(lst[26832]))/2\n",
    "#     x=(float(lst[26843])+float(lst[26844]))/2\n",
    "#     y=(float(lst[26855])+float(lst[26856]))/2\n",
    "    \n",
    "#     temp_crn=[a,b,c,d,e,f,g,h,i,j,k,l,m,n,o,p,q,r,s,t,u,v,w,x,y]\n",
    "#     temp_crn=np.cumsum(temp_crn)\n",
    "#     print(temp_crn)"
   ]
  },
  {
   "cell_type": "code",
   "execution_count": 142,
   "id": "fd78be39",
   "metadata": {},
   "outputs": [],
   "source": [
    "# difference4_gad = []\n",
    "\n",
    "# zip_object = zip(temp, temp_crn)\n",
    "# for temp_i, temp_crn_i in zip_object:\n",
    "#     difference4_gad.append(temp_i-temp_crn_i)\n",
    "\n",
    "# print(difference4_gad)"
   ]
  },
  {
   "cell_type": "markdown",
   "id": "de9fab15",
   "metadata": {},
   "source": [
    "<font size=\"3\">Newton, GA: 0600 UTC (12:00 am CST) 01 March 2022-0600 UTC (12:00 am CST) 02 March 2022</font>"
   ]
  },
  {
   "cell_type": "code",
   "execution_count": 143,
   "id": "ee45f74b",
   "metadata": {},
   "outputs": [
    {
     "name": "stdout",
     "output_type": "stream",
     "text": [
      "[0. 0. 0. 0. 0. 0. 0. 0. 0. 0. 0. 0. 0. 0. 0. 0. 0. 0. 0. 0. 0. 0. 0. 0.\n",
      " 0.]\n"
     ]
    }
   ],
   "source": [
    "#1 hr hrrr:\n",
    "with open('hrrr_f01_Newton_GA.txt') as f:\n",
    "    lst=[line.split()[2] for line in f]\n",
    "    temp=[]\n",
    "    for i in lst:\n",
    "        new=i.replace(',',\"\")\n",
    "        temp.append(new)\n",
    "    temp.pop(0)\n",
    "    temp=[float(x) for x in temp]\n",
    "    temp=temp[2213:2238]\n",
    "    #temp=temp[2015:2063]\n",
    "    temp=np.cumsum(temp)\n",
    "    print(temp)\n",
    "#full time period is [2015:2112]"
   ]
  },
  {
   "cell_type": "code",
   "execution_count": 144,
   "id": "79e42b34",
   "metadata": {},
   "outputs": [
    {
     "name": "stdout",
     "output_type": "stream",
     "text": [
      "[0. 0. 0. 0. 0. 0. 0. 0. 0. 0. 0. 0. 0. 0. 0. 0. 0. 0. 0. 0. 0. 0. 0. 0.\n",
      " 0.]\n"
     ]
    }
   ],
   "source": [
    "#Air Temp CRN:\n",
    "with open('CRNS0101-05-2022-GA_Newton_11_SW.txt') as f:\n",
    "    lst=[line.split()[9] for line in f]\n",
    "    \n",
    "    a=(float(lst[26567])+float(lst[26568]))/2\n",
    "    b=(float(lst[26579])+float(lst[26580]))/2\n",
    "    c=(float(lst[26591])+float(lst[26592]))/2\n",
    "    d=(float(lst[26603])+float(lst[26604]))/2\n",
    "    e=(float(lst[26615])+float(lst[26616]))/2\n",
    "    f=(float(lst[26627])+float(lst[26628]))/2\n",
    "    g=(float(lst[26639])+float(lst[26640]))/2\n",
    "    h=(float(lst[26651])+float(lst[26652]))/2\n",
    "    i=(float(lst[26663])+float(lst[26664]))/2\n",
    "    j=(float(lst[26675])+float(lst[26676]))/2\n",
    "    k=(float(lst[26687])+float(lst[26688]))/2\n",
    "    l=(float(lst[26699])+float(lst[26700]))/2\n",
    "    m=(float(lst[26711])+float(lst[26712]))/2\n",
    "    n=(float(lst[26723])+float(lst[26724]))/2\n",
    "    o=(float(lst[26735])+float(lst[26736]))/2\n",
    "    p=(float(lst[26747])+float(lst[26748]))/2\n",
    "    q=(float(lst[26759])+float(lst[26760]))/2\n",
    "    r=(float(lst[26773])+float(lst[26774]))/2\n",
    "    s=(float(lst[26783])+float(lst[26784]))/2\n",
    "    t=(float(lst[26795])+float(lst[26796]))/2\n",
    "    u=(float(lst[26807])+float(lst[26808]))/2\n",
    "    v=(float(lst[26819])+float(lst[26820]))/2\n",
    "    w=(float(lst[26831])+float(lst[26832]))/2\n",
    "    x=(float(lst[26843])+float(lst[26844]))/2\n",
    "    y=(float(lst[26855])+float(lst[26856]))/2\n",
    "    \n",
    "    temp_crn=[a,b,c,d,e,f,g,h,i,j,k,l,m,n,o,p,q,r,s,t,u,v,w,x,y]\n",
    "    temp_crn=np.cumsum(temp_crn)\n",
    "    print(temp_crn)"
   ]
  },
  {
   "cell_type": "code",
   "execution_count": 145,
   "id": "23233b5a",
   "metadata": {},
   "outputs": [
    {
     "name": "stdout",
     "output_type": "stream",
     "text": [
      "[0.0, 0.0, 0.0, 0.0, 0.0, 0.0, 0.0, 0.0, 0.0, 0.0, 0.0, 0.0, 0.0, 0.0, 0.0, 0.0, 0.0, 0.0, 0.0, 0.0, 0.0, 0.0, 0.0, 0.0, 0.0]\n"
     ]
    }
   ],
   "source": [
    "difference4_newt = []\n",
    "\n",
    "zip_object = zip(temp, temp_crn)\n",
    "for temp_i, temp_crn_i in zip_object:\n",
    "    difference4_newt.append(temp_i-temp_crn_i)\n",
    "\n",
    "print(difference4_newt)"
   ]
  },
  {
   "cell_type": "markdown",
   "id": "ab4663ab",
   "metadata": {},
   "source": [
    "<font size=\"3\">Salem, MO: 0500 UTC (12:00 am CDT) 19 April 2022-0500 UTC (12:00 am CDT) 20 April 2022</font>"
   ]
  },
  {
   "cell_type": "code",
   "execution_count": 146,
   "id": "3fe4d4d8",
   "metadata": {},
   "outputs": [
    {
     "name": "stdout",
     "output_type": "stream",
     "text": [
      "[0.    0.    0.    0.    0.    0.    0.    0.    0.    0.    0.    0.\n",
      " 0.    0.    0.    0.    0.    0.    0.    0.015 0.015 0.015 0.015 0.015\n",
      " 0.015]\n"
     ]
    }
   ],
   "source": [
    "#1 hr hrrr:\n",
    "with open('hrrr_f01_Salem_MO.txt') as f:\n",
    "    lst=[line.split()[2] for line in f]\n",
    "    temp=[]\n",
    "    for i in lst:\n",
    "        new=i.replace(',',\"\")\n",
    "        temp.append(new)\n",
    "    temp.pop(0)\n",
    "    temp=[float(x) for x in temp]\n",
    "    temp=temp[2597:2622]\n",
    "    #temp=temp[2015:2063]\n",
    "    temp=np.cumsum(temp)\n",
    "    print(temp)\n",
    "#full time period is [2015:2112]"
   ]
  },
  {
   "cell_type": "code",
   "execution_count": 147,
   "id": "739015b3",
   "metadata": {},
   "outputs": [
    {
     "name": "stdout",
     "output_type": "stream",
     "text": [
      "[0. 0. 0. 0. 0. 0. 0. 0. 0. 0. 0. 0. 0. 0. 0. 0. 0. 0. 0. 0. 0. 0. 0. 0.\n",
      " 0.]\n"
     ]
    }
   ],
   "source": [
    "#Air Temp CRN:\n",
    "with open('CRNS0101-05-2022-MO_Salem_10_W.txt') as f:\n",
    "    lst=[line.split()[9] for line in f]\n",
    "    \n",
    "    a=(float(lst[31175])+float(lst[31176]))/2\n",
    "    b=(float(lst[31187])+float(lst[31188]))/2\n",
    "    c=(float(lst[31199])+float(lst[31200]))/2\n",
    "    d=(float(lst[31211])+float(lst[31212]))/2\n",
    "    e=(float(lst[31223])+float(lst[31224]))/2\n",
    "    f=(float(lst[31235])+float(lst[31236]))/2\n",
    "    g=(float(lst[31247])+float(lst[31248]))/2\n",
    "    h=(float(lst[31259])+float(lst[31260]))/2\n",
    "    i=(float(lst[31271])+float(lst[31272]))/2\n",
    "    j=(float(lst[31283])+float(lst[31284]))/2\n",
    "    k=(float(lst[31295])+float(lst[31296]))/2\n",
    "    l=(float(lst[31307])+float(lst[31308]))/2\n",
    "    m=(float(lst[31319])+float(lst[31320]))/2\n",
    "    n=(float(lst[31331])+float(lst[31332]))/2\n",
    "    o=(float(lst[31343])+float(lst[31344]))/2\n",
    "    p=(float(lst[31355])+float(lst[31356]))/2\n",
    "    q=(float(lst[31367])+float(lst[31368]))/2\n",
    "    r=(float(lst[31379])+float(lst[31380]))/2\n",
    "    s=(float(lst[31391])+float(lst[31392]))/2\n",
    "    t=(float(lst[31403])+float(lst[31404]))/2\n",
    "    u=(float(lst[31415])+float(lst[31416]))/2\n",
    "    v=(float(lst[31427])+float(lst[31428]))/2\n",
    "    w=(float(lst[31439])+float(lst[31440]))/2\n",
    "    x=(float(lst[31451])+float(lst[31452]))/2\n",
    "    y=(float(lst[31463])+float(lst[31464]))/2\n",
    "    \n",
    "    temp_crn=[a,b,c,d,e,f,g,h,i,j,k,l,m,n,o,p,q,r,s,t,u,v,w,x,y]\n",
    "    temp_crn=np.cumsum(temp_crn)\n",
    "    print(temp_crn)"
   ]
  },
  {
   "cell_type": "code",
   "execution_count": 148,
   "id": "631903a7",
   "metadata": {},
   "outputs": [
    {
     "name": "stdout",
     "output_type": "stream",
     "text": [
      "[0.0, 0.0, 0.0, 0.0, 0.0, 0.0, 0.0, 0.0, 0.0, 0.0, 0.0, 0.0, 0.0, 0.0, 0.0, 0.0, 0.0, 0.0, 0.0, 0.015, 0.015, 0.015, 0.015, 0.015, 0.015]\n"
     ]
    }
   ],
   "source": [
    "difference5_sal = []\n",
    "\n",
    "zip_object = zip(temp, temp_crn)\n",
    "for temp_i, temp_crn_i in zip_object:\n",
    "    difference5_sal.append(temp_i-temp_crn_i)\n",
    "\n",
    "print(difference5_sal)"
   ]
  },
  {
   "cell_type": "markdown",
   "id": "eb16f605",
   "metadata": {},
   "source": [
    "<font size=\"3\">Batesville, AR: 0600 UTC (12:00 am CST) 01 March 2022-0600 UTC (12:00 am CST) 02 March 2022</font>"
   ]
  },
  {
   "cell_type": "code",
   "execution_count": 149,
   "id": "5f6566a3",
   "metadata": {},
   "outputs": [
    {
     "name": "stdout",
     "output_type": "stream",
     "text": [
      "[0. 0. 0. 0. 0. 0. 0. 0. 0. 0. 0. 0. 0. 0. 0. 0. 0. 0. 0. 0. 0. 0. 0. 0.\n",
      " 0.]\n"
     ]
    }
   ],
   "source": [
    "#1 hr hrrr:\n",
    "with open('hrrr_f01_Batesville_AR.txt') as f:\n",
    "    lst=[line.split()[2] for line in f]\n",
    "    temp=[]\n",
    "    for i in lst:\n",
    "        new=i.replace(',',\"\")\n",
    "        temp.append(new)\n",
    "    temp.pop(0)\n",
    "    temp=[float(x) for x in temp]\n",
    "    temp=temp[2597:2622]\n",
    "#     x = np.array(temp)\n",
    "#     temp = ma.masked_array(x, mask=[0, 0, 0, 0, 0,0,0,0,0,0,0,0,0,0,0,0,0,0,0,0,0,1,0,0,0])\n",
    "    #temp=temp[2015:2063]\n",
    "    temp=np.cumsum(temp)\n",
    "    print(temp)\n",
    "#full time period is [2015:2112]"
   ]
  },
  {
   "cell_type": "code",
   "execution_count": 150,
   "id": "9d4ec43c",
   "metadata": {},
   "outputs": [
    {
     "name": "stdout",
     "output_type": "stream",
     "text": [
      "[0. 0. 0. 0. 0. 0. 0. 0. 0. 0. 0. 0. 0. 0. 0. 0. 0. 0. 0. 0. 0. 0. 0. 0.\n",
      " 0.]\n"
     ]
    }
   ],
   "source": [
    "#Air Temp CRN:\n",
    "with open('CRNS0101-05-2022-AR_Batesville_8_WNW.txt') as f:\n",
    "    lst=[line.split()[9] for line in f]\n",
    "    \n",
    "    a=(float(lst[31175])+float(lst[31176]))/2\n",
    "    b=(float(lst[31187])+float(lst[31188]))/2\n",
    "    c=(float(lst[31199])+float(lst[31200]))/2\n",
    "    d=(float(lst[31211])+float(lst[31212]))/2\n",
    "    e=(float(lst[31223])+float(lst[31224]))/2\n",
    "    f=(float(lst[31235])+float(lst[31236]))/2\n",
    "    g=(float(lst[31247])+float(lst[31248]))/2\n",
    "    h=(float(lst[31259])+float(lst[31260]))/2\n",
    "    i=(float(lst[31271])+float(lst[31272]))/2\n",
    "    j=(float(lst[31283])+float(lst[31284]))/2\n",
    "    k=(float(lst[31295])+float(lst[31296]))/2\n",
    "    l=(float(lst[31307])+float(lst[31308]))/2\n",
    "    m=(float(lst[31319])+float(lst[31320]))/2\n",
    "    n=(float(lst[31331])+float(lst[31332]))/2\n",
    "    o=(float(lst[31343])+float(lst[31344]))/2\n",
    "    p=(float(lst[31355])+float(lst[31356]))/2\n",
    "    q=(float(lst[31367])+float(lst[31368]))/2\n",
    "    r=(float(lst[31379])+float(lst[31380]))/2\n",
    "    s=(float(lst[31391])+float(lst[31392]))/2\n",
    "    t=(float(lst[31403])+float(lst[31404]))/2\n",
    "    u=(float(lst[31415])+float(lst[31416]))/2\n",
    "    v=(float(lst[31427])+float(lst[31428]))/2\n",
    "    w=(float(lst[31439])+float(lst[31440]))/2\n",
    "    x=(float(lst[31451])+float(lst[31452]))/2\n",
    "    y=(float(lst[31463])+float(lst[31464]))/2\n",
    "    \n",
    "    temp_crn=[a,b,c,d,e,f,g,h,i,j,k,l,m,n,o,p,q,r,s,t,u,v,w,x,y]\n",
    "    temp_crn=np.cumsum(temp_crn)\n",
    "    print(temp_crn)"
   ]
  },
  {
   "cell_type": "code",
   "execution_count": 151,
   "id": "32ec4102",
   "metadata": {},
   "outputs": [
    {
     "name": "stdout",
     "output_type": "stream",
     "text": [
      "[0.0, 0.0, 0.0, 0.0, 0.0, 0.0, 0.0, 0.0, 0.0, 0.0, 0.0, 0.0, 0.0, 0.0, 0.0, 0.0, 0.0, 0.0, 0.0, 0.0, 0.0, 0.0, 0.0, 0.0, 0.0]\n"
     ]
    }
   ],
   "source": [
    "difference5_bat = []\n",
    "\n",
    "zip_object = zip(temp, temp_crn)\n",
    "for temp_i, temp_crn_i in zip_object:\n",
    "    difference5_bat.append(temp_i-temp_crn_i)\n",
    "\n",
    "print(difference5_bat)"
   ]
  },
  {
   "cell_type": "markdown",
   "id": "ab0f4798",
   "metadata": {},
   "source": [
    "<font size=\"3\">Lafayette, LA: 0600 UTC (12:00 am CST) 01 March 2022-0600 UTC (12:00 am CST) 02 March 2022</font>"
   ]
  },
  {
   "cell_type": "code",
   "execution_count": 152,
   "id": "bf4ca647",
   "metadata": {},
   "outputs": [
    {
     "name": "stdout",
     "output_type": "stream",
     "text": [
      "[0. 0. 0. 0. 0. 0. 0. 0. 0. 0. 0. 0. 0. 0. 0. 0. 0. 0. 0. 0. 0. 0. 0. 0.\n",
      " 0.]\n"
     ]
    }
   ],
   "source": [
    "#1 hr hrrr:\n",
    "with open('hrrr_f01_Lafayette_LA.txt') as f:\n",
    "    lst=[line.split()[2] for line in f]\n",
    "    temp=[]\n",
    "    for i in lst:\n",
    "        new=i.replace(',',\"\")\n",
    "        temp.append(new)\n",
    "    temp.pop(0)\n",
    "    temp=[float(x) for x in temp]\n",
    "    temp=temp[2597:2622]\n",
    "    #temp=temp[2015:2063]\n",
    "    temp=np.cumsum(temp)\n",
    "    print(temp)\n",
    "#full time period is [2015:2112]"
   ]
  },
  {
   "cell_type": "code",
   "execution_count": 153,
   "id": "a94179a0",
   "metadata": {},
   "outputs": [
    {
     "name": "stdout",
     "output_type": "stream",
     "text": [
      "[0. 0. 0. 0. 0. 0. 0. 0. 0. 0. 0. 0. 0. 0. 0. 0. 0. 0. 0. 0. 0. 0. 0. 0.\n",
      " 0.]\n"
     ]
    }
   ],
   "source": [
    "#Air Temp CRN:\n",
    "with open('CRNS0101-05-2022-LA_Lafayette_13_SE.txt') as f:\n",
    "    lst=[line.split()[9] for line in f]\n",
    "    \n",
    "    a=(float(lst[31175])+float(lst[31176]))/2\n",
    "    b=(float(lst[31187])+float(lst[31188]))/2\n",
    "    c=(float(lst[31199])+float(lst[31200]))/2\n",
    "    d=(float(lst[31211])+float(lst[31212]))/2\n",
    "    e=(float(lst[31223])+float(lst[31224]))/2\n",
    "    f=(float(lst[31235])+float(lst[31236]))/2\n",
    "    g=(float(lst[31247])+float(lst[31248]))/2\n",
    "    h=(float(lst[31259])+float(lst[31260]))/2\n",
    "    i=(float(lst[31271])+float(lst[31272]))/2\n",
    "    j=(float(lst[31283])+float(lst[31284]))/2\n",
    "    k=(float(lst[31295])+float(lst[31296]))/2\n",
    "    l=(float(lst[31307])+float(lst[31308]))/2\n",
    "    m=(float(lst[31319])+float(lst[31320]))/2\n",
    "    n=(float(lst[31331])+float(lst[31332]))/2\n",
    "    o=(float(lst[31343])+float(lst[31344]))/2\n",
    "    p=(float(lst[31355])+float(lst[31356]))/2\n",
    "    q=(float(lst[31367])+float(lst[31368]))/2\n",
    "    r=(float(lst[31379])+float(lst[31380]))/2\n",
    "    s=(float(lst[31391])+float(lst[31392]))/2\n",
    "    t=(float(lst[31403])+float(lst[31404]))/2\n",
    "    u=(float(lst[31415])+float(lst[31416]))/2\n",
    "    v=(float(lst[31427])+float(lst[31428]))/2\n",
    "    w=(float(lst[31439])+float(lst[31440]))/2\n",
    "    x=(float(lst[31451])+float(lst[31452]))/2\n",
    "    y=(float(lst[31463])+float(lst[31464]))/2\n",
    "    \n",
    "    temp_crn=[a,b,c,d,e,f,g,h,i,j,k,l,m,n,o,p,q,r,s,t,u,v,w,x,y]\n",
    "    temp_crn=np.cumsum(temp_crn)\n",
    "    print(temp_crn)"
   ]
  },
  {
   "cell_type": "code",
   "execution_count": 154,
   "id": "482bd1ef",
   "metadata": {},
   "outputs": [
    {
     "name": "stdout",
     "output_type": "stream",
     "text": [
      "[0.0, 0.0, 0.0, 0.0, 0.0, 0.0, 0.0, 0.0, 0.0, 0.0, 0.0, 0.0, 0.0, 0.0, 0.0, 0.0, 0.0, 0.0, 0.0, 0.0, 0.0, 0.0, 0.0, 0.0, 0.0]\n"
     ]
    }
   ],
   "source": [
    "difference5_laf = []\n",
    "\n",
    "zip_object = zip(temp, temp_crn)\n",
    "for temp_i, temp_crn_i in zip_object:\n",
    "    difference5_laf.append(temp_i-temp_crn_i)\n",
    "\n",
    "print(difference5_laf)"
   ]
  },
  {
   "cell_type": "markdown",
   "id": "de00e832",
   "metadata": {},
   "source": [
    "<font size=\"3\">Monroe, LA: 0600 UTC (12:00 am CST) 01 March 2022-0600 UTC (12:00 am CST) 02 March 2022</font>"
   ]
  },
  {
   "cell_type": "code",
   "execution_count": 155,
   "id": "4e202ed7",
   "metadata": {},
   "outputs": [
    {
     "name": "stdout",
     "output_type": "stream",
     "text": [
      "[0. 0. 0. 0. 0. 0. 0. 0. 0. 0. 0. 0. 0. 0. 0. 0. 0. 0. 0. 0. 0. 0. 0. 0.\n",
      " 0.]\n"
     ]
    }
   ],
   "source": [
    "#1 hr hrrr:\n",
    "with open('hrrr_f01_Monroe_LA.txt') as f:\n",
    "    lst=[line.split()[2] for line in f]\n",
    "    temp=[]\n",
    "    for i in lst:\n",
    "        new=i.replace(',',\"\")\n",
    "        temp.append(new)\n",
    "    temp.pop(0)\n",
    "    temp=[float(x) for x in temp]\n",
    "    temp=temp[2597:2622]\n",
    "    #temp=temp[2015:2063]\n",
    "    temp=np.cumsum(temp)\n",
    "    print(temp)\n",
    "#full time period is [2015:2112]"
   ]
  },
  {
   "cell_type": "code",
   "execution_count": 156,
   "id": "4e6ab640",
   "metadata": {},
   "outputs": [
    {
     "name": "stdout",
     "output_type": "stream",
     "text": [
      "[0. 0. 0. 0. 0. 0. 0. 0. 0. 0. 0. 0. 0. 0. 0. 0. 0. 0. 0. 0. 0. 0. 0. 0.\n",
      " 0.]\n"
     ]
    }
   ],
   "source": [
    "#Air Temp CRN:\n",
    "with open('CRNS0101-05-2022-LA_Monroe_26_N.txt') as f:\n",
    "    lst=[line.split()[9] for line in f]\n",
    "    \n",
    "    a=(float(lst[31175])+float(lst[31176]))/2\n",
    "    b=(float(lst[31187])+float(lst[31188]))/2\n",
    "    c=(float(lst[31199])+float(lst[31200]))/2\n",
    "    d=(float(lst[31211])+float(lst[31212]))/2\n",
    "    e=(float(lst[31223])+float(lst[31224]))/2\n",
    "    f=(float(lst[31235])+float(lst[31236]))/2\n",
    "    g=(float(lst[31247])+float(lst[31248]))/2\n",
    "    h=(float(lst[31259])+float(lst[31260]))/2\n",
    "    i=(float(lst[31271])+float(lst[31272]))/2\n",
    "    j=(float(lst[31283])+float(lst[31284]))/2\n",
    "    k=(float(lst[31295])+float(lst[31296]))/2\n",
    "    l=(float(lst[31307])+float(lst[31308]))/2\n",
    "    m=(float(lst[31319])+float(lst[31320]))/2\n",
    "    n=(float(lst[31331])+float(lst[31332]))/2\n",
    "    o=(float(lst[31343])+float(lst[31344]))/2\n",
    "    p=(float(lst[31355])+float(lst[31356]))/2\n",
    "    q=(float(lst[31367])+float(lst[31368]))/2\n",
    "    r=(float(lst[31379])+float(lst[31380]))/2\n",
    "    s=(float(lst[31391])+float(lst[31392]))/2\n",
    "    t=(float(lst[31403])+float(lst[31404]))/2\n",
    "    u=(float(lst[31415])+float(lst[31416]))/2\n",
    "    v=(float(lst[31427])+float(lst[31428]))/2\n",
    "    w=(float(lst[31439])+float(lst[31440]))/2\n",
    "    x=(float(lst[31451])+float(lst[31452]))/2\n",
    "    y=(float(lst[31463])+float(lst[31464]))/2\n",
    "    \n",
    "    temp_crn=[a,b,c,d,e,f,g,h,i,j,k,l,m,n,o,p,q,r,s,t,u,v,w,x,y]\n",
    "    temp_crn=np.cumsum(temp_crn)\n",
    "    print(temp_crn)"
   ]
  },
  {
   "cell_type": "code",
   "execution_count": 157,
   "id": "461ef9d6",
   "metadata": {},
   "outputs": [
    {
     "name": "stdout",
     "output_type": "stream",
     "text": [
      "[0.0, 0.0, 0.0, 0.0, 0.0, 0.0, 0.0, 0.0, 0.0, 0.0, 0.0, 0.0, 0.0, 0.0, 0.0, 0.0, 0.0, 0.0, 0.0, 0.0, 0.0, 0.0, 0.0, 0.0, 0.0]\n"
     ]
    }
   ],
   "source": [
    "difference5_mon = []\n",
    "\n",
    "zip_object = zip(temp, temp_crn)\n",
    "for temp_i, temp_crn_i in zip_object:\n",
    "    difference5_mon.append(temp_i-temp_crn_i)\n",
    "\n",
    "print(difference5_mon)"
   ]
  },
  {
   "cell_type": "markdown",
   "id": "10c3e262",
   "metadata": {},
   "source": [
    "<font size=\"3\">Holly Springs, MS: 0600 UTC (12:00 am CST) 01 March 2022-0600 UTC (12:00 am CST) 02 March 2022</font>"
   ]
  },
  {
   "cell_type": "code",
   "execution_count": 158,
   "id": "02dfc76f",
   "metadata": {},
   "outputs": [
    {
     "name": "stdout",
     "output_type": "stream",
     "text": [
      "[0. 0. 0. 0. 0. 0. 0. 0. 0. 0. 0. 0. 0. 0. 0. 0. 0. 0. 0. 0. 0. 0. 0. 0.\n",
      " 0.]\n"
     ]
    }
   ],
   "source": [
    "#1 hr hrrr:\n",
    "with open('hrrr_f01_Holly Springs_MS.txt') as f:\n",
    "    lst=[line.split()[2] for line in f]\n",
    "    temp=[]\n",
    "    for i in lst:\n",
    "        new=i.replace(',',\"\")\n",
    "        temp.append(new)\n",
    "    temp.pop(0)\n",
    "    temp=[float(x) for x in temp]\n",
    "    temp=temp[2597:2622]\n",
    "    #temp=temp[2015:2063]\n",
    "    temp=np.cumsum(temp)\n",
    "    print(temp)\n",
    "#full time period is [2015:2112]"
   ]
  },
  {
   "cell_type": "code",
   "execution_count": 159,
   "id": "f0bb8bfb",
   "metadata": {},
   "outputs": [
    {
     "name": "stdout",
     "output_type": "stream",
     "text": [
      "[0. 0. 0. 0. 0. 0. 0. 0. 0. 0. 0. 0. 0. 0. 0. 0. 0. 0. 0. 0. 0. 0. 0. 0.\n",
      " 0.]\n"
     ]
    }
   ],
   "source": [
    "#Air Temp CRN:\n",
    "with open('CRNS0101-05-2022-MS_Holly_Springs_4_N.txt') as f:\n",
    "    lst=[line.split()[9] for line in f]\n",
    "    \n",
    "    a=(float(lst[31175])+float(lst[31176]))/2\n",
    "    b=(float(lst[31187])+float(lst[31188]))/2\n",
    "    c=(float(lst[31199])+float(lst[31200]))/2\n",
    "    d=(float(lst[31211])+float(lst[31212]))/2\n",
    "    e=(float(lst[31223])+float(lst[31224]))/2\n",
    "    f=(float(lst[31235])+float(lst[31236]))/2\n",
    "    g=(float(lst[31247])+float(lst[31248]))/2\n",
    "    h=(float(lst[31259])+float(lst[31260]))/2\n",
    "    i=(float(lst[31271])+float(lst[31272]))/2\n",
    "    j=(float(lst[31283])+float(lst[31284]))/2\n",
    "    k=(float(lst[31295])+float(lst[31296]))/2\n",
    "    l=(float(lst[31307])+float(lst[31308]))/2\n",
    "    m=(float(lst[31319])+float(lst[31320]))/2\n",
    "    n=(float(lst[31331])+float(lst[31332]))/2\n",
    "    o=(float(lst[31343])+float(lst[31344]))/2\n",
    "    p=(float(lst[31355])+float(lst[31356]))/2\n",
    "    q=(float(lst[31367])+float(lst[31368]))/2\n",
    "    r=(float(lst[31379])+float(lst[31380]))/2\n",
    "    s=(float(lst[31391])+float(lst[31392]))/2\n",
    "    t=(float(lst[31403])+float(lst[31404]))/2\n",
    "    u=(float(lst[31415])+float(lst[31416]))/2\n",
    "    v=(float(lst[31427])+float(lst[31428]))/2\n",
    "    w=(float(lst[31439])+float(lst[31440]))/2\n",
    "    x=(float(lst[31451])+float(lst[31452]))/2\n",
    "    y=(float(lst[31463])+float(lst[31464]))/2\n",
    "    \n",
    "    temp_crn=[a,b,c,d,e,f,g,h,i,j,k,l,m,n,o,p,q,r,s,t,u,v,w,x,y]\n",
    "    temp_crn=np.cumsum(temp_crn)\n",
    "    print(temp_crn)"
   ]
  },
  {
   "cell_type": "code",
   "execution_count": 160,
   "id": "33e182d5",
   "metadata": {},
   "outputs": [
    {
     "name": "stdout",
     "output_type": "stream",
     "text": [
      "[0.0, 0.0, 0.0, 0.0, 0.0, 0.0, 0.0, 0.0, 0.0, 0.0, 0.0, 0.0, 0.0, 0.0, 0.0, 0.0, 0.0, 0.0, 0.0, 0.0, 0.0, 0.0, 0.0, 0.0, 0.0]\n"
     ]
    }
   ],
   "source": [
    "difference5_hol = []\n",
    "\n",
    "zip_object = zip(temp, temp_crn)\n",
    "for temp_i, temp_crn_i in zip_object:\n",
    "    difference5_hol.append(temp_i-temp_crn_i)\n",
    "\n",
    "print(difference5_hol)"
   ]
  },
  {
   "cell_type": "markdown",
   "id": "c3611246",
   "metadata": {},
   "source": [
    "<font size=\"3\">Newton, MS: 0600 UTC (12:00 am CST) 01 March 2022-0600 UTC (12:00 am CST) 02 March 2022</font>"
   ]
  },
  {
   "cell_type": "code",
   "execution_count": 161,
   "id": "c9844209",
   "metadata": {},
   "outputs": [
    {
     "name": "stdout",
     "output_type": "stream",
     "text": [
      "[0. 0. 0. 0. 0. 0. 0. 0. 0. 0. 0. 0. 0. 0. 0. 0. 0. 0. 0. 0. 0. 0. 0. 0.\n",
      " 0.]\n"
     ]
    }
   ],
   "source": [
    "#1 hr hrrr:\n",
    "with open('hrrr_f01_Newton_MS.txt') as f:\n",
    "    lst=[line.split()[2] for line in f]\n",
    "    temp=[]\n",
    "    for i in lst:\n",
    "        new=i.replace(',',\"\")\n",
    "        temp.append(new)\n",
    "    temp.pop(0)\n",
    "    temp=[float(x) for x in temp]\n",
    "    temp=temp[2597:2622]\n",
    "    #temp=temp[2015:2063]\n",
    "    temp=np.cumsum(temp)\n",
    "    print(temp)\n",
    "#full time period is [2015:2112]"
   ]
  },
  {
   "cell_type": "code",
   "execution_count": 162,
   "id": "e52605db",
   "metadata": {},
   "outputs": [
    {
     "name": "stdout",
     "output_type": "stream",
     "text": [
      "[0. 0. 0. 0. 0. 0. 0. 0. 0. 0. 0. 0. 0. 0. 0. 0. 0. 0. 0. 0. 0. 0. 0. 0.\n",
      " 0.]\n"
     ]
    }
   ],
   "source": [
    "#Air Temp CRN:\n",
    "with open('CRNS0101-05-2022-MS_Newton_5_ENE.txt') as f:\n",
    "    lst=[line.split()[9] for line in f]\n",
    "    \n",
    "    a=(float(lst[31175])+float(lst[31176]))/2\n",
    "    b=(float(lst[31187])+float(lst[31188]))/2\n",
    "    c=(float(lst[31199])+float(lst[31200]))/2\n",
    "    d=(float(lst[31211])+float(lst[31212]))/2\n",
    "    e=(float(lst[31223])+float(lst[31224]))/2\n",
    "    f=(float(lst[31235])+float(lst[31236]))/2\n",
    "    g=(float(lst[31247])+float(lst[31248]))/2\n",
    "    h=(float(lst[31259])+float(lst[31260]))/2\n",
    "    i=(float(lst[31271])+float(lst[31272]))/2\n",
    "    j=(float(lst[31283])+float(lst[31284]))/2\n",
    "    k=(float(lst[31295])+float(lst[31296]))/2\n",
    "    l=(float(lst[31307])+float(lst[31308]))/2\n",
    "    m=(float(lst[31319])+float(lst[31320]))/2\n",
    "    n=(float(lst[31331])+float(lst[31332]))/2\n",
    "    o=(float(lst[31343])+float(lst[31344]))/2\n",
    "    p=(float(lst[31355])+float(lst[31356]))/2\n",
    "    q=(float(lst[31367])+float(lst[31368]))/2\n",
    "    r=(float(lst[31379])+float(lst[31380]))/2\n",
    "    s=(float(lst[31391])+float(lst[31392]))/2\n",
    "    t=(float(lst[31403])+float(lst[31404]))/2\n",
    "    u=(float(lst[31415])+float(lst[31416]))/2\n",
    "    v=(float(lst[31427])+float(lst[31428]))/2\n",
    "    w=(float(lst[31439])+float(lst[31440]))/2\n",
    "    x=(float(lst[31451])+float(lst[31452]))/2\n",
    "    y=(float(lst[31463])+float(lst[31464]))/2\n",
    "    \n",
    "    temp_crn=[a,b,c,d,e,f,g,h,i,j,k,l,m,n,o,p,q,r,s,t,u,v,w,x,y]\n",
    "    temp_crn=np.cumsum(temp_crn)\n",
    "    print(temp_crn)"
   ]
  },
  {
   "cell_type": "code",
   "execution_count": 163,
   "id": "26f39b75",
   "metadata": {},
   "outputs": [
    {
     "name": "stdout",
     "output_type": "stream",
     "text": [
      "[0.0, 0.0, 0.0, 0.0, 0.0, 0.0, 0.0, 0.0, 0.0, 0.0, 0.0, 0.0, 0.0, 0.0, 0.0, 0.0, 0.0, 0.0, 0.0, 0.0, 0.0, 0.0, 0.0, 0.0, 0.0]\n"
     ]
    }
   ],
   "source": [
    "difference5_new = []\n",
    "\n",
    "zip_object = zip(temp, temp_crn)\n",
    "for temp_i, temp_crn_i in zip_object:\n",
    "    difference5_new.append(temp_i-temp_crn_i)\n",
    "\n",
    "print(difference5_new)"
   ]
  },
  {
   "cell_type": "markdown",
   "id": "35f6ffe5",
   "metadata": {},
   "source": [
    "<font size=\"3\">Gainesville, AL: 0600 UTC (12:00 am CST) 01 March 2022-0600 UTC (12:00 am CST) 02 March 2022</font>"
   ]
  },
  {
   "cell_type": "code",
   "execution_count": 164,
   "id": "d2bd1457",
   "metadata": {},
   "outputs": [
    {
     "name": "stdout",
     "output_type": "stream",
     "text": [
      "[0. 0. 0. 0. 0. 0. 0. 0. 0. 0. 0. 0. 0. 0. 0. 0. 0. 0. 0. 0. 0. 0. 0. 0.\n",
      " 0.]\n"
     ]
    }
   ],
   "source": [
    "#1 hr hrrr:\n",
    "with open('hrrr_f01_Gainesville_AL.txt') as f:\n",
    "    lst=[line.split()[2] for line in f]\n",
    "    temp=[]\n",
    "    for i in lst:\n",
    "        new=i.replace(',',\"\")\n",
    "        temp.append(new)\n",
    "    temp.pop(0)\n",
    "    temp=[float(x) for x in temp]\n",
    "    temp=temp[2597:2622]\n",
    "    #temp=temp[2015:2063]\n",
    "    temp=np.cumsum(temp)\n",
    "    print(temp)\n",
    "#full time period is [2015:2112]"
   ]
  },
  {
   "cell_type": "code",
   "execution_count": 165,
   "id": "7d4ad874",
   "metadata": {},
   "outputs": [
    {
     "name": "stdout",
     "output_type": "stream",
     "text": [
      "[0. 0. 0. 0. 0. 0. 0. 0. 0. 0. 0. 0. 0. 0. 0. 0. 0. 0. 0. 0. 0. 0. 0. 0.\n",
      " 0.]\n"
     ]
    }
   ],
   "source": [
    "#Air Temp CRN:\n",
    "with open('CRNS0101-05-2022-AL_Gainesville_2_NE.txt') as f:\n",
    "    lst=[line.split()[9] for line in f]\n",
    "    \n",
    "    a=(float(lst[31175])+float(lst[31176]))/2\n",
    "    b=(float(lst[31187])+float(lst[31188]))/2\n",
    "    c=(float(lst[31199])+float(lst[31200]))/2\n",
    "    d=(float(lst[31211])+float(lst[31212]))/2\n",
    "    e=(float(lst[31223])+float(lst[31224]))/2\n",
    "    f=(float(lst[31235])+float(lst[31236]))/2\n",
    "    g=(float(lst[31247])+float(lst[31248]))/2\n",
    "    h=(float(lst[31259])+float(lst[31260]))/2\n",
    "    i=(float(lst[31271])+float(lst[31272]))/2\n",
    "    j=(float(lst[31283])+float(lst[31284]))/2\n",
    "    k=(float(lst[31295])+float(lst[31296]))/2\n",
    "    l=(float(lst[31307])+float(lst[31308]))/2\n",
    "    m=(float(lst[31319])+float(lst[31320]))/2\n",
    "    n=(float(lst[31331])+float(lst[31332]))/2\n",
    "    o=(float(lst[31343])+float(lst[31344]))/2\n",
    "    p=(float(lst[31355])+float(lst[31356]))/2\n",
    "    q=(float(lst[31367])+float(lst[31368]))/2\n",
    "    r=(float(lst[31379])+float(lst[31380]))/2\n",
    "    s=(float(lst[31391])+float(lst[31392]))/2\n",
    "    t=(float(lst[31403])+float(lst[31404]))/2\n",
    "    u=(float(lst[31415])+float(lst[31416]))/2\n",
    "    v=(float(lst[31427])+float(lst[31428]))/2\n",
    "    w=(float(lst[31439])+float(lst[31440]))/2\n",
    "    x=(float(lst[31451])+float(lst[31452]))/2\n",
    "    y=(float(lst[31463])+float(lst[31464]))/2\n",
    "    \n",
    "    temp_crn=[a,b,c,d,e,f,g,h,i,j,k,l,m,n,o,p,q,r,s,t,u,v,w,x,y]\n",
    "    temp_crn=np.cumsum(temp_crn)\n",
    "    print(temp_crn)"
   ]
  },
  {
   "cell_type": "code",
   "execution_count": 166,
   "id": "8356bd44",
   "metadata": {},
   "outputs": [
    {
     "name": "stdout",
     "output_type": "stream",
     "text": [
      "[0.0, 0.0, 0.0, 0.0, 0.0, 0.0, 0.0, 0.0, 0.0, 0.0, 0.0, 0.0, 0.0, 0.0, 0.0, 0.0, 0.0, 0.0, 0.0, 0.0, 0.0, 0.0, 0.0, 0.0, 0.0]\n"
     ]
    }
   ],
   "source": [
    "difference5_gai = []\n",
    "\n",
    "zip_object = zip(temp, temp_crn)\n",
    "for temp_i, temp_crn_i in zip_object:\n",
    "    difference5_gai.append(temp_i-temp_crn_i)\n",
    "\n",
    "print(difference5_gai)"
   ]
  },
  {
   "cell_type": "markdown",
   "id": "fb46ce72",
   "metadata": {},
   "source": [
    "<font size=\"3\">Fairhope, AL: 0600 UTC (12:00 am CST) 01 March 2022-0600 UTC (12:00 am CST) 02 March 2022</font>"
   ]
  },
  {
   "cell_type": "code",
   "execution_count": 167,
   "id": "eb7efbb3",
   "metadata": {},
   "outputs": [
    {
     "name": "stdout",
     "output_type": "stream",
     "text": [
      "[0. 0. 0. 0. 0. 0. 0. 0. 0. 0. 0. 0. 0. 0. 0. 0. 0. 0. 0. 0. 0. 0. 0. 0.\n",
      " 0.]\n"
     ]
    }
   ],
   "source": [
    "#1 hr hrrr:\n",
    "with open('hrrr_f01_Fairhope_AL.txt') as f:\n",
    "    lst=[line.split()[2] for line in f]\n",
    "    temp=[]\n",
    "    for i in lst:\n",
    "        new=i.replace(',',\"\")\n",
    "        temp.append(new)\n",
    "    temp.pop(0)\n",
    "    temp=[float(x) for x in temp]\n",
    "    temp=temp[2597:2622]\n",
    "    #temp=temp[2015:2063]\n",
    "    temp=np.cumsum(temp)\n",
    "    print(temp)\n",
    "#full time period is [2015:2112]"
   ]
  },
  {
   "cell_type": "code",
   "execution_count": 168,
   "id": "02193ad1",
   "metadata": {},
   "outputs": [
    {
     "name": "stdout",
     "output_type": "stream",
     "text": [
      "[0. 0. 0. 0. 0. 0. 0. 0. 0. 0. 0. 0. 0. 0. 0. 0. 0. 0. 0. 0. 0. 0. 0. 0.\n",
      " 0.]\n"
     ]
    }
   ],
   "source": [
    "#Air Temp CRN:\n",
    "with open('CRNS0101-05-2022-AL_Fairhope_3_NE.txt') as f:\n",
    "    lst=[line.split()[9] for line in f]\n",
    "    \n",
    "    a=(float(lst[31175])+float(lst[31176]))/2\n",
    "    b=(float(lst[31187])+float(lst[31188]))/2\n",
    "    c=(float(lst[31199])+float(lst[31200]))/2\n",
    "    d=(float(lst[31211])+float(lst[31212]))/2\n",
    "    e=(float(lst[31223])+float(lst[31224]))/2\n",
    "    f=(float(lst[31235])+float(lst[31236]))/2\n",
    "    g=(float(lst[31247])+float(lst[31248]))/2\n",
    "    h=(float(lst[31259])+float(lst[31260]))/2\n",
    "    i=(float(lst[31271])+float(lst[31272]))/2\n",
    "    j=(float(lst[31283])+float(lst[31284]))/2\n",
    "    k=(float(lst[31295])+float(lst[31296]))/2\n",
    "    l=(float(lst[31307])+float(lst[31308]))/2\n",
    "    m=(float(lst[31319])+float(lst[31320]))/2\n",
    "    n=(float(lst[31331])+float(lst[31332]))/2\n",
    "    o=(float(lst[31343])+float(lst[31344]))/2\n",
    "    p=(float(lst[31355])+float(lst[31356]))/2\n",
    "    q=(float(lst[31367])+float(lst[31368]))/2\n",
    "    r=(float(lst[31379])+float(lst[31380]))/2\n",
    "    s=(float(lst[31391])+float(lst[31392]))/2\n",
    "    t=(float(lst[31403])+float(lst[31404]))/2\n",
    "    u=(float(lst[31415])+float(lst[31416]))/2\n",
    "    v=(float(lst[31427])+float(lst[31428]))/2\n",
    "    w=(float(lst[31439])+float(lst[31440]))/2\n",
    "    x=(float(lst[31451])+float(lst[31452]))/2\n",
    "    y=(float(lst[31463])+float(lst[31464]))/2\n",
    "    \n",
    "    temp_crn=[a,b,c,d,e,f,g,h,i,j,k,l,m,n,o,p,q,r,s,t,u,v,w,x,y]\n",
    "    temp_crn=np.cumsum(temp_crn)\n",
    "    print(temp_crn)"
   ]
  },
  {
   "cell_type": "code",
   "execution_count": 169,
   "id": "27eb4d35",
   "metadata": {},
   "outputs": [
    {
     "name": "stdout",
     "output_type": "stream",
     "text": [
      "[0.0, 0.0, 0.0, 0.0, 0.0, 0.0, 0.0, 0.0, 0.0, 0.0, 0.0, 0.0, 0.0, 0.0, 0.0, 0.0, 0.0, 0.0, 0.0, 0.0, 0.0, 0.0, 0.0, 0.0, 0.0]\n"
     ]
    }
   ],
   "source": [
    "difference5_fai = []\n",
    "\n",
    "zip_object = zip(temp, temp_crn)\n",
    "for temp_i, temp_crn_i in zip_object:\n",
    "    difference5_fai.append(temp_i-temp_crn_i)\n",
    "\n",
    "print(difference5_fai)"
   ]
  },
  {
   "cell_type": "markdown",
   "id": "26ae7516",
   "metadata": {},
   "source": [
    "<font size=\"3\">**Selma, AL: 0600 UTC (12:00 am CST) 01 March 2022-0600 UTC (12:00 am CST) 02 March 2022</font>"
   ]
  },
  {
   "cell_type": "code",
   "execution_count": 170,
   "id": "bb3e0d4e",
   "metadata": {},
   "outputs": [
    {
     "name": "stdout",
     "output_type": "stream",
     "text": [
      "[0. 0. 0. 0. 0. 0. 0. 0. 0. 0. 0. 0. 0. 0. 0. 0. 0. 0. 0. 0. 0. 0. 0. 0.\n",
      " 0.]\n"
     ]
    }
   ],
   "source": [
    "#1 hr hrrr:\n",
    "import numpy as np\n",
    "import numpy.ma as ma\n",
    "with open('hrrr_f01_Selma_AL.txt') as f:\n",
    "    lst=[line.split()[2] for line in f]\n",
    "    temp=[]\n",
    "    for i in lst:\n",
    "        new=i.replace(',',\"\")\n",
    "        temp.append(new)\n",
    "    temp.pop(0)\n",
    "    temp=[float(x) for x in temp]\n",
    "    temp=temp[2597:2622]\n",
    "\n",
    "#     x = np.array(temp)\n",
    "#     temp = ma.masked_array(x, mask=[0, 0, 0, 0, 0,0,0,0,0,0,0,0,0,0,0,0,0,1,1,1,1,0,0,0,0])\n",
    "    temp=np.cumsum(temp)\n",
    "    print(temp)"
   ]
  },
  {
   "cell_type": "code",
   "execution_count": 171,
   "id": "61d838c0",
   "metadata": {},
   "outputs": [
    {
     "name": "stdout",
     "output_type": "stream",
     "text": [
      "[0. 0. 0. 0. 0. 0. 0. 0. 0. 0. 0. 0. 0. 0. 0. 0. 0. 0. 0. 0. 0. 0. 0. 0.\n",
      " 0.]\n"
     ]
    }
   ],
   "source": [
    "#Air Temp CRN:\n",
    "with open('CRNS0101-05-2022-AL_Selma_13_WNW.txt') as f:\n",
    "    lst=[line.split()[9] for line in f]\n",
    "    \n",
    "    a=(float(lst[31175])+float(lst[31176]))/2\n",
    "    b=(float(lst[31187])+float(lst[31188]))/2\n",
    "    c=(float(lst[31199])+float(lst[31200]))/2\n",
    "    d=(float(lst[31211])+float(lst[31212]))/2\n",
    "    e=(float(lst[31223])+float(lst[31224]))/2\n",
    "    f=(float(lst[31235])+float(lst[31236]))/2\n",
    "    g=(float(lst[31247])+float(lst[31248]))/2\n",
    "    h=(float(lst[31259])+float(lst[31260]))/2\n",
    "    i=(float(lst[31271])+float(lst[31272]))/2\n",
    "    j=(float(lst[31283])+float(lst[31284]))/2\n",
    "    k=(float(lst[31295])+float(lst[31296]))/2\n",
    "    l=(float(lst[31307])+float(lst[31308]))/2\n",
    "    m=(float(lst[31319])+float(lst[31320]))/2\n",
    "    n=(float(lst[31331])+float(lst[31332]))/2\n",
    "    o=(float(lst[31343])+float(lst[31344]))/2\n",
    "    p=(float(lst[31355])+float(lst[31356]))/2\n",
    "    q=(float(lst[31367])+float(lst[31368]))/2\n",
    "    r=(float(lst[31379])+float(lst[31380]))/2\n",
    "    s=(float(lst[31391])+float(lst[31392]))/2\n",
    "    t=(float(lst[31403])+float(lst[31404]))/2\n",
    "    u=(float(lst[31415])+float(lst[31416]))/2\n",
    "    v=(float(lst[31427])+float(lst[31428]))/2\n",
    "    w=(float(lst[31439])+float(lst[31440]))/2\n",
    "    x=(float(lst[31451])+float(lst[31452]))/2\n",
    "    y=(float(lst[31463])+float(lst[31464]))/2\n",
    "    \n",
    "    temp_crn=[a,b,c,d,e,f,g,h,i,j,k,l,m,n,o,p,q,r,s,t,u,v,w,x,y]\n",
    "    temp_crn=np.cumsum(temp_crn)\n",
    "    print(temp_crn)"
   ]
  },
  {
   "cell_type": "code",
   "execution_count": 172,
   "id": "f7556132",
   "metadata": {},
   "outputs": [
    {
     "name": "stdout",
     "output_type": "stream",
     "text": [
      "[0.0, 0.0, 0.0, 0.0, 0.0, 0.0, 0.0, 0.0, 0.0, 0.0, 0.0, 0.0, 0.0, 0.0, 0.0, 0.0, 0.0, 0.0, 0.0, 0.0, 0.0, 0.0, 0.0, 0.0, 0.0]\n"
     ]
    }
   ],
   "source": [
    "difference5_sel = []\n",
    "\n",
    "zip_object = zip(temp, temp_crn)\n",
    "for temp_i, temp_crn_i in zip_object:\n",
    "    difference5_sel.append(temp_i-temp_crn_i)\n",
    "\n",
    "print(difference5_sel)\n",
    "#print(len(difference3_sel))"
   ]
  },
  {
   "cell_type": "markdown",
   "id": "d56aedb3",
   "metadata": {},
   "source": [
    "<font size=\"3\">Bowling Green, KY: 0600 UTC (12:00 am CST) 01 March 2022-0600 UTC (12:00 am CST) 02 March 2022</font>"
   ]
  },
  {
   "cell_type": "code",
   "execution_count": 173,
   "id": "24633681",
   "metadata": {},
   "outputs": [
    {
     "name": "stdout",
     "output_type": "stream",
     "text": [
      "[0.    0.    0.    0.    0.    0.    0.    0.    0.    0.    0.    0.\n",
      " 0.    0.    0.    0.    0.    0.    0.    0.    0.    0.    0.    0.\n",
      " 0.001]\n"
     ]
    }
   ],
   "source": [
    "#1 hr hrrr:\n",
    "with open('hrrr_f01_Bowling Green_KY.txt') as f:\n",
    "    lst=[line.split()[2] for line in f]\n",
    "    temp=[]\n",
    "    for i in lst:\n",
    "        new=i.replace(',',\"\")\n",
    "        temp.append(new)\n",
    "    temp.pop(0)\n",
    "    temp=[float(x) for x in temp]\n",
    "    temp=temp[2597:2622]\n",
    "    #temp=temp[2015:2063]\n",
    "    temp=np.cumsum(temp)\n",
    "    print(temp)\n",
    "#full time period is [2015:2112]"
   ]
  },
  {
   "cell_type": "code",
   "execution_count": 174,
   "id": "853a3ee4",
   "metadata": {},
   "outputs": [
    {
     "name": "stdout",
     "output_type": "stream",
     "text": [
      "[0. 0. 0. 0. 0. 0. 0. 0. 0. 0. 0. 0. 0. 0. 0. 0. 0. 0. 0. 0. 0. 0. 0. 0.\n",
      " 0.]\n"
     ]
    }
   ],
   "source": [
    "#Air Temp CRN:\n",
    "with open('CRNS0101-05-2022-KY_Bowling_Green_21_NNE.txt') as f:\n",
    "    lst=[line.split()[9] for line in f]\n",
    "    \n",
    "    a=(float(lst[31175])+float(lst[31176]))/2\n",
    "    b=(float(lst[31187])+float(lst[31188]))/2\n",
    "    c=(float(lst[31199])+float(lst[31200]))/2\n",
    "    d=(float(lst[31211])+float(lst[31212]))/2\n",
    "    e=(float(lst[31223])+float(lst[31224]))/2\n",
    "    f=(float(lst[31235])+float(lst[31236]))/2\n",
    "    g=(float(lst[31247])+float(lst[31248]))/2\n",
    "    h=(float(lst[31259])+float(lst[31260]))/2\n",
    "    i=(float(lst[31271])+float(lst[31272]))/2\n",
    "    j=(float(lst[31283])+float(lst[31284]))/2\n",
    "    k=(float(lst[31295])+float(lst[31296]))/2\n",
    "    l=(float(lst[31307])+float(lst[31308]))/2\n",
    "    m=(float(lst[31319])+float(lst[31320]))/2\n",
    "    n=(float(lst[31331])+float(lst[31332]))/2\n",
    "    o=(float(lst[31343])+float(lst[31344]))/2\n",
    "    p=(float(lst[31355])+float(lst[31356]))/2\n",
    "    q=(float(lst[31367])+float(lst[31368]))/2\n",
    "    r=(float(lst[31379])+float(lst[31380]))/2\n",
    "    s=(float(lst[31391])+float(lst[31392]))/2\n",
    "    t=(float(lst[31403])+float(lst[31404]))/2\n",
    "    u=(float(lst[31415])+float(lst[31416]))/2\n",
    "    v=(float(lst[31427])+float(lst[31428]))/2\n",
    "    w=(float(lst[31439])+float(lst[31440]))/2\n",
    "    x=(float(lst[31451])+float(lst[31452]))/2\n",
    "    y=(float(lst[31463])+float(lst[31464]))/2\n",
    "    \n",
    "    temp_crn=[a,b,c,d,e,f,g,h,i,j,k,l,m,n,o,p,q,r,s,t,u,v,w,x,y]\n",
    "    temp_crn=np.cumsum(temp_crn)\n",
    "    print(temp_crn)"
   ]
  },
  {
   "cell_type": "code",
   "execution_count": 175,
   "id": "0855a124",
   "metadata": {},
   "outputs": [
    {
     "name": "stdout",
     "output_type": "stream",
     "text": [
      "[0.0, 0.0, 0.0, 0.0, 0.0, 0.0, 0.0, 0.0, 0.0, 0.0, 0.0, 0.0, 0.0, 0.0, 0.0, 0.0, 0.0, 0.0, 0.0, 0.0, 0.0, 0.0, 0.0, 0.0, 0.001]\n"
     ]
    }
   ],
   "source": [
    "difference5_bow = []\n",
    "\n",
    "zip_object = zip(temp, temp_crn)\n",
    "for temp_i, temp_crn_i in zip_object:\n",
    "    difference5_bow.append(temp_i-temp_crn_i)\n",
    "\n",
    "print(difference5_bow)"
   ]
  },
  {
   "cell_type": "markdown",
   "id": "230d1a46",
   "metadata": {},
   "source": [
    "<font size=\"3\">Gadsden, AL: 0600 UTC (12:00 am CST) 01 March 2022-0600 UTC (12:00 am CST) 02 March 2022</font>"
   ]
  },
  {
   "cell_type": "code",
   "execution_count": 176,
   "id": "c5f9ab54",
   "metadata": {},
   "outputs": [],
   "source": [
    "# #1 hr hrrr:\n",
    "# with open('hrrr_f01_Gadsden_AL.txt') as f:\n",
    "#     lst=[line.split()[2] for line in f]\n",
    "#     temp=[]\n",
    "#     for i in lst:\n",
    "#         new=i.replace(',',\"\")\n",
    "#         temp.append(new)\n",
    "#     temp.pop(0)\n",
    "#     temp=[float(x) for x in temp]\n",
    "#     temp=temp[2597:2622]\n",
    "# #     x = np.array(temp)\n",
    "# #     temp = ma.masked_array(x, mask=[0, 0, 0, 0, 0,0,0,0,1,0,0,0,0,0,0,0,0,0,0,0,0,0,0,0,0])\n",
    "#     #temp=temp[2015:2063]\n",
    "#     temp=np.cumsum(temp)\n",
    "#     print(temp)\n",
    "# #full time period is [2015:2112]"
   ]
  },
  {
   "cell_type": "code",
   "execution_count": 177,
   "id": "68a16b18",
   "metadata": {},
   "outputs": [],
   "source": [
    "# #Air Temp CRN:\n",
    "# with open('CRNS0101-05-2022-AL_Gadsden_19_N.txt') as f:\n",
    "#     lst=[line.split()[9] for line in f]\n",
    "    \n",
    "#     a=(float(lst[31175])+float(lst[31176]))/2\n",
    "#     b=(float(lst[31187])+float(lst[31188]))/2\n",
    "#     c=(float(lst[31199])+float(lst[31200]))/2\n",
    "#     d=(float(lst[31211])+float(lst[31212]))/2\n",
    "#     e=(float(lst[31223])+float(lst[31224]))/2\n",
    "#     f=(float(lst[31235])+float(lst[31236]))/2\n",
    "#     g=(float(lst[31247])+float(lst[31248]))/2\n",
    "#     h=(float(lst[31259])+float(lst[31260]))/2\n",
    "#     i=(float(lst[31271])+float(lst[31272]))/2\n",
    "#     j=(float(lst[31283])+float(lst[31284]))/2\n",
    "#     k=(float(lst[31295])+float(lst[31296]))/2\n",
    "#     l=(float(lst[31307])+float(lst[31308]))/2\n",
    "#     m=(float(lst[31319])+float(lst[31320]))/2\n",
    "#     n=(float(lst[31331])+float(lst[31332]))/2\n",
    "#     o=(float(lst[31343])+float(lst[31344]))/2\n",
    "#     p=(float(lst[31355])+float(lst[31356]))/2\n",
    "#     q=(float(lst[31367])+float(lst[31368]))/2\n",
    "#     r=(float(lst[31379])+float(lst[31380]))/2\n",
    "#     s=(float(lst[31391])+float(lst[31392]))/2\n",
    "#     t=(float(lst[31403])+float(lst[31404]))/2\n",
    "#     u=(float(lst[31415])+float(lst[31416]))/2\n",
    "#     v=(float(lst[31427])+float(lst[31428]))/2\n",
    "#     w=(float(lst[31439])+float(lst[31440]))/2\n",
    "#     x=(float(lst[31451])+float(lst[31452]))/2\n",
    "#     y=(float(lst[31463])+float(lst[31464]))/2\n",
    "    \n",
    "#     temp_crn=[a,b,c,d,e,f,g,h,i,j,k,l,m,n,o,p,q,r,s,t,u,v,w,x,y]\n",
    "#     temp_crn=np.cumsum(temp_crn)\n",
    "#     print(temp_crn)"
   ]
  },
  {
   "cell_type": "code",
   "execution_count": 178,
   "id": "20f98582",
   "metadata": {},
   "outputs": [],
   "source": [
    "# difference5_gad = []\n",
    "\n",
    "# zip_object = zip(temp, temp_crn)\n",
    "# for temp_i, temp_crn_i in zip_object:\n",
    "#     difference5_gad.append(temp_i-temp_crn_i)\n",
    "\n",
    "# print(difference5_gad)"
   ]
  },
  {
   "cell_type": "markdown",
   "id": "200f3740",
   "metadata": {},
   "source": [
    "<font size=\"3\">Newton, GA: 0600 UTC (12:00 am CST) 01 March 2022-0600 UTC (12:00 am CST) 02 March 2022</font>"
   ]
  },
  {
   "cell_type": "code",
   "execution_count": 179,
   "id": "c0676e97",
   "metadata": {},
   "outputs": [
    {
     "name": "stdout",
     "output_type": "stream",
     "text": [
      "[0. 0. 0. 0. 0. 0. 0. 0. 0. 0. 0. 0. 0. 0. 0. 0. 0. 0. 0. 0. 0. 0. 0. 0.\n",
      " 0.]\n"
     ]
    }
   ],
   "source": [
    "#1 hr hrrr:\n",
    "with open('hrrr_f01_Newton_GA.txt') as f:\n",
    "    lst=[line.split()[2] for line in f]\n",
    "    temp=[]\n",
    "    for i in lst:\n",
    "        new=i.replace(',',\"\")\n",
    "        temp.append(new)\n",
    "    temp.pop(0)\n",
    "    temp=[float(x) for x in temp]\n",
    "    temp=temp[2597:2622]\n",
    "    #temp=temp[2015:2063]\n",
    "    temp=np.cumsum(temp)\n",
    "    print(temp)\n",
    "#full time period is [2015:2112]"
   ]
  },
  {
   "cell_type": "code",
   "execution_count": 180,
   "id": "f1c9c102",
   "metadata": {},
   "outputs": [
    {
     "name": "stdout",
     "output_type": "stream",
     "text": [
      "[0. 0. 0. 0. 0. 0. 0. 0. 0. 0. 0. 0. 0. 0. 0. 0. 0. 0. 0. 0. 0. 0. 0. 0.\n",
      " 0.]\n"
     ]
    }
   ],
   "source": [
    "#Air Temp CRN:\n",
    "with open('CRNS0101-05-2022-GA_Newton_11_SW.txt') as f:\n",
    "    lst=[line.split()[9] for line in f]\n",
    "    \n",
    "    a=(float(lst[31175])+float(lst[31176]))/2\n",
    "    b=(float(lst[31187])+float(lst[31188]))/2\n",
    "    c=(float(lst[31199])+float(lst[31200]))/2\n",
    "    d=(float(lst[31211])+float(lst[31212]))/2\n",
    "    e=(float(lst[31223])+float(lst[31224]))/2\n",
    "    f=(float(lst[31235])+float(lst[31236]))/2\n",
    "    g=(float(lst[31247])+float(lst[31248]))/2\n",
    "    h=(float(lst[31259])+float(lst[31260]))/2\n",
    "    i=(float(lst[31271])+float(lst[31272]))/2\n",
    "    j=(float(lst[31283])+float(lst[31284]))/2\n",
    "    k=(float(lst[31295])+float(lst[31296]))/2\n",
    "    l=(float(lst[31307])+float(lst[31308]))/2\n",
    "    m=(float(lst[31319])+float(lst[31320]))/2\n",
    "    n=(float(lst[31331])+float(lst[31332]))/2\n",
    "    o=(float(lst[31343])+float(lst[31344]))/2\n",
    "    p=(float(lst[31355])+float(lst[31356]))/2\n",
    "    q=(float(lst[31367])+float(lst[31368]))/2\n",
    "    r=(float(lst[31379])+float(lst[31380]))/2\n",
    "    s=(float(lst[31391])+float(lst[31392]))/2\n",
    "    t=(float(lst[31403])+float(lst[31404]))/2\n",
    "    u=(float(lst[31415])+float(lst[31416]))/2\n",
    "    v=(float(lst[31427])+float(lst[31428]))/2\n",
    "    w=(float(lst[31439])+float(lst[31440]))/2\n",
    "    x=(float(lst[31451])+float(lst[31452]))/2\n",
    "    y=(float(lst[31463])+float(lst[31464]))/2\n",
    "    \n",
    "    temp_crn=[a,b,c,d,e,f,g,h,i,j,k,l,m,n,o,p,q,r,s,t,u,v,w,x,y]\n",
    "    temp_crn=np.cumsum(temp_crn)\n",
    "    print(temp_crn)"
   ]
  },
  {
   "cell_type": "code",
   "execution_count": 181,
   "id": "4d737508",
   "metadata": {},
   "outputs": [
    {
     "name": "stdout",
     "output_type": "stream",
     "text": [
      "[0.0, 0.0, 0.0, 0.0, 0.0, 0.0, 0.0, 0.0, 0.0, 0.0, 0.0, 0.0, 0.0, 0.0, 0.0, 0.0, 0.0, 0.0, 0.0, 0.0, 0.0, 0.0, 0.0, 0.0, 0.0]\n"
     ]
    }
   ],
   "source": [
    "difference5_newt = []\n",
    "\n",
    "zip_object = zip(temp, temp_crn)\n",
    "for temp_i, temp_crn_i in zip_object:\n",
    "    difference5_newt.append(temp_i-temp_crn_i)\n",
    "\n",
    "print(difference5_newt)"
   ]
  },
  {
   "cell_type": "markdown",
   "id": "cd4a8f77",
   "metadata": {},
   "source": [
    "<font size=\"3\">Salem, MO: 0500 UTC (12:00 am CDT) 27 April 2022-0500 UTC (12:00 am CDT) 28 April 2022</font>"
   ]
  },
  {
   "cell_type": "code",
   "execution_count": 182,
   "id": "e74c5bbe",
   "metadata": {},
   "outputs": [
    {
     "name": "stdout",
     "output_type": "stream",
     "text": [
      "[0. 0. 0. 0. 0. 0. 0. 0. 0. 0. 0. 0. 0. 0. 0. 0. 0. 0. 0. 0. 0. 0. 0. 0.\n",
      " 0.]\n"
     ]
    }
   ],
   "source": [
    "#1 hr hrrr:\n",
    "with open('hrrr_f01_Salem_MO.txt') as f:\n",
    "    lst=[line.split()[2] for line in f]\n",
    "    temp=[]\n",
    "    for i in lst:\n",
    "        new=i.replace(',',\"\")\n",
    "        temp.append(new)\n",
    "    temp.pop(0)\n",
    "    temp=[float(x) for x in temp]\n",
    "    temp=temp[2789:2814]\n",
    "    #temp=temp[2015:2063]\n",
    "    temp=np.cumsum(temp)\n",
    "    print(temp)\n",
    "#full time period is [2015:2112]"
   ]
  },
  {
   "cell_type": "code",
   "execution_count": 183,
   "id": "c0c399a0",
   "metadata": {},
   "outputs": [
    {
     "name": "stdout",
     "output_type": "stream",
     "text": [
      "[0. 0. 0. 0. 0. 0. 0. 0. 0. 0. 0. 0. 0. 0. 0. 0. 0. 0. 0. 0. 0. 0. 0. 0.\n",
      " 0.]\n"
     ]
    }
   ],
   "source": [
    "#Air Temp CRN:\n",
    "with open('CRNS0101-05-2022-MO_Salem_10_W.txt') as f:\n",
    "    lst=[line.split()[9] for line in f]\n",
    "    \n",
    "    a=(float(lst[33479])+float(lst[33480]))/2\n",
    "    b=(float(lst[33491])+float(lst[33492]))/2\n",
    "    c=(float(lst[33503])+float(lst[33504]))/2\n",
    "    d=(float(lst[33515])+float(lst[33516]))/2\n",
    "    e=(float(lst[33527])+float(lst[33528]))/2\n",
    "    f=(float(lst[33539])+float(lst[33540]))/2\n",
    "    g=(float(lst[33551])+float(lst[33552]))/2\n",
    "    h=(float(lst[33563])+float(lst[33564]))/2\n",
    "    i=(float(lst[33575])+float(lst[33576]))/2\n",
    "    j=(float(lst[33587])+float(lst[33588]))/2\n",
    "    k=(float(lst[33599])+float(lst[33600]))/2\n",
    "    l=(float(lst[33611])+float(lst[33612]))/2\n",
    "    m=(float(lst[33623])+float(lst[33624]))/2\n",
    "    n=(float(lst[33635])+float(lst[33636]))/2\n",
    "    o=(float(lst[33647])+float(lst[33648]))/2\n",
    "    p=(float(lst[33659])+float(lst[33660]))/2\n",
    "    q=(float(lst[33671])+float(lst[33672]))/2\n",
    "    r=(float(lst[33683])+float(lst[33684]))/2\n",
    "    s=(float(lst[33695])+float(lst[33696]))/2\n",
    "    t=(float(lst[33707])+float(lst[33708]))/2\n",
    "    u=(float(lst[33719])+float(lst[33720]))/2\n",
    "    v=(float(lst[33731])+float(lst[33732]))/2\n",
    "    w=(float(lst[33743])+float(lst[33744]))/2\n",
    "    x=(float(lst[33755])+float(lst[33756]))/2\n",
    "    y=(float(lst[33767])+float(lst[33768]))/2\n",
    "    \n",
    "    temp_crn=[a,b,c,d,e,f,g,h,i,j,k,l,m,n,o,p,q,r,s,t,u,v,w,x,y]\n",
    "    temp_crn=np.cumsum(temp_crn)\n",
    "    print(temp_crn)"
   ]
  },
  {
   "cell_type": "code",
   "execution_count": 184,
   "id": "38ad8303",
   "metadata": {},
   "outputs": [
    {
     "name": "stdout",
     "output_type": "stream",
     "text": [
      "[0.0, 0.0, 0.0, 0.0, 0.0, 0.0, 0.0, 0.0, 0.0, 0.0, 0.0, 0.0, 0.0, 0.0, 0.0, 0.0, 0.0, 0.0, 0.0, 0.0, 0.0, 0.0, 0.0, 0.0, 0.0]\n"
     ]
    }
   ],
   "source": [
    "difference6_sal = []\n",
    "\n",
    "zip_object = zip(temp, temp_crn)\n",
    "for temp_i, temp_crn_i in zip_object:\n",
    "    difference6_sal.append(temp_i-temp_crn_i)\n",
    "\n",
    "print(difference6_sal)"
   ]
  },
  {
   "cell_type": "markdown",
   "id": "a9ca1aca",
   "metadata": {},
   "source": [
    "<font size=\"3\">Batesville, AR: 0600 UTC (12:00 am CST) 01 March 2022-0600 UTC (12:00 am CST) 02 March 2022</font>"
   ]
  },
  {
   "cell_type": "code",
   "execution_count": 185,
   "id": "90b292da",
   "metadata": {},
   "outputs": [
    {
     "name": "stdout",
     "output_type": "stream",
     "text": [
      "[0. 0. 0. 0. 0. 0. 0. 0. 0. 0. 0. 0. 0. 0. 0. 0. 0. 0. 0. 0. 0. 0. 0. 0.\n",
      " 0.]\n"
     ]
    }
   ],
   "source": [
    "#1 hr hrrr:\n",
    "with open('hrrr_f01_Batesville_AR.txt') as f:\n",
    "    lst=[line.split()[2] for line in f]\n",
    "    temp=[]\n",
    "    for i in lst:\n",
    "        new=i.replace(',',\"\")\n",
    "        temp.append(new)\n",
    "    temp.pop(0)\n",
    "    temp=[float(x) for x in temp]\n",
    "    temp=temp[2789:2814]\n",
    "#     x = np.array(temp)\n",
    "#     temp = ma.masked_array(x, mask=[0, 0, 0, 0, 0,0,0,0,0,0,0,0,0,0,0,0,0,0,0,0,0,1,0,0,0])\n",
    "    #temp=temp[2015:2063]\n",
    "    temp=np.cumsum(temp)\n",
    "    print(temp)\n",
    "#full time period is [2015:2112]"
   ]
  },
  {
   "cell_type": "code",
   "execution_count": 186,
   "id": "f0f385de",
   "metadata": {},
   "outputs": [
    {
     "name": "stdout",
     "output_type": "stream",
     "text": [
      "[0. 0. 0. 0. 0. 0. 0. 0. 0. 0. 0. 0. 0. 0. 0. 0. 0. 0. 0. 0. 0. 0. 0. 0.\n",
      " 0.]\n"
     ]
    }
   ],
   "source": [
    "#Air Temp CRN:\n",
    "with open('CRNS0101-05-2022-AR_Batesville_8_WNW.txt') as f:\n",
    "    lst=[line.split()[9] for line in f]\n",
    "    \n",
    "    a=(float(lst[33479])+float(lst[33480]))/2\n",
    "    b=(float(lst[33491])+float(lst[33492]))/2\n",
    "    c=(float(lst[33503])+float(lst[33504]))/2\n",
    "    d=(float(lst[33515])+float(lst[33516]))/2\n",
    "    e=(float(lst[33527])+float(lst[33528]))/2\n",
    "    f=(float(lst[33539])+float(lst[33540]))/2\n",
    "    g=(float(lst[33551])+float(lst[33552]))/2\n",
    "    h=(float(lst[33563])+float(lst[33564]))/2\n",
    "    i=(float(lst[33575])+float(lst[33576]))/2\n",
    "    j=(float(lst[33587])+float(lst[33588]))/2\n",
    "    k=(float(lst[33599])+float(lst[33600]))/2\n",
    "    l=(float(lst[33611])+float(lst[33612]))/2\n",
    "    m=(float(lst[33623])+float(lst[33624]))/2\n",
    "    n=(float(lst[33635])+float(lst[33636]))/2\n",
    "    o=(float(lst[33647])+float(lst[33648]))/2\n",
    "    p=(float(lst[33659])+float(lst[33660]))/2\n",
    "    q=(float(lst[33671])+float(lst[33672]))/2\n",
    "    r=(float(lst[33683])+float(lst[33684]))/2\n",
    "    s=(float(lst[33695])+float(lst[33696]))/2\n",
    "    t=(float(lst[33707])+float(lst[33708]))/2\n",
    "    u=(float(lst[33719])+float(lst[33720]))/2\n",
    "    v=(float(lst[33731])+float(lst[33732]))/2\n",
    "    w=(float(lst[33743])+float(lst[33744]))/2\n",
    "    x=(float(lst[33755])+float(lst[33756]))/2\n",
    "    y=(float(lst[33767])+float(lst[33768]))/2\n",
    "    \n",
    "    temp_crn=[a,b,c,d,e,f,g,h,i,j,k,l,m,n,o,p,q,r,s,t,u,v,w,x,y]\n",
    "    temp_crn=np.cumsum(temp_crn)\n",
    "    print(temp_crn)"
   ]
  },
  {
   "cell_type": "code",
   "execution_count": 187,
   "id": "ea97b53d",
   "metadata": {},
   "outputs": [
    {
     "name": "stdout",
     "output_type": "stream",
     "text": [
      "[0.0, 0.0, 0.0, 0.0, 0.0, 0.0, 0.0, 0.0, 0.0, 0.0, 0.0, 0.0, 0.0, 0.0, 0.0, 0.0, 0.0, 0.0, 0.0, 0.0, 0.0, 0.0, 0.0, 0.0, 0.0]\n"
     ]
    }
   ],
   "source": [
    "difference6_bat = []\n",
    "\n",
    "zip_object = zip(temp, temp_crn)\n",
    "for temp_i, temp_crn_i in zip_object:\n",
    "    difference6_bat.append(temp_i-temp_crn_i)\n",
    "\n",
    "print(difference6_bat)"
   ]
  },
  {
   "cell_type": "markdown",
   "id": "5726dedb",
   "metadata": {},
   "source": [
    "<font size=\"3\">Lafayette, LA: 0600 UTC (12:00 am CST) 01 March 2022-0600 UTC (12:00 am CST) 02 March 2022</font>"
   ]
  },
  {
   "cell_type": "code",
   "execution_count": 188,
   "id": "4afdefd5",
   "metadata": {},
   "outputs": [
    {
     "name": "stdout",
     "output_type": "stream",
     "text": [
      "[0. 0. 0. 0. 0. 0. 0. 0. 0. 0. 0. 0. 0. 0. 0. 0. 0. 0. 0. 0. 0. 0. 0. 0.\n",
      " 0.]\n"
     ]
    }
   ],
   "source": [
    "#1 hr hrrr:\n",
    "with open('hrrr_f01_Lafayette_LA.txt') as f:\n",
    "    lst=[line.split()[2] for line in f]\n",
    "    temp=[]\n",
    "    for i in lst:\n",
    "        new=i.replace(',',\"\")\n",
    "        temp.append(new)\n",
    "    temp.pop(0)\n",
    "    temp=[float(x) for x in temp]\n",
    "    temp=temp[2789:2814]\n",
    "    #temp=temp[2015:2063]\n",
    "    temp=np.cumsum(temp)\n",
    "    print(temp)\n",
    "#full time period is [2015:2112]"
   ]
  },
  {
   "cell_type": "code",
   "execution_count": 189,
   "id": "8a2dd83c",
   "metadata": {},
   "outputs": [
    {
     "name": "stdout",
     "output_type": "stream",
     "text": [
      "[0. 0. 0. 0. 0. 0. 0. 0. 0. 0. 0. 0. 0. 0. 0. 0. 0. 0. 0. 0. 0. 0. 0. 0.\n",
      " 0.]\n"
     ]
    }
   ],
   "source": [
    "#Air Temp CRN:\n",
    "with open('CRNS0101-05-2022-LA_Lafayette_13_SE.txt') as f:\n",
    "    lst=[line.split()[9] for line in f]\n",
    "    \n",
    "    a=(float(lst[33479])+float(lst[33480]))/2\n",
    "    b=(float(lst[33491])+float(lst[33492]))/2\n",
    "    c=(float(lst[33503])+float(lst[33504]))/2\n",
    "    d=(float(lst[33515])+float(lst[33516]))/2\n",
    "    e=(float(lst[33527])+float(lst[33528]))/2\n",
    "    f=(float(lst[33539])+float(lst[33540]))/2\n",
    "    g=(float(lst[33551])+float(lst[33552]))/2\n",
    "    h=(float(lst[33563])+float(lst[33564]))/2\n",
    "    i=(float(lst[33575])+float(lst[33576]))/2\n",
    "    j=(float(lst[33587])+float(lst[33588]))/2\n",
    "    k=(float(lst[33599])+float(lst[33600]))/2\n",
    "    l=(float(lst[33611])+float(lst[33612]))/2\n",
    "    m=(float(lst[33623])+float(lst[33624]))/2\n",
    "    n=(float(lst[33635])+float(lst[33636]))/2\n",
    "    o=(float(lst[33647])+float(lst[33648]))/2\n",
    "    p=(float(lst[33659])+float(lst[33660]))/2\n",
    "    q=(float(lst[33671])+float(lst[33672]))/2\n",
    "    r=(float(lst[33683])+float(lst[33684]))/2\n",
    "    s=(float(lst[33695])+float(lst[33696]))/2\n",
    "    t=(float(lst[33707])+float(lst[33708]))/2\n",
    "    u=(float(lst[33719])+float(lst[33720]))/2\n",
    "    v=(float(lst[33731])+float(lst[33732]))/2\n",
    "    w=(float(lst[33743])+float(lst[33744]))/2\n",
    "    x=(float(lst[33755])+float(lst[33756]))/2\n",
    "    y=(float(lst[33767])+float(lst[33768]))/2\n",
    "    \n",
    "    temp_crn=[a,b,c,d,e,f,g,h,i,j,k,l,m,n,o,p,q,r,s,t,u,v,w,x,y]\n",
    "    temp_crn=np.cumsum(temp_crn)\n",
    "    print(temp_crn)"
   ]
  },
  {
   "cell_type": "code",
   "execution_count": 190,
   "id": "7b222157",
   "metadata": {},
   "outputs": [
    {
     "name": "stdout",
     "output_type": "stream",
     "text": [
      "[0.0, 0.0, 0.0, 0.0, 0.0, 0.0, 0.0, 0.0, 0.0, 0.0, 0.0, 0.0, 0.0, 0.0, 0.0, 0.0, 0.0, 0.0, 0.0, 0.0, 0.0, 0.0, 0.0, 0.0, 0.0]\n"
     ]
    }
   ],
   "source": [
    "difference6_laf = []\n",
    "\n",
    "zip_object = zip(temp, temp_crn)\n",
    "for temp_i, temp_crn_i in zip_object:\n",
    "    difference6_laf.append(temp_i-temp_crn_i)\n",
    "\n",
    "print(difference6_laf)"
   ]
  },
  {
   "cell_type": "markdown",
   "id": "de2bb1cb",
   "metadata": {},
   "source": [
    "<font size=\"3\">Monroe, LA: 0600 UTC (12:00 am CST) 01 March 2022-0600 UTC (12:00 am CST) 02 March 2022</font>"
   ]
  },
  {
   "cell_type": "code",
   "execution_count": 191,
   "id": "ebecba2f",
   "metadata": {},
   "outputs": [
    {
     "name": "stdout",
     "output_type": "stream",
     "text": [
      "[0. 0. 0. 0. 0. 0. 0. 0. 0. 0. 0. 0. 0. 0. 0. 0. 0. 0. 0. 0. 0. 0. 0. 0.\n",
      " 0.]\n"
     ]
    }
   ],
   "source": [
    "#1 hr hrrr:\n",
    "with open('hrrr_f01_Monroe_LA.txt') as f:\n",
    "    lst=[line.split()[2] for line in f]\n",
    "    temp=[]\n",
    "    for i in lst:\n",
    "        new=i.replace(',',\"\")\n",
    "        temp.append(new)\n",
    "    temp.pop(0)\n",
    "    temp=[float(x) for x in temp]\n",
    "    temp=temp[2789:2814]\n",
    "    #temp=temp[2015:2063]\n",
    "    temp=np.cumsum(temp)\n",
    "    print(temp)\n",
    "#full time period is [2015:2112]"
   ]
  },
  {
   "cell_type": "code",
   "execution_count": 192,
   "id": "5cea29ca",
   "metadata": {},
   "outputs": [
    {
     "name": "stdout",
     "output_type": "stream",
     "text": [
      "[0. 0. 0. 0. 0. 0. 0. 0. 0. 0. 0. 0. 0. 0. 0. 0. 0. 0. 0. 0. 0. 0. 0. 0.\n",
      " 0.]\n"
     ]
    }
   ],
   "source": [
    "#Air Temp CRN:\n",
    "with open('CRNS0101-05-2022-LA_Monroe_26_N.txt') as f:\n",
    "    lst=[line.split()[9] for line in f]\n",
    "    \n",
    "    a=(float(lst[33479])+float(lst[33480]))/2\n",
    "    b=(float(lst[33491])+float(lst[33492]))/2\n",
    "    c=(float(lst[33503])+float(lst[33504]))/2\n",
    "    d=(float(lst[33515])+float(lst[33516]))/2\n",
    "    e=(float(lst[33527])+float(lst[33528]))/2\n",
    "    f=(float(lst[33539])+float(lst[33540]))/2\n",
    "    g=(float(lst[33551])+float(lst[33552]))/2\n",
    "    h=(float(lst[33563])+float(lst[33564]))/2\n",
    "    i=(float(lst[33575])+float(lst[33576]))/2\n",
    "    j=(float(lst[33587])+float(lst[33588]))/2\n",
    "    k=(float(lst[33599])+float(lst[33600]))/2\n",
    "    l=(float(lst[33611])+float(lst[33612]))/2\n",
    "    m=(float(lst[33623])+float(lst[33624]))/2\n",
    "    n=(float(lst[33635])+float(lst[33636]))/2\n",
    "    o=(float(lst[33647])+float(lst[33648]))/2\n",
    "    p=(float(lst[33659])+float(lst[33660]))/2\n",
    "    q=(float(lst[33671])+float(lst[33672]))/2\n",
    "    r=(float(lst[33683])+float(lst[33684]))/2\n",
    "    s=(float(lst[33695])+float(lst[33696]))/2\n",
    "    t=(float(lst[33707])+float(lst[33708]))/2\n",
    "    u=(float(lst[33719])+float(lst[33720]))/2\n",
    "    v=(float(lst[33731])+float(lst[33732]))/2\n",
    "    w=(float(lst[33743])+float(lst[33744]))/2\n",
    "    x=(float(lst[33755])+float(lst[33756]))/2\n",
    "    y=(float(lst[33767])+float(lst[33768]))/2\n",
    "    \n",
    "    temp_crn=[a,b,c,d,e,f,g,h,i,j,k,l,m,n,o,p,q,r,s,t,u,v,w,x,y]\n",
    "    temp_crn=np.cumsum(temp_crn)\n",
    "    print(temp_crn)"
   ]
  },
  {
   "cell_type": "code",
   "execution_count": 193,
   "id": "7f448702",
   "metadata": {},
   "outputs": [
    {
     "name": "stdout",
     "output_type": "stream",
     "text": [
      "[0.0, 0.0, 0.0, 0.0, 0.0, 0.0, 0.0, 0.0, 0.0, 0.0, 0.0, 0.0, 0.0, 0.0, 0.0, 0.0, 0.0, 0.0, 0.0, 0.0, 0.0, 0.0, 0.0, 0.0, 0.0]\n"
     ]
    }
   ],
   "source": [
    "difference6_mon = []\n",
    "\n",
    "zip_object = zip(temp, temp_crn)\n",
    "for temp_i, temp_crn_i in zip_object:\n",
    "    difference6_mon.append(temp_i-temp_crn_i)\n",
    "\n",
    "print(difference6_mon)"
   ]
  },
  {
   "cell_type": "markdown",
   "id": "49e00369",
   "metadata": {},
   "source": [
    "<font size=\"3\">Holly Springs, MS: 0600 UTC (12:00 am CST) 01 March 2022-0600 UTC (12:00 am CST) 02 March 2022</font>"
   ]
  },
  {
   "cell_type": "code",
   "execution_count": 194,
   "id": "a9302d89",
   "metadata": {},
   "outputs": [
    {
     "name": "stdout",
     "output_type": "stream",
     "text": [
      "[0. 0. 0. 0. 0. 0. 0. 0. 0. 0. 0. 0. 0. 0. 0. 0. 0. 0. 0. 0. 0. 0. 0. 0.\n",
      " 0.]\n"
     ]
    }
   ],
   "source": [
    "#1 hr hrrr:\n",
    "with open('hrrr_f01_Holly Springs_MS.txt') as f:\n",
    "    lst=[line.split()[2] for line in f]\n",
    "    temp=[]\n",
    "    for i in lst:\n",
    "        new=i.replace(',',\"\")\n",
    "        temp.append(new)\n",
    "    temp.pop(0)\n",
    "    temp=[float(x) for x in temp]\n",
    "    temp=temp[2789:2814]\n",
    "    #temp=temp[2015:2063]\n",
    "    temp=np.cumsum(temp)\n",
    "    print(temp)\n",
    "#full time period is [2015:2112]"
   ]
  },
  {
   "cell_type": "code",
   "execution_count": 195,
   "id": "49cb6701",
   "metadata": {},
   "outputs": [
    {
     "name": "stdout",
     "output_type": "stream",
     "text": [
      "[0. 0. 0. 0. 0. 0. 0. 0. 0. 0. 0. 0. 0. 0. 0. 0. 0. 0. 0. 0. 0. 0. 0. 0.\n",
      " 0.]\n"
     ]
    }
   ],
   "source": [
    "#Air Temp CRN:\n",
    "with open('CRNS0101-05-2022-MS_Holly_Springs_4_N.txt') as f:\n",
    "    lst=[line.split()[9] for line in f]\n",
    "    \n",
    "    a=(float(lst[33479])+float(lst[33480]))/2\n",
    "    b=(float(lst[33491])+float(lst[33492]))/2\n",
    "    c=(float(lst[33503])+float(lst[33504]))/2\n",
    "    d=(float(lst[33515])+float(lst[33516]))/2\n",
    "    e=(float(lst[33527])+float(lst[33528]))/2\n",
    "    f=(float(lst[33539])+float(lst[33540]))/2\n",
    "    g=(float(lst[33551])+float(lst[33552]))/2\n",
    "    h=(float(lst[33563])+float(lst[33564]))/2\n",
    "    i=(float(lst[33575])+float(lst[33576]))/2\n",
    "    j=(float(lst[33587])+float(lst[33588]))/2\n",
    "    k=(float(lst[33599])+float(lst[33600]))/2\n",
    "    l=(float(lst[33611])+float(lst[33612]))/2\n",
    "    m=(float(lst[33623])+float(lst[33624]))/2\n",
    "    n=(float(lst[33635])+float(lst[33636]))/2\n",
    "    o=(float(lst[33647])+float(lst[33648]))/2\n",
    "    p=(float(lst[33659])+float(lst[33660]))/2\n",
    "    q=(float(lst[33671])+float(lst[33672]))/2\n",
    "    r=(float(lst[33683])+float(lst[33684]))/2\n",
    "    s=(float(lst[33695])+float(lst[33696]))/2\n",
    "    t=(float(lst[33707])+float(lst[33708]))/2\n",
    "    u=(float(lst[33719])+float(lst[33720]))/2\n",
    "    v=(float(lst[33731])+float(lst[33732]))/2\n",
    "    w=(float(lst[33743])+float(lst[33744]))/2\n",
    "    x=(float(lst[33755])+float(lst[33756]))/2\n",
    "    y=(float(lst[33767])+float(lst[33768]))/2\n",
    "    \n",
    "    temp_crn=[a,b,c,d,e,f,g,h,i,j,k,l,m,n,o,p,q,r,s,t,u,v,w,x,y]\n",
    "    temp_crn=np.cumsum(temp_crn)\n",
    "    print(temp_crn)"
   ]
  },
  {
   "cell_type": "code",
   "execution_count": 196,
   "id": "19a13a82",
   "metadata": {},
   "outputs": [
    {
     "name": "stdout",
     "output_type": "stream",
     "text": [
      "[0.0, 0.0, 0.0, 0.0, 0.0, 0.0, 0.0, 0.0, 0.0, 0.0, 0.0, 0.0, 0.0, 0.0, 0.0, 0.0, 0.0, 0.0, 0.0, 0.0, 0.0, 0.0, 0.0, 0.0, 0.0]\n"
     ]
    }
   ],
   "source": [
    "difference6_hol = []\n",
    "\n",
    "zip_object = zip(temp, temp_crn)\n",
    "for temp_i, temp_crn_i in zip_object:\n",
    "    difference6_hol.append(temp_i-temp_crn_i)\n",
    "\n",
    "print(difference6_hol)"
   ]
  },
  {
   "cell_type": "markdown",
   "id": "4753a3b0",
   "metadata": {},
   "source": [
    "<font size=\"3\">Newton, MS: 0600 UTC (12:00 am CST) 01 March 2022-0600 UTC (12:00 am CST) 02 March 2022</font>"
   ]
  },
  {
   "cell_type": "code",
   "execution_count": 197,
   "id": "68f58603",
   "metadata": {},
   "outputs": [
    {
     "name": "stdout",
     "output_type": "stream",
     "text": [
      "[0. 0. 0. 0. 0. 0. 0. 0. 0. 0. 0. 0. 0. 0. 0. 0. 0. 0. 0. 0. 0. 0. 0. 0.\n",
      " 0.]\n"
     ]
    }
   ],
   "source": [
    "#1 hr hrrr:\n",
    "with open('hrrr_f01_Newton_MS.txt') as f:\n",
    "    lst=[line.split()[2] for line in f]\n",
    "    temp=[]\n",
    "    for i in lst:\n",
    "        new=i.replace(',',\"\")\n",
    "        temp.append(new)\n",
    "    temp.pop(0)\n",
    "    temp=[float(x) for x in temp]\n",
    "    temp=temp[2789:2814]\n",
    "    #temp=temp[2015:2063]\n",
    "    temp=np.cumsum(temp)\n",
    "    print(temp)\n",
    "#full time period is [2015:2112]"
   ]
  },
  {
   "cell_type": "code",
   "execution_count": 198,
   "id": "ddffa4a1",
   "metadata": {},
   "outputs": [
    {
     "name": "stdout",
     "output_type": "stream",
     "text": [
      "[0. 0. 0. 0. 0. 0. 0. 0. 0. 0. 0. 0. 0. 0. 0. 0. 0. 0. 0. 0. 0. 0. 0. 0.\n",
      " 0.]\n"
     ]
    }
   ],
   "source": [
    "#Air Temp CRN:\n",
    "with open('CRNS0101-05-2022-MS_Newton_5_ENE.txt') as f:\n",
    "    lst=[line.split()[9] for line in f]\n",
    "    \n",
    "    a=(float(lst[33479])+float(lst[33480]))/2\n",
    "    b=(float(lst[33491])+float(lst[33492]))/2\n",
    "    c=(float(lst[33503])+float(lst[33504]))/2\n",
    "    d=(float(lst[33515])+float(lst[33516]))/2\n",
    "    e=(float(lst[33527])+float(lst[33528]))/2\n",
    "    f=(float(lst[33539])+float(lst[33540]))/2\n",
    "    g=(float(lst[33551])+float(lst[33552]))/2\n",
    "    h=(float(lst[33563])+float(lst[33564]))/2\n",
    "    i=(float(lst[33575])+float(lst[33576]))/2\n",
    "    j=(float(lst[33587])+float(lst[33588]))/2\n",
    "    k=(float(lst[33599])+float(lst[33600]))/2\n",
    "    l=(float(lst[33611])+float(lst[33612]))/2\n",
    "    m=(float(lst[33623])+float(lst[33624]))/2\n",
    "    n=(float(lst[33635])+float(lst[33636]))/2\n",
    "    o=(float(lst[33647])+float(lst[33648]))/2\n",
    "    p=(float(lst[33659])+float(lst[33660]))/2\n",
    "    q=(float(lst[33671])+float(lst[33672]))/2\n",
    "    r=(float(lst[33683])+float(lst[33684]))/2\n",
    "    s=(float(lst[33695])+float(lst[33696]))/2\n",
    "    t=(float(lst[33707])+float(lst[33708]))/2\n",
    "    u=(float(lst[33719])+float(lst[33720]))/2\n",
    "    v=(float(lst[33731])+float(lst[33732]))/2\n",
    "    w=(float(lst[33743])+float(lst[33744]))/2\n",
    "    x=(float(lst[33755])+float(lst[33756]))/2\n",
    "    y=(float(lst[33767])+float(lst[33768]))/2\n",
    "    \n",
    "    temp_crn=[a,b,c,d,e,f,g,h,i,j,k,l,m,n,o,p,q,r,s,t,u,v,w,x,y]\n",
    "    temp_crn=np.cumsum(temp_crn)\n",
    "    print(temp_crn)"
   ]
  },
  {
   "cell_type": "code",
   "execution_count": 199,
   "id": "d00b8a13",
   "metadata": {},
   "outputs": [
    {
     "name": "stdout",
     "output_type": "stream",
     "text": [
      "[0.0, 0.0, 0.0, 0.0, 0.0, 0.0, 0.0, 0.0, 0.0, 0.0, 0.0, 0.0, 0.0, 0.0, 0.0, 0.0, 0.0, 0.0, 0.0, 0.0, 0.0, 0.0, 0.0, 0.0, 0.0]\n"
     ]
    }
   ],
   "source": [
    "difference6_new = []\n",
    "\n",
    "zip_object = zip(temp, temp_crn)\n",
    "for temp_i, temp_crn_i in zip_object:\n",
    "    difference6_new.append(temp_i-temp_crn_i)\n",
    "\n",
    "print(difference6_new)"
   ]
  },
  {
   "cell_type": "markdown",
   "id": "f6dc6918",
   "metadata": {},
   "source": [
    "<font size=\"3\">Gainesville, AL: 0600 UTC (12:00 am CST) 01 March 2022-0600 UTC (12:00 am CST) 02 March 2022</font>"
   ]
  },
  {
   "cell_type": "code",
   "execution_count": 200,
   "id": "853a5cd2",
   "metadata": {},
   "outputs": [
    {
     "name": "stdout",
     "output_type": "stream",
     "text": [
      "[0. 0. 0. 0. 0. 0. 0. 0. 0. 0. 0. 0. 0. 0. 0. 0. 0. 0. 0. 0. 0. 0. 0. 0.\n",
      " 0.]\n"
     ]
    }
   ],
   "source": [
    "#1 hr hrrr:\n",
    "with open('hrrr_f01_Gainesville_AL.txt') as f:\n",
    "    lst=[line.split()[2] for line in f]\n",
    "    temp=[]\n",
    "    for i in lst:\n",
    "        new=i.replace(',',\"\")\n",
    "        temp.append(new)\n",
    "    temp.pop(0)\n",
    "    temp=[float(x) for x in temp]\n",
    "    temp=temp[2789:2814]\n",
    "    #temp=temp[2015:2063]\n",
    "    temp=np.cumsum(temp)\n",
    "    print(temp)\n",
    "#full time period is [2015:2112]"
   ]
  },
  {
   "cell_type": "code",
   "execution_count": 201,
   "id": "5becbc53",
   "metadata": {},
   "outputs": [
    {
     "name": "stdout",
     "output_type": "stream",
     "text": [
      "[0. 0. 0. 0. 0. 0. 0. 0. 0. 0. 0. 0. 0. 0. 0. 0. 0. 0. 0. 0. 0. 0. 0. 0.\n",
      " 0.]\n"
     ]
    }
   ],
   "source": [
    "#Air Temp CRN:\n",
    "with open('CRNS0101-05-2022-AL_Gainesville_2_NE.txt') as f:\n",
    "    lst=[line.split()[9] for line in f]\n",
    "    \n",
    "    a=(float(lst[33479])+float(lst[33480]))/2\n",
    "    b=(float(lst[33491])+float(lst[33492]))/2\n",
    "    c=(float(lst[33503])+float(lst[33504]))/2\n",
    "    d=(float(lst[33515])+float(lst[33516]))/2\n",
    "    e=(float(lst[33527])+float(lst[33528]))/2\n",
    "    f=(float(lst[33539])+float(lst[33540]))/2\n",
    "    g=(float(lst[33551])+float(lst[33552]))/2\n",
    "    h=(float(lst[33563])+float(lst[33564]))/2\n",
    "    i=(float(lst[33575])+float(lst[33576]))/2\n",
    "    j=(float(lst[33587])+float(lst[33588]))/2\n",
    "    k=(float(lst[33599])+float(lst[33600]))/2\n",
    "    l=(float(lst[33611])+float(lst[33612]))/2\n",
    "    m=(float(lst[33623])+float(lst[33624]))/2\n",
    "    n=(float(lst[33635])+float(lst[33636]))/2\n",
    "    o=(float(lst[33647])+float(lst[33648]))/2\n",
    "    p=(float(lst[33659])+float(lst[33660]))/2\n",
    "    q=(float(lst[33671])+float(lst[33672]))/2\n",
    "    r=(float(lst[33683])+float(lst[33684]))/2\n",
    "    s=(float(lst[33695])+float(lst[33696]))/2\n",
    "    t=(float(lst[33707])+float(lst[33708]))/2\n",
    "    u=(float(lst[33719])+float(lst[33720]))/2\n",
    "    v=(float(lst[33731])+float(lst[33732]))/2\n",
    "    w=(float(lst[33743])+float(lst[33744]))/2\n",
    "    x=(float(lst[33755])+float(lst[33756]))/2\n",
    "    y=(float(lst[33767])+float(lst[33768]))/2\n",
    "    \n",
    "    temp_crn=[a,b,c,d,e,f,g,h,i,j,k,l,m,n,o,p,q,r,s,t,u,v,w,x,y]\n",
    "    temp_crn=np.cumsum(temp_crn)\n",
    "    print(temp_crn)"
   ]
  },
  {
   "cell_type": "code",
   "execution_count": 202,
   "id": "182dac80",
   "metadata": {},
   "outputs": [
    {
     "name": "stdout",
     "output_type": "stream",
     "text": [
      "[0.0, 0.0, 0.0, 0.0, 0.0, 0.0, 0.0, 0.0, 0.0, 0.0, 0.0, 0.0, 0.0, 0.0, 0.0, 0.0, 0.0, 0.0, 0.0, 0.0, 0.0, 0.0, 0.0, 0.0, 0.0]\n"
     ]
    }
   ],
   "source": [
    "difference6_gai = []\n",
    "\n",
    "zip_object = zip(temp, temp_crn)\n",
    "for temp_i, temp_crn_i in zip_object:\n",
    "    difference6_gai.append(temp_i-temp_crn_i)\n",
    "\n",
    "print(difference6_gai)"
   ]
  },
  {
   "cell_type": "markdown",
   "id": "dca2fd19",
   "metadata": {},
   "source": [
    "<font size=\"3\">Fairhope, AL: 0600 UTC (12:00 am CST) 01 March 2022-0600 UTC (12:00 am CST) 02 March 2022</font>"
   ]
  },
  {
   "cell_type": "code",
   "execution_count": 203,
   "id": "a7ac678b",
   "metadata": {},
   "outputs": [
    {
     "name": "stdout",
     "output_type": "stream",
     "text": [
      "[0. 0. 0. 0. 0. 0. 0. 0. 0. 0. 0. 0. 0. 0. 0. 0. 0. 0. 0. 0. 0. 0. 0. 0.\n",
      " 0.]\n"
     ]
    }
   ],
   "source": [
    "#1 hr hrrr:\n",
    "with open('hrrr_f01_Fairhope_AL.txt') as f:\n",
    "    lst=[line.split()[2] for line in f]\n",
    "    temp=[]\n",
    "    for i in lst:\n",
    "        new=i.replace(',',\"\")\n",
    "        temp.append(new)\n",
    "    temp.pop(0)\n",
    "    temp=[float(x) for x in temp]\n",
    "    temp=temp[2789:2814]\n",
    "    #temp=temp[2015:2063]\n",
    "    temp=np.cumsum(temp)\n",
    "    print(temp)\n",
    "#full time period is [2015:2112]"
   ]
  },
  {
   "cell_type": "code",
   "execution_count": 204,
   "id": "eaa19ef2",
   "metadata": {},
   "outputs": [
    {
     "name": "stdout",
     "output_type": "stream",
     "text": [
      "[0. 0. 0. 0. 0. 0. 0. 0. 0. 0. 0. 0. 0. 0. 0. 0. 0. 0. 0. 0. 0. 0. 0. 0.\n",
      " 0.]\n"
     ]
    }
   ],
   "source": [
    "#Air Temp CRN:\n",
    "with open('CRNS0101-05-2022-AL_Fairhope_3_NE.txt') as f:\n",
    "    lst=[line.split()[9] for line in f]\n",
    "    \n",
    "    a=(float(lst[33479])+float(lst[33480]))/2\n",
    "    b=(float(lst[33491])+float(lst[33492]))/2\n",
    "    c=(float(lst[33503])+float(lst[33504]))/2\n",
    "    d=(float(lst[33515])+float(lst[33516]))/2\n",
    "    e=(float(lst[33527])+float(lst[33528]))/2\n",
    "    f=(float(lst[33539])+float(lst[33540]))/2\n",
    "    g=(float(lst[33551])+float(lst[33552]))/2\n",
    "    h=(float(lst[33563])+float(lst[33564]))/2\n",
    "    i=(float(lst[33575])+float(lst[33576]))/2\n",
    "    j=(float(lst[33587])+float(lst[33588]))/2\n",
    "    k=(float(lst[33599])+float(lst[33600]))/2\n",
    "    l=(float(lst[33611])+float(lst[33612]))/2\n",
    "    m=(float(lst[33623])+float(lst[33624]))/2\n",
    "    n=(float(lst[33635])+float(lst[33636]))/2\n",
    "    o=(float(lst[33647])+float(lst[33648]))/2\n",
    "    p=(float(lst[33659])+float(lst[33660]))/2\n",
    "    q=(float(lst[33671])+float(lst[33672]))/2\n",
    "    r=(float(lst[33683])+float(lst[33684]))/2\n",
    "    s=(float(lst[33695])+float(lst[33696]))/2\n",
    "    t=(float(lst[33707])+float(lst[33708]))/2\n",
    "    u=(float(lst[33719])+float(lst[33720]))/2\n",
    "    v=(float(lst[33731])+float(lst[33732]))/2\n",
    "    w=(float(lst[33743])+float(lst[33744]))/2\n",
    "    x=(float(lst[33755])+float(lst[33756]))/2\n",
    "    y=(float(lst[33767])+float(lst[33768]))/2\n",
    "    \n",
    "    temp_crn=[a,b,c,d,e,f,g,h,i,j,k,l,m,n,o,p,q,r,s,t,u,v,w,x,y]\n",
    "    temp_crn=np.cumsum(temp_crn)\n",
    "    print(temp_crn)"
   ]
  },
  {
   "cell_type": "code",
   "execution_count": 205,
   "id": "c79c3a66",
   "metadata": {},
   "outputs": [
    {
     "name": "stdout",
     "output_type": "stream",
     "text": [
      "[0.0, 0.0, 0.0, 0.0, 0.0, 0.0, 0.0, 0.0, 0.0, 0.0, 0.0, 0.0, 0.0, 0.0, 0.0, 0.0, 0.0, 0.0, 0.0, 0.0, 0.0, 0.0, 0.0, 0.0, 0.0]\n"
     ]
    }
   ],
   "source": [
    "difference6_fai = []\n",
    "\n",
    "zip_object = zip(temp, temp_crn)\n",
    "for temp_i, temp_crn_i in zip_object:\n",
    "    difference6_fai.append(temp_i-temp_crn_i)\n",
    "\n",
    "print(difference6_fai)"
   ]
  },
  {
   "cell_type": "markdown",
   "id": "142d4e9c",
   "metadata": {},
   "source": [
    "<font size=\"3\">**Selma, AL: 0600 UTC (12:00 am CST) 01 March 2022-0600 UTC (12:00 am CST) 02 March 2022</font>"
   ]
  },
  {
   "cell_type": "code",
   "execution_count": 206,
   "id": "96d329b9",
   "metadata": {},
   "outputs": [
    {
     "name": "stdout",
     "output_type": "stream",
     "text": [
      "[0. 0. 0. 0. 0. 0. 0. 0. 0. 0. 0. 0. 0. 0. 0. 0. 0. 0. 0. 0. 0. 0. 0. 0.\n",
      " 0.]\n"
     ]
    }
   ],
   "source": [
    "#1 hr hrrr:\n",
    "import numpy as np\n",
    "import numpy.ma as ma\n",
    "with open('hrrr_f01_Selma_AL.txt') as f:\n",
    "    lst=[line.split()[2] for line in f]\n",
    "    temp=[]\n",
    "    for i in lst:\n",
    "        new=i.replace(',',\"\")\n",
    "        temp.append(new)\n",
    "    temp.pop(0)\n",
    "    temp=[float(x) for x in temp]\n",
    "    temp=temp[2789:2814]\n",
    "\n",
    "#     x = np.array(temp)\n",
    "#     temp = ma.masked_array(x, mask=[0, 0, 0, 0, 0,0,0,0,0,0,0,0,0,0,0,0,0,1,1,1,1,0,0,0,0])\n",
    "    temp=np.cumsum(temp)\n",
    "    print(temp)"
   ]
  },
  {
   "cell_type": "code",
   "execution_count": 207,
   "id": "08c28298",
   "metadata": {},
   "outputs": [
    {
     "name": "stdout",
     "output_type": "stream",
     "text": [
      "[0. 0. 0. 0. 0. 0. 0. 0. 0. 0. 0. 0. 0. 0. 0. 0. 0. 0. 0. 0. 0. 0. 0. 0.\n",
      " 0.]\n"
     ]
    }
   ],
   "source": [
    "#Air Temp CRN:\n",
    "with open('CRNS0101-05-2022-AL_Selma_13_WNW.txt') as f:\n",
    "    lst=[line.split()[9] for line in f]\n",
    "    \n",
    "    a=(float(lst[33479])+float(lst[33480]))/2\n",
    "    b=(float(lst[33491])+float(lst[33492]))/2\n",
    "    c=(float(lst[33503])+float(lst[33504]))/2\n",
    "    d=(float(lst[33515])+float(lst[33516]))/2\n",
    "    e=(float(lst[33527])+float(lst[33528]))/2\n",
    "    f=(float(lst[33539])+float(lst[33540]))/2\n",
    "    g=(float(lst[33551])+float(lst[33552]))/2\n",
    "    h=(float(lst[33563])+float(lst[33564]))/2\n",
    "    i=(float(lst[33575])+float(lst[33576]))/2\n",
    "    j=(float(lst[33587])+float(lst[33588]))/2\n",
    "    k=(float(lst[33599])+float(lst[33600]))/2\n",
    "    l=(float(lst[33611])+float(lst[33612]))/2\n",
    "    m=(float(lst[33623])+float(lst[33624]))/2\n",
    "    n=(float(lst[33635])+float(lst[33636]))/2\n",
    "    o=(float(lst[33647])+float(lst[33648]))/2\n",
    "    p=(float(lst[33659])+float(lst[33660]))/2\n",
    "    q=(float(lst[33671])+float(lst[33672]))/2\n",
    "    r=(float(lst[33683])+float(lst[33684]))/2\n",
    "    s=(float(lst[33695])+float(lst[33696]))/2\n",
    "    t=(float(lst[33707])+float(lst[33708]))/2\n",
    "    u=(float(lst[33719])+float(lst[33720]))/2\n",
    "    v=(float(lst[33731])+float(lst[33732]))/2\n",
    "    w=(float(lst[33743])+float(lst[33744]))/2\n",
    "    x=(float(lst[33755])+float(lst[33756]))/2\n",
    "    y=(float(lst[33767])+float(lst[33768]))/2\n",
    "    \n",
    "    temp_crn=[a,b,c,d,e,f,g,h,i,j,k,l,m,n,o,p,q,r,s,t,u,v,w,x,y]\n",
    "    temp_crn=np.cumsum(temp_crn)\n",
    "    print(temp_crn)"
   ]
  },
  {
   "cell_type": "code",
   "execution_count": 208,
   "id": "9d9623a2",
   "metadata": {},
   "outputs": [
    {
     "name": "stdout",
     "output_type": "stream",
     "text": [
      "[0.0, 0.0, 0.0, 0.0, 0.0, 0.0, 0.0, 0.0, 0.0, 0.0, 0.0, 0.0, 0.0, 0.0, 0.0, 0.0, 0.0, 0.0, 0.0, 0.0, 0.0, 0.0, 0.0, 0.0, 0.0]\n"
     ]
    }
   ],
   "source": [
    "difference6_sel = []\n",
    "\n",
    "zip_object = zip(temp, temp_crn)\n",
    "for temp_i, temp_crn_i in zip_object:\n",
    "    difference6_sel.append(temp_i-temp_crn_i)\n",
    "\n",
    "print(difference6_sel)\n",
    "#print(len(difference3_sel))"
   ]
  },
  {
   "cell_type": "markdown",
   "id": "36c4d6a8",
   "metadata": {},
   "source": [
    "<font size=\"3\">Bowling Green, KY: 0600 UTC (12:00 am CST) 01 March 2022-0600 UTC (12:00 am CST) 02 March 2022</font>"
   ]
  },
  {
   "cell_type": "code",
   "execution_count": 209,
   "id": "d83d7c4d",
   "metadata": {},
   "outputs": [
    {
     "name": "stdout",
     "output_type": "stream",
     "text": [
      "[0. 0. 0. 0. 0. 0. 0. 0. 0. 0. 0. 0. 0. 0. 0. 0. 0. 0. 0. 0. 0. 0. 0. 0.\n",
      " 0.]\n"
     ]
    }
   ],
   "source": [
    "#1 hr hrrr:\n",
    "with open('hrrr_f01_Bowling Green_KY.txt') as f:\n",
    "    lst=[line.split()[2] for line in f]\n",
    "    temp=[]\n",
    "    for i in lst:\n",
    "        new=i.replace(',',\"\")\n",
    "        temp.append(new)\n",
    "    temp.pop(0)\n",
    "    temp=[float(x) for x in temp]\n",
    "    temp=temp[2789:2814]\n",
    "    #temp=temp[2015:2063]\n",
    "    temp=np.cumsum(temp)\n",
    "    print(temp)\n",
    "#full time period is [2015:2112]"
   ]
  },
  {
   "cell_type": "code",
   "execution_count": 210,
   "id": "e74d2987",
   "metadata": {},
   "outputs": [
    {
     "name": "stdout",
     "output_type": "stream",
     "text": [
      "[0. 0. 0. 0. 0. 0. 0. 0. 0. 0. 0. 0. 0. 0. 0. 0. 0. 0. 0. 0. 0. 0. 0. 0.\n",
      " 0.]\n"
     ]
    }
   ],
   "source": [
    "#Air Temp CRN:\n",
    "with open('CRNS0101-05-2022-KY_Bowling_Green_21_NNE.txt') as f:\n",
    "    lst=[line.split()[9] for line in f]\n",
    "    \n",
    "    a=(float(lst[33479])+float(lst[33480]))/2\n",
    "    b=(float(lst[33491])+float(lst[33492]))/2\n",
    "    c=(float(lst[33503])+float(lst[33504]))/2\n",
    "    d=(float(lst[33515])+float(lst[33516]))/2\n",
    "    e=(float(lst[33527])+float(lst[33528]))/2\n",
    "    f=(float(lst[33539])+float(lst[33540]))/2\n",
    "    g=(float(lst[33551])+float(lst[33552]))/2\n",
    "    h=(float(lst[33563])+float(lst[33564]))/2\n",
    "    i=(float(lst[33575])+float(lst[33576]))/2\n",
    "    j=(float(lst[33587])+float(lst[33588]))/2\n",
    "    k=(float(lst[33599])+float(lst[33600]))/2\n",
    "    l=(float(lst[33611])+float(lst[33612]))/2\n",
    "    m=(float(lst[33623])+float(lst[33624]))/2\n",
    "    n=(float(lst[33635])+float(lst[33636]))/2\n",
    "    o=(float(lst[33647])+float(lst[33648]))/2\n",
    "    p=(float(lst[33659])+float(lst[33660]))/2\n",
    "    q=(float(lst[33671])+float(lst[33672]))/2\n",
    "    r=(float(lst[33683])+float(lst[33684]))/2\n",
    "    s=(float(lst[33695])+float(lst[33696]))/2\n",
    "    t=(float(lst[33707])+float(lst[33708]))/2\n",
    "    u=(float(lst[33719])+float(lst[33720]))/2\n",
    "    v=(float(lst[33731])+float(lst[33732]))/2\n",
    "    w=(float(lst[33743])+float(lst[33744]))/2\n",
    "    x=(float(lst[33755])+float(lst[33756]))/2\n",
    "    y=(float(lst[33767])+float(lst[33768]))/2\n",
    "    \n",
    "    temp_crn=[a,b,c,d,e,f,g,h,i,j,k,l,m,n,o,p,q,r,s,t,u,v,w,x,y]\n",
    "    temp_crn=np.cumsum(temp_crn)\n",
    "    print(temp_crn)"
   ]
  },
  {
   "cell_type": "code",
   "execution_count": 211,
   "id": "e091d5ac",
   "metadata": {},
   "outputs": [
    {
     "name": "stdout",
     "output_type": "stream",
     "text": [
      "[0.0, 0.0, 0.0, 0.0, 0.0, 0.0, 0.0, 0.0, 0.0, 0.0, 0.0, 0.0, 0.0, 0.0, 0.0, 0.0, 0.0, 0.0, 0.0, 0.0, 0.0, 0.0, 0.0, 0.0, 0.0]\n"
     ]
    }
   ],
   "source": [
    "difference6_bow = []\n",
    "\n",
    "zip_object = zip(temp, temp_crn)\n",
    "for temp_i, temp_crn_i in zip_object:\n",
    "    difference6_bow.append(temp_i-temp_crn_i)\n",
    "\n",
    "print(difference6_bow)"
   ]
  },
  {
   "cell_type": "markdown",
   "id": "f806c48f",
   "metadata": {},
   "source": [
    "<font size=\"3\">Gadsden, AL: 0600 UTC (12:00 am CST) 01 March 2022-0600 UTC (12:00 am CST) 02 March 2022</font>"
   ]
  },
  {
   "cell_type": "code",
   "execution_count": 212,
   "id": "8d69cb25",
   "metadata": {},
   "outputs": [],
   "source": [
    "# #1 hr hrrr:\n",
    "# with open('hrrr_f01_Gadsden_AL.txt') as f:\n",
    "#     lst=[line.split()[2] for line in f]\n",
    "#     temp=[]\n",
    "#     for i in lst:\n",
    "#         new=i.replace(',',\"\")\n",
    "#         temp.append(new)\n",
    "#     temp.pop(0)\n",
    "#     temp=[float(x) for x in temp]\n",
    "#     temp=temp[2789:2814]\n",
    "# #     x = np.array(temp)\n",
    "# #     temp = ma.masked_array(x, mask=[0, 0, 0, 0, 0,0,0,0,1,0,0,0,0,0,0,0,0,0,0,0,0,0,0,0,0])\n",
    "#     #temp=temp[2015:2063]\n",
    "#     temp=np.cumsum(temp)\n",
    "#     print(temp)\n",
    "# #full time period is [2015:2112]"
   ]
  },
  {
   "cell_type": "code",
   "execution_count": 213,
   "id": "8090f870",
   "metadata": {},
   "outputs": [],
   "source": [
    "# #Air Temp CRN:\n",
    "# with open('CRNS0101-05-2022-AL_Gadsden_19_N.txt') as f:\n",
    "#     lst=[line.split()[9] for line in f]\n",
    "    \n",
    "#     a=(float(lst[33479])+float(lst[33480]))/2\n",
    "#     b=(float(lst[33491])+float(lst[33492]))/2\n",
    "#     c=(float(lst[33503])+float(lst[33504]))/2\n",
    "#     d=(float(lst[33515])+float(lst[33516]))/2\n",
    "#     e=(float(lst[33527])+float(lst[33528]))/2\n",
    "#     f=(float(lst[33539])+float(lst[33540]))/2\n",
    "#     g=(float(lst[33551])+float(lst[33552]))/2\n",
    "#     h=(float(lst[33563])+float(lst[33564]))/2\n",
    "#     i=(float(lst[33575])+float(lst[33576]))/2\n",
    "#     j=(float(lst[33587])+float(lst[33588]))/2\n",
    "#     k=(float(lst[33599])+float(lst[33600]))/2\n",
    "#     l=(float(lst[33611])+float(lst[33612]))/2\n",
    "#     m=(float(lst[33623])+float(lst[33624]))/2\n",
    "#     n=(float(lst[33635])+float(lst[33636]))/2\n",
    "#     o=(float(lst[33647])+float(lst[33648]))/2\n",
    "#     p=(float(lst[33659])+float(lst[33660]))/2\n",
    "#     q=(float(lst[33671])+float(lst[33672]))/2\n",
    "#     r=(float(lst[33683])+float(lst[33684]))/2\n",
    "#     s=(float(lst[33695])+float(lst[33696]))/2\n",
    "#     t=(float(lst[33707])+float(lst[33708]))/2\n",
    "#     u=(float(lst[33719])+float(lst[33720]))/2\n",
    "#     v=(float(lst[33731])+float(lst[33732]))/2\n",
    "#     w=(float(lst[33743])+float(lst[33744]))/2\n",
    "#     x=(float(lst[33755])+float(lst[33756]))/2\n",
    "#     y=(float(lst[33767])+float(lst[33768]))/2\n",
    "    \n",
    "#     temp_crn=[a,b,c,d,e,f,g,h,i,j,k,l,m,n,o,p,q,r,s,t,u,v,w,x,y]\n",
    "#     temp_crn=np.cumsum(temp_crn)\n",
    "#     print(temp_crn)"
   ]
  },
  {
   "cell_type": "code",
   "execution_count": 214,
   "id": "8b6d3e05",
   "metadata": {},
   "outputs": [],
   "source": [
    "# difference6_gad = []\n",
    "\n",
    "# zip_object = zip(temp, temp_crn)\n",
    "# for temp_i, temp_crn_i in zip_object:\n",
    "#     difference6_gad.append(temp_i-temp_crn_i)\n",
    "\n",
    "# print(difference6_gad)"
   ]
  },
  {
   "cell_type": "markdown",
   "id": "a0cf3d12",
   "metadata": {},
   "source": [
    "<font size=\"3\">Newton, GA: 0600 UTC (12:00 am CST) 01 March 2022-0600 UTC (12:00 am CST) 02 March 2022</font>"
   ]
  },
  {
   "cell_type": "code",
   "execution_count": 215,
   "id": "3fd04e58",
   "metadata": {},
   "outputs": [
    {
     "name": "stdout",
     "output_type": "stream",
     "text": [
      "[0. 0. 0. 0. 0. 0. 0. 0. 0. 0. 0. 0. 0. 0. 0. 0. 0. 0. 0. 0. 0. 0. 0. 0.\n",
      " 0.]\n"
     ]
    }
   ],
   "source": [
    "#1 hr hrrr:\n",
    "with open('hrrr_f01_Newton_GA.txt') as f:\n",
    "    lst=[line.split()[2] for line in f]\n",
    "    temp=[]\n",
    "    for i in lst:\n",
    "        new=i.replace(',',\"\")\n",
    "        temp.append(new)\n",
    "    temp.pop(0)\n",
    "    temp=[float(x) for x in temp]\n",
    "    temp=temp[2789:2814]\n",
    "    #temp=temp[2015:2063]\n",
    "    temp=np.cumsum(temp)\n",
    "    print(temp)\n",
    "#full time period is [2015:2112]"
   ]
  },
  {
   "cell_type": "code",
   "execution_count": 216,
   "id": "b2f733b9",
   "metadata": {},
   "outputs": [
    {
     "name": "stdout",
     "output_type": "stream",
     "text": [
      "[0. 0. 0. 0. 0. 0. 0. 0. 0. 0. 0. 0. 0. 0. 0. 0. 0. 0. 0. 0. 0. 0. 0. 0.\n",
      " 0.]\n"
     ]
    }
   ],
   "source": [
    "#Air Temp CRN:\n",
    "with open('CRNS0101-05-2022-GA_Newton_11_SW.txt') as f:\n",
    "    lst=[line.split()[9] for line in f]\n",
    "    \n",
    "    a=(float(lst[33479])+float(lst[33480]))/2\n",
    "    b=(float(lst[33491])+float(lst[33492]))/2\n",
    "    c=(float(lst[33503])+float(lst[33504]))/2\n",
    "    d=(float(lst[33515])+float(lst[33516]))/2\n",
    "    e=(float(lst[33527])+float(lst[33528]))/2\n",
    "    f=(float(lst[33539])+float(lst[33540]))/2\n",
    "    g=(float(lst[33551])+float(lst[33552]))/2\n",
    "    h=(float(lst[33563])+float(lst[33564]))/2\n",
    "    i=(float(lst[33575])+float(lst[33576]))/2\n",
    "    j=(float(lst[33587])+float(lst[33588]))/2\n",
    "    k=(float(lst[33599])+float(lst[33600]))/2\n",
    "    l=(float(lst[33611])+float(lst[33612]))/2\n",
    "    m=(float(lst[33623])+float(lst[33624]))/2\n",
    "    n=(float(lst[33635])+float(lst[33636]))/2\n",
    "    o=(float(lst[33647])+float(lst[33648]))/2\n",
    "    p=(float(lst[33659])+float(lst[33660]))/2\n",
    "    q=(float(lst[33671])+float(lst[33672]))/2\n",
    "    r=(float(lst[33683])+float(lst[33684]))/2\n",
    "    s=(float(lst[33695])+float(lst[33696]))/2\n",
    "    t=(float(lst[33707])+float(lst[33708]))/2\n",
    "    u=(float(lst[33719])+float(lst[33720]))/2\n",
    "    v=(float(lst[33731])+float(lst[33732]))/2\n",
    "    w=(float(lst[33743])+float(lst[33744]))/2\n",
    "    x=(float(lst[33755])+float(lst[33756]))/2\n",
    "    y=(float(lst[33767])+float(lst[33768]))/2\n",
    "    \n",
    "    temp_crn=[a,b,c,d,e,f,g,h,i,j,k,l,m,n,o,p,q,r,s,t,u,v,w,x,y]\n",
    "    temp_crn=np.cumsum(temp_crn)\n",
    "    print(temp_crn)"
   ]
  },
  {
   "cell_type": "code",
   "execution_count": 217,
   "id": "53f1a23a",
   "metadata": {},
   "outputs": [
    {
     "name": "stdout",
     "output_type": "stream",
     "text": [
      "[0.0, 0.0, 0.0, 0.0, 0.0, 0.0, 0.0, 0.0, 0.0, 0.0, 0.0, 0.0, 0.0, 0.0, 0.0, 0.0, 0.0, 0.0, 0.0, 0.0, 0.0, 0.0, 0.0, 0.0, 0.0]\n"
     ]
    }
   ],
   "source": [
    "difference6_newt = []\n",
    "\n",
    "zip_object = zip(temp, temp_crn)\n",
    "for temp_i, temp_crn_i in zip_object:\n",
    "    difference6_newt.append(temp_i-temp_crn_i)\n",
    "\n",
    "print(difference6_newt)"
   ]
  },
  {
   "cell_type": "code",
   "execution_count": 218,
   "id": "8a134c48",
   "metadata": {},
   "outputs": [
    {
     "name": "stdout",
     "output_type": "stream",
     "text": [
      "25\n"
     ]
    }
   ],
   "source": [
    "hour=[6,7,8,9,10,11,12,13,14,15,16,17,18,19,20,21,22,23,0,1,2,3,4,5,6]\n",
    "print(len(hour))"
   ]
  },
  {
   "cell_type": "code",
   "execution_count": 219,
   "id": "45def68f",
   "metadata": {},
   "outputs": [
    {
     "name": "stdout",
     "output_type": "stream",
     "text": [
      "range(0, 25)\n"
     ]
    }
   ],
   "source": [
    "xs = range(len(hour))\n",
    "print(xs)"
   ]
  },
  {
   "cell_type": "code",
   "execution_count": 223,
   "id": "d5fd370b",
   "metadata": {},
   "outputs": [
    {
     "name": "stdout",
     "output_type": "stream",
     "text": [
      "[ 0.          0.          0.          0.          0.          0.\n",
      "  0.         -0.00909091 -0.00909091 -0.00909091 -0.00909091 -0.00909091\n",
      " -0.00909091 -0.00909091 -0.00909091 -0.00909091 -0.00909091 -0.00909091\n",
      " -0.00909091 -0.00909091 -0.00909091 -0.00909091 -0.00909091 -0.00909091\n",
      " -0.00909091]\n",
      "[0.         0.         0.         0.         0.         0.\n",
      " 0.         0.02874798 0.02874798 0.02874798 0.02874798 0.02874798\n",
      " 0.02874798 0.02874798 0.02874798 0.02874798 0.02874798 0.02874798\n",
      " 0.02874798 0.02874798 0.02874798 0.02874798 0.02874798 0.02874798\n",
      " 0.02874798]\n"
     ]
    },
    {
     "data": {
      "text/plain": [
       "25"
      ]
     },
     "execution_count": 223,
     "metadata": {},
     "output_type": "execute_result"
    }
   ],
   "source": [
    "# data = np.array([difference1_sal,difference1_sel,difference1_mon])\n",
    "# np.ma.average(data, axis=0)\n",
    "c1 = np.array([difference1_sal,difference1_bat,difference1_laf,difference1_mon,difference1_hol,difference1_new,difference1_gai,difference1_fai,difference1_sel,difference1_bow,difference1_gad])\n",
    "c1=np.nanmean(c1, axis=0)\n",
    "print(c1)\n",
    "len(c1)\n",
    "\n",
    "b1 = np.array([difference1_sal,difference1_bat,difference1_laf,difference1_mon,difference1_hol,difference1_new,difference1_gai,difference1_fai,difference1_sel,difference1_bow,difference1_gad])\n",
    "b1=np.nanstd(b1, axis=0)\n",
    "print(b1)\n",
    "len(b1)"
   ]
  },
  {
   "cell_type": "code",
   "execution_count": 224,
   "id": "7d6e3e43",
   "metadata": {},
   "outputs": [
    {
     "data": {
      "image/png": "[encoded data removed]",
      "text/plain": [
       "<Figure size 792x396 with 1 Axes>"
      ]
     },
     "metadata": {},
     "output_type": "display_data"
    }
   ],
   "source": [
    "plt.style.use('seaborn-whitegrid')\n",
    "plt.rcParams[\"figure.figsize\"] = [11.00, 5.50]\n",
    "plt.rcParams[\"figure.autolayout\"] = True\n",
    "plt.yticks(np.arange(-0.2,0.25,0.05))\n",
    "plt.ylim(-0.2, 0.2)\n",
    "# c[6]=None\n",
    "# b[6]=None\n",
    "\n",
    "plt.plot(xs,c1,c=\"blue\")\n",
    "plt.errorbar(xs,c1,c=\"b\",yerr=b1,linestyle='None', marker='s')\n",
    "# c[6]=None\n",
    "# b[6]=None\n",
    "\n",
    "plt.title(\"1-hr Avg. MBE All Stations\")\n",
    "plt.xlabel(\"Time Relative to Event Passage\")\n",
    "plt.ylabel(\"MBE Cumulative Precipitation (mm)\")\n",
    "#plt.plot(hour,c)\n",
    "#plt.errorbar(hour,c,yerr=b,ecolor='r',elinewidth=5,fmt='s',color='k')\n",
    "#plt.grid()\n",
    "plt.xticks(xs, hour)\n",
    "plt.show()\n",
    "#plt.axvspan(-4, 4, color='green', alpha=0.2, lw=0)"
   ]
  },
  {
   "cell_type": "code",
   "execution_count": 225,
   "id": "3931d44b",
   "metadata": {},
   "outputs": [
    {
     "name": "stdout",
     "output_type": "stream",
     "text": [
      "[0. 0. 0. 0. 0. 0. 0. 0. 0. 0. 0. 0. 0. 0. 0. 0. 0. 0. 0. 0. 0. 0. 0. 0.\n",
      " 0.]\n",
      "[0. 0. 0. 0. 0. 0. 0. 0. 0. 0. 0. 0. 0. 0. 0. 0. 0. 0. 0. 0. 0. 0. 0. 0.\n",
      " 0.]\n"
     ]
    },
    {
     "data": {
      "text/plain": [
       "25"
      ]
     },
     "execution_count": 225,
     "metadata": {},
     "output_type": "execute_result"
    }
   ],
   "source": [
    "c2 = np.array([difference2_sal,difference2_bat,difference2_laf,difference2_mon,difference2_hol,difference2_new,difference2_gai,difference2_fai,difference2_sel,difference2_bow,difference2_newt])\n",
    "c2=np.nanmean(c2, axis=0)\n",
    "print(c2)\n",
    "len(c2)\n",
    "\n",
    "b2 = np.array([difference2_sal,difference2_bat,difference2_laf,difference2_mon,difference2_hol,difference2_new,difference2_gai,difference2_fai,difference2_sel,difference2_bow,difference2_newt])\n",
    "b2=np.nanstd(b2, axis=0)\n",
    "print(b2)\n",
    "len(b2)"
   ]
  },
  {
   "cell_type": "code",
   "execution_count": 226,
   "id": "4c8ac8a3",
   "metadata": {},
   "outputs": [
    {
     "data": {
      "image/png": "[encoded data removed]",
      "text/plain": [
       "<Figure size 792x396 with 1 Axes>"
      ]
     },
     "metadata": {},
     "output_type": "display_data"
    }
   ],
   "source": [
    "plt.style.use('seaborn-whitegrid')\n",
    "plt.rcParams[\"figure.figsize\"] = [11.00, 5.50]\n",
    "plt.rcParams[\"figure.autolayout\"] = True\n",
    "plt.yticks(np.arange(-0.2,0.25,0.05))\n",
    "plt.ylim(-0.2, 0.2)\n",
    "# c[6]=None\n",
    "# b[6]=None\n",
    "\n",
    "plt.plot(xs,c2,c=\"r\")\n",
    "plt.errorbar(xs,c2,c=\"r\",yerr=b2,linestyle='None', marker='s')\n",
    "# c[6]=None\n",
    "# b[6]=None\n",
    "\n",
    "plt.title(\"1-hr Avg. MBE All Stations\")\n",
    "plt.xlabel(\"Time Relative to Event Passage\")\n",
    "plt.ylabel(\"MBE Cumulative Precipitation (mm)\")\n",
    "#plt.plot(hour,c)\n",
    "#plt.errorbar(hour,c,yerr=b,ecolor='r',elinewidth=5,fmt='s',color='k')\n",
    "#plt.grid()\n",
    "plt.xticks(xs, hour)\n",
    "plt.show()\n",
    "#plt.axvspan(-4, 4, color='green', alpha=0.2, lw=0)"
   ]
  },
  {
   "cell_type": "code",
   "execution_count": 227,
   "id": "e7aee5e0",
   "metadata": {},
   "outputs": [
    {
     "name": "stdout",
     "output_type": "stream",
     "text": [
      "[0. 0. 0. 0. 0. 0. 0. 0. 0. 0. 0. 0. 0. 0. 0. 0. 0. 0. 0. 0. 0. 0. 0. 0.\n",
      " 0.]\n",
      "[0. 0. 0. 0. 0. 0. 0. 0. 0. 0. 0. 0. 0. 0. 0. 0. 0. 0. 0. 0. 0. 0. 0. 0.\n",
      " 0.]\n"
     ]
    },
    {
     "data": {
      "text/plain": [
       "25"
      ]
     },
     "execution_count": 227,
     "metadata": {},
     "output_type": "execute_result"
    }
   ],
   "source": [
    "c3 = np.array([difference3_sal,difference3_bat,difference3_laf,difference3_mon,difference3_hol,difference3_new,difference3_gai,difference3_fai,difference3_sel,difference3_bow,difference3_newt])\n",
    "c3=np.nanmean(c3, axis=0)\n",
    "print(c3)\n",
    "len(c3)\n",
    "\n",
    "b3 = np.array([difference3_sal,difference3_bat,difference3_laf,difference3_mon,difference3_hol,difference3_new,difference3_gai,difference3_fai,difference3_sel,difference3_bow,difference3_newt])\n",
    "b3=np.nanstd(b3, axis=0)\n",
    "print(b3)\n",
    "len(b3)"
   ]
  },
  {
   "cell_type": "code",
   "execution_count": 229,
   "id": "00a5e783",
   "metadata": {},
   "outputs": [
    {
     "data": {
      "image/png": "[encoded data removed]",
      "text/plain": [
       "<Figure size 792x396 with 1 Axes>"
      ]
     },
     "metadata": {},
     "output_type": "display_data"
    }
   ],
   "source": [
    "plt.style.use('seaborn-whitegrid')\n",
    "plt.rcParams[\"figure.figsize\"] = [11.00, 5.50]\n",
    "plt.rcParams[\"figure.autolayout\"] = True\n",
    "plt.yticks(np.arange(-0.2,0.25,0.05))\n",
    "plt.ylim(-0.2, 0.2)\n",
    "# c[6]=None\n",
    "# b[6]=None\n",
    "\n",
    "plt.plot(xs,c3,c=\"green\")\n",
    "plt.errorbar(xs,c3,c=\"green\",yerr=b3,linestyle='None', marker='s')\n",
    "# c[6]=None\n",
    "# b[6]=None\n",
    "\n",
    "plt.title(\"1-hr Avg. MBE All Stations\")\n",
    "plt.xlabel(\"Time Relative to Event Passage\")\n",
    "plt.ylabel(\"MBE Cumulative Precipitation (mm)\")\n",
    "#plt.plot(hour,c)\n",
    "#plt.errorbar(hour,c,yerr=b,ecolor='r',elinewidth=5,fmt='s',color='k')\n",
    "#plt.grid()\n",
    "plt.xticks(xs, hour)\n",
    "plt.show()\n",
    "#plt.axvspan(-4, 4, color='green', alpha=0.2, lw=0)"
   ]
  },
  {
   "cell_type": "code",
   "execution_count": 230,
   "id": "b2d7f7dd",
   "metadata": {},
   "outputs": [
    {
     "name": "stdout",
     "output_type": "stream",
     "text": [
      "[0.         0.         0.         0.         0.         0.\n",
      " 0.         0.         0.         0.         0.         0.\n",
      " 0.         0.         0.         0.         0.         0.\n",
      " 0.         0.00036364 0.00036364 0.00036364 0.00045455 0.00045455\n",
      " 0.00472727]\n",
      "[0.         0.         0.         0.         0.         0.\n",
      " 0.         0.         0.         0.         0.         0.\n",
      " 0.         0.         0.         0.         0.         0.\n",
      " 0.         0.00114992 0.00114992 0.00114992 0.0014374  0.0014374\n",
      " 0.01494895]\n"
     ]
    },
    {
     "data": {
      "text/plain": [
       "25"
      ]
     },
     "execution_count": 230,
     "metadata": {},
     "output_type": "execute_result"
    }
   ],
   "source": [
    "c4 = np.array([difference4_sal,difference4_bat,difference4_laf,difference4_mon,difference4_hol,difference4_new,difference4_gai,difference4_fai,difference4_sel,difference4_bow,difference4_newt])\n",
    "c4=np.nanmean(c4, axis=0)\n",
    "print(c4)\n",
    "len(c4)\n",
    "\n",
    "b4 = np.array([difference4_sal,difference4_bat,difference4_laf,difference4_mon,difference4_hol,difference4_new,difference4_gai,difference4_fai,difference4_sel,difference4_bow,difference4_newt])\n",
    "b4=np.nanstd(b4, axis=0)\n",
    "print(b4)\n",
    "len(b4)"
   ]
  },
  {
   "cell_type": "code",
   "execution_count": 232,
   "id": "e70a6cef",
   "metadata": {},
   "outputs": [
    {
     "data": {
      "image/png": "[encoded data removed]",
      "text/plain": [
       "<Figure size 792x396 with 1 Axes>"
      ]
     },
     "metadata": {},
     "output_type": "display_data"
    }
   ],
   "source": [
    "plt.style.use('seaborn-whitegrid')\n",
    "plt.rcParams[\"figure.figsize\"] = [11.00, 5.50]\n",
    "plt.rcParams[\"figure.autolayout\"] = True\n",
    "plt.yticks(np.arange(-0.2,0.25,0.05))\n",
    "plt.ylim(-0.2, 0.2)\n",
    "# c[6]=None\n",
    "# b[6]=None\n",
    "\n",
    "plt.plot(xs,c4,c=\"orange\")\n",
    "plt.errorbar(xs,c4,c=\"orange\",yerr=b4,linestyle='None', marker='s')\n",
    "# c[6]=None\n",
    "# b[6]=None\n",
    "\n",
    "plt.title(\"1-hr Avg. MBE All Stations\")\n",
    "plt.xlabel(\"Time Relative to Event Passage\")\n",
    "plt.ylabel(\"MBE Cumulative Precipitation (mm)\")\n",
    "#plt.plot(hour,c)\n",
    "#plt.errorbar(hour,c,yerr=b,ecolor='r',elinewidth=5,fmt='s',color='k')\n",
    "#plt.grid()\n",
    "plt.xticks(xs, hour)\n",
    "plt.show()\n",
    "#plt.axvspan(-4, 4, color='green', alpha=0.2, lw=0)"
   ]
  },
  {
   "cell_type": "code",
   "execution_count": 233,
   "id": "9d950af1",
   "metadata": {},
   "outputs": [
    {
     "name": "stdout",
     "output_type": "stream",
     "text": [
      "[0.         0.         0.         0.         0.         0.\n",
      " 0.         0.         0.         0.         0.         0.\n",
      " 0.         0.         0.         0.         0.         0.\n",
      " 0.         0.00136364 0.00136364 0.00136364 0.00136364 0.00136364\n",
      " 0.00145455]\n",
      "[0.         0.         0.         0.         0.         0.\n",
      " 0.         0.         0.         0.         0.         0.\n",
      " 0.         0.         0.         0.         0.         0.\n",
      " 0.         0.0043122  0.0043122  0.0043122  0.0043122  0.0043122\n",
      " 0.00429299]\n"
     ]
    },
    {
     "data": {
      "text/plain": [
       "25"
      ]
     },
     "execution_count": 233,
     "metadata": {},
     "output_type": "execute_result"
    }
   ],
   "source": [
    "# data = np.array([difference1_sal,difference1_sel,difference1_mon])\n",
    "# np.ma.average(data, axis=0)\n",
    "c5 = np.array([difference5_sal,difference5_bat,difference5_laf,difference5_mon,difference5_hol,difference5_new,difference5_gai,difference5_fai,difference5_sel,difference5_bow,difference5_newt])\n",
    "c5=np.nanmean(c5, axis=0)\n",
    "print(c5)\n",
    "len(c5)\n",
    "\n",
    "b5 = np.array([difference5_sal,difference5_bat,difference5_laf,difference5_mon,difference5_hol,difference5_new,difference5_gai,difference5_fai,difference5_sel,difference5_bow,difference5_newt])\n",
    "b5=np.nanstd(b5, axis=0)\n",
    "print(b5)\n",
    "len(b5)"
   ]
  },
  {
   "cell_type": "code",
   "execution_count": 234,
   "id": "ccd6d564",
   "metadata": {},
   "outputs": [
    {
     "data": {
      "image/png": "[encoded data removed]",
      "text/plain": [
       "<Figure size 792x396 with 1 Axes>"
      ]
     },
     "metadata": {},
     "output_type": "display_data"
    }
   ],
   "source": [
    "plt.style.use('seaborn-whitegrid')\n",
    "plt.rcParams[\"figure.figsize\"] = [11.00, 5.50]\n",
    "plt.rcParams[\"figure.autolayout\"] = True\n",
    "plt.yticks(np.arange(-0.2,0.25,0.05))\n",
    "plt.ylim(-0.2, 0.2)\n",
    "# c[6]=None\n",
    "# b[6]=None\n",
    "\n",
    "plt.plot(xs,c5,c=\"m\")\n",
    "plt.errorbar(xs,c5,c=\"m\",yerr=b5,linestyle='None', marker='s')\n",
    "# c[6]=None\n",
    "# b[6]=None\n",
    "\n",
    "plt.title(\"1-hr Avg. MBE All Stations\")\n",
    "plt.xlabel(\"Time Relative to Event Passage\")\n",
    "plt.ylabel(\"MBE Cumulative Precipitation (mm)\")\n",
    "#plt.plot(hour,c)\n",
    "#plt.errorbar(hour,c,yerr=b,ecolor='r',elinewidth=5,fmt='s',color='k')\n",
    "#plt.grid()\n",
    "plt.xticks(xs, hour)\n",
    "plt.show()\n",
    "#plt.axvspan(-4, 4, color='green', alpha=0.2, lw=0)"
   ]
  },
  {
   "cell_type": "code",
   "execution_count": 235,
   "id": "6a1cf932",
   "metadata": {},
   "outputs": [
    {
     "name": "stdout",
     "output_type": "stream",
     "text": [
      "[0. 0. 0. 0. 0. 0. 0. 0. 0. 0. 0. 0. 0. 0. 0. 0. 0. 0. 0. 0. 0. 0. 0. 0.\n",
      " 0.]\n",
      "[0. 0. 0. 0. 0. 0. 0. 0. 0. 0. 0. 0. 0. 0. 0. 0. 0. 0. 0. 0. 0. 0. 0. 0.\n",
      " 0.]\n"
     ]
    },
    {
     "data": {
      "text/plain": [
       "25"
      ]
     },
     "execution_count": 235,
     "metadata": {},
     "output_type": "execute_result"
    }
   ],
   "source": [
    "# data = np.array([difference1_sal,difference1_sel,difference1_mon])\n",
    "# np.ma.average(data, axis=0)\n",
    "c6 = np.array([difference6_sal,difference6_bat,difference6_laf,difference6_mon,difference6_hol,difference6_new,difference6_gai,difference6_fai,difference6_sel,difference6_bow,difference6_newt])\n",
    "c6=np.nanmean(c6, axis=0)\n",
    "print(c6)\n",
    "len(c6)\n",
    "\n",
    "b6 = np.array([difference6_sal,difference6_bat,difference6_laf,difference6_mon,difference6_hol,difference6_new,difference6_gai,difference6_fai,difference6_sel,difference6_bow,difference6_newt])\n",
    "b6=np.nanstd(b6, axis=0)\n",
    "print(b6)\n",
    "len(b6)"
   ]
  },
  {
   "cell_type": "code",
   "execution_count": 236,
   "id": "776adc84",
   "metadata": {},
   "outputs": [],
   "source": [
    "# c6=[1.18699667,1.2159875,1.202925,1.02153,0.915495,1.02571667,1.26524667,None,2.2831875,1.7132,1.37515833,1.22099167,1.35300833,1.414275,1.26331667,1.0291,0.78611667,0.569625,0.34864167,0.18683333,1.40921667,2.328025,2.40613333,2.28898333,2.3347]\n",
    "# print(c6)\n",
    "\n",
    "# b6=[1.97701539,1.9395002,1.87538972,1.65278454,1.56076627,1.60271154,1.38167358,None,1.35925266,1.47758425,1.57097252,1.69290383,1.59484406,1.23676456,1.09269393,1.01123893,0.9324703,0.81224555,0.88487667,1.22252443,1.84667376,2.11633728,2.18744841,1.95969035,1.94028697]\n",
    "# print(b6)"
   ]
  },
  {
   "cell_type": "code",
   "execution_count": 237,
   "id": "11ff266d",
   "metadata": {},
   "outputs": [
    {
     "data": {
      "image/png": "[encoded data removed]",
      "text/plain": [
       "<Figure size 792x396 with 1 Axes>"
      ]
     },
     "metadata": {},
     "output_type": "display_data"
    }
   ],
   "source": [
    "plt.style.use('seaborn-whitegrid')\n",
    "plt.rcParams[\"figure.figsize\"] = [11.00, 5.50]\n",
    "plt.rcParams[\"figure.autolayout\"] = True\n",
    "plt.yticks(np.arange(-0.2,0.25,0.05))\n",
    "plt.ylim(-0.2, 0.2)\n",
    "# c[6]=None\n",
    "# b[6]=None\n",
    "\n",
    "plt.plot(xs,c6,c=\"c\")\n",
    "plt.errorbar(xs,c6,c=\"c\",yerr=b6,linestyle='None', marker='s')\n",
    "# c[6]=None\n",
    "# b[6]=None\n",
    "\n",
    "plt.title(\"1-hr Avg. MBE All Stations\")\n",
    "plt.xlabel(\"Time Relative to Event Passage\")\n",
    "plt.ylabel(\"MBE Cumulative Precipitation (mm)\")\n",
    "#plt.plot(hour,c)\n",
    "#plt.errorbar(hour,c,yerr=b,ecolor='r',elinewidth=5,fmt='s',color='k')\n",
    "#plt.grid()\n",
    "plt.xticks(xs, hour)\n",
    "plt.show()\n",
    "#plt.axvspan(-4, 4, color='green', alpha=0.2, lw=0)"
   ]
  },
  {
   "cell_type": "code",
   "execution_count": 241,
   "id": "240eafe4",
   "metadata": {},
   "outputs": [
    {
     "data": {
      "image/png": "[encoded data removed]",
      "text/plain": [
       "<Figure size 792x396 with 1 Axes>"
      ]
     },
     "metadata": {},
     "output_type": "display_data"
    }
   ],
   "source": [
    "plt.style.use('seaborn-whitegrid')\n",
    "plt.rcParams[\"figure.figsize\"] = [11.00, 5.50]\n",
    "plt.rcParams[\"figure.autolayout\"] = True\n",
    "plt.yticks(np.arange(-0.1,0.15,0.05))\n",
    "plt.ylim(-0.1, 0.1)\n",
    "\n",
    "plt.plot(xs,c1,c=\"b\",label=\"IOP 1\")\n",
    "plt.errorbar(xs,c1,c=\"b\",yerr=b1,linestyle='None', marker='s')\n",
    "\n",
    "plt.plot(xs,c2,c=\"r\",label=\"IOP 2\")\n",
    "plt.errorbar(xs,c2,c=\"r\",yerr=b2,linestyle='None', marker='s')\n",
    "\n",
    "plt.plot(xs,c3,c=\"green\")\n",
    "plt.errorbar(xs,c3,c=\"green\",yerr=b3,linestyle='None', marker='s')\n",
    "\n",
    "plt.plot(xs,c4,c=\"orange\")\n",
    "plt.errorbar(xs,c4,c=\"orange\",yerr=b4,linestyle='None', marker='s')\n",
    "\n",
    "plt.plot(xs,c5,c=\"m\")\n",
    "plt.errorbar(xs,c5,c=\"m\",yerr=b5,linestyle='None', marker='s')\n",
    "\n",
    "plt.plot(xs,c6,c=\"c\")\n",
    "plt.errorbar(xs,c6,c=\"c\",yerr=b6,linestyle='None', marker='s')\n",
    "\n",
    "plt.title(\"1-hr Avg. MBE All Stations\")\n",
    "plt.xlabel(\"UTC Hour\")\n",
    "plt.ylabel(\"MBE Cumulative Precipitation (mm)\")\n",
    "#plt.plot(hour,c)\n",
    "#plt.errorbar(hour,c,yerr=b,ecolor='r',elinewidth=5,fmt='s',color='k')\n",
    "#plt.grid()\n",
    "plt.xticks(xs, hour)\n",
    "plt.legend([\"IOP 1\", \"IOP 2\",\"IOP 3\",\"IOP 4\",\"IOP 5\",\"IOP 6\"], loc =\"lower right\")\n",
    "plt.show()"
   ]
  },
  {
   "cell_type": "code",
   "execution_count": null,
   "id": "390ebe58",
   "metadata": {},
   "outputs": [],
   "source": []
  }
 ],
 "metadata": {
  "kernelspec": {
   "display_name": "Python 3 (ipykernel)",
   "language": "python",
   "name": "python3"
  },
  "language_info": {
   "codemirror_mode": {
    "name": "ipython",
    "version": 3
   },
   "file_extension": ".py",
   "mimetype": "text/x-python",
   "name": "python",
   "nbconvert_exporter": "python",
   "pygments_lexer": "ipython3",
   "version": "3.9.12"
  }
 },
 "nbformat": 4,
 "nbformat_minor": 5
}
