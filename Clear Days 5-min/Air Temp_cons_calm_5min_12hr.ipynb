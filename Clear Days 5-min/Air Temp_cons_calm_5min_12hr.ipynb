{
 "cells": [
  {
   "cell_type": "code",
   "execution_count": 1,
   "id": "83d28093",
   "metadata": {},
   "outputs": [],
   "source": [
    "import numpy as np\n",
    "import matplotlib.pyplot as plt\n",
    "import math\n",
    "import numpy.ma as ma"
   ]
  },
  {
   "cell_type": "markdown",
   "id": "18ad22a0",
   "metadata": {},
   "source": [
    "<font size=\"3\">Salem, MO: 0600 UTC (12:00 am CST) 01 March 2022-0600 UTC (12:00 am CST) 02 March 2022</font>"
   ]
  },
  {
   "cell_type": "code",
   "execution_count": 2,
   "id": "9d3b9481",
   "metadata": {},
   "outputs": [
    {
     "name": "stdout",
     "output_type": "stream",
     "text": [
      "[3.38986, 2.88046, 2.59564, 2.55533, 2.16019, 3.15115, 2.73123, 3.39108, 5.979, 9.43295, 12.5415, 15.1476, 17.9189, 20.1789, 21.0622, 21.4111, 21.5041, 19.2981, 15.4831, 12.9971, 11.8422, 10.6639, 9.76279, 9.06174, 8.54156]\n",
      "25\n"
     ]
    }
   ],
   "source": [
    "#1 hr hrrr:\n",
    "with open('hrrr_f12_Salem_MO.txt') as f:\n",
    "    lst=[line.split()[1] for line in f]\n",
    "    temp=[]\n",
    "    for i in lst:\n",
    "        new=i.replace(',',\"\")\n",
    "        temp.append(new)\n",
    "    temp.pop(0)\n",
    "    temp=[float(x) for x in temp]\n",
    "    temp=temp[1410:1435]\n",
    "    #temp=temp[2015:2063]\n",
    "    print(temp)\n",
    "    print(len(temp))\n",
    "#full time period is [2015:2112]"
   ]
  },
  {
   "cell_type": "code",
   "execution_count": 3,
   "id": "e9d4dbcc",
   "metadata": {},
   "outputs": [
    {
     "name": "stdout",
     "output_type": "stream",
     "text": [
      "[-1.35, -2.95, -3.05, -2.7, -0.44999999999999996, 5.2, 6.8, 7.15, 10.0, 12.45, 15.649999999999999, 18.85, 21.2, 22.6, 23.5, 23.55, 23.4, 22.0, 19.35, 17.6, 15.7, 9.55, 8.55, 8.2, 11.75]\n"
     ]
    }
   ],
   "source": [
    "#Air Temp CRN:\n",
    "with open('CRNS0101-05-2022-MO_Salem_10_W.txt') as f:\n",
    "    lst=[line.split()[8] for line in f]\n",
    "\n",
    "    a=(float(lst[17063])+float(lst[17064]))/2\n",
    "    b=(float(lst[17075])+float(lst[17076]))/2\n",
    "    c=(float(lst[17087])+float(lst[17088]))/2\n",
    "    d=(float(lst[17099])+float(lst[17100]))/2\n",
    "    e=(float(lst[17111])+float(lst[17112]))/2\n",
    "    f=(float(lst[17123])+float(lst[17124]))/2\n",
    "    g=(float(lst[17135])+float(lst[17136]))/2\n",
    "    h=(float(lst[17147])+float(lst[17148]))/2\n",
    "    i=(float(lst[17159])+float(lst[17160]))/2\n",
    "    j=(float(lst[17171])+float(lst[17172]))/2\n",
    "    k=(float(lst[17183])+float(lst[17184]))/2\n",
    "    l=(float(lst[17195])+float(lst[17196]))/2\n",
    "    m=(float(lst[17207])+float(lst[17208]))/2\n",
    "    n=(float(lst[17219])+float(lst[17220]))/2\n",
    "    o=(float(lst[17231])+float(lst[17232]))/2\n",
    "    p=(float(lst[17243])+float(lst[17244]))/2\n",
    "    q=(float(lst[17255])+float(lst[17256]))/2\n",
    "    r=(float(lst[17267])+float(lst[17268]))/2\n",
    "    s=(float(lst[17279])+float(lst[17280]))/2\n",
    "    t=(float(lst[17291])+float(lst[17292]))/2\n",
    "    u=(float(lst[17303])+float(lst[17304]))/2\n",
    "    v=(float(lst[17315])+float(lst[17316]))/2\n",
    "    w=(float(lst[17327])+float(lst[17328]))/2\n",
    "    x=(float(lst[17339])+float(lst[17340]))/2\n",
    "    y=(float(lst[17351])+float(lst[17352]))/2\n",
    "    temp_crn=[a,b,c,d,e,f,g,h,i,j,k,l,m,n,o,p,q,r,s,t,u,v,w,x,y]\n",
    "    print(temp_crn)"
   ]
  },
  {
   "cell_type": "code",
   "execution_count": 4,
   "id": "1e9aed03-d99c-4045-812a-e26bcc99b84f",
   "metadata": {},
   "outputs": [
    {
     "name": "stdout",
     "output_type": "stream",
     "text": [
      "[4.73986, 5.83046, 5.64564, 5.255330000000001, 2.6101900000000002, -2.0488500000000003, -4.06877, -3.7589200000000003, -4.021, -3.0170499999999993, -3.1084999999999994, -3.702400000000001, -3.2810999999999986, -2.4211000000000027, -2.4377999999999993, -2.1388999999999996, -1.8958999999999975, -2.7018999999999984, -3.866900000000001, -4.602900000000002, -3.8577999999999992, 1.1138999999999992, 1.21279, 0.8617400000000011, -3.2084399999999995]\n"
     ]
    }
   ],
   "source": [
    "difference1_sal = []\n",
    "\n",
    "zip_object = zip(temp, temp_crn)\n",
    "for temp_i, temp_crn_i in zip_object:\n",
    "    difference1_sal.append(temp_i-temp_crn_i)\n",
    "\n",
    "print(difference1_sal)"
   ]
  },
  {
   "cell_type": "markdown",
   "id": "9043c519",
   "metadata": {},
   "source": [
    "<font size=\"3\">Batesville, AR: 0600 UTC (12:00 am CST) 01 March 2022-0600 UTC (12:00 am CST) 02 March 2022</font>"
   ]
  },
  {
   "cell_type": "code",
   "execution_count": 5,
   "id": "af395ecc",
   "metadata": {},
   "outputs": [
    {
     "name": "stdout",
     "output_type": "stream",
     "text": [
      "[6.13986, 6.00546, 5.34564, 5.74283, 5.53519, 6.46365, 6.10623, 5.07858, 6.479, 10.308, 13.979, 16.8976, 18.2314, 19.3664, 19.9997, 20.1611, 19.5041, 17.1731, 13.7331, 11.4971, 10.6547, 10.7889, 11.5128, 11.9367, 11.6041]\n"
     ]
    }
   ],
   "source": [
    "#1 hr hrrr:\n",
    "with open('hrrr_f12_Batesville_AR.txt') as f:\n",
    "    lst=[line.split()[1] for line in f]\n",
    "    temp=[]\n",
    "    for i in lst:\n",
    "        new=i.replace(',',\"\")\n",
    "        temp.append(new)\n",
    "    temp.pop(0)\n",
    "    temp=[float(x) for x in temp]\n",
    "    temp=temp[1410:1435]\n",
    "#     x = np.array(temp)\n",
    "#     temp = ma.masked_array(x, mask=[0, 0, 0, 0, 0,0,0,0,0,0,0,0,0,0,0,0,0,0,0,0,0,1,0,0,0])\n",
    "    #temp=temp[2015:2063]\n",
    "    print(temp)\n",
    "    ##prfloat(len(temp))\n",
    "#full time period is [2015:2112]"
   ]
  },
  {
   "cell_type": "code",
   "execution_count": 6,
   "id": "5da1fd53",
   "metadata": {},
   "outputs": [
    {
     "name": "stdout",
     "output_type": "stream",
     "text": [
      "[1.45, -0.25, -0.35, -0.9, -1.05, -1.45, -1.4, -1.15, 2.8, 11.7, 17.0, 20.15, 22.049999999999997, 22.9, 22.85, 23.05, 22.6, 21.1, 18.3, 16.5, 13.25, 8.05, 7.35, 5.5, 3.85]\n"
     ]
    }
   ],
   "source": [
    "#Air Temp CRN:\n",
    "with open('CRNS0101-05-2022-AR_Batesville_8_WNW.txt') as f:\n",
    "    lst=[line.split()[8] for line in f]\n",
    "    \n",
    "    a=(float(lst[17063])+float(lst[17064]))/2\n",
    "    b=(float(lst[17075])+float(lst[17076]))/2\n",
    "    c=(float(lst[17087])+float(lst[17088]))/2\n",
    "    d=(float(lst[17099])+float(lst[17100]))/2\n",
    "    e=(float(lst[17111])+float(lst[17112]))/2\n",
    "    f=(float(lst[17123])+float(lst[17124]))/2\n",
    "    g=(float(lst[17135])+float(lst[17136]))/2\n",
    "    h=(float(lst[17147])+float(lst[17148]))/2\n",
    "    i=(float(lst[17159])+float(lst[17160]))/2\n",
    "    j=(float(lst[17171])+float(lst[17172]))/2\n",
    "    k=(float(lst[17183])+float(lst[17184]))/2\n",
    "    l=(float(lst[17195])+float(lst[17196]))/2\n",
    "    m=(float(lst[17207])+float(lst[17208]))/2\n",
    "    n=(float(lst[17219])+float(lst[17220]))/2\n",
    "    o=(float(lst[17231])+float(lst[17232]))/2\n",
    "    p=(float(lst[17243])+float(lst[17244]))/2\n",
    "    q=(float(lst[17255])+float(lst[17256]))/2\n",
    "    r=(float(lst[17267])+float(lst[17268]))/2\n",
    "    s=(float(lst[17279])+float(lst[17280]))/2\n",
    "    t=(float(lst[17291])+float(lst[17292]))/2\n",
    "    u=(float(lst[17303])+float(lst[17304]))/2\n",
    "    v=(float(lst[17315])+float(lst[17316]))/2\n",
    "    w=(float(lst[17327])+float(lst[17328]))/2\n",
    "    x=(float(lst[17339])+float(lst[17340]))/2\n",
    "    y=(float(lst[17351])+float(lst[17352]))/2\n",
    "    temp_crn=[a,b,c,d,e,f,g,h,i,j,k,l,m,n,o,p,q,r,s,t,u,v,w,x,y]\n",
    "    print(temp_crn)"
   ]
  },
  {
   "cell_type": "code",
   "execution_count": 7,
   "id": "62a46873",
   "metadata": {},
   "outputs": [
    {
     "name": "stdout",
     "output_type": "stream",
     "text": [
      "[4.6898599999999995, 6.25546, 5.69564, 6.64283, 6.58519, 7.9136500000000005, 7.50623, 6.228579999999999, 3.6790000000000003, -1.3919999999999995, -3.021000000000001, -3.252399999999998, -3.8185999999999964, -3.5336, -2.8503000000000007, -2.8888999999999996, -3.0959000000000003, -3.9269, -4.5669, -5.0029, -2.5953, 2.7388999999999992, 4.162800000000001, 6.4367, 7.754100000000001]\n"
     ]
    }
   ],
   "source": [
    "difference1_bat = []\n",
    "\n",
    "zip_object = zip(temp, temp_crn)\n",
    "for temp_i, temp_crn_i in zip_object:\n",
    "    difference1_bat.append(temp_i-temp_crn_i)\n",
    "\n",
    "print(difference1_bat)"
   ]
  },
  {
   "cell_type": "markdown",
   "id": "2a2589df",
   "metadata": {},
   "source": [
    "<font size=\"3\">Lafayette, LA: 0600 UTC (12:00 am CST) 01 March 2022-0600 UTC (12:00 am CST) 02 March 2022</font>"
   ]
  },
  {
   "cell_type": "code",
   "execution_count": 8,
   "id": "3fd34af2",
   "metadata": {},
   "outputs": [
    {
     "name": "stdout",
     "output_type": "stream",
     "text": [
      "[8.13986, 7.13046, 6.22064, 5.36783, 4.59769, 4.27615, 3.60623, 3.45358, 7.104, 11.933, 15.854, 17.9601, 19.6064, 21.1789, 22.3122, 22.9736, 22.3791, 20.9856, 19.1706, 15.4346, 13.5922, 12.6014, 11.2628, 10.1242, 9.41656]\n"
     ]
    }
   ],
   "source": [
    "#1 hr hrrr:\n",
    "with open('hrrr_f12_Lafayette_LA.txt') as f:\n",
    "    lst=[line.split()[1] for line in f]\n",
    "    temp=[]\n",
    "    for i in lst:\n",
    "        new=i.replace(',',\"\")\n",
    "        temp.append(new)\n",
    "    temp.pop(0)\n",
    "    temp=[float(x) for x in temp]\n",
    "    temp=temp[1410:1435]\n",
    "    #temp=temp[2015:2063]\n",
    "    print(temp)\n",
    "    ##prfloat(len(temp))\n",
    "#full time period is [2015:2112]"
   ]
  },
  {
   "cell_type": "code",
   "execution_count": 9,
   "id": "2aa0e7ac",
   "metadata": {},
   "outputs": [
    {
     "name": "stdout",
     "output_type": "stream",
     "text": [
      "[6.7, 4.9, 4.05, 3.45, 2.7, 2.75, 2.75, 2.4, 8.350000000000001, 12.0, 15.55, 17.3, 17.65, 18.9, 19.8, 20.5, 20.35, 20.2, 17.799999999999997, 13.8, 12.25, 11.350000000000001, 10.0, 9.25, 7.0]\n"
     ]
    }
   ],
   "source": [
    "#Air Temp CRN:\n",
    "with open('CRNS0101-05-2022-LA_Lafayette_13_SE.txt') as f:\n",
    "    lst=[line.split()[8] for line in f]\n",
    "    \n",
    "    a=(float(lst[17063])+float(lst[17064]))/2\n",
    "    b=(float(lst[17075])+float(lst[17076]))/2\n",
    "    c=(float(lst[17087])+float(lst[17088]))/2\n",
    "    d=(float(lst[17099])+float(lst[17100]))/2\n",
    "    e=(float(lst[17111])+float(lst[17112]))/2\n",
    "    f=(float(lst[17123])+float(lst[17124]))/2\n",
    "    g=(float(lst[17135])+float(lst[17136]))/2\n",
    "    h=(float(lst[17147])+float(lst[17148]))/2\n",
    "    i=(float(lst[17159])+float(lst[17160]))/2\n",
    "    j=(float(lst[17171])+float(lst[17172]))/2\n",
    "    k=(float(lst[17183])+float(lst[17184]))/2\n",
    "    l=(float(lst[17195])+float(lst[17196]))/2\n",
    "    m=(float(lst[17207])+float(lst[17208]))/2\n",
    "    n=(float(lst[17219])+float(lst[17220]))/2\n",
    "    o=(float(lst[17231])+float(lst[17232]))/2\n",
    "    p=(float(lst[17243])+float(lst[17244]))/2\n",
    "    q=(float(lst[17255])+float(lst[17256]))/2\n",
    "    r=(float(lst[17267])+float(lst[17268]))/2\n",
    "    s=(float(lst[17279])+float(lst[17280]))/2\n",
    "    t=(float(lst[17291])+float(lst[17292]))/2\n",
    "    u=(float(lst[17303])+float(lst[17304]))/2\n",
    "    v=(float(lst[17315])+float(lst[17316]))/2\n",
    "    w=(float(lst[17327])+float(lst[17328]))/2\n",
    "    x=(float(lst[17339])+float(lst[17340]))/2\n",
    "    y=(float(lst[17351])+float(lst[17352]))/2\n",
    "    temp_crn=[a,b,c,d,e,f,g,h,i,j,k,l,m,n,o,p,q,r,s,t,u,v,w,x,y]\n",
    "    print(temp_crn)"
   ]
  },
  {
   "cell_type": "code",
   "execution_count": 10,
   "id": "9b94d0f9",
   "metadata": {},
   "outputs": [
    {
     "name": "stdout",
     "output_type": "stream",
     "text": [
      "[1.4398600000000004, 2.23046, 2.1706400000000006, 1.9178299999999995, 1.8976899999999999, 1.5261500000000003, 0.85623, 1.0535800000000002, -1.2460000000000013, -0.06700000000000017, 0.3039999999999985, 0.6600999999999999, 1.9564000000000021, 2.2789, 2.5122, 2.473600000000001, 2.0290999999999997, 0.7856000000000023, 1.3706000000000031, 1.634599999999999, 1.3422, 1.2513999999999985, 1.2628000000000004, 0.8742000000000001, 2.4165600000000005]\n"
     ]
    }
   ],
   "source": [
    "difference1_laf = []\n",
    "\n",
    "zip_object = zip(temp, temp_crn)\n",
    "for temp_i, temp_crn_i in zip_object:\n",
    "    difference1_laf.append(temp_i-temp_crn_i)\n",
    "\n",
    "print(difference1_laf)"
   ]
  },
  {
   "cell_type": "markdown",
   "id": "7a8d079f",
   "metadata": {},
   "source": [
    "<font size=\"3\">Monroe, LA: 0600 UTC (12:00 am CST) 01 March 2022-0600 UTC (12:00 am CST) 02 March 2022</font>"
   ]
  },
  {
   "cell_type": "code",
   "execution_count": 11,
   "id": "9c6d2382",
   "metadata": {},
   "outputs": [
    {
     "name": "stdout",
     "output_type": "stream",
     "text": [
      "[5.26486, 4.06796, 4.28314, 4.30533, 3.78519, 4.02615, 4.41873, 3.39108, 5.354, 9.49545, 12.104, 14.3976, 15.8564, 17.2414, 18.1247, 18.6611, 18.7541, 17.7356, 14.4206, 12.5596, 10.8422, 9.91394, 8.88779, 8.18674, 7.85406]\n"
     ]
    }
   ],
   "source": [
    "#1 hr hrrr:\n",
    "with open('hrrr_f12_Monroe_LA.txt') as f:\n",
    "    lst=[line.split()[1] for line in f]\n",
    "    temp=[]\n",
    "    for i in lst:\n",
    "        new=i.replace(',',\"\")\n",
    "        temp.append(new)\n",
    "    temp.pop(0)\n",
    "    temp=[float(x) for x in temp]\n",
    "    temp=temp[1410:1435]\n",
    "    #temp=temp[2015:2063]\n",
    "    print(temp)\n",
    "    ##prfloat(len(temp))\n",
    "#full time period is [2015:2112]"
   ]
  },
  {
   "cell_type": "code",
   "execution_count": 12,
   "id": "3fe08a4e",
   "metadata": {},
   "outputs": [
    {
     "name": "stdout",
     "output_type": "stream",
     "text": [
      "[2.0, 2.6500000000000004, 2.4, 1.45, 0.4, -0.45, -0.2, -0.4, 2.25, 11.55, 15.7, 17.6, 18.700000000000003, 19.95, 20.95, 21.4, 21.3, 20.45, 13.899999999999999, 9.45, 7.25, 5.35, 4.25, 3.7, 3.2]\n"
     ]
    }
   ],
   "source": [
    "#Air Temp CRN:\n",
    "with open('CRNS0101-05-2022-LA_Monroe_26_N.txt') as f:\n",
    "    lst=[line.split()[8] for line in f]\n",
    "    \n",
    "    a=(float(lst[17063])+float(lst[17064]))/2\n",
    "    b=(float(lst[17075])+float(lst[17076]))/2\n",
    "    c=(float(lst[17087])+float(lst[17088]))/2\n",
    "    d=(float(lst[17099])+float(lst[17100]))/2\n",
    "    e=(float(lst[17111])+float(lst[17112]))/2\n",
    "    f=(float(lst[17123])+float(lst[17124]))/2\n",
    "    g=(float(lst[17135])+float(lst[17136]))/2\n",
    "    h=(float(lst[17147])+float(lst[17148]))/2\n",
    "    i=(float(lst[17159])+float(lst[17160]))/2\n",
    "    j=(float(lst[17171])+float(lst[17172]))/2\n",
    "    k=(float(lst[17183])+float(lst[17184]))/2\n",
    "    l=(float(lst[17195])+float(lst[17196]))/2\n",
    "    m=(float(lst[17207])+float(lst[17208]))/2\n",
    "    n=(float(lst[17219])+float(lst[17220]))/2\n",
    "    o=(float(lst[17231])+float(lst[17232]))/2\n",
    "    p=(float(lst[17243])+float(lst[17244]))/2\n",
    "    q=(float(lst[17255])+float(lst[17256]))/2\n",
    "    r=(float(lst[17267])+float(lst[17268]))/2\n",
    "    s=(float(lst[17279])+float(lst[17280]))/2\n",
    "    t=(float(lst[17291])+float(lst[17292]))/2\n",
    "    u=(float(lst[17303])+float(lst[17304]))/2\n",
    "    v=(float(lst[17315])+float(lst[17316]))/2\n",
    "    w=(float(lst[17327])+float(lst[17328]))/2\n",
    "    x=(float(lst[17339])+float(lst[17340]))/2\n",
    "    y=(float(lst[17351])+float(lst[17352]))/2\n",
    "    temp_crn=[a,b,c,d,e,f,g,h,i,j,k,l,m,n,o,p,q,r,s,t,u,v,w,x,y]\n",
    "    print(temp_crn)"
   ]
  },
  {
   "cell_type": "code",
   "execution_count": 13,
   "id": "2b4e383a",
   "metadata": {},
   "outputs": [
    {
     "name": "stdout",
     "output_type": "stream",
     "text": [
      "[3.2648599999999997, 1.4179599999999999, 1.8831400000000005, 2.8553299999999995, 3.38519, 4.4761500000000005, 4.61873, 3.79108, 3.104, -2.0545500000000008, -3.596, -3.202400000000001, -2.843600000000002, -2.7086000000000006, -2.8252999999999986, -2.7388999999999974, -2.5458999999999996, -2.7143999999999977, 0.5206000000000017, 3.1096000000000004, 3.5922, 4.5639400000000006, 4.637790000000001, 4.48674, 4.654059999999999]\n"
     ]
    }
   ],
   "source": [
    "difference1_mon = []\n",
    "\n",
    "zip_object = zip(temp, temp_crn)\n",
    "for temp_i, temp_crn_i in zip_object:\n",
    "    difference1_mon.append(temp_i-temp_crn_i)\n",
    "\n",
    "print(difference1_mon)"
   ]
  },
  {
   "cell_type": "markdown",
   "id": "26c585ff",
   "metadata": {},
   "source": [
    "<font size=\"3\">Holly Springs, MS: 0600 UTC (12:00 am CST) 01 March 2022-0600 UTC (12:00 am CST) 02 March 2022</font>"
   ]
  },
  {
   "cell_type": "code",
   "execution_count": 14,
   "id": "175bd35c",
   "metadata": {},
   "outputs": [
    {
     "name": "stdout",
     "output_type": "stream",
     "text": [
      "[4.20236, 3.88046, 3.59564, 3.68033, 3.91019, 3.52615, 3.23123, 3.26608, 5.6665, 8.62045, 10.979, 12.0851, 13.4814, 14.5539, 15.0622, 15.1611, 15.0041, 13.6106, 11.1081, 9.9346, 9.40469, 9.22644, 8.95029, 8.24924, 7.85406]\n"
     ]
    }
   ],
   "source": [
    "#1 hr hrrr:\n",
    "with open('hrrr_f12_Holly Springs_MS.txt') as f:\n",
    "    lst=[line.split()[1] for line in f]\n",
    "    temp=[]\n",
    "    for i in lst:\n",
    "        new=i.replace(',',\"\")\n",
    "        temp.append(new)\n",
    "    temp.pop(0)\n",
    "    temp=[float(x) for x in temp]\n",
    "    temp=temp[1410:1435]\n",
    "    #temp=temp[2015:2063]\n",
    "    print(temp)\n",
    "    ##prfloat(len(temp))\n",
    "#full time period is [2015:2112]"
   ]
  },
  {
   "cell_type": "code",
   "execution_count": 15,
   "id": "f416219a",
   "metadata": {},
   "outputs": [
    {
     "name": "stdout",
     "output_type": "stream",
     "text": [
      "[0.55, -0.25, -0.8, -1.2, -1.8, -2.1500000000000004, -2.05, -1.85, 2.5, 11.2, 14.55, 17.6, 19.1, 20.0, 20.3, 20.700000000000003, 20.1, 18.55, 14.350000000000001, 12.0, 9.25, 9.8, 11.35, 9.75, 6.05]\n"
     ]
    }
   ],
   "source": [
    "#Air Temp CRN:\n",
    "with open('CRNS0101-05-2022-MS_Holly_Springs_4_N.txt') as f:\n",
    "    lst=[line.split()[8] for line in f]\n",
    "    \n",
    "    a=(float(lst[17063])+float(lst[17064]))/2\n",
    "    b=(float(lst[17075])+float(lst[17076]))/2\n",
    "    c=(float(lst[17087])+float(lst[17088]))/2\n",
    "    d=(float(lst[17099])+float(lst[17100]))/2\n",
    "    e=(float(lst[17111])+float(lst[17112]))/2\n",
    "    f=(float(lst[17123])+float(lst[17124]))/2\n",
    "    g=(float(lst[17135])+float(lst[17136]))/2\n",
    "    h=(float(lst[17147])+float(lst[17148]))/2\n",
    "    i=(float(lst[17159])+float(lst[17160]))/2\n",
    "    j=(float(lst[17171])+float(lst[17172]))/2\n",
    "    k=(float(lst[17183])+float(lst[17184]))/2\n",
    "    l=(float(lst[17195])+float(lst[17196]))/2\n",
    "    m=(float(lst[17207])+float(lst[17208]))/2\n",
    "    n=(float(lst[17219])+float(lst[17220]))/2\n",
    "    o=(float(lst[17231])+float(lst[17232]))/2\n",
    "    p=(float(lst[17243])+float(lst[17244]))/2\n",
    "    q=(float(lst[17255])+float(lst[17256]))/2\n",
    "    r=(float(lst[17267])+float(lst[17268]))/2\n",
    "    s=(float(lst[17279])+float(lst[17280]))/2\n",
    "    t=(float(lst[17291])+float(lst[17292]))/2\n",
    "    u=(float(lst[17303])+float(lst[17304]))/2\n",
    "    v=(float(lst[17315])+float(lst[17316]))/2\n",
    "    w=(float(lst[17327])+float(lst[17328]))/2\n",
    "    x=(float(lst[17339])+float(lst[17340]))/2\n",
    "    y=(float(lst[17351])+float(lst[17352]))/2\n",
    "    temp_crn=[a,b,c,d,e,f,g,h,i,j,k,l,m,n,o,p,q,r,s,t,u,v,w,x,y]\n",
    "    print(temp_crn)"
   ]
  },
  {
   "cell_type": "code",
   "execution_count": 16,
   "id": "46b095cb",
   "metadata": {},
   "outputs": [
    {
     "name": "stdout",
     "output_type": "stream",
     "text": [
      "[3.65236, 4.130459999999999, 4.39564, 4.88033, 5.71019, 5.67615, 5.28123, 5.11608, 3.1665, -2.5795499999999993, -3.5710000000000015, -5.514900000000001, -5.618600000000001, -5.4460999999999995, -5.2378, -5.5389000000000035, -5.095900000000002, -4.939400000000001, -3.241900000000001, -2.0654000000000003, 0.15469000000000044, -0.5735600000000005, -2.399709999999999, -1.5007599999999996, 1.8040599999999998]\n"
     ]
    }
   ],
   "source": [
    "difference1_hol = []\n",
    "\n",
    "zip_object = zip(temp, temp_crn)\n",
    "for temp_i, temp_crn_i in zip_object:\n",
    "    difference1_hol.append(temp_i-temp_crn_i)\n",
    "\n",
    "print(difference1_hol)"
   ]
  },
  {
   "cell_type": "markdown",
   "id": "1c76c308",
   "metadata": {},
   "source": [
    "<font size=\"3\">Newton, MS: 0600 UTC (12:00 am CST) 01 March 2022-0600 UTC (12:00 am CST) 02 March 2022</font>"
   ]
  },
  {
   "cell_type": "code",
   "execution_count": 17,
   "id": "06decf86",
   "metadata": {},
   "outputs": [
    {
     "name": "stdout",
     "output_type": "stream",
     "text": [
      "[4.88986, 4.25546, 3.90814, 3.68033, 3.59769, 3.58865, 2.85623, 2.95358, 6.9165, 11.558, 14.4165, 16.0226, 17.7939, 18.7414, 19.8747, 20.2236, 20.1916, 19.8606, 16.3581, 13.6221, 12.0922, 10.5389, 9.51279, 8.18674, 6.91656]\n"
     ]
    }
   ],
   "source": [
    "#1 hr hrrr:\n",
    "with open('hrrr_f12_Newton_MS.txt') as f:\n",
    "    lst=[line.split()[1] for line in f]\n",
    "    temp=[]\n",
    "    for i in lst:\n",
    "        new=i.replace(',',\"\")\n",
    "        temp.append(new)\n",
    "    temp.pop(0)\n",
    "    temp=[float(x) for x in temp]\n",
    "    temp=temp[1410:1435]\n",
    "    #temp=temp[2015:2063]\n",
    "    print(temp)\n",
    "    ##prfloat(len(temp))\n",
    "#full time period is [2015:2112]"
   ]
  },
  {
   "cell_type": "code",
   "execution_count": 18,
   "id": "9672674c",
   "metadata": {},
   "outputs": [
    {
     "name": "stdout",
     "output_type": "stream",
     "text": [
      "[1.95, 1.15, 0.5, 0.15000000000000002, -0.7, -1.05, -0.55, 0.30000000000000004, 3.75, 9.25, 13.1, 15.0, 17.1, 17.85, 19.4, 19.75, 20.1, 19.200000000000003, 14.35, 9.7, 7.7, 6.1, 4.75, 3.75, 2.8]\n"
     ]
    }
   ],
   "source": [
    "#Air Temp CRN:\n",
    "with open('CRNS0101-05-2022-MS_Newton_5_ENE.txt') as f:\n",
    "    lst=[line.split()[8] for line in f]\n",
    "    \n",
    "    a=(float(lst[17063])+float(lst[17064]))/2\n",
    "    b=(float(lst[17075])+float(lst[17076]))/2\n",
    "    c=(float(lst[17087])+float(lst[17088]))/2\n",
    "    d=(float(lst[17099])+float(lst[17100]))/2\n",
    "    e=(float(lst[17111])+float(lst[17112]))/2\n",
    "    f=(float(lst[17123])+float(lst[17124]))/2\n",
    "    g=(float(lst[17135])+float(lst[17136]))/2\n",
    "    h=(float(lst[17147])+float(lst[17148]))/2\n",
    "    i=(float(lst[17159])+float(lst[17160]))/2\n",
    "    j=(float(lst[17171])+float(lst[17172]))/2\n",
    "    k=(float(lst[17183])+float(lst[17184]))/2\n",
    "    l=(float(lst[17195])+float(lst[17196]))/2\n",
    "    m=(float(lst[17207])+float(lst[17208]))/2\n",
    "    n=(float(lst[17219])+float(lst[17220]))/2\n",
    "    o=(float(lst[17231])+float(lst[17232]))/2\n",
    "    p=(float(lst[17243])+float(lst[17244]))/2\n",
    "    q=(float(lst[17255])+float(lst[17256]))/2\n",
    "    r=(float(lst[17267])+float(lst[17268]))/2\n",
    "    s=(float(lst[17279])+float(lst[17280]))/2\n",
    "    t=(float(lst[17291])+float(lst[17292]))/2\n",
    "    u=(float(lst[17303])+float(lst[17304]))/2\n",
    "    v=(float(lst[17315])+float(lst[17316]))/2\n",
    "    w=(float(lst[17327])+float(lst[17328]))/2\n",
    "    x=(float(lst[17339])+float(lst[17340]))/2\n",
    "    y=(float(lst[17351])+float(lst[17352]))/2\n",
    "    temp_crn=[a,b,c,d,e,f,g,h,i,j,k,l,m,n,o,p,q,r,s,t,u,v,w,x,y]\n",
    "    print(temp_crn)"
   ]
  },
  {
   "cell_type": "code",
   "execution_count": 19,
   "id": "e588ab70",
   "metadata": {},
   "outputs": [
    {
     "name": "stdout",
     "output_type": "stream",
     "text": [
      "[2.9398599999999995, 3.1054600000000003, 3.40814, 3.53033, 4.29769, 4.63865, 3.40623, 2.65358, 3.1665, 2.308, 1.3164999999999996, 1.0226000000000006, 0.6938999999999993, 0.8913999999999973, 0.4747000000000021, 0.47360000000000113, 0.09159999999999968, 0.6605999999999987, 2.0081000000000007, 3.9221000000000004, 4.3922, 4.4389, 4.762790000000001, 4.43674, 4.11656]\n"
     ]
    }
   ],
   "source": [
    "difference1_new = []\n",
    "\n",
    "zip_object = zip(temp, temp_crn)\n",
    "for temp_i, temp_crn_i in zip_object:\n",
    "    difference1_new.append(temp_i-temp_crn_i)\n",
    "\n",
    "print(difference1_new)"
   ]
  },
  {
   "cell_type": "markdown",
   "id": "c9620694",
   "metadata": {},
   "source": [
    "<font size=\"3\">Gainesville, AL: 0600 UTC (12:00 am CST) 01 March 2022-0600 UTC (12:00 am CST) 02 March 2022</font>"
   ]
  },
  {
   "cell_type": "code",
   "execution_count": 20,
   "id": "a422cd03",
   "metadata": {},
   "outputs": [
    {
     "name": "stdout",
     "output_type": "stream",
     "text": [
      "[4.95236, 4.56796, 4.28314, 3.80533, 3.72269, 3.02615, 2.73123, 2.89108, 6.354, 10.558, 13.354, 15.2101, 16.4814, 17.8664, 18.8122, 19.2861, 19.2541, 17.9856, 14.1706, 11.9971, 10.4672, 10.1639, 9.57529, 7.74924, 6.79156]\n"
     ]
    }
   ],
   "source": [
    "#1 hr hrrr:\n",
    "with open('hrrr_f12_Gainesville_AL.txt') as f:\n",
    "    lst=[line.split()[1] for line in f]\n",
    "    temp=[]\n",
    "    for i in lst:\n",
    "        new=i.replace(',',\"\")\n",
    "        temp.append(new)\n",
    "    temp.pop(0)\n",
    "    temp=[float(x) for x in temp]\n",
    "    temp=temp[1410:1435]\n",
    "    #temp=temp[2015:2063]\n",
    "    print(temp)\n",
    "    ##prfloat(len(temp))\n",
    "#full time period is [2015:2112]"
   ]
  },
  {
   "cell_type": "code",
   "execution_count": 21,
   "id": "627f3159",
   "metadata": {},
   "outputs": [
    {
     "name": "stdout",
     "output_type": "stream",
     "text": [
      "[2.6, 2.4, 2.4, 1.2, 1.5499999999999998, 1.4, 1.4, 1.95, 5.2, 8.8, 12.85, 15.3, 16.85, 18.4, 19.15, 19.75, 19.55, 19.2, 14.7, 11.55, 9.399999999999999, 7.6, 6.4, 5.75, 4.55]\n"
     ]
    }
   ],
   "source": [
    "#Air Temp CRN:\n",
    "with open('CRNS0101-05-2022-AL_Gainesville_2_NE.txt') as f:\n",
    "    lst=[line.split()[8] for line in f]\n",
    "    \n",
    "    a=(float(lst[17063])+float(lst[17064]))/2\n",
    "    b=(float(lst[17075])+float(lst[17076]))/2\n",
    "    c=(float(lst[17087])+float(lst[17088]))/2\n",
    "    d=(float(lst[17099])+float(lst[17100]))/2\n",
    "    e=(float(lst[17111])+float(lst[17112]))/2\n",
    "    f=(float(lst[17123])+float(lst[17124]))/2\n",
    "    g=(float(lst[17135])+float(lst[17136]))/2\n",
    "    h=(float(lst[17147])+float(lst[17148]))/2\n",
    "    i=(float(lst[17159])+float(lst[17160]))/2\n",
    "    j=(float(lst[17171])+float(lst[17172]))/2\n",
    "    k=(float(lst[17183])+float(lst[17184]))/2\n",
    "    l=(float(lst[17195])+float(lst[17196]))/2\n",
    "    m=(float(lst[17207])+float(lst[17208]))/2\n",
    "    n=(float(lst[17219])+float(lst[17220]))/2\n",
    "    o=(float(lst[17231])+float(lst[17232]))/2\n",
    "    p=(float(lst[17243])+float(lst[17244]))/2\n",
    "    q=(float(lst[17255])+float(lst[17256]))/2\n",
    "    r=(float(lst[17267])+float(lst[17268]))/2\n",
    "    s=(float(lst[17279])+float(lst[17280]))/2\n",
    "    t=(float(lst[17291])+float(lst[17292]))/2\n",
    "    u=(float(lst[17303])+float(lst[17304]))/2\n",
    "    v=(float(lst[17315])+float(lst[17316]))/2\n",
    "    w=(float(lst[17327])+float(lst[17328]))/2\n",
    "    x=(float(lst[17339])+float(lst[17340]))/2\n",
    "    y=(float(lst[17351])+float(lst[17352]))/2\n",
    "    temp_crn=[a,b,c,d,e,f,g,h,i,j,k,l,m,n,o,p,q,r,s,t,u,v,w,x,y]\n",
    "    print(temp_crn)"
   ]
  },
  {
   "cell_type": "code",
   "execution_count": 22,
   "id": "8df76a7b",
   "metadata": {},
   "outputs": [
    {
     "name": "stdout",
     "output_type": "stream",
     "text": [
      "[2.3523599999999996, 2.1679600000000003, 1.8831400000000005, 2.6053300000000004, 2.1726900000000002, 1.62615, 1.3312300000000001, 0.9410800000000001, 1.154, 1.7579999999999991, 0.5039999999999996, -0.08990000000000009, -0.3686000000000007, -0.5335999999999999, -0.3377999999999979, -0.46389999999999887, -0.2958999999999996, -1.2143999999999977, -0.529399999999999, 0.44709999999999894, 1.0672000000000015, 2.5639000000000003, 3.1752900000000004, 1.9992400000000004, 2.2415599999999998]\n"
     ]
    }
   ],
   "source": [
    "difference1_gai = []\n",
    "\n",
    "zip_object = zip(temp, temp_crn)\n",
    "for temp_i, temp_crn_i in zip_object:\n",
    "    difference1_gai.append(temp_i-temp_crn_i)\n",
    "\n",
    "print(difference1_gai)"
   ]
  },
  {
   "cell_type": "markdown",
   "id": "2711dc15",
   "metadata": {},
   "source": [
    "<font size=\"3\">Fairhope, AL: 0600 UTC (12:00 am CST) 01 March 2022-0600 UTC (12:00 am CST) 02 March 2022</font>"
   ]
  },
  {
   "cell_type": "code",
   "execution_count": 23,
   "id": "64dbcf91",
   "metadata": {},
   "outputs": [
    {
     "name": "stdout",
     "output_type": "stream",
     "text": [
      "[9.51486, 8.94296, 8.47064, 8.18033, 7.72269, 7.33865, 7.04373, 7.51608, 10.729, 13.6205, 16.4165, 18.5226, 19.3564, 19.6789, 19.9372, 20.4111, 20.9416, 18.2981, 15.2331, 13.9346, 13.4047, 12.7264, 12.5128, 11.0617, 10.1666]\n"
     ]
    }
   ],
   "source": [
    "#1 hr hrrr:\n",
    "with open('hrrr_f12_Fairhope_AL.txt') as f:\n",
    "    lst=[line.split()[1] for line in f]\n",
    "    temp=[]\n",
    "    for i in lst:\n",
    "        new=i.replace(',',\"\")\n",
    "        temp.append(new)\n",
    "    temp.pop(0)\n",
    "    temp=[float(x) for x in temp]\n",
    "    temp=temp[1410:1435]\n",
    "    #temp=temp[2015:2063]\n",
    "    print(temp)\n",
    "    ##prfloat(len(temp))\n",
    "#full time period is [2015:2112]"
   ]
  },
  {
   "cell_type": "code",
   "execution_count": 24,
   "id": "83dc8266",
   "metadata": {},
   "outputs": [
    {
     "name": "stdout",
     "output_type": "stream",
     "text": [
      "[9.9, 9.4, 8.85, 8.149999999999999, 8.2, 8.2, 6.75, 5.25, 11.5, 15.100000000000001, 17.15, 18.45, 18.15, 18.6, 19.299999999999997, 20.1, 20.2, 17.05, 14.9, 13.8, 10.45, 9.05, 7.65, 6.45, 6.0]\n"
     ]
    }
   ],
   "source": [
    "#Air Temp CRN:\n",
    "with open('CRNS0101-05-2022-AL_Fairhope_3_NE.txt') as f:\n",
    "    lst=[line.split()[8] for line in f]\n",
    "    \n",
    "    a=(float(lst[17063])+float(lst[17064]))/2\n",
    "    b=(float(lst[17075])+float(lst[17076]))/2\n",
    "    c=(float(lst[17087])+float(lst[17088]))/2\n",
    "    d=(float(lst[17099])+float(lst[17100]))/2\n",
    "    e=(float(lst[17111])+float(lst[17112]))/2\n",
    "    f=(float(lst[17123])+float(lst[17124]))/2\n",
    "    g=(float(lst[17135])+float(lst[17136]))/2\n",
    "    h=(float(lst[17147])+float(lst[17148]))/2\n",
    "    i=(float(lst[17159])+float(lst[17160]))/2\n",
    "    j=(float(lst[17171])+float(lst[17172]))/2\n",
    "    k=(float(lst[17183])+float(lst[17184]))/2\n",
    "    l=(float(lst[17195])+float(lst[17196]))/2\n",
    "    m=(float(lst[17207])+float(lst[17208]))/2\n",
    "    n=(float(lst[17219])+float(lst[17220]))/2\n",
    "    o=(float(lst[17231])+float(lst[17232]))/2\n",
    "    p=(float(lst[17243])+float(lst[17244]))/2\n",
    "    q=(float(lst[17255])+float(lst[17256]))/2\n",
    "    r=(float(lst[17267])+float(lst[17268]))/2\n",
    "    s=(float(lst[17279])+float(lst[17280]))/2\n",
    "    t=(float(lst[17291])+float(lst[17292]))/2\n",
    "    u=(float(lst[17303])+float(lst[17304]))/2\n",
    "    v=(float(lst[17315])+float(lst[17316]))/2\n",
    "    w=(float(lst[17327])+float(lst[17328]))/2\n",
    "    x=(float(lst[17339])+float(lst[17340]))/2\n",
    "    y=(float(lst[17351])+float(lst[17352]))/2\n",
    "    temp_crn=[a,b,c,d,e,f,g,h,i,j,k,l,m,n,o,p,q,r,s,t,u,v,w,x,y]\n",
    "    print(temp_crn)"
   ]
  },
  {
   "cell_type": "code",
   "execution_count": 25,
   "id": "a9ff3306",
   "metadata": {},
   "outputs": [
    {
     "name": "stdout",
     "output_type": "stream",
     "text": [
      "[-0.3851399999999998, -0.457040000000001, -0.37936000000000014, 0.03033000000000108, -0.47730999999999923, -0.861349999999999, 0.29373000000000005, 2.2660799999999997, -0.7710000000000008, -1.4795000000000016, -0.7334999999999994, 0.07260000000000133, 1.2064000000000021, 1.0788999999999973, 0.6372000000000035, 0.3110999999999997, 0.7416000000000018, 1.2481000000000009, 0.33309999999999995, 0.13459999999999894, 2.9547000000000008, 3.6763999999999992, 4.8628, 4.6117, 4.166600000000001]\n"
     ]
    }
   ],
   "source": [
    "difference1_fai = []\n",
    "\n",
    "zip_object = zip(temp, temp_crn)\n",
    "for temp_i, temp_crn_i in zip_object:\n",
    "    difference1_fai.append(temp_i-temp_crn_i)\n",
    "\n",
    "print(difference1_fai)"
   ]
  },
  {
   "cell_type": "markdown",
   "id": "f5dd4e4b",
   "metadata": {},
   "source": [
    "<font size=\"3\">**Selma, AL: 0600 UTC (12:00 am CST) 01 March 2022-0600 UTC (12:00 am CST) 02 March 2022</font>"
   ]
  },
  {
   "cell_type": "code",
   "execution_count": 26,
   "id": "af6b46b1",
   "metadata": {},
   "outputs": [
    {
     "name": "stdout",
     "output_type": "stream",
     "text": [
      "[6.26486, 5.88046, 5.53314, 5.24283, 5.22269, 4.71365, 4.23123, 4.45358, 7.9165, 11.1205, 13.479, 15.6476, 17.2314, 18.6164, 19.5622, 19.9111, 19.8791, 18.4231, 15.4206, 12.9346, 11.4047, 10.3514, 10.1378, 9.24924, 8.04156]\n"
     ]
    }
   ],
   "source": [
    "#1 hr hrrr:\n",
    "import numpy as np\n",
    "import numpy.ma as ma\n",
    "with open('hrrr_f12_Selma_AL.txt') as f:\n",
    "    lst=[line.split()[1] for line in f]\n",
    "    temp=[]\n",
    "    for i in lst:\n",
    "        new=i.replace(',',\"\")\n",
    "        temp.append(new)\n",
    "    temp.pop(0)\n",
    "    temp=[float(x) for x in temp]\n",
    "    temp=temp[1410:1435]\n",
    "\n",
    "#     x = np.array(temp)\n",
    "#     temp = ma.masked_array(x, mask=[0, 0, 0, 0, 0,0,0,0,0,0,0,0,0,0,0,0,0,1,1,1,1,0,0,0,0])\n",
    "    print(temp)"
   ]
  },
  {
   "cell_type": "code",
   "execution_count": 27,
   "id": "942dc824",
   "metadata": {},
   "outputs": [
    {
     "name": "stdout",
     "output_type": "stream",
     "text": [
      "[2.8, 1.65, 1.7000000000000002, 1.1, 0.45, 0.35, 1.25, 1.65, 6.3, 9.95, 13.9, 16.0, 17.5, 18.6, 19.4, 19.549999999999997, 19.3, 18.4, 14.25, 8.8, 7.05, 5.65, 4.85, 4.199999999999999, 3.3]\n"
     ]
    }
   ],
   "source": [
    "#Air Temp CRN:\n",
    "with open('CRNS0101-05-2022-AL_Selma_13_WNW.txt') as f:\n",
    "    lst=[line.split()[8] for line in f]\n",
    "    \n",
    "    a=(float(lst[17063])+float(lst[17064]))/2\n",
    "    b=(float(lst[17075])+float(lst[17076]))/2\n",
    "    c=(float(lst[17087])+float(lst[17088]))/2\n",
    "    d=(float(lst[17099])+float(lst[17100]))/2\n",
    "    e=(float(lst[17111])+float(lst[17112]))/2\n",
    "    f=(float(lst[17123])+float(lst[17124]))/2\n",
    "    g=(float(lst[17135])+float(lst[17136]))/2\n",
    "    h=(float(lst[17147])+float(lst[17148]))/2\n",
    "    i=(float(lst[17159])+float(lst[17160]))/2\n",
    "    j=(float(lst[17171])+float(lst[17172]))/2\n",
    "    k=(float(lst[17183])+float(lst[17184]))/2\n",
    "    l=(float(lst[17195])+float(lst[17196]))/2\n",
    "    m=(float(lst[17207])+float(lst[17208]))/2\n",
    "    n=(float(lst[17219])+float(lst[17220]))/2\n",
    "    o=(float(lst[17231])+float(lst[17232]))/2\n",
    "    p=(float(lst[17243])+float(lst[17244]))/2\n",
    "    q=(float(lst[17255])+float(lst[17256]))/2\n",
    "    r=(float(lst[17267])+float(lst[17268]))/2\n",
    "    s=(float(lst[17279])+float(lst[17280]))/2\n",
    "    t=(float(lst[17291])+float(lst[17292]))/2\n",
    "    u=(float(lst[17303])+float(lst[17304]))/2\n",
    "    v=(float(lst[17315])+float(lst[17316]))/2\n",
    "    w=(float(lst[17327])+float(lst[17328]))/2\n",
    "    x=(float(lst[17339])+float(lst[17340]))/2\n",
    "    y=(float(lst[17351])+float(lst[17352]))/2\n",
    "    temp_crn=[a,b,c,d,e,f,g,h,i,j,k,l,m,n,o,p,q,r,s,t,u,v,w,x,y]\n",
    "    print(temp_crn)"
   ]
  },
  {
   "cell_type": "code",
   "execution_count": 28,
   "id": "fdfb15c8",
   "metadata": {},
   "outputs": [
    {
     "name": "stdout",
     "output_type": "stream",
     "text": [
      "[3.46486, 4.230460000000001, 3.83314, 4.14283, 4.77269, 4.363650000000001, 2.98123, 2.8035799999999997, 1.6165000000000003, 1.1705000000000005, -0.42100000000000115, -0.3523999999999994, -0.2685999999999993, 0.016399999999997306, 0.16220000000000212, 0.361100000000004, 0.5791000000000004, 0.023100000000003007, 1.1706000000000003, 4.134599999999999, 4.3547, 4.7014, 5.287800000000001, 5.049240000000001, 4.741560000000001]\n"
     ]
    }
   ],
   "source": [
    "difference1_sel = []\n",
    "\n",
    "zip_object = zip(temp, temp_crn)\n",
    "for temp_i, temp_crn_i in zip_object:\n",
    "    difference1_sel.append(temp_i-temp_crn_i)\n",
    "\n",
    "print(difference1_sel)\n",
    "##prfloat(len(difference1_sel))"
   ]
  },
  {
   "cell_type": "markdown",
   "id": "8fab4bdc",
   "metadata": {},
   "source": [
    "<font size=\"3\">Bowling Green, KY: 0600 UTC (12:00 am CST) 01 March 2022-0600 UTC (12:00 am CST) 02 March 2022</font>"
   ]
  },
  {
   "cell_type": "code",
   "execution_count": 29,
   "id": "bf608647",
   "metadata": {},
   "outputs": [
    {
     "name": "stdout",
     "output_type": "stream",
     "text": [
      "[3.01486, 2.13046, 1.72064, 1.49283, 1.28519, 1.21365, 1.10623, 1.64108, 4.854, 7.93295, 10.604, 12.5226, 14.7314, 16.3664, 17.3122, 17.4736, 17.4416, 15.5481, 12.8581, 11.1221, 10.0297, 9.22644, 8.82529, 8.12424, 7.97906]\n"
     ]
    }
   ],
   "source": [
    "#1 hr hrrr:\n",
    "with open('hrrr_f12_Bowling Green_KY.txt') as f:\n",
    "    lst=[line.split()[1] for line in f]\n",
    "    temp=[]\n",
    "    for i in lst:\n",
    "        new=i.replace(',',\"\")\n",
    "        temp.append(new)\n",
    "    temp.pop(0)\n",
    "    temp=[float(x) for x in temp]\n",
    "    temp=temp[1410:1435]\n",
    "    #temp=temp[2015:2063]\n",
    "    print(temp)\n",
    "    ##prfloat(len(temp))\n",
    "#full time period is [2015:2112]"
   ]
  },
  {
   "cell_type": "code",
   "execution_count": 30,
   "id": "d7253497",
   "metadata": {},
   "outputs": [
    {
     "name": "stdout",
     "output_type": "stream",
     "text": [
      "[4.95, 4.4, 4.0, 3.5, 3.3, 2.8499999999999996, 3.0, 3.8499999999999996, 6.199999999999999, 9.55, 12.7, 15.45, 18.6, 19.2, 20.15, 20.65, 19.7, 18.25, 16.2, 14.9, 14.4, 13.3, 12.85, 11.6, 10.9]\n"
     ]
    }
   ],
   "source": [
    "#Air Temp CRN:\n",
    "with open('CRNS0101-05-2022-KY_Bowling_Green_21_NNE.txt') as f:\n",
    "    lst=[line.split()[8] for line in f]\n",
    "    \n",
    "    a=(float(lst[17063])+float(lst[17064]))/2\n",
    "    b=(float(lst[17075])+float(lst[17076]))/2\n",
    "    c=(float(lst[17087])+float(lst[17088]))/2\n",
    "    d=(float(lst[17099])+float(lst[17100]))/2\n",
    "    e=(float(lst[17111])+float(lst[17112]))/2\n",
    "    f=(float(lst[17123])+float(lst[17124]))/2\n",
    "    g=(float(lst[17135])+float(lst[17136]))/2\n",
    "    h=(float(lst[17147])+float(lst[17148]))/2\n",
    "    i=(float(lst[17159])+float(lst[17160]))/2\n",
    "    j=(float(lst[17171])+float(lst[17172]))/2\n",
    "    k=(float(lst[17183])+float(lst[17184]))/2\n",
    "    l=(float(lst[17195])+float(lst[17196]))/2\n",
    "    m=(float(lst[17207])+float(lst[17208]))/2\n",
    "    n=(float(lst[17219])+float(lst[17220]))/2\n",
    "    o=(float(lst[17231])+float(lst[17232]))/2\n",
    "    p=(float(lst[17243])+float(lst[17244]))/2\n",
    "    q=(float(lst[17255])+float(lst[17256]))/2\n",
    "    r=(float(lst[17267])+float(lst[17268]))/2\n",
    "    s=(float(lst[17279])+float(lst[17280]))/2\n",
    "    t=(float(lst[17291])+float(lst[17292]))/2\n",
    "    u=(float(lst[17303])+float(lst[17304]))/2\n",
    "    v=(float(lst[17315])+float(lst[17316]))/2\n",
    "    w=(float(lst[17327])+float(lst[17328]))/2\n",
    "    x=(float(lst[17339])+float(lst[17340]))/2\n",
    "    y=(float(lst[17351])+float(lst[17352]))/2\n",
    "    temp_crn=[a,b,c,d,e,f,g,h,i,j,k,l,m,n,o,p,q,r,s,t,u,v,w,x,y]\n",
    "    print(temp_crn)"
   ]
  },
  {
   "cell_type": "code",
   "execution_count": 31,
   "id": "c1e72531",
   "metadata": {},
   "outputs": [
    {
     "name": "stdout",
     "output_type": "stream",
     "text": [
      "[-1.93514, -2.2695400000000006, -2.27936, -2.00717, -2.0148099999999998, -1.6363499999999997, -1.89377, -2.2089199999999996, -1.3459999999999992, -1.6170500000000008, -2.096, -2.9273999999999987, -3.8686000000000007, -2.8336000000000006, -2.837799999999998, -3.1763999999999974, -2.258399999999998, -2.7019, -3.341899999999999, -3.7779000000000007, -4.3703, -4.0735600000000005, -4.024709999999999, -3.4757599999999993, -2.9209400000000008]\n"
     ]
    }
   ],
   "source": [
    "difference1_bow = []\n",
    "\n",
    "zip_object = zip(temp, temp_crn)\n",
    "for temp_i, temp_crn_i in zip_object:\n",
    "    difference1_bow.append(temp_i-temp_crn_i)\n",
    "\n",
    "print(difference1_bow)"
   ]
  },
  {
   "cell_type": "markdown",
   "id": "d1be2cc0",
   "metadata": {},
   "source": [
    "<font size=\"3\">Gadsden, AL: 0600 UTC (12:00 am CST) 01 March 2022-0600 UTC (12:00 am CST) 02 March 2022</font>"
   ]
  },
  {
   "cell_type": "code",
   "execution_count": 32,
   "id": "02793170",
   "metadata": {},
   "outputs": [
    {
     "name": "stdout",
     "output_type": "stream",
     "text": [
      "[4.51486 4.19296 3.90814 3.74283 3.97269 4.27615 4.04373 -- 6.6665 9.68295\n",
      " 10.9165 12.2101 13.4189 14.1789 14.7497 14.7236 14.4416 12.9231 10.3581\n",
      " 9.2471 8.52969 7.97644 8.07529 8.18674 7.41656]\n"
     ]
    }
   ],
   "source": [
    "#1 hr hrrr:\n",
    "with open('hrrr_f12_Gadsden_AL.txt') as f:\n",
    "    lst=[line.split()[1] for line in f]\n",
    "    temp=[]\n",
    "    for i in lst:\n",
    "        new=i.replace(',',\"\")\n",
    "        temp.append(new)\n",
    "    temp.pop(0)\n",
    "    temp=[float(x) for x in temp]\n",
    "    temp=temp[1410:1435]\n",
    "    x = np.array(temp)\n",
    "    temp = ma.masked_array(x, mask=[0, 0, 0, 0, 0,0,0,1,0,0,0,0,0,0,0,0,0,0,0,0,0,0,0,0,0])\n",
    "    #temp=temp[2015:2063]\n",
    "    print(temp)\n",
    "    ##prfloat(len(temp))\n",
    "#full time period is [2015:2112]"
   ]
  },
  {
   "cell_type": "code",
   "execution_count": 33,
   "id": "5fd7f4a3",
   "metadata": {},
   "outputs": [
    {
     "name": "stdout",
     "output_type": "stream",
     "text": [
      "[0.8 0.55 0.95 0.9 1.35 0.1 0.25 -- 7.7 10.8 12.45 13.9 15.15\n",
      " 15.850000000000001 17.0 17.3 17.15 16.15 10.0 8.0 6.550000000000001 5.9\n",
      " 5.0 6.6 5.65]\n"
     ]
    }
   ],
   "source": [
    "#Air Temp CRN:\n",
    "with open('CRNS0101-05-2022-AL_Gadsden_19_N.txt') as f:\n",
    "    lst=[line.split()[8] for line in f]\n",
    "    \n",
    "    a=(float(lst[17063])+float(lst[17064]))/2\n",
    "    b=(float(lst[17075])+float(lst[17076]))/2\n",
    "    c=(float(lst[17087])+float(lst[17088]))/2\n",
    "    d=(float(lst[17099])+float(lst[17100]))/2\n",
    "    e=(float(lst[17111])+float(lst[17112]))/2\n",
    "    f=(float(lst[17123])+float(lst[17124]))/2\n",
    "    g=(float(lst[17135])+float(lst[17136]))/2\n",
    "    h=(float(lst[17147])+float(lst[17148]))/2\n",
    "    i=(float(lst[17159])+float(lst[17160]))/2\n",
    "    j=(float(lst[17171])+float(lst[17172]))/2\n",
    "    k=(float(lst[17183])+float(lst[17184]))/2\n",
    "    l=(float(lst[17195])+float(lst[17196]))/2\n",
    "    m=(float(lst[17207])+float(lst[17208]))/2\n",
    "    n=(float(lst[17219])+float(lst[17220]))/2\n",
    "    o=(float(lst[17231])+float(lst[17232]))/2\n",
    "    p=(float(lst[17243])+float(lst[17244]))/2\n",
    "    q=(float(lst[17255])+float(lst[17256]))/2\n",
    "    r=(float(lst[17267])+float(lst[17268]))/2\n",
    "    s=(float(lst[17279])+float(lst[17280]))/2\n",
    "    t=(float(lst[17291])+float(lst[17292]))/2\n",
    "    u=(float(lst[17303])+float(lst[17304]))/2\n",
    "    v=(float(lst[17315])+float(lst[17316]))/2\n",
    "    w=(float(lst[17327])+float(lst[17328]))/2\n",
    "    x=(float(lst[17339])+float(lst[17340]))/2\n",
    "    y=(float(lst[17351])+float(lst[17352]))/2\n",
    "    temp_crn=[a,b,c,d,e,f,g,h,i,j,k,l,m,n,o,p,q,r,s,t,u,v,w,x,y]\n",
    "    y = np.array(temp_crn)\n",
    "    temp_crn = ma.masked_array(y, mask=[0, 0, 0, 0, 0,0,0,1,0,0,0,0,0,0,0,0,0,0,0,0,0,0,0,0,0])\n",
    "    print(temp_crn)"
   ]
  },
  {
   "cell_type": "code",
   "execution_count": 34,
   "id": "c002ac76",
   "metadata": {},
   "outputs": [
    {
     "name": "stdout",
     "output_type": "stream",
     "text": [
      "[3.71486, 3.6429600000000004, 2.95814, 2.84283, 2.62269, 4.176150000000001, 3.79373, masked, -1.0335, -1.1170500000000008, -1.5335, -1.6898999999999997, -1.7310999999999996, -1.671100000000001, -2.2502999999999993, -2.5764000000000014, -2.7083999999999993, -3.2268999999999988, 0.3581000000000003, 1.2470999999999997, 1.9796899999999997, 2.07644, 3.0752900000000007, 1.5867400000000007, 1.7665599999999992]\n"
     ]
    }
   ],
   "source": [
    "difference1_gad = []\n",
    "\n",
    "zip_object = zip(temp, temp_crn)\n",
    "for temp_i, temp_crn_i in zip_object:\n",
    "    difference1_gad.append(temp_i-temp_crn_i)\n",
    "\n",
    "print(difference1_gad)"
   ]
  },
  {
   "cell_type": "markdown",
   "id": "d430f7c6",
   "metadata": {},
   "source": [
    "<font size=\"3\">Newton, GA: 0600 UTC (12:00 am CST) 01 March 2022-0600 UTC (12:00 am CST) 02 March 2022</font>"
   ]
  },
  {
   "cell_type": "code",
   "execution_count": 35,
   "id": "e78bb8bf",
   "metadata": {},
   "outputs": [
    {
     "name": "stdout",
     "output_type": "stream",
     "text": [
      "[9.07736, 10.5055, 8.15814, 7.30533, 6.28519, 5.71365, 5.73123, 6.32858, 9.854, 12.6205, 15.7915, 17.3351, 19.2314, 20.1789, 20.9997, 21.2236, 21.1916, 20.1106, 17.0456, 15.9346, 14.2172, 12.4139, 11.9503, 10.2492, 9.29156]\n"
     ]
    }
   ],
   "source": [
    "#1 hr hrrr:\n",
    "with open('hrrr_f12_Newton_GA.txt') as f:\n",
    "    lst=[line.split()[1] for line in f]\n",
    "    temp=[]\n",
    "    for i in lst:\n",
    "        new=i.replace(',',\"\")\n",
    "        temp.append(new)\n",
    "    temp.pop(0)\n",
    "    temp=[float(x) for x in temp]\n",
    "    temp=temp[1410:1435]\n",
    "    #temp=temp[2015:2063]\n",
    "    print(temp)\n",
    "    ##prfloat(len(temp))\n",
    "#full time period is [2015:2112]"
   ]
  },
  {
   "cell_type": "code",
   "execution_count": 36,
   "id": "52b388f2",
   "metadata": {},
   "outputs": [
    {
     "name": "stdout",
     "output_type": "stream",
     "text": [
      "[6.75, 5.75, 5.15, 5.4, 4.0, 3.95, 3.4, 5.35, 9.5, 12.65, 16.35, 18.1, 18.9, 20.0, 21.05, 21.25, 21.2, 19.85, 15.350000000000001, 12.45, 10.7, 9.45, 7.35, 7.15, 6.2]\n"
     ]
    }
   ],
   "source": [
    "#Air Temp CRN:\n",
    "with open('CRNS0101-05-2022-GA_Newton_11_SW.txt') as f:\n",
    "    lst=[line.split()[8] for line in f]\n",
    "    \n",
    "    a=(float(lst[17063])+float(lst[17064]))/2\n",
    "    b=(float(lst[17075])+float(lst[17076]))/2\n",
    "    c=(float(lst[17087])+float(lst[17088]))/2\n",
    "    d=(float(lst[17099])+float(lst[17100]))/2\n",
    "    e=(float(lst[17111])+float(lst[17112]))/2\n",
    "    f=(float(lst[17123])+float(lst[17124]))/2\n",
    "    g=(float(lst[17135])+float(lst[17136]))/2\n",
    "    h=(float(lst[17147])+float(lst[17148]))/2\n",
    "    i=(float(lst[17159])+float(lst[17160]))/2\n",
    "    j=(float(lst[17171])+float(lst[17172]))/2\n",
    "    k=(float(lst[17183])+float(lst[17184]))/2\n",
    "    l=(float(lst[17195])+float(lst[17196]))/2\n",
    "    m=(float(lst[17207])+float(lst[17208]))/2\n",
    "    n=(float(lst[17219])+float(lst[17220]))/2\n",
    "    o=(float(lst[17231])+float(lst[17232]))/2\n",
    "    p=(float(lst[17243])+float(lst[17244]))/2\n",
    "    q=(float(lst[17255])+float(lst[17256]))/2\n",
    "    r=(float(lst[17267])+float(lst[17268]))/2\n",
    "    s=(float(lst[17279])+float(lst[17280]))/2\n",
    "    t=(float(lst[17291])+float(lst[17292]))/2\n",
    "    u=(float(lst[17303])+float(lst[17304]))/2\n",
    "    v=(float(lst[17315])+float(lst[17316]))/2\n",
    "    w=(float(lst[17327])+float(lst[17328]))/2\n",
    "    x=(float(lst[17339])+float(lst[17340]))/2\n",
    "    y=(float(lst[17351])+float(lst[17352]))/2\n",
    "    temp_crn=[a,b,c,d,e,f,g,h,i,j,k,l,m,n,o,p,q,r,s,t,u,v,w,x,y]\n",
    "    print(temp_crn)"
   ]
  },
  {
   "cell_type": "code",
   "execution_count": 37,
   "id": "f2141c03",
   "metadata": {},
   "outputs": [
    {
     "name": "stdout",
     "output_type": "stream",
     "text": [
      "[2.3273600000000005, 4.7555, 3.008139999999999, 1.9053299999999993, 2.28519, 1.7636500000000002, 2.33123, 0.97858, 0.3539999999999992, -0.029500000000000526, -0.5585000000000022, -0.7649000000000008, 0.33140000000000214, 0.17889999999999873, -0.05030000000000001, -0.02639999999999887, -0.008399999999998187, 0.26060000000000016, 1.6955999999999989, 3.4846000000000004, 3.5172000000000008, 2.9639000000000006, 4.600300000000001, 3.0991999999999997, 3.0915600000000003]\n"
     ]
    }
   ],
   "source": [
    "difference1_newt = []\n",
    "\n",
    "zip_object = zip(temp, temp_crn)\n",
    "for temp_i, temp_crn_i in zip_object:\n",
    "    difference1_newt.append(temp_i-temp_crn_i)\n",
    "\n",
    "print(difference1_newt)"
   ]
  },
  {
   "cell_type": "markdown",
   "id": "8ee79bb2",
   "metadata": {},
   "source": [
    "<font size=\"3\">Salem, MO: 1200 UTC 22 March 2022-1200 UTC 23 March 2022</font>"
   ]
  },
  {
   "cell_type": "code",
   "execution_count": 38,
   "id": "01442781",
   "metadata": {},
   "outputs": [
    {
     "name": "stdout",
     "output_type": "stream",
     "text": [
      "[-0.590759, -0.319641, -0.124878, 0.028595, 0.0329285, 0.179291, 0.21228, 0.693329, 3.68619, 6.70285, 9.22385, 11.8117, 14.1844, 15.9666, 17.0616, 17.8093, 17.8873, 16.7959, 13.7957, 11.4784, 10.2579, 9.30884, 8.51297, 8.12674, 7.03265]\n"
     ]
    }
   ],
   "source": [
    "#1 hr hrrr:\n",
    "with open('hrrr_f12_Salem_MO.txt') as f:\n",
    "    lst=[line.split()[1] for line in f]\n",
    "    temp=[]\n",
    "    for i in lst:\n",
    "        new=i.replace(',',\"\")\n",
    "        temp.append(new)\n",
    "    temp.pop(0)\n",
    "    temp=[float(x) for x in temp]\n",
    "    temp=temp[1698:1723]\n",
    "    #temp=temp[2015:2063]\n",
    "    print(temp)\n",
    "    #prfloat(len(temp))\n",
    "#full time period is [2015:2112]"
   ]
  },
  {
   "cell_type": "code",
   "execution_count": 39,
   "id": "5c26c31d",
   "metadata": {},
   "outputs": [
    {
     "name": "stdout",
     "output_type": "stream",
     "text": [
      "[-1.2999999999999998, -0.5, -0.8500000000000001, -0.05, 1.6, 1.7, 0.8, 2.15, 5.5, 9.35, 12.600000000000001, 15.5, 17.15, 18.35, 18.9, 19.0, 18.9, 17.65, 15.55, 12.35, 11.95, 11.350000000000001, 10.45, 9.850000000000001, 8.8]\n"
     ]
    }
   ],
   "source": [
    "#Air Temp CRN:\n",
    "with open('CRNS0101-05-2022-MO_Salem_10_W.txt') as f:\n",
    "    lst=[line.split()[8] for line in f]\n",
    "    \n",
    "    a=(float(lst[20519])+float(lst[20520]))/2\n",
    "    b=(float(lst[20531])+float(lst[20532]))/2\n",
    "    c=(float(lst[20543])+float(lst[20544]))/2\n",
    "    d=(float(lst[20555])+float(lst[20556]))/2\n",
    "    e=(float(lst[20567])+float(lst[20568]))/2\n",
    "    f=(float(lst[20579])+float(lst[20580]))/2\n",
    "    g=(float(lst[20591])+float(lst[20592]))/2\n",
    "    h=(float(lst[20603])+float(lst[20604]))/2\n",
    "    i=(float(lst[20615])+float(lst[20616]))/2\n",
    "    j=(float(lst[20627])+float(lst[20628]))/2\n",
    "    k=(float(lst[20639])+float(lst[20640]))/2\n",
    "    l=(float(lst[20651])+float(lst[20652]))/2\n",
    "    m=(float(lst[20663])+float(lst[20664]))/2\n",
    "    n=(float(lst[20675])+float(lst[20676]))/2\n",
    "    o=(float(lst[20687])+float(lst[20688]))/2\n",
    "    p=(float(lst[20699])+float(lst[20700]))/2\n",
    "    q=(float(lst[20711])+float(lst[20712]))/2\n",
    "    r=(float(lst[20723])+float(lst[20724]))/2\n",
    "    s=(float(lst[20735])+float(lst[20736]))/2\n",
    "    t=(float(lst[20747])+float(lst[20748]))/2\n",
    "    u=(float(lst[20759])+float(lst[20760]))/2\n",
    "    v=(float(lst[20771])+float(lst[20772]))/2\n",
    "    w=(float(lst[20783])+float(lst[20784]))/2\n",
    "    x=(float(lst[20795])+float(lst[20796]))/2\n",
    "    y=(float(lst[20807])+float(lst[20808]))/2\n",
    "    \n",
    "    temp_crn=[a,b,c,d,e,f,g,h,i,j,k,l,m,n,o,p,q,r,s,t,u,v,w,x,y]\n",
    "    print(temp_crn)"
   ]
  },
  {
   "cell_type": "code",
   "execution_count": 40,
   "id": "3f860af3",
   "metadata": {},
   "outputs": [
    {
     "name": "stdout",
     "output_type": "stream",
     "text": [
      "[0.7092409999999998, 0.180359, 0.725122, 0.078595, -1.5670715000000002, -1.5207089999999999, -0.58772, -1.456671, -1.8138100000000001, -2.64715, -3.376150000000001, -3.6883, -2.9655999999999985, -2.3834000000000017, -1.8384, -1.1906999999999996, -1.0126999999999988, -0.854099999999999, -1.7543000000000006, -0.871599999999999, -1.6921, -2.0411600000000014, -1.93703, -1.7232600000000016, -1.7673500000000004]\n"
     ]
    }
   ],
   "source": [
    "difference2_sal = []\n",
    "\n",
    "zip_object = zip(temp, temp_crn)\n",
    "for temp_i, temp_crn_i in zip_object:\n",
    "    difference2_sal.append(temp_i-temp_crn_i)\n",
    "\n",
    "print(difference2_sal)"
   ]
  },
  {
   "cell_type": "markdown",
   "id": "521bd7c5",
   "metadata": {},
   "source": [
    "<font size=\"3\">Batesville, AR: 0600 UTC (12:00 am CST) 01 March 2022-0600 UTC (12:00 am CST) 02 March 2022</font>"
   ]
  },
  {
   "cell_type": "code",
   "execution_count": 41,
   "id": "fac2aa09",
   "metadata": {},
   "outputs": [
    {
     "name": "stdout",
     "output_type": "stream",
     "text": [
      "[-0.340759, -0.0696411, 0.0626221, 0.091095, 0.157928, 0.366791, 0.21228, 0.505829, 4.18619, 6.89035, 9.03635, 10.8117, 12.3719, 13.7791, 14.8741, 15.7468, 15.8873, 14.7334, 11.9832, 9.47842, 7.9454, 7.24634, 6.76297, 6.06424, 4.90765]\n"
     ]
    }
   ],
   "source": [
    "#1 hr hrrr:\n",
    "with open('hrrr_f12_Batesville_AR.txt') as f:\n",
    "    lst=[line.split()[1] for line in f]\n",
    "    temp=[]\n",
    "    for i in lst:\n",
    "        new=i.replace(',',\"\")\n",
    "        temp.append(new)\n",
    "    temp.pop(0)\n",
    "    temp=[float(x) for x in temp]\n",
    "    temp=temp[1698:1723]\n",
    "#     x = np.array(temp)\n",
    "#     temp = ma.masked_array(x, mask=[0, 0, 0, 0, 0,0,0,0,0,0,0,0,0,0,0,0,0,0,0,0,0,1,0,0,0])\n",
    "    #temp=temp[2015:2063]\n",
    "    print(temp)\n",
    "    #prfloat(len(temp))\n",
    "#full time period is [2015:2112]"
   ]
  },
  {
   "cell_type": "code",
   "execution_count": 42,
   "id": "ddec2780",
   "metadata": {},
   "outputs": [
    {
     "name": "stdout",
     "output_type": "stream",
     "text": [
      "[-1.8, 1.05, 1.45, 1.45, 1.4, 1.65, 1.45, 2.5, 4.85, 7.35, 9.55, 12.35, 14.7, 15.3, 16.0, 16.85, 17.0, 16.15, 13.65, 11.0, 9.1, 9.399999999999999, 9.75, 9.55, 9.5]\n"
     ]
    }
   ],
   "source": [
    "#Air Temp CRN:\n",
    "with open('CRNS0101-05-2022-AR_Batesville_8_WNW.txt') as f:\n",
    "    lst=[line.split()[8] for line in f]\n",
    "    \n",
    "    a=(float(lst[20519])+float(lst[20520]))/2\n",
    "    b=(float(lst[20531])+float(lst[20532]))/2\n",
    "    c=(float(lst[20543])+float(lst[20544]))/2\n",
    "    d=(float(lst[20555])+float(lst[20556]))/2\n",
    "    e=(float(lst[20567])+float(lst[20568]))/2\n",
    "    f=(float(lst[20579])+float(lst[20580]))/2\n",
    "    g=(float(lst[20591])+float(lst[20592]))/2\n",
    "    h=(float(lst[20603])+float(lst[20604]))/2\n",
    "    i=(float(lst[20615])+float(lst[20616]))/2\n",
    "    j=(float(lst[20627])+float(lst[20628]))/2\n",
    "    k=(float(lst[20639])+float(lst[20640]))/2\n",
    "    l=(float(lst[20651])+float(lst[20652]))/2\n",
    "    m=(float(lst[20663])+float(lst[20664]))/2\n",
    "    n=(float(lst[20675])+float(lst[20676]))/2\n",
    "    o=(float(lst[20687])+float(lst[20688]))/2\n",
    "    p=(float(lst[20699])+float(lst[20700]))/2\n",
    "    q=(float(lst[20711])+float(lst[20712]))/2\n",
    "    r=(float(lst[20723])+float(lst[20724]))/2\n",
    "    s=(float(lst[20735])+float(lst[20736]))/2\n",
    "    t=(float(lst[20747])+float(lst[20748]))/2\n",
    "    u=(float(lst[20759])+float(lst[20760]))/2\n",
    "    v=(float(lst[20771])+float(lst[20772]))/2\n",
    "    w=(float(lst[20783])+float(lst[20784]))/2\n",
    "    x=(float(lst[20795])+float(lst[20796]))/2\n",
    "    y=(float(lst[20807])+float(lst[20808]))/2\n",
    "    \n",
    "    temp_crn=[a,b,c,d,e,f,g,h,i,j,k,l,m,n,o,p,q,r,s,t,u,v,w,x,y]\n",
    "    print(temp_crn)"
   ]
  },
  {
   "cell_type": "code",
   "execution_count": 43,
   "id": "6a5a229b",
   "metadata": {},
   "outputs": [
    {
     "name": "stdout",
     "output_type": "stream",
     "text": [
      "[1.459241, -1.1196411, -1.3873779, -1.358905, -1.2420719999999998, -1.2832089999999998, -1.23772, -1.9941710000000001, -0.6638099999999998, -0.4596499999999999, -0.5136500000000002, -1.5382999999999996, -2.328099999999999, -1.520900000000001, -1.1258999999999997, -1.103200000000001, -1.1127000000000002, -1.416599999999999, -1.6668000000000003, -1.5215800000000002, -1.1545999999999994, -2.1536599999999986, -2.98703, -3.485760000000001, -4.59235]\n"
     ]
    }
   ],
   "source": [
    "difference2_bat = []\n",
    "\n",
    "zip_object = zip(temp, temp_crn)\n",
    "for temp_i, temp_crn_i in zip_object:\n",
    "    difference2_bat.append(temp_i-temp_crn_i)\n",
    "\n",
    "print(difference2_bat)"
   ]
  },
  {
   "cell_type": "markdown",
   "id": "16bf265f",
   "metadata": {},
   "source": [
    "<font size=\"3\">Lafayette, LA: 0600 UTC (12:00 am CST) 01 March 2022-0600 UTC (12:00 am CST) 02 March 2022</font>"
   ]
  },
  {
   "cell_type": "code",
   "execution_count": 44,
   "id": "b23c7950",
   "metadata": {},
   "outputs": [
    {
     "name": "stdout",
     "output_type": "stream",
     "text": [
      "[3.09674, 2.30536, 1.75012, 1.15359, 0.470428, 0.366791, 0.0872803, 0.880829, 4.68619, 8.51535, 10.9738, 12.9992, 14.7469, 16.3416, 17.1866, 17.4968, 16.5748, 15.6084, 14.1082, 12.4784, 11.4454, 11.4963, 11.513, 10.3767, 10.7202]\n"
     ]
    }
   ],
   "source": [
    "#1 hr hrrr:\n",
    "with open('hrrr_f12_Lafayette_LA.txt') as f:\n",
    "    lst=[line.split()[1] for line in f]\n",
    "    temp=[]\n",
    "    for i in lst:\n",
    "        new=i.replace(',',\"\")\n",
    "        temp.append(new)\n",
    "    temp.pop(0)\n",
    "    temp=[float(x) for x in temp]\n",
    "    temp=temp[1698:1723]\n",
    "    #temp=temp[2015:2063]\n",
    "    print(temp)\n",
    "    ##prfloat(len(temp))\n",
    "#full time period is [2015:2112]"
   ]
  },
  {
   "cell_type": "code",
   "execution_count": 45,
   "id": "322db923",
   "metadata": {},
   "outputs": [
    {
     "name": "stdout",
     "output_type": "stream",
     "text": [
      "[2.5, 1.6, 0.15, -0.8500000000000001, -1.55, -1.5, 0.6499999999999999, 1.25, 4.4, 7.35, 9.8, 11.15, 12.6, 13.649999999999999, 14.5, 14.4, 14.45, 14.45, 12.6, 11.25, 8.75, 7.75, 8.8, 7.85, 8.9]\n"
     ]
    }
   ],
   "source": [
    "#Air Temp CRN:\n",
    "with open('CRNS0101-05-2022-LA_Lafayette_13_SE.txt') as f:\n",
    "    lst=[line.split()[8] for line in f]\n",
    "    \n",
    "    a=(float(lst[20519])+float(lst[20520]))/2\n",
    "    b=(float(lst[20531])+float(lst[20532]))/2\n",
    "    c=(float(lst[20543])+float(lst[20544]))/2\n",
    "    d=(float(lst[20555])+float(lst[20556]))/2\n",
    "    e=(float(lst[20567])+float(lst[20568]))/2\n",
    "    f=(float(lst[20579])+float(lst[20580]))/2\n",
    "    g=(float(lst[20591])+float(lst[20592]))/2\n",
    "    h=(float(lst[20603])+float(lst[20604]))/2\n",
    "    i=(float(lst[20615])+float(lst[20616]))/2\n",
    "    j=(float(lst[20627])+float(lst[20628]))/2\n",
    "    k=(float(lst[20639])+float(lst[20640]))/2\n",
    "    l=(float(lst[20651])+float(lst[20652]))/2\n",
    "    m=(float(lst[20663])+float(lst[20664]))/2\n",
    "    n=(float(lst[20675])+float(lst[20676]))/2\n",
    "    o=(float(lst[20687])+float(lst[20688]))/2\n",
    "    p=(float(lst[20699])+float(lst[20700]))/2\n",
    "    q=(float(lst[20711])+float(lst[20712]))/2\n",
    "    r=(float(lst[20723])+float(lst[20724]))/2\n",
    "    s=(float(lst[20735])+float(lst[20736]))/2\n",
    "    t=(float(lst[20747])+float(lst[20748]))/2\n",
    "    u=(float(lst[20759])+float(lst[20760]))/2\n",
    "    v=(float(lst[20771])+float(lst[20772]))/2\n",
    "    w=(float(lst[20783])+float(lst[20784]))/2\n",
    "    x=(float(lst[20795])+float(lst[20796]))/2\n",
    "    y=(float(lst[20807])+float(lst[20808]))/2\n",
    "    \n",
    "    temp_crn=[a,b,c,d,e,f,g,h,i,j,k,l,m,n,o,p,q,r,s,t,u,v,w,x,y]\n",
    "    print(temp_crn)"
   ]
  },
  {
   "cell_type": "code",
   "execution_count": 46,
   "id": "07cf95c8",
   "metadata": {},
   "outputs": [
    {
     "name": "stdout",
     "output_type": "stream",
     "text": [
      "[0.59674, 0.7053599999999998, 1.60012, 2.00359, 2.020428, 1.866791, -0.5627196999999999, -0.369171, 0.2861899999999995, 1.16535, 1.1738, 1.8491999999999997, 2.1469000000000005, 2.691600000000001, 2.6865999999999985, 3.0968, 2.1248000000000005, 1.1584000000000003, 1.5082000000000004, 1.2284000000000006, 2.6953999999999994, 3.7462999999999997, 2.712999999999999, 2.5267, 1.8201999999999998]\n"
     ]
    }
   ],
   "source": [
    "difference2_laf = []\n",
    "\n",
    "zip_object = zip(temp, temp_crn)\n",
    "for temp_i, temp_crn_i in zip_object:\n",
    "    difference2_laf.append(temp_i-temp_crn_i)\n",
    "\n",
    "print(difference2_laf)"
   ]
  },
  {
   "cell_type": "markdown",
   "id": "cda99a3a",
   "metadata": {},
   "source": [
    "<font size=\"3\">Monroe, LA: 0600 UTC (12:00 am CST) 01 March 2022-0600 UTC (12:00 am CST) 02 March 2022</font>"
   ]
  },
  {
   "cell_type": "code",
   "execution_count": 47,
   "id": "3c145693",
   "metadata": {},
   "outputs": [
    {
     "name": "stdout",
     "output_type": "stream",
     "text": [
      "[0.846741, 0.430359, 0.125122, -0.283905, -0.529572, -0.570709, -0.53772, -0.119171, 2.99869, 5.89035, 8.41135, 11.0617, 12.7469, 14.5916, 15.5616, 16.1843, 16.3248, 15.6709, 13.6707, 10.9784, 9.3204, 8.43384, 7.70047, 7.18924, 6.84515]\n"
     ]
    }
   ],
   "source": [
    "#1 hr hrrr:\n",
    "with open('hrrr_f12_Monroe_LA.txt') as f:\n",
    "    lst=[line.split()[1] for line in f]\n",
    "    temp=[]\n",
    "    for i in lst:\n",
    "        new=i.replace(',',\"\")\n",
    "        temp.append(new)\n",
    "    temp.pop(0)\n",
    "    temp=[float(x) for x in temp]\n",
    "    temp=temp[1698:1723]\n",
    "    #temp=temp[2015:2063]\n",
    "    print(temp)\n",
    "    ##prfloat(len(temp))\n",
    "#full time period is [2015:2112]"
   ]
  },
  {
   "cell_type": "code",
   "execution_count": 48,
   "id": "facb606c",
   "metadata": {},
   "outputs": [
    {
     "name": "stdout",
     "output_type": "stream",
     "text": [
      "[-1.8, -2.25, -2.1500000000000004, -2.0, -2.6500000000000004, -3.05, -3.0, -1.8, 2.65, 6.35, 9.4, 12.0, 13.25, 14.4, 15.55, 15.75, 16.4, 15.850000000000001, 13.85, 9.5, 7.2, 5.05, 4.4, 5.2, 5.1]\n"
     ]
    }
   ],
   "source": [
    "#Air Temp CRN:\n",
    "with open('CRNS0101-05-2022-LA_Monroe_26_N.txt') as f:\n",
    "    lst=[line.split()[8] for line in f]\n",
    "    \n",
    "    a=(float(lst[20519])+float(lst[20520]))/2\n",
    "    b=(float(lst[20531])+float(lst[20532]))/2\n",
    "    c=(float(lst[20543])+float(lst[20544]))/2\n",
    "    d=(float(lst[20555])+float(lst[20556]))/2\n",
    "    e=(float(lst[20567])+float(lst[20568]))/2\n",
    "    f=(float(lst[20579])+float(lst[20580]))/2\n",
    "    g=(float(lst[20591])+float(lst[20592]))/2\n",
    "    h=(float(lst[20603])+float(lst[20604]))/2\n",
    "    i=(float(lst[20615])+float(lst[20616]))/2\n",
    "    j=(float(lst[20627])+float(lst[20628]))/2\n",
    "    k=(float(lst[20639])+float(lst[20640]))/2\n",
    "    l=(float(lst[20651])+float(lst[20652]))/2\n",
    "    m=(float(lst[20663])+float(lst[20664]))/2\n",
    "    n=(float(lst[20675])+float(lst[20676]))/2\n",
    "    o=(float(lst[20687])+float(lst[20688]))/2\n",
    "    p=(float(lst[20699])+float(lst[20700]))/2\n",
    "    q=(float(lst[20711])+float(lst[20712]))/2\n",
    "    r=(float(lst[20723])+float(lst[20724]))/2\n",
    "    s=(float(lst[20735])+float(lst[20736]))/2\n",
    "    t=(float(lst[20747])+float(lst[20748]))/2\n",
    "    u=(float(lst[20759])+float(lst[20760]))/2\n",
    "    v=(float(lst[20771])+float(lst[20772]))/2\n",
    "    w=(float(lst[20783])+float(lst[20784]))/2\n",
    "    x=(float(lst[20795])+float(lst[20796]))/2\n",
    "    y=(float(lst[20807])+float(lst[20808]))/2\n",
    "    \n",
    "    temp_crn=[a,b,c,d,e,f,g,h,i,j,k,l,m,n,o,p,q,r,s,t,u,v,w,x,y]\n",
    "    print(temp_crn)"
   ]
  },
  {
   "cell_type": "code",
   "execution_count": 49,
   "id": "e5057ed5",
   "metadata": {},
   "outputs": [
    {
     "name": "stdout",
     "output_type": "stream",
     "text": [
      "[2.646741, 2.680359, 2.2751220000000005, 1.716095, 2.1204280000000004, 2.479291, 2.46228, 1.6808290000000001, 0.34868999999999994, -0.4596499999999999, -0.9886499999999998, -0.9382999999999999, -0.5030999999999999, 0.19159999999999933, 0.01159999999999961, 0.43430000000000035, -0.07519999999999882, -0.1791000000000018, -0.17929999999999957, 1.4784000000000006, 2.120399999999999, 3.38384, 3.30047, 1.9892399999999997, 1.7451500000000006]\n"
     ]
    }
   ],
   "source": [
    "difference2_mon = []\n",
    "\n",
    "zip_object = zip(temp, temp_crn)\n",
    "for temp_i, temp_crn_i in zip_object:\n",
    "    difference2_mon.append(temp_i-temp_crn_i)\n",
    "\n",
    "print(difference2_mon)"
   ]
  },
  {
   "cell_type": "markdown",
   "id": "50b6ccdc",
   "metadata": {},
   "source": [
    "<font size=\"3\">Holly Springs, MS: 0600 UTC (12:00 am CST) 01 March 2022-0600 UTC (12:00 am CST) 02 March 2022</font>"
   ]
  },
  {
   "cell_type": "code",
   "execution_count": 50,
   "id": "04968dd0",
   "metadata": {},
   "outputs": [
    {
     "name": "stdout",
     "output_type": "stream",
     "text": [
      "[-0.715759, -0.757141, -0.937378, -0.908905, -0.904572, -0.758209, -0.78772, -0.431671, 1.74869, 4.07785, 6.41135, 8.93674, 11.2469, 12.9666, 14.0616, 14.9968, 14.6373, 13.7334, 10.7957, 8.72842, 7.6329, 6.68384, 5.95047, 5.31424, 4.47015]\n"
     ]
    }
   ],
   "source": [
    "#1 hr hrrr:\n",
    "with open('hrrr_f12_Holly Springs_MS.txt') as f:\n",
    "    lst=[line.split()[1] for line in f]\n",
    "    temp=[]\n",
    "    for i in lst:\n",
    "        new=i.replace(',',\"\")\n",
    "        temp.append(new)\n",
    "    temp.pop(0)\n",
    "    temp=[float(x) for x in temp]\n",
    "    temp=temp[1698:1723]\n",
    "    #temp=temp[2015:2063]\n",
    "    print(temp)\n",
    "    ##prfloat(len(temp))\n",
    "#full time period is [2015:2112]"
   ]
  },
  {
   "cell_type": "code",
   "execution_count": 51,
   "id": "3d3b4214",
   "metadata": {},
   "outputs": [
    {
     "name": "stdout",
     "output_type": "stream",
     "text": [
      "[-5.85, -6.5, -4.699999999999999, -4.5, -5.15, -4.699999999999999, -4.1, -2.7, 0.35, 4.15, 7.4, 10.0, 12.1, 13.3, 14.35, 15.05, 15.0, 14.0, 12.25, 5.35, 4.7, 3.45, 4.65, 6.1, 6.05]\n"
     ]
    }
   ],
   "source": [
    "#Air Temp CRN:\n",
    "with open('CRNS0101-05-2022-MS_Holly_Springs_4_N.txt') as f:\n",
    "    lst=[line.split()[8] for line in f]\n",
    "    \n",
    "    a=(float(lst[20519])+float(lst[20520]))/2\n",
    "    b=(float(lst[20531])+float(lst[20532]))/2\n",
    "    c=(float(lst[20543])+float(lst[20544]))/2\n",
    "    d=(float(lst[20555])+float(lst[20556]))/2\n",
    "    e=(float(lst[20567])+float(lst[20568]))/2\n",
    "    f=(float(lst[20579])+float(lst[20580]))/2\n",
    "    g=(float(lst[20591])+float(lst[20592]))/2\n",
    "    h=(float(lst[20603])+float(lst[20604]))/2\n",
    "    i=(float(lst[20615])+float(lst[20616]))/2\n",
    "    j=(float(lst[20627])+float(lst[20628]))/2\n",
    "    k=(float(lst[20639])+float(lst[20640]))/2\n",
    "    l=(float(lst[20651])+float(lst[20652]))/2\n",
    "    m=(float(lst[20663])+float(lst[20664]))/2\n",
    "    n=(float(lst[20675])+float(lst[20676]))/2\n",
    "    o=(float(lst[20687])+float(lst[20688]))/2\n",
    "    p=(float(lst[20699])+float(lst[20700]))/2\n",
    "    q=(float(lst[20711])+float(lst[20712]))/2\n",
    "    r=(float(lst[20723])+float(lst[20724]))/2\n",
    "    s=(float(lst[20735])+float(lst[20736]))/2\n",
    "    t=(float(lst[20747])+float(lst[20748]))/2\n",
    "    u=(float(lst[20759])+float(lst[20760]))/2\n",
    "    v=(float(lst[20771])+float(lst[20772]))/2\n",
    "    w=(float(lst[20783])+float(lst[20784]))/2\n",
    "    x=(float(lst[20795])+float(lst[20796]))/2\n",
    "    y=(float(lst[20807])+float(lst[20808]))/2\n",
    "    \n",
    "    temp_crn=[a,b,c,d,e,f,g,h,i,j,k,l,m,n,o,p,q,r,s,t,u,v,w,x,y]\n",
    "    print(temp_crn)"
   ]
  },
  {
   "cell_type": "code",
   "execution_count": 52,
   "id": "b1ba34c2",
   "metadata": {},
   "outputs": [
    {
     "name": "stdout",
     "output_type": "stream",
     "text": [
      "[5.134240999999999, 5.742859, 3.7626219999999995, 3.591095, 4.245428, 3.9417909999999994, 3.3122799999999994, 2.268329, 1.3986900000000002, -0.0721500000000006, -0.9886500000000007, -1.0632599999999996, -0.8530999999999995, -0.33340000000000103, -0.2883999999999993, -0.05320000000000036, -0.36270000000000024, -0.2666000000000004, -1.4543, 3.37842, 2.9329, 3.23384, 1.3004699999999998, -0.7857599999999998, -1.5798499999999995]\n"
     ]
    }
   ],
   "source": [
    "difference2_hol = []\n",
    "\n",
    "zip_object = zip(temp, temp_crn)\n",
    "for temp_i, temp_crn_i in zip_object:\n",
    "    difference2_hol.append(temp_i-temp_crn_i)\n",
    "\n",
    "print(difference2_hol)"
   ]
  },
  {
   "cell_type": "markdown",
   "id": "9dd596b5",
   "metadata": {},
   "source": [
    "<font size=\"3\">Newton, MS: 0600 UTC (12:00 am CST) 01 March 2022-0600 UTC (12:00 am CST) 02 March 2022</font>"
   ]
  },
  {
   "cell_type": "code",
   "execution_count": 53,
   "id": "67050150",
   "metadata": {},
   "outputs": [
    {
     "name": "stdout",
     "output_type": "stream",
     "text": [
      "[-1.02826, -1.31964, -2.93738, -3.59641, -3.90457, -4.19571, -4.35022, -2.86917, 1.74869, 5.14035, 8.03635, 10.2492, 11.7469, 13.5291, 14.4366, 15.0593, 15.1373, 14.4834, 12.1707, 9.66592, 8.0704, 7.12134, 6.13797, 5.31424, 4.40765]\n"
     ]
    }
   ],
   "source": [
    "#1 hr hrrr:\n",
    "with open('hrrr_f12_Newton_MS.txt') as f:\n",
    "    lst=[line.split()[1] for line in f]\n",
    "    temp=[]\n",
    "    for i in lst:\n",
    "        new=i.replace(',',\"\")\n",
    "        temp.append(new)\n",
    "    temp.pop(0)\n",
    "    temp=[float(x) for x in temp]\n",
    "    temp=temp[1698:1723]\n",
    "    #temp=temp[2015:2063]\n",
    "    print(temp)\n",
    "    ##prfloat(len(temp))\n",
    "#full time period is [2015:2112]"
   ]
  },
  {
   "cell_type": "code",
   "execution_count": 54,
   "id": "668cca8c",
   "metadata": {},
   "outputs": [
    {
     "name": "stdout",
     "output_type": "stream",
     "text": [
      "[-3.25, -3.9, -4.1, -4.5, -4.800000000000001, -4.7, -5.25, -3.85, 0.4, 3.1, 6.15, 8.1, 10.3, 11.850000000000001, 13.399999999999999, 14.350000000000001, 14.8, 14.3, 11.75, 7.050000000000001, 5.0, 3.2, 2.25, 1.5499999999999998, 0.6]\n"
     ]
    }
   ],
   "source": [
    "#Air Temp CRN:\n",
    "with open('CRNS0101-05-2022-MS_Newton_5_ENE.txt') as f:\n",
    "    lst=[line.split()[8] for line in f]\n",
    "    \n",
    "    a=(float(lst[20519])+float(lst[20520]))/2\n",
    "    b=(float(lst[20531])+float(lst[20532]))/2\n",
    "    c=(float(lst[20543])+float(lst[20544]))/2\n",
    "    d=(float(lst[20555])+float(lst[20556]))/2\n",
    "    e=(float(lst[20567])+float(lst[20568]))/2\n",
    "    f=(float(lst[20579])+float(lst[20580]))/2\n",
    "    g=(float(lst[20591])+float(lst[20592]))/2\n",
    "    h=(float(lst[20603])+float(lst[20604]))/2\n",
    "    i=(float(lst[20615])+float(lst[20616]))/2\n",
    "    j=(float(lst[20627])+float(lst[20628]))/2\n",
    "    k=(float(lst[20639])+float(lst[20640]))/2\n",
    "    l=(float(lst[20651])+float(lst[20652]))/2\n",
    "    m=(float(lst[20663])+float(lst[20664]))/2\n",
    "    n=(float(lst[20675])+float(lst[20676]))/2\n",
    "    o=(float(lst[20687])+float(lst[20688]))/2\n",
    "    p=(float(lst[20699])+float(lst[20700]))/2\n",
    "    q=(float(lst[20711])+float(lst[20712]))/2\n",
    "    r=(float(lst[20723])+float(lst[20724]))/2\n",
    "    s=(float(lst[20735])+float(lst[20736]))/2\n",
    "    t=(float(lst[20747])+float(lst[20748]))/2\n",
    "    u=(float(lst[20759])+float(lst[20760]))/2\n",
    "    v=(float(lst[20771])+float(lst[20772]))/2\n",
    "    w=(float(lst[20783])+float(lst[20784]))/2\n",
    "    x=(float(lst[20795])+float(lst[20796]))/2\n",
    "    y=(float(lst[20807])+float(lst[20808]))/2\n",
    "    \n",
    "    temp_crn=[a,b,c,d,e,f,g,h,i,j,k,l,m,n,o,p,q,r,s,t,u,v,w,x,y]\n",
    "    print(temp_crn)"
   ]
  },
  {
   "cell_type": "code",
   "execution_count": 55,
   "id": "e8bd78b0",
   "metadata": {},
   "outputs": [
    {
     "name": "stdout",
     "output_type": "stream",
     "text": [
      "[2.22174, 2.5803599999999998, 1.1626199999999995, 0.9035899999999999, 0.8954300000000006, 0.5042900000000001, 0.8997799999999998, 0.9808300000000001, 1.34869, 2.0403499999999997, 1.8863500000000002, 2.1492000000000004, 1.4468999999999994, 1.6790999999999983, 1.0366000000000017, 0.7092999999999989, 0.33729999999999905, 0.1833999999999989, 0.4207000000000001, 2.615919999999999, 3.0703999999999994, 3.92134, 3.88797, 3.76424, 3.80765]\n"
     ]
    }
   ],
   "source": [
    "difference2_new = []\n",
    "\n",
    "zip_object = zip(temp, temp_crn)\n",
    "for temp_i, temp_crn_i in zip_object:\n",
    "    difference2_new.append(temp_i-temp_crn_i)\n",
    "\n",
    "print(difference2_new)"
   ]
  },
  {
   "cell_type": "markdown",
   "id": "ec499d8b",
   "metadata": {},
   "source": [
    "<font size=\"3\">Gainesville, AL: 0600 UTC (12:00 am CST) 01 March 2022-0600 UTC (12:00 am CST) 02 March 2022</font>"
   ]
  },
  {
   "cell_type": "code",
   "execution_count": 56,
   "id": "e9f22db0",
   "metadata": {},
   "outputs": [
    {
     "name": "stdout",
     "output_type": "stream",
     "text": [
      "[-2.21576, -3.44464, -3.87488, -4.15891, -4.46707, -4.13321, -4.41272, -2.80667, 1.93619, 4.89035, 7.28635, 9.81174, 11.6219, 13.3416, 14.4366, 15.0593, 15.1373, 14.1709, 11.4207, 9.35342, 8.0704, 6.99634, 5.95047, 5.12674, 4.15765]\n"
     ]
    }
   ],
   "source": [
    "#1 hr hrrr:\n",
    "with open('hrrr_f12_Gainesville_AL.txt') as f:\n",
    "    lst=[line.split()[1] for line in f]\n",
    "    temp=[]\n",
    "    for i in lst:\n",
    "        new=i.replace(',',\"\")\n",
    "        temp.append(new)\n",
    "    temp.pop(0)\n",
    "    temp=[float(x) for x in temp]\n",
    "    temp=temp[1698:1723]\n",
    "    #temp=temp[2015:2063]\n",
    "    print(temp)\n",
    "    ##prfloat(len(temp))\n",
    "#full time period is [2015:2112]"
   ]
  },
  {
   "cell_type": "code",
   "execution_count": 57,
   "id": "c87621ea",
   "metadata": {},
   "outputs": [
    {
     "name": "stdout",
     "output_type": "stream",
     "text": [
      "[-2.25, -2.9, -3.0, -3.1500000000000004, -3.25, -3.3, -3.75, -2.65, 0.6000000000000001, 2.9000000000000004, 5.35, 7.65, 9.85, 11.899999999999999, 12.850000000000001, 13.899999999999999, 14.350000000000001, 13.95, 12.350000000000001, 8.850000000000001, 6.449999999999999, 5.1, 4.550000000000001, 3.55, 2.75]\n"
     ]
    }
   ],
   "source": [
    "#Air Temp CRN:\n",
    "with open('CRNS0101-05-2022-AL_Gainesville_2_NE.txt') as f:\n",
    "    lst=[line.split()[8] for line in f]\n",
    "    \n",
    "    a=(float(lst[20519])+float(lst[20520]))/2\n",
    "    b=(float(lst[20531])+float(lst[20532]))/2\n",
    "    c=(float(lst[20543])+float(lst[20544]))/2\n",
    "    d=(float(lst[20555])+float(lst[20556]))/2\n",
    "    e=(float(lst[20567])+float(lst[20568]))/2\n",
    "    f=(float(lst[20579])+float(lst[20580]))/2\n",
    "    g=(float(lst[20591])+float(lst[20592]))/2\n",
    "    h=(float(lst[20603])+float(lst[20604]))/2\n",
    "    i=(float(lst[20615])+float(lst[20616]))/2\n",
    "    j=(float(lst[20627])+float(lst[20628]))/2\n",
    "    k=(float(lst[20639])+float(lst[20640]))/2\n",
    "    l=(float(lst[20651])+float(lst[20652]))/2\n",
    "    m=(float(lst[20663])+float(lst[20664]))/2\n",
    "    n=(float(lst[20675])+float(lst[20676]))/2\n",
    "    o=(float(lst[20687])+float(lst[20688]))/2\n",
    "    p=(float(lst[20699])+float(lst[20700]))/2\n",
    "    q=(float(lst[20711])+float(lst[20712]))/2\n",
    "    r=(float(lst[20723])+float(lst[20724]))/2\n",
    "    s=(float(lst[20735])+float(lst[20736]))/2\n",
    "    t=(float(lst[20747])+float(lst[20748]))/2\n",
    "    u=(float(lst[20759])+float(lst[20760]))/2\n",
    "    v=(float(lst[20771])+float(lst[20772]))/2\n",
    "    w=(float(lst[20783])+float(lst[20784]))/2\n",
    "    x=(float(lst[20795])+float(lst[20796]))/2\n",
    "    y=(float(lst[20807])+float(lst[20808]))/2\n",
    "    \n",
    "    temp_crn=[a,b,c,d,e,f,g,h,i,j,k,l,m,n,o,p,q,r,s,t,u,v,w,x,y]\n",
    "    print(temp_crn)"
   ]
  },
  {
   "cell_type": "code",
   "execution_count": 58,
   "id": "2d1d92b8",
   "metadata": {},
   "outputs": [
    {
     "name": "stdout",
     "output_type": "stream",
     "text": [
      "[0.03424000000000005, -0.5446400000000002, -0.8748800000000001, -1.0089099999999993, -1.2170699999999997, -0.8332100000000002, -0.6627200000000002, -0.1566700000000001, 1.33619, 1.9903499999999994, 1.93635, 2.16174, 1.7719000000000005, 1.441600000000001, 1.586599999999999, 1.1593000000000018, 0.7872999999999983, 0.22090000000000032, -0.9293000000000013, 0.5034199999999984, 1.6204, 1.8963400000000004, 1.4004699999999994, 1.57674, 1.4076500000000003]\n"
     ]
    }
   ],
   "source": [
    "difference2_gai = []\n",
    "\n",
    "zip_object = zip(temp, temp_crn)\n",
    "for temp_i, temp_crn_i in zip_object:\n",
    "    difference2_gai.append(temp_i-temp_crn_i)\n",
    "\n",
    "print(difference2_gai)"
   ]
  },
  {
   "cell_type": "markdown",
   "id": "4019fb67",
   "metadata": {},
   "source": [
    "<font size=\"3\">Fairhope, AL: 0600 UTC (12:00 am CST) 01 March 2022-0600 UTC (12:00 am CST) 02 March 2022</font>"
   ]
  },
  {
   "cell_type": "code",
   "execution_count": 59,
   "id": "c7e8255a",
   "metadata": {},
   "outputs": [
    {
     "name": "stdout",
     "output_type": "stream",
     "text": [
      "[1.72174, 1.30536, 0.750122, 0.403595, -0.0295715, -0.445709, -0.72522, 0.818329, 3.43619, 6.01535, 8.03635, 10.1242, 11.8094, 12.9041, 13.4366, 13.3093, 13.3248, 12.4834, 10.4832, 8.60342, 7.3204, 6.43384, 6.13797, 5.62674, 4.97015]\n"
     ]
    }
   ],
   "source": [
    "#1 hr hrrr:\n",
    "with open('hrrr_f12_Fairhope_AL.txt') as f:\n",
    "    lst=[line.split()[1] for line in f]\n",
    "    temp=[]\n",
    "    for i in lst:\n",
    "        new=i.replace(',',\"\")\n",
    "        temp.append(new)\n",
    "    temp.pop(0)\n",
    "    temp=[float(x) for x in temp]\n",
    "    temp=temp[1698:1723]\n",
    "    #temp=temp[2015:2063]\n",
    "    print(temp)\n",
    "    ##prfloat(len(temp))\n",
    "#full time period is [2015:2112]"
   ]
  },
  {
   "cell_type": "code",
   "execution_count": 60,
   "id": "7e7a4b0d",
   "metadata": {},
   "outputs": [
    {
     "name": "stdout",
     "output_type": "stream",
     "text": [
      "[1.4, 0.9, -1.15, -1.0, -0.6499999999999999, -1.2000000000000002, -0.9, 0.44999999999999996, 3.05, 5.95, 7.85, 10.15, 11.5, 10.55, 11.3, 11.649999999999999, 11.0, 10.4, 8.35, 5.8, 3.9000000000000004, 3.0, 1.9, 1.5, 1.15]\n"
     ]
    }
   ],
   "source": [
    "#Air Temp CRN:\n",
    "with open('CRNS0101-05-2022-AL_Fairhope_3_NE.txt') as f:\n",
    "    lst=[line.split()[8] for line in f]\n",
    "    \n",
    "    a=(float(lst[20519])+float(lst[20520]))/2\n",
    "    b=(float(lst[20531])+float(lst[20532]))/2\n",
    "    c=(float(lst[20543])+float(lst[20544]))/2\n",
    "    d=(float(lst[20555])+float(lst[20556]))/2\n",
    "    e=(float(lst[20567])+float(lst[20568]))/2\n",
    "    f=(float(lst[20579])+float(lst[20580]))/2\n",
    "    g=(float(lst[20591])+float(lst[20592]))/2\n",
    "    h=(float(lst[20603])+float(lst[20604]))/2\n",
    "    i=(float(lst[20615])+float(lst[20616]))/2\n",
    "    j=(float(lst[20627])+float(lst[20628]))/2\n",
    "    k=(float(lst[20639])+float(lst[20640]))/2\n",
    "    l=(float(lst[20651])+float(lst[20652]))/2\n",
    "    m=(float(lst[20663])+float(lst[20664]))/2\n",
    "    n=(float(lst[20675])+float(lst[20676]))/2\n",
    "    o=(float(lst[20687])+float(lst[20688]))/2\n",
    "    p=(float(lst[20699])+float(lst[20700]))/2\n",
    "    q=(float(lst[20711])+float(lst[20712]))/2\n",
    "    r=(float(lst[20723])+float(lst[20724]))/2\n",
    "    s=(float(lst[20735])+float(lst[20736]))/2\n",
    "    t=(float(lst[20747])+float(lst[20748]))/2\n",
    "    u=(float(lst[20759])+float(lst[20760]))/2\n",
    "    v=(float(lst[20771])+float(lst[20772]))/2\n",
    "    w=(float(lst[20783])+float(lst[20784]))/2\n",
    "    x=(float(lst[20795])+float(lst[20796]))/2\n",
    "    y=(float(lst[20807])+float(lst[20808]))/2\n",
    "    \n",
    "    temp_crn=[a,b,c,d,e,f,g,h,i,j,k,l,m,n,o,p,q,r,s,t,u,v,w,x,y]\n",
    "    print(temp_crn)"
   ]
  },
  {
   "cell_type": "code",
   "execution_count": 61,
   "id": "e99e35e0",
   "metadata": {},
   "outputs": [
    {
     "name": "stdout",
     "output_type": "stream",
     "text": [
      "[0.32174000000000014, 0.40536000000000005, 1.9001219999999999, 1.403595, 0.6204284999999999, 0.7542910000000002, 0.17478000000000005, 0.368329, 0.38619000000000003, 0.06534999999999958, 0.1863500000000009, -0.025800000000000267, 0.3094000000000001, 2.354099999999999, 2.1365999999999996, 1.6593000000000018, 2.3247999999999998, 2.0833999999999993, 2.1332000000000004, 2.80342, 3.4204, 3.43384, 4.237970000000001, 4.12674, 3.8201500000000004]\n"
     ]
    }
   ],
   "source": [
    "difference2_fai = []\n",
    "\n",
    "zip_object = zip(temp, temp_crn)\n",
    "for temp_i, temp_crn_i in zip_object:\n",
    "    difference2_fai.append(temp_i-temp_crn_i)\n",
    "\n",
    "print(difference2_fai)"
   ]
  },
  {
   "cell_type": "markdown",
   "id": "cb09fde7",
   "metadata": {},
   "source": [
    "<font size=\"3\">**Selma, AL: 0600 UTC (12:00 am CST) 01 March 2022-0600 UTC (12:00 am CST) 02 March 2022</font>"
   ]
  },
  {
   "cell_type": "code",
   "execution_count": 62,
   "id": "fe2b2257",
   "metadata": {},
   "outputs": [
    {
     "name": "stdout",
     "output_type": "stream",
     "text": [
      "[-0.403259, -0.444641, -0.499878, -0.471405, -0.404572, -0.508209, -0.53772, 0.130829, 2.24869, 4.07785, 5.66135, 7.62424, 8.87189, 10.2166, 11.4366, 12.3093, 12.8248, 12.1084, 9.92075, 7.60342, 6.7579, 6.05884, 5.63797, 4.93924, 4.03265]\n"
     ]
    }
   ],
   "source": [
    "#1 hr hrrr:\n",
    "with open('hrrr_f12_Selma_AL.txt') as f:\n",
    "    lst=[line.split()[1] for line in f]\n",
    "    temp=[]\n",
    "    for i in lst:\n",
    "        new=i.replace(',',\"\")\n",
    "        temp.append(new)\n",
    "    temp.pop(0)\n",
    "    temp=[float(x) for x in temp]\n",
    "    temp=temp[1698:1723]\n",
    "    print(temp)"
   ]
  },
  {
   "cell_type": "code",
   "execution_count": 63,
   "id": "c7293c23",
   "metadata": {},
   "outputs": [
    {
     "name": "stdout",
     "output_type": "stream",
     "text": [
      "[-2.75, -2.8499999999999996, -3.7, -4.3, -4.6, -4.800000000000001, -4.75, -2.3, 0.8500000000000001, 3.45, 5.65, 7.9, 9.2, 10.8, 12.05, 13.0, 13.4, 13.45, 10.05, 5.9, 4.75, 3.45, 2.65, 2.45, 2.3]\n"
     ]
    }
   ],
   "source": [
    "#Air Temp CRN:\n",
    "with open('CRNS0101-05-2022-AL_Selma_13_WNW.txt') as f:\n",
    "    lst=[line.split()[8] for line in f]\n",
    "    \n",
    "    a=(float(lst[20519])+float(lst[20520]))/2\n",
    "    b=(float(lst[20531])+float(lst[20532]))/2\n",
    "    c=(float(lst[20543])+float(lst[20544]))/2\n",
    "    d=(float(lst[20555])+float(lst[20556]))/2\n",
    "    e=(float(lst[20567])+float(lst[20568]))/2\n",
    "    f=(float(lst[20579])+float(lst[20580]))/2\n",
    "    g=(float(lst[20591])+float(lst[20592]))/2\n",
    "    h=(float(lst[20603])+float(lst[20604]))/2\n",
    "    i=(float(lst[20615])+float(lst[20616]))/2\n",
    "    j=(float(lst[20627])+float(lst[20628]))/2\n",
    "    k=(float(lst[20639])+float(lst[20640]))/2\n",
    "    l=(float(lst[20651])+float(lst[20652]))/2\n",
    "    m=(float(lst[20663])+float(lst[20664]))/2\n",
    "    n=(float(lst[20675])+float(lst[20676]))/2\n",
    "    o=(float(lst[20687])+float(lst[20688]))/2\n",
    "    p=(float(lst[20699])+float(lst[20700]))/2\n",
    "    q=(float(lst[20711])+float(lst[20712]))/2\n",
    "    r=(float(lst[20723])+float(lst[20724]))/2\n",
    "    s=(float(lst[20735])+float(lst[20736]))/2\n",
    "    t=(float(lst[20747])+float(lst[20748]))/2\n",
    "    u=(float(lst[20759])+float(lst[20760]))/2\n",
    "    v=(float(lst[20771])+float(lst[20772]))/2\n",
    "    w=(float(lst[20783])+float(lst[20784]))/2\n",
    "    x=(float(lst[20795])+float(lst[20796]))/2\n",
    "    y=(float(lst[20807])+float(lst[20808]))/2\n",
    "    \n",
    "    temp_crn=[a,b,c,d,e,f,g,h,i,j,k,l,m,n,o,p,q,r,s,t,u,v,w,x,y]\n",
    "    print(temp_crn)"
   ]
  },
  {
   "cell_type": "code",
   "execution_count": 64,
   "id": "837ad3be",
   "metadata": {},
   "outputs": [
    {
     "name": "stdout",
     "output_type": "stream",
     "text": [
      "[2.346741, 2.405359, 3.2001220000000004, 3.828595, 4.195428, 4.291791000000001, 4.21228, 2.4308289999999997, 1.3986899999999998, 0.6278499999999996, 0.011349999999999305, -0.27576, -0.3281099999999988, -0.583400000000001, -0.6134000000000004, -0.6906999999999996, -0.5752000000000006, -1.3415999999999997, -0.12925000000000075, 1.7034199999999995, 2.0079000000000002, 2.60884, 2.9879700000000002, 2.4892399999999997, 1.7326500000000005]\n"
     ]
    }
   ],
   "source": [
    "difference2_sel = []\n",
    "\n",
    "zip_object = zip(temp, temp_crn)\n",
    "for temp_i, temp_crn_i in zip_object:\n",
    "    difference2_sel.append(temp_i-temp_crn_i)\n",
    "\n",
    "print(difference2_sel)\n",
    "#prfloat(len(difference2_sel))"
   ]
  },
  {
   "cell_type": "markdown",
   "id": "9767e5fd",
   "metadata": {},
   "source": [
    "<font size=\"3\">Bowling Green, KY: 0600 UTC (12:00 am CST) 01 March 2022-0600 UTC (12:00 am CST) 02 March 2022</font>"
   ]
  },
  {
   "cell_type": "code",
   "execution_count": 65,
   "id": "a031b19f",
   "metadata": {},
   "outputs": [
    {
     "name": "stdout",
     "output_type": "stream",
     "text": [
      "[-5.34076, -5.31964, -5.43738, -5.78391, -5.84207, -5.13321, -5.22522, -3.68167, -1.87631, -0.35965, 2.41135, 4.74924, 6.49689, 8.21658, 9.74911, 10.9968, 11.3248, 10.5459, 8.23325, 6.66592, 5.9454, 5.18384, 4.26297, 3.81424, 3.22015]\n"
     ]
    }
   ],
   "source": [
    "#1 hr hrrr:\n",
    "with open('hrrr_f12_Bowling Green_KY.txt') as f:\n",
    "    lst=[line.split()[1] for line in f]\n",
    "    temp=[]\n",
    "    for i in lst:\n",
    "        new=i.replace(',',\"\")\n",
    "        temp.append(new)\n",
    "    temp.pop(0)\n",
    "    temp=[float(x) for x in temp]\n",
    "    temp=temp[1698:1723]\n",
    "    #temp=temp[2015:2063]\n",
    "    print(temp)\n",
    "    ##prfloat(len(temp))\n",
    "#full time period is [2015:2112]"
   ]
  },
  {
   "cell_type": "code",
   "execution_count": 66,
   "id": "c134b665",
   "metadata": {},
   "outputs": [
    {
     "name": "stdout",
     "output_type": "stream",
     "text": [
      "[-7.05, -7.0, -7.3, -7.2, -6.1, -5.1, -4.65, -3.8499999999999996, -2.5, -0.75, 1.9, 4.3, 6.9, 9.350000000000001, 11.45, 12.05, 12.5, 11.75, 9.75, 8.45, 7.8, 7.6, 7.15, 6.6, 6.1]\n"
     ]
    }
   ],
   "source": [
    "#Air Temp CRN:\n",
    "with open('CRNS0101-05-2022-KY_Bowling_Green_21_NNE.txt') as f:\n",
    "    lst=[line.split()[8] for line in f]\n",
    "    \n",
    "    a=(float(lst[20519])+float(lst[20520]))/2\n",
    "    b=(float(lst[20531])+float(lst[20532]))/2\n",
    "    c=(float(lst[20543])+float(lst[20544]))/2\n",
    "    d=(float(lst[20555])+float(lst[20556]))/2\n",
    "    e=(float(lst[20567])+float(lst[20568]))/2\n",
    "    f=(float(lst[20579])+float(lst[20580]))/2\n",
    "    g=(float(lst[20591])+float(lst[20592]))/2\n",
    "    h=(float(lst[20603])+float(lst[20604]))/2\n",
    "    i=(float(lst[20615])+float(lst[20616]))/2\n",
    "    j=(float(lst[20627])+float(lst[20628]))/2\n",
    "    k=(float(lst[20639])+float(lst[20640]))/2\n",
    "    l=(float(lst[20651])+float(lst[20652]))/2\n",
    "    m=(float(lst[20663])+float(lst[20664]))/2\n",
    "    n=(float(lst[20675])+float(lst[20676]))/2\n",
    "    o=(float(lst[20687])+float(lst[20688]))/2\n",
    "    p=(float(lst[20699])+float(lst[20700]))/2\n",
    "    q=(float(lst[20711])+float(lst[20712]))/2\n",
    "    r=(float(lst[20723])+float(lst[20724]))/2\n",
    "    s=(float(lst[20735])+float(lst[20736]))/2\n",
    "    t=(float(lst[20747])+float(lst[20748]))/2\n",
    "    u=(float(lst[20759])+float(lst[20760]))/2\n",
    "    v=(float(lst[20771])+float(lst[20772]))/2\n",
    "    w=(float(lst[20783])+float(lst[20784]))/2\n",
    "    x=(float(lst[20795])+float(lst[20796]))/2\n",
    "    y=(float(lst[20807])+float(lst[20808]))/2\n",
    "    \n",
    "    temp_crn=[a,b,c,d,e,f,g,h,i,j,k,l,m,n,o,p,q,r,s,t,u,v,w,x,y]\n",
    "    print(temp_crn)"
   ]
  },
  {
   "cell_type": "code",
   "execution_count": 67,
   "id": "d326cffb",
   "metadata": {},
   "outputs": [
    {
     "name": "stdout",
     "output_type": "stream",
     "text": [
      "[1.7092399999999994, 1.6803600000000003, 1.8626199999999997, 1.4160900000000005, 0.25793, -0.033210000000000406, -0.5752199999999998, 0.16832999999999965, 0.6236900000000001, 0.39035, 0.5113500000000002, 0.44924000000000053, -0.40311000000000075, -1.133420000000001, -1.7008899999999993, -1.0532000000000004, -1.1752000000000002, -1.2041000000000004, -1.51675, -1.7840799999999994, -1.8545999999999996, -2.4161599999999996, -2.88703, -2.78576, -2.87985]\n"
     ]
    }
   ],
   "source": [
    "difference2_bow = []\n",
    "\n",
    "zip_object = zip(temp, temp_crn)\n",
    "for temp_i, temp_crn_i in zip_object:\n",
    "    difference2_bow.append(temp_i-temp_crn_i)\n",
    "\n",
    "print(difference2_bow)"
   ]
  },
  {
   "cell_type": "markdown",
   "id": "cf477d73",
   "metadata": {},
   "source": [
    "<font size=\"3\">Gadsden, AL: 0600 UTC (12:00 am CST) 01 March 2022-0600 UTC (12:00 am CST) 02 March 2022</font>"
   ]
  },
  {
   "cell_type": "code",
   "execution_count": 68,
   "id": "8d9653aa",
   "metadata": {},
   "outputs": [
    {
     "name": "stdout",
     "output_type": "stream",
     "text": [
      "[-1.65326, -1.69464, -1.74988, -1.78391, -1.96707, -3.07071, -2.97522, -1.36917, -0.0638123, 1.51535, 3.34885, 5.12424, 6.49689, 7.84158, 8.93661, 9.62183, 9.6373, 8.85837, 6.67075, 5.54092, 5.1954, 5.37134, 5.13797, 4.43924, 4.03265]\n"
     ]
    }
   ],
   "source": [
    "#1 hr hrrr:\n",
    "with open('hrrr_f12_Gadsden_AL.txt') as f:\n",
    "    lst=[line.split()[1] for line in f]\n",
    "    temp=[]\n",
    "    for i in lst:\n",
    "        new=i.replace(',',\"\")\n",
    "        temp.append(new)\n",
    "    temp.pop(0)\n",
    "    temp=[float(x) for x in temp]\n",
    "    temp=temp[1698:1723]\n",
    "#     x = np.array(temp)\n",
    "#     temp = ma.masked_array(x, mask=[0, 0, 0, 0, 0,0,0,0,1,0,0,0,0,0,0,0,0,0,0,0,0,0,0,0,0])\n",
    "    #temp=temp[2015:2063]\n",
    "    print(temp)\n",
    "    ##prfloat(len(temp))\n",
    "#full time period is [2015:2112]"
   ]
  },
  {
   "cell_type": "code",
   "execution_count": 69,
   "id": "5e83c09d",
   "metadata": {},
   "outputs": [
    {
     "name": "stdout",
     "output_type": "stream",
     "text": [
      "[-5.0, -5.8, -6.35, -6.65, -6.05, -6.65, -6.5, -3.9, -1.85, 0.0, 2.6, 4.65, 7.050000000000001, 8.5, 9.8, 10.5, 10.95, 10.4, 7.45, 6.05, 6.300000000000001, 5.35, 4.85, 4.05, 2.4]\n"
     ]
    }
   ],
   "source": [
    "#Air Temp CRN:\n",
    "with open('CRNS0101-05-2022-AL_Gadsden_19_N.txt') as f:\n",
    "    lst=[line.split()[8] for line in f]\n",
    "    \n",
    "    a=(float(lst[20519])+float(lst[20520]))/2\n",
    "    b=(float(lst[20531])+float(lst[20532]))/2\n",
    "    c=(float(lst[20543])+float(lst[20544]))/2\n",
    "    d=(float(lst[20555])+float(lst[20556]))/2\n",
    "    e=(float(lst[20567])+float(lst[20568]))/2\n",
    "    f=(float(lst[20579])+float(lst[20580]))/2\n",
    "    g=(float(lst[20591])+float(lst[20592]))/2\n",
    "    h=(float(lst[20603])+float(lst[20604]))/2\n",
    "    i=(float(lst[20615])+float(lst[20616]))/2\n",
    "    j=(float(lst[20627])+float(lst[20628]))/2\n",
    "    k=(float(lst[20639])+float(lst[20640]))/2\n",
    "    l=(float(lst[20651])+float(lst[20652]))/2\n",
    "    m=(float(lst[20663])+float(lst[20664]))/2\n",
    "    n=(float(lst[20675])+float(lst[20676]))/2\n",
    "    o=(float(lst[20687])+float(lst[20688]))/2\n",
    "    p=(float(lst[20699])+float(lst[20700]))/2\n",
    "    q=(float(lst[20711])+float(lst[20712]))/2\n",
    "    r=(float(lst[20723])+float(lst[20724]))/2\n",
    "    s=(float(lst[20735])+float(lst[20736]))/2\n",
    "    t=(float(lst[20747])+float(lst[20748]))/2\n",
    "    u=(float(lst[20759])+float(lst[20760]))/2\n",
    "    v=(float(lst[20771])+float(lst[20772]))/2\n",
    "    w=(float(lst[20783])+float(lst[20784]))/2\n",
    "    x=(float(lst[20795])+float(lst[20796]))/2\n",
    "    y=(float(lst[20807])+float(lst[20808]))/2\n",
    "    \n",
    "    temp_crn=[a,b,c,d,e,f,g,h,i,j,k,l,m,n,o,p,q,r,s,t,u,v,w,x,y]\n",
    "    print(temp_crn)"
   ]
  },
  {
   "cell_type": "code",
   "execution_count": 70,
   "id": "254e1e52",
   "metadata": {},
   "outputs": [
    {
     "name": "stdout",
     "output_type": "stream",
     "text": [
      "[3.34674, 4.10536, 4.6001199999999995, 4.86609, 4.082929999999999, 3.5792900000000003, 3.52478, 2.53083, 1.7861877000000002, 1.51535, 0.74885, 0.47424, -0.5531100000000011, -0.6584199999999996, -0.8633900000000008, -0.8781700000000008, -1.3126999999999995, -1.5416299999999996, -0.7792500000000002, -0.50908, -1.1046000000000005, 0.02134000000000036, 0.2879700000000005, 0.38924000000000003, 1.6326500000000004]\n"
     ]
    }
   ],
   "source": [
    "difference2_gad = []\n",
    "\n",
    "zip_object = zip(temp, temp_crn)\n",
    "for temp_i, temp_crn_i in zip_object:\n",
    "    difference2_gad.append(temp_i-temp_crn_i)\n",
    "\n",
    "print(difference2_gad)"
   ]
  },
  {
   "cell_type": "markdown",
   "id": "75862889",
   "metadata": {},
   "source": [
    "<font size=\"3\">Newton, GA: 0600 UTC (12:00 am CST) 01 March 2022-0600 UTC (12:00 am CST) 02 March 2022</font>"
   ]
  },
  {
   "cell_type": "code",
   "execution_count": 71,
   "id": "06608db6",
   "metadata": {},
   "outputs": [
    {
     "name": "stdout",
     "output_type": "stream",
     "text": [
      "[0.0342407, -0.257141, -0.624878, -0.721405, -0.779572, -0.820709, -0.85022, 0.130829, 2.12369, 4.14035, 6.22385, 8.12424, 10.1844, 11.9666, 12.9366, 13.5593, 13.6373, 13.1084, 10.2332, 8.41592, 7.4454, 6.18384, 5.51297, 4.93924, 3.84515]\n"
     ]
    }
   ],
   "source": [
    "#1 hr hrrr:\n",
    "with open('hrrr_f12_Newton_GA.txt') as f:\n",
    "    lst=[line.split()[1] for line in f]\n",
    "    temp=[]\n",
    "    for i in lst:\n",
    "        new=i.replace(',',\"\")\n",
    "        temp.append(new)\n",
    "    temp.pop(0)\n",
    "    temp=[float(x) for x in temp]\n",
    "    temp=temp[1698:1723]\n",
    "    #temp=temp[2015:2063]\n",
    "    print(temp)\n",
    "    ##prfloat(len(temp))\n",
    "#full time period is [2015:2112]"
   ]
  },
  {
   "cell_type": "code",
   "execution_count": 72,
   "id": "bd71ef9e",
   "metadata": {},
   "outputs": [
    {
     "name": "stdout",
     "output_type": "stream",
     "text": [
      "[0.25, -1.25, -2.85, -1.25, -1.7000000000000002, -2.5999999999999996, -3.0, -0.25, 2.3, 4.3, 5.699999999999999, 7.85, 9.899999999999999, 11.35, 13.0, 13.4, 13.75, 13.25, 9.25, 6.5, 5.1, 3.95, 2.5, 2.8, 2.0999999999999996]\n"
     ]
    }
   ],
   "source": [
    "#Air Temp CRN:\n",
    "with open('CRNS0101-05-2022-GA_Newton_11_SW.txt') as f:\n",
    "    lst=[line.split()[8] for line in f]\n",
    "    \n",
    "    a=(float(lst[20519])+float(lst[20520]))/2\n",
    "    b=(float(lst[20531])+float(lst[20532]))/2\n",
    "    c=(float(lst[20543])+float(lst[20544]))/2\n",
    "    d=(float(lst[20555])+float(lst[20556]))/2\n",
    "    e=(float(lst[20567])+float(lst[20568]))/2\n",
    "    f=(float(lst[20579])+float(lst[20580]))/2\n",
    "    g=(float(lst[20591])+float(lst[20592]))/2\n",
    "    h=(float(lst[20603])+float(lst[20604]))/2\n",
    "    i=(float(lst[20615])+float(lst[20616]))/2\n",
    "    j=(float(lst[20627])+float(lst[20628]))/2\n",
    "    k=(float(lst[20639])+float(lst[20640]))/2\n",
    "    l=(float(lst[20651])+float(lst[20652]))/2\n",
    "    m=(float(lst[20663])+float(lst[20664]))/2\n",
    "    n=(float(lst[20675])+float(lst[20676]))/2\n",
    "    o=(float(lst[20687])+float(lst[20688]))/2\n",
    "    p=(float(lst[20699])+float(lst[20700]))/2\n",
    "    q=(float(lst[20711])+float(lst[20712]))/2\n",
    "    r=(float(lst[20723])+float(lst[20724]))/2\n",
    "    s=(float(lst[20735])+float(lst[20736]))/2\n",
    "    t=(float(lst[20747])+float(lst[20748]))/2\n",
    "    u=(float(lst[20759])+float(lst[20760]))/2\n",
    "    v=(float(lst[20771])+float(lst[20772]))/2\n",
    "    w=(float(lst[20783])+float(lst[20784]))/2\n",
    "    x=(float(lst[20795])+float(lst[20796]))/2\n",
    "    y=(float(lst[20807])+float(lst[20808]))/2\n",
    "    \n",
    "    temp_crn=[a,b,c,d,e,f,g,h,i,j,k,l,m,n,o,p,q,r,s,t,u,v,w,x,y]\n",
    "    print(temp_crn)"
   ]
  },
  {
   "cell_type": "code",
   "execution_count": 73,
   "id": "405581a9",
   "metadata": {},
   "outputs": [
    {
     "name": "stdout",
     "output_type": "stream",
     "text": [
      "[-0.2157593, 0.9928589999999999, 2.225122, 0.528595, 0.9204280000000001, 1.7792909999999997, 2.14978, 0.380829, -0.17630999999999997, -0.15965000000000007, 0.5238500000000004, 0.2742400000000007, 0.28440000000000154, 0.6166, -0.06339999999999968, 0.1593, -0.11270000000000024, -0.1416000000000004, 0.9832000000000001, 1.9159199999999998, 2.3454000000000006, 2.23384, 3.01297, 2.13924, 1.7451500000000002]\n"
     ]
    }
   ],
   "source": [
    "difference2_newt = []\n",
    "\n",
    "zip_object = zip(temp, temp_crn)\n",
    "for temp_i, temp_crn_i in zip_object:\n",
    "    difference2_newt.append(temp_i-temp_crn_i)\n",
    "\n",
    "print(difference2_newt)"
   ]
  },
  {
   "cell_type": "markdown",
   "id": "70443283",
   "metadata": {},
   "source": [
    "<font size=\"3\">Salem, MO: 0500 UTC (12:00 am CDT) 20 March 2022-0500 UTC (12:00 am CDT) 21 March 2022</font>"
   ]
  },
  {
   "cell_type": "code",
   "execution_count": 74,
   "id": "2d0299c0",
   "metadata": {},
   "outputs": [
    {
     "name": "stdout",
     "output_type": "stream",
     "text": [
      "[5.46628, 5.39047, 4.17081, 3.0148, 3.05371, 3.08606, 2.9404, 3.62296, 7.48672, 11.7049, 13.9962, 15.9583, 17.3228, 18.7174, 20.0112, 20.8637, 20.7176, 19.5128, 15.7875, 12.9703, 11.3979, 10.7519, 10.4109, 10.5442, 9.97867]\n"
     ]
    }
   ],
   "source": [
    "#1 hr hrrr:\n",
    "with open('hrrr_f12_Salem_MO.txt') as f:\n",
    "    lst=[line.split()[1] for line in f]\n",
    "    temp=[]\n",
    "    for i in lst:\n",
    "        new=i.replace(',',\"\")\n",
    "        temp.append(new)\n",
    "    temp.pop(0)\n",
    "    temp=[float(x) for x in temp]\n",
    "    temp=temp[1866:1891]\n",
    "    #temp=temp[2015:2063]\n",
    "    print(temp)\n",
    "    #prfloat(len(temp))\n",
    "#full time period is [2015:2112]"
   ]
  },
  {
   "cell_type": "code",
   "execution_count": 75,
   "id": "fb918883",
   "metadata": {},
   "outputs": [
    {
     "name": "stdout",
     "output_type": "stream",
     "text": [
      "[-1.5, -2.0, -2.1, -2.8, -2.5999999999999996, -3.1, -3.45, -0.65, 8.35, 14.4, 17.4, 19.25, 20.25, 21.75, 22.25, 21.9, 22.0, 21.200000000000003, 18.85, 13.6, 10.9, 14.1, 13.350000000000001, 12.95, 13.1]\n"
     ]
    }
   ],
   "source": [
    "#Air Temp CRN:\n",
    "with open('CRNS0101-05-2022-MO_Salem_10_W.txt') as f:\n",
    "    lst=[line.split()[8] for line in f]\n",
    "    \n",
    "    a=(float(lst[22535])+float(lst[22536]))/2\n",
    "    b=(float(lst[22547])+float(lst[22548]))/2\n",
    "    c=(float(lst[22559])+float(lst[22560]))/2\n",
    "    d=(float(lst[22571])+float(lst[22572]))/2\n",
    "    e=(float(lst[22583])+float(lst[22584]))/2\n",
    "    f=(float(lst[22595])+float(lst[22596]))/2\n",
    "    g=(float(lst[22607])+float(lst[22608]))/2\n",
    "    h=(float(lst[22619])+float(lst[22620]))/2\n",
    "    i=(float(lst[22631])+float(lst[22632]))/2\n",
    "    j=(float(lst[22643])+float(lst[22644]))/2\n",
    "    k=(float(lst[22655])+float(lst[22656]))/2\n",
    "    l=(float(lst[22667])+float(lst[22668]))/2\n",
    "    m=(float(lst[22679])+float(lst[22680]))/2\n",
    "    n=(float(lst[22691])+float(lst[22692]))/2\n",
    "    o=(float(lst[22703])+float(lst[22704]))/2\n",
    "    p=(float(lst[22715])+float(lst[22716]))/2\n",
    "    q=(float(lst[22727])+float(lst[22728]))/2\n",
    "    r=(float(lst[22739])+float(lst[22740]))/2\n",
    "    s=(float(lst[22751])+float(lst[22752]))/2\n",
    "    t=(float(lst[22763])+float(lst[22764]))/2\n",
    "    u=(float(lst[22775])+float(lst[22776]))/2\n",
    "    v=(float(lst[22787])+float(lst[22788]))/2\n",
    "    w=(float(lst[22799])+float(lst[22800]))/2\n",
    "    x=(float(lst[22811])+float(lst[22812]))/2\n",
    "    y=(float(lst[22823])+float(lst[22824]))/2\n",
    "    \n",
    "    temp_crn=[a,b,c,d,e,f,g,h,i,j,k,l,m,n,o,p,q,r,s,t,u,v,w,x,y]\n",
    "    print(temp_crn)"
   ]
  },
  {
   "cell_type": "code",
   "execution_count": 76,
   "id": "e8c3c3a5",
   "metadata": {},
   "outputs": [
    {
     "name": "stdout",
     "output_type": "stream",
     "text": [
      "[6.96628, 7.39047, 6.270810000000001, 5.8148, 5.65371, 6.1860599999999994, 6.3904, 4.27296, -0.8632799999999996, -2.6951, -3.4037999999999986, -3.2917000000000005, -2.927199999999999, -3.0325999999999986, -2.2388000000000012, -1.0362999999999971, -1.282399999999999, -1.6872000000000043, -3.0625000000000018, -0.6296999999999997, 0.49789999999999957, -3.3481000000000005, -2.9391000000000016, -2.4057999999999993, -3.1213300000000004]\n"
     ]
    }
   ],
   "source": [
    "difference3_sal = []\n",
    "\n",
    "zip_object = zip(temp, temp_crn)\n",
    "for temp_i, temp_crn_i in zip_object:\n",
    "    difference3_sal.append(temp_i-temp_crn_i)\n",
    "\n",
    "print(difference3_sal)"
   ]
  },
  {
   "cell_type": "markdown",
   "id": "176d67cb",
   "metadata": {},
   "source": [
    "<font size=\"3\">Batesville, AR: 0600 UTC (12:00 am CST) 01 March 2022-0600 UTC (12:00 am CST) 02 March 2022</font>"
   ]
  },
  {
   "cell_type": "code",
   "execution_count": 77,
   "id": "51a628f5",
   "metadata": {},
   "outputs": [
    {
     "name": "stdout",
     "output_type": "stream",
     "text": [
      "[8.96628, 8.76547, 8.54581, 8.2648, 7.74121, 7.52356, 7.3779, 7.87296, 10.4242, 13.3924, 15.6212, 18.5208, 20.2603, 21.9674, 22.8862, 23.3637, 23.4676, 22.1378, 19.35, 17.0328, 15.2104, 14.6894, 13.4109, 12.6692, 11.7912]\n"
     ]
    }
   ],
   "source": [
    "#1 hr hrrr:\n",
    "with open('hrrr_f12_Batesville_AR.txt') as f:\n",
    "    lst=[line.split()[1] for line in f]\n",
    "    temp=[]\n",
    "    for i in lst:\n",
    "        new=i.replace(',',\"\")\n",
    "        temp.append(new)\n",
    "    temp.pop(0)\n",
    "    temp=[float(x) for x in temp]\n",
    "    temp=temp[1866:1891]\n",
    "#     x = np.array(temp)\n",
    "#     temp = ma.masked_array(x, mask=[0, 0, 0, 0, 0,0,0,0,0,0,0,0,0,0,0,0,0,0,0,0,0,1,0,0,0])\n",
    "    #temp=temp[2015:2063]\n",
    "    print(temp)\n",
    "    #prfloat(len(temp))\n",
    "#full time period is [2015:2112]"
   ]
  },
  {
   "cell_type": "code",
   "execution_count": 78,
   "id": "08f9b3ea",
   "metadata": {},
   "outputs": [
    {
     "name": "stdout",
     "output_type": "stream",
     "text": [
      "[2.8, 2.05, 1.7000000000000002, 0.8, 1.25, 0.0, 0.05, 1.55, 7.050000000000001, 12.9, 16.2, 18.6, 20.55, 22.200000000000003, 23.6, 23.7, 23.3, 22.05, 18.299999999999997, 15.950000000000001, 12.45, 10.5, 8.75, 8.3, 8.05]\n"
     ]
    }
   ],
   "source": [
    "#Air Temp CRN:\n",
    "with open('CRNS0101-05-2022-AR_Batesville_8_WNW.txt') as f:\n",
    "    lst=[line.split()[8] for line in f]\n",
    "    \n",
    "    a=(float(lst[22535])+float(lst[22536]))/2\n",
    "    b=(float(lst[22547])+float(lst[22548]))/2\n",
    "    c=(float(lst[22559])+float(lst[22560]))/2\n",
    "    d=(float(lst[22571])+float(lst[22572]))/2\n",
    "    e=(float(lst[22583])+float(lst[22584]))/2\n",
    "    f=(float(lst[22595])+float(lst[22596]))/2\n",
    "    g=(float(lst[22607])+float(lst[22608]))/2\n",
    "    h=(float(lst[22619])+float(lst[22620]))/2\n",
    "    i=(float(lst[22631])+float(lst[22632]))/2\n",
    "    j=(float(lst[22643])+float(lst[22644]))/2\n",
    "    k=(float(lst[22655])+float(lst[22656]))/2\n",
    "    l=(float(lst[22667])+float(lst[22668]))/2\n",
    "    m=(float(lst[22679])+float(lst[22680]))/2\n",
    "    n=(float(lst[22691])+float(lst[22692]))/2\n",
    "    o=(float(lst[22703])+float(lst[22704]))/2\n",
    "    p=(float(lst[22715])+float(lst[22716]))/2\n",
    "    q=(float(lst[22727])+float(lst[22728]))/2\n",
    "    r=(float(lst[22739])+float(lst[22740]))/2\n",
    "    s=(float(lst[22751])+float(lst[22752]))/2\n",
    "    t=(float(lst[22763])+float(lst[22764]))/2\n",
    "    u=(float(lst[22775])+float(lst[22776]))/2\n",
    "    v=(float(lst[22787])+float(lst[22788]))/2\n",
    "    w=(float(lst[22799])+float(lst[22800]))/2\n",
    "    x=(float(lst[22811])+float(lst[22812]))/2\n",
    "    y=(float(lst[22823])+float(lst[22824]))/2\n",
    "    \n",
    "    temp_crn=[a,b,c,d,e,f,g,h,i,j,k,l,m,n,o,p,q,r,s,t,u,v,w,x,y]\n",
    "    print(temp_crn)"
   ]
  },
  {
   "cell_type": "code",
   "execution_count": 79,
   "id": "19589d21",
   "metadata": {},
   "outputs": [
    {
     "name": "stdout",
     "output_type": "stream",
     "text": [
      "[6.1662799999999995, 6.715470000000001, 6.845809999999999, 7.464799999999999, 6.49121, 7.52356, 7.3279000000000005, 6.32296, 3.3742, 0.49239999999999995, -0.5787999999999993, -0.07920000000000016, -0.28969999999999985, -0.23260000000000147, -0.7138000000000027, -0.3362999999999978, 0.1676000000000002, 0.08779999999999788, 1.0500000000000043, 1.0828000000000007, 2.7604000000000006, 4.189399999999999, 4.6609, 4.369199999999999, 3.741199999999999]\n"
     ]
    }
   ],
   "source": [
    "difference3_bat = []\n",
    "\n",
    "zip_object = zip(temp, temp_crn)\n",
    "for temp_i, temp_crn_i in zip_object:\n",
    "    difference3_bat.append(temp_i-temp_crn_i)\n",
    "\n",
    "print(difference3_bat)"
   ]
  },
  {
   "cell_type": "markdown",
   "id": "9ac05a40",
   "metadata": {},
   "source": [
    "<font size=\"3\">Lafayette, LA: 0600 UTC (12:00 am CST) 01 March 2022-0600 UTC (12:00 am CST) 02 March 2022</font>"
   ]
  },
  {
   "cell_type": "code",
   "execution_count": 80,
   "id": "f280badb",
   "metadata": {},
   "outputs": [
    {
     "name": "stdout",
     "output_type": "stream",
     "text": [
      "[10.8413, 10.0155, 9.35831, 8.6398, 8.55371, 8.14856, 7.4404, 8.49796, 13.6117, 18.5174, 20.8087, 22.7083, 24.1978, 25.1549, 25.8862, 26.2387, 26.1551, 24.8253, 22.85, 18.7828, 16.8354, 15.8769, 14.7234, 13.6067, 12.7912]\n"
     ]
    }
   ],
   "source": [
    "#1 hr hrrr:\n",
    "with open('hrrr_f12_Lafayette_LA.txt') as f:\n",
    "    lst=[line.split()[1] for line in f]\n",
    "    temp=[]\n",
    "    for i in lst:\n",
    "        new=i.replace(',',\"\")\n",
    "        temp.append(new)\n",
    "    temp.pop(0)\n",
    "    temp=[float(x) for x in temp]\n",
    "    temp=temp[1866:1891]\n",
    "    #temp=temp[2015:2063]\n",
    "    print(temp)\n",
    "    ##prfloat(len(temp))\n",
    "#full time period is [2015:2112]"
   ]
  },
  {
   "cell_type": "code",
   "execution_count": 81,
   "id": "7e7917cd",
   "metadata": {},
   "outputs": [
    {
     "name": "stdout",
     "output_type": "stream",
     "text": [
      "[7.95, 7.05, 6.4, 6.05, 5.1, 5.2, 4.55, 6.6, 12.75, 17.25, 20.1, 21.7, 22.9, 23.55, 23.9, 24.0, 23.6, 22.15, 18.5, 15.3, 15.8, 15.149999999999999, 13.45, 12.8, 12.4]\n"
     ]
    }
   ],
   "source": [
    "#Air Temp CRN:\n",
    "with open('CRNS0101-05-2022-LA_Lafayette_13_SE.txt') as f:\n",
    "    lst=[line.split()[8] for line in f]\n",
    "    \n",
    "    a=(float(lst[22535])+float(lst[22536]))/2\n",
    "    b=(float(lst[22547])+float(lst[22548]))/2\n",
    "    c=(float(lst[22559])+float(lst[22560]))/2\n",
    "    d=(float(lst[22571])+float(lst[22572]))/2\n",
    "    e=(float(lst[22583])+float(lst[22584]))/2\n",
    "    f=(float(lst[22595])+float(lst[22596]))/2\n",
    "    g=(float(lst[22607])+float(lst[22608]))/2\n",
    "    h=(float(lst[22619])+float(lst[22620]))/2\n",
    "    i=(float(lst[22631])+float(lst[22632]))/2\n",
    "    j=(float(lst[22643])+float(lst[22644]))/2\n",
    "    k=(float(lst[22655])+float(lst[22656]))/2\n",
    "    l=(float(lst[22667])+float(lst[22668]))/2\n",
    "    m=(float(lst[22679])+float(lst[22680]))/2\n",
    "    n=(float(lst[22691])+float(lst[22692]))/2\n",
    "    o=(float(lst[22703])+float(lst[22704]))/2\n",
    "    p=(float(lst[22715])+float(lst[22716]))/2\n",
    "    q=(float(lst[22727])+float(lst[22728]))/2\n",
    "    r=(float(lst[22739])+float(lst[22740]))/2\n",
    "    s=(float(lst[22751])+float(lst[22752]))/2\n",
    "    t=(float(lst[22763])+float(lst[22764]))/2\n",
    "    u=(float(lst[22775])+float(lst[22776]))/2\n",
    "    v=(float(lst[22787])+float(lst[22788]))/2\n",
    "    w=(float(lst[22799])+float(lst[22800]))/2\n",
    "    x=(float(lst[22811])+float(lst[22812]))/2\n",
    "    y=(float(lst[22823])+float(lst[22824]))/2\n",
    "    \n",
    "    temp_crn=[a,b,c,d,e,f,g,h,i,j,k,l,m,n,o,p,q,r,s,t,u,v,w,x,y]\n",
    "    print(temp_crn)"
   ]
  },
  {
   "cell_type": "code",
   "execution_count": 82,
   "id": "36c6a6c7",
   "metadata": {},
   "outputs": [
    {
     "name": "stdout",
     "output_type": "stream",
     "text": [
      "[2.8913, 2.9654999999999996, 2.958309999999999, 2.5897999999999994, 3.453710000000001, 2.9485599999999996, 2.8904000000000005, 1.8979600000000012, 0.8617000000000008, 1.2673999999999985, 0.7087000000000003, 1.008300000000002, 1.2978000000000023, 1.6049000000000007, 1.9862000000000002, 2.2387000000000015, 2.5550999999999995, 2.6753, 4.350000000000001, 3.482800000000001, 1.0353999999999992, 0.7269000000000005, 1.2734000000000005, 0.8066999999999993, 0.39119999999999955]\n"
     ]
    }
   ],
   "source": [
    "difference3_laf = []\n",
    "\n",
    "zip_object = zip(temp, temp_crn)\n",
    "for temp_i, temp_crn_i in zip_object:\n",
    "    difference3_laf.append(temp_i-temp_crn_i)\n",
    "\n",
    "print(difference3_laf)"
   ]
  },
  {
   "cell_type": "markdown",
   "id": "9f50a0c5",
   "metadata": {},
   "source": [
    "<font size=\"3\">Monroe, LA: 0600 UTC (12:00 am CST) 01 March 2022-0600 UTC (12:00 am CST) 02 March 2022</font>"
   ]
  },
  {
   "cell_type": "code",
   "execution_count": 83,
   "id": "afe54e44",
   "metadata": {},
   "outputs": [
    {
     "name": "stdout",
     "output_type": "stream",
     "text": [
      "[10.2163, 9.76547, 8.85831, 8.3273, 8.17871, 8.27356, 8.1279, 7.81046, 11.9242, 15.2674, 17.8712, 20.2083, 22.1978, 23.9674, 24.5737, 24.7387, 24.6551, 23.5753, 20.7875, 17.9703, 16.0854, 14.5019, 13.4734, 12.5442, 11.9787]\n"
     ]
    }
   ],
   "source": [
    "#1 hr hrrr:\n",
    "with open('hrrr_f12_Monroe_LA.txt') as f:\n",
    "    lst=[line.split()[1] for line in f]\n",
    "    temp=[]\n",
    "    for i in lst:\n",
    "        new=i.replace(',',\"\")\n",
    "        temp.append(new)\n",
    "    temp.pop(0)\n",
    "    temp=[float(x) for x in temp]\n",
    "    temp=temp[1866:1891]\n",
    "    #temp=temp[2015:2063]\n",
    "    print(temp)\n",
    "    ##prfloat(len(temp))\n",
    "#full time period is [2015:2112]"
   ]
  },
  {
   "cell_type": "code",
   "execution_count": 84,
   "id": "e83f03aa",
   "metadata": {},
   "outputs": [
    {
     "name": "stdout",
     "output_type": "stream",
     "text": [
      "[5.25, 4.5, 4.15, 4.3, 4.05, 3.3499999999999996, 2.9, 3.9, 11.35, 17.7, 20.3, 22.45, 23.85, 24.8, 24.85, 24.9, 24.6, 23.95, 19.6, 14.649999999999999, 13.6, 12.0, 9.55, 8.350000000000001, 7.55]\n"
     ]
    }
   ],
   "source": [
    "#Air Temp CRN:\n",
    "with open('CRNS0101-05-2022-LA_Monroe_26_N.txt') as f:\n",
    "    lst=[line.split()[8] for line in f]\n",
    "    \n",
    "    a=(float(lst[22535])+float(lst[22536]))/2\n",
    "    b=(float(lst[22547])+float(lst[22548]))/2\n",
    "    c=(float(lst[22559])+float(lst[22560]))/2\n",
    "    d=(float(lst[22571])+float(lst[22572]))/2\n",
    "    e=(float(lst[22583])+float(lst[22584]))/2\n",
    "    f=(float(lst[22595])+float(lst[22596]))/2\n",
    "    g=(float(lst[22607])+float(lst[22608]))/2\n",
    "    h=(float(lst[22619])+float(lst[22620]))/2\n",
    "    i=(float(lst[22631])+float(lst[22632]))/2\n",
    "    j=(float(lst[22643])+float(lst[22644]))/2\n",
    "    k=(float(lst[22655])+float(lst[22656]))/2\n",
    "    l=(float(lst[22667])+float(lst[22668]))/2\n",
    "    m=(float(lst[22679])+float(lst[22680]))/2\n",
    "    n=(float(lst[22691])+float(lst[22692]))/2\n",
    "    o=(float(lst[22703])+float(lst[22704]))/2\n",
    "    p=(float(lst[22715])+float(lst[22716]))/2\n",
    "    q=(float(lst[22727])+float(lst[22728]))/2\n",
    "    r=(float(lst[22739])+float(lst[22740]))/2\n",
    "    s=(float(lst[22751])+float(lst[22752]))/2\n",
    "    t=(float(lst[22763])+float(lst[22764]))/2\n",
    "    u=(float(lst[22775])+float(lst[22776]))/2\n",
    "    v=(float(lst[22787])+float(lst[22788]))/2\n",
    "    w=(float(lst[22799])+float(lst[22800]))/2\n",
    "    x=(float(lst[22811])+float(lst[22812]))/2\n",
    "    y=(float(lst[22823])+float(lst[22824]))/2\n",
    "    \n",
    "    temp_crn=[a,b,c,d,e,f,g,h,i,j,k,l,m,n,o,p,q,r,s,t,u,v,w,x,y]\n",
    "    print(temp_crn)"
   ]
  },
  {
   "cell_type": "code",
   "execution_count": 85,
   "id": "79ffb554",
   "metadata": {},
   "outputs": [
    {
     "name": "stdout",
     "output_type": "stream",
     "text": [
      "[4.9663, 5.2654700000000005, 4.708309999999999, 4.027299999999999, 4.128710000000001, 4.92356, 5.2279, 3.91046, 0.5742000000000012, -2.432599999999999, -2.428799999999999, -2.241699999999998, -1.6522000000000006, -0.8325999999999993, -0.27630000000000265, -0.1612999999999971, 0.05509999999999948, -0.3747000000000007, 1.1875, 3.320300000000003, 2.4854000000000003, 2.501899999999999, 3.923399999999999, 4.194199999999999, 4.4287]\n"
     ]
    }
   ],
   "source": [
    "difference3_mon = []\n",
    "\n",
    "zip_object = zip(temp, temp_crn)\n",
    "for temp_i, temp_crn_i in zip_object:\n",
    "    difference3_mon.append(temp_i-temp_crn_i)\n",
    "\n",
    "print(difference3_mon)"
   ]
  },
  {
   "cell_type": "markdown",
   "id": "1bf55dcc",
   "metadata": {},
   "source": [
    "<font size=\"3\">Holly Springs, MS: 0600 UTC (12:00 am CST) 01 March 2022-0600 UTC (12:00 am CST) 02 March 2022</font>"
   ]
  },
  {
   "cell_type": "code",
   "execution_count": 86,
   "id": "70182e09",
   "metadata": {},
   "outputs": [
    {
     "name": "stdout",
     "output_type": "stream",
     "text": [
      "[8.09128, 7.76547, 7.73331, 7.7023, 6.99121, 6.52356, 6.3779, 6.87296, 10.3617, 12.8299, 15.0587, 17.1458, 18.8228, 20.0299, 20.7612, 21.2387, 21.3426, 20.6378, 18.225, 16.4078, 14.3979, 13.8769, 13.2859, 12.9817, 12.6037]\n"
     ]
    }
   ],
   "source": [
    "#1 hr hrrr:\n",
    "with open('hrrr_f12_Holly Springs_MS.txt') as f:\n",
    "    lst=[line.split()[1] for line in f]\n",
    "    temp=[]\n",
    "    for i in lst:\n",
    "        new=i.replace(',',\"\")\n",
    "        temp.append(new)\n",
    "    temp.pop(0)\n",
    "    temp=[float(x) for x in temp]\n",
    "    temp=temp[1866:1891]\n",
    "    #temp=temp[2015:2063]\n",
    "    print(temp)\n",
    "    ##prfloat(len(temp))\n",
    "#full time period is [2015:2112]"
   ]
  },
  {
   "cell_type": "code",
   "execution_count": 87,
   "id": "c2aa5abe",
   "metadata": {},
   "outputs": [
    {
     "name": "stdout",
     "output_type": "stream",
     "text": [
      "[5.4, 6.199999999999999, 4.1, 3.1500000000000004, 2.1, 1.55, 1.1, 2.65, 10.2, 14.95, 17.299999999999997, 19.75, 20.95, 21.450000000000003, 22.1, 22.7, 22.2, 21.2, 15.950000000000001, 11.649999999999999, 9.6, 7.55, 6.65, 5.5, 5.35]\n"
     ]
    }
   ],
   "source": [
    "#Air Temp CRN:\n",
    "with open('CRNS0101-05-2022-MS_Holly_Springs_4_N.txt') as f:\n",
    "    lst=[line.split()[8] for line in f]\n",
    "    \n",
    "    a=(float(lst[22535])+float(lst[22536]))/2\n",
    "    b=(float(lst[22547])+float(lst[22548]))/2\n",
    "    c=(float(lst[22559])+float(lst[22560]))/2\n",
    "    d=(float(lst[22571])+float(lst[22572]))/2\n",
    "    e=(float(lst[22583])+float(lst[22584]))/2\n",
    "    f=(float(lst[22595])+float(lst[22596]))/2\n",
    "    g=(float(lst[22607])+float(lst[22608]))/2\n",
    "    h=(float(lst[22619])+float(lst[22620]))/2\n",
    "    i=(float(lst[22631])+float(lst[22632]))/2\n",
    "    j=(float(lst[22643])+float(lst[22644]))/2\n",
    "    k=(float(lst[22655])+float(lst[22656]))/2\n",
    "    l=(float(lst[22667])+float(lst[22668]))/2\n",
    "    m=(float(lst[22679])+float(lst[22680]))/2\n",
    "    n=(float(lst[22691])+float(lst[22692]))/2\n",
    "    o=(float(lst[22703])+float(lst[22704]))/2\n",
    "    p=(float(lst[22715])+float(lst[22716]))/2\n",
    "    q=(float(lst[22727])+float(lst[22728]))/2\n",
    "    r=(float(lst[22739])+float(lst[22740]))/2\n",
    "    s=(float(lst[22751])+float(lst[22752]))/2\n",
    "    t=(float(lst[22763])+float(lst[22764]))/2\n",
    "    u=(float(lst[22775])+float(lst[22776]))/2\n",
    "    v=(float(lst[22787])+float(lst[22788]))/2\n",
    "    w=(float(lst[22799])+float(lst[22800]))/2\n",
    "    x=(float(lst[22811])+float(lst[22812]))/2\n",
    "    y=(float(lst[22823])+float(lst[22824]))/2\n",
    "    \n",
    "    temp_crn=[a,b,c,d,e,f,g,h,i,j,k,l,m,n,o,p,q,r,s,t,u,v,w,x,y]\n",
    "    print(temp_crn)"
   ]
  },
  {
   "cell_type": "code",
   "execution_count": 88,
   "id": "9d0ab2f8",
   "metadata": {},
   "outputs": [
    {
     "name": "stdout",
     "output_type": "stream",
     "text": [
      "[2.691279999999999, 1.5654700000000004, 3.6333100000000007, 4.5523, 4.891209999999999, 4.97356, 5.277900000000001, 4.2229600000000005, 0.1617000000000015, -2.120099999999999, -2.241299999999997, -2.6041999999999987, -2.1271999999999984, -1.4201000000000015, -1.3388000000000027, -1.4612999999999978, -0.8573999999999984, -0.5622000000000007, 2.2750000000000004, 4.757800000000003, 4.7979, 6.326899999999999, 6.6358999999999995, 7.4817, 7.2537]\n"
     ]
    }
   ],
   "source": [
    "difference3_hol = []\n",
    "\n",
    "zip_object = zip(temp, temp_crn)\n",
    "for temp_i, temp_crn_i in zip_object:\n",
    "    difference3_hol.append(temp_i-temp_crn_i)\n",
    "\n",
    "print(difference3_hol)"
   ]
  },
  {
   "cell_type": "markdown",
   "id": "2d2b0ce7",
   "metadata": {},
   "source": [
    "<font size=\"3\">Newton, MS: 0600 UTC (12:00 am CST) 01 March 2022-0600 UTC (12:00 am CST) 02 March 2022</font>"
   ]
  },
  {
   "cell_type": "code",
   "execution_count": 89,
   "id": "d10078d2",
   "metadata": {},
   "outputs": [
    {
     "name": "stdout",
     "output_type": "stream",
     "text": [
      "[8.65378, 7.95297, 7.29581, 6.9523, 6.24121, 6.39856, 5.8154, 6.99796, 12.5492, 16.8924, 19.1212, 20.7083, 21.6353, 22.7174, 23.1987, 23.3012, 23.2176, 22.5128, 19.9125, 17.1578, 15.5229, 14.5644, 13.5359, 12.7942, 11.8537]\n"
     ]
    }
   ],
   "source": [
    "#1 hr hrrr:\n",
    "with open('hrrr_f12_Newton_MS.txt') as f:\n",
    "    lst=[line.split()[1] for line in f]\n",
    "    temp=[]\n",
    "    for i in lst:\n",
    "        new=i.replace(',',\"\")\n",
    "        temp.append(new)\n",
    "    temp.pop(0)\n",
    "    temp=[float(x) for x in temp]\n",
    "    temp=temp[1866:1891]\n",
    "    #temp=temp[2015:2063]\n",
    "    print(temp)\n",
    "    ##prfloat(len(temp))\n",
    "#full time period is [2015:2112]"
   ]
  },
  {
   "cell_type": "code",
   "execution_count": 90,
   "id": "493b49d2",
   "metadata": {},
   "outputs": [
    {
     "name": "stdout",
     "output_type": "stream",
     "text": [
      "[3.6, 2.9, 2.7, 2.25, 1.9, 1.5499999999999998, 1.2999999999999998, 3.3, 9.2, 14.9, 18.25, 20.55, 21.45, 22.2, 22.85, 23.05, 23.1, 22.25, 18.0, 13.95, 12.75, 10.5, 8.899999999999999, 7.3, 6.6]\n"
     ]
    }
   ],
   "source": [
    "#Air Temp CRN:\n",
    "with open('CRNS0101-05-2022-MS_Newton_5_ENE.txt') as f:\n",
    "    lst=[line.split()[8] for line in f]\n",
    "    \n",
    "    a=(float(lst[22535])+float(lst[22536]))/2\n",
    "    b=(float(lst[22547])+float(lst[22548]))/2\n",
    "    c=(float(lst[22559])+float(lst[22560]))/2\n",
    "    d=(float(lst[22571])+float(lst[22572]))/2\n",
    "    e=(float(lst[22583])+float(lst[22584]))/2\n",
    "    f=(float(lst[22595])+float(lst[22596]))/2\n",
    "    g=(float(lst[22607])+float(lst[22608]))/2\n",
    "    h=(float(lst[22619])+float(lst[22620]))/2\n",
    "    i=(float(lst[22631])+float(lst[22632]))/2\n",
    "    j=(float(lst[22643])+float(lst[22644]))/2\n",
    "    k=(float(lst[22655])+float(lst[22656]))/2\n",
    "    l=(float(lst[22667])+float(lst[22668]))/2\n",
    "    m=(float(lst[22679])+float(lst[22680]))/2\n",
    "    n=(float(lst[22691])+float(lst[22692]))/2\n",
    "    o=(float(lst[22703])+float(lst[22704]))/2\n",
    "    p=(float(lst[22715])+float(lst[22716]))/2\n",
    "    q=(float(lst[22727])+float(lst[22728]))/2\n",
    "    r=(float(lst[22739])+float(lst[22740]))/2\n",
    "    s=(float(lst[22751])+float(lst[22752]))/2\n",
    "    t=(float(lst[22763])+float(lst[22764]))/2\n",
    "    u=(float(lst[22775])+float(lst[22776]))/2\n",
    "    v=(float(lst[22787])+float(lst[22788]))/2\n",
    "    w=(float(lst[22799])+float(lst[22800]))/2\n",
    "    x=(float(lst[22811])+float(lst[22812]))/2\n",
    "    y=(float(lst[22823])+float(lst[22824]))/2\n",
    "    \n",
    "    temp_crn=[a,b,c,d,e,f,g,h,i,j,k,l,m,n,o,p,q,r,s,t,u,v,w,x,y]\n",
    "    print(temp_crn)"
   ]
  },
  {
   "cell_type": "code",
   "execution_count": 91,
   "id": "9f44baa8",
   "metadata": {},
   "outputs": [
    {
     "name": "stdout",
     "output_type": "stream",
     "text": [
      "[5.05378, 5.05297, 4.59581, 4.7023, 4.34121, 4.84856, 4.5154000000000005, 3.69796, 3.3492000000000015, 1.9923999999999982, 0.8712000000000018, 0.15830000000000055, 0.18530000000000157, 0.5174000000000021, 0.34869999999999735, 0.25120000000000076, 0.11759999999999948, 0.2627999999999986, 1.9125000000000014, 3.2078000000000024, 2.7729, 4.064399999999999, 4.635900000000001, 5.4942, 5.2537]\n"
     ]
    }
   ],
   "source": [
    "difference3_new = []\n",
    "\n",
    "zip_object = zip(temp, temp_crn)\n",
    "for temp_i, temp_crn_i in zip_object:\n",
    "    difference3_new.append(temp_i-temp_crn_i)\n",
    "\n",
    "print(difference3_new)"
   ]
  },
  {
   "cell_type": "markdown",
   "id": "538036ab",
   "metadata": {},
   "source": [
    "<font size=\"3\">Gainesville, AL: 0600 UTC (12:00 am CST) 01 March 2022-0600 UTC (12:00 am CST) 02 March 2022</font>"
   ]
  },
  {
   "cell_type": "code",
   "execution_count": 92,
   "id": "24a63117",
   "metadata": {},
   "outputs": [
    {
     "name": "stdout",
     "output_type": "stream",
     "text": [
      "[8.27878, 7.70297, 6.92081, 6.4523, 6.11621, 5.71106, 5.4404, 6.99796, 11.7992, 15.2049, 17.8087, 19.6458, 20.8853, 21.9674, 22.4487, 22.6762, 22.6551, 21.7003, 18.975, 16.6578, 15.0229, 13.7519, 13.0359, 12.1692, 10.7912]\n"
     ]
    }
   ],
   "source": [
    "#1 hr hrrr:\n",
    "with open('hrrr_f12_Gainesville_AL.txt') as f:\n",
    "    lst=[line.split()[1] for line in f]\n",
    "    temp=[]\n",
    "    for i in lst:\n",
    "        new=i.replace(',',\"\")\n",
    "        temp.append(new)\n",
    "    temp.pop(0)\n",
    "    temp=[float(x) for x in temp]\n",
    "    temp=temp[1866:1891]\n",
    "    #temp=temp[2015:2063]\n",
    "    print(temp)\n",
    "    ##prfloat(len(temp))\n",
    "#full time period is [2015:2112]"
   ]
  },
  {
   "cell_type": "code",
   "execution_count": 93,
   "id": "99f327da",
   "metadata": {},
   "outputs": [
    {
     "name": "stdout",
     "output_type": "stream",
     "text": [
      "[5.65, 5.0, 4.65, 3.95, 4.25, 3.55, 3.25, 4.949999999999999, 9.2, 14.25, 17.700000000000003, 19.4, 20.65, 21.55, 22.200000000000003, 22.7, 22.55, 22.4, 19.5, 15.4, 13.3, 11.5, 10.25, 9.25, 8.8]\n"
     ]
    }
   ],
   "source": [
    "#Air Temp CRN:\n",
    "with open('CRNS0101-05-2022-AL_Gainesville_2_NE.txt') as f:\n",
    "    lst=[line.split()[8] for line in f]\n",
    "    \n",
    "    a=(float(lst[22535])+float(lst[22536]))/2\n",
    "    b=(float(lst[22547])+float(lst[22548]))/2\n",
    "    c=(float(lst[22559])+float(lst[22560]))/2\n",
    "    d=(float(lst[22571])+float(lst[22572]))/2\n",
    "    e=(float(lst[22583])+float(lst[22584]))/2\n",
    "    f=(float(lst[22595])+float(lst[22596]))/2\n",
    "    g=(float(lst[22607])+float(lst[22608]))/2\n",
    "    h=(float(lst[22619])+float(lst[22620]))/2\n",
    "    i=(float(lst[22631])+float(lst[22632]))/2\n",
    "    j=(float(lst[22643])+float(lst[22644]))/2\n",
    "    k=(float(lst[22655])+float(lst[22656]))/2\n",
    "    l=(float(lst[22667])+float(lst[22668]))/2\n",
    "    m=(float(lst[22679])+float(lst[22680]))/2\n",
    "    n=(float(lst[22691])+float(lst[22692]))/2\n",
    "    o=(float(lst[22703])+float(lst[22704]))/2\n",
    "    p=(float(lst[22715])+float(lst[22716]))/2\n",
    "    q=(float(lst[22727])+float(lst[22728]))/2\n",
    "    r=(float(lst[22739])+float(lst[22740]))/2\n",
    "    s=(float(lst[22751])+float(lst[22752]))/2\n",
    "    t=(float(lst[22763])+float(lst[22764]))/2\n",
    "    u=(float(lst[22775])+float(lst[22776]))/2\n",
    "    v=(float(lst[22787])+float(lst[22788]))/2\n",
    "    w=(float(lst[22799])+float(lst[22800]))/2\n",
    "    x=(float(lst[22811])+float(lst[22812]))/2\n",
    "    y=(float(lst[22823])+float(lst[22824]))/2\n",
    "    \n",
    "    temp_crn=[a,b,c,d,e,f,g,h,i,j,k,l,m,n,o,p,q,r,s,t,u,v,w,x,y]\n",
    "    print(temp_crn)"
   ]
  },
  {
   "cell_type": "code",
   "execution_count": 94,
   "id": "b6c8652b",
   "metadata": {},
   "outputs": [
    {
     "name": "stdout",
     "output_type": "stream",
     "text": [
      "[2.628779999999999, 2.7029699999999997, 2.27081, 2.5023, 1.8662099999999997, 2.16106, 2.1904000000000003, 2.0479600000000007, 2.5992000000000015, 0.9549000000000003, 0.10869999999999891, 0.24580000000000268, 0.23530000000000229, 0.41740000000000066, 0.24869999999999592, -0.023799999999997823, 0.1051000000000002, -0.6997, -0.5249999999999986, 1.2578000000000014, 1.7228999999999992, 2.251899999999999, 2.7859, 2.9192, 1.9911999999999992]\n"
     ]
    }
   ],
   "source": [
    "difference3_gai = []\n",
    "\n",
    "zip_object = zip(temp, temp_crn)\n",
    "for temp_i, temp_crn_i in zip_object:\n",
    "    difference3_gai.append(temp_i-temp_crn_i)\n",
    "\n",
    "print(difference3_gai)"
   ]
  },
  {
   "cell_type": "markdown",
   "id": "bec1bd8b",
   "metadata": {},
   "source": [
    "<font size=\"3\">Fairhope, AL: 0600 UTC (12:00 am CST) 01 March 2022-0600 UTC (12:00 am CST) 02 March 2022</font>"
   ]
  },
  {
   "cell_type": "code",
   "execution_count": 95,
   "id": "1d46687a",
   "metadata": {},
   "outputs": [
    {
     "name": "stdout",
     "output_type": "stream",
     "text": [
      "[11.5288, 10.453, 9.79581, 9.0773, 8.86621, 8.64856, 8.3154, 9.62296, 12.7367, 14.8299, 16.7462, 18.5208, 20.1978, 21.2799, 22.3237, 22.6137, 22.5301, 21.6378, 18.5375, 16.2203, 15.1479, 14.4394, 13.4109, 12.8567, 12.3537]\n"
     ]
    }
   ],
   "source": [
    "#1 hr hrrr:\n",
    "with open('hrrr_f12_Fairhope_AL.txt') as f:\n",
    "    lst=[line.split()[1] for line in f]\n",
    "    temp=[]\n",
    "    for i in lst:\n",
    "        new=i.replace(',',\"\")\n",
    "        temp.append(new)\n",
    "    temp.pop(0)\n",
    "    temp=[float(x) for x in temp]\n",
    "    temp=temp[1866:1891]\n",
    "    #temp=temp[2015:2063]\n",
    "    print(temp)\n",
    "    ##prfloat(len(temp))\n",
    "#full time period is [2015:2112]"
   ]
  },
  {
   "cell_type": "code",
   "execution_count": 96,
   "id": "8a4a762c",
   "metadata": {},
   "outputs": [
    {
     "name": "stdout",
     "output_type": "stream",
     "text": [
      "[8.9, 8.25, 6.35, 5.35, 4.55, 5.35, 4.45, 8.899999999999999, 12.7, 16.6, 18.950000000000003, 21.049999999999997, 22.05, 22.25, 23.05, 21.549999999999997, 20.299999999999997, 18.799999999999997, 17.5, 12.4, 11.149999999999999, 10.1, 9.149999999999999, 8.35, 8.35]\n"
     ]
    }
   ],
   "source": [
    "#Air Temp CRN:\n",
    "with open('CRNS0101-05-2022-AL_Fairhope_3_NE.txt') as f:\n",
    "    lst=[line.split()[8] for line in f]\n",
    "    \n",
    "    a=(float(lst[22535])+float(lst[22536]))/2\n",
    "    b=(float(lst[22547])+float(lst[22548]))/2\n",
    "    c=(float(lst[22559])+float(lst[22560]))/2\n",
    "    d=(float(lst[22571])+float(lst[22572]))/2\n",
    "    e=(float(lst[22583])+float(lst[22584]))/2\n",
    "    f=(float(lst[22595])+float(lst[22596]))/2\n",
    "    g=(float(lst[22607])+float(lst[22608]))/2\n",
    "    h=(float(lst[22619])+float(lst[22620]))/2\n",
    "    i=(float(lst[22631])+float(lst[22632]))/2\n",
    "    j=(float(lst[22643])+float(lst[22644]))/2\n",
    "    k=(float(lst[22655])+float(lst[22656]))/2\n",
    "    l=(float(lst[22667])+float(lst[22668]))/2\n",
    "    m=(float(lst[22679])+float(lst[22680]))/2\n",
    "    n=(float(lst[22691])+float(lst[22692]))/2\n",
    "    o=(float(lst[22703])+float(lst[22704]))/2\n",
    "    p=(float(lst[22715])+float(lst[22716]))/2\n",
    "    q=(float(lst[22727])+float(lst[22728]))/2\n",
    "    r=(float(lst[22739])+float(lst[22740]))/2\n",
    "    s=(float(lst[22751])+float(lst[22752]))/2\n",
    "    t=(float(lst[22763])+float(lst[22764]))/2\n",
    "    u=(float(lst[22775])+float(lst[22776]))/2\n",
    "    v=(float(lst[22787])+float(lst[22788]))/2\n",
    "    w=(float(lst[22799])+float(lst[22800]))/2\n",
    "    x=(float(lst[22811])+float(lst[22812]))/2\n",
    "    y=(float(lst[22823])+float(lst[22824]))/2\n",
    "    \n",
    "    temp_crn=[a,b,c,d,e,f,g,h,i,j,k,l,m,n,o,p,q,r,s,t,u,v,w,x,y]\n",
    "    print(temp_crn)"
   ]
  },
  {
   "cell_type": "code",
   "execution_count": 97,
   "id": "e5202245",
   "metadata": {},
   "outputs": [
    {
     "name": "stdout",
     "output_type": "stream",
     "text": [
      "[2.6288, 2.2029999999999994, 3.44581, 3.7272999999999996, 4.316210000000001, 3.29856, 3.8654, 0.7229600000000023, 0.03670000000000151, -1.7701000000000011, -2.203800000000001, -2.529199999999996, -1.8521999999999998, -0.9700999999999986, -0.7263000000000019, 1.0637000000000043, 2.2301000000000037, 2.8378000000000014, 1.0375000000000014, 3.8203000000000014, 3.9979000000000013, 4.3393999999999995, 4.260900000000001, 4.5067, 4.0037]\n"
     ]
    }
   ],
   "source": [
    "difference3_fai = []\n",
    "\n",
    "zip_object = zip(temp, temp_crn)\n",
    "for temp_i, temp_crn_i in zip_object:\n",
    "    difference3_fai.append(temp_i-temp_crn_i)\n",
    "\n",
    "print(difference3_fai)"
   ]
  },
  {
   "cell_type": "markdown",
   "id": "5450f80c",
   "metadata": {},
   "source": [
    "<font size=\"3\">**Selma, AL: 0600 UTC (12:00 am CST) 01 March 2022-0600 UTC (12:00 am CST) 02 March 2022</font>"
   ]
  },
  {
   "cell_type": "code",
   "execution_count": 98,
   "id": "168fefba",
   "metadata": {},
   "outputs": [
    {
     "name": "stdout",
     "output_type": "stream",
     "text": [
      "[8.59128, 8.07797, 7.67081, 7.0773, 7.11621, 6.64856, 6.3154, 7.93546, 10.7992, 13.3924, 15.5587, 17.3958, 18.4478, 19.6549, 20.3237, 20.3012, 19.5926, 18.2628, 16.5375, 14.9078, 13.2729, 12.5019, 12.0359, 11.6692, 10.4787]\n"
     ]
    }
   ],
   "source": [
    "#1 hr hrrr:\n",
    "import numpy as np\n",
    "import numpy.ma as ma\n",
    "with open('hrrr_f12_Selma_AL.txt') as f:\n",
    "    lst=[line.split()[1] for line in f]\n",
    "    temp=[]\n",
    "    for i in lst:\n",
    "        new=i.replace(',',\"\")\n",
    "        temp.append(new)\n",
    "    temp.pop(0)\n",
    "    temp=[float(x) for x in temp]\n",
    "    temp=temp[1866:1891]\n",
    "    print(temp)"
   ]
  },
  {
   "cell_type": "code",
   "execution_count": 99,
   "id": "f289b0c4",
   "metadata": {},
   "outputs": [
    {
     "name": "stdout",
     "output_type": "stream",
     "text": [
      "[5.1, 3.6500000000000004, 3.25, 2.65, 2.35, 2.05, 1.8, 5.550000000000001, 10.3, 13.649999999999999, 16.4, 18.35, 20.0, 21.3, 22.2, 22.5, 22.4, 21.3, 16.049999999999997, 12.8, 10.8, 9.5, 8.95, 7.9, 7.199999999999999]\n"
     ]
    }
   ],
   "source": [
    "#Air Temp CRN:\n",
    "with open('CRNS0101-05-2022-AL_Selma_13_WNW.txt') as f:\n",
    "    lst=[line.split()[8] for line in f]\n",
    "    \n",
    "    a=(float(lst[22535])+float(lst[22536]))/2\n",
    "    b=(float(lst[22547])+float(lst[22548]))/2\n",
    "    c=(float(lst[22559])+float(lst[22560]))/2\n",
    "    d=(float(lst[22571])+float(lst[22572]))/2\n",
    "    e=(float(lst[22583])+float(lst[22584]))/2\n",
    "    f=(float(lst[22595])+float(lst[22596]))/2\n",
    "    g=(float(lst[22607])+float(lst[22608]))/2\n",
    "    h=(float(lst[22619])+float(lst[22620]))/2\n",
    "    i=(float(lst[22631])+float(lst[22632]))/2\n",
    "    j=(float(lst[22643])+float(lst[22644]))/2\n",
    "    k=(float(lst[22655])+float(lst[22656]))/2\n",
    "    l=(float(lst[22667])+float(lst[22668]))/2\n",
    "    m=(float(lst[22679])+float(lst[22680]))/2\n",
    "    n=(float(lst[22691])+float(lst[22692]))/2\n",
    "    o=(float(lst[22703])+float(lst[22704]))/2\n",
    "    p=(float(lst[22715])+float(lst[22716]))/2\n",
    "    q=(float(lst[22727])+float(lst[22728]))/2\n",
    "    r=(float(lst[22739])+float(lst[22740]))/2\n",
    "    s=(float(lst[22751])+float(lst[22752]))/2\n",
    "    t=(float(lst[22763])+float(lst[22764]))/2\n",
    "    u=(float(lst[22775])+float(lst[22776]))/2\n",
    "    v=(float(lst[22787])+float(lst[22788]))/2\n",
    "    w=(float(lst[22799])+float(lst[22800]))/2\n",
    "    x=(float(lst[22811])+float(lst[22812]))/2\n",
    "    y=(float(lst[22823])+float(lst[22824]))/2\n",
    "    \n",
    "    temp_crn=[a,b,c,d,e,f,g,h,i,j,k,l,m,n,o,p,q,r,s,t,u,v,w,x,y]\n",
    "    print(temp_crn)"
   ]
  },
  {
   "cell_type": "code",
   "execution_count": 100,
   "id": "3e2532e4",
   "metadata": {},
   "outputs": [
    {
     "name": "stdout",
     "output_type": "stream",
     "text": [
      "[3.4912799999999997, 4.42797, 4.42081, 4.427300000000001, 4.766209999999999, 4.59856, 4.5154000000000005, 2.3854599999999992, 0.4992000000000001, -0.2575999999999983, -0.8412999999999986, -0.9542000000000002, -1.5521999999999991, -1.6450999999999993, -1.8763000000000005, -2.1987999999999985, -2.8073999999999977, -3.037200000000002, 0.48750000000000426, 2.1077999999999992, 2.472899999999999, 3.001899999999999, 3.0859000000000005, 3.7691999999999997, 3.2787000000000006]\n"
     ]
    }
   ],
   "source": [
    "difference3_sel = []\n",
    "\n",
    "zip_object = zip(temp, temp_crn)\n",
    "for temp_i, temp_crn_i in zip_object:\n",
    "    difference3_sel.append(temp_i-temp_crn_i)\n",
    "\n",
    "print(difference3_sel)\n",
    "#prfloat(len(difference3_sel))"
   ]
  },
  {
   "cell_type": "markdown",
   "id": "d837cb2c",
   "metadata": {},
   "source": [
    "<font size=\"3\">Bowling Green, KY: 0600 UTC (12:00 am CST) 01 March 2022-0600 UTC (12:00 am CST) 02 March 2022</font>"
   ]
  },
  {
   "cell_type": "code",
   "execution_count": 101,
   "id": "4d2fd05e",
   "metadata": {},
   "outputs": [
    {
     "name": "stdout",
     "output_type": "stream",
     "text": [
      "[2.90378, 2.32797, 1.98331, 1.9523, 1.80371, 1.27356, 1.1904, 3.18546, 7.48672, 10.8924, 13.1837, 14.6458, 15.6353, 16.7174, 17.3237, 17.8637, 17.7801, 17.2628, 14.35, 12.4078, 11.3354, 9.93942, 9.09842, 8.35672, 8.16617]\n"
     ]
    }
   ],
   "source": [
    "#1 hr hrrr:\n",
    "with open('hrrr_f12_Bowling Green_KY.txt') as f:\n",
    "    lst=[line.split()[1] for line in f]\n",
    "    temp=[]\n",
    "    for i in lst:\n",
    "        new=i.replace(',',\"\")\n",
    "        temp.append(new)\n",
    "    temp.pop(0)\n",
    "    temp=[float(x) for x in temp]\n",
    "    temp=temp[1866:1891]\n",
    "    #temp=temp[2015:2063]\n",
    "    print(temp)\n",
    "    ##prfloat(len(temp))\n",
    "#full time period is [2015:2112]"
   ]
  },
  {
   "cell_type": "code",
   "execution_count": 102,
   "id": "8f455593",
   "metadata": {},
   "outputs": [
    {
     "name": "stdout",
     "output_type": "stream",
     "text": [
      "[4.05, 3.8499999999999996, 4.0, 3.8, 3.45, 3.1, 2.8, 4.35, 6.699999999999999, 10.75, 14.05, 15.3, 16.700000000000003, 17.700000000000003, 18.25, 18.6, 18.35, 17.35, 15.850000000000001, 13.25, 12.55, 12.5, 11.850000000000001, 11.15, 10.2]\n"
     ]
    }
   ],
   "source": [
    "#Air Temp CRN:\n",
    "with open('CRNS0101-05-2022-KY_Bowling_Green_21_NNE.txt') as f:\n",
    "    lst=[line.split()[8] for line in f]\n",
    "    \n",
    "    a=(float(lst[22535])+float(lst[22536]))/2\n",
    "    b=(float(lst[22547])+float(lst[22548]))/2\n",
    "    c=(float(lst[22559])+float(lst[22560]))/2\n",
    "    d=(float(lst[22571])+float(lst[22572]))/2\n",
    "    e=(float(lst[22583])+float(lst[22584]))/2\n",
    "    f=(float(lst[22595])+float(lst[22596]))/2\n",
    "    g=(float(lst[22607])+float(lst[22608]))/2\n",
    "    h=(float(lst[22619])+float(lst[22620]))/2\n",
    "    i=(float(lst[22631])+float(lst[22632]))/2\n",
    "    j=(float(lst[22643])+float(lst[22644]))/2\n",
    "    k=(float(lst[22655])+float(lst[22656]))/2\n",
    "    l=(float(lst[22667])+float(lst[22668]))/2\n",
    "    m=(float(lst[22679])+float(lst[22680]))/2\n",
    "    n=(float(lst[22691])+float(lst[22692]))/2\n",
    "    o=(float(lst[22703])+float(lst[22704]))/2\n",
    "    p=(float(lst[22715])+float(lst[22716]))/2\n",
    "    q=(float(lst[22727])+float(lst[22728]))/2\n",
    "    r=(float(lst[22739])+float(lst[22740]))/2\n",
    "    s=(float(lst[22751])+float(lst[22752]))/2\n",
    "    t=(float(lst[22763])+float(lst[22764]))/2\n",
    "    u=(float(lst[22775])+float(lst[22776]))/2\n",
    "    v=(float(lst[22787])+float(lst[22788]))/2\n",
    "    w=(float(lst[22799])+float(lst[22800]))/2\n",
    "    x=(float(lst[22811])+float(lst[22812]))/2\n",
    "    y=(float(lst[22823])+float(lst[22824]))/2\n",
    "    \n",
    "    temp_crn=[a,b,c,d,e,f,g,h,i,j,k,l,m,n,o,p,q,r,s,t,u,v,w,x,y]\n",
    "    print(temp_crn)"
   ]
  },
  {
   "cell_type": "code",
   "execution_count": 103,
   "id": "c1e44909",
   "metadata": {},
   "outputs": [
    {
     "name": "stdout",
     "output_type": "stream",
     "text": [
      "[-1.14622, -1.5220299999999995, -2.01669, -1.8477, -1.6462900000000003, -1.82644, -1.6096, -1.1645399999999997, 0.7867200000000008, 0.1424000000000003, -0.8663000000000007, -0.6542000000000012, -1.064700000000002, -0.9826000000000015, -0.9263000000000012, -0.7363, -0.5699000000000005, -0.08720000000000283, -1.5000000000000018, -0.8422000000000001, -1.2146000000000008, -2.56058, -2.7515800000000006, -2.793280000000001, -2.03383]\n"
     ]
    }
   ],
   "source": [
    "difference3_bow = []\n",
    "\n",
    "zip_object = zip(temp, temp_crn)\n",
    "for temp_i, temp_crn_i in zip_object:\n",
    "    difference3_bow.append(temp_i-temp_crn_i)\n",
    "\n",
    "print(difference3_bow)"
   ]
  },
  {
   "cell_type": "markdown",
   "id": "21c9a287",
   "metadata": {},
   "source": [
    "<font size=\"3\">Gadsden, AL: 0600 UTC (12:00 am CST) 01 March 2022-0600 UTC (12:00 am CST) 02 March 2022</font>"
   ]
  },
  {
   "cell_type": "code",
   "execution_count": 104,
   "id": "77a1ef95",
   "metadata": {},
   "outputs": [
    {
     "name": "stdout",
     "output_type": "stream",
     "text": [
      "[5.52878, 4.95297, 4.29581, 4.2648, 3.92871, 3.83606, 3.6904, 5.93546, 10.1742, 12.2674, 13.6837, 14.7708, 15.7603, 16.9049, 17.3862, 17.5512, 17.6551, 16.6378, 14.225, 12.8453, 11.7729, 10.8144, 10.4109, 9.91922, 9.41617]\n"
     ]
    }
   ],
   "source": [
    "#1 hr hrrr:\n",
    "with open('hrrr_f12_Gadsden_AL.txt') as f:\n",
    "    lst=[line.split()[1] for line in f]\n",
    "    temp=[]\n",
    "    for i in lst:\n",
    "        new=i.replace(',',\"\")\n",
    "        temp.append(new)\n",
    "    temp.pop(0)\n",
    "    temp=[float(x) for x in temp]\n",
    "    temp=temp[1866:1891]\n",
    "#     x = np.array(temp)\n",
    "#     temp = ma.masked_array(x, mask=[0, 0, 0, 0, 0,0,0,0,1,0,0,0,0,0,0,0,0,0,0,0,0,0,0,0,0])\n",
    "    #temp=temp[2015:2063]\n",
    "    print(temp)\n",
    "    ##prfloat(len(temp))\n",
    "#full time period is [2015:2112]"
   ]
  },
  {
   "cell_type": "code",
   "execution_count": 105,
   "id": "90d48370",
   "metadata": {},
   "outputs": [
    {
     "name": "stdout",
     "output_type": "stream",
     "text": [
      "[2.5, 1.25, 1.0, 0.85, 1.15, 0.75, 0.0, 4.550000000000001, 9.2, 11.75, 13.65, 15.350000000000001, 16.65, 17.200000000000003, 17.95, 18.05, 17.95, 17.15, 13.7, 11.2, 8.95, 7.15, 6.45, 5.300000000000001, 4.75]\n"
     ]
    }
   ],
   "source": [
    "#Air Temp CRN:\n",
    "with open('CRNS0101-05-2022-AL_Gadsden_19_N.txt') as f:\n",
    "    lst=[line.split()[8] for line in f]\n",
    "    \n",
    "    a=(float(lst[22535])+float(lst[22536]))/2\n",
    "    b=(float(lst[22547])+float(lst[22548]))/2\n",
    "    c=(float(lst[22559])+float(lst[22560]))/2\n",
    "    d=(float(lst[22571])+float(lst[22572]))/2\n",
    "    e=(float(lst[22583])+float(lst[22584]))/2\n",
    "    f=(float(lst[22595])+float(lst[22596]))/2\n",
    "    g=(float(lst[22607])+float(lst[22608]))/2\n",
    "    h=(float(lst[22619])+float(lst[22620]))/2\n",
    "    i=(float(lst[22631])+float(lst[22632]))/2\n",
    "    j=(float(lst[22643])+float(lst[22644]))/2\n",
    "    k=(float(lst[22655])+float(lst[22656]))/2\n",
    "    l=(float(lst[22667])+float(lst[22668]))/2\n",
    "    m=(float(lst[22679])+float(lst[22680]))/2\n",
    "    n=(float(lst[22691])+float(lst[22692]))/2\n",
    "    o=(float(lst[22703])+float(lst[22704]))/2\n",
    "    p=(float(lst[22715])+float(lst[22716]))/2\n",
    "    q=(float(lst[22727])+float(lst[22728]))/2\n",
    "    r=(float(lst[22739])+float(lst[22740]))/2\n",
    "    s=(float(lst[22751])+float(lst[22752]))/2\n",
    "    t=(float(lst[22763])+float(lst[22764]))/2\n",
    "    u=(float(lst[22775])+float(lst[22776]))/2\n",
    "    v=(float(lst[22787])+float(lst[22788]))/2\n",
    "    w=(float(lst[22799])+float(lst[22800]))/2\n",
    "    x=(float(lst[22811])+float(lst[22812]))/2\n",
    "    y=(float(lst[22823])+float(lst[22824]))/2\n",
    "    \n",
    "    temp_crn=[a,b,c,d,e,f,g,h,i,j,k,l,m,n,o,p,q,r,s,t,u,v,w,x,y]\n",
    "    print(temp_crn)"
   ]
  },
  {
   "cell_type": "code",
   "execution_count": 106,
   "id": "cf4acb88",
   "metadata": {},
   "outputs": [
    {
     "name": "stdout",
     "output_type": "stream",
     "text": [
      "[3.0287800000000002, 3.7029699999999997, 3.2958100000000004, 3.4148, 2.7787100000000002, 3.08606, 3.6904, 1.3854599999999992, 0.9742000000000015, 0.5174000000000003, 0.03369999999999962, -0.5792000000000019, -0.8896999999999977, -0.2951000000000015, -0.5638000000000005, -0.49879999999999924, -0.2948999999999984, -0.5122, 0.5250000000000004, 1.6453000000000007, 2.8229000000000006, 3.6643999999999988, 3.9608999999999996, 4.6192199999999985, 4.666169999999999]\n"
     ]
    }
   ],
   "source": [
    "difference3_gad = []\n",
    "\n",
    "zip_object = zip(temp, temp_crn)\n",
    "for temp_i, temp_crn_i in zip_object:\n",
    "    difference3_gad.append(temp_i-temp_crn_i)\n",
    "\n",
    "print(difference3_gad)"
   ]
  },
  {
   "cell_type": "markdown",
   "id": "93b56dfb",
   "metadata": {},
   "source": [
    "<font size=\"3\">Newton, GA: 0600 UTC (12:00 am CST) 01 March 2022-0600 UTC (12:00 am CST) 02 March 2022</font>"
   ]
  },
  {
   "cell_type": "code",
   "execution_count": 107,
   "id": "53a55c7c",
   "metadata": {},
   "outputs": [
    {
     "name": "stdout",
     "output_type": "stream",
     "text": [
      "[12.6538, 11.6405, 10.6083, 9.7648, 9.30371, 8.58606, 7.9404, 10.0605, 12.0492, 13.9549, 15.8712, 17.4583, 18.8853, 19.9049, 19.6987, 19.8012, 19.6551, 18.3878, 17.1, 14.7828, 13.1479, 11.9394, 11.5359, 10.7317, 9.85367]\n"
     ]
    }
   ],
   "source": [
    "#1 hr hrrr:\n",
    "with open('hrrr_f12_Newton_GA.txt') as f:\n",
    "    lst=[line.split()[1] for line in f]\n",
    "    temp=[]\n",
    "    for i in lst:\n",
    "        new=i.replace(',',\"\")\n",
    "        temp.append(new)\n",
    "    temp.pop(0)\n",
    "    temp=[float(x) for x in temp]\n",
    "    temp=temp[1866:1891]\n",
    "    #temp=temp[2015:2063]\n",
    "    print(temp)\n",
    "    ##prfloat(len(temp))\n",
    "#full time period is [2015:2112]"
   ]
  },
  {
   "cell_type": "code",
   "execution_count": 108,
   "id": "e0002988",
   "metadata": {},
   "outputs": [
    {
     "name": "stdout",
     "output_type": "stream",
     "text": [
      "[13.75, 13.2, 12.25, 10.9, 8.850000000000001, 9.05, 7.8999999999999995, 10.25, 13.0, 15.75, 17.799999999999997, 19.45, 20.85, 21.6, 21.9, 22.1, 22.25, 21.55, 17.0, 14.149999999999999, 12.3, 10.45, 9.350000000000001, 7.699999999999999, 7.7]\n"
     ]
    }
   ],
   "source": [
    "#Air Temp CRN:\n",
    "with open('CRNS0101-05-2022-GA_Newton_11_SW.txt') as f:\n",
    "    lst=[line.split()[8] for line in f]\n",
    "    \n",
    "    a=(float(lst[22535])+float(lst[22536]))/2\n",
    "    b=(float(lst[22547])+float(lst[22548]))/2\n",
    "    c=(float(lst[22559])+float(lst[22560]))/2\n",
    "    d=(float(lst[22571])+float(lst[22572]))/2\n",
    "    e=(float(lst[22583])+float(lst[22584]))/2\n",
    "    f=(float(lst[22595])+float(lst[22596]))/2\n",
    "    g=(float(lst[22607])+float(lst[22608]))/2\n",
    "    h=(float(lst[22619])+float(lst[22620]))/2\n",
    "    i=(float(lst[22631])+float(lst[22632]))/2\n",
    "    j=(float(lst[22643])+float(lst[22644]))/2\n",
    "    k=(float(lst[22655])+float(lst[22656]))/2\n",
    "    l=(float(lst[22667])+float(lst[22668]))/2\n",
    "    m=(float(lst[22679])+float(lst[22680]))/2\n",
    "    n=(float(lst[22691])+float(lst[22692]))/2\n",
    "    o=(float(lst[22703])+float(lst[22704]))/2\n",
    "    p=(float(lst[22715])+float(lst[22716]))/2\n",
    "    q=(float(lst[22727])+float(lst[22728]))/2\n",
    "    r=(float(lst[22739])+float(lst[22740]))/2\n",
    "    s=(float(lst[22751])+float(lst[22752]))/2\n",
    "    t=(float(lst[22763])+float(lst[22764]))/2\n",
    "    u=(float(lst[22775])+float(lst[22776]))/2\n",
    "    v=(float(lst[22787])+float(lst[22788]))/2\n",
    "    w=(float(lst[22799])+float(lst[22800]))/2\n",
    "    x=(float(lst[22811])+float(lst[22812]))/2\n",
    "    y=(float(lst[22823])+float(lst[22824]))/2\n",
    "    \n",
    "    temp_crn=[a,b,c,d,e,f,g,h,i,j,k,l,m,n,o,p,q,r,s,t,u,v,w,x,y]\n",
    "    print(temp_crn)"
   ]
  },
  {
   "cell_type": "code",
   "execution_count": 109,
   "id": "b71c6000",
   "metadata": {},
   "outputs": [
    {
     "name": "stdout",
     "output_type": "stream",
     "text": [
      "[-1.0961999999999996, -1.5594999999999999, -1.6417000000000002, -1.135200000000001, 0.45370999999999917, -0.4639400000000009, 0.04040000000000088, -0.18950000000000067, -0.9507999999999992, -1.7950999999999997, -1.9287999999999972, -1.991699999999998, -1.9647000000000006, -1.6951, -2.2013, -2.2988, -2.594899999999999, -3.162200000000002, 0.10000000000000142, 0.6328000000000014, 0.8478999999999992, 1.4893999999999998, 2.1858999999999984, 3.0317000000000007, 2.153669999999999]\n"
     ]
    }
   ],
   "source": [
    "difference3_newt = []\n",
    "\n",
    "zip_object = zip(temp, temp_crn)\n",
    "for temp_i, temp_crn_i in zip_object:\n",
    "    difference3_newt.append(temp_i-temp_crn_i)\n",
    "\n",
    "print(difference3_newt)"
   ]
  },
  {
   "cell_type": "markdown",
   "id": "e079df5d",
   "metadata": {},
   "source": [
    "<font size=\"3\">Salem, MO: 0500 UTC (12:00 am CDT) 03 April 2022-0500 UTC (12:00 am CDT) 04 April 2022</font>"
   ]
  },
  {
   "cell_type": "code",
   "execution_count": 110,
   "id": "2bda3233",
   "metadata": {},
   "outputs": [
    {
     "name": "stdout",
     "output_type": "stream",
     "text": [
      "[4.80185, 4.51102, 4.29596, 3.91687, 3.09479, 2.80267, 2.63162, 4.94687, 8.60406, 11.1649, 12.6039, 13.8211, 15.6103, 16.8831, 17.6609, 17.2156, 17.145, 17.1084, 15.3312, 13.2354, 12.249, 12.1692, 11.6375, 11.2725, 11.098]\n"
     ]
    }
   ],
   "source": [
    "#1 hr hrrr:\n",
    "with open('hrrr_f12_Salem_MO.txt') as f:\n",
    "    lst=[line.split()[1] for line in f]\n",
    "    temp=[]\n",
    "    for i in lst:\n",
    "        new=i.replace(',',\"\")\n",
    "        temp.append(new)\n",
    "    temp.pop(0)\n",
    "    temp=[float(x) for x in temp]\n",
    "    temp=temp[2202:2227]\n",
    "    #temp=temp[2015:2063]\n",
    "    print(temp)\n",
    "    #prfloat(len(temp))\n",
    "#full time period is [2015:2112]"
   ]
  },
  {
   "cell_type": "code",
   "execution_count": 111,
   "id": "3a8d2e0d",
   "metadata": {},
   "outputs": [
    {
     "name": "stdout",
     "output_type": "stream",
     "text": [
      "[-0.19999999999999998, -0.65, -1.7000000000000002, -2.1500000000000004, -2.05, -1.95, -1.9500000000000002, 1.7, 10.3, 13.350000000000001, 15.649999999999999, 16.95, 18.05, 19.1, 19.75, 20.85, 20.4, 18.9, 17.9, 16.700000000000003, 15.649999999999999, 15.0, 14.149999999999999, 13.45, 10.149999999999999]\n"
     ]
    }
   ],
   "source": [
    "#Air Temp CRN:\n",
    "with open('CRNS0101-05-2022-MO_Salem_10_W.txt') as f:\n",
    "    lst=[line.split()[8] for line in f]\n",
    "    \n",
    "    a=(float(lst[26567])+float(lst[26568]))/2\n",
    "    b=(float(lst[26579])+float(lst[26580]))/2\n",
    "    c=(float(lst[26591])+float(lst[26592]))/2\n",
    "    d=(float(lst[26603])+float(lst[26604]))/2\n",
    "    e=(float(lst[26615])+float(lst[26616]))/2\n",
    "    f=(float(lst[26627])+float(lst[26628]))/2\n",
    "    g=(float(lst[26639])+float(lst[26640]))/2\n",
    "    h=(float(lst[26651])+float(lst[26652]))/2\n",
    "    i=(float(lst[26663])+float(lst[26664]))/2\n",
    "    j=(float(lst[26675])+float(lst[26676]))/2\n",
    "    k=(float(lst[26687])+float(lst[26688]))/2\n",
    "    l=(float(lst[26699])+float(lst[26700]))/2\n",
    "    m=(float(lst[26711])+float(lst[26712]))/2\n",
    "    n=(float(lst[26723])+float(lst[26724]))/2\n",
    "    o=(float(lst[26735])+float(lst[26736]))/2\n",
    "    p=(float(lst[26747])+float(lst[26748]))/2\n",
    "    q=(float(lst[26759])+float(lst[26760]))/2\n",
    "    r=(float(lst[26773])+float(lst[26774]))/2\n",
    "    s=(float(lst[26783])+float(lst[26784]))/2\n",
    "    t=(float(lst[26795])+float(lst[26796]))/2\n",
    "    u=(float(lst[26807])+float(lst[26808]))/2\n",
    "    v=(float(lst[26819])+float(lst[26820]))/2\n",
    "    w=(float(lst[26831])+float(lst[26832]))/2\n",
    "    x=(float(lst[26843])+float(lst[26844]))/2\n",
    "    y=(float(lst[26855])+float(lst[26856]))/2\n",
    "    \n",
    "    temp_crn=[a,b,c,d,e,f,g,h,i,j,k,l,m,n,o,p,q,r,s,t,u,v,w,x,y]\n",
    "    print(temp_crn)"
   ]
  },
  {
   "cell_type": "code",
   "execution_count": 112,
   "id": "2f3aad80",
   "metadata": {},
   "outputs": [
    {
     "name": "stdout",
     "output_type": "stream",
     "text": [
      "[5.00185, 5.161020000000001, 5.99596, 6.06687, 5.14479, 4.75267, 4.58162, 3.2468699999999995, -1.6959400000000002, -2.185100000000002, -3.046099999999999, -3.1289, -2.4397, -2.2169000000000025, -2.0890999999999984, -3.634400000000003, -3.254999999999999, -1.791599999999999, -2.5687999999999978, -3.4646000000000026, -3.400999999999998, -2.8308, -2.5124999999999993, -2.1774999999999984, 0.9480000000000022]\n"
     ]
    }
   ],
   "source": [
    "difference4_sal = []\n",
    "\n",
    "zip_object = zip(temp, temp_crn)\n",
    "for temp_i, temp_crn_i in zip_object:\n",
    "    difference4_sal.append(temp_i-temp_crn_i)\n",
    "\n",
    "print(difference4_sal)"
   ]
  },
  {
   "cell_type": "markdown",
   "id": "f30e9b3b",
   "metadata": {},
   "source": [
    "<font size=\"3\">Batesville, AR: 0600 UTC (12:00 am CST) 01 March 2022-0600 UTC (12:00 am CST) 02 March 2022</font>"
   ]
  },
  {
   "cell_type": "code",
   "execution_count": 113,
   "id": "ea25905e",
   "metadata": {},
   "outputs": [
    {
     "name": "stdout",
     "output_type": "stream",
     "text": [
      "[8.61435, 8.44852, 7.85846, 7.10437, 6.40729, 6.24017, 5.69412, 7.13437, 9.91656, 11.6649, 13.7914, 15.3836, 16.9853, 18.6331, 19.8484, 20.7781, 20.895, 19.7959, 17.3937, 14.3604, 12.749, 11.6692, 10.95, 10.585, 10.223]\n"
     ]
    }
   ],
   "source": [
    "#1 hr hrrr:\n",
    "with open('hrrr_f12_Batesville_AR.txt') as f:\n",
    "    lst=[line.split()[1] for line in f]\n",
    "    temp=[]\n",
    "    for i in lst:\n",
    "        new=i.replace(',',\"\")\n",
    "        temp.append(new)\n",
    "    temp.pop(0)\n",
    "    temp=[float(x) for x in temp]\n",
    "    temp=temp[2202:2227]\n",
    "#     x = np.array(temp)\n",
    "#     temp = ma.masked_array(x, mask=[0, 0, 0, 0, 0,0,0,0,0,0,0,0,0,0,0,0,0,0,0,0,0,1,0,0,0])\n",
    "    #temp=temp[2015:2063]\n",
    "    print(temp)\n",
    "    #prfloat(len(temp))\n",
    "#full time period is [2015:2112]"
   ]
  },
  {
   "cell_type": "code",
   "execution_count": 114,
   "id": "6ac93b59",
   "metadata": {},
   "outputs": [
    {
     "name": "stdout",
     "output_type": "stream",
     "text": [
      "[4.65, 4.9, 3.8, 2.45, 2.0, 1.35, 0.8500000000000001, 4.4, 10.0, 12.55, 14.5, 15.75, 16.799999999999997, 17.700000000000003, 18.75, 19.1, 18.6, 17.4, 16.35, 14.1, 13.1, 13.0, 11.850000000000001, 12.350000000000001, 11.100000000000001]\n"
     ]
    }
   ],
   "source": [
    "#Air Temp CRN:\n",
    "with open('CRNS0101-05-2022-AR_Batesville_8_WNW.txt') as f:\n",
    "    lst=[line.split()[8] for line in f]\n",
    "    \n",
    "    a=(float(lst[26567])+float(lst[26568]))/2\n",
    "    b=(float(lst[26579])+float(lst[26580]))/2\n",
    "    c=(float(lst[26591])+float(lst[26592]))/2\n",
    "    d=(float(lst[26603])+float(lst[26604]))/2\n",
    "    e=(float(lst[26615])+float(lst[26616]))/2\n",
    "    f=(float(lst[26627])+float(lst[26628]))/2\n",
    "    g=(float(lst[26639])+float(lst[26640]))/2\n",
    "    h=(float(lst[26651])+float(lst[26652]))/2\n",
    "    i=(float(lst[26663])+float(lst[26664]))/2\n",
    "    j=(float(lst[26675])+float(lst[26676]))/2\n",
    "    k=(float(lst[26687])+float(lst[26688]))/2\n",
    "    l=(float(lst[26699])+float(lst[26700]))/2\n",
    "    m=(float(lst[26711])+float(lst[26712]))/2\n",
    "    n=(float(lst[26723])+float(lst[26724]))/2\n",
    "    o=(float(lst[26735])+float(lst[26736]))/2\n",
    "    p=(float(lst[26747])+float(lst[26748]))/2\n",
    "    q=(float(lst[26759])+float(lst[26760]))/2\n",
    "    r=(float(lst[26773])+float(lst[26774]))/2\n",
    "    s=(float(lst[26783])+float(lst[26784]))/2\n",
    "    t=(float(lst[26795])+float(lst[26796]))/2\n",
    "    u=(float(lst[26807])+float(lst[26808]))/2\n",
    "    v=(float(lst[26819])+float(lst[26820]))/2\n",
    "    w=(float(lst[26831])+float(lst[26832]))/2\n",
    "    x=(float(lst[26843])+float(lst[26844]))/2\n",
    "    y=(float(lst[26855])+float(lst[26856]))/2\n",
    "    \n",
    "    temp_crn=[a,b,c,d,e,f,g,h,i,j,k,l,m,n,o,p,q,r,s,t,u,v,w,x,y]\n",
    "    print(temp_crn)"
   ]
  },
  {
   "cell_type": "code",
   "execution_count": 115,
   "id": "32d53f73",
   "metadata": {},
   "outputs": [
    {
     "name": "stdout",
     "output_type": "stream",
     "text": [
      "[3.9643499999999996, 3.54852, 4.05846, 4.65437, 4.40729, 4.8901699999999995, 4.84412, 2.7343699999999993, -0.08343999999999951, -0.8851000000000013, -0.7086000000000006, -0.3664000000000005, 0.18530000000000157, 0.933099999999996, 1.0984000000000016, 1.678099999999997, 2.294999999999998, 2.395900000000001, 1.0436999999999976, 0.26040000000000063, -0.3509999999999991, -1.3308, -0.9000000000000021, -1.7650000000000006, -0.8770000000000007]\n"
     ]
    }
   ],
   "source": [
    "difference4_bat = []\n",
    "\n",
    "zip_object = zip(temp, temp_crn)\n",
    "for temp_i, temp_crn_i in zip_object:\n",
    "    difference4_bat.append(temp_i-temp_crn_i)\n",
    "\n",
    "print(difference4_bat)"
   ]
  },
  {
   "cell_type": "markdown",
   "id": "2869b9dc",
   "metadata": {},
   "source": [
    "<font size=\"3\">Lafayette, LA: 0600 UTC (12:00 am CST) 01 March 2022-0600 UTC (12:00 am CST) 02 March 2022</font>"
   ]
  },
  {
   "cell_type": "code",
   "execution_count": 116,
   "id": "fd2670e5",
   "metadata": {},
   "outputs": [
    {
     "name": "stdout",
     "output_type": "stream",
     "text": [
      "[17.0518, 15.886, 15.1085, 14.6044, 14.2823, 13.6152, 12.8191, 14.1344, 18.4791, 22.5399, 24.6039, 26.2586, 27.6728, 28.5706, 29.1609, 29.5281, 29.145, 28.2959, 24.3937, 21.8604, 20.249, 19.3567, 18.6375, 17.585, 16.6605]\n"
     ]
    }
   ],
   "source": [
    "#1 hr hrrr:\n",
    "with open('hrrr_f12_Lafayette_LA.txt') as f:\n",
    "    lst=[line.split()[1] for line in f]\n",
    "    temp=[]\n",
    "    for i in lst:\n",
    "        new=i.replace(',',\"\")\n",
    "        temp.append(new)\n",
    "    temp.pop(0)\n",
    "    temp=[float(x) for x in temp]\n",
    "    temp=temp[2202:2227]\n",
    "    #temp=temp[2015:2063]\n",
    "    print(temp)\n",
    "    ##prfloat(len(temp))\n",
    "#full time period is [2015:2112]"
   ]
  },
  {
   "cell_type": "code",
   "execution_count": 117,
   "id": "59735c23",
   "metadata": {},
   "outputs": [
    {
     "name": "stdout",
     "output_type": "stream",
     "text": [
      "[13.2, 12.4, 11.8, 11.2, 12.0, 11.149999999999999, 11.7, 13.45, 17.700000000000003, 20.75, 22.799999999999997, 24.200000000000003, 25.45, 26.5, 26.85, 27.2, 27.05, 25.9, 22.75, 20.35, 19.2, 18.9, 17.5, 16.35, 15.75]\n"
     ]
    }
   ],
   "source": [
    "#Air Temp CRN:\n",
    "with open('CRNS0101-05-2022-LA_Lafayette_13_SE.txt') as f:\n",
    "    lst=[line.split()[8] for line in f]\n",
    "    \n",
    "    a=(float(lst[26567])+float(lst[26568]))/2\n",
    "    b=(float(lst[26579])+float(lst[26580]))/2\n",
    "    c=(float(lst[26591])+float(lst[26592]))/2\n",
    "    d=(float(lst[26603])+float(lst[26604]))/2\n",
    "    e=(float(lst[26615])+float(lst[26616]))/2\n",
    "    f=(float(lst[26627])+float(lst[26628]))/2\n",
    "    g=(float(lst[26639])+float(lst[26640]))/2\n",
    "    h=(float(lst[26651])+float(lst[26652]))/2\n",
    "    i=(float(lst[26663])+float(lst[26664]))/2\n",
    "    j=(float(lst[26675])+float(lst[26676]))/2\n",
    "    k=(float(lst[26687])+float(lst[26688]))/2\n",
    "    l=(float(lst[26699])+float(lst[26700]))/2\n",
    "    m=(float(lst[26711])+float(lst[26712]))/2\n",
    "    n=(float(lst[26723])+float(lst[26724]))/2\n",
    "    o=(float(lst[26735])+float(lst[26736]))/2\n",
    "    p=(float(lst[26747])+float(lst[26748]))/2\n",
    "    q=(float(lst[26759])+float(lst[26760]))/2\n",
    "    r=(float(lst[26773])+float(lst[26774]))/2\n",
    "    s=(float(lst[26783])+float(lst[26784]))/2\n",
    "    t=(float(lst[26795])+float(lst[26796]))/2\n",
    "    u=(float(lst[26807])+float(lst[26808]))/2\n",
    "    v=(float(lst[26819])+float(lst[26820]))/2\n",
    "    w=(float(lst[26831])+float(lst[26832]))/2\n",
    "    x=(float(lst[26843])+float(lst[26844]))/2\n",
    "    y=(float(lst[26855])+float(lst[26856]))/2\n",
    "    \n",
    "    temp_crn=[a,b,c,d,e,f,g,h,i,j,k,l,m,n,o,p,q,r,s,t,u,v,w,x,y]\n",
    "    print(temp_crn)"
   ]
  },
  {
   "cell_type": "code",
   "execution_count": 118,
   "id": "c02f8d98",
   "metadata": {},
   "outputs": [
    {
     "name": "stdout",
     "output_type": "stream",
     "text": [
      "[3.851800000000001, 3.485999999999999, 3.3084999999999987, 3.4044000000000008, 2.2822999999999993, 2.465200000000001, 1.1191000000000013, 0.6844000000000001, 0.7790999999999961, 1.7898999999999994, 1.8039000000000023, 2.0585999999999984, 2.2227999999999994, 2.070599999999999, 2.3109, 2.328099999999999, 2.094999999999999, 2.395900000000001, 1.643699999999999, 1.510399999999997, 1.0489999999999995, 0.45670000000000144, 1.1374999999999993, 1.2349999999999994, 0.910499999999999]\n"
     ]
    }
   ],
   "source": [
    "difference4_laf = []\n",
    "\n",
    "zip_object = zip(temp, temp_crn)\n",
    "for temp_i, temp_crn_i in zip_object:\n",
    "    difference4_laf.append(temp_i-temp_crn_i)\n",
    "\n",
    "print(difference4_laf)"
   ]
  },
  {
   "cell_type": "markdown",
   "id": "ab48fc12",
   "metadata": {},
   "source": [
    "<font size=\"3\">Monroe, LA: 0600 UTC (12:00 am CST) 01 March 2022-0600 UTC (12:00 am CST) 02 March 2022</font>"
   ]
  },
  {
   "cell_type": "code",
   "execution_count": 119,
   "id": "b61707d0",
   "metadata": {},
   "outputs": [
    {
     "name": "stdout",
     "output_type": "stream",
     "text": [
      "[13.2393, 12.6985, 11.9835, 11.7294, 11.6573, 11.2402, 10.8191, 11.8844, 14.1041, 16.9774, 19.1039, 21.1961, 23.1728, 24.5081, 25.2859, 25.7781, 25.645, 24.7959, 22.9562, 20.1104, 18.5615, 17.0442, 15.7625, 15.0225, 14.5355]\n"
     ]
    }
   ],
   "source": [
    "#1 hr hrrr:\n",
    "with open('hrrr_f12_Monroe_LA.txt') as f:\n",
    "    lst=[line.split()[1] for line in f]\n",
    "    temp=[]\n",
    "    for i in lst:\n",
    "        new=i.replace(',',\"\")\n",
    "        temp.append(new)\n",
    "    temp.pop(0)\n",
    "    temp=[float(x) for x in temp]\n",
    "    temp=temp[2202:2227]\n",
    "    #temp=temp[2015:2063]\n",
    "    print(temp)\n",
    "    ##prfloat(len(temp))\n",
    "#full time period is [2015:2112]"
   ]
  },
  {
   "cell_type": "code",
   "execution_count": 120,
   "id": "2bcf6d37",
   "metadata": {},
   "outputs": [
    {
     "name": "stdout",
     "output_type": "stream",
     "text": [
      "[9.7, 9.05, 8.350000000000001, 7.65, 7.25, 6.65, 6.65, 8.399999999999999, 15.100000000000001, 19.15, 21.45, 22.9, 23.75, 24.3, 24.7, 25.35, 25.1, 23.950000000000003, 21.700000000000003, 17.05, 15.399999999999999, 14.25, 14.55, 14.0, 12.149999999999999]\n"
     ]
    }
   ],
   "source": [
    "#Air Temp CRN:\n",
    "with open('CRNS0101-05-2022-LA_Monroe_26_N.txt') as f:\n",
    "    lst=[line.split()[8] for line in f]\n",
    "    \n",
    "    a=(float(lst[26567])+float(lst[26568]))/2\n",
    "    b=(float(lst[26579])+float(lst[26580]))/2\n",
    "    c=(float(lst[26591])+float(lst[26592]))/2\n",
    "    d=(float(lst[26603])+float(lst[26604]))/2\n",
    "    e=(float(lst[26615])+float(lst[26616]))/2\n",
    "    f=(float(lst[26627])+float(lst[26628]))/2\n",
    "    g=(float(lst[26639])+float(lst[26640]))/2\n",
    "    h=(float(lst[26651])+float(lst[26652]))/2\n",
    "    i=(float(lst[26663])+float(lst[26664]))/2\n",
    "    j=(float(lst[26675])+float(lst[26676]))/2\n",
    "    k=(float(lst[26687])+float(lst[26688]))/2\n",
    "    l=(float(lst[26699])+float(lst[26700]))/2\n",
    "    m=(float(lst[26711])+float(lst[26712]))/2\n",
    "    n=(float(lst[26723])+float(lst[26724]))/2\n",
    "    o=(float(lst[26735])+float(lst[26736]))/2\n",
    "    p=(float(lst[26747])+float(lst[26748]))/2\n",
    "    q=(float(lst[26759])+float(lst[26760]))/2\n",
    "    r=(float(lst[26773])+float(lst[26774]))/2\n",
    "    s=(float(lst[26783])+float(lst[26784]))/2\n",
    "    t=(float(lst[26795])+float(lst[26796]))/2\n",
    "    u=(float(lst[26807])+float(lst[26808]))/2\n",
    "    v=(float(lst[26819])+float(lst[26820]))/2\n",
    "    w=(float(lst[26831])+float(lst[26832]))/2\n",
    "    x=(float(lst[26843])+float(lst[26844]))/2\n",
    "    y=(float(lst[26855])+float(lst[26856]))/2\n",
    "    \n",
    "    temp_crn=[a,b,c,d,e,f,g,h,i,j,k,l,m,n,o,p,q,r,s,t,u,v,w,x,y]\n",
    "    print(temp_crn)"
   ]
  },
  {
   "cell_type": "code",
   "execution_count": 121,
   "id": "e8911bcb",
   "metadata": {},
   "outputs": [
    {
     "name": "stdout",
     "output_type": "stream",
     "text": [
      "[3.539300000000001, 3.6484999999999985, 3.633499999999998, 4.0794, 4.407299999999999, 4.590199999999999, 4.1691, 3.484400000000001, -0.9959000000000007, -2.172599999999999, -2.3461, -1.7038999999999973, -0.5772000000000013, 0.20809999999999818, 0.5859000000000023, 0.42809999999999704, 0.5449999999999982, 0.8458999999999968, 1.2561999999999962, 3.060399999999998, 3.1615, 2.7942, 1.2124999999999986, 1.0225000000000009, 2.385500000000002]\n"
     ]
    }
   ],
   "source": [
    "difference4_mon = []\n",
    "\n",
    "zip_object = zip(temp, temp_crn)\n",
    "for temp_i, temp_crn_i in zip_object:\n",
    "    difference4_mon.append(temp_i-temp_crn_i)\n",
    "\n",
    "print(difference4_mon)"
   ]
  },
  {
   "cell_type": "markdown",
   "id": "dbfdd9c6",
   "metadata": {},
   "source": [
    "<font size=\"3\">Holly Springs, MS: 0600 UTC (12:00 am CST) 01 March 2022-0600 UTC (12:00 am CST) 02 March 2022</font>"
   ]
  },
  {
   "cell_type": "code",
   "execution_count": 122,
   "id": "055b4b13",
   "metadata": {},
   "outputs": [
    {
     "name": "stdout",
     "output_type": "stream",
     "text": [
      "[9.36435, 8.32352, 7.73346, 7.29187, 6.84479, 6.67767, 5.88162, 8.00937, 10.4791, 12.4149, 14.3539, 16.0711, 17.8603, 18.6956, 19.4109, 20.2156, 20.145, 19.3584, 17.2062, 14.3604, 12.499, 11.5442, 10.7, 9.89746, 9.41046]\n"
     ]
    }
   ],
   "source": [
    "#1 hr hrrr:\n",
    "with open('hrrr_f12_Holly Springs_MS.txt') as f:\n",
    "    lst=[line.split()[1] for line in f]\n",
    "    temp=[]\n",
    "    for i in lst:\n",
    "        new=i.replace(',',\"\")\n",
    "        temp.append(new)\n",
    "    temp.pop(0)\n",
    "    temp=[float(x) for x in temp]\n",
    "    temp=temp[2202:2227]\n",
    "    #temp=temp[2015:2063]\n",
    "    print(temp)\n",
    "    ##prfloat(len(temp))\n",
    "#full time period is [2015:2112]"
   ]
  },
  {
   "cell_type": "code",
   "execution_count": 123,
   "id": "13e28750",
   "metadata": {},
   "outputs": [
    {
     "name": "stdout",
     "output_type": "stream",
     "text": [
      "[7.65, 7.45, 9.05, 7.85, 6.5, 5.3, 4.55, 8.65, 11.5, 13.4, 15.25, 16.6, 17.75, 19.1, 19.1, 19.85, 20.0, 19.35, 15.25, 10.649999999999999, 8.9, 7.9, 6.55, 6.3, 6.65]\n"
     ]
    }
   ],
   "source": [
    "#Air Temp CRN:\n",
    "with open('CRNS0101-05-2022-MS_Holly_Springs_4_N.txt') as f:\n",
    "    lst=[line.split()[8] for line in f]\n",
    "    \n",
    "    a=(float(lst[26567])+float(lst[26568]))/2\n",
    "    b=(float(lst[26579])+float(lst[26580]))/2\n",
    "    c=(float(lst[26591])+float(lst[26592]))/2\n",
    "    d=(float(lst[26603])+float(lst[26604]))/2\n",
    "    e=(float(lst[26615])+float(lst[26616]))/2\n",
    "    f=(float(lst[26627])+float(lst[26628]))/2\n",
    "    g=(float(lst[26639])+float(lst[26640]))/2\n",
    "    h=(float(lst[26651])+float(lst[26652]))/2\n",
    "    i=(float(lst[26663])+float(lst[26664]))/2\n",
    "    j=(float(lst[26675])+float(lst[26676]))/2\n",
    "    k=(float(lst[26687])+float(lst[26688]))/2\n",
    "    l=(float(lst[26699])+float(lst[26700]))/2\n",
    "    m=(float(lst[26711])+float(lst[26712]))/2\n",
    "    n=(float(lst[26723])+float(lst[26724]))/2\n",
    "    o=(float(lst[26735])+float(lst[26736]))/2\n",
    "    p=(float(lst[26747])+float(lst[26748]))/2\n",
    "    q=(float(lst[26759])+float(lst[26760]))/2\n",
    "    r=(float(lst[26773])+float(lst[26774]))/2\n",
    "    s=(float(lst[26783])+float(lst[26784]))/2\n",
    "    t=(float(lst[26795])+float(lst[26796]))/2\n",
    "    u=(float(lst[26807])+float(lst[26808]))/2\n",
    "    v=(float(lst[26819])+float(lst[26820]))/2\n",
    "    w=(float(lst[26831])+float(lst[26832]))/2\n",
    "    x=(float(lst[26843])+float(lst[26844]))/2\n",
    "    y=(float(lst[26855])+float(lst[26856]))/2\n",
    "    \n",
    "    temp_crn=[a,b,c,d,e,f,g,h,i,j,k,l,m,n,o,p,q,r,s,t,u,v,w,x,y]\n",
    "    print(temp_crn)"
   ]
  },
  {
   "cell_type": "code",
   "execution_count": 124,
   "id": "6836c3bb",
   "metadata": {},
   "outputs": [
    {
     "name": "stdout",
     "output_type": "stream",
     "text": [
      "[1.7143499999999996, 0.8735200000000001, -1.3165400000000007, -0.5581299999999993, 0.3447899999999997, 1.3776700000000002, 1.33162, -0.6406299999999998, -1.0208999999999993, -0.985100000000001, -0.8961000000000006, -0.5289000000000001, 0.11029999999999873, -0.40440000000000254, 0.3109000000000002, 0.36559999999999704, 0.14499999999999957, 0.008399999999998187, 1.956199999999999, 3.7104000000000017, 3.599, 3.6441999999999997, 4.1499999999999995, 3.5974600000000008, 2.76046]\n"
     ]
    }
   ],
   "source": [
    "difference4_hol = []\n",
    "\n",
    "zip_object = zip(temp, temp_crn)\n",
    "for temp_i, temp_crn_i in zip_object:\n",
    "    difference4_hol.append(temp_i-temp_crn_i)\n",
    "\n",
    "print(difference4_hol)"
   ]
  },
  {
   "cell_type": "markdown",
   "id": "9c7354c6",
   "metadata": {},
   "source": [
    "<font size=\"3\">Newton, MS: 0600 UTC (12:00 am CST) 01 March 2022-0600 UTC (12:00 am CST) 02 March 2022</font>"
   ]
  },
  {
   "cell_type": "code",
   "execution_count": 125,
   "id": "93316a90",
   "metadata": {},
   "outputs": [
    {
     "name": "stdout",
     "output_type": "stream",
     "text": [
      "[13.4268, 12.5735, 11.796, 11.2919, 10.5323, 10.3027, 10.1941, 12.3219, 17.4166, 20.1024, 21.7289, 22.6336, 23.8603, 24.5081, 24.7859, 24.9656, 24.7075, 23.7959, 21.6437, 19.2354, 17.374, 16.1692, 14.95, 14.0225, 13.4105]\n"
     ]
    }
   ],
   "source": [
    "#1 hr hrrr:\n",
    "with open('hrrr_f12_Newton_MS.txt') as f:\n",
    "    lst=[line.split()[1] for line in f]\n",
    "    temp=[]\n",
    "    for i in lst:\n",
    "        new=i.replace(',',\"\")\n",
    "        temp.append(new)\n",
    "    temp.pop(0)\n",
    "    temp=[float(x) for x in temp]\n",
    "    temp=temp[2202:2227]\n",
    "    #temp=temp[2015:2063]\n",
    "    print(temp)\n",
    "    ##prfloat(len(temp))\n",
    "#full time period is [2015:2112]"
   ]
  },
  {
   "cell_type": "code",
   "execution_count": 126,
   "id": "17e49fc9",
   "metadata": {},
   "outputs": [
    {
     "name": "stdout",
     "output_type": "stream",
     "text": [
      "[8.350000000000001, 7.9, 7.300000000000001, 6.8, 6.4, 5.95, 5.55, 8.65, 14.8, 18.65, 20.200000000000003, 21.2, 22.15, 23.15, 23.549999999999997, 23.5, 23.65, 22.85, 19.35, 15.6, 13.05, 11.850000000000001, 10.649999999999999, 9.3, 8.7]\n"
     ]
    }
   ],
   "source": [
    "#Air Temp CRN:\n",
    "with open('CRNS0101-05-2022-MS_Newton_5_ENE.txt') as f:\n",
    "    lst=[line.split()[8] for line in f]\n",
    "    \n",
    "    a=(float(lst[26567])+float(lst[26568]))/2\n",
    "    b=(float(lst[26579])+float(lst[26580]))/2\n",
    "    c=(float(lst[26591])+float(lst[26592]))/2\n",
    "    d=(float(lst[26603])+float(lst[26604]))/2\n",
    "    e=(float(lst[26615])+float(lst[26616]))/2\n",
    "    f=(float(lst[26627])+float(lst[26628]))/2\n",
    "    g=(float(lst[26639])+float(lst[26640]))/2\n",
    "    h=(float(lst[26651])+float(lst[26652]))/2\n",
    "    i=(float(lst[26663])+float(lst[26664]))/2\n",
    "    j=(float(lst[26675])+float(lst[26676]))/2\n",
    "    k=(float(lst[26687])+float(lst[26688]))/2\n",
    "    l=(float(lst[26699])+float(lst[26700]))/2\n",
    "    m=(float(lst[26711])+float(lst[26712]))/2\n",
    "    n=(float(lst[26723])+float(lst[26724]))/2\n",
    "    o=(float(lst[26735])+float(lst[26736]))/2\n",
    "    p=(float(lst[26747])+float(lst[26748]))/2\n",
    "    q=(float(lst[26759])+float(lst[26760]))/2\n",
    "    r=(float(lst[26773])+float(lst[26774]))/2\n",
    "    s=(float(lst[26783])+float(lst[26784]))/2\n",
    "    t=(float(lst[26795])+float(lst[26796]))/2\n",
    "    u=(float(lst[26807])+float(lst[26808]))/2\n",
    "    v=(float(lst[26819])+float(lst[26820]))/2\n",
    "    w=(float(lst[26831])+float(lst[26832]))/2\n",
    "    x=(float(lst[26843])+float(lst[26844]))/2\n",
    "    y=(float(lst[26855])+float(lst[26856]))/2\n",
    "    \n",
    "    temp_crn=[a,b,c,d,e,f,g,h,i,j,k,l,m,n,o,p,q,r,s,t,u,v,w,x,y]\n",
    "    print(temp_crn)"
   ]
  },
  {
   "cell_type": "code",
   "execution_count": 127,
   "id": "895bb872",
   "metadata": {},
   "outputs": [
    {
     "name": "stdout",
     "output_type": "stream",
     "text": [
      "[5.076799999999999, 4.673499999999999, 4.495999999999999, 4.4919, 4.132299999999999, 4.3527, 4.644100000000001, 3.671899999999999, 2.6165999999999983, 1.4524000000000008, 1.5288999999999966, 1.433600000000002, 1.7103000000000002, 1.3581000000000003, 1.2359000000000044, 1.4655999999999985, 1.057500000000001, 0.9458999999999982, 2.2936999999999976, 3.635399999999999, 4.323999999999998, 4.319199999999999, 4.300000000000001, 4.7225, 4.7105000000000015]\n"
     ]
    }
   ],
   "source": [
    "difference4_new = []\n",
    "\n",
    "zip_object = zip(temp, temp_crn)\n",
    "for temp_i, temp_crn_i in zip_object:\n",
    "    difference4_new.append(temp_i-temp_crn_i)\n",
    "\n",
    "print(difference4_new)"
   ]
  },
  {
   "cell_type": "markdown",
   "id": "9e553db4",
   "metadata": {},
   "source": [
    "<font size=\"3\">Gainesville, AL: 0600 UTC (12:00 am CST) 01 March 2022-0600 UTC (12:00 am CST) 02 March 2022</font>"
   ]
  },
  {
   "cell_type": "code",
   "execution_count": 128,
   "id": "34bf4646",
   "metadata": {},
   "outputs": [
    {
     "name": "stdout",
     "output_type": "stream",
     "text": [
      "[12.1768, 11.4485, 11.296, 10.4169, 9.46979, 8.86517, 8.81912, 12.8219, 15.7916, 18.3524, 19.9789, 21.0086, 22.5478, 23.3206, 23.7234, 24.1531, 23.895, 22.9834, 20.4562, 17.7979, 15.9365, 14.5442, 13.075, 12.21, 11.4105]\n"
     ]
    }
   ],
   "source": [
    "#1 hr hrrr:\n",
    "with open('hrrr_f12_Gainesville_AL.txt') as f:\n",
    "    lst=[line.split()[1] for line in f]\n",
    "    temp=[]\n",
    "    for i in lst:\n",
    "        new=i.replace(',',\"\")\n",
    "        temp.append(new)\n",
    "    temp.pop(0)\n",
    "    temp=[float(x) for x in temp]\n",
    "    temp=temp[2202:2227]\n",
    "    #temp=temp[2015:2063]\n",
    "    print(temp)\n",
    "    ##prfloat(len(temp))\n",
    "#full time period is [2015:2112]"
   ]
  },
  {
   "cell_type": "code",
   "execution_count": 129,
   "id": "81d766ff",
   "metadata": {},
   "outputs": [
    {
     "name": "stdout",
     "output_type": "stream",
     "text": [
      "[9.7, 9.4, 9.1, 8.25, 7.95, 8.0, 7.6, 11.0, 14.25, 17.65, 19.35, 20.6, 21.5, 21.95, 22.5, 22.5, 22.25, 21.35, 19.75, 15.35, 13.95, 11.6, 10.7, 9.7, 9.45]\n"
     ]
    }
   ],
   "source": [
    "#Air Temp CRN:\n",
    "with open('CRNS0101-05-2022-AL_Gainesville_2_NE.txt') as f:\n",
    "    lst=[line.split()[8] for line in f]\n",
    "    \n",
    "    a=(float(lst[26567])+float(lst[26568]))/2\n",
    "    b=(float(lst[26579])+float(lst[26580]))/2\n",
    "    c=(float(lst[26591])+float(lst[26592]))/2\n",
    "    d=(float(lst[26603])+float(lst[26604]))/2\n",
    "    e=(float(lst[26615])+float(lst[26616]))/2\n",
    "    f=(float(lst[26627])+float(lst[26628]))/2\n",
    "    g=(float(lst[26639])+float(lst[26640]))/2\n",
    "    h=(float(lst[26651])+float(lst[26652]))/2\n",
    "    i=(float(lst[26663])+float(lst[26664]))/2\n",
    "    j=(float(lst[26675])+float(lst[26676]))/2\n",
    "    k=(float(lst[26687])+float(lst[26688]))/2\n",
    "    l=(float(lst[26699])+float(lst[26700]))/2\n",
    "    m=(float(lst[26711])+float(lst[26712]))/2\n",
    "    n=(float(lst[26723])+float(lst[26724]))/2\n",
    "    o=(float(lst[26735])+float(lst[26736]))/2\n",
    "    p=(float(lst[26747])+float(lst[26748]))/2\n",
    "    q=(float(lst[26759])+float(lst[26760]))/2\n",
    "    r=(float(lst[26773])+float(lst[26774]))/2\n",
    "    s=(float(lst[26783])+float(lst[26784]))/2\n",
    "    t=(float(lst[26795])+float(lst[26796]))/2\n",
    "    u=(float(lst[26807])+float(lst[26808]))/2\n",
    "    v=(float(lst[26819])+float(lst[26820]))/2\n",
    "    w=(float(lst[26831])+float(lst[26832]))/2\n",
    "    x=(float(lst[26843])+float(lst[26844]))/2\n",
    "    y=(float(lst[26855])+float(lst[26856]))/2\n",
    "    \n",
    "    temp_crn=[a,b,c,d,e,f,g,h,i,j,k,l,m,n,o,p,q,r,s,t,u,v,w,x,y]\n",
    "    print(temp_crn)"
   ]
  },
  {
   "cell_type": "code",
   "execution_count": 130,
   "id": "4baf3368",
   "metadata": {},
   "outputs": [
    {
     "name": "stdout",
     "output_type": "stream",
     "text": [
      "[2.476800000000001, 2.048499999999999, 2.1959999999999997, 2.1669, 1.5197899999999995, 0.8651700000000009, 1.2191200000000002, 1.8218999999999994, 1.5416000000000007, 0.7024000000000008, 0.628899999999998, 0.40859999999999985, 1.0477999999999987, 1.3705999999999996, 1.2234000000000016, 1.6530999999999985, 1.6449999999999996, 1.6333999999999982, 0.706199999999999, 2.447899999999999, 1.9865000000000013, 2.9442000000000004, 2.375, 2.5100000000000016, 1.9605000000000015]\n"
     ]
    }
   ],
   "source": [
    "difference4_gai = []\n",
    "\n",
    "zip_object = zip(temp, temp_crn)\n",
    "for temp_i, temp_crn_i in zip_object:\n",
    "    difference4_gai.append(temp_i-temp_crn_i)\n",
    "\n",
    "print(difference4_gai)"
   ]
  },
  {
   "cell_type": "markdown",
   "id": "7dcabe11",
   "metadata": {},
   "source": [
    "<font size=\"3\">Fairhope, AL: 0600 UTC (12:00 am CST) 01 March 2022-0600 UTC (12:00 am CST) 02 March 2022</font>"
   ]
  },
  {
   "cell_type": "code",
   "execution_count": 131,
   "id": "66bf707b",
   "metadata": {},
   "outputs": [
    {
     "name": "stdout",
     "output_type": "stream",
     "text": [
      "[12.8018, 12.011, 11.9835, 11.7294, 11.5323, 11.3652, 10.8816, 13.1969, 17.2916, 19.4774, 21.8539, 23.1336, 24.3603, 25.1331, 25.5984, 25.8406, 25.8325, 24.7959, 22.5187, 20.4229, 18.0615, 16.9817, 16.45, 16.46, 15.973]\n"
     ]
    }
   ],
   "source": [
    "#1 hr hrrr:\n",
    "with open('hrrr_f12_Fairhope_AL.txt') as f:\n",
    "    lst=[line.split()[1] for line in f]\n",
    "    temp=[]\n",
    "    for i in lst:\n",
    "        new=i.replace(',',\"\")\n",
    "        temp.append(new)\n",
    "    temp.pop(0)\n",
    "    temp=[float(x) for x in temp]\n",
    "    temp=temp[2202:2227]\n",
    "    #temp=temp[2015:2063]\n",
    "    print(temp)\n",
    "    ##prfloat(len(temp))\n",
    "#full time period is [2015:2112]"
   ]
  },
  {
   "cell_type": "code",
   "execution_count": 132,
   "id": "e6d98c95",
   "metadata": {},
   "outputs": [
    {
     "name": "stdout",
     "output_type": "stream",
     "text": [
      "[9.0, 8.45, 8.4, 7.85, 7.6, 7.75, 6.75, 12.149999999999999, 17.950000000000003, 20.45, 21.799999999999997, 23.0, 23.2, 24.6, 25.049999999999997, 25.15, 25.1, 24.200000000000003, 22.2, 15.85, 16.05, 14.0, 12.8, 11.95, 11.649999999999999]\n"
     ]
    }
   ],
   "source": [
    "#Air Temp CRN:\n",
    "with open('CRNS0101-05-2022-AL_Fairhope_3_NE.txt') as f:\n",
    "    lst=[line.split()[8] for line in f]\n",
    "    \n",
    "    a=(float(lst[26567])+float(lst[26568]))/2\n",
    "    b=(float(lst[26579])+float(lst[26580]))/2\n",
    "    c=(float(lst[26591])+float(lst[26592]))/2\n",
    "    d=(float(lst[26603])+float(lst[26604]))/2\n",
    "    e=(float(lst[26615])+float(lst[26616]))/2\n",
    "    f=(float(lst[26627])+float(lst[26628]))/2\n",
    "    g=(float(lst[26639])+float(lst[26640]))/2\n",
    "    h=(float(lst[26651])+float(lst[26652]))/2\n",
    "    i=(float(lst[26663])+float(lst[26664]))/2\n",
    "    j=(float(lst[26675])+float(lst[26676]))/2\n",
    "    k=(float(lst[26687])+float(lst[26688]))/2\n",
    "    l=(float(lst[26699])+float(lst[26700]))/2\n",
    "    m=(float(lst[26711])+float(lst[26712]))/2\n",
    "    n=(float(lst[26723])+float(lst[26724]))/2\n",
    "    o=(float(lst[26735])+float(lst[26736]))/2\n",
    "    p=(float(lst[26747])+float(lst[26748]))/2\n",
    "    q=(float(lst[26759])+float(lst[26760]))/2\n",
    "    r=(float(lst[26773])+float(lst[26774]))/2\n",
    "    s=(float(lst[26783])+float(lst[26784]))/2\n",
    "    t=(float(lst[26795])+float(lst[26796]))/2\n",
    "    u=(float(lst[26807])+float(lst[26808]))/2\n",
    "    v=(float(lst[26819])+float(lst[26820]))/2\n",
    "    w=(float(lst[26831])+float(lst[26832]))/2\n",
    "    x=(float(lst[26843])+float(lst[26844]))/2\n",
    "    y=(float(lst[26855])+float(lst[26856]))/2\n",
    "    \n",
    "    temp_crn=[a,b,c,d,e,f,g,h,i,j,k,l,m,n,o,p,q,r,s,t,u,v,w,x,y]\n",
    "    print(temp_crn)"
   ]
  },
  {
   "cell_type": "code",
   "execution_count": 133,
   "id": "320724ae",
   "metadata": {},
   "outputs": [
    {
     "name": "stdout",
     "output_type": "stream",
     "text": [
      "[3.8018, 3.561, 3.583499999999999, 3.8794000000000004, 3.9322999999999997, 3.6151999999999997, 4.131600000000001, 1.0469000000000008, -0.6584000000000039, -0.9725999999999999, 0.05390000000000228, 0.13360000000000127, 1.1602999999999994, 0.5330999999999975, 0.5484000000000044, 0.6905999999999999, 0.7324999999999982, 0.5958999999999968, 0.31869999999999976, 4.572899999999999, 2.011499999999998, 2.9817, 3.6499999999999986, 4.510000000000002, 4.323000000000002]\n"
     ]
    }
   ],
   "source": [
    "difference4_fai = []\n",
    "\n",
    "zip_object = zip(temp, temp_crn)\n",
    "for temp_i, temp_crn_i in zip_object:\n",
    "    difference4_fai.append(temp_i-temp_crn_i)\n",
    "\n",
    "print(difference4_fai)"
   ]
  },
  {
   "cell_type": "markdown",
   "id": "057898bf",
   "metadata": {},
   "source": [
    "<font size=\"3\">**Selma, AL: 0600 UTC (12:00 am CST) 01 March 2022-0600 UTC (12:00 am CST) 02 March 2022</font>"
   ]
  },
  {
   "cell_type": "code",
   "execution_count": 134,
   "id": "dd6c27fb",
   "metadata": {},
   "outputs": [
    {
     "name": "stdout",
     "output_type": "stream",
     "text": [
      "[11.7393, 10.9485, 10.3585, 10.2919, 9.21979, 9.24017, 8.69412, 11.0094, 14.4166, 16.7899, 18.4789, 19.6961, 20.9853, 21.9456, 22.6609, 23.3406, 23.2075, 21.9209, 19.5187, 17.1729, 15.499, 14.9192, 13.575, 12.6475, 11.473]\n"
     ]
    }
   ],
   "source": [
    "#1 hr hrrr:\n",
    "import numpy as np\n",
    "import numpy.ma as ma\n",
    "with open('hrrr_f12_Selma_AL.txt') as f:\n",
    "    lst=[line.split()[1] for line in f]\n",
    "    temp=[]\n",
    "    for i in lst:\n",
    "        new=i.replace(',',\"\")\n",
    "        temp.append(new)\n",
    "    temp.pop(0)\n",
    "    temp=[float(x) for x in temp]\n",
    "    temp=temp[2202:2227]\n",
    "    print(temp)\n"
   ]
  },
  {
   "cell_type": "code",
   "execution_count": 135,
   "id": "b91246e9",
   "metadata": {},
   "outputs": [
    {
     "name": "stdout",
     "output_type": "stream",
     "text": [
      "[9.0, 8.350000000000001, 7.7, 7.3, 6.85, 6.2, 6.15, 10.600000000000001, 15.05, 18.0, 20.45, 21.4, 22.7, 23.2, 23.55, 23.65, 23.45, 22.25, 18.25, 13.85, 11.85, 11.2, 9.2, 8.4, 7.7]\n"
     ]
    }
   ],
   "source": [
    "#Air Temp CRN:\n",
    "with open('CRNS0101-05-2022-AL_Selma_13_WNW.txt') as f:\n",
    "    lst=[line.split()[8] for line in f]\n",
    "    \n",
    "    a=(float(lst[26567])+float(lst[26568]))/2\n",
    "    b=(float(lst[26579])+float(lst[26580]))/2\n",
    "    c=(float(lst[26591])+float(lst[26592]))/2\n",
    "    d=(float(lst[26603])+float(lst[26604]))/2\n",
    "    e=(float(lst[26615])+float(lst[26616]))/2\n",
    "    f=(float(lst[26627])+float(lst[26628]))/2\n",
    "    g=(float(lst[26639])+float(lst[26640]))/2\n",
    "    h=(float(lst[26651])+float(lst[26652]))/2\n",
    "    i=(float(lst[26663])+float(lst[26664]))/2\n",
    "    j=(float(lst[26675])+float(lst[26676]))/2\n",
    "    k=(float(lst[26687])+float(lst[26688]))/2\n",
    "    l=(float(lst[26699])+float(lst[26700]))/2\n",
    "    m=(float(lst[26711])+float(lst[26712]))/2\n",
    "    n=(float(lst[26723])+float(lst[26724]))/2\n",
    "    o=(float(lst[26735])+float(lst[26736]))/2\n",
    "    p=(float(lst[26747])+float(lst[26748]))/2\n",
    "    q=(float(lst[26759])+float(lst[26760]))/2\n",
    "    r=(float(lst[26773])+float(lst[26774]))/2\n",
    "    s=(float(lst[26783])+float(lst[26784]))/2\n",
    "    t=(float(lst[26795])+float(lst[26796]))/2\n",
    "    u=(float(lst[26807])+float(lst[26808]))/2\n",
    "    v=(float(lst[26819])+float(lst[26820]))/2\n",
    "    w=(float(lst[26831])+float(lst[26832]))/2\n",
    "    x=(float(lst[26843])+float(lst[26844]))/2\n",
    "    y=(float(lst[26855])+float(lst[26856]))/2\n",
    "    \n",
    "    temp_crn=[a,b,c,d,e,f,g,h,i,j,k,l,m,n,o,p,q,r,s,t,u,v,w,x,y]\n",
    "    print(temp_crn)"
   ]
  },
  {
   "cell_type": "code",
   "execution_count": 136,
   "id": "38eaf77e",
   "metadata": {},
   "outputs": [
    {
     "name": "stdout",
     "output_type": "stream",
     "text": [
      "[2.7393, 2.598499999999998, 2.658499999999999, 2.9919000000000002, 2.36979, 3.0401700000000007, 2.5441199999999995, 0.409399999999998, -0.6334, -1.2101000000000006, -1.9710999999999999, -1.7038999999999973, -1.7147000000000006, -1.2544000000000004, -0.8890999999999991, -0.3094000000000001, -0.24249999999999972, -0.3291000000000004, 1.268699999999999, 3.322899999999999, 3.649000000000001, 3.7192000000000007, 4.375, 4.2475000000000005, 3.7730000000000006]\n"
     ]
    }
   ],
   "source": [
    "difference4_sel = []\n",
    "\n",
    "zip_object = zip(temp, temp_crn)\n",
    "for temp_i, temp_crn_i in zip_object:\n",
    "    difference4_sel.append(temp_i-temp_crn_i)\n",
    "\n",
    "print(difference4_sel)\n",
    "##prfloat(len(difference3_sel))"
   ]
  },
  {
   "cell_type": "markdown",
   "id": "cb37cdb6",
   "metadata": {},
   "source": [
    "<font size=\"3\">Bowling Green, KY: 0600 UTC (12:00 am CST) 01 March 2022-0600 UTC (12:00 am CST) 02 March 2022</font>"
   ]
  },
  {
   "cell_type": "code",
   "execution_count": 137,
   "id": "14e1ecd0",
   "metadata": {},
   "outputs": [
    {
     "name": "stdout",
     "output_type": "stream",
     "text": [
      "[5.05185, 3.82352, 3.42096, 2.60437, 2.71979, 1.55267, 1.06912, 3.75937, 6.04156, 8.41495, 10.6039, 12.4461, 14.0478, 14.9456, 15.4734, 15.9656, 15.7075, 15.1709, 13.0187, 10.7354, 9.68649, 9.48169, 8.88751, 7.45996, 7.53546]\n"
     ]
    }
   ],
   "source": [
    "#1 hr hrrr:\n",
    "with open('hrrr_f12_Bowling Green_KY.txt') as f:\n",
    "    lst=[line.split()[1] for line in f]\n",
    "    temp=[]\n",
    "    for i in lst:\n",
    "        new=i.replace(',',\"\")\n",
    "        temp.append(new)\n",
    "    temp.pop(0)\n",
    "    temp=[float(x) for x in temp]\n",
    "    temp=temp[2202:2227]\n",
    "    #temp=temp[2015:2063]\n",
    "    print(temp)\n",
    "    ##prfloat(len(temp))\n",
    "#full time period is [2015:2112]"
   ]
  },
  {
   "cell_type": "code",
   "execution_count": 138,
   "id": "80d9d555",
   "metadata": {},
   "outputs": [
    {
     "name": "stdout",
     "output_type": "stream",
     "text": [
      "[5.85, 4.85, 3.6, 2.6500000000000004, 2.2, 1.7, 2.1500000000000004, 5.4, 7.25, 9.7, 12.25, 14.1, 14.899999999999999, 15.45, 15.850000000000001, 16.35, 15.950000000000001, 14.85, 13.649999999999999, 12.1, 10.65, 9.35, 9.1, 9.7, 10.45]\n"
     ]
    }
   ],
   "source": [
    "#Air Temp CRN:\n",
    "with open('CRNS0101-05-2022-KY_Bowling_Green_21_NNE.txt') as f:\n",
    "    lst=[line.split()[8] for line in f]\n",
    "    \n",
    "    a=(float(lst[26567])+float(lst[26568]))/2\n",
    "    b=(float(lst[26579])+float(lst[26580]))/2\n",
    "    c=(float(lst[26591])+float(lst[26592]))/2\n",
    "    d=(float(lst[26603])+float(lst[26604]))/2\n",
    "    e=(float(lst[26615])+float(lst[26616]))/2\n",
    "    f=(float(lst[26627])+float(lst[26628]))/2\n",
    "    g=(float(lst[26639])+float(lst[26640]))/2\n",
    "    h=(float(lst[26651])+float(lst[26652]))/2\n",
    "    i=(float(lst[26663])+float(lst[26664]))/2\n",
    "    j=(float(lst[26675])+float(lst[26676]))/2\n",
    "    k=(float(lst[26687])+float(lst[26688]))/2\n",
    "    l=(float(lst[26699])+float(lst[26700]))/2\n",
    "    m=(float(lst[26711])+float(lst[26712]))/2\n",
    "    n=(float(lst[26723])+float(lst[26724]))/2\n",
    "    o=(float(lst[26735])+float(lst[26736]))/2\n",
    "    p=(float(lst[26747])+float(lst[26748]))/2\n",
    "    q=(float(lst[26759])+float(lst[26760]))/2\n",
    "    r=(float(lst[26773])+float(lst[26774]))/2\n",
    "    s=(float(lst[26783])+float(lst[26784]))/2\n",
    "    t=(float(lst[26795])+float(lst[26796]))/2\n",
    "    u=(float(lst[26807])+float(lst[26808]))/2\n",
    "    v=(float(lst[26819])+float(lst[26820]))/2\n",
    "    w=(float(lst[26831])+float(lst[26832]))/2\n",
    "    x=(float(lst[26843])+float(lst[26844]))/2\n",
    "    y=(float(lst[26855])+float(lst[26856]))/2\n",
    "    \n",
    "    temp_crn=[a,b,c,d,e,f,g,h,i,j,k,l,m,n,o,p,q,r,s,t,u,v,w,x,y]\n",
    "    print(temp_crn)"
   ]
  },
  {
   "cell_type": "code",
   "execution_count": 139,
   "id": "cbe21805",
   "metadata": {},
   "outputs": [
    {
     "name": "stdout",
     "output_type": "stream",
     "text": [
      "[-0.7981499999999997, -1.0264799999999998, -0.1790400000000001, -0.045630000000000503, 0.51979, -0.14732999999999996, -1.0808800000000003, -1.6406300000000003, -1.2084400000000004, -1.28505, -1.6461000000000006, -1.6539000000000001, -0.8521999999999981, -0.5043999999999986, -0.3766000000000016, -0.3844000000000012, -0.2425000000000015, 0.32089999999999996, -0.6312999999999978, -1.3645999999999994, -0.9635100000000012, 0.13169000000000075, -0.21248999999999896, -2.2400399999999996, -2.9145399999999997]\n"
     ]
    }
   ],
   "source": [
    "difference4_bow = []\n",
    "\n",
    "zip_object = zip(temp, temp_crn)\n",
    "for temp_i, temp_crn_i in zip_object:\n",
    "    difference4_bow.append(temp_i-temp_crn_i)\n",
    "\n",
    "print(difference4_bow)"
   ]
  },
  {
   "cell_type": "markdown",
   "id": "b962f206",
   "metadata": {},
   "source": [
    "<font size=\"3\">Gadsden, AL: 0600 UTC (12:00 am CST) 01 March 2022-0600 UTC (12:00 am CST) 02 March 2022</font>"
   ]
  },
  {
   "cell_type": "code",
   "execution_count": 140,
   "id": "e76025fd",
   "metadata": {},
   "outputs": [
    {
     "name": "stdout",
     "output_type": "stream",
     "text": [
      "[10.5518, 9.76102, 9.67096, 9.04187, 8.46979, 8.49017, 7.88162, 9.75937, 11.3541, 13.6024, 14.7914, 15.6961, 16.7978, 17.5706, 18.0359, 18.2156, 17.9575, 16.8584, 14.5187, 12.7979, 11.874, 10.9192, 9.95001, 9.20996, 8.91046]\n"
     ]
    }
   ],
   "source": [
    "#1 hr hrrr:\n",
    "with open('hrrr_f12_Gadsden_AL.txt') as f:\n",
    "    lst=[line.split()[1] for line in f]\n",
    "    temp=[]\n",
    "    for i in lst:\n",
    "        new=i.replace(',',\"\")\n",
    "        temp.append(new)\n",
    "    temp.pop(0)\n",
    "    temp=[float(x) for x in temp]\n",
    "    temp=temp[2202:2227]\n",
    "#     x = np.array(temp)\n",
    "#     temp = ma.masked_array(x, mask=[0, 0, 0, 0, 0,0,0,0,1,0,0,0,0,0,0,0,0,0,0,0,0,0,0,0,0])\n",
    "    #temp=temp[2015:2063]\n",
    "    print(temp)\n",
    "    ##prfloat(len(temp))\n",
    "#full time period is [2015:2112]"
   ]
  },
  {
   "cell_type": "code",
   "execution_count": 141,
   "id": "94193a19",
   "metadata": {},
   "outputs": [
    {
     "name": "stdout",
     "output_type": "stream",
     "text": [
      "[6.3, 4.8, 5.199999999999999, 4.2, 5.65, 6.35, 6.8, 9.649999999999999, 11.1, 12.9, 14.05, 14.649999999999999, 16.05, 17.1, 17.4, 17.65, 17.55, 16.15, 13.85, 12.4, 10.8, 9.1, 6.85, 4.800000000000001, 5.35]\n"
     ]
    }
   ],
   "source": [
    "#Air Temp CRN:\n",
    "with open('CRNS0101-05-2022-AL_Gadsden_19_N.txt') as f:\n",
    "    lst=[line.split()[8] for line in f]\n",
    "    \n",
    "    a=(float(lst[26567])+float(lst[26568]))/2\n",
    "    b=(float(lst[26579])+float(lst[26580]))/2\n",
    "    c=(float(lst[26591])+float(lst[26592]))/2\n",
    "    d=(float(lst[26603])+float(lst[26604]))/2\n",
    "    e=(float(lst[26615])+float(lst[26616]))/2\n",
    "    f=(float(lst[26627])+float(lst[26628]))/2\n",
    "    g=(float(lst[26639])+float(lst[26640]))/2\n",
    "    h=(float(lst[26651])+float(lst[26652]))/2\n",
    "    i=(float(lst[26663])+float(lst[26664]))/2\n",
    "    j=(float(lst[26675])+float(lst[26676]))/2\n",
    "    k=(float(lst[26687])+float(lst[26688]))/2\n",
    "    l=(float(lst[26699])+float(lst[26700]))/2\n",
    "    m=(float(lst[26711])+float(lst[26712]))/2\n",
    "    n=(float(lst[26723])+float(lst[26724]))/2\n",
    "    o=(float(lst[26735])+float(lst[26736]))/2\n",
    "    p=(float(lst[26747])+float(lst[26748]))/2\n",
    "    q=(float(lst[26759])+float(lst[26760]))/2\n",
    "    r=(float(lst[26773])+float(lst[26774]))/2\n",
    "    s=(float(lst[26783])+float(lst[26784]))/2\n",
    "    t=(float(lst[26795])+float(lst[26796]))/2\n",
    "    u=(float(lst[26807])+float(lst[26808]))/2\n",
    "    v=(float(lst[26819])+float(lst[26820]))/2\n",
    "    w=(float(lst[26831])+float(lst[26832]))/2\n",
    "    x=(float(lst[26843])+float(lst[26844]))/2\n",
    "    y=(float(lst[26855])+float(lst[26856]))/2\n",
    "    \n",
    "    temp_crn=[a,b,c,d,e,f,g,h,i,j,k,l,m,n,o,p,q,r,s,t,u,v,w,x,y]\n",
    "    print(temp_crn)"
   ]
  },
  {
   "cell_type": "code",
   "execution_count": 142,
   "id": "fd78be39",
   "metadata": {},
   "outputs": [
    {
     "name": "stdout",
     "output_type": "stream",
     "text": [
      "[4.2518, 4.96102, 4.47096, 4.841869999999999, 2.8197899999999994, 2.1401700000000012, 1.08162, 0.10937000000000197, 0.2541000000000011, 0.702399999999999, 0.7413999999999987, 1.046100000000001, 0.747799999999998, 0.47059999999999746, 0.635900000000003, 0.5655999999999999, 0.40749999999999886, 0.708400000000001, 0.6687000000000012, 0.3978999999999999, 1.0739999999999998, 1.8192000000000004, 3.100010000000001, 4.40996, 3.560460000000001]\n"
     ]
    }
   ],
   "source": [
    "difference4_gad = []\n",
    "\n",
    "zip_object = zip(temp, temp_crn)\n",
    "for temp_i, temp_crn_i in zip_object:\n",
    "    difference4_gad.append(temp_i-temp_crn_i)\n",
    "\n",
    "print(difference4_gad)"
   ]
  },
  {
   "cell_type": "markdown",
   "id": "de9fab15",
   "metadata": {},
   "source": [
    "<font size=\"3\">Newton, GA: 0600 UTC (12:00 am CST) 01 March 2022-0600 UTC (12:00 am CST) 02 March 2022</font>"
   ]
  },
  {
   "cell_type": "code",
   "execution_count": 143,
   "id": "ee45f74b",
   "metadata": {},
   "outputs": [
    {
     "name": "stdout",
     "output_type": "stream",
     "text": [
      "[11.6768, 11.0735, 10.296, 9.47937, 8.84479, 8.86517, 8.31912, 12.5719, 15.9166, 18.7899, 20.7289, 22.0086, 23.2353, 24.1956, 24.8484, 25.2781, 25.02, 23.8584, 21.0187, 19.0479, 17.0615, 15.9192, 15.1375, 14.3975, 13.2855]\n"
     ]
    }
   ],
   "source": [
    "#1 hr hrrr:\n",
    "with open('hrrr_f12_Newton_GA.txt') as f:\n",
    "    lst=[line.split()[1] for line in f]\n",
    "    temp=[]\n",
    "    for i in lst:\n",
    "        new=i.replace(',',\"\")\n",
    "        temp.append(new)\n",
    "    temp.pop(0)\n",
    "    temp=[float(x) for x in temp]\n",
    "    temp=temp[2202:2227]\n",
    "    #temp=temp[2015:2063]\n",
    "    print(temp)\n",
    "    ##prfloat(len(temp))\n",
    "#full time period is [2015:2112]"
   ]
  },
  {
   "cell_type": "code",
   "execution_count": 144,
   "id": "79e42b34",
   "metadata": {},
   "outputs": [
    {
     "name": "stdout",
     "output_type": "stream",
     "text": [
      "[9.649999999999999, 8.649999999999999, 8.75, 8.2, 8.45, 7.95, 8.350000000000001, 13.55, 16.299999999999997, 19.15, 20.35, 22.75, 23.4, 23.75, 24.6, 24.950000000000003, 24.85, 23.55, 20.4, 17.0, 14.8, 12.3, 11.55, 11.0, 10.0]\n"
     ]
    }
   ],
   "source": [
    "#Air Temp CRN:\n",
    "with open('CRNS0101-05-2022-GA_Newton_11_SW.txt') as f:\n",
    "    lst=[line.split()[8] for line in f]\n",
    "    \n",
    "    a=(float(lst[26567])+float(lst[26568]))/2\n",
    "    b=(float(lst[26579])+float(lst[26580]))/2\n",
    "    c=(float(lst[26591])+float(lst[26592]))/2\n",
    "    d=(float(lst[26603])+float(lst[26604]))/2\n",
    "    e=(float(lst[26615])+float(lst[26616]))/2\n",
    "    f=(float(lst[26627])+float(lst[26628]))/2\n",
    "    g=(float(lst[26639])+float(lst[26640]))/2\n",
    "    h=(float(lst[26651])+float(lst[26652]))/2\n",
    "    i=(float(lst[26663])+float(lst[26664]))/2\n",
    "    j=(float(lst[26675])+float(lst[26676]))/2\n",
    "    k=(float(lst[26687])+float(lst[26688]))/2\n",
    "    l=(float(lst[26699])+float(lst[26700]))/2\n",
    "    m=(float(lst[26711])+float(lst[26712]))/2\n",
    "    n=(float(lst[26723])+float(lst[26724]))/2\n",
    "    o=(float(lst[26735])+float(lst[26736]))/2\n",
    "    p=(float(lst[26747])+float(lst[26748]))/2\n",
    "    q=(float(lst[26759])+float(lst[26760]))/2\n",
    "    r=(float(lst[26773])+float(lst[26774]))/2\n",
    "    s=(float(lst[26783])+float(lst[26784]))/2\n",
    "    t=(float(lst[26795])+float(lst[26796]))/2\n",
    "    u=(float(lst[26807])+float(lst[26808]))/2\n",
    "    v=(float(lst[26819])+float(lst[26820]))/2\n",
    "    w=(float(lst[26831])+float(lst[26832]))/2\n",
    "    x=(float(lst[26843])+float(lst[26844]))/2\n",
    "    y=(float(lst[26855])+float(lst[26856]))/2\n",
    "    \n",
    "    temp_crn=[a,b,c,d,e,f,g,h,i,j,k,l,m,n,o,p,q,r,s,t,u,v,w,x,y]\n",
    "    print(temp_crn)"
   ]
  },
  {
   "cell_type": "code",
   "execution_count": 145,
   "id": "23233b5a",
   "metadata": {},
   "outputs": [
    {
     "name": "stdout",
     "output_type": "stream",
     "text": [
      "[2.0268000000000015, 2.4235000000000007, 1.5459999999999994, 1.2793700000000001, 0.3947900000000004, 0.9151700000000007, -0.030880000000001573, -0.9781000000000013, -0.3833999999999964, -0.3600999999999992, 0.378899999999998, -0.7413999999999987, -0.16469999999999985, 0.4455999999999989, 0.24840000000000018, 0.3280999999999956, 0.16999999999999815, 0.3083999999999989, 0.6187000000000005, 2.0478999999999985, 2.261499999999998, 3.6191999999999993, 3.5874999999999986, 3.397500000000001, 3.2855000000000008]\n"
     ]
    }
   ],
   "source": [
    "difference4_newt = []\n",
    "\n",
    "zip_object = zip(temp, temp_crn)\n",
    "for temp_i, temp_crn_i in zip_object:\n",
    "    difference4_newt.append(temp_i-temp_crn_i)\n",
    "\n",
    "print(difference4_newt)"
   ]
  },
  {
   "cell_type": "markdown",
   "id": "ab4663ab",
   "metadata": {},
   "source": [
    "<font size=\"3\">Salem, MO: 0500 UTC (12:00 am CDT) 19 April 2022-0500 UTC (12:00 am CDT) 20 April 2022</font>"
   ]
  },
  {
   "cell_type": "code",
   "execution_count": 146,
   "id": "3fe4d4d8",
   "metadata": {},
   "outputs": [
    {
     "name": "stdout",
     "output_type": "stream",
     "text": [
      "[1.24149, 0.602386, 0.481415, 0.171356, 0.0257568, -0.107391, -0.0597839, 1.87061, 3.84421, 5.57578, 7.43759, 8.88818, 10.269, 11.7148, 12.8199, 13.7466, 13.9002, 12.9553, 11.6181, 10.3448, 9.40689, 8.47812, 8.06277, 7.27982, 7.06177]\n"
     ]
    }
   ],
   "source": [
    "#1 hr hrrr:\n",
    "with open('hrrr_f12_Salem_MO.txt') as f:\n",
    "    lst=[line.split()[1] for line in f]\n",
    "    temp=[]\n",
    "    for i in lst:\n",
    "        new=i.replace(',',\"\")\n",
    "        temp.append(new)\n",
    "    temp.pop(0)\n",
    "    temp=[float(x) for x in temp]\n",
    "    temp=temp[2586:2611]\n",
    "    #temp=temp[2015:2063]\n",
    "    print(temp)\n",
    "    #prfloat(len(temp))\n",
    "#full time period is [2015:2112]"
   ]
  },
  {
   "cell_type": "code",
   "execution_count": 147,
   "id": "739015b3",
   "metadata": {},
   "outputs": [
    {
     "name": "stdout",
     "output_type": "stream",
     "text": [
      "[-0.6499999999999999, 0.6, 1.9, -1.8, -3.4, -4.25, -3.7, 1.1, 4.75, 6.85, 8.850000000000001, 10.15, 12.399999999999999, 13.3, 15.05, 16.0, 16.75, 15.7, 14.350000000000001, 12.05, 12.1, 11.9, 10.8, 10.1, 9.1]\n"
     ]
    }
   ],
   "source": [
    "#Air Temp CRN:\n",
    "with open('CRNS0101-05-2022-MO_Salem_10_W.txt') as f:\n",
    "    lst=[line.split()[8] for line in f]\n",
    "    \n",
    "    a=(float(lst[31175])+float(lst[31176]))/2\n",
    "    b=(float(lst[31187])+float(lst[31188]))/2\n",
    "    c=(float(lst[31199])+float(lst[31200]))/2\n",
    "    d=(float(lst[31211])+float(lst[31212]))/2\n",
    "    e=(float(lst[31223])+float(lst[31224]))/2\n",
    "    f=(float(lst[31235])+float(lst[31236]))/2\n",
    "    g=(float(lst[31247])+float(lst[31248]))/2\n",
    "    h=(float(lst[31259])+float(lst[31260]))/2\n",
    "    i=(float(lst[31271])+float(lst[31272]))/2\n",
    "    j=(float(lst[31283])+float(lst[31284]))/2\n",
    "    k=(float(lst[31295])+float(lst[31296]))/2\n",
    "    l=(float(lst[31307])+float(lst[31308]))/2\n",
    "    m=(float(lst[31319])+float(lst[31320]))/2\n",
    "    n=(float(lst[31331])+float(lst[31332]))/2\n",
    "    o=(float(lst[31343])+float(lst[31344]))/2\n",
    "    p=(float(lst[31355])+float(lst[31356]))/2\n",
    "    q=(float(lst[31367])+float(lst[31368]))/2\n",
    "    r=(float(lst[31379])+float(lst[31380]))/2\n",
    "    s=(float(lst[31391])+float(lst[31392]))/2\n",
    "    t=(float(lst[31403])+float(lst[31404]))/2\n",
    "    u=(float(lst[31415])+float(lst[31416]))/2\n",
    "    v=(float(lst[31427])+float(lst[31428]))/2\n",
    "    w=(float(lst[31439])+float(lst[31440]))/2\n",
    "    x=(float(lst[31451])+float(lst[31452]))/2\n",
    "    y=(float(lst[31463])+float(lst[31464]))/2\n",
    "    \n",
    "    temp_crn=[a,b,c,d,e,f,g,h,i,j,k,l,m,n,o,p,q,r,s,t,u,v,w,x,y]\n",
    "    print(temp_crn)"
   ]
  },
  {
   "cell_type": "code",
   "execution_count": 148,
   "id": "631903a7",
   "metadata": {},
   "outputs": [
    {
     "name": "stdout",
     "output_type": "stream",
     "text": [
      "[1.89149, 0.0023859999999999992, -1.418585, 1.971356, 3.4257568, 4.142609, 3.6402161, 0.77061, -0.9057900000000001, -1.2742199999999997, -1.4124100000000013, -1.2618200000000002, -2.1309999999999985, -1.5852000000000004, -2.2301, -2.253399999999999, -2.8498, -2.7447, -2.7319000000000013, -1.7052000000000014, -2.693109999999999, -3.42188, -2.7372300000000003, -2.8201799999999997, -2.0382299999999995]\n"
     ]
    }
   ],
   "source": [
    "difference5_sal = []\n",
    "\n",
    "zip_object = zip(temp, temp_crn)\n",
    "for temp_i, temp_crn_i in zip_object:\n",
    "    difference5_sal.append(temp_i-temp_crn_i)\n",
    "\n",
    "print(difference5_sal)"
   ]
  },
  {
   "cell_type": "markdown",
   "id": "eb16f605",
   "metadata": {},
   "source": [
    "<font size=\"3\">Batesville, AR: 0600 UTC (12:00 am CST) 01 March 2022-0600 UTC (12:00 am CST) 02 March 2022</font>"
   ]
  },
  {
   "cell_type": "code",
   "execution_count": 149,
   "id": "5f6566a3",
   "metadata": {},
   "outputs": [
    {
     "name": "stdout",
     "output_type": "stream",
     "text": [
      "[5.67899, 5.03989, 4.35641, 4.10886, 3.77576, 3.14261, 2.50272, 5.49561, 8.15671, 9.76328, 11.8751, 13.2632, 14.894, 16.2773, 17.3824, 17.4966, 16.9627, 16.7678, 15.3681, 13.2823, 11.9694, 10.5406, 9.43777, 9.15482, 7.87427]\n"
     ]
    }
   ],
   "source": [
    "#1 hr hrrr:\n",
    "with open('hrrr_f12_Batesville_AR.txt') as f:\n",
    "    lst=[line.split()[1] for line in f]\n",
    "    temp=[]\n",
    "    for i in lst:\n",
    "        new=i.replace(',',\"\")\n",
    "        temp.append(new)\n",
    "    temp.pop(0)\n",
    "    temp=[float(x) for x in temp]\n",
    "    temp=temp[2586:2611]\n",
    "#     x = np.array(temp)\n",
    "#     temp = ma.masked_array(x, mask=[0, 0, 0, 0, 0,0,0,0,0,0,0,0,0,0,0,0,0,0,0,0,0,1,0,0,0])\n",
    "    #temp=temp[2015:2063]\n",
    "    print(temp)\n",
    "    #prfloat(len(temp))\n",
    "#full time period is [2015:2112]"
   ]
  },
  {
   "cell_type": "code",
   "execution_count": 150,
   "id": "9d4ec43c",
   "metadata": {},
   "outputs": [
    {
     "name": "stdout",
     "output_type": "stream",
     "text": [
      "[3.0, 1.65, 1.25, 0.8999999999999999, 0.2, -1.15, 0.5, 6.25, 8.0, 10.05, 11.35, 12.7, 13.7, 14.9, 15.649999999999999, 15.649999999999999, 15.55, 14.649999999999999, 13.0, 10.5, 7.8, 7.050000000000001, 8.05, 7.9, 6.65]\n"
     ]
    }
   ],
   "source": [
    "#Air Temp CRN:\n",
    "with open('CRNS0101-05-2022-AR_Batesville_8_WNW.txt') as f:\n",
    "    lst=[line.split()[8] for line in f]\n",
    "    \n",
    "    a=(float(lst[31175])+float(lst[31176]))/2\n",
    "    b=(float(lst[31187])+float(lst[31188]))/2\n",
    "    c=(float(lst[31199])+float(lst[31200]))/2\n",
    "    d=(float(lst[31211])+float(lst[31212]))/2\n",
    "    e=(float(lst[31223])+float(lst[31224]))/2\n",
    "    f=(float(lst[31235])+float(lst[31236]))/2\n",
    "    g=(float(lst[31247])+float(lst[31248]))/2\n",
    "    h=(float(lst[31259])+float(lst[31260]))/2\n",
    "    i=(float(lst[31271])+float(lst[31272]))/2\n",
    "    j=(float(lst[31283])+float(lst[31284]))/2\n",
    "    k=(float(lst[31295])+float(lst[31296]))/2\n",
    "    l=(float(lst[31307])+float(lst[31308]))/2\n",
    "    m=(float(lst[31319])+float(lst[31320]))/2\n",
    "    n=(float(lst[31331])+float(lst[31332]))/2\n",
    "    o=(float(lst[31343])+float(lst[31344]))/2\n",
    "    p=(float(lst[31355])+float(lst[31356]))/2\n",
    "    q=(float(lst[31367])+float(lst[31368]))/2\n",
    "    r=(float(lst[31379])+float(lst[31380]))/2\n",
    "    s=(float(lst[31391])+float(lst[31392]))/2\n",
    "    t=(float(lst[31403])+float(lst[31404]))/2\n",
    "    u=(float(lst[31415])+float(lst[31416]))/2\n",
    "    v=(float(lst[31427])+float(lst[31428]))/2\n",
    "    w=(float(lst[31439])+float(lst[31440]))/2\n",
    "    x=(float(lst[31451])+float(lst[31452]))/2\n",
    "    y=(float(lst[31463])+float(lst[31464]))/2\n",
    "    \n",
    "    temp_crn=[a,b,c,d,e,f,g,h,i,j,k,l,m,n,o,p,q,r,s,t,u,v,w,x,y]\n",
    "    print(temp_crn)"
   ]
  },
  {
   "cell_type": "code",
   "execution_count": 151,
   "id": "32ec4102",
   "metadata": {},
   "outputs": [
    {
     "name": "stdout",
     "output_type": "stream",
     "text": [
      "[2.6789899999999998, 3.38989, 3.1064100000000003, 3.20886, 3.57576, 4.29261, 2.00272, -0.7543899999999999, 0.15671000000000035, -0.28672000000000075, 0.5251000000000001, 0.5632000000000001, 1.1940000000000008, 1.3773, 1.732400000000002, 1.8466000000000022, 1.412700000000001, 2.1178000000000026, 2.3681, 2.7822999999999993, 4.1694, 3.490599999999999, 1.3877699999999997, 1.2548200000000005, 1.2242699999999997]\n"
     ]
    }
   ],
   "source": [
    "difference5_bat = []\n",
    "\n",
    "zip_object = zip(temp, temp_crn)\n",
    "for temp_i, temp_crn_i in zip_object:\n",
    "    difference5_bat.append(temp_i-temp_crn_i)\n",
    "\n",
    "print(difference5_bat)"
   ]
  },
  {
   "cell_type": "markdown",
   "id": "ab0f4798",
   "metadata": {},
   "source": [
    "<font size=\"3\">Lafayette, LA: 0600 UTC (12:00 am CST) 01 March 2022-0600 UTC (12:00 am CST) 02 March 2022</font>"
   ]
  },
  {
   "cell_type": "code",
   "execution_count": 152,
   "id": "bf4ca647",
   "metadata": {},
   "outputs": [
    {
     "name": "stdout",
     "output_type": "stream",
     "text": [
      "[12.804, 12.3524, 12.0439, 12.0464, 12.3383, 11.9551, 12.1902, 14.1206, 16.4692, 18.3883, 20.4376, 22.0132, 23.3315, 24.5273, 24.9449, 24.7466, 24.5877, 24.0803, 23.0556, 20.6573, 19.0319, 17.9156, 17.1253, 15.9048, 14.8118]\n"
     ]
    }
   ],
   "source": [
    "#1 hr hrrr:\n",
    "with open('hrrr_f12_Lafayette_LA.txt') as f:\n",
    "    lst=[line.split()[1] for line in f]\n",
    "    temp=[]\n",
    "    for i in lst:\n",
    "        new=i.replace(',',\"\")\n",
    "        temp.append(new)\n",
    "    temp.pop(0)\n",
    "    temp=[float(x) for x in temp]\n",
    "    temp=temp[2586:2611]\n",
    "    #temp=temp[2015:2063]\n",
    "    print(temp)\n",
    "    ##prfloat(len(temp))\n",
    "#full time period is [2015:2112]"
   ]
  },
  {
   "cell_type": "code",
   "execution_count": 153,
   "id": "a94179a0",
   "metadata": {},
   "outputs": [
    {
     "name": "stdout",
     "output_type": "stream",
     "text": [
      "[13.149999999999999, 12.3, 11.5, 10.75, 10.9, 10.7, 10.850000000000001, 13.0, 15.399999999999999, 17.15, 18.65, 19.9, 20.6, 21.7, 22.35, 22.65, 21.950000000000003, 22.15, 19.95, 16.950000000000003, 16.65, 14.899999999999999, 14.75, 13.55, 13.95]\n"
     ]
    }
   ],
   "source": [
    "#Air Temp CRN:\n",
    "with open('CRNS0101-05-2022-LA_Lafayette_13_SE.txt') as f:\n",
    "    lst=[line.split()[8] for line in f]\n",
    "    \n",
    "    a=(float(lst[31175])+float(lst[31176]))/2\n",
    "    b=(float(lst[31187])+float(lst[31188]))/2\n",
    "    c=(float(lst[31199])+float(lst[31200]))/2\n",
    "    d=(float(lst[31211])+float(lst[31212]))/2\n",
    "    e=(float(lst[31223])+float(lst[31224]))/2\n",
    "    f=(float(lst[31235])+float(lst[31236]))/2\n",
    "    g=(float(lst[31247])+float(lst[31248]))/2\n",
    "    h=(float(lst[31259])+float(lst[31260]))/2\n",
    "    i=(float(lst[31271])+float(lst[31272]))/2\n",
    "    j=(float(lst[31283])+float(lst[31284]))/2\n",
    "    k=(float(lst[31295])+float(lst[31296]))/2\n",
    "    l=(float(lst[31307])+float(lst[31308]))/2\n",
    "    m=(float(lst[31319])+float(lst[31320]))/2\n",
    "    n=(float(lst[31331])+float(lst[31332]))/2\n",
    "    o=(float(lst[31343])+float(lst[31344]))/2\n",
    "    p=(float(lst[31355])+float(lst[31356]))/2\n",
    "    q=(float(lst[31367])+float(lst[31368]))/2\n",
    "    r=(float(lst[31379])+float(lst[31380]))/2\n",
    "    s=(float(lst[31391])+float(lst[31392]))/2\n",
    "    t=(float(lst[31403])+float(lst[31404]))/2\n",
    "    u=(float(lst[31415])+float(lst[31416]))/2\n",
    "    v=(float(lst[31427])+float(lst[31428]))/2\n",
    "    w=(float(lst[31439])+float(lst[31440]))/2\n",
    "    x=(float(lst[31451])+float(lst[31452]))/2\n",
    "    y=(float(lst[31463])+float(lst[31464]))/2\n",
    "    \n",
    "    temp_crn=[a,b,c,d,e,f,g,h,i,j,k,l,m,n,o,p,q,r,s,t,u,v,w,x,y]\n",
    "    print(temp_crn)"
   ]
  },
  {
   "cell_type": "code",
   "execution_count": 154,
   "id": "482bd1ef",
   "metadata": {},
   "outputs": [
    {
     "name": "stdout",
     "output_type": "stream",
     "text": [
      "[-0.3459999999999983, 0.05239999999999867, 0.5439000000000007, 1.2964000000000002, 1.4383, 1.2551000000000005, 1.3401999999999994, 1.1205999999999996, 1.0692000000000021, 1.2383000000000024, 1.7876000000000012, 2.1132000000000026, 2.731499999999997, 2.827300000000001, 2.594899999999999, 2.0966000000000022, 2.637699999999999, 1.9303000000000026, 3.105599999999999, 3.7072999999999965, 2.3819000000000017, 3.0156000000000027, 2.3752999999999993, 2.354799999999999, 0.8618000000000006]\n"
     ]
    }
   ],
   "source": [
    "difference5_laf = []\n",
    "\n",
    "zip_object = zip(temp, temp_crn)\n",
    "for temp_i, temp_crn_i in zip_object:\n",
    "    difference5_laf.append(temp_i-temp_crn_i)\n",
    "\n",
    "print(difference5_laf)"
   ]
  },
  {
   "cell_type": "markdown",
   "id": "de00e832",
   "metadata": {},
   "source": [
    "<font size=\"3\">Monroe, LA: 0600 UTC (12:00 am CST) 01 March 2022-0600 UTC (12:00 am CST) 02 March 2022</font>"
   ]
  },
  {
   "cell_type": "code",
   "execution_count": 155,
   "id": "4e202ed7",
   "metadata": {},
   "outputs": [
    {
     "name": "stdout",
     "output_type": "stream",
     "text": [
      "[9.86649, 9.60239, 9.66891, 9.10886, 8.52576, 7.76761, 7.56522, 9.80811, 11.7192, 13.5133, 15.1876, 16.3882, 17.9565, 19.1523, 20.0074, 20.3716, 20.2127, 19.8928, 18.3681, 15.8448, 14.2819, 13.4781, 12.2503, 12.3423, 12.5618]\n"
     ]
    }
   ],
   "source": [
    "#1 hr hrrr:\n",
    "with open('hrrr_f12_Monroe_LA.txt') as f:\n",
    "    lst=[line.split()[1] for line in f]\n",
    "    temp=[]\n",
    "    for i in lst:\n",
    "        new=i.replace(',',\"\")\n",
    "        temp.append(new)\n",
    "    temp.pop(0)\n",
    "    temp=[float(x) for x in temp]\n",
    "    temp=temp[2586:2611]\n",
    "    #temp=temp[2015:2063]\n",
    "    print(temp)\n",
    "    ##prfloat(len(temp))\n",
    "#full time period is [2015:2112]"
   ]
  },
  {
   "cell_type": "code",
   "execution_count": 156,
   "id": "4e6ab640",
   "metadata": {},
   "outputs": [
    {
     "name": "stdout",
     "output_type": "stream",
     "text": [
      "[9.350000000000001, 8.6, 8.1, 7.5, 7.7, 9.1, 10.100000000000001, 11.649999999999999, 12.7, 14.350000000000001, 15.2, 15.95, 17.299999999999997, 17.9, 18.35, 19.15, 19.299999999999997, 18.5, 17.049999999999997, 12.25, 10.850000000000001, 10.1, 10.1, 12.5, 10.7]\n"
     ]
    }
   ],
   "source": [
    "#Air Temp CRN:\n",
    "with open('CRNS0101-05-2022-LA_Monroe_26_N.txt') as f:\n",
    "    lst=[line.split()[8] for line in f]\n",
    "    \n",
    "    a=(float(lst[31175])+float(lst[31176]))/2\n",
    "    b=(float(lst[31187])+float(lst[31188]))/2\n",
    "    c=(float(lst[31199])+float(lst[31200]))/2\n",
    "    d=(float(lst[31211])+float(lst[31212]))/2\n",
    "    e=(float(lst[31223])+float(lst[31224]))/2\n",
    "    f=(float(lst[31235])+float(lst[31236]))/2\n",
    "    g=(float(lst[31247])+float(lst[31248]))/2\n",
    "    h=(float(lst[31259])+float(lst[31260]))/2\n",
    "    i=(float(lst[31271])+float(lst[31272]))/2\n",
    "    j=(float(lst[31283])+float(lst[31284]))/2\n",
    "    k=(float(lst[31295])+float(lst[31296]))/2\n",
    "    l=(float(lst[31307])+float(lst[31308]))/2\n",
    "    m=(float(lst[31319])+float(lst[31320]))/2\n",
    "    n=(float(lst[31331])+float(lst[31332]))/2\n",
    "    o=(float(lst[31343])+float(lst[31344]))/2\n",
    "    p=(float(lst[31355])+float(lst[31356]))/2\n",
    "    q=(float(lst[31367])+float(lst[31368]))/2\n",
    "    r=(float(lst[31379])+float(lst[31380]))/2\n",
    "    s=(float(lst[31391])+float(lst[31392]))/2\n",
    "    t=(float(lst[31403])+float(lst[31404]))/2\n",
    "    u=(float(lst[31415])+float(lst[31416]))/2\n",
    "    v=(float(lst[31427])+float(lst[31428]))/2\n",
    "    w=(float(lst[31439])+float(lst[31440]))/2\n",
    "    x=(float(lst[31451])+float(lst[31452]))/2\n",
    "    y=(float(lst[31463])+float(lst[31464]))/2\n",
    "    \n",
    "    temp_crn=[a,b,c,d,e,f,g,h,i,j,k,l,m,n,o,p,q,r,s,t,u,v,w,x,y]\n",
    "    print(temp_crn)"
   ]
  },
  {
   "cell_type": "code",
   "execution_count": 157,
   "id": "461ef9d6",
   "metadata": {},
   "outputs": [
    {
     "name": "stdout",
     "output_type": "stream",
     "text": [
      "[0.5164899999999992, 1.0023900000000001, 1.5689100000000007, 1.60886, 0.8257599999999998, -1.3323899999999993, -2.5347800000000014, -1.8418899999999994, -0.9807999999999986, -0.8367000000000022, -0.012399999999999523, 0.4382000000000019, 0.6565000000000012, 1.2523000000000017, 1.657399999999999, 1.2216000000000022, 0.9127000000000045, 1.3928000000000011, 1.3181000000000012, 3.5947999999999993, 3.431899999999999, 3.3781, 2.1502999999999997, -0.15770000000000017, 1.8618000000000006]\n"
     ]
    }
   ],
   "source": [
    "difference5_mon = []\n",
    "\n",
    "zip_object = zip(temp, temp_crn)\n",
    "for temp_i, temp_crn_i in zip_object:\n",
    "    difference5_mon.append(temp_i-temp_crn_i)\n",
    "\n",
    "print(difference5_mon)"
   ]
  },
  {
   "cell_type": "markdown",
   "id": "10c3e262",
   "metadata": {},
   "source": [
    "<font size=\"3\">Holly Springs, MS: 0600 UTC (12:00 am CST) 01 March 2022-0600 UTC (12:00 am CST) 02 March 2022</font>"
   ]
  },
  {
   "cell_type": "code",
   "execution_count": 158,
   "id": "02dfc76f",
   "metadata": {},
   "outputs": [
    {
     "name": "stdout",
     "output_type": "stream",
     "text": [
      "[5.99149, 5.35239, 4.91891, 4.54636, 4.02576, 3.26761, 3.44022, 5.87061, 7.34421, 8.88828, 10.5001, 11.4507, 12.7065, 13.9023, 15.0699, 15.6216, 15.7752, 15.3928, 14.1806, 11.3448, 10.2819, 9.54062, 9.06277, 8.59232, 8.12427]\n"
     ]
    }
   ],
   "source": [
    "#1 hr hrrr:\n",
    "with open('hrrr_f12_Holly Springs_MS.txt') as f:\n",
    "    lst=[line.split()[1] for line in f]\n",
    "    temp=[]\n",
    "    for i in lst:\n",
    "        new=i.replace(',',\"\")\n",
    "        temp.append(new)\n",
    "    temp.pop(0)\n",
    "    temp=[float(x) for x in temp]\n",
    "    temp=temp[2586:2611]\n",
    "    #temp=temp[2015:2063]\n",
    "    print(temp)\n",
    "    ##prfloat(len(temp))\n",
    "#full time period is [2015:2112]"
   ]
  },
  {
   "cell_type": "code",
   "execution_count": 159,
   "id": "f0bb8bfb",
   "metadata": {},
   "outputs": [
    {
     "name": "stdout",
     "output_type": "stream",
     "text": [
      "[3.4, 3.5, 2.8, 1.85, 1.0, -0.15000000000000002, 0.25, 6.699999999999999, 8.850000000000001, 10.350000000000001, 11.75, 12.85, 14.05, 15.35, 16.450000000000003, 16.6, 17.0, 17.05, 13.7, 9.350000000000001, 6.9, 5.85, 4.85, 4.35, 4.8]\n"
     ]
    }
   ],
   "source": [
    "#Air Temp CRN:\n",
    "with open('CRNS0101-05-2022-MS_Holly_Springs_4_N.txt') as f:\n",
    "    lst=[line.split()[8] for line in f]\n",
    "    \n",
    "    a=(float(lst[31175])+float(lst[31176]))/2\n",
    "    b=(float(lst[31187])+float(lst[31188]))/2\n",
    "    c=(float(lst[31199])+float(lst[31200]))/2\n",
    "    d=(float(lst[31211])+float(lst[31212]))/2\n",
    "    e=(float(lst[31223])+float(lst[31224]))/2\n",
    "    f=(float(lst[31235])+float(lst[31236]))/2\n",
    "    g=(float(lst[31247])+float(lst[31248]))/2\n",
    "    h=(float(lst[31259])+float(lst[31260]))/2\n",
    "    i=(float(lst[31271])+float(lst[31272]))/2\n",
    "    j=(float(lst[31283])+float(lst[31284]))/2\n",
    "    k=(float(lst[31295])+float(lst[31296]))/2\n",
    "    l=(float(lst[31307])+float(lst[31308]))/2\n",
    "    m=(float(lst[31319])+float(lst[31320]))/2\n",
    "    n=(float(lst[31331])+float(lst[31332]))/2\n",
    "    o=(float(lst[31343])+float(lst[31344]))/2\n",
    "    p=(float(lst[31355])+float(lst[31356]))/2\n",
    "    q=(float(lst[31367])+float(lst[31368]))/2\n",
    "    r=(float(lst[31379])+float(lst[31380]))/2\n",
    "    s=(float(lst[31391])+float(lst[31392]))/2\n",
    "    t=(float(lst[31403])+float(lst[31404]))/2\n",
    "    u=(float(lst[31415])+float(lst[31416]))/2\n",
    "    v=(float(lst[31427])+float(lst[31428]))/2\n",
    "    w=(float(lst[31439])+float(lst[31440]))/2\n",
    "    x=(float(lst[31451])+float(lst[31452]))/2\n",
    "    y=(float(lst[31463])+float(lst[31464]))/2\n",
    "    \n",
    "    temp_crn=[a,b,c,d,e,f,g,h,i,j,k,l,m,n,o,p,q,r,s,t,u,v,w,x,y]\n",
    "    print(temp_crn)"
   ]
  },
  {
   "cell_type": "code",
   "execution_count": 160,
   "id": "33e182d5",
   "metadata": {},
   "outputs": [
    {
     "name": "stdout",
     "output_type": "stream",
     "text": [
      "[2.59149, 1.8523899999999998, 2.1189100000000005, 2.69636, 3.02576, 3.41761, 3.19022, -0.8293899999999992, -1.505790000000001, -1.4617200000000015, -1.2499000000000002, -1.3993000000000002, -1.3435000000000006, -1.4476999999999993, -1.3801000000000023, -0.9784000000000006, -1.2248, -1.6572000000000013, 0.4806000000000008, 1.994799999999998, 3.3819, 3.690620000000001, 4.212770000000001, 4.242320000000001, 3.3242699999999994]\n"
     ]
    }
   ],
   "source": [
    "difference5_hol = []\n",
    "\n",
    "zip_object = zip(temp, temp_crn)\n",
    "for temp_i, temp_crn_i in zip_object:\n",
    "    difference5_hol.append(temp_i-temp_crn_i)\n",
    "\n",
    "print(difference5_hol)"
   ]
  },
  {
   "cell_type": "markdown",
   "id": "c3611246",
   "metadata": {},
   "source": [
    "<font size=\"3\">Newton, MS: 0600 UTC (12:00 am CST) 01 March 2022-0600 UTC (12:00 am CST) 02 March 2022</font>"
   ]
  },
  {
   "cell_type": "code",
   "execution_count": 161,
   "id": "c9844209",
   "metadata": {},
   "outputs": [
    {
     "name": "stdout",
     "output_type": "stream",
     "text": [
      "[9.61649, 9.35239, 9.29391, 8.85886, 8.90076, 8.08011, 7.62772, 9.49561, 10.9067, 12.2008, 13.8126, 15.0132, 16.2065, 17.4648, 18.5074, 18.7466, 18.8377, 18.3928, 16.6806, 14.5323, 13.1569, 12.2281, 11.3128, 10.8423, 10.3118]\n"
     ]
    }
   ],
   "source": [
    "#1 hr hrrr:\n",
    "with open('hrrr_f12_Newton_MS.txt') as f:\n",
    "    lst=[line.split()[1] for line in f]\n",
    "    temp=[]\n",
    "    for i in lst:\n",
    "        new=i.replace(',',\"\")\n",
    "        temp.append(new)\n",
    "    temp.pop(0)\n",
    "    temp=[float(x) for x in temp]\n",
    "    temp=temp[2586:2611]\n",
    "    #temp=temp[2015:2063]\n",
    "    print(temp)\n",
    "    ##prfloat(len(temp))\n",
    "#full time period is [2015:2112]"
   ]
  },
  {
   "cell_type": "code",
   "execution_count": 162,
   "id": "e52605db",
   "metadata": {},
   "outputs": [
    {
     "name": "stdout",
     "output_type": "stream",
     "text": [
      "[8.3, 7.35, 7.2, 6.45, 5.65, 5.05, 5.5, 9.2, 11.15, 12.4, 13.8, 14.8, 16.1, 17.35, 18.25, 18.55, 19.0, 18.6, 15.5, 11.85, 9.8, 8.55, 7.95, 7.45, 6.7]\n"
     ]
    }
   ],
   "source": [
    "#Air Temp CRN:\n",
    "with open('CRNS0101-05-2022-MS_Newton_5_ENE.txt') as f:\n",
    "    lst=[line.split()[8] for line in f]\n",
    "    \n",
    "    a=(float(lst[31175])+float(lst[31176]))/2\n",
    "    b=(float(lst[31187])+float(lst[31188]))/2\n",
    "    c=(float(lst[31199])+float(lst[31200]))/2\n",
    "    d=(float(lst[31211])+float(lst[31212]))/2\n",
    "    e=(float(lst[31223])+float(lst[31224]))/2\n",
    "    f=(float(lst[31235])+float(lst[31236]))/2\n",
    "    g=(float(lst[31247])+float(lst[31248]))/2\n",
    "    h=(float(lst[31259])+float(lst[31260]))/2\n",
    "    i=(float(lst[31271])+float(lst[31272]))/2\n",
    "    j=(float(lst[31283])+float(lst[31284]))/2\n",
    "    k=(float(lst[31295])+float(lst[31296]))/2\n",
    "    l=(float(lst[31307])+float(lst[31308]))/2\n",
    "    m=(float(lst[31319])+float(lst[31320]))/2\n",
    "    n=(float(lst[31331])+float(lst[31332]))/2\n",
    "    o=(float(lst[31343])+float(lst[31344]))/2\n",
    "    p=(float(lst[31355])+float(lst[31356]))/2\n",
    "    q=(float(lst[31367])+float(lst[31368]))/2\n",
    "    r=(float(lst[31379])+float(lst[31380]))/2\n",
    "    s=(float(lst[31391])+float(lst[31392]))/2\n",
    "    t=(float(lst[31403])+float(lst[31404]))/2\n",
    "    u=(float(lst[31415])+float(lst[31416]))/2\n",
    "    v=(float(lst[31427])+float(lst[31428]))/2\n",
    "    w=(float(lst[31439])+float(lst[31440]))/2\n",
    "    x=(float(lst[31451])+float(lst[31452]))/2\n",
    "    y=(float(lst[31463])+float(lst[31464]))/2\n",
    "    \n",
    "    temp_crn=[a,b,c,d,e,f,g,h,i,j,k,l,m,n,o,p,q,r,s,t,u,v,w,x,y]\n",
    "    print(temp_crn)"
   ]
  },
  {
   "cell_type": "code",
   "execution_count": 163,
   "id": "26f39b75",
   "metadata": {},
   "outputs": [
    {
     "name": "stdout",
     "output_type": "stream",
     "text": [
      "[1.31649, 2.00239, 2.09391, 2.40886, 3.2507599999999996, 3.0301099999999996, 2.12772, 0.29560999999999993, -0.24329999999999963, -0.19920000000000115, 0.012599999999999056, 0.21319999999999872, 0.10649999999999693, 0.1147999999999989, 0.2574000000000005, 0.1966000000000001, -0.16229999999999833, -0.20720000000000027, 1.1805999999999983, 2.6822999999999997, 3.3568999999999996, 3.678099999999999, 3.362799999999999, 3.3922999999999996, 3.6117999999999997]\n"
     ]
    }
   ],
   "source": [
    "difference5_new = []\n",
    "\n",
    "zip_object = zip(temp, temp_crn)\n",
    "for temp_i, temp_crn_i in zip_object:\n",
    "    difference5_new.append(temp_i-temp_crn_i)\n",
    "\n",
    "print(difference5_new)"
   ]
  },
  {
   "cell_type": "markdown",
   "id": "35f6ffe5",
   "metadata": {},
   "source": [
    "<font size=\"3\">Gainesville, AL: 0600 UTC (12:00 am CST) 01 March 2022-0600 UTC (12:00 am CST) 02 March 2022</font>"
   ]
  },
  {
   "cell_type": "code",
   "execution_count": 164,
   "id": "d2bd1457",
   "metadata": {},
   "outputs": [
    {
     "name": "stdout",
     "output_type": "stream",
     "text": [
      "[8.99149, 8.78989, 8.41891, 8.04636, 7.65076, 7.20511, 7.19022, 8.99561, 10.4692, 11.8258, 13.0626, 13.7632, 15.019, 15.9023, 16.5074, 16.6841, 16.6502, 16.3303, 15.1181, 13.9073, 13.0944, 11.6031, 10.8128, 9.90482, 9.43677]\n"
     ]
    }
   ],
   "source": [
    "#1 hr hrrr:\n",
    "with open('hrrr_f12_Gainesville_AL.txt') as f:\n",
    "    lst=[line.split()[1] for line in f]\n",
    "    temp=[]\n",
    "    for i in lst:\n",
    "        new=i.replace(',',\"\")\n",
    "        temp.append(new)\n",
    "    temp.pop(0)\n",
    "    temp=[float(x) for x in temp]\n",
    "    temp=temp[2586:2611]\n",
    "    #temp=temp[2015:2063]\n",
    "    print(temp)\n",
    "    ##prfloat(len(temp))\n",
    "#full time period is [2015:2112]"
   ]
  },
  {
   "cell_type": "code",
   "execution_count": 165,
   "id": "7d4ad874",
   "metadata": {},
   "outputs": [
    {
     "name": "stdout",
     "output_type": "stream",
     "text": [
      "[9.350000000000001, 7.65, 7.85, 6.05, 5.9, 5.8, 7.15, 8.9, 11.05, 12.649999999999999, 13.8, 15.149999999999999, 15.850000000000001, 17.1, 17.95, 18.15, 18.25, 18.0, 15.2, 11.8, 10.4, 9.4, 8.85, 8.4, 7.85]\n"
     ]
    }
   ],
   "source": [
    "#Air Temp CRN:\n",
    "with open('CRNS0101-05-2022-AL_Gainesville_2_NE.txt') as f:\n",
    "    lst=[line.split()[8] for line in f]\n",
    "    \n",
    "    a=(float(lst[31175])+float(lst[31176]))/2\n",
    "    b=(float(lst[31187])+float(lst[31188]))/2\n",
    "    c=(float(lst[31199])+float(lst[31200]))/2\n",
    "    d=(float(lst[31211])+float(lst[31212]))/2\n",
    "    e=(float(lst[31223])+float(lst[31224]))/2\n",
    "    f=(float(lst[31235])+float(lst[31236]))/2\n",
    "    g=(float(lst[31247])+float(lst[31248]))/2\n",
    "    h=(float(lst[31259])+float(lst[31260]))/2\n",
    "    i=(float(lst[31271])+float(lst[31272]))/2\n",
    "    j=(float(lst[31283])+float(lst[31284]))/2\n",
    "    k=(float(lst[31295])+float(lst[31296]))/2\n",
    "    l=(float(lst[31307])+float(lst[31308]))/2\n",
    "    m=(float(lst[31319])+float(lst[31320]))/2\n",
    "    n=(float(lst[31331])+float(lst[31332]))/2\n",
    "    o=(float(lst[31343])+float(lst[31344]))/2\n",
    "    p=(float(lst[31355])+float(lst[31356]))/2\n",
    "    q=(float(lst[31367])+float(lst[31368]))/2\n",
    "    r=(float(lst[31379])+float(lst[31380]))/2\n",
    "    s=(float(lst[31391])+float(lst[31392]))/2\n",
    "    t=(float(lst[31403])+float(lst[31404]))/2\n",
    "    u=(float(lst[31415])+float(lst[31416]))/2\n",
    "    v=(float(lst[31427])+float(lst[31428]))/2\n",
    "    w=(float(lst[31439])+float(lst[31440]))/2\n",
    "    x=(float(lst[31451])+float(lst[31452]))/2\n",
    "    y=(float(lst[31463])+float(lst[31464]))/2\n",
    "    \n",
    "    temp_crn=[a,b,c,d,e,f,g,h,i,j,k,l,m,n,o,p,q,r,s,t,u,v,w,x,y]\n",
    "    print(temp_crn)"
   ]
  },
  {
   "cell_type": "code",
   "execution_count": 166,
   "id": "8356bd44",
   "metadata": {},
   "outputs": [
    {
     "name": "stdout",
     "output_type": "stream",
     "text": [
      "[-0.3585100000000008, 1.1398899999999994, 0.5689100000000007, 1.9963600000000001, 1.7507599999999996, 1.4051100000000005, 0.0402199999999997, 0.09560999999999886, -0.5808, -0.8241999999999994, -0.7374000000000009, -1.3867999999999991, -0.8310000000000013, -1.197700000000001, -1.4425999999999988, -1.4658999999999978, -1.5997999999999983, -1.6696999999999989, -0.0818999999999992, 2.1072999999999986, 2.6944, 2.203099999999999, 1.9627999999999997, 1.5048200000000005, 1.5867699999999996]\n"
     ]
    }
   ],
   "source": [
    "difference5_gai = []\n",
    "\n",
    "zip_object = zip(temp, temp_crn)\n",
    "for temp_i, temp_crn_i in zip_object:\n",
    "    difference5_gai.append(temp_i-temp_crn_i)\n",
    "\n",
    "print(difference5_gai)"
   ]
  },
  {
   "cell_type": "markdown",
   "id": "fb46ce72",
   "metadata": {},
   "source": [
    "<font size=\"3\">Fairhope, AL: 0600 UTC (12:00 am CST) 01 March 2022-0600 UTC (12:00 am CST) 02 March 2022</font>"
   ]
  },
  {
   "cell_type": "code",
   "execution_count": 167,
   "id": "eb7efbb3",
   "metadata": {},
   "outputs": [
    {
     "name": "stdout",
     "output_type": "stream",
     "text": [
      "[11.679, 11.4149, 11.3564, 11.1089, 11.1508, 10.3301, 10.5027, 12.1831, 14.3442, 15.6383, 16.8751, 17.8882, 19.144, 20.0273, 20.8199, 21.1216, 20.9002, 20.0803, 18.6806, 16.7198, 15.4069, 14.4156, 13.5628, 12.9048, 12.4993]\n"
     ]
    }
   ],
   "source": [
    "#1 hr hrrr:\n",
    "with open('hrrr_f12_Fairhope_AL.txt') as f:\n",
    "    lst=[line.split()[1] for line in f]\n",
    "    temp=[]\n",
    "    for i in lst:\n",
    "        new=i.replace(',',\"\")\n",
    "        temp.append(new)\n",
    "    temp.pop(0)\n",
    "    temp=[float(x) for x in temp]\n",
    "    temp=temp[2586:2611]\n",
    "    #temp=temp[2015:2063]\n",
    "    print(temp)\n",
    "    ##prfloat(len(temp))\n",
    "#full time period is [2015:2112]"
   ]
  },
  {
   "cell_type": "code",
   "execution_count": 168,
   "id": "02193ad1",
   "metadata": {},
   "outputs": [
    {
     "name": "stdout",
     "output_type": "stream",
     "text": [
      "[12.25, 11.15, 12.149999999999999, 11.850000000000001, 10.6, 9.7, 9.8, 11.45, 13.399999999999999, 15.3, 16.6, 17.950000000000003, 19.25, 20.2, 20.85, 21.3, 21.1, 20.4, 17.6, 14.149999999999999, 12.55, 10.45, 9.55, 8.8, 8.55]\n"
     ]
    }
   ],
   "source": [
    "#Air Temp CRN:\n",
    "with open('CRNS0101-05-2022-AL_Fairhope_3_NE.txt') as f:\n",
    "    lst=[line.split()[8] for line in f]\n",
    "    \n",
    "    a=(float(lst[31175])+float(lst[31176]))/2\n",
    "    b=(float(lst[31187])+float(lst[31188]))/2\n",
    "    c=(float(lst[31199])+float(lst[31200]))/2\n",
    "    d=(float(lst[31211])+float(lst[31212]))/2\n",
    "    e=(float(lst[31223])+float(lst[31224]))/2\n",
    "    f=(float(lst[31235])+float(lst[31236]))/2\n",
    "    g=(float(lst[31247])+float(lst[31248]))/2\n",
    "    h=(float(lst[31259])+float(lst[31260]))/2\n",
    "    i=(float(lst[31271])+float(lst[31272]))/2\n",
    "    j=(float(lst[31283])+float(lst[31284]))/2\n",
    "    k=(float(lst[31295])+float(lst[31296]))/2\n",
    "    l=(float(lst[31307])+float(lst[31308]))/2\n",
    "    m=(float(lst[31319])+float(lst[31320]))/2\n",
    "    n=(float(lst[31331])+float(lst[31332]))/2\n",
    "    o=(float(lst[31343])+float(lst[31344]))/2\n",
    "    p=(float(lst[31355])+float(lst[31356]))/2\n",
    "    q=(float(lst[31367])+float(lst[31368]))/2\n",
    "    r=(float(lst[31379])+float(lst[31380]))/2\n",
    "    s=(float(lst[31391])+float(lst[31392]))/2\n",
    "    t=(float(lst[31403])+float(lst[31404]))/2\n",
    "    u=(float(lst[31415])+float(lst[31416]))/2\n",
    "    v=(float(lst[31427])+float(lst[31428]))/2\n",
    "    w=(float(lst[31439])+float(lst[31440]))/2\n",
    "    x=(float(lst[31451])+float(lst[31452]))/2\n",
    "    y=(float(lst[31463])+float(lst[31464]))/2\n",
    "    \n",
    "    temp_crn=[a,b,c,d,e,f,g,h,i,j,k,l,m,n,o,p,q,r,s,t,u,v,w,x,y]\n",
    "    print(temp_crn)"
   ]
  },
  {
   "cell_type": "code",
   "execution_count": 169,
   "id": "27eb4d35",
   "metadata": {},
   "outputs": [
    {
     "name": "stdout",
     "output_type": "stream",
     "text": [
      "[-0.5709999999999997, 0.264899999999999, -0.7935999999999979, -0.7411000000000012, 0.5508000000000006, 0.6301000000000005, 0.7027000000000001, 0.7331000000000003, 0.9442000000000021, 0.3382999999999985, 0.27509999999999835, -0.06180000000000163, -0.10600000000000165, -0.17269999999999897, -0.030100000000000904, -0.1783999999999999, -0.19979999999999976, -0.31969999999999743, 1.080599999999997, 2.5698000000000008, 2.8568999999999996, 3.9656000000000002, 4.012799999999999, 4.104799999999999, 3.949299999999999]\n"
     ]
    }
   ],
   "source": [
    "difference5_fai = []\n",
    "\n",
    "zip_object = zip(temp, temp_crn)\n",
    "for temp_i, temp_crn_i in zip_object:\n",
    "    difference5_fai.append(temp_i-temp_crn_i)\n",
    "\n",
    "print(difference5_fai)"
   ]
  },
  {
   "cell_type": "markdown",
   "id": "26ae7516",
   "metadata": {},
   "source": [
    "<font size=\"3\">**Selma, AL: 0600 UTC (12:00 am CST) 01 March 2022-0600 UTC (12:00 am CST) 02 March 2022</font>"
   ]
  },
  {
   "cell_type": "code",
   "execution_count": 170,
   "id": "bb3e0d4e",
   "metadata": {},
   "outputs": [
    {
     "name": "stdout",
     "output_type": "stream",
     "text": [
      "[9.36649, 8.72739, 8.35641, 7.92136, 7.58826, 6.95511, 7.50272, 9.74561, 10.9067, 12.0758, 13.2501, 13.9507, 15.0815, 15.9648, 16.6324, 16.7466, 16.4627, 16.0178, 14.7431, 13.2198, 12.4069, 11.4156, 10.8753, 10.2173, 9.43677]\n"
     ]
    }
   ],
   "source": [
    "#1 hr hrrr:\n",
    "import numpy as np\n",
    "import numpy.ma as ma\n",
    "with open('hrrr_f12_Selma_AL.txt') as f:\n",
    "    lst=[line.split()[1] for line in f]\n",
    "    temp=[]\n",
    "    for i in lst:\n",
    "        new=i.replace(',',\"\")\n",
    "        temp.append(new)\n",
    "    temp.pop(0)\n",
    "    temp=[float(x) for x in temp]\n",
    "    temp=temp[2586:2611]\n",
    "\n",
    "#     x = np.array(temp)\n",
    "#     temp = ma.masked_array(x, mask=[0, 0, 0, 0, 0,0,0,0,0,0,0,0,0,0,0,0,0,1,1,1,1,0,0,0,0])\n",
    "    print(temp)"
   ]
  },
  {
   "cell_type": "code",
   "execution_count": 171,
   "id": "61d838c0",
   "metadata": {},
   "outputs": [
    {
     "name": "stdout",
     "output_type": "stream",
     "text": [
      "[10.6, 9.05, 7.75, 6.449999999999999, 5.85, 4.95, 6.2, 9.35, 11.25, 12.7, 14.0, 15.149999999999999, 16.0, 17.35, 18.2, 18.8, 19.05, 18.55, 14.350000000000001, 11.3, 9.45, 8.45, 8.25, 7.45, 7.0]\n"
     ]
    }
   ],
   "source": [
    "#Air Temp CRN:\n",
    "with open('CRNS0101-05-2022-AL_Selma_13_WNW.txt') as f:\n",
    "    lst=[line.split()[8] for line in f]\n",
    "    \n",
    "    a=(float(lst[31175])+float(lst[31176]))/2\n",
    "    b=(float(lst[31187])+float(lst[31188]))/2\n",
    "    c=(float(lst[31199])+float(lst[31200]))/2\n",
    "    d=(float(lst[31211])+float(lst[31212]))/2\n",
    "    e=(float(lst[31223])+float(lst[31224]))/2\n",
    "    f=(float(lst[31235])+float(lst[31236]))/2\n",
    "    g=(float(lst[31247])+float(lst[31248]))/2\n",
    "    h=(float(lst[31259])+float(lst[31260]))/2\n",
    "    i=(float(lst[31271])+float(lst[31272]))/2\n",
    "    j=(float(lst[31283])+float(lst[31284]))/2\n",
    "    k=(float(lst[31295])+float(lst[31296]))/2\n",
    "    l=(float(lst[31307])+float(lst[31308]))/2\n",
    "    m=(float(lst[31319])+float(lst[31320]))/2\n",
    "    n=(float(lst[31331])+float(lst[31332]))/2\n",
    "    o=(float(lst[31343])+float(lst[31344]))/2\n",
    "    p=(float(lst[31355])+float(lst[31356]))/2\n",
    "    q=(float(lst[31367])+float(lst[31368]))/2\n",
    "    r=(float(lst[31379])+float(lst[31380]))/2\n",
    "    s=(float(lst[31391])+float(lst[31392]))/2\n",
    "    t=(float(lst[31403])+float(lst[31404]))/2\n",
    "    u=(float(lst[31415])+float(lst[31416]))/2\n",
    "    v=(float(lst[31427])+float(lst[31428]))/2\n",
    "    w=(float(lst[31439])+float(lst[31440]))/2\n",
    "    x=(float(lst[31451])+float(lst[31452]))/2\n",
    "    y=(float(lst[31463])+float(lst[31464]))/2\n",
    "    \n",
    "    temp_crn=[a,b,c,d,e,f,g,h,i,j,k,l,m,n,o,p,q,r,s,t,u,v,w,x,y]\n",
    "    print(temp_crn)"
   ]
  },
  {
   "cell_type": "code",
   "execution_count": 172,
   "id": "f7556132",
   "metadata": {},
   "outputs": [
    {
     "name": "stdout",
     "output_type": "stream",
     "text": [
      "[-1.233509999999999, -0.32261000000000095, 0.6064100000000003, 1.4713600000000007, 1.7382600000000004, 2.00511, 1.3027199999999999, 0.3956099999999996, -0.3432999999999993, -0.6242000000000001, -0.7499000000000002, -1.1992999999999991, -0.9184999999999999, -1.385200000000001, -1.5675999999999988, -2.0534, -2.587299999999999, -2.5321999999999996, 0.3930999999999987, 1.9197999999999986, 2.956900000000001, 2.9656000000000002, 2.6252999999999993, 2.7672999999999996, 2.436769999999999]\n"
     ]
    }
   ],
   "source": [
    "difference5_sel = []\n",
    "\n",
    "zip_object = zip(temp, temp_crn)\n",
    "for temp_i, temp_crn_i in zip_object:\n",
    "    difference5_sel.append(temp_i-temp_crn_i)\n",
    "\n",
    "print(difference5_sel)\n",
    "##prfloat(len(difference3_sel))"
   ]
  },
  {
   "cell_type": "markdown",
   "id": "d56aedb3",
   "metadata": {},
   "source": [
    "<font size=\"3\">Bowling Green, KY: 0600 UTC (12:00 am CST) 01 March 2022-0600 UTC (12:00 am CST) 02 March 2022</font>"
   ]
  },
  {
   "cell_type": "code",
   "execution_count": 173,
   "id": "24633681",
   "metadata": {},
   "outputs": [
    {
     "name": "stdout",
     "output_type": "stream",
     "text": [
      "[2.05399, 1.78989, 1.66891, 0.921356, 0.275757, -0.232391, 0.627716, 2.24561, 3.78171, 5.70078, 7.43759, 8.88818, 10.4565, 11.7148, 12.6949, 13.0591, 13.0877, 12.5178, 11.0556, 8.90732, 7.71939, 6.97812, 6.31277, 5.65482, 5.81177]\n"
     ]
    }
   ],
   "source": [
    "#1 hr hrrr:\n",
    "with open('hrrr_f12_Bowling Green_KY.txt') as f:\n",
    "    lst=[line.split()[1] for line in f]\n",
    "    temp=[]\n",
    "    for i in lst:\n",
    "        new=i.replace(',',\"\")\n",
    "        temp.append(new)\n",
    "    temp.pop(0)\n",
    "    temp=[float(x) for x in temp]\n",
    "    temp=temp[2586:2611]\n",
    "    #temp=temp[2015:2063]\n",
    "    print(temp)\n",
    "    ##prfloat(len(temp))\n",
    "#full time period is [2015:2112]"
   ]
  },
  {
   "cell_type": "code",
   "execution_count": 174,
   "id": "853a3ee4",
   "metadata": {},
   "outputs": [
    {
     "name": "stdout",
     "output_type": "stream",
     "text": [
      "[2.3499999999999996, 2.0, 1.7999999999999998, 0.8, -0.1, -0.55, 0.8500000000000001, 3.5, 5.3, 7.45, 8.45, 9.95, 11.45, 12.649999999999999, 12.8, 13.45, 13.15, 11.95, 10.149999999999999, 8.9, 7.3, 7.0, 6.699999999999999, 6.65, 7.65]\n"
     ]
    }
   ],
   "source": [
    "#Air Temp CRN:\n",
    "with open('CRNS0101-05-2022-KY_Bowling_Green_21_NNE.txt') as f:\n",
    "    lst=[line.split()[8] for line in f]\n",
    "    \n",
    "    a=(float(lst[31175])+float(lst[31176]))/2\n",
    "    b=(float(lst[31187])+float(lst[31188]))/2\n",
    "    c=(float(lst[31199])+float(lst[31200]))/2\n",
    "    d=(float(lst[31211])+float(lst[31212]))/2\n",
    "    e=(float(lst[31223])+float(lst[31224]))/2\n",
    "    f=(float(lst[31235])+float(lst[31236]))/2\n",
    "    g=(float(lst[31247])+float(lst[31248]))/2\n",
    "    h=(float(lst[31259])+float(lst[31260]))/2\n",
    "    i=(float(lst[31271])+float(lst[31272]))/2\n",
    "    j=(float(lst[31283])+float(lst[31284]))/2\n",
    "    k=(float(lst[31295])+float(lst[31296]))/2\n",
    "    l=(float(lst[31307])+float(lst[31308]))/2\n",
    "    m=(float(lst[31319])+float(lst[31320]))/2\n",
    "    n=(float(lst[31331])+float(lst[31332]))/2\n",
    "    o=(float(lst[31343])+float(lst[31344]))/2\n",
    "    p=(float(lst[31355])+float(lst[31356]))/2\n",
    "    q=(float(lst[31367])+float(lst[31368]))/2\n",
    "    r=(float(lst[31379])+float(lst[31380]))/2\n",
    "    s=(float(lst[31391])+float(lst[31392]))/2\n",
    "    t=(float(lst[31403])+float(lst[31404]))/2\n",
    "    u=(float(lst[31415])+float(lst[31416]))/2\n",
    "    v=(float(lst[31427])+float(lst[31428]))/2\n",
    "    w=(float(lst[31439])+float(lst[31440]))/2\n",
    "    x=(float(lst[31451])+float(lst[31452]))/2\n",
    "    y=(float(lst[31463])+float(lst[31464]))/2\n",
    "    \n",
    "    temp_crn=[a,b,c,d,e,f,g,h,i,j,k,l,m,n,o,p,q,r,s,t,u,v,w,x,y]\n",
    "    print(temp_crn)"
   ]
  },
  {
   "cell_type": "code",
   "execution_count": 175,
   "id": "0855a124",
   "metadata": {},
   "outputs": [
    {
     "name": "stdout",
     "output_type": "stream",
     "text": [
      "[-0.29600999999999944, -0.21011000000000002, -0.13108999999999993, 0.12135599999999991, 0.375757, 0.31760900000000003, -0.22228400000000004, -1.25439, -1.51829, -1.7492200000000002, -1.0124099999999991, -1.061819999999999, -0.9934999999999992, -0.9351999999999983, -0.1051000000000002, -0.39089999999999847, -0.062300000000000466, 0.5678000000000001, 0.9056000000000015, 0.007319999999999993, 0.41938999999999993, -0.021880000000000344, -0.38722999999999885, -0.9951800000000004, -1.8382300000000003]\n"
     ]
    }
   ],
   "source": [
    "difference5_bow = []\n",
    "\n",
    "zip_object = zip(temp, temp_crn)\n",
    "for temp_i, temp_crn_i in zip_object:\n",
    "    difference5_bow.append(temp_i-temp_crn_i)\n",
    "\n",
    "print(difference5_bow)"
   ]
  },
  {
   "cell_type": "markdown",
   "id": "230d1a46",
   "metadata": {},
   "source": [
    "<font size=\"3\">Gadsden, AL: 0600 UTC (12:00 am CST) 01 March 2022-0600 UTC (12:00 am CST) 02 March 2022</font>"
   ]
  },
  {
   "cell_type": "code",
   "execution_count": 176,
   "id": "c5f9ab54",
   "metadata": {},
   "outputs": [
    {
     "name": "stdout",
     "output_type": "stream",
     "text": [
      "[5.86649, 5.41489, 5.16891, 5.10886, 4.46326, 3.89261, 4.44022, 5.87061, 7.21921, 9.01328, 10.8751, 12.1382, 13.769, 14.9648, 15.7574, 16.0591, 15.9002, 15.4553, 13.7431, 11.9073, 10.8444, 9.91562, 9.31277, 9.09232, 8.24927]\n"
     ]
    }
   ],
   "source": [
    "#1 hr hrrr:\n",
    "with open('hrrr_f12_Gadsden_AL.txt') as f:\n",
    "    lst=[line.split()[1] for line in f]\n",
    "    temp=[]\n",
    "    for i in lst:\n",
    "        new=i.replace(',',\"\")\n",
    "        temp.append(new)\n",
    "    temp.pop(0)\n",
    "    temp=[float(x) for x in temp]\n",
    "    temp=temp[2586:2611]\n",
    "#     x = np.array(temp)\n",
    "#     temp = ma.masked_array(x, mask=[0, 0, 0, 0, 0,0,0,0,1,0,0,0,0,0,0,0,0,0,0,0,0,0,0,0,0])\n",
    "    #temp=temp[2015:2063]\n",
    "    print(temp)\n",
    "    ##prfloat(len(temp))\n",
    "#full time period is [2015:2112]"
   ]
  },
  {
   "cell_type": "code",
   "execution_count": 177,
   "id": "68a16b18",
   "metadata": {},
   "outputs": [
    {
     "name": "stdout",
     "output_type": "stream",
     "text": [
      "[5.800000000000001, 4.8, 4.85, 5.1, 5.3, 3.9499999999999997, 5.1, 6.6, 7.2, 8.5, 9.8, 10.9, 11.9, 13.15, 14.15, 14.3, 14.35, 14.350000000000001, 12.4, 8.75, 6.75, 6.55, 5.0, 4.75, 4.65]\n"
     ]
    }
   ],
   "source": [
    "#Air Temp CRN:\n",
    "with open('CRNS0101-05-2022-AL_Gadsden_19_N.txt') as f:\n",
    "    lst=[line.split()[8] for line in f]\n",
    "    \n",
    "    a=(float(lst[31175])+float(lst[31176]))/2\n",
    "    b=(float(lst[31187])+float(lst[31188]))/2\n",
    "    c=(float(lst[31199])+float(lst[31200]))/2\n",
    "    d=(float(lst[31211])+float(lst[31212]))/2\n",
    "    e=(float(lst[31223])+float(lst[31224]))/2\n",
    "    f=(float(lst[31235])+float(lst[31236]))/2\n",
    "    g=(float(lst[31247])+float(lst[31248]))/2\n",
    "    h=(float(lst[31259])+float(lst[31260]))/2\n",
    "    i=(float(lst[31271])+float(lst[31272]))/2\n",
    "    j=(float(lst[31283])+float(lst[31284]))/2\n",
    "    k=(float(lst[31295])+float(lst[31296]))/2\n",
    "    l=(float(lst[31307])+float(lst[31308]))/2\n",
    "    m=(float(lst[31319])+float(lst[31320]))/2\n",
    "    n=(float(lst[31331])+float(lst[31332]))/2\n",
    "    o=(float(lst[31343])+float(lst[31344]))/2\n",
    "    p=(float(lst[31355])+float(lst[31356]))/2\n",
    "    q=(float(lst[31367])+float(lst[31368]))/2\n",
    "    r=(float(lst[31379])+float(lst[31380]))/2\n",
    "    s=(float(lst[31391])+float(lst[31392]))/2\n",
    "    t=(float(lst[31403])+float(lst[31404]))/2\n",
    "    u=(float(lst[31415])+float(lst[31416]))/2\n",
    "    v=(float(lst[31427])+float(lst[31428]))/2\n",
    "    w=(float(lst[31439])+float(lst[31440]))/2\n",
    "    x=(float(lst[31451])+float(lst[31452]))/2\n",
    "    y=(float(lst[31463])+float(lst[31464]))/2\n",
    "    \n",
    "    temp_crn=[a,b,c,d,e,f,g,h,i,j,k,l,m,n,o,p,q,r,s,t,u,v,w,x,y]\n",
    "    print(temp_crn)"
   ]
  },
  {
   "cell_type": "code",
   "execution_count": 178,
   "id": "20f98582",
   "metadata": {},
   "outputs": [
    {
     "name": "stdout",
     "output_type": "stream",
     "text": [
      "[0.06648999999999905, 0.6148899999999999, 0.3189100000000007, 0.008860000000000312, -0.8367399999999998, -0.05738999999999983, -0.6597799999999996, -0.7293899999999995, 0.01921000000000017, 0.51328, 1.075099999999999, 1.238199999999999, 1.8689999999999998, 1.8148, 1.6074000000000002, 1.7591, 1.5502000000000002, 1.105299999999998, 1.3430999999999997, 3.1572999999999993, 4.0944, 3.3656200000000007, 4.31277, 4.342320000000001, 3.599269999999999]\n"
     ]
    }
   ],
   "source": [
    "difference5_gad = []\n",
    "\n",
    "zip_object = zip(temp, temp_crn)\n",
    "for temp_i, temp_crn_i in zip_object:\n",
    "    difference5_gad.append(temp_i-temp_crn_i)\n",
    "\n",
    "print(difference5_gad)"
   ]
  },
  {
   "cell_type": "markdown",
   "id": "200f3740",
   "metadata": {},
   "source": [
    "<font size=\"3\">Newton, GA: 0600 UTC (12:00 am CST) 01 March 2022-0600 UTC (12:00 am CST) 02 March 2022</font>"
   ]
  },
  {
   "cell_type": "code",
   "execution_count": 179,
   "id": "c0676e97",
   "metadata": {},
   "outputs": [
    {
     "name": "stdout",
     "output_type": "stream",
     "text": [
      "[12.4915, 11.6024, 11.1064, 10.8589, 10.0258, 9.83011, 10.3777, 11.9331, 13.4067, 14.9508, 16.7501, 17.8257, 19.269, 20.2773, 21.2574, 21.5591, 21.4627, 20.7053, 18.3681, 16.1573, 14.5944, 13.3531, 12.3753, 11.5298, 10.7493]\n"
     ]
    }
   ],
   "source": [
    "#1 hr hrrr:\n",
    "with open('hrrr_f12_Newton_GA.txt') as f:\n",
    "    lst=[line.split()[1] for line in f]\n",
    "    temp=[]\n",
    "    for i in lst:\n",
    "        new=i.replace(',',\"\")\n",
    "        temp.append(new)\n",
    "    temp.pop(0)\n",
    "    temp=[float(x) for x in temp]\n",
    "    temp=temp[2586:2611]\n",
    "    #temp=temp[2015:2063]\n",
    "    print(temp)\n",
    "    ##prfloat(len(temp))\n",
    "#full time period is [2015:2112]"
   ]
  },
  {
   "cell_type": "code",
   "execution_count": 180,
   "id": "f1c9c102",
   "metadata": {},
   "outputs": [
    {
     "name": "stdout",
     "output_type": "stream",
     "text": [
      "[13.850000000000001, 12.100000000000001, 9.8, 10.6, 10.649999999999999, 10.1, 10.05, 11.55, 12.95, 14.149999999999999, 15.2, 16.5, 17.6, 18.85, 19.55, 19.450000000000003, 19.7, 19.35, 16.05, 12.850000000000001, 11.25, 9.85, 8.9, 8.149999999999999, 7.550000000000001]\n"
     ]
    }
   ],
   "source": [
    "#Air Temp CRN:\n",
    "with open('CRNS0101-05-2022-GA_Newton_11_SW.txt') as f:\n",
    "    lst=[line.split()[8] for line in f]\n",
    "    \n",
    "    a=(float(lst[31175])+float(lst[31176]))/2\n",
    "    b=(float(lst[31187])+float(lst[31188]))/2\n",
    "    c=(float(lst[31199])+float(lst[31200]))/2\n",
    "    d=(float(lst[31211])+float(lst[31212]))/2\n",
    "    e=(float(lst[31223])+float(lst[31224]))/2\n",
    "    f=(float(lst[31235])+float(lst[31236]))/2\n",
    "    g=(float(lst[31247])+float(lst[31248]))/2\n",
    "    h=(float(lst[31259])+float(lst[31260]))/2\n",
    "    i=(float(lst[31271])+float(lst[31272]))/2\n",
    "    j=(float(lst[31283])+float(lst[31284]))/2\n",
    "    k=(float(lst[31295])+float(lst[31296]))/2\n",
    "    l=(float(lst[31307])+float(lst[31308]))/2\n",
    "    m=(float(lst[31319])+float(lst[31320]))/2\n",
    "    n=(float(lst[31331])+float(lst[31332]))/2\n",
    "    o=(float(lst[31343])+float(lst[31344]))/2\n",
    "    p=(float(lst[31355])+float(lst[31356]))/2\n",
    "    q=(float(lst[31367])+float(lst[31368]))/2\n",
    "    r=(float(lst[31379])+float(lst[31380]))/2\n",
    "    s=(float(lst[31391])+float(lst[31392]))/2\n",
    "    t=(float(lst[31403])+float(lst[31404]))/2\n",
    "    u=(float(lst[31415])+float(lst[31416]))/2\n",
    "    v=(float(lst[31427])+float(lst[31428]))/2\n",
    "    w=(float(lst[31439])+float(lst[31440]))/2\n",
    "    x=(float(lst[31451])+float(lst[31452]))/2\n",
    "    y=(float(lst[31463])+float(lst[31464]))/2\n",
    "    \n",
    "    temp_crn=[a,b,c,d,e,f,g,h,i,j,k,l,m,n,o,p,q,r,s,t,u,v,w,x,y]\n",
    "    print(temp_crn)"
   ]
  },
  {
   "cell_type": "code",
   "execution_count": 181,
   "id": "4d737508",
   "metadata": {},
   "outputs": [
    {
     "name": "stdout",
     "output_type": "stream",
     "text": [
      "[-1.3585000000000012, -0.49760000000000204, 1.3064, 0.2589000000000006, -0.6241999999999983, -0.2698900000000002, 0.3277000000000001, 0.3830999999999989, 0.45670000000000144, 0.8008000000000006, 1.5501000000000005, 1.3257000000000012, 1.668999999999997, 1.427299999999999, 1.7073999999999998, 2.109099999999998, 1.7627000000000024, 1.3552999999999997, 2.3180999999999976, 3.307299999999998, 3.3444000000000003, 3.5031, 3.475299999999999, 3.3798000000000012, 3.199299999999999]\n"
     ]
    }
   ],
   "source": [
    "difference5_newt = []\n",
    "\n",
    "zip_object = zip(temp, temp_crn)\n",
    "for temp_i, temp_crn_i in zip_object:\n",
    "    difference5_newt.append(temp_i-temp_crn_i)\n",
    "\n",
    "print(difference5_newt)"
   ]
  },
  {
   "cell_type": "markdown",
   "id": "cd4a8f77",
   "metadata": {},
   "source": [
    "<font size=\"3\">Salem, MO: 0500 UTC (12:00 am CDT) 27 April 2022-0500 UTC (12:00 am CDT) 28 April 2022</font>"
   ]
  },
  {
   "cell_type": "code",
   "execution_count": 182,
   "id": "e74c5bbe",
   "metadata": {},
   "outputs": [
    {
     "name": "stdout",
     "output_type": "stream",
     "text": [
      "[6.47504, 5.96304, 5.53989, 5.31937, 5.06778, 5.84653, 6.74295, 9.67706, 12.4704, 14.6949, 16.1557, 18.0567, 19.5642, 20.692, 21.2332, 21.3312, 21.1172, 19.9096, 18.0277, 15.3484, 13.9263, 12.8175, 12.0015, 11.4908, 10.894]\n"
     ]
    }
   ],
   "source": [
    "#1 hr hrrr:\n",
    "with open('hrrr_f12_Salem_MO.txt') as f:\n",
    "    lst=[line.split()[1] for line in f]\n",
    "    temp=[]\n",
    "    for i in lst:\n",
    "        new=i.replace(',',\"\")\n",
    "        temp.append(new)\n",
    "    temp.pop(0)\n",
    "    temp=[float(x) for x in temp]\n",
    "    temp=temp[2778:2803]\n",
    "#     x = np.array(temp)\n",
    "#     temp = ma.masked_array(x, mask=[0, 0, 0, 0, 0,0,1,0,0,0,0,0,0,0,0,0,0,0,0,0,0,0,0,0,0])\n",
    "    #temp=temp[2015:2063]\n",
    "    print(temp)\n",
    "    #prfloat(len(temp))\n",
    "#full time period is [2015:2112]"
   ]
  },
  {
   "cell_type": "code",
   "execution_count": 183,
   "id": "c0c399a0",
   "metadata": {},
   "outputs": [
    {
     "name": "stdout",
     "output_type": "stream",
     "text": [
      "[2.3, 2.1500000000000004, 5.65, 1.55, 1.7999999999999998, 1.25, 2.7, 10.0, 13.600000000000001, 16.65, 19.0, 19.799999999999997, 20.7, 21.8, 22.15, 22.7, 22.55, 21.45, 19.6, 18.15, 17.2, 16.0, 15.0, 14.75, 14.5]\n"
     ]
    }
   ],
   "source": [
    "#Air Temp CRN:\n",
    "with open('CRNS0101-05-2022-MO_Salem_10_W.txt') as f:\n",
    "    lst=[line.split()[8] for line in f]\n",
    "    \n",
    "    a=(float(lst[33479])+float(lst[33480]))/2\n",
    "    b=(float(lst[33491])+float(lst[33492]))/2\n",
    "    c=(float(lst[33503])+float(lst[33504]))/2\n",
    "    d=(float(lst[33515])+float(lst[33516]))/2\n",
    "    e=(float(lst[33527])+float(lst[33528]))/2\n",
    "    f=(float(lst[33539])+float(lst[33540]))/2\n",
    "    g=(float(lst[33551])+float(lst[33552]))/2\n",
    "    h=(float(lst[33563])+float(lst[33564]))/2\n",
    "    i=(float(lst[33575])+float(lst[33576]))/2\n",
    "    j=(float(lst[33587])+float(lst[33588]))/2\n",
    "    k=(float(lst[33599])+float(lst[33600]))/2\n",
    "    l=(float(lst[33611])+float(lst[33612]))/2\n",
    "    m=(float(lst[33623])+float(lst[33624]))/2\n",
    "    n=(float(lst[33635])+float(lst[33636]))/2\n",
    "    o=(float(lst[33647])+float(lst[33648]))/2\n",
    "    p=(float(lst[33659])+float(lst[33660]))/2\n",
    "    q=(float(lst[33671])+float(lst[33672]))/2\n",
    "    r=(float(lst[33683])+float(lst[33684]))/2\n",
    "    s=(float(lst[33695])+float(lst[33696]))/2\n",
    "    t=(float(lst[33707])+float(lst[33708]))/2\n",
    "    u=(float(lst[33719])+float(lst[33720]))/2\n",
    "    v=(float(lst[33731])+float(lst[33732]))/2\n",
    "    w=(float(lst[33743])+float(lst[33744]))/2\n",
    "    x=(float(lst[33755])+float(lst[33756]))/2\n",
    "    y=(float(lst[33767])+float(lst[33768]))/2\n",
    "    \n",
    "    temp_crn=[a,b,c,d,e,f,g,h,i,j,k,l,m,n,o,p,q,r,s,t,u,v,w,x,y]\n",
    "    print(temp_crn)"
   ]
  },
  {
   "cell_type": "code",
   "execution_count": 184,
   "id": "38ad8303",
   "metadata": {},
   "outputs": [
    {
     "name": "stdout",
     "output_type": "stream",
     "text": [
      "[4.17504, 3.81304, -0.1101100000000006, 3.7693700000000003, 3.26778, 4.59653, 4.04295, -0.3229399999999991, -1.1296000000000017, -1.955099999999998, -2.8443000000000005, -1.7432999999999979, -1.1357999999999997, -1.1080000000000005, -0.9167999999999985, -1.3688000000000002, -1.4328000000000003, -1.5403999999999982, -1.572300000000002, -2.8015999999999988, -3.2737, -3.182499999999999, -2.9985, -3.2592, -3.606]\n"
     ]
    }
   ],
   "source": [
    "difference6_sal = []\n",
    "\n",
    "zip_object = zip(temp, temp_crn)\n",
    "for temp_i, temp_crn_i in zip_object:\n",
    "    difference6_sal.append(temp_i-temp_crn_i)\n",
    "\n",
    "print(difference6_sal)"
   ]
  },
  {
   "cell_type": "markdown",
   "id": "a9ca1aca",
   "metadata": {},
   "source": [
    "<font size=\"3\">Batesville, AR: 0600 UTC (12:00 am CST) 01 March 2022-0600 UTC (12:00 am CST) 02 March 2022</font>"
   ]
  },
  {
   "cell_type": "code",
   "execution_count": 185,
   "id": "90b292da",
   "metadata": {},
   "outputs": [
    {
     "name": "stdout",
     "output_type": "stream",
     "text": [
      "[9.22504, 8.71304, 8.41489, 8.19437, 7.88028, 7.72153, 8.24295, 10.8021, 13.8454, 15.2574, 16.3432, 17.8067, 18.9392, 19.8795, 20.6082, 21.1437, 21.2422, 20.7846, 18.9027, 15.8484, 14.4888, 13.9425, 13.564, 13.1783, 12.394]\n"
     ]
    }
   ],
   "source": [
    "#1 hr hrrr:\n",
    "with open('hrrr_f12_Batesville_AR.txt') as f:\n",
    "    lst=[line.split()[1] for line in f]\n",
    "    temp=[]\n",
    "    for i in lst:\n",
    "        new=i.replace(',',\"\")\n",
    "        temp.append(new)\n",
    "    temp.pop(0)\n",
    "    temp=[float(x) for x in temp]\n",
    "    temp=temp[2778:2803]\n",
    "#     x = np.array(temp)\n",
    "#     temp = ma.masked_array(x, mask=[0, 0, 0, 0, 0,0,1,0,0,0,0,0,0,0,0,0,0,0,0,0,0,0,0,0,0])\n",
    "#     #temp=temp[2015:2063]\n",
    "    print(temp)\n",
    "    #prfloat(len(temp))\n",
    "#full time period is [2015:2112]"
   ]
  },
  {
   "cell_type": "code",
   "execution_count": 186,
   "id": "f0f385de",
   "metadata": {},
   "outputs": [
    {
     "name": "stdout",
     "output_type": "stream",
     "text": [
      "[4.05, 3.55, 3.0, 2.75, 2.5, 1.9, 2.95, 5.75, 11.2, 14.75, 16.4, 18.0, 19.299999999999997, 20.3, 20.65, 20.65, 20.3, 19.65, 16.9, 12.9, 10.0, 9.149999999999999, 8.6, 7.6, 8.1]\n"
     ]
    }
   ],
   "source": [
    "#Air Temp CRN:\n",
    "with open('CRNS0101-05-2022-AR_Batesville_8_WNW.txt') as f:\n",
    "    lst=[line.split()[8] for line in f]\n",
    "    \n",
    "    a=(float(lst[33479])+float(lst[33480]))/2\n",
    "    b=(float(lst[33491])+float(lst[33492]))/2\n",
    "    c=(float(lst[33503])+float(lst[33504]))/2\n",
    "    d=(float(lst[33515])+float(lst[33516]))/2\n",
    "    e=(float(lst[33527])+float(lst[33528]))/2\n",
    "    f=(float(lst[33539])+float(lst[33540]))/2\n",
    "    g=(float(lst[33551])+float(lst[33552]))/2\n",
    "    h=(float(lst[33563])+float(lst[33564]))/2\n",
    "    i=(float(lst[33575])+float(lst[33576]))/2\n",
    "    j=(float(lst[33587])+float(lst[33588]))/2\n",
    "    k=(float(lst[33599])+float(lst[33600]))/2\n",
    "    l=(float(lst[33611])+float(lst[33612]))/2\n",
    "    m=(float(lst[33623])+float(lst[33624]))/2\n",
    "    n=(float(lst[33635])+float(lst[33636]))/2\n",
    "    o=(float(lst[33647])+float(lst[33648]))/2\n",
    "    p=(float(lst[33659])+float(lst[33660]))/2\n",
    "    q=(float(lst[33671])+float(lst[33672]))/2\n",
    "    r=(float(lst[33683])+float(lst[33684]))/2\n",
    "    s=(float(lst[33695])+float(lst[33696]))/2\n",
    "    t=(float(lst[33707])+float(lst[33708]))/2\n",
    "    u=(float(lst[33719])+float(lst[33720]))/2\n",
    "    v=(float(lst[33731])+float(lst[33732]))/2\n",
    "    w=(float(lst[33743])+float(lst[33744]))/2\n",
    "    x=(float(lst[33755])+float(lst[33756]))/2\n",
    "    y=(float(lst[33767])+float(lst[33768]))/2\n",
    "    \n",
    "    temp_crn=[a,b,c,d,e,f,g,h,i,j,k,l,m,n,o,p,q,r,s,t,u,v,w,x,y]\n",
    "    print(temp_crn)"
   ]
  },
  {
   "cell_type": "code",
   "execution_count": 187,
   "id": "ea97b53d",
   "metadata": {},
   "outputs": [
    {
     "name": "stdout",
     "output_type": "stream",
     "text": [
      "[5.17504, 5.16304, 5.41489, 5.444369999999999, 5.38028, 5.821529999999999, 5.29295, 5.052099999999999, 2.6454000000000004, 0.5074000000000005, -0.05679999999999907, -0.1933000000000007, -0.36079999999999757, -0.42050000000000054, -0.041799999999998505, 0.49370000000000047, 0.9421999999999997, 1.1346000000000025, 2.002700000000001, 2.9483999999999995, 4.4887999999999995, 4.792500000000002, 4.964, 5.5783000000000005, 4.2940000000000005]\n"
     ]
    }
   ],
   "source": [
    "difference6_bat = []\n",
    "\n",
    "zip_object = zip(temp, temp_crn)\n",
    "for temp_i, temp_crn_i in zip_object:\n",
    "    difference6_bat.append(temp_i-temp_crn_i)\n",
    "\n",
    "print(difference6_bat)"
   ]
  },
  {
   "cell_type": "markdown",
   "id": "5726dedb",
   "metadata": {},
   "source": [
    "<font size=\"3\">Lafayette, LA: 0600 UTC (12:00 am CST) 01 March 2022-0600 UTC (12:00 am CST) 02 March 2022</font>"
   ]
  },
  {
   "cell_type": "code",
   "execution_count": 188,
   "id": "4afdefd5",
   "metadata": {},
   "outputs": [
    {
     "name": "stdout",
     "output_type": "stream",
     "text": [
      "[17.35, 16.7755, 16.1024, 15.3194, 14.6928, 14.159, 13.993, 15.9271, 18.6579, 21.1324, 23.5932, 24.9942, 26.2517, 27.192, 27.9832, 28.3312, 28.0547, 27.4721, 26.2777, 23.2859, 21.3638, 19.255, 17.8765, 16.8658, 15.8315]\n"
     ]
    }
   ],
   "source": [
    "#1 hr hrrr:\n",
    "with open('hrrr_f12_Lafayette_LA.txt') as f:\n",
    "    lst=[line.split()[1] for line in f]\n",
    "    temp=[]\n",
    "    for i in lst:\n",
    "        new=i.replace(',',\"\")\n",
    "        temp.append(new)\n",
    "    temp.pop(0)\n",
    "    temp=[float(x) for x in temp]\n",
    "    temp=temp[2778:2803]\n",
    "#     x = np.array(temp)\n",
    "#     temp = ma.masked_array(x, mask=[0, 0, 0, 0, 0,0,1,0,0,0,0,0,0,0,0,0,0,0,0,0,0,0,0,0,0])\n",
    "    #temp=temp[2015:2063]\n",
    "    print(temp)\n",
    "    ##prfloat(len(temp))\n",
    "#full time period is [2015:2112]"
   ]
  },
  {
   "cell_type": "code",
   "execution_count": 189,
   "id": "8a2dd83c",
   "metadata": {},
   "outputs": [
    {
     "name": "stdout",
     "output_type": "stream",
     "text": [
      "[15.25, 13.9, 13.75, 13.7, 12.9, 11.55, 11.9, 14.15, 16.9, 19.15, 21.45, 22.75, 23.7, 24.3, 25.15, 25.5, 25.4, 24.700000000000003, 22.95, 18.450000000000003, 15.9, 14.5, 13.45, 12.850000000000001, 12.2]\n"
     ]
    }
   ],
   "source": [
    "#Air Temp CRN:\n",
    "with open('CRNS0101-05-2022-LA_Lafayette_13_SE.txt') as f:\n",
    "    lst=[line.split()[8] for line in f]\n",
    "    \n",
    "    a=(float(lst[33479])+float(lst[33480]))/2\n",
    "    b=(float(lst[33491])+float(lst[33492]))/2\n",
    "    c=(float(lst[33503])+float(lst[33504]))/2\n",
    "    d=(float(lst[33515])+float(lst[33516]))/2\n",
    "    e=(float(lst[33527])+float(lst[33528]))/2\n",
    "    f=(float(lst[33539])+float(lst[33540]))/2\n",
    "    g=(float(lst[33551])+float(lst[33552]))/2\n",
    "    h=(float(lst[33563])+float(lst[33564]))/2\n",
    "    i=(float(lst[33575])+float(lst[33576]))/2\n",
    "    j=(float(lst[33587])+float(lst[33588]))/2\n",
    "    k=(float(lst[33599])+float(lst[33600]))/2\n",
    "    l=(float(lst[33611])+float(lst[33612]))/2\n",
    "    m=(float(lst[33623])+float(lst[33624]))/2\n",
    "    n=(float(lst[33635])+float(lst[33636]))/2\n",
    "    o=(float(lst[33647])+float(lst[33648]))/2\n",
    "    p=(float(lst[33659])+float(lst[33660]))/2\n",
    "    q=(float(lst[33671])+float(lst[33672]))/2\n",
    "    r=(float(lst[33683])+float(lst[33684]))/2\n",
    "    s=(float(lst[33695])+float(lst[33696]))/2\n",
    "    t=(float(lst[33707])+float(lst[33708]))/2\n",
    "    u=(float(lst[33719])+float(lst[33720]))/2\n",
    "    v=(float(lst[33731])+float(lst[33732]))/2\n",
    "    w=(float(lst[33743])+float(lst[33744]))/2\n",
    "    x=(float(lst[33755])+float(lst[33756]))/2\n",
    "    y=(float(lst[33767])+float(lst[33768]))/2\n",
    "    \n",
    "    temp_crn=[a,b,c,d,e,f,g,h,i,j,k,l,m,n,o,p,q,r,s,t,u,v,w,x,y]\n",
    "    print(temp_crn)"
   ]
  },
  {
   "cell_type": "code",
   "execution_count": 190,
   "id": "7b222157",
   "metadata": {},
   "outputs": [
    {
     "name": "stdout",
     "output_type": "stream",
     "text": [
      "[2.1000000000000014, 2.8755000000000006, 2.3523999999999994, 1.6194000000000006, 1.7927999999999997, 2.609, 2.093, 1.777099999999999, 1.757900000000003, 1.982400000000002, 2.1432, 2.2441999999999993, 2.5517000000000003, 2.8919999999999995, 2.8332000000000015, 2.831199999999999, 2.654700000000002, 2.7720999999999982, 3.3277, 4.835899999999999, 5.463800000000001, 4.754999999999999, 4.426500000000001, 4.015799999999999, 3.631500000000001]\n"
     ]
    }
   ],
   "source": [
    "difference6_laf = []\n",
    "\n",
    "zip_object = zip(temp, temp_crn)\n",
    "for temp_i, temp_crn_i in zip_object:\n",
    "    difference6_laf.append(temp_i-temp_crn_i)\n",
    "\n",
    "print(difference6_laf)"
   ]
  },
  {
   "cell_type": "markdown",
   "id": "de2bb1cb",
   "metadata": {},
   "source": [
    "<font size=\"3\">Monroe, LA: 0600 UTC (12:00 am CST) 01 March 2022-0600 UTC (12:00 am CST) 02 March 2022</font>"
   ]
  },
  {
   "cell_type": "code",
   "execution_count": 191,
   "id": "ebecba2f",
   "metadata": {},
   "outputs": [
    {
     "name": "stdout",
     "output_type": "stream",
     "text": [
      "[11.1, 10.588, 9.66489, 9.13187, 8.69278, 8.28403, 8.05545, 10.9896, 13.4704, 15.3199, 17.1557, 18.8692, 20.6892, 22.317, 23.2332, 24.0187, 23.9922, 23.6596, 22.2777, 19.2859, 17.1138, 15.63, 14.439, 14.0533, 13.2065]\n"
     ]
    }
   ],
   "source": [
    "#1 hr hrrr:\n",
    "with open('hrrr_f12_Monroe_LA.txt') as f:\n",
    "    lst=[line.split()[1] for line in f]\n",
    "    temp=[]\n",
    "    for i in lst:\n",
    "        new=i.replace(',',\"\")\n",
    "        temp.append(new)\n",
    "    temp.pop(0)\n",
    "    temp=[float(x) for x in temp]\n",
    "    temp=temp[2778:2803]\n",
    "#     x = np.array(temp)\n",
    "#     temp = ma.masked_array(x, mask=[0, 0, 0, 0, 0,0,1,0,0,0,0,0,0,0,0,0,0,0,0,0,0,0,0,0,0])\n",
    "    #temp=temp[2015:2063]\n",
    "    print(temp)\n",
    "    ##prfloat(len(temp))\n",
    "#full time period is [2015:2112]"
   ]
  },
  {
   "cell_type": "code",
   "execution_count": 192,
   "id": "5cea29ca",
   "metadata": {},
   "outputs": [
    {
     "name": "stdout",
     "output_type": "stream",
     "text": [
      "[12.95, 12.649999999999999, 11.8, 10.75, 9.65, 7.25, 7.6, 12.149999999999999, 14.2, 16.55, 17.8, 19.25, 20.85, 21.4, 21.95, 23.200000000000003, 22.85, 22.2, 19.5, 14.15, 11.4, 9.75, 8.7, 8.15, 7.6]\n"
     ]
    }
   ],
   "source": [
    "#Air Temp CRN:\n",
    "with open('CRNS0101-05-2022-LA_Monroe_26_N.txt') as f:\n",
    "    lst=[line.split()[8] for line in f]\n",
    "    \n",
    "    a=(float(lst[33479])+float(lst[33480]))/2\n",
    "    b=(float(lst[33491])+float(lst[33492]))/2\n",
    "    c=(float(lst[33503])+float(lst[33504]))/2\n",
    "    d=(float(lst[33515])+float(lst[33516]))/2\n",
    "    e=(float(lst[33527])+float(lst[33528]))/2\n",
    "    f=(float(lst[33539])+float(lst[33540]))/2\n",
    "    g=(float(lst[33551])+float(lst[33552]))/2\n",
    "    h=(float(lst[33563])+float(lst[33564]))/2\n",
    "    i=(float(lst[33575])+float(lst[33576]))/2\n",
    "    j=(float(lst[33587])+float(lst[33588]))/2\n",
    "    k=(float(lst[33599])+float(lst[33600]))/2\n",
    "    l=(float(lst[33611])+float(lst[33612]))/2\n",
    "    m=(float(lst[33623])+float(lst[33624]))/2\n",
    "    n=(float(lst[33635])+float(lst[33636]))/2\n",
    "    o=(float(lst[33647])+float(lst[33648]))/2\n",
    "    p=(float(lst[33659])+float(lst[33660]))/2\n",
    "    q=(float(lst[33671])+float(lst[33672]))/2\n",
    "    r=(float(lst[33683])+float(lst[33684]))/2\n",
    "    s=(float(lst[33695])+float(lst[33696]))/2\n",
    "    t=(float(lst[33707])+float(lst[33708]))/2\n",
    "    u=(float(lst[33719])+float(lst[33720]))/2\n",
    "    v=(float(lst[33731])+float(lst[33732]))/2\n",
    "    w=(float(lst[33743])+float(lst[33744]))/2\n",
    "    x=(float(lst[33755])+float(lst[33756]))/2\n",
    "    y=(float(lst[33767])+float(lst[33768]))/2\n",
    "    \n",
    "    temp_crn=[a,b,c,d,e,f,g,h,i,j,k,l,m,n,o,p,q,r,s,t,u,v,w,x,y]\n",
    "    print(temp_crn)"
   ]
  },
  {
   "cell_type": "code",
   "execution_count": 193,
   "id": "7f448702",
   "metadata": {},
   "outputs": [
    {
     "name": "stdout",
     "output_type": "stream",
     "text": [
      "[-1.8499999999999996, -2.0619999999999994, -2.135110000000001, -1.6181300000000007, -0.9572199999999995, 1.0340299999999996, 0.4554500000000008, -1.1603999999999992, -0.7295999999999996, -1.2301000000000002, -0.6443000000000012, -0.3808000000000007, -0.16080000000000183, 0.9170000000000016, 1.2832000000000008, 0.8186999999999962, 1.142199999999999, 1.4596000000000018, 2.7776999999999994, 5.135900000000001, 5.713800000000001, 5.880000000000001, 5.739000000000001, 5.9033, 5.6065000000000005]\n"
     ]
    }
   ],
   "source": [
    "difference6_mon = []\n",
    "\n",
    "zip_object = zip(temp, temp_crn)\n",
    "for temp_i, temp_crn_i in zip_object:\n",
    "    difference6_mon.append(temp_i-temp_crn_i)\n",
    "\n",
    "print(difference6_mon)"
   ]
  },
  {
   "cell_type": "markdown",
   "id": "49e00369",
   "metadata": {},
   "source": [
    "<font size=\"3\">Holly Springs, MS: 0600 UTC (12:00 am CST) 01 March 2022-0600 UTC (12:00 am CST) 02 March 2022</font>"
   ]
  },
  {
   "cell_type": "code",
   "execution_count": 194,
   "id": "a9302d89",
   "metadata": {},
   "outputs": [
    {
     "name": "stdout",
     "output_type": "stream",
     "text": [
      "[7.22504, 6.77554, 6.35239, 6.06937, 5.63028, 5.47153, 6.11795, 9.86456, 12.5329, 14.6949, 16.3432, 17.6192, 19.1267, 20.5045, 21.3582, 21.8312, 21.5547, 20.8471, 18.9027, 16.2859, 14.8638, 13.8175, 13.314, 12.8033, 12.0815]\n"
     ]
    }
   ],
   "source": [
    "#1 hr hrrr:\n",
    "with open('hrrr_f12_Holly Springs_MS.txt') as f:\n",
    "    lst=[line.split()[1] for line in f]\n",
    "    temp=[]\n",
    "    for i in lst:\n",
    "        new=i.replace(',',\"\")\n",
    "        temp.append(new)\n",
    "    temp.pop(0)\n",
    "    temp=[float(x) for x in temp]\n",
    "    temp=temp[2778:2803]\n",
    "#     x = np.array(temp)\n",
    "#     temp = ma.masked_array(x, mask=[0, 0, 0, 0, 0,0,1,0,0,0,0,0,0,0,0,0,0,0,0,0,0,0,0,0,0])\n",
    "    #temp=temp[2015:2063]\n",
    "    print(temp)\n",
    "    ##prfloat(len(temp))\n",
    "#full time period is [2015:2112]"
   ]
  },
  {
   "cell_type": "code",
   "execution_count": 195,
   "id": "49cb6701",
   "metadata": {},
   "outputs": [
    {
     "name": "stdout",
     "output_type": "stream",
     "text": [
      "[3.55, 2.95, 2.45, 2.25, 2.2, 1.7999999999999998, 2.5, 7.8, 12.6, 14.7, 17.4, 19.3, 20.25, 21.1, 22.0, 22.5, 22.549999999999997, 22.0, 18.9, 13.45, 10.850000000000001, 9.05, 8.7, 7.95, 7.05]\n"
     ]
    }
   ],
   "source": [
    "#Air Temp CRN:\n",
    "with open('CRNS0101-05-2022-MS_Holly_Springs_4_N.txt') as f:\n",
    "    lst=[line.split()[8] for line in f]\n",
    "    \n",
    "    a=(float(lst[33479])+float(lst[33480]))/2\n",
    "    b=(float(lst[33491])+float(lst[33492]))/2\n",
    "    c=(float(lst[33503])+float(lst[33504]))/2\n",
    "    d=(float(lst[33515])+float(lst[33516]))/2\n",
    "    e=(float(lst[33527])+float(lst[33528]))/2\n",
    "    f=(float(lst[33539])+float(lst[33540]))/2\n",
    "    g=(float(lst[33551])+float(lst[33552]))/2\n",
    "    h=(float(lst[33563])+float(lst[33564]))/2\n",
    "    i=(float(lst[33575])+float(lst[33576]))/2\n",
    "    j=(float(lst[33587])+float(lst[33588]))/2\n",
    "    k=(float(lst[33599])+float(lst[33600]))/2\n",
    "    l=(float(lst[33611])+float(lst[33612]))/2\n",
    "    m=(float(lst[33623])+float(lst[33624]))/2\n",
    "    n=(float(lst[33635])+float(lst[33636]))/2\n",
    "    o=(float(lst[33647])+float(lst[33648]))/2\n",
    "    p=(float(lst[33659])+float(lst[33660]))/2\n",
    "    q=(float(lst[33671])+float(lst[33672]))/2\n",
    "    r=(float(lst[33683])+float(lst[33684]))/2\n",
    "    s=(float(lst[33695])+float(lst[33696]))/2\n",
    "    t=(float(lst[33707])+float(lst[33708]))/2\n",
    "    u=(float(lst[33719])+float(lst[33720]))/2\n",
    "    v=(float(lst[33731])+float(lst[33732]))/2\n",
    "    w=(float(lst[33743])+float(lst[33744]))/2\n",
    "    x=(float(lst[33755])+float(lst[33756]))/2\n",
    "    y=(float(lst[33767])+float(lst[33768]))/2\n",
    "    \n",
    "    temp_crn=[a,b,c,d,e,f,g,h,i,j,k,l,m,n,o,p,q,r,s,t,u,v,w,x,y]\n",
    "    print(temp_crn)"
   ]
  },
  {
   "cell_type": "code",
   "execution_count": 196,
   "id": "19a13a82",
   "metadata": {},
   "outputs": [
    {
     "name": "stdout",
     "output_type": "stream",
     "text": [
      "[3.67504, 3.82554, 3.9023899999999996, 3.81937, 3.4302799999999998, 3.6715299999999997, 3.6179500000000004, 2.064560000000001, -0.06709999999999994, -0.005099999999998772, -1.056799999999999, -1.6808000000000014, -1.1233000000000004, -0.5955000000000013, -0.6417999999999999, -0.668800000000001, -0.9952999999999967, -1.152899999999999, 0.002700000000000813, 2.8359000000000023, 4.013799999999998, 4.7675, 4.614000000000001, 4.8533, 5.0315]\n"
     ]
    }
   ],
   "source": [
    "difference6_hol = []\n",
    "\n",
    "zip_object = zip(temp, temp_crn)\n",
    "for temp_i, temp_crn_i in zip_object:\n",
    "    difference6_hol.append(temp_i-temp_crn_i)\n",
    "\n",
    "print(difference6_hol)"
   ]
  },
  {
   "cell_type": "markdown",
   "id": "4753a3b0",
   "metadata": {},
   "source": [
    "<font size=\"3\">Newton, MS: 0600 UTC (12:00 am CST) 01 March 2022-0600 UTC (12:00 am CST) 02 March 2022</font>"
   ]
  },
  {
   "cell_type": "code",
   "execution_count": 197,
   "id": "68f58603",
   "metadata": {},
   "outputs": [
    {
     "name": "stdout",
     "output_type": "stream",
     "text": [
      "[13.4125, 12.5255, 11.8524, 11.2569, 10.9428, 10.409, 10.743, 13.1146, 14.9704, 17.2574, 19.0932, 20.4942, 22.0642, 22.942, 23.7332, 24.1437, 23.9922, 23.2846, 21.5902, 18.9734, 17.3638, 16.0675, 14.814, 13.7408, 13.0815]\n"
     ]
    }
   ],
   "source": [
    "#1 hr hrrr:\n",
    "with open('hrrr_f12_Newton_MS.txt') as f:\n",
    "    lst=[line.split()[1] for line in f]\n",
    "    temp=[]\n",
    "    for i in lst:\n",
    "        new=i.replace(',',\"\")\n",
    "        temp.append(new)\n",
    "    temp.pop(0)\n",
    "    temp=[float(x) for x in temp]\n",
    "    temp=temp[2778:2803]\n",
    "#     x = np.array(temp)\n",
    "#     temp = ma.masked_array(x, mask=[0, 0, 0, 0, 0,0,1,0,0,0,0,0,0,0,0,0,0,0,0,0,0,0,0,0,0])\n",
    "    #temp=temp[2015:2063]\n",
    "    print(temp)\n",
    "    ##prfloat(len(temp))\n",
    "#full time period is [2015:2112]"
   ]
  },
  {
   "cell_type": "code",
   "execution_count": 198,
   "id": "ddffa4a1",
   "metadata": {},
   "outputs": [
    {
     "name": "stdout",
     "output_type": "stream",
     "text": [
      "[11.149999999999999, 11.05, 10.25, 7.85, 6.85, 6.2, 7.0, 10.75, 13.05, 15.2, 17.35, 19.25, 20.9, 21.8, 22.450000000000003, 23.0, 23.1, 22.35, 20.75, 14.7, 12.3, 10.8, 9.55, 8.649999999999999, 8.2]\n"
     ]
    }
   ],
   "source": [
    "#Air Temp CRN:\n",
    "with open('CRNS0101-05-2022-MS_Newton_5_ENE.txt') as f:\n",
    "    lst=[line.split()[8] for line in f]\n",
    "    \n",
    "    a=(float(lst[33479])+float(lst[33480]))/2\n",
    "    b=(float(lst[33491])+float(lst[33492]))/2\n",
    "    c=(float(lst[33503])+float(lst[33504]))/2\n",
    "    d=(float(lst[33515])+float(lst[33516]))/2\n",
    "    e=(float(lst[33527])+float(lst[33528]))/2\n",
    "    f=(float(lst[33539])+float(lst[33540]))/2\n",
    "    g=(float(lst[33551])+float(lst[33552]))/2\n",
    "    h=(float(lst[33563])+float(lst[33564]))/2\n",
    "    i=(float(lst[33575])+float(lst[33576]))/2\n",
    "    j=(float(lst[33587])+float(lst[33588]))/2\n",
    "    k=(float(lst[33599])+float(lst[33600]))/2\n",
    "    l=(float(lst[33611])+float(lst[33612]))/2\n",
    "    m=(float(lst[33623])+float(lst[33624]))/2\n",
    "    n=(float(lst[33635])+float(lst[33636]))/2\n",
    "    o=(float(lst[33647])+float(lst[33648]))/2\n",
    "    p=(float(lst[33659])+float(lst[33660]))/2\n",
    "    q=(float(lst[33671])+float(lst[33672]))/2\n",
    "    r=(float(lst[33683])+float(lst[33684]))/2\n",
    "    s=(float(lst[33695])+float(lst[33696]))/2\n",
    "    t=(float(lst[33707])+float(lst[33708]))/2\n",
    "    u=(float(lst[33719])+float(lst[33720]))/2\n",
    "    v=(float(lst[33731])+float(lst[33732]))/2\n",
    "    w=(float(lst[33743])+float(lst[33744]))/2\n",
    "    x=(float(lst[33755])+float(lst[33756]))/2\n",
    "    y=(float(lst[33767])+float(lst[33768]))/2\n",
    "    \n",
    "    temp_crn=[a,b,c,d,e,f,g,h,i,j,k,l,m,n,o,p,q,r,s,t,u,v,w,x,y]\n",
    "    print(temp_crn)"
   ]
  },
  {
   "cell_type": "code",
   "execution_count": 199,
   "id": "d00b8a13",
   "metadata": {},
   "outputs": [
    {
     "name": "stdout",
     "output_type": "stream",
     "text": [
      "[2.262500000000001, 1.4754999999999985, 1.6023999999999994, 3.4069000000000003, 4.0928, 4.2090000000000005, 3.7430000000000003, 2.3645999999999994, 1.920399999999999, 2.0574000000000012, 1.743199999999998, 1.2441999999999993, 1.164200000000001, 1.1419999999999995, 1.2831999999999972, 1.143699999999999, 0.892199999999999, 0.9345999999999997, 0.8401999999999994, 4.273400000000002, 5.0638000000000005, 5.267499999999998, 5.263999999999999, 5.0908000000000015, 4.881500000000001]\n"
     ]
    }
   ],
   "source": [
    "difference6_new = []\n",
    "\n",
    "zip_object = zip(temp, temp_crn)\n",
    "for temp_i, temp_crn_i in zip_object:\n",
    "    difference6_new.append(temp_i-temp_crn_i)\n",
    "\n",
    "print(difference6_new)"
   ]
  },
  {
   "cell_type": "markdown",
   "id": "f6dc6918",
   "metadata": {},
   "source": [
    "<font size=\"3\">Gainesville, AL: 0600 UTC (12:00 am CST) 01 March 2022-0600 UTC (12:00 am CST) 02 March 2022</font>"
   ]
  },
  {
   "cell_type": "code",
   "execution_count": 200,
   "id": "853a5cd2",
   "metadata": {},
   "outputs": [
    {
     "name": "stdout",
     "output_type": "stream",
     "text": [
      "[12.6625, 11.588, 10.7274, 9.94437, 9.25528, 8.84653, 9.68045, 12.9271, 15.0954, 17.3199, 18.9057, 20.4317, 21.6267, 22.7545, 23.6707, 24.0812, 24.0547, 23.3471, 21.2152, 18.7234, 16.7388, 15.3175, 14.2515, 13.1783, 12.3315]\n"
     ]
    }
   ],
   "source": [
    "#1 hr hrrr:\n",
    "with open('hrrr_f12_Gainesville_AL.txt') as f:\n",
    "    lst=[line.split()[1] for line in f]\n",
    "    temp=[]\n",
    "    for i in lst:\n",
    "        new=i.replace(',',\"\")\n",
    "        temp.append(new)\n",
    "    temp.pop(0)\n",
    "    temp=[float(x) for x in temp]\n",
    "    temp=temp[2778:2803]\n",
    "#     x = np.array(temp)\n",
    "#     temp = ma.masked_array(x, mask=[0, 0, 0, 0, 0,0,1,0,0,0,0,0,0,0,0,0,0,0,0,0,0,0,0,0,0])\n",
    "    #temp=temp[2015:2063]\n",
    "    print(temp)\n",
    "    ##prfloat(len(temp))\n",
    "#full time period is [2015:2112]"
   ]
  },
  {
   "cell_type": "code",
   "execution_count": 201,
   "id": "5becbc53",
   "metadata": {},
   "outputs": [
    {
     "name": "stdout",
     "output_type": "stream",
     "text": [
      "[12.45, 11.4, 10.4, 9.2, 8.7, 6.75, 8.5, 10.3, 13.3, 15.9, 17.55, 19.4, 20.9, 22.2, 23.1, 23.549999999999997, 23.4, 23.0, 19.2, 15.1, 13.05, 12.2, 11.5, 10.75, 10.149999999999999]\n"
     ]
    }
   ],
   "source": [
    "#Air Temp CRN:\n",
    "with open('CRNS0101-05-2022-AL_Gainesville_2_NE.txt') as f:\n",
    "    lst=[line.split()[8] for line in f]\n",
    "    \n",
    "    a=(float(lst[33479])+float(lst[33480]))/2\n",
    "    b=(float(lst[33491])+float(lst[33492]))/2\n",
    "    c=(float(lst[33503])+float(lst[33504]))/2\n",
    "    d=(float(lst[33515])+float(lst[33516]))/2\n",
    "    e=(float(lst[33527])+float(lst[33528]))/2\n",
    "    f=(float(lst[33539])+float(lst[33540]))/2\n",
    "    g=(float(lst[33551])+float(lst[33552]))/2\n",
    "    h=(float(lst[33563])+float(lst[33564]))/2\n",
    "    i=(float(lst[33575])+float(lst[33576]))/2\n",
    "    j=(float(lst[33587])+float(lst[33588]))/2\n",
    "    k=(float(lst[33599])+float(lst[33600]))/2\n",
    "    l=(float(lst[33611])+float(lst[33612]))/2\n",
    "    m=(float(lst[33623])+float(lst[33624]))/2\n",
    "    n=(float(lst[33635])+float(lst[33636]))/2\n",
    "    o=(float(lst[33647])+float(lst[33648]))/2\n",
    "    p=(float(lst[33659])+float(lst[33660]))/2\n",
    "    q=(float(lst[33671])+float(lst[33672]))/2\n",
    "    r=(float(lst[33683])+float(lst[33684]))/2\n",
    "    s=(float(lst[33695])+float(lst[33696]))/2\n",
    "    t=(float(lst[33707])+float(lst[33708]))/2\n",
    "    u=(float(lst[33719])+float(lst[33720]))/2\n",
    "    v=(float(lst[33731])+float(lst[33732]))/2\n",
    "    w=(float(lst[33743])+float(lst[33744]))/2\n",
    "    x=(float(lst[33755])+float(lst[33756]))/2\n",
    "    y=(float(lst[33767])+float(lst[33768]))/2\n",
    "    \n",
    "    temp_crn=[a,b,c,d,e,f,g,h,i,j,k,l,m,n,o,p,q,r,s,t,u,v,w,x,y]\n",
    "    print(temp_crn)"
   ]
  },
  {
   "cell_type": "code",
   "execution_count": 202,
   "id": "182dac80",
   "metadata": {},
   "outputs": [
    {
     "name": "stdout",
     "output_type": "stream",
     "text": [
      "[0.21250000000000036, 0.18799999999999883, 0.327399999999999, 0.74437, 0.5552800000000016, 2.0965299999999996, 1.1804500000000004, 2.6270999999999987, 1.795399999999999, 1.4199000000000002, 1.3556999999999988, 1.0317000000000007, 0.726700000000001, 0.5545000000000009, 0.5706999999999987, 0.5312000000000019, 0.6547000000000018, 0.3471000000000011, 2.0152, 3.623400000000002, 3.6888000000000005, 3.1175000000000015, 2.7515, 2.4283, 2.1815000000000015]\n"
     ]
    }
   ],
   "source": [
    "difference6_gai = []\n",
    "\n",
    "zip_object = zip(temp, temp_crn)\n",
    "for temp_i, temp_crn_i in zip_object:\n",
    "    difference6_gai.append(temp_i-temp_crn_i)\n",
    "\n",
    "print(difference6_gai)"
   ]
  },
  {
   "cell_type": "markdown",
   "id": "dca2fd19",
   "metadata": {},
   "source": [
    "<font size=\"3\">Fairhope, AL: 0600 UTC (12:00 am CST) 01 March 2022-0600 UTC (12:00 am CST) 02 March 2022</font>"
   ]
  },
  {
   "cell_type": "code",
   "execution_count": 203,
   "id": "a7ac678b",
   "metadata": {},
   "outputs": [
    {
     "name": "stdout",
     "output_type": "stream",
     "text": [
      "[17.6625, 16.7755, 15.9774, 15.1944, 14.3803, 13.5965, 13.743, 15.3646, 17.4704, 19.7574, 22.3432, 23.9942, 25.1892, 25.6295, 25.9207, 26.1437, 25.5547, 24.7846, 22.7777, 20.8484, 19.3638, 18.005, 17.0015, 16.1783, 15.644]\n"
     ]
    }
   ],
   "source": [
    "#1 hr hrrr:\n",
    "with open('hrrr_f12_Fairhope_AL.txt') as f:\n",
    "    lst=[line.split()[1] for line in f]\n",
    "    temp=[]\n",
    "    for i in lst:\n",
    "        new=i.replace(',',\"\")\n",
    "        temp.append(new)\n",
    "    temp.pop(0)\n",
    "    temp=[float(x) for x in temp]\n",
    "    temp=temp[2778:2803]\n",
    "#     x = np.array(temp)\n",
    "#     temp = ma.masked_array(x, mask=[0, 0, 0, 0, 0,0,1,0,0,0,0,0,0,0,0,0,0,0,0,0,0,0,0,0,0])\n",
    "    #temp=temp[2015:2063]\n",
    "    print(temp)\n",
    "    ##prfloat(len(temp))\n",
    "#full time period is [2015:2112]"
   ]
  },
  {
   "cell_type": "code",
   "execution_count": 204,
   "id": "eaa19ef2",
   "metadata": {},
   "outputs": [
    {
     "name": "stdout",
     "output_type": "stream",
     "text": [
      "[15.7, 14.7, 13.8, 13.6, 12.8, 11.7, 12.4, 15.15, 16.85, 18.950000000000003, 21.05, 21.799999999999997, 22.7, 23.35, 24.35, 25.0, 24.7, 23.200000000000003, 21.35, 18.35, 17.9, 16.700000000000003, 14.7, 12.399999999999999, 11.8]\n"
     ]
    }
   ],
   "source": [
    "#Air Temp CRN:\n",
    "with open('CRNS0101-05-2022-AL_Fairhope_3_NE.txt') as f:\n",
    "    lst=[line.split()[8] for line in f]\n",
    "    \n",
    "    a=(float(lst[33479])+float(lst[33480]))/2\n",
    "    b=(float(lst[33491])+float(lst[33492]))/2\n",
    "    c=(float(lst[33503])+float(lst[33504]))/2\n",
    "    d=(float(lst[33515])+float(lst[33516]))/2\n",
    "    e=(float(lst[33527])+float(lst[33528]))/2\n",
    "    f=(float(lst[33539])+float(lst[33540]))/2\n",
    "    g=(float(lst[33551])+float(lst[33552]))/2\n",
    "    h=(float(lst[33563])+float(lst[33564]))/2\n",
    "    i=(float(lst[33575])+float(lst[33576]))/2\n",
    "    j=(float(lst[33587])+float(lst[33588]))/2\n",
    "    k=(float(lst[33599])+float(lst[33600]))/2\n",
    "    l=(float(lst[33611])+float(lst[33612]))/2\n",
    "    m=(float(lst[33623])+float(lst[33624]))/2\n",
    "    n=(float(lst[33635])+float(lst[33636]))/2\n",
    "    o=(float(lst[33647])+float(lst[33648]))/2\n",
    "    p=(float(lst[33659])+float(lst[33660]))/2\n",
    "    q=(float(lst[33671])+float(lst[33672]))/2\n",
    "    r=(float(lst[33683])+float(lst[33684]))/2\n",
    "    s=(float(lst[33695])+float(lst[33696]))/2\n",
    "    t=(float(lst[33707])+float(lst[33708]))/2\n",
    "    u=(float(lst[33719])+float(lst[33720]))/2\n",
    "    v=(float(lst[33731])+float(lst[33732]))/2\n",
    "    w=(float(lst[33743])+float(lst[33744]))/2\n",
    "    x=(float(lst[33755])+float(lst[33756]))/2\n",
    "    y=(float(lst[33767])+float(lst[33768]))/2\n",
    "    \n",
    "    temp_crn=[a,b,c,d,e,f,g,h,i,j,k,l,m,n,o,p,q,r,s,t,u,v,w,x,y]\n",
    "    print(temp_crn)"
   ]
  },
  {
   "cell_type": "code",
   "execution_count": 205,
   "id": "c79c3a66",
   "metadata": {},
   "outputs": [
    {
     "name": "stdout",
     "output_type": "stream",
     "text": [
      "[1.9625000000000021, 2.0755000000000017, 2.1773999999999987, 1.5944000000000003, 1.5802999999999994, 1.8965000000000014, 1.343, 0.214599999999999, 0.6204000000000001, 0.8073999999999977, 1.2931999999999988, 2.194200000000002, 2.4892000000000003, 2.2794999999999987, 1.5706999999999987, 1.143699999999999, 0.8547000000000011, 1.5845999999999982, 1.427699999999998, 2.4984, 1.4638000000000027, 1.3049999999999962, 2.3015000000000008, 3.7783000000000015, 3.8439999999999994]\n"
     ]
    }
   ],
   "source": [
    "difference6_fai = []\n",
    "\n",
    "zip_object = zip(temp, temp_crn)\n",
    "for temp_i, temp_crn_i in zip_object:\n",
    "    difference6_fai.append(temp_i-temp_crn_i)\n",
    "\n",
    "print(difference6_fai)"
   ]
  },
  {
   "cell_type": "markdown",
   "id": "142d4e9c",
   "metadata": {},
   "source": [
    "<font size=\"3\">**Selma, AL: 0600 UTC (12:00 am CST) 01 March 2022-0600 UTC (12:00 am CST) 02 March 2022</font>"
   ]
  },
  {
   "cell_type": "code",
   "execution_count": 206,
   "id": "96d329b9",
   "metadata": {},
   "outputs": [
    {
     "name": "stdout",
     "output_type": "stream",
     "text": [
      "[11.975, 11.2755, 10.6024, 10.0069, 9.25528, 8.59653, 9.49295, 11.9896, 14.2829, 16.4449, 18.5307, 20.1192, 21.6892, 23.0045, 23.6707, 24.0812, 24.0547, 23.2221, 21.1527, 18.4734, 16.3638, 15.005, 14.1265, 13.2408, 12.8315]\n"
     ]
    }
   ],
   "source": [
    "#1 hr hrrr:\n",
    "import numpy as np\n",
    "import numpy.ma as ma\n",
    "with open('hrrr_f12_Selma_AL.txt') as f:\n",
    "    lst=[line.split()[1] for line in f]\n",
    "    temp=[]\n",
    "    for i in lst:\n",
    "        new=i.replace(',',\"\")\n",
    "        temp.append(new)\n",
    "    temp.pop(0)\n",
    "    temp=[float(x) for x in temp]\n",
    "    temp=temp[2778:2803]\n",
    "#     x = np.array(temp)\n",
    "#     temp = ma.masked_array(x, mask=[0, 0, 0, 0, 0,0,1,0,0,0,0,0,0,0,0,0,0,0,0,0,0,0,0,0,0])\n",
    "    print(temp)"
   ]
  },
  {
   "cell_type": "code",
   "execution_count": 207,
   "id": "08c28298",
   "metadata": {},
   "outputs": [
    {
     "name": "stdout",
     "output_type": "stream",
     "text": [
      "[9.8, 9.649999999999999, 8.7, 9.149999999999999, 7.4, 6.3, 8.15, 11.1, 13.75, 15.9, 18.2, 19.75, 21.35, 23.0, 23.95, 24.0, 24.25, 23.4, 19.15, 14.2, 12.45, 11.149999999999999, 10.2, 9.0, 8.5]\n"
     ]
    }
   ],
   "source": [
    "#Air Temp CRN:\n",
    "with open('CRNS0101-05-2022-AL_Selma_13_WNW.txt') as f:\n",
    "    lst=[line.split()[8] for line in f]\n",
    "    \n",
    "    a=(float(lst[33479])+float(lst[33480]))/2\n",
    "    b=(float(lst[33491])+float(lst[33492]))/2\n",
    "    c=(float(lst[33503])+float(lst[33504]))/2\n",
    "    d=(float(lst[33515])+float(lst[33516]))/2\n",
    "    e=(float(lst[33527])+float(lst[33528]))/2\n",
    "    f=(float(lst[33539])+float(lst[33540]))/2\n",
    "    g=(float(lst[33551])+float(lst[33552]))/2\n",
    "    h=(float(lst[33563])+float(lst[33564]))/2\n",
    "    i=(float(lst[33575])+float(lst[33576]))/2\n",
    "    j=(float(lst[33587])+float(lst[33588]))/2\n",
    "    k=(float(lst[33599])+float(lst[33600]))/2\n",
    "    l=(float(lst[33611])+float(lst[33612]))/2\n",
    "    m=(float(lst[33623])+float(lst[33624]))/2\n",
    "    n=(float(lst[33635])+float(lst[33636]))/2\n",
    "    o=(float(lst[33647])+float(lst[33648]))/2\n",
    "    p=(float(lst[33659])+float(lst[33660]))/2\n",
    "    q=(float(lst[33671])+float(lst[33672]))/2\n",
    "    r=(float(lst[33683])+float(lst[33684]))/2\n",
    "    s=(float(lst[33695])+float(lst[33696]))/2\n",
    "    t=(float(lst[33707])+float(lst[33708]))/2\n",
    "    u=(float(lst[33719])+float(lst[33720]))/2\n",
    "    v=(float(lst[33731])+float(lst[33732]))/2\n",
    "    w=(float(lst[33743])+float(lst[33744]))/2\n",
    "    x=(float(lst[33755])+float(lst[33756]))/2\n",
    "    y=(float(lst[33767])+float(lst[33768]))/2\n",
    "    \n",
    "    temp_crn=[a,b,c,d,e,f,g,h,i,j,k,l,m,n,o,p,q,r,s,t,u,v,w,x,y]\n",
    "    print(temp_crn)"
   ]
  },
  {
   "cell_type": "code",
   "execution_count": 208,
   "id": "9d9623a2",
   "metadata": {},
   "outputs": [
    {
     "name": "stdout",
     "output_type": "stream",
     "text": [
      "[2.174999999999999, 1.6255000000000006, 1.9024, 0.8569000000000013, 1.8552800000000005, 2.2965299999999997, 1.34295, 0.8895999999999997, 0.5328999999999997, 0.5449000000000002, 0.3307000000000002, 0.3691999999999993, 0.33919999999999817, 0.0045000000000001705, -0.2792999999999992, 0.08119999999999905, -0.19529999999999959, -0.1778999999999975, 2.002700000000001, 4.273400000000002, 3.913800000000002, 3.855000000000002, 3.9265000000000008, 4.2408, 4.3315]\n"
     ]
    }
   ],
   "source": [
    "difference6_sel = []\n",
    "\n",
    "zip_object = zip(temp, temp_crn)\n",
    "for temp_i, temp_crn_i in zip_object:\n",
    "    difference6_sel.append(temp_i-temp_crn_i)\n",
    "\n",
    "print(difference6_sel)\n",
    "##prfloat(len(difference3_sel))"
   ]
  },
  {
   "cell_type": "markdown",
   "id": "36c4d6a8",
   "metadata": {},
   "source": [
    "<font size=\"3\">Bowling Green, KY: 0600 UTC (12:00 am CST) 01 March 2022-0600 UTC (12:00 am CST) 02 March 2022</font>"
   ]
  },
  {
   "cell_type": "code",
   "execution_count": 209,
   "id": "d83d7c4d",
   "metadata": {},
   "outputs": [
    {
     "name": "stdout",
     "output_type": "stream",
     "text": [
      "[6.97504, 6.46304, 5.97739, 5.75687, 5.88028, 5.34653, 6.86795, 10.3646, 12.6579, 14.5699, 16.5307, 18.1192, 19.4392, 20.1295, 20.7957, 21.1437, 20.7422, 20.0346, 18.4027, 15.5984, 14.4263, 13.3175, 12.814, 12.1783, 12.019]\n"
     ]
    }
   ],
   "source": [
    "#1 hr hrrr:\n",
    "with open('hrrr_f12_Bowling Green_KY.txt') as f:\n",
    "    lst=[line.split()[1] for line in f]\n",
    "    temp=[]\n",
    "    for i in lst:\n",
    "        new=i.replace(',',\"\")\n",
    "        temp.append(new)\n",
    "    temp.pop(0)\n",
    "    temp=[float(x) for x in temp]\n",
    "    temp=temp[2778:2803]\n",
    "#     x = np.array(temp)\n",
    "#     temp = ma.masked_array(x, mask=[0, 0, 0, 0, 0,0,1,0,0,0,0,0,0,0,0,0,0,0,0,0,0,0,0,0,0])\n",
    "    #temp=temp[2015:2063]\n",
    "    print(temp)\n",
    "    ##prfloat(len(temp))\n",
    "#full time period is [2015:2112]"
   ]
  },
  {
   "cell_type": "code",
   "execution_count": 210,
   "id": "e74d2987",
   "metadata": {},
   "outputs": [
    {
     "name": "stdout",
     "output_type": "stream",
     "text": [
      "[6.0, 4.9, 4.65, 5.300000000000001, 4.05, 3.8499999999999996, 6.4, 10.0, 12.9, 14.25, 16.25, 17.05, 18.55, 19.95, 20.05, 20.75, 20.5, 19.6, 17.65, 14.6, 13.8, 13.149999999999999, 12.5, 12.7, 11.649999999999999]\n"
     ]
    }
   ],
   "source": [
    "#Air Temp CRN:\n",
    "with open('CRNS0101-05-2022-KY_Bowling_Green_21_NNE.txt') as f:\n",
    "    lst=[line.split()[8] for line in f]\n",
    "    \n",
    "    a=(float(lst[33479])+float(lst[33480]))/2\n",
    "    b=(float(lst[33491])+float(lst[33492]))/2\n",
    "    c=(float(lst[33503])+float(lst[33504]))/2\n",
    "    d=(float(lst[33515])+float(lst[33516]))/2\n",
    "    e=(float(lst[33527])+float(lst[33528]))/2\n",
    "    f=(float(lst[33539])+float(lst[33540]))/2\n",
    "    g=(float(lst[33551])+float(lst[33552]))/2\n",
    "    h=(float(lst[33563])+float(lst[33564]))/2\n",
    "    i=(float(lst[33575])+float(lst[33576]))/2\n",
    "    j=(float(lst[33587])+float(lst[33588]))/2\n",
    "    k=(float(lst[33599])+float(lst[33600]))/2\n",
    "    l=(float(lst[33611])+float(lst[33612]))/2\n",
    "    m=(float(lst[33623])+float(lst[33624]))/2\n",
    "    n=(float(lst[33635])+float(lst[33636]))/2\n",
    "    o=(float(lst[33647])+float(lst[33648]))/2\n",
    "    p=(float(lst[33659])+float(lst[33660]))/2\n",
    "    q=(float(lst[33671])+float(lst[33672]))/2\n",
    "    r=(float(lst[33683])+float(lst[33684]))/2\n",
    "    s=(float(lst[33695])+float(lst[33696]))/2\n",
    "    t=(float(lst[33707])+float(lst[33708]))/2\n",
    "    u=(float(lst[33719])+float(lst[33720]))/2\n",
    "    v=(float(lst[33731])+float(lst[33732]))/2\n",
    "    w=(float(lst[33743])+float(lst[33744]))/2\n",
    "    x=(float(lst[33755])+float(lst[33756]))/2\n",
    "    y=(float(lst[33767])+float(lst[33768]))/2\n",
    "    \n",
    "    temp_crn=[a,b,c,d,e,f,g,h,i,j,k,l,m,n,o,p,q,r,s,t,u,v,w,x,y]\n",
    "    print(temp_crn)"
   ]
  },
  {
   "cell_type": "code",
   "execution_count": 211,
   "id": "e091d5ac",
   "metadata": {},
   "outputs": [
    {
     "name": "stdout",
     "output_type": "stream",
     "text": [
      "[0.9750399999999999, 1.56304, 1.3273899999999994, 0.45686999999999944, 1.8302800000000001, 1.49653, 0.4679500000000001, 0.36459999999999937, -0.24210000000000065, 0.3199000000000005, 0.2806999999999995, 1.0691999999999986, 0.8891999999999989, 0.17950000000000088, 0.7456999999999994, 0.39369999999999905, 0.24220000000000041, 0.43459999999999965, 0.7527000000000008, 0.9984000000000002, 0.6262999999999987, 0.1675000000000022, 0.31400000000000006, -0.5216999999999992, 0.36900000000000155]\n"
     ]
    }
   ],
   "source": [
    "difference6_bow = []\n",
    "\n",
    "zip_object = zip(temp, temp_crn)\n",
    "for temp_i, temp_crn_i in zip_object:\n",
    "    difference6_bow.append(temp_i-temp_crn_i)\n",
    "\n",
    "print(difference6_bow)"
   ]
  },
  {
   "cell_type": "markdown",
   "id": "f806c48f",
   "metadata": {},
   "source": [
    "<font size=\"3\">Gadsden, AL: 0600 UTC (12:00 am CST) 01 March 2022-0600 UTC (12:00 am CST) 02 March 2022</font>"
   ]
  },
  {
   "cell_type": "code",
   "execution_count": 212,
   "id": "8d69cb25",
   "metadata": {},
   "outputs": [
    {
     "name": "stdout",
     "output_type": "stream",
     "text": [
      "[8.60004, 8.02554, 7.66489, 7.31937, 7.06778, 6.40903, 7.55545, 10.3021, 12.6579, 15.5074, 17.4057, 19.1817, 20.8767, 21.2545, 21.7957, 21.8312, 21.4297, 20.4721, 18.2777, 16.4734, 14.9888, 13.6925, 12.939, 12.1783, 11.769]\n"
     ]
    }
   ],
   "source": [
    "#1 hr hrrr:\n",
    "with open('hrrr_f12_Gadsden_AL.txt') as f:\n",
    "    lst=[line.split()[1] for line in f]\n",
    "    temp=[]\n",
    "    for i in lst:\n",
    "        new=i.replace(',',\"\")\n",
    "        temp.append(new)\n",
    "    temp.pop(0)\n",
    "    temp=[float(x) for x in temp]\n",
    "    temp=temp[2778:2803]\n",
    "#     x = np.array(temp)\n",
    "#     temp = ma.masked_array(x, mask=[0, 0, 0, 0, 0,0,1,0,0,0,0,0,0,0,0,0,0,0,0,0,0,0,0,0,0])\n",
    "    #temp=temp[2015:2063]\n",
    "    print(temp)\n",
    "    ##prfloat(len(temp))\n",
    "#full time period is [2015:2112]"
   ]
  },
  {
   "cell_type": "code",
   "execution_count": 213,
   "id": "8090f870",
   "metadata": {},
   "outputs": [
    {
     "name": "stdout",
     "output_type": "stream",
     "text": [
      "[8.350000000000001, 7.35, 6.1, 6.5, 5.300000000000001, 3.2, 6.300000000000001, 9.2, 12.9, 14.95, 17.2, 18.950000000000003, 19.95, 20.4, 20.6, 20.6, 20.75, 20.15, 16.5, 13.3, 11.75, 9.45, 8.7, 7.7, 7.449999999999999]\n"
     ]
    }
   ],
   "source": [
    "#Air Temp CRN:\n",
    "with open('CRNS0101-05-2022-AL_Gadsden_19_N.txt') as f:\n",
    "    lst=[line.split()[8] for line in f]\n",
    "    \n",
    "    a=(float(lst[33479])+float(lst[33480]))/2\n",
    "    b=(float(lst[33491])+float(lst[33492]))/2\n",
    "    c=(float(lst[33503])+float(lst[33504]))/2\n",
    "    d=(float(lst[33515])+float(lst[33516]))/2\n",
    "    e=(float(lst[33527])+float(lst[33528]))/2\n",
    "    f=(float(lst[33539])+float(lst[33540]))/2\n",
    "    g=(float(lst[33551])+float(lst[33552]))/2\n",
    "    h=(float(lst[33563])+float(lst[33564]))/2\n",
    "    i=(float(lst[33575])+float(lst[33576]))/2\n",
    "    j=(float(lst[33587])+float(lst[33588]))/2\n",
    "    k=(float(lst[33599])+float(lst[33600]))/2\n",
    "    l=(float(lst[33611])+float(lst[33612]))/2\n",
    "    m=(float(lst[33623])+float(lst[33624]))/2\n",
    "    n=(float(lst[33635])+float(lst[33636]))/2\n",
    "    o=(float(lst[33647])+float(lst[33648]))/2\n",
    "    p=(float(lst[33659])+float(lst[33660]))/2\n",
    "    q=(float(lst[33671])+float(lst[33672]))/2\n",
    "    r=(float(lst[33683])+float(lst[33684]))/2\n",
    "    s=(float(lst[33695])+float(lst[33696]))/2\n",
    "    t=(float(lst[33707])+float(lst[33708]))/2\n",
    "    u=(float(lst[33719])+float(lst[33720]))/2\n",
    "    v=(float(lst[33731])+float(lst[33732]))/2\n",
    "    w=(float(lst[33743])+float(lst[33744]))/2\n",
    "    x=(float(lst[33755])+float(lst[33756]))/2\n",
    "    y=(float(lst[33767])+float(lst[33768]))/2\n",
    "    \n",
    "    temp_crn=[a,b,c,d,e,f,g,h,i,j,k,l,m,n,o,p,q,r,s,t,u,v,w,x,y]\n",
    "    print(temp_crn)"
   ]
  },
  {
   "cell_type": "code",
   "execution_count": 214,
   "id": "8b6d3e05",
   "metadata": {},
   "outputs": [
    {
     "name": "stdout",
     "output_type": "stream",
     "text": [
      "[0.2500399999999985, 0.6755399999999998, 1.5648900000000001, 0.8193700000000002, 1.7677799999999992, 3.2090299999999994, 1.2554499999999997, 1.1021, -0.24210000000000065, 0.5574000000000012, 0.20570000000000022, 0.23169999999999646, 0.9267000000000003, 0.8545000000000016, 1.1956999999999987, 1.2311999999999976, 0.6797000000000004, 0.3221000000000025, 1.7776999999999994, 3.173400000000001, 3.2387999999999995, 4.2425000000000015, 4.239000000000001, 4.4783, 4.319000000000001]\n"
     ]
    }
   ],
   "source": [
    "difference6_gad = []\n",
    "\n",
    "zip_object = zip(temp, temp_crn)\n",
    "for temp_i, temp_crn_i in zip_object:\n",
    "    difference6_gad.append(temp_i-temp_crn_i)\n",
    "\n",
    "print(difference6_gad)"
   ]
  },
  {
   "cell_type": "markdown",
   "id": "a0cf3d12",
   "metadata": {},
   "source": [
    "<font size=\"3\">Newton, GA: 0600 UTC (12:00 am CST) 01 March 2022-0600 UTC (12:00 am CST) 02 March 2022</font>"
   ]
  },
  {
   "cell_type": "code",
   "execution_count": 215,
   "id": "3fd04e58",
   "metadata": {},
   "outputs": [
    {
     "name": "stdout",
     "output_type": "stream",
     "text": [
      "[18.475, 17.713, 17.2274, 16.1319, 15.5678, 15.5965, 16.243, 17.8646, 19.9704, 22.4449, 25.0307, 26.6817, 28.2517, 28.817, 29.1707, 29.4562, 28.9297, 28.0346, 25.2152, 22.8484, 21.3638, 20.005, 19.1265, 17.9908, 16.894]\n"
     ]
    }
   ],
   "source": [
    "#1 hr hrrr:\n",
    "with open('hrrr_f12_Newton_GA.txt') as f:\n",
    "    lst=[line.split()[1] for line in f]\n",
    "    temp=[]\n",
    "    for i in lst:\n",
    "        new=i.replace(',',\"\")\n",
    "        temp.append(new)\n",
    "    temp.pop(0)\n",
    "    temp=[float(x) for x in temp]\n",
    "    temp=temp[2778:2803]\n",
    "#     x = np.array(temp)\n",
    "#     temp = ma.masked_array(x, mask=[0, 0, 0, 0, 0,0,1,0,0,0,0,0,0,0,0,0,0,0,0,0,0,0,0,0,0])\n",
    "    #temp=temp[2015:2063]\n",
    "    print(temp)\n",
    "    ##prfloat(len(temp))\n",
    "#full time period is [2015:2112]"
   ]
  },
  {
   "cell_type": "code",
   "execution_count": 216,
   "id": "b2f733b9",
   "metadata": {},
   "outputs": [
    {
     "name": "stdout",
     "output_type": "stream",
     "text": [
      "[18.0, 16.1, 16.0, 15.6, 14.95, 14.0, 14.3, 15.7, 17.65, 19.7, 21.700000000000003, 23.65, 26.05, 26.65, 27.200000000000003, 27.299999999999997, 26.95, 26.1, 22.200000000000003, 19.6, 17.2, 15.9, 15.399999999999999, 13.85, 13.2]\n"
     ]
    }
   ],
   "source": [
    "#Air Temp CRN:\n",
    "with open('CRNS0101-05-2022-GA_Newton_11_SW.txt') as f:\n",
    "    lst=[line.split()[8] for line in f]\n",
    "    \n",
    "    a=(float(lst[33479])+float(lst[33480]))/2\n",
    "    b=(float(lst[33491])+float(lst[33492]))/2\n",
    "    c=(float(lst[33503])+float(lst[33504]))/2\n",
    "    d=(float(lst[33515])+float(lst[33516]))/2\n",
    "    e=(float(lst[33527])+float(lst[33528]))/2\n",
    "    f=(float(lst[33539])+float(lst[33540]))/2\n",
    "    g=(float(lst[33551])+float(lst[33552]))/2\n",
    "    h=(float(lst[33563])+float(lst[33564]))/2\n",
    "    i=(float(lst[33575])+float(lst[33576]))/2\n",
    "    j=(float(lst[33587])+float(lst[33588]))/2\n",
    "    k=(float(lst[33599])+float(lst[33600]))/2\n",
    "    l=(float(lst[33611])+float(lst[33612]))/2\n",
    "    m=(float(lst[33623])+float(lst[33624]))/2\n",
    "    n=(float(lst[33635])+float(lst[33636]))/2\n",
    "    o=(float(lst[33647])+float(lst[33648]))/2\n",
    "    p=(float(lst[33659])+float(lst[33660]))/2\n",
    "    q=(float(lst[33671])+float(lst[33672]))/2\n",
    "    r=(float(lst[33683])+float(lst[33684]))/2\n",
    "    s=(float(lst[33695])+float(lst[33696]))/2\n",
    "    t=(float(lst[33707])+float(lst[33708]))/2\n",
    "    u=(float(lst[33719])+float(lst[33720]))/2\n",
    "    v=(float(lst[33731])+float(lst[33732]))/2\n",
    "    w=(float(lst[33743])+float(lst[33744]))/2\n",
    "    x=(float(lst[33755])+float(lst[33756]))/2\n",
    "    y=(float(lst[33767])+float(lst[33768]))/2\n",
    "    \n",
    "    temp_crn=[a,b,c,d,e,f,g,h,i,j,k,l,m,n,o,p,q,r,s,t,u,v,w,x,y]\n",
    "    print(temp_crn)"
   ]
  },
  {
   "cell_type": "code",
   "execution_count": 217,
   "id": "53f1a23a",
   "metadata": {},
   "outputs": [
    {
     "name": "stdout",
     "output_type": "stream",
     "text": [
      "[0.4750000000000014, 1.6129999999999995, 1.2273999999999994, 0.531900000000002, 0.6178000000000008, 1.5965000000000007, 1.9429999999999978, 2.1646, 2.320400000000003, 2.7449000000000012, 3.3306999999999967, 3.0317000000000007, 2.201699999999999, 2.1670000000000016, 1.9706999999999972, 2.156200000000002, 1.9797000000000011, 1.9345999999999997, 3.0151999999999965, 3.2484, 4.163800000000002, 4.104999999999999, 3.7265000000000015, 4.1408000000000005, 3.693999999999999]\n"
     ]
    }
   ],
   "source": [
    "difference6_newt = []\n",
    "\n",
    "zip_object = zip(temp, temp_crn)\n",
    "for temp_i, temp_crn_i in zip_object:\n",
    "    difference6_newt.append(temp_i-temp_crn_i)\n",
    "\n",
    "print(difference6_newt)"
   ]
  },
  {
   "cell_type": "code",
   "execution_count": 218,
   "id": "8a134c48",
   "metadata": {},
   "outputs": [],
   "source": [
    "hour=[6,7,8,9,10,11,12,13,14,15,16,17,18,19,20,21,22,23,0,1,2,3,4,5,6]\n",
    "#prfloat(len(hour))"
   ]
  },
  {
   "cell_type": "code",
   "execution_count": 219,
   "id": "45def68f",
   "metadata": {},
   "outputs": [
    {
     "name": "stdout",
     "output_type": "stream",
     "text": [
      "range(0, 25)\n"
     ]
    }
   ],
   "source": [
    "xs = range(len(hour))\n",
    "print(xs)"
   ]
  },
  {
   "cell_type": "code",
   "execution_count": 220,
   "id": "d5fd370b",
   "metadata": {},
   "outputs": [
    {
     "name": "stdout",
     "output_type": "stream",
     "text": [
      "[ 2.52215167  2.92004667  2.68522333  2.883455    2.82060667  2.63448333\n",
      "  2.203105    1.80585273  0.65191667 -0.67639583 -1.37620833 -1.64510833\n",
      " -1.46755833 -1.22526667 -1.253425   -1.32744167 -1.205275   -1.53731667\n",
      " -0.67419167  0.2221      1.04428167  2.12016333  2.55133583  2.37214333\n",
      "  2.55198333]\n",
      "[1.90372072 2.38637792 2.20532519 2.23193048 2.32257284 2.96218499\n",
      " 3.0327858  2.78744557 2.29834538 1.63986285 1.62267027 1.96019277\n",
      " 2.29496425 2.15290703 2.05818441 2.11088115 1.95215643 1.99987521\n",
      " 2.29092673 3.20022379 2.98293248 2.39986892 2.89745728 2.77555089\n",
      " 2.97275641]\n"
     ]
    },
    {
     "name": "stderr",
     "output_type": "stream",
     "text": [
      "C:\\Users\\panwalaf\\AppData\\Local\\Temp\\ipykernel_20136\\2360887579.py:3: UserWarning: Warning: converting a masked element to nan.\n",
      "  c1 = np.array([difference1_sal,difference1_bat,difference1_laf,difference1_mon,difference1_hol,difference1_new,difference1_gai,difference1_fai,difference1_sel,difference1_bow,difference1_gad,difference1_newt])\n",
      "C:\\Users\\panwalaf\\AppData\\Local\\Temp\\ipykernel_20136\\2360887579.py:8: UserWarning: Warning: converting a masked element to nan.\n",
      "  b1 = np.array([difference1_sal,difference1_bat,difference1_laf,difference1_mon,difference1_hol,difference1_new,difference1_gai,difference1_fai,difference1_sel,difference1_bow,difference1_gad,difference1_newt])\n"
     ]
    },
    {
     "data": {
      "text/plain": [
       "25"
      ]
     },
     "execution_count": 220,
     "metadata": {},
     "output_type": "execute_result"
    }
   ],
   "source": [
    "# data = np.array([difference1_sal,difference1_sel,difference1_mon])\n",
    "# np.ma.average(data, axis=0)\n",
    "c1 = np.array([difference1_sal,difference1_bat,difference1_laf,difference1_mon,difference1_hol,difference1_new,difference1_gai,difference1_fai,difference1_sel,difference1_bow,difference1_gad,difference1_newt])\n",
    "c1=np.nanmean(c1, axis=0)\n",
    "print(c1)\n",
    "len(c1)\n",
    "\n",
    "b1 = np.array([difference1_sal,difference1_bat,difference1_laf,difference1_mon,difference1_hol,difference1_new,difference1_gai,difference1_fai,difference1_sel,difference1_bow,difference1_gad,difference1_newt])\n",
    "b1=np.nanstd(b1, axis=0)\n",
    "print(b1)\n",
    "len(b1)"
   ]
  },
  {
   "cell_type": "code",
   "execution_count": 221,
   "id": "0400ce89",
   "metadata": {
    "scrolled": false
   },
   "outputs": [],
   "source": [
    "# def mean(numbers):\n",
    "#     return float(sum(numbers)) / max(len(numbers), 1)\n",
    "\n",
    "# # difference1_sel[17]=None\n",
    "# # difference1_sel[18]=None\n",
    "# # difference1_sel[19]=None\n",
    "# # difference1_sel[20]=None\n",
    "# c1 = [mean(i) for i in zip(difference1_sal,difference1_bat,difference1_laf,difference1_mon,difference1_hol,difference1_new,difference1_gai,difference1_fai,difference1_sel,difference1_bow,difference1_gad,difference1_newt)]\n",
    "# #difference1_bow[6]=0\n",
    "# b1 = [np.std(i) for i in zip(difference1_sal,difference1_bat,difference1_laf,difference1_mon,difference1_hol,difference1_new,difference1_gai,difference1_fai,difference1_sel,difference1_bow,difference1_gad,difference1_newt)]\n",
    "# print (c1)\n",
    "# #prfloat(len(c1))\n",
    "# print(b1)\n",
    "# #prfloat(len(b1))"
   ]
  },
  {
   "cell_type": "code",
   "execution_count": 222,
   "id": "7d6e3e43",
   "metadata": {},
   "outputs": [
    {
     "data": {
      "image/png": "[encoded data removed]",
      "text/plain": [
       "<Figure size 792x396 with 1 Axes>"
      ]
     },
     "metadata": {},
     "output_type": "display_data"
    }
   ],
   "source": [
    "plt.style.use('seaborn-whitegrid')\n",
    "plt.rcParams[\"figure.figsize\"] = [11.00, 5.50]\n",
    "plt.rcParams[\"figure.autolayout\"] = True\n",
    "plt.yticks(np.arange(-8,10,2))\n",
    "plt.ylim(-8,8)\n",
    "# c[6]=None\n",
    "# b[6]=None\n",
    "\n",
    "plt.plot(xs,c1,c=\"black\")\n",
    "plt.errorbar(xs,c1,yerr=b1,linestyle='None', marker='s')\n",
    "# c[6]=None\n",
    "# b[6]=None\n",
    "\n",
    "plt.title(\"12-hr Avg. MBE All Stations\")\n",
    "plt.xlabel(\"UTC Hour\")\n",
    "plt.ylabel(\"MBE Air Temperature (C)\")\n",
    "#plt.plot(hour,c)\n",
    "#plt.errorbar(hour,c,yerr=b,ecolor='r',elinewidth=5,fmt='s',color='k')\n",
    "#plt.grid()\n",
    "#plt.xticks(np.arange(min(xs), max(xs)+1, 1.0))\n",
    "plt.xticks(xs, hour)\n",
    "plt.show()\n",
    "#plt.axvspan(-4, 4, color='green', alpha=0.2, lw=0)"
   ]
  },
  {
   "cell_type": "code",
   "execution_count": 223,
   "id": "d14691f0",
   "metadata": {},
   "outputs": [
    {
     "name": "stdout",
     "output_type": "stream",
     "text": [
      "[ 1.69257381  1.65119282  1.75428784  1.49734292  1.27772042  1.293874\n",
      "  1.09248836  0.569371    0.52160648  0.33305833  0.09259583 -0.01432167\n",
      " -0.16456083  0.196805    0.08035167  0.1874275  -0.01374167 -0.27493583\n",
      " -0.28032917  0.91174833  1.20060833  1.489045    1.27651417  0.85173667\n",
      "  0.57432083]\n",
      "[1.49145438 1.88855054 1.65741183 1.80807994 2.01790445 1.93551542\n",
      " 1.85528142 1.4119972  0.99774244 1.24026898 1.39437256 1.61422709\n",
      " 1.45675965 1.52204921 1.41558775 1.25758035 1.17258682 1.054499\n",
      " 1.25222668 1.66277761 1.94092747 2.35476512 2.49210594 2.41080236\n",
      " 2.53623086]\n"
     ]
    },
    {
     "data": {
      "text/plain": [
       "25"
      ]
     },
     "execution_count": 223,
     "metadata": {},
     "output_type": "execute_result"
    }
   ],
   "source": [
    "c2 = np.array([difference2_sal,difference2_bat,difference2_laf,difference2_mon,difference2_hol,difference2_new,difference2_gai,difference2_fai,difference2_sel,difference2_bow,difference2_gad,difference2_newt])\n",
    "c2=np.nanmean(c2, axis=0)\n",
    "print(c2)\n",
    "len(c2)\n",
    "\n",
    "b2 = np.array([difference2_sal,difference2_bat,difference2_laf,difference2_mon,difference2_hol,difference2_new,difference2_gai,difference2_fai,difference2_sel,difference2_bow,difference2_gad,difference2_newt])\n",
    "b2=np.nanstd(b2, axis=0)\n",
    "print(b2)\n",
    "len(b2)"
   ]
  },
  {
   "cell_type": "code",
   "execution_count": 224,
   "id": "4c8ac8a3",
   "metadata": {},
   "outputs": [
    {
     "data": {
      "image/png": "[encoded data removed]",
      "text/plain": [
       "<Figure size 792x396 with 1 Axes>"
      ]
     },
     "metadata": {},
     "output_type": "display_data"
    }
   ],
   "source": [
    "plt.style.use('seaborn-whitegrid')\n",
    "plt.rcParams[\"figure.figsize\"] = [11.00, 5.50]\n",
    "plt.yticks(np.arange(-8,10,2))\n",
    "plt.ylim(-8,8)\n",
    "# c[6]=None\n",
    "# b[6]=None\n",
    "\n",
    "plt.plot(xs,c2,c=\"red\")\n",
    "plt.errorbar(xs,c2,c=\"red\",yerr=b1,linestyle='None', marker='s')\n",
    "# c[6]=None\n",
    "# b[6]=None\n",
    "\n",
    "plt.title(\"12-hr Avg. MBE All Stations\")\n",
    "plt.xlabel(\"UTC Hour\")\n",
    "plt.ylabel(\"MBE Air Temperature (C)\")\n",
    "#plt.plot(hour,c)\n",
    "#plt.errorbar(hour,c,yerr=b,ecolor='r',elinewidth=5,fmt='s',color='k')\n",
    "#plt.grid()\n",
    "#plt.xticks(np.arange(min(xs), max(xs)+1, 1.0))\n",
    "plt.xticks(xs, hour)\n",
    "plt.show()\n",
    "#plt.axvspan(-4, 4, color='green', alpha=0.2, lw=0)"
   ]
  },
  {
   "cell_type": "code",
   "execution_count": 225,
   "id": "e0b94a04",
   "metadata": {},
   "outputs": [
    {
     "name": "stdout",
     "output_type": "stream",
     "text": [
      "[ 3.18920333  3.24256083  3.2322675   3.35334167  3.45787667  3.52147667\n",
      "  3.693525    2.45942167  0.950245   -0.47530833 -1.06421667 -1.126075\n",
      " -1.05011667 -0.71385    -0.68984167 -0.433175   -0.26469167 -0.35490833\n",
      "  0.653125    1.98696667  2.08331667  2.22065167  2.64319333  2.99941167\n",
      "  2.66723167]\n",
      "[2.38058774 2.71224873 2.58614986 2.52448663 2.19522643 2.53334961\n",
      " 2.43412761 2.0366229  1.38710773 1.53853673 1.30901157 1.30932279\n",
      " 1.15734558 1.17035318 1.15028821 1.23199665 1.53089246 1.75742071\n",
      " 1.794756   1.70073003 1.55384129 2.708594   2.77703926 2.92537802\n",
      " 2.88163721]\n"
     ]
    },
    {
     "data": {
      "text/plain": [
       "25"
      ]
     },
     "execution_count": 225,
     "metadata": {},
     "output_type": "execute_result"
    }
   ],
   "source": [
    "c3 = np.array([difference3_sal,difference3_bat,difference3_laf,difference3_mon,difference3_hol,difference3_new,difference3_gai,difference3_fai,difference3_sel,difference3_bow,difference3_gad,difference3_newt])\n",
    "c3=np.nanmean(c3, axis=0)\n",
    "print(c3)\n",
    "len(c3)\n",
    "\n",
    "b3 = np.array([difference3_sal,difference3_bat,difference3_laf,difference3_mon,difference3_hol,difference3_new,difference3_gai,difference3_fai,difference3_sel,difference3_bow,difference3_gad,difference3_newt])\n",
    "b3=np.nanstd(b3, axis=0)\n",
    "print(b3)\n",
    "len(b3)"
   ]
  },
  {
   "cell_type": "code",
   "execution_count": 226,
   "id": "0d8bef30",
   "metadata": {
    "scrolled": false
   },
   "outputs": [],
   "source": [
    "# def mean(numbers):\n",
    "#     return float(sum(numbers)) / max(len(numbers), 1)\n",
    "\n",
    "# # difference1_sel[17]=0\n",
    "# # difference1_sel[18]=0\n",
    "# # difference1_sel[19]=0\n",
    "# # difference1_sel[20]=0\n",
    "# c3 = [mean(i) for i in zip(difference3_sal,difference3_bat,difference3_laf,difference3_mon,difference3_hol,difference3_new,difference3_gai,difference3_fai,difference3_sel,difference3_bow,difference3_gad,difference3_newt)]\n",
    "# #difference1_bow[6]=0\n",
    "# b3 = [np.std(i) for i in zip(difference3_sal,difference3_bat,difference3_laf,difference3_mon,difference3_hol,difference3_new,difference3_gai,difference3_fai,difference3_sel,difference3_bow,difference3_gad,difference3_newt)]\n",
    "# print (c3)\n",
    "# #prfloat(len(c3))\n",
    "# print(b3)\n",
    "# #prfloat(len(b3))"
   ]
  },
  {
   "cell_type": "code",
   "execution_count": 227,
   "id": "00a5e783",
   "metadata": {},
   "outputs": [
    {
     "data": {
      "image/png": "[encoded data removed]",
      "text/plain": [
       "<Figure size 792x396 with 1 Axes>"
      ]
     },
     "metadata": {},
     "output_type": "display_data"
    }
   ],
   "source": [
    "plt.style.use('seaborn-whitegrid')\n",
    "plt.rcParams[\"figure.figsize\"] = [11.00, 5.50]\n",
    "plt.rcParams[\"figure.autolayout\"] = True\n",
    "plt.yticks(np.arange(-8,10,2))\n",
    "plt.ylim(-8,8)\n",
    "# c[6]=None\n",
    "# b[6]=None\n",
    "\n",
    "plt.plot(xs,c3,c=\"green\")\n",
    "plt.errorbar(xs,c3,c=\"green\",yerr=b3,linestyle='None', marker='s')\n",
    "# c[6]=None\n",
    "# b[6]=None\n",
    "\n",
    "plt.title(\"12-hr Avg. MBE All Stations\")\n",
    "plt.xlabel(\"UTC Hour\")\n",
    "plt.ylabel(\"MBE Air Temperature (C)\")\n",
    "#plt.plot(hour,c)\n",
    "#plt.errorbar(hour,c,yerr=b,ecolor='r',elinewidth=5,fmt='s',color='k')\n",
    "#plt.grid()\n",
    "#plt.xticks(np.arange(min(xs), max(xs)+1, 1.0))\n",
    "plt.xticks(xs, hour)\n",
    "plt.show()\n",
    "#plt.axvspan(-4, 4, color='green', alpha=0.2, lw=0)"
   ]
  },
  {
   "cell_type": "code",
   "execution_count": 228,
   "id": "a2b4f439",
   "metadata": {},
   "outputs": [
    {
     "name": "stdout",
     "output_type": "stream",
     "text": [
      "[ 3.13723333  2.996425    2.87098333  3.104385    2.689585    2.73809667\n",
      "  2.37953     1.1625125  -0.124035   -0.45072083 -0.45651667 -0.39556667\n",
      "  0.119675    0.25080833  0.40360833  0.431225    0.44604167  0.66985833\n",
      "  0.71453333  1.67810833  1.53337417  1.8556575   2.02187667  1.95582333\n",
      "  2.06882333]\n",
      "[1.57105143 1.70102333 1.97380858 1.94342815 1.65026603 1.65899234\n",
      " 1.95477015 1.74517571 1.19266197 1.26827124 1.49625255 1.44308998\n",
      " 1.31411731 1.14672834 1.08472417 1.4594263  1.38007075 1.10858931\n",
      " 1.23717729 2.2558977  2.13549665 2.16470606 2.18274514 2.58937311\n",
      " 2.14804932]\n"
     ]
    },
    {
     "data": {
      "text/plain": [
       "25"
      ]
     },
     "execution_count": 228,
     "metadata": {},
     "output_type": "execute_result"
    }
   ],
   "source": [
    "c4 = np.array([difference4_sal,difference4_bat,difference4_laf,difference4_mon,difference4_hol,difference4_new,difference4_gai,difference4_fai,difference4_sel,difference4_bow,difference4_gad,difference4_newt])\n",
    "c4=np.nanmean(c4, axis=0)\n",
    "print(c4)\n",
    "len(c4)\n",
    "\n",
    "b4 = np.array([difference4_sal,difference4_bat,difference4_laf,difference4_mon,difference4_hol,difference4_new,difference4_gai,difference4_fai,difference4_sel,difference4_bow,difference4_gad,difference4_newt])\n",
    "b4=np.nanstd(b4, axis=0)\n",
    "print(b4)\n",
    "len(b4)"
   ]
  },
  {
   "cell_type": "code",
   "execution_count": 229,
   "id": "b1774c6c",
   "metadata": {
    "scrolled": false
   },
   "outputs": [],
   "source": [
    "# def mean(numbers):\n",
    "#     return float(sum(numbers)) / max(len(numbers), 1)\n",
    "\n",
    "# # difference1_sel[17]=0\n",
    "# # difference1_sel[18]=0\n",
    "# # difference1_sel[19]=0\n",
    "# # difference1_sel[20]=0\n",
    "# c4 = [mean(i) for i in zip(difference4_sal,difference4_bat,difference4_laf,difference4_mon,difference4_hol,difference4_new,difference4_gai,difference4_fai,difference4_sel,difference4_bow,difference4_gad,difference4_newt)]\n",
    "# #difference1_bow[6]=0\n",
    "# b4 = [np.std(i) for i in zip(difference4_sal,difference4_bat,difference4_laf,difference4_mon,difference4_hol,difference4_new,difference4_gai,difference4_fai,difference4_sel,difference4_bow,difference4_gad,difference4_newt)]\n",
    "# print (c4)\n",
    "# #prfloat(len(c4))\n",
    "# print(b4)\n",
    "# #prfloat(len(b4))"
   ]
  },
  {
   "cell_type": "code",
   "execution_count": 230,
   "id": "e70a6cef",
   "metadata": {},
   "outputs": [
    {
     "data": {
      "image/png": "[encoded data removed]",
      "text/plain": [
       "<Figure size 792x396 with 1 Axes>"
      ]
     },
     "metadata": {},
     "output_type": "display_data"
    }
   ],
   "source": [
    "plt.style.use('seaborn-whitegrid')\n",
    "plt.rcParams[\"figure.figsize\"] = [11.00, 5.50]\n",
    "plt.rcParams[\"figure.autolayout\"] = True\n",
    "plt.yticks(np.arange(-8,10,2))\n",
    "plt.ylim(-8,8)\n",
    "# c[6]=None\n",
    "# b[6]=None\n",
    "\n",
    "plt.plot(xs,c4,c=\"orange\")\n",
    "plt.errorbar(xs,c4,c=\"orange\",yerr=b4,linestyle='None', marker='s')\n",
    "# c[6]=None\n",
    "# b[6]=None\n",
    "\n",
    "plt.title(\"12-hr Avg. MBE All Stations\")\n",
    "plt.xlabel(\"UTC Hour\")\n",
    "plt.ylabel(\"MBE Air Temperature (C)\")\n",
    "#plt.plot(hour,c)\n",
    "#plt.errorbar(hour,c,yerr=b,ecolor='r',elinewidth=5,fmt='s',color='k')\n",
    "#plt.grid()\n",
    "#plt.xticks(np.arange(min(xs), max(xs)+1, 1.0))\n",
    "plt.xticks(xs, hour)\n",
    "plt.show()\n",
    "#plt.axvspan(-4, 4, color='green', alpha=0.2, lw=0)"
   ]
  },
  {
   "cell_type": "code",
   "execution_count": 231,
   "id": "410bac86",
   "metadata": {},
   "outputs": [
    {
     "name": "stdout",
     "output_type": "stream",
     "text": [
      "[ 0.40815917  0.77426717  0.82411625  1.35886933  1.54139448  1.5696915\n",
      "  0.93813101 -0.13460083 -0.28600417 -0.36379167  0.004265   -0.03992833\n",
      "  0.15858333  0.174175    0.23344167  0.1591     -0.034175   -0.05511667\n",
      "  0.97330833  2.17709333  2.53294     2.48435667  2.22945417  1.94751833\n",
      "  1.8149075 ]\n",
      "[1.3386785  1.11390343 1.23458703 1.16003525 1.47494063 1.75122654\n",
      " 1.64345967 0.88149803 0.82442072 0.89793086 1.03254955 1.16671963\n",
      " 1.41964301 1.45215469 1.54976862 1.55886243 1.68887386 1.6613313\n",
      " 1.4152946  1.50692136 1.82790101 2.05056325 1.97419663 2.18193295\n",
      " 1.93764093]\n"
     ]
    },
    {
     "data": {
      "text/plain": [
       "25"
      ]
     },
     "execution_count": 231,
     "metadata": {},
     "output_type": "execute_result"
    }
   ],
   "source": [
    "# data = np.array([difference1_sal,difference1_sel,difference1_mon])\n",
    "# np.ma.average(data, axis=0)\n",
    "c5 = np.array([difference5_sal,difference5_bat,difference5_laf,difference5_mon,difference5_hol,difference5_new,difference5_gai,difference5_fai,difference5_sel,difference5_bow,difference5_gad,difference5_newt])\n",
    "c5=np.nanmean(c5, axis=0)\n",
    "print(c5)\n",
    "len(c5)\n",
    "\n",
    "b5 = np.array([difference5_sal,difference5_bat,difference5_laf,difference5_mon,difference5_hol,difference5_new,difference5_gai,difference5_fai,difference5_sel,difference5_bow,difference5_gad,difference5_newt])\n",
    "b5=np.nanstd(b5, axis=0)\n",
    "print(b5)\n",
    "len(b5)"
   ]
  },
  {
   "cell_type": "code",
   "execution_count": 232,
   "id": "ac07d6b1",
   "metadata": {},
   "outputs": [
    {
     "data": {
      "image/png": "[encoded data removed]",
      "text/plain": [
       "<Figure size 792x396 with 1 Axes>"
      ]
     },
     "metadata": {},
     "output_type": "display_data"
    }
   ],
   "source": [
    "plt.style.use('seaborn-whitegrid')\n",
    "plt.rcParams[\"figure.figsize\"] = [11.00, 5.50]\n",
    "plt.rcParams[\"figure.autolayout\"] = True\n",
    "plt.yticks(np.arange(-8,10,2))\n",
    "plt.ylim(-8,8)\n",
    "# c[6]=None\n",
    "# b[6]=None\n",
    "\n",
    "plt.plot(xs,c5,c=\"m\")\n",
    "plt.errorbar(xs,c5,c=\"m\",yerr=b1,linestyle='None', marker='s')\n",
    "# c[6]=None\n",
    "# b[6]=None\n",
    "\n",
    "plt.title(\"12-hr Avg. MBE All Stations\")\n",
    "plt.xlabel(\"UTC Hour\")\n",
    "plt.ylabel(\"MBE Air Temperature (C)\")\n",
    "#plt.plot(hour,c)\n",
    "#plt.errorbar(hour,c,yerr=b,ecolor='r',elinewidth=5,fmt='s',color='k')\n",
    "#plt.grid()\n",
    "#plt.xticks(np.arange(min(xs), max(xs)+1, 1.0))\n",
    "plt.xticks(xs, hour)\n",
    "plt.show()\n",
    "#plt.axvspan(-4, 4, color='green', alpha=0.2, lw=0)"
   ]
  },
  {
   "cell_type": "code",
   "execution_count": 233,
   "id": "9b993a8f",
   "metadata": {},
   "outputs": [
    {
     "name": "stdout",
     "output_type": "stream",
     "text": [
      "[1.798975   1.9026     1.62947833 1.78709083 2.10112    2.87777\n",
      " 2.23150833 1.428135   0.76519167 0.64594167 0.50674167 0.61815833\n",
      " 0.70899167 0.738875   0.79778333 0.73224167 0.61824167 0.67105833\n",
      " 1.530825   2.920275   3.2138     3.25604167 3.27233333 3.393925\n",
      " 3.21483333]\n",
      "[1.86412683 1.81604716 1.81531263 1.86980029 1.64321753 1.38636149\n",
      " 1.49621503 1.56214782 1.22327108 1.28001931 1.55483502 1.42737793\n",
      " 1.22060711 1.17892877 1.06759603 1.08171905 1.08512022 1.18926906\n",
      " 1.3160975  2.03154245 2.42323282 2.4949191  2.36118975 2.57538996\n",
      " 2.4480984 ]\n"
     ]
    },
    {
     "data": {
      "text/plain": [
       "25"
      ]
     },
     "execution_count": 233,
     "metadata": {},
     "output_type": "execute_result"
    }
   ],
   "source": [
    "# data = np.array([difference1_sal,difference1_sel,difference1_mon])\n",
    "# np.ma.average(data, axis=0)\n",
    "c6 = np.array([difference6_sal,difference6_bat,difference6_laf,difference6_mon,difference6_hol,difference6_new,difference6_gai,difference6_fai,difference6_sel,difference6_bow,difference6_gad,difference6_newt])\n",
    "c6=np.nanmean(c6, axis=0)\n",
    "print(c6)\n",
    "len(c6)\n",
    "\n",
    "b6 = np.array([difference6_sal,difference6_bat,difference6_laf,difference6_mon,difference6_hol,difference6_new,difference6_gai,difference6_fai,difference6_sel,difference6_bow,difference6_gad,difference6_newt])\n",
    "b6=np.nanstd(b6, axis=0)\n",
    "print(b6)\n",
    "len(b6)"
   ]
  },
  {
   "cell_type": "code",
   "execution_count": 234,
   "id": "ec1cde35",
   "metadata": {},
   "outputs": [],
   "source": [
    "# c6=[1.69515417 ,1.70709167, 1.26736333, 1.34882833 ,1.49238333, 1.87774667,\n",
    "#         np.nan, 0.48735417, 0.05486667, 0.14599167, 0.066825 ,  0.507175,\n",
    "#  0.58094167 ,0.65081667, 0.77076667 ,0.55695 ,   0.619625,   0.856975,\n",
    "#  2.04933333 ,3.60505 ,   3.39469167 ,3.1228  ,   2.84731667, 2.81386667,\n",
    "#  2.46251667]\n",
    "# print(c6)\n",
    "\n",
    "# b6=[1.92558988, 1.75340783 ,1.69348421, 1.63957646 ,1.37669294 ,1.24622615,\n",
    "#         np.nan ,1.54066215, 1.32796772 ,1.31405125 ,1.3790577 , 1.21399312,\n",
    "#  0.96395262 ,1.05115058, 0.95782595, 0.88687625 ,0.87859566, 0.90294837,\n",
    "#  1.06229573, 1.91024172 ,2.20450804 ,2.17887586, 1.91778161, 2.1142395,\n",
    "#  1.85524898]\n",
    "# print(b6)"
   ]
  },
  {
   "cell_type": "code",
   "execution_count": 235,
   "id": "cdb8e9ef",
   "metadata": {},
   "outputs": [
    {
     "data": {
      "image/png": "[encoded data removed]",
      "text/plain": [
       "<Figure size 792x396 with 1 Axes>"
      ]
     },
     "metadata": {},
     "output_type": "display_data"
    }
   ],
   "source": [
    "plt.style.use('seaborn-whitegrid')\n",
    "plt.rcParams[\"figure.figsize\"] = [11.00, 5.50]\n",
    "plt.rcParams[\"figure.autolayout\"] = True\n",
    "plt.yticks(np.arange(-8,10,2))\n",
    "plt.ylim(-8,8)\n",
    "# c[6]=None\n",
    "# b[6]=None\n",
    "\n",
    "plt.plot(xs,c6,c=\"c\")\n",
    "plt.errorbar(xs,c6,c=\"c\",yerr=b6,linestyle='None', marker='s')\n",
    "# c[6]=None\n",
    "# b[6]=None\n",
    "\n",
    "plt.title(\"12-hr Avg. MBE All Stations\")\n",
    "plt.xlabel(\"UTC Hour\")\n",
    "plt.ylabel(\"MBE Air Temperature (C)\")\n",
    "#plt.plot(hour,c)\n",
    "#plt.errorbar(hour,c,yerr=b,ecolor='r',elinewidth=5,fmt='s',color='k')\n",
    "#plt.grid()\n",
    "#plt.xticks(np.arange(min(xs), max(xs)+1, 1.0))\n",
    "plt.xticks(xs, hour)\n",
    "plt.show()\n",
    "#plt.axvspan(-4, 4, color='green', alpha=0.2, lw=0)"
   ]
  },
  {
   "cell_type": "code",
   "execution_count": 236,
   "id": "240eafe4",
   "metadata": {},
   "outputs": [
    {
     "data": {
      "image/png": "[encoded data removed]",
      "text/plain": [
       "<Figure size 792x396 with 1 Axes>"
      ]
     },
     "metadata": {},
     "output_type": "display_data"
    }
   ],
   "source": [
    "plt.style.use('seaborn-whitegrid')\n",
    "plt.rcParams[\"figure.figsize\"] = [11.00, 5.50]\n",
    "plt.rcParams[\"figure.autolayout\"] = True\n",
    "plt.yticks(np.arange(-8,10,2))\n",
    "plt.ylim(-8,8)\n",
    "\n",
    "plt.plot(xs,c1,c=\"b\",label=\"IOP 1\")\n",
    "plt.errorbar(xs,c1,c=\"b\",yerr=b1,linestyle='None', marker='s')\n",
    "\n",
    "plt.plot(xs,c2,c=\"r\",label=\"IOP 2\")\n",
    "plt.errorbar(xs,c2,c=\"r\",yerr=b2,linestyle='None', marker='s')\n",
    "\n",
    "plt.plot(xs,c3,c=\"green\")\n",
    "plt.errorbar(xs,c3,c=\"green\",yerr=b3,linestyle='None', marker='s')\n",
    "\n",
    "plt.plot(xs,c4,c=\"orange\")\n",
    "plt.errorbar(xs,c4,c=\"orange\",yerr=b4,linestyle='None', marker='s')\n",
    "\n",
    "plt.plot(xs,c5,c=\"m\")\n",
    "plt.errorbar(xs,c5,c=\"m\",yerr=b5,linestyle='None', marker='s')\n",
    "\n",
    "plt.plot(xs,c6,c=\"c\")\n",
    "plt.errorbar(xs,c6,c=\"c\",yerr=b6,linestyle='None', marker='s')\n",
    "\n",
    "plt.title(\"12-hr Avg. MBE All Stations\")\n",
    "plt.xlabel(\"UTC Hour\")\n",
    "plt.ylabel(\"MBE Air Temperature (C)\")\n",
    "#plt.plot(hour,c)\n",
    "#plt.errorbar(hour,c,yerr=b,ecolor='r',elinewidth=5,fmt='s',color='k')\n",
    "#plt.grid()\n",
    "plt.xticks(xs, hour)\n",
    "plt.legend([\"IOP 1\", \"IOP 2\",\"IOP 3\",\"IOP 4\",\"IOP 5\",\"IOP 6\"], loc =\"lower right\")\n",
    "plt.show()"
   ]
  }
 ],
 "metadata": {
  "kernelspec": {
   "display_name": "Python 3 (ipykernel)",
   "language": "python",
   "name": "python3"
  },
  "language_info": {
   "codemirror_mode": {
    "name": "ipython",
    "version": 3
   },
   "file_extension": ".py",
   "mimetype": "text/x-python",
   "name": "python",
   "nbconvert_exporter": "python",
   "pygments_lexer": "ipython3",
   "version": "3.9.12"
  }
 },
 "nbformat": 4,
 "nbformat_minor": 5
}
